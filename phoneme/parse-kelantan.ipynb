{
 "cells": [
  {
   "cell_type": "code",
   "execution_count": 1,
   "id": "db016914",
   "metadata": {},
   "outputs": [],
   "source": [
    "import os\n",
    "os.environ['CUDA_VISIBLE_DEVICES'] = ''"
   ]
  },
  {
   "cell_type": "code",
   "execution_count": 2,
   "id": "75078efb",
   "metadata": {},
   "outputs": [],
   "source": [
    "import json\n",
    "import pandas as pd\n",
    "from bs4 import BeautifulSoup"
   ]
  },
  {
   "cell_type": "code",
   "execution_count": 4,
   "id": "0716f25e",
   "metadata": {},
   "outputs": [],
   "source": [
    "# !wget https://raw.githubusercontent.com/huseinzol05/malay-dataset/master/dictionary/dialect/kelantan.csv"
   ]
  },
  {
   "cell_type": "code",
   "execution_count": 5,
   "id": "3ff16625",
   "metadata": {
    "scrolled": true
   },
   "outputs": [
    {
     "data": {
      "text/html": [
       "<div>\n",
       "<style scoped>\n",
       "    .dataframe tbody tr th:only-of-type {\n",
       "        vertical-align: middle;\n",
       "    }\n",
       "\n",
       "    .dataframe tbody tr th {\n",
       "        vertical-align: top;\n",
       "    }\n",
       "\n",
       "    .dataframe thead th {\n",
       "        text-align: right;\n",
       "    }\n",
       "</style>\n",
       "<table border=\"1\" class=\"dataframe\">\n",
       "  <thead>\n",
       "    <tr style=\"text-align: right;\">\n",
       "      <th></th>\n",
       "      <th>0</th>\n",
       "      <th>1</th>\n",
       "      <th>2</th>\n",
       "      <th>3</th>\n",
       "      <th>4</th>\n",
       "      <th>5</th>\n",
       "      <th>6</th>\n",
       "    </tr>\n",
       "  </thead>\n",
       "  <tbody>\n",
       "    <tr>\n",
       "      <th>0</th>\n",
       "      <td>cero</td>\n",
       "      <td>[tS«.Ä]</td>\n",
       "      <td>kata adjektif</td>\n",
       "      <td>1.      berkenaan warna yang pudar.</td>\n",
       "      <td>1. Te tu napok cero, tok sedak la tu.</td>\n",
       "      <td>[tE tu nA.p/ tS«.Ä t/ se.dA/ lA tu] 2</td>\n",
       "      <td>1. Teh tu nampak pudar, tak sedaplah tu.</td>\n",
       "    </tr>\n",
       "    <tr>\n",
       "      <th>1</th>\n",
       "      <td>andah</td>\n",
       "      <td>[An.dAh]</td>\n",
       "      <td>kata kerja</td>\n",
       "      <td>1. meneruskan (pekerjaan yang besar, perlawana...</td>\n",
       "      <td>1. Kalu make cekok, andah gi la</td>\n",
       "      <td>1[]</td>\n",
       "      <td>1. Kalau terdaya, teruskanlah.</td>\n",
       "    </tr>\n",
       "    <tr>\n",
       "      <th>2</th>\n",
       "      <td>alah</td>\n",
       "      <td>[A.lAh]</td>\n",
       "      <td>kata nama</td>\n",
       "      <td>arah sesuatu tempat.</td>\n",
       "      <td>Acu mung lenggok alah ke langik, keleh wa aku ...</td>\n",
       "      <td>[A.tSu muN l«N.g/ A.lAh k« lA.Ni/ k«.leh wA A...</td>\n",
       "      <td>Cuba kamu dongak ke langit, tengok wau aku tu ...</td>\n",
       "    </tr>\n",
       "    <tr>\n",
       "      <th>3</th>\n",
       "      <td>ala kebala</td>\n",
       "      <td>[A.lA k«.bA.lA]</td>\n",
       "      <td>ungkapan untuk membiarkan atau melupakan sesua...</td>\n",
       "      <td>Ala kebala gi la, gapo hok diyo buwak ko mung.</td>\n",
       "      <td>[A.lA k«.bA.lA gi lA g:A.p h/ di.j bu.wA/ k...</td>\n",
       "      <td>Lupakanlah apa yang dia buat kepada kamu.</td>\n",
       "      <td>NaN</td>\n",
       "    </tr>\n",
       "    <tr>\n",
       "      <th>4</th>\n",
       "      <td>akok</td>\n",
       "      <td>[A.k/]</td>\n",
       "      <td>kata nama</td>\n",
       "      <td>sejenis kuih bakar yang dibuat daripada telur,...</td>\n",
       "      <td>NaN</td>\n",
       "      <td>NaN</td>\n",
       "      <td>NaN</td>\n",
       "    </tr>\n",
       "    <tr>\n",
       "      <th>...</th>\n",
       "      <td>...</td>\n",
       "      <td>...</td>\n",
       "      <td>...</td>\n",
       "      <td>...</td>\n",
       "      <td>...</td>\n",
       "      <td>...</td>\n",
       "      <td>...</td>\n",
       "    </tr>\n",
       "    <tr>\n",
       "      <th>95</th>\n",
       "      <td>age</td>\n",
       "      <td>[A.gE]</td>\n",
       "      <td>kata kerja</td>\n",
       "      <td>membuat persediaan sebelum melakukan sesuatu.</td>\n",
       "      <td>Kawe age juruh bena ni, sebak kito nok tandeng wa</td>\n",
       "      <td>...</td>\n",
       "      <td>Saya membuat persediaan dengan teliti ni, seba...</td>\n",
       "    </tr>\n",
       "    <tr>\n",
       "      <th>96</th>\n",
       "      <td>agah</td>\n",
       "      <td>[A.gAh]</td>\n",
       "      <td>kata adjektif</td>\n",
       "      <td>sombong, angkuh.</td>\n",
       "      <td>Pok Ya tu jok kayo ni, agah bena.</td>\n",
       "      <td>[p/ jA tu dZ/ kA.j ni A.gAh b«.nA]</td>\n",
       "      <td>Pak Ya tu semenjak kaya ni, nampak sombong betul.</td>\n",
       "    </tr>\n",
       "    <tr>\n",
       "      <th>97</th>\n",
       "      <td>acok</td>\n",
       "      <td>[A.tS/]</td>\n",
       "      <td>kata nama</td>\n",
       "      <td>sejenis alat untuk menjemur sesuatu seperti ik...</td>\n",
       "      <td>Jemo ike tu atah acok.</td>\n",
       "      <td>[dZ«.m i.kE tu A.tAh A.tS/]</td>\n",
       "      <td>Jemur ikan tu di atas acak.</td>\n",
       "    </tr>\n",
       "    <tr>\n",
       "      <th>98</th>\n",
       "      <td>abih te</td>\n",
       "      <td>[A.bih tE]</td>\n",
       "      <td>bersungguh-sungguh membuat sesuatu pekerjaan; ...</td>\n",
       "      <td>Aku baco abih te doh, tok leh jawak prekso gak...</td>\n",
       "      <td>...</td>\n",
       "      <td>Aku dah belajar bersungguh-sungguh, kalau tak ...</td>\n",
       "      <td>NaN</td>\n",
       "    </tr>\n",
       "    <tr>\n",
       "      <th>99</th>\n",
       "      <td>abih reng</td>\n",
       "      <td></td>\n",
       "      <td>bersungguh-sungguh membuat sesuatu pekerjaan; ...</td>\n",
       "      <td>Ambo tolok abih reng doh tapi tok degih.</td>\n",
       "      <td>[Am.b t.l/ A.bih ÄEN dh tA.pi t/ d:«.gih]</td>\n",
       "      <td>Saya sudah tolak bersungguh-sungguh tapi tidak...</td>\n",
       "      <td>NaN</td>\n",
       "    </tr>\n",
       "  </tbody>\n",
       "</table>\n",
       "<p>100 rows × 7 columns</p>\n",
       "</div>"
      ],
      "text/plain": [
       "             0                1  \\\n",
       "0         cero         [tS«.Ä]   \n",
       "1        andah         [An.dAh]   \n",
       "2         alah          [A.lAh]   \n",
       "3   ala kebala  [A.lA k«.bA.lA]   \n",
       "4         akok          [A.k/]   \n",
       "..         ...              ...   \n",
       "95         age           [A.gE]   \n",
       "96        agah          [A.gAh]   \n",
       "97        acok         [A.tS/]   \n",
       "98     abih te       [A.bih tE]   \n",
       "99   abih reng         \n",
       "\n",
       "                                                    2  \\\n",
       "0                                       kata adjektif   \n",
       "1                                          kata kerja   \n",
       "2                                           kata nama   \n",
       "3   ungkapan untuk membiarkan atau melupakan sesua...   \n",
       "4                                           kata nama   \n",
       "..                                                ...   \n",
       "95                                         kata kerja   \n",
       "96                                      kata adjektif   \n",
       "97                                          kata nama   \n",
       "98  bersungguh-sungguh membuat sesuatu pekerjaan; ...   \n",
       "99  bersungguh-sungguh membuat sesuatu pekerjaan; ...   \n",
       "\n",
       "                                                    3  \\\n",
       "0                 1.      berkenaan warna yang pudar.   \n",
       "1   1. meneruskan (pekerjaan yang besar, perlawana...   \n",
       "2                                arah sesuatu tempat.   \n",
       "3      Ala kebala gi la, gapo hok diyo buwak ko mung.   \n",
       "4   sejenis kuih bakar yang dibuat daripada telur,...   \n",
       "..                                                ...   \n",
       "95      membuat persediaan sebelum melakukan sesuatu.   \n",
       "96                                   sombong, angkuh.   \n",
       "97  sejenis alat untuk menjemur sesuatu seperti ik...   \n",
       "98  Aku baco abih te doh, tok leh jawak prekso gak...   \n",
       "99           Ambo tolok abih reng doh tapi tok degih.   \n",
       "\n",
       "                                                    4  \\\n",
       "0               1. Te tu napok cero, tok sedak la tu.   \n",
       "1                     1. Kalu make cekok, andah gi la   \n",
       "2   Acu mung lenggok alah ke langik, keleh wa aku ...   \n",
       "3   [A.lA k«.bA.lA gi lA g:A.p h/ di.j bu.wA/ k...   \n",
       "4                                                 NaN   \n",
       "..                                                ...   \n",
       "95  Kawe age juruh bena ni, sebak kito nok tandeng wa   \n",
       "96                  Pok Ya tu jok kayo ni, agah bena.   \n",
       "97                             Jemo ike tu atah acok.   \n",
       "98  ...   \n",
       "99     [Am.b t.l/ A.bih ÄEN dh tA.pi t/ d:«.gih]   \n",
       "\n",
       "                                                    5  \\\n",
       "0            [tE tu nA.p/ tS«.Ä t/ se.dA/ lA tu] 2   \n",
       "1                 1[]   \n",
       "2   [A.tSu muN l«N.g/ A.lAh k« lA.Ni/ k«.leh wA A...   \n",
       "3           Lupakanlah apa yang dia buat kepada kamu.   \n",
       "4                                                 NaN   \n",
       "..                                                ...   \n",
       "95  ...   \n",
       "96              [p/ jA tu dZ/ kA.j ni A.gAh b«.nA]   \n",
       "97                      [dZ«.m i.kE tu A.tAh A.tS/]   \n",
       "98  Aku dah belajar bersungguh-sungguh, kalau tak ...   \n",
       "99  Saya sudah tolak bersungguh-sungguh tapi tidak...   \n",
       "\n",
       "                                                    6  \n",
       "0            1. Teh tu nampak pudar, tak sedaplah tu.  \n",
       "1                      1. Kalau terdaya, teruskanlah.  \n",
       "2   Cuba kamu dongak ke langit, tengok wau aku tu ...  \n",
       "3                                                 NaN  \n",
       "4                                                 NaN  \n",
       "..                                                ...  \n",
       "95  Saya membuat persediaan dengan teliti ni, seba...  \n",
       "96  Pak Ya tu semenjak kaya ni, nampak sombong betul.  \n",
       "97                        Jemur ikan tu di atas acak.  \n",
       "98                                                NaN  \n",
       "99                                                NaN  \n",
       "\n",
       "[100 rows x 7 columns]"
      ]
     },
     "execution_count": 5,
     "metadata": {},
     "output_type": "execute_result"
    }
   ],
   "source": [
    "df = pd.read_csv('kelantan.csv')\n",
    "df"
   ]
  },
  {
   "cell_type": "code",
   "execution_count": 6,
   "id": "1cbf3d9a",
   "metadata": {},
   "outputs": [
    {
     "name": "stderr",
     "output_type": "stream",
     "text": [
      "/home/ubuntu/.local/lib/python3.8/site-packages/tensorflow_addons/utils/ensure_tf_install.py:53: UserWarning: Tensorflow Addons supports using Python ops for all Tensorflow versions above or equal to 2.3.0 and strictly below 2.5.0 (nightly versions are not supported). \n",
      " The versions of TensorFlow you are currently using is 2.6.0 and is not supported. \n",
      "Some things might work, some things might not.\n",
      "If you were to encounter a bug, do not file an issue.\n",
      "If you want to make sure you're using a tested and supported configuration, either change the TensorFlow version or the TensorFlow Addons's version. \n",
      "You can find the compatibility matrix in TensorFlow Addon's readme:\n",
      "https://github.com/tensorflow/addons\n",
      "  warnings.warn(\n",
      "/home/ubuntu/.local/lib/python3.8/site-packages/tensorflow_addons/utils/resource_loader.py:72: UserWarning: You are currently using TensorFlow 2.6.0 and trying to load a custom op (custom_ops/seq2seq/_beam_search_ops.so).\n",
      "TensorFlow Addons has compiled its custom ops against TensorFlow 2.4.0, and there are no compatibility guarantees between the two versions. \n",
      "This means that you might get segfaults when loading the custom op, or other kind of low-level errors.\n",
      " If you do, do not file an issue on Github. This is a known limitation.\n",
      "\n",
      "It might help you to fallback to pure Python ops with TF_ADDONS_PY_OPS . To do that, see https://github.com/tensorflow/addons#gpucpu-custom-ops \n",
      "\n",
      "You can also change the TensorFlow version installed on your system. You would need a TensorFlow version equal to or above 2.4.0 and strictly below 2.5.0.\n",
      " Note that nightly versions of TensorFlow, as well as non-pip TensorFlow like `conda install tensorflow` or compiled from source are not supported.\n",
      "\n",
      "The last solution is to find the TensorFlow Addons version that has custom ops compatible with the TensorFlow installed on your system. To do that, refer to the readme: https://github.com/tensorflow/addons\n",
      "  warnings.warn(\n",
      "/home/ubuntu/.local/lib/python3.8/site-packages/malaya_boilerplate/frozen_graph.py:28: UserWarning: Cannot import beam_search_ops from Tensorflow Addons, `deep_model` for stemmer will not available to use, make sure Tensorflow Addons version >= 0.12.0\n",
      "  warnings.warn(\n"
     ]
    }
   ],
   "source": [
    "import malaya"
   ]
  },
  {
   "cell_type": "code",
   "execution_count": 7,
   "id": "bfb484c7",
   "metadata": {},
   "outputs": [],
   "source": [
    "columns = [1, 4, 5]"
   ]
  },
  {
   "cell_type": "code",
   "execution_count": 8,
   "id": "3a25914f",
   "metadata": {},
   "outputs": [
    {
     "name": "stdout",
     "output_type": "stream",
     "text": [
      "'float' object has no attribute 'strip'\n",
      "'float' object has no attribute 'strip'\n",
      "'float' object has no attribute 'strip'\n",
      "'float' object has no attribute 'strip'\n",
      "'float' object has no attribute 'strip'\n",
      "'float' object has no attribute 'strip'\n",
      "'float' object has no attribute 'strip'\n",
      "'float' object has no attribute 'strip'\n",
      "'float' object has no attribute 'strip'\n",
      "'float' object has no attribute 'strip'\n",
      "'float' object has no attribute 'strip'\n",
      "'float' object has no attribute 'strip'\n",
      "'float' object has no attribute 'strip'\n",
      "'float' object has no attribute 'strip'\n",
      "'float' object has no attribute 'strip'\n",
      "'float' object has no attribute 'strip'\n",
      "'float' object has no attribute 'strip'\n",
      "'float' object has no attribute 'strip'\n",
      "'float' object has no attribute 'strip'\n",
      "'float' object has no attribute 'strip'\n"
     ]
    }
   ],
   "source": [
    "results = {}\n",
    "for c in columns:\n",
    "    for i in range(len(df)):\n",
    "        try:\n",
    "            stripped = df.iloc[i, c].strip()\n",
    "            if stripped[0] == '[' and stripped[-1] == ']':\n",
    "                before = df.iloc[i, c - 1].strip()\n",
    "                splitted = malaya.text.function.split_into_sentences(before, minimum_length = 4)\n",
    "                if len(splitted) > 1:\n",
    "                    stripped_splitted = stripped.split('] [')[0]\n",
    "                    before = splitted[0]\n",
    "                    stripped = stripped_splitted + ']'\n",
    "                results[before] = stripped[1:-1]\n",
    "        except Exception as e:\n",
    "            print(e)"
   ]
  },
  {
   "cell_type": "code",
   "execution_count": 9,
   "id": "a6d6b695",
   "metadata": {},
   "outputs": [
    {
     "data": {
      "text/plain": [
       "{'cero': 'tS«.Ä\\x8d',\n",
       " 'andah': 'An.dAh',\n",
       " 'alah': 'A.lAh',\n",
       " 'ala kebala': 'A.lA k«.bA.lA',\n",
       " 'akok': 'A.k\\x8d/',\n",
       " 'age': 'A.gE',\n",
       " 'agah': 'A.gAh',\n",
       " 'acok': 'A.tS\\x8d/',\n",
       " 'abih te': 'A.bih tE',\n",
       " 'Ala kebala gi la, gapo hok diyo buwak ko mung.': 'A.lA k«.bA.lA gi lA g:A.p\\x8d h\\x8d/ di.j\\x8d bu.wA/ k\\x8d muN',\n",
       " 'Ambo tolok abih reng doh tapi tok degih.': 'Am.b\\x8d t\\x8d.l\\x8d/ A.bih ÄEN d\\x8dh tA.pi t\\x8d/ d:«.gih',\n",
       " 'Acu mung lenggok alah ke langik, keleh wa aku tu, mucuk naek katah.': 'A.tSu muN l«N.g\\x8d/ A.lAh k« lA.Ni/ k«.leh wA A.ku tu \\uf06d:\\uf075\\uf02e\\uf074\\uf053\\uf075\\uf02f\\uf020\\uf06e\\uf041\\uf065\\uf02f\\uf020\\uf06b\\uf041\\uf02e\\uf074\\uf041\\uf068',\n",
       " 'Pok Ya tu jok kayo ni, agah bena.': 'p\\x8d/ jA tu dZ\\x8d/ kA.j\\x8d ni A.gAh b«.nA',\n",
       " 'Jemo ike tu atah acok.': 'dZ«.m\\x8d i.kE tu A.tAh A.tS\\x8d/'}"
      ]
     },
     "execution_count": 9,
     "metadata": {},
     "output_type": "execute_result"
    }
   ],
   "source": [
    "results"
   ]
  },
  {
   "cell_type": "code",
   "execution_count": 12,
   "id": "8adc2962",
   "metadata": {},
   "outputs": [],
   "source": [
    "results['Acu mung lenggok alah ke langik, keleh wa aku tu'] = \\\n",
    "'A.tSu muN l«N.g\\x8d/ A.lAh k« lA.Ni/ k«.leh wA A.ku tu'"
   ]
  },
  {
   "cell_type": "code",
   "execution_count": 13,
   "id": "dd4076ad",
   "metadata": {},
   "outputs": [],
   "source": [
    "del results['Acu mung lenggok alah ke langik, keleh wa aku tu, mucuk naek katah.']"
   ]
  },
  {
   "cell_type": "code",
   "execution_count": 14,
   "id": "5074e345",
   "metadata": {},
   "outputs": [
    {
     "data": {
      "text/plain": [
       "{'cero': 'tS«.Ä\\x8d',\n",
       " 'andah': 'An.dAh',\n",
       " 'alah': 'A.lAh',\n",
       " 'ala kebala': 'A.lA k«.bA.lA',\n",
       " 'akok': 'A.k\\x8d/',\n",
       " 'age': 'A.gE',\n",
       " 'agah': 'A.gAh',\n",
       " 'acok': 'A.tS\\x8d/',\n",
       " 'abih te': 'A.bih tE',\n",
       " 'Ala kebala gi la, gapo hok diyo buwak ko mung.': 'A.lA k«.bA.lA gi lA g:A.p\\x8d h\\x8d/ di.j\\x8d bu.wA/ k\\x8d muN',\n",
       " 'Ambo tolok abih reng doh tapi tok degih.': 'Am.b\\x8d t\\x8d.l\\x8d/ A.bih ÄEN d\\x8dh tA.pi t\\x8d/ d:«.gih',\n",
       " 'Pok Ya tu jok kayo ni, agah bena.': 'p\\x8d/ jA tu dZ\\x8d/ kA.j\\x8d ni A.gAh b«.nA',\n",
       " 'Jemo ike tu atah acok.': 'dZ«.m\\x8d i.kE tu A.tAh A.tS\\x8d/',\n",
       " 'Acu mung lenggok alah ke langik, keleh wa aku tu': 'A.tSu muN l«N.g\\x8d/ A.lAh k« lA.Ni/ k«.leh wA A.ku tu'}"
      ]
     },
     "execution_count": 14,
     "metadata": {},
     "output_type": "execute_result"
    }
   ],
   "source": [
    "results"
   ]
  },
  {
   "cell_type": "code",
   "execution_count": 15,
   "id": "013fa489",
   "metadata": {},
   "outputs": [],
   "source": [
    "with open('kelantan-phoneme.json', 'w') as fopen:\n",
    "    json.dump(results, fopen)"
   ]
  }
 ],
 "metadata": {
  "kernelspec": {
   "display_name": "Python 3 (ipykernel)",
   "language": "python",
   "name": "python3"
  },
  "language_info": {
   "codemirror_mode": {
    "name": "ipython",
    "version": 3
   },
   "file_extension": ".py",
   "mimetype": "text/x-python",
   "name": "python",
   "nbconvert_exporter": "python",
   "pygments_lexer": "ipython3",
   "version": "3.8.10"
  }
 },
 "nbformat": 4,
 "nbformat_minor": 5
}
