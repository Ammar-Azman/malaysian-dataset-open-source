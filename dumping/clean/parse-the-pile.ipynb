{
 "cells": [
  {
   "cell_type": "code",
   "execution_count": 30,
   "metadata": {},
   "outputs": [],
   "source": [
    "from glob import glob\n",
    "from tqdm import tqdm\n",
    "from unidecode import unidecode\n",
    "from langdetect import detect\n",
    "import ujson as json\n",
    "import re\n",
    "\n",
    "def cleaning(string):\n",
    "    return re.sub(r'[ ]+', ' ', unidecode(string)).strip()"
   ]
  },
  {
   "cell_type": "code",
   "execution_count": 42,
   "metadata": {},
   "outputs": [
    {
     "name": "stdout",
     "output_type": "stream",
     "text": [
      "mkdir: cannot create directory ‘the-pile’: File exists\r\n"
     ]
    }
   ],
   "source": [
    "!mkdir the-pile"
   ]
  },
  {
   "cell_type": "code",
   "execution_count": 48,
   "metadata": {},
   "outputs": [
    {
     "data": {
      "text/plain": [
       "33"
      ]
     },
     "execution_count": 48,
     "metadata": {},
     "output_type": "execute_result"
    }
   ],
   "source": [
    "files = glob('00.jsonl-*.translated')\n",
    "len(files)"
   ]
  },
  {
   "cell_type": "code",
   "execution_count": 50,
   "metadata": {},
   "outputs": [
    {
     "name": "stderr",
     "output_type": "stream",
     "text": [
      "222it [00:00, 2157.99it/s]"
     ]
    },
    {
     "name": "stdout",
     "output_type": "stream",
     "text": [
      "00.jsonl-29.translated\n"
     ]
    },
    {
     "name": "stderr",
     "output_type": "stream",
     "text": [
      "67053it [00:23, 2898.04it/s]\n",
      "315it [00:00, 3099.71it/s]"
     ]
    },
    {
     "name": "stdout",
     "output_type": "stream",
     "text": [
      "00.jsonl-9.translated\n"
     ]
    },
    {
     "name": "stderr",
     "output_type": "stream",
     "text": [
      "42449it [00:17, 2496.07it/s]\n",
      "162it [00:00, 1616.57it/s]"
     ]
    },
    {
     "name": "stdout",
     "output_type": "stream",
     "text": [
      "00.jsonl-4.translated\n"
     ]
    },
    {
     "name": "stderr",
     "output_type": "stream",
     "text": [
      "26743it [00:11, 2344.57it/s]\n",
      "193it [00:00, 1893.47it/s]"
     ]
    },
    {
     "name": "stdout",
     "output_type": "stream",
     "text": [
      "00.jsonl-1.translated\n"
     ]
    },
    {
     "name": "stderr",
     "output_type": "stream",
     "text": [
      "26905it [00:11, 2429.97it/s]\n",
      "365it [00:00, 3626.12it/s]"
     ]
    },
    {
     "name": "stdout",
     "output_type": "stream",
     "text": [
      "00.jsonl-11.translated\n"
     ]
    },
    {
     "name": "stderr",
     "output_type": "stream",
     "text": [
      "40192it [00:14, 2806.26it/s]\n",
      "383it [00:00, 3183.12it/s]"
     ]
    },
    {
     "name": "stdout",
     "output_type": "stream",
     "text": [
      "00.jsonl-16.translated\n"
     ]
    },
    {
     "name": "stderr",
     "output_type": "stream",
     "text": [
      "66891it [00:22, 2981.54it/s]\n",
      "163it [00:00, 1224.56it/s]"
     ]
    },
    {
     "name": "stdout",
     "output_type": "stream",
     "text": [
      "00.jsonl-6.translated\n"
     ]
    },
    {
     "name": "stderr",
     "output_type": "stream",
     "text": [
      "40291it [00:15, 2524.85it/s]\n",
      "191it [00:00, 1900.46it/s]"
     ]
    },
    {
     "name": "stdout",
     "output_type": "stream",
     "text": [
      "00.jsonl-0.translated\n"
     ]
    },
    {
     "name": "stderr",
     "output_type": "stream",
     "text": [
      "26753it [00:10, 2433.05it/s]\n",
      "281it [00:00, 2798.71it/s]"
     ]
    },
    {
     "name": "stdout",
     "output_type": "stream",
     "text": [
      "00.jsonl-26.translated\n"
     ]
    },
    {
     "name": "stderr",
     "output_type": "stream",
     "text": [
      "67382it [00:22, 3016.46it/s]\n",
      "219it [00:00, 1789.30it/s]"
     ]
    },
    {
     "name": "stdout",
     "output_type": "stream",
     "text": [
      "00.jsonl-32.translated\n"
     ]
    },
    {
     "name": "stderr",
     "output_type": "stream",
     "text": [
      "67078it [00:22, 3001.01it/s]\n",
      "318it [00:00, 3178.88it/s]"
     ]
    },
    {
     "name": "stdout",
     "output_type": "stream",
     "text": [
      "00.jsonl-19.translated\n"
     ]
    },
    {
     "name": "stderr",
     "output_type": "stream",
     "text": [
      "66884it [00:22, 2973.36it/s]\n",
      "447it [00:00, 4460.68it/s]"
     ]
    },
    {
     "name": "stdout",
     "output_type": "stream",
     "text": [
      "00.jsonl-12.translated\n"
     ]
    },
    {
     "name": "stderr",
     "output_type": "stream",
     "text": [
      "40242it [00:13, 2964.38it/s]\n",
      "359it [00:00, 2797.15it/s]"
     ]
    },
    {
     "name": "stdout",
     "output_type": "stream",
     "text": [
      "00.jsonl-20.translated\n"
     ]
    },
    {
     "name": "stderr",
     "output_type": "stream",
     "text": [
      "67051it [00:23, 2826.07it/s]\n",
      "271it [00:00, 2690.48it/s]"
     ]
    },
    {
     "name": "stdout",
     "output_type": "stream",
     "text": [
      "00.jsonl-17.translated\n"
     ]
    },
    {
     "name": "stderr",
     "output_type": "stream",
     "text": [
      "66908it [00:22, 2916.37it/s]\n",
      "157it [00:00, 1568.41it/s]"
     ]
    },
    {
     "name": "stdout",
     "output_type": "stream",
     "text": [
      "00.jsonl-10.translated\n"
     ]
    },
    {
     "name": "stderr",
     "output_type": "stream",
     "text": [
      "40199it [00:14, 2836.72it/s]\n",
      "262it [00:00, 2593.59it/s]"
     ]
    },
    {
     "name": "stdout",
     "output_type": "stream",
     "text": [
      "00.jsonl-15.translated\n"
     ]
    },
    {
     "name": "stderr",
     "output_type": "stream",
     "text": [
      "67008it [00:22, 2954.70it/s]\n",
      "394it [00:00, 3939.57it/s]"
     ]
    },
    {
     "name": "stdout",
     "output_type": "stream",
     "text": [
      "00.jsonl-24.translated\n"
     ]
    },
    {
     "name": "stderr",
     "output_type": "stream",
     "text": [
      "66912it [00:22, 2992.53it/s]\n",
      "245it [00:00, 2447.21it/s]"
     ]
    },
    {
     "name": "stdout",
     "output_type": "stream",
     "text": [
      "00.jsonl-2.translated\n"
     ]
    },
    {
     "name": "stderr",
     "output_type": "stream",
     "text": [
      "43495it [00:18, 2384.44it/s]\n",
      "222it [00:00, 2184.80it/s]"
     ]
    },
    {
     "name": "stdout",
     "output_type": "stream",
     "text": [
      "00.jsonl-23.translated\n"
     ]
    },
    {
     "name": "stderr",
     "output_type": "stream",
     "text": [
      "67040it [00:22, 2990.26it/s]\n",
      "377it [00:00, 3727.43it/s]"
     ]
    },
    {
     "name": "stdout",
     "output_type": "stream",
     "text": [
      "00.jsonl-8.translated\n"
     ]
    },
    {
     "name": "stderr",
     "output_type": "stream",
     "text": [
      "40124it [00:16, 2446.55it/s]\n",
      "343it [00:00, 3427.67it/s]"
     ]
    },
    {
     "name": "stdout",
     "output_type": "stream",
     "text": [
      "00.jsonl-31.translated\n"
     ]
    },
    {
     "name": "stderr",
     "output_type": "stream",
     "text": [
      "67045it [00:23, 2874.58it/s]\n",
      "286it [00:00, 2491.67it/s]"
     ]
    },
    {
     "name": "stdout",
     "output_type": "stream",
     "text": [
      "00.jsonl-14.translated\n"
     ]
    },
    {
     "name": "stderr",
     "output_type": "stream",
     "text": [
      "67028it [00:22, 2953.29it/s]\n",
      "152it [00:00, 1487.69it/s]"
     ]
    },
    {
     "name": "stdout",
     "output_type": "stream",
     "text": [
      "00.jsonl-3.translated\n"
     ]
    },
    {
     "name": "stderr",
     "output_type": "stream",
     "text": [
      "26770it [00:11, 2276.25it/s]\n",
      "276it [00:00, 2757.90it/s]"
     ]
    },
    {
     "name": "stdout",
     "output_type": "stream",
     "text": [
      "00.jsonl-27.translated\n"
     ]
    },
    {
     "name": "stderr",
     "output_type": "stream",
     "text": [
      "67209it [00:22, 3001.60it/s]\n",
      "410it [00:00, 4088.72it/s]"
     ]
    },
    {
     "name": "stdout",
     "output_type": "stream",
     "text": [
      "00.jsonl-18.translated\n"
     ]
    },
    {
     "name": "stderr",
     "output_type": "stream",
     "text": [
      "66913it [00:22, 3001.16it/s]\n",
      "479it [00:00, 4786.73it/s]"
     ]
    },
    {
     "name": "stdout",
     "output_type": "stream",
     "text": [
      "00.jsonl-13.translated\n"
     ]
    },
    {
     "name": "stderr",
     "output_type": "stream",
     "text": [
      "40072it [00:13, 3023.63it/s]\n",
      "176it [00:00, 1759.19it/s]"
     ]
    },
    {
     "name": "stdout",
     "output_type": "stream",
     "text": [
      "00.jsonl-21.translated\n"
     ]
    },
    {
     "name": "stderr",
     "output_type": "stream",
     "text": [
      "67022it [00:22, 2928.63it/s]\n",
      "88it [00:00, 827.35it/s]"
     ]
    },
    {
     "name": "stdout",
     "output_type": "stream",
     "text": [
      "00.jsonl-25.translated\n"
     ]
    },
    {
     "name": "stderr",
     "output_type": "stream",
     "text": [
      "67130it [00:22, 2967.37it/s]\n",
      "379it [00:00, 3772.30it/s]"
     ]
    },
    {
     "name": "stdout",
     "output_type": "stream",
     "text": [
      "00.jsonl-22.translated\n"
     ]
    },
    {
     "name": "stderr",
     "output_type": "stream",
     "text": [
      "67120it [00:22, 3043.91it/s]\n",
      "288it [00:00, 2879.58it/s]"
     ]
    },
    {
     "name": "stdout",
     "output_type": "stream",
     "text": [
      "00.jsonl-7.translated\n"
     ]
    },
    {
     "name": "stderr",
     "output_type": "stream",
     "text": [
      "40368it [00:16, 2438.51it/s]\n",
      "266it [00:00, 2656.01it/s]"
     ]
    },
    {
     "name": "stdout",
     "output_type": "stream",
     "text": [
      "00.jsonl-30.translated\n"
     ]
    },
    {
     "name": "stderr",
     "output_type": "stream",
     "text": [
      "67041it [00:22, 2949.27it/s]\n",
      "282it [00:00, 2816.36it/s]"
     ]
    },
    {
     "name": "stdout",
     "output_type": "stream",
     "text": [
      "00.jsonl-28.translated\n"
     ]
    },
    {
     "name": "stderr",
     "output_type": "stream",
     "text": [
      "67024it [00:22, 3013.65it/s]\n",
      "0it [00:00, ?it/s]"
     ]
    },
    {
     "name": "stdout",
     "output_type": "stream",
     "text": [
      "00.jsonl-5.translated\n"
     ]
    },
    {
     "name": "stderr",
     "output_type": "stream",
     "text": [
      "40167it [00:16, 2418.37it/s]\n"
     ]
    }
   ],
   "source": [
    "for file in files:\n",
    "    print(file)\n",
    "    texts = []\n",
    "    with open(file) as fopen:\n",
    "        for l in tqdm(fopen):\n",
    "            l = json.loads(l)\n",
    "            if l['meta']['pile_set_name'] in ['Github']:\n",
    "                continue\n",
    "\n",
    "            r = []\n",
    "            for line in l['ms']:\n",
    "                try:\n",
    "                    if len(cleaning(line).split()) > 150 and detect(l['ms'][0]) == 'en':\n",
    "                        continue\n",
    "                    r.append(line)\n",
    "                except:\n",
    "                    pass\n",
    "            texts.extend(r)\n",
    "            texts.append('')\n",
    "\n",
    "    with open(f'the-pile/{file}.txt', 'w') as fopen:\n",
    "        fopen.write('\\n'.join(texts))"
   ]
  },
  {
   "cell_type": "code",
   "execution_count": 51,
   "metadata": {},
   "outputs": [
    {
     "data": {
      "text/plain": [
       "33"
      ]
     },
     "execution_count": 51,
     "metadata": {},
     "output_type": "execute_result"
    }
   ],
   "source": [
    "len(glob('the-pile/00.jsonl-*.translated*'))"
   ]
  }
 ],
 "metadata": {
  "kernelspec": {
   "display_name": "Python 3",
   "language": "python",
   "name": "python3"
  },
  "language_info": {
   "codemirror_mode": {
    "name": "ipython",
    "version": 3
   },
   "file_extension": ".py",
   "mimetype": "text/x-python",
   "name": "python",
   "nbconvert_exporter": "python",
   "pygments_lexer": "ipython3",
   "version": "3.6.9"
  }
 },
 "nbformat": 4,
 "nbformat_minor": 2
}
