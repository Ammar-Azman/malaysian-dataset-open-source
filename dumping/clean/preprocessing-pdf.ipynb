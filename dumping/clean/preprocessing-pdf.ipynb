{
 "cells": [
  {
   "cell_type": "code",
   "execution_count": 1,
   "metadata": {},
   "outputs": [],
   "source": [
    "# !wget https://malaya-dataset.s3-ap-southeast-1.amazonaws.com/crawler/academia/academia-pdf.json"
   ]
  },
  {
   "cell_type": "code",
   "execution_count": 2,
   "metadata": {},
   "outputs": [],
   "source": [
    "import json\n",
    "import cleaning\n",
    "from tqdm import tqdm"
   ]
  },
  {
   "cell_type": "code",
   "execution_count": 3,
   "metadata": {},
   "outputs": [
    {
     "data": {
      "text/plain": [
       "1414"
      ]
     },
     "execution_count": 3,
     "metadata": {},
     "output_type": "execute_result"
    }
   ],
   "source": [
    "with open('../academia/academia-pdf.json') as fopen:\n",
    "    pdf = json.load(fopen)\n",
    "    \n",
    "len(pdf)"
   ]
  },
  {
   "cell_type": "code",
   "execution_count": 4,
   "metadata": {},
   "outputs": [
    {
     "data": {
      "text/plain": [
       "('academia.edu', 'Prosiding_Kolokium_Siswazah_JUF_2017.pdf')"
      ]
     },
     "execution_count": 4,
     "metadata": {},
     "output_type": "execute_result"
    }
   ],
   "source": [
    "import os\n",
    "\n",
    "os.path.split(pdf[0]['file'])"
   ]
  },
  {
   "cell_type": "code",
   "execution_count": 5,
   "metadata": {},
   "outputs": [
    {
     "name": "stderr",
     "output_type": "stream",
     "text": [
      "\n"
     ]
    }
   ],
   "source": [
    "import malaya\n",
    "\n",
    "fast_text = malaya.language_detection.fasttext()"
   ]
  },
  {
   "cell_type": "code",
   "execution_count": 6,
   "metadata": {},
   "outputs": [
    {
     "data": {
      "text/plain": [
       "['malay']"
      ]
     },
     "execution_count": 6,
     "metadata": {},
     "output_type": "execute_result"
    }
   ],
   "source": [
    "fast_text.predict(['Prosiding_Kolokium_Siswazah_JUF_2017.pdf'])"
   ]
  },
  {
   "cell_type": "code",
   "execution_count": 7,
   "metadata": {},
   "outputs": [],
   "source": [
    "from unidecode import unidecode\n",
    "\n",
    "def clean(string):\n",
    "    string = [cleaning.cleaning(s) for s in string]\n",
    "    \n",
    "    string = [s.strip() for s in string if 'tarikh' not in s.lower() and 'soalan no' not in s.lower()]\n",
    "    string = [s for s in string if not ''.join(s.split()[:1]).isdigit() and '.soalan' not in s.lower() and 'jum ' not in s.lower()]\n",
    "    string = [s for s in string if not s[:3].isdigit() and not s[-3:].isdigit()]\n",
    "    return string"
   ]
  },
  {
   "cell_type": "code",
   "execution_count": 8,
   "metadata": {},
   "outputs": [
    {
     "name": "stderr",
     "output_type": "stream",
     "text": [
      "100%|██████████| 1414/1414 [07:04<00:00,  3.33it/s]\n"
     ]
    }
   ],
   "source": [
    "outer = []\n",
    "\n",
    "for k in tqdm(range(len(pdf))):\n",
    "\n",
    "    c = clean(pdf[k]['content']['content'].split('\\n'))\n",
    "    t, last = [], 0\n",
    "\n",
    "    i = 0\n",
    "    while i < len(c):\n",
    "        text = c[i]\n",
    "\n",
    "        if len(text) > 5:\n",
    "            if len(text.split()) > 1:\n",
    "                t.append(text)\n",
    "            last = i\n",
    "        else:\n",
    "            if len(t) and (i - last) > 2:\n",
    "                t.append('')\n",
    "                outer.extend(t)\n",
    "                t = []\n",
    "                last = i\n",
    "            elif not len(t):\n",
    "                last = i\n",
    "\n",
    "        i += 1\n",
    "    \n",
    "    if len(t):\n",
    "        t.append('')\n",
    "        outer.extend(t)"
   ]
  },
  {
   "cell_type": "code",
   "execution_count": 9,
   "metadata": {},
   "outputs": [
    {
     "data": {
      "text/plain": [
       "8926305"
      ]
     },
     "execution_count": 9,
     "metadata": {},
     "output_type": "execute_result"
    }
   ],
   "source": [
    "len(outer)"
   ]
  },
  {
   "cell_type": "code",
   "execution_count": 10,
   "metadata": {},
   "outputs": [
    {
     "name": "stdout",
     "output_type": "stream",
     "text": [
      "CPU times: user 3.93 s, sys: 2.22 s, total: 6.15 s\n",
      "Wall time: 7.15 s\n"
     ]
    }
   ],
   "source": [
    "%%time\n",
    "\n",
    "temp_vocab = list(set(cleaning.multiprocessing(outer, cleaning.unique_words)))"
   ]
  },
  {
   "cell_type": "code",
   "execution_count": 11,
   "metadata": {},
   "outputs": [
    {
     "name": "stdout",
     "output_type": "stream",
     "text": [
      "7040\n",
      "CPU times: user 415 ms, sys: 961 ms, total: 1.38 s\n",
      "Wall time: 3.11 s\n"
     ]
    }
   ],
   "source": [
    "%%time\n",
    "\n",
    "# important\n",
    "temp_dict = cleaning.multiprocessing(temp_vocab, cleaning.duplicate_dots_marks_exclamations, list_mode = False)\n",
    "print(len(temp_dict))"
   ]
  },
  {
   "cell_type": "code",
   "execution_count": 12,
   "metadata": {},
   "outputs": [
    {
     "name": "stderr",
     "output_type": "stream",
     "text": [
      "100%|██████████| 8926305/8926305 [00:32<00:00, 276346.68it/s]\n"
     ]
    }
   ],
   "source": [
    "outer = cleaning.string_dict_cleaning(outer, temp_dict)"
   ]
  },
  {
   "cell_type": "code",
   "execution_count": 13,
   "metadata": {},
   "outputs": [
    {
     "name": "stdout",
     "output_type": "stream",
     "text": [
      "536\n",
      "CPU times: user 591 ms, sys: 972 ms, total: 1.56 s\n",
      "Wall time: 2.19 s\n"
     ]
    }
   ],
   "source": [
    "%%time\n",
    "\n",
    "# important\n",
    "temp_dict = cleaning.multiprocessing(temp_vocab, cleaning.remove_underscore, list_mode = False)\n",
    "print(len(temp_dict))"
   ]
  },
  {
   "cell_type": "code",
   "execution_count": 14,
   "metadata": {},
   "outputs": [
    {
     "name": "stderr",
     "output_type": "stream",
     "text": [
      "100%|██████████| 8926305/8926305 [00:32<00:00, 274032.82it/s]\n"
     ]
    }
   ],
   "source": [
    "outer = cleaning.string_dict_cleaning(outer, temp_dict)"
   ]
  },
  {
   "cell_type": "code",
   "execution_count": 15,
   "metadata": {},
   "outputs": [
    {
     "name": "stdout",
     "output_type": "stream",
     "text": [
      "0\n",
      "CPU times: user 2.54 s, sys: 2.15 s, total: 4.69 s\n",
      "Wall time: 10.7 s\n"
     ]
    }
   ],
   "source": [
    "%%time\n",
    "\n",
    "# important\n",
    "temp_dict = cleaning.multiprocessing(outer, cleaning.isolate_spamchars, list_mode = False)\n",
    "print(len(temp_dict))"
   ]
  },
  {
   "cell_type": "code",
   "execution_count": 16,
   "metadata": {},
   "outputs": [
    {
     "name": "stdout",
     "output_type": "stream",
     "text": [
      "19693\n",
      "CPU times: user 407 ms, sys: 1.01 s, total: 1.42 s\n",
      "Wall time: 1.55 s\n"
     ]
    }
   ],
   "source": [
    "%%time\n",
    "temp_dict = cleaning.multiprocessing(temp_vocab, cleaning.break_short_words, list_mode = False)\n",
    "print(len(temp_dict))"
   ]
  },
  {
   "cell_type": "code",
   "execution_count": 17,
   "metadata": {},
   "outputs": [
    {
     "name": "stderr",
     "output_type": "stream",
     "text": [
      "100%|██████████| 8926305/8926305 [00:32<00:00, 270720.18it/s]\n"
     ]
    }
   ],
   "source": [
    "outer = cleaning.string_dict_cleaning(outer, temp_dict)"
   ]
  },
  {
   "cell_type": "code",
   "execution_count": 18,
   "metadata": {},
   "outputs": [
    {
     "name": "stdout",
     "output_type": "stream",
     "text": [
      "4441\n",
      "CPU times: user 360 ms, sys: 1.04 s, total: 1.4 s\n",
      "Wall time: 1.64 s\n"
     ]
    }
   ],
   "source": [
    "%%time\n",
    "temp_dict = cleaning.multiprocessing(temp_vocab, cleaning.break_long_words, list_mode = False)\n",
    "print(len(temp_dict))"
   ]
  },
  {
   "cell_type": "code",
   "execution_count": 19,
   "metadata": {},
   "outputs": [
    {
     "name": "stderr",
     "output_type": "stream",
     "text": [
      "100%|██████████| 8926305/8926305 [00:32<00:00, 278113.08it/s]\n"
     ]
    }
   ],
   "source": [
    "outer = cleaning.string_dict_cleaning(outer, temp_dict)"
   ]
  },
  {
   "cell_type": "code",
   "execution_count": 20,
   "metadata": {},
   "outputs": [
    {
     "name": "stdout",
     "output_type": "stream",
     "text": [
      "272\n",
      "CPU times: user 314 ms, sys: 1 s, total: 1.31 s\n",
      "Wall time: 1.5 s\n"
     ]
    }
   ],
   "source": [
    "%%time\n",
    "temp_dict = cleaning.multiprocessing(temp_vocab, cleaning.remove_ending_underscore, list_mode = False)\n",
    "print(len(temp_dict))"
   ]
  },
  {
   "cell_type": "code",
   "execution_count": 21,
   "metadata": {
    "scrolled": true
   },
   "outputs": [
    {
     "name": "stderr",
     "output_type": "stream",
     "text": [
      "100%|██████████| 8926305/8926305 [00:32<00:00, 270761.52it/s]\n"
     ]
    }
   ],
   "source": [
    "outer = cleaning.string_dict_cleaning(outer, temp_dict)"
   ]
  },
  {
   "cell_type": "code",
   "execution_count": 22,
   "metadata": {},
   "outputs": [
    {
     "name": "stdout",
     "output_type": "stream",
     "text": [
      "343\n",
      "CPU times: user 376 ms, sys: 1 s, total: 1.38 s\n",
      "Wall time: 1.57 s\n"
     ]
    }
   ],
   "source": [
    "%%time\n",
    "temp_dict = cleaning.multiprocessing(temp_vocab, cleaning.remove_starting_underscore, list_mode = False)\n",
    "print(len(temp_dict))"
   ]
  },
  {
   "cell_type": "code",
   "execution_count": 23,
   "metadata": {},
   "outputs": [
    {
     "name": "stderr",
     "output_type": "stream",
     "text": [
      "100%|██████████| 8926305/8926305 [00:32<00:00, 278484.09it/s]\n"
     ]
    }
   ],
   "source": [
    "outer = cleaning.string_dict_cleaning(outer, temp_dict)"
   ]
  },
  {
   "cell_type": "code",
   "execution_count": 24,
   "metadata": {},
   "outputs": [
    {
     "name": "stdout",
     "output_type": "stream",
     "text": [
      "533165\n",
      "CPU times: user 2.05 s, sys: 1.08 s, total: 3.13 s\n",
      "Wall time: 3.32 s\n"
     ]
    }
   ],
   "source": [
    "%%time\n",
    "temp_dict = cleaning.multiprocessing(temp_vocab, cleaning.end_punct, list_mode = False)\n",
    "print(len(temp_dict))"
   ]
  },
  {
   "cell_type": "code",
   "execution_count": 25,
   "metadata": {},
   "outputs": [
    {
     "name": "stderr",
     "output_type": "stream",
     "text": [
      "100%|██████████| 8926305/8926305 [00:35<00:00, 249997.35it/s]\n"
     ]
    }
   ],
   "source": [
    "outer = cleaning.string_dict_cleaning(outer, temp_dict)"
   ]
  },
  {
   "cell_type": "code",
   "execution_count": 26,
   "metadata": {},
   "outputs": [
    {
     "name": "stdout",
     "output_type": "stream",
     "text": [
      "178877\n",
      "CPU times: user 949 ms, sys: 1.04 s, total: 1.99 s\n",
      "Wall time: 2.16 s\n"
     ]
    }
   ],
   "source": [
    "%%time\n",
    "temp_dict = cleaning.multiprocessing(temp_vocab, cleaning.start_punct, list_mode = False)\n",
    "print(len(temp_dict))"
   ]
  },
  {
   "cell_type": "code",
   "execution_count": 27,
   "metadata": {},
   "outputs": [
    {
     "name": "stderr",
     "output_type": "stream",
     "text": [
      "100%|██████████| 8926305/8926305 [00:35<00:00, 249939.42it/s]\n"
     ]
    }
   ],
   "source": [
    "outer = cleaning.string_dict_cleaning(outer, temp_dict)"
   ]
  },
  {
   "cell_type": "code",
   "execution_count": 28,
   "metadata": {},
   "outputs": [
    {
     "name": "stdout",
     "output_type": "stream",
     "text": [
      "495\n",
      "CPU times: user 319 ms, sys: 1 s, total: 1.32 s\n",
      "Wall time: 1.63 s\n"
     ]
    }
   ],
   "source": [
    "%%time\n",
    "temp_dict = cleaning.multiprocessing(temp_vocab, cleaning.join_dashes, list_mode = False)\n",
    "print(len(temp_dict))"
   ]
  },
  {
   "cell_type": "code",
   "execution_count": 29,
   "metadata": {},
   "outputs": [
    {
     "name": "stderr",
     "output_type": "stream",
     "text": [
      "100%|██████████| 8926305/8926305 [00:35<00:00, 253898.14it/s]\n"
     ]
    }
   ],
   "source": [
    "outer = cleaning.string_dict_cleaning(outer, temp_dict)"
   ]
  },
  {
   "cell_type": "code",
   "execution_count": 30,
   "metadata": {},
   "outputs": [
    {
     "name": "stderr",
     "output_type": "stream",
     "text": [
      "100%|██████████| 8926305/8926305 [00:07<00:00, 1261203.88it/s]\n"
     ]
    }
   ],
   "source": [
    "results, result = [], []\n",
    "for i in tqdm(outer):\n",
    "    if not len(i) and len(result):\n",
    "        results.append(result)\n",
    "        result = []\n",
    "    else:\n",
    "        result.append(i)\n",
    "        \n",
    "if len(result):\n",
    "    results.append(result)"
   ]
  },
  {
   "cell_type": "code",
   "execution_count": 31,
   "metadata": {},
   "outputs": [
    {
     "data": {
      "text/plain": [
       "['733 ke.633 , berlaku penurunan akibat kesan program PMI .']"
      ]
     },
     "execution_count": 31,
     "metadata": {},
     "output_type": "execute_result"
    }
   ],
   "source": [
    "import re\n",
    "\n",
    "alphabets = '([A-Za-z])'\n",
    "prefixes = (\n",
    "    '(Mr|St|Mrs|Ms|Dr|Prof|Capt|Cpt|Lt|Mt|Puan|puan|Tuan|tuan|sir|Sir)[.]'\n",
    ")\n",
    "suffixes = '(Inc|Ltd|Jr|Sr|Co|Mo)'\n",
    "starters = '(Mr|Mrs|Ms|Dr|He\\s|She\\s|It\\s|They\\s|Their\\s|Our\\s|We\\s|But\\s|However\\s|That\\s|This\\s|Wherever|Dia|Mereka|Tetapi|Kita|Itu|Ini|Dan|Kami|Beliau|Seri|Datuk|Dato|Datin|Tuan|Puan)'\n",
    "acronyms = '([A-Z][.][A-Z][.](?:[A-Z][.])?)'\n",
    "websites = '[.](com|net|org|io|gov|me|edu|my)'\n",
    "another_websites = '(www|http|https)[.]'\n",
    "digits = '([0-9])'\n",
    "before_digits = '([Nn]o|[Nn]ombor|[Nn]umber|[Kk]e|=|al)'\n",
    "month = '([Jj]an(?:uari)?|[Ff]eb(?:ruari)?|[Mm]a(?:c)?|[Aa]pr(?:il)?|Mei|[Jj]u(?:n)?|[Jj]ula(?:i)?|[Aa]ug(?:ust)?|[Ss]ept?(?:ember)?|[Oo]kt(?:ober)?|[Nn]ov(?:ember)?|[Dd]is(?:ember)?)'\n",
    "\n",
    "\n",
    "def split_into_sentences(text, minimum_length = 5):\n",
    "    text = text.replace('\\x97', '\\n')\n",
    "    text = '. '.join([s for s in text.split('\\n') if len(s)])\n",
    "    text = text + '.'\n",
    "    text = unidecode(text)\n",
    "    text = ' ' + text + '  '\n",
    "    text = text.replace('\\n', ' ')\n",
    "    text = re.sub(prefixes, '\\\\1<prd>', text)\n",
    "    text = re.sub(websites, '<prd>\\\\1', text)\n",
    "    text = re.sub(another_websites, '\\\\1<prd>', text)\n",
    "    text = re.sub('[,][.]+', '<prd>', text)\n",
    "    if '...' in text:\n",
    "        text = text.replace('...', '<prd><prd><prd>')\n",
    "    if 'Ph.D' in text:\n",
    "        text = text.replace('Ph.D.', 'Ph<prd>D<prd>')\n",
    "    text = re.sub('[.]\\s*[,]', '<prd>,', text)\n",
    "    text = re.sub(before_digits + '\\s*[.]\\s*' + digits, '\\\\1<prd>\\\\2', text)\n",
    "    text = re.sub(month + '[.]\\s*' + digits, '\\\\1<prd>\\\\2', text)\n",
    "    text = re.sub('\\s' + alphabets + '[.][ ]+', ' \\\\1<prd> ', text)\n",
    "    text = re.sub(acronyms + ' ' + starters, '\\\\1<stop> \\\\2', text)\n",
    "    text = re.sub(\n",
    "        alphabets + '[.]' + alphabets + '[.]' + alphabets + '[.]',\n",
    "        '\\\\1<prd>\\\\2<prd>\\\\3<prd>',\n",
    "        text,\n",
    "    )\n",
    "    text = re.sub(\n",
    "        alphabets + '[.]' + alphabets + '[.]', '\\\\1<prd>\\\\2<prd>', text\n",
    "    )\n",
    "    text = re.sub(' ' + suffixes + '[.][ ]+' + starters, ' \\\\1<stop> \\\\2', text)\n",
    "    text = re.sub(' ' + suffixes + '[.]', ' \\\\1<prd>', text)\n",
    "    text = re.sub(' ' + alphabets + '[.]', ' \\\\1<prd>', text)\n",
    "    text = re.sub(digits + '[.]' + digits, '\\\\1<prd>\\\\2', text)\n",
    "    if '”' in text:\n",
    "        text = text.replace('.”', '”.')\n",
    "    if '\"' in text:\n",
    "        text = text.replace('.\"', '\".')\n",
    "    if '!' in text:\n",
    "        text = text.replace('!\"', '\"!')\n",
    "    if '?' in text:\n",
    "        text = text.replace('?\"', '\"?')\n",
    "    text = text.replace('.', '.<stop>')\n",
    "    text = text.replace('?', '?<stop>')\n",
    "    text = text.replace('!', '!<stop>')\n",
    "    text = text.replace('<prd>', '.')\n",
    "    sentences = text.split('<stop>')\n",
    "    sentences = sentences[:-1]\n",
    "    sentences = [s.strip() for s in sentences if len(s) > minimum_length]\n",
    "    return sentences\n",
    "\n",
    "split_into_sentences('733 ke . 633 , berlaku penurunan akibat kesan program PMI .')"
   ]
  },
  {
   "cell_type": "code",
   "execution_count": 32,
   "metadata": {},
   "outputs": [],
   "source": [
    "import malaya\n",
    "import re\n",
    "\n",
    "def strip(string):\n",
    "    string = ' '.join(string)\n",
    "    string = re.sub(r'[ ]+', ' ', string.replace('\\n', ' ').replace('\\t', ' ')).strip()\n",
    "    return split_into_sentences(string)"
   ]
  },
  {
   "cell_type": "code",
   "execution_count": 33,
   "metadata": {},
   "outputs": [
    {
     "name": "stderr",
     "output_type": "stream",
     "text": [
      "100%|██████████| 678289/678289 [04:47<00:00, 2360.23it/s]\n"
     ]
    }
   ],
   "source": [
    "output = []\n",
    "\n",
    "for r in tqdm(results):\n",
    "    output.extend(strip(r) + [''])"
   ]
  },
  {
   "cell_type": "code",
   "execution_count": 34,
   "metadata": {},
   "outputs": [
    {
     "data": {
      "text/plain": [
       "5502537"
      ]
     },
     "execution_count": 34,
     "metadata": {},
     "output_type": "execute_result"
    }
   ],
   "source": [
    "len(output)"
   ]
  },
  {
   "cell_type": "code",
   "execution_count": 35,
   "metadata": {},
   "outputs": [
    {
     "data": {
      "text/plain": [
       "['He then stressed that activities held by the mosque committee is always welcomed by local community and receiving a great number of participants for each of the activities .',\n",
       " 'After the interview and a observation for what have been happening around Putra Mosque and inside the mosque , researcher is really agreed with Mr .',\n",
       " 'Raja Aman .',\n",
       " 'First thing is about the pattern of Islam in this region .',\n",
       " 'It is clearly seen that there are a lot of prayer room can be found even in the shopping complex , offices and the places is clean and neat .',\n",
       " 'The cleanliness and the beauty keep in this region is one of the values and teachings of Islam that has been commanded by Allah in the Quran.',\n",
       " '',\n",
       " 'Prosiding Kolokium Siswazah Jabatan Usuluddin dan Falsafah.',\n",
       " '',\n",
       " 'and by the hadith .',\n",
       " 'It is so fresh and comfortable to be there either inside or outside the mosque .',\n",
       " 'Attitude shown by the guard of the mosque and volunteers are so good .',\n",
       " 'They always smiling and welcoming visitors with greetings .',\n",
       " 'Researcher believes that whoever come to a place and welcomed warmly will feel so comfortable and happy with it and also will be one of the sweet moments being there .',\n",
       " 'Volunteers and workers there can speak English and most of the volunteers have multi-language skills .',\n",
       " 'They can speak Malay , English , Chinese and Japanese .',\n",
       " 'This kind of communication skills will also make the visitors more and more comfortable being in this mosque .',\n",
       " 'This attitude or in Arabic called as akhlaq is perfectly implemented in every single person worked at the mosque including cleaners and the guards .',\n",
       " 'They have shown the best attitude that will attract non-Muslims and foreign tourist to come near , asking questions and open their hearts to know more about Islam and even embrace this religion .',\n",
       " 'According to Mr .',\n",
       " 'Raja Aman , non-Muslim visitors visit the mosque to find something that they cannot find from other places .',\n",
       " 'He also said that they ( the volunteers ) will trying to approach visitors who looks like seeking something .',\n",
       " 'Some of them ( the visitors ) will come to the volunteers by their own will to ask questions about Islam and whatever they want to know and most of the questions are about faith and believes .',\n",
       " 'A number of non-Muslims visitors have embrace Islam at the mosque after asking several question to the volunteers .',\n",
       " 'Amazingly for me as a researcher , the volunteers especially Mr .',\n",
       " 'Raja Aman have no religious background in study but he can reflect and answer the questions despite the most difficult questions by the atheist smoothly and logically .',\n",
       " 'He also memorize verses of the Quran and other religion Holy books such as Bible and Veda and use it to explain about Islam and other religion with wisdom and defend the faith of Islam using verses of the other books of the other religion and so on .',\n",
       " 'This should be implemented and practiced by every single Muslims in this world especially Malaysia .',\n",
       " 'Not only for preaching purpose but also in daily life to build a harmony community , calm and peaceful and friendly environment .',\n",
       " 'In researcher opinion , attitude is the important key in order to build a beautiful community and it is also the key of spreading Islam during the time of the Prophet pbuh and his companions .',\n",
       " 'During the observation also , researcher can clearly see the Muslims response towards the coming of non-Muslims visitors inside the mosque .',\n",
       " 'Most of them looking around looks like curious but only one or two person coming near to the volunteer to hear the conversation but then walk away .',\n",
       " 'During the visits , the counter provided at.',\n",
       " '',\n",
       " 'Prosiding Kolokium Siswazah Jabatan Usuluddin dan Falsafah.',\n",
       " '',\n",
       " 'the entrance of prayer hall was surrounded by the visitors .',\n",
       " 'The volunteers are so friendly and they will greet whoever approaching them and answering the questions asked with wisdom .',\n",
       " 'Raja Aman said they will try to not hurt their ( visitor who asking ) feelings and not going to touch the sensitive issue that will make arouse the polemic towards Islam to the visitors .',\n",
       " 'Muslims nowadays should not be so aggressive in defending Islam .',\n",
       " 'Islamophobia , secularism , Liberalism , pluralism and other notion arising behind the global transitions and developments .',\n",
       " 'Wisdom and intellectuality should be applied when Muslims trying to answer accusations and confusions made by the enemies of Islam .',\n",
       " 'Arguments and yelling bad words towards each other should be avoided .',\n",
       " \"Respect to other believes should be practiced so that the true color of Islam will be well shown through Muslims ' personality .\",\n",
       " 'This is what have practiced by the Putra Mosque volunteers and workers and also by the Prophet pbuh and his companions as mentioned before .',\n",
       " '',\n",
       " 'Based on the study and observations mentioned in the previous sections obtained some conclusions as below : The pattern of Islam in Malaysia especially in Putrajaya have been through transitions and changes affected by the responses of Muslims towards incidents and what is happening around .',\n",
       " 'Starting from the Melaka Sultanate Era of The Empire of Melaka , Islam was fully practiced by the Muslims and Sultans on that times really serious in implementing and fulfilling Allah commands written in the Quran and stated in the hadiths .',\n",
       " 'Folks that times are also serious in studying Islam so that they can understand the teachings of Islam and its importance to human being and the universe , hence there are no objections of the consummation or implementation of sharia laws in the government law .',\n",
       " \"Moving to the times after independence-day from 1957 , there are no applications of hudud and qisas in this country's law .\",\n",
       " 'Muslims also different from Muslims back then where the eager and passions in learning and teaching Islam are seriously take part by the folks without exemptions including the government people .',\n",
       " '',\n",
       " 'Prosiding Kolokium Siswazah Jabatan Usuluddin dan Falsafah.',\n",
       " '',\n",
       " \"And nowadays , in the era of globalizations and modernizations , folks are strongly objecting the implementation of sharia law fully in the government's law .\",\n",
       " 'Multi-racial becomes the main reason for refusing this God command for our own good .',\n",
       " 'Muslims are chasing luxury and wealth in order to survive in this world and most of them are neglecting their responsibility as a Muslim .',\n",
       " 'Some of them are also does not really care about what is happening around them .',\n",
       " 'in the same time , the rising of youngsters or so called as Gen Z are eagerly and passionately trying to rebuild the Islamic culture in the community by establishing and joining the NGOs and its activities .',\n",
       " 'Government parties together with the NGOs holding activities together regarding Islam .',\n",
       " 'Regarding to the response of the Muslims towards tourism activity around Putrajaya , especially hold by Putra Mosque , it has been welcomed greatly and warmly .',\n",
       " 'Researcher admit that there are local Muslim object the activities hold by the volunteers in Mosque Tourism activities especially about allowing non-Muslims visitors entering the mosque .',\n",
       " 'However , there are more and more volunteers joining the activities and also Mosque Tour becoming one of the elements in tourism.',\n",
       " '',\n",
       " \"Hornby , Albert Sydney , ( 2010 ), 8th edition , Oxford : Advanced Learner's Dictionary of Current English .\",\n",
       " 'Oxford : Oxford University .',\n",
       " 'Geoffrey Wawro , ( 2008 ), Historical Atlas : A Comprehensive History of the World , Elanora Heights , NSW : Millenium House .',\n",
       " 'William Outhwaite , ( 2003 ), The Blackwell Dictionary of Modern Social Thought , Malden , MA : Blackwell Publishers .',\n",
       " 'Masjid Putra Booklet .',\n",
       " 'Raja Aman , August 2017 (informant , interview ).',\n",
       " 'Sulaiman , Julai 2017 (informant , interview ).',\n",
       " '',\n",
       " 'Prosiding Kolokium Siswazah Jabatan Usuluddin dan Falsafah.',\n",
       " '',\n",
       " 'TAFSIRAN \"ISLAM \" PERSPEKTIF MUHAMMAD ASAD : SOROTAN DAN.',\n",
       " '',\n",
       " 'Nurhayati Abdullah Kamarudin Salleh.',\n",
       " '',\n",
       " 'Jabatan Usuluddin Dan Falsafah , Fakulti Pengajian Islam Universiti Kebangsaan Islam Malaysia.',\n",
       " '',\n",
       " \"Abstrak : Perkataan ' Islam ' di dalam al-Quran telah difahami secara sepakat oleh para ulama Ahl al-Sunnah Wa al-Jama ah merujuk kepada nama agama yang dibawa oleh Nabi Muhammad SAW dan diiktiraf kebenarannya secara mutlak sebagai satu - satunya agama yang diterima di sisi Allah SWT (eksklusif ).\",\n",
       " 'Penganutnya disebut sebagai al-muslim atau al-muslimun , iaitu seorang muslim dalam bentuk kata tunggal atau muslimin dalam bentuk kata jamak .',\n",
       " \"Namun Muhammad Asad mengemukakan tafsiran yang berbeza terhadap perkataan ' Islam ', iaitu penyerahan diri kepada tuhan ( self surrender to God ) dengan makna bahasa secara generik .\",\n",
       " \"Reka bentuk kajian ini ialah analisis kandungan dengan menggunakan kaedah analisis teks dan analisis perbandingan untuk memahami tafsiran ' Islam ' perspektif Muhammad Asad dalam karya tafsir beliau , The Message Of The Qur'an .\",\n",
       " \"Skop kajian melibatkan huraian beliau ke atas teks al-Quran yang mengandungi perkataan 'al-Islam ' dan al-muslimun serta konsep-konsep lain dalam agama .\",\n",
       " \"Hasil kajian mendapati bahawa tafsiran ' Islam ' perspektif Muhammad Asad berada di luar kerangka tauhid kerana membawa kepada fahaman pluralisme agama yang mengiktiraf kebenaran semua agama .\",\n",
       " '',\n",
       " 'Kata kunci : Muhammad Asad , Islam , Islam Liberal , Pluralisme Agama , kebenaran.',\n",
       " '',\n",
       " 'Prosiding Kolokium Siswazah Jabatan Usuluddin dan Falsafah.',\n",
       " '',\n",
       " 'LATAR BELAKANG KAJIAN.',\n",
       " '',\n",
       " 'Muhammad Asad adalah salah seorang pemikir Islam berketurunan Yahudi yang berlatar belakang pengaruh Rabbi yang kuat daripada susur galur orang tuanya ( Muhammad Asad 2016 ).',\n",
       " 'Sejak kecil beliau telah mempelajari kitab-kitab suci Yahudi - Kristian , Old Testamen dan mendalami teks Talmud , Mishna , Gemarra dan Targum dengan bahasa Ibrani (Hebrew ).',\n",
       " 'Beliau turut menguasai bahasa Aramaic , Poland dan Jerman ( Muhammad Asad 1981 , 2016 ).',\n",
       " 'Beliau tidak menghabiskan pengajiannya dalam bidang falsafah dan sejarah seni di Universiti Vienna , tetapi meninggalkan pengajiannya untuk berhijrah ke Berlin demi menceburi bidang kewartawanan .',\n",
       " 'Profesion tersebut membawanya merentasi negara Arab dan mengenali dunia Islam seperti Mesir , Maghribi , Arab Saudi , Iran , Afghanistan , Syria , Amman , Iraq , Kurdistan , Asia Tengah dan Selatan Russia .',\n",
       " 'Nama beliau mendapat perhatian antarabangsa selepas menghasilkan sebuah kisah autobiografi bertajuk \" The Road To Mecca \" mengenai persinggahannya di Tanah Arab dan pemelukan agama Islamnya sekitar tahun 1927-1932 ( Muzaffar Iqbal \" The Message Of The Qur\\'an \" dengan pendekatan moden oleh beliau pada tahun .',\n",
       " 'Di sisi pengkagum beliau yang mengikuti kehidupan dan penulisannya , beliau dianggap sebagai tokoh yang bekerja keras untuk membina jambatan di antara Timur dan Barat .',\n",
       " '',\n",
       " 'Timur Galicea , yang dahulunya merupakan sebahagian daripada empayar Austro-Hungarian ).',\n",
       " 'Nama asal beliau sebelum memeluk Islam ialah Leopold Weiss .',\n",
       " 'Beliau memeluk Islam pada tahun 1926 .',\n",
       " 'Tugasnya sebagai koresponden khas kepada beberapa akhbar Eropah memberi peluang kepadanya mengembara merentasi Afrika dan Asia sehingga berkesempatan bertemu dengan tokoh-tokoh reformis Islam dan tokoh-tokoh Islam ternama .',\n",
       " 'Beliau diberikan kerakyatan Pakistan dan pernah berkhidmat dengan Kementerian Luar Pakistan dan dilantik sebagai duta Pakistan yang pertama ke Pertubuhan Bangsa-bangsa Bersatu ( PBB ).',\n",
       " 'Beliau turut diangkat sebagai Penasihat Raja Saud , dan Raja Faysal bagi kerajaan Arab Saudi dan menjalin hubungan baik dengan Putera Salman , Gabenor Riyadh dan Shaykh Ahmad Zaki al-Yamani , Menteri Minyak dan Sumber Asli di Saudi .',\n",
       " 'Beliau meninggal pada tahun 1992 di Malaga , Sepanyol .',\n",
       " 'mendedahkan dengan siapa beliau mempelajari disiplin agama Islam , siapa di dalam lingkungan kenalannya selain daripada kenalan kerabat Diraja Saudi , adakah beliau mendapat pendidikan formal daripada mana-mana pusat pengajian Islam , apakah bahan bacaan yang menjadi rujukan beliau sepanjang tempoh persinggahan beliau di Tanah Arab , apakah yang membentuk pandangan alam (worldview ) beliau , apakah gambaran beliau terhadap tradisi Islam ?',\n",
       " 'Kekurangan maklumat-maklumat ini pada pandangan Muzaffar Iqbal menjadikan hampir mustahil untuk menilai tahap kepakaran , pengetahuan dan kefahamannya mengenai keluasan ilmu ql-Quran , hadis , dan fekah ( yang telah disumbangkan oleh generasi ilmuwan Muslim menjangkau beberapa abad ).',\n",
       " '',\n",
       " 'Prosiding Kolokium Siswazah Jabatan Usuluddin dan Falsafah.',\n",
       " '',\n",
       " \"The Message Of The Qur'an sering dimanfaatkan oleh kelompok muslim liberal sebagai rujukan .\",\n",
       " 'Kebelakangan ini nama Muhammad Asad sering disebut - sebut dan dipopularkan oleh Islamic Renaissance Front (IRF ) sebagai pemikir Islam yang banyak menyumbang kepada kelompok revivalist .',\n",
       " 'Sejak tahun 2009 lagi IRF pernah menganjurkan program \" A Tribute To Muhammad Asad \" bersama Islamic Book Trust di Auditorium Securities Commision di Mont Kiara pada 23 September Melayu The Message Of The Qur\\'an yang berjudul \\' Risalah al-Qur\\'an \\' pada 26 Februari 2012 di Muzium Seni Islam , Kuala Lumpur ( Dr .',\n",
       " 'Ahmad Farouk Musa Projek penterjemahan ini didanai oleh Institut Kajian Dasar (IKD ) .',\n",
       " 'IRF turut menggunakan slogan yang sama dengan slogan Muhammad Asad dalam tafsir beliau , The Message Of The Qur\\'an , iaitu \" For People Who Think \".',\n",
       " 'Ahmad Farouk Musa , Pengarah IRF baru-baru ini mengisytiharkan kepada umum dalam \" Wacana Pemikiran Reformis \" pada 27 Mac 2017 bahawa IRF bertekad menghidupkan kembali ajaran Muktazilah dan mengakui bahawa IRF adalah penjelmaan semula pemikiran dan aliran rasionalisme Muktazilah di dunia Islam masani.',\n",
       " '',\n",
       " \"Persoalan mengapa Muhammad Asad begitu digemari oleh pihak-pihak ini dapat difahami sekiranya kajian lanjut dijalankan ke atas karya beliau , iaitu The Message Of The Qur'an yang kerap dirujuk oleh mereka .\",\n",
       " '',\n",
       " 'PERMASALAHAN KAJIAN.',\n",
       " '',\n",
       " \"Penterjemahan dan tafsiran perkataan 'islam ' merupakan salah satu contoh gugatan terhadap akidah kerana ia mengandungi konsep agama dan berkaitan dengan.\",\n",
       " '',\n",
       " 'pada 12 Disember 2009 .',\n",
       " 'Mereka mendakwa bergerak sebagai gerakan intelektual dan badan pemikir yang mempromosikan demokrasi , kebebasan dan keadilan sosial ; memperjuangkan keunggulan akal ; bercita-cita membebaskan pemikiran umat Islam daripada kekerasan ortodoks dan konservatif .',\n",
       " 'menyebarkan fahaman Islam Liberal di Malaysia .',\n",
       " 'Ia mendapat sumber kewangan daripada Konrad Adeneur Foundation (KAD ), sebuah Yayasan Barat yang aktif memberi sumbangan kepada pertubuhan-pertubuhan yang mendokong fahaman liberal di seluruh dunia .',\n",
       " 'IKD banyak mener buku-buku dan artikel dengan tajuk-tajuk bercorak Islam tetapi kebanyakannya berbau liberal dan turut membawa unsur pluralisme agama .',\n",
       " 'Bahan-bahan bacaan tersebut dijual kepada umum di kedai-kedai buku ilmiah di Malaysia .',\n",
       " '',\n",
       " 'Prosiding Kolokium Siswazah Jabatan Usuluddin dan Falsafah.',\n",
       " '',\n",
       " 'persoalan tauhid yang menegaskan Islam sebagai satu-satunya agama yang diterima di sisi Allah SWT ( Syed Muhammad Naquib Al-Attas 2013a ).',\n",
       " \"Di sisi ulama Ahl al - Sunnah Wa al-Jama ah , perkataan ' Islam ' sudah jelas merujuk kepada nama satu agama yang dibawa oleh Nabi Muhammad SAW berdasarkan nas-nas yang terang .\",\n",
       " 'Muhammad Asad di dalam prakata The Message Of The Qur\\'an menyatakan bahawa perkataan \"al-Islam \" tidak sesuai diterjemahkan sebagaimana kefahaman Islam hari ini , iaitu Islam sebagai satu nama agama khas yang disyariatkan kepada Nabi Muhammad SAW .',\n",
       " \"Beliau mentafsirkan ' Islam ' sebagai penyerahan diri kepada tuhan ( self surrender to God ) mengikut makna bahasa secara generik , bukan merujuk kepada nama sebuah agama yang formal .\",\n",
       " 'Percanggahan ini dianggap oleh Muhammad Asad sekadar perbezaan pandangan yang lazim berlaku sebagaimana para ulama terdahulu jua berselisih pendapat sesama mereka .',\n",
       " 'Tafsiran dan pemahaman Muhammad Asad terhadap kalimah \" Islam \" seperti kenyataan beliau dalam prakata The Message Of The Qur\\'an memberi petunjuk bagaimana tafsiran tersebut dimanfaatkan oleh kelompok muslim liberal untuk mengabsahkan fahaman pluralisme agama .',\n",
       " 'Nurcholish Madjid , seorang tokoh liberal Indonesia turut merujuk kepada tafsir Muhammad Asad dalam surah Ali Imran ayat 19 ketika memahami \" Islam \" sebagai makna Islam generik atau makna literal iaitu sikap berserah diri kepada Tuhan dan bukan dengan makna Islam sebagai nama agama ( proper name ) atau sebagai satu agama yang formal .',\n",
       " 'Persoalan yang timbul , adakah interpretasi Muhammad Asad terhadap perkataan \" Islam \" sekadar perbezaan pendapat yang tidak mempunyai apa-apa implikasi dan patut diterima sebagaimana yang lazim berlaku di kalangan para ulama terdahulu ?',\n",
       " 'Sekiranya ia mempunyai implikasi , apakah implikasi tersebut ?',\n",
       " '',\n",
       " 'OBJEKTIF KAJIAN.',\n",
       " '',\n",
       " 'Kajian ini bertujuan untuk menganalisa beberapa perkara : 2 .',\n",
       " 'Bagaimana Muhammad Asad memahami perkataan \"al-Islam \" dan adakah terdapat kesan ke atas konsep-konsep lain dalam agama ?',\n",
       " 'Apakah implikasi yang akan timbul daripada makna perkataan \"al-Islam \" perspektif Muhammad Asad ?',\n",
       " '',\n",
       " 'Prosiding Kolokium Siswazah Jabatan Usuluddin dan Falsafah.',\n",
       " '',\n",
       " 'Adakah tafsiran \"al-Islam \" perspektif Muhammad Asad wajar diterima sebagai perbezaan pendapat ?',\n",
       " '',\n",
       " 'METODOLOGI KAJIAN.',\n",
       " '',\n",
       " 'Kajian ini bersifat analitikal deskriptif dengan reka bentuk analisa kandungan .',\n",
       " 'Pengumpulan data dilakukan ke atas terjemahan dan huraian yang dikemukakan oleh Muhammad Asad terhadap nas-nas al-Quran yang mengandungi perkataan \"al-Islam \" dan al-muslimun di dalam karya beliau , The Message Of The Qur\\'an .',\n",
       " 'Penyelidik mengaplikasi kaedah analisis teks dan analisis perbandingan untuk memahami makna perkataan \" Islam \" daripada perspektif Muhammad Asad dan membandingkan dengan huraian oleh tiga rujukan muktabar yang lain iaitu Tafsir al - Tabari , Tafsir al-Razi dan Tafsir Pimpinan al-Rahman .',\n",
       " \"Analisis perbandingan juga dilakukan ketika proses rujuk silang ke atas penulisan-penulisan tokoh yang lain seperti Nurcholish Madjid yang menggunapakai pandangan Muhammad Asad di dalam The Message Of The Qur'an untuk mendokong idea pluralisme agama .\",\n",
       " 'Menurut Ghazali Darusalam dan Sufean Husin ( 2016 ), kajian analisis kandungan biasanya terdiri daripada dua jenis , pertama analisis konseptual yang membuat kajian terhadap konsep-konsep sesuatu kandungan teks .',\n",
       " 'Setiap kandungan teks diteliti daripada sudut makna yang eksplisit ( tersurat ) dan implisit (tersirat ).',\n",
       " 'Kedua , analisis semantik atau relational yang mengkaji hubungan konsep-konsep yang bermakna .',\n",
       " 'Dalam konteks kajian ini , kajian ke atas nas al-Quran yang mengandungi perkataan \" Islam \" dan \"muslimun \" membawa penyelidik kepada penelitian ke atas nas-nas yang mempunyai terminologi dan konsep lain seperti \" agama \", \" keselamatan akhirat \", \" ahli kitab \", \"hanif \" dan \"fitrah \" kerana huraian oleh Muhammad Asad berhubungan dengan konsep-konsep tersebut .',\n",
       " 'Cara penyelidik berinteraksi dengan teks-teks yang dikaji ialah dengan menyenaraikan , melihat kepada definisi setiap terminologi atau terma yang berkaitan , membandingkan , dan mengkaji sebab dan akibat atau kesan .',\n",
       " '',\n",
       " 'Prosiding Kolokium Siswazah Jabatan Usuluddin dan Falsafah.',\n",
       " '',\n",
       " 'KERANGKA TEORITIKAL.',\n",
       " '',\n",
       " 'Kajian ini dibina atas kerangka teoritikal berasaskan dua nas al-Quran di dalam surah.',\n",
       " '',\n",
       " 'Imran yang berikut :                                                             Maksudnya : Sesungguhnya agama ( yang benar dan diredhai ) di sisi Allah ialah Islam .',\n",
       " 'Dan orang-orang ( Yahudi dan Nasrani ) yang diberikan kitab itu tidak berselisih ( mengenai agama Islam dan enggan menerimanya ) melainkan setelah sampai kepada mereka pengetahuan yang sah tentang kebenarannya ; ( perselisihan itu pula ) semata-mata kerana hasad dengki yang dalam kalangan mereka .',\n",
       " 'Dan ( ingatlah ), siapa yang kufur ingkar akan ayat-ayat keterangan Allah , maka Allah amat segera hitungan hisabnya.',\n",
       " '',\n",
       " 'Dan ayat seterusnya , Firman Allah SWT :                                 Maksudnya : Dan sesiapa yang mencari agama selain daripada agama Islam , maka tidak akan diterima daripadanya , dan ia pada hari akhirat kelak dari orang-orang yang rugi.',\n",
       " '',\n",
       " 'Berdasarkan tafsiran para sahabat dan ulama yang pakar dalam bidang Tafsir seperti Ibnu Abbas , Ibnu Kathir , al-Tabari , al-Razi , al-Qurtubi dan majoriti yang lain , kedua-dua ayat tersebut secara tegas menyatakan Islam sebagai satu-satunya agama yang benar secara mutlak ; bahawasanya agama-agama yang lain selain Islam tidak diterima di sisi Allah SWT .',\n",
       " 'Ia telah menjadi pegangan arus perdana umat ini sejak zaman Rasulullah SAW sehingga hari ini .',\n",
       " 'Sehinggakan Allah SWT menetapkan bahawa sesiapa yang menolak agama Islam akan berada dalam kerugian pada hari akhirat .',\n",
       " 'Islam sebagai nama khas.',\n",
       " '',\n",
       " 'Al-Rahman Kepada Pengertian Al-Quran , ( Kuala Lumpur : Dar Al-Fikr , 1998 ).',\n",
       " 'Diter semula dengan izin dan kawalan daripada badan autoriti agama di Malaysia yang juga merupakan penerbit asal , iaitu Jabatan Kemajuan Islam Malaysia ( JAKIM ).',\n",
       " '',\n",
       " 'Prosiding Kolokium Siswazah Jabatan Usuluddin dan Falsafah.',\n",
       " '',\n",
       " 'yang merujuk kepada umat Nabi Muhammad SAW diperjelaskan ciri-cirinya dengan konsep yang khusus , mempunyai prinsip dan dasar akidah yang khusus , ajaran syariat yang khusus dan akhlak ajaran Rasulullah SAW yang mencirikannya sebagai sebuah agama yang diterima di sisi Tuhan .',\n",
       " '',\n",
       " \"Islam Menurut Perspektif Muhammad Asad Dalam prakata The Message Of The Qur'an , Muhammad Asad membuat kenyataan bahawa al-Quran tidak dapat difahami dengan tepat sekiranya dibaca dengan mengambil kefahaman Islam yang telah 'diinstitusikan ' dengan set undang-undang , prinsip dan amalan seperti ramai orang memahaminya hari ini .\",\n",
       " 'Ia disebabkan masyarakat Arab yang pertama kali mendengar seruan Islam ketika itu tidak memahami agama sebagaimana umat hari ini memahami Islam sebagai nama agama bagi pengikut Nabi Muhammad SAW .',\n",
       " 'Muhammad Asad menekankan kepentingan pengetahuan filologikal ( ilmu yang mempelajari bahasa dalam sumber-sumber sejarah yang ditulis , yang merupakan kombinasi daripada kritik sejarah , sastera dan linguistik ).',\n",
       " 'Oleh itu beliau mengesyorkan supaya setiap perkataan atau ayat al-Quran yang diterjemah perlu dibataskan kepada konteks semasa ayat tersebut diturunkan berdasarkan suasana dan latar belakang masyarakat ketika itu sahaja termasuklah perkataan \"al-Islam \".',\n",
       " \"Menurut beliau , kalimah 'al-Islam ' sepatutnya diterjemahkan sebagai sikap menyerah diri kepada tuhan ( self surrender to God ) kerana masyarakat Arab ketika itu hanya memahami agama secara begitu .\",\n",
       " 'For instance , when his contemporaries heard the words islam and muslim , they understood them as denoting man\\'s \" self surrender to God \" and \" one who surrender himself to God \" without limiting these terms to any spesific community or denomination ( Muhammad Asad.',\n",
       " '',\n",
       " 'Ketika membuat ulasan berkenaan terjemahan perkataan muslimun dalam ayat 35 , surah al-Qalam , Muhammad Asad menjelaskan : This is the earliest occurence of the term muslimun (sing .',\n",
       " 'Muslim ) in the history of Quranic revelation .',\n",
       " 'Throughout this work , I have translated the terms muslim and islam in accordance with their original connotations , namely , \" one who surrenders [ or \" has surrendered \"].',\n",
       " '',\n",
       " 'Prosiding Kolokium Siswazah Jabatan Usuluddin dan Falsafah.',\n",
       " '',\n",
       " 'himself to God , and \" man\\'s self-surrender to God \"; the same holds good of all forms of the verb aslama occuring in the Quran .',\n",
       " 'It should be borne in mind that the \"intitutionalized \" use of these terms - that is , their exclusive application to the followers of the Prophet Muhammad - represents a definitely post-Quranic development and , hence , must be avoided in a translation of the Quran ( Muhammad Asad 1980 , 885 -.',\n",
       " '',\n",
       " 'Kenyataan ini menjelaskan bahawa beliau mengaplikasi makna Islam secara literal berdasarkan konotasi asal perkataan daripada sudut bahasa ke atas semua bentuk kata ter dalam al-Quran yang berasal daripada kata kerja aslama - berserah diri .',\n",
       " \"Menurutnya , penterjemahan al-Quran ke atas sebarang kata ter daripada kata kerja aslama perlu mengelak daripada memberi pengertian kepada ' agama Islam ' dan pengikut Nabi Muhammad SAW kerana pemaknaan eksklusif secara formal ke atas agama Islam dan pengikut Nabi Muhammad SAW merujuk kepada tempoh selepas sejarah perkembangan al-Quran , bukan dari awal ketika al - Quran diturunkan .\",\n",
       " '',\n",
       " 'HASIL DAN PERBINCANGAN KAJIAN.',\n",
       " '',\n",
       " 'Analisa ke atas ayat 19 , surah Ali Imran menunjukkan bahawa agama yang benar di sisi Tuhan menurut perspektif Muhammad Asad ialah \" sikap menyerah diri ( tunduk , patuh ) kepada Tuhan \".',\n",
       " 'Hanya mereka yang menafikan risalah Tuhan : iaitu \" sikap tunduk dan berserah kepada Tuhan sebagai agama \" dianggap mengikut agama yang palsu dan akan dihisab .',\n",
       " 'Beliau menterjemahkan : \"Behold , the only [true ] religion in the sight of God is [man\\'s ] self surrender unto Him ; and those who were vouchsafed revelation aforetime took , out of mutual jealousy , to divergent views [ on this point ] only after knowledge [thereof ] had come unto him .',\n",
       " 'But as for him who denies the truth of God\\'s messages-behold , God is swift in reckoning \"!',\n",
       " '( Al-Quran , Ali Imran 3 : 19 ).',\n",
       " '',\n",
       " 'dalam The Message of The Quran .',\n",
       " '',\n",
       " 'Prosiding Kolokium Siswazah Jabatan Usuluddin dan Falsafah.',\n",
       " '',\n",
       " 'Berdasarkan huraian Muhammad Asad , orang-orang yang diberikan kitab di dalam ayat di atas diterjemahkan kepada \" kaum yang diturunkan wahyu \" sebelum kedatangan Nabi Muhammad SAW ( those who were vouchsafed revelation aforetime took ) secara umum .',\n",
       " 'Ia bukan merujuk kepada Ahli Kitab yang secara khusus merujuk kepada kaum Yahudi dan Nasrani sahaja seperti tafsiran majoriti ulama Tafsir .',\n",
       " 'Tetapi dalam huraiannya beliau menjelaskan , kemungkinan besar ia memberi maksud yang lebih luas dan relevan kepada semua kaum yang mempunyai manuskrip kitab suci yang masih wujud walaupun sebahagiannya telah terseleweng atau hilang sebahagian yang asal ( Muhammad Asad 1980 : 69 ).',\n",
       " 'Terjemahan dan huraian ini menggambarkan perspektif Muhammad Asad terhadap penganut-penganut agama lain ; mana-mana agama yang menerima prinsip ini adalah diterima di sisi Tuhan walaupun sebahagian ajaran telah terseleweng daripada asal .',\n",
       " 'Menurut Asad , kesemua kaum ini pada asalnya percaya kepada doktrin keesaan Tuhan (oneness ) dan berpegang kepada sikap penyerahan diri ( kepatuhan ) kepadaNya sebagai intipati ajaran kepada semua agama yang benar ( the essence of all true religion ).',\n",
       " \"Beliau menjelaskan lagi , yang menjadikan mereka berpaling daripada ajaran sebenar adalah kebanggaan terhadap kaum ( sectarian pride ) dan saling menafikan ( kebenaran ) pihak yang lain ( mutual exclusiveness)(Muhammad Asad All these communities at first subscribed to the doctrine of God's oneness and held that man's self-surrender to Him ( islam in its original connotation ) is the essence of all true religion .\",\n",
       " 'Their subsequent divergencies were an outcome of sectarian pride and mutual exclusiveness ( Muhammad Asad 1980 : 69 ).',\n",
       " '',\n",
       " 'Pemahaman Asad turut diikuti oleh Nurcholish Madjid yang menyokong dakwaan Sayyid Muhammad Rasyid Ridha yang dipetik daripada Abdul Hamid Hakim , seorang yang dianggap sebagai ulama pembaharu oleh beliau dari Padang Panjang , Sumatera Barat bahawa pengertian Ahli Kitab tidak hanya merujuk kaum Yahudi , Kristian dan Majusi sahaja , tetapi juga termasuk penganut Hindu , Budha , kaum Cina , Jepun dan lain-lain kerana mereka adalah penganut suatu jenis kitab suci yang mengandungi ajaran dasar tauhid atau Ketuhanan Yang Maha Esa sehingga kini .',\n",
       " 'Abdul Hamid Hakim mengatakan memang mereka telah menyimpang daripada tauhid itu , dan terjadi perubahan-perubahan dalam bahagian-bahagian tertentu kitab suci.',\n",
       " '',\n",
       " 'Prosiding Kolokium Siswazah Jabatan Usuluddin dan Falsafah.',\n",
       " '',\n",
       " 'mereka , namun hal itu tidak perlu dihairankan kerana perkara yang sama juga terjadi pada kaum Yahudi dan Kristian ( Nurcholish Madjid 1995 ).',\n",
       " 'Terjemahan Muhammad Asad ke atas ayat 62 dalam surah al-Baqarah bahawa kaum Yahudi dan Nasrani akan selamat di akhirat konsisten dengan pemahaman bahawa Islam bukan satu-satunya agama yang benar .',\n",
       " \"Terjemahan Muhammad Asad memaksudkan semua kaum Yahudi , Kristian , dan Sabi'in adalah bertauhid kerana mereka telah dianggap beriman kepada Tuhan sekalipun telah menyeleweng sebagaimana terjemahan dan ulasan beliau mengenai ' orang-orang yang diberikan kitab ' dalam ayat 19 , surah Ali Imran di atas .\",\n",
       " \"Beliau menghuraikan ayat 62 , surah al-Baqarah bahawa setiap penganut agama sama ada Yahudi , Kristian , Sabi'in dan lain-lain penganut adalah selamat di akhirat sekiranya memenuhi tiga elemen prasyarat untuk mendapat keselamatan akhirat , iaitu kepercayaan kepada Tuhan , kepercayaan kepada hari akhirat , dan melakukan perbuatan baik di dunia .\",\n",
       " 'Verily , those who have attained to faith [ in this divine writ ], as well as those who follow the Jewish faith , and the Christians , and the Sabians - all who believe in God and Last Day and do righteous deeds - shall have their reward with their Sustainer ; and no fear need they have , and neither shall they grieve \".',\n",
       " '( Al-Quran , al-Baqarah 2:62 ).',\n",
       " '',\n",
       " 'The above passage-which recurs in the Quran several times-lays down a fundamental doctrine of Islam .',\n",
       " 'With a breadth of vision unparalleled in any other religious faith , the idea of \"salvation \" is here made conditional upon three elements only : Belief in God , belief in the Day of Judgement , and righteous action in life .',\n",
       " '( Muhammad Asad 1980 : 14 ).',\n",
       " '',\n",
       " 'Lebih jelas , beliau menghuraikan ayat 112 , surah al-Baqarah dengan mengatakan bahawa keselamatan di akhirat tidak khusus diperuntukkan kepada mana - mana nama ( agama ), bahkan ia terbuka kepada sesiapa yang mengakui keesaan Allah dan melakukan perkara-perkara yang baik : \" Thus , according to the Quran , salvation is not reserved for any particular \"denomination \", but is open to everyone who conciously realizes the oneness of God , surrenders himself to His will and , by living.',\n",
       " '',\n",
       " 'Prosiding Kolokium Siswazah Jabatan Usuluddin dan Falsafah.',\n",
       " '',\n",
       " 'righteously , gives practical effect to this practical attitude\"(Muhammad Asad 1980 :.',\n",
       " '',\n",
       " 'Muhammad Asad berpandangan bahawa ayat 136 , surah al-Baqarah yang menyebut tentang pengiktirafan Islam terhadap semua para Nabi terdahulu yang diberikan wahyu tanpa membeza-bezakan mereka dengan Nabi Muhammad SAW merupakan isyarat penerimaan Tuhan terhadap agama-agama monoteisme yang ada pada hari ini .',\n",
       " 'Lalu beliau menjelaskan dalam huraian ayat 139 , al-Baqarah bahawa setiap individu akan diadili berdasarkan kepercayaan masing-masing dan mengikut amal perbuatannya sendiri .',\n",
       " \"The Jews believe that prophethood was a priviledge granted to the children of Israel alone , while the Christians maintain that Jesus-who , too , descended from the children of Israel-was God's final manifestation on earth ; and each of these two denominations claims that salvation is reserved to its followers alone .\",\n",
       " 'The Quran refutes these ideas by stressing , in the next sentence , that God is the Lord of all mankind , and that every individual will be judged on the basis of his own beliefs and his own behaviour alone .',\n",
       " '( Muhammad Asad 1980 : 29 ).',\n",
       " '',\n",
       " 'Kenyataan Muhammad Asad sedemikian boleh difahami berpunca daripada pemahaman beliau ke atas agama \"hanif \" yang disebut dalam al-Quran adalah merujuk kepada agama-agama monoteisme yang wujud pada hari ini , contohnya ayat mendapatkan kesimpulan bahawa setiap manusia akan diadili di atas kepercayaan agama masing-masing berdasarkan tingkah laku sendiri kerana pada fikiran Asad , para Nabi dan Rasul terdahulu yang tidak menganut Islam juga diterima di sisi Tuhan kerana tidak mempersekutukan Allah , percaya kepada prinsip Tuhan yang satu                                     Meaning : \" And they say , \" Be Jews \" - or , \" Christian \"- \" and you shall be on the right path \".',\n",
       " 'Say : \" Nay , but [ ours is ] the creed of Abraham , who turned away from all that is false , and was not of those who ascribe divinity to aught beside God \".',\n",
       " '',\n",
       " 'Prosiding Kolokium Siswazah Jabatan Usuluddin dan Falsafah.',\n",
       " '',\n",
       " 'Menurut Asad , masyarakat sebelum zaman kedatangan Islam terus memahami ayat ini dengan konotasi monotheistic .',\n",
       " 'Beliau mentafsirkan makna \"hanif \" sebagai berpaling daripada sesuatu yang palsu ( turned away from all that is false ) iaitu daripada perbuatan berdosa , mementingkan keduniaan (worldiness ) dan mempercayai khurafat seperti menyembah atau memuja sesuatu makhluk tanpa pengertian yang mengandungi makna tauhid .',\n",
       " 'Pengertian tanpa makna tauhid tersebut dapat difahami apabila beliau mentafsirkan perkataan \"fitrah \" agama yang lurus (hanif ) dalam ayat 30 , surah Al - Rum , adalah bermaksud agama yang tunduk kepada perintah Tuhan yang satu tanpa merujuk secara khusus kepada agama Islam .',\n",
       " 'Beliau menghuraikan ayat 30 , surah Al - Rum ini dengan satu hadis yang masyhur , daripada Abu Hurairah RA sabda Nabi.',\n",
       " '',\n",
       " 'kl mwlwd ywld `l~ lfTr@ fbwh yhwdnh w ynSrnh w myjsnh \" Setiap anak yang lahir , dilahirkan atas fitrah , maka kedua ibu bapanyalah yang mencorakkannya menjadi Yahudi , Nasrani atau.',\n",
       " '',\n",
       " 'Istilah ibu bapa di dalam hadis ini menurut Asad mempunyai pengertian yang lebih luas , bukan secara langsung merujuk kepada ibu bapa , iaitu pengaruh sosial dan persekitaran ( Muhammad Asad 1980 , 2016 ).',\n",
       " 'Konsep tauhid dan konsep monotheistic walaupun sama-sama menekankan prinsip satu Tuhan , namun kedua-duanya tidak sama dalam erti kata sebenar .',\n",
       " 'Hakikat tauhid sebagai intipati ajaran yang diturunkan kepada para Nabi dan Rasul sejak Nabi Adam sehingga Nabi Muhammad SAW tidak terdapat dalam mana-mana agama lain selain Islam .',\n",
       " 'Imam al-Tabari mentafsirkan agama hanif yang disebut dalam ayat 30 surah al-Rum adalah agama Islam berdasarkan hadis-hadis yang diriwayatkan bagi mentafsir ayat ini .',\n",
       " 'Menurut Khalif Muammar ( 2013 ), \" tidak ada seorang pun Nabi dan Rasul yang diutus oleh Allah dapat dianggap beragama Yahudi , Nasrani , apatah lagi beragama Hindu dan Budha \".',\n",
       " 'Anggapan bahawa Allah menurunkan banyak agama dan semuanya sah di sisi Allah adalah tidak benar .',\n",
       " 'Hakikatnya semua Nabi dan Rasul.',\n",
       " '',\n",
       " 'Prosiding Kolokium Siswazah Jabatan Usuluddin dan Falsafah.',\n",
       " '',\n",
       " 'membawa risalah yang sama , agama yang sama , dari sumber yang sama dan Nabi Muhammad adalah Rasul yang terakhir dalam pusingan kenabian .',\n",
       " 'Khalif menyatakan lagi bahawa , intipati agama Islam sudah bermula sejak zaman Nabi Adam , namun ia tidak disebut sebagai din ( agama yang lengkap dengan aturan dan sistem kehidupan manusia yang bertamadun ), kerana itu ia disebut sebagai millah ( belum mempunyai aturan sistem kehidupan yang lengkap ).',\n",
       " 'Namun para Nabi dan Rasul serta pengikut mereka yang autentik sudah disebut muslim atau muslimun , iaitu berserah diri kepada Allah .',\n",
       " 'Selepas kedatangan Nabi Muhammad SAW sebagai penutup kenabian , maka telah sempurnalah agama Allah sebagai din yang dinamakan sebagai Islam : \" Pada hari ini , aku telah sempurnakan bagi kamu agama kamu , dan aku telah redha akan Islam itu menjadi agama untuk kamu\"(Al-Quran , Al-Maidah 5 :.',\n",
       " '',\n",
       " 'Tidak memadai dengan hanya mengakui Allah sebagai Tuhan , mempercayai hari akhirat dan berbuat baik untuk menjadi syarat mana-mana agama itu diterima di sisi Allah .',\n",
       " 'Syed Muhammad Naquib Al-Attas ( 2013 ) mengkiaskan sikap Yahudi dan penganut agama lain yang melakukan penyerahan tanpa mengikut kaedah dan bentuk yang diberi pengesahan atau diperakui Allah SWT adalah umpama sikap Iblis yang tercatat di dalam al-Quran sebagai makhluk pertama yang menunjukkan contoh sikap kafir walaupun Iblis amat mengenal dan mengakui Allah sebagai Tuhan .',\n",
       " 'Menurut para mufassirin , Islam yang disebut dalam ayat 19 , surah Ali.',\n",
       " '',\n",
       " 'adalah agama Islam ( dalam pengertian sebagai nama agama khas ).',\n",
       " 'Agama terbina daripada akidah dan syariat .',\n",
       " 'Para Nabi dan Rasul adalah utusan Allah yang datang silih berganti membawa syariat yang berbeza kerana syariat ( peraturan , undang - undang dan panduan cara hidup ) boleh berubah mengikut maslahat bersesuaian dengan zaman masing-masing .',\n",
       " 'Tetapi akidah yang bersifat pegangan , kepercayaan ketuhanan dan kenabian sudah tentu tidak akan berubah selama-lamanya kerana Tuhan yang sama ( Allah ) hanya menurunkan satu agama sepanjang zaman kepada umat manusia .',\n",
       " 'Terdapat hadis sahih Bukhari meriwayatkan daripada Abu Hurairah RA bahawa Rasulullah SAW bersabda : t wmht hm sh~t wdyn hm wHd lnby khw@ mn `l Maksudnya : \" Para Nabi adalah saudara sebapa , ibu-ibu mereka adalah berbeza dan agama mereka adalah satu \".',\n",
       " '',\n",
       " 'Prosiding Kolokium Siswazah Jabatan Usuluddin dan Falsafah.',\n",
       " '',\n",
       " 'Perhatikan perkataan din yang terdapat dalam lafaz ( matan ) hadis di atas yang secara jelas bermaksud \" agama \".',\n",
       " 'Agama dalam bentuk asal para Nabi dan Rasul terdahulu ( bukan merujuk kepada agama monoteisme hari ini ) mempunyai perintah ibadat yang sama seperti yang diperintahkan dalam agama Islam .',\n",
       " 'Perbezaan hanya berlaku dalam tatacara pelaksanaan sahaja .',\n",
       " 'Oleh kerana itulah al-Quran mengajarkan sikap tidak membeza-bezakan para Nabi dan Rasul dan menjadikannya sebagai salah satu rukun tauhid ( Anis Malik Thoha 2009 ).',\n",
       " 'Keterangan lain yang menjelaskan bahawa agama yang diturunkan oleh Allah SWT hanya satu , iaitu Islam juga terdapat dalam nas al-Quran iaitu ayat 159 , surah al -.',\n",
       " '',\n",
       " 'Imam Fakhr al-Din Al-Razi mentafsirkan \" orang yang memecahkan agama \" ( farraqa dinahu ) dalam ayat ini adalah mereka yang mengakui sebahagian ayat dan mengingkari sebahagian yang lain ( Al-Razi 2000 ).',\n",
       " 'Penelitian ke atas Tafsir Mafatih al-Ghaib oleh Imam Fakhr al-Din al-Razi dan Tafsir al-Tabari berdasarkan hadis - hadis yang meriwayatkan tafsiran ayat ini , membawa kepada rumusan bahawa ayat ini ditujukan kepada kalangan musyrik yang menyembah berhala , kaum Yahudi dan Nasrani dan umat Islam yang menyeleweng daripada agama dengan melakukan perkara bidaah , sesat dan syubhat .',\n",
       " 'Menurut Al-Tabari ( 2008 ), ayat ini menerangkan Nabi Muhammad SAW berlepas diri daripada golongan ini termasuk kaum Yahudi dan Nasrani kerana mereka berpura-pura menjadi pengikut agama yang hanif , kerana membuat perkara - perkara baru dalam agama , yang sesat dari jalan yang lurus dan dari agama yang benar , iaitu agama Nabi Ibrahim (millah ) yang disebut dalam Tafsir al-Tabari beragama Islam .',\n",
       " 'Oleh kerana sikap ingkar kepada ayat-ayat Allah dan sikap kaum Yahudi dan kristian yang enggan mengikut Islam , iaitu satu-satunya agama yang lurus (hanif ) yang juga merupakan agama para Nabi dan Rasul , menyebabkan mereka dianggap \" orang yang memecahbelahkan agama \".',\n",
       " 'Jadi , isu sebenar perpecahan agama berlaku bukanlah disebabkan oleh dakwaan kebenaran eksklusif oleh satu pihak seperti yang dikatakan oleh Muhammad Asad yang menjadi punca gejala sektarian .',\n",
       " 'Keingkaran dan penafian terhadap agama yang dibawa oleh Nabi Muhammad SAW yang menjadikan agama yang benar telah terpecah .',\n",
       " '',\n",
       " 'Prosiding Kolokium Siswazah Jabatan Usuluddin dan Falsafah.',\n",
       " '',\n",
       " 'Tafsiran perkataan Islam yang dikemukakan oleh Muhammad Asad merupakan idea baru yang tidak pernah timbul di zaman Rasulullah SAW dan para sahabat .',\n",
       " 'Bagi Asad , dakwaan kebenaran mutlak pada agama Islam atau mana-mana agama yang mempunyai dakwaan kebenaran adalah punca kepada perpecahan .',\n",
       " 'Justeru perkataan \" Islam \" sepatutnya diterjemahkan sebagai \" sikap yang tunduk dan patuh kepada Tuhan \", bukan satu nama khas .',\n",
       " 'Menurut Muhammad Asad , semua yang menyerah diri kepada Tuhan adalah muslim yang dijamin keselamatan dalam al-Quran tanpa melihat kepada agama apapun penganutnya selagi mereka berpegang kepada kepercayaan monoteisme sekalipun ajaran mereka telah terpesong disebabkan faktor sosio budaya yang mempengaruhi perubahan itu .',\n",
       " 'Sebaliknya masing-masing individu akan diadili berdasarkan kepercayaan masing-masing dan tindak tanduk sendiri .',\n",
       " 'Menurut beliau , sesiapa yang percaya kepada Tuhan , berbuat baik , dan percaya kepada hari akhirat akan selamat di akhirat kerana keselamatan di akhirat tidak tertakhluk kepada nama mana-mana agama ( baca penganut mana-mana agama ).',\n",
       " 'Tafsiran beliau boleh membawa kepada pengiktirafan kebenaran semua agama .',\n",
       " 'Pandangan ini bercanggah dengan prinsip akidah dan tauhid yang menegaskan kebenaran Islam sebagai satu-satunya agama yang diterima di sisi Tuhan .',\n",
       " 'Oleh itu , tafsiran beliau tidak boleh dianggap perbezaan pendapat yang lumrah kerana perbezaan pandangan di kalangan umat Islam hanya dibenarkan berlaku selama ia tidak melibatkan perkara pokok akidah dan dalam konteks fekah pula , adalah menyalahi syarak untuk berselisih pendapat dalam perkara yang sudah tetap , jelas di dalam al-Quran ( qat.',\n",
       " '',\n",
       " 'Al-Quran al-Karim .',\n",
       " 'Abdullah bin Muhammad Basmeih .',\n",
       " '1998 .',\n",
       " 'Tafsir Pimpinan Al-Rahman Kepada Pengertian Al-Quran .',\n",
       " 'Kuala Lumpur : Dar Al-Fikr .',\n",
       " 'Ahmad Nabil Amir .',\n",
       " '2016 .',\n",
       " 'Muhammad Asad Dan Islam .',\n",
       " 'Islamic Renaissance Front . [ 1 Januari 2016 ].',\n",
       " 'Al-Bukhari Abu Abd .',\n",
       " 'Allah Muhammad bin Ismail .',\n",
       " 't.th .',\n",
       " 'Sahih al-Bukhari .',\n",
       " \"Beirut : Dar Ihya ' al-Kutub al -.\",\n",
       " '',\n",
       " 'Prosiding Kolokium Siswazah Jabatan Usuluddin dan Falsafah.',\n",
       " '',\n",
       " 'Al-Bukhari Abu Abd .',\n",
       " 'Allah Muhammad bin Ismail .',\n",
       " 't.th .',\n",
       " 'Mukhtasar Sahih al-Bukhari Text And Translation .',\n",
       " 'Terj .',\n",
       " 'Ahmad Zidan & Dina Zidan .',\n",
       " 'Cairo : Islamic Inc .',\n",
       " 'Publishing & Distribution .',\n",
       " 'Al-Razi , Fakhruddin Muhammad Ibnu Umar .',\n",
       " '2000 .',\n",
       " 'Al-Tafsir Al-Kabir Aw Mafatih Al-Ghaib .',\n",
       " 'Jld .',\n",
       " '7-8 .',\n",
       " 'Beirut : Dar al-Kutub al - Al-Tabari , Abu Jaafar Muhammad Ibnu Jarir .',\n",
       " '2008 .',\n",
       " 'Tafsir Al-Tabari .',\n",
       " '( M .',\n",
       " 'Akbar , Penyt .',\n",
       " 'Terj .',\n",
       " 'Ahmad Affandi et al .',\n",
       " 'Jakarta : Pustaka Azzam .',\n",
       " 'Anis Malik Thoha .',\n",
       " '2009 .',\n",
       " 'Fahaman Pluralisme Agama Merosakkan Akidah .',\n",
       " 'Seminar Pemurnian Akidah 2009 , hlm.',\n",
       " '49-73 .',\n",
       " 'Kuala Lumpur : Pejabat Mufti Wilayah Dr .',\n",
       " 'Ahmad Farouk Musa .',\n",
       " '2014 .',\n",
       " \"Speech by Dr Ahmad Farouk Musa during Book Launch Event of Risalah al - Qur ' an at the Islamic Arts Museum on .\",\n",
       " '',\n",
       " 'february-2012 / [ 1 Januari 2016 ].',\n",
       " 'Ghazali Darusalam & Sufean Husin .',\n",
       " '2016 .',\n",
       " 'Metodologi Penyelidikan Dalam Pendidikan .',\n",
       " 'Kota Kinabalu : pener Malaya .',\n",
       " 'Khalif Muammar .',\n",
       " '2013 .',\n",
       " 'Islam Dan Pluralisme Agama .',\n",
       " 'Kuala Lumpur : Universiti Teknologi Malaysia .',\n",
       " 'Muhammad Asad .',\n",
       " '1980 .',\n",
       " \"The Message Of The Qur'an .\",\n",
       " 'Gibraltar : Dar Al-Andalus .',\n",
       " 'Muhammad Asad .',\n",
       " '1981 .',\n",
       " 'Islam Di Simpang Jalan .',\n",
       " 'Terj .',\n",
       " 'Hashem .',\n",
       " 'Bandung : Pener Perpustakaan Salman ITB .',\n",
       " 'Muhammad Asad .',\n",
       " '2016 .',\n",
       " 'Islam Di Persimpangan Jalan .',\n",
       " '( Dr .',\n",
       " 'Ahmad Farouk Musa , Penyt .',\n",
       " ') Terj .',\n",
       " 'Ahmad Nabil Amir .',\n",
       " 'Kuala Lumpur : Islamic Renaissance Front .',\n",
       " 'Muzaffar Iqbal.2016 .',\n",
       " 'The Making Of Free Thinker Of Islam ( Part 1 ): Muhammad Asad .',\n",
       " 'Islamic Sciences , 14(1 ), 3-24 .',\n",
       " 'Dicapai daripada Nurcholish Madjid .',\n",
       " '1995 .',\n",
       " 'Islam Agama Kemanusiaan : Membangun Tradisi Dan Visi Baru Islam Indonesia .',\n",
       " 'Jakarta : Pener Nurcholish Madjid .',\n",
       " '1999 .',\n",
       " 'Islam , Doktrin Dan Peradaban hlm.',\n",
       " 'ke-4 .',\n",
       " 'Jakarta :.',\n",
       " '',\n",
       " 'Syed Muhammad Naquib Al-Attas .',\n",
       " '2013a .',\n",
       " 'Islam : The Concept Of Religion And The Foundation Of Ethics And Morality .',\n",
       " 'Kuala Lumpur : IBFIM .',\n",
       " '',\n",
       " 'Prosiding Kolokium Siswazah Jabatan Usuluddin dan Falsafah.',\n",
       " '',\n",
       " 'Syed Muhammad Naquib Al-Attas .',\n",
       " '2013b .',\n",
       " 'Islam : Faham Agama Dan Asas Akhlak .',\n",
       " 'Kuala Lumpur : IBFIM .',\n",
       " '',\n",
       " 'Prosiding Kolokium Siswazah Jabatan Usuluddin dan Falsafah.',\n",
       " '',\n",
       " 'KONSEP KAJIAN AWAL SOSIO-AGAMA : HAK KEBEBASAN BERAGAMA DI MALAYSIA.',\n",
       " '',\n",
       " 'Nurulfathonah Mohd Effendy Indriaty Ismail.',\n",
       " '',\n",
       " 'Jabatan Usuluddin dan Falsafah , Fakulti Pengajian Islam Universiti Kebangsaan Malaysia.',\n",
       " '',\n",
       " 'Abstrak : Hak asasi manusia menjaminkan kepelbagaian hak , ini termasuk hak kebebasan beragama .',\n",
       " 'Hak kebebasan beragama di Malaysia difahami seperti yang dijaminkan dalam Perkara 11(1 ) tetapi ia tidak bersifat mutlak kepada penganut agama Islam dan dikehendaki membaca Perkara 11(1 ) bersama dengan Perkara 3(1 ).',\n",
       " 'Manakala bagi penganut agama selain Islam bersifat mutlak dengan ianya bersyarat iaitu Perkara 11(1 ) dikehendaki dibaca bersama dengan Perkara 11(4 ) dan Perkara 11(5 ).',\n",
       " 'Isu hak kebebasan beragama sering kali dikaitkan dengan sifat negara , kes permohonan murtad , kes penentuan agama dan hak penjagaan kanak-kanak bawah umur serta kes penyebaran agama bukan Islam terhadap orang Islam .',\n",
       " 'Rentetan itu , telah menimbulkan polemik dengan melahirkan COMANGO ( Coalition of Malaysian NGOs in the UPR Process ) yang turut disertai oleh 54 organisasi bukan kerajaan ( NGO ) di Malaysia untuk membuat tuntutan hak kebebasan beragama yang menepati piawaian yang terkandung di dalam Universal Declaration of Human Rights ( UDHR ).',\n",
       " 'Kajian ini bertemakan kajian sosio-agama , yang mana melibatkan kehidupan sosial masyarakat dengan agama serta menggunakan kaedah kajian yang berbentuk kualitatif .',\n",
       " 'Kaedah pengumpulan data adalah tinjauan literatur dengan meneliti bahan - bahan bacaan .',\n",
       " 'Hasil daripada kajian ini , jelas dapat dilihat bahawa majoriti penuntut hak kebebasan beragama adalah daripada golongan bukan Islam .',\n",
       " 'Oleh kerana inilah timbulnya kekeliruan berkenaan dengan kebebasan beragama dalam pemikiran masyarakat di Malaysia .',\n",
       " '',\n",
       " 'Kata Kunci : Sosio-Agama , hak kebebasan beragama , sosio-agama , tuntutan kebebasan beragama .',\n",
       " '',\n",
       " 'Prosiding Kolokium Siswazah Jabatan Usuluddin dan Falsafah.',\n",
       " '',\n",
       " 'LATAR BELAKANG.',\n",
       " '',\n",
       " 'Sosiologi agama dirumuskan sebagai suatu kajian tentang interaksi atau hubung kait daripada agama dan masyarakat serta bentuk-bentuk interaksi yang terjadi antara kedua-duanya .',\n",
       " 'Para sosiologi menyatakan bahawa dorongan , gagasan dan keperlembagaan agama mempengaruhi atau dipengaruhi dengan kekuatan sosial .',\n",
       " 'Fokus sosiologi agama adalah menyelidik bagaimana tatacara masyarakat , kebudayaan dan peribadi mempengaruhi agama , seperti mana agama mempengaruhi masyarakat .',\n",
       " 'Kajian ini merupakan kajian yang mengukur tahap kefahaman masyarakat terhadap agama dengan memfokuskan kepada mahasiswa bukan Islam di USM berkenaan hak kebebasan beragama .',\n",
       " 'Kebebasan ialah perihal bebas atau merdeka , yang mana ia tidak terhalang dan tidak terlepas daripada kewajipan atau tuntutan .',\n",
       " 'Kebebasan merupakan hak yang sering diperjuangkan oleh manusia dari zaman dahulu sehingga kini .',\n",
       " 'Pelbagai bentuk kebebasan yang dituntut oleh manusia .',\n",
       " 'Antaranya kebebasan berfikir , kebebasan bersuara , kebebasan beragama , kebebasan memiliki harta dan sebagainya .',\n",
       " 'Oleh kerana itu wujudnya Hak Asasi Manusia (HAM ) yang bertujuan untuk memelihara dan mempertahankan hak kebebasan manusia dalam memilih .',\n",
       " 'Demi memelihara HAM yang melibatkan dengan kehidupan , kebebasan , kebebasan beragama dan juga keadilan maka wujudnya deklarasi Pertubuhan Bangsa-bangsa Bersatu ( PBB ) pada 1 Januari 1942 .',\n",
       " 'Hak kebebasan beragama (HKB ) merupakan salah satu daripada perkara yang terdapat dalam HAM .',\n",
       " 'Kebebasan beragama merupakan antara hak yang sering menjadi perdebatan dalam kalangan manusia sendiri .',\n",
       " 'Kemunculannya timbul selepas zaman kegelapan ( Dark Ages ), gereja Kristian mengawal seluruh kehidupan manusia sehingga tiada langsung kebebasan kepada manusia .',\n",
       " 'Mereka tidak mempunyai hak dalam memberi pendapat , menuntut ilmu selain daripada ilmu gereja , menentukan kehidupan mereka serta perihal yang berkaitan dengan urusan negara yang sepatutnya Raja berkuasa , turut dikawal oleh gereja .',\n",
       " 'Oleh kerana keadaan ini , mereka bangkit menentang gereja Kristian demi memperjuangkan kebebasan mereka .',\n",
       " 'Kesannya , ia telah melahirkan golongan yang menolak agama secara total atau lebih dikenali sebagai liberal .',\n",
       " 'HKB adalah hak untuk mengikut kepercayaan agama sebagaimana yang dipilih oleh individu , hak untuk menyatakan pegangan agama secara terbuka tanpa.',\n",
       " '',\n",
       " 'Prosiding Kolokium Siswazah Jabatan Usuluddin dan Falsafah.',\n",
       " '',\n",
       " 'ketakutan atau halangan yang akan dikenakan sesuatu tindakan serta hak untuk mengisytiharkan kepercayaan melalui pemujaan , amalan , ajaran dan sebaran .',\n",
       " 'Merujuk kepada Perkara 18 tentang hak kebebasan beragama dalam Universal Declaration of Human Rights ( UDHR 1948 ), iaitu : \" Setiap orang adalah berhak kepada kebebasan berfikir , perasaan hati dan ugama ; hak ini termasuklah kebebasan menukar ugama atau kepercayaannya , dan kebebasan , samada secara bersendirian atau secara bersama-sama dengan orang-orang lain dan secara terbuka atau bersendiri , menganuti ugama atau kepercayaannya melalui pengajaran , amalan , pemujaan dan pematuhan \".',\n",
       " '',\n",
       " 'Dalam Islam setiap individu mempunyai hak kebebasan beragama , mengamalkan dan beribadat mengikut agama yang dianuti individu tersebut .',\n",
       " 'Justeru itu , setiap manusia juga diberi kebebasan untuk memilih mana-mana agama untuk dianuti .',\n",
       " 'Seperti firman Allah s.w.t .',\n",
       " \"dalam surah al-Kahfi ayat 29 : ny m l lZ  l n d t `   n  rf k y l f   n sh m n w wm y l f   n sh m f m k b n r m q Hl ' ql w  s y b wh j ~ lw w sh y l h m l 'k  w mb th G w y yth G t s n y  w h q d r s m hb T H  r n # q f t r m t  s w b r lsh ' Maksudnya : Barang siapa yang ingin beriman hendaklah dia beriman dan barang siapa yang ingin kafir biarlah dia kafir .\",\n",
       " 'Sesungguhnya kami telah sediakan bagi orang-orang zalim itu neraka , yang gejolaknya mengepung mereka .',\n",
       " 'Jika mereka meminta minum , nescaya mereka akan diberi minum dengan air seperti besi mendidih yang boleh menghanguskan muka .',\n",
       " 'Itulah minuman yang paling buruk dan tempat istirehat yang paling.',\n",
       " '',\n",
       " 'Manusia yang dilahirkan di dunia ini bersifat bersih ( fitrah ) dan bebas daripada perhambaan , dosa dan kasta .',\n",
       " 'Walau bagaimanapun , kebebasan yang diberikan tidaklah mutlak kerana kebebasan mutlak hanyalah milik Allah s.w.t .',\n",
       " 'Islam melarang penganutnya meninggalkan agama Islam atau murtad kerana perbuatan tersebut bercanggah dengan prinsip akidah Islam .',\n",
       " 'Menurut Helwa ( 2014 : 17 ), penjagaan agama adalah salah satu aspek terpenting dalam menjaga kemaslahatan.',\n",
       " '',\n",
       " 'Prosiding Kolokium Siswazah Jabatan Usuluddin dan Falsafah.',\n",
       " '',\n",
       " 'manusia yang dikenali sebagai daruriyyah khamsah yang menunjangi maqasid al - shariah di muka bumi bagi orang Islam .',\n",
       " 'Begitu juga Perlembagaan di Malaysia , Perkara 11(1 ) Perlembagaan Persekutuan memperuntukkan bahawa \" Tiap-tiap orang adalah berhak menganuti dan mengamalkan ugamanya \".',\n",
       " 'Malah menjadikan agama Islam sebagai agama persekutuan negara .',\n",
       " 'Oleh yang demikian , orang Islam bukan sekadar tertakluk kepada Perlembagaan Persekutuan , bahkan juga kepada prinsip kebebasan beragama dalam Islam .',\n",
       " 'Mereka tidak mempunyai hak untuk meninggalkan Islam atau menggunakan hak kebebasan beragama dalam kehidupan mereka .',\n",
       " 'Namun begitu , perlembagaan tidak menafikan hak kebebasan beragama bagi penganut agama lain selain daripada Islam dari aspek kepercayaan dan amalan .',\n",
       " '',\n",
       " \"b d t q yn ld f h r k  l  ~ lG ' n m d sh lr ny hll b nm w y w wt G lT 'b r f k n y m f hl m S nf ' l ~ q th lw ' @ w r ` l 'b k s m t s ' d q f # ym l ` y` s hll w Maksudnya : Tiada paksaan dalam agama ( Islam ) kerana sesungguhnya telah nyata kebenaran ( Islam ) dari kesesatan ( kufur ).\",\n",
       " 'Oleh itu , sesiapa yang tidak percayakan Taghut dan dia pula beriman kepada Allah , maka sesungguhnya dia telah berpegang kepada simpulan ( tali agama ) yang teguh yang tidak akan putus .',\n",
       " 'Ingatlah bahawa Allah Maha Mendengar lagi Maha Mengetahui .',\n",
       " '',\n",
       " 'Merujuk kepada ayat diatas iaitu surah al-Baqarah ayat 256 , Islam tidak memaksa mana-mana individu atau golongan bukan muslim untuk memeluk agama Islam .',\n",
       " 'Malah Rasulullah s.a.w .',\n",
       " 'turut mempersetujui bahawa tiada paksaan dalam kepercayaan seseorang semasa memeteraikan Perlembagaan Madinah .',\n",
       " 'Ketika itu , masyarakat bukan Islam dibenarkan tinggal di Madinah dan kekal menganut agama mereka ( Abdul Monir 1986 : 66 ).',\n",
       " 'Seperti mana yang dinyatakan dalam Fasal 25 , Piagam Madinah iaitu : wn yhwd bn `wf m@ m` mlwmnny llyhwd dynhm wllmslmny dynhm mwlyhm \" \".',\n",
       " \"llm wmth fnh l y wtkh l nfsh whl byth wnfshm l mn Maksudnya : Kaum Yahudi dari Bani ' Awf adalah satu umat dengan mukminin .\",\n",
       " 'Bagi kaum Yahudi agama mereka dan bagi kaum.',\n",
       " '',\n",
       " 'Prosiding Kolokium Siswazah Jabatan Usuluddin dan Falsafah.',\n",
       " '',\n",
       " 'muslimin agama mereka .',\n",
       " 'Juga ( kebebasan ini berlaku ) bagi sekutu - sekutu dan diri mereka sendiri kecuali bagi yang zalim dan jahat .',\n",
       " 'Hal demikian akan merosak diri dan keluarganya .',\n",
       " '',\n",
       " 'Isu HKB tidak pernah berhenti menjadi perbincangan dari zaman ke zaman .',\n",
       " 'Malah di Malaysia juga tidak terkecuali daripada perihal kebebasan beragama .',\n",
       " 'Hasil penelitian daripada pembacaan berkenaan dengan HKB dan kes-kes , dapat dikatakan bahawa isu kebebasan beragama timbul daripada tuntutan di mahkamah serta ia menjadi semakin berlarutan apabila terdapat pihak-pihak yang turut membangkitkan isu ini dan membantu dalam mempertahankan hak kebebasan beragama .',\n",
       " 'Perkara ini menjadi semakin serius apabila tuntutan tersebut adalah untuk penganut agama Islam .',\n",
       " 'Majoriti pihak yang terlibat adalah mereka yang bukan beragama Islam dengan melalui pertubuhan bukan kerajaan ( NGO ).',\n",
       " 'Kajian ini dilaksanakan dalam bentuk kuantitatif dengan tujuan untuk mengukur tahap kefahaman mahasiswa bukan Islam di USM terhadap HKB .',\n",
       " 'Adakah kefahaman mereka dipengaruhi dengan manifesto atau matlamat NGO yang memperjuangkan HKB atau hanya sekadar kurang pendedahan berkenaan hal ini ?',\n",
       " '',\n",
       " 'PERMASALAHAN KAJIAN.',\n",
       " '',\n",
       " 'Permasalahan kajian adalah merujuk kepada masalah atau isu yang timbul .',\n",
       " 'Antaranya adalah Malaysia adalah sebuah negara sekular .',\n",
       " 'Masyarakat bukan Islam berpendapat bahawa Malaysia tidak sesuai dijadikan sebagai negara Islam kerana Malaysia terdiri daripada pelbagai bangsa dan agama serta hanya enam puluh peratus ( 60 %) diwakili masyarakat Islam ( Abdull Rahman et al.2009 : 43 ).',\n",
       " 'Begitu juga hasil penulisan Lee Ban Chen yang berjudul Bumi dipijak ( 2002 : 141 ) membincangkan penubuhan negara Islam di Malaysia bersifat tidak praktikal kerana beberapa faktor , iaitu : 1 .',\n",
       " 'Jaminan Perlembagaan Persekutuan bahawa Malaysia adalah negara sekular ; 2 .',\n",
       " 'Negara kita merupakan masyarakat majmuk dengan empat puluh peratus ( 40 %) rakyatnya terdiri daripada masyarakat bukan Islam ; 3 .',\n",
       " 'Ia tidak dapat diterima oleh parti-parti Barisan Alternatif (BA ) yang memperjuangkan keadilan dan demokrasi ; 4 .',\n",
       " 'Umat islam juga mempunyai pengertian malah pendirian yang berlainan terhadap apa yang dinamakan negara Islam ; dan.',\n",
       " '',\n",
       " 'Prosiding Kolokium Siswazah Jabatan Usuluddin dan Falsafah.',\n",
       " '',\n",
       " 'Ia mungkin bercanggah atau sukar dikompromi dengan nilai-nilai sejagat zaman kini , seumpamanya kesetaraan kedudukan jantina , agama dan bangsa ; HAM , prinsip-prinsip kebebasan dan demokrasi .',\n",
       " '',\n",
       " 'Isu HKB di Malaysia dibangkitkan dengan berlakunya kes penukaran agama atau murtad .',\n",
       " 'Terdapat kes-kes yang melibatkan pemohon beragama Islam seperti Daud bin Mamat & Ors v .',\n",
       " 'Majlis Agama Islam & Anor [2001 ] 2 MLJ 390 , Priyathaseny & Ors v .',\n",
       " 'Pegawai Penguatkuasa Agama Jabatan Hal Ehwal Agama Islam Perak & Ors [2003 ] 2 MLJ 302 , Kamariah bte Ali dll v .',\n",
       " 'Kerajaan Negeri Kelantan , Malaysia dan satu lagi [2005 ] 1 MLJ 197 dan Lina Joy v .',\n",
       " 'Majlis Agama Islam Wilayah Persekutuan & Anor [2007 ] 4 MLJ 585 .',\n",
       " 'Kes Lina Joy adalah antara kes yang mendapat perhatian pengkritik kerana mahkamah telah menolak permohonan beliau dan ia telah menjejaskan hak beragama individu yang ingin menukar agama di Malaysia ( Mohd al-Adib t.th : 61 ).',\n",
       " 'Seterusnya permohonan murtad bagi golongan mualaf , antaranya Majlis Agama Islam Negeri Sembilan v .',\n",
       " 'Hun Mun Seng [1992 ] 1 MLJ 685 , Md Hakim Lee v .',\n",
       " 'Majlis Agama Islam Wilayah Persekutuan , Kuala Lumpur [1998 ] 1 MLJ 681 , Tongiah Jumali & Anor v .',\n",
       " 'Kerajaan Negeri Johor & Ors [2003 ] 2 CLJ 281 , Akhbar Ali & Satu Lagi lwn .',\n",
       " 'Majlis Ugama Islam Negeri Sembilan & Yang Lain [2004 ] CLJ (Sya ) 39 , Lim Yoke Khoon lwn .',\n",
       " 'Pendaftar Muallaf , Majlis Agama Islam Selangor & Yang Lain [ 2006 ] 4 CLJ 515 , Jeffery Or bin Abdullah Or Roon Hua ; Mahkamah Tinggi Syariah Kuantan , Pahang (06100-099-0186 ) dan Siti Fatimah Tan bt Abdullah v .',\n",
       " 'Majlis Agama Islam Pulau Pinang (07100 043 0191 2006 ).',\n",
       " 'Menurut Helwa et al .',\n",
       " '( 2014 : 26 ) punca berlaku murtad dalam kalangan mualaf ialah perceraian , kejahilan dan lain-lain yang bersifat peribadi .',\n",
       " 'Keputusan mahkamah yang membenarkan permohonan diluluskan memberi kesan besar terhadap masyarakat , status dan kedudukan agama Islam di Malaysia .',\n",
       " 'Malah penentuan agama dan hak penjagaan kanak-kanak bawah umur turut menjadi isu .',\n",
       " 'Merujuk kepada kes yang berlaku , terdapat dua situasi bagi isu ini iaitu pasangan suami isteri yang salah seorang dari mereka telah memeluk agama Islam dan kanak-kanak dibawah usia 18 tahun memeluk agama Islam .',\n",
       " 'Kes tersebut adalah Teoh Eng Huat lwn .',\n",
       " 'Kadi of Pasir Mas Kelantan & Majlis Agama Islam [1990 ] 2 MLJ 228 , Gengga Devi a / p Chelliah lwn .',\n",
       " 'Santanam a / l Damodaram [2001 ] 2 CLJ.',\n",
       " '',\n",
       " 'Prosiding Kolokium Siswazah Jabatan Usuluddin dan Falsafah.',\n",
       " '',\n",
       " 'MLJ 106 , Shamala Sathiyaseelan v .',\n",
       " 'Dr Jeyaganesh C .',\n",
       " 'Mogarajah & Anor [2004 ] 2 MLJ 648 , Nenduchelian v .',\n",
       " 'Uthiradam v .',\n",
       " 'Nurshafiqah Mah Singai Annal & Ors [2005 ] 2 CLJ 306 , Subashini Rajasingam lwn .',\n",
       " 'Saravanan Thangatoray & Anor Appeals [2008 ] 2 MLJ 147 dan Indira Gandhi a / p Mutho lwn .',\n",
       " 'Pengarah Jabatan Agama Islam Perak & Ors [2013 ] 5 MLJ 555 .',\n",
       " 'Menurut Mohamed Azam ( 2014 : 12 ) kemelut ini berlarutan apabila timbul rasa tidak puas hati di antara penganut agama Islam dengan penganut agama lain .',\n",
       " 'Selain itu , berlaku pertembungan keputusan antara Mahkamah Sivil dengan Mahkamah Syariah serta berlaku tafsiran berbeza apabila melibatkan Perkara 11(1 ) dan Perkara 12(4 ) Perlembagaan Persekutuan seperti kes Teoh Eng Huat , Shamala Sathiyaseelan dan Subashini Rajasingam ( Khairani et al.2014 : 22 ).',\n",
       " 'Penyebaran agama bukan Islam dalam kes Minister for Home Affairs , Malaysia v .',\n",
       " 'Jamaluddin Othman [1989 ] 1 CLJ (Rep ).',\n",
       " 'Jamaludin telah keluar daripada agama Islam dan memeluk agama Kristian serta didapati telah menyebarkan agama Kristian kepada masyarakat Melayu .',\n",
       " 'Beliau telah memfailkan permohonan writ habeas corpus kerana penahanan beliau di bawah Akta Keselamatan Dalam Negeri ( ISA ) 1960 adalah berlawanan dengan HKB .',\n",
       " 'Kerajaan bertindak sedemikian bagi membendung kegiatan penyebaran agama Kristian di kalangan orang Melayu .',\n",
       " 'Mahkamah Tinggi dan Mahkamah Agung telah menolak dengan alasan hak kebebasan seseorang individu untuk beragama tidak boleh dihalang kerana HKB telah dijamin dalam Perkara 11(1 ) Perlembagaan Persekutuan .',\n",
       " 'Menurut Helwa et al .',\n",
       " '( 2014 : 19 ) keputusan ini telah dipersoalkan oleh ramai pihak disebabkan kaitan agama dan Melayu sememangnya tidak boleh dipisahkan .',\n",
       " \"Pada tahun 2013 , The Coalition of Malaysian NGO's in the UPR Process (COMANGO ) telah menghantar laporan HAM sebagai wakil Malaysia untuk Semakan Berkala Sejagat Majlis Hak Asasi Manusia (HRC ) di Geneva .\",\n",
       " 'COMANGO dibentuk dengan hasil gabungan 54 organisasi ( NGO ) di Malaysia .',\n",
       " 'Datuk Megat Zulkarnain dalam Laporan Parlimen Malaysia ( 2014 : 70 ) menyatakan bahawa COMANGO merupakan sebuah pertubuhan haram , tidak berdaftar mengikut Akta Pertubuhan 1966 .',\n",
       " 'Laporan COMANGO terkandung empat ( 4 ) tuntutan kontroversi iaitu isu kebebasan beragama , memilih agama atau tukar agama , hak lesbian , gay , bisexsual dan lesbian (LGBTIQ ) serta isu hak keistimewaan yang terkandung dalam Perlembagaan Persekutuan .',\n",
       " 'Berikut merupakan alasan COMANGO tentang.',\n",
       " '',\n",
       " 'Prosiding Kolokium Siswazah Jabatan Usuluddin dan Falsafah.',\n",
       " '',\n",
       " 'kebantutan dalam usaha mencapai kebebasan beragama di Malayasia ( Laporan COMANGO 2013 : 48-52 ): 10.1.',\n",
       " \"Akhbar Mingguan Katolik , The Herald telahpun dikenakan larangan daripada menggunakan kalimah ' Allah ' oleh Kementerian Dalam Negeri melalui arahan yang dikeluarkan oleh Menterinya ; 10.1.\",\n",
       " 'Sebagai kesan keputusan mahkamah , sekumpulan pertubuhan yang menyokong konsep Ketuanan Melayu telah menyerang 10 buah gereja dengan kedua-dua bom petrol dan Molotov di samping mencemarkan bangunan tersebut dengan cat ; 10.1.',\n",
       " '5,100 buku kitab Injil berbahasa Melayu telah dirosakkan oleh pihak 10.1.',\n",
       " 'Salah satu parti politik pembangkang , Parti Tindakan Demokratik ( DAP ) telah dituduh mencuba menggantikan agama Islam dengan agama Kristian sebagai agama rasmi Malaysia .',\n",
       " 'Presiden PERKASA telah mengeluarkan amaran keras ke atas komuniti Kristian di negara ini .',\n",
       " 'Menteri Undang-Undang de facto Nazri Aziz turut menyokong bahawa tiada sebarang tindakan undangundang perlu dikenakan ke atas Ibrahim Ali .',\n",
       " 'Beliau berpendapat , tindakan seperti itu akan membantutkan perkembangan konsep kebebasan bersuara di negara.',\n",
       " '',\n",
       " '10.1.',\n",
       " 'Pada tahun 2011 , Jabatan Agama Islam Negeri Selangor ( JAIS ) telah melakukan serbuan ke atas Gereja Methodist Damansara Utama (DUMC ) setelah menerima maklumat bahawa sekumpulan penganut agama Islam telah menyertai acara penukaran agama di lokasi tersebut ; 10.1.',\n",
       " 'Selain itu , kebebasan beragama turut terbatas di kalangan orang beragama Islam .',\n",
       " \"Mazhab seperti Shiah telah dilabelkan sebagai 'sesat ' dan tindakan boleh diambil sekiranya mana-mana pihak didapati terba amalan berkaitannya ; 10.1.\",\n",
       " 'Perancangan untuk membina sebuah kuil Hindu di sekitar kawasan yang diduduki oleh penganut agama Islam dihina dengan pemberian kepala lembu kepada komuniti India di sana .',\n",
       " 'Walaupun pihak mahkamah telah mengenakan denda ke atas dua orang yang disyaki sebagai pesalah , Menteri Dalam Negeri tetap berdegil dalam menyokong tindakan tersebut ;.',\n",
       " '',\n",
       " 'Prosiding Kolokium Siswazah Jabatan Usuluddin dan Falsafah.',\n",
       " '',\n",
       " '10.1.',\n",
       " 'Penubuhan persatuan agama selain daripada Islam telah diharamkan di sekolah-sekolah kebangsaan ; 10.1.',\n",
       " 'Penterjemahan buku Allah , Liberty & Love ke dalam Bahasa Melayu telah diharamkan oleh Menteri Dalam Negeri .',\n",
       " 'Sekumpulan pegawai agama telah menahan seorang pengurus kedai buku dan pengarah Muslim sebuah syarikat pener atas tuduhan mengedarkan buku tersebut yang bercanggah dengan undang-undang Syariah .',\n",
       " 'Kedua-dua tertuduh kini sedang menunggu untuk dibicarakan di Mahkamah 10.1.',\n",
       " 'Seorang lelaki berumur 60 tahun dan 3 orang anaknya tidak dibenarkan memeluk agama Hindu walaupun telah mengangkat sumpah yang mereka tidak pernah menjalankan cara hidup orang Islam sepanjang hidup mereka .',\n",
       " 'Mereka telah dilayan sebagai penganut agama Islam semata-mata atas alasan kedua-dua ibu bapa lelaki terba Islam dalam rekod rasmi kerajaan walaupun ibu bapa lelaki tersebut telah hidup sebagai penganut Hindu ; dan 10.1.',\n",
       " 'Seorang suami beragama Hindu yang baru sahaja memeluk Islam telah menukar agama 3 orang anaknya kepada Islam tanpa mendapat kebenaran isterinya .',\n",
       " 'Pihak berkuasa telahpun mendesak semua pihak bahawa lelaki terba menukar agama anak-anaknya kepada Islam tanpa sebarang syarat sekalipun .',\n",
       " '',\n",
       " 'COMANGO turut mencadangkan penyelesaian bagi menangani kebantutan dalam usaha mencapai kebebasan beragama di Malayasia kepada HRC .',\n",
       " 'Berikut merupakan cadangan tersebut ( Laporan COMANGO 2013 : 54 ): 10.5 Akur kepada International Convention on the Elimination of All Forms of Racial Discrimination ( ICERD ).',\n",
       " 'Menyemak semula , meminda dan membatalkan mana-mana undang-undang yang berkaitan bagi membolehkan ICERD dipatuhi dengan sepenuhnya ; 10.6 Mengenakan tindakan ke atas mana-mana pihak mengeluarkan kenyataan yang berbau benci atau boleh mencetuskan keganasan di kalangan masyarakat di negara ini ; dan 10.7 Mewujudkan enakmen perundangan , membentuk dasar polisi dan melakukan perubahan pentadbiran agar pertukaran agama seseorang.',\n",
       " '',\n",
       " 'Prosiding Kolokium Siswazah Jabatan Usuluddin dan Falsafah.',\n",
       " '',\n",
       " 'anak ke agama Islam mendapat kebenaran dari kedua-dua ibu bapa dan bukan salah seorang sahaja .',\n",
       " '',\n",
       " 'Berdasarkan pembacaan kajian kepustakaan , kebanyakkan kajian berkenaan HKB berbentuk kualitatif dan hanya dua kajian yang berbentuk kuantitatif .',\n",
       " 'Pertama , Faisal Ahmad Shah ( 2015 ) telah menjalankan kajian yang bertajuk \" Kebebasan Beragama : Analisis Tahap Kefahaman Masyarakat Islam di Wilayah Persekutuan Kuala Lumpur \" mendapati bahawa tahap kefahaman masyarakat Islam tentang hak kebebasan beragama berada pada tahap rendah dan boleh menimbulkan kekeliruan .',\n",
       " 'Sedangkan Perlembagaan Persekutuan telah menggariskan tafsiran HKB yang jelas , namun terdapat sesetengah pihak seperti COMANGO yang cuba membawa kepada tafsiran umum dan mutlak seperti yang terkandung di dalam UDHR 1948 .',\n",
       " 'Kedua , \" Kajian Awal Tentang Tahap Kefahaman Belia Islam di Lembah Klang Tentang Hak Kebebasan Beragama \" yang telah dijalankan oleh Kamal Azmi ( 2017 ).',\n",
       " 'Kajian tersebut melibatkan dua institusi pengajian iaitu Kolej Universiti Islam Antarabangsa Selangor ( KUIS ) dan Universiti Kebangsaan Malaysia ( UKM ) mendapati bahawa tahap kefahaman belia Islam masih berada pada tahap tinggi .',\n",
       " '',\n",
       " 'OBJEKTIF KAJIAN.',\n",
       " '',\n",
       " 'Objektif utama kajian yang ingin dicapai pada akhir kajian ini ialah untuk : 1 .',\n",
       " 'mengenalpasti jaminan kebebasan beragama di Malaysia ; dan 2 .',\n",
       " 'mengenalpasti isu kebebasan beragama di Malaysia .',\n",
       " '',\n",
       " 'METODOLOGI KAJIAN.',\n",
       " '',\n",
       " 'Kajian yang dijalankan adalah kajian yang berbentuk kualitatif .',\n",
       " 'Kajian kualitatif adalah sebuah reka bentuk yang berasaskan kepada \" by word \" dan \"picture \" atau satu kajian yang dibuat untuk menghurai dan melapor dalam bentuk verbatim ( ayat demi ayat atau frasa demi frasa ) tanpa sebarang statistik ( Ghazali et al 2016 : 386 ).',\n",
       " 'Data-data diperolehi melalui tinjauan literatur yang bertujuan untuk mendapatkan data-data atau maklumat yang berkenaan dengan sejarah , maksud , teori dan latarbelakang yang berkaitan dengan kajian .',\n",
       " 'Penelitian dibuat ke atas bahan-bahan bercetak , sebagai contoh :.',\n",
       " '',\n",
       " 'Prosiding Kolokium Siswazah Jabatan Usuluddin dan Falsafah.',\n",
       " '',\n",
       " 'Buku , contohnya buku Hak Asasi Manusia Menurut Islam yang dikarang oleh Abdul Monir Yaacob dalam bab hak kebebasan beragama ; 2 .',\n",
       " 'Jurnal , contohnya jurnal Kebebasan Beragama : Gambaran Malaysia dikarang oleh Faridah Jalil dan Rohizan Halim yang membincangkan hak kebebasan beragama di Malaysia ; dan 3 .',\n",
       " 'Laporan , contohnya laporan COMANGO .',\n",
       " '',\n",
       " 'KERANGKA TEORI.',\n",
       " '',\n",
       " 'Kerangka teori antara yang terpenting dalam penyelidikan kerana ia dapat membantu pengkaji dalam melaksanakan kajian dengan lebih baik .',\n",
       " 'Menurut Ghazali et al .',\n",
       " '( 2016 : penyelidikan yang menghubungkan antara beberapa idea dan komponen penyelidikan serta merangkumi aliran teori kajian yang digunakan iaitu objektif kajian , persoalan kajian , hipotesis kajian , tinjauan literatur dan metodologi kajian .',\n",
       " 'Kajian ini bersifat sosiologi serta melibatkan responden bukan beragama Islam , maka teori yang digunakan adalah teori Fishbein dan Ajzen ( 1975 ).',\n",
       " 'Berikut adalah rajah 2 bagi kerangka teori tersebut :.',\n",
       " '',\n",
       " 'Rajah 2 : Kerangka teori yang melibatkan kepercayaan , sikap , niat dan tingkah laku .',\n",
       " 'Sumber : Fishbein dan Ajzen ( 1975 : 15 ).',\n",
       " '',\n",
       " 'Terdapat empat pembolehubah dalam teori Fishbein dan Ajzen iaitu sikap ( attitude ), kepercayaan ( belief ), niat ( intention ) dan tingkah laku ( behavior ).',\n",
       " 'Pertama sikap ( Fishbein et al.1975 : 11 ), penakrifan sikap yang dicadangkan akan menolak atau tidak mensahih kebanyakkan kaedah penyelidikan yang berdasarkan pemerhatian.',\n",
       " '',\n",
       " 'Prosiding Kolokium Siswazah Jabatan Usuluddin dan Falsafah.',\n",
       " '',\n",
       " '( empirical ).',\n",
       " 'Sejak kaedah-kaedah tersebut tidak meragukan atau kabur dalam mengesan individu dalam menilai dimensi bipolar seperti pendapat , kepuasan , prasangka , niat , nilai , kepercayaan dan sebagainya yang jarang digunapakai untuk kaedah penilaian .',\n",
       " 'Kedua kepercayaan ( Fishbein et al.1975 : 12 ), sikap merujuk kepada penilaian terhadap sesuatu yang baik dan tidak baik .',\n",
       " 'Kepercayaan mengambarkan maklumat yang seseorang dapat tentang sesuatu .',\n",
       " 'Sesuatu yang menjadi kepercayaan mungkin melibatkan seseorang , sekumpulan orang , institusi , sikap , dasar atau polisi , peristiwa dan lain-lain yang menyifatkan sesuatu yang mungkin berkaitan dengan objek , sifat , harta , ciri-ciri , hasil atau peristiwa .',\n",
       " 'Pembolehubah yang ketiga adalah niat yang merujuk kepada niat seseorang dalam melakukan pelbagai tingkah laku ( Fishbein et al.1975 : 12 ).',\n",
       " 'Selain itu , niat boleh dipandang sebagai kepercayaan yang istimewa kerana ia adalah diri seseorang itu yang menyebabkan kelakuan .',\n",
       " 'Seperti kepercayaan , kekuatan niat menunjukkan seseorang itu subjektif yang kemungkinan akan melakukan sikap tanpa sebarang pertanyaan .',\n",
       " 'Dengan kata lain , niat diukur dengan prosedur yang meletakkan sesuatu perkara dalam dimensi kebarangkalian subjektif (subjektif-probability ) yang melibatkan hubungan antara diri seseorang dengan tindakan .',\n",
       " 'Terakhir adalah tingkah laku ( Fishbein et al.1975 : 13 ), ianya seperti soalan dalam soal selidik atau tindak balas lisan diibarat tingkah laku yang nyata .',\n",
       " 'Tingkah laku dapat diperhatikan dengan perbuatan atau tindak balas sesuatu .',\n",
       " 'Walau bagaimanapun , tindak balas bukanlah tingkah laku tetapi ia merupakan kepercayaan , sikap atau tujuan .',\n",
       " 'Sebaliknya dalam mengklasifikasikan kategori tingkah laku oleh Fishbein dan Ajzen adalah merujuk kepada tingkah laku nyata .',\n",
       " 'Seperti seorang penyiasat yang mempunyai ukuran tingkah laku yang nyata kerana dia berminat dalam perincian tingkah laku ( particular behavior ) dan mencuba untuk memahami penentuan .',\n",
       " 'Daripada hasil perbincangan teori Fishbein dan Ajzen , pengkaji dapat menggambarkan kerangka teori kajian seperti berikut :.',\n",
       " '',\n",
       " 'Prosiding Kolokium Siswazah Jabatan Usuluddin dan Falsafah.',\n",
       " '',\n",
       " 'Rajah 3 : Kerangka teori kajian .',\n",
       " 'Sumber : Ubah suai dari Fishbein dan Ajzen ( 1975 ) dan Munawar ( 2009 ).',\n",
       " '',\n",
       " 'Dasar kajian ini adalah Perlembagaan Persekutuan dan UDHR .',\n",
       " 'Kedua-dua dasar ini menjamin hak asasi manusia dari pelbagai bentuk hak , termasuklah hak kebebasan beragama .',\n",
       " 'Jelas dapat dilihat dalam Perkara 11 , Fasal 1 Perlembagaan Persekutuan dan Perkara 18 , UDHR .',\n",
       " 'UDHR memberi jaminan secara mutlak atau sepenuhnya kepada manusia untuk HKB .',\n",
       " 'Akan tetapi Perlembagaan Persekutuan tidak bersifat mutlak terhadap penganut agama Islam , dimana Perkara 11(1 ) hendaklah dibaca dengan Perkara 3(1 ).',\n",
       " 'Tindakan ini untuk memelihara kesucian agama Islam dan kesucian agama Persekutuan .',\n",
       " 'Isu HKB di Malaysia tidak pernah surut daripada perbincangan dalam kalangan masyarakat .',\n",
       " 'Kenyataan yang menyatakan Malaysia sebuah negara sekular adalah tidak benar .',\n",
       " 'Dalam Perlembagaan Persekutuan , Perkara 3(1 ) menunjukkan yang Malaysia bukan sebuah negara sekular .',\n",
       " 'Malah dengan berlakunya kes permohonan murtad iaitu daripada kalangan Islam sendiri dan mualaf yang melibatkan jaminan HKB .',\n",
       " 'Kes-kes perebutan antara salah seorang pasangan yang memeluk agama Islam dengan pasangan bukan Islam dalam penentuan agama dan hak penjagaan kanak-kanak bawah umur yang mana melibatkan dua mahkamah iaitu sivil dan syariah sehingga berlaku pertembungan keputusan atau keputusan yang menyebelahi HKB .',\n",
       " 'Perlembagaan Persekutuan telah memperuntukkan Perkara 11(4 ) dengan menyekat sebarang penyebaran agama bukan Islam terhadap orang Islam , seperti kes Jamaludin yang ditahan di ISA kerana menyebarkan agama Kristian .',\n",
       " 'Rentetan daripada isu-isu yang telah diperbincangkan , muncullah golongan atau NGO-NGO yang cuba membuat tuntutan-tuntutan bagi memperoleh HKB yang bersifat mutlak seperti UDHR di Malaysia .',\n",
       " 'Perkara-perkara tersebut membentuk sebuah pemikiran kepada masyarakat sama ada ia berbentuk negatif atau positif .',\n",
       " 'Kefahaman tentang hak kebebasan.',\n",
       " '',\n",
       " 'Prosiding Kolokium Siswazah Jabatan Usuluddin dan Falsafah.',\n",
       " '',\n",
       " 'beragama dan hal-hal yang berkaitan akan menghasilkan kehidupan yang lebih baik dan harmoni .',\n",
       " 'Hasil daripada dua kajian kuantitatif yang lepas , masyarakat Islam di KL ( Faisal 2015 ) berada pada tahap yang membimbangkan , manakala belia Islam di Lembah Klang berada pada tahap yang baik ( Kamal Azmi et al.2017 ).',\n",
       " 'Corak pemikiran masyarakat memainkan peranan yang penting dalam sesebuah negara dan masa depan tamadun .',\n",
       " '',\n",
       " 'HASIL DAN PERBINCANGAN KAJIAN.',\n",
       " '',\n",
       " 'Jelas dapat dilihat bahawa Malaysia menjamin hak kebebasan beragama di Malaysia .',\n",
       " 'Namun tidak bersifat mutlak kerana ia setiap agama mempunyai perlembagaan yang tersendiri seperti Islam .',\n",
       " 'Islam tidak membenarkan penganutnya meninggalkan agama Islam .',\n",
       " 'Jika seseorang itu tetap dengan pendiriannya untuk murtad maka Allah akan memberikan azab yang perit kepadanya , seperti mana firman Allah s.w.t .',\n",
       " 'dalam surah al-Baqarah ayat 217 : lhm f `m yk HbTt f ymt whw kfr fwl > wmn yrtdd mnkm `n dynyh .',\n",
       " 'n y w\\'lkhr@ h kh yk SHb \\'lnr wwl \\'ld # ldwn hm fy Maksudnya : \" .',\n",
       " 'Barangsiapa yang murtad di antara kamu dari agamanya , lalu dia mati dalam kekafiran , maka mereka itulah yang sia-sia amalannya di dunia dan di akhirat , dan mereka itulah penghuni neraka , mereka kekal di dalamnya \".',\n",
       " '',\n",
       " 'Merujuk kepada permasalahan kajian , kemunculan kelompok penuntut kebebasan beragama supaya megikut konsep UDHR berpunca daripada kes-kes permohonan dalam mahkamah .',\n",
       " 'Majoriti penuntut atau NGO di Malaysia adalah mereka yang bukan beragama Islam dengan turut serta dalam COMANGO seperti Amnesty International , Malaysia , Young Buddhist Association , Selangor Chinese Assembly Hall , Coalition to Abolish Modern Day Slavery in Asia (CAMSA ) dan lain-lain NGO lagi .',\n",
       " 'Kesan daripada tuntutan ini akan menyebabkan Malaysia kucar kacir dan menambah kekeliruan dalam pemikiran masyarakat tentang kebebasan beragama di Malaysia .',\n",
       " 'Tidak sepatutnya perkara ini berlaku kerana konsep kebebasan beragama telah jelas dinyatakan dalam Perlembagaan Persekutuan .',\n",
       " 'Kajian yang akan.',\n",
       " '',\n",
       " 'Prosiding Kolokium Siswazah Jabatan Usuluddin dan Falsafah.',\n",
       " '',\n",
       " 'dilaksanakan adalah berbentuk kuantitatif yang melibatkan masyarakat bukan Islam .',\n",
       " 'Berikut adalah konsep kajian tersebut :.',\n",
       " '',\n",
       " 'Rajah 4 : Kerangka konsep kajian .',\n",
       " '',\n",
       " 'Terdapat beberapa kepentingan khusus sebagai nilai tambah yang berguna dalam menangani isu-isu yang berkaitan hak kebebasan beragama .',\n",
       " 'HKB merupakan salah satu perkara penting yang terkandung di dalam HAM yang seringkali menjadi pendebatan sehingga terdapat beberapa pihak yang menimbulkan kekeliruan dalam kehidupan masyarakat di Malaysia .',\n",
       " 'Oleh itu , antara kepentingan kajian adalah : 1 .',\n",
       " 'dapatan kajian ini berpotensi untuk digunakan oleh ahli akademik dan penyelidik untuk kajian masa hadapan yang lebih mendalam dan komprehensif .',\n",
       " 'Ia juga memberi manfaat kepada badan-badan kerajaan dan bukan kerajaan terutama yang berkaitan dengan undang-undang Islam untuk merangka satu bentuk pemahaman hak kebebasan beragama yang sesuai dengan sosio-agama masyarakat Malaysia ; dan 2 .',\n",
       " 'isu-isu tentang hak asasi manusia dan kebebasan beragama boleh dijadikan subjek perbincangan di peringkat universiti supaya maklumat yang diperolehi oleh mahasiswa adalah betul dan dapat mengelak daripada kekeliruan .',\n",
       " 'Pemahaman yang tepat di kalangan masyarakat tentang HKB dapat mengurangkan ketegangan dalam pengamalan cara hidup beragama di.',\n",
       " '',\n",
       " 'Prosiding Kolokium Siswazah Jabatan Usuluddin dan Falsafah.',\n",
       " '',\n",
       " 'Al-Quran al-Karim.',\n",
       " '',\n",
       " 'Abdull Rahman Mahmood , Kamaruddin Hj Salleh , Ahmad Sunawari Long dan Faudzinaim Badaruddin .',\n",
       " '2009 .',\n",
       " 'Penerimaan Bukan Islam Terhadap Proses Islamisasi di Malaysia .',\n",
       " 'Institut Islam Hadhari .',\n",
       " 'Jurnal Hadhari Bil .',\n",
       " '2 , Universiti Kebangsaan Malaysia , Bangi : 33-51 .',\n",
       " 'Ahmad Munawar Ismail .',\n",
       " '2009 .',\n",
       " 'Pengaruh Akidah terhadap Penghayatan Akhlak Pelajar-pelajar Sekolah Menengah Kebangsaan di Malaysia .',\n",
       " 'Tesis Dr .',\n",
       " 'Fal , Fakulti Pendidikan , Universiti Kebangsaan Malaysia .',\n",
       " 'Faisal Ahmad Shah .',\n",
       " '2015 .',\n",
       " 'Kebebasan Beragama : Analisis Tahap Kefahaman Masyarakat Islam di Wilayah Persekutuan Kuala Lumpur .',\n",
       " 'Bil 8 , Isu .',\n",
       " 'Jurnal Pengajian Islam , Akademi Islam , Kuis .',\n",
       " 'Fishbein , Martin dan Ajzen , Icek .',\n",
       " '1975 .',\n",
       " 'Belief , Attitude , Intention and Behavior ; An Introduction to Theory and Research .',\n",
       " 'California : Addison-Wesley Publishing Ghazali Darusalam dan Sufean Hussin .',\n",
       " '2016 .',\n",
       " 'Metodologi Penyelidikan dalam Pendidikan .',\n",
       " 'Kuala Lumpur : Pener Malaya .',\n",
       " 'Helwa Mohammad dan Zainal Jasri Jamal.2013 .',\n",
       " 'Kedudukan Murtad dan Penyebaran Agama Bukan Islam Menurut Perspektif Undang-Undang di Malaysia : Satu Analisa Isu dan Cabaran .',\n",
       " 'Jurnal Undang-undang & Masyarakat 17 .',\n",
       " 'Universiti Kebangsaan Malaysia , Bangi:13-36 .',\n",
       " 'Kamal Azmi Abd Rahman , Norsaleha Mohd Salleh , Nazneen Ismail , Indriaty Ismail dan Nurulfathonah Mohd .',\n",
       " 'Effendy .',\n",
       " '2017 .',\n",
       " 'Kajian Awal Tentang Tahap Kefahaman Belia Islam di Lembah Klang Tentang Hak Kebebasan Beragama .',\n",
       " 'e-Jurnal Penyelidikan dan Inovasi , September 2017 , Vol .',\n",
       " '4 , No.2 , Kolej Universiti Islam Antarabangsa Selangor , Kajang : 173-201 .',\n",
       " 'Khairani Husin dan Mohd Al Adib Samuri .',\n",
       " '2014 .',\n",
       " 'Kerahsiaan Kemasukkan Islam : Isu Undang-Undang Kes Pemelukan Islam Saudara Baru di Malaysia .',\n",
       " 'Makalah Kanun ( 1 ), Jun 2014 : 1-25 .',\n",
       " '',\n",
       " 'Prosiding Kolokium Siswazah Jabatan Usuluddin dan Falsafah.',\n",
       " '',\n",
       " 'Laporan Pemegang Amanah Mengenai Pihak Berkepentingan Malaysia , COMANGO .',\n",
       " 'Asasi Manusia (HRC ).',\n",
       " 'Lee Ban Chen .',\n",
       " '2002 .',\n",
       " 'Bumi Dipijak .',\n",
       " 't.tp : Oriengroup Sdn .',\n",
       " 'Bhd .',\n",
       " 'Mohamed Azam Mohamed Adil .',\n",
       " '2015 .',\n",
       " 'Liberalisme dan Pluralisme Agama : Impak kepada Perlembagaan dan Sistem Perundangan Islam di Malaysia .',\n",
       " 'Putrajaya : Jabatan Kemajuan Islam Malaysia .',\n",
       " 'Mohd Al Adib Samuri .',\n",
       " 't.th .',\n",
       " 'Permohonan Keluar Islam di Mahkamah Syariah .',\n",
       " 'Universiti Kebangsaan Malaysia , Bangi : 57-70 .',\n",
       " 'Penyata Rasmi Parlimen Ketiga Belas Penggal Kedua , Mesyuarat Pertama .',\n",
       " '2014 .',\n",
       " 'Dewan Negara , Malaysia .',\n",
       " '24 April 2014 .',\n",
       " '',\n",
       " 'Prosiding Kolokium Siswazah Jabatan Usuluddin dan Falsafah.',\n",
       " '',\n",
       " 'SUMBANGAN MAJALAH PENGASUH DALAM MEMPERTAHANKAN AKIDAH AHLI SUNNAH WAL JAMAAH DI KELANTAN.',\n",
       " '',\n",
       " 'Siti Nabilah Azman Abdull Rahman Mahmood.',\n",
       " '',\n",
       " 'Jabatan Usuluddin Dan Falsafah , Fakulti Pengajian Islam Universiti Kebangsaan Islam Malaysia.',\n",
       " '',\n",
       " 'Abstrak : Perkembangan dunia kini telah mempengaruhi juga perkembangan pemikiran manusia .',\n",
       " 'Apa yang membimbangkan ialah pemikiran-pemikiran manusia kini banyak menjejaskan dan membahayakan akidah mereka .',\n",
       " 'Andai tidak dibendung dan dipertahankan akidah Ahli Sunnah Wal Jamaah , maka akidah masyarakat akan terus tercalar dan terpesong dari akidah yang sebenar .',\n",
       " 'Perkembangan dunia kini juga telah menunjukkan banyak pener yang telah muncul di Malaysia .',\n",
       " 'Namun , apa yang menarik ialah majalah Pengasuh yang telah lama diter dan sehingga kini masih jua diter Majalah ini telah menunjukkan penulisan-penulisannya yang sarat dengan pelbagai ilmu terutamanya dalam akidah .',\n",
       " 'Kajian dilakukan bertujuan untuk melihat kembali konsep akidah Ahli Sunnah Wal Jamaah dan tema-tema akidah yang terdapat di dalam majalah Pengasuh .',\n",
       " 'Skop kajian ini adalah mengkaji tema-tema akidah bermula tahun 1919 hingga tahun 2016 .',\n",
       " 'Kajian menggunakan metode kualitatif dengan penekanan kepada analisis dokumen .',\n",
       " 'Hasil kajian mendapati bahawa majalah Pengasuh telah menyentuh isu akidah sejak awal pener dan mempunyai banyak pener penulisan yang berkaitan dengan akidah yang secara langsung memberi sumbangan dalam mempertahankan akidah Ahli Sunnah Wal Jamaah khususnya di Kelantan .',\n",
       " '',\n",
       " 'Kata kunci : majalah Pengasuh , akidah , Ahli Sunnah Wal Jamaah.',\n",
       " '',\n",
       " 'LATAR BELAKANG KAJIAN.',\n",
       " '',\n",
       " 'Majalah Pengasuh adalah sebuah majalah tahunan yang diter oleh MAIK ( Majlis Agama Islam dan Istiadat Kelantan ) bermula pada 11 Julai 1918 iaitu Prosiding Kolokium Siswazah Jabatan Usuluddin dan Falsafah.',\n",
       " '',\n",
       " 'bersamaan dengan 1 Syawal 1336 .',\n",
       " 'Majalah ini diter dalam tulisan jawi sejak dahulu dan sehingga kini masih dikekalkan dalam tulisan jawi .',\n",
       " 'Majalah Pengasuh juga merupakan majalah tertua di Kelantan .',\n",
       " 'Majalah ini telah diasaskan oleh Haji Nik Mahmud bin Haji Ismail (Qadhi ), Haji Muhammad bin Khatib Hj .',\n",
       " 'Muhammad Said dan Haji Awang Muhd .',\n",
       " 'Yusoff bin Ahmad ( Tok Kenali ).',\n",
       " 'Majalah Pengasuh cuba membangkitkan kesedaran umat Islam secara langsung cuba membina daya fikir bangsa Melayu .',\n",
       " 'Selain itu , majalah ini mengandungi perkara-perkara yang berkaitan dengan agama dan juga isu-isu semasa yang dibincangkan di dalamnya .',\n",
       " 'Hal ini sebagaimana yang disebut oleh Abdul Razak Mahmud , dalam bukunya \"MAIK , Peranannya Dalam Bidang Keagamaan , Persekolahan , Dan Pener di Kelantan Sehingga 1990 \": Menjadi hasrat kita untuk melihat majalah Pengasuh kembali menjadi sebuah majalah yang berpengaruh semula dan mampu menemui pembaca pada saban bulan dengan isi kandungan yang bukan sahaja mengandungi perkara-perkara \\' agama \\', bahkan juga menjangkau persoalan-persoalan semasa umat Islam serta pandangan - pandangan atau tanggapan-tanggapan yang benar dan kritis ke atas isu-isu semasa sebagaimana hanya Pengasuh pada tahun-tahun sebelum kemerdekaan dahulu .',\n",
       " 'Daripada kenyataan di atas , Abdul Razak Mahmud memperlihatkan kepada kita tentang hasrat agar majalah Pengasuh ini kekal menemui pembaca kerana di dalamnya mengandungi persoalan-persoalan semasa umat Islam .',\n",
       " 'Dalam penulisan majalah Pengasuh juga terdapat beberapa tema yang cuba diketengahkan dalamnya dan antara yang menjadi penekanan adalah tema akidah .',\n",
       " 'Penulis juga mendapati bahawa di dalam tesis Siti Norbaini Binti Ibrahim ada disebut bilangan isu yang diketengahkan dalam penulisan majalah Pengasuh .',\n",
       " 'Isu-isu itu sebenarnya sedang menggambarkan situasi masalah akidah yang sedang dihadapi oleh masyarakat .',\n",
       " 'Pastinya penulisan isu itu sedikit sebanyak cuba memainkan peranannya dalam memperteguhkan akidah Ahli Sunnah Wal Jamaah kepada masyarakat .',\n",
       " 'Oleh itu , penulis cuba untuk mengkaji penulisan-penulisan yang bertemakan akidah di dalam majalah ini yang cuba mempertahankan akidah Ahli Sunnah Wal Jamaah khususnya di Kelantan .',\n",
       " 'Dalam kajian ini , penulis cuba untuk memperlihatkan kepada semua bahawa majalah Pengasuh mempunyai sumbangannya dalam mempertahankan akidah Ahli Sunnah Wal Jamaah kepada masyarakat khususnya di Kelantan dengan penulisan-penulisan yang diter.',\n",
       " '',\n",
       " 'Prosiding Kolokium Siswazah Jabatan Usuluddin dan Falsafah.',\n",
       " '',\n",
       " 'PERMASALAHAN KAJIAN.',\n",
       " '',\n",
       " 'Zaman era moden kini , banyak anasir-anasir yang kurang baik berkembang luas dalam kehidupan masyarakat .',\n",
       " 'Bukan sekadar itu , malah banyak pemikiran-pemikiran baru yang hadir di tengah-tengah masyarakat yang boleh mengaburkan akidah masyarakat .',\n",
       " 'Misalnya golongan liberal , orientalis , dan pelbagai lagi .',\n",
       " 'Golongan - golongan yang mencetuskan pemikiran baru mereka juga banyak menukilkan karya - karya mereka untuk diterapkan kepada masyarakat .',\n",
       " 'Ini boleh mengundang kekeliruan dalam masyarakat yang belum terdedah dengan pemikiran-pemikiran baru ini .',\n",
       " 'Walaupun di dalam Malaysia dikatakan Kelantan adalah bumi serambi Mekah , namun ia tidak terlepas jua menghadapi masalah-masalah akidah .',\n",
       " 'Menurut Nur Syazwani Binti Ismail ( 2013 ) yang dipetiknya daripada kata-kata Che Alias Harun , \" kebanyakan ajaran sesat yang ada pada hari ini sukar dibendung .',\n",
       " 'Walau bagaimanapun , pihak Majlis sentiasa memantau perkembangan mereka .',\n",
       " 'Tujuannya adalah untuk menghalang perkumpulan ajaran sesat daripada terus merebak \".',\n",
       " 'Pihak Majlis yang dimaksudkan di sini ialah Majlis Agama Islam dan Istiadat Kelantan .',\n",
       " 'Antara cara MAIK menyebarkan perkara yang berkaitan dengan agama dan membendung masalah akidah masyarakat Kelantan khususnya adalah melalui dengan pener majalah Pengasuh .',\n",
       " 'Hadirnya majalah Pengasuh adalah sebagai medium dakwah kepada masyarakat untuk kembali kepada agama yang benar dan tidak terpesong akidahnya .',\n",
       " 'Jika dilihat kepada moto-moto yang pernah dibawa oleh majalah Pengasuh , sebenarnya ia membawa lambang kepada penyebaran dakwah Islamiah yang menjurus kepada akidah yang selamat dan benar .',\n",
       " 'Misalnya moto yang pernah dibawa oleh majalah Pengasuh ialah \" Majalah Bulanan Dakwah dan Kebudayaan Islamiyyah \".',\n",
       " 'Majalah Pengasuh cuba memainkan peranan dalam membantu memperbaiki kehidupan dan agama masyarakat .',\n",
       " \"Kemudian , dalam tesis Yazilmiwati Hasni Bt Yaacob pada tahun 2002 , beliau ada mengatakan bahawa pimpinan Yusoff Zaky telah mengemukakan perbincangan yang serius mengenai isu yang berkaitan dengan asas-asas akidah seorang Muslim yang dipetik daripada tulisan Imam Al-Ghazali dalam kitabnya Ihya ' Ulumuddin .\",\n",
       " 'Ini menunjukkan bahawa pimpinan dalam Majalah Pengasuh sudah mula menyedari tentang isu akidah yang merisaukan dalam kalangan masyarakat .',\n",
       " '',\n",
       " 'Prosiding Kolokium Siswazah Jabatan Usuluddin dan Falsafah.',\n",
       " '',\n",
       " 'Seterusnya , dalam tesis Nur Syazwani Binti Ismail , beliau telah menukilkan kata daripada penulis Mohd Nawi Ismail iaitu katanya , perbincangan mengenai akidah akan dipapar pada halaman siri pemurniaan akidah yang mana rata-ratanya ia banyak memfokuskan isu-isu penyelewengan akidah seperti ajaran sesat yang boleh menyebabkan perpecahan dalam kalangan umat Islam sejak dahulu sehingga sekarang .',\n",
       " 'Hal ini adalah kerana terdapat unsur-unsur luaran yang bergerak secara terancang dan tersembunyi yang dimainkan oleh musuh-musuh Islam termasuk penularan ajaran sesat yang berlaku di Kelantan .',\n",
       " 'Kenyataan in menunjukkan perwujudan masalah akidah yang berlaku di Kelantan dan akidah Ahli Sunnah Wal Jamaah harus dipertahankan .',\n",
       " 'Maka dengan itu , kajian mengenai sumbangan majalah Pengasuh dalam mempertahankan akidah Ahli Sunnah Wal Jamaah pada masyarakat di Kelantan perlu dilakukan .',\n",
       " '',\n",
       " 'OBJEKTIF KAJIAN.',\n",
       " '',\n",
       " 'Kajian ini bertujuan untuk menganalisa beberapa perkara seperti berikut : 1 .',\n",
       " 'Menghuraikan konsep akidah Ahli Sunnah Wal Jamaah .',\n",
       " 'Mengenal pasti tema-tema akidah yang terdapat dalam majalah Pengasuh .',\n",
       " '',\n",
       " 'METODOLOGI KAJIAN.',\n",
       " '',\n",
       " 'Metodologi kajian ialah perician daripada apa yang akan dipaparkan sepanjang kajian ini berjalan .',\n",
       " 'Dalam kajian ini , penulis menggunakan pendekatan kaedah kualitatif .',\n",
       " 'Penulis menggunakan kaedah analisis dokumen di dalam kajian ini .',\n",
       " 'Analisis dokumen dilakukan terhadap teks-teks yang terdapat dalam majalah Pengasuh berdasarkan kepada batasan kajian iaitu bermula tahun 1918 hingga 2016 dari aspek pendekatan tema dan isi kandungan .',\n",
       " \"Analisis data ini dilakukan berdasarkan kepada empat tema yang telah dipilih iaitu tema ketuhanan , kenabian , sam'iyyat dan isu-isu yang berkaitan dengan akidah .\",\n",
       " 'Pengumpulan koleksi majalah Pengasuh telah dilakukan dengan kerjasama pihak Majlis Agama Islam dan Adat Istiadat Melayu Kelantan (MAIK ) yang memberi salinan asal majalah Pengasuh .',\n",
       " 'Koleksi majalah Pengasuh ini diterima melalui salinan soft copy di dalam bentuk PDF dan gambar .',\n",
       " 'Kerjasama yang diberikan daripada pihak MAIK telah banyak membantu penulis dalam mendapatkan sumber bahan kajian di.',\n",
       " '',\n",
       " 'Prosiding Kolokium Siswazah Jabatan Usuluddin dan Falsafah.',\n",
       " '',\n",
       " 'samping dapat mengkaji sumbangan majalah Pengasuh dalam mempertahankan akidah Islam .',\n",
       " '',\n",
       " 'KERANGKA TEORITIKAL.',\n",
       " '',\n",
       " 'Kerangka kerja teoritikal dalam kajian ini dibina dengan berasaskan kepada dua sumber iaitu Al-Quran dan As-Sunnah Nabi SAW .',\n",
       " 'Manusia yang mengikuti petunjuk Al-Quran akan memiliki akidah yang benar sepertimana firman Allah s.w.t dalam surah An-Nisa , ayat 36 :               .',\n",
       " 'Maksudnya : \" Sembahlah Allah dan janganlah kamu mempersekutukan-Nya dengan sesuatupun \".',\n",
       " '',\n",
       " 'Malah dalam surah Al-Baqarah , ayat 163 :                   Maksudnya : Dan Tuhanmu adalah Tuhan Yang Maha Esa ; tidak ada Tuhan ( yang berhak disembah ) melainkan Dia , Yang Maha Pemurah lagi Maha Penyayang .',\n",
       " '',\n",
       " 'Kemudian , Allah memberi petunjuk melalui kebenaran yang disampaikan oleh Rasulullah s.a.w .',\n",
       " 'Umat Islam diperintahkan mengikut Sunnah Rasul-Nya sebagai rujukan utama .',\n",
       " 'Firman Allah s.w.t dalam Surah Al-Hasyr , ayat 7 : .',\n",
       " '.',\n",
       " 'Maksudnya : \" Apa yang diberikan Rasul kepadamu , maka terimalah .',\n",
       " 'Dan apa yang dilarangnya bagimu , maka tinggalkanlah .',\n",
       " '',\n",
       " 'Berdasarkan tiga ayat di atas , akidah itu adalah suatu keimanan kepada Allah .',\n",
       " 'Pegangan kefahaman akidah Ahli Sunnah Wal Jamaah adalah daripada hujah kukuh daripada Al-Quran dan As-Sunnah .',\n",
       " '',\n",
       " 'Prosiding Kolokium Siswazah Jabatan Usuluddin dan Falsafah.',\n",
       " '',\n",
       " 'KONSEP AKIDAH SUNNAH WAL JAMAAH.',\n",
       " '',\n",
       " 'Ahli Sunnah dalam Bahasa Arab bermaksud jalan , dalam konteks nusus bermaksud pengikut Sunnah Rasulullah .',\n",
       " '\" Perkataan \" Jamaah \" pula merujuk kepada jamaah Rasul bersama sahabat , tabi\\'in , tabi\\'ut tabi\\'in dan orang Islam yang mewarisi Islam menurut cara dan pendekatan mereka itu \" ( Mohd Aizam bin Mas\\'od .',\n",
       " '2013 ).',\n",
       " 'Pengasuh ( 2011 ) juga ada merumuskan bahawa : Akidah Islam berdasarkan Al-Quran dan Sunnah yang dibawa oleh Rasulullah s.a.w itulah akidah sunni .',\n",
       " 'Akidah Sunni ( Ahli Sunnah Wal Jamaah ) adalah akidah Salaf yang ditunjukkan oleh Rasulullah dan para sahabat .',\n",
       " 'Ahli Sunnah ialah mereka yang berpegang dengan Al-Quran dan Sunnah serta menolak pendapat-pendapat ahli falsafah .',\n",
       " 'Mereka ini ialah pengikut dua Imam iaitu Abu Mansur bin Muhammad al - Maturidi al-Hanafi (M.',\n",
       " \"333H ) dan Abu al-Hassan ' Ali bin Ismail bin al-Asy'ari dan al-Syafi'i (M.\",\n",
       " '324H ) dan pengikut Salaf .',\n",
       " 'Al-Sunnah dari sudut bahasa bererti jalan , manakala dari sudut istilah pula ialah segala apa yang datang daripada Nabi Muhammad s.a.w sama ada perkataan , perbuatan , sifat dan taqrir .',\n",
       " \"Daripada keputusan panel Kajian Aqidah JAKIM memutuskan bahawa definisi Ahli Sunnah Wal Jamaah ialah ( Mohd Aizam Bin Mas'od.\",\n",
       " \"2013:19 ): Mereka adalah golongn yang memahami dan berpegang kepada Al - Quran dan Sunnah Nabi SAW mengikut manhaj dan kaedah salaf dan khalaf ( Asya'irah dan Maturidiyah ).\",\n",
       " '',\n",
       " 'Mereka adalah golongan berfahaman sederhana (wasatiyyah ), tidak melampau dan tidak terlalu longgat , ini mengeluarkan Khawarij , Syiah Rafidhah , Qadariyyah , Jabariyyah , Muktazilah , Anti-Hadith , Islam liberal , pluralisme agama dan Mereka ialah golongan yang mengutamakan perpaduan dan persaudaraan Islam bukan permusuhan , perdamaian bukan peperangan , berpegang kepada prinsip tidak memuja pemimpin , tidak taksub sehingga mengkafir atau menyesatkan sesama Beberapa dasar-dasar yang telah disepakati di kalangan Ahli Sunnah Wal Jamaah sepertimana yang digariskan dalam kitab al-Farqu Baina al-Firaq .',\n",
       " '',\n",
       " 'Prosiding Kolokium Siswazah Jabatan Usuluddin dan Falsafah.',\n",
       " '',\n",
       " \"ma'rifah namaNya dan sifatNya , ma'rifah keadilan dan hukumnya , ma'rifah risalah dan nabi-nabi , ma'rifah mukjizat nabi dan karamah wali-wali ( Imam Abdul Qahir.\",\n",
       " '1982 : 310 ).',\n",
       " 'Majalah Pengasuh ada juga merumuskan beberapa dasar ini yang dipetik dalam kitab yang sama al-Farqu Baina al-Firaq seperti berikut : Tentang mengisbatkan hakikat-hakikat dan ilmu-ilmu .',\n",
       " \"Katanya bahawa para Ahli Sunnah berijma ' tentang tha ilmu-ilmu sebagai pengertian-pengertian yang ada pada para ulama dan mereka mengatakan peri sesatnya mereka yang menafikan.\",\n",
       " '',\n",
       " 'Dasar yang kedua ialah pegangan Ahli Sunnah tentang barunya alam ini .',\n",
       " \"Mereka telah ijma'kan bahawa alam itu adalah segala sesuatu yang selain daripada Allah , mereka ijma'kan bahawa sesuatu yang selain daripada Allah dan selain daripada sifatnya yang azali adalah makhluk yang dijasikan serta diciptakan oleh Allah : Juga mereka bersepakat bahawa Tuhan yang menjadikan itu bukan makhluk , bukan yang diciptakan , dan bukan daripada jenis alam ini , dan bukan daripada jenis sesuatu daripada juzuk alam ini .\",\n",
       " '( Uthman Muhammadi .',\n",
       " '1989 :29,30 ) Dasar ketiga ialah berkenaan dengan Tuhan yang menciptakan alam serta sifat-sifatNya .',\n",
       " \"Pada Ahli Sunnah , segala sesuatu yang baru itu mesti ada yang menjadikannya dan mengadakannya , dan mereka berpegang kepada pegangan bahawa Tuhan yang menjadikan alam ini Dialah yang menjadikan jisim-jisim dan aradh '- aradh .\",\n",
       " '( Uthman Muhammadi .',\n",
       " '1989 : 32 ) Berkenaan dengan sifat-sifat yang ada pada zat Tuhan .',\n",
       " \"Ahli Sunnah berpegang kepada pegangan bahawa sesungguhnya ilmu Allah , kudratNya , hidayatNya , iradatNya , sami'Nya dan basarNya serta kalamNya adalah sifat-sifatNya yang azali serta abadi .\",\n",
       " '( Uthman Muhammadi .',\n",
       " '1989 : 32 ) Tentang nama-nama Allah yang diambil daripada Quran dan Sunnah yang sahih .',\n",
       " 'Tentang keadilan Allah .',\n",
       " 'Dinyatakan pendirian Ahli Sunnah , kemudian diikuti dengan khilaf golongan yang berlainan pegangan daripadanya .',\n",
       " \"Tentang nubuwah dan risalah , perbezaan antara Rasul , karamah , kedudukan para malaikat dengan para anbiya ', disusuli dengan khilaf kaum-kaum yang menyalahi pendirian Ahli Sunnah .\",\n",
       " '( Uthman Muhammadi .',\n",
       " '1989 : 33 ) Kepentingan akidah tauhid ialah dapat menyedari bahawa akidah merupakan asas kepada pembinaan Islam pada diri seseorang dan wajib bagi setiap orang Muslim mempelajarinya .',\n",
       " 'Mempelajari akidah dapat mengukuhkan keimanan seseorang.',\n",
       " '',\n",
       " 'Prosiding Kolokium Siswazah Jabatan Usuluddin dan Falsafah.',\n",
       " '',\n",
       " 'sekaligus menguatkan akidahnya daripada terjebak dengan perkara-perkara yang boleh merosakkan akidah .',\n",
       " '',\n",
       " 'TEMA-TEMA AKIDAH DI DALAM MAJALAH PENGASUH.',\n",
       " '',\n",
       " '\" Masalah ketuhanan ialah membahaskan perkara yang berkaitan dengan kewujudan alam semesta sebagai dalil kewujudan Allah dengan sifat yang wajib , mustahil dan harus pada hak Allah \" ( Abdul Rashid Mahmud .',\n",
       " '2007 ).',\n",
       " 'Berdasarkan kajian penulis , dalam tempoh tahun 1919 hingga tahun 2016 , majalah Pengasuh telah mener sebanyak 43 penulisan yang berkaitan dengan tema ketuhanan .',\n",
       " \"Pada tahun 1919 hingga tahun 1952 , terdapat 14 penulisan yang telah diter di bawah Bahagian Fatwa Shar'iyah yang berbentuk soalan daripada pembaca .\",\n",
       " \"Jika dilihat pada tahun 1952 , terdapat 3 siri yang bertajuk ' Pelajaran tauhid kepada anak-anak Islam '.\",\n",
       " 'Kemudian , pada tahun 1961 , terdapat satu penulisan yang berkaitan dengan ketuhanan dan Pengasuh mengemukakan ia di dalam bentuk kupasan dan pandangan tentang falsafah ketuhanan .',\n",
       " 'Pada tahun 1963 , 1964 , 1966 , 1972 , 1973 , 1975 , majalah Pengasuh tidak diter Seterusnya , pada tahun 1975 , ketika majalah Pengasuh dibawah bimbingan Yusoff Zaky , beliau telah memfokuskan kembali perkara-perkara yang berkaitan dengan ketuhanan dengan menjadikan karya ulama terkenal seperti Hassan Al-Banna dan Syed Qutb sebagai antara rujukan penulisan .',\n",
       " 'Setelah berakhirnya Yusoff Zaky sebagai ketua pengarang Pengasuh pada tahun 1995 , ketua pengarang Pengasuh telah beralih kepada penolong ketua pengarang sebelum itu iaitu Muhamad Bin Mahmud .',\n",
       " 'Maka pada tahun 1996 , bermulalah Pengasuh di bawah pengelolaan Muhamad Bin Mahmud sebagai ketua pengarang majalah Pengasuh selama sepuluh Pada tahun 2002 , sebanyak 8 penulisan yang diambil daripada penulisan Syed Qutb sebagai rujukan utama yang bertemakan ketuhanan .',\n",
       " 'Semasa Yasmun Binti Mohamad menjadi ketua pengarang yang bermula dari tahun 2007 hingga 2013 , lima penulisan yang didapati diter dalam tema ini .',\n",
       " '',\n",
       " 'Prosiding Kolokium Siswazah Jabatan Usuluddin dan Falsafah.',\n",
       " '',\n",
       " 'Allah mencipta seluruh alam dan juga manusia .',\n",
       " 'Dalam kalangan manusia , Allah telah melantik Nabi sebagai pembimbing manusia yang lain .',\n",
       " 'Kita harus menyakini dan beriman kepada Nabi .',\n",
       " 'Menurut ( Yazid , Mohamad Kamil .',\n",
       " '2015:113 ), \" nabi merupakan seorang yang mulia dan suci , dia diberi wahyu oleh Allah swt tetapi untuk dirinya sendiri .',\n",
       " 'Rasul ialah manusia mulia dan suci yang diamanahkan oleh Allah swt untuk menyampaikan ajaranNya kepada umat Islam \".',\n",
       " 'Berdasarkan pemerhatian , penulis mendapati bahawa antara tahun 1919 hinga tahun 1974 , hanya terdapat 10 penulisan yang berkaitan dengan kenabian .',\n",
       " 'Kemudian , sebanyak 13 penulisan diter ketika Yusoff Zaky menjadi ketua pengarang manakala 11 penulisan diter ketika Muhamad bin Mahmud menjadi ketua pengarang .',\n",
       " 'Setelah itu , pada tahun 2006 hingga tahun 2013 iaitu ketika Yasmun Binti Mohamad menjadi ketua pengarang , terdapat 14 penulisan yang bertemakan kenabian .',\n",
       " 'Pada tahun 2014 hingga tahun 2016 , penulis tidak mendapati sebarang penulisan yang bertemakan kenabian .',\n",
       " 'Maka dengan itu , dari tahun 1919 hingga tahun Penulis mendapati , pengarang penulisan yang berkaitan dengan kenabian banyak ditulis oleh Dr Randus Abdul Ghani Azmi Hj .',\n",
       " 'Idris .',\n",
       " 'Kemudian diikuti dengan beberapa penulis yang lain seperti Dr .',\n",
       " \"Ahmad Najib bin Abdullah , Muhammad Siba Bin Ya'kub , Dr Ibrahim Hilal , Khalil Hj .\",\n",
       " 'Ali , Abdul Hayei Abdul Sukor dan yang lain-lain .',\n",
       " 'Dr Randus Abdul Ghani Azmi Hj .',\n",
       " 'Idris banyak memfokuskan isu-isu khurafat yang berkaitan dengan kenabian dan menjelaskan sesuatu isu yang terdapat keraguan padanya .',\n",
       " 'Bahkan , beliau juga merupakan perintis yang memulakan menulis isu khurafat ini bermula pada tahun 1992 .',\n",
       " 'Penulis melihat penulisan dalam majalah Pengasuh yang cuba mencerahkan isu kenabian disentuh berdasarkan permasalah terkini masyarakat .',\n",
       " 'Ini secara langsung dapat membuatkan masyarakat tidak terus berada dalam kefahaman yang salah dan memahami nubuwwah dengan benar .',\n",
       " '',\n",
       " '\" Sam\\'iyyat ialah perkara yang didengar dan wajib beriman dengannya sekalipun ia bukan perkara yang dapat dirasa oleh pancaindera , bukan dapat digambarkan oleh akal fikiran manusia atau melalui pengalaman hidup seseorang \" ( Abdul Rashid.',\n",
       " '',\n",
       " 'Prosiding Kolokium Siswazah Jabatan Usuluddin dan Falsafah.',\n",
       " '',\n",
       " 'Mahmud .',\n",
       " '2007 ).',\n",
       " \"Sam'iyyat adalah perkara hanya dapat diketahui dengan Al-Quran dan Hadis .\",\n",
       " 'Contohnya , alam barzakh , soalan kubur , nikmat kubur , azab kubur , mahsyar , mizan , sirat , syurga dan neraka .',\n",
       " \"Setelah menganalisa Pengasuh bermula dari tahun 1919 hingga tahun 2016 , penulis mendapati terdapat 32 penulisan yang berkaitan dengan sam'iyyat .\",\n",
       " \"Antara perkara yang disentuh tentang sam'iyyat ialah alam akhirat , malaikat , roh , qada ' dan qadar , syurga dan neraka , iblis , hari kiamat , israk dan mikraj dan mukjizat .\",\n",
       " 'Antara tahun 1919 hingga tahun 1974 , terdapat 2 penulisan dikeluarkan pada tahun 1920 dan penulisannya bersifat bersiri .',\n",
       " \"Pada tahun 1989 dan tahun 1990 , terdapat satu lagi penulisan bersiri yang bertajuk ' Di Sekitar Tahdzir Arwah ' yang ditulis oleh Ustaz Muhammad Uthman Al-Muhammadi .\"]"
      ]
     },
     "execution_count": 35,
     "metadata": {},
     "output_type": "execute_result"
    }
   ],
   "source": [
    "output[10000:11000]"
   ]
  },
  {
   "cell_type": "code",
   "execution_count": 37,
   "metadata": {},
   "outputs": [],
   "source": [
    "with open('dumping-academia.txt', 'w') as fopen:\n",
    "    fopen.write('\\n'.join(output))"
   ]
  },
  {
   "cell_type": "code",
   "execution_count": null,
   "metadata": {},
   "outputs": [],
   "source": []
  }
 ],
 "metadata": {
  "kernelspec": {
   "display_name": "Python 3",
   "language": "python",
   "name": "python3"
  },
  "language_info": {
   "codemirror_mode": {
    "name": "ipython",
    "version": 3
   },
   "file_extension": ".py",
   "mimetype": "text/x-python",
   "name": "python",
   "nbconvert_exporter": "python",
   "pygments_lexer": "ipython3",
   "version": "3.6.8"
  }
 },
 "nbformat": 4,
 "nbformat_minor": 2
}
