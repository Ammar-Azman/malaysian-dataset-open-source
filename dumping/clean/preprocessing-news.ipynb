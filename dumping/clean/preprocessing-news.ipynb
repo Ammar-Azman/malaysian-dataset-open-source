{
 "cells": [
  {
   "cell_type": "code",
   "execution_count": 1,
   "metadata": {},
   "outputs": [],
   "source": [
    "# !rm -rf __MACOSX/news\n",
    "# !rm -rf news\n",
    "# !wget https://f000.backblazeb2.com/file/malay-dataset/news/news-2020-09-11.zip\n",
    "# !unzip news-2020-09-11.zip"
   ]
  },
  {
   "cell_type": "code",
   "execution_count": 2,
   "metadata": {},
   "outputs": [
    {
     "data": {
      "text/plain": [
       "975"
      ]
     },
     "execution_count": 2,
     "metadata": {},
     "output_type": "execute_result"
    }
   ],
   "source": [
    "from glob import glob\n",
    "\n",
    "news = glob('news/*.json')\n",
    "news = [n for n in news if 'sentiment' not in n]\n",
    "len(news)"
   ]
  },
  {
   "cell_type": "code",
   "execution_count": 3,
   "metadata": {},
   "outputs": [],
   "source": [
    "import cleaning\n",
    "import json"
   ]
  },
  {
   "cell_type": "code",
   "execution_count": 9,
   "metadata": {
    "scrolled": true
   },
   "outputs": [
    {
     "name": "stderr",
     "output_type": "stream",
     "text": [
      "100%|██████████| 975/975 [05:23<00:00,  3.01it/s]\n"
     ]
    }
   ],
   "source": [
    "from tqdm import tqdm\n",
    "\n",
    "texts = []\n",
    "rejected = ['Javascript is disabled in your browser',\n",
    "           'requires Javascript to run normally',\n",
    "           'enable Javascript in your browser',\n",
    "           'register in order to view this',\n",
    "           '©']\n",
    "\n",
    "for n in tqdm(range(len(news))):\n",
    "    n = news[n]\n",
    "    with open(n) as fopen:\n",
    "        s = json.load(fopen)\n",
    "        \n",
    "    for i in s:\n",
    "        try:\n",
    "            if any([r in i['text'] for r in rejected]):\n",
    "                continue\n",
    "            texts.extend([i['title']] + cleaning.split_into_sentences(i['text']))\n",
    "            texts.append('')\n",
    "        except:\n",
    "            pass"
   ]
  },
  {
   "cell_type": "code",
   "execution_count": 16,
   "metadata": {},
   "outputs": [],
   "source": [
    "# !wget https://raw.githubusercontent.com/huseinzol05/Malaya-Dataset/master/news/news-30k/news-30k.json.zip\n",
    "# !unzip -o news-30k.json.zip\n",
    "# !rm -rf __MACOSX"
   ]
  },
  {
   "cell_type": "code",
   "execution_count": 17,
   "metadata": {},
   "outputs": [],
   "source": [
    "with open('news-30k.json') as fopen:\n",
    "    news = json.load(fopen)"
   ]
  },
  {
   "cell_type": "code",
   "execution_count": 18,
   "metadata": {},
   "outputs": [
    {
     "name": "stderr",
     "output_type": "stream",
     "text": [
      "100%|██████████| 29855/29855 [00:38<00:00, 768.71it/s] \n"
     ]
    }
   ],
   "source": [
    "for n in tqdm(range(len(news))):\n",
    "    n = news[n]\n",
    "    if any([r in n['text'] for r in rejected]):\n",
    "        continue\n",
    "    texts.extend([n['title']] + cleaning.split_into_sentences(n['text']))\n",
    "    texts.append('')"
   ]
  },
  {
   "cell_type": "code",
   "execution_count": 19,
   "metadata": {},
   "outputs": [],
   "source": [
    "with open('dumping-news.txt', 'w') as fopen:\n",
    "    fopen.write('\\n'.join(texts))"
   ]
  }
 ],
 "metadata": {
  "kernelspec": {
   "display_name": "Python 3",
   "language": "python",
   "name": "python3"
  },
  "language_info": {
   "codemirror_mode": {
    "name": "ipython",
    "version": 3
   },
   "file_extension": ".py",
   "mimetype": "text/x-python",
   "name": "python",
   "nbconvert_exporter": "python",
   "pygments_lexer": "ipython3",
   "version": "3.6.9"
  }
 },
 "nbformat": 4,
 "nbformat_minor": 2
}
