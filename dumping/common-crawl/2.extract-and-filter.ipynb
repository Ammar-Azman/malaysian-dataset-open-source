{
 "cells": [
  {
   "cell_type": "code",
   "execution_count": 2,
   "metadata": {},
   "outputs": [],
   "source": [
    "# !pip3 install orjson"
   ]
  },
  {
   "cell_type": "code",
   "execution_count": 3,
   "metadata": {},
   "outputs": [],
   "source": [
    "import json\n",
    "import tldextract\n",
    "import gzip\n",
    "import shutil\n",
    "import orjson"
   ]
  },
  {
   "cell_type": "code",
   "execution_count": 4,
   "metadata": {},
   "outputs": [],
   "source": [
    "def process_index_file(file_name):\n",
    "    print('Unzipping index file ... ')\n",
    "\n",
    "    file_unzipped = file_name.split('.gz')[0]\n",
    "\n",
    "    with gzip.open(file_name, 'rb') as f_in:\n",
    "        with open(file_unzipped, 'wb') as f_out:\n",
    "            shutil.copyfileobj(f_in, f_out)\n",
    "            \n",
    "    return file_unzipped\n",
    "\n",
    "def process_index_file_line(line):\n",
    "    assert type(line)==str\n",
    "    \n",
    "    try:\n",
    "        lst = line.replace('\\n','').split()\n",
    "        ts = lst[1]\n",
    "        data = orjson.loads(line.replace('\\n','').split(ts)[-1].strip())\n",
    "    except:\n",
    "        return ()\n",
    "    \n",
    "    if data['status'] != '200':\n",
    "        return ()\n",
    "    else:\n",
    "        try:\n",
    "            language = data['languages']\n",
    "        except:\n",
    "            language = 'none'\n",
    "            \n",
    "        try:\n",
    "            _tldextract = tldextract.extract(data['url'])\n",
    "            tup = (ts,\n",
    "                   data['url'],\n",
    "                   _tldextract.suffix,\n",
    "                   data['length'],\n",
    "                   data['offset'],\n",
    "                   data['filename'],\n",
    "                   language              \n",
    "                )\n",
    "            return tup\n",
    "        except:\n",
    "            return ()"
   ]
  },
  {
   "cell_type": "code",
   "execution_count": 5,
   "metadata": {},
   "outputs": [],
   "source": [
    "import requests\n",
    "from tqdm import tqdm\n",
    "from concurrent.futures import ThreadPoolExecutor, as_completed\n",
    "\n",
    "def crawl(url):\n",
    "    try:\n",
    "        return url, requests.get(url, timeout = 15).content.decode()\n",
    "    except:\n",
    "        return None\n",
    "    \n",
    "MAX_PARALLEL_REQUESTS = 100"
   ]
  },
  {
   "cell_type": "code",
   "execution_count": 6,
   "metadata": {},
   "outputs": [
    {
     "name": "stdout",
     "output_type": "stream",
     "text": [
      "data/cdx-00238.gz data/cdx-00238 cdx-00238.parquet\n",
      "data/cdx-00133.gz data/cdx-00133 cdx-00133.parquet\n",
      "data/cdx-00175.gz data/cdx-00175 cdx-00175.parquet\n",
      "data/cdx-00278.gz data/cdx-00278 cdx-00278.parquet\n",
      "data/cdx-00131.gz data/cdx-00131 cdx-00131.parquet\n",
      "data/cdx-00227.gz data/cdx-00227 cdx-00227.parquet\n",
      "Unzipping index file ... \n"
     ]
    },
    {
     "name": "stderr",
     "output_type": "stream",
     "text": [
      "14159142it [01:59, 118910.44it/s]\n"
     ]
    },
    {
     "name": "stdout",
     "output_type": "stream",
     "text": [
      "(3588053, 7)\n",
      "data/cdx-00235.gz data/cdx-00235 cdx-00235.parquet\n",
      "Unzipping index file ... \n"
     ]
    },
    {
     "name": "stderr",
     "output_type": "stream",
     "text": [
      "12586957it [01:44, 120966.23it/s]\n"
     ]
    },
    {
     "name": "stdout",
     "output_type": "stream",
     "text": [
      "(1177, 7)\n",
      "data/cdx-00112.gz data/cdx-00112 cdx-00112.parquet\n"
     ]
    },
    {
     "name": "stderr",
     "output_type": "stream",
     "text": [
      "12307555it [01:40, 122584.44it/s]\n"
     ]
    },
    {
     "name": "stdout",
     "output_type": "stream",
     "text": [
      "(1233, 7)\n",
      "data/cdx-00090.gz data/cdx-00090 cdx-00090.parquet\n",
      "Unzipping index file ... \n"
     ]
    },
    {
     "name": "stderr",
     "output_type": "stream",
     "text": [
      "11820725it [01:36, 122898.20it/s]\n"
     ]
    },
    {
     "name": "stdout",
     "output_type": "stream",
     "text": [
      "(744, 7)\n",
      "data/cdx-00219.gz data/cdx-00219 cdx-00219.parquet\n",
      "Unzipping index file ... \n"
     ]
    },
    {
     "name": "stderr",
     "output_type": "stream",
     "text": [
      "11450540it [01:33, 122011.56it/s]\n"
     ]
    },
    {
     "name": "stdout",
     "output_type": "stream",
     "text": [
      "(3, 7)\n",
      "data/cdx-00097.gz data/cdx-00097 cdx-00097.parquet\n",
      "Unzipping index file ... \n"
     ]
    },
    {
     "name": "stderr",
     "output_type": "stream",
     "text": [
      "13845459it [01:54, 120645.74it/s]\n"
     ]
    },
    {
     "name": "stdout",
     "output_type": "stream",
     "text": [
      "(955, 7)\n",
      "data/cdx-00162.gz data/cdx-00162 cdx-00162.parquet\n",
      "Unzipping index file ... \n"
     ]
    },
    {
     "name": "stderr",
     "output_type": "stream",
     "text": [
      "12812797it [01:44, 122354.72it/s]\n"
     ]
    },
    {
     "name": "stdout",
     "output_type": "stream",
     "text": [
      "(603, 7)\n",
      "data/cdx-00115.gz data/cdx-00115 cdx-00115.parquet\n",
      "Unzipping index file ... \n"
     ]
    },
    {
     "name": "stderr",
     "output_type": "stream",
     "text": [
      "12872284it [01:47, 120065.05it/s]\n"
     ]
    },
    {
     "name": "stdout",
     "output_type": "stream",
     "text": [
      "(649, 7)\n",
      "data/cdx-00178.gz data/cdx-00178 cdx-00178.parquet\n",
      "Unzipping index file ... \n"
     ]
    },
    {
     "name": "stderr",
     "output_type": "stream",
     "text": [
      "10236594it [01:29, 94991.90it/s] IOPub message rate exceeded.\n",
      "The notebook server will temporarily stop sending output\n",
      "to the client in order to avoid crashing it.\n",
      "To change this limit, set the config variable\n",
      "`--NotebookApp.iopub_msg_rate_limit`.\n",
      "\n",
      "Current values:\n",
      "NotebookApp.iopub_msg_rate_limit=1000.0 (msgs/sec)\n",
      "NotebookApp.rate_limit_window=3.0 (secs)\n",
      "\n",
      "13432886it [01:51, 120756.25it/s]\n"
     ]
    },
    {
     "name": "stdout",
     "output_type": "stream",
     "text": [
      "(2015, 7)\n",
      "data/cdx-00226.gz data/cdx-00226 cdx-00226.parquet\n",
      "Unzipping index file ... \n"
     ]
    },
    {
     "name": "stderr",
     "output_type": "stream",
     "text": [
      "15007350it [02:02, 122112.18it/s]\n"
     ]
    },
    {
     "name": "stdout",
     "output_type": "stream",
     "text": [
      "(1968, 7)\n",
      "data/cdx-00192.gz data/cdx-00192 cdx-00192.parquet\n",
      "Unzipping index file ... \n"
     ]
    },
    {
     "name": "stderr",
     "output_type": "stream",
     "text": [
      "13971618it [01:55, 120848.15it/s]\n"
     ]
    },
    {
     "name": "stdout",
     "output_type": "stream",
     "text": [
      "(133, 7)\n",
      "data/cdx-00084.gz data/cdx-00084 cdx-00084.parquet\n"
     ]
    },
    {
     "name": "stderr",
     "output_type": "stream",
     "text": [
      "12784284it [01:45, 121714.26it/s]\n"
     ]
    },
    {
     "name": "stdout",
     "output_type": "stream",
     "text": [
      "(1423, 7)\n",
      "data/cdx-00174.gz data/cdx-00174 cdx-00174.parquet\n",
      "Unzipping index file ... \n"
     ]
    },
    {
     "name": "stderr",
     "output_type": "stream",
     "text": [
      "12435904it [01:44, 118825.40it/s]\n"
     ]
    },
    {
     "name": "stdout",
     "output_type": "stream",
     "text": [
      "(4, 7)\n",
      "data/cdx-00243.gz data/cdx-00243 cdx-00243.parquet\n",
      "Unzipping index file ... \n"
     ]
    },
    {
     "name": "stderr",
     "output_type": "stream",
     "text": [
      "14748510it [01:59, 123239.54it/s]\n"
     ]
    },
    {
     "name": "stdout",
     "output_type": "stream",
     "text": [
      "(6, 7)\n",
      "data/cdx-00102.gz data/cdx-00102 cdx-00102.parquet\n",
      "Unzipping index file ... \n"
     ]
    },
    {
     "name": "stderr",
     "output_type": "stream",
     "text": [
      "13960666it [01:54, 121543.43it/s]\n"
     ]
    },
    {
     "name": "stdout",
     "output_type": "stream",
     "text": [
      "(1029, 7)\n",
      "data/cdx-00293.gz data/cdx-00293 cdx-00293.parquet\n",
      "Unzipping index file ... \n"
     ]
    },
    {
     "name": "stderr",
     "output_type": "stream",
     "text": [
      "12887858it [01:48, 118260.67it/s]\n"
     ]
    },
    {
     "name": "stdout",
     "output_type": "stream",
     "text": [
      "(2658, 7)\n",
      "data/cdx-00283.gz data/cdx-00283 cdx-00283.parquet\n",
      "Unzipping index file ... \n"
     ]
    },
    {
     "name": "stderr",
     "output_type": "stream",
     "text": [
      "13009187it [01:43, 125584.16it/s]\n"
     ]
    },
    {
     "name": "stdout",
     "output_type": "stream",
     "text": [
      "(10, 7)\n",
      "data/cdx-00260.gz data/cdx-00260 cdx-00260.parquet\n",
      "Unzipping index file ... \n"
     ]
    },
    {
     "name": "stderr",
     "output_type": "stream",
     "text": [
      "10527679it [01:26, 121073.21it/s]\n"
     ]
    },
    {
     "name": "stdout",
     "output_type": "stream",
     "text": [
      "(2834, 7)\n",
      "data/cdx-00149.gz data/cdx-00149 cdx-00149.parquet\n",
      "Unzipping index file ... \n"
     ]
    },
    {
     "name": "stderr",
     "output_type": "stream",
     "text": [
      "12830949it [01:48, 117719.10it/s]\n"
     ]
    },
    {
     "name": "stdout",
     "output_type": "stream",
     "text": [
      "(1175, 7)\n",
      "data/cdx-00187.gz data/cdx-00187 cdx-00187.parquet\n",
      "Unzipping index file ... \n"
     ]
    },
    {
     "name": "stderr",
     "output_type": "stream",
     "text": [
      "12035657it [01:41, 119016.19it/s]\n"
     ]
    },
    {
     "name": "stdout",
     "output_type": "stream",
     "text": [
      "(339, 7)\n",
      "data/cdx-00209.gz data/cdx-00209 cdx-00209.parquet\n",
      "Unzipping index file ... \n"
     ]
    },
    {
     "name": "stderr",
     "output_type": "stream",
     "text": [
      "16642176it [02:21, 117796.88it/s]\n"
     ]
    },
    {
     "name": "stdout",
     "output_type": "stream",
     "text": [
      "(239, 7)\n",
      "data/cdx-00221.gz data/cdx-00221 cdx-00221.parquet\n",
      "Unzipping index file ... \n"
     ]
    },
    {
     "name": "stderr",
     "output_type": "stream",
     "text": [
      "12884184it [01:43, 124198.89it/s]\n"
     ]
    },
    {
     "name": "stdout",
     "output_type": "stream",
     "text": [
      "(11, 7)\n",
      "data/cdx-00280.gz data/cdx-00280 cdx-00280.parquet\n",
      "Unzipping index file ... \n"
     ]
    },
    {
     "name": "stderr",
     "output_type": "stream",
     "text": [
      "8064741it [01:02, 134472.56it/s]IOPub message rate exceeded.\n",
      "The notebook server will temporarily stop sending output\n",
      "to the client in order to avoid crashing it.\n",
      "To change this limit, set the config variable\n",
      "`--NotebookApp.iopub_msg_rate_limit`.\n",
      "\n",
      "Current values:\n",
      "NotebookApp.iopub_msg_rate_limit=1000.0 (msgs/sec)\n",
      "NotebookApp.rate_limit_window=3.0 (secs)\n",
      "\n",
      "15250811it [02:12, 115349.42it/s]\n"
     ]
    },
    {
     "name": "stdout",
     "output_type": "stream",
     "text": [
      "(14, 7)\n",
      "data/cdx-00255.gz data/cdx-00255 cdx-00255.parquet\n",
      "Unzipping index file ... \n"
     ]
    },
    {
     "name": "stderr",
     "output_type": "stream",
     "text": [
      "11488433it [01:34, 121149.67it/s]\n"
     ]
    },
    {
     "name": "stdout",
     "output_type": "stream",
     "text": [
      "(200, 7)\n",
      "data/cdx-00261.gz data/cdx-00261 cdx-00261.parquet\n",
      "Unzipping index file ... \n"
     ]
    },
    {
     "name": "stderr",
     "output_type": "stream",
     "text": [
      "10576237it [01:25, 123665.37it/s]\n"
     ]
    },
    {
     "name": "stdout",
     "output_type": "stream",
     "text": [
      "(607, 7)\n",
      "data/cdx-00239.gz data/cdx-00239 cdx-00239.parquet\n",
      "Unzipping index file ... \n"
     ]
    },
    {
     "name": "stderr",
     "output_type": "stream",
     "text": [
      "14208665it [01:58, 114089.83it/s]IOPub message rate exceeded.\n",
      "The notebook server will temporarily stop sending output\n",
      "to the client in order to avoid crashing it.\n",
      "To change this limit, set the config variable\n",
      "`--NotebookApp.iopub_msg_rate_limit`.\n",
      "\n",
      "Current values:\n",
      "NotebookApp.iopub_msg_rate_limit=1000.0 (msgs/sec)\n",
      "NotebookApp.rate_limit_window=3.0 (secs)\n",
      "\n",
      "11790872it [01:36, 121823.92it/s]\n"
     ]
    },
    {
     "name": "stdout",
     "output_type": "stream",
     "text": [
      "(182, 7)\n",
      "data/cdx-00232.gz data/cdx-00232 cdx-00232.parquet\n",
      "Unzipping index file ... \n"
     ]
    },
    {
     "name": "stderr",
     "output_type": "stream",
     "text": [
      "12275275it [01:40, 121645.73it/s]\n"
     ]
    },
    {
     "name": "stdout",
     "output_type": "stream",
     "text": [
      "(1858, 7)\n",
      "data/cdx-00256.gz data/cdx-00256 cdx-00256.parquet\n",
      "Unzipping index file ... \n"
     ]
    },
    {
     "name": "stderr",
     "output_type": "stream",
     "text": [
      "11858130it [01:37, 121201.40it/s]\n"
     ]
    },
    {
     "name": "stdout",
     "output_type": "stream",
     "text": [
      "(1048, 7)\n",
      "data/cdx-00118.gz data/cdx-00118 cdx-00118.parquet\n",
      "Unzipping index file ... \n"
     ]
    },
    {
     "name": "stderr",
     "output_type": "stream",
     "text": [
      "8952550it [01:13, 121175.11it/s]IOPub message rate exceeded.\n",
      "The notebook server will temporarily stop sending output\n",
      "to the client in order to avoid crashing it.\n",
      "To change this limit, set the config variable\n",
      "`--NotebookApp.iopub_msg_rate_limit`.\n",
      "\n",
      "Current values:\n",
      "NotebookApp.iopub_msg_rate_limit=1000.0 (msgs/sec)\n",
      "NotebookApp.rate_limit_window=3.0 (secs)\n",
      "\n",
      "11304904it [01:38, 115344.41it/s]\n"
     ]
    },
    {
     "name": "stdout",
     "output_type": "stream",
     "text": [
      "(2, 7)\n",
      "data/cdx-00190.gz data/cdx-00190 cdx-00190.parquet\n",
      "Unzipping index file ... \n"
     ]
    },
    {
     "name": "stderr",
     "output_type": "stream",
     "text": [
      "13326853it [01:57, 113333.72it/s]\n"
     ]
    },
    {
     "name": "stdout",
     "output_type": "stream",
     "text": [
      "(378, 7)\n",
      "data/cdx-00143.gz data/cdx-00143 cdx-00143.parquet\n",
      "Unzipping index file ... \n"
     ]
    },
    {
     "name": "stderr",
     "output_type": "stream",
     "text": [
      "15142178it [02:05, 120397.23it/s]\n"
     ]
    },
    {
     "name": "stdout",
     "output_type": "stream",
     "text": [
      "(3405, 7)\n",
      "data/cdx-00195.gz data/cdx-00195 cdx-00195.parquet\n",
      "Unzipping index file ... \n"
     ]
    },
    {
     "name": "stderr",
     "output_type": "stream",
     "text": [
      "12921574it [01:47, 119823.15it/s]\n"
     ]
    },
    {
     "name": "stdout",
     "output_type": "stream",
     "text": [
      "(15, 7)\n",
      "data/cdx-00176.gz data/cdx-00176 cdx-00176.parquet\n",
      "Unzipping index file ... \n"
     ]
    },
    {
     "name": "stderr",
     "output_type": "stream",
     "text": [
      "11497095it [01:35, 121006.54it/s]\n"
     ]
    },
    {
     "name": "stdout",
     "output_type": "stream",
     "text": [
      "(77, 7)\n",
      "data/cdx-00285.gz data/cdx-00285 cdx-00285.parquet\n",
      "Unzipping index file ... \n"
     ]
    },
    {
     "name": "stderr",
     "output_type": "stream",
     "text": [
      "13568444it [01:49, 123807.94it/s]\n"
     ]
    },
    {
     "name": "stdout",
     "output_type": "stream",
     "text": [
      "(26, 7)\n",
      "data/cdx-00124.gz data/cdx-00124 cdx-00124.parquet\n",
      "Unzipping index file ... \n"
     ]
    },
    {
     "name": "stderr",
     "output_type": "stream",
     "text": [
      "14054129it [01:55, 121968.24it/s]\n"
     ]
    },
    {
     "name": "stdout",
     "output_type": "stream",
     "text": [
      "(4394, 7)\n",
      "data/cdx-00271.gz data/cdx-00271 cdx-00271.parquet\n",
      "Unzipping index file ... \n"
     ]
    },
    {
     "name": "stderr",
     "output_type": "stream",
     "text": [
      "10166344it [01:23, 121689.91it/s]\n"
     ]
    },
    {
     "name": "stdout",
     "output_type": "stream",
     "text": [
      "(554, 7)\n",
      "data/cdx-00135.gz data/cdx-00135 cdx-00135.parquet\n",
      "Unzipping index file ... \n"
     ]
    },
    {
     "name": "stderr",
     "output_type": "stream",
     "text": [
      "11879987it [01:35, 124681.77it/s]\n"
     ]
    },
    {
     "name": "stdout",
     "output_type": "stream",
     "text": [
      "(819, 7)\n",
      "data/cdx-00093.gz data/cdx-00093 cdx-00093.parquet\n",
      "Unzipping index file ... \n"
     ]
    },
    {
     "name": "stderr",
     "output_type": "stream",
     "text": [
      "15121920it [02:05, 120053.37it/s]\n"
     ]
    },
    {
     "name": "stdout",
     "output_type": "stream",
     "text": [
      "(515, 7)\n",
      "data/cdx-00117.gz data/cdx-00117 cdx-00117.parquet\n",
      "Unzipping index file ... \n"
     ]
    },
    {
     "name": "stderr",
     "output_type": "stream",
     "text": [
      "13450508it [01:50, 121799.47it/s]\n"
     ]
    },
    {
     "name": "stdout",
     "output_type": "stream",
     "text": [
      "(1383, 7)\n",
      "data/cdx-00229.gz data/cdx-00229 cdx-00229.parquet\n",
      "Unzipping index file ... \n"
     ]
    },
    {
     "name": "stderr",
     "output_type": "stream",
     "text": [
      "12320156it [01:41, 121288.21it/s]\n"
     ]
    },
    {
     "name": "stdout",
     "output_type": "stream",
     "text": [
      "(869, 7)\n",
      "data/cdx-00080.gz data/cdx-00080 cdx-00080.parquet\n"
     ]
    },
    {
     "name": "stderr",
     "output_type": "stream",
     "text": [
      "15336539it [02:09, 118531.66it/s]\n"
     ]
    },
    {
     "name": "stdout",
     "output_type": "stream",
     "text": [
      "(3587, 7)\n",
      "data/cdx-00191.gz data/cdx-00191 cdx-00191.parquet\n",
      "Unzipping index file ... \n"
     ]
    },
    {
     "name": "stderr",
     "output_type": "stream",
     "text": [
      "13555894it [01:52, 120079.64it/s]\n"
     ]
    },
    {
     "name": "stdout",
     "output_type": "stream",
     "text": [
      "(293, 7)\n",
      "data/cdx-00086.gz data/cdx-00086 cdx-00086.parquet\n",
      "Unzipping index file ... \n"
     ]
    },
    {
     "name": "stderr",
     "output_type": "stream",
     "text": [
      "13043595it [01:48, 120602.91it/s]\n"
     ]
    },
    {
     "name": "stdout",
     "output_type": "stream",
     "text": [
      "(4668, 7)\n",
      "data/cdx-00120.gz data/cdx-00120 cdx-00120.parquet\n",
      "Unzipping index file ... \n"
     ]
    },
    {
     "name": "stderr",
     "output_type": "stream",
     "text": [
      "13113831it [01:47, 121615.56it/s]\n"
     ]
    },
    {
     "name": "stdout",
     "output_type": "stream",
     "text": [
      "(456, 7)\n",
      "data/cdx-00196.gz data/cdx-00196 cdx-00196.parquet\n",
      "Unzipping index file ... \n"
     ]
    },
    {
     "name": "stderr",
     "output_type": "stream",
     "text": [
      "13473869it [01:52, 119397.60it/s]\n"
     ]
    },
    {
     "name": "stdout",
     "output_type": "stream",
     "text": [
      "(18, 7)\n",
      "data/cdx-00132.gz data/cdx-00132 cdx-00132.parquet\n",
      "Unzipping index file ... \n"
     ]
    },
    {
     "name": "stderr",
     "output_type": "stream",
     "text": [
      "12542836it [01:50, 113588.24it/s]\n"
     ]
    },
    {
     "name": "stdout",
     "output_type": "stream",
     "text": [
      "(1591, 7)\n",
      "data/cdx-00101.gz data/cdx-00101 cdx-00101.parquet\n",
      "Unzipping index file ... \n"
     ]
    },
    {
     "name": "stderr",
     "output_type": "stream",
     "text": [
      "10874021it [01:32, 117947.98it/s]\n"
     ]
    },
    {
     "name": "stdout",
     "output_type": "stream",
     "text": [
      "(2136, 7)\n",
      "data/cdx-00264.gz data/cdx-00264 cdx-00264.parquet\n",
      "Unzipping index file ... \n"
     ]
    },
    {
     "name": "stderr",
     "output_type": "stream",
     "text": [
      "11747742it [01:39, 117683.05it/s]\n"
     ]
    },
    {
     "name": "stdout",
     "output_type": "stream",
     "text": [
      "(1319, 7)\n",
      "data/cdx-00094.gz data/cdx-00094 cdx-00094.parquet\n",
      "Unzipping index file ... \n"
     ]
    },
    {
     "name": "stderr",
     "output_type": "stream",
     "text": [
      "12731730it [01:46, 120085.68it/s]\n"
     ]
    },
    {
     "name": "stdout",
     "output_type": "stream",
     "text": [
      "(605, 7)\n",
      "data/cdx-00244.gz data/cdx-00244 cdx-00244.parquet\n",
      "Unzipping index file ... \n"
     ]
    },
    {
     "name": "stderr",
     "output_type": "stream",
     "text": [
      "10843639it [01:32, 117697.77it/s]\n"
     ]
    },
    {
     "name": "stdout",
     "output_type": "stream",
     "text": [
      "(18, 7)\n",
      "data/cdx-00128.gz data/cdx-00128 cdx-00128.parquet\n",
      "Unzipping index file ... \n"
     ]
    },
    {
     "name": "stderr",
     "output_type": "stream",
     "text": [
      "13237031it [01:51, 118553.95it/s]\n"
     ]
    },
    {
     "name": "stdout",
     "output_type": "stream",
     "text": [
      "(3101, 7)\n",
      "data/cdx-00106.gz data/cdx-00106 cdx-00106.parquet\n",
      "Unzipping index file ... \n"
     ]
    },
    {
     "name": "stderr",
     "output_type": "stream",
     "text": [
      "10165115it [01:27, 116421.56it/s]\n"
     ]
    },
    {
     "name": "stdout",
     "output_type": "stream",
     "text": [
      "(254, 7)\n",
      "data/cdx-00193.gz data/cdx-00193 cdx-00193.parquet\n",
      "Unzipping index file ... \n"
     ]
    },
    {
     "name": "stderr",
     "output_type": "stream",
     "text": [
      "13055447it [01:51, 117449.36it/s]\n"
     ]
    },
    {
     "name": "stdout",
     "output_type": "stream",
     "text": [
      "(16, 7)\n",
      "data/cdx-00111.gz data/cdx-00111 cdx-00111.parquet\n",
      "Unzipping index file ... \n"
     ]
    },
    {
     "name": "stderr",
     "output_type": "stream",
     "text": [
      "11475592it [01:35, 119752.76it/s]\n"
     ]
    },
    {
     "name": "stdout",
     "output_type": "stream",
     "text": [
      "(441, 7)\n",
      "data/cdx-00265.gz data/cdx-00265 cdx-00265.parquet\n",
      "Unzipping index file ... \n"
     ]
    },
    {
     "name": "stderr",
     "output_type": "stream",
     "text": [
      "17355582it [02:33, 113191.83it/s]\n"
     ]
    },
    {
     "name": "stdout",
     "output_type": "stream",
     "text": [
      "(19752, 7)\n",
      "data/cdx-00173.gz data/cdx-00173 cdx-00173.parquet\n",
      "Unzipping index file ... \n"
     ]
    },
    {
     "name": "stderr",
     "output_type": "stream",
     "text": [
      "14191807it [01:59, 118953.98it/s]\n"
     ]
    },
    {
     "name": "stdout",
     "output_type": "stream",
     "text": [
      "(118, 7)\n",
      "data/cdx-00164.gz data/cdx-00164 cdx-00164.parquet\n",
      "Unzipping index file ... \n"
     ]
    },
    {
     "name": "stderr",
     "output_type": "stream",
     "text": [
      "14704374it [02:05, 117396.37it/s]\n"
     ]
    },
    {
     "name": "stdout",
     "output_type": "stream",
     "text": [
      "(376, 7)\n",
      "data/cdx-00282.gz data/cdx-00282 cdx-00282.parquet\n",
      "Unzipping index file ... \n"
     ]
    },
    {
     "name": "stderr",
     "output_type": "stream",
     "text": [
      "13438180it [01:47, 124640.95it/s]\n"
     ]
    },
    {
     "name": "stdout",
     "output_type": "stream",
     "text": [
      "(11, 7)\n",
      "data/cdx-00182.gz data/cdx-00182 cdx-00182.parquet\n",
      "Unzipping index file ... \n"
     ]
    },
    {
     "name": "stderr",
     "output_type": "stream",
     "text": [
      "9353659it [01:24, 110185.28it/s]\n"
     ]
    },
    {
     "name": "stdout",
     "output_type": "stream",
     "text": [
      "(2, 7)\n",
      "data/cdx-00233.gz data/cdx-00233 cdx-00233.parquet\n",
      "Unzipping index file ... \n"
     ]
    },
    {
     "name": "stderr",
     "output_type": "stream",
     "text": [
      "13899643it [01:54, 121044.32it/s]\n"
     ]
    },
    {
     "name": "stdout",
     "output_type": "stream",
     "text": [
      "(1287, 7)\n",
      "data/cdx-00134.gz data/cdx-00134 cdx-00134.parquet\n",
      "Unzipping index file ... \n"
     ]
    },
    {
     "name": "stderr",
     "output_type": "stream",
     "text": [
      "12195406it [01:38, 123197.37it/s]\n"
     ]
    },
    {
     "name": "stdout",
     "output_type": "stream",
     "text": [
      "(571, 7)\n",
      "data/cdx-00234.gz data/cdx-00234 cdx-00234.parquet\n",
      "Unzipping index file ... \n"
     ]
    },
    {
     "name": "stderr",
     "output_type": "stream",
     "text": [
      "14128292it [01:55, 122242.52it/s]\n"
     ]
    },
    {
     "name": "stdout",
     "output_type": "stream",
     "text": [
      "(2200, 7)\n",
      "data/cdx-00096.gz data/cdx-00096 cdx-00096.parquet\n",
      "Unzipping index file ... \n"
     ]
    },
    {
     "name": "stderr",
     "output_type": "stream",
     "text": [
      "12430877it [01:42, 120715.67it/s]\n"
     ]
    },
    {
     "name": "stdout",
     "output_type": "stream",
     "text": [
      "(339, 7)\n",
      "data/cdx-00224.gz data/cdx-00224 cdx-00224.parquet\n",
      "Unzipping index file ... \n"
     ]
    },
    {
     "name": "stderr",
     "output_type": "stream",
     "text": [
      "13524196it [01:53, 119359.90it/s]\n"
     ]
    },
    {
     "name": "stdout",
     "output_type": "stream",
     "text": [
      "(75, 7)\n",
      "data/cdx-00185.gz data/cdx-00185 cdx-00185.parquet\n",
      "Unzipping index file ... \n"
     ]
    },
    {
     "name": "stderr",
     "output_type": "stream",
     "text": [
      "14618543it [02:14, 108738.67it/s]\n"
     ]
    },
    {
     "name": "stdout",
     "output_type": "stream",
     "text": [
      "(89, 7)\n",
      "data/cdx-00230.gz data/cdx-00230 cdx-00230.parquet\n",
      "Unzipping index file ... \n"
     ]
    },
    {
     "name": "stderr",
     "output_type": "stream",
     "text": [
      "13434617it [01:49, 122326.22it/s]\n"
     ]
    },
    {
     "name": "stdout",
     "output_type": "stream",
     "text": [
      "(1101, 7)\n",
      "data/cdx-00225.gz data/cdx-00225 cdx-00225.parquet\n",
      "Unzipping index file ... \n"
     ]
    },
    {
     "name": "stderr",
     "output_type": "stream",
     "text": [
      "9039607it [01:11, 127011.28it/s]\n"
     ]
    },
    {
     "name": "stdout",
     "output_type": "stream",
     "text": [
      "(348, 7)\n",
      "data/cdx-00121.gz data/cdx-00121 cdx-00121.parquet\n",
      "Unzipping index file ... \n"
     ]
    },
    {
     "name": "stderr",
     "output_type": "stream",
     "text": [
      "14935096it [02:03, 120972.26it/s]\n"
     ]
    },
    {
     "name": "stdout",
     "output_type": "stream",
     "text": [
      "(2199, 7)\n",
      "data/cdx-00274.gz data/cdx-00274 cdx-00274.parquet\n",
      "Unzipping index file ... \n"
     ]
    },
    {
     "name": "stderr",
     "output_type": "stream",
     "text": [
      "14906253it [02:04, 119817.42it/s]\n"
     ]
    },
    {
     "name": "stdout",
     "output_type": "stream",
     "text": [
      "(60, 7)\n",
      "data/cdx-00257.gz data/cdx-00257 cdx-00257.parquet\n",
      "Unzipping index file ... \n"
     ]
    },
    {
     "name": "stderr",
     "output_type": "stream",
     "text": [
      "11577081it [01:35, 120656.00it/s]\n"
     ]
    },
    {
     "name": "stdout",
     "output_type": "stream",
     "text": [
      "(579, 7)\n",
      "data/cdx-00114.gz data/cdx-00114 cdx-00114.parquet\n",
      "Unzipping index file ... \n"
     ]
    },
    {
     "name": "stderr",
     "output_type": "stream",
     "text": [
      "14452898it [01:58, 121514.83it/s]\n"
     ]
    },
    {
     "name": "stdout",
     "output_type": "stream",
     "text": [
      "(2475, 7)\n",
      "data/cdx-00279.gz data/cdx-00279 cdx-00279.parquet\n",
      "Unzipping index file ... \n"
     ]
    },
    {
     "name": "stderr",
     "output_type": "stream",
     "text": [
      "14151710it [01:54, 123395.48it/s]\n"
     ]
    },
    {
     "name": "stdout",
     "output_type": "stream",
     "text": [
      "(22, 7)\n",
      "data/cdx-00268.gz data/cdx-00268 cdx-00268.parquet\n",
      "Unzipping index file ... \n"
     ]
    },
    {
     "name": "stderr",
     "output_type": "stream",
     "text": [
      "16187203it [02:15, 119051.87it/s]\n"
     ]
    },
    {
     "name": "stdout",
     "output_type": "stream",
     "text": [
      "(382, 7)\n",
      "data/cdx-00189.gz data/cdx-00189 cdx-00189.parquet\n",
      "Unzipping index file ... \n"
     ]
    },
    {
     "name": "stderr",
     "output_type": "stream",
     "text": [
      "13978922it [02:00, 115656.80it/s]\n"
     ]
    },
    {
     "name": "stdout",
     "output_type": "stream",
     "text": [
      "(130, 7)\n",
      "data/cdx-00262.gz data/cdx-00262 cdx-00262.parquet\n",
      "Unzipping index file ... \n"
     ]
    },
    {
     "name": "stderr",
     "output_type": "stream",
     "text": [
      "12408368it [01:42, 120627.12it/s]\n"
     ]
    },
    {
     "name": "stdout",
     "output_type": "stream",
     "text": [
      "(206, 7)\n",
      "data/cdx-00179.gz data/cdx-00179 cdx-00179.parquet\n",
      "Unzipping index file ... \n"
     ]
    },
    {
     "name": "stderr",
     "output_type": "stream",
     "text": [
      "15717907it [02:23, 109847.71it/s]\n"
     ]
    },
    {
     "name": "stdout",
     "output_type": "stream",
     "text": [
      "(127, 7)\n",
      "data/cdx-00177.gz data/cdx-00177 cdx-00177.parquet\n",
      "Unzipping index file ... \n"
     ]
    },
    {
     "name": "stderr",
     "output_type": "stream",
     "text": [
      "15316754it [02:08, 118813.47it/s]\n"
     ]
    },
    {
     "name": "stdout",
     "output_type": "stream",
     "text": [
      "(13, 7)\n",
      "data/cdx-00286.gz data/cdx-00286 cdx-00286.parquet\n",
      "Unzipping index file ... \n"
     ]
    },
    {
     "name": "stderr",
     "output_type": "stream",
     "text": [
      "9545007it [01:13, 129602.38it/s]\n"
     ]
    },
    {
     "name": "stdout",
     "output_type": "stream",
     "text": [
      "(383, 7)\n",
      "data/cdx-00298.gz data/cdx-00298 cdx-00298.parquet\n",
      "Unzipping index file ... \n"
     ]
    },
    {
     "name": "stderr",
     "output_type": "stream",
     "text": [
      "14933353it [02:21, 105545.81it/s]\n"
     ]
    },
    {
     "name": "stdout",
     "output_type": "stream",
     "text": [
      "(511, 7)\n",
      "data/cdx-00181.gz data/cdx-00181 cdx-00181.parquet\n",
      "Unzipping index file ... \n"
     ]
    },
    {
     "name": "stderr",
     "output_type": "stream",
     "text": [
      "12671103it [01:51, 113511.81it/s]\n"
     ]
    },
    {
     "name": "stdout",
     "output_type": "stream",
     "text": [
      "(33, 7)\n",
      "data/cdx-00083.gz data/cdx-00083 cdx-00083.parquet\n"
     ]
    },
    {
     "name": "stderr",
     "output_type": "stream",
     "text": [
      "15472504it [02:09, 119233.93it/s]\n"
     ]
    },
    {
     "name": "stdout",
     "output_type": "stream",
     "text": [
      "(1038, 7)\n",
      "data/cdx-00241.gz data/cdx-00241 cdx-00241.parquet\n",
      "Unzipping index file ... \n"
     ]
    },
    {
     "name": "stderr",
     "output_type": "stream",
     "text": [
      "13456363it [01:54, 117847.64it/s]\n"
     ]
    },
    {
     "name": "stdout",
     "output_type": "stream",
     "text": [
      "(188, 7)\n",
      "data/cdx-00210.gz data/cdx-00210 cdx-00210.parquet\n",
      "Unzipping index file ... \n"
     ]
    },
    {
     "name": "stderr",
     "output_type": "stream",
     "text": [
      "12280884it [01:39, 123804.42it/s]\n"
     ]
    },
    {
     "name": "stdout",
     "output_type": "stream",
     "text": [
      "(675, 7)\n",
      "data/cdx-00296.gz data/cdx-00296 cdx-00296.parquet\n",
      "Unzipping index file ... \n"
     ]
    },
    {
     "name": "stderr",
     "output_type": "stream",
     "text": [
      "15209255it [02:06, 119962.43it/s]\n"
     ]
    },
    {
     "name": "stdout",
     "output_type": "stream",
     "text": [
      "(516, 7)\n",
      "data/cdx-00251.gz data/cdx-00251 cdx-00251.parquet\n",
      "Unzipping index file ... \n"
     ]
    },
    {
     "name": "stderr",
     "output_type": "stream",
     "text": [
      "12974192it [01:47, 120543.01it/s]\n"
     ]
    },
    {
     "name": "stdout",
     "output_type": "stream",
     "text": [
      "(550, 7)\n",
      "data/cdx-00148.gz data/cdx-00148 cdx-00148.parquet\n",
      "Unzipping index file ... \n"
     ]
    },
    {
     "name": "stderr",
     "output_type": "stream",
     "text": [
      "14200228it [01:55, 123044.33it/s]\n"
     ]
    },
    {
     "name": "stdout",
     "output_type": "stream",
     "text": [
      "(972, 7)\n",
      "data/cdx-00169.gz data/cdx-00169 cdx-00169.parquet\n",
      "Unzipping index file ... \n"
     ]
    },
    {
     "name": "stderr",
     "output_type": "stream",
     "text": [
      "12797285it [01:48, 117899.79it/s]\n"
     ]
    },
    {
     "name": "stdout",
     "output_type": "stream",
     "text": [
      "(406, 7)\n",
      "data/cdx-00231.gz data/cdx-00231 cdx-00231.parquet\n",
      "Unzipping index file ... \n"
     ]
    },
    {
     "name": "stderr",
     "output_type": "stream",
     "text": [
      "12527049it [01:42, 122290.68it/s]\n"
     ]
    },
    {
     "name": "stdout",
     "output_type": "stream",
     "text": [
      "(861, 7)\n",
      "data/cdx-00258.gz data/cdx-00258 cdx-00258.parquet\n",
      "Unzipping index file ... \n"
     ]
    },
    {
     "name": "stderr",
     "output_type": "stream",
     "text": [
      "9488719it [01:18, 120776.88it/s]\n"
     ]
    },
    {
     "name": "stdout",
     "output_type": "stream",
     "text": [
      "(315, 7)\n",
      "data/cdx-00277.gz data/cdx-00277 cdx-00277.parquet\n",
      "Unzipping index file ... \n"
     ]
    },
    {
     "name": "stderr",
     "output_type": "stream",
     "text": [
      "12655115it [01:42, 123948.24it/s]\n"
     ]
    },
    {
     "name": "stdout",
     "output_type": "stream",
     "text": [
      "(11, 7)\n",
      "data/cdx-00188.gz data/cdx-00188 cdx-00188.parquet\n",
      "Unzipping index file ... \n"
     ]
    },
    {
     "name": "stderr",
     "output_type": "stream",
     "text": [
      "12795450it [01:46, 120058.54it/s]\n"
     ]
    },
    {
     "name": "stdout",
     "output_type": "stream",
     "text": [
      "(19, 7)\n",
      "data/cdx-00288.gz data/cdx-00288 cdx-00288.parquet\n",
      "Unzipping index file ... \n"
     ]
    },
    {
     "name": "stderr",
     "output_type": "stream",
     "text": [
      "11261413it [01:38, 114652.27it/s]\n"
     ]
    },
    {
     "name": "stdout",
     "output_type": "stream",
     "text": [
      "(3580, 7)\n",
      "data/cdx-00254.gz data/cdx-00254 cdx-00254.parquet\n",
      "Unzipping index file ... \n"
     ]
    },
    {
     "name": "stderr",
     "output_type": "stream",
     "text": [
      "13042720it [01:48, 119775.82it/s]\n"
     ]
    },
    {
     "name": "stdout",
     "output_type": "stream",
     "text": [
      "(631, 7)\n",
      "data/cdx-00145.gz data/cdx-00145 cdx-00145.parquet\n",
      "Unzipping index file ... \n"
     ]
    },
    {
     "name": "stderr",
     "output_type": "stream",
     "text": [
      "11779045it [01:36, 122095.43it/s]\n"
     ]
    },
    {
     "name": "stdout",
     "output_type": "stream",
     "text": [
      "(875, 7)\n",
      "data/cdx-00077.gz data/cdx-00077 cdx-00077.parquet\n"
     ]
    },
    {
     "name": "stderr",
     "output_type": "stream",
     "text": [
      "11914828it [01:38, 120426.46it/s]\n"
     ]
    },
    {
     "name": "stdout",
     "output_type": "stream",
     "text": [
      "(1852, 7)\n",
      "data/cdx-00116.gz data/cdx-00116 cdx-00116.parquet\n",
      "Unzipping index file ... \n"
     ]
    },
    {
     "name": "stderr",
     "output_type": "stream",
     "text": [
      "10856925it [01:30, 120216.65it/s]\n"
     ]
    },
    {
     "name": "stdout",
     "output_type": "stream",
     "text": [
      "(685, 7)\n",
      "data/cdx-00089.gz data/cdx-00089 cdx-00089.parquet\n",
      "Unzipping index file ... \n"
     ]
    },
    {
     "name": "stderr",
     "output_type": "stream",
     "text": [
      "15098366it [02:04, 121721.73it/s]\n"
     ]
    },
    {
     "name": "stdout",
     "output_type": "stream",
     "text": [
      "(1469, 7)\n",
      "data/cdx-00237.gz data/cdx-00237 cdx-00237.parquet\n",
      "Unzipping index file ... \n"
     ]
    },
    {
     "name": "stderr",
     "output_type": "stream",
     "text": [
      "13435531it [01:49, 122417.43it/s]\n"
     ]
    },
    {
     "name": "stdout",
     "output_type": "stream",
     "text": [
      "(742, 7)\n",
      "data/cdx-00183.gz data/cdx-00183 cdx-00183.parquet\n",
      "Unzipping index file ... \n"
     ]
    },
    {
     "name": "stderr",
     "output_type": "stream",
     "text": [
      "15732240it [02:25, 107929.71it/s]\n"
     ]
    },
    {
     "name": "stdout",
     "output_type": "stream",
     "text": [
      "(8, 7)\n",
      "data/cdx-00198.gz data/cdx-00198 cdx-00198.parquet\n",
      "Unzipping index file ... \n"
     ]
    },
    {
     "name": "stderr",
     "output_type": "stream",
     "text": [
      "15061631it [02:08, 117526.30it/s]\n"
     ]
    },
    {
     "name": "stdout",
     "output_type": "stream",
     "text": [
      "(62, 7)\n",
      "data/cdx-00245.gz data/cdx-00245 cdx-00245.parquet\n",
      "Unzipping index file ... \n"
     ]
    },
    {
     "name": "stderr",
     "output_type": "stream",
     "text": [
      "14104633it [01:59, 118211.27it/s]\n"
     ]
    },
    {
     "name": "stdout",
     "output_type": "stream",
     "text": [
      "(1050, 7)\n",
      "data/cdx-00171.gz data/cdx-00171 cdx-00171.parquet\n",
      "Unzipping index file ... \n"
     ]
    },
    {
     "name": "stderr",
     "output_type": "stream",
     "text": [
      "15073793it [02:09, 116684.44it/s]\n"
     ]
    },
    {
     "name": "stdout",
     "output_type": "stream",
     "text": [
      "(13, 7)\n",
      "data/cdx-00236.gz data/cdx-00236 cdx-00236.parquet\n",
      "Unzipping index file ... \n"
     ]
    },
    {
     "name": "stderr",
     "output_type": "stream",
     "text": [
      "13014514it [01:47, 120507.03it/s]\n"
     ]
    },
    {
     "name": "stdout",
     "output_type": "stream",
     "text": [
      "(1890, 7)\n",
      "data/cdx-00205.gz data/cdx-00205 cdx-00205.parquet\n",
      "Unzipping index file ... \n"
     ]
    },
    {
     "name": "stderr",
     "output_type": "stream",
     "text": [
      "13315791it [01:54, 116645.52it/s]\n"
     ]
    },
    {
     "name": "stdout",
     "output_type": "stream",
     "text": [
      "(18988, 7)\n",
      "data/cdx-00273.gz data/cdx-00273 cdx-00273.parquet\n",
      "Unzipping index file ... \n"
     ]
    },
    {
     "name": "stderr",
     "output_type": "stream",
     "text": [
      "14481458it [02:04, 116141.14it/s]\n"
     ]
    },
    {
     "name": "stdout",
     "output_type": "stream",
     "text": [
      "(14, 7)\n",
      "data/cdx-00085.gz data/cdx-00085 cdx-00085.parquet\n"
     ]
    },
    {
     "name": "stderr",
     "output_type": "stream",
     "text": [
      "13717849it [01:56, 117681.59it/s]\n"
     ]
    },
    {
     "name": "stdout",
     "output_type": "stream",
     "text": [
      "(1041, 7)\n",
      "data/cdx-00109.gz data/cdx-00109 cdx-00109.parquet\n",
      "Unzipping index file ... \n"
     ]
    },
    {
     "name": "stderr",
     "output_type": "stream",
     "text": [
      "13194627it [01:48, 121379.14it/s]\n"
     ]
    },
    {
     "name": "stdout",
     "output_type": "stream",
     "text": [
      "(439, 7)\n",
      "data/cdx-00076.gz data/cdx-00076 cdx-00076.parquet\n"
     ]
    },
    {
     "name": "stderr",
     "output_type": "stream",
     "text": [
      "14037407it [01:59, 117377.13it/s]\n"
     ]
    },
    {
     "name": "stdout",
     "output_type": "stream",
     "text": [
      "(947, 7)\n",
      "data/cdx-00269.gz data/cdx-00269 cdx-00269.parquet\n",
      "Unzipping index file ... \n"
     ]
    },
    {
     "name": "stderr",
     "output_type": "stream",
     "text": [
      "13710818it [01:58, 115930.91it/s]\n"
     ]
    },
    {
     "name": "stdout",
     "output_type": "stream",
     "text": [
      "(470, 7)\n",
      "data/cdx-00266.gz data/cdx-00266 cdx-00266.parquet\n",
      "Unzipping index file ... \n"
     ]
    },
    {
     "name": "stderr",
     "output_type": "stream",
     "text": [
      "14148466it [01:59, 118253.74it/s]\n"
     ]
    },
    {
     "name": "stdout",
     "output_type": "stream",
     "text": [
      "(535, 7)\n",
      "data/cdx-00206.gz data/cdx-00206 cdx-00206.parquet\n",
      "Unzipping index file ... \n"
     ]
    },
    {
     "name": "stderr",
     "output_type": "stream",
     "text": [
      "13224455it [01:53, 116094.48it/s]\n"
     ]
    },
    {
     "name": "stdout",
     "output_type": "stream",
     "text": [
      "(174, 7)\n",
      "data/cdx-00130.gz data/cdx-00130 cdx-00130.parquet\n",
      "Unzipping index file ... \n"
     ]
    },
    {
     "name": "stderr",
     "output_type": "stream",
     "text": [
      "13462805it [01:52, 119390.96it/s]\n"
     ]
    },
    {
     "name": "stdout",
     "output_type": "stream",
     "text": [
      "(499, 7)\n",
      "data/cdx-00202.gz data/cdx-00202 cdx-00202.parquet\n",
      "Unzipping index file ... \n"
     ]
    },
    {
     "name": "stderr",
     "output_type": "stream",
     "text": [
      "13375321it [01:58, 113012.11it/s]\n"
     ]
    },
    {
     "name": "stdout",
     "output_type": "stream",
     "text": [
      "(63, 7)\n",
      "data/cdx-00122.gz data/cdx-00122 cdx-00122.parquet\n",
      "Unzipping index file ... \n"
     ]
    },
    {
     "name": "stderr",
     "output_type": "stream",
     "text": [
      "13113801it [01:49, 119363.54it/s]\n"
     ]
    },
    {
     "name": "stdout",
     "output_type": "stream",
     "text": [
      "(2603, 7)\n",
      "data/cdx-00253.gz data/cdx-00253 cdx-00253.parquet\n",
      "Unzipping index file ... \n"
     ]
    },
    {
     "name": "stderr",
     "output_type": "stream",
     "text": [
      "13172814it [01:50, 118743.21it/s]\n"
     ]
    },
    {
     "name": "stdout",
     "output_type": "stream",
     "text": [
      "(1388, 7)\n",
      "data/cdx-00194.gz data/cdx-00194 cdx-00194.parquet\n",
      "Unzipping index file ... \n"
     ]
    },
    {
     "name": "stderr",
     "output_type": "stream",
     "text": [
      "14521756it [02:05, 116022.65it/s]\n"
     ]
    },
    {
     "name": "stdout",
     "output_type": "stream",
     "text": [
      "(87, 7)\n",
      "data/cdx-00180.gz data/cdx-00180 cdx-00180.parquet\n",
      "Unzipping index file ... \n"
     ]
    },
    {
     "name": "stderr",
     "output_type": "stream",
     "text": [
      "13490234it [01:53, 118618.72it/s]\n"
     ]
    },
    {
     "name": "stdout",
     "output_type": "stream",
     "text": [
      "(32, 7)\n",
      "data/cdx-00141.gz data/cdx-00141 cdx-00141.parquet\n",
      "Unzipping index file ... \n"
     ]
    },
    {
     "name": "stderr",
     "output_type": "stream",
     "text": [
      "13195162it [01:50, 118907.92it/s]\n"
     ]
    },
    {
     "name": "stdout",
     "output_type": "stream",
     "text": [
      "(6016, 7)\n",
      "data/cdx-00095.gz data/cdx-00095 cdx-00095.parquet\n",
      "Unzipping index file ... \n"
     ]
    },
    {
     "name": "stderr",
     "output_type": "stream",
     "text": [
      "12236207it [01:44, 116936.64it/s]\n"
     ]
    },
    {
     "name": "stdout",
     "output_type": "stream",
     "text": [
      "(21203, 7)\n",
      "data/cdx-00110.gz data/cdx-00110 cdx-00110.parquet\n",
      "Unzipping index file ... \n"
     ]
    },
    {
     "name": "stderr",
     "output_type": "stream",
     "text": [
      "13473493it [01:53, 118222.44it/s]\n"
     ]
    },
    {
     "name": "stdout",
     "output_type": "stream",
     "text": [
      "(2001, 7)\n",
      "data/cdx-00144.gz data/cdx-00144 cdx-00144.parquet\n",
      "Unzipping index file ... \n"
     ]
    },
    {
     "name": "stderr",
     "output_type": "stream",
     "text": [
      "11489176it [01:35, 119691.02it/s]\n"
     ]
    },
    {
     "name": "stdout",
     "output_type": "stream",
     "text": [
      "(2145, 7)\n",
      "data/cdx-00250.gz data/cdx-00250 cdx-00250.parquet\n",
      "Unzipping index file ... \n"
     ]
    },
    {
     "name": "stderr",
     "output_type": "stream",
     "text": [
      "11473585it [01:33, 122654.89it/s]\n"
     ]
    },
    {
     "name": "stdout",
     "output_type": "stream",
     "text": [
      "(393, 7)\n",
      "data/cdx-00125.gz data/cdx-00125 cdx-00125.parquet\n",
      "Unzipping index file ... \n"
     ]
    },
    {
     "name": "stderr",
     "output_type": "stream",
     "text": [
      "12517614it [01:45, 119031.92it/s]\n"
     ]
    },
    {
     "name": "stdout",
     "output_type": "stream",
     "text": [
      "(2874, 7)\n",
      "data/cdx-00150.gz data/cdx-00150 cdx-00150.parquet\n",
      "Unzipping index file ... \n"
     ]
    },
    {
     "name": "stderr",
     "output_type": "stream",
     "text": [
      "17171258it [02:27, 116648.56it/s]\n"
     ]
    },
    {
     "name": "stdout",
     "output_type": "stream",
     "text": [
      "(11541, 7)\n",
      "data/cdx-00082.gz data/cdx-00082 cdx-00082.parquet\n"
     ]
    },
    {
     "name": "stderr",
     "output_type": "stream",
     "text": [
      "13769861it [01:57, 117269.36it/s]\n"
     ]
    },
    {
     "name": "stdout",
     "output_type": "stream",
     "text": [
      "(1552, 7)\n",
      "data/cdx-00242.gz data/cdx-00242 cdx-00242.parquet\n",
      "Unzipping index file ... \n"
     ]
    },
    {
     "name": "stderr",
     "output_type": "stream",
     "text": [
      "16770890it [02:22, 117309.75it/s]\n"
     ]
    },
    {
     "name": "stdout",
     "output_type": "stream",
     "text": [
      "(103, 7)\n",
      "data/cdx-00147.gz data/cdx-00147 cdx-00147.parquet\n",
      "Unzipping index file ... \n"
     ]
    },
    {
     "name": "stderr",
     "output_type": "stream",
     "text": [
      "12721630it [01:44, 121994.36it/s]\n"
     ]
    },
    {
     "name": "stdout",
     "output_type": "stream",
     "text": [
      "(19767, 7)\n",
      "data/cdx-00104.gz data/cdx-00104 cdx-00104.parquet\n",
      "Unzipping index file ... \n"
     ]
    },
    {
     "name": "stderr",
     "output_type": "stream",
     "text": [
      "13706946it [01:52, 121828.22it/s]\n"
     ]
    },
    {
     "name": "stdout",
     "output_type": "stream",
     "text": [
      "(2937, 7)\n",
      "data/cdx-00272.gz data/cdx-00272 cdx-00272.parquet\n",
      "Unzipping index file ... \n"
     ]
    },
    {
     "name": "stderr",
     "output_type": "stream",
     "text": [
      "12863804it [01:55, 111292.26it/s]\n"
     ]
    },
    {
     "name": "stdout",
     "output_type": "stream",
     "text": [
      "(1230, 7)\n",
      "data/cdx-00165.gz data/cdx-00165 cdx-00165.parquet\n",
      "Unzipping index file ... \n"
     ]
    },
    {
     "name": "stderr",
     "output_type": "stream",
     "text": [
      "14786095it [02:09, 114598.68it/s]\n"
     ]
    },
    {
     "name": "stdout",
     "output_type": "stream",
     "text": [
      "(22, 7)\n"
     ]
    }
   ],
   "source": [
    "from glob import glob\n",
    "import os\n",
    "from tqdm import tqdm\n",
    "from urllib.parse import urlparse\n",
    "import pandas as pd\n",
    "\n",
    "files = glob('data/*.gz')\n",
    "for f in files:\n",
    "    new_f = f.split('.gz')[0]\n",
    "    filename = os.path.split(f)[1].replace('.gz', '.parquet')\n",
    "    \n",
    "    print(f, new_f, filename)\n",
    "    \n",
    "    if os.path.exists(filename):\n",
    "        continue\n",
    "    \n",
    "    if not os.path.exists(new_f):\n",
    "        process_index_file(f)\n",
    "        \n",
    "    \n",
    "    filtered = []\n",
    "    \n",
    "    with open(new_f, encoding = \"ISO-8859-1\") as fopen:\n",
    "        for l in tqdm(fopen):\n",
    "            try:\n",
    "                l = process_index_file_line(l)\n",
    "\n",
    "                if l[-1] == 'msa':\n",
    "                    filtered.append(l)\n",
    "                    continue\n",
    "\n",
    "                domain = urlparse(l[1]).netloc\n",
    "                if domain.endswith('.my'):\n",
    "                    filtered.append(l)\n",
    "                    continue\n",
    "\n",
    "            except:\n",
    "                pass\n",
    "    \n",
    "    df = pd.DataFrame(filtered, columns = ['ts','url','tld','length','offset','warc','language'])\n",
    "    print(df.shape)\n",
    "    df.to_parquet(filename, index = False)\n",
    "    \n",
    "#     try:\n",
    "    \n",
    "#         crawled = []\n",
    "#         with ThreadPoolExecutor(max_workers=MAX_PARALLEL_REQUESTS) as executor:\n",
    "#             futures = {executor.submit(crawl, df['url'].iloc[i]): df['url'].iloc[i] for i in range(len(df))}\n",
    "\n",
    "#         for future in tqdm(as_completed(futures), total=len(futures)):\n",
    "#             crawled.append(future.result())\n",
    "\n",
    "#         df_urls = pd.DataFrame(crawled, columns = ['url', 'web'])\n",
    "#         df = df.merge(df_urls, on = 'url')\n",
    "#         df.to_parquet(filename, index = False)\n",
    "    \n",
    "#     except:\n",
    "#         pass\n",
    "    \n",
    "    os.remove(new_f)\n",
    "#     os.remove(f)"
   ]
  }
 ],
 "metadata": {
  "kernelspec": {
   "display_name": "Python 3 (ipykernel)",
   "language": "python",
   "name": "python3"
  },
  "language_info": {
   "codemirror_mode": {
    "name": "ipython",
    "version": 3
   },
   "file_extension": ".py",
   "mimetype": "text/x-python",
   "name": "python",
   "nbconvert_exporter": "python",
   "pygments_lexer": "ipython3",
   "version": "3.8.10"
  }
 },
 "nbformat": 4,
 "nbformat_minor": 4
}
