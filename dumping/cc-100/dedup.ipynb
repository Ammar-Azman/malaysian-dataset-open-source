{
 "cells": [
  {
   "cell_type": "code",
   "execution_count": 1,
   "metadata": {},
   "outputs": [],
   "source": [
    "# !wget https://data.statmt.org/cc-100/ms.txt.xz\n",
    "# !xz --decompress ms.txt.xz"
   ]
  },
  {
   "cell_type": "code",
   "execution_count": 1,
   "metadata": {},
   "outputs": [
    {
     "name": "stdout",
     "output_type": "stream",
     "text": [
      "Saya mendapat panggilan telefon daripada pihak pengurusan iLuvislam memaklumkan bahawa saya terpilih untuk menghadiri latihan ESQ pada tarikh 3 Julai-5Julai. Saya berbesar hati menerimanya dan beliau sempat meminta saya segera menghantar maklumat peribadi saya seperti alamat, no kad pengenalan. Saya kata ya, saya akan sms nanti. Sempat saya bertanya, berapa krew iLi yang akan terpilih, beliau maklumkan lima orang.\r\n",
      "Saya mendapat SMS dari pihak pengurusan iLuvislam, bertanya samaada saya benar-benar berminat menyertai latihan ataupun tidak. Tersedar dari khilaf, saya baru teringat yang saya terlupa dan masih belum menghantar apa-apa maklumat peribadi kepada beliau. Segera saya menghantar maklumat saya kepada beliau sekaligus menyatakan bahawa saya benar-benar ingin mengikutinya.. Saya seronok bukan kepalang, hehehe..\r\n"
     ]
    }
   ],
   "source": [
    "!head -n 2 ms.txt"
   ]
  },
  {
   "cell_type": "code",
   "execution_count": 3,
   "metadata": {},
   "outputs": [],
   "source": [
    "import re\n",
    "import json\n",
    "from tqdm import tqdm\n",
    "\n",
    "def cleaning(string):\n",
    "    string = re.sub(r'[ ]+', ' ', string.replace('\\n', ' ').replace('\\r', ' ')).strip()\n",
    "    return string.lower()"
   ]
  },
  {
   "cell_type": "code",
   "execution_count": 7,
   "metadata": {},
   "outputs": [
    {
     "name": "stderr",
     "output_type": "stream",
     "text": [
      "77522478it [05:03, 255482.53it/s]\n"
     ]
    }
   ],
   "source": [
    "processed = set()\n",
    "with open('dedup.jsonl', 'w') as fopen_l:\n",
    "    with open('ms.txt') as fopen:\n",
    "        for l in tqdm(fopen):\n",
    "            t = cleaning(l)\n",
    "            if not len(t):\n",
    "                continue\n",
    "            \n",
    "            if t not in processed:\n",
    "                fopen_l.write(f'{json.dumps(l)}\\n')\n",
    "                processed.add(t)"
   ]
  },
  {
   "cell_type": "code",
   "execution_count": 8,
   "metadata": {},
   "outputs": [
    {
     "data": {
      "text/plain": [
       "40184676"
      ]
     },
     "execution_count": 8,
     "metadata": {},
     "output_type": "execute_result"
    }
   ],
   "source": [
    "len(processed)"
   ]
  },
  {
   "cell_type": "code",
   "execution_count": 9,
   "metadata": {},
   "outputs": [
    {
     "name": "stdout",
     "output_type": "stream",
     "text": [
      "-rw-r--r-- 1 husein husein 6.0G Jun  13 20:31 dedup.jsonl\r\n"
     ]
    }
   ],
   "source": [
    "!ls -lh dedup.jsonl"
   ]
  },
  {
   "cell_type": "code",
   "execution_count": null,
   "metadata": {},
   "outputs": [],
   "source": []
  }
 ],
 "metadata": {
  "kernelspec": {
   "display_name": "Python 3 (ipykernel)",
   "language": "python",
   "name": "python3"
  },
  "language_info": {
   "codemirror_mode": {
    "name": "ipython",
    "version": 3
   },
   "file_extension": ".py",
   "mimetype": "text/x-python",
   "name": "python",
   "nbconvert_exporter": "python",
   "pygments_lexer": "ipython3",
   "version": "3.8.10"
  }
 },
 "nbformat": 4,
 "nbformat_minor": 4
}
