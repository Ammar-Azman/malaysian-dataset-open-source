{
 "cells": [
  {
   "cell_type": "code",
   "execution_count": 1,
   "id": "ae5eebe9",
   "metadata": {},
   "outputs": [],
   "source": [
    "from glob import glob\n",
    "import json"
   ]
  },
  {
   "cell_type": "code",
   "execution_count": 2,
   "id": "17dceb68",
   "metadata": {},
   "outputs": [
    {
     "data": {
      "text/plain": [
       "8042"
      ]
     },
     "execution_count": 2,
     "metadata": {},
     "output_type": "execute_result"
    }
   ],
   "source": [
    "files = glob('wikipedia-qa-option/*.json')\n",
    "len(files)"
   ]
  },
  {
   "cell_type": "code",
   "execution_count": 3,
   "id": "5ea44b8d",
   "metadata": {},
   "outputs": [],
   "source": [
    "count = 0\n",
    "with open('qa-ms-wikipedia.jsonl', 'w') as fopen_l:\n",
    "    for f in files:\n",
    "        with open(f) as fopen:\n",
    "            data = json.load(fopen)\n",
    "            if data['qa']:\n",
    "                fopen_l.write(f'{json.dumps(data)}\\n')\n",
    "                count += len(data['qa']['qa'])"
   ]
  },
  {
   "cell_type": "code",
   "execution_count": 4,
   "id": "33197ac8",
   "metadata": {},
   "outputs": [
    {
     "data": {
      "text/plain": [
       "28452"
      ]
     },
     "execution_count": 4,
     "metadata": {},
     "output_type": "execute_result"
    }
   ],
   "source": [
    "count"
   ]
  }
 ],
 "metadata": {
  "kernelspec": {
   "display_name": "Python 3 (ipykernel)",
   "language": "python",
   "name": "python3"
  },
  "language_info": {
   "codemirror_mode": {
    "name": "ipython",
    "version": 3
   },
   "file_extension": ".py",
   "mimetype": "text/x-python",
   "name": "python",
   "nbconvert_exporter": "python",
   "pygments_lexer": "ipython3",
   "version": "3.8.10"
  }
 },
 "nbformat": 4,
 "nbformat_minor": 5
}
