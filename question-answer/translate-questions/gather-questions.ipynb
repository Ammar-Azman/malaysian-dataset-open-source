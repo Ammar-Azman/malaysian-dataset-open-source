{
 "cells": [
  {
   "cell_type": "code",
   "execution_count": 1,
   "metadata": {},
   "outputs": [],
   "source": [
    "from glob import glob\n",
    "import json\n",
    "import random"
   ]
  },
  {
   "cell_type": "code",
   "execution_count": 15,
   "metadata": {},
   "outputs": [],
   "source": [
    "# !wget https://f000.backblazeb2.com/file/malay-dataset/qa/squad/ms-train-2.0.json\n",
    "# !wget https://f000.backblazeb2.com/file/malay-dataset/qa/squad/ms-train-1.1.json\n",
    "# !wget https://rajpurkar.github.io/SQuAD-explorer/dataset/train-v2.0.json\n",
    "# !wget https://rajpurkar.github.io/SQuAD-explorer/dataset/train-v1.1.json\n",
    "# !wget https://adversarialqa.github.io/data/aqa_v1.0.zip\n",
    "# !unzip aqa_v1.0.zip\n",
    "# !rm aqa_v1.0.zip\n",
    "\n",
    "# !wget https://rajpurkar.github.io/SQuAD-explorer/dataset/dev-v2.0.json\n",
    "# !wget https://f000.backblazeb2.com/file/malay-dataset/qa/squad/ms-dev-2.0.json\n",
    "\n",
    "# !wget https://dl.fbaipublicfiles.com/MLQA/MLQA_V1.zip\n",
    "# !unzip MLQA_V1.zip\n",
    "# !rm MLQA_V1.zip"
   ]
  },
  {
   "cell_type": "code",
   "execution_count": 2,
   "metadata": {},
   "outputs": [],
   "source": [
    "files = ['MLQA_V1/test/test-context-en-question-en.json',\n",
    " 'MLQA_V1/dev/dev-context-en-question-en.json',\n",
    " 'xquad.en.json',\n",
    " 'combined/train.json',\n",
    " 'combined/dev.json',\n",
    " 'train-v1.1.json',\n",
    " 'train-v2.0.json',\n",
    "'dev-v2.0.json',]"
   ]
  },
  {
   "cell_type": "code",
   "execution_count": 8,
   "metadata": {},
   "outputs": [],
   "source": [
    "questions = []\n",
    "for f in files:\n",
    "    with open(f) as fopen:\n",
    "        data = json.load(fopen)\n",
    "    \n",
    "    for i in range(len(data['data'])):\n",
    "        for p in data['data'][i]['paragraphs']:\n",
    "            text = p['context']\n",
    "            if len(text.split()) > 600:\n",
    "                continue\n",
    "            for q in p['qas']:\n",
    "                qs = q['question']\n",
    "                questions.append(qs)"
   ]
  },
  {
   "cell_type": "code",
   "execution_count": 11,
   "metadata": {},
   "outputs": [
    {
     "data": {
      "text/plain": [
       "187783"
      ]
     },
     "execution_count": 11,
     "metadata": {},
     "output_type": "execute_result"
    }
   ],
   "source": [
    "questions = list(set(questions))\n",
    "len(questions)"
   ]
  },
  {
   "cell_type": "code",
   "execution_count": 13,
   "metadata": {},
   "outputs": [
    {
     "data": {
      "text/plain": [
       "'What did Ivanshko do a week before Paraliament accepted his resignation letter?'"
      ]
     },
     "execution_count": 13,
     "metadata": {},
     "output_type": "execute_result"
    }
   ],
   "source": [
    "questions[1]"
   ]
  },
  {
   "cell_type": "code",
   "execution_count": 14,
   "metadata": {},
   "outputs": [],
   "source": [
    "with open('questions.json', 'w') as fopen:\n",
    "    json.dump(questions, fopen)"
   ]
  }
 ],
 "metadata": {
  "kernelspec": {
   "display_name": "Python 3 (ipykernel)",
   "language": "python",
   "name": "python3"
  },
  "language_info": {
   "codemirror_mode": {
    "name": "ipython",
    "version": 3
   },
   "file_extension": ".py",
   "mimetype": "text/x-python",
   "name": "python",
   "nbconvert_exporter": "python",
   "pygments_lexer": "ipython3",
   "version": "3.8.10"
  }
 },
 "nbformat": 4,
 "nbformat_minor": 4
}
