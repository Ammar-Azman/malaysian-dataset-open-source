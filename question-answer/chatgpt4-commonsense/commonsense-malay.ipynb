{
 "cells": [
  {
   "cell_type": "code",
   "execution_count": 1,
   "id": "cef18bc5",
   "metadata": {},
   "outputs": [],
   "source": [
    "# !wget https://huggingface.co/datasets/commonsense_qa/resolve/refs%2Fconvert%2Fparquet/default/train/0000.parquet -O commonsense-train.parquet"
   ]
  },
  {
   "cell_type": "code",
   "execution_count": 3,
   "id": "9f4bed68",
   "metadata": {},
   "outputs": [],
   "source": [
    "from tqdm import tqdm\n",
    "import os\n",
    "import json"
   ]
  },
  {
   "cell_type": "code",
   "execution_count": 2,
   "id": "14c7a737",
   "metadata": {},
   "outputs": [],
   "source": [
    "import pandas as pd\n",
    "\n",
    "df = pd.read_parquet('commonsense-train.parquet')"
   ]
  },
  {
   "cell_type": "code",
   "execution_count": 3,
   "id": "d755a4ac",
   "metadata": {},
   "outputs": [
    {
     "data": {
      "text/plain": [
       "(9741, 5)"
      ]
     },
     "execution_count": 3,
     "metadata": {},
     "output_type": "execute_result"
    }
   ],
   "source": [
    "df.shape"
   ]
  },
  {
   "cell_type": "code",
   "execution_count": 4,
   "id": "8a326b62",
   "metadata": {
    "scrolled": true
   },
   "outputs": [
    {
     "data": {
      "text/plain": [
       "id                                   075e483d21c29a511267ef62bedc0461\n",
       "question            The sanctions against the school were a punish...\n",
       "question_concept                                            punishing\n",
       "choices             {'label': ['A', 'B', 'C', 'D', 'E'], 'text': [...\n",
       "answerKey                                                           A\n",
       "Name: 0, dtype: object"
      ]
     },
     "execution_count": 4,
     "metadata": {},
     "output_type": "execute_result"
    }
   ],
   "source": [
    "df.iloc[0]"
   ]
  },
  {
   "cell_type": "code",
   "execution_count": 5,
   "id": "78a98041",
   "metadata": {},
   "outputs": [
    {
     "data": {
      "text/plain": [
       "9741"
      ]
     },
     "execution_count": 5,
     "metadata": {},
     "output_type": "execute_result"
    }
   ],
   "source": [
    "instructions = []\n",
    "for k in range(len(df)):\n",
    "    choices = df['choices'].iloc[k]\n",
    "    choices = [f\"{choices['label'][i]}. {choices['text'][i]}\" for i in range(len(choices['text']))]\n",
    "    choices = '\\n'.join(choices)\n",
    "    s = f\"Jawab soalan berikut.\\n{df['question'].iloc[k]}\\n{choices}\\nJawapan: {df['answerKey'].iloc[k]}\"\n",
    "    instructions.append(s)\n",
    "len(instructions)"
   ]
  },
  {
   "cell_type": "code",
   "execution_count": 6,
   "id": "12dcedea",
   "metadata": {},
   "outputs": [
    {
     "name": "stderr",
     "output_type": "stream",
     "text": [
      "/home/husein/.local/lib/python3.8/site-packages/requests/__init__.py:102: RequestsDependencyWarning: urllib3 (1.26.15) or chardet (5.2.0)/charset_normalizer (2.0.7) doesn't match a supported version!\n",
      "  warnings.warn(\"urllib3 ({}) or chardet ({})/charset_normalizer ({}) doesn't match a supported \"\n"
     ]
    }
   ],
   "source": [
    "import os\n",
    "import openai\n",
    "\n",
    "openai.api_type = \"azure\"\n",
    "openai.api_base = \"https://husein-ai2-aiservices.openai.azure.com/\"\n",
    "openai.api_version = \"2023-07-01-preview\"\n",
    "openai.api_key = ''"
   ]
  },
  {
   "cell_type": "code",
   "execution_count": 7,
   "id": "e0271307",
   "metadata": {},
   "outputs": [
    {
     "name": "stdout",
     "output_type": "stream",
     "text": [
      "mkdir: cannot create directory ‘commonsense’: File exists\r\n"
     ]
    }
   ],
   "source": [
    "!mkdir commonsense"
   ]
  },
  {
   "cell_type": "code",
   "execution_count": 8,
   "id": "733e4a90",
   "metadata": {},
   "outputs": [
    {
     "name": "stderr",
     "output_type": "stream",
     "text": [
      "  2%|▋                                     | 63/3247 [13:41<13:06:01, 14.81s/it]"
     ]
    },
    {
     "name": "stdout",
     "output_type": "stream",
     "text": [
      "The response was filtered due to the prompt triggering Azure OpenAI's content management policy. Please modify your prompt and retry. To learn more about our content filtering policies please read our documentation: https://go.microsoft.com/fwlink/?linkid=2198766\n"
     ]
    },
    {
     "name": "stderr",
     "output_type": "stream",
     "text": [
      "  6%|██                                   | 186/3247 [44:32<11:46:39, 13.85s/it]"
     ]
    },
    {
     "name": "stdout",
     "output_type": "stream",
     "text": [
      "The response was filtered due to the prompt triggering Azure OpenAI's content management policy. Please modify your prompt and retry. To learn more about our content filtering policies please read our documentation: https://go.microsoft.com/fwlink/?linkid=2198766\n"
     ]
    },
    {
     "name": "stderr",
     "output_type": "stream",
     "text": [
      "  6%|██▍                                   | 204/3247 [47:49<7:43:56,  9.15s/it]"
     ]
    },
    {
     "name": "stdout",
     "output_type": "stream",
     "text": [
      "'content'\n"
     ]
    },
    {
     "name": "stderr",
     "output_type": "stream",
     "text": [
      " 12%|████▍                               | 405/3247 [1:39:24<8:26:20, 10.69s/it]"
     ]
    },
    {
     "name": "stdout",
     "output_type": "stream",
     "text": [
      "'content'\n"
     ]
    },
    {
     "name": "stderr",
     "output_type": "stream",
     "text": [
      " 22%|███████▊                            | 710/3247 [2:56:08<9:29:09, 13.46s/it]"
     ]
    },
    {
     "name": "stdout",
     "output_type": "stream",
     "text": [
      "The response was filtered due to the prompt triggering Azure OpenAI's content management policy. Please modify your prompt and retry. To learn more about our content filtering policies please read our documentation: https://go.microsoft.com/fwlink/?linkid=2198766\n"
     ]
    },
    {
     "name": "stderr",
     "output_type": "stream",
     "text": [
      " 24%|████████▌                           | 776/3247 [3:11:04<7:48:13, 11.37s/it]"
     ]
    },
    {
     "name": "stdout",
     "output_type": "stream",
     "text": [
      "The response was filtered due to the prompt triggering Azure OpenAI's content management policy. Please modify your prompt and retry. To learn more about our content filtering policies please read our documentation: https://go.microsoft.com/fwlink/?linkid=2198766\n"
     ]
    },
    {
     "name": "stderr",
     "output_type": "stream",
     "text": [
      " 33%|███████████▍                       | 1061/3247 [4:14:17<5:01:20,  8.27s/it]"
     ]
    },
    {
     "name": "stdout",
     "output_type": "stream",
     "text": [
      "'content'\n"
     ]
    },
    {
     "name": "stderr",
     "output_type": "stream",
     "text": [
      " 34%|███████████▊                       | 1097/3247 [4:23:05<9:46:29, 16.37s/it]"
     ]
    },
    {
     "name": "stdout",
     "output_type": "stream",
     "text": [
      "The response was filtered due to the prompt triggering Azure OpenAI's content management policy. Please modify your prompt and retry. To learn more about our content filtering policies please read our documentation: https://go.microsoft.com/fwlink/?linkid=2198766\n"
     ]
    },
    {
     "name": "stderr",
     "output_type": "stream",
     "text": [
      " 38%|█████████████▍                     | 1250/3247 [4:56:14<7:45:52, 14.00s/it]"
     ]
    },
    {
     "name": "stdout",
     "output_type": "stream",
     "text": [
      "The response was filtered due to the prompt triggering Azure OpenAI's content management policy. Please modify your prompt and retry. To learn more about our content filtering policies please read our documentation: https://go.microsoft.com/fwlink/?linkid=2198766\n"
     ]
    },
    {
     "name": "stderr",
     "output_type": "stream",
     "text": [
      " 53%|██████████████████▋                | 1733/3247 [6:38:26<5:11:46, 12.36s/it]"
     ]
    },
    {
     "name": "stdout",
     "output_type": "stream",
     "text": [
      "The response was filtered due to the prompt triggering Azure OpenAI's content management policy. Please modify your prompt and retry. To learn more about our content filtering policies please read our documentation: https://go.microsoft.com/fwlink/?linkid=2198766\n"
     ]
    },
    {
     "name": "stderr",
     "output_type": "stream",
     "text": [
      " 56%|███████████████████▋               | 1824/3247 [6:58:06<6:29:29, 16.42s/it]"
     ]
    },
    {
     "name": "stdout",
     "output_type": "stream",
     "text": [
      "'content'\n"
     ]
    },
    {
     "name": "stderr",
     "output_type": "stream",
     "text": [
      " 79%|███████████████████████████▊       | 2575/3247 [9:30:20<1:51:28,  9.95s/it]"
     ]
    },
    {
     "name": "stdout",
     "output_type": "stream",
     "text": [
      "'content'\n"
     ]
    },
    {
     "name": "stderr",
     "output_type": "stream",
     "text": [
      " 87%|█████████████████████████████▌    | 2828/3247 [10:32:37<1:31:44, 13.14s/it]"
     ]
    },
    {
     "name": "stdout",
     "output_type": "stream",
     "text": [
      "The response was filtered due to the prompt triggering Azure OpenAI's content management policy. Please modify your prompt and retry. To learn more about our content filtering policies please read our documentation: https://go.microsoft.com/fwlink/?linkid=2198766\n"
     ]
    },
    {
     "name": "stderr",
     "output_type": "stream",
     "text": [
      " 93%|█████████████████████████████████▌  | 3023/3247 [11:14:29<54:56, 14.72s/it]"
     ]
    },
    {
     "name": "stdout",
     "output_type": "stream",
     "text": [
      "The response was filtered due to the prompt triggering Azure OpenAI's content management policy. Please modify your prompt and retry. To learn more about our content filtering policies please read our documentation: https://go.microsoft.com/fwlink/?linkid=2198766\n"
     ]
    },
    {
     "name": "stderr",
     "output_type": "stream",
     "text": [
      "100%|████████████████████████████████████| 3247/3247 [12:07:19<00:00, 13.44s/it]\n"
     ]
    }
   ],
   "source": [
    "for i in tqdm(range((len(instructions) // 3) * 0, (len(instructions) // 3) * 1, 1)):\n",
    "    filename = f'commonsense/{i}.json'\n",
    "    if os.path.exists(filename):\n",
    "        continue\n",
    "        \n",
    "    r = []\n",
    "    for k in range(1):\n",
    "        \n",
    "        try:\n",
    "            message_text = [\n",
    "                {\"role\":\"user\",\"content\": f\"{instructions[i]}\\n\\ngenerate similar malay questions included answers like above.\"},\n",
    "            ]\n",
    "            completion = openai.ChatCompletion.create(\n",
    "              engine=\"gpt-4\",\n",
    "              messages = message_text,\n",
    "              temperature=1.0,\n",
    "              max_tokens=1024,\n",
    "              top_p=0.95,\n",
    "              frequency_penalty=0,\n",
    "              presence_penalty=0,\n",
    "              stop=None\n",
    "            )\n",
    "            r.append(completion.choices[0]['message']['content'])\n",
    "            break\n",
    "            \n",
    "\n",
    "        except Exception as e:\n",
    "            print(e)\n",
    "        \n",
    "    with open(filename, 'w') as fopen:\n",
    "        json.dump(r, fopen)"
   ]
  },
  {
   "cell_type": "code",
   "execution_count": 5,
   "id": "bb8b8c5a",
   "metadata": {},
   "outputs": [
    {
     "data": {
      "text/plain": [
       "9741"
      ]
     },
     "execution_count": 5,
     "metadata": {},
     "output_type": "execute_result"
    }
   ],
   "source": [
    "from glob import glob\n",
    "\n",
    "files = glob('commonsense/*.json')\n",
    "len(files)"
   ]
  },
  {
   "cell_type": "code",
   "execution_count": 15,
   "id": "6320dc8d",
   "metadata": {},
   "outputs": [
    {
     "data": {
      "text/plain": [
       "36332"
      ]
     },
     "execution_count": 15,
     "metadata": {},
     "output_type": "execute_result"
    }
   ],
   "source": [
    "augmentation = []\n",
    "for f in files:\n",
    "    with open(f) as fopen:\n",
    "        datas = json.load(fopen)\n",
    "    for data in datas:\n",
    "        splitted = data.split('\\n\\n')\n",
    "        for s in splitted:\n",
    "            try:\n",
    "                a = s.split('Jawapan:')[1].strip()\n",
    "                augmentation.append({\n",
    "                    'question': s.split('Jawapan:')[0].strip(),\n",
    "                    'answer': a,\n",
    "\n",
    "                })\n",
    "            except:\n",
    "                pass\n",
    "            \n",
    "len(augmentation)"
   ]
  },
  {
   "cell_type": "code",
   "execution_count": 17,
   "id": "4b52a994",
   "metadata": {},
   "outputs": [],
   "source": [
    "with open('synthetic-commonsense.jsonl', 'w') as fopen:\n",
    "    for a in augmentation:\n",
    "        fopen.write(f'{json.dumps(a)}\\n')"
   ]
  }
 ],
 "metadata": {
  "kernelspec": {
   "display_name": "Python 3 (ipykernel)",
   "language": "python",
   "name": "python3"
  },
  "language_info": {
   "codemirror_mode": {
    "name": "ipython",
    "version": 3
   },
   "file_extension": ".py",
   "mimetype": "text/x-python",
   "name": "python",
   "nbconvert_exporter": "python",
   "pygments_lexer": "ipython3",
   "version": "3.8.10"
  }
 },
 "nbformat": 4,
 "nbformat_minor": 5
}
