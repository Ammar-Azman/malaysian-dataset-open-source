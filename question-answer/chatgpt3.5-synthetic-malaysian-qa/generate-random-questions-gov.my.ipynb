{
 "cells": [
  {
   "cell_type": "code",
   "execution_count": 1,
   "id": "95344e0a",
   "metadata": {},
   "outputs": [],
   "source": [
    "from tqdm import tqdm\n",
    "import os\n",
    "import json\n",
    "from glob import glob"
   ]
  },
  {
   "cell_type": "code",
   "execution_count": 2,
   "id": "81e98e7b",
   "metadata": {},
   "outputs": [
    {
     "name": "stderr",
     "output_type": "stream",
     "text": [
      "/home/husein/.local/lib/python3.8/site-packages/requests/__init__.py:102: RequestsDependencyWarning: urllib3 (1.26.15) or chardet (5.2.0)/charset_normalizer (2.0.7) doesn't match a supported version!\n",
      "  warnings.warn(\"urllib3 ({}) or chardet ({})/charset_normalizer ({}) doesn't match a supported \"\n"
     ]
    }
   ],
   "source": [
    "import requests\n",
    "from bs4 import BeautifulSoup\n",
    "\n",
    "r = requests.get('https://ms.wikipedia.org/wiki/Senarai_Eksekutif_Kerajaan_Setiap_Agensi_Kerajaan')\n",
    "soup = BeautifulSoup(r.content)"
   ]
  },
  {
   "cell_type": "code",
   "execution_count": 3,
   "id": "1fb75fec",
   "metadata": {},
   "outputs": [],
   "source": [
    "accept = ['jabatan', 'kumpulan', 'khazanah', 'bank', 'bursa', 'lembaga', 'institut', 'kolej', 'dewan']"
   ]
  },
  {
   "cell_type": "code",
   "execution_count": 4,
   "id": "f932c4a7",
   "metadata": {},
   "outputs": [
    {
     "data": {
      "text/plain": [
       "['Agrobank',\n",
       " 'Bank Negara Malaysia',\n",
       " 'Bank Perusahaan Kecil dan Sederhana Malaysia',\n",
       " 'Bank Rakyat',\n",
       " 'Bank Simpanan Nasional',\n",
       " 'Bursa Malaysia',\n",
       " 'Dewan Bahasa dan Pustaka',\n",
       " 'Institut Kesihatan Umum',\n",
       " 'Institut Penyelidikan Perubatan',\n",
       " 'Institut Penyelidikan Sains dan Teknologi Pertahanan',\n",
       " 'Institut Penyelidikan Tingkahlaku Kesihatan',\n",
       " 'Institut Penyelidikan dan Kemajuan Pertanian Malaysia',\n",
       " 'Jabatan Akauntan Negara',\n",
       " 'Jabatan Bomba dan Penyelamat Malaysia',\n",
       " 'Jabatan Hal Ehwal Kesatuan Sekerja',\n",
       " 'Jabatan Hal Ehwal Veteran',\n",
       " 'Jabatan Imigresen Malaysia',\n",
       " 'Jabatan Kastam Diraja Malaysia',\n",
       " 'Jabatan Kebajikan Masyarakat',\n",
       " 'Jabatan Kemajuan Orang Asli',\n",
       " 'Jabatan Kerajaan Tempatan',\n",
       " 'Jabatan Kerja Raya',\n",
       " 'Jabatan Keselamatan Jalan Raya',\n",
       " 'Jabatan Keselamatan dan Keselamatan Pekerjaan',\n",
       " 'Jabatan Ketua Hakim Peguam',\n",
       " 'Jabatan Landskap Negara',\n",
       " 'Jabatan Latihan Khidmat Negara',\n",
       " 'Jabatan Laut Malaysia',\n",
       " 'Jabatan Pembangunan Wanita',\n",
       " 'Jabatan Pendaftaran Pertubuhan Malaysia',\n",
       " 'Jabatan Penerangan Malaysia',\n",
       " 'Jabatan Pengangkutan Jalan',\n",
       " 'Jabatan Pengurusan Sisa Pepejal Negara',\n",
       " 'Jabatan Penilaian dan Perkhidmatan Negara',\n",
       " 'Jabatan Penjara Malaysia',\n",
       " 'Jabatan Perancangan Bandar dan Desa',\n",
       " 'Jabatan Perdana Menteri Malaysia',\n",
       " 'Jabatan Perhubungan Perusahaan',\n",
       " 'Jabatan Perikanan Malaysia',\n",
       " 'Jabatan Perkhidmatan Kuarantin dan Pemeriksaan Malaysia',\n",
       " 'Jabatan Perkhidmatan Veterinar',\n",
       " 'Jabatan Pertanian Malaysia',\n",
       " 'Jabatan Perumahan Negara',\n",
       " 'Jabatan Perumahan dan Pengurusan Strata',\n",
       " 'Jabatan Sukarelawan Malaysia',\n",
       " 'Jabatan Tenaga Kerja',\n",
       " 'Jabatan Tenaga Kerja Manusia',\n",
       " 'Khazanah Nasional',\n",
       " 'Kolej Pertanian',\n",
       " 'Kumpulan Wang Persaraan',\n",
       " 'Kumpulan Wang Simpanan Pekerja',\n",
       " 'Lembaga Hasil Dalam Negeri Malaysia',\n",
       " 'Lembaga Kemajuan Ikan Malaysia',\n",
       " 'Lembaga Kemajuan Pertanian Kemubu',\n",
       " 'Lembaga Kemajuan Pertanian Muda',\n",
       " 'Lembaga Pelabuhan Bintulu',\n",
       " 'Lembaga Pelabuhan Johor',\n",
       " 'Lembaga Pelabuhan Klang',\n",
       " 'Lembaga Pelabuhan Kuantan',\n",
       " 'Lembaga Pemasaran Pertanian Persekutuan',\n",
       " 'Lembaga Pembangunan Pelaburan Malaysia',\n",
       " 'Lembaga Pembiayaan Perumahan Sektor Awam',\n",
       " 'Lembaga Penapisan Filem',\n",
       " 'Lembaga Penduduk dan Pembangunan Keluarga Negara',\n",
       " 'Lembaga Peperiksaan Malaysia',\n",
       " 'Lembaga Perindustrian Nanas Malaysia',\n",
       " 'Lembaga Perkhidmatan Kewangan Labuan',\n",
       " 'Lembaga Pertubuhan Peladang',\n",
       " 'Lembaga Promosi Kesihatan Malaysia',\n",
       " 'Lembaga Totalisator Malaysia',\n",
       " 'Pusat Pergigian Kanak-Kanak & Kolej Latihan Pergigian Malaysia']"
      ]
     },
     "execution_count": 4,
     "metadata": {},
     "output_type": "execute_result"
    }
   ],
   "source": [
    "td = soup.find_all('td')\n",
    "td = [td_.text.strip() for td_ in td]\n",
    "td = [td_ for td_ in td if len(td_)]\n",
    "td = [td_.split('(')[0].strip() for td_ in td if any([a in td_.lower() for a in accept])]\n",
    "td = sorted(list(set(td)))\n",
    "td"
   ]
  },
  {
   "cell_type": "code",
   "execution_count": 5,
   "id": "2254858b",
   "metadata": {
    "scrolled": true
   },
   "outputs": [],
   "source": [
    "import os\n",
    "import openai\n",
    "\n",
    "openai.api_type = \"azure\"\n",
    "openai.api_base = \"https://husein-ai10-aiservices-2093329748.openai.azure.com/\"\n",
    "openai.api_version = \"2023-07-01-preview\"\n",
    "openai.api_key = \"\"\n",
    "\n",
    "engine = 'gpt-35-turbo'"
   ]
  },
  {
   "cell_type": "code",
   "execution_count": 6,
   "id": "a8f5a9ca",
   "metadata": {},
   "outputs": [
    {
     "data": {
      "text/plain": [
       "71"
      ]
     },
     "execution_count": 6,
     "metadata": {},
     "output_type": "execute_result"
    }
   ],
   "source": [
    "topics = td\n",
    "len(topics)"
   ]
  },
  {
   "cell_type": "code",
   "execution_count": null,
   "id": "74f9814e",
   "metadata": {},
   "outputs": [],
   "source": [
    "(len(topics) // 3) * 0"
   ]
  },
  {
   "cell_type": "code",
   "execution_count": 7,
   "id": "9cab7328",
   "metadata": {},
   "outputs": [
    {
     "name": "stderr",
     "output_type": "stream",
     "text": [
      "mkdir: cannot create directory ‘base-questions-kerajaan-Agrobank’: File exists\n"
     ]
    },
    {
     "name": "stdout",
     "output_type": "stream",
     "text": [
      "Agrobank\n"
     ]
    },
    {
     "name": "stderr",
     "output_type": "stream",
     "text": [
      "100%|█████████████████████████████████████████████████████████████████████████████████████████████████████████| 50/50 [00:00<00:00, 133491.53it/s]\n",
      "mkdir: cannot create directory ‘base-questions-kerajaan-Bank-Negara-Malaysia’: File exists\n"
     ]
    },
    {
     "name": "stdout",
     "output_type": "stream",
     "text": [
      "Bank Negara Malaysia\n"
     ]
    },
    {
     "name": "stderr",
     "output_type": "stream",
     "text": [
      "100%|█████████████████████████████████████████████████████████████████████████████████████████████████████████████| 50/50 [00:29<00:00,  1.68it/s]\n",
      "mkdir: cannot create directory ‘base-questions-kerajaan-Bank-Perusahaan-Kecil-dan-Sederhana-Malaysia’: File exists\n"
     ]
    },
    {
     "name": "stdout",
     "output_type": "stream",
     "text": [
      "Bank Perusahaan Kecil dan Sederhana Malaysia\n"
     ]
    },
    {
     "name": "stderr",
     "output_type": "stream",
     "text": [
      "100%|█████████████████████████████████████████████████████████████████████████████████████████████████████████████| 50/50 [02:01<00:00,  2.43s/it]\n",
      "mkdir: cannot create directory ‘base-questions-kerajaan-Bank-Rakyat’: File exists\n"
     ]
    },
    {
     "name": "stdout",
     "output_type": "stream",
     "text": [
      "Bank Rakyat\n"
     ]
    },
    {
     "name": "stderr",
     "output_type": "stream",
     "text": [
      "100%|█████████████████████████████████████████████████████████████████████████████████████████████████████████████| 50/50 [01:49<00:00,  2.20s/it]\n",
      "mkdir: cannot create directory ‘base-questions-kerajaan-Bank-Simpanan-Nasional’: File exists\n"
     ]
    },
    {
     "name": "stdout",
     "output_type": "stream",
     "text": [
      "Bank Simpanan Nasional\n"
     ]
    },
    {
     "name": "stderr",
     "output_type": "stream",
     "text": [
      "100%|█████████████████████████████████████████████████████████████████████████████████████████████████████████████| 50/50 [01:54<00:00,  2.28s/it]\n",
      "mkdir: cannot create directory ‘base-questions-kerajaan-Bursa-Malaysia’: File exists\n"
     ]
    },
    {
     "name": "stdout",
     "output_type": "stream",
     "text": [
      "Bursa Malaysia\n"
     ]
    },
    {
     "name": "stderr",
     "output_type": "stream",
     "text": [
      "100%|█████████████████████████████████████████████████████████████████████████████████████████████████████████████| 50/50 [01:43<00:00,  2.07s/it]\n",
      "mkdir: cannot create directory ‘base-questions-kerajaan-Dewan-Bahasa-dan-Pustaka’: File exists\n"
     ]
    },
    {
     "name": "stdout",
     "output_type": "stream",
     "text": [
      "Dewan Bahasa dan Pustaka\n"
     ]
    },
    {
     "name": "stderr",
     "output_type": "stream",
     "text": [
      "100%|█████████████████████████████████████████████████████████████████████████████████████████████████████████████| 50/50 [01:44<00:00,  2.08s/it]\n",
      "mkdir: cannot create directory ‘base-questions-kerajaan-Institut-Kesihatan-Umum’: File exists\n"
     ]
    },
    {
     "name": "stdout",
     "output_type": "stream",
     "text": [
      "Institut Kesihatan Umum\n"
     ]
    },
    {
     "name": "stderr",
     "output_type": "stream",
     "text": [
      "100%|█████████████████████████████████████████████████████████████████████████████████████████████████████████████| 50/50 [01:52<00:00,  2.24s/it]\n",
      "mkdir: cannot create directory ‘base-questions-kerajaan-Institut-Penyelidikan-Perubatan’: File exists\n"
     ]
    },
    {
     "name": "stdout",
     "output_type": "stream",
     "text": [
      "Institut Penyelidikan Perubatan\n"
     ]
    },
    {
     "name": "stderr",
     "output_type": "stream",
     "text": [
      "100%|█████████████████████████████████████████████████████████████████████████████████████████████████████████████| 50/50 [01:55<00:00,  2.32s/it]\n",
      "mkdir: cannot create directory ‘base-questions-kerajaan-Institut-Penyelidikan-Sains-dan-Teknologi-Pertahanan’: File exists\n"
     ]
    },
    {
     "name": "stdout",
     "output_type": "stream",
     "text": [
      "Institut Penyelidikan Sains dan Teknologi Pertahanan\n"
     ]
    },
    {
     "name": "stderr",
     "output_type": "stream",
     "text": [
      "100%|█████████████████████████████████████████████████████████████████████████████████████████████████████████████| 50/50 [01:41<00:00,  2.02s/it]\n",
      "mkdir: cannot create directory ‘base-questions-kerajaan-Institut-Penyelidikan-Tingkahlaku-Kesihatan’: File exists\n"
     ]
    },
    {
     "name": "stdout",
     "output_type": "stream",
     "text": [
      "Institut Penyelidikan Tingkahlaku Kesihatan\n"
     ]
    },
    {
     "name": "stderr",
     "output_type": "stream",
     "text": [
      "100%|█████████████████████████████████████████████████████████████████████████████████████████████████████████████| 50/50 [01:55<00:00,  2.32s/it]\n",
      "mkdir: cannot create directory ‘base-questions-kerajaan-Institut-Penyelidikan-dan-Kemajuan-Pertanian-Malaysia’: File exists\n"
     ]
    },
    {
     "name": "stdout",
     "output_type": "stream",
     "text": [
      "Institut Penyelidikan dan Kemajuan Pertanian Malaysia\n"
     ]
    },
    {
     "name": "stderr",
     "output_type": "stream",
     "text": [
      "100%|█████████████████████████████████████████████████████████████████████████████████████████████████████████████| 50/50 [01:57<00:00,  2.34s/it]\n",
      "mkdir: cannot create directory ‘base-questions-kerajaan-Jabatan-Akauntan-Negara’: File exists\n"
     ]
    },
    {
     "name": "stdout",
     "output_type": "stream",
     "text": [
      "Jabatan Akauntan Negara\n"
     ]
    },
    {
     "name": "stderr",
     "output_type": "stream",
     "text": [
      "100%|█████████████████████████████████████████████████████████████████████████████████████████████████████████████| 50/50 [01:46<00:00,  2.14s/it]\n",
      "mkdir: cannot create directory ‘base-questions-kerajaan-Jabatan-Bomba-dan-Penyelamat-Malaysia’: File exists\n"
     ]
    },
    {
     "name": "stdout",
     "output_type": "stream",
     "text": [
      "Jabatan Bomba dan Penyelamat Malaysia\n"
     ]
    },
    {
     "name": "stderr",
     "output_type": "stream",
     "text": [
      "100%|█████████████████████████████████████████████████████████████████████████████████████████████████████████████| 50/50 [01:52<00:00,  2.25s/it]\n",
      "mkdir: cannot create directory ‘base-questions-kerajaan-Jabatan-Hal-Ehwal-Kesatuan-Sekerja’: File exists\n"
     ]
    },
    {
     "name": "stdout",
     "output_type": "stream",
     "text": [
      "Jabatan Hal Ehwal Kesatuan Sekerja\n"
     ]
    },
    {
     "name": "stderr",
     "output_type": "stream",
     "text": [
      "100%|█████████████████████████████████████████████████████████████████████████████████████████████████████████████| 50/50 [02:08<00:00,  2.57s/it]\n",
      "mkdir: cannot create directory ‘base-questions-kerajaan-Jabatan-Hal-Ehwal-Veteran’: File exists\n"
     ]
    },
    {
     "name": "stdout",
     "output_type": "stream",
     "text": [
      "Jabatan Hal Ehwal Veteran\n"
     ]
    },
    {
     "name": "stderr",
     "output_type": "stream",
     "text": [
      "100%|█████████████████████████████████████████████████████████████████████████████████████████████████████████████| 50/50 [01:51<00:00,  2.23s/it]\n",
      "mkdir: cannot create directory ‘base-questions-kerajaan-Jabatan-Imigresen-Malaysia’: File exists\n"
     ]
    },
    {
     "name": "stdout",
     "output_type": "stream",
     "text": [
      "Jabatan Imigresen Malaysia\n"
     ]
    },
    {
     "name": "stderr",
     "output_type": "stream",
     "text": [
      "100%|█████████████████████████████████████████████████████████████████████████████████████████████████████████████| 50/50 [01:49<00:00,  2.19s/it]\n",
      "mkdir: cannot create directory ‘base-questions-kerajaan-Jabatan-Kastam-Diraja-Malaysia’: File exists\n"
     ]
    },
    {
     "name": "stdout",
     "output_type": "stream",
     "text": [
      "Jabatan Kastam Diraja Malaysia\n"
     ]
    },
    {
     "name": "stderr",
     "output_type": "stream",
     "text": [
      "100%|█████████████████████████████████████████████████████████████████████████████████████████████████████████████| 50/50 [01:57<00:00,  2.36s/it]\n",
      "mkdir: cannot create directory ‘base-questions-kerajaan-Jabatan-Kebajikan-Masyarakat’: File exists\n"
     ]
    },
    {
     "name": "stdout",
     "output_type": "stream",
     "text": [
      "Jabatan Kebajikan Masyarakat\n"
     ]
    },
    {
     "name": "stderr",
     "output_type": "stream",
     "text": [
      "100%|█████████████████████████████████████████████████████████████████████████████████████████████████████████████| 50/50 [02:02<00:00,  2.45s/it]\n",
      "mkdir: cannot create directory ‘base-questions-kerajaan-Jabatan-Kemajuan-Orang-Asli’: File exists\n"
     ]
    },
    {
     "name": "stdout",
     "output_type": "stream",
     "text": [
      "Jabatan Kemajuan Orang Asli\n"
     ]
    },
    {
     "name": "stderr",
     "output_type": "stream",
     "text": [
      "100%|█████████████████████████████████████████████████████████████████████████████████████████████████████████████| 50/50 [02:06<00:00,  2.52s/it]\n",
      "mkdir: cannot create directory ‘base-questions-kerajaan-Jabatan-Kerajaan-Tempatan’: File exists\n"
     ]
    },
    {
     "name": "stdout",
     "output_type": "stream",
     "text": [
      "Jabatan Kerajaan Tempatan\n"
     ]
    },
    {
     "name": "stderr",
     "output_type": "stream",
     "text": [
      "100%|█████████████████████████████████████████████████████████████████████████████████████████████████████████████| 50/50 [01:56<00:00,  2.33s/it]\n"
     ]
    },
    {
     "name": "stdout",
     "output_type": "stream",
     "text": [
      "Jabatan Kerja Raya\n"
     ]
    },
    {
     "name": "stderr",
     "output_type": "stream",
     "text": [
      "100%|█████████████████████████████████████████████████████████████████████████████████████████████████████████████| 50/50 [02:01<00:00,  2.43s/it]\n"
     ]
    },
    {
     "name": "stdout",
     "output_type": "stream",
     "text": [
      "Jabatan Keselamatan Jalan Raya\n"
     ]
    },
    {
     "name": "stderr",
     "output_type": "stream",
     "text": [
      "100%|█████████████████████████████████████████████████████████████████████████████████████████████████████████████| 50/50 [01:59<00:00,  2.39s/it]\n"
     ]
    }
   ],
   "source": [
    "for i in range((len(topics) // 3) * 0, (len(topics) // 3) * 1, 1):\n",
    "    t = topics[i]\n",
    "    print(t)\n",
    "    t_ = t.replace(' ', '-')\n",
    "    os.system(f'mkdir base-questions-kerajaan-{t_}')\n",
    "    for i in tqdm(range(50)):\n",
    "        filename = f'base-questions-kerajaan-{t_}/{i}.json'\n",
    "        if os.path.exists(filename):\n",
    "            continue\n",
    "        try:\n",
    "            message_text = [\n",
    "                {\"role\":\"user\",\"content\": f\"generate random very specific {t} questions dalam bahasa melayu related to malaysian context.\"},\n",
    "            ]\n",
    "            completion = openai.ChatCompletion.create(\n",
    "              engine=\"gpt-35-turbo\",\n",
    "              messages = message_text,\n",
    "              temperature=1.0,\n",
    "              max_tokens=1024,\n",
    "              top_p=0.95,\n",
    "              frequency_penalty=0,\n",
    "              presence_penalty=0,\n",
    "              stop=None\n",
    "            )\n",
    "            splitted = completion.choices[0]['message']['content'].split('\\n')\n",
    "            with open(filename, 'w') as fopen:\n",
    "                json.dump(splitted, fopen)\n",
    "        except Exception as e:\n",
    "            print(e)"
   ]
  },
  {
   "cell_type": "code",
   "execution_count": null,
   "id": "9be4857a",
   "metadata": {},
   "outputs": [],
   "source": []
  }
 ],
 "metadata": {
  "kernelspec": {
   "display_name": "Python 3 (ipykernel)",
   "language": "python",
   "name": "python3"
  },
  "language_info": {
   "codemirror_mode": {
    "name": "ipython",
    "version": 3
   },
   "file_extension": ".py",
   "mimetype": "text/x-python",
   "name": "python",
   "nbconvert_exporter": "python",
   "pygments_lexer": "ipython3",
   "version": "3.8.10"
  }
 },
 "nbformat": 4,
 "nbformat_minor": 5
}
