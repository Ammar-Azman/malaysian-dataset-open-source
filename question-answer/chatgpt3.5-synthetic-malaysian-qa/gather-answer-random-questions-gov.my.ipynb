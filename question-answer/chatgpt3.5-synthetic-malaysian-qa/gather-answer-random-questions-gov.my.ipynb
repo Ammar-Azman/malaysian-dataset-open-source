{
 "cells": [
  {
   "cell_type": "code",
   "execution_count": 1,
   "id": "95344e0a",
   "metadata": {},
   "outputs": [],
   "source": [
    "from glob import glob\n",
    "\n",
    "from collections import defaultdict\n",
    "import json\n",
    "import os"
   ]
  },
  {
   "cell_type": "code",
   "execution_count": 2,
   "id": "90133898",
   "metadata": {},
   "outputs": [],
   "source": [
    "questions = defaultdict(set)\n",
    "q = []\n",
    "for f in glob('base-questions-kerajaan-*/*'):\n",
    "    b = os.path.split(f)[0]\n",
    "    with open(f) as fopen:\n",
    "        data = json.load(fopen)\n",
    "    data = '\\n'.join(data)\n",
    "    data = data.split('\\n\\n')\n",
    "    if len(data) == 1:\n",
    "        data = data[0].split('\\n')\n",
    "    else:\n",
    "        datas = []\n",
    "        for d in data:\n",
    "            splitted = d.split('\\n ')\n",
    "            splitted = [s.strip() for s in splitted]\n",
    "            datas.extend(splitted)\n",
    "        data = datas\n",
    "    data = ['.'.join(d.split('.')[1:]).strip() for d in data]\n",
    "    data = [d for d in data if len(d) > 3]\n",
    "        \n",
    "    data = set(data)\n",
    "    questions[b] |= data"
   ]
  },
  {
   "cell_type": "code",
   "execution_count": 3,
   "id": "6a638258",
   "metadata": {},
   "outputs": [
    {
     "data": {
      "text/plain": [
       "31291"
      ]
     },
     "execution_count": 3,
     "metadata": {},
     "output_type": "execute_result"
    }
   ],
   "source": [
    "total_questions = 0\n",
    "all_questions = []\n",
    "for k, v in questions.items():\n",
    "    total_questions += len(v)\n",
    "    all_questions.extend(v)\n",
    "    \n",
    "total_questions"
   ]
  },
  {
   "cell_type": "code",
   "execution_count": 4,
   "id": "7dfcf761",
   "metadata": {},
   "outputs": [],
   "source": [
    "all_questions = sorted(all_questions)"
   ]
  },
  {
   "cell_type": "code",
   "execution_count": 6,
   "id": "faa81a78",
   "metadata": {
    "scrolled": true
   },
   "outputs": [
    {
     "data": {
      "text/plain": [
       "'Adakah Agrobank memberi tumpuan khas kepada pembiayaan projek-projek yang berkaitan dengan pembangunan infrastruktur di luar bandar di Malaysia?'"
      ]
     },
     "execution_count": 6,
     "metadata": {},
     "output_type": "execute_result"
    }
   ],
   "source": [
    "all_questions[0]"
   ]
  },
  {
   "cell_type": "code",
   "execution_count": 17,
   "id": "496a5050",
   "metadata": {},
   "outputs": [],
   "source": [
    "texts = []\n",
    "for i in range(len(all_questions)):\n",
    "    filename = f'answer-question-chatgpt3-gov.my/{i}.json'\n",
    "    if not os.path.exists(filename):\n",
    "        continue\n",
    "    \n",
    "    with open(filename) as fopen:\n",
    "        d = json.load(fopen)\n",
    "    \n",
    "    try:\n",
    "    \n",
    "        d = '\\n'.join(d)\n",
    "    except:\n",
    "        continue\n",
    "    \n",
    "    texts.append(d.strip())\n",
    "    texts.append(all_questions[i].strip())"
   ]
  },
  {
   "cell_type": "code",
   "execution_count": 20,
   "id": "e12223cc",
   "metadata": {},
   "outputs": [
    {
     "data": {
      "text/plain": [
       "62456"
      ]
     },
     "execution_count": 20,
     "metadata": {},
     "output_type": "execute_result"
    }
   ],
   "source": [
    "texts = list(set(texts))\n",
    "len(texts)"
   ]
  },
  {
   "cell_type": "code",
   "execution_count": 21,
   "id": "d2e38a81",
   "metadata": {},
   "outputs": [],
   "source": [
    "with open('answer-random-questions-gov.my.texts', 'w') as fopen:\n",
    "    for t in set(texts):\n",
    "        fopen.write(f'{json.dumps(t)}\\n')"
   ]
  },
  {
   "cell_type": "code",
   "execution_count": 22,
   "id": "5dfa349e",
   "metadata": {},
   "outputs": [],
   "source": [
    "!cp answer-random-questions-gov.my.texts ../ctranslate2"
   ]
  },
  {
   "cell_type": "code",
   "execution_count": 23,
   "id": "151df088",
   "metadata": {},
   "outputs": [
    {
     "data": {
      "text/plain": [
       "62456"
      ]
     },
     "execution_count": 23,
     "metadata": {},
     "output_type": "execute_result"
    }
   ],
   "source": [
    "mapping = {}\n",
    "with open('../ctranslate2/answer-random-questions-gov.my.texts.requested') as fopen:\n",
    "    for l in fopen:\n",
    "        l = json.loads(l)\n",
    "        mapping[l['src']] = l['r']\n",
    "len(mapping)"
   ]
  },
  {
   "cell_type": "code",
   "execution_count": 25,
   "id": "fdab65c9",
   "metadata": {},
   "outputs": [
    {
     "data": {
      "text/plain": [
       "31236"
      ]
     },
     "execution_count": 25,
     "metadata": {},
     "output_type": "execute_result"
    }
   ],
   "source": [
    "qa, texts = [], []\n",
    "for i in range(len(all_questions)):\n",
    "    q = all_questions[i]\n",
    "    \n",
    "    filename = f'answer-question-chatgpt3-gov.my/{i}.json'\n",
    "    if not os.path.exists(filename):\n",
    "        continue\n",
    "    with open(filename) as fopen:\n",
    "        answer = json.load(fopen)\n",
    "    \n",
    "    if answer is None:\n",
    "        continue\n",
    "        \n",
    "    answer = '\\n'.join(answer)\n",
    "    \n",
    "    qa.append({\n",
    "        'question': q.strip(),\n",
    "        'answer': answer.strip()\n",
    "    })\n",
    "    \n",
    "    texts.extend([q.strip(), answer.strip()])\n",
    "    \n",
    "len(qa)"
   ]
  },
  {
   "cell_type": "code",
   "execution_count": 26,
   "id": "88f4a643",
   "metadata": {},
   "outputs": [],
   "source": [
    "with open('malaysian-general-qa-gov-my.jsonl', 'w') as fopen:\n",
    "    for q in qa:\n",
    "        q['question_ms'] = mapping.get(q['question'])\n",
    "        q['answer_ms'] = mapping.get(q['answer'])\n",
    "        fopen.write(f'{json.dumps(q)}\\n')"
   ]
  },
  {
   "cell_type": "code",
   "execution_count": 27,
   "id": "bdcbfb2b",
   "metadata": {},
   "outputs": [
    {
     "data": {
      "text/plain": [
       "{'question': 'What is the role of the National Service Training Department (JLKN) in developing youth leadership in Malaysia?\\n2. How does JLKN provide quality training and national service programs for Malaysian youth?\\n3. What sets JLKN training programs apart from other national service programs in Malaysia?\\n4. What is JLKN\\'s contribution in fostering patriotism among Malaysian youth?\\n5. What do Malaysian youth understand about \"national identity\" through their experiences in JLKN programs?\\n6. What is JLKN\\'s role in involving Malaysian youth in community service activities?\\n7. How does JLKN raise awareness among Malaysian youth about current social and environmental issues?\\n8. What can Malaysian youth explain about the importance of national service in national development?\\n9. How does JLKN help Malaysian youth learn moral values and ethics through training and national service?\\n10. What are the positive effects of JLKN programs on the personal development of Malaysian youth in terms of leadership, teamwork, and mental resilience?',\n",
       " 'answer': '1. Peranan Jabatan Latihan Khidmat Negara (JLKN) dalam membangunkan kepimpinan belia di Malaysia adalah untuk melahirkan generasi muda yang berkebolehan dan berkualiti dalam memimpin dan menyumbang kepada negara. JLKN memberikan latihan dan program latihan khidmat negara yang bertujuan untuk memperkukuhkan kemahiran kepemimpinan, komunikasi, serta kemahiran sosial dan komuniti belia.\\n2. JLKN menyediakan latihan berkualiti dan program latihan khidmat negara untuk belia Malaysia melalui rangkaian pusat latihan dan kem bersepadu di seluruh negara. Mereka melaksanakan program seperti Program Latihan Khidmat Negara (PLKN), Program Khidmat Negara Belia (PKNB), dan Program Khidmat Negara Komuniti (PKNK). Latihan-latihan yang disediakan oleh JLKN dirancang dengan mengikut keperluan belia dalam membina kepimpinan, pembangunan diri, dan memperkasa potensi mereka.\\n3. Apa yang membezakan program latihan JLKN daripada program latihan khidmat negara lain di Malaysia adalah pendekatan mereka yang holistik dan seimbang. JLKN memberi tumpuan kepada pembangunan kepimpinan, pembangunan potensi belia, dan penghayatan nilai-nilai patriotisme serta kesedaran sosial dan alam sekitar. Selain itu, JLKN juga mempunyai rangkaian pusat latihan dan kem yang tersusun dan berdaya maju di seluruh negara.\\n4. Kontribusi JLKN dalam memupuk patriotisme di kalangan belia Malaysia adalah melalui program-program latihan khidmat negara yang mementingkan nilai-nilai patriotisme, kesedaran nasional, dan cinta kepada negara. Melalui latihan dan pengalaman dalam JLKN, belia dapat memahami dan menghayati pentingnya membela negara, menjaga warisan budaya dan sejarah, serta menghormati institusi negara.\\n5. Melalui pengalaman dalam program JLKN, belia Malaysia dapat memahami \"identiti kebangsaan\" mereka dengan lebih mendalam. Mereka dapat memahami sejarah, budaya, dan warisan Malaysia serta menyedari kepentingan patriotisme dan perpaduan antara kaum dalam membangunkan negara.\\n6. Peranan JLKN dalam melibatkan belia Malaysia dalam aktiviti perkhidmatan komuniti adalah melalui program-program seperti Program Khidmat Negara Belia (PKNB) dan Program Khidmat Negara Komuniti (PKNK). Belia diajar untuk memberi perkhidmatan kepada masyarakat, membantu dalam projek-projek komuniti, serta menyumbang kepada pembangunan tempatan.\\n7. JLKN meningkatkan kesedaran belia Malaysia mengenai isu sosial dan alam sekitar melalui pendidikan dan kempen-kempen yang dianjurkan. Mereka mengadakan ceramah, bengkel, dan program-program kesedaran yang membincangkan isu-isu semasa dan alam sekitar untuk menggalakkan belia menjadi generasi yang berpengetahuan dan prihatin terhadap isu-isu ini.\\n8. Belia Malaysia boleh menjelaskan kepentingan latihan khidmat negara dalam pembangunan negara dengan memahami bahawa melalui latihan ini, mereka dapat memperoleh kemahiran kepimpinan, kemahiran sosial, dan komunikasi yang penting untuk membantu dalam membangunkan negara ke arah yang lebih baik.\\n9. JLKN membantu belia Malaysia mempelajari nilai-nilai moral dan etika melalui latihan dan program latihan khidmat negara. Mereka diajar tentang nilai-nilai seperti integriti, tanggungjawab, disiplin, dan kejujuran melalui pendekatan penerokaan diri, permainan pasukan, dan pengalaman dalam menjalankan tugas-tugas khidmat negara.\\n10. Kesan positif program-program JLKN terhadap pembangunan diri belia Malaysia dalam aspek kepimpinan, kerjasama pasukan, dan ketahanan mental adalah mereka dapat mengembangkan kebolehan memimpin, kerjasama dengan rakan sebaya, dan kekuatan mental untuk menghadapi cabaran dan menc',\n",
       " 'question_ms': 'Apakah peranan Jabatan Latihan Khidmat Negara (JLKN) dalam membangunkan kepimpinan belia di Malaysia?\\n2. Bagaimanakah JLKN menyediakan program latihan dan perkhidmatan negara yang berkualiti untuk belia Malaysia?\\n3. Apakah yang membezakan program latihan JLKN daripada program perkhidmatan negara lain di Malaysia?\\n4. Apakah sumbangan JLKN dalam memupuk patriotisme di kalangan belia Malaysia?\\n5. Apakah yang difahami oleh belia Malaysia tentang \"identiti kebangsaan\" melalui pengalaman mereka dalam program JLKN?\\n6. Apakah peranan JLKN dalam melibatkan belia Malaysia dalam aktiviti khidmat masyarakat?\\n7. Bagaimanakah JLKN meningkatkan kesedaran di kalangan belia Malaysia tentang isu sosial dan alam sekitar semasa?\\n8. Apakah yang boleh dijelaskan oleh belia Malaysia tentang kepentingan perkhidmatan negara dalam pembangunan negara?\\n9. Bagaimanakah JLKN membantu belia Malaysia mempelajari nilai moral dan etika melalui latihan dan perkhidmatan negara?\\n10. Apakah kesan positif program JLKN terhadap pembangunan peribadi belia Malaysia dari segi kepimpinan, kerja berpasukan dan daya tahan mental?',\n",
       " 'answer_ms': '1. Peranan Jabatan Latihan Khidmat Negara (JLKN) dalam membangunkan kepimpinan belia di Malaysia adalah untuk melahirkan generasi muda yang berkebolehan dan berkualiti dalam memimpin dan menyumbang kepada negara. JLKN menyediakan latihan dan program latihan khidmat negara yang bertujuan untuk mengukuhkan kemahiran kepimpinan, komunikasi, serta kemahiran sosial dan komuniti belia.\\n2. JLKN menyediakan latihan berkualiti dan program latihan khidmat negara untuk belia Malaysia melalui rangkaian pusat latihan dan kem bersepadu di seluruh negara. Mereka melaksanakan program seperti Program Latihan Khidmat Negara (PLKN), Program Khidmat Negara Belia (PKNB), dan Program Khidmat Negara Komuniti (PKNK). Latihan-latihan yang disediakan oleh JLKN dirancang dengan mengikut keperluan belia dalam membina kepimpinan, pembangunan diri, dan memperkasa potensi mereka.\\n3. Apa yang membezakan program latihan JLKN daripada program latihan khidmat negara lain di Malaysia adalah pendekatan mereka yang holistik dan seimbang. JLKN memberi tumpuan kepada pembangunan kepimpinan, pembangunan potensi belia, dan penghayatan nilai-nilai patriotisme serta kesedaran sosial dan alam sekitar. Selain itu, JLKN juga mempunyai rangkaian pusat latihan dan kem yang tersusun dan berdaya maju di seluruh negara.\\n4. Sumbangan JLKN dalam memupuk patriotisme di kalangan belia Malaysia adalah melalui program-program latihan khidmat negara yang mementingkan nilai-nilai patriotisme, kesedaran nasional, dan cinta kepada negara. Melalui latihan dan pengalaman dalam JLKN, belia dapat memahami dan menghayati pentingnya mempertahankan negara, menjaga warisan budaya dan sejarah, serta menghormati institusi negara.\\n5. Melalui pengalaman dalam program JLKN, belia Malaysia dapat memahami \"identiti kebangsaan\" mereka dengan lebih mendalam. Mereka dapat memahami sejarah, budaya, dan warisan Malaysia serta menyedari kepentingan patriotisme dan perpaduan antara kaum dalam membangunkan negara.\\n6. Peranan JLKN dalam melibatkan belia Malaysia dalam aktiviti perkhidmatan komuniti adalah melalui program-program seperti Program Khidmat Negara Belia (PKNB) dan Program Khidmat Negara Komuniti (PKNK). Belia diajar untuk memberi perkhidmatan kepada masyarakat, membantu dalam projek-projek komuniti, serta menyumbang kepada pembangunan tempatan.\\n7. JLKN meningkatkan kesedaran belia Malaysia mengenai isu sosial dan alam sekitar melalui pendidikan dan kempen-kempen yang dianjurkan. Mereka mengadakan ceramah, bengkel, dan program-program kesedaran yang membincangkan isu-isu semasa dan alam sekitar untuk menggalakkan belia menjadi generasi yang berpengetahuan dan prihatin terhadap isu-isu ini.\\n8. Belia Malaysia boleh menjelaskan kepentingan latihan khidmat negara dalam pembangunan negara dengan memahami bahawa melalui latihan ini, mereka dapat memperoleh kemahiran kepimpinan, kemahiran sosial, dan komunikasi yang penting untuk membantu dalam membangunkan negara ke arah yang lebih baik.\\n9. JLKN membantu belia Malaysia mempelajari nilai-nilai moral dan etika melalui latihan dan program latihan khidmat negara. Mereka diajar tentang nilai-nilai seperti integriti, tanggungjawab, disiplin, dan kejujuran melalui pendekatan penerokaan diri, permainan pasukan, dan pengalaman dalam menjalankan tugas-tugas khidmat negara.\\n10. Kesan positif program-program JLKN terhadap pembangunan diri belia Malaysia dalam aspek kepimpinan, kerjasama pasukan, dan ketahanan mental adalah mereka dapat mengembangkan kebolehan memimpin, bekerjasama dengan rakan sebaya, dan kekuatan mental untuk menghadapi cabaran dan cabaran.'}"
      ]
     },
     "execution_count": 27,
     "metadata": {},
     "output_type": "execute_result"
    }
   ],
   "source": [
    "q"
   ]
  },
  {
   "cell_type": "code",
   "execution_count": 28,
   "id": "06187952",
   "metadata": {},
   "outputs": [
    {
     "name": "stdout",
     "output_type": "stream",
     "text": [
      "31236 malaysian-general-qa-gov-my.jsonl\r\n"
     ]
    }
   ],
   "source": [
    "!wc -l malaysian-general-qa-gov-my.jsonl"
   ]
  },
  {
   "cell_type": "code",
   "execution_count": 29,
   "id": "66a6852e",
   "metadata": {},
   "outputs": [
    {
     "name": "stderr",
     "output_type": "stream",
     "text": [
      "/home/husein/.local/lib/python3.8/site-packages/requests/__init__.py:102: RequestsDependencyWarning: urllib3 (1.26.15) or chardet (5.2.0)/charset_normalizer (2.0.7) doesn't match a supported version!\n",
      "  warnings.warn(\"urllib3 ({}) or chardet ({})/charset_normalizer ({}) doesn't match a supported \"\n"
     ]
    },
    {
     "data": {
      "application/vnd.jupyter.widget-view+json": {
       "model_id": "01ce5b5c5ba44970a938d8da6a87ab91",
       "version_major": 2,
       "version_minor": 0
      },
      "text/plain": [
       "malaysian-general-qa-gov-my.jsonl:   0%|          | 0.00/108M [00:00<?, ?B/s]"
      ]
     },
     "metadata": {},
     "output_type": "display_data"
    },
    {
     "data": {
      "text/plain": [
       "'https://huggingface.co/datasets/mesolitica/chatgpt-malaysian-general-qa/blob/main/malaysian-general-qa-gov-my.jsonl'"
      ]
     },
     "execution_count": 29,
     "metadata": {},
     "output_type": "execute_result"
    }
   ],
   "source": [
    "from huggingface_hub import HfApi\n",
    "api = HfApi()\n",
    "api.upload_file(\n",
    "    path_or_fileobj='malaysian-general-qa-gov-my.jsonl',\n",
    "    path_in_repo='malaysian-general-qa-gov-my.jsonl',\n",
    "    repo_id='mesolitica/chatgpt-malaysian-general-qa',\n",
    "    repo_type='dataset',\n",
    ")"
   ]
  }
 ],
 "metadata": {
  "kernelspec": {
   "display_name": "Python 3 (ipykernel)",
   "language": "python",
   "name": "python3"
  },
  "language_info": {
   "codemirror_mode": {
    "name": "ipython",
    "version": 3
   },
   "file_extension": ".py",
   "mimetype": "text/x-python",
   "name": "python",
   "nbconvert_exporter": "python",
   "pygments_lexer": "ipython3",
   "version": "3.8.10"
  }
 },
 "nbformat": 4,
 "nbformat_minor": 5
}
