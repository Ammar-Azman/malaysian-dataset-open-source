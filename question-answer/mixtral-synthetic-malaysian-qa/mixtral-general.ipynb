{
 "cells": [
  {
   "cell_type": "code",
   "execution_count": 35,
   "id": "03975148",
   "metadata": {},
   "outputs": [],
   "source": [
    "from huggingface_hub import InferenceClient\n",
    "from tqdm import tqdm\n",
    "import os\n",
    "import json"
   ]
  },
  {
   "cell_type": "code",
   "execution_count": 4,
   "id": "398a8dd3",
   "metadata": {},
   "outputs": [],
   "source": [
    "from concurrent.futures import ThreadPoolExecutor, as_completed\n",
    "\n",
    "generate_kwargs = dict(\n",
    "    temperature=1.0,\n",
    "    max_new_tokens=2048,\n",
    "    top_p=0.95,\n",
    "    repetition_penalty=1.0,\n",
    "    do_sample=True,\n",
    ")"
   ]
  },
  {
   "cell_type": "code",
   "execution_count": 5,
   "id": "d0d8a44e",
   "metadata": {},
   "outputs": [],
   "source": [
    "client = InferenceClient(\n",
    "    \"\"\n",
    ")\n",
    "\n",
    "\n",
    "def format_prompt(message, history):\n",
    "  prompt = \"<s>\"\n",
    "  for user_prompt, bot_response in history:\n",
    "    prompt += f\"[INST] {user_prompt} [/INST]\"\n",
    "    prompt += f\" {bot_response}</s> \"\n",
    "  prompt += f\"[INST] {message} [/INST]\"\n",
    "  return prompt"
   ]
  },
  {
   "cell_type": "code",
   "execution_count": 53,
   "id": "5c57ca9f",
   "metadata": {},
   "outputs": [
    {
     "data": {
      "text/plain": [
       "1850"
      ]
     },
     "execution_count": 53,
     "metadata": {},
     "output_type": "execute_result"
    }
   ],
   "source": [
    "topics = [\n",
    "    'hubungan malaysia dengan china',\n",
    "    'hubungan malaysia dengan US',\n",
    "    'hubungan malaysia dengan palestin',\n",
    "    'hubungan malaysia dengan israel',\n",
    "    'hubungan malaysia dengan russia',\n",
    "    'hubungan malaysia dengan singapore',\n",
    "    'pendapatan B40',\n",
    "    'pendapatan M40',\n",
    "    'pendapatan T20',\n",
    "    'miskin tegar',\n",
    "    'tanaman padi',\n",
    "    'pengeluaran beras',\n",
    "    'eksport getah',\n",
    "    'minyak sawit',\n",
    "    'durian',\n",
    "    'manggis',\n",
    "    'kelapa',\n",
    "    'tembakau',\n",
    "    'rambutan',\n",
    "    'nenas',\n",
    "    'pisang emas',\n",
    "    'dr mahathir mohamad',\n",
    "    'anwar ibrahim',\n",
    "    'najib razak',\n",
    "    'ismail sabri yaakob',\n",
    "    'muhyiddin yasin',\n",
    "    'rafizi ramli',\n",
    "    'Khairy Jamaluddin',\n",
    "    'nasi lemak',\n",
    "    'nasi goreng',\n",
    "    'teh tarik',\n",
    "    'teh ais',\n",
    "    'kopi ais',\n",
    "    'laksa',\n",
    "    'kuih muih',\n",
    "    'sate',\n",
    "    'roti canai',\n",
    "]\n",
    "\n",
    "prompts = []\n",
    "for t in topics:\n",
    "    prompt = f'generate complex malay questions related to {t} in malaysian context'\n",
    "    prompts.extend([prompt] * 50)\n",
    "    \n",
    "len(prompts)"
   ]
  },
  {
   "cell_type": "code",
   "execution_count": 54,
   "id": "69b71f25",
   "metadata": {},
   "outputs": [
    {
     "name": "stdout",
     "output_type": "stream",
     "text": [
      "mkdir: cannot create directory ‘mixtral-hubungan’: File exists\r\n"
     ]
    }
   ],
   "source": [
    "!mkdir mixtral-hubungan"
   ]
  },
  {
   "cell_type": "code",
   "execution_count": 55,
   "id": "66b1a7bb",
   "metadata": {},
   "outputs": [],
   "source": [
    "def answer(q, i):\n",
    "    filename = f'mixtral-hubungan/{i}.json'\n",
    "    if os.path.exists(filename):\n",
    "        return\n",
    "    \n",
    "    while True:\n",
    "        try:\n",
    "            prompt = q\n",
    "            formatted_prompt = format_prompt(prompt, [])\n",
    "            stream = client.text_generation(formatted_prompt, **generate_kwargs, stream=False, details=True, return_full_text=False)\n",
    "            output = stream.generated_text\n",
    "            with open(filename, 'w') as fopen:\n",
    "                json.dump(output, fopen)\n",
    "            break\n",
    "        except:\n",
    "            pass"
   ]
  },
  {
   "cell_type": "code",
   "execution_count": null,
   "id": "f6308660",
   "metadata": {},
   "outputs": [
    {
     "name": "stderr",
     "output_type": "stream",
     "text": [
      " 57%|███████████████████████▊                  | 21/37 [00:15<00:00, 208.77it/s]"
     ]
    }
   ],
   "source": [
    "max_worker = 50\n",
    "\n",
    "questions = prompts\n",
    "for i in tqdm(range(0, len(questions), max_worker)):\n",
    "    urls_ = [(q, no + i) for no, q in enumerate(questions[i: i + max_worker])]\n",
    "    \n",
    "    with ThreadPoolExecutor(max_workers=max_worker) as executor:\n",
    "        futures = {executor.submit(answer, url[0], url[1]): url for url in urls_}\n",
    "\n",
    "        for future in as_completed(futures):\n",
    "            future.result()"
   ]
  },
  {
   "cell_type": "code",
   "execution_count": null,
   "id": "3c9a0687",
   "metadata": {},
   "outputs": [],
   "source": []
  }
 ],
 "metadata": {
  "kernelspec": {
   "display_name": "Python 3 (ipykernel)",
   "language": "python",
   "name": "python3"
  },
  "language_info": {
   "codemirror_mode": {
    "name": "ipython",
    "version": 3
   },
   "file_extension": ".py",
   "mimetype": "text/x-python",
   "name": "python",
   "nbconvert_exporter": "python",
   "pygments_lexer": "ipython3",
   "version": "3.8.10"
  }
 },
 "nbformat": 4,
 "nbformat_minor": 5
}
