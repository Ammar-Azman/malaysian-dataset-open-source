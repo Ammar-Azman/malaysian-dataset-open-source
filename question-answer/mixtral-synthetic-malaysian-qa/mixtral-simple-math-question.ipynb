{
 "cells": [
  {
   "cell_type": "code",
   "execution_count": 1,
   "id": "03975148",
   "metadata": {},
   "outputs": [
    {
     "name": "stderr",
     "output_type": "stream",
     "text": [
      "/home/husein/.local/lib/python3.8/site-packages/requests/__init__.py:102: RequestsDependencyWarning: urllib3 (1.26.15) or chardet (5.2.0)/charset_normalizer (2.0.7) doesn't match a supported version!\n",
      "  warnings.warn(\"urllib3 ({}) or chardet ({})/charset_normalizer ({}) doesn't match a supported \"\n"
     ]
    }
   ],
   "source": [
    "from huggingface_hub import InferenceClient\n",
    "from tqdm import tqdm\n",
    "import os\n",
    "import json"
   ]
  },
  {
   "cell_type": "code",
   "execution_count": 2,
   "id": "398a8dd3",
   "metadata": {},
   "outputs": [],
   "source": [
    "from concurrent.futures import ThreadPoolExecutor, as_completed\n",
    "\n",
    "generate_kwargs = dict(\n",
    "    temperature=1.0,\n",
    "    max_new_tokens=2048,\n",
    "    top_p=0.95,\n",
    "    repetition_penalty=1.0,\n",
    "    do_sample=True,\n",
    ")"
   ]
  },
  {
   "cell_type": "code",
   "execution_count": 3,
   "id": "d0d8a44e",
   "metadata": {},
   "outputs": [],
   "source": [
    "client = InferenceClient(\n",
    "    \"\"\n",
    ")\n",
    "\n",
    "\n",
    "def format_prompt(message, history):\n",
    "  prompt = \"<s>\"\n",
    "  for user_prompt, bot_response in history:\n",
    "    prompt += f\"[INST] {user_prompt} [/INST]\"\n",
    "    prompt += f\" {bot_response}</s> \"\n",
    "  prompt += f\"[INST] {message} [/INST]\"\n",
    "  return prompt"
   ]
  },
  {
   "cell_type": "code",
   "execution_count": 12,
   "id": "69b71f25",
   "metadata": {},
   "outputs": [],
   "source": [
    "!mkdir mixtral-simple-math\n",
    "# !rm mixtral-factual-wrong-v2/*.json"
   ]
  },
  {
   "cell_type": "code",
   "execution_count": 13,
   "id": "75ff3081",
   "metadata": {},
   "outputs": [],
   "source": [
    "# prompt = 'generate more factual wrong questions ONLY, like, why kangaroo in malaysia, can expand beyond animals'\n",
    "# formatted_prompt = format_prompt(prompt, [])\n",
    "# stream = client.text_generation(formatted_prompt, **generate_kwargs, stream=False, details=True, return_full_text=False)\n",
    "# output = stream.generated_text\n",
    "# output"
   ]
  },
  {
   "cell_type": "code",
   "execution_count": 14,
   "id": "23a59d55",
   "metadata": {},
   "outputs": [],
   "source": [
    "# prompt = 'generate more math questions ONLY'\n",
    "# formatted_prompt = format_prompt(prompt, [])\n",
    "# stream = client.text_generation(formatted_prompt, **generate_kwargs, stream=False, details=True, return_full_text=False)\n",
    "# output = stream.generated_text\n",
    "# output"
   ]
  },
  {
   "cell_type": "code",
   "execution_count": 10,
   "id": "b2a98667",
   "metadata": {},
   "outputs": [
    {
     "data": {
      "text/plain": [
       "' 1. What is 2 + 2?\\n2. What is 5 - 3?\\n3. What is 4 \\\\* 3?\\n4. What is 9 / 3?\\n5. What is 6 \\\\* (4 + 2)?\\n6. What is 10 - (3 + 2)?\\n7. What is 25 / 5?\\n8. What is 8 \\\\* 8 \\\\* 8?\\n9. What is 100 - 50?\\n10. What is 12 + 12 + 12?\\n11. What is 20 / 2 / 2?\\n12. What is 10 + 10 \\\\* 10?\\n13. What is 81 - 27?\\n14. What is 3 \\\\* 3 \\\\* 3 \\\\* 3?\\n15. What is 1000 / 10?\\n16. What is 10 \\\\* 10 \\\\* 10 \\\\* 10?\\n17. What is 16 - 9?\\n18. What is 5 \\\\* 5 \\\\* 5?\\n19. What is 20 / 5 / 2?\\n20. What is 10 + 10 \\\\* 2?\\n\\nPlease let me know if you have any question or if you need me to generate more.'"
      ]
     },
     "execution_count": 10,
     "metadata": {},
     "output_type": "execute_result"
    }
   ],
   "source": [
    "prompt = 'generate more simple math questions ONLY, mathematical symbol and numbers ONLY'\n",
    "formatted_prompt = format_prompt(prompt, [])\n",
    "stream = client.text_generation(formatted_prompt, **generate_kwargs, stream=False, details=True, return_full_text=False)\n",
    "output = stream.generated_text\n",
    "output"
   ]
  },
  {
   "cell_type": "code",
   "execution_count": 15,
   "id": "66b1a7bb",
   "metadata": {},
   "outputs": [],
   "source": [
    "def answer(q, i):\n",
    "    filename = f'mixtral-simple-math/{i}.json'\n",
    "    if os.path.exists(filename):\n",
    "        return\n",
    "    \n",
    "    while True:\n",
    "        try:\n",
    "            prompt = q\n",
    "            formatted_prompt = format_prompt(prompt, [])\n",
    "            stream = client.text_generation(formatted_prompt, **generate_kwargs, stream=False, details=True, return_full_text=False)\n",
    "            output = stream.generated_text\n",
    "            with open(filename, 'w') as fopen:\n",
    "                json.dump(output, fopen)\n",
    "            break\n",
    "        except:\n",
    "            pass"
   ]
  },
  {
   "cell_type": "code",
   "execution_count": 37,
   "id": "6c2aa811",
   "metadata": {},
   "outputs": [],
   "source": [
    "prompts = ['generate more simple math questions ONLY, mathematical symbol and numbers ONLY'] * 10000"
   ]
  },
  {
   "cell_type": "code",
   "execution_count": 38,
   "id": "08fa0ccc",
   "metadata": {},
   "outputs": [
    {
     "data": {
      "text/plain": [
       "10000"
      ]
     },
     "execution_count": 38,
     "metadata": {},
     "output_type": "execute_result"
    }
   ],
   "source": [
    "len(prompts)"
   ]
  },
  {
   "cell_type": "code",
   "execution_count": 39,
   "id": "f6308660",
   "metadata": {},
   "outputs": [
    {
     "name": "stderr",
     "output_type": "stream",
     "text": [
      "100%|█████████████████████████████████████████| 200/200 [48:06<00:00, 14.43s/it]\n"
     ]
    }
   ],
   "source": [
    "max_worker = 50\n",
    "\n",
    "questions = prompts\n",
    "for i in tqdm(range(0, len(questions), max_worker)):\n",
    "    urls_ = [(q, no + i) for no, q in enumerate(questions[i: i + max_worker])]\n",
    "    \n",
    "    with ThreadPoolExecutor(max_workers=max_worker) as executor:\n",
    "        futures = {executor.submit(answer, url[0], url[1]): url for url in urls_}\n",
    "\n",
    "        for future in as_completed(futures):\n",
    "            future.result()"
   ]
  },
  {
   "cell_type": "code",
   "execution_count": 49,
   "id": "3c9a0687",
   "metadata": {},
   "outputs": [
    {
     "data": {
      "text/plain": [
       "5000"
      ]
     },
     "execution_count": 49,
     "metadata": {},
     "output_type": "execute_result"
    }
   ],
   "source": [
    "from glob import glob\n",
    "\n",
    "files = glob('mixtral-simple-math/*.json')\n",
    "files = sorted(files, key = lambda x: int(x.split('/')[-1].replace('.json', '')))\n",
    "        \n",
    "len(files)"
   ]
  },
  {
   "cell_type": "code",
   "execution_count": 67,
   "id": "506b453a",
   "metadata": {},
   "outputs": [
    {
     "data": {
      "text/plain": [
       "4096"
      ]
     },
     "execution_count": 67,
     "metadata": {},
     "output_type": "execute_result"
    }
   ],
   "source": [
    "import json\n",
    "\n",
    "questions = []\n",
    "for f in files:\n",
    "    with open(f) as fopen:\n",
    "        data = json.load(fopen)\n",
    "    splitted = data.strip().split('\\n')\n",
    "    splitted = [s for s in splitted if '.' if s and '?' in s]\n",
    "    splitted = ['.'.join(s.split('.')[1:]).strip() for s in splitted]\n",
    "    splitted = [s for s in splitted if len(s) > 3]\n",
    "    splitted = [s[1:] if s[0] == '\"' else s for s in splitted]\n",
    "    splitted = [s[:-1] if s[-1] == '\"' else s for s in splitted]\n",
    "    splitted = [s.strip() for s in splitted]\n",
    "    questions.extend(splitted)\n",
    "    \n",
    "questions = sorted(list(set(questions)))\n",
    "len(questions)"
   ]
  },
  {
   "cell_type": "code",
   "execution_count": 68,
   "id": "b671800a",
   "metadata": {},
   "outputs": [
    {
     "data": {
      "text/plain": [
       "['How many factors are there for 12? (1, 2, 3, 4, 6, 12)',\n",
       " 'How many factors are there for 16? (1, 2, 4, 8, 16)',\n",
       " 'How many factors does 12 have?',\n",
       " 'How many factors of 12 are there?',\n",
       " 'What is (-2)^4?',\n",
       " 'What is (1 + 2 + 3 + 4 + 5 + 6 + 7 + 8 + 9 + 10)?',\n",
       " 'What is (1 + 2 + 3 + 4 + 5)?',\n",
       " 'What is (1 + 2 + 3 + 4) \\\\* 5?',\n",
       " 'What is (1 + 2 + 3 \\\\* 4)?',\n",
       " 'What is (1 + 2 + 3) \\\\* (1 + 2) \\\\* (1 + 3) ?',\n",
       " 'What is (1 + 2 + 3) \\\\* 4?',\n",
       " 'What is (1 + 2 × 3) × 4 - 5?',\n",
       " 'What is (1 + 2) \\\\* (1 + 2) \\\\* (1 + 2)?',\n",
       " 'What is (1 + 2) \\\\* (3 + 4)?',\n",
       " 'What is (10 + 10 + 10 + 10) \\\\* 2.5?',\n",
       " 'What is (10 + 10 + 10) \\\\* 3?',\n",
       " 'What is (10 + 10) \\\\* (10 + 10) \\\\* 10?',\n",
       " 'What is (10 + 10) \\\\* (10 + 10)?',\n",
       " 'What is (10 + 10) \\\\* (10 - 5)?',\n",
       " 'What is (10 + 10) \\\\* (2 + 2)?',\n",
       " 'What is (10 + 10) \\\\* 10?',\n",
       " 'What is (10 + 10) \\\\* 2?',\n",
       " 'What is (10 + 15) \\\\* (10 - 5)?',\n",
       " 'What is (10 + 2 \\\\* 5) - (3 + 4 \\\\* 2)?',\n",
       " 'What is (10 + 2) / 3?',\n",
       " 'What is (10 + 2) \\\\* (10 - 2) - (5 \\\\* 5)?',\n",
       " 'What is (10 + 2) \\\\* (10 - 2)?',\n",
       " 'What is (10 + 2) \\\\* (3 + 1) ?',\n",
       " 'What is (10 + 2) \\\\* (3 + 4)?',\n",
       " 'What is (10 + 2) \\\\* (3 - 1)?',\n",
       " 'What is (10 + 2) \\\\* (5 - 1)?',\n",
       " 'What is (10 + 2) \\\\* 3 - 12?',\n",
       " 'What is (10 + 2) \\\\* 3 - 15?',\n",
       " 'What is (10 + 2) \\\\* 3 - 4?',\n",
       " 'What is (10 + 2) \\\\* 3 - 8?',\n",
       " 'What is (10 + 2) \\\\* 3?',\n",
       " 'What is (10 + 2) \\\\* 5 - (3 \\\\* 4)?',\n",
       " 'What is (10 + 2) x 5?',\n",
       " 'What is (10 + 2) × (3 - 1)?',\n",
       " 'What is (10 + 2) × 3 - 4?',\n",
       " 'What is (10 + 2)^3?',\n",
       " 'What is (10 + 3) \\\\* (7 - 4)?',\n",
       " 'What is (10 + 3) \\\\* 2?',\n",
       " 'What is (10 + 5) % 3 + 1?',\n",
       " 'What is (10 + 5) % 3?',\n",
       " 'What is (10 + 5) / 5?',\n",
       " 'What is (10 + 5) \\\\* (10 + 5) \\\\* (10 + 5)?',\n",
       " 'What is (10 + 5) \\\\* (10 + 5)?',\n",
       " 'What is (10 + 5) \\\\* (10 - 5) / 5?',\n",
       " 'What is (10 + 5) \\\\* (10 - 5) ?',\n",
       " 'What is (10 + 5) \\\\* (10 - 5)?',\n",
       " 'What is (10 + 5) \\\\* (2 + 1)?',\n",
       " 'What is (10 + 5) \\\\* (2 + 3)?',\n",
       " 'What is (10 + 5) \\\\* (2 - 1)?',\n",
       " 'What is (10 + 5) \\\\* (5 - 2)?',\n",
       " 'What is (10 + 5) \\\\* (8 - 3)?',\n",
       " 'What is (10 + 5) \\\\* 2 - 15?',\n",
       " 'What is (10 + 5) \\\\* 2 - 3?',\n",
       " 'What is (10 + 5) \\\\* 2?',\n",
       " 'What is (10 + 5) \\\\* 2? (use parentheses and the order of operations)',\n",
       " 'What is (10 + 5) \\\\* 2? (use the order of operations)',\n",
       " 'What is (10 + 5) \\\\* 3?',\n",
       " 'What is (10 + 5) \\\\* 3? (use the order of operations)',\n",
       " 'What is (10 + 5) \\\\* 6?',\n",
       " 'What is (10 + 5) × (2 + 3)?',\n",
       " 'What is (10 + 5) × 2?',\n",
       " 'What is (10 + 5) × 3?',\n",
       " 'What is (10 - 2) \\\\* (3 + 4)?',\n",
       " 'What is (10 - 2) \\\\* (5 + 1)?',\n",
       " 'What is (10 - 2) \\\\* (5 + 2)?',\n",
       " 'What is (10 - 2) \\\\* (5 + 3)?',\n",
       " 'What is (10 - 2) \\\\* (6 + 3)?',\n",
       " 'What is (10 - 2) \\\\* 2 + 1?',\n",
       " 'What is (10 - 2) \\\\* 3?',\n",
       " 'What is (10 - 2) \\\\* 4?',\n",
       " 'What is (10 - 2) × 3?',\n",
       " 'What is (10 - 3) \\\\* 2?',\n",
       " 'What is (10 - 3) \\\\* 3?',\n",
       " 'What is (10 - 3) \\\\* 4?',\n",
       " 'What is (10 - 3) x 4?',\n",
       " 'What is (10 - 4) \\\\* (3 + 1)?',\n",
       " 'What is (10 - 4) \\\\* (5 + 2)?',\n",
       " 'What is (10 - 4) \\\\* 2?',\n",
       " 'What is (10 - 4) \\\\* 3?',\n",
       " 'What is (10 - 4) × 3?',\n",
       " 'What is (10 - 5) + 2?',\n",
       " 'What is (10 - 5) \\\\* (10 + 5)?',\n",
       " 'What is (10 - 5) \\\\* (10 - 5)?',\n",
       " 'What is (10 - 5) \\\\* (5 + 2)?',\n",
       " 'What is (10 - 5) \\\\* 2?',\n",
       " 'What is (10 - 5) \\\\* 3?',\n",
       " 'What is (10 / 2) \\\\* (5 + 1)?',\n",
       " 'What is (10 / 2) \\\\* 3?',\n",
       " 'What is (10 \\\\* 10 + 5 \\\\* 5) \\\\* 2?',\n",
       " 'What is (10 \\\\* 10) - (3 \\\\* 11 + 4)?',\n",
       " 'What is (10 \\\\* 10) - (5 \\\\* 5)?',\n",
       " 'What is (10 \\\\* 2 - 4) \\\\* 3?',\n",
       " 'What is (10 \\\\* 2) + (3 \\\\* 4)?',\n",
       " 'What is (10 \\\\* 2) + (3 \\\\* 5)?',\n",
       " 'What is (10 \\\\* 2) + (5 \\\\* 2)?']"
      ]
     },
     "execution_count": 68,
     "metadata": {},
     "output_type": "execute_result"
    }
   ],
   "source": [
    "questions[:100]"
   ]
  },
  {
   "cell_type": "code",
   "execution_count": 29,
   "id": "4a3449cb",
   "metadata": {},
   "outputs": [],
   "source": [
    "!mkdir answer-mixtral-simple-math-question"
   ]
  },
  {
   "cell_type": "code",
   "execution_count": 33,
   "id": "14e927e9",
   "metadata": {},
   "outputs": [],
   "source": [
    "def answer(q, i):\n",
    "    filename = f'answer-mixtral-simple-math-question/{i}.json'\n",
    "    if os.path.exists(filename):\n",
    "        return\n",
    "    \n",
    "    while True:\n",
    "        try:\n",
    "            prompt = q\n",
    "            formatted_prompt = format_prompt(prompt, [])\n",
    "            stream = client.text_generation(formatted_prompt, **generate_kwargs, stream=False, details=True, return_full_text=False)\n",
    "            output = stream.generated_text\n",
    "            with open(filename, 'w') as fopen:\n",
    "                json.dump(output, fopen)\n",
    "            break\n",
    "        except:\n",
    "            pass"
   ]
  },
  {
   "cell_type": "code",
   "execution_count": 34,
   "id": "c37cdcdb",
   "metadata": {},
   "outputs": [
    {
     "name": "stderr",
     "output_type": "stream",
     "text": [
      "100%|███████████████████████████████████████████| 82/82 [14:34<00:00, 10.66s/it]\n"
     ]
    }
   ],
   "source": [
    "max_worker = 50\n",
    "\n",
    "for i in tqdm(range(0, len(questions), max_worker)):\n",
    "    urls_ = [(q, no + i) for no, q in enumerate(questions[i: i + max_worker])]\n",
    "    \n",
    "    with ThreadPoolExecutor(max_workers=max_worker) as executor:\n",
    "        futures = {executor.submit(answer, url[0], url[1]): url for url in urls_}\n",
    "\n",
    "        for future in as_completed(futures):\n",
    "            future.result()"
   ]
  },
  {
   "cell_type": "code",
   "execution_count": 76,
   "id": "cbae4e9b",
   "metadata": {},
   "outputs": [],
   "source": [
    "# data = []\n",
    "# for no, q in enumerate(questions):\n",
    "#     filename = f'answer-mixtral-simple-math-question/{no}.json'\n",
    "#     if not os.path.exists(filename):\n",
    "#         continue\n",
    "\n",
    "#     with open(filename) as fopen:\n",
    "#         a = json.load(fopen).strip()\n",
    "\n",
    "#     d = {\n",
    "#         'question': q,\n",
    "#         'answer': a,\n",
    "#     }\n",
    "#     data.append(d)"
   ]
  },
  {
   "cell_type": "code",
   "execution_count": 77,
   "id": "eed49af7",
   "metadata": {},
   "outputs": [
    {
     "name": "stderr",
     "output_type": "stream",
     "text": [
      "100%|█████████████████████████████████| 10000/10000 [00:00<00:00, 127297.24it/s]\n"
     ]
    },
    {
     "data": {
      "text/plain": [
       "8154"
      ]
     },
     "execution_count": 77,
     "metadata": {},
     "output_type": "execute_result"
    }
   ],
   "source": [
    "data = []\n",
    "for f in tqdm(glob('answer-mixtral-simple-math-question/*.json')):\n",
    "    with open(f) as fopen:\n",
    "        a = json.load(fopen).strip()\n",
    "        if a.count('?') > 0:\n",
    "            continue\n",
    "        data.append(a)\n",
    "        \n",
    "data.extend(questions)\n",
    "len(data)"
   ]
  },
  {
   "cell_type": "code",
   "execution_count": 78,
   "id": "f8088a47",
   "metadata": {},
   "outputs": [
    {
     "data": {
      "text/plain": [
       "['The order of operations, often remembered by the acronym PEMDAS, tells us to perform calculations in the following order: Parentheses, Exponents, Multiplication and Division (from left to right), and Addition and Subtraction (from left to right).\\n\\nSo for the expression 14 / 7 + 3:\\n\\nFirst, perform the division: 14 / 7 = 2\\nThen, perform the addition: 2 + 3 = 5\\n\\nSo, 14 / 7 + 3 = 5.',\n",
       " 'To find the product of 1111 multiplied by itself three times, you can do the multiplication step by step:\\n\\n1111 * 1111 = 1234321\\n\\nNow multiply the result by 1111:\\n\\n1234321 * 1111 = 1367643121\\n\\nSo, 1111 \\\\* 1111 \\\\* 1111 = 1367643121.',\n",
       " 'The result of subtracting 9 from 69 is 60. You perform this operation by aligning the numbers by place value and subtracting the digit in the second number from the digit in the first number for each place value, starting from the rightmost place and moving left. In this case, you would subtract 9 (in the ones place) from 69, resulting in 60.',\n",
       " 'To evaluate the expression 10 + 10 * 10, you should follow the order of operations, often remembered by the acronym PEMDAS: Parentheses, Exponents, Multiplication and Division (from left to right), Addition and Subtraction (from left to right).\\n\\nIn this case, you need to perform multiplication before addition. So, first calculate 10 * 10, which equals 100. Then, add this result to 10:\\n\\n10 + 100 = 110\\n\\nSo, 10 + 10 * 10 equals 110.',\n",
       " 'To multiply 567 by 89, you can use the traditional long multiplication method that you may have learned in school. Here is how it works:\\n\\n1. Multiply 567 by the digit in the ones place of 89 (which is 9):\\n\\n567 x 9 = 5103\\n\\nWrite the result below the line, but shift it one place to the left because you are multiplying by a number in the ones place:\\n\\n```markdown\\n  5103\\n------\\n```\\n\\n2. Next, multiply 567 by the digit in the tens place of 89 (which is 8). However, because you are multiplying by a number in the tens place, you need to add a zero at the end of the result:\\n\\n567 x 8 = 4536, but add a zero at the end: 45360\\n\\nWrite the result below the line, aligning it with the second digit from the right:\\n\\n```markdown\\n  5103\\n+ 45360\\n------\\n```\\n\\n3. Add up the two results to get the final product:\\n\\n5103\\n+ 45360\\n------\\n50473\\n\\nTherefore, 567 x 89 = 50473.',\n",
       " 'To solve the expression 7 + 8 - 5, follow the order of operations, which is often remembered by the acronym PEMDAS: Parentheses, Exponents, Multiplication and Division (from left to right), Addition and Subtraction (from left to right). In this case, there are no parentheses, exponents, or multiplication/division, so we just need to do the addition and subtraction from left to right.\\n\\nFirst, add 7 and 8 to get 15.\\nThen, subtract 5 from 15 to get 10.\\n\\nSo, 7 + 8 - 5 equals 10.',\n",
       " 'To find the difference between 296 and 4, you subtract 4 from 296.\\n\\n296 - 4 = 292\\n\\nSo, the difference between 296 and 4 is 292.',\n",
       " \"The expression you've given can be simplified by performing the operations from left to right. So, first, we'll divide 24 by 2, which equals 12. Then, we divide that result by 2. \\n\\nSo, 24 / 2 / 2 equals 12 / 2, which further equals 6. Therefore, 24 divided by 2 divided by 2 equals 6.\",\n",
       " \"To solve this expression, we should follow the order of operations, which is often remembered by the acronym PEMDAS: Parentheses, Exponents, Multiplication and Division (from left to right), Addition and Subtraction (from left to right).\\n\\nSo, for the given expression (5 + 2) * (6 - 1) - 3, let's break it down:\\n\\n1. Parentheses: First, calculate the expressions inside the parentheses.\\n   (5 + 2) = 7\\n   (6 - 1) = 5\\n\\n2. Multiplication: Next, multiply the results from step 1.\\n   7 * 5 = 35\\n\\n3. Subtraction: Finally, subtract 3 from the result of step 2.\\n   35 - 3 = 32\\n\\nSo, (5 + 2) * (6 - 1) - 3 equals 32.\",\n",
       " 'To solve this expression, first, perform the operation inside the parentheses:\\n\\n10 - 3 = 7\\n\\nThen, multiply the result by 4:\\n\\n7 x 4 = 28\\n\\nSo, (10 - 3) x 4 equals 28.']"
      ]
     },
     "execution_count": 78,
     "metadata": {},
     "output_type": "execute_result"
    }
   ],
   "source": [
    "data[:10]"
   ]
  },
  {
   "cell_type": "code",
   "execution_count": 79,
   "id": "3a44e2c7",
   "metadata": {},
   "outputs": [],
   "source": [
    "with open('answer-mixtral-simple-math-question.texts', 'w') as fopen:\n",
    "    for t in set(data):\n",
    "        fopen.write(f'{json.dumps(t)}\\n')"
   ]
  },
  {
   "cell_type": "code",
   "execution_count": 80,
   "id": "46ff47b6",
   "metadata": {
    "scrolled": true
   },
   "outputs": [
    {
     "name": "stdout",
     "output_type": "stream",
     "text": [
      "8154 answer-mixtral-simple-math-question.texts\r\n"
     ]
    }
   ],
   "source": [
    "!wc -l answer-mixtral-simple-math-question.texts"
   ]
  },
  {
   "cell_type": "code",
   "execution_count": 81,
   "id": "0e044a74",
   "metadata": {},
   "outputs": [],
   "source": [
    "!cp answer-mixtral-simple-math-question.texts ../ctranslate2"
   ]
  },
  {
   "cell_type": "code",
   "execution_count": 90,
   "id": "48c8fd9e",
   "metadata": {},
   "outputs": [],
   "source": [
    "mapping = {}\n",
    "with open('../ctranslate2/answer-mixtral-simple-math-question.texts.requested') as fopen:\n",
    "    for l in fopen:\n",
    "        l = json.loads(l)\n",
    "        mapping[l['src']] = l['r']"
   ]
  },
  {
   "cell_type": "code",
   "execution_count": 91,
   "id": "2708c7e3",
   "metadata": {},
   "outputs": [],
   "source": [
    "with open('mixtral-simple-math.jsonl', 'w') as fopen_l:\n",
    "    for no, q in enumerate(questions):\n",
    "        filename = f'answer-mixtral-simple-math-question/{no}.json'\n",
    "        if not os.path.exists(filename):\n",
    "            continue\n",
    "\n",
    "        with open(filename) as fopen:\n",
    "            a = json.load(fopen).strip()\n",
    "            \n",
    "        if a.count('?') > 0:\n",
    "            continue\n",
    "            \n",
    "        d = {\n",
    "            'question': q,\n",
    "            'question_ms': mapping.get(q),\n",
    "            'answer': a,\n",
    "            'answer_ms': mapping.get(a)\n",
    "        }\n",
    "        fopen_l.write(f'{json.dumps(d)}\\n')"
   ]
  },
  {
   "cell_type": "code",
   "execution_count": 92,
   "id": "bd601a5f",
   "metadata": {},
   "outputs": [
    {
     "name": "stdout",
     "output_type": "stream",
     "text": [
      "{\"question\": \"How many factors are there for 12? (1, 2, 3, 4, 6, 12)\", \"question_ms\": \"Berapakah bilangan faktor untuk 12? (1, 2, 3, 4, 6, 12)\", \"answer\": \"Yes, you are correct. The factors of 12 are 1, 2, 3, 4, 6, and 12. A factor is a whole number that can be divided evenly into another number. In this case, each of these numbers divides evenly into 12 with no remainder.\", \"answer_ms\": \"Ya, anda betul. Faktor 12 ialah 1, 2, 3, 4, 6, dan 12. Faktor ialah nombor keseluruhan yang boleh dibahagikan sama rata kepada nombor lain. Dalam kes ini, setiap nombor ini dibahagikan sama rata kepada 12 tanpa baki.\"}\r\n",
      "{\"question\": \"How many factors are there for 16? (1, 2, 4, 8, 16)\", \"question_ms\": \"Berapakah bilangan faktor untuk 16? (1, 2, 4, 8, 16)\", \"answer\": \"Yes, you are correct. The factors of 16 are 1, 2, 4, 8, and 16. A factor is a whole number that can be divided evenly into another number. In this case, each of these numbers can be divided evenly into 16, so they are all factors of 16.\", \"answer_ms\": \"Ya, anda betul. Faktor 16 ialah 1, 2, 4, 8, dan 16. Faktor ialah nombor keseluruhan yang boleh dibahagikan sama rata kepada nombor lain. Dalam kes ini, setiap nombor ini boleh dibahagikan sama rata kepada 16, jadi ia adalah semua faktor 16.\"}\r\n",
      "{\"question\": \"How many factors does 12 have?\", \"question_ms\": \"Berapakah bilangan faktor yang ada pada 12?\", \"answer\": \"To find the number of factors of a given number, we can use its prime factorization. The prime factorization of 12 is:\\n\\n12 = 2 * 2 * 3\\n\\nNow, we need to find the number of ways to write 12 as a product of its prime factors, including repeated factors. To do this, we can use the concept of exponents. The number of ways to write 12 as a product of its prime factors is equal to the product of one more than each exponent in its prime factorization:\\n\\nNumber of factors = (1 + 2) * (1 + 1)\\n                  = 3 * 2\\n                  = 6\\n\\nSo, 12 has 6 factors in total. These are: 1, 2, 3, 4, 6, and 12.\", \"answer_ms\": \"Untuk mencari bilangan faktor bagi nombor tertentu, kita boleh menggunakan pemfaktoran perdananya. Pemfaktoran perdana 12 ialah:\\n\\n12 = 2 * 2 * 3\\n\\nSekarang, kita perlu mencari bilangan cara untuk menulis 12 sebagai produk faktor utamanya, termasuk faktor berulang. Untuk melakukan ini, kita boleh menggunakan konsep eksponen. Bilangan cara untuk menulis 12 sebagai produk faktor utamanya adalah sama dengan produk satu lebih daripada setiap eksponen dalam pemfaktoran perdananya:\\n\\nBilangan faktor = (1 + 2) * (1 + 1)\\n                  = 3 * 2\\n                  = 6\\n\\nJadi, 12 mempunyai 6 faktor secara keseluruhan. Ini ialah: 1, 2, 3, 4, 6, dan 12.\"}\r\n"
     ]
    }
   ],
   "source": [
    "!head -n 3 mixtral-simple-math.jsonl"
   ]
  },
  {
   "cell_type": "code",
   "execution_count": 93,
   "id": "126526e4",
   "metadata": {},
   "outputs": [
    {
     "data": {
      "text/plain": [
       "'https://huggingface.co/datasets/mesolitica/mixtral-malaysian-general-qa/blob/main/mixtral-simple-math.jsonl'"
      ]
     },
     "execution_count": 93,
     "metadata": {},
     "output_type": "execute_result"
    }
   ],
   "source": [
    "from huggingface_hub import HfApi\n",
    "api = HfApi()\n",
    "api.upload_file(\n",
    "    path_or_fileobj='mixtral-simple-math.jsonl',\n",
    "    path_in_repo='mixtral-simple-math.jsonl',\n",
    "    repo_id='mesolitica/mixtral-malaysian-general-qa',\n",
    "    repo_type='dataset',\n",
    ")"
   ]
  }
 ],
 "metadata": {
  "kernelspec": {
   "display_name": "Python 3 (ipykernel)",
   "language": "python",
   "name": "python3"
  },
  "language_info": {
   "codemirror_mode": {
    "name": "ipython",
    "version": 3
   },
   "file_extension": ".py",
   "mimetype": "text/x-python",
   "name": "python",
   "nbconvert_exporter": "python",
   "pygments_lexer": "ipython3",
   "version": "3.8.10"
  }
 },
 "nbformat": 4,
 "nbformat_minor": 5
}
