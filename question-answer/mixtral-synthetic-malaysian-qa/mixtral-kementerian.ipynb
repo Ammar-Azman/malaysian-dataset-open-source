{
 "cells": [
  {
   "cell_type": "code",
   "execution_count": 1,
   "id": "6c4d846a",
   "metadata": {},
   "outputs": [
    {
     "name": "stderr",
     "output_type": "stream",
     "text": [
      "/home/husein/.local/lib/python3.8/site-packages/requests/__init__.py:102: RequestsDependencyWarning: urllib3 (1.26.15) or chardet (5.2.0)/charset_normalizer (2.0.7) doesn't match a supported version!\n",
      "  warnings.warn(\"urllib3 ({}) or chardet ({})/charset_normalizer ({}) doesn't match a supported \"\n"
     ]
    }
   ],
   "source": [
    "from huggingface_hub import InferenceClient\n",
    "from tqdm import tqdm\n",
    "import os\n",
    "import json"
   ]
  },
  {
   "cell_type": "code",
   "execution_count": 2,
   "id": "b49adb47",
   "metadata": {},
   "outputs": [],
   "source": [
    "client = InferenceClient(\n",
    "    \"\"\n",
    ")\n",
    "\n",
    "\n",
    "def format_prompt(message, history):\n",
    "  prompt = \"<s>\"\n",
    "  for user_prompt, bot_response in history:\n",
    "    prompt += f\"[INST] {user_prompt} [/INST]\"\n",
    "    prompt += f\" {bot_response}</s> \"\n",
    "  prompt += f\"[INST] {message} [/INST]\"\n",
    "  return prompt"
   ]
  },
  {
   "cell_type": "code",
   "execution_count": 3,
   "id": "1741a263",
   "metadata": {},
   "outputs": [],
   "source": [
    "topics = [\n",
    "    'startup',\n",
    "    'MRANTI',\n",
    "    'Jabatan Perdana Menteri',\n",
    "    'Parlimen Malaysia',\n",
    "    'Pejabat Penyimpan Mohor Besar Raja-Raja',\n",
    "    'Suruhanjaya Pilihan Raya',\n",
    "    'Suruhanjaya Perkhidmatan Awam',\n",
    "    'Suruhanjaya Perkhidmatan Pendidikan',\n",
    "    'Jabatan Perkhidmatan Awam',\n",
    "    'Jabatan Peguam Negara',\n",
    "    'Suruhanjaya Pencegahan Rasuah Malaysia',\n",
    "    'Jabatan Perangkaan Malaysia',\n",
    "    'Istana Negara',\n",
    "    'Jabatan Audit Negara',\n",
    "    'Kementerian Kewangan Malaysia',\n",
    "    'Kementerian Luar Negeri',\n",
    "    'Kementerian Perpaduan Negara',\n",
    "    'Kementerian Perusahaan Perladangan dan Komoditi',\n",
    "    'Kementerian Pertanian dan Industri Makanan',\n",
    "    'Kementerian Pembangunan Luar Bandar',\n",
    "    'Kementerian Tenaga dan Sumber Asli',\n",
    "    'Kementerian Perdagangan Antarabangsa dan Industri',\n",
    "    'Kementerian Perdagangan Dalam Negeri dan Hal Ehwal Pengguna',\n",
    "    'Kementerian Pembangunan Usahawan dan Koperasi',\n",
    "    'Kementerian Kerja Raya',\n",
    "    'Kementerian Pengangkutan',\n",
    "    'Kementerian Sains, Teknologi dan Inovasi',\n",
    "    'Kementerian Pelancongan, Seni dan Budaya',\n",
    "    'Kementerian Wilayah Persekutuan',\n",
    "    'Kementerian Alam Sekitar dan Air',\n",
    "    'Kementerian Kesihatan',\n",
    "    'Kementerian Perumahan dan Kerajaan Tempatan',\n",
    "    'Kementerian Belia dan Sukan',\n",
    "    'Kementerian Sumber Manusia',\n",
    "    'Kementerian Komunikasi dan Multimedia',\n",
    "    'Kementerian Pembangunan Wanita, Keluarga dan Masyarakat',\n",
    "    'Kementerian Pertahanan',\n",
    "    'Kementerian Dalam Negeri',\n",
    "    'Kementerian Pengajian Tinggi',\n",
    "    'Kementerian Pendidikan'\n",
    "]"
   ]
  },
  {
   "cell_type": "code",
   "execution_count": null,
   "id": "751b1f9a",
   "metadata": {},
   "outputs": [
    {
     "name": "stderr",
     "output_type": "stream",
     "text": [
      "mkdir: cannot create directory ‘startup’: File exists\n",
      "100%|███████████████████████████████████████████████████████████████████████████████████████████████████████| 100/100 [00:00<00:00, 326659.19it/s]\n",
      "mkdir: cannot create directory ‘MRANTI’: File exists\n",
      "100%|███████████████████████████████████████████████████████████████████████████████████████████████████████| 100/100 [00:00<00:00, 320665.44it/s]\n",
      "mkdir: cannot create directory ‘Jabatan-Perdana-Menteri’: File exists\n",
      "100%|███████████████████████████████████████████████████████████████████████████████████████████████████████| 100/100 [00:00<00:00, 329223.23it/s]\n",
      "mkdir: cannot create directory ‘Parlimen-Malaysia’: File exists\n",
      "100%|███████████████████████████████████████████████████████████████████████████████████████████████████████| 100/100 [00:00<00:00, 471800.22it/s]\n",
      "mkdir: cannot create directory ‘Pejabat-Penyimpan-Mohor-Besar-Raja-Raja’: File exists\n",
      "100%|███████████████████████████████████████████████████████████████████████████████████████████████████████| 100/100 [00:00<00:00, 389082.00it/s]\n",
      "mkdir: cannot create directory ‘Suruhanjaya-Pilihan-Raya’: File exists\n",
      "100%|███████████████████████████████████████████████████████████████████████████████████████████████████████| 100/100 [00:00<00:00, 411609.81it/s]\n",
      "mkdir: cannot create directory ‘Suruhanjaya-Perkhidmatan-Awam’: File exists\n",
      "100%|███████████████████████████████████████████████████████████████████████████████████████████████████████| 100/100 [00:00<00:00, 401753.26it/s]\n",
      "mkdir: cannot create directory ‘Suruhanjaya-Perkhidmatan-Pendidikan’: File exists\n",
      "100%|███████████████████████████████████████████████████████████████████████████████████████████████████████| 100/100 [00:00<00:00, 399457.52it/s]\n",
      "mkdir: cannot create directory ‘Jabatan-Perkhidmatan-Awam’: File exists\n",
      "100%|███████████████████████████████████████████████████████████████████████████████████████████████████████| 100/100 [00:00<00:00, 416928.83it/s]\n",
      "mkdir: cannot create directory ‘Jabatan-Peguam-Negara’: File exists\n",
      "100%|███████████████████████████████████████████████████████████████████████████████████████████████████████| 100/100 [00:00<00:00, 328449.80it/s]\n",
      "mkdir: cannot create directory ‘Suruhanjaya-Pencegahan-Rasuah-Malaysia’: File exists\n",
      "100%|███████████████████████████████████████████████████████████████████████████████████████████████████████| 100/100 [00:00<00:00, 322143.16it/s]\n",
      "mkdir: cannot create directory ‘Jabatan-Perangkaan-Malaysia’: File exists\n",
      "100%|███████████████████████████████████████████████████████████████████████████████████████████████████████| 100/100 [00:00<00:00, 346636.69it/s]\n",
      "mkdir: cannot create directory ‘Istana-Negara’: File exists\n",
      "100%|███████████████████████████████████████████████████████████████████████████████████████████████████████| 100/100 [00:00<00:00, 386571.80it/s]\n",
      "mkdir: cannot create directory ‘Jabatan-Audit-Negara’: File exists\n",
      "100%|███████████████████████████████████████████████████████████████████████████████████████████████████████| 100/100 [00:00<00:00, 356355.48it/s]\n",
      "mkdir: cannot create directory ‘Kementerian-Kewangan-Malaysia’: File exists\n",
      "100%|███████████████████████████████████████████████████████████████████████████████████████████████████████| 100/100 [00:00<00:00, 417759.36it/s]\n",
      "mkdir: cannot create directory ‘Kementerian-Luar-Negeri’: File exists\n",
      "100%|███████████████████████████████████████████████████████████████████████████████████████████████████████| 100/100 [00:00<00:00, 417343.68it/s]\n",
      "mkdir: cannot create directory ‘Kementerian-Perpaduan-Negara’: File exists\n",
      "100%|███████████████████████████████████████████████████████████████████████████████████████████████████████| 100/100 [00:00<00:00, 383391.59it/s]\n",
      "mkdir: cannot create directory ‘Kementerian-Perusahaan-Perladangan-dan-Komoditi’: File exists\n",
      "100%|███████████████████████████████████████████████████████████████████████████████████████████████████████| 100/100 [00:00<00:00, 356962.04it/s]\n",
      "mkdir: cannot create directory ‘Kementerian-Pertanian-dan-Industri-Makanan’: File exists\n",
      "100%|███████████████████████████████████████████████████████████████████████████████████████████████████████████| 100/100 [32:22<00:00, 19.43s/it]\n",
      "mkdir: cannot create directory ‘Kementerian-Pembangunan-Luar-Bandar’: File exists\n",
      "100%|███████████████████████████████████████████████████████████████████████████████████████████████████████████| 100/100 [41:35<00:00, 24.95s/it]\n",
      "mkdir: cannot create directory ‘Kementerian-Tenaga-dan-Sumber-Asli’: File exists\n",
      "100%|███████████████████████████████████████████████████████████████████████████████████████████████████████████| 100/100 [41:28<00:00, 24.88s/it]\n",
      "mkdir: cannot create directory ‘Kementerian-Perdagangan-Antarabangsa-dan-Industri’: File exists\n",
      "100%|███████████████████████████████████████████████████████████████████████████████████████████████████████████| 100/100 [40:09<00:00, 24.10s/it]\n",
      "mkdir: cannot create directory ‘Kementerian-Perdagangan-Dalam-Negeri-dan-Hal-Ehwal-Pengguna’: File exists\n",
      "100%|███████████████████████████████████████████████████████████████████████████████████████████████████████████| 100/100 [46:39<00:00, 28.00s/it]\n",
      "mkdir: cannot create directory ‘Kementerian-Pembangunan-Usahawan-dan-Koperasi’: File exists\n",
      "100%|███████████████████████████████████████████████████████████████████████████████████████████████████████████| 100/100 [44:18<00:00, 26.58s/it]\n",
      "mkdir: cannot create directory ‘Kementerian-Kerja-Raya’: File exists\n",
      "100%|███████████████████████████████████████████████████████████████████████████████████████████████████████████| 100/100 [41:54<00:00, 25.15s/it]\n",
      "mkdir: cannot create directory ‘Kementerian-Pengangkutan’: File exists\n",
      " 96%|███████████████████████████████████████████████████████████████████████████████████████████████████████▋    | 96/100 [40:44<01:41, 25.35s/it]"
     ]
    }
   ],
   "source": [
    "for topic in topics:\n",
    "    topic_folder = topic.replace(' ', '-').replace(',', '')\n",
    "    os.system(f'mkdir {topic_folder}')\n",
    "    for k in tqdm(range(100)):\n",
    "        filename = os.path.join(topic_folder, f'{k}.json')\n",
    "        if os.path.exists(filename):\n",
    "            continue\n",
    "        generate_kwargs = dict(\n",
    "            temperature=1.0,\n",
    "            max_new_tokens=1024,\n",
    "            top_p=0.95,\n",
    "            repetition_penalty=1.0,\n",
    "            do_sample=True,\n",
    "            seed=k + 1\n",
    "        )\n",
    "        prompt = f'generate complex malay questions related to {topic} in malaysian context'\n",
    "        formatted_prompt = format_prompt(prompt, [])\n",
    "        stream = client.text_generation(formatted_prompt, **generate_kwargs, stream=False, details=True, return_full_text=False)\n",
    "        output = stream.generated_text\n",
    "        with open(filename, 'w') as fopen:\n",
    "            json.dump(output, fopen)"
   ]
  },
  {
   "cell_type": "code",
   "execution_count": null,
   "id": "50f0e6fd",
   "metadata": {},
   "outputs": [],
   "source": []
  }
 ],
 "metadata": {
  "kernelspec": {
   "display_name": "Python 3 (ipykernel)",
   "language": "python",
   "name": "python3"
  },
  "language_info": {
   "codemirror_mode": {
    "name": "ipython",
    "version": 3
   },
   "file_extension": ".py",
   "mimetype": "text/x-python",
   "name": "python",
   "nbconvert_exporter": "python",
   "pygments_lexer": "ipython3",
   "version": "3.8.10"
  }
 },
 "nbformat": 4,
 "nbformat_minor": 5
}
