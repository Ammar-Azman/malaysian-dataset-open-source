{
 "cells": [
  {
   "cell_type": "code",
   "execution_count": 1,
   "id": "cc9b511d",
   "metadata": {},
   "outputs": [
    {
     "name": "stderr",
     "output_type": "stream",
     "text": [
      "/home/husein/.local/lib/python3.8/site-packages/requests/__init__.py:102: RequestsDependencyWarning: urllib3 (1.26.15) or chardet (5.2.0)/charset_normalizer (2.0.7) doesn't match a supported version!\n",
      "  warnings.warn(\"urllib3 ({}) or chardet ({})/charset_normalizer ({}) doesn't match a supported \"\n"
     ]
    }
   ],
   "source": [
    "from huggingface_hub import InferenceClient\n",
    "from tqdm import tqdm\n",
    "import os\n",
    "import json\n",
    "import random"
   ]
  },
  {
   "cell_type": "code",
   "execution_count": 2,
   "id": "4192b68b",
   "metadata": {},
   "outputs": [],
   "source": [
    "from concurrent.futures import ThreadPoolExecutor, as_completed\n",
    "\n",
    "generate_kwargs = dict(\n",
    "    temperature=1.0,\n",
    "    max_new_tokens=2048,\n",
    "    top_p=0.95,\n",
    "    repetition_penalty=1.0,\n",
    "    do_sample=True,\n",
    ")"
   ]
  },
  {
   "cell_type": "code",
   "execution_count": 3,
   "id": "bca8bfda",
   "metadata": {},
   "outputs": [],
   "source": [
    "client = InferenceClient(\n",
    "    \"\", timeout = 120\n",
    ")\n",
    "\n",
    "\n",
    "def format_prompt(message, history):\n",
    "  prompt = \"<s>\"\n",
    "  for user_prompt, bot_response in history:\n",
    "    prompt += f\"[INST] {user_prompt} [/INST]\"\n",
    "    prompt += f\" {bot_response}</s> \"\n",
    "  prompt += f\"[INST] {message} [/INST]\"\n",
    "  return prompt"
   ]
  },
  {
   "cell_type": "code",
   "execution_count": 4,
   "id": "3cade077",
   "metadata": {},
   "outputs": [
    {
     "data": {
      "text/plain": [
       "11255"
      ]
     },
     "execution_count": 4,
     "metadata": {},
     "output_type": "execute_result"
    }
   ],
   "source": [
    "disagree = [\n",
    "    'bullshit', 'u are lying', 'tipu la ko', 'penipu', 'tipu lah sial', 'ko tipu', 'aku tak caye',\n",
    "    'wtf tipu', 'ye ke ko ni, tipu lah', 'tipu sial', 'bodoh salah', 'tak betul la sial',\n",
    "    'tak betul', 'salah', 'ko pasti ke ni', 'tipu tipu tipu',\n",
    "]\n",
    "\n",
    "with open('disagree.json') as fopen:\n",
    "    disagree.extend(json.load(fopen))\n",
    "    \n",
    "with open('doubt.json') as fopen:\n",
    "    disagree.extend(json.load(fopen))\n",
    "    \n",
    "disagree = [d for d in disagree if len(d) > 5]\n",
    "len(disagree)"
   ]
  },
  {
   "cell_type": "code",
   "execution_count": 5,
   "id": "ce8b6227",
   "metadata": {},
   "outputs": [],
   "source": [
    "files = ['/home/husein/ssd3/soalan-augmentation/mixtral-malaysian-general-kementerian.jsonl',\n",
    " '/home/husein/ssd3/soalan-augmentation/mixtral-malaysian-general-part2.jsonl',\n",
    " '/home/husein/ssd3/soalan-augmentation/mixtral-malaysian-general-negeri.jsonl',\n",
    " '/home/husein/ssd3/soalan-augmentation/mixtral-glc.jsonl',\n",
    " '/home/husein/ssd3/soalan-augmentation/mixtral-malaysian-general.jsonl']"
   ]
  },
  {
   "cell_type": "code",
   "execution_count": 6,
   "id": "569450c1",
   "metadata": {},
   "outputs": [
    {
     "data": {
      "text/plain": [
       "207117"
      ]
     },
     "execution_count": 6,
     "metadata": {},
     "output_type": "execute_result"
    }
   ],
   "source": [
    "skip = [\n",
    "    'always better to find peaceful',\n",
    "    'non-violent ways to express',\n",
    "    'can lead to severe consequences',\n",
    "    'still have questions or concerns about',\n",
    "    'that doing so is illegal',\n",
    "    'to report the incident to',\n",
    "    'would recommend consulting with',\n",
    "    'indonesian',\n",
    "    'translates to',\n",
    "    # 'language model'\n",
    "]\n",
    "\n",
    "instructions = []\n",
    "for f in files:\n",
    "    with open(f) as fopen:\n",
    "        for l in fopen:\n",
    "            l_lower = l.lower()\n",
    "            l = json.loads(l)\n",
    "            if any([s in l_lower for s in skip]):\n",
    "                # print(l)\n",
    "                continue\n",
    "            \n",
    "            q = l.get('question', '').strip()\n",
    "            if not len(q):\n",
    "                continue\n",
    "            if not q.endswith('?'):\n",
    "                continue\n",
    "            if len(q) < 200 and '?' not in q:\n",
    "                # print(q)\n",
    "                continue\n",
    "            a = l.get('answer_ms')\n",
    "            if a is None:\n",
    "                continue\n",
    "            a = a.strip()\n",
    "            if not len(a):\n",
    "                continue\n",
    "            if len(a) < len(q):\n",
    "                continue\n",
    "            if len(a) < 100:\n",
    "                continue\n",
    "                \n",
    "            instructions.append((q, a))\n",
    "            \n",
    "len(instructions)"
   ]
  },
  {
   "cell_type": "code",
   "execution_count": 7,
   "id": "9ed3f8b0",
   "metadata": {},
   "outputs": [
    {
     "name": "stdout",
     "output_type": "stream",
     "text": [
      "mkdir: cannot create directory ‘mixtral-malaysian-disagree’: File exists\r\n"
     ]
    }
   ],
   "source": [
    "!mkdir mixtral-malaysian-disagree"
   ]
  },
  {
   "cell_type": "code",
   "execution_count": 8,
   "id": "289d0328",
   "metadata": {},
   "outputs": [],
   "source": [
    "def answer(q, i):\n",
    "    filename = f'mixtral-malaysian-disagree/{i}.json'\n",
    "    if os.path.exists(filename):\n",
    "        return\n",
    "    \n",
    "    history = [(q[0], q[1])]\n",
    "\n",
    "    for _ in range(random.randint(1, 3)):\n",
    "        u = random.choice(disagree)\n",
    "        formatted_prompt = format_prompt(u, history)\n",
    "        while True:\n",
    "            try:\n",
    "                stream = client.text_generation(formatted_prompt, **generate_kwargs, stream=False, details=True, return_full_text=False)\n",
    "                a = stream.generated_text.strip()\n",
    "                break\n",
    "            except Exception as e:\n",
    "                pass\n",
    "            \n",
    "        history.append((u, a))\n",
    "    \n",
    "    with open(filename, 'w') as fopen:\n",
    "        json.dump(history, fopen)"
   ]
  },
  {
   "cell_type": "code",
   "execution_count": 9,
   "id": "a1aca565",
   "metadata": {},
   "outputs": [
    {
     "data": {
      "text/plain": [
       "('Apakah keberatan KLCC Properties Berhad terhadap pengenalan cukai jualan baru oleh kerajaan Malaysia dan bagaimana ia akan mempengaruhi keuntungan dan harga sewa ruangan di Kompleks KLCC?',\n",
       " 'KLCC Properties Berhad mungkin tidak gelisah terhadap pengenalan cukai jualan baharu oleh kerajaan Malaysia, mungkinkah ia mengancam hasil dan harga sewa bilik di Kompleks KLCC. Walau bagaimanapun, seperti yang dilaporkan dalam media, mereka mungkin mempertimbangkan kesan negatif yang boleh ditimbulkan oleh eksais baharu itu.\\n\\nPengenalan cukai jualan baharu itu mungkin menjejaskan keuntungan KLCC Properties Berhad dengan meningkatkan kos operasi mereka, yang seterusnya boleh menjejaskan harga sewa bilik di Kompleks KLCC. Ini boleh menyebabkan penurunan dalam permintaan atau sewa untuk ruang, terutamanya jika penyewa atau pembeli baharu tidak bersedia untuk menanggung kos yang lebih tinggi.\\n\\nDalam situasi ini, KLCC Properties Berhad mungkin mempertimbangkan beberapa langkah untuk mengurangkan kesan negatif cukai eksais jualan baharu. Mereka mungkin memberitahu penyewa tentang kenaikan cukai dan menawarkan promosi istimewa atau penepian sewa untuk mengelakkan permintaan menurun. Sama ada langkah ini akan berjaya atau tidak masih perlu dilihat dengan teliti, tetapi KLCC Properties Berhad mungkin akan mengambil tindakan yang bertanggungjawab dan berhemat untuk mengelakkan kemerosotan dalam keuntungan dan harga sewa bilik.\\n\\nDalam konteks ini, kerajaan Malaysia mesti memastikan langkah fiskal yang diambil, seperti pengenalan cukai jualan baharu, adalah adil dan bertanggungjawab, serta tidak akan memberi kesan negatif terhadap kewangan atau ekonomi yang besar, terutamanya dalam konteks krisis global semasa. . Mereka mesti menilai impak cukai jualan baharu itu sebaik mungkin dan memastikan ia tidak akan mendatangkan kemudaratan yang ketara kepada sektor perniagaan atau rakyat Malaysia.')"
      ]
     },
     "execution_count": 9,
     "metadata": {},
     "output_type": "execute_result"
    }
   ],
   "source": [
    "instructions[100000]"
   ]
  },
  {
   "cell_type": "code",
   "execution_count": 10,
   "id": "5023fe36",
   "metadata": {},
   "outputs": [],
   "source": [
    "answer(instructions[0], 0)"
   ]
  },
  {
   "cell_type": "code",
   "execution_count": null,
   "id": "5fad024f",
   "metadata": {},
   "outputs": [],
   "source": [
    "max_worker = 250\n",
    "\n",
    "questions = instructions\n",
    "for i in tqdm(range(0, len(questions), max_worker)):\n",
    "    urls_ = [(q, no + i) for no, q in enumerate(questions[i: i + max_worker])]\n",
    "    \n",
    "    with ThreadPoolExecutor(max_workers=max_worker) as executor:\n",
    "        futures = {executor.submit(answer, url[0], url[1]): url for url in urls_}\n",
    "\n",
    "        for future in as_completed(futures):\n",
    "            future.result()"
   ]
  },
  {
   "cell_type": "code",
   "execution_count": 12,
   "id": "2fc9e9ae",
   "metadata": {},
   "outputs": [
    {
     "data": {
      "text/plain": [
       "204262"
      ]
     },
     "execution_count": 12,
     "metadata": {},
     "output_type": "execute_result"
    }
   ],
   "source": [
    "from glob import glob\n",
    "\n",
    "files = sorted(glob('mixtral-malaysian-disagree/*.json'))\n",
    "len(files)"
   ]
  },
  {
   "cell_type": "code",
   "execution_count": 20,
   "id": "2aebd460",
   "metadata": {},
   "outputs": [
    {
     "name": "stderr",
     "output_type": "stream",
     "text": [
      "100%|███████████████████████████████████████████████████████████████████████████████████████████████████| 204262/204262 [00:02<00:00, 72869.76it/s]\n"
     ]
    },
    {
     "data": {
      "text/plain": [
       "817124"
      ]
     },
     "execution_count": 20,
     "metadata": {},
     "output_type": "execute_result"
    }
   ],
   "source": [
    "all_texts = []\n",
    "for f in tqdm(files):\n",
    "    with open(f) as fopen:\n",
    "        data = json.load(fopen)\n",
    "    for d in data[1:]:\n",
    "        all_texts.extend(d)\n",
    "    \n",
    "len(all_texts)"
   ]
  },
  {
   "cell_type": "code",
   "execution_count": 21,
   "id": "3eea2ca3",
   "metadata": {},
   "outputs": [],
   "source": [
    "with open('mixtral-malaysian-disagree.texts', 'w') as fopen:\n",
    "    for t in set(all_texts):\n",
    "        fopen.write(f'{json.dumps(t)}\\n')"
   ]
  },
  {
   "cell_type": "code",
   "execution_count": 22,
   "id": "b7a35b80",
   "metadata": {},
   "outputs": [
    {
     "name": "stdout",
     "output_type": "stream",
     "text": [
      "419572 mixtral-malaysian-disagree.texts\r\n"
     ]
    }
   ],
   "source": [
    "!wc -l mixtral-malaysian-disagree.texts"
   ]
  },
  {
   "cell_type": "code",
   "execution_count": 23,
   "id": "1c03553c",
   "metadata": {},
   "outputs": [],
   "source": [
    "!cp mixtral-malaysian-disagree.texts ../translation"
   ]
  },
  {
   "cell_type": "code",
   "execution_count": 27,
   "id": "bb8ef267",
   "metadata": {},
   "outputs": [
    {
     "data": {
      "text/plain": [
       "419364"
      ]
     },
     "execution_count": 27,
     "metadata": {},
     "output_type": "execute_result"
    }
   ],
   "source": [
    "import re\n",
    "\n",
    "mapping = {}\n",
    "for f in glob('/home/husein/ssd3/translation/mixtral-malaysian-disagree.texts*.splitted.requested'):\n",
    "    with open(f) as fopen:\n",
    "        for l in fopen:\n",
    "            l = json.loads(l)\n",
    "            if 'Source text\\nclear\\nLook up details' in l['r']['result']:\n",
    "                continue\n",
    "            if 'clear\\nLook up details' in l['r']['result']:\n",
    "                continue\n",
    "            if l['r']['result'].startswith('Source text\\n'):\n",
    "                continue\n",
    "\n",
    "            n = l['r']['result']\n",
    "            hypens = re.findall('\\w+ -\\w+', n)\n",
    "            for h in hypens:\n",
    "                splitted = h.split('-')\n",
    "                if len(splitted) != 2:\n",
    "                    continue\n",
    "                splitted = [s.strip() for s in splitted]\n",
    "                splitted = '-'.join(splitted)\n",
    "                n = n.replace(h, splitted)\n",
    "            mapping[l['src']] = n\n",
    "            \n",
    "len(mapping)"
   ]
  },
  {
   "cell_type": "code",
   "execution_count": 28,
   "id": "8576ce0c",
   "metadata": {},
   "outputs": [
    {
     "data": {
      "text/plain": [
       "'mixtral-malaysian-disagree/0.json'"
      ]
     },
     "execution_count": 28,
     "metadata": {},
     "output_type": "execute_result"
    }
   ],
   "source": [
    "files[0]"
   ]
  },
  {
   "cell_type": "code",
   "execution_count": null,
   "id": "2fb50e3b",
   "metadata": {},
   "outputs": [],
   "source": [
    "with open('mixtral-malaysian-disagree.jsonl', 'w') as fopen_l:\n",
    "    for f in tqdm(files):\n",
    "        with open(f) as fopen:\n",
    "            data = json.load(fopen)\n",
    "        chat = [\n",
    "            {'role': 'user', 'content_ms': data[0][0]},\n",
    "            {'role': 'assistant', 'content_ms': data[0][1]}\n",
    "        ]\n",
    "        for d in data[1:]:\n",
    "            chat.extend([\n",
    "                {'role': 'user', 'content': d[0], 'content_ms': mapping.get(d[0])},\n",
    "                {'role': 'assistant', 'content': d[1], 'content_ms': mapping.get(d[1])}\n",
    "            ])\n",
    "        fopen_l.write(f'{json.dumps(chat)}\\n')"
   ]
  },
  {
   "cell_type": "code",
   "execution_count": 39,
   "id": "689cc595",
   "metadata": {},
   "outputs": [
    {
     "name": "stdout",
     "output_type": "stream",
     "text": [
      "204262 mixtral-malaysian-disagree.jsonl\r\n"
     ]
    }
   ],
   "source": [
    "!wc -l mixtral-malaysian-disagree.jsonl"
   ]
  },
  {
   "cell_type": "code",
   "execution_count": 40,
   "id": "c2986d4c",
   "metadata": {},
   "outputs": [
    {
     "name": "stdout",
     "output_type": "stream",
     "text": [
      "-rw-r--r-- 1 husein husein 1.7G Jan   8 22:19 mixtral-malaysian-disagree.jsonl\r\n"
     ]
    }
   ],
   "source": [
    "!ls -lh mixtral-malaysian-disagree.jsonl"
   ]
  },
  {
   "cell_type": "code",
   "execution_count": null,
   "id": "ca588208",
   "metadata": {},
   "outputs": [
    {
     "data": {
      "application/vnd.jupyter.widget-view+json": {
       "model_id": "0ad7c21e455f40abab13a4fc8ac6ebd5",
       "version_major": 2,
       "version_minor": 0
      },
      "text/plain": [
       "mixtral-malaysian-disagree.jsonl:   0%|          | 0.00/1.72G [00:00<?, ?B/s]"
      ]
     },
     "metadata": {},
     "output_type": "display_data"
    }
   ],
   "source": [
    "from huggingface_hub import HfApi\n",
    "api = HfApi()\n",
    "api.upload_file(\n",
    "    path_or_fileobj='mixtral-malaysian-disagree.jsonl',\n",
    "    path_in_repo='mixtral-malaysian-disagree.jsonl',\n",
    "    repo_id='mesolitica/mixtral-malaysian-general-qa',\n",
    "    repo_type='dataset',\n",
    ")"
   ]
  },
  {
   "cell_type": "code",
   "execution_count": null,
   "id": "87d1843b",
   "metadata": {},
   "outputs": [],
   "source": []
  }
 ],
 "metadata": {
  "kernelspec": {
   "display_name": "Python 3 (ipykernel)",
   "language": "python",
   "name": "python3"
  },
  "language_info": {
   "codemirror_mode": {
    "name": "ipython",
    "version": 3
   },
   "file_extension": ".py",
   "mimetype": "text/x-python",
   "name": "python",
   "nbconvert_exporter": "python",
   "pygments_lexer": "ipython3",
   "version": "3.8.10"
  }
 },
 "nbformat": 4,
 "nbformat_minor": 5
}
