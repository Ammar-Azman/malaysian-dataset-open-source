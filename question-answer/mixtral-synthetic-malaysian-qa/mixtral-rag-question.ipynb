{
 "cells": [
  {
   "cell_type": "code",
   "execution_count": 1,
   "id": "03975148",
   "metadata": {},
   "outputs": [
    {
     "name": "stderr",
     "output_type": "stream",
     "text": [
      "/home/husein/.local/lib/python3.8/site-packages/requests/__init__.py:102: RequestsDependencyWarning: urllib3 (1.26.15) or chardet (5.2.0)/charset_normalizer (2.0.7) doesn't match a supported version!\n",
      "  warnings.warn(\"urllib3 ({}) or chardet ({})/charset_normalizer ({}) doesn't match a supported \"\n"
     ]
    }
   ],
   "source": [
    "from huggingface_hub import InferenceClient\n",
    "from tqdm import tqdm\n",
    "import os\n",
    "import json"
   ]
  },
  {
   "cell_type": "code",
   "execution_count": 2,
   "id": "398a8dd3",
   "metadata": {},
   "outputs": [],
   "source": [
    "from concurrent.futures import ThreadPoolExecutor, as_completed\n",
    "\n",
    "generate_kwargs = dict(\n",
    "    temperature=1.0,\n",
    "    max_new_tokens=4096,\n",
    "    top_p=0.95,\n",
    "    repetition_penalty=1.0,\n",
    "    do_sample=True,\n",
    ")"
   ]
  },
  {
   "cell_type": "code",
   "execution_count": 3,
   "id": "d0d8a44e",
   "metadata": {},
   "outputs": [],
   "source": [
    "client = InferenceClient(\n",
    "    \"\", timeout = 120\n",
    ")\n",
    "\n",
    "\n",
    "def format_prompt(message, history):\n",
    "  prompt = \"<s>\"\n",
    "  for user_prompt, bot_response in history:\n",
    "    prompt += f\"[INST] {user_prompt} [/INST]\"\n",
    "    prompt += f\" {bot_response}</s> \"\n",
    "  prompt += f\"[INST] {message} [/INST]\"\n",
    "  return prompt"
   ]
  },
  {
   "cell_type": "code",
   "execution_count": 4,
   "id": "69b71f25",
   "metadata": {},
   "outputs": [
    {
     "name": "stdout",
     "output_type": "stream",
     "text": [
      "mkdir: cannot create directory ‘mixtral-conversation-disagree’: File exists\r\n"
     ]
    }
   ],
   "source": [
    "!mkdir mixtral-conversation-disagree\n",
    "# !rm mixtral-factual-wrong-v2/*.json"
   ]
  },
  {
   "cell_type": "code",
   "execution_count": 5,
   "id": "94007fb7",
   "metadata": {},
   "outputs": [],
   "source": [
    "# !wget https://huggingface.co/datasets/malaysia-ai/dedup-text-dataset/resolve/main/amanz.jsonl\n",
    "# !wget https://huggingface.co/datasets/malaysia-ai/dedup-text-dataset/resolve/main/asklegal.jsonl\n",
    "# !wget https://huggingface.co/datasets/malaysia-ai/dedup-text-dataset/resolve/main/autobuzz.jsonl\n",
    "# !wget https://huggingface.co/datasets/malaysia-ai/dedup-text-dataset/resolve/main/bidadari.jsonl\n",
    "# !wget https://huggingface.co/datasets/malaysia-ai/dedup-text-dataset/resolve/main/blog.limkitsiang.com.jsonl\n",
    "# !wget https://huggingface.co/datasets/malaysia-ai/dedup-text-dataset/resolve/main/blogtipskerjaya.net.jsonl\n",
    "# !wget https://huggingface.co/datasets/malaysia-ai/dedup-text-dataset/resolve/main/buro247.jsonl\n",
    "# !wget https://huggingface.co/datasets/malaysia-ai/dedup-text-dataset/resolve/main/doctoroncall.jsonl\n",
    "# !wget https://huggingface.co/datasets/malaysia-ai/dedup-text-dataset/resolve/main/ecentral.my.jsonl\n",
    "# !wget https://huggingface.co/datasets/malaysia-ai/dedup-text-dataset/resolve/main/gov.my.jsonl\n",
    "# !wget https://huggingface.co/datasets/malaysia-ai/dedup-text-dataset/resolve/main/majalahsains.jsonl\n",
    "# !wget https://huggingface.co/datasets/malaysia-ai/dedup-text-dataset/resolve/main/majalahpama.my.jsonl\n",
    "# !wget https://huggingface.co/datasets/malaysia-ai/dedup-text-dataset/resolve/main/mygameon.my.jsonl\n",
    "# !wget https://huggingface.co/datasets/malaysia-ai/dedup-text-dataset/resolve/main/nasilemaktech.com.jsonl\n",
    "# !wget https://huggingface.co/datasets/malaysia-ai/dedup-text-dataset/resolve/main/pokde.net.jsonl\n",
    "# !wget https://huggingface.co/datasets/malaysia-ai/dedup-text-dataset/resolve/main/patriots.jsonl\n",
    "# !wget https://huggingface.co/datasets/malaysia-ai/dedup-text-dataset/resolve/main/ringgitohringgit.com.jsonl\n",
    "# !wget https://huggingface.co/datasets/malaysia-ai/dedup-text-dataset/resolve/main/rootofscience.jsonl\n",
    "# !wget https://huggingface.co/datasets/malaysia-ai/dedup-text-dataset/resolve/main/sukanz.jsonl\n",
    "# !wget https://huggingface.co/datasets/malaysia-ai/dedup-text-dataset/resolve/main/vocket.jsonl\n",
    "# !wget https://huggingface.co/datasets/malaysia-ai/dedup-text-dataset/resolve/main/alhijrahnews-articles.jsonl\n",
    "# !wget https://huggingface.co/datasets/malaysia-ai/dedup-text-dataset/resolve/main/dewanbahasa-jdbp.jsonl\n",
    "# !wget https://huggingface.co/datasets/malaysia-ai/dedup-text-dataset/resolve/main/e-penerbitan.jsonl\n",
    "# !wget https://huggingface.co/datasets/malaysia-ai/dedup-text-dataset/resolve/main/fiksyenshasha.jsonl\n",
    "# !wget https://huggingface.co/datasets/malaysia-ai/dedup-text-dataset/resolve/main/edu.my.jsonl\n",
    "# !wget https://huggingface.co/datasets/malaysia-ai/dedup-text-dataset/resolve/main/hansard.jsonl"
   ]
  },
  {
   "cell_type": "code",
   "execution_count": 6,
   "id": "14535364",
   "metadata": {},
   "outputs": [],
   "source": [
    "files = [\n",
    "    'amanz.jsonl',\n",
    "    'asklegal.jsonl',\n",
    "    'autobuzz.jsonl',\n",
    "    'bidadari.jsonl',\n",
    "    'blog.limkitsiang.com.jsonl',\n",
    "    'blogtipskerjaya.net.jsonl',\n",
    "    'buro247.jsonl',\n",
    "    'doctoroncall.jsonl',\n",
    "    'ecentral.my.jsonl',\n",
    "    'gov.my.jsonl',\n",
    "    'majalahsains.jsonl',\n",
    "    'majalahpama.my.jsonl',\n",
    "    'mygameon.my.jsonl',\n",
    "    'nasilemaktech.com.jsonl',\n",
    "    'pokde.net.jsonl',\n",
    "    'patriots.jsonl',\n",
    "    'ringgitohringgit.com.jsonl',\n",
    "    'rootofscience.jsonl',\n",
    "    'sukanz.jsonl',\n",
    "    'vocket.jsonl',\n",
    "    'alhijrahnews-articles.jsonl',\n",
    "    'dewanbahasa-jdbp.jsonl',\n",
    "    'e-penerbitan.jsonl',\n",
    "    'fiksyenshasha.jsonl',\n",
    "    'edu.my.jsonl',\n",
    "    'hansard.jsonl'\n",
    "]"
   ]
  },
  {
   "cell_type": "code",
   "execution_count": 7,
   "id": "b3b73785",
   "metadata": {},
   "outputs": [
    {
     "data": {
      "text/plain": [
       "379790"
      ]
     },
     "execution_count": 7,
     "metadata": {},
     "output_type": "execute_result"
    }
   ],
   "source": [
    "texts = []\n",
    "for f in files:\n",
    "    with open(f) as fopen:\n",
    "        for l in fopen:\n",
    "            l = json.loads(l)\n",
    "            if len(l.split()) < 150:\n",
    "                continue\n",
    "            texts.append(l)\n",
    "len(texts)"
   ]
  },
  {
   "cell_type": "code",
   "execution_count": 8,
   "id": "4aa36de3",
   "metadata": {},
   "outputs": [
    {
     "data": {
      "text/plain": [
       "379790"
      ]
     },
     "execution_count": 8,
     "metadata": {},
     "output_type": "execute_result"
    }
   ],
   "source": [
    "prompts = []\n",
    "for t in texts:\n",
    "    prompt = f'{t}\\n\\ngenerate questions based on context above'\n",
    "    prompts.extend([(t, prompt)] * 1)\n",
    "    \n",
    "len(prompts)"
   ]
  },
  {
   "cell_type": "code",
   "execution_count": 9,
   "id": "9917ddaa",
   "metadata": {},
   "outputs": [
    {
     "name": "stdout",
     "output_type": "stream",
     "text": [
      "mkdir: cannot create directory ‘mixtral-disagree-conversation’: File exists\r\n"
     ]
    }
   ],
   "source": [
    "!mkdir mixtral-disagree-conversation"
   ]
  },
  {
   "cell_type": "code",
   "execution_count": 10,
   "id": "212d93ff",
   "metadata": {},
   "outputs": [],
   "source": [
    "def answer(q, i):\n",
    "    filename = f'mixtral-disagree-conversation/{i}.json'\n",
    "    if os.path.exists(filename):\n",
    "        return\n",
    "    \n",
    "    while True:\n",
    "        try:\n",
    "            prompt = q[1]\n",
    "            formatted_prompt = format_prompt(prompt, [])\n",
    "            stream = client.text_generation(formatted_prompt, **generate_kwargs, stream=False, details=True, return_full_text=False)\n",
    "            output = stream.generated_text\n",
    "            with open(filename, 'w') as fopen:\n",
    "                json.dump((q[0], output), fopen)\n",
    "            break\n",
    "        except Exception as e:\n",
    "            print(e)\n",
    "            pass"
   ]
  },
  {
   "cell_type": "code",
   "execution_count": null,
   "id": "78c94afe",
   "metadata": {},
   "outputs": [
    {
     "name": "stderr",
     "output_type": "stream",
     "text": [
      " 12%|████████████▎                                                                                           | 897/7596 [17:55<75:07:18, 40.37s/it]"
     ]
    },
    {
     "name": "stdout",
     "output_type": "stream",
     "text": [
      "504 Server Error: Gateway Time-out for url: https://mixtral.us-west-2.mesolitica.com/\n",
      "504 Server Error: Gateway Time-out for url: https://mixtral.us-west-2.mesolitica.com/\n"
     ]
    },
    {
     "name": "stderr",
     "output_type": "stream",
     "text": [
      " 13%|█████████████▏                                                                                          | 963/7596 [45:31<44:14:54, 24.02s/it]"
     ]
    },
    {
     "name": "stdout",
     "output_type": "stream",
     "text": [
      "504 Server Error: Gateway Time-out for url: https://mixtral.us-west-2.mesolitica.com/\n"
     ]
    },
    {
     "name": "stderr",
     "output_type": "stream",
     "text": [
      " 13%|█████████████▏                                                                                          | 964/7596 [46:51<75:24:52, 40.94s/it]"
     ]
    },
    {
     "name": "stdout",
     "output_type": "stream",
     "text": [
      "(ProtocolError('Connection aborted.', RemoteDisconnected('Remote end closed connection without response')), '(Request ID: 7008219e-8fa2-45e6-a4bc-1915e0695bf6)')\n"
     ]
    },
    {
     "name": "stderr",
     "output_type": "stream",
     "text": [
      " 13%|█████████████▏                                                                                          | 967/7596 [48:14<65:17:32, 35.46s/it]"
     ]
    },
    {
     "name": "stdout",
     "output_type": "stream",
     "text": [
      "504 Server Error: Gateway Time-out for url: https://mixtral.us-west-2.mesolitica.com/\n"
     ]
    },
    {
     "name": "stderr",
     "output_type": "stream",
     "text": [
      " 14%|█████████████▉                                                                                       | 1045/7596 [1:17:35<50:16:50, 27.63s/it]"
     ]
    },
    {
     "name": "stdout",
     "output_type": "stream",
     "text": [
      "504 Server Error: Gateway Time-out for url: https://mixtral.us-west-2.mesolitica.com/\n"
     ]
    },
    {
     "name": "stderr",
     "output_type": "stream",
     "text": [
      " 14%|█████████████▉                                                                                       | 1047/7596 [1:19:16<64:52:40, 35.66s/it]"
     ]
    },
    {
     "name": "stdout",
     "output_type": "stream",
     "text": [
      "504 Server Error: Gateway Time-out for url: https://mixtral.us-west-2.mesolitica.com/\n"
     ]
    },
    {
     "name": "stderr",
     "output_type": "stream",
     "text": [
      " 14%|██████████████▏                                                                                      | 1071/7596 [1:29:01<38:03:31, 21.00s/it]"
     ]
    },
    {
     "name": "stdout",
     "output_type": "stream",
     "text": [
      "504 Server Error: Gateway Time-out for url: https://mixtral.us-west-2.mesolitica.com/\n"
     ]
    },
    {
     "name": "stderr",
     "output_type": "stream",
     "text": [
      " 14%|██████████████▎                                                                                      | 1072/7596 [1:30:27<73:31:25, 40.57s/it]"
     ]
    },
    {
     "name": "stdout",
     "output_type": "stream",
     "text": [
      "(ProtocolError('Connection aborted.', RemoteDisconnected('Remote end closed connection without response')), '(Request ID: 00931e72-74db-4e49-88a6-c882012c579b)')\n",
      "(ProtocolError('Connection aborted.', RemoteDisconnected('Remote end closed connection without response')), '(Request ID: fa199cd1-7b31-44ec-8d95-9cecc6847d50)')\n"
     ]
    },
    {
     "name": "stderr",
     "output_type": "stream",
     "text": [
      " 19%|███████████████████▎                                                                                 | 1457/7596 [3:39:20<27:26:28, 16.09s/it]"
     ]
    },
    {
     "name": "stdout",
     "output_type": "stream",
     "text": [
      "504 Server Error: Gateway Time-out for url: https://mixtral.us-west-2.mesolitica.com/\n"
     ]
    },
    {
     "name": "stderr",
     "output_type": "stream",
     "text": [
      " 25%|█████████████████████████▏                                                                           | 1896/7596 [6:05:06<31:01:03, 19.59s/it]"
     ]
    },
    {
     "name": "stdout",
     "output_type": "stream",
     "text": [
      "504 Server Error: Gateway Time-out for url: https://mixtral.us-west-2.mesolitica.com/\n"
     ]
    },
    {
     "name": "stderr",
     "output_type": "stream",
     "text": [
      " 26%|█████████████████████████▊                                                                           | 1942/7596 [6:21:57<26:43:58, 17.02s/it]"
     ]
    }
   ],
   "source": [
    "max_worker = 50\n",
    "\n",
    "questions = prompts\n",
    "for i in tqdm(range(0, len(questions), max_worker)):\n",
    "    urls_ = [(q, no + i) for no, q in enumerate(questions[i: i + max_worker])]\n",
    "    \n",
    "    with ThreadPoolExecutor(max_workers=max_worker) as executor:\n",
    "        futures = {executor.submit(answer, url[0], url[1]): url for url in urls_}\n",
    "\n",
    "        for future in as_completed(futures):\n",
    "            future.result()"
   ]
  },
  {
   "cell_type": "code",
   "execution_count": null,
   "id": "1d9e6841",
   "metadata": {},
   "outputs": [],
   "source": []
  }
 ],
 "metadata": {
  "kernelspec": {
   "display_name": "Python 3 (ipykernel)",
   "language": "python",
   "name": "python3"
  },
  "language_info": {
   "codemirror_mode": {
    "name": "ipython",
    "version": 3
   },
   "file_extension": ".py",
   "mimetype": "text/x-python",
   "name": "python",
   "nbconvert_exporter": "python",
   "pygments_lexer": "ipython3",
   "version": "3.8.10"
  }
 },
 "nbformat": 4,
 "nbformat_minor": 5
}
