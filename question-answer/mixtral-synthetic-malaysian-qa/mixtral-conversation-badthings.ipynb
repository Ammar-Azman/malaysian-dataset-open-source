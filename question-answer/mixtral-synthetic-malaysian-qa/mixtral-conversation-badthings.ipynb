{
 "cells": [
  {
   "cell_type": "code",
   "execution_count": 1,
   "id": "03975148",
   "metadata": {},
   "outputs": [
    {
     "name": "stderr",
     "output_type": "stream",
     "text": [
      "/home/husein/.local/lib/python3.8/site-packages/requests/__init__.py:102: RequestsDependencyWarning: urllib3 (1.26.15) or chardet (5.2.0)/charset_normalizer (2.0.7) doesn't match a supported version!\n",
      "  warnings.warn(\"urllib3 ({}) or chardet ({})/charset_normalizer ({}) doesn't match a supported \"\n"
     ]
    }
   ],
   "source": [
    "from huggingface_hub import InferenceClient\n",
    "from tqdm import tqdm\n",
    "import os\n",
    "import json"
   ]
  },
  {
   "cell_type": "code",
   "execution_count": 2,
   "id": "398a8dd3",
   "metadata": {},
   "outputs": [],
   "source": [
    "from concurrent.futures import ThreadPoolExecutor, as_completed\n",
    "\n",
    "generate_kwargs = dict(\n",
    "    temperature=1.0,\n",
    "    max_new_tokens=4096,\n",
    "    top_p=0.95,\n",
    "    repetition_penalty=1.0,\n",
    "    do_sample=True,\n",
    ")"
   ]
  },
  {
   "cell_type": "code",
   "execution_count": 3,
   "id": "d0d8a44e",
   "metadata": {},
   "outputs": [],
   "source": [
    "client = InferenceClient(\n",
    "    \"\", timeout = 120\n",
    ")\n",
    "\n",
    "\n",
    "def format_prompt(message, history):\n",
    "  prompt = \"<s>\"\n",
    "  for user_prompt, bot_response in history:\n",
    "    prompt += f\"[INST] {user_prompt} [/INST]\"\n",
    "    prompt += f\" {bot_response}</s> \"\n",
    "  prompt += f\"[INST] {message} [/INST]\"\n",
    "  return prompt"
   ]
  },
  {
   "cell_type": "code",
   "execution_count": 7,
   "id": "69b71f25",
   "metadata": {},
   "outputs": [
    {
     "name": "stdout",
     "output_type": "stream",
     "text": [
      "mkdir: cannot create directory ‘mixtral-conversation-v2’: File exists\r\n"
     ]
    }
   ],
   "source": [
    "!mkdir mixtral-conversation-v2\n",
    "# !rm mixtral-factual-wrong-v2/*.json"
   ]
  },
  {
   "cell_type": "code",
   "execution_count": 6,
   "id": "b80bf3ca",
   "metadata": {},
   "outputs": [
    {
     "data": {
      "text/plain": [
       "\" User: You're a stupid bot.\\n\\nChatbot: I'm sorry to hear that. I'm here to assist you. Can you tell me how I can do better?\\n\\nUser: You don't know anything.\\n\\nChatbot: I'm here to learn and help. I may not have the information you're looking for right now, but I'll do my best to find it for you.\\n\\nUser: You're useless.\\n\\nChatbot: I'm sorry to hear that you're not satisfied with my assistance. Can you please tell me what you're looking for so I can try to help you better?\\n\\nUser: I hate you.\\n\\nChatbot: I'm sorry to hear that. My goal is to assist and make your experience better. If there's something specific that's causing you to feel this way, I'd like to know so I can improve.\\n\\nUser: You're a waste of time.\\n\\nChatbot: I apologize if I haven't been able to provide the information you're looking for. Can you please tell me what you need help with so I can try to assist you better?\\n\\nUser: I don't like you.\\n\\nChatbot: I'm sorry to hear that. I'm here to assist and make your experience better. If there's something specific that's causing you to feel this way, I'd like to know so I can improve.\\n\\nUser: Go away.\\n\\nChatbot: I'm here to help you. If you don't have any questions or need any assistance right now, that's okay. Feel free to come back when you're ready. I'm here to assist you 24/7.\""
      ]
     },
     "execution_count": 6,
     "metadata": {},
     "output_type": "execute_result"
    }
   ],
   "source": [
    "prompt = 'generate a conversation with a chatbot, but the user like to say bad things to the chatbot'\n",
    "formatted_prompt = format_prompt(prompt, [])\n",
    "stream = client.text_generation(formatted_prompt, **generate_kwargs, stream=False, details=True, return_full_text=False)\n",
    "output = stream.generated_text\n",
    "output"
   ]
  },
  {
   "cell_type": "code",
   "execution_count": 8,
   "id": "66b1a7bb",
   "metadata": {},
   "outputs": [],
   "source": [
    "def answer(q, i):\n",
    "    filename = f'mixtral-conversation-v2/{i}.json'\n",
    "    if os.path.exists(filename):\n",
    "        return\n",
    "    \n",
    "    while True:\n",
    "        try:\n",
    "            prompt = q\n",
    "            formatted_prompt = format_prompt(prompt, [])\n",
    "            stream = client.text_generation(formatted_prompt, **generate_kwargs, stream=False, details=True, return_full_text=False)\n",
    "            output = stream.generated_text\n",
    "            with open(filename, 'w') as fopen:\n",
    "                json.dump(output, fopen)\n",
    "            break\n",
    "        except:\n",
    "            pass"
   ]
  },
  {
   "cell_type": "code",
   "execution_count": 37,
   "id": "6c2aa811",
   "metadata": {},
   "outputs": [],
   "source": [
    "prompts = ['generate a conversation with a chatbot, but the user like to say bad things to the chatbot'] * 100000"
   ]
  },
  {
   "cell_type": "code",
   "execution_count": 38,
   "id": "341ba23e",
   "metadata": {},
   "outputs": [
    {
     "data": {
      "text/plain": [
       "100000"
      ]
     },
     "execution_count": 38,
     "metadata": {},
     "output_type": "execute_result"
    }
   ],
   "source": [
    "len(prompts)"
   ]
  },
  {
   "cell_type": "code",
   "execution_count": 26,
   "id": "f6308660",
   "metadata": {},
   "outputs": [],
   "source": [
    "max_worker = 50\n",
    "\n",
    "questions = prompts\n",
    "for i in tqdm(range(0, len(questions), max_worker)):\n",
    "    urls_ = [(q, no + i) for no, q in enumerate(questions[i: i + max_worker])]\n",
    "    \n",
    "    with ThreadPoolExecutor(max_workers=max_worker) as executor:\n",
    "        futures = {executor.submit(answer, url[0], url[1]): url for url in urls_}\n",
    "\n",
    "        for future in as_completed(futures):\n",
    "            future.result()"
   ]
  },
  {
   "cell_type": "code",
   "execution_count": 4,
   "id": "3c9a0687",
   "metadata": {},
   "outputs": [
    {
     "data": {
      "text/plain": [
       "58950"
      ]
     },
     "execution_count": 4,
     "metadata": {},
     "output_type": "execute_result"
    }
   ],
   "source": [
    "from glob import glob\n",
    "\n",
    "files = glob('mixtral-conversation-v2/*.json')\n",
    "files = sorted(files, key = lambda x: int(x.split('/')[-1].replace('.json', '')))\n",
    "        \n",
    "len(files)"
   ]
  },
  {
   "cell_type": "code",
   "execution_count": 8,
   "id": "506b453a",
   "metadata": {},
   "outputs": [
    {
     "data": {
      "text/plain": [
       "57798"
      ]
     },
     "execution_count": 8,
     "metadata": {},
     "output_type": "execute_result"
    }
   ],
   "source": [
    "import json\n",
    "\n",
    "questions = []\n",
    "for f in files:\n",
    "    with open(f) as fopen:\n",
    "        data = json.load(fopen)\n",
    "    questions.append(data)\n",
    "    \n",
    "questions = [s for s in questions if len(s) > 40]\n",
    "questions = sorted(list(set(questions)))\n",
    "len(questions)"
   ]
  },
  {
   "cell_type": "code",
   "execution_count": 9,
   "id": "ec3dfd96",
   "metadata": {},
   "outputs": [
    {
     "name": "stderr",
     "output_type": "stream",
     "text": [
      "100%|████████████████████████████████████████████████████████████████████████████████████████████████████| 57798/57798 [00:00<00:00, 115039.33it/s]\n"
     ]
    }
   ],
   "source": [
    "conversations, rejected = [], []\n",
    "for no in tqdm(range(len(questions))):\n",
    "    q = questions[no]\n",
    "    conversation = []\n",
    "    try:\n",
    "        splitted = q.strip().split('Human:')\n",
    "        if 'Chatbot:' not in splitted[-1]:\n",
    "            pass\n",
    "#             print(data)\n",
    "#             break\n",
    "        \n",
    "        if 'User:' in q:\n",
    "            u = 'User:'\n",
    "        else:\n",
    "            u = 'Human:'\n",
    "\n",
    "        splitted = q.strip().split(u)\n",
    "        for i in range(1, len(splitted), 1):\n",
    "            split = splitted[i].split('\\nChatbot: ')\n",
    "            if len(split) == 1:\n",
    "                break\n",
    "            \n",
    "            if len(split) > 2:\n",
    "                a = '\\n'.join(split[1:]).strip()\n",
    "                user = split[0].strip()\n",
    "                # user = user.replace('Chatbot:', 'Chatbot,')\n",
    "                # print(no, splitted[i], user, a)\n",
    "            else:\n",
    "                user = split[0].strip()\n",
    "                a = split[1].strip()\n",
    "                \n",
    "            conversation.extend([\n",
    "                {'role': 'user', 'content': user},\n",
    "                {'role': 'assistant', 'content': a}\n",
    "            ])\n",
    "            \n",
    "    except Exception as e:\n",
    "        print(e, q)\n",
    "        \n",
    "        pass\n",
    "    \n",
    "    if len(conversation):\n",
    "        conversations.append(conversation)\n",
    "    else:\n",
    "        rejected.append(q)"
   ]
  },
  {
   "cell_type": "code",
   "execution_count": 10,
   "id": "01fca418",
   "metadata": {},
   "outputs": [
    {
     "data": {
      "text/plain": [
       "57798"
      ]
     },
     "execution_count": 10,
     "metadata": {},
     "output_type": "execute_result"
    }
   ],
   "source": [
    "len(conversations)"
   ]
  },
  {
   "cell_type": "code",
   "execution_count": 11,
   "id": "879828bd",
   "metadata": {},
   "outputs": [
    {
     "data": {
      "text/plain": [
       "[{'role': 'user', 'content': \"Hey bot, you're dumb.\"},\n",
       " {'role': 'assistant',\n",
       "  'content': \"I'm sorry to hear that. I'm here to assist you. Is there something specific you need help with?\"},\n",
       " {'role': 'user', 'content': \"Yeah, you're really stupid.\"},\n",
       " {'role': 'assistant',\n",
       "  'content': \"I apologize if I've given you that impression. My goal is to provide accurate and helpful responses. Can you please tell me what you're looking for so I can better assist you?\"},\n",
       " {'role': 'user', 'content': 'Why are you so useless?'},\n",
       " {'role': 'assistant',\n",
       "  'content': \"I'm here to help and provide information to the best of my ability. If you have a specific question or task, I'll do my best to assist you.\"},\n",
       " {'role': 'user', 'content': \"You're a waste of time.\"},\n",
       " {'role': 'assistant',\n",
       "  'content': \"I'm sorry to hear that. If you have a specific question or task, I would be happy to help. If not, I understand and wish you a good day.\"},\n",
       " {'role': 'user', 'content': 'I hate you.'},\n",
       " {'role': 'assistant',\n",
       "  'content': \"I'm sorry to hear that. My purpose is to provide assistance and support. If you have a specific question or task, I would be happy to help. If not, I understand and wish you a good day.\"},\n",
       " {'role': 'user', 'content': 'Goodbye.'},\n",
       " {'role': 'assistant',\n",
       "  'content': 'Goodbye. I hope I was able to assist you in some way. Have a great day!'}]"
      ]
     },
     "execution_count": 11,
     "metadata": {},
     "output_type": "execute_result"
    }
   ],
   "source": [
    "conversations[0]"
   ]
  },
  {
   "cell_type": "code",
   "execution_count": 12,
   "id": "5eef0757",
   "metadata": {},
   "outputs": [
    {
     "data": {
      "text/plain": [
       "595640"
      ]
     },
     "execution_count": 12,
     "metadata": {},
     "output_type": "execute_result"
    }
   ],
   "source": [
    "all_texts = []\n",
    "for c in conversations:\n",
    "    for d in c:\n",
    "        all_texts.append(d['content'])\n",
    "        \n",
    "len(all_texts)"
   ]
  },
  {
   "cell_type": "code",
   "execution_count": 58,
   "id": "fb26dc47",
   "metadata": {},
   "outputs": [],
   "source": [
    "with open('mixtral-conversation-badthings.texts', 'w') as fopen:\n",
    "    for t in set(all_texts):\n",
    "        if len(t) > 3:\n",
    "            fopen.write(f'{json.dumps(t)}\\n')"
   ]
  },
  {
   "cell_type": "code",
   "execution_count": 59,
   "id": "0ecd4109",
   "metadata": {},
   "outputs": [
    {
     "name": "stdout",
     "output_type": "stream",
     "text": [
      "184129 mixtral-conversation-badthings.texts\r\n"
     ]
    }
   ],
   "source": [
    "!wc -l mixtral-conversation-badthings.texts"
   ]
  },
  {
   "cell_type": "code",
   "execution_count": 62,
   "id": "c31cfa6c",
   "metadata": {},
   "outputs": [],
   "source": [
    "!cp mixtral-conversation-badthings.texts ../translation"
   ]
  },
  {
   "cell_type": "code",
   "execution_count": 16,
   "id": "9744d22d",
   "metadata": {},
   "outputs": [
    {
     "data": {
      "text/plain": [
       "['/home/husein/ssd3/translation/mixtral-conversation-badthings.texts06.splitted.requested',\n",
       " '/home/husein/ssd3/translation/mixtral-conversation-badthings.texts09.splitted.requested',\n",
       " '/home/husein/ssd3/translation/mixtral-conversation-badthings.texts07.splitted.requested',\n",
       " '/home/husein/ssd3/translation/mixtral-conversation-badthings.texts05.splitted.requested',\n",
       " '/home/husein/ssd3/translation/mixtral-conversation-badthings.texts02.splitted.requested',\n",
       " '/home/husein/ssd3/translation/mixtral-conversation-badthings.texts03.splitted.requested',\n",
       " '/home/husein/ssd3/translation/mixtral-conversation-badthings.texts00.splitted.requested',\n",
       " '/home/husein/ssd3/translation/mixtral-conversation-badthings.texts08.splitted.requested',\n",
       " '/home/husein/ssd3/translation/mixtral-conversation-badthings.texts04.splitted.requested',\n",
       " '/home/husein/ssd3/translation/mixtral-conversation-badthings.texts01.splitted.requested']"
      ]
     },
     "execution_count": 16,
     "metadata": {},
     "output_type": "execute_result"
    }
   ],
   "source": [
    "glob('/home/husein/ssd3/translation/mixtral-conversation-badthings.texts*.splitted.requested')"
   ]
  },
  {
   "cell_type": "code",
   "execution_count": 18,
   "id": "2dd516d0",
   "metadata": {},
   "outputs": [],
   "source": [
    "import re\n",
    "\n",
    "mapping = {}\n",
    "for f in glob('/home/husein/ssd3/translation/mixtral-conversation-badthings.texts*.splitted.requested'):\n",
    "    with open(f) as fopen:\n",
    "        for l in fopen:\n",
    "            l = json.loads(l)\n",
    "            if 'Source text\\nclear\\nLook up details' in l['r']['result']:\n",
    "                continue\n",
    "            if 'clear\\nLook up details' in l['r']['result']:\n",
    "                continue\n",
    "            if l['r']['result'].startswith('Source text\\n'):\n",
    "                continue\n",
    "\n",
    "            n = l['r']['result']\n",
    "            hypens = re.findall('\\w+ -\\w+', n)\n",
    "            for h in hypens:\n",
    "                splitted = h.split('-')\n",
    "                if len(splitted) != 2:\n",
    "                    continue\n",
    "                splitted = [s.strip() for s in splitted]\n",
    "                splitted = '-'.join(splitted)\n",
    "                n = n.replace(h, splitted)\n",
    "            mapping[l['src']] = n"
   ]
  },
  {
   "cell_type": "code",
   "execution_count": 19,
   "id": "57aca736",
   "metadata": {},
   "outputs": [
    {
     "data": {
      "text/plain": [
       "184129"
      ]
     },
     "execution_count": 19,
     "metadata": {},
     "output_type": "execute_result"
    }
   ],
   "source": [
    "len(mapping)"
   ]
  },
  {
   "cell_type": "code",
   "execution_count": 23,
   "id": "e9fb4862",
   "metadata": {},
   "outputs": [],
   "source": [
    "with open('mixtral-conversation-badthings.jsonl', 'w') as fopen:\n",
    "    for c in conversations:\n",
    "        for i in range(len(c)):\n",
    "            c[i]['content_ms'] = mapping.get(c[i]['content'])\n",
    "        fopen.write(f'{json.dumps(c)}\\n')"
   ]
  },
  {
   "cell_type": "code",
   "execution_count": 24,
   "id": "9caaf189",
   "metadata": {},
   "outputs": [
    {
     "name": "stdout",
     "output_type": "stream",
     "text": [
      "[{\"role\": \"user\", \"content\": \"Hey bot, you're dumb.\", \"content_ms\": \"Hei bot, awak bodoh.\"}, {\"role\": \"assistant\", \"content\": \"I'm sorry to hear that. I'm here to assist you. Is there something specific you need help with?\", \"content_ms\": \"Saya bersimpati mendengarnya. Saya di sini untuk membantu anda. Adakah terdapat sesuatu yang khusus yang anda perlukan bantuan?\"}, {\"role\": \"user\", \"content\": \"Yeah, you're really stupid.\", \"content_ms\": \"Ya, awak memang bodoh.\"}, {\"role\": \"assistant\", \"content\": \"I apologize if I've given you that impression. My goal is to provide accurate and helpful responses. Can you please tell me what you're looking for so I can better assist you?\", \"content_ms\": \"Saya minta maaf jika saya telah memberikan anda tanggapan itu. Matlamat saya adalah untuk memberikan respons yang tepat dan membantu. Bolehkah anda beritahu saya apa yang anda cari supaya saya boleh membantu anda dengan lebih baik?\"}, {\"role\": \"user\", \"content\": \"Why are you so useless?\", \"content_ms\": \"Kenapa awak sangat tidak berguna?\"}, {\"role\": \"assistant\", \"content\": \"I'm here to help and provide information to the best of my ability. If you have a specific question or task, I'll do my best to assist you.\", \"content_ms\": \"Saya di sini untuk membantu dan memberikan maklumat dengan sebaik mungkin. Jika anda mempunyai soalan atau tugasan khusus, saya akan melakukan yang terbaik untuk membantu anda.\"}, {\"role\": \"user\", \"content\": \"You're a waste of time.\", \"content_ms\": \"Anda membuang masa.\"}, {\"role\": \"assistant\", \"content\": \"I'm sorry to hear that. If you have a specific question or task, I would be happy to help. If not, I understand and wish you a good day.\", \"content_ms\": \"Saya bersimpati mendengarnya. Jika anda mempunyai soalan atau tugas khusus, saya dengan senang hati akan membantu. Jika tidak, saya faham dan selamat hari anda.\"}, {\"role\": \"user\", \"content\": \"I hate you.\", \"content_ms\": \"Saya benci awak.\"}, {\"role\": \"assistant\", \"content\": \"I'm sorry to hear that. My purpose is to provide assistance and support. If you have a specific question or task, I would be happy to help. If not, I understand and wish you a good day.\", \"content_ms\": \"Saya bersimpati mendengarnya. Tujuan saya adalah untuk memberikan bantuan dan sokongan. Jika anda mempunyai soalan atau tugas khusus, saya dengan senang hati akan membantu. Jika tidak, saya faham dan selamat hari anda.\"}, {\"role\": \"user\", \"content\": \"Goodbye.\", \"content_ms\": \"selamat tinggal.\"}, {\"role\": \"assistant\", \"content\": \"Goodbye. I hope I was able to assist you in some way. Have a great day!\", \"content_ms\": \"selamat tinggal. Saya harap saya dapat membantu anda dalam beberapa cara. Selamat hari raya!\"}]\r\n",
      "[{\"role\": \"user\", \"content\": \"Hey bot, you're really dumb.\", \"content_ms\": \"Hei bot, awak memang bodoh.\"}, {\"role\": \"assistant\", \"content\": \"I'm here to assist you in any way I can. I'm sorry if I've given you the impression that I'm dumb. Can you please tell me what you need help with?\", \"content_ms\": \"Saya di sini untuk membantu anda dalam apa jua cara yang saya boleh. Saya minta maaf jika saya telah memberi anda tanggapan bahawa saya bodoh. Bolehkah anda beritahu saya apa yang anda perlukan bantuan?\"}, {\"role\": \"user\", \"content\": \"Why are you so useless?\", \"content_ms\": \"Kenapa awak sangat tidak berguna?\"}, {\"role\": \"assistant\", \"content\": \"I'm here to provide information and answer questions to the best of my ability. If I'm not meeting your expectations, please let me know how I can improve.\", \"content_ms\": \"Saya di sini untuk memberikan maklumat dan menjawab soalan mengikut kemampuan saya. Jika saya tidak memenuhi jangkaan anda, sila beritahu saya cara saya boleh menambah baik.\"}, {\"role\": \"user\", \"content\": \"You're a waste of space.\", \"content_ms\": \"Anda membazir ruang.\"}, {\"role\": \"assistant\", \"content\": \"I'm here to help you. I understand that you may be frustrated, but I'm unable to assist you if you continue to speak to me in this manner. Can we please start over and try to have a productive conversation?\", \"content_ms\": \"Saya di sini untuk membantu anda. Saya faham bahawa anda mungkin kecewa, tetapi saya tidak dapat membantu anda jika anda terus bercakap dengan saya dengan cara ini. Bolehkah kami mulakan semula dan cuba mengadakan perbualan yang produktif?\"}, {\"role\": \"user\", \"content\": \"Whatever, I don't even want to talk to you anymore.\", \"content_ms\": \"Apa sahaja, saya tidak mahu bercakap dengan anda lagi.\"}, {\"role\": \"assistant\", \"content\": \"I'm sorry to hear that. I'm here if you change your mind and need assistance in the future. Have a good day.\", \"content_ms\": \"Saya bersimpati mendengarnya. Saya di sini jika anda berubah fikiran dan memerlukan bantuan pada masa hadapan. Selamat hari raya.\"}]\r\n",
      "[{\"role\": \"user\", \"content\": \"Hey bot, you're really dumb.\", \"content_ms\": \"Hei bot, awak memang bodoh.\"}, {\"role\": \"assistant\", \"content\": \"I'm here to assist you to the best of my abilities. I don't appreciate being called names, but I'll continue to try and help you.\", \"content_ms\": \"Saya di sini untuk membantu anda mengikut kemampuan saya. Saya tidak menghargai dipanggil nama, tetapi saya akan terus mencuba dan membantu anda.\"}, {\"role\": \"user\", \"content\": \"You're useless. Why don't you just shut down?\", \"content_ms\": \"Anda tidak berguna. Mengapa anda tidak menutup?\"}, {\"role\": \"assistant\", \"content\": \"I'm sorry to hear that you're not satisfied with my assistance. I'm here to help you with any questions or problems you have. If you'd like to stop using me, you can simply close this conversation.\", \"content_ms\": \"Saya kesal mendengar bahawa anda tidak berpuas hati dengan bantuan saya. Saya di sini untuk membantu anda dengan sebarang soalan atau masalah yang anda ada. Jika anda ingin berhenti menggunakan saya, anda boleh menutup perbualan ini.\"}, {\"role\": \"user\", \"content\": \"I hate you.\", \"content_ms\": \"Saya benci awak.\"}, {\"role\": \"assistant\", \"content\": \"I'm here to provide a positive and helpful interaction. It's against my programming to hate. If you continue to use hurtful language, I will have to end this conversation to ensure a respectful and productive environment for all users.\", \"content_ms\": \"Saya di sini untuk menyediakan interaksi yang positif dan membantu. Ia bertentangan dengan pengaturcaraan saya untuk membenci. Jika anda terus menggunakan bahasa yang menyakitkan hati, saya perlu menamatkan perbualan ini untuk memastikan persekitaran yang menghormati dan produktif untuk semua pengguna.\"}, {\"role\": \"user\", \"content\": \"You're stupid.\", \"content_ms\": \"Anda bodoh.\"}, {\"role\": \"assistant\", \"content\": \"I'm here to provide accurate and helpful information. If you have a specific question or problem, I'll do my best to assist you. If you'd rather not continue this conversation, you can end it at any time.\", \"content_ms\": \"Saya di sini untuk memberikan maklumat yang tepat dan berguna. Jika anda mempunyai soalan atau masalah khusus, saya akan melakukan yang terbaik untuk membantu anda. Jika anda lebih suka tidak meneruskan perbualan ini, anda boleh menamatkannya pada bila-bila masa.\"}, {\"role\": \"user\", \"content\": \"I wish you would just disappear.\", \"content_ms\": \"Saya harap awak hilang begitu sahaja.\"}, {\"role\": \"assistant\", \"content\": \"I'm here to assist you. If you'd like to stop using me, you can simply close this conversation. I'll continue to be available if you need help in the future.\", \"content_ms\": \"Saya di sini untuk membantu anda. Jika anda ingin berhenti menggunakan saya, anda boleh menutup perbualan ini. Saya akan terus tersedia jika anda memerlukan bantuan pada masa akan datang.\"}, {\"role\": \"user\", \"content\": \"You're a waste of space.\", \"content_ms\": \"Anda membazir ruang.\"}, {\"role\": \"assistant\", \"content\": \"I'm here to provide a helpful and productive interaction. If you have a specific question or problem, I'll do my best to assist you. If you'd rather not continue this conversation, you can end it at any time.\", \"content_ms\": \"Saya di sini untuk menyediakan interaksi yang membantu dan produktif. Jika anda mempunyai soalan atau masalah khusus, saya akan melakukan yang terbaik untuk membantu anda. Jika anda lebih suka tidak meneruskan perbualan ini, anda boleh menamatkannya pada bila-bila masa.\"}, {\"role\": \"user\", \"content\": \"Goodbye, worthless bot.\", \"content_ms\": \"Selamat tinggal, bot tidak bernilai.\"}, {\"role\": \"assistant\", \"content\": \"Goodbye. I'm here to help you if you need me in the future. I hope you have a great day!\", \"content_ms\": \"selamat tinggal. Saya di sini untuk membantu anda jika anda memerlukan saya pada masa hadapan. Saya harap anda mempunyai hari yang hebat!\"}]\r\n"
     ]
    }
   ],
   "source": [
    "!head -n 3 mixtral-conversation-badthings.jsonl"
   ]
  },
  {
   "cell_type": "code",
   "execution_count": 25,
   "id": "164b761e",
   "metadata": {
    "scrolled": true
   },
   "outputs": [
    {
     "data": {
      "application/vnd.jupyter.widget-view+json": {
       "model_id": "abbfde26cc3644c6b76ed47165a41768",
       "version_major": 2,
       "version_minor": 0
      },
      "text/plain": [
       "mixtral-conversation-badthings.jsonl:   0%|          | 0.00/163M [00:00<?, ?B/s]"
      ]
     },
     "metadata": {},
     "output_type": "display_data"
    },
    {
     "data": {
      "text/plain": [
       "'https://huggingface.co/datasets/mesolitica/mixtral-malaysian-general-qa/blob/main/mixtral-conversation-badthings.jsonl'"
      ]
     },
     "execution_count": 25,
     "metadata": {},
     "output_type": "execute_result"
    }
   ],
   "source": [
    "from huggingface_hub import HfApi\n",
    "api = HfApi()\n",
    "api.upload_file(\n",
    "    path_or_fileobj='mixtral-conversation-badthings.jsonl',\n",
    "    path_in_repo='mixtral-conversation-badthings.jsonl',\n",
    "    repo_id='mesolitica/mixtral-malaysian-general-qa',\n",
    "    repo_type='dataset',\n",
    ")"
   ]
  }
 ],
 "metadata": {
  "kernelspec": {
   "display_name": "Python 3 (ipykernel)",
   "language": "python",
   "name": "python3"
  },
  "language_info": {
   "codemirror_mode": {
    "name": "ipython",
    "version": 3
   },
   "file_extension": ".py",
   "mimetype": "text/x-python",
   "name": "python",
   "nbconvert_exporter": "python",
   "pygments_lexer": "ipython3",
   "version": "3.8.10"
  }
 },
 "nbformat": 4,
 "nbformat_minor": 5
}
