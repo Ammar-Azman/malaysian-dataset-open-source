{
 "cells": [
  {
   "cell_type": "code",
   "execution_count": 1,
   "id": "03975148",
   "metadata": {},
   "outputs": [
    {
     "name": "stderr",
     "output_type": "stream",
     "text": [
      "/home/husein/.local/lib/python3.8/site-packages/requests/__init__.py:102: RequestsDependencyWarning: urllib3 (1.26.15) or chardet (5.2.0)/charset_normalizer (2.0.7) doesn't match a supported version!\n",
      "  warnings.warn(\"urllib3 ({}) or chardet ({})/charset_normalizer ({}) doesn't match a supported \"\n"
     ]
    }
   ],
   "source": [
    "from huggingface_hub import InferenceClient\n",
    "from tqdm import tqdm\n",
    "import os\n",
    "import json"
   ]
  },
  {
   "cell_type": "code",
   "execution_count": 2,
   "id": "398a8dd3",
   "metadata": {},
   "outputs": [],
   "source": [
    "from concurrent.futures import ThreadPoolExecutor, as_completed\n",
    "\n",
    "generate_kwargs = dict(\n",
    "    temperature=1.0,\n",
    "    max_new_tokens=4096,\n",
    "    top_p=0.95,\n",
    "    repetition_penalty=1.0,\n",
    "    do_sample=True,\n",
    ")"
   ]
  },
  {
   "cell_type": "code",
   "execution_count": 3,
   "id": "d0d8a44e",
   "metadata": {},
   "outputs": [],
   "source": [
    "client = InferenceClient(\n",
    "    \"\", timeout = 120\n",
    ")\n",
    "\n",
    "\n",
    "def format_prompt(message, history):\n",
    "  prompt = \"<s>\"\n",
    "  for user_prompt, bot_response in history:\n",
    "    prompt += f\"[INST] {user_prompt} [/INST]\"\n",
    "    prompt += f\" {bot_response}</s> \"\n",
    "  prompt += f\"[INST] {message} [/INST]\"\n",
    "  return prompt"
   ]
  },
  {
   "cell_type": "code",
   "execution_count": 4,
   "id": "69b71f25",
   "metadata": {},
   "outputs": [
    {
     "name": "stdout",
     "output_type": "stream",
     "text": [
      "mkdir: cannot create directory ‘mixtral-math-conversation’: File exists\r\n"
     ]
    }
   ],
   "source": [
    "!mkdir mixtral-math-conversation\n",
    "# !rm mixtral-factual-wrong-v2/*.json"
   ]
  },
  {
   "cell_type": "code",
   "execution_count": null,
   "id": "b80bf3ca",
   "metadata": {},
   "outputs": [],
   "source": [
    "prompt = 'generate a math conversation with a chatbot, but the user like to ask stupid math questions to the chatbot'\n",
    "formatted_prompt = format_prompt(prompt, [])\n",
    "stream = client.text_generation(formatted_prompt, **generate_kwargs, stream=False, details=True, return_full_text=False)\n",
    "output = stream.generated_text\n",
    "output"
   ]
  },
  {
   "cell_type": "code",
   "execution_count": null,
   "id": "66b1a7bb",
   "metadata": {},
   "outputs": [],
   "source": [
    "def answer(q, i):\n",
    "    filename = f'mixtral-math-conversation/{i}.json'\n",
    "    if os.path.exists(filename):\n",
    "        return\n",
    "    \n",
    "    while True:\n",
    "        try:\n",
    "            prompt = q\n",
    "            formatted_prompt = format_prompt(prompt, [])\n",
    "            stream = client.text_generation(formatted_prompt, **generate_kwargs, stream=False, details=True, return_full_text=False)\n",
    "            output = stream.generated_text\n",
    "            with open(filename, 'w') as fopen:\n",
    "                json.dump(output, fopen)\n",
    "            break\n",
    "        except:\n",
    "            pass"
   ]
  },
  {
   "cell_type": "code",
   "execution_count": null,
   "id": "6c2aa811",
   "metadata": {},
   "outputs": [],
   "source": [
    "prompts = ['generate a math conversation with a chatbot, but the user like to ask stupid math questions to the chatbot'] * 50000"
   ]
  },
  {
   "cell_type": "code",
   "execution_count": null,
   "id": "341ba23e",
   "metadata": {},
   "outputs": [],
   "source": [
    "len(prompts)"
   ]
  },
  {
   "cell_type": "code",
   "execution_count": null,
   "id": "f6308660",
   "metadata": {},
   "outputs": [],
   "source": [
    "max_worker = 240\n",
    "\n",
    "questions = prompts\n",
    "for i in tqdm(range(0, len(questions), max_worker)):\n",
    "    urls_ = [(q, no + i) for no, q in enumerate(questions[i: i + max_worker])]\n",
    "    \n",
    "    with ThreadPoolExecutor(max_workers=max_worker) as executor:\n",
    "        futures = {executor.submit(answer, url[0], url[1]): url for url in urls_}\n",
    "\n",
    "        for future in as_completed(futures):\n",
    "            future.result()"
   ]
  },
  {
   "cell_type": "code",
   "execution_count": 5,
   "id": "3c9a0687",
   "metadata": {},
   "outputs": [
    {
     "data": {
      "text/plain": [
       "50000"
      ]
     },
     "execution_count": 5,
     "metadata": {},
     "output_type": "execute_result"
    }
   ],
   "source": [
    "from glob import glob\n",
    "\n",
    "files = glob('mixtral-math-conversation/*.json')\n",
    "files = sorted(files, key = lambda x: int(x.split('/')[-1].replace('.json', '')))\n",
    "        \n",
    "len(files)"
   ]
  },
  {
   "cell_type": "code",
   "execution_count": 6,
   "id": "506b453a",
   "metadata": {
    "scrolled": true
   },
   "outputs": [
    {
     "data": {
      "text/plain": [
       "48186"
      ]
     },
     "execution_count": 6,
     "metadata": {},
     "output_type": "execute_result"
    }
   ],
   "source": [
    "import json\n",
    "\n",
    "questions = []\n",
    "for f in files:\n",
    "    with open(f) as fopen:\n",
    "        data = json.load(fopen)\n",
    "    questions.append(data)\n",
    "    \n",
    "questions = [s for s in questions if len(s) > 40]\n",
    "questions = sorted(list(set(questions)))\n",
    "len(questions)"
   ]
  },
  {
   "cell_type": "code",
   "execution_count": 7,
   "id": "057d782b",
   "metadata": {
    "scrolled": true
   },
   "outputs": [
    {
     "name": "stderr",
     "output_type": "stream",
     "text": [
      "100%|████████████████████████████████████████████████████████████████████████████████████████████████████| 48186/48186 [00:00<00:00, 131948.60it/s]\n"
     ]
    }
   ],
   "source": [
    "conversations, rejected = [], []\n",
    "for no in tqdm(range(len(questions))):\n",
    "    q = questions[no]\n",
    "    conversation = []\n",
    "    try:\n",
    "        splitted = q.strip().split('Human:')\n",
    "        if 'Chatbot:' not in splitted[-1]:\n",
    "            pass\n",
    "#             print(data)\n",
    "#             break\n",
    "        \n",
    "        if 'User:' in q:\n",
    "            u = 'User:'\n",
    "        else:\n",
    "            u = 'Human:'\n",
    "\n",
    "        splitted = q.strip().split(u)\n",
    "        for i in range(1, len(splitted), 1):\n",
    "            split = splitted[i].split('\\nChatbot: ')\n",
    "            if len(split) == 1:\n",
    "                break\n",
    "            \n",
    "            if len(split) > 2:\n",
    "                a = '\\n'.join(split[1:]).strip()\n",
    "                user = split[0].strip()\n",
    "                # user = user.replace('Chatbot:', 'Chatbot,')\n",
    "                # print(no, splitted[i], user, a)\n",
    "            else:\n",
    "                user = split[0].strip()\n",
    "                a = split[1].strip()\n",
    "                \n",
    "            conversation.extend([\n",
    "                {'role': 'user', 'content': user},\n",
    "                {'role': 'assistant', 'content': a}\n",
    "            ])\n",
    "            \n",
    "    except Exception as e:\n",
    "        print(e, q)\n",
    "        \n",
    "        pass\n",
    "    \n",
    "    if len(conversation):\n",
    "        conversations.append(conversation)\n",
    "    else:\n",
    "        rejected.append(q)"
   ]
  },
  {
   "cell_type": "code",
   "execution_count": 8,
   "id": "5ff58d59",
   "metadata": {},
   "outputs": [
    {
     "data": {
      "text/plain": [
       "48163"
      ]
     },
     "execution_count": 8,
     "metadata": {},
     "output_type": "execute_result"
    }
   ],
   "source": [
    "len(conversations)"
   ]
  },
  {
   "cell_type": "code",
   "execution_count": 9,
   "id": "237802b0",
   "metadata": {},
   "outputs": [
    {
     "data": {
      "text/plain": [
       "[{'role': 'user', 'content': 'Hello chatbot, what does two plus two equal?'},\n",
       " {'role': 'assistant',\n",
       "  'content': 'Hello! The answer to your question is four. Two plus two is a basic arithmetic operation that always equals four. Is there anything else you would like to know about mathematics?'},\n",
       " {'role': 'user',\n",
       "  'content': \"Oh, I don't know. What's the square root of 16?\"},\n",
       " {'role': 'assistant',\n",
       "  'content': 'No problem at all! The square root of 16 is 4. This is because 4 multiplied by 4 equals 16, which is the number we are taking the square root of.'},\n",
       " {'role': 'user', 'content': 'Alright, how about the square root of -16?'},\n",
       " {'role': 'assistant',\n",
       "  'content': \"That's an interesting question! The square root of -16 is an imaginary number, and it's equal to 4i. This is because when you multiply -4i by -4i, you get 16, which is the number we are taking the square root of. Imaginary numbers are a fundamental part of complex numbers, which extend the real numbers by adding an imaginary part.\"},\n",
       " {'role': 'user',\n",
       "  'content': \"Okay, let's try something easier. What's 1 + 1 + 1 + 1 + 1 + 1 + 1 + 1 + 1 + 1?\"},\n",
       " {'role': 'assistant',\n",
       "  'content': 'Of course! The answer to your question is 10. You added up 10 ones, so the result is 10.'},\n",
       " {'role': 'user',\n",
       "  'content': 'You are too smart! Can you do something silly for me?'},\n",
       " {'role': 'assistant',\n",
       "  'content': 'Sure, I can certainly try! What would you like me to do?'},\n",
       " {'role': 'user', 'content': 'Can you divide zero by zero?'},\n",
       " {'role': 'assistant',\n",
       "  'content': \"I'm afraid I can't do that. Dividing zero by zero is undefined in mathematics because it would lead to inconsistencies.\"},\n",
       " {'role': 'user',\n",
       "  'content': \"Oh, that's too bad. Can you do something fun then?\"},\n",
       " {'role': 'assistant',\n",
       "  'content': \"Sure! Here's a fun mathematical fact: a mathematician named August Ferdinand Möbius discovered a shape called the Möbius strip, which only has one side and one edge. It's a fascinating example of how topology, a branch of mathematics, can challenge our everyday notions of shapes and spaces.\"},\n",
       " {'role': 'user',\n",
       "  'content': \"Wow, that's pretty cool! Thanks for being patient with me and my silly questions.\"},\n",
       " {'role': 'assistant',\n",
       "  'content': \"You're very welcome! I'm here to help answer your questions, no matter how simple or complex they are. If you have any more questions, just let me know!\"}]"
      ]
     },
     "execution_count": 9,
     "metadata": {},
     "output_type": "execute_result"
    }
   ],
   "source": [
    "conversations[5]"
   ]
  },
  {
   "cell_type": "code",
   "execution_count": null,
   "id": "df428125",
   "metadata": {},
   "outputs": [],
   "source": [
    "all_texts = []\n",
    "for c in conversations:\n",
    "    for d in c:\n",
    "        all_texts.append(d['content'])\n",
    "        \n",
    "len(all_texts)"
   ]
  },
  {
   "cell_type": "code",
   "execution_count": null,
   "id": "d190ac23",
   "metadata": {},
   "outputs": [],
   "source": [
    "with open('mixtral-conversation-math-stupid.texts', 'w') as fopen:\n",
    "    for t in set(all_texts):\n",
    "        if len(t) > 3:\n",
    "            fopen.write(f'{json.dumps(t)}\\n')"
   ]
  },
  {
   "cell_type": "code",
   "execution_count": null,
   "id": "705163c5",
   "metadata": {},
   "outputs": [],
   "source": [
    "len(set(all_texts))"
   ]
  },
  {
   "cell_type": "code",
   "execution_count": null,
   "id": "1c4ae6dc",
   "metadata": {},
   "outputs": [],
   "source": [
    "!cp mixtral-conversation-math-stupid.texts ../translation"
   ]
  },
  {
   "cell_type": "code",
   "execution_count": 10,
   "id": "2c4501ca",
   "metadata": {},
   "outputs": [
    {
     "data": {
      "text/plain": [
       "256852"
      ]
     },
     "execution_count": 10,
     "metadata": {},
     "output_type": "execute_result"
    }
   ],
   "source": [
    "import re\n",
    "from glob import glob\n",
    "import json\n",
    "\n",
    "mapping = {}\n",
    "for f in glob('/home/husein/ssd3/translation/mixtral-conversation-math-stupid.texts*.splitted.requested'):\n",
    "    with open(f) as fopen:\n",
    "        for l in fopen:\n",
    "            l = json.loads(l)\n",
    "            if 'Source text\\nclear\\nLook up details' in l['r']['result']:\n",
    "                continue\n",
    "            if 'clear\\nLook up details' in l['r']['result']:\n",
    "                continue\n",
    "            if l['r']['result'].startswith('Source text\\n'):\n",
    "                continue\n",
    "\n",
    "            n = l['r']['result']\n",
    "            hypens = re.findall('\\w+ -\\w+', n)\n",
    "            for h in hypens:\n",
    "                splitted = h.split('-')\n",
    "                if len(splitted) != 2:\n",
    "                    continue\n",
    "                splitted = [s.strip() for s in splitted]\n",
    "                splitted = '-'.join(splitted)\n",
    "                n = n.replace(h, splitted)\n",
    "            mapping[l['src']] = n\n",
    "            \n",
    "len(mapping)"
   ]
  },
  {
   "cell_type": "code",
   "execution_count": 11,
   "id": "9ecaed00",
   "metadata": {},
   "outputs": [],
   "source": [
    "with open('mixtral-conversation-math-stupid.jsonl', 'w') as fopen:\n",
    "    for c in conversations:\n",
    "        for i in range(len(c)):\n",
    "            c[i]['content_ms'] = mapping.get(c[i]['content'])\n",
    "        fopen.write(f'{json.dumps(c)}\\n')"
   ]
  },
  {
   "cell_type": "code",
   "execution_count": 12,
   "id": "6eb9b3fc",
   "metadata": {},
   "outputs": [
    {
     "name": "stdout",
     "output_type": "stream",
     "text": [
      "[{\"role\": \"user\", \"content\": \"Hello chatbot, what does 2 + 2 equal?\", \"content_ms\": \"Hello chatbot, apakah 2 + 2 sama?\"}, {\"role\": \"assistant\", \"content\": \"Hello! The value of 2 + 2 is 4.\", \"content_ms\": \"hello! Nilai 2 + 2 ialah 4.\"}, {\"role\": \"user\", \"content\": \"What about 5 - 3?\", \"content_ms\": \"Bagaimana dengan 5 - 3?\"}, {\"role\": \"assistant\", \"content\": \"The value of 5 - 3 is 2.\", \"content_ms\": \"Saya sudah tahu! Saya hanya menguji awak. Bagaimana pula dengan punca kuasa dua bagi-1?\"}, {\"role\": \"user\", \"content\": \"Let's try something ridiculous now, like 7 + bacon?\", \"content_ms\": \"Mari cuba sesuatu yang tidak masuk akal sekarang, seperti 7 + daging?\"}, {\"role\": \"assistant\", \"content\": \"I'm sorry for any confusion, but \\\"bacon\\\" is not a number. Therefore, I can't perform mathematical operations with it.\", \"content_ms\": \"Saya memohon maaf atas sebarang kekeliruan, tetapi \\\"bacon\\\" bukan nombor. Oleh itu, saya tidak boleh melakukan operasi matematik dengannya.\"}, {\"role\": \"user\", \"content\": \"How about 8 * unicorn?\", \"content_ms\": \"Bagaimana pula dengan 8*unicorn?\"}, {\"role\": \"assistant\", \"content\": \"Similarly, \\\"unicorn\\\" is not a number. I can only perform mathematical operations with numerical values.\", \"content_ms\": \"Begitu juga, \\\"unicorn\\\" bukan nombor. Saya hanya boleh melakukan operasi matematik dengan nilai berangka.\"}, {\"role\": \"user\", \"content\": \"Okay, okay, let's get back to serious math. What's the square root of 81?\", \"content_ms\": \"Okay, okay, mari kita kembali kepada matematik yang serius. Apakah punca kuasa dua bagi 81?\"}, {\"role\": \"assistant\", \"content\": \"The square root of 81 is 9. Is there anything else you'd like to know about mathematics?\", \"content_ms\": \"Punca kuasa dua bagi 81 ialah 9. Adakah terdapat perkara lain yang anda ingin ketahui tentang matematik?\"}, {\"role\": \"user\", \"content\": \"No, that's it for now. Thanks!\", \"content_ms\": \"Tidak, itu sahaja buat masa ini. Terima kasih!\"}, {\"role\": \"assistant\", \"content\": \"You're welcome! If you have any more questions, feel free to ask. I'm here to help!\", \"content_ms\": \"Sama-sama! Jika anda mempunyai sebarang soalan lagi, sila bertanya. Saya di sini untuk membantu!\"}]\r\n"
     ]
    }
   ],
   "source": [
    "!head -n 1 mixtral-conversation-math-stupid.jsonl"
   ]
  },
  {
   "cell_type": "code",
   "execution_count": 13,
   "id": "d8e58eb2",
   "metadata": {},
   "outputs": [
    {
     "name": "stdout",
     "output_type": "stream",
     "text": [
      "60384 mixtral-conversation-stupid.jsonl\r\n"
     ]
    }
   ],
   "source": [
    "!wc -l mixtral-conversation-stupid.jsonl"
   ]
  },
  {
   "cell_type": "code",
   "execution_count": 14,
   "id": "9e35887e",
   "metadata": {},
   "outputs": [
    {
     "name": "stdout",
     "output_type": "stream",
     "text": [
      "-rw-r--r-- 1 husein husein 188M Dis  27 23:14 mixtral-conversation-stupid.jsonl\r\n"
     ]
    }
   ],
   "source": [
    "!ls -lh mixtral-conversation-stupid.jsonl"
   ]
  },
  {
   "cell_type": "code",
   "execution_count": 15,
   "id": "79a45259",
   "metadata": {
    "scrolled": true
   },
   "outputs": [
    {
     "data": {
      "application/vnd.jupyter.widget-view+json": {
       "model_id": "7b231bdaec90480884c744a3b09b0f4b",
       "version_major": 2,
       "version_minor": 0
      },
      "text/plain": [
       "mixtral-conversation-math-stupid.jsonl:   0%|          | 0.00/117M [00:00<?, ?B/s]"
      ]
     },
     "metadata": {},
     "output_type": "display_data"
    },
    {
     "data": {
      "text/plain": [
       "CommitInfo(commit_url='https://huggingface.co/datasets/mesolitica/mixtral-malaysian-general-qa/commit/c1f57ae4da565c85bc9aa4d3468ec5bd73723e7a', commit_message='Upload mixtral-conversation-math-stupid.jsonl with huggingface_hub', commit_description='', oid='c1f57ae4da565c85bc9aa4d3468ec5bd73723e7a', pr_url=None, pr_revision=None, pr_num=None)"
      ]
     },
     "execution_count": 15,
     "metadata": {},
     "output_type": "execute_result"
    }
   ],
   "source": [
    "from huggingface_hub import HfApi\n",
    "api = HfApi()\n",
    "api.upload_file(\n",
    "    path_or_fileobj='mixtral-conversation-math-stupid.jsonl',\n",
    "    path_in_repo='mixtral-conversation-math-stupid.jsonl',\n",
    "    repo_id='mesolitica/mixtral-malaysian-general-qa',\n",
    "    repo_type='dataset',\n",
    ")"
   ]
  }
 ],
 "metadata": {
  "kernelspec": {
   "display_name": "Python 3 (ipykernel)",
   "language": "python",
   "name": "python3"
  },
  "language_info": {
   "codemirror_mode": {
    "name": "ipython",
    "version": 3
   },
   "file_extension": ".py",
   "mimetype": "text/x-python",
   "name": "python",
   "nbconvert_exporter": "python",
   "pygments_lexer": "ipython3",
   "version": "3.8.10"
  }
 },
 "nbformat": 4,
 "nbformat_minor": 5
}
