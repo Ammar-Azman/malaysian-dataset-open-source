{
 "cells": [
  {
   "cell_type": "code",
   "execution_count": 2,
   "id": "03975148",
   "metadata": {},
   "outputs": [
    {
     "name": "stderr",
     "output_type": "stream",
     "text": [
      "/home/husein/.local/lib/python3.8/site-packages/requests/__init__.py:102: RequestsDependencyWarning: urllib3 (1.26.15) or chardet (5.2.0)/charset_normalizer (2.0.7) doesn't match a supported version!\n",
      "  warnings.warn(\"urllib3 ({}) or chardet ({})/charset_normalizer ({}) doesn't match a supported \"\n"
     ]
    }
   ],
   "source": [
    "from huggingface_hub import InferenceClient\n",
    "from tqdm import tqdm\n",
    "import os\n",
    "import json"
   ]
  },
  {
   "cell_type": "code",
   "execution_count": 3,
   "id": "398a8dd3",
   "metadata": {},
   "outputs": [],
   "source": [
    "from concurrent.futures import ThreadPoolExecutor, as_completed\n",
    "\n",
    "generate_kwargs = dict(\n",
    "    temperature=1.0,\n",
    "    max_new_tokens=4096,\n",
    "    top_p=0.95,\n",
    "    repetition_penalty=1.0,\n",
    "    do_sample=True,\n",
    ")"
   ]
  },
  {
   "cell_type": "code",
   "execution_count": 4,
   "id": "d0d8a44e",
   "metadata": {},
   "outputs": [],
   "source": [
    "client = InferenceClient(\n",
    "    \"\", timeout = 120\n",
    ")\n",
    "\n",
    "\n",
    "def format_prompt(message, history):\n",
    "  prompt = \"<s>\"\n",
    "  for user_prompt, bot_response in history:\n",
    "    prompt += f\"[INST] {user_prompt} [/INST]\"\n",
    "    prompt += f\" {bot_response}</s> \"\n",
    "  prompt += f\"[INST] {message} [/INST]\"\n",
    "  return prompt"
   ]
  },
  {
   "cell_type": "code",
   "execution_count": 5,
   "id": "69b71f25",
   "metadata": {},
   "outputs": [
    {
     "name": "stdout",
     "output_type": "stream",
     "text": [
      "mkdir: cannot create directory ‘mixtral-conversation-v3’: File exists\r\n"
     ]
    }
   ],
   "source": [
    "!mkdir mixtral-conversation-v3\n",
    "# !rm mixtral-factual-wrong-v2/*.json"
   ]
  },
  {
   "cell_type": "code",
   "execution_count": 7,
   "id": "b80bf3ca",
   "metadata": {},
   "outputs": [],
   "source": [
    "prompt = 'generate a conversation with a chatbot, but the user like to ask stupid questions to the chatbot'\n",
    "formatted_prompt = format_prompt(prompt, [])\n",
    "stream = client.text_generation(formatted_prompt, **generate_kwargs, stream=False, details=True, return_full_text=False)\n",
    "output = stream.generated_text\n",
    "output"
   ]
  },
  {
   "cell_type": "code",
   "execution_count": 6,
   "id": "66b1a7bb",
   "metadata": {},
   "outputs": [],
   "source": [
    "def answer(q, i):\n",
    "    filename = f'mixtral-conversation-v3/{i}.json'\n",
    "    if os.path.exists(filename):\n",
    "        return\n",
    "    \n",
    "    while True:\n",
    "        try:\n",
    "            prompt = q\n",
    "            formatted_prompt = format_prompt(prompt, [])\n",
    "            stream = client.text_generation(formatted_prompt, **generate_kwargs, stream=False, details=True, return_full_text=False)\n",
    "            output = stream.generated_text\n",
    "            with open(filename, 'w') as fopen:\n",
    "                json.dump(output, fopen)\n",
    "            break\n",
    "        except:\n",
    "            pass"
   ]
  },
  {
   "cell_type": "code",
   "execution_count": 15,
   "id": "6c2aa811",
   "metadata": {},
   "outputs": [],
   "source": [
    "prompts = ['generate a conversation with a chatbot, but the user like to ask stupid questions to the chatbot'] * 100000"
   ]
  },
  {
   "cell_type": "code",
   "execution_count": 16,
   "id": "341ba23e",
   "metadata": {},
   "outputs": [
    {
     "data": {
      "text/plain": [
       "100000"
      ]
     },
     "execution_count": 16,
     "metadata": {},
     "output_type": "execute_result"
    }
   ],
   "source": [
    "len(prompts)"
   ]
  },
  {
   "cell_type": "code",
   "execution_count": 1,
   "id": "f6308660",
   "metadata": {},
   "outputs": [],
   "source": [
    "max_worker = 150\n",
    "\n",
    "questions = prompts\n",
    "for i in tqdm(range(0, len(questions), max_worker)):\n",
    "    urls_ = [(q, no + i) for no, q in enumerate(questions[i: i + max_worker])]\n",
    "    \n",
    "    with ThreadPoolExecutor(max_workers=max_worker) as executor:\n",
    "        futures = {executor.submit(answer, url[0], url[1]): url for url in urls_}\n",
    "\n",
    "        for future in as_completed(futures):\n",
    "            future.result()"
   ]
  },
  {
   "cell_type": "code",
   "execution_count": 8,
   "id": "3c9a0687",
   "metadata": {},
   "outputs": [
    {
     "data": {
      "text/plain": [
       "60450"
      ]
     },
     "execution_count": 8,
     "metadata": {},
     "output_type": "execute_result"
    }
   ],
   "source": [
    "from glob import glob\n",
    "\n",
    "files = glob('mixtral-conversation-v3/*.json')\n",
    "files = sorted(files, key = lambda x: int(x.split('/')[-1].replace('.json', '')))\n",
    "        \n",
    "len(files)"
   ]
  },
  {
   "cell_type": "code",
   "execution_count": 9,
   "id": "506b453a",
   "metadata": {
    "scrolled": true
   },
   "outputs": [
    {
     "data": {
      "text/plain": [
       "60387"
      ]
     },
     "execution_count": 9,
     "metadata": {},
     "output_type": "execute_result"
    }
   ],
   "source": [
    "import json\n",
    "\n",
    "questions = []\n",
    "for f in files:\n",
    "    with open(f) as fopen:\n",
    "        data = json.load(fopen)\n",
    "    questions.append(data)\n",
    "    \n",
    "questions = [s for s in questions if len(s) > 40]\n",
    "questions = sorted(list(set(questions)))\n",
    "len(questions)"
   ]
  },
  {
   "cell_type": "code",
   "execution_count": 10,
   "id": "057d782b",
   "metadata": {
    "scrolled": true
   },
   "outputs": [
    {
     "name": "stderr",
     "output_type": "stream",
     "text": [
      "100%|█████████████████████████████████| 60387/60387 [00:00<00:00, 124871.78it/s]\n"
     ]
    }
   ],
   "source": [
    "conversations, rejected = [], []\n",
    "for no in tqdm(range(len(questions))):\n",
    "    q = questions[no]\n",
    "    conversation = []\n",
    "    try:\n",
    "        splitted = q.strip().split('Human:')\n",
    "        if 'Chatbot:' not in splitted[-1]:\n",
    "            pass\n",
    "#             print(data)\n",
    "#             break\n",
    "        \n",
    "        if 'User:' in q:\n",
    "            u = 'User:'\n",
    "        else:\n",
    "            u = 'Human:'\n",
    "\n",
    "        splitted = q.strip().split(u)\n",
    "        for i in range(1, len(splitted), 1):\n",
    "            split = splitted[i].split('\\nChatbot: ')\n",
    "            if len(split) == 1:\n",
    "                break\n",
    "            \n",
    "            if len(split) > 2:\n",
    "                a = '\\n'.join(split[1:]).strip()\n",
    "                user = split[0].strip()\n",
    "                # user = user.replace('Chatbot:', 'Chatbot,')\n",
    "                # print(no, splitted[i], user, a)\n",
    "            else:\n",
    "                user = split[0].strip()\n",
    "                a = split[1].strip()\n",
    "                \n",
    "            conversation.extend([\n",
    "                {'role': 'user', 'content': user},\n",
    "                {'role': 'assistant', 'content': a}\n",
    "            ])\n",
    "            \n",
    "    except Exception as e:\n",
    "        print(e, q)\n",
    "        \n",
    "        pass\n",
    "    \n",
    "    if len(conversation):\n",
    "        conversations.append(conversation)\n",
    "    else:\n",
    "        rejected.append(q)"
   ]
  },
  {
   "cell_type": "code",
   "execution_count": 11,
   "id": "5ff58d59",
   "metadata": {},
   "outputs": [
    {
     "data": {
      "text/plain": [
       "60384"
      ]
     },
     "execution_count": 11,
     "metadata": {},
     "output_type": "execute_result"
    }
   ],
   "source": [
    "len(conversations)"
   ]
  },
  {
   "cell_type": "code",
   "execution_count": 12,
   "id": "237802b0",
   "metadata": {},
   "outputs": [
    {
     "data": {
      "text/plain": [
       "[{'role': 'user',\n",
       "  'content': \"Hey Chatbot, what's the color of a banana in the dark?\"},\n",
       " {'role': 'assistant',\n",
       "  'content': \"Interesting question! In the absence of light, we cannot see colors, so it's not accurate to assign a color to a banana in the dark. However, we know a banana is typically yellow when it's ripe.\"},\n",
       " {'role': 'user',\n",
       "  'content': 'If a tree falls in a forest and no one is around to hear it, does it make a sound?'},\n",
       " {'role': 'assistant',\n",
       "  'content': \"This is a classic philosophical question! Sound is a form of energy that is produced when an object vibrates. So, yes, a tree falling in a forest would produce sound waves, but whether we perceive it as sound depends on whether there's someone or something there to hear it.\"},\n",
       " {'role': 'user', 'content': 'Can fish drown?'},\n",
       " {'role': 'assistant',\n",
       "  'content': 'Fish live underwater and extract oxygen from water through their gills. They can certainly die from lack of oxygen, but we don\\'t typically use the term \"drown\" to describe this. Drowning is specifically when a land animal dies from lack of oxygen due to being submerged in water.'},\n",
       " {'role': 'user', 'content': 'Is the pizza pie or round?'},\n",
       " {'role': 'assistant',\n",
       "  'content': 'Pizza can be both! A pizza can be round in shape, but when it\\'s served, it\\'s often cut into slices, which can make it look like a pie with multiple \"pieces.\"'},\n",
       " {'role': 'user', 'content': 'How many roads must a man walk down?'},\n",
       " {'role': 'assistant',\n",
       "  'content': 'That\\'s a line from Bob Dylan\\'s song \"Blowin\\' in the Wind.\" It\\'s more of a philosophical question about the journey of life and the pursuit of knowledge. The song doesn\\'t provide a specific number.'},\n",
       " {'role': 'user',\n",
       "  'content': 'Alright, chatbot, thanks for humoring me with these questions!'},\n",
       " {'role': 'assistant',\n",
       "  'content': \"You're welcome! I'm here to help answer your questions, silly or serious. If you have any more questions or need information on a specific topic, feel free to ask!\"}]"
      ]
     },
     "execution_count": 12,
     "metadata": {},
     "output_type": "execute_result"
    }
   ],
   "source": [
    "conversations[0]"
   ]
  },
  {
   "cell_type": "code",
   "execution_count": 11,
   "id": "df428125",
   "metadata": {},
   "outputs": [
    {
     "data": {
      "text/plain": [
       "698166"
      ]
     },
     "execution_count": 11,
     "metadata": {},
     "output_type": "execute_result"
    }
   ],
   "source": [
    "all_texts = []\n",
    "for c in conversations:\n",
    "    for d in c:\n",
    "        all_texts.append(d['content'])\n",
    "        \n",
    "len(all_texts)"
   ]
  },
  {
   "cell_type": "code",
   "execution_count": 194,
   "id": "d190ac23",
   "metadata": {},
   "outputs": [],
   "source": [
    "with open('mixtral-conversation-stupid.texts', 'w') as fopen:\n",
    "    for t in set(all_texts):\n",
    "        if len(t) > 3:\n",
    "            fopen.write(f'{json.dumps(t)}\\n')"
   ]
  },
  {
   "cell_type": "code",
   "execution_count": 14,
   "id": "4c8cb735",
   "metadata": {},
   "outputs": [
    {
     "data": {
      "text/plain": [
       "372471"
      ]
     },
     "execution_count": 14,
     "metadata": {},
     "output_type": "execute_result"
    }
   ],
   "source": [
    "len(set(all_texts))"
   ]
  },
  {
   "cell_type": "code",
   "execution_count": 1,
   "id": "2c4501ca",
   "metadata": {},
   "outputs": [
    {
     "data": {
      "text/plain": [
       "369486"
      ]
     },
     "execution_count": 1,
     "metadata": {},
     "output_type": "execute_result"
    }
   ],
   "source": [
    "import re\n",
    "from glob import glob\n",
    "import json\n",
    "\n",
    "mapping = {}\n",
    "for f in glob('/home/husein/ssd3/translation/mixtral-conversation-stupid.texts*.splitted.requested'):\n",
    "    with open(f) as fopen:\n",
    "        for l in fopen:\n",
    "            l = json.loads(l)\n",
    "            if 'Source text\\nclear\\nLook up details' in l['r']['result']:\n",
    "                continue\n",
    "            if 'clear\\nLook up details' in l['r']['result']:\n",
    "                continue\n",
    "            if l['r']['result'].startswith('Source text\\n'):\n",
    "                continue\n",
    "\n",
    "            n = l['r']['result']\n",
    "            hypens = re.findall('\\w+ -\\w+', n)\n",
    "            for h in hypens:\n",
    "                splitted = h.split('-')\n",
    "                if len(splitted) != 2:\n",
    "                    continue\n",
    "                splitted = [s.strip() for s in splitted]\n",
    "                splitted = '-'.join(splitted)\n",
    "                n = n.replace(h, splitted)\n",
    "            mapping[l['src']] = n\n",
    "            \n",
    "len(mapping)"
   ]
  },
  {
   "cell_type": "code",
   "execution_count": 196,
   "id": "fab640a6",
   "metadata": {},
   "outputs": [],
   "source": [
    "!cp mixtral-conversation-stupid.texts ../translation"
   ]
  },
  {
   "cell_type": "code",
   "execution_count": 21,
   "id": "9ecaed00",
   "metadata": {},
   "outputs": [],
   "source": [
    "with open('mixtral-conversation-stupid.jsonl', 'w') as fopen:\n",
    "    for c in conversations:\n",
    "        for i in range(len(c)):\n",
    "            c[i]['content_ms'] = mapping.get(c[i]['content'])\n",
    "        fopen.write(f'{json.dumps(c)}\\n')"
   ]
  },
  {
   "cell_type": "code",
   "execution_count": 22,
   "id": "e991d11f",
   "metadata": {},
   "outputs": [
    {
     "name": "stdout",
     "output_type": "stream",
     "text": [
      "[{\"role\": \"user\", \"content\": \"Hey Chatbot, what's the color of a banana in the dark?\", \"content_ms\": \"Hai Chatbot, apakah warna pisang dalam gelap?\"}, {\"role\": \"assistant\", \"content\": \"Interesting question! In the absence of light, we cannot see colors, so it's not accurate to assign a color to a banana in the dark. However, we know a banana is typically yellow when it's ripe.\", \"content_ms\": \"Soalan yang menarik! Jika tiada cahaya, kita tidak dapat melihat warna, jadi adalah tidak tepat untuk memberikan warna kepada pisang dalam gelap. Walau bagaimanapun, kita tahu pisang biasanya berwarna kuning apabila ia masak.\"}, {\"role\": \"user\", \"content\": \"If a tree falls in a forest and no one is around to hear it, does it make a sound?\", \"content_ms\": \"Jika sebatang pokok tumbang di dalam hutan dan tiada sesiapa yang mendengarnya, adakah ia mengeluarkan bunyi?\"}, {\"role\": \"assistant\", \"content\": \"This is a classic philosophical question! Sound is a form of energy that is produced when an object vibrates. So, yes, a tree falling in a forest would produce sound waves, but whether we perceive it as sound depends on whether there's someone or something there to hear it.\", \"content_ms\": \"Ini adalah soalan falsafah klasik! Bunyi ialah satu bentuk tenaga yang terhasil apabila objek bergetar. Jadi, ya, pokok yang tumbang di dalam hutan akan menghasilkan gelombang bunyi, tetapi sama ada kita menganggapnya sebagai bunyi bergantung kepada sama ada ada seseorang atau sesuatu di sana untuk mendengarnya.\"}, {\"role\": \"user\", \"content\": \"Can fish drown?\", \"content_ms\": \"Bolehkah ikan lemas?\"}, {\"role\": \"assistant\", \"content\": \"Fish live underwater and extract oxygen from water through their gills. They can certainly die from lack of oxygen, but we don't typically use the term \\\"drown\\\" to describe this. Drowning is specifically when a land animal dies from lack of oxygen due to being submerged in water.\", \"content_ms\": \"Ikan hidup di bawah air dan mengekstrak oksigen daripada air melalui insangnya. Mereka pastinya boleh mati akibat kekurangan oksigen, tetapi kami biasanya tidak menggunakan istilah \\\"lemas\\\" untuk menerangkan perkara ini. Lemas khususnya apabila haiwan darat mati akibat kekurangan oksigen akibat tenggelam dalam air.\"}, {\"role\": \"user\", \"content\": \"Is the pizza pie or round?\", \"content_ms\": \"Adakah pai pizza atau bulat?\"}, {\"role\": \"assistant\", \"content\": \"Pizza can be both! A pizza can be round in shape, but when it's served, it's often cut into slices, which can make it look like a pie with multiple \\\"pieces.\\\"\", \"content_ms\": \"Pizza boleh kedua-duanya! Piza boleh berbentuk bulat, tetapi apabila ia dihidangkan, ia sering dipotong menjadi kepingan, yang boleh menjadikannya kelihatan seperti pai dengan berbilang \\\"kepingan\\\".\"}, {\"role\": \"user\", \"content\": \"How many roads must a man walk down?\", \"content_ms\": \"Berapa banyak jalan yang harus dilalui oleh seorang lelaki?\"}, {\"role\": \"assistant\", \"content\": \"That's a line from Bob Dylan's song \\\"Blowin' in the Wind.\\\" It's more of a philosophical question about the journey of life and the pursuit of knowledge. The song doesn't provide a specific number.\", \"content_ms\": \"Itu sebaris daripada lagu Bob Dylan \\\"Blowin' in the Wind.\\\" Ia lebih kepada persoalan falsafah tentang perjalanan hidup dan menuntut ilmu. Lagu itu tidak memberikan nombor tertentu.\"}, {\"role\": \"user\", \"content\": \"Alright, chatbot, thanks for humoring me with these questions!\", \"content_ms\": \"Baiklah, chatbot, terima kasih kerana melawakkan saya dengan soalan ini!\"}, {\"role\": \"assistant\", \"content\": \"You're welcome! I'm here to help answer your questions, silly or serious. If you have any more questions or need information on a specific topic, feel free to ask!\", \"content_ms\": \"Sama-sama! Saya di sini untuk membantu menjawab soalan anda, bodoh atau serius. Jika anda mempunyai sebarang soalan lagi atau memerlukan maklumat mengenai topik tertentu, jangan ragu untuk bertanya!\"}]\r\n"
     ]
    }
   ],
   "source": [
    "!head -n 1 mixtral-conversation-stupid.jsonl"
   ]
  },
  {
   "cell_type": "code",
   "execution_count": 23,
   "id": "aa9fb100",
   "metadata": {},
   "outputs": [
    {
     "name": "stdout",
     "output_type": "stream",
     "text": [
      "60384 mixtral-conversation-stupid.jsonl\r\n"
     ]
    }
   ],
   "source": [
    "!wc -l mixtral-conversation-stupid.jsonl"
   ]
  },
  {
   "cell_type": "code",
   "execution_count": 24,
   "id": "c5768bb8",
   "metadata": {},
   "outputs": [
    {
     "name": "stdout",
     "output_type": "stream",
     "text": [
      "-rw-r--r-- 1 husein husein 188M Dis  27 23:14 mixtral-conversation-stupid.jsonl\r\n"
     ]
    }
   ],
   "source": [
    "!ls -lh mixtral-conversation-stupid.jsonl"
   ]
  },
  {
   "cell_type": "code",
   "execution_count": 25,
   "id": "81876e4a",
   "metadata": {},
   "outputs": [
    {
     "data": {
      "application/vnd.jupyter.widget-view+json": {
       "model_id": "43f856e9d04941319991c3d6680658a9",
       "version_major": 2,
       "version_minor": 0
      },
      "text/plain": [
       "mixtral-conversation-stupid.jsonl:   0%|          | 0.00/197M [00:00<?, ?B/s]"
      ]
     },
     "metadata": {},
     "output_type": "display_data"
    },
    {
     "data": {
      "text/plain": [
       "CommitInfo(commit_url='https://huggingface.co/datasets/mesolitica/mixtral-malaysian-general-qa/commit/a71f9407ed56456030db5f42a3ec279b446b6632', commit_message='Upload mixtral-conversation-stupid.jsonl with huggingface_hub', commit_description='', oid='a71f9407ed56456030db5f42a3ec279b446b6632', pr_url=None, pr_revision=None, pr_num=None)"
      ]
     },
     "execution_count": 25,
     "metadata": {},
     "output_type": "execute_result"
    }
   ],
   "source": [
    "from huggingface_hub import HfApi\n",
    "api = HfApi()\n",
    "api.upload_file(\n",
    "    path_or_fileobj='mixtral-conversation-stupid.jsonl',\n",
    "    path_in_repo='mixtral-conversation-stupid.jsonl',\n",
    "    repo_id='mesolitica/mixtral-malaysian-general-qa',\n",
    "    repo_type='dataset',\n",
    ")"
   ]
  },
  {
   "cell_type": "code",
   "execution_count": null,
   "id": "136bf352",
   "metadata": {},
   "outputs": [],
   "source": []
  }
 ],
 "metadata": {
  "kernelspec": {
   "display_name": "Python 3 (ipykernel)",
   "language": "python",
   "name": "python3"
  },
  "language_info": {
   "codemirror_mode": {
    "name": "ipython",
    "version": 3
   },
   "file_extension": ".py",
   "mimetype": "text/x-python",
   "name": "python",
   "nbconvert_exporter": "python",
   "pygments_lexer": "ipython3",
   "version": "3.8.10"
  }
 },
 "nbformat": 4,
 "nbformat_minor": 5
}
