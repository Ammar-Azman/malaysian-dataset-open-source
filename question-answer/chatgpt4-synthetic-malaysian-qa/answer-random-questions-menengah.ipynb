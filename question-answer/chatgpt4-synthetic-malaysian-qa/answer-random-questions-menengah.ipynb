{
 "cells": [
  {
   "cell_type": "code",
   "execution_count": 22,
   "id": "cfc45a31",
   "metadata": {},
   "outputs": [],
   "source": [
    "from glob import glob\n",
    "\n",
    "from collections import defaultdict\n",
    "import json\n",
    "import os"
   ]
  },
  {
   "cell_type": "code",
   "execution_count": 23,
   "id": "e1720efe",
   "metadata": {},
   "outputs": [],
   "source": [
    "import os\n",
    "import openai\n",
    "\n",
    "openai.api_type = \"azure\"\n",
    "openai.api_base = \"https://husein-ai6-aiservices916116520.openai.azure.com/\"\n",
    "openai.api_version = \"2023-07-01-preview\"\n",
    "openai.api_key = ''\n",
    "engine = 'gpt-4'"
   ]
  },
  {
   "cell_type": "code",
   "execution_count": 24,
   "id": "3e515b44",
   "metadata": {},
   "outputs": [],
   "source": [
    "questions = defaultdict(set)\n",
    "q = []\n",
    "for f in glob('base-questions-menengah-*/*'):\n",
    "    b = os.path.split(f)[0]\n",
    "    with open(f) as fopen:\n",
    "        data = json.load(fopen)\n",
    "    data = '\\n'.join(data)\n",
    "    data = data.split('\\n\\n')\n",
    "    if len(data) == 1:\n",
    "        data = data[0].split('\\n')\n",
    "    data = ['.'.join(d.split('.')[1:]).strip() for d in data]\n",
    "    data = [d for d in data if len(d) > 100]\n",
    "    data = set(data)\n",
    "    questions[b] |= data"
   ]
  },
  {
   "cell_type": "code",
   "execution_count": 25,
   "id": "faf5b968",
   "metadata": {},
   "outputs": [
    {
     "data": {
      "text/plain": [
       "dict_keys(['base-questions-menengah-kimia-tingkatan-5-malaysia', 'base-questions-menengah-prinsip-akaun-tingkatan-5-malaysia', 'base-questions-menengah-pengajian-keusahawanan-tingkatan-4-malaysia', 'base-questions-menengah-biologi-tingkatan-5-malaysia', 'base-questions-menengah-sains-tingkatan-2-malaysia', 'base-questions-menengah-sejarah-tingkatan-2-malaysia', 'base-questions-menengah-sejarah-tingkatan-3-malaysia', 'base-questions-menengah-matematik-tingkatan-5-malaysia', 'base-questions-menengah-matematik-tingkatan-1-malaysia', 'base-questions-menengah-matematik-tingkatan-3-malaysia', 'base-questions-menengah-sejarah-tingkatan-1-malaysia', 'base-questions-menengah-sains-tingkatan-1-malaysia', 'base-questions-menengah-sejarah-tingkatan-4-malaysia', 'base-questions-menengah-fizik-tingkatan-4-malaysia', 'base-questions-menengah-matematik-tingkatan-2-malaysia', 'base-questions-menengah-sejarah-tingkatan-5-malaysia', 'base-questions-menengah-fizik-tingkatan-5-malaysia', 'base-questions-menengah-biologi-tingkatan-4-malaysia', 'base-questions-menengah-matematik-tingkatan-4-malaysia', 'base-questions-menengah-pengajian-keusahawanan-tingkatan-5-malaysia', 'base-questions-menengah-prinsip-akaun-tingkatan-4-malaysia', 'base-questions-menengah-kimia-tingkatan-4-malaysia'])"
      ]
     },
     "execution_count": 25,
     "metadata": {},
     "output_type": "execute_result"
    }
   ],
   "source": [
    "questions.keys()"
   ]
  },
  {
   "cell_type": "code",
   "execution_count": 26,
   "id": "5f919a83",
   "metadata": {},
   "outputs": [
    {
     "data": {
      "text/plain": [
       "8406"
      ]
     },
     "execution_count": 26,
     "metadata": {},
     "output_type": "execute_result"
    }
   ],
   "source": [
    "total_questions = 0\n",
    "all_questions = []\n",
    "for k, v in questions.items():\n",
    "    total_questions += len(v)\n",
    "    all_questions.extend([(k, v_) for v_ in v])\n",
    "    \n",
    "total_questions"
   ]
  },
  {
   "cell_type": "code",
   "execution_count": 27,
   "id": "b324bcd7",
   "metadata": {},
   "outputs": [],
   "source": [
    "all_questions = sorted(all_questions)"
   ]
  },
  {
   "cell_type": "code",
   "execution_count": 7,
   "id": "39de9d9d",
   "metadata": {},
   "outputs": [
    {
     "name": "stdout",
     "output_type": "stream",
     "text": [
      "mkdir: cannot create directory ‘answer-question-chatgpt4-menengah-part2’: File exists\r\n"
     ]
    }
   ],
   "source": [
    "!mkdir answer-question-chatgpt4-menengah-part2\n",
    "# !rm -rf answer-question-chatgpt4-menengah-part2/*"
   ]
  },
  {
   "cell_type": "code",
   "execution_count": 8,
   "id": "e542828d",
   "metadata": {},
   "outputs": [
    {
     "name": "stderr",
     "output_type": "stream",
     "text": [
      "100%|██████████████████████████████████████████████████████████████████████████████████████████████████████| 8406/8406 [31:40:40<00:00, 13.57s/it]\n"
     ]
    }
   ],
   "source": [
    "from tqdm import tqdm\n",
    "\n",
    "for i in tqdm(range(len(all_questions))):\n",
    "    filename = f'answer-question-chatgpt4-menengah-part2/{i}.json'\n",
    "    if os.path.exists(filename):\n",
    "        continue\n",
    "        \n",
    "    try:\n",
    "        message_text = [\n",
    "            {\"role\":\"user\",\"content\": f\"{all_questions[i][1]}, jawab dalam bahasa melayu\"},\n",
    "        ]\n",
    "        completion = openai.ChatCompletion.create(\n",
    "          engine=\"gpt-4\",\n",
    "          messages = message_text,\n",
    "          temperature=1.0,\n",
    "          max_tokens=1024,\n",
    "          top_p=0.95,\n",
    "          frequency_penalty=0,\n",
    "          presence_penalty=0,\n",
    "          stop=None\n",
    "        )\n",
    "        splitted = completion.choices[0]['message']['content'].split('\\n')\n",
    "    except:\n",
    "        splitted = None\n",
    "    with open(filename, 'w') as fopen:\n",
    "        json.dump(splitted, fopen)"
   ]
  },
  {
   "cell_type": "code",
   "execution_count": 28,
   "id": "45b08955",
   "metadata": {},
   "outputs": [
    {
     "data": {
      "text/plain": [
       "8402"
      ]
     },
     "execution_count": 28,
     "metadata": {},
     "output_type": "execute_result"
    }
   ],
   "source": [
    "qa, texts = [], []\n",
    "for i in range(len(all_questions)):\n",
    "    q = all_questions[i][1]\n",
    "    \n",
    "    filename = f'answer-question-chatgpt4-menengah-part2/{i}.json'\n",
    "    if not os.path.exists(filename):\n",
    "        continue\n",
    "    with open(filename) as fopen:\n",
    "        answer = json.load(fopen)\n",
    "    \n",
    "    if answer is None:\n",
    "        continue\n",
    "        \n",
    "    answer = '\\n'.join(answer)\n",
    "    \n",
    "    qa.append({\n",
    "        'question': q.strip(),\n",
    "        'answer': answer.strip()\n",
    "    })\n",
    "    \n",
    "    texts.extend([q.strip(), answer.strip()])\n",
    "    \n",
    "len(qa)"
   ]
  },
  {
   "cell_type": "code",
   "execution_count": 29,
   "id": "2ccde78a",
   "metadata": {},
   "outputs": [
    {
     "name": "stdout",
     "output_type": "stream",
     "text": [
      "Perubahan musim memainkan peranan penting dalam kitar hidup nyamuk Aedes aegypti, yang merupakan vektor utama penyakit demam denggi di Malaysia. Berikut adalah analisis mengenai bagaimana perubahan musim dapat mempengaruhi kitar hidup nyamuk ini:\n",
      "\n",
      "**Musim Hujan:**\n",
      "\n",
      "1. *Pembiakan*: Nyamuk Aedes aegypti membiak di air yang tergenang. Musim hujan menyediakan banyak tempat pembiakan yang sesuai seperti genangan air, baldi, pasu bunga, dan bekas yang terkumpul air hujan, membolehkan populasi nyamuk meningkat dengan cepat.\n",
      "\n",
      "2. *Tempoh Kitar Hidup*: Suhu yang hangat dan kelembapan tinggi semasa musim hujan menyokong perkembangan larva menjadi nyamuk dewasa dengan lebih pantas.\n",
      "\n",
      "3. *Kemunculan Jentik-jentik*: Air yang terkumpul setelah hujan menyediakan habitat yang ideal untuk jentik-jentik berkembang, mempercepat proses pematangan dari larva ke nyamuk dewasa.\n",
      "\n",
      "4. *Penyebaran Penyakit*: Kenaikan jumlah nyamuk dewasa bermakna peningkatan risiko penyebaran demam denggi jika nyamuk tersebut menghisap darah seseorang yang dijangkiti virus denggi.\n",
      "\n",
      "**Musim Kering:**\n",
      "\n",
      "1. *Berkurangnya Tempat Pembiakan*: Semasa musim kering, sumber air terbatas menyebabkan berkurangnya tempat yang sesuai untuk pembiakan nyamuk Aedes aegypti. Ini boleh menyebabkan penurunan dalam populasi nyamuk.\n",
      "\n",
      "2. *Kadar Kematangan*: Kekurangan air juga boleh melambatkan proses kematangan larva ke nyamuk dewasa kerana larva memerlukan air untuk berkembang.\n",
      "\n",
      "3. *Perubahan Tabiat Pencarian Darah*: Nyamuk mungkin lebih agresif dalam mencari sumber darah semasa musim kering kerana kekurangan tempat pembiakan menyebabkan persaingan yang tinggi antara nyamuk untuk bertahan hidup.\n",
      "\n",
      "**Musim Panas:**\n",
      "\n",
      "1. *Peningkatan Suhu*: Suhu yang lebih tinggi boleh meningkatkan kadar metabolisme nyamuk dan memendekkan siklus hidupnya, menyebabkan generasi nyamuk baru dengan lebih cepat.\n",
      "\n",
      "2. *Persekitaran Kering*: Walau bagaimanapun, terlalu panas boleh mengakibatkan pengeringan tempat pembiakan dan matinya larva.\n",
      "\n",
      "**Peranan Manusia:**\n",
      "\n",
      "Aktiviti manusia seperti pengumpulan air dalam tangki atau bekas, dan pengurusan sampah yang tidak sesuai boleh menyediakan tempat pembiakan bagi nyamuk Aedes aegypti sepanjang tahun, terlepas dari musim. Ini meningkatkan risiko demam denggi tanpa mengira perubahan musim.\n",
      "\n",
      "**Kesimpulan:**\n",
      "\n",
      "Perubahan musim mempunyai kesan yang besar terhadap kitar hidup dan populasi nyamuk Aedes aegypti. Musim hujan biasanya menyebabkan peningkatan populasi nyamuk dan risiko penyebaran demam denggi, manakala musim kering dan panas boleh menyebabkan penurunan sementara dalam jumlah nyamuk. Walau bagaimanapun, keadaan setempat, tingkah laku manusia, dan amalan pengurusan kawasan boleh mempengaruhi kesan perubahan musim terhadap populasi nyamuk dan penyebaran demam denggi.\n"
     ]
    }
   ],
   "source": [
    "print(qa[0]['answer'])"
   ]
  },
  {
   "cell_type": "code",
   "execution_count": 30,
   "id": "361761ff",
   "metadata": {},
   "outputs": [],
   "source": [
    "with open('answer-question-chatgpt4-menengah-part2.texts', 'w') as fopen:\n",
    "    for t in set(texts):\n",
    "        fopen.write(f'{json.dumps(t)}\\n')"
   ]
  },
  {
   "cell_type": "code",
   "execution_count": 31,
   "id": "c225c275",
   "metadata": {},
   "outputs": [
    {
     "data": {
      "text/plain": [
       "16803"
      ]
     },
     "execution_count": 31,
     "metadata": {},
     "output_type": "execute_result"
    }
   ],
   "source": [
    "len(set(texts))"
   ]
  },
  {
   "cell_type": "code",
   "execution_count": 21,
   "id": "d0aaf091",
   "metadata": {},
   "outputs": [],
   "source": [
    "!cp answer-question-chatgpt4-menengah-part2.texts ../ctranslate2"
   ]
  },
  {
   "cell_type": "code",
   "execution_count": 32,
   "id": "0884ab07",
   "metadata": {},
   "outputs": [
    {
     "data": {
      "text/plain": [
       "16803"
      ]
     },
     "execution_count": 32,
     "metadata": {},
     "output_type": "execute_result"
    }
   ],
   "source": [
    "mapping = {}\n",
    "with open('../ctranslate2/answer-question-chatgpt4-menengah-part2.texts.requested') as fopen:\n",
    "    for l in fopen:\n",
    "        l = json.loads(l)\n",
    "        mapping[l['src']] = l['r']\n",
    "len(mapping)"
   ]
  },
  {
   "cell_type": "code",
   "execution_count": 33,
   "id": "7519121c",
   "metadata": {},
   "outputs": [],
   "source": [
    "with open('malaysian-general-qa-sekolah-menengah.jsonl', 'w') as fopen:\n",
    "    for q in qa:\n",
    "        q['question_ms'] = mapping.get(q['question'])\n",
    "        q['answer_ms'] = mapping.get(q['answer'])\n",
    "        fopen.write(f'{json.dumps(q)}\\n')"
   ]
  },
  {
   "cell_type": "code",
   "execution_count": 34,
   "id": "9376e636",
   "metadata": {},
   "outputs": [
    {
     "data": {
      "text/plain": [
       "{'question': 'Terangkan tentang pendudukan Jepun di Tanah Melayu dan bagaimana ia memberi kesan kepada masyarakat setempat.',\n",
       " 'answer': 'Pendudukan Jepun di Tanah Melayu bermula pada 8 Disember 1941 ketika Jepun menyerang Pantai Timur Tanah Besar Semenanjung Malaya semasa Perang Dunia Kedua. Kejatuhan Singapura pada 15 Februari 1942 menandakan kejayaan Jepun menguasai seluruh Tanah Melayu. Pendudukan ini berakhir pada 12 September 1945 dengan penyerahan Jepun kepada tentera Berikat.\\n\\nSelama pendudukan yang berlangsung selama tiga setengah tahun, penduduk Tanah Melayu mengalami perubahan besar dalam kehidupan sosial, ekonomi, dan politik mereka. Berikut adalah beberapa kesan pendudukan Jepun terhadap masyarakat setempat:\\n\\n1. Kesulitan Ekonomi dan Makanan: Pendudukan Jepun menyebabkan kekurangan makanan dan barangan penting lain. Jepun mengutamakan sumber dan hasil bumi Tanah Melayu untuk keperluan perang mereka, menyebabkan penduduk setempat mengalami kesukaran mendapatkan bahan makanan yang cukup. Ini mengakibatkan berlakunya kelaparan dan kekurangan zat makanan.\\n\\n2. Penggunaan Mata Wang Jepun: Mata wang yang dikenali sebagai \\'Banana Money\\' (kerana terdapat gambar pisang) diperkenalkan dan diwajibkan untuk digunakan. Namun, mata wang ini mengalami inflasi yang sangat tinggi dan menambah beban kepada rakyat yang sudah menderita.\\n\\n3. Kehilangan Nyawa dan Penyiksaan: Pendudukan Jepun dicirikan oleh kekejaman dan penganiayaan. Rakyat setempat yang dianggap menentang pemerintahan Jepun sering disiksa dan dibunuh. Tentera Jepun terkenal dengan dasar \\'Sook Ching\\' yang merupakan pembersihan etnik terhadap mereka yang disyaki sebagai anti-Jepun, termasuk komuniti Cina.\\n\\n4. Perubahan Sosial: Masyarakat dipaksa untuk menyesuaikan diri dengan cara hidup baru, termasuk pembelajaran bahasa Jepun di sekolah-sekolah. Budaya Jepun seperti kemahiran berkebun dan latihan fizikal juga dipromosikan sebagai sebahagian dari \"Semangat Baru Asia Timur.\"\\n\\n5. Perlawanan dan Gerila: Keganasan Jepun menggalakkan pembentukan gerakan-gerakan perlawanan seperti MPAJA (Malayan People’s Anti-Japanese Army) yang terdiri daripada pejuang komunis tempatan dan beberapa orang Melayu dan India. Mereka melancarkan serangan gerila terhadap Jepun dan membantu dalam usaha pencerobohan semula oleh tentera Berikat.\\n\\n6. Perubahan Politik: Pendudukan Jepun menimbulkan kesedaran politik dan nasionalisme di kalangan penduduk setempat. Kekosongan kuasa yang ditinggalkan oleh penjajah British telah memungkinkan wujudnya pemikiran dan organisasi politik yang lebih merdeka, yang kemudiannya menyumbang kepada gerakan kemerdekaan selepas perang.\\n\\n7. Pembangunan Infrastruktur: Jepun melakukan beberapa pembangunan infrastruktur untuk keperluan mereka, termasuk pembinaan landasan kereta api yang menghubungkan Thailand dengan Burma, yang dikenali sebagai \\'Death Railway\\' kerana ramai tawanan perang dan buruh paksa yang meninggal dunia semasa pembinaannya.\\n\\nSecara keseluruhan, pendudukan Jepun di Tanah Melayu telah meninggalkan kesan yang mendalam dan sering dilihat sebagai satu tempoh yang penuh dengan penderitaan dan pengorbanan. Namun, pengalaman tersebut turut memainkan peranan penting dalam mendorong gerakan ke arah kemerdekaan di kalangan rakyat Tanah Melayu.',\n",
       " 'question_ms': 'Terangkan tentang pendudukan Jepun di Tanah Melayu dan bagaimana ia memberi kesan kepada masyarakat setempat.',\n",
       " 'answer_ms': 'Pendudukan Jepun di Tanah Melayu bermula pada 8 Disember 1941 apabila Jepun menyerang Pantai Timur Tanah Besar Semenanjung Malaya semasa Perang Dunia Kedua. Kejatuhan Singapura pada 15 Februari 1942 menandakan kejayaan Jepun menguasai seluruh Tanah Melayu. Pendudukan ini berakhir pada 12 September 1945 dengan penyerahan Jepun kepada tentera Berikat.\\n\\nSemasa pendudukan yang berlangsung selama tiga setengah tahun, penduduk Tanah Melayu mengalami perubahan besar dalam kehidupan sosial, ekonomi, dan politik mereka. Berikut adalah beberapa kesan pendudukan Jepun terhadap masyarakat setempat:\\n\\n1. Kesukaran Ekonomi dan Makanan: Pendudukan Jepun menyebabkan kekurangan makanan dan barangan penting lain. Jepun mengutamakan sumber dan hasil bumi Tanah Melayu untuk keperluan perang mereka, menyebabkan penduduk setempat mengalami kesukaran mendapatkan bahan makanan yang mencukupi. Ini mengakibatkan berlakunya kelaparan dan kekurangan zat makanan.\\n\\n2. Penggunaan Mata Wang Jepun: Mata wang yang dikenali sebagai \\'Banana Money\\' (kerana terdapat gambar pisang) diperkenalkan dan diwajibkan untuk digunakan. Namun, mata wang ini mengalami inflasi yang sangat tinggi dan menambah beban kepada rakyat yang sudah menderita.\\n\\n3. Kehilangan Nyawa dan Penyiksaan: Pendudukan Jepun dicirikan oleh kekejaman dan penganiayaan. Rakyat tempatan yang dianggap menentang pemerintahan Jepun sering diseksa dan dibunuh. Tentera Jepun terkenal dengan dasar \\'Sook Ching\\' yang merupakan pembersihan etnik terhadap mereka yang disyaki sebagai anti-Jepun, termasuk komuniti Cina.\\n\\n4. Perubahan Sosial: Masyarakat dipaksa menyesuaikan diri dengan cara hidup baru, termasuk pembelajaran bahasa Jepun di sekolah-sekolah. Budaya Jepun seperti kemahiran berkebun dan latihan fizikal juga dipromosikan sebagai sebahagian daripada \"Semangat Baru Asia Timur.\"\\n\\n5. Perlawanan dan Gerila: Keganasan Jepun menggalakkan pembentukan gerakan-gerakan penentangan seperti MPAJA (Malayan People\\'s Anti-Japanese Army) yang terdiri daripada pejuang komunis tempatan dan beberapa orang Melayu dan India. Mereka melancarkan serangan gerila terhadap Jepun dan membantu dalam usaha pencerobohan semula oleh tentera Berikat.\\n\\n6. Perubahan Politik: Pendudukan Jepun menimbulkan kesedaran politik dan nasionalisme di kalangan penduduk tempatan. Kekosongan kuasa yang ditinggalkan oleh penjajah British telah membolehkan wujudnya pemikiran dan organisasi politik yang lebih merdeka, yang kemudiannya menyumbang kepada gerakan kemerdekaan selepas perang.\\n\\n7. Pembangunan Infrastruktur: Jepun melakukan beberapa pembangunan infrastruktur untuk keperluan mereka, termasuk pembinaan landasan kereta api yang menghubungkan Thailand dengan Burma, yang dikenali sebagai \\'Death Railway\\' kerana ramai tawanan perang dan buruh paksa yang meninggal dunia semasa pembinaannya.\\n\\nSecara keseluruhan, pendudukan Jepun di Tanah Melayu telah meninggalkan kesan yang mendalam dan sering dilihat sebagai tempoh yang penuh dengan penderitaan dan pengorbanan. Walau bagaimanapun, pengalaman tersebut juga memainkan peranan penting dalam mendorong gerakan ke arah kemerdekaan di kalangan rakyat Tanah Melayu.'}"
      ]
     },
     "execution_count": 34,
     "metadata": {},
     "output_type": "execute_result"
    }
   ],
   "source": [
    "q"
   ]
  },
  {
   "cell_type": "code",
   "execution_count": 35,
   "id": "fd21e94b",
   "metadata": {},
   "outputs": [
    {
     "data": {
      "application/vnd.jupyter.widget-view+json": {
       "model_id": "22dd31b2f88846c1b8125caa8bd2e048",
       "version_major": 2,
       "version_minor": 0
      },
      "text/plain": [
       "malaysian-general-qa-sekolah-menengah.jsonl:   0%|          | 0.00/35.6M [00:00<?, ?B/s]"
      ]
     },
     "metadata": {},
     "output_type": "display_data"
    },
    {
     "data": {
      "text/plain": [
       "'https://huggingface.co/datasets/mesolitica/chatgpt4-malaysian-general-qa/blob/main/malaysian-general-qa-sekolah-menengah.jsonl'"
      ]
     },
     "execution_count": 35,
     "metadata": {},
     "output_type": "execute_result"
    }
   ],
   "source": [
    "from huggingface_hub import HfApi\n",
    "api = HfApi()\n",
    "api.upload_file(\n",
    "    path_or_fileobj='malaysian-general-qa-sekolah-menengah.jsonl',\n",
    "    path_in_repo='malaysian-general-qa-sekolah-menengah.jsonl',\n",
    "    repo_id='mesolitica/chatgpt4-malaysian-general-qa',\n",
    "    repo_type='dataset',\n",
    ")"
   ]
  }
 ],
 "metadata": {
  "kernelspec": {
   "display_name": "Python 3 (ipykernel)",
   "language": "python",
   "name": "python3"
  },
  "language_info": {
   "codemirror_mode": {
    "name": "ipython",
    "version": 3
   },
   "file_extension": ".py",
   "mimetype": "text/x-python",
   "name": "python",
   "nbconvert_exporter": "python",
   "pygments_lexer": "ipython3",
   "version": "3.8.10"
  }
 },
 "nbformat": 4,
 "nbformat_minor": 5
}
