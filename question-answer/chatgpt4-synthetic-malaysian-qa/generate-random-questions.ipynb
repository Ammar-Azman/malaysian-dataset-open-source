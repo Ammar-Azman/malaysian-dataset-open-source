{
 "cells": [
  {
   "cell_type": "code",
   "execution_count": 1,
   "id": "95344e0a",
   "metadata": {},
   "outputs": [],
   "source": [
    "from tqdm import tqdm\n",
    "import os\n",
    "import json"
   ]
  },
  {
   "cell_type": "code",
   "execution_count": 4,
   "id": "2254858b",
   "metadata": {
    "scrolled": true
   },
   "outputs": [
    {
     "name": "stderr",
     "output_type": "stream",
     "text": [
      "/home/husein/.local/lib/python3.8/site-packages/requests/__init__.py:102: RequestsDependencyWarning: urllib3 (1.26.15) or chardet (5.2.0)/charset_normalizer (2.0.7) doesn't match a supported version!\n",
      "  warnings.warn(\"urllib3 ({}) or chardet ({})/charset_normalizer ({}) doesn't match a supported \"\n"
     ]
    }
   ],
   "source": [
    "import os\n",
    "import openai\n",
    "\n",
    "openai.api_type = \"azure\"\n",
    "openai.api_base = \"https://husein-ai2-aiservices.openai.azure.com/\"\n",
    "openai.api_version = \"2023-07-01-preview\"\n",
    "openai.api_key = ''"
   ]
  },
  {
   "cell_type": "code",
   "execution_count": 8,
   "id": "237d585e",
   "metadata": {},
   "outputs": [],
   "source": [
    "!mkdir base-questions"
   ]
  },
  {
   "cell_type": "code",
   "execution_count": 10,
   "id": "72c798f5",
   "metadata": {},
   "outputs": [],
   "source": [
    "from tqdm import tqdm\n",
    "\n",
    "for i in tqdm(range(100)):\n",
    "    message_text = [\n",
    "        {\"role\":\"user\",\"content\": f\"generate random questions dalam bahasa melayu related to malaysian context.\"},\n",
    "    ]\n",
    "    completion = openai.ChatCompletion.create(\n",
    "      engine=\"gpt-4\",\n",
    "      messages = message_text,\n",
    "      temperature=1.0,\n",
    "      max_tokens=1024,\n",
    "      top_p=0.95,\n",
    "      frequency_penalty=0,\n",
    "      presence_penalty=0,\n",
    "      stop=None\n",
    "    )\n",
    "    splitted = completion.choices[0]['message']['content'].split('\\n')\n",
    "    with open(f'base-questions/{i}.json', 'w') as fopen:\n",
    "        json.dump(splitted, fopen)"
   ]
  },
  {
   "cell_type": "code",
   "execution_count": 11,
   "id": "64f41d78",
   "metadata": {},
   "outputs": [],
   "source": [
    "!mkdir base-questions-politics"
   ]
  },
  {
   "cell_type": "code",
   "execution_count": 12,
   "id": "f9237c2f",
   "metadata": {},
   "outputs": [
    {
     "name": "stderr",
     "output_type": "stream",
     "text": [
      "100%|█████████████████████████████████████████| 100/100 [19:59<00:00, 12.00s/it]\n"
     ]
    }
   ],
   "source": [
    "from tqdm import tqdm\n",
    "\n",
    "for i in tqdm(range(100)):\n",
    "    message_text = [\n",
    "        {\"role\":\"user\",\"content\": f\"generate random very specific politics questions dalam bahasa melayu related to malaysian context.\"},\n",
    "    ]\n",
    "    completion = openai.ChatCompletion.create(\n",
    "      engine=\"gpt-4\",\n",
    "      messages = message_text,\n",
    "      temperature=1.0,\n",
    "      max_tokens=1024,\n",
    "      top_p=0.95,\n",
    "      frequency_penalty=0,\n",
    "      presence_penalty=0,\n",
    "      stop=None\n",
    "    )\n",
    "    splitted = completion.choices[0]['message']['content'].split('\\n')\n",
    "    with open(f'base-questions-politics/{i}.json', 'w') as fopen:\n",
    "        json.dump(splitted, fopen)"
   ]
  },
  {
   "cell_type": "code",
   "execution_count": 13,
   "id": "b6995ab4",
   "metadata": {},
   "outputs": [],
   "source": [
    "!mkdir base-questions-sosioekonomi"
   ]
  },
  {
   "cell_type": "code",
   "execution_count": 14,
   "id": "a53136db",
   "metadata": {},
   "outputs": [
    {
     "name": "stderr",
     "output_type": "stream",
     "text": [
      "100%|█████████████████████████████████████████| 100/100 [17:13<00:00, 10.33s/it]\n"
     ]
    }
   ],
   "source": [
    "from tqdm import tqdm\n",
    "\n",
    "for i in tqdm(range(100)):\n",
    "    message_text = [\n",
    "        {\"role\":\"user\",\"content\": f\"generate random very specific socioeconomics questions dalam bahasa melayu related to malaysian context.\"},\n",
    "    ]\n",
    "    completion = openai.ChatCompletion.create(\n",
    "      engine=\"gpt-4\",\n",
    "      messages = message_text,\n",
    "      temperature=1.0,\n",
    "      max_tokens=1024,\n",
    "      top_p=0.95,\n",
    "      frequency_penalty=0,\n",
    "      presence_penalty=0,\n",
    "      stop=None\n",
    "    )\n",
    "    splitted = completion.choices[0]['message']['content'].split('\\n')\n",
    "    with open(f'base-questions-sosioekonomi/{i}.json', 'w') as fopen:\n",
    "        json.dump(splitted, fopen)"
   ]
  },
  {
   "cell_type": "code",
   "execution_count": 15,
   "id": "3108d56d",
   "metadata": {},
   "outputs": [],
   "source": [
    "!mkdir base-questions-culture"
   ]
  },
  {
   "cell_type": "code",
   "execution_count": 16,
   "id": "7ded3f2e",
   "metadata": {},
   "outputs": [
    {
     "name": "stderr",
     "output_type": "stream",
     "text": [
      "100%|█████████████████████████████████████████| 100/100 [14:50<00:00,  8.90s/it]\n"
     ]
    }
   ],
   "source": [
    "from tqdm import tqdm\n",
    "\n",
    "for i in tqdm(range(100)):\n",
    "    message_text = [\n",
    "        {\"role\":\"user\",\"content\": f\"generate random very specific culture questions dalam bahasa melayu related to malaysian context.\"},\n",
    "    ]\n",
    "    completion = openai.ChatCompletion.create(\n",
    "      engine=\"gpt-4\",\n",
    "      messages = message_text,\n",
    "      temperature=1.0,\n",
    "      max_tokens=1024,\n",
    "      top_p=0.95,\n",
    "      frequency_penalty=0,\n",
    "      presence_penalty=0,\n",
    "      stop=None\n",
    "    )\n",
    "    splitted = completion.choices[0]['message']['content'].split('\\n')\n",
    "    with open(f'base-questions-culture/{i}.json', 'w') as fopen:\n",
    "        json.dump(splitted, fopen)"
   ]
  },
  {
   "cell_type": "code",
   "execution_count": 17,
   "id": "7ee227b1",
   "metadata": {},
   "outputs": [],
   "source": [
    "!mkdir base-questions-gender"
   ]
  },
  {
   "cell_type": "code",
   "execution_count": 18,
   "id": "ff9f8b96",
   "metadata": {},
   "outputs": [
    {
     "name": "stderr",
     "output_type": "stream",
     "text": [
      "100%|█████████████████████████████████████████| 100/100 [15:37<00:00,  9.38s/it]\n"
     ]
    }
   ],
   "source": [
    "from tqdm import tqdm\n",
    "\n",
    "for i in tqdm(range(100)):\n",
    "    message_text = [\n",
    "        {\"role\":\"user\",\"content\": f\"generate random very specific gender questions dalam bahasa melayu related to malaysian context.\"},\n",
    "    ]\n",
    "    completion = openai.ChatCompletion.create(\n",
    "      engine=\"gpt-4\",\n",
    "      messages = message_text,\n",
    "      temperature=1.0,\n",
    "      max_tokens=1024,\n",
    "      top_p=0.95,\n",
    "      frequency_penalty=0,\n",
    "      presence_penalty=0,\n",
    "      stop=None\n",
    "    )\n",
    "    splitted = completion.choices[0]['message']['content'].split('\\n')\n",
    "    with open(f'base-questions-gender/{i}.json', 'w') as fopen:\n",
    "        json.dump(splitted, fopen)"
   ]
  },
  {
   "cell_type": "code",
   "execution_count": 19,
   "id": "85017c21",
   "metadata": {},
   "outputs": [],
   "source": [
    "!mkdir base-questions-religion"
   ]
  },
  {
   "cell_type": "code",
   "execution_count": 20,
   "id": "1d5ddb2d",
   "metadata": {},
   "outputs": [
    {
     "name": "stderr",
     "output_type": "stream",
     "text": [
      "100%|█████████████████████████████████████████| 100/100 [14:44<00:00,  8.85s/it]\n"
     ]
    }
   ],
   "source": [
    "from tqdm import tqdm\n",
    "\n",
    "for i in tqdm(range(100)):\n",
    "    message_text = [\n",
    "        {\"role\":\"user\",\"content\": f\"generate random very specific religion questions dalam bahasa melayu related to malaysian context.\"},\n",
    "    ]\n",
    "    completion = openai.ChatCompletion.create(\n",
    "      engine=\"gpt-4\",\n",
    "      messages = message_text,\n",
    "      temperature=1.0,\n",
    "      max_tokens=1024,\n",
    "      top_p=0.95,\n",
    "      frequency_penalty=0,\n",
    "      presence_penalty=0,\n",
    "      stop=None\n",
    "    )\n",
    "    splitted = completion.choices[0]['message']['content'].split('\\n')\n",
    "    with open(f'base-questions-religion/{i}.json', 'w') as fopen:\n",
    "        json.dump(splitted, fopen)"
   ]
  },
  {
   "cell_type": "code",
   "execution_count": 21,
   "id": "a432839b",
   "metadata": {},
   "outputs": [],
   "source": [
    "!mkdir base-questions-sosiologi"
   ]
  },
  {
   "cell_type": "code",
   "execution_count": 22,
   "id": "ce8cac80",
   "metadata": {},
   "outputs": [
    {
     "name": "stderr",
     "output_type": "stream",
     "text": [
      "100%|█████████████████████████████████████████| 100/100 [14:50<00:00,  8.90s/it]\n"
     ]
    }
   ],
   "source": [
    "from tqdm import tqdm\n",
    "\n",
    "for i in tqdm(range(100)):\n",
    "    message_text = [\n",
    "        {\"role\":\"user\",\"content\": f\"generate random very specific sociology questions dalam bahasa melayu related to malaysian context.\"},\n",
    "    ]\n",
    "    completion = openai.ChatCompletion.create(\n",
    "      engine=\"gpt-4\",\n",
    "      messages = message_text,\n",
    "      temperature=1.0,\n",
    "      max_tokens=1024,\n",
    "      top_p=0.95,\n",
    "      frequency_penalty=0,\n",
    "      presence_penalty=0,\n",
    "      stop=None\n",
    "    )\n",
    "    splitted = completion.choices[0]['message']['content'].split('\\n')\n",
    "    with open(f'base-questions-sosiologi/{i}.json', 'w') as fopen:\n",
    "        json.dump(splitted, fopen)"
   ]
  },
  {
   "cell_type": "code",
   "execution_count": 23,
   "id": "845a29e6",
   "metadata": {},
   "outputs": [],
   "source": [
    "!mkdir base-questions-social-class"
   ]
  },
  {
   "cell_type": "code",
   "execution_count": 24,
   "id": "ccccc2d7",
   "metadata": {},
   "outputs": [
    {
     "name": "stderr",
     "output_type": "stream",
     "text": [
      "100%|█████████████████████████████████████████| 100/100 [15:34<00:00,  9.35s/it]\n"
     ]
    }
   ],
   "source": [
    "from tqdm import tqdm\n",
    "\n",
    "for i in tqdm(range(100)):\n",
    "    message_text = [\n",
    "        {\"role\":\"user\",\"content\": f\"generate random very specific social class questions dalam bahasa melayu related to malaysian context.\"},\n",
    "    ]\n",
    "    completion = openai.ChatCompletion.create(\n",
    "      engine=\"gpt-4\",\n",
    "      messages = message_text,\n",
    "      temperature=1.0,\n",
    "      max_tokens=1024,\n",
    "      top_p=0.95,\n",
    "      frequency_penalty=0,\n",
    "      presence_penalty=0,\n",
    "      stop=None\n",
    "    )\n",
    "    splitted = completion.choices[0]['message']['content'].split('\\n')\n",
    "    with open(f'base-questions-social-class/{i}.json', 'w') as fopen:\n",
    "        json.dump(splitted, fopen)"
   ]
  },
  {
   "cell_type": "code",
   "execution_count": 25,
   "id": "eab6ffa0",
   "metadata": {},
   "outputs": [],
   "source": [
    "!mkdir base-questions-technology"
   ]
  },
  {
   "cell_type": "code",
   "execution_count": 26,
   "id": "3c882593",
   "metadata": {},
   "outputs": [
    {
     "name": "stderr",
     "output_type": "stream",
     "text": [
      "100%|█████████████████████████████████████████| 100/100 [16:39<00:00,  9.99s/it]\n"
     ]
    }
   ],
   "source": [
    "from tqdm import tqdm\n",
    "\n",
    "for i in tqdm(range(100)):\n",
    "    message_text = [\n",
    "        {\"role\":\"user\",\"content\": f\"generate random very specific technology questions dalam bahasa melayu related to malaysian context.\"},\n",
    "    ]\n",
    "    completion = openai.ChatCompletion.create(\n",
    "      engine=\"gpt-4\",\n",
    "      messages = message_text,\n",
    "      temperature=1.0,\n",
    "      max_tokens=1024,\n",
    "      top_p=0.95,\n",
    "      frequency_penalty=0,\n",
    "      presence_penalty=0,\n",
    "      stop=None\n",
    "    )\n",
    "    splitted = completion.choices[0]['message']['content'].split('\\n')\n",
    "    with open(f'base-questions-technology/{i}.json', 'w') as fopen:\n",
    "        json.dump(splitted, fopen)"
   ]
  },
  {
   "cell_type": "code",
   "execution_count": 27,
   "id": "6284b7ac",
   "metadata": {},
   "outputs": [],
   "source": [
    "!mkdir base-questions-ethnicity"
   ]
  },
  {
   "cell_type": "code",
   "execution_count": 28,
   "id": "d795e6b3",
   "metadata": {},
   "outputs": [
    {
     "name": "stderr",
     "output_type": "stream",
     "text": [
      "100%|█████████████████████████████████████████| 100/100 [14:12<00:00,  8.52s/it]\n"
     ]
    }
   ],
   "source": [
    "from tqdm import tqdm\n",
    "\n",
    "for i in tqdm(range(100)):\n",
    "    message_text = [\n",
    "        {\"role\":\"user\",\"content\": f\"generate random very specific ethnicity questions dalam bahasa melayu related to malaysian context.\"},\n",
    "    ]\n",
    "    completion = openai.ChatCompletion.create(\n",
    "      engine=\"gpt-4\",\n",
    "      messages = message_text,\n",
    "      temperature=1.0,\n",
    "      max_tokens=1024,\n",
    "      top_p=0.95,\n",
    "      frequency_penalty=0,\n",
    "      presence_penalty=0,\n",
    "      stop=None\n",
    "    )\n",
    "    splitted = completion.choices[0]['message']['content'].split('\\n')\n",
    "    with open(f'base-questions-ethnicity/{i}.json', 'w') as fopen:\n",
    "        json.dump(splitted, fopen)"
   ]
  },
  {
   "cell_type": "code",
   "execution_count": 29,
   "id": "92daf13f",
   "metadata": {},
   "outputs": [],
   "source": [
    "!mkdir base-questions-infrastructure"
   ]
  },
  {
   "cell_type": "code",
   "execution_count": 30,
   "id": "31fc5f35",
   "metadata": {},
   "outputs": [
    {
     "name": "stderr",
     "output_type": "stream",
     "text": [
      "100%|█████████████████████████████████████████| 100/100 [17:24<00:00, 10.45s/it]\n"
     ]
    }
   ],
   "source": [
    "from tqdm import tqdm\n",
    "\n",
    "for i in tqdm(range(100)):\n",
    "    message_text = [\n",
    "        {\"role\":\"user\",\"content\": f\"generate random very specific infrastructure questions dalam bahasa melayu related to malaysian context.\"},\n",
    "    ]\n",
    "    completion = openai.ChatCompletion.create(\n",
    "      engine=\"gpt-4\",\n",
    "      messages = message_text,\n",
    "      temperature=1.0,\n",
    "      max_tokens=1024,\n",
    "      top_p=0.95,\n",
    "      frequency_penalty=0,\n",
    "      presence_penalty=0,\n",
    "      stop=None\n",
    "    )\n",
    "    splitted = completion.choices[0]['message']['content'].split('\\n')\n",
    "    with open(f'base-questions-infrastructure/{i}.json', 'w') as fopen:\n",
    "        json.dump(splitted, fopen)"
   ]
  },
  {
   "cell_type": "code",
   "execution_count": 31,
   "id": "823344c2",
   "metadata": {},
   "outputs": [],
   "source": [
    "!mkdir base-questions-health"
   ]
  },
  {
   "cell_type": "code",
   "execution_count": 32,
   "id": "04b11cde",
   "metadata": {},
   "outputs": [
    {
     "name": "stderr",
     "output_type": "stream",
     "text": [
      "100%|█████████████████████████████████████████| 100/100 [15:55<00:00,  9.55s/it]\n"
     ]
    }
   ],
   "source": [
    "from tqdm import tqdm\n",
    "\n",
    "for i in tqdm(range(100)):\n",
    "    message_text = [\n",
    "        {\"role\":\"user\",\"content\": f\"generate random very specific health questions dalam bahasa melayu related to malaysian context.\"},\n",
    "    ]\n",
    "    completion = openai.ChatCompletion.create(\n",
    "      engine=\"gpt-4\",\n",
    "      messages = message_text,\n",
    "      temperature=1.0,\n",
    "      max_tokens=1024,\n",
    "      top_p=0.95,\n",
    "      frequency_penalty=0,\n",
    "      presence_penalty=0,\n",
    "      stop=None\n",
    "    )\n",
    "    splitted = completion.choices[0]['message']['content'].split('\\n')\n",
    "    with open(f'base-questions-health/{i}.json', 'w') as fopen:\n",
    "        json.dump(splitted, fopen)"
   ]
  },
  {
   "cell_type": "code",
   "execution_count": 33,
   "id": "663853aa",
   "metadata": {},
   "outputs": [],
   "source": [
    "!mkdir base-questions-education"
   ]
  },
  {
   "cell_type": "code",
   "execution_count": 34,
   "id": "48281a5e",
   "metadata": {},
   "outputs": [
    {
     "name": "stderr",
     "output_type": "stream",
     "text": [
      "100%|█████████████████████████████████████████| 100/100 [16:43<00:00, 10.03s/it]\n"
     ]
    }
   ],
   "source": [
    "from tqdm import tqdm\n",
    "\n",
    "for i in tqdm(range(100)):\n",
    "    message_text = [\n",
    "        {\"role\":\"user\",\"content\": f\"generate random very specific education questions dalam bahasa melayu related to malaysian context.\"},\n",
    "    ]\n",
    "    completion = openai.ChatCompletion.create(\n",
    "      engine=\"gpt-4\",\n",
    "      messages = message_text,\n",
    "      temperature=1.0,\n",
    "      max_tokens=1024,\n",
    "      top_p=0.95,\n",
    "      frequency_penalty=0,\n",
    "      presence_penalty=0,\n",
    "      stop=None\n",
    "    )\n",
    "    splitted = completion.choices[0]['message']['content'].split('\\n')\n",
    "    with open(f'base-questions-education/{i}.json', 'w') as fopen:\n",
    "        json.dump(splitted, fopen)"
   ]
  },
  {
   "cell_type": "code",
   "execution_count": 35,
   "id": "a51e988e",
   "metadata": {},
   "outputs": [],
   "source": [
    "!mkdir base-questions-ecology"
   ]
  },
  {
   "cell_type": "code",
   "execution_count": 36,
   "id": "c0f2ec7a",
   "metadata": {},
   "outputs": [
    {
     "name": "stderr",
     "output_type": "stream",
     "text": [
      "100%|█████████████████████████████████████████| 100/100 [16:01<00:00,  9.61s/it]\n"
     ]
    }
   ],
   "source": [
    "from tqdm import tqdm\n",
    "\n",
    "for i in tqdm(range(100)):\n",
    "    message_text = [\n",
    "        {\"role\":\"user\",\"content\": f\"generate random very specific ecology questions dalam bahasa melayu related to malaysian context.\"},\n",
    "    ]\n",
    "    completion = openai.ChatCompletion.create(\n",
    "      engine=\"gpt-4\",\n",
    "      messages = message_text,\n",
    "      temperature=1.0,\n",
    "      max_tokens=1024,\n",
    "      top_p=0.95,\n",
    "      frequency_penalty=0,\n",
    "      presence_penalty=0,\n",
    "      stop=None\n",
    "    )\n",
    "    splitted = completion.choices[0]['message']['content'].split('\\n')\n",
    "    with open(f'base-questions-ecology/{i}.json', 'w') as fopen:\n",
    "        json.dump(splitted, fopen)"
   ]
  },
  {
   "cell_type": "code",
   "execution_count": 39,
   "id": "a8f5a9ca",
   "metadata": {},
   "outputs": [],
   "source": [
    "topics = [\n",
    "    'party politics',\n",
    "    'diplomacy',\n",
    "    'history',\n",
    "    'cuisine',\n",
    "    'microeconomics',\n",
    "    'business',\n",
    "    'artificial intelligence',\n",
    "    'law'\n",
    "]"
   ]
  },
  {
   "cell_type": "code",
   "execution_count": 40,
   "id": "9cab7328",
   "metadata": {},
   "outputs": [
    {
     "name": "stdout",
     "output_type": "stream",
     "text": [
      "party politics\n"
     ]
    },
    {
     "name": "stderr",
     "output_type": "stream",
     "text": [
      "100%|█████████████████████████████████████████| 100/100 [16:30<00:00,  9.90s/it]\n"
     ]
    },
    {
     "name": "stdout",
     "output_type": "stream",
     "text": [
      "diplomacy\n"
     ]
    },
    {
     "name": "stderr",
     "output_type": "stream",
     "text": [
      "100%|█████████████████████████████████████████| 100/100 [16:50<00:00, 10.10s/it]\n"
     ]
    },
    {
     "name": "stdout",
     "output_type": "stream",
     "text": [
      "history\n"
     ]
    },
    {
     "name": "stderr",
     "output_type": "stream",
     "text": [
      "100%|█████████████████████████████████████████| 100/100 [16:09<00:00,  9.70s/it]\n"
     ]
    },
    {
     "name": "stdout",
     "output_type": "stream",
     "text": [
      "cuisine\n"
     ]
    },
    {
     "name": "stderr",
     "output_type": "stream",
     "text": [
      "100%|█████████████████████████████████████████| 100/100 [13:16<00:00,  7.97s/it]\n"
     ]
    },
    {
     "name": "stdout",
     "output_type": "stream",
     "text": [
      "microeconomics\n"
     ]
    },
    {
     "name": "stderr",
     "output_type": "stream",
     "text": [
      "100%|█████████████████████████████████████████| 100/100 [16:48<00:00, 10.09s/it]\n"
     ]
    },
    {
     "name": "stdout",
     "output_type": "stream",
     "text": [
      "business\n"
     ]
    },
    {
     "name": "stderr",
     "output_type": "stream",
     "text": [
      "100%|█████████████████████████████████████████| 100/100 [18:14<00:00, 10.94s/it]\n"
     ]
    },
    {
     "name": "stdout",
     "output_type": "stream",
     "text": [
      "artificial intelligence\n"
     ]
    },
    {
     "name": "stderr",
     "output_type": "stream",
     "text": [
      "100%|█████████████████████████████████████████| 100/100 [18:15<00:00, 10.95s/it]\n"
     ]
    },
    {
     "name": "stdout",
     "output_type": "stream",
     "text": [
      "law\n"
     ]
    },
    {
     "name": "stderr",
     "output_type": "stream",
     "text": [
      "100%|█████████████████████████████████████████| 100/100 [19:19<00:00, 11.59s/it]\n"
     ]
    }
   ],
   "source": [
    "for t in topics:\n",
    "    print(t)\n",
    "    t_ = t.replace(' ', '-')\n",
    "    os.system(f'mkdir base-questions-{t_}')\n",
    "    for i in tqdm(range(100)):\n",
    "        message_text = [\n",
    "            {\"role\":\"user\",\"content\": f\"generate random very specific {t} questions dalam bahasa melayu related to malaysian context.\"},\n",
    "        ]\n",
    "        completion = openai.ChatCompletion.create(\n",
    "          engine=\"gpt-4\",\n",
    "          messages = message_text,\n",
    "          temperature=1.0,\n",
    "          max_tokens=1024,\n",
    "          top_p=0.95,\n",
    "          frequency_penalty=0,\n",
    "          presence_penalty=0,\n",
    "          stop=None\n",
    "        )\n",
    "        splitted = completion.choices[0]['message']['content'].split('\\n')\n",
    "        with open(f'base-questions-{t_}/{i}.json', 'w') as fopen:\n",
    "            json.dump(splitted, fopen)"
   ]
  },
  {
   "cell_type": "code",
   "execution_count": null,
   "id": "8254ad33",
   "metadata": {},
   "outputs": [],
   "source": []
  }
 ],
 "metadata": {
  "kernelspec": {
   "display_name": "Python 3 (ipykernel)",
   "language": "python",
   "name": "python3"
  },
  "language_info": {
   "codemirror_mode": {
    "name": "ipython",
    "version": 3
   },
   "file_extension": ".py",
   "mimetype": "text/x-python",
   "name": "python",
   "nbconvert_exporter": "python",
   "pygments_lexer": "ipython3",
   "version": "3.8.10"
  }
 },
 "nbformat": 4,
 "nbformat_minor": 5
}
