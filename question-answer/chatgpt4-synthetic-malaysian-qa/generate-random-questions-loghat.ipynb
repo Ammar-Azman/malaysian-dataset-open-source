{
 "cells": [
  {
   "cell_type": "code",
   "execution_count": 1,
   "id": "95344e0a",
   "metadata": {},
   "outputs": [],
   "source": [
    "from tqdm import tqdm\n",
    "import os\n",
    "import json"
   ]
  },
  {
   "cell_type": "code",
   "execution_count": 2,
   "id": "2254858b",
   "metadata": {
    "scrolled": true
   },
   "outputs": [],
   "source": [
    "import os\n",
    "import openai\n",
    "import instructor\n",
    "\n",
    "openai.api_type = \"azure\"\n",
    "openai.api_base = \"https://husein-ai12-aiservices-1163379106.openai.azure.com/\"\n",
    "openai.api_version = \"2023-07-01-preview\"\n",
    "openai.api_key = ''\n",
    "engine = 'gpt-4'"
   ]
  },
  {
   "cell_type": "code",
   "execution_count": 3,
   "id": "a78ddd7a",
   "metadata": {},
   "outputs": [],
   "source": [
    "instructor.patch()"
   ]
  },
  {
   "cell_type": "code",
   "execution_count": 4,
   "id": "898d7652",
   "metadata": {},
   "outputs": [],
   "source": [
    "from pydantic import BaseModel, Field\n",
    "from typing import List\n",
    "\n",
    "class Question(BaseModel):\n",
    "    question: str\n",
    "        \n",
    "class Questions(BaseModel):\n",
    "    questions: List[Question]"
   ]
  },
  {
   "cell_type": "code",
   "execution_count": 14,
   "id": "1319de6b",
   "metadata": {},
   "outputs": [
    {
     "data": {
      "text/plain": [
       "200"
      ]
     },
     "execution_count": 14,
     "metadata": {},
     "output_type": "execute_result"
    }
   ],
   "source": [
    "loghat = [\n",
    "    'kedah',\n",
    "    'kelantan',\n",
    "    'perak',\n",
    "    'negeri sembilan',\n",
    "    'selangor',\n",
    "    'sarawak',\n",
    "    'sabah',\n",
    "    'terengganu',\n",
    "    'johor',\n",
    "    'baling'\n",
    "]\n",
    "\n",
    "loghats = []\n",
    "for l in loghat:\n",
    "    loghats.extend([f'loghat {l}'] * 20)\n",
    "    \n",
    "len(loghats)"
   ]
  },
  {
   "cell_type": "code",
   "execution_count": 17,
   "id": "9cab7328",
   "metadata": {},
   "outputs": [
    {
     "name": "stderr",
     "output_type": "stream",
     "text": [
      "mkdir: cannot create directory ‘base-questions-loghat’: File exists\n",
      "100%|█████████████████████████████████████| 200/200 [00:00<00:00, 444547.32it/s]\n"
     ]
    }
   ],
   "source": [
    "os.system(f'mkdir base-questions-loghat')\n",
    "for i in tqdm(range(len(loghats))):\n",
    "    l = loghats[i]\n",
    "    filename = f'base-questions-loghat/{i}.json'\n",
    "    if os.path.exists(filename):\n",
    "        continue\n",
    "        \n",
    "    message_text = [\n",
    "        {\"role\":\"user\",\"content\": f\"generate random complex {l} questions dalam bahasa melayu related to malaysian context.\"},\n",
    "    ]\n",
    "    try:\n",
    "        response = openai.ChatCompletion.create(\n",
    "          engine=\"gpt-4\",\n",
    "          response_model=Questions,\n",
    "          messages = message_text,\n",
    "          temperature=1.0,\n",
    "          max_tokens=1024,\n",
    "          top_p=0.95,\n",
    "          frequency_penalty=0,\n",
    "          presence_penalty=0,\n",
    "          stop=None\n",
    "        )\n",
    "        with open(filename, 'w') as fopen:\n",
    "            json.dump(response.dict(), fopen)\n",
    "    except Exception as e:\n",
    "        print(e)"
   ]
  },
  {
   "cell_type": "code",
   "execution_count": null,
   "id": "9f0ffaaf",
   "metadata": {},
   "outputs": [],
   "source": []
  }
 ],
 "metadata": {
  "kernelspec": {
   "display_name": "3.9",
   "language": "python",
   "name": "3.9"
  },
  "language_info": {
   "codemirror_mode": {
    "name": "ipython",
    "version": 3
   },
   "file_extension": ".py",
   "mimetype": "text/x-python",
   "name": "python",
   "nbconvert_exporter": "python",
   "pygments_lexer": "ipython3",
   "version": "3.9.16"
  }
 },
 "nbformat": 4,
 "nbformat_minor": 5
}
