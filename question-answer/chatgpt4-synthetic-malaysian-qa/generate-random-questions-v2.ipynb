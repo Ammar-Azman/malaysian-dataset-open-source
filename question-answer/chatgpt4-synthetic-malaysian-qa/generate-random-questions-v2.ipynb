{
 "cells": [
  {
   "cell_type": "code",
   "execution_count": 1,
   "id": "95344e0a",
   "metadata": {},
   "outputs": [],
   "source": [
    "from tqdm import tqdm\n",
    "import os\n",
    "import json"
   ]
  },
  {
   "cell_type": "code",
   "execution_count": 2,
   "id": "2254858b",
   "metadata": {
    "scrolled": true
   },
   "outputs": [
    {
     "name": "stderr",
     "output_type": "stream",
     "text": [
      "/home/husein/.local/lib/python3.8/site-packages/requests/__init__.py:102: RequestsDependencyWarning: urllib3 (1.26.15) or chardet (5.2.0)/charset_normalizer (2.0.7) doesn't match a supported version!\n",
      "  warnings.warn(\"urllib3 ({}) or chardet ({})/charset_normalizer ({}) doesn't match a supported \"\n"
     ]
    }
   ],
   "source": [
    "import os\n",
    "import openai\n",
    "\n",
    "openai.api_type = \"azure\"\n",
    "openai.api_base = \"https://husein-ai2-aiservices.openai.azure.com/\"\n",
    "openai.api_version = \"2023-07-01-preview\"\n",
    "openai.api_key = ''"
   ]
  },
  {
   "cell_type": "code",
   "execution_count": 3,
   "id": "237d585e",
   "metadata": {},
   "outputs": [],
   "source": [
    "!mkdir base-questions-v2"
   ]
  },
  {
   "cell_type": "code",
   "execution_count": 4,
   "id": "a8f5a9ca",
   "metadata": {},
   "outputs": [],
   "source": [
    "topics = [\n",
    "    'negeri johor',\n",
    "    'negeri kedah',\n",
    "    'negeri kelantan',\n",
    "    'negeri melaka',\n",
    "    'negeri negeri sembilan',\n",
    "    'negeri pahang',\n",
    "    'negeri perak',\n",
    "    'negeri perlis',\n",
    "    'negeri pulau pinang',\n",
    "    'negeri selangor',\n",
    "    'negeri terengganu',\n",
    "    'negeri sabah',\n",
    "    'negeri sarawak',\n",
    "    'kuala lumpur',\n",
    "    'negeri labuan',\n",
    "    'putrajaya'\n",
    "]"
   ]
  },
  {
   "cell_type": "code",
   "execution_count": 5,
   "id": "9cab7328",
   "metadata": {},
   "outputs": [
    {
     "name": "stdout",
     "output_type": "stream",
     "text": [
      "negeri johor\n"
     ]
    },
    {
     "name": "stderr",
     "output_type": "stream",
     "text": [
      "100%|███████████████████████████████████████████| 20/20 [04:38<00:00, 13.92s/it]\n"
     ]
    },
    {
     "name": "stdout",
     "output_type": "stream",
     "text": [
      "negeri kedah\n"
     ]
    },
    {
     "name": "stderr",
     "output_type": "stream",
     "text": [
      "100%|███████████████████████████████████████████| 20/20 [04:06<00:00, 12.31s/it]\n"
     ]
    },
    {
     "name": "stdout",
     "output_type": "stream",
     "text": [
      "negeri kelantan\n"
     ]
    },
    {
     "name": "stderr",
     "output_type": "stream",
     "text": [
      "100%|███████████████████████████████████████████| 20/20 [04:19<00:00, 12.99s/it]\n"
     ]
    },
    {
     "name": "stdout",
     "output_type": "stream",
     "text": [
      "negeri melaka\n"
     ]
    },
    {
     "name": "stderr",
     "output_type": "stream",
     "text": [
      "100%|███████████████████████████████████████████| 20/20 [05:14<00:00, 15.73s/it]\n"
     ]
    },
    {
     "name": "stdout",
     "output_type": "stream",
     "text": [
      "negeri negeri sembilan\n"
     ]
    },
    {
     "name": "stderr",
     "output_type": "stream",
     "text": [
      "100%|███████████████████████████████████████████| 20/20 [05:08<00:00, 15.43s/it]\n"
     ]
    },
    {
     "name": "stdout",
     "output_type": "stream",
     "text": [
      "negeri pahang\n"
     ]
    },
    {
     "name": "stderr",
     "output_type": "stream",
     "text": [
      "100%|███████████████████████████████████████████| 20/20 [04:41<00:00, 14.07s/it]\n"
     ]
    },
    {
     "name": "stdout",
     "output_type": "stream",
     "text": [
      "negeri perak\n"
     ]
    },
    {
     "name": "stderr",
     "output_type": "stream",
     "text": [
      "100%|███████████████████████████████████████████| 20/20 [04:31<00:00, 13.60s/it]\n"
     ]
    },
    {
     "name": "stdout",
     "output_type": "stream",
     "text": [
      "negeri perlis\n"
     ]
    },
    {
     "name": "stderr",
     "output_type": "stream",
     "text": [
      "100%|███████████████████████████████████████████| 20/20 [04:36<00:00, 13.81s/it]\n"
     ]
    },
    {
     "name": "stdout",
     "output_type": "stream",
     "text": [
      "negeri pulau pinang\n"
     ]
    },
    {
     "name": "stderr",
     "output_type": "stream",
     "text": [
      "100%|███████████████████████████████████████████| 20/20 [06:24<00:00, 19.24s/it]\n"
     ]
    },
    {
     "name": "stdout",
     "output_type": "stream",
     "text": [
      "negeri selangor\n"
     ]
    },
    {
     "name": "stderr",
     "output_type": "stream",
     "text": [
      "100%|███████████████████████████████████████████| 20/20 [05:24<00:00, 16.24s/it]\n"
     ]
    },
    {
     "name": "stdout",
     "output_type": "stream",
     "text": [
      "negeri terengganu\n"
     ]
    },
    {
     "name": "stderr",
     "output_type": "stream",
     "text": [
      "100%|███████████████████████████████████████████| 20/20 [04:30<00:00, 13.53s/it]\n"
     ]
    },
    {
     "name": "stdout",
     "output_type": "stream",
     "text": [
      "negeri sabah\n"
     ]
    },
    {
     "name": "stderr",
     "output_type": "stream",
     "text": [
      "100%|███████████████████████████████████████████| 20/20 [04:44<00:00, 14.21s/it]\n"
     ]
    },
    {
     "name": "stdout",
     "output_type": "stream",
     "text": [
      "negeri sarawak\n"
     ]
    },
    {
     "name": "stderr",
     "output_type": "stream",
     "text": [
      "100%|███████████████████████████████████████████| 20/20 [05:34<00:00, 16.74s/it]\n"
     ]
    },
    {
     "name": "stdout",
     "output_type": "stream",
     "text": [
      "kuala lumpur\n"
     ]
    },
    {
     "name": "stderr",
     "output_type": "stream",
     "text": [
      "100%|███████████████████████████████████████████| 20/20 [05:12<00:00, 15.64s/it]\n"
     ]
    },
    {
     "name": "stdout",
     "output_type": "stream",
     "text": [
      "negeri labuan\n"
     ]
    },
    {
     "name": "stderr",
     "output_type": "stream",
     "text": [
      "100%|███████████████████████████████████████████| 20/20 [04:01<00:00, 12.10s/it]\n"
     ]
    },
    {
     "name": "stdout",
     "output_type": "stream",
     "text": [
      "putrajaya\n"
     ]
    },
    {
     "name": "stderr",
     "output_type": "stream",
     "text": [
      "100%|███████████████████████████████████████████| 20/20 [03:58<00:00, 11.94s/it]\n"
     ]
    }
   ],
   "source": [
    "for t in topics:\n",
    "    print(t)\n",
    "    t_ = t.replace(' ', '-')\n",
    "    os.system(f'mkdir base-questions-v2-{t_}')\n",
    "    for i in tqdm(range(20)):\n",
    "        message_text = [\n",
    "            {\"role\":\"user\",\"content\": f\"generate random very specific {t} questions dalam bahasa melayu related to malaysian context.\"},\n",
    "        ]\n",
    "        completion = openai.ChatCompletion.create(\n",
    "          engine=\"gpt-4\",\n",
    "          messages = message_text,\n",
    "          temperature=1.0,\n",
    "          max_tokens=1024,\n",
    "          top_p=0.95,\n",
    "          frequency_penalty=0,\n",
    "          presence_penalty=0,\n",
    "          stop=None\n",
    "        )\n",
    "        splitted = completion.choices[0]['message']['content'].split('\\n')\n",
    "        with open(f'base-questions-v2-{t_}/{i}.json', 'w') as fopen:\n",
    "            json.dump(splitted, fopen)"
   ]
  },
  {
   "cell_type": "code",
   "execution_count": 6,
   "id": "8254ad33",
   "metadata": {},
   "outputs": [],
   "source": [
    "topics = [\n",
    "    'najib razak',\n",
    "    'anwar ibrahim',\n",
    "    'parti keadilan rakyat',\n",
    "    'parti islam semalaysia',\n",
    "    'dr mahathir mohamad',\n",
    "    'barisan nasional',\n",
    "    'constitutional monarchy',\n",
    "    'parliamentary democracy',\n",
    "    'political economy',\n",
    "    'political dynamic',\n",
    "    'empowerment of youths',\n",
    "    'kebebasan bersuara',\n",
    "]"
   ]
  },
  {
   "cell_type": "code",
   "execution_count": 7,
   "id": "d0fbc57c",
   "metadata": {},
   "outputs": [
    {
     "name": "stdout",
     "output_type": "stream",
     "text": [
      "najib razak\n"
     ]
    },
    {
     "name": "stderr",
     "output_type": "stream",
     "text": [
      "100%|███████████████████████████████████████████| 20/20 [03:37<00:00, 10.88s/it]\n"
     ]
    },
    {
     "name": "stdout",
     "output_type": "stream",
     "text": [
      "anwar ibrahim\n"
     ]
    },
    {
     "name": "stderr",
     "output_type": "stream",
     "text": [
      "100%|███████████████████████████████████████████| 20/20 [03:15<00:00,  9.78s/it]\n"
     ]
    },
    {
     "name": "stdout",
     "output_type": "stream",
     "text": [
      "parti keadilan rakyat\n"
     ]
    },
    {
     "name": "stderr",
     "output_type": "stream",
     "text": [
      "100%|███████████████████████████████████████████| 20/20 [03:49<00:00, 11.49s/it]\n"
     ]
    },
    {
     "name": "stdout",
     "output_type": "stream",
     "text": [
      "parti islam semalaysia\n"
     ]
    },
    {
     "name": "stderr",
     "output_type": "stream",
     "text": [
      "100%|███████████████████████████████████████████| 20/20 [03:32<00:00, 10.62s/it]\n"
     ]
    },
    {
     "name": "stdout",
     "output_type": "stream",
     "text": [
      "dr mahathir mohamad\n"
     ]
    },
    {
     "name": "stderr",
     "output_type": "stream",
     "text": [
      "100%|███████████████████████████████████████████| 20/20 [04:27<00:00, 13.36s/it]\n"
     ]
    },
    {
     "name": "stdout",
     "output_type": "stream",
     "text": [
      "barisan nasional\n"
     ]
    },
    {
     "name": "stderr",
     "output_type": "stream",
     "text": [
      "100%|███████████████████████████████████████████| 20/20 [03:55<00:00, 11.77s/it]\n"
     ]
    },
    {
     "name": "stdout",
     "output_type": "stream",
     "text": [
      "constitutional monarchy\n"
     ]
    },
    {
     "name": "stderr",
     "output_type": "stream",
     "text": [
      "100%|███████████████████████████████████████████| 20/20 [04:15<00:00, 12.78s/it]\n"
     ]
    },
    {
     "name": "stdout",
     "output_type": "stream",
     "text": [
      "parliamentary democracy\n"
     ]
    },
    {
     "name": "stderr",
     "output_type": "stream",
     "text": [
      "100%|███████████████████████████████████████████| 20/20 [05:13<00:00, 15.66s/it]\n"
     ]
    },
    {
     "name": "stdout",
     "output_type": "stream",
     "text": [
      "political economy\n"
     ]
    },
    {
     "name": "stderr",
     "output_type": "stream",
     "text": [
      "100%|███████████████████████████████████████████| 20/20 [04:47<00:00, 14.38s/it]\n"
     ]
    },
    {
     "name": "stdout",
     "output_type": "stream",
     "text": [
      "political dynamic\n"
     ]
    },
    {
     "name": "stderr",
     "output_type": "stream",
     "text": [
      "100%|███████████████████████████████████████████| 20/20 [04:33<00:00, 13.67s/it]\n"
     ]
    },
    {
     "name": "stdout",
     "output_type": "stream",
     "text": [
      "empowerment of youths\n"
     ]
    },
    {
     "name": "stderr",
     "output_type": "stream",
     "text": [
      "100%|███████████████████████████████████████████| 20/20 [04:49<00:00, 14.47s/it]\n"
     ]
    },
    {
     "name": "stdout",
     "output_type": "stream",
     "text": [
      "kebebasan bersuara\n"
     ]
    },
    {
     "name": "stderr",
     "output_type": "stream",
     "text": [
      "100%|███████████████████████████████████████████| 20/20 [04:50<00:00, 14.55s/it]\n"
     ]
    }
   ],
   "source": [
    "for t in topics:\n",
    "    print(t)\n",
    "    t_ = t.replace(' ', '-')\n",
    "    os.system(f'mkdir base-questions-v2-{t_}')\n",
    "    for i in tqdm(range(20)):\n",
    "        message_text = [\n",
    "            {\"role\":\"user\",\"content\": f\"generate random very specific {t} questions dalam bahasa melayu related to malaysian context.\"},\n",
    "        ]\n",
    "        completion = openai.ChatCompletion.create(\n",
    "          engine=\"gpt-4\",\n",
    "          messages = message_text,\n",
    "          temperature=1.0,\n",
    "          max_tokens=1024,\n",
    "          top_p=0.95,\n",
    "          frequency_penalty=0,\n",
    "          presence_penalty=0,\n",
    "          stop=None\n",
    "        )\n",
    "        splitted = completion.choices[0]['message']['content'].split('\\n')\n",
    "        with open(f'base-questions-v2-{t_}/{i}.json', 'w') as fopen:\n",
    "            json.dump(splitted, fopen)"
   ]
  },
  {
   "cell_type": "code",
   "execution_count": null,
   "id": "9be4857a",
   "metadata": {},
   "outputs": [],
   "source": []
  }
 ],
 "metadata": {
  "kernelspec": {
   "display_name": "Python 3 (ipykernel)",
   "language": "python",
   "name": "python3"
  },
  "language_info": {
   "codemirror_mode": {
    "name": "ipython",
    "version": 3
   },
   "file_extension": ".py",
   "mimetype": "text/x-python",
   "name": "python",
   "nbconvert_exporter": "python",
   "pygments_lexer": "ipython3",
   "version": "3.8.10"
  }
 },
 "nbformat": 4,
 "nbformat_minor": 5
}
