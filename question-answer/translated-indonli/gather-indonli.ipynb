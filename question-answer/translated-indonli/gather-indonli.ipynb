{
 "cells": [
  {
   "cell_type": "code",
   "execution_count": 1,
   "id": "1bb29f6c",
   "metadata": {},
   "outputs": [],
   "source": [
    "# !wget https://huggingface.co/datasets/indonli/resolve/refs%2Fconvert%2Fparquet/indonli/test_expert/0000.parquet -O test_expert.parquet\n",
    "# !wget https://huggingface.co/datasets/indonli/resolve/refs%2Fconvert%2Fparquet/indonli/train/0000.parquet -O train.parquet\n",
    "# !wget https://huggingface.co/datasets/indonli/resolve/refs%2Fconvert%2Fparquet/indonli/validation/0000.parquet -O validation.parquet"
   ]
  },
  {
   "cell_type": "code",
   "execution_count": 4,
   "id": "b0175e71",
   "metadata": {},
   "outputs": [],
   "source": [
    "import pandas as pd\n",
    "import json\n",
    "from glob import glob"
   ]
  },
  {
   "cell_type": "code",
   "execution_count": 3,
   "id": "c611988c",
   "metadata": {},
   "outputs": [
    {
     "data": {
      "text/plain": [
       "['test_expert.parquet', 'validation.parquet', 'train.parquet']"
      ]
     },
     "execution_count": 3,
     "metadata": {},
     "output_type": "execute_result"
    }
   ],
   "source": [
    "files = glob('*.parquet')\n",
    "files = [f for f in files if 'glaive_dataset_recreated' not in f]\n",
    "files"
   ]
  },
  {
   "cell_type": "code",
   "execution_count": 7,
   "id": "6f20759b",
   "metadata": {},
   "outputs": [
    {
     "data": {
      "text/plain": [
       "18437"
      ]
     },
     "execution_count": 7,
     "metadata": {},
     "output_type": "execute_result"
    }
   ],
   "source": [
    "mapping = {}\n",
    "with open('indonli.jsonl.requested') as fopen:\n",
    "    for l in fopen:\n",
    "        l = json.loads(l)\n",
    "        mapping[l['src']] = l['r']\n",
    "len(mapping)"
   ]
  },
  {
   "cell_type": "code",
   "execution_count": 12,
   "id": "86b3b577",
   "metadata": {},
   "outputs": [
    {
     "data": {
      "text/plain": [
       "{'premise': 'Film Bucin bercerita tentang 4 sahabat (Andovi, Tommy, Jovi, dan Chandra) yang berusaha keluar dari hubungan yang tidak sehat karena mereka BUCIN (Budak Cinta). Mereka memutuskan untuk mengikuti kelas ANTI BUCIN agar mereka bisa menjalankan hubungan yang lebih dewasa, dan tidak diperbudak oleh cinta.',\n",
       " 'hypothesis': 'Empat sahabat mengikuti kelas BUCIN.',\n",
       " 'label': 2}"
      ]
     },
     "execution_count": 12,
     "metadata": {},
     "output_type": "execute_result"
    }
   ],
   "source": [
    "df.iloc[0].to_dict()"
   ]
  },
  {
   "cell_type": "code",
   "execution_count": 14,
   "id": "d709f7c5",
   "metadata": {},
   "outputs": [],
   "source": [
    "for f in files:\n",
    "    df = pd.read_parquet(f)\n",
    "    new_f = f.replace('.parquet', '.jsonl')\n",
    "    with open(new_f, 'w') as fopen:\n",
    "        for i in range(len(df)):\n",
    "            row = df.iloc[i].to_dict()\n",
    "            row['premise_ms'] = mapping.get(row['premise'])\n",
    "            row['hypothesis_ms'] = mapping.get(row['hypothesis'])\n",
    "            fopen.write(f'{json.dumps(row)}\\n')"
   ]
  }
 ],
 "metadata": {
  "kernelspec": {
   "display_name": "Python 3 (ipykernel)",
   "language": "python",
   "name": "python3"
  },
  "language_info": {
   "codemirror_mode": {
    "name": "ipython",
    "version": 3
   },
   "file_extension": ".py",
   "mimetype": "text/x-python",
   "name": "python",
   "nbconvert_exporter": "python",
   "pygments_lexer": "ipython3",
   "version": "3.8.10"
  }
 },
 "nbformat": 4,
 "nbformat_minor": 5
}
