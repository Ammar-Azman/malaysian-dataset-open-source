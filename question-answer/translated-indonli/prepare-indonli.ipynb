{
 "cells": [
  {
   "cell_type": "code",
   "execution_count": 3,
   "id": "1bb29f6c",
   "metadata": {},
   "outputs": [],
   "source": [
    "# !wget https://huggingface.co/datasets/indonli/resolve/refs%2Fconvert%2Fparquet/indonli/test_expert/0000.parquet -O test_expert.parquet\n",
    "# !wget https://huggingface.co/datasets/indonli/resolve/refs%2Fconvert%2Fparquet/indonli/train/0000.parquet -O train.parquet\n",
    "# !wget https://huggingface.co/datasets/indonli/resolve/refs%2Fconvert%2Fparquet/indonli/validation/0000.parquet -O validation.parquet"
   ]
  },
  {
   "cell_type": "code",
   "execution_count": 4,
   "id": "b0175e71",
   "metadata": {},
   "outputs": [],
   "source": [
    "import pandas as pd\n",
    "from glob import glob"
   ]
  },
  {
   "cell_type": "code",
   "execution_count": 13,
   "id": "c611988c",
   "metadata": {},
   "outputs": [
    {
     "data": {
      "text/plain": [
       "['test_expert.parquet', 'validation.parquet', 'train.parquet']"
      ]
     },
     "execution_count": 13,
     "metadata": {},
     "output_type": "execute_result"
    }
   ],
   "source": [
    "files = glob('*.parquet')\n",
    "files = [f for f in files if 'glaive_dataset_recreated' not in f]\n",
    "files"
   ]
  },
  {
   "cell_type": "code",
   "execution_count": 14,
   "id": "d709f7c5",
   "metadata": {},
   "outputs": [
    {
     "data": {
      "text/plain": [
       "31022"
      ]
     },
     "execution_count": 14,
     "metadata": {},
     "output_type": "execute_result"
    }
   ],
   "source": [
    "texts = []\n",
    "for f in files:\n",
    "    df = pd.read_parquet(f)\n",
    "    texts.extend(df['premise'].tolist())\n",
    "    texts.extend(df['hypothesis'].tolist())\n",
    "len(texts)"
   ]
  },
  {
   "cell_type": "code",
   "execution_count": 15,
   "id": "aabd5d42",
   "metadata": {},
   "outputs": [
    {
     "data": {
      "text/plain": [
       "18437"
      ]
     },
     "execution_count": 15,
     "metadata": {},
     "output_type": "execute_result"
    }
   ],
   "source": [
    "texts = [t for t in texts if len(t)]\n",
    "texts = list(set(texts))\n",
    "len(texts)"
   ]
  },
  {
   "cell_type": "code",
   "execution_count": 16,
   "id": "b20ac38d",
   "metadata": {},
   "outputs": [],
   "source": [
    "import json\n",
    "\n",
    "with open('indonli.jsonl', 'w') as fopen:\n",
    "    for t in texts:\n",
    "        fopen.write(f'{json.dumps(t)}\\n')"
   ]
  }
 ],
 "metadata": {
  "kernelspec": {
   "display_name": "Python 3 (ipykernel)",
   "language": "python",
   "name": "python3"
  },
  "language_info": {
   "codemirror_mode": {
    "name": "ipython",
    "version": 3
   },
   "file_extension": ".py",
   "mimetype": "text/x-python",
   "name": "python",
   "nbconvert_exporter": "python",
   "pygments_lexer": "ipython3",
   "version": "3.8.10"
  }
 },
 "nbformat": 4,
 "nbformat_minor": 5
}
