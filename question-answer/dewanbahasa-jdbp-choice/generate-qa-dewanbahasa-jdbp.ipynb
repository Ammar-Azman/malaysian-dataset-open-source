{
 "cells": [
  {
   "cell_type": "code",
   "execution_count": 1,
   "id": "b2094167",
   "metadata": {},
   "outputs": [
    {
     "name": "stderr",
     "output_type": "stream",
     "text": [
      "/home/husein/3.9/lib/python3.9/site-packages/tqdm/auto.py:21: TqdmWarning: IProgress not found. Please update jupyter and ipywidgets. See https://ipywidgets.readthedocs.io/en/stable/user_install.html\n",
      "  from .autonotebook import tqdm as notebook_tqdm\n",
      "/home/husein/3.9/lib/python3.9/site-packages/malaya/tokenizer.py:214: FutureWarning: Possible nested set at position 3397\n",
      "  self.tok = re.compile(r'({})'.format('|'.join(pipeline)))\n",
      "/home/husein/3.9/lib/python3.9/site-packages/malaya/tokenizer.py:214: FutureWarning: Possible nested set at position 3927\n",
      "  self.tok = re.compile(r'({})'.format('|'.join(pipeline)))\n"
     ]
    }
   ],
   "source": [
    "import openai\n",
    "import instructor\n",
    "import json\n",
    "import os\n",
    "import malaya\n",
    "from pydantic import BaseModel, Field\n",
    "from enum import Enum\n",
    "from bs4 import BeautifulSoup\n",
    "from concurrent.futures import ThreadPoolExecutor, as_completed\n",
    "from unidecode import unidecode\n",
    "import re\n",
    "\n",
    "minimum_len = 15\n",
    "\n",
    "def simple_cleaning(string):\n",
    "    return re.sub(r'[ ]+', ' ', unidecode(string).replace('\\n', ' ').replace('--', ' ').replace('/', ' ')).strip()"
   ]
  },
  {
   "cell_type": "code",
   "execution_count": 11,
   "id": "46548eef",
   "metadata": {},
   "outputs": [],
   "source": [
    "# !wget https://huggingface.co/datasets/malaysia-ai/dedup-text-dataset/resolve/main/dewanbahasa-jdbp.jsonl"
   ]
  },
  {
   "cell_type": "code",
   "execution_count": 2,
   "id": "9e994745",
   "metadata": {},
   "outputs": [],
   "source": [
    "openai.api_type = 'azure'\n",
    "openai.api_base = 'https://nous.openai.azure.com/'\n",
    "openai.api_version = '2023-07-01-preview'\n",
    "openai.api_key = ''"
   ]
  },
  {
   "cell_type": "code",
   "execution_count": 3,
   "id": "d1aac3a1",
   "metadata": {},
   "outputs": [],
   "source": [
    "instructor.patch()"
   ]
  },
  {
   "cell_type": "code",
   "execution_count": 4,
   "id": "b2db7016",
   "metadata": {},
   "outputs": [],
   "source": [
    "engine = 'nous'"
   ]
  },
  {
   "cell_type": "code",
   "execution_count": 5,
   "id": "6ec6a880",
   "metadata": {},
   "outputs": [],
   "source": [
    "from typing import List\n",
    "\n",
    "class AnswerEnum(str, Enum):\n",
    "    A = 'A'\n",
    "    B = 'B'\n",
    "    C = 'C'\n",
    "    D = 'D'\n",
    "    \n",
    "class Selective_QA(BaseModel):\n",
    "    question: str\n",
    "    A: str\n",
    "    B: str\n",
    "    C: str\n",
    "    D: str\n",
    "    answer: AnswerEnum\n",
    "        \n",
    "class QAS(BaseModel):\n",
    "    qa: List[Selective_QA]"
   ]
  },
  {
   "cell_type": "code",
   "execution_count": 6,
   "id": "af5adf65",
   "metadata": {},
   "outputs": [],
   "source": [
    "def predict(text):\n",
    "    try:\n",
    "        messages = [\n",
    "            {\"role\": \"user\", \"content\": text},\n",
    "        ]\n",
    "        response = openai.ChatCompletion.create(\n",
    "            engine=engine,\n",
    "            response_model=QAS,\n",
    "            messages=messages,\n",
    "            temperature=1.0,\n",
    "            max_tokens=1024,\n",
    "            top_p=0.95,\n",
    "        )\n",
    "        return response.dict()\n",
    "    except Exception as e:\n",
    "        return None"
   ]
  },
  {
   "cell_type": "code",
   "execution_count": 46,
   "id": "943af1ef",
   "metadata": {},
   "outputs": [],
   "source": [
    "def generate(filename, l):\n",
    "    if os.path.exists(filename):\n",
    "        return\n",
    "    \n",
    "    s = f\"\"\"\n",
    "paragraph ```\n",
    "{l['paragraph']}\n",
    "```\n",
    "\n",
    "berdasarkan paragraph, jana soalan melayu dan jawapan melayu\n",
    "\"\"\"\n",
    "    s = s.strip()\n",
    "    r = predict(s)\n",
    "    l['qa'] = r\n",
    "\n",
    "    with open(filename, 'w') as fopen:\n",
    "        json.dump(l, fopen)"
   ]
  },
  {
   "cell_type": "code",
   "execution_count": 47,
   "id": "ab9ffa58",
   "metadata": {
    "scrolled": true
   },
   "outputs": [
    {
     "data": {
      "text/plain": [
       "4577"
      ]
     },
     "execution_count": 47,
     "metadata": {},
     "output_type": "execute_result"
    }
   ],
   "source": [
    "data = []\n",
    "\n",
    "with open('dewanbahasa-jdbp.jsonl') as fopen:\n",
    "    for l in fopen:\n",
    "        l = json.loads(l)\n",
    "        data.append({'paragraph': l})\n",
    "        \n",
    "len(data)"
   ]
  },
  {
   "cell_type": "code",
   "execution_count": 48,
   "id": "39a66f7e",
   "metadata": {},
   "outputs": [],
   "source": [
    "i = 0\n",
    "max_worker = 1\n",
    "b = data[i: i + max_worker]\n",
    "filenames = [(os.path.join('qa-dewanbahasa-jdbp', f'{i + k}.json'), l) for k, l in enumerate(b)]"
   ]
  },
  {
   "cell_type": "code",
   "execution_count": 49,
   "id": "981d30ad",
   "metadata": {},
   "outputs": [],
   "source": [
    "# !rm -rf qa-dewanbahasa-jdbp\n",
    "!mkdir qa-dewanbahasa-jdbp"
   ]
  },
  {
   "cell_type": "code",
   "execution_count": 50,
   "id": "bd51c3f0",
   "metadata": {},
   "outputs": [
    {
     "name": "stderr",
     "output_type": "stream",
     "text": [
      "/tmp/ipykernel_2803074/2792591719.py:14: PydanticDeprecatedSince20: The `dict` method is deprecated; use `model_dump` instead. Deprecated in Pydantic V2.0 to be removed in V3.0. See Pydantic V2 Migration Guide at https://errors.pydantic.dev/2.4/migration/\n",
      "  return response.dict()\n"
     ]
    }
   ],
   "source": [
    "generate(filenames[0][0], filenames[0][1])"
   ]
  },
  {
   "cell_type": "code",
   "execution_count": 51,
   "id": "1dd52113",
   "metadata": {},
   "outputs": [
    {
     "name": "stderr",
     "output_type": "stream",
     "text": [
      "  0%|                                        | 2/4577 [00:06<4:04:16,  3.20s/it]/tmp/ipykernel_2803074/2792591719.py:14: PydanticDeprecatedSince20: The `dict` method is deprecated; use `model_dump` instead. Deprecated in Pydantic V2.0 to be removed in V3.0. See Pydantic V2 Migration Guide at https://errors.pydantic.dev/2.4/migration/\n",
      "  return response.dict()\n",
      "100%|█████████████████████████████████████| 4577/4577 [8:02:01<00:00,  6.32s/it]\n"
     ]
    }
   ],
   "source": [
    "from tqdm import tqdm\n",
    "\n",
    "max_worker = 1\n",
    "for i in tqdm(range(0, len(data), max_worker)):\n",
    "    b = data[i: i + max_worker]\n",
    "    filenames = [(os.path.join('qa-dewanbahasa-jdbp', f'{i + k}.json'), l) for k, l in enumerate(b)]\n",
    "    with ThreadPoolExecutor(max_workers=max_worker) as executor:\n",
    "        futures = {executor.submit(generate, *f): f for f in filenames}\n",
    "\n",
    "        for future in as_completed(futures):\n",
    "            future.result()"
   ]
  }
 ],
 "metadata": {
  "kernelspec": {
   "display_name": "3.9",
   "language": "python",
   "name": "3.9"
  },
  "language_info": {
   "codemirror_mode": {
    "name": "ipython",
    "version": 3
   },
   "file_extension": ".py",
   "mimetype": "text/x-python",
   "name": "python",
   "nbconvert_exporter": "python",
   "pygments_lexer": "ipython3",
   "version": "3.9.16"
  }
 },
 "nbformat": 4,
 "nbformat_minor": 5
}
