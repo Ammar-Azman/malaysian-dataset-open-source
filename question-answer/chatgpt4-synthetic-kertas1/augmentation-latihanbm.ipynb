{
 "cells": [
  {
   "cell_type": "code",
   "execution_count": 1,
   "id": "ee9a00e9",
   "metadata": {},
   "outputs": [],
   "source": [
    "# !wget https://huggingface.co/datasets/aisyahhrazak/crawl-soalan/resolve/main/latihanbm-katagandasepara.jsonl\n",
    "# !wget https://huggingface.co/datasets/aisyahhrazak/crawl-soalan/resolve/main/latihanbm-kbsr-simpulanbahasa.jsonl\n",
    "# !wget https://huggingface.co/datasets/aisyahhrazak/crawl-soalan/resolve/main/latihanbm-pepatahbidalan.jsonl\n",
    "# !wget https://huggingface.co/datasets/aisyahhrazak/crawl-soalan/resolve/main/latihanbm-perumpamaan.jsonl\n",
    "# !wget https://huggingface.co/datasets/aisyahhrazak/crawl-soalan/resolve/main/latihanbm-tahun-6.jsonl\n",
    "# !wget https://huggingface.co/datasets/aisyahhrazak/crawl-soalan/resolve/main/latihanbm-tatabahasa.jsonl"
   ]
  },
  {
   "cell_type": "code",
   "execution_count": 2,
   "id": "43c19ed8",
   "metadata": {},
   "outputs": [],
   "source": [
    "files = [\n",
    "    'latihanbm-katagandasepara.jsonl',\n",
    "    'latihanbm-kbsr-simpulanbahasa.jsonl',\n",
    "    'latihanbm-pepatahbidalan.jsonl',\n",
    "    'latihanbm-perumpamaan.jsonl',\n",
    "    'latihanbm-tahun-6.jsonl',\n",
    "    'latihanbm-tatabahasa.jsonl'\n",
    "]"
   ]
  },
  {
   "cell_type": "code",
   "execution_count": 3,
   "id": "c0758026",
   "metadata": {},
   "outputs": [],
   "source": [
    "import json\n",
    "import re\n",
    "\n",
    "letters = {'A', 'B', 'C', 'D'}\n",
    "\n",
    "instructions = []\n",
    "\n",
    "for f in files:\n",
    "    with open(f) as fopen:\n",
    "        for l in fopen:\n",
    "            l = json.loads(l)\n",
    "\n",
    "            answers, temp = [], []\n",
    "            for s in l['answer_choice'].split():\n",
    "                s = s.strip()\n",
    "                if s in letters:\n",
    "                    if not len(temp):\n",
    "                        temp.append(s)\n",
    "                    else:\n",
    "                        answers.append(temp)\n",
    "                        temp = [s]\n",
    "                else:\n",
    "                    temp.append(s)\n",
    "\n",
    "            if len(temp):\n",
    "                answers.append(temp)\n",
    "                \n",
    "            q = l['question'].replace('\\n', ' ').strip()\n",
    "            q = re.sub(r'[ ]+', ' ', q).strip()\n",
    "            answer = l['answer'].strip()\n",
    "\n",
    "            choice = [' '.join(a) for a in answers]\n",
    "            choice = '\\n'.join(choice)\n",
    "            s = f\"Jawab soalan berikut.\\n{q}\\n{choice}\\nJawapan: {answer}\"\n",
    "            instructions.append(s)"
   ]
  },
  {
   "cell_type": "code",
   "execution_count": 4,
   "id": "8785847f",
   "metadata": {},
   "outputs": [
    {
     "data": {
      "text/plain": [
       "262"
      ]
     },
     "execution_count": 4,
     "metadata": {},
     "output_type": "execute_result"
    }
   ],
   "source": [
    "len(instructions)"
   ]
  },
  {
   "cell_type": "code",
   "execution_count": 5,
   "id": "77acec19",
   "metadata": {},
   "outputs": [
    {
     "name": "stdout",
     "output_type": "stream",
     "text": [
      "Jawab soalan berikut.\n",
      "3 Manisah amat menggemari pekasam ikan _______ yang dibuat oleh neneknya.\n",
      "A peparam\n",
      "C pepuyu\n",
      "B jejentik\n",
      "D reriang\n",
      "Jawapan: C\n"
     ]
    }
   ],
   "source": [
    "print(instructions[2])"
   ]
  },
  {
   "cell_type": "code",
   "execution_count": 6,
   "id": "566f87e6",
   "metadata": {},
   "outputs": [
    {
     "name": "stderr",
     "output_type": "stream",
     "text": [
      "/home/husein/.local/lib/python3.8/site-packages/requests/__init__.py:102: RequestsDependencyWarning: urllib3 (1.26.15) or chardet (5.2.0)/charset_normalizer (2.0.7) doesn't match a supported version!\n",
      "  warnings.warn(\"urllib3 ({}) or chardet ({})/charset_normalizer ({}) doesn't match a supported \"\n"
     ]
    }
   ],
   "source": [
    "import os\n",
    "import openai\n",
    "\n",
    "openai.api_type = \"azure\"\n",
    "openai.api_base = \"https://husein-ai2-aiservices.openai.azure.com/\"\n",
    "openai.api_version = \"2023-07-01-preview\"\n",
    "openai.api_key = ''"
   ]
  },
  {
   "cell_type": "code",
   "execution_count": 7,
   "id": "fc759a3e",
   "metadata": {},
   "outputs": [
    {
     "name": "stdout",
     "output_type": "stream",
     "text": [
      "mkdir: cannot create directory ‘latihanbm’: File exists\r\n"
     ]
    }
   ],
   "source": [
    "!mkdir latihanbm"
   ]
  },
  {
   "cell_type": "code",
   "execution_count": 8,
   "id": "a8c3eef8",
   "metadata": {},
   "outputs": [
    {
     "name": "stderr",
     "output_type": "stream",
     "text": [
      " 13%|█████▏                                  | 34/262 [26:28<3:08:53, 49.71s/it]"
     ]
    },
    {
     "name": "stdout",
     "output_type": "stream",
     "text": [
      "The response was filtered due to the prompt triggering Azure OpenAI's content management policy. Please modify your prompt and retry. To learn more about our content filtering policies please read our documentation: https://go.microsoft.com/fwlink/?linkid=2198766\n",
      "The response was filtered due to the prompt triggering Azure OpenAI's content management policy. Please modify your prompt and retry. To learn more about our content filtering policies please read our documentation: https://go.microsoft.com/fwlink/?linkid=2198766\n"
     ]
    },
    {
     "name": "stderr",
     "output_type": "stream",
     "text": [
      " 13%|█████▎                                  | 35/262 [27:05<2:54:00, 45.99s/it]"
     ]
    },
    {
     "name": "stdout",
     "output_type": "stream",
     "text": [
      "The response was filtered due to the prompt triggering Azure OpenAI's content management policy. Please modify your prompt and retry. To learn more about our content filtering policies please read our documentation: https://go.microsoft.com/fwlink/?linkid=2198766\n"
     ]
    },
    {
     "name": "stderr",
     "output_type": "stream",
     "text": [
      " 19%|███████▊                                | 51/262 [38:16<2:42:43, 46.27s/it]"
     ]
    },
    {
     "name": "stdout",
     "output_type": "stream",
     "text": [
      "'content'\n"
     ]
    },
    {
     "name": "stderr",
     "output_type": "stream",
     "text": [
      " 23%|█████████                               | 59/262 [44:15<2:40:34, 47.46s/it]"
     ]
    },
    {
     "name": "stdout",
     "output_type": "stream",
     "text": [
      "The response was filtered due to the prompt triggering Azure OpenAI's content management policy. Please modify your prompt and retry. To learn more about our content filtering policies please read our documentation: https://go.microsoft.com/fwlink/?linkid=2198766\n",
      "The response was filtered due to the prompt triggering Azure OpenAI's content management policy. Please modify your prompt and retry. To learn more about our content filtering policies please read our documentation: https://go.microsoft.com/fwlink/?linkid=2198766\n"
     ]
    },
    {
     "name": "stderr",
     "output_type": "stream",
     "text": [
      " 23%|█████████▏                              | 60/262 [44:55<2:32:24, 45.27s/it]"
     ]
    },
    {
     "name": "stdout",
     "output_type": "stream",
     "text": [
      "The response was filtered due to the prompt triggering Azure OpenAI's content management policy. Please modify your prompt and retry. To learn more about our content filtering policies please read our documentation: https://go.microsoft.com/fwlink/?linkid=2198766\n"
     ]
    },
    {
     "name": "stderr",
     "output_type": "stream",
     "text": [
      " 52%|███████████████████▏                 | 136/262 [1:52:53<2:06:43, 60.35s/it]"
     ]
    },
    {
     "name": "stdout",
     "output_type": "stream",
     "text": [
      "The response was filtered due to the prompt triggering Azure OpenAI's content management policy. Please modify your prompt and retry. To learn more about our content filtering policies please read our documentation: https://go.microsoft.com/fwlink/?linkid=2198766\n",
      "The response was filtered due to the prompt triggering Azure OpenAI's content management policy. Please modify your prompt and retry. To learn more about our content filtering policies please read our documentation: https://go.microsoft.com/fwlink/?linkid=2198766\n"
     ]
    },
    {
     "name": "stderr",
     "output_type": "stream",
     "text": [
      " 52%|███████████████████▎                 | 137/262 [1:53:52<2:05:19, 60.16s/it]"
     ]
    },
    {
     "name": "stdout",
     "output_type": "stream",
     "text": [
      "The response was filtered due to the prompt triggering Azure OpenAI's content management policy. Please modify your prompt and retry. To learn more about our content filtering policies please read our documentation: https://go.microsoft.com/fwlink/?linkid=2198766\n"
     ]
    },
    {
     "name": "stderr",
     "output_type": "stream",
     "text": [
      " 60%|██████████████████████               | 156/262 [2:08:12<1:17:35, 43.92s/it]"
     ]
    },
    {
     "name": "stdout",
     "output_type": "stream",
     "text": [
      "The response was filtered due to the prompt triggering Azure OpenAI's content management policy. Please modify your prompt and retry. To learn more about our content filtering policies please read our documentation: https://go.microsoft.com/fwlink/?linkid=2198766\n",
      "The response was filtered due to the prompt triggering Azure OpenAI's content management policy. Please modify your prompt and retry. To learn more about our content filtering policies please read our documentation: https://go.microsoft.com/fwlink/?linkid=2198766\n"
     ]
    },
    {
     "name": "stderr",
     "output_type": "stream",
     "text": [
      " 60%|██████████████████████▏              | 157/262 [2:09:14<1:25:57, 49.12s/it]"
     ]
    },
    {
     "name": "stdout",
     "output_type": "stream",
     "text": [
      "The response was filtered due to the prompt triggering Azure OpenAI's content management policy. Please modify your prompt and retry. To learn more about our content filtering policies please read our documentation: https://go.microsoft.com/fwlink/?linkid=2198766\n"
     ]
    },
    {
     "name": "stderr",
     "output_type": "stream",
     "text": [
      " 62%|███████████████████████              | 163/262 [2:13:57<1:13:12, 44.37s/it]"
     ]
    },
    {
     "name": "stdout",
     "output_type": "stream",
     "text": [
      "The response was filtered due to the prompt triggering Azure OpenAI's content management policy. Please modify your prompt and retry. To learn more about our content filtering policies please read our documentation: https://go.microsoft.com/fwlink/?linkid=2198766\n",
      "The response was filtered due to the prompt triggering Azure OpenAI's content management policy. Please modify your prompt and retry. To learn more about our content filtering policies please read our documentation: https://go.microsoft.com/fwlink/?linkid=2198766\n"
     ]
    },
    {
     "name": "stderr",
     "output_type": "stream",
     "text": [
      " 63%|███████████████████████▏             | 164/262 [2:14:33<1:08:24, 41.88s/it]"
     ]
    },
    {
     "name": "stdout",
     "output_type": "stream",
     "text": [
      "The response was filtered due to the prompt triggering Azure OpenAI's content management policy. Please modify your prompt and retry. To learn more about our content filtering policies please read our documentation: https://go.microsoft.com/fwlink/?linkid=2198766\n"
     ]
    },
    {
     "name": "stderr",
     "output_type": "stream",
     "text": [
      " 69%|█████████████████████████▋           | 182/262 [2:28:06<1:01:33, 46.17s/it]"
     ]
    },
    {
     "name": "stdout",
     "output_type": "stream",
     "text": [
      "The response was filtered due to the prompt triggering Azure OpenAI's content management policy. Please modify your prompt and retry. To learn more about our content filtering policies please read our documentation: https://go.microsoft.com/fwlink/?linkid=2198766\n",
      "The response was filtered due to the prompt triggering Azure OpenAI's content management policy. Please modify your prompt and retry. To learn more about our content filtering policies please read our documentation: https://go.microsoft.com/fwlink/?linkid=2198766\n"
     ]
    },
    {
     "name": "stderr",
     "output_type": "stream",
     "text": [
      " 70%|███████████████████████████▏           | 183/262 [2:28:49<59:19, 45.05s/it]"
     ]
    },
    {
     "name": "stdout",
     "output_type": "stream",
     "text": [
      "The response was filtered due to the prompt triggering Azure OpenAI's content management policy. Please modify your prompt and retry. To learn more about our content filtering policies please read our documentation: https://go.microsoft.com/fwlink/?linkid=2198766\n"
     ]
    },
    {
     "name": "stderr",
     "output_type": "stream",
     "text": [
      " 70%|█████████████████████████▉           | 184/262 [2:29:46<1:03:29, 48.83s/it]"
     ]
    },
    {
     "name": "stdout",
     "output_type": "stream",
     "text": [
      "The response was filtered due to the prompt triggering Azure OpenAI's content management policy. Please modify your prompt and retry. To learn more about our content filtering policies please read our documentation: https://go.microsoft.com/fwlink/?linkid=2198766\n",
      "The response was filtered due to the prompt triggering Azure OpenAI's content management policy. Please modify your prompt and retry. To learn more about our content filtering policies please read our documentation: https://go.microsoft.com/fwlink/?linkid=2198766\n"
     ]
    },
    {
     "name": "stderr",
     "output_type": "stream",
     "text": [
      " 71%|███████████████████████████▌           | 185/262 [2:30:15<55:02, 42.89s/it]"
     ]
    },
    {
     "name": "stdout",
     "output_type": "stream",
     "text": [
      "The response was filtered due to the prompt triggering Azure OpenAI's content management policy. Please modify your prompt and retry. To learn more about our content filtering policies please read our documentation: https://go.microsoft.com/fwlink/?linkid=2198766\n"
     ]
    },
    {
     "name": "stderr",
     "output_type": "stream",
     "text": [
      " 85%|█████████████████████████████████▏     | 223/262 [3:02:07<34:21, 52.85s/it]"
     ]
    },
    {
     "name": "stdout",
     "output_type": "stream",
     "text": [
      "The response was filtered due to the prompt triggering Azure OpenAI's content management policy. Please modify your prompt and retry. To learn more about our content filtering policies please read our documentation: https://go.microsoft.com/fwlink/?linkid=2198766\n",
      "The response was filtered due to the prompt triggering Azure OpenAI's content management policy. Please modify your prompt and retry. To learn more about our content filtering policies please read our documentation: https://go.microsoft.com/fwlink/?linkid=2198766\n"
     ]
    },
    {
     "name": "stderr",
     "output_type": "stream",
     "text": [
      " 85%|█████████████████████████████████▎     | 224/262 [3:02:59<33:16, 52.53s/it]"
     ]
    },
    {
     "name": "stdout",
     "output_type": "stream",
     "text": [
      "The response was filtered due to the prompt triggering Azure OpenAI's content management policy. Please modify your prompt and retry. To learn more about our content filtering policies please read our documentation: https://go.microsoft.com/fwlink/?linkid=2198766\n"
     ]
    },
    {
     "name": "stderr",
     "output_type": "stream",
     "text": [
      " 94%|████████████████████████████████████▍  | 245/262 [3:16:46<11:42, 41.33s/it]"
     ]
    },
    {
     "name": "stdout",
     "output_type": "stream",
     "text": [
      "The response was filtered due to the prompt triggering Azure OpenAI's content management policy. Please modify your prompt and retry. To learn more about our content filtering policies please read our documentation: https://go.microsoft.com/fwlink/?linkid=2198766\n",
      "The response was filtered due to the prompt triggering Azure OpenAI's content management policy. Please modify your prompt and retry. To learn more about our content filtering policies please read our documentation: https://go.microsoft.com/fwlink/?linkid=2198766\n"
     ]
    },
    {
     "name": "stderr",
     "output_type": "stream",
     "text": [
      " 94%|████████████████████████████████████▌  | 246/262 [3:17:59<13:36, 51.01s/it]"
     ]
    },
    {
     "name": "stdout",
     "output_type": "stream",
     "text": [
      "The response was filtered due to the prompt triggering Azure OpenAI's content management policy. Please modify your prompt and retry. To learn more about our content filtering policies please read our documentation: https://go.microsoft.com/fwlink/?linkid=2198766\n"
     ]
    },
    {
     "name": "stderr",
     "output_type": "stream",
     "text": [
      "100%|███████████████████████████████████████| 262/262 [3:27:49<00:00, 47.59s/it]\n"
     ]
    }
   ],
   "source": [
    "from tqdm import tqdm\n",
    "import os\n",
    "\n",
    "for i in tqdm(range(0, len(instructions), 1)):\n",
    "    filename = f'latihanbm/{i}.json'\n",
    "    if os.path.exists(filename):\n",
    "        continue\n",
    "        \n",
    "    r = []\n",
    "    for k in range(3):\n",
    "        \n",
    "        try:\n",
    "            message_text = [\n",
    "                {\"role\":\"user\",\"content\": f\"{instructions[i]}\\n\\ngenerate similar questions included answers like above.\"},\n",
    "            ]\n",
    "            completion = openai.ChatCompletion.create(\n",
    "              engine=\"gpt-4\",\n",
    "              messages = message_text,\n",
    "              temperature=1.0,\n",
    "              max_tokens=1024,\n",
    "              top_p=0.95,\n",
    "              frequency_penalty=0,\n",
    "              presence_penalty=0,\n",
    "              stop=None\n",
    "            )\n",
    "            r.append(completion.choices[0]['message']['content'])\n",
    "            \n",
    "\n",
    "        except Exception as e:\n",
    "            print(e)\n",
    "        \n",
    "    with open(filename, 'w') as fopen:\n",
    "        json.dump(r, fopen)"
   ]
  },
  {
   "cell_type": "code",
   "execution_count": 9,
   "id": "d3cab80c",
   "metadata": {},
   "outputs": [
    {
     "name": "stderr",
     "output_type": "stream",
     "text": [
      "100%|██████████████████████████████████████| 262/262 [00:00<00:00, 29516.72it/s]\n"
     ]
    }
   ],
   "source": [
    "augmentation = []\n",
    "for i in tqdm(range(0, len(instructions), 1)):\n",
    "    filename = f'latihanbm/{i}.json'\n",
    "    try:\n",
    "        with open(filename) as fopen:\n",
    "            datas = json.load(fopen)\n",
    "        for data in datas:\n",
    "            splitted = data.split('\\n\\n')\n",
    "            for s in splitted:\n",
    "                a = s.split('Jawapan:')[1].strip()\n",
    "                augmentation.append({\n",
    "                    'question': s.split('Jawapan:')[0].strip(),\n",
    "                    'answer': a,\n",
    "\n",
    "                })\n",
    "    except:\n",
    "        pass"
   ]
  },
  {
   "cell_type": "code",
   "execution_count": 10,
   "id": "b44006d1",
   "metadata": {},
   "outputs": [
    {
     "data": {
      "text/plain": [
       "4289"
      ]
     },
     "execution_count": 10,
     "metadata": {},
     "output_type": "execute_result"
    }
   ],
   "source": [
    "len(augmentation)"
   ]
  },
  {
   "cell_type": "code",
   "execution_count": 17,
   "id": "462e696e",
   "metadata": {},
   "outputs": [],
   "source": [
    "with open('synthetic-latihanbm.jsonl', 'w') as fopen:\n",
    "    for a in augmentation:\n",
    "        fopen.write(f'{json.dumps(a)}\\n')"
   ]
  }
 ],
 "metadata": {
  "kernelspec": {
   "display_name": "Python 3 (ipykernel)",
   "language": "python",
   "name": "python3"
  },
  "language_info": {
   "codemirror_mode": {
    "name": "ipython",
    "version": 3
   },
   "file_extension": ".py",
   "mimetype": "text/x-python",
   "name": "python",
   "nbconvert_exporter": "python",
   "pygments_lexer": "ipython3",
   "version": "3.8.10"
  }
 },
 "nbformat": 4,
 "nbformat_minor": 5
}
