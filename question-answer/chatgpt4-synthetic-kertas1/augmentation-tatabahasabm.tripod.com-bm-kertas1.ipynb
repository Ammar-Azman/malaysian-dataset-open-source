{
 "cells": [
  {
   "cell_type": "code",
   "execution_count": 2,
   "id": "604b7c63",
   "metadata": {},
   "outputs": [],
   "source": [
    "# !wget https://raw.githubusercontent.com/mesolitica/malaysian-dataset/master/llm-benchmark/tatabahasabm.tripod.com-bm-kertas-1/tatabahasabm.tripod.com-bm-kertas1.json"
   ]
  },
  {
   "cell_type": "code",
   "execution_count": 37,
   "id": "88b79f27",
   "metadata": {},
   "outputs": [],
   "source": [
    "import json\n",
    "\n",
    "with open('tatabahasabm.tripod.com-bm-kertas1.json') as fopen:\n",
    "    data = json.load(fopen)"
   ]
  },
  {
   "cell_type": "code",
   "execution_count": 7,
   "id": "283c249e",
   "metadata": {},
   "outputs": [],
   "source": [
    "instructions = []\n",
    "for k, v in data.items():\n",
    "    for r in v['quizzes'].values():\n",
    "        if r['no'] in v['answers']:\n",
    "            c = '\\n'.join(r['choice'])\n",
    "            s = f\"{r['objective']}\\n{r['context']}\\n\\n{r['question']}\\n{c}\\nJawapan: {v['answers'][r['no']]}\"\n",
    "            instructions.append(s)"
   ]
  },
  {
   "cell_type": "code",
   "execution_count": 8,
   "id": "da7dd730",
   "metadata": {},
   "outputs": [
    {
     "name": "stdout",
     "output_type": "stream",
     "text": [
      "Baca petikan di bawah, kemudian jawab soalan-soalan berikutnya\n",
      "Gopal : Eh, awak ingat lagi tak tentang berita manusia ditelan ular sawa tempoh hari!  \n",
      "Samat : Mestilah Sampai sekarang saya masih terbayang-bayang gambar yang tersiar \n",
      "dalam akhbar tu. \n",
      "Eee............ngerinya! \n",
      "Chan : Tapi yang peliknya, lepas kejadian tu tak putus-putus keluar cerita tentang ular sawa \n",
      "dalam akhbar. Ular sawa telan ayamlah, telan kambinglah, dan macam -macam lagi \n",
      "Samat : Apa yang peliknya, Chan Memanglah berita sensasi macam tu disukai oleh orang \n",
      "ramai Jadi wartawan pun jalankanlah tugas mereka untuk mencari cerita -cerita sedemikian! \n",
      "Gopal : Agaknya tak lama lagi ada pula berita tentang ular sawa telan gajah. Haa. masa  tu \n",
      "barulah heboh satu dunia! Adakah awak tahu ular sawa merupakan sejenis haiwan yang \n",
      "dilindungi? \n",
      "Samat : Tahu. baru semalam Cikgu Lina beritahu \n",
      "Gopal : Yalah, selama ni saya tak tahu pun yang kita boleh didakwa jika mencedera atau \n",
      "membunuh ular. \n",
      "Chan : Hukumannya berat juga Kita boleh kena denda hingga RM3 000 atau penjara!  \n",
      "Samat : Dan boleh juga dikenakan kedua-duanya sekali! \n",
      "Gopal : Kalau macam tu, bila jumpa ular sawa cepat -cepatlah lari Jangan cuba-cuba nak \n",
      "pukul atau bunuh! \n",
      "Chan : Kenapa? Kamu takut ke? \n",
      "Samat : Awak ni tak faham ke, Chan? Nanti terlepas masuk mulut ular sawa, awak kena \n",
      "masuk penjara pula!\n",
      "\n",
      "Apakah maksud kata-kata Samat, 'Eee....ngerinya' dalam petikan di atas?\n",
      "A. Bayang-bayang ular sawa menelan manusia\n",
      "B. Dia terbayang kenangan ular sawa menelan manusia\n",
      "C. Gambar ular sawa menelan manusia yang tersiar dalam akhbar\n",
      "D. Kejadian ular sawa menelan manusia yang dilihat oleh Gopal.\n",
      "Jawapan: C\n"
     ]
    }
   ],
   "source": [
    "print(instructions[0])"
   ]
  },
  {
   "cell_type": "code",
   "execution_count": 9,
   "id": "9b1e277c",
   "metadata": {},
   "outputs": [
    {
     "name": "stderr",
     "output_type": "stream",
     "text": [
      "/home/husein/.local/lib/python3.8/site-packages/requests/__init__.py:102: RequestsDependencyWarning: urllib3 (1.26.15) or chardet (5.2.0)/charset_normalizer (2.0.7) doesn't match a supported version!\n",
      "  warnings.warn(\"urllib3 ({}) or chardet ({})/charset_normalizer ({}) doesn't match a supported \"\n"
     ]
    }
   ],
   "source": [
    "import os\n",
    "import openai\n",
    "\n",
    "openai.api_type = \"azure\"\n",
    "openai.api_base = \"https://husein-ai2-aiservices.openai.azure.com/\"\n",
    "openai.api_version = \"2023-07-01-preview\"\n",
    "openai.api_key = ''"
   ]
  },
  {
   "cell_type": "code",
   "execution_count": 29,
   "id": "ed8d1496",
   "metadata": {},
   "outputs": [
    {
     "name": "stdout",
     "output_type": "stream",
     "text": [
      "mkdir: cannot create directory ‘tatabahasabm.tripod.com-bm-kertas1’: File exists\r\n"
     ]
    }
   ],
   "source": [
    "!mkdir tatabahasabm.tripod.com-bm-kertas1\n",
    "# !rm tatabahasabm.tripod.com-bm-kertas1/*"
   ]
  },
  {
   "cell_type": "code",
   "execution_count": 31,
   "id": "e12dd76b",
   "metadata": {
    "scrolled": true
   },
   "outputs": [
    {
     "name": "stderr",
     "output_type": "stream",
     "text": [
      " 25%|██████████▊                                | 25/99 [00:11<00:35,  2.10it/s]"
     ]
    },
    {
     "name": "stdout",
     "output_type": "stream",
     "text": [
      "The response was filtered due to the prompt triggering Azure OpenAI's content management policy. Please modify your prompt and retry. To learn more about our content filtering policies please read our documentation: https://go.microsoft.com/fwlink/?linkid=2198766\n"
     ]
    },
    {
     "name": "stderr",
     "output_type": "stream",
     "text": [
      "100%|███████████████████████████████████████████| 99/99 [15:28<00:00,  9.38s/it]\n"
     ]
    }
   ],
   "source": [
    "from tqdm import tqdm\n",
    "import os\n",
    "\n",
    "for i in tqdm(range(0, len(instructions), 1)):\n",
    "    filename = f'tatabahasabm.tripod.com-bm-kertas1/{i}.json'\n",
    "    if os.path.exists(filename):\n",
    "        continue\n",
    "    try:\n",
    "        message_text = [\n",
    "            {\"role\":\"user\",\"content\": f\"{instructions[i]}\\n\\ngenerate similar questions included answers like above.\"},\n",
    "        ]\n",
    "        completion = openai.ChatCompletion.create(\n",
    "          engine=\"gpt-4\",\n",
    "          messages = message_text,\n",
    "          temperature=1.0,\n",
    "          max_tokens=1024,\n",
    "          top_p=0.95,\n",
    "          frequency_penalty=0,\n",
    "          presence_penalty=0,\n",
    "          stop=None\n",
    "        )\n",
    "        with open(filename, 'w') as fopen:\n",
    "            json.dump(completion.choices[0]['message']['content'], fopen)\n",
    "    except Exception as e:\n",
    "        print(e)"
   ]
  },
  {
   "cell_type": "code",
   "execution_count": 38,
   "id": "4ad37c74",
   "metadata": {},
   "outputs": [],
   "source": [
    "instructions = []\n",
    "for k, v in data.items():\n",
    "    for r in v['quizzes'].values():\n",
    "        if r['no'] in v['answers']:\n",
    "            c = '\\n'.join(r['choice'])\n",
    "            instructions.append((r, v['answers'][r['no']]))"
   ]
  },
  {
   "cell_type": "code",
   "execution_count": 39,
   "id": "d20c7093",
   "metadata": {},
   "outputs": [
    {
     "data": {
      "text/plain": [
       "({'objective': 'Baca petikan di bawah, kemudian jawab soalan-soalan berikutnya',\n",
       "  'context': 'Gopal : Eh, awak ingat lagi tak tentang berita manusia ditelan ular sawa tempoh hari!  \\nSamat : Mestilah Sampai sekarang saya masih terbayang-bayang gambar yang tersiar \\ndalam akhbar tu. \\nEee............ngerinya! \\nChan : Tapi yang peliknya, lepas kejadian tu tak putus-putus keluar cerita tentang ular sawa \\ndalam akhbar. Ular sawa telan ayamlah, telan kambinglah, dan macam -macam lagi \\nSamat : Apa yang peliknya, Chan Memanglah berita sensasi macam tu disukai oleh orang \\nramai Jadi wartawan pun jalankanlah tugas mereka untuk mencari cerita -cerita sedemikian! \\nGopal : Agaknya tak lama lagi ada pula berita tentang ular sawa telan gajah. Haa. masa  tu \\nbarulah heboh satu dunia! Adakah awak tahu ular sawa merupakan sejenis haiwan yang \\ndilindungi? \\nSamat : Tahu. baru semalam Cikgu Lina beritahu \\nGopal : Yalah, selama ni saya tak tahu pun yang kita boleh didakwa jika mencedera atau \\nmembunuh ular. \\nChan : Hukumannya berat juga Kita boleh kena denda hingga RM3 000 atau penjara!  \\nSamat : Dan boleh juga dikenakan kedua-duanya sekali! \\nGopal : Kalau macam tu, bila jumpa ular sawa cepat -cepatlah lari Jangan cuba-cuba nak \\npukul atau bunuh! \\nChan : Kenapa? Kamu takut ke? \\nSamat : Awak ni tak faham ke, Chan? Nanti terlepas masuk mulut ular sawa, awak kena \\nmasuk penjara pula!',\n",
       "  'no': '1',\n",
       "  'question': \"Apakah maksud kata-kata Samat, 'Eee....ngerinya' dalam petikan di atas?\",\n",
       "  'choice': ['A. Bayang-bayang ular sawa menelan manusia',\n",
       "   'B. Dia terbayang kenangan ular sawa menelan manusia',\n",
       "   'C. Gambar ular sawa menelan manusia yang tersiar dalam akhbar',\n",
       "   'D. Kejadian ular sawa menelan manusia yang dilihat oleh Gopal.']},\n",
       " 'C')"
      ]
     },
     "execution_count": 39,
     "metadata": {},
     "output_type": "execute_result"
    }
   ],
   "source": [
    "instructions[0]"
   ]
  },
  {
   "cell_type": "code",
   "execution_count": 61,
   "id": "1bbc81d7",
   "metadata": {},
   "outputs": [
    {
     "name": "stderr",
     "output_type": "stream",
     "text": [
      "100%|████████████████████████████████████████| 99/99 [00:00<00:00, 12795.79it/s]\n"
     ]
    }
   ],
   "source": [
    "augmentation = []\n",
    "for i in tqdm(range(0, len(instructions), 1)):\n",
    "    filename = f'tatabahasabm.tripod.com-bm-kertas1/{i}.json'\n",
    "    try:\n",
    "        with open(filename) as fopen:\n",
    "            data = json.load(fopen)\n",
    "        splitted = data.split('\\n\\n')\n",
    "        for s in splitted:\n",
    "            a = s.split('Jawapan:')[1].strip()\n",
    "            augmentation.append({\n",
    "                'objective': instructions[i][0]['objective'],\n",
    "                'context': instructions[i][0]['context'],\n",
    "                'question': s.split('Jawapan:')[0].strip(),\n",
    "                'answer': a,\n",
    "                \n",
    "            })\n",
    "    except:\n",
    "        pass"
   ]
  },
  {
   "cell_type": "code",
   "execution_count": 62,
   "id": "6075ad20",
   "metadata": {},
   "outputs": [
    {
     "data": {
      "text/plain": [
       "439"
      ]
     },
     "execution_count": 62,
     "metadata": {},
     "output_type": "execute_result"
    }
   ],
   "source": [
    "len(augmentation)"
   ]
  },
  {
   "cell_type": "code",
   "execution_count": 78,
   "id": "91fc4dcd",
   "metadata": {},
   "outputs": [
    {
     "data": {
      "text/plain": [
       "{'objective': 'Pilih jawapan yang paling sesuai untuk diisi ke tempat kosong dalam ayat-ayat di bawah.',\n",
       " 'context': '',\n",
       " 'question': '1. Kesungguhannya dalam belajar _________________ apabila dia mendapat keputusan cemerlang dalam peperiksaan.\\nA. terbukti\\nB. nyata\\nC. kelihatan\\nD. bermula',\n",
       " 'answer': 'A'}"
      ]
     },
     "execution_count": 78,
     "metadata": {},
     "output_type": "execute_result"
    }
   ],
   "source": [
    "augmentation[100]"
   ]
  },
  {
   "cell_type": "code",
   "execution_count": 79,
   "id": "fdd92be3",
   "metadata": {},
   "outputs": [],
   "source": [
    "with open('synthetic-tatabahasabm.tripod.com-bm-kertas1.jsonl', 'w') as fopen:\n",
    "    for a in augmentation:\n",
    "        fopen.write(f'{json.dumps(a)}\\n')"
   ]
  }
 ],
 "metadata": {
  "kernelspec": {
   "display_name": "Python 3 (ipykernel)",
   "language": "python",
   "name": "python3"
  },
  "language_info": {
   "codemirror_mode": {
    "name": "ipython",
    "version": 3
   },
   "file_extension": ".py",
   "mimetype": "text/x-python",
   "name": "python",
   "nbconvert_exporter": "python",
   "pygments_lexer": "ipython3",
   "version": "3.8.10"
  }
 },
 "nbformat": 4,
 "nbformat_minor": 5
}
