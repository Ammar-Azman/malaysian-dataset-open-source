{
 "cells": [
  {
   "cell_type": "code",
   "execution_count": 2,
   "id": "3cc6473e",
   "metadata": {},
   "outputs": [],
   "source": [
    "# !wget https://huggingface.co/datasets/aisyahhrazak/crawl-soalan/resolve/main/soalan-pt3online.jsonl\n",
    "# !wget https://huggingface.co/datasets/aisyahhrazak/crawl-soalan/resolve/main/soalan-upsr.jsonl\n",
    "# !wget https://huggingface.co/datasets/aisyahhrazak/crawl-soalan/resolve/main/soalanspm.jsonl\n",
    "# !wget https://huggingface.co/datasets/aisyahhrazak/crawl-soalan/resolve/main/spm-ayatpasif-aktif.jsonl"
   ]
  },
  {
   "cell_type": "code",
   "execution_count": 3,
   "id": "5302600c",
   "metadata": {},
   "outputs": [],
   "source": [
    "import json\n",
    "from unidecode import unidecode"
   ]
  },
  {
   "cell_type": "code",
   "execution_count": 4,
   "id": "0d8cbb87",
   "metadata": {},
   "outputs": [],
   "source": [
    "instructions = []\n",
    "\n",
    "files = [\n",
    "    'soalan-pt3online.jsonl',\n",
    "    'soalan-upsr.jsonl',\n",
    "    'soalanspm.jsonl',\n",
    "]\n",
    "\n",
    "for f in files:\n",
    "    with open(f) as fopen:\n",
    "        for l in fopen:\n",
    "            l = json.loads(l)\n",
    "            q = unidecode(l['question']).split(') ')[1:]\n",
    "            q = ') '.join(q).strip()\n",
    "            a = l['answer'].strip()\n",
    "            choices = l['answer_choice'].split('\\n')\n",
    "            choices = [c for c in choices if len(c)]\n",
    "            answer = None\n",
    "            for c in choices:\n",
    "                if a in c:\n",
    "                    answer = c.split('.')[0]\n",
    "                    break\n",
    "            c = '\\n'.join(choices)\n",
    "            s = f\"Jawab soalan berikut.\\n{q}\\n\\n{c}\\nJawapan: {answer}\"\n",
    "            instructions.append(s)"
   ]
  },
  {
   "cell_type": "code",
   "execution_count": 5,
   "id": "e91ae71f",
   "metadata": {},
   "outputs": [
    {
     "name": "stderr",
     "output_type": "stream",
     "text": [
      "/home/husein/.local/lib/python3.8/site-packages/requests/__init__.py:102: RequestsDependencyWarning: urllib3 (1.26.15) or chardet (5.2.0)/charset_normalizer (2.0.7) doesn't match a supported version!\n",
      "  warnings.warn(\"urllib3 ({}) or chardet ({})/charset_normalizer ({}) doesn't match a supported \"\n"
     ]
    }
   ],
   "source": [
    "import os\n",
    "import openai\n",
    "\n",
    "openai.api_type = \"azure\"\n",
    "openai.api_base = \"https://husein-ai2-aiservices.openai.azure.com/\"\n",
    "openai.api_version = \"2023-07-01-preview\"\n",
    "openai.api_key = ''"
   ]
  },
  {
   "cell_type": "code",
   "execution_count": 6,
   "id": "651290aa",
   "metadata": {},
   "outputs": [],
   "source": [
    "!mkdir exam"
   ]
  },
  {
   "cell_type": "code",
   "execution_count": 8,
   "id": "e75accbe",
   "metadata": {
    "scrolled": true
   },
   "outputs": [
    {
     "name": "stderr",
     "output_type": "stream",
     "text": [
      " 91%|███████████████████████████████████▌   | 651/715 [1:41:19<09:29,  8.90s/it]"
     ]
    },
    {
     "name": "stdout",
     "output_type": "stream",
     "text": [
      "'content'\n"
     ]
    },
    {
     "name": "stderr",
     "output_type": "stream",
     "text": [
      "100%|███████████████████████████████████████| 715/715 [1:52:06<00:00,  9.41s/it]\n"
     ]
    }
   ],
   "source": [
    "from tqdm import tqdm\n",
    "import os\n",
    "\n",
    "for i in tqdm(range(0, len(instructions), 1)):\n",
    "    filename = f'exam/{i}.json'\n",
    "    if os.path.exists(filename):\n",
    "        continue\n",
    "    try:\n",
    "        message_text = [\n",
    "            {\"role\":\"user\",\"content\": f\"{instructions[i]}\\n\\ngenerate similar questions included answers like above.\"},\n",
    "        ]\n",
    "        completion = openai.ChatCompletion.create(\n",
    "          engine=\"gpt-4\",\n",
    "          messages = message_text,\n",
    "          temperature=1.0,\n",
    "          max_tokens=1024,\n",
    "          top_p=0.95,\n",
    "          frequency_penalty=0,\n",
    "          presence_penalty=0,\n",
    "          stop=None\n",
    "        )\n",
    "        with open(filename, 'w') as fopen:\n",
    "            json.dump(completion.choices[0]['message']['content'], fopen)\n",
    "    except Exception as e:\n",
    "        print(e)"
   ]
  },
  {
   "cell_type": "code",
   "execution_count": 12,
   "id": "27e77b3c",
   "metadata": {},
   "outputs": [
    {
     "name": "stderr",
     "output_type": "stream",
     "text": [
      "100%|██████████████████████████████████████| 715/715 [00:00<00:00, 31377.41it/s]\n"
     ]
    }
   ],
   "source": [
    "augmentation = []\n",
    "for i in tqdm(range(0, len(instructions), 1)):\n",
    "    filename = f'exam/{i}.json'\n",
    "    try:\n",
    "        with open(filename) as fopen:\n",
    "            data = json.load(fopen)\n",
    "        splitted = data.split('\\n\\n')\n",
    "        for s in splitted:\n",
    "            a = s.split('Jawapan:')[1].strip()\n",
    "            augmentation.append({\n",
    "                'question': s.split('Jawapan:')[0].strip(),\n",
    "                'answer': a,\n",
    "                \n",
    "            })\n",
    "    except:\n",
    "        pass"
   ]
  },
  {
   "cell_type": "code",
   "execution_count": 13,
   "id": "dd796de2",
   "metadata": {},
   "outputs": [
    {
     "data": {
      "text/plain": [
       "3612"
      ]
     },
     "execution_count": 13,
     "metadata": {},
     "output_type": "execute_result"
    }
   ],
   "source": [
    "len(augmentation)"
   ]
  },
  {
   "cell_type": "code",
   "execution_count": 14,
   "id": "de5e4e0f",
   "metadata": {},
   "outputs": [],
   "source": [
    "with open('synthetic-exam.jsonl', 'w') as fopen:\n",
    "    for a in augmentation:\n",
    "        fopen.write(f'{json.dumps(a)}\\n')"
   ]
  }
 ],
 "metadata": {
  "kernelspec": {
   "display_name": "Python 3 (ipykernel)",
   "language": "python",
   "name": "python3"
  },
  "language_info": {
   "codemirror_mode": {
    "name": "ipython",
    "version": 3
   },
   "file_extension": ".py",
   "mimetype": "text/x-python",
   "name": "python",
   "nbconvert_exporter": "python",
   "pygments_lexer": "ipython3",
   "version": "3.8.10"
  }
 },
 "nbformat": 4,
 "nbformat_minor": 5
}
