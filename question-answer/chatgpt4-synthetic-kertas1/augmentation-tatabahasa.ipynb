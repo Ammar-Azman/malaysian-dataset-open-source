{
 "cells": [
  {
   "cell_type": "code",
   "execution_count": 2,
   "id": "673fb8fa",
   "metadata": {},
   "outputs": [],
   "source": [
    "# !wget https://raw.githubusercontent.com/mesolitica/malaysian-dataset/master/llm-benchmark/tatabahasabm.tripod.com/quiz-tatabahasa.jsonl"
   ]
  },
  {
   "cell_type": "code",
   "execution_count": 3,
   "id": "85549e60",
   "metadata": {},
   "outputs": [],
   "source": [
    "from tqdm import tqdm\n",
    "import os\n",
    "import json"
   ]
  },
  {
   "cell_type": "code",
   "execution_count": 8,
   "id": "f0ad4aaa",
   "metadata": {},
   "outputs": [
    {
     "data": {
      "text/plain": [
       "349"
      ]
     },
     "execution_count": 8,
     "metadata": {},
     "output_type": "execute_result"
    }
   ],
   "source": [
    "instructions = []\n",
    "with open('quiz-tatabahasa.jsonl') as fopen:\n",
    "    for no, l in enumerate(fopen):\n",
    "        l = json.loads(l)\n",
    "        soalan = [l['question']]\n",
    "        jawapan = None\n",
    "        for c, k in l['choices'].items():\n",
    "            soalan.append(f\"{c}. {k['text']}\")\n",
    "            if k['answer']:\n",
    "                jawapan = c\n",
    "        \n",
    "        i = 'Jawab soalan yang diberikan' if l['instruction'] is None else l['instruction']\n",
    "        q = '\\n'.join(soalan)\n",
    "        s = f\"{i}\\n{q}\\nJawapan: {jawapan}\"\n",
    "        instructions.append(s)\n",
    "        \n",
    "len(instructions)"
   ]
  },
  {
   "cell_type": "code",
   "execution_count": 10,
   "id": "666aec57",
   "metadata": {},
   "outputs": [
    {
     "name": "stderr",
     "output_type": "stream",
     "text": [
      "/home/husein/.local/lib/python3.8/site-packages/requests/__init__.py:102: RequestsDependencyWarning: urllib3 (1.26.15) or chardet (5.2.0)/charset_normalizer (2.0.7) doesn't match a supported version!\n",
      "  warnings.warn(\"urllib3 ({}) or chardet ({})/charset_normalizer ({}) doesn't match a supported \"\n"
     ]
    }
   ],
   "source": [
    "import os\n",
    "import openai\n",
    "\n",
    "openai.api_type = \"azure\"\n",
    "openai.api_base = \"https://husein-ai2-aiservices.openai.azure.com/\"\n",
    "openai.api_version = \"2023-07-01-preview\"\n",
    "openai.api_key = ''"
   ]
  },
  {
   "cell_type": "code",
   "execution_count": 11,
   "id": "72d3c577",
   "metadata": {},
   "outputs": [],
   "source": [
    "!mkdir tatabahasa"
   ]
  },
  {
   "cell_type": "code",
   "execution_count": 13,
   "id": "05ae88f4",
   "metadata": {},
   "outputs": [
    {
     "name": "stderr",
     "output_type": "stream",
     "text": [
      " 48%|███████████████████▊                     | 169/349 [26:00<24:05,  8.03s/it]"
     ]
    },
    {
     "name": "stdout",
     "output_type": "stream",
     "text": [
      "The response was filtered due to the prompt triggering Azure OpenAI's content management policy. Please modify your prompt and retry. To learn more about our content filtering policies please read our documentation: https://go.microsoft.com/fwlink/?linkid=2198766\n"
     ]
    },
    {
     "name": "stderr",
     "output_type": "stream",
     "text": [
      " 62%|█████████████████████████▍               | 217/349 [32:50<15:33,  7.07s/it]"
     ]
    },
    {
     "name": "stdout",
     "output_type": "stream",
     "text": [
      "The response was filtered due to the prompt triggering Azure OpenAI's content management policy. Please modify your prompt and retry. To learn more about our content filtering policies please read our documentation: https://go.microsoft.com/fwlink/?linkid=2198766\n"
     ]
    },
    {
     "name": "stderr",
     "output_type": "stream",
     "text": [
      " 76%|███████████████████████████████▏         | 265/349 [40:02<13:39,  9.75s/it]"
     ]
    },
    {
     "name": "stdout",
     "output_type": "stream",
     "text": [
      "'content'\n"
     ]
    },
    {
     "name": "stderr",
     "output_type": "stream",
     "text": [
      " 95%|██████████████████████████████████████▉  | 331/349 [50:17<02:35,  8.61s/it]"
     ]
    },
    {
     "name": "stdout",
     "output_type": "stream",
     "text": [
      "'content'\n"
     ]
    },
    {
     "name": "stderr",
     "output_type": "stream",
     "text": [
      "100%|█████████████████████████████████████████| 349/349 [52:58<00:00,  9.11s/it]\n"
     ]
    }
   ],
   "source": [
    "from tqdm import tqdm\n",
    "import os\n",
    "\n",
    "for i in tqdm(range(0, len(instructions), 1)):\n",
    "    filename = f'tatabahasa/{i}.json'\n",
    "    if os.path.exists(filename):\n",
    "        continue\n",
    "    try:\n",
    "        message_text = [\n",
    "            {\"role\":\"user\",\"content\": f\"{instructions[i]}\\n\\ngenerate similar questions included answers like above.\"},\n",
    "        ]\n",
    "        completion = openai.ChatCompletion.create(\n",
    "          engine=\"gpt-4\",\n",
    "          messages = message_text,\n",
    "          temperature=1.0,\n",
    "          max_tokens=1024,\n",
    "          top_p=0.95,\n",
    "          frequency_penalty=0,\n",
    "          presence_penalty=0,\n",
    "          stop=None\n",
    "        )\n",
    "        with open(filename, 'w') as fopen:\n",
    "            json.dump(completion.choices[0]['message']['content'], fopen)\n",
    "        \n",
    "    except Exception as e:\n",
    "        print(e)"
   ]
  },
  {
   "cell_type": "code",
   "execution_count": 14,
   "id": "f65397f8",
   "metadata": {},
   "outputs": [
    {
     "name": "stderr",
     "output_type": "stream",
     "text": [
      "100%|██████████████████████████████████████| 349/349 [00:00<00:00, 59475.54it/s]\n"
     ]
    }
   ],
   "source": [
    "augmentation = []\n",
    "for i in tqdm(range(0, len(instructions), 1)):\n",
    "    filename = f'tatabahasa/{i}.json'\n",
    "    try:\n",
    "        with open(filename) as fopen:\n",
    "            data = json.load(fopen)\n",
    "        splitted = data.split('\\n\\n')\n",
    "        for s in splitted:\n",
    "            a = s.split('Jawapan:')[1].strip()\n",
    "            augmentation.append({\n",
    "                'question': s.split('Jawapan:')[0].strip(),\n",
    "                'answer': a,\n",
    "                \n",
    "            })\n",
    "    except:\n",
    "        pass"
   ]
  },
  {
   "cell_type": "code",
   "execution_count": 15,
   "id": "34290700",
   "metadata": {},
   "outputs": [
    {
     "data": {
      "text/plain": [
       "2005"
      ]
     },
     "execution_count": 15,
     "metadata": {},
     "output_type": "execute_result"
    }
   ],
   "source": [
    "len(augmentation)"
   ]
  },
  {
   "cell_type": "code",
   "execution_count": 17,
   "id": "b75cfa11",
   "metadata": {},
   "outputs": [
    {
     "data": {
      "text/plain": [
       "{'question': '5. Dia memberi ........ supaya tidak ........ rasa tidak puas hati.\\nA. pandangan-pandangan, membangkitkan\\nB. saranan-saranan, menimbulkan\\nC. arahan-arahan, mencetuskan\\nD. komen-komen, mengundang',\n",
       " 'answer': 'B'}"
      ]
     },
     "execution_count": 17,
     "metadata": {},
     "output_type": "execute_result"
    }
   ],
   "source": [
    "augmentation[-1]"
   ]
  },
  {
   "cell_type": "code",
   "execution_count": 18,
   "id": "3a691c39",
   "metadata": {},
   "outputs": [],
   "source": [
    "with open('synthetic-tatabahasa.jsonl', 'w') as fopen:\n",
    "    for a in augmentation:\n",
    "        fopen.write(f'{json.dumps(a)}\\n')"
   ]
  }
 ],
 "metadata": {
  "kernelspec": {
   "display_name": "Python 3 (ipykernel)",
   "language": "python",
   "name": "python3"
  },
  "language_info": {
   "codemirror_mode": {
    "name": "ipython",
    "version": 3
   },
   "file_extension": ".py",
   "mimetype": "text/x-python",
   "name": "python",
   "nbconvert_exporter": "python",
   "pygments_lexer": "ipython3",
   "version": "3.8.10"
  }
 },
 "nbformat": 4,
 "nbformat_minor": 5
}
