{
 "cells": [
  {
   "cell_type": "code",
   "execution_count": 1,
   "id": "b2094167",
   "metadata": {},
   "outputs": [
    {
     "name": "stderr",
     "output_type": "stream",
     "text": [
      "/home/husein/3.9/lib/python3.9/site-packages/tqdm/auto.py:21: TqdmWarning: IProgress not found. Please update jupyter and ipywidgets. See https://ipywidgets.readthedocs.io/en/stable/user_install.html\n",
      "  from .autonotebook import tqdm as notebook_tqdm\n",
      "/home/husein/3.9/lib/python3.9/site-packages/malaya/tokenizer.py:214: FutureWarning: Possible nested set at position 3397\n",
      "  self.tok = re.compile(r'({})'.format('|'.join(pipeline)))\n",
      "/home/husein/3.9/lib/python3.9/site-packages/malaya/tokenizer.py:214: FutureWarning: Possible nested set at position 3927\n",
      "  self.tok = re.compile(r'({})'.format('|'.join(pipeline)))\n"
     ]
    }
   ],
   "source": [
    "import openai\n",
    "import instructor\n",
    "import json\n",
    "import os\n",
    "import malaya\n",
    "from pydantic import BaseModel, Field\n",
    "from bs4 import BeautifulSoup\n",
    "from concurrent.futures import ThreadPoolExecutor, as_completed\n",
    "from unidecode import unidecode\n",
    "import re\n",
    "\n",
    "minimum_len = 15\n",
    "\n",
    "def simple_cleaning(string):\n",
    "    return re.sub(r'[ ]+', ' ', unidecode(string).replace('\\n', ' ').replace('--', ' ').replace('/', ' ')).strip()"
   ]
  },
  {
   "cell_type": "code",
   "execution_count": 2,
   "id": "9e994745",
   "metadata": {},
   "outputs": [],
   "source": [
    "openai.api_type = 'azure'\n",
    "openai.api_base = 'https://nous.openai.azure.com/'\n",
    "openai.api_version = '2023-07-01-preview'\n",
    "openai.api_key = ''"
   ]
  },
  {
   "cell_type": "code",
   "execution_count": 3,
   "id": "d1aac3a1",
   "metadata": {},
   "outputs": [],
   "source": [
    "instructor.patch()"
   ]
  },
  {
   "cell_type": "code",
   "execution_count": 4,
   "id": "b2db7016",
   "metadata": {},
   "outputs": [],
   "source": [
    "engine = 'nous-16k'"
   ]
  },
  {
   "cell_type": "code",
   "execution_count": 5,
   "id": "6ec6a880",
   "metadata": {},
   "outputs": [],
   "source": [
    "from typing import List\n",
    "\n",
    "class QA(BaseModel):\n",
    "    question: str\n",
    "    answer: str\n",
    "        \n",
    "class QAS(BaseModel):\n",
    "    qa: List[QA]"
   ]
  },
  {
   "cell_type": "code",
   "execution_count": 6,
   "id": "af5adf65",
   "metadata": {},
   "outputs": [],
   "source": [
    "def predict(text):\n",
    "    try:\n",
    "        messages = [\n",
    "            {\"role\": \"user\", \"content\": text},\n",
    "        ]\n",
    "        response = openai.ChatCompletion.create(\n",
    "            engine=engine,\n",
    "            response_model=QAS,\n",
    "            messages=messages,\n",
    "            temperature=0.7,\n",
    "            max_tokens=1024,\n",
    "            top_p=0.95,\n",
    "        )\n",
    "        return response.dict()\n",
    "    except Exception as e:\n",
    "        return None"
   ]
  },
  {
   "cell_type": "code",
   "execution_count": 7,
   "id": "61ebb49d",
   "metadata": {},
   "outputs": [
    {
     "name": "stdout",
     "output_type": "stream",
     "text": [
      "mkdir: cannot create directory ‘paragraph-wikipedia’: File exists\r\n"
     ]
    }
   ],
   "source": [
    "!mkdir paragraph-wikipedia"
   ]
  },
  {
   "cell_type": "code",
   "execution_count": 8,
   "id": "943af1ef",
   "metadata": {},
   "outputs": [],
   "source": [
    "def generate(filename, l):\n",
    "    if os.path.exists(filename):\n",
    "        return\n",
    "    \n",
    "    s = f\"\"\"\n",
    "paragraph ```\n",
    "{l['paragraph']}\n",
    "```\n",
    "\n",
    "berdasarkan paragraph, jana soalan melayu dan jawapan melayu\n",
    "\"\"\"\n",
    "    s = s.strip()\n",
    "    r = predict(s)\n",
    "    l['qa'] = r\n",
    "\n",
    "    with open(filename, 'w') as fopen:\n",
    "        json.dump(l, fopen)"
   ]
  },
  {
   "cell_type": "code",
   "execution_count": 9,
   "id": "ab9ffa58",
   "metadata": {},
   "outputs": [
    {
     "data": {
      "text/plain": [
       "49793"
      ]
     },
     "execution_count": 9,
     "metadata": {},
     "output_type": "execute_result"
    }
   ],
   "source": [
    "data = []\n",
    "with open('paragraph-wiki.jsonl') as fopen:\n",
    "    for l in fopen:\n",
    "        data.append(json.loads(l))\n",
    "        \n",
    "len(data)"
   ]
  },
  {
   "cell_type": "code",
   "execution_count": 10,
   "id": "02509402",
   "metadata": {},
   "outputs": [],
   "source": [
    "# !rm -rf paragraph-wikipedia\n",
    "# !mkdir paragraph-wikipedia"
   ]
  },
  {
   "cell_type": "code",
   "execution_count": 12,
   "id": "1dd52113",
   "metadata": {},
   "outputs": [
    {
     "name": "stderr",
     "output_type": "stream",
     "text": [
      "  0%|                                                 | 0/16598 [00:00<?, ?it/s]/tmp/ipykernel_2961592/342045862.py:14: PydanticDeprecatedSince20: The `dict` method is deprecated; use `model_dump` instead. Deprecated in Pydantic V2.0 to be removed in V3.0. See Pydantic V2 Migration Guide at https://errors.pydantic.dev/2.4/migration/\n",
      "  return response.dict()\n",
      "100%|██████████████████████████████████| 16598/16598 [51:45:45<00:00, 11.23s/it]\n"
     ]
    }
   ],
   "source": [
    "from tqdm import tqdm\n",
    "\n",
    "max_worker = 3\n",
    "for i in tqdm(range(0, len(data), max_worker)):\n",
    "    b = data[i: i + max_worker]\n",
    "    filenames = [(os.path.join('paragraph-wikipedia', f'{i + k}.json'), l) for k, l in enumerate(b)]\n",
    "    with ThreadPoolExecutor(max_workers=max_worker) as executor:\n",
    "        futures = {executor.submit(generate, *f): f for f in filenames}\n",
    "\n",
    "        for future in as_completed(futures):\n",
    "            future.result()"
   ]
  },
  {
   "cell_type": "code",
   "execution_count": null,
   "id": "5411cc1b",
   "metadata": {},
   "outputs": [],
   "source": []
  }
 ],
 "metadata": {
  "kernelspec": {
   "display_name": "3.9",
   "language": "python",
   "name": "3.9"
  },
  "language_info": {
   "codemirror_mode": {
    "name": "ipython",
    "version": 3
   },
   "file_extension": ".py",
   "mimetype": "text/x-python",
   "name": "python",
   "nbconvert_exporter": "python",
   "pygments_lexer": "ipython3",
   "version": "3.9.16"
  }
 },
 "nbformat": 4,
 "nbformat_minor": 5
}
