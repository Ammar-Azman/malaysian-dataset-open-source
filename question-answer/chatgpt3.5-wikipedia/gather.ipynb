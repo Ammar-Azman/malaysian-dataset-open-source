{
 "cells": [
  {
   "cell_type": "code",
   "execution_count": 1,
   "id": "96ad46e8",
   "metadata": {},
   "outputs": [],
   "source": [
    "from glob import glob\n",
    "from tqdm import tqdm\n",
    "import json"
   ]
  },
  {
   "cell_type": "code",
   "execution_count": 2,
   "id": "0b7754e3",
   "metadata": {},
   "outputs": [
    {
     "data": {
      "text/plain": [
       "49793"
      ]
     },
     "execution_count": 2,
     "metadata": {},
     "output_type": "execute_result"
    }
   ],
   "source": [
    "files = glob('paragraph-wikipedia/*.json')\n",
    "len(files)"
   ]
  },
  {
   "cell_type": "code",
   "execution_count": 7,
   "id": "fe25593b",
   "metadata": {},
   "outputs": [
    {
     "name": "stderr",
     "output_type": "stream",
     "text": [
      "100%|██████████████████████████████████| 49793/49793 [00:01<00:00, 44849.82it/s]\n"
     ]
    }
   ],
   "source": [
    "with open('wikipedia-qa.jsonl', 'w') as fopen_l:\n",
    "\n",
    "    for f in tqdm(files):\n",
    "\n",
    "        with open(f) as fopen:\n",
    "            data = json.load(fopen)\n",
    "\n",
    "        if data['qa'] and len(data['qa']):\n",
    "            d = data['qa']\n",
    "            fopen_l.write(f'{json.dumps(d)}\\n')"
   ]
  },
  {
   "cell_type": "code",
   "execution_count": 8,
   "id": "972a0c10",
   "metadata": {},
   "outputs": [
    {
     "name": "stdout",
     "output_type": "stream",
     "text": [
      "44923 wikipedia-qa.jsonl\r\n"
     ]
    }
   ],
   "source": [
    "!wc -l wikipedia-qa.jsonl"
   ]
  },
  {
   "cell_type": "code",
   "execution_count": 9,
   "id": "32be5f6c",
   "metadata": {},
   "outputs": [
    {
     "name": "stdout",
     "output_type": "stream",
     "text": [
      "-rw-r--r-- 1 husein husein 59M Nov  10 11:18 wikipedia-qa.jsonl\r\n"
     ]
    }
   ],
   "source": [
    "!ls -lh wikipedia-qa.jsonl"
   ]
  }
 ],
 "metadata": {
  "kernelspec": {
   "display_name": "Python 3 (ipykernel)",
   "language": "python",
   "name": "python3"
  },
  "language_info": {
   "codemirror_mode": {
    "name": "ipython",
    "version": 3
   },
   "file_extension": ".py",
   "mimetype": "text/x-python",
   "name": "python",
   "nbconvert_exporter": "python",
   "pygments_lexer": "ipython3",
   "version": "3.8.10"
  }
 },
 "nbformat": 4,
 "nbformat_minor": 5
}
