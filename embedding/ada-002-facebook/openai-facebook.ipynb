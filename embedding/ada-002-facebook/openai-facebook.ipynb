{
 "cells": [
  {
   "cell_type": "code",
   "execution_count": 2,
   "id": "9cb0828a",
   "metadata": {},
   "outputs": [],
   "source": [
    "# !wget https://huggingface.co/datasets/mesolitica/fb-malaysian-pages/resolve/main/dedup.jsonl"
   ]
  },
  {
   "cell_type": "code",
   "execution_count": 3,
   "id": "c134b953",
   "metadata": {},
   "outputs": [],
   "source": [
    "import openai\n",
    "\n",
    "openai_key = ''\n",
    "openai.api_key = openai_key"
   ]
  },
  {
   "cell_type": "code",
   "execution_count": 4,
   "id": "e0c63b8f",
   "metadata": {},
   "outputs": [],
   "source": [
    "# response = openai.Embedding.create(\n",
    "#         input=t,\n",
    "#         model=\"text-embedding-ada-002\"\n",
    "#     )\n",
    "#     embeddings = response['data'][0]['embedding']"
   ]
  },
  {
   "cell_type": "code",
   "execution_count": 5,
   "id": "f00d26a3",
   "metadata": {},
   "outputs": [],
   "source": [
    "import os\n",
    "import json\n",
    "\n",
    "texts = []\n",
    "with open('dedup.jsonl') as fopen:\n",
    "    for l in fopen:\n",
    "        texts.append(json.loads(l))"
   ]
  },
  {
   "cell_type": "code",
   "execution_count": 6,
   "id": "156da5fd",
   "metadata": {},
   "outputs": [
    {
     "data": {
      "text/plain": [
       "193375"
      ]
     },
     "execution_count": 6,
     "metadata": {},
     "output_type": "execute_result"
    }
   ],
   "source": [
    "len(texts)"
   ]
  },
  {
   "cell_type": "code",
   "execution_count": 7,
   "id": "26e15da3",
   "metadata": {},
   "outputs": [
    {
     "data": {
      "text/plain": [
       "['Adeyyy pooodahhh puiii',\n",
       " 'Bosan la ceramah dia.. dulu sonok gak',\n",
       " 'Memalukan betul.. PM malaysia.\\nDunia sedang memerhatikan Malaysia dipimpin oleh orang yang tercemar dgn kes2 mahkamah... \\n\\nMalaysia PM Picks Graft-Tainted Leader as One of His Deputies https://\\nwww.bloomberg.co\\nm/news/\\narticles/\\n2022-12-02/\\nmalaysia-pm-pick\\ns-graft-tainted\\n-leader-as-one-\\nof-his-deputies',\n",
       " 'Tahniah RR....\\nInilah yg rakyat harapakan, jwtn Menteri Ekonomi demi pertiwi...',\n",
       " 'doakan mb kau ni jaga negeri elok2',\n",
       " ' VS \\n yng mati kena pijak.',\n",
       " 'smoga trus dirahmati',\n",
       " 'Dalam gov unity Anwar, D4P ada 4 menteri? Eh bukan 3A menteri je ke?',\n",
       " 'Mahanom Mohammad habis la modal dorg puan.. xjd lah buat prn kedah tganu klntn gini .hihi',\n",
       " 'Abdul Azim Che Hassan laaaaa org2 Pas boleh la xkan xtahu...']"
      ]
     },
     "execution_count": 7,
     "metadata": {},
     "output_type": "execute_result"
    }
   ],
   "source": [
    "texts[:10]"
   ]
  },
  {
   "cell_type": "code",
   "execution_count": 8,
   "id": "cb786484",
   "metadata": {},
   "outputs": [
    {
     "name": "stderr",
     "output_type": "stream",
     "text": [
      "100%|██████████| 193375/193375 [00:00<00:00, 353585.05it/s]\n"
     ]
    }
   ],
   "source": [
    "import re\n",
    "from tqdm import tqdm\n",
    "\n",
    "def cleaning(string):\n",
    "    string = re.sub(\n",
    "        'http\\\\S+|www.\\\\S+',\n",
    "        '',\n",
    "        ' '.join(\n",
    "            [i for i in string.split() if i.find('@') < 0]\n",
    "        ),\n",
    "    )\n",
    "    return string\n",
    "\n",
    "cleaned_texts = [(cleaning(t), t) for t in tqdm(texts)]\n",
    "cleaned_texts = [t for t in cleaned_texts if len(t[0]) > 5]"
   ]
  },
  {
   "cell_type": "code",
   "execution_count": 9,
   "id": "9bc97c5b",
   "metadata": {},
   "outputs": [],
   "source": [
    "from concurrent.futures import ThreadPoolExecutor, as_completed\n",
    "import os"
   ]
  },
  {
   "cell_type": "code",
   "execution_count": 10,
   "id": "49a3f9cc",
   "metadata": {},
   "outputs": [],
   "source": [
    "directory = 'facebook'\n",
    "!mkdir {directory}"
   ]
  },
  {
   "cell_type": "code",
   "execution_count": 11,
   "id": "60f074b2",
   "metadata": {},
   "outputs": [],
   "source": [
    "def translate(no, item):\n",
    "    filename = os.path.join(directory, f'{no}.json')\n",
    "    if os.path.exists(filename):\n",
    "        return True\n",
    "    \n",
    "    r = None\n",
    "    try:\n",
    "        o = openai.Embedding.create(\n",
    "            input=item[0],\n",
    "            model=\"text-embedding-ada-002\"\n",
    "        )\n",
    "        r = {\n",
    "            'v': o['data'][0]['embedding'],\n",
    "            'text': item,\n",
    "        }\n",
    "    except:\n",
    "        pass\n",
    "    fopen = open(filename, 'w')\n",
    "    if r is not None:\n",
    "        json.dump(r, fopen)\n",
    "    fopen.close()\n",
    "    return True"
   ]
  },
  {
   "cell_type": "code",
   "execution_count": 13,
   "id": "7d513144",
   "metadata": {},
   "outputs": [
    {
     "data": {
      "text/plain": [
       "('Freddz Othman K edah K alah K oyak', 'Freddz Othman K edah K alah K oyak')"
      ]
     },
     "execution_count": 13,
     "metadata": {},
     "output_type": "execute_result"
    }
   ],
   "source": [
    "cleaned_texts[1000]"
   ]
  },
  {
   "cell_type": "code",
   "execution_count": 14,
   "id": "52a8e89c",
   "metadata": {},
   "outputs": [
    {
     "name": "stdout",
     "output_type": "stream",
     "text": [
      "CPU times: user 50.1 ms, sys: 0 ns, total: 50.1 ms\n",
      "Wall time: 389 ms\n"
     ]
    },
    {
     "data": {
      "text/plain": [
       "True"
      ]
     },
     "execution_count": 14,
     "metadata": {},
     "output_type": "execute_result"
    }
   ],
   "source": [
    "%%time\n",
    "translate(10000, cleaned_texts[10000])"
   ]
  },
  {
   "cell_type": "code",
   "execution_count": 15,
   "id": "b117a3f0",
   "metadata": {},
   "outputs": [
    {
     "name": "stderr",
     "output_type": "stream",
     "text": [
      "100%|██████████| 3859/3859 [10:54:04<00:00, 10.17s/it]  \n"
     ]
    }
   ],
   "source": [
    "CHUNK_SIZE = 50\n",
    "start = 0\n",
    "for i in tqdm(range(start, len(cleaned_texts), CHUNK_SIZE)):\n",
    "    b = [(i + k, cleaned_texts[i + k]) for k in range(len(cleaned_texts[i: i + CHUNK_SIZE]))]\n",
    "\n",
    "    with ThreadPoolExecutor(max_workers=len(b)) as executor:\n",
    "        futures = {executor.submit(translate, item[0], item[1]): item for item in b}\n",
    "\n",
    "        for future in as_completed(futures):\n",
    "            future.result()"
   ]
  }
 ],
 "metadata": {
  "kernelspec": {
   "display_name": "Python 3 (ipykernel)",
   "language": "python",
   "name": "python3"
  },
  "language_info": {
   "codemirror_mode": {
    "name": "ipython",
    "version": 3
   },
   "file_extension": ".py",
   "mimetype": "text/x-python",
   "name": "python",
   "nbconvert_exporter": "python",
   "pygments_lexer": "ipython3",
   "version": "3.10.12"
  }
 },
 "nbformat": 4,
 "nbformat_minor": 5
}
