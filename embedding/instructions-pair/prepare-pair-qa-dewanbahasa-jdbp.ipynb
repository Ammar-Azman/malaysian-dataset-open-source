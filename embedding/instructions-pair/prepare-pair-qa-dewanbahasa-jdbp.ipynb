{
 "cells": [
  {
   "cell_type": "code",
   "execution_count": 1,
   "id": "ec263304",
   "metadata": {},
   "outputs": [],
   "source": [
    "# !wget https://huggingface.co/datasets/mesolitica/dewanbahasa-jdbp-choice/resolve/main/qa-dewanbahasa-jdbp.jsonl"
   ]
  },
  {
   "cell_type": "code",
   "execution_count": 2,
   "id": "08b38001",
   "metadata": {},
   "outputs": [],
   "source": [
    "import json\n",
    "import random"
   ]
  },
  {
   "cell_type": "code",
   "execution_count": 3,
   "id": "b13418a0",
   "metadata": {},
   "outputs": [],
   "source": [
    "data = []\n",
    "with open('qa-dewanbahasa-jdbp.jsonl') as fopen:\n",
    "    for l in fopen:\n",
    "        data.append(json.loads(l))"
   ]
  },
  {
   "cell_type": "code",
   "execution_count": 4,
   "id": "ec7d110d",
   "metadata": {},
   "outputs": [
    {
     "data": {
      "text/plain": [
       "2820"
      ]
     },
     "execution_count": 4,
     "metadata": {},
     "output_type": "execute_result"
    }
   ],
   "source": [
    "len(data)"
   ]
  },
  {
   "cell_type": "code",
   "execution_count": 5,
   "id": "b2eddc16",
   "metadata": {},
   "outputs": [],
   "source": [
    "indices = {i for i in range(len(data))}"
   ]
  },
  {
   "cell_type": "code",
   "execution_count": 6,
   "id": "ba453807",
   "metadata": {},
   "outputs": [
    {
     "name": "stderr",
     "output_type": "stream",
     "text": [
      "100%|█████████████████████████████████████| 2820/2820 [00:00<00:00, 9948.94it/s]\n"
     ]
    }
   ],
   "source": [
    "from tqdm import tqdm\n",
    "\n",
    "pairs = []\n",
    "for i in tqdm(range(len(data))):\n",
    "    query = data[i]['paragraph']\n",
    "    pos = []\n",
    "    for s in data[i]['qa']['qa']:\n",
    "        pos.append(s['question'])\n",
    "    \n",
    "    neg_i = random.choice(list(indices - {i}))\n",
    "    neg = []\n",
    "    for s in data[neg_i]['qa']['qa']:\n",
    "        neg.append(s['question'])\n",
    "        \n",
    "    pairs.append({\n",
    "        'query': query,\n",
    "        'pos': pos,\n",
    "        'neg': neg\n",
    "    })\n",
    "    \n",
    "    for s in data[i]['qa']['qa']:\n",
    "        try:\n",
    "            pos = [query]\n",
    "            neg_i = random.choice(list(indices - {i}))\n",
    "            neg = [data[neg_i]['paragraph']]\n",
    "\n",
    "            pairs.append({\n",
    "                'query': s['question'],\n",
    "                'pos': pos,\n",
    "                'neg': neg\n",
    "            })\n",
    "        except:\n",
    "            pass"
   ]
  },
  {
   "cell_type": "code",
   "execution_count": 7,
   "id": "43d2fb92",
   "metadata": {
    "scrolled": true
   },
   "outputs": [
    {
     "data": {
      "text/plain": [
       "{'query': 'Siapakah Menteri Perdagangan Antarabangsa dan Industri Malaysia?',\n",
       " 'pos': ['Pelaburan Syarikat China di Malaysia Tingkat Hubungan Dua Hala\\n\\nUntuk mendapatkan maklumat terkini, ikuti kami melalui Telegram\\nKuala Lumpur –\\xa0 Menteri Perdagangan Antarabangsa dan Industri, Tengku Datuk Seri Utama Tengku Zafrul Aziz berkata peningkatan minat syarikat China melabur di Malaysia memberi petanda baik kepada negara dan telah meningkatkan hubungan dua hala antara Malaysia dan China serta telah disokong oleh keyakinan terhadap kerajaan Perpaduan negara.\\nBeliau berkata menerusi satu kenyataan yang dikeluarkan oleh Lembaga Pembangunan Pelaburan Malaysia (MIDA), Kementerian Perdagangan Antarabangsa dan Industri\\xa0 (MITI) akan terus membantu memudahkan urusan para pelabur untuk menjalankan perniagaan di negara ini bagi menunjukkan bahawa Malaysia adalah sebuah negara sentiasa menyokong industri, perdagangan. Beliau juga menzahirkan ucapan tahniah kepada MIDA dan semua agensi berkaitan dalam membantu mendapatkan pelaburan berpotensi yang bernilai RM 170 bilion. “MITI, MIDA dan agensi lain kini perlu mula bekerja keras untuk membuat susulan dan seterusnya merealisasikan pelaburan ini dalam tempoh masa yang singkat,“ katanya.\\nMenerusi misi perdagangan dan pelaburan di China baru-baru ini, ketua pegawai eksekutif MIDA, Datuk Arham Abdul Rahman berkata lebih 20 syarikat telah menunjukkan minat yang serius untuk melabur dalam ekonomi Malaysia yang sedang berkembang pesat melibatkan bidang seperti produk petrokimia, produk solar dan kaca, pusat data antarabangsa dan bahagian-bahagian dan komponen kenderaan elektrik.\\nSyarikat Zhejiang Zhink Group, LONGi, GDS, Shanghai DC Science dan ZTE Corporation\\xa0 merupakan antara syarikat yang menyatakan minat yang mendalam untuk melabur di Malaysia dan kesemua syarikat ini mengakui potensi yang besar di Malaysia. Datuk Arham Abdul Rahman menyatakan pencapaian ini menunjukkan komitmen kerajaan Malaysia untuk menarik pelaburan berkualiti tinggi daripada pengguna teknologi digital utama dunia yang akan menempatkan satu pertiga daripada syarikat unicorn dunia.\\nPada tahun 2022, Malaysia mencatatkan sebanyak RM 264.4 bilion pelaburan diluluskan dalam sektor pembuatan, perkhidmatan dan primer dan daripada jumlah tersebut RM 55.4 bilion telah di sumbang oleh China yang melibatkan sejumlah 91 projek. MIDA berkata usaha niaga ini berpotensi mewujudkan 11 545 peluang pekerjaan baharu bagi tenaga kerja Malaysia yang sekali gus dapat mengukuhkan lagi struktur ekonomi negara.'],\n",
       " 'neg': ['Fahami Talasemia demi Kehidupan Sejahtera\\n\\nUntuk mendapatkan maklumat terkini, ikuti kami melalui Telegram\\nKuala Lumpur – Sebanyak 70 buah sekolah di seluruh negara telah turut serta dalam kempen “NowyouSEEme 2.0” hasil kerjasama Kementerian Kesihatan Malaysia (KKM) dan Kementerian Pendidikan Malaysia (KPM) dengan Hibiscus Petroleum Berhad bersempena dengan sambutan Hari Talasemia Sedunia 2022.\\nKempen yang telah berlangsung selama lima bulan ini diadakan bertujuan untuk meningkatkan literasi murid sekolah dan ibu bapa tentang penyakit talasemia. Talasemia adalah satu daripada penyakit genetik darah yang boleh diwarisi melalui gen talasemia daripada ibu bapa.\\nKKM menganggarkan setiap seorang daripada 20 orang rakyat di negara ini adalah pembawa gen talasemia dan jika kedua-dua ibu bapa adalah pembawa gen talasemia, maka berkemungkinan setiap kehamilan melahirkan bayi yang berpenyakit talasemia adalah tinggi. Pesakit yang menghidap talasemia tidak berupaya untuk menghasilkan sel darah merah yang berkualiti dan kuantiti yang mencukupi. Oleh itu, mereka perlu mendapatkan rawatan transfusi darah sebanyak satu atau dua kali sebulan sepanjang hidup.\\nDemikian perkara penting yang disampaikan oleh Ketua Pengarah Kesihatan, YBhg. Tan Sri Dato’ Seri Dr. Noor Hisham Abdullah dalam kenyataan medianya hari ini.\\nTambah beliau, kempen ini memberikan peluang yang lebih luas kepada murid dan warga sekolah menengah untuk mengenali dan memahami penyakit talasemia melalui aktiviti yang dijalankan menerusi portal secara dalam talian dan bersemuka.\\nKKM menyeru agar rakyat Malaysia turut serta dalam mempertingkatkan kesedaran untuk membendung penyakit talasemia dan menjalankan ujian saringan genetik bagi mengenal pasti pembawa gen talasemia melalui penganjuran kempen kesedaran tentang penyakit ini.\\nPada masa yang sama, pencegahan penyakit talasemia adalah penting kerana penyakit ini boleh menyebabkan komplikasi kematian disebabkan oleh kesan anemia yang serius, kegagalan organ seperti jantung dan jangkitan kuman.\\nPihak KKM juga merakamkan setinggi-tinggi penghargaan kepada pihak KPM dan Hibiscus Petroleum Berhad yang bersama-sama menjayakan kempen ini. Kerjasama padu seperti ini diharapkan dapat diteruskan dalam usaha menyampaikan maklumat dan meningkatkan literasi masyarakat, khususnya murid sekolah tentang penyakit talasemia dan kepentingan untuk mengetahui status talasemia masing-masing.']}"
      ]
     },
     "execution_count": 7,
     "metadata": {},
     "output_type": "execute_result"
    }
   ],
   "source": [
    "pairs[1]"
   ]
  },
  {
   "cell_type": "code",
   "execution_count": 8,
   "id": "c1733db3",
   "metadata": {},
   "outputs": [
    {
     "data": {
      "text/plain": [
       "15064"
      ]
     },
     "execution_count": 8,
     "metadata": {},
     "output_type": "execute_result"
    }
   ],
   "source": [
    "len(pairs)"
   ]
  },
  {
   "cell_type": "code",
   "execution_count": 9,
   "id": "8f6a7fb5",
   "metadata": {},
   "outputs": [],
   "source": [
    "with open('qa-dewanbahasa-jdbp-pair.jsonl', 'w') as fopen:\n",
    "    for l in pairs:\n",
    "        if not len(l['pos']) or not len(l['neg']):\n",
    "            continue\n",
    "        fopen.write(f'{json.dumps(l)}\\n')"
   ]
  }
 ],
 "metadata": {
  "kernelspec": {
   "display_name": "Python 3 (ipykernel)",
   "language": "python",
   "name": "python3"
  },
  "language_info": {
   "codemirror_mode": {
    "name": "ipython",
    "version": 3
   },
   "file_extension": ".py",
   "mimetype": "text/x-python",
   "name": "python",
   "nbconvert_exporter": "python",
   "pygments_lexer": "ipython3",
   "version": "3.8.10"
  }
 },
 "nbformat": 4,
 "nbformat_minor": 5
}
