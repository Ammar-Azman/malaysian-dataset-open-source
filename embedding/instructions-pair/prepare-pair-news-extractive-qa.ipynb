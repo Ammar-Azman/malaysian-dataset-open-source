{
 "cells": [
  {
   "cell_type": "code",
   "execution_count": 1,
   "id": "ec263304",
   "metadata": {},
   "outputs": [],
   "source": [
    "# !wget https://huggingface.co/datasets/mesolitica/chatgpt-news-extractive-qa/resolve/main/news-extractive-qa.json"
   ]
  },
  {
   "cell_type": "code",
   "execution_count": 2,
   "id": "08b38001",
   "metadata": {},
   "outputs": [],
   "source": [
    "import json\n",
    "import random"
   ]
  },
  {
   "cell_type": "code",
   "execution_count": 3,
   "id": "b13418a0",
   "metadata": {},
   "outputs": [],
   "source": [
    "with open('news-extractive-qa.json') as fopen:\n",
    "    data = json.load(fopen)"
   ]
  },
  {
   "cell_type": "code",
   "execution_count": 4,
   "id": "ec7d110d",
   "metadata": {},
   "outputs": [
    {
     "data": {
      "text/plain": [
       "63202"
      ]
     },
     "execution_count": 4,
     "metadata": {},
     "output_type": "execute_result"
    }
   ],
   "source": [
    "len(data)"
   ]
  },
  {
   "cell_type": "code",
   "execution_count": 5,
   "id": "96bfb022",
   "metadata": {},
   "outputs": [
    {
     "data": {
      "text/plain": [
       "['Kuala Terengganu: Kementerian Perdagangan Dalam Negeri, Koperasi dan Kepenggunaan (KPDNKK) Terengganu merampas baju dan seluar jenama tiruan dianggar bernilai RM10,000 dalam serbuan sempena Ramadan di Kampung Tiong, di sini, petang semalam.\\n\\nDalam serbuan kira-kira 4.30 petang itu, KPDNKK menahan tiga individu termasuk pemilik premis berusia 50-an untuk siasatan mengikut Seksyen 8(2)(b) Akta Perihal Dagangan 2011.\\n\\nPengarah KPDNKK Terengganu Azlan Abdul Samad berkata, serbuan dilakukan di tiga premis termasuk sebuah stor di kampung sama dalam operasi diketuai tiga pegawai dan sembilan anggota hasil maklumat dan intipan sejak 8 Mei lalu.\\n\\n\"Antara jenama dirampas ialah Adidas, Guess, Gucci, Levi\\'s dan Nike dengan bekalan dipercayai diperoleh dari tiga negara jiran.\\n\\n\"Siasatan mendapati pemilik premis berkenaan yang sudah 25 tahun mengaut keuntungan mudah menjalankan perniagaan pakaian tiruan itu dipercayai menjadi pembekal kepada peniaga kecil termasuk di pasar malam di negeri ini.\\n\\n\"Semakan rekod juga mendapati peniaga berkenaan pernah dikenakan kompaun sebelum ini kerana kesalahan sama dan ini adalah kesalahan kedua,\" katanya di sini, hari ini.',\n",
       " '{\\n  \"soalan\": [\\n    {\\n      \"soalan\": \"Di mana serbuan tersebut dilakukan?\",\\n      \"substring\": \"Kuala Terengganu\"\\n    },\\n    {\\n      \"soalan\": \"Berapa nilai baju dan seluar jenama tiruan yang dirampas?\",\\n      \"substring\": \"RM10,000\"\\n    },\\n    {\\n      \"soalan\": \"Berapa individu yang ditahan dalam serbuan tersebut?\",\\n      \"substring\": \"tiga individu\"\\n    },\\n    {\\n      \"soalan\": \"Apakah jenama-jenama yang dirampas?\",\\n      \"substring\": \"Adidas, Guess, Gucci, Levi\\'s dan Nike\"\\n    },\\n    {\\n      \"soalan\": \"Berapa lama pemilik premis tersebut menjalankan perniagaan pakaian tiruan?\",\\n      \"substring\": \"25 tahun\"\\n    }\\n  ]\\n}']"
      ]
     },
     "execution_count": 5,
     "metadata": {},
     "output_type": "execute_result"
    }
   ],
   "source": [
    "data[0]"
   ]
  },
  {
   "cell_type": "code",
   "execution_count": 6,
   "id": "42d2fa88",
   "metadata": {},
   "outputs": [
    {
     "data": {
      "text/plain": [
       "63013"
      ]
     },
     "execution_count": 6,
     "metadata": {},
     "output_type": "execute_result"
    }
   ],
   "source": [
    "data_qa = []\n",
    "for d in data:\n",
    "    try:\n",
    "        t = d[0]\n",
    "        a = d[1]\n",
    "        j_a = json.loads(d[1])\n",
    "        data_qa.append(\n",
    "            {\n",
    "                'context': t,\n",
    "                'qa': j_a\n",
    "            }\n",
    "        )\n",
    "    except Exception as e:\n",
    "        pass\n",
    "    \n",
    "len(data_qa)"
   ]
  },
  {
   "cell_type": "code",
   "execution_count": 7,
   "id": "4570d46b",
   "metadata": {},
   "outputs": [
    {
     "data": {
      "text/plain": [
       "{'context': 'Kuala Terengganu: Kementerian Perdagangan Dalam Negeri, Koperasi dan Kepenggunaan (KPDNKK) Terengganu merampas baju dan seluar jenama tiruan dianggar bernilai RM10,000 dalam serbuan sempena Ramadan di Kampung Tiong, di sini, petang semalam.\\n\\nDalam serbuan kira-kira 4.30 petang itu, KPDNKK menahan tiga individu termasuk pemilik premis berusia 50-an untuk siasatan mengikut Seksyen 8(2)(b) Akta Perihal Dagangan 2011.\\n\\nPengarah KPDNKK Terengganu Azlan Abdul Samad berkata, serbuan dilakukan di tiga premis termasuk sebuah stor di kampung sama dalam operasi diketuai tiga pegawai dan sembilan anggota hasil maklumat dan intipan sejak 8 Mei lalu.\\n\\n\"Antara jenama dirampas ialah Adidas, Guess, Gucci, Levi\\'s dan Nike dengan bekalan dipercayai diperoleh dari tiga negara jiran.\\n\\n\"Siasatan mendapati pemilik premis berkenaan yang sudah 25 tahun mengaut keuntungan mudah menjalankan perniagaan pakaian tiruan itu dipercayai menjadi pembekal kepada peniaga kecil termasuk di pasar malam di negeri ini.\\n\\n\"Semakan rekod juga mendapati peniaga berkenaan pernah dikenakan kompaun sebelum ini kerana kesalahan sama dan ini adalah kesalahan kedua,\" katanya di sini, hari ini.',\n",
       " 'qa': {'soalan': [{'soalan': 'Di mana serbuan tersebut dilakukan?',\n",
       "    'substring': 'Kuala Terengganu'},\n",
       "   {'soalan': 'Berapa nilai baju dan seluar jenama tiruan yang dirampas?',\n",
       "    'substring': 'RM10,000'},\n",
       "   {'soalan': 'Berapa individu yang ditahan dalam serbuan tersebut?',\n",
       "    'substring': 'tiga individu'},\n",
       "   {'soalan': 'Apakah jenama-jenama yang dirampas?',\n",
       "    'substring': \"Adidas, Guess, Gucci, Levi's dan Nike\"},\n",
       "   {'soalan': 'Berapa lama pemilik premis tersebut menjalankan perniagaan pakaian tiruan?',\n",
       "    'substring': '25 tahun'}]}}"
      ]
     },
     "execution_count": 7,
     "metadata": {},
     "output_type": "execute_result"
    }
   ],
   "source": [
    "data_qa[0]"
   ]
  },
  {
   "cell_type": "code",
   "execution_count": 8,
   "id": "b2eddc16",
   "metadata": {},
   "outputs": [],
   "source": [
    "indices = {i for i in range(len(data_qa))}"
   ]
  },
  {
   "cell_type": "code",
   "execution_count": 9,
   "id": "45fe5301",
   "metadata": {},
   "outputs": [
    {
     "name": "stdout",
     "output_type": "stream",
     "text": [
      "{'soalan': 'Di mana serbuan tersebut dilakukan?', 'substring': 'Kuala Terengganu'}\n",
      "{'soalan': 'Berapa nilai baju dan seluar jenama tiruan yang dirampas?', 'substring': 'RM10,000'}\n",
      "{'soalan': 'Berapa individu yang ditahan dalam serbuan tersebut?', 'substring': 'tiga individu'}\n",
      "{'soalan': 'Apakah jenama-jenama yang dirampas?', 'substring': \"Adidas, Guess, Gucci, Levi's dan Nike\"}\n",
      "{'soalan': 'Berapa lama pemilik premis tersebut menjalankan perniagaan pakaian tiruan?', 'substring': '25 tahun'}\n"
     ]
    }
   ],
   "source": [
    "i = 0\n",
    "for s in data_qa[i]['qa']['soalan']:\n",
    "    print(s)"
   ]
  },
  {
   "cell_type": "code",
   "execution_count": 10,
   "id": "ba453807",
   "metadata": {},
   "outputs": [
    {
     "name": "stderr",
     "output_type": "stream",
     "text": [
      "100%|████████████████████████████████████| 63013/63013 [03:27<00:00, 303.45it/s]\n"
     ]
    }
   ],
   "source": [
    "from tqdm import tqdm\n",
    "\n",
    "pairs = []\n",
    "for i in tqdm(range(len(data_qa))):\n",
    "    query = data_qa[i]['context']\n",
    "    pos = []\n",
    "    for s in data_qa[i]['qa']['soalan']:\n",
    "        try:\n",
    "            pos.append(s['soalan'])\n",
    "        except:\n",
    "            pass\n",
    "    \n",
    "    neg_i = random.choice(list(indices - {i}))\n",
    "    neg = []\n",
    "    for s in data_qa[neg_i]['qa']['soalan']:\n",
    "        try:\n",
    "            neg.append(s['soalan'])\n",
    "        except:\n",
    "            pass\n",
    "        \n",
    "    pairs.append({\n",
    "        'query': query,\n",
    "        'pos': pos,\n",
    "        'neg': neg\n",
    "    })\n",
    "    \n",
    "    for s in data_qa[i]['qa']['soalan']:\n",
    "        try:\n",
    "            pos = [query]\n",
    "            neg_i = random.choice(list(indices - {i}))\n",
    "            neg = [data_qa[neg_i]['context']]\n",
    "\n",
    "            pairs.append({\n",
    "                'query': s['soalan'],\n",
    "                'pos': pos,\n",
    "                'neg': neg\n",
    "            })\n",
    "        except:\n",
    "            pass"
   ]
  },
  {
   "cell_type": "code",
   "execution_count": 11,
   "id": "8f6a7fb5",
   "metadata": {},
   "outputs": [],
   "source": [
    "with open('news-qa-pair.jsonl', 'w') as fopen:\n",
    "    for l in pairs:\n",
    "        if not len(l['pos']) or not len(l['neg']):\n",
    "            continue\n",
    "        fopen.write(f'{json.dumps(l)}\\n')"
   ]
  },
  {
   "cell_type": "code",
   "execution_count": 12,
   "id": "6be9f866",
   "metadata": {},
   "outputs": [
    {
     "data": {
      "text/plain": [
       "378082"
      ]
     },
     "execution_count": 12,
     "metadata": {},
     "output_type": "execute_result"
    }
   ],
   "source": [
    "len(pairs)"
   ]
  }
 ],
 "metadata": {
  "kernelspec": {
   "display_name": "Python 3 (ipykernel)",
   "language": "python",
   "name": "python3"
  },
  "language_info": {
   "codemirror_mode": {
    "name": "ipython",
    "version": 3
   },
   "file_extension": ".py",
   "mimetype": "text/x-python",
   "name": "python",
   "nbconvert_exporter": "python",
   "pygments_lexer": "ipython3",
   "version": "3.8.10"
  }
 },
 "nbformat": 4,
 "nbformat_minor": 5
}
