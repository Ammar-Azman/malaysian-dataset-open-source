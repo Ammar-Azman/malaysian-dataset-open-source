{
 "cells": [
  {
   "cell_type": "code",
   "execution_count": 1,
   "id": "ab5f73f1",
   "metadata": {},
   "outputs": [],
   "source": [
    "import json\n",
    "import random\n",
    "import os\n",
    "from glob import glob"
   ]
  },
  {
   "cell_type": "code",
   "execution_count": 2,
   "id": "af8d207b",
   "metadata": {
    "scrolled": false
   },
   "outputs": [
    {
     "data": {
      "text/plain": [
       "['/home/husein/ssd3/malaysian-ultrachat/ultrachat-jurnaldbp.jsonl',\n",
       " '/home/husein/ssd3/malaysian-ultrachat/ultrachat-jurnaldbp-malay.jsonl',\n",
       " '/home/husein/ssd3/malaysian-ultrachat/ultrachat-gov.my.jsonl',\n",
       " '/home/husein/ssd3/malaysian-ultrachat/ultrachat-crossref-melayu.jsonl',\n",
       " '/home/husein/ssd3/malaysian-ultrachat/ultrachat-lom-agc.jsonl',\n",
       " '/home/husein/ssd3/malaysian-ultrachat/ultrachat-crossref-melayu-malay.jsonl',\n",
       " '/home/husein/ssd3/malaysian-ultrachat/ultrachat-epenerbitan-malay.jsonl',\n",
       " '/home/husein/ssd3/malaysian-ultrachat/ultrachat-ms-wikipedia.jsonl']"
      ]
     },
     "execution_count": 2,
     "metadata": {},
     "output_type": "execute_result"
    }
   ],
   "source": [
    "files = glob('/home/husein/ssd3/malaysian-ultrachat/*.jsonl')\n",
    "files"
   ]
  },
  {
   "cell_type": "code",
   "execution_count": 3,
   "id": "9621c960",
   "metadata": {},
   "outputs": [],
   "source": [
    "for f in files:\n",
    "    new_f = f'pair-{os.path.split(f)[-1]}'\n",
    "    data = []\n",
    "    with open(f) as fopen:\n",
    "        for l in fopen:\n",
    "            data.append(json.loads(l))\n",
    "    \n",
    "    indices = {i for i in range(len(data))}\n",
    "    pairs = []\n",
    "    for i in range(len(data)):\n",
    "        l = data[i]\n",
    "        context = l[0]['content']\n",
    "        pos = []\n",
    "        for l_ in l[1:]:\n",
    "            v = list(l_.values())\n",
    "            v = [v_ for v_ in v if v_ is not None and v_ not in {'user', 'assistant'}]\n",
    "            pos.extend(v)\n",
    "        pos = list(set(pos))\n",
    "\n",
    "        neg_i = random.choice(list(indices - {i}))\n",
    "        neg = []\n",
    "        for l_ in data[neg_i][1:]:\n",
    "            v = list(l_.values())\n",
    "            v = [v_ for v_ in v if v_ is not None and v_ not in {'user', 'assistant'}]\n",
    "            neg.extend(v)\n",
    "\n",
    "        neg = list(set(neg))\n",
    "\n",
    "        pairs.append({\n",
    "            'query': context,\n",
    "            'pos': pos,\n",
    "            'neg': neg\n",
    "        })\n",
    "\n",
    "        l = l[1:]\n",
    "        inputs = []\n",
    "        for no, r in enumerate(l):\n",
    "            if r['content_ms'] is None:\n",
    "                break\n",
    "\n",
    "            inputs.append(r['content_ms'])\n",
    "\n",
    "        if len(inputs) % 2 != 0:\n",
    "            inputs = inputs[:-1]\n",
    "\n",
    "        for k in range(0, len(inputs), 2):\n",
    "\n",
    "            neg_i = random.choice(list(indices - {i}))\n",
    "\n",
    "            pairs.append({\n",
    "                'query': inputs[k],\n",
    "                'pos': [context, inputs[k + 1]],\n",
    "                'neg': [data[neg_i][0]['content']]\n",
    "            })\n",
    "        \n",
    "        for k in range(1, len(inputs), 2):\n",
    "            neg_i = random.choice(list(indices - {i}))\n",
    "\n",
    "            pairs.append({\n",
    "                'query': inputs[k],\n",
    "                'pos': [context, inputs[k - 1]],\n",
    "                'neg': [data[neg_i][0]['content']]\n",
    "            })\n",
    "            \n",
    "        l = l[1:]\n",
    "        inputs = []\n",
    "        for no, r in enumerate(l):\n",
    "            if r['content'] is None:\n",
    "                break\n",
    "\n",
    "            inputs.append(r['content'])\n",
    "\n",
    "        if len(inputs) % 2 != 0:\n",
    "            inputs = inputs[:-1]\n",
    "\n",
    "        for k in range(0, len(inputs), 2):\n",
    "\n",
    "            neg_i = random.choice(list(indices - {i}))\n",
    "\n",
    "            pairs.append({\n",
    "                'query': inputs[k],\n",
    "                'pos': [context, inputs[k + 1]],\n",
    "                'neg': [data[neg_i][0]['content']]\n",
    "            })\n",
    "        \n",
    "        for k in range(1, len(inputs), 2):\n",
    "            neg_i = random.choice(list(indices - {i}))\n",
    "\n",
    "            pairs.append({\n",
    "                'query': inputs[k],\n",
    "                'pos': [context, inputs[k - 1]],\n",
    "                'neg': [data[neg_i][0]['content']]\n",
    "            })\n",
    "            \n",
    "    with open(new_f, 'w') as fopen:\n",
    "        for l in pairs:\n",
    "            if not len(l['pos']) or not len(l['neg']):\n",
    "                continue\n",
    "            fopen.write(f'{json.dumps(l)}\\n')"
   ]
  }
 ],
 "metadata": {
  "kernelspec": {
   "display_name": "Python 3 (ipykernel)",
   "language": "python",
   "name": "python3"
  },
  "language_info": {
   "codemirror_mode": {
    "name": "ipython",
    "version": 3
   },
   "file_extension": ".py",
   "mimetype": "text/x-python",
   "name": "python",
   "nbconvert_exporter": "python",
   "pygments_lexer": "ipython3",
   "version": "3.8.10"
  }
 },
 "nbformat": 4,
 "nbformat_minor": 5
}
