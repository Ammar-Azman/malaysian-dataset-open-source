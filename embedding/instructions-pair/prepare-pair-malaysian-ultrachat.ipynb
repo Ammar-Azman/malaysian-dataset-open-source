{
 "cells": [
  {
   "cell_type": "code",
   "execution_count": 1,
   "id": "ab5f73f1",
   "metadata": {},
   "outputs": [],
   "source": [
    "import json\n",
    "import random\n",
    "import os\n",
    "from glob import glob"
   ]
  },
  {
   "cell_type": "code",
   "execution_count": 3,
   "id": "1fa0572d",
   "metadata": {},
   "outputs": [
    {
     "data": {
      "text/plain": [
       "['/home/husein/ssd3/gov.my/ultrachat-jurnaldbp.jsonl',\n",
       " '/home/husein/ssd3/gov.my/ultrachat-jurnaldbp-malay.jsonl',\n",
       " '/home/husein/ssd3/gov.my/ultrachat-maktabahalbakri.com.jsonl',\n",
       " '/home/husein/ssd3/gov.my/ultrachat-gov.my.jsonl',\n",
       " '/home/husein/ssd3/gov.my/ultrachat-crossref-melayu.jsonl',\n",
       " '/home/husein/ssd3/gov.my/ultrachat-lom-agc.jsonl',\n",
       " '/home/husein/ssd3/gov.my/ultrachat-astroawani-malay.jsonl',\n",
       " '/home/husein/ssd3/gov.my/ultrachat-textbooks.jsonl',\n",
       " '/home/husein/ssd3/gov.my/ultrachat-crossref-melayu-malay.jsonl',\n",
       " '/home/husein/ssd3/gov.my/ultrachat-epenerbitan-malay.jsonl',\n",
       " '/home/husein/ssd3/gov.my/ultrachat-hansard-malay.jsonl',\n",
       " '/home/husein/ssd3/gov.my/ultrachat-ms-wikipedia.jsonl',\n",
       " '/home/husein/ssd3/gov.my/ultrachat-muftiwp.gov.my.texts.jsonl']"
      ]
     },
     "execution_count": 3,
     "metadata": {},
     "output_type": "execute_result"
    }
   ],
   "source": [
    "files = glob('/home/husein/ssd3/gov.my/ultrachat-*.jsonl')\n",
    "files = [f for f in files if 'glaive_coder_raw_text' not in f]\n",
    "files"
   ]
  },
  {
   "cell_type": "code",
   "execution_count": 4,
   "id": "9621c960",
   "metadata": {},
   "outputs": [],
   "source": [
    "for f in files:\n",
    "    new_f = f'pair-{os.path.split(f)[-1]}'\n",
    "    data = []\n",
    "    with open(f) as fopen:\n",
    "        for l in fopen:\n",
    "            data.append(json.loads(l))\n",
    "    \n",
    "    indices = {i for i in range(len(data))}\n",
    "    pairs = []\n",
    "    for i in range(len(data)):\n",
    "        l = data[i]\n",
    "        context = l[0]['content']\n",
    "        pos = []\n",
    "        for l_ in l[1:]:\n",
    "            v = list(l_.values())\n",
    "            v = [v_ for v_ in v if v_ is not None and v_ not in {'user', 'assistant'}]\n",
    "            pos.extend(v)\n",
    "        pos = list(set(pos))\n",
    "\n",
    "        neg_i = random.choice(list(indices - {i}))\n",
    "        neg = []\n",
    "        for l_ in data[neg_i][1:]:\n",
    "            v = list(l_.values())\n",
    "            v = [v_ for v_ in v if v_ is not None and v_ not in {'user', 'assistant'}]\n",
    "            neg.extend(v)\n",
    "\n",
    "        neg = list(set(neg))\n",
    "\n",
    "        pairs.append({\n",
    "            'query': context,\n",
    "            'pos': pos,\n",
    "            'neg': neg\n",
    "        })\n",
    "\n",
    "        l = l[1:]\n",
    "        inputs = []\n",
    "        for no, r in enumerate(l):\n",
    "            if r['content_ms'] is None:\n",
    "                break\n",
    "\n",
    "            inputs.append(r['content_ms'])\n",
    "\n",
    "        if len(inputs) % 2 != 0:\n",
    "            inputs = inputs[:-1]\n",
    "\n",
    "        for k in range(0, len(inputs), 2):\n",
    "            neg_i = random.choice(list(indices - {i}))\n",
    "            \n",
    "            if random.random() > 0.3:\n",
    "                continue\n",
    "\n",
    "            pairs.append({\n",
    "                'query': inputs[k],\n",
    "                'pos': [context, inputs[k + 1]],\n",
    "                'neg': [data[neg_i][0]['content']]\n",
    "            })\n",
    "        \n",
    "        for k in range(1, len(inputs), 2):\n",
    "            neg_i = random.choice(list(indices - {i}))\n",
    "            \n",
    "            if random.random() > 0.3:\n",
    "                continue\n",
    "\n",
    "            pairs.append({\n",
    "                'query': inputs[k],\n",
    "                'pos': [context, inputs[k - 1]],\n",
    "                'neg': [data[neg_i][0]['content']]\n",
    "            })\n",
    "            \n",
    "        l = l[1:]\n",
    "        inputs = []\n",
    "        for no, r in enumerate(l):\n",
    "            if r['content'] is None:\n",
    "                break\n",
    "\n",
    "            inputs.append(r['content'])\n",
    "\n",
    "        if len(inputs) % 2 != 0:\n",
    "            inputs = inputs[:-1]\n",
    "\n",
    "        for k in range(0, len(inputs), 2):\n",
    "            \n",
    "            if random.random() > 0.3:\n",
    "                continue\n",
    "\n",
    "            neg_i = random.choice(list(indices - {i}))\n",
    "\n",
    "            pairs.append({\n",
    "                'query': inputs[k],\n",
    "                'pos': [context, inputs[k + 1]],\n",
    "                'neg': [data[neg_i][0]['content']]\n",
    "            })\n",
    "        \n",
    "        for k in range(1, len(inputs), 2):\n",
    "            \n",
    "            if random.random() > 0.3:\n",
    "                continue\n",
    "                \n",
    "            neg_i = random.choice(list(indices - {i}))\n",
    "\n",
    "            pairs.append({\n",
    "                'query': inputs[k],\n",
    "                'pos': [context, inputs[k - 1]],\n",
    "                'neg': [data[neg_i][0]['content']]\n",
    "            })\n",
    "            \n",
    "    with open(new_f, 'w') as fopen:\n",
    "        for l in pairs:\n",
    "            if not len(l['pos']) or not len(l['neg']):\n",
    "                continue\n",
    "            fopen.write(f'{json.dumps(l)}\\n')"
   ]
  },
  {
   "cell_type": "code",
   "execution_count": 6,
   "id": "fa5d871c",
   "metadata": {},
   "outputs": [
    {
     "data": {
      "text/plain": [
       "['pair-ultrachat-crossref-melayu.jsonl',\n",
       " 'pair-ultrachat-textbooks.jsonl',\n",
       " 'pair-ultrachat-muftiwp.gov.my.texts.jsonl',\n",
       " 'pair-ultrachat-epenerbitan-malay.jsonl',\n",
       " 'pair-ultrachat-gov.my.jsonl',\n",
       " 'pair-ultrachat-lom-agc.jsonl',\n",
       " 'pair-ultrachat-ms-wikipedia.jsonl',\n",
       " 'pair-ultrachat-jurnaldbp.jsonl',\n",
       " 'pair-ultrachat-astroawani-malay.jsonl',\n",
       " 'pair-ultrachat-crossref-melayu-malay.jsonl',\n",
       " 'pair-ultrachat-jurnaldbp-malay.jsonl',\n",
       " 'pair-ultrachat-hansard-malay.jsonl',\n",
       " 'pair-ultrachat-maktabahalbakri.com.jsonl']"
      ]
     },
     "execution_count": 6,
     "metadata": {},
     "output_type": "execute_result"
    }
   ],
   "source": [
    "files = glob('pair-ultrachat-*.jsonl')\n",
    "files"
   ]
  },
  {
   "cell_type": "code",
   "execution_count": 7,
   "id": "33c88e70",
   "metadata": {},
   "outputs": [
    {
     "name": "stderr",
     "output_type": "stream",
     "text": [
      "/home/husein/.local/lib/python3.8/site-packages/requests/__init__.py:102: RequestsDependencyWarning: urllib3 (1.26.15) or chardet (5.2.0)/charset_normalizer (2.0.7) doesn't match a supported version!\n",
      "  warnings.warn(\"urllib3 ({}) or chardet ({})/charset_normalizer ({}) doesn't match a supported \"\n"
     ]
    }
   ],
   "source": [
    "from huggingface_hub import HfApi\n",
    "api = HfApi()"
   ]
  },
  {
   "cell_type": "code",
   "execution_count": 8,
   "id": "b9d6f499",
   "metadata": {},
   "outputs": [
    {
     "name": "stdout",
     "output_type": "stream",
     "text": [
      "pair-ultrachat-crossref-melayu.jsonl\n"
     ]
    },
    {
     "data": {
      "application/vnd.jupyter.widget-view+json": {
       "model_id": "e406f24bdd6d40dcaee145a649de3d5e",
       "version_major": 2,
       "version_minor": 0
      },
      "text/plain": [
       "pair-ultrachat-crossref-melayu.jsonl:   0%|          | 0.00/211M [00:00<?, ?B/s]"
      ]
     },
     "metadata": {},
     "output_type": "display_data"
    },
    {
     "name": "stdout",
     "output_type": "stream",
     "text": [
      "pair-ultrachat-textbooks.jsonl\n"
     ]
    },
    {
     "data": {
      "application/vnd.jupyter.widget-view+json": {
       "model_id": "f24dda6cefe34ab3a7a02fc4b5f02e9d",
       "version_major": 2,
       "version_minor": 0
      },
      "text/plain": [
       "pair-ultrachat-textbooks.jsonl:   0%|          | 0.00/5.54G [00:00<?, ?B/s]"
      ]
     },
     "metadata": {},
     "output_type": "display_data"
    },
    {
     "name": "stdout",
     "output_type": "stream",
     "text": [
      "pair-ultrachat-muftiwp.gov.my.texts.jsonl\n"
     ]
    },
    {
     "data": {
      "application/vnd.jupyter.widget-view+json": {
       "model_id": "0b4ba88d993b454d9173bdb1437913fb",
       "version_major": 2,
       "version_minor": 0
      },
      "text/plain": [
       "pair-ultrachat-muftiwp.gov.my.texts.jsonl:   0%|          | 0.00/442M [00:00<?, ?B/s]"
      ]
     },
     "metadata": {},
     "output_type": "display_data"
    },
    {
     "name": "stdout",
     "output_type": "stream",
     "text": [
      "pair-ultrachat-epenerbitan-malay.jsonl\n"
     ]
    },
    {
     "data": {
      "application/vnd.jupyter.widget-view+json": {
       "model_id": "b39fb2d68c36446b8aeb2ecc8849d317",
       "version_major": 2,
       "version_minor": 0
      },
      "text/plain": [
       "pair-ultrachat-epenerbitan-malay.jsonl:   0%|          | 0.00/361M [00:00<?, ?B/s]"
      ]
     },
     "metadata": {},
     "output_type": "display_data"
    },
    {
     "name": "stdout",
     "output_type": "stream",
     "text": [
      "pair-ultrachat-gov.my.jsonl\n"
     ]
    },
    {
     "data": {
      "application/vnd.jupyter.widget-view+json": {
       "model_id": "80b2ce01da2143bea18a21bab214de86",
       "version_major": 2,
       "version_minor": 0
      },
      "text/plain": [
       "pair-ultrachat-gov.my.jsonl:   0%|          | 0.00/758M [00:00<?, ?B/s]"
      ]
     },
     "metadata": {},
     "output_type": "display_data"
    },
    {
     "name": "stdout",
     "output_type": "stream",
     "text": [
      "pair-ultrachat-lom-agc.jsonl\n"
     ]
    },
    {
     "data": {
      "application/vnd.jupyter.widget-view+json": {
       "model_id": "ff3a3e5fe52646a7b1d3ae12a333f942",
       "version_major": 2,
       "version_minor": 0
      },
      "text/plain": [
       "pair-ultrachat-lom-agc.jsonl:   0%|          | 0.00/599M [00:00<?, ?B/s]"
      ]
     },
     "metadata": {},
     "output_type": "display_data"
    },
    {
     "name": "stdout",
     "output_type": "stream",
     "text": [
      "pair-ultrachat-ms-wikipedia.jsonl\n"
     ]
    },
    {
     "data": {
      "application/vnd.jupyter.widget-view+json": {
       "model_id": "6dc8ce0248134cefa9c37489586706e3",
       "version_major": 2,
       "version_minor": 0
      },
      "text/plain": [
       "pair-ultrachat-ms-wikipedia.jsonl:   0%|          | 0.00/217M [00:00<?, ?B/s]"
      ]
     },
     "metadata": {},
     "output_type": "display_data"
    },
    {
     "name": "stdout",
     "output_type": "stream",
     "text": [
      "pair-ultrachat-jurnaldbp.jsonl\n"
     ]
    },
    {
     "data": {
      "application/vnd.jupyter.widget-view+json": {
       "model_id": "c693d31da44746bdb6126e4fd8693abf",
       "version_major": 2,
       "version_minor": 0
      },
      "text/plain": [
       "pair-ultrachat-jurnaldbp.jsonl:   0%|          | 0.00/279M [00:00<?, ?B/s]"
      ]
     },
     "metadata": {},
     "output_type": "display_data"
    },
    {
     "name": "stdout",
     "output_type": "stream",
     "text": [
      "pair-ultrachat-astroawani-malay.jsonl\n"
     ]
    },
    {
     "data": {
      "application/vnd.jupyter.widget-view+json": {
       "model_id": "511b64c5c1a943b38ee6810ad42f0b53",
       "version_major": 2,
       "version_minor": 0
      },
      "text/plain": [
       "pair-ultrachat-astroawani-malay.jsonl:   0%|          | 0.00/1.84G [00:00<?, ?B/s]"
      ]
     },
     "metadata": {},
     "output_type": "display_data"
    },
    {
     "name": "stdout",
     "output_type": "stream",
     "text": [
      "pair-ultrachat-crossref-melayu-malay.jsonl\n"
     ]
    },
    {
     "data": {
      "application/vnd.jupyter.widget-view+json": {
       "model_id": "8a321df8c28943ff96fae2228dc5ee6d",
       "version_major": 2,
       "version_minor": 0
      },
      "text/plain": [
       "pair-ultrachat-crossref-melayu-malay.jsonl:   0%|          | 0.00/1.04G [00:00<?, ?B/s]"
      ]
     },
     "metadata": {},
     "output_type": "display_data"
    },
    {
     "name": "stdout",
     "output_type": "stream",
     "text": [
      "pair-ultrachat-jurnaldbp-malay.jsonl\n"
     ]
    },
    {
     "data": {
      "application/vnd.jupyter.widget-view+json": {
       "model_id": "46899bb541f44947889fd9dbf649fa8f",
       "version_major": 2,
       "version_minor": 0
      },
      "text/plain": [
       "pair-ultrachat-jurnaldbp-malay.jsonl:   0%|          | 0.00/606M [00:00<?, ?B/s]"
      ]
     },
     "metadata": {},
     "output_type": "display_data"
    },
    {
     "name": "stdout",
     "output_type": "stream",
     "text": [
      "pair-ultrachat-hansard-malay.jsonl\n"
     ]
    },
    {
     "data": {
      "application/vnd.jupyter.widget-view+json": {
       "model_id": "5be7d58d284547778a76486da206fd1b",
       "version_major": 2,
       "version_minor": 0
      },
      "text/plain": [
       "pair-ultrachat-hansard-malay.jsonl:   0%|          | 0.00/3.57G [00:00<?, ?B/s]"
      ]
     },
     "metadata": {},
     "output_type": "display_data"
    },
    {
     "name": "stdout",
     "output_type": "stream",
     "text": [
      "pair-ultrachat-maktabahalbakri.com.jsonl\n"
     ]
    },
    {
     "data": {
      "application/vnd.jupyter.widget-view+json": {
       "model_id": "84e377884c3a4611bdd720687c0ef4e7",
       "version_major": 2,
       "version_minor": 0
      },
      "text/plain": [
       "pair-ultrachat-maktabahalbakri.com.jsonl:   0%|          | 0.00/431M [00:00<?, ?B/s]"
      ]
     },
     "metadata": {},
     "output_type": "display_data"
    }
   ],
   "source": [
    "for f in files:\n",
    "    print(f)\n",
    "    api.upload_file(\n",
    "        path_or_fileobj=f,\n",
    "        path_in_repo=f,\n",
    "        repo_id='mesolitica/instructions-pair-mining',\n",
    "        repo_type='dataset',\n",
    "    )"
   ]
  },
  {
   "cell_type": "code",
   "execution_count": null,
   "id": "191a6ed0",
   "metadata": {},
   "outputs": [],
   "source": []
  }
 ],
 "metadata": {
  "kernelspec": {
   "display_name": "Python 3 (ipykernel)",
   "language": "python",
   "name": "python3"
  },
  "language_info": {
   "codemirror_mode": {
    "name": "ipython",
    "version": 3
   },
   "file_extension": ".py",
   "mimetype": "text/x-python",
   "name": "python",
   "nbconvert_exporter": "python",
   "pygments_lexer": "ipython3",
   "version": "3.8.10"
  }
 },
 "nbformat": 4,
 "nbformat_minor": 5
}
