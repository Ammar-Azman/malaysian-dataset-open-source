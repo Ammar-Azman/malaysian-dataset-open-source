{
 "cells": [
  {
   "cell_type": "code",
   "execution_count": 1,
   "id": "ec263304",
   "metadata": {},
   "outputs": [],
   "source": [
    "# !wget https://huggingface.co/datasets/mesolitica/majalahsains-choice/resolve/main/qa-majalahsains.jsonl"
   ]
  },
  {
   "cell_type": "code",
   "execution_count": 2,
   "id": "08b38001",
   "metadata": {},
   "outputs": [],
   "source": [
    "import json\n",
    "import random"
   ]
  },
  {
   "cell_type": "code",
   "execution_count": 3,
   "id": "b13418a0",
   "metadata": {},
   "outputs": [],
   "source": [
    "data = []\n",
    "with open('qa-majalahsains.jsonl') as fopen:\n",
    "    for l in fopen:\n",
    "        data.append(json.loads(l))"
   ]
  },
  {
   "cell_type": "code",
   "execution_count": 4,
   "id": "ff23e23c",
   "metadata": {},
   "outputs": [
    {
     "data": {
      "text/plain": [
       "{'paragraph': 'Di sini kami tunjukkan satu video aktiviti penyelidikan yang dijalankan di Institute of Microengineering & Nanoelectronics (IMEN), yang terletak di Universiti Kebangsaan Malaysia.\\n\\nDi sini kami tunjukkan satu video aktiviti penyelidikan yang dijalankan di Institute of Microengineering & Nanoelectronics (IMEN), yang terletak di Universiti Kebangsaan Malaysia.\\n\\nIMEN yang diketuai oleh Profesor Dato’ Dr. Burhanuddin Yeop Majlis selaku Pengarah ditubuhkan pada bulan November 2002. Institut ini menumpukan penyelidikan multidisiplin dalam bidang Kejuruteraan Mikro, Nanoteknologi, Nanoelektronik dan menerima anugerah Pusat Kecemerlangan Pengajian Tinggi (HiCOE), pada tahun 2015 di dalam bidang ini.\\n\\nIMEN yang diketuai oleh Profesor Dato’ Dr. Burhanuddin Yeop Majlis selaku Pengarah ditubuhkan pada bulan November 2002. Institut ini menumpukan penyelidikan multidisiplin dalam bidang Kejuruteraan Mikro, Nanoteknologi, Nanoelektronik dan menerima anugerah Pusat Kecemerlangan Pengajian Tinggi (HiCOE), pada tahun 2015 di dalam bidang ini.\\n\\nMisi utama IMEN ditubuhkan bertujuan untuk menjadi pusat penyelidikan bertaraf dunia membangunkan penyelidikan bidang-bidang kejuruteraan termaju seperti teknologi mikrosensor, nanoelektronik, MEMS/NEMS, electronik organik,\\xa0 teknologi fotonik, packaging, VLSI\\xa0 dan sistem nano.\\n\\nMisi utama IMEN ditubuhkan bertujuan untuk menjadi pusat penyelidikan bertaraf dunia membangunkan penyelidikan bidang-bidang kejuruteraan termaju seperti teknologi mikrosensor, nanoelektronik, MEMS/NEMS, electronik organik,\\xa0 teknologi fotonik, packaging, VLSI\\xa0 dan sistem nano.',\n",
       " 'qa': {'qa': [{'question': 'Apakah nama institusi yang melakukan aktiviti penyelidikan?',\n",
       "    'A': 'Institute of Microengineering & Nanoelectronics (IMEN)',\n",
       "    'B': 'Universiti Kebangsaan Malaysia',\n",
       "    'C': 'Profesor Dato’ Dr. Burhanuddin Yeop Majlis',\n",
       "    'D': 'Pusat Kecemerlangan Pengajian Tinggi (HiCOE)',\n",
       "    'answer': 'A'},\n",
       "   {'question': 'Siapakah pengarah Institute of Microengineering & Nanoelectronics (IMEN)?',\n",
       "    'A': 'Institute of Microengineering & Nanoelectronics (IMEN)',\n",
       "    'B': 'Universiti Kebangsaan Malaysia',\n",
       "    'C': 'Profesor Dato’ Dr. Burhanuddin Yeop Majlis',\n",
       "    'D': 'Pusat Kecemerlangan Pengajian Tinggi (HiCOE)',\n",
       "    'answer': 'C'},\n",
       "   {'question': 'Bidang-bidang kejuruteraan apakah yang difokuskan oleh Institut IMEN?',\n",
       "    'A': 'Kejuruteraan Mikro',\n",
       "    'B': 'Nanoteknologi',\n",
       "    'C': 'Nanoelektronik',\n",
       "    'D': 'Semua di atas',\n",
       "    'answer': 'D'},\n",
       "   {'question': 'Apakah misi utama Institut IMEN?',\n",
       "    'A': 'Membangunkan teknologi mikrosensor',\n",
       "    'B': 'Membangunkan teknologi nanoelektronik',\n",
       "    'C': 'Membangunkan teknologi MEMS/NEMS',\n",
       "    'D': 'Semua di atas',\n",
       "    'answer': 'D'}]}}"
      ]
     },
     "execution_count": 4,
     "metadata": {},
     "output_type": "execute_result"
    }
   ],
   "source": [
    "data[0]"
   ]
  },
  {
   "cell_type": "code",
   "execution_count": 5,
   "id": "ec7d110d",
   "metadata": {},
   "outputs": [
    {
     "data": {
      "text/plain": [
       "2321"
      ]
     },
     "execution_count": 5,
     "metadata": {},
     "output_type": "execute_result"
    }
   ],
   "source": [
    "len(data)"
   ]
  },
  {
   "cell_type": "code",
   "execution_count": 6,
   "id": "b2eddc16",
   "metadata": {},
   "outputs": [],
   "source": [
    "indices = {i for i in range(len(data))}"
   ]
  },
  {
   "cell_type": "code",
   "execution_count": 7,
   "id": "ba453807",
   "metadata": {},
   "outputs": [
    {
     "name": "stderr",
     "output_type": "stream",
     "text": [
      "100%|████████████████████████████████████| 2321/2321 [00:00<00:00, 10938.70it/s]\n"
     ]
    }
   ],
   "source": [
    "from tqdm import tqdm\n",
    "\n",
    "pairs = []\n",
    "for i in tqdm(range(len(data))):\n",
    "    query = data[i]['paragraph']\n",
    "    pos = []\n",
    "    for s in data[i]['qa']['qa']:\n",
    "        pos.append(s['question'])\n",
    "    \n",
    "    neg_i = random.choice(list(indices - {i}))\n",
    "    neg = []\n",
    "    for s in data[neg_i]['qa']['qa']:\n",
    "        neg.append(s['question'])\n",
    "        \n",
    "    pairs.append({\n",
    "        'query': query,\n",
    "        'pos': pos,\n",
    "        'neg': neg\n",
    "    })\n",
    "    \n",
    "    for s in data[i]['qa']['qa']:\n",
    "        try:\n",
    "            pos = [query]\n",
    "            neg_i = random.choice(list(indices - {i}))\n",
    "            neg = [data[neg_i]['paragraph']]\n",
    "\n",
    "            pairs.append({\n",
    "                'query': s['question'],\n",
    "                'pos': pos,\n",
    "                'neg': neg\n",
    "            })\n",
    "        except:\n",
    "            pass"
   ]
  },
  {
   "cell_type": "code",
   "execution_count": 8,
   "id": "43d2fb92",
   "metadata": {},
   "outputs": [
    {
     "data": {
      "text/plain": [
       "{'query': 'Di sini kami tunjukkan satu video aktiviti penyelidikan yang dijalankan di Institute of Microengineering & Nanoelectronics (IMEN), yang terletak di Universiti Kebangsaan Malaysia.\\n\\nDi sini kami tunjukkan satu video aktiviti penyelidikan yang dijalankan di Institute of Microengineering & Nanoelectronics (IMEN), yang terletak di Universiti Kebangsaan Malaysia.\\n\\nIMEN yang diketuai oleh Profesor Dato’ Dr. Burhanuddin Yeop Majlis selaku Pengarah ditubuhkan pada bulan November 2002. Institut ini menumpukan penyelidikan multidisiplin dalam bidang Kejuruteraan Mikro, Nanoteknologi, Nanoelektronik dan menerima anugerah Pusat Kecemerlangan Pengajian Tinggi (HiCOE), pada tahun 2015 di dalam bidang ini.\\n\\nIMEN yang diketuai oleh Profesor Dato’ Dr. Burhanuddin Yeop Majlis selaku Pengarah ditubuhkan pada bulan November 2002. Institut ini menumpukan penyelidikan multidisiplin dalam bidang Kejuruteraan Mikro, Nanoteknologi, Nanoelektronik dan menerima anugerah Pusat Kecemerlangan Pengajian Tinggi (HiCOE), pada tahun 2015 di dalam bidang ini.\\n\\nMisi utama IMEN ditubuhkan bertujuan untuk menjadi pusat penyelidikan bertaraf dunia membangunkan penyelidikan bidang-bidang kejuruteraan termaju seperti teknologi mikrosensor, nanoelektronik, MEMS/NEMS, electronik organik,\\xa0 teknologi fotonik, packaging, VLSI\\xa0 dan sistem nano.\\n\\nMisi utama IMEN ditubuhkan bertujuan untuk menjadi pusat penyelidikan bertaraf dunia membangunkan penyelidikan bidang-bidang kejuruteraan termaju seperti teknologi mikrosensor, nanoelektronik, MEMS/NEMS, electronik organik,\\xa0 teknologi fotonik, packaging, VLSI\\xa0 dan sistem nano.',\n",
       " 'pos': ['Apakah nama institusi yang melakukan aktiviti penyelidikan?',\n",
       "  'Siapakah pengarah Institute of Microengineering & Nanoelectronics (IMEN)?',\n",
       "  'Bidang-bidang kejuruteraan apakah yang difokuskan oleh Institut IMEN?',\n",
       "  'Apakah misi utama Institut IMEN?'],\n",
       " 'neg': ['Apakah contoh penyakit zoonotik yang disebabkan oleh gigitan nyamuk?',\n",
       "  'Apakah perkara yang boleh kita amalkan untuk mengurangkan risiko penyakit zoonotik?',\n",
       "  'Apakah yang perlu difahami mengenai kuman?']}"
      ]
     },
     "execution_count": 8,
     "metadata": {},
     "output_type": "execute_result"
    }
   ],
   "source": [
    "pairs[0]"
   ]
  },
  {
   "cell_type": "code",
   "execution_count": 9,
   "id": "8f6a7fb5",
   "metadata": {},
   "outputs": [],
   "source": [
    "with open('qa-majalahsains-pair.jsonl', 'w') as fopen:\n",
    "    for l in pairs:\n",
    "        if not len(l['pos']) or not len(l['neg']):\n",
    "            continue\n",
    "        fopen.write(f'{json.dumps(l)}\\n')"
   ]
  }
 ],
 "metadata": {
  "kernelspec": {
   "display_name": "Python 3 (ipykernel)",
   "language": "python",
   "name": "python3"
  },
  "language_info": {
   "codemirror_mode": {
    "name": "ipython",
    "version": 3
   },
   "file_extension": ".py",
   "mimetype": "text/x-python",
   "name": "python",
   "nbconvert_exporter": "python",
   "pygments_lexer": "ipython3",
   "version": "3.8.10"
  }
 },
 "nbformat": 4,
 "nbformat_minor": 5
}
