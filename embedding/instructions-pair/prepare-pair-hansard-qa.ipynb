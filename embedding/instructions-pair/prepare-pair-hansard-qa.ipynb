{
 "cells": [
  {
   "cell_type": "code",
   "execution_count": 1,
   "id": "ec263304",
   "metadata": {},
   "outputs": [],
   "source": [
    "# !wget https://huggingface.co/datasets/mesolitica/chatgpt-malaysia-hansard-qa/resolve/main/hansard-qa.json"
   ]
  },
  {
   "cell_type": "code",
   "execution_count": 2,
   "id": "08b38001",
   "metadata": {},
   "outputs": [],
   "source": [
    "import json\n",
    "import random"
   ]
  },
  {
   "cell_type": "code",
   "execution_count": 3,
   "id": "b13418a0",
   "metadata": {},
   "outputs": [],
   "source": [
    "with open('hansard-qa.json') as fopen:\n",
    "    data = json.load(fopen)"
   ]
  },
  {
   "cell_type": "code",
   "execution_count": 4,
   "id": "ec7d110d",
   "metadata": {},
   "outputs": [
    {
     "data": {
      "text/plain": [
       "42440"
      ]
     },
     "execution_count": 4,
     "metadata": {},
     "output_type": "execute_result"
    }
   ],
   "source": [
    "len(data)"
   ]
  },
  {
   "cell_type": "code",
   "execution_count": 5,
   "id": "96bfb022",
   "metadata": {},
   "outputs": [
    {
     "data": {
      "text/plain": [
       "[{'original': '\\n22                                                            DR.30.10.2018                                                                                                                          \\n\\n \\ndan sebagainya. Cukai-cukai yang didapati daripada minuman keras, alkohol dan sebagainya \\nmasuk kepada kerajaan, kerajaan bayar gaji kita balik, itu pun haram pada kita.  [Disampuk]  \\n\\nTimbalan Yang di-Pertua [Dato’ Mohd Rashid Hasnon]: Yang Berhormat Padang \\nSerai, sila ajukan soalan. \\n\\nTuan Karupaiya Mutusami [Padang Serai]: Saya bertanya soalan pada pihak \\nkementerian, bolehkah samsu dihapuskan terus, tidak mahu ada samsu dalam negara kita. \\n[Dewan tepuk] Terima kasih. \\n\\nTuan Che Alias bin Hamid [Kemaman]: Sokong, sokong. \\n\\n■1150 \\n\\nTuan Chong Chieng Jen: Itu satu isu atau soalan yang begitu serius dan effect-\\nnya yang sangat luas. Saya rasa ini perlu dibawa ke dalam Jemaah Menteri untuk \\ndipertimbangkan dan diputuskan. Sekian, terima kasih. \\n\\n \\n\\n9. Dr. Hasan bin Bahrom [Tampin] minta Menteri Pengangkutan menyatakan adakah \\nkerajaan bercadang untuk menyemak semula jadual perjalanan yang kurang sesuai bagi \\nkereta api komuter dan Electric Train Service (ETS) dari Gemas ke Kuala Lumpur. \\n\\n \\n\\nTimbalan Menteri Pengangkutan [Dato’ Kamarudin Jaffar]: Assalamualaikum \\nwarahmatullahi wabarakatuh dan salam sejahtera. Terima kasih Tuan Yang di-Pertua. Terima \\nkasih sahabat saya Yang Berhormat Tampin. Ini soalan yang halal, jawapannya pun halal. \\n\\nUntuk makluman Yang Berhormat, KTMB pada masa ini masih belum ada \\nperancangan untuk menyemak semula jadual perjalanan bagi perkhidmatan komuter dan \\nETS daripada Gemas ke Kuala Lumpur. Bagi perkhidmatan komuter buat masa ini KTMB \\nmenyediakan 27 perkhidmatan komuter sehari di laluan sektor Pulau Sebang iaitu Tampin, \\nKL Sentral, Batu Caves. \\n\\nWalau bagaimanapun, stesen Gemas yang terletak kira-kira 53 kilometer daripada \\nstesen Pulau Sebang, Tampin tidak dijadikan sebagai stesen hentian bagi perkhidmatan \\nkomuter. Ini adalah kerana perkhidmatan komuter sebelum ini yang beroperasi di stesen \\nGemas tersebut terpaksa ditamatkan pada tahun 2016 setelah 10 bulan beroperasi \\ndisebabkan kurang mendapat sambutan penumpang. Berdasarkan statistik KTMB, bilangan \\npenumpang perkhidmatan komuter di stesen Gemas pada tahun 2016 adalah hanya seramai \\n2,010 orang iaitu puratanya enam orang sehari berbanding 1,000,330,668 orang di \\nSeremban, 89,553 penumpang di Sungai Gadut serta 135,297 penumpang di Pulau Sebang, \\nTampin pada tahun yang sama. \\n\\nBagi perkhidmatan ETS pula, buat masa ini KTMB menyediakan empat \\nperkhidmatan bagi laluan Gemas ke KL Sentral, termasuk stesen-stesen utama di utara \\nSemenanjung setiap hari. Penyusunan jadual train ETS ini banyak bergantung pada kerja-\\nkerja projek menaik taraf landasan di Lembah Klang yang kini sedang giat dijalankan serta \\nketersediaan, availability dengan izin, set-set train ETS yang boleh diguna pakai untuk tujuan \\noperasi. \\n\\nUntuk maklumat Yang Berhormat juga pada masa ini KTMB memiliki 15 set train \\nETS yang aktif untuk tujuan operasi. Jumlah set ini masih tidak mencukupi bagi memenuhi \\npermintaan orang ramai yang ingin menggunakan perkhidmatan ETS di seluruh negara. \\n\\nSehubungan itu, bagi menampung kekurangan set-set ETS sedia ada kerajaan telah \\nmeluluskan pembelian 19 tambahan set ETS baru yang masing-masing dijangka tiba bermula \\nsecara berfasa bulan Disember 2018 ini. Set yang seterusnya pada September 2021. \\n\\nPerkhidmatan ETS dijangka akan meningkat selaras dengan pertambahan bilangan \\nETS baru ini termasuk perjalanan yang melibatkan dari Gemas ke Kuala Lumpur. Terima \\nkasih. \\n\\nDr. Hasan bin Bahrom [Tampin]: Terima kasih kepada Yang Berhormat Timbalan \\nMenteri kerana menjawab dengan lengkap dan jelas. Soalan tambahan saya, kita dapati \\nbahawa perjalanan ETS daripada Gemas ke Kuala Lumpur bermula daripada jam 7.40 pagi. \\nKita dapati perjalanan ini tidak memungkinkan sekiranya ada orang-orang di Gemas untuk \\nbekerja di Kuala Lumpur menggunakan khidmat ETS untuk sampai ke Kuala Lumpur \\n\\n\\n',\n",
       "  'cleaned': \"dan sebagainya. Cukai-cukai yang didapati daripada minuman keras, alkohol dan sebagainya masuk kepada kerajaan, kerajaan bayar gaji kita balik, itu pun haram pada kita. [Disampuk] Timbalan Yang di-Pertua [Dato' Mohd Rashid Hasnon]: Yang Berhormat Padang Serai, sila ajukan soalan. Tuan Karupaiya Mutusami [Padang Serai]: Saya bertanya soalan pada pihak kementerian, bolehkah samsu dihapuskan terus, tidak mahu ada samsu dalam negara kita. [Dewan tepuk] Terima kasih. Tuan Che Alias bin Hamid [Kemaman]: Sokong, sokong. #1150 Tuan Chong Chieng Jen: Itu satu isu atau soalan yang begitu serius dan effect- nya yang sangat luas. Saya rasa ini perlu dibawa ke dalam Jemaah Menteri untuk dipertimbangkan dan diputuskan. Sekian, terima kasih. 9. Dr. Hasan bin Bahrom [Tampin] minta Menteri Pengangkutan menyatakan adakah kerajaan bercadang untuk menyemak semula jadual perjalanan yang kurang sesuai bagi kereta api komuter dan Electric Train Service (ETS) dari Gemas ke Kuala Lumpur. Timbalan Menteri Pengangkutan [Dato' Kamarudin Jaffar]: Assalamualaikum warahmatullahi wabarakatuh dan salam sejahtera. Terima kasih Tuan Yang di-Pertua. Terima kasih sahabat saya Yang Berhormat Tampin. Ini soalan yang halal, jawapannya pun halal. Untuk makluman Yang Berhormat, KTMB pada masa ini masih belum ada perancangan untuk menyemak semula jadual perjalanan bagi perkhidmatan komuter dan ETS daripada Gemas ke Kuala Lumpur. Bagi perkhidmatan komuter buat masa ini KTMB menyediakan 27 perkhidmatan komuter sehari di laluan sektor Pulau Sebang iaitu Tampin, KL Sentral, Batu Caves. Walau bagaimanapun, stesen Gemas yang terletak kira-kira 53 kilometer daripada stesen Pulau Sebang, Tampin tidak dijadikan sebagai stesen hentian bagi perkhidmatan komuter. Ini adalah kerana perkhidmatan komuter sebelum ini yang beroperasi di stesen Gemas tersebut terpaksa ditamatkan pada tahun 2016 setelah 10 bulan beroperasi disebabkan kurang mendapat sambutan penumpang. Berdasarkan statistik KTMB, bilangan penumpang perkhidmatan komuter di stesen Gemas pada tahun 2016 adalah hanya seramai 2,010 orang iaitu puratanya enam orang sehari berbanding 1,000,330,668 orang di Seremban, 89,553 penumpang di Sungai Gadut serta 135,297 penumpang di Pulau Sebang, Tampin pada tahun yang sama. Bagi perkhidmatan ETS pula, buat masa ini KTMB menyediakan empat perkhidmatan bagi laluan Gemas ke KL Sentral, termasuk stesen-stesen utama di utara Semenanjung setiap hari. Penyusunan jadual train ETS ini banyak bergantung pada kerja- kerja projek menaik taraf landasan di Lembah Klang yang kini sedang giat dijalankan serta ketersediaan, availability dengan izin, set-set train ETS yang boleh diguna pakai untuk tujuan operasi. Untuk maklumat Yang Berhormat juga pada masa ini KTMB memiliki 15 set train ETS yang aktif untuk tujuan operasi. Jumlah set ini masih tidak mencukupi bagi memenuhi permintaan orang ramai yang ingin menggunakan perkhidmatan ETS di seluruh negara. Sehubungan itu, bagi menampung kekurangan set-set ETS sedia ada kerajaan telah meluluskan pembelian 19 tambahan set ETS baru yang masing-masing dijangka tiba bermula secara berfasa bulan Disember 2018 ini. Set yang seterusnya pada September 2021. Perkhidmatan ETS dijangka akan meningkat selaras dengan pertambahan bilangan ETS baru ini termasuk perjalanan yang melibatkan dari Gemas ke Kuala Lumpur. Terima kasih. Dr. Hasan bin Bahrom [Tampin]: Terima kasih kepada Yang Berhormat Timbalan Menteri kerana menjawab dengan lengkap dan jelas. Soalan tambahan saya, kita dapati bahawa perjalanan ETS daripada Gemas ke Kuala Lumpur bermula daripada jam 7.40 pagi. Kita dapati perjalanan ini tidak memungkinkan sekiranya ada orang-orang di Gemas untuk bekerja di Kuala Lumpur menggunakan khidmat ETS untuk sampai ke Kuala Lumpur.\",\n",
       "  'no_page': 22,\n",
       "  'actual_no_page': 34,\n",
       "  'date': '2018-10-30',\n",
       "  'url': 'https://www.parlimen.gov.my/files/hindex/pdf/DR-30102018.pdf'},\n",
       " '{\\n  \"soalan\": [\\n    {\\n      \"soalan\": \"Adakah samsu akan dihapuskan terus dari negara kita?\",\\n      \"jawapan\": \"Ini perlu dibawa ke dalam Jemaah Menteri untuk dipertimbangkan dan diputuskan.\"\\n    },\\n    {\\n      \"soalan\": \"Adakah kerajaan bercadang untuk menyemak semula jadual perjalanan bagi kereta api komuter dan ETS dari Gemas ke Kuala Lumpur?\",\\n      \"jawapan\": \"KTMB pada masa ini masih belum ada perancangan untuk menyemak semula jadual perjalanan bagi perkhidmatan komuter dan ETS daripada Gemas ke Kuala Lumpur.\"\\n    },\\n    {\\n      \"soalan\": \"Berapa banyak set ETS yang dimiliki oleh KTMB untuk tujuan operasi?\",\\n      \"jawapan\": \"KTMB memiliki 15 set train ETS yang aktif untuk tujuan operasi.\"\\n    }\\n  ]\\n}']"
      ]
     },
     "execution_count": 5,
     "metadata": {},
     "output_type": "execute_result"
    }
   ],
   "source": [
    "data[0]"
   ]
  },
  {
   "cell_type": "code",
   "execution_count": 6,
   "id": "42d2fa88",
   "metadata": {},
   "outputs": [
    {
     "data": {
      "text/plain": [
       "42368"
      ]
     },
     "execution_count": 6,
     "metadata": {},
     "output_type": "execute_result"
    }
   ],
   "source": [
    "data_parlimen = []\n",
    "for d in data:\n",
    "    try:\n",
    "        t = d[0]\n",
    "        a = d[1]\n",
    "        j_a = json.loads(d[1])\n",
    "        data_parlimen.append(\n",
    "            {\n",
    "                'context': t['original'],\n",
    "                'qa': j_a\n",
    "            }\n",
    "        )\n",
    "    except:\n",
    "        pass\n",
    "    \n",
    "len(data_parlimen)"
   ]
  },
  {
   "cell_type": "code",
   "execution_count": 7,
   "id": "4570d46b",
   "metadata": {},
   "outputs": [
    {
     "data": {
      "text/plain": [
       "{'context': '\\n22                                                            DR.30.10.2018                                                                                                                          \\n\\n \\ndan sebagainya. Cukai-cukai yang didapati daripada minuman keras, alkohol dan sebagainya \\nmasuk kepada kerajaan, kerajaan bayar gaji kita balik, itu pun haram pada kita.  [Disampuk]  \\n\\nTimbalan Yang di-Pertua [Dato’ Mohd Rashid Hasnon]: Yang Berhormat Padang \\nSerai, sila ajukan soalan. \\n\\nTuan Karupaiya Mutusami [Padang Serai]: Saya bertanya soalan pada pihak \\nkementerian, bolehkah samsu dihapuskan terus, tidak mahu ada samsu dalam negara kita. \\n[Dewan tepuk] Terima kasih. \\n\\nTuan Che Alias bin Hamid [Kemaman]: Sokong, sokong. \\n\\n■1150 \\n\\nTuan Chong Chieng Jen: Itu satu isu atau soalan yang begitu serius dan effect-\\nnya yang sangat luas. Saya rasa ini perlu dibawa ke dalam Jemaah Menteri untuk \\ndipertimbangkan dan diputuskan. Sekian, terima kasih. \\n\\n \\n\\n9. Dr. Hasan bin Bahrom [Tampin] minta Menteri Pengangkutan menyatakan adakah \\nkerajaan bercadang untuk menyemak semula jadual perjalanan yang kurang sesuai bagi \\nkereta api komuter dan Electric Train Service (ETS) dari Gemas ke Kuala Lumpur. \\n\\n \\n\\nTimbalan Menteri Pengangkutan [Dato’ Kamarudin Jaffar]: Assalamualaikum \\nwarahmatullahi wabarakatuh dan salam sejahtera. Terima kasih Tuan Yang di-Pertua. Terima \\nkasih sahabat saya Yang Berhormat Tampin. Ini soalan yang halal, jawapannya pun halal. \\n\\nUntuk makluman Yang Berhormat, KTMB pada masa ini masih belum ada \\nperancangan untuk menyemak semula jadual perjalanan bagi perkhidmatan komuter dan \\nETS daripada Gemas ke Kuala Lumpur. Bagi perkhidmatan komuter buat masa ini KTMB \\nmenyediakan 27 perkhidmatan komuter sehari di laluan sektor Pulau Sebang iaitu Tampin, \\nKL Sentral, Batu Caves. \\n\\nWalau bagaimanapun, stesen Gemas yang terletak kira-kira 53 kilometer daripada \\nstesen Pulau Sebang, Tampin tidak dijadikan sebagai stesen hentian bagi perkhidmatan \\nkomuter. Ini adalah kerana perkhidmatan komuter sebelum ini yang beroperasi di stesen \\nGemas tersebut terpaksa ditamatkan pada tahun 2016 setelah 10 bulan beroperasi \\ndisebabkan kurang mendapat sambutan penumpang. Berdasarkan statistik KTMB, bilangan \\npenumpang perkhidmatan komuter di stesen Gemas pada tahun 2016 adalah hanya seramai \\n2,010 orang iaitu puratanya enam orang sehari berbanding 1,000,330,668 orang di \\nSeremban, 89,553 penumpang di Sungai Gadut serta 135,297 penumpang di Pulau Sebang, \\nTampin pada tahun yang sama. \\n\\nBagi perkhidmatan ETS pula, buat masa ini KTMB menyediakan empat \\nperkhidmatan bagi laluan Gemas ke KL Sentral, termasuk stesen-stesen utama di utara \\nSemenanjung setiap hari. Penyusunan jadual train ETS ini banyak bergantung pada kerja-\\nkerja projek menaik taraf landasan di Lembah Klang yang kini sedang giat dijalankan serta \\nketersediaan, availability dengan izin, set-set train ETS yang boleh diguna pakai untuk tujuan \\noperasi. \\n\\nUntuk maklumat Yang Berhormat juga pada masa ini KTMB memiliki 15 set train \\nETS yang aktif untuk tujuan operasi. Jumlah set ini masih tidak mencukupi bagi memenuhi \\npermintaan orang ramai yang ingin menggunakan perkhidmatan ETS di seluruh negara. \\n\\nSehubungan itu, bagi menampung kekurangan set-set ETS sedia ada kerajaan telah \\nmeluluskan pembelian 19 tambahan set ETS baru yang masing-masing dijangka tiba bermula \\nsecara berfasa bulan Disember 2018 ini. Set yang seterusnya pada September 2021. \\n\\nPerkhidmatan ETS dijangka akan meningkat selaras dengan pertambahan bilangan \\nETS baru ini termasuk perjalanan yang melibatkan dari Gemas ke Kuala Lumpur. Terima \\nkasih. \\n\\nDr. Hasan bin Bahrom [Tampin]: Terima kasih kepada Yang Berhormat Timbalan \\nMenteri kerana menjawab dengan lengkap dan jelas. Soalan tambahan saya, kita dapati \\nbahawa perjalanan ETS daripada Gemas ke Kuala Lumpur bermula daripada jam 7.40 pagi. \\nKita dapati perjalanan ini tidak memungkinkan sekiranya ada orang-orang di Gemas untuk \\nbekerja di Kuala Lumpur menggunakan khidmat ETS untuk sampai ke Kuala Lumpur \\n\\n\\n',\n",
       " 'qa': {'soalan': [{'soalan': 'Adakah samsu akan dihapuskan terus dari negara kita?',\n",
       "    'jawapan': 'Ini perlu dibawa ke dalam Jemaah Menteri untuk dipertimbangkan dan diputuskan.'},\n",
       "   {'soalan': 'Adakah kerajaan bercadang untuk menyemak semula jadual perjalanan bagi kereta api komuter dan ETS dari Gemas ke Kuala Lumpur?',\n",
       "    'jawapan': 'KTMB pada masa ini masih belum ada perancangan untuk menyemak semula jadual perjalanan bagi perkhidmatan komuter dan ETS daripada Gemas ke Kuala Lumpur.'},\n",
       "   {'soalan': 'Berapa banyak set ETS yang dimiliki oleh KTMB untuk tujuan operasi?',\n",
       "    'jawapan': 'KTMB memiliki 15 set train ETS yang aktif untuk tujuan operasi.'}]}}"
      ]
     },
     "execution_count": 7,
     "metadata": {},
     "output_type": "execute_result"
    }
   ],
   "source": [
    "data_parlimen[0]"
   ]
  },
  {
   "cell_type": "code",
   "execution_count": 8,
   "id": "b2eddc16",
   "metadata": {},
   "outputs": [],
   "source": [
    "indices = {i for i in range(len(data_parlimen))}"
   ]
  },
  {
   "cell_type": "code",
   "execution_count": 9,
   "id": "f54c201f",
   "metadata": {},
   "outputs": [
    {
     "data": {
      "text/plain": [
       "[{'soalan': 'Adakah samsu akan dihapuskan terus dari negara kita?',\n",
       "  'jawapan': 'Ini perlu dibawa ke dalam Jemaah Menteri untuk dipertimbangkan dan diputuskan.'},\n",
       " {'soalan': 'Adakah kerajaan bercadang untuk menyemak semula jadual perjalanan bagi kereta api komuter dan ETS dari Gemas ke Kuala Lumpur?',\n",
       "  'jawapan': 'KTMB pada masa ini masih belum ada perancangan untuk menyemak semula jadual perjalanan bagi perkhidmatan komuter dan ETS daripada Gemas ke Kuala Lumpur.'},\n",
       " {'soalan': 'Berapa banyak set ETS yang dimiliki oleh KTMB untuk tujuan operasi?',\n",
       "  'jawapan': 'KTMB memiliki 15 set train ETS yang aktif untuk tujuan operasi.'}]"
      ]
     },
     "execution_count": 9,
     "metadata": {},
     "output_type": "execute_result"
    }
   ],
   "source": [
    "data_parlimen[0]['qa']['soalan']"
   ]
  },
  {
   "cell_type": "code",
   "execution_count": 10,
   "id": "ba453807",
   "metadata": {},
   "outputs": [
    {
     "name": "stderr",
     "output_type": "stream",
     "text": [
      "100%|████████████████████████████████████| 42368/42368 [01:17<00:00, 547.90it/s]\n"
     ]
    }
   ],
   "source": [
    "from tqdm import tqdm\n",
    "\n",
    "pairs = []\n",
    "for i in tqdm(range(len(data_parlimen))):\n",
    "    query = data_parlimen[i]['context']\n",
    "    pos = []\n",
    "    for s in data_parlimen[i]['qa']['soalan']:\n",
    "        pos.extend(s.values())\n",
    "    \n",
    "    neg_i = random.choice(list(indices - {i}))\n",
    "    neg = []\n",
    "    for s in data_parlimen[neg_i]['qa']['soalan']:\n",
    "        neg.extend(s.values())\n",
    "        \n",
    "    pairs.append({\n",
    "        'query': query,\n",
    "        'pos': pos,\n",
    "        'neg': neg\n",
    "    })\n",
    "    \n",
    "    for s in data_parlimen[i]['qa']['soalan']:\n",
    "        pos = [query, s['jawapan']]\n",
    "        neg_i = random.choice(list(indices - {i}))\n",
    "        neg = [data_parlimen[neg_i]['context'], data_parlimen[neg_i]['qa']['soalan'][0]['jawapan']]\n",
    "        \n",
    "        pairs.append({\n",
    "            'query': s['soalan'],\n",
    "            'pos': pos,\n",
    "            'neg': neg\n",
    "        })"
   ]
  },
  {
   "cell_type": "code",
   "execution_count": 11,
   "id": "00717745",
   "metadata": {},
   "outputs": [
    {
     "data": {
      "text/plain": [
       "169482"
      ]
     },
     "execution_count": 11,
     "metadata": {},
     "output_type": "execute_result"
    }
   ],
   "source": [
    "len(pairs)"
   ]
  },
  {
   "cell_type": "code",
   "execution_count": 12,
   "id": "8f6a7fb5",
   "metadata": {},
   "outputs": [],
   "source": [
    "with open('hansard-qa-pair.jsonl', 'w') as fopen:\n",
    "    for l in pairs:\n",
    "        if not len(l['pos']) or not len(l['neg']):\n",
    "            continue\n",
    "        fopen.write(f'{json.dumps(l)}\\n')"
   ]
  }
 ],
 "metadata": {
  "kernelspec": {
   "display_name": "Python 3 (ipykernel)",
   "language": "python",
   "name": "python3"
  },
  "language_info": {
   "codemirror_mode": {
    "name": "ipython",
    "version": 3
   },
   "file_extension": ".py",
   "mimetype": "text/x-python",
   "name": "python",
   "nbconvert_exporter": "python",
   "pygments_lexer": "ipython3",
   "version": "3.8.10"
  }
 },
 "nbformat": 4,
 "nbformat_minor": 5
}
