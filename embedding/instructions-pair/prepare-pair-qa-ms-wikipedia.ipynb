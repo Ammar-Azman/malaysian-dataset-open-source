{
 "cells": [
  {
   "cell_type": "code",
   "execution_count": 1,
   "id": "ec263304",
   "metadata": {},
   "outputs": [],
   "source": [
    "# !wget https://huggingface.co/datasets/mesolitica/ms-wikipedia-choice/resolve/main/qa-ms-wikipedia.jsonl"
   ]
  },
  {
   "cell_type": "code",
   "execution_count": 2,
   "id": "08b38001",
   "metadata": {},
   "outputs": [],
   "source": [
    "import json\n",
    "import random"
   ]
  },
  {
   "cell_type": "code",
   "execution_count": 3,
   "id": "b13418a0",
   "metadata": {},
   "outputs": [],
   "source": [
    "data = []\n",
    "with open('qa-ms-wikipedia.jsonl') as fopen:\n",
    "    for l in fopen:\n",
    "        data.append(json.loads(l))"
   ]
  },
  {
   "cell_type": "code",
   "execution_count": 4,
   "id": "ec7d110d",
   "metadata": {},
   "outputs": [
    {
     "data": {
      "text/plain": [
       "8217"
      ]
     },
     "execution_count": 4,
     "metadata": {},
     "output_type": "execute_result"
    }
   ],
   "source": [
    "len(data)"
   ]
  },
  {
   "cell_type": "code",
   "execution_count": 5,
   "id": "96bfb022",
   "metadata": {
    "scrolled": true
   },
   "outputs": [
    {
     "data": {
      "text/plain": [
       "{'question': 'Apakah nama-nama sebahagian besar wilayah di Zimbabwe?',\n",
       " 'A': 'Mashonaland dan Matabeleland',\n",
       " 'B': 'Jagung, kapas, tembakau, gandum, kopi dan tebu',\n",
       " 'C': 'Syarikat Afrika Selatan British Pioneer Column',\n",
       " 'D': 'Perang Matabele Pertama',\n",
       " 'answer': 'A'}"
      ]
     },
     "execution_count": 5,
     "metadata": {},
     "output_type": "execute_result"
    }
   ],
   "source": [
    "data[0]['qa']['qa'][0]"
   ]
  },
  {
   "cell_type": "code",
   "execution_count": 6,
   "id": "b2eddc16",
   "metadata": {},
   "outputs": [],
   "source": [
    "indices = {i for i in range(len(data))}"
   ]
  },
  {
   "cell_type": "code",
   "execution_count": 7,
   "id": "ba453807",
   "metadata": {},
   "outputs": [
    {
     "name": "stderr",
     "output_type": "stream",
     "text": [
      "100%|█████████████████████████████████████| 8217/8217 [00:03<00:00, 2511.51it/s]\n"
     ]
    }
   ],
   "source": [
    "from tqdm import tqdm\n",
    "\n",
    "pairs = []\n",
    "for i in tqdm(range(len(data))):\n",
    "    query = data[i]['paragraph']\n",
    "    pos = []\n",
    "    for s in data[i]['qa']['qa']:\n",
    "        pos.append(s['question'])\n",
    "    \n",
    "    neg_i = random.choice(list(indices - {i}))\n",
    "    neg = []\n",
    "    for s in data[neg_i]['qa']['qa']:\n",
    "        neg.append(s['question'])\n",
    "        \n",
    "    pairs.append({\n",
    "        'query': query,\n",
    "        'pos': pos,\n",
    "        'neg': neg\n",
    "    })\n",
    "    \n",
    "    for s in data[i]['qa']['qa']:\n",
    "        try:\n",
    "            pos = [query]\n",
    "            neg_i = random.choice(list(indices - {i}))\n",
    "            neg = [data[neg_i]['paragraph']]\n",
    "\n",
    "            pairs.append({\n",
    "                'query': s['question'],\n",
    "                'pos': pos,\n",
    "                'neg': neg\n",
    "            })\n",
    "        except:\n",
    "            pass"
   ]
  },
  {
   "cell_type": "code",
   "execution_count": 8,
   "id": "43d2fb92",
   "metadata": {
    "scrolled": true
   },
   "outputs": [
    {
     "data": {
      "text/plain": [
       "{'query': 'Apakah nama-nama sebahagian besar wilayah di Zimbabwe?',\n",
       " 'pos': ['pertanian yang utama adalah jagung, kapas, tembakau, gandum, kopi dan tebu. Zimbabwe adalah kerajaan berpusat dan terbahagi kepada lapan wilayah dan dua bandar raya dengan status wilayah untuk tujuan pentadbiran. Setiap wilayah pula mempunyai ibu negerinya yang tersendiri di mana perniagaan rasmi dijalankan. Nama-nama sebahagian besar wilayah dihasilkan daripada perpecahan Mashonaland dan Matabeleland semasa penjajahan: Mashonaland adalah wilayah yang pertama sekali diduduki Syarikat Afrika Selatan British Pioneer Column dan Matabeleland pula ialah wilayah yang ditakluki semasa Perang Matabele Pertama. Ini sejajar dengan wilayah pra-kolonial orang Shona dan orang Matabele, walaupun terdapat etnik minoriti yang signifikan di kebanyakan wilayah. Setiap provinsi diketuai oleh seorang Gabenor Wilayah, yang dilantik oleh Presiden. Pemerintah wilayah dikendalikan oleh Pentadbir Provinsi, yang dilantik oleh Suruhanjaya Perkhidmatan Awam. Fungsi pemerintahan lain di tingkat provinsi dilaksanakan oleh pejabat wilayah jabatan pemerintah nasional. Wilayah-wilayah pula dibahagikan kepada 59 daerah dan 1,200 mukim atau \"ward\" (kadang-kadang disebut sebagai munisipal). Setiap daerah diketuai oleh Pentadbir Daerah, yang dilantik oleh Suruhanjaya Perkhidmatan Awam. Terdapat juga Majlis Daerah Luar Bandar, yang melantik Ketua Pegawai Eksekutif. Majlis Daerah Luar Bandar terdiri daripada ahli majlis munisipal yang terpilih, Pentadbir Daerah dan satu wakil ketua (pemimpin tradisional yang dilantik berdasarkan undang-undang adat) di daerah tersebut. Fungsi pemerintahan lain di peringkat daerah dilaksanakan oleh pejabat daerah jabatan pemerintah nasional. Bulan Jun adalah bulan paling sejuk dan Oktober paling panas; variasi suhu bergantung pada altitud. Zimbabwe, yang terletak di utara Tropic of Capricorn, berada sepenuhnya di kawasan tropika tetapi menikmati iklim subtropika kerana secara puratanya ia berada di ketinggian yang tinggi. Menjelang akhir bulan-bulan yang panas dan kering, yang berlaku dari bulan Ogos hingga Oktober, angin monsun yang melintasi Lautan Hindi dan Mozambique mengakibatkan hujan orografik yang kuat ketika mereka bertemu dengan benteng yang dibentuk oleh tanah tinggi timur. Akibatnya, kawasan timur menerima curahan hujan paling lebat di negara ini dan mengalami musim hujan yang lebih lama (berlangsung dari Oktober hingga April) berbanding kawasan Zimbabwe yang lain. Galian (termasuk emas) dan pertanian adalah eksport utama Zimbabwe. Pelancongan juga memainkan peranan penting dalam ekonomi negara. Sektor perlombongan masih tetap memberi pulangan lumayan, dengan beberapa rizab platinum terbesar di dunia dilombong oleh Anglo American plc dan Impala Platinum. Ladang berlian di Marange, yang ditemui pada tahun 2006, dianggap sebagai penemuan berlian terbesar dalam lebih dari satu abad. Mereka berpotensi untuk memperbaiki keadaan fiskal negara, tetapi hampir semua pendapatan dari ladang ini telah hilang ke dalam kantong pegawai tentera dan ahli politik Zanu-PF. Dari segi karat yang dihasilkan, ladang Marange adalah salah satu projek menghasilkan berlian terbesar di dunia, dianggarkan menghasilkan 12 juta karat pada tahun 2014 bernilai lebih dari $ 350 juta. Zimbabwe adalah rakan dagang terbesar Afrika Selatan di benua Afrika. Cukai dan tarif tinggi dikenakan untuk perusahaan swasta, manakala perusahaan negeri menerima subsidi yang banyak. Regulasi negara adalah mahal bagi syarikat; memulakan atau menutup perniagaan mengambil masa yang lama dan mahal. Perbelanjaan kerajaan dijangka mencapai 67% daripada KDNK pada tahun 2007. Pelancongan adalah industri penting bagi negara ini, tetapi kegiatannya telah menurun sejak beberapa tahun lepas. Pasukan Petugas Konservasi Zimbabwe mengeluarkan laporan pada bulan Jun 2007, yang menganggarkan 60% hidupan liar Zimbabwe telah mati sejak tahun 2000 akibat perburuan liar dan penebangan hutan. Laporan itu memberi amaran bahawa kehilangan nyawa yang digabungkan dengan penebangan hutan yang berleluasa berpotensi menjadi bencana bagi industri pelancongan. Sektor ICT Zimbabwe telah berkembang dengan pesat. Laporan oleh syarikat pelayar internet mudah alih, Opera, pada bulan Jun / Julai 2011 telah menjadikan Zimbabwe sebagai pasaran yang paling pesat berkembang di Afrika. Sejak 1 Januari 2002, pemerintah Zimbabwe telah dibekukan kreditnya di institusi kewangan antarabangsa, melalui undang-undang Amerika yang dipanggil Zimbabwe Democracy and Economic Recovery Act (ZDERA) 2001. Seksyen 4C mengarahkan Setiausaha Perbendaharaan AS untuk meminta pengarah di institusi kewangan antarabangsa untuk memveto penyambungan pinjaman dan kredit kepada pemerintah Zimbabwe. Menurut Amerika Syarikat, sekatan ini hanya mensasarkan tujuh perniagaan tertentu yang dimiliki atau dikendalikan oleh pegawai pemerintah dan bukan rakyat biasa. Zimbabwe mengekalkan pertumbuhan ekonomi yang positif sepanjang tahun 1980-an (pertumbuhan KDNK 5% setiap tahun) dan tahun 1990-an (pertumbuhan KDNK 4,3% per tahun). Ekonomi merosot dari tahun 2000: penurunan 5% pada tahun 2000, 8% pada tahun 2001, 12% pada tahun 2002 dan 18% pada tahun 2003. Penglibatan Zimbabwe dari tahun 1998 hingga 2002 dalam perang di Republik Demokratik Congo telah menelan belanja sebanyak ratusan juta dolar dan ini telah menjejaskan ekonomi negara. Dari tahun 1999 hingga 2009, Zimbabwe menyaksikan pertumbuhan ekonomi terendah dengan penurunan KDNK tahunan sebanyak 6.1%. Antara faktor utama kejatuhan ekonomi adalah disebabkan salah urus dan rasuah dalam kalangan kerajaan dan pengusiran lebih daripada 4.000 petani kulit putih dalam penyitaan tanah kontroversi tahun 2000. Pemerintah Zimbabwe dan para penyokongnya mendakwa pihak Barat menghukum Zimbabwe untuk membalas pengusiran kaum kerabat kulit putih yang telah mensabotaj ekonomi. Menjelang tahun 2005, rata-rata daya beli rakyat Zimbabwe telah menurun ke tahap yang sama dalam keadaan sebenar seperti tahun 1953. Pada tahun 2005, pemerintah, yang dipimpin oleh gabenor bank pusat, Gideon Gono, mula membuat tawaran agar petani kulit putih dapat kembali. Masih ada 400 hingga 500 yang tinggal di negara ini, tetapi sebahagian besar tanah yang telah disita tidak lagi produktif. Menjelang 2016, terdapat sekitar 300 ladang milik petani putih yang masih beroperasi daripada 4.500 ladang asal. Ladang yang ditinggalkan terlalu jauh atau pemiliknya telah membayar perlindungan atau bekerjasama dengan rejim. Pada Januari 2007, pemerintah mengeluarkan pajakan jangka panjang kepada beberapa petani berkulit putih. Namun, pada waktu yang sama, pemerintah juga terus menuntut agar semua petani kulit putih yang masih ada, yang diberi pemberitahuan pengusiran sebelumnya, untuk mengosongkan tanah atau berisiko ditangkap. Mugabe kemudiannya telah menuding jari kepada pemerintah asing dan menuduh mereka melakukan \"sabotaj\" yang menyebabkan kejatuhan ekonomi Zimbabwe, serta kadar pengangguran rasmi mencecah 80% di negara itu. Inflasi meningkat dari kadar tahunan 32% pada tahun 1998, menjadi anggaran rasmi setinggi 11,200,000% pada bulan Ogos 2008 menurut Pejabat Statistik Pusat negara. Ini mewakili keadaan hiperinflasi, dan bank pusat memperkenalkan nota baru 100 trilion dollar pada tahun itu. Pada 29 Januari 2009, dalam usaha untuk mengatasi inflasi yang tak terkawal, pemangku Menteri Kewangan Patrick Chinamasa mengumumkan bahawa orang'],\n",
       " 'neg': ['Animasi komputer adalah seni menghasilkan gambar bergerak dengan sendiri melalui penggunaan komputer dan merupakan sebahagian bidang komputer grafik dan animasi. Animasi semakin banyak dihasilkan melalui grafik komputer 3D, walaupun grafik komputer 2D masih banyak ada. Kadangkala sasaran animasi adalah komputer itu sendiri, kadangkala sasaran adalah perantaraan lain, seperti filem. Untuk menghasilkan gambar pergerakan, imej dipaparkan pada skrin komputer dan diganti dengan imej baru yang seiras gambar sebelumnya dengan pantas. Teknik ini serupa dengan bagaimana gambar bergerak dihasilkan melalui televisyen dan filem. Animasi komputer 3D pada asasnya merupakan pengganti digit bagi seni animasi gerak pegun (\"stop motion\"); patung animasi dibina pada skrin komputer dan dipasang dengan rangka siber. Kemudian anggota badan, mata, mulut, pakaian, dan lain-lain bagi patung 3D digerakkan oleh juruanimasi. Akhirnya, animasi dihasilkan. Gambar pertama dipaparkan pada skrin. Kemudian gambar kedua yang mungkin sebahagian kecil atau sama saiz dengan gambar pertama ditindih pada gambar pertama. Proses ini diulang beberapa kali, setiap kali gambar yang baru menunjukkan sedikit perubahan. Sekiranya proses ini diulang dengan cukup pantas, ia kelihatannya seperti bergerak. Prosedure ini merupakan asas kepada semua filem bergerak dan televisyen. Filem singkat CGI telah dihasilkan sebagai animasi bebas semenjak 1970-an, walaupun animasi komputer menjadi popular (terutama dalam bidang kesan khas) melonjak ketika era moden animasi di Amerika Syarikat. Siri animasi yang dihasilkan komputer sepenuhnya dikenali sebagai \"ReBoot\". DI bawah merupakan senarai filem dan rancangan telivisyen terpilih yang menggunakan animasi komputer. Rancangan TV animasi komputer telah banyak dihasilkan dan ditayangkan di televisyen tempatan khususnya RTM. Filem animasi komputer juga telah dihasilkan seperti Budak Lapok, dan Paddlepop Adventure. Terdapat juga cerita bersiri animasi komputer yang telah ditayangkan di Malaysia seperti Upin &amp; Ipin, Boboiboy, , BoBoiBoy Galaxy, Ejen Ali dan banyak lagi.']}"
      ]
     },
     "execution_count": 8,
     "metadata": {},
     "output_type": "execute_result"
    }
   ],
   "source": [
    "pairs[1]"
   ]
  },
  {
   "cell_type": "code",
   "execution_count": 9,
   "id": "bc132fff",
   "metadata": {},
   "outputs": [
    {
     "data": {
      "text/plain": [
       "50010"
      ]
     },
     "execution_count": 9,
     "metadata": {},
     "output_type": "execute_result"
    }
   ],
   "source": [
    "len(pairs)"
   ]
  },
  {
   "cell_type": "code",
   "execution_count": 10,
   "id": "8f6a7fb5",
   "metadata": {},
   "outputs": [],
   "source": [
    "with open('qa-ms-wikipedia-pair.jsonl', 'w') as fopen:\n",
    "    for l in pairs:\n",
    "        if not len(l['pos']) or not len(l['neg']):\n",
    "            continue\n",
    "        fopen.write(f'{json.dumps(l)}\\n')"
   ]
  }
 ],
 "metadata": {
  "kernelspec": {
   "display_name": "Python 3 (ipykernel)",
   "language": "python",
   "name": "python3"
  },
  "language_info": {
   "codemirror_mode": {
    "name": "ipython",
    "version": 3
   },
   "file_extension": ".py",
   "mimetype": "text/x-python",
   "name": "python",
   "nbconvert_exporter": "python",
   "pygments_lexer": "ipython3",
   "version": "3.8.10"
  }
 },
 "nbformat": 4,
 "nbformat_minor": 5
}
