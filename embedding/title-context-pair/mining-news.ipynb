{
 "cells": [
  {
   "cell_type": "code",
   "execution_count": 1,
   "id": "fed08bd1",
   "metadata": {},
   "outputs": [],
   "source": [
    "# !wget https://huggingface.co/datasets/malaysia-ai/dedup-text-dataset/resolve/main/news.jsonl"
   ]
  },
  {
   "cell_type": "code",
   "execution_count": 2,
   "id": "e5fe7c5d",
   "metadata": {},
   "outputs": [],
   "source": [
    "# !wget https://gist.githubusercontent.com/huseinzol05/98974ae8c6c7a65d4bc0af9f5003786a/raw/2e06e71ef7349a57bc58cc9913ae6bae1f9f8447/mp.py"
   ]
  },
  {
   "cell_type": "code",
   "execution_count": 3,
   "id": "397aedb9",
   "metadata": {},
   "outputs": [],
   "source": [
    "import json\n",
    "import mp\n",
    "import random\n",
    "import os\n",
    "from tqdm import tqdm"
   ]
  },
  {
   "cell_type": "code",
   "execution_count": 4,
   "id": "99b1ea20",
   "metadata": {},
   "outputs": [
    {
     "name": "stderr",
     "output_type": "stream",
     "text": [
      "2839348it [00:34, 81675.21it/s] \n"
     ]
    }
   ],
   "source": [
    "data = []\n",
    "with open('news.jsonl') as fopen:\n",
    "    for l in tqdm(fopen):\n",
    "        l = json.loads(l)\n",
    "        data.append(l)"
   ]
  },
  {
   "cell_type": "code",
   "execution_count": 5,
   "id": "4f8b94eb",
   "metadata": {},
   "outputs": [
    {
     "name": "stderr",
     "output_type": "stream",
     "text": [
      "100%|██████████| 2839348/2839348 [00:22<00:00, 127296.33it/s]\n"
     ]
    }
   ],
   "source": [
    "parsed = []\n",
    "for d in tqdm(data):\n",
    "    if '   ' in d:\n",
    "        splitted = d.split('   ')\n",
    "    elif '\\n' in d:\n",
    "        splitted = d.split('\\n')\n",
    "        if len(splitted[0].split()) > 50:\n",
    "            continue\n",
    "    title = splitted[0]\n",
    "    body = '\\n'.join(splitted[1:])\n",
    "    parsed.append({\n",
    "        'title': title,\n",
    "        'body': body,\n",
    "    })"
   ]
  },
  {
   "cell_type": "code",
   "execution_count": 6,
   "id": "1a221c6b",
   "metadata": {},
   "outputs": [],
   "source": [
    "import re\n",
    "\n",
    "def clean(string):\n",
    "    string = re.sub('[^A-Za-z ]+', ' ', string.lower())\n",
    "    string = re.sub(r'[ ]+', ' ', string).strip()\n",
    "    return string"
   ]
  },
  {
   "cell_type": "code",
   "execution_count": 7,
   "id": "42f918dd",
   "metadata": {},
   "outputs": [],
   "source": [
    "ranged = range(len(parsed))"
   ]
  },
  {
   "cell_type": "code",
   "execution_count": 8,
   "id": "cbd941be",
   "metadata": {},
   "outputs": [
    {
     "data": {
      "text/plain": [
       "'Elon Musk Wants To Buy Manchester United Football Club'"
      ]
     },
     "execution_count": 8,
     "metadata": {},
     "output_type": "execute_result"
    }
   ],
   "source": [
    "parsed[0]['title']"
   ]
  },
  {
   "cell_type": "code",
   "execution_count": 9,
   "id": "28e1d2ca",
   "metadata": {},
   "outputs": [
    {
     "data": {
      "text/plain": [
       "0.875"
      ]
     },
     "execution_count": 9,
     "metadata": {},
     "output_type": "execute_result"
    }
   ],
   "source": [
    "def overlap(string1, string2):\n",
    "    l = set([w for w in clean(string1).split() if len(w) > 2])\n",
    "    r = set([w for w in clean(string2).split() if len(w) > 2])\n",
    "    return len(l & r) / len(l)\n",
    "\n",
    "overlap(parsed[0]['title'], parsed[0]['body'])"
   ]
  },
  {
   "cell_type": "code",
   "execution_count": 10,
   "id": "6079122f",
   "metadata": {
    "scrolled": true
   },
   "outputs": [
    {
     "data": {
      "text/plain": [
       "0.0"
      ]
     },
     "execution_count": 10,
     "metadata": {},
     "output_type": "execute_result"
    }
   ],
   "source": [
    "overlap(parsed[0]['title'], parsed[1]['body'])"
   ]
  },
  {
   "cell_type": "code",
   "execution_count": 11,
   "id": "f5a738a0",
   "metadata": {},
   "outputs": [
    {
     "data": {
      "text/plain": [
       "['Stihl products at promotional price.\\nSIBU: KTS Trading Sdn Bhd is holding a three-day ‘Customers Appreciation Day’ between 8am and 1pm until Dec 30 at KTS headquarters in Market Road here.\\nAmong the items on promotion during this event are Stihl chainsaws, brush cutters, high pressure cleaners, battery shrub shears and lawn mowers.\\nThere are also food items produced by KTS’s subsidiaries such as Daddy instant noodles, Royal B honey, Sabisco cracker sandwich and Wanfa fish snacks.\\nThe annual event, which began yesterday is being held as a show of appreciation for its customers.',\n",
       " ' PUTRAJAYA, Aug 7 — Tourism, Arts and Culture Minister Datuk Mohamaddin Ketapi confirmed the ministry’s secretary-general\\xa0(KSU) Datuk Isham Ishak\\xa0was called to testify to assist the investigation of the Malaysian Anti-Corruption Commission (MACC) yesterday and today.\\n However, he said he had not been told whether the ‘Datuk’ had been called in for an alleged abuse of power involving more than RM99 million in government contracts reported in January or for other cases.\\n “I cannot comment further on this matter because I do not want to interfere with the MACC investigation.\\n “But I want to emphasise that the Pakatan Harapan government is a new and clean government and will not tolerate corrupt officials\\xa0and those who abuse their power,” he told a press conference here today.\\n Asked about the ministry’s action against the KSU, Mohamaddin said the man was still carrying out his duties while awaiting the outcome of the MACC investigation.\\n “If this (case) is very serious and (KSU) needs to be given a break, I will seek the guidance of the Chief Secretary to the Government Datuk Seri Dr Ismail Bakar,” he said.\\n On Jan 12, the ministry’s\\xa0KSU presented himself at the MACC headquarters here to record statement\\xa0to assist in the investigation of the misuse of power involving more than RM99 million in government contracts.\\n Earlier, a former chairman of a government agency with the title Datuk and a woman who was the chief executive officer of a private company were also called in to assist in the investigation of the case.\\n According to media reports, the former chairman of the government agency was suspected of using his position to propose a directly-appointed company in the Digital Advertising Campaign for the Chinese market for the period 2018 to 2020 estimated at over RM99 million using the allocation of the government agency.\\xa0— Bernama',\n",
       " 'KUCHING (May 12): State-owned electricity supply company, Sesco Sdn Bhd, could have suffered losses of more than RM200 million two years ago if DAP\\'s proposal for it to reduce electricity tariff by 30 per cent was implemented, said Sarawak Public Utilities Minister Datuk Amar Awang Tengah Ali Hasan. He said the company could have gone bankrupt and a lot of its employees would lose their jobs while the state economy would be affected by such reduction. \"Not only Sesco\\'s profit will be wiped out, Sesco would have had a deficit and I mean actual loss of more than RM200 million in 2012 if DAP\\'s reckless proposal had been implemented,\" he told the state legislative assembly sitting during his winding up speech for his ministry here today. He said DAP had always propagated that Sarawak\\'s electricity tariff was the highest in the country despite the government\\'s repeated factual explanation that the tariff was lower than that being imposed by Tenaga Nasional Berhad (TNB) in the peninsular since 2009 and one of the lowest in the South East Asia region. Awang Tengah said the state government\\'s strategy in utilising hydro resources had stabilised the electricity tariff. He said in addition to having the lowest tariff in the country, domestic consumers in Sarawak, who consumed below 100 units per month, were also enjoying 10 sen kilowatt hour (kWh) discount. \"This is on top of the government\\'s assistance of free electricity for those consuming RM20 and below per month,\" he said, adding that about 70,000 domestic consumers were benefitting from the\\xa0 assistance.',\n",
       " 'Satu tabung kecemasan bagi membantu menampung kos rawatan pelakon Nad Zainal yang masih dirawat di Unit Rawatan Rapi (ICU) sebuah hospital swasta dilancarkan.\\nPengarah dan penerbit Shahrulezad Mohameddin berkongsi perkara itu di media sosial malam tadi.\\n“Ramai sudah maklum mengenai pelakon Nad Zainal yang masih dirawat di ICU sejak minggu lalu.\\n“Tabung kecemasan ini adalah inisiatif rakan-rakan serta peminat Nad Zainal bagi menampung kos rawatan perubatannya di hospital pakar untuk membantu meringankan beban keluarganya.\\n“Bagi yang prihatin, mari kita sama-sama berganding bahu untuk bantu,” katanya.\\nPada 21 Nov lalu, Nad dimasukkan di ICU Hospital Ampang Puteri akibat pendarahan paru-paru dan diintubasi bagi merehatkannya.\\nSelepas dilaporkan berada dalam keadaan kritikal, ibu kepada dua cahaya mata itu semakin menunjukkan perkembangan positif malah sudah beberapa kali membuka mata.\\nShahrulezad turut meminta orang ramai menguar-uarkan kutipan derma tersebut, selain tidak putus mendoakan agar pemilik nama lengkap Farah Nadia Zainal Abidin itu kembali pulih dan sihat seperti sediakala.\\n“Jangan kita lupa titipkan doa untuk Nad Zainal agar kembali pulih sepenuhnya dan jangan lupa juga untuk kongsikan post ini agar lebih ramai dapat turut membantu,” katanya.\\npost\\nDalam hantaran sama, pemilik rumah produksi RadiusOne itu berkongsi alamat e-mel, [email\\xa0protected] untuk penderma memberikan resit sebagai bukti sumbangan.\\n[email\\xa0protected]',\n",
       " ' KUALA LUMPUR, Oct 9 — The ringgit closed marginally lower against the US dollar today amid better demand for the greenback, a dealer said.\\n At 6pm, the ringgit stood at 4.1550/1600 against the US dollar versus 4.1530/1560 yesterday.\\n OANDA Head of Trading in Asia-Pacific Stephen Innes said after US equity markets scratched back losses overnight, regional equity markets traded better but cautiously.\\n “Investors have returned for bargain hunting, aided by short position covering,” he told Bernama.\\n Innes said the relative calm in today’s Asia session however, may prompt traders to turn sellers than become buyers.\\n Meanwhile, the ringgit was traded mostly higher against other major currencies.\\n It rose against the Singapore dollar to 2.9959/9999 from 2.9979/3007 yesterday but fell versus the Japanese yen to 3.6724/6785 from 3.6639/6668.\\n The local note increased against the euro to 4.7575/7640 from 4.7647/7694 and gained against the British pound to 5.4190/4259 from 5.4242/4302 yesterday. — Bernama']"
      ]
     },
     "execution_count": 11,
     "metadata": {},
     "output_type": "execute_result"
    }
   ],
   "source": [
    "sampled = random.sample(ranged, 100)\n",
    "negs = []\n",
    "for s in sampled:\n",
    "    overlapped = overlap(parsed[0]['title'], parsed[s]['body'])\n",
    "    if overlapped < 0.1:\n",
    "        negs.append(parsed[s]['body'])\n",
    "    if len(negs) >= 5:\n",
    "        break\n",
    "        \n",
    "negs"
   ]
  },
  {
   "cell_type": "code",
   "execution_count": 12,
   "id": "09e7a252",
   "metadata": {},
   "outputs": [
    {
     "name": "stdout",
     "output_type": "stream",
     "text": [
      "mkdir: cannot create directory ‘mining-news’: File exists\r\n"
     ]
    }
   ],
   "source": [
    "!mkdir mining-news"
   ]
  },
  {
   "cell_type": "code",
   "execution_count": 13,
   "id": "b9f2195c",
   "metadata": {},
   "outputs": [],
   "source": [
    "def loop(rows):\n",
    "    rows, index = rows\n",
    "    for i in tqdm(range(len(rows))):\n",
    "        filename = os.path.join('mining-news', f'{i}-{index}.json')\n",
    "        if os.path.exists(filename):\n",
    "            continue\n",
    "        \n",
    "        sampled = random.sample(ranged, 100)\n",
    "        negs = []\n",
    "        for s in sampled:\n",
    "            try:\n",
    "                overlapped = overlap(rows[i]['title'], parsed[s]['body'])\n",
    "            except:\n",
    "                continue\n",
    "            if overlapped < 0.1:\n",
    "                negs.append(parsed[s]['body'])\n",
    "            if len(negs) >= 5:\n",
    "                break\n",
    "        \n",
    "        rows[i]['negs'] = negs\n",
    "        with open(filename, 'w') as fopen:\n",
    "            json.dump(rows[i], fopen)"
   ]
  },
  {
   "cell_type": "code",
   "execution_count": 14,
   "id": "fb6d78c8",
   "metadata": {},
   "outputs": [
    {
     "name": "stderr",
     "output_type": "stream",
     "text": [
      "100%|██████████| 100/100 [00:00<00:00, 23189.61it/s]\n"
     ]
    }
   ],
   "source": [
    "loop((parsed[:100],0))"
   ]
  },
  {
   "cell_type": "code",
   "execution_count": 15,
   "id": "fa5bdd45",
   "metadata": {},
   "outputs": [
    {
     "name": "stderr",
     "output_type": "stream",
     "text": [
      "100%|██████████| 141899/141899 [00:00<00:00, 183099.97it/s]\n",
      "100%|██████████| 141899/141899 [00:21<00:00, 6491.00it/s]  \n",
      "100%|██████████| 141899/141899 [00:00<00:00, 216054.83it/s]\n",
      "100%|██████████| 141899/141899 [00:00<00:00, 225560.41it/s]\n",
      " 98%|█████████▊| 139506/141899 [00:00<00:00, 224674.07it/s]\n",
      "100%|██████████| 141899/141899 [00:00<00:00, 249720.05it/s]\n",
      " 98%|█████████▊| 139509/141899 [00:00<00:00, 280321.32it/s]\n",
      "100%|██████████| 141899/141899 [00:00<00:00, 295238.69it/s]\n",
      "100%|██████████| 141899/141899 [00:00<00:00, 295879.80it/s]\n",
      "100%|██████████| 16/16 [00:00<00:00, 125672.03it/s]97it/s]\n",
      "100%|██████████| 141899/141899 [00:00<00:00, 290359.20it/s]\n",
      "100%|██████████| 141899/141899 [01:25<00:00, 1656.96it/s] \n",
      "100%|██████████| 141899/141899 [01:34<00:00, 1503.09it/s]\n",
      "100%|██████████| 141899/141899 [01:25<00:00, 1653.44it/s]\n",
      "100%|██████████| 141899/141899 [01:29<00:00, 1592.42it/s]\n",
      "100%|██████████| 141899/141899 [01:53<00:00, 1249.73it/s]\n",
      "100%|██████████| 141899/141899 [02:43<00:00, 868.81it/s]\n",
      "100%|██████████| 141899/141899 [02:50<00:00, 834.52it/s]\n",
      "100%|██████████| 141899/141899 [04:00<00:00, 589.65it/s]\n",
      "100%|██████████| 141899/141899 [04:08<00:00, 570.23it/s]\n",
      "100%|██████████| 141899/141899 [04:15<00:00, 555.56it/s]\n"
     ]
    }
   ],
   "source": [
    "mp.multiprocessing(parsed, loop, cores = 20, returned = False)"
   ]
  },
  {
   "cell_type": "code",
   "execution_count": 16,
   "id": "1ffc96c0",
   "metadata": {},
   "outputs": [],
   "source": [
    "from glob import glob"
   ]
  },
  {
   "cell_type": "code",
   "execution_count": 17,
   "id": "b4813211",
   "metadata": {},
   "outputs": [
    {
     "data": {
      "text/plain": [
       "2837996"
      ]
     },
     "execution_count": 17,
     "metadata": {},
     "output_type": "execute_result"
    }
   ],
   "source": [
    "files = glob('mining-news/*.json')\n",
    "len(files)"
   ]
  },
  {
   "cell_type": "code",
   "execution_count": 18,
   "id": "e0541fbc",
   "metadata": {},
   "outputs": [
    {
     "name": "stdout",
     "output_type": "stream",
     "text": [
      "Filesystem      Size  Used Avail Use% Mounted on\r\n",
      "overlay         124G   37G   88G  30% /\r\n",
      "tmpfs            64M     0   64M   0% /dev\r\n",
      "/dev/sdc        984G  494G  490G  51% /home/ubuntu\r\n",
      "/dev/sdd        9.8G  130M  9.7G   2% /dev/shm\r\n",
      "/dev/root       124G   37G   88G  30% /etc/hosts\r\n",
      "tmpfs           205G   12K  205G   1% /run/secrets/kubernetes.io/serviceaccount\r\n",
      "tmpfs           109G   12K  109G   1% /proc/driver/nvidia\r\n",
      "tmpfs            44G   73M   44G   1% /run/nvidia-persistenced/socket\r\n",
      "tmpfs           109G     0  109G   0% /proc/acpi\r\n",
      "tmpfs           109G     0  109G   0% /proc/scsi\r\n",
      "tmpfs           109G     0  109G   0% /sys/firmware\r\n"
     ]
    }
   ],
   "source": [
    "!df -h"
   ]
  },
  {
   "cell_type": "code",
   "execution_count": null,
   "id": "48d45f82",
   "metadata": {},
   "outputs": [
    {
     "name": "stderr",
     "output_type": "stream",
     "text": [
      " 38%|███▊      | 1069542/2837996 [11:27<41:45, 705.74it/s]  "
     ]
    }
   ],
   "source": [
    "with open('mining-news.jsonl', 'w') as fopen_l:\n",
    "    for f in tqdm(files):\n",
    "        try:\n",
    "            with open(f) as fopen:\n",
    "                data = json.load(fopen)\n",
    "            fopen_l.write(f'{json.dumps(data)}\\n')\n",
    "            fopen_l.flush()\n",
    "        except:\n",
    "            pass"
   ]
  },
  {
   "cell_type": "code",
   "execution_count": 24,
   "id": "95df6f4e",
   "metadata": {},
   "outputs": [
    {
     "data": {
      "application/vnd.jupyter.widget-view+json": {
       "model_id": "4247161626ab42498dae8ec8629139ae",
       "version_major": 2,
       "version_minor": 0
      },
      "text/plain": [
       "mining-news.jsonl:   0%|          | 0.00/33.7G [00:00<?, ?B/s]"
      ]
     },
     "metadata": {},
     "output_type": "display_data"
    },
    {
     "data": {
      "text/plain": [
       "CommitInfo(commit_url='https://huggingface.co/datasets/mesolitica/title-context-pair/commit/5e2dd9231dc471920c4ade9666dba40299e52215', commit_message='Upload mining-news.jsonl with huggingface_hub', commit_description='', oid='5e2dd9231dc471920c4ade9666dba40299e52215', pr_url=None, pr_revision=None, pr_num=None)"
      ]
     },
     "execution_count": 24,
     "metadata": {},
     "output_type": "execute_result"
    }
   ],
   "source": [
    "from huggingface_hub import HfApi\n",
    "api = HfApi()\n",
    "api.upload_file(\n",
    "    path_or_fileobj='mining-news.jsonl',\n",
    "    path_in_repo='mining-news.jsonl',\n",
    "    repo_id='mesolitica/title-context-pair',\n",
    "    repo_type='dataset',\n",
    ")"
   ]
  },
  {
   "cell_type": "code",
   "execution_count": null,
   "id": "af39c10f",
   "metadata": {},
   "outputs": [],
   "source": []
  }
 ],
 "metadata": {
  "kernelspec": {
   "display_name": "Python 3 (ipykernel)",
   "language": "python",
   "name": "python3"
  },
  "language_info": {
   "codemirror_mode": {
    "name": "ipython",
    "version": 3
   },
   "file_extension": ".py",
   "mimetype": "text/x-python",
   "name": "python",
   "nbconvert_exporter": "python",
   "pygments_lexer": "ipython3",
   "version": "3.10.12"
  }
 },
 "nbformat": 4,
 "nbformat_minor": 5
}
