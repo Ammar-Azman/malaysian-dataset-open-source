{
 "cells": [
  {
   "cell_type": "code",
   "execution_count": 2,
   "id": "1ce26c4f",
   "metadata": {},
   "outputs": [],
   "source": [
    "# !wget https://huggingface.co/datasets/mesolitica/mixtral-malaysian-abstractive-summarization/resolve/main/mixtral-malaysian-abstractive-summarization.jsonl"
   ]
  },
  {
   "cell_type": "code",
   "execution_count": 17,
   "id": "81e04ca3",
   "metadata": {},
   "outputs": [],
   "source": [
    "# !wget https://huggingface.co/datasets/mesolitica/semisupervised-abstractive-summarization-ms-news/resolve/main/populate-news.json.semisupervised"
   ]
  },
  {
   "cell_type": "code",
   "execution_count": 18,
   "id": "753189dd",
   "metadata": {},
   "outputs": [],
   "source": [
    "# !wget https://gist.githubusercontent.com/huseinzol05/98974ae8c6c7a65d4bc0af9f5003786a/raw/2e06e71ef7349a57bc58cc9913ae6bae1f9f8447/mp.py"
   ]
  },
  {
   "cell_type": "code",
   "execution_count": 37,
   "id": "f35b6b8d",
   "metadata": {},
   "outputs": [],
   "source": [
    "import json\n",
    "import mp\n",
    "import random\n",
    "import os\n",
    "from tqdm import tqdm\n",
    "from sklearn.feature_extraction.text import TfidfVectorizer, CountVectorizer\n",
    "from sklearn.metrics.pairwise import cosine_similarity"
   ]
  },
  {
   "cell_type": "code",
   "execution_count": 14,
   "id": "c490509f",
   "metadata": {},
   "outputs": [],
   "source": [
    "data = []\n",
    "with open('mixtral-malaysian-abstractive-summarization.jsonl') as fopen:\n",
    "    for l in fopen:\n",
    "        l = json.loads(l)\n",
    "        data.append({\n",
    "            'text': l['text'],\n",
    "            'summary': l['summary'],\n",
    "            'summary_ms': l['summary_ms']\n",
    "        })"
   ]
  },
  {
   "cell_type": "code",
   "execution_count": 15,
   "id": "f1327d70",
   "metadata": {},
   "outputs": [],
   "source": [
    "with open('populate-news.json.semisupervised') as fopen:\n",
    "    for l in fopen:\n",
    "        l = json.loads(l)\n",
    "        summary = '\\n'.join(l['semisupervised-summaries'])\n",
    "        data.append({\n",
    "            'text': l['text'],\n",
    "            'summary': None,\n",
    "            'summary_ms': summary\n",
    "        })"
   ]
  },
  {
   "cell_type": "code",
   "execution_count": 20,
   "id": "c8aa3f24",
   "metadata": {},
   "outputs": [],
   "source": [
    "import re\n",
    "\n",
    "def clean(string):\n",
    "    string = re.sub('[^A-Za-z ]+', ' ', string.lower())\n",
    "    string = re.sub(r'[ ]+', ' ', string).strip()\n",
    "    return string"
   ]
  },
  {
   "cell_type": "code",
   "execution_count": 40,
   "id": "0050f2e4",
   "metadata": {},
   "outputs": [
    {
     "data": {
      "text/plain": [
       "0.208955223880597"
      ]
     },
     "execution_count": 40,
     "metadata": {},
     "output_type": "execute_result"
    }
   ],
   "source": [
    "def overlap(string1, string2):\n",
    "    l = set([w for w in clean(string1).split() if len(w) > 2])\n",
    "    r = set([w for w in clean(string2).split() if len(w) > 2])\n",
    "    return len(l & r) / len(l)\n",
    "\n",
    "overlap(data[0]['summary_ms'], data[0]['text'])"
   ]
  },
  {
   "cell_type": "code",
   "execution_count": 41,
   "id": "36fcf0f5",
   "metadata": {},
   "outputs": [],
   "source": [
    "ranged = range(len(data))"
   ]
  },
  {
   "cell_type": "code",
   "execution_count": 42,
   "id": "3c7da777",
   "metadata": {},
   "outputs": [
    {
     "data": {
      "text/plain": [
       "['NUR-SULTAN 10 Jun - Kazakhstan memilih calon Presiden yang menjadi pilihan bekas Presiden Nursultan Nazarbayev dengan memperolehi 70.8 peratus undi, hari ini.\\n\\nSuruhanjaya Pilihan Raya Sentral berkata, Kassym-Jomart mengatasi calon pembangkang, Amirzhan Kosanov yang hanya mendapat 16.2 peratus undi.\\n\\nKemenangan Kassym-Jomart itu tidak diragukan lagi selepas beliau mendapat restu daripada Nursultan yang berkuasa dan memimpin negara tersebut sejak tiga dekad lalu.\\n\\nBagaimanapun, undian semalam menimbulkan protes terbesar sejak tiga tahun lalu yang mana seruan boikot pilihan raya dikatakan telah diatur. - AFP',\n",
       " 'The relevant authorities in JB must not “do nothing” but must  use the controversy over Zachas’ “high-crime” mural to launch a new initiative to wipe out JB’s reputation as the nation’s crime capital   It is sad and tragic that while “unusual creativeness” are being exhibited to remove the “sting” of Lithuanian-born street artist Ernest Zacharevic’s “high crime” mural in Johor Bahru,  there are no signs that the relevant authorities – JB City Council, the Police and Johore State Government – are being moved to capitalise on the heightened public awareness in the past week of unacceptably  high crime rate in JB to launch a new initiative to  wipe out JB’s reputation as the nation’s crime capital.\\n\\n\\nTwo local artists had worked through midnight to add a Lego policeman armed with a handcuff  to the controversial mural – a Lego man wearing a ski mask and holding a knife waiting to rob a Lego woman carrying a “Chanel” bag – but Zacharevic has dissociated himself from the addition  with the comment on his Facbook that this is  “a true vandalism”.\\n\\n\\nThe authorities show a completely wrong sense of priorities, in expending  energy on how to remove the “sting” of Zachas’ “high crime” mural in JB with various “creative” ideas to allow the “offensive” mural to remain in JB, when what is  most important of all is for the authorities to  take meaningful and effective action to ensure that JB becomes a low-crime city which is safe and secure for residents, visitors and investors.\\n\\n\\nThe relevant authorities in JB  – the JB City Council, the Johore Police and the Johore State Government – must not “do nothing” but must  use the controversy over Zachas’ “high-crime” mural to launch a  new initiative to wipe out JB’s reputation as the nation’s crime capital.   This entry was posted on Wednesday, 13 November 2013, 3:35 pm and is filed under \\nCrime\\n, \\nJohor Bahru\\n. You can follow any responses to this entry through \\nRSS 2.0\\n.',\n",
       " 'Razer Launches Restorify, a Traceble Carbon Neutral Checkout Solution   Related Posts   Pokemon Sleep Now Available In Malaysia   GamerBraves Newsletter Vol. 103 – The Glory of The Barbie/Oppenheimer Double Feature   Razer has revealed Restorify, an e-commerce service rolled out by Razer Fintech, the financial technology arm of the company.\\nRestorify is a traceable carbon-neutral checkout and was launched during COP27, the 27th Conference of the Parties to the United Nations Framework Convention on Climate Change.\\n\\n\\n\\nCarbon offsetting has the potential to be one of the more effective methods used to lower carbon emissions in the atmosphere. However, carbon credits are typically denominated in metric tons, each of which is not readily divisible. In such size, carbon credits are not readily disposed of for the purpose of offsetting everyday purchases. Razer says they are addressing these challenges through Restorify and is seeking to support OECD’s vision to reach $147/tonne by 2030 if the World hopes to reach net-zero emissions by 2050.   The key drivers for Restorify, are to promote more transparency and accountability in the carbon market and to make it easier for businesses to offset their emissions while empowering consumers to be a part of the solution.\\nFollow us on Twitter\\nFollow @GamerBraves\\nand Tweet us\\nTweet to @GamerBraves\\n\\n\\nRazer has been working towards becoming net zero by 2030 and has prioritized emissions reduction and recycling in its decarbonization journey. The company has adopted ‘Life Cycle Thinking’, meaning it follows the best practices to reduce emissions across the key stages of its products’ lifecycles, from mineral sourcing to manufacturing, transportation to end of life.\\n“Our life-cycle approach allows us to develop interventions that drive emission reductions, but carbon credits will still have a role to play in the transition to becoming net zero,” says Min-Liang Tan, Co-founder, and CEO of Razer. “In our own journey to net zero, we have realized that there are growing pains and that not all carbon credits are equal. With Restorify, we hope our novel approach towards carbon credits will foster greater accountability and transparency within carbon offsetting.”   For consumers\\nRestorify fractionalizes carbon credits in its reimbursement process so they can be made available in smaller denominations, empowering consumers to make offsets a part of their daily lives. Restorify aims to rebuild trust around carbon offsets by only allowing traceable offsets with realized decarbonization effects to be used by consumers. In other words, while some competitors promise to offset emissions in the future, with Restorify consumers can rest assured that emissions relating to their purchases have already been offset.\\nRazer has started to curate a diverse portfolio of carbon credit projects which aspire towards the UN’s Sustainable Development Goals. To do so, Razer is working closely with partners such as leading energy and urban solutions provider, GoNetZero, as well as ESGpedia, which can aggregate the end-to-end traceable data of high-quality carbon credits from origination to retirement, and cloud computing platform, Amazon Web Services (AWS).\\nThe traceable carbon-neutral shopping cart offered by Restorify will enable consumers to view the carbon footprint of a product, so they can make informed decisions. Furthermore, as they check out, they will also be empowered to offset the products they buy with carbon credits already retired from verified carbon registries.\\nUpon purchasing the carbon credits, consumers will receive a certificate detailing the total amount of carbon emissions that have been offset by their purchase, what kind of project the retired credits have supported and in which country, as well as the certification standard. These individual fractionalized transactions are digitally recorded onto the ESGpedia registry where consumers can track their carbon offset efforts. This level of transparency is currently otherwise lacking in today’s consumer carbon offset market.   Ongoing projects will also be monitored and reported regularly for verification and to assure the consumer of the integrity of the carbon credits.\\nFor Businesses\\nRazer believes that brands have a responsibility to be transparent with consumers about the carbon footprint of their products so that buyers can exercise responsible consumerism. That’s why Restorify applies a mass product emissions calculator that helps businesses estimate their carbon footprint based on a product’s emissions across its life cycle. The impetus for this service arose from the realization that some businesses don’t have the means to calculate their products’ carbon footprint and Razer wanted to provide one.\\nRestorify will also encourage and provide businesses with a pathway to evaluate the environmental impact of their products through the ECOLOGO Certification, Environmental Product Declaration Certification, or Product Carbon Footprint Verification using Razer’s ecolabel partner, global safety science leader, UL Solutions.\\nFinally, Restorify’s carbon-neutral checkout is available for businesses to integrate into their existing platform. Razer will be working with partners from its supply chain as well as more than 50,000 merchants under Razer Fintech’s network to support their transition to net zero at no additional cost. AWS will also be supporting Razer to make Restorify available to more than 100,000 partners from 150 countries.   “With a commitment to power all AWS Regions globally with 100% renewable energy by 2025, AWS is committed to being the world’s most sustainable cloud. This charter combined with the differentiating breadth and depth of AWS data services makes AWS an ideal partner for Razer as they embark on this exciting new chapter. This collaboration provides Razer with both development and go-to-market support for Restorify, an innovative carbon tracing solution that will deliver long-term benefits to Razer’s business, customers, and the environment,” said Conor McNamara, Managing Director, ASEAN, Amazon Web Services.\\nIn conclusion, Razer is seeking to bring more accountability and transparency to the carbon industry through Restorify. While carbon-neutral shopping carts exist, the solution offered by Restorify ensures that all carbon credits used are traceable, so consumers can know exactly where their money went. Restorify allows consumers to meaningfully take climate action by enabling them to offset their purchases, and will also help businesses decarbonize so that the planet remains an arena everyone can continue to play in.\\n\\n\\n\\n\\nCheck This Out Next   Tags: RazerRestorify',\n",
       " 'JAKARTA: Indonesia hari ini mengevakuasi 238 warganya dari wilayah Hubei, China, dan menempatkan mereka di Pulau Natuna bagi menjalani proses kuarantin selama 14 hari.\\nPesawat komersial penerbangan Batik Air yang membawa warga Indonesia dari Wuhan itu mendarat di Lapangan Terbang Hang Nadim, Pulau Batam, kira-kira pukul 8.45 pagi waktu Indonesia Barat.\\nBeberapa media tempatan melaporkan kesemua mereka kemudiannya diterbangkan dengan menggunakan tiga pesawat tentera ke Pulau Natuna, Provinsi Kepulauan Riau yang terletak di Laut China Selatan.\\nMereka ditempatkan di pangkalan udara tentera Indonesia di Pulau Natuna, yang dilaporkan lengkap dengan pelbagai kemudahan, serta akan menjalani pemeriksaan dan pemantauan kesihatan selama 14 hari sebelum dibenarkan pulang bertemu keluarga mereka.\\nUntuk rekod, setakat ini belum terdapat kes jangkitan 2019 novel koronavirus di Indonesia.\\n“Semua mereka dilaporkan sihat, bebas dari jangkitan. Kerajaan China juga menetapkan hanya mereka yang sihat sahaja dibenarkan keluar dari wilayah yang terkena wabak itu,” kata Menteri Kesihatan Indonesia, Terawan Agus Putranto yang dipetik beberapa media tempatan hari ini.\\nKhamis lepas, Presiden Indonesia Joko Widodo dilaporkan mengarahkan rakyatnya di Wuhan dan Wilayah Hubei, dibawa pulang ke Indonesia, susulan jangkitan koronavirus, yang semakin membimbangkan itu. — BERNAMA',\n",
       " 'KUALA LUMPUR 20 April - Seorang wanita terkejut apabila segumpulan kain langsir yang diletakkan di tepi tong sampah rupanya mayat seorang bayi lelaki yang ditinggalkan dalam kejadian di Jalan Rejang 1, Taman Setapak Jaya di sini.\\n\\nBayi lelaki cukup sifat tersebut telah dibalut dengan kain sebelum ditemukan wanita kira-kira pukul 3.30 petang tadi.\\n\\nMenurut sumber, ketika kejadian, sebuah lori sampah mahu mengambil sampah sisa pembaikan rumah di tong tersebut.\\n\\nUjarnya, namun, wanita berkenaan ternampak segumpulan kain di tepi tong sampah tersebut sebelum dia mengangkat kain itu dan terkejut terdapat bayi di dalamnya.\\n\\n“Wanita tersebut bagaimanapun tidak mengetahui milik siapa bayi tersebut memandangkan tidak nampak sesiapa disyaki.\\n\\n“Mayat bayi itu kemudiannya telah dihantar ke forensik Hospital Kuala Lumpur untuk bedah siasat,” katanya di sini hari ini.\\n\\nTambah sumber, keadaan bayi tersebut ketika ditemukan masih bertali pusat dan beruri.\\n\\n“Selain itu, warna kulit bayi itu juga putih kemerahan dan masih belum dikenal pasti identitinya.\\n\\n“Pemeriksaan lanjut terhadap bayi tersebut bagaimanapun tidak terdapat sebarang kecederaan dan luka,” ujarnya.-UTUSAN ONLINE']"
      ]
     },
     "execution_count": 42,
     "metadata": {},
     "output_type": "execute_result"
    }
   ],
   "source": [
    "sampled = random.sample(ranged, 100)\n",
    "negs = []\n",
    "for s in sampled:\n",
    "    overlapped = overlap(data[0]['summary_ms'], data[s]['text'])\n",
    "    if overlapped < 0.1:\n",
    "        negs.append(data[s]['text'])\n",
    "    if len(negs) >= 5:\n",
    "        break\n",
    "        \n",
    "negs"
   ]
  },
  {
   "cell_type": "code",
   "execution_count": 43,
   "id": "1eb4777d",
   "metadata": {},
   "outputs": [],
   "source": [
    "!mkdir mining-summarization"
   ]
  },
  {
   "cell_type": "code",
   "execution_count": 44,
   "id": "a7ff7ceb",
   "metadata": {},
   "outputs": [],
   "source": [
    "def loop(rows):\n",
    "    rows, index = rows\n",
    "    for i in tqdm(range(len(rows))):\n",
    "        filename = os.path.join('mining-summarization', f'{i}-{index}.json')\n",
    "        if os.path.exists(filename):\n",
    "            continue\n",
    "        \n",
    "        sampled = random.sample(ranged, 100)\n",
    "        negs = []\n",
    "        for s in sampled:\n",
    "            try:\n",
    "                overlapped = overlap(rows[i]['summary_ms'], data[s]['text'])\n",
    "            except:\n",
    "                continue\n",
    "            if overlapped < 0.1:\n",
    "                negs.append(data[s]['text'])\n",
    "            if len(negs) >= 5:\n",
    "                break\n",
    "        \n",
    "        rows[i]['negs'] = negs\n",
    "        with open(filename, 'w') as fopen:\n",
    "            json.dump(rows[i], fopen)"
   ]
  },
  {
   "cell_type": "code",
   "execution_count": 46,
   "id": "222d3295",
   "metadata": {},
   "outputs": [
    {
     "name": "stderr",
     "output_type": "stream",
     "text": [
      "100%|██████████| 100/100 [00:00<00:00, 277.26it/s]\n"
     ]
    }
   ],
   "source": [
    "loop((data[:100],0))"
   ]
  },
  {
   "cell_type": "code",
   "execution_count": 48,
   "id": "63a522c8",
   "metadata": {},
   "outputs": [
    {
     "name": "stderr",
     "output_type": "stream",
     "text": [
      "100%|██████████| 13865/13865 [00:56<00:00, 245.57it/s]\n",
      "100%|██████████| 11/11 [00:00<00:00, 282.05it/s]6it/s]\n",
      "100%|██████████| 13865/13865 [00:58<00:00, 238.08it/s]\n",
      "100%|██████████| 13865/13865 [01:00<00:00, 227.55it/s]\n",
      "100%|██████████| 13865/13865 [01:00<00:00, 228.34it/s]\n",
      "100%|██████████| 13865/13865 [00:59<00:00, 233.11it/s]\n",
      "100%|██████████| 13865/13865 [01:00<00:00, 230.26it/s]\n",
      "100%|██████████| 13865/13865 [00:57<00:00, 242.65it/s]\n",
      "100%|██████████| 13865/13865 [01:00<00:00, 230.91it/s]\n",
      "100%|██████████| 13865/13865 [01:01<00:00, 224.80it/s]\n",
      "100%|██████████| 13865/13865 [00:57<00:00, 239.72it/s]\n",
      "100%|██████████| 13865/13865 [00:56<00:00, 245.50it/s]\n",
      "100%|██████████| 13865/13865 [00:57<00:00, 239.51it/s]\n",
      "100%|██████████| 13865/13865 [00:58<00:00, 235.80it/s]\n",
      "100%|██████████| 13865/13865 [01:04<00:00, 214.36it/s]\n",
      "100%|██████████| 13865/13865 [00:58<00:00, 237.18it/s]\n",
      "100%|██████████| 13865/13865 [01:02<00:00, 221.28it/s]\n",
      "100%|██████████| 13865/13865 [01:03<00:00, 219.51it/s]\n",
      "100%|██████████| 13865/13865 [01:03<00:00, 219.32it/s]\n",
      "100%|██████████| 13865/13865 [01:06<00:00, 208.25it/s]\n",
      "100%|██████████| 13865/13865 [01:07<00:00, 205.11it/s]\n"
     ]
    }
   ],
   "source": [
    "mp.multiprocessing(data, loop, cores = 20, returned = False)"
   ]
  },
  {
   "cell_type": "code",
   "execution_count": 49,
   "id": "0b62b624",
   "metadata": {},
   "outputs": [],
   "source": [
    "from glob import glob"
   ]
  },
  {
   "cell_type": "code",
   "execution_count": 50,
   "id": "f5e2218f",
   "metadata": {},
   "outputs": [
    {
     "data": {
      "text/plain": [
       "277311"
      ]
     },
     "execution_count": 50,
     "metadata": {},
     "output_type": "execute_result"
    }
   ],
   "source": [
    "files = glob('mining-summarization/*.json')\n",
    "len(files)"
   ]
  },
  {
   "cell_type": "code",
   "execution_count": 51,
   "id": "cf3946f8",
   "metadata": {},
   "outputs": [
    {
     "name": "stderr",
     "output_type": "stream",
     "text": [
      "100%|██████████| 277311/277311 [01:08<00:00, 4059.73it/s]\n"
     ]
    }
   ],
   "source": [
    "with open('mining-summarization.jsonl', 'w') as fopen_l:\n",
    "    for f in tqdm(files):\n",
    "        try:\n",
    "            with open(f) as fopen:\n",
    "                data = json.load(fopen)\n",
    "            fopen_l.write(f'{json.dumps(data)}\\n')\n",
    "            fopen_l.flush()\n",
    "        except:\n",
    "            pass"
   ]
  },
  {
   "cell_type": "code",
   "execution_count": null,
   "id": "2c3e11f6",
   "metadata": {},
   "outputs": [
    {
     "data": {
      "application/vnd.jupyter.widget-view+json": {
       "model_id": "29c1e0ad877547f7b1bba0e99b3b2bb3",
       "version_major": 2,
       "version_minor": 0
      },
      "text/plain": [
       "mining-summarization.jsonl:   0%|          | 0.00/4.65G [00:00<?, ?B/s]"
      ]
     },
     "metadata": {},
     "output_type": "display_data"
    }
   ],
   "source": [
    "from huggingface_hub import HfApi\n",
    "api = HfApi()\n",
    "api.upload_file(\n",
    "    path_or_fileobj='mining-summarization.jsonl',\n",
    "    path_in_repo='mining-summarization.jsonl',\n",
    "    repo_id='mesolitica/title-context-pair',\n",
    "    repo_type='dataset',\n",
    ")"
   ]
  },
  {
   "cell_type": "code",
   "execution_count": null,
   "id": "7dc69c67",
   "metadata": {},
   "outputs": [],
   "source": []
  }
 ],
 "metadata": {
  "kernelspec": {
   "display_name": "Python 3 (ipykernel)",
   "language": "python",
   "name": "python3"
  },
  "language_info": {
   "codemirror_mode": {
    "name": "ipython",
    "version": 3
   },
   "file_extension": ".py",
   "mimetype": "text/x-python",
   "name": "python",
   "nbconvert_exporter": "python",
   "pygments_lexer": "ipython3",
   "version": "3.10.12"
  }
 },
 "nbformat": 4,
 "nbformat_minor": 5
}
