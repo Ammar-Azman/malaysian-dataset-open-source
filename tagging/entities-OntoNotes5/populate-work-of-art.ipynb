{
 "cells": [
  {
   "cell_type": "code",
   "execution_count": 1,
   "metadata": {},
   "outputs": [],
   "source": [
    "from collections import defaultdict\n",
    "import json"
   ]
  },
  {
   "cell_type": "code",
   "execution_count": 2,
   "metadata": {},
   "outputs": [],
   "source": [
    "with open('WORK_OF_ART/classic-song.txt') as fopen:\n",
    "    data = fopen.read().split('\\n')\n",
    "    \n",
    "classic_song = [i.split('\\t')[1].strip() for i in data if len(i)]"
   ]
  },
  {
   "cell_type": "code",
   "execution_count": 3,
   "metadata": {},
   "outputs": [
    {
     "data": {
      "text/plain": [
       "['\"Budi Bahasa - Rokiah Wandah & Abdullah Chik\"',\n",
       " '\"Ingin Tahu - Nona Asiah & Abdullah Chik\"',\n",
       " '\"Menanti Idaman - Rokiah Wandah\"',\n",
       " '\"Selendang Sayang - Normadiah\"',\n",
       " '\"Syair Kamaruzzaman - R. Ismail & Rosiah Chik\"',\n",
       " '\"Cincin Belah Rotan - Ahmad CB\"',\n",
       " '\"Laila Majnun - Julia\"',\n",
       " '\"Menari Mambo - A. Rahman\"',\n",
       " '\"Senandung Rindu - Nona Asiah\"',\n",
       " '\"Tetapkan Iman - Rokiah Wandah & Abdullah Chik\"',\n",
       " '\"Di Wajahmu Ku Lihat Bulan - samsaimun\"',\n",
       " '\"Rentak Seratus Enam - Ahmad CB & Saloma\"',\n",
       " '\"Resam Duain - Rosiah Chik\"',\n",
       " '\"Sri Bulan - Rokiah Wandah\"']"
      ]
     },
     "execution_count": 3,
     "metadata": {},
     "output_type": "execute_result"
    }
   ],
   "source": [
    "classic_song"
   ]
  },
  {
   "cell_type": "code",
   "execution_count": 10,
   "metadata": {},
   "outputs": [],
   "source": [
    "results = []\n",
    "for a in classic_song:\n",
    "    entities = defaultdict(list)\n",
    "    entities['song'].append(a)\n",
    "    entities['work of art'].append(a)\n",
    "    results.append({'text': a, 'entities': entities})"
   ]
  },
  {
   "cell_type": "code",
   "execution_count": 11,
   "metadata": {},
   "outputs": [],
   "source": [
    "with open('WORK_OF_ART/filem-malaysia.txt') as fopen:\n",
    "    data = fopen.read().split('\\n')\n",
    "    \n",
    "filem_malaysia = [i.split('\\t')[0].strip() for i in data if len(i)][:43]\n",
    "filem_malaysia.extend([i.split('\\t')[1].strip() for i in data if len(i)][43:])\n",
    "\n",
    "with open('filem-pramlee.txt') as fopen:\n",
    "    data = fopen.read().split('\\n')\n",
    "    \n",
    "filem_pramlee = [i.split('\\t')[0].strip() for i in data if len(i)]"
   ]
  },
  {
   "cell_type": "code",
   "execution_count": 12,
   "metadata": {},
   "outputs": [],
   "source": [
    "for a in filem_malaysia:\n",
    "    entities = defaultdict(list)\n",
    "    entities['film'].append(a)\n",
    "    entities['work of art'].append(a)\n",
    "    results.append({'text': a, 'entities': entities})"
   ]
  },
  {
   "cell_type": "code",
   "execution_count": 14,
   "metadata": {},
   "outputs": [],
   "source": [
    "with open('lagu-lirikterbaikz.blogspot.txt') as fopen:\n",
    "    lagu = fopen.read().split('\\n')\n",
    "    \n",
    "for a in lagu:\n",
    "    entities = defaultdict(list)\n",
    "    entities['song'].append(a)\n",
    "    entities['work of art'].append(a)\n",
    "    results.append({'text': a, 'entities': entities})"
   ]
  },
  {
   "cell_type": "code",
   "execution_count": 16,
   "metadata": {},
   "outputs": [],
   "source": [
    "with open('novel.txt') as fopen:\n",
    "    data = fopen.read().split('\\n')[1:-1]\n",
    "    \n",
    "buku = []\n",
    "for i in range(1, len(data), 8):\n",
    "    buku.append(data[i].split('\\t')[0].strip())\n",
    "    \n",
    "for a in buku:\n",
    "    entities = defaultdict(list)\n",
    "    entities['book'].append(a)\n",
    "    entities['work of art'].append(a)\n",
    "    results.append({'text': a, 'entities': entities})"
   ]
  },
  {
   "cell_type": "code",
   "execution_count": null,
   "metadata": {},
   "outputs": [],
   "source": []
  }
 ],
 "metadata": {
  "kernelspec": {
   "display_name": "Python 3 (ipykernel)",
   "language": "python",
   "name": "python3"
  },
  "language_info": {
   "codemirror_mode": {
    "name": "ipython",
    "version": 3
   },
   "file_extension": ".py",
   "mimetype": "text/x-python",
   "name": "python",
   "nbconvert_exporter": "python",
   "pygments_lexer": "ipython3",
   "version": "3.8.10"
  }
 },
 "nbformat": 4,
 "nbformat_minor": 4
}
