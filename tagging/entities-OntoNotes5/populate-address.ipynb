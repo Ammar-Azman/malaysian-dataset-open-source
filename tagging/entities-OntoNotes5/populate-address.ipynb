{
 "cells": [
  {
   "cell_type": "code",
   "execution_count": 7,
   "metadata": {},
   "outputs": [],
   "source": [
    "from collections import defaultdict\n",
    "import json"
   ]
  },
  {
   "cell_type": "code",
   "execution_count": 8,
   "metadata": {},
   "outputs": [],
   "source": [
    "# !wget https://raw.githubusercontent.com/nizulzaim/json-malaysia-postalcode/master/postalcode.json"
   ]
  },
  {
   "cell_type": "code",
   "execution_count": 9,
   "metadata": {},
   "outputs": [],
   "source": [
    "with open('postalcode.json') as fopen:\n",
    "    postal = json.load(fopen)"
   ]
  },
  {
   "cell_type": "code",
   "execution_count": 15,
   "metadata": {},
   "outputs": [],
   "source": [
    "def generate_address(row):\n",
    "    s = f\"{row['place']}, {row['code']}, {row['city']} {row['state']}\"\n",
    "    return {\n",
    "        'text': s,\n",
    "        'tempat': row['place'],\n",
    "        'zipcode': row['code'],\n",
    "        'city': row['city'],\n",
    "        'state': row['state']\n",
    "    }\n",
    "    return f\"{row['place']}, {row['code']}, {row['city']} {row['state']}\""
   ]
  },
  {
   "cell_type": "code",
   "execution_count": 16,
   "metadata": {},
   "outputs": [
    {
     "data": {
      "text/plain": [
       "54028"
      ]
     },
     "execution_count": 16,
     "metadata": {},
     "output_type": "execute_result"
    }
   ],
   "source": [
    "addresses = []\n",
    "\n",
    "for row in postal['data']:\n",
    "    addresses.append(generate_address(row))\n",
    "    \n",
    "len(addresses)"
   ]
  },
  {
   "cell_type": "code",
   "execution_count": 17,
   "metadata": {},
   "outputs": [
    {
     "data": {
      "text/plain": [
       "{'text': 'Alor Tok Terang, 01000, Kangar Perlis',\n",
       " 'tempat': 'Alor Tok Terang',\n",
       " 'zipcode': '01000',\n",
       " 'city': 'Kangar',\n",
       " 'state': 'Perlis'}"
      ]
     },
     "execution_count": 17,
     "metadata": {},
     "output_type": "execute_result"
    }
   ],
   "source": [
    "addresses[0]"
   ]
  },
  {
   "cell_type": "code",
   "execution_count": 20,
   "metadata": {},
   "outputs": [],
   "source": [
    "results = []\n",
    "for a in addresses:\n",
    "    entities = defaultdict(list)\n",
    "    entities['address'].append(a['text'])\n",
    "    entities['tempat'].append(a['tempat'])\n",
    "    entities['zipcode'].append(a['zipcode'])\n",
    "    entities['city'].append(a['city'])\n",
    "    entities['state'].append(a['state'])\n",
    "    results.append({'text': a['text'], 'entities': entities})"
   ]
  },
  {
   "cell_type": "code",
   "execution_count": 22,
   "metadata": {},
   "outputs": [],
   "source": [
    "import json\n",
    "\n",
    "with open('augmentation-address.json', 'w') as fopen:\n",
    "    json.dump(results, fopen)"
   ]
  }
 ],
 "metadata": {
  "kernelspec": {
   "display_name": "Python 3 (ipykernel)",
   "language": "python",
   "name": "python3"
  },
  "language_info": {
   "codemirror_mode": {
    "name": "ipython",
    "version": 3
   },
   "file_extension": ".py",
   "mimetype": "text/x-python",
   "name": "python",
   "nbconvert_exporter": "python",
   "pygments_lexer": "ipython3",
   "version": "3.8.10"
  }
 },
 "nbformat": 4,
 "nbformat_minor": 4
}
