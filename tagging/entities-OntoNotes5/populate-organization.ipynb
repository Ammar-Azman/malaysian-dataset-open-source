{
 "cells": [
  {
   "cell_type": "code",
   "execution_count": 1,
   "metadata": {},
   "outputs": [],
   "source": [
    "from collections import defaultdict"
   ]
  },
  {
   "cell_type": "code",
   "execution_count": 2,
   "metadata": {},
   "outputs": [],
   "source": [
    "import pandas as pd\n",
    "\n",
    "df = pd.read_csv('ORG/penganjur-acara.csv')['Nama Syarikat'].dropna()\n",
    "local_companies = df.tolist()"
   ]
  },
  {
   "cell_type": "code",
   "execution_count": 3,
   "metadata": {},
   "outputs": [],
   "source": [
    "df = pd.read_csv('senarai-anak-syarikat-kplb.csv')['NAMA SYARIKAT'].dropna()\n",
    "local_companies.extend(df.tolist())"
   ]
  },
  {
   "cell_type": "code",
   "execution_count": 4,
   "metadata": {},
   "outputs": [],
   "source": [
    "df = pd.read_csv('magiceventstartup.20191216.csv')['Startup Name'].dropna()\n",
    "local_companies.extend(df.tolist())"
   ]
  },
  {
   "cell_type": "code",
   "execution_count": 5,
   "metadata": {},
   "outputs": [],
   "source": [
    "df = pd.read_csv('magiceventstartup.20180920.csv')['Startup Name'].dropna()\n",
    "local_companies.extend(df.tolist())"
   ]
  },
  {
   "cell_type": "code",
   "execution_count": 6,
   "metadata": {},
   "outputs": [
    {
     "data": {
      "text/plain": [
       "4633"
      ]
     },
     "execution_count": 6,
     "metadata": {},
     "output_type": "execute_result"
    }
   ],
   "source": [
    "df = pd.read_csv('maklumat-syarikat-jualan-langsung.csv')['NAMA SYARIKAT'].dropna()\n",
    "local_companies.extend(df.tolist())\n",
    "\n",
    "len(local_companies)"
   ]
  },
  {
   "cell_type": "code",
   "execution_count": 7,
   "metadata": {},
   "outputs": [
    {
     "data": {
      "text/plain": [
       "3147"
      ]
     },
     "execution_count": 7,
     "metadata": {},
     "output_type": "execute_result"
    }
   ],
   "source": [
    "import re\n",
    "\n",
    "local_companies = [re.sub(r'[ ]+', ' ', l.replace('.', ' ')).strip().title() for l in local_companies]\n",
    "local_companies = list(set(local_companies))\n",
    "len(local_companies)"
   ]
  },
  {
   "cell_type": "code",
   "execution_count": 9,
   "metadata": {},
   "outputs": [],
   "source": [
    "results = []\n",
    "for d in local_companies:\n",
    "    d = d.strip()\n",
    "    if len(d):\n",
    "        entities = defaultdict(list)\n",
    "        entities['syarikat'].append(d)\n",
    "        entities['organization'].append(d)\n",
    "        results.append({'text': d, 'entities': entities})"
   ]
  },
  {
   "cell_type": "code",
   "execution_count": 10,
   "metadata": {},
   "outputs": [
    {
     "data": {
      "text/plain": [
       "426"
      ]
     },
     "execution_count": 10,
     "metadata": {},
     "output_type": "execute_result"
    }
   ],
   "source": [
    "with open('jabatan.txt') as fopen:\n",
    "    data = fopen.read().split('\\n')\n",
    "    \n",
    "jabatan = [i.strip() for i in data if len(i) > 2]\n",
    "len(jabatan)"
   ]
  },
  {
   "cell_type": "code",
   "execution_count": 12,
   "metadata": {},
   "outputs": [],
   "source": [
    "for d in jabatan:\n",
    "    d = d.strip()\n",
    "    if len(d):\n",
    "        entities = defaultdict(list)\n",
    "        entities['jabatan kerajaan'].append(d)\n",
    "        entities['organization'].append(d)\n",
    "        results.append({'text': d, 'entities': entities})"
   ]
  },
  {
   "cell_type": "code",
   "execution_count": 13,
   "metadata": {},
   "outputs": [
    {
     "data": {
      "text/plain": [
       "224"
      ]
     },
     "execution_count": 13,
     "metadata": {},
     "output_type": "execute_result"
    }
   ],
   "source": [
    "with open('persatuan.txt') as fopen:\n",
    "    data = fopen.read().split('\\n')\n",
    "    \n",
    "persatuan = [i.strip() for i in data if len(i) > 2]\n",
    "len(persatuan)"
   ]
  },
  {
   "cell_type": "code",
   "execution_count": 14,
   "metadata": {},
   "outputs": [],
   "source": [
    "for d in persatuan:\n",
    "    d = d.strip()\n",
    "    if len(d):\n",
    "        entities = defaultdict(list)\n",
    "        entities['persatuan'].append(d)\n",
    "        entities['organization'].append(d)\n",
    "        results.append({'text': d, 'entities': entities})"
   ]
  },
  {
   "cell_type": "code",
   "execution_count": 15,
   "metadata": {},
   "outputs": [],
   "source": [
    "big_it_companies = \"\"\"\n",
    "Apple\n",
    "Microsoft\n",
    "Google\n",
    "Tencent\n",
    "Facebook\n",
    "IBM\n",
    "SAP\n",
    "Instagram\n",
    "Accenture\n",
    "Intel\n",
    "Adobe\n",
    "Samsung\n",
    "Salesforce\n",
    "LinkedIn\n",
    "Huawei\n",
    "Oracle\n",
    "Cisco\n",
    "Dell\n",
    "Xiaomi\n",
    "Baidu\n",
    "AWS\n",
    "GCP\n",
    "Sony\n",
    "\"\"\"\n",
    "big_it_companies = list(filter(None, big_it_companies.split('\\n')))\n",
    "for d in big_it_companies:\n",
    "    d = d.strip()\n",
    "    if len(d):\n",
    "        entities = defaultdict(list)\n",
    "        entities['syarikat'].append(d)\n",
    "        entities['organization'].append(d)\n",
    "        results.append({'text': d, 'entities': entities})"
   ]
  },
  {
   "cell_type": "code",
   "execution_count": 17,
   "metadata": {},
   "outputs": [
    {
     "data": {
      "text/plain": [
       "3820"
      ]
     },
     "execution_count": 17,
     "metadata": {},
     "output_type": "execute_result"
    }
   ],
   "source": [
    "len(results)"
   ]
  },
  {
   "cell_type": "code",
   "execution_count": 16,
   "metadata": {},
   "outputs": [],
   "source": [
    "import json\n",
    "\n",
    "with open('augmentation-organization.json', 'w') as fopen:\n",
    "    json.dump(results, fopen)"
   ]
  }
 ],
 "metadata": {
  "kernelspec": {
   "display_name": "Python 3 (ipykernel)",
   "language": "python",
   "name": "python3"
  },
  "language_info": {
   "codemirror_mode": {
    "name": "ipython",
    "version": 3
   },
   "file_extension": ".py",
   "mimetype": "text/x-python",
   "name": "python",
   "nbconvert_exporter": "python",
   "pygments_lexer": "ipython3",
   "version": "3.8.10"
  }
 },
 "nbformat": 4,
 "nbformat_minor": 4
}
