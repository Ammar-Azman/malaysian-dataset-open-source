{
 "cells": [
  {
   "cell_type": "code",
   "execution_count": 1,
   "metadata": {},
   "outputs": [],
   "source": [
    "from glob import glob\n",
    "import pandas as pd\n",
    "import re"
   ]
  },
  {
   "cell_type": "code",
   "execution_count": 2,
   "metadata": {},
   "outputs": [],
   "source": [
    "from collections import defaultdict"
   ]
  },
  {
   "cell_type": "code",
   "execution_count": 3,
   "metadata": {},
   "outputs": [
    {
     "data": {
      "text/plain": [
       "['FAC/bangunan-bersejarah.txt',\n",
       " 'FAC/senarai-balai-bomba.csv',\n",
       " 'FAC/SENARAI SEKOLAH WEB KPM -JAN2020.csv',\n",
       " 'FAC/klinik-pergigian.txt',\n",
       " 'FAC/politeknik.txt',\n",
       " 'FAC/lapangan-terbang.txt',\n",
       " 'FAC/maktab-perguruan.txt',\n",
       " 'FAC/universiti.txt',\n",
       " 'FAC/hospital.txt',\n",
       " 'FAC/klinik-komuniti.txt',\n",
       " 'FAC/2019-senarai-balai-polis-pdrm--pada-april-2018.csv',\n",
       " 'FAC/bangunan-tertinggi-dunia.txt',\n",
       " 'FAC/bangunan-tertinggi-malaysia.txt',\n",
       " 'FAC/klinik-kerajaan.txt']"
      ]
     },
     "execution_count": 3,
     "metadata": {},
     "output_type": "execute_result"
    }
   ],
   "source": [
    "glob('FAC/*')"
   ]
  },
  {
   "cell_type": "code",
   "execution_count": 4,
   "metadata": {},
   "outputs": [
    {
     "data": {
      "text/plain": [
       "{'text': 'Bangunan Sultan Abdul Samad',\n",
       " 'entities': defaultdict(list,\n",
       "             {'bangunan bersejarah': ['Bangunan Sultan Abdul Samad'],\n",
       "              'facility': ['Bangunan Sultan Abdul Samad']})}"
      ]
     },
     "execution_count": 4,
     "metadata": {},
     "output_type": "execute_result"
    }
   ],
   "source": [
    "with open('FAC/bangunan-bersejarah.txt') as fopen:\n",
    "    data = fopen.read().split('\\n')\n",
    "\n",
    "results = []\n",
    "for d in data:\n",
    "    try:\n",
    "        d = d.split('. ')[1].strip()\n",
    "        if len(d):\n",
    "            entities = defaultdict(list)\n",
    "            entities['bangunan bersejarah'].append(d)\n",
    "            entities['facility'].append(d)\n",
    "            results.append({'text': d, 'entities': entities})\n",
    "    except:\n",
    "        pass\n",
    "    \n",
    "results[0]"
   ]
  },
  {
   "cell_type": "code",
   "execution_count": 5,
   "metadata": {},
   "outputs": [],
   "source": [
    "df = pd.read_csv('FAC/senarai-balai-bomba.csv').iloc[1:, 3]\n",
    "df = df.dropna().tolist()\n",
    "# df = random.sample(df, 30)\n",
    "balai = [re.sub(r'[ ]+', ' ', d).strip() for d in df if 'bbp' in d.lower()]\n",
    "balai_bomba = balai[:]\n",
    "for b in balai:\n",
    "    b = ' '.join(b.split()[1:])\n",
    "    balai_bomba.append('Balai Bomba ' + b)\n",
    "\n",
    "for d in balai_bomba:\n",
    "    try:\n",
    "        d = d.strip()\n",
    "        if len(d):\n",
    "            entities = defaultdict(list)\n",
    "            entities['balai bomba'].append(d)\n",
    "            entities['facility'].append(d)\n",
    "            results.append({'text': d, 'entities': entities})\n",
    "    except:\n",
    "        pass"
   ]
  },
  {
   "cell_type": "code",
   "execution_count": 6,
   "metadata": {},
   "outputs": [],
   "source": [
    "df = pd.read_csv('FAC/2019-senarai-balai-polis-pdrm--pada-april-2018.csv', encoding = \"ISO-8859-1\").iloc[4:, 2]\n",
    "df = df.dropna().tolist()\n",
    "balai_polis = [re.sub(r'[ ]+', ' ', d.title()).strip() for d in df if 'polis' in d.lower()]\n",
    "\n",
    "for d in balai_polis:\n",
    "    try:\n",
    "        d = d.strip()\n",
    "        if len(d):\n",
    "            entities = defaultdict(list)\n",
    "            entities['balai polis'].append(d)\n",
    "            entities['facility'].append(d)\n",
    "            results.append({'text': d, 'entities': entities})\n",
    "    except:\n",
    "        pass"
   ]
  },
  {
   "cell_type": "code",
   "execution_count": 7,
   "metadata": {},
   "outputs": [],
   "source": [
    "df = pd.read_csv('FAC/SENARAI SEKOLAH WEB KPM -JAN2020.csv', encoding = \"ISO-8859-1\").iloc[1:, 6]\n",
    "df = df.dropna().tolist()\n",
    "sekolah = [re.sub(r'[ ]+', ' ', d.title()).strip() for d in df if 'sekolah' in d.lower()]\n",
    "for d in sekolah:\n",
    "    try:\n",
    "        d = d.strip()\n",
    "        if len(d):\n",
    "            entities = defaultdict(list)\n",
    "            entities['sekolah'].append(d)\n",
    "            entities['facility'].append(d)\n",
    "            results.append({'text': d, 'entities': entities})\n",
    "    except:\n",
    "        pass"
   ]
  },
  {
   "cell_type": "code",
   "execution_count": 8,
   "metadata": {},
   "outputs": [],
   "source": [
    "with open('hospital.txt') as fopen:\n",
    "    data = fopen.read().split('\\n')\n",
    "    \n",
    "hospital = []\n",
    "for t in data:\n",
    "    try:\n",
    "        hospital.append(t.split(',')[0].strip())\n",
    "    except:\n",
    "        pass\n",
    "    \n",
    "for d in hospital:\n",
    "    try:\n",
    "        d = d.strip()\n",
    "        if len(d):\n",
    "            entities = defaultdict(list)\n",
    "            entities['hospital'].append(d)\n",
    "            entities['facility'].append(d)\n",
    "            results.append({'text': d, 'entities': entities})\n",
    "    except:\n",
    "        pass"
   ]
  },
  {
   "cell_type": "code",
   "execution_count": 9,
   "metadata": {},
   "outputs": [],
   "source": [
    "with open('klinik-kerajaan.txt') as fopen:\n",
    "    data = fopen.read().split('\\n')\n",
    "    \n",
    "klinik_kerajaan = []\n",
    "for t in data:\n",
    "    try:\n",
    "        klinik_kerajaan.append(t.split('\\t')[1])\n",
    "    except:\n",
    "        pass\n",
    "    \n",
    "for d in klinik_kerajaan:\n",
    "    try:\n",
    "        d = d.strip()\n",
    "        if len(d):\n",
    "            entities = defaultdict(list)\n",
    "            entities['klinik kerajaan'].append(d)\n",
    "            entities['facility'].append(d)\n",
    "            results.append({'text': d, 'entities': entities})\n",
    "    except:\n",
    "        pass"
   ]
  },
  {
   "cell_type": "code",
   "execution_count": 10,
   "metadata": {},
   "outputs": [],
   "source": [
    "with open('klinik-komuniti.txt') as fopen:\n",
    "    data = fopen.read().split('\\n')\n",
    "    \n",
    "klinik_komuniti = []\n",
    "for t in data:\n",
    "    try:\n",
    "        klinik_komuniti.append(t.split('\\t')[1])\n",
    "    except:\n",
    "        pass\n",
    "    \n",
    "for d in klinik_komuniti:\n",
    "    try:\n",
    "        d = d.strip()\n",
    "        if len(d):\n",
    "            entities = defaultdict(list)\n",
    "            entities['klinik komuniti'].append(d)\n",
    "            entities['facility'].append(d)\n",
    "            results.append({'text': d, 'entities': entities})\n",
    "    except:\n",
    "        pass"
   ]
  },
  {
   "cell_type": "code",
   "execution_count": 11,
   "metadata": {},
   "outputs": [],
   "source": [
    "with open('lapangan-terbang.txt') as fopen:\n",
    "    data = fopen.read().split('\\n')\n",
    "    \n",
    "lapangan_terbang = []\n",
    "for t in data:\n",
    "    try:\n",
    "        t = t.split('\\t')[-3]\n",
    "        if 'terbang' in t.lower() or 'pangkalan' in t.lower():\n",
    "            lapangan_terbang.append(t)\n",
    "    except:\n",
    "        pass\n",
    "    \n",
    "for d in lapangan_terbang:\n",
    "    try:\n",
    "        d = d.strip()\n",
    "        if len(d):\n",
    "            entities = defaultdict(list)\n",
    "            entities['lapangan terbang'].append(d)\n",
    "            entities['facility'].append(d)\n",
    "            results.append({'text': d, 'entities': entities})\n",
    "    except:\n",
    "        pass"
   ]
  },
  {
   "cell_type": "code",
   "execution_count": 12,
   "metadata": {},
   "outputs": [],
   "source": [
    "with open('politeknik.txt') as fopen:\n",
    "    data = fopen.read().split('\\n')\n",
    "    \n",
    "politeknik = []\n",
    "for t in data:\n",
    "    try:\n",
    "        politeknik.append(t.split(',')[0].strip())\n",
    "    except:\n",
    "        pass\n",
    "    \n",
    "for d in politeknik:\n",
    "    try:\n",
    "        d = d.strip()\n",
    "        if len(d):\n",
    "            entities = defaultdict(list)\n",
    "            entities['politeknik'].append(d)\n",
    "            entities['facility'].append(d)\n",
    "            results.append({'text': d, 'entities': entities})\n",
    "    except:\n",
    "        pass"
   ]
  },
  {
   "cell_type": "code",
   "execution_count": 13,
   "metadata": {},
   "outputs": [],
   "source": [
    "with open('universiti.txt') as fopen:\n",
    "    data = fopen.read().split('\\n')[2:]\n",
    "    \n",
    "data = [d.split(',')[0].strip() for d in data]\n",
    "universiti = data[:]\n",
    "for d in data:\n",
    "    try:\n",
    "        d = d.split('(', 1)[1].split(')')[0]\n",
    "        universiti.append(d)\n",
    "    except:\n",
    "        pass\n",
    "    \n",
    "universiti = list(filter(None, universiti))\n",
    "\n",
    "for d in universiti:\n",
    "    try:\n",
    "        d = d.strip()\n",
    "        if len(d):\n",
    "            entities = defaultdict(list)\n",
    "            entities['universiti'].append(d)\n",
    "            entities['facility'].append(d)\n",
    "            results.append({'text': d, 'entities': entities})\n",
    "    except:\n",
    "        pass"
   ]
  },
  {
   "cell_type": "code",
   "execution_count": 15,
   "metadata": {},
   "outputs": [
    {
     "data": {
      "text/plain": [
       "12757"
      ]
     },
     "execution_count": 15,
     "metadata": {},
     "output_type": "execute_result"
    }
   ],
   "source": [
    "len(results)"
   ]
  },
  {
   "cell_type": "code",
   "execution_count": 16,
   "metadata": {},
   "outputs": [],
   "source": [
    "import json\n",
    "\n",
    "with open('augmentation-facilities.json', 'w') as fopen:\n",
    "    json.dump(results, fopen)"
   ]
  }
 ],
 "metadata": {
  "kernelspec": {
   "display_name": "Python 3 (ipykernel)",
   "language": "python",
   "name": "python3"
  },
  "language_info": {
   "codemirror_mode": {
    "name": "ipython",
    "version": 3
   },
   "file_extension": ".py",
   "mimetype": "text/x-python",
   "name": "python",
   "nbconvert_exporter": "python",
   "pygments_lexer": "ipython3",
   "version": "3.8.10"
  }
 },
 "nbformat": 4,
 "nbformat_minor": 4
}
