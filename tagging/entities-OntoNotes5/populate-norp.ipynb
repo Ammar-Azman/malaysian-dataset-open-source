{
 "cells": [
  {
   "cell_type": "code",
   "execution_count": 1,
   "metadata": {},
   "outputs": [],
   "source": [
    "from glob import glob"
   ]
  },
  {
   "cell_type": "code",
   "execution_count": 2,
   "metadata": {},
   "outputs": [],
   "source": [
    "from collections import defaultdict"
   ]
  },
  {
   "cell_type": "code",
   "execution_count": 3,
   "metadata": {},
   "outputs": [],
   "source": [
    "with open('NORP/agama.txt') as fopen:\n",
    "    data = fopen.read().split('\\n')\n",
    "\n",
    "results = []\n",
    "agama = data[:]\n",
    "agama = list(filter(None, agama))\n",
    "for d in agama:\n",
    "    d = d.strip()\n",
    "    if len(d):\n",
    "        entities = defaultdict(list)\n",
    "        entities['agama'].append(d)\n",
    "        entities['norp'].append(d)\n",
    "        results.append({'text': d, 'entities': entities})"
   ]
  },
  {
   "cell_type": "code",
   "execution_count": 4,
   "metadata": {},
   "outputs": [],
   "source": [
    "with open('etnik.txt') as fopen:\n",
    "    data = fopen.read().split('\\n')\n",
    "    \n",
    "etnik = data[:]\n",
    "etnik = list(filter(None, etnik))\n",
    "for d in etnik:\n",
    "    d = d.strip()\n",
    "    if len(d):\n",
    "        entities = defaultdict(list)\n",
    "        entities['etnik'].append(d)\n",
    "        entities['norp'].append(d)\n",
    "        results.append({'text': d, 'entities': entities})"
   ]
  },
  {
   "cell_type": "code",
   "execution_count": 5,
   "metadata": {},
   "outputs": [],
   "source": [
    "with open('parti-dunia.txt') as fopen:\n",
    "    data = fopen.read().split('\\n')\n",
    "    \n",
    "parti_dunia = [i.split('(')[0].strip() for i in data]\n",
    "for d in data:\n",
    "    try:\n",
    "        parti_dunia.append(d.split('(', 1)[1].split(')')[0])\n",
    "    except:\n",
    "        pass\n",
    "    \n",
    "len(parti_dunia)\n",
    "for d in parti_dunia:\n",
    "    d = d.strip()\n",
    "    if len(d):\n",
    "        entities = defaultdict(list)\n",
    "        entities['parti politik'].append(d)\n",
    "        entities['norp'].append(d)\n",
    "        results.append({'text': d, 'entities': entities})"
   ]
  },
  {
   "cell_type": "code",
   "execution_count": 6,
   "metadata": {},
   "outputs": [],
   "source": [
    "with open('parti-malaysia.txt') as fopen:\n",
    "    data = fopen.read().split('\\n')\n",
    "    \n",
    "parti_malaysia = []\n",
    "for d in data:\n",
    "    d = d.split('\\t')[:3]\n",
    "    d = [i.replace('- ', '').replace('*', '').strip() for i in d]\n",
    "    d = [i for i in d if len(i) > 2]\n",
    "    parti_malaysia.extend(d)\n",
    "    \n",
    "for d in parti_malaysia:\n",
    "    d = d.strip()\n",
    "    if len(d):\n",
    "        entities = defaultdict(list)\n",
    "        entities['parti politik malaysia'].append(d)\n",
    "        entities['norp'].append(d)\n",
    "        results.append({'text': d, 'entities': entities})"
   ]
  },
  {
   "cell_type": "code",
   "execution_count": 7,
   "metadata": {},
   "outputs": [
    {
     "data": {
      "text/plain": [
       "2440"
      ]
     },
     "execution_count": 7,
     "metadata": {},
     "output_type": "execute_result"
    }
   ],
   "source": [
    "len(results)"
   ]
  },
  {
   "cell_type": "code",
   "execution_count": 8,
   "metadata": {},
   "outputs": [],
   "source": [
    "import json\n",
    "\n",
    "with open('augmentation-norp.json', 'w') as fopen:\n",
    "    json.dump(results, fopen)"
   ]
  }
 ],
 "metadata": {
  "kernelspec": {
   "display_name": "Python 3 (ipykernel)",
   "language": "python",
   "name": "python3"
  },
  "language_info": {
   "codemirror_mode": {
    "name": "ipython",
    "version": 3
   },
   "file_extension": ".py",
   "mimetype": "text/x-python",
   "name": "python",
   "nbconvert_exporter": "python",
   "pygments_lexer": "ipython3",
   "version": "3.8.10"
  }
 },
 "nbformat": 4,
 "nbformat_minor": 4
}
