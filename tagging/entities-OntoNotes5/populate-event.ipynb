{
 "cells": [
  {
   "cell_type": "code",
   "execution_count": 2,
   "metadata": {},
   "outputs": [],
   "source": [
    "from glob import glob"
   ]
  },
  {
   "cell_type": "code",
   "execution_count": 3,
   "metadata": {},
   "outputs": [],
   "source": [
    "from collections import defaultdict"
   ]
  },
  {
   "cell_type": "code",
   "execution_count": 4,
   "metadata": {},
   "outputs": [
    {
     "data": {
      "text/plain": [
       "['EVENT/karnival-expo.txt',\n",
       " 'EVENT/acara-pertandingan.txt',\n",
       " 'EVENT/cuti-malaysia.txt']"
      ]
     },
     "execution_count": 4,
     "metadata": {},
     "output_type": "execute_result"
    }
   ],
   "source": [
    "glob('EVENT/*')"
   ]
  },
  {
   "cell_type": "code",
   "execution_count": 5,
   "metadata": {},
   "outputs": [
    {
     "data": {
      "text/plain": [
       "{'text': 'Karnival Usahawan Desa (KUD)',\n",
       " 'entities': defaultdict(list,\n",
       "             {'karnival': ['Karnival Usahawan Desa (KUD)'],\n",
       "              'event': ['Karnival Usahawan Desa (KUD)']})}"
      ]
     },
     "execution_count": 5,
     "metadata": {},
     "output_type": "execute_result"
    }
   ],
   "source": [
    "with open('EVENT/karnival-expo.txt') as fopen:\n",
    "    data = fopen.read().split('\\n')\n",
    "\n",
    "results = []\n",
    "for d in data:\n",
    "    d = d.strip()\n",
    "    if len(d):\n",
    "        entities = defaultdict(list)\n",
    "        entities['karnival'].append(d)\n",
    "        entities['event'].append(d)\n",
    "        results.append({'text': d, 'entities': entities})\n",
    "    \n",
    "results[0]"
   ]
  },
  {
   "cell_type": "code",
   "execution_count": 6,
   "metadata": {},
   "outputs": [],
   "source": [
    "with open('EVENT/acara-pertandingan.txt') as fopen:\n",
    "    data = fopen.read().split('\\n')\n",
    "\n",
    "for d in data:\n",
    "    d = d.strip()\n",
    "    if len(d):\n",
    "        entities = defaultdict(list)\n",
    "        entities['acara sukan'].append(d)\n",
    "        entities['event'].append(d)\n",
    "        results.append({'text': d, 'entities': entities})"
   ]
  },
  {
   "cell_type": "code",
   "execution_count": 7,
   "metadata": {},
   "outputs": [],
   "source": [
    "with open('EVENT/cuti-malaysia.txt') as fopen:\n",
    "    data = fopen.read().split('\\n')\n",
    "\n",
    "for d in data:\n",
    "    d = d.strip()\n",
    "    if len(d):\n",
    "        entities = defaultdict(list)\n",
    "        entities['cuti'].append(d)\n",
    "        entities['event'].append(d)\n",
    "        results.append({'text': d, 'entities': entities})"
   ]
  },
  {
   "cell_type": "code",
   "execution_count": 8,
   "metadata": {},
   "outputs": [],
   "source": [
    "import json\n",
    "\n",
    "with open('augmentation-event.json', 'w') as fopen:\n",
    "    json.dump(results, fopen)"
   ]
  }
 ],
 "metadata": {
  "kernelspec": {
   "display_name": "Python 3 (ipykernel)",
   "language": "python",
   "name": "python3"
  },
  "language_info": {
   "codemirror_mode": {
    "name": "ipython",
    "version": 3
   },
   "file_extension": ".py",
   "mimetype": "text/x-python",
   "name": "python",
   "nbconvert_exporter": "python",
   "pygments_lexer": "ipython3",
   "version": "3.8.10"
  }
 },
 "nbformat": 4,
 "nbformat_minor": 4
}
