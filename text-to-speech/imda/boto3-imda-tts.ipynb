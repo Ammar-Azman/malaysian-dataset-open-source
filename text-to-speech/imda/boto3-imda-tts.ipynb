{
 "cells": [
  {
   "cell_type": "code",
   "execution_count": 1,
   "id": "67113a67",
   "metadata": {},
   "outputs": [],
   "source": [
    "import os\n",
    "\n",
    "os.environ['AWS_ENDPOINT_URL'] = 'https://s3.us-west-000.backblazeb2.com'\n",
    "os.environ['AWS_ACCESS_KEY_ID'] = ''\n",
    "os.environ['AWS_SECRET_ACCESS_KEY'] = ''"
   ]
  },
  {
   "cell_type": "code",
   "execution_count": 2,
   "id": "d95255a4",
   "metadata": {},
   "outputs": [],
   "source": [
    "from tqdm import tqdm\n",
    "import boto3\n",
    "import subprocess\n",
    "from unidecode import unidecode\n",
    "import IPython.display as ipd\n",
    "from glob import glob\n",
    "\n",
    "os.makedirs('imda-tts', exist_ok = True)\n",
    "os.makedirs('imda-tts-audio', exist_ok = True)"
   ]
  },
  {
   "cell_type": "code",
   "execution_count": 3,
   "id": "36a92fe4",
   "metadata": {},
   "outputs": [],
   "source": [
    "session = boto3.Session()"
   ]
  },
  {
   "cell_type": "code",
   "execution_count": 4,
   "id": "74f0439e",
   "metadata": {},
   "outputs": [],
   "source": [
    "s3 = session.resource('s3')\n",
    "bucket = s3.Bucket('imda-singapore')"
   ]
  },
  {
   "cell_type": "code",
   "execution_count": 5,
   "id": "52c69b17",
   "metadata": {},
   "outputs": [
    {
     "name": "stderr",
     "output_type": "stream",
     "text": [
      "1it [00:01,  1.42s/it]\n"
     ]
    }
   ],
   "source": [
    "for f in tqdm(bucket.objects.filter(Prefix='PART1/TTS/CHANNEL0/SCRIPT')):\n",
    "    filename = os.path.join('imda-tts', os.path.split(f.key)[1])\n",
    "    if os.path.exists(filename):\n",
    "        continue\n",
    "                            \n",
    "    bucket.download_file(f.key, filename)"
   ]
  },
  {
   "cell_type": "code",
   "execution_count": 23,
   "id": "27a45b99",
   "metadata": {},
   "outputs": [
    {
     "name": "stderr",
     "output_type": "stream",
     "text": [
      "1it [00:24, 24.79s/it]\n"
     ]
    }
   ],
   "source": [
    "for f in tqdm(bucket.objects.filter(Prefix='PART1/TTS/CHANNEL0/WAVE')):\n",
    "    filename = os.path.join('imda-tts-audio', os.path.split(f.key)[1])\n",
    "    if os.path.exists(filename):\n",
    "        continue\n",
    "                            \n",
    "    bucket.download_file(f.key, filename)"
   ]
  },
  {
   "cell_type": "code",
   "execution_count": 24,
   "id": "596671c9",
   "metadata": {},
   "outputs": [
    {
     "name": "stdout",
     "output_type": "stream",
     "text": [
      "FEMALE_01  FEMALE_01.zip\r\n"
     ]
    }
   ],
   "source": [
    "!ls imda-tts-audio"
   ]
  },
  {
   "cell_type": "code",
   "execution_count": 25,
   "id": "0bdd95f5",
   "metadata": {},
   "outputs": [],
   "source": [
    "!rm -rf imda-tts-audio/FEMALE_01"
   ]
  },
  {
   "cell_type": "code",
   "execution_count": 26,
   "id": "752821f1",
   "metadata": {},
   "outputs": [
    {
     "name": "stdout",
     "output_type": "stream",
     "text": [
      "FEMALE_01.txt\r\n"
     ]
    }
   ],
   "source": [
    "!ls imda-tts"
   ]
  },
  {
   "cell_type": "code",
   "execution_count": 27,
   "id": "a80bafae",
   "metadata": {},
   "outputs": [
    {
     "data": {
      "text/plain": [
       "6033"
      ]
     },
     "execution_count": 27,
     "metadata": {},
     "output_type": "execute_result"
    }
   ],
   "source": [
    "with open('imda-tts/FEMALE_01.txt') as fopen:\n",
    "    text = fopen.read().split('\\n')\n",
    "len(text)"
   ]
  },
  {
   "cell_type": "code",
   "execution_count": 28,
   "id": "81db4f49",
   "metadata": {
    "scrolled": true
   },
   "outputs": [
    {
     "data": {
      "text/plain": [
       "'0000\\tAuthor of the danger trail, Philip Steels, etc.'"
      ]
     },
     "execution_count": 28,
     "metadata": {},
     "output_type": "execute_result"
    }
   ],
   "source": [
    "text[0]"
   ]
  },
  {
   "cell_type": "code",
   "execution_count": 33,
   "id": "b34ba8bf",
   "metadata": {},
   "outputs": [
    {
     "data": {
      "text/plain": [
       "{'filename': '0001.wav',\n",
       " 'text': 'Not at this particular case, Tom, apologized Whittemore.'}"
      ]
     },
     "execution_count": 33,
     "metadata": {},
     "output_type": "execute_result"
    }
   ],
   "source": [
    "filtered = []\n",
    "for t in text:\n",
    "    splitted = t.split('\\t')\n",
    "    if len(splitted) == 2:\n",
    "        filename = f'{splitted[0]}.wav'\n",
    "        t = splitted[1]\n",
    "        filtered.append({\n",
    "            'filename': filename,\n",
    "            'text': t,\n",
    "        })\n",
    "        \n",
    "filtered[1]"
   ]
  },
  {
   "cell_type": "code",
   "execution_count": 35,
   "id": "64753b9c",
   "metadata": {},
   "outputs": [],
   "source": [
    "import json\n",
    "\n",
    "with open('texts.json', 'w') as fopen:\n",
    "    json.dump(filtered, fopen)"
   ]
  },
  {
   "cell_type": "code",
   "execution_count": 29,
   "id": "e4e9cd8e",
   "metadata": {},
   "outputs": [],
   "source": [
    "from huggingface_hub import HfApi\n",
    "api = HfApi()"
   ]
  },
  {
   "cell_type": "code",
   "execution_count": 30,
   "id": "d451ead6",
   "metadata": {},
   "outputs": [
    {
     "data": {
      "application/vnd.jupyter.widget-view+json": {
       "model_id": "1b1ca37c4af743148847de5a2910dcd4",
       "version_major": 2,
       "version_minor": 0
      },
      "text/plain": [
       "FEMALE_01.zip:   0%|          | 0.00/1.82G [00:00<?, ?B/s]"
      ]
     },
     "metadata": {},
     "output_type": "display_data"
    },
    {
     "data": {
      "text/plain": [
       "'https://huggingface.co/datasets/mesolitica/IMDA-TTS/blob/main/FEMALE_01.zip'"
      ]
     },
     "execution_count": 30,
     "metadata": {},
     "output_type": "execute_result"
    }
   ],
   "source": [
    "api.upload_file(\n",
    "    path_or_fileobj='imda-tts-audio/FEMALE_01.zip',\n",
    "    path_in_repo='FEMALE_01.zip',\n",
    "    repo_id='mesolitica/IMDA-TTS',\n",
    "    repo_type='dataset',\n",
    ")"
   ]
  },
  {
   "cell_type": "code",
   "execution_count": 36,
   "id": "7e7e816f",
   "metadata": {},
   "outputs": [
    {
     "data": {
      "text/plain": [
       "'https://huggingface.co/datasets/mesolitica/IMDA-TTS/blob/main/texts.json'"
      ]
     },
     "execution_count": 36,
     "metadata": {},
     "output_type": "execute_result"
    }
   ],
   "source": [
    "api.upload_file(\n",
    "    path_or_fileobj='texts.json',\n",
    "    path_in_repo='texts.json',\n",
    "    repo_id='mesolitica/IMDA-TTS',\n",
    "    repo_type='dataset',\n",
    ")"
   ]
  }
 ],
 "metadata": {
  "kernelspec": {
   "display_name": "Python 3 (ipykernel)",
   "language": "python",
   "name": "python3"
  },
  "language_info": {
   "codemirror_mode": {
    "name": "ipython",
    "version": 3
   },
   "file_extension": ".py",
   "mimetype": "text/x-python",
   "name": "python",
   "nbconvert_exporter": "python",
   "pygments_lexer": "ipython3",
   "version": "3.10.12"
  }
 },
 "nbformat": 4,
 "nbformat_minor": 5
}
