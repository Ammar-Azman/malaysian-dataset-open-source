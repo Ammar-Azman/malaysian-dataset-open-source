{
 "cells": [
  {
   "cell_type": "code",
   "execution_count": 1,
   "id": "89b8688f",
   "metadata": {},
   "outputs": [],
   "source": [
    "# !wget https://huggingface.co/datasets/mesolitica/kesalahan-tatabahasa/resolve/main/train.jsonl -O tatabahasa1.jsonl"
   ]
  },
  {
   "cell_type": "code",
   "execution_count": 2,
   "id": "cf9e8412",
   "metadata": {},
   "outputs": [],
   "source": [
    "# !wget https://huggingface.co/datasets/mesolitica/kesalahan-tatabahasa/resolve/main/train2.jsonl -O tatabahasa2.jsonl"
   ]
  },
  {
   "cell_type": "code",
   "execution_count": 3,
   "id": "d1b0a82f",
   "metadata": {},
   "outputs": [
    {
     "data": {
      "text/plain": [
       "16"
      ]
     },
     "execution_count": 3,
     "metadata": {},
     "output_type": "execute_result"
    }
   ],
   "source": [
    "describe = [\n",
    "    {'class': 0,\n",
    "     'Description': 'PAD',\n",
    "     'salah': '',\n",
    "     'betul': ''},\n",
    "    {'class': 1,\n",
    "     'Description': 'kesambungan subwords',\n",
    "     'salah': '',\n",
    "     'betul': '',\n",
    "     },\n",
    "    {'class': 2,\n",
    "     'Description': 'tiada kesalahan',\n",
    "     'salah': '',\n",
    "     'betul': '',\n",
    "     },\n",
    "    {'class': 3,\n",
    "     'Description': 'kesalahan frasa nama, Perkara yang diterangkan mesti mendahului \"penerang\"',\n",
    "     'salah': 'Cili sos',\n",
    "     'betul': 'sos cili',\n",
    "     },\n",
    "    {'class': 4,\n",
    "     'Description': 'kesalahan kata jamak',\n",
    "     'salah': 'mereka-mereka',\n",
    "     'betul': 'mereka',\n",
    "     },\n",
    "    {'class': 5,\n",
    "     'Description': 'kesalahan kata penguat',\n",
    "     'salah': 'sangat tinggi sekali',\n",
    "     'betul': 'sangat tinggi',\n",
    "     },\n",
    "    {'class': 6,\n",
    "     'Description': 'kata adjektif dan imbuhan \"ter\" tanpa penguat.',\n",
    "     'salah': 'Sani mendapat markah yang tertinggi sekali.',\n",
    "     'betul': 'Sani mendapat markah yang tertinggi.',\n",
    "     },\n",
    "    {'class': 7,\n",
    "     'Description': 'kesalahan kata hubung',\n",
    "     'salah': 'Sally sedang membaca bila saya tiba di rumahnya.',\n",
    "     'betul': 'Sally sedang membaca apabila saya tiba di rumahnya.',\n",
    "     },\n",
    "    {'class': 8,\n",
    "     'Description': 'kesalahan kata bilangan',\n",
    "     'salah': 'Beribu peniaga tidak membayar cukai pendapatan.',\n",
    "     'betul': 'Beribu-ribu peniaga tidak membayar cukai pendapatan',\n",
    "     },\n",
    "    {'class': 9,\n",
    "     'Description': 'kesalahan kata sendi',\n",
    "     'salah': 'Umar telah berpindah daripada sekolah ini bulan lalu.',\n",
    "     'betul': 'Umar telah berpindah dari sekolah ini bulan lalu.',\n",
    "     },\n",
    "    {'class': 10,\n",
    "     'Description': 'kesalahan penjodoh bilangan',\n",
    "     'salah': 'Setiap orang pelajar',\n",
    "     'betul': 'Setiap pelajar.',\n",
    "     },\n",
    "    {'class': 11,\n",
    "     'Description': 'kesalahan kata ganti diri',\n",
    "     'salah': 'Pencuri itu telah ditangkap. Beliau dibawa ke balai polis.',\n",
    "     'betul': 'Pencuri itu telah ditangkap. Dia dibawa ke balai polis.',\n",
    "     },\n",
    "    {'class': 12,\n",
    "     'Description': 'kesalahan ayat pasif',\n",
    "     'salah': 'Cerpen itu telah dikarang oleh saya.',\n",
    "     'betul': 'Cerpen itu telah saya karang.',\n",
    "     },\n",
    "    {'class': 13,\n",
    "     'Description': 'kesalahan kata tanya',\n",
    "     'salah': 'Kamu berasal dari manakah ?',\n",
    "     'betul': 'Kamu berasal dari mana ?',\n",
    "     },\n",
    "    {'class': 14,\n",
    "     'Description': 'kesalahan tanda baca',\n",
    "     'salah': 'Kamu berasal dari manakah .',\n",
    "     'betul': 'Kamu berasal dari mana ?',\n",
    "     },\n",
    "    {'class': 15,\n",
    "     'Description': 'kesalahan kata kerja tak transitif',\n",
    "     'salah': 'Dia kata kepada saya',\n",
    "     'betul': 'Dia berkata kepada saya',\n",
    "     },\n",
    "    {'class': 16,\n",
    "     'Description': 'kesalahan kata kerja transitif',\n",
    "     'salah': 'Dia suka baca buku',\n",
    "     'betul': 'Dia suka membaca buku',\n",
    "     },\n",
    "    {'class': 17,\n",
    "     'Description': 'penggunaan kata yang tidak tepat',\n",
    "     'salah': 'Tembuk Besar negeri Cina dibina oleh Shih Huang Ti.',\n",
    "     'betul': 'Tembok Besar negeri Cina dibina oleh Shih Huang Ti',\n",
    "     },\n",
    "]\n",
    "\n",
    "kesalahan = {}\n",
    "for d in describe[2:]:\n",
    "    kesalahan[d['class']] = d['Description']\n",
    "    \n",
    "len(kesalahan)"
   ]
  },
  {
   "cell_type": "code",
   "execution_count": 4,
   "id": "77d1e8d1",
   "metadata": {},
   "outputs": [],
   "source": [
    "keys = set(kesalahan.keys())\n",
    "choice = {0: 'A', 1: 'B', 2: 'C', 3: 'D'}"
   ]
  },
  {
   "cell_type": "code",
   "execution_count": 6,
   "id": "c34d3d52",
   "metadata": {},
   "outputs": [],
   "source": [
    "import random"
   ]
  },
  {
   "cell_type": "code",
   "execution_count": 7,
   "id": "fb5f8e08",
   "metadata": {
    "scrolled": true
   },
   "outputs": [
    {
     "name": "stderr",
     "output_type": "stream",
     "text": [
      "497050it [00:09, 54756.71it/s]\n",
      "497079it [00:09, 52829.75it/s]\n"
     ]
    },
    {
     "data": {
      "text/plain": [
       "1462807"
      ]
     },
     "execution_count": 7,
     "metadata": {},
     "output_type": "execute_result"
    }
   ],
   "source": [
    "import json\n",
    "from tqdm import tqdm\n",
    "\n",
    "qa = []\n",
    "\n",
    "for f in ['tatabahasa1.jsonl', 'tatabahasa2.jsonl']:\n",
    "    with open(f) as fopen:\n",
    "        for l in tqdm(fopen):\n",
    "            l = json.loads(l)\n",
    "            \n",
    "            if len(l[0]) < 5:\n",
    "                continue\n",
    "            if len(l[0]) != len(l[1]):\n",
    "                continue\n",
    "            for i in range(len(l[1])):\n",
    "                if l[1][i][1] not in {3}:\n",
    "                    t = l[1][i][0]\n",
    "                    if l[1][i][1] == 2:\n",
    "                        if t.istitle() or t.isupper():\n",
    "                            continue\n",
    "                        if len(t) < 3:\n",
    "                            continue\n",
    "\n",
    "                        if random.random() > 0.1:\n",
    "                            continue\n",
    "\n",
    "                    if random.random() > 0.3:\n",
    "                        continue\n",
    "\n",
    "                    k = [l[1][k][0] for k in range(i)] + [f'({l[1][i][0]})'] + [l[1][k][0] for k in range(i + 1, len(l[1]), 1)]\n",
    "                    choices = random.sample(keys - {l[1][i][1]}, 3) + [l[1][i][1]]\n",
    "                    random.shuffle(choices)\n",
    "                    jawapan = [choice[no] for no, c in enumerate(choices) if c == l[1][i][1]]\n",
    "                    choices = {choice[no]: kesalahan[c] for no, c in enumerate(choices)}\n",
    "                    q = {\n",
    "                        'soalan': f'Apakah kesalahan tatabahasa untuk ({l[1][i][0]})',\n",
    "                        'konteks': ' '.join(k),\n",
    "                        'choice': choices,\n",
    "                        'jawapan': jawapan[0],\n",
    "                        'pembetulan': l[0][i][0]\n",
    "                    }\n",
    "                    qa.append(q)\n",
    "                \n",
    "len(qa)"
   ]
  },
  {
   "cell_type": "code",
   "execution_count": 8,
   "id": "45503240",
   "metadata": {},
   "outputs": [],
   "source": [
    "with open('kesalahan-tatabahasa-choice.jsonl', 'w') as fopen:\n",
    "    for q in qa:\n",
    "        fopen.write(f'{json.dumps(q)}\\n')"
   ]
  },
  {
   "cell_type": "code",
   "execution_count": null,
   "id": "09ef02a6",
   "metadata": {},
   "outputs": [],
   "source": []
  }
 ],
 "metadata": {
  "kernelspec": {
   "display_name": "Python 3 (ipykernel)",
   "language": "python",
   "name": "python3"
  },
  "language_info": {
   "codemirror_mode": {
    "name": "ipython",
    "version": 3
   },
   "file_extension": ".py",
   "mimetype": "text/x-python",
   "name": "python",
   "nbconvert_exporter": "python",
   "pygments_lexer": "ipython3",
   "version": "3.8.10"
  }
 },
 "nbformat": 4,
 "nbformat_minor": 5
}
