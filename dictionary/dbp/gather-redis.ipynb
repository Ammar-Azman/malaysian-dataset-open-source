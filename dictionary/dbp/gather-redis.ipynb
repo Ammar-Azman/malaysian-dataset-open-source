{
 "cells": [
  {
   "cell_type": "code",
   "execution_count": 2,
   "metadata": {},
   "outputs": [],
   "source": [
    "import redis"
   ]
  },
  {
   "cell_type": "code",
   "execution_count": 3,
   "metadata": {},
   "outputs": [],
   "source": [
    "db = redis.Redis(host='localhost', port=6379, db=11)"
   ]
  },
  {
   "cell_type": "code",
   "execution_count": 4,
   "metadata": {},
   "outputs": [],
   "source": [
    "keys = db.keys()"
   ]
  },
  {
   "cell_type": "code",
   "execution_count": 5,
   "metadata": {},
   "outputs": [
    {
     "data": {
      "text/plain": [
       "187385"
      ]
     },
     "execution_count": 5,
     "metadata": {},
     "output_type": "execute_result"
    }
   ],
   "source": [
    "len(keys)"
   ]
  },
  {
   "cell_type": "code",
   "execution_count": 6,
   "metadata": {},
   "outputs": [],
   "source": [
    "import json"
   ]
  },
  {
   "cell_type": "code",
   "execution_count": 7,
   "metadata": {},
   "outputs": [
    {
     "data": {
      "text/plain": [
       "b'tenggok'"
      ]
     },
     "execution_count": 7,
     "metadata": {},
     "output_type": "execute_result"
    }
   ],
   "source": [
    "keys[0]"
   ]
  },
  {
   "cell_type": "code",
   "execution_count": 14,
   "metadata": {},
   "outputs": [
    {
     "data": {
      "text/plain": [
       "b'{\"definisi\": [\"[a.gung]  |  \\\\u0627\\\\u0762\\\\u0648\\\\u06a0Definisi : 1. (paling) besar, terutama: balai ~; layar ~; tiang ~; 2. yg tertinggi: pemerintah ~; 3. teristimewa, terkemuka, terutama: Allahyarham Tun Abdul Razak seorang pemimpin yg ~; Allahyarham P. Ramlee seniman ~ Malaysia; tamu ~; 4. yg terbuka kpd dan utk dihadiri oleh semua ahli (bkn mesyuarat, persidangan, dsb): persidangan ~ UMNO; mesyuarat ~ Kesatuan Sekerja DBP; mengagungkan menjadikan (menganggap dsb) agung, membesarkan, memuliakan, me\\\\u00adninggikan: al-Quran ~ ilmu pengetahuan dan memuliakan ahli ilmu; mengagung-agungkan selalu (sering kali) mengagungkan, sangat mengagungkan; keagungan kebesaran, kemuliaan, keting\\\\u00adgian: ~ Abdullah sbg pengarang terletak pd konsepsinya yg moden; keagungan kebesaran, kemuliaan, keting\\\\u00adgian: ~ Abdullah sbg pengarang terletak pd konsepsinya yg moden; pengagungan perbuatan dsb mengagungkan: antara yg menghalang perkembangan pesat bahasa Melayu ialah kekurangan bahan rujuk\\\\u00ad\\\\u00adan dlm bahasa itu dan ~ bahasa Inggeris.\\\\u00a0(Kamus Dewan Edisi Keempat)\", \"[a.gung]  |  \\\\u0627\\\\u0762\\\\u0648\\\\u06a0Definisi : teragung, teragung-agung ter\\\\u00adhan\\\\u00adtuk (kepala, buah-buahan); ragung.\\\\u00a0(Kamus Dewan Edisi Keempat)\", \"[a.gung]  |  \\\\u0627\\\\u0762\\\\u0648\\\\u06a0Definisi : 1 tertinggi: Allah yg Maha ~. 2 besar: tiang ~; layar ~. mengagungkan menganggap agung; memuliakan; meluhurkan: Sbg rakyat yg setia, kita mesti ~ bahasa Melayu. keagungan keadaan agung; kemuliaan; keluhuran: ~ kerajaan Melayu Melaka telah mencapai kemuncaknya pd zaman pemerintahan Sultan Mansur Syah.\\\\u00a0(Kamus Pelajar Edisi Kedua)\"], \"tesaurus\": null}'"
      ]
     },
     "execution_count": 14,
     "metadata": {},
     "output_type": "execute_result"
    }
   ],
   "source": [
    "db['agung']"
   ]
  },
  {
   "cell_type": "code",
   "execution_count": 17,
   "metadata": {},
   "outputs": [],
   "source": [
    "d = json.loads(db[keys[0]])"
   ]
  },
  {
   "cell_type": "code",
   "execution_count": 32,
   "metadata": {},
   "outputs": [
    {
     "name": "stderr",
     "output_type": "stream",
     "text": [
      "100%|████████████████████████████████████████████████████████████████████████████████| 187385/187385 [00:05<00:00, 31504.46it/s]\n"
     ]
    }
   ],
   "source": [
    "from tqdm import tqdm\n",
    "\n",
    "selected = {}\n",
    "\n",
    "for k in tqdm(keys):\n",
    "    d = json.loads(db[k])\n",
    "    if not len(d['definisi']):\n",
    "        continue\n",
    "        \n",
    "    selected[k.decode()] = d"
   ]
  },
  {
   "cell_type": "code",
   "execution_count": 31,
   "metadata": {
    "scrolled": true
   },
   "outputs": [
    {
     "data": {
      "text/plain": [
       "3"
      ]
     },
     "execution_count": 31,
     "metadata": {},
     "output_type": "execute_result"
    }
   ],
   "source": [
    "len(json.loads(db['agung'])['definisi'])"
   ]
  },
  {
   "cell_type": "code",
   "execution_count": 25,
   "metadata": {},
   "outputs": [
    {
     "data": {
      "text/plain": [
       "31589"
      ]
     },
     "execution_count": 25,
     "metadata": {},
     "output_type": "execute_result"
    }
   ],
   "source": [
    "len(selected)"
   ]
  },
  {
   "cell_type": "code",
   "execution_count": 41,
   "metadata": {},
   "outputs": [],
   "source": [
    "import re\n",
    "from unidecode import unidecode\n",
    "\n",
    "alphabet = 'qwertyuiopasdfghjklzxcvbnm'\n",
    "consonants = 'bcdfghjklmnpqrstvwxyz'\n",
    "vowels = 'aeiou'\n",
    "PUNCTUATION = '!\"#$%&\\'()*+,./:;<=>?@[\\]^_`{|}~'"
   ]
  },
  {
   "cell_type": "code",
   "execution_count": 42,
   "metadata": {},
   "outputs": [],
   "source": [
    "import enchant\n",
    "d = enchant.Dict('en_US')"
   ]
  },
  {
   "cell_type": "code",
   "execution_count": 71,
   "metadata": {},
   "outputs": [
    {
     "name": "stderr",
     "output_type": "stream",
     "text": [
      "100%|███████████████████████████████████████████████████████████████████████████████████| 31589/31589 [00:08<00:00, 3776.55it/s]\n"
     ]
    }
   ],
   "source": [
    "results = set()\n",
    "\n",
    "for data in tqdm(selected.values()):\n",
    "    \n",
    "    texts = []\n",
    "    for definisi in data['definisi']:\n",
    "        texts.extend(definisi.split('Definisi : ')[1].split())\n",
    "\n",
    "    if data['tesaurus']:\n",
    "        texts.extend(data['tesaurus'])\n",
    "    \n",
    "    for k in range(len(texts)):\n",
    "        \n",
    "        t = texts[k]\n",
    "        t = unidecode(t)\n",
    "        t = t.replace('--', '-')\n",
    "        for p in PUNCTUATION:\n",
    "            t = t.replace(p, '')\n",
    "\n",
    "        if all([c in consonants for c in t]):\n",
    "            continue\n",
    "\n",
    "        if len(t) <= 3:\n",
    "            continue\n",
    "\n",
    "        if len(re.findall(r'\\d+', t)):\n",
    "            continue\n",
    "\n",
    "        if t[0] in '-':\n",
    "            continue\n",
    "\n",
    "        if t in ['yg', 'utk']:\n",
    "            continue\n",
    "            \n",
    "        if t[-1] in '-':\n",
    "            continue\n",
    "        \n",
    "        if 'dll' in t:\n",
    "            continue\n",
    "            \n",
    "        t = t.lower()\n",
    "        \n",
    "        if d.check(t):\n",
    "            continue\n",
    "            \n",
    "        if t in results:\n",
    "            continue\n",
    "            \n",
    "        results.add(t)"
   ]
  },
  {
   "cell_type": "code",
   "execution_count": 72,
   "metadata": {},
   "outputs": [
    {
     "data": {
      "text/plain": [
       "49640"
      ]
     },
     "execution_count": 72,
     "metadata": {},
     "output_type": "execute_result"
    }
   ],
   "source": [
    "len(results)"
   ]
  },
  {
   "cell_type": "code",
   "execution_count": 74,
   "metadata": {},
   "outputs": [],
   "source": [
    "with open('dbp-v3.json', 'w') as fopen:\n",
    "    json.dump(selected, fopen)"
   ]
  },
  {
   "cell_type": "code",
   "execution_count": 75,
   "metadata": {},
   "outputs": [],
   "source": [
    "with open('malay-words-v3.json', 'w') as fopen:\n",
    "    json.dump(list(results), fopen)"
   ]
  }
 ],
 "metadata": {
  "kernelspec": {
   "display_name": "Python 3 (ipykernel)",
   "language": "python",
   "name": "python3"
  },
  "language_info": {
   "codemirror_mode": {
    "name": "ipython",
    "version": 3
   },
   "file_extension": ".py",
   "mimetype": "text/x-python",
   "name": "python",
   "nbconvert_exporter": "python",
   "pygments_lexer": "ipython3",
   "version": "3.8.10"
  }
 },
 "nbformat": 4,
 "nbformat_minor": 4
}
