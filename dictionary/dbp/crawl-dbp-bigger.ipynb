{
 "cells": [
  {
   "cell_type": "code",
   "execution_count": 1,
   "metadata": {},
   "outputs": [],
   "source": [
    "import os\n",
    "\n",
    "os.environ['CUDA_VISIBLE_DEVICES'] = ''"
   ]
  },
  {
   "cell_type": "code",
   "execution_count": 2,
   "metadata": {},
   "outputs": [
    {
     "name": "stderr",
     "output_type": "stream",
     "text": [
      "/home/ubuntu/dev/malaya/malaya/tokenizer.py:202: FutureWarning: Possible nested set at position 3361\n",
      "  self.tok = re.compile(r'({})'.format('|'.join(pipeline)))\n",
      "/home/ubuntu/dev/malaya/malaya/tokenizer.py:202: FutureWarning: Possible nested set at position 3879\n",
      "  self.tok = re.compile(r'({})'.format('|'.join(pipeline)))\n"
     ]
    }
   ],
   "source": [
    "import malaya"
   ]
  },
  {
   "cell_type": "code",
   "execution_count": 3,
   "metadata": {},
   "outputs": [],
   "source": [
    "from bs4 import BeautifulSoup\n",
    "import requests"
   ]
  },
  {
   "cell_type": "code",
   "execution_count": 4,
   "metadata": {},
   "outputs": [],
   "source": [
    "def crawl_dbp(word):\n",
    "    url = f'https://prpm.dbp.gov.my/Cari1?keyword={word}'\n",
    "    r = requests.get(url)\n",
    "    soup = BeautifulSoup(r._content)\n",
    "    definitions = soup.select(\"div[class*=tab-pane]\")\n",
    "    definitions = [d.text for d in definitions]\n",
    "    spans = soup.find_all('span', id = 'MainContent_SearchInfoTesaurus_lblTesaurus')\n",
    "    if len(spans):\n",
    "        tesaurus = spans[0]\n",
    "        tds = tesaurus.findAll('td')\n",
    "        selected_td = None\n",
    "        for td in tds:\n",
    "            if 'javascript:showModalDialog' in str(td):\n",
    "                selected_td = td\n",
    "        if selected_td:\n",
    "            tesaurus = [a.text for a in selected_td.find_all('a')]\n",
    "        else:\n",
    "            tesaurus = None\n",
    "    else:\n",
    "        tesaurus = None\n",
    "    return {'definisi': definitions, 'tesaurus': tesaurus}"
   ]
  },
  {
   "cell_type": "code",
   "execution_count": 5,
   "metadata": {},
   "outputs": [
    {
     "name": "stdout",
     "output_type": "stream",
     "text": [
      "CPU times: user 8.53 ms, sys: 2.97 ms, total: 11.5 ms\n",
      "Wall time: 207 ms\n"
     ]
    },
    {
     "data": {
      "text/plain": [
       "{'definisi': [], 'tesaurus': None}"
      ]
     },
     "execution_count": 5,
     "metadata": {},
     "output_type": "execute_result"
    }
   ],
   "source": [
    "%%time\n",
    "\n",
    "crawl_dbp('agung')"
   ]
  },
  {
   "cell_type": "code",
   "execution_count": 6,
   "metadata": {},
   "outputs": [],
   "source": [
    "# !wget https://gist.githubusercontent.com/huseinzol05/98974ae8c6c7a65d4bc0af9f5003786a/raw/5aa5257608b61e8fcc828e99fbd070d5ca7358e3/mp.py"
   ]
  },
  {
   "cell_type": "code",
   "execution_count": 7,
   "metadata": {},
   "outputs": [],
   "source": [
    "import mp\n",
    "import os\n",
    "import json\n",
    "from tqdm import tqdm\n",
    "import traceback\n",
    "import redis"
   ]
  },
  {
   "cell_type": "code",
   "execution_count": 8,
   "metadata": {},
   "outputs": [],
   "source": [
    "db = redis.Redis(host='localhost', port=6379, db=10)"
   ]
  },
  {
   "cell_type": "code",
   "execution_count": 16,
   "metadata": {},
   "outputs": [
    {
     "data": {
      "text/plain": [
       "811354"
      ]
     },
     "execution_count": 16,
     "metadata": {},
     "output_type": "execute_result"
    }
   ],
   "source": [
    "len(db.keys())"
   ]
  },
  {
   "cell_type": "code",
   "execution_count": 10,
   "metadata": {},
   "outputs": [],
   "source": [
    "def loop(words):\n",
    "    words, _ = words\n",
    "    db = redis.Redis(host='localhost', port=6379, db=10)\n",
    "    for word in tqdm(words):\n",
    "        if word in db:\n",
    "            continue\n",
    "        try:\n",
    "            r = crawl_dbp(word)\n",
    "            db.set(word, json.dumps(r))\n",
    "        except Exception as e:\n",
    "            print(e)\n",
    "            # print(traceback.format_exc())"
   ]
  },
  {
   "cell_type": "code",
   "execution_count": 11,
   "metadata": {},
   "outputs": [
    {
     "data": {
      "text/plain": [
       "798883"
      ]
     },
     "execution_count": 11,
     "metadata": {},
     "output_type": "execute_result"
    }
   ],
   "source": [
    "with open('unique-words.json') as fopen:\n",
    "    words = json.load(fopen)\n",
    "    \n",
    "len(words)"
   ]
  },
  {
   "cell_type": "code",
   "execution_count": 12,
   "metadata": {},
   "outputs": [
    {
     "data": {
      "text/plain": [
       "['a.m.n.',\n",
       " 'aa',\n",
       " 'aa-al',\n",
       " 'aa-ee',\n",
       " 'aa-side',\n",
       " 'aa-stein',\n",
       " 'aa-thondaimaan',\n",
       " 'aa-tondai',\n",
       " 'aaa',\n",
       " 'aaaa']"
      ]
     },
     "execution_count": 12,
     "metadata": {},
     "output_type": "execute_result"
    }
   ],
   "source": [
    "words[:10]"
   ]
  },
  {
   "cell_type": "code",
   "execution_count": 13,
   "metadata": {},
   "outputs": [
    {
     "name": "stderr",
     "output_type": "stream",
     "text": [
      "100%|███████████████████████████████████████████████████████████████████████████████████████████| 5/5 [00:00<00:00, 9098.27it/s]\n"
     ]
    }
   ],
   "source": [
    "loop((words[:5], 0),)"
   ]
  },
  {
   "cell_type": "code",
   "execution_count": null,
   "metadata": {},
   "outputs": [
    {
     "name": "stderr",
     "output_type": "stream",
     "text": [
      " 52%|███████████████████████████████████████████▍                                        | 8269/15977 [15:45<1:30:15,  1.42it/s]IOPub message rate exceeded.\n",
      "The notebook server will temporarily stop sending output\n",
      "to the client in order to avoid crashing it.\n",
      "To change this limit, set the config variable\n",
      "`--NotebookApp.iopub_msg_rate_limit`.\n",
      "\n",
      "Current values:\n",
      "NotebookApp.iopub_msg_rate_limit=1000.0 (msgs/sec)\n",
      "NotebookApp.rate_limit_window=3.0 (secs)\n",
      "\n"
     ]
    }
   ],
   "source": [
    "mp.multiprocessing(words, loop, cores = 50, returned = False)"
   ]
  },
  {
   "cell_type": "code",
   "execution_count": null,
   "metadata": {},
   "outputs": [],
   "source": []
  }
 ],
 "metadata": {
  "kernelspec": {
   "display_name": "Python 3 (ipykernel)",
   "language": "python",
   "name": "python3"
  },
  "language_info": {
   "codemirror_mode": {
    "name": "ipython",
    "version": 3
   },
   "file_extension": ".py",
   "mimetype": "text/x-python",
   "name": "python",
   "nbconvert_exporter": "python",
   "pygments_lexer": "ipython3",
   "version": "3.8.10"
  }
 },
 "nbformat": 4,
 "nbformat_minor": 4
}
