{
 "cells": [
  {
   "cell_type": "code",
   "execution_count": 1,
   "metadata": {},
   "outputs": [],
   "source": [
    "import os\n",
    "\n",
    "os.environ['CUDA_VISIBLE_DEVICES'] = ''"
   ]
  },
  {
   "cell_type": "code",
   "execution_count": 2,
   "metadata": {},
   "outputs": [],
   "source": [
    "from bs4 import BeautifulSoup\n",
    "import requests"
   ]
  },
  {
   "cell_type": "code",
   "execution_count": 3,
   "metadata": {},
   "outputs": [],
   "source": [
    "def crawl_dbp(word):\n",
    "    url = f'https://prpm.dbp.gov.my/Cari1?keyword={word}'\n",
    "    r = requests.get(url)\n",
    "    soup = BeautifulSoup(r._content)\n",
    "    definitions = soup.select(\"div[class*=tab-pane]\")\n",
    "    definitions = [d.text for d in definitions]\n",
    "    spans = soup.find_all('span', id = 'MainContent_SearchInfoTesaurus_lblTesaurus')\n",
    "    if len(spans):\n",
    "        tesaurus = spans[0]\n",
    "        tds = tesaurus.findAll('td')\n",
    "        selected_td = None\n",
    "        for td in tds:\n",
    "            if 'javascript:showModalDialog' in str(td):\n",
    "                selected_td = td\n",
    "        if selected_td:\n",
    "            tesaurus = [a.text for a in selected_td.find_all('a')]\n",
    "        else:\n",
    "            tesaurus = None\n",
    "    else:\n",
    "        tesaurus = None\n",
    "    return {'definisi': definitions, 'tesaurus': tesaurus}"
   ]
  },
  {
   "cell_type": "code",
   "execution_count": 4,
   "metadata": {},
   "outputs": [
    {
     "name": "stderr",
     "output_type": "stream",
     "text": [
      "/home/ubuntu/malaya/malaya/tokenizer.py:202: FutureWarning: Possible nested set at position 3361\n",
      "  self.tok = re.compile(r'({})'.format('|'.join(pipeline)))\n",
      "/home/ubuntu/malaya/malaya/tokenizer.py:202: FutureWarning: Possible nested set at position 3879\n",
      "  self.tok = re.compile(r'({})'.format('|'.join(pipeline)))\n"
     ]
    }
   ],
   "source": [
    "import malaya"
   ]
  },
  {
   "cell_type": "code",
   "execution_count": 5,
   "metadata": {},
   "outputs": [
    {
     "name": "stdout",
     "output_type": "stream",
     "text": [
      "CPU times: user 12.2 ms, sys: 4.07 ms, total: 16.2 ms\n",
      "Wall time: 402 ms\n"
     ]
    },
    {
     "data": {
      "text/plain": [
       "{'definisi': ['[ja.ja]  |  جاجDefinisi : ; berjaja 1. mencari rezeki (nafkah, pen\\xaddapatan, dsb) dgn membawa barang dagangan berkeliling utk dijual: Yahya didenda kerana ~ tanpa lesen; 2. berjual: dia dilarang ~ di situ; menjajakan 1. menjual barang dagangan dgn membawanya berkeliling: riuh-rendah bunyi orang ~ barang dagangan masing-masing; 2. ki menyebarkan (menyatakan dsb) ke sana sini atau merata-rata: Menteri Pen\\xaddidikan menasihatkan rakyat supaya tidak terperangkap dgn fikiran sempit go\\xadlongan yg ~ pendapat mereka sbg sesuatu yg mutlak; ~ khabar; jajaan benda atau barang yg dijajakan; penjajaan perbuatan (kerja) menjajakan; \\xadpenjaja orang yg berjaja: seorang ~ telah di\\xadkenakan denda sebanyak RM100.\\xa0(Kamus Dewan Edisi Keempat)',\n",
       "  '[ja.ja]  |  جاجDefinisi : ; berjaja membawa barang-barang dagangan ke merata-rata tempat utk dijual: Tiap-tiap pagi, Jalal ~ nasi lemak. menjajakan menjual sesuatu dgn membawanya berkeliling: Ia pergi dr rumah ke rumah utk ~ hasil kebunnya. penjaja orang yg berjaja atau yg menjajakan sesuatu: Saya pernah menjadi ~ kuih.\\xa0(Kamus Pelajar Edisi Kedua)'],\n",
       " 'tesaurus': ['berjaja', 'menjaja', 'menjajakan', 'penjaja']}"
      ]
     },
     "execution_count": 5,
     "metadata": {},
     "output_type": "execute_result"
    }
   ],
   "source": [
    "%%time\n",
    "\n",
    "crawl_dbp('jaja')"
   ]
  },
  {
   "cell_type": "code",
   "execution_count": 6,
   "metadata": {},
   "outputs": [],
   "source": [
    "# !wget https://gist.githubusercontent.com/huseinzol05/98974ae8c6c7a65d4bc0af9f5003786a/raw/5aa5257608b61e8fcc828e99fbd070d5ca7358e3/mp.py"
   ]
  },
  {
   "cell_type": "code",
   "execution_count": 9,
   "metadata": {},
   "outputs": [],
   "source": [
    "import mp\n",
    "import os\n",
    "import json\n",
    "from tqdm import tqdm\n",
    "import traceback\n",
    "import redis"
   ]
  },
  {
   "cell_type": "code",
   "execution_count": 12,
   "metadata": {},
   "outputs": [],
   "source": [
    "db = redis.Redis(host='localhost', port=6379, db=13)"
   ]
  },
  {
   "cell_type": "code",
   "execution_count": 26,
   "metadata": {},
   "outputs": [
    {
     "data": {
      "text/plain": [
       "5"
      ]
     },
     "execution_count": 26,
     "metadata": {},
     "output_type": "execute_result"
    }
   ],
   "source": [
    "len(db.keys())"
   ]
  },
  {
   "cell_type": "code",
   "execution_count": 27,
   "metadata": {},
   "outputs": [
    {
     "data": {
      "text/plain": [
       "[b'serandang', b'beranting', b'pembekalan', b'cipras', b'dijemur']"
      ]
     },
     "execution_count": 27,
     "metadata": {},
     "output_type": "execute_result"
    }
   ],
   "source": [
    "db.keys()"
   ]
  },
  {
   "cell_type": "code",
   "execution_count": 15,
   "metadata": {},
   "outputs": [],
   "source": [
    "def loop(words):\n",
    "    words, _ = words\n",
    "    db = redis.Redis(host='localhost', port=6379, db=13)\n",
    "    for word in tqdm(words):\n",
    "        if word in db:\n",
    "            continue\n",
    "        try:\n",
    "            r = crawl_dbp(word)\n",
    "            db.set(word, json.dumps(r))\n",
    "        except Exception as e:\n",
    "            print(e)\n",
    "            # print(traceback.format_exc())"
   ]
  },
  {
   "cell_type": "code",
   "execution_count": 16,
   "metadata": {},
   "outputs": [
    {
     "data": {
      "text/plain": [
       "51977"
      ]
     },
     "execution_count": 16,
     "metadata": {},
     "output_type": "execute_result"
    }
   ],
   "source": [
    "with open('malay-words-v4.json') as fopen:\n",
    "    words = json.load(fopen)\n",
    "    \n",
    "len(words)"
   ]
  },
  {
   "cell_type": "code",
   "execution_count": 17,
   "metadata": {},
   "outputs": [
    {
     "data": {
      "text/plain": [
       "['pembekalan',\n",
       " 'dijemur',\n",
       " 'cipras',\n",
       " 'beranting',\n",
       " 'serandang',\n",
       " 'minat',\n",
       " 'crinum',\n",
       " 'penyilangan',\n",
       " 'menyerah',\n",
       " 'berantaraan']"
      ]
     },
     "execution_count": 17,
     "metadata": {},
     "output_type": "execute_result"
    }
   ],
   "source": [
    "words[:10]"
   ]
  },
  {
   "cell_type": "code",
   "execution_count": 18,
   "metadata": {},
   "outputs": [
    {
     "name": "stderr",
     "output_type": "stream",
     "text": [
      "2022-09-17 14:12:29.489973: I tensorflow/core/platform/cpu_feature_guard.cc:142] This TensorFlow binary is optimized with oneAPI Deep Neural Network Library (oneDNN) to use the following CPU instructions in performance-critical operations:  AVX2 AVX512F FMA\n",
      "To enable them in other operations, rebuild TensorFlow with the appropriate compiler flags.\n",
      "2022-09-17 14:12:29.495191: E tensorflow/stream_executor/cuda/cuda_driver.cc:271] failed call to cuInit: CUDA_ERROR_NO_DEVICE: no CUDA-capable device is detected\n",
      "2022-09-17 14:12:29.495206: I tensorflow/stream_executor/cuda/cuda_diagnostics.cc:169] retrieving CUDA diagnostic information for host: huseincomel-desktop\n",
      "2022-09-17 14:12:29.495210: I tensorflow/stream_executor/cuda/cuda_diagnostics.cc:176] hostname: huseincomel-desktop\n",
      "2022-09-17 14:12:29.495260: I tensorflow/stream_executor/cuda/cuda_diagnostics.cc:200] libcuda reported version is: Not found: was unable to find libcuda.so DSO loaded into this program\n",
      "2022-09-17 14:12:29.495515: I tensorflow/stream_executor/cuda/cuda_diagnostics.cc:204] kernel reported version is: 470.141.3\n"
     ]
    }
   ],
   "source": [
    "stemmer = malaya.stem.deep_model(model = 'noisy')"
   ]
  },
  {
   "cell_type": "code",
   "execution_count": 19,
   "metadata": {},
   "outputs": [
    {
     "data": {
      "text/plain": [
       "'jemur'"
      ]
     },
     "execution_count": 19,
     "metadata": {},
     "output_type": "execute_result"
    }
   ],
   "source": [
    "stemmer.stem_word('dijemur')"
   ]
  },
  {
   "cell_type": "code",
   "execution_count": 20,
   "metadata": {},
   "outputs": [
    {
     "name": "stderr",
     "output_type": "stream",
     "text": [
      "100%|████████████████████████████████████████████████████████████████████████████████████| 51977/51977 [03:57<00:00, 219.28it/s]\n"
     ]
    }
   ],
   "source": [
    "from tqdm import tqdm\n",
    "\n",
    "stemmed_words = []\n",
    "for w in tqdm(words):\n",
    "    stemmed = stemmer.stem_word(w)\n",
    "    stemmed_words.append(stemmed)"
   ]
  },
  {
   "cell_type": "code",
   "execution_count": 24,
   "metadata": {},
   "outputs": [
    {
     "data": {
      "text/plain": [
       "51977"
      ]
     },
     "execution_count": 24,
     "metadata": {},
     "output_type": "execute_result"
    }
   ],
   "source": [
    "len(stemmed_words)"
   ]
  },
  {
   "cell_type": "code",
   "execution_count": 22,
   "metadata": {
    "scrolled": true
   },
   "outputs": [
    {
     "data": {
      "text/plain": [
       "54851"
      ]
     },
     "execution_count": 22,
     "metadata": {},
     "output_type": "execute_result"
    }
   ],
   "source": [
    "new_words = set(stemmed_words) | set(words)\n",
    "len(new_words)"
   ]
  },
  {
   "cell_type": "code",
   "execution_count": 25,
   "metadata": {},
   "outputs": [
    {
     "name": "stderr",
     "output_type": "stream",
     "text": [
      "100%|█████████████████████████████████████████████████████████████████████████████████████████████| 5/5 [00:01<00:00,  2.59it/s]\n"
     ]
    }
   ],
   "source": [
    "loop((words[:5], 0),)"
   ]
  },
  {
   "cell_type": "code",
   "execution_count": 29,
   "metadata": {},
   "outputs": [
    {
     "name": "stderr",
     "output_type": "stream",
     "text": [
      "100%|███████████████████████████████████████████████████████████████████████████████████████| 1039/1039 [59:59<00:00,  3.46s/it]\n",
      "100%|█████████████████████████████████████████████████████████████████████████████████████| 1039/1039 [1:00:07<00:00,  3.47s/it]\n",
      "100%|█████████████████████████████████████████████████████████████████████████████████████| 1039/1039 [1:00:11<00:00,  3.48s/it]\n",
      "100%|█████████████████████████████████████████████████████████████████████████████████████| 1039/1039 [1:00:12<00:00,  3.48s/it]\n",
      "100%|█████████████████████████████████████████████████████████████████████████████████████| 1039/1039 [1:00:12<00:00,  3.48s/it]\n",
      "100%|█████████████████████████████████████████████████████████████████████████████████████| 1039/1039 [1:00:12<00:00,  3.48s/it]\n",
      "100%|█████████████████████████████████████████████████████████████████████████████████████| 1039/1039 [1:00:13<00:00,  3.48s/it]\n",
      "100%|█████████████████████████████████████████████████████████████████████████████████████| 1039/1039 [1:00:14<00:00,  3.48s/it]\n",
      "100%|█████████████████████████████████████████████████████████████████████████████████████| 1039/1039 [1:00:14<00:00,  3.48s/it]\n",
      "100%|█████████████████████████████████████████████████████████████████████████████████████| 1039/1039 [1:00:15<00:00,  3.48s/it]\n",
      "100%|█████████████████████████████████████████████████████████████████████████████████████| 1039/1039 [1:00:16<00:00,  3.48s/it]\n",
      "100%|█████████████████████████████████████████████████████████████████████████████████████| 1039/1039 [1:00:17<00:00,  3.48s/it]\n",
      "100%|█████████████████████████████████████████████████████████████████████████████████████| 1039/1039 [1:00:17<00:00,  3.48s/it]\n",
      "100%|█████████████████████████████████████████████████████████████████████████████████████| 1039/1039 [1:00:17<00:00,  3.48s/it]\n",
      "100%|█████████████████████████████████████████████████████████████████████████████████████| 1039/1039 [1:00:18<00:00,  3.48s/it]\n",
      "100%|█████████████████████████████████████████████████████████████████████████████████████| 1039/1039 [1:00:18<00:00,  3.48s/it]\n",
      "100%|█████████████████████████████████████████████████████████████████████████████████████| 1039/1039 [1:00:18<00:00,  3.48s/it]\n",
      "100%|█████████████████████████████████████████████████████████████████████████████████████| 1039/1039 [1:00:19<00:00,  3.48s/it]\n",
      "100%|█████████████████████████████████████████████████████████████████████████████████████| 1039/1039 [1:00:19<00:00,  3.48s/it]\n",
      "100%|█████████████████████████████████████████████████████████████████████████████████████| 1039/1039 [1:00:19<00:00,  3.48s/it]\n",
      "100%|█████████████████████████████████████████████████████████████████████████████████████| 1039/1039 [1:00:19<00:00,  3.48s/it]\n",
      "100%|█████████████████████████████████████████████████████████████████████████████████████| 1039/1039 [1:00:19<00:00,  3.48s/it]\n",
      "100%|█████████████████████████████████████████████████████████████████████████████████████| 1039/1039 [1:00:21<00:00,  3.49s/it]\n",
      "100%|█████████████████████████████████████████████████████████████████████████████████████| 1039/1039 [1:00:22<00:00,  3.49s/it]\n",
      "100%|█████████████████████████████████████████████████████████████████████████████████████| 1039/1039 [1:00:22<00:00,  3.49s/it]\n",
      "100%|█████████████████████████████████████████████████████████████████████████████████████| 1039/1039 [1:00:22<00:00,  3.49s/it]\n",
      "100%|█████████████████████████████████████████████████████████████████████████████████████| 1039/1039 [1:00:22<00:00,  3.49s/it]\n",
      "100%|█████████████████████████████████████████████████████████████████████████████████████| 1039/1039 [1:00:23<00:00,  3.49s/it]\n",
      "100%|█████████████████████████████████████████████████████████████████████████████████████| 1039/1039 [1:00:24<00:00,  3.49s/it]\n",
      "100%|█████████████████████████████████████████████████████████████████████████████████████| 1039/1039 [1:00:24<00:00,  3.49s/it]\n",
      "100%|█████████████████████████████████████████████████████████████████████████████████████| 1039/1039 [1:00:24<00:00,  3.49s/it]\n",
      "100%|█████████████████████████████████████████████████████████████████████████████████████| 1039/1039 [1:00:24<00:00,  3.49s/it]\n",
      "100%|█████████████████████████████████████████████████████████████████████████████████████| 1039/1039 [1:00:24<00:00,  3.49s/it]\n",
      "100%|█████████████████████████████████████████████████████████████████████████████████████| 1039/1039 [1:00:24<00:00,  3.49s/it]\n",
      "100%|█████████████████████████████████████████████████████████████████████████████████████| 1039/1039 [1:00:24<00:00,  3.49s/it]\n",
      "100%|█████████████████████████████████████████████████████████████████████████████████████| 1039/1039 [1:00:24<00:00,  3.49s/it]\n",
      "100%|█████████████████████████████████████████████████████████████████████████████████████| 1039/1039 [1:00:25<00:00,  3.49s/it]\n",
      "100%|█████████████████████████████████████████████████████████████████████████████████████| 1039/1039 [1:00:25<00:00,  3.49s/it]\n",
      "100%|█████████████████████████████████████████████████████████████████████████████████████| 1039/1039 [1:00:25<00:00,  3.49s/it]\n",
      "100%|█████████████████████████████████████████████████████████████████████████████████████| 1039/1039 [1:00:25<00:00,  3.49s/it]\n",
      "100%|█████████████████████████████████████████████████████████████████████████████████████| 1039/1039 [1:00:26<00:00,  3.49s/it]\n",
      "100%|█████████████████████████████████████████████████████████████████████████████████████| 1039/1039 [1:00:26<00:00,  3.49s/it]\n",
      "100%|█████████████████████████████████████████████████████████████████████████████████████| 1039/1039 [1:00:26<00:00,  3.49s/it]\n",
      "100%|█████████████████████████████████████████████████████████████████████████████████████| 1039/1039 [1:00:26<00:00,  3.49s/it]\n",
      "100%|█████████████████████████████████████████████████████████████████████████████████████| 1039/1039 [1:00:27<00:00,  3.49s/it]\n",
      "100%|█████████████████████████████████████████████████████████████████████████████████████| 1039/1039 [1:00:27<00:00,  3.49s/it]\n",
      "100%|█████████████████████████████████████████████████████████████████████████████████████| 1039/1039 [1:00:27<00:00,  3.49s/it]\n",
      "100%|█████████████████████████████████████████████████████████████████████████████████████| 1039/1039 [1:00:27<00:00,  3.49s/it]\n",
      "100%|█████████████████████████████████████████████████████████████████████████████████████| 1039/1039 [1:00:27<00:00,  3.49s/it]\n",
      "100%|█████████████████████████████████████████████████████████████████████████████████████| 1039/1039 [1:00:27<00:00,  3.49s/it]\n",
      "100%|███████████████████████████████████████████████████████████████████████████████████████████| 27/27 [00:33<00:00,  1.23s/it]\n"
     ]
    }
   ],
   "source": [
    "mp.multiprocessing(words, loop, cores = 50, returned = False)"
   ]
  }
 ],
 "metadata": {
  "kernelspec": {
   "display_name": "Python 3 (ipykernel)",
   "language": "python",
   "name": "python3"
  },
  "language_info": {
   "codemirror_mode": {
    "name": "ipython",
    "version": 3
   },
   "file_extension": ".py",
   "mimetype": "text/x-python",
   "name": "python",
   "nbconvert_exporter": "python",
   "pygments_lexer": "ipython3",
   "version": "3.8.10"
  }
 },
 "nbformat": 4,
 "nbformat_minor": 4
}
