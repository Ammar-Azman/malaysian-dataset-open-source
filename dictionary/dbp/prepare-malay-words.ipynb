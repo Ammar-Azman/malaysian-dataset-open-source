{
 "cells": [
  {
   "cell_type": "code",
   "execution_count": 1,
   "metadata": {},
   "outputs": [],
   "source": [
    "# !wget https://raw.githubusercontent.com/huseinzol05/malay-dataset/master/dictionary/200k-english-malay/200k-english-malay.json"
   ]
  },
  {
   "cell_type": "code",
   "execution_count": 2,
   "metadata": {},
   "outputs": [
    {
     "name": "stderr",
     "output_type": "stream",
     "text": [
      "/home/husein/dev/malaya/malaya/tokenizer.py:202: FutureWarning: Possible nested set at position 3361\n",
      "  self.tok = re.compile(r'({})'.format('|'.join(pipeline)))\n",
      "/home/husein/dev/malaya/malaya/tokenizer.py:202: FutureWarning: Possible nested set at position 3879\n",
      "  self.tok = re.compile(r'({})'.format('|'.join(pipeline)))\n"
     ]
    }
   ],
   "source": [
    "import malaya"
   ]
  },
  {
   "cell_type": "code",
   "execution_count": 3,
   "metadata": {},
   "outputs": [],
   "source": [
    "malay_words = malaya.dictionary.MALAY_WORDS | malaya.dictionary.CAMBRIDGE_MALAY_WORDS | malaya.dictionary.KAMUS_DEWAN_WORDS | malaya.dictionary.DBP_WORDS"
   ]
  },
  {
   "cell_type": "code",
   "execution_count": 4,
   "metadata": {},
   "outputs": [
    {
     "data": {
      "text/plain": [
       "63838"
      ]
     },
     "execution_count": 4,
     "metadata": {},
     "output_type": "execute_result"
    }
   ],
   "source": [
    "len(malay_words)"
   ]
  },
  {
   "cell_type": "code",
   "execution_count": 5,
   "metadata": {},
   "outputs": [],
   "source": [
    "import json"
   ]
  },
  {
   "cell_type": "code",
   "execution_count": 6,
   "metadata": {},
   "outputs": [],
   "source": [
    "with open('200k-english-malay.json') as fopen:\n",
    "    data = json.load(fopen)"
   ]
  },
  {
   "cell_type": "code",
   "execution_count": 7,
   "metadata": {},
   "outputs": [],
   "source": [
    "ms = []\n",
    "for d in data:\n",
    "    if len(d[1]) > 2 and d[1] != 'tidak dapat dipastikan':\n",
    "        ms.extend(d[1].split())\n",
    "\n",
    "ms = set(ms)"
   ]
  },
  {
   "cell_type": "code",
   "execution_count": 8,
   "metadata": {},
   "outputs": [],
   "source": [
    "malay_words = malay_words | ms"
   ]
  },
  {
   "cell_type": "code",
   "execution_count": 9,
   "metadata": {},
   "outputs": [],
   "source": [
    "from malaya.text import tatabahasa"
   ]
  },
  {
   "cell_type": "code",
   "execution_count": 10,
   "metadata": {},
   "outputs": [],
   "source": [
    "l = [tatabahasa.negate_words, tatabahasa.mengeluh, tatabahasa.tanya_list,\n",
    "     tatabahasa.perintah_list, tatabahasa.pangkal_list, tatabahasa.bantu_list, \n",
    "     tatabahasa.penguat_list, tatabahasa.penegas_list, tatabahasa.nafi_list,\n",
    "     tatabahasa.pemeri_list, tatabahasa.sendi_list, tatabahasa.pembenar_list, \n",
    "     tatabahasa.nombor_list, tatabahasa.suku_bilangan_list,\n",
    "     tatabahasa.pisahan_list, tatabahasa.keterangan_list, \n",
    "     tatabahasa.arah_list, tatabahasa.hubung_list, tatabahasa.gantinama_list,\n",
    "     tatabahasa.stopwords_calon, tatabahasa.stopwords, tatabahasa.penjodoh_bilangan]"
   ]
  },
  {
   "cell_type": "code",
   "execution_count": 11,
   "metadata": {},
   "outputs": [],
   "source": [
    "for l_ in l:\n",
    "    malay_words = malay_words | set(l_)"
   ]
  },
  {
   "cell_type": "code",
   "execution_count": 12,
   "metadata": {},
   "outputs": [
    {
     "data": {
      "text/plain": [
       "194625"
      ]
     },
     "execution_count": 12,
     "metadata": {},
     "output_type": "execute_result"
    }
   ],
   "source": [
    "len(malay_words)"
   ]
  },
  {
   "cell_type": "code",
   "execution_count": 13,
   "metadata": {},
   "outputs": [],
   "source": [
    "from malaya.dictionary.bahasa.binatang import binatang\n",
    "from malaya.dictionary.bahasa.city import city\n",
    "from malaya.dictionary.bahasa.place import words\n",
    "from malaya.dictionary.bahasa.negeri import negeri"
   ]
  },
  {
   "cell_type": "code",
   "execution_count": 14,
   "metadata": {},
   "outputs": [],
   "source": [
    "binatangs = []\n",
    "for w in binatang:\n",
    "    binatangs.extend(w.lower().split())\n",
    "    \n",
    "binatangs = set(binatangs)"
   ]
  },
  {
   "cell_type": "code",
   "execution_count": 15,
   "metadata": {},
   "outputs": [],
   "source": [
    "cities = []\n",
    "for w in city:\n",
    "    cities.extend(w.lower().split())\n",
    "    \n",
    "cities = set(cities)"
   ]
  },
  {
   "cell_type": "code",
   "execution_count": 17,
   "metadata": {},
   "outputs": [
    {
     "data": {
      "text/plain": [
       "199958"
      ]
     },
     "execution_count": 17,
     "metadata": {},
     "output_type": "execute_result"
    }
   ],
   "source": [
    "malay_words = malay_words | binatangs | cities | words | negeri\n",
    "len(malay_words)"
   ]
  },
  {
   "cell_type": "code",
   "execution_count": 18,
   "metadata": {},
   "outputs": [],
   "source": [
    "import re\n",
    "from unidecode import unidecode\n",
    "\n",
    "alphabet = 'qwertyuiopasdfghjklzxcvbnm'\n",
    "consonants = 'bcdfghjklmnpqrstvwxyz'\n",
    "vowels = 'aeiou'\n",
    "PUNCTUATION = '!\"#$%&\\'()*+,./:;<=>?@[\\]^_`{|}~'"
   ]
  },
  {
   "cell_type": "code",
   "execution_count": 19,
   "metadata": {},
   "outputs": [],
   "source": [
    "import enchant\n",
    "d = enchant.Dict('en_US')"
   ]
  },
  {
   "cell_type": "code",
   "execution_count": 20,
   "metadata": {},
   "outputs": [],
   "source": [
    "results = set()\n",
    "texts = list(malay_words)\n",
    "    \n",
    "for k in range(len(texts)):\n",
    "    if k + 1 < len(texts) and 'spp.' in texts[k + 1]:\n",
    "        continue\n",
    "\n",
    "    t = texts[k]\n",
    "    t = unidecode(t)\n",
    "    t = t.replace('--', '-')\n",
    "    for p in PUNCTUATION:\n",
    "        t = t.replace(p, '')\n",
    "\n",
    "    if all([c in consonants for c in t]):\n",
    "        continue\n",
    "\n",
    "    if len(t) <= 3:\n",
    "        continue\n",
    "\n",
    "    if len(re.findall(r'\\d+', t)):\n",
    "        continue\n",
    "\n",
    "    if t[0] in '-':\n",
    "        continue\n",
    "\n",
    "    if t in ['yg', 'utk']:\n",
    "        continue\n",
    "\n",
    "    if d.check(t):\n",
    "        continue\n",
    "\n",
    "    t = t.lower()\n",
    "\n",
    "    if t in results:\n",
    "        continue\n",
    "\n",
    "    results.add(t)"
   ]
  },
  {
   "cell_type": "code",
   "execution_count": 21,
   "metadata": {},
   "outputs": [
    {
     "data": {
      "text/plain": [
       "187385"
      ]
     },
     "execution_count": 21,
     "metadata": {},
     "output_type": "execute_result"
    }
   ],
   "source": [
    "len(results)"
   ]
  },
  {
   "cell_type": "code",
   "execution_count": 22,
   "metadata": {},
   "outputs": [],
   "source": [
    "with open('malay-words-v2.json', 'w') as fopen:\n",
    "    json.dump(list(results), fopen)"
   ]
  }
 ],
 "metadata": {
  "kernelspec": {
   "display_name": "Python 3 (ipykernel)",
   "language": "python",
   "name": "python3"
  },
  "language_info": {
   "codemirror_mode": {
    "name": "ipython",
    "version": 3
   },
   "file_extension": ".py",
   "mimetype": "text/x-python",
   "name": "python",
   "nbconvert_exporter": "python",
   "pygments_lexer": "ipython3",
   "version": "3.8.10"
  }
 },
 "nbformat": 4,
 "nbformat_minor": 4
}
