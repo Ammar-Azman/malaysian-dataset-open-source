{
 "cells": [
  {
   "cell_type": "code",
   "execution_count": 1,
   "metadata": {},
   "outputs": [],
   "source": [
    "import os\n",
    "\n",
    "os.environ['CUDA_VISIBLE_DEVICES'] = ''"
   ]
  },
  {
   "cell_type": "code",
   "execution_count": 2,
   "metadata": {},
   "outputs": [
    {
     "name": "stderr",
     "output_type": "stream",
     "text": [
      "/home/ubuntu/dev/malaya/malaya/tokenizer.py:202: FutureWarning: Possible nested set at position 3361\n",
      "  self.tok = re.compile(r'({})'.format('|'.join(pipeline)))\n",
      "/home/ubuntu/dev/malaya/malaya/tokenizer.py:202: FutureWarning: Possible nested set at position 3879\n",
      "  self.tok = re.compile(r'({})'.format('|'.join(pipeline)))\n"
     ]
    }
   ],
   "source": [
    "import malaya"
   ]
  },
  {
   "cell_type": "code",
   "execution_count": 3,
   "metadata": {},
   "outputs": [],
   "source": [
    "from bs4 import BeautifulSoup\n",
    "import requests"
   ]
  },
  {
   "cell_type": "code",
   "execution_count": 4,
   "metadata": {},
   "outputs": [
    {
     "data": {
      "text/plain": [
       "63287"
      ]
     },
     "execution_count": 4,
     "metadata": {},
     "output_type": "execute_result"
    }
   ],
   "source": [
    "malay_words = malaya.text.bahasa.cambridge_words.words | malaya.text.bahasa.kamus_dewan.words | malaya.text.bahasa.words.words\n",
    "malay_words = list(malay_words)\n",
    "len(malay_words)"
   ]
  },
  {
   "cell_type": "code",
   "execution_count": 5,
   "metadata": {},
   "outputs": [],
   "source": [
    "def crawl_dbp(word):\n",
    "    url = f'https://prpm.dbp.gov.my/Cari1?keyword={word}'\n",
    "    r = requests.get(url)\n",
    "    soup = BeautifulSoup(r._content)\n",
    "    definitions = soup.select(\"div[class*=tab-pane]\")\n",
    "    definitions = [d.text for d in definitions]\n",
    "    spans = soup.find_all('span', id = 'MainContent_SearchInfoTesaurus_lblTesaurus')\n",
    "    if len(spans):\n",
    "        tesaurus = spans[0]\n",
    "        tds = tesaurus.findAll('td')\n",
    "        selected_td = None\n",
    "        for td in tds:\n",
    "            if 'javascript:showModalDialog' in str(td):\n",
    "                selected_td = td\n",
    "        if selected_td:\n",
    "            tesaurus = [a.text for a in selected_td.find_all('a')]\n",
    "        else:\n",
    "            tesaurus = None\n",
    "    else:\n",
    "        tesaurus = None\n",
    "    return {'definisi': definitions, 'tesaurus': tesaurus}"
   ]
  },
  {
   "cell_type": "code",
   "execution_count": 6,
   "metadata": {},
   "outputs": [
    {
     "name": "stdout",
     "output_type": "stream",
     "text": [
      "CPU times: user 16.7 ms, sys: 622 µs, total: 17.3 ms\n",
      "Wall time: 392 ms\n"
     ]
    },
    {
     "data": {
      "text/plain": [
       "{'definisi': ['[ter.ser.lah]  |  ترسرلهDefinisi : menyerlah;\\xa0(Kamus Dewan Edisi Keempat)',\n",
       "  '[ter.ser.lah]  |  ترسرلهDefinisi : 1 kelihatan berseri (bkn kecantikan dll); kelihatan nyata bercahaya (bkn bulan dll): Kecantikannya ~ selepas disolek oleh mak andam. 2 kelihatan cemerlang dan menonjol (bkn bakat dll): Kebolehannya ~ dlm persembahan yg menarik itu.\\xa0(Kamus Pelajar Edisi Kedua)'],\n",
       " 'tesaurus': ['menyerlah', 'terserlah', 'menyerlahkan']}"
      ]
     },
     "execution_count": 6,
     "metadata": {},
     "output_type": "execute_result"
    }
   ],
   "source": [
    "%%time\n",
    "\n",
    "crawl_dbp('terserlah')"
   ]
  },
  {
   "cell_type": "code",
   "execution_count": 7,
   "metadata": {},
   "outputs": [],
   "source": [
    "# !wget https://gist.githubusercontent.com/huseinzol05/98974ae8c6c7a65d4bc0af9f5003786a/raw/5aa5257608b61e8fcc828e99fbd070d5ca7358e3/mp.py"
   ]
  },
  {
   "cell_type": "code",
   "execution_count": 8,
   "metadata": {},
   "outputs": [],
   "source": [
    "import mp\n",
    "import os\n",
    "import json\n",
    "from tqdm import tqdm\n",
    "import traceback\n",
    "\n",
    "directory = 'dbp'\n",
    "os.makedirs(directory, exist_ok = True)"
   ]
  },
  {
   "cell_type": "code",
   "execution_count": 9,
   "metadata": {},
   "outputs": [],
   "source": [
    "def loop(words):\n",
    "    words, _ = words\n",
    "    for word in tqdm(words):\n",
    "        filename = f'{word}.json'\n",
    "        filename = os.path.join(directory, filename)\n",
    "        if os.path.exists(filename):\n",
    "            # if os.path.getsize(filename) >= 1:\n",
    "            continue\n",
    "        try:\n",
    "            r = crawl_dbp(word)\n",
    "            with open(filename, 'w') as fopen:\n",
    "                json.dump(r, fopen)\n",
    "        except Exception as e:\n",
    "            print(e)\n",
    "            # print(traceback.format_exc())"
   ]
  },
  {
   "cell_type": "code",
   "execution_count": 10,
   "metadata": {},
   "outputs": [
    {
     "name": "stderr",
     "output_type": "stream",
     "text": [
      "100%|█████████████████████████████████████████████████████████████████████████████████████████████| 5/5 [00:00<00:00,  5.31it/s]\n"
     ]
    }
   ],
   "source": [
    "loop((malay_words[:5], 0),)"
   ]
  },
  {
   "cell_type": "code",
   "execution_count": null,
   "metadata": {},
   "outputs": [
    {
     "name": "stderr",
     "output_type": "stream",
     "text": [
      " 71%|██████████████████████████████████████████████████████████████▏                        | 2260/3164 [46:00<12:09,  1.24it/s]"
     ]
    }
   ],
   "source": [
    "mp.multiprocessing(malay_words, loop, cores = 20, returned = False)"
   ]
  }
 ],
 "metadata": {
  "kernelspec": {
   "display_name": "Python 3 (ipykernel)",
   "language": "python",
   "name": "python3"
  },
  "language_info": {
   "codemirror_mode": {
    "name": "ipython",
    "version": 3
   },
   "file_extension": ".py",
   "mimetype": "text/x-python",
   "name": "python",
   "nbconvert_exporter": "python",
   "pygments_lexer": "ipython3",
   "version": "3.8.10"
  }
 },
 "nbformat": 4,
 "nbformat_minor": 4
}
