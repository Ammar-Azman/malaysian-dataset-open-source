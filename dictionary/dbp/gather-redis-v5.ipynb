{
 "cells": [
  {
   "cell_type": "code",
   "execution_count": 1,
   "metadata": {},
   "outputs": [],
   "source": [
    "import redis"
   ]
  },
  {
   "cell_type": "code",
   "execution_count": 2,
   "metadata": {},
   "outputs": [],
   "source": [
    "db = redis.Redis(host='localhost', port=6379, db=15)"
   ]
  },
  {
   "cell_type": "code",
   "execution_count": 3,
   "metadata": {},
   "outputs": [],
   "source": [
    "keys = db.keys()"
   ]
  },
  {
   "cell_type": "code",
   "execution_count": 4,
   "metadata": {},
   "outputs": [
    {
     "data": {
      "text/plain": [
       "18330"
      ]
     },
     "execution_count": 4,
     "metadata": {},
     "output_type": "execute_result"
    }
   ],
   "source": [
    "len(keys)"
   ]
  },
  {
   "cell_type": "code",
   "execution_count": 5,
   "metadata": {},
   "outputs": [],
   "source": [
    "import json"
   ]
  },
  {
   "cell_type": "code",
   "execution_count": 6,
   "metadata": {},
   "outputs": [
    {
     "data": {
      "text/plain": [
       "b'pergerakan-pergerakan'"
      ]
     },
     "execution_count": 6,
     "metadata": {},
     "output_type": "execute_result"
    }
   ],
   "source": [
    "keys[0]"
   ]
  },
  {
   "cell_type": "code",
   "execution_count": 8,
   "metadata": {},
   "outputs": [],
   "source": [
    "d = json.loads(db[keys[0]])"
   ]
  },
  {
   "cell_type": "code",
   "execution_count": 9,
   "metadata": {},
   "outputs": [
    {
     "name": "stderr",
     "output_type": "stream",
     "text": [
      "100%|██████████████████████████████████████████████████████████████████████████████████| 18330/18330 [00:00<00:00, 33706.51it/s]\n"
     ]
    }
   ],
   "source": [
    "from tqdm import tqdm\n",
    "\n",
    "selected = {}\n",
    "\n",
    "for k in tqdm(keys):\n",
    "    d = json.loads(db[k])\n",
    "    if not len(d['definisi']):\n",
    "        continue\n",
    "        \n",
    "    selected[k.decode()] = d"
   ]
  },
  {
   "cell_type": "code",
   "execution_count": 10,
   "metadata": {},
   "outputs": [
    {
     "data": {
      "text/plain": [
       "20"
      ]
     },
     "execution_count": 10,
     "metadata": {},
     "output_type": "execute_result"
    }
   ],
   "source": [
    "len(selected)"
   ]
  },
  {
   "cell_type": "code",
   "execution_count": 11,
   "metadata": {},
   "outputs": [],
   "source": [
    "import re\n",
    "from unidecode import unidecode\n",
    "\n",
    "alphabet = 'qwertyuiopasdfghjklzxcvbnm'\n",
    "consonants = 'bcdfghjklmnpqrstvwxyz'\n",
    "vowels = 'aeiou'\n",
    "PUNCTUATION = '!\"#$%&\\'()*+,./:;<=>?@[\\]^_`{|}~'"
   ]
  },
  {
   "cell_type": "code",
   "execution_count": 12,
   "metadata": {},
   "outputs": [],
   "source": [
    "import enchant\n",
    "d = enchant.Dict('en_US')"
   ]
  },
  {
   "cell_type": "code",
   "execution_count": 13,
   "metadata": {},
   "outputs": [
    {
     "name": "stderr",
     "output_type": "stream",
     "text": [
      "100%|█████████████████████████████████████████████████████████████████████████████████████████| 20/20 [00:00<00:00, 5713.92it/s]\n"
     ]
    }
   ],
   "source": [
    "results = set()\n",
    "\n",
    "for data in tqdm(selected.values()):\n",
    "    \n",
    "    texts = []\n",
    "    for definisi in data['definisi']:\n",
    "        texts.extend(definisi.split('Definisi : ')[1].split())\n",
    "\n",
    "    if data['tesaurus']:\n",
    "        texts.extend(data['tesaurus'])\n",
    "    \n",
    "    for k in range(len(texts)):\n",
    "        \n",
    "        t = texts[k]\n",
    "        t = unidecode(t)\n",
    "        t = t.replace('--', '-')\n",
    "        for p in PUNCTUATION:\n",
    "            t = t.replace(p, '')\n",
    "\n",
    "        if all([c in consonants for c in t]):\n",
    "            continue\n",
    "\n",
    "        if len(t) <= 3:\n",
    "            continue\n",
    "\n",
    "        if len(re.findall(r'\\d+', t)):\n",
    "            continue\n",
    "\n",
    "        if t[0] in '-':\n",
    "            continue\n",
    "\n",
    "        if t in ['yg', 'utk']:\n",
    "            continue\n",
    "            \n",
    "        if t[-1] in '-':\n",
    "            continue\n",
    "        \n",
    "        if 'dll' in t:\n",
    "            continue\n",
    "            \n",
    "        t = t.lower()\n",
    "        \n",
    "        if d.check(t):\n",
    "            continue\n",
    "            \n",
    "        if t in results:\n",
    "            continue\n",
    "            \n",
    "        results.add(t)"
   ]
  },
  {
   "cell_type": "code",
   "execution_count": 14,
   "metadata": {},
   "outputs": [
    {
     "data": {
      "text/plain": [
       "143"
      ]
     },
     "execution_count": 14,
     "metadata": {},
     "output_type": "execute_result"
    }
   ],
   "source": [
    "len(results)"
   ]
  },
  {
   "cell_type": "code",
   "execution_count": 15,
   "metadata": {},
   "outputs": [
    {
     "data": {
      "text/plain": [
       "{'amat',\n",
       " 'anggota',\n",
       " 'atau',\n",
       " 'badan',\n",
       " 'baik',\n",
       " 'bangat',\n",
       " 'batang',\n",
       " 'berasa',\n",
       " 'bergalur-galur',\n",
       " 'bergaris-garis',\n",
       " 'berkait',\n",
       " 'berkambi',\n",
       " 'berkedip-kedip',\n",
       " 'berkelip-kelip',\n",
       " 'berlarah-larah',\n",
       " 'bermongkok',\n",
       " 'biasanya',\n",
       " 'buah',\n",
       " 'bubuh',\n",
       " 'cabang',\n",
       " 'colour',\n",
       " 'colouring',\n",
       " 'colours',\n",
       " 'darat',\n",
       " 'demam',\n",
       " 'dewan',\n",
       " 'dibahagikan',\n",
       " 'digunakan',\n",
       " 'dikesipnya',\n",
       " 'edisi',\n",
       " 'ekzos',\n",
       " 'elektronik',\n",
       " 'elok',\n",
       " 'garam',\n",
       " 'gula-gula',\n",
       " 'halus',\n",
       " 'hasil',\n",
       " 'hendak',\n",
       " 'hidup',\n",
       " 'hingga',\n",
       " 'ilmu',\n",
       " 'inggeris-melayu',\n",
       " 'injap',\n",
       " 'jalu',\n",
       " 'jenisnya',\n",
       " 'kambi',\n",
       " 'kamus',\n",
       " 'kapal',\n",
       " 'kayu',\n",
       " 'keadaan',\n",
       " 'kebebasan',\n",
       " 'kedua',\n",
       " 'keempat',\n",
       " 'kelegaan',\n",
       " 'kelihatantampak',\n",
       " 'keluar',\n",
       " 'keluasan',\n",
       " 'kemudahan',\n",
       " 'kerana',\n",
       " 'komponen',\n",
       " 'kulit',\n",
       " 'kurang',\n",
       " 'laut',\n",
       " 'lawas',\n",
       " 'lebih',\n",
       " 'lidahnya',\n",
       " 'litar',\n",
       " 'makanan',\n",
       " 'mata',\n",
       " 'matanya',\n",
       " 'melarah',\n",
       " 'melawas',\n",
       " 'melawaskan',\n",
       " 'memandu',\n",
       " 'memasang',\n",
       " 'membentuk',\n",
       " 'memberi',\n",
       " 'membongkok',\n",
       " 'membuat',\n",
       " 'memukul',\n",
       " 'mencelur',\n",
       " 'mencucuk',\n",
       " 'mengawal',\n",
       " 'mengemudi',\n",
       " 'mengenakan',\n",
       " 'menghilangkan',\n",
       " 'menghisap-hisap',\n",
       " 'mengongkong',\n",
       " 'menikam',\n",
       " 'menyais',\n",
       " 'merupakan',\n",
       " 'mikroelektronik',\n",
       " 'orang',\n",
       " 'pasukan',\n",
       " 'pedas',\n",
       " 'pelajar',\n",
       " 'pembinaan',\n",
       " 'penghalang',\n",
       " 'penukar',\n",
       " 'penyekat',\n",
       " 'perbuatan',\n",
       " 'pergelangan',\n",
       " 'pergerakan',\n",
       " 'pesawat',\n",
       " 'pewarna',\n",
       " 'pewarnaan',\n",
       " 'rasa',\n",
       " 'rejimen',\n",
       " 'sama',\n",
       " 'sangat',\n",
       " 'satu',\n",
       " 'sebahagian',\n",
       " 'sebentar',\n",
       " 'sebilangan',\n",
       " 'sedap',\n",
       " 'sedikit',\n",
       " 'sekejap',\n",
       " 'sekelip',\n",
       " 'seketika',\n",
       " 'sepuluh',\n",
       " 'silinder',\n",
       " 'sudah',\n",
       " 'suka',\n",
       " 'tangan',\n",
       " 'tentera',\n",
       " 'terbakar',\n",
       " 'terbang',\n",
       " 'terdiri',\n",
       " 'tergeliat',\n",
       " 'terlena',\n",
       " 'terpelecok',\n",
       " 'terpiuh',\n",
       " 'tertidur',\n",
       " 'tertinggi',\n",
       " 'tidak',\n",
       " 'tiga',\n",
       " 'tinggi',\n",
       " 'trup',\n",
       " 'udara',\n",
       " 'unggul',\n",
       " 'utama',\n",
       " 'wang',\n",
       " 'warna'}"
      ]
     },
     "execution_count": 15,
     "metadata": {},
     "output_type": "execute_result"
    }
   ],
   "source": [
    "results"
   ]
  },
  {
   "cell_type": "code",
   "execution_count": 16,
   "metadata": {},
   "outputs": [],
   "source": [
    "with open('dbp-v7.json', 'w') as fopen:\n",
    "    json.dump(selected, fopen)"
   ]
  }
 ],
 "metadata": {
  "kernelspec": {
   "display_name": "Python 3 (ipykernel)",
   "language": "python",
   "name": "python3"
  },
  "language_info": {
   "codemirror_mode": {
    "name": "ipython",
    "version": 3
   },
   "file_extension": ".py",
   "mimetype": "text/x-python",
   "name": "python",
   "nbconvert_exporter": "python",
   "pygments_lexer": "ipython3",
   "version": "3.8.10"
  }
 },
 "nbformat": 4,
 "nbformat_minor": 4
}
