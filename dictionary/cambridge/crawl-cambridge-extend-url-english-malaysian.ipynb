{
 "cells": [
  {
   "cell_type": "code",
   "execution_count": 1,
   "id": "c6f7dd66",
   "metadata": {},
   "outputs": [],
   "source": [
    "import requests \n",
    "from bs4 import BeautifulSoup \n",
    "import operator \n",
    "from collections import Counter \n",
    "\n",
    "guidURL = 'https://dictionary.cambridge.org/browse/english-malaysian/'"
   ]
  },
  {
   "cell_type": "code",
   "execution_count": 2,
   "id": "991f5c76",
   "metadata": {},
   "outputs": [],
   "source": []
  },
  {
   "cell_type": "code",
   "execution_count": 3,
   "id": "4e93ffd2",
   "metadata": {},
   "outputs": [
    {
     "data": {
      "text/plain": [
       "518"
      ]
     },
     "execution_count": 3,
     "metadata": {},
     "output_type": "execute_result"
    }
   ],
   "source": [
    "import json\n",
    "\n",
    "with open('guide-urls.json') as fopen:\n",
    "    guide_urls = list(set(json.load(fopen)))\n",
    "    \n",
    "len(guide_urls)"
   ]
  },
  {
   "cell_type": "code",
   "execution_count": 4,
   "id": "ff86f0fd",
   "metadata": {},
   "outputs": [
    {
     "data": {
      "text/plain": [
       "'https://dictionary.cambridge.org/browse/english-malaysian/a/ahead/'"
      ]
     },
     "execution_count": 4,
     "metadata": {},
     "output_type": "execute_result"
    }
   ],
   "source": [
    "guide_urls[0]"
   ]
  },
  {
   "cell_type": "code",
   "execution_count": 10,
   "id": "d0ec5ce2",
   "metadata": {},
   "outputs": [],
   "source": [
    "headers = { 'User-Agent': 'Mozilla/5.0 (Windows NT 6.0; WOW64; rv:24.0) Gecko/20100101 Firefox/24.0' }\n",
    "\n",
    "extendURLs = []\n",
    "def extend_url(url):\n",
    "    source_code = requests.get(url , headers=headers).text\n",
    "    soup = BeautifulSoup(source_code, 'html.parser')\n",
    "    for each_text in soup.findAll('div', {'class':'hlh32 han'}):\n",
    "        for href in each_text.findAll('a'):\n",
    "            extendURLs.append(href.get('href'))"
   ]
  },
  {
   "cell_type": "code",
   "execution_count": 14,
   "id": "3d69ff8b",
   "metadata": {},
   "outputs": [
    {
     "name": "stderr",
     "output_type": "stream",
     "text": [
      "100%|██████████████████████████████████████████████████████████████████████████████████████████████| 518/518 [01:53<00:00,  4.55it/s]\n"
     ]
    }
   ],
   "source": [
    "from tqdm import tqdm\n",
    "\n",
    "for i in tqdm(guide_urls):\n",
    "    extend_url(i)"
   ]
  },
  {
   "cell_type": "code",
   "execution_count": 15,
   "id": "47167a15",
   "metadata": {},
   "outputs": [
    {
     "data": {
      "text/plain": [
       "25221"
      ]
     },
     "execution_count": 15,
     "metadata": {},
     "output_type": "execute_result"
    }
   ],
   "source": [
    "len(extendURLs)"
   ]
  },
  {
   "cell_type": "code",
   "execution_count": 16,
   "id": "6f20c648",
   "metadata": {},
   "outputs": [],
   "source": [
    "import json\n",
    "\n",
    "with open('extend-urls.json', 'w') as fopen:\n",
    "    json.dump(extendURLs, fopen)"
   ]
  }
 ],
 "metadata": {
  "kernelspec": {
   "display_name": "Python 3 (ipykernel)",
   "language": "python",
   "name": "python3"
  },
  "language_info": {
   "codemirror_mode": {
    "name": "ipython",
    "version": 3
   },
   "file_extension": ".py",
   "mimetype": "text/x-python",
   "name": "python",
   "nbconvert_exporter": "python",
   "pygments_lexer": "ipython3",
   "version": "3.8.10"
  }
 },
 "nbformat": 4,
 "nbformat_minor": 5
}
