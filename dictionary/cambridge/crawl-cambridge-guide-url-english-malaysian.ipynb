{
 "cells": [
  {
   "cell_type": "code",
   "execution_count": 1,
   "id": "d21160bb",
   "metadata": {},
   "outputs": [],
   "source": [
    "import requests \n",
    "from bs4 import BeautifulSoup \n",
    "import operator \n",
    "from collections import Counter \n",
    "\n",
    "guidURL = 'https://dictionary.cambridge.org/browse/english-malaysian/'"
   ]
  },
  {
   "cell_type": "code",
   "execution_count": 2,
   "id": "20a286f4",
   "metadata": {},
   "outputs": [],
   "source": [
    "guideURLs = []"
   ]
  },
  {
   "cell_type": "code",
   "execution_count": 18,
   "id": "dc80a781",
   "metadata": {},
   "outputs": [],
   "source": [
    "def guide_url(url):\n",
    "    headers = { 'User-Agent': 'Mozilla/5.0 (Windows NT 6.0; WOW64; rv:24.0) Gecko/20100101 Firefox/24.0' }\n",
    "\n",
    "    source_code = requests.get(url , headers=headers).text\n",
    "    soup = BeautifulSoup(source_code, 'html.parser')\n",
    "    for each_text in soup.findAll('div', {'class':'hlh32'}):\n",
    "        for href in each_text.findAll('a'):\n",
    "            guideURLs.append(href.get('href'))"
   ]
  },
  {
   "cell_type": "code",
   "execution_count": 19,
   "id": "6ddea982",
   "metadata": {},
   "outputs": [
    {
     "name": "stderr",
     "output_type": "stream",
     "text": [
      "100%|████████████████████████████████████████████████████████████████████████████████████████████████| 26/26 [00:08<00:00,  3.04it/s]\n"
     ]
    }
   ],
   "source": [
    "from tqdm import tqdm\n",
    "\n",
    "for i in tqdm('abcdefghijklmnopqrstuvwxyz'):\n",
    "    guide_url(guidURL+i)"
   ]
  },
  {
   "cell_type": "code",
   "execution_count": 21,
   "id": "75399a65",
   "metadata": {},
   "outputs": [
    {
     "data": {
      "text/plain": [
       "551"
      ]
     },
     "execution_count": 21,
     "metadata": {},
     "output_type": "execute_result"
    }
   ],
   "source": [
    "len(guideURLs)"
   ]
  },
  {
   "cell_type": "code",
   "execution_count": 23,
   "id": "0cde5003",
   "metadata": {},
   "outputs": [],
   "source": [
    "import json\n",
    "\n",
    "with open('guide-urls.json', 'w') as fopen:\n",
    "    json.dump(guideURLs, fopen)"
   ]
  }
 ],
 "metadata": {
  "kernelspec": {
   "display_name": "Python 3 (ipykernel)",
   "language": "python",
   "name": "python3"
  },
  "language_info": {
   "codemirror_mode": {
    "name": "ipython",
    "version": 3
   },
   "file_extension": ".py",
   "mimetype": "text/x-python",
   "name": "python",
   "nbconvert_exporter": "python",
   "pygments_lexer": "ipython3",
   "version": "3.8.10"
  }
 },
 "nbformat": 4,
 "nbformat_minor": 5
}
