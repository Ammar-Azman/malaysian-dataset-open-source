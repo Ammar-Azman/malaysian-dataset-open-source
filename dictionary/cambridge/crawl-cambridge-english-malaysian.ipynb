{
 "cells": [
  {
   "cell_type": "code",
   "execution_count": 7,
   "id": "c4a61ed8",
   "metadata": {},
   "outputs": [],
   "source": [
    "import requests \n",
    "from bs4 import BeautifulSoup \n",
    "import operator \n",
    "from collections import Counter \n",
    "\n",
    "guidURL = 'https://dictionary.cambridge.org'"
   ]
  },
  {
   "cell_type": "code",
   "execution_count": 5,
   "id": "c8c14fc1",
   "metadata": {},
   "outputs": [
    {
     "data": {
      "text/plain": [
       "25171"
      ]
     },
     "execution_count": 5,
     "metadata": {},
     "output_type": "execute_result"
    }
   ],
   "source": [
    "import json\n",
    "\n",
    "with open('extend-urls.json') as fopen:\n",
    "    extend_urls = list(set(json.load(fopen)))\n",
    "    \n",
    "len(extend_urls)"
   ]
  },
  {
   "cell_type": "code",
   "execution_count": 8,
   "id": "a34afaf9",
   "metadata": {},
   "outputs": [],
   "source": [
    "headers = { 'User-Agent': 'Mozilla/5.0 (Windows NT 6.0; WOW64; rv:24.0) Gecko/20100101 Firefox/24.0' }\n",
    "url = extend_urls[0]\n",
    "source_code = requests.get(f'{guidURL}{url}', headers=headers).text\n",
    "soup = BeautifulSoup(source_code, 'html.parser')"
   ]
  },
  {
   "cell_type": "code",
   "execution_count": 16,
   "id": "7b98f432",
   "metadata": {},
   "outputs": [],
   "source": [
    "# span, trans dtrans\n",
    "# span, ipa dipa\n",
    "# h2, tw-bw dhw dpos-h_hw di-title\n",
    "# span, pos dpos\n",
    "# span, eg deg\n",
    "# span, deg"
   ]
  },
  {
   "cell_type": "code",
   "execution_count": 21,
   "id": "6a5291b7",
   "metadata": {},
   "outputs": [],
   "source": [
    "def get_details(soup):\n",
    "    title = []\n",
    "    for each_text in soup.findAll('h2', {'class':'tw-bw dhw dpos-h_hw di-title'}):\n",
    "        title.append(each_text.text.strip())\n",
    "    \n",
    "    pos = []\n",
    "    for each_text in soup.findAll('span', {'class':'pos dpos'}):\n",
    "        pos.append(each_text.text.strip())\n",
    "    \n",
    "    ipa = []\n",
    "    for each_text in soup.findAll('span', {'class':'ipa dipa'}):\n",
    "        ipa.append(each_text.text.strip())\n",
    "    \n",
    "    trans = []\n",
    "    for each_text in soup.findAll('span', {'class':'trans dtrans'}):\n",
    "        trans.append(each_text.text.strip())\n",
    "    \n",
    "    examples = []\n",
    "    for each_text in soup.findAll('span', {'class':'eg deg'}):\n",
    "        examples.append(each_text.text.strip())\n",
    "        \n",
    "    more_examples = []\n",
    "    for each_text in soup.findAll('span', {'class':'deg'}):\n",
    "        more_examples.append(each_text.text.strip())\n",
    "    \n",
    "    return {\n",
    "        'title': title,\n",
    "        'pos': pos,\n",
    "        'ipa': ipa,\n",
    "        'translation': trans,\n",
    "        'examples': examples,\n",
    "        'more_examples': list(set(more_examples) - set(examples)),\n",
    "    }"
   ]
  },
  {
   "cell_type": "code",
   "execution_count": 22,
   "id": "b78068c2",
   "metadata": {},
   "outputs": [
    {
     "data": {
      "text/plain": [
       "{'title': ['obsolescent'],\n",
       " 'pos': ['adjective'],\n",
       " 'ipa': ['obsəˈlesnt'],\n",
       " 'translation': ['kian usang'],\n",
       " 'examples': ['obsolescent slang.'],\n",
       " 'more_examples': ['The problem of reconstruction of \"blitzed\" and obsolescent areas falls into two parts which are separate and ought to be kept separate.',\n",
       "  'The ventral sulcus is broad and very weakly developed, and the dorsal fold is obsolescent or almost absent.',\n",
       "  'Each new type has been tremendously different and each new type, by the time it is current, is obsolescent, relative to the drawing board.',\n",
       "  'All of the 7 adjectives in table 3 are related to verbs which themselves are obsolete or obsolescent.',\n",
       "  'But we cannot see words die: many of them just crawl away quietly, and hide in large dictionaries, which provide mem with last resting places labelled \"obsolescent\" or \"archaic\".',\n",
       "  'On the one hand, carers might lose contact with the labour market and their skills might become obsolescent, which would reduce their expected gains from working.',\n",
       "  'To me, they seem obsolescent rather than new and vibrant.',\n",
       "  'Sadly, websites are ephemeral and many of the addresses are already obsolescent.']}"
      ]
     },
     "execution_count": 22,
     "metadata": {},
     "output_type": "execute_result"
    }
   ],
   "source": [
    "get_details(soup)"
   ]
  },
  {
   "cell_type": "code",
   "execution_count": 26,
   "id": "6aaa917f",
   "metadata": {},
   "outputs": [
    {
     "name": "stderr",
     "output_type": "stream",
     "text": [
      "100%|████████████████████████████████████████████████████████████████████████████████████████| 25171/25171 [1:41:39<00:00,  4.13it/s]\n"
     ]
    }
   ],
   "source": [
    "from tqdm import tqdm\n",
    "\n",
    "words = []\n",
    "for url in tqdm(extend_urls):\n",
    "    try:\n",
    "        source_code = requests.get(f'{guidURL}{url}', headers=headers).text\n",
    "        soup = BeautifulSoup(source_code, 'html.parser')\n",
    "        words.append(get_details(soup))\n",
    "    except Exception as e:\n",
    "        print(e)"
   ]
  },
  {
   "cell_type": "code",
   "execution_count": 27,
   "id": "0d43256b",
   "metadata": {},
   "outputs": [],
   "source": [
    "import json\n",
    "\n",
    "with open('cambridge-english-malaysian.json', 'w') as fopen:\n",
    "    json.dump(words, fopen)"
   ]
  },
  {
   "cell_type": "code",
   "execution_count": 28,
   "id": "fa7a133a",
   "metadata": {},
   "outputs": [
    {
     "data": {
      "text/plain": [
       "25171"
      ]
     },
     "execution_count": 28,
     "metadata": {},
     "output_type": "execute_result"
    }
   ],
   "source": [
    "len(words)"
   ]
  },
  {
   "cell_type": "code",
   "execution_count": null,
   "id": "5574d110",
   "metadata": {},
   "outputs": [],
   "source": []
  }
 ],
 "metadata": {
  "kernelspec": {
   "display_name": "Python 3 (ipykernel)",
   "language": "python",
   "name": "python3"
  },
  "language_info": {
   "codemirror_mode": {
    "name": "ipython",
    "version": 3
   },
   "file_extension": ".py",
   "mimetype": "text/x-python",
   "name": "python",
   "nbconvert_exporter": "python",
   "pygments_lexer": "ipython3",
   "version": "3.8.10"
  }
 },
 "nbformat": 4,
 "nbformat_minor": 5
}
