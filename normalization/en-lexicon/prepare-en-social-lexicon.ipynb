{
 "cells": [
  {
   "cell_type": "code",
   "execution_count": 1,
   "id": "50c91c93",
   "metadata": {},
   "outputs": [],
   "source": [
    "# !wget https://github.com/noisy-text/noisy-text.github.io/raw/master/2015/files/lexnorm2015.tgz\n",
    "# !tar -zxf lexnorm2015.tgz\n",
    "# !rm lexnorm2015.tgz"
   ]
  },
  {
   "cell_type": "code",
   "execution_count": 2,
   "id": "e932434a",
   "metadata": {},
   "outputs": [
    {
     "name": "stdout",
     "output_type": "stream",
     "text": [
      "readme.txt  test_data.json  test_truth.json  train_data.json\r\n"
     ]
    }
   ],
   "source": [
    "!ls lexnorm2015"
   ]
  },
  {
   "cell_type": "code",
   "execution_count": 3,
   "id": "23f100d1",
   "metadata": {},
   "outputs": [],
   "source": [
    "import json"
   ]
  },
  {
   "cell_type": "code",
   "execution_count": 4,
   "id": "a9bea377",
   "metadata": {},
   "outputs": [],
   "source": [
    "with open('lexnorm2015/train_data.json') as fopen:\n",
    "    data = json.load(fopen)"
   ]
  },
  {
   "cell_type": "code",
   "execution_count": 5,
   "id": "ad3ed53a",
   "metadata": {},
   "outputs": [
    {
     "data": {
      "text/plain": [
       "2950"
      ]
     },
     "execution_count": 5,
     "metadata": {},
     "output_type": "execute_result"
    }
   ],
   "source": [
    "len(data)"
   ]
  },
  {
   "cell_type": "code",
   "execution_count": 6,
   "id": "3a27a242",
   "metadata": {},
   "outputs": [],
   "source": [
    "from collections import defaultdict\n",
    "\n",
    "PUNCTUATION = '!\"#$%&\\'()*+,./:;<=>?@[\\]^_`{|}~'"
   ]
  },
  {
   "cell_type": "code",
   "execution_count": 12,
   "id": "c2c5bb28",
   "metadata": {},
   "outputs": [],
   "source": [
    "lexicon = defaultdict(list)\n",
    "\n",
    "for d in data:\n",
    "    for i in range(len(d['input'])):\n",
    "        if d['input'][i] in PUNCTUATION or d['output'][i] in PUNCTUATION:\n",
    "            continue\n",
    "        if d['input'][i].lower() == d['output'][i].lower():\n",
    "            continue\n",
    "        l = d['input'][i].lower()\n",
    "        if l not in lexicon[d['output'][i]]:\n",
    "            lexicon[d['output'][i]].append(l)"
   ]
  },
  {
   "cell_type": "code",
   "execution_count": 8,
   "id": "6325863c",
   "metadata": {},
   "outputs": [],
   "source": [
    "with open('lexnorm2015/test_truth.json') as fopen:\n",
    "    data = json.load(fopen)"
   ]
  },
  {
   "cell_type": "code",
   "execution_count": 13,
   "id": "d01ea2aa",
   "metadata": {},
   "outputs": [],
   "source": [
    "for d in data:\n",
    "    for i in range(len(d['input'])):\n",
    "        if d['input'][i] in PUNCTUATION or d['output'][i] in PUNCTUATION:\n",
    "            continue\n",
    "        if d['input'][i].lower() == d['output'][i].lower():\n",
    "            continue\n",
    "        l = d['input'][i].lower()\n",
    "        if l not in lexicon[d['output'][i]]:\n",
    "            lexicon[d['output'][i]].append(l)"
   ]
  },
  {
   "cell_type": "code",
   "execution_count": 15,
   "id": "5d028b50",
   "metadata": {},
   "outputs": [],
   "source": [
    "with open('en-social-media-lexicon.json', 'w') as fopen:\n",
    "    json.dump(lexicon, fopen)"
   ]
  },
  {
   "cell_type": "code",
   "execution_count": null,
   "id": "e80e77ef",
   "metadata": {},
   "outputs": [],
   "source": []
  }
 ],
 "metadata": {
  "kernelspec": {
   "display_name": "Python 3 (ipykernel)",
   "language": "python",
   "name": "python3"
  },
  "language_info": {
   "codemirror_mode": {
    "name": "ipython",
    "version": 3
   },
   "file_extension": ".py",
   "mimetype": "text/x-python",
   "name": "python",
   "nbconvert_exporter": "python",
   "pygments_lexer": "ipython3",
   "version": "3.8.10"
  }
 },
 "nbformat": 4,
 "nbformat_minor": 5
}
