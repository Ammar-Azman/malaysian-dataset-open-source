{
 "cells": [
  {
   "cell_type": "code",
   "execution_count": 1,
   "id": "23d918ae",
   "metadata": {},
   "outputs": [],
   "source": [
    "# !wget https://raw.githubusercontent.com/ajaytiwari0210/Normalization-of-Social-Media-Text/master/dict1.txt\n",
    "# !wget https://raw.githubusercontent.com/ajaytiwari0210/Normalization-of-Social-Media-Text/master/dict2.txt"
   ]
  },
  {
   "cell_type": "code",
   "execution_count": 2,
   "id": "c6e1301c",
   "metadata": {},
   "outputs": [],
   "source": [
    "# !wget https://raw.githubusercontent.com/ajaytiwari0210/Normalization-of-Social-Media-Text/master/spell_errors.txt\n",
    "# !wget https://raw.githubusercontent.com/ajaytiwari0210/Normalization-of-Social-Media-Text/master/social%20_media_dict.txt"
   ]
  },
  {
   "cell_type": "code",
   "execution_count": 3,
   "id": "39685325",
   "metadata": {},
   "outputs": [],
   "source": [
    "# !wget https://raw.githubusercontent.com/AnneDirkson/LexNorm/master/obj_lex/noslang_mod.txt"
   ]
  },
  {
   "cell_type": "code",
   "execution_count": 4,
   "id": "fba7057a",
   "metadata": {},
   "outputs": [],
   "source": [
    "with open('dict1.txt') as fopen:\n",
    "    data = fopen.read().split('\\n')\n",
    "    \n",
    "with open('dict2.txt') as fopen:\n",
    "    data.extend(fopen.read().split('\\n'))"
   ]
  },
  {
   "cell_type": "code",
   "execution_count": 5,
   "id": "a02b03dc",
   "metadata": {},
   "outputs": [],
   "source": [
    "from collections import defaultdict\n",
    "\n",
    "lexicon = defaultdict(list)\n",
    "for d in data:\n",
    "    if not len(d.strip()):\n",
    "        continue\n",
    "    splitted = d.split('\\t')[1].split(' | ')\n",
    "    lexicon[splitted[-1]].extend(splitted[:-1])"
   ]
  },
  {
   "cell_type": "code",
   "execution_count": 6,
   "id": "1e1f4992",
   "metadata": {},
   "outputs": [
    {
     "data": {
      "text/plain": [
       "10881"
      ]
     },
     "execution_count": 6,
     "metadata": {},
     "output_type": "execute_result"
    }
   ],
   "source": [
    "len(lexicon)"
   ]
  },
  {
   "cell_type": "code",
   "execution_count": 7,
   "id": "7c9009d1",
   "metadata": {},
   "outputs": [],
   "source": [
    "with open('spell_errors.txt') as fopen:\n",
    "    data = fopen.read().split('\\n')"
   ]
  },
  {
   "cell_type": "code",
   "execution_count": 8,
   "id": "11690871",
   "metadata": {},
   "outputs": [
    {
     "data": {
      "text/plain": [
       "['raining: rainning, raning',\n",
       " 'writings: writtings',\n",
       " 'disparagingly: disparingly',\n",
       " 'yellow: yello',\n",
       " 'four: forer, fours, fuore, fore*5, for*4',\n",
       " 'woods: woodes',\n",
       " 'hanging: haing',\n",
       " 'aggression: agression',\n",
       " 'looking: loking, begining, luing, look*2, locking, lucking, louk, looing, lookin, liking',\n",
       " 'eligible: eligble, elegable, eligable']"
      ]
     },
     "execution_count": 8,
     "metadata": {},
     "output_type": "execute_result"
    }
   ],
   "source": [
    "data[:10]"
   ]
  },
  {
   "cell_type": "code",
   "execution_count": 9,
   "id": "f53c30ce",
   "metadata": {},
   "outputs": [],
   "source": [
    "for d in data:\n",
    "    if not len(d.strip()):\n",
    "        continue\n",
    "    splitted = d.split(':')\n",
    "    if not len(splitted) == 2:\n",
    "        continue\n",
    "    l = splitted[0].strip()\n",
    "    r = [r_.strip() for r_ in splitted[1].split(',')]\n",
    "    lexicon[l].extend(r)"
   ]
  },
  {
   "cell_type": "code",
   "execution_count": 10,
   "id": "ec2541fc",
   "metadata": {},
   "outputs": [
    {
     "data": {
      "text/plain": [
       "['rainin', 'raininggg', 'rainning', 'raning']"
      ]
     },
     "execution_count": 10,
     "metadata": {},
     "output_type": "execute_result"
    }
   ],
   "source": [
    "lexicon['raining']"
   ]
  },
  {
   "cell_type": "code",
   "execution_count": 11,
   "id": "9e932e17",
   "metadata": {},
   "outputs": [
    {
     "data": {
      "text/plain": [
       "14367"
      ]
     },
     "execution_count": 11,
     "metadata": {},
     "output_type": "execute_result"
    }
   ],
   "source": [
    "len(lexicon)"
   ]
  },
  {
   "cell_type": "code",
   "execution_count": 12,
   "id": "4a97d59c",
   "metadata": {},
   "outputs": [
    {
     "data": {
      "text/plain": [
       "['a$$  -   ass',\n",
       " 'a&f  -   always and forever',\n",
       " \"a'ight  -   alright\",\n",
       " 'a/l  -   age and location',\n",
       " 'a/m  -   away message']"
      ]
     },
     "execution_count": 12,
     "metadata": {},
     "output_type": "execute_result"
    }
   ],
   "source": [
    "with open('noslang_mod.txt') as fopen:\n",
    "    data = fopen.read().split('\\n')\n",
    "    \n",
    "data[:5]"
   ]
  },
  {
   "cell_type": "code",
   "execution_count": 13,
   "id": "e229aded",
   "metadata": {},
   "outputs": [],
   "source": [
    "for d in data:\n",
    "    if not len(d.strip()):\n",
    "        continue\n",
    "    splitted = d.split(':')\n",
    "    if not len(splitted) == 2:\n",
    "        continue\n",
    "    lexicon[splitted[0].strip()].append(splitted[1].strip())"
   ]
  },
  {
   "cell_type": "code",
   "execution_count": 15,
   "id": "f7e97c66",
   "metadata": {},
   "outputs": [],
   "source": [
    "for k in lexicon:\n",
    "    lexicon[k] = list(set(lexicon[k]))"
   ]
  },
  {
   "cell_type": "code",
   "execution_count": 18,
   "id": "dee40617",
   "metadata": {},
   "outputs": [],
   "source": [
    "import json\n",
    "\n",
    "with open('en-social-media-lexicon-v2.json', 'w') as fopen:\n",
    "    json.dump(lexicon, fopen)"
   ]
  }
 ],
 "metadata": {
  "kernelspec": {
   "display_name": "Python 3 (ipykernel)",
   "language": "python",
   "name": "python3"
  },
  "language_info": {
   "codemirror_mode": {
    "name": "ipython",
    "version": 3
   },
   "file_extension": ".py",
   "mimetype": "text/x-python",
   "name": "python",
   "nbconvert_exporter": "python",
   "pygments_lexer": "ipython3",
   "version": "3.8.10"
  }
 },
 "nbformat": 4,
 "nbformat_minor": 5
}
