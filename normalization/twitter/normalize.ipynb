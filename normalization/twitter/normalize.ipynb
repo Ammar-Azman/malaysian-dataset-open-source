{
 "cells": [
  {
   "cell_type": "code",
   "execution_count": 1,
   "id": "86955029",
   "metadata": {},
   "outputs": [],
   "source": [
    "import os\n",
    "os.environ['CUDA_VISIBLE_DEVICES'] = ''"
   ]
  },
  {
   "cell_type": "code",
   "execution_count": 2,
   "id": "e3b2d7f0",
   "metadata": {},
   "outputs": [],
   "source": [
    "import logging\n",
    "\n",
    "logging.basicConfig(level=logging.INFO)"
   ]
  },
  {
   "cell_type": "code",
   "execution_count": 3,
   "id": "aa09111a",
   "metadata": {},
   "outputs": [
    {
     "name": "stderr",
     "output_type": "stream",
     "text": [
      "/home/ubuntu/.local/lib/python3.8/site-packages/tensorflow_addons/utils/ensure_tf_install.py:53: UserWarning: Tensorflow Addons supports using Python ops for all Tensorflow versions above or equal to 2.3.0 and strictly below 2.5.0 (nightly versions are not supported). \n",
      " The versions of TensorFlow you are currently using is 2.6.0 and is not supported. \n",
      "Some things might work, some things might not.\n",
      "If you were to encounter a bug, do not file an issue.\n",
      "If you want to make sure you're using a tested and supported configuration, either change the TensorFlow version or the TensorFlow Addons's version. \n",
      "You can find the compatibility matrix in TensorFlow Addon's readme:\n",
      "https://github.com/tensorflow/addons\n",
      "  warnings.warn(\n",
      "/home/ubuntu/.local/lib/python3.8/site-packages/tensorflow_addons/utils/resource_loader.py:72: UserWarning: You are currently using TensorFlow 2.6.0 and trying to load a custom op (custom_ops/seq2seq/_beam_search_ops.so).\n",
      "TensorFlow Addons has compiled its custom ops against TensorFlow 2.4.0, and there are no compatibility guarantees between the two versions. \n",
      "This means that you might get segfaults when loading the custom op, or other kind of low-level errors.\n",
      " If you do, do not file an issue on Github. This is a known limitation.\n",
      "\n",
      "It might help you to fallback to pure Python ops with TF_ADDONS_PY_OPS . To do that, see https://github.com/tensorflow/addons#gpucpu-custom-ops \n",
      "\n",
      "You can also change the TensorFlow version installed on your system. You would need a TensorFlow version equal to or above 2.4.0 and strictly below 2.5.0.\n",
      " Note that nightly versions of TensorFlow, as well as non-pip TensorFlow like `conda install tensorflow` or compiled from source are not supported.\n",
      "\n",
      "The last solution is to find the TensorFlow Addons version that has custom ops compatible with the TensorFlow installed on your system. To do that, refer to the readme: https://github.com/tensorflow/addons\n",
      "  warnings.warn(\n",
      "/home/ubuntu/.local/lib/python3.8/site-packages/malaya_boilerplate/frozen_graph.py:28: UserWarning: Cannot import beam_search_ops from Tensorflow Addons, `deep_model` for stemmer will not available to use, make sure Tensorflow Addons version >= 0.12.0\n",
      "  warnings.warn(\n"
     ]
    }
   ],
   "source": [
    "import malaya\n",
    "from tqdm import tqdm\n",
    "from glob import glob\n",
    "import json"
   ]
  },
  {
   "cell_type": "code",
   "execution_count": 4,
   "id": "3fd504c0",
   "metadata": {},
   "outputs": [],
   "source": [
    "# !wget https://f000.backblazeb2.com/file/malay-dataset/dumping/twitter/compiled-2022-06-08-twitter.tar\n",
    "# !tar -xf compiled-2022-06-08-twitter.tar\n",
    "# !rm compiled-2022-06-08-twitter.tar"
   ]
  },
  {
   "cell_type": "code",
   "execution_count": 5,
   "id": "f51f6cec",
   "metadata": {},
   "outputs": [
    {
     "data": {
      "text/plain": [
       "['2022-06-08/2022-06-08-bahasa-0.json', '2022-06-08/2022-06-08-bahasa-1.json']"
      ]
     },
     "execution_count": 5,
     "metadata": {},
     "output_type": "execute_result"
    }
   ],
   "source": [
    "files = sorted(glob('2022-06-08/*.json'))\n",
    "files[:2]"
   ]
  },
  {
   "cell_type": "code",
   "execution_count": 7,
   "id": "c84b7419",
   "metadata": {},
   "outputs": [
    {
     "name": "stderr",
     "output_type": "stream",
     "text": [
      "INFO:huggingface:downloading frozen huseinzol05/v27-preprocessing/bm_1grams.json\n"
     ]
    }
   ],
   "source": [
    "corrector = malaya.spell.probability()"
   ]
  },
  {
   "cell_type": "code",
   "execution_count": 8,
   "id": "cbda5188",
   "metadata": {},
   "outputs": [
    {
     "name": "stderr",
     "output_type": "stream",
     "text": [
      "INFO:frozen_graph:running home/ubuntu/.cache/huggingface/hub using device /device:CPU:0\n",
      "2022-06-09 15:32:13.524105: I tensorflow/core/platform/cpu_feature_guard.cc:142] This TensorFlow binary is optimized with oneAPI Deep Neural Network Library (oneDNN) to use the following CPU instructions in performance-critical operations:  AVX2 AVX512F FMA\n",
      "To enable them in other operations, rebuild TensorFlow with the appropriate compiler flags.\n",
      "2022-06-09 15:32:13.527705: E tensorflow/stream_executor/cuda/cuda_driver.cc:271] failed call to cuInit: CUDA_ERROR_NO_DEVICE: no CUDA-capable device is detected\n",
      "2022-06-09 15:32:13.527720: I tensorflow/stream_executor/cuda/cuda_diagnostics.cc:169] retrieving CUDA diagnostic information for host: huseincomel-desktop\n",
      "2022-06-09 15:32:13.527723: I tensorflow/stream_executor/cuda/cuda_diagnostics.cc:176] hostname: huseincomel-desktop\n",
      "2022-06-09 15:32:13.527762: I tensorflow/stream_executor/cuda/cuda_diagnostics.cc:200] libcuda reported version is: Not found: was unable to find libcuda.so DSO loaded into this program\n",
      "2022-06-09 15:32:13.527782: I tensorflow/stream_executor/cuda/cuda_diagnostics.cc:204] kernel reported version is: 470.129.6\n"
     ]
    }
   ],
   "source": [
    "nmt = malaya.translation.en_ms.transformer(model = 'base')\n",
    "nmt_func = lambda x: nmt.greedy_decoder([x])[0]"
   ]
  },
  {
   "cell_type": "code",
   "execution_count": 9,
   "id": "0f32e554",
   "metadata": {},
   "outputs": [
    {
     "name": "stderr",
     "output_type": "stream",
     "text": [
      "INFO:frozen_graph:running home/ubuntu/.cache/huggingface/hub using device /device:CPU:0\n"
     ]
    }
   ],
   "source": [
    "segmenter = malaya.segmentation.transformer(model = 'base')\n",
    "segmenter_func = lambda x: segmenter.greedy_decoder([x])[0]"
   ]
  },
  {
   "cell_type": "code",
   "execution_count": 11,
   "id": "e2e88959",
   "metadata": {},
   "outputs": [
    {
     "data": {
      "text/plain": [
       "200000"
      ]
     },
     "execution_count": 11,
     "metadata": {},
     "output_type": "execute_result"
    }
   ],
   "source": [
    "strings = []\n",
    "for f in files[:2]:\n",
    "    with open(f) as fopen:\n",
    "        data = json.load(fopen)\n",
    "    for d in data:\n",
    "        if d['retweet_text_full'] == 'NULL':\n",
    "            t = d['data_text']\n",
    "        else:\n",
    "            t = d['retweet_text_full']\n",
    "        if len(t) > 2:\n",
    "            strings.append(t)\n",
    "    \n",
    "len(strings)"
   ]
  },
  {
   "cell_type": "code",
   "execution_count": 12,
   "id": "5f57e32d",
   "metadata": {},
   "outputs": [],
   "source": [
    "normalizer = malaya.normalize.normalizer(corrector)"
   ]
  },
  {
   "cell_type": "code",
   "execution_count": 13,
   "id": "2b14ca42",
   "metadata": {},
   "outputs": [
    {
     "data": {
      "text/plain": [
       "{'normalize': 'Auto teringat adik sendiri', 'date': {}, 'money': {}}"
      ]
     },
     "execution_count": 13,
     "metadata": {},
     "output_type": "execute_result"
    }
   ],
   "source": [
    "normalizer.normalize(data[0]['data_text'],\n",
    "                    normalize_entity = False,\n",
    "                    normalize_year = False,\n",
    "                    normalize_telephone = False)"
   ]
  },
  {
   "cell_type": "code",
   "execution_count": 14,
   "id": "dba1deb3",
   "metadata": {},
   "outputs": [
    {
     "data": {
      "text/plain": [
       "{'normalize': 'Auto teringat adik sendiri', 'date': {}, 'money': {}}"
      ]
     },
     "execution_count": 14,
     "metadata": {},
     "output_type": "execute_result"
    }
   ],
   "source": [
    "normalizer.normalize(data[0]['data_text'],\n",
    "                    normalize_entity = False,\n",
    "                    normalize_year = False,\n",
    "                    normalize_telephone = False,\n",
    "                    translator = nmt_func,\n",
    "                    segmenter = segmenter_func)"
   ]
  },
  {
   "cell_type": "code",
   "execution_count": 15,
   "id": "0dbc06ba",
   "metadata": {},
   "outputs": [
    {
     "name": "stderr",
     "output_type": "stream",
     "text": [
      "INFO:huggingface:downloading frozen huseinzol05/v34-language-detection/fasttext-malaya.ftz\n",
      "Warning : `load_model` does not return WordVectorModel or SupervisedModel any more, but a `FastText` object which is very similar.\n"
     ]
    }
   ],
   "source": [
    "fast_text = malaya.language_detection.fasttext()"
   ]
  },
  {
   "cell_type": "code",
   "execution_count": 16,
   "id": "0285668e",
   "metadata": {},
   "outputs": [
    {
     "name": "stdout",
     "output_type": "stream",
     "text": [
      "CPU times: user 171 µs, sys: 104 µs, total: 275 µs\n",
      "Wall time: 278 µs\n"
     ]
    },
    {
     "data": {
      "text/plain": [
       "'malay'"
      ]
     },
     "execution_count": 16,
     "metadata": {},
     "output_type": "execute_result"
    }
   ],
   "source": [
    "%%time\n",
    "fast_text.predict(strings[:1])[0]"
   ]
  },
  {
   "cell_type": "code",
   "execution_count": 17,
   "id": "4a9fcd30",
   "metadata": {},
   "outputs": [
    {
     "data": {
      "text/plain": [
       "106740"
      ]
     },
     "execution_count": 17,
     "metadata": {},
     "output_type": "execute_result"
    }
   ],
   "source": [
    "strings = list(set(strings))\n",
    "len(strings)"
   ]
  },
  {
   "cell_type": "code",
   "execution_count": 18,
   "id": "03ef57f7",
   "metadata": {},
   "outputs": [],
   "source": [
    "normalizer = malaya.normalize.normalizer()"
   ]
  },
  {
   "cell_type": "code",
   "execution_count": null,
   "id": "c694fa4e",
   "metadata": {},
   "outputs": [
    {
     "name": "stderr",
     "output_type": "stream",
     "text": [
      "  1%|          | 615/106740 [00:30<1:14:43, 23.67it/s]"
     ]
    }
   ],
   "source": [
    "import re\n",
    "\n",
    "results = []\n",
    "for i in tqdm(range(len(strings))):\n",
    "    if fast_text.predict([strings[i]])[0] not in ['malay', 'rojak']:\n",
    "        continue\n",
    "    try:\n",
    "        r = normalizer.normalize(strings[i],\n",
    "                normalize_entity = False,\n",
    "                normalize_year = True,\n",
    "                normalize_telephone = False,\n",
    "                segmenter = segmenter_func)\n",
    "        results.append((strings[i], re.sub(r'[ ]+', ' ', r['normalize']).strip()))\n",
    "    except:\n",
    "        pass"
   ]
  },
  {
   "cell_type": "code",
   "execution_count": null,
   "id": "9a4d5e0a",
   "metadata": {},
   "outputs": [],
   "source": [
    "len(results)"
   ]
  },
  {
   "cell_type": "code",
   "execution_count": null,
   "id": "e404115a",
   "metadata": {},
   "outputs": [],
   "source": [
    "with open('normalized.json', 'w') as fopen:\n",
    "    json.dump(results, fopen)"
   ]
  }
 ],
 "metadata": {
  "kernelspec": {
   "display_name": "Python 3 (ipykernel)",
   "language": "python",
   "name": "python3"
  },
  "language_info": {
   "codemirror_mode": {
    "name": "ipython",
    "version": 3
   },
   "file_extension": ".py",
   "mimetype": "text/x-python",
   "name": "python",
   "nbconvert_exporter": "python",
   "pygments_lexer": "ipython3",
   "version": "3.8.10"
  }
 },
 "nbformat": 4,
 "nbformat_minor": 5
}
