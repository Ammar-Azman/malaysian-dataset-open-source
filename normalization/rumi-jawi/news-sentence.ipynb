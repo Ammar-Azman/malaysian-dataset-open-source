{
 "cells": [
  {
   "cell_type": "code",
   "execution_count": 1,
   "id": "540e74d6",
   "metadata": {},
   "outputs": [],
   "source": [
    "import requests\n",
    "import urllib.parse\n",
    "from bs4 import BeautifulSoup"
   ]
  },
  {
   "cell_type": "code",
   "execution_count": 2,
   "id": "107f3fab",
   "metadata": {},
   "outputs": [],
   "source": [
    "import requests\n",
    "from requests.structures import CaseInsensitiveDict\n",
    "\n",
    "url = \"https://www.ejawi.net/result.php\"\n",
    "\n",
    "headers = CaseInsensitiveDict()\n",
    "headers[\"authority\"] = \"www.ejawi.net\"\n",
    "headers[\"accept\"] = \"text/html,application/xhtml+xml,application/xml;q=0.9,image/avif,image/webp,image/apng,*/*;q=0.8,application/signed-exchange;v=b3;q=0.9\"\n",
    "headers[\"accept-language\"] = \"en-MY,en;q=0.9,en-US;q=0.8,ms;q=0.7\"\n",
    "headers[\"cache-control\"] = \"no-cache\"\n",
    "headers[\"content-type\"] = \"application/x-www-form-urlencoded\"\n",
    "headers[\"cookie\"] = \"__utma=248434904.1854521706.1653239537.1653239537.1653239537.1; __utmc=248434904; __utmz=248434904.1653239537.1.1.utmcsr=google|utmccn=(organic)|utmcmd=organic|utmctr=(not%20provided); __utmt=1; __utmb=248434904.1.10.1653239537\"\n",
    "headers[\"origin\"] = \"https://www.ejawi.net\"\n",
    "headers[\"pragma\"] = \"no-cache\"\n",
    "headers[\"referer\"] = \"https://www.ejawi.net/converterV2.php?go=rumi\"\n",
    "headers[\"sec-ch-ua\"] = '\" Not A;Brand\";v=\"99\", \"Chromium\";v=\"100\", \"Google Chrome\";v=\"100\"'\n",
    "headers[\"sec-ch-ua-mobile\"] = \"?0\"\n",
    "headers[\"sec-ch-ua-platform\"] = '\"macOS\"'\n",
    "headers[\"sec-fetch-dest\"] = \"iframe\"\n",
    "headers[\"sec-fetch-mode\"] = \"navigate\"\n",
    "headers[\"sec-fetch-site\"] = \"same-origin\"\n",
    "headers[\"sec-fetch-user\"] = \"?1\"\n",
    "headers[\"upgrade-insecure-requests\"] = \"1\"\n",
    "headers[\"user-agent\"] = \"Mozilla/5.0 (Macintosh; Intel Mac OS X 10_15_2) AppleWebKit/537.36 (KHTML, like Gecko) Chrome/100.0.4896.88 Safari/537.36\""
   ]
  },
  {
   "cell_type": "code",
   "execution_count": 3,
   "id": "d2b750e0",
   "metadata": {},
   "outputs": [],
   "source": [
    "def get_jawi(string):\n",
    "    data = f\"phonText={string}&disable_direction=on&number=1\"\n",
    "    resp = requests.post(url, headers=headers, data=data)\n",
    "    decoded = resp._content.decode()\n",
    "    soup = BeautifulSoup(decoded, 'html.parser')\n",
    "    return soup.find_all('td')[0].text"
   ]
  },
  {
   "cell_type": "code",
   "execution_count": 4,
   "id": "8c22c493",
   "metadata": {},
   "outputs": [
    {
     "data": {
      "text/plain": [
       "'\"هيللو\"'"
      ]
     },
     "execution_count": 4,
     "metadata": {},
     "output_type": "execute_result"
    }
   ],
   "source": [
    "get_jawi('\"hello\"')"
   ]
  },
  {
   "cell_type": "code",
   "execution_count": 5,
   "id": "02c594f9",
   "metadata": {},
   "outputs": [],
   "source": [
    "# !wget https://f000.backblazeb2.com/file/malay-dataset/pure-text/dumping-news.txt"
   ]
  },
  {
   "cell_type": "code",
   "execution_count": 6,
   "id": "3cbf7427",
   "metadata": {},
   "outputs": [
    {
     "name": "stdout",
     "output_type": "stream",
     "text": [
      "Lawatan Putera Mahkota Arab Saudi bincang pelaburan, ekonomi\r\n",
      "KUALA LUMPUR: Lawatan Putera Mahkota Arab Saudi, Mohammed bin Salman ke Malaysia pada Ahad ini terarah kepada pertemuan bagi membincangkan isu ekonomi dan pelaburan antara kedua-dua negara.\r\n",
      "Menteri Luar, Datuk Saifuddin Abdullah, berkata tujuan lawatan kerabat diraja Arab Saudi itu akan diperjelaskan oleh Kementerian Hal Ehwal Ekonomi.\r\n",
      "\"Saya rasa elok perkara itu (lawatan Putera Mahkota Arab Saudi) dijelaskan sendiri oleh (Menteri Hal Ehwal Ekonomi) Datuk Seri Mohamed Azmin (Ali).\r\n",
      "\"Selain saya (keluarkan kenyataan mengenai lawatan itu), kamu (pemberita) juga boleh ajukan soalan kepada Datuk Seri Mohamed Azmin.\r\n",
      "\"Ia banyak berkisar ekonomi dan perniagaan,\" katanya kepada pemberita selepas hadir di majlis meja bulat bersama belia di Institut Diplomasi dan Hubungan Luar Negeri, di sini, hari ini.\r\n",
      "Lawatan Putera Mahkota Arab Saudi ke Malaysia akan berlangsung selama dua hari berakhir Isnin ini.\r\n",
      "\r\n",
      "Isu halal dominasi lawatan Mujahid ke Jordan, Turki dan Bosnia\r\n",
      "KUALA LUMPUR - Menteri di Jabatan Perdana Menteri, Datuk Seri Dr Mujahid Yusof Rawa hari ini mengakhiri lawatan kerja lapan hari ke Jordan, Turki dan Bosnia Herzegovina, lawatan yang bertujuan mengeratkan lagi hubungan dua hala dengan ketiga-tiga negara berkenaan.\r\n"
     ]
    }
   ],
   "source": [
    "!head -n 10 dumping-news.txt"
   ]
  },
  {
   "cell_type": "code",
   "execution_count": 7,
   "id": "3b09aca1",
   "metadata": {},
   "outputs": [],
   "source": [
    "import json\n",
    "import random"
   ]
  },
  {
   "cell_type": "code",
   "execution_count": 8,
   "id": "38d75a15",
   "metadata": {},
   "outputs": [
    {
     "data": {
      "text/plain": [
       "1791784"
      ]
     },
     "execution_count": 8,
     "metadata": {},
     "output_type": "execute_result"
    }
   ],
   "source": [
    "with open('dumping-news.txt') as fopen:\n",
    "    data = list(filter(None, fopen.read().split('\\n')))\n",
    "    \n",
    "len(data)"
   ]
  },
  {
   "cell_type": "code",
   "execution_count": 9,
   "id": "085df375",
   "metadata": {},
   "outputs": [
    {
     "data": {
      "text/plain": [
       "['Lawatan Putera Mahkota Arab', 'Saudi bincang pelaburan, ekonomi']"
      ]
     },
     "execution_count": 9,
     "metadata": {},
     "output_type": "execute_result"
    }
   ],
   "source": [
    "def window(string, n = 4):\n",
    "    splitted = string.split()\n",
    "    return [' '.join(splitted[i: i + n]) for i in range(0, len(splitted), n)]\n",
    "\n",
    "window(data[0])"
   ]
  },
  {
   "cell_type": "code",
   "execution_count": 10,
   "id": "7891dd93",
   "metadata": {},
   "outputs": [],
   "source": [
    "import mp"
   ]
  },
  {
   "cell_type": "code",
   "execution_count": 11,
   "id": "c84e57f2",
   "metadata": {
    "scrolled": true
   },
   "outputs": [],
   "source": [
    "windows = []\n",
    "for i in range(30000):\n",
    "    windows.extend(window(data[i], n = random.randint(2, 6)))"
   ]
  },
  {
   "cell_type": "code",
   "execution_count": 12,
   "id": "8d3aa83f",
   "metadata": {},
   "outputs": [
    {
     "data": {
      "text/plain": [
       "180618"
      ]
     },
     "execution_count": 12,
     "metadata": {},
     "output_type": "execute_result"
    }
   ],
   "source": [
    "len(windows)"
   ]
  },
  {
   "cell_type": "code",
   "execution_count": 13,
   "id": "89fcbe94",
   "metadata": {},
   "outputs": [],
   "source": [
    "import re\n",
    "from unidecode import unidecode\n",
    "\n",
    "_punctuation = \"!'(),.:;? +\"\n",
    "_special = '-'\n",
    "_letters = 'ABCDEFGHIJKLMNOPQRSTUVWXYZabcdefghijklmnopqrstuvwxyz'\n",
    "_numbers = '0123456789'\n",
    "_small_letters = 'abcdefghijklmnopqrstuvwxyz'\n",
    "\n",
    "SYMBOLS = (\n",
    "    list(_special) + list(_punctuation) + list(_letters) + list(_numbers)\n",
    ")\n",
    "\n",
    "def cleaning(string):\n",
    "    string = unidecode(string)\n",
    "    string = ''.join([c if c in SYMBOLS else ' ' for c in string])\n",
    "    string = re.sub(r'[ ]+', ' ', string.lower()).strip()\n",
    "    return string"
   ]
  },
  {
   "cell_type": "code",
   "execution_count": 14,
   "id": "71a86164",
   "metadata": {},
   "outputs": [],
   "source": [
    "from tqdm import tqdm\n",
    "\n",
    "def loop(files):\n",
    "    windows, _ = files\n",
    "    results = []\n",
    "    for d in tqdm(windows):\n",
    "        try:\n",
    "            t = cleaning(d)\n",
    "            if len(t):\n",
    "                r = get_jawi(t)\n",
    "                if len(r):\n",
    "                    results.append((t, r))\n",
    "        except Exception as e:\n",
    "            print(e)\n",
    "    return results\n",
    "        "
   ]
  },
  {
   "cell_type": "code",
   "execution_count": null,
   "id": "edd9630a",
   "metadata": {},
   "outputs": [
    {
     "name": "stderr",
     "output_type": "stream",
     "text": [
      "  1%|          | 146/15051 [00:31<55:46,  4.45it/s]  "
     ]
    }
   ],
   "source": [
    "r = mp.multiprocessing(windows, loop, cores = 12)"
   ]
  },
  {
   "cell_type": "code",
   "execution_count": null,
   "id": "32a30ad7",
   "metadata": {},
   "outputs": [],
   "source": [
    "with open('wikipedia-news.json', 'w') as fopen:\n",
    "    json.dump(r, fopen)"
   ]
  },
  {
   "cell_type": "code",
   "execution_count": null,
   "id": "0c8868ec",
   "metadata": {},
   "outputs": [],
   "source": []
  }
 ],
 "metadata": {
  "kernelspec": {
   "display_name": "Python 3 (ipykernel)",
   "language": "python",
   "name": "python3"
  },
  "language_info": {
   "codemirror_mode": {
    "name": "ipython",
    "version": 3
   },
   "file_extension": ".py",
   "mimetype": "text/x-python",
   "name": "python",
   "nbconvert_exporter": "python",
   "pygments_lexer": "ipython3",
   "version": "3.8.10"
  }
 },
 "nbformat": 4,
 "nbformat_minor": 5
}
