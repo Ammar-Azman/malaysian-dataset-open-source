{
 "cells": [
  {
   "cell_type": "code",
   "execution_count": 1,
   "metadata": {},
   "outputs": [],
   "source": [
    "import requests\n",
    "import urllib.parse\n",
    "from bs4 import BeautifulSoup"
   ]
  },
  {
   "cell_type": "code",
   "execution_count": 2,
   "metadata": {},
   "outputs": [],
   "source": [
    "import requests\n",
    "from requests.structures import CaseInsensitiveDict\n",
    "\n",
    "url = \"https://www.ejawi.net/result.php\"\n",
    "\n",
    "headers = CaseInsensitiveDict()\n",
    "headers[\"authority\"] = \"www.ejawi.net\"\n",
    "headers[\"accept\"] = \"text/html,application/xhtml+xml,application/xml;q=0.9,image/avif,image/webp,image/apng,*/*;q=0.8,application/signed-exchange;v=b3;q=0.9\"\n",
    "headers[\"accept-language\"] = \"en-MY,en;q=0.9,en-US;q=0.8,ms;q=0.7\"\n",
    "headers[\"cache-control\"] = \"no-cache\"\n",
    "headers[\"content-type\"] = \"application/x-www-form-urlencoded\"\n",
    "headers[\"cookie\"] = \"__utma=248434904.1854521706.1653239537.1653239537.1653239537.1; __utmc=248434904; __utmz=248434904.1653239537.1.1.utmcsr=google|utmccn=(organic)|utmcmd=organic|utmctr=(not%20provided); __utmt=1; __utmb=248434904.1.10.1653239537\"\n",
    "headers[\"origin\"] = \"https://www.ejawi.net\"\n",
    "headers[\"pragma\"] = \"no-cache\"\n",
    "headers[\"referer\"] = \"https://www.ejawi.net/converterV2.php?go=rumi\"\n",
    "headers[\"sec-ch-ua\"] = '\" Not A;Brand\";v=\"99\", \"Chromium\";v=\"100\", \"Google Chrome\";v=\"100\"'\n",
    "headers[\"sec-ch-ua-mobile\"] = \"?0\"\n",
    "headers[\"sec-ch-ua-platform\"] = '\"macOS\"'\n",
    "headers[\"sec-fetch-dest\"] = \"iframe\"\n",
    "headers[\"sec-fetch-mode\"] = \"navigate\"\n",
    "headers[\"sec-fetch-site\"] = \"same-origin\"\n",
    "headers[\"sec-fetch-user\"] = \"?1\"\n",
    "headers[\"upgrade-insecure-requests\"] = \"1\"\n",
    "headers[\"user-agent\"] = \"Mozilla/5.0 (Macintosh; Intel Mac OS X 10_15_2) AppleWebKit/537.36 (KHTML, like Gecko) Chrome/100.0.4896.88 Safari/537.36\""
   ]
  },
  {
   "cell_type": "code",
   "execution_count": 3,
   "metadata": {},
   "outputs": [],
   "source": [
    "def get_jawi(string):\n",
    "    data = f\"phonText={string}&disable_direction=on&number=1\"\n",
    "    resp = requests.post(url, headers=headers, data=data)\n",
    "    decoded = resp._content.decode()\n",
    "    soup = BeautifulSoup(decoded, 'html.parser')\n",
    "    return soup.find_all('td')[0].text"
   ]
  },
  {
   "cell_type": "code",
   "execution_count": 4,
   "metadata": {},
   "outputs": [
    {
     "data": {
      "text/plain": [
       "'\"هيللو\"'"
      ]
     },
     "execution_count": 4,
     "metadata": {},
     "output_type": "execute_result"
    }
   ],
   "source": [
    "get_jawi('\"hello\"')"
   ]
  },
  {
   "cell_type": "code",
   "execution_count": 5,
   "metadata": {},
   "outputs": [],
   "source": [
    "# !wget https://huggingface.co/datasets/mesolitica/wikipedia/resolve/main/wikipedia-2023-06-10.jsonl\n",
    "# !cp ../wikipedia-data/wikipedia.jsonl ."
   ]
  },
  {
   "cell_type": "code",
   "execution_count": 6,
   "metadata": {},
   "outputs": [],
   "source": [
    "import json\n",
    "import random"
   ]
  },
  {
   "cell_type": "code",
   "execution_count": 7,
   "metadata": {},
   "outputs": [],
   "source": [
    "# !wget https://gist.githubusercontent.com/huseinzol05/98974ae8c6c7a65d4bc0af9f5003786a/raw/5aa5257608b61e8fcc828e99fbd070d5ca7358e3/mp.py"
   ]
  },
  {
   "cell_type": "code",
   "execution_count": 8,
   "metadata": {},
   "outputs": [],
   "source": [
    "import mp"
   ]
  },
  {
   "cell_type": "code",
   "execution_count": 9,
   "metadata": {},
   "outputs": [],
   "source": [
    "a = []\n",
    "with open('wikipedia.jsonl') as fopen:\n",
    "    for l in fopen:\n",
    "        data = json.loads(l)\n",
    "        if data['text'] == ' __NOEDITSECTION__':\n",
    "            continue\n",
    "        a.append(data['text'])"
   ]
  },
  {
   "cell_type": "code",
   "execution_count": 10,
   "metadata": {},
   "outputs": [],
   "source": [
    "def window(string, n = 4):\n",
    "    splitted = string.split()\n",
    "    return [' '.join(splitted[i: i + n]) for i in range(0, len(splitted), n)]"
   ]
  },
  {
   "cell_type": "code",
   "execution_count": 11,
   "metadata": {},
   "outputs": [],
   "source": [
    "import re\n",
    "from unidecode import unidecode\n",
    "\n",
    "_punctuation = \"!'(),.:;? +\"\n",
    "_special = '-'\n",
    "_letters = 'ABCDEFGHIJKLMNOPQRSTUVWXYZabcdefghijklmnopqrstuvwxyz'\n",
    "_numbers = '0123456789'\n",
    "_small_letters = 'abcdefghijklmnopqrstuvwxyz'\n",
    "\n",
    "SYMBOLS = (\n",
    "    list(_special) + list(_punctuation) + list(_letters) + list(_numbers)\n",
    ")\n",
    "\n",
    "def cleaning(string):\n",
    "    string = unidecode(string)\n",
    "    string = ''.join([c if c in SYMBOLS else ' ' for c in string])\n",
    "    string = re.sub(r'[ ]+', ' ', string).strip()\n",
    "    return string"
   ]
  },
  {
   "cell_type": "code",
   "execution_count": 12,
   "metadata": {},
   "outputs": [],
   "source": [
    "windows = window(a[0], n = random.randint(20, 200))"
   ]
  },
  {
   "cell_type": "code",
   "execution_count": 13,
   "metadata": {},
   "outputs": [
    {
     "data": {
      "text/plain": [
       "'Bahasa Melayu (Tulisan Jawi: bhs mlyw; Rencong: ) ialah salah satu daripada bahasa-bahasa Melayu-Polinesia di bawah keluarga bahasa Austronesia, yang merupakan bahasa rasmi di Brunei, Indonesia, Malaysia dan Singapura, serta dituturkan di Timor Leste dan sebahagian wilayah di Filipina dan Thailand. Jumlah penutur bahasa Melayu mencakupi lebih daripada 290 juta penutur (seramai 260 juta orang bertuturbahasa Indonesia) merentasi kawasan maritim Asia Tenggara. Sebagai salah satu daripada bahasa-bahasa yang paling luas digunakan di Asia Tenggara, bahasa Melayu mempunyai istilah perundangan yang berbeza di negara-negara terlibat bergantung pada sejarah dan budaya penggunaan bahasa Melayu di negara-negara tersebut. Di Malaysia, istilah bahasa Melayu ialah istilah de jure untuk pentakrifan rasmi'"
      ]
     },
     "execution_count": 13,
     "metadata": {},
     "output_type": "execute_result"
    }
   ],
   "source": [
    "cleaning(windows[0])"
   ]
  },
  {
   "cell_type": "code",
   "execution_count": 14,
   "metadata": {},
   "outputs": [
    {
     "data": {
      "text/plain": [
       "'بهاس ملايو ﴿توليسن جاوي: بهس مليو; رنچوڠ: ﴾ اياله ساله ساتو درڤد بهاس-بهاس ملايو-ڤولينيسيا د باوه كلوارڬ بهاس اوسترونيسيا، يڠ مروڤاكن بهاس راسمي د بروني، إندونيسيا، مليسيا دان سيڠاڤورا، سرتا دتوتوركن د تيمور ليست دان سباهاڬين ولايه د الفلبين دان تايلاند. جومله ڤنوتور بهاس ملايو منچاكوڤي لبيه درڤد ٢٩٠ جوت ڤنوتور ﴿سراما ٢٦٠ جوت اورڠ برتوتوربهاس إندونيسيا﴾ مرنتسي كاوسن ماريتيم اسيا تڠڬارا. سباڬاي ساله ساتو درڤد بهاس-بهاس يڠ ڤاليڠ لواس دڬوناكن د اسيا تڠڬارا، بهاس ملايو ممڤوڽاءي اصطلاح ڤرونداڠن يڠ بربيذا د نڬارا-نڬارا ترليبت برڬنتوڠ ڤد سجاره دان بوديا ڤڠڬوناان بهاس ملايو د نڬارا-نڬارا ترسبوت. د مليسيا، اصطلاح بهاس ملايو اياله اصطلاح د جوري اونتوق ڤينتاكريفن راسمي'"
      ]
     },
     "execution_count": 14,
     "metadata": {},
     "output_type": "execute_result"
    }
   ],
   "source": [
    "get_jawi(cleaning(windows[0]))"
   ]
  },
  {
   "cell_type": "code",
   "execution_count": 18,
   "metadata": {},
   "outputs": [],
   "source": [
    "from tqdm import tqdm\n",
    "\n",
    "def loop(texts):\n",
    "    texts, index = texts\n",
    "    results = []\n",
    "    with open(f'wiki-rumi-jawi-{index}.jsonl', 'w') as fopen:\n",
    "        for d in tqdm(texts):\n",
    "            windows = window(d, n = random.randint(20, 200))\n",
    "            for w in windows:\n",
    "                try:\n",
    "                    t = cleaning(w)\n",
    "                    if len(t):\n",
    "                        r = get_jawi(t)\n",
    "                        if len(r):\n",
    "                            d = {\n",
    "                                'malay': t,\n",
    "                                'jawi': r\n",
    "                            }\n",
    "                            fopen.write(f'{json.dumps(d)}\\n')\n",
    "                except Exception as e:\n",
    "                    print(e)"
   ]
  },
  {
   "cell_type": "code",
   "execution_count": 20,
   "metadata": {},
   "outputs": [
    {
     "name": "stderr",
     "output_type": "stream",
     "text": [
      "100%|███████████████████████████████████████████████████████████████████████████████████████████████| 5/5 [00:06<00:00,  1.20s/it]\n"
     ]
    }
   ],
   "source": [
    "r = loop((a[:5],0))"
   ]
  },
  {
   "cell_type": "code",
   "execution_count": 21,
   "metadata": {},
   "outputs": [],
   "source": [
    "!rm wiki-rumi-jawi-0.jsonl wiki-rumi-jawi.jsonl"
   ]
  },
  {
   "cell_type": "code",
   "execution_count": 22,
   "metadata": {},
   "outputs": [
    {
     "name": "stderr",
     "output_type": "stream",
     "text": [
      "100%|█████████████████████████████████████████████████████████████████████████████████████| 43432/43432 [2:52:30<00:00,  4.20it/s]\n",
      "100%|█████████████████████████████████████████████████████████████████████████████████████| 43432/43432 [2:54:21<00:00,  4.15it/s]\n",
      "100%|█████████████████████████████████████████████████████████████████████████████████████| 43432/43432 [3:22:04<00:00,  3.58it/s]\n",
      " 93%|███████████████████████████████████████████████████████████████████████████████▏     | 40441/43432 [3:42:23<07:27,  6.69it/s]IOPub message rate exceeded.\n",
      "The notebook server will temporarily stop sending output\n",
      "to the client in order to avoid crashing it.\n",
      "To change this limit, set the config variable\n",
      "`--NotebookApp.iopub_msg_rate_limit`.\n",
      "\n",
      "Current values:\n",
      "NotebookApp.iopub_msg_rate_limit=1000.0 (msgs/sec)\n",
      "NotebookApp.rate_limit_window=3.0 (secs)\n",
      "\n",
      " 68%|████████████████████████████████████████████████████████▌                          | 29629/43432 [4:15:22<2:27:45,  1.56it/s]IOPub message rate exceeded.\n",
      "The notebook server will temporarily stop sending output\n",
      "to the client in order to avoid crashing it.\n",
      "To change this limit, set the config variable\n",
      "`--NotebookApp.iopub_msg_rate_limit`.\n",
      "\n",
      "Current values:\n",
      "NotebookApp.iopub_msg_rate_limit=1000.0 (msgs/sec)\n",
      "NotebookApp.rate_limit_window=3.0 (secs)\n",
      "\n",
      "100%|█████████████████████████████████████████████████████████████████████████████████████| 43432/43432 [4:50:23<00:00,  2.49it/s]\n",
      "100%|█████████████████████████████████████████████████████████████████████████████████████| 43432/43432 [4:53:18<00:00,  2.47it/s]\n",
      "100%|█████████████████████████████████████████████████████████████████████████████████████| 43432/43432 [5:09:49<00:00,  2.34it/s]\n",
      " 47%|███████████████████████████████████████                                            | 20462/43432 [5:13:48<2:24:48,  2.64it/s]IOPub message rate exceeded.\n",
      "The notebook server will temporarily stop sending output\n",
      "to the client in order to avoid crashing it.\n",
      "To change this limit, set the config variable\n",
      "`--NotebookApp.iopub_msg_rate_limit`.\n",
      "\n",
      "Current values:\n",
      "NotebookApp.iopub_msg_rate_limit=1000.0 (msgs/sec)\n",
      "NotebookApp.rate_limit_window=3.0 (secs)\n",
      "\n",
      " 94%|███████████████████████████████████████████████████████████████████████████████▌     | 40656/43432 [7:29:31<15:19,  3.02it/s]IOPub message rate exceeded.\n",
      "The notebook server will temporarily stop sending output\n",
      "to the client in order to avoid crashing it.\n",
      "To change this limit, set the config variable\n",
      "`--NotebookApp.iopub_msg_rate_limit`.\n",
      "\n",
      "Current values:\n",
      "NotebookApp.iopub_msg_rate_limit=1000.0 (msgs/sec)\n",
      "NotebookApp.rate_limit_window=3.0 (secs)\n",
      "\n"
     ]
    }
   ],
   "source": [
    "mp.multiprocessing(a, loop, cores = 10, returned = False)"
   ]
  },
  {
   "cell_type": "code",
   "execution_count": 23,
   "metadata": {},
   "outputs": [
    {
     "name": "stdout",
     "output_type": "stream",
     "text": [
      "wikipedia.jsonl\t\twiki-rumi-jawi-3.jsonl\twiki-rumi-jawi-7.jsonl\r\n",
      "wiki-rumi-jawi-0.jsonl\twiki-rumi-jawi-4.jsonl\twiki-rumi-jawi-8.jsonl\r\n",
      "wiki-rumi-jawi-1.jsonl\twiki-rumi-jawi-5.jsonl\twiki-rumi-jawi-9.jsonl\r\n",
      "wiki-rumi-jawi-2.jsonl\twiki-rumi-jawi-6.jsonl\r\n"
     ]
    }
   ],
   "source": [
    "!ls *.jsonl"
   ]
  },
  {
   "cell_type": "code",
   "execution_count": 24,
   "metadata": {},
   "outputs": [
    {
     "name": "stdout",
     "output_type": "stream",
     "text": [
      "{\"malay\": \"Bahasa Melayu (Tulisan Jawi: bhs mlyw; Rencong: ) ialah salah satu daripada bahasa-bahasa Melayu-Polinesia di bawah keluarga bahasa Austronesia, yang merupakan bahasa rasmi di Brunei, Indonesia, Malaysia dan Singapura, serta dituturkan di Timor Leste dan sebahagian wilayah di Filipina dan Thailand. Jumlah penutur bahasa Melayu mencakupi lebih daripada 290 juta penutur (seramai 260 juta orang bertuturbahasa Indonesia) merentasi kawasan maritim Asia Tenggara. Sebagai salah satu daripada bahasa-bahasa yang paling luas digunakan di Asia Tenggara, bahasa Melayu mempunyai istilah perundangan yang berbeza di negara-negara terlibat bergantung pada sejarah dan budaya penggunaan bahasa Melayu di negara-negara tersebut.\", \"jawi\": \"\\u0628\\u0647\\u0627\\u0633 \\u0645\\u0644\\u0627\\u064a\\u0648 \\ufd3f\\u062a\\u0648\\u0644\\u064a\\u0633\\u0646 \\u062c\\u0627\\u0648\\u064a: \\u0628\\u0647\\u0633 \\u0645\\u0644\\u064a\\u0648; \\u0631\\u0646\\u0686\\u0648\\u06a0: \\ufd3e \\u0627\\u064a\\u0627\\u0644\\u0647 \\u0633\\u0627\\u0644\\u0647 \\u0633\\u0627\\u062a\\u0648 \\u062f\\u0631\\u06a4\\u062f \\u0628\\u0647\\u0627\\u0633-\\u0628\\u0647\\u0627\\u0633 \\u0645\\u0644\\u0627\\u064a\\u0648-\\u06a4\\u0648\\u0644\\u064a\\u0646\\u064a\\u0633\\u064a\\u0627 \\u062f \\u0628\\u0627\\u0648\\u0647 \\u0643\\u0644\\u0648\\u0627\\u0631\\u06ac \\u0628\\u0647\\u0627\\u0633 \\u0627\\u0648\\u0633\\u062a\\u0631\\u0648\\u0646\\u064a\\u0633\\u064a\\u0627\\u060c \\u064a\\u06a0 \\u0645\\u0631\\u0648\\u06a4\\u0627\\u0643\\u0646 \\u0628\\u0647\\u0627\\u0633 \\u0631\\u0627\\u0633\\u0645\\u064a \\u062f \\u0628\\u0631\\u0648\\u0646\\u064a\\u060c \\u0625\\u0646\\u062f\\u0648\\u0646\\u064a\\u0633\\u064a\\u0627\\u060c \\u0645\\u0644\\u064a\\u0633\\u064a\\u0627 \\u062f\\u0627\\u0646 \\u0633\\u064a\\u06a0\\u0627\\u06a4\\u0648\\u0631\\u0627\\u060c \\u0633\\u0631\\u062a\\u0627 \\u062f\\u062a\\u0648\\u062a\\u0648\\u0631\\u0643\\u0646 \\u062f \\u062a\\u064a\\u0645\\u0648\\u0631 \\u0644\\u064a\\u0633\\u062a \\u062f\\u0627\\u0646 \\u0633\\u0628\\u0627\\u0647\\u0627\\u06ac\\u064a\\u0646 \\u0648\\u0644\\u0627\\u064a\\u0647 \\u062f \\u0627\\u0644\\u0641\\u0644\\u0628\\u064a\\u0646 \\u062f\\u0627\\u0646 \\u062a\\u0627\\u064a\\u0644\\u0627\\u0646\\u062f. \\u062c\\u0648\\u0645\\u0644\\u0647 \\u06a4\\u0646\\u0648\\u062a\\u0648\\u0631 \\u0628\\u0647\\u0627\\u0633 \\u0645\\u0644\\u0627\\u064a\\u0648 \\u0645\\u0646\\u0686\\u0627\\u0643\\u0648\\u06a4\\u064a \\u0644\\u0628\\u064a\\u0647 \\u062f\\u0631\\u06a4\\u062f \\u0662\\u0669\\u0660 \\u062c\\u0648\\u062a \\u06a4\\u0646\\u0648\\u062a\\u0648\\u0631 \\ufd3f\\u0633\\u0631\\u0627\\u0645\\u0627 \\u0662\\u0666\\u0660 \\u062c\\u0648\\u062a \\u0627\\u0648\\u0631\\u06a0 \\u0628\\u0631\\u062a\\u0648\\u062a\\u0648\\u0631\\u0628\\u0647\\u0627\\u0633 \\u0625\\u0646\\u062f\\u0648\\u0646\\u064a\\u0633\\u064a\\u0627\\ufd3e \\u0645\\u0631\\u0646\\u062a\\u0633\\u064a \\u0643\\u0627\\u0648\\u0633\\u0646 \\u0645\\u0627\\u0631\\u064a\\u062a\\u064a\\u0645 \\u0627\\u0633\\u064a\\u0627 \\u062a\\u06a0\\u06ac\\u0627\\u0631\\u0627. \\u0633\\u0628\\u0627\\u06ac\\u0627\\u064a \\u0633\\u0627\\u0644\\u0647 \\u0633\\u0627\\u062a\\u0648 \\u062f\\u0631\\u06a4\\u062f \\u0628\\u0647\\u0627\\u0633-\\u0628\\u0647\\u0627\\u0633 \\u064a\\u06a0 \\u06a4\\u0627\\u0644\\u064a\\u06a0 \\u0644\\u0648\\u0627\\u0633 \\u062f\\u06ac\\u0648\\u0646\\u0627\\u0643\\u0646 \\u062f \\u0627\\u0633\\u064a\\u0627 \\u062a\\u06a0\\u06ac\\u0627\\u0631\\u0627\\u060c \\u0628\\u0647\\u0627\\u0633 \\u0645\\u0644\\u0627\\u064a\\u0648 \\u0645\\u0645\\u06a4\\u0648\\u06bd\\u0627\\u0621\\u064a \\u0627\\u0635\\u0637\\u0644\\u0627\\u062d \\u06a4\\u0631\\u0648\\u0646\\u062f\\u0627\\u06a0\\u0646 \\u064a\\u06a0 \\u0628\\u0631\\u0628\\u064a\\u0630\\u0627 \\u062f \\u0646\\u06ac\\u0627\\u0631\\u0627-\\u0646\\u06ac\\u0627\\u0631\\u0627 \\u062a\\u0631\\u0644\\u064a\\u0628\\u062a \\u0628\\u0631\\u06ac\\u0646\\u062a\\u0648\\u06a0 \\u06a4\\u062f \\u0633\\u062c\\u0627\\u0631\\u0647 \\u062f\\u0627\\u0646 \\u0628\\u0648\\u062f\\u064a\\u0627 \\u06a4\\u06a0\\u06ac\\u0648\\u0646\\u0627\\u0627\\u0646 \\u0628\\u0647\\u0627\\u0633 \\u0645\\u0644\\u0627\\u064a\\u0648 \\u062f \\u0646\\u06ac\\u0627\\u0631\\u0627-\\u0646\\u06ac\\u0627\\u0631\\u0627 \\u062a\\u0631\\u0633\\u0628\\u0648\\u062a.\"}\r\n",
      "{\"malay\": \"Di Malaysia, istilah bahasa Melayu ialah istilah de jure untuk pentakrifan rasmi bahasa kebangsaan negara Malaysia, manakala istilah bahasa Malaysia atau bahasa Melayu Malaysia seringkali digunakan mewakili perkara yang sama secara tidak formal di kalangan rakyat Malaysia. Di Singapura, Bahasa Melayu mempunyai status bahasa kebangsaan pada waktu yang sama merupakan salah satu daripada empat bahasa rasmi (tiga lagi bahasa rasmi lain ialah bahasa Inggeris, bahasa Cina, dan bahasa Tamil). Di Brunei, bahasa Melayu juga ditakrifkan sebagai bahasa rasmi negara dan bahasa Melayu diutamakan apabila berlakunya percanggahan dengan versi bahasa Inggeris teks undang-udang. Di Indonesia, bentuk piawai\", \"jawi\": \"\\u062f \\u0645\\u0644\\u064a\\u0633\\u064a\\u0627\\u060c \\u0627\\u0635\\u0637\\u0644\\u0627\\u062d \\u0628\\u0647\\u0627\\u0633 \\u0645\\u0644\\u0627\\u064a\\u0648 \\u0627\\u064a\\u0627\\u0644\\u0647 \\u0627\\u0635\\u0637\\u0644\\u0627\\u062d \\u062f \\u062c\\u0648\\u0631\\u064a \\u0627\\u0648\\u0646\\u062a\\u0648\\u0642 \\u06a4\\u064a\\u0646\\u062a\\u0627\\u0643\\u0631\\u064a\\u0641\\u0646 \\u0631\\u0627\\u0633\\u0645\\u064a \\u0628\\u0647\\u0627\\u0633 \\u0643\\u0628\\u06a0\\u0633\\u0623\\u0646 \\u0646\\u06ac\\u0627\\u0631\\u0627 \\u0645\\u0644\\u064a\\u0633\\u064a\\u0627\\u060c \\u0645\\u0627\\u0646\\u0643\\u0627\\u0644\\u0627 \\u0627\\u0635\\u0637\\u0644\\u0627\\u062d \\u0628\\u0647\\u0627\\u0633 \\u0645\\u0644\\u064a\\u0633\\u064a\\u0627 \\u0627\\u062a\\u0627\\u0648 \\u0628\\u0647\\u0627\\u0633 \\u0645\\u0644\\u0627\\u064a\\u0648 \\u0645\\u0644\\u064a\\u0633\\u064a\\u0627 \\u0633\\u0631\\u064a\\u06a0\\u0643\\u0627\\u0644\\u064a \\u062f\\u06ac\\u0648\\u0646\\u0627\\u0643\\u0646 \\u0645\\u0648\\u0627\\u0643\\u064a\\u0644\\u064a \\u06a4\\u0631\\u0643\\u0627\\u0631\\u0627 \\u064a\\u06a0 \\u0633\\u0627\\u0645 \\u0633\\u0686\\u0627\\u0631\\u0627 \\u062a\\u064a\\u062f\\u0642 \\u0641\\u0648\\u0631\\u0645\\u0644 \\u062f \\u0643\\u0627\\u0644\\u06a0\\u0646 \\u0631\\u0639\\u064a\\u062a \\u0645\\u0644\\u064a\\u0633\\u064a\\u0627. \\u062f \\u0633\\u064a\\u06a0\\u0627\\u06a4\\u0648\\u0631\\u0627\\u060c \\u0628\\u0647\\u0627\\u0633 \\u0645\\u0644\\u0627\\u064a\\u0648 \\u0645\\u0645\\u06a4\\u0648\\u06bd\\u0627\\u0621\\u064a \\u0633\\u062a\\u0627\\u062a\\u0648\\u0633 \\u0628\\u0647\\u0627\\u0633 \\u0643\\u0628\\u06a0\\u0633\\u0623\\u0646 \\u06a4\\u062f \\u0648\\u0642\\u062a\\u0648 \\u064a\\u06a0 \\u0633\\u0627\\u0645 \\u0645\\u0631\\u0648\\u06a4\\u0627\\u0643\\u0646 \\u0633\\u0627\\u0644\\u0647 \\u0633\\u0627\\u062a\\u0648 \\u062f\\u0631\\u06a4\\u062f \\u0627\\u0645\\u06a4\\u062a \\u0628\\u0647\\u0627\\u0633 \\u0631\\u0627\\u0633\\u0645\\u064a \\ufd3f\\u062a\\u064a\\u06ac \\u0644\\u0627\\u06ac\\u064a \\u0628\\u0647\\u0627\\u0633 \\u0631\\u0627\\u0633\\u0645\\u064a \\u0644\\u0627\\u064a\\u0646 \\u0627\\u064a\\u0627\\u0644\\u0647 \\u0628\\u0647\\u0627\\u0633 \\u0627\\u064a\\u06a0\\u06ac\\u0631\\u064a\\u0633\\u060c \\u0628\\u0647\\u0627\\u0633 \\u0686\\u064a\\u0646\\u0627\\u060c \\u062f\\u0627\\u0646 \\u0628\\u0647\\u0627\\u0633 \\u062a\\u0627\\u0645\\u064a\\u0644\\ufd3e. \\u062f \\u0628\\u0631\\u0648\\u0646\\u064a\\u060c \\u0628\\u0647\\u0627\\u0633 \\u0645\\u0644\\u0627\\u064a\\u0648 \\u062c\\u0648\\u06ac \\u062f\\u062a\\u0639\\u0631\\u064a\\u0641\\u0643\\u0646 \\u0633\\u0628\\u0627\\u06ac\\u0627\\u064a \\u0628\\u0647\\u0627\\u0633 \\u0631\\u0627\\u0633\\u0645\\u064a \\u0646\\u06ac\\u0627\\u0631\\u0627 \\u062f\\u0627\\u0646 \\u0628\\u0647\\u0627\\u0633 \\u0645\\u0644\\u0627\\u064a\\u0648 \\u062f\\u0627\\u0648\\u062a\\u0627\\u0645\\u0627\\u0643\\u0646 \\u0627\\u06a4\\u0627\\u0628\\u064a\\u0644\\u0627 \\u0628\\u0631\\u0644\\u0627\\u0643\\u0648\\u06bd \\u06a4\\u0631\\u0686\\u0627\\u06a0\\u06ac\\u0627\\u0647\\u0646 \\u062f\\u06a0\\u0646 \\u06cf\\u0631\\u0633\\u064a \\u0628\\u0647\\u0627\\u0633 \\u0627\\u064a\\u06a0\\u06ac\\u0631\\u064a\\u0633 \\u062a\\u064a\\u0643 \\u0633 \\u0627\\u0648\\u0646\\u062f\\u06a0-\\u0623\\u0648\\u062f\\u06a0. \\u062f \\u0625\\u0646\\u062f\\u0648\\u0646\\u064a\\u0633\\u064a\\u0627\\u060c \\u0628\\u0646\\u062a\\u0648\\u0642 \\u06a4\\u064a\\u0627\\u0648\\u0627\\u064a\"}\r\n"
     ]
    }
   ],
   "source": [
    "!head -n 2 wiki-rumi-jawi-0.jsonl"
   ]
  },
  {
   "cell_type": "code",
   "execution_count": null,
   "metadata": {},
   "outputs": [],
   "source": []
  }
 ],
 "metadata": {
  "kernelspec": {
   "display_name": "Python 3 (ipykernel)",
   "language": "python",
   "name": "python3"
  },
  "language_info": {
   "codemirror_mode": {
    "name": "ipython",
    "version": 3
   },
   "file_extension": ".py",
   "mimetype": "text/x-python",
   "name": "python",
   "nbconvert_exporter": "python",
   "pygments_lexer": "ipython3",
   "version": "3.8.10"
  }
 },
 "nbformat": 4,
 "nbformat_minor": 4
}
