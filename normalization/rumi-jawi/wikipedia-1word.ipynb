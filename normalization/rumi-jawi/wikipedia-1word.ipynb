{
 "cells": [
  {
   "cell_type": "code",
   "execution_count": 32,
   "id": "bb2669c9",
   "metadata": {},
   "outputs": [],
   "source": [
    "import requests\n",
    "import urllib.parse\n",
    "from bs4 import BeautifulSoup"
   ]
  },
  {
   "cell_type": "code",
   "execution_count": 19,
   "id": "f965e604",
   "metadata": {},
   "outputs": [
    {
     "data": {
      "text/plain": [
       "'saya%20suka%20makan%20nasi%20ayam'"
      ]
     },
     "execution_count": 19,
     "metadata": {},
     "output_type": "execute_result"
    }
   ],
   "source": [
    "string = 'saya suka makan nasi ayam'\n",
    "urllib.parse.quote(query)"
   ]
  },
  {
   "cell_type": "code",
   "execution_count": 20,
   "id": "aa414994",
   "metadata": {},
   "outputs": [],
   "source": [
    "import requests\n",
    "from requests.structures import CaseInsensitiveDict\n",
    "\n",
    "url = \"https://www.ejawi.net/result.php\"\n",
    "\n",
    "headers = CaseInsensitiveDict()\n",
    "headers[\"authority\"] = \"www.ejawi.net\"\n",
    "headers[\"accept\"] = \"text/html,application/xhtml+xml,application/xml;q=0.9,image/avif,image/webp,image/apng,*/*;q=0.8,application/signed-exchange;v=b3;q=0.9\"\n",
    "headers[\"accept-language\"] = \"en-MY,en;q=0.9,en-US;q=0.8,ms;q=0.7\"\n",
    "headers[\"cache-control\"] = \"no-cache\"\n",
    "headers[\"content-type\"] = \"application/x-www-form-urlencoded\"\n",
    "headers[\"cookie\"] = \"__utma=248434904.1854521706.1653239537.1653239537.1653239537.1; __utmc=248434904; __utmz=248434904.1653239537.1.1.utmcsr=google|utmccn=(organic)|utmcmd=organic|utmctr=(not%20provided); __utmt=1; __utmb=248434904.1.10.1653239537\"\n",
    "headers[\"origin\"] = \"https://www.ejawi.net\"\n",
    "headers[\"pragma\"] = \"no-cache\"\n",
    "headers[\"referer\"] = \"https://www.ejawi.net/converterV2.php?go=rumi\"\n",
    "headers[\"sec-ch-ua\"] = '\" Not A;Brand\";v=\"99\", \"Chromium\";v=\"100\", \"Google Chrome\";v=\"100\"'\n",
    "headers[\"sec-ch-ua-mobile\"] = \"?0\"\n",
    "headers[\"sec-ch-ua-platform\"] = '\"macOS\"'\n",
    "headers[\"sec-fetch-dest\"] = \"iframe\"\n",
    "headers[\"sec-fetch-mode\"] = \"navigate\"\n",
    "headers[\"sec-fetch-site\"] = \"same-origin\"\n",
    "headers[\"sec-fetch-user\"] = \"?1\"\n",
    "headers[\"upgrade-insecure-requests\"] = \"1\"\n",
    "headers[\"user-agent\"] = \"Mozilla/5.0 (Macintosh; Intel Mac OS X 10_15_2) AppleWebKit/537.36 (KHTML, like Gecko) Chrome/100.0.4896.88 Safari/537.36\""
   ]
  },
  {
   "cell_type": "code",
   "execution_count": 51,
   "id": "c322604d",
   "metadata": {},
   "outputs": [],
   "source": [
    "def get_jawi(string):\n",
    "    data = f\"phonText={string}&disable_direction=on&number=1\"\n",
    "    resp = requests.post(url, headers=headers, data=data)\n",
    "    decoded = resp._content.decode()\n",
    "    soup = BeautifulSoup(decoded, 'html.parser')\n",
    "    return soup.find_all('td')[0].text"
   ]
  },
  {
   "cell_type": "code",
   "execution_count": 84,
   "id": "e615d52f",
   "metadata": {},
   "outputs": [
    {
     "data": {
      "text/plain": [
       "'\"هيللو\"'"
      ]
     },
     "execution_count": 84,
     "metadata": {},
     "output_type": "execute_result"
    }
   ],
   "source": [
    "get_jawi('\"hello\"')"
   ]
  },
  {
   "cell_type": "code",
   "execution_count": 49,
   "id": "ad4911f5",
   "metadata": {},
   "outputs": [],
   "source": [
    "# !wget https://f000.backblazeb2.com/file/malay-dataset/wiki-stem.json"
   ]
  },
  {
   "cell_type": "code",
   "execution_count": 44,
   "id": "53ea217f",
   "metadata": {},
   "outputs": [],
   "source": [
    "import json\n",
    "import random"
   ]
  },
  {
   "cell_type": "code",
   "execution_count": 74,
   "id": "527c7cbf",
   "metadata": {},
   "outputs": [],
   "source": [
    "with open('wiki-stem.json') as fopen:\n",
    "    data = json.load(fopen)\n",
    "    \n",
    "data = data[:200000]"
   ]
  },
  {
   "cell_type": "code",
   "execution_count": 75,
   "id": "bed84b04",
   "metadata": {
    "scrolled": true
   },
   "outputs": [
    {
     "data": {
      "text/plain": [
       "200000"
      ]
     },
     "execution_count": 75,
     "metadata": {},
     "output_type": "execute_result"
    }
   ],
   "source": [
    "len(data)"
   ]
  },
  {
   "cell_type": "code",
   "execution_count": 72,
   "id": "cfac3c89",
   "metadata": {},
   "outputs": [],
   "source": [
    "import re\n",
    "\n",
    "_punctuation = \"!'(),.:;? +\"\n",
    "_special = '-'\n",
    "_letters = 'ABCDEFGHIJKLMNOPQRSTUVWXYZabcdefghijklmnopqrstuvwxyz'\n",
    "_numbers = '0123456789'\n",
    "_small_letters = 'abcdefghijklmnopqrstuvwxyz'\n",
    "\n",
    "SYMBOLS = (\n",
    "    list(_special) + list(_punctuation) + list(_letters) + list(_numbers)\n",
    ")\n",
    "\n",
    "def cleaning(string):\n",
    "    string = ''.join([c if c in SYMBOLS else ' ' for c in string])\n",
    "    string = re.sub(r'[ ]+', ' ', string.lower()).strip()\n",
    "    return string"
   ]
  },
  {
   "cell_type": "code",
   "execution_count": null,
   "id": "d93fada4",
   "metadata": {},
   "outputs": [
    {
     "name": "stderr",
     "output_type": "stream",
     "text": [
      " 10%|█         | 20400/200000 [44:30<6:10:57,  8.07it/s] IOPub message rate exceeded.\n",
      "The notebook server will temporarily stop sending output\n",
      "to the client in order to avoid crashing it.\n",
      "To change this limit, set the config variable\n",
      "`--NotebookApp.iopub_msg_rate_limit`.\n",
      "\n",
      "Current values:\n",
      "NotebookApp.iopub_msg_rate_limit=1000.0 (msgs/sec)\n",
      "NotebookApp.rate_limit_window=3.0 (secs)\n",
      "\n",
      " 19%|█▊        | 37408/200000 [1:21:22<5:35:59,  8.07it/s] IOPub message rate exceeded.\n",
      "The notebook server will temporarily stop sending output\n",
      "to the client in order to avoid crashing it.\n",
      "To change this limit, set the config variable\n",
      "`--NotebookApp.iopub_msg_rate_limit`.\n",
      "\n",
      "Current values:\n",
      "NotebookApp.iopub_msg_rate_limit=1000.0 (msgs/sec)\n",
      "NotebookApp.rate_limit_window=3.0 (secs)\n",
      "\n",
      " 30%|██▉       | 59233/200000 [2:09:23<4:52:43,  8.01it/s] IOPub message rate exceeded.\n",
      "The notebook server will temporarily stop sending output\n",
      "to the client in order to avoid crashing it.\n",
      "To change this limit, set the config variable\n",
      "`--NotebookApp.iopub_msg_rate_limit`.\n",
      "\n",
      "Current values:\n",
      "NotebookApp.iopub_msg_rate_limit=1000.0 (msgs/sec)\n",
      "NotebookApp.rate_limit_window=3.0 (secs)\n",
      "\n",
      " 40%|████      | 80550/200000 [2:55:28<3:59:15,  8.32it/s] IOPub message rate exceeded.\n",
      "The notebook server will temporarily stop sending output\n",
      "to the client in order to avoid crashing it.\n",
      "To change this limit, set the config variable\n",
      "`--NotebookApp.iopub_msg_rate_limit`.\n",
      "\n",
      "Current values:\n",
      "NotebookApp.iopub_msg_rate_limit=1000.0 (msgs/sec)\n",
      "NotebookApp.rate_limit_window=3.0 (secs)\n",
      "\n",
      " 47%|████▋     | 93216/200000 [3:22:48<3:32:02,  8.39it/s] IOPub message rate exceeded.\n",
      "The notebook server will temporarily stop sending output\n",
      "to the client in order to avoid crashing it.\n",
      "To change this limit, set the config variable\n",
      "`--NotebookApp.iopub_msg_rate_limit`.\n",
      "\n",
      "Current values:\n",
      "NotebookApp.iopub_msg_rate_limit=1000.0 (msgs/sec)\n",
      "NotebookApp.rate_limit_window=3.0 (secs)\n",
      "\n",
      " 67%|██████▋   | 134961/200000 [4:53:25<2:14:31,  8.06it/s] IOPub message rate exceeded.\n",
      "The notebook server will temporarily stop sending output\n",
      "to the client in order to avoid crashing it.\n",
      "To change this limit, set the config variable\n",
      "`--NotebookApp.iopub_msg_rate_limit`.\n",
      "\n",
      "Current values:\n",
      "NotebookApp.iopub_msg_rate_limit=1000.0 (msgs/sec)\n",
      "NotebookApp.rate_limit_window=3.0 (secs)\n",
      "\n",
      " 74%|███████▍  | 148924/200000 [5:23:33<1:45:24,  8.08it/s] IOPub message rate exceeded.\n",
      "The notebook server will temporarily stop sending output\n",
      "to the client in order to avoid crashing it.\n",
      "To change this limit, set the config variable\n",
      "`--NotebookApp.iopub_msg_rate_limit`.\n",
      "\n",
      "Current values:\n",
      "NotebookApp.iopub_msg_rate_limit=1000.0 (msgs/sec)\n",
      "NotebookApp.rate_limit_window=3.0 (secs)\n",
      "\n",
      " 86%|████████▌ | 171045/200000 [6:11:58<1:02:40,  7.70it/s]IOPub message rate exceeded.\n",
      "The notebook server will temporarily stop sending output\n",
      "to the client in order to avoid crashing it.\n",
      "To change this limit, set the config variable\n",
      "`--NotebookApp.iopub_msg_rate_limit`.\n",
      "\n",
      "Current values:\n",
      "NotebookApp.iopub_msg_rate_limit=1000.0 (msgs/sec)\n",
      "NotebookApp.rate_limit_window=3.0 (secs)\n",
      "\n",
      " 95%|█████████▍| 189588/200000 [6:52:27<22:03,  7.87it/s]  "
     ]
    }
   ],
   "source": [
    "from tqdm import tqdm\n",
    "\n",
    "results = []\n",
    "for d in tqdm(data):\n",
    "    try:\n",
    "        r = get_jawi(d[0])\n",
    "        if len(r):\n",
    "            results.append((d[0], r))\n",
    "    except:\n",
    "        pass"
   ]
  },
  {
   "cell_type": "code",
   "execution_count": null,
   "id": "506eb1e7",
   "metadata": {},
   "outputs": [],
   "source": [
    "with open('wikipedia-1word.json', 'w') as fopen:\n",
    "    json.dump(results, fopen)"
   ]
  }
 ],
 "metadata": {
  "kernelspec": {
   "display_name": "Python 3 (ipykernel)",
   "language": "python",
   "name": "python3"
  },
  "language_info": {
   "codemirror_mode": {
    "name": "ipython",
    "version": 3
   },
   "file_extension": ".py",
   "mimetype": "text/x-python",
   "name": "python",
   "nbconvert_exporter": "python",
   "pygments_lexer": "ipython3",
   "version": "3.8.10"
  }
 },
 "nbformat": 4,
 "nbformat_minor": 5
}
