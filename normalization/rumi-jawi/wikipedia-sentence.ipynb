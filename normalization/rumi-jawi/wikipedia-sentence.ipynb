{
 "cells": [
  {
   "cell_type": "code",
   "execution_count": 1,
   "id": "540e74d6",
   "metadata": {},
   "outputs": [],
   "source": [
    "import requests\n",
    "import urllib.parse\n",
    "from bs4 import BeautifulSoup"
   ]
  },
  {
   "cell_type": "code",
   "execution_count": 2,
   "id": "107f3fab",
   "metadata": {},
   "outputs": [],
   "source": [
    "import requests\n",
    "from requests.structures import CaseInsensitiveDict\n",
    "\n",
    "url = \"https://www.ejawi.net/result.php\"\n",
    "\n",
    "headers = CaseInsensitiveDict()\n",
    "headers[\"authority\"] = \"www.ejawi.net\"\n",
    "headers[\"accept\"] = \"text/html,application/xhtml+xml,application/xml;q=0.9,image/avif,image/webp,image/apng,*/*;q=0.8,application/signed-exchange;v=b3;q=0.9\"\n",
    "headers[\"accept-language\"] = \"en-MY,en;q=0.9,en-US;q=0.8,ms;q=0.7\"\n",
    "headers[\"cache-control\"] = \"no-cache\"\n",
    "headers[\"content-type\"] = \"application/x-www-form-urlencoded\"\n",
    "headers[\"cookie\"] = \"__utma=248434904.1854521706.1653239537.1653239537.1653239537.1; __utmc=248434904; __utmz=248434904.1653239537.1.1.utmcsr=google|utmccn=(organic)|utmcmd=organic|utmctr=(not%20provided); __utmt=1; __utmb=248434904.1.10.1653239537\"\n",
    "headers[\"origin\"] = \"https://www.ejawi.net\"\n",
    "headers[\"pragma\"] = \"no-cache\"\n",
    "headers[\"referer\"] = \"https://www.ejawi.net/converterV2.php?go=rumi\"\n",
    "headers[\"sec-ch-ua\"] = '\" Not A;Brand\";v=\"99\", \"Chromium\";v=\"100\", \"Google Chrome\";v=\"100\"'\n",
    "headers[\"sec-ch-ua-mobile\"] = \"?0\"\n",
    "headers[\"sec-ch-ua-platform\"] = '\"macOS\"'\n",
    "headers[\"sec-fetch-dest\"] = \"iframe\"\n",
    "headers[\"sec-fetch-mode\"] = \"navigate\"\n",
    "headers[\"sec-fetch-site\"] = \"same-origin\"\n",
    "headers[\"sec-fetch-user\"] = \"?1\"\n",
    "headers[\"upgrade-insecure-requests\"] = \"1\"\n",
    "headers[\"user-agent\"] = \"Mozilla/5.0 (Macintosh; Intel Mac OS X 10_15_2) AppleWebKit/537.36 (KHTML, like Gecko) Chrome/100.0.4896.88 Safari/537.36\""
   ]
  },
  {
   "cell_type": "code",
   "execution_count": 3,
   "id": "d2b750e0",
   "metadata": {},
   "outputs": [],
   "source": [
    "def get_jawi(string):\n",
    "    data = f\"phonText={string}&disable_direction=on&number=1\"\n",
    "    resp = requests.post(url, headers=headers, data=data)\n",
    "    decoded = resp._content.decode()\n",
    "    soup = BeautifulSoup(decoded, 'html.parser')\n",
    "    return soup.find_all('td')[0].text"
   ]
  },
  {
   "cell_type": "code",
   "execution_count": 4,
   "id": "8c22c493",
   "metadata": {},
   "outputs": [
    {
     "data": {
      "text/plain": [
       "'\"هيللو\"'"
      ]
     },
     "execution_count": 4,
     "metadata": {},
     "output_type": "execute_result"
    }
   ],
   "source": [
    "get_jawi('\"hello\"')"
   ]
  },
  {
   "cell_type": "code",
   "execution_count": 5,
   "id": "02c594f9",
   "metadata": {},
   "outputs": [],
   "source": [
    "# !wget https://f000.backblazeb2.com/file/malay-dataset/dumping/wikipedia/dumping-wiki-20-july-2019.json"
   ]
  },
  {
   "cell_type": "code",
   "execution_count": 6,
   "id": "3b09aca1",
   "metadata": {},
   "outputs": [],
   "source": [
    "import json\n",
    "import random"
   ]
  },
  {
   "cell_type": "code",
   "execution_count": 7,
   "id": "78e70034",
   "metadata": {},
   "outputs": [
    {
     "data": {
      "text/plain": [
       "1303844"
      ]
     },
     "execution_count": 7,
     "metadata": {},
     "output_type": "execute_result"
    }
   ],
   "source": [
    "with open('dumping-wiki-20-july-2019.json') as fopen:\n",
    "    data = json.load(fopen)\n",
    "    \n",
    "len(data)"
   ]
  },
  {
   "cell_type": "code",
   "execution_count": 8,
   "id": "23c89687",
   "metadata": {},
   "outputs": [
    {
     "data": {
      "text/plain": [
       "['bahasa melayu tulisan jawi',\n",
       " 'bhs mlyw ialah sejenis',\n",
       " 'bahasa melayu polinesia di',\n",
       " 'bawah keluarga bahasa austronesia',\n",
       " 'yang telah digunakan di',\n",
       " 'wilayah malaysia indonesia dan',\n",
       " 'persekitarannya sejak melebihi tahun',\n",
       " 'lalu walaupun']"
      ]
     },
     "execution_count": 8,
     "metadata": {},
     "output_type": "execute_result"
    }
   ],
   "source": [
    "def window(string, n = 4):\n",
    "    splitted = string.split()\n",
    "    return [' '.join(splitted[i: i + n]) for i in range(0, len(splitted), n)]\n",
    "\n",
    "window(data[0])"
   ]
  },
  {
   "cell_type": "code",
   "execution_count": 9,
   "id": "5ebb9afb",
   "metadata": {},
   "outputs": [],
   "source": [
    "import mp"
   ]
  },
  {
   "cell_type": "code",
   "execution_count": 10,
   "id": "c84e57f2",
   "metadata": {
    "scrolled": true
   },
   "outputs": [],
   "source": [
    "windows = []\n",
    "for i in range(20000):\n",
    "    windows.extend(window(data[i], n = random.randint(2, 6)))"
   ]
  },
  {
   "cell_type": "code",
   "execution_count": 11,
   "id": "40dfd41d",
   "metadata": {},
   "outputs": [
    {
     "data": {
      "text/plain": [
       "172834"
      ]
     },
     "execution_count": 11,
     "metadata": {},
     "output_type": "execute_result"
    }
   ],
   "source": [
    "len(windows)"
   ]
  },
  {
   "cell_type": "code",
   "execution_count": 12,
   "id": "89fcbe94",
   "metadata": {},
   "outputs": [],
   "source": [
    "import re\n",
    "from unidecode import unidecode\n",
    "\n",
    "_punctuation = \"!'(),.:;? +\"\n",
    "_special = '-'\n",
    "_letters = 'ABCDEFGHIJKLMNOPQRSTUVWXYZabcdefghijklmnopqrstuvwxyz'\n",
    "_numbers = '0123456789'\n",
    "_small_letters = 'abcdefghijklmnopqrstuvwxyz'\n",
    "\n",
    "SYMBOLS = (\n",
    "    list(_special) + list(_punctuation) + list(_letters) + list(_numbers)\n",
    ")\n",
    "\n",
    "def cleaning(string):\n",
    "    string = unidecode(string)\n",
    "    string = ''.join([c if c in SYMBOLS else ' ' for c in string])\n",
    "    string = re.sub(r'[ ]+', ' ', string.lower()).strip()\n",
    "    return string"
   ]
  },
  {
   "cell_type": "code",
   "execution_count": 13,
   "id": "004e5c3f",
   "metadata": {},
   "outputs": [],
   "source": [
    "from tqdm import tqdm\n",
    "\n",
    "def loop(files):\n",
    "    windows, _ = files\n",
    "    results = []\n",
    "    for d in tqdm(windows):\n",
    "        try:\n",
    "            t = cleaning(d)\n",
    "            if len(t):\n",
    "                r = get_jawi(t)\n",
    "                if len(r):\n",
    "                    results.append((t, r))\n",
    "        except Exception as e:\n",
    "            print(e)\n",
    "    return results\n",
    "        "
   ]
  },
  {
   "cell_type": "code",
   "execution_count": null,
   "id": "1d9d7862",
   "metadata": {},
   "outputs": [
    {
     "name": "stderr",
     "output_type": "stream",
     "text": [
      " 14%|█▎        | 1977/14402 [06:38<51:31,  4.02it/s]  IOPub message rate exceeded.\n",
      "The notebook server will temporarily stop sending output\n",
      "to the client in order to avoid crashing it.\n",
      "To change this limit, set the config variable\n",
      "`--NotebookApp.iopub_msg_rate_limit`.\n",
      "\n",
      "Current values:\n",
      "NotebookApp.iopub_msg_rate_limit=1000.0 (msgs/sec)\n",
      "NotebookApp.rate_limit_window=3.0 (secs)\n",
      "\n",
      " 20%|██        | 2949/14402 [09:45<44:00,  4.34it/s]  "
     ]
    }
   ],
   "source": [
    "r = mp.multiprocessing(windows, loop, cores = 12)"
   ]
  },
  {
   "cell_type": "code",
   "execution_count": null,
   "id": "32a30ad7",
   "metadata": {},
   "outputs": [],
   "source": [
    "with open('wikipedia-windows.json', 'w') as fopen:\n",
    "    json.dump(r, fopen)"
   ]
  },
  {
   "cell_type": "code",
   "execution_count": null,
   "id": "905dd162",
   "metadata": {},
   "outputs": [],
   "source": []
  }
 ],
 "metadata": {
  "kernelspec": {
   "display_name": "Python 3 (ipykernel)",
   "language": "python",
   "name": "python3"
  },
  "language_info": {
   "codemirror_mode": {
    "name": "ipython",
    "version": 3
   },
   "file_extension": ".py",
   "mimetype": "text/x-python",
   "name": "python",
   "nbconvert_exporter": "python",
   "pygments_lexer": "ipython3",
   "version": "3.8.10"
  }
 },
 "nbformat": 4,
 "nbformat_minor": 5
}
