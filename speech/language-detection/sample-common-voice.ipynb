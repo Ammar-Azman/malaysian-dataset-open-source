{
 "cells": [
  {
   "cell_type": "code",
   "execution_count": 15,
   "id": "ecec02be",
   "metadata": {
    "scrolled": true
   },
   "outputs": [],
   "source": [
    "from datasets import load_dataset\n",
    "from tqdm import tqdm\n",
    "import os\n",
    "import numpy as np\n",
    "import soundfile as sf\n",
    "from scipy import interpolate\n",
    "\n",
    "def change_samplerate(data, old_samplerate, new_samplerate):\n",
    "    old_audio = data\n",
    "    duration = data.shape[0] / old_samplerate\n",
    "    time_old = np.linspace(0, duration, old_audio.shape[0])\n",
    "    time_new = np.linspace(\n",
    "        0, duration, int(old_audio.shape[0] * new_samplerate / old_samplerate)\n",
    "    )\n",
    "\n",
    "    interpolator = interpolate.interp1d(time_old, old_audio.T)\n",
    "    data = interpolator(time_new).T\n",
    "    return data"
   ]
  },
  {
   "cell_type": "code",
   "execution_count": 16,
   "id": "25a75006",
   "metadata": {},
   "outputs": [
    {
     "data": {
      "text/plain": [
       "<function soundfile.write(file, data, samplerate, subtype=None, endian=None, format=None, closefd=True)>"
      ]
     },
     "execution_count": 16,
     "metadata": {},
     "output_type": "execute_result"
    }
   ],
   "source": [
    "sf.write"
   ]
  },
  {
   "cell_type": "code",
   "execution_count": 6,
   "id": "e0311cc8",
   "metadata": {},
   "outputs": [],
   "source": [
    "languages = ['de', 'en', 'fa', 'fr', 'es', 'sl', 'kab', 'cy', 'ca', 'tt', 'ta', 'ru', 'nl', 'it', 'eu', 'tr', 'ar', 'zh-TW', 'br', 'pt', 'eo', 'zh-CN', 'id', 'ia', 'lv', 'ja', 'rw', 'sv-SE', 'cnh', 'et', 'ky', 'ro', 'hsb', 'el', 'cs', 'pl', 'rm-sursilv', 'rm-vallader', 'mn', 'zh-HK', 'ab', 'cv', 'uk', 'mt', 'as', 'ka', 'fy-NL', 'dv', 'pa-IN', 'vi', 'or', 'ga-IE', 'fi', 'hu', 'th', 'lt', 'lg', 'hi', 'bas', 'sk', 'kmr', 'bg', 'kk', 'ba', 'gl', 'ug', 'hy-AM', 'be', 'ur', 'gn', 'sr', 'uz', 'mr', 'da', 'myv', 'nn-NO', 'ha', 'ckb', 'ml', 'mdf', 'sw', 'sat', 'tig', 'ig', 'nan-tw', 'mhr', 'bn', 'tok', 'yue', 'sah', 'mk', 'sc', 'skr', 'ti', 'mrj', 'tw', 'ko', 'yo', 'oc', 'tk', 'vot', 'az', 'ast', 'ne-NP', 'quy', 'lo', 'dyu', 'is']"
   ]
  },
  {
   "cell_type": "code",
   "execution_count": 20,
   "id": "e1517c76",
   "metadata": {},
   "outputs": [],
   "source": [
    "# !wget https://gist.githubusercontent.com/huseinzol05/98974ae8c6c7a65d4bc0af9f5003786a/raw/2e06e71ef7349a57bc58cc9913ae6bae1f9f8447/mp.py"
   ]
  },
  {
   "cell_type": "code",
   "execution_count": 21,
   "id": "daf4d9e4",
   "metadata": {},
   "outputs": [],
   "source": [
    "import mp"
   ]
  },
  {
   "cell_type": "code",
   "execution_count": 23,
   "id": "fd82cf67",
   "metadata": {},
   "outputs": [],
   "source": [
    "def loop(languages):\n",
    "    languages, index = languages\n",
    "    for l in languages:\n",
    "        print(l, index)\n",
    "        os.makedirs(l, exist_ok = True)\n",
    "        cv_13 = load_dataset(\"mozilla-foundation/common_voice_13_0\", l, split=\"train\", streaming = True)\n",
    "\n",
    "        index = 0\n",
    "        for row in tqdm(cv_13):\n",
    "            f = os.path.join(l, f'{index}.mp3')\n",
    "            if os.path.exists(f):\n",
    "                continue\n",
    "\n",
    "            a = change_samplerate(row['audio']['array'], row['audio']['sampling_rate'], 16000)\n",
    "            sf.write(f, a, 16000)\n",
    "\n",
    "            index += 1\n",
    "            if index >= 5000:\n",
    "                break\n",
    "        "
   ]
  },
  {
   "cell_type": "code",
   "execution_count": 25,
   "id": "28bbbd10",
   "metadata": {},
   "outputs": [
    {
     "name": "stdout",
     "output_type": "stream",
     "text": [
      "thdesatsv-SE 0  \n",
      "2 13\n",
      "\n",
      "\n"
     ]
    },
    {
     "name": "stderr",
     "output_type": "stream",
     "text": [
      "0it [00:00, ?it/s]\n",
      "Reading metadata...: 0it [00:00, ?it/s]\u001b[A\n",
      "Reading metadata...: 0it [00:00, ?it/s]\u001b[A\n",
      "0it [00:00, ?it/s].: 0it [00:00, ?it/s]\u001b[A\n",
      "Reading metadata...: 1it [00:00,  2.48it/s]\u001b[A\n",
      "Reading metadata...: 9453it [00:00, 24694.68it/s]\u001b[A\n",
      "Reading metadata...: 20843it [00:00, 48937.59it/s]\u001b[A\n",
      "Reading metadata...: 0it [00:00, ?it/s]\u001b[A\n",
      "Reading metadata...: 29065it [00:00, 43127.14it/s]\u001b[A\n",
      "Reading metadata...: 292it [00:00, 329.74it/s]\n",
      "\n",
      "Reading metadata...: 39246it [00:00, 56522.49it/s]\u001b[A\n",
      "Reading metadata...: 47020it [00:01, 36822.67it/s]\u001b[A\n",
      "Reading metadata...: 7407it [00:01, 6355.35it/s]\n",
      "\n",
      "Reading metadata...: 58825it [00:01, 50892.80it/s]\u001b[A\n",
      "Reading metadata...: 66612it [00:01, 46352.39it/s]\u001b[A\n",
      "Reading metadata...: 78068it [00:01, 59265.44it/s]\u001b[A\n",
      "Reading metadata...: 1it [00:01,  1.12s/it]\u001b[A\n",
      "Reading metadata...: 10923it [00:01, 12329.57it/s]\u001b[A\n",
      "Reading metadata...: 86119it [00:01, 52012.09it/s]\u001b[A\n",
      "1it [00:02,  2.37s/it]7131it [00:02, 63538.41it/s]\u001b[A\n",
      "3it [00:02,  1.46it/s]05194it [00:02, 42892.88it/s]\u001b[A\n",
      "7it [00:02,  4.06it/s]16154it [00:02, 54065.89it/s]\u001b[A\n",
      "9it [00:03,  5.42it/s]25013it [00:02, 42274.23it/s]\u001b[A\n",
      "Reading metadata...: 19598it [00:02, 9965.22it/s] \u001b[A\n",
      "5it [00:03,  2.42it/s]33749it [00:02, 49535.53it/s]\u001b[A\n",
      "11it [00:03,  6.97it/s]950it [00:02, 16668.56it/s]\u001b[A\n",
      "Reading metadata...: 32477it [00:02, 13634.02it/s]]\u001b[A\n",
      "15it [00:03,  9.23it/s]\n",
      "11it [00:03,  6.84it/s]9369it [00:03, 39398.70it/s]\u001b[A\n",
      "15it [00:03,  9.30it/s]0186it [00:03, 50836.80it/s]\u001b[A\n",
      "Reading metadata...: 167487it [00:03, 43584.58it/s]\u001b[A\n",
      "20it [00:04, 12.98it/s]7360it [00:03, 53414.16it/s]\u001b[A\n",
      "23it [00:04, 10.49it/s]5740it [00:04, 47466.83it/s]\u001b[A\n",
      "24it [00:04, 13.24it/s]6044it [00:04, 57885.77it/s]\u001b[A\n",
      "26it [00:04, 14.34it/s]5705it [00:04, 51709.87it/s]\u001b[A\n",
      "Reading metadata...: 214498it [00:04, 57965.51it/s]\u001b[A\n",
      "31it [00:04, 10.89it/s]3169it [00:04, 64071.67it/s]\u001b[A\n",
      "5it [00:04,  1.67it/s]]0659it [00:04, 52464.79it/s]\u001b[A\n",
      "7it [00:04,  2.68it/s]]9924it [00:04, 60800.46it/s]\u001b[A\n",
      "9it [00:04,  3.91it/s]]7101it [00:05, 49870.56it/s]\u001b[A\n",
      "16it [00:05,  8.90it/s]7399it [00:05, 60743.51it/s]\u001b[A\n",
      "18it [00:05,  9.74it/s]5273it [00:05, 38055.43it/s]\u001b[A\n",
      "20it [00:05, 11.43it/s]4993it [00:05, 47490.10it/s]\u001b[A\n",
      "49it [00:06, 14.21it/s]4533it [00:05, 56380.82it/s]\u001b[A\n",
      "45it [00:06, 10.59it/s]2221it [00:06, 49446.08it/s]\u001b[A\n",
      "28it [00:05, 14.10it/s]2420it [00:06, 59749.22it/s]\u001b[A\n",
      "55it [00:06, 14.12it/s]0021it [00:06, 50416.54it/s]\u001b[A\n",
      "59it [00:06, 15.25it/s]8070it [00:06, 56410.68it/s]\u001b[A\n",
      "Reading metadata...: 324946it [00:06, 45951.75it/s]\u001b[A\n",
      "53it [00:06,  9.74it/s]3824it [00:06, 54404.44it/s]\u001b[A\n",
      "65it [00:07, 14.16it/s]3115it [00:06, 62872.06it/s]\u001b[A\n",
      "41it [00:06, 15.65it/s]0564it [00:07, 47834.61it/s]\u001b[A\n",
      "44it [00:07, 17.42it/s]9179it [00:07, 55469.69it/s]\u001b[A\n",
      "47it [00:07, 18.09it/s]6025it [00:07, 47882.22it/s]\u001b[A\n",
      "51it [00:07, 17.81it/s]5272it [00:07, 57074.95it/s]\u001b[A\n",
      "53it [00:07, 17.38it/s]4452it [00:07, 49551.11it/s]\u001b[A\n",
      "67it [00:08, 11.26it/s]4977it [00:07, 60614.80it/s]\u001b[A\n",
      "80it [00:08, 13.90it/s]4596it [00:08, 51751.40it/s]\u001b[A\n",
      "84it [00:08, 14.87it/s]5725it [00:08, 63221.92it/s]\u001b[A\n",
      "86it [00:08, 15.15it/s]5694it [00:08, 52437.02it/s]\u001b[A\n",
      "88it [00:08, 15.77it/s]2249it [00:08, 54287.11it/s]\u001b[A\n",
      "77it [00:09, 11.89it/s]2962it [00:08, 65252.87it/s]\u001b[A\n",
      "67it [00:08, 13.27it/s]0689it [00:08, 52360.22it/s]\u001b[A\n",
      "103it [00:09, 17.18it/s]024it [00:08, 62607.11it/s]\u001b[A\n",
      "75it [00:09, 12.44it/s]8614it [00:09, 33806.78it/s]\u001b[A\n",
      "89it [00:09, 12.66it/s]]461it [00:09, 44342.31it/s]\u001b[A\n",
      "110it [00:09, 16.44it/s]740it [00:09, 39317.62it/s]\u001b[A\n",
      "81it [00:09, 11.66it/s]]248it [00:09, 46683.70it/s]\u001b[A\n",
      "83it [00:09, 12.53it/s]]982it [00:10, 40918.99it/s]\u001b[A\n",
      "118it [00:10, 16.39it/s]913it [00:10, 51299.25it/s]\u001b[A\n",
      "120it [00:10, 13.74it/s]818it [00:10, 42749.14it/s]\u001b[A\n",
      "99it [00:10, 10.82it/s]]607it [00:10, 49201.40it/s]\u001b[A\n",
      "Reading metadata...: 540437it [00:10, 49627.67it/s]\u001b[A\n",
      "292it [00:25, 11.47it/s] \n"
     ]
    },
    {
     "name": "stdout",
     "output_type": "stream",
     "text": [
      "tig 292\n"
     ]
    },
    {
     "name": "stderr",
     "output_type": "stream",
     "text": [
      "457it [00:28, 17.15it/s]]\n",
      "466it [00:29, 19.28it/s]][00:00, ?it/s]\u001b[A\n",
      "Reading metadata...: 10it [00:00, 23.08it/s][A\n",
      "10it [00:02,  3.89it/s]]]\n"
     ]
    },
    {
     "name": "stdout",
     "output_type": "stream",
     "text": [
      "ig "
     ]
    },
    {
     "name": "stderr",
     "output_type": "stream",
     "text": [
      "364it [00:30, 12.99it/s]"
     ]
    },
    {
     "name": "stdout",
     "output_type": "stream",
     "text": [
      "10\n"
     ]
    },
    {
     "name": "stderr",
     "output_type": "stream",
     "text": [
      "562it [00:34, 16.74it/s]]\n",
      "414it [00:34, 15.41it/s] [00:00, ?it/s]\u001b[A\n",
      "Reading metadata...: 8it [00:00, 18.07it/s]\u001b[A\n",
      "8it [00:02,  3.03it/s]s]]\n"
     ]
    },
    {
     "name": "stdout",
     "output_type": "stream",
     "text": [
      "nan-tw 8\n"
     ]
    },
    {
     "name": "stderr",
     "output_type": "stream",
     "text": [
      "634it [00:39,  8.07it/s]]\n",
      "499it [00:39, 13.61it/s] [00:00, ?it/s]\u001b[A\n",
      "Reading metadata...: 1833it [00:00, 2122.14it/s]\n",
      "1833it [01:38, 18.60it/s] \n"
     ]
    },
    {
     "name": "stdout",
     "output_type": "stream",
     "text": [
      "mhr 1833\n"
     ]
    },
    {
     "name": "stderr",
     "output_type": "stream",
     "text": [
      "2120it [02:20, 15.17it/s] \n",
      "2140it [02:22, 16.19it/s]]00:00, ?it/s]\u001b[A\n",
      "Reading metadata...: 1it [00:01,  1.19s/it]\u001b[A\n",
      "2154it [02:23, 14.31it/s]it [00:01, 10718.28it/s]\u001b[A\n",
      "6624it [02:23, 17.55it/s] it [00:02, 10581.87it/s]\u001b[A\n",
      "1796it [02:23, 12.02it/s]0it [00:02, 18090.00it/s]\u001b[A\n",
      "6726it [02:24, 85.22it/s]0it [00:03, 13854.63it/s]\u001b[A\n",
      "6737it [02:24, 83.28it/s]7it [00:03, 18803.28it/s]\u001b[A\n",
      "1807it [02:25, 12.51it/s]3it [00:03, 25721.31it/s]\u001b[A\n",
      "1809it [02:25, 13.29it/s]8it [00:04, 14925.77it/s]\u001b[A\n",
      "6757it [02:26, 17.22it/s]7it [00:04, 20824.41it/s]\u001b[A\n",
      "Reading metadata...: 86150it [00:05, 15664.15it/s]\u001b[A\n",
      "4999it [05:44, 14.51it/s]] \n"
     ]
    },
    {
     "name": "stdout",
     "output_type": "stream",
     "text": [
      "cnh "
     ]
    },
    {
     "name": "stderr",
     "output_type": "stream",
     "text": [
      "4595it [05:44, 13.70it/s]"
     ]
    },
    {
     "name": "stdout",
     "output_type": "stream",
     "text": [
      "5000\n"
     ]
    },
    {
     "name": "stderr",
     "output_type": "stream",
     "text": [
      "17411it [05:48, 45.42it/s] \n",
      "17487it [05:48, 95.51it/s]00:00, ?it/s]\u001b[A\n",
      "Reading metadata...: 817it [00:00, 1020.08it/s]\n",
      "4999it [06:11, 13.46it/s]] \n"
     ]
    },
    {
     "name": "stdout",
     "output_type": "stream",
     "text": [
      "lt 5000\n"
     ]
    },
    {
     "name": "stderr",
     "output_type": "stream",
     "text": [
      "18922it [06:15, 37.47it/s] \n",
      "19004it [06:16, 86.55it/s]00:00, ?it/s]\u001b[A\n",
      "Reading metadata...: 6205it [00:00, 7125.04it/s]\n",
      "817it [00:48, 16.92it/s]]]\n",
      "19867it [06:36, 28.48it/s]"
     ]
    },
    {
     "name": "stdout",
     "output_type": "stream",
     "text": [
      "et 817\n"
     ]
    },
    {
     "name": "stderr",
     "output_type": "stream",
     "text": [
      "20079it [06:39, 97.13it/s]\n",
      "3198it [04:19, 18.95it/s]]00:00, ?it/s]\u001b[A\n",
      "Reading metadata...: 3138it [00:00, 3972.94it/s]\n",
      "4999it [06:26, 12.93it/s]] \n"
     ]
    },
    {
     "name": "stdout",
     "output_type": "stream",
     "text": [
      "bn 5000\n"
     ]
    },
    {
     "name": "stderr",
     "output_type": "stream",
     "text": [
      "28683it [08:50, 79.82it/s] \n",
      "1826it [02:36,  4.29it/s]] 0:00, ?it/s]\u001b[A\n",
      "28809it [08:51, 70.65it/s]00:01,  1.37s/it]\u001b[A\n",
      "1838it [02:37, 10.16it/s]]  [00:01, 8137.35it/s]\u001b[A\n",
      "Reading metadata...: 20729it [00:02, 8371.39it/s]\u001b[A\n",
      "3138it [05:40,  9.21it/s]] \n"
     ]
    },
    {
     "name": "stdout",
     "output_type": "stream",
     "text": [
      "ky 3138\n"
     ]
    },
    {
     "name": "stderr",
     "output_type": "stream",
     "text": [
      "4246it [06:08, 13.56it/s]]\n",
      "2066it [03:34, 13.37it/s][00:00, ?it/s]\u001b[A\n",
      "Reading metadata...: 1788it [00:01, 1600.06it/s]\n",
      "309it [00:28, 13.52it/s]]s]IOPub message rate exceeded.\n",
      "The notebook server will temporarily stop sending output\n",
      "to the client in order to avoid crashing it.\n",
      "To change this limit, set the config variable\n",
      "`--NotebookApp.iopub_msg_rate_limit`.\n",
      "\n",
      "Current values:\n",
      "NotebookApp.iopub_msg_rate_limit=1000.0 (msgs/sec)\n",
      "NotebookApp.rate_limit_window=3.0 (secs)\n",
      "\n",
      "4999it [07:35, 10.96it/s]\n"
     ]
    },
    {
     "name": "stdout",
     "output_type": "stream",
     "text": [
      "es 5000\n"
     ]
    },
    {
     "name": "stderr",
     "output_type": "stream",
     "text": [
      "0it [00:00, ?it/s]\n",
      "Reading metadata...: 0it [00:00, ?it/s]\u001b[A\n",
      "Reading metadata...: 1it [00:01,  1.13s/it]\u001b[A\n",
      "Reading metadata...: 12909it [00:01, 14432.84it/s]\u001b[A\n",
      "Reading metadata...: 20502it [00:02, 7959.63it/s] \u001b[A\n",
      "Reading metadata...: 33429it [00:02, 15723.65it/s]\u001b[A\n",
      "Reading metadata...: 41172it [00:03, 11622.01it/s]\u001b[A\n",
      "Reading metadata...: 52788it [00:03, 18146.65it/s]\u001b[A\n",
      "Reading metadata...: 60180it [00:04, 13539.61it/s]\u001b[A\n",
      "Reading metadata...: 72479it [00:04, 20672.52it/s]\u001b[A\n",
      "Reading metadata...: 79963it [00:06, 12043.93it/s]\u001b[A\n",
      "Reading metadata...: 90444it [00:06, 17125.59it/s]\u001b[A\n",
      "Reading metadata...: 97352it [00:07, 12291.36it/s]\u001b[A\n",
      "Reading metadata...: 107059it [00:07, 17164.47it/s]\u001b[A\n",
      "Reading metadata...: 114481it [00:08, 12716.98it/s]\u001b[A\n",
      "Reading metadata...: 124879it [00:08, 18217.52it/s]\u001b[A\n",
      "Reading metadata...: 132564it [00:09, 13339.08it/s]\u001b[A\n",
      "Reading metadata...: 143006it [00:09, 18983.57it/s]\u001b[A\n",
      "Reading metadata...: 151714it [00:12, 8775.13it/s] \u001b[A\n",
      "Reading metadata...: 163134it [00:12, 12983.44it/s]\u001b[A\n",
      "Reading metadata...: 169796it [00:13, 10032.40it/s]\u001b[A\n",
      "Reading metadata...: 181254it [00:13, 14887.31it/s]\u001b[A\n",
      "Reading metadata...: 189814it [00:14, 11870.50it/s]\u001b[A\n",
      "Reading metadata...: 202566it [00:14, 17868.45it/s]\u001b[A\n",
      "Reading metadata...: 210821it [00:16, 10285.09it/s]\u001b[A\n",
      "Reading metadata...: 221740it [00:16, 14579.22it/s]\u001b[A\n",
      "Reading metadata...: 228704it [00:17, 11469.76it/s]\u001b[A\n",
      "Reading metadata...: 239927it [00:17, 16611.70it/s]\u001b[A\n",
      "Reading metadata...: 246846it [00:19, 11110.36it/s]\u001b[A\n",
      "Reading metadata...: 257977it [00:19, 16192.37it/s]\u001b[A\n",
      "Reading metadata...: 264818it [00:20, 12553.55it/s]\u001b[A\n",
      "Reading metadata...: 280329it [00:20, 13828.76it/s]\u001b[A\n",
      "4999it [07:46, 10.71it/s]\n"
     ]
    },
    {
     "name": "stdout",
     "output_type": "stream",
     "text": [
      "sl 5000\n"
     ]
    },
    {
     "name": "stderr",
     "output_type": "stream",
     "text": [
      "0it [00:00, ?it/s]\n",
      "Reading metadata...: 0it [00:00, ?it/s]\u001b[A\n",
      "Reading metadata...: 1436it [00:00, 2092.34it/s]\n",
      "1436it [01:25, 16.73it/s]\n"
     ]
    },
    {
     "name": "stdout",
     "output_type": "stream",
     "text": [
      "kab 1436\n"
     ]
    },
    {
     "name": "stderr",
     "output_type": "stream",
     "text": [
      "0it [00:00, ?it/s]\n",
      "Reading metadata...: 0it [00:00, ?it/s]\u001b[A\n",
      "Reading metadata...: 1it [00:03,  3.15s/it]\u001b[A\n",
      "Reading metadata...: 12328it [00:03, 5339.09it/s]\u001b[A\n",
      "Reading metadata...: 24573it [00:03, 12162.62it/s]\u001b[A\n",
      "Reading metadata...: 34068it [00:04, 10695.44it/s]\u001b[A\n",
      "Reading metadata...: 45947it [00:04, 17138.12it/s]\u001b[A\n",
      "Reading metadata...: 54133it [00:05, 12810.60it/s]\u001b[A\n",
      "Reading metadata...: 66062it [00:05, 19274.90it/s]\u001b[A\n",
      "Reading metadata...: 75169it [00:06, 14542.95it/s]\u001b[A\n",
      "Reading metadata...: 87621it [00:06, 21381.94it/s]\u001b[A\n",
      "Reading metadata...: 99766it [00:06, 29546.26it/s]\u001b[A\n",
      "Reading metadata...: 108843it [00:07, 18825.89it/s]\u001b[A\n",
      "Reading metadata...: 119820it [00:07, 25415.59it/s]\u001b[A\n",
      "Reading metadata...: 127741it [00:08, 16098.90it/s]\u001b[A\n",
      "Reading metadata...: 139813it [00:09, 23018.13it/s]\u001b[A\n",
      "Reading metadata...: 151730it [00:09, 16184.20it/s]\u001b[A\n",
      "4999it [04:48, 17.33it/s]\n"
     ]
    },
    {
     "name": "stdout",
     "output_type": "stream",
     "text": [
      "cy 5000\n"
     ]
    },
    {
     "name": "stderr",
     "output_type": "stream",
     "text": [
      "0it [00:00, ?it/s]\n",
      "Reading metadata...: 0it [00:00, ?it/s]\u001b[A\n",
      "Reading metadata...: 7810it [00:01, 7331.74it/s]\n",
      "4999it [06:28, 12.88it/s]\n"
     ]
    },
    {
     "name": "stdout",
     "output_type": "stream",
     "text": [
      "ca 5000\n"
     ]
    },
    {
     "name": "stderr",
     "output_type": "stream",
     "text": [
      "0it [00:00, ?it/s]\n",
      "Reading metadata...: 0it [00:00, ?it/s]\u001b[A\n",
      "Reading metadata...: 1it [00:01,  1.04s/it]\u001b[A\n",
      "Reading metadata...: 12506it [00:01, 15133.72it/s]\u001b[A\n",
      "Reading metadata...: 22434it [00:02, 11443.25it/s]\u001b[A\n",
      "Reading metadata...: 35402it [00:02, 20956.82it/s]\u001b[A\n",
      "Reading metadata...: 44788it [00:03, 14668.60it/s]\u001b[A\n",
      "Reading metadata...: 57717it [00:03, 22752.07it/s]\u001b[A\n",
      "Reading metadata...: 67060it [00:04, 15835.89it/s]\u001b[A\n",
      "Reading metadata...: 79332it [00:04, 22908.43it/s]\u001b[A\n",
      "Reading metadata...: 89229it [00:05, 16847.56it/s]\u001b[A\n",
      "Reading metadata...: 101242it [00:05, 23650.79it/s]\u001b[A\n",
      "Reading metadata...: 111286it [00:06, 17685.08it/s]\u001b[A\n",
      "Reading metadata...: 124194it [00:06, 25149.21it/s]\u001b[A\n",
      "Reading metadata...: 133256it [00:07, 16883.56it/s]\u001b[A\n",
      "Reading metadata...: 145440it [00:07, 23589.95it/s]\u001b[A\n",
      "Reading metadata...: 155163it [00:08, 15933.88it/s]\u001b[A\n",
      "Reading metadata...: 167495it [00:09, 22393.30it/s]\u001b[A\n",
      "Reading metadata...: 177029it [00:10, 16328.10it/s]\u001b[A\n",
      "Reading metadata...: 189852it [00:10, 23210.37it/s]\u001b[A\n",
      "Reading metadata...: 198750it [00:11, 15875.15it/s]\u001b[A\n",
      "Reading metadata...: 211637it [00:11, 22693.52it/s]\u001b[A\n",
      "Reading metadata...: 220419it [00:12, 15730.92it/s]\u001b[A\n",
      "Reading metadata...: 232669it [00:12, 22154.08it/s]\u001b[A\n",
      "Reading metadata...: 242127it [00:13, 14161.24it/s]\u001b[A\n",
      "Reading metadata...: 254451it [00:13, 20083.56it/s]\u001b[A\n",
      "Reading metadata...: 263765it [00:15, 13326.75it/s]\u001b[A\n",
      "Reading metadata...: 274721it [00:15, 18263.61it/s]\u001b[A\n",
      "Reading metadata...: 285500it [00:16, 15211.24it/s]\u001b[A\n",
      "Reading metadata...: 297101it [00:16, 20994.60it/s]\u001b[A\n",
      "Reading metadata...: 307104it [00:17, 16475.82it/s]\u001b[A\n",
      "Reading metadata...: 318878it [00:17, 22752.90it/s]\u001b[A\n",
      "Reading metadata...: 328728it [00:18, 15297.85it/s]\u001b[A\n",
      "Reading metadata...: 340460it [00:18, 21207.22it/s]\u001b[A\n",
      "Reading metadata...: 350237it [00:19, 14667.68it/s]\u001b[A\n",
      "Reading metadata...: 361571it [00:20, 20180.89it/s]\u001b[A\n",
      "Reading metadata...: 371774it [00:21, 16107.08it/s]\u001b[A\n",
      "Reading metadata...: 383335it [00:21, 22166.18it/s]\u001b[A\n",
      "Reading metadata...: 393349it [00:22, 16662.41it/s]\u001b[A\n",
      "Reading metadata...: 406054it [00:22, 23599.80it/s]\u001b[A\n",
      "Reading metadata...: 414994it [00:23, 16183.57it/s]\u001b[A\n",
      "Reading metadata...: 427312it [00:23, 22773.29it/s]\u001b[A\n",
      "Reading metadata...: 436262it [00:24, 15825.31it/s]\u001b[A\n",
      "Reading metadata...: 447441it [00:24, 21673.92it/s]\u001b[A\n",
      "Reading metadata...: 457569it [00:26, 12346.61it/s]\u001b[A\n",
      "Reading metadata...: 470221it [00:26, 17820.97it/s]\u001b[A\n",
      "Reading metadata...: 479256it [00:27, 13716.76it/s]\u001b[A\n",
      "Reading metadata...: 490245it [00:27, 18808.45it/s]\u001b[A\n",
      "Reading metadata...: 500529it [00:28, 14877.65it/s]\u001b[A\n",
      "Reading metadata...: 512996it [00:28, 21137.41it/s]\u001b[A\n",
      "Reading metadata...: 521880it [00:29, 15383.25it/s]\u001b[A\n",
      "Reading metadata...: 534105it [00:29, 21724.83it/s]\u001b[A\n",
      "Reading metadata...: 543313it [00:30, 15852.68it/s]\u001b[A\n",
      "Reading metadata...: 555265it [00:30, 22122.86it/s]\u001b[A\n",
      "Reading metadata...: 564904it [00:32, 14176.06it/s]\u001b[A\n",
      "Reading metadata...: 575053it [00:32, 18941.34it/s]\u001b[A\n",
      "Reading metadata...: 585699it [00:32, 25271.78it/s]\u001b[A\n",
      "Reading metadata...: 593633it [00:33, 15530.76it/s]\u001b[A\n",
      "Reading metadata...: 604447it [00:33, 21467.56it/s]\u001b[A\n",
      "Reading metadata...: 611728it [00:34, 15120.05it/s]\u001b[A\n",
      "Reading metadata...: 622963it [00:34, 21506.99it/s]\u001b[A\n",
      "Reading metadata...: 630064it [00:35, 15026.18it/s]\u001b[A\n",
      "Reading metadata...: 641148it [00:35, 21420.30it/s]\u001b[A\n",
      "Reading metadata...: 648931it [00:36, 14630.27it/s]\u001b[A\n",
      "Reading metadata...: 660420it [00:36, 21109.41it/s]\u001b[A\n",
      "Reading metadata...: 669821it [00:38, 13247.83it/s]\u001b[A\n",
      "Reading metadata...: 681180it [00:38, 18807.13it/s]\u001b[A\n",
      "Reading metadata...: 691109it [00:39, 14699.24it/s]\u001b[A\n",
      "Reading metadata...: 699587it [00:39, 18810.87it/s]\u001b[A\n",
      "Reading metadata...: 710576it [00:39, 25854.27it/s]\u001b[A\n",
      "Reading metadata...: 718194it [00:40, 16395.53it/s]\u001b[A\n",
      "Reading metadata...: 729159it [00:40, 22942.31it/s]\u001b[A\n",
      "Reading metadata...: 736343it [00:41, 14746.47it/s]\u001b[A\n",
      "Reading metadata...: 747294it [00:41, 20952.70it/s]\u001b[A\n",
      "Reading metadata...: 754809it [00:42, 13963.87it/s]\u001b[A\n",
      "Reading metadata...: 766512it [00:42, 20407.98it/s]\u001b[A\n",
      "Reading metadata...: 775438it [00:44, 13406.81it/s]\u001b[A\n",
      "Reading metadata...: 786678it [00:44, 19034.61it/s]\u001b[A\n",
      "Reading metadata...: 795378it [00:45, 13748.00it/s]\u001b[A\n",
      "Reading metadata...: 806220it [00:45, 19200.37it/s]\u001b[A\n",
      "Reading metadata...: 815883it [00:46, 13576.45it/s]\u001b[A\n",
      "Reading metadata...: 827561it [00:46, 19305.29it/s]\u001b[A\n",
      "Reading metadata...: 836907it [00:47, 13930.53it/s]\u001b[A\n",
      "Reading metadata...: 848469it [00:48, 19602.01it/s]\u001b[A\n",
      "Reading metadata...: 857730it [00:49, 13957.55it/s]\u001b[A\n",
      "Reading metadata...: 869056it [00:49, 19479.52it/s]\u001b[A\n",
      "Reading metadata...: 878658it [00:50, 14340.55it/s]\u001b[A\n",
      "Reading metadata...: 890350it [00:50, 20150.25it/s]\u001b[A\n",
      "Reading metadata...: 899721it [00:51, 14652.82it/s]\u001b[A\n",
      "Reading metadata...: 910748it [00:51, 20156.07it/s]\u001b[A\n",
      "Reading metadata...: 920413it [00:52, 14770.82it/s]\u001b[A\n",
      "Reading metadata...: 930428it [00:52, 19735.34it/s]\u001b[A\n",
      "Reading metadata...: 940906it [00:55, 8426.34it/s] \u001b[A\n",
      "Reading metadata...: 952370it [00:55, 12033.98it/s]\u001b[A\n",
      "Reading metadata...: 962030it [00:56, 11255.90it/s]\u001b[A\n",
      "Reading metadata...: 973106it [00:57, 15691.90it/s]\u001b[A\n",
      "Reading metadata...: 982622it [00:58, 11604.12it/s]\u001b[A\n",
      "Reading metadata...: 994332it [00:58, 16487.40it/s]\u001b[A\n",
      "Reading metadata...: 1003218it [00:59, 13065.32it/s]\u001b[A\n",
      "Reading metadata...: 1015349it [00:59, 18726.64it/s]\u001b[A\n",
      "Reading metadata...: 1023722it [01:00, 14045.42it/s]\u001b[A\n",
      "Reading metadata...: 1034833it [01:00, 19540.44it/s]\u001b[A\n",
      "Reading metadata...: 1046965it [01:01, 17150.79it/s]\u001b[A\n",
      "4999it [08:31,  9.77it/s]\n"
     ]
    },
    {
     "name": "stdout",
     "output_type": "stream",
     "text": [
      "tt 5000\n"
     ]
    },
    {
     "name": "stderr",
     "output_type": "stream",
     "text": [
      "0it [00:00, ?it/s]\n",
      "Reading metadata...: 0it [00:00, ?it/s]\u001b[A\n",
      "Reading metadata...: 9553it [00:01, 6187.00it/s]\n",
      "4999it [04:42, 17.67it/s]\n"
     ]
    },
    {
     "name": "stdout",
     "output_type": "stream",
     "text": [
      "ta 5000\n"
     ]
    },
    {
     "name": "stderr",
     "output_type": "stream",
     "text": [
      "0it [00:00, ?it/s]\n",
      "Reading metadata...: 0it [00:00, ?it/s]\u001b[A\n",
      "Reading metadata...: 1it [00:01,  1.27s/it]\u001b[A\n",
      "Reading metadata...: 613it [00:01, 477.64it/s]\u001b[A\n",
      "Reading metadata...: 10289it [00:01, 10125.76it/s]\u001b[A\n",
      "Reading metadata...: 14757it [00:02, 6959.07it/s] \u001b[A\n",
      "Reading metadata...: 24981it [00:02, 14515.38it/s]\u001b[A\n",
      "Reading metadata...: 30514it [00:03, 10089.06it/s]\u001b[A\n",
      "Reading metadata...: 43350it [00:03, 11151.20it/s]\u001b[A\n",
      "4999it [07:22, 11.31it/s]\n"
     ]
    },
    {
     "name": "stdout",
     "output_type": "stream",
     "text": [
      "ru 5000\n"
     ]
    },
    {
     "name": "stderr",
     "output_type": "stream",
     "text": [
      "0it [00:00, ?it/s]\n",
      "Reading metadata...: 0it [00:00, ?it/s]\u001b[A\n",
      "Reading metadata...: 1it [00:03,  3.30s/it]\u001b[A\n",
      "Reading metadata...: 9230it [00:03, 3829.36it/s]\u001b[A\n",
      "Reading metadata...: 26269it [00:04, 5959.27it/s]\u001b[A\n",
      "4999it [06:39, 12.50it/s]\n"
     ]
    },
    {
     "name": "stdout",
     "output_type": "stream",
     "text": [
      "nl 5000\n"
     ]
    },
    {
     "name": "stderr",
     "output_type": "stream",
     "text": [
      "0it [00:00, ?it/s]\n",
      "Reading metadata...: 0it [00:00, ?it/s]\u001b[A\n",
      "Reading metadata...: 1it [00:01,  1.03s/it]\u001b[A\n",
      "Reading metadata...: 11590it [00:01, 14142.46it/s]\u001b[A\n",
      "Reading metadata...: 31906it [00:02, 14689.13it/s]\u001b[A\n",
      "4999it [06:12, 13.41it/s]\n"
     ]
    },
    {
     "name": "stdout",
     "output_type": "stream",
     "text": [
      "it 5000\n"
     ]
    },
    {
     "name": "stderr",
     "output_type": "stream",
     "text": [
      "0it [00:00, ?it/s]\n",
      "Reading metadata...: 0it [00:00, ?it/s]\u001b[A\n",
      "Reading metadata...: 1it [00:01,  1.09s/it]\u001b[A\n",
      "Reading metadata...: 10360it [00:01, 12033.03it/s]\u001b[A\n",
      "Reading metadata...: 21699it [00:02, 11368.96it/s]\u001b[A\n",
      "Reading metadata...: 33365it [00:02, 19828.33it/s]\u001b[A\n",
      "Reading metadata...: 43329it [00:03, 14372.63it/s]\u001b[A\n",
      "Reading metadata...: 55045it [00:03, 21577.16it/s]\u001b[A\n",
      "Reading metadata...: 64781it [00:04, 15265.64it/s]\u001b[A\n",
      "Reading metadata...: 76616it [00:04, 21983.11it/s]\u001b[A\n",
      "Reading metadata...: 86242it [00:05, 15868.21it/s]\u001b[A\n",
      "Reading metadata...: 98067it [00:05, 22404.56it/s]\u001b[A\n",
      "Reading metadata...: 107626it [00:06, 16148.14it/s]\u001b[A\n",
      "Reading metadata...: 119527it [00:06, 22661.20it/s]\u001b[A\n",
      "Reading metadata...: 128594it [00:08, 14429.04it/s]\u001b[A\n",
      "Reading metadata...: 141015it [00:08, 20683.57it/s]\u001b[A\n",
      "Reading metadata...: 149795it [00:09, 15929.38it/s]\u001b[A\n",
      "Reading metadata...: 162637it [00:09, 17635.57it/s]\u001b[A\n",
      "4999it [07:23, 11.26it/s]\n"
     ]
    },
    {
     "name": "stdout",
     "output_type": "stream",
     "text": [
      "eu 5000\n"
     ]
    },
    {
     "name": "stderr",
     "output_type": "stream",
     "text": [
      "0it [00:00, ?it/s]\n",
      "Reading metadata...: 0it [00:00, ?it/s]\u001b[A\n",
      "Reading metadata...: 1it [00:00,  1.07it/s]\u001b[A\n",
      "Reading metadata...: 10918it [00:01, 10381.40it/s][A\n",
      "4999it [06:31, 12.78it/s]\n"
     ]
    },
    {
     "name": "stdout",
     "output_type": "stream",
     "text": [
      "tr 5000\n"
     ]
    },
    {
     "name": "stderr",
     "output_type": "stream",
     "text": [
      "0it [00:00, ?it/s]\n",
      "Reading metadata...: 0it [00:00, ?it/s]\u001b[A\n",
      "Reading metadata...: 1it [00:02,  2.97s/it]\u001b[A\n",
      "Reading metadata...: 10292it [00:03, 4720.76it/s]\u001b[A\n",
      "Reading metadata...: 22007it [00:03, 11634.83it/s]\u001b[A\n",
      "Reading metadata...: 31091it [00:04, 7551.98it/s] \u001b[A\n",
      "4999it [05:11, 16.03it/s]\n"
     ]
    },
    {
     "name": "stdout",
     "output_type": "stream",
     "text": [
      "ar 5000\n"
     ]
    },
    {
     "name": "stderr",
     "output_type": "stream",
     "text": [
      "0it [00:00, ?it/s]\n",
      "Reading metadata...: 0it [00:00, ?it/s]\u001b[A\n",
      "Reading metadata...: 1it [00:01,  1.07s/it]\u001b[A\n",
      "Reading metadata...: 11583it [00:01, 13680.21it/s]\u001b[A\n",
      "Reading metadata...: 28167it [00:02, 13113.34it/s]\u001b[A\n",
      "4999it [05:58, 13.95it/s]\n"
     ]
    },
    {
     "name": "stdout",
     "output_type": "stream",
     "text": [
      "zh-TW 5000\n"
     ]
    },
    {
     "name": "stderr",
     "output_type": "stream",
     "text": [
      "0it [00:00, ?it/s]\n",
      "Reading metadata...: 0it [00:00, ?it/s]\u001b[A\n",
      "Reading metadata...: 6799it [00:00, 6915.24it/s]\n",
      "4999it [04:46, 17.48it/s]\n"
     ]
    },
    {
     "name": "stdout",
     "output_type": "stream",
     "text": [
      "br 5000\n"
     ]
    },
    {
     "name": "stderr",
     "output_type": "stream",
     "text": [
      "0it [00:00, ?it/s]\n",
      "Reading metadata...: 0it [00:00, ?it/s]\u001b[A\n",
      "Reading metadata...: 2618it [00:00, 3376.91it/s]\n",
      "2618it [02:19, 18.79it/s]\n"
     ]
    },
    {
     "name": "stdout",
     "output_type": "stream",
     "text": [
      "pt 2618\n"
     ]
    },
    {
     "name": "stderr",
     "output_type": "stream",
     "text": [
      "0it [00:00, ?it/s]\n",
      "Reading metadata...: 0it [00:00, ?it/s]\u001b[A\n",
      "Reading metadata...: 1it [00:01,  1.04s/it]\u001b[A\n",
      "Reading metadata...: 19948it [00:01, 16640.55it/s]\u001b[A\n",
      "4999it [05:50, 14.25it/s]\n"
     ]
    },
    {
     "name": "stdout",
     "output_type": "stream",
     "text": [
      "eo 5000\n"
     ]
    },
    {
     "name": "stderr",
     "output_type": "stream",
     "text": [
      "0it [00:00, ?it/s]\n",
      "Reading metadata...: 0it [00:00, ?it/s]\u001b[A\n",
      "Reading metadata...: 1it [00:01,  1.29s/it]\u001b[A\n",
      "Reading metadata...: 9862it [00:01, 9805.31it/s]\u001b[A\n",
      "Reading metadata...: 21904it [00:01, 23562.14it/s]\u001b[A\n",
      "Reading metadata...: 30553it [00:02, 13291.28it/s]\u001b[A\n",
      "Reading metadata...: 42137it [00:02, 21469.17it/s]\u001b[A\n",
      "Reading metadata...: 49862it [00:03, 13793.75it/s]\u001b[A\n",
      "Reading metadata...: 60761it [00:03, 20366.30it/s]\u001b[A\n",
      "Reading metadata...: 67925it [00:04, 13274.18it/s]\u001b[A\n",
      "Reading metadata...: 79307it [00:05, 19691.93it/s]\u001b[A\n",
      "Reading metadata...: 88109it [00:06, 13969.45it/s]\u001b[A\n",
      "Reading metadata...: 99857it [00:06, 20346.28it/s]\u001b[A\n",
      "Reading metadata...: 110050it [00:07, 14435.35it/s]\u001b[A\n",
      "Reading metadata...: 121614it [00:07, 20335.19it/s]\u001b[A\n",
      "Reading metadata...: 132057it [00:08, 16388.68it/s]\u001b[A\n",
      "Reading metadata...: 143984it [00:08, 16946.00it/s]\u001b[A\n",
      "4999it [08:01, 10.39it/s]\n"
     ]
    },
    {
     "name": "stdout",
     "output_type": "stream",
     "text": [
      "zh-CN 5000\n"
     ]
    },
    {
     "name": "stderr",
     "output_type": "stream",
     "text": [
      "0it [00:00, ?it/s]\n",
      "Reading metadata...: 0it [00:00, ?it/s]\u001b[A\n",
      "Reading metadata...: 1it [00:00,  1.02it/s]\u001b[A\n",
      "Reading metadata...: 11065it [00:01, 14044.72it/s]\u001b[A\n",
      "Reading metadata...: 29383it [00:02, 12559.94it/s]\u001b[A\n",
      "4999it [06:44, 12.34it/s]\n"
     ]
    },
    {
     "name": "stdout",
     "output_type": "stream",
     "text": [
      "id 5000\n"
     ]
    },
    {
     "name": "stderr",
     "output_type": "stream",
     "text": [
      "0it [00:00, ?it/s]\n",
      "Reading metadata...: 0it [00:00, ?it/s]\u001b[A\n",
      "Reading metadata...: 5041it [00:00, 6423.60it/s]\n",
      "4999it [07:12, 11.56it/s]\n"
     ]
    },
    {
     "name": "stdout",
     "output_type": "stream",
     "text": [
      "ia 5000\n"
     ]
    },
    {
     "name": "stderr",
     "output_type": "stream",
     "text": [
      "0it [00:00, ?it/s]\n",
      "Reading metadata...: 0it [00:00, ?it/s]\u001b[A\n",
      "Reading metadata...: 5018it [00:00, 5937.95it/s]\n",
      "4999it [05:14, 15.88it/s]\n"
     ]
    },
    {
     "name": "stdout",
     "output_type": "stream",
     "text": [
      "lv 5000\n"
     ]
    },
    {
     "name": "stderr",
     "output_type": "stream",
     "text": [
      "0it [00:00, ?it/s]\n",
      "Reading metadata...: 0it [00:00, ?it/s]\u001b[A\n",
      "Reading metadata...: 2756it [00:00, 3729.71it/s]\n",
      "2756it [02:43, 16.89it/s]\n"
     ]
    },
    {
     "name": "stdout",
     "output_type": "stream",
     "text": [
      "ja 2756\n"
     ]
    },
    {
     "name": "stderr",
     "output_type": "stream",
     "text": [
      "0it [00:00, ?it/s]\n",
      "Reading metadata...: 0it [00:00, ?it/s]\u001b[A\n",
      "Reading metadata...: 7071it [00:00, 7435.88it/s]\n",
      "4999it [06:37, 12.59it/s]\n"
     ]
    },
    {
     "name": "stdout",
     "output_type": "stream",
     "text": [
      "rw 5000\n"
     ]
    },
    {
     "name": "stderr",
     "output_type": "stream",
     "text": [
      "0it [00:00, ?it/s]\n",
      "Reading metadata...: 0it [00:00, ?it/s]\u001b[A\n",
      "Reading metadata...: 1it [00:01,  1.34s/it]\u001b[A\n",
      "Reading metadata...: 8717it [00:01, 8391.64it/s]\u001b[A\n",
      "Reading metadata...: 20599it [00:01, 21742.44it/s]\u001b[A\n",
      "Reading metadata...: 28810it [00:02, 12241.57it/s]\u001b[A\n",
      "Reading metadata...: 39369it [00:02, 19481.34it/s]\u001b[A\n",
      "Reading metadata...: 46539it [00:03, 12417.35it/s]\u001b[A\n",
      "Reading metadata...: 58087it [00:03, 19309.25it/s]\u001b[A\n",
      "Reading metadata...: 69090it [00:05, 14173.17it/s]\u001b[A\n",
      "Reading metadata...: 79803it [00:05, 19835.30it/s]\u001b[A\n",
      "Reading metadata...: 89104it [00:05, 25692.91it/s]\u001b[A\n",
      "Reading metadata...: 96738it [00:08, 7413.11it/s] \u001b[A\n",
      "Reading metadata...: 106603it [00:08, 10513.90it/s]\u001b[A\n",
      "Reading metadata...: 115284it [00:09, 9927.01it/s] \u001b[A\n",
      "Reading metadata...: 126296it [00:09, 14401.61it/s]\u001b[A\n",
      "Reading metadata...: 136917it [00:09, 19907.60it/s]\u001b[A\n",
      "Reading metadata...: 144861it [00:11, 12747.31it/s]\u001b[A\n",
      "Reading metadata...: 156012it [00:11, 18197.15it/s]\u001b[A\n",
      "Reading metadata...: 163379it [00:12, 13470.24it/s]\u001b[A\n",
      "Reading metadata...: 174447it [00:12, 19248.17it/s]\u001b[A\n",
      "Reading metadata...: 184741it [00:13, 15357.32it/s]\u001b[A\n",
      "Reading metadata...: 195160it [00:13, 20900.71it/s]\u001b[A\n",
      "Reading metadata...: 206034it [00:13, 28090.32it/s]\u001b[A\n",
      "Reading metadata...: 214071it [00:14, 17875.81it/s]\u001b[A\n",
      "Reading metadata...: 225404it [00:14, 24917.87it/s]\u001b[A\n",
      "Reading metadata...: 232922it [00:15, 15869.89it/s]\u001b[A\n",
      "Reading metadata...: 242986it [00:15, 21618.81it/s]\u001b[A\n",
      "Reading metadata...: 254027it [00:16, 17050.26it/s]\u001b[A\n",
      "Reading metadata...: 265325it [00:16, 23578.80it/s]\u001b[A\n",
      "Reading metadata...: 277141it [00:17, 17741.26it/s]\u001b[A\n",
      "Reading metadata...: 287877it [00:17, 23625.07it/s]\u001b[A\n",
      "Reading metadata...: 298236it [00:17, 30481.85it/s]\u001b[A\n",
      "Reading metadata...: 306172it [00:18, 19174.81it/s]\u001b[A\n",
      "Reading metadata...: 317153it [00:18, 26156.75it/s]\u001b[A\n",
      "Reading metadata...: 324522it [00:19, 15562.40it/s]\u001b[A\n",
      "Reading metadata...: 335517it [00:20, 21852.45it/s]\u001b[A\n",
      "Reading metadata...: 345338it [00:20, 28489.45it/s]\u001b[A\n",
      "Reading metadata...: 353220it [00:21, 16477.99it/s]\u001b[A\n",
      "Reading metadata...: 363544it [00:21, 22633.63it/s]\u001b[A\n",
      "Reading metadata...: 370659it [00:24, 6915.10it/s] \u001b[A\n",
      "Reading metadata...: 382416it [00:24, 10506.86it/s]\u001b[A\n",
      "Reading metadata...: 392398it [00:25, 10003.59it/s]\u001b[A\n",
      "Reading metadata...: 403981it [00:25, 14442.09it/s]\u001b[A\n",
      "Reading metadata...: 414606it [00:26, 13283.42it/s]\u001b[A\n",
      "Reading metadata...: 425750it [00:26, 18369.14it/s]\u001b[A\n",
      "Reading metadata...: 436504it [00:27, 14697.24it/s]\u001b[A\n",
      "Reading metadata...: 448189it [00:28, 20390.74it/s]\u001b[A\n",
      "Reading metadata...: 459037it [00:29, 16386.06it/s]\u001b[A\n",
      "Reading metadata...: 470080it [00:29, 22060.03it/s]\u001b[A\n",
      "Reading metadata...: 481665it [00:30, 17027.33it/s]\u001b[A\n",
      "Reading metadata...: 492862it [00:30, 22849.70it/s]\u001b[A\n",
      "Reading metadata...: 503031it [00:30, 29206.01it/s]\u001b[A\n",
      "Reading metadata...: 511010it [00:31, 17417.11it/s]\u001b[A\n",
      "Reading metadata...: 522942it [00:31, 24494.34it/s]\u001b[A\n",
      "Reading metadata...: 530591it [00:35, 6952.98it/s] \u001b[A\n",
      "Reading metadata...: 542016it [00:35, 10150.60it/s]\u001b[A\n",
      "Reading metadata...: 549236it [00:36, 9174.93it/s] \u001b[A\n",
      "Reading metadata...: 557872it [00:36, 12297.32it/s]\u001b[A\n",
      "Reading metadata...: 569522it [00:36, 17993.57it/s]\u001b[A\n",
      "Reading metadata...: 577400it [00:37, 12932.60it/s]\u001b[A\n",
      "Reading metadata...: 587876it [00:37, 18110.00it/s]\u001b[A\n",
      "Reading metadata...: 595027it [00:38, 13015.99it/s]\u001b[A\n",
      "Reading metadata...: 605311it [00:38, 18319.21it/s]\u001b[A\n",
      "Reading metadata...: 616803it [00:38, 25833.00it/s]\u001b[A\n",
      "Reading metadata...: 624965it [00:39, 16120.78it/s]\u001b[A\n",
      "Reading metadata...: 635016it [00:40, 21885.37it/s]\u001b[A\n",
      "Reading metadata...: 642194it [00:43, 6219.62it/s] \u001b[A\n",
      "Reading metadata...: 652756it [00:43, 9115.84it/s]\u001b[A\n",
      "Reading metadata...: 661196it [00:44, 9075.63it/s]\u001b[A\n",
      "Reading metadata...: 672705it [00:44, 13420.26it/s]\u001b[A\n",
      "Reading metadata...: 683085it [00:45, 18418.85it/s]\u001b[A\n",
      "Reading metadata...: 691054it [00:46, 13290.90it/s]\u001b[A\n",
      "Reading metadata...: 699051it [00:46, 17041.41it/s]\u001b[A\n",
      "Reading metadata...: 707048it [00:47, 12397.28it/s]\u001b[A\n",
      "Reading metadata...: 717905it [00:47, 17946.45it/s]\u001b[A\n",
      "Reading metadata...: 728955it [00:47, 24994.44it/s]\u001b[A\n",
      "Reading metadata...: 736820it [00:48, 13970.45it/s]\u001b[A\n",
      "Reading metadata...: 748786it [00:48, 20393.67it/s]\u001b[A\n",
      "Reading metadata...: 756356it [00:49, 14679.99it/s]\u001b[A\n",
      "Reading metadata...: 767199it [00:49, 20609.83it/s]\u001b[A\n",
      "Reading metadata...: 776402it [00:51, 14604.52it/s]\u001b[A\n",
      "Reading metadata...: 787588it [00:51, 20555.18it/s]\u001b[A\n",
      "Reading metadata...: 797501it [00:51, 26871.17it/s]\u001b[A\n",
      "Reading metadata...: 805393it [00:52, 16858.89it/s]\u001b[A\n",
      "Reading metadata...: 816265it [00:52, 23423.64it/s]\u001b[A\n",
      "Reading metadata...: 823562it [00:53, 14595.17it/s]\u001b[A\n",
      "Reading metadata...: 833639it [00:53, 20153.39it/s]\u001b[A\n",
      "Reading metadata...: 842891it [00:53, 26258.64it/s]\u001b[A\n",
      "Reading metadata...: 850384it [00:56, 9111.29it/s] \u001b[A\n",
      "Reading metadata...: 861037it [00:56, 13257.61it/s]\u001b[A\n",
      "Reading metadata...: 868142it [00:57, 11196.37it/s]\u001b[A\n",
      "Reading metadata...: 878939it [00:57, 16269.86it/s]\u001b[A\n",
      "Reading metadata...: 890133it [00:57, 22935.77it/s]\u001b[A\n",
      "Reading metadata...: 898248it [01:01, 5747.55it/s] \u001b[A\n",
      "Reading metadata...: 908088it [01:01, 8125.01it/s]\u001b[A\n",
      "Reading metadata...: 915034it [01:02, 7491.56it/s]\u001b[A\n",
      "Reading metadata...: 925595it [01:03, 10971.96it/s]\u001b[A\n",
      "Reading metadata...: 935232it [01:04, 10393.94it/s]\u001b[A\n",
      "Reading metadata...: 944830it [01:04, 14271.44it/s]\u001b[A\n",
      "Reading metadata...: 955533it [01:04, 19909.94it/s]\u001b[A\n",
      "Reading metadata...: 963193it [01:05, 14100.66it/s]\u001b[A\n",
      "Reading metadata...: 973633it [01:05, 19679.96it/s]\u001b[A\n",
      "Reading metadata...: 980677it [01:06, 14212.91it/s]\u001b[A\n",
      "Reading metadata...: 990885it [01:06, 19899.99it/s]\u001b[A\n",
      "Reading metadata...: 1003023it [01:06, 15046.42it/s]\u001b[A\n",
      "4999it [08:36,  9.68it/s]\n"
     ]
    }
   ],
   "source": [
    "mp.multiprocessing(languages, loop, cores = 4, returned = False)"
   ]
  },
  {
   "cell_type": "code",
   "execution_count": 27,
   "id": "c922977d",
   "metadata": {},
   "outputs": [
    {
     "name": "stderr",
     "output_type": "stream",
     "text": [
      "0it [00:00, ?it/s]\n",
      "Reading metadata...: 0it [00:00, ?it/s]\u001b[A\n",
      "Reading metadata...: 5041it [00:00, 5654.25it/s]\n",
      "5041it [01:01, 82.53it/s] \n"
     ]
    }
   ],
   "source": [
    "l = 'id'\n",
    "cv_13 = load_dataset(\"mozilla-foundation/common_voice_13_0\", l, split=\"train\", streaming = True)\n",
    "\n",
    "index = 0\n",
    "for row in tqdm(cv_13):\n",
    "    f = os.path.join(l, f'{index}.mp3')\n",
    "    if os.path.exists(f):\n",
    "        continue\n",
    "\n",
    "    a = change_samplerate(row['audio']['array'], row['audio']['sampling_rate'], 16000)\n",
    "    sf.write(f, a, 16000)\n",
    "\n",
    "    index += 1"
   ]
  },
  {
   "cell_type": "code",
   "execution_count": 30,
   "id": "b25996f9",
   "metadata": {},
   "outputs": [],
   "source": [
    "l = 'en'\n",
    "cv_13 = load_dataset(\"mozilla-foundation/common_voice_13_0\", l, split=\"train\", streaming = True)\n",
    "\n",
    "index = 0\n",
    "for row in tqdm(cv_13):\n",
    "    f = os.path.join(l, f'{index}.mp3')\n",
    "    if os.path.exists(f):\n",
    "        continue\n",
    "\n",
    "    a = change_samplerate(row['audio']['array'], row['audio']['sampling_rate'], 16000)\n",
    "    sf.write(f, a, 16000)\n",
    "\n",
    "    index += 1\n",
    "    if index >= 10000:\n",
    "        break"
   ]
  },
  {
   "cell_type": "code",
   "execution_count": 31,
   "id": "032fc5d1",
   "metadata": {},
   "outputs": [
    {
     "name": "stderr",
     "output_type": "stream",
     "text": [
      "0it [00:00, ?it/s]\n",
      "Reading metadata...: 0it [00:00, ?it/s]\u001b[A\n",
      "Reading metadata...: 6799it [00:00, 18335.71it/s]\n",
      "6799it [02:01, 55.88it/s] \n",
      "0it [00:00, ?it/s]\n",
      "Reading metadata...: 0it [00:00, ?it/s]\u001b[A\n",
      "Reading metadata...: 1it [00:00,  1.57it/s]\u001b[A\n",
      "Reading metadata...: 10680it [00:00, 19566.33it/s]\u001b[A\n",
      "Reading metadata...: 29383it [00:01, 25598.92it/s]\u001b[A\n",
      "4409it [00:41, 109.89it/s]"
     ]
    }
   ],
   "source": [
    "mandarin = ['zh-TW', 'zh-CN', 'zh-HK']\n",
    "for l in mandarin:\n",
    "    cv_13 = load_dataset(\"mozilla-foundation/common_voice_13_0\", l, split=\"train\", streaming = True)\n",
    "\n",
    "    index = 0\n",
    "    for row in tqdm(cv_13):\n",
    "        \n",
    "        if index >= 10000:\n",
    "            break\n",
    "            \n",
    "        f = os.path.join(l, f'{index}.mp3')\n",
    "        if os.path.exists(f):\n",
    "            index += 1\n",
    "            continue\n",
    "\n",
    "        a = change_samplerate(row['audio']['array'], row['audio']['sampling_rate'], 16000)\n",
    "        sf.write(f, a, 16000)\n",
    "\n",
    "        index += 1"
   ]
  },
  {
   "cell_type": "code",
   "execution_count": 51,
   "id": "a9c8bb5f",
   "metadata": {
    "scrolled": false
   },
   "outputs": [
    {
     "data": {
      "text/plain": [
       "['cy',\n",
       " 'pt',\n",
       " 'quy',\n",
       " 'cv',\n",
       " 'ca',\n",
       " 'tk',\n",
       " 'zh-CN',\n",
       " 'sat',\n",
       " 'rw',\n",
       " 'mrj',\n",
       " 'yue',\n",
       " 'de',\n",
       " 'en',\n",
       " 'mr',\n",
       " 'it',\n",
       " 'eo',\n",
       " 'tr',\n",
       " 'sk',\n",
       " 'ml',\n",
       " 'ba',\n",
       " 'hsb',\n",
       " 'ar',\n",
       " 'tw',\n",
       " 'bn',\n",
       " 'ug',\n",
       " 'sr',\n",
       " 'dv',\n",
       " 'gn',\n",
       " 'sw',\n",
       " 'ta',\n",
       " 'sv-SE',\n",
       " 'ab',\n",
       " 'vot',\n",
       " 'el',\n",
       " 'ha',\n",
       " 'gl',\n",
       " 'fa',\n",
       " 'mk',\n",
       " 'kk',\n",
       " 'mdf',\n",
       " 'nn-NO',\n",
       " 'yo',\n",
       " 'lg',\n",
       " 'eu',\n",
       " 'ky',\n",
       " 'kab',\n",
       " 'dyu',\n",
       " 'br',\n",
       " 'da',\n",
       " 'be',\n",
       " 'zh-TW',\n",
       " 'lt',\n",
       " 'hy-AM',\n",
       " 'hi',\n",
       " 'ro',\n",
       " 'skr',\n",
       " 'ja',\n",
       " 'nl',\n",
       " 'ga-IE',\n",
       " 'sc',\n",
       " 'ia',\n",
       " 'id',\n",
       " 'th',\n",
       " 'tig',\n",
       " 'az',\n",
       " 'uz',\n",
       " 'fy-NL',\n",
       " 'lv',\n",
       " 'ckb',\n",
       " 'uk',\n",
       " 'ka',\n",
       " 'is',\n",
       " 'tok',\n",
       " 'nan-tw',\n",
       " 'mhr',\n",
       " 'ur',\n",
       " 'as',\n",
       " 'hu',\n",
       " 'pl',\n",
       " 'myv',\n",
       " 'mn',\n",
       " 'vi',\n",
       " 'bas',\n",
       " 'lo',\n",
       " 'oc',\n",
       " 'es',\n",
       " 'ne-NP',\n",
       " 'et',\n",
       " 'ru',\n",
       " 'ast',\n",
       " 'pa-IN',\n",
       " 'sah',\n",
       " 'tt',\n",
       " 'kmr',\n",
       " 'ig',\n",
       " 'bg',\n",
       " 'zh-HK',\n",
       " 'ko',\n",
       " 'cnh',\n",
       " 'rm-sursilv',\n",
       " 'mt',\n",
       " 'fr',\n",
       " 'or',\n",
       " 'rm-vallader',\n",
       " 'ti',\n",
       " 'fi',\n",
       " 'cs',\n",
       " 'sl']"
      ]
     },
     "execution_count": 51,
     "metadata": {},
     "output_type": "execute_result"
    }
   ],
   "source": [
    "from glob import glob\n",
    "\n",
    "folders = glob('*')\n",
    "folders = [f for f in folders if 'lost+found' not in f and '.ipynb' not in f and '__' not in f and 'dedup-text-dataset' not in f and '.py' not in f]\n",
    "folders"
   ]
  },
  {
   "cell_type": "code",
   "execution_count": 58,
   "id": "5618b793",
   "metadata": {
    "scrolled": true
   },
   "outputs": [
    {
     "name": "stdout",
     "output_type": "stream",
     "text": [
      "english\n",
      "mandarin\n",
      "indonesian\n",
      "others\n"
     ]
    }
   ],
   "source": [
    "labels = {\n",
    "    'english': ['en'],\n",
    "    'mandarin': mandarin,\n",
    "    'indonesian': ['id']\n",
    "}\n",
    "\n",
    "exceptions = set()\n",
    "for v in labels.values():\n",
    "    exceptions |= set(v)\n",
    "    \n",
    "others = set(folders) - exceptions\n",
    "labels['others'] = list(others)\n",
    "\n",
    "for k, v in labels.items():\n",
    "    print(k)\n",
    "    os.makedirs(k, exist_ok = True)\n",
    "    for v_ in v:\n",
    "        os.system(f'mv {v_} {k}')"
   ]
  },
  {
   "cell_type": "code",
   "execution_count": 65,
   "id": "693f0e75",
   "metadata": {},
   "outputs": [],
   "source": [
    "# !sudo apt install p7zip-full p7zip-rar -y"
   ]
  },
  {
   "cell_type": "code",
   "execution_count": 66,
   "id": "2b2a9ad2",
   "metadata": {},
   "outputs": [
    {
     "name": "stdout",
     "output_type": "stream",
     "text": [
      "english 7z -v5g a english.7z english > /dev/null\n",
      "mandarin 7z -v5g a mandarin.7z mandarin > /dev/null\n",
      "indonesian 7z -v5g a indonesian.7z indonesian > /dev/null\n",
      "others 7z -v5g a others.7z others > /dev/null\n"
     ]
    }
   ],
   "source": [
    "for k in labels.keys():\n",
    "    cmd = f'7z -v5g a {k}.7z {k} > /dev/null'\n",
    "    print(k, cmd)\n",
    "    os.system(cmd)"
   ]
  },
  {
   "cell_type": "code",
   "execution_count": 68,
   "id": "6bf1c513",
   "metadata": {},
   "outputs": [],
   "source": [
    "from huggingface_hub import HfApi\n",
    "api = HfApi()"
   ]
  },
  {
   "cell_type": "code",
   "execution_count": 69,
   "id": "77f60f95",
   "metadata": {},
   "outputs": [
    {
     "name": "stdout",
     "output_type": "stream",
     "text": [
      "english.7z.001\n"
     ]
    },
    {
     "data": {
      "application/vnd.jupyter.widget-view+json": {
       "model_id": "b4e968ec6eaf4e47bafba162f74cebf7",
       "version_major": 2,
       "version_minor": 0
      },
      "text/plain": [
       "english.7z.001:   0%|          | 0.00/156M [00:00<?, ?B/s]"
      ]
     },
     "metadata": {},
     "output_type": "display_data"
    },
    {
     "name": "stdout",
     "output_type": "stream",
     "text": [
      "indonesian.7z.001\n"
     ]
    },
    {
     "data": {
      "application/vnd.jupyter.widget-view+json": {
       "model_id": "2983ebb7a9224a6cbc6f2504e8d38cd2",
       "version_major": 2,
       "version_minor": 0
      },
      "text/plain": [
       "indonesian.7z.001:   0%|          | 0.00/141M [00:00<?, ?B/s]"
      ]
     },
     "metadata": {},
     "output_type": "display_data"
    },
    {
     "name": "stdout",
     "output_type": "stream",
     "text": [
      "others.7z.002\n"
     ]
    },
    {
     "data": {
      "application/vnd.jupyter.widget-view+json": {
       "model_id": "db2fb60fe38d4342bd5e7be461d47957",
       "version_major": 2,
       "version_minor": 0
      },
      "text/plain": [
       "others.7z.002:   0%|          | 0.00/1.45G [00:00<?, ?B/s]"
      ]
     },
     "metadata": {},
     "output_type": "display_data"
    },
    {
     "name": "stdout",
     "output_type": "stream",
     "text": [
      "others.7z.001\n"
     ]
    },
    {
     "data": {
      "application/vnd.jupyter.widget-view+json": {
       "model_id": "ce52efc31d45495fb31b901e006a2092",
       "version_major": 2,
       "version_minor": 0
      },
      "text/plain": [
       "others.7z.001:   0%|          | 0.00/5.37G [00:00<?, ?B/s]"
      ]
     },
     "metadata": {},
     "output_type": "display_data"
    },
    {
     "name": "stdout",
     "output_type": "stream",
     "text": [
      "mandarin.7z.001\n"
     ]
    },
    {
     "data": {
      "application/vnd.jupyter.widget-view+json": {
       "model_id": "c404372cc27640149669e327bf752c9e",
       "version_major": 2,
       "version_minor": 0
      },
      "text/plain": [
       "mandarin.7z.001:   0%|          | 0.00/539M [00:00<?, ?B/s]"
      ]
     },
     "metadata": {},
     "output_type": "display_data"
    }
   ],
   "source": [
    "for f in glob('*.7z*'):\n",
    "    print(f)\n",
    "    api.upload_file(\n",
    "        path_or_fileobj=f,\n",
    "        path_in_repo=f,\n",
    "        repo_id='malaysia-ai/sample-common-voice',\n",
    "        repo_type='dataset',\n",
    "    )"
   ]
  },
  {
   "cell_type": "code",
   "execution_count": null,
   "id": "e7548688",
   "metadata": {},
   "outputs": [],
   "source": []
  }
 ],
 "metadata": {
  "kernelspec": {
   "display_name": "Python 3 (ipykernel)",
   "language": "python",
   "name": "python3"
  },
  "language_info": {
   "codemirror_mode": {
    "name": "ipython",
    "version": 3
   },
   "file_extension": ".py",
   "mimetype": "text/x-python",
   "name": "python",
   "nbconvert_exporter": "python",
   "pygments_lexer": "ipython3",
   "version": "3.10.12"
  }
 },
 "nbformat": 4,
 "nbformat_minor": 5
}
