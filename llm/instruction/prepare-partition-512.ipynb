{
 "cells": [
  {
   "cell_type": "code",
   "execution_count": 1,
   "metadata": {},
   "outputs": [],
   "source": [
    "# !wget https://huggingface.co/datasets/mesolitica/wikipedia/resolve/main/wikipedia-2023-06-10.jsonl\n",
    "# !wget https://huggingface.co/datasets/mesolitica/crawl-my-website/resolve/main/dewanbahasa.jendeladbp.my.jsonl\n",
    "# !wget https://huggingface.co/datasets/mesolitica/crawl-malaysian-hansard/resolve/main/hansard.jsonl\n",
    "# !wget https://huggingface.co/datasets/mesolitica/crawl-lom-agc-gov-my/resolve/main/dedup.jsonl -O agc.jsonl\n",
    "# !pip3.8 install git+https://github.com/huggingface/transformers.git\n",
    "# !pip3.8 install accelerate==0.21.0\n",
    "# !pip3.8 install tokenizers==0.13.3"
   ]
  },
  {
   "cell_type": "code",
   "execution_count": 2,
   "metadata": {},
   "outputs": [
    {
     "name": "stderr",
     "output_type": "stream",
     "text": [
      "2023-07-26 21:32:56.444334: I tensorflow/core/platform/cpu_feature_guard.cc:193] This TensorFlow binary is optimized with oneAPI Deep Neural Network Library (oneDNN) to use the following CPU instructions in performance-critical operations:  AVX2 AVX_VNNI FMA\n",
      "To enable them in other operations, rebuild TensorFlow with the appropriate compiler flags.\n",
      "2023-07-26 21:32:56.516115: I tensorflow/core/util/port.cc:104] oneDNN custom operations are on. You may see slightly different numerical results due to floating-point round-off errors from different computation orders. To turn them off, set the environment variable `TF_ENABLE_ONEDNN_OPTS=0`.\n",
      "2023-07-26 21:32:57.045528: W tensorflow/compiler/xla/stream_executor/platform/default/dso_loader.cc:64] Could not load dynamic library 'libnvinfer.so.7'; dlerror: libnvinfer.so.7: cannot open shared object file: No such file or directory\n",
      "2023-07-26 21:32:57.045560: W tensorflow/compiler/xla/stream_executor/platform/default/dso_loader.cc:64] Could not load dynamic library 'libnvinfer_plugin.so.7'; dlerror: libnvinfer_plugin.so.7: cannot open shared object file: No such file or directory\n",
      "2023-07-26 21:32:57.045563: W tensorflow/compiler/tf2tensorrt/utils/py_utils.cc:38] TF-TRT Warning: Cannot dlopen some TensorRT libraries. If you would like to use Nvidia GPU with TensorRT, please make sure the missing libraries mentioned above are installed properly.\n",
      "/home/husein/.local/lib/python3.8/site-packages/tensorflow_addons/utils/ensure_tf_install.py:53: UserWarning: Tensorflow Addons supports using Python ops for all Tensorflow versions above or equal to 2.4.0 and strictly below 2.7.0 (nightly versions are not supported). \n",
      " The versions of TensorFlow you are currently using is 2.11.0 and is not supported. \n",
      "Some things might work, some things might not.\n",
      "If you were to encounter a bug, do not file an issue.\n",
      "If you want to make sure you're using a tested and supported configuration, either change the TensorFlow version or the TensorFlow Addons's version. \n",
      "You can find the compatibility matrix in TensorFlow Addon's readme:\n",
      "https://github.com/tensorflow/addons\n",
      "  warnings.warn(\n",
      "/home/husein/.local/lib/python3.8/site-packages/tensorflow_addons/utils/resource_loader.py:78: UserWarning: You are currently using TensorFlow 2.11.0 and trying to load a custom op (custom_ops/seq2seq/_beam_search_ops.so).\n",
      "TensorFlow Addons has compiled its custom ops against TensorFlow 2.6.0, and there are no compatibility guarantees between the two versions. \n",
      "This means that you might get segfaults when loading the custom op, or other kind of low-level errors.\n",
      " If you do, do not file an issue on Github. This is a known limitation.\n",
      "\n",
      "It might help you to fallback to pure Python ops by setting environment variable `TF_ADDONS_PY_OPS=1` or using `tfa.options.disable_custom_kernel()` in your code. To do that, see https://github.com/tensorflow/addons#gpucpu-custom-ops \n",
      "\n",
      "You can also change the TensorFlow version installed on your system. You would need a TensorFlow version equal to or above 2.6.0 and strictly below 2.7.0.\n",
      " Note that nightly versions of TensorFlow, as well as non-pip TensorFlow like `conda install tensorflow` or compiled from source are not supported.\n",
      "\n",
      "The last solution is to find the TensorFlow Addons version that has custom ops compatible with the TensorFlow installed on your system. To do that, refer to the readme: https://github.com/tensorflow/addons\n",
      "  warnings.warn(\n",
      "Cannot import beam_search_ops from Tensorflow Addons, ['malaya.jawi_rumi.deep_model', 'malaya.phoneme.deep_model', 'malaya.rumi_jawi.deep_model', 'malaya.stem.deep_model'] will not available to use, make sure Tensorflow Addons version >= 0.12.0\n",
      "check compatible Tensorflow version with Tensorflow Addons at https://github.com/tensorflow/addons/releases\n"
     ]
    },
    {
     "name": "stdout",
     "output_type": "stream",
     "text": [
      "\n",
      "===================================BUG REPORT===================================\n",
      "Welcome to bitsandbytes. For bug reports, please submit your error trace to: https://github.com/TimDettmers/bitsandbytes/issues\n",
      "================================================================================\n",
      "CUDA_SETUP: WARNING! libcudart.so not found in any environmental path. Searching /usr/local/cuda/lib64...\n",
      "ERROR: /usr/bin/python3: undefined symbol: cudaRuntimeGetVersion\n",
      "CUDA SETUP: libcudart.so path is None\n",
      "CUDA SETUP: Is seems that your cuda installation is not in your path. See https://github.com/TimDettmers/bitsandbytes/issues/85 for more information.\n",
      "CUDA SETUP: CUDA version lower than 11 are currently not supported for LLM.int8(). You will be only to use 8-bit optimizers and quantization routines!!\n",
      "CUDA SETUP: Highest compute capability among GPUs detected: 8.6\n",
      "CUDA SETUP: Detected CUDA version 00\n",
      "CUDA SETUP: Loading binary /home/husein/.local/lib/python3.8/site-packages/bitsandbytes/libbitsandbytes_cpu.so...\n"
     ]
    },
    {
     "name": "stderr",
     "output_type": "stream",
     "text": [
      "/home/husein/.local/lib/python3.8/site-packages/bitsandbytes/cuda_setup/main.py:136: UserWarning: WARNING: The following directories listed in your path were found to be non-existent: {PosixPath('mr=\\\\E[7m'), PosixPath('is=\\\\E)0'), PosixPath('k8=\\\\E[19~'), PosixPath('RI=\\\\E[%dC'), PosixPath('k0=\\\\E[10~'), PosixPath('us=\\\\E[4m'), PosixPath('li#26'), PosixPath('st=\\\\EH'), PosixPath('km'), PosixPath('ae=\\\\E(B'), PosixPath('kB=\\\\E[Z'), PosixPath('cr=^M'), PosixPath('mb=\\\\E[5m'), PosixPath('F2=\\\\E[24~'), PosixPath('ho=\\\\E[H'), PosixPath('kP=\\\\E[5~'), PosixPath('kl=\\\\EOD'), PosixPath('it#8'), PosixPath('kd=\\\\EOB'), PosixPath('so=\\\\E[3m'), PosixPath('k3=\\\\EOR'), PosixPath('kI=\\\\E[2~'), PosixPath('am'), PosixPath('LE=\\\\E[%dD'), PosixPath('AB=\\\\E[4%dm'), PosixPath('k6=\\\\E[17~'), PosixPath('cs=\\\\E[%i%d;%dr'), PosixPath('im=\\\\E[4h'), PosixPath('kH=\\\\E[4~'), PosixPath('pt'), PosixPath('ta=^I'), PosixPath('ct=\\\\E[3g'), PosixPath('do=^J'), PosixPath('G0'), PosixPath('dc=\\\\E[P'), PosixPath('se=\\\\E[23m'), PosixPath('kD=\\\\E[3~'), PosixPath('Km=\\\\E[M'), PosixPath('rc=\\\\E8'), PosixPath('ms'), PosixPath('kh=\\\\E[1~'), PosixPath('nw=\\\\EE'), PosixPath('sc=\\\\E7'), PosixPath('dl=\\\\E[M'), PosixPath('AL=\\\\E[%dL'), PosixPath('DO=\\\\E[%dB'), PosixPath('te=\\\\E[?1049l'), PosixPath('k;=\\\\E[21~'), PosixPath('rs=\\\\Ec'), PosixPath('xn'), PosixPath('bt=\\\\E[Z'), PosixPath('mh=\\\\E[2m'), PosixPath('k2=\\\\EOQ'), PosixPath('bl=^G'), PosixPath('sr=\\\\EM'), PosixPath('DC=\\\\E[%dP'), PosixPath('ac=\\\\140\\\\140aaffggjjkkllmmnnooppqqrrssttuuvvwwxxyyzz{{||}}~~..--++,,hhII00'), PosixPath('k5=\\\\E[15~'), PosixPath('me=\\\\E[m'), PosixPath('pa#64'), PosixPath('k4=\\\\EOS'), PosixPath('co#130'), PosixPath('md=\\\\E[1m'), PosixPath('vb=\\\\Eg'), PosixPath('cm=\\\\E[%i%d;%dH'), PosixPath('AF=\\\\E[3%dm'), PosixPath('F1=\\\\E[23~'), PosixPath('k7=\\\\E[18~'), PosixPath('vs=\\\\E[34l'), PosixPath('bs'), PosixPath('kr=\\\\EOC'), PosixPath('Co#8'), PosixPath('UP=\\\\E[%dA'), PosixPath('k9=\\\\E[20~'), PosixPath('le=^H'), PosixPath('up=\\\\EM'), PosixPath('nd=\\\\E[C'), PosixPath('cl=\\\\E[H\\\\E[J'), PosixPath('ti=\\\\E[?1049h'), PosixPath('ks=\\\\E[?1h\\\\E='), PosixPath('SC|screen.xterm-256color|VT 100/ANSI X3.64 virtual terminal'), PosixPath('DL=\\\\E[%dM'), PosixPath('xv'), PosixPath('ce=\\\\E[K'), PosixPath('as=\\\\E(0'), PosixPath('vi=\\\\E[?25l'), PosixPath('ei=\\\\E[4l'), PosixPath('po=\\\\E[5i'), PosixPath('ue=\\\\E[24m'), PosixPath('ku=\\\\EOA'), PosixPath('ve=\\\\E[34h\\\\E[?25h'), PosixPath('LP'), PosixPath('AX'), PosixPath('k1=\\\\EOP'), PosixPath('cd=\\\\E[J'), PosixPath('@1=\\\\E[1~'), PosixPath('ke=\\\\E[?1l\\\\E>'), PosixPath('@7=\\\\E[4~'), PosixPath('op=\\\\E[39;49m'), PosixPath('kN=\\\\E[6~'), PosixPath('IC=\\\\E[%d@'), PosixPath('mi'), PosixPath('pf=\\\\E[4i'), PosixPath('al=\\\\E[L')}\n",
      "  warn(msg)\n",
      "/home/husein/.local/lib/python3.8/site-packages/bitsandbytes/cuda_setup/main.py:136: UserWarning: WARNING: The following directories listed in your path were found to be non-existent: {PosixPath('8089/proxy/{{port}}'), PosixPath('http'), PosixPath('//100.93.25.29')}\n",
      "  warn(msg)\n",
      "/home/husein/.local/lib/python3.8/site-packages/bitsandbytes/cuda_setup/main.py:136: UserWarning: WARNING: The following directories listed in your path were found to be non-existent: {PosixPath('//matplotlib_inline.backend_inline'), PosixPath('module')}\n",
      "  warn(msg)\n",
      "/home/husein/.local/lib/python3.8/site-packages/bitsandbytes/cuda_setup/main.py:136: UserWarning: WARNING: The following directories listed in your path were found to be non-existent: {PosixPath('/usr/local/cuda/lib64')}\n",
      "  warn(msg)\n",
      "/home/husein/.local/lib/python3.8/site-packages/bitsandbytes/cuda_setup/main.py:136: UserWarning: WARNING: No libcudart.so found! Install CUDA or the cudatoolkit package (anaconda)!\n",
      "  warn(msg)\n",
      "/home/husein/.local/lib/python3.8/site-packages/bitsandbytes/cextension.py:31: UserWarning: The installed version of bitsandbytes was compiled without GPU support. 8-bit optimizers and GPU quantization are unavailable.\n",
      "  warn(\"The installed version of bitsandbytes was compiled without GPU support. \"\n",
      "Warning : `load_model` does not return WordVectorModel or SupervisedModel any more, but a `FastText` object which is very similar.\n"
     ]
    }
   ],
   "source": [
    "import malaya\n",
    "\n",
    "language_detection = malaya.language_detection.fasttext(model = 'mesolitica/fasttext-language-detection-ms-id')"
   ]
  },
  {
   "cell_type": "code",
   "execution_count": 3,
   "metadata": {},
   "outputs": [],
   "source": [
    "from transformers import AutoTokenizer\n",
    "import json\n",
    "\n",
    "partition_size = 512\n",
    "tokenizer = AutoTokenizer.from_pretrained('meta-llama/Llama-2-7b-hf')"
   ]
  },
  {
   "cell_type": "code",
   "execution_count": 4,
   "metadata": {},
   "outputs": [],
   "source": [
    "import re\n",
    "\n",
    "rejected = [\n",
    "    'Internal Server Error',\n",
    "    '404',\n",
    "    '__NOEDITSECTION__',\n",
    "    'enter your username and password',\n",
    "    'Login',\n",
    "    'forgotten your password',\n",
    "    'cookies enabled'\n",
    "]\n",
    "\n",
    "def replace_multiple(input_string, pattern =r\"\\s{3,}\", replace = '   '):\n",
    "    return re.sub(pattern, replace, input_string)\n",
    "\n",
    "def replace(string):\n",
    "    string = replace_multiple(string.replace('…', '.'))\n",
    "    string = replace_multiple(string, pattern = r\"\\.{3,}\", replace = '...')\n",
    "    return string\n",
    "\n",
    "def partition(tokens, partition_size=partition_size, check_language = True):\n",
    "    tokens = [tokens[i: i + partition_size] for i in range(0, len(tokens), partition_size)]\n",
    "    selected = []\n",
    "    for t in tokens:\n",
    "        t = tokenizer.decode(t)\n",
    "        if any([r in t for r in rejected]):\n",
    "            continue\n",
    "        if check_language and language_detection.predict([t])[0] != 'standard-malay':\n",
    "            continue\n",
    "        selected.append(t)\n",
    "        \n",
    "    return selected"
   ]
  },
  {
   "cell_type": "code",
   "execution_count": 5,
   "metadata": {},
   "outputs": [],
   "source": [
    "fopen_l = open('partition-512.jsonl', 'w')"
   ]
  },
  {
   "cell_type": "code",
   "execution_count": 6,
   "metadata": {},
   "outputs": [],
   "source": [
    "from tqdm import tqdm"
   ]
  },
  {
   "cell_type": "code",
   "execution_count": 7,
   "metadata": {},
   "outputs": [
    {
     "name": "stderr",
     "output_type": "stream",
     "text": [
      "1739it [00:46, 37.19it/s] \n"
     ]
    }
   ],
   "source": [
    "with open('agc.jsonl') as fopen:\n",
    "    for l in tqdm(fopen):\n",
    "        data = json.loads(l)\n",
    "        data = replace(data)\n",
    "        if len(data.split()) > 50000:\n",
    "            continue\n",
    "        tokenized = tokenizer.encode(data)\n",
    "        partitioned = partition(tokenized)\n",
    "        for p in partitioned:\n",
    "            o = {\n",
    "                'prompt_input': None,\n",
    "                'input': p,\n",
    "                'output': None\n",
    "            }\n",
    "            fopen_l.write(f'{json.dumps(o)}\\n')"
   ]
  },
  {
   "cell_type": "code",
   "execution_count": 8,
   "metadata": {},
   "outputs": [
    {
     "name": "stderr",
     "output_type": "stream",
     "text": [
      "40612it [20:25, 33.15it/s]\n"
     ]
    }
   ],
   "source": [
    "with open('/home/husein/ssd3/eprints/filtered.jsonl') as fopen:\n",
    "    for l in tqdm(fopen):\n",
    "        data = json.loads(l)\n",
    "        data = replace(data)\n",
    "        if len(data.split()) > 15000:\n",
    "            continue\n",
    "        tokenized = tokenizer.encode(data)\n",
    "        partitioned = partition(tokenized)\n",
    "        for p in partitioned:\n",
    "            o = {\n",
    "                'prompt_input': None,\n",
    "                'input': p,\n",
    "                'output': None\n",
    "            }\n",
    "            fopen_l.write(f'{json.dumps(o)}\\n')"
   ]
  },
  {
   "cell_type": "code",
   "execution_count": 9,
   "metadata": {},
   "outputs": [
    {
     "name": "stderr",
     "output_type": "stream",
     "text": [
      "4580it [00:11, 388.52it/s]\n"
     ]
    }
   ],
   "source": [
    "with open('dewanbahasa.jendeladbp.my.jsonl') as fopen:\n",
    "    for l in tqdm(fopen):\n",
    "        data = json.loads(l)\n",
    "        if 'p' not in data:\n",
    "            continue\n",
    "        if data['p'] is None:\n",
    "            continue\n",
    "        data = '\\n'.join(data['p'][2:-1])\n",
    "        data = replace(data)\n",
    "        tokenized = tokenizer.encode(data)\n",
    "        partitioned = partition(tokenized)\n",
    "        for p in partitioned:\n",
    "            o = {\n",
    "                'prompt_input': None,\n",
    "                'input': p,\n",
    "                'output': None\n",
    "            }\n",
    "            fopen_l.write(f'{json.dumps(o)}\\n')"
   ]
  },
  {
   "cell_type": "code",
   "execution_count": 10,
   "metadata": {},
   "outputs": [
    {
     "name": "stderr",
     "output_type": "stream",
     "text": [
      "434321it [04:38, 1561.36it/s]\n"
     ]
    }
   ],
   "source": [
    "with open('wikipedia-2023-06-10.jsonl') as fopen:\n",
    "    for l in tqdm(fopen):\n",
    "        data = json.loads(l)['text']\n",
    "        data = replace(data)\n",
    "        tokenized = tokenizer.encode(data)\n",
    "        partitioned = partition(tokenized)\n",
    "        for p in partitioned:\n",
    "            o = {\n",
    "                'prompt_input': None,\n",
    "                'input': p,\n",
    "                'output': None\n",
    "            }\n",
    "            fopen_l.write(f'{json.dumps(o)}\\n')"
   ]
  },
  {
   "cell_type": "code",
   "execution_count": 11,
   "metadata": {},
   "outputs": [],
   "source": [
    "fopen_l.close()"
   ]
  },
  {
   "cell_type": "code",
   "execution_count": 12,
   "metadata": {},
   "outputs": [],
   "source": [
    "# with open('hansard.jsonl') as fopen:\n",
    "#     for l in tqdm(fopen):\n",
    "#         data = json.loads(l)['original']\n",
    "#         data = replace(data)\n",
    "#         tokenized = tokenizer.encode(data)\n",
    "#         partitioned = partition(tokenized)\n",
    "#         for p in partitioned:\n",
    "#             o = {\n",
    "#                 'prompt_input': None,\n",
    "#                 'input': p,\n",
    "#                 'output': None\n",
    "#             }\n",
    "#             fopen_l.write(f'{json.dumps(o)\\n}')"
   ]
  }
 ],
 "metadata": {
  "kernelspec": {
   "display_name": "Python 3 (ipykernel)",
   "language": "python",
   "name": "python3"
  },
  "language_info": {
   "codemirror_mode": {
    "name": "ipython",
    "version": 3
   },
   "file_extension": ".py",
   "mimetype": "text/x-python",
   "name": "python",
   "nbconvert_exporter": "python",
   "pygments_lexer": "ipython3",
   "version": "3.8.10"
  }
 },
 "nbformat": 4,
 "nbformat_minor": 4
}
