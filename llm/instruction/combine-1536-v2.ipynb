{
 "cells": [
  {
   "cell_type": "code",
   "execution_count": 1,
   "metadata": {},
   "outputs": [],
   "source": [
    "from glob import glob\n",
    "import json\n",
    "import random"
   ]
  },
  {
   "cell_type": "code",
   "execution_count": 2,
   "metadata": {},
   "outputs": [],
   "source": [
    "fopen_l = open('combine-1536-v2.jsonl', 'w')"
   ]
  },
  {
   "cell_type": "code",
   "execution_count": 3,
   "metadata": {},
   "outputs": [],
   "source": [
    "rejected = [\n",
    "    'help.openai.com',\n",
    "    'openassistant'\n",
    "]\n",
    "\n",
    "def accept(d):\n",
    "    if 'terjemahkan teks' in d.lower():\n",
    "        return False\n",
    "\n",
    "    if 'no need to translate' in d.lower():\n",
    "        return False\n",
    "\n",
    "    if 'can be translated' in d.lower():\n",
    "        return False\n",
    "\n",
    "    if 'cannot translate' in d.lower():\n",
    "        return False\n",
    "\n",
    "    if 'should be translated to' in d.lower():\n",
    "        return False\n",
    "\n",
    "    if 'cannot be translated' in d.lower():\n",
    "        return False\n",
    "\n",
    "    if 'standard malay' in d.lower():\n",
    "        return False\n",
    "\n",
    "    if 'would not be translated' in d.lower():\n",
    "        return False\n",
    "\n",
    "    if 'as an AI language model' in d:\n",
    "        return False\n",
    "\n",
    "    if 'should be translated as' in d.lower():\n",
    "        return False\n",
    "\n",
    "    if 'Bahasa Malaysia Standard' in d:\n",
    "        return False\n",
    "    \n",
    "    if 'Saya adalah model AI' in d:\n",
    "        return False\n",
    "    \n",
    "    if 'saya model AI' in d:\n",
    "        return False\n",
    "    \n",
    "    if 'Saya model AI' in d:\n",
    "        return False\n",
    "    \n",
    "    if 'sebagai model AI' in d:\n",
    "        return False\n",
    "    \n",
    "    if 'Sebagai model AI' in d:\n",
    "        return False\n",
    "    \n",
    "    if 'model bahasa AI' in d:\n",
    "        return False\n",
    "    \n",
    "    if 'model AI yang dibangunkan' in d:\n",
    "        return False\n",
    "    \n",
    "    if d == '<s>':\n",
    "        return False\n",
    "    \n",
    "    if 'tidak dapat memberikan maklumat' in d:\n",
    "        return False\n",
    "    \n",
    "    if 'Sebagai model bahasa' in d:\n",
    "        return False\n",
    "    \n",
    "    if any([r in d.lower() for r in rejected]):\n",
    "        return False\n",
    "    \n",
    "    if len(d.split()) < 10:\n",
    "        return False\n",
    "    \n",
    "    return True"
   ]
  },
  {
   "cell_type": "code",
   "execution_count": 4,
   "metadata": {},
   "outputs": [
    {
     "name": "stdout",
     "output_type": "stream",
     "text": [
      "prepared-parliament-qa.jsonl\n",
      "prepared-common-crawl-qa.jsonl\n",
      "prepared-summarization.jsonl\n"
     ]
    }
   ],
   "source": [
    "files = [\n",
    "    'prepared-parliament-qa.jsonl',\n",
    "    'prepared-common-crawl-qa.jsonl',\n",
    "    'prepared-summarization.jsonl',\n",
    "]\n",
    "\n",
    "for f in files:\n",
    "    print(f)\n",
    "    with open(f) as fopen:\n",
    "        for l in fopen:\n",
    "            try:\n",
    "                if random.random() < 0.8:\n",
    "                    continue\n",
    "\n",
    "                data = json.loads(l)\n",
    "                if not accept(data['input']):\n",
    "                    continue\n",
    "                if not accept(data['output']):\n",
    "                    continue\n",
    "                fopen_l.write(f'{json.dumps(data)}\\n')\n",
    "                fopen_l.flush()\n",
    "            except:\n",
    "                pass"
   ]
  },
  {
   "cell_type": "code",
   "execution_count": 5,
   "metadata": {},
   "outputs": [
    {
     "name": "stdout",
     "output_type": "stream",
     "text": [
      "88897 combine-1536-v2.jsonl\r\n"
     ]
    }
   ],
   "source": [
    "!wc -l combine-1536-v2.jsonl"
   ]
  },
  {
   "cell_type": "code",
   "execution_count": 6,
   "metadata": {},
   "outputs": [
    {
     "name": "stdout",
     "output_type": "stream",
     "text": [
      "47850 prepared-code-contexts.jsonl\r\n"
     ]
    }
   ],
   "source": [
    "!wc -l prepared-code-contexts.jsonl"
   ]
  },
  {
   "cell_type": "code",
   "execution_count": 7,
   "metadata": {},
   "outputs": [
    {
     "name": "stdout",
     "output_type": "stream",
     "text": [
      "prepared-gpt4all-code.jsonl\n",
      "prepared-code-instructions.jsonl\n"
     ]
    }
   ],
   "source": [
    "files = [\n",
    "    'prepared-gpt4all-code.jsonl',\n",
    "    'prepared-code-instructions.jsonl',\n",
    "]\n",
    "\n",
    "for f in files:\n",
    "    print(f)\n",
    "    with open(f) as fopen:\n",
    "        for l in fopen:\n",
    "            try:\n",
    "                if random.random() < 0.8:\n",
    "                    continue\n",
    "\n",
    "                data = json.loads(l)\n",
    "                if not accept(data['input']):\n",
    "                    continue\n",
    "                if not accept(data['output']):\n",
    "                    continue\n",
    "                fopen_l.write(f'{json.dumps(data)}\\n')\n",
    "                fopen_l.flush()\n",
    "            except:\n",
    "                pass"
   ]
  },
  {
   "cell_type": "code",
   "execution_count": 8,
   "metadata": {
    "scrolled": true
   },
   "outputs": [
    {
     "name": "stdout",
     "output_type": "stream",
     "text": [
      "prepared-NSText2SQL.jsonl\n",
      "prepared-code-contexts.jsonl\n"
     ]
    }
   ],
   "source": [
    "files = [\n",
    "    'prepared-NSText2SQL.jsonl',\n",
    "    'prepared-code-contexts.jsonl',\n",
    "]\n",
    "\n",
    "for f in files:\n",
    "    print(f)\n",
    "    with open(f) as fopen:\n",
    "        for l in fopen:\n",
    "            try:\n",
    "                if random.random() < 0.8:\n",
    "                    continue\n",
    "\n",
    "                data = json.loads(l)\n",
    "                if not accept(data['input']):\n",
    "                    continue\n",
    "                if not accept(data['output']):\n",
    "                    continue\n",
    "                fopen_l.write(f'{json.dumps(data)}\\n')\n",
    "                fopen_l.flush()\n",
    "            except:\n",
    "                pass"
   ]
  },
  {
   "cell_type": "code",
   "execution_count": 9,
   "metadata": {},
   "outputs": [
    {
     "name": "stdout",
     "output_type": "stream",
     "text": [
      "129944 combine-1536-v2.jsonl\r\n"
     ]
    }
   ],
   "source": [
    "!wc -l combine-1536-v2.jsonl"
   ]
  },
  {
   "cell_type": "code",
   "execution_count": 10,
   "metadata": {},
   "outputs": [
    {
     "name": "stdout",
     "output_type": "stream",
     "text": [
      "prepared-reverse-translation.jsonl\n",
      "prepared-sentiment.jsonl\n",
      "prepared-translation.jsonl\n",
      "prepared-translation-manglish.jsonl\n",
      "prepared-translation-hansard.jsonl\n"
     ]
    }
   ],
   "source": [
    "files = [\n",
    "    'prepared-reverse-translation.jsonl',\n",
    "    'prepared-sentiment.jsonl',\n",
    "    'prepared-translation.jsonl', \n",
    "    'prepared-translation-manglish.jsonl', \n",
    "    'prepared-translation-hansard.jsonl'\n",
    "]\n",
    "\n",
    "for f in files:\n",
    "    print(f)\n",
    "    with open(f) as fopen:\n",
    "        for l in fopen:\n",
    "            try:\n",
    "                if random.random() < 0.9:\n",
    "                    continue\n",
    "\n",
    "                data = json.loads(l)\n",
    "                if not accept(data['input']):\n",
    "                    continue\n",
    "                if not accept(data['output']):\n",
    "                    continue\n",
    "                fopen_l.write(f'{json.dumps(data)}\\n')\n",
    "                fopen_l.flush()\n",
    "            except:\n",
    "                pass"
   ]
  },
  {
   "cell_type": "code",
   "execution_count": 11,
   "metadata": {},
   "outputs": [
    {
     "name": "stdout",
     "output_type": "stream",
     "text": [
      "302740 combine-1536-v2.jsonl\r\n"
     ]
    }
   ],
   "source": [
    "!wc -l combine-1536-v2.jsonl"
   ]
  },
  {
   "cell_type": "code",
   "execution_count": 12,
   "metadata": {},
   "outputs": [
    {
     "name": "stdout",
     "output_type": "stream",
     "text": [
      "prepared-oasst1.jsonl\n",
      "prepared-vicuna.jsonl\n",
      "prepared-chatalpaca.jsonl\n",
      "prepared-ultrachat-part9.jsonl\n"
     ]
    }
   ],
   "source": [
    "files = [\n",
    "    'prepared-oasst1.jsonl',\n",
    "    'prepared-vicuna.jsonl',\n",
    "    'prepared-chatalpaca.jsonl',\n",
    "    'prepared-ultrachat-part9.jsonl',\n",
    "]\n",
    "for f in files:\n",
    "    print(f)\n",
    "    with open(f) as fopen:\n",
    "        for l in fopen:\n",
    "            if 'Saya mahir dalam bahasa Ibrani' in l:\n",
    "                continue\n",
    "            try:\n",
    "                data = json.loads(l)\n",
    "                if not accept(data['input']):\n",
    "                    continue\n",
    "                fopen_l.write(f'{json.dumps(data)}\\n')\n",
    "                fopen_l.flush()\n",
    "            except:\n",
    "                pass"
   ]
  },
  {
   "cell_type": "code",
   "execution_count": 13,
   "metadata": {},
   "outputs": [
    {
     "name": "stdout",
     "output_type": "stream",
     "text": [
      "{\"prompt_input\": null, \"input\": \"<manusia>: Cari hasil darab nombor: 5 dan 8\\n<bot>: Hasil darab 5 dan 8 ialah 40.\\n<manusia>: Apakah hasil tambah nombor 6 dan 12?\\n<bot>: Jumlah nombor 6 dan 12 ialah 18.\\n<manusia>: Bolehkah anda beritahu saya hasil bagi 20 dan 5?\\n<bot>: Ya, hasil bagi 20 dan 5 ialah 4.\\n<manusia>: Apakah perbezaan antara 25 dan 13?\\n<bot>: Perbezaan antara 25 dan 13 ialah 12.\\n<manusia>: Apakah kuasa dua bagi 9?\\n<bot>: Kuasa dua bagi 9 ialah 81.\\n<manusia>: Apakah kubus 6?\\n<bot>: Kubus 6 ialah 216.\", \"output\": null}\r\n",
      "{\"prompt_input\": null, \"input\": \"<manusia>: Sediakan lima petua untuk menggunakan pita pengukur dengan berkesan\\n<bot>: 1. Ketatkan pita pengukur supaya ia kekal pada tempatnya semasa mengukur.\\n2. Pastikan cangkuk pita pengukur menyentuh titik permulaan dengan tepat.\\n3. Biarkan sedikit kendur apabila mengukur sekeliling lengkung atau bucu.\\n4. Ukur dari permukaan yang stabil, seperti meja atau meja kerja.\\n5. Tandakan permulaan dan penghujung setiap ukuran dengan pen atau penanda.\\n<manusia>: Bolehkah anda memberi saya contoh masa untuk menggunakan petua nombor tiga, \\\"Benarkan sedikit kendur apabila mengukur di sekeliling lengkung atau sudut\\\"?\\n<bot>: Pasti! Katakan anda sedang mengukur lilitan objek bulat, seperti paip. Jika anda menarik pita pengukur terlalu ketat, anda tidak akan mendapat ukuran yang tepat kerana pita pengukur akan diregangkan daripada bentuk asalnya, menjadikan ukuran lebih panjang daripada yang sepatutnya. Sebaliknya, anda harus membalut pita pengukur di sekeliling lengkung atau sudut objek tanpa menariknya terlalu ketat. Dengan cara ini, anda akan mendapat ukuran yang lebih tepat yang mengambil kira bentuk objek.\\n<manusia>: Bolehkah anda memberitahu saya lebih lanjut tentang penanda atau pen yang harus digunakan untuk menandakan ukuran? Adakah anda mengesyorkan jenis pen tertentu?\\n<bot>: Sebagai model bahasa AI, saya tidak mempunyai keutamaan peribadi sebagai manusia, tetapi terdapat jenis penanda atau pen tertentu yang lebih sesuai untuk menandakan ukuran berbanding yang lain. Contohnya, penanda berhujung halus atau pensel mekanikal bagus untuk membuat tanda tepat pada pita pengukur, kerana ia menghasilkan garisan tepat yang mudah dilihat. Anda perlu mengelak daripada menggunakan pen mata bola atau penanda dengan hujung tebal, kerana pen jenis ini boleh menghasilkan tanda yang terlalu tebal atau kabur, menjadikannya sukar untuk membaca ukuran dengan tepat. Ia juga merupakan idea yang baik untuk memilih penanda atau pen yang berwarna berbeza daripada warna pita pengukur, supaya anda boleh membezakan markah anda dengan mudah daripada tanda bercetak pada pita pengukur.\\n<manusia>: Adakah terdapat petua lain yang anda cadangkan untuk mengekalkan pita ukur dalam keadaan baik?\\n<bot>: Ya, terdapat beberapa petua yang boleh anda gunakan untuk mengekalkan ukuran pita anda dalam keadaan baik:\\n\\n1. Bersihkan pita ukur anda dengan kerap: Gunakan kain lembut atau span lembap untuk membersihkan permukaan pita ukur. Elakkan daripada menggunakan bahan kimia yang keras atau bahan pelelas yang boleh merosakkan tanda pada pita pengukur.\\n\\n2. Simpan pita pengukur anda dengan betul: Simpan pita pengukur anda di tempat yang kering, jauh daripada kelembapan dan cahaya matahari langsung. Elakkan menyimpan pita pengukur anda di tempat yang boleh hancur atau bengkok, kerana ini boleh merosakkan komponen dalaman.\\n\\n3. Angin pita pengukur dengan betul: Apabila anda selesai menggunakan pita pengukur anda, gulungkan pita itu kembali ke dalam perumah dengan berhati-hati untuk mengelakkan pita terpulas atau bengkok. Pastikan cangkuk ditarik sepenuhnya dan selamatkan kunci.\\n\\n4. Lubricate mekanisme: Gunakan pelincir ringan seperti semburan silikon untuk memastikan komponen dalaman pita pengukur bergerak dengan lancar. Berhati-hati agar tidak terlalu melincirkan, kerana ini boleh menyebabkan pita pengukur menjadi berminyak dan sukar dikendalikan.\\n\\nDengan mengikuti petua ini, anda boleh membantu memastikan bahawa ukuran pita anda sentiasa dalam keadaan berfungsi dengan baik dan anda boleh bergantung padanya untuk pengukuran yang tepat setiap kali anda menggunakannya.\", \"output\": null}\r\n",
      "{\"prompt_input\": null, \"input\": \"<manusia>: Namakan tiga cara untuk menjimatkan tenaga.\\n<bot>: Tiga cara untuk menjimatkan tenaga ialah: mematikan semua lampu dan elektronik lain apabila tidak digunakan, mandi lebih pendek dan menggunakan mentol lampu jimat tenaga.\\n<manusia>: Berapakah jumlah tenaga yang boleh dijimatkan dengan menggunakan mentol lampu jimat tenaga berbanding mentol tradisional?\\n<bot>: Menggunakan mentol lampu cekap tenaga (LED) boleh menjimatkan sehingga 75% tenaga berbanding mentol pijar tradisional. Contohnya, manakala mentol pijar 60 watt mungkin menghasilkan jumlah cahaya yang sama seperti mentol LED 10 watt. Ini bermakna dengan menggantikan mentol pijar dengan LED cekap tenaga, sejumlah besar tenaga boleh dijimatkan, mengurangkan kedua-dua pelepasan gas rumah hijau dan bil elektrik.\\n<manusia>: Apakah beberapa faedah lain menggunakan mentol lampu yang cekap tenaga selain menjimatkan tenaga?\\n<bot>: Terdapat beberapa faedah lain menggunakan mentol lampu yang cekap tenaga selain menjimatkan tenaga. Berikut adalah sebahagian daripada mereka:\\n\\n1. Jangka hayat yang lebih lama: Mentol cekap tenaga seperti LED mempunyai jangka hayat yang lebih lama daripada mentol tradisional, yang bermaksud ia perlu diganti dengan lebih jarang.\\n\\n2. Keluaran haba yang lebih rendah: Mentol cekap tenaga menghasilkan haba yang kurang daripada mentol tradisional, menjadikannya lebih selamat untuk digunakan dan mengurangkan beban pada sistem penyaman udara.\\n\\n3. Kualiti cahaya yang lebih baik: LED dan jenis mentol jimat tenaga yang lain menghasilkan kualiti cahaya yang lebih baik daripada mentol tradisional, dengan pemaparan warna yang lebih baik dan kurang kelipan.\\n\\n4. Ketahanan: Mentol cekap tenaga adalah lebih tahan lama daripada mentol tradisional dan boleh menahan lebih banyak haus dan lusuh, menjadikannya sesuai untuk digunakan di kawasan lalu lintas tinggi atau pencahayaan luar.\\n\\n5. Penjimatan kos: Walaupun mentol cekap tenaga pada mulanya lebih mahal daripada mentol tradisional, jangka hayatnya yang lebih lama dan penggunaan tenaga yang lebih rendah bermakna ia sebenarnya boleh menjimatkan wang dari semasa ke semasa.\\n<manusia>: Apakah beberapa cara lain selain mentol untuk mengurangkan bil elektrik dan menjimatkan tenaga?\\n<bot>: Berikut adalah beberapa cara lain selain mentol untuk mengurangkan bil elektrik dan menjimatkan tenaga:\\n\\n1. Matikan peranti elektronik apabila tidak digunakan: Walaupun semasa melahu, peranti elektronik menggunakan tenaga. Mematikan peranti seperti komputer, televisyen dan konsol permainan apabila tidak digunakan boleh menjimatkan sejumlah besar tenaga.\\n\\n2. Cabut plag pengecas apabila tidak digunakan: Pengecas untuk telefon mudah alih, komputer riba dan peranti elektronik lain menggunakan tenaga walaupun semasa mereka tidak mengecas apa-apa. Mencabut plag apabila tidak digunakan boleh menjimatkan tenaga.\\n\\n3. Gunakan termostat boleh atur cara: Termostat boleh atur cara boleh diprogramkan untuk melaraskan suhu rumah secara automatik pada masa yang berbeza dalam sehari, menjimatkan tenaga dan wang untuk bil pemanasan dan penyejukan.\\n\\n4. Gunakan peralatan cekap tenaga: Apabila menggantikan peralatan seperti peti sejuk, mesin basuh dan pengering, pilih model cekap tenaga dengan label ENERGY STAR.\\n\\n5. Mengedap kebocoran udara: Mengedap kebocoran udara di tingkap dan pintu boleh menghalang udara sejuk daripada memasuki rumah semasa musim sejuk dan udara panas pada musim panas, menjadikan rumah lebih cekap tenaga.\\n\\n6. Gunakan tali jemuran: Daripada menggunakan pengering, pertimbangkan untuk menyidai pakaian di luar untuk kering, terutamanya dalam cuaca cerah.\\n\\n7. Gunakan lekapan lampu dan rona jimat tenaga: Menggunakan lekapan lampu dan rona jimat tenaga dan bukannya yang tradisional boleh membantu mengurangkan penggunaan tenaga dan, akibatnya, mengurangkan bil elektrik.\", \"output\": null}\r\n"
     ]
    }
   ],
   "source": [
    "!head -n 3 prepared-chatalpaca.jsonl"
   ]
  },
  {
   "cell_type": "code",
   "execution_count": 14,
   "metadata": {
    "scrolled": true
   },
   "outputs": [
    {
     "name": "stdout",
     "output_type": "stream",
     "text": [
      "501077 combine-1536-v2.jsonl\r\n"
     ]
    }
   ],
   "source": [
    "!wc -l combine-1536-v2.jsonl"
   ]
  },
  {
   "cell_type": "code",
   "execution_count": 16,
   "metadata": {},
   "outputs": [],
   "source": [
    "# files = [\n",
    "#     'prepared-oig-unified_chip2.jsonl',\n",
    "#     'prepared-oig-unified_abstract_infill.jsonl',\n",
    "# ]\n",
    "# for f in files:\n",
    "#     print(f)\n",
    "#     with open(f) as fopen:\n",
    "#         for l in fopen:\n",
    "#             try:\n",
    "#                 if random.random() < 0.8:\n",
    "#                     continue\n",
    "\n",
    "#                 data = json.loads(l)\n",
    "#                 if not accept(data['input']):\n",
    "#                     continue\n",
    "#                 fopen_l.write(f'{json.dumps(data)}\\n')\n",
    "#                 fopen_l.flush()\n",
    "#             except:\n",
    "#                 pass"
   ]
  },
  {
   "cell_type": "code",
   "execution_count": 17,
   "metadata": {},
   "outputs": [
    {
     "name": "stdout",
     "output_type": "stream",
     "text": [
      "501077 combine-1536-v2.jsonl\r\n"
     ]
    }
   ],
   "source": [
    "!wc -l combine-1536-v2.jsonl"
   ]
  },
  {
   "cell_type": "code",
   "execution_count": 18,
   "metadata": {},
   "outputs": [
    {
     "name": "stdout",
     "output_type": "stream",
     "text": [
      "{\"prompt_input\": \"Di bawah ialah arahan yang menerangkan tugasan. Tulis jawapan yang sesuai dengan arahan tersebut.\\n\\n### Arahan:\\n{instruction}\\n\\n### Jawapan:\\n\", \"input\": \"paragraph `terhad, maka saya ingin memberikan jawapan bertulis tentang peruntukan mengenai seksyen 375, apakah sebenarnya requirement seksyen 375 itu. Jadi, saya rasa marital rape ini, pihak kerajaan tidak akan menjadikan satu kesalahan kerana ia amat sukar untuk dibuktikan di mahkamah. Sebagai pengamal undang- undang yang agak lama menjadi peguam, saya mengatakan bahawa agak sukar untuk membuktikan marital rape ini. Sekiranya badan mahkamah berkemungkinan untuk dilepaskan lebih mudah daripada untuk disabitkan. Oleh sebab itulah, kerajaan mengambil kira semua faktor ini. Sebagai kerajaan saya rasa belum masanya mungkin untuk menjadikan ia sebagai satu kesalahan. Akan tetapi bagaimanapun kalau ada kes-kes yang melibatkan mungkin kekerasan dalam rumah tangga, seksyen 375A akan digunakan untuk memastikan hak-hak wanita dijamin oleh pihak kerajaan. Sekian, terima kasih. Puan Maria Chin binti Abdullah [Petaling Jaya]: Ada soalan tambahan. Saya rasa, tujuan saya untuk menimbulkan isu marital rape itu ialah kerana kebanyakan kes keganasan dalam rumah tangga yang mana marital rape ada berlaku. Kita juga ada kes-kes daripada persatuan wanita. Apa yang saya pandang ialah undang-undang sedia ada tidak berlaku adil kepada isteri-isteri yang menjadi mangsa rogol oleh suami sendiri. Seksyen 375A yang disebutkan oleh Yang Berhormat Timbalan Menteri iaitu hukuman bagi menyakiti isteri hanya memperuntukkan hukuman penjara maksimum selama lima tahun sahaja. Ini berbanding dengan hukuman rogol di bawah seksyen 375, yang mana maksimum ialah 20 tahun penjara. Akta Keganasan Rumah Tangga turut tidak mencukupi kerana hanya memberikan kuasa kepada mahkamah untuk mengeluarkan perintah perlindungan (protection order) dan tidak bersifat menghukum pesalah. Ini bermaksud suami yang melakukan kesalahan rogol tidak menerima hukuman setimpal dengan kesalahan yang dilakukan. Soalan tambahan saya ialah adakah kerajaan mempunyai rancangan untuk memperkenalkan undang-undang yang lebih tegas untuk menghukum sesiapa yang melakukan kesalahan marital rape atau spousal rape?. Tuan Mohamed Hanipa bin Maidin: Terima kasih kepada soalan tambahan daripada Yang Berhormat Petaling Jaya. Saya ingin betulkan sedikit apa yang diperkatakan oleh Yang Berhormat Petaling Jaya tadi. Sebenarnya kesalahan bagi rogol bukan saya kata seksyen 375, saya kata seksyen 376, hukuman dia adalah di bawah seksyen 376. Seksyen 375 adalah lebih kepada definisi. Jadi, saya mahu betulkan sedikit seksyen 376 ya yang melibatkan hukuman lima tahun tadi. Okey, untuk makluman Yang Berhormat Petaling Jaya, kes rogol ini dia agak berbeza dengan kes-kes lain kerana di sini untuk kes rogol ini beban pembuktiannya agak tinggi itu satu. Kedua, dia ada unsur-unsur yang lain daripada kes-kes lain yang biasa. Sebagai contoh, dalam kes rogol ia memerlukan apa yang kita panggil corroboration iaitu keterangan-keterangan yang berbentuk corroboration. Maknanya bukan setakat kita berikan keterangan tetapi ada keterangan sokongan. Keterangan sokongan ini selalunya menyebabkan kadangkala seseorang itu sukar untuk mendapatkan sabitan. Maknanya, tertuduh yang dituduh mungkin tidak dapat disabitkan bersalah. Jadi, sebab itulah saya rasa kerajaan mengambil kira segala faktor ini. Untuk makluman Yang Berhormat Petaling Jaya, bila melibatkan rumah tangga ini, yang saya katakan tadi, inherently dekat situ ada unsur- unsur keraguan. Dalam prinsip kes jenayah ini, keraguan ini akan sentiasa ditafsir memihak kepada tertuduh. Any benefit of the doubt dengan izin, must be given to the accused. Oleh sebab itu saya ingin mengatakan bahawa memang mungkin kita boleh meletakkan satu kesalahan marital rape atas alasan kita hendak pastikan wanita dilindungi. Akan tetapi, apa guna kita ada satu seksyen yang diletakkan dalam kesalahan tetapi bila kita bawa kes ke mahkamah, berkemungkinan untuk mendapat sabitan itu terlalu kecil. Ini bukan bermakna kita condone dengan izin, perbuatan tersebut. Oleh sebab itulah kita merasakan seksyen 375A itu buat sementara ini adalah satu seksyen yang boleh digunakan untuk kita menghukum mereka-mereka yang mungkin melakukan kekerasan ke atas wanita. Untuk makluman Yang Berhormat Petaling Jaya, saya telah berhubung dengan pihak Peguam Negara, setakat ini dalam negara kita walaupun tadi kata ada banyak laporan- laporan, setakat ini di dalam kes di negara kita hanya satu kes sahaja yang pernah didakwa di mahkamah yang melibatkan bukan orang Malaysia, ia melibatkan orang lain, negara dari luar negara. Apabila dibawa ke mahkamah, yang melibatkan seorang wanita yang diletakkan di bawah dua pertuduhan seksyen 375A tetapi apabila di mahkamah akhirnya wanita itu telah menarik balik report dia dan kes itu telah pun tidak diteruskan. Lelaki yang didakwa itu.`, berdasarkan paragraph, jawab soalan `adakah kerajaan mempunyai rancangan untuk memperkenalkan undang-undang yang lebih tegas untuk menghukum sesiapa yang melakukan kesalahan marital rape atau spousal rape?`\", \"output\": \"Kerajaan belum mempunyai rancangan untuk memperkenalkan undang-undang yang lebih tegas untuk menghukum sesiapa yang melakukan kesalahan marital rape atau spousal rape.\"}\r\n"
     ]
    }
   ],
   "source": [
    "!head -n 1 combine-1536-v2.jsonl"
   ]
  },
  {
   "cell_type": "code",
   "execution_count": 19,
   "metadata": {},
   "outputs": [
    {
     "name": "stdout",
     "output_type": "stream",
     "text": [
      "{\"prompt_input\": null, \"input\": \"<manusia>: Apakah tujuan acara tontonan umum untuk kereta rel Honolulu?: HONOLULU (HawaiiNewsNow) - Masyarakat dijemput untuk menaiki kapal dan merasai pengalaman kereta transit yang akan digunakan dalam sistem rel Honolulu.\\nKereta-kereta itu akan dipamerkan kepada umum dari jam 10 pagi hingga 3 petang. Sabtu ini, 18 Feb di pusat operasi Pihak Berkuasa Honolulu untuk Pengangkutan Rapid berhampiran Kolej Komuniti Leeward.\\n\\\"Kami berbangga untuk mempersembahkan sekali lagi peluang indah ini kepada ahli komuniti untuk melihat dan mengetahui tentang kereta api Honolulu,\\\" kata Pengerusi Bersama Move Oahu Forward Howard Garval dan Connie Lau.\\nMove Oahu Forward ialah organisasi bukan partisan pemimpin perniagaan dan komuniti tempatan yang bekerjasama dengan HART untuk mengadakan acara tontonan umum.\\n\\\"Kami menggalakkan semua orang memanfaatkan peluang untuk melihat sendiri kenderaan rel terkini ini,\\\" kata Garval dan Lau.\\nKereta itu dipratonton secara peribadi pada bulan September. Pegawai HART berkata maklum balas daripada tontonan itu adalah positif.\\nKereta api Honolulu akan menjadi sistem tanpa pemandu pertama di negara ini, kata HART.\\nTempat letak kenderaan percuma untuk acara menonton boleh didapati di LCC.\\n<bot>: Tujuan acara tontonan awam untuk kereta rel Honolulu adalah untuk memberi peluang kepada komuniti melihat dan mengalami kereta transit yang akan digunakan dalam sistem rel Honolulu. Acara ini dianjurkan oleh organisasi Move Oahu Forward, yang bekerjasama dengan HART untuk menyediakan tontonan. Acara itu bertujuan untuk mendidik orang ramai tentang kenderaan rel yang canggih dan menggalakkan sokongan mereka untuk projek rel yang akan datang. Acara tontonan umum juga memberi peluang kepada orang ramai untuk memberi maklum balas mengenai kenderaan rel, yang akan membantu HART dalam membuat sebarang pelarasan yang diperlukan.\\n<manusia>: Bolehkah anda memberi saya alamat Pusat Operasi Pengangkutan Rapid Honolulu Authority berdekatan Kolej Komuniti Leeward?\\n<bot>: Alamat pusat operasi Honolulu Authority for Rapid Transportation berhampiran Kolej Komuniti Leeward ialah 91-455 West West, Kapolei, HI 96707, USA.\\n<manusia>: Adakah terdapat sebarang sekatan untuk umur orang yang boleh menghadiri acara tontonan umum untuk kereta rel Honolulu?\\n<bot>: Artikel itu tidak menyebut sebarang sekatan umur untuk acara tontonan umum kereta rel Honolulu. Walau bagaimanapun, saya akan mencadangkan untuk menyemak semula dengan penganjur, Move Oahu Forward, untuk mengesahkan sama ada terdapat sebarang sekatan umur atau pengehadan.\", \"output\": null}\r\n",
      "{\"prompt_input\": null, \"input\": \"<manusia>: Kilang dan ibu pejabat Syarikat Foulds Macaroni yang berpindah ke Libertyville dari Cincinnati pada tahun 1906. Struktur itu, asalnya sebuah kilang tangga, dibina pada tahun 1894 dengan kayu dari Pameran Columbian Dunia 1893 di Chicago. Pada tahun-tahun awal Foulds adalah majikan utama di Libertyville, terkenal dengan perkelahan syarikat musim panas dan pesta Krismas musim sejuk yang mana seluruh bandar dijemput.\\nPerihalan Kilang dan ibu pejabat Syarikat Foulds Macaroni yang berpindah ke Libertyville dari Cincinnati pada tahun 1906. Struktur itu, asalnya sebuah kilang tangga, dibina pada tahun 1894 dengan kayu dari Pameran Columbian Dunia 1893 di Chicago. Pada tahun-tahun awal Foulds adalah majikan utama di Libertyville, terkenal dengan perkelahan syarikat musim panas dan pesta Krismas musim sejuk yang mana seluruh bandar dijemput.\\nBagaimanakah kayu daripada Pameran Columbian Dunia 1893 di Chicago digunakan dalam pembinaan kilang dan ibu pejabat Syarikat Foulds Macaroni pada tahun 1894?\\n<bot>: Kayu-kayu dari Pameran Columbian Dunia 1893 di Chicago telah digunakan dalam pembinaan kilang dan ibu pejabat Syarikat Foulds Macaroni pada tahun 1894.\\n<manusia>: Bolehkah anda memberitahu saya lebih lanjut tentang perkelahan syarikat dan parti Krismas yang pernah dianjurkan oleh Syarikat Foulds Macaroni?\\n<bot>: Syarikat Foulds Macaroni terkenal di Libertyville kerana menganjurkan perkelahan syarikat dan parti Krismas. Perkelahan syarikat musim panas adalah masa untuk pekerja berehat dan menikmati aktiviti luar seperti permainan, sukan dan memasak di luar. Pesta Krismas musim sejuk adalah acara perayaan di mana seluruh bandar dijemput untuk mengambil bahagian dalam persembahan muzik, tarian, dan lawatan dari Santa Claus. Acara-acara ini merupakan peluang bagi syarikat dan masyarakat untuk bersama-sama meraikan musim cuti. Komitmen Syarikat Foulds Macaroni terhadap pekerjanya dan komuniti setempat membantu mewujudkan reputasi positif bagi syarikat di kawasan itu.\\n<manusia>: Bolehkah anda memberi saya ringkasan tentang sejarah Syarikat Foulds Macaroni?\\n<bot>: Syarikat Foulds Macaroni ialah syarikat pengeluaran makaroni yang diasaskan di Cincinnati pada tahun 1871. Pada tahun 1906, syarikat itu memindahkan operasinya ke Libertyville, Illinois, di mana ia menjadi majikan utama dan makanan ruji masyarakat. Syarikat itu menggunakan struktur kilang tangga lama, yang dibina pada tahun 1894 dengan kayu dari Pameran Columbian Dunia 1893, sebagai kilang dan ibu pejabatnya. Syarikat Foulds Macaroni terkenal dengan produk makaroni berkualiti tinggi dan menganjurkan perkelahan syarikat dan parti Krismas untuk pekerjanya dan komuniti setempat. Syarikat itu beroperasi selama lebih 90 tahun sebelum menutup pintunya pada 1960-an berikutan peningkatan persaingan dan perubahan dalam industri makanan. Walaupun ditutup, Syarikat Foulds Macaroni kekal sebagai sebahagian daripada sejarah Libertyville yang tidak dapat dilupakan dan masih diraikan oleh penduduk tempatan hari ini.\\n<manusia>: Bolehkah anda memberikan lebih banyak maklumat tentang kesan Syarikat Foulds Macaroni terhadap komuniti tempatan sepanjang tahun beroperasi?\\n<bot>: Syarikat Foulds Macaroni memberi impak yang besar kepada komuniti tempatan sepanjang tahun beroperasi. Sebagai majikan utama di Libertyville, syarikat itu menyediakan banyak pekerjaan bergaji tinggi untuk penduduk tempatan. Selain itu, komitmen syarikat terhadap pekerjanya dan komuniti terbukti melalui penganjuran syarikat berkelah dan parti Krismas yang seluruh bandar dijemput. Syarikat Foulds Macaroni juga menyumbang kepada pertumbuhan Libertyville melalui pembelian barangan dan perkhidmatan tempatan, seperti gandum daripada petani tempatan. Kehadiran syarikat itu membantu menubuhkan Libertyville sebagai hab pengeluaran makaroni, dan warisannya masih diraikan oleh penduduk tempatan hari ini.\", \"output\": null}\r\n",
      "{\"prompt_input\": null, \"input\": \"<manusia>: SIAPAKAH YESUS? APA ITU TRINITI? DAN MENGAPA KITA PERLU PEDULI? Ringkaskan perkara utama teks mengenai \\\"Siapakah Yesus? Apakah Tritunggal itu? Dan mengapa kita perlu mengambil berat?\\\"\\n<bot>: Teks itu menjelaskan bahawa Yesus adalah seorang tokoh sejarah yang mengaku sebagai Anak Tuhan dan menunjukkan keilahiannya melalui mukjizat dan penggenapan nubuatan. Triniti adalah doktrin bahawa Tuhan adalah satu makhluk yang wujud dalam tiga orang: Bapa, Anak, dan Roh Kudus. Memahami Tritunggal adalah penting kerana ia mendedahkan sifat Tuhan dan membantu kita memahami hubungan antara Tuhan dan manusia. Ia juga membantu kita memahami kepentingan kematian dan kebangkitan Yesus, dan peranan Roh Kudus di dunia. Akhirnya, teks tersebut berhujah bahawa mengenali Yesus dan memahami Tritunggal adalah penting untuk mencari makna dan tujuan sebenar dalam kehidupan.\\n<manusia>: Bolehkah anda memberikan lebih banyak contoh mukjizat dan nubuat Yesus yang menunjukkan keilahian-Nya?\\n<bot>: Sudah tentu! Berikut adalah beberapa contoh:\\n\\nKeajaiban:\\n- Yesus menyembuhkan seorang lelaki yang buta sejak lahir dengan meletakkan lumpur pada matanya dan menyuruhnya membasuhnya. (Yohanes 9:1-12)\\n- Yesus meredakan ribut di Laut Galilea dengan bercakap kepada angin dan ombak. (Markus 4:35-41)\\n- Yesus memberi makan lima ribu orang hanya dengan lima keping roti dan dua ikan. (Yohanes 6:1-14)\\n\\nNubuatan:\\n- Dalam Perjanjian Lama, dinubuatkan bahawa Mesias (atau \\\"yang diurapi\\\") akan dilahirkan di Betlehem. Yesus dilahirkan di Betlehem. (Mikha 5:2)\\n- Yesus meramalkan bahawa dia akan dikhianati oleh salah seorang pengikutnya, Yudas. (Yohanes 13:21-26)\\n- Yesus meramalkan bahawa dia akan disalibkan dan bangkit daripada kematian pada hari ketiga. (Matius 16:21)\\n<manusia>: Bolehkah anda menerangkan bagaimana doktrin Triniti membantu kita memahami hubungan antara Tuhan dan manusia dengan lebih mendalam?\\n<bot>: Doktrin Trinitas membantu kita memahami hubungan antara Tuhan dan manusia dengan lebih mendalam dengan mendedahkan bahawa Tuhan adalah makhluk yang bersatu dalam tiga orang: Bapa, Anak (Yesus), dan Roh Kudus. Setiap orang dari Trinity mempunyai peranan yang unik dalam hubungan ini.\\n\\nBapa dilihat sebagai Pencipta alam semesta dan Dia yang mengutus Anak dan Roh Kudus untuk bekerja di dunia. Anak, Yesus, dilihat sebagai Tuhan dalam bentuk manusia yang datang ke bumi untuk hidup di antara kita, mengajar kita tentang kasih Tuhan, dan akhirnya, untuk mengorbankan dirinya di kayu salib untuk dosa-dosa kita. Roh Kudus dilihat sebagai Dia yang bekerja dalam diri kita untuk membimbing kita dan memimpin kita ke jalan kebenaran.\\n\\nMemahami Tritunggal membantu kita melihat bagaimana Tuhan berinteraksi dengan manusia dengan cara yang lebih bernuansa. Kita melihat bahawa Tuhan tidak jauh atau menyendiri, sebaliknya terlibat secara aktif dalam kehidupan kita melalui setiap orang Triniti. Kita juga melihat bahawa kasih Tuhan kepada kita dinyatakan dengan cara yang mendalam dan bermakna melalui pengorbanan Yesus, dan bahawa Roh Kudus sentiasa bekerja untuk membimbing dan memperkasakan kita dalam kehidupan seharian kita.\\n\\nAkhirnya, doktrin Triniti membantu kita memahami bahawa Tuhan bukan sekadar konsep abstrak, tetapi adalah kehadiran yang hidup dan aktif dalam kehidupan kita, dan bahawa kita dijemput ke dalam hubungan dengan Tuhan yang berhubungan dan penyayang ini.\\n<manusia>: Bolehkah anda jelaskan bagaimana konsep Triniti berbeza daripada pandangan agama lain tentang Tuhan dan ketuhanan?\\n<bot>: Konsep Triniti adalah unik untuk agama Kristian dan berbeza daripada pandangan agama lain tentang Tuhan dan ketuhanan dalam beberapa cara.\\n\\nSebagai contoh, dalam agama Hindu, terdapat banyak dewa dan dewi yang disembah, tetapi mereka sering dilihat sebagai aspek yang berbeza dari satu kesatuan ilahi (Brahman). Sebaliknya, Tritunggal mengajarkan bahawa terdapat satu Tuhan, yang dinyatakan dalam tiga orang: Bapa, Anak, dan Roh Kudus.\\n\\nDalam Islam, terdapat kepercayaan monoteistik yang ketat kepada satu Tuhan, dan idea tentang Tritunggal dilihat sebagai politeistik dan oleh itu menghujat. Dalam agama Yahudi, konsep Tuhan adalah sama monoteistik, dan idea tentang Yesus sebagai Anak Tuhan secara umumnya ditolak.\\n\\nTrinity juga unik dalam pemahamannya tentang hubungan Tuhan dengan manusia. Walaupun agama-agama lain mungkin melihat Tuhan sebagai menyendiri atau jauh daripada manusia, doktrin Kristian Tritunggal mengajar bahawa Tuhan wujud dalam perpaduan tiga orang yang saling mengasihi, dan manusia dijemput ke dalam hubungan ini melalui iman kepada Yesus Kristus.\\n\\nSecara keseluruhannya, konsep Triniti adalah satu aspek teologi Kristian yang unik dan tersendiri, yang membezakannya daripada agama lain dan pandangan mereka tentang Tuhan dan ketuhanan.\", \"output\": null}\r\n"
     ]
    }
   ],
   "source": [
    "!tail -n 3 combine-1536-v2.jsonl"
   ]
  },
  {
   "cell_type": "code",
   "execution_count": 20,
   "metadata": {},
   "outputs": [],
   "source": [
    "!shuf combine-1536-v2.jsonl > shuf-combine-1536-v2.jsonl"
   ]
  },
  {
   "cell_type": "code",
   "execution_count": 21,
   "metadata": {},
   "outputs": [],
   "source": [
    "break_at = [\n",
    "    'tidak pasti apa yang anda maksudkan dengan'\n",
    "    'tidak mempunyai maklumat semasa',\n",
    "    'tidak dapat memberikan maklumat',\n",
    "    'tidak pasti apa yang anda maksudkan dengan',\n",
    "    'kemas kini kepada pangkalan pengetahuan saya',\n",
    "    'Sebagai model bahasa'\n",
    "]"
   ]
  },
  {
   "cell_type": "code",
   "execution_count": 22,
   "metadata": {},
   "outputs": [],
   "source": [
    "files = [\n",
    "    'prepared-oasst1.jsonl',\n",
    "    'prepared-vicuna.jsonl',\n",
    "    'prepared-theblackcat102.jsonl',\n",
    "    'prepared-chatalpaca.jsonl',\n",
    "    'prepared-ultrachat-part9.jsonl',\n",
    "]"
   ]
  },
  {
   "cell_type": "code",
   "execution_count": 24,
   "metadata": {},
   "outputs": [
    {
     "name": "stdout",
     "output_type": "stream",
     "text": [
      "{\"prompt_input\": null, \"input\": \"Tunjukkan kepada saya tentang taburan Jantina dan jumlah Ketinggian , dan kumpulan mengikut atribut Jantina dalam carta palang, dan senaraikan X dalam tertib menurun., table `CREATE TABLE people (\\n    People_ID int,\\n    Sex text,\\n    Name text,\\n    Date_of_Birth text,\\n    Height real,\\n    Weight real\\n)\\n\\nCREATE TABLE candidate (\\n    Candidate_ID int,\\n    People_ID int,\\n    Poll_Source text,\\n    Date text,\\n    Support_rate real,\\n    Consider_rate real,\\n    Oppose_rate real,\\n    Unsure_rate real\\n)`\", \"output\": \"SELECT Sex, SUM(Height) FROM people GROUP BY Sex ORDER BY Sex DESC\"}\n",
      "\n",
      "-----\n",
      "{\"prompt_input\": null, \"input\": \"table definition `CREATE TABLE candidate (\\n    Candidate_ID int,\\n    People_ID int,\\n    Poll_Source text,\\n    Date text,\\n    Support_rate real,\\n    Consider_rate real,\\n    Oppose_rate real,\\n    Unsure_rate real\\n)\\n\\nCREATE TABLE people (\\n    People_ID int,\\n    Sex text,\\n    Name text,\\n    Date_of_Birth text,\\n    Height real,\\n    Weight real\\n)`, Menggunakan SQLite yang sah, jawab soalan berikut untuk jadual yang disediakan di atas.\\n\\n-- Apakah berat minimum untuk setiap jantina? Tunjukkan carta bar, isih dari rendah ke tinggi mengikut paksi-x.\", \"output\": \"SELECT Sex, MIN(Weight) FROM people GROUP BY Sex ORDER BY Sex\"}\n",
      "\n",
      "-----\n",
      "{\"prompt_input\": null, \"input\": \"table definition `CREATE TABLE stadium (\\n    id int,\\n    name text,\\n    Home_Games int,\\n    Average_Attendance real,\\n    Total_Attendance real,\\n    Capacity_Percentage real\\n)\\n\\nCREATE TABLE injury_accident (\\n    game_id int,\\n    id int,\\n    Player text,\\n    Injury text,\\n    Number_of_matches text,\\n    Source text\\n)\\n\\nCREATE TABLE game (\\n    stadium_id int,\\n    id int,\\n    Season int,\\n    Date text,\\n    Home_team text,\\n    Away_team text,\\n    Score text,\\n    Competition text\\n)`, Menggunakan SQLite yang sah, jawab soalan berikut untuk jadual yang disediakan di atas.\\n\\n-- Carta bar x paksi pasukan jauh y paksi bilangan pasukan pelawat, dan tunjukkan dengan paksi X dalam desc.\", \"output\": \"SELECT Away_team, COUNT(Away_team) FROM game GROUP BY Away_team ORDER BY Away_team DESC\"}\n",
      "\n",
      "-----\n",
      "{\"prompt_input\": null, \"input\": \"Menggunakan SQLite yang sah, jawab soalan berikut untuk jadual yang disediakan di atas.\\n\\n-- Tunjukkan kepada saya tentang taburan Jantina dan purata Ketinggian , dan kumpulan mengikut atribut Jantina dalam carta palang, dan sila tentukan paksi-x dari tertib tinggi ke rendah., table `CREATE TABLE candidate (\\n    Candidate_ID int,\\n    People_ID int,\\n    Poll_Source text,\\n    Date text,\\n    Support_rate real,\\n    Consider_rate real,\\n    Oppose_rate real,\\n    Unsure_rate real\\n)\\n\\nCREATE TABLE people (\\n    People_ID int,\\n    Sex text,\\n    Name text,\\n    Date_of_Birth text,\\n    Height real,\\n    Weight real\\n)`\", \"output\": \"SELECT Sex, AVG(Height) FROM people GROUP BY Sex ORDER BY Sex DESC\"}\n",
      "\n",
      "-----\n",
      "{\"prompt_input\": null, \"input\": \"table definition `CREATE TABLE people (\\n    People_ID int,\\n    Sex text,\\n    Name text,\\n    Date_of_Birth text,\\n    Height real,\\n    Weight real\\n)\\n\\nCREATE TABLE candidate (\\n    Candidate_ID int,\\n    People_ID int,\\n    Poll_Source text,\\n    Date text,\\n    Support_rate real,\\n    Consider_rate real,\\n    Oppose_rate real,\\n    Unsure_rate real\\n)`, Berikan saya perbandingan tentang jumlah Berat ke atas Jantina , dan kumpulkan mengikut atribut Jantina, dan susun mengikut paksi X dari rendah ke tinggi sila.\", \"output\": \"SELECT Sex, SUM(Weight) FROM people GROUP BY Sex ORDER BY Sex\"}\n",
      "\n",
      "-----\n",
      "{\"prompt_input\": null, \"input\": \"table definition `CREATE TABLE people (\\n    People_ID int,\\n    Sex text,\\n    Name text,\\n    Date_of_Birth text,\\n    Height real,\\n    Weight real\\n)\\n\\nCREATE TABLE candidate (\\n    Candidate_ID int,\\n    People_ID int,\\n    Poll_Source text,\\n    Date text,\\n    Support_rate real,\\n    Consider_rate real,\\n    Oppose_rate real,\\n    Unsure_rate real\\n)`, Berikan saya perbandingan tentang jumlah Berat ke atas Jantina , dan kumpulan mengikut atribut Jantina, dan bolehkah anda tunjukkan Jantina dalam susunan penerangan?\", \"output\": \"SELECT Sex, SUM(Weight) FROM people GROUP BY Sex ORDER BY Sex DESC\"}\n",
      "\n",
      "-----\n",
      "{\"prompt_input\": null, \"input\": \"<manusia>: I do marketing for a real estate company in Dubai. The company is focused on the target audience - \\\"Russian speakers, people planning their first purchase of real estate abroad or their first in the UAE\\\". Tell me what are the main segments of this target audience, and what are their main pains and needs.\\n<bot>: Segmen utama khalayak sasaran \\\"penutur bahasa Rusia, orang yang merancang pembelian hartanah pertama mereka di luar negara atau pertama mereka di UAE\\\" boleh:\\n\\n1. Profesional muda atau keluarga yang mencari rumah kedua di lokasi yang diingini.\\n2. Pelabur yang mencari pulangan yang lebih tinggi ke atas pelaburan mereka.\\n3. Pesara mencari persekitaran yang mesra dan mesra untuk tahun emas mereka.\\n\\nKesakitan dan keperluan utama mereka mungkin:\\n\\n1. Kurang pengetahuan tentang pasaran hartanah tempatan dan peraturan di UAE.\\n2. Kebimbangan tentang keselamatan dan keselamatan pelaburan mereka.\\n3. Kesukaran dalam mengemudi proses undang-undang pembelian hartanah di luar negara.\\n4. Keinginan untuk pengalaman membeli yang lancar dan bebas tekanan.\\n5. Perlukan syarikat hartanah yang boleh dipercayai dan boleh dipercayai untuk membantu dalam proses tersebut.\\n<manusia>: Write down the pains of this target audience separately, and indicate the strength of each pain and the prevalence of each pain, in percent.\\nMore about this source textSource text required for additional translation information\\nSend feedback\\nSide panels\\n<bot>: Malangnya, saya tidak mempunyai data untuk menentukan kekuatan dan kelaziman setiap kesakitan untuk khalayak sasaran. Maklumat ini paling baik diperolehi melalui penyelidikan pasaran dan tinjauan pelanggan.\\n<manusia>: Write down the pains of this target audience separately, and make a rough estimation of the strength of each pain and the prevalence of each pain, in scale from 1 to 10.\\n<bot>: Kesakitan penonton sasaran \\\"penutur bahasa Rusia, orang yang merancang pembelian hartanah pertama mereka di luar negara atau pertama mereka di UAE\\\" mungkin:\\n\\n1. Kurang pengetahuan tentang pasaran hartanah tempatan dan peraturan di UAE.\\nKekuatan: 8\\nKelaziman: 8\\n2. Kebimbangan tentang keselamatan dan keselamatan pelaburan mereka.\\nKekuatan: 9\\nKelaziman: 7\\n3. Kesukaran dalam mengemudi proses undang-undang pembelian hartanah di luar negara.\\nKekuatan: 8\\nKelaziman: 7\\n4. Keinginan untuk pengalaman membeli yang lancar dan bebas tekanan.\\nKekuatan: 9\\nKelaziman: 8\\n5. Perlukan syarikat hartanah yang boleh dipercayai dan boleh dipercayai untuk membantu dalam proses tersebut.\\nKekuatan: 8\\nKelaziman: 8\\n\\nNota: Ini adalah anggaran kasar dan mungkin berbeza-beza berdasarkan segmen pasaran dan pelanggan tertentu.\\n<manusia>: Saya perlu membina corong pemasaran daripada bahan bertulis (seperti senarai semak, panduan, buku kerja, dll.) dalam format: 2-3 magnet plumbum + 1 tripwire. Dalam corong pemasaran, pada setiap produk (magnet utama atau tripwire), pelanggan mesti menerima faedah yang besar dan keinginan yang lebih besar untuk bergerak ke peringkat corong seterusnya, iaitu setiap produk corong mesti memberikan nilai dan pada masa yang sama jual yang seterusnya.\\nMemasuki corong harus melalui kesakitan dan keperluan khalayak sasaran kami. Oleh itu, magnet utama nombor 1 setiap corong hendaklah sedekat mungkin untuk menutup kesakitan dan keperluan khalayak sasaran, seperti yang anda nyatakan di atas.\\nCadangkan 5 pilihan paling berkesan untuk corong pemasaran sedemikian, menunjukkan produk mereka dan penerangan ringkas. Terangkan untuk setiap produk bagaimana ia memberikan nilai dan bagaimana ia menjual produk seterusnya.\\n<bot>: Berikut ialah 5 pilihan untuk corong pemasaran:\\n\\n1. Corong 1:\\nMagnet Utama 1: \\\"Panduan Terbaik untuk Pelaburan Hartanah yang Selamat dan Terjamin di UAE\\\"\\nPenerangan: Panduan ini memberikan gambaran menyeluruh tentang pasaran hartanah tempatan, peraturan dan pilihan pelaburan di UAE, menangani kekurangan pengetahuan dan kebimbangan khalayak sasaran tentang keselamatan dan keselamatan.\\nNilai: Panduan ini menyediakan maklumat dan pendidikan berharga tentang cara membuat pelaburan hartanah termaklum di UAE.\\nMenjual produk seterusnya: Dengan menyerlahkan potensi risiko dan faedah melabur dalam hartanah, panduan ini mewujudkan rasa mendesak untuk khalayak sasaran untuk mengambil tindakan dan mendapatkan sokongan tambahan dalam menavigasi proses.\\nMagnet Utama 2: \\\"Senarai Semak Pelabur Berbahasa Rusia untuk Pembelian Hartanah Berjaya di UAE\\\"\\nPenerangan: Senarai semak ini menyediakan panduan langkah demi langkah tentang proses pembelian hartanah di UAE, termasuk keperluan undang-undang dan dokumen yang diperlukan.\\nNilai: Senarai semak ini membantu khalayak sasaran berasa yakin dan bersedia apabila menavigasi proses undang-undang untuk membeli hartanah di UAE.\\nMenjual produk seterusnya: Dengan menonjolkan kerumitan proses dan kepentingan penyediaan yang betul, senarai semak meletakkan khalayak sasaran untuk mendapat manfaat daripada penyelesaian komprehensif untuk pengalaman pembelian yang lancar dan tanpa tekanan.\\nTripwire: \\\"Bengkel Pelaburan Hartanah di Dubai untuk Pelabur Berbahasa Rusia\\\"\\nPenerangan: Bengkel ini menyediakan pengalaman interaktif dan praktikal untuk khalayak sasaran untuk mempelajari tentang pelaburan hartanah di UAE dan menerima bimbingan dan sokongan yang diperibadikan.\\nNilai: Bengkel ini menyediakan peluang unik untuk khalayak sasaran untuk berhubung dengan pakar hartanah, belajar daripada contoh praktikal dan menerima sokongan individu.\\nMenjual produk seterusnya: Dengan menyerlahkan faedah pembelajaran langsung dan sokongan yang diperibadikan, bengkel mewujudkan keinginan untuk khalayak sasaran menerima bantuan yang lebih komprehensif dalam pembelian hartanah mereka.\\n2. Corong 2:\\nMagnet Utama 1: \\\"5 Kesilapan Biasa yang Perlu Dielakkan Apabila Membeli Hartanah Di Luar Negara\\\"\\nPenerangan: Panduan ini menyediakan senarai kesilapan biasa yang dilakukan oleh pembeli hartanah kali pertama, termasuk perangkap yang perlu dielakkan dan petua untuk berjaya.\\nNilai: Panduan ini membantu khalayak sasaran mengelakkan kesilapan biasa dan meningkatkan peluang pembelian hartanah yang berjaya.\\nMenjual produk seterusnya: Dengan menonjolkan potensi risiko dan kepentingan penyediaan yang betul, panduan ini mewujudkan keinginan untuk khalayak sasaran untuk menerima sokongan dan bimbingan yang lebih komprehensif dalam pembelian hartanah mereka.\\nMagnet Utama 2: \\\"Panduan Pembeli Kali Pertama untuk Hartanah di UAE\\\"\\nPenerangan: Panduan ini memberikan gambaran keseluruhan yang komprehensif tentang proses pembelian hartanah di UAE, termasuk keperluan undang-undang, pilihan pembiayaan dan petua untuk berjaya.\\nNilai: Panduan ini membantu khalayak sasaran berasa yakin dan bersedia apabila menavigasi proses pembelian hartanah di UAE.\\nMenjual produk seterusnya: Dengan menyerlahkan kerumitan proses dan kepentingan penyediaan yang betul, panduan meletakkan khalayak sasaran untuk mendapat manfaat daripada penyelesaian komprehensif untuk pengalaman pembelian yang lancar dan tanpa tekanan.\\nTripwire: \\\"Rundingan Pelaburan Hartanah di Dubai untuk Pembeli Kali Pertama\\\"\\nPenerangan: Perundingan ini memberikan sokongan dan panduan yang diperibadikan untuk khalayak sasaran semasa mereka menavigasi proses pembelian hartanah di UAE.\\nNilai: Perundingan ini menyediakan sokongan individu dan menangani keperluan dan kebimbangan khusus khalayak sasaran, meningkatkan peluang mereka untuk pembelian hartanah yang berjaya.\\nMenjual produk seterusnya: Dengan menyerlahkan faedah sokongan yang diperibadikan, perundingan mewujudkan keinginan untuk khalayak sasaran untuk menerima bantuan yang lebih komprehensif dalam pembelian hartanah mereka.\\n3. Keseronokan\\n<manusia>: Write out the detailed structure of lead magnet number 1 from funnel number 1.\\n<bot>: Magnet Utama 1: \\\"Panduan Terbaik untuk Pelaburan Hartanah yang Selamat dan Terjamin di UAE\\\"\\n\\npengenalan:\\n\\n* Gambaran keseluruhan ringkas tentang tujuan panduan dan perkara yang boleh diharapkan oleh khalayak sasaran untuk belajar.\\n* Penjelasan keadaan semasa pasaran hartanah di UAE dan kepentingan membuat keputusan pelaburan termaklum.\\n\\nBab 1: Memahami Pasaran Hartanah Tempatan\\n\\n* Gambaran keseluruhan pasaran hartanah di UAE, termasuk trend semasa dan keadaan pasaran.\\n* Perbincangan tentang pelbagai pilihan pelaburan hartanah, termasuk hartanah kediaman, komersial dan perindustrian.\\n* Analisis potensi pulangan pelaburan dan risiko yang terlibat dalam setiap jenis hartanah.\\n\\nBab 2: Melayari Peraturan dan Keperluan Undang-undang\\n\\n* Penjelasan tentang keperluan undang-undang untuk membeli hartanah di UAE, termasuk peraturan pemastautin, visa dan pemilikan hartanah.\\n* Perbincangan tentang hak dan tanggungjawab pemilik harta di UAE, termasuk kewajipan cukai dan pengurusan harta.\\n* Gambaran keseluruhan proses penyelesaian pertikaian di UAE, termasuk peranan mahkamah dan mekanisme penyelesaian pertikaian alternatif.\\n\\nBab 3: Memaksimumkan Keselamatan dan Keselamatan dalam Pelaburan Hartanah\\n\\n* Penjelasan tentang kebimbangan keselamatan dan keselamatan pelabur asing di UAE, termasuk penipuan dan penipuan.\\n* Perbincangan tentang langkah-langkah yang boleh diambil untuk mengurangkan risiko penipuan pelaburan, termasuk usaha wajar, semakan latar belakang dan pengambilan ejen hartanah yang bereputasi.\\n* Gambaran keseluruhan pilihan insurans yang tersedia untuk melindungi pelaburan hartanah, termasuk insurans hak milik, insurans pemilik rumah dan insurans kerosakan harta benda.\\n\\nKesimpulan:\\n\\n* Ringkasan perkara utama yang diliputi dalam panduan.\\n* Penekanan pada kepentingan membuat pelaburan hartanah termaklum di UAE dan faedah mengikuti petua dan cadangan yang digariskan dalam panduan.\\n* Seruan untuk bertindak untuk khalayak sasaran untuk mengambil langkah seterusnya dalam perjalanan pelaburan hartanah mereka, seperti berhubung dengan pakar hartanah atau menghadiri bengkel.\\n\\nLampiran:\\n\\n* Senarai sumber dan alatan untuk maklumat dan sokongan lanjut, termasuk tapak web, organisasi dan buku.\\n* Maklumat hubungan untuk syarikat hartanah dan pasukan pakarnya, termasuk pautan e-mel, telefon dan media sosial.\", \"output\": null}\n",
      "\n",
      "-----\n"
     ]
    },
    {
     "name": "stdout",
     "output_type": "stream",
     "text": [
      "{\"prompt_input\": null, \"input\": \"<manusia>: Source text:\\n\\u2014\\nHow M\\u0101ui Brought Fire to the World\\nOne evening, after eating a hearty meal, M\\u0101ui lay beside his fire staring into the flames. He watched the flames flicker and dance and thought to himself, \\\"I wonder where fire comes from.\\\"\\nM\\u0101ui, being the curious person that he was, decided that he needed to find out. In the middle of the night, while everyone was sleeping, M\\u0101ui went from village to village and extinguished all the fires until not a single fire burned in the world. He then went back to his whare and waited.\\nThe next morning there was an uproar in the village.\\n\\\"How can we cook our breakfast, there's no fire!\\\" called a worried mother.\\n\\\"How will we keep warm at night?\\\" cried another.\\n\\\"We can't possibly live without fire!\\\" the villagers said to one another.\\nThe people of the village were very frightened. They asked Taranga, who was their rangatira, to help solve the problem.\\n\\\"Someone will have to go and see the great goddess, Mahuika, and ask her for fire,\\\" said Taranga.\\nNone of the villagers were eager to meet Mahuika, they had all heard of the scorching mountain where she lived. So M\\u0101ui offered to set out in search of Mahuika, secretly glad that his plan had worked.\\n\\\"Be very careful,\\\" said Taranga. \\\"Although you are a descendant of Mahuika she will not take kindly to you if you try and trick her.\\\"\\n\\\"I'll find the great ancestress Mahuika and bring fire back to the world,\\\" M\\u0101ui assured his mother.\\nM\\u0101ui walked to the scorching mountain to the end of the earth following the instructions from his mother and found a huge mountain glowing red hot with heat. At the base of the mountain M\\u0101ui saw a cave entrance. Before he entered, M\\u0101ui whispered a special karakia to himself as protection from what lay beyond. But nothing could prepare M\\u0101ui for what he saw when he entered the sacred mountain of Mahuika.\\nMahuika, the goddess, rose up before him, fire burning from every pore of her body, her hair a mass of flames, her arms outstretched, and with only black holes where her eyes once were. She sniffed the air.\\n\\\"Who is this mortal that dares to enter my dwelling?\\\"\\nM\\u0101ui gathered the courage to speak, \\\"It is I, M\\u0101ui, son of Taranga.\\\"\\n\\\"Huh!\\\" Yelled Mahuika. \\\"M\\u0101ui, the son of Taranga?\\\"\\n\\\"Yes the last born, M\\u0101ui-tikitiki-a-Taranga.\\\"\\n\\\"Well then, M\\u0101ui-tikitiki-a-Taranga, welcome, welcome to the essence of the flame, welcome my grandchild.\\\"\\nMahuika stepped closer to M\\u0101ui, taking a deep sniff of his scent. M\\u0101ui stood completely still, even though the flames from Mahuika's skin were unbearably hot.\\n\\\"So... why do you come, M\\u0101ui-tikitiki-a-Taranga?\\\" Mahuika finally asked.\\nM\\u0101ui said, \\\"The fires of the world have been extinguished, I have come to ask you for fire.\\\" Mahuika listened carefully to M\\u0101ui, and then she laughed. She pulled a fingernail from one of her burning fingers and gave it to him.\\n\\\"Take this fire as a gift to your people. Honour this fire as you honour me.\\\"\\nSo M\\u0101ui left the house of Mahuika taking with him the fingernail of fire.\\nAs M\\u0101ui walked along the side of the road he thought to himself, \\\"What if Mahuika had no fire left, then where would she get her fire from?\\\"\\nM\\u0101ui couldn't contain his curiosity. He quickly threw the fingernail into a stream and headed back to Mahuika's cave.\\n\\\"I tripped and fell,\\\" said M\\u0101ui. \\\"Could I please have another?\\\"\\nMahuika was in a good mood. She hadn't spoken to someone in quite some time and she liked M\\u0101ui. She gladly gave M\\u0101ui another of her fingernails.\\nBut M\\u0101ui soon extinguished this fingernail as well and returned to Mahuika with another excuse.\\n\\\"A fish splashed my flame as I was crossing the river,\\\" M\\u0101ui said.\\nMahuika provided another of her fingernails, not suspecting that she was being tricked.\\nThis continued for most of the day until Mahuika had used all her fingernails and had even given up her toenails. When M\\u0101ui returned to ask for another, Mahuika was furious. She knew M\\u0101ui had been tricking her and threw the burning toenail to the ground.\\nInstantly M\\u0101ui was surrounded by fire and chased from the cave.\\nM\\u0101ui changed himself into a hawk and escaped to the sky, but the flames burned so high that they singed the underside of his wings, turning them a glowing red.\\nM\\u0101ui dived towards a river, hoping to avoid the flames in the coolness of the water, but the immense heat made the water boil.\\nM\\u0101ui was desperate. He called on his ancestor T\\u0101whirim\\u0101tea for help. \\\"T\\u0101whirim\\u0101tea atua o ng\\u0101 hau e wh\\u0101, \\u0101whinatia mai!\\\"\\nThen, a mass of clouds gathered and a torrent of rain fell to put out the many fires. Mahuika's mountain of fire no longer burned hot.\\nMahuika had lost much of her power, but still she was not giving up. She took her very last toenail and threw it at M\\u0101ui in anger. The toenail of fire missed M\\u0101ui and flew into the trees, planting itself in the Mahoe tree, the T\\u014dtara, the Patete, the Pukatea, and the Kaik\\u014dmako trees. These trees cherished and held onto the fire of Mahuika, considering it a great gift.\\nWhen M\\u0101ui returned to his village he didn't bring back fire as the villagers had expected. Instead he brought back dry wood from the Kaik\\u014dmako tree and showed them how to rub the dry sticks together forming friction which would eventually start a fire. The villagers were very happy to be able to cook their food once more and to have the warmth of their fires at night to comfort them.\\nM\\u0101ui satisfied his curiosity in finding the origin of fire, although he very nearly paid the ultimate price in doing so. To this day the Kahu, the native hawk of Aotearoa, still retains the red singed feathers on the underside of its wings, a reminder of how close M\\u0101ui was to death.\\nThis is the story of how M\\u0101ui brought fire to the world.\\nAuthor: Wiremu Grace\\n\\u2014\\n\\nFirst, generate a summary of the text.\\n<bot>: M\\u0101ui, seorang yang ingin tahu dan suka mengembara, memutuskan untuk mengetahui dari mana datangnya api dengan memadamkan semua api di dunia. Penduduk kampung ketakutan dan meminta ketua mereka, Taranga, untuk membantu menyelesaikan masalah itu. Taranga mencadangkan bahawa seseorang mesti pergi berjumpa dewi besar Mahuika dan meminta api. Tiada seorang pun penduduk kampung yang ingin pergi, jadi M\\u0101ui menawarkan diri untuk pergi mencari Mahuika. Dia mendapati dia di atas gunung yang terik, di mana dia adalah makhluk yang diperbuat daripada api. Mahuika pada mulanya teragak-agak untuk memberikan api kepada M\\u0101ui, tetapi akhirnya memberinya kuku api sebagai hadiah. M\\u0101ui menipu Mahuika berkali-kali dengan meminta lebih banyak api dan memadamkannya, sehingga Mahuika berang dan melemparkan kuku kaki yang terbakar ke arah M\\u0101ui. M\\u0101ui melarikan diri dengan berubah menjadi elang, tetapi api mengejarnya dan dia meminta bantuan moyangnya T\\u0101whirim\\u0101tea. T\\u0101whirim\\u0101tea menghantar hujan lebat untuk memadamkan api dan Mahuika kehilangan banyak kuasanya.\\n<manusia>: Hasilkan rangka naratif teks, termasuk latar, watak, plot dan tema.\\n<bot>: Latar: Kisah berlaku di sebuah kampung dan di atas gunung yang terik tempat tinggal dewi Mahuika.\\n\\nWatak:\\n\\n* M\\u0101ui: Protagonis cerita, seorang yang ingin tahu dan pandai yang berusaha mencari punca api.\\n* Taranga: Pemimpin kampung, yang menasihati M\\u0101ui tentang cara mencari dan mengambil api dari Mahuika.\\n* Mahuika: Dewi api yang tinggal di atas gunung yang terik, yang menjadi sumber api dalam cerita.\\n* Penduduk kampung: Mereka adalah orang yang bergantung kepada api untuk kehidupan seharian, dan bimbang dan takut apabila semua api padam.\\n\\nPlot:\\n\\n* M\\u0101ui, ingin tahu tentang punca api, memadamkan semua api di kampung pada tengah malam.\\n* Penduduk kampung bimbang dan takut, lalu meminta bantuan Taranga. Taranga menasihatkan bahawa seseorang mesti pergi dan meminta api kepada Mahuika.\\n* M\\u0101ui menawarkan diri untuk mencari Mahuika, dan pergi ke gunung yang terik di hujung bumi.\\n* M\\u0101ui memasuki gua Mahuika, di mana dia bertemu dengan dewi api yang menyala dari setiap liang badannya. Mahuika pada mulanya curiga, tetapi akhirnya mengalu-alukan M\\u0101ui sebagai cucunya dan memberinya kuku api sebagai hadiah kepada rakyatnya.\\n* M\\u0101ui kembali ke kampung dengan kuku api, tetapi dia tidak berpuas hati dengan hanya satu jari dan kembali ke gua Mahuika untuk meminta api lagi.\\n* M\\u0101ui menipu Mahuika untuk memberinya lebih banyak api, sehingga dia dibiarkan tanpa sebarang kuku atau kuku kaki. Mahuika menjadi marah dan melemparkan kuku kaki yang terbakar ke tanah, mengelilingi M\\u0101ui dengan api.\\n* M\\u0101ui bertukar menjadi burung elang dan melarikan diri ke langit, tetapi api menyala begitu tinggi sehingga membakar bahagian bawah sayapnya.\\n* M\\u0101ui meminta bantuan moyangnya T\\u0101whirim\\u0101tea, yang menghantar air hujan untuk memadamkan banyak kebakaran. Gunung api Mahuika tidak lagi membara.\\n\\nTema:\\n\\n* Rasa ingin tahu: Rasa ingin tahu M\\u0101ui tentang punca api mendorong cerita dan membawa kepada penemuan dewi Mahuika.\\n* Tipu: M\\u0101ui menggunakan tipu helah untuk mendapatkan lebih banyak api daripada Mahuika, akhirnya menyebabkan kehilangan kuasanya.\\n* Keturunan: M\\u0101ui meminta bantuan moyangnya T\\u0101whirim\\u0101tea, menekankan kepentingan keturunan dan keluarga dalam cerita.\\n* Alam Semulajadi: Cerita ini menonjolkan kuasa alam semula jadi dan kesan kebakaran terhadap alam sekitar.\", \"output\": null}\n",
      "\n",
      "-----\n"
     ]
    },
    {
     "name": "stdout",
     "output_type": "stream",
     "text": [
      "{\"prompt_input\": null, \"input\": \"table definition `CREATE TABLE people (\\n    People_ID int,\\n    Sex text,\\n    Name text,\\n    Date_of_Birth text,\\n    Height real,\\n    Weight real\\n)\\n\\nCREATE TABLE candidate (\\n    Candidate_ID int,\\n    People_ID int,\\n    Poll_Source text,\\n    Date text,\\n    Support_rate real,\\n    Consider_rate real,\\n    Oppose_rate real,\\n    Unsure_rate real\\n)`, Tunjukkan kepada saya tentang taburan Jantina dan jumlah Jantina , dan kumpulan mengikut atribut Jantina dalam carta palang, senaraikan mengikut bar dalam menaik.\", \"output\": \"SELECT Sex, COUNT(Sex) FROM people GROUP BY Sex ORDER BY Sex\"}\n",
      "\n",
      "-----\n",
      "{\"prompt_input\": null, \"input\": \"<manusia>: I do marketing for a real estate company in Dubai. The company is focused on the target audience - \\\"Russian speakers, people planning their first purchase of real estate abroad or their first in the UAE\\\". Tell me what are the main segments of this target audience, and what are their main pains and needs.\\n<bot>: Segmen utama khalayak sasaran \\\"penutur bahasa Rusia, orang yang merancang pembelian hartanah pertama mereka di luar negara atau pertama mereka di UAE\\\" boleh:\\n\\n1. Profesional muda atau keluarga yang mencari rumah kedua di lokasi yang diingini.\\n2. Pelabur yang mencari pulangan yang lebih tinggi ke atas pelaburan mereka.\\n3. Pesara mencari persekitaran yang mesra dan mesra untuk tahun emas mereka.\\n\\nKesakitan dan keperluan utama mereka mungkin:\\n\\n1. Kurang pengetahuan tentang pasaran hartanah tempatan dan peraturan di UAE.\\n2. Kebimbangan tentang keselamatan dan keselamatan pelaburan mereka.\\n3. Kesukaran dalam mengemudi proses undang-undang pembelian hartanah di luar negara.\\n4. Keinginan untuk pengalaman membeli yang lancar dan bebas tekanan.\\n5. Perlukan syarikat hartanah yang boleh dipercayai dan boleh dipercayai untuk membantu dalam proses tersebut.\\n<manusia>: Write down the pains of this target audience separately, and indicate the strength of each pain and the prevalence of each pain, in percent.\\nMore about this source textSource text required for additional translation information\\nSend feedback\\nSide panels\\n<bot>: Malangnya, saya tidak mempunyai data untuk menentukan kekuatan dan kelaziman setiap kesakitan untuk khalayak sasaran. Maklumat ini paling baik diperolehi melalui penyelidikan pasaran dan tinjauan pelanggan.\\n<manusia>: Write down the pains of this target audience separately, and make a rough estimation of the strength of each pain and the prevalence of each pain, in scale from 1 to 10.\\n<bot>: Kesakitan penonton sasaran \\\"penutur bahasa Rusia, orang yang merancang pembelian hartanah pertama mereka di luar negara atau pertama mereka di UAE\\\" mungkin:\\n\\n1. Kurang pengetahuan tentang pasaran hartanah tempatan dan peraturan di UAE.\\nKekuatan: 8\\nKelaziman: 8\\n2. Kebimbangan tentang keselamatan dan keselamatan pelaburan mereka.\\nKekuatan: 9\\nKelaziman: 7\\n3. Kesukaran dalam mengemudi proses undang-undang pembelian hartanah di luar negara.\\nKekuatan: 8\\nKelaziman: 7\\n4. Keinginan untuk pengalaman membeli yang lancar dan bebas tekanan.\\nKekuatan: 9\\nKelaziman: 8\\n5. Perlukan syarikat hartanah yang boleh dipercayai dan boleh dipercayai untuk membantu dalam proses tersebut.\\nKekuatan: 8\\nKelaziman: 8\\n\\nNota: Ini adalah anggaran kasar dan mungkin berbeza-beza berdasarkan segmen pasaran dan pelanggan tertentu.\\n<manusia>: I need to build a marketing funnel from written materials (such as checklists, guides, workbooks, etc.) in the format: 2-3 lead magnets + 1 tripwire. In the marketing funnel, on each product (lead magnet or tripwire), the client must receive a huge benefit and an even greater desire to move to the next stage of the funnel, that is, each product of the funnel must provide value and at the same time sell the next one.\\nEntering the funnel should be through the pains and needs of our target audience. Therefore, lead magnet number 1 of each funnel should be as close as possible to closing the pains and needs of the target audience, such as you described above.\\nSuggest the 5 most effective options for such marketing funnels, indicating their products and a brief description. Explain for each product how it provides value and how it sells the next product.\\n<bot>: Berikut ialah 5 pilihan untuk corong pemasaran:\\n\\n1. Corong 1:\\nMagnet Utama 1: \\\"Panduan Terbaik untuk Pelaburan Hartanah yang Selamat dan Terjamin di UAE\\\"\\nPenerangan: Panduan ini memberikan gambaran menyeluruh tentang pasaran hartanah tempatan, peraturan dan pilihan pelaburan di UAE, menangani kekurangan pengetahuan dan kebimbangan khalayak sasaran tentang keselamatan dan keselamatan.\\nNilai: Panduan ini menyediakan maklumat dan pendidikan berharga tentang cara membuat pelaburan hartanah termaklum di UAE.\\nMenjual produk seterusnya: Dengan menyerlahkan potensi risiko dan faedah melabur dalam hartanah, panduan ini mewujudkan rasa mendesak untuk khalayak sasaran untuk mengambil tindakan dan mendapatkan sokongan tambahan dalam menavigasi proses.\\nMagnet Utama 2: \\\"Senarai Semak Pelabur Berbahasa Rusia untuk Pembelian Hartanah Berjaya di UAE\\\"\\nPenerangan: Senarai semak ini menyediakan panduan langkah demi langkah tentang proses pembelian hartanah di UAE, termasuk keperluan undang-undang dan dokumen yang diperlukan.\\nNilai: Senarai semak ini membantu khalayak sasaran berasa yakin dan bersedia apabila menavigasi proses undang-undang untuk membeli hartanah di UAE.\\nMenjual produk seterusnya: Dengan menonjolkan kerumitan proses dan kepentingan penyediaan yang betul, senarai semak meletakkan khalayak sasaran untuk mendapat manfaat daripada penyelesaian komprehensif untuk pengalaman pembelian yang lancar dan tanpa tekanan.\\nTripwire: \\\"Bengkel Pelaburan Hartanah di Dubai untuk Pelabur Berbahasa Rusia\\\"\\nPenerangan: Bengkel ini menyediakan pengalaman interaktif dan praktikal untuk khalayak sasaran untuk mempelajari tentang pelaburan hartanah di UAE dan menerima bimbingan dan sokongan yang diperibadikan.\\nNilai: Bengkel ini menyediakan peluang unik untuk khalayak sasaran untuk berhubung dengan pakar hartanah, belajar daripada contoh praktikal dan menerima sokongan individu.\\nMenjual produk seterusnya: Dengan menyerlahkan faedah pembelajaran langsung dan sokongan yang diperibadikan, bengkel mewujudkan keinginan untuk khalayak sasaran menerima bantuan yang lebih komprehensif dalam pembelian hartanah mereka.\\n2. Corong 2:\\nMagnet Utama 1: \\\"5 Kesilapan Biasa yang Perlu Dielakkan Apabila Membeli Hartanah Di Luar Negara\\\"\\nPenerangan: Panduan ini menyediakan senarai kesilapan biasa yang dilakukan oleh pembeli hartanah kali pertama, termasuk perangkap yang perlu dielakkan dan petua untuk berjaya.\\nNilai: Panduan ini membantu khalayak sasaran mengelakkan kesilapan biasa dan meningkatkan peluang pembelian hartanah yang berjaya.\\nMenjual produk seterusnya: Dengan menonjolkan potensi risiko dan kepentingan penyediaan yang betul, panduan ini mewujudkan keinginan untuk khalayak sasaran untuk menerima sokongan dan bimbingan yang lebih komprehensif dalam pembelian hartanah mereka.\\nMagnet Utama 2: \\\"Panduan Pembeli Kali Pertama untuk Hartanah di UAE\\\"\\nPenerangan: Panduan ini memberikan gambaran keseluruhan yang komprehensif tentang proses pembelian hartanah di UAE, termasuk keperluan undang-undang, pilihan pembiayaan dan petua untuk berjaya.\\nNilai: Panduan ini membantu khalayak sasaran berasa yakin dan bersedia apabila menavigasi proses pembelian hartanah di UAE.\\nMenjual produk seterusnya: Dengan menyerlahkan kerumitan proses dan kepentingan penyediaan yang betul, panduan meletakkan khalayak sasaran untuk mendapat manfaat daripada penyelesaian komprehensif untuk pengalaman pembelian yang lancar dan tanpa tekanan.\\nTripwire: \\\"Rundingan Pelaburan Hartanah di Dubai untuk Pembeli Kali Pertama\\\"\\nPenerangan: Perundingan ini memberikan sokongan dan panduan yang diperibadikan untuk khalayak sasaran semasa mereka menavigasi proses pembelian hartanah di UAE.\\nNilai: Perundingan ini menyediakan sokongan individu dan menangani keperluan dan kebimbangan khusus khalayak sasaran, meningkatkan peluang mereka untuk pembelian hartanah yang berjaya.\\nMenjual produk seterusnya: Dengan menyerlahkan faedah sokongan yang diperibadikan, perundingan mewujudkan keinginan untuk khalayak sasaran untuk menerima bantuan yang lebih komprehensif dalam pembelian hartanah mereka.\\n3. Keseronokan\\n<manusia>: Tuliskan struktur terperinci magnet plumbum nombor 1 daripada corong nombor 1.\\n<bot>: Magnet Utama 1: \\\"Panduan Terbaik untuk Pelaburan Hartanah yang Selamat dan Terjamin di UAE\\\"\\n\\npengenalan:\\n\\n* Gambaran keseluruhan ringkas tentang tujuan panduan dan perkara yang boleh diharapkan oleh khalayak sasaran untuk belajar.\\n* Penjelasan keadaan semasa pasaran hartanah di UAE dan kepentingan membuat keputusan pelaburan termaklum.\\n\\nBab 1: Memahami Pasaran Hartanah Tempatan\\n\\n* Gambaran keseluruhan pasaran hartanah di UAE, termasuk trend semasa dan keadaan pasaran.\\n* Perbincangan tentang pelbagai pilihan pelaburan hartanah, termasuk hartanah kediaman, komersial dan perindustrian.\\n* Analisis potensi pulangan pelaburan dan risiko yang terlibat dalam setiap jenis hartanah.\\n\\nBab 2: Melayari Peraturan dan Keperluan Undang-undang\\n\\n* Penjelasan tentang keperluan undang-undang untuk membeli hartanah di UAE, termasuk peraturan pemastautin, visa dan pemilikan hartanah.\\n* Perbincangan tentang hak dan tanggungjawab pemilik harta di UAE, termasuk kewajipan cukai dan pengurusan harta.\\n* Gambaran keseluruhan proses penyelesaian pertikaian di UAE, termasuk peranan mahkamah dan mekanisme penyelesaian pertikaian alternatif.\\n\\nBab 3: Memaksimumkan Keselamatan dan Keselamatan dalam Pelaburan Hartanah\\n\\n* Penjelasan tentang kebimbangan keselamatan dan keselamatan pelabur asing di UAE, termasuk penipuan dan penipuan.\\n* Perbincangan tentang langkah-langkah yang boleh diambil untuk mengurangkan risiko penipuan pelaburan, termasuk usaha wajar, semakan latar belakang dan pengambilan ejen hartanah yang bereputasi.\\n* Gambaran keseluruhan pilihan insurans yang tersedia untuk melindungi pelaburan hartanah, termasuk insurans hak milik, insurans pemilik rumah dan insurans kerosakan harta benda.\\n\\nKesimpulan:\\n\\n* Ringkasan perkara utama yang diliputi dalam panduan.\\n* Penekanan pada kepentingan membuat pelaburan hartanah termaklum di UAE dan faedah mengikuti petua dan cadangan yang digariskan dalam panduan.\\n* Seruan untuk bertindak untuk khalayak sasaran untuk mengambil langkah seterusnya dalam perjalanan pelaburan hartanah mereka, seperti berhubung dengan pakar hartanah atau menghadiri bengkel.\\n\\nLampiran:\\n\\n* Senarai sumber dan alatan untuk maklumat dan sokongan lanjut, termasuk tapak web, organisasi dan buku.\\n* Maklumat hubungan untuk syarikat hartanah dan pasukan pakarnya, termasuk pautan e-mel, telefon dan media sosial.\", \"output\": null}\n",
      "\n",
      "-----\n",
      "{\"prompt_input\": null, \"input\": \"`CREATE TABLE candidate (\\n    Candidate_ID int,\\n    People_ID int,\\n    Poll_Source text,\\n    Date text,\\n    Support_rate real,\\n    Consider_rate real,\\n    Oppose_rate real,\\n    Unsure_rate real\\n)\\n\\nCREATE TABLE people (\\n    People_ID int,\\n    Sex text,\\n    Name text,\\n    Date_of_Birth text,\\n    Height real,\\n    Weight real\\n)`, Tunjukkan saya berat minimum mengikut jantina dalam histogram, saya ingin memesan nama dalam tertib menaik.\", \"output\": \"SELECT Sex, MIN(Weight) FROM people GROUP BY Sex ORDER BY Sex\"}\n",
      "\n",
      "-----\n",
      "{\"prompt_input\": null, \"input\": \"`CREATE TABLE people (\\n    People_ID int,\\n    Sex text,\\n    Name text,\\n    Date_of_Birth text,\\n    Height real,\\n    Weight real\\n)\\n\\nCREATE TABLE candidate (\\n    Candidate_ID int,\\n    People_ID int,\\n    Poll_Source text,\\n    Date text,\\n    Support_rate real,\\n    Consider_rate real,\\n    Oppose_rate real,\\n    Unsure_rate real\\n)`, Lukis carta bar tentang taburan Jantina dan purata Ketinggian , dan kumpulan mengikut atribut Jantina, dan paparkan dalam menaik mengikut Y.\", \"output\": \"SELECT Sex, AVG(Height) FROM people GROUP BY Sex ORDER BY AVG(Height)\"}\n",
      "\n",
      "-----\n"
     ]
    }
   ],
   "source": [
    "import json\n",
    "\n",
    "with open('shuf-combine-1536-v2.jsonl') as fopen:\n",
    "    for l in fopen:\n",
    "        if 'Source text' in l:\n",
    "            print(l)\n",
    "            print('-----')\n",
    "        if '<manusia>:' in l:\n",
    "            data = json.loads(l)\n",
    "            inputs, outputs = [], []\n",
    "            splitted = data['input'].split('<bot>:')\n",
    "            for i in range(len(splitted) - 1):\n",
    "                if i == 0:\n",
    "                    human = splitted[i].replace('<manusia>:', '')\n",
    "                else:\n",
    "                    human = splitted[i].split('<manusia>:')[1]\n",
    "                bot = splitted[i + 1].split('<manusia>:')[0]\n",
    "                human = human.strip()\n",
    "                bot = bot.strip()\n",
    "                if len(bot) < 3 or len(human) < 3:\n",
    "                    print(len(bot), len(human), len(inputs), len(outputs), data)\n",
    "                inputs.append(human)\n",
    "                outputs.append(bot)"
   ]
  },
  {
   "cell_type": "code",
   "execution_count": null,
   "metadata": {},
   "outputs": [],
   "source": []
  }
 ],
 "metadata": {
  "kernelspec": {
   "display_name": "Python 3 (ipykernel)",
   "language": "python",
   "name": "python3"
  },
  "language_info": {
   "codemirror_mode": {
    "name": "ipython",
    "version": 3
   },
   "file_extension": ".py",
   "mimetype": "text/x-python",
   "name": "python",
   "nbconvert_exporter": "python",
   "pygments_lexer": "ipython3",
   "version": "3.8.10"
  }
 },
 "nbformat": 4,
 "nbformat_minor": 4
}
