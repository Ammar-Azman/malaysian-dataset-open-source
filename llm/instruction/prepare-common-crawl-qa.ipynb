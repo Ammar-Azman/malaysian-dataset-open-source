{
 "cells": [
  {
   "cell_type": "code",
   "execution_count": 1,
   "metadata": {},
   "outputs": [],
   "source": [
    "# !wget https://huggingface.co/datasets/mesolitica/msa-common-crawl-qa/resolve/main/common-crawl-qa.json"
   ]
  },
  {
   "cell_type": "code",
   "execution_count": 2,
   "metadata": {},
   "outputs": [],
   "source": [
    "import json\n",
    "\n",
    "with open('common-crawl-qa.json') as fopen:\n",
    "    common_crawl = json.load(fopen)"
   ]
  },
  {
   "cell_type": "code",
   "execution_count": 3,
   "metadata": {},
   "outputs": [
    {
     "name": "stderr",
     "output_type": "stream",
     "text": [
      "2023-07-25 22:30:27.276858: I tensorflow/core/platform/cpu_feature_guard.cc:193] This TensorFlow binary is optimized with oneAPI Deep Neural Network Library (oneDNN) to use the following CPU instructions in performance-critical operations:  AVX2 AVX512F AVX512_VNNI FMA\n",
      "To enable them in other operations, rebuild TensorFlow with the appropriate compiler flags.\n",
      "2023-07-25 22:30:27.363335: I tensorflow/core/util/port.cc:104] oneDNN custom operations are on. You may see slightly different numerical results due to floating-point round-off errors from different computation orders. To turn them off, set the environment variable `TF_ENABLE_ONEDNN_OPTS=0`.\n",
      "2023-07-25 22:30:28.095029: W tensorflow/compiler/xla/stream_executor/platform/default/dso_loader.cc:64] Could not load dynamic library 'libnvinfer.so.7'; dlerror: libnvinfer.so.7: cannot open shared object file: No such file or directory\n",
      "2023-07-25 22:30:28.095074: W tensorflow/compiler/xla/stream_executor/platform/default/dso_loader.cc:64] Could not load dynamic library 'libnvinfer_plugin.so.7'; dlerror: libnvinfer_plugin.so.7: cannot open shared object file: No such file or directory\n",
      "2023-07-25 22:30:28.095079: W tensorflow/compiler/tf2tensorrt/utils/py_utils.cc:38] TF-TRT Warning: Cannot dlopen some TensorRT libraries. If you would like to use Nvidia GPU with TensorRT, please make sure the missing libraries mentioned above are installed properly.\n",
      "/home/ubuntu/.local/lib/python3.8/site-packages/tensorflow_addons/utils/ensure_tf_install.py:53: UserWarning: Tensorflow Addons supports using Python ops for all Tensorflow versions above or equal to 2.4.0 and strictly below 2.7.0 (nightly versions are not supported). \n",
      " The versions of TensorFlow you are currently using is 2.11.0 and is not supported. \n",
      "Some things might work, some things might not.\n",
      "If you were to encounter a bug, do not file an issue.\n",
      "If you want to make sure you're using a tested and supported configuration, either change the TensorFlow version or the TensorFlow Addons's version. \n",
      "You can find the compatibility matrix in TensorFlow Addon's readme:\n",
      "https://github.com/tensorflow/addons\n",
      "  warnings.warn(\n",
      "/home/ubuntu/.local/lib/python3.8/site-packages/tensorflow_addons/utils/resource_loader.py:78: UserWarning: You are currently using TensorFlow 2.11.0 and trying to load a custom op (custom_ops/seq2seq/_beam_search_ops.so).\n",
      "TensorFlow Addons has compiled its custom ops against TensorFlow 2.6.0, and there are no compatibility guarantees between the two versions. \n",
      "This means that you might get segfaults when loading the custom op, or other kind of low-level errors.\n",
      " If you do, do not file an issue on Github. This is a known limitation.\n",
      "\n",
      "It might help you to fallback to pure Python ops by setting environment variable `TF_ADDONS_PY_OPS=1` or using `tfa.options.disable_custom_kernel()` in your code. To do that, see https://github.com/tensorflow/addons#gpucpu-custom-ops \n",
      "\n",
      "You can also change the TensorFlow version installed on your system. You would need a TensorFlow version equal to or above 2.6.0 and strictly below 2.7.0.\n",
      " Note that nightly versions of TensorFlow, as well as non-pip TensorFlow like `conda install tensorflow` or compiled from source are not supported.\n",
      "\n",
      "The last solution is to find the TensorFlow Addons version that has custom ops compatible with the TensorFlow installed on your system. To do that, refer to the readme: https://github.com/tensorflow/addons\n",
      "  warnings.warn(\n",
      "Cannot import beam_search_ops from Tensorflow Addons, ['malaya.jawi_rumi.deep_model', 'malaya.phoneme.deep_model', 'malaya.rumi_jawi.deep_model', 'malaya.stem.deep_model'] will not available to use, make sure Tensorflow Addons version >= 0.12.0\n",
      "check compatible Tensorflow version with Tensorflow Addons at https://github.com/tensorflow/addons/releases\n"
     ]
    }
   ],
   "source": [
    "import malaya\n",
    "\n",
    "model = malaya.augmentation.abstractive.huggingface(model = 'mesolitica/translation-t5-small-standard-bahasa-cased')"
   ]
  },
  {
   "cell_type": "code",
   "execution_count": 4,
   "metadata": {},
   "outputs": [],
   "source": [
    "_ = model.cuda()\n",
    "_ = model.model.eval()"
   ]
  },
  {
   "cell_type": "code",
   "execution_count": 5,
   "metadata": {},
   "outputs": [
    {
     "data": {
      "text/plain": [
       "[\"Apa maknanya nama 'Guinness'?\",\n",
       " 'Apa makna nama \"Guinness\"?',\n",
       " \"Apa maksud nama 'Guinness' ni?\",\n",
       " 'Gandness ni apa maknanya?']"
      ]
     },
     "execution_count": 5,
     "metadata": {},
     "output_type": "execute_result"
    }
   ],
   "source": [
    "def generate_noisy(text):\n",
    "    g = model.generate([text],to_lang = 'pasar ms',\n",
    "              max_length = 512, do_sample=True, top_k=100, top_p=0.95, temperature=0.7,\n",
    "              num_return_sequences=5)\n",
    "    result = []\n",
    "    for g_ in g:\n",
    "        splitted = g_.split()\n",
    "        splitted = [s for s in splitted if s[0] !='@']\n",
    "        s = ' '.join(splitted)\n",
    "        if len(s):\n",
    "            result.append(s)\n",
    "    return result\n",
    "\n",
    "generate_noisy(\"Apakah makna nama 'Guinness'?\")"
   ]
  },
  {
   "cell_type": "code",
   "execution_count": 6,
   "metadata": {},
   "outputs": [],
   "source": [
    "template_malaya = {\n",
    "    'description': 'Template used by Malaya.',\n",
    "    'prompt_input': 'Di bawah ialah arahan yang menerangkan tugasan, termasuk dengan input yang menyediakan konteks lanjut. Tulis jawapan yang sesuai dengan arahan tersebut.\\n\\n### Arahan:\\n{instruction}\\n\\n### Input:\\n{input}\\n\\n### Jawapan:\\n',\n",
    "    'prompt_no_input': 'Di bawah ialah arahan yang menerangkan tugasan. Tulis jawapan yang sesuai dengan arahan tersebut.\\n\\n### Arahan:\\n{instruction}\\n\\n### Jawapan:\\n',\n",
    "    'response_split': '### Jawapan:',\n",
    "}"
   ]
  },
  {
   "cell_type": "code",
   "execution_count": 12,
   "metadata": {},
   "outputs": [
    {
     "name": "stderr",
     "output_type": "stream",
     "text": [
      "\r",
      "  0%|                                                                                                          | 0/77002 [00:00<?, ?it/s]"
     ]
    },
    {
     "name": "stdout",
     "output_type": "stream",
     "text": [
      "'NoneType' object is not subscriptable\n",
      "'NoneType' object is not subscriptable\n",
      "'NoneType' object is not subscriptable\n",
      "'NoneType' object is not subscriptable\n",
      "'NoneType' object is not subscriptable\n",
      "'NoneType' object is not subscriptable\n",
      "'NoneType' object is not subscriptable\n",
      "'NoneType' object is not subscriptable\n",
      "'NoneType' object is not subscriptable\n",
      "'NoneType' object is not subscriptable\n",
      "'NoneType' object is not subscriptable\n",
      "'NoneType' object is not subscriptable\n",
      "'NoneType' object is not subscriptable\n",
      "'NoneType' object is not subscriptable\n",
      "'NoneType' object is not subscriptable\n",
      "'NoneType' object is not subscriptable\n",
      "'NoneType' object is not subscriptable\n",
      "'NoneType' object is not subscriptable\n",
      "'NoneType' object is not subscriptable\n",
      "'NoneType' object is not subscriptable\n",
      "'NoneType' object is not subscriptable\n",
      "'NoneType' object is not subscriptable\n",
      "'NoneType' object is not subscriptable\n",
      "'NoneType' object is not subscriptable\n",
      "'NoneType' object is not subscriptable\n",
      "'NoneType' object is not subscriptable\n",
      "'NoneType' object is not subscriptable\n",
      "'NoneType' object is not subscriptable\n",
      "'NoneType' object is not subscriptable\n",
      "'NoneType' object is not subscriptable\n",
      "'NoneType' object is not subscriptable\n",
      "'NoneType' object is not subscriptable\n",
      "'NoneType' object is not subscriptable\n",
      "'NoneType' object is not subscriptable\n",
      "'NoneType' object is not subscriptable\n",
      "'NoneType' object is not subscriptable\n",
      "'NoneType' object is not subscriptable\n",
      "'NoneType' object is not subscriptable\n",
      "'NoneType' object is not subscriptable\n",
      "'NoneType' object is not subscriptable\n",
      "'NoneType' object is not subscriptable\n",
      "'NoneType' object is not subscriptable\n",
      "'NoneType' object is not subscriptable\n",
      "'NoneType' object is not subscriptable\n",
      "'NoneType' object is not subscriptable\n",
      "'NoneType' object is not subscriptable\n",
      "'NoneType' object is not subscriptable\n",
      "'NoneType' object is not subscriptable\n",
      "'NoneType' object is not subscriptable\n",
      "'NoneType' object is not subscriptable\n",
      "'NoneType' object is not subscriptable\n",
      "'NoneType' object is not subscriptable\n",
      "'NoneType' object is not subscriptable\n",
      "'NoneType' object is not subscriptable\n",
      "'NoneType' object is not subscriptable\n",
      "'NoneType' object is not subscriptable\n",
      "'NoneType' object is not subscriptable\n",
      "'NoneType' object is not subscriptable\n",
      "'NoneType' object is not subscriptable\n",
      "'NoneType' object is not subscriptable\n",
      "'NoneType' object is not subscriptable\n",
      "'NoneType' object is not subscriptable\n",
      "'NoneType' object is not subscriptable\n",
      "'NoneType' object is not subscriptable\n",
      "'NoneType' object is not subscriptable\n",
      "'NoneType' object is not subscriptable\n",
      "'NoneType' object is not subscriptable\n",
      "'NoneType' object is not subscriptable\n",
      "'NoneType' object is not subscriptable\n",
      "'NoneType' object is not subscriptable\n",
      "'NoneType' object is not subscriptable\n",
      "'NoneType' object is not subscriptable\n",
      "'NoneType' object is not subscriptable\n",
      "'NoneType' object is not subscriptable\n",
      "'NoneType' object is not subscriptable\n",
      "'NoneType' object is not subscriptable\n",
      "'NoneType' object is not subscriptable\n",
      "'NoneType' object is not subscriptable\n",
      "'NoneType' object is not subscriptable\n",
      "'NoneType' object is not subscriptable\n",
      "'NoneType' object is not subscriptable\n",
      "'NoneType' object is not subscriptable\n",
      "'NoneType' object is not subscriptable\n",
      "'NoneType' object is not subscriptable\n",
      "'NoneType' object is not subscriptable\n",
      "'NoneType' object is not subscriptable\n",
      "'NoneType' object is not subscriptable\n",
      "'NoneType' object is not subscriptable\n",
      "'NoneType' object is not subscriptable\n",
      "'NoneType' object is not subscriptable\n",
      "'NoneType' object is not subscriptable\n",
      "'NoneType' object is not subscriptable\n",
      "'NoneType' object is not subscriptable\n",
      "'NoneType' object is not subscriptable\n",
      "'NoneType' object is not subscriptable\n",
      "'NoneType' object is not subscriptable\n",
      "'NoneType' object is not subscriptable\n",
      "'NoneType' object is not subscriptable\n",
      "'NoneType' object is not subscriptable\n",
      "'NoneType' object is not subscriptable\n"
     ]
    },
    {
     "name": "stderr",
     "output_type": "stream",
     "text": [
      "  0%|▎                                                                                             | 295/77002 [02:14<9:11:01,  2.32it/s]"
     ]
    },
    {
     "name": "stdout",
     "output_type": "stream",
     "text": [
      "Extra data: line 18 column 1 (char 829)\n",
      "Extra data: line 18 column 1 (char 790)\n",
      "Extra data: line 18 column 1 (char 617)\n",
      "Extra data: line 18 column 1 (char 665)\n",
      "Extra data: line 18 column 1 (char 752)\n"
     ]
    },
    {
     "name": "stderr",
     "output_type": "stream",
     "text": [
      "  0%|▍                                                                                            | 384/77002 [03:05<15:21:37,  1.39it/s]"
     ]
    },
    {
     "name": "stdout",
     "output_type": "stream",
     "text": [
      "Extra data: line 18 column 1 (char 616)\n"
     ]
    },
    {
     "name": "stderr",
     "output_type": "stream",
     "text": [
      "\r",
      "  1%|▍                                                                                             | 387/77002 [03:05<8:40:08,  2.45it/s]"
     ]
    },
    {
     "name": "stdout",
     "output_type": "stream",
     "text": [
      "Extra data: line 18 column 1 (char 677)\n"
     ]
    },
    {
     "name": "stderr",
     "output_type": "stream",
     "text": [
      "  1%|▍                                                                                            | 391/77002 [03:08<11:33:52,  1.84it/s]"
     ]
    },
    {
     "name": "stdout",
     "output_type": "stream",
     "text": [
      "Extra data: line 18 column 1 (char 855)\n"
     ]
    },
    {
     "name": "stderr",
     "output_type": "stream",
     "text": [
      "  1%|▍                                                                                            | 394/77002 [03:14<28:07:21,  1.32s/it]"
     ]
    },
    {
     "name": "stdout",
     "output_type": "stream",
     "text": [
      "Extra data: line 18 column 1 (char 946)\n",
      "Extra data: line 18 column 1 (char 629)\n",
      "Extra data: line 18 column 1 (char 722)\n",
      "Extra data: line 18 column 1 (char 739)\n"
     ]
    },
    {
     "name": "stderr",
     "output_type": "stream",
     "text": [
      "\r",
      "  1%|▍                                                                                            | 399/77002 [03:15<11:35:57,  1.83it/s]"
     ]
    },
    {
     "name": "stdout",
     "output_type": "stream",
     "text": [
      "Extra data: line 18 column 1 (char 976)\n"
     ]
    },
    {
     "name": "stderr",
     "output_type": "stream",
     "text": [
      "  1%|▌                                                                                             | 499/77002 [04:04<7:09:19,  2.97it/s]"
     ]
    },
    {
     "name": "stdout",
     "output_type": "stream",
     "text": [
      "Extra data: line 18 column 1 (char 812)\n"
     ]
    },
    {
     "name": "stderr",
     "output_type": "stream",
     "text": [
      "  1%|▋                                                                                            | 599/77002 [05:40<25:44:20,  1.21s/it]"
     ]
    },
    {
     "name": "stdout",
     "output_type": "stream",
     "text": [
      "Extra data: line 18 column 1 (char 1365)\n"
     ]
    },
    {
     "name": "stderr",
     "output_type": "stream",
     "text": [
      "  1%|▊                                                                                            | 698/77002 [06:38<10:09:35,  2.09it/s]"
     ]
    },
    {
     "name": "stdout",
     "output_type": "stream",
     "text": [
      "Extra data: line 7 column 1 (char 673)\n"
     ]
    },
    {
     "name": "stderr",
     "output_type": "stream",
     "text": [
      "  1%|▉                                                                                             | 796/77002 [07:50<7:35:30,  2.79it/s]"
     ]
    },
    {
     "name": "stdout",
     "output_type": "stream",
     "text": [
      "Extra data: line 18 column 1 (char 1033)\n"
     ]
    },
    {
     "name": "stderr",
     "output_type": "stream",
     "text": [
      "\r",
      "  1%|▉                                                                                             | 798/77002 [07:51<8:17:49,  2.55it/s]"
     ]
    },
    {
     "name": "stdout",
     "output_type": "stream",
     "text": [
      "Extra data: line 18 column 1 (char 868)\n",
      "Extra data: line 18 column 1 (char 775)\n",
      "'NoneType' object is not subscriptable\n",
      "'NoneType' object is not subscriptable\n"
     ]
    },
    {
     "name": "stderr",
     "output_type": "stream",
     "text": [
      "  1%|█                                                                                            | 879/77002 [08:37<15:14:39,  1.39it/s]"
     ]
    },
    {
     "name": "stdout",
     "output_type": "stream",
     "text": [
      "Extra data: line 18 column 1 (char 686)\n"
     ]
    },
    {
     "name": "stderr",
     "output_type": "stream",
     "text": [
      "  1%|█                                                                                            | 883/77002 [08:39<14:36:20,  1.45it/s]"
     ]
    },
    {
     "name": "stdout",
     "output_type": "stream",
     "text": [
      "Extra data: line 18 column 1 (char 563)\n",
      "Extra data: line 18 column 1 (char 611)\n"
     ]
    },
    {
     "name": "stderr",
     "output_type": "stream",
     "text": [
      "  1%|█                                                                                             | 887/77002 [08:40<9:20:37,  2.26it/s]"
     ]
    },
    {
     "name": "stdout",
     "output_type": "stream",
     "text": [
      "Extra data: line 18 column 1 (char 665)\n"
     ]
    },
    {
     "name": "stderr",
     "output_type": "stream",
     "text": [
      "\r",
      "  1%|█                                                                                             | 889/77002 [08:41<6:50:31,  3.09it/s]"
     ]
    },
    {
     "name": "stdout",
     "output_type": "stream",
     "text": [
      "Extra data: line 18 column 1 (char 629)\n",
      "Extra data: line 18 column 1 (char 827)\n",
      "Extra data: line 18 column 1 (char 962)\n",
      "Extra data: line 18 column 1 (char 680)\n",
      "Extra data: line 18 column 1 (char 766)\n",
      "Extra data: line 18 column 1 (char 1211)\n",
      "Extra data: line 18 column 1 (char 907)\n"
     ]
    },
    {
     "name": "stderr",
     "output_type": "stream",
     "text": [
      "\r",
      "  1%|█                                                                                             | 898/77002 [08:41<2:29:10,  8.50it/s]"
     ]
    },
    {
     "name": "stdout",
     "output_type": "stream",
     "text": [
      "Extra data: line 18 column 1 (char 757)\n",
      "Extra data: line 18 column 1 (char 1206)\n"
     ]
    },
    {
     "name": "stderr",
     "output_type": "stream",
     "text": [
      "  1%|█▏                                                                                            | 983/77002 [09:33<9:34:41,  2.20it/s]"
     ]
    },
    {
     "name": "stdout",
     "output_type": "stream",
     "text": [
      "Extra data: line 18 column 1 (char 714)\n",
      "Extra data: line 18 column 1 (char 758)\n",
      "Extra data: line 18 column 1 (char 546)\n",
      "Extra data: line 18 column 1 (char 560)\n",
      "Extra data: line 18 column 1 (char 942)\n",
      "Extra data: line 18 column 1 (char 599)\n"
     ]
    },
    {
     "name": "stderr",
     "output_type": "stream",
     "text": [
      "\r",
      "  1%|█▏                                                                                            | 991/77002 [09:34<4:06:57,  5.13it/s]"
     ]
    },
    {
     "name": "stdout",
     "output_type": "stream",
     "text": [
      "Extra data: line 18 column 1 (char 613)\n"
     ]
    },
    {
     "name": "stderr",
     "output_type": "stream",
     "text": [
      "  1%|█▏                                                                                            | 994/77002 [09:34<5:07:58,  4.11it/s]"
     ]
    },
    {
     "name": "stdout",
     "output_type": "stream",
     "text": [
      "Extra data: line 18 column 1 (char 940)\n",
      "Extra data: line 18 column 1 (char 1028)\n",
      "Extra data: line 18 column 1 (char 1047)\n"
     ]
    },
    {
     "name": "stderr",
     "output_type": "stream",
     "text": [
      "\r",
      "  1%|█▏                                                                                            | 999/77002 [09:35<3:42:27,  5.69it/s]"
     ]
    },
    {
     "name": "stdout",
     "output_type": "stream",
     "text": [
      "Extra data: line 18 column 1 (char 802)\n"
     ]
    },
    {
     "name": "stderr",
     "output_type": "stream",
     "text": [
      "  2%|█▍                                                                                           | 1198/77002 [11:15<8:03:10,  2.61it/s]"
     ]
    },
    {
     "name": "stdout",
     "output_type": "stream",
     "text": [
      "Extra data: line 18 column 1 (char 775)\n",
      "Extra data: line 18 column 1 (char 963)\n"
     ]
    },
    {
     "name": "stderr",
     "output_type": "stream",
     "text": [
      "  2%|█▌                                                                                           | 1286/77002 [11:53<9:51:41,  2.13it/s]"
     ]
    },
    {
     "name": "stdout",
     "output_type": "stream",
     "text": [
      "Extra data: line 18 column 1 (char 653)\n"
     ]
    },
    {
     "name": "stderr",
     "output_type": "stream",
     "text": [
      "  2%|█▌                                                                                           | 1298/77002 [11:56<3:36:17,  5.83it/s]"
     ]
    },
    {
     "name": "stdout",
     "output_type": "stream",
     "text": [
      "Extra data: line 18 column 1 (char 622)\n",
      "Extra data: line 18 column 1 (char 678)\n",
      "Extra data: line 18 column 1 (char 603)\n",
      "Extra data: line 18 column 1 (char 702)\n",
      "Extra data: line 18 column 1 (char 753)\n"
     ]
    },
    {
     "name": "stderr",
     "output_type": "stream",
     "text": [
      "  2%|█▋                                                                                           | 1391/77002 [12:57<7:32:10,  2.79it/s]"
     ]
    },
    {
     "name": "stdout",
     "output_type": "stream",
     "text": [
      "Extra data: line 18 column 1 (char 696)\n",
      "Extra data: line 18 column 1 (char 807)\n",
      "Extra data: line 18 column 1 (char 646)\n",
      "Extra data: line 18 column 1 (char 668)\n",
      "Extra data: line 18 column 1 (char 626)\n",
      "Extra data: line 18 column 1 (char 997)\n"
     ]
    },
    {
     "name": "stderr",
     "output_type": "stream",
     "text": [
      "  2%|█▋                                                                                           | 1401/77002 [12:57<2:29:44,  8.42it/s]"
     ]
    },
    {
     "name": "stdout",
     "output_type": "stream",
     "text": [
      "Extra data: line 18 column 1 (char 844)\n",
      "Extra data: line 18 column 1 (char 552)\n",
      "Extra data: line 18 column 1 (char 789)\n"
     ]
    },
    {
     "name": "stderr",
     "output_type": "stream",
     "text": [
      "  2%|██                                                                                           | 1676/77002 [16:34<5:43:52,  3.65it/s]"
     ]
    },
    {
     "name": "stdout",
     "output_type": "stream",
     "text": [
      "Extra data: line 18 column 1 (char 622)\n"
     ]
    },
    {
     "name": "stderr",
     "output_type": "stream",
     "text": [
      "\r",
      "  2%|██                                                                                           | 1678/77002 [16:35<5:31:04,  3.79it/s]"
     ]
    },
    {
     "name": "stdout",
     "output_type": "stream",
     "text": [
      "Extra data: line 18 column 1 (char 703)\n"
     ]
    },
    {
     "name": "stderr",
     "output_type": "stream",
     "text": [
      "\r",
      "  2%|██                                                                                           | 1681/77002 [16:36<5:31:50,  3.78it/s]"
     ]
    },
    {
     "name": "stdout",
     "output_type": "stream",
     "text": [
      "Extra data: line 18 column 1 (char 784)\n",
      "Extra data: line 18 column 1 (char 700)\n",
      "Extra data: line 18 column 1 (char 743)\n",
      "Extra data: line 18 column 1 (char 821)\n",
      "Extra data: line 18 column 1 (char 822)\n",
      "Extra data: line 18 column 1 (char 783)\n",
      "Extra data: line 18 column 1 (char 824)\n",
      "Extra data: line 18 column 1 (char 826)\n",
      "Extra data: line 18 column 1 (char 822)\n",
      "Extra data: line 18 column 1 (char 895)\n"
     ]
    },
    {
     "name": "stderr",
     "output_type": "stream",
     "text": [
      "  2%|██                                                                                           | 1695/77002 [16:36<2:00:39, 10.40it/s]"
     ]
    },
    {
     "name": "stdout",
     "output_type": "stream",
     "text": [
      "Extra data: line 18 column 1 (char 1132)\n",
      "Extra data: line 18 column 1 (char 1291)\n",
      "Extra data: line 18 column 1 (char 763)\n",
      "Extra data: line 18 column 1 (char 587)\n",
      "Extra data: line 18 column 1 (char 977)\n",
      "Extra data: line 18 column 1 (char 968)\n",
      "'NoneType' object is not subscriptable\n",
      "'NoneType' object is not subscriptable\n",
      "'NoneType' object is not subscriptable\n",
      "'NoneType' object is not subscriptable\n",
      "'NoneType' object is not subscriptable\n",
      "'NoneType' object is not subscriptable\n",
      "'NoneType' object is not subscriptable\n",
      "'NoneType' object is not subscriptable\n",
      "'NoneType' object is not subscriptable\n",
      "'NoneType' object is not subscriptable\n",
      "'NoneType' object is not subscriptable\n",
      "'NoneType' object is not subscriptable\n",
      "'NoneType' object is not subscriptable\n",
      "'NoneType' object is not subscriptable\n",
      "'NoneType' object is not subscriptable\n",
      "'NoneType' object is not subscriptable\n",
      "'NoneType' object is not subscriptable\n",
      "'NoneType' object is not subscriptable\n",
      "'NoneType' object is not subscriptable\n",
      "'NoneType' object is not subscriptable\n",
      "'NoneType' object is not subscriptable\n"
     ]
    },
    {
     "name": "stderr",
     "output_type": "stream",
     "text": [
      "  2%|██▏                                                                                         | 1787/77002 [17:12<15:47:28,  1.32it/s]"
     ]
    },
    {
     "name": "stdout",
     "output_type": "stream",
     "text": [
      "Extra data: line 18 column 1 (char 666)\n"
     ]
    },
    {
     "name": "stderr",
     "output_type": "stream",
     "text": [
      "  2%|██▏                                                                                         | 1796/77002 [17:17<14:19:53,  1.46it/s]"
     ]
    },
    {
     "name": "stdout",
     "output_type": "stream",
     "text": [
      "Extra data: line 18 column 1 (char 1508)\n",
      "Extra data: line 18 column 1 (char 712)\n"
     ]
    },
    {
     "name": "stderr",
     "output_type": "stream",
     "text": [
      "  2%|██▎                                                                                         | 1893/77002 [18:06<10:36:08,  1.97it/s]"
     ]
    },
    {
     "name": "stdout",
     "output_type": "stream",
     "text": [
      "Extra data: line 18 column 1 (char 853)\n"
     ]
    },
    {
     "name": "stderr",
     "output_type": "stream",
     "text": [
      "  2%|██▎                                                                                         | 1897/77002 [18:08<10:49:43,  1.93it/s]"
     ]
    },
    {
     "name": "stdout",
     "output_type": "stream",
     "text": [
      "Extra data: line 18 column 1 (char 858)\n",
      "Extra data: line 18 column 1 (char 858)\n"
     ]
    },
    {
     "name": "stderr",
     "output_type": "stream",
     "text": [
      "  3%|██▍                                                                                          | 1991/77002 [19:10<8:17:57,  2.51it/s]"
     ]
    },
    {
     "name": "stdout",
     "output_type": "stream",
     "text": [
      "Extra data: line 18 column 1 (char 633)\n",
      "Extra data: line 18 column 1 (char 580)\n"
     ]
    },
    {
     "name": "stderr",
     "output_type": "stream",
     "text": [
      "  3%|██▍                                                                                          | 1995/77002 [19:11<6:17:09,  3.31it/s]"
     ]
    },
    {
     "name": "stdout",
     "output_type": "stream",
     "text": [
      "Extra data: line 18 column 1 (char 676)\n",
      "Extra data: line 18 column 1 (char 650)\n",
      "Extra data: line 18 column 1 (char 780)\n",
      "Extra data: line 18 column 1 (char 872)\n",
      "Extra data: line 18 column 1 (char 849)\n",
      "'NoneType' object is not subscriptable\n",
      "'NoneType' object is not subscriptable\n",
      "'NoneType' object is not subscriptable\n",
      "'NoneType' object is not subscriptable\n",
      "'NoneType' object is not subscriptable\n",
      "'NoneType' object is not subscriptable\n",
      "'NoneType' object is not subscriptable\n",
      "'NoneType' object is not subscriptable\n",
      "'NoneType' object is not subscriptable\n",
      "'NoneType' object is not subscriptable\n",
      "'NoneType' object is not subscriptable\n",
      "'NoneType' object is not subscriptable\n",
      "'NoneType' object is not subscriptable\n",
      "'NoneType' object is not subscriptable\n",
      "'NoneType' object is not subscriptable\n",
      "'NoneType' object is not subscriptable\n",
      "'NoneType' object is not subscriptable\n",
      "'NoneType' object is not subscriptable\n",
      "'NoneType' object is not subscriptable\n",
      "'NoneType' object is not subscriptable\n",
      "'NoneType' object is not subscriptable\n"
     ]
    },
    {
     "name": "stderr",
     "output_type": "stream",
     "text": [
      "  3%|██▌                                                                                          | 2088/77002 [19:48<8:35:10,  2.42it/s]"
     ]
    },
    {
     "name": "stdout",
     "output_type": "stream",
     "text": [
      "Extra data: line 7 column 1 (char 698)\n"
     ]
    },
    {
     "name": "stderr",
     "output_type": "stream",
     "text": [
      "  3%|██▍                                                                                         | 2092/77002 [19:50<11:03:41,  1.88it/s]"
     ]
    },
    {
     "name": "stdout",
     "output_type": "stream",
     "text": [
      "Extra data: line 7 column 1 (char 586)\n",
      "Extra data: line 18 column 1 (char 548)\n"
     ]
    },
    {
     "name": "stderr",
     "output_type": "stream",
     "text": [
      "\r",
      "  3%|██▌                                                                                          | 2095/77002 [19:51<9:19:30,  2.23it/s]"
     ]
    },
    {
     "name": "stdout",
     "output_type": "stream",
     "text": [
      "Extra data: line 18 column 1 (char 1299)\n",
      "Extra data: line 18 column 1 (char 757)\n"
     ]
    },
    {
     "name": "stderr",
     "output_type": "stream",
     "text": [
      "  3%|██▌                                                                                         | 2099/77002 [19:58<20:41:04,  1.01it/s]"
     ]
    },
    {
     "name": "stdout",
     "output_type": "stream",
     "text": [
      "'NoneType' object is not subscriptable\n"
     ]
    },
    {
     "name": "stderr",
     "output_type": "stream",
     "text": [
      "  3%|██▌                                                                                         | 2103/77002 [19:58<11:22:17,  1.83it/s]"
     ]
    },
    {
     "name": "stdout",
     "output_type": "stream",
     "text": [
      "Extra data: line 1 column 2 (char 1)\n"
     ]
    },
    {
     "name": "stderr",
     "output_type": "stream",
     "text": [
      "  3%|██▌                                                                                          | 2164/77002 [20:41<5:32:29,  3.75it/s]"
     ]
    },
    {
     "name": "stdout",
     "output_type": "stream",
     "text": [
      "Extra data: line 18 column 1 (char 568)\n"
     ]
    },
    {
     "name": "stderr",
     "output_type": "stream",
     "text": [
      "  3%|██▌                                                                                         | 2186/77002 [21:10<15:50:51,  1.31it/s]"
     ]
    },
    {
     "name": "stdout",
     "output_type": "stream",
     "text": [
      "Extra data: line 18 column 1 (char 806)\n",
      "Extra data: line 18 column 1 (char 807)\n"
     ]
    },
    {
     "name": "stderr",
     "output_type": "stream",
     "text": [
      "\r",
      "  3%|██▌                                                                                         | 2189/77002 [21:11<10:24:08,  2.00it/s]"
     ]
    },
    {
     "name": "stdout",
     "output_type": "stream",
     "text": [
      "Extra data: line 7 column 1 (char 848)\n"
     ]
    },
    {
     "name": "stderr",
     "output_type": "stream",
     "text": [
      "  3%|██▋                                                                                          | 2193/77002 [21:12<8:43:04,  2.38it/s]"
     ]
    },
    {
     "name": "stdout",
     "output_type": "stream",
     "text": [
      "Extra data: line 18 column 1 (char 995)\n"
     ]
    },
    {
     "name": "stderr",
     "output_type": "stream",
     "text": [
      "  3%|██▋                                                                                         | 2290/77002 [22:35<27:41:53,  1.33s/it]"
     ]
    },
    {
     "name": "stdout",
     "output_type": "stream",
     "text": [
      "Extra data: line 18 column 1 (char 984)\n",
      "Extra data: line 18 column 1 (char 685)\n",
      "Extra data: line 18 column 1 (char 696)\n",
      "Extra data: line 18 column 1 (char 785)\n",
      "Extra data: line 18 column 1 (char 676)\n",
      "Extra data: line 18 column 1 (char 846)\n",
      "Extra data: line 18 column 1 (char 749)\n",
      "Extra data: line 18 column 1 (char 853)\n"
     ]
    },
    {
     "name": "stderr",
     "output_type": "stream",
     "text": [
      "\r",
      "  3%|██▊                                                                                          | 2299/77002 [22:35<6:29:14,  3.20it/s]"
     ]
    },
    {
     "name": "stdout",
     "output_type": "stream",
     "text": [
      "Extra data: line 18 column 1 (char 651)\n"
     ]
    },
    {
     "name": "stderr",
     "output_type": "stream",
     "text": [
      "  3%|██▊                                                                                         | 2378/77002 [23:15<10:43:16,  1.93it/s]"
     ]
    },
    {
     "name": "stdout",
     "output_type": "stream",
     "text": [
      "Extra data: line 18 column 1 (char 613)\n"
     ]
    },
    {
     "name": "stderr",
     "output_type": "stream",
     "text": [
      "  3%|██▉                                                                                          | 2385/77002 [23:17<8:31:42,  2.43it/s]"
     ]
    },
    {
     "name": "stdout",
     "output_type": "stream",
     "text": [
      "Extra data: line 18 column 1 (char 629)\n"
     ]
    },
    {
     "name": "stderr",
     "output_type": "stream",
     "text": [
      "  3%|██▊                                                                                         | 2390/77002 [23:21<13:16:15,  1.56it/s]"
     ]
    },
    {
     "name": "stdout",
     "output_type": "stream",
     "text": [
      "Extra data: line 18 column 1 (char 483)\n"
     ]
    },
    {
     "name": "stderr",
     "output_type": "stream",
     "text": [
      "\r",
      "  3%|██▊                                                                                         | 2392/77002 [23:22<13:22:47,  1.55it/s]"
     ]
    },
    {
     "name": "stdout",
     "output_type": "stream",
     "text": [
      "Extra data: line 18 column 1 (char 708)\n",
      "Extra data: line 18 column 1 (char 619)\n",
      "Extra data: line 18 column 1 (char 789)\n",
      "Extra data: line 18 column 1 (char 812)\n",
      "Extra data: line 18 column 1 (char 941)\n"
     ]
    },
    {
     "name": "stderr",
     "output_type": "stream",
     "text": [
      "  3%|██▉                                                                                          | 2399/77002 [23:23<7:13:52,  2.87it/s]"
     ]
    },
    {
     "name": "stdout",
     "output_type": "stream",
     "text": [
      "Extra data: line 18 column 1 (char 972)\n"
     ]
    },
    {
     "name": "stderr",
     "output_type": "stream",
     "text": [
      "  3%|██▉                                                                                         | 2484/77002 [24:12<11:27:52,  1.81it/s]"
     ]
    },
    {
     "name": "stdout",
     "output_type": "stream",
     "text": [
      "Extra data: line 18 column 1 (char 819)\n",
      "Extra data: line 18 column 1 (char 1102)\n",
      "Extra data: line 18 column 1 (char 1128)\n",
      "Extra data: line 18 column 1 (char 757)\n",
      "Extra data: line 18 column 1 (char 757)\n",
      "Extra data: line 18 column 1 (char 660)\n",
      "Extra data: line 7 column 1 (char 1024)\n",
      "Extra data: line 18 column 1 (char 655)\n",
      "Extra data: line 18 column 1 (char 811)\n",
      "Extra data: line 7 column 1 (char 859)\n",
      "Extra data: line 7 column 1 (char 859)\n",
      "Extra data: line 18 column 1 (char 950)\n"
     ]
    },
    {
     "name": "stderr",
     "output_type": "stream",
     "text": [
      "\r",
      "  3%|███                                                                                          | 2497/77002 [24:12<2:09:13,  9.61it/s]"
     ]
    },
    {
     "name": "stdout",
     "output_type": "stream",
     "text": [
      "Extra data: line 7 column 1 (char 1018)\n",
      "Extra data: line 18 column 1 (char 954)\n",
      "'NoneType' object is not subscriptable\n"
     ]
    },
    {
     "name": "stderr",
     "output_type": "stream",
     "text": [
      "  3%|███                                                                                          | 2580/77002 [24:57<9:48:51,  2.11it/s]"
     ]
    },
    {
     "name": "stdout",
     "output_type": "stream",
     "text": [
      "Extra data: line 18 column 1 (char 786)\n",
      "Extra data: line 18 column 1 (char 747)\n",
      "Extra data: line 18 column 1 (char 674)\n",
      "Extra data: line 18 column 1 (char 709)\n",
      "Extra data: line 18 column 1 (char 643)\n",
      "Extra data: line 18 column 1 (char 761)\n",
      "Extra data: line 18 column 1 (char 1085)\n",
      "Extra data: line 18 column 1 (char 593)\n",
      "Extra data: line 18 column 1 (char 993)\n",
      "Extra data: line 18 column 1 (char 721)\n",
      "Extra data: line 18 column 1 (char 733)\n"
     ]
    },
    {
     "name": "stderr",
     "output_type": "stream",
     "text": [
      "\r",
      "  3%|███▏                                                                                         | 2592/77002 [24:57<2:14:28,  9.22it/s]"
     ]
    },
    {
     "name": "stdout",
     "output_type": "stream",
     "text": [
      "Extra data: line 18 column 1 (char 638)\n",
      "Extra data: line 18 column 1 (char 841)\n",
      "Extra data: line 18 column 1 (char 919)\n",
      "Extra data: line 18 column 1 (char 840)\n",
      "Extra data: line 18 column 1 (char 975)\n",
      "Extra data: line 18 column 1 (char 919)\n",
      "Extra data: line 18 column 1 (char 772)\n",
      "Extra data: line 18 column 1 (char 1240)\n"
     ]
    },
    {
     "name": "stderr",
     "output_type": "stream",
     "text": [
      "  4%|███▎                                                                                        | 2787/77002 [26:38<16:32:08,  1.25it/s]"
     ]
    },
    {
     "name": "stdout",
     "output_type": "stream",
     "text": [
      "Extra data: line 7 column 1 (char 665)\n"
     ]
    },
    {
     "name": "stderr",
     "output_type": "stream",
     "text": [
      "  4%|███▎                                                                                        | 2797/77002 [26:43<13:41:20,  1.51it/s]"
     ]
    },
    {
     "name": "stdout",
     "output_type": "stream",
     "text": [
      "Extra data: line 18 column 1 (char 827)\n",
      "Extra data: line 18 column 1 (char 827)\n",
      "Extra data: line 18 column 1 (char 943)\n"
     ]
    },
    {
     "name": "stderr",
     "output_type": "stream",
     "text": [
      "  4%|███▍                                                                                         | 2864/77002 [26:59<1:48:58, 11.34it/s]"
     ]
    },
    {
     "name": "stdout",
     "output_type": "stream",
     "text": [
      "Extra data: line 18 column 1 (char 1246)\n",
      "Extra data: line 18 column 1 (char 1246)\n",
      "Extra data: line 18 column 1 (char 1246)\n",
      "Extra data: line 18 column 1 (char 1246)\n",
      "Extra data: line 18 column 1 (char 1246)\n",
      "Extra data: line 18 column 1 (char 1246)\n"
     ]
    },
    {
     "name": "stderr",
     "output_type": "stream",
     "text": [
      "  4%|███▌                                                                                           | 2901/77002 [27:00<25:52, 47.73it/s]"
     ]
    },
    {
     "name": "stdout",
     "output_type": "stream",
     "text": [
      "Extra data: line 18 column 1 (char 1061)\n",
      "Extra data: line 18 column 1 (char 1061)\n",
      "Extra data: line 18 column 1 (char 1061)\n",
      "Extra data: line 18 column 1 (char 1061)\n",
      "Extra data: line 18 column 1 (char 1061)\n",
      "Extra data: line 18 column 1 (char 1075)\n",
      "Extra data: line 18 column 1 (char 1061)\n",
      "Extra data: line 18 column 1 (char 1061)\n",
      "Extra data: line 18 column 1 (char 1061)\n",
      "Extra data: line 18 column 1 (char 1027)\n",
      "Extra data: line 18 column 1 (char 1061)\n",
      "Extra data: line 18 column 1 (char 1061)\n",
      "Extra data: line 18 column 1 (char 1061)\n",
      "Extra data: line 18 column 1 (char 1061)\n",
      "Extra data: line 18 column 1 (char 1061)\n",
      "Extra data: line 18 column 1 (char 1061)\n",
      "Extra data: line 18 column 1 (char 1061)\n",
      "Extra data: line 18 column 1 (char 1061)\n",
      "Extra data: line 18 column 1 (char 1065)\n",
      "Extra data: line 18 column 1 (char 1061)\n",
      "Extra data: line 18 column 1 (char 1061)\n",
      "Extra data: line 18 column 1 (char 1061)\n",
      "Extra data: line 18 column 1 (char 1083)\n",
      "Extra data: line 18 column 1 (char 1061)\n",
      "Extra data: line 18 column 1 (char 1240)\n",
      "Extra data: line 18 column 1 (char 1061)\n",
      "Extra data: line 18 column 1 (char 1240)\n",
      "Extra data: line 18 column 1 (char 1240)\n",
      "Extra data: line 18 column 1 (char 1240)\n",
      "Extra data: line 18 column 1 (char 1240)\n",
      "Extra data: line 18 column 1 (char 1027)\n",
      "Extra data: line 18 column 1 (char 1027)\n",
      "Extra data: line 18 column 1 (char 1043)\n"
     ]
    },
    {
     "name": "stderr",
     "output_type": "stream",
     "text": [
      "  4%|███▌                                                                                         | 2997/77002 [27:50<2:31:35,  8.14it/s]"
     ]
    },
    {
     "name": "stdout",
     "output_type": "stream",
     "text": [
      "Extra data: line 18 column 1 (char 639)\n",
      "Extra data: line 18 column 1 (char 1126)\n",
      "Extra data: line 18 column 1 (char 842)\n",
      "Extra data: line 18 column 1 (char 855)\n"
     ]
    },
    {
     "name": "stderr",
     "output_type": "stream",
     "text": [
      "  4%|███▋                                                                                        | 3092/77002 [28:45<14:26:06,  1.42it/s]"
     ]
    },
    {
     "name": "stdout",
     "output_type": "stream",
     "text": [
      "Extra data: line 18 column 1 (char 975)\n",
      "Extra data: line 18 column 1 (char 1013)\n",
      "Extra data: line 18 column 1 (char 853)\n",
      "Extra data: line 18 column 1 (char 809)\n",
      "Extra data: line 18 column 1 (char 760)\n",
      "Extra data: line 18 column 1 (char 854)\n"
     ]
    },
    {
     "name": "stderr",
     "output_type": "stream",
     "text": [
      "\r",
      "  4%|███▋                                                                                         | 3099/77002 [28:45<4:36:51,  4.45it/s]"
     ]
    },
    {
     "name": "stdout",
     "output_type": "stream",
     "text": [
      "Extra data: line 18 column 1 (char 669)\n"
     ]
    },
    {
     "name": "stderr",
     "output_type": "stream",
     "text": [
      "  4%|███▊                                                                                         | 3196/77002 [29:31<8:32:39,  2.40it/s]"
     ]
    },
    {
     "name": "stdout",
     "output_type": "stream",
     "text": [
      "Extra data: line 18 column 1 (char 677)\n",
      "Extra data: line 18 column 1 (char 614)\n",
      "Extra data: line 18 column 1 (char 711)\n"
     ]
    },
    {
     "name": "stderr",
     "output_type": "stream",
     "text": [
      "  4%|███▉                                                                                         | 3294/77002 [30:19<8:32:23,  2.40it/s]"
     ]
    },
    {
     "name": "stdout",
     "output_type": "stream",
     "text": [
      "Extra data: line 18 column 1 (char 1085)\n",
      "Extra data: line 7 column 1 (char 665)\n",
      "Extra data: line 18 column 1 (char 1025)\n"
     ]
    },
    {
     "name": "stderr",
     "output_type": "stream",
     "text": [
      "  4%|████                                                                                         | 3393/77002 [31:10<8:46:00,  2.33it/s]"
     ]
    },
    {
     "name": "stdout",
     "output_type": "stream",
     "text": [
      "Extra data: line 18 column 1 (char 1014)\n"
     ]
    },
    {
     "name": "stderr",
     "output_type": "stream",
     "text": [
      "\r",
      "  4%|████                                                                                         | 3395/77002 [31:10<7:49:18,  2.61it/s]"
     ]
    },
    {
     "name": "stdout",
     "output_type": "stream",
     "text": [
      "Extra data: line 18 column 1 (char 857)\n"
     ]
    },
    {
     "name": "stderr",
     "output_type": "stream",
     "text": [
      "  5%|████▏                                                                                       | 3498/77002 [32:31<21:12:41,  1.04s/it]"
     ]
    },
    {
     "name": "stdout",
     "output_type": "stream",
     "text": [
      "Extra data: line 18 column 1 (char 847)\n"
     ]
    },
    {
     "name": "stderr",
     "output_type": "stream",
     "text": [
      "  5%|████▎                                                                                        | 3594/77002 [33:27<8:37:10,  2.37it/s]"
     ]
    },
    {
     "name": "stdout",
     "output_type": "stream",
     "text": [
      "Extra data: line 18 column 1 (char 853)\n"
     ]
    },
    {
     "name": "stderr",
     "output_type": "stream",
     "text": [
      "  5%|████▍                                                                                        | 3693/77002 [34:20<6:39:52,  3.06it/s]"
     ]
    },
    {
     "name": "stdout",
     "output_type": "stream",
     "text": [
      "Extra data: line 18 column 1 (char 846)\n"
     ]
    },
    {
     "name": "stderr",
     "output_type": "stream",
     "text": [
      "\r",
      "  5%|████▍                                                                                        | 3695/77002 [34:20<6:21:01,  3.21it/s]"
     ]
    },
    {
     "name": "stdout",
     "output_type": "stream",
     "text": [
      "Extra data: line 18 column 1 (char 857)\n",
      "Extra data: line 18 column 1 (char 853)\n"
     ]
    },
    {
     "name": "stderr",
     "output_type": "stream",
     "text": [
      "  5%|████▌                                                                                        | 3794/77002 [35:13<5:45:47,  3.53it/s]"
     ]
    },
    {
     "name": "stdout",
     "output_type": "stream",
     "text": [
      "Extra data: line 18 column 1 (char 627)\n",
      "Extra data: line 18 column 1 (char 1014)\n",
      "Extra data: line 18 column 1 (char 647)\n",
      "Extra data: line 18 column 1 (char 548)\n",
      "Extra data: line 18 column 1 (char 772)\n"
     ]
    },
    {
     "name": "stderr",
     "output_type": "stream",
     "text": [
      "  5%|████▋                                                                                       | 3898/77002 [36:11<10:08:54,  2.00it/s]"
     ]
    },
    {
     "name": "stdout",
     "output_type": "stream",
     "text": [
      "Extra data: line 18 column 1 (char 832)\n",
      "Extra data: line 18 column 1 (char 642)\n"
     ]
    },
    {
     "name": "stderr",
     "output_type": "stream",
     "text": [
      "  5%|████▊                                                                                       | 3979/77002 [37:30<13:46:16,  1.47it/s]"
     ]
    },
    {
     "name": "stdout",
     "output_type": "stream",
     "text": [
      "Extra data: line 18 column 1 (char 503)\n",
      "Extra data: line 18 column 1 (char 575)\n",
      "Extra data: line 18 column 1 (char 983)\n",
      "Extra data: line 18 column 1 (char 847)\n"
     ]
    },
    {
     "name": "stderr",
     "output_type": "stream",
     "text": [
      "\r",
      "  5%|████▊                                                                                       | 3985/77002 [37:37<20:01:55,  1.01it/s]"
     ]
    },
    {
     "name": "stdout",
     "output_type": "stream",
     "text": [
      "Extra data: line 18 column 1 (char 810)\n"
     ]
    },
    {
     "name": "stderr",
     "output_type": "stream",
     "text": [
      "\r",
      "  5%|████▊                                                                                       | 3987/77002 [37:38<17:28:12,  1.16it/s]"
     ]
    },
    {
     "name": "stdout",
     "output_type": "stream",
     "text": [
      "Extra data: line 18 column 1 (char 645)\n",
      "Extra data: line 18 column 1 (char 878)\n",
      "Extra data: line 18 column 1 (char 764)\n",
      "Extra data: line 18 column 1 (char 772)\n",
      "Extra data: line 18 column 1 (char 774)\n",
      "Extra data: line 18 column 1 (char 820)\n",
      "Extra data: line 18 column 1 (char 763)\n",
      "Extra data: line 18 column 1 (char 909)\n"
     ]
    },
    {
     "name": "stderr",
     "output_type": "stream",
     "text": [
      "\r",
      "  5%|████▊                                                                                        | 3996/77002 [37:38<6:56:29,  2.92it/s]"
     ]
    },
    {
     "name": "stdout",
     "output_type": "stream",
     "text": [
      "Extra data: line 18 column 1 (char 917)\n",
      "Extra data: line 18 column 1 (char 905)\n",
      "Extra data: line 18 column 1 (char 1071)\n"
     ]
    },
    {
     "name": "stderr",
     "output_type": "stream",
     "text": [
      "  5%|████▉                                                                                        | 4089/77002 [38:45<9:59:15,  2.03it/s]"
     ]
    },
    {
     "name": "stdout",
     "output_type": "stream",
     "text": [
      "Extra data: line 18 column 1 (char 677)\n"
     ]
    },
    {
     "name": "stderr",
     "output_type": "stream",
     "text": [
      "  5%|████▉                                                                                        | 4096/77002 [38:49<9:31:22,  2.13it/s]"
     ]
    },
    {
     "name": "stdout",
     "output_type": "stream",
     "text": [
      "Extra data: line 18 column 1 (char 576)\n",
      "Extra data: line 18 column 1 (char 584)\n",
      "Extra data: line 18 column 1 (char 907)\n",
      "Extra data: line 18 column 1 (char 876)\n"
     ]
    },
    {
     "name": "stderr",
     "output_type": "stream",
     "text": [
      "  5%|█████                                                                                        | 4173/77002 [39:33<5:28:58,  3.69it/s]"
     ]
    },
    {
     "name": "stdout",
     "output_type": "stream",
     "text": [
      "Extra data: line 18 column 1 (char 389)\n"
     ]
    },
    {
     "name": "stderr",
     "output_type": "stream",
     "text": [
      "  5%|█████                                                                                        | 4184/77002 [39:40<9:46:23,  2.07it/s]"
     ]
    },
    {
     "name": "stdout",
     "output_type": "stream",
     "text": [
      "Extra data: line 18 column 1 (char 657)\n"
     ]
    },
    {
     "name": "stderr",
     "output_type": "stream",
     "text": [
      "  5%|█████                                                                                        | 4189/77002 [39:42<9:14:34,  2.19it/s]"
     ]
    },
    {
     "name": "stdout",
     "output_type": "stream",
     "text": [
      "Extra data: line 18 column 1 (char 799)\n"
     ]
    },
    {
     "name": "stderr",
     "output_type": "stream",
     "text": [
      "  5%|█████                                                                                       | 4192/77002 [39:44<10:18:14,  1.96it/s]"
     ]
    },
    {
     "name": "stdout",
     "output_type": "stream",
     "text": [
      "Extra data: line 18 column 1 (char 676)\n"
     ]
    },
    {
     "name": "stderr",
     "output_type": "stream",
     "text": [
      "\r",
      "  5%|█████                                                                                        | 4194/77002 [39:44<9:49:14,  2.06it/s]"
     ]
    },
    {
     "name": "stdout",
     "output_type": "stream",
     "text": [
      "Extra data: line 18 column 1 (char 676)\n",
      "Extra data: line 18 column 1 (char 686)\n",
      "Extra data: line 18 column 1 (char 677)\n",
      "Extra data: line 18 column 1 (char 633)\n",
      "Extra data: line 18 column 1 (char 602)\n",
      "Extra data: line 18 column 1 (char 908)\n"
     ]
    },
    {
     "name": "stderr",
     "output_type": "stream",
     "text": [
      "  6%|█████▏                                                                                      | 4297/77002 [40:46<18:13:51,  1.11it/s]"
     ]
    },
    {
     "name": "stdout",
     "output_type": "stream",
     "text": [
      "Extra data: line 18 column 1 (char 981)\n"
     ]
    },
    {
     "name": "stderr",
     "output_type": "stream",
     "text": [
      "  6%|█████▏                                                                                      | 4300/77002 [40:49<17:54:19,  1.13it/s]"
     ]
    },
    {
     "name": "stdout",
     "output_type": "stream",
     "text": [
      "'NoneType' object is not subscriptable\n",
      "'NoneType' object is not subscriptable\n",
      "'NoneType' object is not subscriptable\n",
      "'NoneType' object is not subscriptable\n",
      "'NoneType' object is not subscriptable\n",
      "'NoneType' object is not subscriptable\n",
      "'NoneType' object is not subscriptable\n",
      "'NoneType' object is not subscriptable\n",
      "'NoneType' object is not subscriptable\n",
      "'NoneType' object is not subscriptable\n",
      "'NoneType' object is not subscriptable\n",
      "'NoneType' object is not subscriptable\n",
      "'NoneType' object is not subscriptable\n",
      "'NoneType' object is not subscriptable\n",
      "'NoneType' object is not subscriptable\n",
      "'NoneType' object is not subscriptable\n",
      "'NoneType' object is not subscriptable\n",
      "'NoneType' object is not subscriptable\n",
      "'NoneType' object is not subscriptable\n",
      "'NoneType' object is not subscriptable\n",
      "'NoneType' object is not subscriptable\n",
      "'NoneType' object is not subscriptable\n",
      "'NoneType' object is not subscriptable\n",
      "'NoneType' object is not subscriptable\n",
      "'NoneType' object is not subscriptable\n",
      "'NoneType' object is not subscriptable\n",
      "'NoneType' object is not subscriptable\n",
      "'NoneType' object is not subscriptable\n",
      "'NoneType' object is not subscriptable\n",
      "'NoneType' object is not subscriptable\n",
      "'NoneType' object is not subscriptable\n",
      "'NoneType' object is not subscriptable\n",
      "'NoneType' object is not subscriptable\n",
      "'NoneType' object is not subscriptable\n",
      "'NoneType' object is not subscriptable\n",
      "'NoneType' object is not subscriptable\n",
      "'NoneType' object is not subscriptable\n",
      "'NoneType' object is not subscriptable\n",
      "'NoneType' object is not subscriptable\n",
      "'NoneType' object is not subscriptable\n",
      "'NoneType' object is not subscriptable\n",
      "'NoneType' object is not subscriptable\n",
      "'NoneType' object is not subscriptable\n",
      "'NoneType' object is not subscriptable\n",
      "'NoneType' object is not subscriptable\n",
      "'NoneType' object is not subscriptable\n",
      "'NoneType' object is not subscriptable\n",
      "'NoneType' object is not subscriptable\n",
      "'NoneType' object is not subscriptable\n",
      "'NoneType' object is not subscriptable\n",
      "'NoneType' object is not subscriptable\n",
      "'NoneType' object is not subscriptable\n",
      "'NoneType' object is not subscriptable\n",
      "'NoneType' object is not subscriptable\n",
      "'NoneType' object is not subscriptable\n",
      "'NoneType' object is not subscriptable\n",
      "'NoneType' object is not subscriptable\n",
      "'NoneType' object is not subscriptable\n",
      "'NoneType' object is not subscriptable\n",
      "'NoneType' object is not subscriptable\n",
      "'NoneType' object is not subscriptable\n",
      "'NoneType' object is not subscriptable\n",
      "'NoneType' object is not subscriptable\n",
      "'NoneType' object is not subscriptable\n",
      "'NoneType' object is not subscriptable\n",
      "'NoneType' object is not subscriptable\n",
      "'NoneType' object is not subscriptable\n",
      "'NoneType' object is not subscriptable\n",
      "'NoneType' object is not subscriptable\n",
      "'NoneType' object is not subscriptable\n",
      "'NoneType' object is not subscriptable\n",
      "'NoneType' object is not subscriptable\n",
      "'NoneType' object is not subscriptable\n",
      "'NoneType' object is not subscriptable\n",
      "'NoneType' object is not subscriptable\n",
      "'NoneType' object is not subscriptable\n",
      "'NoneType' object is not subscriptable\n",
      "'NoneType' object is not subscriptable\n",
      "'NoneType' object is not subscriptable\n",
      "'NoneType' object is not subscriptable\n",
      "'NoneType' object is not subscriptable\n",
      "'NoneType' object is not subscriptable\n",
      "'NoneType' object is not subscriptable\n",
      "'NoneType' object is not subscriptable\n",
      "'NoneType' object is not subscriptable\n",
      "'NoneType' object is not subscriptable\n",
      "'NoneType' object is not subscriptable\n",
      "'NoneType' object is not subscriptable\n",
      "'NoneType' object is not subscriptable\n",
      "'NoneType' object is not subscriptable\n",
      "'NoneType' object is not subscriptable\n",
      "'NoneType' object is not subscriptable\n",
      "'NoneType' object is not subscriptable\n",
      "'NoneType' object is not subscriptable\n",
      "'NoneType' object is not subscriptable\n",
      "'NoneType' object is not subscriptable\n",
      "'NoneType' object is not subscriptable\n",
      "'NoneType' object is not subscriptable\n",
      "'NoneType' object is not subscriptable\n",
      "'NoneType' object is not subscriptable\n"
     ]
    },
    {
     "name": "stderr",
     "output_type": "stream",
     "text": [
      "  6%|█████▎                                                                                      | 4492/77002 [41:45<24:58:20,  1.24s/it]"
     ]
    },
    {
     "name": "stdout",
     "output_type": "stream",
     "text": [
      "Extra data: line 18 column 1 (char 654)\n"
     ]
    },
    {
     "name": "stderr",
     "output_type": "stream",
     "text": [
      "  6%|█████▌                                                                                      | 4692/77002 [43:22<13:11:42,  1.52it/s]"
     ]
    },
    {
     "name": "stdout",
     "output_type": "stream",
     "text": [
      "Extra data: line 18 column 1 (char 969)\n",
      "Extra data: line 18 column 1 (char 969)\n"
     ]
    },
    {
     "name": "stderr",
     "output_type": "stream",
     "text": [
      "\r",
      "  6%|█████▋                                                                                       | 4695/77002 [43:22<8:30:32,  2.36it/s]"
     ]
    },
    {
     "name": "stdout",
     "output_type": "stream",
     "text": [
      "Extra data: line 18 column 1 (char 1062)\n"
     ]
    },
    {
     "name": "stderr",
     "output_type": "stream",
     "text": [
      "  6%|█████▋                                                                                      | 4780/77002 [44:01<18:56:22,  1.06it/s]"
     ]
    },
    {
     "name": "stdout",
     "output_type": "stream",
     "text": [
      "Extra data: line 18 column 1 (char 854)\n",
      "Extra data: line 18 column 1 (char 797)\n"
     ]
    },
    {
     "name": "stderr",
     "output_type": "stream",
     "text": [
      "\r",
      "  6%|█████▋                                                                                      | 4783/77002 [44:08<37:02:47,  1.85s/it]"
     ]
    },
    {
     "name": "stdout",
     "output_type": "stream",
     "text": [
      "Extra data: line 18 column 1 (char 1010)\n",
      "Extra data: line 18 column 1 (char 918)\n",
      "Extra data: line 18 column 1 (char 1102)\n",
      "Extra data: line 18 column 1 (char 900)\n",
      "Extra data: line 18 column 1 (char 640)\n"
     ]
    },
    {
     "name": "stderr",
     "output_type": "stream",
     "text": [
      "\r",
      "  6%|█████▋                                                                                      | 4789/77002 [44:08<14:39:33,  1.37it/s]"
     ]
    },
    {
     "name": "stdout",
     "output_type": "stream",
     "text": [
      "Extra data: line 18 column 1 (char 873)\n",
      "Extra data: line 18 column 1 (char 811)\n",
      "Extra data: line 18 column 1 (char 811)\n",
      "Extra data: line 18 column 1 (char 640)\n",
      "Extra data: line 7 column 1 (char 859)\n",
      "Extra data: line 18 column 1 (char 950)\n"
     ]
    },
    {
     "name": "stderr",
     "output_type": "stream",
     "text": [
      "\r",
      "  6%|█████▊                                                                                       | 4796/77002 [44:09<7:38:50,  2.62it/s]"
     ]
    },
    {
     "name": "stdout",
     "output_type": "stream",
     "text": [
      "Extra data: line 18 column 1 (char 1340)\n",
      "Extra data: line 7 column 1 (char 1024)\n"
     ]
    },
    {
     "name": "stderr",
     "output_type": "stream",
     "text": [
      "\r",
      "  6%|█████▊                                                                                       | 4799/77002 [44:09<6:29:19,  3.09it/s]"
     ]
    },
    {
     "name": "stdout",
     "output_type": "stream",
     "text": [
      "Extra data: line 7 column 1 (char 884)\n"
     ]
    },
    {
     "name": "stderr",
     "output_type": "stream",
     "text": [
      "  6%|█████▊                                                                                      | 4825/77002 [44:28<39:06:56,  1.95s/it]"
     ]
    },
    {
     "name": "stdout",
     "output_type": "stream",
     "text": [
      "Extra data: line 18 column 1 (char 1126)\n",
      "Extra data: line 18 column 1 (char 1126)\n",
      "Extra data: line 18 column 1 (char 1126)\n",
      "Extra data: line 18 column 1 (char 1126)\n",
      "Extra data: line 18 column 1 (char 1126)\n",
      "Extra data: line 18 column 1 (char 1126)\n",
      "Extra data: line 18 column 1 (char 1126)\n",
      "Extra data: line 18 column 1 (char 1126)\n",
      "Extra data: line 18 column 1 (char 1126)\n",
      "Extra data: line 18 column 1 (char 1126)\n",
      "Extra data: line 18 column 1 (char 1126)\n",
      "Extra data: line 18 column 1 (char 1126)\n",
      "Extra data: line 18 column 1 (char 1126)\n",
      "Extra data: line 18 column 1 (char 1126)\n",
      "Extra data: line 18 column 1 (char 1126)\n",
      "Extra data: line 18 column 1 (char 1126)\n",
      "Extra data: line 18 column 1 (char 1126)\n",
      "Extra data: line 18 column 1 (char 1126)\n",
      "Extra data: line 18 column 1 (char 1126)\n",
      "Extra data: line 18 column 1 (char 1126)\n",
      "Extra data: line 18 column 1 (char 1126)\n",
      "Extra data: line 18 column 1 (char 1126)\n",
      "Extra data: line 18 column 1 (char 1126)\n",
      "Extra data: line 18 column 1 (char 1126)\n",
      "Extra data: line 18 column 1 (char 1126)\n",
      "Extra data: line 18 column 1 (char 1126)\n",
      "Extra data: line 18 column 1 (char 1126)\n",
      "Extra data: line 18 column 1 (char 1126)\n",
      "Extra data: line 18 column 1 (char 1126)\n",
      "Extra data: line 18 column 1 (char 1126)\n",
      "Extra data: line 18 column 1 (char 1126)\n",
      "Extra data: line 18 column 1 (char 1126)\n",
      "Extra data: line 18 column 1 (char 1126)\n",
      "Extra data: line 18 column 1 (char 1126)\n",
      "Extra data: line 18 column 1 (char 1126)\n",
      "Extra data: line 18 column 1 (char 1126)\n",
      "Extra data: line 18 column 1 (char 1126)\n",
      "Extra data: line 18 column 1 (char 1126)\n",
      "Extra data: line 18 column 1 (char 1126)\n",
      "Extra data: line 18 column 1 (char 1126)\n",
      "Extra data: line 18 column 1 (char 1126)\n",
      "Extra data: line 18 column 1 (char 1126)\n",
      "Extra data: line 18 column 1 (char 1126)\n",
      "Extra data: line 18 column 1 (char 1126)\n",
      "Extra data: line 18 column 1 (char 1126)\n",
      "Extra data: line 18 column 1 (char 1126)\n",
      "Extra data: line 18 column 1 (char 1126)\n",
      "Extra data: line 18 column 1 (char 1126)\n",
      "Extra data: line 18 column 1 (char 1126)\n",
      "Extra data: line 18 column 1 (char 1126)\n",
      "Extra data: line 18 column 1 (char 1126)\n",
      "Extra data: line 18 column 1 (char 1126)\n",
      "Extra data: line 18 column 1 (char 1126)\n",
      "Extra data: line 18 column 1 (char 1126)\n",
      "Extra data: line 18 column 1 (char 1126)\n",
      "Extra data: line 18 column 1 (char 1126)\n",
      "Extra data: line 18 column 1 (char 1126)\n",
      "Extra data: line 18 column 1 (char 1126)\n",
      "Extra data: line 18 column 1 (char 1126)\n",
      "Extra data: line 18 column 1 (char 1126)\n",
      "Extra data: line 18 column 1 (char 1126)\n",
      "Extra data: line 18 column 1 (char 1126)\n",
      "Extra data: line 18 column 1 (char 1126)\n",
      "Extra data: line 18 column 1 (char 1126)\n",
      "Extra data: line 18 column 1 (char 1126)\n",
      "Extra data: line 18 column 1 (char 1126)\n",
      "Extra data: line 18 column 1 (char 1126)\n",
      "Extra data: line 18 column 1 (char 1113)\n",
      "Extra data: line 18 column 1 (char 1126)\n",
      "Extra data: line 18 column 1 (char 1126)\n",
      "Extra data: line 18 column 1 (char 1126)\n",
      "Extra data: line 18 column 1 (char 1126)\n",
      "Extra data: line 18 column 1 (char 1126)\n",
      "Extra data: line 18 column 1 (char 1235)\n",
      "Extra data: line 18 column 1 (char 1126)\n",
      "'NoneType' object is not subscriptable\n",
      "'NoneType' object is not subscriptable\n",
      "'NoneType' object is not subscriptable\n",
      "'NoneType' object is not subscriptable\n",
      "'NoneType' object is not subscriptable\n",
      "'NoneType' object is not subscriptable\n",
      "'NoneType' object is not subscriptable\n",
      "'NoneType' object is not subscriptable\n",
      "'NoneType' object is not subscriptable\n",
      "'NoneType' object is not subscriptable\n",
      "'NoneType' object is not subscriptable\n",
      "'NoneType' object is not subscriptable\n",
      "'NoneType' object is not subscriptable\n",
      "'NoneType' object is not subscriptable\n",
      "'NoneType' object is not subscriptable\n",
      "'NoneType' object is not subscriptable\n",
      "'NoneType' object is not subscriptable\n",
      "'NoneType' object is not subscriptable\n",
      "'NoneType' object is not subscriptable\n",
      "'NoneType' object is not subscriptable\n",
      "'NoneType' object is not subscriptable\n",
      "'NoneType' object is not subscriptable\n",
      "'NoneType' object is not subscriptable\n",
      "'NoneType' object is not subscriptable\n",
      "'NoneType' object is not subscriptable\n",
      "'NoneType' object is not subscriptable\n",
      "'NoneType' object is not subscriptable\n",
      "'NoneType' object is not subscriptable\n",
      "'NoneType' object is not subscriptable\n",
      "'NoneType' object is not subscriptable\n",
      "'NoneType' object is not subscriptable\n",
      "'NoneType' object is not subscriptable\n",
      "'NoneType' object is not subscriptable\n",
      "'NoneType' object is not subscriptable\n",
      "'NoneType' object is not subscriptable\n",
      "'NoneType' object is not subscriptable\n",
      "'NoneType' object is not subscriptable\n",
      "'NoneType' object is not subscriptable\n",
      "'NoneType' object is not subscriptable\n",
      "'NoneType' object is not subscriptable\n",
      "'NoneType' object is not subscriptable\n",
      "'NoneType' object is not subscriptable\n",
      "'NoneType' object is not subscriptable\n",
      "'NoneType' object is not subscriptable\n",
      "'NoneType' object is not subscriptable\n",
      "'NoneType' object is not subscriptable\n",
      "'NoneType' object is not subscriptable\n",
      "'NoneType' object is not subscriptable\n",
      "'NoneType' object is not subscriptable\n",
      "'NoneType' object is not subscriptable\n",
      "'NoneType' object is not subscriptable\n",
      "'NoneType' object is not subscriptable\n",
      "'NoneType' object is not subscriptable\n",
      "'NoneType' object is not subscriptable\n",
      "'NoneType' object is not subscriptable\n",
      "'NoneType' object is not subscriptable\n",
      "'NoneType' object is not subscriptable\n",
      "'NoneType' object is not subscriptable\n",
      "'NoneType' object is not subscriptable\n",
      "'NoneType' object is not subscriptable\n",
      "'NoneType' object is not subscriptable\n",
      "'NoneType' object is not subscriptable\n",
      "'NoneType' object is not subscriptable\n",
      "'NoneType' object is not subscriptable\n",
      "'NoneType' object is not subscriptable\n",
      "'NoneType' object is not subscriptable\n",
      "'NoneType' object is not subscriptable\n",
      "'NoneType' object is not subscriptable\n",
      "'NoneType' object is not subscriptable\n",
      "'NoneType' object is not subscriptable\n",
      "'NoneType' object is not subscriptable\n",
      "'NoneType' object is not subscriptable\n",
      "'NoneType' object is not subscriptable\n",
      "'NoneType' object is not subscriptable\n",
      "'NoneType' object is not subscriptable\n",
      "'NoneType' object is not subscriptable\n",
      "'NoneType' object is not subscriptable\n",
      "'NoneType' object is not subscriptable\n",
      "'NoneType' object is not subscriptable\n",
      "'NoneType' object is not subscriptable\n",
      "'NoneType' object is not subscriptable\n",
      "'NoneType' object is not subscriptable\n",
      "'NoneType' object is not subscriptable\n",
      "'NoneType' object is not subscriptable\n",
      "'NoneType' object is not subscriptable\n",
      "'NoneType' object is not subscriptable\n",
      "'NoneType' object is not subscriptable\n",
      "'NoneType' object is not subscriptable\n",
      "'NoneType' object is not subscriptable\n",
      "'NoneType' object is not subscriptable\n",
      "'NoneType' object is not subscriptable\n",
      "'NoneType' object is not subscriptable\n",
      "'NoneType' object is not subscriptable\n",
      "'NoneType' object is not subscriptable\n",
      "'NoneType' object is not subscriptable\n",
      "'NoneType' object is not subscriptable\n",
      "'NoneType' object is not subscriptable\n",
      "'NoneType' object is not subscriptable\n",
      "'NoneType' object is not subscriptable\n",
      "'NoneType' object is not subscriptable\n",
      "'NoneType' object is not subscriptable\n",
      "'NoneType' object is not subscriptable\n",
      "'NoneType' object is not subscriptable\n",
      "'NoneType' object is not subscriptable\n",
      "'NoneType' object is not subscriptable\n",
      "'NoneType' object is not subscriptable\n",
      "'NoneType' object is not subscriptable\n",
      "'NoneType' object is not subscriptable\n",
      "'NoneType' object is not subscriptable\n",
      "'NoneType' object is not subscriptable\n",
      "'NoneType' object is not subscriptable\n",
      "'NoneType' object is not subscriptable\n",
      "'NoneType' object is not subscriptable\n",
      "'NoneType' object is not subscriptable\n",
      "'NoneType' object is not subscriptable\n",
      "'NoneType' object is not subscriptable\n",
      "'NoneType' object is not subscriptable\n",
      "'NoneType' object is not subscriptable\n",
      "'NoneType' object is not subscriptable\n",
      "'NoneType' object is not subscriptable\n",
      "'NoneType' object is not subscriptable\n",
      "'NoneType' object is not subscriptable\n",
      "'NoneType' object is not subscriptable\n",
      "'NoneType' object is not subscriptable\n",
      "'NoneType' object is not subscriptable\n",
      "'NoneType' object is not subscriptable\n",
      "'NoneType' object is not subscriptable\n",
      "'NoneType' object is not subscriptable\n",
      "'NoneType' object is not subscriptable\n",
      "'NoneType' object is not subscriptable\n",
      "'NoneType' object is not subscriptable\n",
      "'NoneType' object is not subscriptable\n",
      "'NoneType' object is not subscriptable\n",
      "'NoneType' object is not subscriptable\n",
      "'NoneType' object is not subscriptable\n",
      "'NoneType' object is not subscriptable\n",
      "'NoneType' object is not subscriptable\n",
      "'NoneType' object is not subscriptable\n",
      "'NoneType' object is not subscriptable\n",
      "'NoneType' object is not subscriptable\n",
      "'NoneType' object is not subscriptable\n",
      "'NoneType' object is not subscriptable\n",
      "'NoneType' object is not subscriptable\n",
      "'NoneType' object is not subscriptable\n",
      "'NoneType' object is not subscriptable\n",
      "'NoneType' object is not subscriptable\n",
      "'NoneType' object is not subscriptable\n",
      "'NoneType' object is not subscriptable\n",
      "'NoneType' object is not subscriptable\n",
      "'NoneType' object is not subscriptable\n",
      "'NoneType' object is not subscriptable\n",
      "'NoneType' object is not subscriptable\n",
      "'NoneType' object is not subscriptable\n",
      "'NoneType' object is not subscriptable\n",
      "'NoneType' object is not subscriptable\n",
      "'NoneType' object is not subscriptable\n",
      "'NoneType' object is not subscriptable\n",
      "'NoneType' object is not subscriptable\n",
      "'NoneType' object is not subscriptable\n",
      "'NoneType' object is not subscriptable\n",
      "'NoneType' object is not subscriptable\n",
      "'NoneType' object is not subscriptable\n",
      "'NoneType' object is not subscriptable\n",
      "'NoneType' object is not subscriptable\n",
      "'NoneType' object is not subscriptable\n",
      "'NoneType' object is not subscriptable\n",
      "'NoneType' object is not subscriptable\n",
      "'NoneType' object is not subscriptable\n",
      "'NoneType' object is not subscriptable\n",
      "'NoneType' object is not subscriptable\n",
      "'NoneType' object is not subscriptable\n",
      "'NoneType' object is not subscriptable\n",
      "'NoneType' object is not subscriptable\n",
      "'NoneType' object is not subscriptable\n",
      "'NoneType' object is not subscriptable\n",
      "'NoneType' object is not subscriptable\n",
      "'NoneType' object is not subscriptable\n",
      "'NoneType' object is not subscriptable\n",
      "'NoneType' object is not subscriptable\n",
      "'NoneType' object is not subscriptable\n",
      "'NoneType' object is not subscriptable\n",
      "'NoneType' object is not subscriptable\n",
      "'NoneType' object is not subscriptable\n",
      "'NoneType' object is not subscriptable\n",
      "'NoneType' object is not subscriptable\n",
      "'NoneType' object is not subscriptable\n",
      "'NoneType' object is not subscriptable\n",
      "'NoneType' object is not subscriptable\n",
      "'NoneType' object is not subscriptable\n",
      "'NoneType' object is not subscriptable\n",
      "'NoneType' object is not subscriptable\n",
      "'NoneType' object is not subscriptable\n",
      "'NoneType' object is not subscriptable\n",
      "'NoneType' object is not subscriptable\n",
      "'NoneType' object is not subscriptable\n",
      "'NoneType' object is not subscriptable\n",
      "'NoneType' object is not subscriptable\n",
      "'NoneType' object is not subscriptable\n",
      "'NoneType' object is not subscriptable\n",
      "'NoneType' object is not subscriptable\n"
     ]
    },
    {
     "name": "stderr",
     "output_type": "stream",
     "text": [
      "  7%|██████▏                                                                                     | 5195/77002 [45:31<10:44:42,  1.86it/s]"
     ]
    },
    {
     "name": "stdout",
     "output_type": "stream",
     "text": [
      "Extra data: line 18 column 1 (char 614)\n"
     ]
    },
    {
     "name": "stderr",
     "output_type": "stream",
     "text": [
      "\r",
      "  7%|██████▎                                                                                      | 5197/77002 [45:31<7:17:30,  2.74it/s]"
     ]
    },
    {
     "name": "stdout",
     "output_type": "stream",
     "text": [
      "Extra data: line 18 column 1 (char 737)\n",
      "Extra data: line 18 column 1 (char 677)\n"
     ]
    },
    {
     "name": "stderr",
     "output_type": "stream",
     "text": [
      "  7%|██████▎                                                                                     | 5291/77002 [46:33<13:41:48,  1.45it/s]"
     ]
    },
    {
     "name": "stdout",
     "output_type": "stream",
     "text": [
      "Extra data: line 18 column 1 (char 857)\n"
     ]
    },
    {
     "name": "stderr",
     "output_type": "stream",
     "text": [
      "  7%|██████▎                                                                                     | 5294/77002 [46:34<10:12:49,  1.95it/s]"
     ]
    },
    {
     "name": "stdout",
     "output_type": "stream",
     "text": [
      "Extra data: line 18 column 1 (char 875)\n"
     ]
    },
    {
     "name": "stderr",
     "output_type": "stream",
     "text": [
      "  7%|██████▌                                                                                      | 5388/77002 [47:18<9:45:11,  2.04it/s]"
     ]
    },
    {
     "name": "stdout",
     "output_type": "stream",
     "text": [
      "Extra data: line 7 column 1 (char 665)\n"
     ]
    },
    {
     "name": "stderr",
     "output_type": "stream",
     "text": [
      "  7%|██████▌                                                                                      | 5398/77002 [47:21<7:18:51,  2.72it/s]"
     ]
    },
    {
     "name": "stdout",
     "output_type": "stream",
     "text": [
      "Extra data: line 18 column 1 (char 943)\n",
      "Extra data: line 18 column 1 (char 1068)\n"
     ]
    },
    {
     "name": "stderr",
     "output_type": "stream",
     "text": [
      "  7%|██████▊                                                                                      | 5599/77002 [48:39<1:10:08, 16.97it/s]"
     ]
    },
    {
     "name": "stdout",
     "output_type": "stream",
     "text": [
      "Extra data: line 18 column 1 (char 1273)\n",
      "Extra data: line 18 column 1 (char 1140)\n",
      "Extra data: line 18 column 1 (char 1140)\n",
      "Extra data: line 18 column 1 (char 1140)\n",
      "Extra data: line 18 column 1 (char 1235)\n",
      "Extra data: line 18 column 1 (char 1140)\n"
     ]
    },
    {
     "name": "stderr",
     "output_type": "stream",
     "text": [
      "  7%|██████▊                                                                                      | 5678/77002 [49:17<8:42:04,  2.28it/s]"
     ]
    },
    {
     "name": "stdout",
     "output_type": "stream",
     "text": [
      "Extra data: line 18 column 1 (char 604)\n"
     ]
    },
    {
     "name": "stderr",
     "output_type": "stream",
     "text": [
      "  7%|██████▊                                                                                      | 5684/77002 [49:20<8:38:52,  2.29it/s]"
     ]
    },
    {
     "name": "stdout",
     "output_type": "stream",
     "text": [
      "Extra data: line 18 column 1 (char 722)\n",
      "Extra data: line 18 column 1 (char 539)\n",
      "Extra data: line 18 column 1 (char 568)\n",
      "Extra data: line 18 column 1 (char 604)\n",
      "Extra data: line 18 column 1 (char 737)\n",
      "Extra data: line 18 column 1 (char 725)\n"
     ]
    },
    {
     "name": "stderr",
     "output_type": "stream",
     "text": [
      "\r",
      "  7%|██████▊                                                                                      | 5691/77002 [49:21<4:50:00,  4.10it/s]"
     ]
    },
    {
     "name": "stdout",
     "output_type": "stream",
     "text": [
      "Extra data: line 18 column 1 (char 710)\n",
      "Extra data: line 18 column 1 (char 840)\n"
     ]
    },
    {
     "name": "stderr",
     "output_type": "stream",
     "text": [
      "  7%|██████▊                                                                                     | 5695/77002 [49:30<24:25:33,  1.23s/it]"
     ]
    },
    {
     "name": "stdout",
     "output_type": "stream",
     "text": [
      "Extra data: line 18 column 1 (char 940)\n"
     ]
    },
    {
     "name": "stderr",
     "output_type": "stream",
     "text": [
      "\r",
      "  7%|██████▊                                                                                     | 5697/77002 [49:30<19:10:15,  1.03it/s]"
     ]
    },
    {
     "name": "stdout",
     "output_type": "stream",
     "text": [
      "Extra data: line 18 column 1 (char 1101)\n",
      "Extra data: line 7 column 1 (char 565)\n",
      "Extra data: line 18 column 1 (char 781)\n"
     ]
    },
    {
     "name": "stderr",
     "output_type": "stream",
     "text": [
      "  7%|██████▉                                                                                      | 5770/77002 [50:09<6:27:48,  3.06it/s]"
     ]
    },
    {
     "name": "stdout",
     "output_type": "stream",
     "text": [
      "Extra data: line 18 column 1 (char 873)\n"
     ]
    },
    {
     "name": "stderr",
     "output_type": "stream",
     "text": [
      "\r",
      "  7%|██████▉                                                                                      | 5775/77002 [50:09<4:18:18,  4.60it/s]"
     ]
    },
    {
     "name": "stdout",
     "output_type": "stream",
     "text": [
      "Extra data: line 18 column 1 (char 1055)\n"
     ]
    },
    {
     "name": "stderr",
     "output_type": "stream",
     "text": [
      "  8%|██████▉                                                                                      | 5779/77002 [50:10<3:26:32,  5.75it/s]"
     ]
    },
    {
     "name": "stdout",
     "output_type": "stream",
     "text": [
      "Extra data: line 18 column 1 (char 621)\n"
     ]
    },
    {
     "name": "stderr",
     "output_type": "stream",
     "text": [
      "  8%|██████▉                                                                                      | 5782/77002 [50:11<5:38:55,  3.50it/s]"
     ]
    },
    {
     "name": "stdout",
     "output_type": "stream",
     "text": [
      "Extra data: line 18 column 1 (char 773)\n",
      "Extra data: line 7 column 1 (char 767)\n",
      "Extra data: line 18 column 1 (char 728)\n"
     ]
    },
    {
     "name": "stderr",
     "output_type": "stream",
     "text": [
      "\r",
      "  8%|██████▉                                                                                      | 5786/77002 [50:12<3:50:20,  5.15it/s]"
     ]
    },
    {
     "name": "stdout",
     "output_type": "stream",
     "text": [
      "Extra data: line 7 column 1 (char 777)\n"
     ]
    },
    {
     "name": "stderr",
     "output_type": "stream",
     "text": [
      "  8%|██████▉                                                                                      | 5790/77002 [50:13<7:30:28,  2.63it/s]"
     ]
    },
    {
     "name": "stdout",
     "output_type": "stream",
     "text": [
      "Extra data: line 18 column 1 (char 950)\n"
     ]
    },
    {
     "name": "stderr",
     "output_type": "stream",
     "text": [
      "\r",
      "  8%|██████▉                                                                                      | 5792/77002 [50:14<6:39:42,  2.97it/s]"
     ]
    },
    {
     "name": "stdout",
     "output_type": "stream",
     "text": [
      "Extra data: line 18 column 1 (char 999)\n"
     ]
    },
    {
     "name": "stderr",
     "output_type": "stream",
     "text": [
      "  8%|██████▉                                                                                      | 5795/77002 [50:15<6:39:49,  2.97it/s]"
     ]
    },
    {
     "name": "stdout",
     "output_type": "stream",
     "text": [
      "Extra data: line 18 column 1 (char 1400)\n"
     ]
    },
    {
     "name": "stderr",
     "output_type": "stream",
     "text": [
      "  8%|███████                                                                                      | 5798/77002 [50:16<6:26:17,  3.07it/s]"
     ]
    },
    {
     "name": "stdout",
     "output_type": "stream",
     "text": [
      "Extra data: line 18 column 1 (char 770)\n"
     ]
    },
    {
     "name": "stderr",
     "output_type": "stream",
     "text": [
      "  8%|███████                                                                                     | 5887/77002 [51:02<13:55:48,  1.42it/s]"
     ]
    },
    {
     "name": "stdout",
     "output_type": "stream",
     "text": [
      "Extra data: line 18 column 1 (char 530)\n",
      "Extra data: line 18 column 1 (char 639)\n",
      "Extra data: line 18 column 1 (char 645)\n",
      "Extra data: line 18 column 1 (char 519)\n",
      "Extra data: line 18 column 1 (char 711)\n",
      "Extra data: line 18 column 1 (char 604)\n",
      "Extra data: line 18 column 1 (char 782)\n",
      "Extra data: line 18 column 1 (char 709)\n"
     ]
    },
    {
     "name": "stderr",
     "output_type": "stream",
     "text": [
      "  8%|███████                                                                                      | 5897/77002 [51:05<7:57:13,  2.48it/s]"
     ]
    },
    {
     "name": "stdout",
     "output_type": "stream",
     "text": [
      "Extra data: line 18 column 1 (char 1024)\n",
      "Extra data: line 18 column 1 (char 1015)\n",
      "Extra data: line 18 column 1 (char 1571)\n"
     ]
    },
    {
     "name": "stderr",
     "output_type": "stream",
     "text": [
      "  8%|███████▏                                                                                    | 5986/77002 [51:48<10:43:39,  1.84it/s]"
     ]
    },
    {
     "name": "stdout",
     "output_type": "stream",
     "text": [
      "Extra data: line 7 column 1 (char 665)\n"
     ]
    },
    {
     "name": "stderr",
     "output_type": "stream",
     "text": [
      "  8%|███████▏                                                                                    | 6000/77002 [52:02<23:36:45,  1.20s/it]"
     ]
    },
    {
     "name": "stdout",
     "output_type": "stream",
     "text": [
      "'NoneType' object is not subscriptable\n",
      "'NoneType' object is not subscriptable\n",
      "'NoneType' object is not subscriptable\n",
      "'NoneType' object is not subscriptable\n",
      "'NoneType' object is not subscriptable\n",
      "'NoneType' object is not subscriptable\n",
      "'NoneType' object is not subscriptable\n",
      "'NoneType' object is not subscriptable\n",
      "'NoneType' object is not subscriptable\n",
      "'NoneType' object is not subscriptable\n",
      "'NoneType' object is not subscriptable\n",
      "'NoneType' object is not subscriptable\n",
      "'NoneType' object is not subscriptable\n",
      "'NoneType' object is not subscriptable\n",
      "'NoneType' object is not subscriptable\n",
      "'NoneType' object is not subscriptable\n",
      "'NoneType' object is not subscriptable\n",
      "'NoneType' object is not subscriptable\n",
      "'NoneType' object is not subscriptable\n",
      "'NoneType' object is not subscriptable\n",
      "'NoneType' object is not subscriptable\n",
      "'NoneType' object is not subscriptable\n",
      "'NoneType' object is not subscriptable\n",
      "'NoneType' object is not subscriptable\n",
      "'NoneType' object is not subscriptable\n",
      "'NoneType' object is not subscriptable\n",
      "'NoneType' object is not subscriptable\n",
      "'NoneType' object is not subscriptable\n",
      "'NoneType' object is not subscriptable\n",
      "'NoneType' object is not subscriptable\n",
      "'NoneType' object is not subscriptable\n",
      "'NoneType' object is not subscriptable\n",
      "'NoneType' object is not subscriptable\n",
      "'NoneType' object is not subscriptable\n",
      "'NoneType' object is not subscriptable\n",
      "'NoneType' object is not subscriptable\n",
      "'NoneType' object is not subscriptable\n",
      "'NoneType' object is not subscriptable\n",
      "'NoneType' object is not subscriptable\n",
      "'NoneType' object is not subscriptable\n",
      "'NoneType' object is not subscriptable\n",
      "'NoneType' object is not subscriptable\n",
      "'NoneType' object is not subscriptable\n",
      "'NoneType' object is not subscriptable\n",
      "'NoneType' object is not subscriptable\n",
      "'NoneType' object is not subscriptable\n",
      "'NoneType' object is not subscriptable\n",
      "'NoneType' object is not subscriptable\n",
      "'NoneType' object is not subscriptable\n",
      "'NoneType' object is not subscriptable\n",
      "'NoneType' object is not subscriptable\n",
      "'NoneType' object is not subscriptable\n",
      "'NoneType' object is not subscriptable\n",
      "'NoneType' object is not subscriptable\n",
      "'NoneType' object is not subscriptable\n",
      "'NoneType' object is not subscriptable\n",
      "'NoneType' object is not subscriptable\n",
      "'NoneType' object is not subscriptable\n",
      "'NoneType' object is not subscriptable\n",
      "'NoneType' object is not subscriptable\n",
      "'NoneType' object is not subscriptable\n",
      "'NoneType' object is not subscriptable\n",
      "'NoneType' object is not subscriptable\n",
      "'NoneType' object is not subscriptable\n",
      "'NoneType' object is not subscriptable\n",
      "'NoneType' object is not subscriptable\n",
      "'NoneType' object is not subscriptable\n",
      "'NoneType' object is not subscriptable\n",
      "'NoneType' object is not subscriptable\n",
      "'NoneType' object is not subscriptable\n",
      "'NoneType' object is not subscriptable\n",
      "'NoneType' object is not subscriptable\n",
      "'NoneType' object is not subscriptable\n",
      "'NoneType' object is not subscriptable\n",
      "'NoneType' object is not subscriptable\n",
      "'NoneType' object is not subscriptable\n",
      "'NoneType' object is not subscriptable\n",
      "'NoneType' object is not subscriptable\n",
      "'NoneType' object is not subscriptable\n",
      "'NoneType' object is not subscriptable\n",
      "'NoneType' object is not subscriptable\n",
      "'NoneType' object is not subscriptable\n",
      "'NoneType' object is not subscriptable\n",
      "'NoneType' object is not subscriptable\n",
      "'NoneType' object is not subscriptable\n",
      "'NoneType' object is not subscriptable\n",
      "'NoneType' object is not subscriptable\n",
      "'NoneType' object is not subscriptable\n",
      "'NoneType' object is not subscriptable\n",
      "'NoneType' object is not subscriptable\n",
      "'NoneType' object is not subscriptable\n",
      "'NoneType' object is not subscriptable\n",
      "'NoneType' object is not subscriptable\n",
      "'NoneType' object is not subscriptable\n",
      "'NoneType' object is not subscriptable\n",
      "'NoneType' object is not subscriptable\n",
      "'NoneType' object is not subscriptable\n",
      "'NoneType' object is not subscriptable\n",
      "'NoneType' object is not subscriptable\n",
      "'NoneType' object is not subscriptable\n"
     ]
    },
    {
     "name": "stderr",
     "output_type": "stream",
     "text": [
      "  8%|███████▊                                                                                    | 6494/77002 [55:33<34:09:49,  1.74s/it]"
     ]
    },
    {
     "name": "stdout",
     "output_type": "stream",
     "text": [
      "Extra data: line 18 column 1 (char 882)\n"
     ]
    },
    {
     "name": "stderr",
     "output_type": "stream",
     "text": [
      "\r",
      "  8%|███████▊                                                                                    | 6496/77002 [55:34<21:12:32,  1.08s/it]"
     ]
    },
    {
     "name": "stdout",
     "output_type": "stream",
     "text": [
      "Extra data: line 18 column 1 (char 762)\n"
     ]
    },
    {
     "name": "stderr",
     "output_type": "stream",
     "text": [
      "  9%|███████▉                                                                                     | 6589/77002 [56:09<5:12:16,  3.76it/s]"
     ]
    },
    {
     "name": "stdout",
     "output_type": "stream",
     "text": [
      "Extra data: line 18 column 1 (char 1091)\n"
     ]
    },
    {
     "name": "stderr",
     "output_type": "stream",
     "text": [
      "\r",
      "  9%|███████▉                                                                                     | 6591/77002 [56:10<7:37:16,  2.57it/s]"
     ]
    },
    {
     "name": "stdout",
     "output_type": "stream",
     "text": [
      "Extra data: line 18 column 1 (char 698)\n"
     ]
    },
    {
     "name": "stderr",
     "output_type": "stream",
     "text": [
      "  9%|███████▉                                                                                     | 6595/77002 [56:11<6:55:39,  2.82it/s]"
     ]
    },
    {
     "name": "stdout",
     "output_type": "stream",
     "text": [
      "Extra data: line 18 column 1 (char 979)\n"
     ]
    },
    {
     "name": "stderr",
     "output_type": "stream",
     "text": [
      "  9%|███████▉                                                                                    | 6692/77002 [56:50<11:45:26,  1.66it/s]"
     ]
    },
    {
     "name": "stdout",
     "output_type": "stream",
     "text": [
      "Extra data: line 18 column 1 (char 1082)\n"
     ]
    },
    {
     "name": "stderr",
     "output_type": "stream",
     "text": [
      "  9%|████████▏                                                                                    | 6773/77002 [57:33<5:32:30,  3.52it/s]"
     ]
    },
    {
     "name": "stdout",
     "output_type": "stream",
     "text": [
      "Extra data: line 18 column 1 (char 702)\n"
     ]
    },
    {
     "name": "stderr",
     "output_type": "stream",
     "text": [
      "  9%|████████▏                                                                                    | 6779/77002 [57:36<9:35:17,  2.03it/s]"
     ]
    },
    {
     "name": "stdout",
     "output_type": "stream",
     "text": [
      "Extra data: line 7 column 1 (char 481)\n"
     ]
    },
    {
     "name": "stderr",
     "output_type": "stream",
     "text": [
      "\r",
      "  9%|████████▏                                                                                    | 6781/77002 [57:37<9:07:23,  2.14it/s]"
     ]
    },
    {
     "name": "stdout",
     "output_type": "stream",
     "text": [
      "Extra data: line 18 column 1 (char 605)\n"
     ]
    },
    {
     "name": "stderr",
     "output_type": "stream",
     "text": [
      "\r",
      "  9%|████████▏                                                                                    | 6783/77002 [57:38<7:03:33,  2.76it/s]"
     ]
    },
    {
     "name": "stdout",
     "output_type": "stream",
     "text": [
      "Extra data: line 18 column 1 (char 572)\n"
     ]
    },
    {
     "name": "stderr",
     "output_type": "stream",
     "text": [
      "\r",
      "  9%|████████▏                                                                                    | 6785/77002 [57:38<6:24:22,  3.04it/s]"
     ]
    },
    {
     "name": "stdout",
     "output_type": "stream",
     "text": [
      "Extra data: line 18 column 1 (char 674)\n"
     ]
    },
    {
     "name": "stderr",
     "output_type": "stream",
     "text": [
      "  9%|████████▏                                                                                    | 6788/77002 [57:39<5:51:15,  3.33it/s]"
     ]
    },
    {
     "name": "stdout",
     "output_type": "stream",
     "text": [
      "Extra data: line 18 column 1 (char 860)\n"
     ]
    },
    {
     "name": "stderr",
     "output_type": "stream",
     "text": [
      "\r",
      "  9%|████████▏                                                                                    | 6790/77002 [57:40<6:20:51,  3.07it/s]"
     ]
    },
    {
     "name": "stdout",
     "output_type": "stream",
     "text": [
      "Extra data: line 18 column 1 (char 737)\n",
      "Extra data: line 18 column 1 (char 682)\n",
      "Extra data: line 18 column 1 (char 840)\n",
      "Extra data: line 18 column 1 (char 934)\n"
     ]
    },
    {
     "name": "stderr",
     "output_type": "stream",
     "text": [
      "  9%|████████▏                                                                                    | 6801/77002 [57:40<2:07:31,  9.18it/s]"
     ]
    },
    {
     "name": "stdout",
     "output_type": "stream",
     "text": [
      "Extra data: line 18 column 1 (char 613)\n",
      "Extra data: line 18 column 1 (char 876)\n",
      "Extra data: line 18 column 1 (char 643)\n",
      "Extra data: line 18 column 1 (char 1132)\n"
     ]
    },
    {
     "name": "stderr",
     "output_type": "stream",
     "text": [
      "  9%|████████▎                                                                                    | 6875/77002 [58:34<8:06:22,  2.40it/s]"
     ]
    },
    {
     "name": "stdout",
     "output_type": "stream",
     "text": [
      "Extra data: line 18 column 1 (char 558)\n"
     ]
    },
    {
     "name": "stderr",
     "output_type": "stream",
     "text": [
      "  9%|████████▏                                                                                   | 6889/77002 [58:45<14:10:30,  1.37it/s]"
     ]
    },
    {
     "name": "stdout",
     "output_type": "stream",
     "text": [
      "Extra data: line 18 column 1 (char 796)\n",
      "Extra data: line 18 column 1 (char 628)\n",
      "Extra data: line 18 column 1 (char 584)\n"
     ]
    },
    {
     "name": "stderr",
     "output_type": "stream",
     "text": [
      "\r",
      "  9%|████████▎                                                                                    | 6893/77002 [58:46<7:31:17,  2.59it/s]"
     ]
    },
    {
     "name": "stdout",
     "output_type": "stream",
     "text": [
      "Extra data: line 18 column 1 (char 598)\n",
      "Extra data: line 18 column 1 (char 1211)\n",
      "Extra data: line 18 column 1 (char 650)\n",
      "Extra data: line 18 column 1 (char 620)\n",
      "Extra data: line 18 column 1 (char 641)\n"
     ]
    },
    {
     "name": "stderr",
     "output_type": "stream",
     "text": [
      "  9%|████████▎                                                                                    | 6902/77002 [58:46<2:55:32,  6.66it/s]"
     ]
    },
    {
     "name": "stdout",
     "output_type": "stream",
     "text": [
      "Extra data: line 18 column 1 (char 811)\n"
     ]
    },
    {
     "name": "stderr",
     "output_type": "stream",
     "text": [
      "  9%|████████▍                                                                                    | 6998/77002 [59:51<6:55:32,  2.81it/s]"
     ]
    },
    {
     "name": "stdout",
     "output_type": "stream",
     "text": [
      "Extra data: line 18 column 1 (char 747)\n",
      "Extra data: line 18 column 1 (char 731)\n"
     ]
    },
    {
     "name": "stderr",
     "output_type": "stream",
     "text": [
      "  9%|████████▍                                                                                 | 7195/77002 [1:02:08<21:04:16,  1.09s/it]"
     ]
    },
    {
     "name": "stdout",
     "output_type": "stream",
     "text": [
      "Extra data: line 18 column 1 (char 527)\n",
      "Extra data: line 18 column 1 (char 783)\n"
     ]
    },
    {
     "name": "stderr",
     "output_type": "stream",
     "text": [
      "  9%|████████▋                                                                                  | 7299/77002 [1:02:58<7:52:15,  2.46it/s]"
     ]
    },
    {
     "name": "stdout",
     "output_type": "stream",
     "text": [
      "Extra data: line 18 column 1 (char 742)\n"
     ]
    },
    {
     "name": "stderr",
     "output_type": "stream",
     "text": [
      " 10%|████████▋                                                                                  | 7395/77002 [1:03:40<7:37:49,  2.53it/s]"
     ]
    },
    {
     "name": "stdout",
     "output_type": "stream",
     "text": [
      "Extra data: line 18 column 1 (char 853)\n"
     ]
    },
    {
     "name": "stderr",
     "output_type": "stream",
     "text": [
      " 10%|████████▋                                                                                  | 7398/77002 [1:03:41<6:58:18,  2.77it/s]"
     ]
    },
    {
     "name": "stdout",
     "output_type": "stream",
     "text": [
      "Extra data: line 18 column 1 (char 926)\n"
     ]
    },
    {
     "name": "stderr",
     "output_type": "stream",
     "text": [
      " 10%|█████████                                                                                    | 7501/77002 [1:03:42<11:47, 98.28it/s]"
     ]
    },
    {
     "name": "stdout",
     "output_type": "stream",
     "text": [
      "'NoneType' object is not subscriptable\n",
      "'NoneType' object is not subscriptable\n",
      "'NoneType' object is not subscriptable\n",
      "'NoneType' object is not subscriptable\n",
      "'NoneType' object is not subscriptable\n",
      "'NoneType' object is not subscriptable\n",
      "'NoneType' object is not subscriptable\n",
      "'NoneType' object is not subscriptable\n",
      "'NoneType' object is not subscriptable\n",
      "'NoneType' object is not subscriptable\n",
      "'NoneType' object is not subscriptable\n",
      "'NoneType' object is not subscriptable\n",
      "'NoneType' object is not subscriptable\n",
      "'NoneType' object is not subscriptable\n",
      "'NoneType' object is not subscriptable\n",
      "'NoneType' object is not subscriptable\n",
      "'NoneType' object is not subscriptable\n",
      "'NoneType' object is not subscriptable\n",
      "'NoneType' object is not subscriptable\n",
      "'NoneType' object is not subscriptable\n",
      "'NoneType' object is not subscriptable\n",
      "'NoneType' object is not subscriptable\n",
      "'NoneType' object is not subscriptable\n",
      "'NoneType' object is not subscriptable\n",
      "'NoneType' object is not subscriptable\n",
      "'NoneType' object is not subscriptable\n",
      "'NoneType' object is not subscriptable\n",
      "'NoneType' object is not subscriptable\n",
      "'NoneType' object is not subscriptable\n",
      "'NoneType' object is not subscriptable\n",
      "'NoneType' object is not subscriptable\n",
      "'NoneType' object is not subscriptable\n",
      "'NoneType' object is not subscriptable\n",
      "'NoneType' object is not subscriptable\n",
      "'NoneType' object is not subscriptable\n",
      "'NoneType' object is not subscriptable\n",
      "'NoneType' object is not subscriptable\n",
      "'NoneType' object is not subscriptable\n",
      "'NoneType' object is not subscriptable\n",
      "'NoneType' object is not subscriptable\n",
      "'NoneType' object is not subscriptable\n",
      "'NoneType' object is not subscriptable\n",
      "'NoneType' object is not subscriptable\n",
      "'NoneType' object is not subscriptable\n",
      "'NoneType' object is not subscriptable\n",
      "'NoneType' object is not subscriptable\n",
      "'NoneType' object is not subscriptable\n",
      "'NoneType' object is not subscriptable\n",
      "'NoneType' object is not subscriptable\n",
      "'NoneType' object is not subscriptable\n",
      "'NoneType' object is not subscriptable\n",
      "'NoneType' object is not subscriptable\n",
      "'NoneType' object is not subscriptable\n",
      "'NoneType' object is not subscriptable\n",
      "'NoneType' object is not subscriptable\n",
      "'NoneType' object is not subscriptable\n",
      "'NoneType' object is not subscriptable\n",
      "'NoneType' object is not subscriptable\n",
      "'NoneType' object is not subscriptable\n",
      "'NoneType' object is not subscriptable\n",
      "'NoneType' object is not subscriptable\n",
      "'NoneType' object is not subscriptable\n",
      "'NoneType' object is not subscriptable\n",
      "'NoneType' object is not subscriptable\n",
      "'NoneType' object is not subscriptable\n",
      "'NoneType' object is not subscriptable\n",
      "'NoneType' object is not subscriptable\n",
      "'NoneType' object is not subscriptable\n",
      "'NoneType' object is not subscriptable\n",
      "'NoneType' object is not subscriptable\n",
      "'NoneType' object is not subscriptable\n",
      "'NoneType' object is not subscriptable\n",
      "'NoneType' object is not subscriptable\n",
      "'NoneType' object is not subscriptable\n",
      "'NoneType' object is not subscriptable\n",
      "'NoneType' object is not subscriptable\n",
      "'NoneType' object is not subscriptable\n",
      "'NoneType' object is not subscriptable\n",
      "'NoneType' object is not subscriptable\n",
      "'NoneType' object is not subscriptable\n",
      "'NoneType' object is not subscriptable\n",
      "'NoneType' object is not subscriptable\n",
      "'NoneType' object is not subscriptable\n",
      "'NoneType' object is not subscriptable\n",
      "'NoneType' object is not subscriptable\n",
      "'NoneType' object is not subscriptable\n",
      "'NoneType' object is not subscriptable\n",
      "'NoneType' object is not subscriptable\n",
      "'NoneType' object is not subscriptable\n",
      "'NoneType' object is not subscriptable\n",
      "'NoneType' object is not subscriptable\n",
      "'NoneType' object is not subscriptable\n",
      "'NoneType' object is not subscriptable\n",
      "'NoneType' object is not subscriptable\n",
      "'NoneType' object is not subscriptable\n",
      "'NoneType' object is not subscriptable\n",
      "'NoneType' object is not subscriptable\n",
      "'NoneType' object is not subscriptable\n",
      "'NoneType' object is not subscriptable\n",
      "'NoneType' object is not subscriptable\n"
     ]
    },
    {
     "name": "stderr",
     "output_type": "stream",
     "text": [
      " 10%|████████▉                                                                                 | 7596/77002 [1:04:35<10:33:36,  1.83it/s]"
     ]
    },
    {
     "name": "stdout",
     "output_type": "stream",
     "text": [
      "Extra data: line 18 column 1 (char 489)\n",
      "Extra data: line 18 column 1 (char 574)\n",
      "Extra data: line 18 column 1 (char 771)\n",
      "Extra data: line 18 column 1 (char 837)\n"
     ]
    },
    {
     "name": "stderr",
     "output_type": "stream",
     "text": [
      " 10%|█████████                                                                                  | 7697/77002 [1:05:20<5:30:13,  3.50it/s]"
     ]
    },
    {
     "name": "stdout",
     "output_type": "stream",
     "text": [
      "Extra data: line 18 column 1 (char 786)\n",
      "Extra data: line 18 column 1 (char 713)\n"
     ]
    },
    {
     "name": "stderr",
     "output_type": "stream",
     "text": [
      " 10%|█████████▏                                                                                 | 7764/77002 [1:05:56<9:14:31,  2.08it/s]"
     ]
    },
    {
     "name": "stdout",
     "output_type": "stream",
     "text": [
      "Extra data: line 18 column 1 (char 565)\n"
     ]
    },
    {
     "name": "stderr",
     "output_type": "stream",
     "text": [
      " 10%|█████████▏                                                                                 | 7778/77002 [1:06:03<7:49:34,  2.46it/s]"
     ]
    },
    {
     "name": "stdout",
     "output_type": "stream",
     "text": [
      "Extra data: line 18 column 1 (char 901)\n",
      "Extra data: line 18 column 1 (char 567)\n",
      "Extra data: line 18 column 1 (char 477)\n",
      "Extra data: line 18 column 1 (char 681)\n"
     ]
    },
    {
     "name": "stderr",
     "output_type": "stream",
     "text": [
      "\r",
      " 10%|█████████▏                                                                                 | 7783/77002 [1:06:04<5:13:19,  3.68it/s]"
     ]
    },
    {
     "name": "stdout",
     "output_type": "stream",
     "text": [
      "Extra data: line 18 column 1 (char 670)\n",
      "Extra data: line 18 column 1 (char 763)\n",
      "Extra data: line 18 column 1 (char 683)\n",
      "Extra data: line 18 column 1 (char 676)\n",
      "Extra data: line 18 column 1 (char 737)\n",
      "Extra data: line 18 column 1 (char 681)\n",
      "Extra data: line 18 column 1 (char 687)\n",
      "Extra data: line 18 column 1 (char 758)\n",
      "Extra data: line 18 column 1 (char 475)\n",
      "Extra data: line 18 column 1 (char 785)\n",
      "Extra data: line 18 column 1 (char 655)\n"
     ]
    },
    {
     "name": "stderr",
     "output_type": "stream",
     "text": [
      "\r",
      " 10%|█████████▏                                                                                 | 7795/77002 [1:06:04<1:51:25, 10.35it/s]"
     ]
    },
    {
     "name": "stdout",
     "output_type": "stream",
     "text": [
      "Extra data: line 18 column 1 (char 958)\n",
      "Extra data: line 18 column 1 (char 717)\n",
      "Extra data: line 18 column 1 (char 1041)\n",
      "Extra data: line 18 column 1 (char 1029)\n",
      "Extra data: line 18 column 1 (char 636)\n"
     ]
    },
    {
     "name": "stderr",
     "output_type": "stream",
     "text": [
      " 10%|█████████▎                                                                                 | 7895/77002 [1:06:46<5:24:59,  3.54it/s]"
     ]
    },
    {
     "name": "stdout",
     "output_type": "stream",
     "text": [
      "Extra data: line 18 column 1 (char 619)\n",
      "Extra data: line 18 column 1 (char 790)\n",
      "Extra data: line 18 column 1 (char 820)\n",
      "Extra data: line 18 column 1 (char 807)\n"
     ]
    },
    {
     "name": "stderr",
     "output_type": "stream",
     "text": [
      " 10%|█████████▍                                                                                 | 7986/77002 [1:07:24<8:55:44,  2.15it/s]"
     ]
    },
    {
     "name": "stdout",
     "output_type": "stream",
     "text": [
      "Extra data: line 18 column 1 (char 1151)\n"
     ]
    },
    {
     "name": "stderr",
     "output_type": "stream",
     "text": [
      "\r",
      " 10%|█████████▍                                                                                 | 7989/77002 [1:07:25<6:08:59,  3.12it/s]"
     ]
    },
    {
     "name": "stdout",
     "output_type": "stream",
     "text": [
      "Extra data: line 18 column 1 (char 1210)\n"
     ]
    },
    {
     "name": "stderr",
     "output_type": "stream",
     "text": [
      " 10%|█████████▍                                                                                 | 7999/77002 [1:07:27<2:45:15,  6.96it/s]"
     ]
    },
    {
     "name": "stdout",
     "output_type": "stream",
     "text": [
      "Extra data: line 18 column 1 (char 1030)\n",
      "Extra data: line 18 column 1 (char 1151)\n",
      "Extra data: line 18 column 1 (char 1151)\n",
      "Extra data: line 18 column 1 (char 1119)\n",
      "Extra data: line 18 column 1 (char 1136)\n"
     ]
    },
    {
     "name": "stderr",
     "output_type": "stream",
     "text": [
      " 11%|█████████▍                                                                                | 8099/77002 [1:08:03<11:52:43,  1.61it/s]"
     ]
    },
    {
     "name": "stdout",
     "output_type": "stream",
     "text": [
      "Extra data: line 18 column 1 (char 926)\n"
     ]
    },
    {
     "name": "stderr",
     "output_type": "stream",
     "text": [
      " 11%|█████████▋                                                                                 | 8185/77002 [1:08:54<8:04:19,  2.37it/s]"
     ]
    },
    {
     "name": "stdout",
     "output_type": "stream",
     "text": [
      "Extra data: line 18 column 1 (char 611)\n"
     ]
    },
    {
     "name": "stderr",
     "output_type": "stream",
     "text": [
      " 11%|█████████▌                                                                                | 8193/77002 [1:08:57<10:02:16,  1.90it/s]"
     ]
    },
    {
     "name": "stdout",
     "output_type": "stream",
     "text": [
      "Extra data: line 18 column 1 (char 719)\n",
      "Extra data: line 18 column 1 (char 830)\n",
      "Extra data: line 18 column 1 (char 886)\n",
      "Extra data: line 18 column 1 (char 584)\n",
      "Extra data: line 18 column 1 (char 1043)\n"
     ]
    },
    {
     "name": "stderr",
     "output_type": "stream",
     "text": [
      " 11%|█████████▉                                                                                 | 8381/77002 [1:10:52<5:09:15,  3.70it/s]"
     ]
    },
    {
     "name": "stdout",
     "output_type": "stream",
     "text": [
      "Extra data: line 7 column 1 (char 664)\n"
     ]
    },
    {
     "name": "stderr",
     "output_type": "stream",
     "text": [
      " 11%|█████████▊                                                                                | 8396/77002 [1:11:03<23:19:38,  1.22s/it]"
     ]
    },
    {
     "name": "stdout",
     "output_type": "stream",
     "text": [
      "Extra data: line 18 column 1 (char 969)\n"
     ]
    },
    {
     "name": "stderr",
     "output_type": "stream",
     "text": [
      "\r",
      " 11%|█████████▊                                                                                | 8398/77002 [1:11:03<14:36:35,  1.30it/s]"
     ]
    },
    {
     "name": "stdout",
     "output_type": "stream",
     "text": [
      "Extra data: line 18 column 1 (char 895)\n",
      "Extra data: line 18 column 1 (char 775)\n"
     ]
    },
    {
     "name": "stderr",
     "output_type": "stream",
     "text": [
      " 11%|█████████▉                                                                                | 8460/77002 [1:11:35<16:40:18,  1.14it/s]"
     ]
    },
    {
     "name": "stdout",
     "output_type": "stream",
     "text": [
      "Extra data: line 18 column 1 (char 782)\n"
     ]
    },
    {
     "name": "stderr",
     "output_type": "stream",
     "text": [
      " 11%|█████████▉                                                                                | 8465/77002 [1:11:37<11:14:28,  1.69it/s]"
     ]
    },
    {
     "name": "stdout",
     "output_type": "stream",
     "text": [
      "Extra data: line 18 column 1 (char 572)\n",
      "Extra data: line 18 column 1 (char 704)\n",
      "Extra data: line 18 column 1 (char 589)\n",
      "Extra data: line 18 column 1 (char 587)\n"
     ]
    },
    {
     "name": "stderr",
     "output_type": "stream",
     "text": [
      "\r",
      " 11%|██████████                                                                                 | 8470/77002 [1:11:38<6:19:04,  3.01it/s]"
     ]
    },
    {
     "name": "stdout",
     "output_type": "stream",
     "text": [
      "Extra data: line 18 column 1 (char 644)\n"
     ]
    },
    {
     "name": "stderr",
     "output_type": "stream",
     "text": [
      "\r",
      " 11%|██████████                                                                                 | 8473/77002 [1:11:38<4:58:08,  3.83it/s]"
     ]
    },
    {
     "name": "stdout",
     "output_type": "stream",
     "text": [
      "Extra data: line 18 column 1 (char 693)\n"
     ]
    },
    {
     "name": "stderr",
     "output_type": "stream",
     "text": [
      "\r",
      " 11%|██████████                                                                                 | 8475/77002 [1:11:39<4:25:03,  4.31it/s]"
     ]
    },
    {
     "name": "stdout",
     "output_type": "stream",
     "text": [
      "Extra data: line 18 column 1 (char 881)\n",
      "Extra data: line 18 column 1 (char 907)\n",
      "Extra data: line 18 column 1 (char 810)\n",
      "Extra data: line 18 column 1 (char 690)\n",
      "Extra data: line 18 column 1 (char 703)\n",
      "Extra data: line 18 column 1 (char 794)\n",
      "Extra data: line 18 column 1 (char 807)\n",
      "Extra data: line 18 column 1 (char 785)\n",
      "Extra data: line 18 column 1 (char 593)\n",
      "Extra data: line 18 column 1 (char 778)\n",
      "Extra data: line 18 column 1 (char 860)\n",
      "Extra data: line 18 column 1 (char 919)\n",
      "Extra data: line 18 column 1 (char 841)\n",
      "Extra data: line 18 column 1 (char 892)\n"
     ]
    },
    {
     "name": "stderr",
     "output_type": "stream",
     "text": [
      "\r",
      " 11%|██████████                                                                                 | 8490/77002 [1:11:39<1:28:41, 12.87it/s]"
     ]
    },
    {
     "name": "stdout",
     "output_type": "stream",
     "text": [
      "Extra data: line 18 column 1 (char 908)\n",
      "Extra data: line 18 column 1 (char 854)\n",
      "Extra data: line 18 column 1 (char 990)\n",
      "Extra data: line 18 column 1 (char 917)\n",
      "Extra data: line 18 column 1 (char 881)\n",
      "Extra data: line 18 column 1 (char 956)\n",
      "Extra data: line 18 column 1 (char 1065)\n",
      "Extra data: line 18 column 1 (char 1120)\n",
      "Extra data: line 18 column 1 (char 936)\n",
      "Extra data: line 18 column 1 (char 1259)\n",
      "'NoneType' object is not subscriptable\n",
      "'NoneType' object is not subscriptable\n",
      "'NoneType' object is not subscriptable\n",
      "'NoneType' object is not subscriptable\n"
     ]
    },
    {
     "name": "stderr",
     "output_type": "stream",
     "text": [
      " 11%|██████████▏                                                                                | 8577/77002 [1:12:14<6:09:06,  3.09it/s]"
     ]
    },
    {
     "name": "stdout",
     "output_type": "stream",
     "text": [
      "Extra data: line 18 column 1 (char 401)\n"
     ]
    },
    {
     "name": "stderr",
     "output_type": "stream",
     "text": [
      "\r",
      " 11%|██████████▏                                                                                | 8579/77002 [1:12:16<9:48:13,  1.94it/s]"
     ]
    },
    {
     "name": "stdout",
     "output_type": "stream",
     "text": [
      "Extra data: line 18 column 1 (char 575)\n",
      "Extra data: line 18 column 1 (char 458)\n",
      "Extra data: line 18 column 1 (char 864)\n",
      "Extra data: line 18 column 1 (char 740)\n",
      "Extra data: line 18 column 1 (char 672)\n",
      "Extra data: line 18 column 1 (char 603)\n"
     ]
    },
    {
     "name": "stderr",
     "output_type": "stream",
     "text": [
      "\r",
      " 11%|██████████▏                                                                                | 8586/77002 [1:12:16<3:57:23,  4.80it/s]"
     ]
    },
    {
     "name": "stdout",
     "output_type": "stream",
     "text": [
      "Extra data: line 18 column 1 (char 1103)\n",
      "Extra data: line 18 column 1 (char 827)\n",
      "Extra data: line 18 column 1 (char 1026)\n",
      "Extra data: line 18 column 1 (char 771)\n",
      "Extra data: line 18 column 1 (char 712)\n",
      "Extra data: line 18 column 1 (char 813)\n",
      "Extra data: line 18 column 1 (char 827)\n",
      "Extra data: line 18 column 1 (char 882)\n",
      "Extra data: line 18 column 1 (char 674)\n",
      "Extra data: line 18 column 1 (char 769)\n"
     ]
    },
    {
     "name": "stderr",
     "output_type": "stream",
     "text": [
      " 11%|██████████▏                                                                                | 8600/77002 [1:12:18<2:23:31,  7.94it/s]"
     ]
    },
    {
     "name": "stdout",
     "output_type": "stream",
     "text": [
      "Extra data: line 18 column 1 (char 963)\n",
      "Extra data: line 18 column 1 (char 923)\n",
      "'NoneType' object is not subscriptable\n",
      "'NoneType' object is not subscriptable\n",
      "'NoneType' object is not subscriptable\n",
      "'NoneType' object is not subscriptable\n",
      "'NoneType' object is not subscriptable\n",
      "'NoneType' object is not subscriptable\n",
      "'NoneType' object is not subscriptable\n",
      "'NoneType' object is not subscriptable\n",
      "'NoneType' object is not subscriptable\n",
      "'NoneType' object is not subscriptable\n",
      "'NoneType' object is not subscriptable\n",
      "'NoneType' object is not subscriptable\n",
      "'NoneType' object is not subscriptable\n",
      "'NoneType' object is not subscriptable\n",
      "'NoneType' object is not subscriptable\n",
      "'NoneType' object is not subscriptable\n",
      "'NoneType' object is not subscriptable\n",
      "'NoneType' object is not subscriptable\n",
      "'NoneType' object is not subscriptable\n",
      "'NoneType' object is not subscriptable\n",
      "'NoneType' object is not subscriptable\n",
      "'NoneType' object is not subscriptable\n",
      "'NoneType' object is not subscriptable\n",
      "'NoneType' object is not subscriptable\n",
      "'NoneType' object is not subscriptable\n",
      "'NoneType' object is not subscriptable\n",
      "'NoneType' object is not subscriptable\n",
      "'NoneType' object is not subscriptable\n",
      "'NoneType' object is not subscriptable\n",
      "'NoneType' object is not subscriptable\n",
      "'NoneType' object is not subscriptable\n",
      "'NoneType' object is not subscriptable\n",
      "'NoneType' object is not subscriptable\n",
      "'NoneType' object is not subscriptable\n",
      "'NoneType' object is not subscriptable\n",
      "'NoneType' object is not subscriptable\n",
      "'NoneType' object is not subscriptable\n",
      "'NoneType' object is not subscriptable\n",
      "'NoneType' object is not subscriptable\n",
      "'NoneType' object is not subscriptable\n",
      "'NoneType' object is not subscriptable\n",
      "'NoneType' object is not subscriptable\n",
      "'NoneType' object is not subscriptable\n",
      "'NoneType' object is not subscriptable\n",
      "'NoneType' object is not subscriptable\n",
      "'NoneType' object is not subscriptable\n",
      "'NoneType' object is not subscriptable\n",
      "'NoneType' object is not subscriptable\n",
      "'NoneType' object is not subscriptable\n",
      "'NoneType' object is not subscriptable\n",
      "'NoneType' object is not subscriptable\n",
      "'NoneType' object is not subscriptable\n",
      "'NoneType' object is not subscriptable\n",
      "'NoneType' object is not subscriptable\n",
      "'NoneType' object is not subscriptable\n",
      "'NoneType' object is not subscriptable\n",
      "'NoneType' object is not subscriptable\n",
      "'NoneType' object is not subscriptable\n",
      "'NoneType' object is not subscriptable\n"
     ]
    },
    {
     "name": "stderr",
     "output_type": "stream",
     "text": [
      " 11%|██████████▎                                                                               | 8785/77002 [1:13:21<41:42:43,  2.20s/it]"
     ]
    },
    {
     "name": "stdout",
     "output_type": "stream",
     "text": [
      "Extra data: line 18 column 1 (char 871)\n"
     ]
    },
    {
     "name": "stderr",
     "output_type": "stream",
     "text": [
      " 11%|██████████▎                                                                               | 8790/77002 [1:13:22<15:32:54,  1.22it/s]"
     ]
    },
    {
     "name": "stdout",
     "output_type": "stream",
     "text": [
      "Extra data: line 18 column 1 (char 1244)\n",
      "Extra data: line 18 column 1 (char 777)\n",
      "Extra data: line 18 column 1 (char 1244)\n",
      "Extra data: line 18 column 1 (char 757)\n"
     ]
    },
    {
     "name": "stderr",
     "output_type": "stream",
     "text": [
      "\r",
      " 11%|██████████▍                                                                                | 8795/77002 [1:13:23<7:44:35,  2.45it/s]"
     ]
    },
    {
     "name": "stdout",
     "output_type": "stream",
     "text": [
      "Expecting ',' delimiter: line 9 column 125 (char 484)\n",
      "Extra data: line 18 column 1 (char 871)\n",
      "Extra data: line 18 column 1 (char 867)\n",
      "Extra data: line 18 column 1 (char 623)\n"
     ]
    },
    {
     "name": "stderr",
     "output_type": "stream",
     "text": [
      " 12%|██████████▌                                                                                | 8892/77002 [1:14:18<6:58:45,  2.71it/s]"
     ]
    },
    {
     "name": "stdout",
     "output_type": "stream",
     "text": [
      "Extra data: line 18 column 1 (char 939)\n"
     ]
    },
    {
     "name": "stderr",
     "output_type": "stream",
     "text": [
      " 12%|██████████▌                                                                                | 8897/77002 [1:14:19<5:13:12,  3.62it/s]"
     ]
    },
    {
     "name": "stdout",
     "output_type": "stream",
     "text": [
      "Extra data: line 18 column 1 (char 775)\n"
     ]
    },
    {
     "name": "stderr",
     "output_type": "stream",
     "text": [
      " 12%|██████████▊                                                                               | 9198/77002 [1:17:26<11:00:00,  1.71it/s]"
     ]
    },
    {
     "name": "stdout",
     "output_type": "stream",
     "text": [
      "Extra data: line 18 column 1 (char 683)\n"
     ]
    },
    {
     "name": "stderr",
     "output_type": "stream",
     "text": [
      " 12%|██████████▊                                                                               | 9291/77002 [1:18:23<10:51:48,  1.73it/s]"
     ]
    },
    {
     "name": "stdout",
     "output_type": "stream",
     "text": [
      "Extra data: line 18 column 1 (char 601)\n",
      "Extra data: line 18 column 1 (char 744)\n"
     ]
    },
    {
     "name": "stderr",
     "output_type": "stream",
     "text": [
      "\r",
      " 12%|██████████▉                                                                                | 9295/77002 [1:18:24<6:27:50,  2.91it/s]"
     ]
    },
    {
     "name": "stdout",
     "output_type": "stream",
     "text": [
      "Extra data: line 18 column 1 (char 787)\n",
      "Extra data: line 18 column 1 (char 750)\n"
     ]
    },
    {
     "name": "stderr",
     "output_type": "stream",
     "text": [
      "\r",
      " 12%|██████████▉                                                                                | 9298/77002 [1:18:26<8:17:15,  2.27it/s]"
     ]
    },
    {
     "name": "stdout",
     "output_type": "stream",
     "text": [
      "Extra data: line 18 column 1 (char 823)\n",
      "Extra data: line 18 column 1 (char 811)\n"
     ]
    },
    {
     "name": "stderr",
     "output_type": "stream",
     "text": [
      " 12%|███████████                                                                                | 9393/77002 [1:18:59<1:19:27, 14.18it/s]"
     ]
    },
    {
     "name": "stdout",
     "output_type": "stream",
     "text": [
      "Extra data: line 7 column 1 (char 518)\n",
      "Extra data: line 18 column 1 (char 640)\n",
      "Extra data: line 18 column 1 (char 918)\n",
      "Extra data: line 18 column 1 (char 1102)\n",
      "Extra data: line 18 column 1 (char 948)\n",
      "Extra data: line 18 column 1 (char 991)\n",
      "Extra data: line 18 column 1 (char 1002)\n",
      "Extra data: line 18 column 1 (char 1132)\n",
      "Extra data: line 18 column 1 (char 1082)\n",
      "Extra data: line 18 column 1 (char 790)\n",
      "Extra data: line 18 column 1 (char 828)\n",
      "Extra data: line 18 column 1 (char 950)\n"
     ]
    },
    {
     "name": "stderr",
     "output_type": "stream",
     "text": [
      "\r",
      " 12%|███████████                                                                                | 9396/77002 [1:18:59<1:48:18, 10.40it/s]"
     ]
    },
    {
     "name": "stdout",
     "output_type": "stream",
     "text": [
      "Extra data: line 18 column 1 (char 958)\n",
      "Extra data: line 18 column 1 (char 1019)\n",
      "Extra data: line 18 column 1 (char 1109)\n",
      "Extra data: line 7 column 1 (char 1018)\n",
      "Extra data: line 18 column 1 (char 912)\n"
     ]
    },
    {
     "name": "stderr",
     "output_type": "stream",
     "text": [
      " 12%|███████████                                                                               | 9496/77002 [1:19:59<15:39:29,  1.20it/s]"
     ]
    },
    {
     "name": "stdout",
     "output_type": "stream",
     "text": [
      "Extra data: line 18 column 1 (char 829)\n"
     ]
    },
    {
     "name": "stderr",
     "output_type": "stream",
     "text": [
      "\r",
      " 12%|███████████                                                                               | 9498/77002 [1:20:00<11:29:14,  1.63it/s]"
     ]
    },
    {
     "name": "stdout",
     "output_type": "stream",
     "text": [
      "Extra data: line 18 column 1 (char 846)\n",
      "Extra data: line 18 column 1 (char 896)\n"
     ]
    },
    {
     "name": "stderr",
     "output_type": "stream",
     "text": [
      " 12%|███████████▎                                                                               | 9599/77002 [1:20:41<3:54:58,  4.78it/s]"
     ]
    },
    {
     "name": "stdout",
     "output_type": "stream",
     "text": [
      "Extra data: line 18 column 1 (char 1140)\n"
     ]
    },
    {
     "name": "stderr",
     "output_type": "stream",
     "text": [
      " 13%|███████████▍                                                                               | 9691/77002 [1:21:28<8:47:43,  2.13it/s]"
     ]
    },
    {
     "name": "stdout",
     "output_type": "stream",
     "text": [
      "Extra data: line 18 column 1 (char 857)\n"
     ]
    },
    {
     "name": "stderr",
     "output_type": "stream",
     "text": [
      " 13%|███████████▍                                                                              | 9798/77002 [1:22:40<12:57:00,  1.44it/s]"
     ]
    },
    {
     "name": "stdout",
     "output_type": "stream",
     "text": [
      "Extra data: line 18 column 1 (char 910)\n"
     ]
    },
    {
     "name": "stderr",
     "output_type": "stream",
     "text": [
      " 13%|███████████▌                                                                              | 9894/77002 [1:23:23<12:29:36,  1.49it/s]"
     ]
    },
    {
     "name": "stdout",
     "output_type": "stream",
     "text": [
      "Extra data: line 18 column 1 (char 847)\n",
      "Extra data: line 18 column 1 (char 636)\n",
      "Extra data: line 18 column 1 (char 580)\n"
     ]
    },
    {
     "name": "stderr",
     "output_type": "stream",
     "text": [
      " 13%|███████████▋                                                                               | 9899/77002 [1:23:24<6:11:19,  3.01it/s]"
     ]
    },
    {
     "name": "stdout",
     "output_type": "stream",
     "text": [
      "Extra data: line 18 column 1 (char 636)\n"
     ]
    },
    {
     "name": "stderr",
     "output_type": "stream",
     "text": [
      " 13%|███████████▋                                                                              | 9997/77002 [1:24:35<30:15:15,  1.63s/it]"
     ]
    },
    {
     "name": "stdout",
     "output_type": "stream",
     "text": [
      "Extra data: line 18 column 1 (char 857)\n"
     ]
    },
    {
     "name": "stderr",
     "output_type": "stream",
     "text": [
      " 13%|███████████▋                                                                             | 10095/77002 [1:25:31<11:14:56,  1.65it/s]"
     ]
    },
    {
     "name": "stdout",
     "output_type": "stream",
     "text": [
      "Extra data: line 18 column 1 (char 642)\n",
      "Extra data: line 18 column 1 (char 684)\n",
      "Extra data: line 18 column 1 (char 827)\n"
     ]
    },
    {
     "name": "stderr",
     "output_type": "stream",
     "text": [
      "\r",
      " 13%|███████████▋                                                                             | 10099/77002 [1:25:39<25:37:54,  1.38s/it]"
     ]
    },
    {
     "name": "stdout",
     "output_type": "stream",
     "text": [
      "Extra data: line 18 column 1 (char 827)\n"
     ]
    },
    {
     "name": "stderr",
     "output_type": "stream",
     "text": [
      " 13%|███████████▉                                                                              | 10184/77002 [1:26:10<8:16:52,  2.24it/s]"
     ]
    },
    {
     "name": "stdout",
     "output_type": "stream",
     "text": [
      "Extra data: line 18 column 1 (char 544)\n"
     ]
    },
    {
     "name": "stderr",
     "output_type": "stream",
     "text": [
      " 13%|███████████▉                                                                              | 10192/77002 [1:26:13<6:13:36,  2.98it/s]"
     ]
    },
    {
     "name": "stdout",
     "output_type": "stream",
     "text": [
      "Extra data: line 18 column 1 (char 722)\n"
     ]
    },
    {
     "name": "stderr",
     "output_type": "stream",
     "text": [
      "\r",
      " 13%|███████████▉                                                                              | 10194/77002 [1:26:13<4:28:44,  4.14it/s]"
     ]
    },
    {
     "name": "stdout",
     "output_type": "stream",
     "text": [
      "Extra data: line 18 column 1 (char 584)\n",
      "Extra data: line 18 column 1 (char 607)\n",
      "Extra data: line 18 column 1 (char 580)\n",
      "Extra data: line 18 column 1 (char 815)\n",
      "Extra data: line 18 column 1 (char 745)\n"
     ]
    },
    {
     "name": "stderr",
     "output_type": "stream",
     "text": [
      " 13%|███████████▉                                                                             | 10298/77002 [1:27:33<12:54:02,  1.44it/s]"
     ]
    },
    {
     "name": "stdout",
     "output_type": "stream",
     "text": [
      "Extra data: line 18 column 1 (char 604)\n"
     ]
    },
    {
     "name": "stderr",
     "output_type": "stream",
     "text": [
      " 14%|████████████                                                                             | 10396/77002 [1:28:22<12:19:23,  1.50it/s]"
     ]
    },
    {
     "name": "stdout",
     "output_type": "stream",
     "text": [
      "Extra data: line 18 column 1 (char 853)\n"
     ]
    },
    {
     "name": "stderr",
     "output_type": "stream",
     "text": [
      " 14%|████████████▏                                                                            | 10492/77002 [1:29:43<25:02:55,  1.36s/it]"
     ]
    },
    {
     "name": "stdout",
     "output_type": "stream",
     "text": [
      "Extra data: line 18 column 1 (char 714)\n"
     ]
    },
    {
     "name": "stderr",
     "output_type": "stream",
     "text": [
      "\r",
      " 14%|████████████▏                                                                            | 10494/77002 [1:29:43<14:56:55,  1.24it/s]"
     ]
    },
    {
     "name": "stdout",
     "output_type": "stream",
     "text": [
      "Extra data: line 18 column 1 (char 928)\n",
      "Extra data: line 18 column 1 (char 631)\n",
      "Expecting ',' delimiter: line 5 column 45 (char 166)\n",
      "Extra data: line 18 column 1 (char 760)\n",
      "Extra data: line 18 column 1 (char 737)\n"
     ]
    },
    {
     "name": "stderr",
     "output_type": "stream",
     "text": [
      " 14%|████████████▌                                                                             | 10773/77002 [1:32:33<9:02:41,  2.03it/s]"
     ]
    },
    {
     "name": "stdout",
     "output_type": "stream",
     "text": [
      "Extra data: line 18 column 1 (char 592)\n"
     ]
    },
    {
     "name": "stderr",
     "output_type": "stream",
     "text": [
      " 14%|████████████▌                                                                             | 10783/77002 [1:32:35<6:24:50,  2.87it/s]"
     ]
    },
    {
     "name": "stdout",
     "output_type": "stream",
     "text": [
      "Extra data: line 18 column 1 (char 833)\n",
      "Extra data: line 18 column 1 (char 819)\n"
     ]
    },
    {
     "name": "stderr",
     "output_type": "stream",
     "text": [
      " 14%|████████████▌                                                                             | 10789/77002 [1:32:36<4:43:50,  3.89it/s]"
     ]
    },
    {
     "name": "stdout",
     "output_type": "stream",
     "text": [
      "Extra data: line 18 column 1 (char 724)\n"
     ]
    },
    {
     "name": "stderr",
     "output_type": "stream",
     "text": [
      "\r",
      " 14%|████████████▌                                                                             | 10791/77002 [1:32:37<4:09:47,  4.42it/s]"
     ]
    },
    {
     "name": "stdout",
     "output_type": "stream",
     "text": [
      "Extra data: line 18 column 1 (char 749)\n"
     ]
    },
    {
     "name": "stderr",
     "output_type": "stream",
     "text": [
      " 14%|████████████▌                                                                             | 10801/77002 [1:32:38<1:56:07,  9.50it/s]"
     ]
    },
    {
     "name": "stdout",
     "output_type": "stream",
     "text": [
      "Extra data: line 18 column 1 (char 887)\n",
      "Extra data: line 18 column 1 (char 711)\n",
      "Extra data: line 18 column 1 (char 690)\n",
      "Extra data: line 18 column 1 (char 908)\n",
      "Extra data: line 18 column 1 (char 949)\n",
      "Extra data: line 18 column 1 (char 984)\n",
      "Extra data: line 18 column 1 (char 1037)\n"
     ]
    },
    {
     "name": "stderr",
     "output_type": "stream",
     "text": [
      " 14%|████████████▌                                                                            | 10897/77002 [1:33:30<12:48:15,  1.43it/s]"
     ]
    },
    {
     "name": "stdout",
     "output_type": "stream",
     "text": [
      "Extra data: line 18 column 1 (char 875)\n"
     ]
    },
    {
     "name": "stderr",
     "output_type": "stream",
     "text": [
      "\r",
      " 14%|████████████▋                                                                             | 10899/77002 [1:33:31<9:41:44,  1.89it/s]"
     ]
    },
    {
     "name": "stdout",
     "output_type": "stream",
     "text": [
      "Extra data: line 18 column 1 (char 858)\n"
     ]
    },
    {
     "name": "stderr",
     "output_type": "stream",
     "text": [
      " 14%|████████████▋                                                                            | 10983/77002 [1:34:34<15:10:20,  1.21it/s]"
     ]
    },
    {
     "name": "stdout",
     "output_type": "stream",
     "text": [
      "Extra data: line 18 column 1 (char 616)\n"
     ]
    },
    {
     "name": "stderr",
     "output_type": "stream",
     "text": [
      " 14%|████████████▊                                                                             | 10989/77002 [1:34:37<9:29:19,  1.93it/s]"
     ]
    },
    {
     "name": "stdout",
     "output_type": "stream",
     "text": [
      "Extra data: line 18 column 1 (char 717)\n",
      "Extra data: line 18 column 1 (char 798)\n"
     ]
    },
    {
     "name": "stderr",
     "output_type": "stream",
     "text": [
      " 14%|████████████▊                                                                             | 10993/77002 [1:34:38<8:40:58,  2.11it/s]"
     ]
    },
    {
     "name": "stdout",
     "output_type": "stream",
     "text": [
      "Extra data: line 18 column 1 (char 681)\n",
      "Extra data: line 18 column 1 (char 847)\n",
      "Extra data: line 18 column 1 (char 578)\n",
      "Extra data: line 18 column 1 (char 649)\n",
      "Extra data: line 18 column 1 (char 726)\n",
      "Extra data: line 18 column 1 (char 542)\n",
      "Extra data: line 18 column 1 (char 653)\n",
      "'NoneType' object is not subscriptable\n",
      "'NoneType' object is not subscriptable\n",
      "'NoneType' object is not subscriptable\n",
      "'NoneType' object is not subscriptable\n",
      "'NoneType' object is not subscriptable\n",
      "'NoneType' object is not subscriptable\n",
      "'NoneType' object is not subscriptable\n",
      "'NoneType' object is not subscriptable\n",
      "'NoneType' object is not subscriptable\n",
      "'NoneType' object is not subscriptable\n",
      "'NoneType' object is not subscriptable\n",
      "'NoneType' object is not subscriptable\n",
      "'NoneType' object is not subscriptable\n",
      "'NoneType' object is not subscriptable\n",
      "'NoneType' object is not subscriptable\n",
      "'NoneType' object is not subscriptable\n"
     ]
    },
    {
     "name": "stderr",
     "output_type": "stream",
     "text": [
      " 14%|████████████▊                                                                            | 11085/77002 [1:35:08<12:37:19,  1.45it/s]"
     ]
    },
    {
     "name": "stdout",
     "output_type": "stream",
     "text": [
      "Extra data: line 18 column 1 (char 795)\n",
      "Extra data: line 18 column 1 (char 780)\n"
     ]
    },
    {
     "name": "stderr",
     "output_type": "stream",
     "text": [
      " 14%|████████████▉                                                                             | 11095/77002 [1:35:11<6:42:34,  2.73it/s]"
     ]
    },
    {
     "name": "stdout",
     "output_type": "stream",
     "text": [
      "Extra data: line 18 column 1 (char 776)\n",
      "Extra data: line 18 column 1 (char 814)\n",
      "Extra data: line 18 column 1 (char 807)\n"
     ]
    },
    {
     "name": "stderr",
     "output_type": "stream",
     "text": [
      "\r",
      " 14%|████████████▉                                                                             | 11099/77002 [1:35:12<4:10:50,  4.38it/s]"
     ]
    },
    {
     "name": "stdout",
     "output_type": "stream",
     "text": [
      "Extra data: line 18 column 1 (char 769)\n"
     ]
    },
    {
     "name": "stderr",
     "output_type": "stream",
     "text": [
      " 15%|█████████████                                                                             | 11184/77002 [1:36:09<5:20:56,  3.42it/s]"
     ]
    },
    {
     "name": "stdout",
     "output_type": "stream",
     "text": [
      "Extra data: line 18 column 1 (char 790)\n",
      "Extra data: line 18 column 1 (char 840)\n",
      "Extra data: line 18 column 1 (char 734)\n",
      "Extra data: line 18 column 1 (char 590)\n",
      "Extra data: line 18 column 1 (char 520)\n",
      "Extra data: line 18 column 1 (char 626)\n"
     ]
    },
    {
     "name": "stderr",
     "output_type": "stream",
     "text": [
      "\r",
      " 15%|█████████████                                                                             | 11189/77002 [1:36:09<2:59:32,  6.11it/s]"
     ]
    },
    {
     "name": "stdout",
     "output_type": "stream",
     "text": [
      "Extra data: line 18 column 1 (char 749)\n",
      "Extra data: line 18 column 1 (char 1132)\n",
      "Extra data: line 18 column 1 (char 767)\n",
      "Extra data: line 18 column 1 (char 697)\n",
      "Extra data: line 18 column 1 (char 812)\n",
      "Extra data: line 18 column 1 (char 997)\n",
      "Extra data: line 18 column 1 (char 737)\n"
     ]
    },
    {
     "name": "stderr",
     "output_type": "stream",
     "text": [
      "\r",
      " 15%|█████████████                                                                             | 11197/77002 [1:36:10<2:00:32,  9.10it/s]"
     ]
    },
    {
     "name": "stdout",
     "output_type": "stream",
     "text": [
      "Extra data: line 18 column 1 (char 949)\n",
      "Extra data: line 18 column 1 (char 755)\n"
     ]
    },
    {
     "name": "stderr",
     "output_type": "stream",
     "text": [
      "\r",
      " 15%|█████████████                                                                             | 11200/77002 [1:36:10<2:33:59,  7.12it/s]"
     ]
    },
    {
     "name": "stdout",
     "output_type": "stream",
     "text": [
      "'NoneType' object is not subscriptable\n"
     ]
    },
    {
     "name": "stderr",
     "output_type": "stream",
     "text": [
      " 15%|█████████████                                                                            | 11275/77002 [1:37:15<27:18:35,  1.50s/it]"
     ]
    },
    {
     "name": "stdout",
     "output_type": "stream",
     "text": [
      "Extra data: line 18 column 1 (char 672)\n"
     ]
    },
    {
     "name": "stderr",
     "output_type": "stream",
     "text": [
      "\r",
      " 15%|█████████████                                                                            | 11277/77002 [1:37:16<18:17:27,  1.00s/it]"
     ]
    },
    {
     "name": "stdout",
     "output_type": "stream",
     "text": [
      "Extra data: line 18 column 1 (char 852)\n"
     ]
    },
    {
     "name": "stderr",
     "output_type": "stream",
     "text": [
      "\r",
      " 15%|█████████████                                                                            | 11279/77002 [1:37:16<12:17:34,  1.49it/s]"
     ]
    },
    {
     "name": "stdout",
     "output_type": "stream",
     "text": [
      "Extra data: line 18 column 1 (char 560)\n"
     ]
    },
    {
     "name": "stderr",
     "output_type": "stream",
     "text": [
      "\r",
      " 15%|█████████████▏                                                                            | 11281/77002 [1:37:16<9:52:43,  1.85it/s]"
     ]
    },
    {
     "name": "stdout",
     "output_type": "stream",
     "text": [
      "Extra data: line 18 column 1 (char 558)\n",
      "Extra data: line 18 column 1 (char 639)\n"
     ]
    },
    {
     "name": "stderr",
     "output_type": "stream",
     "text": [
      "\r",
      " 15%|█████████████▏                                                                            | 11284/77002 [1:37:17<6:29:34,  2.81it/s]"
     ]
    },
    {
     "name": "stdout",
     "output_type": "stream",
     "text": [
      "Extra data: line 18 column 1 (char 671)\n"
     ]
    },
    {
     "name": "stderr",
     "output_type": "stream",
     "text": [
      "\r",
      " 15%|█████████████▏                                                                            | 11286/77002 [1:37:17<5:30:51,  3.31it/s]"
     ]
    },
    {
     "name": "stdout",
     "output_type": "stream",
     "text": [
      "Extra data: line 18 column 1 (char 656)\n"
     ]
    },
    {
     "name": "stderr",
     "output_type": "stream",
     "text": [
      "\r",
      " 15%|█████████████▏                                                                            | 11288/77002 [1:37:17<4:46:23,  3.82it/s]"
     ]
    },
    {
     "name": "stdout",
     "output_type": "stream",
     "text": [
      "Extra data: line 18 column 1 (char 707)\n",
      "Extra data: line 18 column 1 (char 642)\n",
      "Extra data: line 18 column 1 (char 914)\n",
      "Extra data: line 18 column 1 (char 697)\n",
      "Extra data: line 18 column 1 (char 918)\n",
      "Extra data: line 18 column 1 (char 959)\n",
      "Extra data: line 18 column 1 (char 936)\n",
      "Extra data: line 18 column 1 (char 982)\n",
      "Extra data: line 18 column 1 (char 1012)\n",
      "Extra data: line 18 column 1 (char 1032)\n",
      "Extra data: line 18 column 1 (char 913)\n"
     ]
    },
    {
     "name": "stderr",
     "output_type": "stream",
     "text": [
      " 15%|█████████████▎                                                                            | 11398/77002 [1:37:55<9:34:00,  1.90it/s]"
     ]
    },
    {
     "name": "stdout",
     "output_type": "stream",
     "text": [
      "Extra data: line 18 column 1 (char 749)\n",
      "Extra data: line 18 column 1 (char 842)\n"
     ]
    },
    {
     "name": "stderr",
     "output_type": "stream",
     "text": [
      " 15%|█████████████▍                                                                            | 11492/77002 [1:38:36<6:39:46,  2.73it/s]"
     ]
    },
    {
     "name": "stdout",
     "output_type": "stream",
     "text": [
      "Extra data: line 18 column 1 (char 1141)\n"
     ]
    },
    {
     "name": "stderr",
     "output_type": "stream",
     "text": [
      " 15%|█████████████▎                                                                           | 11498/77002 [1:38:45<17:50:19,  1.02it/s]"
     ]
    },
    {
     "name": "stdout",
     "output_type": "stream",
     "text": [
      "Extra data: line 18 column 1 (char 967)\n"
     ]
    },
    {
     "name": "stderr",
     "output_type": "stream",
     "text": [
      " 15%|█████████████▌                                                                            | 11591/77002 [1:39:31<5:03:34,  3.59it/s]"
     ]
    },
    {
     "name": "stdout",
     "output_type": "stream",
     "text": [
      "Extra data: line 18 column 1 (char 972)\n",
      "Extra data: line 18 column 1 (char 987)\n"
     ]
    },
    {
     "name": "stderr",
     "output_type": "stream",
     "text": [
      " 15%|█████████████▌                                                                            | 11598/77002 [1:39:31<2:22:20,  7.66it/s]"
     ]
    },
    {
     "name": "stdout",
     "output_type": "stream",
     "text": [
      "Extra data: line 18 column 1 (char 1175)\n",
      "Extra data: line 18 column 1 (char 1175)\n"
     ]
    },
    {
     "name": "stderr",
     "output_type": "stream",
     "text": [
      " 15%|█████████████▌                                                                           | 11786/77002 [1:41:27<13:40:41,  1.32it/s]"
     ]
    },
    {
     "name": "stdout",
     "output_type": "stream",
     "text": [
      "Extra data: line 18 column 1 (char 939)\n"
     ]
    },
    {
     "name": "stderr",
     "output_type": "stream",
     "text": [
      "\r",
      " 15%|█████████████▌                                                                           | 11788/77002 [1:41:28<10:34:33,  1.71it/s]"
     ]
    },
    {
     "name": "stdout",
     "output_type": "stream",
     "text": [
      "Extra data: line 18 column 1 (char 933)\n"
     ]
    },
    {
     "name": "stderr",
     "output_type": "stream",
     "text": [
      "\r",
      " 15%|█████████████▊                                                                            | 11790/77002 [1:41:28<8:50:32,  2.05it/s]"
     ]
    },
    {
     "name": "stdout",
     "output_type": "stream",
     "text": [
      "Extra data: line 18 column 1 (char 1062)\n"
     ]
    },
    {
     "name": "stderr",
     "output_type": "stream",
     "text": [
      " 15%|█████████████▉                                                                            | 11891/77002 [1:42:16<6:21:38,  2.84it/s]"
     ]
    },
    {
     "name": "stdout",
     "output_type": "stream",
     "text": [
      "Extra data: line 18 column 1 (char 909)\n"
     ]
    },
    {
     "name": "stderr",
     "output_type": "stream",
     "text": [
      "\r",
      " 15%|█████████████▉                                                                            | 11893/77002 [1:42:16<5:19:10,  3.40it/s]"
     ]
    },
    {
     "name": "stdout",
     "output_type": "stream",
     "text": [
      "Extra data: line 18 column 1 (char 1033)\n"
     ]
    },
    {
     "name": "stderr",
     "output_type": "stream",
     "text": [
      " 16%|██████████████                                                                            | 11992/77002 [1:43:11<7:53:52,  2.29it/s]"
     ]
    },
    {
     "name": "stdout",
     "output_type": "stream",
     "text": [
      "Extra data: line 18 column 1 (char 643)\n",
      "Extra data: line 18 column 1 (char 507)\n"
     ]
    },
    {
     "name": "stderr",
     "output_type": "stream",
     "text": [
      " 16%|██████████████                                                                            | 11999/77002 [1:43:11<3:02:51,  5.92it/s]"
     ]
    },
    {
     "name": "stdout",
     "output_type": "stream",
     "text": [
      "Extra data: line 18 column 1 (char 684)\n",
      "Extra data: line 18 column 1 (char 584)\n",
      "Extra data: line 18 column 1 (char 1012)\n"
     ]
    },
    {
     "name": "stderr",
     "output_type": "stream",
     "text": [
      " 16%|██████████████▏                                                                           | 12096/77002 [1:44:21<9:37:57,  1.87it/s]"
     ]
    },
    {
     "name": "stdout",
     "output_type": "stream",
     "text": [
      "Extra data: line 18 column 1 (char 1085)\n"
     ]
    },
    {
     "name": "stderr",
     "output_type": "stream",
     "text": [
      " 16%|██████████████                                                                           | 12192/77002 [1:45:19<10:36:34,  1.70it/s]"
     ]
    },
    {
     "name": "stdout",
     "output_type": "stream",
     "text": [
      "Extra data: line 18 column 1 (char 857)\n",
      "Extra data: line 18 column 1 (char 857)\n",
      "Extra data: line 18 column 1 (char 857)\n"
     ]
    },
    {
     "name": "stderr",
     "output_type": "stream",
     "text": [
      " 16%|██████████████▏                                                                          | 12288/77002 [1:46:32<14:44:07,  1.22it/s]"
     ]
    },
    {
     "name": "stdout",
     "output_type": "stream",
     "text": [
      "Extra data: line 18 column 1 (char 671)\n"
     ]
    },
    {
     "name": "stderr",
     "output_type": "stream",
     "text": [
      " 16%|██████████████▎                                                                           | 12296/77002 [1:46:34<5:46:58,  3.11it/s]"
     ]
    },
    {
     "name": "stdout",
     "output_type": "stream",
     "text": [
      "Extra data: line 18 column 1 (char 693)\n"
     ]
    },
    {
     "name": "stderr",
     "output_type": "stream",
     "text": [
      " 16%|██████████████▏                                                                          | 12301/77002 [1:46:42<13:31:42,  1.33it/s]"
     ]
    },
    {
     "name": "stdout",
     "output_type": "stream",
     "text": [
      "Extra data: line 18 column 1 (char 708)\n",
      "Extra data: line 18 column 1 (char 860)\n"
     ]
    },
    {
     "name": "stderr",
     "output_type": "stream",
     "text": [
      " 16%|██████████████▍                                                                           | 12376/77002 [1:47:22<4:19:12,  4.16it/s]"
     ]
    },
    {
     "name": "stdout",
     "output_type": "stream",
     "text": [
      "Extra data: line 18 column 1 (char 672)\n",
      "Extra data: line 18 column 1 (char 436)\n"
     ]
    },
    {
     "name": "stderr",
     "output_type": "stream",
     "text": [
      "\r",
      " 16%|██████████████▍                                                                           | 12380/77002 [1:47:22<3:22:05,  5.33it/s]"
     ]
    },
    {
     "name": "stdout",
     "output_type": "stream",
     "text": [
      "Extra data: line 18 column 1 (char 768)\n"
     ]
    },
    {
     "name": "stderr",
     "output_type": "stream",
     "text": [
      " 16%|██████████████▍                                                                           | 12384/77002 [1:47:24<5:59:03,  3.00it/s]"
     ]
    },
    {
     "name": "stdout",
     "output_type": "stream",
     "text": [
      "Extra data: line 18 column 1 (char 685)\n",
      "Extra data: line 18 column 1 (char 925)\n"
     ]
    },
    {
     "name": "stderr",
     "output_type": "stream",
     "text": [
      "\r",
      " 16%|██████████████▍                                                                           | 12387/77002 [1:47:24<4:10:58,  4.29it/s]"
     ]
    },
    {
     "name": "stdout",
     "output_type": "stream",
     "text": [
      "Extra data: line 18 column 1 (char 1019)\n"
     ]
    },
    {
     "name": "stderr",
     "output_type": "stream",
     "text": [
      "\r",
      " 16%|██████████████▍                                                                           | 12389/77002 [1:47:25<4:25:55,  4.05it/s]"
     ]
    },
    {
     "name": "stdout",
     "output_type": "stream",
     "text": [
      "Extra data: line 18 column 1 (char 644)\n",
      "Extra data: line 18 column 1 (char 1069)\n",
      "Extra data: line 18 column 1 (char 701)\n",
      "Extra data: line 18 column 1 (char 666)\n",
      "Extra data: line 18 column 1 (char 747)\n",
      "Extra data: line 18 column 1 (char 710)\n",
      "Extra data: line 18 column 1 (char 604)\n",
      "Extra data: line 18 column 1 (char 970)\n",
      "Extra data: line 18 column 1 (char 979)\n",
      "Extra data: line 18 column 1 (char 807)\n"
     ]
    },
    {
     "name": "stderr",
     "output_type": "stream",
     "text": [
      " 16%|██████████████▌                                                                           | 12448/77002 [1:47:54<6:07:26,  2.93it/s]"
     ]
    },
    {
     "name": "stdout",
     "output_type": "stream",
     "text": [
      "Extra data: line 18 column 1 (char 351)\n"
     ]
    },
    {
     "name": "stderr",
     "output_type": "stream",
     "text": [
      " 16%|██████████████▋                                                                          | 12688/77002 [1:49:54<10:46:56,  1.66it/s]"
     ]
    },
    {
     "name": "stdout",
     "output_type": "stream",
     "text": [
      "Extra data: line 18 column 1 (char 719)\n"
     ]
    },
    {
     "name": "stderr",
     "output_type": "stream",
     "text": [
      " 16%|██████████████▊                                                                           | 12692/77002 [1:49:55<5:45:23,  3.10it/s]"
     ]
    },
    {
     "name": "stdout",
     "output_type": "stream",
     "text": [
      "Extra data: line 18 column 1 (char 477)\n",
      "Extra data: line 18 column 1 (char 868)\n",
      "Extra data: line 18 column 1 (char 625)\n",
      "Extra data: line 18 column 1 (char 706)\n",
      "Extra data: line 18 column 1 (char 880)\n",
      "Extra data: line 18 column 1 (char 712)\n"
     ]
    },
    {
     "name": "stderr",
     "output_type": "stream",
     "text": [
      " 17%|██████████████▊                                                                           | 12711/77002 [1:49:59<5:39:44,  3.15it/s]"
     ]
    },
    {
     "name": "stdout",
     "output_type": "stream",
     "text": [
      "Expecting ',' delimiter: line 13 column 121 (char 646)\n"
     ]
    },
    {
     "name": "stderr",
     "output_type": "stream",
     "text": [
      " 17%|██████████████▉                                                                           | 12792/77002 [1:50:52<4:52:06,  3.66it/s]"
     ]
    },
    {
     "name": "stdout",
     "output_type": "stream",
     "text": [
      "Extra data: line 18 column 1 (char 779)\n"
     ]
    },
    {
     "name": "stderr",
     "output_type": "stream",
     "text": [
      " 17%|██████████████▉                                                                           | 12797/77002 [1:50:53<2:34:18,  6.93it/s]"
     ]
    },
    {
     "name": "stdout",
     "output_type": "stream",
     "text": [
      "Extra data: line 18 column 1 (char 955)\n",
      "Extra data: line 18 column 1 (char 778)\n",
      "Extra data: line 18 column 1 (char 916)\n"
     ]
    },
    {
     "name": "stderr",
     "output_type": "stream",
     "text": [
      "\r",
      " 17%|██████████████▉                                                                           | 12799/77002 [1:50:53<2:57:18,  6.03it/s]"
     ]
    },
    {
     "name": "stdout",
     "output_type": "stream",
     "text": [
      "Extra data: line 18 column 1 (char 1450)\n"
     ]
    },
    {
     "name": "stderr",
     "output_type": "stream",
     "text": [
      " 17%|███████████████                                                                           | 12884/77002 [1:51:31<4:12:15,  4.24it/s]"
     ]
    },
    {
     "name": "stdout",
     "output_type": "stream",
     "text": [
      "Extra data: line 18 column 1 (char 660)\n"
     ]
    },
    {
     "name": "stderr",
     "output_type": "stream",
     "text": [
      " 17%|███████████████                                                                           | 12887/77002 [1:51:32<6:19:56,  2.81it/s]"
     ]
    },
    {
     "name": "stdout",
     "output_type": "stream",
     "text": [
      "Extra data: line 18 column 1 (char 507)\n"
     ]
    },
    {
     "name": "stderr",
     "output_type": "stream",
     "text": [
      "\r",
      " 17%|███████████████                                                                           | 12889/77002 [1:51:33<6:12:29,  2.87it/s]"
     ]
    },
    {
     "name": "stdout",
     "output_type": "stream",
     "text": [
      "Extra data: line 18 column 1 (char 567)\n"
     ]
    },
    {
     "name": "stderr",
     "output_type": "stream",
     "text": [
      "\r",
      " 17%|███████████████                                                                           | 12891/77002 [1:51:33<5:51:14,  3.04it/s]"
     ]
    },
    {
     "name": "stdout",
     "output_type": "stream",
     "text": [
      "Extra data: line 18 column 1 (char 603)\n"
     ]
    },
    {
     "name": "stderr",
     "output_type": "stream",
     "text": [
      "\r",
      " 17%|███████████████                                                                           | 12893/77002 [1:51:34<5:17:59,  3.36it/s]"
     ]
    },
    {
     "name": "stdout",
     "output_type": "stream",
     "text": [
      "Extra data: line 18 column 1 (char 732)\n",
      "Extra data: line 18 column 1 (char 554)\n",
      "Extra data: line 18 column 1 (char 1028)\n",
      "Extra data: line 18 column 1 (char 832)\n"
     ]
    },
    {
     "name": "stderr",
     "output_type": "stream",
     "text": [
      "\r",
      " 17%|███████████████                                                                           | 12898/77002 [1:51:34<3:42:02,  4.81it/s]"
     ]
    },
    {
     "name": "stdout",
     "output_type": "stream",
     "text": [
      "Extra data: line 18 column 1 (char 753)\n"
     ]
    },
    {
     "name": "stderr",
     "output_type": "stream",
     "text": [
      " 17%|███████████████                                                                          | 12988/77002 [1:52:34<10:02:30,  1.77it/s]"
     ]
    },
    {
     "name": "stdout",
     "output_type": "stream",
     "text": [
      "Extra data: line 7 column 1 (char 589)\n"
     ]
    },
    {
     "name": "stderr",
     "output_type": "stream",
     "text": [
      " 17%|███████████████                                                                          | 12994/77002 [1:52:37<10:57:00,  1.62it/s]"
     ]
    },
    {
     "name": "stdout",
     "output_type": "stream",
     "text": [
      "Extra data: line 18 column 1 (char 691)\n"
     ]
    },
    {
     "name": "stderr",
     "output_type": "stream",
     "text": [
      " 17%|███████████████▏                                                                          | 12997/77002 [1:52:38<8:12:05,  2.17it/s]"
     ]
    },
    {
     "name": "stdout",
     "output_type": "stream",
     "text": [
      "Extra data: line 18 column 1 (char 605)\n",
      "Extra data: line 18 column 1 (char 623)\n",
      "Extra data: line 18 column 1 (char 828)\n"
     ]
    },
    {
     "name": "stderr",
     "output_type": "stream",
     "text": [
      " 17%|███████████████▎                                                                          | 13089/77002 [1:53:22<7:28:53,  2.37it/s]"
     ]
    },
    {
     "name": "stdout",
     "output_type": "stream",
     "text": [
      "Extra data: line 18 column 1 (char 629)\n",
      "Extra data: line 18 column 1 (char 694)\n",
      "Extra data: line 18 column 1 (char 787)\n",
      "Extra data: line 18 column 1 (char 1059)\n",
      "Extra data: line 18 column 1 (char 1069)\n",
      "Extra data: line 18 column 1 (char 685)\n",
      "Extra data: line 18 column 1 (char 739)\n",
      "Extra data: line 18 column 1 (char 722)\n",
      "Extra data: line 18 column 1 (char 739)\n",
      "Extra data: line 18 column 1 (char 712)\n",
      "Extra data: line 18 column 1 (char 962)\n",
      "Extra data: line 18 column 1 (char 744)\n",
      "Extra data: line 18 column 1 (char 1052)\n"
     ]
    },
    {
     "name": "stderr",
     "output_type": "stream",
     "text": [
      " 17%|███████████████▍                                                                          | 13181/77002 [1:54:10<7:47:51,  2.27it/s]"
     ]
    },
    {
     "name": "stdout",
     "output_type": "stream",
     "text": [
      "Extra data: line 18 column 1 (char 820)\n",
      "Extra data: line 7 column 1 (char 859)\n",
      "Extra data: line 18 column 1 (char 856)\n",
      "Extra data: line 18 column 1 (char 730)\n",
      "Extra data: line 18 column 1 (char 1102)\n"
     ]
    },
    {
     "name": "stderr",
     "output_type": "stream",
     "text": [
      " 17%|███████████████▍                                                                          | 13194/77002 [1:54:11<1:43:42, 10.25it/s]"
     ]
    },
    {
     "name": "stdout",
     "output_type": "stream",
     "text": [
      "Extra data: line 7 column 1 (char 859)\n",
      "Extra data: line 7 column 1 (char 859)\n",
      "Extra data: line 18 column 1 (char 902)\n",
      "Extra data: line 18 column 1 (char 950)\n",
      "Extra data: line 18 column 1 (char 950)\n",
      "Extra data: line 7 column 1 (char 1018)\n",
      "Extra data: line 18 column 1 (char 1086)\n",
      "Extra data: line 7 column 1 (char 1049)\n",
      "Extra data: line 18 column 1 (char 950)\n",
      "Extra data: line 18 column 1 (char 1238)\n"
     ]
    },
    {
     "name": "stderr",
     "output_type": "stream",
     "text": [
      " 17%|███████████████▌                                                                          | 13288/77002 [1:54:59<8:22:21,  2.11it/s]"
     ]
    },
    {
     "name": "stdout",
     "output_type": "stream",
     "text": [
      "Extra data: line 18 column 1 (char 498)\n"
     ]
    },
    {
     "name": "stderr",
     "output_type": "stream",
     "text": [
      " 17%|███████████████▎                                                                         | 13293/77002 [1:55:02<10:25:17,  1.70it/s]"
     ]
    },
    {
     "name": "stdout",
     "output_type": "stream",
     "text": [
      "Extra data: line 18 column 1 (char 832)\n",
      "Extra data: line 18 column 1 (char 1213)\n"
     ]
    },
    {
     "name": "stderr",
     "output_type": "stream",
     "text": [
      " 17%|███████████████▍                                                                         | 13395/77002 [1:55:43<14:55:01,  1.18it/s]"
     ]
    },
    {
     "name": "stdout",
     "output_type": "stream",
     "text": [
      "Extra data: line 18 column 1 (char 775)\n"
     ]
    },
    {
     "name": "stderr",
     "output_type": "stream",
     "text": [
      " 17%|███████████████▍                                                                         | 13398/77002 [1:55:45<11:56:11,  1.48it/s]"
     ]
    },
    {
     "name": "stdout",
     "output_type": "stream",
     "text": [
      "Extra data: line 18 column 1 (char 1067)\n"
     ]
    },
    {
     "name": "stderr",
     "output_type": "stream",
     "text": [
      " 18%|███████████████▌                                                                         | 13486/77002 [1:56:37<12:50:11,  1.37it/s]"
     ]
    },
    {
     "name": "stdout",
     "output_type": "stream",
     "text": [
      "Extra data: line 18 column 1 (char 653)\n"
     ]
    },
    {
     "name": "stderr",
     "output_type": "stream",
     "text": [
      "\r",
      " 18%|███████████████▊                                                                          | 13488/77002 [1:56:37<8:53:20,  1.98it/s]"
     ]
    },
    {
     "name": "stdout",
     "output_type": "stream",
     "text": [
      "Extra data: line 18 column 1 (char 753)\n",
      "Extra data: line 18 column 1 (char 753)\n",
      "Extra data: line 18 column 1 (char 965)\n",
      "Extra data: line 18 column 1 (char 912)\n",
      "Extra data: line 18 column 1 (char 935)\n"
     ]
    },
    {
     "name": "stderr",
     "output_type": "stream",
     "text": [
      "\r",
      " 18%|███████████████▊                                                                          | 13494/77002 [1:56:38<4:35:53,  3.84it/s]"
     ]
    },
    {
     "name": "stdout",
     "output_type": "stream",
     "text": [
      "Extra data: line 18 column 1 (char 1036)\n"
     ]
    },
    {
     "name": "stderr",
     "output_type": "stream",
     "text": [
      " 18%|███████████████▊                                                                          | 13497/77002 [1:56:39<4:40:24,  3.77it/s]"
     ]
    },
    {
     "name": "stdout",
     "output_type": "stream",
     "text": [
      "Extra data: line 18 column 1 (char 990)\n",
      "Extra data: line 18 column 1 (char 1540)\n",
      "Extra data: line 18 column 1 (char 1606)\n"
     ]
    },
    {
     "name": "stderr",
     "output_type": "stream",
     "text": [
      " 18%|███████████████▉                                                                          | 13583/77002 [1:57:21<4:51:35,  3.62it/s]"
     ]
    },
    {
     "name": "stdout",
     "output_type": "stream",
     "text": [
      "Extra data: line 18 column 1 (char 498)\n"
     ]
    },
    {
     "name": "stderr",
     "output_type": "stream",
     "text": [
      " 18%|███████████████▉                                                                          | 13597/77002 [1:57:27<9:25:04,  1.87it/s]"
     ]
    },
    {
     "name": "stdout",
     "output_type": "stream",
     "text": [
      "Extra data: line 18 column 1 (char 565)\n",
      "Extra data: line 18 column 1 (char 888)\n"
     ]
    },
    {
     "name": "stderr",
     "output_type": "stream",
     "text": [
      " 18%|███████████████▉                                                                          | 13619/77002 [1:57:34<7:24:28,  2.38it/s]"
     ]
    },
    {
     "name": "stdout",
     "output_type": "stream",
     "text": [
      "Expecting ',' delimiter: line 13 column 109 (char 627)\n"
     ]
    },
    {
     "name": "stderr",
     "output_type": "stream",
     "text": [
      " 18%|████████████████                                                                          | 13790/77002 [2:00:05<8:14:48,  2.13it/s]"
     ]
    },
    {
     "name": "stdout",
     "output_type": "stream",
     "text": [
      "Extra data: line 18 column 1 (char 687)\n"
     ]
    },
    {
     "name": "stderr",
     "output_type": "stream",
     "text": [
      " 18%|████████████████▏                                                                         | 13797/77002 [2:00:07<6:10:20,  2.84it/s]"
     ]
    },
    {
     "name": "stdout",
     "output_type": "stream",
     "text": [
      "Extra data: line 18 column 1 (char 897)\n"
     ]
    },
    {
     "name": "stderr",
     "output_type": "stream",
     "text": [
      "\r",
      " 18%|████████████████▏                                                                         | 13799/77002 [2:00:08<4:57:47,  3.54it/s]"
     ]
    },
    {
     "name": "stdout",
     "output_type": "stream",
     "text": [
      "Extra data: line 18 column 1 (char 1036)\n"
     ]
    },
    {
     "name": "stderr",
     "output_type": "stream",
     "text": [
      " 18%|████████████████▏                                                                         | 13896/77002 [2:01:10<9:55:18,  1.77it/s]"
     ]
    },
    {
     "name": "stdout",
     "output_type": "stream",
     "text": [
      "Extra data: line 18 column 1 (char 660)\n",
      "Extra data: line 18 column 1 (char 610)\n",
      "Extra data: line 18 column 1 (char 817)\n",
      "Extra data: line 18 column 1 (char 969)\n"
     ]
    },
    {
     "name": "stderr",
     "output_type": "stream",
     "text": [
      " 18%|████████████████▏                                                                        | 13995/77002 [2:02:23<10:00:52,  1.75it/s]"
     ]
    },
    {
     "name": "stdout",
     "output_type": "stream",
     "text": [
      "Extra data: line 18 column 1 (char 857)\n",
      "Extra data: line 18 column 1 (char 857)\n"
     ]
    },
    {
     "name": "stderr",
     "output_type": "stream",
     "text": [
      " 18%|████████████████▍                                                                        | 14191/77002 [2:04:36<18:15:08,  1.05s/it]"
     ]
    },
    {
     "name": "stdout",
     "output_type": "stream",
     "text": [
      "Extra data: line 18 column 1 (char 879)\n"
     ]
    },
    {
     "name": "stderr",
     "output_type": "stream",
     "text": [
      "\r",
      " 18%|████████████████▍                                                                        | 14193/77002 [2:04:37<11:28:57,  1.52it/s]"
     ]
    },
    {
     "name": "stdout",
     "output_type": "stream",
     "text": [
      "Extra data: line 18 column 1 (char 725)\n",
      "Extra data: line 18 column 1 (char 773)\n",
      "Extra data: line 18 column 1 (char 734)\n"
     ]
    },
    {
     "name": "stderr",
     "output_type": "stream",
     "text": [
      " 19%|████████████████▋                                                                         | 14268/77002 [2:05:21<9:00:48,  1.93it/s]"
     ]
    },
    {
     "name": "stdout",
     "output_type": "stream",
     "text": [
      "Extra data: line 18 column 1 (char 599)\n"
     ]
    },
    {
     "name": "stderr",
     "output_type": "stream",
     "text": [
      " 19%|████████████████▋                                                                         | 14271/77002 [2:05:22<7:27:50,  2.33it/s]"
     ]
    },
    {
     "name": "stdout",
     "output_type": "stream",
     "text": [
      "Extra data: line 18 column 1 (char 688)\n"
     ]
    },
    {
     "name": "stderr",
     "output_type": "stream",
     "text": [
      " 19%|████████████████▌                                                                        | 14278/77002 [2:05:30<14:29:01,  1.20it/s]"
     ]
    },
    {
     "name": "stdout",
     "output_type": "stream",
     "text": [
      "Extra data: line 18 column 1 (char 420)\n",
      "Extra data: line 18 column 1 (char 479)\n",
      "Extra data: line 18 column 1 (char 617)\n",
      "Extra data: line 18 column 1 (char 572)\n",
      "Extra data: line 18 column 1 (char 787)\n",
      "Extra data: line 18 column 1 (char 667)\n",
      "Extra data: line 18 column 1 (char 735)\n",
      "Extra data: line 18 column 1 (char 857)\n"
     ]
    },
    {
     "name": "stderr",
     "output_type": "stream",
     "text": [
      "\r",
      " 19%|████████████████▋                                                                         | 14288/77002 [2:05:30<3:57:13,  4.41it/s]"
     ]
    },
    {
     "name": "stdout",
     "output_type": "stream",
     "text": [
      "Extra data: line 18 column 1 (char 813)\n",
      "Extra data: line 18 column 1 (char 834)\n",
      "Extra data: line 18 column 1 (char 624)\n"
     ]
    },
    {
     "name": "stderr",
     "output_type": "stream",
     "text": [
      " 19%|████████████████▋                                                                         | 14302/77002 [2:05:31<1:45:24,  9.91it/s]"
     ]
    },
    {
     "name": "stdout",
     "output_type": "stream",
     "text": [
      "Extra data: line 18 column 1 (char 846)\n",
      "Extra data: line 18 column 1 (char 1048)\n",
      "Extra data: line 18 column 1 (char 1087)\n",
      "Extra data: line 18 column 1 (char 711)\n",
      "Extra data: line 18 column 1 (char 895)\n",
      "Extra data: line 18 column 1 (char 1140)\n"
     ]
    },
    {
     "name": "stderr",
     "output_type": "stream",
     "text": [
      " 19%|████████████████▊                                                                         | 14396/77002 [2:06:21<5:30:07,  3.16it/s]"
     ]
    },
    {
     "name": "stdout",
     "output_type": "stream",
     "text": [
      "Extra data: line 18 column 1 (char 1085)\n"
     ]
    },
    {
     "name": "stderr",
     "output_type": "stream",
     "text": [
      " 19%|█████████████████                                                                         | 14577/77002 [2:07:44<9:33:31,  1.81it/s]"
     ]
    },
    {
     "name": "stdout",
     "output_type": "stream",
     "text": [
      "Extra data: line 18 column 1 (char 420)\n",
      "Extra data: line 18 column 1 (char 671)\n",
      "Extra data: line 18 column 1 (char 424)\n"
     ]
    },
    {
     "name": "stderr",
     "output_type": "stream",
     "text": [
      " 19%|█████████████████                                                                         | 14582/77002 [2:07:45<5:45:00,  3.02it/s]"
     ]
    },
    {
     "name": "stdout",
     "output_type": "stream",
     "text": [
      "Extra data: line 18 column 1 (char 884)\n"
     ]
    },
    {
     "name": "stderr",
     "output_type": "stream",
     "text": [
      "\r",
      " 19%|█████████████████                                                                         | 14585/77002 [2:07:46<4:06:36,  4.22it/s]"
     ]
    },
    {
     "name": "stdout",
     "output_type": "stream",
     "text": [
      "Extra data: line 18 column 1 (char 616)\n"
     ]
    },
    {
     "name": "stderr",
     "output_type": "stream",
     "text": [
      "\r",
      " 19%|█████████████████                                                                         | 14587/77002 [2:07:46<4:14:47,  4.08it/s]"
     ]
    },
    {
     "name": "stdout",
     "output_type": "stream",
     "text": [
      "Extra data: line 18 column 1 (char 703)\n",
      "Extra data: line 18 column 1 (char 563)\n",
      "Extra data: line 18 column 1 (char 693)\n",
      "Extra data: line 18 column 1 (char 816)\n",
      "Extra data: line 18 column 1 (char 806)\n",
      "Extra data: line 18 column 1 (char 890)\n",
      "Extra data: line 18 column 1 (char 836)\n",
      "Extra data: line 18 column 1 (char 931)\n",
      "Extra data: line 7 column 1 (char 380)\n",
      "Extra data: line 18 column 1 (char 443)\n",
      "Extra data: line 18 column 1 (char 1157)\n",
      "Extra data: line 18 column 1 (char 584)\n",
      "Extra data: line 18 column 1 (char 1069)\n"
     ]
    },
    {
     "name": "stderr",
     "output_type": "stream",
     "text": [
      " 19%|█████████████████▏                                                                        | 14697/77002 [2:08:26<8:56:13,  1.94it/s]"
     ]
    },
    {
     "name": "stdout",
     "output_type": "stream",
     "text": [
      "Extra data: line 18 column 1 (char 980)\n"
     ]
    },
    {
     "name": "stderr",
     "output_type": "stream",
     "text": [
      " 19%|█████████████████                                                                        | 14713/77002 [2:08:33<10:10:08,  1.70it/s]"
     ]
    },
    {
     "name": "stdout",
     "output_type": "stream",
     "text": [
      "Expecting ',' delimiter: line 9 column 125 (char 484)\n"
     ]
    },
    {
     "name": "stderr",
     "output_type": "stream",
     "text": [
      " 19%|█████████████████▎                                                                        | 14784/77002 [2:09:11<9:28:56,  1.82it/s]"
     ]
    },
    {
     "name": "stdout",
     "output_type": "stream",
     "text": [
      "Extra data: line 18 column 1 (char 778)\n"
     ]
    },
    {
     "name": "stderr",
     "output_type": "stream",
     "text": [
      "\r",
      " 19%|█████████████████▎                                                                        | 14786/77002 [2:09:12<6:02:54,  2.86it/s]"
     ]
    },
    {
     "name": "stdout",
     "output_type": "stream",
     "text": [
      "Extra data: line 18 column 1 (char 1244)\n",
      "Extra data: line 18 column 1 (char 1244)\n",
      "Extra data: line 18 column 1 (char 757)\n",
      "Extra data: line 18 column 1 (char 757)\n",
      "Extra data: line 18 column 1 (char 1312)\n",
      "Extra data: line 18 column 1 (char 871)\n"
     ]
    },
    {
     "name": "stderr",
     "output_type": "stream",
     "text": [
      "\r",
      " 19%|█████████████████▎                                                                        | 14795/77002 [2:09:12<2:13:22,  7.77it/s]"
     ]
    },
    {
     "name": "stdout",
     "output_type": "stream",
     "text": [
      "Expecting ',' delimiter: line 9 column 125 (char 484)\n"
     ]
    },
    {
     "name": "stderr",
     "output_type": "stream",
     "text": [
      " 19%|█████████████████▎                                                                        | 14798/77002 [2:09:14<4:27:20,  3.88it/s]"
     ]
    },
    {
     "name": "stdout",
     "output_type": "stream",
     "text": [
      "Extra data: line 18 column 1 (char 1126)\n"
     ]
    },
    {
     "name": "stderr",
     "output_type": "stream",
     "text": [
      " 19%|█████████████████▏                                                                       | 14892/77002 [2:10:18<11:48:09,  1.46it/s]"
     ]
    },
    {
     "name": "stdout",
     "output_type": "stream",
     "text": [
      "Extra data: line 18 column 1 (char 787)\n",
      "Extra data: line 18 column 1 (char 562)\n",
      "Extra data: line 18 column 1 (char 625)\n",
      "Extra data: line 18 column 1 (char 640)\n",
      "Extra data: line 18 column 1 (char 731)\n",
      "Extra data: line 18 column 1 (char 765)\n",
      "Extra data: line 18 column 1 (char 637)\n"
     ]
    },
    {
     "name": "stderr",
     "output_type": "stream",
     "text": [
      " 20%|█████████████████▋                                                                        | 15091/77002 [2:11:51<6:50:13,  2.52it/s]"
     ]
    },
    {
     "name": "stdout",
     "output_type": "stream",
     "text": [
      "Extra data: line 18 column 1 (char 634)\n",
      "Extra data: line 18 column 1 (char 696)\n"
     ]
    },
    {
     "name": "stderr",
     "output_type": "stream",
     "text": [
      "\r",
      " 20%|█████████████████▋                                                                        | 15094/77002 [2:11:52<4:56:50,  3.48it/s]"
     ]
    },
    {
     "name": "stdout",
     "output_type": "stream",
     "text": [
      "Extra data: line 18 column 1 (char 519)\n",
      "Extra data: line 18 column 1 (char 654)\n",
      "Extra data: line 18 column 1 (char 661)\n"
     ]
    },
    {
     "name": "stderr",
     "output_type": "stream",
     "text": [
      "\r",
      " 20%|█████████████████▋                                                                        | 15098/77002 [2:11:52<3:33:11,  4.84it/s]"
     ]
    },
    {
     "name": "stdout",
     "output_type": "stream",
     "text": [
      "Extra data: line 18 column 1 (char 638)\n",
      "Extra data: line 18 column 1 (char 969)\n"
     ]
    },
    {
     "name": "stderr",
     "output_type": "stream",
     "text": [
      " 20%|█████████████████▋                                                                        | 15178/77002 [2:12:41<5:04:28,  3.38it/s]"
     ]
    },
    {
     "name": "stdout",
     "output_type": "stream",
     "text": [
      "Extra data: line 18 column 1 (char 340)\n"
     ]
    },
    {
     "name": "stderr",
     "output_type": "stream",
     "text": [
      "\r",
      " 20%|█████████████████▋                                                                        | 15180/77002 [2:12:42<5:47:07,  2.97it/s]"
     ]
    },
    {
     "name": "stdout",
     "output_type": "stream",
     "text": [
      "Extra data: line 18 column 1 (char 630)\n",
      "Extra data: line 18 column 1 (char 617)\n",
      "Extra data: line 18 column 1 (char 693)\n",
      "Extra data: line 18 column 1 (char 816)\n",
      "Extra data: line 18 column 1 (char 792)\n",
      "Extra data: line 18 column 1 (char 842)\n"
     ]
    },
    {
     "name": "stderr",
     "output_type": "stream",
     "text": [
      " 20%|█████████████████▊                                                                        | 15190/77002 [2:12:43<2:10:26,  7.90it/s]"
     ]
    },
    {
     "name": "stdout",
     "output_type": "stream",
     "text": [
      "Extra data: line 18 column 1 (char 833)\n",
      "Extra data: line 18 column 1 (char 943)\n"
     ]
    },
    {
     "name": "stderr",
     "output_type": "stream",
     "text": [
      "\r",
      " 20%|█████████████████▊                                                                        | 15192/77002 [2:12:43<2:59:13,  5.75it/s]"
     ]
    },
    {
     "name": "stdout",
     "output_type": "stream",
     "text": [
      "Extra data: line 18 column 1 (char 904)\n",
      "Extra data: line 18 column 1 (char 816)\n",
      "Extra data: line 18 column 1 (char 924)\n",
      "Extra data: line 18 column 1 (char 779)\n",
      "Extra data: line 18 column 1 (char 804)\n"
     ]
    },
    {
     "name": "stderr",
     "output_type": "stream",
     "text": [
      "\r",
      " 20%|█████████████████▊                                                                        | 15198/77002 [2:12:44<2:34:53,  6.65it/s]"
     ]
    },
    {
     "name": "stdout",
     "output_type": "stream",
     "text": [
      "Extra data: line 18 column 1 (char 1458)\n",
      "Extra data: line 18 column 1 (char 624)\n",
      "'NoneType' object is not subscriptable\n",
      "'NoneType' object is not subscriptable\n",
      "'NoneType' object is not subscriptable\n",
      "'NoneType' object is not subscriptable\n",
      "'NoneType' object is not subscriptable\n",
      "'NoneType' object is not subscriptable\n",
      "'NoneType' object is not subscriptable\n",
      "'NoneType' object is not subscriptable\n",
      "'NoneType' object is not subscriptable\n",
      "'NoneType' object is not subscriptable\n",
      "'NoneType' object is not subscriptable\n",
      "'NoneType' object is not subscriptable\n",
      "'NoneType' object is not subscriptable\n",
      "'NoneType' object is not subscriptable\n",
      "'NoneType' object is not subscriptable\n",
      "'NoneType' object is not subscriptable\n",
      "'NoneType' object is not subscriptable\n",
      "'NoneType' object is not subscriptable\n",
      "'NoneType' object is not subscriptable\n",
      "'NoneType' object is not subscriptable\n",
      "'NoneType' object is not subscriptable\n",
      "'NoneType' object is not subscriptable\n",
      "'NoneType' object is not subscriptable\n",
      "'NoneType' object is not subscriptable\n",
      "'NoneType' object is not subscriptable\n",
      "'NoneType' object is not subscriptable\n",
      "'NoneType' object is not subscriptable\n",
      "'NoneType' object is not subscriptable\n",
      "'NoneType' object is not subscriptable\n",
      "'NoneType' object is not subscriptable\n",
      "'NoneType' object is not subscriptable\n",
      "'NoneType' object is not subscriptable\n",
      "'NoneType' object is not subscriptable\n",
      "'NoneType' object is not subscriptable\n",
      "'NoneType' object is not subscriptable\n",
      "'NoneType' object is not subscriptable\n",
      "'NoneType' object is not subscriptable\n",
      "'NoneType' object is not subscriptable\n",
      "'NoneType' object is not subscriptable\n",
      "'NoneType' object is not subscriptable\n",
      "'NoneType' object is not subscriptable\n",
      "'NoneType' object is not subscriptable\n",
      "'NoneType' object is not subscriptable\n",
      "'NoneType' object is not subscriptable\n",
      "'NoneType' object is not subscriptable\n",
      "'NoneType' object is not subscriptable\n",
      "'NoneType' object is not subscriptable\n",
      "'NoneType' object is not subscriptable\n",
      "'NoneType' object is not subscriptable\n",
      "'NoneType' object is not subscriptable\n",
      "'NoneType' object is not subscriptable\n",
      "'NoneType' object is not subscriptable\n",
      "'NoneType' object is not subscriptable\n",
      "'NoneType' object is not subscriptable\n",
      "'NoneType' object is not subscriptable\n",
      "'NoneType' object is not subscriptable\n",
      "'NoneType' object is not subscriptable\n",
      "'NoneType' object is not subscriptable\n",
      "'NoneType' object is not subscriptable\n",
      "'NoneType' object is not subscriptable\n",
      "'NoneType' object is not subscriptable\n",
      "'NoneType' object is not subscriptable\n",
      "'NoneType' object is not subscriptable\n",
      "'NoneType' object is not subscriptable\n",
      "'NoneType' object is not subscriptable\n",
      "'NoneType' object is not subscriptable\n",
      "'NoneType' object is not subscriptable\n",
      "'NoneType' object is not subscriptable\n",
      "'NoneType' object is not subscriptable\n",
      "'NoneType' object is not subscriptable\n",
      "'NoneType' object is not subscriptable\n",
      "'NoneType' object is not subscriptable\n",
      "'NoneType' object is not subscriptable\n",
      "'NoneType' object is not subscriptable\n",
      "'NoneType' object is not subscriptable\n",
      "'NoneType' object is not subscriptable\n",
      "'NoneType' object is not subscriptable\n",
      "'NoneType' object is not subscriptable\n",
      "'NoneType' object is not subscriptable\n",
      "'NoneType' object is not subscriptable\n",
      "'NoneType' object is not subscriptable\n",
      "'NoneType' object is not subscriptable\n",
      "'NoneType' object is not subscriptable\n",
      "'NoneType' object is not subscriptable\n",
      "'NoneType' object is not subscriptable\n",
      "'NoneType' object is not subscriptable\n",
      "'NoneType' object is not subscriptable\n",
      "'NoneType' object is not subscriptable\n",
      "'NoneType' object is not subscriptable\n",
      "'NoneType' object is not subscriptable\n",
      "'NoneType' object is not subscriptable\n",
      "'NoneType' object is not subscriptable\n",
      "'NoneType' object is not subscriptable\n",
      "'NoneType' object is not subscriptable\n",
      "'NoneType' object is not subscriptable\n",
      "'NoneType' object is not subscriptable\n",
      "'NoneType' object is not subscriptable\n",
      "'NoneType' object is not subscriptable\n",
      "'NoneType' object is not subscriptable\n",
      "'NoneType' object is not subscriptable\n"
     ]
    },
    {
     "name": "stderr",
     "output_type": "stream",
     "text": [
      " 20%|█████████████████▊                                                                       | 15360/77002 [2:13:25<11:49:38,  1.45it/s]"
     ]
    },
    {
     "name": "stdout",
     "output_type": "stream",
     "text": [
      "Extra data: line 18 column 1 (char 406)\n"
     ]
    },
    {
     "name": "stderr",
     "output_type": "stream",
     "text": [
      " 20%|█████████████████▉                                                                        | 15378/77002 [2:13:30<6:32:20,  2.62it/s]"
     ]
    },
    {
     "name": "stdout",
     "output_type": "stream",
     "text": [
      "Extra data: line 18 column 1 (char 814)\n"
     ]
    },
    {
     "name": "stderr",
     "output_type": "stream",
     "text": [
      " 20%|█████████████████▉                                                                        | 15393/77002 [2:13:35<6:21:35,  2.69it/s]"
     ]
    },
    {
     "name": "stdout",
     "output_type": "stream",
     "text": [
      "Extra data: line 18 column 1 (char 1040)\n"
     ]
    },
    {
     "name": "stderr",
     "output_type": "stream",
     "text": [
      "\r",
      " 20%|█████████████████▉                                                                        | 15395/77002 [2:13:36<6:15:12,  2.74it/s]"
     ]
    },
    {
     "name": "stdout",
     "output_type": "stream",
     "text": [
      "Extra data: line 18 column 1 (char 686)\n",
      "Extra data: line 18 column 1 (char 675)\n"
     ]
    },
    {
     "name": "stderr",
     "output_type": "stream",
     "text": [
      "\r",
      " 20%|█████████████████▉                                                                        | 15399/77002 [2:13:36<3:23:26,  5.05it/s]"
     ]
    },
    {
     "name": "stdout",
     "output_type": "stream",
     "text": [
      "Extra data: line 18 column 1 (char 493)\n"
     ]
    },
    {
     "name": "stderr",
     "output_type": "stream",
     "text": [
      " 20%|██████████████████▎                                                                       | 15690/77002 [2:16:14<4:39:17,  3.66it/s]"
     ]
    },
    {
     "name": "stdout",
     "output_type": "stream",
     "text": [
      "Extra data: line 18 column 1 (char 737)\n"
     ]
    },
    {
     "name": "stderr",
     "output_type": "stream",
     "text": [
      "\r",
      " 20%|██████████████████▎                                                                       | 15692/77002 [2:16:14<4:01:59,  4.22it/s]"
     ]
    },
    {
     "name": "stdout",
     "output_type": "stream",
     "text": [
      "Extra data: line 18 column 1 (char 856)\n"
     ]
    },
    {
     "name": "stderr",
     "output_type": "stream",
     "text": [
      " 20%|██████████████████▎                                                                       | 15695/77002 [2:16:15<4:38:49,  3.66it/s]"
     ]
    },
    {
     "name": "stdout",
     "output_type": "stream",
     "text": [
      "Extra data: line 18 column 1 (char 618)\n",
      "Extra data: line 18 column 1 (char 544)\n",
      "Extra data: line 18 column 1 (char 693)\n",
      "Extra data: line 18 column 1 (char 1022)\n"
     ]
    },
    {
     "name": "stderr",
     "output_type": "stream",
     "text": [
      " 21%|██████████████████▍                                                                       | 15795/77002 [2:17:07<6:58:39,  2.44it/s]"
     ]
    },
    {
     "name": "stdout",
     "output_type": "stream",
     "text": [
      "Extra data: line 18 column 1 (char 1014)\n"
     ]
    },
    {
     "name": "stderr",
     "output_type": "stream",
     "text": [
      " 21%|██████████████████▌                                                                       | 15888/77002 [2:17:58<5:29:03,  3.10it/s]"
     ]
    },
    {
     "name": "stdout",
     "output_type": "stream",
     "text": [
      "Extra data: line 18 column 1 (char 1085)\n"
     ]
    },
    {
     "name": "stderr",
     "output_type": "stream",
     "text": [
      " 21%|██████████████████▌                                                                       | 15896/77002 [2:18:01<5:33:54,  3.05it/s]"
     ]
    },
    {
     "name": "stdout",
     "output_type": "stream",
     "text": [
      "Extra data: line 18 column 1 (char 875)\n"
     ]
    },
    {
     "name": "stderr",
     "output_type": "stream",
     "text": [
      "\r",
      " 21%|██████████████████▌                                                                       | 15897/77002 [2:18:02<7:25:07,  2.29it/s]"
     ]
    },
    {
     "name": "stdout",
     "output_type": "stream",
     "text": [
      "Extra data: line 18 column 1 (char 857)\n"
     ]
    },
    {
     "name": "stderr",
     "output_type": "stream",
     "text": [
      " 21%|██████████████████▍                                                                      | 15991/77002 [2:18:49<11:31:22,  1.47it/s]"
     ]
    },
    {
     "name": "stdout",
     "output_type": "stream",
     "text": [
      "Extra data: line 18 column 1 (char 1014)\n"
     ]
    },
    {
     "name": "stderr",
     "output_type": "stream",
     "text": [
      " 21%|██████████████████▋                                                                       | 15998/77002 [2:18:51<5:12:53,  3.25it/s]"
     ]
    },
    {
     "name": "stdout",
     "output_type": "stream",
     "text": [
      "Extra data: line 18 column 1 (char 775)\n"
     ]
    },
    {
     "name": "stderr",
     "output_type": "stream",
     "text": [
      "\r",
      " 21%|██████████████████▋                                                                       | 15999/77002 [2:18:51<5:50:25,  2.90it/s]"
     ]
    },
    {
     "name": "stdout",
     "output_type": "stream",
     "text": [
      "Extra data: line 18 column 1 (char 943)\n"
     ]
    },
    {
     "name": "stderr",
     "output_type": "stream",
     "text": [
      " 21%|██████████████████▊                                                                       | 16087/77002 [2:19:24<8:27:47,  2.00it/s]"
     ]
    },
    {
     "name": "stdout",
     "output_type": "stream",
     "text": [
      "Extra data: line 18 column 1 (char 616)\n"
     ]
    },
    {
     "name": "stderr",
     "output_type": "stream",
     "text": [
      " 21%|██████████████████▊                                                                       | 16099/77002 [2:19:30<8:13:14,  2.06it/s]"
     ]
    },
    {
     "name": "stdout",
     "output_type": "stream",
     "text": [
      "Extra data: line 18 column 1 (char 846)\n"
     ]
    },
    {
     "name": "stderr",
     "output_type": "stream",
     "text": [
      " 21%|██████████████████▉                                                                       | 16189/77002 [2:20:15<6:52:44,  2.46it/s]"
     ]
    },
    {
     "name": "stdout",
     "output_type": "stream",
     "text": [
      "Extra data: line 18 column 1 (char 730)\n",
      "Extra data: line 18 column 1 (char 1346)\n"
     ]
    },
    {
     "name": "stderr",
     "output_type": "stream",
     "text": [
      "\r",
      " 21%|██████████████████▉                                                                       | 16192/77002 [2:20:16<4:27:54,  3.78it/s]"
     ]
    },
    {
     "name": "stdout",
     "output_type": "stream",
     "text": [
      "Extra data: line 18 column 1 (char 914)\n"
     ]
    },
    {
     "name": "stderr",
     "output_type": "stream",
     "text": [
      " 21%|██████████████████▉                                                                       | 16197/77002 [2:20:18<5:53:31,  2.87it/s]"
     ]
    },
    {
     "name": "stdout",
     "output_type": "stream",
     "text": [
      "Extra data: line 18 column 1 (char 788)\n"
     ]
    },
    {
     "name": "stderr",
     "output_type": "stream",
     "text": [
      " 21%|██████████████████▊                                                                      | 16296/77002 [2:21:11<13:24:48,  1.26it/s]"
     ]
    },
    {
     "name": "stdout",
     "output_type": "stream",
     "text": [
      "Extra data: line 18 column 1 (char 875)\n"
     ]
    },
    {
     "name": "stderr",
     "output_type": "stream",
     "text": [
      " 21%|███████████████████                                                                       | 16299/77002 [2:21:12<9:35:14,  1.76it/s]"
     ]
    },
    {
     "name": "stdout",
     "output_type": "stream",
     "text": [
      "Extra data: line 18 column 1 (char 1001)\n"
     ]
    },
    {
     "name": "stderr",
     "output_type": "stream",
     "text": [
      " 21%|███████████████████▏                                                                      | 16380/77002 [2:21:57<4:25:22,  3.81it/s]"
     ]
    },
    {
     "name": "stdout",
     "output_type": "stream",
     "text": [
      "Extra data: line 18 column 1 (char 907)\n"
     ]
    },
    {
     "name": "stderr",
     "output_type": "stream",
     "text": [
      " 21%|███████████████████▏                                                                      | 16392/77002 [2:22:02<6:06:41,  2.75it/s]"
     ]
    },
    {
     "name": "stdout",
     "output_type": "stream",
     "text": [
      "Extra data: line 18 column 1 (char 975)\n"
     ]
    },
    {
     "name": "stderr",
     "output_type": "stream",
     "text": [
      " 21%|███████████████████▏                                                                      | 16398/77002 [2:22:03<3:33:41,  4.73it/s]"
     ]
    },
    {
     "name": "stdout",
     "output_type": "stream",
     "text": [
      "Extra data: line 18 column 1 (char 1540)\n",
      "Extra data: line 18 column 1 (char 1172)\n",
      "'NoneType' object is not subscriptable\n"
     ]
    },
    {
     "name": "stderr",
     "output_type": "stream",
     "text": [
      " 21%|███████████████████▎                                                                      | 16474/77002 [2:22:34<7:15:34,  2.32it/s]"
     ]
    },
    {
     "name": "stdout",
     "output_type": "stream",
     "text": [
      "Extra data: line 18 column 1 (char 583)\n"
     ]
    },
    {
     "name": "stderr",
     "output_type": "stream",
     "text": [
      " 21%|███████████████████▎                                                                      | 16487/77002 [2:22:38<4:17:53,  3.91it/s]"
     ]
    },
    {
     "name": "stdout",
     "output_type": "stream",
     "text": [
      "Extra data: line 18 column 1 (char 936)\n",
      "Extra data: line 18 column 1 (char 476)\n"
     ]
    },
    {
     "name": "stderr",
     "output_type": "stream",
     "text": [
      "\r",
      " 21%|███████████████████▎                                                                      | 16490/77002 [2:22:38<2:44:02,  6.15it/s]"
     ]
    },
    {
     "name": "stdout",
     "output_type": "stream",
     "text": [
      "Extra data: line 18 column 1 (char 563)\n",
      "Extra data: line 18 column 1 (char 619)\n",
      "Extra data: line 18 column 1 (char 743)\n",
      "Extra data: line 18 column 1 (char 770)\n",
      "Extra data: line 18 column 1 (char 565)\n",
      "Extra data: line 18 column 1 (char 716)\n",
      "Extra data: line 18 column 1 (char 489)\n"
     ]
    },
    {
     "name": "stderr",
     "output_type": "stream",
     "text": [
      "\r",
      " 21%|███████████████████▎                                                                      | 16498/77002 [2:22:39<2:09:29,  7.79it/s]"
     ]
    },
    {
     "name": "stdout",
     "output_type": "stream",
     "text": [
      "Extra data: line 18 column 1 (char 754)\n",
      "Extra data: line 18 column 1 (char 984)\n"
     ]
    },
    {
     "name": "stderr",
     "output_type": "stream",
     "text": [
      " 22%|███████████████████▍                                                                      | 16594/77002 [2:23:18<5:17:37,  3.17it/s]"
     ]
    },
    {
     "name": "stdout",
     "output_type": "stream",
     "text": [
      "Extra data: line 18 column 1 (char 857)\n"
     ]
    },
    {
     "name": "stderr",
     "output_type": "stream",
     "text": [
      " 22%|███████████████████▍                                                                      | 16599/77002 [2:23:19<4:19:19,  3.88it/s]"
     ]
    },
    {
     "name": "stdout",
     "output_type": "stream",
     "text": [
      "Extra data: line 18 column 1 (char 857)\n"
     ]
    },
    {
     "name": "stderr",
     "output_type": "stream",
     "text": [
      " 22%|███████████████████▎                                                                     | 16695/77002 [2:24:02<10:55:07,  1.53it/s]"
     ]
    },
    {
     "name": "stdout",
     "output_type": "stream",
     "text": [
      "Extra data: line 18 column 1 (char 468)\n"
     ]
    },
    {
     "name": "stderr",
     "output_type": "stream",
     "text": [
      " 22%|███████████████████▌                                                                      | 16699/77002 [2:24:02<6:32:03,  2.56it/s]"
     ]
    },
    {
     "name": "stdout",
     "output_type": "stream",
     "text": [
      "Extra data: line 18 column 1 (char 835)\n",
      "'NoneType' object is not subscriptable\n"
     ]
    },
    {
     "name": "stderr",
     "output_type": "stream",
     "text": [
      " 22%|███████████████████▋                                                                      | 16881/77002 [2:26:12<8:00:33,  2.09it/s]"
     ]
    },
    {
     "name": "stdout",
     "output_type": "stream",
     "text": [
      "Extra data: line 18 column 1 (char 649)\n"
     ]
    },
    {
     "name": "stderr",
     "output_type": "stream",
     "text": [
      " 22%|███████████████████▌                                                                     | 16894/77002 [2:26:18<10:08:42,  1.65it/s]"
     ]
    },
    {
     "name": "stdout",
     "output_type": "stream",
     "text": [
      "Expecting ',' delimiter: line 13 column 516 (char 1292)\n"
     ]
    },
    {
     "name": "stderr",
     "output_type": "stream",
     "text": [
      " 22%|███████████████████▋                                                                     | 16994/77002 [2:27:08<10:34:57,  1.58it/s]"
     ]
    },
    {
     "name": "stdout",
     "output_type": "stream",
     "text": [
      "Extra data: line 18 column 1 (char 500)\n",
      "Extra data: line 18 column 1 (char 956)\n",
      "Extra data: line 18 column 1 (char 551)\n",
      "Extra data: line 18 column 1 (char 550)\n",
      "Extra data: line 18 column 1 (char 662)\n",
      "Extra data: line 18 column 1 (char 900)\n"
     ]
    },
    {
     "name": "stderr",
     "output_type": "stream",
     "text": [
      " 22%|███████████████████▉                                                                      | 17098/77002 [2:27:57<4:16:17,  3.90it/s]"
     ]
    },
    {
     "name": "stdout",
     "output_type": "stream",
     "text": [
      "Extra data: line 18 column 1 (char 1033)\n"
     ]
    },
    {
     "name": "stderr",
     "output_type": "stream",
     "text": [
      "\r",
      " 22%|███████████████████▉                                                                      | 17100/77002 [2:27:57<3:16:50,  5.07it/s]"
     ]
    },
    {
     "name": "stdout",
     "output_type": "stream",
     "text": [
      "'NoneType' object is not subscriptable\n",
      "'NoneType' object is not subscriptable\n",
      "'NoneType' object is not subscriptable\n",
      "'NoneType' object is not subscriptable\n",
      "'NoneType' object is not subscriptable\n",
      "'NoneType' object is not subscriptable\n",
      "'NoneType' object is not subscriptable\n",
      "'NoneType' object is not subscriptable\n",
      "'NoneType' object is not subscriptable\n",
      "'NoneType' object is not subscriptable\n",
      "'NoneType' object is not subscriptable\n",
      "'NoneType' object is not subscriptable\n",
      "'NoneType' object is not subscriptable\n",
      "'NoneType' object is not subscriptable\n",
      "'NoneType' object is not subscriptable\n",
      "'NoneType' object is not subscriptable\n",
      "'NoneType' object is not subscriptable\n",
      "'NoneType' object is not subscriptable\n",
      "'NoneType' object is not subscriptable\n",
      "'NoneType' object is not subscriptable\n",
      "'NoneType' object is not subscriptable\n",
      "'NoneType' object is not subscriptable\n",
      "'NoneType' object is not subscriptable\n",
      "'NoneType' object is not subscriptable\n",
      "'NoneType' object is not subscriptable\n",
      "'NoneType' object is not subscriptable\n",
      "'NoneType' object is not subscriptable\n",
      "'NoneType' object is not subscriptable\n",
      "'NoneType' object is not subscriptable\n",
      "'NoneType' object is not subscriptable\n",
      "'NoneType' object is not subscriptable\n",
      "'NoneType' object is not subscriptable\n",
      "'NoneType' object is not subscriptable\n",
      "'NoneType' object is not subscriptable\n",
      "'NoneType' object is not subscriptable\n",
      "'NoneType' object is not subscriptable\n",
      "'NoneType' object is not subscriptable\n",
      "'NoneType' object is not subscriptable\n",
      "'NoneType' object is not subscriptable\n",
      "'NoneType' object is not subscriptable\n",
      "'NoneType' object is not subscriptable\n",
      "'NoneType' object is not subscriptable\n",
      "'NoneType' object is not subscriptable\n",
      "'NoneType' object is not subscriptable\n",
      "'NoneType' object is not subscriptable\n",
      "'NoneType' object is not subscriptable\n",
      "'NoneType' object is not subscriptable\n",
      "'NoneType' object is not subscriptable\n",
      "'NoneType' object is not subscriptable\n",
      "'NoneType' object is not subscriptable\n",
      "'NoneType' object is not subscriptable\n",
      "'NoneType' object is not subscriptable\n",
      "'NoneType' object is not subscriptable\n",
      "'NoneType' object is not subscriptable\n",
      "'NoneType' object is not subscriptable\n",
      "'NoneType' object is not subscriptable\n",
      "'NoneType' object is not subscriptable\n",
      "'NoneType' object is not subscriptable\n",
      "'NoneType' object is not subscriptable\n",
      "'NoneType' object is not subscriptable\n",
      "'NoneType' object is not subscriptable\n",
      "'NoneType' object is not subscriptable\n",
      "'NoneType' object is not subscriptable\n",
      "'NoneType' object is not subscriptable\n",
      "'NoneType' object is not subscriptable\n",
      "'NoneType' object is not subscriptable\n",
      "'NoneType' object is not subscriptable\n",
      "'NoneType' object is not subscriptable\n",
      "'NoneType' object is not subscriptable\n",
      "'NoneType' object is not subscriptable\n",
      "'NoneType' object is not subscriptable\n",
      "'NoneType' object is not subscriptable\n",
      "'NoneType' object is not subscriptable\n",
      "'NoneType' object is not subscriptable\n",
      "'NoneType' object is not subscriptable\n",
      "'NoneType' object is not subscriptable\n",
      "'NoneType' object is not subscriptable\n",
      "'NoneType' object is not subscriptable\n",
      "'NoneType' object is not subscriptable\n",
      "'NoneType' object is not subscriptable\n",
      "'NoneType' object is not subscriptable\n",
      "'NoneType' object is not subscriptable\n",
      "'NoneType' object is not subscriptable\n",
      "'NoneType' object is not subscriptable\n",
      "'NoneType' object is not subscriptable\n",
      "'NoneType' object is not subscriptable\n",
      "'NoneType' object is not subscriptable\n",
      "'NoneType' object is not subscriptable\n",
      "'NoneType' object is not subscriptable\n",
      "'NoneType' object is not subscriptable\n",
      "'NoneType' object is not subscriptable\n",
      "'NoneType' object is not subscriptable\n",
      "'NoneType' object is not subscriptable\n",
      "'NoneType' object is not subscriptable\n",
      "'NoneType' object is not subscriptable\n",
      "'NoneType' object is not subscriptable\n",
      "'NoneType' object is not subscriptable\n",
      "'NoneType' object is not subscriptable\n",
      "'NoneType' object is not subscriptable\n",
      "'NoneType' object is not subscriptable\n"
     ]
    },
    {
     "name": "stderr",
     "output_type": "stream",
     "text": [
      " 22%|████████████████████▏                                                                     | 17291/77002 [2:28:59<8:39:24,  1.92it/s]"
     ]
    },
    {
     "name": "stdout",
     "output_type": "stream",
     "text": [
      "Extra data: line 18 column 1 (char 862)\n"
     ]
    },
    {
     "name": "stderr",
     "output_type": "stream",
     "text": [
      " 22%|████████████████████▏                                                                     | 17299/77002 [2:29:00<2:26:59,  6.77it/s]"
     ]
    },
    {
     "name": "stdout",
     "output_type": "stream",
     "text": [
      "Extra data: line 18 column 1 (char 749)\n",
      "Extra data: line 18 column 1 (char 883)\n",
      "Extra data: line 18 column 1 (char 593)\n",
      "Extra data: line 18 column 1 (char 735)\n",
      "Extra data: line 18 column 1 (char 673)\n"
     ]
    },
    {
     "name": "stderr",
     "output_type": "stream",
     "text": [
      " 23%|████████████████████▏                                                                    | 17495/77002 [2:30:49<37:37:10,  2.28s/it]"
     ]
    },
    {
     "name": "stdout",
     "output_type": "stream",
     "text": [
      "Extra data: line 18 column 1 (char 786)\n"
     ]
    },
    {
     "name": "stderr",
     "output_type": "stream",
     "text": [
      "\r",
      " 23%|████████████████████▏                                                                    | 17497/77002 [2:30:49<24:02:56,  1.45s/it]"
     ]
    },
    {
     "name": "stdout",
     "output_type": "stream",
     "text": [
      "Extra data: line 18 column 1 (char 608)\n"
     ]
    },
    {
     "name": "stderr",
     "output_type": "stream",
     "text": [
      "\r",
      " 23%|████████████████████▏                                                                    | 17499/77002 [2:30:50<17:16:29,  1.05s/it]"
     ]
    },
    {
     "name": "stdout",
     "output_type": "stream",
     "text": [
      "Extra data: line 18 column 1 (char 740)\n"
     ]
    },
    {
     "name": "stderr",
     "output_type": "stream",
     "text": [
      " 23%|████████████████████▌                                                                     | 17597/77002 [2:31:40<7:33:50,  2.18it/s]"
     ]
    },
    {
     "name": "stdout",
     "output_type": "stream",
     "text": [
      "Extra data: line 18 column 1 (char 1487)\n",
      "Extra data: line 18 column 1 (char 1570)\n"
     ]
    },
    {
     "name": "stderr",
     "output_type": "stream",
     "text": [
      " 23%|████████████████████▋                                                                     | 17682/77002 [2:32:20<9:00:35,  1.83it/s]"
     ]
    },
    {
     "name": "stdout",
     "output_type": "stream",
     "text": [
      "Expecting ',' delimiter: line 12 column 26 (char 641)\n"
     ]
    },
    {
     "name": "stderr",
     "output_type": "stream",
     "text": [
      " 23%|████████████████████▍                                                                    | 17687/77002 [2:32:28<25:38:16,  1.56s/it]"
     ]
    },
    {
     "name": "stdout",
     "output_type": "stream",
     "text": [
      "Extra data: line 18 column 1 (char 517)\n"
     ]
    },
    {
     "name": "stderr",
     "output_type": "stream",
     "text": [
      " 23%|████████████████████▍                                                                    | 17690/77002 [2:32:29<14:52:37,  1.11it/s]"
     ]
    },
    {
     "name": "stdout",
     "output_type": "stream",
     "text": [
      "Extra data: line 18 column 1 (char 764)\n"
     ]
    },
    {
     "name": "stderr",
     "output_type": "stream",
     "text": [
      " 23%|████████████████████▍                                                                    | 17697/77002 [2:32:40<21:20:00,  1.30s/it]"
     ]
    },
    {
     "name": "stdout",
     "output_type": "stream",
     "text": [
      "Extra data: line 18 column 1 (char 729)\n"
     ]
    },
    {
     "name": "stderr",
     "output_type": "stream",
     "text": [
      "\r",
      " 23%|████████████████████▍                                                                    | 17699/77002 [2:32:41<15:03:36,  1.09it/s]"
     ]
    },
    {
     "name": "stdout",
     "output_type": "stream",
     "text": [
      "Extra data: line 18 column 1 (char 1243)\n"
     ]
    },
    {
     "name": "stderr",
     "output_type": "stream",
     "text": [
      " 23%|████████████████████▊                                                                     | 17797/77002 [2:33:22<6:52:06,  2.39it/s]"
     ]
    },
    {
     "name": "stdout",
     "output_type": "stream",
     "text": [
      "Extra data: line 18 column 1 (char 775)\n",
      "Extra data: line 18 column 1 (char 775)\n",
      "Extra data: line 18 column 1 (char 860)\n"
     ]
    },
    {
     "name": "stderr",
     "output_type": "stream",
     "text": [
      " 23%|████████████████████▉                                                                     | 17871/77002 [2:34:04<9:40:21,  1.70it/s]"
     ]
    },
    {
     "name": "stdout",
     "output_type": "stream",
     "text": [
      "Extra data: line 18 column 1 (char 632)\n"
     ]
    },
    {
     "name": "stderr",
     "output_type": "stream",
     "text": [
      " 23%|████████████████████▉                                                                     | 17874/77002 [2:34:05<8:33:03,  1.92it/s]"
     ]
    },
    {
     "name": "stdout",
     "output_type": "stream",
     "text": [
      "Extra data: line 18 column 1 (char 401)\n"
     ]
    },
    {
     "name": "stderr",
     "output_type": "stream",
     "text": [
      "\r",
      " 23%|████████████████████▉                                                                     | 17876/77002 [2:34:06<7:44:48,  2.12it/s]"
     ]
    },
    {
     "name": "stdout",
     "output_type": "stream",
     "text": [
      "Extra data: line 18 column 1 (char 454)\n"
     ]
    },
    {
     "name": "stderr",
     "output_type": "stream",
     "text": [
      "\r",
      " 23%|████████████████████▉                                                                     | 17878/77002 [2:34:07<8:06:08,  2.03it/s]"
     ]
    },
    {
     "name": "stdout",
     "output_type": "stream",
     "text": [
      "Extra data: line 18 column 1 (char 585)\n",
      "Extra data: line 18 column 1 (char 605)\n",
      "Extra data: line 18 column 1 (char 521)\n",
      "Extra data: line 18 column 1 (char 716)\n"
     ]
    },
    {
     "name": "stderr",
     "output_type": "stream",
     "text": [
      "\r",
      " 23%|████████████████████▉                                                                     | 17883/77002 [2:34:08<4:13:22,  3.89it/s]"
     ]
    },
    {
     "name": "stdout",
     "output_type": "stream",
     "text": [
      "Extra data: line 18 column 1 (char 601)\n",
      "Extra data: line 18 column 1 (char 535)\n",
      "Extra data: line 18 column 1 (char 784)\n",
      "Extra data: line 18 column 1 (char 795)\n",
      "Extra data: line 18 column 1 (char 738)\n",
      "Extra data: line 18 column 1 (char 800)\n",
      "Extra data: line 18 column 1 (char 931)\n",
      "Extra data: line 18 column 1 (char 798)\n",
      "Extra data: line 18 column 1 (char 879)\n",
      "Extra data: line 18 column 1 (char 769)\n",
      "Extra data: line 18 column 1 (char 1008)\n",
      "Extra data: line 18 column 1 (char 793)\n",
      "Extra data: line 18 column 1 (char 869)\n",
      "Extra data: line 18 column 1 (char 910)\n",
      "Extra data: line 18 column 1 (char 881)\n",
      "Extra data: line 18 column 1 (char 1013)\n"
     ]
    },
    {
     "name": "stderr",
     "output_type": "stream",
     "text": [
      " 23%|████████████████████▊                                                                    | 17994/77002 [2:35:05<10:57:54,  1.49it/s]"
     ]
    },
    {
     "name": "stdout",
     "output_type": "stream",
     "text": [
      "Extra data: line 18 column 1 (char 759)\n",
      "Extra data: line 18 column 1 (char 642)\n",
      "Extra data: line 18 column 1 (char 718)\n",
      "Extra data: line 18 column 1 (char 709)\n",
      "Extra data: line 18 column 1 (char 988)\n",
      "Extra data: line 18 column 1 (char 725)\n"
     ]
    },
    {
     "name": "stderr",
     "output_type": "stream",
     "text": [
      " 24%|█████████████████████▏                                                                    | 18097/77002 [2:36:07<5:24:39,  3.02it/s]"
     ]
    },
    {
     "name": "stdout",
     "output_type": "stream",
     "text": [
      "Extra data: line 18 column 1 (char 960)\n",
      "Extra data: line 18 column 1 (char 948)\n"
     ]
    },
    {
     "name": "stderr",
     "output_type": "stream",
     "text": [
      " 24%|█████████████████████▎                                                                    | 18184/77002 [2:37:11<6:22:34,  2.56it/s]"
     ]
    },
    {
     "name": "stdout",
     "output_type": "stream",
     "text": [
      "Extra data: line 18 column 1 (char 655)\n"
     ]
    },
    {
     "name": "stderr",
     "output_type": "stream",
     "text": [
      "\r",
      " 24%|█████████████████████▎                                                                    | 18185/77002 [2:37:12<5:39:43,  2.89it/s]"
     ]
    },
    {
     "name": "stdout",
     "output_type": "stream",
     "text": [
      "Extra data: line 18 column 1 (char 518)\n",
      "Extra data: line 18 column 1 (char 863)\n"
     ]
    },
    {
     "name": "stderr",
     "output_type": "stream",
     "text": [
      "\r",
      " 24%|█████████████████████▎                                                                    | 18188/77002 [2:37:12<4:00:35,  4.07it/s]"
     ]
    },
    {
     "name": "stdout",
     "output_type": "stream",
     "text": [
      "Extra data: line 18 column 1 (char 918)\n",
      "Extra data: line 18 column 1 (char 619)\n",
      "Extra data: line 18 column 1 (char 611)\n"
     ]
    },
    {
     "name": "stderr",
     "output_type": "stream",
     "text": [
      "\r",
      " 24%|█████████████████████▎                                                                    | 18192/77002 [2:37:13<3:18:36,  4.94it/s]"
     ]
    },
    {
     "name": "stdout",
     "output_type": "stream",
     "text": [
      "Extra data: line 18 column 1 (char 664)\n",
      "Extra data: line 18 column 1 (char 772)\n",
      "Extra data: line 18 column 1 (char 702)\n",
      "Extra data: line 18 column 1 (char 640)\n",
      "Extra data: line 18 column 1 (char 810)\n",
      "Extra data: line 18 column 1 (char 705)\n",
      "Extra data: line 18 column 1 (char 703)\n",
      "Extra data: line 18 column 1 (char 1042)\n",
      "'NoneType' object is not subscriptable\n",
      "'NoneType' object is not subscriptable\n",
      "'NoneType' object is not subscriptable\n",
      "'NoneType' object is not subscriptable\n",
      "'NoneType' object is not subscriptable\n",
      "'NoneType' object is not subscriptable\n",
      "'NoneType' object is not subscriptable\n",
      "'NoneType' object is not subscriptable\n",
      "'NoneType' object is not subscriptable\n",
      "'NoneType' object is not subscriptable\n",
      "'NoneType' object is not subscriptable\n",
      "'NoneType' object is not subscriptable\n",
      "'NoneType' object is not subscriptable\n",
      "'NoneType' object is not subscriptable\n",
      "'NoneType' object is not subscriptable\n",
      "'NoneType' object is not subscriptable\n",
      "'NoneType' object is not subscriptable\n",
      "'NoneType' object is not subscriptable\n",
      "'NoneType' object is not subscriptable\n",
      "'NoneType' object is not subscriptable\n",
      "'NoneType' object is not subscriptable\n",
      "'NoneType' object is not subscriptable\n",
      "'NoneType' object is not subscriptable\n",
      "'NoneType' object is not subscriptable\n",
      "'NoneType' object is not subscriptable\n",
      "'NoneType' object is not subscriptable\n",
      "'NoneType' object is not subscriptable\n",
      "'NoneType' object is not subscriptable\n",
      "'NoneType' object is not subscriptable\n",
      "'NoneType' object is not subscriptable\n",
      "'NoneType' object is not subscriptable\n",
      "'NoneType' object is not subscriptable\n",
      "'NoneType' object is not subscriptable\n",
      "'NoneType' object is not subscriptable\n",
      "'NoneType' object is not subscriptable\n",
      "'NoneType' object is not subscriptable\n",
      "'NoneType' object is not subscriptable\n",
      "'NoneType' object is not subscriptable\n",
      "'NoneType' object is not subscriptable\n",
      "'NoneType' object is not subscriptable\n",
      "'NoneType' object is not subscriptable\n",
      "'NoneType' object is not subscriptable\n",
      "'NoneType' object is not subscriptable\n",
      "'NoneType' object is not subscriptable\n",
      "'NoneType' object is not subscriptable\n",
      "'NoneType' object is not subscriptable\n",
      "'NoneType' object is not subscriptable\n",
      "'NoneType' object is not subscriptable\n",
      "'NoneType' object is not subscriptable\n",
      "'NoneType' object is not subscriptable\n",
      "'NoneType' object is not subscriptable\n",
      "'NoneType' object is not subscriptable\n",
      "'NoneType' object is not subscriptable\n",
      "'NoneType' object is not subscriptable\n",
      "'NoneType' object is not subscriptable\n",
      "'NoneType' object is not subscriptable\n",
      "'NoneType' object is not subscriptable\n",
      "'NoneType' object is not subscriptable\n",
      "'NoneType' object is not subscriptable\n",
      "'NoneType' object is not subscriptable\n",
      "'NoneType' object is not subscriptable\n",
      "'NoneType' object is not subscriptable\n",
      "'NoneType' object is not subscriptable\n",
      "'NoneType' object is not subscriptable\n",
      "'NoneType' object is not subscriptable\n",
      "'NoneType' object is not subscriptable\n",
      "'NoneType' object is not subscriptable\n",
      "'NoneType' object is not subscriptable\n",
      "'NoneType' object is not subscriptable\n",
      "'NoneType' object is not subscriptable\n",
      "'NoneType' object is not subscriptable\n",
      "'NoneType' object is not subscriptable\n",
      "'NoneType' object is not subscriptable\n",
      "'NoneType' object is not subscriptable\n",
      "'NoneType' object is not subscriptable\n",
      "'NoneType' object is not subscriptable\n",
      "'NoneType' object is not subscriptable\n",
      "'NoneType' object is not subscriptable\n",
      "'NoneType' object is not subscriptable\n",
      "'NoneType' object is not subscriptable\n",
      "'NoneType' object is not subscriptable\n",
      "'NoneType' object is not subscriptable\n",
      "'NoneType' object is not subscriptable\n",
      "'NoneType' object is not subscriptable\n",
      "'NoneType' object is not subscriptable\n",
      "'NoneType' object is not subscriptable\n",
      "'NoneType' object is not subscriptable\n",
      "'NoneType' object is not subscriptable\n",
      "'NoneType' object is not subscriptable\n",
      "'NoneType' object is not subscriptable\n",
      "'NoneType' object is not subscriptable\n",
      "'NoneType' object is not subscriptable\n",
      "'NoneType' object is not subscriptable\n",
      "'NoneType' object is not subscriptable\n",
      "'NoneType' object is not subscriptable\n",
      "'NoneType' object is not subscriptable\n",
      "'NoneType' object is not subscriptable\n",
      "'NoneType' object is not subscriptable\n",
      "'NoneType' object is not subscriptable\n",
      "'NoneType' object is not subscriptable\n"
     ]
    },
    {
     "name": "stderr",
     "output_type": "stream",
     "text": [
      " 24%|█████████████████████▎                                                                   | 18396/77002 [2:38:12<26:33:17,  1.63s/it]"
     ]
    },
    {
     "name": "stdout",
     "output_type": "stream",
     "text": [
      "Extra data: line 18 column 1 (char 378)\n",
      "Extra data: line 18 column 1 (char 868)\n",
      "Extra data: line 18 column 1 (char 784)\n",
      "'NoneType' object is not subscriptable\n",
      "'NoneType' object is not subscriptable\n",
      "'NoneType' object is not subscriptable\n",
      "'NoneType' object is not subscriptable\n",
      "'NoneType' object is not subscriptable\n",
      "'NoneType' object is not subscriptable\n"
     ]
    },
    {
     "name": "stderr",
     "output_type": "stream",
     "text": [
      " 24%|█████████████████████▌                                                                    | 18478/77002 [2:39:25<9:24:05,  1.73it/s]"
     ]
    },
    {
     "name": "stdout",
     "output_type": "stream",
     "text": [
      "Extra data: line 18 column 1 (char 635)\n"
     ]
    },
    {
     "name": "stderr",
     "output_type": "stream",
     "text": [
      " 24%|█████████████████████▌                                                                    | 18484/77002 [2:39:28<8:18:26,  1.96it/s]"
     ]
    },
    {
     "name": "stdout",
     "output_type": "stream",
     "text": [
      "Extra data: line 18 column 1 (char 681)\n"
     ]
    },
    {
     "name": "stderr",
     "output_type": "stream",
     "text": [
      " 24%|█████████████████████▌                                                                    | 18490/77002 [2:39:30<4:44:08,  3.43it/s]"
     ]
    },
    {
     "name": "stdout",
     "output_type": "stream",
     "text": [
      "Extra data: line 18 column 1 (char 925)\n",
      "Extra data: line 18 column 1 (char 878)\n",
      "Extra data: line 18 column 1 (char 1118)\n"
     ]
    },
    {
     "name": "stderr",
     "output_type": "stream",
     "text": [
      "\r",
      " 24%|█████████████████████▌                                                                    | 18492/77002 [2:39:30<3:47:37,  4.28it/s]"
     ]
    },
    {
     "name": "stdout",
     "output_type": "stream",
     "text": [
      "Extra data: line 18 column 1 (char 640)\n",
      "Extra data: line 18 column 1 (char 759)\n"
     ]
    },
    {
     "name": "stderr",
     "output_type": "stream",
     "text": [
      "\r",
      " 24%|█████████████████████▌                                                                    | 18497/77002 [2:39:30<2:15:25,  7.20it/s]"
     ]
    },
    {
     "name": "stdout",
     "output_type": "stream",
     "text": [
      "Extra data: line 18 column 1 (char 761)\n",
      "Extra data: line 18 column 1 (char 937)\n",
      "Extra data: line 18 column 1 (char 1057)\n",
      "'NoneType' object is not subscriptable\n",
      "'NoneType' object is not subscriptable\n",
      "'NoneType' object is not subscriptable\n",
      "'NoneType' object is not subscriptable\n",
      "'NoneType' object is not subscriptable\n"
     ]
    },
    {
     "name": "stderr",
     "output_type": "stream",
     "text": [
      " 24%|█████████████████████▋                                                                    | 18584/77002 [2:40:15<4:59:17,  3.25it/s]"
     ]
    },
    {
     "name": "stdout",
     "output_type": "stream",
     "text": [
      "Extra data: line 18 column 1 (char 878)\n",
      "Extra data: line 18 column 1 (char 852)\n",
      "Extra data: line 18 column 1 (char 807)\n"
     ]
    },
    {
     "name": "stderr",
     "output_type": "stream",
     "text": [
      " 24%|█████████████████████▋                                                                    | 18591/77002 [2:40:17<4:23:56,  3.69it/s]"
     ]
    },
    {
     "name": "stdout",
     "output_type": "stream",
     "text": [
      "Extra data: line 18 column 1 (char 748)\n",
      "Extra data: line 18 column 1 (char 775)\n"
     ]
    },
    {
     "name": "stderr",
     "output_type": "stream",
     "text": [
      " 24%|█████████████████████▋                                                                    | 18597/77002 [2:40:18<4:12:45,  3.85it/s]"
     ]
    },
    {
     "name": "stdout",
     "output_type": "stream",
     "text": [
      "Extra data: line 18 column 1 (char 1070)\n"
     ]
    },
    {
     "name": "stderr",
     "output_type": "stream",
     "text": [
      " 24%|█████████████████████▊                                                                    | 18677/77002 [2:41:09<4:24:21,  3.68it/s]"
     ]
    },
    {
     "name": "stdout",
     "output_type": "stream",
     "text": [
      "Extra data: line 18 column 1 (char 705)\n"
     ]
    },
    {
     "name": "stderr",
     "output_type": "stream",
     "text": [
      " 24%|█████████████████████▊                                                                    | 18679/77002 [2:41:10<5:33:49,  2.91it/s]"
     ]
    },
    {
     "name": "stdout",
     "output_type": "stream",
     "text": [
      "Extra data: line 18 column 1 (char 853)\n"
     ]
    },
    {
     "name": "stderr",
     "output_type": "stream",
     "text": [
      "\r",
      " 24%|█████████████████████▊                                                                    | 18681/77002 [2:41:10<4:30:46,  3.59it/s]"
     ]
    },
    {
     "name": "stdout",
     "output_type": "stream",
     "text": [
      "Extra data: line 18 column 1 (char 420)\n",
      "Extra data: line 18 column 1 (char 809)\n",
      "Extra data: line 18 column 1 (char 688)\n"
     ]
    },
    {
     "name": "stderr",
     "output_type": "stream",
     "text": [
      "\r",
      " 24%|█████████████████████▊                                                                    | 18686/77002 [2:41:10<2:16:37,  7.11it/s]"
     ]
    },
    {
     "name": "stdout",
     "output_type": "stream",
     "text": [
      "Extra data: line 18 column 1 (char 557)\n",
      "Extra data: line 18 column 1 (char 664)\n",
      "Extra data: line 18 column 1 (char 1128)\n",
      "Extra data: line 18 column 1 (char 840)\n",
      "Extra data: line 18 column 1 (char 650)\n",
      "Extra data: line 18 column 1 (char 767)\n",
      "Extra data: line 18 column 1 (char 811)\n",
      "Extra data: line 18 column 1 (char 843)\n"
     ]
    },
    {
     "name": "stderr",
     "output_type": "stream",
     "text": [
      " 24%|█████████████████████▊                                                                    | 18701/77002 [2:41:11<1:09:11, 14.04it/s]"
     ]
    },
    {
     "name": "stdout",
     "output_type": "stream",
     "text": [
      "Extra data: line 18 column 1 (char 1150)\n",
      "Extra data: line 18 column 1 (char 1135)\n",
      "Extra data: line 18 column 1 (char 667)\n",
      "Extra data: line 18 column 1 (char 760)\n"
     ]
    },
    {
     "name": "stderr",
     "output_type": "stream",
     "text": [
      " 24%|█████████████████████▉                                                                    | 18786/77002 [2:41:57<7:43:40,  2.09it/s]"
     ]
    },
    {
     "name": "stdout",
     "output_type": "stream",
     "text": [
      "Extra data: line 18 column 1 (char 919)\n"
     ]
    },
    {
     "name": "stderr",
     "output_type": "stream",
     "text": [
      " 24%|█████████████████████▉                                                                    | 18790/77002 [2:41:58<5:22:50,  3.01it/s]"
     ]
    },
    {
     "name": "stdout",
     "output_type": "stream",
     "text": [
      "Extra data: line 18 column 1 (char 787)\n",
      "Extra data: line 18 column 1 (char 877)\n",
      "Extra data: line 18 column 1 (char 785)\n",
      "Expecting ',' delimiter: line 9 column 792 (char 1625)\n",
      "Extra data: line 18 column 1 (char 1051)\n",
      "Extra data: line 18 column 1 (char 1065)\n"
     ]
    },
    {
     "name": "stderr",
     "output_type": "stream",
     "text": [
      "\r",
      " 24%|█████████████████████▉                                                                    | 18797/77002 [2:41:59<2:16:20,  7.12it/s]"
     ]
    },
    {
     "name": "stdout",
     "output_type": "stream",
     "text": [
      "Extra data: line 18 column 1 (char 1540)\n"
     ]
    },
    {
     "name": "stderr",
     "output_type": "stream",
     "text": [
      " 25%|█████████████████████▊                                                                   | 18890/77002 [2:43:14<10:29:14,  1.54it/s]"
     ]
    },
    {
     "name": "stdout",
     "output_type": "stream",
     "text": [
      "Extra data: line 18 column 1 (char 595)\n"
     ]
    },
    {
     "name": "stderr",
     "output_type": "stream",
     "text": [
      " 25%|██████████████████████                                                                    | 18895/77002 [2:43:15<6:55:31,  2.33it/s]"
     ]
    },
    {
     "name": "stdout",
     "output_type": "stream",
     "text": [
      "Extra data: line 18 column 1 (char 673)\n"
     ]
    },
    {
     "name": "stderr",
     "output_type": "stream",
     "text": [
      "\r",
      " 25%|██████████████████████                                                                    | 18897/77002 [2:43:16<5:25:53,  2.97it/s]"
     ]
    },
    {
     "name": "stdout",
     "output_type": "stream",
     "text": [
      "Extra data: line 18 column 1 (char 780)\n"
     ]
    },
    {
     "name": "stderr",
     "output_type": "stream",
     "text": [
      "\r",
      " 25%|██████████████████████                                                                    | 18899/77002 [2:43:17<5:22:11,  3.01it/s]"
     ]
    },
    {
     "name": "stdout",
     "output_type": "stream",
     "text": [
      "Extra data: line 18 column 1 (char 1190)\n"
     ]
    },
    {
     "name": "stderr",
     "output_type": "stream",
     "text": [
      " 25%|█████████████████████▉                                                                   | 18980/77002 [2:44:29<12:48:55,  1.26it/s]"
     ]
    },
    {
     "name": "stdout",
     "output_type": "stream",
     "text": [
      "Extra data: line 18 column 1 (char 993)\n",
      "Extra data: line 18 column 1 (char 896)\n"
     ]
    },
    {
     "name": "stderr",
     "output_type": "stream",
     "text": [
      "\r",
      " 25%|██████████████████████▏                                                                   | 18983/77002 [2:44:29<7:42:33,  2.09it/s]"
     ]
    },
    {
     "name": "stdout",
     "output_type": "stream",
     "text": [
      "Extra data: line 18 column 1 (char 777)\n",
      "Extra data: line 18 column 1 (char 677)\n",
      "Extra data: line 18 column 1 (char 754)\n",
      "Extra data: line 18 column 1 (char 800)\n"
     ]
    },
    {
     "name": "stderr",
     "output_type": "stream",
     "text": [
      "\r",
      " 25%|██████████████████████▏                                                                   | 18988/77002 [2:44:30<4:14:30,  3.80it/s]"
     ]
    },
    {
     "name": "stdout",
     "output_type": "stream",
     "text": [
      "Extra data: line 18 column 1 (char 871)\n",
      "Extra data: line 18 column 1 (char 1019)\n",
      "Extra data: line 18 column 1 (char 1030)\n"
     ]
    },
    {
     "name": "stderr",
     "output_type": "stream",
     "text": [
      " 25%|██████████████████████▏                                                                   | 18995/77002 [2:44:31<3:10:25,  5.08it/s]"
     ]
    },
    {
     "name": "stdout",
     "output_type": "stream",
     "text": [
      "Extra data: line 18 column 1 (char 1343)\n",
      "Extra data: line 18 column 1 (char 1540)\n"
     ]
    },
    {
     "name": "stderr",
     "output_type": "stream",
     "text": [
      " 25%|██████████████████████▏                                                                   | 18999/77002 [2:44:31<3:05:08,  5.22it/s]"
     ]
    },
    {
     "name": "stdout",
     "output_type": "stream",
     "text": [
      "Extra data: line 18 column 1 (char 891)\n"
     ]
    },
    {
     "name": "stderr",
     "output_type": "stream",
     "text": [
      " 25%|██████████████████████▊                                                                     | 19138/77002 [2:45:35<35:25, 27.22it/s]"
     ]
    },
    {
     "name": "stdout",
     "output_type": "stream",
     "text": [
      "'NoneType' object is not subscriptable\n",
      "'NoneType' object is not subscriptable\n",
      "'NoneType' object is not subscriptable\n",
      "'NoneType' object is not subscriptable\n",
      "'NoneType' object is not subscriptable\n",
      "'NoneType' object is not subscriptable\n",
      "'NoneType' object is not subscriptable\n",
      "'NoneType' object is not subscriptable\n",
      "'NoneType' object is not subscriptable\n",
      "'NoneType' object is not subscriptable\n",
      "'NoneType' object is not subscriptable\n",
      "'NoneType' object is not subscriptable\n",
      "'NoneType' object is not subscriptable\n",
      "'NoneType' object is not subscriptable\n",
      "'NoneType' object is not subscriptable\n",
      "'NoneType' object is not subscriptable\n",
      "'NoneType' object is not subscriptable\n",
      "'NoneType' object is not subscriptable\n",
      "'NoneType' object is not subscriptable\n",
      "'NoneType' object is not subscriptable\n",
      "'NoneType' object is not subscriptable\n",
      "'NoneType' object is not subscriptable\n",
      "'NoneType' object is not subscriptable\n",
      "'NoneType' object is not subscriptable\n",
      "'NoneType' object is not subscriptable\n",
      "'NoneType' object is not subscriptable\n",
      "'NoneType' object is not subscriptable\n",
      "'NoneType' object is not subscriptable\n",
      "'NoneType' object is not subscriptable\n",
      "'NoneType' object is not subscriptable\n",
      "'NoneType' object is not subscriptable\n",
      "'NoneType' object is not subscriptable\n",
      "'NoneType' object is not subscriptable\n",
      "'NoneType' object is not subscriptable\n",
      "'NoneType' object is not subscriptable\n",
      "'NoneType' object is not subscriptable\n",
      "'NoneType' object is not subscriptable\n"
     ]
    },
    {
     "name": "stderr",
     "output_type": "stream",
     "text": [
      " 25%|██████████████████████▏                                                                  | 19191/77002 [2:46:11<16:36:00,  1.03s/it]"
     ]
    },
    {
     "name": "stdout",
     "output_type": "stream",
     "text": [
      "Extra data: line 18 column 1 (char 792)\n"
     ]
    },
    {
     "name": "stderr",
     "output_type": "stream",
     "text": [
      " 25%|██████████████████████▏                                                                  | 19194/77002 [2:46:13<13:03:27,  1.23it/s]"
     ]
    },
    {
     "name": "stdout",
     "output_type": "stream",
     "text": [
      "Extra data: line 18 column 1 (char 684)\n",
      "Extra data: line 18 column 1 (char 752)\n"
     ]
    },
    {
     "name": "stderr",
     "output_type": "stream",
     "text": [
      " 25%|██████████████████████▌                                                                   | 19262/77002 [2:46:38<3:05:23,  5.19it/s]"
     ]
    },
    {
     "name": "stdout",
     "output_type": "stream",
     "text": [
      "Extra data: line 18 column 1 (char 1126)\n",
      "Extra data: line 18 column 1 (char 1126)\n",
      "Extra data: line 18 column 1 (char 1126)\n",
      "Extra data: line 18 column 1 (char 1126)\n",
      "Extra data: line 18 column 1 (char 1126)\n",
      "Extra data: line 18 column 1 (char 1126)\n",
      "Extra data: line 18 column 1 (char 1126)\n",
      "Extra data: line 18 column 1 (char 1126)\n",
      "Extra data: line 18 column 1 (char 1126)\n",
      "Extra data: line 18 column 1 (char 1126)\n"
     ]
    },
    {
     "name": "stderr",
     "output_type": "stream",
     "text": [
      " 25%|███████████████████████                                                                     | 19301/77002 [2:46:38<21:33, 44.59it/s]"
     ]
    },
    {
     "name": "stdout",
     "output_type": "stream",
     "text": [
      "Extra data: line 18 column 1 (char 1126)\n",
      "Extra data: line 18 column 1 (char 1126)\n",
      "Extra data: line 18 column 1 (char 1126)\n",
      "Extra data: line 18 column 1 (char 1126)\n",
      "Extra data: line 18 column 1 (char 1126)\n",
      "Extra data: line 18 column 1 (char 1126)\n",
      "Extra data: line 18 column 1 (char 1126)\n",
      "Extra data: line 18 column 1 (char 1126)\n",
      "Extra data: line 18 column 1 (char 1126)\n",
      "Extra data: line 18 column 1 (char 1126)\n",
      "Extra data: line 18 column 1 (char 1126)\n",
      "Extra data: line 18 column 1 (char 1126)\n",
      "Extra data: line 18 column 1 (char 1126)\n",
      "Extra data: line 18 column 1 (char 1126)\n",
      "Extra data: line 18 column 1 (char 1126)\n",
      "Extra data: line 18 column 1 (char 1126)\n",
      "Extra data: line 18 column 1 (char 1126)\n",
      "Extra data: line 18 column 1 (char 1126)\n",
      "Extra data: line 18 column 1 (char 1126)\n",
      "Extra data: line 18 column 1 (char 1126)\n",
      "Extra data: line 18 column 1 (char 1126)\n",
      "Extra data: line 18 column 1 (char 1126)\n",
      "Extra data: line 18 column 1 (char 1126)\n",
      "Extra data: line 18 column 1 (char 1126)\n",
      "Extra data: line 18 column 1 (char 1126)\n",
      "Extra data: line 18 column 1 (char 1126)\n",
      "Extra data: line 18 column 1 (char 1126)\n"
     ]
    },
    {
     "name": "stderr",
     "output_type": "stream",
     "text": [
      " 25%|██████████████████████▋                                                                   | 19375/77002 [2:47:23<6:01:01,  2.66it/s]"
     ]
    },
    {
     "name": "stdout",
     "output_type": "stream",
     "text": [
      "Extra data: line 18 column 1 (char 490)\n"
     ]
    },
    {
     "name": "stderr",
     "output_type": "stream",
     "text": [
      " 25%|██████████████████████▋                                                                   | 19395/77002 [2:47:31<6:36:45,  2.42it/s]"
     ]
    },
    {
     "name": "stdout",
     "output_type": "stream",
     "text": [
      "Extra data: line 18 column 1 (char 688)\n",
      "Extra data: line 18 column 1 (char 751)\n",
      "Extra data: line 18 column 1 (char 713)\n",
      "Extra data: line 18 column 1 (char 622)\n"
     ]
    },
    {
     "name": "stderr",
     "output_type": "stream",
     "text": [
      " 25%|██████████████████████▊                                                                   | 19485/77002 [2:48:12<9:56:27,  1.61it/s]"
     ]
    },
    {
     "name": "stdout",
     "output_type": "stream",
     "text": [
      "Extra data: line 18 column 1 (char 806)\n"
     ]
    },
    {
     "name": "stderr",
     "output_type": "stream",
     "text": [
      " 25%|██████████████████████▊                                                                   | 19491/77002 [2:48:15<7:40:47,  2.08it/s]"
     ]
    },
    {
     "name": "stdout",
     "output_type": "stream",
     "text": [
      "Extra data: line 18 column 1 (char 770)\n",
      "Extra data: line 18 column 1 (char 526)\n",
      "Extra data: line 18 column 1 (char 804)\n",
      "Extra data: line 18 column 1 (char 752)\n",
      "Extra data: line 18 column 1 (char 780)\n",
      "Extra data: line 18 column 1 (char 790)\n",
      "Extra data: line 18 column 1 (char 780)\n",
      "Extra data: line 18 column 1 (char 815)\n",
      "Extra data: line 18 column 1 (char 1256)\n"
     ]
    },
    {
     "name": "stderr",
     "output_type": "stream",
     "text": [
      " 25%|██████████████████████▉                                                                   | 19578/77002 [2:48:42<4:51:03,  3.29it/s]IOPub message rate exceeded.\n",
      "The notebook server will temporarily stop sending output\n",
      "to the client in order to avoid crashing it.\n",
      "To change this limit, set the config variable\n",
      "`--NotebookApp.iopub_msg_rate_limit`.\n",
      "\n",
      "Current values:\n",
      "NotebookApp.iopub_msg_rate_limit=1000.0 (msgs/sec)\n",
      "NotebookApp.rate_limit_window=3.0 (secs)\n",
      "\n"
     ]
    },
    {
     "name": "stdout",
     "output_type": "stream",
     "text": [
      "Extra data: line 18 column 1 (char 857)\n",
      "Extra data: line 18 column 1 (char 593)\n",
      "Extra data: line 18 column 1 (char 614)\n",
      "Extra data: line 18 column 1 (char 675)\n",
      "Extra data: line 18 column 1 (char 875)\n",
      "Extra data: line 18 column 1 (char 586)\n",
      "Extra data: line 18 column 1 (char 586)\n",
      "Extra data: line 18 column 1 (char 848)\n"
     ]
    },
    {
     "name": "stderr",
     "output_type": "stream",
     "text": [
      " 65%|██████████████████████████████████████████████████████████▉                               | 50399/77002 [7:16:54<4:26:26,  1.66it/s]"
     ]
    },
    {
     "name": "stdout",
     "output_type": "stream",
     "text": [
      "Extra data: line 18 column 1 (char 840)\n"
     ]
    },
    {
     "name": "stderr",
     "output_type": "stream",
     "text": [
      " 66%|███████████████████████████████████████████████████████████                               | 50498/77002 [7:17:48<1:52:26,  3.93it/s]"
     ]
    },
    {
     "name": "stdout",
     "output_type": "stream",
     "text": [
      "Extra data: line 18 column 1 (char 851)\n"
     ]
    },
    {
     "name": "stderr",
     "output_type": "stream",
     "text": [
      " 66%|███████████████████████████████████████████████████████████                               | 50585/77002 [7:18:45<3:11:16,  2.30it/s]"
     ]
    },
    {
     "name": "stdout",
     "output_type": "stream",
     "text": [
      "Extra data: line 18 column 1 (char 640)\n",
      "Extra data: line 18 column 1 (char 918)\n",
      "Extra data: line 18 column 1 (char 918)\n",
      "Extra data: line 7 column 1 (char 553)\n",
      "Extra data: line 18 column 1 (char 918)\n",
      "Extra data: line 18 column 1 (char 656)\n",
      "Extra data: line 18 column 1 (char 640)\n",
      "Extra data: line 18 column 1 (char 640)\n",
      "Extra data: line 7 column 1 (char 690)\n",
      "Extra data: line 18 column 1 (char 1091)\n",
      "Extra data: line 18 column 1 (char 640)\n"
     ]
    },
    {
     "name": "stderr",
     "output_type": "stream",
     "text": [
      "\r",
      " 66%|████████████████████████████████████████████████████████████▍                               | 50597/77002 [7:18:45<42:25, 10.37it/s]"
     ]
    },
    {
     "name": "stdout",
     "output_type": "stream",
     "text": [
      "Extra data: line 18 column 1 (char 965)\n",
      "Extra data: line 18 column 1 (char 873)\n",
      "Extra data: line 18 column 1 (char 957)\n",
      "Extra data: line 18 column 1 (char 1033)\n",
      "Extra data: line 18 column 1 (char 1238)\n"
     ]
    },
    {
     "name": "stderr",
     "output_type": "stream",
     "text": [
      " 66%|███████████████████████████████████████████████████████████▏                              | 50641/77002 [7:19:01<3:20:14,  2.19it/s]"
     ]
    },
    {
     "name": "stdout",
     "output_type": "stream",
     "text": [
      "Expecting ',' delimiter: line 9 column 125 (char 484)\n"
     ]
    },
    {
     "name": "stderr",
     "output_type": "stream",
     "text": [
      " 66%|██████████████████████████████████████████████████████████▌                              | 50687/77002 [7:19:52<11:42:47,  1.60s/it]"
     ]
    },
    {
     "name": "stdout",
     "output_type": "stream",
     "text": [
      "Extra data: line 18 column 1 (char 624)\n",
      "Extra data: line 18 column 1 (char 871)\n",
      "Extra data: line 18 column 1 (char 930)\n"
     ]
    },
    {
     "name": "stderr",
     "output_type": "stream",
     "text": [
      " 66%|███████████████████████████████████████████████████████████▎                              | 50693/77002 [7:19:53<3:43:31,  1.96it/s]"
     ]
    },
    {
     "name": "stdout",
     "output_type": "stream",
     "text": [
      "Extra data: line 18 column 1 (char 1244)\n",
      "Extra data: line 18 column 1 (char 1244)\n",
      "Extra data: line 18 column 1 (char 1244)\n",
      "Extra data: line 18 column 1 (char 757)\n"
     ]
    },
    {
     "name": "stderr",
     "output_type": "stream",
     "text": [
      "\r",
      " 66%|███████████████████████████████████████████████████████████▎                              | 50698/77002 [7:19:53<2:06:16,  3.47it/s]"
     ]
    },
    {
     "name": "stdout",
     "output_type": "stream",
     "text": [
      "Extra data: line 18 column 1 (char 757)\n"
     ]
    },
    {
     "name": "stderr",
     "output_type": "stream",
     "text": [
      "\r",
      " 66%|███████████████████████████████████████████████████████████▎                              | 50700/77002 [7:19:54<1:56:47,  3.75it/s]"
     ]
    },
    {
     "name": "stdout",
     "output_type": "stream",
     "text": [
      "Extra data: line 18 column 1 (char 757)\n",
      "Extra data: line 18 column 1 (char 1099)\n"
     ]
    },
    {
     "name": "stderr",
     "output_type": "stream",
     "text": [
      " 66%|███████████████████████████████████████████████████████████▎                              | 50791/77002 [7:20:30<2:19:45,  3.13it/s]"
     ]
    },
    {
     "name": "stdout",
     "output_type": "stream",
     "text": [
      "Extra data: line 18 column 1 (char 860)\n"
     ]
    },
    {
     "name": "stderr",
     "output_type": "stream",
     "text": [
      " 66%|███████████████████████████████████████████████████████████▎                              | 50794/77002 [7:20:30<1:53:17,  3.86it/s]"
     ]
    },
    {
     "name": "stdout",
     "output_type": "stream",
     "text": [
      "Extra data: line 18 column 1 (char 842)\n"
     ]
    },
    {
     "name": "stderr",
     "output_type": "stream",
     "text": [
      " 66%|███████████████████████████████████████████████████████████▎                              | 50797/77002 [7:20:31<2:14:07,  3.26it/s]"
     ]
    },
    {
     "name": "stdout",
     "output_type": "stream",
     "text": [
      "Extra data: line 18 column 1 (char 550)\n",
      "Extra data: line 18 column 1 (char 584)\n",
      "Extra data: line 18 column 1 (char 1229)\n",
      "Extra data: line 18 column 1 (char 866)\n"
     ]
    },
    {
     "name": "stderr",
     "output_type": "stream",
     "text": [
      " 66%|███████████████████████████████████████████████████████████▍                              | 50887/77002 [7:21:09<2:03:21,  3.53it/s]"
     ]
    },
    {
     "name": "stdout",
     "output_type": "stream",
     "text": [
      "Extra data: line 18 column 1 (char 545)\n",
      "Extra data: line 18 column 1 (char 737)\n"
     ]
    },
    {
     "name": "stderr",
     "output_type": "stream",
     "text": [
      " 66%|███████████████████████████████████████████████████████████▍                              | 50892/77002 [7:21:12<3:28:23,  2.09it/s]"
     ]
    },
    {
     "name": "stdout",
     "output_type": "stream",
     "text": [
      "Extra data: line 18 column 1 (char 849)\n",
      "Extra data: line 18 column 1 (char 419)\n",
      "Extra data: line 18 column 1 (char 731)\n"
     ]
    },
    {
     "name": "stderr",
     "output_type": "stream",
     "text": [
      "\r",
      " 66%|███████████████████████████████████████████████████████████▍                              | 50896/77002 [7:21:13<2:32:11,  2.86it/s]"
     ]
    },
    {
     "name": "stdout",
     "output_type": "stream",
     "text": [
      "Extra data: line 7 column 1 (char 611)\n",
      "Extra data: line 18 column 1 (char 670)\n",
      "Extra data: line 18 column 1 (char 782)\n",
      "Extra data: line 18 column 1 (char 913)\n",
      "Extra data: line 18 column 1 (char 649)\n"
     ]
    },
    {
     "name": "stderr",
     "output_type": "stream",
     "text": [
      " 66%|███████████████████████████████████████████████████████████▌                              | 50993/77002 [7:22:04<4:42:30,  1.53it/s]"
     ]
    },
    {
     "name": "stdout",
     "output_type": "stream",
     "text": [
      "Extra data: line 18 column 1 (char 929)\n"
     ]
    },
    {
     "name": "stderr",
     "output_type": "stream",
     "text": [
      " 66%|███████████████████████████████████████████████████████████▌                              | 50996/77002 [7:22:05<4:15:07,  1.70it/s]"
     ]
    },
    {
     "name": "stdout",
     "output_type": "stream",
     "text": [
      "Extra data: line 18 column 1 (char 857)\n",
      "Extra data: line 18 column 1 (char 851)\n"
     ]
    },
    {
     "name": "stderr",
     "output_type": "stream",
     "text": [
      " 66%|███████████████████████████████████████████████████████████▋                              | 51084/77002 [7:22:43<2:05:43,  3.44it/s]"
     ]
    },
    {
     "name": "stdout",
     "output_type": "stream",
     "text": [
      "Extra data: line 18 column 1 (char 733)\n"
     ]
    },
    {
     "name": "stderr",
     "output_type": "stream",
     "text": [
      " 66%|███████████████████████████████████████████████████████████▋                              | 51088/77002 [7:22:44<2:22:22,  3.03it/s]"
     ]
    },
    {
     "name": "stdout",
     "output_type": "stream",
     "text": [
      "Extra data: line 18 column 1 (char 826)\n"
     ]
    },
    {
     "name": "stderr",
     "output_type": "stream",
     "text": [
      " 66%|███████████████████████████████████████████████████████████▊                              | 51202/77002 [7:23:38<1:30:12,  4.77it/s]"
     ]
    },
    {
     "name": "stdout",
     "output_type": "stream",
     "text": [
      "Extra data: line 18 column 1 (char 875)\n"
     ]
    },
    {
     "name": "stderr",
     "output_type": "stream",
     "text": [
      " 67%|███████████████████████████████████████████████████████████▉                              | 51296/77002 [7:24:24<1:36:54,  4.42it/s]"
     ]
    },
    {
     "name": "stdout",
     "output_type": "stream",
     "text": [
      "Extra data: line 18 column 1 (char 644)\n"
     ]
    },
    {
     "name": "stderr",
     "output_type": "stream",
     "text": [
      " 67%|████████████████████████████████████████████████████████████                              | 51394/77002 [7:25:02<3:38:50,  1.95it/s]"
     ]
    },
    {
     "name": "stdout",
     "output_type": "stream",
     "text": [
      "Extra data: line 18 column 1 (char 1099)\n",
      "Extra data: line 18 column 1 (char 1235)\n"
     ]
    },
    {
     "name": "stderr",
     "output_type": "stream",
     "text": [
      "\r",
      " 67%|████████████████████████████████████████████████████████████                              | 51398/77002 [7:25:02<1:57:41,  3.63it/s]"
     ]
    },
    {
     "name": "stdout",
     "output_type": "stream",
     "text": [
      "Extra data: line 18 column 1 (char 1099)\n",
      "Extra data: line 18 column 1 (char 986)\n"
     ]
    },
    {
     "name": "stderr",
     "output_type": "stream",
     "text": [
      " 67%|████████████████████████████████████████████████████████████▏                             | 51494/77002 [7:25:37<2:56:24,  2.41it/s]"
     ]
    },
    {
     "name": "stdout",
     "output_type": "stream",
     "text": [
      "Extra data: line 18 column 1 (char 853)\n"
     ]
    },
    {
     "name": "stderr",
     "output_type": "stream",
     "text": [
      " 67%|████████████████████████████████████████████████████████████▏                             | 51500/77002 [7:25:39<2:20:15,  3.03it/s]"
     ]
    },
    {
     "name": "stdout",
     "output_type": "stream",
     "text": [
      "Extra data: line 18 column 1 (char 853)\n"
     ]
    },
    {
     "name": "stderr",
     "output_type": "stream",
     "text": [
      " 67%|████████████████████████████████████████████████████████████▎                             | 51596/77002 [7:26:48<1:59:36,  3.54it/s]"
     ]
    },
    {
     "name": "stdout",
     "output_type": "stream",
     "text": [
      "Extra data: line 18 column 1 (char 693)\n"
     ]
    },
    {
     "name": "stderr",
     "output_type": "stream",
     "text": [
      " 67%|████████████████████████████████████████████████████████████▍                             | 51701/77002 [7:27:44<2:24:39,  2.91it/s]"
     ]
    },
    {
     "name": "stdout",
     "output_type": "stream",
     "text": [
      "Extra data: line 18 column 1 (char 955)\n"
     ]
    },
    {
     "name": "stderr",
     "output_type": "stream",
     "text": [
      " 67%|████████████████████████████████████████████████████████████▋                             | 51874/77002 [7:29:56<2:37:49,  2.65it/s]"
     ]
    },
    {
     "name": "stdout",
     "output_type": "stream",
     "text": [
      "Extra data: line 7 column 1 (char 676)\n"
     ]
    },
    {
     "name": "stderr",
     "output_type": "stream",
     "text": [
      " 67%|████████████████████████████████████████████████████████████▋                             | 51887/77002 [7:30:00<1:12:41,  5.76it/s]"
     ]
    },
    {
     "name": "stdout",
     "output_type": "stream",
     "text": [
      "Extra data: line 18 column 1 (char 1027)\n",
      "Extra data: line 18 column 1 (char 797)\n",
      "Extra data: line 18 column 1 (char 987)\n",
      "Extra data: line 18 column 1 (char 640)\n",
      "Extra data: line 18 column 1 (char 757)\n",
      "Extra data: line 18 column 1 (char 677)\n",
      "Extra data: line 18 column 1 (char 757)\n",
      "Extra data: line 18 column 1 (char 902)\n",
      "Extra data: line 18 column 1 (char 677)\n",
      "Extra data: line 18 column 1 (char 865)\n",
      "Extra data: line 7 column 1 (char 1024)\n",
      "Extra data: line 7 column 1 (char 1049)\n",
      "Extra data: line 7 column 1 (char 1018)\n",
      "Extra data: line 18 column 1 (char 950)\n"
     ]
    },
    {
     "name": "stderr",
     "output_type": "stream",
     "text": [
      "\r",
      " 67%|██████████████████████████████████████████████████████████████                              | 51899/77002 [7:30:00<23:40, 17.67it/s]"
     ]
    },
    {
     "name": "stdout",
     "output_type": "stream",
     "text": [
      "Extra data: line 7 column 1 (char 978)\n"
     ]
    },
    {
     "name": "stderr",
     "output_type": "stream",
     "text": [
      " 67%|████████████████████████████████████████████████████████████▋                             | 51976/77002 [7:31:05<5:09:55,  1.35it/s]"
     ]
    },
    {
     "name": "stdout",
     "output_type": "stream",
     "text": [
      "Expecting ',' delimiter: line 9 column 269 (char 840)\n"
     ]
    },
    {
     "name": "stderr",
     "output_type": "stream",
     "text": [
      " 68%|████████████████████████████████████████████████████████████▊                             | 51984/77002 [7:31:08<3:32:33,  1.96it/s]"
     ]
    },
    {
     "name": "stdout",
     "output_type": "stream",
     "text": [
      "Extra data: line 18 column 1 (char 858)\n"
     ]
    },
    {
     "name": "stderr",
     "output_type": "stream",
     "text": [
      "\r",
      " 68%|████████████████████████████████████████████████████████████▊                             | 51986/77002 [7:31:08<2:27:16,  2.83it/s]"
     ]
    },
    {
     "name": "stdout",
     "output_type": "stream",
     "text": [
      "Extra data: line 18 column 1 (char 492)\n"
     ]
    },
    {
     "name": "stderr",
     "output_type": "stream",
     "text": [
      "\r",
      " 68%|████████████████████████████████████████████████████████████▊                             | 51988/77002 [7:31:08<1:48:55,  3.83it/s]"
     ]
    },
    {
     "name": "stdout",
     "output_type": "stream",
     "text": [
      "Extra data: line 18 column 1 (char 842)\n",
      "Extra data: line 18 column 1 (char 596)\n",
      "Extra data: line 18 column 1 (char 619)\n",
      "Extra data: line 18 column 1 (char 560)\n",
      "Extra data: line 18 column 1 (char 1033)\n",
      "Extra data: line 18 column 1 (char 740)\n",
      "Extra data: line 18 column 1 (char 815)\n",
      "Extra data: line 18 column 1 (char 833)\n",
      "Extra data: line 18 column 1 (char 662)\n",
      "Extra data: line 18 column 1 (char 963)\n",
      "Extra data: line 18 column 1 (char 1183)\n"
     ]
    },
    {
     "name": "stderr",
     "output_type": "stream",
     "text": [
      "\r",
      " 68%|██████████████████████████████████████████████████████████████▏                             | 52001/77002 [7:31:09<42:20,  9.84it/s]"
     ]
    },
    {
     "name": "stdout",
     "output_type": "stream",
     "text": [
      "Extra data: line 18 column 1 (char 657)\n"
     ]
    },
    {
     "name": "stderr",
     "output_type": "stream",
     "text": [
      " 68%|████████████████████████████████████████████████████████████▉                             | 52180/77002 [7:33:03<3:26:00,  2.01it/s]"
     ]
    },
    {
     "name": "stdout",
     "output_type": "stream",
     "text": [
      "Extra data: line 18 column 1 (char 820)\n",
      "Extra data: line 18 column 1 (char 797)\n",
      "Extra data: line 18 column 1 (char 987)\n",
      "Extra data: line 18 column 1 (char 1102)\n",
      "Extra data: line 18 column 1 (char 640)\n"
     ]
    },
    {
     "name": "stderr",
     "output_type": "stream",
     "text": [
      " 68%|████████████████████████████████████████████████████████████▉                             | 52188/77002 [7:33:04<1:16:14,  5.42it/s]"
     ]
    },
    {
     "name": "stdout",
     "output_type": "stream",
     "text": [
      "Extra data: line 18 column 1 (char 797)\n",
      "Extra data: line 18 column 1 (char 656)\n",
      "Extra data: line 18 column 1 (char 1083)\n"
     ]
    },
    {
     "name": "stderr",
     "output_type": "stream",
     "text": [
      "\r",
      " 68%|██████████████████████████████████████████████████████████████▎                             | 52192/77002 [7:33:04<58:50,  7.03it/s]"
     ]
    },
    {
     "name": "stdout",
     "output_type": "stream",
     "text": [
      "Extra data: line 18 column 1 (char 640)\n",
      "Extra data: line 18 column 1 (char 640)\n"
     ]
    },
    {
     "name": "stderr",
     "output_type": "stream",
     "text": [
      "\r",
      " 68%|██████████████████████████████████████████████████████████████▎                             | 52195/77002 [7:33:05<55:42,  7.42it/s]"
     ]
    },
    {
     "name": "stdout",
     "output_type": "stream",
     "text": [
      "Extra data: line 18 column 1 (char 912)\n",
      "Extra data: line 7 column 1 (char 1049)\n",
      "Extra data: line 7 column 1 (char 1049)\n",
      "Extra data: line 7 column 1 (char 978)\n"
     ]
    },
    {
     "name": "stderr",
     "output_type": "stream",
     "text": [
      " 68%|█████████████████████████████████████████████████████████████                             | 52297/77002 [7:34:10<4:03:59,  1.69it/s]"
     ]
    },
    {
     "name": "stdout",
     "output_type": "stream",
     "text": [
      "Extra data: line 18 column 1 (char 852)\n"
     ]
    },
    {
     "name": "stderr",
     "output_type": "stream",
     "text": [
      "\r",
      " 68%|█████████████████████████████████████████████████████████████▏                            | 52299/77002 [7:34:11<3:12:14,  2.14it/s]"
     ]
    },
    {
     "name": "stdout",
     "output_type": "stream",
     "text": [
      "Extra data: line 18 column 1 (char 1143)\n",
      "Extra data: line 18 column 1 (char 978)\n"
     ]
    },
    {
     "name": "stderr",
     "output_type": "stream",
     "text": [
      " 68%|█████████████████████████████████████████████████████████████▏                            | 52319/77002 [7:34:17<2:52:17,  2.39it/s]"
     ]
    },
    {
     "name": "stdout",
     "output_type": "stream",
     "text": [
      "Expecting ',' delimiter: line 13 column 77 (char 665)\n"
     ]
    },
    {
     "name": "stderr",
     "output_type": "stream",
     "text": [
      " 68%|█████████████████████████████████████████████████████████████▏                            | 52381/77002 [7:34:51<2:13:34,  3.07it/s]"
     ]
    },
    {
     "name": "stdout",
     "output_type": "stream",
     "text": [
      "Extra data: line 18 column 1 (char 826)\n",
      "Extra data: line 18 column 1 (char 571)\n"
     ]
    },
    {
     "name": "stderr",
     "output_type": "stream",
     "text": [
      " 68%|█████████████████████████████████████████████████████████████▏                            | 52387/77002 [7:34:52<1:05:32,  6.26it/s]"
     ]
    },
    {
     "name": "stdout",
     "output_type": "stream",
     "text": [
      "Extra data: line 18 column 1 (char 871)\n"
     ]
    },
    {
     "name": "stderr",
     "output_type": "stream",
     "text": [
      "\r",
      " 68%|█████████████████████████████████████████████████████████████▏                            | 52388/77002 [7:34:52<1:07:08,  6.11it/s]"
     ]
    },
    {
     "name": "stdout",
     "output_type": "stream",
     "text": [
      "Extra data: line 18 column 1 (char 649)\n",
      "Expecting ',' delimiter: line 9 column 125 (char 484)\n"
     ]
    },
    {
     "name": "stderr",
     "output_type": "stream",
     "text": [
      "\r",
      " 68%|██████████████████████████████████████████████████████████████▌                             | 52391/77002 [7:34:52<48:42,  8.42it/s]"
     ]
    },
    {
     "name": "stdout",
     "output_type": "stream",
     "text": [
      "Extra data: line 18 column 1 (char 1244)\n",
      "Extra data: line 18 column 1 (char 778)\n"
     ]
    },
    {
     "name": "stderr",
     "output_type": "stream",
     "text": [
      " 68%|██████████████████████████████████████████████████████████████▌                             | 52396/77002 [7:34:52<36:52, 11.12it/s]"
     ]
    },
    {
     "name": "stdout",
     "output_type": "stream",
     "text": [
      "Extra data: line 18 column 1 (char 757)\n",
      "Extra data: line 18 column 1 (char 757)\n",
      "Extra data: line 18 column 1 (char 757)\n"
     ]
    },
    {
     "name": "stderr",
     "output_type": "stream",
     "text": [
      " 68%|██████████████████████████████████████████████████████████████▌                             | 52401/77002 [7:34:53<30:43, 13.35it/s]"
     ]
    },
    {
     "name": "stdout",
     "output_type": "stream",
     "text": [
      "Extra data: line 18 column 1 (char 1312)\n"
     ]
    },
    {
     "name": "stderr",
     "output_type": "stream",
     "text": [
      " 68%|█████████████████████████████████████████████████████████████▎                            | 52499/77002 [7:35:33<2:14:29,  3.04it/s]"
     ]
    },
    {
     "name": "stdout",
     "output_type": "stream",
     "text": [
      "Extra data: line 18 column 1 (char 751)\n"
     ]
    },
    {
     "name": "stderr",
     "output_type": "stream",
     "text": [
      " 68%|█████████████████████████████████████████████████████████████▍                            | 52596/77002 [7:36:10<1:14:28,  5.46it/s]"
     ]
    },
    {
     "name": "stdout",
     "output_type": "stream",
     "text": [
      "Extra data: line 18 column 1 (char 1016)\n"
     ]
    },
    {
     "name": "stderr",
     "output_type": "stream",
     "text": [
      " 68%|█████████████████████████████████████████████████████████████▍                            | 52598/77002 [7:36:10<1:10:15,  5.79it/s]"
     ]
    },
    {
     "name": "stdout",
     "output_type": "stream",
     "text": [
      "Extra data: line 18 column 1 (char 1110)\n"
     ]
    },
    {
     "name": "stderr",
     "output_type": "stream",
     "text": [
      " 68%|█████████████████████████████████████████████████████████████▌                            | 52693/77002 [7:37:27<2:22:18,  2.85it/s]"
     ]
    },
    {
     "name": "stdout",
     "output_type": "stream",
     "text": [
      "Extra data: line 18 column 1 (char 649)\n",
      "Extra data: line 18 column 1 (char 724)\n",
      "Extra data: line 18 column 1 (char 864)\n",
      "Extra data: line 18 column 1 (char 893)\n",
      "Extra data: line 18 column 1 (char 963)\n"
     ]
    },
    {
     "name": "stderr",
     "output_type": "stream",
     "text": [
      "\r",
      " 68%|█████████████████████████████████████████████████████████████▌                            | 52696/77002 [7:37:29<2:53:33,  2.33it/s]"
     ]
    },
    {
     "name": "stdout",
     "output_type": "stream",
     "text": [
      "Extra data: line 18 column 1 (char 1612)\n"
     ]
    },
    {
     "name": "stderr",
     "output_type": "stream",
     "text": [
      "\r",
      " 68%|█████████████████████████████████████████████████████████████▌                            | 52698/77002 [7:37:30<3:13:07,  2.10it/s]"
     ]
    },
    {
     "name": "stdout",
     "output_type": "stream",
     "text": [
      "Extra data: line 18 column 1 (char 1094)\n",
      "Extra data: line 18 column 1 (char 940)\n",
      "Extra data: line 18 column 1 (char 730)\n"
     ]
    },
    {
     "name": "stderr",
     "output_type": "stream",
     "text": [
      " 69%|█████████████████████████████████████████████████████████████▋                            | 52798/77002 [7:38:25<3:43:45,  1.80it/s]"
     ]
    },
    {
     "name": "stdout",
     "output_type": "stream",
     "text": [
      "Extra data: line 18 column 1 (char 1085)\n"
     ]
    },
    {
     "name": "stderr",
     "output_type": "stream",
     "text": [
      "\r",
      " 69%|█████████████████████████████████████████████████████████████▋                            | 52801/77002 [7:38:26<2:23:45,  2.81it/s]"
     ]
    },
    {
     "name": "stdout",
     "output_type": "stream",
     "text": [
      "Extra data: line 18 column 1 (char 981)\n"
     ]
    },
    {
     "name": "stderr",
     "output_type": "stream",
     "text": [
      " 69%|█████████████████████████████████████████████████████████████▊                            | 52893/77002 [7:39:20<1:31:10,  4.41it/s]"
     ]
    },
    {
     "name": "stdout",
     "output_type": "stream",
     "text": [
      "Extra data: line 18 column 1 (char 857)\n",
      "Extra data: line 18 column 1 (char 853)\n"
     ]
    },
    {
     "name": "stderr",
     "output_type": "stream",
     "text": [
      "\r",
      " 69%|█████████████████████████████████████████████████████████████▊                            | 52896/77002 [7:39:20<1:01:49,  6.50it/s]"
     ]
    },
    {
     "name": "stdout",
     "output_type": "stream",
     "text": [
      "Extra data: line 18 column 1 (char 981)\n",
      "Extra data: line 18 column 1 (char 853)\n"
     ]
    },
    {
     "name": "stderr",
     "output_type": "stream",
     "text": [
      " 69%|█████████████████████████████████████████████████████████████▉                            | 52968/77002 [7:40:01<2:32:03,  2.63it/s]"
     ]
    },
    {
     "name": "stdout",
     "output_type": "stream",
     "text": [
      "Extra data: line 18 column 1 (char 567)\n",
      "Extra data: line 18 column 1 (char 588)\n",
      "Extra data: line 18 column 1 (char 652)\n"
     ]
    },
    {
     "name": "stderr",
     "output_type": "stream",
     "text": [
      " 69%|█████████████████████████████████████████████████████████████▉                            | 52977/77002 [7:40:05<3:01:23,  2.21it/s]"
     ]
    },
    {
     "name": "stdout",
     "output_type": "stream",
     "text": [
      "Extra data: line 18 column 1 (char 794)\n"
     ]
    },
    {
     "name": "stderr",
     "output_type": "stream",
     "text": [
      "\r",
      " 69%|█████████████████████████████████████████████████████████████▉                            | 52979/77002 [7:40:05<2:15:38,  2.95it/s]"
     ]
    },
    {
     "name": "stdout",
     "output_type": "stream",
     "text": [
      "Extra data: line 18 column 1 (char 610)\n",
      "Extra data: line 3 column 1 (char 565)\n",
      "Extra data: line 18 column 1 (char 684)\n",
      "Extra data: line 18 column 1 (char 726)\n",
      "Extra data: line 18 column 1 (char 746)\n",
      "Extra data: line 18 column 1 (char 713)\n",
      "Extra data: line 18 column 1 (char 710)\n",
      "Extra data: line 18 column 1 (char 788)\n",
      "Extra data: line 18 column 1 (char 717)\n"
     ]
    },
    {
     "name": "stderr",
     "output_type": "stream",
     "text": [
      " 69%|█████████████████████████████████████████████████████████████▉                            | 52990/77002 [7:40:07<1:34:02,  4.26it/s]"
     ]
    },
    {
     "name": "stdout",
     "output_type": "stream",
     "text": [
      "Extra data: line 18 column 1 (char 533)\n",
      "Extra data: line 18 column 1 (char 823)\n",
      "Extra data: line 18 column 1 (char 798)\n",
      "Extra data: line 18 column 1 (char 883)\n",
      "Extra data: line 18 column 1 (char 669)\n",
      "Extra data: line 18 column 1 (char 884)\n",
      "Extra data: line 18 column 1 (char 930)\n",
      "Extra data: line 18 column 1 (char 1130)\n",
      "Extra data: line 18 column 1 (char 1393)\n",
      "Extra data: line 18 column 1 (char 1135)\n",
      "Extra data: line 18 column 1 (char 627)\n",
      "Extra data: line 18 column 1 (char 637)\n"
     ]
    },
    {
     "name": "stderr",
     "output_type": "stream",
     "text": [
      " 69%|██████████████████████████████████████████████████████████████                            | 53083/77002 [7:40:56<3:03:01,  2.18it/s]"
     ]
    },
    {
     "name": "stdout",
     "output_type": "stream",
     "text": [
      "Extra data: line 18 column 1 (char 636)\n"
     ]
    },
    {
     "name": "stderr",
     "output_type": "stream",
     "text": [
      " 69%|██████████████████████████████████████████████████████████████                            | 53087/77002 [7:40:59<4:27:22,  1.49it/s]"
     ]
    },
    {
     "name": "stdout",
     "output_type": "stream",
     "text": [
      "Extra data: line 18 column 1 (char 648)\n",
      "Extra data: line 18 column 1 (char 748)\n",
      "Extra data: line 18 column 1 (char 729)\n",
      "Extra data: line 18 column 1 (char 742)\n",
      "Extra data: line 18 column 1 (char 717)\n",
      "Extra data: line 18 column 1 (char 617)\n",
      "Extra data: line 18 column 1 (char 868)\n"
     ]
    },
    {
     "name": "stderr",
     "output_type": "stream",
     "text": [
      " 69%|██████████████████████████████████████████████████████████████                            | 53097/77002 [7:41:00<1:19:21,  5.02it/s]"
     ]
    },
    {
     "name": "stdout",
     "output_type": "stream",
     "text": [
      "Extra data: line 18 column 1 (char 892)\n",
      "Extra data: line 18 column 1 (char 1054)\n",
      "Extra data: line 18 column 1 (char 541)\n"
     ]
    },
    {
     "name": "stderr",
     "output_type": "stream",
     "text": [
      " 69%|███████████████████████████████████████████████████████████████▍                            | 53103/77002 [7:41:01<55:59,  7.11it/s]"
     ]
    },
    {
     "name": "stdout",
     "output_type": "stream",
     "text": [
      "Extra data: line 18 column 1 (char 1244)\n",
      "Extra data: line 18 column 1 (char 936)\n"
     ]
    },
    {
     "name": "stderr",
     "output_type": "stream",
     "text": [
      " 69%|██████████████████████████████████████████████████████████████▏                           | 53181/77002 [7:41:42<2:47:09,  2.38it/s]"
     ]
    },
    {
     "name": "stdout",
     "output_type": "stream",
     "text": [
      "Extra data: line 18 column 1 (char 797)\n",
      "Extra data: line 18 column 1 (char 987)\n",
      "Extra data: line 18 column 1 (char 1010)\n",
      "Extra data: line 18 column 1 (char 1102)\n",
      "Extra data: line 18 column 1 (char 902)\n",
      "Extra data: line 18 column 1 (char 1102)\n",
      "Extra data: line 18 column 1 (char 1155)\n",
      "Extra data: line 18 column 1 (char 757)\n",
      "Extra data: line 18 column 1 (char 757)\n",
      "Extra data: line 7 column 1 (char 859)\n",
      "Extra data: line 18 column 1 (char 660)\n",
      "Extra data: line 18 column 1 (char 811)\n",
      "Extra data: line 18 column 1 (char 912)\n",
      "Extra data: line 7 column 1 (char 873)\n",
      "Extra data: line 18 column 1 (char 912)\n",
      "Extra data: line 18 column 1 (char 677)\n",
      "Extra data: line 7 column 1 (char 1018)\n",
      "Extra data: line 7 column 1 (char 1024)\n",
      "Extra data: line 18 column 1 (char 957)\n",
      "Extra data: line 7 column 1 (char 1049)\n",
      "Extra data: line 7 column 1 (char 1018)\n"
     ]
    },
    {
     "name": "stderr",
     "output_type": "stream",
     "text": [
      " 69%|██████████████████████████████████████████████████████████████▎                           | 53290/77002 [7:42:32<3:37:10,  1.82it/s]"
     ]
    },
    {
     "name": "stdout",
     "output_type": "stream",
     "text": [
      "Extra data: line 18 column 1 (char 635)\n"
     ]
    },
    {
     "name": "stderr",
     "output_type": "stream",
     "text": [
      " 69%|██████████████████████████████████████████████████████████████▎                           | 53293/77002 [7:42:33<3:16:58,  2.01it/s]"
     ]
    },
    {
     "name": "stdout",
     "output_type": "stream",
     "text": [
      "Extra data: line 18 column 1 (char 734)\n"
     ]
    },
    {
     "name": "stderr",
     "output_type": "stream",
     "text": [
      "\r",
      " 69%|██████████████████████████████████████████████████████████████▎                           | 53295/77002 [7:42:34<2:55:23,  2.25it/s]"
     ]
    },
    {
     "name": "stdout",
     "output_type": "stream",
     "text": [
      "Extra data: line 18 column 1 (char 550)\n",
      "Extra data: line 18 column 1 (char 586)\n",
      "Extra data: line 18 column 1 (char 661)\n",
      "Extra data: line 18 column 1 (char 537)\n",
      "Extra data: line 18 column 1 (char 639)\n",
      "Extra data: line 18 column 1 (char 991)\n",
      "Extra data: line 18 column 1 (char 659)\n"
     ]
    },
    {
     "name": "stderr",
     "output_type": "stream",
     "text": [
      " 69%|██████████████████████████████████████████████████████████████▎                           | 53343/77002 [7:42:46<1:37:00,  4.06it/s]"
     ]
    },
    {
     "name": "stdout",
     "output_type": "stream",
     "text": [
      "Expecting property name enclosed in double quotes: line 10 column 5 (char 673)\n"
     ]
    },
    {
     "name": "stderr",
     "output_type": "stream",
     "text": [
      " 69%|██████████████████████████████████████████████████████████████▍                           | 53369/77002 [7:42:59<6:32:12,  1.00it/s]"
     ]
    },
    {
     "name": "stdout",
     "output_type": "stream",
     "text": [
      "Extra data: line 7 column 1 (char 725)\n"
     ]
    },
    {
     "name": "stderr",
     "output_type": "stream",
     "text": [
      "\r",
      " 69%|██████████████████████████████████████████████████████████████▍                           | 53371/77002 [7:42:59<4:08:45,  1.58it/s]"
     ]
    },
    {
     "name": "stdout",
     "output_type": "stream",
     "text": [
      "Extra data: line 18 column 1 (char 638)\n"
     ]
    },
    {
     "name": "stderr",
     "output_type": "stream",
     "text": [
      "\r",
      " 69%|██████████████████████████████████████████████████████████████▍                           | 53374/77002 [7:43:00<3:18:35,  1.98it/s]"
     ]
    },
    {
     "name": "stdout",
     "output_type": "stream",
     "text": [
      "Extra data: line 18 column 1 (char 743)\n",
      "Extra data: line 7 column 1 (char 388)\n",
      "Extra data: line 18 column 1 (char 743)\n",
      "Extra data: line 18 column 1 (char 743)\n",
      "Extra data: line 18 column 1 (char 899)\n",
      "Extra data: line 18 column 1 (char 743)\n"
     ]
    },
    {
     "name": "stderr",
     "output_type": "stream",
     "text": [
      " 69%|██████████████████████████████████████████████████████████████▍                           | 53383/77002 [7:43:01<1:20:33,  4.89it/s]"
     ]
    },
    {
     "name": "stdout",
     "output_type": "stream",
     "text": [
      "Extra data: line 18 column 1 (char 619)\n",
      "Extra data: line 18 column 1 (char 1155)\n"
     ]
    },
    {
     "name": "stderr",
     "output_type": "stream",
     "text": [
      "\r",
      " 69%|██████████████████████████████████████████████████████████████▍                           | 53386/77002 [7:43:02<1:16:48,  5.12it/s]"
     ]
    },
    {
     "name": "stdout",
     "output_type": "stream",
     "text": [
      "Extra data: line 18 column 1 (char 704)\n",
      "Extra data: line 18 column 1 (char 743)\n",
      "Extra data: line 18 column 1 (char 642)\n",
      "Extra data: line 18 column 1 (char 695)\n",
      "Extra data: line 18 column 1 (char 635)\n",
      "Extra data: line 18 column 1 (char 753)\n",
      "Extra data: line 18 column 1 (char 923)\n",
      "Extra data: line 18 column 1 (char 842)\n",
      "Extra data: line 18 column 1 (char 560)\n",
      "Extra data: line 18 column 1 (char 1111)\n",
      "Extra data: line 18 column 1 (char 865)\n"
     ]
    },
    {
     "name": "stderr",
     "output_type": "stream",
     "text": [
      "\r",
      " 69%|███████████████████████████████████████████████████████████████▊                            | 53398/77002 [7:43:02<37:40, 10.44it/s]"
     ]
    },
    {
     "name": "stdout",
     "output_type": "stream",
     "text": [
      "Extra data: line 18 column 1 (char 1084)\n",
      "Extra data: line 18 column 1 (char 1518)\n",
      "Extra data: line 18 column 1 (char 836)\n",
      "Extra data: line 18 column 1 (char 1033)\n"
     ]
    },
    {
     "name": "stderr",
     "output_type": "stream",
     "text": [
      " 69%|██████████████████████████████████████████████████████████████▌                           | 53475/77002 [7:43:42<1:32:11,  4.25it/s]"
     ]
    },
    {
     "name": "stdout",
     "output_type": "stream",
     "text": [
      "Extra data: line 18 column 1 (char 589)\n",
      "Extra data: line 18 column 1 (char 703)\n"
     ]
    },
    {
     "name": "stderr",
     "output_type": "stream",
     "text": [
      " 69%|██████████████████████████████████████████████████████████████▌                           | 53484/77002 [7:43:48<3:17:34,  1.98it/s]"
     ]
    },
    {
     "name": "stdout",
     "output_type": "stream",
     "text": [
      "Extra data: line 18 column 1 (char 614)\n"
     ]
    },
    {
     "name": "stderr",
     "output_type": "stream",
     "text": [
      " 69%|██████████████████████████████████████████████████████████████▌                           | 53487/77002 [7:43:48<2:15:45,  2.89it/s]"
     ]
    },
    {
     "name": "stdout",
     "output_type": "stream",
     "text": [
      "Extra data: line 18 column 1 (char 607)\n",
      "Extra data: line 18 column 1 (char 989)\n",
      "Extra data: line 18 column 1 (char 630)\n",
      "Extra data: line 18 column 1 (char 975)\n"
     ]
    },
    {
     "name": "stderr",
     "output_type": "stream",
     "text": [
      "\r",
      " 69%|██████████████████████████████████████████████████████████████▌                           | 53492/77002 [7:43:49<1:05:37,  5.97it/s]"
     ]
    },
    {
     "name": "stdout",
     "output_type": "stream",
     "text": [
      "Extra data: line 18 column 1 (char 685)\n",
      "Extra data: line 18 column 1 (char 666)\n",
      "Extra data: line 18 column 1 (char 654)\n",
      "Extra data: line 18 column 1 (char 841)\n",
      "Extra data: line 18 column 1 (char 760)\n",
      "Extra data: line 18 column 1 (char 696)\n",
      "Extra data: line 18 column 1 (char 694)\n",
      "Extra data: line 18 column 1 (char 631)\n",
      "Extra data: line 18 column 1 (char 1467)\n",
      "Extra data: line 18 column 1 (char 926)\n"
     ]
    },
    {
     "name": "stderr",
     "output_type": "stream",
     "text": [
      " 70%|██████████████████████████████████████████████████████████████▋                           | 53594/77002 [7:44:36<4:59:51,  1.30it/s]"
     ]
    },
    {
     "name": "stdout",
     "output_type": "stream",
     "text": [
      "Extra data: line 18 column 1 (char 727)\n",
      "Extra data: line 18 column 1 (char 629)\n",
      "Extra data: line 18 column 1 (char 588)\n",
      "Extra data: line 18 column 1 (char 676)\n",
      "Extra data: line 18 column 1 (char 676)\n",
      "Extra data: line 18 column 1 (char 737)\n"
     ]
    },
    {
     "name": "stderr",
     "output_type": "stream",
     "text": [
      " 70%|██████████████████████████████████████████████████████████████▊                           | 53703/77002 [7:45:27<1:03:01,  6.16it/s]"
     ]
    },
    {
     "name": "stdout",
     "output_type": "stream",
     "text": [
      "Extra data: line 18 column 1 (char 697)\n",
      "Extra data: line 18 column 1 (char 734)\n"
     ]
    },
    {
     "name": "stderr",
     "output_type": "stream",
     "text": [
      " 70%|██████████████████████████████████████████████████████████████▊                           | 53751/77002 [7:45:39<2:35:45,  2.49it/s]"
     ]
    },
    {
     "name": "stdout",
     "output_type": "stream",
     "text": [
      "Extra data: line 18 column 1 (char 1140)\n",
      "Extra data: line 18 column 1 (char 1254)\n",
      "Extra data: line 18 column 1 (char 1262)\n",
      "Extra data: line 18 column 1 (char 1259)\n",
      "Extra data: line 18 column 1 (char 1259)\n",
      "Extra data: line 18 column 1 (char 1254)\n"
     ]
    },
    {
     "name": "stderr",
     "output_type": "stream",
     "text": [
      " 70%|████████████████████████████████████████████████████████████████▏                           | 53770/77002 [7:45:40<28:59, 13.35it/s]"
     ]
    },
    {
     "name": "stdout",
     "output_type": "stream",
     "text": [
      "Extra data: line 18 column 1 (char 1254)\n",
      "Extra data: line 18 column 1 (char 1259)\n",
      "Extra data: line 18 column 1 (char 1254)\n",
      "Extra data: line 18 column 1 (char 1254)\n",
      "Extra data: line 18 column 1 (char 1262)\n",
      "Extra data: line 18 column 1 (char 1257)\n",
      "Extra data: line 18 column 1 (char 1254)\n",
      "Extra data: line 18 column 1 (char 1254)\n",
      "Extra data: line 18 column 1 (char 1262)\n",
      "Extra data: line 18 column 1 (char 1259)\n",
      "Extra data: line 18 column 1 (char 1137)\n",
      "Extra data: line 18 column 1 (char 1123)\n"
     ]
    },
    {
     "name": "stderr",
     "output_type": "stream",
     "text": [
      "\r",
      " 70%|████████████████████████████████████████████████████████████████▏                           | 53773/77002 [7:45:41<35:42, 10.84it/s]"
     ]
    },
    {
     "name": "stdout",
     "output_type": "stream",
     "text": [
      "Extra data: line 18 column 1 (char 1123)\n",
      "Extra data: line 18 column 1 (char 1123)\n",
      "Extra data: line 18 column 1 (char 1159)\n",
      "Extra data: line 18 column 1 (char 1132)\n",
      "Extra data: line 18 column 1 (char 1140)\n",
      "Extra data: line 18 column 1 (char 1123)\n"
     ]
    },
    {
     "name": "stderr",
     "output_type": "stream",
     "text": [
      " 70%|████████████████████████████████████████████████████████████████▎                           | 53785/77002 [7:45:41<26:06, 14.83it/s]"
     ]
    },
    {
     "name": "stdout",
     "output_type": "stream",
     "text": [
      "Extra data: line 18 column 1 (char 1123)\n",
      "Extra data: line 18 column 1 (char 1163)\n",
      "Extra data: line 18 column 1 (char 1208)\n",
      "Extra data: line 18 column 1 (char 1252)\n",
      "Extra data: line 18 column 1 (char 1208)\n",
      "Extra data: line 18 column 1 (char 1140)\n",
      "Extra data: line 18 column 1 (char 1140)\n",
      "Extra data: line 18 column 1 (char 1252)\n",
      "Extra data: line 18 column 1 (char 1257)\n",
      "Extra data: line 18 column 1 (char 1252)\n",
      "Extra data: line 18 column 1 (char 1170)\n",
      "Extra data: line 18 column 1 (char 1226)\n",
      "Extra data: line 18 column 1 (char 1252)\n",
      "Extra data: line 18 column 1 (char 1140)\n",
      "Extra data: line 18 column 1 (char 1140)\n",
      "Extra data: line 18 column 1 (char 1140)\n",
      "Extra data: line 18 column 1 (char 1140)\n",
      "Extra data: line 18 column 1 (char 1140)\n",
      "Extra data: line 18 column 1 (char 1140)\n",
      "Extra data: line 18 column 1 (char 1257)\n",
      "Extra data: line 18 column 1 (char 1208)\n",
      "Extra data: line 18 column 1 (char 1170)\n"
     ]
    },
    {
     "name": "stderr",
     "output_type": "stream",
     "text": [
      " 70%|██████████████████████████████████████████████████████████████▉                           | 53900/77002 [7:46:47<8:27:56,  1.32s/it]"
     ]
    },
    {
     "name": "stdout",
     "output_type": "stream",
     "text": [
      "Extra data: line 18 column 1 (char 813)\n"
     ]
    },
    {
     "name": "stderr",
     "output_type": "stream",
     "text": [
      " 70%|███████████████████████████████████████████████████████████████                           | 53956/77002 [7:47:26<4:02:50,  1.58it/s]IOPub message rate exceeded.\n",
      "The notebook server will temporarily stop sending output\n",
      "to the client in order to avoid crashing it.\n",
      "To change this limit, set the config variable\n",
      "`--NotebookApp.iopub_msg_rate_limit`.\n",
      "\n",
      "Current values:\n",
      "NotebookApp.iopub_msg_rate_limit=1000.0 (msgs/sec)\n",
      "NotebookApp.rate_limit_window=3.0 (secs)\n",
      "\n",
      " 99%|██████████████████████████████████████████████████████████████████████████████████████████ | 76185/77002 [10:43:31<02:57,  4.60it/s]"
     ]
    },
    {
     "name": "stdout",
     "output_type": "stream",
     "text": [
      "Expecting ',' delimiter: line 13 column 180 (char 1140)\n",
      "Extra data: line 18 column 1 (char 348)\n"
     ]
    },
    {
     "name": "stderr",
     "output_type": "stream",
     "text": [
      " 99%|██████████████████████████████████████████████████████████████████████████████████████████ | 76188/77002 [10:43:32<03:07,  4.34it/s]"
     ]
    },
    {
     "name": "stdout",
     "output_type": "stream",
     "text": [
      "Extra data: line 18 column 1 (char 396)\n"
     ]
    },
    {
     "name": "stderr",
     "output_type": "stream",
     "text": [
      " 99%|██████████████████████████████████████████████████████████████████████████████████████████ | 76192/77002 [10:43:32<03:30,  3.85it/s]"
     ]
    },
    {
     "name": "stdout",
     "output_type": "stream",
     "text": [
      "Extra data: line 18 column 1 (char 413)\n"
     ]
    },
    {
     "name": "stderr",
     "output_type": "stream",
     "text": [
      " 99%|██████████████████████████████████████████████████████████████████████████████████████████ | 76199/77002 [10:43:34<04:01,  3.32it/s]"
     ]
    },
    {
     "name": "stdout",
     "output_type": "stream",
     "text": [
      "Expecting ',' delimiter: line 5 column 560 (char 645)\n"
     ]
    },
    {
     "name": "stderr",
     "output_type": "stream",
     "text": [
      " 99%|██████████████████████████████████████████████████████████████████████████████████████████ | 76202/77002 [10:43:35<03:23,  3.94it/s]"
     ]
    },
    {
     "name": "stdout",
     "output_type": "stream",
     "text": [
      "'NoneType' object is not subscriptable\n",
      "'NoneType' object is not subscriptable\n",
      "'NoneType' object is not subscriptable\n",
      "'NoneType' object is not subscriptable\n",
      "'NoneType' object is not subscriptable\n",
      "'NoneType' object is not subscriptable\n",
      "'NoneType' object is not subscriptable\n",
      "'NoneType' object is not subscriptable\n",
      "'NoneType' object is not subscriptable\n",
      "'NoneType' object is not subscriptable\n",
      "'NoneType' object is not subscriptable\n",
      "'NoneType' object is not subscriptable\n",
      "'NoneType' object is not subscriptable\n",
      "'NoneType' object is not subscriptable\n",
      "'NoneType' object is not subscriptable\n",
      "'NoneType' object is not subscriptable\n",
      "'NoneType' object is not subscriptable\n",
      "'NoneType' object is not subscriptable\n",
      "'NoneType' object is not subscriptable\n",
      "'NoneType' object is not subscriptable\n",
      "'NoneType' object is not subscriptable\n",
      "'NoneType' object is not subscriptable\n",
      "'NoneType' object is not subscriptable\n",
      "'NoneType' object is not subscriptable\n",
      "'NoneType' object is not subscriptable\n",
      "'NoneType' object is not subscriptable\n",
      "'NoneType' object is not subscriptable\n",
      "'NoneType' object is not subscriptable\n",
      "'NoneType' object is not subscriptable\n",
      "'NoneType' object is not subscriptable\n",
      "'NoneType' object is not subscriptable\n",
      "'NoneType' object is not subscriptable\n",
      "'NoneType' object is not subscriptable\n",
      "'NoneType' object is not subscriptable\n",
      "'NoneType' object is not subscriptable\n",
      "'NoneType' object is not subscriptable\n",
      "'NoneType' object is not subscriptable\n",
      "'NoneType' object is not subscriptable\n",
      "'NoneType' object is not subscriptable\n",
      "'NoneType' object is not subscriptable\n",
      "'NoneType' object is not subscriptable\n",
      "'NoneType' object is not subscriptable\n",
      "'NoneType' object is not subscriptable\n",
      "'NoneType' object is not subscriptable\n"
     ]
    },
    {
     "name": "stderr",
     "output_type": "stream",
     "text": [
      " 99%|██████████████████████████████████████████████████████████████████████████████████████████▏| 76297/77002 [10:44:13<05:02,  2.33it/s]"
     ]
    },
    {
     "name": "stdout",
     "output_type": "stream",
     "text": [
      "Extra data: line 18 column 1 (char 1148)\n"
     ]
    },
    {
     "name": "stderr",
     "output_type": "stream",
     "text": [
      " 99%|██████████████████████████████████████████████████████████████████████████████████████████▏| 76301/77002 [10:44:14<03:23,  3.44it/s]"
     ]
    },
    {
     "name": "stdout",
     "output_type": "stream",
     "text": [
      "Extra data: line 18 column 1 (char 1542)\n"
     ]
    },
    {
     "name": "stderr",
     "output_type": "stream",
     "text": [
      " 99%|██████████████████████████████████████████████████████████████████████████████████████████▎| 76392/77002 [10:45:13<10:56,  1.08s/it]"
     ]
    },
    {
     "name": "stdout",
     "output_type": "stream",
     "text": [
      "Extra data: line 18 column 1 (char 501)\n"
     ]
    },
    {
     "name": "stderr",
     "output_type": "stream",
     "text": [
      " 99%|██████████████████████████████████████████████████████████████████████████████████████████▎| 76396/77002 [10:45:14<04:38,  2.18it/s]"
     ]
    },
    {
     "name": "stdout",
     "output_type": "stream",
     "text": [
      "Extra data: line 18 column 1 (char 951)\n"
     ]
    },
    {
     "name": "stderr",
     "output_type": "stream",
     "text": [
      " 99%|██████████████████████████████████████████████████████████████████████████████████████████▎| 76401/77002 [10:45:14<02:08,  4.67it/s]"
     ]
    },
    {
     "name": "stdout",
     "output_type": "stream",
     "text": [
      "Extra data: line 18 column 1 (char 816)\n",
      "Extra data: line 18 column 1 (char 1077)\n",
      "Extra data: line 18 column 1 (char 880)\n",
      "Extra data: line 18 column 1 (char 841)\n"
     ]
    },
    {
     "name": "stderr",
     "output_type": "stream",
     "text": [
      " 99%|██████████████████████████████████████████████████████████████████████████████████████████▎| 76469/77002 [10:45:46<01:18,  6.80it/s]"
     ]
    },
    {
     "name": "stdout",
     "output_type": "stream",
     "text": [
      "Extra data: line 18 column 1 (char 335)\n"
     ]
    },
    {
     "name": "stderr",
     "output_type": "stream",
     "text": [
      " 99%|██████████████████████████████████████████████████████████████████████████████████████████▍| 76491/77002 [10:45:59<11:24,  1.34s/it]"
     ]
    },
    {
     "name": "stdout",
     "output_type": "stream",
     "text": [
      "Extra data: line 18 column 1 (char 648)\n"
     ]
    },
    {
     "name": "stderr",
     "output_type": "stream",
     "text": [
      " 99%|██████████████████████████████████████████████████████████████████████████████████████████▍| 76494/77002 [10:46:00<06:18,  1.34it/s]"
     ]
    },
    {
     "name": "stdout",
     "output_type": "stream",
     "text": [
      "Extra data: line 18 column 1 (char 478)\n",
      "Extra data: line 18 column 1 (char 501)\n",
      "Extra data: line 18 column 1 (char 909)\n",
      "Extra data: line 18 column 1 (char 749)\n",
      "Extra data: line 18 column 1 (char 641)\n",
      "Extra data: line 18 column 1 (char 880)\n",
      "Extra data: line 18 column 1 (char 983)\n",
      "Extra data: line 18 column 1 (char 997)\n"
     ]
    },
    {
     "name": "stderr",
     "output_type": "stream",
     "text": [
      " 99%|██████████████████████████████████████████████████████████████████████████████████████████▌| 76598/77002 [10:46:29<00:58,  6.88it/s]"
     ]
    },
    {
     "name": "stdout",
     "output_type": "stream",
     "text": [
      "Extra data: line 18 column 1 (char 939)\n"
     ]
    },
    {
     "name": "stderr",
     "output_type": "stream",
     "text": [
      "100%|██████████████████████████████████████████████████████████████████████████████████████████▋| 76696/77002 [10:47:15<04:13,  1.21it/s]"
     ]
    },
    {
     "name": "stdout",
     "output_type": "stream",
     "text": [
      "Extra data: line 18 column 1 (char 1085)\n"
     ]
    },
    {
     "name": "stderr",
     "output_type": "stream",
     "text": [
      "100%|██████████████████████████████████████████████████████████████████████████████████████████▋| 76699/77002 [10:47:16<02:24,  2.10it/s]"
     ]
    },
    {
     "name": "stdout",
     "output_type": "stream",
     "text": [
      "Extra data: line 18 column 1 (char 1093)\n"
     ]
    },
    {
     "name": "stderr",
     "output_type": "stream",
     "text": [
      "100%|██████████████████████████████████████████████████████████████████████████████████████████▋| 76779/77002 [10:47:44<01:35,  2.34it/s]"
     ]
    },
    {
     "name": "stdout",
     "output_type": "stream",
     "text": [
      "Extra data: line 18 column 1 (char 555)\n"
     ]
    },
    {
     "name": "stderr",
     "output_type": "stream",
     "text": [
      "100%|██████████████████████████████████████████████████████████████████████████████████████████▋| 76786/77002 [10:47:46<00:51,  4.16it/s]"
     ]
    },
    {
     "name": "stdout",
     "output_type": "stream",
     "text": [
      "Extra data: line 18 column 1 (char 446)\n"
     ]
    },
    {
     "name": "stderr",
     "output_type": "stream",
     "text": [
      "100%|██████████████████████████████████████████████████████████████████████████████████████████▋| 76788/77002 [10:47:47<01:02,  3.43it/s]"
     ]
    },
    {
     "name": "stdout",
     "output_type": "stream",
     "text": [
      "Extra data: line 18 column 1 (char 731)\n",
      "Extra data: line 18 column 1 (char 794)\n",
      "Extra data: line 18 column 1 (char 593)\n",
      "Extra data: line 18 column 1 (char 601)\n",
      "Extra data: line 18 column 1 (char 697)\n"
     ]
    },
    {
     "name": "stderr",
     "output_type": "stream",
     "text": [
      "100%|██████████████████████████████████████████████████████████████████████████████████████████▊| 76799/77002 [10:47:47<00:21,  9.39it/s]"
     ]
    },
    {
     "name": "stdout",
     "output_type": "stream",
     "text": [
      "Extra data: line 18 column 1 (char 897)\n",
      "Extra data: line 18 column 1 (char 868)\n",
      "Extra data: line 18 column 1 (char 597)\n",
      "Extra data: line 18 column 1 (char 995)\n",
      "Extra data: line 18 column 1 (char 679)\n",
      "Extra data: line 18 column 1 (char 897)\n",
      "Extra data: line 18 column 1 (char 859)\n"
     ]
    },
    {
     "name": "stderr",
     "output_type": "stream",
     "text": [
      "100%|██████████████████████████████████████████████████████████████████████████████████████████▊| 76882/77002 [10:48:14<00:43,  2.74it/s]"
     ]
    },
    {
     "name": "stdout",
     "output_type": "stream",
     "text": [
      "Extra data: line 18 column 1 (char 768)\n"
     ]
    },
    {
     "name": "stderr",
     "output_type": "stream",
     "text": [
      "100%|██████████████████████████████████████████████████████████████████████████████████████████▊| 76895/77002 [10:48:15<00:11,  8.94it/s]"
     ]
    },
    {
     "name": "stdout",
     "output_type": "stream",
     "text": [
      "Extra data: line 18 column 1 (char 918)\n",
      "Extra data: line 18 column 1 (char 918)\n",
      "Extra data: line 18 column 1 (char 918)\n",
      "Extra data: line 18 column 1 (char 640)\n",
      "Extra data: line 18 column 1 (char 640)\n",
      "Extra data: line 18 column 1 (char 640)\n",
      "Extra data: line 18 column 1 (char 640)\n",
      "Extra data: line 18 column 1 (char 640)\n"
     ]
    },
    {
     "name": "stderr",
     "output_type": "stream",
     "text": [
      "\r",
      "100%|██████████████████████████████████████████████████████████████████████████████████████████▉| 76898/77002 [10:48:16<00:13,  7.76it/s]"
     ]
    },
    {
     "name": "stdout",
     "output_type": "stream",
     "text": [
      "Extra data: line 18 column 1 (char 640)\n"
     ]
    },
    {
     "name": "stderr",
     "output_type": "stream",
     "text": [
      "100%|██████████████████████████████████████████████████████████████████████████████████████████▉| 76902/77002 [10:48:16<00:11,  8.68it/s]"
     ]
    },
    {
     "name": "stdout",
     "output_type": "stream",
     "text": [
      "Extra data: line 18 column 1 (char 1238)\n"
     ]
    },
    {
     "name": "stderr",
     "output_type": "stream",
     "text": [
      "100%|██████████████████████████████████████████████████████████████████████████████████████████▉| 76996/77002 [10:49:10<00:01,  3.83it/s]"
     ]
    },
    {
     "name": "stdout",
     "output_type": "stream",
     "text": [
      "Extra data: line 18 column 1 (char 659)\n"
     ]
    },
    {
     "name": "stderr",
     "output_type": "stream",
     "text": [
      "100%|██████████████████████████████████████████████████████████████████████████████████████████▉| 77000/77002 [10:49:11<00:00,  4.64it/s]"
     ]
    },
    {
     "name": "stdout",
     "output_type": "stream",
     "text": [
      "Extra data: line 18 column 1 (char 853)\n",
      "Extra data: line 18 column 1 (char 947)\n"
     ]
    },
    {
     "name": "stderr",
     "output_type": "stream",
     "text": [
      "100%|███████████████████████████████████████████████████████████████████████████████████████████| 77002/77002 [10:49:11<00:00,  1.98it/s]\n"
     ]
    }
   ],
   "source": [
    "from tqdm import tqdm\n",
    "import random\n",
    "\n",
    "data_common_crawl = []\n",
    "for d in tqdm(common_crawl):\n",
    "    try:\n",
    "        t = d[0]\n",
    "        a = d[1]\n",
    "        j_a = json.loads(d[1])\n",
    "        q = t\n",
    "        \n",
    "        for r in j_a['soalan']:\n",
    "            if random.random() > 0.5:\n",
    "                g = generate_noisy(r['soalan'])\n",
    "                soalan = random.choice(g)\n",
    "            else:\n",
    "                soalan = r['soalan']\n",
    "                \n",
    "            if random.random() > 0.5:\n",
    "                soalan = soalan.lower()\n",
    "            \n",
    "            if random.random() > 0.7:\n",
    "                q_ = f\"paragraph `{q}`, berdasarkan paragraph, jawab soalan `{soalan}`\"\n",
    "            else:\n",
    "                q_ = f\"paragraph `{q}`, {soalan}\"\n",
    "                \n",
    "            data = {\n",
    "                'prompt_input': template_malaya[\"prompt_no_input\"],\n",
    "                'input': q_,\n",
    "                'output': r['jawapan']\n",
    "            }\n",
    "            data_common_crawl.append(data)\n",
    "        \n",
    "        k = '({\"soalan\": [{`soalan`, `jawapan`}]})'\n",
    "        p = f\"\"\"\n",
    "paragraph, `{t}`\n",
    "hasilkan 3 soalan dan jawapan khusus berdasarkan perenggan itu, kembalikan sebagai struktur JSON {k}\n",
    "        \"\"\"\n",
    "        data = {\n",
    "            'prompt_input': template_malaya[\"prompt_no_input\"],\n",
    "            'input': p,\n",
    "            'output': a\n",
    "        }\n",
    "        data_common_crawl.append(data)\n",
    "\n",
    "    except Exception as e:\n",
    "        print(e)\n",
    "        pass"
   ]
  },
  {
   "cell_type": "code",
   "execution_count": 14,
   "metadata": {},
   "outputs": [],
   "source": [
    "with open('prepared-common-crawl-qa.jsonl', 'w') as fopen:\n",
    "    for l in data_common_crawl:\n",
    "        fopen.write(f'{json.dumps(l)}\\n')"
   ]
  },
  {
   "cell_type": "code",
   "execution_count": null,
   "metadata": {},
   "outputs": [],
   "source": []
  }
 ],
 "metadata": {
  "kernelspec": {
   "display_name": "Python 3 (ipykernel)",
   "language": "python",
   "name": "python3"
  },
  "language_info": {
   "codemirror_mode": {
    "name": "ipython",
    "version": 3
   },
   "file_extension": ".py",
   "mimetype": "text/x-python",
   "name": "python",
   "nbconvert_exporter": "python",
   "pygments_lexer": "ipython3",
   "version": "3.8.10"
  }
 },
 "nbformat": 4,
 "nbformat_minor": 4
}
