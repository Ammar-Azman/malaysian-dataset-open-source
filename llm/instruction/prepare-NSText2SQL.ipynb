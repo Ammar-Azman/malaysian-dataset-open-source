{
 "cells": [
  {
   "cell_type": "code",
   "execution_count": 24,
   "metadata": {},
   "outputs": [
    {
     "data": {
      "text/plain": [
       "37982"
      ]
     },
     "execution_count": 24,
     "metadata": {},
     "output_type": "execute_result"
    }
   ],
   "source": [
    "import json\n",
    "from tqdm import tqdm\n",
    "import random\n",
    "\n",
    "data = []\n",
    "with open('/home/husein/ssd3/NSText2SQL/combine.jsonl') as fopen:\n",
    "    for l in fopen:\n",
    "        d = json.loads(l)\n",
    "        o = d['src']['output']\n",
    "        if random.random() > 0.4 and '--' in d['r']['result']:\n",
    "            q = d['r']['result'].split('--')[1]\n",
    "        else:\n",
    "            q = d['r']['result']\n",
    "        q = q.strip()\n",
    "        table = d['src']['table'].strip()\n",
    "        c = random.randint(0, 2)\n",
    "        if c == 0:\n",
    "            q = f'`{table}`, {q}'\n",
    "        if c == 1:\n",
    "            q = f'{q}, table `{table}`'\n",
    "        if c == 2:\n",
    "            q = f'table definition `{table}`, {q}'\n",
    "        \n",
    "        data.append({\n",
    "            'prompt_input': None,\n",
    "            'input': q,\n",
    "            'output': o,\n",
    "        })\n",
    "        \n",
    "len(data)"
   ]
  },
  {
   "cell_type": "code",
   "execution_count": 27,
   "metadata": {},
   "outputs": [],
   "source": [
    "import json\n",
    "\n",
    "with open('prepared-NSText2SQL.jsonl', 'w') as fopen:\n",
    "    for l in data:\n",
    "        fopen.write(f'{json.dumps(l)}\\n')"
   ]
  }
 ],
 "metadata": {
  "kernelspec": {
   "display_name": "Python 3 (ipykernel)",
   "language": "python",
   "name": "python3"
  },
  "language_info": {
   "codemirror_mode": {
    "name": "ipython",
    "version": 3
   },
   "file_extension": ".py",
   "mimetype": "text/x-python",
   "name": "python",
   "nbconvert_exporter": "python",
   "pygments_lexer": "ipython3",
   "version": "3.8.10"
  }
 },
 "nbformat": 4,
 "nbformat_minor": 4
}
