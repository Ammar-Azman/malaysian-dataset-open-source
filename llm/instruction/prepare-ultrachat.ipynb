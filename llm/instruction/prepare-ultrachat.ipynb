{
 "cells": [
  {
   "cell_type": "code",
   "execution_count": 3,
   "metadata": {},
   "outputs": [],
   "source": [
    "import os\n",
    "import json\n",
    "from glob import glob"
   ]
  },
  {
   "cell_type": "code",
   "execution_count": 2,
   "metadata": {},
   "outputs": [
    {
     "data": {
      "text/plain": [
       "['/home/husein/ssd3/ultrachat/part9-alternate_texts.jsonl',\n",
       " '/home/husein/ssd3/ultrachat/part0_texts.jsonl',\n",
       " '/home/husein/ssd3/ultrachat/part9_texts.jsonl',\n",
       " '/home/husein/ssd3/ultrachat/part1_texts.jsonl',\n",
       " '/home/husein/ssd3/ultrachat/part0-alternate_texts.jsonl',\n",
       " '/home/husein/ssd3/ultrachat/part1-alternate_texts.jsonl']"
      ]
     },
     "execution_count": 2,
     "metadata": {},
     "output_type": "execute_result"
    }
   ],
   "source": [
    "files = glob('/home/husein/ssd3/ultrachat/*_texts.jsonl')\n",
    "files"
   ]
  },
  {
   "cell_type": "code",
   "execution_count": 5,
   "metadata": {},
   "outputs": [
    {
     "data": {
      "text/plain": [
       "'part9-alternate_texts.jsonl'"
      ]
     },
     "execution_count": 5,
     "metadata": {},
     "output_type": "execute_result"
    }
   ],
   "source": [
    "os.path.split(files[0])[1]"
   ]
  },
  {
   "cell_type": "code",
   "execution_count": 6,
   "metadata": {},
   "outputs": [
    {
     "name": "stdout",
     "output_type": "stream",
     "text": [
      "/home/husein/ssd3/ultrachat/part9-alternate_texts.jsonl\n",
      "/home/husein/ssd3/ultrachat/part0_texts.jsonl\n",
      "/home/husein/ssd3/ultrachat/part9_texts.jsonl\n",
      "/home/husein/ssd3/ultrachat/part1_texts.jsonl\n",
      "/home/husein/ssd3/ultrachat/part0-alternate_texts.jsonl\n",
      "/home/husein/ssd3/ultrachat/part1-alternate_texts.jsonl\n"
     ]
    }
   ],
   "source": [
    "for f in files:\n",
    "    print(f)\n",
    "    filename = f'prepared-ultrachat-{os.path.split(f)[1]}'\n",
    "    data_instructions = []\n",
    "    with open(f) as fopen:\n",
    "        for l in fopen:\n",
    "            data = json.loads(l)\n",
    "\n",
    "            splitted = data.split('<manusia>:')\n",
    "            if '<bot>:' not in splitted[-1]:\n",
    "                print(data)\n",
    "\n",
    "            inputs, outputs = [], []\n",
    "            splitted = data.split('<bot>:')\n",
    "            for i in range(len(splitted) - 1):\n",
    "                if i == 0:\n",
    "                    human = splitted[i].replace('<manusia>:', '')\n",
    "                else:\n",
    "                    human = splitted[i].split('<manusia>:')[1]\n",
    "                bot = splitted[i + 1].split('<manusia>:')[0]\n",
    "                inputs.append(human)\n",
    "                outputs.append(bot)\n",
    "\n",
    "            a = {\n",
    "                'prompt_input': None,\n",
    "                'input': data,\n",
    "                'output': None\n",
    "            }\n",
    "            data_instructions.append(a)\n",
    "    \n",
    "    with open(filename, 'w') as fopen:\n",
    "        for l in data_instructions:\n",
    "            fopen.write(f'{json.dumps(l)}\\n')"
   ]
  }
 ],
 "metadata": {
  "kernelspec": {
   "display_name": "Python 3 (ipykernel)",
   "language": "python",
   "name": "python3"
  },
  "language_info": {
   "codemirror_mode": {
    "name": "ipython",
    "version": 3
   },
   "file_extension": ".py",
   "mimetype": "text/x-python",
   "name": "python",
   "nbconvert_exporter": "python",
   "pygments_lexer": "ipython3",
   "version": "3.8.10"
  }
 },
 "nbformat": 4,
 "nbformat_minor": 4
}
