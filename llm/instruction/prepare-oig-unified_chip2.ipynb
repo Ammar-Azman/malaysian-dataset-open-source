{
 "cells": [
  {
   "cell_type": "code",
   "execution_count": 2,
   "metadata": {},
   "outputs": [],
   "source": [
    "import json\n",
    "from tqdm import tqdm"
   ]
  },
  {
   "cell_type": "code",
   "execution_count": 3,
   "metadata": {},
   "outputs": [
    {
     "name": "stderr",
     "output_type": "stream",
     "text": [
      "210289it [00:01, 195481.66it/s]\n"
     ]
    }
   ],
   "source": [
    "data_instructions = []\n",
    "with open('/home/husein/ssd3/OIG/unified_chip2.translated.jsonl') as fopen:\n",
    "    for l in tqdm(fopen):\n",
    "        data = json.loads(l)\n",
    "        \n",
    "        try:\n",
    "            inputs, outputs = [], []\n",
    "            splitted = data['r']['result'].split('<bot>:')\n",
    "            for i in range(len(splitted) - 1):\n",
    "                if i == 0:\n",
    "                    human = splitted[i].replace('<manusia>:', '')\n",
    "                else:\n",
    "                    human = splitted[i].split('<manusia>:')[1]\n",
    "                bot = splitted[i + 1].split('<manusia>:')[0]\n",
    "                inputs.append(human)\n",
    "                outputs.append(bot)\n",
    "        except:\n",
    "            continue\n",
    "            \n",
    "        a = {\n",
    "            'prompt_input': None,\n",
    "            'input': data['r']['result'],\n",
    "            'output': None\n",
    "        }\n",
    "        data_instructions.append(a)"
   ]
  },
  {
   "cell_type": "code",
   "execution_count": 4,
   "metadata": {},
   "outputs": [],
   "source": [
    "import json\n",
    "\n",
    "with open('prepared-oig-unified_chip2.jsonl', 'w') as fopen:\n",
    "    for l in data_instructions:\n",
    "        fopen.write(f'{json.dumps(l)}\\n')"
   ]
  },
  {
   "cell_type": "code",
   "execution_count": 5,
   "metadata": {},
   "outputs": [
    {
     "name": "stdout",
     "output_type": "stream",
     "text": [
      "210289 prepared-oig-unified_chip2.jsonl\r\n"
     ]
    }
   ],
   "source": [
    "!wc -l prepared-oig-unified_chip2.jsonl"
   ]
  }
 ],
 "metadata": {
  "kernelspec": {
   "display_name": "Python 3 (ipykernel)",
   "language": "python",
   "name": "python3"
  },
  "language_info": {
   "codemirror_mode": {
    "name": "ipython",
    "version": 3
   },
   "file_extension": ".py",
   "mimetype": "text/x-python",
   "name": "python",
   "nbconvert_exporter": "python",
   "pygments_lexer": "ipython3",
   "version": "3.8.10"
  }
 },
 "nbformat": 4,
 "nbformat_minor": 4
}
