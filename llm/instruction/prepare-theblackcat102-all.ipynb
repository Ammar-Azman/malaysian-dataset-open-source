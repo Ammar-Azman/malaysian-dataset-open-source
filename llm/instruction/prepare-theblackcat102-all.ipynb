{
 "cells": [
  {
   "cell_type": "code",
   "execution_count": 14,
   "metadata": {},
   "outputs": [],
   "source": [
    "import json"
   ]
  },
  {
   "cell_type": "code",
   "execution_count": 15,
   "metadata": {},
   "outputs": [
    {
     "name": "stdout",
     "output_type": "stream",
     "text": [
      "\"<manusia>: A + B means A is the mother of B\\nA \\u2013 B means A is the brother B\\nA @ B means A is the father of B and\\nA \\u00d7 B means A is the sister of B,\\nWhich of the following shows that P is the maternal\\nuncle of Q?\\n(a) Q \\u2013 N + M \\u00d7 P (b) P + S \\u00d7 N \\u2013 Q\\n(c) P \\u2013 M + N \\u00d7 Q (d) Q \\u2013 S @ P\\n<bot>: Ungkapan yang menunjukkan P ialah bapa saudara seibu Q ialah (c) P \\u2013 M + N \\u00d7 Q.\\n\\nPenjelasan:\\n\\n* A - B bermaksud A ialah abang kepada B, jadi kalau kita ada P - M, bermakna P ialah abang kepada M (pakcik sebelah ibu).\\n* A + B bermaksud A ialah ibu kepada B, jadi jika kita mempunyai M \\u00d7 Q, bermakna M ialah kakak kepada Q (makcik).\\n* Akhir sekali, P - M + N \\u00d7 Q bermaksud P ialah abang kepada M (bapa saudara sebelah ibu) dan M ialah saudara perempuan kepada Q (makcik), jadi P ialah bapa saudara sebelah ibu kepada Q.\"\r\n"
     ]
    }
   ],
   "source": [
    "!head -n 1 /home/husein/ssd3/vicuna/theblackcat102-all_texts.jsonl"
   ]
  },
  {
   "cell_type": "code",
   "execution_count": 16,
   "metadata": {},
   "outputs": [
    {
     "name": "stdout",
     "output_type": "stream",
     "text": [
      "42124 /home/husein/ssd3/vicuna/theblackcat102-all_texts.jsonl\r\n"
     ]
    }
   ],
   "source": [
    "!wc -l /home/husein/ssd3/vicuna/theblackcat102-all_texts.jsonl"
   ]
  },
  {
   "cell_type": "code",
   "execution_count": 22,
   "metadata": {},
   "outputs": [],
   "source": [
    "data_instructions = []\n",
    "with open('/home/husein/ssd3/vicuna/theblackcat102-all_texts.jsonl') as fopen:\n",
    "    for l in fopen:\n",
    "        data = json.loads(l)\n",
    "        \n",
    "        splitted = data.split('<manusia>:')\n",
    "        if '<bot>:' not in splitted[-1]:\n",
    "            print(data)\n",
    "        \n",
    "        inputs, outputs = [], []\n",
    "        splitted = data.split('<bot>:')\n",
    "        for i in range(len(splitted) - 1):\n",
    "            if i == 0:\n",
    "                human = splitted[i].replace('<manusia>:', '')\n",
    "            else:\n",
    "                human = splitted[i].split('<manusia>:')[1]\n",
    "            bot = splitted[i + 1].split('<manusia>:')[0]\n",
    "            inputs.append(human)\n",
    "            outputs.append(bot)\n",
    "            \n",
    "        a = {\n",
    "            'prompt_input': None,\n",
    "            'input': data,\n",
    "            'output': None\n",
    "        }\n",
    "        data_instructions.append(a)"
   ]
  },
  {
   "cell_type": "code",
   "execution_count": 18,
   "metadata": {},
   "outputs": [
    {
     "data": {
      "text/plain": [
       "42124"
      ]
     },
     "execution_count": 18,
     "metadata": {},
     "output_type": "execute_result"
    }
   ],
   "source": [
    "len(data_instructions)"
   ]
  },
  {
   "cell_type": "code",
   "execution_count": 19,
   "metadata": {},
   "outputs": [],
   "source": [
    "import json\n",
    "\n",
    "with open('prepared-theblackcat102.jsonl', 'w') as fopen:\n",
    "    for l in data_instructions:\n",
    "        fopen.write(f'{json.dumps(l)}\\n')"
   ]
  },
  {
   "cell_type": "code",
   "execution_count": 20,
   "metadata": {},
   "outputs": [
    {
     "name": "stdout",
     "output_type": "stream",
     "text": [
      "42124 prepared-theblackcat102.jsonl\r\n"
     ]
    }
   ],
   "source": [
    "!wc -l prepared-theblackcat102.jsonl"
   ]
  },
  {
   "cell_type": "code",
   "execution_count": 21,
   "metadata": {},
   "outputs": [
    {
     "name": "stdout",
     "output_type": "stream",
     "text": [
      "{\"prompt_input\": null, \"input\": \"<manusia>: <div><p class=\\\"\\\">which sports boost dopamine receptors highest?</p></div>\\n<bot>: Dopamine ialah neurotransmitter yang dikeluarkan dalam otak sebagai tindak balas kepada pengalaman yang menggembirakan, seperti memenangi pertandingan atau mencapai matlamat. Sukar untuk mengatakan sukan mana yang paling banyak meningkatkan reseptor dopamin, kerana pembebasan dopamin boleh sangat berbeza dari orang ke orang dan dipengaruhi oleh banyak faktor. Walau bagaimanapun, secara amnya dipercayai bahawa pertandingan sengit dan berisiko tinggi, seperti permainan playoff dalam sukan popular seperti bola sepak atau bola keranjang, boleh membawa kepada pelepasan dopamin yang lebih tinggi dalam otak. Jangkaan dan keterujaan peristiwa sedemikian juga boleh menyebabkan tahap dopamin meningkat.\", \"output\": null}\r\n",
      "{\"prompt_input\": null, \"input\": \"<manusia>: <div><p class=\\\"\\\">apakah cara terbaik untuk mengendalikan seseorang yang menyanjung anda?</p></div>\\n<bot>: Cara terbaik untuk mengendalikan seseorang yang menyanjung anda adalah dengan hanya mengucapkan terima kasih kepada mereka untuk jenis mereka\\n\\n\\nkata-kata dan teruskan.\\n\\n\\nAdalah penting untuk tidak membiarkan sanjungan pergi ke kepala anda, seperti yang sering berlaku\\n\\n\\ntidak ikhlas dan boleh menyebabkan terlalu yakin.\\n\\n\\nIa juga merupakan idea yang baik untuk berhati-hati terhadap sesiapa sahaja yang terlalu menyanjung, kerana mereka mungkin mempunyai motif tersembunyi.\\n\\n\\nJika anda tidak selesa dengan\\n\\n\\ntahap sanjungan yang anda terima, anda boleh dengan sopan memberitahu orang itu bahawa anda menghargai kata-kata baik mereka tetapi anda lebih suka untuk tidak menerima begitu banyak sanjungan.\", \"output\": null}\r\n",
      "{\"prompt_input\": null, \"input\": \"<manusia>: <div><p class=\\\"\\\">Berikan penjelasan tentang cara cahaya diherotkan apabila ia menghampiri ufuk peristiwa lohong hitam, tetapi</p>\\n<p class=\\\"\\\">tulis setiap ayat dalam gaya pertuturan seorang perejam</p></div>\\n<bot>: Kawan, pernahkah anda terfikir tentang lubang hitam? Seperti, mereka adalah perkara gila di angkasa\\n\\n\\ndi mana cahaya tidak dapat melarikan diri. Ia seperti, apabila cahaya melintasi ufuk peristiwa, ia terperangkap\\n\\n\\nselamanya. Dan sebelum ia mencapai ufuk peristiwa, cahaya menjadi bengkok dan dipintal olehnya\\n\\n\\ngraviti lubang hitam. Ia seperti lubang hitam tersandung dan memadamkan cahaya. The\\n\\n\\nsemakin dekat cahaya ke ufuk peristiwa, semakin herot. Ia seperti melihat\\n\\n\\nalam semesta melalui kaleidoskop, kawan. Tetapi jangan risau, anda tidak perlu risau\\n\\n\\ntersedut ke dalam lubang hitam melainkan anda melakukan perjalanan pada, seperti, kelajuan cahaya atau\\n\\n\\nsesuatu. Bertenang dan nikmati kosmos, kawan.\", \"output\": null}\r\n"
     ]
    }
   ],
   "source": [
    "!tail -n 3 prepared-theblackcat102.jsonl"
   ]
  },
  {
   "cell_type": "code",
   "execution_count": null,
   "metadata": {},
   "outputs": [],
   "source": []
  }
 ],
 "metadata": {
  "kernelspec": {
   "display_name": "Python 3 (ipykernel)",
   "language": "python",
   "name": "python3"
  },
  "language_info": {
   "codemirror_mode": {
    "name": "ipython",
    "version": 3
   },
   "file_extension": ".py",
   "mimetype": "text/x-python",
   "name": "python",
   "nbconvert_exporter": "python",
   "pygments_lexer": "ipython3",
   "version": "3.8.10"
  }
 },
 "nbformat": 4,
 "nbformat_minor": 4
}
