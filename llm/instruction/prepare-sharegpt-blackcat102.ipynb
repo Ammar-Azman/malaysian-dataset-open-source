{
 "cells": [
  {
   "cell_type": "code",
   "execution_count": 1,
   "metadata": {},
   "outputs": [],
   "source": [
    "import json"
   ]
  },
  {
   "cell_type": "code",
   "execution_count": 2,
   "metadata": {},
   "outputs": [],
   "source": [
    "data_instructions = []\n",
    "with open('/home/husein/ssd3/vicuna/theblackcat102-all_texts.jsonl') as fopen:\n",
    "    for l in fopen:\n",
    "        data = json.loads(l)\n",
    "        \n",
    "        inputs, outputs = [], []\n",
    "        splitted = data.split('<bot>:')\n",
    "        for i in range(len(splitted) - 1):\n",
    "            if i == 0:\n",
    "                human = splitted[i].replace('<manusia>:', '')\n",
    "            else:\n",
    "                human = splitted[i].split('<manusia>:')[1]\n",
    "            bot = splitted[i + 1].split('<manusia>:')[0]\n",
    "            inputs.append(human)\n",
    "            outputs.append(bot)\n",
    "            \n",
    "        a = {\n",
    "            'prompt_input': None,\n",
    "            'input': data,\n",
    "            'output': None\n",
    "        }\n",
    "        data_instructions.append(a)"
   ]
  },
  {
   "cell_type": "code",
   "execution_count": 3,
   "metadata": {},
   "outputs": [
    {
     "data": {
      "text/plain": [
       "42130"
      ]
     },
     "execution_count": 3,
     "metadata": {},
     "output_type": "execute_result"
    }
   ],
   "source": [
    "len(data_instructions)"
   ]
  },
  {
   "cell_type": "code",
   "execution_count": 4,
   "metadata": {},
   "outputs": [],
   "source": [
    "import json\n",
    "\n",
    "with open('prepared-theblackcat102.jsonl', 'w') as fopen:\n",
    "    for l in data_instructions:\n",
    "        fopen.write(f'{json.dumps(l)}\\n')"
   ]
  },
  {
   "cell_type": "code",
   "execution_count": 5,
   "metadata": {},
   "outputs": [
    {
     "name": "stdout",
     "output_type": "stream",
     "text": [
      "42130 prepared-theblackcat102.jsonl\r\n"
     ]
    }
   ],
   "source": [
    "!wc -l prepared-theblackcat102.jsonl"
   ]
  },
  {
   "cell_type": "code",
   "execution_count": 6,
   "metadata": {},
   "outputs": [
    {
     "name": "stdout",
     "output_type": "stream",
     "text": [
      "{\"prompt_input\": null, \"input\": \"<manusia>: <div><p class=\\\"\\\">which sports boost dopamine receptors highest?</p></div>\\n<bot>: Dopamine ialah neurotransmitter yang dikeluarkan dalam otak sebagai tindak balas kepada pengalaman yang menggembirakan, seperti memenangi pertandingan atau mencapai matlamat. Sukar untuk mengatakan sukan mana yang paling banyak meningkatkan reseptor dopamin, kerana pembebasan dopamin boleh sangat berbeza dari orang ke orang dan dipengaruhi oleh banyak faktor. Walau bagaimanapun, secara amnya dipercayai bahawa pertandingan sengit dan berisiko tinggi, seperti permainan playoff dalam sukan popular seperti bola sepak atau bola keranjang, boleh membawa kepada pelepasan dopamin yang lebih tinggi dalam otak. Jangkaan dan keterujaan peristiwa sedemikian juga boleh menyebabkan tahap dopamin meningkat.\", \"output\": null}\r\n",
      "{\"prompt_input\": null, \"input\": \"<manusia>: <div><p class=\\\"\\\">what is the best way to handle somebody who's flattering you?</p></div>\\n<bot>: Cara terbaik untuk mengendalikan seseorang yang menyanjung anda adalah dengan hanya mengucapkan terima kasih kepada mereka untuk jenis mereka\\n\\n\\nkata-kata dan teruskan.\\n\\n\\nAdalah penting untuk tidak membiarkan sanjungan pergi ke kepala anda, seperti yang sering berlaku\\n\\n\\ntidak ikhlas dan boleh menyebabkan terlalu yakin.\\n\\n\\nIa juga merupakan idea yang baik untuk berhati-hati terhadap sesiapa sahaja yang terlalu menyanjung, kerana mereka mungkin mempunyai motif tersembunyi.\\n\\n\\nJika anda tidak selesa dengan\\n\\n\\ntahap sanjungan yang anda terima, anda boleh dengan sopan memberitahu orang itu bahawa anda menghargai kata-kata baik mereka tetapi anda lebih suka untuk tidak menerima begitu banyak sanjungan.\", \"output\": null}\r\n",
      "{\"prompt_input\": null, \"input\": \"<manusia>: <div><p class=\\\"\\\">Berikan penjelasan tentang cara cahaya diherotkan apabila ia menghampiri ufuk peristiwa lohong hitam, tetapi</p>\\n<p class=\\\"\\\">tulis setiap ayat dalam gaya pertuturan seorang perejam</p></div>\\n<bot>: Kawan, pernahkah anda terfikir tentang lubang hitam? Seperti, mereka adalah perkara gila di angkasa\\n\\n\\ndi mana cahaya tidak dapat melarikan diri. Ia seperti, apabila cahaya melintasi ufuk peristiwa, ia terperangkap\\n\\n\\nselamanya. Dan sebelum ia mencapai ufuk peristiwa, cahaya menjadi bengkok dan dipintal olehnya\\n\\n\\ngraviti lubang hitam. Ia seperti lubang hitam tersandung dan memadamkan cahaya. The\\n\\n\\nsemakin dekat cahaya ke ufuk peristiwa, semakin herot. Ia seperti melihat\\n\\n\\nalam semesta melalui kaleidoskop, kawan. Tetapi jangan risau, anda tidak perlu risau\\n\\n\\ntersedut ke dalam lubang hitam melainkan anda melakukan perjalanan pada, seperti, kelajuan cahaya atau\\n\\n\\nsesuatu. Bertenang dan nikmati kosmos, kawan.\", \"output\": null}\r\n"
     ]
    }
   ],
   "source": [
    "!tail -n 3 prepared-theblackcat102.jsonl"
   ]
  }
 ],
 "metadata": {
  "kernelspec": {
   "display_name": "Python 3 (ipykernel)",
   "language": "python",
   "name": "python3"
  },
  "language_info": {
   "codemirror_mode": {
    "name": "ipython",
    "version": 3
   },
   "file_extension": ".py",
   "mimetype": "text/x-python",
   "name": "python",
   "nbconvert_exporter": "python",
   "pygments_lexer": "ipython3",
   "version": "3.8.10"
  }
 },
 "nbformat": 4,
 "nbformat_minor": 4
}
