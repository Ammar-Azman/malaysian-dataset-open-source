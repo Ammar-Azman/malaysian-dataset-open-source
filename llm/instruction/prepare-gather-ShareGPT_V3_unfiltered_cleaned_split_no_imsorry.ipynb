{
 "cells": [
  {
   "cell_type": "code",
   "execution_count": 7,
   "metadata": {},
   "outputs": [],
   "source": [
    "import json"
   ]
  },
  {
   "cell_type": "code",
   "execution_count": 11,
   "metadata": {},
   "outputs": [],
   "source": [
    "data_instructions = []\n",
    "with open('/home/husein/ssd3/vicuna/gather-ShareGPT_V3_unfiltered_cleaned_split_no_imsorry_texts.jsonl') as fopen:\n",
    "    for l in fopen:\n",
    "        data = json.loads(l)\n",
    "        \n",
    "        splitted = data.split('<manusia>:')\n",
    "        if '<bot>:' not in splitted[-1]:\n",
    "            print(data)\n",
    "        \n",
    "        inputs, outputs = [], []\n",
    "        splitted = data.split('<bot>:')\n",
    "        for i in range(len(splitted) - 1):\n",
    "            if i == 0:\n",
    "                human = splitted[i].replace('<manusia>:', '')\n",
    "            else:\n",
    "                human = splitted[i].split('<manusia>:')[1]\n",
    "            bot = splitted[i + 1].split('<manusia>:')[0]\n",
    "            inputs.append(human)\n",
    "            outputs.append(bot)\n",
    "            \n",
    "        a = {\n",
    "            'prompt_input': None,\n",
    "            'input': data,\n",
    "            'output': None\n",
    "        }\n",
    "        data_instructions.append(a)"
   ]
  },
  {
   "cell_type": "code",
   "execution_count": 9,
   "metadata": {},
   "outputs": [
    {
     "data": {
      "text/plain": [
       "[' Ubat antiviral bukan sahaja digunakan untuk virus yang mengancam nyawa. Ia boleh digunakan untuk merawat pelbagai jangkitan virus, termasuk yang ringan dan teruk. Keputusan untuk menggunakan ubat antivirus biasanya bergantung pada virus tertentu, tahap keterukan jangkitan, dan kesihatan keseluruhan pesakit.\\n\\nSebagai contoh, ubat antivirus sering digunakan untuk merawat influenza (selesema), yang boleh menjadi penyakit yang serius dan bahkan boleh mengancam nyawa bagi orang tertentu, seperti orang dewasa yang lebih tua, kanak-kanak kecil dan orang yang mempunyai keadaan kesihatan tertentu. Ubat antiviral boleh membantu mengurangkan keterukan dan tempoh selesema, dan juga boleh membantu mencegah komplikasi serius, seperti radang paru-paru.\\n\\nDalam kes lain, ubat antiviral boleh digunakan untuk merawat jangkitan virus yang tidak semestinya mengancam nyawa, tetapi masih boleh menyebabkan ketidakselesaan yang ketara dan mengganggu aktiviti harian seseorang. Sebagai contoh, ubat antivirus boleh digunakan untuk merawat jangkitan virus herpes simplex (HSV), yang boleh menyebabkan kudis yang menyakitkan pada kulit atau membran mukus.\\n\\nSecara keseluruhan, keputusan untuk menggunakan ubat antivirus untuk merawat jangkitan virus bergantung pada pelbagai faktor, termasuk virus tertentu, keterukan jangkitan dan potensi risiko dan faedah rawatan.']"
      ]
     },
     "execution_count": 9,
     "metadata": {},
     "output_type": "execute_result"
    }
   ],
   "source": [
    "splitted[i + 1].split('<manusia>:')"
   ]
  },
  {
   "cell_type": "code",
   "execution_count": 10,
   "metadata": {},
   "outputs": [
    {
     "data": {
      "text/plain": [
       "46633"
      ]
     },
     "execution_count": 10,
     "metadata": {},
     "output_type": "execute_result"
    }
   ],
   "source": [
    "len(data_instructions)"
   ]
  },
  {
   "cell_type": "code",
   "execution_count": 5,
   "metadata": {},
   "outputs": [],
   "source": [
    "import json\n",
    "\n",
    "with open('prepared-vicuna.jsonl', 'w') as fopen:\n",
    "    for l in data_instructions:\n",
    "        fopen.write(f'{json.dumps(l)}\\n')"
   ]
  },
  {
   "cell_type": "code",
   "execution_count": 6,
   "metadata": {},
   "outputs": [
    {
     "name": "stdout",
     "output_type": "stream",
     "text": [
      "46633 prepared-vicuna.jsonl\r\n"
     ]
    }
   ],
   "source": [
    "!wc -l prepared-vicuna.jsonl"
   ]
  }
 ],
 "metadata": {
  "kernelspec": {
   "display_name": "Python 3 (ipykernel)",
   "language": "python",
   "name": "python3"
  },
  "language_info": {
   "codemirror_mode": {
    "name": "ipython",
    "version": 3
   },
   "file_extension": ".py",
   "mimetype": "text/x-python",
   "name": "python",
   "nbconvert_exporter": "python",
   "pygments_lexer": "ipython3",
   "version": "3.8.10"
  }
 },
 "nbformat": 4,
 "nbformat_minor": 4
}
