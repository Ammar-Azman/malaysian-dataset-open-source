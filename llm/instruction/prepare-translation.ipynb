{
 "cells": [
  {
   "cell_type": "code",
   "execution_count": 1,
   "metadata": {},
   "outputs": [
    {
     "data": {
      "text/plain": [
       "689"
      ]
     },
     "execution_count": 1,
     "metadata": {},
     "output_type": "execute_result"
    }
   ],
   "source": [
    "import json\n",
    "from glob import glob\n",
    "\n",
    "files = glob('/home/husein/iium-confession/clean-iium*.splitted_*.json')\n",
    "files.extend(glob('/home/husein/dev/malaya/misc/normalize-twitter/*.normalized.jsonl_*.json'))\n",
    "files.extend(glob('/home/husein/facebook/facebook-data.jsonl0*.splitted_*.json'))\n",
    "len(files)"
   ]
  },
  {
   "cell_type": "code",
   "execution_count": 2,
   "metadata": {},
   "outputs": [],
   "source": [
    "lang = ['english', 'malay']\n",
    "end = 'kembalikan struktur JSON ({\"english\", \"malay\"})'"
   ]
  },
  {
   "cell_type": "code",
   "execution_count": 7,
   "metadata": {},
   "outputs": [],
   "source": [
    "template_malaya = {\n",
    "    'description': 'Template used by Malaya.',\n",
    "    'prompt_input': 'Di bawah ialah arahan yang menerangkan tugasan, termasuk dengan input yang menyediakan konteks lanjut. Tulis jawapan yang sesuai dengan arahan tersebut.\\n\\n### Arahan:\\n{instruction}\\n\\n### Input:\\n{input}\\n\\n### Jawapan:\\n',\n",
    "    'prompt_no_input': 'Di bawah ialah arahan yang menerangkan tugasan. Tulis jawapan yang sesuai dengan arahan tersebut.\\n\\n### Arahan:\\n{instruction}\\n\\n### Jawapan:\\n',\n",
    "    'response_split': '### Jawapan:',\n",
    "}"
   ]
  },
  {
   "cell_type": "code",
   "execution_count": 12,
   "metadata": {},
   "outputs": [
    {
     "name": "stderr",
     "output_type": "stream",
     "text": [
      "100%|████████████████████████████████████████| 689/689 [00:02<00:00, 303.44it/s]\n"
     ]
    }
   ],
   "source": [
    "import random\n",
    "from tqdm import tqdm\n",
    "\n",
    "data_translation = []\n",
    "\n",
    "for f in tqdm(files):\n",
    "    with open(f) as fopen:\n",
    "        data = json.load(fopen)\n",
    "    \n",
    "    for d in data:\n",
    "        try:\n",
    "            t = d[0]\n",
    "            a = d[1]\n",
    "            j_a = json.loads(d[1])\n",
    "            \n",
    "            if random.random() > 0.5:\n",
    "                l = random.choice(lang)\n",
    "                q = f'terjemah `{t}` ke {l}'\n",
    "                a = j_a[l]\n",
    "            \n",
    "            else:\n",
    "                q = f\"text, `{t}`, terjemah teks ke standard english dan standard malay, {end}\"\n",
    "                a = a\n",
    "            \n",
    "            a = {\n",
    "                'prompt_input': template_malaya[\"prompt_no_input\"],\n",
    "                'input': q,\n",
    "                'output': a\n",
    "            }\n",
    "            data_translation.append(a)\n",
    "            \n",
    "        except Exception as e:\n",
    "            pass\n",
    "        "
   ]
  },
  {
   "cell_type": "code",
   "execution_count": 13,
   "metadata": {},
   "outputs": [
    {
     "data": {
      "text/plain": [
       "675371"
      ]
     },
     "execution_count": 13,
     "metadata": {},
     "output_type": "execute_result"
    }
   ],
   "source": [
    "len(data_translation)"
   ]
  },
  {
   "cell_type": "code",
   "execution_count": 16,
   "metadata": {},
   "outputs": [
    {
     "data": {
      "text/plain": [
       "[{'prompt_input': 'Di bawah ialah arahan yang menerangkan tugasan. Tulis jawapan yang sesuai dengan arahan tersebut.\\n\\n### Arahan:\\n{instruction}\\n\\n### Jawapan:\\n',\n",
       "  'input': 'text, `Kami duduk berasingan dan hanya kadang kadang saya akan bermalam di rumah keluarganya. Kami akan gunakan segala kesempatan yang ada untuk melakukan perkara itu.`, terjemah teks ke standard english dan standard malay, kembalikan struktur JSON ({\"english\", \"malay\"})',\n",
       "  'output': '{\\n    \"english\": \"We sat separately and I would only occasionally stay overnight at her family\\'s house. We would take every opportunity to do it.\",\\n    \"malay\": \"Kami duduk berasingan dan saya hanya kadang-kadang menginap di rumah keluarganya. Kami akan mengambil setiap peluang untuk melakukannya.\"\\n}'},\n",
       " {'prompt_input': 'Di bawah ialah arahan yang menerangkan tugasan. Tulis jawapan yang sesuai dengan arahan tersebut.\\n\\n### Arahan:\\n{instruction}\\n\\n### Jawapan:\\n',\n",
       "  'input': 'text, `Oh ya, memandangkan ini confession jujur. Kami dah terlanjur sehingga hampir ke tahun yang ke 4. Seperti yang saya katakan, kami mencintai antara satu sama lain pada ketika itu.`, terjemah teks ke standard english dan standard malay, kembalikan struktur JSON ({\"english\", \"malay\"})',\n",
       "  'output': '{\\n  \"english\": \"Oh yes, since this is an honest confession. We have been together for almost 4 years. As I mentioned, we loved each other at that time.\",\\n  \"malay\": \"Oh ya, kerana ini pengakuan yang jujur. Kami telah bersama selama hampir 4 tahun. Seperti yang saya sebutkan, kami saling mencintai pada masa itu.\"\\n}'},\n",
       " {'prompt_input': 'Di bawah ialah arahan yang menerangkan tugasan. Tulis jawapan yang sesuai dengan arahan tersebut.\\n\\n### Arahan:\\n{instruction}\\n\\n### Jawapan:\\n',\n",
       "  'input': 'terjemah `Perkara ini berlarutan sehingga saya sedar. Kami tiada lagi memberi respon pada setiap permasalahan yang kami hadapi. Kami sekarang lebih kepada hidup yang lebih banyak berdiam daripada meluah.` ke malay',\n",
       "  'output': 'Majlis ini berterusan sehingga saya sedar bahawa kami tidak lagi memberi respons kepada setiap masalah yang kami hadapi. Kami sekarang lebih cenderung untuk hidup dalam keheningan daripada meluahkan diri.'}]"
      ]
     },
     "execution_count": 16,
     "metadata": {},
     "output_type": "execute_result"
    }
   ],
   "source": [
    "data_translation[:3]"
   ]
  },
  {
   "cell_type": "code",
   "execution_count": 17,
   "metadata": {},
   "outputs": [],
   "source": [
    "with open('prepared-translation.jsonl', 'w') as fopen:\n",
    "    for l in data_translation:\n",
    "        fopen.write(f'{json.dumps(l)}\\n')"
   ]
  }
 ],
 "metadata": {
  "kernelspec": {
   "display_name": "Python 3 (ipykernel)",
   "language": "python",
   "name": "python3"
  },
  "language_info": {
   "codemirror_mode": {
    "name": "ipython",
    "version": 3
   },
   "file_extension": ".py",
   "mimetype": "text/x-python",
   "name": "python",
   "nbconvert_exporter": "python",
   "pygments_lexer": "ipython3",
   "version": "3.8.10"
  }
 },
 "nbformat": 4,
 "nbformat_minor": 4
}
