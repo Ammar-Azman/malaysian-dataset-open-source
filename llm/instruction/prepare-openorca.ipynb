{
 "cells": [
  {
   "cell_type": "code",
   "execution_count": 1,
   "metadata": {},
   "outputs": [],
   "source": [
    "import pandas as pd"
   ]
  },
  {
   "cell_type": "code",
   "execution_count": 2,
   "metadata": {},
   "outputs": [],
   "source": [
    "df = pd.read_parquet('/home/husein/ssd3/openorca/1M-GPT4-Augmented.translated.parquet')"
   ]
  },
  {
   "cell_type": "code",
   "execution_count": 3,
   "metadata": {
    "scrolled": true
   },
   "outputs": [
    {
     "data": {
      "text/html": [
       "<div>\n",
       "<style scoped>\n",
       "    .dataframe tbody tr th:only-of-type {\n",
       "        vertical-align: middle;\n",
       "    }\n",
       "\n",
       "    .dataframe tbody tr th {\n",
       "        vertical-align: top;\n",
       "    }\n",
       "\n",
       "    .dataframe thead th {\n",
       "        text-align: right;\n",
       "    }\n",
       "</style>\n",
       "<table border=\"1\" class=\"dataframe\">\n",
       "  <thead>\n",
       "    <tr style=\"text-align: right;\">\n",
       "      <th></th>\n",
       "      <th>id</th>\n",
       "      <th>system_prompt</th>\n",
       "      <th>question</th>\n",
       "      <th>response</th>\n",
       "      <th>question_ms</th>\n",
       "      <th>response_ms</th>\n",
       "    </tr>\n",
       "  </thead>\n",
       "  <tbody>\n",
       "    <tr>\n",
       "      <th>0</th>\n",
       "      <td>niv.242684</td>\n",
       "      <td></td>\n",
       "      <td>You will be given a definition of a task first...</td>\n",
       "      <td>[\\n  [\"AFC Ajax (amateurs)\", \"has ground\", \"Sp...</td>\n",
       "      <td>Anda akan diberi definisi tugas dahulu, kemudi...</td>\n",
       "      <td>[\\n   [\"AFC Ajax (amatur)\", \"mempunyai tanah\",...</td>\n",
       "    </tr>\n",
       "    <tr>\n",
       "      <th>1</th>\n",
       "      <td>flan.564327</td>\n",
       "      <td>You are an AI assistant. You will be given a t...</td>\n",
       "      <td>Generate an approximately fifteen-word sentenc...</td>\n",
       "      <td>Midsummer House is a moderately priced Chinese...</td>\n",
       "      <td>None</td>\n",
       "      <td>Midsummer House ialah restoran Cina dengan har...</td>\n",
       "    </tr>\n",
       "    <tr>\n",
       "      <th>2</th>\n",
       "      <td>flan.1875913</td>\n",
       "      <td>You are a helpful assistant, who always provid...</td>\n",
       "      <td>What happens next in this paragraph?\\n\\nShe th...</td>\n",
       "      <td>C. She then dips the needle in ink and using t...</td>\n",
       "      <td>None</td>\n",
       "      <td>C. Dia kemudian mencelupkan jarum dalam dakwat...</td>\n",
       "    </tr>\n",
       "    <tr>\n",
       "      <th>3</th>\n",
       "      <td>t0.408370</td>\n",
       "      <td>You are an AI assistant. You will be given a t...</td>\n",
       "      <td>Please answer the following question: I want t...</td>\n",
       "      <td>Based on the passage, discuss the primary moti...</td>\n",
       "      <td>Sila jawab soalan berikut: Saya ingin menguji ...</td>\n",
       "      <td>None</td>\n",
       "    </tr>\n",
       "    <tr>\n",
       "      <th>4</th>\n",
       "      <td>cot.86217</td>\n",
       "      <td>You are an AI assistant that helps people find...</td>\n",
       "      <td>James runs a TV show and there are 5 main char...</td>\n",
       "      <td>James pays the minor characters $15,000 each e...</td>\n",
       "      <td>James menjalankan rancangan TV dan terdapat 5 ...</td>\n",
       "      <td>James membayar watak-watak kecil $15,000 setia...</td>\n",
       "    </tr>\n",
       "  </tbody>\n",
       "</table>\n",
       "</div>"
      ],
      "text/plain": [
       "             id                                      system_prompt  \\\n",
       "0    niv.242684                                                      \n",
       "1   flan.564327  You are an AI assistant. You will be given a t...   \n",
       "2  flan.1875913  You are a helpful assistant, who always provid...   \n",
       "3     t0.408370  You are an AI assistant. You will be given a t...   \n",
       "4     cot.86217  You are an AI assistant that helps people find...   \n",
       "\n",
       "                                            question  \\\n",
       "0  You will be given a definition of a task first...   \n",
       "1  Generate an approximately fifteen-word sentenc...   \n",
       "2  What happens next in this paragraph?\\n\\nShe th...   \n",
       "3  Please answer the following question: I want t...   \n",
       "4  James runs a TV show and there are 5 main char...   \n",
       "\n",
       "                                            response  \\\n",
       "0  [\\n  [\"AFC Ajax (amateurs)\", \"has ground\", \"Sp...   \n",
       "1  Midsummer House is a moderately priced Chinese...   \n",
       "2  C. She then dips the needle in ink and using t...   \n",
       "3  Based on the passage, discuss the primary moti...   \n",
       "4  James pays the minor characters $15,000 each e...   \n",
       "\n",
       "                                         question_ms  \\\n",
       "0  Anda akan diberi definisi tugas dahulu, kemudi...   \n",
       "1                                               None   \n",
       "2                                               None   \n",
       "3  Sila jawab soalan berikut: Saya ingin menguji ...   \n",
       "4  James menjalankan rancangan TV dan terdapat 5 ...   \n",
       "\n",
       "                                         response_ms  \n",
       "0  [\\n   [\"AFC Ajax (amatur)\", \"mempunyai tanah\",...  \n",
       "1  Midsummer House ialah restoran Cina dengan har...  \n",
       "2  C. Dia kemudian mencelupkan jarum dalam dakwat...  \n",
       "3                                               None  \n",
       "4  James membayar watak-watak kecil $15,000 setia...  "
      ]
     },
     "execution_count": 3,
     "metadata": {},
     "output_type": "execute_result"
    }
   ],
   "source": [
    "df.head()"
   ]
  },
  {
   "cell_type": "code",
   "execution_count": 22,
   "metadata": {},
   "outputs": [
    {
     "data": {
      "text/html": [
       "<div>\n",
       "<style scoped>\n",
       "    .dataframe tbody tr th:only-of-type {\n",
       "        vertical-align: middle;\n",
       "    }\n",
       "\n",
       "    .dataframe tbody tr th {\n",
       "        vertical-align: top;\n",
       "    }\n",
       "\n",
       "    .dataframe thead th {\n",
       "        text-align: right;\n",
       "    }\n",
       "</style>\n",
       "<table border=\"1\" class=\"dataframe\">\n",
       "  <thead>\n",
       "    <tr style=\"text-align: right;\">\n",
       "      <th></th>\n",
       "      <th>id</th>\n",
       "      <th>system_prompt</th>\n",
       "      <th>question</th>\n",
       "      <th>response</th>\n",
       "      <th>question_ms</th>\n",
       "      <th>response_ms</th>\n",
       "    </tr>\n",
       "  </thead>\n",
       "  <tbody>\n",
       "    <tr>\n",
       "      <th>994891</th>\n",
       "      <td>t0.68400</td>\n",
       "      <td>You are an AI assistant. You will be given a t...</td>\n",
       "      <td>Pick the option in line with common sense to a...</td>\n",
       "      <td>C. person's head\\n\\nA human eye is a vital sen...</td>\n",
       "      <td>Pilih pilihan selaras dengan akal fikiran untu...</td>\n",
       "      <td>None</td>\n",
       "    </tr>\n",
       "    <tr>\n",
       "      <th>994892</th>\n",
       "      <td>t0.1556271</td>\n",
       "      <td>You are an AI assistant that follows instructi...</td>\n",
       "      <td>Please answer the following question: Read the...</td>\n",
       "      <td>B: could do it much good</td>\n",
       "      <td>Sila jawab soalan berikut: Baca artikel dan pi...</td>\n",
       "      <td>B: boleh melakukannya dengan baik</td>\n",
       "    </tr>\n",
       "    <tr>\n",
       "      <th>994893</th>\n",
       "      <td>t0.1213189</td>\n",
       "      <td>You are an AI assistant. You will be given a t...</td>\n",
       "      <td>Suggest a movie title for the following movie ...</td>\n",
       "      <td>\"Rise of the Hooded Rebellion: The Earl's Crus...</td>\n",
       "      <td>Cadangkan tajuk filem untuk plot filem berikut...</td>\n",
       "      <td>None</td>\n",
       "    </tr>\n",
       "    <tr>\n",
       "      <th>994894</th>\n",
       "      <td>niv.255896</td>\n",
       "      <td>You are an AI assistant. Provide a detailed an...</td>\n",
       "      <td>Instructions: In this task you are given a lis...</td>\n",
       "      <td>To find the absolute value of the difference b...</td>\n",
       "      <td>Arahan: Dalam tugasan ini anda diberi senarai ...</td>\n",
       "      <td>None</td>\n",
       "    </tr>\n",
       "    <tr>\n",
       "      <th>994895</th>\n",
       "      <td>niv.123206</td>\n",
       "      <td>Given a definition of a task and a sample inpu...</td>\n",
       "      <td>Q: This task involves creating questions from ...</td>\n",
       "      <td>Part 1: Creating questions from a given passag...</td>\n",
       "      <td>S: Tugasan ini melibatkan mencipta soalan dari...</td>\n",
       "      <td>Bahagian 1: Mencipta soalan daripada petikan y...</td>\n",
       "    </tr>\n",
       "  </tbody>\n",
       "</table>\n",
       "</div>"
      ],
      "text/plain": [
       "                id                                      system_prompt  \\\n",
       "994891    t0.68400  You are an AI assistant. You will be given a t...   \n",
       "994892  t0.1556271  You are an AI assistant that follows instructi...   \n",
       "994893  t0.1213189  You are an AI assistant. You will be given a t...   \n",
       "994894  niv.255896  You are an AI assistant. Provide a detailed an...   \n",
       "994895  niv.123206  Given a definition of a task and a sample inpu...   \n",
       "\n",
       "                                                 question  \\\n",
       "994891  Pick the option in line with common sense to a...   \n",
       "994892  Please answer the following question: Read the...   \n",
       "994893  Suggest a movie title for the following movie ...   \n",
       "994894  Instructions: In this task you are given a lis...   \n",
       "994895  Q: This task involves creating questions from ...   \n",
       "\n",
       "                                                 response  \\\n",
       "994891  C. person's head\\n\\nA human eye is a vital sen...   \n",
       "994892                           B: could do it much good   \n",
       "994893  \"Rise of the Hooded Rebellion: The Earl's Crus...   \n",
       "994894  To find the absolute value of the difference b...   \n",
       "994895  Part 1: Creating questions from a given passag...   \n",
       "\n",
       "                                              question_ms  \\\n",
       "994891  Pilih pilihan selaras dengan akal fikiran untu...   \n",
       "994892  Sila jawab soalan berikut: Baca artikel dan pi...   \n",
       "994893  Cadangkan tajuk filem untuk plot filem berikut...   \n",
       "994894  Arahan: Dalam tugasan ini anda diberi senarai ...   \n",
       "994895  S: Tugasan ini melibatkan mencipta soalan dari...   \n",
       "\n",
       "                                              response_ms  \n",
       "994891                                               None  \n",
       "994892                  B: boleh melakukannya dengan baik  \n",
       "994893                                               None  \n",
       "994894                                               None  \n",
       "994895  Bahagian 1: Mencipta soalan daripada petikan y...  "
      ]
     },
     "execution_count": 22,
     "metadata": {},
     "output_type": "execute_result"
    }
   ],
   "source": [
    "df.tail()"
   ]
  },
  {
   "cell_type": "code",
   "execution_count": 24,
   "metadata": {},
   "outputs": [
    {
     "data": {
      "text/plain": [
       "'S: Tugasan ini melibatkan mencipta soalan daripada petikan tertentu yang melibatkan beberapa jenis penaakulan yang kompleks (termasuk penaakulan berangka).\\nSoalan yang dihasilkan mesti memerlukan melihat lebih daripada satu bahagian petikan untuk menjawab. Cuba gunakan pelbagai jenis penaakulan dalam soalan anda (beberapa jenis penaakulan sampel digambarkan dalam medan \\'contoh positif\\') dan juga mempunyai pelbagai jenis jawapan (jawapan, nombor, tarikh). Span ialah frasa berterusan yang diambil terus daripada petikan atau soalan. Dalam soalan sebegini, rentang jawapan disyorkan lima patah perkataan. Soalan dengan jenis jawapan \"nombor\", dijangka bermula dengan \"Berapa\". Contohnya, \"Berapa lama acara berlangsung?\" boleh diungkapkan sebagai \"Berapa tahun peristiwa itu berlangsung?\". Untuk meningkatkan kepelbagaian, cuba buat lebih banyak soalan yang jawapannya akan berbilang rentang. Sila buat soalan yang memerlukan SEKURANG-KURANGNYA 2 operasi aritmetik seperti yang digambarkan dalam medan \\'contoh positif\\'. Anda digalakkan untuk mencuba KOMBINASI operasi yang BERBEZA dan bukan hanya menghadkan kepada gabungan yang ditunjukkan dalam contoh tersebut. Lebih banyak soalan mencabar yang anda buat, lebih baik ia.\\nPetikan: Berharap untuk mengekalkan kemenangan berturut-turut tiga perlawanan mereka, Rams pulang ke rumah untuk pertarungan NFC Barat dengan Seattle Seahawks. The Rams meledak terlebih dahulu, apabila QB Marc Bulger menyempurnakan hantaran TD 9 ela kepada WR Torry Holt. Namun, Seahawks bertindak balas dengan QB Matt Hasselbeck melengkapkan hantaran TD 14 ela kepada WR Deion Branch. Pada suku kedua, St. Louis mula menarik diri, apabila RB Steven Jackson berlari 2 ela untuk mendarat dan duo Bulger dan Holt menyambung semula dengan hantaran TD 10 ela. Pada suku ketiga, Seahawks mula merayap ke belakang apabila Hasselbeck menyempurnakan hantaran TD sejauh 42 ela kepada WR Darrell Jackson. Pada suku keempat, Seattle berjaya mendahului dengan penyepak Josh Brown memakukan gol padang 49 ela, Hasselbeck melemparkan hantaran TD 19 ela ke Cawangan, dan Brown menendang satu lagi gol padang sejauh 49 ela. The Rams bertindak balas dengan Bulger dan Holt melengkapkan hantaran TD 67 ela. Seahawks menang apabila Brown menendang gol padang sejauh 54 ela ketika masa tamat, memberikan Seattle kemenangan berturut-turut tiga perlawanan menentang St. Louis. Permainan ini telah dicemari oleh kontroversi kerana peraturan larian 10 saat tidak terpakai pada permainan terakhir permainan, memberikan Josh Brown peluang untuk memenangi permainan. Dengan kekalahan itu, Rams menuju ke minggu selamat tinggal mereka 4-2.\\nA:'"
      ]
     },
     "execution_count": 24,
     "metadata": {},
     "output_type": "execute_result"
    }
   ],
   "source": [
    "df['question_ms'].iloc[-1]"
   ]
  },
  {
   "cell_type": "code",
   "execution_count": 4,
   "metadata": {},
   "outputs": [],
   "source": [
    "rejected = [\n",
    "    'A.',\n",
    "    'B.',\n",
    "    'C.',\n",
    "    'D.',\n",
    "    'A:',\n",
    "    'B:',\n",
    "    'C:',\n",
    "    'D:',\n",
    "]"
   ]
  },
  {
   "cell_type": "code",
   "execution_count": 17,
   "metadata": {},
   "outputs": [
    {
     "name": "stderr",
     "output_type": "stream",
     "text": [
      "100%|██████████████████████████████████████████████████████████████████████████████████████████████████| 994896/994896 [00:25<00:00, 38786.50it/s]\n"
     ]
    }
   ],
   "source": [
    "from tqdm import tqdm\n",
    "import random\n",
    "\n",
    "data = []\n",
    "for i in tqdm(range(len(df))):\n",
    "    \n",
    "    if df['response_ms'].iloc[i] is None:\n",
    "        continue\n",
    "        \n",
    "    if any([df['response_ms'].iloc[i].startswith(r) for r in rejected]):\n",
    "        continue\n",
    "        \n",
    "    if random.random() > 0.4 and df['question_ms'].iloc[i] is not None:\n",
    "        question = df['question_ms'].iloc[i]\n",
    "    else:\n",
    "        question = df['question'].iloc[i]\n",
    "    \n",
    "    data.append({\n",
    "        'prompt_input': None,\n",
    "        'input': question,\n",
    "        'output': df['response_ms'].iloc[i]\n",
    "    })"
   ]
  },
  {
   "cell_type": "code",
   "execution_count": 18,
   "metadata": {},
   "outputs": [
    {
     "data": {
      "text/plain": [
       "651479"
      ]
     },
     "execution_count": 18,
     "metadata": {},
     "output_type": "execute_result"
    }
   ],
   "source": [
    "len(data)"
   ]
  },
  {
   "cell_type": "code",
   "execution_count": 19,
   "metadata": {},
   "outputs": [
    {
     "data": {
      "text/plain": [
       "[{'prompt_input': None,\n",
       "  'input': \"You will be given a definition of a task first, then some input of the task.\\nThis task is about using the specified sentence and converting the sentence to Resource Description Framework (RDF) triplets of the form (subject, predicate object). The RDF triplets generated must be such that the triplets accurately capture the structure and semantics of the input sentence. The input is a sentence and the output is a list of triplets of the form [subject, predicate, object] that capture the relationships present in the sentence. When a sentence has more than 1 RDF triplet possible, the output must contain all of them.\\n\\nAFC Ajax (amateurs)'s ground is Sportpark De Toekomst where Ajax Youth Academy also play.\\nOutput:\",\n",
       "  'output': '[\\n   [\"AFC Ajax (amatur)\", \"mempunyai tanah\", \"Sportpark De Toekomst\"],\\n   [\"Akademi Belia Ajax\", \"bermain di\", \"Sportpark De Toekomst\"]\\n]'},\n",
       " {'prompt_input': None,\n",
       "  'input': 'Generate an approximately fifteen-word sentence that describes all this data: Midsummer House eatType restaurant; Midsummer House food Chinese; Midsummer House priceRange moderate; Midsummer House customer rating 3 out of 5; Midsummer House near All Bar One',\n",
       "  'output': 'Midsummer House ialah restoran Cina dengan harga sederhana dengan penilaian 3/5 pelanggan, terletak berhampiran All Bar One.'},\n",
       " {'prompt_input': None,\n",
       "  'input': \"James runs a TV show and there are 5 main characters and 4 minor characters. He pays the minor characters $15,000 each episode. He paid the major characters three times as much. How much does he pay per episode? Let's be accurate as possible.\",\n",
       "  'output': 'James membayar watak-watak kecil $15,000 setiap episod. Oleh kerana terdapat 4 watak kecil, dia membayar mereka sebanyak 4 * $15,000 = $60,000 setiap episod.\\n\\nWatak utama dibayar tiga kali ganda. Jadi, setiap watak utama dibayar 3 * $15,000 = $45,000 setiap episod.\\n\\nTerdapat 5 watak utama, jadi dia membayar mereka sejumlah 5 * $45,000 = $225,000 setiap episod.\\n\\nSecara keseluruhan, James membayar $225,000 (watak utama) + $60,000 (watak kecil) = $285,000 setiap episod.'}]"
      ]
     },
     "execution_count": 19,
     "metadata": {},
     "output_type": "execute_result"
    }
   ],
   "source": [
    "data[:3]"
   ]
  },
  {
   "cell_type": "code",
   "execution_count": 20,
   "metadata": {},
   "outputs": [
    {
     "data": {
      "text/plain": [
       "[{'prompt_input': None,\n",
       "  'input': 'Gunakan penaakulan untuk membawa kepada jawapan soalan berikut:\\nSeseorang sedang dihakimi, apa yang dia berhak?\\nPilihan:\\n- sumber pendapatan\\n- perbicaraan yang adil\\n- sakit kepala\\n- gigi putih\\n- kebebasan\\n  Proses penaakulan:',\n",
       "  'output': 'Apabila seseorang diadili, mereka biasanya berada dalam situasi undang-undang di mana rasa bersalah atau tidak bersalah mereka sedang ditentukan berkaitan dengan isu atau tindakan tertentu. Dalam konteks sedemikian, adalah penting untuk memastikan bahawa hak orang itu dihormati, dan mereka dilayan secara adil oleh pihak berkuasa yang membuat keputusan.\\n\\nMelihat kepada pilihan yang disediakan, kita boleh menilai setiap satu berkenaan dengan konteks seseorang yang diadili:\\n\\n1. Sumber pendapatan: Walaupun seseorang individu mungkin mempunyai hak untuk mengejar peluang ekonomi, pilihan ini tidak berkaitan secara langsung dengan proses penghakiman dalam konteks undang-undang.\\n\\n2. Perbicaraan yang adil: Dalam situasi undang-undang, seseorang berhak mendapat perbicaraan yang adil, yang biasanya termasuk dianggap tidak bersalah sehingga dibuktikan bersalah, mempunyai peluang untuk mengemukakan bukti dalam pembelaan mereka, mempunyai akses kepada penasihat undang-undang, dan dibicarakan oleh hakim atau juri yang saksama. Pilihan ini nampaknya paling relevan dengan konteks soalan yang sedia ada.\\n\\n3. Sakit kepala: Pilihan ini tidak berkaitan dengan hak atau kelayakan seseorang apabila mereka diadili. Sakit kepala adalah penyakit fizikal dan tidak berkaitan secara langsung dengan prosiding undang-undang.\\n\\n4. Gigi putih: Sama seperti pilihan sakit kepala, pilihan ini tidak relevan kerana ia berkaitan dengan penampilan fizikal dan bukannya hak individu dalam konteks dihakimi.\\n\\n5. Kebebasan: Walaupun individu mempunyai hak untuk kebebasan peribadi dan kebebasan dalam pengertian yang lebih umum, pilihan ini tidak cukup khusus dalam konteks seseorang yang diadili. Kebebasan boleh menjadi hasil daripada perbicaraan, tetapi ia tidak secara khusus menangani hak dan hak seseorang dalam proses undang-undang itu sendiri.\\n\\nBerdasarkan proses penaakulan ini, kita boleh membuat kesimpulan bahawa apabila seseorang itu diadili, mereka berhak mendapat perbicaraan yang adil. Ini adalah pilihan yang paling relevan dan terpakai kepada konteks soalan, memastikan bahawa hak individu dihormati dan ditegakkan dalam prosiding undang-undang.'},\n",
       " {'prompt_input': None,\n",
       "  'input': 'Memandangkan pilihan jawapan tersebut, jawab soalan: Soalan: Apakah asas sistem Bretton Woods untuk kadar pertukaran tetap? Adakah \"Ini akan menamatkan sistem Bretton Woods dan menyaksikan dolar menjadi mata wang fiat .\" menjadi jawapan yang munasabah?\\nA:',\n",
       "  'output': 'Penubuhan sistem kadar pertukaran tetap di mana mata wang disandarkan kepada nilai emas.\\nB: Penubuhan Tabung Kewangan Antarabangsa (IMF) dan Bank Dunia untuk membantu memupuk kerjasama dan kestabilan ekonomi global.\\nC: Keperluan bagi negara anggota untuk berunding dengan IMF sebelum membuat perubahan kepada dasar kadar pertukaran mereka.\\nD: Ini menyebabkan sistem Bretton Woods ditamatkan dan menyaksikan dolar menjadi mata wang fiat.\\n\\nJawapan yang munasabah kepada soalan tentang asas sistem Bretton Woods untuk kadar pertukaran tetap ialah gabungan pilihan A, B dan C. Pilihan D tidak secara khusus menangani asas sistem; ia sebaliknya menerangkan penghujung sistem Bretton Woods dan dolar menjadi mata wang fiat.'},\n",
       " {'prompt_input': None,\n",
       "  'input': 'S: Tugasan ini melibatkan mencipta soalan daripada petikan tertentu yang melibatkan beberapa jenis penaakulan yang kompleks (termasuk penaakulan berangka).\\nSoalan yang dihasilkan mesti memerlukan melihat lebih daripada satu bahagian petikan untuk menjawab. Cuba gunakan pelbagai jenis penaakulan dalam soalan anda (beberapa jenis penaakulan sampel digambarkan dalam medan \\'contoh positif\\') dan juga mempunyai pelbagai jenis jawapan (jawapan, nombor, tarikh). Span ialah frasa berterusan yang diambil terus daripada petikan atau soalan. Dalam soalan sebegini, rentang jawapan disyorkan lima patah perkataan. Soalan dengan jenis jawapan \"nombor\", dijangka bermula dengan \"Berapa\". Contohnya, \"Berapa lama acara berlangsung?\" boleh diungkapkan sebagai \"Berapa tahun peristiwa itu berlangsung?\". Untuk meningkatkan kepelbagaian, cuba buat lebih banyak soalan yang jawapannya akan berbilang rentang. Sila buat soalan yang memerlukan SEKURANG-KURANGNYA 2 operasi aritmetik seperti yang digambarkan dalam medan \\'contoh positif\\'. Anda digalakkan untuk mencuba KOMBINASI operasi yang BERBEZA dan bukan hanya menghadkan kepada gabungan yang ditunjukkan dalam contoh tersebut. Lebih banyak soalan mencabar yang anda buat, lebih baik ia.\\nPetikan: Berharap untuk mengekalkan kemenangan berturut-turut tiga perlawanan mereka, Rams pulang ke rumah untuk pertarungan NFC Barat dengan Seattle Seahawks. The Rams meledak terlebih dahulu, apabila QB Marc Bulger menyempurnakan hantaran TD 9 ela kepada WR Torry Holt. Namun, Seahawks bertindak balas dengan QB Matt Hasselbeck melengkapkan hantaran TD 14 ela kepada WR Deion Branch. Pada suku kedua, St. Louis mula menarik diri, apabila RB Steven Jackson berlari 2 ela untuk mendarat dan duo Bulger dan Holt menyambung semula dengan hantaran TD 10 ela. Pada suku ketiga, Seahawks mula merayap ke belakang apabila Hasselbeck menyempurnakan hantaran TD sejauh 42 ela kepada WR Darrell Jackson. Pada suku keempat, Seattle berjaya mendahului dengan penyepak Josh Brown memakukan gol padang 49 ela, Hasselbeck melemparkan hantaran TD 19 ela ke Cawangan, dan Brown menendang satu lagi gol padang sejauh 49 ela. The Rams bertindak balas dengan Bulger dan Holt melengkapkan hantaran TD 67 ela. Seahawks menang apabila Brown menendang gol padang sejauh 54 ela ketika masa tamat, memberikan Seattle kemenangan berturut-turut tiga perlawanan menentang St. Louis. Permainan ini telah dicemari oleh kontroversi kerana peraturan larian 10 saat tidak terpakai pada permainan terakhir permainan, memberikan Josh Brown peluang untuk memenangi permainan. Dengan kekalahan itu, Rams menuju ke minggu selamat tinggal mereka 4-2.\\nA:',\n",
       "  'output': 'Bahagian 1: Mencipta soalan daripada petikan yang diberikan.\\nPenggunaan: Contoh soalan boleh kelihatan seperti: \"Siapakah yang menjaringkan gol pendaratan pertama untuk Rams dalam permainan?\" Ini memenuhi kriteria kerana ia adalah soalan yang dicipta daripada petikan yang diberikan.\\n\\nBahagian 2: Soalan melibatkan penaakulan yang kompleks, termasuk penaakulan berangka.\\nPenggunaan: Contoh soalan boleh jadi: \"Secara keseluruhan, berapa ela yang dilontarkan dalam hantaran sentuh oleh QB Matt Hasselbeck dan QB Marc Bulger digabungkan?\" Soalan ini memerlukan penaakulan berangka kerana pengguna perlu menambah yardage khusus yang disebut dalam teks.\\n\\nBahagian 3: Soalan memerlukan melihat lebih daripada satu bahagian petikan.\\nPenggunaan: Soalan yang berpotensi ialah: \"Berapa banyak touchdown yang dijaringkan oleh Seahawks pada suku keempat?\" Ini memerlukan melihat beberapa bahagian petikan.\\n\\nBahagian 4: Mempunyai pelbagai jenis jawapan.\\nPenggunaan: Contoh soalan jenis berangka boleh: \"Berapa banyak hantaran TD yang dilemparkan oleh Marc Bulger?\" dan jenis \\'span\\' boleh jadi: \"Siapa quarterback untuk Rams?\".\\n\\nBahagian 5: Menggalakkan penggunaan JAWAPAN rentang lima patah perkataan.\\nPenggunaan: Soalan yang menggunakan ini boleh jadi: \"Siapa yang memenangi permainan dan bagaimana?\" dengan jawapan yang berpotensi: \"The Seahawks menang dengan menendang gol padang 54 ela\".\\n\\nBahagian 6: Tugasan menggalakkan mencipta soalan yang memerlukan SEKURANG-KURANGNYA 2 operasi aritmetik.\\nPenggunaan: Soalan boleh menjadi: \"Berapakah purata ela setiap sentuhan untuk QB Matt Hasselbeck?\" Ini memerlukan menambah semua ela dan kemudian membahagikan dengan bilangan touchdown, oleh itu dua operasi aritmetik.\\n\\nBahagian 7: Tugas menggalakkan mencuba KOMBINASI BERBEZA operasi.\\nPenggunaan: Soalan yang berpotensi ialah: \"Jika, sebagai ganti touchdown, setiap hantaran QB Matt Hasselbeck dan QB Marc Bulger akan dikira untuk ela masing-masing sebagai mata, apakah jumlah markah?\" Ini memerlukan pendaraban dan penambahan.\\n\\nBahagian 8: Tugas menggalakkan soalan yang mencabar dan pelbagai.\\nPenggunaan: Soalan yang mencabar boleh jadi: \"Apakah keputusan permainan jika semua gol padang Josh Brown kurang 1 ela?\" yang memerlukan penaakulan dan spekulasi di luar pemahaman mudah atau aritmetik.'}]"
      ]
     },
     "execution_count": 20,
     "metadata": {},
     "output_type": "execute_result"
    }
   ],
   "source": [
    "data[-3:]"
   ]
  },
  {
   "cell_type": "code",
   "execution_count": 25,
   "metadata": {},
   "outputs": [],
   "source": [
    "import json\n",
    "\n",
    "with open('prepared-openorca.jsonl', 'w') as fopen:\n",
    "    for l in data:\n",
    "        fopen.write(f'{json.dumps(l)}\\n')"
   ]
  },
  {
   "cell_type": "code",
   "execution_count": null,
   "metadata": {},
   "outputs": [],
   "source": []
  }
 ],
 "metadata": {
  "kernelspec": {
   "display_name": "Python 3 (ipykernel)",
   "language": "python",
   "name": "python3"
  },
  "language_info": {
   "codemirror_mode": {
    "name": "ipython",
    "version": 3
   },
   "file_extension": ".py",
   "mimetype": "text/x-python",
   "name": "python",
   "nbconvert_exporter": "python",
   "pygments_lexer": "ipython3",
   "version": "3.8.10"
  }
 },
 "nbformat": 4,
 "nbformat_minor": 4
}
