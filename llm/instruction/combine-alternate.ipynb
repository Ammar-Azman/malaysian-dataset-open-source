{
 "cells": [
  {
   "cell_type": "code",
   "execution_count": 1,
   "metadata": {},
   "outputs": [],
   "source": [
    "from glob import glob\n",
    "import json\n",
    "import random"
   ]
  },
  {
   "cell_type": "code",
   "execution_count": 2,
   "metadata": {},
   "outputs": [],
   "source": [
    "fopen_l = open('combine-alternate.jsonl', 'w')"
   ]
  },
  {
   "cell_type": "code",
   "execution_count": 3,
   "metadata": {},
   "outputs": [],
   "source": [
    "rejected = [\n",
    "    'help.openai.com',\n",
    "    'openassistant'\n",
    "]\n",
    "\n",
    "def accept(d):\n",
    "    if 'terjemahkan teks' in d.lower():\n",
    "        return False\n",
    "\n",
    "    if 'no need to translate' in d.lower():\n",
    "        return False\n",
    "\n",
    "    if 'can be translated' in d.lower():\n",
    "        return False\n",
    "\n",
    "    if 'cannot translate' in d.lower():\n",
    "        return False\n",
    "\n",
    "    if 'should be translated to' in d.lower():\n",
    "        return False\n",
    "\n",
    "    if 'cannot be translated' in d.lower():\n",
    "        return False\n",
    "\n",
    "    if 'standard malay' in d.lower():\n",
    "        return False\n",
    "\n",
    "    if 'would not be translated' in d.lower():\n",
    "        return False\n",
    "\n",
    "    if 'as an AI language model' in d:\n",
    "        return False\n",
    "\n",
    "    if 'should be translated as' in d.lower():\n",
    "        return False\n",
    "\n",
    "    if 'Bahasa Malaysia Standard' in d:\n",
    "        return False\n",
    "    \n",
    "    if 'Saya adalah model AI' in d:\n",
    "        return False\n",
    "    \n",
    "    if 'saya model AI' in d:\n",
    "        return False\n",
    "    \n",
    "    if 'Saya model AI' in d:\n",
    "        return False\n",
    "    \n",
    "    if 'sebagai model AI' in d:\n",
    "        return False\n",
    "    \n",
    "    if 'Sebagai model AI' in d:\n",
    "        return False\n",
    "    \n",
    "    if 'model bahasa AI' in d:\n",
    "        return False\n",
    "    \n",
    "    if 'model AI yang dibangunkan' in d:\n",
    "        return False\n",
    "    \n",
    "    if d == '<s>':\n",
    "        return False\n",
    "    \n",
    "    if 'tidak dapat memberikan maklumat' in d:\n",
    "        return False\n",
    "    \n",
    "    if 'Sebagai model bahasa' in d:\n",
    "        return False\n",
    "    \n",
    "    if any([r in d.lower() for r in rejected]):\n",
    "        return False\n",
    "    \n",
    "    if len(d.split()) < 10:\n",
    "        return False\n",
    "    \n",
    "    return True"
   ]
  },
  {
   "cell_type": "code",
   "execution_count": 4,
   "metadata": {},
   "outputs": [
    {
     "name": "stdout",
     "output_type": "stream",
     "text": [
      "prepared-parliament-qa.jsonl\n",
      "prepared-common-crawl-qa.jsonl\n",
      "prepared-summarization.jsonl\n"
     ]
    }
   ],
   "source": [
    "files = [\n",
    "    'prepared-parliament-qa.jsonl',\n",
    "    'prepared-common-crawl-qa.jsonl',\n",
    "    'prepared-summarization.jsonl',\n",
    "]\n",
    "\n",
    "for f in files:\n",
    "    print(f)\n",
    "    with open(f) as fopen:\n",
    "        for l in fopen:\n",
    "            try:\n",
    "                if random.random() < 0.8:\n",
    "                    continue\n",
    "\n",
    "                data = json.loads(l)\n",
    "                if not accept(data['input']):\n",
    "                    continue\n",
    "                if not accept(data['output']):\n",
    "                    continue\n",
    "                fopen_l.write(f'{json.dumps(data)}\\n')\n",
    "                fopen_l.flush()\n",
    "            except:\n",
    "                pass"
   ]
  },
  {
   "cell_type": "code",
   "execution_count": 6,
   "metadata": {},
   "outputs": [
    {
     "name": "stdout",
     "output_type": "stream",
     "text": [
      "89684 combine-alternate.jsonl\r\n"
     ]
    }
   ],
   "source": [
    "!wc -l combine-alternate.jsonl"
   ]
  },
  {
   "cell_type": "code",
   "execution_count": 7,
   "metadata": {},
   "outputs": [
    {
     "name": "stdout",
     "output_type": "stream",
     "text": [
      "prepared-ultrachat-part0-alternate_texts.jsonl\n",
      "prepared-ultrachat-part9-alternate_texts.jsonl\n"
     ]
    }
   ],
   "source": [
    "files = [\n",
    "    'prepared-ultrachat-part0-alternate_texts.jsonl',\n",
    "    'prepared-ultrachat-part9-alternate_texts.jsonl',\n",
    "]\n",
    "for f in files:\n",
    "    print(f)\n",
    "    with open(f) as fopen:\n",
    "        for l in fopen:\n",
    "            if 'Saya mahir dalam bahasa Ibrani' in l:\n",
    "                continue\n",
    "            try:\n",
    "                data = json.loads(l)\n",
    "                if not accept(data['input']):\n",
    "                    continue\n",
    "                fopen_l.write(f'{json.dumps(data)}\\n')\n",
    "                fopen_l.flush()\n",
    "            except:\n",
    "                pass"
   ]
  },
  {
   "cell_type": "code",
   "execution_count": 8,
   "metadata": {
    "scrolled": true
   },
   "outputs": [
    {
     "name": "stdout",
     "output_type": "stream",
     "text": [
      "260242 combine-alternate.jsonl\r\n"
     ]
    }
   ],
   "source": [
    "!wc -l combine-alternate.jsonl"
   ]
  },
  {
   "cell_type": "code",
   "execution_count": 9,
   "metadata": {},
   "outputs": [
    {
     "name": "stdout",
     "output_type": "stream",
     "text": [
      "{\"prompt_input\": \"Di bawah ialah arahan yang menerangkan tugasan. Tulis jawapan yang sesuai dengan arahan tersebut.\\n\\n### Arahan:\\n{instruction}\\n\\n### Jawapan:\\n\", \"input\": \"paragraph `\\n22                                                            DR.30.10.2018                                                                                                                          \\n\\n \\ndan sebagainya. Cukai-cukai yang didapati daripada minuman keras, alkohol dan sebagainya \\nmasuk kepada kerajaan, kerajaan bayar gaji kita balik, itu pun haram pada kita.  [Disampuk]  \\n\\nTimbalan Yang di-Pertua [Dato\\u2019 Mohd Rashid Hasnon]: Yang Berhormat Padang \\nSerai, sila ajukan soalan. \\n\\nTuan Karupaiya Mutusami [Padang Serai]: Saya bertanya soalan pada pihak \\nkementerian, bolehkah samsu dihapuskan terus, tidak mahu ada samsu dalam negara kita. \\n[Dewan tepuk] Terima kasih. \\n\\nTuan Che Alias bin Hamid [Kemaman]: Sokong, sokong. \\n\\n\\u25a01150 \\n\\nTuan Chong Chieng Jen: Itu satu isu atau soalan yang begitu serius dan effect-\\nnya yang sangat luas. Saya rasa ini perlu dibawa ke dalam Jemaah Menteri untuk \\ndipertimbangkan dan diputuskan. Sekian, terima kasih. \\n\\n \\n\\n9. Dr. Hasan bin Bahrom [Tampin] minta Menteri Pengangkutan menyatakan adakah \\nkerajaan bercadang untuk menyemak semula jadual perjalanan yang kurang sesuai bagi \\nkereta api komuter dan Electric Train Service (ETS) dari Gemas ke Kuala Lumpur. \\n\\n \\n\\nTimbalan Menteri Pengangkutan [Dato\\u2019 Kamarudin Jaffar]: Assalamualaikum \\nwarahmatullahi wabarakatuh dan salam sejahtera. Terima kasih Tuan Yang di-Pertua. Terima \\nkasih sahabat saya Yang Berhormat Tampin. Ini soalan yang halal, jawapannya pun halal. \\n\\nUntuk makluman Yang Berhormat, KTMB pada masa ini masih belum ada \\nperancangan untuk menyemak semula jadual perjalanan bagi perkhidmatan komuter dan \\nETS daripada Gemas ke Kuala Lumpur. Bagi perkhidmatan komuter buat masa ini KTMB \\nmenyediakan 27 perkhidmatan komuter sehari di laluan sektor Pulau Sebang iaitu Tampin, \\nKL Sentral, Batu Caves. \\n\\nWalau bagaimanapun, stesen Gemas yang terletak kira-kira 53 kilometer daripada \\nstesen Pulau Sebang, Tampin tidak dijadikan sebagai stesen hentian bagi perkhidmatan \\nkomuter. Ini adalah kerana perkhidmatan komuter sebelum ini yang beroperasi di stesen \\nGemas tersebut terpaksa ditamatkan pada tahun 2016 setelah 10 bulan beroperasi \\ndisebabkan kurang mendapat sambutan penumpang. Berdasarkan statistik KTMB, bilangan \\npenumpang perkhidmatan komuter di stesen Gemas pada tahun 2016 adalah hanya seramai \\n2,010 orang iaitu puratanya enam orang sehari berbanding 1,000,330,668 orang di \\nSeremban, 89,553 penumpang di Sungai Gadut serta 135,297 penumpang di Pulau Sebang, \\nTampin pada tahun yang sama. \\n\\nBagi perkhidmatan ETS pula, buat masa ini KTMB menyediakan empat \\nperkhidmatan bagi laluan Gemas ke KL Sentral, termasuk stesen-stesen utama di utara \\nSemenanjung setiap hari. Penyusunan jadual train ETS ini banyak bergantung pada kerja-\\nkerja projek menaik taraf landasan di Lembah Klang yang kini sedang giat dijalankan serta \\nketersediaan, availability dengan izin, set-set train ETS yang boleh diguna pakai untuk tujuan \\noperasi. \\n\\nUntuk maklumat Yang Berhormat juga pada masa ini KTMB memiliki 15 set train \\nETS yang aktif untuk tujuan operasi. Jumlah set ini masih tidak mencukupi bagi memenuhi \\npermintaan orang ramai yang ingin menggunakan perkhidmatan ETS di seluruh negara. \\n\\nSehubungan itu, bagi menampung kekurangan set-set ETS sedia ada kerajaan telah \\nmeluluskan pembelian 19 tambahan set ETS baru yang masing-masing dijangka tiba bermula \\nsecara berfasa bulan Disember 2018 ini. Set yang seterusnya pada September 2021. \\n\\nPerkhidmatan ETS dijangka akan meningkat selaras dengan pertambahan bilangan \\nETS baru ini termasuk perjalanan yang melibatkan dari Gemas ke Kuala Lumpur. Terima \\nkasih. \\n\\nDr. Hasan bin Bahrom [Tampin]: Terima kasih kepada Yang Berhormat Timbalan \\nMenteri kerana menjawab dengan lengkap dan jelas. Soalan tambahan saya, kita dapati \\nbahawa perjalanan ETS daripada Gemas ke Kuala Lumpur bermula daripada jam 7.40 pagi. \\nKita dapati perjalanan ini tidak memungkinkan sekiranya ada orang-orang di Gemas untuk \\nbekerja di Kuala Lumpur menggunakan khidmat ETS untuk sampai ke Kuala Lumpur \\n\\n\\n`, berdasarkan paragraph, jawab soalan `Berapa banyak set ETS yang dimiliki oleh KTMB untuk tujuan operasi?`\", \"output\": \"KTMB memiliki 15 set train ETS yang aktif untuk tujuan operasi.\"}\r\n"
     ]
    }
   ],
   "source": [
    "!head -n 1 combine-alternate.jsonl"
   ]
  },
  {
   "cell_type": "code",
   "execution_count": 10,
   "metadata": {},
   "outputs": [
    {
     "name": "stdout",
     "output_type": "stream",
     "text": [
      "{\"prompt_input\": null, \"input\": \"<manusia>: Apakah tujuan acara tontonan umum untuk kereta rel Honolulu?: HONOLULU (HawaiiNewsNow) - Masyarakat dijemput untuk menaiki kapal dan merasai pengalaman kereta transit yang akan digunakan dalam sistem rel Honolulu.\\nKereta-kereta itu akan dipamerkan kepada umum dari jam 10 pagi hingga 3 petang. Sabtu ini, 18 Feb di pusat operasi Pihak Berkuasa Honolulu untuk Pengangkutan Rapid berhampiran Kolej Komuniti Leeward.\\n\\\"Kami berbangga untuk mempersembahkan sekali lagi peluang indah ini kepada ahli komuniti untuk melihat dan mengetahui tentang kereta api Honolulu,\\\" kata Pengerusi Bersama Move Oahu Forward Howard Garval dan Connie Lau.\\nMove Oahu Forward ialah organisasi bukan partisan pemimpin perniagaan dan komuniti tempatan yang bekerjasama dengan HART untuk mengadakan acara tontonan umum.\\n\\\"Kami menggalakkan semua orang memanfaatkan peluang untuk melihat sendiri kenderaan rel terkini ini,\\\" kata Garval dan Lau.\\nKereta itu dipratonton secara peribadi pada bulan September. Pegawai HART berkata maklum balas daripada tontonan itu adalah positif.\\nKereta api Honolulu akan menjadi sistem tanpa pemandu pertama di negara ini, kata HART.\\nTempat letak kenderaan percuma untuk acara menonton boleh didapati di LCC.\\n<bot>: Tujuan acara tontonan awam untuk kereta rel Honolulu adalah untuk memberi peluang kepada komuniti melihat dan mengalami kereta transit yang akan digunakan dalam sistem rel Honolulu. Acara ini dianjurkan oleh organisasi Move Oahu Forward, yang bekerjasama dengan HART untuk menyediakan tontonan. Acara itu bertujuan untuk mendidik orang ramai tentang kenderaan rel yang canggih dan menggalakkan sokongan mereka untuk projek rel yang akan datang. Acara tontonan umum juga memberi peluang kepada orang ramai untuk memberi maklum balas mengenai kenderaan rel, yang akan membantu HART dalam membuat sebarang pelarasan yang diperlukan.\\n<manusia>: Bolehkah anda memberi saya alamat Pusat Operasi Pengangkutan Rapid Honolulu Authority berdekatan Kolej Komuniti Leeward?\\n<bot>: Alamat pusat operasi Honolulu Authority for Rapid Transportation berhampiran Kolej Komuniti Leeward ialah 91-455 West West, Kapolei, HI 96707, USA.\\n<manusia>: Is there any restriction for the age of people who can attend the public viewing event for Honolulu's rail cars?\\n<bot>: The article does not mention any age restrictions for the public viewing event of Honolulu's rail cars. However, I would suggest double-checking with the organizers, Move Oahu Forward, to confirm if there are any age restrictions or limitations.\", \"output\": null}\r\n",
      "{\"prompt_input\": null, \"input\": \"<manusia>: Kilang dan ibu pejabat Syarikat Foulds Macaroni yang berpindah ke Libertyville dari Cincinnati pada tahun 1906. Struktur itu, asalnya sebuah kilang tangga, dibina pada tahun 1894 dengan kayu dari Pameran Columbian Dunia 1893 di Chicago. Pada tahun-tahun awal Foulds adalah majikan utama di Libertyville, terkenal dengan perkelahan syarikat musim panas dan pesta Krismas musim sejuk yang mana seluruh bandar dijemput.\\nPerihalan Kilang dan ibu pejabat Syarikat Foulds Macaroni yang berpindah ke Libertyville dari Cincinnati pada tahun 1906. Struktur itu, asalnya sebuah kilang tangga, dibina pada tahun 1894 dengan kayu dari Pameran Columbian Dunia 1893 di Chicago. Pada tahun-tahun awal Foulds adalah majikan utama di Libertyville, terkenal dengan perkelahan syarikat musim panas dan pesta Krismas musim sejuk yang mana seluruh bandar dijemput.\\nBagaimanakah kayu daripada Pameran Columbian Dunia 1893 di Chicago digunakan dalam pembinaan kilang dan ibu pejabat Syarikat Foulds Macaroni pada tahun 1894?\\n<bot>: Kayu-kayu dari Pameran Columbian Dunia 1893 di Chicago telah digunakan dalam pembinaan kilang dan ibu pejabat Syarikat Foulds Macaroni pada tahun 1894.\\n<manusia>: Can you tell me more about the company picnics and Christmas parties that Foulds Macaroni Company used to host?\\n<bot>: Foulds Macaroni Company was well-known in Libertyville for hosting company picnics and Christmas parties. The summer company picnics were a time for employees to unwind and enjoy outdoor activities such as games, sports, and outdoor cooking. The winter Christmas parties were a festive occasion where the whole town was invited to participate in musical performances, dancing, and a visit from Santa Claus. These events were an opportunity for the company and the community to come together and celebrate the holiday season. Foulds Macaroni Company's commitment to its employees and the local community helped to establish a positive reputation for the company in the area.\\n<manusia>: Can you give me a summary of the history of Foulds Macaroni Company?\\n<bot>: Foulds Macaroni Company was a macaroni production company which was founded in Cincinnati in 1871. In 1906, the company moved its operations to Libertyville, Illinois, where it became a major employer and a staple of the community. The company used the structure of an old ladder factory, built in 1894 with timbers from the 1893 World's Columbian Exposition, as its factory and headquarters. Foulds Macaroni Company was known for its high-quality macaroni products and for hosting company picnics and Christmas parties for its employees and the local community. The company operated for over 90 years before closing its doors in the 1960s due to increased competition and changes in the food industry. Despite its closure, Foulds Macaroni Company remains a memorable part of Libertyville's history and is still celebrated by locals today.\\n<manusia>: Bolehkah anda memberikan lebih banyak maklumat tentang kesan Syarikat Foulds Macaroni terhadap komuniti tempatan sepanjang tahun beroperasi?\\n<bot>: Syarikat Foulds Macaroni memberi impak yang besar kepada komuniti tempatan sepanjang tahun beroperasi. Sebagai majikan utama di Libertyville, syarikat itu menyediakan banyak pekerjaan bergaji tinggi untuk penduduk tempatan. Selain itu, komitmen syarikat terhadap pekerjanya dan komuniti terbukti melalui penganjuran syarikat berkelah dan parti Krismas yang seluruh bandar dijemput. Syarikat Foulds Macaroni juga menyumbang kepada pertumbuhan Libertyville melalui pembelian barangan dan perkhidmatan tempatan, seperti gandum daripada petani tempatan. Kehadiran syarikat itu membantu menubuhkan Libertyville sebagai hab pengeluaran makaroni, dan warisannya masih diraikan oleh penduduk tempatan hari ini.\", \"output\": null}\r\n",
      "{\"prompt_input\": null, \"input\": \"<manusia>: SIAPAKAH YESUS? APA ITU TRINITI? DAN MENGAPA KITA PERLU PEDULI? Ringkaskan perkara utama teks mengenai \\\"Siapakah Yesus? Apakah Tritunggal itu? Dan mengapa kita perlu mengambil berat?\\\"\\n<bot>: Teks itu menjelaskan bahawa Yesus adalah seorang tokoh sejarah yang mengaku sebagai Anak Tuhan dan menunjukkan keilahiannya melalui mukjizat dan penggenapan nubuatan. Triniti adalah doktrin bahawa Tuhan adalah satu makhluk yang wujud dalam tiga orang: Bapa, Anak, dan Roh Kudus. Memahami Tritunggal adalah penting kerana ia mendedahkan sifat Tuhan dan membantu kita memahami hubungan antara Tuhan dan manusia. Ia juga membantu kita memahami kepentingan kematian dan kebangkitan Yesus, dan peranan Roh Kudus di dunia. Akhirnya, teks tersebut berhujah bahawa mengenali Yesus dan memahami Tritunggal adalah penting untuk mencari makna dan tujuan sebenar dalam kehidupan.\\n<manusia>: Can you provide more examples of Jesus' miracles and prophecies that demonstrate his divinity?\\n<bot>: Certainly! Here are a few examples:\\n\\nMiracles:\\n- Jesus healed a man who had been blind from birth by placing mud on his eyes and telling him to wash it off. (John 9:1-12)\\n- Jesus calmed a storm on the Sea of Galilee by speaking to the wind and the waves. (Mark 4:35-41)\\n- Jesus fed five thousand people with just five loaves of bread and two fish. (John 6:1-14)\\n\\nProphecies:\\n- In the Old Testament, it was prophesied that the Messiah (or \\\"anointed one\\\") would be born in Bethlehem. Jesus was born in Bethlehem. (Micah 5:2)\\n- Jesus predicted that he would be betrayed by one of his disciples, Judas. (John 13:21-26)\\n- Jesus foretold that he would be crucified and rise from the dead on the third day. (Matthew 16:21)\\n<manusia>: Bolehkah anda menerangkan bagaimana doktrin Triniti membantu kita memahami hubungan antara Tuhan dan manusia dengan lebih mendalam?\\n<bot>: Doktrin Trinitas membantu kita memahami hubungan antara Tuhan dan manusia dengan lebih mendalam dengan mendedahkan bahawa Tuhan adalah makhluk yang bersatu dalam tiga orang: Bapa, Anak (Yesus), dan Roh Kudus. Setiap orang dari Trinity mempunyai peranan yang unik dalam hubungan ini.\\n\\nBapa dilihat sebagai Pencipta alam semesta dan Dia yang mengutus Anak dan Roh Kudus untuk bekerja di dunia. Anak, Yesus, dilihat sebagai Tuhan dalam bentuk manusia yang datang ke bumi untuk hidup di antara kita, mengajar kita tentang kasih Tuhan, dan akhirnya, untuk mengorbankan dirinya di kayu salib untuk dosa-dosa kita. Roh Kudus dilihat sebagai Dia yang bekerja dalam diri kita untuk membimbing kita dan memimpin kita ke jalan kebenaran.\\n\\nMemahami Tritunggal membantu kita melihat bagaimana Tuhan berinteraksi dengan manusia dengan cara yang lebih bernuansa. Kita melihat bahawa Tuhan tidak jauh atau menyendiri, sebaliknya terlibat secara aktif dalam kehidupan kita melalui setiap orang Triniti. Kita juga melihat bahawa kasih Tuhan kepada kita dinyatakan dengan cara yang mendalam dan bermakna melalui pengorbanan Yesus, dan bahawa Roh Kudus sentiasa bekerja untuk membimbing dan memperkasakan kita dalam kehidupan seharian kita.\\n\\nAkhirnya, doktrin Triniti membantu kita memahami bahawa Tuhan bukan sekadar konsep abstrak, tetapi adalah kehadiran yang hidup dan aktif dalam kehidupan kita, dan bahawa kita dijemput ke dalam hubungan dengan Tuhan yang berhubungan dan penyayang ini.\\n<manusia>: Bolehkah anda jelaskan bagaimana konsep Triniti berbeza daripada pandangan agama lain tentang Tuhan dan ketuhanan?\\n<bot>: Konsep Triniti adalah unik untuk agama Kristian dan berbeza daripada pandangan agama lain tentang Tuhan dan ketuhanan dalam beberapa cara.\\n\\nSebagai contoh, dalam agama Hindu, terdapat banyak dewa dan dewi yang disembah, tetapi mereka sering dilihat sebagai aspek yang berbeza dari satu kesatuan ilahi (Brahman). Sebaliknya, Tritunggal mengajarkan bahawa terdapat satu Tuhan, yang dinyatakan dalam tiga orang: Bapa, Anak, dan Roh Kudus.\\n\\nDalam Islam, terdapat kepercayaan monoteistik yang ketat kepada satu Tuhan, dan idea tentang Tritunggal dilihat sebagai politeistik dan oleh itu menghujat. Dalam agama Yahudi, konsep Tuhan adalah sama monoteistik, dan idea tentang Yesus sebagai Anak Tuhan secara umumnya ditolak.\\n\\nTrinity juga unik dalam pemahamannya tentang hubungan Tuhan dengan manusia. Walaupun agama-agama lain mungkin melihat Tuhan sebagai menyendiri atau jauh daripada manusia, doktrin Kristian Tritunggal mengajar bahawa Tuhan wujud dalam perpaduan tiga orang yang saling mengasihi, dan manusia dijemput ke dalam hubungan ini melalui iman kepada Yesus Kristus.\\n\\nSecara keseluruhannya, konsep Triniti adalah satu aspek teologi Kristian yang unik dan tersendiri, yang membezakannya daripada agama lain dan pandangan mereka tentang Tuhan dan ketuhanan.\", \"output\": null}\r\n"
     ]
    }
   ],
   "source": [
    "!tail -n 3 combine-alternate.jsonl"
   ]
  },
  {
   "cell_type": "code",
   "execution_count": 11,
   "metadata": {},
   "outputs": [],
   "source": [
    "!shuf combine-alternate.jsonl > shuf-combine-alternate.jsonl"
   ]
  },
  {
   "cell_type": "code",
   "execution_count": 12,
   "metadata": {},
   "outputs": [],
   "source": [
    "break_at = [\n",
    "    'tidak pasti apa yang anda maksudkan dengan'\n",
    "    'tidak mempunyai maklumat semasa',\n",
    "    'tidak dapat memberikan maklumat',\n",
    "    'tidak pasti apa yang anda maksudkan dengan',\n",
    "    'kemas kini kepada pangkalan pengetahuan saya',\n",
    "    'Sebagai model bahasa'\n",
    "]"
   ]
  },
  {
   "cell_type": "code",
   "execution_count": 13,
   "metadata": {},
   "outputs": [],
   "source": [
    "import json\n",
    "\n",
    "with open('shuf-combine-alternate.jsonl') as fopen:\n",
    "    for l in fopen:\n",
    "        if 'Source text' in l:\n",
    "            print(l)\n",
    "            print('-----')\n",
    "        if '<manusia>:' in l:\n",
    "            data = json.loads(l)\n",
    "            inputs, outputs = [], []\n",
    "            splitted = data['input'].split('<bot>:')\n",
    "            for i in range(len(splitted) - 1):\n",
    "                if i == 0:\n",
    "                    human = splitted[i].replace('<manusia>:', '')\n",
    "                else:\n",
    "                    human = splitted[i].split('<manusia>:')[1]\n",
    "                bot = splitted[i + 1].split('<manusia>:')[0]\n",
    "                human = human.strip()\n",
    "                bot = bot.strip()\n",
    "                if len(bot) < 3 or len(human) < 3:\n",
    "                    print(len(bot), len(human), len(inputs), len(outputs), data)\n",
    "                inputs.append(human)\n",
    "                outputs.append(bot)"
   ]
  }
 ],
 "metadata": {
  "kernelspec": {
   "display_name": "Python 3 (ipykernel)",
   "language": "python",
   "name": "python3"
  },
  "language_info": {
   "codemirror_mode": {
    "name": "ipython",
    "version": 3
   },
   "file_extension": ".py",
   "mimetype": "text/x-python",
   "name": "python",
   "nbconvert_exporter": "python",
   "pygments_lexer": "ipython3",
   "version": "3.8.10"
  }
 },
 "nbformat": 4,
 "nbformat_minor": 4
}
