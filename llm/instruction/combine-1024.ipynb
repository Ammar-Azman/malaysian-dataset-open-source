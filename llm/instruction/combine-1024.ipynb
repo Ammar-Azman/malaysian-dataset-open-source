{
 "cells": [
  {
   "cell_type": "code",
   "execution_count": 1,
   "metadata": {},
   "outputs": [],
   "source": [
    "from glob import glob\n",
    "import json\n",
    "import random"
   ]
  },
  {
   "cell_type": "code",
   "execution_count": 2,
   "metadata": {},
   "outputs": [],
   "source": [
    "fopen_l = open('combine-1024.jsonl', 'w')"
   ]
  },
  {
   "cell_type": "code",
   "execution_count": 3,
   "metadata": {},
   "outputs": [],
   "source": [
    "def accept(d):\n",
    "    if 'terjemahkan teks' in d.lower():\n",
    "        return False\n",
    "\n",
    "    if 'no need to translate' in d.lower():\n",
    "        return False\n",
    "\n",
    "    if 'can be translated' in d.lower():\n",
    "        return False\n",
    "\n",
    "    if 'cannot translate' in d.lower():\n",
    "        return False\n",
    "\n",
    "    if 'should be translated to' in d.lower():\n",
    "        return False\n",
    "\n",
    "    if 'cannot be translated' in d.lower():\n",
    "        return False\n",
    "\n",
    "    if 'standard malay' in d.lower():\n",
    "        return False\n",
    "\n",
    "    if 'would not be translated' in d.lower():\n",
    "        return False\n",
    "\n",
    "    if 'as an AI language model' in d:\n",
    "        return False\n",
    "\n",
    "    if 'should be translated as' in d.lower():\n",
    "        return False\n",
    "\n",
    "    if 'Bahasa Malaysia Standard' in d:\n",
    "        return False\n",
    "    \n",
    "    if d == '<s>':\n",
    "        return False\n",
    "    \n",
    "    if len(d.split()) < 10:\n",
    "        return False\n",
    "    \n",
    "    return True"
   ]
  },
  {
   "cell_type": "code",
   "execution_count": 4,
   "metadata": {},
   "outputs": [],
   "source": [
    "with open('partition-1024.jsonl') as fopen:\n",
    "    for l in fopen:\n",
    "        if random.random() < 0.6:\n",
    "            continue\n",
    "        \n",
    "        data = json.loads(l)\n",
    "        if not accept(data['input']):\n",
    "            continue\n",
    "        fopen_l.write(f'{json.dumps(data)}\\n')\n",
    "        fopen_l.flush()"
   ]
  },
  {
   "cell_type": "code",
   "execution_count": 5,
   "metadata": {
    "scrolled": true
   },
   "outputs": [
    {
     "name": "stdout",
     "output_type": "stream",
     "text": [
      "278906 combine-1024.jsonl\r\n"
     ]
    }
   ],
   "source": [
    "!wc -l combine-1024.jsonl"
   ]
  },
  {
   "cell_type": "code",
   "execution_count": 6,
   "metadata": {},
   "outputs": [],
   "source": [
    "files = [\n",
    "    'prepared-parliament-qa.jsonl',\n",
    "    'prepared-common-crawl-qa.jsonl',\n",
    "    'prepared-gpt4all-code.jsonl',\n",
    "]"
   ]
  },
  {
   "cell_type": "code",
   "execution_count": 7,
   "metadata": {},
   "outputs": [
    {
     "name": "stdout",
     "output_type": "stream",
     "text": [
      "prepared-parliament-qa.jsonl\n",
      "prepared-common-crawl-qa.jsonl\n",
      "prepared-gpt4all-code.jsonl\n"
     ]
    }
   ],
   "source": [
    "for f in files:\n",
    "    print(f)\n",
    "    with open(f) as fopen:\n",
    "        for l in fopen:\n",
    "            try:\n",
    "                if random.random() < 0.85:\n",
    "                    continue\n",
    "\n",
    "                data = json.loads(l)\n",
    "                if not accept(data['input']):\n",
    "                    continue\n",
    "                if not accept(data['output']):\n",
    "                    continue\n",
    "                fopen_l.write(f'{json.dumps(data)}\\n')\n",
    "                fopen_l.flush()\n",
    "            except:\n",
    "                pass"
   ]
  },
  {
   "cell_type": "code",
   "execution_count": 8,
   "metadata": {},
   "outputs": [
    {
     "name": "stdout",
     "output_type": "stream",
     "text": [
      "357813 combine-1024.jsonl\r\n"
     ]
    }
   ],
   "source": [
    "!wc -l combine-1024.jsonl"
   ]
  },
  {
   "cell_type": "code",
   "execution_count": 9,
   "metadata": {},
   "outputs": [
    {
     "name": "stdout",
     "output_type": "stream",
     "text": [
      "prepared-translation.jsonl\n",
      "prepared-sentiment.jsonl\n"
     ]
    }
   ],
   "source": [
    "for f in ['prepared-translation.jsonl', 'prepared-sentiment.jsonl']:\n",
    "    print(f)\n",
    "    with open(f) as fopen:\n",
    "        for l in fopen:\n",
    "            try:\n",
    "                if random.random() < 0.7:\n",
    "                    continue\n",
    "\n",
    "                data = json.loads(l)\n",
    "                if not accept(data['input']):\n",
    "                    continue\n",
    "                if not accept(data['output']):\n",
    "                    continue\n",
    "                fopen_l.write(f'{json.dumps(data)}\\n')\n",
    "                fopen_l.flush()\n",
    "            except:\n",
    "                pass"
   ]
  },
  {
   "cell_type": "code",
   "execution_count": 10,
   "metadata": {},
   "outputs": [
    {
     "name": "stdout",
     "output_type": "stream",
     "text": [
      "466384 combine-1024.jsonl\r\n"
     ]
    }
   ],
   "source": [
    "!wc -l combine-1024.jsonl"
   ]
  },
  {
   "cell_type": "code",
   "execution_count": 11,
   "metadata": {},
   "outputs": [],
   "source": [
    "with open('prepared-gpt4all-v1.3.jsonl') as fopen:\n",
    "    for l in fopen:\n",
    "        if random.random() < 0.95:\n",
    "            continue\n",
    "        \n",
    "        data = json.loads(l)\n",
    "        if not accept(data['input']):\n",
    "            continue\n",
    "        if not accept(data['output']):\n",
    "            continue\n",
    "        fopen_l.write(f'{json.dumps(data)}\\n')\n",
    "        fopen_l.flush()"
   ]
  },
  {
   "cell_type": "code",
   "execution_count": 12,
   "metadata": {
    "scrolled": true
   },
   "outputs": [
    {
     "name": "stdout",
     "output_type": "stream",
     "text": [
      "484258 combine-1024.jsonl\r\n"
     ]
    }
   ],
   "source": [
    "!wc -l combine-1024.jsonl"
   ]
  },
  {
   "cell_type": "code",
   "execution_count": 13,
   "metadata": {},
   "outputs": [],
   "source": [
    "!shuf combine-1024.jsonl > shuf-combine-1024.jsonl"
   ]
  },
  {
   "cell_type": "code",
   "execution_count": 14,
   "metadata": {},
   "outputs": [
    {
     "name": "stdout",
     "output_type": "stream",
     "text": [
      "{\"prompt_input\": \"Di bawah ialah arahan yang menerangkan tugasan. Tulis jawapan yang sesuai dengan arahan tersebut.\\n\\n### Arahan:\\n{instruction}\\n\\n### Jawapan:\\n\", \"input\": \"terjemah `#Gempa Magnitudo: 5.4, Kedalaman: 340 km, 10 Mei 2022 10:43:23 WIB, Koordinat: 5.92 LS-128.36 BT (241 km Tenggara BURUSELATAN-MALUKU), Tidak berpotensi tsunami #BMKG https://t.co/OiHiTwdNUp` ke english\", \"output\": \"#Earthquake Magnitude: 5.4, Depth: 340 km, May 10, 2022 10:43:23 WIB, Coordinates: 5.92 LS-128.36 BT (241 km Southeast of BURUSELATAN-MALUKU), No potential for tsunami #BMKG https://t.co/OiHiTwdNUp\"}\r\n",
      "{\"prompt_input\": null, \"input\": \"<s> 1\\n\\nTEKS UCAPAN \\nYANG HORMAT PROFESOR DATO\\u2019 DR. DAING NASIR IBRAHIM\\n\\nNAIB CANSELOR UNIVERSITI MALAYSIA PAHANG \\nSEMPENA\\n\\nMAJLIS PERASMIAN EXPOCONVO\\u201916 UNIVERSITI MALAYSIA PAHANG \\nPADA HARI KHAMIS, 17 NOVEMBER 2016, PUKUL 8.00 MALAM\\n\\nDI DATARAN CANSELERI, UMP KAMPUS GAMBANG   SALUTASI   Saudara dan saudari pengacara majlis;   Yang Amat Berhormat Dato\\u2019 Sri Diraja Haji Adnan Haji Yaakob,\\n\\nMeneteri Besar Pahang;   Yang Hormat Dato\\u2019 Haji Ahmad Azmey Abu Talib,\\n\\nAhli Lembaga Pengarah UMP;   Rakan-rakan saya:   Yang Hormat Profesor Dato\\u2019 Dr. Rosli Mohd Yunus,\\n\\nTimbalan Naib Canselor (Akademik & Antarabangsa);   Yang Hormat Profesor Dato\\u2019 Dr. Yuserrie Zainuddin,\\n\\nTimbalan Naib Canselor (Hal Ehwal Pelajar & Alumni);2\\n\\nProfesor Dr. Mashitah Mohd Yusoff,\\n\\nTimbalan Naib Canselor (Penyelidikan & Inovasi);   Encik Abd Hamid Majid,\\n\\nPendaftar;   Penolong-penolong Naib Canselor, Pegawai-pegawai Utama,\\n\\nDekan-dekan, Pengarah-Pengarah\\n\\ndan Ketua-ketua Pusat Tanggungjawab;   Saudara Madyasir Ahmad Basir,\\n\\nYang Dipertua Majlis Perwakilan Pelajar;   Saudari Nur Alin Mohd Azhari;\\n\\nKetua Pengarah Expoconvo 2016;   Wakil-wakil pihak penaja Expoconvo 2016;\\n\\ndan barisan ahli Jawatankuasanya;   Wakil-wakil media;3\\n\\nTuan-tuan dan puan-puan;   Para mahasiswa dan sidang hadirin yang dikasihi;   Assalamualaikum warahmatullahi wabarakatuh,\\n\\nSalam Sejahtera dan Salam 1Malaysia.   KATA PEMBUKA   1. Alhamdulillah, sukalah saya merakamkan setinggi-tinggi\\n\\nkesyukuran ke hadrat Allah Ta\\u2019ala kerana dengan limpah rahmat,\\n\\nkurnia dan izin-Nya, maka kita dapat bertemu pada malam ini\\n\\ndalam Majlis Perasmian Expoconvo 2016 sempena Majlis\\n\\nKonvokesyen UMP Ke-11.   2. Terlebih dahulu, bagi pihak pengurusan dan seluruh warga\\n\\nUniversiti ini, saya ingin mengucapkan selamat datang dan\\n\\nmengalu-alukan tetamu kehormat kita, Yang Amat Berhormat\\n\\nDato\\u2019 Sri Diraja Haji Adnan Haji Yaakob, Menteri Besar Pahang\\n\\natas kesudian beliau menyempurnakan perasmian Expoconvo\\n\\n2016 ini.4\\n\\n3. Perasmian Expoconvo 2016 ini turut menandakan bahawa detik\\n\\nyang ditunggu-tunggu para graduan iaitu Majlis Konvokesyen Ke-\\n\\n11 semakin hampir. Majlis Konvokesyen Ke-11 UMP akan\\n\\nberlangsung selama tiga hari mulai pada 19 November hingga 21\\n\\nNovember 2016.   \", \"output\": null}\r\n",
      "{\"prompt_input\": null, \"input\": \"kan kepada kita semua tentang bahaya-bahaya yang\\n\\nboleh timbul sekiranya kita terlampau lalai atau cuai.\\u201d\\n\\nKata-kata yang diungkapkan ini merupakan satu peringatan kepada\\n\\nsemua rakyat Malaysia, supaya peristiwa pahit ini menjadi pengajaran\\n\\nyang penting buat rakyat. Oleh itu tragedi 13 Mei ini telah membuktikan\\n\\nbahawa penekanan pembangunan semata-mata dari perspektif ekonomi\\n\\nadalah tidak memadai untuk mengatasi sepenuhnya masalah sosioekonomi\\n\\nyang tidak seimbang di kalangan masyarakat Malaysia.  Ini adalah isyarat\\n\\npenting kepada pemimpin dan warga Malaysia betapa rakyat berbilang\\n\\nkaum, berbilang agama, berbilang budaya, berbilang bahasa memerlukan\\n\\nsatu pegangan untuk boleh hidup secara rukun dan damai  iaitu prinsip\\n\\nrukun negara.\\n\\nRUKUN NEGARA SEBAGAI IDEOLOGI KEBANGSAAN\\n\\nSekitar tahun 1970 terutama semasa negara ditadbir oleh MAGERAN,\\n\\nlangkah-langkah untuk menformulasikan dasar-dasar kerajaan telah\\n\\ndilakukan dengan serius. Tujuannya adalah untuk mengawal supaya\\n\\nmasyarakat di negara ini tidak lagi terjebak dengan konfl ik perkauman\\n\\nsepertimana yang berlaku pada 13 Mei 1969. Pada tahun 1970 kerajaan\\n\\ntelah memberikan \\u201ccommissioned research and consultancy\\u201d mengenai\\n\\ntema-tema tertentu kepada pakar-pakar luar negara. Satu daripada\\n\\n\\u201ccommissioned research and consultancy\\u201d ini diberikan kepada Harvard\\n\\nUniversity Development Advisory Service2 untuk melakukan \\u201cSocial\\n\\nScience Research for National Unity\\u201d (1970). Dapatan kumpulan\\n\\npenyelidik ini menasihatkan kerajaan supaya memperkenalkan disiplin-\\n\\ndisiplin ilmu sains sosial di Universiti Malaya, Universiti Sains, dan\\n\\nUniversiti Kebangsaan (ketika itu Malaysia hanya memiliki tiga buah\\n\\nuniversiti). Memberi latihan kepada tenaga manusia dalam bidang\\n\\nsains sosial, supaya dapat menyumbangkan usaha-usaha murni untuk\\n\\n2 Ahli-ahli kumpulan ini terdiri dari Professor Nathan Glazer dan Professor Samuel P. \\nHuntington, kedua-duanya dari Harvard, Professor Manning Nash dari University of \\nChicago dan Professor Myron Weiner dari Massachusetts Institute of Technology (Abdul \\nRahman Embong, 2010:38). http://berita-harian-online.com/blogger-menghina-sultan-\\ndi-tangkap/Seminar on National Resilience\\n\\n448\\n\\nmewujudkan perpaduan kaum (Abdul Rahman Embong, 2010:20).\\n\\nLangkah ini dilakukan oleh kerajaan adalah untuk menggelakkan\\n\\ndaripada berulangnya peristiwa 13 Mei 1969.\\n\\nKesedaran untuk mewujudkan perpaduan kaum di negara berbilang kaum\\n\\nseperti di Malaysia ini adalah tanggungjawab yang berat. Teras utama\\n\\nuntuk mewujudkan perpaduan kaum adalah untuk menyedari bahawa\\n\\nmanusia itu dijadikan Allah SWT berb\", \"output\": null}\r\n"
     ]
    }
   ],
   "source": [
    "!head -n 3 shuf-combine-1024.jsonl"
   ]
  },
  {
   "cell_type": "code",
   "execution_count": null,
   "metadata": {},
   "outputs": [],
   "source": []
  }
 ],
 "metadata": {
  "kernelspec": {
   "display_name": "Python 3 (ipykernel)",
   "language": "python",
   "name": "python3"
  },
  "language_info": {
   "codemirror_mode": {
    "name": "ipython",
    "version": 3
   },
   "file_extension": ".py",
   "mimetype": "text/x-python",
   "name": "python",
   "nbconvert_exporter": "python",
   "pygments_lexer": "ipython3",
   "version": "3.8.10"
  }
 },
 "nbformat": 4,
 "nbformat_minor": 4
}
