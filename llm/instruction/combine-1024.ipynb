{
 "cells": [
  {
   "cell_type": "code",
   "execution_count": 1,
   "metadata": {},
   "outputs": [],
   "source": [
    "from glob import glob\n",
    "import json\n",
    "import random"
   ]
  },
  {
   "cell_type": "code",
   "execution_count": 2,
   "metadata": {},
   "outputs": [],
   "source": [
    "fopen_l = open('combine-1024.jsonl', 'w')"
   ]
  },
  {
   "cell_type": "code",
   "execution_count": 3,
   "metadata": {},
   "outputs": [],
   "source": [
    "def accept(d):\n",
    "    if 'terjemahkan teks' in d.lower():\n",
    "        return False\n",
    "\n",
    "    if 'no need to translate' in d.lower():\n",
    "        return False\n",
    "\n",
    "    if 'can be translated' in d.lower():\n",
    "        return False\n",
    "\n",
    "    if 'cannot translate' in d.lower():\n",
    "        return False\n",
    "\n",
    "    if 'should be translated to' in d.lower():\n",
    "        return False\n",
    "\n",
    "    if 'cannot be translated' in d.lower():\n",
    "        return False\n",
    "\n",
    "    if 'standard malay' in d.lower():\n",
    "        return False\n",
    "\n",
    "    if 'would not be translated' in d.lower():\n",
    "        return False\n",
    "\n",
    "    if 'as an AI language model' in d:\n",
    "        return False\n",
    "\n",
    "    if 'should be translated as' in d.lower():\n",
    "        return False\n",
    "\n",
    "    if 'Bahasa Malaysia Standard' in d:\n",
    "        return False\n",
    "    \n",
    "    if d == '<s>':\n",
    "        return False\n",
    "    \n",
    "    if len(d.split()) < 10:\n",
    "        return False\n",
    "    \n",
    "    return True"
   ]
  },
  {
   "cell_type": "code",
   "execution_count": 4,
   "metadata": {},
   "outputs": [],
   "source": [
    "with open('partition-1024.jsonl') as fopen:\n",
    "    for l in fopen:\n",
    "        if random.random() < 0.6:\n",
    "            continue\n",
    "        \n",
    "        data = json.loads(l)\n",
    "        if not accept(data['input']):\n",
    "            continue\n",
    "        fopen_l.write(f'{json.dumps(data)}\\n')\n",
    "        fopen_l.flush()"
   ]
  },
  {
   "cell_type": "code",
   "execution_count": 5,
   "metadata": {
    "scrolled": true
   },
   "outputs": [
    {
     "name": "stdout",
     "output_type": "stream",
     "text": [
      "279769 combine-1024.jsonl\r\n"
     ]
    }
   ],
   "source": [
    "!wc -l combine-1024.jsonl"
   ]
  },
  {
   "cell_type": "code",
   "execution_count": 6,
   "metadata": {},
   "outputs": [],
   "source": [
    "files = [\n",
    "    'prepared-parliament-qa.jsonl',\n",
    "    'prepared-common-crawl-qa.jsonl',\n",
    "    'prepared-gpt4all-code.jsonl',\n",
    "]"
   ]
  },
  {
   "cell_type": "code",
   "execution_count": 7,
   "metadata": {},
   "outputs": [
    {
     "name": "stdout",
     "output_type": "stream",
     "text": [
      "prepared-parliament-qa.jsonl\n",
      "prepared-common-crawl-qa.jsonl\n",
      "prepared-gpt4all-code.jsonl\n"
     ]
    }
   ],
   "source": [
    "for f in files:\n",
    "    print(f)\n",
    "    with open(f) as fopen:\n",
    "        for l in fopen:\n",
    "            try:\n",
    "                if random.random() < 0.7:\n",
    "                    continue\n",
    "\n",
    "                data = json.loads(l)\n",
    "                if not accept(data['input']):\n",
    "                    continue\n",
    "                if not accept(data['output']):\n",
    "                    continue\n",
    "                fopen_l.write(f'{json.dumps(data)}\\n')\n",
    "                fopen_l.flush()\n",
    "            except:\n",
    "                pass"
   ]
  },
  {
   "cell_type": "code",
   "execution_count": 8,
   "metadata": {},
   "outputs": [
    {
     "name": "stdout",
     "output_type": "stream",
     "text": [
      "437797 combine-1024.jsonl\r\n"
     ]
    }
   ],
   "source": [
    "!wc -l combine-1024.jsonl"
   ]
  },
  {
   "cell_type": "code",
   "execution_count": 9,
   "metadata": {},
   "outputs": [
    {
     "name": "stdout",
     "output_type": "stream",
     "text": [
      "prepared-translation.jsonl\n",
      "prepared-sentiment.jsonl\n",
      "prepared-gpt4all-v1.3-noisy.jsonl\n"
     ]
    }
   ],
   "source": [
    "for f in ['prepared-translation.jsonl', 'prepared-sentiment.jsonl', 'prepared-gpt4all-v1.3-noisy.jsonl']:\n",
    "    print(f)\n",
    "    with open(f) as fopen:\n",
    "        for l in fopen:\n",
    "            try:\n",
    "                if random.random() < 0.6:\n",
    "                    continue\n",
    "\n",
    "                data = json.loads(l)\n",
    "                if not accept(data['input']):\n",
    "                    continue\n",
    "                if not accept(data['output']):\n",
    "                    continue\n",
    "                fopen_l.write(f'{json.dumps(data)}\\n')\n",
    "                fopen_l.flush()\n",
    "            except:\n",
    "                pass"
   ]
  },
  {
   "cell_type": "code",
   "execution_count": 10,
   "metadata": {},
   "outputs": [
    {
     "name": "stdout",
     "output_type": "stream",
     "text": [
      "725580 combine-1024.jsonl\r\n"
     ]
    }
   ],
   "source": [
    "!wc -l combine-1024.jsonl"
   ]
  },
  {
   "cell_type": "code",
   "execution_count": 11,
   "metadata": {},
   "outputs": [],
   "source": [
    "with open('prepared-gpt4all-v1.3.jsonl') as fopen:\n",
    "    for l in fopen:\n",
    "        if random.random() < 0.95:\n",
    "            continue\n",
    "        \n",
    "        data = json.loads(l)\n",
    "        if not accept(data['input']):\n",
    "            continue\n",
    "        if not accept(data['output']):\n",
    "            continue\n",
    "        fopen_l.write(f'{json.dumps(data)}\\n')\n",
    "        fopen_l.flush()"
   ]
  },
  {
   "cell_type": "code",
   "execution_count": 12,
   "metadata": {
    "scrolled": true
   },
   "outputs": [
    {
     "name": "stdout",
     "output_type": "stream",
     "text": [
      "743507 combine-1024.jsonl\r\n"
     ]
    }
   ],
   "source": [
    "!wc -l combine-1024.jsonl"
   ]
  },
  {
   "cell_type": "code",
   "execution_count": 13,
   "metadata": {},
   "outputs": [],
   "source": [
    "!shuf combine-1024.jsonl > shuf-combine-1024.jsonl"
   ]
  },
  {
   "cell_type": "code",
   "execution_count": 14,
   "metadata": {},
   "outputs": [
    {
     "name": "stdout",
     "output_type": "stream",
     "text": [
      "{\"prompt_input\": \"Di bawah ialah arahan yang menerangkan tugasan. Tulis jawapan yang sesuai dengan arahan tersebut.\\n\\n### Arahan:\\n{instruction}\\n\\n### Jawapan:\\n\", \"input\": \"text `I'm at in Petaling Jaya, Selangor`, categorize the text with label ['negative', 'positive', 'neutral'] and explain, return as JSON key {'sentiment', 'explain_en', 'explain_ms'}\", \"output\": \"{\\n    \\\"sentiment\\\": \\\"neutral\\\",\\n    \\\"explain_en\\\": \\\"The text is neutral as it simply states the location of the speaker without expressing any positive or negative emotions.\\\",\\n    \\\"explain_ms\\\": \\\"Teks ini adalah neutral kerana ia hanya menyatakan lokasi penutur tanpa mengungkapkan emosi positif atau negatif.\\\"\\n}\"}\r\n",
      "{\"prompt_input\": null, \"input\": \"undang atau pemegang \\nmelalui pemegangan di sisi adat bagi \\nmana-mana tanah;\\u2019;\\n\\n(xi) dengan memasukkan selepas takrif \\u201cpenduduk\\u201d \\ntakrif yang berikut:\\n\\n\\u2018 \\u201cpengangkut\\u201d mempunyai erti yang diberikan \\nkepadanya oleh subseksyen 2(1) Akta Kastam \\n1967;\\u2019;\\n\\n(xii) dalam takrif \\u201cpengilangan\\u201d dengan menggantikan \\nperenggan (c) dengan perenggan yang berikut:\\n\\n\\u201c(c) berhubung dengan petroleum, proses \\npenapisan yang termasuk pemisahan, \\npenukaran, penulenan dan pengadunan \\naliran penapisan atau aliran petrokimia; \\ndan\\u201d;\\n\\n(xiii) dengan memasukkan sebelum takrif \\u201cpengilangan\\u201d \\ntakrif yang berikut:\\n\\n\\u2018 \\u201cpengilang berlesen\\u201d ertinya mana-mana \\norang yang dilesen di bawah seksyen 20;\\u2019;\\n\\n(xiv) dengan memotong takrif \\u201cpengilang tembakau \\nberlesen\\u201d;\\n\\n(xv) dengan memasukkan selepas takrif \\u201cstesen \\npemungutan\\u201d takrif yang berikut:\\n\\n\\u2018 \\u201csurcaj\\u201d ertinya apa-apa caj yang genap masa \\ndan kena dibayar di bawah subseksyen 15(3);\\u2019;\\n\\n(xvi) dengan memotong takrif \\u201czon bebas\\u201d;Eksais (Pindaan) 7\\n\\n(b) dengan memasukkan selepas subseksyen (1) subseksyen \\nyang berikut:\\n\\n\\u201c(1a) Bagi maksud Akta ini, suatu zon bebas \\nhendaklah disifatkan sebagai suatu tempat di luar \\nkawasan utama kastam, dan peruntukan Bahagian VII \\ndan VIIIa dan seksyen 76 hendaklah terpakai bagi zon \\nbebas.\\n\\n(1b) Bagi maksud subseksyen (1a)\\u2014\\n\\n(a) \\u201czon bebas\\u201d ertinya mana-mana kawasan   di dalam Malaysia yang telah diisytihar \\noleh Menteri sebagai suatu zon perdagangan \\nbebas atau zon perindustrian bebas di bawah   Akta Zon Bebas 1990 [Akta 438]; dan\\n\\n(b) \\u201ckawasan utama kastam\\u201d er t inya   mana-mana bahagian Malaysia tidak \\ntermasuk zon bebas, Labuan, Langkawi,   Tioman dan Pangkor.\\u201d; dan\\n\\n(c) dalam subseksyen (2), dengan menggantikan perkataan \\n\\u201cmana-mana gudang eksais awam, gudang berlesen,   pejabat pos, atau dalam mana-mana vesal, teren, kenderaan, \\nkapaludara, talian paip atau tempat\\u201d dengan perkataan \\n\\u201cgudang berlesen, suatu gudang atau tempat lain yang \\ndiluluskan oleh Ketua Pengarah, pejabat pos, atau   di dalam mana-mana pengangkut\\u201d.\\n\\nPindaan seksyen 4\\n\\n3. Subseksyen 4(1) Akta ibu dipinda dengan memasukkan selepas \\nperkataan \\u201c, Pengarah,\\u201d perkataan \\u201cTimbalan Pengarah,\\u201d.\\n\\nSeksyen baharu 4a\\n\\n4. Akta ibu dipinda dengan memasukkan selepas seksyen 4 \\nseksyen yang berikut:\\n\\n\\u201cKuasa peg\", \"output\": null}\r\n",
      "{\"prompt_input\": null, \"input\": \"<s>  ialah sebuah komun yang terletak di komun Somme di Picardie di utara Perancis.\", \"output\": null}\r\n"
     ]
    }
   ],
   "source": [
    "!head -n 3 shuf-combine-1024.jsonl"
   ]
  },
  {
   "cell_type": "code",
   "execution_count": 15,
   "metadata": {},
   "outputs": [
    {
     "name": "stdout",
     "output_type": "stream",
     "text": [
      "{\"prompt_input\": null, \"input\": \"Baca ini dan balas berdasarkan arahan saya.\\n* Bandar Chongqing Lifan ialah Chongqing.\\n* Stadium rumah Chongqing Lifan ialah Pusat Sukan Olimpik Chongqing.\\n* Kehadiran Pusat Sukan Olimpik Chongqing ialah 11,433 orang.\\n* Kapasiti Pusat Sukan Olimpik Chongqing ialah 58,680.\", \"output\": \"Bandar Chongqing Lifan ialah Chongqing, dan stadium rumah mereka ialah Pusat Sukan Olimpik Chongqing, yang mempunyai kapasiti 58,680. Bagaimanapun, kehadiran untuk satu acara baru-baru ini di stadium hanya 11,433, menunjukkan bahawa ia tidak dipenuhi sehingga kapasiti.\"}\r\n",
      "{\"prompt_input\": null, \"input\": \"Baca ini dan balas berdasarkan arahan saya.\\n* Blog Chris Colfer ialah chriscolfer.\\n* Watak Chris Colfer ialah Kurt Hummel.\\n* Watak Chris Colfer ialah Ryan Kendall.\\n* Filem Chris Colfer ialah 8.\\n* Filem Chris Colfer ialah Glee Encore.\\n* Filem Chris Colfer ialah Glee: The 3D Concert Movie.\\n* Filem Chris Colfer ialah Russel Fish: The Sausage and Eggs Incident.\\n* Filem Chris Colfer Disambar Petir.\\n* Filem Chris Colfer Disambar Petir.\\n* Eksekutif filem Chris Colfer yang dihasilkan ialah Struck by Lightning.\\n* Jantina Chris Colfer ialah Lelaki.\\n* Institusi Chris Colfer ialah Sekolah Menengah Clovis East.\\n* Kewarganegaraan Chris Colfer ialah Amerika Syarikat.\\n* Chris Colfer yang dicalonkan untuk ialah chriscolfer.\\n* Profesion Chris Colfer ialah Pelakon.\\n* Profesion Chris Colfer ialah Pengarang.\\n* Profesion Chris Colfer ialah Penerbit Filem.\\n* Profesion Chris Colfer ialah Penulis Skrin.\\n* Profesion Chris Colfer ialah Penyanyi.\\n* Filem Melissa Johnson ialah Russel Fish: The Sausage and Eggs Incident.\\n* Jantina Melissa Johnson ialah Perempuan.\\n* Profesion Melissa Johnson ialah Penerbit Filem.\\n* Profesion Melissa Johnson ialah pengarah Filem.\\n* Profesion Melissa Johnson ialah Penulis Skrin.\\n* Russel Fish: The Sausage and Eggs Incident Pelakon ialah Chris Colfer.\\n* Sinematografi Russel Fish: The Sausage and Eggs Incident ialah Brett Juskalian.\\n* Ikan Russel: Negara Insiden Sosej dan Telur ialah Amerika Syarikat.\\n* Russel Fish: The Sausage and Eggs Incident 's diarahkan oleh Terence Heuston.\\n* Russel Fish: The Sausage and Eggs Incident 's eksekutif yang dihasilkan oleh Eric Almquist.\\n* Ikan Russel: The Sosej dan Insiden Telur bergenre Komedi.\\n* Ikan Russel: Genre Insiden Sosej dan Telur ialah Meningkat usia.\\n* Russel Fish: The Sosej and Eggs Incident's genre ialah Filem Pendek.\\n* Russel Fish: The Sausage and Eggs Incident Tarikh keluaran awal ialah 2009.\\n* Ikan Russel: Bahasa Insiden Sosej dan Telur ialah Bahasa Inggeris.\\n* Ikan Russel: Jenis terkenal Insiden Sosej dan Telur ialah Filem.\\n* Ikan Russel: Insiden Sosej dan Telur yang dihasilkan oleh Melissa Johnson.\\n* Ikan Russel: The Sosej dan Insiden Telur ditulis oleh Terence Heuston.\\nFilem apakah yang diterbitkan oleh Melissa Johnson, Chris Colfer?\", \"output\": \"Chris Colfer berada dalam Russel Fish: The Sausage and Eggs Incident, yang dihasilkan oleh Melissa Johnson.\"}\r\n"
     ]
    }
   ],
   "source": [
    "!head -n 2 prepared-gpt4all-v1.3-noisy.jsonl"
   ]
  },
  {
   "cell_type": "code",
   "execution_count": null,
   "metadata": {},
   "outputs": [],
   "source": []
  }
 ],
 "metadata": {
  "kernelspec": {
   "display_name": "Python 3 (ipykernel)",
   "language": "python",
   "name": "python3"
  },
  "language_info": {
   "codemirror_mode": {
    "name": "ipython",
    "version": 3
   },
   "file_extension": ".py",
   "mimetype": "text/x-python",
   "name": "python",
   "nbconvert_exporter": "python",
   "pygments_lexer": "ipython3",
   "version": "3.8.10"
  }
 },
 "nbformat": 4,
 "nbformat_minor": 4
}
