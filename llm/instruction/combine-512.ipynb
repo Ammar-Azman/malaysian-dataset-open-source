{
 "cells": [
  {
   "cell_type": "code",
   "execution_count": 1,
   "metadata": {},
   "outputs": [],
   "source": [
    "from glob import glob\n",
    "import json\n",
    "import random"
   ]
  },
  {
   "cell_type": "code",
   "execution_count": 2,
   "metadata": {},
   "outputs": [],
   "source": [
    "fopen_l = open('combine-512.jsonl', 'w')"
   ]
  },
  {
   "cell_type": "code",
   "execution_count": 3,
   "metadata": {},
   "outputs": [],
   "source": [
    "def accept(d):\n",
    "    if 'terjemahkan teks' in d.lower():\n",
    "        return False\n",
    "\n",
    "    if 'no need to translate' in d.lower():\n",
    "        return False\n",
    "\n",
    "    if 'can be translated' in d.lower():\n",
    "        return False\n",
    "\n",
    "    if 'cannot translate' in d.lower():\n",
    "        return False\n",
    "\n",
    "    if 'should be translated to' in d.lower():\n",
    "        return False\n",
    "\n",
    "    if 'cannot be translated' in d.lower():\n",
    "        return False\n",
    "\n",
    "    if 'standard malay' in d.lower():\n",
    "        return False\n",
    "\n",
    "    if 'would not be translated' in d.lower():\n",
    "        return False\n",
    "\n",
    "    if 'as an AI language model' in d:\n",
    "        return False\n",
    "\n",
    "    if 'should be translated as' in d.lower():\n",
    "        return False\n",
    "\n",
    "    if 'Bahasa Malaysia Standard' in d:\n",
    "        return False\n",
    "    \n",
    "    if d == '<s>':\n",
    "        return False\n",
    "    \n",
    "    if len(d.split()) < 10:\n",
    "        return False\n",
    "    \n",
    "    return True"
   ]
  },
  {
   "cell_type": "code",
   "execution_count": 4,
   "metadata": {},
   "outputs": [],
   "source": [
    "with open('partition-512.jsonl') as fopen:\n",
    "    for l in fopen:\n",
    "        if random.random() < 0.6:\n",
    "            continue\n",
    "        \n",
    "        data = json.loads(l)\n",
    "        if not accept(data['input']):\n",
    "            continue\n",
    "        fopen_l.write(f'{json.dumps(data)}\\n')\n",
    "        fopen_l.flush()"
   ]
  },
  {
   "cell_type": "code",
   "execution_count": 5,
   "metadata": {
    "scrolled": true
   },
   "outputs": [
    {
     "name": "stdout",
     "output_type": "stream",
     "text": [
      "420033 combine-512.jsonl\r\n"
     ]
    }
   ],
   "source": [
    "!wc -l combine-512.jsonl"
   ]
  },
  {
   "cell_type": "code",
   "execution_count": 6,
   "metadata": {},
   "outputs": [],
   "source": [
    "files = [\n",
    "    'prepared-parliament-qa.jsonl',\n",
    "    'prepared-common-crawl-qa.jsonl',\n",
    "    'prepared-gpt4all-code.jsonl',\n",
    "]"
   ]
  },
  {
   "cell_type": "code",
   "execution_count": 7,
   "metadata": {},
   "outputs": [
    {
     "name": "stdout",
     "output_type": "stream",
     "text": [
      "prepared-parliament-qa.jsonl\n",
      "prepared-common-crawl-qa.jsonl\n",
      "prepared-gpt4all-code.jsonl\n"
     ]
    }
   ],
   "source": [
    "for f in files:\n",
    "    print(f)\n",
    "    with open(f) as fopen:\n",
    "        for l in fopen:\n",
    "            try:\n",
    "                if random.random() < 0.85:\n",
    "                    continue\n",
    "\n",
    "                data = json.loads(l)\n",
    "                if not accept(data['input']):\n",
    "                    continue\n",
    "                if not accept(data['output']):\n",
    "                    continue\n",
    "                fopen_l.write(f'{json.dumps(data)}\\n')\n",
    "                fopen_l.flush()\n",
    "            except:\n",
    "                pass"
   ]
  },
  {
   "cell_type": "code",
   "execution_count": 8,
   "metadata": {},
   "outputs": [
    {
     "name": "stdout",
     "output_type": "stream",
     "text": [
      "498603 combine-512.jsonl\r\n"
     ]
    }
   ],
   "source": [
    "!wc -l combine-512.jsonl"
   ]
  },
  {
   "cell_type": "code",
   "execution_count": 9,
   "metadata": {},
   "outputs": [
    {
     "name": "stdout",
     "output_type": "stream",
     "text": [
      "prepared-translation.jsonl\n",
      "prepared-sentiment.jsonl\n"
     ]
    }
   ],
   "source": [
    "for f in ['prepared-translation.jsonl', 'prepared-sentiment.jsonl']:\n",
    "    print(f)\n",
    "    with open(f) as fopen:\n",
    "        for l in fopen:\n",
    "            try:\n",
    "                if random.random() < 0.7:\n",
    "                    continue\n",
    "\n",
    "                data = json.loads(l)\n",
    "                if not accept(data['input']):\n",
    "                    continue\n",
    "                if not accept(data['output']):\n",
    "                    continue\n",
    "                fopen_l.write(f'{json.dumps(data)}\\n')\n",
    "                fopen_l.flush()\n",
    "            except:\n",
    "                pass"
   ]
  },
  {
   "cell_type": "code",
   "execution_count": 10,
   "metadata": {},
   "outputs": [
    {
     "name": "stdout",
     "output_type": "stream",
     "text": [
      "607352 combine-512.jsonl\r\n"
     ]
    }
   ],
   "source": [
    "!wc -l combine-512.jsonl"
   ]
  },
  {
   "cell_type": "code",
   "execution_count": 11,
   "metadata": {},
   "outputs": [],
   "source": [
    "with open('prepared-gpt4all-v1.3.jsonl') as fopen:\n",
    "    for l in fopen:\n",
    "        if random.random() < 0.95:\n",
    "            continue\n",
    "        \n",
    "        data = json.loads(l)\n",
    "        if not accept(data['input']):\n",
    "            continue\n",
    "        if not accept(data['output']):\n",
    "            continue\n",
    "        fopen_l.write(f'{json.dumps(data)}\\n')\n",
    "        fopen_l.flush()"
   ]
  },
  {
   "cell_type": "code",
   "execution_count": 12,
   "metadata": {
    "scrolled": true
   },
   "outputs": [
    {
     "name": "stdout",
     "output_type": "stream",
     "text": [
      "625489 combine-512.jsonl\r\n"
     ]
    }
   ],
   "source": [
    "!wc -l combine-512.jsonl"
   ]
  },
  {
   "cell_type": "code",
   "execution_count": 13,
   "metadata": {},
   "outputs": [],
   "source": [
    "!shuf combine-512.jsonl > shuf-combine-512.jsonl"
   ]
  },
  {
   "cell_type": "code",
   "execution_count": 14,
   "metadata": {},
   "outputs": [
    {
     "name": "stdout",
     "output_type": "stream",
     "text": [
      "{\"prompt_input\": null, \"input\": \"leh audien adalah berbeza kerana memiliki latar belakang yang \\nberbeza.\\n\\nMelalui pendekatan ini audien dianggap sebagai komuniti yang mampu \\nmenghasilkan interpretasi berdasarkan pengalaman yang sedia ada dan \\nproses ini dikenali dengan proses enkod dan dekod. Proses interpretasi \\nini sebenarnya menumpukan perhatian kepada persoalan kuasa terutama \\nidea bagaimana proses enkod hanya menyenaraikan makna-makna \\nterpilih dan tertentu yang berasaskan kepada sistem dan nilai ideologi \\nyang dominan dalam sesebuah masyarakat. Dalam filem Nujum Pak \\nBelalang sendiri misalnya, majoriti penonton hanya menginterpretasi teks \\nsebagai* sebuah filem komedi ringan yang menghiburkan. Oleh yang \\ndemikian mereka tidak cenderung untuk menginterpretasi teks lebih dari \\nsebuah filem komedi. Selain itu, penghormatan yang diberikan sebagai \\nseorang simbol 'Seniman Agung Negara' telah meletakkan filem-filem \\nyang dilakon dan diarahkan beliau seringkali menerimapandangan positif. \\nOleh yang demikian masyarakat umum, khususnya masyarakat Malaysia, \\nlebih selesa meletakkan filem-filem komedi P. Ramlee sebagai filem \\nkomedi yang berjaya tanpa memikirkan ideologi sosial yang terkandung \\ndalam teks.\\n\\nSelain itu, filem ini turut mengandungi penyimpangan erti {diverse \\nmeaning) ketika babak sultan yang telah\", \"output\": null}\r\n",
      "{\"prompt_input\": \"Di bawah ialah arahan yang menerangkan tugasan. Tulis jawapan yang sesuai dengan arahan tersebut.\\n\\n### Arahan:\\n{instruction}\\n\\n### Jawapan:\\n\", \"input\": \"paragraph `Dato' Sri Bung Moktar bin Radin [Kinabatangan]: ...yang penting Pengerusi. itu benar-benar telus melaksanakan tugas dan tanggungjawab dia. Kalau bagi Yang Berhormat Jelutong pun tidak pasti perkara ini dapat diselesaikan. Dato' Seri Dr. Shahidan bin Kassim [Arau]: Lagi teruk. Dato' Sri Bung Moktar bin Radin [Kinabatangan]: Saya tidak cakap teruk, itu Yang Berhormat Arau yang cakap. [Ketawa]. Tuan Yang di-Pertua, saya percaya siapa juga yang mengemudi PAC ini, saya yakin mereka harus menjalankan amanah dan tanggungjawab itu sebab amanah rakyat. Jangan khianati amanah rakyat. Kita ini dipilih oleh rakyat. Kalau kita khianati amanah rakyat sudah tentu pilihan raya yang akan datang kita akan ditolak oleh rakyat. Contoh tidak mengkhianati rakyat Yang Berhormat Arau dan Kinabatangan sebab itu kami kekal menang ribu-ribu undi, rakyat suka kita. Kita jaga rakyat. Yang Berhormat Arau ini sudah enam penggal, tujuh penggal, saya pun tidak tahu tapi dia masih bertahan. Dia lebih hebat dalam hujah-hujah dia. Boleh dikatakan semua kementerian dia bahas. Saya pun... Tuan Karupaiya a/l Mutusami [Padang Serai]: Patut dia dibagi Menteri lah. Bagi Menteri sama dia sekarang. Dato' Seri Tiong King Sing [Bintulu]: Boleh kasi kah?. Dato' Sri Bung Moktar bin Radin [Kinabatangan]: Boleh. Tuan Yang di-Pertua: Terima kasih. Dato' Seri Tiong King Sing [Bintulu]: Terima kasih Tuan Yang di-Pertua, Yang Berhormat Kinabatangan setuju tidak kalau PAC Chairman- kalau perangai kongkalikung sama itu bekas Yang Berhormat Menteri Kewangan, hari-hari menipu nanti jadi PAC Chairman, hitam memang hitam, putih nanti jadi hitam. Macam mana kita punya pandangan?. Tuan Sanisvara Nethaji Rayer a/l Rajaji [Jelutong]: Tuan Yang di-Pertua, saya tidak mahu menggunakan peraturanlah. Saya minta dia tarik balik kenyataan mantan Yang Berhormat Menteri Kewangan menipu. Dato' Seri Tiong King Sing [Bintulu]: Apa tidak menipu... Tuan Sanisvara Nethaji Rayer a/l Rajaji [Jelutong]: Baru tadi... Dato' Seri Tiong King Sing [Bintulu]: ...mula-mula kata dia tidak ada direct award. Memang sekarang buktikan ada direct award. Ini manifesto pun cakap tidak ada. Macam mana? Hey, ini bukan tipu. Jadi, apa?. Tuan Sanisvara Nethaji Rayer a/l Rajaji [Jelutong]: Tuan Yang di-Pertua... Puan Wong Shu Qi [Kluang]: Yang Berhormat Bintulu baca manifesto kami dulu lah jangan cakap dekat sini. Tuan Sanisvara Nethaji Rayer a/l Rajaji [Jelutong]: Come on-lah, baru tadi Tuan Yang di-Pertua Yang Berhormat Baling kata jangan guna... Dato' Seri Tiong King Sing [Bintulu]: Baca apa- mana manifesto kasi sama saya baca?. [Pembesar suara dimatikan]. Tuan Yang di-Pertua: Tolong, tolong. Saya rasa kita- saya akan sampaikan petua tentang perkara itu... Tuan Sanisvara Nethaji Rayer a/l Rajaji [Jelutong]: Kalau Yang Berhormat Bintulu tidak ada apa hendak bahas duduk diam,diam. Tuan Yang di-Pertua: Boleh kita habiskan perbahasan. Dato' Sri Bung Moktar bin Radin [Kinabatangan]: Ya, saya gulung Tuan Yang di-Pertua. Relax, relax kita mahu hari terakhir ini kita relax. Yang Berhormat Jelutong dan Yang Berhormat Bintulu relax sikit. Tuan Yang di-Pertua: Yang Berhormat Kinabatangan seminit, seminit. Dato' Sri Bung Moktar bin Radin [Kinabatangan]: Apa yang penting Tuan Yang di-Pertua, bahawa- itu saya kata rakyat di luar sana tidak lagi boleh kita diperkotak- katikkan minda mereka. Mereka sudah faham siapa yang menipu, siapa yang bercakap bohong. Mereka tahu. Jadi, tunggulah, insya-Allah PRU akan datang bila-bila kita.`, Yang Berhormat Bintulu sebut manifesto apa?\", \"output\": \"Yang Berhormat Bintulu menyebutkan bahawa manifesto tidak menyatakan ada direct award, tetapi sekarang buktikan ada direct award. Ini bukan tipu.\"}\r\n",
      "{\"prompt_input\": null, \"input\": \"and this has an impact on SME business performance.\\n\\nThis article seeks to discuss the determinants of intent to succeed among Muslim SMEs in Malaysia. In\\n\\naddition, this article attempts to discuss the role of demographic variables on intentions to succeed\\n\\namong managers and owners of Muslim small and medium enterprises (SMEs). To achieve the\\n\\nobjectives of the study, TPB (Theory of Planned Behaviour) was applied by analyzing past studies by\\n\\nproposing several determinants of attitude (ATT), Subjective Norms (SN) and Perceived Behavioral\\n\\nControl (PBC) towards intentions to succeed among Muslim SMEs. Next, the study attempts to discuss\\n\\nthe role of demographics in the determinant model of intention to succeed among Muslim SMEs by\\n\\nanalyzing the variables of age, education and gender in the study model. This empirical study is\\n\\nexpected to contribute to the theory of SMEs for future studies.   Keywords: Financial Literacy, Islamic Financial Literacy, Theory of Planned Behavior (TBP)   PENGENALAN\\n\\nDi Malaysia terdapat pelbagai etnik yang mana majoritinya ialah etnik melayu yang dikategorikan\\n\\nsebagai bumiputera muslim. Sejarah awal usahawan Muslim di Malaysia merangkumi perbincangan\\n\\nberkaitan usahawan Melayu, usahawan Cina Muslim dan juga usahawan India Muslim. Usahawan\\n\\nMuslim ini memainkan peranan di dalam menyumbang kepada perkembangan ekonomi negara\\n\\nterutamanya memajukan PKS di Malaysia. Secara umumnya Perusahaan Kecil dan Sederhana (PKS)\\n\\nmikro merujuk kepada sesuatu perniagaan yang mencatatkan jumlah jualan yang tidak melebihi\\n\\nRM300,000 atau mempunyai jumlah pekerja seramai 5 orang yang bekerja secara sepenuh mas\", \"output\": null}\r\n"
     ]
    }
   ],
   "source": [
    "!head -n 3 shuf-combine-512.jsonl"
   ]
  },
  {
   "cell_type": "code",
   "execution_count": null,
   "metadata": {},
   "outputs": [],
   "source": []
  }
 ],
 "metadata": {
  "kernelspec": {
   "display_name": "Python 3 (ipykernel)",
   "language": "python",
   "name": "python3"
  },
  "language_info": {
   "codemirror_mode": {
    "name": "ipython",
    "version": 3
   },
   "file_extension": ".py",
   "mimetype": "text/x-python",
   "name": "python",
   "nbconvert_exporter": "python",
   "pygments_lexer": "ipython3",
   "version": "3.8.10"
  }
 },
 "nbformat": 4,
 "nbformat_minor": 4
}
