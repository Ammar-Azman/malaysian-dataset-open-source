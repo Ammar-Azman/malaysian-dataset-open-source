{
 "cells": [
  {
   "cell_type": "code",
   "execution_count": 1,
   "metadata": {},
   "outputs": [],
   "source": [
    "# !wget https://huggingface.co/datasets/mesolitica/malaysia-hansard-qa/resolve/main/hansard-qa.json"
   ]
  },
  {
   "cell_type": "code",
   "execution_count": 3,
   "metadata": {},
   "outputs": [
    {
     "name": "stderr",
     "output_type": "stream",
     "text": [
      "2023-07-25 12:53:44.014772: I tensorflow/core/platform/cpu_feature_guard.cc:193] This TensorFlow binary is optimized with oneAPI Deep Neural Network Library (oneDNN) to use the following CPU instructions in performance-critical operations:  AVX2 AVX512F AVX512_VNNI FMA\n",
      "To enable them in other operations, rebuild TensorFlow with the appropriate compiler flags.\n",
      "2023-07-25 12:53:44.201822: I tensorflow/core/util/port.cc:104] oneDNN custom operations are on. You may see slightly different numerical results due to floating-point round-off errors from different computation orders. To turn them off, set the environment variable `TF_ENABLE_ONEDNN_OPTS=0`.\n",
      "2023-07-25 12:53:45.116100: W tensorflow/compiler/xla/stream_executor/platform/default/dso_loader.cc:64] Could not load dynamic library 'libnvinfer.so.7'; dlerror: libnvinfer.so.7: cannot open shared object file: No such file or directory\n",
      "2023-07-25 12:53:45.116382: W tensorflow/compiler/xla/stream_executor/platform/default/dso_loader.cc:64] Could not load dynamic library 'libnvinfer_plugin.so.7'; dlerror: libnvinfer_plugin.so.7: cannot open shared object file: No such file or directory\n",
      "2023-07-25 12:53:45.116388: W tensorflow/compiler/tf2tensorrt/utils/py_utils.cc:38] TF-TRT Warning: Cannot dlopen some TensorRT libraries. If you would like to use Nvidia GPU with TensorRT, please make sure the missing libraries mentioned above are installed properly.\n",
      "/home/ubuntu/.local/lib/python3.8/site-packages/tensorflow_addons/utils/ensure_tf_install.py:53: UserWarning: Tensorflow Addons supports using Python ops for all Tensorflow versions above or equal to 2.4.0 and strictly below 2.7.0 (nightly versions are not supported). \n",
      " The versions of TensorFlow you are currently using is 2.11.0 and is not supported. \n",
      "Some things might work, some things might not.\n",
      "If you were to encounter a bug, do not file an issue.\n",
      "If you want to make sure you're using a tested and supported configuration, either change the TensorFlow version or the TensorFlow Addons's version. \n",
      "You can find the compatibility matrix in TensorFlow Addon's readme:\n",
      "https://github.com/tensorflow/addons\n",
      "  warnings.warn(\n",
      "/home/ubuntu/.local/lib/python3.8/site-packages/tensorflow_addons/utils/resource_loader.py:78: UserWarning: You are currently using TensorFlow 2.11.0 and trying to load a custom op (custom_ops/seq2seq/_beam_search_ops.so).\n",
      "TensorFlow Addons has compiled its custom ops against TensorFlow 2.6.0, and there are no compatibility guarantees between the two versions. \n",
      "This means that you might get segfaults when loading the custom op, or other kind of low-level errors.\n",
      " If you do, do not file an issue on Github. This is a known limitation.\n",
      "\n",
      "It might help you to fallback to pure Python ops by setting environment variable `TF_ADDONS_PY_OPS=1` or using `tfa.options.disable_custom_kernel()` in your code. To do that, see https://github.com/tensorflow/addons#gpucpu-custom-ops \n",
      "\n",
      "You can also change the TensorFlow version installed on your system. You would need a TensorFlow version equal to or above 2.6.0 and strictly below 2.7.0.\n",
      " Note that nightly versions of TensorFlow, as well as non-pip TensorFlow like `conda install tensorflow` or compiled from source are not supported.\n",
      "\n",
      "The last solution is to find the TensorFlow Addons version that has custom ops compatible with the TensorFlow installed on your system. To do that, refer to the readme: https://github.com/tensorflow/addons\n",
      "  warnings.warn(\n",
      "Cannot import beam_search_ops from Tensorflow Addons, ['malaya.jawi_rumi.deep_model', 'malaya.phoneme.deep_model', 'malaya.rumi_jawi.deep_model', 'malaya.stem.deep_model'] will not available to use, make sure Tensorflow Addons version >= 0.12.0\n",
      "check compatible Tensorflow version with Tensorflow Addons at https://github.com/tensorflow/addons/releases\n"
     ]
    }
   ],
   "source": [
    "import malaya\n",
    "\n",
    "model = malaya.augmentation.abstractive.huggingface(model = 'mesolitica/translation-t5-small-standard-bahasa-cased')"
   ]
  },
  {
   "cell_type": "code",
   "execution_count": 10,
   "metadata": {},
   "outputs": [],
   "source": [
    "_ = model.cuda()\n",
    "_ = model.model.eval()"
   ]
  },
  {
   "cell_type": "code",
   "execution_count": 12,
   "metadata": {},
   "outputs": [
    {
     "data": {
      "text/plain": [
       "['Apakah makna nama Guinness',\n",
       " \"Ckp 'Guinness' tu?\",\n",
       " '\"Guinness\" ni apa maknanya',\n",
       " 'makna tu nama guaness ka?',\n",
       " \"Nama 'Guinness' tu apa maknanya\"]"
      ]
     },
     "execution_count": 12,
     "metadata": {},
     "output_type": "execute_result"
    }
   ],
   "source": [
    "def generate_noisy(text):\n",
    "    g = model.generate([text],to_lang = 'pasar ms',\n",
    "              max_length = 512, do_sample=True, top_k=100, top_p=0.95, temperature=0.7,\n",
    "              num_return_sequences=5)\n",
    "    result = []\n",
    "    for g_ in g:\n",
    "        splitted = g_.split()\n",
    "        splitted = [s for s in splitted if s[0] !='@']\n",
    "        s = ' '.join(splitted)\n",
    "        if len(s):\n",
    "            result.append(s)\n",
    "    return result\n",
    "\n",
    "generate_noisy(\"Apakah makna nama 'Guinness'?\")"
   ]
  },
  {
   "cell_type": "code",
   "execution_count": 2,
   "metadata": {},
   "outputs": [],
   "source": [
    "with open('hansard-qa.json') as fopen:\n",
    "    hansard = json.load(fopen)"
   ]
  },
  {
   "cell_type": "code",
   "execution_count": 13,
   "metadata": {},
   "outputs": [
    {
     "data": {
      "text/plain": [
       "42440"
      ]
     },
     "execution_count": 13,
     "metadata": {},
     "output_type": "execute_result"
    }
   ],
   "source": [
    "len(hansard)"
   ]
  },
  {
   "cell_type": "code",
   "execution_count": 16,
   "metadata": {},
   "outputs": [],
   "source": [
    "template_malaya = {\n",
    "    'description': 'Template used by Malaya.',\n",
    "    'prompt_input': 'Di bawah ialah arahan yang menerangkan tugasan, termasuk dengan input yang menyediakan konteks lanjut. Tulis jawapan yang sesuai dengan arahan tersebut.\\n\\n### Arahan:\\n{instruction}\\n\\n### Input:\\n{input}\\n\\n### Jawapan:\\n',\n",
    "    'prompt_no_input': 'Di bawah ialah arahan yang menerangkan tugasan. Tulis jawapan yang sesuai dengan arahan tersebut.\\n\\n### Arahan:\\n{instruction}\\n\\n### Jawapan:\\n',\n",
    "    'response_split': '### Jawapan:',\n",
    "}"
   ]
  },
  {
   "cell_type": "code",
   "execution_count": 22,
   "metadata": {},
   "outputs": [],
   "source": [
    "import json\n",
    "import random\n",
    "from tqdm import tqdm"
   ]
  },
  {
   "cell_type": "code",
   "execution_count": 28,
   "metadata": {},
   "outputs": [
    {
     "name": "stderr",
     "output_type": "stream",
     "text": [
      "  5%|████▎                                                                                        | 1943/42440 [19:43<4:03:55,  2.77it/s]"
     ]
    },
    {
     "name": "stdout",
     "output_type": "stream",
     "text": [
      "Unterminated string starting at: line 12 column 17 (char 764)\n"
     ]
    },
    {
     "name": "stderr",
     "output_type": "stream",
     "text": [
      "  6%|█████▊                                                                                       | 2678/42440 [27:14<3:26:53,  3.20it/s]"
     ]
    },
    {
     "name": "stdout",
     "output_type": "stream",
     "text": [
      "Expecting ',' delimiter: line 13 column 109 (char 1293)\n"
     ]
    },
    {
     "name": "stderr",
     "output_type": "stream",
     "text": [
      "  7%|██████▌                                                                                      | 3013/42440 [30:53<9:06:08,  1.20it/s]"
     ]
    },
    {
     "name": "stdout",
     "output_type": "stream",
     "text": [
      "Expecting value: line 9 column 18 (char 638)\n"
     ]
    },
    {
     "name": "stderr",
     "output_type": "stream",
     "text": [
      "  7%|██████▉                                                                                      | 3150/42440 [32:28<4:30:14,  2.42it/s]"
     ]
    },
    {
     "name": "stdout",
     "output_type": "stream",
     "text": [
      "Expecting value: line 9 column 18 (char 408)\n"
     ]
    },
    {
     "name": "stderr",
     "output_type": "stream",
     "text": [
      " 12%|██████████▊                                                                                  | 4958/42440 [51:37<6:10:45,  1.68it/s]"
     ]
    },
    {
     "name": "stdout",
     "output_type": "stream",
     "text": [
      "Expecting ',' delimiter: line 13 column 448 (char 1487)\n"
     ]
    },
    {
     "name": "stderr",
     "output_type": "stream",
     "text": [
      " 14%|████████████▌                                                                              | 5842/42440 [1:01:29<2:38:23,  3.85it/s]"
     ]
    },
    {
     "name": "stdout",
     "output_type": "stream",
     "text": [
      "Expecting ',' delimiter: line 9 column 20 (char 261)\n"
     ]
    },
    {
     "name": "stderr",
     "output_type": "stream",
     "text": [
      " 15%|█████████████▍                                                                             | 6277/42440 [1:06:01<2:31:07,  3.99it/s]"
     ]
    },
    {
     "name": "stdout",
     "output_type": "stream",
     "text": [
      "Expecting ',' delimiter: line 5 column 475 (char 571)\n"
     ]
    },
    {
     "name": "stderr",
     "output_type": "stream",
     "text": [
      " 15%|█████████████▊                                                                             | 6469/42440 [1:08:10<3:01:24,  3.30it/s]"
     ]
    },
    {
     "name": "stdout",
     "output_type": "stream",
     "text": [
      "Expecting value: line 9 column 18 (char 421)\n"
     ]
    },
    {
     "name": "stderr",
     "output_type": "stream",
     "text": [
      " 15%|█████████████▉                                                                             | 6495/42440 [1:08:18<3:32:58,  2.81it/s]"
     ]
    },
    {
     "name": "stdout",
     "output_type": "stream",
     "text": [
      "Expecting ',' delimiter: line 9 column 96 (char 484)\n"
     ]
    },
    {
     "name": "stderr",
     "output_type": "stream",
     "text": [
      " 16%|██████████████▌                                                                            | 6780/42440 [1:11:11<3:43:29,  2.66it/s]"
     ]
    },
    {
     "name": "stdout",
     "output_type": "stream",
     "text": [
      "Expecting value: line 9 column 18 (char 312)\n"
     ]
    },
    {
     "name": "stderr",
     "output_type": "stream",
     "text": [
      " 16%|██████████████▌                                                                            | 6795/42440 [1:11:17<3:53:15,  2.55it/s]"
     ]
    },
    {
     "name": "stdout",
     "output_type": "stream",
     "text": [
      "Expecting ',' delimiter: line 13 column 47 (char 1120)\n"
     ]
    },
    {
     "name": "stderr",
     "output_type": "stream",
     "text": [
      " 25%|██████████████████████▉                                                                   | 10798/42440 [1:53:07<3:29:42,  2.51it/s]"
     ]
    },
    {
     "name": "stdout",
     "output_type": "stream",
     "text": [
      "Expecting ',' delimiter: line 13 column 77 (char 1028)\n"
     ]
    },
    {
     "name": "stderr",
     "output_type": "stream",
     "text": [
      " 26%|██████████████████████▉                                                                   | 10825/42440 [1:53:24<5:06:21,  1.72it/s]"
     ]
    },
    {
     "name": "stdout",
     "output_type": "stream",
     "text": [
      "Expecting ',' delimiter: line 4 column 35 (char 56)\n"
     ]
    },
    {
     "name": "stderr",
     "output_type": "stream",
     "text": [
      " 27%|████████████████████████▋                                                                 | 11665/42440 [2:03:24<2:43:22,  3.14it/s]"
     ]
    },
    {
     "name": "stdout",
     "output_type": "stream",
     "text": [
      "Expecting ',' delimiter: line 12 column 57 (char 677)\n"
     ]
    },
    {
     "name": "stderr",
     "output_type": "stream",
     "text": [
      " 31%|███████████████████████████▊                                                              | 13094/42440 [2:18:09<5:11:40,  1.57it/s]"
     ]
    },
    {
     "name": "stdout",
     "output_type": "stream",
     "text": [
      "Expecting property name enclosed in double quotes: line 6 column 5 (char 687)\n"
     ]
    },
    {
     "name": "stderr",
     "output_type": "stream",
     "text": [
      " 32%|████████████████████████████▍                                                             | 13398/42440 [2:21:28<5:22:50,  1.50it/s]"
     ]
    },
    {
     "name": "stdout",
     "output_type": "stream",
     "text": [
      "Expecting ',' delimiter: line 13 column 145 (char 1197)\n"
     ]
    },
    {
     "name": "stderr",
     "output_type": "stream",
     "text": [
      " 34%|██████████████████████████████▌                                                           | 14441/42440 [2:32:32<1:37:00,  4.81it/s]"
     ]
    },
    {
     "name": "stdout",
     "output_type": "stream",
     "text": [
      "Extra data: line 18 column 1 (char 1295)\n"
     ]
    },
    {
     "name": "stderr",
     "output_type": "stream",
     "text": [
      " 35%|███████████████████████████████▎                                                          | 14757/42440 [2:35:54<3:57:55,  1.94it/s]"
     ]
    },
    {
     "name": "stdout",
     "output_type": "stream",
     "text": [
      "Extra data: line 18 column 1 (char 697)\n"
     ]
    },
    {
     "name": "stderr",
     "output_type": "stream",
     "text": [
      " 38%|██████████████████████████████████▍                                                       | 16214/42440 [2:50:14<3:51:07,  1.89it/s]"
     ]
    },
    {
     "name": "stdout",
     "output_type": "stream",
     "text": [
      "Expecting value: line 9 column 18 (char 594)\n"
     ]
    },
    {
     "name": "stderr",
     "output_type": "stream",
     "text": [
      " 38%|██████████████████████████████████▌                                                       | 16292/42440 [2:50:52<3:56:12,  1.84it/s]"
     ]
    },
    {
     "name": "stdout",
     "output_type": "stream",
     "text": [
      "Expecting ',' delimiter: line 4 column 50 (char 71)\n"
     ]
    },
    {
     "name": "stderr",
     "output_type": "stream",
     "text": [
      " 41%|████████████████████████████████████▋                                                     | 17316/42440 [3:02:37<8:37:11,  1.24s/it]"
     ]
    },
    {
     "name": "stdout",
     "output_type": "stream",
     "text": [
      "Extra data: line 18 column 1 (char 870)\n"
     ]
    },
    {
     "name": "stderr",
     "output_type": "stream",
     "text": [
      " 42%|█████████████████████████████████████▋                                                    | 17784/42440 [3:08:04<6:28:23,  1.06it/s]"
     ]
    },
    {
     "name": "stdout",
     "output_type": "stream",
     "text": [
      "Expecting value: line 13 column 18 (char 610)\n"
     ]
    },
    {
     "name": "stderr",
     "output_type": "stream",
     "text": [
      " 44%|███████████████████████████████████████▏                                                  | 18473/42440 [3:14:48<3:38:41,  1.83it/s]"
     ]
    },
    {
     "name": "stdout",
     "output_type": "stream",
     "text": [
      "Expecting ',' delimiter: line 13 column 204 (char 1251)\n"
     ]
    },
    {
     "name": "stderr",
     "output_type": "stream",
     "text": [
      " 45%|████████████████████████████████████████▏                                                 | 18980/42440 [3:21:08<3:40:16,  1.77it/s]"
     ]
    },
    {
     "name": "stdout",
     "output_type": "stream",
     "text": [
      "Expecting ',' delimiter: line 4 column 50 (char 71)\n"
     ]
    },
    {
     "name": "stderr",
     "output_type": "stream",
     "text": [
      " 45%|████████████████████████████████████████▊                                                 | 19236/42440 [3:24:34<3:04:15,  2.10it/s]"
     ]
    },
    {
     "name": "stdout",
     "output_type": "stream",
     "text": [
      "Extra data: line 18 column 1 (char 976)\n"
     ]
    },
    {
     "name": "stderr",
     "output_type": "stream",
     "text": [
      " 50%|█████████████████████████████████████████████                                             | 21221/42440 [3:43:06<2:22:06,  2.49it/s]"
     ]
    },
    {
     "name": "stdout",
     "output_type": "stream",
     "text": [
      "Extra data: line 18 column 1 (char 1810)\n"
     ]
    },
    {
     "name": "stderr",
     "output_type": "stream",
     "text": [
      " 51%|█████████████████████████████████████████████▌                                            | 21498/42440 [3:45:53<3:58:23,  1.46it/s]"
     ]
    },
    {
     "name": "stdout",
     "output_type": "stream",
     "text": [
      "Extra data: line 18 column 1 (char 947)\n"
     ]
    },
    {
     "name": "stderr",
     "output_type": "stream",
     "text": [
      " 53%|███████████████████████████████████████████████▍                                          | 22375/42440 [3:55:06<2:05:18,  2.67it/s]"
     ]
    },
    {
     "name": "stdout",
     "output_type": "stream",
     "text": [
      "Expecting property name enclosed in double quotes: line 6 column 5 (char 592)\n"
     ]
    },
    {
     "name": "stderr",
     "output_type": "stream",
     "text": [
      " 53%|███████████████████████████████████████████████▊                                          | 22534/42440 [3:56:48<6:00:24,  1.09s/it]"
     ]
    },
    {
     "name": "stdout",
     "output_type": "stream",
     "text": [
      "Expecting ',' delimiter: line 13 column 84 (char 992)\n"
     ]
    },
    {
     "name": "stderr",
     "output_type": "stream",
     "text": [
      " 54%|████████████████████████████████████████████████▋                                         | 22934/42440 [4:00:49<3:04:16,  1.76it/s]"
     ]
    },
    {
     "name": "stdout",
     "output_type": "stream",
     "text": [
      "Expecting value: line 13 column 18 (char 1069)\n"
     ]
    },
    {
     "name": "stderr",
     "output_type": "stream",
     "text": [
      " 56%|██████████████████████████████████████████████████▏                                       | 23639/42440 [4:08:49<5:03:18,  1.03it/s]"
     ]
    },
    {
     "name": "stdout",
     "output_type": "stream",
     "text": [
      "Expecting property name enclosed in double quotes: line 6 column 5 (char 666)\n"
     ]
    },
    {
     "name": "stderr",
     "output_type": "stream",
     "text": [
      " 58%|███████████████████████████████████████████████████▍                                     | 24509/42440 [4:17:33<11:00:40,  2.21s/it]"
     ]
    },
    {
     "name": "stdout",
     "output_type": "stream",
     "text": [
      "Expecting ',' delimiter: line 9 column 97 (char 452)\n"
     ]
    },
    {
     "name": "stderr",
     "output_type": "stream",
     "text": [
      " 58%|████████████████████████████████████████████████████▏                                     | 24594/42440 [4:18:18<1:43:53,  2.86it/s]"
     ]
    },
    {
     "name": "stdout",
     "output_type": "stream",
     "text": [
      "Expecting value: line 9 column 18 (char 638)\n"
     ]
    },
    {
     "name": "stderr",
     "output_type": "stream",
     "text": [
      " 58%|████████████████████████████████████████████████████▍                                     | 24718/42440 [4:19:40<3:35:55,  1.37it/s]"
     ]
    },
    {
     "name": "stdout",
     "output_type": "stream",
     "text": [
      "Expecting value: line 1 column 1 (char 0)\n"
     ]
    },
    {
     "name": "stderr",
     "output_type": "stream",
     "text": [
      " 60%|█████████████████████████████████████████████████████▊                                    | 25390/42440 [4:26:58<5:12:11,  1.10s/it]"
     ]
    },
    {
     "name": "stdout",
     "output_type": "stream",
     "text": [
      "Expecting ',' delimiter: line 13 column 75 (char 963)\n"
     ]
    },
    {
     "name": "stderr",
     "output_type": "stream",
     "text": [
      " 63%|████████████████████████████████████████████████████████▌                                 | 26688/42440 [4:45:52<4:34:24,  1.05s/it]IOPub message rate exceeded.\n",
      "The notebook server will temporarily stop sending output\n",
      "to the client in order to avoid crashing it.\n",
      "To change this limit, set the config variable\n",
      "`--NotebookApp.iopub_msg_rate_limit`.\n",
      "\n",
      "Current values:\n",
      "NotebookApp.iopub_msg_rate_limit=1000.0 (msgs/sec)\n",
      "NotebookApp.rate_limit_window=3.0 (secs)\n",
      "\n",
      " 77%|████████████████████████████████████████████████████████████████████▊                     | 32472/42440 [6:23:50<2:20:33,  1.18it/s]"
     ]
    },
    {
     "name": "stdout",
     "output_type": "stream",
     "text": [
      "Expecting ',' delimiter: line 9 column 530 (char 823)\n"
     ]
    },
    {
     "name": "stderr",
     "output_type": "stream",
     "text": [
      " 77%|█████████████████████████████████████████████████████████████████████▎                    | 32687/42440 [6:26:38<1:45:13,  1.54it/s]"
     ]
    },
    {
     "name": "stdout",
     "output_type": "stream",
     "text": [
      "Expecting value: line 9 column 18 (char 507)\n"
     ]
    },
    {
     "name": "stderr",
     "output_type": "stream",
     "text": [
      " 77%|█████████████████████████████████████████████████████████████████████▍                    | 32748/42440 [6:27:35<1:14:57,  2.15it/s]"
     ]
    },
    {
     "name": "stdout",
     "output_type": "stream",
     "text": [
      "Expecting value: line 9 column 18 (char 494)\n"
     ]
    },
    {
     "name": "stderr",
     "output_type": "stream",
     "text": [
      " 78%|██████████████████████████████████████████████████████████████████████▍                   | 33236/42440 [6:33:56<1:24:00,  1.83it/s]"
     ]
    },
    {
     "name": "stdout",
     "output_type": "stream",
     "text": [
      "Expecting ',' delimiter: line 8 column 50 (char 372)\n"
     ]
    },
    {
     "name": "stderr",
     "output_type": "stream",
     "text": [
      " 80%|████████████████████████████████████████████████████████████████████████▍                 | 34155/42440 [6:45:39<1:46:05,  1.30it/s]"
     ]
    },
    {
     "name": "stdout",
     "output_type": "stream",
     "text": [
      "Expecting ',' delimiter: line 8 column 50 (char 589)\n"
     ]
    },
    {
     "name": "stderr",
     "output_type": "stream",
     "text": [
      " 84%|███████████████████████████████████████████████████████████████████████████▋              | 35689/42440 [7:04:45<4:05:08,  2.18s/it]IOPub message rate exceeded.\n",
      "The notebook server will temporarily stop sending output\n",
      "to the client in order to avoid crashing it.\n",
      "To change this limit, set the config variable\n",
      "`--NotebookApp.iopub_msg_rate_limit`.\n",
      "\n",
      "Current values:\n",
      "NotebookApp.iopub_msg_rate_limit=1000.0 (msgs/sec)\n",
      "NotebookApp.rate_limit_window=3.0 (secs)\n",
      "\n",
      " 89%|████████████████████████████████████████████████████████████████████████████████▍         | 37919/42440 [7:37:00<1:16:45,  1.02s/it]"
     ]
    },
    {
     "name": "stdout",
     "output_type": "stream",
     "text": [
      "Extra data: line 18 column 1 (char 1016)\n"
     ]
    },
    {
     "name": "stderr",
     "output_type": "stream",
     "text": [
      " 91%|█████████████████████████████████████████████████████████████████████████████████▌        | 38435/42440 [7:44:35<1:50:46,  1.66s/it]"
     ]
    },
    {
     "name": "stdout",
     "output_type": "stream",
     "text": [
      "Expecting value: line 1 column 1 (char 0)\n"
     ]
    },
    {
     "name": "stderr",
     "output_type": "stream",
     "text": [
      " 91%|███████████████████████████████████████████████████████████████████████████████████▋        | 38628/42440 [7:47:03<32:04,  1.98it/s]"
     ]
    },
    {
     "name": "stdout",
     "output_type": "stream",
     "text": [
      "Expecting value: line 13 column 18 (char 858)\n"
     ]
    },
    {
     "name": "stderr",
     "output_type": "stream",
     "text": [
      " 92%|████████████████████████████████████████████████████████████████████████████████████▏       | 38834/42440 [7:49:49<29:50,  2.01it/s]"
     ]
    },
    {
     "name": "stdout",
     "output_type": "stream",
     "text": [
      "Expecting ',' delimiter: line 13 column 42 (char 1248)\n"
     ]
    },
    {
     "name": "stderr",
     "output_type": "stream",
     "text": [
      " 92%|████████████████████████████████████████████████████████████████████████████████████▌       | 39023/42440 [7:52:07<31:33,  1.81it/s]"
     ]
    },
    {
     "name": "stdout",
     "output_type": "stream",
     "text": [
      "Expecting value: line 9 column 18 (char 561)\n"
     ]
    },
    {
     "name": "stderr",
     "output_type": "stream",
     "text": [
      " 92%|████████████████████████████████████████████████████████████████████████████████████▋       | 39084/42440 [7:52:50<29:40,  1.88it/s]"
     ]
    },
    {
     "name": "stdout",
     "output_type": "stream",
     "text": [
      "Expecting ',' delimiter: line 13 column 79 (char 703)\n"
     ]
    },
    {
     "name": "stderr",
     "output_type": "stream",
     "text": [
      " 93%|█████████████████████████████████████████████████████████████████████████████████████▊      | 39612/42440 [7:59:40<28:31,  1.65it/s]"
     ]
    },
    {
     "name": "stdout",
     "output_type": "stream",
     "text": [
      "Expecting ',' delimiter: line 9 column 52 (char 652)\n"
     ]
    },
    {
     "name": "stderr",
     "output_type": "stream",
     "text": [
      " 94%|██████████████████████████████████████████████████████████████████████████████████████▊     | 40069/42440 [8:06:11<20:40,  1.91it/s]"
     ]
    },
    {
     "name": "stdout",
     "output_type": "stream",
     "text": [
      "Expecting ',' delimiter: line 13 column 419 (char 927)\n"
     ]
    },
    {
     "name": "stderr",
     "output_type": "stream",
     "text": [
      " 95%|███████████████████████████████████████████████████████████████████████████████████████▌    | 40390/42440 [8:10:12<27:18,  1.25it/s]"
     ]
    },
    {
     "name": "stdout",
     "output_type": "stream",
     "text": [
      "Expecting ',' delimiter: line 4 column 26 (char 47)\n"
     ]
    },
    {
     "name": "stderr",
     "output_type": "stream",
     "text": [
      " 95%|███████████████████████████████████████████████████████████████████████████████████████▊    | 40519/42440 [8:11:50<12:17,  2.61it/s]"
     ]
    },
    {
     "name": "stdout",
     "output_type": "stream",
     "text": [
      "Unterminated string starting at: line 13 column 18 (char 1779)\n"
     ]
    },
    {
     "name": "stderr",
     "output_type": "stream",
     "text": [
      " 97%|█████████████████████████████████████████████████████████████████████████████████████████▎  | 41228/42440 [8:21:05<25:41,  1.27s/it]IOPub message rate exceeded.\n",
      "The notebook server will temporarily stop sending output\n",
      "to the client in order to avoid crashing it.\n",
      "To change this limit, set the config variable\n",
      "`--NotebookApp.iopub_msg_rate_limit`.\n",
      "\n",
      "Current values:\n",
      "NotebookApp.iopub_msg_rate_limit=1000.0 (msgs/sec)\n",
      "NotebookApp.rate_limit_window=3.0 (secs)\n",
      "\n"
     ]
    }
   ],
   "source": [
    "data_parlimen = []\n",
    "for d in tqdm(hansard):\n",
    "    try:\n",
    "        t = d[0]\n",
    "        a = d[1]\n",
    "        j_a = json.loads(d[1])\n",
    "        if random.random() > 0.5:\n",
    "            q = t['original']\n",
    "        else:\n",
    "            q = t['cleaned']\n",
    "        \n",
    "        \n",
    "        for r in j_a['soalan']:\n",
    "            randint = random.randint(0, 3)\n",
    "            if random.random() > 0.5:\n",
    "                g = generate_noisy(r['soalan'])\n",
    "                soalan = random.choice(g)\n",
    "            else:\n",
    "                soalan = r['soalan']\n",
    "            \n",
    "            if random.random() > 0.5:\n",
    "                soalan = soalan.lower()\n",
    "            \n",
    "            if random.random() > 0.7:\n",
    "                q_ = f\"paragraph `{q}`, berdasarkan paragraph, jawab soalan `{soalan}`\"\n",
    "            else:\n",
    "                q_ = f\"paragraph `{q}`, {soalan}\"\n",
    "            \n",
    "            data = {\n",
    "                'prompt_input': template_malaya[\"prompt_no_input\"],\n",
    "                'input': q_,\n",
    "                'output': r['jawapan']\n",
    "            }\n",
    "            data_parlimen.append(data)\n",
    "        \n",
    "        k = '({\"soalan\": [{`soalan`, `jawapan`}]})'\n",
    "        p = f\"\"\"\n",
    "paragraph, `{t['cleaned']}`\n",
    "hasilkan 3 soalan dan jawapan khusus berdasarkan perenggan itu, kembalikan sebagai struktur JSON {k}\n",
    "        \"\"\"\n",
    "        data = {\n",
    "            'prompt_input': template_malaya[\"prompt_no_input\"],\n",
    "            'input': p,\n",
    "            'output': a\n",
    "        }\n",
    "        data_parlimen.append(data)\n",
    "\n",
    "    except Exception as e:\n",
    "        print(e)\n",
    "        pass"
   ]
  },
  {
   "cell_type": "code",
   "execution_count": 29,
   "metadata": {},
   "outputs": [],
   "source": [
    "with open('prepared-parliament-qa.jsonl', 'w') as fopen:\n",
    "    for l in data_parlimen:\n",
    "        fopen.write(f'{json.dumps(l)}\\n')"
   ]
  },
  {
   "cell_type": "code",
   "execution_count": 30,
   "metadata": {},
   "outputs": [
    {
     "name": "stdout",
     "output_type": "stream",
     "text": [
      "{\"prompt_input\": \"Di bawah ialah arahan yang menerangkan tugasan. Tulis jawapan yang sesuai dengan arahan tersebut.\\n\\n### Arahan:\\n{instruction}\\n\\n### Jawapan:\\n\", \"input\": \"paragraph `\\n22                                                            DR.30.10.2018                                                                                                                          \\n\\n \\ndan sebagainya. Cukai-cukai yang didapati daripada minuman keras, alkohol dan sebagainya \\nmasuk kepada kerajaan, kerajaan bayar gaji kita balik, itu pun haram pada kita.  [Disampuk]  \\n\\nTimbalan Yang di-Pertua [Dato\\u2019 Mohd Rashid Hasnon]: Yang Berhormat Padang \\nSerai, sila ajukan soalan. \\n\\nTuan Karupaiya Mutusami [Padang Serai]: Saya bertanya soalan pada pihak \\nkementerian, bolehkah samsu dihapuskan terus, tidak mahu ada samsu dalam negara kita. \\n[Dewan tepuk] Terima kasih. \\n\\nTuan Che Alias bin Hamid [Kemaman]: Sokong, sokong. \\n\\n\\u25a01150 \\n\\nTuan Chong Chieng Jen: Itu satu isu atau soalan yang begitu serius dan effect-\\nnya yang sangat luas. Saya rasa ini perlu dibawa ke dalam Jemaah Menteri untuk \\ndipertimbangkan dan diputuskan. Sekian, terima kasih. \\n\\n \\n\\n9. Dr. Hasan bin Bahrom [Tampin] minta Menteri Pengangkutan menyatakan adakah \\nkerajaan bercadang untuk menyemak semula jadual perjalanan yang kurang sesuai bagi \\nkereta api komuter dan Electric Train Service (ETS) dari Gemas ke Kuala Lumpur. \\n\\n \\n\\nTimbalan Menteri Pengangkutan [Dato\\u2019 Kamarudin Jaffar]: Assalamualaikum \\nwarahmatullahi wabarakatuh dan salam sejahtera. Terima kasih Tuan Yang di-Pertua. Terima \\nkasih sahabat saya Yang Berhormat Tampin. Ini soalan yang halal, jawapannya pun halal. \\n\\nUntuk makluman Yang Berhormat, KTMB pada masa ini masih belum ada \\nperancangan untuk menyemak semula jadual perjalanan bagi perkhidmatan komuter dan \\nETS daripada Gemas ke Kuala Lumpur. Bagi perkhidmatan komuter buat masa ini KTMB \\nmenyediakan 27 perkhidmatan komuter sehari di laluan sektor Pulau Sebang iaitu Tampin, \\nKL Sentral, Batu Caves. \\n\\nWalau bagaimanapun, stesen Gemas yang terletak kira-kira 53 kilometer daripada \\nstesen Pulau Sebang, Tampin tidak dijadikan sebagai stesen hentian bagi perkhidmatan \\nkomuter. Ini adalah kerana perkhidmatan komuter sebelum ini yang beroperasi di stesen \\nGemas tersebut terpaksa ditamatkan pada tahun 2016 setelah 10 bulan beroperasi \\ndisebabkan kurang mendapat sambutan penumpang. Berdasarkan statistik KTMB, bilangan \\npenumpang perkhidmatan komuter di stesen Gemas pada tahun 2016 adalah hanya seramai \\n2,010 orang iaitu puratanya enam orang sehari berbanding 1,000,330,668 orang di \\nSeremban, 89,553 penumpang di Sungai Gadut serta 135,297 penumpang di Pulau Sebang, \\nTampin pada tahun yang sama. \\n\\nBagi perkhidmatan ETS pula, buat masa ini KTMB menyediakan empat \\nperkhidmatan bagi laluan Gemas ke KL Sentral, termasuk stesen-stesen utama di utara \\nSemenanjung setiap hari. Penyusunan jadual train ETS ini banyak bergantung pada kerja-\\nkerja projek menaik taraf landasan di Lembah Klang yang kini sedang giat dijalankan serta \\nketersediaan, availability dengan izin, set-set train ETS yang boleh diguna pakai untuk tujuan \\noperasi. \\n\\nUntuk maklumat Yang Berhormat juga pada masa ini KTMB memiliki 15 set train \\nETS yang aktif untuk tujuan operasi. Jumlah set ini masih tidak mencukupi bagi memenuhi \\npermintaan orang ramai yang ingin menggunakan perkhidmatan ETS di seluruh negara. \\n\\nSehubungan itu, bagi menampung kekurangan set-set ETS sedia ada kerajaan telah \\nmeluluskan pembelian 19 tambahan set ETS baru yang masing-masing dijangka tiba bermula \\nsecara berfasa bulan Disember 2018 ini. Set yang seterusnya pada September 2021. \\n\\nPerkhidmatan ETS dijangka akan meningkat selaras dengan pertambahan bilangan \\nETS baru ini termasuk perjalanan yang melibatkan dari Gemas ke Kuala Lumpur. Terima \\nkasih. \\n\\nDr. Hasan bin Bahrom [Tampin]: Terima kasih kepada Yang Berhormat Timbalan \\nMenteri kerana menjawab dengan lengkap dan jelas. Soalan tambahan saya, kita dapati \\nbahawa perjalanan ETS daripada Gemas ke Kuala Lumpur bermula daripada jam 7.40 pagi. \\nKita dapati perjalanan ini tidak memungkinkan sekiranya ada orang-orang di Gemas untuk \\nbekerja di Kuala Lumpur menggunakan khidmat ETS untuk sampai ke Kuala Lumpur \\n\\n\\n`, samsu tu nak dihapus terus ke dari negara kita ni?\", \"output\": \"Ini perlu dibawa ke dalam Jemaah Menteri untuk dipertimbangkan dan diputuskan.\"}\r\n",
      "{\"prompt_input\": \"Di bawah ialah arahan yang menerangkan tugasan. Tulis jawapan yang sesuai dengan arahan tersebut.\\n\\n### Arahan:\\n{instruction}\\n\\n### Jawapan:\\n\", \"input\": \"paragraph `\\n22                                                            DR.30.10.2018                                                                                                                          \\n\\n \\ndan sebagainya. Cukai-cukai yang didapati daripada minuman keras, alkohol dan sebagainya \\nmasuk kepada kerajaan, kerajaan bayar gaji kita balik, itu pun haram pada kita.  [Disampuk]  \\n\\nTimbalan Yang di-Pertua [Dato\\u2019 Mohd Rashid Hasnon]: Yang Berhormat Padang \\nSerai, sila ajukan soalan. \\n\\nTuan Karupaiya Mutusami [Padang Serai]: Saya bertanya soalan pada pihak \\nkementerian, bolehkah samsu dihapuskan terus, tidak mahu ada samsu dalam negara kita. \\n[Dewan tepuk] Terima kasih. \\n\\nTuan Che Alias bin Hamid [Kemaman]: Sokong, sokong. \\n\\n\\u25a01150 \\n\\nTuan Chong Chieng Jen: Itu satu isu atau soalan yang begitu serius dan effect-\\nnya yang sangat luas. Saya rasa ini perlu dibawa ke dalam Jemaah Menteri untuk \\ndipertimbangkan dan diputuskan. Sekian, terima kasih. \\n\\n \\n\\n9. Dr. Hasan bin Bahrom [Tampin] minta Menteri Pengangkutan menyatakan adakah \\nkerajaan bercadang untuk menyemak semula jadual perjalanan yang kurang sesuai bagi \\nkereta api komuter dan Electric Train Service (ETS) dari Gemas ke Kuala Lumpur. \\n\\n \\n\\nTimbalan Menteri Pengangkutan [Dato\\u2019 Kamarudin Jaffar]: Assalamualaikum \\nwarahmatullahi wabarakatuh dan salam sejahtera. Terima kasih Tuan Yang di-Pertua. Terima \\nkasih sahabat saya Yang Berhormat Tampin. Ini soalan yang halal, jawapannya pun halal. \\n\\nUntuk makluman Yang Berhormat, KTMB pada masa ini masih belum ada \\nperancangan untuk menyemak semula jadual perjalanan bagi perkhidmatan komuter dan \\nETS daripada Gemas ke Kuala Lumpur. Bagi perkhidmatan komuter buat masa ini KTMB \\nmenyediakan 27 perkhidmatan komuter sehari di laluan sektor Pulau Sebang iaitu Tampin, \\nKL Sentral, Batu Caves. \\n\\nWalau bagaimanapun, stesen Gemas yang terletak kira-kira 53 kilometer daripada \\nstesen Pulau Sebang, Tampin tidak dijadikan sebagai stesen hentian bagi perkhidmatan \\nkomuter. Ini adalah kerana perkhidmatan komuter sebelum ini yang beroperasi di stesen \\nGemas tersebut terpaksa ditamatkan pada tahun 2016 setelah 10 bulan beroperasi \\ndisebabkan kurang mendapat sambutan penumpang. Berdasarkan statistik KTMB, bilangan \\npenumpang perkhidmatan komuter di stesen Gemas pada tahun 2016 adalah hanya seramai \\n2,010 orang iaitu puratanya enam orang sehari berbanding 1,000,330,668 orang di \\nSeremban, 89,553 penumpang di Sungai Gadut serta 135,297 penumpang di Pulau Sebang, \\nTampin pada tahun yang sama. \\n\\nBagi perkhidmatan ETS pula, buat masa ini KTMB menyediakan empat \\nperkhidmatan bagi laluan Gemas ke KL Sentral, termasuk stesen-stesen utama di utara \\nSemenanjung setiap hari. Penyusunan jadual train ETS ini banyak bergantung pada kerja-\\nkerja projek menaik taraf landasan di Lembah Klang yang kini sedang giat dijalankan serta \\nketersediaan, availability dengan izin, set-set train ETS yang boleh diguna pakai untuk tujuan \\noperasi. \\n\\nUntuk maklumat Yang Berhormat juga pada masa ini KTMB memiliki 15 set train \\nETS yang aktif untuk tujuan operasi. Jumlah set ini masih tidak mencukupi bagi memenuhi \\npermintaan orang ramai yang ingin menggunakan perkhidmatan ETS di seluruh negara. \\n\\nSehubungan itu, bagi menampung kekurangan set-set ETS sedia ada kerajaan telah \\nmeluluskan pembelian 19 tambahan set ETS baru yang masing-masing dijangka tiba bermula \\nsecara berfasa bulan Disember 2018 ini. Set yang seterusnya pada September 2021. \\n\\nPerkhidmatan ETS dijangka akan meningkat selaras dengan pertambahan bilangan \\nETS baru ini termasuk perjalanan yang melibatkan dari Gemas ke Kuala Lumpur. Terima \\nkasih. \\n\\nDr. Hasan bin Bahrom [Tampin]: Terima kasih kepada Yang Berhormat Timbalan \\nMenteri kerana menjawab dengan lengkap dan jelas. Soalan tambahan saya, kita dapati \\nbahawa perjalanan ETS daripada Gemas ke Kuala Lumpur bermula daripada jam 7.40 pagi. \\nKita dapati perjalanan ini tidak memungkinkan sekiranya ada orang-orang di Gemas untuk \\nbekerja di Kuala Lumpur menggunakan khidmat ETS untuk sampai ke Kuala Lumpur \\n\\n\\n`, Adakah kerajaan bercadang untuk menyemak semula jadual perjalanan bagi kereta api komuter dan ETS dari Gemas ke Kuala Lumpur?\", \"output\": \"KTMB pada masa ini masih belum ada perancangan untuk menyemak semula jadual perjalanan bagi perkhidmatan komuter dan ETS daripada Gemas ke Kuala Lumpur.\"}\r\n",
      "{\"prompt_input\": \"Di bawah ialah arahan yang menerangkan tugasan. Tulis jawapan yang sesuai dengan arahan tersebut.\\n\\n### Arahan:\\n{instruction}\\n\\n### Jawapan:\\n\", \"input\": \"paragraph `\\n22                                                            DR.30.10.2018                                                                                                                          \\n\\n \\ndan sebagainya. Cukai-cukai yang didapati daripada minuman keras, alkohol dan sebagainya \\nmasuk kepada kerajaan, kerajaan bayar gaji kita balik, itu pun haram pada kita.  [Disampuk]  \\n\\nTimbalan Yang di-Pertua [Dato\\u2019 Mohd Rashid Hasnon]: Yang Berhormat Padang \\nSerai, sila ajukan soalan. \\n\\nTuan Karupaiya Mutusami [Padang Serai]: Saya bertanya soalan pada pihak \\nkementerian, bolehkah samsu dihapuskan terus, tidak mahu ada samsu dalam negara kita. \\n[Dewan tepuk] Terima kasih. \\n\\nTuan Che Alias bin Hamid [Kemaman]: Sokong, sokong. \\n\\n\\u25a01150 \\n\\nTuan Chong Chieng Jen: Itu satu isu atau soalan yang begitu serius dan effect-\\nnya yang sangat luas. Saya rasa ini perlu dibawa ke dalam Jemaah Menteri untuk \\ndipertimbangkan dan diputuskan. Sekian, terima kasih. \\n\\n \\n\\n9. Dr. Hasan bin Bahrom [Tampin] minta Menteri Pengangkutan menyatakan adakah \\nkerajaan bercadang untuk menyemak semula jadual perjalanan yang kurang sesuai bagi \\nkereta api komuter dan Electric Train Service (ETS) dari Gemas ke Kuala Lumpur. \\n\\n \\n\\nTimbalan Menteri Pengangkutan [Dato\\u2019 Kamarudin Jaffar]: Assalamualaikum \\nwarahmatullahi wabarakatuh dan salam sejahtera. Terima kasih Tuan Yang di-Pertua. Terima \\nkasih sahabat saya Yang Berhormat Tampin. Ini soalan yang halal, jawapannya pun halal. \\n\\nUntuk makluman Yang Berhormat, KTMB pada masa ini masih belum ada \\nperancangan untuk menyemak semula jadual perjalanan bagi perkhidmatan komuter dan \\nETS daripada Gemas ke Kuala Lumpur. Bagi perkhidmatan komuter buat masa ini KTMB \\nmenyediakan 27 perkhidmatan komuter sehari di laluan sektor Pulau Sebang iaitu Tampin, \\nKL Sentral, Batu Caves. \\n\\nWalau bagaimanapun, stesen Gemas yang terletak kira-kira 53 kilometer daripada \\nstesen Pulau Sebang, Tampin tidak dijadikan sebagai stesen hentian bagi perkhidmatan \\nkomuter. Ini adalah kerana perkhidmatan komuter sebelum ini yang beroperasi di stesen \\nGemas tersebut terpaksa ditamatkan pada tahun 2016 setelah 10 bulan beroperasi \\ndisebabkan kurang mendapat sambutan penumpang. Berdasarkan statistik KTMB, bilangan \\npenumpang perkhidmatan komuter di stesen Gemas pada tahun 2016 adalah hanya seramai \\n2,010 orang iaitu puratanya enam orang sehari berbanding 1,000,330,668 orang di \\nSeremban, 89,553 penumpang di Sungai Gadut serta 135,297 penumpang di Pulau Sebang, \\nTampin pada tahun yang sama. \\n\\nBagi perkhidmatan ETS pula, buat masa ini KTMB menyediakan empat \\nperkhidmatan bagi laluan Gemas ke KL Sentral, termasuk stesen-stesen utama di utara \\nSemenanjung setiap hari. Penyusunan jadual train ETS ini banyak bergantung pada kerja-\\nkerja projek menaik taraf landasan di Lembah Klang yang kini sedang giat dijalankan serta \\nketersediaan, availability dengan izin, set-set train ETS yang boleh diguna pakai untuk tujuan \\noperasi. \\n\\nUntuk maklumat Yang Berhormat juga pada masa ini KTMB memiliki 15 set train \\nETS yang aktif untuk tujuan operasi. Jumlah set ini masih tidak mencukupi bagi memenuhi \\npermintaan orang ramai yang ingin menggunakan perkhidmatan ETS di seluruh negara. \\n\\nSehubungan itu, bagi menampung kekurangan set-set ETS sedia ada kerajaan telah \\nmeluluskan pembelian 19 tambahan set ETS baru yang masing-masing dijangka tiba bermula \\nsecara berfasa bulan Disember 2018 ini. Set yang seterusnya pada September 2021. \\n\\nPerkhidmatan ETS dijangka akan meningkat selaras dengan pertambahan bilangan \\nETS baru ini termasuk perjalanan yang melibatkan dari Gemas ke Kuala Lumpur. Terima \\nkasih. \\n\\nDr. Hasan bin Bahrom [Tampin]: Terima kasih kepada Yang Berhormat Timbalan \\nMenteri kerana menjawab dengan lengkap dan jelas. Soalan tambahan saya, kita dapati \\nbahawa perjalanan ETS daripada Gemas ke Kuala Lumpur bermula daripada jam 7.40 pagi. \\nKita dapati perjalanan ini tidak memungkinkan sekiranya ada orang-orang di Gemas untuk \\nbekerja di Kuala Lumpur menggunakan khidmat ETS untuk sampai ke Kuala Lumpur \\n\\n\\n`, berdasarkan paragraph, jawab soalan `Berapa banyak set ETS yang dimiliki oleh KTMB untuk tujuan operasi?`\", \"output\": \"KTMB memiliki 15 set train ETS yang aktif untuk tujuan operasi.\"}\r\n"
     ]
    }
   ],
   "source": [
    "!head -n 3 prepared-parliament-qa.jsonl"
   ]
  },
  {
   "cell_type": "code",
   "execution_count": null,
   "metadata": {},
   "outputs": [],
   "source": []
  }
 ],
 "metadata": {
  "kernelspec": {
   "display_name": "Python 3 (ipykernel)",
   "language": "python",
   "name": "python3"
  },
  "language_info": {
   "codemirror_mode": {
    "name": "ipython",
    "version": 3
   },
   "file_extension": ".py",
   "mimetype": "text/x-python",
   "name": "python",
   "nbconvert_exporter": "python",
   "pygments_lexer": "ipython3",
   "version": "3.8.10"
  }
 },
 "nbformat": 4,
 "nbformat_minor": 4
}
