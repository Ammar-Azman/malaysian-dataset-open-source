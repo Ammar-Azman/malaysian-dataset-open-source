{
 "cells": [
  {
   "cell_type": "code",
   "execution_count": 1,
   "metadata": {},
   "outputs": [],
   "source": [
    "from glob import glob\n",
    "import json\n",
    "import random"
   ]
  },
  {
   "cell_type": "code",
   "execution_count": 2,
   "metadata": {},
   "outputs": [],
   "source": [
    "fopen_l = open('combine-1536.jsonl', 'w')"
   ]
  },
  {
   "cell_type": "code",
   "execution_count": 3,
   "metadata": {},
   "outputs": [],
   "source": [
    "rejected = [\n",
    "    'tidak pasti apa yang anda maksudkan dengan'\n",
    "    'tidak mempunyai maklumat semasa',\n",
    "    'tidak dapat memberikan maklumat',\n",
    "    'tidak pasti apa yang anda maksudkan dengan',\n",
    "    'kemas kini kepada pangkalan pengetahuan saya',\n",
    "    'Sebagai model bahasa',\n",
    "]\n",
    "\n",
    "def accept(d):\n",
    "    if 'terjemahkan teks' in d.lower():\n",
    "        return False\n",
    "\n",
    "    if 'no need to translate' in d.lower():\n",
    "        return False\n",
    "\n",
    "    if 'can be translated' in d.lower():\n",
    "        return False\n",
    "\n",
    "    if 'cannot translate' in d.lower():\n",
    "        return False\n",
    "\n",
    "    if 'should be translated to' in d.lower():\n",
    "        return False\n",
    "\n",
    "    if 'cannot be translated' in d.lower():\n",
    "        return False\n",
    "\n",
    "    if 'standard malay' in d.lower():\n",
    "        return False\n",
    "\n",
    "    if 'would not be translated' in d.lower():\n",
    "        return False\n",
    "\n",
    "    if 'as an AI language model' in d:\n",
    "        return False\n",
    "\n",
    "    if 'should be translated as' in d.lower():\n",
    "        return False\n",
    "\n",
    "    if 'Bahasa Malaysia Standard' in d:\n",
    "        return False\n",
    "    \n",
    "    if 'Saya adalah model AI' in d:\n",
    "        return False\n",
    "    \n",
    "    if 'saya model AI' in d:\n",
    "        return False\n",
    "    \n",
    "    if 'Saya model AI' in d:\n",
    "        return False\n",
    "    \n",
    "    if 'sebagai model AI' in d:\n",
    "        return False\n",
    "    \n",
    "    if 'Sebagai model AI' in d:\n",
    "        return False\n",
    "    \n",
    "    if 'model bahasa AI' in d:\n",
    "        return False\n",
    "    \n",
    "    if 'model AI yang dibangunkan' in d:\n",
    "        return False\n",
    "    \n",
    "    if d == '<s>':\n",
    "        return False\n",
    "    \n",
    "    if 'tidak dapat memberikan maklumat' in d:\n",
    "        return False\n",
    "    \n",
    "    if 'Sebagai model bahasa' in d:\n",
    "        return False\n",
    "    \n",
    "    if any([r in d.lower() for r in rejected]):\n",
    "        return False\n",
    "    \n",
    "    if len(d.split()) < 10:\n",
    "        return False\n",
    "    \n",
    "    return True"
   ]
  },
  {
   "cell_type": "code",
   "execution_count": 4,
   "metadata": {},
   "outputs": [
    {
     "name": "stdout",
     "output_type": "stream",
     "text": [
      "prepared-parliament-qa.jsonl\n",
      "prepared-common-crawl-qa.jsonl\n",
      "prepared-summarization.jsonl\n"
     ]
    }
   ],
   "source": [
    "files = [\n",
    "    'prepared-parliament-qa.jsonl',\n",
    "    'prepared-common-crawl-qa.jsonl',\n",
    "    'prepared-summarization.jsonl',\n",
    "]\n",
    "\n",
    "for f in files:\n",
    "    print(f)\n",
    "    with open(f) as fopen:\n",
    "        for l in fopen:\n",
    "            try:\n",
    "                if random.random() < 0.5:\n",
    "                    continue\n",
    "\n",
    "                data = json.loads(l)\n",
    "                if not accept(data['input']):\n",
    "                    continue\n",
    "                if not accept(data['output']):\n",
    "                    continue\n",
    "                fopen_l.write(f'{json.dumps(data)}\\n')\n",
    "                fopen_l.flush()\n",
    "            except:\n",
    "                pass"
   ]
  },
  {
   "cell_type": "code",
   "execution_count": 5,
   "metadata": {},
   "outputs": [
    {
     "name": "stdout",
     "output_type": "stream",
     "text": [
      "222450 combine-1536.jsonl\r\n"
     ]
    }
   ],
   "source": [
    "!wc -l combine-1536.jsonl"
   ]
  },
  {
   "cell_type": "code",
   "execution_count": 6,
   "metadata": {},
   "outputs": [
    {
     "name": "stdout",
     "output_type": "stream",
     "text": [
      "47850 prepared-code-contexts.jsonl\r\n"
     ]
    }
   ],
   "source": [
    "!wc -l prepared-code-contexts.jsonl"
   ]
  },
  {
   "cell_type": "code",
   "execution_count": 7,
   "metadata": {},
   "outputs": [
    {
     "name": "stdout",
     "output_type": "stream",
     "text": [
      "prepared-gpt4all-code.jsonl\n",
      "prepared-code-instructions.jsonl\n"
     ]
    }
   ],
   "source": [
    "files = [\n",
    "    'prepared-gpt4all-code.jsonl',\n",
    "    'prepared-code-instructions.jsonl',\n",
    "]\n",
    "\n",
    "for f in files:\n",
    "    print(f)\n",
    "    with open(f) as fopen:\n",
    "        for l in fopen:\n",
    "            try:\n",
    "                if random.random() < 0.5:\n",
    "                    continue\n",
    "\n",
    "                data = json.loads(l)\n",
    "                if not accept(data['input']):\n",
    "                    continue\n",
    "                if not accept(data['output']):\n",
    "                    continue\n",
    "                fopen_l.write(f'{json.dumps(data)}\\n')\n",
    "                fopen_l.flush()\n",
    "            except:\n",
    "                pass"
   ]
  },
  {
   "cell_type": "code",
   "execution_count": 8,
   "metadata": {
    "scrolled": true
   },
   "outputs": [
    {
     "name": "stdout",
     "output_type": "stream",
     "text": [
      "prepared-NSText2SQL.jsonl\n",
      "prepared-code-contexts.jsonl\n"
     ]
    }
   ],
   "source": [
    "files = [\n",
    "    'prepared-NSText2SQL.jsonl',\n",
    "    'prepared-code-contexts.jsonl',\n",
    "]\n",
    "\n",
    "for f in files:\n",
    "    print(f)\n",
    "    with open(f) as fopen:\n",
    "        for l in fopen:\n",
    "            try:\n",
    "                if random.random() < 0.3:\n",
    "                    continue\n",
    "\n",
    "                data = json.loads(l)\n",
    "                if not accept(data['input']):\n",
    "                    continue\n",
    "                if not accept(data['output']):\n",
    "                    continue\n",
    "                fopen_l.write(f'{json.dumps(data)}\\n')\n",
    "                fopen_l.flush()\n",
    "            except:\n",
    "                pass"
   ]
  },
  {
   "cell_type": "code",
   "execution_count": 9,
   "metadata": {},
   "outputs": [
    {
     "name": "stdout",
     "output_type": "stream",
     "text": [
      "336186 combine-1536.jsonl\r\n"
     ]
    }
   ],
   "source": [
    "!wc -l combine-1536.jsonl"
   ]
  },
  {
   "cell_type": "code",
   "execution_count": 10,
   "metadata": {},
   "outputs": [
    {
     "name": "stdout",
     "output_type": "stream",
     "text": [
      "prepared-reverse-translation.jsonl\n",
      "prepared-sentiment.jsonl\n",
      "prepared-translation.jsonl\n",
      "prepared-translation-manglish.jsonl\n",
      "prepared-translation-hansard.jsonl\n"
     ]
    }
   ],
   "source": [
    "files = [\n",
    "    'prepared-reverse-translation.jsonl',\n",
    "    'prepared-sentiment.jsonl',\n",
    "    'prepared-translation.jsonl', \n",
    "    'prepared-translation-manglish.jsonl', \n",
    "    'prepared-translation-hansard.jsonl'\n",
    "]\n",
    "\n",
    "for f in files:\n",
    "    print(f)\n",
    "    with open(f) as fopen:\n",
    "        for l in fopen:\n",
    "            try:\n",
    "                if random.random() < 0.9:\n",
    "                    continue\n",
    "\n",
    "                data = json.loads(l)\n",
    "                if not accept(data['input']):\n",
    "                    continue\n",
    "                if not accept(data['output']):\n",
    "                    continue\n",
    "                fopen_l.write(f'{json.dumps(data)}\\n')\n",
    "                fopen_l.flush()\n",
    "            except:\n",
    "                pass"
   ]
  },
  {
   "cell_type": "code",
   "execution_count": 11,
   "metadata": {},
   "outputs": [
    {
     "name": "stdout",
     "output_type": "stream",
     "text": [
      "508793 combine-1536.jsonl\r\n"
     ]
    }
   ],
   "source": [
    "!wc -l combine-1536.jsonl"
   ]
  },
  {
   "cell_type": "code",
   "execution_count": 12,
   "metadata": {},
   "outputs": [
    {
     "name": "stdout",
     "output_type": "stream",
     "text": [
      "prepared-oasst1.jsonl\n",
      "prepared-vicuna.jsonl\n",
      "prepared-theblackcat102.jsonl\n"
     ]
    }
   ],
   "source": [
    "files = [\n",
    "    'prepared-oasst1.jsonl',\n",
    "    'prepared-vicuna.jsonl',\n",
    "    'prepared-theblackcat102.jsonl',\n",
    "]\n",
    "for f in files:\n",
    "    print(f)\n",
    "    with open(f) as fopen:\n",
    "        for l in fopen:\n",
    "            try:\n",
    "                data = json.loads(l)\n",
    "                if not accept(data['input']):\n",
    "                    continue\n",
    "                fopen_l.write(f'{json.dumps(data)}\\n')\n",
    "                fopen_l.flush()\n",
    "            except:\n",
    "                pass"
   ]
  },
  {
   "cell_type": "code",
   "execution_count": 13,
   "metadata": {
    "scrolled": true
   },
   "outputs": [
    {
     "name": "stdout",
     "output_type": "stream",
     "text": [
      "635744 combine-1536.jsonl\r\n"
     ]
    }
   ],
   "source": [
    "!wc -l combine-1536.jsonl"
   ]
  },
  {
   "cell_type": "code",
   "execution_count": 14,
   "metadata": {},
   "outputs": [
    {
     "name": "stdout",
     "output_type": "stream",
     "text": [
      "{\"prompt_input\": null, \"input\": \"<manusia>: Daripada 20 kereta yang tersedia untuk disewa, 12 adalah kereta automatik, 4 adalah kereta manual dan selebihnya adalah separa automatik. Berapakah peratusan kereta separa automatik?\\n<bot>: Berapakah bilangan kereta automatik atau manual? ** 12 + 4 = <<12+4=16>>16 kereta sama ada automatik atau manual.\\nBerapakah bilangan kereta separa automatik? ** Jadi, 20 - 16 = <<20-16=4>>4 kereta adalah separa automatik.\\nBerapakah peratusan kereta separa automatik? ** Oleh itu, peratusan kereta separa automatik ialah 4/20 x 100% = 20%.\\n#### 20\", \"output\": null}\r\n"
     ]
    }
   ],
   "source": [
    "!head -n 1 prepared-oig-unified_chip2.jsonl"
   ]
  },
  {
   "cell_type": "code",
   "execution_count": 15,
   "metadata": {},
   "outputs": [
    {
     "name": "stdout",
     "output_type": "stream",
     "text": [
      "prepared-oig-unified_chip2.jsonl\n",
      "prepared-oig-unified_abstract_infill.jsonl\n"
     ]
    }
   ],
   "source": [
    "files = [\n",
    "    'prepared-oig-unified_chip2.jsonl',\n",
    "    'prepared-oig-unified_abstract_infill.jsonl',\n",
    "]\n",
    "for f in files:\n",
    "    print(f)\n",
    "    with open(f) as fopen:\n",
    "        for l in fopen:\n",
    "            try:\n",
    "                if random.random() < 0.3:\n",
    "                    continue\n",
    "\n",
    "                data = json.loads(l)\n",
    "                if not accept(data['input']):\n",
    "                    continue\n",
    "                fopen_l.write(f'{json.dumps(data)}\\n')\n",
    "                fopen_l.flush()\n",
    "            except:\n",
    "                pass"
   ]
  },
  {
   "cell_type": "code",
   "execution_count": 16,
   "metadata": {},
   "outputs": [
    {
     "name": "stdout",
     "output_type": "stream",
     "text": [
      "933920 combine-1536.jsonl\r\n"
     ]
    }
   ],
   "source": [
    "!wc -l combine-1536.jsonl"
   ]
  },
  {
   "cell_type": "code",
   "execution_count": 17,
   "metadata": {},
   "outputs": [
    {
     "name": "stdout",
     "output_type": "stream",
     "text": [
      "{\"prompt_input\": \"Di bawah ialah arahan yang menerangkan tugasan. Tulis jawapan yang sesuai dengan arahan tersebut.\\n\\n### Arahan:\\n{instruction}\\n\\n### Jawapan:\\n\", \"input\": \"paragraph `\\n22                                                            DR.30.10.2018                                                                                                                          \\n\\n \\ndan sebagainya. Cukai-cukai yang didapati daripada minuman keras, alkohol dan sebagainya \\nmasuk kepada kerajaan, kerajaan bayar gaji kita balik, itu pun haram pada kita.  [Disampuk]  \\n\\nTimbalan Yang di-Pertua [Dato\\u2019 Mohd Rashid Hasnon]: Yang Berhormat Padang \\nSerai, sila ajukan soalan. \\n\\nTuan Karupaiya Mutusami [Padang Serai]: Saya bertanya soalan pada pihak \\nkementerian, bolehkah samsu dihapuskan terus, tidak mahu ada samsu dalam negara kita. \\n[Dewan tepuk] Terima kasih. \\n\\nTuan Che Alias bin Hamid [Kemaman]: Sokong, sokong. \\n\\n\\u25a01150 \\n\\nTuan Chong Chieng Jen: Itu satu isu atau soalan yang begitu serius dan effect-\\nnya yang sangat luas. Saya rasa ini perlu dibawa ke dalam Jemaah Menteri untuk \\ndipertimbangkan dan diputuskan. Sekian, terima kasih. \\n\\n \\n\\n9. Dr. Hasan bin Bahrom [Tampin] minta Menteri Pengangkutan menyatakan adakah \\nkerajaan bercadang untuk menyemak semula jadual perjalanan yang kurang sesuai bagi \\nkereta api komuter dan Electric Train Service (ETS) dari Gemas ke Kuala Lumpur. \\n\\n \\n\\nTimbalan Menteri Pengangkutan [Dato\\u2019 Kamarudin Jaffar]: Assalamualaikum \\nwarahmatullahi wabarakatuh dan salam sejahtera. Terima kasih Tuan Yang di-Pertua. Terima \\nkasih sahabat saya Yang Berhormat Tampin. Ini soalan yang halal, jawapannya pun halal. \\n\\nUntuk makluman Yang Berhormat, KTMB pada masa ini masih belum ada \\nperancangan untuk menyemak semula jadual perjalanan bagi perkhidmatan komuter dan \\nETS daripada Gemas ke Kuala Lumpur. Bagi perkhidmatan komuter buat masa ini KTMB \\nmenyediakan 27 perkhidmatan komuter sehari di laluan sektor Pulau Sebang iaitu Tampin, \\nKL Sentral, Batu Caves. \\n\\nWalau bagaimanapun, stesen Gemas yang terletak kira-kira 53 kilometer daripada \\nstesen Pulau Sebang, Tampin tidak dijadikan sebagai stesen hentian bagi perkhidmatan \\nkomuter. Ini adalah kerana perkhidmatan komuter sebelum ini yang beroperasi di stesen \\nGemas tersebut terpaksa ditamatkan pada tahun 2016 setelah 10 bulan beroperasi \\ndisebabkan kurang mendapat sambutan penumpang. Berdasarkan statistik KTMB, bilangan \\npenumpang perkhidmatan komuter di stesen Gemas pada tahun 2016 adalah hanya seramai \\n2,010 orang iaitu puratanya enam orang sehari berbanding 1,000,330,668 orang di \\nSeremban, 89,553 penumpang di Sungai Gadut serta 135,297 penumpang di Pulau Sebang, \\nTampin pada tahun yang sama. \\n\\nBagi perkhidmatan ETS pula, buat masa ini KTMB menyediakan empat \\nperkhidmatan bagi laluan Gemas ke KL Sentral, termasuk stesen-stesen utama di utara \\nSemenanjung setiap hari. Penyusunan jadual train ETS ini banyak bergantung pada kerja-\\nkerja projek menaik taraf landasan di Lembah Klang yang kini sedang giat dijalankan serta \\nketersediaan, availability dengan izin, set-set train ETS yang boleh diguna pakai untuk tujuan \\noperasi. \\n\\nUntuk maklumat Yang Berhormat juga pada masa ini KTMB memiliki 15 set train \\nETS yang aktif untuk tujuan operasi. Jumlah set ini masih tidak mencukupi bagi memenuhi \\npermintaan orang ramai yang ingin menggunakan perkhidmatan ETS di seluruh negara. \\n\\nSehubungan itu, bagi menampung kekurangan set-set ETS sedia ada kerajaan telah \\nmeluluskan pembelian 19 tambahan set ETS baru yang masing-masing dijangka tiba bermula \\nsecara berfasa bulan Disember 2018 ini. Set yang seterusnya pada September 2021. \\n\\nPerkhidmatan ETS dijangka akan meningkat selaras dengan pertambahan bilangan \\nETS baru ini termasuk perjalanan yang melibatkan dari Gemas ke Kuala Lumpur. Terima \\nkasih. \\n\\nDr. Hasan bin Bahrom [Tampin]: Terima kasih kepada Yang Berhormat Timbalan \\nMenteri kerana menjawab dengan lengkap dan jelas. Soalan tambahan saya, kita dapati \\nbahawa perjalanan ETS daripada Gemas ke Kuala Lumpur bermula daripada jam 7.40 pagi. \\nKita dapati perjalanan ini tidak memungkinkan sekiranya ada orang-orang di Gemas untuk \\nbekerja di Kuala Lumpur menggunakan khidmat ETS untuk sampai ke Kuala Lumpur \\n\\n\\n`, samsu tu nak dihapus terus ke dari negara kita ni?\", \"output\": \"Ini perlu dibawa ke dalam Jemaah Menteri untuk dipertimbangkan dan diputuskan.\"}\r\n"
     ]
    }
   ],
   "source": [
    "!head -n 1 combine-1536.jsonl"
   ]
  },
  {
   "cell_type": "code",
   "execution_count": 18,
   "metadata": {},
   "outputs": [
    {
     "name": "stdout",
     "output_type": "stream",
     "text": [
      "{\"prompt_input\": null, \"input\": \"Latar Belakang: Kelas Ekaterina II ialah kelas empat kapal perang yang dibina untuk Tentera Laut Imperial Rusia pada tahun 1880-an. Mereka adalah kapal perang pertama yang dibina untuk Armada Laut Hitam. Reka bentuk mereka sangat luar biasa kerana mempunyai senapang utama pada tiga barbet yang dikumpulkan dalam segi tiga mengelilingi redoubt berperisai tengah, dua bersebelahan ke hadapan dan satu di garisan tengah di belakang. Ini bertujuan untuk memaksimumkan kuasa tembakan mereka ke hadapan, kedua-duanya semasa beroperasi di perairan sempit Bosphorus dan ketika merempuh.\\nPembinaan adalah perlahan kerana ia adalah kapal perang terbesar yang dibina sehingga itu di Laut Hitam, dan limbungan kapal perlu dinaik taraf untuk mengendalikannya. Keempat-empat kapal berada di Sevastopol apabila krew kapal perang Potemkin memberontak pada Jun 1905. Krew Ekaterina II dianggap tidak boleh dipercayai, dan dia telah dilumpuhkan untuk menghalangnya daripada menyertai pemberontakan. Krew Chesma juga dianggap tidak boleh dipercayai, tetapi dia mengiringi Potemkin ketika Sinop menariknya kembali ke Sevastopol dari Constan\\u021ba, Romania, tempat anak kapal Potemkin telah mendapatkan suaka.\\nSinop dan Georgii Pobedonosets kedua-duanya mengejar Potemkin ke Odessa, tetapi anak kapal yang terakhir memberontak kerana simpati dengan anak kapal Potemkin. Bagaimanapun, anggota kru yang setia berjaya mengawal kapal itu pada hari berikutnya dan menjatuhkannya. Beberapa cadangan telah dibuat pada tahun 1900-an untuk membina semula mereka dan menggantikan perisai dan senjata mereka yang usang, tetapi tidak satu pun daripada ini dilaksanakan. Ekaterina II dan Chesma kedua-duanya akhirnya tenggelam sebagai kapal sasaran selepas ditamatkan perkhidmatannya pada tahun 1907, tetapi kedua-dua Sinop dan Georgii Pobedonosets telah ditukar menjadi kapal latihan artileri sebelum menjadi pengawal di Sevastopol sebelum Perang Dunia I.\\nDi sana mereka menghabiskan sebahagian besar perang dan telah ditangkap oleh Jerman pada tahun 1918, yang akhirnya menyerahkan mereka kepada British, yang mensabotaj enjin mereka apabila mereka meninggalkan Crimea pada tahun 1919. Tidak bergerak, mereka telah ditangkap oleh kedua-dua orang Putih dan Bolshevik semasa Perang Saudara Rusia. Sinop telah ditinggalkan apabila armada Wrangel belayar ke Bizerte, tetapi Georgii Pobedonosets telah ditunda ke sana. Sinop telah dibatalkan bermula pada tahun 1922 oleh Soviet, manakala Georgii Pobedonosets akhirnya dibatalkan di Bizerte bermula pada tahun 1930 oleh Perancis.\\n<manusia>: Apakah nama yang diberikan kepada kapal perang kelas Ekaterina II?\\n<bot>: Kapal perang kelas Ekaterina II Kelas \\\"Ekaterina II\\\" ialah kelas empat kapal perang yang dibina untuk Tentera Laut Imperial Rusia pada tahun 1880-an.\\n<manusia>: Di manakah lokasi kapal perang?\\n<bot>: Mereka adalah kapal perang pertama yang dibina untuk Armada Laut Hitam.\\n<manusia>: Apakah yang menjadikan kapal perang itu unik?\\n<bot>: Reka bentuk mereka sangat luar biasa kerana mempunyai senapang utama pada tiga barbet yang dikumpulkan dalam segi tiga mengelilingi redoubt berperisai tengah, dua bersebelahan ke hadapan dan satu di garis tengah belakang.\\n<manusia>: Mengapa reka bentuk ini dipilih?\\n<bot>: Ini bertujuan untuk memaksimumkan kuasa tembakan mereka ke hadapan, kedua-duanya semasa beroperasi di perairan sempit Bosphorus dan apabila merempuh.\\n<manusia>: apa-apa lagi?\\n<bot>: Pembinaan adalah perlahan kerana ia adalah kapal perang terbesar yang dibina sehingga itu di Laut Hitam, dan limbungan kapal perlu dinaik taraf untuk mengendalikannya.\\n<manusia>: Adakah mereka mengalami sebarang masalah?\\n<bot>: Keempat-empat kapal berada di Sevastopol apabila kru kapal perang itu memberontak pada Jun 1905. krunya dianggap tidak boleh dipercayai, dan dia telah dilumpuhkan untuk menghalangnya daripada menyertai pemberontakan. Krewnya juga dianggap tidak boleh dipercayai, tetapi dia mengiringi \\\"Potemkin\\\" sambil menariknya kembali ke Sevastopol dari Constan\\u021ba, Romania, tempat kru \\\"Potemkin\\\" telah mendapatkan suaka.\", \"output\": null}\r\n",
      "{\"prompt_input\": null, \"input\": \"<manusia>: Apakah ciri-ciri muncung yang menunjukkan bahawa Majungasaurus mempunyai strategi gigit dan tahan?\\n<bot>: \\\"Majungasaurus\\\" mempunyai muncung yang lebih lebar daripada abelisaurid lain, dan aspek anatominya yang lain juga mungkin menyokong hipotesis gigitan dan tahan.\\n<manusia>: apakah ciri lain moncong yang mencadangkan strategi gigit dan tahan?\\n<bot>: Leher dikuatkan, dengan vertebra yang teguh, rusuk yang saling berkait dan tendon yang beros, serta tapak perlekatan otot yang diperkukuh pada vertebra dan belakang tengkorak.\\n<manusia>: apakah maksud tulang rusuk yang saling mengunci berkenaan dengan strategi gigit dan tahan?\\n<bot>: Otot-otot ini akan dapat menahan kepala dengan mantap walaupun mangsanya bergelut.\\n<manusia>: seterusnya\\n<bot>: Tengkorak abelisaurid juga diperkukuh di banyak kawasan oleh tulang yang dimineralkan daripada kulit, menghasilkan ciri tekstur kasar tulang.\\n<manusia>: apakah maksud tekstur kasar itu?\\n<bot>: Ini terutama berlaku untuk \\\"Majungasaurus\\\", di mana tulang hidung dicantum dan menebal untuk kekuatan.\\n<manusia>: adakah mereka mempunyai ciri lain yang membantu dengan strategi gigit dan tahan?\\n<bot>: Sebaliknya, rahang bawah \\\"Majungasaurus\\\" mempunyai fenestra (pembukaan) yang besar pada setiap sisi, seperti yang dilihat pada seratosauria lain, serta sendi sinovial antara tulang tertentu yang membolehkan tahap fleksibiliti yang tinggi dalam rahang bawah, walaupun tidak setakat yang dilihat pada ular.\\n<manusia>: Merumuskan perkara di atas, berikan saya artikel tentang \\\\\\\"cicak Mahajanga\\\\, Madagascar, Zaman Cretaceous, membincangkan secara terperinci dinosaur, genus dalam dua perenggan. Akhiri dengan ayat tentang Majungasaurus, Rapetosaurus.\\n<bot>: Majungasaurus (/m\\u0259\\u02ccd\\u0292\\u028c\\u014b\\u0261\\u0259\\u02c8s\\u0254\\u02d0r\\u0259s/; \\\\\\\"Kadal Mahajanga\\\\\\\") ialah genus dinosaur theropod abelisaurid yang hidup di Madagascar dari 70 hingga 66 juta tahun dahulu, pada penghujung Zaman Cretaceous, menjadikannya salah satu yang terakhir dinosaur bukan burung yang diketahui telah pupus semasa peristiwa kepupusan Cretaceous-Paleogene. Genus ini mengandungi satu spesies, Majungasaurus crenatissimus. Dinosaur ini juga dipanggil Majungatholus, nama yang dianggap sebagai sinonim muda Majungasaurus. Seperti abelisaurid lain, Majungasaurus ialah pemangsa bipedal dengan muncung pendek.\\nWalaupun kaki depan tidak diketahui sepenuhnya, ia sangat pendek, manakala anggota belakang lebih panjang dan sangat gempal. Ia boleh dibezakan daripada abelisaurid lain dengan tengkoraknya yang lebih luas, tekstur yang sangat kasar dan tulang yang menebal pada bahagian atas muncungnya, dan tanduk bulat tunggal pada bumbung tengkoraknya, yang pada asalnya disalah anggap sebagai kubah pachycephalosaur. Ia juga mempunyai lebih banyak gigi di kedua-dua rahang atas dan bawah daripada kebanyakan abelisaurid. Dikenali daripada beberapa tengkorak yang dipelihara dengan baik dan bahan rangka yang banyak, Majungasaurus baru-baru ini telah menjadi salah satu dinosaur theropod terbaik yang dikaji dari Hemisfera Selatan. Ia nampaknya paling berkait rapat dengan abelisaurid dari India dan bukannya Amerika Selatan atau benua Afrika, fakta yang mempunyai implikasi biogeografi yang penting. Majungasaurus ialah pemangsa puncak dalam ekosistemnya, terutamanya memangsa sauropoda seperti Rapetosaurus, dan juga salah satu daripada beberapa dinosaur yang mempunyai bukti langsung tentang kanibalisme.\", \"output\": null}\r\n",
      "{\"prompt_input\": null, \"input\": \"Latar Belakang: Ant\\u00f3nio Ginestal Machado (3 Mei 1873 \\u2013 28 Jun 1940; sebutan Portugis: [\\u0250\\u0303t\\u0254niu \\u0292in\\u0268\\u0283ta\\u026b m\\u0250\\u02c8\\u0283adu]) ialah seorang ahli politik Portugis. Dia dilahirkan di Almeida, lulus dalam Undang-undang di Universiti Coimbra dan menjadi guru sekolah menengah. Seorang ahli Kesatuan Republikan yang sederhana, beliau adalah salah seorang penganjur percantumannya dengan Parti Evolusionis yang melahirkan Parti Liberal Republikan. Beliau adalah Presiden Kementerian (Perdana Menteri), dari 15 November hingga 14 Disember 1923, dalam kerajaan minoriti. Dia meletak jawatan kerana penentangan Presiden Manuel Teixeira Gomes untuk membubarkan parlimen, selepas percubaan pemberontakan. Dia meninggal dunia di Santar\\u00e9m.\\n<manusia>: Siapa Ant\\u00f3nio Ginestal Machado?\\n<bot>: Ant\\u00f3nio Ginestal Machado Ant\\u00f3nio Ginestal Machado (3 Mei 1873 di Almeida \\u2013 28 Jun 1940 di Santar\\u00e9m; ) ialah seorang ahli politik Portugis.\\n<manusia>: Apa yang dia lakukan untuk pendidikan tinggi?\\n<bot>: Beliau telah lulus dalam Undang-undang oleh Universiti Coimbra dan seorang guru sekolah menengah.\\n<manusia>: Apakah dia aktif dalam politik?\\n<bot>: Seorang ahli Kesatuan Republikan yang disederhanakan, beliau adalah salah seorang penganjur gabungannya dengan Parti Evolusionis, yang melahirkan Parti Liberal Republik.\\n<manusia>: Apakah beberapa pencapaiannya?\\n<bot>: Beliau adalah Presiden Kementerian (Perdana Menteri), dari 15 November hingga 14 Disember 1923, dalam kerajaan minoriti.\\n<manusia>: Apakah beberapa pencapaiannya yang lain?\\n<bot>: Dia meletak jawatan kerana penentangan Presiden Manuel Teixeira Gomes membubarkan parlimen, selepas percubaan pemberontakan.\", \"output\": null}\r\n"
     ]
    }
   ],
   "source": [
    "!tail -n 3 combine-1536.jsonl"
   ]
  },
  {
   "cell_type": "code",
   "execution_count": 19,
   "metadata": {},
   "outputs": [],
   "source": [
    "!shuf combine-1536.jsonl > shuf-combine-1536.jsonl"
   ]
  },
  {
   "cell_type": "code",
   "execution_count": 20,
   "metadata": {},
   "outputs": [],
   "source": [
    "# !cp shuf-combine-1536.jsonl /home/husein/dev/malaya/session/llama2"
   ]
  },
  {
   "cell_type": "code",
   "execution_count": 21,
   "metadata": {},
   "outputs": [],
   "source": [
    "with open('shuf-combine-1536.jsonl') as fopen:\n",
    "    for l in fopen:\n",
    "        if 'tidak pasti apa yang anda maksudkan dengan' in l:\n",
    "            print(l)"
   ]
  }
 ],
 "metadata": {
  "kernelspec": {
   "display_name": "Python 3 (ipykernel)",
   "language": "python",
   "name": "python3"
  },
  "language_info": {
   "codemirror_mode": {
    "name": "ipython",
    "version": 3
   },
   "file_extension": ".py",
   "mimetype": "text/x-python",
   "name": "python",
   "nbconvert_exporter": "python",
   "pygments_lexer": "ipython3",
   "version": "3.8.10"
  }
 },
 "nbformat": 4,
 "nbformat_minor": 4
}
