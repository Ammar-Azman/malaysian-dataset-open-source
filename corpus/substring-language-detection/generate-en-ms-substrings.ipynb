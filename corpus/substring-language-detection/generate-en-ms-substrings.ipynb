{
 "cells": [
  {
   "cell_type": "code",
   "execution_count": 1,
   "id": "b2dfb555",
   "metadata": {},
   "outputs": [],
   "source": [
    "import os\n",
    "\n",
    "os.environ['CUDA_VISIBLE_DEVICES'] = ''"
   ]
  },
  {
   "cell_type": "code",
   "execution_count": 2,
   "id": "9f18f13e",
   "metadata": {},
   "outputs": [],
   "source": [
    "with open('train-en/left.txt') as fopen:\n",
    "    left = fopen.read().split('\\n')\n",
    "    \n",
    "with open('train-en/right.txt') as fopen:\n",
    "    right = fopen.read().split('\\n')"
   ]
  },
  {
   "cell_type": "code",
   "execution_count": 3,
   "id": "3002e16c",
   "metadata": {},
   "outputs": [
    {
     "name": "stderr",
     "output_type": "stream",
     "text": [
      "/home/husein/.local/lib/python3.8/site-packages/tensorflow_addons/utils/ensure_tf_install.py:53: UserWarning: Tensorflow Addons supports using Python ops for all Tensorflow versions above or equal to 2.3.0 and strictly below 2.5.0 (nightly versions are not supported). \n",
      " The versions of TensorFlow you are currently using is 2.6.0 and is not supported. \n",
      "Some things might work, some things might not.\n",
      "If you were to encounter a bug, do not file an issue.\n",
      "If you want to make sure you're using a tested and supported configuration, either change the TensorFlow version or the TensorFlow Addons's version. \n",
      "You can find the compatibility matrix in TensorFlow Addon's readme:\n",
      "https://github.com/tensorflow/addons\n",
      "  warnings.warn(\n",
      "/home/husein/.local/lib/python3.8/site-packages/tensorflow_addons/utils/resource_loader.py:72: UserWarning: You are currently using TensorFlow 2.6.0 and trying to load a custom op (custom_ops/seq2seq/_beam_search_ops.so).\n",
      "TensorFlow Addons has compiled its custom ops against TensorFlow 2.4.0, and there are no compatibility guarantees between the two versions. \n",
      "This means that you might get segfaults when loading the custom op, or other kind of low-level errors.\n",
      " If you do, do not file an issue on Github. This is a known limitation.\n",
      "\n",
      "It might help you to fallback to pure Python ops with TF_ADDONS_PY_OPS . To do that, see https://github.com/tensorflow/addons#gpucpu-custom-ops \n",
      "\n",
      "You can also change the TensorFlow version installed on your system. You would need a TensorFlow version equal to or above 2.4.0 and strictly below 2.5.0.\n",
      " Note that nightly versions of TensorFlow, as well as non-pip TensorFlow like `conda install tensorflow` or compiled from source are not supported.\n",
      "\n",
      "The last solution is to find the TensorFlow Addons version that has custom ops compatible with the TensorFlow installed on your system. To do that, refer to the readme: https://github.com/tensorflow/addons\n",
      "  warnings.warn(\n",
      "/home/husein/.local/lib/python3.8/site-packages/malaya_boilerplate/frozen_graph.py:35: UserWarning: Cannot import beam_search_ops from Tensorflow Addons, ['malaya.jawi_rumi.deep_model', 'malaya.phoneme.deep_model', 'malaya.rumi_jawi.deep_model', 'malaya.stem.deep_model'] will not available to use, make sure Tensorflow Addons version >= 0.12.0\n",
      "  warnings.warn(\n"
     ]
    }
   ],
   "source": [
    "import malaya"
   ]
  },
  {
   "cell_type": "code",
   "execution_count": 4,
   "id": "b0dc485d",
   "metadata": {},
   "outputs": [],
   "source": [
    "from malaya.text.rules import rules_normalizer, rules_compound_normalizer\n",
    "from malaya.text.normalization import _is_number_regex\n",
    "from malaya.text.function import replace_punct\n",
    "from collections import defaultdict\n",
    "import re\n",
    "import random\n",
    "import json"
   ]
  },
  {
   "cell_type": "code",
   "execution_count": 5,
   "id": "729f5301",
   "metadata": {},
   "outputs": [],
   "source": [
    "PUNCTUATION = '!\"#$%&\\'()*+,./:;<=>?@[\\]^_`{|}~'\n",
    "\n",
    "def case_of(text):\n",
    "    return (\n",
    "        str.upper\n",
    "        if text.isupper()\n",
    "        else str.lower\n",
    "        if text.islower()\n",
    "        else str.title\n",
    "        if text.istitle()\n",
    "        else str\n",
    "    )\n",
    "\n",
    "def strip_punct(word):\n",
    "    left = []\n",
    "    right = []\n",
    "    i = 0\n",
    "    while i < len(word):\n",
    "        if word[i] in PUNCTUATION:\n",
    "            left.append(word[i])\n",
    "            i += 1\n",
    "        else:\n",
    "            break\n",
    "    i = len(word) - 1\n",
    "    while i > 0:\n",
    "        if word[i] in PUNCTUATION:\n",
    "            right.append(word[i])\n",
    "            i -= 1\n",
    "        else:\n",
    "            break\n",
    "    left = ''.join(left)\n",
    "    right = ''.join(right[::-1])\n",
    "    if len(right):\n",
    "        word_ = word[:-len(right)]\n",
    "    else:\n",
    "        word_ = word\n",
    "    word_ = word_[len(left):]\n",
    "    return left, right, word_"
   ]
  },
  {
   "cell_type": "code",
   "execution_count": 6,
   "id": "7b1404c4",
   "metadata": {},
   "outputs": [],
   "source": [
    "def replace_words_punct(left_word, right_word):\n",
    "    left_left, left_right, left_word = strip_punct(left_word)\n",
    "    right_left, right_right, right_word = strip_punct(right_word)\n",
    "    return f'{left_left}{right_word}{left_right}'\n",
    "\n",
    "def random_replace_alignment(left, right, alignment, min_replace = 5, max_replace = 15):\n",
    "    splitted_left = left.split()\n",
    "    splitted_right = right.split()\n",
    "    \n",
    "    selected_alignment = []\n",
    "    for s in alignment:\n",
    "        l = s[0]\n",
    "        r = s[1]\n",
    "        try:\n",
    "            if _is_number_regex(splitted_left[l].replace(',', '').replace('.', '')) or _is_number_regex(splitted_right[r].replace(',', '').replace('.', '')):\n",
    "                continue\n",
    "            elif splitted_left[l].isupper() or splitted_right[r].isupper():\n",
    "                continue\n",
    "            elif splitted_left[l].lower() == splitted_right[r].lower():\n",
    "                continue\n",
    "            elif splitted_left[r].lower() in ['the', 'a', 'an', 'it', 'is', 'are']:\n",
    "                continue\n",
    "            else:\n",
    "                selected_alignment.append((l, r))\n",
    "        except:\n",
    "            pass\n",
    "    \n",
    "    try:\n",
    "        count_replace = random.randint(min_replace, min(max_replace, len(selected_alignment)))\n",
    "        selected = random.sample(selected_alignment, count_replace)\n",
    "        for s in selected:\n",
    "            splitted_left[s[0]] = replace_words_punct(splitted_left[s[0]], splitted_right[s[1]])\n",
    "\n",
    "        return ' '.join(splitted_left), selected\n",
    "    \n",
    "    except:\n",
    "        return ' '.join(splitted_left), []"
   ]
  },
  {
   "cell_type": "code",
   "execution_count": 7,
   "id": "045740da",
   "metadata": {},
   "outputs": [],
   "source": [
    "eflomal = malaya.alignment.en_ms.eflomal(preprocessing_func=replace_punct)"
   ]
  },
  {
   "cell_type": "code",
   "execution_count": 8,
   "id": "cc455825",
   "metadata": {},
   "outputs": [
    {
     "name": "stderr",
     "output_type": "stream",
     "text": [
      "Warning : `load_model` does not return WordVectorModel or SupervisedModel any more, but a `FastText` object which is very similar.\n"
     ]
    }
   ],
   "source": [
    "model = malaya.language_detection.substring_rules()"
   ]
  },
  {
   "cell_type": "code",
   "execution_count": 9,
   "id": "fa5c9c36",
   "metadata": {},
   "outputs": [],
   "source": [
    "tokenizer = malaya.tokenizer.Tokenizer()"
   ]
  },
  {
   "cell_type": "code",
   "execution_count": 10,
   "id": "b8f5b004",
   "metadata": {},
   "outputs": [],
   "source": [
    "l = ' '.join(tokenizer.tokenize(left[0]))\n",
    "r = ' '.join(tokenizer.tokenize(right[0]))"
   ]
  },
  {
   "cell_type": "code",
   "execution_count": 11,
   "id": "0c98d125",
   "metadata": {},
   "outputs": [
    {
     "name": "stdout",
     "output_type": "stream",
     "text": [
      "CPU times: user 4.46 ms, sys: 44.2 ms, total: 48.6 ms\n",
      "Wall time: 161 ms\n"
     ]
    }
   ],
   "source": [
    "%%time\n",
    "\n",
    "alignment = eflomal.align([l], [r])['forward'][0]"
   ]
  },
  {
   "cell_type": "code",
   "execution_count": 12,
   "id": "455c4b0a",
   "metadata": {
    "scrolled": true
   },
   "outputs": [
    {
     "data": {
      "text/plain": [
       "('Most ini them are remaja ataupun dalam lengkongan 20s .',\n",
       " [(1, 2), (7, 7), (5, 5), (4, 4), (6, 6)])"
      ]
     },
     "execution_count": 12,
     "metadata": {},
     "output_type": "execute_result"
    }
   ],
   "source": [
    "r_ = random_replace_alignment(l, r, alignment)\n",
    "r_"
   ]
  },
  {
   "cell_type": "code",
   "execution_count": 13,
   "id": "69095d57",
   "metadata": {},
   "outputs": [
    {
     "data": {
      "text/plain": [
       "[(1, 2), (7, 7), (5, 5), (4, 4), (6, 6)]"
      ]
     },
     "execution_count": 13,
     "metadata": {},
     "output_type": "execute_result"
    }
   ],
   "source": [
    "r_[1]"
   ]
  },
  {
   "cell_type": "code",
   "execution_count": 14,
   "id": "c1b531fd",
   "metadata": {},
   "outputs": [
    {
     "data": {
      "text/plain": [
       "'Most ini them are remaja ataupun dalam lengkongan 20s .'"
      ]
     },
     "execution_count": 14,
     "metadata": {},
     "output_type": "execute_result"
    }
   ],
   "source": [
    "r_[0]"
   ]
  },
  {
   "cell_type": "code",
   "execution_count": 15,
   "id": "99d15117",
   "metadata": {},
   "outputs": [
    {
     "data": {
      "text/plain": [
       "['EN', 'MS', 'EN', 'EN', 'MS', 'MS', 'MS', 'MS', 'NOT_LANG', 'NOT_LANG']"
      ]
     },
     "execution_count": 15,
     "metadata": {},
     "output_type": "execute_result"
    }
   ],
   "source": [
    "predicted = model.predict(l.split())\n",
    "for i in r_[1]:\n",
    "    predicted[i[0]] = 'MS'\n",
    "predicted"
   ]
  },
  {
   "cell_type": "code",
   "execution_count": 24,
   "id": "98055a1d",
   "metadata": {},
   "outputs": [],
   "source": [
    "from tqdm import tqdm\n",
    "\n",
    "def loop(rows):\n",
    "    rows, _ = rows\n",
    "    strings, labels = [], []\n",
    "    for i in tqdm(range(len(rows))):\n",
    "        try:\n",
    "            left_, right_ = rows[i][0], rows[i][1]\n",
    "            tokenized_l = tokenizer.tokenize(left_)\n",
    "            tokenized_r = tokenizer.tokenize(right_)\n",
    "            l = ' '.join(tokenized_l)\n",
    "            r = ' '.join(tokenized_r)\n",
    "            \n",
    "            if len(tokenized_l) > 60 or len(tokenized_r) > 60:\n",
    "                continue\n",
    "                \n",
    "            alignment = eflomal.align([l], [r])['forward'][0]\n",
    "            r_ = random_replace_alignment(l, r, alignment)\n",
    "            predicted = model.predict(l.split())\n",
    "            for k in r_[1]:\n",
    "                predicted[k[0]] = 'MS'\n",
    "            strings.append(r_[0])\n",
    "            labels.append(predicted)\n",
    "        except Exception as e:\n",
    "            print(e)\n",
    "    \n",
    "    return [[strings, labels]]"
   ]
  },
  {
   "cell_type": "code",
   "execution_count": 25,
   "id": "d5fb7e68",
   "metadata": {
    "scrolled": true
   },
   "outputs": [
    {
     "name": "stderr",
     "output_type": "stream",
     "text": [
      "100%|████████████████████████████████████████████████████████████████████████████████████████████████| 10/10 [00:01<00:00,  6.03it/s]\n"
     ]
    }
   ],
   "source": [
    "r = loop((list(zip(left[:10], right[:10])),0))"
   ]
  },
  {
   "cell_type": "code",
   "execution_count": 23,
   "id": "3c083549",
   "metadata": {},
   "outputs": [],
   "source": [
    "import mp"
   ]
  },
  {
   "cell_type": "code",
   "execution_count": 38,
   "id": "0864914f",
   "metadata": {},
   "outputs": [
    {
     "name": "stderr",
     "output_type": "stream",
     "text": [
      "100%|████████████████████████████████████████████████████████████████████████████████████████| 50000/50000 [5:04:13<00:00,  2.74it/s]\n",
      "100%|████████████████████████████████████████████████████████████████████████████████████████| 50000/50000 [5:04:45<00:00,  2.73it/s]\n",
      "100%|████████████████████████████████████████████████████████████████████████████████████████| 50000/50000 [5:04:53<00:00,  2.73it/s]\n",
      "100%|████████████████████████████████████████████████████████████████████████████████████████| 50000/50000 [5:05:29<00:00,  2.73it/s]\n"
     ]
    }
   ],
   "source": [
    "r = mp.multiprocessing(list(zip(left[200000:400000], right[200000:400000])), loop, cores = 4)"
   ]
  },
  {
   "cell_type": "code",
   "execution_count": 39,
   "id": "aa02aacf",
   "metadata": {},
   "outputs": [
    {
     "name": "stdout",
     "output_type": "stream",
     "text": [
      "0 42868\n",
      "1 42709\n",
      "2 42683\n",
      "3 42770\n"
     ]
    }
   ],
   "source": [
    "strings, labels = [], []\n",
    "for i in range(len(r)):\n",
    "    print(i, len(r[i][0]))\n",
    "    strings.extend(r[i][0])\n",
    "    labels.extend(r[i][1])"
   ]
  },
  {
   "cell_type": "code",
   "execution_count": 40,
   "id": "88d9b130",
   "metadata": {},
   "outputs": [
    {
     "data": {
      "text/plain": [
       "('Pada 2014 , beliau menjadi eksekutif penerbit kepada \" Hungry Ghost Ritual \" di the direction pelakon Hong Kong actor Nick Cheung .',\n",
       " ['MS',\n",
       "  'NOT_LANG',\n",
       "  'NOT_LANG',\n",
       "  'MS',\n",
       "  'MS',\n",
       "  'MS',\n",
       "  'MS',\n",
       "  'MS',\n",
       "  'NOT_LANG',\n",
       "  'EN',\n",
       "  'EN',\n",
       "  'EN',\n",
       "  'NOT_LANG',\n",
       "  'MS',\n",
       "  'EN',\n",
       "  'EN',\n",
       "  'MS',\n",
       "  'EN',\n",
       "  'EN',\n",
       "  'EN',\n",
       "  'EN',\n",
       "  'EN',\n",
       "  'NOT_LANG'])"
      ]
     },
     "execution_count": 40,
     "metadata": {},
     "output_type": "execute_result"
    }
   ],
   "source": [
    "strings[-1], labels[-1]"
   ]
  },
  {
   "cell_type": "code",
   "execution_count": 41,
   "id": "edbe2234",
   "metadata": {},
   "outputs": [],
   "source": [
    "with open('en-ms-substrings-v2.json', 'w') as fopen:\n",
    "    json.dump({'strings': strings, 'labels': labels}, fopen)"
   ]
  },
  {
   "cell_type": "code",
   "execution_count": 42,
   "id": "cb9beab8",
   "metadata": {},
   "outputs": [],
   "source": [
    "with open('en-ms-substrings-v2.json') as fopen:\n",
    "    data = json.load(fopen)"
   ]
  },
  {
   "cell_type": "code",
   "execution_count": 43,
   "id": "39f45827",
   "metadata": {},
   "outputs": [
    {
     "data": {
      "text/plain": [
       "'Jengka Teknik Menengah Sekolah Jengka Teknik Menengah Sekolah atau ringkasnya nama \" SM Teknik Jengka \" , is a Technical High Sekolah located in yang Central Bandar Pusat Jengka .'"
      ]
     },
     "execution_count": 43,
     "metadata": {},
     "output_type": "execute_result"
    }
   ],
   "source": [
    "data['strings'][10]"
   ]
  },
  {
   "cell_type": "code",
   "execution_count": 44,
   "id": "ba652317",
   "metadata": {},
   "outputs": [
    {
     "data": {
      "text/plain": [
       "['MS',\n",
       " 'MS',\n",
       " 'MS',\n",
       " 'MS',\n",
       " 'MS',\n",
       " 'MS',\n",
       " 'MS',\n",
       " 'MS',\n",
       " 'MS',\n",
       " 'MS',\n",
       " 'MS',\n",
       " 'NOT_LANG',\n",
       " 'CAPITAL',\n",
       " 'MS',\n",
       " 'MS',\n",
       " 'NOT_LANG',\n",
       " 'NOT_LANG',\n",
       " 'EN',\n",
       " 'EN',\n",
       " 'EN',\n",
       " 'EN',\n",
       " 'MS',\n",
       " 'EN',\n",
       " 'EN',\n",
       " 'MS',\n",
       " 'EN',\n",
       " 'MS',\n",
       " 'MS',\n",
       " 'MS',\n",
       " 'NOT_LANG']"
      ]
     },
     "execution_count": 44,
     "metadata": {},
     "output_type": "execute_result"
    }
   ],
   "source": [
    "data['labels'][10]"
   ]
  },
  {
   "cell_type": "code",
   "execution_count": null,
   "id": "88081cc0",
   "metadata": {},
   "outputs": [],
   "source": []
  }
 ],
 "metadata": {
  "kernelspec": {
   "display_name": "Python 3 (ipykernel)",
   "language": "python",
   "name": "python3"
  },
  "language_info": {
   "codemirror_mode": {
    "name": "ipython",
    "version": 3
   },
   "file_extension": ".py",
   "mimetype": "text/x-python",
   "name": "python",
   "nbconvert_exporter": "python",
   "pygments_lexer": "ipython3",
   "version": "3.8.10"
  }
 },
 "nbformat": 4,
 "nbformat_minor": 5
}
