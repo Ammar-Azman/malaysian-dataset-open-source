{
 "cells": [
  {
   "cell_type": "code",
   "execution_count": 4,
   "metadata": {},
   "outputs": [],
   "source": [
    "# !wget https://jmcauley.ucsd.edu/data/amazon_v2/metaFiles/All_Amazon_Meta.json.gz --no-check-certificate"
   ]
  },
  {
   "cell_type": "code",
   "execution_count": 6,
   "metadata": {},
   "outputs": [
    {
     "name": "stderr",
     "output_type": "stream",
     "text": [
      "/home/husein/.local/lib/python3.8/site-packages/urllib3/connectionpool.py:1013: InsecureRequestWarning: Unverified HTTPS request is being made to host 'jmcauley.ucsd.edu'. Adding certificate verification is strongly advised. See: https://urllib3.readthedocs.io/en/1.26.x/advanced-usage.html#ssl-warnings\n",
      "  warnings.warn(\n"
     ]
    }
   ],
   "source": [
    "import requests\n",
    "\n",
    "r = requests.get('https://jmcauley.ucsd.edu/data/amazon_v2/index.html', verify=False)"
   ]
  },
  {
   "cell_type": "code",
   "execution_count": 13,
   "metadata": {},
   "outputs": [],
   "source": [
    "from bs4 import BeautifulSoup\n",
    "\n",
    "soup = BeautifulSoup(r.text, \"lxml\")"
   ]
  },
  {
   "cell_type": "code",
   "execution_count": 29,
   "metadata": {},
   "outputs": [],
   "source": [
    "hrefs = []\n",
    "for link in soup.find_all(\"a\"):\n",
    "    href = link.get(\"href\")\n",
    "    if 'metaFiles2/' in href:\n",
    "        hrefs.append(href)"
   ]
  },
  {
   "cell_type": "code",
   "execution_count": 30,
   "metadata": {},
   "outputs": [
    {
     "data": {
      "text/plain": [
       "['metaFiles2/meta_AMAZON_FASHION.json.gz',\n",
       " 'metaFiles2/meta_All_Beauty.json.gz',\n",
       " 'metaFiles2/meta_Appliances.json.gz',\n",
       " 'metaFiles2/meta_Arts_Crafts_and_Sewing.json.gz',\n",
       " 'metaFiles2/meta_Automotive.json.gz',\n",
       " 'metaFiles2/meta_Books.json.gz',\n",
       " 'metaFiles2/meta_CDs_and_Vinyl.json.gz',\n",
       " 'metaFiles2/meta_Cell_Phones_and_Accessories.json.gz',\n",
       " 'metaFiles2/meta_Clothing_Shoes_and_Jewelry.json.gz',\n",
       " 'metaFiles2/meta_Digital_Music.json.gz',\n",
       " 'metaFiles2/meta_Electronics.json.gz',\n",
       " 'metaFiles2/meta_Gift_Cards.json.gz',\n",
       " 'metaFiles2/meta_Grocery_and_Gourmet_Food.json.gz',\n",
       " 'metaFiles2/meta_Home_and_Kitchen.json.gz',\n",
       " 'metaFiles2/meta_Industrial_and_Scientific.json.gz',\n",
       " 'metaFiles2/meta_Kindle_Store.json.gz',\n",
       " 'metaFiles2/meta_Luxury_Beauty.json.gz',\n",
       " 'metaFiles2/meta_Magazine_Subscriptions.json.gz',\n",
       " 'metaFiles2/meta_Movies_and_TV.json.gz',\n",
       " 'metaFiles2/meta_Musical_Instruments.json.gz',\n",
       " 'metaFiles2/meta_Office_Products.json.gz',\n",
       " 'metaFiles2/meta_Patio_Lawn_and_Garden.json.gz',\n",
       " 'metaFiles2/meta_Pet_Supplies.json.gz',\n",
       " 'metaFiles2/meta_Prime_Pantry.json.gz',\n",
       " 'metaFiles2/meta_Software.json.gz',\n",
       " 'metaFiles2/meta_Sports_and_Outdoors.json.gz',\n",
       " 'metaFiles2/meta_Tools_and_Home_Improvement.json.gz',\n",
       " 'metaFiles2/meta_Toys_and_Games.json.gz',\n",
       " 'metaFiles2/meta_Video_Games.json.gz']"
      ]
     },
     "execution_count": 30,
     "metadata": {},
     "output_type": "execute_result"
    }
   ],
   "source": [
    "hrefs"
   ]
  },
  {
   "cell_type": "code",
   "execution_count": 57,
   "metadata": {},
   "outputs": [],
   "source": [
    "import os\n",
    "from tqdm import tqdm\n",
    "from glob import glob\n",
    "\n",
    "url = 'https://jmcauley.ucsd.edu/data/amazon_v2/'"
   ]
  },
  {
   "cell_type": "code",
   "execution_count": 55,
   "metadata": {},
   "outputs": [],
   "source": [
    "!rm meta_Home_and_Kitchen.json.gz meta_Industrial_and_Scientific.json.gz meta_Pet_Supplies.json.gz"
   ]
  },
  {
   "cell_type": "code",
   "execution_count": 56,
   "metadata": {},
   "outputs": [
    {
     "name": "stdout",
     "output_type": "stream",
     "text": [
      "metaFiles2/meta_Home_and_Kitchen.json.gz\n",
      "metaFiles2/meta_Industrial_and_Scientific.json.gz\n",
      "metaFiles2/meta_Kindle_Store.json.gz\n",
      "metaFiles2/meta_Luxury_Beauty.json.gz\n",
      "metaFiles2/meta_Magazine_Subscriptions.json.gz\n",
      "metaFiles2/meta_Movies_and_TV.json.gz\n",
      "metaFiles2/meta_Musical_Instruments.json.gz\n",
      "metaFiles2/meta_Office_Products.json.gz\n",
      "metaFiles2/meta_Patio_Lawn_and_Garden.json.gz\n",
      "metaFiles2/meta_Pet_Supplies.json.gz\n",
      "metaFiles2/meta_Prime_Pantry.json.gz\n",
      "metaFiles2/meta_Software.json.gz\n",
      "metaFiles2/meta_Sports_and_Outdoors.json.gz\n",
      "metaFiles2/meta_Tools_and_Home_Improvement.json.gz\n",
      "metaFiles2/meta_Toys_and_Games.json.gz\n",
      "metaFiles2/meta_Video_Games.json.gz\n"
     ]
    }
   ],
   "source": [
    "for h in hrefs:\n",
    "    f = os.path.split(h)[1]\n",
    "    if os.path.exists(f):\n",
    "        continue\n",
    "    print(h)\n",
    "        \n",
    "    os.system(f'wget {url}{h} --no-check-certificate -q')"
   ]
  },
  {
   "cell_type": "code",
   "execution_count": 61,
   "metadata": {},
   "outputs": [],
   "source": [
    "json_gz = sorted(glob('*.json.gz'))\n",
    "for f in json_gz:\n",
    "    os.system(f'gzip -dkf {f}')"
   ]
  },
  {
   "cell_type": "code",
   "execution_count": 54,
   "metadata": {},
   "outputs": [
    {
     "name": "stdout",
     "output_type": "stream",
     "text": [
      "\r\n",
      "gzip: meta_Pet_Supplies.json.gz: unexpected end of file\r\n"
     ]
    }
   ],
   "source": [
    "!gzip -dkf meta_Pet_Supplies.json.gz"
   ]
  },
  {
   "cell_type": "code",
   "execution_count": 84,
   "metadata": {
    "scrolled": true
   },
   "outputs": [
    {
     "data": {
      "text/plain": [
       "'meta_AMAZON_FASHION.json'"
      ]
     },
     "execution_count": 84,
     "metadata": {},
     "output_type": "execute_result"
    }
   ],
   "source": [
    "metas = sorted(glob('meta*.json'))\n",
    "metas[0]"
   ]
  },
  {
   "cell_type": "code",
   "execution_count": 91,
   "metadata": {},
   "outputs": [
    {
     "name": "stdout",
     "output_type": "stream",
     "text": [
      "meta_AMAZON_FASHION.json\n"
     ]
    },
    {
     "name": "stderr",
     "output_type": "stream",
     "text": [
      "186637it [00:00, 192017.97it/s]\n"
     ]
    },
    {
     "name": "stdout",
     "output_type": "stream",
     "text": [
      "meta_All_Beauty.json\n"
     ]
    },
    {
     "name": "stderr",
     "output_type": "stream",
     "text": [
      "32892it [00:00, 59594.65it/s]\n"
     ]
    },
    {
     "name": "stdout",
     "output_type": "stream",
     "text": [
      "meta_Appliances.json\n"
     ]
    },
    {
     "name": "stderr",
     "output_type": "stream",
     "text": [
      "30445it [00:03, 8026.51it/s]\n"
     ]
    },
    {
     "name": "stdout",
     "output_type": "stream",
     "text": [
      "meta_Arts_Crafts_and_Sewing.json\n"
     ]
    },
    {
     "name": "stderr",
     "output_type": "stream",
     "text": [
      "149999it [00:03, 48073.69it/s]\n"
     ]
    },
    {
     "name": "stdout",
     "output_type": "stream",
     "text": [
      "meta_Automotive.json\n"
     ]
    },
    {
     "name": "stderr",
     "output_type": "stream",
     "text": [
      "149999it [00:19, 7731.20it/s]\n"
     ]
    },
    {
     "name": "stdout",
     "output_type": "stream",
     "text": [
      "meta_Books.json\n"
     ]
    },
    {
     "name": "stderr",
     "output_type": "stream",
     "text": [
      "149999it [00:02, 69054.17it/s]\n"
     ]
    },
    {
     "name": "stdout",
     "output_type": "stream",
     "text": [
      "meta_CDs_and_Vinyl.json\n"
     ]
    },
    {
     "name": "stderr",
     "output_type": "stream",
     "text": [
      "149999it [00:01, 77955.84it/s]\n"
     ]
    },
    {
     "name": "stdout",
     "output_type": "stream",
     "text": [
      "meta_Cell_Phones_and_Accessories.json\n"
     ]
    },
    {
     "name": "stderr",
     "output_type": "stream",
     "text": [
      "149999it [00:03, 48775.83it/s]\n"
     ]
    },
    {
     "name": "stdout",
     "output_type": "stream",
     "text": [
      "meta_Clothing_Shoes_and_Jewelry.json\n"
     ]
    },
    {
     "name": "stderr",
     "output_type": "stream",
     "text": [
      "172955it [00:08, 21080.93it/s]\n"
     ]
    },
    {
     "name": "stdout",
     "output_type": "stream",
     "text": [
      "meta_Digital_Music.json\n"
     ]
    },
    {
     "name": "stderr",
     "output_type": "stream",
     "text": [
      "74347it [00:00, 91163.54it/s]\n"
     ]
    },
    {
     "name": "stdout",
     "output_type": "stream",
     "text": [
      "meta_Electronics.json\n"
     ]
    },
    {
     "name": "stderr",
     "output_type": "stream",
     "text": [
      "149999it [00:10, 14504.88it/s]\n"
     ]
    },
    {
     "name": "stdout",
     "output_type": "stream",
     "text": [
      "meta_Gift_Cards.json\n"
     ]
    },
    {
     "name": "stderr",
     "output_type": "stream",
     "text": [
      "1547it [00:00, 39901.78it/s]\n"
     ]
    },
    {
     "name": "stdout",
     "output_type": "stream",
     "text": [
      "meta_Grocery_and_Gourmet_Food.json\n"
     ]
    },
    {
     "name": "stderr",
     "output_type": "stream",
     "text": [
      "149999it [00:02, 62826.01it/s]\n"
     ]
    },
    {
     "name": "stdout",
     "output_type": "stream",
     "text": [
      "meta_Home_and_Kitchen.json\n"
     ]
    },
    {
     "name": "stderr",
     "output_type": "stream",
     "text": [
      "149999it [00:10, 13725.47it/s]\n"
     ]
    },
    {
     "name": "stdout",
     "output_type": "stream",
     "text": [
      "meta_Industrial_and_Scientific.json\n"
     ]
    },
    {
     "name": "stderr",
     "output_type": "stream",
     "text": [
      "149999it [00:04, 35810.77it/s]\n"
     ]
    },
    {
     "name": "stdout",
     "output_type": "stream",
     "text": [
      "meta_Kindle_Store.json\n"
     ]
    },
    {
     "name": "stderr",
     "output_type": "stream",
     "text": [
      "149999it [00:01, 88781.99it/s]\n"
     ]
    },
    {
     "name": "stdout",
     "output_type": "stream",
     "text": [
      "meta_Luxury_Beauty.json\n"
     ]
    },
    {
     "name": "stderr",
     "output_type": "stream",
     "text": [
      "12299it [00:00, 49090.71it/s]\n"
     ]
    },
    {
     "name": "stdout",
     "output_type": "stream",
     "text": [
      "meta_Magazine_Subscriptions.json\n"
     ]
    },
    {
     "name": "stderr",
     "output_type": "stream",
     "text": [
      "3385it [00:00, 62680.32it/s]\n"
     ]
    },
    {
     "name": "stdout",
     "output_type": "stream",
     "text": [
      "meta_Movies_and_TV.json\n"
     ]
    },
    {
     "name": "stderr",
     "output_type": "stream",
     "text": [
      "149999it [00:02, 73232.35it/s]\n"
     ]
    },
    {
     "name": "stdout",
     "output_type": "stream",
     "text": [
      "meta_Musical_Instruments.json\n"
     ]
    },
    {
     "name": "stderr",
     "output_type": "stream",
     "text": [
      "120310it [00:10, 11531.32it/s]\n"
     ]
    },
    {
     "name": "stdout",
     "output_type": "stream",
     "text": [
      "meta_Office_Products.json\n"
     ]
    },
    {
     "name": "stderr",
     "output_type": "stream",
     "text": [
      "149999it [00:18, 7964.14it/s] \n"
     ]
    },
    {
     "name": "stdout",
     "output_type": "stream",
     "text": [
      "meta_Patio_Lawn_and_Garden.json\n"
     ]
    },
    {
     "name": "stderr",
     "output_type": "stream",
     "text": [
      "149999it [00:13, 11308.92it/s]\n"
     ]
    },
    {
     "name": "stdout",
     "output_type": "stream",
     "text": [
      "meta_Pet_Supplies.json\n"
     ]
    },
    {
     "name": "stderr",
     "output_type": "stream",
     "text": [
      "149999it [00:29, 5026.57it/s] \n"
     ]
    },
    {
     "name": "stdout",
     "output_type": "stream",
     "text": [
      "meta_Prime_Pantry.json\n"
     ]
    },
    {
     "name": "stderr",
     "output_type": "stream",
     "text": [
      "10813it [00:00, 52112.88it/s]\n"
     ]
    },
    {
     "name": "stdout",
     "output_type": "stream",
     "text": [
      "meta_Software.json\n"
     ]
    },
    {
     "name": "stderr",
     "output_type": "stream",
     "text": [
      "26790it [00:00, 53098.20it/s]\n"
     ]
    },
    {
     "name": "stdout",
     "output_type": "stream",
     "text": [
      "meta_Sports_and_Outdoors.json\n"
     ]
    },
    {
     "name": "stderr",
     "output_type": "stream",
     "text": [
      "149999it [00:03, 37956.58it/s]\n"
     ]
    },
    {
     "name": "stdout",
     "output_type": "stream",
     "text": [
      "meta_Tools_and_Home_Improvement.json\n"
     ]
    },
    {
     "name": "stderr",
     "output_type": "stream",
     "text": [
      "149999it [00:21, 6924.81it/s]\n"
     ]
    },
    {
     "name": "stdout",
     "output_type": "stream",
     "text": [
      "meta_Toys_and_Games.json\n"
     ]
    },
    {
     "name": "stderr",
     "output_type": "stream",
     "text": [
      "149999it [00:23, 6323.65it/s] \n"
     ]
    },
    {
     "name": "stdout",
     "output_type": "stream",
     "text": [
      "meta_Video_Games.json\n"
     ]
    },
    {
     "name": "stderr",
     "output_type": "stream",
     "text": [
      "84819it [00:01, 47063.09it/s]\n"
     ]
    }
   ],
   "source": [
    "import json\n",
    "from tqdm import tqdm\n",
    "\n",
    "for f in metas:\n",
    "    print(f)\n",
    "    with open(f'{f}.filtered', 'w') as fwrite:\n",
    "        count = 0\n",
    "        with open(f) as fopen:\n",
    "            for l in tqdm(fopen):\n",
    "                data = json.loads(l)\n",
    "                if 'description' in data:\n",
    "                    fwrite.write(f'{json.dumps(data)}\\n')\n",
    "                    count += 1\n",
    "                    \n",
    "                if count >= 150000:\n",
    "                    break"
   ]
  },
  {
   "cell_type": "code",
   "execution_count": null,
   "metadata": {},
   "outputs": [],
   "source": []
  },
  {
   "cell_type": "code",
   "execution_count": 83,
   "metadata": {
    "scrolled": true
   },
   "outputs": [
    {
     "data": {
      "text/plain": [
       "15869"
      ]
     },
     "execution_count": 83,
     "metadata": {},
     "output_type": "execute_result"
    }
   ],
   "source": [
    "len(datas)"
   ]
  },
  {
   "cell_type": "code",
   "execution_count": 69,
   "metadata": {},
   "outputs": [],
   "source": [
    "from unidecode import unidecode\n",
    "import re\n",
    "\n",
    "# minimum cleaning, just simply to remove newlines.\n",
    "def cleaning(string):\n",
    "    string = string.replace('\\n', ' ')\n",
    "    string = re.sub(r'[ ]+', ' ', string).strip()\n",
    "    return string"
   ]
  },
  {
   "cell_type": "code",
   "execution_count": 78,
   "metadata": {},
   "outputs": [
    {
     "data": {
      "text/plain": [
       "'For the professional or amateur magician. Routines include: The Thought Transmitter (An accidental USAF experiment that became a hit at the Denver Playboy Club and continues through today!), Three Card Match (The trick that fooled Dai Vernon), Numbo-Jumbo (A stack of 85 cards containing random 2 and 4 digit numbers is apparently memorized), The Binary Box (Light the light even rocket scientists could not figure it out!), Kryptonite! (Anyone can be a superhero and save the day!), Laundry Quandary (Where did the missing sock go?), Comedy Birthday Cake Production Routine (The funniest and most memorable part of any kids birthday party.), Dazzling Divination! (A pocket mentalism effect that is always ready to go. If you do safety magic, heres a strong effect that packs real small.) and Sweet Sixteen (A great commercial effect that really gets your customers message across.) Included in his latest book is a bonus chapter entitled, Putting a Little Magic in your Life and Business. A book in itself! Not just for magicians, but for anyone who wants to add a little magic to their life, and stand out amongst the crowd. Learn ways to get known and not forgotten! By setting up your magical reputation, your business card wont be stuck in the middle of a pile YOU can control it to the top!'"
      ]
     },
     "execution_count": 78,
     "metadata": {},
     "output_type": "execute_result"
    }
   ],
   "source": [
    "text = cleaning(' '.join(datas[0]['description']))\n",
    "text"
   ]
  },
  {
   "cell_type": "code",
   "execution_count": 75,
   "metadata": {},
   "outputs": [],
   "source": [
    "from transformers import T5Tokenizer, T5ForConditionalGeneration"
   ]
  },
  {
   "cell_type": "code",
   "execution_count": 76,
   "metadata": {},
   "outputs": [
    {
     "data": {
      "application/vnd.jupyter.widget-view+json": {
       "model_id": "41e8ca54ab664964b03adb7ee7899575",
       "version_major": 2,
       "version_minor": 0
      },
      "text/plain": [
       "Downloading:   0%|          | 0.00/803k [00:00<?, ?B/s]"
      ]
     },
     "metadata": {},
     "output_type": "display_data"
    },
    {
     "data": {
      "application/vnd.jupyter.widget-view+json": {
       "model_id": "3bd020d2d57d4f8b90f0670fb3cfb14c",
       "version_major": 2,
       "version_minor": 0
      },
      "text/plain": [
       "Downloading:   0%|          | 0.00/2.20k [00:00<?, ?B/s]"
      ]
     },
     "metadata": {},
     "output_type": "display_data"
    },
    {
     "data": {
      "application/vnd.jupyter.widget-view+json": {
       "model_id": "08a57c018a4a44a7b4138d6d0ccc6ba1",
       "version_major": 2,
       "version_minor": 0
      },
      "text/plain": [
       "Downloading:   0%|          | 0.00/2.55k [00:00<?, ?B/s]"
      ]
     },
     "metadata": {},
     "output_type": "display_data"
    },
    {
     "data": {
      "application/vnd.jupyter.widget-view+json": {
       "model_id": "2227a79bba334c7e847534fef9746799",
       "version_major": 2,
       "version_minor": 0
      },
      "text/plain": [
       "Downloading:   0%|          | 0.00/818 [00:00<?, ?B/s]"
      ]
     },
     "metadata": {},
     "output_type": "display_data"
    },
    {
     "data": {
      "application/vnd.jupyter.widget-view+json": {
       "model_id": "7c10461ccc8a4ba49e9db81852ec59d3",
       "version_major": 2,
       "version_minor": 0
      },
      "text/plain": [
       "Downloading:   0%|          | 0.00/242M [00:00<?, ?B/s]"
      ]
     },
     "metadata": {},
     "output_type": "display_data"
    }
   ],
   "source": [
    "tokenizer = T5Tokenizer.from_pretrained('mesolitica/finetune-translation-t5-small-standard-bahasa-cased')\n",
    "model = T5ForConditionalGeneration.from_pretrained('mesolitica/finetune-translation-t5-small-standard-bahasa-cased')"
   ]
  },
  {
   "cell_type": "code",
   "execution_count": 80,
   "metadata": {},
   "outputs": [],
   "source": [
    "input_ids = tokenizer.encode(f'terjemah Inggeris ke Melayu: {text}', return_tensors='pt')\n",
    "outputs = model.generate(input_ids, max_length=512)\n",
    "t = tokenizer.decode(outputs[0], skip_special_tokens=True)"
   ]
  },
  {
   "cell_type": "code",
   "execution_count": 81,
   "metadata": {},
   "outputs": [
    {
     "data": {
      "text/plain": [
       "'Untuk ahli silap mata profesional atau amatur. Rutin termasuk: The Thought Transmitter (Percubaan USAF yang tidak disengajakan yang menjadi hit di Denver Playboy Club dan berterusan hingga hari ini!), Three Card Match (Titik yang menipu Dai Vernon), Numbo-Jumbo (Setapan 85 kad yang mengandungi nombor 2 dan 4 digit rawak nampaknya dihafal), Kotak Binari (Cahaya cahaya bahkan saintis roket tidak dapat mengetahuinya!), Kryptonite! (Sesiapa sahaja boleh menjadi superhero dan menyelamatkan hari!), Laundry Quandary (Ke mana kaus kaki yang hilang?), Rutin Pengeluaran Kek Hari Jadi Komedi (Bahagian paling lucu dan paling tidak dapat dilupakan dari mana-mana pesta ulang tahun kanak-kanak.), Kepercayaan Berbisik! (Kesan mentalisme poket yang selalu siap untuk dilalui. Sekiranya anda melakukan sihir keselamatan, berikut adalah kesan kuat yang membungkus kecil.) Dan Sweet Sixteen (Kesan komersial yang hebat yang benar-benar membuat pesanan pelanggan anda.) Termasuk dalam buku terbarunya adalah bab bonus berjudul, Meletakkan Sihir Kecil dalam Kehidupan dan Perniagaan anda. Buku dengan sendirinya! Bukan hanya untuk ahli silap mata, tetapi bagi sesiapa sahaja yang ingin menambahkan sedikit sihir dalam hidup mereka, dan menonjol di kalangan orang ramai. Ketahui cara untuk dikenali dan tidak dilupakan! Dengan menubuhkan reputasi ajaib anda, kad perniagaan anda tidak akan tersekat di tengah tumpukan ANDA dapat mengawalnya ke puncak!'"
      ]
     },
     "execution_count": 81,
     "metadata": {},
     "output_type": "execute_result"
    }
   ],
   "source": [
    "t"
   ]
  },
  {
   "cell_type": "code",
   "execution_count": null,
   "metadata": {},
   "outputs": [],
   "source": []
  }
 ],
 "metadata": {
  "kernelspec": {
   "display_name": "Python 3 (ipykernel)",
   "language": "python",
   "name": "python3"
  },
  "language_info": {
   "codemirror_mode": {
    "name": "ipython",
    "version": 3
   },
   "file_extension": ".py",
   "mimetype": "text/x-python",
   "name": "python",
   "nbconvert_exporter": "python",
   "pygments_lexer": "ipython3",
   "version": "3.8.10"
  }
 },
 "nbformat": 4,
 "nbformat_minor": 4
}
