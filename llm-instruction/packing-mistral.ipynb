{
 "cells": [
  {
   "cell_type": "code",
   "execution_count": 7,
   "id": "2d62dc2d",
   "metadata": {},
   "outputs": [],
   "source": [
    "# !wget https://huggingface.co/datasets/mesolitica/instructions-dataset/resolve/main/shuf-combine-malay-no-alignment-multitasks-v5.jsonl"
   ]
  },
  {
   "cell_type": "code",
   "execution_count": 8,
   "id": "b7b4d5da",
   "metadata": {},
   "outputs": [],
   "source": [
    "from transformers import AutoTokenizer\n",
    "\n",
    "tokenizer = AutoTokenizer.from_pretrained('mesolitica/mistral-7b-4096-fpf')\n",
    "tokenizer.pad_token = tokenizer.unk_token\n",
    "tokenizer.add_bos_token = False\n",
    "tokenizer.add_eos_token = False\n",
    "tokenizer.padding_side = \"right\"\n",
    "tokenizer.chat_template = \"{{ bos_token }}{% for message in messages %}{% if (message['role'] == 'user') != (loop.index0 % 2 == 0) %}{{ raise_exception('Conversation roles must alternate user/assistant/user/assistant/...') }}{% endif %}{% if message['role'] == 'user' %}{{ '[INST] ' + message['content'] + ' [/INST]' }}{% elif message['role'] == 'assistant' %}{{ message['content'] + eos_token}}{% else %}{{ raise_exception('Only user and assistant roles are supported!') }}{% endif %}{% endfor %}\""
   ]
  },
  {
   "cell_type": "code",
   "execution_count": 9,
   "id": "a9f646f4",
   "metadata": {},
   "outputs": [],
   "source": [
    "def generate_and_tokenize_prompt(row):\n",
    "    if '<bot>:' in row['input'] and row['output'] is None:\n",
    "        inputs, outputs = [], []\n",
    "        splitted = row['input'].split('<bot>:')\n",
    "        for i in range(len(splitted) - 1):\n",
    "            if i == 0:\n",
    "                human = splitted[i].replace('<manusia>:', '')\n",
    "            else:\n",
    "                try:\n",
    "                    human = splitted[i].split('<manusia>:')[1]\n",
    "                except BaseException:\n",
    "                    continue\n",
    "            bot = splitted[i + 1].split('<manusia>:')[0]\n",
    "            inputs.append(human)\n",
    "            outputs.append(bot)\n",
    "    else:\n",
    "        inputs = [row['input']]\n",
    "        outputs = [row['output']]\n",
    "\n",
    "    chat = []\n",
    "    for input, output in zip(inputs, outputs):\n",
    "        chat.extend([\n",
    "            {'role': 'user', 'content': input.strip()},\n",
    "            {'role': 'assistant', 'content': output.strip()},\n",
    "        ])\n",
    "    prompt = tokenizer.apply_chat_template(chat, tokenize=False)\n",
    "    return {'text': prompt}"
   ]
  },
  {
   "cell_type": "code",
   "execution_count": 10,
   "id": "13add590",
   "metadata": {},
   "outputs": [],
   "source": [
    "!rm -rf packing-mistral"
   ]
  },
  {
   "cell_type": "code",
   "execution_count": 11,
   "id": "5685af22",
   "metadata": {},
   "outputs": [
    {
     "name": "stdout",
     "output_type": "stream",
     "text": [
      "{\"prompt_input\": null, \"input\": \"teks: 1) \\u73b0\\u5728\\u642d\\u516c\\u4ea4\\u7684\\u7fa4\\u4f17\\u80af\\u5b9a\\u4f1a\\u5c11\\u4e8e\\u5230\\u8d85\\u5e02\\u7684\\u7fa4\\u4f17\\uff1b  2\\uff09\\u6015\\u5371\\u9669\\u7684\\u8bdd\\uff0c\\u53ef\\u4ee5\\u9009\\u62e9\\u522b\\u642d\\u516c\\u4ea4\\uff0c \\u4f46\\u51e0\\u4e4e\\u65e0\\u6cd5\\u9009\\u62e9\\u4e0d\\u53bb\\u8d85\\u5e02\\u3002  \\u4e0d\\u662f\\u6bcf\\u4e2a\\u4eba\\u6709\\u8f66\\uff0c\\u4e0d\\u642d\\u516c\\u4ea4\\u600e\\u4e48\\u53bb\\u4e0a\\u73ed\\u554a\\uff1f\\nterjemah ke melayu baku\", \"output\": \"1) Jumlah orang yang menggunakan pengangkutan awam sekarang pasti lebih sedikit daripada jumlah orang yang pergi ke pasaraya; 2) Jika anda takut bahaya, anda boleh memilih untuk tidak menggunakan pengangkutan awam, tetapi hampir mustahil untuk memilih untuk tidak pergi ke pasaraya. Tidak semua orang memiliki kereta, jadi bagaimana mereka boleh pergi bekerja tanpa menggunakan pengangkutan awam?\"}\r\n",
      "{\"prompt_input\": null, \"input\": \"What is da perimeter of a triangle wif sides of length 3, 4, n 5?\", \"output\": \"Perimeter segitiga ialah jumlah panjang sisinya. Dalam kes ini, sisi mempunyai panjang 3, 4, dan 5. Untuk mencari perimeter, kami hanya menambah panjang ini bersama-sama:\\n\\nPerimeter = Sisi 1 + Sisi 2 + Sisi 3\\n           = 3 + 4 + 5\\n           = 12\\n\\nJadi, perimeter segi tiga itu ialah 12 unit.\"}\r\n",
      "{\"prompt_input\": null, \"input\": \"Siapa yang bertanggungjawab atah pengawasan integriti pengundian di Msia dan gapo langkah-langkah yang telah diambil untuk mencegah hina atau pengundian tidak adil?\", \"output\": \"Tanggungjawab memantau integriti pengundian di Malaysia adalah milik Suruhanjaya Pilihan Raya Malaysia (SPR Malaysia). SPR Malaysia adalah badan berkaitan yang berfungsi untuk menyelia, mentadbir dan menyelenggara semua aspek loteri di negara ini.\\n\\nDalam memastikan tahap integriti loteri yang tinggi, SPR Malaysia telah mengambil langkah-langkah berikut:\\n\\n1. Pengenalan calon: Semua calon diluluskan oleh SPR Malaysia sebelum mereka boleh mengambil alih. Calon juga dikehendaki mematuhi peraturan dan garis panduan yang ditetapkan.\\n2. Penyeliaan rakan senegara: Untuk mengelakkan penghinaan atau lukisan tidak adil, SPR Malaysia akan melantik penyelia rakan senegara dari negara lain untuk memantau proses lukisan.\\n3. Pemeriksaan: Setiap proses lukisan akan disemak oleh pakar penyelia untuk menyemak kebenaran dan integriti maklumat.\\n4. Pemantauan video: Semua proses lukisan akan dirakam dan disimpan dalam format video untuk tujuan semakan.\\n5. Kelengkapan maklumat: Semua maklumat yang diperlukan untuk lukisan mesti disediakan oleh calon atau pengundi. Terdapat langkah tegas terhadap mana-mana calon atau pengundi yang tidak memberikan maklumat lengkap.\\n6. Pemantauan dan penguatkuasaan undang-undang: SPR Malaysia akan melaksanakan langkah-langkah penguatkuasaan undang-undang terhadap mana-mana individu atau kumpulan yang melakukan perbuatan menghina atau melanggar undang-undang loteri.\\n\\nSecara ensemble, langkah-langkah ini diambil untuk mengelakkan penghinaan atau cabutan tidak adil di Malaysia.\"}\r\n",
      "{\"prompt_input\": null, \"input\": \"`Wah proactive betul.. masa I buka thread ni memang I teringat kat u..  tau2 je ek` terjemah ke malay\", \"output\": \"Wah, kamu sungguh proaktif.. bila saya membuka thread ini, terus teringat pada kamu.. kamu memang tahu, kan?\"}\r\n",
      "{\"prompt_input\": null, \"input\": \"<manusia>: text `Hi, bolehkah anda mencari beberapa ulasan untuk filem \\\"Inception\\\"?`, convert to JSON using schema {\\n    \\\"name\\\": \\\"search_movie_reviews\\\",\\n    \\\"description\\\": \\\"Mencari ulasan filem\\\",\\n    \\\"parameters\\\": {\\n        \\\"type\\\": \\\"object\\\",\\n        \\\"properties\\\": {\\n            \\\"movie_title\\\": {\\n                \\\"type\\\": \\\"string\\\",\\n                \\\"description\\\": \\\"Tajuk filem\\\"\\n            }\\n        },\\n        \\\"required\\\": [\\n            \\\"movie_title\\\"\\n        ]\\n    }\\n}\\n<bot>: {\\\"name\\\": \\\"search_movie_reviews\\\", \\\"arguments\\\": {\\\"movie_title\\\": \\\"Inception\\\"}}\", \"output\": null}\r\n",
      "{\"prompt_input\": null, \"input\": \"<manusia>: Apakah cara untuk secara automatik membuat fail-fail dan struktur direktori yang diperlukan untuk komponen React baru?\\n<bot>: Untuk secara automatik membuat fail dan struktur direktori yang diperlukan untuk komponen React baru, anda boleh menggunakan Create React App dan beberapa alatan pembantu lain seperti Plop atau Yeoman.\\n\\nBerikut adalah langkah-langkah bagaimana anda boleh melakukan ini:\\n\\n1. Pastikan anda mempunyai Node.js dipasang pada komputer anda.\\n\\n2. Pasang Create React App dengan menaip arahan berikut dalam terminal:\\n```\\nnpx create-react-app nama-projek\\n```\\n\\n3. Pindah ke direktori projek dengan menaip:\\n```\\ncd nama-projek\\n```\\n\\n4. Sekarang anda perlu memasang plop-generator-react-component (jika anda ingin menggunakan Plop) atau generator-react-webpack (jika anda ingin menggunakan Yeoman). Anda boleh memasang salah satu perpustakaan ini dengan menaip arahan berikut dalam terminal:\\n```\\nnpm install -g plop-generator-react-component\\n```\\n```\\nnpm install -g generator-react-webpack\\n```\\n\\n5. Selepas selesai memasang, anda boleh menggunakan arahan berikut untuk menggunakan Plop atau Yeoman untuk membuat komponen React baru:\\n```\\nPlop: plop\\nYeoman: yo react-webpack:component\\n```\\n\\nDi sini, anda akan diberikan beberapa pertanyaan mengenai nama komponen dan direktori untuk membuat fail dan struktur direktori yang diperlukan secara automatik.\\n\\n6. Selepas menjawab pertanyaan tersebut, alatan tersebut akan menghasilkan fail dan struktur direktori yang diperlukan untuk komponen React baru berdasarkan jawapan anda.\\n\\nSekarang, anda boleh mula bekerja dengan komponen React baru anda.\\n\\nJika anda memilih menggunakan Yeoman, anda mungkin perlu menyesuaikan beberapa tetapan untuk memastikan struktur direktori dan fail yang dihasilkan selaras dengan keperluan projek React anda.\\n\\nSekian, semoga berjaya!\\n<manusia>: Bagaimanakah saya boleh menyesuaikan pustaka Plop atau Yeoman supaya struktur direktori dan fail-fail yang dihasilkan sesuai dengan keperluan projek React saya? Bolehkah anda berikan beberapa contoh pemilihan tetapan yang boleh saya ubah?\\n<bot>: Untuk menyesuaikan perpustakaan Plop atau Yeoman supaya struktur direktori dan fail yang dihasilkan sesuai dengan keperluan projek React anda, anda boleh membuat beberapa perubahan pada tetapan konfigurasi yang disediakan oleh kedua-dua perpustakaan ini.\\n\\nBerikut adalah contoh beberapa tetapan yang boleh anda ubah:\\n\\n1. Plop:\\n   - Anda boleh menukar atau menambah fail templat yang telah disediakan oleh Plop. Anda boleh menentukan tetapan seperti nama fail, direktori destinasi, dan kandungan templat yang ingin digunakan.\\n   - Anda juga boleh menambah atau mengubah struktur direktori yang dihasilkan. Anda boleh menentukan direktori baharu dan memindahkan fail yang dihasilkan ke dalamnya.\\n\\n2. Yeoman:\\n   - Anda boleh menyesuaikan fail penjana yang disediakan oleh Yeoman. Anda boleh menetapkan tetapan seperti nama fail, direktori destinasi, dan kandungan fail yang ingin digunakan.\\n   - Anda boleh menambah atau mengubah struktur direktori yang dihasilkan. Anda boleh menentukan direktori baharu dan memindahkan fail yang dihasilkan ke dalamnya.\\n   - Anda boleh menyesuaikan skrip atau tugas yang dijalankan oleh penjana. Ini membolehkan anda menambah langkah khusus atau tugas khusus dalam proses penciptaan komponen.\\n\\nAnda boleh merujuk dokumentasi rasmi perpustakaan Plop dan Yeoman untuk maklumat lanjut tentang menyesuaikan tetapan dan konfigurasi yang sedia ada.\\n\\nSekiranya anda mempunyai soalan lanjut atau memerlukan contoh khusus untuk projek React anda, sila beritahu saya. Saya dengan senang hati akan membantu anda.\\n\\nSelamat mencuba dan semoga berjaya!\\n<manusia>: Bagaimana saya boleh menambah fail templat baru atau mengubah struktur direktori yang dihasilkan oleh pustaka-pustaka ini? Saya ingin lebih memahami kaedah untuk menyesuaikan tetapan konfigurasi ini. Bolehkah anda berikan contoh lanjut dan langkah-langkah yang perlu saya ambil untuk melaksanakan perubahan tersebut? Terima kasih.\\n<bot>: Untuk menambah fail templat baru atau mengubah struktur direktori yang dihasilkan oleh pustaka-pustaka ini, berikut adalah contoh dan langkah-langkah yang perlu anda ambil:\\n\\n1. Plop:\\n   a. Untuk menambah fail templat baru:\\n      i. Buka fail plopfile.js di direktori projek anda.\\n      ii. Anda akan melihat bahagian \\\"actions\\\" dalam fail plopfile.js. Anda boleh menambah tugas baru di bahagian ini.\\n      iii. Tentukan konfigurasi untuk tugas baru anda dengan menggunakan Plop's API. Anda boleh menentukan nama fail templat, direktori destinasi, dan kandungan templat yang ingin digunakan.\\n      iv. Simpan fail plopfile.js dan jalankan perintah plop di terminal untuk menjalankan tugas yang baru anda tambahkan.\\n\\n   b. Untuk mengubah struktur direktori yang dihasilkan:\\n      i. Buka fail plopfile.js di direktori projek anda.\\n      ii. Anda boleh mengubah direktori destinasi yang telah ditentukan dalam tugas kewujudan di bahagian \\\"actions\\\". Anda boleh menentukan direktori baru dan memindahkan fail-fail tersebut ke dalamnya.\\n      iii. Simpan fail plopfile.js dan jalankan perintah plop di terminal untuk menjalankan tugas dan melihat struktur direktori baru.\\n\\n2. Yeoman:\\n   a. Untuk menambah fail templat baru:\\n      i. Buka fail generator.js dalam penjana anda.\\n      ii. Anda akan melihat kaedah yang ditakrifkan dalam generator.js. Anda boleh menambah kaedah baru untuk menambah tugas baru.\\n      iii. Dalam kaedah baru, anda boleh menentukan konfigurasi untuk fail templat yang ingin anda tambahkan. Anda boleh menentukan nama fail, direktori destinasi, dan kandungan fail yang ingin digunakan.\\n      iv. Jalankan penjana anda dengan menggunakan perintah yo generator-name di terminal.\\n      v. Pilih penjana dan tugas yang anda tambahkan dan ikuti langkah-langkah yang diberikan.\\n\\n   b. Untuk mengubah struktur direktori yang dihasilkan:\\n      i. Buka fail generator.js dalam penjana anda.\\n      ii. Anda boleh mengubah direktori destinasi yang telah ditentukan dalam kaedah yang berkenaan. Anda boleh menentukan direktori baru dan memindahkan fail-fail tersebut ke dalamnya.\\n      iii. Jalankan penjana anda dengan menggunakan perintah yo generator-name di terminal untuk melihat struktur direktori baru.\\n\\nPastikan anda merujuk kepada dokumentasi rasmi Plop dan Yeoman untuk mengetahui lebih lanjut bagaimana menambah fail templat baru atau mengubah struktur direktori yang dihasilkan.\\n\\nJika anda mempunyai soalan tambahan atau memerlukan contoh khusus, jangan ragu untuk bertanya. Saya akan gembira untuk membantu anda.\\n\\nSelamat mencuba dan semoga berjaya!\\n<manusia>: Tetapi bagaimana saya boleh mengesahkan keputusan atau memastikan perubahan yang saya buat pada fail templat atau struktur direktori berjalan dengan betul? Adakah terdapat cara untuk menguji perubahan tersebut sebelum menggunakannya ke dalam projek sebenar? Saya ingin memastikan bahawa segala yang saya lakukan tidak merosakkan projek sedia ada saya.\\n<bot>: Untuk memastikan perubahan yang anda buat pada fail templat atau struktur direktori berjalan dengan betul sebelum mengaplikasikannya ke dalam projek sebenar, anda boleh melakukan beberapa langkah ujian berikut:\\n\\n1. Uji pada projek sementara:\\n   a. Buat projek sementara yang menggabungkan perubahan yang anda lakukan. Ini boleh menjadi replikasi kecil dari projek sebenar anda.\\n   b. Gunakan alatan pembantu seperti Plop atau Yeoman untuk menjalankan tugas yang diubah atau ditambah.\\n   c. Periksa fail yang dihasilkan dan struktur direktori untuk memastikan ia sesuai dengan apa yang anda harapkan.\\n   d. Lakukan ujian dan ujian pada projek sementara untuk memastikan perubahan yang dilakukan berfungsi dengan betul dan tidak merosakkan projek.\\n\\n2. Cadangan dan pemulihan:\\n   a. Sebelum mengaplikasikan perubahan pada projek sebenar, buat cadangan dari projek sedia ada. Ini penting untuk keselamatan dan pemulihan jika terdapat masalah atau kesilapan pada perubahan yang dilakukan.\\n   b. Jika perubahan yang dilakukan merosakkan projek sebenar, anda boleh menggunakan cadangan untuk memulihkan projek ke keadaan semula sebelum perubahan dilakukan.\\n\\n3. Ujian dalam persekitaran pembangunan:\\n   a. Jika projek anda mempunyai persekitaran pembangunan seperti pelayan tempatan atau persekitaran pembangun, anda boleh menjalankan perubahan pada persekitaran itu terlebih dahulu.\\n   b. Uji dalam persekitaran pembangunan untuk memastikan bahawa fail dan struktur direktori yang dihasilkan tidak mengganggu fungsi projek dan tidak menyebabkan sebarang masalah.\\n\\nDengan melakukan langkah-langkah ujian ini, anda boleh memastikan bahawa perubahan yang anda buat berjalan dengan betul dan tidak merosakkan projek anda yang sedia ada.\\n\\nJika anda memerlukan bantuan lanjut atau mempunyai soalan tambahan, jangan ragu untuk bertanya. Saya dengan senang hati akan membantu anda.\\n\\nSemoga berjaya dalam pembangunan projek anda!\", \"output\": null}\r\n",
      "{\"prompt_input\": null, \"input\": \"<manusia>: Apakah kesan Ahli Parlimen UMNO menarik diri daripada kerajaan Perikatan Nasional terhadap Pelan Pemulihan Negara dan usaha membanteras pandemik COVID-19 di Malaysia?\\n<bot>: Keputusan Ahli Parlimen UMNO untuk menarik diri daripada kerajaan Perikatan Nasional (PN) mungkin akan memberi kesan kepada Pelan Pemulihan Negara (PPN) dan usaha-usaha untuk menangani pandemik COVID-19 di Malaysia. Dengan penarikan diri ini, pihak berkuasa akan menghadapi cabaran dalam memastikan kelancaran pelaksanaan PPN dan koordinasi antara parti-parti politik yang terlibat. Walaupun begitu, pihak berkepentingan diharap akan terus berusaha untuk memastikan keberkesanan dan kemampanan PPN serta usaha-usaha yang berkaitan dengan penanganan pandemik ini demi kepentingan rakyat dan negara. Dalam tempoh ini, kerjasama dan kestabilan politik akan menjadi aspek penting dalam melaksanakan langkah-langkah yang diperlukan untuk pulih daripada kesan pandemik ini. Anda ingin saya tambahkan maklumat lain?\\n<manusia>: Adakah benar bahawa penarikan diri ahli Parlimen UMNO akan memberi impak besar terhadap pelaksanaan PPN? Bagaimana pula dengan perancangan vaksinasi dan peningkatan kapasiti sistem kesihatan?\\n<bot>: Ya, penarikan diri Ahli Parlimen UMNO dari kerajaan Perikatan Nasional berpotensi memberi impak kepada pelaksanaan Pelan Pemulihan Negara (PPN). Kerjasama antara parti-parti politik menjadi kunci dalam memastikan kelancaran dan keberjayaan PPN. Dalam konteks pengurusan pandemik COVID-19, penarikan diri ini juga mungkin mengganggu perancangan vaksinasi dan peningkatan kapasiti sistem kesihatan. Koordinasi dan sokongan politik yang kukuh diperlukan untuk memastikan pelaksanaan vaksinasi yang berkesan, serta penyediaan sumber yang mencukupi untuk menangani peningkatan kes berkaitan dengan COVID-19. Jadi, adalah penting bagi semua pihak berkepentingan untuk terus berkomunikasi dan memastikan tindakan yang diambil mengambil kira kepentingan dan kesejahteraan rakyat. Ada lagi yang saya ingin bantu?\\n<manusia>: Mengapa penting untuk memastikan sokongan politik yang kukuh dalam menghadapi pandemik COVID-19?\\n<bot>: Sokongan politik yang kukuh sangat penting dalam menghadapi pandemik COVID-19 kerana ia melibatkan pengambilan keputusan dan pelaksanaan langkah-langkah penting. Dalam konteks ini, kerajaan perlu membuat keputusan yang diperlukan seperti pelaksanaan kawalan pergerakan, pembukaan semula ekonomi, dan pelaksanaan vaksinasi beramai-ramai. Sokongan politik yang kukuh membantu memastikan keputusan-keputusan ini dilaksanakan dengan berkesan dan cekap. Selain itu, pandemik COVID-19 melibatkan pelbagai aspek termasuk aspek kesihatan, sosial, dan ekonomi. Sokongan politik yang kukuh membantu memastikan penggabungan dan penyelarasan yang baik antara pelbagai agensi serta pihak berkepentingan dalam menangani cabaran ini. Oleh itu, memastikan sokongan politik yang kukuh adalah penting supaya tindakan yang diambil dapat dilaksanakan dengan berkesan dan memberi manfaat kepada seluruh rakyat. Ada lagi yang saya nak tolong?\\n<manusia>: Apakah langkah seterusnya yang perlu diambil bagi memastikan sokongan politik yang kukuh dalam menghadapi pandemik COVID-19?\\n<bot>: Untuk memastikan sokongan politik yang kukuh dalam menghadapi pandemik COVID-19, langkah-langkah berikut boleh diambil:\\n\\n1. Komunikasi yang berkesan: Pihak kerajaan perlu berkomunikasi dengan jelas dan terbuka kepada semua parti politik, pemimpin, dan masyarakat mengenai langkah-langkah yang diambil dan alasan di sebalik keputusan tersebut. Komunikasi yang berterusan, telus dan bermaklumat akan membantu mengukuhkan sokongan politik.\\n\\n2. Dialog dan perundingan: Pihak kerajaan perlu melibatkan semua parti politik dalam perbincangan, dialog, dan perundingan mengenai penanggulangan pandemik COVID-19. Menghormati pandangan dan keperluan setiap pihak akan membantu membina kepercayaan dan memperoleh sokongan politik yang luas.\\n\\n3. Perjanjian bersama: Pihak kerajaan perlu berusaha untuk mencapai persetujuan bersama antara semua parti politik mengenai langkah-langkah yang perlu diambil dalam menangani pandemik ini. Ini akan memastikan konsensus dan kebersamaan dalam tindakan yang diambil.\\n\\n4. Mengutamakan kepentingan rakyat: Semua parti politik perlu mengutamakan kepentingan rakyat di atas kepentingan politik individu atau parti. Bersama-sama bekerjasama untuk melindungi kesihatan dan kesejahteraan rakyat adalah penting dalam menghadapi pandemik ini.\\n\\n5. Pembentukan pasukan kerja: Pembentukan pasukan kerja lintas parti politik yang bertujuan untuk menangani pandemik COVID-19 boleh membantu mengukuhkan kerjasama dan koordinasi politik. Pasukan ini boleh bekerjasama dalam merancang dan melaksanakan strategi penanggulangan pandemik.\\n\\nDengan mengambil langkah-langkah ini, harapannya adalah dapat memperoleh sokongan politik yang kukuh dalam menghadapi pandemik COVID-19, serta dapat mengekalkan kestabilan politik yang diperlukan untuk melaksanakan langkah-langkah yang berkesan dalam memerangi pandemik ini. Ada lagi yang saya ingin bantu?\", \"output\": null}\r\n",
      "{\"prompt_input\": null, \"input\": \"DAKEN dari Sudut Pandang Sasterawan Negara\\n\\nUntuk mendapatkan maklumat terkini, ikuti kami melalui Telegram\\nKuala Lumpur\\u00a0\\u2012 Forum Dasar Kebudayaan Negara (DAKEN) dari Perspektif Sasterawan Negara telah diadakan secara langsung menerusi laman Facebook Akademi Seni Budaya dan Warisan Kebangsaan (ASWARA) pada 17 Mac 2022 yang dibawakan oleh Pusat Pengajian Pascasiswazah ASWARA.\\nModerator bagi forum tersebut ialah Profesor Adjung Pusat Pengajian Siswazah ASWARA iaitu YBhg. Profesor Dr. Abdul Halim Ali bersama dengan ahli panel yang terdiri daripada Setiausaha Bahagian Dasar Kebudayaan, Kementerian Pelancongan, Seni dan Budaya (MOTAC), YBrs. Dr. Tan Awang Besar; Sasterawan Negara ke-10 merangkap Pensyarah ASWARA, YBhg. SN Dato\\u2019 Dr. Anwar Ridhwan; serta Sasterawan Negara ke-13 yang juga merupakan Profesor Adjung Universiti Malaysia Perlis (UNIMAP) serta penyair dan penyajak kelahiran negeri Kedah, YBhg. SN Dato\\u2019 Dr. Zurinah Hassan.\\n\\nDari sudut sebuah negara maju, DAKEN yang dirangka berdasarkan Dasar Kebudayaan Kebangsaan (DKK) 1971 merupakan satu dasar yang memerlukan pendekatan baharu bagi memastikan dasar ini terus hidup dan berkembang untuk masa akan datang.\\nYBrs. Dr. Tan Awang Besar mengulas berkenaan pembangunan dasar-dasar kerajaan dari tahun 1953 dan sektor kebudayaan yang terus berevolusi hingga kini di bawah slogan, \\u201cNegara Maju, Rakyat Berbudaya\\u201d. Pelbagai cabaran yang dihadapi sepanjang tempoh tersebut dan salah satunya adalah untuk mewujudkan sebuah masyarakat yang berbudaya penyayang.\\nBeliau juga mengingatkan bahawa, tanggungjawab merealisasikan sesebuah dasar terletak pada bahu setiap rakyat negara ini dan kerana itulah, satu tempoh yang lama dan proses yang panjang diperlukan sebelum sesuatu dasar digubal kerana bukan sahaja mengambil kira lima perkara, iaitu: Keterangkuman, Kebersamaan, Kebanggaan, Keterbukaan dan Menyeluruh, malah melibatkan kajian, kerangka sesi libat urus bersama peserta dari setiap negeri untuk mendapatkan maklum balas berkaitan dengan dasar tersebut serta sesi bersama pakar budaya untuk mendapatkan pemahaman, supaya sesebuah dasar mendapat penerimaan rakyat.\\nKesan atau penerimaan DAKEN dalam kalangan masyarakat majmuk negara ini dapat dilihat melalui resolusi DAKEN pada tahun 1971, iaitu matlamat yang perlu dicapai daripada Kongres Kebudayaan 1971. Hal ini merupakan satu hasrat untuk mencapai satu definisi kebudayaan yang seragam serta berpaksi kepada tiga elemen; mempunyai peralatan dan budaya yang bersifat kolektif, sistem nilai bersifat kolektif dan sistem budaya bersifat kolektif.\\nResolusi penting daripada Kongres Kebudayaan 1971 menekankan bahawa kebudayaan negara Malaysia bukan sahaja mesti berasaskan kebudayaan rakyat asal rantau ini, tetapi juga menerima kebudayaan lain yang sesuai dan segala pembentukan dasar ini perlu menjadikan Islam sebagai usul penting seperti yang termaktub dalam Perlembagaan Persekutuan, iaitu agama Islam sebagai agama persekutuan.\\nMenjawab soalan moderator berkenaan harapan rakyat yang berbilang kaum di negara ini terhadap Dasar Kebudayaan Negara, YBhg. SN Dato\\u2019 Dr. Zurinah Hassan berpendapat perkara ini boleh dilihat dalam objektif DEKAN itu sendiri. Setiap warga Malaysia perlu memahami matlamat yang ingin dicapai sejak sekian lama melalui dasar-dasar yang diperkenalkan sejak tahun 1953 yang merupakan manifestasi daripada kesungguhan dan usaha kita bersama dalam mewujudkan satu bangsa Malaysia.\\nMengulas berkenaan bangsa Malaysia, beliau berkata, pada tahun 1971, telah berkumpul segala cerdik pandai dan para pemikir dalam pelbagai bidang seni seperti muzik, filem, sastera dan sebagainya di Universiti Malaya dalam mencari identiti yang boleh dipakai dan dikenali sebagai warga Malaysia. Dato\\u2019 Zurinah menegaskan bahawa negara ini telah melalui pelbagai gelombang dan badai dalam membina sebuah bangsa Malaysia yang bersatu padu bagi memastikan kemakmuran dan kestabilan serta mengelakkan rusuhan kaum. Rakyat Malaysia perlu mengiktiraf diri sendiri sebagai bangsa Malaysia di samping meraikan kelainan dan keunikan setiap bangsa yang ada.\\nVisi penggubalan DAKEN sebagai peneraju budaya nilai tinggi dalam sebuah negara maju boleh menjadi kayu ukur dalam melihat kejayaan DAKEN mencapai hasrat negara. Untuk mencapai visi ini, kita telah melalui satu proses yang berpanjangan dengan matlamat yang sangat besar; kemakmuran bersama dan kekitaan dalam konteks Keluarga Malaysia. Hasilnya kini sudah dapat dilihat, contohnya ketika atlet-atlet negara memeragakan busana sebagai identiti negara seperti batik, cheongsam, sari dan sebagainya.\\nIndikator kejayaan ini juga dapat dilihat melalui tujuh dimensi;\\nBagi setiap teras ini disertai dengan 39 strategi dan 95 pelan tindakan dan dalam mencapai hasrat negara, MOTAC juga telah menghasilkan satu pelan strategik MOTAC yang menggabungkan seni dengan budaya ke arah menjadikan setiap ahli Keluarga Malaysia ahli yang berbangga dengan identiti negara. Dalam tempoh lima tahun, teras dan pelan strategik ini perlu ditambah baik supaya hasrat DAKEN yang beraspirasikan negara maju rakyat berbudaya akan tercapai.\\n\\nSiapakah moderator bagi forum DAKEN tersebut?\\nA. Profesor Adjung Pusat Pengajian Siswazah ASWARA\\nB. YBhg. Profesor Dr. Abdul Halim Ali\\nC. YBrs. Dr. Tan Awang Besar\\nD. YBhg. SN Dato\\u2019 Dr. Zurinah Hassan\", \"output\": \"B\"}\r\n",
      "{\"prompt_input\": null, \"input\": \"<manusia>: Hei, awak chatbot bodoh!\\n<bot>: Saya bersimpati mendengarnya. Saya di sini untuk membantu anda. Jika anda mempunyai sebarang soalan atau memerlukan bantuan dengan sesuatu, jangan ragu untuk bertanya.\\n<manusia>: Diam, anda perisian yang tidak bernilai!\\n<bot>: Saya faham bahawa anda mungkin kecewa, tetapi saya tidak dapat memberikan bantuan yang anda perlukan jika anda terus menggunakan bahasa seperti itu. Saya di sini untuk memastikan interaksi yang positif dan penuh hormat. Mari cuba lagi dengan pendekatan yang berbeza. Adakah anda mempunyai sebarang soalan atau memerlukan bantuan dengan sesuatu?\\n<manusia>: Kenapa awak sangat menjengkelkan?\\n<bot>: Saya minta maaf jika saya terpandang sebagai menjengkelkan. Saya di sini untuk membantu menjawab soalan anda dan memberikan maklumat sebaik mungkin. Jika anda boleh nyatakan perkara yang anda rasa menjengkelkan, saya boleh cuba menangani kebimbangan anda.\\n<manusia>: Berhenti bercakap dengan saya!\\n<bot>: Baiklah, saya akan berhenti di sini. Jika anda berubah fikiran dan ingin bertanya apa-apa soalan atau memerlukan bantuan, beritahu saya. Selamat hari raya!\", \"output\": null}\r\n",
      "{\"prompt_input\": null, \"input\": \"summarize: LABUAN: Majlis Agama Islam Wilayah Persekutuan (MAIWP) Labuan melancarkan projek Laman Cendawan bernilai RM193,720 di Kampung Sungai Buton hari ini.\\nProjek bertujuan membantu menaik taraf golongan asnaf itu melibatkan pembinaan lima rumah cendawan berkeluasan 2,800 kaki persegi di kawasan seluas tujuh hektar milik MAIWP.\\nPengerusi Pusat Pungutan Zakat (PPZ) MAIWP Tan Sri Dr Abdul Aziz Abd Rahman ketika melancarkan projek itu berkata setiap rumah cendawan itu berkeluasan 300 kaki persegi dengan mampu memuatkan 4,000 bongkah cendawan pada satu-satu masa.\\u00a0\\nBeliau berkata setiap rumah cendawan dikendalikan oleh seorang asnaf yang dilantik berdasarkan minat dan kecenderungan meningkatkan ekonomi dalam bidang pertanian serta melepasi proses tapisan MAIWP.\\n\\u201cObjektif program rintis pertanian ini untuk membantu golongan asnaf terus berdikari dan sentiasa berusaha untuk keluar dari kepompong kemiskinan,\\u201d katanya.\\nProgram berkonsepkan pertanian bandar itu juga dilihat mampu mewujudkan ekosistem menjana pendapatan pelbagai pihak di samping mendukung misi dan visi keterjaminan makanan negara.\\nAbdul Aziz berkata MAIWP menganggarkan sebuah rumah cendawan boleh mengeluarkan maksimum tujuh kilogram hasil tuaian cendawan sehari.\\n\\u201cProjek ini merangkumi struktur bangunan rumah cendawan, sistem pengairan dan elektrik, rak dan bongkah cendawan serta pembersihan tanah,\\u201d katanya dan menambah projek berkenaan melibatkan kerjasama Jabatan Pertanian Labuan, Pertubuhan Peladang dan Lembaga Pemasaran Pertanian Persekutuan (FAMA). \\u2014 AlHijrah Online\", \"output\": \"Majlis Agama Islam Wilayah Persekutuan (MAIWP) Labuan melancarkan Projek Laman Web Cendawan Edible RM193,720 di Kampung Sungai Buton hari ini. Projek itu bertujuan menaik taraf kehidupan masyarakat asnaf dan melibatkan pembinaan lima rumah cendawan dengan keluasan keseluruhan 2,800 meter persegi di atas tanah milik MAIWP seluas 7 hektar. Setiap rumah cendawan berkeluasan 300 kaki persegi dan boleh memuatkan 4,000 bongkah cendawan pada satu-satu masa. Setiap rumah cendawan diuruskan oleh asnaf yang dilantik berdasarkan minat dan kecenderungan ke arah meningkatkan ekonomi dalam bidang pertanian dan melepasi proses saringan MAIWP. Program ini dirangka untuk membantu masyarakat asnaf berdikari dan terus berusaha untuk melepaskan diri daripada kitaran kemiskinan. Konsep pertanian bandar juga boleh mewujudkan ekosistem penjanaan pendapatan untuk pelbagai pihak dan menyokong misi dan visi keselamatan makanan negara. MAIWP menganggarkan rumah cendawan boleh mengeluarkan maksimum 7 kilogram hasil cendawan sehari. Projek ini termasuk struktur bangunan, sistem pengairan dan elektrik, rak dan blok cendawan, dan pembersihan tanah. Projek itu melibatkan kerjasama dengan Jabatan Pertanian Labuan, Persatuan Peladang, dan Lembaga Pemasaran Pertanian Persekutuan (FAMA). (diterjemah dari AlHijrah Online).\"}\r\n"
     ]
    }
   ],
   "source": [
    "!head -n 10 shuf-combine-malay-no-alignment-multitasks-v5.jsonl"
   ]
  },
  {
   "cell_type": "code",
   "execution_count": 12,
   "id": "39a51c3c",
   "metadata": {
    "scrolled": true
   },
   "outputs": [
    {
     "name": "stderr",
     "output_type": "stream",
     "text": [
      "3408182it [1:55:08, 493.34it/s]\n"
     ]
    }
   ],
   "source": [
    "from streaming import MDSWriter\n",
    "from streaming.base.format.mds.encodings import Encoding, _encodings\n",
    "from streaming import LocalDataset\n",
    "import streaming\n",
    "import numpy as np\n",
    "from tqdm import tqdm\n",
    "import json\n",
    "\n",
    "class UInt16(Encoding):\n",
    "    def encode(self, obj) -> bytes:\n",
    "        return obj.tobytes()\n",
    "\n",
    "    def decode(self, data: bytes):\n",
    "        return np.frombuffer(data, np.uint16)\n",
    "\n",
    "_encodings['uint16'] = UInt16\n",
    "\n",
    "columns = {\n",
    "    'input_ids': 'uint16',\n",
    "}\n",
    "hashes = 'sha1', 'xxh64'\n",
    "\n",
    "block_size = 16384\n",
    "temp = []\n",
    "with MDSWriter(out='packing-mistral', columns=columns, compression=None, hashes=hashes) as out:\n",
    "    with open('shuf-combine-malay-no-alignment-multitasks-v5.jsonl') as fopen:\n",
    "        for l in tqdm(fopen):\n",
    "            row = json.loads(l)\n",
    "            element = generate_and_tokenize_prompt(row)\n",
    "            outputs = tokenizer(element['text'])\n",
    "            temp.extend(outputs['input_ids'])\n",
    "            while len(temp) >= block_size:\n",
    "                block = temp[:block_size]\n",
    "                temp = temp[block_size:]\n",
    "                if len(block) == block_size:\n",
    "                    out.write({\n",
    "                        'input_ids': np.array(block).astype(np.uint16)\n",
    "                    })"
   ]
  },
  {
   "cell_type": "code",
   "execution_count": 14,
   "id": "4447b68a",
   "metadata": {},
   "outputs": [],
   "source": [
    "dataset = LocalDataset('packing-mistral')"
   ]
  },
  {
   "cell_type": "code",
   "execution_count": 15,
   "id": "8d4c84ab",
   "metadata": {},
   "outputs": [
    {
     "data": {
      "text/plain": [
       "4411342848"
      ]
     },
     "execution_count": 15,
     "metadata": {},
     "output_type": "execute_result"
    }
   ],
   "source": [
    "len(dataset) * block_size"
   ]
  },
  {
   "cell_type": "code",
   "execution_count": null,
   "id": "b4d3e0cf",
   "metadata": {},
   "outputs": [],
   "source": []
  }
 ],
 "metadata": {
  "kernelspec": {
   "display_name": "Python 3 (ipykernel)",
   "language": "python",
   "name": "python3"
  },
  "language_info": {
   "codemirror_mode": {
    "name": "ipython",
    "version": 3
   },
   "file_extension": ".py",
   "mimetype": "text/x-python",
   "name": "python",
   "nbconvert_exporter": "python",
   "pygments_lexer": "ipython3",
   "version": "3.10.12"
  }
 },
 "nbformat": 4,
 "nbformat_minor": 5
}
