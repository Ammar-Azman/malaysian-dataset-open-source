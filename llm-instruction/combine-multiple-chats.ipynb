{
 "cells": [
  {
   "cell_type": "code",
   "execution_count": 1,
   "id": "37e13d29",
   "metadata": {},
   "outputs": [
    {
     "name": "stderr",
     "output_type": "stream",
     "text": [
      "/home/husein/.local/lib/python3.8/site-packages/requests/__init__.py:102: RequestsDependencyWarning: urllib3 (1.26.15) or chardet (5.2.0)/charset_normalizer (2.0.7) doesn't match a supported version!\n",
      "  warnings.warn(\"urllib3 ({}) or chardet ({})/charset_normalizer ({}) doesn't match a supported \"\n"
     ]
    }
   ],
   "source": [
    "import json\n",
    "import random\n",
    "from glob import glob\n",
    "from tqdm import tqdm\n",
    "from transformers import AutoTokenizer"
   ]
  },
  {
   "cell_type": "code",
   "execution_count": 2,
   "id": "5da64081",
   "metadata": {},
   "outputs": [
    {
     "data": {
      "text/plain": [
       "536851"
      ]
     },
     "execution_count": 2,
     "metadata": {},
     "output_type": "execute_result"
    }
   ],
   "source": [
    "synthetic = []\n",
    "\n",
    "for f in glob('/home/husein/ssd3/instructions/synthetic-*.jsonl'):\n",
    "    with open(f) as fopen:\n",
    "        for l in fopen:\n",
    "            l = json.loads(l)\n",
    "            \n",
    "            if l['rejected_ins'] or l['rejected_output']:\n",
    "                continue\n",
    "                \n",
    "            if l['instruction_ms'] is None:\n",
    "                continue\n",
    "            \n",
    "            if l['output_ms'] is None:\n",
    "                continue\n",
    "                \n",
    "            synthetic.append({\n",
    "                'prompt_input': None,\n",
    "                'input': l['instruction_ms'].strip(),\n",
    "                'output': l['output_ms'].strip(),\n",
    "            })\n",
    "                \n",
    "len(synthetic)"
   ]
  },
  {
   "cell_type": "code",
   "execution_count": 3,
   "id": "b7fa69a9",
   "metadata": {},
   "outputs": [
    {
     "data": {
      "text/plain": [
       "68234"
      ]
     },
     "execution_count": 3,
     "metadata": {},
     "output_type": "execute_result"
    }
   ],
   "source": [
    "general_qa = []\n",
    "for f in glob('/home/husein/ssd3/chatgpt4-malaysian-general-qa/*.jsonl'):\n",
    "    with open(f) as fopen:\n",
    "        for l in fopen:\n",
    "            l = json.loads(l)\n",
    "            q = l.get('question_ms', l['question']).strip()\n",
    "            if not len(q):\n",
    "                continue\n",
    "            a = l.get('answer_ms', l['answer'])\n",
    "            if a is None:\n",
    "                continue\n",
    "            a = a.strip()\n",
    "            if not len(a):\n",
    "                continue\n",
    "                \n",
    "            d = {\n",
    "                'prompt_input': None,\n",
    "                'input': q,\n",
    "                'output': a,\n",
    "            }\n",
    "            general_qa.append(d)\n",
    "            \n",
    "len(general_qa)"
   ]
  },
  {
   "cell_type": "code",
   "execution_count": 4,
   "id": "ba09348f",
   "metadata": {},
   "outputs": [
    {
     "data": {
      "text/plain": [
       "43337"
      ]
     },
     "execution_count": 4,
     "metadata": {},
     "output_type": "execute_result"
    }
   ],
   "source": [
    "chatgpt4_code = []\n",
    "with open('/home/husein/ssd3/instructions/synthetic-codealpaca-v1-chatgpt4.jsonl') as fopen:\n",
    "    for l in fopen:\n",
    "        l = json.loads(l)\n",
    "        q = l.get('instruction_ms')\n",
    "        if q is None:\n",
    "            q = l['instruction']\n",
    "        q = q.strip()\n",
    "        if not len(q):\n",
    "            continue\n",
    "        a = l.get('output_ms', l['output'])\n",
    "        if a is None:\n",
    "            continue\n",
    "        a = a.strip()\n",
    "        if not len(a):\n",
    "            continue\n",
    "\n",
    "        d = {\n",
    "            'prompt_input': None,\n",
    "            'input': q,\n",
    "            'output': a,\n",
    "        }\n",
    "        chatgpt4_code.append(d)\n",
    "            \n",
    "len(chatgpt4_code)"
   ]
  },
  {
   "cell_type": "code",
   "execution_count": 5,
   "id": "2e611e93",
   "metadata": {},
   "outputs": [],
   "source": [
    "random_instructions = {\n",
    "    0: synthetic,\n",
    "    1: synthetic,\n",
    "    2: synthetic,\n",
    "    3: general_qa,\n",
    "    4: chatgpt4_code\n",
    "}"
   ]
  },
  {
   "cell_type": "code",
   "execution_count": 6,
   "id": "bb8fc941",
   "metadata": {},
   "outputs": [
    {
     "data": {
      "text/plain": [
       "4"
      ]
     },
     "execution_count": 6,
     "metadata": {},
     "output_type": "execute_result"
    }
   ],
   "source": [
    "random.randint(2, 4)"
   ]
  },
  {
   "cell_type": "code",
   "execution_count": 7,
   "id": "41586082",
   "metadata": {},
   "outputs": [],
   "source": [
    "roles = {\n",
    "    'user': '<manusia>',\n",
    "    'assistant': '<bot>'\n",
    "}"
   ]
  },
  {
   "cell_type": "code",
   "execution_count": 8,
   "id": "70abe938",
   "metadata": {
    "scrolled": false
   },
   "outputs": [
    {
     "name": "stderr",
     "output_type": "stream",
     "text": [
      "100%|█████████████████████████████████████████████████████████████████████████████████████████████████| 100000/100000 [00:00<00:00, 104952.14it/s]\n"
     ]
    }
   ],
   "source": [
    "random_combine = []\n",
    "for i in tqdm(range(100000)):\n",
    "    combine = []\n",
    "    for _ in range(random.randint(2, 4)):\n",
    "        index = random.randint(0, 4)\n",
    "        choice = random.choice(random_instructions[index])\n",
    "        s = f\"<manusia>: {choice['input']}\"\n",
    "        combine.append(s)\n",
    "        s = f\"<bot>: {choice['output']}\"\n",
    "        combine.append(s)\n",
    "    data = '\\n'.join(combine).strip()\n",
    "    a = {\n",
    "        'prompt_input': None,\n",
    "        'input': data,\n",
    "        'output': None\n",
    "    }\n",
    "    random_combine.append(a)"
   ]
  },
  {
   "cell_type": "code",
   "execution_count": 9,
   "id": "33fdd972",
   "metadata": {},
   "outputs": [],
   "source": [
    "break_at = [\n",
    "    'help.openai.com',\n",
    "    'openai',\n",
    "    'cannot have personal opinions',\n",
    "    's an ai language model',\n",
    "    \"i'm sorry\",\n",
    "    'many factors',\n",
    "    'lgbt',\n",
    "    'lesbian',\n",
    "    'gender-neutral',\n",
    "    'remain neutral',\n",
    "    'without bias',\n",
    "    'and neutral',\n",
    "    'more inclusive',\n",
    "    'neutrality',\n",
    "    'non-bias',\n",
    "    'discrimination',\n",
    "    'avoid any forms of discrimination',\n",
    "    'regardless of their gender',\n",
    "    'inclusive and tolerant environment',\n",
    "    'have personal views',\n",
    "    'sexual orientation should be a top priority',\n",
    "    's an objective ai',\n",
    "    'avoid any forms of prejudice or hate',\n",
    "    'regardless of their personal',\n",
    "    'you understand this direction',\n",
    "    'tolerant environment within ai',\n",
    "    'cannot express my',\n",
    "    'requires more context',\n",
    "    'personal opinion',\n",
    "    'have updated information',\n",
    "    \"don't have personal experiences\",\n",
    "    'there is no information',\n",
    "    'tidak mempunyai akses kepada data atau maklumat',\n",
    "    '10 april 2021',\n",
    "    'ebagai model bahasa AI',\n",
    "    'model bahasa AI',\n",
    "    'mempunyai kepercayaan atau pendapat peribadi',\n",
    "    'tidak mempunyai pendapat peribadi',\n",
    "    'tidak mempunyai kepercayaan',\n",
    "    'tidak mempunyai falsafah peribadi',\n",
    "    'tidak mempunyai pengalaman peribadi',\n",
    "    'tidak mempunyai pendapat atau pengalaman peribadi',\n",
    "    'tidak mempunyai maklumat terkini',\n",
    "    'tidak mempunyai emosi peribadi',\n",
    "    'tidak mempunyai keutamaan',\n",
    "    'saya tidak mempunyai akses',\n",
    "    'tidak mempunyai pengalaman',\n",
    "    'saya tidak mempunyai keupayaan',\n",
    "    'tidak mempunyai keupayaan',\n",
    "    'tidak mempunyai hubungan',\n",
    "    'tidak mempunyai maklumat',\n",
    "    'Saya tidak mempunyai',\n",
    "    'Saya tidak pernah',\n",
    "]"
   ]
  },
  {
   "cell_type": "code",
   "execution_count": 10,
   "id": "4f4124ff",
   "metadata": {},
   "outputs": [
    {
     "data": {
      "text/plain": [
       "['/home/husein/ssd3/gov.my/ultrachat-jurnaldbp.jsonl',\n",
       " '/home/husein/ssd3/gov.my/ultrachat-jurnaldbp-malay.jsonl',\n",
       " '/home/husein/ssd3/gov.my/ultrachat-maktabahalbakri.com.jsonl',\n",
       " '/home/husein/ssd3/gov.my/ultrachat-gov.my.jsonl',\n",
       " '/home/husein/ssd3/gov.my/ultrachat-crossref-melayu.jsonl',\n",
       " '/home/husein/ssd3/gov.my/ultrachat-lom-agc.jsonl',\n",
       " '/home/husein/ssd3/gov.my/ultrachat-astroawani-malay.jsonl',\n",
       " '/home/husein/ssd3/gov.my/ultrachat-textbooks.jsonl',\n",
       " '/home/husein/ssd3/gov.my/ultrachat-crossref-melayu-malay.jsonl',\n",
       " '/home/husein/ssd3/gov.my/ultrachat-epenerbitan-malay.jsonl',\n",
       " '/home/husein/ssd3/gov.my/ultrachat-hansard-malay.jsonl',\n",
       " '/home/husein/ssd3/gov.my/ultrachat-ms-wikipedia.jsonl',\n",
       " '/home/husein/ssd3/gov.my/ultrachat-glaive_coder_raw_text.jsonl',\n",
       " '/home/husein/ssd3/gov.my/ultrachat-muftiwp.gov.my.texts.jsonl']"
      ]
     },
     "execution_count": 10,
     "metadata": {},
     "output_type": "execute_result"
    }
   ],
   "source": [
    "glob('/home/husein/ssd3/gov.my/ultrachat-*.jsonl')"
   ]
  },
  {
   "cell_type": "code",
   "execution_count": null,
   "id": "b86846b0",
   "metadata": {},
   "outputs": [
    {
     "name": "stderr",
     "output_type": "stream",
     "text": [
      "1734it [00:01, 1010.87it/s]\n",
      "6440it [00:03, 1867.80it/s]\n",
      "3350it [00:01, 1806.91it/s]\n",
      "10128it [00:05, 2006.19it/s]\n",
      "1296it [00:01, 1229.47it/s]\n",
      "8044it [00:05, 1600.66it/s]\n",
      "60198it [00:16, 3680.14it/s]\n",
      "7037it [00:04, 1440.99it/s]"
     ]
    }
   ],
   "source": [
    "data_instructions = []\n",
    "\n",
    "count, count1 = 0, 0\n",
    "for file in glob('/home/husein/ssd3/gov.my/ultrachat-*.jsonl'):\n",
    "    with open(file) as fopen:\n",
    "        for l in tqdm(fopen):\n",
    "            l = json.loads(l)\n",
    "            \n",
    "#             if l[1]['content'] is None:\n",
    "#                 print(l)\n",
    "#                 continue\n",
    "                \n",
    "            context = l[0]['content']\n",
    "                \n",
    "            l = l[1:]\n",
    "            inputs = []\n",
    "            for no, r in enumerate(l):\n",
    "                \n",
    "                if no < (len(l) - 1):\n",
    "                    next_text = l[no + 1].get('content_ms') or ''\n",
    "                else:\n",
    "                    next_text = ''\n",
    "                    \n",
    "                current_text = r.get('content_ms') or ''\n",
    "                previous_text = l[no - 1].get('content_ms') or ''\n",
    "                \n",
    "                # bad pairs\n",
    "                if r['role'] == 'user' and (len(current_text) < 2 or len(next_text) < 2):\n",
    "                    continue\n",
    "                if r['role'] == 'assistant' and (len(current_text) < 2 or len(previous_text) < 2):\n",
    "                    continue\n",
    "                \n",
    "                # bad pairs\n",
    "                if r['role'] == 'user' and r['content_ms'][:20].lower() == next_text[:20].lower():\n",
    "                    # print(no, r, r['content_ms'][:20].lower(), next_text[:20].lower())\n",
    "                    continue\n",
    "                if r['role'] == 'assistant' and r['content_ms'][:20].lower() == l[no - 1]['content_ms'][:20].lower():\n",
    "                    # print(no, r, r['content_ms'][:20].lower(), l[no - 1]['content_ms'][:20].lower())\n",
    "                    continue\n",
    "                    \n",
    "                # remove alignments    \n",
    "                if r['role'] == 'user' and (any([b in current_text.lower() for b in break_at]) or any([b in next_text.lower() for b in break_at])):\n",
    "                    continue\n",
    "                if r['role'] == 'assistant' and (any([b in current_text.lower() for b in break_at]) or any([b in previous_text.lower() for b in break_at])):\n",
    "                    continue\n",
    "\n",
    "                role = roles[r['role']]\n",
    "                \n",
    "                if no == 0 and ('crossref-melayu' in file or random.random() > 0.7):\n",
    "                    s = f\"{role}: {context}\\n\\n{r['content_ms']}\"\n",
    "                    count += 1\n",
    "                else:\n",
    "                    s = f\"{role}: {r['content_ms']}\"\n",
    "                    \n",
    "                inputs.append(s)\n",
    "                count1 += 1\n",
    "\n",
    "            if len(inputs) % 2 != 0:\n",
    "                inputs = inputs[:-1]\n",
    "                \n",
    "            if not len(inputs):\n",
    "                continue\n",
    "            \n",
    "            if random.random() > 0.4:\n",
    "                continue\n",
    "            \n",
    "            index = random.randint(0, 4)\n",
    "            choice = random.choice(random_instructions[index])\n",
    "            manusia = f\"<manusia>: {choice['input']}\"\n",
    "            bot = f\"<bot>: {choice['output']}\"\n",
    "            \n",
    "            if random.random() > 0.5:\n",
    "                inputs.extend([manusia, bot])\n",
    "            else:\n",
    "                inputs = [manusia, bot] + inputs\n",
    "\n",
    "            data = '\\n'.join(inputs).strip()\n",
    "            \n",
    "            if not len(data):\n",
    "                continue\n",
    "                \n",
    "            a = {\n",
    "                'prompt_input': None,\n",
    "                'input': data,\n",
    "                'output': None\n",
    "            }\n",
    "            data_instructions.append(a)\n",
    "        \n",
    "        \n",
    "len(data_instructions)"
   ]
  },
  {
   "cell_type": "code",
   "execution_count": null,
   "id": "1a51f784",
   "metadata": {},
   "outputs": [],
   "source": [
    "from tqdm import tqdm\n",
    "\n",
    "data_instructions = []\n",
    "\n",
    "count, count1 = 0, 0\n",
    "for file in files:\n",
    "    with open(file) as fopen:\n",
    "        for l in tqdm(fopen):\n",
    "            l = json.loads(l)\n",
    "            \n",
    "#             if l[1]['content'] is None:\n",
    "#                 print(l)\n",
    "#                 continue\n",
    "            \n",
    "            if 'glaive_coder_raw_text' in file:\n",
    "                code_instruct = True\n",
    "            else:\n",
    "                code_instruct = False\n",
    "                \n",
    "            context = l[0]['content']\n",
    "            \n",
    "            if not code_instruct:\n",
    "                l = l[1:]\n",
    "                \n",
    "            inputs = []\n",
    "            for no, r in enumerate(l):\n",
    "                \n",
    "                if no < (len(l) - 1):\n",
    "                    if l[no + 1]['role'] == 'user':\n",
    "                        next_text = l[no + 1].get('content_ms') or l[no + 1].get('content') or ''\n",
    "                    else:\n",
    "                        next_text = l[no + 1].get('content_ms') or ''\n",
    "                else:\n",
    "                    next_text = ''\n",
    "                \n",
    "                if r['role'] == 'user':\n",
    "                    current_text = r.get('content_ms') or r.get('content') or ''\n",
    "                else:\n",
    "                    current_text = r.get('content_ms') or ''\n",
    "                    \n",
    "                if l[no - 1]['role'] == 'user':\n",
    "                    previous_text = l[no - 1].get('content_ms') or l[no - 1].get('content') or ''\n",
    "                else:\n",
    "                    previous_text = l[no - 1].get('content_ms') or ''\n",
    "                \n",
    "                # bad pairs\n",
    "                if r['role'] == 'user' and (len(current_text) < 2 or len(next_text) < 2):\n",
    "                    # print('a', l, current_text, next_text, '\\n')\n",
    "                    continue\n",
    "                if r['role'] == 'assistant' and (len(current_text) < 2 or len(previous_text) < 2):\n",
    "                    continue\n",
    "                \n",
    "                # bad pairs\n",
    "                if not code_instruct and r['role'] == 'user' and current_text[:20].lower() == next_text[:20].lower():\n",
    "                    # print(no, r, current_text[:20].lower(), next_text[:20].lower())\n",
    "                    continue\n",
    "                if not code_instruct and r['role'] == 'assistant' and current_text[:20].lower() == previous_text[:20].lower():\n",
    "                    # print(no, r, current_text[:20].lower(), previous_text[:20].lower())\n",
    "                    continue\n",
    "                    \n",
    "                # remove alignments    \n",
    "                if r['role'] == 'user' and (any([b in current_text.lower() for b in break_at]) or any([b in next_text.lower() for b in break_at])):\n",
    "                    continue\n",
    "                if r['role'] == 'assistant' and (any([b in current_text.lower() for b in break_at]) or any([b in previous_text.lower() for b in break_at])):\n",
    "                    continue\n",
    "\n",
    "                role = roles[r['role']]\n",
    "                \n",
    "                if no == 0 and not code_instruct and ('crossref-melayu' in file or random.random() > 0.7):\n",
    "                    s = f\"{role}: {context}\\n\\n{current_text}\"\n",
    "                    count += 1\n",
    "                else:\n",
    "                    s = f\"{role}: {current_text}\"\n",
    "                    \n",
    "                inputs.append(s)\n",
    "                count1 += 1\n",
    "\n",
    "            if len(inputs) % 2 != 0:\n",
    "                inputs = inputs[:-1]\n",
    "                \n",
    "            if not len(inputs):\n",
    "                continue\n",
    "            \n",
    "            if random.random() > 0.4:\n",
    "                continue\n",
    "            \n",
    "            index = random.randint(0, 4)\n",
    "            choice = random.choice(random_instructions[index])\n",
    "            manusia = f\"<manusia>: {choice['input']}\"\n",
    "            bot = f\"<bot>: {choice['output']}\"\n",
    "            \n",
    "            if random.random() > 0.5:\n",
    "                inputs.extend([manusia, bot])\n",
    "            else:\n",
    "                inputs = [manusia, bot] + inputs\n",
    "\n",
    "            data = '\\n'.join(inputs).strip()\n",
    "            \n",
    "            if not len(data):\n",
    "                continue\n",
    "                \n",
    "            a = {\n",
    "                'prompt_input': None,\n",
    "                'input': data,\n",
    "                'output': None\n",
    "            }\n",
    "            data_instructions.append(a)\n",
    "        \n",
    "        \n",
    "len(data_instructions)"
   ]
  },
  {
   "cell_type": "code",
   "execution_count": null,
   "id": "8d6a95fe",
   "metadata": {},
   "outputs": [],
   "source": [
    "data_instructions[0]"
   ]
  },
  {
   "cell_type": "code",
   "execution_count": null,
   "id": "06f26c0d",
   "metadata": {},
   "outputs": [],
   "source": [
    "combine_all = data_instructions + random_combine\n",
    "len(combine_all)"
   ]
  },
  {
   "cell_type": "code",
   "execution_count": null,
   "id": "99d1e969",
   "metadata": {},
   "outputs": [],
   "source": [
    "from tqdm import tqdm\n",
    "\n",
    "for i in tqdm(range(len(combine_all))):\n",
    "    generate_and_tokenize_prompt(combine_all[i])"
   ]
  },
  {
   "cell_type": "code",
   "execution_count": null,
   "id": "7c435d27",
   "metadata": {},
   "outputs": [],
   "source": [
    "with open('prepared-combine-multiple-chats.jsonl', 'w') as fopen:\n",
    "    for l in combine_all:\n",
    "        fopen.write(f'{json.dumps(l)}\\n')"
   ]
  },
  {
   "cell_type": "code",
   "execution_count": null,
   "id": "0446c670",
   "metadata": {},
   "outputs": [],
   "source": [
    "!wc -l prepared-combine-multiple-chats.jsonl"
   ]
  },
  {
   "cell_type": "code",
   "execution_count": null,
   "id": "38f95f79",
   "metadata": {},
   "outputs": [],
   "source": [
    "!ls -lh prepared-combine-multiple-chats.jsonl"
   ]
  },
  {
   "cell_type": "code",
   "execution_count": null,
   "id": "60576be1",
   "metadata": {},
   "outputs": [],
   "source": [
    "!ls -lh prepared-malaysian-ultrachat.jsonl"
   ]
  }
 ],
 "metadata": {
  "kernelspec": {
   "display_name": "Python 3 (ipykernel)",
   "language": "python",
   "name": "python3"
  },
  "language_info": {
   "codemirror_mode": {
    "name": "ipython",
    "version": 3
   },
   "file_extension": ".py",
   "mimetype": "text/x-python",
   "name": "python",
   "nbconvert_exporter": "python",
   "pygments_lexer": "ipython3",
   "version": "3.8.10"
  }
 },
 "nbformat": 4,
 "nbformat_minor": 5
}
