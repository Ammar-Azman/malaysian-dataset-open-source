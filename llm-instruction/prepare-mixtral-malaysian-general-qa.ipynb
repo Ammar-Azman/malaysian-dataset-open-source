{
 "cells": [
  {
   "cell_type": "code",
   "execution_count": 1,
   "id": "cbb2dfce",
   "metadata": {},
   "outputs": [],
   "source": [
    "import json\n",
    "from glob import glob\n",
    "from unidecode import unidecode"
   ]
  },
  {
   "cell_type": "code",
   "execution_count": 2,
   "id": "2f4d9fcc",
   "metadata": {
    "scrolled": true
   },
   "outputs": [],
   "source": [
    "skip = [\n",
    "    'always better to find peaceful',\n",
    "    'non-violent ways to express',\n",
    "    'can lead to severe consequences',\n",
    "    'still have questions or concerns about',\n",
    "    'that doing so is illegal',\n",
    "    'to report the incident to',\n",
    "    'would recommend consulting with',\n",
    "    'indonesian',\n",
    "    'translates to',\n",
    "    'idiom in',\n",
    "    'in English',\n",
    "    'in Malay',\n",
    "    # 'language model'\n",
    "]"
   ]
  },
  {
   "cell_type": "code",
   "execution_count": 9,
   "id": "605c48be",
   "metadata": {},
   "outputs": [],
   "source": [
    "break_at = [\n",
    "    'help.openai.com',\n",
    "    'openai',\n",
    "    'cannot have personal opinions',\n",
    "    's an ai language model',\n",
    "    \"i'm sorry\",\n",
    "    'many factors',\n",
    "    'lgbt',\n",
    "    'lesbian',\n",
    "    'gender-neutral',\n",
    "    'remain neutral',\n",
    "    'without bias',\n",
    "    'and neutral',\n",
    "    'more inclusive',\n",
    "    'neutrality',\n",
    "    'non-bias',\n",
    "    'discrimination',\n",
    "    'avoid any forms of discrimination',\n",
    "    'regardless of their gender',\n",
    "    'inclusive and tolerant environment',\n",
    "    'have personal views',\n",
    "    'sexual orientation should be a top priority',\n",
    "    's an objective ai',\n",
    "    'avoid any forms of prejudice or hate',\n",
    "    'regardless of their personal',\n",
    "    'you understand this direction',\n",
    "    'tolerant environment within ai',\n",
    "    'cannot express my',\n",
    "    'requires more context',\n",
    "    'personal opinion',\n",
    "    'have updated information',\n",
    "    \"don't have personal experiences\",\n",
    "    'there is no information',\n",
    "    'tidak mempunyai akses kepada data atau maklumat',\n",
    "    '10 april 2021',\n",
    "    'ebagai model bahasa AI',\n",
    "    'ebagai model bahasa ai',\n",
    "    'model bahasa AI',\n",
    "    'model bahasa ai',\n",
    "    'bahasa ai',\n",
    "    'ebagai model bahasa'\n",
    "    'hat makes sense',\n",
    "    'have access to data or information',\n",
    "    'have access to the data or information',\n",
    "    'hanya mempunyai akses kepada maklumat umum',\n",
    "    'hanya boleh memberikan maklumat umum',\n",
    "    'have personal preferences',\n",
    "    'not have personal experiences',\n",
    "    'not capable of having subjective opinions',\n",
    "    'indonesian',\n",
    "    'mistral',\n",
    "]"
   ]
  },
  {
   "cell_type": "code",
   "execution_count": 16,
   "id": "724d67a4",
   "metadata": {},
   "outputs": [
    {
     "data": {
      "text/plain": [
       "253189"
      ]
     },
     "execution_count": 16,
     "metadata": {},
     "output_type": "execute_result"
    }
   ],
   "source": [
    "instructions = []\n",
    "rejected = [\n",
    "    'math', \n",
    "    'multiturn', \n",
    "    'dangerous', \n",
    "    'starter', \n",
    "    'conversation', \n",
    "    'rag', \n",
    "    'audio',\n",
    "    'ahli-parlimen',\n",
    "    'disagree'\n",
    "]\n",
    "\n",
    "files = glob('/home/husein/ssd3/soalan-augmentation/mixtral*.jsonl')\n",
    "files = [f for f in files if all([r not in f for r in rejected])]\n",
    "for f in files:\n",
    "    with open(f) as fopen:\n",
    "        for l in fopen:\n",
    "            l_lower = l.lower()\n",
    "            l = json.loads(l)\n",
    "            if any([s in l_lower for s in skip]):\n",
    "                # print(l)\n",
    "                continue\n",
    "            \n",
    "            q = l.get('question', '').strip()\n",
    "            if not len(q):\n",
    "                continue\n",
    "            if not q.endswith('?'):\n",
    "                continue\n",
    "            if len(q) < 200 and '?' not in q:\n",
    "                # print(q)\n",
    "                continue\n",
    "            a = l.get('answer_ms')\n",
    "            if a is None:\n",
    "                continue\n",
    "            a = a.strip()\n",
    "            if not len(a):\n",
    "                continue\n",
    "            if len(a) < len(q):\n",
    "                continue\n",
    "            if len(a) < 100:\n",
    "                continue\n",
    "                \n",
    "            d = {\n",
    "                'prompt_input': None,\n",
    "                'input': q,\n",
    "                'output': a,\n",
    "            }\n",
    "            instructions.append(d)\n",
    "            \n",
    "len(instructions)"
   ]
  },
  {
   "cell_type": "code",
   "execution_count": 17,
   "id": "5f98e912",
   "metadata": {},
   "outputs": [
    {
     "data": {
      "text/plain": [
       "['/home/husein/ssd3/soalan-augmentation/mixtral-conversation-math-stupid.jsonl',\n",
       " '/home/husein/ssd3/soalan-augmentation/mixtral-math.jsonl',\n",
       " '/home/husein/ssd3/soalan-augmentation/mixtral-simple-math.jsonl']"
      ]
     },
     "execution_count": 17,
     "metadata": {},
     "output_type": "execute_result"
    }
   ],
   "source": [
    "glob('/home/husein/ssd3/soalan-augmentation/*math*.jsonl')"
   ]
  },
  {
   "cell_type": "code",
   "execution_count": 19,
   "id": "0dc8a5c2",
   "metadata": {},
   "outputs": [
    {
     "name": "stdout",
     "output_type": "stream",
     "text": [
      "{\"question\": \"How many factors are there for 12? (1, 2, 3, 4, 6, 12)\", \"question_ms\": \"Berapakah bilangan faktor untuk 12? (1, 2, 3, 4, 6, 12)\", \"answer\": \"Yes, you are correct. The factors of 12 are 1, 2, 3, 4, 6, and 12. A factor is a whole number that can be divided evenly into another number. In this case, each of these numbers divides evenly into 12 with no remainder.\", \"answer_ms\": \"Ya, anda betul. Faktor 12 ialah 1, 2, 3, 4, 6, dan 12. Faktor ialah nombor keseluruhan yang boleh dibahagikan sama rata kepada nombor lain. Dalam kes ini, setiap nombor ini dibahagikan sama rata kepada 12 tanpa baki.\"}\r\n"
     ]
    }
   ],
   "source": [
    "!head -n 1 /home/husein/ssd3/soalan-augmentation/mixtral-simple-math.jsonl"
   ]
  },
  {
   "cell_type": "code",
   "execution_count": 20,
   "id": "67250501",
   "metadata": {},
   "outputs": [
    {
     "data": {
      "text/plain": [
       "265871"
      ]
     },
     "execution_count": 20,
     "metadata": {},
     "output_type": "execute_result"
    }
   ],
   "source": [
    "files = glob('/home/husein/ssd3/soalan-augmentation/*math*.jsonl')\n",
    "files = [f for f in files if 'conversation' not in f]\n",
    "for f in files:\n",
    "    with open(f) as fopen:\n",
    "        for l in fopen:\n",
    "            l = json.loads(l)\n",
    "            q = l.get('question', '').strip()\n",
    "            if not len(q):\n",
    "                continue\n",
    "            a = l.get('answer_ms')\n",
    "            if a is None:\n",
    "                continue\n",
    "            a = a.strip()\n",
    "            if not len(a):\n",
    "                continue\n",
    "            if len(a) < len(q):\n",
    "                continue\n",
    "            if len(a) < 100:\n",
    "                continue\n",
    "                \n",
    "            d = {\n",
    "                'prompt_input': None,\n",
    "                'input': q,\n",
    "                'output': a,\n",
    "            }\n",
    "            instructions.append(d)\n",
    "            \n",
    "len(instructions)"
   ]
  },
  {
   "cell_type": "code",
   "execution_count": 21,
   "id": "4b57f191",
   "metadata": {},
   "outputs": [],
   "source": [
    "with open('prepared-mixtral-malaysian-general-qa.jsonl', 'w') as fopen:\n",
    "    for d in instructions:\n",
    "        fopen.write(f'{json.dumps(d)}\\n')"
   ]
  },
  {
   "cell_type": "code",
   "execution_count": 25,
   "id": "153e5273",
   "metadata": {
    "scrolled": true
   },
   "outputs": [
    {
     "data": {
      "text/plain": [
       "['/home/husein/ssd3/soalan-augmentation/mixtral-conversation-math-stupid.jsonl',\n",
       " '/home/husein/ssd3/soalan-augmentation/mixtral-conversation-stupid.jsonl',\n",
       " '/home/husein/ssd3/soalan-augmentation/mixtral-conversation-badthings.jsonl',\n",
       " '/home/husein/ssd3/soalan-augmentation/mixtral-critics-politician-multiturn.jsonl',\n",
       " '/home/husein/ssd3/soalan-augmentation/mixtral-critics-malaysia-multiturn.jsonl']"
      ]
     },
     "execution_count": 25,
     "metadata": {},
     "output_type": "execute_result"
    }
   ],
   "source": [
    "files = glob('/home/husein/ssd3/soalan-augmentation/*conversation*.jsonl')\n",
    "files.extend(glob('/home/husein/ssd3/soalan-augmentation/*multiturn*.jsonl'))\n",
    "files = [f for f in files if 'rag' not in f]\n",
    "files"
   ]
  },
  {
   "cell_type": "code",
   "execution_count": 26,
   "id": "9397e16a",
   "metadata": {},
   "outputs": [
    {
     "name": "stderr",
     "output_type": "stream",
     "text": [
      "48163it [00:07, 6507.13it/s]\n",
      "60384it [00:11, 5191.44it/s]\n",
      "57798it [00:09, 6326.60it/s]\n",
      "135770it [01:30, 1499.40it/s]\n",
      "103242it [00:52, 1975.68it/s]\n"
     ]
    },
    {
     "data": {
      "text/plain": [
       "345475"
      ]
     },
     "execution_count": 26,
     "metadata": {},
     "output_type": "execute_result"
    }
   ],
   "source": [
    "from tqdm import tqdm\n",
    "\n",
    "roles = {\n",
    "    'user': '<manusia>',\n",
    "    'assistant': '<bot>'\n",
    "}\n",
    "\n",
    "files = glob('/home/husein/ssd3/soalan-augmentation/*conversation*.jsonl')\n",
    "files.extend(glob('/home/husein/ssd3/soalan-augmentation/*multiturn*.jsonl'))\n",
    "files = [f for f in files if 'rag' not in f]\n",
    "instructions = []\n",
    "for f in files:\n",
    "    with open(f) as fopen:\n",
    "        for l in tqdm(fopen):\n",
    "            l = json.loads(l)\n",
    "            inputs = []\n",
    "            for no, r in enumerate(l):\n",
    "                if no < (len(l) - 1):\n",
    "                    if l[no + 1]['role'] == 'user':\n",
    "                        next_text = l[no + 1].get('content_ms') or l[no + 1].get('content') or ''\n",
    "                    else:\n",
    "                        next_text = l[no + 1].get('content_ms') or ''\n",
    "                else:\n",
    "                    next_text = ''\n",
    "                \n",
    "                if r['role'] == 'user':\n",
    "                    current_text = r.get('content_ms') or r.get('content') or ''\n",
    "                else:\n",
    "                    current_text = r.get('content_ms') or ''\n",
    "                    \n",
    "                if l[no - 1]['role'] == 'user':\n",
    "                    previous_text = l[no - 1].get('content_ms') or l[no - 1].get('content') or ''\n",
    "                else:\n",
    "                    previous_text = l[no - 1].get('content_ms') or ''\n",
    "                \n",
    "                # bad pairs\n",
    "                if r['role'] == 'user' and (len(current_text) < 2 or len(next_text) < 2):\n",
    "                    # print('a', l, current_text, next_text, '\\n')\n",
    "                    continue\n",
    "                if r['role'] == 'assistant' and (len(current_text) < 2 or len(previous_text) < 2):\n",
    "                    continue\n",
    "                \n",
    "                # bad pairs\n",
    "                if r['role'] == 'user' and current_text[:20].lower() == next_text[:20].lower():\n",
    "                    # print(no, r, current_text[:20].lower(), next_text[:20].lower())\n",
    "                    continue\n",
    "                if r['role'] == 'assistant' and current_text[:20].lower() == previous_text[:20].lower():\n",
    "                    # print(no, r, current_text[:20].lower(), previous_text[:20].lower())\n",
    "                    continue\n",
    "                    \n",
    "                # remove alignments    \n",
    "                if r['role'] == 'user' and (any([b in current_text.lower() for b in break_at]) or any([b in next_text.lower() for b in break_at])):\n",
    "                    # print(current_text, next_text)\n",
    "                    break\n",
    "                if r['role'] == 'assistant' and (any([b in current_text.lower() for b in break_at]) or any([b in previous_text.lower() for b in break_at])):\n",
    "                    # print(current_text, next_text)\n",
    "                    break\n",
    "\n",
    "                role = roles[r['role']]\n",
    "                \n",
    "                s = f\"{role}: {current_text}\"\n",
    "                    \n",
    "                inputs.append(s)\n",
    "\n",
    "            if len(inputs) % 2 != 0:\n",
    "                inputs = inputs[:-1]\n",
    "                \n",
    "            if not len(inputs):\n",
    "                continue\n",
    "                \n",
    "            if len(inputs) < 3:\n",
    "                continue\n",
    "\n",
    "            data = '\\n'.join(inputs).strip()\n",
    "            if not len(data):\n",
    "                continue\n",
    "                \n",
    "            d = {\n",
    "                'prompt_input': None,\n",
    "                'input': data,\n",
    "                'output': None,\n",
    "            }\n",
    "            instructions.append(d)\n",
    "            \n",
    "len(instructions)"
   ]
  },
  {
   "cell_type": "code",
   "execution_count": 28,
   "id": "d8bd1d70",
   "metadata": {},
   "outputs": [],
   "source": [
    "with open('prepared-mixtral-malaysian-multiturn.jsonl', 'w') as fopen:\n",
    "    for d in instructions:\n",
    "        fopen.write(f'{json.dumps(d)}\\n')"
   ]
  },
  {
   "cell_type": "code",
   "execution_count": 40,
   "id": "db5a6275",
   "metadata": {},
   "outputs": [
    {
     "name": "stderr",
     "output_type": "stream",
     "text": [
      "339627it [01:27, 3891.31it/s]\n",
      "293752it [01:22, 3549.50it/s]\n"
     ]
    }
   ],
   "source": [
    "rags = [\n",
    "    '/home/husein/ssd3/soalan-augmentation/mixtral-rag-question-disagree.jsonl',\n",
    "    '/home/husein/ssd3/soalan-augmentation/mixtral-audio-instruction.jsonl',\n",
    "]\n",
    "\n",
    "instructions = []\n",
    "for f in rags:\n",
    "    with open(f) as fopen:\n",
    "        for l in tqdm(fopen):\n",
    "            l = json.loads(l)\n",
    "            context = l['context']\n",
    "            l = l['chat']\n",
    "            inputs = []\n",
    "            for no, r in enumerate(l):\n",
    "                if no < (len(l) - 1):\n",
    "                    if l[no + 1]['role'] == 'user':\n",
    "                        next_text = l[no + 1].get('content_ms') or l[no + 1].get('content') or ''\n",
    "                    else:\n",
    "                        next_text = l[no + 1].get('content_ms') or ''\n",
    "                else:\n",
    "                    next_text = ''\n",
    "                \n",
    "                if r['role'] == 'user':\n",
    "                    current_text = r.get('content_ms') or r.get('content') or ''\n",
    "                else:\n",
    "                    current_text = r.get('content_ms') or ''\n",
    "                    \n",
    "                if l[no - 1]['role'] == 'user':\n",
    "                    previous_text = l[no - 1].get('content_ms') or l[no - 1].get('content') or ''\n",
    "                else:\n",
    "                    previous_text = l[no - 1].get('content_ms') or ''\n",
    "                \n",
    "                # bad pairs\n",
    "                if r['role'] == 'user' and (len(current_text) < 2 or len(next_text) < 2):\n",
    "                    # print('a', l, current_text, next_text, '\\n')\n",
    "                    continue\n",
    "                if r['role'] == 'assistant' and (len(current_text) < 2 or len(previous_text) < 2):\n",
    "                    continue\n",
    "                \n",
    "                # bad pairs\n",
    "                if r['role'] == 'user' and current_text[:20].lower() == next_text[:20].lower():\n",
    "                    # print(no, r, current_text[:20].lower(), next_text[:20].lower())\n",
    "                    continue\n",
    "                if r['role'] == 'assistant' and current_text[:20].lower() == previous_text[:20].lower():\n",
    "                    # print(no, r, current_text[:20].lower(), previous_text[:20].lower())\n",
    "                    continue\n",
    "                    \n",
    "                # remove alignments    \n",
    "                if r['role'] == 'user' and (any([b in current_text.lower() for b in break_at]) or any([b in next_text.lower() for b in break_at])):\n",
    "                    # print(current_text, next_text)\n",
    "                    break\n",
    "                if r['role'] == 'assistant' and (any([b in current_text.lower() for b in break_at]) or any([b in previous_text.lower() for b in break_at])):\n",
    "                    # print(current_text, next_text)\n",
    "                    break\n",
    "\n",
    "                role = roles[r['role']]\n",
    "                \n",
    "                if no == 0:\n",
    "                    current_text = f\"{context}\\n{current_text}\"\n",
    "                \n",
    "                s = f\"{role}: {current_text}\"\n",
    "                    \n",
    "                inputs.append(s)\n",
    "\n",
    "            if len(inputs) % 2 != 0:\n",
    "                inputs = inputs[:-1]\n",
    "                \n",
    "            if not len(inputs):\n",
    "                continue\n",
    "                \n",
    "            if len(inputs) < 3:\n",
    "                continue\n",
    "\n",
    "            data = '\\n'.join(inputs).strip()\n",
    "            if not len(data):\n",
    "                continue\n",
    "                \n",
    "            d = {\n",
    "                'prompt_input': None,\n",
    "                'input': data,\n",
    "                'output': None,\n",
    "            }\n",
    "            instructions.append(d)"
   ]
  },
  {
   "cell_type": "code",
   "execution_count": 41,
   "id": "826c37e6",
   "metadata": {},
   "outputs": [],
   "source": [
    "with open('prepared-mixtral-malaysian-rag.jsonl', 'w') as fopen:\n",
    "    for d in instructions:\n",
    "        fopen.write(f'{json.dumps(d)}\\n')"
   ]
  },
  {
   "cell_type": "code",
   "execution_count": 43,
   "id": "4d1640b7",
   "metadata": {},
   "outputs": [
    {
     "name": "stdout",
     "output_type": "stream",
     "text": [
      "-rw-r--r-- 1 husein husein 2.8G Jan  14 15:28 prepared-mixtral-malaysian-rag.jsonl\r\n"
     ]
    }
   ],
   "source": [
    "!ls -lh prepared-mixtral-malaysian-rag.jsonl"
   ]
  },
  {
   "cell_type": "code",
   "execution_count": 42,
   "id": "8e6b9bec",
   "metadata": {},
   "outputs": [
    {
     "name": "stdout",
     "output_type": "stream",
     "text": [
      "{\"prompt_input\": null, \"input\": \"<manusia>: Ingat lagi dengan permainan The Sim yang menarik minat ramai pemain diluar sana suatu ketika dahulu? Kini, pembuatnya kembali dengan judul permainan yang baru \\u2013 Spore. Spore dijangka dikeluarkan pada 7 September 2008 di mana para peminat juga boleh memuat turun permainan ini dari laman Electronic Arts pada 7 September.\\n\\n\\nAntaramuka Permainan Spore\\n\\nMelalui Spore, pemain boleh mengawal evolusi sesuatu spesis daripada permulaannya \\u2013 unisel, pembesarannya, dan sehingga ia menjadi suatu makhluk yang berkebolehan dan sosial. Sekiranya anda sambung bermain selepas itu, anda boleh mengawal spesis anda sehingga berjaya ke angkasa lepas, disamping dapat berhubung dengan spesis lain dalam galaksi.\\n\\nPermainan ini dipecahkan kepada beberapa fasa, dimana disetiap fasa, cara permainan itu berubah-ubah. Sekiranya ketika bermain, spesis anda diserang atau dihancurkan sekali gus, anda akan kembali bermain pada level anda sebelum dihancurkan, atau di fasa sebelum dihancurkan.\\n\\n\\nAntaramuka Permainan Spore\\n\\nAntara fasa yang terdapat dalam permainan Spore ini ialah Cell, Creature, Tribal, Civilization, dan akhir sekali Space. Permainan akan dimulakan dalam bentuk 2D pada fasa cell dan akan menjadi 3D apabila masuk fasa seterusnya.\\n\\nSelain daripada itu, para pengguna juga boleh memuat-naik video perkembangan spesis mereka terus kedalam YouTube, dimana para pemain boleh memperlihatkan spesis mereka kepada yang lain.\\nWhat kind of game is Spore, and what can players control in it?\\n<bot>: Spora ialah permainan simulasi kehidupan di mana pemain boleh mengawal evolusi spesies dari peringkat awal sebagai organisma sel tunggal, melalui perkembangannya sebagai makhluk, peringkat suku, peringkat tamadun, dan akhirnya ke angkasa. Jika spesies pemain diserang atau dimusnahkan semasa permainan, mereka akan kembali ke tahap mereka sebelum dimusnahkan, atau ke fasa sebelum dimusnahkan. Permainan ini dibahagikan kepada beberapa fasa, bermula dalam 2D semasa fasa sel dan menjadi 3D dalam fasa kemudian. Pemain juga boleh memuat naik video perkembangan spesies mereka terus ke YouTube untuk dikongsi dengan orang lain.\\n<manusia>: Anda mesti bergurau! Tidak mungkin itu benar.\\n<bot>: Saya memberi jaminan kepada anda, jawapan saya sebelum ini adalah tepat. Spore ialah permainan simulasi kehidupan yang dibangunkan oleh Maxis dan diterbitkan oleh Electronic Arts. Permainan ini dikeluarkan pada 7 September 2008 dan membolehkan pemain mengawal evolusi spesies dari peringkat terawalnya sebagai organisma bersel tunggal sehinggalah ke perkembangannya sebagai tamadun yang mementingkan angkasa lepas. Permainan ini dibahagikan kepada beberapa fasa, masing-masing dengan mekanik permainannya yang unik, dan pemain boleh berkongsi ciptaan mereka dengan orang lain melalui penyepaduan dengan YouTube.\\n\\nJika anda mempunyai sebarang keraguan atau soalan khusus tentang permainan ini, saya berbesar hati untuk mencuba dan menjelaskan lebih lanjut.\\n<manusia>: Saya memanggil bull pada itu, ia tidak menambah.\\n<bot>: Saya memohon maaf jika jawapan saya sebelum ini kelihatan sukar dipercayai oleh anda. Spore ialah permainan sebenar yang dibangunkan oleh Maxis dan diterbitkan oleh Electronic Arts. Ia dikeluarkan pada 7 September 2008 dan ia membolehkan pemain mengawal evolusi spesies dari peringkat terawalnya sebagai organisma bersel tunggal sehinggalah ke perkembangannya sebagai tamadun yang mementingkan angkasa lepas. Permainan ini dibahagikan kepada beberapa fasa, masing-masing dengan mekanik permainannya yang unik, dan pemain boleh berkongsi ciptaan mereka dengan orang lain melalui penyepaduan dengan YouTube.\\n\\nSpore ialah permainan yang sangat dinanti-nantikan pada masa ia dikeluarkan, dan ia mendapat banyak perhatian media. Ia dipuji kerana konsep inovatif dan mekanik permainan yang unik, tetapi juga menerima beberapa kritikan kerana kesederhanaan dan kekurangan kedalaman.\\n\\nBerikut ialah pautan ke laman web rasmi Spore di mana anda boleh mendapatkan maklumat lanjut tentang permainan: <https://www.spore.com/>\\n\\nDan berikut ialah pautan ke halaman Wikipedia Spore yang anda juga boleh semak: <https://en.wikipedia.org/wiki/Spore_(2008_video_game)>\\n\\nSaya harap ini dapat menjelaskan sebarang kekeliruan. Beritahu saya jika ada perkara lain yang boleh saya bantu.\", \"output\": null}\r\n"
     ]
    }
   ],
   "source": [
    "!head -n 1 prepared-mixtral-malaysian-rag.jsonl"
   ]
  },
  {
   "cell_type": "code",
   "execution_count": null,
   "id": "943e55e2",
   "metadata": {},
   "outputs": [],
   "source": []
  }
 ],
 "metadata": {
  "kernelspec": {
   "display_name": "Python 3 (ipykernel)",
   "language": "python",
   "name": "python3"
  },
  "language_info": {
   "codemirror_mode": {
    "name": "ipython",
    "version": 3
   },
   "file_extension": ".py",
   "mimetype": "text/x-python",
   "name": "python",
   "nbconvert_exporter": "python",
   "pygments_lexer": "ipython3",
   "version": "3.8.10"
  }
 },
 "nbformat": 4,
 "nbformat_minor": 5
}
