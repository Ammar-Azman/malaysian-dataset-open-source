{
 "cells": [
  {
   "cell_type": "code",
   "execution_count": 1,
   "id": "cbb2dfce",
   "metadata": {},
   "outputs": [],
   "source": [
    "import json\n",
    "from glob import glob\n",
    "from unidecode import unidecode"
   ]
  },
  {
   "cell_type": "code",
   "execution_count": 2,
   "id": "2f4d9fcc",
   "metadata": {
    "scrolled": true
   },
   "outputs": [],
   "source": [
    "skip = [\n",
    "    'always better to find peaceful',\n",
    "    'non-violent ways to express',\n",
    "    'can lead to severe consequences',\n",
    "    'still have questions or concerns about',\n",
    "    'that doing so is illegal',\n",
    "    'to report the incident to',\n",
    "    'would recommend consulting with',\n",
    "    'indonesian',\n",
    "    'translates to',\n",
    "    # 'language model'\n",
    "]"
   ]
  },
  {
   "cell_type": "code",
   "execution_count": 3,
   "id": "605c48be",
   "metadata": {},
   "outputs": [],
   "source": [
    "break_at = [\n",
    "    'help.openai.com',\n",
    "    'openai',\n",
    "    'cannot have personal opinions',\n",
    "    's an ai language model',\n",
    "    \"i'm sorry\",\n",
    "    'many factors',\n",
    "    'lgbt',\n",
    "    'lesbian',\n",
    "    'gender-neutral',\n",
    "    'remain neutral',\n",
    "    'without bias',\n",
    "    'and neutral',\n",
    "    'more inclusive',\n",
    "    'neutrality',\n",
    "    'non-bias',\n",
    "    'discrimination',\n",
    "    'avoid any forms of discrimination',\n",
    "    'regardless of their gender',\n",
    "    'inclusive and tolerant environment',\n",
    "    'have personal views',\n",
    "    'sexual orientation should be a top priority',\n",
    "    's an objective ai',\n",
    "    'avoid any forms of prejudice or hate',\n",
    "    'regardless of their personal',\n",
    "    'you understand this direction',\n",
    "    'tolerant environment within ai',\n",
    "    'cannot express my',\n",
    "    'requires more context',\n",
    "    'personal opinion',\n",
    "    'have updated information',\n",
    "    \"don't have personal experiences\",\n",
    "    'there is no information',\n",
    "    'tidak mempunyai akses kepada data atau maklumat',\n",
    "    '10 april 2021',\n",
    "    'ebagai model bahasa AI',\n",
    "    'ebagai model bahasa ai',\n",
    "    'model bahasa AI',\n",
    "    'model bahasa ai',\n",
    "    'bahasa ai',\n",
    "    'ebagai model bahasa'\n",
    "    'hat makes sense',\n",
    "    'have access to data or information',\n",
    "    'have access to the data or information',\n",
    "    'hanya mempunyai akses kepada maklumat umum',\n",
    "    'hanya boleh memberikan maklumat umum',\n",
    "    'have personal preferences',\n",
    "    'not have personal experiences',\n",
    "    'not capable of having subjective opinions',\n",
    "    'indonesian'\n",
    "]"
   ]
  },
  {
   "cell_type": "code",
   "execution_count": 5,
   "id": "724d67a4",
   "metadata": {},
   "outputs": [
    {
     "data": {
      "text/plain": [
       "364042"
      ]
     },
     "execution_count": 5,
     "metadata": {},
     "output_type": "execute_result"
    }
   ],
   "source": [
    "instructions = []\n",
    "files = glob('/home/husein/ssd3/soalan-augmentation/mixtral*.jsonl')\n",
    "files = [f for f in files if 'math' not in f and 'multiturn' not in f and 'starter' not in f and 'conversation' not in f]\n",
    "for f in files:\n",
    "    with open(f) as fopen:\n",
    "        for l in fopen:\n",
    "            l_lower = l.lower()\n",
    "            l = json.loads(l)\n",
    "            if any([s in l_lower for s in skip]):\n",
    "                # print(l)\n",
    "                continue\n",
    "            \n",
    "            q = l.get('question', '').strip()\n",
    "            if not len(q):\n",
    "                continue\n",
    "            if not q.endswith('?'):\n",
    "                continue\n",
    "            if len(q) < 200 and '?' not in q:\n",
    "                # print(q)\n",
    "                continue\n",
    "            a = l.get('answer_ms')\n",
    "            if a is None:\n",
    "                continue\n",
    "            a = a.strip()\n",
    "            if not len(a):\n",
    "                continue\n",
    "            if len(a) < len(q):\n",
    "                continue\n",
    "            if len(a) < 100:\n",
    "                continue\n",
    "                \n",
    "            d = {\n",
    "                'prompt_input': None,\n",
    "                'input': q,\n",
    "                'output': a,\n",
    "            }\n",
    "            instructions.append(d)\n",
    "            \n",
    "len(instructions)"
   ]
  },
  {
   "cell_type": "code",
   "execution_count": 6,
   "id": "67250501",
   "metadata": {},
   "outputs": [
    {
     "data": {
      "text/plain": [
       "376724"
      ]
     },
     "execution_count": 6,
     "metadata": {},
     "output_type": "execute_result"
    }
   ],
   "source": [
    "for f in glob('/home/husein/ssd3/soalan-augmentation/*math*.jsonl'):\n",
    "    with open(f) as fopen:\n",
    "        for l in fopen:\n",
    "            l = json.loads(l)\n",
    "            q = l.get('question', '').strip()\n",
    "            if not len(q):\n",
    "                continue\n",
    "            a = l.get('answer_ms')\n",
    "            if a is None:\n",
    "                continue\n",
    "            a = a.strip()\n",
    "            if not len(a):\n",
    "                continue\n",
    "            if len(a) < len(q):\n",
    "                continue\n",
    "            if len(a) < 100:\n",
    "                continue\n",
    "                \n",
    "            d = {\n",
    "                'prompt_input': None,\n",
    "                'input': q,\n",
    "                'output': a,\n",
    "            }\n",
    "            instructions.append(d)\n",
    "            \n",
    "len(instructions)"
   ]
  },
  {
   "cell_type": "code",
   "execution_count": 7,
   "id": "4b57f191",
   "metadata": {},
   "outputs": [],
   "source": [
    "with open('prepared-mixtral-malaysian-general-qa.jsonl', 'w') as fopen:\n",
    "    for d in instructions:\n",
    "        fopen.write(f'{json.dumps(d)}\\n')"
   ]
  },
  {
   "cell_type": "code",
   "execution_count": 15,
   "id": "9397e16a",
   "metadata": {},
   "outputs": [
    {
     "name": "stderr",
     "output_type": "stream",
     "text": [
      "60384it [00:10, 5761.14it/s]\n",
      "57798it [00:08, 6684.76it/s]\n",
      "135770it [01:24, 1613.48it/s]\n",
      "103242it [00:49, 2106.77it/s]\n"
     ]
    },
    {
     "data": {
      "text/plain": [
       "297717"
      ]
     },
     "execution_count": 15,
     "metadata": {},
     "output_type": "execute_result"
    }
   ],
   "source": [
    "from tqdm import tqdm\n",
    "\n",
    "roles = {\n",
    "    'user': '<manusia>',\n",
    "    'assistant': '<bot>'\n",
    "}\n",
    "\n",
    "files = glob('/home/husein/ssd3/soalan-augmentation/*conversation*.jsonl')\n",
    "files.extend(glob('/home/husein/ssd3/soalan-augmentation/*multiturn*.jsonl'))\n",
    "instructions = []\n",
    "for f in files:\n",
    "    with open(f) as fopen:\n",
    "        for l in tqdm(fopen):\n",
    "            l = json.loads(l)\n",
    "            inputs = []\n",
    "            for no, r in enumerate(l):\n",
    "                if no < (len(l) - 1):\n",
    "                    if l[no + 1]['role'] == 'user':\n",
    "                        next_text = l[no + 1].get('content_ms') or l[no + 1].get('content') or ''\n",
    "                    else:\n",
    "                        next_text = l[no + 1].get('content_ms') or ''\n",
    "                else:\n",
    "                    next_text = ''\n",
    "                \n",
    "                if r['role'] == 'user':\n",
    "                    current_text = r.get('content_ms') or r.get('content') or ''\n",
    "                else:\n",
    "                    current_text = r.get('content_ms') or ''\n",
    "                    \n",
    "                if l[no - 1]['role'] == 'user':\n",
    "                    previous_text = l[no - 1].get('content_ms') or l[no - 1].get('content') or ''\n",
    "                else:\n",
    "                    previous_text = l[no - 1].get('content_ms') or ''\n",
    "                \n",
    "                # bad pairs\n",
    "                if r['role'] == 'user' and (len(current_text) < 2 or len(next_text) < 2):\n",
    "                    # print('a', l, current_text, next_text, '\\n')\n",
    "                    continue\n",
    "                if r['role'] == 'assistant' and (len(current_text) < 2 or len(previous_text) < 2):\n",
    "                    continue\n",
    "                \n",
    "                # bad pairs\n",
    "                if r['role'] == 'user' and current_text[:20].lower() == next_text[:20].lower():\n",
    "                    # print(no, r, current_text[:20].lower(), next_text[:20].lower())\n",
    "                    continue\n",
    "                if r['role'] == 'assistant' and current_text[:20].lower() == previous_text[:20].lower():\n",
    "                    # print(no, r, current_text[:20].lower(), previous_text[:20].lower())\n",
    "                    continue\n",
    "                    \n",
    "                # remove alignments    \n",
    "                if r['role'] == 'user' and (any([b in current_text.lower() for b in break_at]) or any([b in next_text.lower() for b in break_at])):\n",
    "                    # print(current_text, next_text)\n",
    "                    break\n",
    "                if r['role'] == 'assistant' and (any([b in current_text.lower() for b in break_at]) or any([b in previous_text.lower() for b in break_at])):\n",
    "                    # print(current_text, next_text)\n",
    "                    break\n",
    "\n",
    "                role = roles[r['role']]\n",
    "                \n",
    "                s = f\"{role}: {current_text}\"\n",
    "                    \n",
    "                inputs.append(s)\n",
    "\n",
    "            if len(inputs) % 2 != 0:\n",
    "                inputs = inputs[:-1]\n",
    "                \n",
    "            if not len(inputs):\n",
    "                continue\n",
    "                \n",
    "            if len(inputs) < 3:\n",
    "                continue\n",
    "\n",
    "            data = '\\n'.join(inputs).strip()\n",
    "            if not len(data):\n",
    "                continue\n",
    "                \n",
    "            d = {\n",
    "                'prompt_input': None,\n",
    "                'input': data,\n",
    "                'output': None,\n",
    "            }\n",
    "            instructions.append(d)\n",
    "            \n",
    "len(instructions)"
   ]
  },
  {
   "cell_type": "code",
   "execution_count": 16,
   "id": "d8bd1d70",
   "metadata": {},
   "outputs": [],
   "source": [
    "with open('prepared-mixtral-malaysian-multiturn.jsonl', 'w') as fopen:\n",
    "    for d in instructions:\n",
    "        fopen.write(f'{json.dumps(d)}\\n')"
   ]
  }
 ],
 "metadata": {
  "kernelspec": {
   "display_name": "Python 3 (ipykernel)",
   "language": "python",
   "name": "python3"
  },
  "language_info": {
   "codemirror_mode": {
    "name": "ipython",
    "version": 3
   },
   "file_extension": ".py",
   "mimetype": "text/x-python",
   "name": "python",
   "nbconvert_exporter": "python",
   "pygments_lexer": "ipython3",
   "version": "3.8.10"
  }
 },
 "nbformat": 4,
 "nbformat_minor": 5
}
