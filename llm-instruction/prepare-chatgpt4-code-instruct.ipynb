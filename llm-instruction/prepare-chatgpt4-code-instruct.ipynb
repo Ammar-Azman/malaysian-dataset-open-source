{
 "cells": [
  {
   "cell_type": "code",
   "execution_count": 1,
   "id": "e5b4d76a",
   "metadata": {},
   "outputs": [],
   "source": [
    "import json\n",
    "from glob import glob\n",
    "from unidecode import unidecode\n",
    "\n",
    "rejected_words = [\n",
    "    'kebutuhan',\n",
    "    'berbeda',\n",
    "    'bahwa',\n",
    "    'Kode',\n",
    "    'kode',\n",
    "    'nomor',\n",
    "    'RMXX,XXX',\n",
    "    'kompleksitas',\n",
    "    'listrik',\n",
    "    'jawaban',\n",
    "    'teknis',\n",
    "    'berkualitas',\n",
    "    'mencoba',\n",
    "    'kampanye',\n",
    "    'komunitas',\n",
    "    'stabilitas',\n",
    "    'Stabilitas',\n",
    "    'metode',\n",
    "    'pria',\n",
    "    'butuh',\n",
    "    'jadwal',\n",
    "    'kasus',\n",
    "    'otomatis',\n",
    "    'populer',\n",
    "    'bisnis',\n",
    "    'probabilitas',\n",
    "    'rusak',\n",
    "    'kapasitas',\n",
    "    'rutinitas',\n",
    "    'pertama-tama'\n",
    "]\n",
    "\n",
    "def found_word(s, words):\n",
    "    for i in range(len(words)):\n",
    "        if words[i] in s:\n",
    "            return True, words[i]\n",
    "    return False, None"
   ]
  },
  {
   "cell_type": "code",
   "execution_count": 2,
   "id": "e41accd5",
   "metadata": {},
   "outputs": [],
   "source": [
    "with open('prepare-chatgpt4-code-instruct.translate') as fopen:\n",
    "    mapping = json.load(fopen)"
   ]
  },
  {
   "cell_type": "code",
   "execution_count": 4,
   "id": "1a1931ae",
   "metadata": {},
   "outputs": [
    {
     "data": {
      "text/plain": [
       "43170"
      ]
     },
     "execution_count": 4,
     "metadata": {},
     "output_type": "execute_result"
    }
   ],
   "source": [
    "instructions = []\n",
    "with open('/home/husein/ssd3/instructions/synthetic-codealpaca-v1-chatgpt4.jsonl') as fopen:\n",
    "    for l in fopen:\n",
    "        l = json.loads(l)\n",
    "        q = l.get('instruction_ms')\n",
    "        if q is None:\n",
    "            q = l['instruction']\n",
    "        q = q.strip()\n",
    "        if not len(q):\n",
    "            continue\n",
    "        a = l.get('output_ms', l['output'])\n",
    "        if a is None:\n",
    "            continue\n",
    "        a = a.strip()\n",
    "        if not len(a):\n",
    "            continue\n",
    "            \n",
    "        a_ = mapping.get(l['output'])\n",
    "        if a_ is not None:\n",
    "            a = a_\n",
    "            \n",
    "        if '=====' in a:\n",
    "            continue\n",
    "\n",
    "        if '-----' in a:\n",
    "            continue\n",
    "        \n",
    "        d = {\n",
    "            'prompt_input': None,\n",
    "            'input': q,\n",
    "            'output': a,\n",
    "        }\n",
    "        instructions.append(d)\n",
    "        \n",
    "len(instructions)"
   ]
  },
  {
   "cell_type": "code",
   "execution_count": 5,
   "id": "c005eb5a",
   "metadata": {},
   "outputs": [],
   "source": [
    "with open('prepared-chatgpt4-code-instruct.jsonl', 'w') as fopen:\n",
    "    for d in instructions:\n",
    "        fopen.write(f'{json.dumps(d)}\\n')"
   ]
  }
 ],
 "metadata": {
  "kernelspec": {
   "display_name": "Python 3 (ipykernel)",
   "language": "python",
   "name": "python3"
  },
  "language_info": {
   "codemirror_mode": {
    "name": "ipython",
    "version": 3
   },
   "file_extension": ".py",
   "mimetype": "text/x-python",
   "name": "python",
   "nbconvert_exporter": "python",
   "pygments_lexer": "ipython3",
   "version": "3.8.10"
  }
 },
 "nbformat": 4,
 "nbformat_minor": 5
}
