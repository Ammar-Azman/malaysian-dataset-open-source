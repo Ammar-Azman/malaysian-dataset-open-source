{
 "cells": [
  {
   "cell_type": "code",
   "execution_count": 1,
   "metadata": {},
   "outputs": [
    {
     "data": {
      "text/plain": [
       "689"
      ]
     },
     "execution_count": 1,
     "metadata": {},
     "output_type": "execute_result"
    }
   ],
   "source": [
    "import json\n",
    "from glob import glob\n",
    "\n",
    "files = glob('/home/husein/iium-confession/clean-iium*.splitted_*.json')\n",
    "files.extend(glob('/home/husein/dev/malaya/misc/normalize-twitter/*.normalized.jsonl_*.json'))\n",
    "files.extend(glob('/home/husein/facebook/facebook-data.jsonl0*.splitted_*.json'))\n",
    "len(files)"
   ]
  },
  {
   "cell_type": "code",
   "execution_count": 2,
   "metadata": {},
   "outputs": [],
   "source": [
    "lang = ['english', 'malay']\n",
    "end = 'kembalikan struktur JSON ({\"english\", \"malay\"})'"
   ]
  },
  {
   "cell_type": "code",
   "execution_count": 3,
   "metadata": {},
   "outputs": [],
   "source": [
    "template_malaya = {\n",
    "    'description': 'Template used by Malaya.',\n",
    "    'prompt_input': 'Di bawah ialah arahan yang menerangkan tugasan, termasuk dengan input yang menyediakan konteks lanjut. Tulis jawapan yang sesuai dengan arahan tersebut.\\n\\n### Arahan:\\n{instruction}\\n\\n### Input:\\n{input}\\n\\n### Jawapan:\\n',\n",
    "    'prompt_no_input': 'Di bawah ialah arahan yang menerangkan tugasan. Tulis jawapan yang sesuai dengan arahan tersebut.\\n\\n### Arahan:\\n{instruction}\\n\\n### Jawapan:\\n',\n",
    "    'response_split': '### Jawapan:',\n",
    "}"
   ]
  },
  {
   "cell_type": "code",
   "execution_count": 4,
   "metadata": {},
   "outputs": [],
   "source": [
    "import random\n",
    "\n",
    "random_combine = [\n",
    "    'standard english dan standard malay',\n",
    "    'english and melayu',\n",
    "    'malay and english',\n",
    "    'standard malay and english',\n",
    "]\n",
    "\n",
    "random_choices = {\n",
    "    'english': ['inggeris', 'english', 'bahasa inggeris'],\n",
    "    'malay': ['melayu', 'malay', 'bahasa melayu'],\n",
    "}"
   ]
  },
  {
   "cell_type": "code",
   "execution_count": 5,
   "metadata": {},
   "outputs": [
    {
     "name": "stderr",
     "output_type": "stream",
     "text": [
      "100%|██████████████████████████████████████████████████████████████████████████████████████████████████████████| 689/689 [00:03<00:00, 214.39it/s]\n"
     ]
    }
   ],
   "source": [
    "import random\n",
    "from tqdm import tqdm\n",
    "\n",
    "data_translation = []\n",
    "\n",
    "for f in tqdm(files):\n",
    "    with open(f) as fopen:\n",
    "        data = json.load(fopen)\n",
    "    \n",
    "    for d in data:\n",
    "        try:\n",
    "            t = d[0]\n",
    "            a = d[1]\n",
    "            j_a = json.loads(d[1])\n",
    "            \n",
    "            if random.random() > 0.5:\n",
    "                l = random.choice(lang)\n",
    "                a = j_a[l]\n",
    "                l = random.choice(random_choices[l])\n",
    "                c = random.randint(0, 3)\n",
    "                if c == 0:\n",
    "                    q = f'terjemah `{t}` ke {l}'\n",
    "                elif c == 1:\n",
    "                    q = f'terjemah ke {l}, `{t}`'\n",
    "                elif c == 2:\n",
    "                    q = f'teks `{t}`, terjemah ke {l}' \n",
    "                elif c == 3:\n",
    "                    q = f'teks `{t}`, translate to {l}' \n",
    "            \n",
    "            else:\n",
    "                c = random.randint(0, 2)\n",
    "                r = random.choice(random_combine)\n",
    "                if c == 0:\n",
    "                    q = f\"text, `{t}`, terjemah teks ke {r}, {end}\"\n",
    "                elif c == 1:\n",
    "                    q = f\"terjemah teks ke {r}, {end}, teks `{t}`\"\n",
    "                elif c == 2:\n",
    "                    q = f\"translate text to {r}, {end}, teks `{t}`\"\n",
    "                \n",
    "                a = a\n",
    "            \n",
    "            a = {\n",
    "                'prompt_input': template_malaya[\"prompt_no_input\"],\n",
    "                'input': q,\n",
    "                'output': a\n",
    "            }\n",
    "            data_translation.append(a)\n",
    "            \n",
    "        except Exception as e:\n",
    "            pass\n",
    "        "
   ]
  },
  {
   "cell_type": "code",
   "execution_count": 6,
   "metadata": {},
   "outputs": [
    {
     "data": {
      "text/plain": [
       "675371"
      ]
     },
     "execution_count": 6,
     "metadata": {},
     "output_type": "execute_result"
    }
   ],
   "source": [
    "len(data_translation)"
   ]
  },
  {
   "cell_type": "code",
   "execution_count": 7,
   "metadata": {},
   "outputs": [
    {
     "data": {
      "text/plain": [
       "[{'prompt_input': 'Di bawah ialah arahan yang menerangkan tugasan. Tulis jawapan yang sesuai dengan arahan tersebut.\\n\\n### Arahan:\\n{instruction}\\n\\n### Jawapan:\\n',\n",
       "  'input': 'teks `Kami duduk berasingan dan hanya kadang kadang saya akan bermalam di rumah keluarganya. Kami akan gunakan segala kesempatan yang ada untuk melakukan perkara itu.`, translate to english',\n",
       "  'output': \"We sat separately and I would only occasionally stay overnight at her family's house. We would take every opportunity to do it.\"},\n",
       " {'prompt_input': 'Di bawah ialah arahan yang menerangkan tugasan. Tulis jawapan yang sesuai dengan arahan tersebut.\\n\\n### Arahan:\\n{instruction}\\n\\n### Jawapan:\\n',\n",
       "  'input': 'translate text to standard malay and english, kembalikan struktur JSON ({\"english\", \"malay\"}), teks `Oh ya, memandangkan ini confession jujur. Kami dah terlanjur sehingga hampir ke tahun yang ke 4. Seperti yang saya katakan, kami mencintai antara satu sama lain pada ketika itu.`',\n",
       "  'output': '{\\n  \"english\": \"Oh yes, since this is an honest confession. We have been together for almost 4 years. As I mentioned, we loved each other at that time.\",\\n  \"malay\": \"Oh ya, kerana ini pengakuan yang jujur. Kami telah bersama selama hampir 4 tahun. Seperti yang saya sebutkan, kami saling mencintai pada masa itu.\"\\n}'},\n",
       " {'prompt_input': 'Di bawah ialah arahan yang menerangkan tugasan. Tulis jawapan yang sesuai dengan arahan tersebut.\\n\\n### Arahan:\\n{instruction}\\n\\n### Jawapan:\\n',\n",
       "  'input': 'terjemah teks ke standard malay and english, kembalikan struktur JSON ({\"english\", \"malay\"}), teks `Perkara ini berlarutan sehingga saya sedar. Kami tiada lagi memberi respon pada setiap permasalahan yang kami hadapi. Kami sekarang lebih kepada hidup yang lebih banyak berdiam daripada meluah.`',\n",
       "  'output': '{\\n    \"english\": \"This matter continued until I realized that we no longer respond to every problem we face. We now tend to live in silence rather than express ourselves.\",\\n    \"malay\": \"Majlis ini berterusan sehingga saya sedar bahawa kami tidak lagi memberi respons kepada setiap masalah yang kami hadapi. Kami sekarang lebih cenderung untuk hidup dalam keheningan daripada meluahkan diri.\"\\n}'}]"
      ]
     },
     "execution_count": 7,
     "metadata": {},
     "output_type": "execute_result"
    }
   ],
   "source": [
    "data_translation[:3]"
   ]
  },
  {
   "cell_type": "code",
   "execution_count": 8,
   "metadata": {},
   "outputs": [
    {
     "name": "stderr",
     "output_type": "stream",
     "text": [
      "370667it [00:01, 216079.17it/s]\n"
     ]
    }
   ],
   "source": [
    "with open('/home/husein/ssd3/b-cari-com-my/data.jsonl') as fopen:\n",
    "    for l in tqdm(fopen):\n",
    "        try:\n",
    "            data = json.loads(l)\n",
    "            d = json.loads(data[1])\n",
    "            l = random.choice(random_choices['malay'])\n",
    "            c = random.randint(0, 3)\n",
    "            t = data[0]\n",
    "            if c == 0:\n",
    "                q = f'terjemah `{t}` ke {l}'\n",
    "            elif c == 1:\n",
    "                q = f'terjemah ke {l}, `{t}`'\n",
    "            elif c == 2:\n",
    "                q = f'teks `{t}`, terjemah ke {l}'\n",
    "            elif c == 3:\n",
    "                q = f'teks `{t}`, translate text to {l}' \n",
    "            a = {\n",
    "            'prompt_input': template_malaya[\"prompt_no_input\"],\n",
    "                'input': q,\n",
    "                'output': d['malay']\n",
    "            }\n",
    "            data_translation.append(a)\n",
    "        except:\n",
    "            pass"
   ]
  },
  {
   "cell_type": "code",
   "execution_count": 9,
   "metadata": {},
   "outputs": [
    {
     "data": {
      "text/plain": [
       "1040722"
      ]
     },
     "execution_count": 9,
     "metadata": {},
     "output_type": "execute_result"
    }
   ],
   "source": [
    "len(data_translation)"
   ]
  },
  {
   "cell_type": "code",
   "execution_count": 10,
   "metadata": {},
   "outputs": [
    {
     "data": {
      "text/plain": [
       "[{'prompt_input': 'Di bawah ialah arahan yang menerangkan tugasan. Tulis jawapan yang sesuai dengan arahan tersebut.\\n\\n### Arahan:\\n{instruction}\\n\\n### Jawapan:\\n',\n",
       "  'input': 'terjemah ke bahasa melayu, `by fleurzsa  Bcz they r all male.  A husband is like a brother ( mostly in age)  to a wife. Abang is a Malay word for brother. A son is a brother to his sister.  Yalah .. they all males, but the relationships between them is different so they should be different calls for them, right? :stp:  Calling the husband - \"Sayang\" in public is not appropriate. Nampak macam gatal sangat. :hmm:`',\n",
       "  'output': \"Kerana mereka semua lelaki. Suami adalah seperti abang (kebanyakannya dalam usia) kepada isteri. 'Abang' adalah perkataan Melayu untuk abang. Seorang anak lelaki adalah abang kepada adik perempuannya. Ya, mereka semua lelaki, tetapi hubungan di antara mereka berbeza, jadi mereka sepatutnya mempunyai panggilan yang berbeza, betul tak? :stp: Memanggil suami 'Sayang' di tempat awam tidak sesuai. Ia kelihatan terlalu mesra. :hmm:\"},\n",
       " {'prompt_input': 'Di bawah ialah arahan yang menerangkan tugasan. Tulis jawapan yang sesuai dengan arahan tersebut.\\n\\n### Arahan:\\n{instruction}\\n\\n### Jawapan:\\n',\n",
       "  'input': 'teks `doktor mana yg sahkan dia ada mati pucuk?so itu masih dakwaan dari pihak amber..  Kalau uols baca thread tu,JD ni amek ubat Cialis,tu ubat mati pucuk. Sekali dengan ubat herpes. AH nak bawak medical history si JD ni sbg bukti yg JD ni kemungkinan sbb masalah atas katil tu yg buat JD ni tak puas hati dan abusive toward AH. Tapi meols caya jah kalau JD ni mati pucuk,sbb lifestyle heols dan heols pun jenis tak jaga badan mcm Tom Cruise and Keanu Reeves. Nicholas Cage pun baya-baya JD ni helok jah dpt anak lagi tahun ni.apepun meols rasa cam karma plak sbb satu dunia sokong JD kalau ikutkan,tapi sbb deppford wives ni nak jugak trash AH tu nah terkeluar terus kisah JD mati pucuk lol`, terjemah ke melayu',\n",
       "  'output': 'Doktor mana yang mengesahkan bahawa dia mengalami masalah mati pucuk? Jadi itu masih merupakan dakwaan dari pihak Amber. Jika anda membaca thread tersebut, JD mengambil ubat Cialis, yang digunakan untuk masalah mati pucuk. Bersama dengan ubat herpes. AH ingin membawa sejarah perubatan JD sebagai bukti bahawa JD mungkin menghadapi masalah di atas katil dan bersikap kasar terhadap AH kerana itu. Tetapi saya tidak percaya bahawa JD mengalami masalah mati pucuk, mengingat gaya hidupnya dan fakta bahawa dia menjaga tubuhnya seperti Tom Cruise dan Keanu Reeves. Malah Nicholas Cage, yang lebih tua daripada JD, berjaya mendapatkan anak tahun ini. Bagaimanapun, saya rasa ini adalah karma kerana seluruh dunia menyokong JD, tetapi kerana perkara Deppford Wives ini, AH ingin mencemari nama JD dengan membawa cerita masalah mati pucuk. LOL.'},\n",
       " {'prompt_input': 'Di bawah ialah arahan yang menerangkan tugasan. Tulis jawapan yang sesuai dengan arahan tersebut.\\n\\n### Arahan:\\n{instruction}\\n\\n### Jawapan:\\n',\n",
       "  'input': 'teks `Hadoi. Tapi okay la ni at least cina vs cina. Kalau cina vs melayu or cina vs india kang kata racist pulak.`, terjemah ke melayu',\n",
       "  'output': 'Hadoi. Tapi tak apa la, setidaknya ini pertembungan antara orang Cina dengan orang Cina. Kalau pertembungan antara orang Cina dengan orang Melayu atau orang Cina dengan orang India, orang akan kata itu rasis.'}]"
      ]
     },
     "execution_count": 10,
     "metadata": {},
     "output_type": "execute_result"
    }
   ],
   "source": [
    "data_translation[-3:]"
   ]
  },
  {
   "cell_type": "code",
   "execution_count": 11,
   "metadata": {},
   "outputs": [],
   "source": [
    "with open('prepared-translation.jsonl', 'w') as fopen:\n",
    "    for l in data_translation:\n",
    "        fopen.write(f'{json.dumps(l)}\\n')"
   ]
  },
  {
   "cell_type": "code",
   "execution_count": 12,
   "metadata": {},
   "outputs": [
    {
     "name": "stderr",
     "output_type": "stream",
     "text": [
      "370667it [00:01, 227594.77it/s]\n"
     ]
    }
   ],
   "source": [
    "data_translation = []\n",
    "with open('/home/husein/ssd3/b-cari-com-my/data.jsonl') as fopen:\n",
    "    for l in tqdm(fopen):\n",
    "        try:\n",
    "            data = json.loads(l)\n",
    "            d = json.loads(data[1])\n",
    "            c = random.randint(0, 3)\n",
    "            m = d['malay']\n",
    "            t = data[0]\n",
    "            if c == 0:\n",
    "                q = f'localize `{m}` to local malay'\n",
    "            elif c == 1:\n",
    "                q = f'tukar ke local melayu, `{m}`'\n",
    "            elif c == 2:\n",
    "                q = f'teks `{m}`, terjemah ke bahasa pasar'\n",
    "            elif c == 3:\n",
    "                q = f'localize `{m}` to bahasa pasar'\n",
    "            a = {\n",
    "            'prompt_input': template_malaya[\"prompt_no_input\"],\n",
    "                'input': q,\n",
    "                'output': t\n",
    "            }\n",
    "            data_translation.append(a)\n",
    "        except:\n",
    "            pass"
   ]
  },
  {
   "cell_type": "code",
   "execution_count": 14,
   "metadata": {},
   "outputs": [
    {
     "data": {
      "text/plain": [
       "[{'prompt_input': 'Di bawah ialah arahan yang menerangkan tugasan. Tulis jawapan yang sesuai dengan arahan tersebut.\\n\\n### Arahan:\\n{instruction}\\n\\n### Jawapan:\\n',\n",
       "  'input': 'tukar ke local melayu, `Beria-ia lah kau membesar-besarkan diri. Seolah-olah sangat hebat. Tetapi kalah pula dengan isteri Kelantan. Booo.`',\n",
       "  'output': 'beriya la ko nanas. acah paling power ah tu bckap. dgn bini kelantan kalah pulak booo'},\n",
       " {'prompt_input': 'Di bawah ialah arahan yang menerangkan tugasan. Tulis jawapan yang sesuai dengan arahan tersebut.\\n\\n### Arahan:\\n{instruction}\\n\\n### Jawapan:\\n',\n",
       "  'input': 'tukar ke local melayu, `Baguslah Mawi memberi peluang kepada junior-junior yang berbakat tanpa mengira jantina untuk menonjolkan bakat mereka. Apabila mereka muncul bersama Mawi, terdapat orang yang berminat untuk mengambil mereka lagi.`',\n",
       "  'output': 'bagusla mawi bagi peluang kat junior2 dia yang berbakat tak kira lelaki atau perempuan untuk tonjolkan bakat, bila appear dgn mawi ada la orang tertarik nak ambik lagi'},\n",
       " {'prompt_input': 'Di bawah ialah arahan yang menerangkan tugasan. Tulis jawapan yang sesuai dengan arahan tersebut.\\n\\n### Arahan:\\n{instruction}\\n\\n### Jawapan:\\n',\n",
       "  'input': 'tukar ke local melayu, `Menjadi seorang guru sebenarnya sukar.. Anda belum merasai beban tugasan seorang guru sebenar.. Semasa latihan praktikal.. Tugas seorang guru bukanlah setengah hari tetapi terasa lebih dari 24 jam.. Benar kata orang tua anda, susah untuk guru naik pangkat..`',\n",
       "  'output': 'jd guru sebenarnya susah..bebanan tugasan guru sebenarnya anda belum rasa..semasa pratikal..tugas guru bukan stengah hari tp rasanya lebih 24 jm.. betul kata org tua anda guru memang susah naik pangkat..'}]"
      ]
     },
     "execution_count": 14,
     "metadata": {},
     "output_type": "execute_result"
    }
   ],
   "source": [
    "data_translation[:3]"
   ]
  },
  {
   "cell_type": "code",
   "execution_count": 15,
   "metadata": {},
   "outputs": [],
   "source": [
    "with open('prepared-reverse-translation.jsonl', 'w') as fopen:\n",
    "    for l in data_translation:\n",
    "        fopen.write(f'{json.dumps(l)}\\n')"
   ]
  },
  {
   "cell_type": "code",
   "execution_count": 17,
   "metadata": {},
   "outputs": [],
   "source": [
    "data_translation = []"
   ]
  },
  {
   "cell_type": "code",
   "execution_count": 18,
   "metadata": {},
   "outputs": [],
   "source": [
    "with open('/home/husein/ssd3/translation/process-manglish.jsonl') as fopen:\n",
    "    for l in fopen:\n",
    "        data = json.loads(l)\n",
    "        t = data['left']\n",
    "        j_a = {}\n",
    "        if 'en' in data:\n",
    "            j_a['english'] = data['en']\n",
    "        if 'ms' in data:\n",
    "            j_a['malay'] = data['ms']\n",
    "            \n",
    "        a = json.dumps(j_a)\n",
    "            \n",
    "        if len(j_a) != 2:\n",
    "            continue\n",
    "            \n",
    "        if random.random() > 0.5:\n",
    "            l = random.choice(lang)\n",
    "            a = j_a[l]\n",
    "            l = random.choice(random_choices[l])\n",
    "            c = random.randint(0, 3)\n",
    "            if c == 0:\n",
    "                q = f'terjemah `{t}` ke {l}'\n",
    "            elif c == 1:\n",
    "                q = f'terjemah ke {l}, `{t}`'\n",
    "            elif c == 2:\n",
    "                q = f'teks `{t}`, terjemah ke {l}' \n",
    "            elif c == 3:\n",
    "                q = f'teks `{t}`, translate to {l}' \n",
    "        \n",
    "        else:\n",
    "            c = random.randint(0, 2)\n",
    "            r = random.choice(random_combine)\n",
    "            if c == 0:\n",
    "                q = f\"text, `{t}`, terjemah teks ke {r}, {end}\"\n",
    "            elif c == 1:\n",
    "                q = f\"terjemah teks ke {r}, {end}, teks `{t}`\"\n",
    "            elif c == 2:\n",
    "                q = f\"translate text to {r}, {end}, teks `{t}`\"\n",
    "                \n",
    "            a = a\n",
    "            \n",
    "        a = {\n",
    "            'prompt_input': template_malaya[\"prompt_no_input\"],\n",
    "            'input': q,\n",
    "            'output': a\n",
    "        }\n",
    "        data_translation.append(a)"
   ]
  },
  {
   "cell_type": "code",
   "execution_count": 19,
   "metadata": {},
   "outputs": [
    {
     "data": {
      "text/plain": [
       "1036411"
      ]
     },
     "execution_count": 19,
     "metadata": {},
     "output_type": "execute_result"
    }
   ],
   "source": [
    "len(data_translation)"
   ]
  },
  {
   "cell_type": "code",
   "execution_count": 20,
   "metadata": {
    "scrolled": true
   },
   "outputs": [
    {
     "data": {
      "text/plain": [
       "[{'prompt_input': 'Di bawah ialah arahan yang menerangkan tugasan. Tulis jawapan yang sesuai dengan arahan tersebut.\\n\\n### Arahan:\\n{instruction}\\n\\n### Jawapan:\\n',\n",
       "  'input': 'translate text to malay and english, kembalikan struktur JSON ({\"english\", \"malay\"}), teks `Eyyy WTF`',\n",
       "  'output': '{\"english\": \"Hey, what the hell?\", \"malay\": \"Eh, apa ni?\"}'},\n",
       " {'prompt_input': 'Di bawah ialah arahan yang menerangkan tugasan. Tulis jawapan yang sesuai dengan arahan tersebut.\\n\\n### Arahan:\\n{instruction}\\n\\n### Jawapan:\\n',\n",
       "  'input': 'translate text to malay and english, kembalikan struktur JSON ({\"english\", \"malay\"}), teks `i know plenty of people who snack on sambal ikan bilis.`',\n",
       "  'output': '{\"english\": \"I know many people who snack on sambal ikan bilis.\", \"malay\": \"Saya kenal ramai orang yang suka makan snek sambal ikan bilis.\"}'},\n",
       " {'prompt_input': 'Di bawah ialah arahan yang menerangkan tugasan. Tulis jawapan yang sesuai dengan arahan tersebut.\\n\\n### Arahan:\\n{instruction}\\n\\n### Jawapan:\\n',\n",
       "  'input': 'terjemah teks ke english and melayu, kembalikan struktur JSON ({\"english\", \"malay\"}), teks `I often visualize my own programs algorithm before implemment it.`',\n",
       "  'output': '{\"english\": \"I frequently visualise the algorithm of my own programs before implementing them.\", \"malay\": \"Saya kerap memvisualisasikan algoritma program saya sebelum melaksanakannya.\"}'},\n",
       " {'prompt_input': 'Di bawah ialah arahan yang menerangkan tugasan. Tulis jawapan yang sesuai dengan arahan tersebut.\\n\\n### Arahan:\\n{instruction}\\n\\n### Jawapan:\\n',\n",
       "  'input': 'translate text to malay and english, kembalikan struktur JSON ({\"english\", \"malay\"}), teks `YASSSSSSS`',\n",
       "  'output': '{\"english\": \"Yes\", \"malay\": \"Ya\"}'},\n",
       " {'prompt_input': 'Di bawah ialah arahan yang menerangkan tugasan. Tulis jawapan yang sesuai dengan arahan tersebut.\\n\\n### Arahan:\\n{instruction}\\n\\n### Jawapan:\\n',\n",
       "  'input': 'teks `Am I the only one who used their given name ever since I was a kid?`, terjemah ke bahasa inggeris',\n",
       "  'output': 'Did anyone else use their given name since they were a child?'},\n",
       " {'prompt_input': 'Di bawah ialah arahan yang menerangkan tugasan. Tulis jawapan yang sesuai dengan arahan tersebut.\\n\\n### Arahan:\\n{instruction}\\n\\n### Jawapan:\\n',\n",
       "  'input': 'teks `*JENGKAUT* has entered the chat.`, terjemah ke english',\n",
       "  'output': '*JENGKAUT* has entered the chat.'},\n",
       " {'prompt_input': 'Di bawah ialah arahan yang menerangkan tugasan. Tulis jawapan yang sesuai dengan arahan tersebut.\\n\\n### Arahan:\\n{instruction}\\n\\n### Jawapan:\\n',\n",
       "  'input': \"teks `I think I won't be able to catch it within 1 min lol`, translate to melayu\",\n",
       "  'output': 'Saya rasa saya tidak akan dapat menangkapnya dalam masa satu minit, haha'},\n",
       " {'prompt_input': 'Di bawah ialah arahan yang menerangkan tugasan. Tulis jawapan yang sesuai dengan arahan tersebut.\\n\\n### Arahan:\\n{instruction}\\n\\n### Jawapan:\\n',\n",
       "  'input': 'terjemah `Smh the dude literally has a rubbish bin infront of his house` ke bahasa melayu',\n",
       "  'output': 'Goyang kepala, lelaki itu mempunyai tong sampah di depan rumahnya.'},\n",
       " {'prompt_input': 'Di bawah ialah arahan yang menerangkan tugasan. Tulis jawapan yang sesuai dengan arahan tersebut.\\n\\n### Arahan:\\n{instruction}\\n\\n### Jawapan:\\n',\n",
       "  'input': \"teks `It's all good, I know it's the default gender for any figure of speech. Just need to broadcast to actual sexists out there that philosophy and reason are not inherent to only men.`, terjemah ke inggeris\",\n",
       "  'output': \"It's all fine, I understand that using the male gender as a default in figures of speech is common. However, it's important to make it clear to any actual sexists out there that intelligence and rational thinking are not exclusive to men.\"},\n",
       " {'prompt_input': 'Di bawah ialah arahan yang menerangkan tugasan. Tulis jawapan yang sesuai dengan arahan tersebut.\\n\\n### Arahan:\\n{instruction}\\n\\n### Jawapan:\\n',\n",
       "  'input': 'terjemah teks ke standard malay and english, kembalikan struktur JSON ({\"english\", \"malay\"}), teks `Gotta be wary of pimples. Oh they bleed bad when cut`',\n",
       "  'output': '{\"english\": \"We must be cautious of pimples. They tend to bleed heavily when cut.\", \"malay\": \"Kita perlu berhati-hati dengan jerawat. Mereka cenderung berdarah banyak apabila dipotong.\"}'}]"
      ]
     },
     "execution_count": 20,
     "metadata": {},
     "output_type": "execute_result"
    }
   ],
   "source": [
    "data_translation[-10:]"
   ]
  },
  {
   "cell_type": "code",
   "execution_count": 21,
   "metadata": {},
   "outputs": [],
   "source": [
    "with open('prepared-translation-manglish.jsonl', 'w') as fopen:\n",
    "    for l in data_translation:\n",
    "        fopen.write(f'{json.dumps(l)}\\n')"
   ]
  }
 ],
 "metadata": {
  "kernelspec": {
   "display_name": "Python 3 (ipykernel)",
   "language": "python",
   "name": "python3"
  },
  "language_info": {
   "codemirror_mode": {
    "name": "ipython",
    "version": 3
   },
   "file_extension": ".py",
   "mimetype": "text/x-python",
   "name": "python",
   "nbconvert_exporter": "python",
   "pygments_lexer": "ipython3",
   "version": "3.8.10"
  }
 },
 "nbformat": 4,
 "nbformat_minor": 4
}
