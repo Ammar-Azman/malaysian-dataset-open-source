{
 "cells": [
  {
   "cell_type": "code",
   "execution_count": 1,
   "id": "50ba4f58",
   "metadata": {},
   "outputs": [],
   "source": [
    "import json\n",
    "import random\n",
    "from glob import glob"
   ]
  },
  {
   "cell_type": "code",
   "execution_count": 3,
   "id": "19b96d9e",
   "metadata": {},
   "outputs": [
    {
     "data": {
      "text/plain": [
       "['/home/husein/ssd3/instructions/synthetic-evol-instructions.jsonl',\n",
       " '/home/husein/ssd3/instructions/synthetic-oss_instruct-decontaminated.jsonl',\n",
       " '/home/husein/ssd3/instructions/synthetic-malaysian-general-qa.jsonl',\n",
       " '/home/husein/ssd3/instructions/synthetic-alpaca_data_cleaned.jsonl',\n",
       " '/home/husein/ssd3/instructions/synthetic-malaysian-general-qa-v2.jsonl',\n",
       " '/home/husein/ssd3/instructions/synthetic-code-instructions.jsonl']"
      ]
     },
     "execution_count": 3,
     "metadata": {},
     "output_type": "execute_result"
    }
   ],
   "source": [
    "glob('/home/husein/ssd3/instructions/synthetic-*.jsonl')"
   ]
  },
  {
   "cell_type": "code",
   "execution_count": 6,
   "id": "19b96f08",
   "metadata": {},
   "outputs": [
    {
     "data": {
      "text/plain": [
       "363259"
      ]
     },
     "execution_count": 6,
     "metadata": {},
     "output_type": "execute_result"
    }
   ],
   "source": [
    "data = []\n",
    "\n",
    "for f in glob('/home/husein/ssd3/instructions/synthetic-*.jsonl'):\n",
    "    with open(f) as fopen:\n",
    "        for l in fopen:\n",
    "            l = json.loads(l)\n",
    "            \n",
    "            if l['rejected_ins'] or l['rejected_output']:\n",
    "                continue\n",
    "                \n",
    "            if l['instruction_ms'] is None:\n",
    "                continue\n",
    "            \n",
    "            if l['output_ms'] is None:\n",
    "                continue\n",
    "                \n",
    "            data.append({\n",
    "                'prompt_input': None,\n",
    "                'input': l['instruction_ms'].strip(),\n",
    "                'output': l['output_ms'].strip(),\n",
    "            })\n",
    "                \n",
    "len(data)"
   ]
  },
  {
   "cell_type": "code",
   "execution_count": 10,
   "id": "9e4b6082",
   "metadata": {},
   "outputs": [
    {
     "data": {
      "text/plain": [
       "{'prompt_input': None,\n",
       " 'input': 'Cipta senario fiksyen di mana syarikat logistik Malaysia ingin mengoptimumkan laluan penghantaran mereka dengan menggunakan gabungan teknik logistik tradisional dengan penyelesaian teknologi moden. Ini boleh termasuk pertimbangan untuk cabaran geografi dan infrastruktur yang unik di Malaysia, seperti menavigasi melalui kawasan luar bandar dan bandar, keadaan cuaca yang tidak dapat diramalkan dan landskap budaya dan linguistik yang pelbagai. Bangunkan rancangan yang menggariskan integrasi penjejakan GPS, pengoptimuman laluan yang dipacu AI dan amalan mampan yang mengambil kira kepelbagaian ekologi Malaysia.',\n",
       " 'output': 'Pada suatu pagi di ibu pejabat Syarikat Logistik Malaysia, ketua pengurusan, Encik Ahmad, duduk berbincang dengan pasukannya tentang cara untuk memperbaiki laluan penghantaran. Malaysia mempunyai pelbagai landskap yang mencabar seperti kawasan bandar yang sesak, jalan kecil di kawasan luar bandar, cuaca yang tidak menentu, dan kepelbagaian budaya dan bahasa. Pada masa yang sama, Syarikat Logistik juga ingin mengurangkan kesan terhadap alam sekitar.\\n\\nEncik Ahmad dan pasukannya merancang untuk menggabungkan kaedah logistik tradisional dengan teknologi moden dalam usaha meningkatkan laluan penghantaran mereka. Mereka merancang untuk menggunakan pengesan GPS untuk mengawal penghantaran secara real-time. Selain itu, teknologi pengoptimuman laluan AI juga akan digunakan untuk menganjurkan rangkaian penghantaran yang lebih cekap dan pantas.\\n\\nSelain penggunaan teknologi, Syarikat Logistik juga ingin memastikan impak ekologi penghantaran mereka adalah minima. Mereka merancang untuk memperkenalkan kenderaan elektrik dan mengurangkan penggunaan bahan api fosil bagi perjalanan jarak jauh. Mereka juga mengutamakan konsep \"last mile delivery\" yang lebih mesra alam, dengan menggunakan kenderaan berkuasa rendah dan rangkaian penghantaran berkelompok.\\n\\nDalam konteks kepelbagaian budaya dan bahasa di Malaysia, Syarikat Logistik juga merancang untuk memastikan kakitangan mereka dilengkapi dengan kemahiran-kemahiran pelbagai bahasa dan pengetahuan tentang etika perniagaan yang berbeza di pelbagai kawasan. Ini akan membantu dalam berkomunikasi dengan pelanggan, pembekal, dan peserta lain dalam rangkaian logistik.\\n\\nDengan pendekatan holistik ini, Syarikat Logistik berharap dapat meningkatkan kecekapan operasi mereka, mengurangkan kesan alam sekitar, dan menyediakan perkhidmatan penghantaran yang lebih baik kepada pelanggan mereka di seluruh Malaysia.'}"
      ]
     },
     "execution_count": 10,
     "metadata": {},
     "output_type": "execute_result"
    }
   ],
   "source": [
    "data[-2]"
   ]
  },
  {
   "cell_type": "code",
   "execution_count": null,
   "id": "3ccb377f",
   "metadata": {},
   "outputs": [],
   "source": [
    "import json\n",
    "\n",
    "with open('prepared-chatgpt-malay-instructions.jsonl', 'w') as fopen:\n",
    "    for l in data:\n",
    "        fopen.write(f'{json.dumps(l)}\\n')"
   ]
  }
 ],
 "metadata": {
  "kernelspec": {
   "display_name": "Python 3 (ipykernel)",
   "language": "python",
   "name": "python3"
  },
  "language_info": {
   "codemirror_mode": {
    "name": "ipython",
    "version": 3
   },
   "file_extension": ".py",
   "mimetype": "text/x-python",
   "name": "python",
   "nbconvert_exporter": "python",
   "pygments_lexer": "ipython3",
   "version": "3.8.10"
  }
 },
 "nbformat": 4,
 "nbformat_minor": 5
}
