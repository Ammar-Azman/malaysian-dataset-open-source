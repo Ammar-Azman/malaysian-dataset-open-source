{
 "cells": [
  {
   "cell_type": "code",
   "execution_count": 1,
   "id": "5b084828",
   "metadata": {},
   "outputs": [],
   "source": [
    "import json\n",
    "import random\n",
    "from glob import glob\n",
    "from tqdm import tqdm"
   ]
  },
  {
   "cell_type": "code",
   "execution_count": 9,
   "id": "c3b63a68",
   "metadata": {},
   "outputs": [
    {
     "name": "stdout",
     "output_type": "stream",
     "text": [
      "219018 /home/husein/ssd3/data-analytics/postfilter.jsonl\r\n"
     ]
    }
   ],
   "source": [
    "!wc -l /home/husein/ssd3/data-analytics/postfilter.jsonl"
   ]
  },
  {
   "cell_type": "code",
   "execution_count": 7,
   "id": "233920fd",
   "metadata": {},
   "outputs": [
    {
     "data": {
      "text/plain": [
       "219018"
      ]
     },
     "execution_count": 7,
     "metadata": {},
     "output_type": "execute_result"
    }
   ],
   "source": [
    "data = []\n",
    "\n",
    "with open('/home/husein/ssd3/data-analytics/postfilter.jsonl') as fopen:\n",
    "    for l in fopen:\n",
    "        l = json.loads(l)\n",
    "        \n",
    "        if l['instruction_ms'] is None:\n",
    "            q = l['instruction']\n",
    "        else:\n",
    "            q = l['instruction_ms']\n",
    "\n",
    "        if l['answer_ms'] is None:\n",
    "            continue\n",
    "        \n",
    "        data.append({\n",
    "            'prompt_input': None,\n",
    "            'input': q.strip(),\n",
    "            'output': l['answer_ms'].strip(),\n",
    "        })\n",
    "        \n",
    "len(data)"
   ]
  },
  {
   "cell_type": "code",
   "execution_count": 8,
   "id": "388a2c98",
   "metadata": {},
   "outputs": [
    {
     "data": {
      "text/plain": [
       "{'prompt_input': None,\n",
       " 'input': 'Dalam program C++ yang diberikan, kami mempunyai kelas `Variant` khusus yang boleh mewakili pelbagai jenis data, termasuk integer, nombor titik terapung, rentetan, vektor, warna, dan struktur data kompleks seperti array dan kamus. Pelaksanaan kelas `Variant` ini diberikan tetapi tidak ditunjukkan di sini.\\n\\nTugas anda adalah menulis fungsi yang dipanggil `apply_operation` yang mengambil objek `Variant`, operasi (sama ada \"+\" atau \"-\"), dan operand `Variant`. Fungsi ini harus mengaplikasikan operasi yang diberikan kepada objek `Variant` asal dan operand jika objek `Variant` asal adalah nombor (integer atau nombor titik terapung). Jika objek `Variant` bukan nombor, fungsi harus melemparkan pengecualian.\\n\\nFungsi `apply_operation` harus mengembalikan hasil `Variant` dari aplikasi operasi.\\n\\nBatasan:\\n\\n- Kelas `Variant` diberikan dan tidak boleh diubah.\\n- Fungsi `apply_operation` harus mengendalikan sebarang jenis yang mungkin disimpan di dalam kelas `Variant`, seperti yang dinyatakan di atas.\\n- Operasi boleh ditakrifkan sebagai:\\n  + Untuk penambahan:\\n    - Integer + Integer -> Integer\\n    - Integer + Real -> Real\\n    - Real + Integer -> Real\\n    - Real + Real -> Real\\n  - Untuk penolakan:\\n    - Integer - Integer -> Integer\\n    - Integer - Real -> Real\\n    - Real - Integer -> Real\\n    - Real - Real -> Real',\n",
       " 'output': 'Pertama, mari kita mulakan dengan melaksanakan fungsi `is_number`, yang memeriksa sama ada Variant yang diberikan adalah jenis nombor atau tidak. Ia memeriksa jenis Variant dan mengembalikan sama ada ia adalah integer atau nombor sebenar.\\n\\n```cpp\\n#include <cmath>\\n#include <string>\\n\\nnamespace godot {\\n\\n//... (deklarasi fungsi Variant lain di sini)\\n\\nclass Variant {\\n\\n//... (definisi fungsi Variant lain di sini)\\n\\npublic:\\n  bool is_number() const {\\n    switch (get_type()) {\\n      case INT:\\n      case REAL:\\n        return true;\\n      default:\\n        return false;\\n    }\\n  }\\n\\n//... (definisi fungsi Variant lain di sini)\\n\\n};\\n\\n} // namespace godot\\n\\n```\\n\\nSeterusnya, kita boleh membuat fungsi `apply_operation`, yang mengambil objek `Variant`, operasi (sama ada \"+\" atau \"-\"), dan operand `Variant` sebagai input, dengan mengaplikasikan operasi yang diberikan ke objek `Variant` asal dan operand jika objek `Variant` asal adalah nombor. Jika objek `Variant` bukan nombor, fungsi harus melemparkan pengecualian.\\n\\n```cpp\\n#include <stdexcept>\\n#include <string>\\n\\n//... (definisi fungsi Variant lain di sini)\\n\\nVariant apply_operation(Variant a, const std::string& operation, Variant b) {\\n  if (!a.is_number()) {\\n    throw std::invalid_argument(\"Variant pertama bukan nombor.\");\\n  }\\n\\n  if (operation!= \"+\" && operation!= \"-\") {\\n    throw std::invalid_argument(\"Operasi tidak sah. Operasi yang disokong adalah \\'+\\' dan \\'-\\'.\");\\n  }\\n\\n  if (a.get_type() == INT) {\\n    if (b.is_number()) {\\n      if (b.get_type() == INT) {\\n        a = a.operator int() + b.operator int();\\n      } else { // REAL\\n        a = a.operator int() + b.operator double();\\n      }\\n    } else {\\n      throw std::invalid_argument(\"Variant kedua bukan nombor.\");\\n    }\\n  } else { // REAL\\n    if (b.is_number()) {\\n      if (b.get_type() == INT) {\\n        a = a.operator double() + b.operator int();\\n      } else { // REAL\\n        a = a.operator double() + b.operator double();\\n      }\\n    } else {\\n      throw std::invalid_argument(\"Variant kedua bukan nombor.\");\\n    }\\n  }\\n\\n  if (operation == \"-\") {\\n    a = -a;\\n  }\\n\\n  return a;\\n}\\n\\n```'}"
      ]
     },
     "execution_count": 8,
     "metadata": {},
     "output_type": "execute_result"
    }
   ],
   "source": [
    "data[0]"
   ]
  },
  {
   "cell_type": "code",
   "execution_count": null,
   "id": "2e8521a0",
   "metadata": {},
   "outputs": [],
   "source": [
    "import json\n",
    "\n",
    "with open('prepared-mixtral-magicoder.jsonl', 'w') as fopen:\n",
    "    for l in data:\n",
    "        fopen.write(f'{json.dumps(l)}\\n')"
   ]
  }
 ],
 "metadata": {
  "kernelspec": {
   "display_name": "Python 3 (ipykernel)",
   "language": "python",
   "name": "python3"
  },
  "language_info": {
   "codemirror_mode": {
    "name": "ipython",
    "version": 3
   },
   "file_extension": ".py",
   "mimetype": "text/x-python",
   "name": "python",
   "nbconvert_exporter": "python",
   "pygments_lexer": "ipython3",
   "version": "3.8.10"
  }
 },
 "nbformat": 4,
 "nbformat_minor": 5
}
