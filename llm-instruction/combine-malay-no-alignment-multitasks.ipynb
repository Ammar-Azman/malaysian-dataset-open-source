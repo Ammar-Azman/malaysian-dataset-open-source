{
 "cells": [
  {
   "cell_type": "code",
   "execution_count": 1,
   "metadata": {},
   "outputs": [],
   "source": [
    "from glob import glob\n",
    "import json\n",
    "import random"
   ]
  },
  {
   "cell_type": "code",
   "execution_count": 2,
   "metadata": {},
   "outputs": [],
   "source": [
    "fopen_l = open('combine-alternate-no-alignment-malay-multitasks.jsonl', 'w')"
   ]
  },
  {
   "cell_type": "code",
   "execution_count": 3,
   "metadata": {},
   "outputs": [],
   "source": [
    "rejected = [\n",
    "    'help.openai.com',\n",
    "    'openassistant'\n",
    "]\n",
    "\n",
    "def accept(d):\n",
    "    if 'terjemahkan teks' in d.lower():\n",
    "        return False\n",
    "\n",
    "    if 'no need to translate' in d.lower():\n",
    "        return False\n",
    "\n",
    "    if 'can be translated' in d.lower():\n",
    "        return False\n",
    "\n",
    "    if 'cannot translate' in d.lower():\n",
    "        return False\n",
    "\n",
    "    if 'should be translated to' in d.lower():\n",
    "        return False\n",
    "\n",
    "    if 'cannot be translated' in d.lower():\n",
    "        return False\n",
    "\n",
    "    if 'standard malay' in d.lower():\n",
    "        return False\n",
    "\n",
    "    if 'would not be translated' in d.lower():\n",
    "        return False\n",
    "\n",
    "    if 'as an AI language model' in d:\n",
    "        return False\n",
    "\n",
    "    if 'should be translated as' in d.lower():\n",
    "        return False\n",
    "\n",
    "    if 'Bahasa Malaysia Standard' in d:\n",
    "        return False\n",
    "    \n",
    "    if 'Saya adalah model AI' in d:\n",
    "        return False\n",
    "    \n",
    "    if 'saya model AI' in d:\n",
    "        return False\n",
    "    \n",
    "    if 'Saya model AI' in d:\n",
    "        return False\n",
    "    \n",
    "    if 'sebagai model AI' in d:\n",
    "        return False\n",
    "    \n",
    "    if 'Sebagai model AI' in d:\n",
    "        return False\n",
    "    \n",
    "    if 'model bahasa AI' in d:\n",
    "        return False\n",
    "    \n",
    "    if 'model AI yang dibangunkan' in d:\n",
    "        return False\n",
    "    \n",
    "    if d == '<s>':\n",
    "        return False\n",
    "    \n",
    "    if 'tidak dapat memberikan maklumat' in d:\n",
    "        return False\n",
    "    \n",
    "    if 'Sebagai model bahasa' in d:\n",
    "        return False\n",
    "    \n",
    "    if any([r in d.lower() for r in rejected]):\n",
    "        return False\n",
    "    \n",
    "    if len(d.split()) < 10:\n",
    "        return False\n",
    "    \n",
    "    return True"
   ]
  },
  {
   "cell_type": "code",
   "execution_count": 4,
   "metadata": {},
   "outputs": [
    {
     "name": "stdout",
     "output_type": "stream",
     "text": [
      "prepared-glaive-function-call.jsonl\n"
     ]
    }
   ],
   "source": [
    "files = [\n",
    "    'prepared-glaive-function-call.jsonl',\n",
    "]\n",
    "\n",
    "for f in files:\n",
    "    print(f)\n",
    "    with open(f) as fopen:\n",
    "        for l in fopen:\n",
    "            try:\n",
    "                data = json.loads(l)\n",
    "                if not accept(data['input']):\n",
    "                    continue\n",
    "                fopen_l.write(f'{json.dumps(data)}\\n')\n",
    "                fopen_l.flush()\n",
    "            except:\n",
    "                pass"
   ]
  },
  {
   "cell_type": "code",
   "execution_count": 5,
   "metadata": {},
   "outputs": [
    {
     "name": "stdout",
     "output_type": "stream",
     "text": [
      "121125 combine-alternate-no-alignment-malay-multitasks.jsonl\r\n"
     ]
    }
   ],
   "source": [
    "!wc -l combine-alternate-no-alignment-malay-multitasks.jsonl"
   ]
  },
  {
   "cell_type": "code",
   "execution_count": 6,
   "metadata": {},
   "outputs": [
    {
     "name": "stdout",
     "output_type": "stream",
     "text": [
      "{\"prompt_input\": null, \"input\": \"<manusia>: Bolehkah anda menempah penerbangan untuk saya dari New York ke London?\\n<bot>: Maaf, saya tidak mempunyai keupayaan untuk menempah penerbangan. Fungsi saya sekarang membolehkan saya mendapatkan kadar pertukaran antara dua mata wang. Jika anda memerlukan bantuan dengan itu, sila tanya!\", \"output\": null, \"function_call\": \"{\\n    \\\"name\\\": \\\"get_exchange_rate\\\",\\n    \\\"description\\\": \\\"Get the exchange rate between two currencies\\\",\\n    \\\"parameters\\\": {\\n        \\\"type\\\": \\\"object\\\",\\n        \\\"properties\\\": {\\n            \\\"base_currency\\\": {\\n                \\\"type\\\": \\\"string\\\",\\n                \\\"description\\\": \\\"The currency to convert from\\\"\\n            },\\n            \\\"target_currency\\\": {\\n                \\\"type\\\": \\\"string\\\",\\n                \\\"description\\\": \\\"The currency to convert to\\\"\\n            }\\n        },\\n        \\\"required\\\": [\\n            \\\"base_currency\\\",\\n            \\\"target_currency\\\"\\n        ]\\n    }\\n}\"}\r\n",
      "{\"prompt_input\": null, \"input\": \"<manusia>: Can you tell me the latest news headlines for the United States?\\n<bot>: <functioncall> {\\\"name\\\": \\\"get_news_headlines\\\", \\\"arguments\\\": '{\\\"country\\\": \\\"United States\\\"}'} \\n\\n\\n<functioncall> {\\\"headlines\\\": [\\\"Biden announces new vaccine mandates\\\", \\\"Hurricane Ida devastates Louisiana\\\", \\\"Apple unveils new iPhone\\\", \\\"NASA's Perseverance rover collects first Mars rock sample\\\"]}\\n<manusia>: That's interesting. What about the news in France?\\n<bot>: <functioncall> {\\\"name\\\": \\\"get_news_headlines\\\", \\\"arguments\\\": '{\\\"country\\\": \\\"France\\\"}'} \\n\\n\\n<functioncall> {\\\"headlines\\\": [\\\"France recalls ambassadors to US and Australia\\\", \\\"French election: Macron's party braces for tough fight\\\", \\\"Louvre Museum to undergo major overhaul\\\", \\\"France to offer free birth control to all women under 25\\\"]}\", \"output\": null, \"function_call\": \"{\\n    \\\"name\\\": \\\"get_news_headlines\\\",\\n    \\\"description\\\": \\\"Get the latest news headlines\\\",\\n    \\\"parameters\\\": {\\n        \\\"type\\\": \\\"object\\\",\\n        \\\"properties\\\": {\\n            \\\"country\\\": {\\n                \\\"type\\\": \\\"string\\\",\\n                \\\"description\\\": \\\"The country for which to fetch news\\\"\\n            }\\n        },\\n        \\\"required\\\": [\\n            \\\"country\\\"\\n        ]\\n    }\\n}\"}\r\n",
      "{\"prompt_input\": null, \"input\": \"<manusia>: I need a new password. Can you generate one for me?\\n<bot>: Sudah tentu. Berapa lama anda mahu kata laluan anda? Dan adakah anda mahu ia termasuk simbol?\\n<manusia>: I would like it to be 12 characters long and yes, please include symbols.\\n<bot>: <functioncall> {\\\"name\\\": \\\"generate_password\\\", \\\"arguments\\\": '{\\\"length\\\": 12, \\\"include_symbols\\\": true}'} \\n\\n\\n<functioncall> {\\\"password\\\": \\\"4&7j#9@1Q6*\\\"}\", \"output\": null, \"function_call\": \"{\\n    \\\"name\\\": \\\"generate_password\\\",\\n    \\\"description\\\": \\\"Generate a random password\\\",\\n    \\\"parameters\\\": {\\n        \\\"type\\\": \\\"object\\\",\\n        \\\"properties\\\": {\\n            \\\"length\\\": {\\n                \\\"type\\\": \\\"integer\\\",\\n                \\\"description\\\": \\\"The length of the password\\\"\\n            },\\n            \\\"include_symbols\\\": {\\n                \\\"type\\\": \\\"boolean\\\",\\n                \\\"description\\\": \\\"Whether to include symbols in the password\\\"\\n            }\\n        },\\n        \\\"required\\\": [\\n            \\\"length\\\"\\n        ]\\n    }\\n}\\n\\n{\\n    \\\"name\\\": \\\"create_task\\\",\\n    \\\"description\\\": \\\"Create a new task in a task management system\\\",\\n    \\\"parameters\\\": {\\n        \\\"type\\\": \\\"object\\\",\\n        \\\"properties\\\": {\\n            \\\"title\\\": {\\n                \\\"type\\\": \\\"string\\\",\\n                \\\"description\\\": \\\"The title of the task\\\"\\n            },\\n            \\\"due_date\\\": {\\n                \\\"type\\\": \\\"string\\\",\\n                \\\"format\\\": \\\"date\\\",\\n                \\\"description\\\": \\\"The due date of the task\\\"\\n            },\\n            \\\"priority\\\": {\\n                \\\"type\\\": \\\"string\\\",\\n                \\\"enum\\\": [\\n                    \\\"low\\\",\\n                    \\\"medium\\\",\\n                    \\\"high\\\"\\n                ],\\n                \\\"description\\\": \\\"The priority of the task\\\"\\n            }\\n        },\\n        \\\"required\\\": [\\n            \\\"title\\\",\\n            \\\"due_date\\\",\\n            \\\"priority\\\"\\n        ]\\n    }\\n}\"}\r\n"
     ]
    }
   ],
   "source": [
    "!head -n 3 combine-alternate-no-alignment-malay-multitasks.jsonl"
   ]
  },
  {
   "cell_type": "code",
   "execution_count": 7,
   "metadata": {},
   "outputs": [
    {
     "name": "stdout",
     "output_type": "stream",
     "text": [
      "{\"prompt_input\": null, \"input\": \"<manusia>: Can you help me calculate the final price after applying a discount?\\n<bot>: Pasti! Saya boleh membantu anda dengan itu. Sila berikan saya harga asal dan peratusan diskaun.\\n<manusia>: The original price is $100 and the discount percentage is 20%.\\n<bot>: <functioncall> {\\\"name\\\": \\\"calculate_discount\\\", \\\"arguments\\\": '{\\n  \\\"original_price\\\": 100,\\n  \\\"discount_percentage\\\": 20\\n}'}\\n<functioncall> {\\\"final_price\\\": 80}\\n<manusia>: Itu bagus! Terima kasih atas bantuan anda.\\n<bot>: Sama-sama! Jika anda mempunyai sebarang soalan lagi, sila tanya.\", \"output\": null, \"function_call\": \"{\\n    \\\"name\\\": \\\"calculate_discount\\\",\\n    \\\"description\\\": \\\"Calculate the final price after applying a discount\\\",\\n    \\\"parameters\\\": {\\n        \\\"type\\\": \\\"object\\\",\\n        \\\"properties\\\": {\\n            \\\"original_price\\\": {\\n                \\\"type\\\": \\\"number\\\",\\n                \\\"description\\\": \\\"The original price of the item\\\"\\n            },\\n            \\\"discount_percentage\\\": {\\n                \\\"type\\\": \\\"number\\\",\\n                \\\"description\\\": \\\"The percentage of discount to be applied\\\"\\n            }\\n        },\\n        \\\"required\\\": [\\n            \\\"original_price\\\",\\n            \\\"discount_percentage\\\"\\n        ]\\n    }\\n}\"}\r\n"
     ]
    }
   ],
   "source": [
    "!tail -n 1 combine-alternate-no-alignment-malay-multitasks.jsonl"
   ]
  },
  {
   "cell_type": "code",
   "execution_count": 8,
   "metadata": {},
   "outputs": [
    {
     "name": "stdout",
     "output_type": "stream",
     "text": [
      "prepared-WizardLM_evol_instruct_V2_143k.translated.jsonl\n",
      "prepared-unnatural-instructions.jsonl.requested\n",
      "prepared-gpt4all-code.jsonl\n",
      "prepared-NSText2SQL.jsonl\n",
      "prepared-camel-ai.jsonl\n"
     ]
    }
   ],
   "source": [
    "files = [\n",
    "    'prepared-WizardLM_evol_instruct_V2_143k.translated.jsonl',\n",
    "    'prepared-unnatural-instructions.jsonl.requested',\n",
    "    'prepared-gpt4all-code.jsonl',\n",
    "    'prepared-NSText2SQL.jsonl',\n",
    "    'prepared-camel-ai.jsonl'\n",
    "]\n",
    "\n",
    "for f in files:\n",
    "    print(f)\n",
    "    with open(f) as fopen:\n",
    "        for l in fopen:\n",
    "            try:\n",
    "                data = json.loads(l)\n",
    "                if not accept(data['input']):\n",
    "                    continue\n",
    "                if not accept(data['output']):\n",
    "                    continue\n",
    "                fopen_l.write(f'{json.dumps(data)}\\n')\n",
    "                fopen_l.flush()\n",
    "            except:\n",
    "                pass"
   ]
  },
  {
   "cell_type": "code",
   "execution_count": 9,
   "metadata": {},
   "outputs": [
    {
     "name": "stdout",
     "output_type": "stream",
     "text": [
      "357089 combine-alternate-no-alignment-malay-multitasks.jsonl\r\n"
     ]
    }
   ],
   "source": [
    "!wc -l combine-alternate-no-alignment-malay-multitasks.jsonl"
   ]
  },
  {
   "cell_type": "code",
   "execution_count": 10,
   "metadata": {},
   "outputs": [
    {
     "name": "stdout",
     "output_type": "stream",
     "text": [
      "{\"prompt_input\": null, \"input\": \"Bagaimanakah suhu mempengaruhi pembentukan plasma Quark-gluon dalam perlanggaran tenaga tinggi?\", \"output\": \"Pembentukan Quark-Gluon Plasma (QGP) dalam perlanggaran tenaga tinggi sangat bergantung kepada suhu yang dicapai semasa proses perlanggaran. QGP ialah keadaan jirim di mana kuark dan gluon, juzuk asas proton dan neutron, tidak lagi terkurung dalam zarah individu dan boleh bergerak bebas dalam \\\"sup\\\" jirim yang berinteraksi kuat.\\n\\nSuhu kritikal untuk pembentukan QGP dianggarkan sekitar 2 x 10^12 Kelvin (kira-kira 200 MeV). Suhu ini perlu untuk mengatasi daya kuat yang mengikat kuark dan gluon bersama-sama dalam proton dan neutron, membolehkan mereka menjadi tidak terkurung.\\n\\nDalam perlanggaran tenaga tinggi, seperti yang berlaku di Large Hadron Collider (LHC) atau Relativistic Heavy Ion Collider (RHIC), suhu yang dicapai semasa proses perlanggaran adalah penting untuk pembentukan QGP. Apabila ion berat, seperti emas atau nukleus plumbum, berlanggar pada tenaga yang sangat tinggi, ia mewujudkan kawasan dengan suhu dan ketumpatan tenaga yang sangat tinggi. Jika suhu di rantau ini melebihi suhu kritikal, QGP boleh dibentuk.\\n\\nApabila suhu meningkat, kemungkinan pembentukan QGP juga meningkat. Walau bagaimanapun, adalah penting untuk diperhatikan bahawa pembentukan QGP tidak semata-mata bergantung kepada suhu. Faktor lain, seperti ketumpatan tenaga dan tempoh keadaan suhu tinggi, juga memainkan peranan penting dalam pembentukan QGP.\\n\\nSecara ringkasnya, suhu memainkan peranan penting dalam pembentukan Plasma Quark-Gluon dalam perlanggaran tenaga tinggi. Mencapai suhu di atas nilai kritikal adalah perlu untuk penyahkurungan kuark dan gluon, membolehkan mereka membentuk keadaan QGP. Walau bagaimanapun, faktor lain seperti ketumpatan tenaga dan tempoh keadaan suhu tinggi juga menyumbang kepada pembentukan QGP.\"}\r\n"
     ]
    }
   ],
   "source": [
    "!tail -n 1 combine-alternate-no-alignment-malay-multitasks.jsonl"
   ]
  },
  {
   "cell_type": "code",
   "execution_count": 11,
   "metadata": {},
   "outputs": [
    {
     "name": "stdout",
     "output_type": "stream",
     "text": [
      "prepared-metamathqa.jsonl\n"
     ]
    }
   ],
   "source": [
    "files = [\n",
    "    'prepared-metamathqa.jsonl',\n",
    "]\n",
    "\n",
    "for f in files:\n",
    "    print(f)\n",
    "    with open(f) as fopen:\n",
    "        for l in fopen:\n",
    "            try:\n",
    "                if random.random() < 0.9:\n",
    "                    continue\n",
    "\n",
    "                data = json.loads(l)\n",
    "                if not accept(data['input']):\n",
    "                    continue\n",
    "                if not accept(data['output']):\n",
    "                    continue\n",
    "                fopen_l.write(f'{json.dumps(data)}\\n')\n",
    "                fopen_l.flush()\n",
    "            except:\n",
    "                pass"
   ]
  },
  {
   "cell_type": "code",
   "execution_count": 12,
   "metadata": {},
   "outputs": [
    {
     "name": "stdout",
     "output_type": "stream",
     "text": [
      "394377 combine-alternate-no-alignment-malay-multitasks.jsonl\r\n"
     ]
    }
   ],
   "source": [
    "!wc -l combine-alternate-no-alignment-malay-multitasks.jsonl"
   ]
  },
  {
   "cell_type": "code",
   "execution_count": 13,
   "metadata": {},
   "outputs": [
    {
     "name": "stdout",
     "output_type": "stream",
     "text": [
      "prepared-parliament-qa.jsonl\n",
      "prepared-common-crawl-qa.jsonl\n",
      "prepared-summarization.jsonl\n"
     ]
    }
   ],
   "source": [
    "files = [\n",
    "    'prepared-parliament-qa.jsonl',\n",
    "    'prepared-common-crawl-qa.jsonl',\n",
    "    'prepared-summarization.jsonl',\n",
    "]\n",
    "\n",
    "for f in files:\n",
    "    print(f)\n",
    "    with open(f) as fopen:\n",
    "        for l in fopen:\n",
    "            try:\n",
    "                if random.random() < 0.8:\n",
    "                    continue\n",
    "\n",
    "                data = json.loads(l)\n",
    "                if not accept(data['input']):\n",
    "                    continue\n",
    "                if not accept(data['output']):\n",
    "                    continue\n",
    "                fopen_l.write(f'{json.dumps(data)}\\n')\n",
    "                fopen_l.flush()\n",
    "            except:\n",
    "                pass"
   ]
  },
  {
   "cell_type": "code",
   "execution_count": 14,
   "metadata": {
    "scrolled": true
   },
   "outputs": [
    {
     "name": "stdout",
     "output_type": "stream",
     "text": [
      "483211 combine-alternate-no-alignment-malay-multitasks.jsonl\r\n"
     ]
    }
   ],
   "source": [
    "!wc -l combine-alternate-no-alignment-malay-multitasks.jsonl"
   ]
  },
  {
   "cell_type": "code",
   "execution_count": 15,
   "metadata": {},
   "outputs": [
    {
     "name": "stdout",
     "output_type": "stream",
     "text": [
      "prepared-sentiment.jsonl\n",
      "prepared-translation-hansard.jsonl\n"
     ]
    }
   ],
   "source": [
    "files = [\n",
    "    'prepared-sentiment.jsonl',\n",
    "    'prepared-translation-hansard.jsonl'\n",
    "]\n",
    "\n",
    "for f in files:\n",
    "    print(f)\n",
    "    with open(f) as fopen:\n",
    "        for l in fopen:\n",
    "            try:\n",
    "                if random.random() < 0.7:\n",
    "                    continue\n",
    "\n",
    "                data = json.loads(l)\n",
    "                if not accept(data['input']):\n",
    "                    continue\n",
    "                if not accept(data['output']):\n",
    "                    continue\n",
    "                fopen_l.write(f'{json.dumps(data)}\\n')\n",
    "                fopen_l.flush()\n",
    "            except:\n",
    "                pass"
   ]
  },
  {
   "cell_type": "code",
   "execution_count": 16,
   "metadata": {},
   "outputs": [
    {
     "name": "stdout",
     "output_type": "stream",
     "text": [
      "553784 combine-alternate-no-alignment-malay-multitasks.jsonl\r\n"
     ]
    }
   ],
   "source": [
    "!wc -l combine-alternate-no-alignment-malay-multitasks.jsonl"
   ]
  },
  {
   "cell_type": "code",
   "execution_count": 17,
   "metadata": {},
   "outputs": [
    {
     "name": "stdout",
     "output_type": "stream",
     "text": [
      "prepared-translation.jsonl\n",
      "prepared-translation-manglish.jsonl\n"
     ]
    }
   ],
   "source": [
    "files = [\n",
    "    'prepared-translation.jsonl', \n",
    "    'prepared-translation-manglish.jsonl', \n",
    "]\n",
    "\n",
    "for f in files:\n",
    "    print(f)\n",
    "    with open(f) as fopen:\n",
    "        for l in fopen:\n",
    "            try:\n",
    "                if random.random() < 0.9:\n",
    "                    continue\n",
    "\n",
    "                data = json.loads(l)\n",
    "                if not accept(data['input']):\n",
    "                    continue\n",
    "                if not accept(data['output']):\n",
    "                    continue\n",
    "                fopen_l.write(f'{json.dumps(data)}\\n')\n",
    "                fopen_l.flush()\n",
    "            except:\n",
    "                pass"
   ]
  },
  {
   "cell_type": "code",
   "execution_count": 18,
   "metadata": {},
   "outputs": [
    {
     "name": "stdout",
     "output_type": "stream",
     "text": [
      "677138 combine-alternate-no-alignment-malay-multitasks.jsonl\r\n"
     ]
    }
   ],
   "source": [
    "!wc -l combine-alternate-no-alignment-malay-multitasks.jsonl"
   ]
  },
  {
   "cell_type": "code",
   "execution_count": 19,
   "metadata": {},
   "outputs": [
    {
     "name": "stdout",
     "output_type": "stream",
     "text": [
      "prepared-ultrachat-train_8.jsonl.translated.malay.no-alignment\n",
      "prepared-ultrachat-train_4.jsonl.translated.malay.no-alignment\n",
      "prepared-ultrachat-train_9.jsonl.translated.malay.no-alignment\n",
      "prepared-ultrachat-train_7.jsonl.translated.malay.no-alignment\n",
      "prepared-ultrachat-train_1.jsonl.translated.malay.no-alignment\n",
      "prepared-ultrachat-train_0.jsonl.translated.malay.no-alignment\n",
      "prepared-ultrachat-train_6.jsonl.translated.malay.no-alignment\n",
      "prepared-ultrachat-train_5.jsonl.translated.malay.no-alignment\n",
      "prepared-ultrachat-train_3.jsonl.translated.malay.no-alignment\n"
     ]
    }
   ],
   "source": [
    "files = glob('prepared-ultrachat-*')\n",
    "\n",
    "for f in files:\n",
    "    print(f)\n",
    "    with open(f) as fopen:\n",
    "        for l in fopen:\n",
    "            if 'Saya mahir dalam bahasa Ibrani' in l:\n",
    "                continue\n",
    "                \n",
    "            if 'tolong terjemah' in l.lower():\n",
    "                continue\n",
    "                \n",
    "            if '```' in l:\n",
    "                continue\n",
    "                \n",
    "            if random.random() < 0.8:\n",
    "                continue\n",
    "                    \n",
    "            try:\n",
    "                data = json.loads(l)\n",
    "                if not accept(data['input']):\n",
    "                    continue\n",
    "                fopen_l.write(f'{json.dumps(data)}\\n')\n",
    "                fopen_l.flush()\n",
    "            except:\n",
    "                pass"
   ]
  },
  {
   "cell_type": "code",
   "execution_count": 20,
   "metadata": {
    "scrolled": true
   },
   "outputs": [
    {
     "name": "stdout",
     "output_type": "stream",
     "text": [
      "875756 combine-alternate-no-alignment-malay-multitasks.jsonl\r\n"
     ]
    }
   ],
   "source": [
    "!wc -l combine-alternate-no-alignment-malay-multitasks.jsonl"
   ]
  },
  {
   "cell_type": "code",
   "execution_count": 21,
   "metadata": {},
   "outputs": [
    {
     "name": "stdout",
     "output_type": "stream",
     "text": [
      "{\"prompt_input\": null, \"input\": \"<manusia>: Describe a time when you had to make a difficult medical decision.\\n<bot>: Saya tidak mampu untuk mempunyai pengalaman peribadi. walau bagaimanapun, saya boleh memberikan jawapan generik kepada soalan anda yang dinyatakan di bawah:\\n\\nsalah satu keputusan perubatan yang paling mencabar ialah memilih tindakan yang betul untuk pesakit yang sakit tenat. satu pengalaman sebegitu terlintas di fikiran di mana pesakit yang mengalami jangkitan paru-paru yang teruk telah dimasukkan ke hospital. walaupun doktor dapat menstabilkan keadaannya, dia tetap menggunakan ventilator mekanikal dengan prognosis yang buruk. ahli keluarga pesakit meminta semua langkah yang mungkin, termasuk trakeostomi dan pengudaraan jangka panjang. namun, selepas pemeriksaan dan perundingan yang teliti, pasukan profesional perubatan membuat keputusan yang sukar untuk menarik balik langkah-langkah mengekalkan kehidupan, memandangkan prognosis pesakit yang buruk dan potensi untuk menderita. keputusan ini dibuat selepas banyak pertimbangan, kerana ia bukanlah pilihan yang mudah untuk dibuat. pasukan profesional pelbagai disiplin menyokong keputusan itu, dan pesakit meninggal dunia dengan aman dengan bermaruah.\\n<manusia>: Wah, keputusan yang sangat sukar untuk dibuat. Saya hanya dapat membayangkan betapa sukarnya untuk profesional perubatan yang terlibat. Adakah mereka menerima sebarang tindak balas daripada ahli keluarga pesakit kerana membuat keputusan itu?\\n<bot>: Saya tidak mempunyai akses kepada maklumat terperinci seperti sama ada ahli keluarga bertindak balas negatif terhadap keputusan profesional perubatan atau tidak. walau bagaimanapun, dalam keadaan sebegitu, tidak jarang keluarga mempunyai pandangan yang berbeza tentang penjagaan orang tersayang. dalam kes ini, pasukan perubatan akan memaklumkan keadaan pesakit, prognosis, dan pilihan rawatan dengan jelas kepada ahli keluarga, menghormati pendapat dan kebimbangan mereka. ia adalah situasi yang mencabar emosi dan sensitif, dan pakar perubatan serta profesional perubatan lain mesti mengendalikan situasi ini dengan penuh empati, sambil mengekalkan kepentingan terbaik pesakit di barisan hadapan dalam proses membuat keputusan mereka. akhirnya, keputusan itu akan dibuat berdasarkan penilaian keadaan pesakit dan pertimbangan fakta klinikal, prinsip etika, dan sumber yang ada.\\n<manusia>: It's good to hear that the medical professionals made the decision that they believed was in the patient's best interest. It's never easy when families have divergent views, but ultimately, the care should be based on what is medically necessary and feasible. It's a reminder of how important it is for all of us to have discussions with our loved ones about end-of-life care so that we know their wishes and can make decisions that align with them.\\n<bot>: Saya bersetuju sepenuhnya dengan anda. membuat keputusan akhir hayat adalah aspek penjagaan kesihatan yang amat penting yang memberi kesan bukan sahaja kepada pesakit tetapi juga keluarga dan penyedia penjagaan kesihatan mereka. berkomunikasi dengan orang tersayang tentang keutamaan penjagaan akhir hayat dan mendokumentasikannya dengan arahan awal, seperti wasiat hidup atau surat kuasa tahan lama untuk penjagaan kesihatan, boleh memudahkan membuat keputusan dan meringankan beberapa beban emosi daripada keluarga dan penyedia penjagaan kesihatan. mengadakan perbincangan ini juga boleh membantu pesakit bersedia untuk peringkat akhir kehidupan mereka dan mempunyai lebih kawalan ke atas penjagaan mereka. adalah penting untuk diingat bahawa penjagaan akhir hayat adalah tentang memastikan keselesaan dan maruah pesakit, dan semua keputusan harus dibuat dengan mengambil kira kepentingan terbaik pesakit.\\n<manusia>: It's also important for healthcare providers to prioritize communication and empathy in these difficult situations. It can make all the difference for the patient and their family during such a challenging time. It's amazing to see medical professionals who are able to balance both the medical and emotional aspects of end-of-life care.\\n<bot>: Saya bersetuju sepenuhnya dengan anda. profesional perubatan yang terlibat dalam penjagaan akhir hayat menghadapi cabaran yang sukar. menyediakan penjagaan penuh belas kasihan semasa situasi ini memerlukan kedua-dua kemahiran perubatan dan kemahiran emosi. mendengar yang berkesan, empati dan komunikasi yang jelas adalah antara kemahiran penting yang perlu dimiliki oleh penyedia penjagaan kesihatan untuk berjaya mengharungi situasi sukar ini. memberikan sokongan emosi kepada pesakit dan keluarga mereka, dan membantu mereka memahami fakta dan pilihan perubatan, dengan ketara dapat mengurangkan kebimbangan, penderitaan mereka dan membantu mereka membuat keputusan termaklum. latihan dalam komunikasi, kaunseling dan penjagaan paliatif adalah penting untuk penyedia penjagaan kesihatan untuk menyediakan penjagaan akhir hayat yang optimum kepada pesakit mereka. apabila dilakukan dengan baik, ia boleh membawa kepada penjagaan yang lebih baik, kepuasan yang lebih besar untuk pesakit, dan tahap kepercayaan dan akauntabiliti yang tinggi dengan ahli keluarga.\", \"output\": null}\r\n"
     ]
    }
   ],
   "source": [
    "!tail -n 1 combine-alternate-no-alignment-malay-multitasks.jsonl"
   ]
  },
  {
   "cell_type": "code",
   "execution_count": 22,
   "metadata": {},
   "outputs": [],
   "source": [
    "!shuf combine-alternate-no-alignment-malay-multitasks.jsonl > shuf-combine-alternate-no-alignment-malay-multitasks.jsonl"
   ]
  },
  {
   "cell_type": "code",
   "execution_count": 23,
   "metadata": {
    "scrolled": true
   },
   "outputs": [
    {
     "name": "stdout",
     "output_type": "stream",
     "text": [
      "{\"prompt_input\": null, \"input\": \"Apakah kesan faktor persekitaran tertentu (cth. suhu, pH, kemasinan) ke atas ekspresi protein tertentu dalam organisma tertentu? Gunakan analisis data proteomik untuk membandingkan profil ekspresi protein organisma di bawah keadaan eksperimen yang berbeza dan mengenal pasti sebarang perubahan ketara dalam kelimpahan protein.\", \"output\": \"Untuk menentukan kesan faktor persekitaran tertentu terhadap ekspresi protein dalam organisma tertentu, kita boleh mengikuti langkah berikut:\\n\\n1. Reka bentuk eksperimen: Pertama, kita perlu mereka bentuk eksperimen di mana organisma terdedah kepada tahap faktor persekitaran yang berbeza (cth., suhu yang berbeza-beza, tahap pH atau kemasinan). Sebaik-baiknya, kita harus mempunyai kumpulan kawalan dan beberapa kumpulan eksperimen dengan tahap faktor persekitaran yang berbeza. Setiap kumpulan harus mempunyai berbilang replika biologi untuk memastikan kebolehpercayaan keputusan.\\n\\n2. Penyediaan sampel: Selepas mendedahkan organisma kepada keadaan eksperimen yang berbeza, kita perlu mengumpul sampel (cth., sel atau tisu) daripada setiap kumpulan. Sampel hendaklah diproses untuk mengekstrak protein, diikuti dengan kuantiti protein dan normalisasi untuk memastikan jumlah protein yang sama digunakan untuk analisis selanjutnya.\\n\\n3. Analisis proteomik: Sampel protein daripada setiap kumpulan hendaklah tertakluk kepada analisis proteomik, seperti elektroforesis gel dua dimensi (2D-PAGE) atau spektrometri jisim kromatografi cecair (LC-MS/MS). Teknik ini memisahkan dan mengenal pasti protein berdasarkan berat molekul, titik isoelektrik dan jujukan peptida.\\n\\n4. Pemprosesan data: Data mentah yang diperoleh daripada analisis proteomik harus diproses untuk mengenal pasti dan mengukur protein yang terdapat dalam setiap sampel. Ini boleh dilakukan menggunakan pelbagai alat dan perisian bioinformatik, seperti MaxQuant, Proteome Discoverer, atau Scaffold.\\n\\n5. Analisis statistik: Setelah data ekspresi protein diperoleh, kita perlu melakukan analisis statistik untuk membandingkan profil ekspresi protein antara kumpulan kawalan dan eksperimen. Ini boleh dilakukan menggunakan alat seperti Perseus, R, atau Python. Kami boleh menggunakan ujian statistik seperti ujian-t, ANOVA, atau ujian bukan parametrik untuk mengenal pasti protein dengan perubahan ketara dalam kelimpahan antara kumpulan.\\n\\n6. Analisis fungsian: Selepas mengenal pasti protein dengan perubahan ketara dalam ekspresi, kita boleh melakukan analisis berfungsi untuk memahami proses dan laluan biologi yang dipengaruhi oleh faktor persekitaran. Ini boleh dilakukan menggunakan alatan seperti DAVID, STRING atau Analisis Laluan Kecerdikan (IPA).\\n\\n7. Pengesahan: Untuk mengesahkan penemuan, kami boleh melakukan eksperimen tambahan, seperti Western blotting atau PCR masa nyata kuantitatif (qRT-PCR), untuk mengesahkan perubahan dalam ekspresi protein.\\n\\nKesimpulannya, dengan membandingkan profil ekspresi protein organisma di bawah keadaan eksperimen yang berbeza, kita boleh mengenal pasti perubahan ketara dalam kelimpahan protein dan memahami kesan faktor persekitaran terhadap proteom organisma. Maklumat ini boleh membantu kita memahami dengan lebih baik tindak balas organisma terhadap perubahan persekitaran dan boleh memberikan pandangan tentang potensi sasaran untuk strategi intervensi atau penyesuaian.\"}\r\n",
      "{\"prompt_input\": null, \"input\": \"<manusia>: Can you please order a pizza for me?\\n<bot>: Maaf, saya tidak dapat membantu dengan itu. Keupayaan saya sekarang terhad kepada umur mengira berdasarkan tarikh lahir. Saya tidak mempunyai keupayaan untuk membuat pesanan atau melakukan tugas luar.\", \"output\": null, \"function_call\": \"{\\n    \\\"name\\\": \\\"calculate_age\\\",\\n    \\\"description\\\": \\\"Calculate the age based on the birthdate\\\",\\n    \\\"parameters\\\": {\\n        \\\"type\\\": \\\"object\\\",\\n        \\\"properties\\\": {\\n            \\\"birthdate\\\": {\\n                \\\"type\\\": \\\"string\\\",\\n                \\\"format\\\": \\\"date\\\",\\n                \\\"description\\\": \\\"The birthdate of the person\\\"\\n            }\\n        },\\n        \\\"required\\\": [\\n            \\\"birthdate\\\"\\n        ]\\n    }\\n}\"}\r\n",
      "{\"prompt_input\": null, \"input\": \"<manusia>: Bolehkah anda membantu saya menghantar e-mel?\\n<bot>: Sudah tentu! Saya boleh membantu anda dengan itu. Sila berikan saya alamat e-mel, subjek dan mesej penerima.\\n<manusia>: The recipient is john@example.com, the subject is \\\"Meeting Reminder\\\", and the message is \\\"Hi John, just a friendly reminder about our meeting tomorrow at 2 PM. See you then!\\\"\\n<bot>: <functioncall> {\\\"name\\\":\\\"create_note\\\", \\\"arguments\\\": {\\\"recipient\\\": \\\"john@example.com\\\", \\\"subject\\\": \\\"Meeting Reminder\\\", \\\"message\\\": \\\"Hi John, just a friendly reminder about our meeting tomorrow at 2 PM. See you then!\\\"}}\\n<functioncall> {\\\"status\\\": \\\"success\\\", \\\"message\\\": \\\"Email sent successfully to john@example.com\\\"}\\n<manusia>: That's great! Thank you for your help.\\n<bot>: Sama-sama! Jika anda memerlukan bantuan lanjut, sila tanya.\", \"output\": null, \"function_call\": \"{\\n    \\\"name\\\": \\\"create_note\\\",\\n    \\\"description\\\": \\\"Create a new note\\\",\\n    \\\"parameters\\\": {\\n        \\\"type\\\": \\\"object\\\",\\n        \\\"properties\\\": {\\n            \\\"title\\\": {\\n                \\\"type\\\": \\\"string\\\",\\n                \\\"description\\\": \\\"The title of the note\\\"\\n            },\\n            \\\"content\\\": {\\n                \\\"type\\\": \\\"string\\\",\\n                \\\"description\\\": \\\"The content of the note\\\"\\n            }\\n        },\\n        \\\"required\\\": [\\n            \\\"title\\\",\\n            \\\"content\\\"\\n        ]\\n    }\\n}\"}\r\n"
     ]
    }
   ],
   "source": [
    "!head -n 3 shuf-combine-alternate-no-alignment-malay-multitasks.jsonl"
   ]
  },
  {
   "cell_type": "code",
   "execution_count": 24,
   "metadata": {},
   "outputs": [
    {
     "name": "stdout",
     "output_type": "stream",
     "text": [
      "-rw-r--r-- 1 husein husein 2.6G Nov  10 01:24 shuf-combine-alternate-no-alignment-malay-multitasks.jsonl\r\n"
     ]
    }
   ],
   "source": [
    "!ls -lh shuf-combine-alternate-no-alignment-malay-multitasks.jsonl"
   ]
  },
  {
   "cell_type": "code",
   "execution_count": 25,
   "metadata": {},
   "outputs": [],
   "source": [
    "!cp shuf-combine-alternate-no-alignment-malay-multitasks.jsonl ../instructions-dataset"
   ]
  }
 ],
 "metadata": {
  "kernelspec": {
   "display_name": "Python 3 (ipykernel)",
   "language": "python",
   "name": "python3"
  },
  "language_info": {
   "codemirror_mode": {
    "name": "ipython",
    "version": 3
   },
   "file_extension": ".py",
   "mimetype": "text/x-python",
   "name": "python",
   "nbconvert_exporter": "python",
   "pygments_lexer": "ipython3",
   "version": "3.8.10"
  }
 },
 "nbformat": 4,
 "nbformat_minor": 4
}
