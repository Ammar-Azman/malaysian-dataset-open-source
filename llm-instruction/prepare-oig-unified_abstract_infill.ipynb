{
 "cells": [
  {
   "cell_type": "code",
   "execution_count": 1,
   "metadata": {},
   "outputs": [],
   "source": [
    "import json\n",
    "from tqdm import tqdm"
   ]
  },
  {
   "cell_type": "code",
   "execution_count": 2,
   "metadata": {},
   "outputs": [],
   "source": [
    "rejected = [\n",
    "    'tidak pasti apa yang anda maksudkan dengan'\n",
    "    'tidak mempunyai maklumat semasa',\n",
    "    'tidak dapat memberikan maklumat',\n",
    "    'tidak pasti apa yang anda maksudkan dengan',\n",
    "    'kemas kini kepada pangkalan pengetahuan saya',\n",
    "    'Sebagai model bahasa',\n",
    "]"
   ]
  },
  {
   "cell_type": "code",
   "execution_count": 3,
   "metadata": {},
   "outputs": [
    {
     "name": "stderr",
     "output_type": "stream",
     "text": [
      "217636it [00:05, 38493.82it/s]\n"
     ]
    }
   ],
   "source": [
    "data_instructions = []\n",
    "with open('/home/husein/ssd3/OIG/unified_abstract_infill.translated.jsonl') as fopen:\n",
    "    for l in tqdm(fopen):\n",
    "        data = json.loads(l)\n",
    "        \n",
    "        try:\n",
    "            inputs, outputs = [], []\n",
    "            splitted = data['r']['result'].split('<bot>:')\n",
    "            for i in range(len(splitted) - 1):\n",
    "                if i == 0:\n",
    "                    human = splitted[i].replace('<manusia>:', '')\n",
    "                else:\n",
    "                    human = splitted[i].split('<manusia>:')[1]\n",
    "                bot = splitted[i + 1].split('<manusia>:')[0]\n",
    "                \n",
    "                if any([r in bot for r in rejected]):\n",
    "                    break\n",
    "                    \n",
    "                inputs.append(human)\n",
    "                outputs.append(bot)\n",
    "        except:\n",
    "            continue\n",
    "            \n",
    "        a = {\n",
    "            'prompt_input': None,\n",
    "            'input': data['r']['result'],\n",
    "            'output': None\n",
    "        }\n",
    "        data_instructions.append(a)"
   ]
  },
  {
   "cell_type": "code",
   "execution_count": 4,
   "metadata": {},
   "outputs": [],
   "source": [
    "import json\n",
    "\n",
    "with open('prepared-oig-unified_abstract_infill.jsonl', 'w') as fopen:\n",
    "    for l in data_instructions:\n",
    "        fopen.write(f'{json.dumps(l)}\\n')"
   ]
  },
  {
   "cell_type": "code",
   "execution_count": 5,
   "metadata": {},
   "outputs": [
    {
     "name": "stdout",
     "output_type": "stream",
     "text": [
      "216255 prepared-oig-unified_abstract_infill.jsonl\r\n"
     ]
    }
   ],
   "source": [
    "!wc -l prepared-oig-unified_abstract_infill.jsonl"
   ]
  },
  {
   "cell_type": "code",
   "execution_count": 4,
   "metadata": {},
   "outputs": [
    {
     "name": "stdout",
     "output_type": "stream",
     "text": [
      "216255 prepared-oig-unified_abstract_infill.jsonl\r\n"
     ]
    }
   ],
   "source": [
    "!wc -l prepared-oig-unified_abstract_infill.jsonl"
   ]
  }
 ],
 "metadata": {
  "kernelspec": {
   "display_name": "Python 3 (ipykernel)",
   "language": "python",
   "name": "python3"
  },
  "language_info": {
   "codemirror_mode": {
    "name": "ipython",
    "version": 3
   },
   "file_extension": ".py",
   "mimetype": "text/x-python",
   "name": "python",
   "nbconvert_exporter": "python",
   "pygments_lexer": "ipython3",
   "version": "3.8.10"
  }
 },
 "nbformat": 4,
 "nbformat_minor": 4
}
