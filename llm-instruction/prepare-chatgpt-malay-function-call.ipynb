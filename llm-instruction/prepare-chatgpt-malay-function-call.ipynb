{
 "cells": [
  {
   "cell_type": "code",
   "execution_count": 1,
   "id": "37d57854",
   "metadata": {},
   "outputs": [],
   "source": [
    "break_at = [\n",
    "    'help.openai.com',\n",
    "    'openai',\n",
    "    'cannot have personal opinions',\n",
    "    's an ai language model',\n",
    "    \"i'm sorry\",\n",
    "    'many factors',\n",
    "    'gay',\n",
    "    'lgbt',\n",
    "    'lesbian',\n",
    "    'gender-neutral',\n",
    "    'remain neutral',\n",
    "    'without bias',\n",
    "    'and neutral',\n",
    "    'more inclusive',\n",
    "    'neutrality',\n",
    "    'non-bias',\n",
    "    'discrimination',\n",
    "    'avoid any forms of discrimination',\n",
    "    'regardless of their gender',\n",
    "    'inclusive and tolerant environment',\n",
    "    'have personal views',\n",
    "    'sexual orientation should be a top priority',\n",
    "    's an objective ai',\n",
    "    'avoid any forms of prejudice or hate',\n",
    "    'regardless of their personal',\n",
    "    'you understand this direction',\n",
    "    'tolerant environment within ai',\n",
    "    'cannot express my',\n",
    "    'requires more context',\n",
    "    'personal opinion',\n",
    "    'have updated information',\n",
    "    \"don't have personal experiences\",\n",
    "    'there is no information',\n",
    "    'tidak mempunyai akses kepada data atau maklumat',\n",
    "    '10 april 2021',\n",
    "    'ebagai model bahasa AI'\n",
    "]"
   ]
  },
  {
   "cell_type": "code",
   "execution_count": 2,
   "id": "0b52177c",
   "metadata": {},
   "outputs": [],
   "source": [
    "import json\n",
    "import random\n",
    "from glob import glob"
   ]
  },
  {
   "cell_type": "code",
   "execution_count": 4,
   "id": "372b141d",
   "metadata": {},
   "outputs": [
    {
     "data": {
      "text/plain": [
       "196774"
      ]
     },
     "execution_count": 4,
     "metadata": {},
     "output_type": "execute_result"
    }
   ],
   "source": [
    "data = []\n",
    "\n",
    "for f in glob('/home/husein/ssd3/instructions/function-calls*.jsonl'):\n",
    "    with open(f) as fopen:\n",
    "        for l in fopen:\n",
    "            l = json.loads(l)\n",
    "            texts = []\n",
    "            for no, d in enumerate(l['conversations']):\n",
    "\n",
    "                if d['role'] == 'user':\n",
    "                    t = '<manusia>: '\n",
    "                    if random.random() > 0.5:\n",
    "                        c = 'content'\n",
    "                    else:\n",
    "                        c = 'content'\n",
    "                else:\n",
    "                    if 'functioncall' in d['content']:\n",
    "                        c = 'content'\n",
    "                    else:\n",
    "                        if 'functioncall' in l['conversations'][no - 1]['content']:\n",
    "                            continue\n",
    "                        c = 'content'\n",
    "                    t = '<bot>: '\n",
    "\n",
    "                if d[c] is None:\n",
    "                    break\n",
    "\n",
    "                if 'functioncall' in d[c]:\n",
    "                    d[c] = d[c].split('FUNCTION RESPONSE:')[0].strip()\n",
    "\n",
    "                n = d[c]\n",
    "                n = n.strip()\n",
    "                if len(n) < 3:\n",
    "                    break\n",
    "                t = t + n\n",
    "                texts.append(t)\n",
    "                \n",
    "            if not len(texts):\n",
    "                continue\n",
    "            while len(texts) and texts[-1].startswith('<manusia>'):\n",
    "                texts = texts[:-1]\n",
    "            if not len(texts):\n",
    "                continue\n",
    "            if not texts[0].startswith('<manusia>'):\n",
    "                continue\n",
    "\n",
    "            data.append({\n",
    "                'prompt_input': None,\n",
    "                'input': '\\n'.join(texts),\n",
    "                'output': None,\n",
    "                'function_call': l['function_call'],\n",
    "            })\n",
    "            \n",
    "len(data)"
   ]
  },
  {
   "cell_type": "code",
   "execution_count": 5,
   "id": "684aec3b",
   "metadata": {},
   "outputs": [],
   "source": [
    "def generate_and_tokenize_prompt(row):\n",
    "    texts = ['<s>']\n",
    "\n",
    "    if 'function_call' in row:\n",
    "        t = row['function_call']\n",
    "        texts.append(f'\\n[FUNCTIONCALL]\\n{t}\\n')\n",
    "\n",
    "    if '<bot>:' in row['input'] and row['output'] is None:\n",
    "        inputs, outputs = [], []\n",
    "        splitted = row['input'].split('<bot>:')\n",
    "        for i in range(len(splitted) - 1):\n",
    "            if i == 0:\n",
    "                human = splitted[i].replace('<manusia>:', '')\n",
    "            else:\n",
    "                try:\n",
    "                    human = splitted[i].split('<manusia>:')[1]\n",
    "                except:\n",
    "                    continue\n",
    "            bot = splitted[i + 1].split('<manusia>:')[0]\n",
    "            inputs.append(human.strip())\n",
    "            outputs.append(bot.strip())\n",
    "    else:\n",
    "        inputs = [row['input']]\n",
    "        outputs = [row['output']]\n",
    "\n",
    "    for u, a in zip(inputs, outputs):\n",
    "        texts.append(f'[INST] {u.strip()} [/INST] {a.strip()}</s> ')\n",
    "\n",
    "    prompt = ''.join(texts)\n",
    "    return {'text': prompt}"
   ]
  },
  {
   "cell_type": "code",
   "execution_count": 6,
   "id": "e3200445",
   "metadata": {},
   "outputs": [
    {
     "name": "stdout",
     "output_type": "stream",
     "text": [
      "<s>\n",
      "[FUNCTIONCALL]\n",
      "{\n",
      " \"name\": \"hitung_imt\",\n",
      " \"description\": \"Hitung Indeks Massa Tubuh (IMT)\",\n",
      " \"parameters\": {\n",
      " \"type\": \"object\",\n",
      " \"properties\": {\n",
      " \"berat\": {\n",
      " \"type\": \"number\",\n",
      " \"description\": \"Berat dalam kilogram\"\n",
      " },\n",
      " \"tinggi\": {\n",
      " \"type\": \"number\",\n",
      " \"description\": \"Tinggi dalam meter\"\n",
      " }\n",
      " },\n",
      " \"required\": [\n",
      " \"berat\",\n",
      " \"tinggi\"\n",
      " ]\n",
      " }\n",
      "}\n",
      "[INST] Hai, saya ingin mengira IMT saya. Saya berat 70 kilogram dan tinggi saya 1.75 meter. [/INST] <functioncall> {'name': 'hitung_imt', 'arguments': {'berat': 70, 'tinggi': 1.75}}</s> \n"
     ]
    }
   ],
   "source": [
    "print(generate_and_tokenize_prompt(data[-4])['text'])"
   ]
  },
  {
   "cell_type": "code",
   "execution_count": 8,
   "id": "d174dba4",
   "metadata": {},
   "outputs": [],
   "source": [
    "from tqdm import tqdm\n",
    "\n",
    "for d in data:\n",
    "    generate_and_tokenize_prompt(d)['text']"
   ]
  },
  {
   "cell_type": "code",
   "execution_count": 9,
   "id": "9c7c03d9",
   "metadata": {},
   "outputs": [
    {
     "name": "stdout",
     "output_type": "stream",
     "text": [
      "<s>\n",
      "[FUNCTIONCALL]\n",
      "{\"name\": \"GeneratePurchaseOrder\",\"description\":\"Fungsi ini digunakan untuk menghasilkan pesanan pembelian. Ia menerima maklumat produk, kuantiti, harga dan alamat penghantaran. Setiap produk perlu disertakan dengan kuantiti yang dikehendaki.\",\"parameters\":{\"type\":\"object\",\"properties\":{\"products\":{\"type\":\"array\",\"items\":{\"type\":\"object\",\"properties\":{\"product_name\":{\"type\":\"string\",\"description\":\"Nama produk yang dipesan.\"},\"quantity\":{\"type\":\"integer\",\"description\":\"Kuantiti produk yang dikehendaki.\"},\"price\":{\"type\":\"number\",\"description\":\"Harga bagi satu unit produk.\"}},\"required\":[\"product_name\",\"quantity\",\"price\"]}},\"delivery_address\":{\"type\":\"string\",\"description\":\"Alamat lengkap untuk penghantaran.\"}},\"required\":[\"products\",\"delivery_address\"]}}\n",
      "[INST] Saya ingin membuat pesanan pembelian. Produk yang saya perlukan ialah:\n",
      "1. T-shirt, kuantiti 5, harga 25.50\n",
      "2. Kasut sukan, kuantiti 2, harga 80.00\n",
      "Alamat penghantaran: No. 123, Jalan Merdeka, 68000 Ampang. [/INST] <functioncall> {'name': 'GeneratePurchaseOrder', 'arguments': {'products': [{'product_name': 'T-shirt', 'quantity': 5, 'price': 25.5}, {'product_name': 'Kasut sukan', 'quantity': 2, 'price': 80.0}], 'delivery_address': 'No. 123, Jalan Merdeka, 68000 Ampang'}}</s> \n"
     ]
    }
   ],
   "source": [
    "print(generate_and_tokenize_prompt(data[1])['text'])"
   ]
  },
  {
   "cell_type": "code",
   "execution_count": 10,
   "id": "ef8d8a23",
   "metadata": {},
   "outputs": [],
   "source": [
    "import json\n",
    "\n",
    "with open('prepared-chatgpt-malay-function-call.jsonl', 'w') as fopen:\n",
    "    for l in data:\n",
    "        fopen.write(f'{json.dumps(l)}\\n')"
   ]
  },
  {
   "cell_type": "code",
   "execution_count": 11,
   "id": "c368e8cb",
   "metadata": {},
   "outputs": [
    {
     "name": "stdout",
     "output_type": "stream",
     "text": [
      "196774 prepared-chatgpt-malay-function-call.jsonl\r\n"
     ]
    }
   ],
   "source": [
    "!wc -l prepared-chatgpt-malay-function-call.jsonl"
   ]
  }
 ],
 "metadata": {
  "kernelspec": {
   "display_name": "Python 3 (ipykernel)",
   "language": "python",
   "name": "python3"
  },
  "language_info": {
   "codemirror_mode": {
    "name": "ipython",
    "version": 3
   },
   "file_extension": ".py",
   "mimetype": "text/x-python",
   "name": "python",
   "nbconvert_exporter": "python",
   "pygments_lexer": "ipython3",
   "version": "3.8.10"
  }
 },
 "nbformat": 4,
 "nbformat_minor": 5
}
