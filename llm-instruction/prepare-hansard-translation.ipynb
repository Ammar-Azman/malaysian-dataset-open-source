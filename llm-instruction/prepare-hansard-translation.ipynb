{
 "cells": [
  {
   "cell_type": "code",
   "execution_count": 2,
   "metadata": {},
   "outputs": [],
   "source": [
    "import json\n",
    "import random\n",
    "from glob import glob\n",
    "\n",
    "random_combine = [\n",
    "    'standard english dan standard malay',\n",
    "    'english and melayu',\n",
    "    'malay and english',\n",
    "    'standard malay and english',\n",
    "]\n",
    "\n",
    "random_choices = {\n",
    "    'english': ['inggeris', 'english', 'bahasa inggeris'],\n",
    "    'malay': ['melayu', 'malay', 'bahasa melayu'],\n",
    "}"
   ]
  },
  {
   "cell_type": "code",
   "execution_count": 3,
   "metadata": {},
   "outputs": [
    {
     "data": {
      "text/plain": [
       "3"
      ]
     },
     "execution_count": 3,
     "metadata": {},
     "output_type": "execute_result"
    }
   ],
   "source": [
    "hansard = glob('/home/husein/google-translate-malaysia-hansard/*.requested')\n",
    "len(hansard)"
   ]
  },
  {
   "cell_type": "code",
   "execution_count": 10,
   "metadata": {},
   "outputs": [
    {
     "name": "stdout",
     "output_type": "stream",
     "text": [
      "42876 /home/husein/google-translate-malaysia-hansard/hansard.jsonl01.splitted.requested\r\n"
     ]
    }
   ],
   "source": [
    "!wc -l {hansard[2]}"
   ]
  },
  {
   "cell_type": "code",
   "execution_count": 16,
   "metadata": {},
   "outputs": [],
   "source": [
    "data_translation = []\n",
    "for f in hansard:\n",
    "    with open(f) as fopen:\n",
    "        for l in fopen:\n",
    "            data = json.loads(l)\n",
    "            if isinstance(data['src'], dict):\n",
    "                s = data['src']['cleaned']\n",
    "            else:\n",
    "                s = data['src']\n",
    "            t = s\n",
    "            en = data['r']['result']\n",
    "            l = random.choice(random_choices['english'])\n",
    "            c = random.randint(0, 3)\n",
    "            if c == 0:\n",
    "                q = f'terjemah `{t}` ke {l}'\n",
    "            elif c == 1:\n",
    "                q = f'terjemah ke {l}, `{t}`'\n",
    "            elif c == 2:\n",
    "                q = f'teks `{t}`, terjemah ke {l}' \n",
    "            elif c == 3:\n",
    "                q = f'teks `{t}`, translate to {l}' \n",
    "            a = {\n",
    "                'prompt_input': None,\n",
    "                'input': q,\n",
    "                'output': en\n",
    "            }\n",
    "            data_translation.append(a)"
   ]
  },
  {
   "cell_type": "code",
   "execution_count": 17,
   "metadata": {},
   "outputs": [],
   "source": [
    "with open('prepared-translation-hansard.jsonl', 'w') as fopen:\n",
    "    for l in data_translation:\n",
    "        fopen.write(f'{json.dumps(l)}\\n')"
   ]
  }
 ],
 "metadata": {
  "kernelspec": {
   "display_name": "Python 3 (ipykernel)",
   "language": "python",
   "name": "python3"
  },
  "language_info": {
   "codemirror_mode": {
    "name": "ipython",
    "version": 3
   },
   "file_extension": ".py",
   "mimetype": "text/x-python",
   "name": "python",
   "nbconvert_exporter": "python",
   "pygments_lexer": "ipython3",
   "version": "3.8.10"
  }
 },
 "nbformat": 4,
 "nbformat_minor": 4
}
