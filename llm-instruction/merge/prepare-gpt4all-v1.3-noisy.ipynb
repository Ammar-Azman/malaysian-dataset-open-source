{
 "cells": [
  {
   "cell_type": "code",
   "execution_count": 1,
   "metadata": {
    "scrolled": true
   },
   "outputs": [
    {
     "name": "stderr",
     "output_type": "stream",
     "text": [
      "2023-07-28 20:04:45.593890: I tensorflow/core/platform/cpu_feature_guard.cc:193] This TensorFlow binary is optimized with oneAPI Deep Neural Network Library (oneDNN) to use the following CPU instructions in performance-critical operations:  AVX2 AVX512F AVX512_VNNI FMA\n",
      "To enable them in other operations, rebuild TensorFlow with the appropriate compiler flags.\n",
      "2023-07-28 20:04:45.661330: I tensorflow/core/util/port.cc:104] oneDNN custom operations are on. You may see slightly different numerical results due to floating-point round-off errors from different computation orders. To turn them off, set the environment variable `TF_ENABLE_ONEDNN_OPTS=0`.\n",
      "2023-07-28 20:04:46.197834: W tensorflow/compiler/xla/stream_executor/platform/default/dso_loader.cc:64] Could not load dynamic library 'libnvinfer.so.7'; dlerror: libnvinfer.so.7: cannot open shared object file: No such file or directory\n",
      "2023-07-28 20:04:46.197880: W tensorflow/compiler/xla/stream_executor/platform/default/dso_loader.cc:64] Could not load dynamic library 'libnvinfer_plugin.so.7'; dlerror: libnvinfer_plugin.so.7: cannot open shared object file: No such file or directory\n",
      "2023-07-28 20:04:46.197885: W tensorflow/compiler/tf2tensorrt/utils/py_utils.cc:38] TF-TRT Warning: Cannot dlopen some TensorRT libraries. If you would like to use Nvidia GPU with TensorRT, please make sure the missing libraries mentioned above are installed properly.\n",
      "/home/ubuntu/.local/lib/python3.8/site-packages/tensorflow_addons/utils/ensure_tf_install.py:53: UserWarning: Tensorflow Addons supports using Python ops for all Tensorflow versions above or equal to 2.4.0 and strictly below 2.7.0 (nightly versions are not supported). \n",
      " The versions of TensorFlow you are currently using is 2.11.0 and is not supported. \n",
      "Some things might work, some things might not.\n",
      "If you were to encounter a bug, do not file an issue.\n",
      "If you want to make sure you're using a tested and supported configuration, either change the TensorFlow version or the TensorFlow Addons's version. \n",
      "You can find the compatibility matrix in TensorFlow Addon's readme:\n",
      "https://github.com/tensorflow/addons\n",
      "  warnings.warn(\n",
      "/home/ubuntu/.local/lib/python3.8/site-packages/tensorflow_addons/utils/resource_loader.py:78: UserWarning: You are currently using TensorFlow 2.11.0 and trying to load a custom op (custom_ops/seq2seq/_beam_search_ops.so).\n",
      "TensorFlow Addons has compiled its custom ops against TensorFlow 2.6.0, and there are no compatibility guarantees between the two versions. \n",
      "This means that you might get segfaults when loading the custom op, or other kind of low-level errors.\n",
      " If you do, do not file an issue on Github. This is a known limitation.\n",
      "\n",
      "It might help you to fallback to pure Python ops by setting environment variable `TF_ADDONS_PY_OPS=1` or using `tfa.options.disable_custom_kernel()` in your code. To do that, see https://github.com/tensorflow/addons#gpucpu-custom-ops \n",
      "\n",
      "You can also change the TensorFlow version installed on your system. You would need a TensorFlow version equal to or above 2.6.0 and strictly below 2.7.0.\n",
      " Note that nightly versions of TensorFlow, as well as non-pip TensorFlow like `conda install tensorflow` or compiled from source are not supported.\n",
      "\n",
      "The last solution is to find the TensorFlow Addons version that has custom ops compatible with the TensorFlow installed on your system. To do that, refer to the readme: https://github.com/tensorflow/addons\n",
      "  warnings.warn(\n",
      "Cannot import beam_search_ops from Tensorflow Addons, ['malaya.jawi_rumi.deep_model', 'malaya.phoneme.deep_model', 'malaya.rumi_jawi.deep_model', 'malaya.stem.deep_model'] will not available to use, make sure Tensorflow Addons version >= 0.12.0\n",
      "check compatible Tensorflow version with Tensorflow Addons at https://github.com/tensorflow/addons/releases\n"
     ]
    }
   ],
   "source": [
    "import json\n",
    "import random\n",
    "import malaya"
   ]
  },
  {
   "cell_type": "code",
   "execution_count": 2,
   "metadata": {},
   "outputs": [],
   "source": [
    "# !pip3 uninstall malaya -y\n",
    "# !pip3 install git+https://github.com/huseinzol05/malaya@5.1 --no-deps"
   ]
  },
  {
   "cell_type": "code",
   "execution_count": 3,
   "metadata": {},
   "outputs": [
    {
     "name": "stderr",
     "output_type": "stream",
     "text": [
      "Warning : `load_model` does not return WordVectorModel or SupervisedModel any more, but a `FastText` object which is very similar.\n"
     ]
    }
   ],
   "source": [
    "language_detection = malaya.language_detection.fasttext(model = 'mesolitica/fasttext-language-detection-ms-id')"
   ]
  },
  {
   "cell_type": "code",
   "execution_count": 4,
   "metadata": {},
   "outputs": [],
   "source": [
    "template_malaya = {\n",
    "    'description': 'Template used by Malaya.',\n",
    "    'prompt_input': 'Di bawah ialah arahan yang menerangkan tugasan, termasuk dengan input yang menyediakan konteks lanjut. Tulis jawapan yang sesuai dengan arahan tersebut.\\n\\n### Arahan:\\n{instruction}\\n\\n### Input:\\n{input}\\n\\n### Jawapan:\\n',\n",
    "    'prompt_no_input': 'Di bawah ialah arahan yang menerangkan tugasan. Tulis jawapan yang sesuai dengan arahan tersebut.\\n\\n### Arahan:\\n{instruction}\\n\\n### Jawapan:\\n',\n",
    "    'response_split': '### Jawapan:',\n",
    "}"
   ]
  },
  {
   "cell_type": "code",
   "execution_count": 6,
   "metadata": {},
   "outputs": [
    {
     "data": {
      "text/plain": [
       "['standard-malay']"
      ]
     },
     "execution_count": 6,
     "metadata": {},
     "output_type": "execute_result"
    }
   ],
   "source": [
    "language_detection.predict(['helo'])"
   ]
  },
  {
   "cell_type": "code",
   "execution_count": 7,
   "metadata": {
    "scrolled": true
   },
   "outputs": [
    {
     "name": "stderr",
     "output_type": "stream",
     "text": [
      "You are using the legacy behaviour of the <class 'transformers.models.t5.tokenization_t5.T5Tokenizer'>. This means that tokens that come after special tokens will not be properly handled. We recommend you to read the related pull request available at https://github.com/huggingface/transformers/pull/24565\n"
     ]
    }
   ],
   "source": [
    "model = malaya.augmentation.abstractive.huggingface(model = 'mesolitica/translation-t5-small-standard-bahasa-cased')"
   ]
  },
  {
   "cell_type": "code",
   "execution_count": 8,
   "metadata": {},
   "outputs": [],
   "source": [
    "_ = model.cuda()"
   ]
  },
  {
   "cell_type": "code",
   "execution_count": 9,
   "metadata": {},
   "outputs": [
    {
     "data": {
      "text/plain": [
       "['cam mana nak kurus tanpa pergi gym',\n",
       " 'macam mana nak kurus tanpa pergi gym',\n",
       " 'mcm mana nak kurus tanpa pergi gym',\n",
       " 'Macam mana aku nak kurus tanpa pergi gym?',\n",
       " 'macam mana nak kurus tanpa pergi gym ni']"
      ]
     },
     "execution_count": 9,
     "metadata": {},
     "output_type": "execute_result"
    }
   ],
   "source": [
    "def generate_noisy(text):\n",
    "    g = model.generate([text],to_lang = 'pasar ms',\n",
    "              max_length = 512, do_sample=True, top_k=100, top_p=0.95, temperature=0.7,\n",
    "              num_return_sequences=5)\n",
    "    result = []\n",
    "    for g_ in g:\n",
    "        splitted = g_.split()\n",
    "        splitted = [s for s in splitted if s[0] !='@']\n",
    "        s = ' '.join(splitted)\n",
    "        if len(s):\n",
    "            result.append(s)\n",
    "    return result\n",
    "\n",
    "generate_noisy('bagaimana saya boleh kurangkan berat badan tanpa pergi ke gim?')"
   ]
  },
  {
   "cell_type": "code",
   "execution_count": 16,
   "metadata": {},
   "outputs": [
    {
     "name": "stderr",
     "output_type": "stream",
     "text": [
      "57908it [1:12:32,  7.54it/s]IOPub message rate exceeded.\n",
      "The notebook server will temporarily stop sending output\n",
      "to the client in order to avoid crashing it.\n",
      "To change this limit, set the config variable\n",
      "`--NotebookApp.iopub_msg_rate_limit`.\n",
      "\n",
      "Current values:\n",
      "NotebookApp.iopub_msg_rate_limit=1000.0 (msgs/sec)\n",
      "NotebookApp.rate_limit_window=3.0 (secs)\n",
      "\n",
      "254968it [4:33:50, 43.70it/s]  IOPub message rate exceeded.\n",
      "The notebook server will temporarily stop sending output\n",
      "to the client in order to avoid crashing it.\n",
      "To change this limit, set the config variable\n",
      "`--NotebookApp.iopub_msg_rate_limit`.\n",
      "\n",
      "Current values:\n",
      "NotebookApp.iopub_msg_rate_limit=1000.0 (msgs/sec)\n",
      "NotebookApp.rate_limit_window=3.0 (secs)\n",
      "\n",
      "388519it [7:09:18, 12.79it/s] IOPub message rate exceeded.\n",
      "The notebook server will temporarily stop sending output\n",
      "to the client in order to avoid crashing it.\n",
      "To change this limit, set the config variable\n",
      "`--NotebookApp.iopub_msg_rate_limit`.\n",
      "\n",
      "Current values:\n",
      "NotebookApp.iopub_msg_rate_limit=1000.0 (msgs/sec)\n",
      "NotebookApp.rate_limit_window=3.0 (secs)\n",
      "\n"
     ]
    }
   ],
   "source": [
    "from tqdm import tqdm\n",
    "\n",
    "data = []\n",
    "with open('/home/ubuntu/server2/ssd3/gpt4all-1.3/translated-gpt4all-filtered-noncode.jsonl') as fopen:\n",
    "    for l in tqdm(fopen):\n",
    "        l = json.loads(l)\n",
    "        try:\n",
    "            a = l['r'][-1]['result']\n",
    "            \n",
    "            if language_detection.predict([a])[0] != 'standard-malay':\n",
    "                continue\n",
    "            \n",
    "            ori_q = l['src']['prompt']\n",
    "            \n",
    "            if random.random() > 0.7:\n",
    "                q = ori_q\n",
    "            else:\n",
    "                q = l['r'][0]['result']\n",
    "                if language_detection.predict([q])[0] != 'standard-malay':\n",
    "                    continue\n",
    "                if random.random() > 0.5 and '|' not in ori_q and len(q.split()) < 20:\n",
    "                    g = generate_noisy(q)\n",
    "                    q = random.choice(g)\n",
    "            \n",
    "            o = {\n",
    "                'prompt_input': None,\n",
    "                'input': q,\n",
    "                'output': a,\n",
    "            }\n",
    "            data.append(o)\n",
    "            \n",
    "        except Exception as e:\n",
    "            pass"
   ]
  },
  {
   "cell_type": "code",
   "execution_count": 17,
   "metadata": {},
   "outputs": [],
   "source": [
    "with open('prepared-gpt4all-v1.3-noisy.jsonl', 'w') as fopen:\n",
    "    for l in data:\n",
    "        fopen.write(f'{json.dumps(l)}\\n')"
   ]
  },
  {
   "cell_type": "code",
   "execution_count": 19,
   "metadata": {},
   "outputs": [
    {
     "name": "stdout",
     "output_type": "stream",
     "text": [
      "{\"prompt_input\": null, \"input\": \"Baca ini dan balas berdasarkan arahan saya.\\n* Bandar Chongqing Lifan ialah Chongqing.\\n* Stadium rumah Chongqing Lifan ialah Pusat Sukan Olimpik Chongqing.\\n* Kehadiran Pusat Sukan Olimpik Chongqing ialah 11,433 orang.\\n* Kapasiti Pusat Sukan Olimpik Chongqing ialah 58,680.\", \"output\": \"Bandar Chongqing Lifan ialah Chongqing, dan stadium rumah mereka ialah Pusat Sukan Olimpik Chongqing, yang mempunyai kapasiti 58,680. Bagaimanapun, kehadiran untuk satu acara baru-baru ini di stadium hanya 11,433, menunjukkan bahawa ia tidak dipenuhi sehingga kapasiti.\"}\r\n",
      "{\"prompt_input\": null, \"input\": \"Baca ini dan balas berdasarkan arahan saya.\\n* Blog Chris Colfer ialah chriscolfer.\\n* Watak Chris Colfer ialah Kurt Hummel.\\n* Watak Chris Colfer ialah Ryan Kendall.\\n* Filem Chris Colfer ialah 8.\\n* Filem Chris Colfer ialah Glee Encore.\\n* Filem Chris Colfer ialah Glee: The 3D Concert Movie.\\n* Filem Chris Colfer ialah Russel Fish: The Sausage and Eggs Incident.\\n* Filem Chris Colfer Disambar Petir.\\n* Filem Chris Colfer Disambar Petir.\\n* Eksekutif filem Chris Colfer yang dihasilkan ialah Struck by Lightning.\\n* Jantina Chris Colfer ialah Lelaki.\\n* Institusi Chris Colfer ialah Sekolah Menengah Clovis East.\\n* Kewarganegaraan Chris Colfer ialah Amerika Syarikat.\\n* Chris Colfer yang dicalonkan untuk ialah chriscolfer.\\n* Profesion Chris Colfer ialah Pelakon.\\n* Profesion Chris Colfer ialah Pengarang.\\n* Profesion Chris Colfer ialah Penerbit Filem.\\n* Profesion Chris Colfer ialah Penulis Skrin.\\n* Profesion Chris Colfer ialah Penyanyi.\\n* Filem Melissa Johnson ialah Russel Fish: The Sausage and Eggs Incident.\\n* Jantina Melissa Johnson ialah Perempuan.\\n* Profesion Melissa Johnson ialah Penerbit Filem.\\n* Profesion Melissa Johnson ialah pengarah Filem.\\n* Profesion Melissa Johnson ialah Penulis Skrin.\\n* Russel Fish: The Sausage and Eggs Incident Pelakon ialah Chris Colfer.\\n* Sinematografi Russel Fish: The Sausage and Eggs Incident ialah Brett Juskalian.\\n* Ikan Russel: Negara Insiden Sosej dan Telur ialah Amerika Syarikat.\\n* Russel Fish: The Sausage and Eggs Incident 's diarahkan oleh Terence Heuston.\\n* Russel Fish: The Sausage and Eggs Incident 's eksekutif yang dihasilkan oleh Eric Almquist.\\n* Ikan Russel: The Sosej dan Insiden Telur bergenre Komedi.\\n* Ikan Russel: Genre Insiden Sosej dan Telur ialah Meningkat usia.\\n* Russel Fish: The Sosej and Eggs Incident's genre ialah Filem Pendek.\\n* Russel Fish: The Sausage and Eggs Incident Tarikh keluaran awal ialah 2009.\\n* Ikan Russel: Bahasa Insiden Sosej dan Telur ialah Bahasa Inggeris.\\n* Ikan Russel: Jenis terkenal Insiden Sosej dan Telur ialah Filem.\\n* Ikan Russel: Insiden Sosej dan Telur yang dihasilkan oleh Melissa Johnson.\\n* Ikan Russel: The Sosej dan Insiden Telur ditulis oleh Terence Heuston.\\nFilem apakah yang diterbitkan oleh Melissa Johnson, Chris Colfer?\", \"output\": \"Chris Colfer berada dalam Russel Fish: The Sausage and Eggs Incident, yang dihasilkan oleh Melissa Johnson.\"}\r\n",
      "{\"prompt_input\": null, \"input\": \"Baca ini dan balas berdasarkan arahan saya.\\n* Operasi udara Paksi dan Soviet semasa Operasi Barbarossa termasuk dalam acara ialah Front Timur.\\n* Serangan Baltik termasuk dalam acara adalah Perang Dunia II.\\n* Entiti Operasi Baltik yang terlibat ialah Jerman.\\n* Pertempuran untuk Narva Bridgehead termasuk dalam acara ialah Perang Dunia II.\\n* Entiti Pertempuran Auvere yang terlibat ialah Kesatuan Soviet.\\n* Entiti Pertempuran Belgorod yang terlibat ialah Nazi Jerman.\\n* Lokasi Pertempuran Halbe adalah Nazi Jerman.\\n* Pertempuran Krasny Bor termasuk dalam acara adalah Perang Dunia II.\\n* Pertempuran Entiti Podu Iloaiei yang terlibat ialah Nazi Jerman.\\n* Tarikh mula Pertempuran Porkuni ialah 1944-09-21.\\n* Lokasi Battle of Salla adalah Finland.\\n* Entiti Battle of Slivice yang terlibat ialah Czechoslovakia.\\n* Pertempuran Entiti Tolvaj\\u00e4rvi yang terlibat ialah Kesatuan Soviet.\\n* Entiti Pertempuran Voronezh yang terlibat ialah Jerman.\\n* Jenis terkenal Pertempuran Semenanjung Kerch ialah Konflik Ketenteraan.\\n* Tarikh mula Perang Sambungan ialah 1941-06-25.\\n* Konvoi PQ 17 termasuk dalam acara ini ialah Battle of the Atlantic.\\n* Tarikh mula Pemberontakan Czortk\\u00f3w ialah 1940-01-21.\\n* Entiti Pertahanan Brest Fortress yang terlibat ialah Nazi Jerman.\\n* Lokasi Demyansk Pocket ialah Demyansk.\\n* Serangan Pomeranian Timur termasuk dalam acara ialah Front Timur.\\n* Barisan Timur termasuk acara Pertempuran Berlin.\\n* Estonia dalam Perang Dunia II entiti yang terlibat ialah Kesatuan Soviet.\\n* Eropah mengandungi Teufelsberg.\\n* Tarikh tamat Pertempuran Pertama T\\u00e2rgu Frumos ialah 1944-04-12.\\n* Peristiwa Jassy\\u2013Kishinev Serangan pertama termasuk Pertempuran Pertama T\\u00e2rgu Frumos.\\n* Komander tentera Perang Patriotik Hebat ialah Micha\\u0142 Rola-\\u017bymierski.\\n* Entiti Jassy\\u2013Kishinev Offensive yang terlibat ialah Kesatuan Soviet.\\n* Tarikh tamat Kholm Pocket ialah 1942-05-05.\\n* Serangan Leningrad\\u2013Novgorod termasuk dalam acara ialah Perang Patriotik Hebat.\\n* Entiti Lvov\\u2013Sandomierz Offensive yang terlibat ialah Kingdom of Hungary.\\n* Entiti Operasi Pendaratan Moonsund yang terlibat ialah Nazi Jerman.\\n* Nikita Khrushchev yang mengambil bahagian dalam konflik adalah Perang Dunia II.\\n* Entiti Operasi Bagration yang terlibat ialah Nazi Jerman.\\n* Lokasi Operasi Barbarossa adalah Kesatuan Soviet.\\n* Operasi Hannover termasuk dalam acara adalah Perang Dunia II.\\n* Jenis terkenal Operasi Iskra ialah Konflik Ketenteraan.\\n* Lokasi Operasi Kutuzov ialah Oryol.\\n* Operasi Platinum Fox yang disertakan dalam acara ialah Operasi Silver Fox.\\n* Operasi Polyarnaya Zvezda termasuk dalam acara ialah Perang Dunia II.\\n* Jenis terkenal Operasi Wotan ialah Konflik Ketenteraan.\\n* Operasi Wunderland termasuk dalam acara adalah Perang Dunia II.\\n* Serangan Orsha termasuk dalam acara ialah Barisan Timur.\\n* Lokasi Serangan Ostrogozhsk\\u2013Rossosh ialah Rossosh, Daerah Rossoshansky, Wilayah Voronezh.\\n* Entiti Riga Offensive yang terlibat ialah Kesatuan Soviet.\\n* Tentera Romania dalam Pertempuran Stalingrad termasuk dalam acara ialah Perang Dunia II.\\n* Tarikh mula pengepungan Breslau ialah 1945-02-13.\\n* Pengepungan entiti Sevastopol yang terlibat ialah Kerajaan Romania.\\n* Pemindahan Soviet ke atas Tallinn termasuk dalam acara itu ialah Perang Kesinambungan.\\n* Pendudukan Soviet di negara-negara Baltik tarikh mulanya ialah 1940-06-15.\\n* Taganrog semasa Perang Dunia II lokasi adalah Taganrog.\\n* Tarikh mula Toropets\\u2013Kholm Serangan ialah 1942-01-09.\\n* Peristiwa Perang Dunia II termasuk Pertempuran Petsamo.\\n* x6zj adalah dari 1964-10-14.\\n* x6zw ialah 1964-10-14.\\nSiapakah pemimpin Soviet semasa Perang Dunia II yang kekal dalam kerajaan sehingga 1964?\", \"output\": \"Pemimpin Soviet semasa Perang Dunia II yang kekal dalam kerajaan sehingga 1964 ialah Nikita Khrushchev.\"}\r\n",
      "{\"prompt_input\": null, \"input\": \"Baca ini dan balas berdasarkan arahan saya.\\n  0. 's assisted_tackles ialah 7.\\n  1. gabungan_tackles ialah 26.\\n  Tackle 2. ialah 19.\\n  Pasukan 3. ialah HOU.\\n  4. TABLECONTEXT tajuk ialah Jason Babin.\\n  5. TABLECONTEXT tahun ialah 2006.\", \"output\": \"Jason Babin mempunyai sejumlah 26 tekel gabungan pada tahun 2006, termasuk 7 tekel berbantu dan 19 tekel. Dia bermain untuk pasukan HOU pada musim itu.\"}\r\n",
      "{\"prompt_input\": null, \"input\": \"Baca ini dan balas berdasarkan arahan saya.\\n* Gabungan Institut Teknologi Acharya ialah Universiti Teknologi Visvesvaraya.\\n* Bandar Acharya Institute of Technology ialah Bangalore.\\n* Bilangan_pelajar_pascasiswazah Acharya Institute of Technology ialah 700.\", \"output\": \"Okay, saya telah membaca maklumat yang diberikan tentang Institut Teknologi Acharya. Berikut adalah jawapan saya:\\n\\n- Gabungan: Institut Teknologi Acharya bergabung dengan Universiti Teknologi Visvesvaraya.\\n- Bandar: Institut ini terletak di bandar Bangalore.\\n- Pelajar Pasca Siswazah: Institut Teknologi Acharya mempunyai 700 pelajar pascasiswazah.\"}\r\n"
     ]
    }
   ],
   "source": [
    "!head -n 5 prepared-gpt4all-v1.3-noisy.jsonl"
   ]
  },
  {
   "cell_type": "code",
   "execution_count": null,
   "metadata": {},
   "outputs": [],
   "source": []
  }
 ],
 "metadata": {
  "kernelspec": {
   "display_name": "Python 3 (ipykernel)",
   "language": "python",
   "name": "python3"
  },
  "language_info": {
   "codemirror_mode": {
    "name": "ipython",
    "version": 3
   },
   "file_extension": ".py",
   "mimetype": "text/x-python",
   "name": "python",
   "nbconvert_exporter": "python",
   "pygments_lexer": "ipython3",
   "version": "3.8.10"
  }
 },
 "nbformat": 4,
 "nbformat_minor": 4
}
