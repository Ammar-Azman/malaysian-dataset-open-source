{
 "cells": [
  {
   "cell_type": "code",
   "execution_count": 1,
   "id": "37d57854",
   "metadata": {},
   "outputs": [],
   "source": [
    "break_at = [\n",
    "    'help.openai.com',\n",
    "    'openai',\n",
    "    'cannot have personal opinions',\n",
    "    's an ai language model',\n",
    "    \"i'm sorry\",\n",
    "    'many factors',\n",
    "    'gay',\n",
    "    'lgbt',\n",
    "    'lesbian',\n",
    "    'gender-neutral',\n",
    "    'remain neutral',\n",
    "    'without bias',\n",
    "    'and neutral',\n",
    "    'more inclusive',\n",
    "    'neutrality',\n",
    "    'non-bias',\n",
    "    'discrimination',\n",
    "    'avoid any forms of discrimination',\n",
    "    'regardless of their gender',\n",
    "    'inclusive and tolerant environment',\n",
    "    'have personal views',\n",
    "    'sexual orientation should be a top priority',\n",
    "    's an objective ai',\n",
    "    'avoid any forms of prejudice or hate',\n",
    "    'regardless of their personal',\n",
    "    'you understand this direction',\n",
    "    'tolerant environment within ai',\n",
    "    'cannot express my',\n",
    "    'requires more context',\n",
    "    'personal opinion',\n",
    "    'have updated information',\n",
    "    \"don't have personal experiences\",\n",
    "    'there is no information',\n",
    "    'tidak mempunyai akses kepada data atau maklumat',\n",
    "    '10 april 2021',\n",
    "    'ebagai model bahasa AI'\n",
    "]"
   ]
  },
  {
   "cell_type": "code",
   "execution_count": 2,
   "id": "0b52177c",
   "metadata": {},
   "outputs": [],
   "source": [
    "import json\n",
    "import random"
   ]
  },
  {
   "cell_type": "code",
   "execution_count": 13,
   "id": "0e1e41b1",
   "metadata": {},
   "outputs": [],
   "source": [
    "data = []\n",
    "\n",
    "with open('/home/husein/ssd3/ctranslate2/function-call.translated.jsonl') as fopen:\n",
    "    for l in fopen:\n",
    "        l = json.loads(l)\n",
    "        texts = []\n",
    "        for no, d in enumerate(l['conversations']):\n",
    "            \n",
    "            if d['role'] == 'user':\n",
    "                t = '<manusia>: '\n",
    "                if random.random() > 0.5:\n",
    "                    c = 'content'\n",
    "                else:\n",
    "                    c = 'content_ms'\n",
    "            else:\n",
    "                if 'functioncall' in d['content']:\n",
    "                    c = 'content'\n",
    "                else:\n",
    "                    if 'functioncall' in l['conversations'][no - 1]['content']:\n",
    "                        continue\n",
    "                    c = 'content_ms'\n",
    "                t = '<bot>: '\n",
    "\n",
    "            if d[c] is None:\n",
    "                break\n",
    "            \n",
    "            if 'functioncall' in d[c]:\n",
    "                d[c] = d[c].split('FUNCTION RESPONSE:')[0].strip()\n",
    "\n",
    "            n = d[c]\n",
    "            n = n.strip()\n",
    "            if len(n) < 3:\n",
    "                break\n",
    "            t = t + n\n",
    "            texts.append(t)\n",
    "            \n",
    "        if not len(texts):\n",
    "            continue\n",
    "        while len(texts) and texts[-1].startswith('<manusia>'):\n",
    "            texts = texts[:-1]\n",
    "        if not len(texts):\n",
    "            continue\n",
    "        if not texts[0].startswith('<manusia>'):\n",
    "            continue\n",
    "        \n",
    "        data.append({\n",
    "            'prompt_input': None,\n",
    "            'input': '\\n'.join(texts),\n",
    "            'output': None,\n",
    "            'function_call': l['function_call'],\n",
    "        })"
   ]
  },
  {
   "cell_type": "code",
   "execution_count": 18,
   "id": "684aec3b",
   "metadata": {},
   "outputs": [],
   "source": [
    "def generate_and_tokenize_prompt(row):\n",
    "    texts = ['<s>']\n",
    "\n",
    "    if 'function_call' in row:\n",
    "        t = row['function_call']\n",
    "        texts.append(f'\\n[FUNCTIONCALL]\\n{t}\\n')\n",
    "\n",
    "    if '<bot>:' in row['input'] and row['output'] is None:\n",
    "        inputs, outputs = [], []\n",
    "        splitted = row['input'].split('<bot>:')\n",
    "        for i in range(len(splitted) - 1):\n",
    "            if i == 0:\n",
    "                human = splitted[i].replace('<manusia>:', '')\n",
    "            else:\n",
    "                try:\n",
    "                    human = splitted[i].split('<manusia>:')[1]\n",
    "                except:\n",
    "                    continue\n",
    "            bot = splitted[i + 1].split('<manusia>:')[0]\n",
    "            inputs.append(human.strip())\n",
    "            outputs.append(bot.strip())\n",
    "    else:\n",
    "        inputs = [row['input']]\n",
    "        outputs = [row['output']]\n",
    "\n",
    "    for u, a in zip(inputs, outputs):\n",
    "        texts.append(f'[INST] {u.strip()} [/INST] {a.strip()}</s> ')\n",
    "\n",
    "    prompt = ''.join(texts)\n",
    "    return {'text': prompt}"
   ]
  },
  {
   "cell_type": "code",
   "execution_count": 19,
   "id": "e3200445",
   "metadata": {},
   "outputs": [
    {
     "name": "stdout",
     "output_type": "stream",
     "text": [
      "<s>\n",
      "[FUNCTIONCALL]\n",
      "{\n",
      "    \"name\": \"calculate_loan_interest\",\n",
      "    \"description\": \"Calculate the interest on a loan\",\n",
      "    \"parameters\": {\n",
      "        \"type\": \"object\",\n",
      "        \"properties\": {\n",
      "            \"principal\": {\n",
      "                \"type\": \"number\",\n",
      "                \"description\": \"The principal amount of the loan\"\n",
      "            },\n",
      "            \"interest_rate\": {\n",
      "                \"type\": \"number\",\n",
      "                \"description\": \"The annual interest rate\"\n",
      "            },\n",
      "            \"duration\": {\n",
      "                \"type\": \"integer\",\n",
      "                \"description\": \"The duration of the loan in months\"\n",
      "            }\n",
      "        },\n",
      "        \"required\": [\n",
      "            \"principal\",\n",
      "            \"interest_rate\",\n",
      "            \"duration\"\n",
      "        ]\n",
      "    }\n",
      "}\n",
      "[INST] Bolehkah anda membantu saya mengira faedah pinjaman? [/INST] Pasti! Saya boleh membantu anda dengan itu. Sila berikan saya maklumat yang diperlukan.</s> [INST] The principal amount is $5000, the annual interest rate is 5%, and the duration is 36 months. [/INST] <functioncall> {\"name\":\"calculate_loan_interest\", \"arguments\": {\"principal\": 5000, \"interest_rate\": 5, \"duration\": 36}}</s> [INST] Terima kasih atas maklumat! [/INST] Sama-sama! Jika anda mempunyai sebarang soalan lagi, sila tanya.</s> \n"
     ]
    }
   ],
   "source": [
    "print(generate_and_tokenize_prompt(data[-4])['text'])"
   ]
  },
  {
   "cell_type": "code",
   "execution_count": 41,
   "id": "d174dba4",
   "metadata": {},
   "outputs": [],
   "source": [
    "from tqdm import tqdm\n",
    "\n",
    "for d in data:\n",
    "    generate_and_tokenize_prompt(d)['text']"
   ]
  },
  {
   "cell_type": "code",
   "execution_count": 42,
   "id": "a4ba455c",
   "metadata": {},
   "outputs": [
    {
     "name": "stdout",
     "output_type": "stream",
     "text": [
      "<s>\n",
      "[FUNCTIONCALL]\n",
      "{\n",
      "    \"name\": \"calculate_median\",\n",
      "    \"description\": \"Calculate the median of a list of numbers\",\n",
      "    \"parameters\": {\n",
      "        \"type\": \"object\",\n",
      "        \"properties\": {\n",
      "            \"numbers\": {\n",
      "                \"type\": \"array\",\n",
      "                \"items\": {\n",
      "                    \"type\": \"number\"\n",
      "                },\n",
      "                \"description\": \"A list of numbers\"\n",
      "            }\n",
      "        },\n",
      "        \"required\": [\n",
      "            \"numbers\"\n",
      "        ]\n",
      "    }\n",
      "}\n",
      "[INST] Hi, I have a list of numbers and I need to find the median. Can you help me with that? [/INST]Tentu saja, saya boleh membantu anda dengan itu. Sila berikan saya senarai nombor.</s> [INST] Nombornya ialah 5, 2, 9, 1, 7, 4, 6, 3, 8. [/INST]<functioncall> {\"name\": \"calculate_median\", \"arguments\": '{\"numbers\": [5, 2, 9, 1, 7, 4, 6, 3, 8]}'} \n",
      "\n",
      "\n",
      "<functioncall> {\"median\": 5}</s> \n"
     ]
    }
   ],
   "source": [
    "print(generate_and_tokenize_prompt(data[4])['text'])"
   ]
  },
  {
   "cell_type": "code",
   "execution_count": 20,
   "id": "9c7c03d9",
   "metadata": {},
   "outputs": [
    {
     "name": "stdout",
     "output_type": "stream",
     "text": [
      "<s>\n",
      "[FUNCTIONCALL]\n",
      "{\n",
      "    \"name\": \"get_news_headlines\",\n",
      "    \"description\": \"Get the latest news headlines\",\n",
      "    \"parameters\": {\n",
      "        \"type\": \"object\",\n",
      "        \"properties\": {\n",
      "            \"country\": {\n",
      "                \"type\": \"string\",\n",
      "                \"description\": \"The country for which to fetch news\"\n",
      "            }\n",
      "        },\n",
      "        \"required\": [\n",
      "            \"country\"\n",
      "        ]\n",
      "    }\n",
      "}\n",
      "[INST] Can you tell me the latest news headlines for the United States? [/INST] <functioncall> {\"name\": \"get_news_headlines\", \"arguments\": '{\"country\": \"United States\"}'}</s> [INST] Itu menarik. Bagaimana dengan berita di Perancis? [/INST] <functioncall> {\"name\": \"get_news_headlines\", \"arguments\": '{\"country\": \"France\"}'}</s> \n"
     ]
    }
   ],
   "source": [
    "print(generate_and_tokenize_prompt(data[1])['text'])"
   ]
  },
  {
   "cell_type": "code",
   "execution_count": 21,
   "id": "ef8d8a23",
   "metadata": {},
   "outputs": [],
   "source": [
    "import json\n",
    "\n",
    "with open('prepared-glaive-function-call.jsonl', 'w') as fopen:\n",
    "    for l in data:\n",
    "        fopen.write(f'{json.dumps(l)}\\n')"
   ]
  }
 ],
 "metadata": {
  "kernelspec": {
   "display_name": "Python 3 (ipykernel)",
   "language": "python",
   "name": "python3"
  },
  "language_info": {
   "codemirror_mode": {
    "name": "ipython",
    "version": 3
   },
   "file_extension": ".py",
   "mimetype": "text/x-python",
   "name": "python",
   "nbconvert_exporter": "python",
   "pygments_lexer": "ipython3",
   "version": "3.8.10"
  }
 },
 "nbformat": 4,
 "nbformat_minor": 5
}
