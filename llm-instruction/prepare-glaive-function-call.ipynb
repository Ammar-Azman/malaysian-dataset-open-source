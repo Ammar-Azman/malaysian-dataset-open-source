{
 "cells": [
  {
   "cell_type": "code",
   "execution_count": 3,
   "id": "37d57854",
   "metadata": {},
   "outputs": [],
   "source": [
    "break_at = [\n",
    "    'help.openai.com',\n",
    "    'openai',\n",
    "    'cannot have personal opinions',\n",
    "    's an ai language model',\n",
    "    \"i'm sorry\",\n",
    "    'many factors',\n",
    "    'gay',\n",
    "    'lgbt',\n",
    "    'lesbian',\n",
    "    'gender-neutral',\n",
    "    'remain neutral',\n",
    "    'without bias',\n",
    "    'and neutral',\n",
    "    'more inclusive',\n",
    "    'neutrality',\n",
    "    'non-bias',\n",
    "    'discrimination',\n",
    "    'avoid any forms of discrimination',\n",
    "    'regardless of their gender',\n",
    "    'inclusive and tolerant environment',\n",
    "    'have personal views',\n",
    "    'sexual orientation should be a top priority',\n",
    "    's an objective ai',\n",
    "    'avoid any forms of prejudice or hate',\n",
    "    'regardless of their personal',\n",
    "    'you understand this direction',\n",
    "    'tolerant environment within ai',\n",
    "    'cannot express my',\n",
    "    'requires more context',\n",
    "    'personal opinion',\n",
    "    'have updated information',\n",
    "    \"don't have personal experiences\",\n",
    "    'there is no information',\n",
    "    'tidak mempunyai akses kepada data atau maklumat',\n",
    "    '10 april 2021',\n",
    "    'ebagai model bahasa AI'\n",
    "]"
   ]
  },
  {
   "cell_type": "code",
   "execution_count": 4,
   "id": "0b52177c",
   "metadata": {},
   "outputs": [],
   "source": [
    "import json\n",
    "import random"
   ]
  },
  {
   "cell_type": "code",
   "execution_count": 5,
   "id": "0e1e41b1",
   "metadata": {},
   "outputs": [],
   "source": [
    "data = []\n",
    "\n",
    "with open('/home/husein/ssd3/ctranslate2/function-call.translated.jsonl') as fopen:\n",
    "    for l in fopen:\n",
    "        l = json.loads(l)\n",
    "        texts = []\n",
    "        for no, d in enumerate(l['conversations']):\n",
    "            \n",
    "            if d['role'] == 'user':\n",
    "                t = '<manusia>: '\n",
    "                if random.random() > 0.5:\n",
    "                    c = 'content'\n",
    "                else:\n",
    "                    c = 'content_ms'\n",
    "            else:\n",
    "                if 'functioncall' in d['content']:\n",
    "                    c = 'content'\n",
    "                else:\n",
    "                    if 'functioncall' in l['conversations'][no - 1]['content']:\n",
    "                        continue\n",
    "                    c = 'content_ms'\n",
    "                t = '<bot>: '\n",
    "\n",
    "            if d[c] is None:\n",
    "                break\n",
    "            \n",
    "            if 'functioncall' in d[c]:\n",
    "                d[c] = d[c].replace('FUNCTION RESPONSE:', '<functioncall>')\n",
    "\n",
    "            n = d[c]\n",
    "            n = n.strip()\n",
    "            if len(n) < 3:\n",
    "                break\n",
    "            t = t + n\n",
    "            texts.append(t)\n",
    "            \n",
    "        if not len(texts):\n",
    "            continue\n",
    "        while len(texts) and texts[-1].startswith('<manusia>'):\n",
    "            texts = texts[:-1]\n",
    "        if not len(texts):\n",
    "            continue\n",
    "        if not texts[0].startswith('<manusia>'):\n",
    "            continue\n",
    "        \n",
    "        data.append({\n",
    "            'prompt_input': None,\n",
    "            'input': '\\n'.join(texts),\n",
    "            'output': None,\n",
    "            'function_call': l['function_call'],\n",
    "        })"
   ]
  },
  {
   "cell_type": "code",
   "execution_count": 40,
   "id": "684aec3b",
   "metadata": {},
   "outputs": [],
   "source": [
    "def generate_and_tokenize_prompt(row):\n",
    "    texts = ['<s>']\n",
    "\n",
    "    if 'function_call' in row:\n",
    "        t = row['function_call']\n",
    "        texts.append(f'\\n[FUNCTIONCALL]\\n{t}\\n')\n",
    "\n",
    "    if '<bot>:' in row['input'] and row['output'] is None:\n",
    "        inputs, outputs = [], []\n",
    "        splitted = row['input'].split('<bot>:')\n",
    "        for i in range(len(splitted) - 1):\n",
    "            if i == 0:\n",
    "                human = splitted[i].replace('<manusia>:', '')\n",
    "            else:\n",
    "                try:\n",
    "                    human = splitted[i].split('<manusia>:')[1]\n",
    "                except:\n",
    "                    continue\n",
    "            bot = splitted[i + 1].split('<manusia>:')[0]\n",
    "            inputs.append(human.strip())\n",
    "            outputs.append(bot.strip())\n",
    "    else:\n",
    "        inputs = [row['input']]\n",
    "        outputs = [row['output']]\n",
    "\n",
    "    for u, a in zip(inputs, outputs):\n",
    "        texts.append(f'[INST] {u.strip()} [/INST]{a.strip()}</s> ')\n",
    "\n",
    "    prompt = ''.join(texts)\n",
    "    return {'text': prompt}"
   ]
  },
  {
   "cell_type": "code",
   "execution_count": 58,
   "id": "07bde69d",
   "metadata": {},
   "outputs": [],
   "source": [
    "data = []\n",
    "with open('shuf-combine-alternate-no-alignment-malay-multitasks.jsonl') as fopen:\n",
    "    for l in fopen:\n",
    "        data.append(json.loads(l))\n",
    "        if len(data) == 20:\n",
    "            break"
   ]
  },
  {
   "cell_type": "code",
   "execution_count": 62,
   "id": "a98e4b64",
   "metadata": {},
   "outputs": [
    {
     "data": {
      "text/plain": [
       "{'prompt_input': None,\n",
       " 'input': '<manusia>: Can you describe the flora and fauna found on the highest point in Iowa?\\n<bot>: Titik tertinggi di Iowa ialah Hawkeye Point, yang terletak di Daerah Osceola. Kawasan sekitar Hawkeye Point adalah terutamanya tanah ladang, dan tidak banyak tumbuh-tumbuhan semula jadi atau hidupan liar di puncak itu sendiri. Walau bagaimanapun, Daerah Osceola dan kawasan sekitarnya adalah rumah kepada pelbagai jenis tumbuhan dan haiwan.\\n\\nTumbuhan yang biasa ditemui di kawasan itu termasuk tanaman seperti jagung dan kacang soya, serta rumput seperti bunga liar dan rumput padang rumput. Osceola County terkenal dengan tanah lembapnya, yang menyokong pelbagai tumbuhan akuatik seperti cattails, padi liar dan teratai air.\\n\\nFauna yang terdapat di kawasan itu adalah pelbagai dan termasuk pelbagai haiwan seperti rusa ekor putih, coyote, musang merah, rakun, skunk dan opossum. Daerah ini juga merupakan rumah kepada pelbagai spesies burung, termasuk helang botak, burung biru timur, wrens rumah dan dowitchers berbilkan panjang. Selain itu, ikan seperti ikan keli, bass dan walleye boleh ditemui di tasik dan sungai berdekatan.\\n<manusia>: Interesting! Do people ever go birdwatching or fishing in the area?\\n<bot>: Ya, orang ramai pergi memerhati burung dan memancing di kawasan sekitar Hawkeye Point. Osceola County terkenal dengan peluang untuk menonton burung, dan terdapat beberapa kawasan menonton burung yang ditetapkan di seluruh daerah. Malah, Iowa Birding Trail melalui daerah itu, dan Hawkeye Point adalah salah satu perhentian di laluan itu.\\n\\nMemancing juga popular di kawasan itu, dengan beberapa tasik dan sungai berdekatan. Beberapa tempat memancing yang popular di kawasan ini termasuk Mill Creek, West Fork River dan Waterman Creek. Badan air ini adalah rumah kepada pelbagai spesies ikan, termasuk bass, ikan keli dan walleye.\\n\\nSecara keseluruhan, kawasan sekitar Hawkeye Point menawarkan peluang untuk aktiviti luar dan melihat hidupan liar, menjadikannya destinasi popular untuk peminat alam semula jadi.\\n<manusia>: That sounds like a great place to hike and explore. Are there any hiking trails around Hawkeye Point?\\n<bot>: Walaupun tiada denai kembara yang ditetapkan di sekitar Hawkeye Point, terdapat beberapa peluang untuk mendaki di kawasan itu. Satu pilihan adalah untuk menerokai taman dan pemuliharaan alam semula jadi yang berdekatan, seperti Pemeliharaan Negeri Ocheyedan Mound dan Pemeliharaan Negeri Gitchie Manitou. Kedua-dua kawasan ini menawarkan laluan mendaki dan alam semula jadi melalui kawasan berhutan dan merentasi padang rumput terbuka.\\n\\nPilihan lain ialah mendaki di sepanjang laluan air berdekatan, seperti West Fork River atau Waterman Creek. Kawasan ini merupakan lokasi yang popular untuk memancing, tetapi kawasan ini juga menawarkan peluang untuk mendaki dan menerokai alam sekitar.\\n\\nSecara keseluruhannya, walaupun tidak banyak denai kembara yang ditetapkan di sekitar Hawkeye Point, masih terdapat banyak peluang untuk meneroka alam sekitar dan menikmati aktiviti luar.\\n<manusia>: Itu bagus untuk mengetahui! Saya suka dikelilingi oleh alam semula jadi, dan saya rasa saya pasti akan melihat taman-taman yang berdekatan. Adakah anda tahu jika terdapat tapak perkhemahan di kawasan tempat saya boleh bermalam?\\n<bot>: Ya, terdapat beberapa tapak perkhemahan di kawasan sekitar di mana anda boleh bermalam. Satu pilihan ialah Taman dan Perkhemahan Mill Creek, terletak kira-kira 30 batu di timur Hawkeye Point, yang menawarkan khemah dan perkhemahan RV, serta kabin untuk disewa. Tapak perkhemahan ini terletak di sepanjang tebing Mill Creek, dan pelawat boleh menikmati memancing, menaiki bot dan mendaki.\\n\\nPilihan lain ialah Gitchie Manitou State Preserve, yang menawarkan perkhemahan primitif di kawasan yang ditetapkan. Pengunjung boleh mendaki dan menerokai kawasan pemeliharaan pada siang hari dan kemudian mendirikan perkhemahan di salah satu tapak yang ditetapkan. Walau bagaimanapun, adalah penting untuk ambil perhatian bahawa tiada kemudahan seperti bilik mandi atau air di tapak perkhemahan ini.\\n\\nSebagai tambahan kepada pilihan ini, terdapat beberapa tapak perkhemahan dan taman RV lain yang terletak di seluruh Daerah Osceola dan kawasan sekitarnya. Jadi, sama ada anda lebih suka perkhemahan primitif atau tapak perkhemahan yang lebih maju, terdapat banyak pilihan yang tersedia untuk malam di bawah bintang.',\n",
       " 'output': None}"
      ]
     },
     "execution_count": 62,
     "metadata": {},
     "output_type": "execute_result"
    }
   ],
   "source": [
    "data[-4]"
   ]
  },
  {
   "cell_type": "code",
   "execution_count": 63,
   "id": "e3200445",
   "metadata": {},
   "outputs": [
    {
     "data": {
      "text/plain": [
       "{'text': '<s>[INST] Can you describe the flora and fauna found on the highest point in Iowa? [/INST]Titik tertinggi di Iowa ialah Hawkeye Point, yang terletak di Daerah Osceola. Kawasan sekitar Hawkeye Point adalah terutamanya tanah ladang, dan tidak banyak tumbuh-tumbuhan semula jadi atau hidupan liar di puncak itu sendiri. Walau bagaimanapun, Daerah Osceola dan kawasan sekitarnya adalah rumah kepada pelbagai jenis tumbuhan dan haiwan.\\n\\nTumbuhan yang biasa ditemui di kawasan itu termasuk tanaman seperti jagung dan kacang soya, serta rumput seperti bunga liar dan rumput padang rumput. Osceola County terkenal dengan tanah lembapnya, yang menyokong pelbagai tumbuhan akuatik seperti cattails, padi liar dan teratai air.\\n\\nFauna yang terdapat di kawasan itu adalah pelbagai dan termasuk pelbagai haiwan seperti rusa ekor putih, coyote, musang merah, rakun, skunk dan opossum. Daerah ini juga merupakan rumah kepada pelbagai spesies burung, termasuk helang botak, burung biru timur, wrens rumah dan dowitchers berbilkan panjang. Selain itu, ikan seperti ikan keli, bass dan walleye boleh ditemui di tasik dan sungai berdekatan.</s> [INST] Interesting! Do people ever go birdwatching or fishing in the area? [/INST]Ya, orang ramai pergi memerhati burung dan memancing di kawasan sekitar Hawkeye Point. Osceola County terkenal dengan peluang untuk menonton burung, dan terdapat beberapa kawasan menonton burung yang ditetapkan di seluruh daerah. Malah, Iowa Birding Trail melalui daerah itu, dan Hawkeye Point adalah salah satu perhentian di laluan itu.\\n\\nMemancing juga popular di kawasan itu, dengan beberapa tasik dan sungai berdekatan. Beberapa tempat memancing yang popular di kawasan ini termasuk Mill Creek, West Fork River dan Waterman Creek. Badan air ini adalah rumah kepada pelbagai spesies ikan, termasuk bass, ikan keli dan walleye.\\n\\nSecara keseluruhan, kawasan sekitar Hawkeye Point menawarkan peluang untuk aktiviti luar dan melihat hidupan liar, menjadikannya destinasi popular untuk peminat alam semula jadi.</s> [INST] That sounds like a great place to hike and explore. Are there any hiking trails around Hawkeye Point? [/INST]Walaupun tiada denai kembara yang ditetapkan di sekitar Hawkeye Point, terdapat beberapa peluang untuk mendaki di kawasan itu. Satu pilihan adalah untuk menerokai taman dan pemuliharaan alam semula jadi yang berdekatan, seperti Pemeliharaan Negeri Ocheyedan Mound dan Pemeliharaan Negeri Gitchie Manitou. Kedua-dua kawasan ini menawarkan laluan mendaki dan alam semula jadi melalui kawasan berhutan dan merentasi padang rumput terbuka.\\n\\nPilihan lain ialah mendaki di sepanjang laluan air berdekatan, seperti West Fork River atau Waterman Creek. Kawasan ini merupakan lokasi yang popular untuk memancing, tetapi kawasan ini juga menawarkan peluang untuk mendaki dan menerokai alam sekitar.\\n\\nSecara keseluruhannya, walaupun tidak banyak denai kembara yang ditetapkan di sekitar Hawkeye Point, masih terdapat banyak peluang untuk meneroka alam sekitar dan menikmati aktiviti luar.</s> [INST] Itu bagus untuk mengetahui! Saya suka dikelilingi oleh alam semula jadi, dan saya rasa saya pasti akan melihat taman-taman yang berdekatan. Adakah anda tahu jika terdapat tapak perkhemahan di kawasan tempat saya boleh bermalam? [/INST]Ya, terdapat beberapa tapak perkhemahan di kawasan sekitar di mana anda boleh bermalam. Satu pilihan ialah Taman dan Perkhemahan Mill Creek, terletak kira-kira 30 batu di timur Hawkeye Point, yang menawarkan khemah dan perkhemahan RV, serta kabin untuk disewa. Tapak perkhemahan ini terletak di sepanjang tebing Mill Creek, dan pelawat boleh menikmati memancing, menaiki bot dan mendaki.\\n\\nPilihan lain ialah Gitchie Manitou State Preserve, yang menawarkan perkhemahan primitif di kawasan yang ditetapkan. Pengunjung boleh mendaki dan menerokai kawasan pemeliharaan pada siang hari dan kemudian mendirikan perkhemahan di salah satu tapak yang ditetapkan. Walau bagaimanapun, adalah penting untuk ambil perhatian bahawa tiada kemudahan seperti bilik mandi atau air di tapak perkhemahan ini.\\n\\nSebagai tambahan kepada pilihan ini, terdapat beberapa tapak perkhemahan dan taman RV lain yang terletak di seluruh Daerah Osceola dan kawasan sekitarnya. Jadi, sama ada anda lebih suka perkhemahan primitif atau tapak perkhemahan yang lebih maju, terdapat banyak pilihan yang tersedia untuk malam di bawah bintang.</s> '}"
      ]
     },
     "execution_count": 63,
     "metadata": {},
     "output_type": "execute_result"
    }
   ],
   "source": [
    "generate_and_tokenize_prompt(data[-4])"
   ]
  },
  {
   "cell_type": "code",
   "execution_count": 41,
   "id": "d174dba4",
   "metadata": {},
   "outputs": [],
   "source": [
    "from tqdm import tqdm\n",
    "\n",
    "for d in data:\n",
    "    generate_and_tokenize_prompt(d)['text']"
   ]
  },
  {
   "cell_type": "code",
   "execution_count": 42,
   "id": "a4ba455c",
   "metadata": {},
   "outputs": [
    {
     "name": "stdout",
     "output_type": "stream",
     "text": [
      "<s>\n",
      "[FUNCTIONCALL]\n",
      "{\n",
      "    \"name\": \"calculate_median\",\n",
      "    \"description\": \"Calculate the median of a list of numbers\",\n",
      "    \"parameters\": {\n",
      "        \"type\": \"object\",\n",
      "        \"properties\": {\n",
      "            \"numbers\": {\n",
      "                \"type\": \"array\",\n",
      "                \"items\": {\n",
      "                    \"type\": \"number\"\n",
      "                },\n",
      "                \"description\": \"A list of numbers\"\n",
      "            }\n",
      "        },\n",
      "        \"required\": [\n",
      "            \"numbers\"\n",
      "        ]\n",
      "    }\n",
      "}\n",
      "[INST] Hi, I have a list of numbers and I need to find the median. Can you help me with that? [/INST]Tentu saja, saya boleh membantu anda dengan itu. Sila berikan saya senarai nombor.</s> [INST] Nombornya ialah 5, 2, 9, 1, 7, 4, 6, 3, 8. [/INST]<functioncall> {\"name\": \"calculate_median\", \"arguments\": '{\"numbers\": [5, 2, 9, 1, 7, 4, 6, 3, 8]}'} \n",
      "\n",
      "\n",
      "<functioncall> {\"median\": 5}</s> \n"
     ]
    }
   ],
   "source": [
    "print(generate_and_tokenize_prompt(data[4])['text'])"
   ]
  },
  {
   "cell_type": "code",
   "execution_count": 27,
   "id": "ce7067ec",
   "metadata": {},
   "outputs": [
    {
     "data": {
      "text/plain": [
       "['<manusia>: Hai, saya perlu mengira bayaran pinjaman bulanan saya. Saya mempunyai pinjaman sebanyak $50000 dengan kadar faedah tahunan sebanyak 5% dan tempoh pinjaman selama 10 tahun. Bolehkah anda membantu saya dengan itu?\\n',\n",
       " ' Tentu saja, saya boleh membantu anda dengan itu. Biar saya mengira untuk anda.\\n',\n",
       " ' <functioncall> {\"name\": \"calculate_loan_payment\", \"arguments\": \\'{\"principal\": 50000, \"interest_rate\": 5, \"loan_term\": 10}\\'} \\n\\n\\n<functioncall> {\"monthly_payment\": \"$530.33\"}\\n<manusia>: That\\'s great! Can you also help me book a flight to New York next week?\\n',\n",
       " ' Saya minta maaf, tetapi sebagai AI, saya tidak mempunyai keupayaan untuk menempah penerbangan atau melakukan tugas luar. Fungsi saya sekarang adalah untuk mengira pembayaran pinjaman. Saya mengesyorkan menggunakan tapak web atau aplikasi tempahan perjalanan untuk keperluan tempahan penerbangan anda.']"
      ]
     },
     "execution_count": 27,
     "metadata": {},
     "output_type": "execute_result"
    }
   ],
   "source": [
    "splitted = d['input'].split('<bot>:')\n",
    "splitted"
   ]
  },
  {
   "cell_type": "code",
   "execution_count": 16,
   "id": "9c7c03d9",
   "metadata": {},
   "outputs": [
    {
     "name": "stdout",
     "output_type": "stream",
     "text": [
      "<s>\n",
      "[FUNCTIONCALL] {\n",
      "    \"name\": \"get_news_headlines\",\n",
      "    \"description\": \"Get the latest news headlines\",\n",
      "    \"parameters\": {\n",
      "        \"type\": \"object\",\n",
      "        \"properties\": {\n",
      "            \"country\": {\n",
      "                \"type\": \"string\",\n",
      "                \"description\": \"The country for which to fetch news\"\n",
      "            }\n",
      "        },\n",
      "        \"required\": [\n",
      "            \"country\"\n",
      "        ]\n",
      "    }\n",
      "} [INST] Bolehkah anda memberitahu saya tajuk berita terkini untuk Amerika Syarikat? [/INST]<functioncall> {\"name\": \"get_news_headlines\", \"arguments\": '{\"country\": \"United States\"}'} \n",
      "\n",
      "\n",
      "<functioncall> {\"headlines\": [\"Biden announces new vaccine mandates\", \"Hurricane Ida devastates Louisiana\", \"Apple unveils new iPhone\", \"NASA's Perseverance rover collects first Mars rock sample\"]}</s> [INST] Itu menarik. Bagaimana dengan berita di Perancis? [/INST]<functioncall> {\"name\": \"get_news_headlines\", \"arguments\": '{\"country\": \"France\"}'} \n",
      "\n",
      "\n",
      "<functioncall> {\"headlines\": [\"France recalls ambassadors to US and Australia\", \"French election: Macron's party braces for tough fight\", \"Louvre Museum to undergo major overhaul\", \"France to offer free birth control to all women under 25\"]}</s> \n"
     ]
    }
   ],
   "source": [
    "print(generate_and_tokenize_prompt(data[1])['text'])"
   ]
  },
  {
   "cell_type": "code",
   "execution_count": 67,
   "id": "ef8d8a23",
   "metadata": {},
   "outputs": [],
   "source": [
    "import json\n",
    "\n",
    "with open('prepared-glaive-function-call.jsonl', 'w') as fopen:\n",
    "    for l in data:\n",
    "        fopen.write(f'{json.dumps(l)}\\n')"
   ]
  }
 ],
 "metadata": {
  "kernelspec": {
   "display_name": "Python 3 (ipykernel)",
   "language": "python",
   "name": "python3"
  },
  "language_info": {
   "codemirror_mode": {
    "name": "ipython",
    "version": 3
   },
   "file_extension": ".py",
   "mimetype": "text/x-python",
   "name": "python",
   "nbconvert_exporter": "python",
   "pygments_lexer": "ipython3",
   "version": "3.8.10"
  }
 },
 "nbformat": 4,
 "nbformat_minor": 5
}
