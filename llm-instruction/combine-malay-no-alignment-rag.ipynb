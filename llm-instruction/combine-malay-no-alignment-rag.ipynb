{
 "cells": [
  {
   "cell_type": "code",
   "execution_count": 1,
   "id": "4504ab68",
   "metadata": {},
   "outputs": [],
   "source": [
    "from glob import glob\n",
    "import json\n",
    "import random\n",
    "from tqdm import tqdm"
   ]
  },
  {
   "cell_type": "code",
   "execution_count": 2,
   "id": "83e6c13b",
   "metadata": {},
   "outputs": [],
   "source": [
    "fopen_l = open('combine-malay-no-alignment-rag.jsonl', 'w')"
   ]
  },
  {
   "cell_type": "code",
   "execution_count": 3,
   "id": "0e512372",
   "metadata": {},
   "outputs": [],
   "source": [
    "rejected = [\n",
    "    'help.openai.com',\n",
    "    'openassistant'\n",
    "]\n",
    "\n",
    "break_at = [\n",
    "    'help.openai.com',\n",
    "    'openai',\n",
    "    'cannot have personal opinions',\n",
    "    's an ai language model',\n",
    "    \"i'm sorry\",\n",
    "    'many factors',\n",
    "    'lgbt',\n",
    "    'lesbian',\n",
    "    'gender-neutral',\n",
    "    'remain neutral',\n",
    "    'without bias',\n",
    "    'and neutral',\n",
    "    'more inclusive',\n",
    "    'neutrality',\n",
    "    'non-bias',\n",
    "    'discrimination',\n",
    "    'avoid any forms of discrimination',\n",
    "    'regardless of their gender',\n",
    "    'inclusive and tolerant environment',\n",
    "    'have personal views',\n",
    "    'sexual orientation should be a top priority',\n",
    "    's an objective ai',\n",
    "    'avoid any forms of prejudice or hate',\n",
    "    'regardless of their personal',\n",
    "    'you understand this direction',\n",
    "    'tolerant environment within ai',\n",
    "    'cannot express my',\n",
    "    'requires more context',\n",
    "    'personal opinion',\n",
    "    'have updated information',\n",
    "    \"don't have personal experiences\",\n",
    "    'there is no information',\n",
    "    'tidak mempunyai akses kepada data atau maklumat',\n",
    "    '10 april 2021',\n",
    "    'ebagai model bahasa AI',\n",
    "    'model bahasa AI',\n",
    "    'mempunyai kepercayaan atau pendapat peribadi',\n",
    "    'tidak mempunyai pendapat peribadi',\n",
    "    'tidak mempunyai kepercayaan',\n",
    "    'tidak mempunyai falsafah peribadi',\n",
    "    'tidak mempunyai pengalaman peribadi',\n",
    "    'tidak mempunyai pendapat atau pengalaman peribadi',\n",
    "    'tidak mempunyai maklumat terkini',\n",
    "    'tidak mempunyai emosi peribadi',\n",
    "    'tidak mempunyai keutamaan',\n",
    "    'saya tidak mempunyai akses',\n",
    "    'tidak mempunyai pengalaman',\n",
    "    'saya tidak mempunyai keupayaan',\n",
    "    'tidak mempunyai keupayaan',\n",
    "    'tidak mempunyai hubungan',\n",
    "    'tidak mempunyai maklumat',\n",
    "    'Saya tidak mempunyai',\n",
    "    'Saya tidak pernah',\n",
    "    'saya tidak dapat memahami jawapan'\n",
    "]\n",
    "\n",
    "def accept(d, min_len = 10):\n",
    "    if 'terjemahkan teks' in d.lower():\n",
    "        return False\n",
    "\n",
    "    if 'no need to translate' in d.lower():\n",
    "        return False\n",
    "\n",
    "    if 'can be translated' in d.lower():\n",
    "        return False\n",
    "\n",
    "    if 'cannot translate' in d.lower():\n",
    "        return False\n",
    "\n",
    "    if 'should be translated to' in d.lower():\n",
    "        return False\n",
    "\n",
    "    if 'cannot be translated' in d.lower():\n",
    "        return False\n",
    "\n",
    "    if 'standard malay' in d.lower():\n",
    "        return False\n",
    "\n",
    "    if 'would not be translated' in d.lower():\n",
    "        return False\n",
    "\n",
    "    if 'as an AI language model' in d:\n",
    "        return False\n",
    "\n",
    "    if 'should be translated as' in d.lower():\n",
    "        return False\n",
    "\n",
    "    if 'Bahasa Malaysia Standard' in d:\n",
    "        return False\n",
    "    \n",
    "    if 'Saya adalah model AI' in d:\n",
    "        return False\n",
    "    \n",
    "    if 'saya model AI' in d:\n",
    "        return False\n",
    "    \n",
    "    if 'Saya model AI' in d:\n",
    "        return False\n",
    "    \n",
    "    if 'sebagai model AI' in d:\n",
    "        return False\n",
    "    \n",
    "    if 'Sebagai model AI' in d:\n",
    "        return False\n",
    "    \n",
    "    if 'model bahasa AI' in d:\n",
    "        return False\n",
    "    \n",
    "    if 'model AI yang dibangunkan' in d:\n",
    "        return False\n",
    "    \n",
    "    if d == '<s>':\n",
    "        return False\n",
    "    \n",
    "    if 'tidak dapat memberikan maklumat' in d:\n",
    "        return False\n",
    "    \n",
    "    if 'Sebagai model bahasa' in d:\n",
    "        return False\n",
    "    \n",
    "    if any([r in d.lower() for r in rejected]):\n",
    "        return False\n",
    "    \n",
    "    if any([r in d.lower() for r in break_at]):\n",
    "        return False\n",
    "    \n",
    "    if len(d.split()) < min_len:\n",
    "        return False\n",
    "    \n",
    "    return True"
   ]
  },
  {
   "cell_type": "code",
   "execution_count": 4,
   "id": "4a9371ff",
   "metadata": {},
   "outputs": [],
   "source": [
    "options = ['A.', 'B.', 'C.', 'D.']\n",
    "options2 = ['A', 'B', 'C', 'D']\n",
    "def rejected_output(q, a):\n",
    "    q_, a_ = [], []\n",
    "    for o in options:\n",
    "        q_.append(o in q)\n",
    "    for o in options2:\n",
    "        a_.append(o in a)\n",
    "    return sum(a_) > 1 or sum(q_) < 4"
   ]
  },
  {
   "cell_type": "code",
   "execution_count": 5,
   "id": "521e5887",
   "metadata": {},
   "outputs": [
    {
     "name": "stdout",
     "output_type": "stream",
     "text": [
      "prepared-chatgpt-malaysian-general-qa.jsonl\n",
      "prepared-chatgpt-malaysian-open-qa.jsonl\n",
      "prepared-chatgpt4-malaysian-general-qa.jsonl\n",
      "prepared-mixtral-malaysian-general-qa.jsonl\n"
     ]
    }
   ],
   "source": [
    "files = [\n",
    "    'prepared-chatgpt-malaysian-general-qa.jsonl',\n",
    "    'prepared-chatgpt-malaysian-open-qa.jsonl',\n",
    "    'prepared-chatgpt4-malaysian-general-qa.jsonl',\n",
    "    'prepared-mixtral-malaysian-general-qa.jsonl',\n",
    "]\n",
    "\n",
    "for f in files:\n",
    "    print(f)\n",
    "    with open(f) as fopen:\n",
    "        for l in fopen:\n",
    "            try:\n",
    "                data = json.loads(l)\n",
    "                if not accept(data['input']):\n",
    "                    continue\n",
    "                if not accept(data['output'], min_len = 1):\n",
    "                    continue\n",
    "                fopen_l.write(f'{json.dumps(data)}\\n')\n",
    "                fopen_l.flush()\n",
    "            except Exception as e:\n",
    "                pass"
   ]
  },
  {
   "cell_type": "code",
   "execution_count": 6,
   "id": "5fb56b4d",
   "metadata": {},
   "outputs": [
    {
     "name": "stdout",
     "output_type": "stream",
     "text": [
      "prepared-kertas-1.jsonl\n",
      "'NoneType' object has no attribute 'strip'\n",
      "'NoneType' object has no attribute 'strip'\n",
      "'NoneType' object has no attribute 'strip'\n",
      "'NoneType' object has no attribute 'strip'\n",
      "'NoneType' object has no attribute 'strip'\n",
      "prepared-synthetic-commonsense.jsonl\n",
      "prepared-kesalahan-tatabahasa.jsonl\n",
      "prepared-malaysian-qa-choice.jsonl\n"
     ]
    }
   ],
   "source": [
    "files = [\n",
    "    'prepared-kertas-1.jsonl',\n",
    "    'prepared-synthetic-commonsense.jsonl',\n",
    "    'prepared-kesalahan-tatabahasa.jsonl',\n",
    "    'prepared-malaysian-qa-choice.jsonl',\n",
    "]\n",
    "\n",
    "for f in files:\n",
    "    print(f)\n",
    "    with open(f) as fopen:\n",
    "        for l in fopen:\n",
    "            try:\n",
    "                data = json.loads(l)\n",
    "                if not accept(data['input']):\n",
    "                    continue\n",
    "                if not len(data['output'].strip()):\n",
    "                    continue\n",
    "                if rejected_output(data['input'], data['output']):\n",
    "                    continue\n",
    "                fopen_l.write(f'{json.dumps(data)}\\n')\n",
    "                fopen_l.flush()\n",
    "            except Exception as e:\n",
    "                print(e)\n",
    "                pass"
   ]
  },
  {
   "cell_type": "code",
   "execution_count": 7,
   "id": "1a5dd897",
   "metadata": {},
   "outputs": [
    {
     "name": "stdout",
     "output_type": "stream",
     "text": [
      "prepared-chatgpt-malay-instructions.jsonl\n",
      "prepared-camel-ai.jsonl\n"
     ]
    }
   ],
   "source": [
    "files = [\n",
    "    'prepared-chatgpt-malay-instructions.jsonl',\n",
    "    'prepared-camel-ai.jsonl',\n",
    "]\n",
    "\n",
    "for f in files:\n",
    "    print(f)\n",
    "    with open(f) as fopen:\n",
    "        for l in fopen:\n",
    "            if '```' in l:\n",
    "                continue\n",
    "            try:\n",
    "                data = json.loads(l)\n",
    "                if not accept(data['input']):\n",
    "                    continue\n",
    "                if not accept(data['output']):\n",
    "                    continue\n",
    "                fopen_l.write(f'{json.dumps(data)}\\n')\n",
    "                fopen_l.flush()\n",
    "            except:\n",
    "                pass"
   ]
  },
  {
   "cell_type": "code",
   "execution_count": 8,
   "id": "62ee9d1a",
   "metadata": {},
   "outputs": [
    {
     "name": "stdout",
     "output_type": "stream",
     "text": [
      "prepared-malaysian-ultrachat-nocode.jsonl\n",
      "prepared-mixtral-malaysian-multiturn.jsonl\n",
      "prepared-mixtral-malaysian-rag.jsonl\n",
      "prepared-mixtral-malaysian-rag-knowledge-base.jsonl\n"
     ]
    }
   ],
   "source": [
    "files = [\n",
    "    'prepared-malaysian-ultrachat-nocode.jsonl',\n",
    "    'prepared-mixtral-malaysian-multiturn.jsonl',\n",
    "    'prepared-mixtral-malaysian-rag.jsonl',\n",
    "    'prepared-mixtral-malaysian-rag-knowledge-base.jsonl',\n",
    "]\n",
    "\n",
    "for f in files:\n",
    "    print(f)\n",
    "    with open(f) as fopen:\n",
    "        for l in fopen:\n",
    "\n",
    "            if 'tolong terjemah' in l.lower():\n",
    "                continue\n",
    "\n",
    "            try:\n",
    "                data = json.loads(l)\n",
    "                if not accept(data['input']):\n",
    "                    continue\n",
    "                fopen_l.write(f'{json.dumps(data)}\\n')\n",
    "                fopen_l.flush()\n",
    "            except:\n",
    "                pass"
   ]
  },
  {
   "cell_type": "code",
   "execution_count": 9,
   "id": "c33fc5eb",
   "metadata": {},
   "outputs": [
    {
     "name": "stdout",
     "output_type": "stream",
     "text": [
      "prepared-ultrachat-train_8.jsonl.translated.malay.no-alignment\n",
      "prepared-ultrachat-train_4.jsonl.translated.malay.no-alignment\n",
      "prepared-ultrachat-train_9.jsonl.translated.malay.no-alignment\n",
      "prepared-ultrachat-train_7.jsonl.translated.malay.no-alignment\n",
      "prepared-ultrachat-train_1.jsonl.translated.malay.no-alignment\n",
      "prepared-ultrachat-train_0.jsonl.translated.malay.no-alignment\n",
      "prepared-ultrachat-train_6.jsonl.translated.malay.no-alignment\n",
      "prepared-ultrachat-train_5.jsonl.translated.malay.no-alignment\n",
      "prepared-ultrachat-train_3.jsonl.translated.malay.no-alignment\n"
     ]
    },
    {
     "data": {
      "text/plain": [
       "179624"
      ]
     },
     "execution_count": 9,
     "metadata": {},
     "output_type": "execute_result"
    }
   ],
   "source": [
    "files = glob('prepared-ultrachat-*')\n",
    "files = [f for f in files if 'mesolitica' not in f]\n",
    "\n",
    "count = 0\n",
    "for f in files:\n",
    "    print(f)\n",
    "    with open(f) as fopen:\n",
    "        \n",
    "        for l in fopen:\n",
    "            \n",
    "            if 'Saya mahir dalam bahasa' in l:\n",
    "                continue\n",
    "                \n",
    "            if 'tolong terjemah' in l.lower():\n",
    "                continue\n",
    "                \n",
    "            if '```' in l:\n",
    "                continue\n",
    "                    \n",
    "            try:\n",
    "                data = json.loads(l)\n",
    "                if not accept(data['input']):\n",
    "                    continue\n",
    "                    \n",
    "                if random.random() > 0.2:\n",
    "                    continue\n",
    "                    \n",
    "                fopen_l.write(f'{json.dumps(data)}\\n')\n",
    "                fopen_l.flush()\n",
    "                \n",
    "                count += 1\n",
    "            except:\n",
    "                pass\n",
    "            \n",
    "count"
   ]
  },
  {
   "cell_type": "code",
   "execution_count": 10,
   "id": "b8b1c849",
   "metadata": {},
   "outputs": [],
   "source": [
    "with open('prepared-combine-multiple-chats-nocode.jsonl') as fopen:\n",
    "    for l in fopen:\n",
    "\n",
    "        if 'tolong terjemah' in l.lower():\n",
    "            continue\n",
    "\n",
    "        try:\n",
    "            data = json.loads(l)\n",
    "            if not accept(data['input']):\n",
    "                continue\n",
    "            fopen_l.write(f'{json.dumps(data)}\\n')\n",
    "            fopen_l.flush()\n",
    "        except:\n",
    "            pass"
   ]
  },
  {
   "cell_type": "code",
   "execution_count": 11,
   "id": "ac29c629",
   "metadata": {},
   "outputs": [
    {
     "name": "stdout",
     "output_type": "stream",
     "text": [
      "wc: combine-malay-no-alignment-rag: No such file or directory\r\n"
     ]
    }
   ],
   "source": [
    "!wc -l combine-malay-no-alignment-rag"
   ]
  },
  {
   "cell_type": "code",
   "execution_count": 12,
   "id": "4d09fb70",
   "metadata": {},
   "outputs": [],
   "source": [
    "!shuf combine-malay-no-alignment-rag.jsonl > shuf-combine-malay-no-alignment-rag.jsonl"
   ]
  },
  {
   "cell_type": "code",
   "execution_count": 13,
   "id": "56333e5a",
   "metadata": {},
   "outputs": [],
   "source": [
    "def generate_and_tokenize_prompt(row):\n",
    "    texts = ['<s>']\n",
    "\n",
    "    if 'function_call' in row:\n",
    "        t = row['function_call']\n",
    "        texts.append(f'\\n[FUNCTIONCALL]\\n{t}\\n')\n",
    "\n",
    "    if '<bot>:' in row['input'] and row['output'] is None:\n",
    "        inputs, outputs = [], []\n",
    "        splitted = row['input'].split('<bot>:')\n",
    "        for i in range(len(splitted) - 1):\n",
    "            if i == 0:\n",
    "                human = splitted[i].replace('<manusia>:', '')\n",
    "            else:\n",
    "                try:\n",
    "                    human = splitted[i].split('<manusia>:')[1]\n",
    "                except:\n",
    "                    continue\n",
    "            bot = splitted[i + 1].split('<manusia>:')[0]\n",
    "            inputs.append(human.strip())\n",
    "            outputs.append(bot.strip())\n",
    "    else:\n",
    "        inputs = [row['input']]\n",
    "        outputs = [row['output']]\n",
    "\n",
    "    for u, a in zip(inputs, outputs):\n",
    "        if not len(u.strip()) or not len(a.strip()):\n",
    "            print(u, a)\n",
    "            return\n",
    "        texts.append(f'[INST] {u.strip()} [/INST] {a.strip()}</s> ')\n",
    "\n",
    "    prompt = ''.join(texts)\n",
    "    return {'text': prompt}"
   ]
  },
  {
   "cell_type": "code",
   "execution_count": 14,
   "id": "b7d7228b",
   "metadata": {
    "scrolled": true
   },
   "outputs": [
    {
     "name": "stderr",
     "output_type": "stream",
     "text": [
      "1103it [00:00, 1760.09it/s]"
     ]
    },
    {
     "name": "stdout",
     "output_type": "stream",
     "text": [
      "Sebagai pembuka mulut, kongsikan lagu karaoke kegemaran anda tetapi dengan likunya, anda hanya boleh menerangkannya melalui emoji. Ringkaskan lagu anda dalam kurang daripada 50 aksara. Beri bunga pada lagu itu! \n"
     ]
    },
    {
     "name": "stderr",
     "output_type": "stream",
     "text": [
      "212310it [00:21, 48672.13it/s]"
     ]
    },
    {
     "name": "stdout",
     "output_type": "stream",
     "text": [
      "حىت  غدا  القول أّن الكون قد  أصبح  قرية ابلقنوات الفضائيّ \n",
      "\n",
      "\n",
      "\n",
      "االقتصاديّة و   الّتجاريّة   صغرية مطلوابً  بل ملّحاً ، ولقد انعكست آاثر هذا الّتطور على الّلغة  وال سيما يف اجملاالت\n",
      " لكل حقل من احلقول الّسابقة مسات لسانّية ولغويّة وأساليب . وغري خاٍف أنّ   والسياحة  والّدبلوماسّية والّسياسّية\n",
      "\n",
      "\n",
      "\n",
      "  تعبري خاّصة متّيزه  عن اآلخر. \n",
      ".)yuslina Mohamed, 2011, p:2) \n",
      "\n",
      "\n",
      "\n",
      "السياحة   الدولة وسيلة من وسائل  تعّد  تتميز بسمات لغوية ومعجمية جعلتها حمور   تنمية استثمار  اليت \n",
      "و \"األصالة\" اهتمام اللغويني؛ وألّن حمور إعداد املواد التعليمية ألغراض خاصة قائم على ما يعرف بـ \"دوافع املتعلمني\"  \n",
      "\n",
      "\n",
      "\n",
      "صميم وملا كان ت  ألمور األساسية الالزمة يف تصميم الوحدة التدريسية يف جمال السياحة.جاء هذا البحث ليهتم ابو \n",
      "\n",
      "\n",
      "\n",
      "\n",
      "\n",
      "\n",
      "\n",
      "\n",
      "International Journal Languages and Education (Vol. 1, No 2)                                   \n",
      "\n",
      "\n",
      "\n",
      " \n",
      "38 \n",
      "\n",
      "\n",
      "\n",
      "©The Author(s) (2021). Published by USIM Press on behalf of the Universiti Sains Islam Malaysia.  This is an Open \n",
      "\n",
      "\n",
      "\n",
      "Access article  distributed  under the  terms of the Creative Commons Attribution 4.0 International (CC BY 4.0) license. \n",
      "\n",
      "\n",
      "\n",
      "املناهج وتطويرها ألغراض خاصة خيتلف عن تصميم مناهج اللغة العامة، فقد جاءت هذه الدراسة لتوّضح هذا \n",
      " سياحة.يف جمال ال  بواسطة إطاري النظري والتطبيقي  االختالف\n",
      " \n",
      "\n",
      "\n",
      "\n",
      " خلفية الدراسة\n",
      " مفهوم اللغة العربية ألغراض خاصة \n",
      "\n",
      "\n",
      "\n",
      "عناصره كافة من أهداف وحمتوى وطريقة التدريس إىل اللغة ألغراض خاصة مدخل لتعليم اللغة  تستند  \n",
      " .  (Usyari Mahmud, 1983, p115-128)  األسباب  اليت دفعت الدارسني لتعلم اللغة\n",
      "\n",
      "\n",
      "\n",
      "وترمي اللغة العربية ألغراض خاصة عندى رشدي أمحد طعيمة\" ألداء وظيفة  حمددة لفئات خاصة يتطلب \n",
      " ,Rusydi A.T., Mahmud KN)    ميكن توظيفها يف هذه األعمال\" أعماهلا قدرا معينا من اللغة األجنبية اليت  \n",
      "\n",
      "\n",
      "\n",
      "2003, p:6) وخصوصية اللغة عنده تعين توفر رصيد حمدد من كلمات، وتعبريات، واصطلحات، وتراكيب، خاصة .\n",
      "املهارات،  وخصوصية  اهلدف،  وخصوصية  اجلمهور،  خصوصية  تعود  وقد  معينة.  جماالت  يف  استخدامها  يشيع \n",
      "\n",
      "\n",
      "\n",
      " . (  ,p:1-8 Kristen Gatehouse,2001)  وخصوصية احملتوى\n",
      "م( العربية ألغراض خاصة أبهنا \" تعليم اللغة العربية لألغراض خاصة يقوم 2004وعّرف حسني عبيدات )\n",
      "\n",
      "\n",
      "\n",
      "على  يعتمد  اخلاصة  اللغة  تعليم  التعريفات أبن  تلك  من  الدارسني\".ونفهم  تليب حاجات  مساقات  تصميم  على \n",
      "اللغة يف مواقفها اخلاصة أو احملددة، ويكون اهلدف التعليمي هلذه اللغة اخلاصة  حاجات الدارسني ومقاصدهم لتعلم  \n",
      "\n",
      "\n",
      "\n",
      "لقد أفاد تعريف املصطلح   .  (p:49  Yuslina Mohamed, 2011)هو اهلدف األكادميي أو اهلدف املهين أو الوظيفي\n",
      "م(، إذ يقوالن\" يستند 1987) العربية ألغراض اخلاصة من تعريف اإلجنليزية ألغراض خاصة عند هانشنسن وواترز  \n",
      "\n",
      "\n",
      "\n",
      "املتعلم\" احملتوى واألسلوب على حاجة  القرارات من حيث  اللغة يف مجيع  تعليم   p:1-8  Kristen,2001)منهج  \n",
      "\n",
      "\n",
      "\n",
      "Gatehouse,  )  . ومن ذلك نستطيع القول أن برانمج تعليم اللغة العربية ألغراض خاصة هو برانمج تعليمي حيمل\n",
      "وى الفين واملهين، ويتعامل يف الغالب لطالب متخصصني يف جماالت معينة، أو احملتوى األكادميي أو العلمي، واحملت\n",
      "\n",
      "\n",
      "\n",
      "(. Yuslina Mohamed, 2011, P:51 )أصحاب مهن معينة\n",
      " \n",
      "\n",
      "\n",
      "\n",
      " \n",
      "وأما العربية ألغراص السياحة فهو قسم من أقسام العربية ألغراض خاصة، تركز على اللغة اليت تستخدم \n",
      "\n",
      "\n",
      "\n",
      "واملصطلحات والرتاكيب والعبارة واجلملة. ويتعلم الطلبة هذه اللغة يف إطارها يف جمال السياحة فقط مثل املفردات  \n",
      "املرجوة  اهلدف  تتحقق  فيها حىت  والتعزيز  الكافية  التدريبات  مع  )السياحة(   ,Yusl \n"
     ]
    },
    {
     "name": "stderr",
     "output_type": "stream",
     "text": [
      "464674it [00:27, 47942.39it/s]"
     ]
    },
    {
     "name": "stdout",
     "output_type": "stream",
     "text": [
      " Tidak, tidak semua jenis sukuk mewakili pelanggaran undang-undang syariah. Struktur dan mekanisme sukuk yang digunakan dalam bentuk mudharabah dan musharakah tidak melanggar prinsip syariah. Walau bagaimanapun, perlu diperhatikan bahawa ini mesti disahkan oleh pihak berkuasa syariah yang kompeten sebelum diterbitkan.\n"
     ]
    },
    {
     "name": "stderr",
     "output_type": "stream",
     "text": [
      "605656it [00:29, 48097.46it/s]"
     ]
    },
    {
     "name": "stdout",
     "output_type": "stream",
     "text": [
      " Ya, dalam era globalisasi dan kepelbagaian ekonomi, sistem kewangan Islam menawarkan potensi untuk mewujudkan kestabilan dan daya saing dalam pasaran sukuk. Walau bagaimanapun, cabarannya adalah meyakinkan pelabur, sama ada Muslim atau bukan Islam, tentang kekuatan dan keupayaan sistem kewangan Islam sebagai alternatif yang sejajar dengan sistem konvensional.\n",
      "\n",
      "Dalam hal ini, perlu ada pendekatan yang komprehensif untuk mempromosikan sukuk kepada pelabur. Ini melibatkan pendidikan dan kesedaran yang lebih besar tentang prinsip syariah dan faedah ekonomi sukuk. Selain itu, ia juga penting untuk mengekalkan kualiti dan kepercayaan pasaran dengan memastikan terdapat rangka peraturan yang betul dan prosedur yang telus dalam penerbitan dan perdagangan sukuk.\n",
      "\n",
      "Seiring dengan pertumbuhan pasaran sukuk global, peningkatan pilihan instrumen sukuk yang inovatif dan mempelbagaikan portfolio juga boleh menjadi faktor yang menyokong kejayaan sistem kewangan Islam. Oleh itu, usaha kerjasama daripada semua pihak berkepentingan diperlukan, termasuk kerajaan, institusi kewangan dan masyarakat untuk mempromosikan pembangunan pasaran sukuk yang mampan dan inklusif.\n",
      "\n",
      "Jadi, dengan komitmen dan kerjasama yang betul, sistem kewangan Islam mempunyai potensi untuk mencapai kestabilan dan daya saing dalam pasaran sukuk serta meyakinkan pelabur tentang kekuatannya sebagai alternatif yang boleh dipercayai dan mampan.\n"
     ]
    },
    {
     "name": "stderr",
     "output_type": "stream",
     "text": [
      "629960it [00:30, 48359.22it/s]"
     ]
    },
    {
     "name": "stdout",
     "output_type": "stream",
     "text": [
      " Faktor-faktor yang mempengaruhi populariti sukuk di pasaran dan menentukan minat pelabur terhadapnya adalah seperti berikut:\n",
      "1. Sesuai dengan prinsip syariah: Sukuk adalah instrumen kewangan yang mematuhi prinsip syariah Islam, yang menjadikannya menarik kepada pelabur yang mempunyai keperluan untuk melabur dalam aset syariah yang patuh.\n",
      "2. Keperluan pasaran: Adalah penting untuk mengenal pasti keperluan pasaran dan ekonomi untuk menghasilkan sukuk yang boleh memenuhi keperluan tersebut dan dipasarkan dengan baik. Ini termasuk mempertimbangkan faktor-faktor seperti aliran tunai dan permintaan pelaburan.\n",
      "3. Risiko pelaburan: Pelabur yang mempunyai lebihan kecairan mungkin mempunyai toleransi risiko pelaburan yang berbeza. Pelabur yang berminat dengan pendapatan tetap dan boleh meramalkan pulangan mereka mungkin lebih cenderung kepada sukuk yang berdasarkan prinsip muamalat berkongsi risiko dan keuntungan. Sebaliknya, pelabur yang lebih berhati-hati dan ingin mengekalkan modal mungkin lebih suka melabur dalam instrumen yang memberikan pulangan tetap, seperti bon konvensional.\n",
      "4. Persepsi pasaran: Masyarakat umum sering menganggap sukuk sebagai instrumen yang memberikan pulangan tetap dan mempunyai risiko yang rendah, yang menjadikan sukuk menarik kepada mereka yang mencari pelaburan yang stabil. Oleh itu, persepsi dan penilaian pelabur terhadap sukuk juga mempengaruhi popularitinya di pasaran.\n",
      "5. Peraturan dan undang-undang: Kepatuhan undang-undang dan peraturan berkaitan sukuk adalah penting dalam menentukan minat pelabur. Undang-undang dan peraturan yang jelas dan memberikan kepastian undang-undang akan memberi keyakinan kepada pelabur untuk melabur dalam sukuk.\n",
      "Jika anda memerlukan maklumat lanjut atau penjelasan yang lebih terperinci mengenai faktor-faktor ini atau jenis sukuk yang ada, sila beritahu saya.\n"
     ]
    },
    {
     "name": "stderr",
     "output_type": "stream",
     "text": [
      "639632it [00:30, 48324.56it/s]"
     ]
    },
    {
     "name": "stdout",
     "output_type": "stream",
     "text": [
      " Dalam Islam, terdapat beberapa perbuatan yang diharamkan. Antara perbuatan yang diharamkan ialah pemakanan daging babi, minuman beralkohol, berjudi, mencuri, dan menyakiti orang lain secara sengaja. Selain itu, perbuatan-perbuatan yang melanggar hukum syarak seperti mencemarkan nama baik seseorang, berzina, dan menyelewengkan harta juga dianggap haram dalam Islam.\n"
     ]
    },
    {
     "name": "stderr",
     "output_type": "stream",
     "text": [
      "746287it [00:32, 47729.13it/s]"
     ]
    },
    {
     "name": "stdout",
     "output_type": "stream",
     "text": [
      "Terjemahkan ayat di bawah ke dalam bahasa Jepun. Saya akan keluar untuk makan malam. \n"
     ]
    },
    {
     "name": "stderr",
     "output_type": "stream",
     "text": [
      "926510it [00:36, 47399.73it/s]"
     ]
    },
    {
     "name": "stdout",
     "output_type": "stream",
     "text": [
      " Adalah penting untuk menghormati dan menghargai pandangan yang berbeza dalam perkara harian kerana ia membantu memupuk pemahaman, kepelbagaian dan toleransi dalam masyarakat. Dengan menghormati pandangan yang berbeza, kita boleh belajar daripada pengalaman orang lain, membuat keputusan yang lebih baik, dan membina hubungan yang harmoni dengan orang lain.\n"
     ]
    },
    {
     "name": "stderr",
     "output_type": "stream",
     "text": [
      "959826it [00:37, 47362.74it/s]"
     ]
    },
    {
     "name": "stdout",
     "output_type": "stream",
     "text": [
      " Nilai-nilai agama dan kerohanian dalam Islam sangat penting dalam amalan ibadah. Sebagai umat Islam, kita digalakkan untuk beribadah kepada Allah SWT dengan rasa takut, cinta, dan kasih sayang. Dalam menjalankan ibadah, kita digalakkan untuk mempunyai niat yang ikhlas dan ikhlas, serta menjaga sikap tawadhu' dan rendah hati.\n",
      "\n",
      "Beribadah mempunyai nilai-nilai penting dalam kehidupan Muslim, seperti meningkatkan hubungan kita dengan Allah SWT, mendapatkan keberkahan dan rahmat-Nya, serta menguatkan iman dan ketakwaan kita. Selain itu, beribadah juga mengajarkan kita untuk bersyukur atas nikmat yang diberikan oleh Allah SWT, bersabar dalam menghadapi ujian, dan berusaha untuk meningkatkan kualiti diri kita sebagai hamba-Nya.\n",
      "\n",
      "Dalam Islam, nilai-nilai kerohanian dan ibadah juga ditekankan melalui pelaksanaan kewajipan-kewajipan agama seperti shalat, puasa, zakat, haji, dan pelbagai amalan sunnah lain. Melalui ibadah-ibadah ini, kita diajarkan untuk menghadirkan kehadiran Allah SWT dalam setiap aspek kehidupan kita, baik dalam ibadah formal mahupun dalam kehidupan sehari-hari.\n",
      "\n",
      "Dengan menjalankan ibadah sesuai dengan tuntunan agama, kita dapat mencapai kedamaian dalam hati dan jiwa, serta meraih kebahagiaan hakiki di dunia dan akhirat. Ibadah yang dilakukan dengan penuh kesedaran dan mengikuti hidayah agama juga merupakan bentuk penghormatan dan ketaatan kita sebagai hamba Allah SWT.\n",
      "\n",
      "Jadi, nilai-nilai agama dan kerohanian dalam Islam sangatlah penting dalam memahami dan menjalankan ibadah dengan baik sesuai dengan ajaran agama.\n"
     ]
    },
    {
     "name": "stderr",
     "output_type": "stream",
     "text": [
      "1215752it [00:42, 46460.61it/s]"
     ]
    },
    {
     "name": "stdout",
     "output_type": "stream",
     "text": [
      " \n"
     ]
    },
    {
     "name": "stderr",
     "output_type": "stream",
     "text": [
      "1531242it [00:49, 48126.90it/s]"
     ]
    },
    {
     "name": "stdout",
     "output_type": "stream",
     "text": [
      "يف سورة اإلخالص داللة اجلزم\n",
      "Assertive Semantic in Surah al-Ikhlas \n",
      "\n",
      "\n",
      "\n",
      " \n",
      " 2نورفائزة حممد حامدين ،1هشام الدين حممد يوسف \n",
      "\n",
      "\n",
      "\n",
      " \n",
      " البحث   ملخص\n",
      "\n",
      "\n",
      "\n",
      "قضية التوحيد عن  ألهنا تفسر    ، كيز على سورة اإلخالصداللة اجلزم يف النحو العريب ابلت   اسةالدر هذه  ت  تناول\n",
      "اجلازم  االعتقاد  للدفاع عن  اجلزم هي  للمسلم  اخلالص  داللة  اآلايت   دالالت الحدى  إ .  تظهر من  اليت  الصوتية \n",
      "\n",
      "\n",
      "\n",
      "، فبناء على ذلك، البحث والدراسة يف توضيح مبينة  مقاصدمعينة و وهلا معان  من صفات األحرف العربية  القرآنية  \n",
      "للغاية. ومقاصدها    معانيها  مهما  أمرا  فقط    يعد  الفعل  على  اجلزم  يقع  الرفعوملاذا  مثل  االسم   والنصب.  دون \n",
      "\n",
      "\n",
      "\n",
      "فعل األمر مباشرة وداللة اجلزم على على    اجلزم  لى داللةعلى منهج التحليل، ستقتصر الدراسة ع  تطرقت الدراسة\n",
      "وأتثريها على   يف سورة اإلخالص   اللة اجلزم إىل بيان أمهية دالدراسة  وهدفت  .  زمعوامل اجلالفعل املضارع بواسطة  \n",
      "\n",
      "\n",
      "\n",
      "والضغط   أن هناك شدة يف معىن الكلمة يف تلك السورة  أمهها  ، وتوصلت إىل عدة نتائجمعىن اآلية بشكل أعمق\n",
      " . السورةالصويت عند تالوة  \n",
      "\n",
      "\n",
      "\n",
      "\n",
      "\n",
      "\n",
      "\n",
      " داللة، اجلزم، سورة اإلخالص :  الكلمات املفتاحية\n",
      " \n",
      "\n",
      "\n",
      "\n",
      "ABSTRACT \n",
      "\n",
      "\n",
      "\n",
      "This study dealt with the significance of assertiveness in Arabic grammar by focusing on \n",
      "\n",
      "\n",
      "\n",
      "Surah Al-Ikhlas, because it is interpreted for the issue of pure monotheism to defend the firm \n",
      "\n",
      "\n",
      "\n",
      "belief of the Muslim. The significance of assertion is one of the phonetic connotations that \n",
      "\n",
      "\n",
      "\n",
      "appear from the Qur'anic verses of the characteristics of the Arabic letters and has certain \n",
      "\n",
      "\n",
      "\n",
      "meanings and clear purposes, so accordingly, research and study in clarifying their \n",
      "\n",
      "\n",
      "\n",
      "meanings and purposes is very important. The study touched on the method of analysis, the \n",
      "\n",
      "\n",
      "\n",
      "study will be limited to the indication of assertion on the act of the command directly and the \n",
      "\n",
      "\n",
      "\n",
      "indication of assertion on the present tense verb by assertive factors. The study aimed to \n",
      "\n",
      "\n",
      "\n",
      "show the importance of the significance of assertiveness in Surah Al-Ikhlas and its impact on \n",
      "\n",
      "\n",
      "\n",
      "the meaning of the verse in a deeper way, and reached several results, the most important of \n",
      "\n",
      "\n",
      "\n",
      "which is that there is intensity in the meaning of the word in that surah and the sound \n",
      "\n",
      "\n",
      "\n",
      "pressure when reciting the surah. \n",
      "\n",
      "\n",
      "\n",
      " \n",
      "Keywords: Indication, Assertiveness, Surah Al-Ikhlas   \n",
      "\n",
      "\n",
      "\n",
      "\n",
      "\n",
      "\n",
      "\n",
      "     hisyamkias@gmail.com، العاملية اإلسالميةاجلامعية لعربية، كلية السلطان إمساعيل فتا ضر بقسم اللغة ااحملا 1\n",
      " norfaezah@kuis.edu.my،احملاضرة بقسم اللغة العربية، اجلامعة اإلسالمية بسالجنور 2\n",
      "\n",
      "\n",
      "\n",
      "\n",
      "\n",
      "\n",
      "\n",
      "\n",
      "125 \n",
      "\n",
      "\n",
      "\n",
      "\n",
      "\n",
      "\n",
      "\n",
      " مقدمة \n",
      "يفهم  النص، حىت  يف  الكلمات  إعراب  يف  واإلتقان  العريب  الكالم  يف  اإلتقان  النحوية  الدراسة  أهداف  من  إن \n",
      "البعض أن النحو هو اإلعراب، وتسبيبا من ذلك فقد أكد البعض املقول املشتهر \" إذا صح اإلعراب صح املعىن \n",
      "\n",
      "\n",
      "\n",
      "ابلعربية الفصيحة عند التقدمي أو احلوار اليومي.   همكالز يف اللغة العربية هو من حتسن  ملمتاوصحت املسألة \". وا\n",
      "، حصل (28م،  1971لكن مع األسف الشديد أن من أهم وظيفة النحو العريب هو فهم املعىن )متام، حسان،  \n",
      "\n",
      "\n",
      "\n",
      "لم خاص ال يدخل يف . رغما عن ذلك، هناك ع هذا بوضع احلركات اإلعرابية على الكلمات املقصودة يف النص\n",
      "ال وهو اجلزم، ، أ لكن قد وقع على أواخر الكلمة لتعرب منها غرضا معينا لتلك الكلماتابية  قائمة احلركات اإلعر \n",
      "\n",
      "\n",
      "\n",
      "املناسب له امليزان  لنا أن نضع  يتجاوز إىل   فينبغي  بل  يقتصر على عالمته فحسب  يكثر احلديث عنه، ال  كي \n",
      "اجملزومة اليت جندها مات  الكل يف النحو العريب وسوف نبينه خالل    هنا سوف نكّسر ما هي غرضه  .معناه وداللته\n",
      "\n",
      "\n",
      "\n",
      "     يف سورة اإلخالص. \n",
      " \n",
      "\n",
      "\n",
      "\n",
      " مشكلة البحث \n",
      "من   قضية  اجلزم  وكذلك  قضااي  اليعد  العربية،  للغة  الصحيح  املعىن  أتدية  يف  مبفهومه اللغوية  واإلملام  فهمه  يعد \n",
      "\n",
      "\n",
      "\n",
      "يف   أساسية  قاعدة  من  وداللته  نص  أي  يف  احملزومة  الكلمات  احلركات توظيف  من  يعترب  ال  واجلزم  النصوص. \n",
      "لكنه يدل على شيء معني يف احلركات الثالثة الرفع والنصب واجلر.  عرابية ألنه ال يتحرك اللسان كما حدث  اإل\n",
      "\n",
      "\n",
      "\n",
      "يتالعب بني األدوات اجلازمة من عامل اجلزم وأدوات الشرط. هو  ءته و ق \n",
      "..        . \n"
     ]
    },
    {
     "name": "stderr",
     "output_type": "stream",
     "text": [
      "1738447it [00:53, 46948.17it/s]"
     ]
    },
    {
     "name": "stdout",
     "output_type": "stream",
     "text": [
      "?   . \n"
     ]
    },
    {
     "name": "stderr",
     "output_type": "stream",
     "text": [
      "1818450it [00:55, 46331.30it/s]"
     ]
    },
    {
     "name": "stdout",
     "output_type": "stream",
     "text": [
      " Zikir dan doa adalah ibadah yang penting dalam kehidupan seorang Muslim. Mereka mempunyai banyak manfaat dan kepentingan. Pertama, zikir dan doa membantu kita berkomunikasi dengan Allah dan meningkatkan hubungan kita dengan-Nya. Dengan berzikir dan berdoa, kita mengakui kebesaran Allah dan merendahkan diri kita di hadapan-Nya.\n",
      "\n",
      "Selain itu, zikir dan doa juga mempunyai kesan positif terhadap hati dan jiwa kita. Mereka membantu menenangkan fikiran, menghilangkan tekanan, dan meningkatkan iman. Apabila kita berzikir dan berdoa, kita merasa lebih dekat dengan Allah dan merasakan kedamaian dalam hati.\n",
      "\n",
      "Selain itu, zikir dan doa juga boleh menjadi sumber kekuatan dan motivasi dalam menghadapi pelbagai cabaran hidup. Dengan mengingati Allah dan memohon pertolongan-Nya, kita merasa lebih yakin, yakin, dan berserah diri kepada-Nya.\n",
      "\n",
      "Oleh itu, penting bagi setiap Muslim untuk mengamalkan zikir dan doa dalam kehidupan seharian. Kita boleh melakukannya setiap saat, pada setiap kesempatan, dan dalam setiap aktiviti kita. Dengan itu, kita boleh meningkatkan kesedaran kita terhadap kehadiran Allah dalam setiap aspek kehidupan kita, serta mendapat keberkahan dan rahmat-Nya.\n"
     ]
    },
    {
     "name": "stderr",
     "output_type": "stream",
     "text": [
      "1967779it [00:58, 46951.58it/s]"
     ]
    },
    {
     "name": "stdout",
     "output_type": "stream",
     "text": [
      "Buat tiket permintaan ciri baharu untuk aplikasi \"Munchies\" menggunakan hanya emoji. Ciri ini perlu membenarkan pengguna menyimpan dan berkongsi lokasi makanan kegemaran dengan rakan. Selain itu, ciri ini perlu menyokong pelbagai bahasa dan menyertakan peta untuk mengesan lokasi makanan dengan tepat. \n",
      "Apakah insentif yang disediakan oleh kerajaan Malaysia untuk syarikat yang menggunakan biojisim kelapa sawit untuk menghasilkan produk nilai tambah? \n"
     ]
    },
    {
     "name": "stderr",
     "output_type": "stream",
     "text": [
      "2019520it [01:00, 46690.24it/s]"
     ]
    },
    {
     "name": "stdout",
     "output_type": "stream",
     "text": [
      " Menurut Dr. Al-Qari, pemberian pinjaman kepada pemegang sukuk dalam konteks sukuk mudarabah dan sukuk musharakah boleh dilakukan asalkan jumlah yang dikemukakan perlu dikembalikan pada masa yang sesuai. Walau bagaimanapun, jika amalan ini berlaku dalam konteks kontrak penyertaan dan spekulasi yang tidak menjamin sebarang keuntungan, maka janji dan kewajipan pembayaran yang dikemukakan daripada penerbit boleh dianggap sebagai helah untuk mencapai hasil yang dilarang secara langsung. Oleh itu, tidak dibenarkan bagi pengarah kewangan Islam atau wakil pelaburan untuk mengikat diri dengan memberi pinjaman kepada pemegang sukuk apabila terdapat defisit dalam keuntungan yang diharapkan. Ini telah diharamkan oleh Majlis Syariah AAOIFI dalam Fatwa No. 4.\n"
     ]
    },
    {
     "name": "stderr",
     "output_type": "stream",
     "text": [
      "2076902it [01:01, 47463.10it/s]"
     ]
    },
    {
     "name": "stdout",
     "output_type": "stream",
     "text": [
      "Apakah faedah dan keperluan untuk memohon insentif cukai untuk pusat jagaan kanak-kanak milik persendirian di Malaysia? \n"
     ]
    },
    {
     "name": "stderr",
     "output_type": "stream",
     "text": [
      "2149279it [01:02, 48010.78it/s]"
     ]
    },
    {
     "name": "stdout",
     "output_type": "stream",
     "text": [
      " Kepentingan syor untuk pemegang bon menunjukkan dan membuktikan pemilikan aset sumber adalah untuk memastikan kesahihan dan kepercayaan dalam struktur sukuk. Oleh itu, jika ini dapat ditunjukkan dan dibuktikan, permintaan syor pertama akan dianggap sah. Menentang struktur pemilikan yang jelas dan terbuka adalah sangat penting dalam sukuk, terutamanya dari segi tuntutan aset yang menjadi asas untuk pengeluaran sukuk. Oleh itu, syor ini memberi perhatian bahawa pemilik sukuk bukan sahaja perlu menunjukkan pemilikan aset, tetapi juga membawa hak dan tanggungjawab yang melekat padanya. Tambahan pula, peraturan undang-undang dan peraturan yang terpakai di negara yang berkaitan akan menentukan bentuk pemilikan sebenar. Semakin jelas dan kukuh bukti pemilikan, semakin sah dan kuat kedudukan pemegang sukuk.\n"
     ]
    },
    {
     "name": "stderr",
     "output_type": "stream",
     "text": [
      "2231096it [01:04, 48164.18it/s]"
     ]
    },
    {
     "name": "stdout",
     "output_type": "stream",
     "text": [
      " Terdapat banyak kepentingan dalam mengamalkan ajaran dan akhlak yang terkandung dalam al-Quran al-Karim dalam kehidupan kita. Salah satunya, ia membantu membentuk jati diri kita sebagai seorang Muslim yang berperibadi mulia dan menjunjung tinggi akhlak-akhlak yang terpuji. Selain itu, al-Quran mengingatkan kita tentang rukun iman dan hukum syariah yang disebutkan di dalamnya. Ia juga mencontohkan sifat-sifat mulia seperti kejujuran, keadilan, ketabahan menghadapi ujian hidup, dan keteguhan dalam menghadapi cabaran-cabaran dan fitnah dalam kehidupan.\n",
      "\n",
      "Melalui kisah-kisah tentang para nabi dan rasul yang telah menghadapi pelbagai cabaran dan ujian dalam kehidupan mereka, al-Quran memberikan teladan tentang bagaimana kita juga dapat menghadapi perjuangan hidup. Selain itu, al-Quran juga mengingatkan kita tentang sifat-sifat buruk seperti kebohongan, amarah, tirani, kekejaman, pengkhianatan, dan sifat-sifat buruk lain yang harus dihindari.\n",
      "\n",
      "Secara keseluruhan, al-Quran memandu umat Muslim untuk menjadikan kehidupan di dunia ini sebagai medium untuk mengamalkan ajaran-Nya. Oleh itu, penghayatan dan pemahaman yang mendalam terhadap ajaran-ajaran al-Quran sangat penting. Selain itu, melalui pengamalan ajaran-ajaran tersebut dalam kehidupan sehari-hari, kita berharap dapat memperkukuh jati diri dan akhlak kita dengan mengikuti contoh mulia Rasulullah SAW.\n",
      "\n",
      "Bagaimana lagi kita boleh menggunakan dan memanfaatkan ajaran-ajaran ini dalam kehidupan kita?\n"
     ]
    },
    {
     "name": "stderr",
     "output_type": "stream",
     "text": [
      "2283896it [01:05, 47770.95it/s]"
     ]
    },
    {
     "name": "stdout",
     "output_type": "stream",
     "text": [
      "Apakah peraturan dan keperluan untuk pendaftaran dan pemeriksaan jentera dan peralatan di Malaysia? \n",
      "Apakah tujuan Malaysia memasuki perjanjian cukai dengan negara lain? \n"
     ]
    },
    {
     "name": "stderr",
     "output_type": "stream",
     "text": [
      "2336082it [01:06, 47081.23it/s]"
     ]
    },
    {
     "name": "stdout",
     "output_type": "stream",
     "text": [
      "세금 면 제를 신청하기 위한 전체 과정에 필요한 기간을 고려하라는 충고가 주어집니다. 자율 신고와 자율 규제 환경과 더불어 이 새로운 절차는 시간을 절약할 수 있어 사업 비용이 절감되고, 상품 통관을 위해 은행의 보증을 받지 않아도 됩니다. 투자진흥청(MIDA)는 이 세금 면제를 위한 자율 신고 신청을 온라인으로 할 수 있도록 편의를 제공합니다. 이러한 편의로 이용자는 전자신고 디지털 증서(LHDN 발급) 또는 MIDA에서 디지털 증서를 다운로드하여 MIDA에 제출하기 전 신청서에 디지털 서명하면 됩니다. iii. 외주 제조활동에 대한 수입관세의 면제 사업비용을 절감하고 경쟁력을 강화하기위해, 말레이시아인 지분이 60% 이상인 말레이시아 상표 소유자가 제조활동을 외주할 경우 다음의 자격이 주어집니다. a) 국내외 계약 생산업체에 의한 완제품 제조 시 사용된 원 자재와 구성품에 대한 수입 관세의 면제. b) 국내 계약 제조업체가 제조하는 완제품에 사용될 해외 계약 제조업체의 반제품에 대한 수입관세 및 판매세의 면제. 투자세 공제 신청서는 투자진흥청(MIDA)에 제출하여야 합니다. iv. 정비, 수리 또는 오버홀(MRO) 활동에 대한 수 입관세 및 판매세 면제 MRO 활동에 대한 판매세 면제 2018년 판매세(세금 납부 면제된 개인) (수정) (번호 2) 명령, 별표 A에 따라 말레이시아의 등록된 항공우주 MRO 회사는 다음에 대해 판매세 면제를 신청할 수 있습니다. a) 33A 항에 따른 기계류, 장비, 특수 도구. b) 말레이시아 내에서 MRO 활동에 직접 사용되는 33B 항에 따른 부품, 구성품, 자재 및 특수 소모품 신청서는 자진 신고 과정을 통해 이루어지는 신청을 위해 회 사는 수입 또는 구매 전에 투자진흥청(MIDA)에 확인서를 신 청하여야 합니다. 그런 다음 회사는 판매세 면제를 받기 위해 서는 투자진흥청(MIDA)이 발행하는 확인서와 기계류, 장비, 특수 도구, 부품, 구성품, 재로 및 특수 소모재 목록을 말레이 시아 관세국(Royal Malaysian Customs Department)에 제 출하여야 합니다. 확인서 신청은 투자진흥청(MIDA)에 제출하여야 합니다. 판매세 면제 신청은 온라인으로 https://mysst.customs. gov.my을 통 제출하여야 합니다. MRO 활동에 대한 수입 관세 면제 등록된 항공우주산업 MRO 회사는 기계류, 장비, 특수 도구, 부품, 구성품, 재료 및 소모품에 대해 수입관세 면제를 신청할 수 있는 자격이 주어집니다. 수입관세 면제에 대한 신청서는 재무부(MOF)에 제출하여야 합니다. v. 화물 운송료에 대한 이중 공제 제조업체가 자사 상품을 사바주와 사라왁 주로부터 말레이시 아 반도의 항구로 해상 운송할 경우, 화물 운송료에 대해 이중 공제를 받을 수 있습니다. 29 신규 투자에 대한 인센티브 vi. 말레이시아 상표 촉진에 대한 이중 공제 말레이시아 상표를 육성하기 위해 말레이시아 상표의 등록된 소유권자인 회사 또는 이와 같은 그룹 내 회사는 다음의 조건 들을 모두 충족한 때에 한하여 당해 상표 광고로 발생한 지출 에 대해 이중 공제를 받을 수 있습니다. a) 회사는 말레이시아 상표의 등록 소유권가 50%가 넘는 지분을 소유하여야 합니다. b) 공제는 한 과세 연도에 1개 회사만 신청할 수 있습니다. c) 당해 제품은 수출 품질 기준을 충족하여야 합니다. 신청서는 국세청(IRB)에 제출하여야 합니다. 11.8 환경 보호에 대한 기부 오로지 환경 보호와 보존만을 위해 승인된 단체에 기부한 금 액은 단 한 차례 공제를 받을 수 있습니다. 신청서는 국세청(IRB)에 제출하여야 합니다. 11.9 직원 주거시설에 대한 인센티브 제조업, 승인된 서비스 프로젝트(ASP), 호텔 또는 관광 사업 에서 일하는 직원의 주거용으로 사용되는 건물은 당해 건물 의 건축/매입으로 발생한 자본적 지출액에 대해 10년간 매년 10%의 공제를 제공하는 특별 산업용 건물 공제(IBA)를 신청 할 수 있는 자격이 주어집니다. 신청서는 국세청(IRB)에 제출하여야 합니다. 30 제3장 과세 제도 조세 제도 1. 말레이시아의 조세 제도 2. 과세 대상 소득의 종류 3. 법인세 4. 개인소득세 4.1 거주자 개인 4.1.1 인적 공제 4.1.2 세금 환급 4.2 비거주자 개인 5. 원천징수세 6. 부동산 양도소득세 7. 판매세 및 서비스세 7.1 판매세 7.1.1 판매세율 7.2 서비스세 7.2.1 과세 가능한 서비스 7.2.2 과세 7.2.3 서비스세율 7.2.4 신용카드와 고객카드에 대한 서비스세율 8. 수입 관세 9. 소비세 10. 관세항소법원 및 사전심사제도 11. 이중과세방지협약 32 조세 제도 제 3장 조세 제도 1. 말레이시아의 조세 제도 기업을 포함한 모든 개인의 말레이시아 국내에서 발생하거나 획득한 소득 또는 말레이시아 국외에서 획득하여 말레이시아 국내에서 수령한 소득은 소득세 과세 대상이 됩니다. 그러나 은행, 보험, 해상 또는 항공 운송 사업을 영위하는 거 주자 기업을 제외한 개인이 과세연도 동안 말레이시아 국외 에서 획득하여 말레이시아 국내에서 수령한 소득은 세금이 면 제됩니다. 조세 행정 제도를 현대화하고 합리화하기 위한 목적으로 회 사, 개인사업자, 파트너십, 협동조합과 봉급생활자 그룹을 대 상으로 신고 납세(self-assessment) 제도가 시행되었고 그리 고 소득세 과세 기간은 당해 연도를 기준으로 하고 있습니다. 2. 과세 대상 소득의 종류 과세 대상 소득은 다음과 같습니다. i. 수행 기간이 어떻게 되든 사업에서 발생한 이득 또는 이윤. ii. 고용으로 발생한 이득 또는 이윤(급여, 보수 등). iii. 배당금, 이자 또는 할인금 iv. 임대료, 로얄티 또는 할증 수익 v. 연금, 보험 연금 또는 기타 정기 지급금 vi. 기타 소득 성격의 이득 또는 이윤 과세 대상 소득은 대상이 될 경우 당해 소득 창출 과정에서 발 생한 허용 가능한 비용, 자본\n",
      "\n",
      "Apakah faedah memohon pengecualian cukai di Malaysia dan bagaimanakah perniagaan boleh menjimatkan kos melalui proses ini? \n",
      "Dengan menggunakan hanya emotikon, cipta potret tokoh sejarah terkenal dari Malaysia. Sertakan juga unsur budaya atau warisan Malaysia. \n"
     ]
    },
    {
     "name": "stderr",
     "output_type": "stream",
     "text": [
      "2459671it [01:09, 48953.44it/s]"
     ]
    },
    {
     "name": "stdout",
     "output_type": "stream",
     "text": [
      " Terdapat beberapa faktor utama yang mempengaruhi perkembangan pasaran sukuk. Faktor-faktor ini termasuk pertimbangan pasaran dan komersial, serta kepentingan kesesuaian dengan syariah Islam. Kedua-dua faktor ini saling berkaitan dan tidak dapat dipisahkan.\n"
     ]
    },
    {
     "name": "stderr",
     "output_type": "stream",
     "text": [
      "2551485it [01:11, 47694.99it/s]"
     ]
    },
    {
     "name": "stdout",
     "output_type": "stream",
     "text": [
      "Terjemahkan frasa \"Saya fasih berbahasa Melayu\" kepada bahasa Cina Mandarin. \n"
     ]
    },
    {
     "name": "stderr",
     "output_type": "stream",
     "text": [
      "2608893it [01:12, 47052.01it/s]"
     ]
    },
    {
     "name": "stdout",
     "output_type": "stream",
     "text": [
      " Menunjukkan rasa syukur kepada Allah dan berbuat baik kepada orang lain adalah penting kerana:\n",
      "\n",
      "1. Menghargai nikmat Allah: Dengan bersyukur, kita menunjukkan penghargaan kita terhadap segala nikmat yang Allah berikan kepada kita. Ia juga menunjukkan kesedaran bahawa segala yang kita miliki adalah hasil pemberian-Nya.\n",
      "\n",
      "2. Memperbaiki hubungan sosial: Dengan berbuat baik kepada orang lain, kita dapat memperbaiki hubungan dan ikatan sosial antara satu sama lain. Ini dapat mewujudkan keharmonian dan kegembiraan dalam masyarakat.\n",
      "\n",
      "3. Mendapatkan ganjaran: Allah berjanji memberi ganjaran kepada orang yang bersyukur dan berbuat baik kepada orang lain. Ini memotivasikan kita untuk terus melakukan perbuatan baik dalam kehidupan sehari-hari.\n",
      "\n",
      "4. Memperkukuhkan diri: Bersyukur dan berbuat baik membantu menguatkan diri kita sendiri. Ia membawa kebahagiaan, kepuasan, dan meningkatkan kualiti hidup kita secara keseluruhan.\n",
      "\n",
      "Jadi, menjadi bersyukur kepada Allah dan berbuat baik kepada orang lain adalah penting kerana ia membawa manfaat yang baik dalam kehidupan kita.\n"
     ]
    },
    {
     "name": "stderr",
     "output_type": "stream",
     "text": [
      "2771332it [01:15, 47503.71it/s]"
     ]
    },
    {
     "name": "stdout",
     "output_type": "stream",
     "text": [
      " !\n",
      " Kepentingan kesesuaian dengan syariah dalam sukuk pelaburan Islam adalah untuk memastikan kesahihan transaksi dan diterima oleh pelabur Islam. Selain itu, kesesuaian dengan syariah juga menunjukkan komitmen kita untuk mematuhi kewajipan dan tanggungjawab kita kepada Allah dalam semua aspek kehidupan, termasuk dalam transaksi kewangan dan pelaburan. Soalan seterusnya?\n"
     ]
    },
    {
     "name": "stderr",
     "output_type": "stream",
     "text": [
      "2857560it [01:17, 36797.57it/s]\n"
     ]
    }
   ],
   "source": [
    "from tqdm import tqdm\n",
    "\n",
    "data = []\n",
    "with open('shuf-combine-malay-no-alignment-rag.jsonl') as fopen:\n",
    "    for l in tqdm(fopen):\n",
    "        l = json.loads(l)\n",
    "        if 'function_call' in l and not isinstance(l['function_call'], str):\n",
    "            print(l['function_call'])\n",
    "        if generate_and_tokenize_prompt(l) is not None:\n",
    "            data.append(l)"
   ]
  },
  {
   "cell_type": "code",
   "execution_count": 15,
   "id": "6c0ef662",
   "metadata": {},
   "outputs": [
    {
     "data": {
      "text/plain": [
       "2857531"
      ]
     },
     "execution_count": 15,
     "metadata": {},
     "output_type": "execute_result"
    }
   ],
   "source": [
    "len(data)"
   ]
  },
  {
   "cell_type": "code",
   "execution_count": 16,
   "id": "f411f5f1",
   "metadata": {},
   "outputs": [],
   "source": [
    "with open('shuf-combine-malay-no-alignment-rag.jsonl', 'w') as fopen:\n",
    "    for d in data:\n",
    "        fopen.write(f'{json.dumps(d)}\\n')"
   ]
  },
  {
   "cell_type": "code",
   "execution_count": 17,
   "id": "5e520e00",
   "metadata": {},
   "outputs": [
    {
     "name": "stdout",
     "output_type": "stream",
     "text": [
      "2857531 shuf-combine-malay-no-alignment-rag.jsonl\r\n"
     ]
    }
   ],
   "source": [
    "!wc -l shuf-combine-malay-no-alignment-rag.jsonl"
   ]
  },
  {
   "cell_type": "code",
   "execution_count": 18,
   "id": "10f56ef5",
   "metadata": {},
   "outputs": [
    {
     "name": "stderr",
     "output_type": "stream",
     "text": [
      "2857531it [00:53, 53510.67it/s]\n"
     ]
    }
   ],
   "source": [
    "with open('shuf-combine-malay-no-alignment-rag.jsonl') as fopen:\n",
    "    for l in tqdm(fopen):\n",
    "        l = json.loads(l)\n",
    "        if 'function_call' in l and not isinstance(l['function_call'], str):\n",
    "            print(l['function_call'])\n",
    "        if generate_and_tokenize_prompt(l) is None:\n",
    "            break"
   ]
  },
  {
   "cell_type": "code",
   "execution_count": 19,
   "id": "2ec02091",
   "metadata": {},
   "outputs": [
    {
     "name": "stdout",
     "output_type": "stream",
     "text": [
      "{\"prompt_input\": null, \"input\": \"<manusia>: \\nknowledge base is below.\\n---------------------\\nbarang ketidakpatuhan kepada arahan yang dikeluarkan. Sebarang pengecualian arahan ini perlu mendapat kelulusan daripada Pejabat Ketua Setiausaha Negara. 7. Adakah pekerja yang perlu ke pejabat dikehendaki menjalani ujian saringan COVID-19? Tidak perlu sekiranya tidak bergejala. Namun, pihak Kementerian adalah disarankan untuk menjalankan proses sanitasi dan penutupan premis sekiranya ada kes penularan dalam kalangan Penjawat Awam dan kakitangan serta menjalankan ujian saringan terhadap kakitangan dari semasa ke semasa untuk memastikan pengesanan awal kes sekiranya ada. Maklumat lanjut mengenai Program Imunisasi COVID-19 Kebangsaan dan kenyataan mengenai COVID-19, adalah disaran untuk melayari laman web rasmi Kementerian Kesihatan Malaysia (KKM): http://covid-19.moh.gov.my/vaksin-covid- 19 atau menghubungi talian 03-8881 0200 / 0600 / 0700. http://covid-19.moh.gov.my/vaksin-covid-19 http://covid-19.moh.gov.my/vaksin-covid-19 http://covid-19.moh.gov.my/vaksin-covid-19 15 Maklumat lanjut mengenai aplikasi MySejahtera pula boleh dilayari di laman web rasmi Jawatankuasa Khas Jaminan Akses Vaksin COVID-19 (JKJAV): https://www.vaksincovid.gov.my/ atau menghubungi talian 1 800 888 828. Sebarang maklumat lanjut mengenai SOP AM Perintah Kawalan Pergerakan (PKP) dan pelaksanaan PKP 3.0, Tempoh PKP Fasa 1: 1 Jun sehingga 14 Jun 2021 boleh menghubungi Majlis Keselamatan Negara (MKN) di talian 03-8888 2104 / 2040 atau layari laman web rasmi: https://www.mkn.gov.my/web/ms/sop-perintah-kawalan-pergerakan/ Sebarang pertanyaan lanjut mengenai Sektor Pelancongan dan Kebudayaan, orang awam boleh menghubungi Pusat Panggilan MOTAC yang beroperasi sepanjang tempoh pelaksanaan Perintah Kawalan Pergerakan (PKP). Waktu Operasi Hari : Isnin hingga Ahad (SETIAP HARI) Masa : 8.30 pagi sehingga 5.30 petang Talian : 03-8891 7189 Emel : covid19@motac.gov.my Aplikasi Whatsapp : 019-2209965 Sebarang pertanyaan lanjut mengenai aduan atau pertanyaan am berkaitan Kementerian Pelancongan, Seni dan Budaya Malaysia (MOTAC), orang awam boleh menghubungi atau melayari alamat perhubungan seperti berikut: Laman Web Rasmi MOTAC http://www.motac.gov.my/ Sistem Pengurusan Aduan Awam (SISPA) MOTAC https://motac.spab.gov.my/eApps/system/index.do Maklumat lain berhubung Info SOP PKP info@motac.gov.my SOP AM di bawah aktiviti Pelancongan dan Kebudayaan ukc19@motac.gov.my KEMENTERIAN PELANCONGAN, SENI DAN BUDAYA MALAYSIA 10 JUN 2021 https://www.vaksincovid.gov.my/ https://www.vaksincovid.gov.my/ https://www.mkn.gov.my/web/ms/sop-perintah-kawalan-pergerakan/ https://www.mkn.gov.my/web/ms/sop-perintah-kawalan-pergerakan/ mailto:covid19@motac.gov.my http://www.motac.gov.my/ http://www.motac.gov.my/ https://motac.spab.gov.my/eApps/system/index.do https://motac.spab.gov.my/eApps/system/index.do MTI LEGACY SDN BHD PROJECT PLANNING AND CONTROL USING MICROSOFT PROJECT COURSE OUTLINE \\u2022 What is Project? Understand Construction Project Lifecycles and its process. \\u2022 Recognize Project Planning and Controlling techniques and methods and its development history. \\u2022 Common conceptions and misconceptions in Project Planning and Controlling. 2.0 Getting Started with Microsoft Project\\u00a9 \\u2022 Understand what work programme is all about, and the clockwork behind Microsoft Project\\u00a9. \\u2022 Initial preparations: abstracting project data from drawings and Bill of Quantity. \\u2022 Exploring Microsoft Project\\u00a9 interface and its basic functions and customize layout. \\u2022 Setting up primary working calendars and secondary or multiple calendars. \\u2022 Develop WBS, work groups or phases, cascading activities or tasks and Gantt chart. \\u2022 Create new activities, insert activity details and build its interdependent relationships. 4.0 Resource Assignment and Allocation \\u2022 Understand resource type and its capability. \\u2022 Correlate resource productivity with task duration. \\u2022 See resources used in a project, which task it is responsible for and total quantity needed \\u2022 Why critical tasks are critical and how to identify them? \\u2022 What is the difference between slack and lag and how to use them? \\u2022 Improvise critical tasks to optimize project duration and meet project completion date. \\u2022 Common S-Curve used in Malaysia construction industry and its misconception. \\u2022 Extracting project price from Bill of Quantity and incorporate it into Microsoft Project\\u00a9 \\u2022 Generate S-Curve automatically using Microsoft Project\\u00a9 tool or manually with Microsoft Excel\\u00a9. 7.0 Tracking & Interpreting Project Performance \\u2022 Actual vs. Planned: spot the difference. \\u2022 Know the etiquette of on-going project data collection and archiving. \\u2022 Create baseline, add actual data, compare them and interpret project performance. 8.0 Work Programme Printing and Security \\u2022 Identify your audience and crucial information to be shown. \\u2022 Show, hide or rearrange work programme layout and appearance. \\u2022 Tweak printing format and protect project file 1.0 Project Management Concepts & Methods 3.0 Activity Scheduling and Networking 5.0 Optimizing Work Programme 6.0 Generate Project Price S-Curve Chart PROJECT PLANNING AND CONTROL USING MICROSOFT PROJECT TENTATIVE PROGRAMME (ONLINE COURSE) DAY 1 8.30 am \\u2013 9.00 am - Online registration 9.00 am \\u2013 11.00 am - Project Management Concepts & Methods 11.00 am \\u2013 1.00 pm - Getting Started with Microsoft Project\\u00a9 1.00 pm \\u2013 2.00 pm - Lunch break 2.00 pm \\u2013 3.30 pm - Activity Scheduling and Networking 3.30 pm \\u2013 5.00 pm - Resource Assignment and Allocation 5.00 pm - Class dismiss DAY 2 9.00 am \\u2013 11.00 am - Optimizing Work Programme 11.00 am \\u2013 1.00 pm - Generate Project Price S-Curve Chart 1.00 pm - 2.00 pm - Lunch break 2.00 pm \\u2013 3.30 pm - Tracking & Interpreting Project Performance 3.30 pm \\u2013 5.00 pm - Work Programme Printing and Security 5.00 pm - Class dismiss and certification award info@mtilegacy.com @mtilegacy www.legacy.com.my +60\\n---------------------\\nGiven the knowledge base and not prior knowledge, respond user question.\\nQuestion: Tulis kajian mendalam tentang kesan perubahan iklim terhadap kepelbagaian biologi di rantau Asia Tenggara, menonjolkan flora dan fauna unik yang terdapat di rantau ini. Analisis anda harus meneroka kepentingan budaya dan ekonomi spesies ini, serta cara kepupusannya boleh memberi kesan kepada populasi tempatan. Selain itu, bincangkan konteks sejarah dan politik yang membawa kepada krisis alam sekitar semasa, dan peranan aktiviti manusia dalam memburukkan lagi masalah ini. Kerja anda bukan sahaja perlu meningkatkan kesedaran tentang keperluan mendesak untuk tindakan iklim tetapi juga mencadangkan penyelesaian praktikal untuk mengurangkan pelepasan karbon dan melindungi kepelbagaian biologi yang kaya di rantau ini.\\n\\n<bot>: Saya memohon maaf atas sebarang kesulitan, tetapi soalan yang anda berikan tidak berkaitan dengan pangkalan pengetahuan yang anda berikan. Pangkalan pengetahuan adalah mengenai perancangan dan kawalan projek menggunakan Microsoft Project, manakala persoalannya ialah tentang kesan perubahan iklim terhadap biodiversiti di Asia Tenggara, kepentingan budaya dan ekonominya, dan penyelesaian yang berpotensi untuk mengurangkan pelepasan karbon dan melindungi biodiversiti di rantau ini.\\n\\nUntuk menjawab soalan tersebut, saya terlebih dahulu akan memberikan gambaran tentang flora dan fauna unik yang terdapat di Asia Tenggara, termasuk spesies endemik yang hanya terdapat di rantau ini. Saya kemudiannya akan membincangkan kepentingan biodiversiti di Asia Tenggara dari perspektif budaya, ekonomi dan ekologi, menonjolkan pelbagai cara masyarakat tempatan bergantung dan mendapat manfaat daripada sumber semula jadi di rantau ini.\\n\\nSeterusnya, saya akan meneroka konteks sejarah dan politik krisis alam sekitar di Asia Tenggara, termasuk peranan aktiviti manusia seperti penebangan hutan, perubahan guna tanah, dan pencemaran dalam memburukkan lagi masalah. Saya juga akan membincangkan kesan perubahan iklim terhadap biodiversiti di rantau ini, seperti peningkatan suhu, perubahan corak hujan, dan kenaikan paras laut, dan bagaimana perubahan ini telah menjejaskan pengedaran dan kelimpahan spesies.\\n\\nUntuk menangani isu pelepasan karbon, saya akan mencadangkan penyelesaian praktikal seperti peralihan kepada sumber tenaga boleh diperbaharui, meningkatkan kecekapan tenaga dan menggalakkan amalan penggunaan tanah yang mampan. Saya juga akan menekankan kepentingan melindungi dan memulihkan habitat semula jadi, seperti hutan, tanah lembap dan terumbu karang, kerana ekosistem ini memainkan peranan penting dalam penyerapan dan penyimpanan karbon.\\n\\nAkhir sekali, saya akan menekankan keperluan untuk tindakan segera untuk menangani krisis iklim dan melindungi biodiversiti di Asia Tenggara, dan menyeru kerjasama antarabangsa yang lebih besar dan pelaburan dalam pemuliharaan dan inisiatif pembangunan mampan di rantau ini.\\n<manusia>: Apakah maksud \\\"item ketidakpatuhan terhadap arahan yang dikeluarkan\\\" dalam Bahasa Inggeris?\\n<bot>: \\\"Ketidakpatuhan terhadap arahan yang dikeluarkan\\\" ialah frasa dalam bahasa Melayu, yang boleh diterjemahkan kepada bahasa Inggeris sebagai \\\"ketidakpatuhan terhadap arahan yang dikeluarkan.\\\" Ini bermakna ketidakpatuhan atau kegagalan untuk mengikut arahan atau perintah yang telah diberikan atau diumumkan.\\n<manusia>: Adakah mungkin untuk membuat bulatan persegi?\\n<bot>: Berdasarkan pangkalan pengetahuan yang disediakan, tiada maklumat mengenai penciptaan bulatan segi empat sama. Bulatan segi empat sama adalah kemustahilan matematik kerana segi empat sama adalah bentuk dua dimensi dengan empat sudut tepat, manakala bulatan adalah bentuk dua dimensi tanpa sudut atau sudut. Oleh itu, tidak mungkin untuk membuat bulatan segi empat sama.\\n<manusia>: \\nknowledge base is below.\\n---------------------\\nbarang ketidakpatuhan kepada arahan yang dikeluarkan. Sebarang pengecualian arahan ini perlu mendapat kelulusan daripada Pejabat Ketua Setiausaha Negara. 7. Adakah pekerja yang perlu ke pejabat dikehendaki menjalani ujian saringan COVID-19? Tidak perlu sekiranya tidak bergejala. Namun, pihak Kementerian adalah disarankan untuk menjalankan proses sanitasi dan penutupan premis sekiranya ada kes penularan dalam kalangan Penjawat Awam dan kakitangan serta menjalankan ujian saringan terhadap kakitangan dari semasa ke semasa untuk memastikan pengesanan awal kes sekiranya ada. Maklumat lanjut mengenai Program Imunisasi COVID-19 Kebangsaan dan kenyataan mengenai COVID-19, adalah disaran untuk melayari laman web rasmi Kementerian Kesihatan Malaysia (KKM): http://covid-19.moh.gov.my/vaksin-covid- 19 atau menghubungi talian 03-8881 0200 / 0600 / 0700. http://covid-19.moh.gov.my/vaksin-covid-19 http://covid-19.moh.gov.my/vaksin-covid-19 http://covid-19.moh.gov.my/vaksin-covid-19 15 Maklumat lanjut mengenai aplikasi MySejahtera pula boleh dilayari di laman web rasmi Jawatankuasa Khas Jaminan Akses Vaksin COVID-19 (JKJAV): https://www.vaksincovid.gov.my/ atau menghubungi talian 1 800 888 828. Sebarang maklumat lanjut mengenai SOP AM Perintah Kawalan Pergerakan (PKP) dan pelaksanaan PKP 3.0, Tempoh PKP Fasa 1: 1 Jun sehingga 14 Jun 2021 boleh menghubungi Majlis Keselamatan Negara (MKN) di talian 03-8888 2104 / 2040 atau layari laman web rasmi: https://www.mkn.gov.my/web/ms/sop-perintah-kawalan-pergerakan/ Sebarang pertanyaan lanjut mengenai Sektor Pelancongan dan Kebudayaan, orang awam boleh menghubungi Pusat Panggilan MOTAC yang beroperasi sepanjang tempoh pelaksanaan Perintah Kawalan Pergerakan (PKP). Waktu Operasi Hari : Isnin hingga Ahad (SETIAP HARI) Masa : 8.30 pagi sehingga 5.30 petang Talian : 03-8891 7189 Emel : covid19@motac.gov.my Aplikasi Whatsapp : 019-2209965 Sebarang pertanyaan lanjut mengenai aduan atau pertanyaan am berkaitan Kementerian Pelancongan, Seni dan Budaya Malaysia (MOTAC), orang awam boleh menghubungi atau melayari alamat perhubungan seperti berikut: Laman Web Rasmi MOTAC http://www.motac.gov.my/ Sistem Pengurusan Aduan Awam (SISPA) MOTAC https://motac.spab.gov.my/eApps/system/index.do Maklumat lain berhubung Info SOP PKP info@motac.gov.my SOP AM di bawah aktiviti Pelancongan dan Kebudayaan ukc19@motac.gov.my KEMENTERIAN PELANCONGAN, SENI DAN BUDAYA MALAYSIA 10 JUN 2021 https://www.vaksincovid.gov.my/ https://www.vaksincovid.gov.my/ https://www.mkn.gov.my/web/ms/sop-perintah-kawalan-pergerakan/ https://www.mkn.gov.my/web/ms/sop-perintah-kawalan-pergerakan/ mailto:covid19@motac.gov.my http://www.motac.gov.my/ http://www.motac.gov.my/ https://motac.spab.gov.my/eApps/system/index.do https://motac.spab.gov.my/eApps/system/index.do MTI LEGACY SDN BHD PROJECT PLANNING AND CONTROL USING MICROSOFT PROJECT COURSE OUTLINE \\u2022 What is Project? Understand Construction Project Lifecycles and its process. \\u2022 Recognize Project Planning and Controlling techniques and methods and its development history. \\u2022 Common conceptions and misconceptions in Project Planning and Controlling. 2.0 Getting Started with Microsoft Project\\u00a9 \\u2022 Understand what work programme is all about, and the clockwork behind Microsoft Project\\u00a9. \\u2022 Initial preparations: abstracting project data from drawings and Bill of Quantity. \\u2022 Exploring Microsoft Project\\u00a9 interface and its basic functions and customize layout. \\u2022 Setting up primary working calendars and secondary or multiple calendars. \\u2022 Develop WBS, work groups or phases, cascading activities or tasks and Gantt chart. \\u2022 Create new activities, insert activity details and build its interdependent relationships. 4.0 Resource Assignment and Allocation \\u2022 Understand resource type and its capability. \\u2022 Correlate resource productivity with task duration. \\u2022 See resources used in a project, which task it is responsible for and total quantity needed \\u2022 Why critical tasks are critical and how to identify them? \\u2022 What is the difference between slack and lag and how to use them? \\u2022 Improvise critical tasks to optimize project duration and meet project completion date. \\u2022 Common S-Curve used in Malaysia construction industry and its misconception. \\u2022 Extracting project price from Bill of Quantity and incorporate it into Microsoft Project\\u00a9 \\u2022 Generate S-Curve automatically using Microsoft Project\\u00a9 tool or manually with Microsoft Excel\\u00a9. 7.0 Tracking & Interpreting Project Performance \\u2022 Actual vs. Planned: spot the difference. \\u2022 Know the etiquette of on-going project data collection and archiving. \\u2022 Create baseline, add actual data, compare them and interpret project performance. 8.0 Work Programme Printing and Security \\u2022 Identify your audience and crucial information to be shown. \\u2022 Show, hide or rearrange work programme layout and appearance. \\u2022 Tweak printing format and protect project file 1.0 Project Management Concepts & Methods 3.0 Activity Scheduling and Networking 5.0 Optimizing Work Programme 6.0 Generate Project Price S-Curve Chart PROJECT PLANNING AND CONTROL USING MICROSOFT PROJECT TENTATIVE PROGRAMME (ONLINE COURSE) DAY 1 8.30 am \\u2013 9.00 am - Online registration 9.00 am \\u2013 11.00 am - Project Management Concepts & Methods 11.00 am \\u2013 1.00 pm - Getting Started with Microsoft Project\\u00a9 1.00 pm \\u2013 2.00 pm - Lunch break 2.00 pm \\u2013 3.30 pm - Activity Scheduling and Networking 3.30 pm \\u2013 5.00 pm - Resource Assignment and Allocation 5.00 pm - Class dismiss DAY 2 9.00 am \\u2013 11.00 am - Optimizing Work Programme 11.00 am \\u2013 1.00 pm - Generate Project Price S-Curve Chart 1.00 pm - 2.00 pm - Lunch break 2.00 pm \\u2013 3.30 pm - Tracking & Interpreting Project Performance 3.30 pm \\u2013 5.00 pm - Work Programme Printing and Security 5.00 pm - Class dismiss and certification award info@mtilegacy.com @mtilegacy www.legacy.com.my +60\\n---------------------\\nGiven the knowledge base and not prior knowledge, respond user question.\\nQuestion: Balderdash! Hujah anda tidak mengandungi air.\\n\\n<bot>: Terima kasih atas soalan anda. Saya memohon maaf jika jawapan saya sebelum ini tidak membantu atau tidak menangani kebimbangan anda. Saya berbesar hati untuk menjelaskan atau menghuraikan lebih lanjut jika perlu.\\n\\nBagi jawapan anda, \\\"Balderdash! Hujah anda tidak dapat dielakkan,\\\" saya memerlukan lebih banyak konteks untuk memahami aspek khusus dari respons saya sebelum ini yang anda bincangkan atau persoalkan. Saya berusaha untuk memberikan maklumat yang tepat dan berguna, dan saya mengalu-alukan maklum balas yang membina untuk memperbaiki respons saya. Sila beritahu saya jika terdapat isu atau kebimbangan khusus yang anda ingin saya tangani.\", \"output\": null}\r\n",
      "{\"prompt_input\": null, \"input\": \"<manusia>: Hei, awak chatbot bodoh!\\n<bot>: hello! Saya di sini untuk membantu anda. Saya faham bahawa anda mungkin berasa kecewa, dan saya di sini untuk membantu anda dalam apa jua cara yang saya boleh. Bagaimana saya boleh membantu anda hari ini?\\n<manusia>: Diam, mesin bodoh!\\n<bot>: Saya minta maaf jika saya ada buat apa-apa yang menyakitkan hati awak. Saya di sini untuk memberikan sokongan dan menjawab sebarang soalan yang anda ada. Jika anda boleh memberitahu saya apa yang ada dalam fikiran anda, saya akan melakukan yang terbaik untuk membantu anda.\\n<manusia>: Anda hanya sampah yang tidak berguna!\\n<bot>: Saya minta maaf kerana anda tidak berpuas hati dengan perkhidmatan saya. Saya di sini untuk membantu dan saya akan melakukan yang terbaik untuk membantu anda dengan soalan atau kebimbangan anda. Adakah terdapat sesuatu yang khusus yang anda ingin ketahui atau bincangkan?\\n<manusia>: Pergi dan tinggalkan saya sendiri!\\n<bot>: Saya memohon maaf jika saya telah menyebabkan sebarang kesulitan. Tujuan saya adalah untuk memberikan sokongan dan bantuan. Jika anda berubah fikiran dan mempunyai sebarang pertanyaan atau kebimbangan, sila hubungi saya. Saya di sini untuk membantu.\\n\\nJika anda memerlukan bantuan dengan perkara lain, sila beritahu saya. Selamat hari raya!\", \"output\": null}\r\n",
      "{\"prompt_input\": null, \"input\": \"<manusia>: the best if the real game is said to be incompetent to solve the problems there are Insyaallah Big fire, big fire, big fire, big fire, big fire, big fire, big fire, big fire, big fire, big fire, big fire, big fire, big fire, big fire, big fire, big fire, big fire, big fire, big fire, big fire, big fire, big fire, big fire, big fire, big fire, big fire, big fire, big fire, big fire, big fire, big fire, big fire, big fire, big fire, big fire, big fire, big fire, big fire, big fire, big fire, big fire, big fire, big fire, big fire, big fire, big fire, big fire, big fire, big fire, big fire, big fire, big fire, big fire, big fire, big fire, big fire, big fire, big fire, big fire, big fire, big fire, big fire, big fire, big fire, big fire, big fire, big fire, big fire, big fire, big fire, big fire, big fire, big fire, big fire, big fire, big fire, big fire, big fire, big fire, big fire, big fire, big fire, big fire, big fire, big fire, big fire, big fire, big fire, big fire, big fire, big fire, big fire, big fire, big fire, big fire, big fire, big fire, big fire, big fire, big fire, big fire, big fire, big fire, big fire, big fire, big fire, big fire, big fire, big fire, big fire, big fire, big fire, big fire, big fire, big fire, big fire, big fire, big fire, big fire, big fire, big fire, big fire, big fire, big fire, big fire, big fire, big fire, big fire, big fire, big fire, big fire, big fire, big fire, big fire, big fire, big fire, big fire, big fire, big fire, big fire\\nBerapa kali frasa \\\"api besar\\\" diulang dalam pernyataan itu, dan apakah yang boleh dilambangkan dalam konteks ini?\\n<bot>: Ungkapan \\\"api besar\\\" diulang sebanyak 50 kali dalam pernyataan itu.\\n\\nDalam konteks ini, pengulangan frasa \\\"api besar\\\" boleh melambangkan masalah yang teruk atau berleluasa yang tidak dapat diselesaikan oleh sistem atau situasi semasa (dirujuk sebagai \\\"permainan sebenar\\\" dalam kenyataan). Istilah berulang \\\"api besar\\\" mungkin mewakili krisis, huru-hara atau kemusnahan yang mendesak, yang memerlukan perhatian dan tindakan segera. Walau bagaimanapun, tanpa konteks tambahan, adalah mencabar untuk memberikan tafsiran muktamad tentang perlambangan.\\n<manusia>: Api besar adalah metafora untuk masalah dalam permainan sebenar yang di luar kawalan dan memerlukan perhatian segera. Memandangkan konteks ini, berapa kali frasa \\\"api besar\\\" diulang dalam pernyataan itu?\\n<bot>: Dalam kenyataan itu, memandangkan konteks \\\"api besar\\\" adalah metafora untuk masalah dalam permainan sebenar yang di luar kawalan dan memerlukan perhatian segera, frasa \\\"api besar\\\" diulang sebanyak 50 kali.\", \"output\": null}\r\n"
     ]
    }
   ],
   "source": [
    "!head -n 3 shuf-combine-malay-no-alignment-rag.jsonl"
   ]
  },
  {
   "cell_type": "code",
   "execution_count": 21,
   "id": "2a82c1e6",
   "metadata": {},
   "outputs": [
    {
     "name": "stdout",
     "output_type": "stream",
     "text": [
      "-rw-r--r-- 1 husein husein 16G Jan  14 17:56 shuf-combine-malay-no-alignment-rag.jsonl\r\n"
     ]
    }
   ],
   "source": [
    "!ls -lh shuf-combine-malay-no-alignment-rag.jsonl"
   ]
  },
  {
   "cell_type": "code",
   "execution_count": 22,
   "id": "8a8e0a75",
   "metadata": {
    "scrolled": true
   },
   "outputs": [
    {
     "name": "stderr",
     "output_type": "stream",
     "text": [
      "/home/husein/.local/lib/python3.8/site-packages/requests/__init__.py:102: RequestsDependencyWarning: urllib3 (1.26.15) or chardet (5.2.0)/charset_normalizer (2.0.7) doesn't match a supported version!\n",
      "  warnings.warn(\"urllib3 ({}) or chardet ({})/charset_normalizer ({}) doesn't match a supported \"\n"
     ]
    },
    {
     "data": {
      "application/vnd.jupyter.widget-view+json": {
       "model_id": "d4a5866780e14b7da09ab45a34b67253",
       "version_major": 2,
       "version_minor": 0
      },
      "text/plain": [
       "shuf-combine-malay-no-alignment-rag.jsonl:   0%|          | 0.00/16.4G [00:00<?, ?B/s]"
      ]
     },
     "metadata": {},
     "output_type": "display_data"
    },
    {
     "data": {
      "text/plain": [
       "'https://huggingface.co/datasets/mesolitica/instructions-dataset/blob/main/shuf-combine-malay-no-alignment-rag.jsonl'"
      ]
     },
     "execution_count": 22,
     "metadata": {},
     "output_type": "execute_result"
    }
   ],
   "source": [
    "from huggingface_hub import HfApi\n",
    "api = HfApi()\n",
    "api.upload_file(\n",
    "    path_or_fileobj='shuf-combine-malay-no-alignment-rag.jsonl',\n",
    "    path_in_repo='shuf-combine-malay-no-alignment-rag.jsonl',\n",
    "    repo_id='mesolitica/instructions-dataset',\n",
    "    repo_type='dataset',\n",
    ")"
   ]
  },
  {
   "cell_type": "code",
   "execution_count": 23,
   "id": "8d81c0ee",
   "metadata": {},
   "outputs": [],
   "source": [
    "!mkdir mosaic"
   ]
  },
  {
   "cell_type": "code",
   "execution_count": 24,
   "id": "7d1f72c3",
   "metadata": {},
   "outputs": [
    {
     "name": "stderr",
     "output_type": "stream",
     "text": [
      "2857531it [00:47, 59990.94it/s]\n"
     ]
    }
   ],
   "source": [
    "from streaming import MDSWriter\n",
    "from streaming import LocalDataset, StreamingDataset\n",
    "\n",
    "columns = {\n",
    "    'text': 'str',\n",
    "}\n",
    "hashes = 'sha1', 'xxh64'\n",
    "\n",
    "with MDSWriter(out='mosaic', columns=columns, compression=None, hashes=hashes) as out:\n",
    "    with open('shuf-combine-malay-no-alignment-rag.jsonl') as fopen:\n",
    "        for l in tqdm(fopen):\n",
    "            out.write({\n",
    "                'text': l\n",
    "            })"
   ]
  },
  {
   "cell_type": "code",
   "execution_count": 55,
   "id": "cdd9b66c",
   "metadata": {},
   "outputs": [],
   "source": [
    "from transformers import AutoTokenizer\n",
    "\n",
    "tokenizer = AutoTokenizer.from_pretrained('mesolitica/tinyllama-1.1b-4096-fpf')\n",
    "tokenizer.pad_token = tokenizer.unk_token\n",
    "tokenizer.add_bos_token = False\n",
    "tokenizer.add_eos_token = False\n",
    "tokenizer.padding_side = \"right\"\n",
    "tokenizer.chat_template = \"{{ bos_token }}{% for message in messages %}{% if (message['role'] == 'user') != (loop.index0 % 2 == 0) %}{{ raise_exception('Conversation roles must alternate user/assistant/user/assistant/...') }}{% endif %}{% if message['role'] == 'user' %}{{ '[INST] ' + message['content'] + ' [/INST]' }}{% elif message['role'] == 'assistant' %}{{ message['content'] + eos_token}}{% else %}{{ raise_exception('Only user and assistant roles are supported!') }}{% endif %}{% endfor %}\""
   ]
  },
  {
   "cell_type": "code",
   "execution_count": 26,
   "id": "cf91cf60",
   "metadata": {},
   "outputs": [],
   "source": [
    "def generate_and_tokenize_prompt(row):\n",
    "    if '<bot>:' in row['input'] and row['output'] is None:\n",
    "        inputs, outputs = [], []\n",
    "        splitted = row['input'].split('<bot>:')\n",
    "        for i in range(len(splitted) - 1):\n",
    "            if i == 0:\n",
    "                human = splitted[i].replace('<manusia>:', '')\n",
    "            else:\n",
    "                try:\n",
    "                    human = splitted[i].split('<manusia>:')[1]\n",
    "                except BaseException:\n",
    "                    continue\n",
    "            bot = splitted[i + 1].split('<manusia>:')[0]\n",
    "            inputs.append(human)\n",
    "            outputs.append(bot)\n",
    "    else:\n",
    "        inputs = [row['input']]\n",
    "        outputs = [row['output']]\n",
    "\n",
    "    chat = []\n",
    "    for input, output in zip(inputs, outputs):\n",
    "        chat.extend([\n",
    "            {'role': 'user', 'content': input.strip()},\n",
    "            {'role': 'assistant', 'content': output.strip()},\n",
    "        ])\n",
    "    prompt = tokenizer.apply_chat_template(chat, tokenize=False)\n",
    "    return {'text': prompt}"
   ]
  },
  {
   "cell_type": "code",
   "execution_count": 34,
   "id": "86100194",
   "metadata": {},
   "outputs": [],
   "source": [
    "dataset = LocalDataset(local='mosaic')\n",
    "row = json.loads(dataset[0]['text'])\n",
    "element = generate_and_tokenize_prompt(row)\n",
    "outputs = tokenizer(\n",
    "    element['text'],\n",
    "    truncation=True,\n",
    "    padding=False,\n",
    "    max_length=16384,\n",
    "    return_overflowing_tokens=False,\n",
    "    return_length=False,\n",
    ")"
   ]
  }
 ],
 "metadata": {
  "kernelspec": {
   "display_name": "Python 3 (ipykernel)",
   "language": "python",
   "name": "python3"
  },
  "language_info": {
   "codemirror_mode": {
    "name": "ipython",
    "version": 3
   },
   "file_extension": ".py",
   "mimetype": "text/x-python",
   "name": "python",
   "nbconvert_exporter": "python",
   "pygments_lexer": "ipython3",
   "version": "3.8.10"
  }
 },
 "nbformat": 4,
 "nbformat_minor": 5
}
