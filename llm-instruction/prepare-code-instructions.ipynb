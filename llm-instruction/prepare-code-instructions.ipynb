{
 "cells": [
  {
   "cell_type": "code",
   "execution_count": 14,
   "metadata": {},
   "outputs": [
    {
     "data": {
      "text/plain": [
       "116982"
      ]
     },
     "execution_count": 14,
     "metadata": {},
     "output_type": "execute_result"
    }
   ],
   "source": [
    "import json\n",
    "from tqdm import tqdm\n",
    "import random\n",
    "\n",
    "data = []\n",
    "with open('/home/husein/ssd3/codecontext/code-instructions.translated.jsonl') as fopen:\n",
    "    for l in fopen:\n",
    "        d = json.loads(l)\n",
    "        input = d['src']['input']\n",
    "        question = d['r']['result']\n",
    "        if len(input):\n",
    "            c = random.randint(0, 1)\n",
    "            if c == 0:\n",
    "                question = f'input `{input}`, {question}',\n",
    "            if c == 1:\n",
    "                question = f'{question}, input `{input}`'\n",
    "                \n",
    "        output = d['src']['output']\n",
    "        \n",
    "        data.append({\n",
    "            'prompt_input': None,\n",
    "            'input': question,\n",
    "            'output': output,\n",
    "        })\n",
    "        \n",
    "len(data)"
   ]
  },
  {
   "cell_type": "code",
   "execution_count": 16,
   "metadata": {},
   "outputs": [],
   "source": [
    "import json\n",
    "\n",
    "with open('prepared-code-instructions.jsonl', 'w') as fopen:\n",
    "    for l in data:\n",
    "        fopen.write(f'{json.dumps(l)}\\n')"
   ]
  }
 ],
 "metadata": {
  "kernelspec": {
   "display_name": "Python 3 (ipykernel)",
   "language": "python",
   "name": "python3"
  },
  "language_info": {
   "codemirror_mode": {
    "name": "ipython",
    "version": 3
   },
   "file_extension": ".py",
   "mimetype": "text/x-python",
   "name": "python",
   "nbconvert_exporter": "python",
   "pygments_lexer": "ipython3",
   "version": "3.8.10"
  }
 },
 "nbformat": 4,
 "nbformat_minor": 4
}
