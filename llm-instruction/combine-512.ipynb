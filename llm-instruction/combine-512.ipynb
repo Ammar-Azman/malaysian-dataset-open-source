{
 "cells": [
  {
   "cell_type": "code",
   "execution_count": 1,
   "metadata": {},
   "outputs": [],
   "source": [
    "from glob import glob\n",
    "import json\n",
    "import random"
   ]
  },
  {
   "cell_type": "code",
   "execution_count": 2,
   "metadata": {},
   "outputs": [],
   "source": [
    "fopen_l = open('combine-512.jsonl', 'w')"
   ]
  },
  {
   "cell_type": "code",
   "execution_count": 3,
   "metadata": {},
   "outputs": [],
   "source": [
    "def accept(d):\n",
    "    if 'terjemahkan teks' in d.lower():\n",
    "        return False\n",
    "\n",
    "    if 'no need to translate' in d.lower():\n",
    "        return False\n",
    "\n",
    "    if 'can be translated' in d.lower():\n",
    "        return False\n",
    "\n",
    "    if 'cannot translate' in d.lower():\n",
    "        return False\n",
    "\n",
    "    if 'should be translated to' in d.lower():\n",
    "        return False\n",
    "\n",
    "    if 'cannot be translated' in d.lower():\n",
    "        return False\n",
    "\n",
    "    if 'standard malay' in d.lower():\n",
    "        return False\n",
    "\n",
    "    if 'would not be translated' in d.lower():\n",
    "        return False\n",
    "\n",
    "    if 'as an AI language model' in d:\n",
    "        return False\n",
    "\n",
    "    if 'should be translated as' in d.lower():\n",
    "        return False\n",
    "\n",
    "    if 'Bahasa Malaysia Standard' in d:\n",
    "        return False\n",
    "    \n",
    "    if d == '<s>':\n",
    "        return False\n",
    "    \n",
    "    if len(d.split()) < 10:\n",
    "        return False\n",
    "    \n",
    "    return True"
   ]
  },
  {
   "cell_type": "code",
   "execution_count": 4,
   "metadata": {},
   "outputs": [],
   "source": [
    "with open('partition-512.jsonl') as fopen:\n",
    "    for l in fopen:\n",
    "        if random.random() < 0.6:\n",
    "            continue\n",
    "        \n",
    "        data = json.loads(l)\n",
    "        if not accept(data['input']):\n",
    "            continue\n",
    "        fopen_l.write(f'{json.dumps(data)}\\n')\n",
    "        fopen_l.flush()"
   ]
  },
  {
   "cell_type": "code",
   "execution_count": 5,
   "metadata": {
    "scrolled": true
   },
   "outputs": [
    {
     "name": "stdout",
     "output_type": "stream",
     "text": [
      "420630 combine-512.jsonl\r\n"
     ]
    }
   ],
   "source": [
    "!wc -l combine-512.jsonl"
   ]
  },
  {
   "cell_type": "code",
   "execution_count": 6,
   "metadata": {},
   "outputs": [],
   "source": [
    "files = [\n",
    "    'prepared-parliament-qa.jsonl',\n",
    "    'prepared-common-crawl-qa.jsonl',\n",
    "    'prepared-gpt4all-code.jsonl',\n",
    "]"
   ]
  },
  {
   "cell_type": "code",
   "execution_count": 7,
   "metadata": {},
   "outputs": [
    {
     "name": "stdout",
     "output_type": "stream",
     "text": [
      "prepared-parliament-qa.jsonl\n",
      "prepared-common-crawl-qa.jsonl\n",
      "prepared-gpt4all-code.jsonl\n"
     ]
    }
   ],
   "source": [
    "for f in files:\n",
    "    print(f)\n",
    "    with open(f) as fopen:\n",
    "        for l in fopen:\n",
    "            try:\n",
    "                if random.random() < 0.7:\n",
    "                    continue\n",
    "\n",
    "                data = json.loads(l)\n",
    "                if not accept(data['input']):\n",
    "                    continue\n",
    "                if not accept(data['output']):\n",
    "                    continue\n",
    "                fopen_l.write(f'{json.dumps(data)}\\n')\n",
    "                fopen_l.flush()\n",
    "            except:\n",
    "                pass"
   ]
  },
  {
   "cell_type": "code",
   "execution_count": 8,
   "metadata": {},
   "outputs": [
    {
     "name": "stdout",
     "output_type": "stream",
     "text": [
      "578560 combine-512.jsonl\r\n"
     ]
    }
   ],
   "source": [
    "!wc -l combine-512.jsonl"
   ]
  },
  {
   "cell_type": "code",
   "execution_count": 9,
   "metadata": {},
   "outputs": [
    {
     "name": "stdout",
     "output_type": "stream",
     "text": [
      "prepared-translation.jsonl\n",
      "prepared-sentiment.jsonl\n",
      "prepared-gpt4all-v1.3-noisy.jsonl\n"
     ]
    }
   ],
   "source": [
    "for f in ['prepared-translation.jsonl', 'prepared-sentiment.jsonl', 'prepared-gpt4all-v1.3-noisy.jsonl']:\n",
    "    print(f)\n",
    "    with open(f) as fopen:\n",
    "        for l in fopen:\n",
    "            try:\n",
    "                if random.random() < 0.6:\n",
    "                    continue\n",
    "\n",
    "                data = json.loads(l)\n",
    "                if not accept(data['input']):\n",
    "                    continue\n",
    "                if not accept(data['output']):\n",
    "                    continue\n",
    "                fopen_l.write(f'{json.dumps(data)}\\n')\n",
    "                fopen_l.flush()\n",
    "            except:\n",
    "                pass"
   ]
  },
  {
   "cell_type": "code",
   "execution_count": 10,
   "metadata": {},
   "outputs": [
    {
     "name": "stdout",
     "output_type": "stream",
     "text": [
      "866558 combine-512.jsonl\r\n"
     ]
    }
   ],
   "source": [
    "!wc -l combine-512.jsonl"
   ]
  },
  {
   "cell_type": "code",
   "execution_count": 11,
   "metadata": {},
   "outputs": [],
   "source": [
    "with open('prepared-gpt4all-v1.3.jsonl') as fopen:\n",
    "    for l in fopen:\n",
    "        if random.random() < 0.95:\n",
    "            continue\n",
    "        \n",
    "        data = json.loads(l)\n",
    "        if not accept(data['input']):\n",
    "            continue\n",
    "        if not accept(data['output']):\n",
    "            continue\n",
    "        fopen_l.write(f'{json.dumps(data)}\\n')\n",
    "        fopen_l.flush()"
   ]
  },
  {
   "cell_type": "code",
   "execution_count": 12,
   "metadata": {
    "scrolled": true
   },
   "outputs": [
    {
     "name": "stdout",
     "output_type": "stream",
     "text": [
      "884447 combine-512.jsonl\r\n"
     ]
    }
   ],
   "source": [
    "!wc -l combine-512.jsonl"
   ]
  },
  {
   "cell_type": "code",
   "execution_count": 13,
   "metadata": {},
   "outputs": [],
   "source": [
    "!shuf combine-512.jsonl > shuf-combine-512.jsonl"
   ]
  },
  {
   "cell_type": "code",
   "execution_count": 14,
   "metadata": {
    "scrolled": true
   },
   "outputs": [
    {
     "name": "stdout",
     "output_type": "stream",
     "text": [
      "{\"prompt_input\": \"Di bawah ialah arahan yang menerangkan tugasan. Tulis jawapan yang sesuai dengan arahan tersebut.\\n\\n### Arahan:\\n{instruction}\\n\\n### Jawapan:\\n\", \"input\": \"terjemah `Sy sllu menganggap suami sy sdh x syg sy..kenapa brcinta bertahun x pnah rasa bosan..tp kawin bru stahun lbih dh rasa bosan..mgkin benar..sewaktu brcinta sgala prasaan syg cinta smua sudah diluah dibaja..jdi apa lg yg tggl slpas kawin?semua manis itu sudah mnjadi tawar saat akad nikah lg..sy cemburu..ade je pasangan yg tetap sweet n manis je tgk wlaupun dh kawin bertahun..rasanya..pasangan beginilah yg bercinta selepas nikah..inilah nikmat yg dianugerahkn Allah..` ke english\", \"output\": \"I always feel like my husband doesn't love me anymore. Why is it that when we were dating for years, we never got bored, but after just one year of marriage, we feel bored? Maybe it's true that when we were dating, all the feelings of love and affection were already expressed, so what's left after marriage? All the sweetness has become bland since the wedding ceremony. I'm jealous of couples who are still sweet and loving even after years of marriage. This is the kind of relationship that continues to love after marriage. This is the blessing that Allah has bestowed upon us.\"}\r\n",
      "{\"prompt_input\": null, \"input\": \"<s> Raniban merupakan sebuah jawatankuasa pembangunan kampung yang terletak di Nepal.\\nRujukan.\\nNeppol Megasite\", \"output\": null}\r\n",
      "{\"prompt_input\": \"Di bawah ialah arahan yang menerangkan tugasan. Tulis jawapan yang sesuai dengan arahan tersebut.\\n\\n### Arahan:\\n{instruction}\\n\\n### Jawapan:\\n\", \"input\": \"teks `Alhamdulillah ke 3x nya`, kategorikan teks dengan label ['negative', 'positive', 'neutral'] dan terangkan sebab, pulangkan sebagai kunci JSON {'sentiment', 'explain_en', 'explain_ms'}\", \"output\": \"{\\n    \\\"sentiment\\\": \\\"positive\\\",\\n    \\\"explain_en\\\": \\\"The text is categorized as positive because 'Alhamdulillah' is an Arabic phrase that expresses gratitude and thankfulness to Allah. The repetition of 'ke 3x nya' indicates a strong feeling of gratitude and happiness.\\\",\\n    \\\"explain_ms\\\": \\\"Teks ini dikategorikan sebagai positif kerana 'Alhamdulillah' adalah frasa Arab yang mengungkapkan rasa syukur dan terima kasih kepada Allah. Pengulangan 'ke 3x nya' menunjukkan perasaan syukur dan kebahagiaan yang kuat.\\\"\\n}\"}\r\n"
     ]
    }
   ],
   "source": [
    "!head -n 3 shuf-combine-512.jsonl"
   ]
  },
  {
   "cell_type": "code",
   "execution_count": 15,
   "metadata": {},
   "outputs": [],
   "source": [
    "with open('shuf-combine-512.jsonl') as fopen:\n",
    "    for l in fopen:\n",
    "        row = json.loads(l)\n",
    "        break"
   ]
  },
  {
   "cell_type": "code",
   "execution_count": 16,
   "metadata": {},
   "outputs": [
    {
     "data": {
      "text/plain": [
       "\"terjemah `Sy sllu menganggap suami sy sdh x syg sy..kenapa brcinta bertahun x pnah rasa bosan..tp kawin bru stahun lbih dh rasa bosan..mgkin benar..sewaktu brcinta sgala prasaan syg cinta smua sudah diluah dibaja..jdi apa lg yg tggl slpas kawin?semua manis itu sudah mnjadi tawar saat akad nikah lg..sy cemburu..ade je pasangan yg tetap sweet n manis je tgk wlaupun dh kawin bertahun..rasanya..pasangan beginilah yg bercinta selepas nikah..inilah nikmat yg dianugerahkn Allah..` ke english\\n\\n### Jawapan:\\nI always feel like my husband doesn't love me anymore. Why is it that when we were dating for years, we never got bored, but after just one year of marriage, we feel bored? Maybe it's true that when we were dating, all the feelings of love and affection were already expressed, so what's left after marriage? All the sweetness has become bland since the wedding ceremony. I'm jealous of couples who are still sweet and loving even after years of marriage. This is the kind of relationship that continues to love after marriage. This is the blessing that Allah has bestowed upon us.\""
      ]
     },
     "execution_count": 16,
     "metadata": {},
     "output_type": "execute_result"
    }
   ],
   "source": [
    "prompt = '\\n\\n### Jawapan:\\n'\n",
    "text = row['input']\n",
    "o = row['output']\n",
    "text = f'{text}{prompt}{o}'\n",
    "text"
   ]
  },
  {
   "cell_type": "code",
   "execution_count": null,
   "metadata": {},
   "outputs": [],
   "source": []
  }
 ],
 "metadata": {
  "kernelspec": {
   "display_name": "Python 3 (ipykernel)",
   "language": "python",
   "name": "python3"
  },
  "language_info": {
   "codemirror_mode": {
    "name": "ipython",
    "version": 3
   },
   "file_extension": ".py",
   "mimetype": "text/x-python",
   "name": "python",
   "nbconvert_exporter": "python",
   "pygments_lexer": "ipython3",
   "version": "3.8.10"
  }
 },
 "nbformat": 4,
 "nbformat_minor": 4
}
