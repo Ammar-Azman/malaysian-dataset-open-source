{
 "cells": [
  {
   "cell_type": "code",
   "execution_count": 1,
   "id": "8e55687d",
   "metadata": {},
   "outputs": [],
   "source": [
    "from glob import glob\n",
    "from tqdm import tqdm\n",
    "import pandas as pd\n",
    "import mp\n",
    "import numpy as np\n",
    "from datasets import Audio\n",
    "import json\n",
    "import os\n",
    "import random\n",
    "\n",
    "chunks = 30\n",
    "sr = 16000"
   ]
  },
  {
   "cell_type": "code",
   "execution_count": 5,
   "id": "f8c1d6a9",
   "metadata": {},
   "outputs": [],
   "source": [
    "directory = '/home/ubuntu/.cache/huggingface/hub/datasets--mesolitica--malaya-speech-malay-stt/snapshots/cfbfc6a2f28424107416b9872d659bca34d6c5ed/data/*.parquet'"
   ]
  },
  {
   "cell_type": "code",
   "execution_count": 15,
   "id": "399274d6",
   "metadata": {},
   "outputs": [
    {
     "data": {
      "text/plain": [
       "107"
      ]
     },
     "execution_count": 15,
     "metadata": {},
     "output_type": "execute_result"
    }
   ],
   "source": [
    "files = sorted(glob(directory))\n",
    "len(files)"
   ]
  },
  {
   "cell_type": "code",
   "execution_count": 17,
   "id": "6598f419",
   "metadata": {},
   "outputs": [
    {
     "data": {
      "text/plain": [
       "(15286, 15285)"
      ]
     },
     "execution_count": 17,
     "metadata": {},
     "output_type": "execute_result"
    }
   ],
   "source": [
    "df = pd.read_parquet(files[0])\n",
    "first_shape = len(df)\n",
    "df = pd.read_parquet(files[-1])\n",
    "last_shape = len(df)\n",
    "\n",
    "first_shape, last_shape"
   ]
  },
  {
   "cell_type": "code",
   "execution_count": 22,
   "id": "42892eb3",
   "metadata": {},
   "outputs": [],
   "source": [
    "global_indices = {}\n",
    "start = 0\n",
    "for f in files[:-1]:\n",
    "    row = {\n",
    "        'start': start,\n",
    "        'end': first_shape,\n",
    "        'filename': f\n",
    "    }\n",
    "    row['start'] = start\n",
    "    row['end'] = first_shape\n",
    "    global_indices[start] = row\n",
    "    start += first_shape\n",
    "    \n",
    "row = {\n",
    "    'start': start,\n",
    "    'end': last_shape,\n",
    "    'filename': files[-1]\n",
    "}\n",
    "global_indices[start] = row"
   ]
  },
  {
   "cell_type": "code",
   "execution_count": 31,
   "id": "9c3455e4",
   "metadata": {},
   "outputs": [
    {
     "data": {
      "text/plain": [
       "{'start': 0,\n",
       " 'end': 15286,\n",
       " 'filename': '/home/ubuntu/.cache/huggingface/hub/datasets--mesolitica--malaya-speech-malay-stt/snapshots/cfbfc6a2f28424107416b9872d659bca34d6c5ed/data/train-00000-of-00107-9d147232352b7656.parquet'}"
      ]
     },
     "execution_count": 31,
     "metadata": {},
     "output_type": "execute_result"
    }
   ],
   "source": [
    "global_indices[0]"
   ]
  },
  {
   "cell_type": "code",
   "execution_count": 32,
   "id": "ba7139ce",
   "metadata": {},
   "outputs": [
    {
     "data": {
      "text/plain": [
       "filename    {'bytes': b'\\xff\\xf3\\x88\\xc4\\x00\\x00\\x00\\x00\\x...\n",
       "Y           tak macam orang cakap sampai masanya kau dah m...\n",
       "Name: 0, dtype: object"
      ]
     },
     "execution_count": 32,
     "metadata": {},
     "output_type": "execute_result"
    }
   ],
   "source": [
    "df.iloc[0]"
   ]
  },
  {
   "cell_type": "code",
   "execution_count": 25,
   "id": "045b65bb",
   "metadata": {},
   "outputs": [],
   "source": [
    "from torch.utils.data import DataLoader, Dataset\n",
    "from datasets import Audio"
   ]
  },
  {
   "cell_type": "code",
   "execution_count": 42,
   "id": "09957099",
   "metadata": {},
   "outputs": [],
   "source": [
    "class Train(Dataset):\n",
    "    def __init__(self, indices, maxlen_cache_df=5):\n",
    "        self.indices = {}\n",
    "        for k, v in indices.items():\n",
    "            for i in range(int(k), v['start'] + v['end'], 1):\n",
    "                self.indices[i] = v\n",
    "        \n",
    "        self.max_index = len(self.indices)\n",
    "        self.cache_df = {}\n",
    "        self.maxlen_cache_df = maxlen_cache_df\n",
    "        self.audio = Audio(sampling_rate=16000)\n",
    "    \n",
    "    def __len__(self):\n",
    "        return self.max_index\n",
    "    \n",
    "    def __getitem__(self, item):\n",
    "        if item < 0:\n",
    "            item = self.max_index + item\n",
    "\n",
    "        v = self.indices[item]\n",
    "        chunk_index = item - v['start']\n",
    "        if v['filename'] not in self.cache_df:\n",
    "            df = pd.read_parquet(v['filename'])\n",
    "            if len(self.cache_df) >= self.maxlen_cache_df:\n",
    "                keys = list(self.cache_df.keys())\n",
    "                self.cache_df.pop(sorted(keys)[0], None)\n",
    "            self.cache_df[v['filename']] = df\n",
    "        else:\n",
    "            df = self.cache_df[v['filename']]\n",
    "        \n",
    "        row = df.iloc[chunk_index]\n",
    "        audio = self.audio.decode_example(self.audio.encode_example(row['filename']))\n",
    "        return {'array': audio['array']}"
   ]
  },
  {
   "cell_type": "code",
   "execution_count": 43,
   "id": "a519aba8",
   "metadata": {},
   "outputs": [],
   "source": [
    "train = Train(global_indices)"
   ]
  },
  {
   "cell_type": "code",
   "execution_count": 44,
   "id": "956f0e69",
   "metadata": {},
   "outputs": [
    {
     "name": "stdout",
     "output_type": "stream",
     "text": [
      "1635600 15284\n"
     ]
    },
    {
     "data": {
      "text/plain": [
       "{'array': array([-0.02027534, -0.02458465, -0.02167011, ...,  0.00041462,\n",
       "         0.00079491,  0.00206928])}"
      ]
     },
     "execution_count": 44,
     "metadata": {},
     "output_type": "execute_result"
    }
   ],
   "source": [
    "train[-1]"
   ]
  },
  {
   "cell_type": "code",
   "execution_count": 45,
   "id": "edf1bf88",
   "metadata": {},
   "outputs": [],
   "source": [
    "with open('indices-crawl-malaya-speech.json', 'w') as fopen:\n",
    "    json.dump(global_indices, fopen)"
   ]
  },
  {
   "cell_type": "code",
   "execution_count": null,
   "id": "bbbc9d52",
   "metadata": {},
   "outputs": [],
   "source": []
  }
 ],
 "metadata": {
  "kernelspec": {
   "display_name": "Python 3 (ipykernel)",
   "language": "python",
   "name": "python3"
  },
  "language_info": {
   "codemirror_mode": {
    "name": "ipython",
    "version": 3
   },
   "file_extension": ".py",
   "mimetype": "text/x-python",
   "name": "python",
   "nbconvert_exporter": "python",
   "pygments_lexer": "ipython3",
   "version": "3.10.12"
  }
 },
 "nbformat": 4,
 "nbformat_minor": 5
}
