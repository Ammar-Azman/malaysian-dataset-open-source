{
 "cells": [
  {
   "cell_type": "code",
   "execution_count": 8,
   "id": "3a7f1d1c",
   "metadata": {},
   "outputs": [],
   "source": [
    "import json\n",
    "from tqdm import tqdm\n",
    "from streaming import MDSWriter, LocalDataset"
   ]
  },
  {
   "cell_type": "code",
   "execution_count": 2,
   "id": "6badef47",
   "metadata": {},
   "outputs": [],
   "source": [
    "columns = {\n",
    "    'text': 'str',\n",
    "}\n",
    "hashes = 'sha1', 'xxh64'"
   ]
  },
  {
   "cell_type": "code",
   "execution_count": 3,
   "id": "ae26bbe7",
   "metadata": {},
   "outputs": [],
   "source": [
    "!mkdir pseudolabel"
   ]
  },
  {
   "cell_type": "code",
   "execution_count": 7,
   "id": "f72ee689",
   "metadata": {},
   "outputs": [
    {
     "name": "stderr",
     "output_type": "stream",
     "text": [
      "2221856it [00:12, 177773.79it/s]\n"
     ]
    }
   ],
   "source": [
    "with MDSWriter(out='pseudolabel', columns=columns, compression=None, hashes=hashes) as out:\n",
    "    with open('pseudolabel.jsonl') as fopen:\n",
    "        for l in tqdm(fopen):\n",
    "            sample = {\n",
    "                'text': l\n",
    "            }\n",
    "            out.write(sample)"
   ]
  },
  {
   "cell_type": "code",
   "execution_count": 9,
   "id": "b61c77b3",
   "metadata": {},
   "outputs": [],
   "source": [
    "dataset = LocalDataset('pseudolabel')"
   ]
  },
  {
   "cell_type": "code",
   "execution_count": 12,
   "id": "000a9f0a",
   "metadata": {},
   "outputs": [
    {
     "data": {
      "text/plain": [
       "{'predict_ms': '<|startoftranscript|><|ms|><|transcribe|> anda tahu keuntungan boleh lebih tinggi daripada keuntungan kewangan rumah maka saya tidak akan mencari dalam akaun saya akan mencari ke dalam ethereum atau beberapa crypto punks bergantung pada faktor risiko anda kerana rumah kajang dihantar tidak mengganggu dsr saya sejauh ini jadi sekarang apa posisi saya untuk mendapatkan kewangan ketiga jadi mungkin setelah melihat sekeliling saya menemui seorang penjual yang dapat menutupi perhubungan tetapi bank hanya menerima 70% dari itu saya boleh membayar perbezaan dengan menggunakan wang ini kerana sekali lagi ia menyusahkan saya dan aset tetapi jika anda tidak selesa dengan mencari<|endoftext|>',\n",
       " 'predict_en': \"<|startoftranscript|><|en|><|transcribe|> you know the returns can be higher than the savings of the housing loan interest then i will not put in the account i'll put into ethereum or some crypto punks depending on your risk factor then because of the kajang house being let out it does not affect my dsr as much so now what's my position on getting the third loan so maybe after looking around i found one where the renter can somewhat cover the installment but the bank only approved 70 percent of it i'm okay to pay the difference using this cash because again it somewhat secures me an asset but if you are not<|endoftext|>\",\n",
       " 'score_ms': 11.25,\n",
       " 'score_en': 8.875,\n",
       " 'audio_filename': 'output-audio/1-0-0.mp3',\n",
       " 'filename': 'output/1-0.json',\n",
       " 'i': 0,\n",
       " 'repeat_ms': False,\n",
       " 'repeat_en': False}"
      ]
     },
     "execution_count": 12,
     "metadata": {},
     "output_type": "execute_result"
    }
   ],
   "source": [
    "json.loads(dataset[0]['text'])"
   ]
  },
  {
   "cell_type": "code",
   "execution_count": null,
   "id": "54d74dac",
   "metadata": {},
   "outputs": [],
   "source": []
  }
 ],
 "metadata": {
  "kernelspec": {
   "display_name": "Python 3 (ipykernel)",
   "language": "python",
   "name": "python3"
  },
  "language_info": {
   "codemirror_mode": {
    "name": "ipython",
    "version": 3
   },
   "file_extension": ".py",
   "mimetype": "text/x-python",
   "name": "python",
   "nbconvert_exporter": "python",
   "pygments_lexer": "ipython3",
   "version": "3.10.12"
  }
 },
 "nbformat": 4,
 "nbformat_minor": 5
}
