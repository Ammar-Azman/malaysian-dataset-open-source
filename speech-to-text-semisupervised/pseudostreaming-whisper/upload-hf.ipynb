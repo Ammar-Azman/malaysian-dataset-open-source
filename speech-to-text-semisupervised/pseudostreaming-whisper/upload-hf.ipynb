{
 "cells": [
  {
   "cell_type": "code",
   "execution_count": 1,
   "id": "cc3e69ea",
   "metadata": {},
   "outputs": [],
   "source": [
    "import json\n",
    "import os\n",
    "from tqdm import tqdm"
   ]
  },
  {
   "cell_type": "code",
   "execution_count": 2,
   "id": "385aa297",
   "metadata": {},
   "outputs": [
    {
     "data": {
      "text/plain": [
       "2221856"
      ]
     },
     "execution_count": 2,
     "metadata": {},
     "output_type": "execute_result"
    }
   ],
   "source": [
    "filtered = []\n",
    "\n",
    "with open('pseudolabel.jsonl') as fopen:\n",
    "    for l in fopen:\n",
    "        l = json.loads(l)\n",
    "        f = l['audio_filename']\n",
    "        if not os.path.exists(f):\n",
    "            continue\n",
    "        t_ms = l['predict_ms'][41:-13].strip()\n",
    "        t_en = l['predict_en'][41:-13].strip()\n",
    "        filtered.append((f, t_ms, t_en))\n",
    "        \n",
    "len(filtered)"
   ]
  },
  {
   "cell_type": "code",
   "execution_count": 3,
   "id": "2f39048e",
   "metadata": {},
   "outputs": [
    {
     "data": {
      "text/plain": [
       "('output-audio/1-0-0.mp3',\n",
       " 'anda tahu keuntungan boleh lebih tinggi daripada keuntungan kewangan rumah maka saya tidak akan mencari dalam akaun saya akan mencari ke dalam ethereum atau beberapa crypto punks bergantung pada faktor risiko anda kerana rumah kajang dihantar tidak mengganggu dsr saya sejauh ini jadi sekarang apa posisi saya untuk mendapatkan kewangan ketiga jadi mungkin setelah melihat sekeliling saya menemui seorang penjual yang dapat menutupi perhubungan tetapi bank hanya menerima 70% dari itu saya boleh membayar perbezaan dengan menggunakan wang ini kerana sekali lagi ia menyusahkan saya dan aset tetapi jika anda tidak selesa dengan mencari',\n",
       " \"you know the returns can be higher than the savings of the housing loan interest then i will not put in the account i'll put into ethereum or some crypto punks depending on your risk factor then because of the kajang house being let out it does not affect my dsr as much so now what's my position on getting the third loan so maybe after looking around i found one where the renter can somewhat cover the installment but the bank only approved 70 percent of it i'm okay to pay the difference using this cash because again it somewhat secures me an asset but if you are not\")"
      ]
     },
     "execution_count": 3,
     "metadata": {},
     "output_type": "execute_result"
    }
   ],
   "source": [
    "filtered[0]"
   ]
  },
  {
   "cell_type": "code",
   "execution_count": 4,
   "id": "8036f2ca",
   "metadata": {},
   "outputs": [
    {
     "name": "stderr",
     "output_type": "stream",
     "text": [
      "100%|███████████████████████████████████████████████████████████████████████████████████████| 2221856/2221856 [09:56<00:00, 3726.04it/s]\n"
     ]
    }
   ],
   "source": [
    "rejected = []\n",
    "with open('pseudostreaming.jsonl', 'w') as fopen_l:\n",
    "    for i in tqdm(range(len(filtered))):\n",
    "        filename = os.path.join('force-alignment', f'{i}.json')\n",
    "        if not os.path.exists(filename):\n",
    "            continue\n",
    "        try:\n",
    "            with open(filename) as fopen:\n",
    "                data = json.load(fopen)\n",
    "            \n",
    "            if data['diag_ms'] is None and data['diag_en'] is None:\n",
    "                rejected.append(filename)\n",
    "                continue\n",
    "            \n",
    "            data['filename'] = filtered[i][0]\n",
    "            data['text_ms'] = filtered[i][1]\n",
    "            data['text_en'] = filtered[i][2]\n",
    "            fopen_l.write(f'{json.dumps(data)}\\n')\n",
    "        except:\n",
    "            pass"
   ]
  },
  {
   "cell_type": "code",
   "execution_count": 5,
   "id": "a44e1c8f",
   "metadata": {},
   "outputs": [
    {
     "name": "stderr",
     "output_type": "stream",
     "text": [
      "/home/husein/.local/lib/python3.8/site-packages/requests/__init__.py:102: RequestsDependencyWarning: urllib3 (1.26.15) or chardet (5.2.0)/charset_normalizer (2.0.7) doesn't match a supported version!\n",
      "  warnings.warn(\"urllib3 ({}) or chardet ({})/charset_normalizer ({}) doesn't match a supported \"\n"
     ]
    }
   ],
   "source": [
    "from huggingface_hub import HfApi\n",
    "api = HfApi()"
   ]
  },
  {
   "cell_type": "code",
   "execution_count": 6,
   "id": "dce1bf7d",
   "metadata": {
    "scrolled": true
   },
   "outputs": [
    {
     "data": {
      "application/vnd.jupyter.widget-view+json": {
       "model_id": "361903dac98048d096d494415d4c4201",
       "version_major": 2,
       "version_minor": 0
      },
      "text/plain": [
       "pseudostreaming.jsonl:   0%|          | 0.00/17.6G [00:00<?, ?B/s]"
      ]
     },
     "metadata": {},
     "output_type": "display_data"
    },
    {
     "data": {
      "text/plain": [
       "CommitInfo(commit_url='https://huggingface.co/datasets/mesolitica/pseudostreaming-malaysian-youtube-whisper-large-v3/commit/ea8f9768aea82c31e3879a9acca9f9b1d2fa7866', commit_message='Upload pseudostreaming.jsonl with huggingface_hub', commit_description='', oid='ea8f9768aea82c31e3879a9acca9f9b1d2fa7866', pr_url=None, pr_revision=None, pr_num=None)"
      ]
     },
     "execution_count": 6,
     "metadata": {},
     "output_type": "execute_result"
    }
   ],
   "source": [
    "api.upload_file(\n",
    "    path_or_fileobj='pseudostreaming.jsonl',\n",
    "    path_in_repo='pseudostreaming.jsonl',\n",
    "    repo_id='mesolitica/pseudostreaming-malaysian-youtube-whisper-large-v3',\n",
    "    repo_type='dataset',\n",
    ")"
   ]
  },
  {
   "cell_type": "code",
   "execution_count": 7,
   "id": "4320e2ae",
   "metadata": {},
   "outputs": [
    {
     "data": {
      "text/plain": [
       "175593"
      ]
     },
     "execution_count": 7,
     "metadata": {},
     "output_type": "execute_result"
    }
   ],
   "source": [
    "len(rejected)"
   ]
  },
  {
   "cell_type": "code",
   "execution_count": 8,
   "id": "9183e4ce",
   "metadata": {},
   "outputs": [
    {
     "data": {
      "text/plain": [
       "['force-alignment/5.json',\n",
       " 'force-alignment/7.json',\n",
       " 'force-alignment/29.json',\n",
       " 'force-alignment/112.json',\n",
       " 'force-alignment/120.json',\n",
       " 'force-alignment/140.json',\n",
       " 'force-alignment/145.json',\n",
       " 'force-alignment/183.json',\n",
       " 'force-alignment/184.json',\n",
       " 'force-alignment/185.json']"
      ]
     },
     "execution_count": 8,
     "metadata": {},
     "output_type": "execute_result"
    }
   ],
   "source": [
    "rejected[:10]"
   ]
  },
  {
   "cell_type": "code",
   "execution_count": null,
   "id": "0feb8930",
   "metadata": {},
   "outputs": [],
   "source": [
    "for f in tqdm(rejected):\n",
    "    os.remove(f)"
   ]
  },
  {
   "cell_type": "code",
   "execution_count": null,
   "id": "a35b6876",
   "metadata": {},
   "outputs": [],
   "source": [
    "!cat force-alignment/4.json"
   ]
  },
  {
   "cell_type": "code",
   "execution_count": null,
   "id": "d001b818",
   "metadata": {},
   "outputs": [],
   "source": []
  }
 ],
 "metadata": {
  "kernelspec": {
   "display_name": "Python 3 (ipykernel)",
   "language": "python",
   "name": "python3"
  },
  "language_info": {
   "codemirror_mode": {
    "name": "ipython",
    "version": 3
   },
   "file_extension": ".py",
   "mimetype": "text/x-python",
   "name": "python",
   "nbconvert_exporter": "python",
   "pygments_lexer": "ipython3",
   "version": "3.8.10"
  }
 },
 "nbformat": 4,
 "nbformat_minor": 5
}
