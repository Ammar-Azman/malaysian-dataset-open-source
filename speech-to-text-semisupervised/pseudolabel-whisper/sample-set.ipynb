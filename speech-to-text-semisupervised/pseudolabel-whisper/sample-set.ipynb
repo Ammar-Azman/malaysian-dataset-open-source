{
 "cells": [
  {
   "cell_type": "code",
   "execution_count": 13,
   "id": "14e283af",
   "metadata": {},
   "outputs": [],
   "source": [
    "from glob import glob\n",
    "from tqdm import tqdm\n",
    "import json\n",
    "import numpy as np\n",
    "import os\n",
    "from transformers import AutoTokenizer\n",
    "import shutil "
   ]
  },
  {
   "cell_type": "code",
   "execution_count": 2,
   "id": "ea460b96",
   "metadata": {},
   "outputs": [
    {
     "name": "stderr",
     "output_type": "stream",
     "text": [
      "Special tokens have been added in the vocabulary, make sure the associated word embeddings are fine-tuned or trained.\n"
     ]
    }
   ],
   "source": [
    "tokenizer = AutoTokenizer.from_pretrained('openai/whisper-large-v3')"
   ]
  },
  {
   "cell_type": "code",
   "execution_count": 3,
   "id": "6253fd77",
   "metadata": {},
   "outputs": [
    {
     "data": {
      "text/plain": [
       "30639"
      ]
     },
     "execution_count": 3,
     "metadata": {},
     "output_type": "execute_result"
    }
   ],
   "source": [
    "files = sorted(glob('output/*.json'), key = lambda x: int(x.split('-')[1].replace('.json', '')))\n",
    "len(files)"
   ]
  },
  {
   "cell_type": "code",
   "execution_count": 4,
   "id": "3b0bc067",
   "metadata": {},
   "outputs": [],
   "source": [
    "import mp\n",
    "\n",
    "def loop(files):\n",
    "    files, _ = files\n",
    "    results = []\n",
    "    for f in tqdm(files):\n",
    "        with open(f) as fopen:\n",
    "            data = json.load(fopen)\n",
    "        f_split = os.path.split(f)[-1].replace('.json', '')\n",
    "        for i in range(len(data)):\n",
    "            data[i]['filename'] = f\n",
    "            data[i]['i'] = i\n",
    "            a = np.array(tokenizer.encode(data[i]['predict_ms'], add_special_tokens = False))\n",
    "            a = a[a != 50257]\n",
    "            data[i]['predict_ms'] = tokenizer.decode(a.tolist() + [50257])\n",
    "            a = np.array(tokenizer.encode(data[i]['predict_en'], add_special_tokens = False))\n",
    "            a = a[a != 50257]\n",
    "            data[i]['predict_en'] = tokenizer.decode(a.tolist() + [50257])\n",
    "            data[i]['audio_filename'] = os.path.join('output-audio', f'{f_split}-{i}.mp3')\n",
    "        results.extend(data)\n",
    "    return results"
   ]
  },
  {
   "cell_type": "code",
   "execution_count": 7,
   "id": "6f8b29ec",
   "metadata": {},
   "outputs": [
    {
     "name": "stderr",
     "output_type": "stream",
     "text": [
      "100%|██████████| 10/10 [00:00<00:00, 13.06it/s]\n"
     ]
    }
   ],
   "source": [
    "results = loop((files[:10], 0))"
   ]
  },
  {
   "cell_type": "code",
   "execution_count": 8,
   "id": "db5b442c",
   "metadata": {},
   "outputs": [
    {
     "data": {
      "text/plain": [
       "520"
      ]
     },
     "execution_count": 8,
     "metadata": {},
     "output_type": "execute_result"
    }
   ],
   "source": [
    "len(results)"
   ]
  },
  {
   "cell_type": "code",
   "execution_count": 9,
   "id": "38313ec3",
   "metadata": {},
   "outputs": [
    {
     "name": "stderr",
     "output_type": "stream",
     "text": [
      "huggingface/tokenizers: The current process just got forked, after parallelism has already been used. Disabling parallelism to avoid deadlocks...\n",
      "To disable this warning, you can either:\n",
      "\t- Avoid using `tokenizers` before the fork if possible\n",
      "\t- Explicitly set the environment variable TOKENIZERS_PARALLELISM=(true | false)\n"
     ]
    }
   ],
   "source": [
    "!mkdir sample-set"
   ]
  },
  {
   "cell_type": "code",
   "execution_count": 15,
   "id": "ee89c225",
   "metadata": {},
   "outputs": [
    {
     "name": "stderr",
     "output_type": "stream",
     "text": [
      "100%|██████████| 520/520 [00:00<00:00, 539.89it/s]\n"
     ]
    }
   ],
   "source": [
    "for r in tqdm(results):\n",
    "    shutil.copyfile(r['audio_filename'], r['audio_filename'].replace('output-audio/', 'sample-set/')) "
   ]
  },
  {
   "cell_type": "code",
   "execution_count": 20,
   "id": "493a9c50",
   "metadata": {},
   "outputs": [],
   "source": [
    "# !zip -r sample-set.zip sample-set"
   ]
  },
  {
   "cell_type": "code",
   "execution_count": 22,
   "id": "3bb4e047",
   "metadata": {},
   "outputs": [
    {
     "name": "stderr",
     "output_type": "stream",
     "text": [
      "100%|██████████| 520/520 [00:00<00:00, 80842.07it/s]\n"
     ]
    }
   ],
   "source": [
    "with open('sample-set.jsonl', 'w') as fopen:\n",
    "    for r in tqdm(results):\n",
    "        r['audio_filename'] = r['audio_filename'].replace('output-audio/', 'sample-set/')\n",
    "        fopen.write(f'{json.dumps(r)}\\n')"
   ]
  },
  {
   "cell_type": "code",
   "execution_count": 23,
   "id": "885ebf99",
   "metadata": {},
   "outputs": [],
   "source": [
    "from huggingface_hub import HfApi\n",
    "api = HfApi()"
   ]
  },
  {
   "cell_type": "code",
   "execution_count": 24,
   "id": "2a6fc12d",
   "metadata": {},
   "outputs": [
    {
     "data": {
      "text/plain": [
       "'https://huggingface.co/datasets/mesolitica/pseudolabel-malaysian-youtube-whisper-large-v3/blob/main/sample-set.jsonl'"
      ]
     },
     "execution_count": 24,
     "metadata": {},
     "output_type": "execute_result"
    }
   ],
   "source": [
    "api.upload_file(\n",
    "    path_or_fileobj='sample-set.jsonl',\n",
    "    path_in_repo='sample-set.jsonl',\n",
    "    repo_id='mesolitica/pseudolabel-malaysian-youtube-whisper-large-v3',\n",
    "    repo_type='dataset',\n",
    ")"
   ]
  },
  {
   "cell_type": "code",
   "execution_count": 25,
   "id": "a0937296",
   "metadata": {},
   "outputs": [
    {
     "data": {
      "application/vnd.jupyter.widget-view+json": {
       "model_id": "9745fa2f5c9b4487ace1db2db146ea8f",
       "version_major": 2,
       "version_minor": 0
      },
      "text/plain": [
       "sample-set.zip:   0%|          | 0.00/82.3M [00:00<?, ?B/s]"
      ]
     },
     "metadata": {},
     "output_type": "display_data"
    },
    {
     "data": {
      "text/plain": [
       "'https://huggingface.co/datasets/mesolitica/pseudolabel-malaysian-youtube-whisper-large-v3/blob/main/sample-set.zip'"
      ]
     },
     "execution_count": 25,
     "metadata": {},
     "output_type": "execute_result"
    }
   ],
   "source": [
    "api.upload_file(\n",
    "    path_or_fileobj='sample-set.zip',\n",
    "    path_in_repo='sample-set.zip',\n",
    "    repo_id='mesolitica/pseudolabel-malaysian-youtube-whisper-large-v3',\n",
    "    repo_type='dataset',\n",
    ")"
   ]
  },
  {
   "cell_type": "code",
   "execution_count": null,
   "id": "eac577f8",
   "metadata": {},
   "outputs": [],
   "source": []
  }
 ],
 "metadata": {
  "kernelspec": {
   "display_name": "Python 3 (ipykernel)",
   "language": "python",
   "name": "python3"
  },
  "language_info": {
   "codemirror_mode": {
    "name": "ipython",
    "version": 3
   },
   "file_extension": ".py",
   "mimetype": "text/x-python",
   "name": "python",
   "nbconvert_exporter": "python",
   "pygments_lexer": "ipython3",
   "version": "3.10.12"
  }
 },
 "nbformat": 4,
 "nbformat_minor": 5
}
