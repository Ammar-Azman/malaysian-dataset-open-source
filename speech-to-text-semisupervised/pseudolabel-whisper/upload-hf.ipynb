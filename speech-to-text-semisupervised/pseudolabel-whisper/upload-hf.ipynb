{
 "cells": [
  {
   "cell_type": "code",
   "execution_count": 2,
   "id": "5ffbf440",
   "metadata": {},
   "outputs": [],
   "source": [
    "from glob import glob\n",
    "from huggingface_hub import HfApi\n",
    "api = HfApi()"
   ]
  },
  {
   "cell_type": "code",
   "execution_count": 5,
   "id": "a68c9349",
   "metadata": {},
   "outputs": [
    {
     "data": {
      "text/plain": [
       "['output-audio.7z.001',\n",
       " 'output-audio.7z.002',\n",
       " 'output-audio.7z.003',\n",
       " 'output-audio.7z.004',\n",
       " 'output-audio.7z.005',\n",
       " 'output-audio.7z.006',\n",
       " 'output-audio.7z.007',\n",
       " 'output-audio.7z.008',\n",
       " 'output-audio.7z.009',\n",
       " 'output-audio.7z.010',\n",
       " 'output-audio.7z.011',\n",
       " 'output-audio.7z.012',\n",
       " 'output-audio.7z.013',\n",
       " 'output-audio.7z.014',\n",
       " 'output-audio.7z.015',\n",
       " 'output-audio.7z.016',\n",
       " 'output-audio.7z.017',\n",
       " 'output-audio.7z.018',\n",
       " 'output-audio.7z.019',\n",
       " 'output-audio.7z.020',\n",
       " 'output-audio.7z.021',\n",
       " 'output-audio.7z.022',\n",
       " 'output-audio.7z.023',\n",
       " 'output-audio.7z.024',\n",
       " 'output-audio.7z.025',\n",
       " 'output-audio.7z.026',\n",
       " 'output-audio.7z.027',\n",
       " 'output-audio.7z.028',\n",
       " 'output-audio.7z.029',\n",
       " 'output-audio.7z.030',\n",
       " 'output-audio.7z.031',\n",
       " 'output-audio.7z.032',\n",
       " 'output-audio.7z.033']"
      ]
     },
     "execution_count": 5,
     "metadata": {},
     "output_type": "execute_result"
    }
   ],
   "source": [
    "files = sorted(glob('*.7z*'))\n",
    "files"
   ]
  },
  {
   "cell_type": "code",
   "execution_count": 6,
   "id": "a167f5ff",
   "metadata": {},
   "outputs": [
    {
     "name": "stdout",
     "output_type": "stream",
     "text": [
      "output-audio.7z.001\n"
     ]
    },
    {
     "data": {
      "application/vnd.jupyter.widget-view+json": {
       "model_id": "28a103599bf745f9b3703b09d29eda6c",
       "version_major": 2,
       "version_minor": 0
      },
      "text/plain": [
       "output-audio.7z.001:   0%|          | 0.00/10.7G [00:00<?, ?B/s]"
      ]
     },
     "metadata": {},
     "output_type": "display_data"
    },
    {
     "name": "stdout",
     "output_type": "stream",
     "text": [
      "output-audio.7z.002\n"
     ]
    },
    {
     "data": {
      "application/vnd.jupyter.widget-view+json": {
       "model_id": "4a830ee7d667449fb0defd2024dda4a5",
       "version_major": 2,
       "version_minor": 0
      },
      "text/plain": [
       "output-audio.7z.002:   0%|          | 0.00/10.7G [00:00<?, ?B/s]"
      ]
     },
     "metadata": {},
     "output_type": "display_data"
    },
    {
     "name": "stdout",
     "output_type": "stream",
     "text": [
      "output-audio.7z.003\n"
     ]
    },
    {
     "data": {
      "application/vnd.jupyter.widget-view+json": {
       "model_id": "24e0e5e5c3f74cd59d4c47aa939211af",
       "version_major": 2,
       "version_minor": 0
      },
      "text/plain": [
       "output-audio.7z.003:   0%|          | 0.00/10.7G [00:00<?, ?B/s]"
      ]
     },
     "metadata": {},
     "output_type": "display_data"
    },
    {
     "name": "stdout",
     "output_type": "stream",
     "text": [
      "output-audio.7z.004\n"
     ]
    },
    {
     "data": {
      "application/vnd.jupyter.widget-view+json": {
       "model_id": "6d5eb2a2d982439ca87f238ad262e18d",
       "version_major": 2,
       "version_minor": 0
      },
      "text/plain": [
       "output-audio.7z.004:   0%|          | 0.00/10.7G [00:00<?, ?B/s]"
      ]
     },
     "metadata": {},
     "output_type": "display_data"
    },
    {
     "name": "stdout",
     "output_type": "stream",
     "text": [
      "output-audio.7z.005\n"
     ]
    },
    {
     "data": {
      "application/vnd.jupyter.widget-view+json": {
       "model_id": "862f46dba66740d39f471dbc14a2f7f1",
       "version_major": 2,
       "version_minor": 0
      },
      "text/plain": [
       "output-audio.7z.005:   0%|          | 0.00/10.7G [00:00<?, ?B/s]"
      ]
     },
     "metadata": {},
     "output_type": "display_data"
    },
    {
     "name": "stdout",
     "output_type": "stream",
     "text": [
      "output-audio.7z.006\n"
     ]
    },
    {
     "data": {
      "application/vnd.jupyter.widget-view+json": {
       "model_id": "1d7a9fbb1483484f81ef03c87aa5572c",
       "version_major": 2,
       "version_minor": 0
      },
      "text/plain": [
       "output-audio.7z.006:   0%|          | 0.00/10.7G [00:00<?, ?B/s]"
      ]
     },
     "metadata": {},
     "output_type": "display_data"
    },
    {
     "name": "stdout",
     "output_type": "stream",
     "text": [
      "output-audio.7z.007\n"
     ]
    },
    {
     "data": {
      "application/vnd.jupyter.widget-view+json": {
       "model_id": "f2a23eb394d44e81be43af34ff3a50ca",
       "version_major": 2,
       "version_minor": 0
      },
      "text/plain": [
       "output-audio.7z.007:   0%|          | 0.00/10.7G [00:00<?, ?B/s]"
      ]
     },
     "metadata": {},
     "output_type": "display_data"
    },
    {
     "name": "stdout",
     "output_type": "stream",
     "text": [
      "output-audio.7z.008\n"
     ]
    },
    {
     "data": {
      "application/vnd.jupyter.widget-view+json": {
       "model_id": "6d7e9eb4413546f4bc9b34a954c86df3",
       "version_major": 2,
       "version_minor": 0
      },
      "text/plain": [
       "output-audio.7z.008:   0%|          | 0.00/10.7G [00:00<?, ?B/s]"
      ]
     },
     "metadata": {},
     "output_type": "display_data"
    },
    {
     "name": "stdout",
     "output_type": "stream",
     "text": [
      "output-audio.7z.009\n"
     ]
    },
    {
     "data": {
      "application/vnd.jupyter.widget-view+json": {
       "model_id": "827ed818a2b0457f85355af5e42da34c",
       "version_major": 2,
       "version_minor": 0
      },
      "text/plain": [
       "output-audio.7z.009:   0%|          | 0.00/10.7G [00:00<?, ?B/s]"
      ]
     },
     "metadata": {},
     "output_type": "display_data"
    },
    {
     "name": "stdout",
     "output_type": "stream",
     "text": [
      "output-audio.7z.010\n"
     ]
    },
    {
     "data": {
      "application/vnd.jupyter.widget-view+json": {
       "model_id": "2446320a3af740b8be72261628d62217",
       "version_major": 2,
       "version_minor": 0
      },
      "text/plain": [
       "output-audio.7z.010:   0%|          | 0.00/10.7G [00:00<?, ?B/s]"
      ]
     },
     "metadata": {},
     "output_type": "display_data"
    },
    {
     "name": "stdout",
     "output_type": "stream",
     "text": [
      "output-audio.7z.011\n"
     ]
    },
    {
     "data": {
      "application/vnd.jupyter.widget-view+json": {
       "model_id": "0fa87ad57f2344e7bfc55f8d82b28974",
       "version_major": 2,
       "version_minor": 0
      },
      "text/plain": [
       "output-audio.7z.011:   0%|          | 0.00/10.7G [00:00<?, ?B/s]"
      ]
     },
     "metadata": {},
     "output_type": "display_data"
    },
    {
     "name": "stdout",
     "output_type": "stream",
     "text": [
      "output-audio.7z.012\n"
     ]
    },
    {
     "data": {
      "application/vnd.jupyter.widget-view+json": {
       "model_id": "76e600883d29482186aa7ea40d1fa310",
       "version_major": 2,
       "version_minor": 0
      },
      "text/plain": [
       "output-audio.7z.012:   0%|          | 0.00/10.7G [00:00<?, ?B/s]"
      ]
     },
     "metadata": {},
     "output_type": "display_data"
    },
    {
     "name": "stdout",
     "output_type": "stream",
     "text": [
      "output-audio.7z.013\n"
     ]
    },
    {
     "data": {
      "application/vnd.jupyter.widget-view+json": {
       "model_id": "9a8ac8d7b08e452691e912771fc37d3a",
       "version_major": 2,
       "version_minor": 0
      },
      "text/plain": [
       "output-audio.7z.013:   0%|          | 0.00/10.7G [00:00<?, ?B/s]"
      ]
     },
     "metadata": {},
     "output_type": "display_data"
    },
    {
     "name": "stdout",
     "output_type": "stream",
     "text": [
      "output-audio.7z.014\n"
     ]
    },
    {
     "data": {
      "application/vnd.jupyter.widget-view+json": {
       "model_id": "a20b250305c241ca9f9b3c8aea56ef63",
       "version_major": 2,
       "version_minor": 0
      },
      "text/plain": [
       "output-audio.7z.014:   0%|          | 0.00/10.7G [00:00<?, ?B/s]"
      ]
     },
     "metadata": {},
     "output_type": "display_data"
    },
    {
     "name": "stdout",
     "output_type": "stream",
     "text": [
      "output-audio.7z.015\n"
     ]
    },
    {
     "data": {
      "application/vnd.jupyter.widget-view+json": {
       "model_id": "658f436854ea4c23bdbc7513b28d1f98",
       "version_major": 2,
       "version_minor": 0
      },
      "text/plain": [
       "output-audio.7z.015:   0%|          | 0.00/10.7G [00:00<?, ?B/s]"
      ]
     },
     "metadata": {},
     "output_type": "display_data"
    },
    {
     "name": "stdout",
     "output_type": "stream",
     "text": [
      "output-audio.7z.016\n"
     ]
    },
    {
     "data": {
      "application/vnd.jupyter.widget-view+json": {
       "model_id": "d9faf09b7d9b4f51aa9f0dd8ce19bc5f",
       "version_major": 2,
       "version_minor": 0
      },
      "text/plain": [
       "output-audio.7z.016:   0%|          | 0.00/10.7G [00:00<?, ?B/s]"
      ]
     },
     "metadata": {},
     "output_type": "display_data"
    },
    {
     "name": "stdout",
     "output_type": "stream",
     "text": [
      "output-audio.7z.017\n"
     ]
    },
    {
     "data": {
      "application/vnd.jupyter.widget-view+json": {
       "model_id": "6a7b0773f6454f9bb24d0f5038735dda",
       "version_major": 2,
       "version_minor": 0
      },
      "text/plain": [
       "output-audio.7z.017:   0%|          | 0.00/10.7G [00:00<?, ?B/s]"
      ]
     },
     "metadata": {},
     "output_type": "display_data"
    },
    {
     "name": "stdout",
     "output_type": "stream",
     "text": [
      "output-audio.7z.018\n"
     ]
    },
    {
     "data": {
      "application/vnd.jupyter.widget-view+json": {
       "model_id": "23b0568d578849e1a7070e78ee655ba1",
       "version_major": 2,
       "version_minor": 0
      },
      "text/plain": [
       "output-audio.7z.018:   0%|          | 0.00/10.7G [00:00<?, ?B/s]"
      ]
     },
     "metadata": {},
     "output_type": "display_data"
    },
    {
     "name": "stdout",
     "output_type": "stream",
     "text": [
      "output-audio.7z.019\n"
     ]
    },
    {
     "data": {
      "application/vnd.jupyter.widget-view+json": {
       "model_id": "9ffec8f4f1d24e9682fc86012e806434",
       "version_major": 2,
       "version_minor": 0
      },
      "text/plain": [
       "output-audio.7z.019:   0%|          | 0.00/10.7G [00:00<?, ?B/s]"
      ]
     },
     "metadata": {},
     "output_type": "display_data"
    },
    {
     "name": "stderr",
     "output_type": "stream",
     "text": [
      "IOPub message rate exceeded.\n",
      "The notebook server will temporarily stop sending output\n",
      "to the client in order to avoid crashing it.\n",
      "To change this limit, set the config variable\n",
      "`--NotebookApp.iopub_msg_rate_limit`.\n",
      "\n",
      "Current values:\n",
      "NotebookApp.iopub_msg_rate_limit=1000.0 (msgs/sec)\n",
      "NotebookApp.rate_limit_window=3.0 (secs)\n",
      "\n"
     ]
    },
    {
     "data": {
      "application/vnd.jupyter.widget-view+json": {
       "model_id": "e53bc10d8f244659913b2d89707d97a5",
       "version_major": 2,
       "version_minor": 0
      },
      "text/plain": [
       "output-audio.7z.020:   0%|          | 0.00/10.7G [00:00<?, ?B/s]"
      ]
     },
     "metadata": {},
     "output_type": "display_data"
    },
    {
     "name": "stdout",
     "output_type": "stream",
     "text": [
      "output-audio.7z.021\n"
     ]
    },
    {
     "data": {
      "application/vnd.jupyter.widget-view+json": {
       "model_id": "a791912acc434e5c8af1a12cc85a24b9",
       "version_major": 2,
       "version_minor": 0
      },
      "text/plain": [
       "output-audio.7z.021:   0%|          | 0.00/10.7G [00:00<?, ?B/s]"
      ]
     },
     "metadata": {},
     "output_type": "display_data"
    },
    {
     "name": "stdout",
     "output_type": "stream",
     "text": [
      "output-audio.7z.022\n"
     ]
    },
    {
     "data": {
      "application/vnd.jupyter.widget-view+json": {
       "model_id": "f86bad01ef994a2fac36ddee1da024d4",
       "version_major": 2,
       "version_minor": 0
      },
      "text/plain": [
       "output-audio.7z.022:   0%|          | 0.00/10.7G [00:00<?, ?B/s]"
      ]
     },
     "metadata": {},
     "output_type": "display_data"
    },
    {
     "name": "stdout",
     "output_type": "stream",
     "text": [
      "output-audio.7z.023\n"
     ]
    },
    {
     "data": {
      "application/vnd.jupyter.widget-view+json": {
       "model_id": "8ff5860ceae94b22a6d11a54d0c263c3",
       "version_major": 2,
       "version_minor": 0
      },
      "text/plain": [
       "output-audio.7z.023:   0%|          | 0.00/10.7G [00:00<?, ?B/s]"
      ]
     },
     "metadata": {},
     "output_type": "display_data"
    },
    {
     "name": "stdout",
     "output_type": "stream",
     "text": [
      "output-audio.7z.024\n"
     ]
    },
    {
     "data": {
      "application/vnd.jupyter.widget-view+json": {
       "model_id": "cc496c00f75b4c3e9291e4aacfc6c772",
       "version_major": 2,
       "version_minor": 0
      },
      "text/plain": [
       "output-audio.7z.024:   0%|          | 0.00/10.7G [00:00<?, ?B/s]"
      ]
     },
     "metadata": {},
     "output_type": "display_data"
    },
    {
     "name": "stdout",
     "output_type": "stream",
     "text": [
      "output-audio.7z.025\n"
     ]
    },
    {
     "data": {
      "application/vnd.jupyter.widget-view+json": {
       "model_id": "7e04297ab3cf44efbbd17ba58b52bd7e",
       "version_major": 2,
       "version_minor": 0
      },
      "text/plain": [
       "output-audio.7z.025:   0%|          | 0.00/10.7G [00:00<?, ?B/s]"
      ]
     },
     "metadata": {},
     "output_type": "display_data"
    },
    {
     "name": "stdout",
     "output_type": "stream",
     "text": [
      "output-audio.7z.026\n"
     ]
    },
    {
     "data": {
      "application/vnd.jupyter.widget-view+json": {
       "model_id": "23ef123acc5a4207abe7005b0cb8b22d",
       "version_major": 2,
       "version_minor": 0
      },
      "text/plain": [
       "output-audio.7z.026:   0%|          | 0.00/10.7G [00:00<?, ?B/s]"
      ]
     },
     "metadata": {},
     "output_type": "display_data"
    },
    {
     "name": "stdout",
     "output_type": "stream",
     "text": [
      "output-audio.7z.027\n"
     ]
    },
    {
     "data": {
      "application/vnd.jupyter.widget-view+json": {
       "model_id": "ed3bbed2c9bb4c2aa79e0c42555fd795",
       "version_major": 2,
       "version_minor": 0
      },
      "text/plain": [
       "output-audio.7z.027:   0%|          | 0.00/10.7G [00:00<?, ?B/s]"
      ]
     },
     "metadata": {},
     "output_type": "display_data"
    },
    {
     "name": "stdout",
     "output_type": "stream",
     "text": [
      "output-audio.7z.028\n"
     ]
    },
    {
     "data": {
      "application/vnd.jupyter.widget-view+json": {
       "model_id": "e1d1152ad5b943d18113a51aebcd783b",
       "version_major": 2,
       "version_minor": 0
      },
      "text/plain": [
       "output-audio.7z.028:   0%|          | 0.00/10.7G [00:00<?, ?B/s]"
      ]
     },
     "metadata": {},
     "output_type": "display_data"
    },
    {
     "name": "stdout",
     "output_type": "stream",
     "text": [
      "output-audio.7z.029\n"
     ]
    },
    {
     "data": {
      "application/vnd.jupyter.widget-view+json": {
       "model_id": "fd8f8ade72f943128bfa8c1243153872",
       "version_major": 2,
       "version_minor": 0
      },
      "text/plain": [
       "output-audio.7z.029:   0%|          | 0.00/10.7G [00:00<?, ?B/s]"
      ]
     },
     "metadata": {},
     "output_type": "display_data"
    },
    {
     "name": "stdout",
     "output_type": "stream",
     "text": [
      "output-audio.7z.030\n"
     ]
    },
    {
     "data": {
      "application/vnd.jupyter.widget-view+json": {
       "model_id": "6f62c008fd914170a4fa2b3dd9174f27",
       "version_major": 2,
       "version_minor": 0
      },
      "text/plain": [
       "output-audio.7z.030:   0%|          | 0.00/10.7G [00:00<?, ?B/s]"
      ]
     },
     "metadata": {},
     "output_type": "display_data"
    },
    {
     "name": "stdout",
     "output_type": "stream",
     "text": [
      "output-audio.7z.031\n"
     ]
    },
    {
     "data": {
      "application/vnd.jupyter.widget-view+json": {
       "model_id": "478ffde0e1ee41b8907196e74a587913",
       "version_major": 2,
       "version_minor": 0
      },
      "text/plain": [
       "output-audio.7z.031:   0%|          | 0.00/10.7G [00:00<?, ?B/s]"
      ]
     },
     "metadata": {},
     "output_type": "display_data"
    },
    {
     "name": "stdout",
     "output_type": "stream",
     "text": [
      "output-audio.7z.032\n"
     ]
    },
    {
     "data": {
      "application/vnd.jupyter.widget-view+json": {
       "model_id": "0e040e1f2dd0443fb945169ba861dae7",
       "version_major": 2,
       "version_minor": 0
      },
      "text/plain": [
       "output-audio.7z.032:   0%|          | 0.00/10.7G [00:00<?, ?B/s]"
      ]
     },
     "metadata": {},
     "output_type": "display_data"
    },
    {
     "name": "stdout",
     "output_type": "stream",
     "text": [
      "output-audio.7z.033\n"
     ]
    },
    {
     "data": {
      "application/vnd.jupyter.widget-view+json": {
       "model_id": "0c0e871ae17b4b95bb45b0dc1e7d4f8b",
       "version_major": 2,
       "version_minor": 0
      },
      "text/plain": [
       "output-audio.7z.033:   0%|          | 0.00/425M [00:00<?, ?B/s]"
      ]
     },
     "metadata": {},
     "output_type": "display_data"
    }
   ],
   "source": [
    "for f in files:\n",
    "    print(f)\n",
    "    api.upload_file(\n",
    "        path_or_fileobj=f,\n",
    "        path_in_repo=f,\n",
    "        repo_id='mesolitica/pseudolabel-malaysian-youtube-whisper-large-v3',\n",
    "        repo_type='dataset',\n",
    "    )"
   ]
  },
  {
   "cell_type": "code",
   "execution_count": null,
   "id": "e3237f29",
   "metadata": {},
   "outputs": [],
   "source": []
  }
 ],
 "metadata": {
  "kernelspec": {
   "display_name": "Python 3 (ipykernel)",
   "language": "python",
   "name": "python3"
  },
  "language_info": {
   "codemirror_mode": {
    "name": "ipython",
    "version": 3
   },
   "file_extension": ".py",
   "mimetype": "text/x-python",
   "name": "python",
   "nbconvert_exporter": "python",
   "pygments_lexer": "ipython3",
   "version": "3.10.12"
  }
 },
 "nbformat": 4,
 "nbformat_minor": 5
}
