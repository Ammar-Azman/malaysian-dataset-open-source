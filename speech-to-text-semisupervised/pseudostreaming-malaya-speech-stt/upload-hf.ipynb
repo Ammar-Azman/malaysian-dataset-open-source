{
 "cells": [
  {
   "cell_type": "code",
   "execution_count": 1,
   "id": "b001ddf1",
   "metadata": {},
   "outputs": [
    {
     "name": "stdout",
     "output_type": "stream",
     "text": [
      "1611536 pseudolabel.jsonl\r\n"
     ]
    }
   ],
   "source": [
    "!wc -l pseudolabel.jsonl"
   ]
  },
  {
   "cell_type": "code",
   "execution_count": 2,
   "id": "124f5c48",
   "metadata": {},
   "outputs": [],
   "source": [
    "import json\n",
    "import os\n",
    "from tqdm import tqdm"
   ]
  },
  {
   "cell_type": "code",
   "execution_count": 3,
   "id": "f441f413",
   "metadata": {},
   "outputs": [
    {
     "data": {
      "text/plain": [
       "1611536"
      ]
     },
     "execution_count": 3,
     "metadata": {},
     "output_type": "execute_result"
    }
   ],
   "source": [
    "filtered = []\n",
    "\n",
    "with open('pseudolabel.jsonl') as fopen:\n",
    "    for l in fopen:\n",
    "        l = json.loads(l)\n",
    "        f = l['audio_filename']\n",
    "        if not os.path.exists(f):\n",
    "            continue\n",
    "        t = l['predict_ms'][41:-13].strip()\n",
    "        filtered.append((f, t))\n",
    "        \n",
    "len(filtered)"
   ]
  },
  {
   "cell_type": "code",
   "execution_count": 4,
   "id": "ecff2e54",
   "metadata": {},
   "outputs": [
    {
     "name": "stderr",
     "output_type": "stream",
     "text": [
      "100%|███████████████████████████████████████████████████████████████████████████████████████| 1611536/1611536 [01:45<00:00, 15287.45it/s]\n"
     ]
    }
   ],
   "source": [
    "with open('pseudostreaming.jsonl', 'w') as fopen_l:\n",
    "    for i in tqdm(range(len(filtered))):\n",
    "        filename = os.path.join('force-alignment', f'{i}.json')\n",
    "        if not os.path.exists(filename):\n",
    "            continue\n",
    "        try:\n",
    "            with open(filename) as fopen:\n",
    "                data = json.load(fopen)\n",
    "            \n",
    "            data['filename'] = filtered[i][0]\n",
    "            data['text'] = filtered[i][1]\n",
    "            fopen_l.write(f'{json.dumps(data)}\\n')\n",
    "        except:\n",
    "            pass"
   ]
  },
  {
   "cell_type": "code",
   "execution_count": 5,
   "id": "746df9c9",
   "metadata": {},
   "outputs": [
    {
     "name": "stderr",
     "output_type": "stream",
     "text": [
      "/home/husein/.local/lib/python3.8/site-packages/requests/__init__.py:102: RequestsDependencyWarning: urllib3 (1.26.15) or chardet (5.2.0)/charset_normalizer (2.0.7) doesn't match a supported version!\n",
      "  warnings.warn(\"urllib3 ({}) or chardet ({})/charset_normalizer ({}) doesn't match a supported \"\n"
     ]
    }
   ],
   "source": [
    "from huggingface_hub import HfApi\n",
    "api = HfApi()"
   ]
  },
  {
   "cell_type": "code",
   "execution_count": 6,
   "id": "8b6d53df",
   "metadata": {},
   "outputs": [
    {
     "data": {
      "application/vnd.jupyter.widget-view+json": {
       "model_id": "ec802c6bc5994a79b5e1b47b9e5a3185",
       "version_major": 2,
       "version_minor": 0
      },
      "text/plain": [
       "pseudostreaming.jsonl:   0%|          | 0.00/3.58G [00:00<?, ?B/s]"
      ]
     },
     "metadata": {},
     "output_type": "display_data"
    },
    {
     "data": {
      "text/plain": [
       "'https://huggingface.co/datasets/mesolitica/pseudostreaming-malaya-speech-stt/blob/main/pseudostreaming.jsonl'"
      ]
     },
     "execution_count": 6,
     "metadata": {},
     "output_type": "execute_result"
    }
   ],
   "source": [
    "api.upload_file(\n",
    "    path_or_fileobj='pseudostreaming.jsonl',\n",
    "    path_in_repo='pseudostreaming.jsonl',\n",
    "    repo_id='mesolitica/pseudostreaming-malaya-speech-stt',\n",
    "    repo_type='dataset',\n",
    ")"
   ]
  },
  {
   "cell_type": "code",
   "execution_count": null,
   "id": "ec43301a",
   "metadata": {},
   "outputs": [],
   "source": []
  }
 ],
 "metadata": {
  "kernelspec": {
   "display_name": "Python 3 (ipykernel)",
   "language": "python",
   "name": "python3"
  },
  "language_info": {
   "codemirror_mode": {
    "name": "ipython",
    "version": 3
   },
   "file_extension": ".py",
   "mimetype": "text/x-python",
   "name": "python",
   "nbconvert_exporter": "python",
   "pygments_lexer": "ipython3",
   "version": "3.8.10"
  }
 },
 "nbformat": 4,
 "nbformat_minor": 5
}
