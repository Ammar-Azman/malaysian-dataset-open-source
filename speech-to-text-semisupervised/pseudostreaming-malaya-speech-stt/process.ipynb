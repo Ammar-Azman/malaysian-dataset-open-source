{
 "cells": [
  {
   "cell_type": "code",
   "execution_count": 1,
   "id": "9cc9c5c8",
   "metadata": {},
   "outputs": [],
   "source": [
    "# !wget https://huggingface.co/mesolitica/conformer-medium-malay-whisper/resolve/main/malay-stt.model\n",
    "# !wget https://gist.githubusercontent.com/huseinzol05/98974ae8c6c7a65d4bc0af9f5003786a/raw/2e06e71ef7349a57bc58cc9913ae6bae1f9f8447/mp.py"
   ]
  },
  {
   "cell_type": "code",
   "execution_count": 2,
   "id": "0648b889",
   "metadata": {},
   "outputs": [
    {
     "name": "stderr",
     "output_type": "stream",
     "text": [
      "/home/husein/.local/lib/python3.8/site-packages/requests/__init__.py:102: RequestsDependencyWarning: urllib3 (1.26.15) or chardet (5.2.0)/charset_normalizer (2.0.7) doesn't match a supported version!\n",
      "  warnings.warn(\"urllib3 ({}) or chardet ({})/charset_normalizer ({}) doesn't match a supported \"\n",
      "/home/husein/.local/lib/python3.8/site-packages/whisper/timing.py:58: NumbaDeprecationWarning: \u001b[1mThe 'nopython' keyword argument was not supplied to the 'numba.jit' decorator. The implicit default value for this argument is currently False, but it will be changed to True in Numba 0.59.0. See https://numba.readthedocs.io/en/stable/reference/deprecation.html#deprecation-of-object-mode-fall-back-behaviour-when-using-jit for details.\u001b[0m\n",
      "  def backtrace(trace: np.ndarray):\n",
      "`pyaudio` is not available, `malaya_speech.streaming.pyaudio` is not able to use.\n"
     ]
    }
   ],
   "source": [
    "from glob import glob\n",
    "import json\n",
    "import soundfile as sf\n",
    "from tqdm import tqdm\n",
    "import mp\n",
    "import os\n",
    "import sentencepiece as spm\n",
    "import malaya_speech\n",
    "import numpy as np\n",
    "\n",
    "sp_model = spm.SentencePieceProcessor(model_file='malay-stt.model')\n",
    "sr = 16000"
   ]
  },
  {
   "cell_type": "code",
   "execution_count": 3,
   "id": "a360131f",
   "metadata": {},
   "outputs": [
    {
     "data": {
      "text/plain": [
       "1611536"
      ]
     },
     "execution_count": 3,
     "metadata": {},
     "output_type": "execute_result"
    }
   ],
   "source": [
    "filtered = []\n",
    "\n",
    "with open('pseudolabel.jsonl') as fopen:\n",
    "    for l in fopen:\n",
    "        l = json.loads(l)\n",
    "        f = l['audio_filename']\n",
    "        if not os.path.exists(f):\n",
    "            continue\n",
    "        t = l['predict_ms'][41:-13].strip()\n",
    "        filtered.append((f, t))\n",
    "        \n",
    "len(filtered)"
   ]
  },
  {
   "cell_type": "code",
   "execution_count": 4,
   "id": "16a8e69b",
   "metadata": {},
   "outputs": [],
   "source": [
    "filtered = [(no, f) for no, f in enumerate(filtered)]"
   ]
  },
  {
   "cell_type": "code",
   "execution_count": 6,
   "id": "c9d1cf0c",
   "metadata": {},
   "outputs": [],
   "source": [
    "# with open('force-alignment/0.json') as fopen:\n",
    "#     data = json.load(fopen)"
   ]
  },
  {
   "cell_type": "code",
   "execution_count": 7,
   "id": "7ed13d83",
   "metadata": {},
   "outputs": [],
   "source": [
    "# split, temp = [], []\n",
    "# diag = data['diag']\n",
    "# for no, r in enumerate(data['subwords_alignment']):\n",
    "#     if r['score'] >= 0.05 or diag[no] > 0.1:\n",
    "#         temp.append(r)\n",
    "    \n",
    "#     else:\n",
    "#         if len(temp):\n",
    "#             split.append(temp)\n",
    "#             temp = []\n",
    "            \n",
    "# if len(temp):\n",
    "#     split.append(temp)\n",
    "    \n",
    "# selected = []\n",
    "# for s in split:\n",
    "#     start = s[0]['start']\n",
    "#     stack = [s[0]]\n",
    "#     for s_ in s[1:]:\n",
    "#         stack.append(s_)\n",
    "#         start = stack[0]['start']\n",
    "#         end = s_['end'] + 0.3\n",
    "#         if end - start >= 0.5:\n",
    "#             seq = [s__['text'] for s__ in stack]\n",
    "#             merged = sp_model.Decode(sp_model.PieceToId(seq))\n",
    "#             selected.append((merged, start, end))\n",
    "            \n",
    "# if np.mean(diag) > 0.5:\n",
    "#     seq = [s['text'] for s in data['subwords_alignment']]\n",
    "#     merged = sp_model.Decode(sp_model.PieceToId(seq))\n",
    "#     start = data['subwords_alignment'][0]['start']\n",
    "#     end = data['subwords_alignment'][-1]['end'] + 0.3\n",
    "#     selected.append((merged, start, end))"
   ]
  },
  {
   "cell_type": "code",
   "execution_count": 8,
   "id": "3da20a01",
   "metadata": {},
   "outputs": [
    {
     "name": "stdout",
     "output_type": "stream",
     "text": [
      "mkdir: cannot create directory ‘processed-audio’: File exists\r\n",
      "mkdir: cannot create directory ‘processed’: File exists\r\n"
     ]
    }
   ],
   "source": [
    "!mkdir processed-audio processed\n",
    "# !rm processed-audio/* processed/*"
   ]
  },
  {
   "cell_type": "code",
   "execution_count": 9,
   "id": "ded70ab5",
   "metadata": {},
   "outputs": [],
   "source": [
    "def loop(rows):\n",
    "    rows, index = rows\n",
    "    for row in tqdm(rows):\n",
    "        i, row = row\n",
    "        filename = os.path.join('force-alignment', f'{i}.json')\n",
    "        if not os.path.exists(filename):\n",
    "            continue\n",
    "        try:\n",
    "            with open(filename) as fopen:\n",
    "                data = json.load(fopen)\n",
    "                \n",
    "            if 'fatihah' in data['p']:\n",
    "                continue\n",
    "                \n",
    "            f_json = os.path.join('processed', f'{index}-{i}.json')\n",
    "            if os.path.exists(f_json):\n",
    "                continue\n",
    "                \n",
    "            y, sr = malaya_speech.load(row[0])\n",
    "            \n",
    "            split, temp = [], []\n",
    "            diag = data['diag']\n",
    "            for no, r in enumerate(data['subwords_alignment']):\n",
    "                if r['score'] >= 0.05 or diag[no] > 0.1:\n",
    "                    temp.append(r)\n",
    "\n",
    "                else:\n",
    "                    if len(temp):\n",
    "                        split.append(temp)\n",
    "                        temp = []\n",
    "\n",
    "            if len(temp):\n",
    "                split.append(temp)\n",
    "\n",
    "            selected = []\n",
    "            for s in split:\n",
    "                start = s[0]['start']\n",
    "                stack = [s[0]]\n",
    "                for s_ in s[1:]:\n",
    "                    stack.append(s_)\n",
    "                    start = stack[0]['start']\n",
    "                    end = s_['end'] + 0.3\n",
    "                    if end - start >= 0.5:\n",
    "                        seq = [s__['text'] for s__ in stack]\n",
    "                        merged = sp_model.Decode(sp_model.PieceToId(seq))\n",
    "                        selected.append((merged, start, end))\n",
    "\n",
    "            if np.mean(diag) > 0.5:\n",
    "                seq = [s['text'] for s in data['subwords_alignment']]\n",
    "                merged = sp_model.Decode(sp_model.PieceToId(seq))\n",
    "                start = data['subwords_alignment'][0]['start']\n",
    "                end = data['subwords_alignment'][-1]['end'] + 0.3\n",
    "                selected.append((merged, start, end))\n",
    "            \n",
    "            if not len(selected):\n",
    "                continue\n",
    "                \n",
    "            filtered = []\n",
    "            for no, s in enumerate(selected):\n",
    "                f = os.path.join('processed-audio', f'{index}-{i}-{no}.mp3')\n",
    "                start = int(s[1] * sr)\n",
    "                end = int(s[2] * sr)\n",
    "                sf.write(f, y[start: end], sr)\n",
    "                filtered.append(\n",
    "                    {\n",
    "                        'text': s[0],\n",
    "                        'start': s[1],\n",
    "                        'end': s[2],\n",
    "                        'audio_filename': f,\n",
    "                        'original_audio_filename': row[0],\n",
    "                    }\n",
    "                )\n",
    "                \n",
    "            with open(f_json, 'w') as fopen:\n",
    "                json.dump(filtered, fopen)\n",
    "            \n",
    "        except:\n",
    "            pass"
   ]
  },
  {
   "cell_type": "code",
   "execution_count": 10,
   "id": "25571a96",
   "metadata": {},
   "outputs": [
    {
     "name": "stderr",
     "output_type": "stream",
     "text": [
      "100%|██████████████████████████████████████████████████████████████████████████████████████████████████| 10/10 [00:00<00:00, 1095.52it/s]\n"
     ]
    }
   ],
   "source": [
    "loop((filtered[:10], 0))"
   ]
  },
  {
   "cell_type": "code",
   "execution_count": 13,
   "id": "eca695b4",
   "metadata": {},
   "outputs": [
    {
     "name": "stderr",
     "output_type": "stream",
     "text": [
      "100%|█████████████████████████████████████████████████████████████████████████████████████████| 322307/322307 [12:36:24<00:00,  7.10it/s]\n",
      "100%|██████████████████████████████████████████████████████████████████████████████████████████████████████| 1/1 [00:00<00:00, 67.04it/s]\n",
      "100%|█████████████████████████████████████████████████████████████████████████████████████████| 322307/322307 [12:36:18<00:00,  7.10it/s]\n",
      "100%|█████████████████████████████████████████████████████████████████████████████████████████| 322307/322307 [12:36:43<00:00,  7.10it/s]\n",
      "100%|█████████████████████████████████████████████████████████████████████████████████████████| 322307/322307 [12:38:03<00:00,  7.09it/s]\n",
      "100%|█████████████████████████████████████████████████████████████████████████████████████████| 322307/322307 [12:38:46<00:00,  7.08it/s]\n"
     ]
    }
   ],
   "source": [
    "mp.multiprocessing(filtered, loop, cores = 5, returned = False)"
   ]
  },
  {
   "cell_type": "code",
   "execution_count": 20,
   "id": "f91dde7f",
   "metadata": {},
   "outputs": [
    {
     "data": {
      "text/plain": [
       "1046340"
      ]
     },
     "execution_count": 20,
     "metadata": {},
     "output_type": "execute_result"
    }
   ],
   "source": [
    "processed = glob('processed/*.json')\n",
    "len(processed)"
   ]
  },
  {
   "cell_type": "code",
   "execution_count": 21,
   "id": "e727c147",
   "metadata": {},
   "outputs": [
    {
     "data": {
      "text/plain": [
       "[{'text': 'nampak',\n",
       "  'start': 0.28084332579185517,\n",
       "  'end': 0.6209638009049774,\n",
       "  'audio_filename': 'processed-audio/3-1276358-0.mp3',\n",
       "  'original_audio_filename': 'output-audio/1-39886-6.mp3'}]"
      ]
     },
     "execution_count": 21,
     "metadata": {},
     "output_type": "execute_result"
    }
   ],
   "source": [
    "with open(processed[-1]) as fopen:\n",
    "    d = json.load(fopen)\n",
    "d"
   ]
  },
  {
   "cell_type": "code",
   "execution_count": 16,
   "id": "88be750f",
   "metadata": {},
   "outputs": [
    {
     "data": {
      "text/html": [
       "\n",
       "                <audio  controls=\"controls\" >\n",
       "                    <source src=\"data:audio/mpeg;base64,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\" type=\"audio/mpeg\" />\n",
       "                    Your browser does not support the audio element.\n",
       "                </audio>\n",
       "              "
      ],
      "text/plain": [
       "<IPython.lib.display.Audio object>"
      ]
     },
     "execution_count": 16,
     "metadata": {},
     "output_type": "execute_result"
    }
   ],
   "source": [
    "import IPython.display as ipd\n",
    "\n",
    "ipd.Audio('processed-audio/3-1276358-0.mp3')"
   ]
  },
  {
   "cell_type": "code",
   "execution_count": 17,
   "id": "e1b84f9a",
   "metadata": {},
   "outputs": [
    {
     "name": "stdout",
     "output_type": "stream",
     "text": [
      "195G\tprocessed-audio\r\n"
     ]
    }
   ],
   "source": [
    "!du -hs processed-audio"
   ]
  },
  {
   "cell_type": "code",
   "execution_count": 19,
   "id": "b522fb32",
   "metadata": {},
   "outputs": [],
   "source": [
    "# !~/7zz -v10g a processed-audio.7z processed-audio > /dev/null"
   ]
  },
  {
   "cell_type": "code",
   "execution_count": 22,
   "id": "af8c0e5b",
   "metadata": {},
   "outputs": [
    {
     "name": "stderr",
     "output_type": "stream",
     "text": [
      "100%|████████████████████████████████████████████████████████████████████████████████████████| 1046340/1046340 [07:47<00:00, 2239.37it/s]\n"
     ]
    }
   ],
   "source": [
    "with open('processed.jsonl', 'w') as fopen_l:\n",
    "    for f in tqdm(processed):\n",
    "        try:\n",
    "            with open(f) as fopen:\n",
    "                data = json.load(fopen)\n",
    "            fopen_l.write(f'{json.dumps(data)}\\n')\n",
    "        except:\n",
    "            pass"
   ]
  },
  {
   "cell_type": "code",
   "execution_count": 23,
   "id": "607a9353",
   "metadata": {},
   "outputs": [],
   "source": [
    "from huggingface_hub import HfApi\n",
    "api = HfApi()"
   ]
  },
  {
   "cell_type": "code",
   "execution_count": 24,
   "id": "02859ba8",
   "metadata": {},
   "outputs": [
    {
     "data": {
      "application/vnd.jupyter.widget-view+json": {
       "model_id": "1ba11985bd0d4b64a70ee231785b6bc0",
       "version_major": 2,
       "version_minor": 0
      },
      "text/plain": [
       "processed.jsonl:   0%|          | 0.00/2.62G [00:00<?, ?B/s]"
      ]
     },
     "metadata": {},
     "output_type": "display_data"
    },
    {
     "data": {
      "text/plain": [
       "'https://huggingface.co/datasets/mesolitica/pseudostreaming-malaya-speech-stt/blob/main/processed.jsonl'"
      ]
     },
     "execution_count": 24,
     "metadata": {},
     "output_type": "execute_result"
    }
   ],
   "source": [
    "api.upload_file(\n",
    "    path_or_fileobj='processed.jsonl',\n",
    "    path_in_repo='processed.jsonl',\n",
    "    repo_id='mesolitica/pseudostreaming-malaya-speech-stt',\n",
    "    repo_type='dataset',\n",
    ")"
   ]
  },
  {
   "cell_type": "code",
   "execution_count": null,
   "id": "8fd20de5",
   "metadata": {},
   "outputs": [
    {
     "name": "stdout",
     "output_type": "stream",
     "text": [
      "processed-audio.7z.002\n"
     ]
    },
    {
     "data": {
      "application/vnd.jupyter.widget-view+json": {
       "model_id": "065e71e9354641a4822d48707d6c2b8e",
       "version_major": 2,
       "version_minor": 0
      },
      "text/plain": [
       "processed-audio.7z.002:   0%|          | 0.00/10.7G [00:00<?, ?B/s]"
      ]
     },
     "metadata": {},
     "output_type": "display_data"
    },
    {
     "name": "stderr",
     "output_type": "stream",
     "text": [
      "IOPub message rate exceeded.\n",
      "The notebook server will temporarily stop sending output\n",
      "to the client in order to avoid crashing it.\n",
      "To change this limit, set the config variable\n",
      "`--NotebookApp.iopub_msg_rate_limit`.\n",
      "\n",
      "Current values:\n",
      "NotebookApp.iopub_msg_rate_limit=1000.0 (msgs/sec)\n",
      "NotebookApp.rate_limit_window=3.0 (secs)\n",
      "\n"
     ]
    }
   ],
   "source": [
    "for f in glob('*7z*'):\n",
    "    print(f)\n",
    "    api.upload_file(\n",
    "        path_or_fileobj=f,\n",
    "        path_in_repo=f,\n",
    "        repo_id='mesolitica/pseudostreaming-malaya-speech-stt',\n",
    "        repo_type='dataset',\n",
    "    )"
   ]
  },
  {
   "cell_type": "code",
   "execution_count": 30,
   "id": "196608c1",
   "metadata": {},
   "outputs": [
    {
     "data": {
      "text/plain": [
       "12550048"
      ]
     },
     "execution_count": 30,
     "metadata": {},
     "output_type": "execute_result"
    }
   ],
   "source": [
    "files = glob('processed-audio/*.mp3')\n",
    "len(files)"
   ]
  },
  {
   "cell_type": "code",
   "execution_count": 32,
   "id": "042cd852",
   "metadata": {},
   "outputs": [],
   "source": [
    "def loop(files):\n",
    "    files, _ = files\n",
    "    total = 0\n",
    "    for f in tqdm(files):\n",
    "        y, sr = malaya_speech.load(f)\n",
    "        total += len(y) / sr\n",
    "    return [total]"
   ]
  },
  {
   "cell_type": "code",
   "execution_count": 39,
   "id": "ae74ff3b",
   "metadata": {},
   "outputs": [
    {
     "name": "stderr",
     "output_type": "stream",
     "text": [
      " 41%|████████████████████████████████████▍                                                     | 848053/2091674 [15:36<24:07, 858.93it/s]IOPub message rate exceeded.\n",
      "The notebook server will temporarily stop sending output\n",
      "to the client in order to avoid crashing it.\n",
      "To change this limit, set the config variable\n",
      "`--NotebookApp.iopub_msg_rate_limit`.\n",
      "\n",
      "Current values:\n",
      "NotebookApp.iopub_msg_rate_limit=1000.0 (msgs/sec)\n",
      "NotebookApp.rate_limit_window=3.0 (secs)\n",
      "\n",
      " 55%|████████████████████████████████████████████████▍                                       | 1151062/2091674 [21:11<15:31, 1009.71it/s]IOPub message rate exceeded.\n",
      "The notebook server will temporarily stop sending output\n",
      "to the client in order to avoid crashing it.\n",
      "To change this limit, set the config variable\n",
      "`--NotebookApp.iopub_msg_rate_limit`.\n",
      "\n",
      "Current values:\n",
      "NotebookApp.iopub_msg_rate_limit=1000.0 (msgs/sec)\n",
      "NotebookApp.rate_limit_window=3.0 (secs)\n",
      "\n",
      " 74%|█████████████████████████████████████████████████████████████████▍                       | 1538805/2091674 [28:15<09:17, 990.91it/s]IOPub message rate exceeded.\n",
      "The notebook server will temporarily stop sending output\n",
      "to the client in order to avoid crashing it.\n",
      "To change this limit, set the config variable\n",
      "`--NotebookApp.iopub_msg_rate_limit`.\n",
      "\n",
      "Current values:\n",
      "NotebookApp.iopub_msg_rate_limit=1000.0 (msgs/sec)\n",
      "NotebookApp.rate_limit_window=3.0 (secs)\n",
      "\n",
      " 91%|█████████████████████████████████████████████████████████████████████████████████        | 1905199/2091674 [34:51<03:32, 876.13it/s]IOPub message rate exceeded.\n",
      "The notebook server will temporarily stop sending output\n",
      "to the client in order to avoid crashing it.\n",
      "To change this limit, set the config variable\n",
      "`--NotebookApp.iopub_msg_rate_limit`.\n",
      "\n",
      "Current values:\n",
      "NotebookApp.iopub_msg_rate_limit=1000.0 (msgs/sec)\n",
      "NotebookApp.rate_limit_window=3.0 (secs)\n",
      "\n"
     ]
    }
   ],
   "source": [
    "totals = mp.multiprocessing(files, loop)"
   ]
  },
  {
   "cell_type": "code",
   "execution_count": 40,
   "id": "0b909378",
   "metadata": {},
   "outputs": [
    {
     "data": {
      "text/plain": [
       "8667.802379812754"
      ]
     },
     "execution_count": 40,
     "metadata": {},
     "output_type": "execute_result"
    }
   ],
   "source": [
    "sum(totals) / 60 / 60"
   ]
  },
  {
   "cell_type": "code",
   "execution_count": null,
   "id": "324fffd3",
   "metadata": {},
   "outputs": [],
   "source": []
  }
 ],
 "metadata": {
  "kernelspec": {
   "display_name": "Python 3 (ipykernel)",
   "language": "python",
   "name": "python3"
  },
  "language_info": {
   "codemirror_mode": {
    "name": "ipython",
    "version": 3
   },
   "file_extension": ".py",
   "mimetype": "text/x-python",
   "name": "python",
   "nbconvert_exporter": "python",
   "pygments_lexer": "ipython3",
   "version": "3.8.10"
  }
 },
 "nbformat": 4,
 "nbformat_minor": 5
}
