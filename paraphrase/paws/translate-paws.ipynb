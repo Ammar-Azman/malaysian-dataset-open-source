{
 "cells": [
  {
   "cell_type": "code",
   "execution_count": 1,
   "metadata": {},
   "outputs": [],
   "source": [
    "import os\n",
    "\n",
    "os.environ['CUDA_VISIBLE_DEVICES'] = '0'\n",
    "os.environ['TF_FORCE_GPU_ALLOW_GROWTH'] = 'true'"
   ]
  },
  {
   "cell_type": "code",
   "execution_count": 2,
   "metadata": {},
   "outputs": [],
   "source": [
    "# !wget https://storage.googleapis.com/paws/english/paws_wiki_labeled_final.tar.gz\n",
    "# !tar -xzf paws_wiki_labeled_final.tar.gz"
   ]
  },
  {
   "cell_type": "code",
   "execution_count": 3,
   "metadata": {},
   "outputs": [],
   "source": [
    "import csv\n",
    "\n",
    "train_examples = []\n",
    "test_examples = []\n",
    "dev_examples = []\n",
    "\n",
    "with open(\"final/train.tsv\",\"r\") as csvfile:\n",
    "\n",
    "  reader = csv.reader(csvfile,delimiter=\"\\t\")\n",
    "  \n",
    "  next(reader)\n",
    "\n",
    "  for row in reader:\n",
    "\n",
    "    if row[3] == \"1\":\n",
    "      train_examples.append((row[1],row[2]))\n",
    "\n",
    "\n",
    "\n",
    "with open(\"final/test.tsv\",\"r\") as csvfile:\n",
    "\n",
    "  reader = csv.reader(csvfile,delimiter=\"\\t\")\n",
    "  \n",
    "  next(reader)\n",
    "\n",
    "  for row in reader:\n",
    "\n",
    "    if row[3] == \"1\":\n",
    "      test_examples.append((row[1],row[2]))\n",
    "\n",
    "\n",
    "with open(\"final/dev.tsv\",\"r\") as csvfile:\n",
    "\n",
    "  reader = csv.reader(csvfile,delimiter=\"\\t\")\n",
    "  \n",
    "  next(reader)\n",
    "\n",
    "  for row in reader:\n",
    "\n",
    "    if row[3] == \"1\":\n",
    "      dev_examples.append((row[1],row[2]))"
   ]
  },
  {
   "cell_type": "code",
   "execution_count": 5,
   "metadata": {},
   "outputs": [
    {
     "data": {
      "text/plain": [
       "(21829, 3536, 3539)"
      ]
     },
     "execution_count": 5,
     "metadata": {},
     "output_type": "execute_result"
    }
   ],
   "source": [
    "len(train_examples), len(test_examples), len(dev_examples)"
   ]
  },
  {
   "cell_type": "code",
   "execution_count": 6,
   "metadata": {},
   "outputs": [
    {
     "data": {
      "text/plain": [
       "('The NBA season of 1975 -- 76 was the 30th season of the National Basketball Association .',\n",
       " 'The 1975 -- 76 season of the National Basketball Association was the 30th season of the NBA .')"
      ]
     },
     "execution_count": 6,
     "metadata": {},
     "output_type": "execute_result"
    }
   ],
   "source": [
    "train_examples[0]"
   ]
  },
  {
   "cell_type": "code",
   "execution_count": 7,
   "metadata": {},
   "outputs": [],
   "source": [
    "from transformers import T5Tokenizer, T5ForConditionalGeneration\n",
    "\n",
    "tokenizer = T5Tokenizer.from_pretrained('mesolitica/finetune-translation-t5-small-standard-bahasa-cased')\n",
    "model = T5ForConditionalGeneration.from_pretrained('mesolitica/finetune-translation-t5-small-standard-bahasa-cased')"
   ]
  },
  {
   "cell_type": "code",
   "execution_count": 8,
   "metadata": {},
   "outputs": [],
   "source": [
    "_ = model.cuda()"
   ]
  },
  {
   "cell_type": "code",
   "execution_count": 9,
   "metadata": {},
   "outputs": [
    {
     "data": {
      "text/plain": [
       "['The NBA season of 1975 -- 76 was the 30th season of the National Basketball Association .',\n",
       " 'The 1975 -- 76 season of the National Basketball Association was the 30th season of the NBA .']"
      ]
     },
     "execution_count": 9,
     "metadata": {},
     "output_type": "execute_result"
    }
   ],
   "source": [
    "batch = [b for b in train_examples[0] if len(b.split()) <= 100]\n",
    "batch"
   ]
  },
  {
   "cell_type": "code",
   "execution_count": 11,
   "metadata": {},
   "outputs": [
    {
     "data": {
      "text/plain": [
       "['Musim NBA 1975-76 adalah musim ke-30 Persatuan Bola Keranjang Kebangsaan.',\n",
       " 'Musim 1975-76 Persatuan Bola Keranjang Kebangsaan adalah musim ke-30 NBA.']"
      ]
     },
     "execution_count": 11,
     "metadata": {},
     "output_type": "execute_result"
    }
   ],
   "source": [
    "t = ['terjemah Inggeris ke Melayu: ' + b for b in batch]\n",
    "inputs = tokenizer(t, return_tensors=\"pt\", padding = True)\n",
    "for k in inputs.keys():\n",
    "    inputs[k] = inputs[k].cuda()\n",
    "\n",
    "translated_tokens = model.generate(**inputs, max_length=500)\n",
    "decoded = tokenizer.batch_decode(translated_tokens, skip_special_tokens=True)\n",
    "decoded"
   ]
  },
  {
   "cell_type": "code",
   "execution_count": 15,
   "metadata": {},
   "outputs": [
    {
     "name": "stderr",
     "output_type": "stream",
     "text": [
      "100%|█████████████████████████████████████| 21829/21829 [48:02<00:00,  7.57it/s]\n"
     ]
    }
   ],
   "source": [
    "from tqdm import tqdm\n",
    "\n",
    "translated_train_examples = []\n",
    "for i in tqdm(range(len(train_examples))):\n",
    "    batch = [b for b in train_examples[i] if len(b.split()) <= 100]\n",
    "    t = ['terjemah Inggeris ke Melayu: ' + b for b in batch]\n",
    "    inputs = tokenizer(t, return_tensors=\"pt\", padding = True)\n",
    "    for k in inputs.keys():\n",
    "        inputs[k] = inputs[k].cuda()\n",
    "\n",
    "    translated_tokens = model.generate(**inputs, max_length=500)\n",
    "    decoded = tokenizer.batch_decode(translated_tokens, skip_special_tokens=True)\n",
    "    \n",
    "    translated_train_examples.append(\n",
    "        {\n",
    "            'en': train_examples[i],\n",
    "            'ms': decoded,\n",
    "        }\n",
    "    )"
   ]
  },
  {
   "cell_type": "code",
   "execution_count": 16,
   "metadata": {},
   "outputs": [
    {
     "data": {
      "text/plain": [
       "{'en': ('The NBA season of 1975 -- 76 was the 30th season of the National Basketball Association .',\n",
       "  'The 1975 -- 76 season of the National Basketball Association was the 30th season of the NBA .'),\n",
       " 'ms': ['Musim NBA 1975-76 adalah musim ke-30 Persatuan Bola Keranjang Kebangsaan.',\n",
       "  'Musim 1975-76 Persatuan Bola Keranjang Kebangsaan adalah musim ke-30 NBA.']}"
      ]
     },
     "execution_count": 16,
     "metadata": {},
     "output_type": "execute_result"
    }
   ],
   "source": [
    "translated_train_examples[0]"
   ]
  },
  {
   "cell_type": "code",
   "execution_count": 17,
   "metadata": {},
   "outputs": [
    {
     "name": "stderr",
     "output_type": "stream",
     "text": [
      "100%|███████████████████████████████████████| 3536/3536 [07:20<00:00,  8.03it/s]\n"
     ]
    }
   ],
   "source": [
    "translated_test_examples = []\n",
    "for i in tqdm(range(len(test_examples))):\n",
    "    batch = [b for b in test_examples[i] if len(b.split()) <= 100]\n",
    "    t = ['terjemah Inggeris ke Melayu: ' + b for b in batch]\n",
    "    inputs = tokenizer(t, return_tensors=\"pt\", padding = True)\n",
    "    for k in inputs.keys():\n",
    "        inputs[k] = inputs[k].cuda()\n",
    "\n",
    "    translated_tokens = model.generate(**inputs, max_length=500)\n",
    "    decoded = tokenizer.batch_decode(translated_tokens, skip_special_tokens=True)\n",
    "    \n",
    "    translated_test_examples.append(\n",
    "        {\n",
    "            'en': test_examples[i],\n",
    "            'ms': decoded,\n",
    "        }\n",
    "    )"
   ]
  },
  {
   "cell_type": "code",
   "execution_count": 18,
   "metadata": {},
   "outputs": [
    {
     "name": "stderr",
     "output_type": "stream",
     "text": [
      "100%|███████████████████████████████████████| 3539/3539 [07:22<00:00,  7.99it/s]\n"
     ]
    }
   ],
   "source": [
    "translated_dev_examples = []\n",
    "for i in tqdm(range(len(dev_examples))):\n",
    "    batch = [b for b in dev_examples[i] if len(b.split()) <= 100]\n",
    "    t = ['terjemah Inggeris ke Melayu: ' + b for b in batch]\n",
    "    inputs = tokenizer(t, return_tensors=\"pt\", padding = True)\n",
    "    for k in inputs.keys():\n",
    "        inputs[k] = inputs[k].cuda()\n",
    "\n",
    "    translated_tokens = model.generate(**inputs, max_length=500)\n",
    "    decoded = tokenizer.batch_decode(translated_tokens, skip_special_tokens=True)\n",
    "    \n",
    "    translated_dev_examples.append(\n",
    "        {\n",
    "            'en': dev_examples[i],\n",
    "            'ms': decoded,\n",
    "        }\n",
    "    )"
   ]
  },
  {
   "cell_type": "code",
   "execution_count": 20,
   "metadata": {},
   "outputs": [
    {
     "data": {
      "text/plain": [
       "{'en': ('The NBA season of 1975 -- 76 was the 30th season of the National Basketball Association .',\n",
       "  'The 1975 -- 76 season of the National Basketball Association was the 30th season of the NBA .'),\n",
       " 'ms': ['Musim NBA 1975-76 adalah musim ke-30 Persatuan Bola Keranjang Kebangsaan.',\n",
       "  'Musim 1975-76 Persatuan Bola Keranjang Kebangsaan adalah musim ke-30 NBA.']}"
      ]
     },
     "execution_count": 20,
     "metadata": {},
     "output_type": "execute_result"
    }
   ],
   "source": [
    "translated_train_examples[0]"
   ]
  },
  {
   "cell_type": "code",
   "execution_count": 21,
   "metadata": {},
   "outputs": [],
   "source": [
    "import json\n",
    "\n",
    "with open('paws-train.json', 'w') as fopen:\n",
    "    json.dump(translated_train_examples, fopen)"
   ]
  },
  {
   "cell_type": "code",
   "execution_count": 22,
   "metadata": {},
   "outputs": [],
   "source": [
    "with open('paws-test.json', 'w') as fopen:\n",
    "    json.dump(translated_test_examples, fopen)"
   ]
  },
  {
   "cell_type": "code",
   "execution_count": 23,
   "metadata": {},
   "outputs": [],
   "source": [
    "with open('paws-dev.json', 'w') as fopen:\n",
    "    json.dump(translated_dev_examples, fopen)"
   ]
  }
 ],
 "metadata": {
  "kernelspec": {
   "display_name": "Python 3 (ipykernel)",
   "language": "python",
   "name": "python3"
  },
  "language_info": {
   "codemirror_mode": {
    "name": "ipython",
    "version": 3
   },
   "file_extension": ".py",
   "mimetype": "text/x-python",
   "name": "python",
   "nbconvert_exporter": "python",
   "pygments_lexer": "ipython3",
   "version": "3.8.10"
  }
 },
 "nbformat": 4,
 "nbformat_minor": 4
}
