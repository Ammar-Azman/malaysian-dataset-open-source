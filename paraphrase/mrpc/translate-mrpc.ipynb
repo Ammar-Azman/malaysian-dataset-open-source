{
 "cells": [
  {
   "cell_type": "code",
   "execution_count": 1,
   "metadata": {},
   "outputs": [],
   "source": [
    "import os\n",
    "\n",
    "os.environ['CUDA_VISIBLE_DEVICES'] = '0'\n",
    "os.environ['TF_FORCE_GPU_ALLOW_GROWTH'] = 'true'"
   ]
  },
  {
   "cell_type": "code",
   "execution_count": 2,
   "metadata": {},
   "outputs": [
    {
     "name": "stderr",
     "output_type": "stream",
     "text": [
      "2022-10-23 15:14:44.242393: I tensorflow/stream_executor/cuda/cuda_gpu_executor.cc:937] successful NUMA node read from SysFS had negative value (-1), but there must be at least one NUMA node, so returning NUMA node zero\n",
      "2022-10-23 15:14:44.246138: I tensorflow/stream_executor/cuda/cuda_gpu_executor.cc:937] successful NUMA node read from SysFS had negative value (-1), but there must be at least one NUMA node, so returning NUMA node zero\n",
      "2022-10-23 15:14:44.246749: I tensorflow/stream_executor/cuda/cuda_gpu_executor.cc:937] successful NUMA node read from SysFS had negative value (-1), but there must be at least one NUMA node, so returning NUMA node zero\n",
      "2022-10-23 15:14:44.247325: I tensorflow/core/platform/cpu_feature_guard.cc:142] This TensorFlow binary is optimized with oneAPI Deep Neural Network Library (oneDNN) to use the following CPU instructions in performance-critical operations:  AVX2 FMA\n",
      "To enable them in other operations, rebuild TensorFlow with the appropriate compiler flags.\n",
      "2022-10-23 15:14:44.248204: I tensorflow/stream_executor/cuda/cuda_gpu_executor.cc:937] successful NUMA node read from SysFS had negative value (-1), but there must be at least one NUMA node, so returning NUMA node zero\n",
      "2022-10-23 15:14:44.248649: I tensorflow/stream_executor/cuda/cuda_gpu_executor.cc:937] successful NUMA node read from SysFS had negative value (-1), but there must be at least one NUMA node, so returning NUMA node zero\n",
      "2022-10-23 15:14:44.249221: I tensorflow/stream_executor/cuda/cuda_gpu_executor.cc:937] successful NUMA node read from SysFS had negative value (-1), but there must be at least one NUMA node, so returning NUMA node zero\n",
      "2022-10-23 15:14:44.762546: I tensorflow/stream_executor/cuda/cuda_gpu_executor.cc:937] successful NUMA node read from SysFS had negative value (-1), but there must be at least one NUMA node, so returning NUMA node zero\n",
      "2022-10-23 15:14:44.763169: I tensorflow/stream_executor/cuda/cuda_gpu_executor.cc:937] successful NUMA node read from SysFS had negative value (-1), but there must be at least one NUMA node, so returning NUMA node zero\n",
      "2022-10-23 15:14:44.763742: I tensorflow/stream_executor/cuda/cuda_gpu_executor.cc:937] successful NUMA node read from SysFS had negative value (-1), but there must be at least one NUMA node, so returning NUMA node zero\n",
      "2022-10-23 15:14:44.764298: W tensorflow/core/common_runtime/gpu/gpu_bfc_allocator.cc:39] Overriding allow_growth setting because the TF_FORCE_GPU_ALLOW_GROWTH environment variable is set. Original config value was 0.\n",
      "2022-10-23 15:14:44.764320: I tensorflow/core/common_runtime/gpu/gpu_device.cc:1510] Created device /job:localhost/replica:0/task:0/device:GPU:0 with 17290 MB memory:  -> device: 0, name: NVIDIA GeForce RTX 3090 Ti, pci bus id: 0000:01:00.0, compute capability: 8.6\n",
      "2022-10-23 15:14:44.819550: I tensorflow/compiler/mlir/mlir_graph_optimization_pass.cc:185] None of the MLIR Optimization Passes are enabled (registered 2)\n"
     ]
    }
   ],
   "source": [
    "import tensorflow_datasets as tfds\n",
    "\n",
    "(ds_train, ds_test, ds_validation),ds_info = tfds.load(\"glue/mrpc\",split=[\"train\",\"test\",\"validation\"],with_info=True)\n",
    "\n",
    "\n",
    "mrpc_train = []\n",
    "mrpc_test = []\n",
    "mrpc_val = []\n",
    "\n",
    "\n",
    "for example in ds_train:\n",
    "    if(example[\"label\"] == 1):\n",
    "        mrpc_train.append((example[\"sentence1\"].numpy().decode(),example[\"sentence2\"].numpy().decode()))\n",
    "\n",
    "for example in ds_validation:\n",
    "  \n",
    "    if(example[\"label\"] == 1):\n",
    "        mrpc_val.append((example[\"sentence1\"].numpy().decode(),example[\"sentence2\"].numpy().decode()))\n",
    "        \n",
    "for example in ds_test:\n",
    "  \n",
    "    if(example[\"label\"] == 1):\n",
    "        mrpc_test.append((example[\"sentence1\"].numpy().decode(),example[\"sentence2\"].numpy().decode()))"
   ]
  },
  {
   "cell_type": "code",
   "execution_count": 3,
   "metadata": {},
   "outputs": [
    {
     "data": {
      "text/plain": [
       "(2474, 0, 279)"
      ]
     },
     "execution_count": 3,
     "metadata": {},
     "output_type": "execute_result"
    }
   ],
   "source": [
    "len(mrpc_train), len(mrpc_test), len(mrpc_val)"
   ]
  },
  {
   "cell_type": "code",
   "execution_count": 5,
   "metadata": {},
   "outputs": [],
   "source": [
    "from transformers import T5Tokenizer, T5ForConditionalGeneration\n",
    "\n",
    "tokenizer = T5Tokenizer.from_pretrained('mesolitica/finetune-translation-t5-small-standard-bahasa-cased')\n",
    "model = T5ForConditionalGeneration.from_pretrained('mesolitica/finetune-translation-t5-small-standard-bahasa-cased')"
   ]
  },
  {
   "cell_type": "code",
   "execution_count": 6,
   "metadata": {},
   "outputs": [],
   "source": [
    "_ = model.cuda()"
   ]
  },
  {
   "cell_type": "code",
   "execution_count": 8,
   "metadata": {},
   "outputs": [
    {
     "data": {
      "text/plain": [
       "['Spider-Man snatched $ 114.7 million in its debut last year and went on to capture $ 403.7 million .',\n",
       " 'Spider-Man , rated PG-13 , snatched $ 114.7 million in its first weekend and went on to take in $ 403.7 million .']"
      ]
     },
     "execution_count": 8,
     "metadata": {},
     "output_type": "execute_result"
    }
   ],
   "source": [
    "batch = [b for b in mrpc_train[0] if len(b.split()) <= 100]\n",
    "batch"
   ]
  },
  {
   "cell_type": "code",
   "execution_count": 10,
   "metadata": {},
   "outputs": [],
   "source": [
    "t = ['terjemah Inggeris ke Melayu: ' + b for b in batch]\n",
    "inputs = tokenizer(t, return_tensors=\"pt\", padding = True)\n",
    "for k in inputs.keys():\n",
    "    inputs[k] = inputs[k].cuda()\n",
    "\n",
    "translated_tokens = model.generate(**inputs, max_length=500)\n",
    "decoded = tokenizer.batch_decode(translated_tokens, skip_special_tokens=True)"
   ]
  },
  {
   "cell_type": "code",
   "execution_count": 15,
   "metadata": {},
   "outputs": [
    {
     "name": "stderr",
     "output_type": "stream",
     "text": [
      "100%|███████████████████████████████████████| 2474/2474 [05:16<00:00,  7.83it/s]\n"
     ]
    }
   ],
   "source": [
    "from tqdm import tqdm\n",
    "\n",
    "translated_mrpc_train = []\n",
    "for i in tqdm(range(len(mrpc_train))):\n",
    "    batch = [b for b in mrpc_train[i] if len(b.split()) <= 100]\n",
    "    t = ['terjemah Inggeris ke Melayu: ' + b for b in batch]\n",
    "    inputs = tokenizer(t, return_tensors=\"pt\", padding = True)\n",
    "    for k in inputs.keys():\n",
    "        inputs[k] = inputs[k].cuda()\n",
    "\n",
    "    translated_tokens = model.generate(**inputs, max_length=500)\n",
    "    decoded = tokenizer.batch_decode(translated_tokens, skip_special_tokens=True)\n",
    "    \n",
    "    translated_mrpc_train.append(\n",
    "        {\n",
    "            'en': mrpc_train[i],\n",
    "            'ms': decoded,\n",
    "        }\n",
    "    )"
   ]
  },
  {
   "cell_type": "code",
   "execution_count": 21,
   "metadata": {},
   "outputs": [
    {
     "data": {
      "text/plain": [
       "{'en': ('Spider-Man snatched $ 114.7 million in its debut last year and went on to capture $ 403.7 million .',\n",
       "  'Spider-Man , rated PG-13 , snatched $ 114.7 million in its first weekend and went on to take in $ 403.7 million .'),\n",
       " 'ms': ['Spider-Man meraih $114.7 juta dalam debut tahun lalu dan terus meraih $403.7 juta.',\n",
       "  'Spider-Man, dinilai PG-13, meraih $114,7 juta pada hujung minggu pertamanya dan terus mengambil $403,7 juta.']}"
      ]
     },
     "execution_count": 21,
     "metadata": {},
     "output_type": "execute_result"
    }
   ],
   "source": [
    "translated_mrpc_train[0]"
   ]
  },
  {
   "cell_type": "code",
   "execution_count": 19,
   "metadata": {},
   "outputs": [
    {
     "name": "stderr",
     "output_type": "stream",
     "text": [
      "100%|█████████████████████████████████████████| 279/279 [00:35<00:00,  7.88it/s]\n"
     ]
    }
   ],
   "source": [
    "translated_mrpc_val = []\n",
    "for i in tqdm(range(len(mrpc_val))):\n",
    "    batch = [b for b in mrpc_val[i] if len(b.split()) <= 100]\n",
    "    t = ['terjemah Inggeris ke Melayu: ' + b for b in batch]\n",
    "    inputs = tokenizer(t, return_tensors=\"pt\", padding = True)\n",
    "    for k in inputs.keys():\n",
    "        inputs[k] = inputs[k].cuda()\n",
    "\n",
    "    translated_tokens = model.generate(**inputs, max_length=500)\n",
    "    decoded = tokenizer.batch_decode(translated_tokens, skip_special_tokens=True)\n",
    "    \n",
    "    translated_mrpc_val.append(\n",
    "        {\n",
    "            'en': mrpc_val[i],\n",
    "            'ms': decoded,\n",
    "        }\n",
    "    )"
   ]
  },
  {
   "cell_type": "code",
   "execution_count": 20,
   "metadata": {},
   "outputs": [
    {
     "data": {
      "text/plain": [
       "{'en': (\"The show 's closure affected third-quarter earnings per share by a penny .\",\n",
       "  'The company said this impacted earnings by a penny a share .'),\n",
       " 'ms': ['Penutupan rancangan itu menjejaskan pendapatan suku ketiga sesaham dengan satu sen.',\n",
       "  'Syarikat itu berkata ini memberi kesan kepada pendapatan oleh satu sen sesaham.']}"
      ]
     },
     "execution_count": 20,
     "metadata": {},
     "output_type": "execute_result"
    }
   ],
   "source": [
    "translated_mrpc_val[0]"
   ]
  },
  {
   "cell_type": "code",
   "execution_count": 22,
   "metadata": {},
   "outputs": [],
   "source": [
    "import json\n",
    "\n",
    "with open('mrpc-train.json', 'w') as fopen:\n",
    "    json.dump(translated_mrpc_train, fopen)"
   ]
  },
  {
   "cell_type": "code",
   "execution_count": 23,
   "metadata": {},
   "outputs": [],
   "source": [
    "with open('mrpc-val.json', 'w') as fopen:\n",
    "    json.dump(translated_mrpc_val, fopen)"
   ]
  }
 ],
 "metadata": {
  "kernelspec": {
   "display_name": "Python 3 (ipykernel)",
   "language": "python",
   "name": "python3"
  },
  "language_info": {
   "codemirror_mode": {
    "name": "ipython",
    "version": 3
   },
   "file_extension": ".py",
   "mimetype": "text/x-python",
   "name": "python",
   "nbconvert_exporter": "python",
   "pygments_lexer": "ipython3",
   "version": "3.8.10"
  }
 },
 "nbformat": 4,
 "nbformat_minor": 4
}
