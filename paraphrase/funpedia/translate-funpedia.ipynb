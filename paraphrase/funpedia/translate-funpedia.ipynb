{
 "cells": [
  {
   "cell_type": "code",
   "execution_count": 1,
   "metadata": {},
   "outputs": [],
   "source": [
    "import os\n",
    "\n",
    "os.environ['CUDA_VISIBLE_DEVICES'] = '1'\n",
    "os.environ['TF_FORCE_GPU_ALLOW_GROWTH'] = 'true'"
   ]
  },
  {
   "cell_type": "code",
   "execution_count": 2,
   "metadata": {},
   "outputs": [],
   "source": [
    "# !wget http://parl.ai/downloads/projects/rephrase_sentences/rephrase_sentences_train_0703.txt\n",
    "# !wget http://parl.ai/downloads/projects/rephrase_sentences/rephrase_sentences_valid_0703.txt\n",
    "# !wget http://parl.ai/downloads/projects/rephrase_sentences/rephrase_sentences_test_0703.txt"
   ]
  },
  {
   "cell_type": "code",
   "execution_count": 14,
   "metadata": {},
   "outputs": [],
   "source": [
    "# !wget https://f000.backblazeb2.com/file/malay-dataset/paraphrase/translated-paraphrase.json"
   ]
  },
  {
   "cell_type": "code",
   "execution_count": 4,
   "metadata": {},
   "outputs": [],
   "source": [
    "fnames = [\n",
    "        'rephrase_sentences_train_0703.txt',\n",
    "        'rephrase_sentences_valid_0703.txt',\n",
    "        'rephrase_sentences_test_0703.txt',]"
   ]
  },
  {
   "cell_type": "code",
   "execution_count": 5,
   "metadata": {},
   "outputs": [],
   "source": [
    "def _strip_reader(filename):\n",
    "    \"\"\"\n",
    "    Reads a file, stripping line endings.\n",
    "    \"\"\"\n",
    "    with open(filename) as f:\n",
    "        for line in f:\n",
    "            yield line.rstrip()\n",
    "\n",
    "def grouper(iterable, n, fillvalue=None):\n",
    "    \"\"\"\n",
    "    Collect data into fixed-length chunks or blocks.\n",
    "    \"\"\"\n",
    "    # grouper('ABCDEFG', 3, 'x') --> ABC DEF Gxx\"\n",
    "    args = [iter(iterable)] * n\n",
    "    from itertools import zip_longest\n",
    "\n",
    "    return zip_longest(*args, fillvalue=fillvalue)"
   ]
  },
  {
   "cell_type": "code",
   "execution_count": 6,
   "metadata": {},
   "outputs": [],
   "source": [
    "data_reader = grouper(_strip_reader('rephrase_sentences_train_0703.txt'), 3, '')"
   ]
  },
  {
   "cell_type": "code",
   "execution_count": 15,
   "metadata": {},
   "outputs": [
    {
     "data": {
      "text/plain": [
       "81467"
      ]
     },
     "execution_count": 15,
     "metadata": {},
     "output_type": "execute_result"
    }
   ],
   "source": [
    "entries = []\n",
    "\n",
    "title_prefix = '1 passage title: '\n",
    "title_prefix_len = len(title_prefix)\n",
    "persona_prefix = '2 personality: '\n",
    "persona_prefix_len = len(persona_prefix)\n",
    "text_prefix = '3 '\n",
    "text_prefix_len = len(text_prefix)\n",
    "\n",
    "file = fnames[0]\n",
    "data_reader = grouper(_strip_reader(file), 3, '')\n",
    "\n",
    "for title, persona, text in data_reader:\n",
    "    if not title:\n",
    "        break\n",
    "    assert title.startswith(title_prefix)\n",
    "    title = title[title_prefix_len:]\n",
    "\n",
    "    assert persona.startswith(persona_prefix)\n",
    "    # strip 'persona: ' from the persona\n",
    "    persona = persona[persona_prefix_len:]\n",
    "\n",
    "    assert text.startswith(text_prefix)\n",
    "    text = text[text_prefix_len:]\n",
    "\n",
    "    passage, label = text.split(\"\\t\")\n",
    "\n",
    "    entries.append(\n",
    "        {'title': title, 'label': label, 'passage': passage, 'persona': persona}\n",
    "    )\n",
    "    \n",
    "len(entries)"
   ]
  },
  {
   "cell_type": "code",
   "execution_count": 16,
   "metadata": {},
   "outputs": [
    {
     "data": {
      "text/plain": [
       "{'title': 'Danio',\n",
       " 'label': \"Well, I bet you didn't know about danio's two pairs of long barbels\",\n",
       " 'passage': 'Some species have two pairs of long barbels.',\n",
       " 'persona': 'Cultured (Refined, Educated)'}"
      ]
     },
     "execution_count": 16,
     "metadata": {},
     "output_type": "execute_result"
    }
   ],
   "source": [
    "entries[0]"
   ]
  },
  {
   "cell_type": "code",
   "execution_count": 17,
   "metadata": {},
   "outputs": [],
   "source": [
    "from transformers import T5Tokenizer, T5ForConditionalGeneration\n",
    "\n",
    "tokenizer = T5Tokenizer.from_pretrained('mesolitica/finetune-translation-t5-small-standard-bahasa-cased')\n",
    "model = T5ForConditionalGeneration.from_pretrained('mesolitica/finetune-translation-t5-small-standard-bahasa-cased')"
   ]
  },
  {
   "cell_type": "code",
   "execution_count": 18,
   "metadata": {},
   "outputs": [],
   "source": [
    "_ = model.cuda()"
   ]
  },
  {
   "cell_type": "code",
   "execution_count": null,
   "metadata": {},
   "outputs": [
    {
     "name": "stderr",
     "output_type": "stream",
     "text": [
      " 69%|████████████████████████▏          | 56196/81467 [1:19:04<34:56, 12.05it/s]IOPub message rate exceeded.\n",
      "The notebook server will temporarily stop sending output\n",
      "to the client in order to avoid crashing it.\n",
      "To change this limit, set the config variable\n",
      "`--NotebookApp.iopub_msg_rate_limit`.\n",
      "\n",
      "Current values:\n",
      "NotebookApp.iopub_msg_rate_limit=1000.0 (msgs/sec)\n",
      "NotebookApp.rate_limit_window=3.0 (secs)\n",
      "\n"
     ]
    }
   ],
   "source": [
    "from tqdm import tqdm\n",
    "\n",
    "for i in tqdm(range(len(entries))):\n",
    "    batch = [entries[i]['label'], entries[i]['passage']]\n",
    "    t = ['terjemah Inggeris ke Melayu: ' + b for b in batch]\n",
    "    inputs = tokenizer(t, return_tensors=\"pt\", padding = True)\n",
    "    for k in inputs.keys():\n",
    "        inputs[k] = inputs[k].cuda()\n",
    "\n",
    "    translated_tokens = model.generate(**inputs, max_length=500)\n",
    "    decoded = tokenizer.batch_decode(translated_tokens, skip_special_tokens=True)\n",
    "    entries[i]['ms'] = decoded"
   ]
  },
  {
   "cell_type": "code",
   "execution_count": 31,
   "metadata": {},
   "outputs": [],
   "source": [
    "with open('funpedia-train.json', 'w') as fopen:\n",
    "    json.dump(entries, fopen)"
   ]
  },
  {
   "cell_type": "code",
   "execution_count": 35,
   "metadata": {},
   "outputs": [
    {
     "data": {
      "text/plain": [
       "10184"
      ]
     },
     "execution_count": 35,
     "metadata": {},
     "output_type": "execute_result"
    }
   ],
   "source": [
    "entries = []\n",
    "file = fnames[1]\n",
    "data_reader = grouper(_strip_reader(file), 3, '')\n",
    "\n",
    "for title, persona, text in data_reader:\n",
    "    if not title:\n",
    "        break\n",
    "    assert title.startswith(title_prefix)\n",
    "    title = title[title_prefix_len:]\n",
    "\n",
    "    assert persona.startswith(persona_prefix)\n",
    "    # strip 'persona: ' from the persona\n",
    "    persona = persona[persona_prefix_len:]\n",
    "\n",
    "    assert text.startswith(text_prefix)\n",
    "    text = text[text_prefix_len:]\n",
    "\n",
    "    passage, label = text.split(\"\\t\")\n",
    "\n",
    "    entries.append(\n",
    "        {'title': title, 'label': label, 'passage': passage, 'persona': persona}\n",
    "    )\n",
    "    \n",
    "len(entries)"
   ]
  },
  {
   "cell_type": "code",
   "execution_count": 36,
   "metadata": {},
   "outputs": [
    {
     "name": "stderr",
     "output_type": "stream",
     "text": [
      "100%|█████████████████████████████████████| 10184/10184 [13:32<00:00, 12.54it/s]\n"
     ]
    }
   ],
   "source": [
    "for i in tqdm(range(len(entries))):\n",
    "    batch = [entries[i]['label'], entries[i]['passage']]\n",
    "    t = ['terjemah Inggeris ke Melayu: ' + b for b in batch]\n",
    "    inputs = tokenizer(t, return_tensors=\"pt\", padding = True)\n",
    "    for k in inputs.keys():\n",
    "        inputs[k] = inputs[k].cuda()\n",
    "\n",
    "    translated_tokens = model.generate(**inputs, max_length=500)\n",
    "    decoded = tokenizer.batch_decode(translated_tokens, skip_special_tokens=True)\n",
    "    entries[i]['ms'] = decoded"
   ]
  },
  {
   "cell_type": "code",
   "execution_count": 37,
   "metadata": {},
   "outputs": [],
   "source": [
    "with open('funpedia-valid.json', 'w') as fopen:\n",
    "    json.dump(entries, fopen)"
   ]
  },
  {
   "cell_type": "code",
   "execution_count": 38,
   "metadata": {},
   "outputs": [
    {
     "data": {
      "text/plain": [
       "10184"
      ]
     },
     "execution_count": 38,
     "metadata": {},
     "output_type": "execute_result"
    }
   ],
   "source": [
    "entries = []\n",
    "file = fnames[2]\n",
    "data_reader = grouper(_strip_reader(file), 3, '')\n",
    "\n",
    "for title, persona, text in data_reader:\n",
    "    if not title:\n",
    "        break\n",
    "    assert title.startswith(title_prefix)\n",
    "    title = title[title_prefix_len:]\n",
    "\n",
    "    assert persona.startswith(persona_prefix)\n",
    "    # strip 'persona: ' from the persona\n",
    "    persona = persona[persona_prefix_len:]\n",
    "\n",
    "    assert text.startswith(text_prefix)\n",
    "    text = text[text_prefix_len:]\n",
    "\n",
    "    passage, label = text.split(\"\\t\")\n",
    "\n",
    "    entries.append(\n",
    "        {'title': title, 'label': label, 'passage': passage, 'persona': persona}\n",
    "    )\n",
    "    \n",
    "len(entries)"
   ]
  },
  {
   "cell_type": "code",
   "execution_count": 39,
   "metadata": {},
   "outputs": [
    {
     "name": "stderr",
     "output_type": "stream",
     "text": [
      "100%|█████████████████████████████████████| 10184/10184 [14:21<00:00, 11.82it/s]\n"
     ]
    }
   ],
   "source": [
    "for i in tqdm(range(len(entries))):\n",
    "    batch = [entries[i]['label'], entries[i]['passage']]\n",
    "    t = ['terjemah Inggeris ke Melayu: ' + b for b in batch]\n",
    "    inputs = tokenizer(t, return_tensors=\"pt\", padding = True)\n",
    "    for k in inputs.keys():\n",
    "        inputs[k] = inputs[k].cuda()\n",
    "\n",
    "    translated_tokens = model.generate(**inputs, max_length=500)\n",
    "    decoded = tokenizer.batch_decode(translated_tokens, skip_special_tokens=True)\n",
    "    entries[i]['ms'] = decoded"
   ]
  },
  {
   "cell_type": "code",
   "execution_count": 40,
   "metadata": {},
   "outputs": [],
   "source": [
    "with open('funpedia-test.json', 'w') as fopen:\n",
    "    json.dump(entries, fopen)"
   ]
  }
 ],
 "metadata": {
  "kernelspec": {
   "display_name": "Python 3 (ipykernel)",
   "language": "python",
   "name": "python3"
  },
  "language_info": {
   "codemirror_mode": {
    "name": "ipython",
    "version": 3
   },
   "file_extension": ".py",
   "mimetype": "text/x-python",
   "name": "python",
   "nbconvert_exporter": "python",
   "pygments_lexer": "ipython3",
   "version": "3.8.10"
  }
 },
 "nbformat": 4,
 "nbformat_minor": 4
}
