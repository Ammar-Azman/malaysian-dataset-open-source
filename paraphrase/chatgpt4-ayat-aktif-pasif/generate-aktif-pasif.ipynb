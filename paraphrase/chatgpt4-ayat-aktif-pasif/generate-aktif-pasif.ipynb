{
 "cells": [
  {
   "cell_type": "code",
   "execution_count": 1,
   "id": "95344e0a",
   "metadata": {},
   "outputs": [],
   "source": [
    "from tqdm import tqdm\n",
    "import os\n",
    "import json"
   ]
  },
  {
   "cell_type": "code",
   "execution_count": 2,
   "id": "2530527c",
   "metadata": {},
   "outputs": [
    {
     "data": {
      "text/plain": [
       "20"
      ]
     },
     "execution_count": 2,
     "metadata": {},
     "output_type": "execute_result"
    }
   ],
   "source": [
    "instructions = []\n",
    "with open('spm-ayatpasif-aktif.jsonl') as fopen:\n",
    "    for l in fopen:\n",
    "        l = json.loads(l)\n",
    "        instructions.append(l['text'])\n",
    "        \n",
    "len(instructions)"
   ]
  },
  {
   "cell_type": "code",
   "execution_count": 13,
   "id": "16404ab3",
   "metadata": {},
   "outputs": [
    {
     "data": {
      "text/plain": [
       "'Ayat Aktif: Puan Aishah menasihati Ali agar belajar bersungguh-sungguh kerana peperiksaan hampir tiba.\\nAyat Pasif: Ali dinasihati oleh Puan Aishah agar bersungguh-sungguh kerana peperiksaan hampir tiba.'"
      ]
     },
     "execution_count": 13,
     "metadata": {},
     "output_type": "execute_result"
    }
   ],
   "source": [
    "instructions[0]"
   ]
  },
  {
   "cell_type": "code",
   "execution_count": 18,
   "id": "394981f5",
   "metadata": {},
   "outputs": [],
   "source": [
    "message_text = [\n",
    "    {\"role\":\"user\",\"content\": f\"{instructions[1]}\\n\\ngenerate similar questions included answers like above.\"},\n",
    "]\n",
    "completion = openai.ChatCompletion.create(\n",
    "  engine=\"gpt-4\",\n",
    "  messages = message_text,\n",
    "  temperature=1.0,\n",
    "  max_tokens=1024,\n",
    "  top_p=0.95,\n",
    "  frequency_penalty=0,\n",
    "  presence_penalty=0,\n",
    "  stop=None\n",
    ")"
   ]
  },
  {
   "cell_type": "code",
   "execution_count": 19,
   "id": "fa90f25a",
   "metadata": {},
   "outputs": [
    {
     "data": {
      "text/plain": [
       "['Ayat Aktif: Dia telah menyelesaikan tugasnya dengan cepat dan cermat.\\nAyat Pasif: Tugasnya telah diselesaikan dengan cepat dan cermat oleh dia.',\n",
       " 'Ayat Aktif: Kami akan mengadakan perjumpaan penting esok hari.\\nAyat Pasif: Perjumpaan penting akan diadakan oleh kami esok hari.',\n",
       " 'Ayat Aktif: Mereka telah memenangi pertandingan bola sepak semalam.\\nAyat Pasif: Pertandingan bola sepak telah dimenangi oleh mereka semalam.',\n",
       " 'Ayat Aktif: Guru besar itu telah memberikan penghargaan kepada pelajar cemerlang.\\nAyat Pasif: Penghargaan telah diberikan kepada pelajar cemerlang oleh guru besar itu.',\n",
       " 'Ayat Aktif: Polis telah menangkap penjenayah itu dengan segera.\\nAyat Pasif: Penjenayah itu telah ditangkap dengan segera oleh polis.']"
      ]
     },
     "execution_count": 19,
     "metadata": {},
     "output_type": "execute_result"
    }
   ],
   "source": [
    "completion.choices[0]['message']['content'].split('\\n\\n')"
   ]
  },
  {
   "cell_type": "code",
   "execution_count": 8,
   "id": "56b0c96a",
   "metadata": {},
   "outputs": [
    {
     "name": "stderr",
     "output_type": "stream",
     "text": [
      "/home/husein/.local/lib/python3.8/site-packages/requests/__init__.py:102: RequestsDependencyWarning: urllib3 (1.26.15) or chardet (5.2.0)/charset_normalizer (2.0.7) doesn't match a supported version!\n",
      "  warnings.warn(\"urllib3 ({}) or chardet ({})/charset_normalizer ({}) doesn't match a supported \"\n"
     ]
    }
   ],
   "source": [
    "import os\n",
    "import openai\n",
    "\n",
    "openai.api_type = \"azure\"\n",
    "openai.api_base = \"https://husein-ai2-aiservices.openai.azure.com/\"\n",
    "openai.api_version = \"2023-07-01-preview\"\n",
    "openai.api_key = ''"
   ]
  },
  {
   "cell_type": "code",
   "execution_count": 9,
   "id": "bb61691f",
   "metadata": {},
   "outputs": [],
   "source": [
    "!mkdir ayatpasif-aktif"
   ]
  },
  {
   "cell_type": "code",
   "execution_count": 20,
   "id": "9058e88f",
   "metadata": {},
   "outputs": [
    {
     "name": "stderr",
     "output_type": "stream",
     "text": [
      "100%|███████████████████████████████████████████| 20/20 [13:47<00:00, 41.36s/it]\n"
     ]
    }
   ],
   "source": [
    "from tqdm import tqdm\n",
    "import os\n",
    "\n",
    "for i in tqdm(range(0, len(instructions), 1)):\n",
    "    filename = f'ayatpasif-aktif/{i}.json'\n",
    "    if os.path.exists(filename):\n",
    "        continue\n",
    "        \n",
    "    r = []\n",
    "    for k in range(5):\n",
    "        \n",
    "        try:\n",
    "            message_text = [\n",
    "                {\"role\":\"user\",\"content\": f\"{instructions[i]}\\n\\ngenerate similar questions included answers like above.\"},\n",
    "            ]\n",
    "            completion = openai.ChatCompletion.create(\n",
    "              engine=\"gpt-4\",\n",
    "              messages = message_text,\n",
    "              temperature=1.0,\n",
    "              max_tokens=1024,\n",
    "              top_p=0.95,\n",
    "              frequency_penalty=0,\n",
    "              presence_penalty=0,\n",
    "              stop=None\n",
    "            )\n",
    "            r.append(completion.choices[0]['message']['content'])\n",
    "            \n",
    "\n",
    "        except Exception as e:\n",
    "            print(e)\n",
    "        \n",
    "    with open(filename, 'w') as fopen:\n",
    "        json.dump(r, fopen)"
   ]
  },
  {
   "cell_type": "code",
   "execution_count": 21,
   "id": "5b0c33b2",
   "metadata": {},
   "outputs": [],
   "source": [
    "!mkdir ayatpasif-aktif-v2"
   ]
  },
  {
   "cell_type": "code",
   "execution_count": 22,
   "id": "11f4e614",
   "metadata": {},
   "outputs": [
    {
     "name": "stderr",
     "output_type": "stream",
     "text": [
      "100%|███████████████████████████████████████████| 20/20 [23:13<00:00, 69.67s/it]\n"
     ]
    }
   ],
   "source": [
    "from tqdm import tqdm\n",
    "import os\n",
    "\n",
    "for i in tqdm(range(0, len(instructions), 1)):\n",
    "    filename = f'ayatpasif-aktif-v2/{i}.json'\n",
    "    if os.path.exists(filename):\n",
    "        continue\n",
    "        \n",
    "    r = []\n",
    "    for k in range(10):\n",
    "        \n",
    "        try:\n",
    "            message_text = [\n",
    "                {\"role\":\"user\",\"content\": f\"{instructions[i]}\\n\\ngenerate similar questions included answers like above.\"},\n",
    "            ]\n",
    "            completion = openai.ChatCompletion.create(\n",
    "              engine=\"gpt-4\",\n",
    "              messages = message_text,\n",
    "              temperature=1.0,\n",
    "              max_tokens=1024,\n",
    "              top_p=0.95,\n",
    "              frequency_penalty=0,\n",
    "              presence_penalty=0,\n",
    "              stop=None\n",
    "            )\n",
    "            r.append(completion.choices[0]['message']['content'])\n",
    "            \n",
    "\n",
    "        except Exception as e:\n",
    "            print(e)\n",
    "        \n",
    "    with open(filename, 'w') as fopen:\n",
    "        json.dump(r, fopen)"
   ]
  },
  {
   "cell_type": "code",
   "execution_count": 3,
   "id": "ba61f4a0",
   "metadata": {},
   "outputs": [
    {
     "name": "stderr",
     "output_type": "stream",
     "text": [
      "100%|█████████████████████████████████████████| 20/20 [00:00<00:00, 7396.06it/s]\n",
      "100%|█████████████████████████████████████████| 20/20 [00:00<00:00, 5896.26it/s]\n"
     ]
    }
   ],
   "source": [
    "augmentation = []\n",
    "for i in tqdm(range(0, len(instructions), 1)):\n",
    "    filename = f'ayatpasif-aktif/{i}.json'\n",
    "    try:\n",
    "        with open(filename) as fopen:\n",
    "            datas = json.load(fopen)\n",
    "        for data in datas:\n",
    "            splitted = data.split('\\n\\n')\n",
    "            for s in splitted:\n",
    "                augmentation.append({\n",
    "                    's': s.strip()\n",
    "\n",
    "                })\n",
    "    except:\n",
    "        pass\n",
    "    \n",
    "for i in tqdm(range(0, len(instructions), 1)):\n",
    "    filename = f'ayatpasif-aktif-v2/{i}.json'\n",
    "    try:\n",
    "        with open(filename) as fopen:\n",
    "            datas = json.load(fopen)\n",
    "        for data in datas:\n",
    "            splitted = data.split('\\n\\n')\n",
    "            for s in splitted:\n",
    "                augmentation.append({\n",
    "                    's': s.strip()\n",
    "\n",
    "                })\n",
    "    except:\n",
    "        pass"
   ]
  },
  {
   "cell_type": "code",
   "execution_count": 4,
   "id": "09f08307",
   "metadata": {},
   "outputs": [
    {
     "data": {
      "text/plain": [
       "1504"
      ]
     },
     "execution_count": 4,
     "metadata": {},
     "output_type": "execute_result"
    }
   ],
   "source": [
    "len(augmentation)"
   ]
  },
  {
   "cell_type": "code",
   "execution_count": 5,
   "id": "1eb66913",
   "metadata": {},
   "outputs": [
    {
     "data": {
      "text/plain": [
       "{'s': 'Ayat Aktif: Encik Razak mengajar pelajar-pelajar tentang kepentingan menjaga alam sekitar.\\nAyat Pasif: Pelajar-pelajar diajar tentang kepentingan menjaga alam sekitar oleh Encik Razak.'}"
      ]
     },
     "execution_count": 5,
     "metadata": {},
     "output_type": "execute_result"
    }
   ],
   "source": [
    "augmentation[0]"
   ]
  },
  {
   "cell_type": "code",
   "execution_count": 7,
   "id": "515b51e2",
   "metadata": {},
   "outputs": [],
   "source": [
    "for s in instructions:\n",
    "    augmentation.append({\n",
    "        's': s\n",
    "    })"
   ]
  },
  {
   "cell_type": "code",
   "execution_count": 8,
   "id": "f6974f76",
   "metadata": {},
   "outputs": [],
   "source": [
    "with open('synthetic-ayat-aktif-pasif.jsonl', 'w') as fopen:\n",
    "    for a in augmentation:\n",
    "        fopen.write(f'{json.dumps(a)}\\n')"
   ]
  }
 ],
 "metadata": {
  "kernelspec": {
   "display_name": "Python 3 (ipykernel)",
   "language": "python",
   "name": "python3"
  },
  "language_info": {
   "codemirror_mode": {
    "name": "ipython",
    "version": 3
   },
   "file_extension": ".py",
   "mimetype": "text/x-python",
   "name": "python",
   "nbconvert_exporter": "python",
   "pygments_lexer": "ipython3",
   "version": "3.8.10"
  }
 },
 "nbformat": 4,
 "nbformat_minor": 5
}
