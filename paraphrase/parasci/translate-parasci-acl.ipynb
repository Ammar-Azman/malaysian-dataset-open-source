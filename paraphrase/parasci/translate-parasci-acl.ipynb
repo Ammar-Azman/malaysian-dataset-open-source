{
 "cells": [
  {
   "cell_type": "code",
   "execution_count": 1,
   "metadata": {},
   "outputs": [],
   "source": [
    "import os\n",
    "\n",
    "os.environ['CUDA_VISIBLE_DEVICES'] = '0'\n",
    "os.environ['TF_FORCE_GPU_ALLOW_GROWTH'] = 'true'"
   ]
  },
  {
   "cell_type": "code",
   "execution_count": 2,
   "metadata": {},
   "outputs": [],
   "source": [
    "from transformers import T5Tokenizer, T5ForConditionalGeneration\n",
    "\n",
    "tokenizer = T5Tokenizer.from_pretrained('mesolitica/finetune-translation-t5-small-standard-bahasa-cased')\n",
    "model = T5ForConditionalGeneration.from_pretrained('mesolitica/finetune-translation-t5-small-standard-bahasa-cased')"
   ]
  },
  {
   "cell_type": "code",
   "execution_count": 3,
   "metadata": {},
   "outputs": [],
   "source": [
    "import json"
   ]
  },
  {
   "cell_type": "code",
   "execution_count": 4,
   "metadata": {},
   "outputs": [
    {
     "data": {
      "text/plain": [
       "['We run Mecab on Hadoop 11, an open source software that implemented the Map-Reduce framework, for word Segmenting and Pos tagging the data.',\n",
       " 'We run Mecab 4 with Ipa dictionary 5 on Hadoop 6, an open source software that implemented the Map-Reduce framework, for parallel word Segmenting, Part-Of-Speech tagging, and Kana Pronunciation Annotating.']"
      ]
     },
     "execution_count": 4,
     "metadata": {},
     "output_type": "execute_result"
    }
   ],
   "source": [
    "with open('true-case-parasci-test.json') as fopen:\n",
    "    data = json.load(fopen)\n",
    "    \n",
    "data[0]"
   ]
  },
  {
   "cell_type": "code",
   "execution_count": 5,
   "metadata": {},
   "outputs": [],
   "source": [
    "_ = model.cuda()"
   ]
  },
  {
   "cell_type": "code",
   "execution_count": 6,
   "metadata": {},
   "outputs": [
    {
     "data": {
      "text/plain": [
       "['We run Mecab on Hadoop 11, an open source software that implemented the Map-Reduce framework, for word Segmenting and Pos tagging the data.',\n",
       " 'We run Mecab 4 with Ipa dictionary 5 on Hadoop 6, an open source software that implemented the Map-Reduce framework, for parallel word Segmenting, Part-Of-Speech tagging, and Kana Pronunciation Annotating.']"
      ]
     },
     "execution_count": 6,
     "metadata": {},
     "output_type": "execute_result"
    }
   ],
   "source": [
    "batch = [b for b in data[0] if len(b.split()) <= 100]\n",
    "batch"
   ]
  },
  {
   "cell_type": "code",
   "execution_count": 7,
   "metadata": {},
   "outputs": [
    {
     "data": {
      "text/plain": [
       "['Kami menjalankan Mecab pada Hadoop 11, perisian sumber terbuka yang melaksanakan rangka kerja Map-Reduce, untuk Segmen perkataan dan Pos penandaan data.',\n",
       " 'Kami menjalankan Mecab 4 dengan kamus Ipa 5 pada Hadoop 6, perisian sumber terbuka yang melaksanakan rangka kerja Map-Reduce, untuk Segmenting perkataan selari, penandaan Part-Of-Speech, dan Kana Pronunciation Annotating.']"
      ]
     },
     "execution_count": 7,
     "metadata": {},
     "output_type": "execute_result"
    }
   ],
   "source": [
    "t = ['terjemah Inggeris ke Melayu: ' + b for b in batch]\n",
    "inputs = tokenizer(t, return_tensors=\"pt\", padding = True)\n",
    "for k in inputs.keys():\n",
    "    inputs[k] = inputs[k].cuda()\n",
    "\n",
    "translated_tokens = model.generate(**inputs, max_length=500)\n",
    "decoded = tokenizer.batch_decode(translated_tokens, skip_special_tokens=True)\n",
    "decoded"
   ]
  },
  {
   "cell_type": "code",
   "execution_count": 8,
   "metadata": {},
   "outputs": [
    {
     "name": "stderr",
     "output_type": "stream",
     "text": [
      "100%|███████████████████████████████████████| 2345/2345 [02:55<00:00, 13.38it/s]\n"
     ]
    }
   ],
   "source": [
    "from tqdm import tqdm\n",
    "\n",
    "translated_train_examples = []\n",
    "for i in tqdm(range(len(data))):\n",
    "    batch = [b for b in data[i] if len(b.split()) <= 256]\n",
    "    t = ['terjemah Inggeris ke Melayu: ' + b for b in batch]\n",
    "    inputs = tokenizer(t, return_tensors=\"pt\", padding = True)\n",
    "    for k in inputs.keys():\n",
    "        inputs[k] = inputs[k].cuda()\n",
    "\n",
    "    translated_tokens = model.generate(**inputs, max_length=500)\n",
    "    decoded = tokenizer.batch_decode(translated_tokens, skip_special_tokens=True)\n",
    "    \n",
    "    translated_train_examples.append(\n",
    "        {\n",
    "            'en': data[i],\n",
    "            'ms': decoded,\n",
    "        }\n",
    "    )"
   ]
  },
  {
   "cell_type": "code",
   "execution_count": 9,
   "metadata": {},
   "outputs": [
    {
     "data": {
      "text/plain": [
       "{'en': ['We run Mecab on Hadoop 11, an open source software that implemented the Map-Reduce framework, for word Segmenting and Pos tagging the data.',\n",
       "  'We run Mecab 4 with Ipa dictionary 5 on Hadoop 6, an open source software that implemented the Map-Reduce framework, for parallel word Segmenting, Part-Of-Speech tagging, and Kana Pronunciation Annotating.'],\n",
       " 'ms': ['Kami menjalankan Mecab pada Hadoop 11, perisian sumber terbuka yang melaksanakan rangka kerja Map-Reduce, untuk Segmen perkataan dan Pos penandaan data.',\n",
       "  'Kami menjalankan Mecab 4 dengan kamus Ipa 5 pada Hadoop 6, perisian sumber terbuka yang melaksanakan rangka kerja Map-Reduce, untuk Segmenting perkataan selari, penandaan Part-Of-Speech, dan Kana Pronunciation Annotating.']}"
      ]
     },
     "execution_count": 9,
     "metadata": {},
     "output_type": "execute_result"
    }
   ],
   "source": [
    "translated_train_examples[0]"
   ]
  },
  {
   "cell_type": "code",
   "execution_count": 10,
   "metadata": {},
   "outputs": [],
   "source": [
    "import json\n",
    "\n",
    "with open('parasci-test.json', 'w') as fopen:\n",
    "    json.dump(translated_train_examples, fopen)"
   ]
  },
  {
   "cell_type": "code",
   "execution_count": 12,
   "metadata": {},
   "outputs": [
    {
     "data": {
      "text/plain": [
       "['Belz and Kow proposed another Smt based Nlg system which made use of the Phrase-Based Smt model.',\n",
       " 'The Phraseextraction Heuristics of were used to build the Phrase-Based Smt systems.']"
      ]
     },
     "execution_count": 12,
     "metadata": {},
     "output_type": "execute_result"
    }
   ],
   "source": [
    "with open('true-case-parasci-val.json') as fopen:\n",
    "    data = json.load(fopen)\n",
    "    \n",
    "data[0]"
   ]
  },
  {
   "cell_type": "code",
   "execution_count": 13,
   "metadata": {},
   "outputs": [
    {
     "name": "stderr",
     "output_type": "stream",
     "text": [
      "100%|███████████████████████████████████████| 2753/2753 [03:22<00:00, 13.56it/s]\n"
     ]
    }
   ],
   "source": [
    "translated_train_examples = []\n",
    "for i in tqdm(range(len(data))):\n",
    "    batch = [b for b in data[i] if len(b.split()) <= 256]\n",
    "    t = ['terjemah Inggeris ke Melayu: ' + b for b in batch]\n",
    "    inputs = tokenizer(t, return_tensors=\"pt\", padding = True)\n",
    "    for k in inputs.keys():\n",
    "        inputs[k] = inputs[k].cuda()\n",
    "\n",
    "    translated_tokens = model.generate(**inputs, max_length=500)\n",
    "    decoded = tokenizer.batch_decode(translated_tokens, skip_special_tokens=True)\n",
    "    \n",
    "    translated_train_examples.append(\n",
    "        {\n",
    "            'en': data[i],\n",
    "            'ms': decoded,\n",
    "        }\n",
    "    )"
   ]
  },
  {
   "cell_type": "code",
   "execution_count": 14,
   "metadata": {},
   "outputs": [],
   "source": [
    "with open('parasci-val.json', 'w') as fopen:\n",
    "    json.dump(translated_train_examples, fopen)"
   ]
  },
  {
   "cell_type": "code",
   "execution_count": 15,
   "metadata": {},
   "outputs": [
    {
     "data": {
      "text/plain": [
       "['The Tweets were Tokenized and Part-Ofspeech tagged with the Cmu Ark Twitter Nlp tool and Stanford Corenlp.',\n",
       " 'For all methods, the Tweets were Tokenized with the Cmu Twitter Nlp tool.']"
      ]
     },
     "execution_count": 15,
     "metadata": {},
     "output_type": "execute_result"
    }
   ],
   "source": [
    "with open('true-case-parasci-train.json') as fopen:\n",
    "    data = json.load(fopen)\n",
    "    \n",
    "data[0]"
   ]
  },
  {
   "cell_type": "code",
   "execution_count": 16,
   "metadata": {},
   "outputs": [
    {
     "name": "stderr",
     "output_type": "stream",
     "text": [
      "100%|█████████████████████████████████████| 28883/28883 [35:23<00:00, 13.60it/s]\n"
     ]
    }
   ],
   "source": [
    "translated_train_examples = []\n",
    "for i in tqdm(range(len(data))):\n",
    "    batch = [b for b in data[i] if len(b.split()) <= 256]\n",
    "    t = ['terjemah Inggeris ke Melayu: ' + b for b in batch]\n",
    "    inputs = tokenizer(t, return_tensors=\"pt\", padding = True)\n",
    "    for k in inputs.keys():\n",
    "        inputs[k] = inputs[k].cuda()\n",
    "\n",
    "    translated_tokens = model.generate(**inputs, max_length=500)\n",
    "    decoded = tokenizer.batch_decode(translated_tokens, skip_special_tokens=True)\n",
    "    \n",
    "    translated_train_examples.append(\n",
    "        {\n",
    "            'en': data[i],\n",
    "            'ms': decoded,\n",
    "        }\n",
    "    )"
   ]
  },
  {
   "cell_type": "code",
   "execution_count": 17,
   "metadata": {},
   "outputs": [],
   "source": [
    "with open('parasci-train.json', 'w') as fopen:\n",
    "    json.dump(translated_train_examples, fopen)"
   ]
  }
 ],
 "metadata": {
  "kernelspec": {
   "display_name": "Python 3 (ipykernel)",
   "language": "python",
   "name": "python3"
  },
  "language_info": {
   "codemirror_mode": {
    "name": "ipython",
    "version": 3
   },
   "file_extension": ".py",
   "mimetype": "text/x-python",
   "name": "python",
   "nbconvert_exporter": "python",
   "pygments_lexer": "ipython3",
   "version": "3.8.10"
  }
 },
 "nbformat": 4,
 "nbformat_minor": 4
}
