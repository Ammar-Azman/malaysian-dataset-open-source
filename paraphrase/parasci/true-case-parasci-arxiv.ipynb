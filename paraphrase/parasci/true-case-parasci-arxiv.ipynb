{
 "cells": [
  {
   "cell_type": "code",
   "execution_count": 2,
   "metadata": {},
   "outputs": [],
   "source": [
    "# !pip3 install truecase\n",
    "# !wget https://raw.githubusercontent.com/dqxiu/ParaSCI/master/Data/ParaSCI-arXiv/test/test.src\n",
    "# !wget https://raw.githubusercontent.com/dqxiu/ParaSCI/master/Data/ParaSCI-arXiv/test/test.tgt\n",
    "# !wget https://raw.githubusercontent.com/dqxiu/ParaSCI/master/Data/ParaSCI-arXiv/train/train.src\n",
    "# !wget https://raw.githubusercontent.com/dqxiu/ParaSCI/master/Data/ParaSCI-arXiv/train/train.tgt\n",
    "# !wget https://raw.githubusercontent.com/dqxiu/ParaSCI/master/Data/ParaSCI-arXiv/val/val.src\n",
    "# !wget https://raw.githubusercontent.com/dqxiu/ParaSCI/master/Data/ParaSCI-arXiv/val/val.tgt"
   ]
  },
  {
   "cell_type": "code",
   "execution_count": 3,
   "metadata": {},
   "outputs": [],
   "source": [
    "import truecase\n",
    "from tqdm import tqdm"
   ]
  },
  {
   "cell_type": "code",
   "execution_count": 4,
   "metadata": {},
   "outputs": [
    {
     "data": {
      "text/plain": [
       "(2550, 2550)"
      ]
     },
     "execution_count": 4,
     "metadata": {},
     "output_type": "execute_result"
    }
   ],
   "source": [
    "with open('test.src.1') as fopen:\n",
    "    left = fopen.read().split('\\n')\n",
    "    \n",
    "with open('test.tgt.1') as fopen:\n",
    "    right = fopen.read().split('\\n')\n",
    "    \n",
    "len(left), len(right)"
   ]
  },
  {
   "cell_type": "code",
   "execution_count": 5,
   "metadata": {},
   "outputs": [
    {
     "name": "stderr",
     "output_type": "stream",
     "text": [
      "100%|█████████████████████████████████████| 2550/2550 [00:02<00:00, 1192.11it/s]\n"
     ]
    }
   ],
   "source": [
    "results = []\n",
    "for i in tqdm(range(len(left))):\n",
    "    if len(left[i]) and len(right[i]):\n",
    "        l = truecase.get_true_case(left[i])\n",
    "        r = truecase.get_true_case(right[i])\n",
    "        results.append((l, r))"
   ]
  },
  {
   "cell_type": "code",
   "execution_count": 6,
   "metadata": {},
   "outputs": [],
   "source": [
    "import json\n",
    "\n",
    "with open('true-case-parasci-arxiv-test.json', 'w') as fopen:\n",
    "    json.dump(results, fopen)"
   ]
  },
  {
   "cell_type": "code",
   "execution_count": 7,
   "metadata": {},
   "outputs": [
    {
     "data": {
      "text/plain": [
       "(309835, 309835)"
      ]
     },
     "execution_count": 7,
     "metadata": {},
     "output_type": "execute_result"
    }
   ],
   "source": [
    "with open('train.src.1') as fopen:\n",
    "    left = fopen.read().split('\\n')\n",
    "    \n",
    "with open('train.tgt.1') as fopen:\n",
    "    right = fopen.read().split('\\n')\n",
    "    \n",
    "len(left), len(right)"
   ]
  },
  {
   "cell_type": "code",
   "execution_count": 8,
   "metadata": {},
   "outputs": [
    {
     "name": "stderr",
     "output_type": "stream",
     "text": [
      "100%|█████████████████████████████████| 309835/309835 [02:31<00:00, 2038.94it/s]\n"
     ]
    }
   ],
   "source": [
    "results = []\n",
    "for i in tqdm(range(len(left))):\n",
    "    if len(left[i]) and len(right[i]):\n",
    "        l = truecase.get_true_case(left[i])\n",
    "        r = truecase.get_true_case(right[i])\n",
    "        results.append((l, r))"
   ]
  },
  {
   "cell_type": "code",
   "execution_count": 9,
   "metadata": {},
   "outputs": [],
   "source": [
    "with open('true-case-parasci-arxiv-train.json', 'w') as fopen:\n",
    "    json.dump(results, fopen)"
   ]
  },
  {
   "cell_type": "code",
   "execution_count": 10,
   "metadata": {},
   "outputs": [
    {
     "data": {
      "text/plain": [
       "(3681, 3681)"
      ]
     },
     "execution_count": 10,
     "metadata": {},
     "output_type": "execute_result"
    }
   ],
   "source": [
    "with open('val.src.1') as fopen:\n",
    "    left = fopen.read().split('\\n')\n",
    "    \n",
    "with open('val.tgt.1') as fopen:\n",
    "    right = fopen.read().split('\\n')\n",
    "    \n",
    "len(left), len(right)"
   ]
  },
  {
   "cell_type": "code",
   "execution_count": 11,
   "metadata": {},
   "outputs": [
    {
     "name": "stderr",
     "output_type": "stream",
     "text": [
      "100%|█████████████████████████████████████| 3681/3681 [00:01<00:00, 2081.61it/s]\n"
     ]
    }
   ],
   "source": [
    "results = []\n",
    "for i in tqdm(range(len(left))):\n",
    "    if len(left[i]) and len(right[i]):\n",
    "        l = truecase.get_true_case(left[i])\n",
    "        r = truecase.get_true_case(right[i])\n",
    "        results.append((l, r))"
   ]
  },
  {
   "cell_type": "code",
   "execution_count": 12,
   "metadata": {},
   "outputs": [],
   "source": [
    "with open('true-case-parasci-arxiv-val.json', 'w') as fopen:\n",
    "    json.dump(results, fopen)"
   ]
  }
 ],
 "metadata": {
  "kernelspec": {
   "display_name": "Python 3 (ipykernel)",
   "language": "python",
   "name": "python3"
  },
  "language_info": {
   "codemirror_mode": {
    "name": "ipython",
    "version": 3
   },
   "file_extension": ".py",
   "mimetype": "text/x-python",
   "name": "python",
   "nbconvert_exporter": "python",
   "pygments_lexer": "ipython3",
   "version": "3.8.10"
  }
 },
 "nbformat": 4,
 "nbformat_minor": 4
}
