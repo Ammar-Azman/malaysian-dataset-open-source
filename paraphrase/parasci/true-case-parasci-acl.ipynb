{
 "cells": [
  {
   "cell_type": "code",
   "execution_count": 18,
   "metadata": {},
   "outputs": [],
   "source": [
    "# !pip3 install truecase\n",
    "# !wget https://raw.githubusercontent.com/dqxiu/ParaSCI/master/Data/ParaSCI-ACL/test/test.src\n",
    "# !wget https://raw.githubusercontent.com/dqxiu/ParaSCI/master/Data/ParaSCI-ACL/test/test.tgt\n",
    "# !wget https://raw.githubusercontent.com/dqxiu/ParaSCI/master/Data/ParaSCI-ACL/train/train.src\n",
    "# !wget https://raw.githubusercontent.com/dqxiu/ParaSCI/master/Data/ParaSCI-ACL/train/train.tgt\n",
    "# !wget https://raw.githubusercontent.com/dqxiu/ParaSCI/master/Data/ParaSCI-ACL/val/val.src\n",
    "# !wget https://raw.githubusercontent.com/dqxiu/ParaSCI/master/Data/ParaSCI-ACL/val/val.tgt"
   ]
  },
  {
   "cell_type": "code",
   "execution_count": 14,
   "metadata": {},
   "outputs": [],
   "source": [
    "import truecase\n",
    "from tqdm import tqdm"
   ]
  },
  {
   "cell_type": "code",
   "execution_count": 11,
   "metadata": {},
   "outputs": [
    {
     "data": {
      "text/plain": [
       "(2346, 2346)"
      ]
     },
     "execution_count": 11,
     "metadata": {},
     "output_type": "execute_result"
    }
   ],
   "source": [
    "with open('test.src') as fopen:\n",
    "    left = fopen.read().split('\\n')\n",
    "    \n",
    "with open('test.tgt') as fopen:\n",
    "    right = fopen.read().split('\\n')\n",
    "    \n",
    "len(left), len(right)"
   ]
  },
  {
   "cell_type": "code",
   "execution_count": 15,
   "metadata": {},
   "outputs": [
    {
     "name": "stderr",
     "output_type": "stream",
     "text": [
      "100%|█████████████████████████████████████| 2346/2346 [00:01<00:00, 1903.06it/s]\n"
     ]
    }
   ],
   "source": [
    "results = []\n",
    "for i in tqdm(range(len(left))):\n",
    "    if len(left[i]) and len(right[i]):\n",
    "        l = truecase.get_true_case(left[i])\n",
    "        r = truecase.get_true_case(right[i])\n",
    "        results.append((l, r))"
   ]
  },
  {
   "cell_type": "code",
   "execution_count": 20,
   "metadata": {},
   "outputs": [],
   "source": [
    "import json\n",
    "\n",
    "with open('true-case-parasci-test.json', 'w') as fopen:\n",
    "    json.dump(results, fopen)"
   ]
  },
  {
   "cell_type": "code",
   "execution_count": 21,
   "metadata": {},
   "outputs": [
    {
     "data": {
      "text/plain": [
       "(28884, 28884)"
      ]
     },
     "execution_count": 21,
     "metadata": {},
     "output_type": "execute_result"
    }
   ],
   "source": [
    "with open('train.src') as fopen:\n",
    "    left = fopen.read().split('\\n')\n",
    "    \n",
    "with open('train.tgt') as fopen:\n",
    "    right = fopen.read().split('\\n')\n",
    "    \n",
    "len(left), len(right)"
   ]
  },
  {
   "cell_type": "code",
   "execution_count": 22,
   "metadata": {},
   "outputs": [
    {
     "name": "stderr",
     "output_type": "stream",
     "text": [
      "100%|███████████████████████████████████| 28884/28884 [00:14<00:00, 1969.93it/s]\n"
     ]
    }
   ],
   "source": [
    "results = []\n",
    "for i in tqdm(range(len(left))):\n",
    "    if len(left[i]) and len(right[i]):\n",
    "        l = truecase.get_true_case(left[i])\n",
    "        r = truecase.get_true_case(right[i])\n",
    "        results.append((l, r))"
   ]
  },
  {
   "cell_type": "code",
   "execution_count": 23,
   "metadata": {},
   "outputs": [],
   "source": [
    "with open('true-case-parasci-train.json', 'w') as fopen:\n",
    "    json.dump(results, fopen)"
   ]
  },
  {
   "cell_type": "code",
   "execution_count": 24,
   "metadata": {},
   "outputs": [
    {
     "data": {
      "text/plain": [
       "(2754, 2754)"
      ]
     },
     "execution_count": 24,
     "metadata": {},
     "output_type": "execute_result"
    }
   ],
   "source": [
    "with open('val.src') as fopen:\n",
    "    left = fopen.read().split('\\n')\n",
    "    \n",
    "with open('val.tgt') as fopen:\n",
    "    right = fopen.read().split('\\n')\n",
    "    \n",
    "len(left), len(right)"
   ]
  },
  {
   "cell_type": "code",
   "execution_count": 25,
   "metadata": {},
   "outputs": [
    {
     "name": "stderr",
     "output_type": "stream",
     "text": [
      "100%|█████████████████████████████████████| 2754/2754 [00:01<00:00, 2103.92it/s]\n"
     ]
    }
   ],
   "source": [
    "results = []\n",
    "for i in tqdm(range(len(left))):\n",
    "    if len(left[i]) and len(right[i]):\n",
    "        l = truecase.get_true_case(left[i])\n",
    "        r = truecase.get_true_case(right[i])\n",
    "        results.append((l, r))"
   ]
  },
  {
   "cell_type": "code",
   "execution_count": 26,
   "metadata": {},
   "outputs": [],
   "source": [
    "with open('true-case-parasci-val.json', 'w') as fopen:\n",
    "    json.dump(results, fopen)"
   ]
  },
  {
   "cell_type": "code",
   "execution_count": null,
   "metadata": {},
   "outputs": [],
   "source": []
  }
 ],
 "metadata": {
  "kernelspec": {
   "display_name": "Python 3 (ipykernel)",
   "language": "python",
   "name": "python3"
  },
  "language_info": {
   "codemirror_mode": {
    "name": "ipython",
    "version": 3
   },
   "file_extension": ".py",
   "mimetype": "text/x-python",
   "name": "python",
   "nbconvert_exporter": "python",
   "pygments_lexer": "ipython3",
   "version": "3.8.10"
  }
 },
 "nbformat": 4,
 "nbformat_minor": 4
}
