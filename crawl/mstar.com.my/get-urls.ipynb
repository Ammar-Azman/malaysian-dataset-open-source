{
 "cells": [
  {
   "cell_type": "code",
   "execution_count": 41,
   "metadata": {},
   "outputs": [],
   "source": [
    "import requests\n",
    "\n",
    "cookies = {\n",
    "    '_gcl_au': '1.1.1684332370.1688641110',\n",
    "    '_pcid': '%7B%22browserId%22%3A%22ljr1bfm0l0fnezfv%22%7D',\n",
    "    'cX_P': 'ljr1bfm0l0fnezfv',\n",
    "    '_pctx': '%7Bu%7DN4IgrgzgpgThIC4B2YA2qA05owMoBcBDfSREQpAeyRCwgEt8oBJAEzIEYOAWAVgCYA7AA4AnAGZ%2BUgAwA2UcP6jRIAL5A',\n",
    "    '_cc_id': '69f8b801beef15345eb5accdea253af',\n",
    "    'panoramaId_expiry': '1689245910648',\n",
    "    'panoramaId': 'be52973bf52e8223169963ad8c9d16d539387bd118431a829eb171349f762869',\n",
    "    'panoramaIdType': 'panoIndiv',\n",
    "    '__stdf': 'MA==',\n",
    "    'cX_G': 'cx%3A1i0t3fg74zq623k3k9afr0x7u3%3A2nq99z7wrkb6x',\n",
    "    '__stat': 'IkJMT0NLIg==',\n",
    "    '_gid': 'GA1.3.1848321421.1688807659',\n",
    "    '__stp': 'eyJ2aXNpdCI6InJldHVybmluZyIsInV1aWQiOiIyZTQ3MjhlNi1kNWQxLTQ0MDItYmM5MS0wYmM0NTI5NWY0OTgifQ==',\n",
    "    '__stgeo': 'IjAi',\n",
    "    '__stbpnenable': 'MQ==',\n",
    "    'cto_bundle': 'kZLHU18xRWtEMnRqMGRRNzVVSFNISW1ES05vVjhuOHV0djZLV1oxdFZEQmhuUjJ3bVpzRGMxbFl1R3d5YVFWa1MlMkJod1FTSWZJNG9Wam5qaExHSnlYNHVSZ1g1cnI4V1ZSNWFmaFY5SUw1YkRmSmtyRUNyZjFwbkNid0tRdyUyRkVudGlYa3dXaVl1ajllRXl2NWhBdCUyQmgzblVTRlElM0QlM0Q',\n",
    "    '_gat': '1',\n",
    "    '_ga': 'GA1.1.1351097787.1688641110',\n",
    "    '__sts': 'eyJzaWQiOjE2ODg4MTk1ODU4MTQsInR4IjoxNjg4ODE5NTg1ODE0LCJ1cmwiOiJodHRwcyUzQSUyRiUyRnd3dy5tc3Rhci5jb20ubXklMkZzcG90bGlnaHQiLCJwZXQiOjE2ODg4MTk1ODU4MTQsInNldCI6MTY4ODgxOTU4NTgxNH0=',\n",
    "    '_awl': '3.1688819586.5-f51692faf6c4dc366c6e628a7dbc89e1-6763652d617369612d6561737431-1',\n",
    "    'outbrain_cid_fetch': 'true',\n",
    "    'FCNEC': '%5B%5B%22AKsRol_Rec8ii9b5DIzmraRG1Cx7_bugfxskYM_Wa6DEKuOBd003Ov7i2PdBtcSBuuOJySVQfhyA9UlOfzAiyTW9ZVa9GMdnrdj90IbwLBBo1oEXshp-26HqCDLZhI_lScQuJL_53ylRYwOn8E35ctT3NVbEz8ETBA%3D%3D%22%5D%2Cnull%2C%5B%5D%5D',\n",
    "    'vodus_cc_parameter_last_sync': 'Sat Jul 08 2023 20:33:09 GMT+0800 (Malaysia Time)',\n",
    "    'vodus_cc_parameter': '{\"Interval\":0,\"Delay\":0,\"CTCTimer\":3,\"CTCInterval\":0,\"Language\":\"ms\",\"ModalClosable\":false,\"MinSessionCount\":1,\"NoDemo\":1,\"CCType\":2,\"DailyAllowance\":0,\"DemographicCCType\":2,\"DemographicCTCTimer\":0,\"DemographicInterval\":0,\"CCScrollTrigger\":45,\"CatFishPosition\":\"bottom-right\",\"ChainQuota\":5,\"BannerMode\":1,\"IntervalBannerMode\":0,\"STOAfterTotalNoResponse\":10,\"DMPType\":1,\"DMPCode\":null,\"DMPTargetAudience\":null,\"DMPTargetCode\":null,\"IsAdminCCControl\":true,\"IsJSConsoleLogEnabled\":false}',\n",
    "    'vodus_temp_token': '639165fb-cf53-4129-bf49-8fca2a23c5e0',\n",
    "    '_ga_HR2XK1LWTQ': 'GS1.1.1688819585.3.1.1688819602.43.0.0',\n",
    "    'spotlight': '{\"count\":4,\"load_id\":\"35306\"}',\n",
    "}\n",
    "\n",
    "headers = {\n",
    "    'authority': 'www.mstar.com.my',\n",
    "    'accept': '*/*',\n",
    "    'accept-language': 'en-MY,en;q=0.9,en-US;q=0.8,ms;q=0.7',\n",
    "    'cache-control': 'no-cache',\n",
    "    'content-type': 'application/x-www-form-urlencoded; charset=UTF-8',\n",
    "    # 'cookie': '_gcl_au=1.1.1684332370.1688641110; _pcid=%7B%22browserId%22%3A%22ljr1bfm0l0fnezfv%22%7D; cX_P=ljr1bfm0l0fnezfv; _pctx=%7Bu%7DN4IgrgzgpgThIC4B2YA2qA05owMoBcBDfSREQpAeyRCwgEt8oBJAEzIEYOAWAVgCYA7AA4AnAGZ%2BUgAwA2UcP6jRIAL5A; _cc_id=69f8b801beef15345eb5accdea253af; panoramaId_expiry=1689245910648; panoramaId=be52973bf52e8223169963ad8c9d16d539387bd118431a829eb171349f762869; panoramaIdType=panoIndiv; __stdf=MA==; cX_G=cx%3A1i0t3fg74zq623k3k9afr0x7u3%3A2nq99z7wrkb6x; __stat=IkJMT0NLIg==; _gid=GA1.3.1848321421.1688807659; __stp=eyJ2aXNpdCI6InJldHVybmluZyIsInV1aWQiOiIyZTQ3MjhlNi1kNWQxLTQ0MDItYmM5MS0wYmM0NTI5NWY0OTgifQ==; __stgeo=IjAi; __stbpnenable=MQ==; cto_bundle=kZLHU18xRWtEMnRqMGRRNzVVSFNISW1ES05vVjhuOHV0djZLV1oxdFZEQmhuUjJ3bVpzRGMxbFl1R3d5YVFWa1MlMkJod1FTSWZJNG9Wam5qaExHSnlYNHVSZ1g1cnI4V1ZSNWFmaFY5SUw1YkRmSmtyRUNyZjFwbkNid0tRdyUyRkVudGlYa3dXaVl1ajllRXl2NWhBdCUyQmgzblVTRlElM0QlM0Q; _gat=1; _ga=GA1.1.1351097787.1688641110; __sts=eyJzaWQiOjE2ODg4MTk1ODU4MTQsInR4IjoxNjg4ODE5NTg1ODE0LCJ1cmwiOiJodHRwcyUzQSUyRiUyRnd3dy5tc3Rhci5jb20ubXklMkZzcG90bGlnaHQiLCJwZXQiOjE2ODg4MTk1ODU4MTQsInNldCI6MTY4ODgxOTU4NTgxNH0=; _awl=3.1688819586.5-f51692faf6c4dc366c6e628a7dbc89e1-6763652d617369612d6561737431-1; outbrain_cid_fetch=true; FCNEC=%5B%5B%22AKsRol_Rec8ii9b5DIzmraRG1Cx7_bugfxskYM_Wa6DEKuOBd003Ov7i2PdBtcSBuuOJySVQfhyA9UlOfzAiyTW9ZVa9GMdnrdj90IbwLBBo1oEXshp-26HqCDLZhI_lScQuJL_53ylRYwOn8E35ctT3NVbEz8ETBA%3D%3D%22%5D%2Cnull%2C%5B%5D%5D; vodus_cc_parameter_last_sync=Sat Jul 08 2023 20:33:09 GMT+0800 (Malaysia Time); vodus_cc_parameter={\"Interval\":0,\"Delay\":0,\"CTCTimer\":3,\"CTCInterval\":0,\"Language\":\"ms\",\"ModalClosable\":false,\"MinSessionCount\":1,\"NoDemo\":1,\"CCType\":2,\"DailyAllowance\":0,\"DemographicCCType\":2,\"DemographicCTCTimer\":0,\"DemographicInterval\":0,\"CCScrollTrigger\":45,\"CatFishPosition\":\"bottom-right\",\"ChainQuota\":5,\"BannerMode\":1,\"IntervalBannerMode\":0,\"STOAfterTotalNoResponse\":10,\"DMPType\":1,\"DMPCode\":null,\"DMPTargetAudience\":null,\"DMPTargetCode\":null,\"IsAdminCCControl\":true,\"IsJSConsoleLogEnabled\":false}; vodus_temp_token=639165fb-cf53-4129-bf49-8fca2a23c5e0; _ga_HR2XK1LWTQ=GS1.1.1688819585.3.1.1688819602.43.0.0; spotlight={\"count\":4,\"load_id\":\"35306\"}',\n",
    "    'newrelic': 'eyJ2IjpbMCwxXSwiZCI6eyJ0eSI6IkJyb3dzZXIiLCJhYyI6IjI0MzU5MzIiLCJhcCI6IjE4MzQ4Njk3NjkiLCJpZCI6IjllZThlNTg5MjRiYjAwMGEiLCJ0ciI6IjUzODMzNzM3NGY1ZjZlZDRkYjFiM2Q3ZjNmZWI1MjAwIiwidGkiOjE2ODg4MTk2MjU2OTR9fQ==',\n",
    "    'origin': 'https://www.mstar.com.my',\n",
    "    'pragma': 'no-cache',\n",
    "    'referer': 'https://www.mstar.com.my/spotlight',\n",
    "    'sec-ch-ua': '\"Not.A/Brand\";v=\"8\", \"Chromium\";v=\"114\", \"Google Chrome\";v=\"114\"',\n",
    "    'sec-ch-ua-mobile': '?0',\n",
    "    'sec-ch-ua-platform': '\"macOS\"',\n",
    "    'sec-fetch-dest': 'empty',\n",
    "    'sec-fetch-mode': 'cors',\n",
    "    'sec-fetch-site': 'same-origin',\n",
    "    'traceparent': '00-538337374f5f6ed4db1b3d7f3feb5200-9ee8e58924bb000a-01',\n",
    "    'tracestate': '2435932@nr=0-1-2435932-1834869769-9ee8e58924bb000a----1688819625694',\n",
    "    'user-agent': 'Mozilla/5.0 (Macintosh; Intel Mac OS X 10_15_7) AppleWebKit/537.36 (KHTML, like Gecko) Chrome/114.0.0.0 Safari/537.36',\n",
    "    'x-csrf-token': '',\n",
    "    'x-newrelic-id': 'VgIEVF9QChABUldXBwUOX1QD',\n",
    "    'x-requested-with': 'XMLHttpRequest',\n",
    "}\n",
    "\n",
    "data = {\n",
    "    'page_name': 'Travel',\n",
    "    'section': 'Travel',\n",
    "    'sub_section': '',\n",
    "    'session_article_id': '[35344,35345,35337,35334,35330,35329,35326]',\n",
    "    'topik_article_ids': '[]',\n",
    "    'page_num': '0',\n",
    "    'back_button': '0',\n",
    "    'year': '0',\n",
    "    'month': '0',\n",
    "    'date': '0',\n",
    "}\n",
    "\n",
    "response = requests.post('https://www.mstar.com.my/load-more-articles', cookies=cookies, headers=headers, data=data)"
   ]
  },
  {
   "cell_type": "code",
   "execution_count": 35,
   "metadata": {},
   "outputs": [],
   "source": [
    "topics = [\n",
    "    'Spotlight',\n",
    "    'Xpose',\n",
    "    'Lokal',\n",
    "    'Global',\n",
    "    'Sukan',\n",
    "    'Travel',\n",
    "]"
   ]
  },
  {
   "cell_type": "code",
   "execution_count": 47,
   "metadata": {},
   "outputs": [],
   "source": [
    "!mkdir page"
   ]
  },
  {
   "cell_type": "code",
   "execution_count": 50,
   "metadata": {},
   "outputs": [
    {
     "name": "stdout",
     "output_type": "stream",
     "text": [
      "Spotlight\n"
     ]
    },
    {
     "name": "stderr",
     "output_type": "stream",
     "text": [
      "10it [00:01,  5.13it/s]\n"
     ]
    },
    {
     "name": "stdout",
     "output_type": "stream",
     "text": [
      "Xpose\n"
     ]
    },
    {
     "name": "stderr",
     "output_type": "stream",
     "text": [
      "10it [00:01,  5.34it/s]\n"
     ]
    },
    {
     "name": "stdout",
     "output_type": "stream",
     "text": [
      "Lokal\n"
     ]
    },
    {
     "name": "stderr",
     "output_type": "stream",
     "text": [
      "10it [00:01,  5.48it/s]\n"
     ]
    },
    {
     "name": "stdout",
     "output_type": "stream",
     "text": [
      "Global\n"
     ]
    },
    {
     "name": "stderr",
     "output_type": "stream",
     "text": [
      "10it [00:01,  5.12it/s]\n"
     ]
    },
    {
     "name": "stdout",
     "output_type": "stream",
     "text": [
      "Sukan\n"
     ]
    },
    {
     "name": "stderr",
     "output_type": "stream",
     "text": [
      "10it [00:01,  5.72it/s]\n"
     ]
    },
    {
     "name": "stdout",
     "output_type": "stream",
     "text": [
      "Travel\n"
     ]
    },
    {
     "name": "stderr",
     "output_type": "stream",
     "text": [
      "10it [00:01,  5.73it/s]\n"
     ]
    },
    {
     "name": "stdout",
     "output_type": "stream",
     "text": [
      "Video\n"
     ]
    },
    {
     "name": "stderr",
     "output_type": "stream",
     "text": [
      "0it [00:00, ?it/s]\n"
     ]
    }
   ],
   "source": [
    "from tqdm import tqdm\n",
    "import json\n",
    "import os\n",
    "\n",
    "def generator():\n",
    "    while True:\n",
    "        yield\n",
    "\n",
    "for t in topics:\n",
    "    print(t)\n",
    "    index = 0\n",
    "    for _ in tqdm(generator()):\n",
    "        filename = os.path.join('page', f'{t}-{index}.json')\n",
    "        if os.path.exists(filename):\n",
    "            continue\n",
    "        \n",
    "        data = {\n",
    "            'page_name': t,\n",
    "            'section': t,\n",
    "            'sub_section': '',\n",
    "            'session_article_id': '[35344,35345,35337,35334,35330,35329,35326]',\n",
    "            'topik_article_ids': '[]',\n",
    "            'page_num': str(index),\n",
    "            'back_button': '0',\n",
    "            'year': '0',\n",
    "            'month': '0',\n",
    "            'date': '0',\n",
    "        }\n",
    "\n",
    "        response = requests.post('https://www.mstar.com.my/load-more-articles', cookies=cookies, headers=headers, data=data)\n",
    "        r = response.json()\n",
    "        if not r['button_load_more']:\n",
    "            break\n",
    "        \n",
    "        with open(filename, 'w') as fopen:\n",
    "            json.dump(r, fopen)\n",
    "            \n",
    "        index += 1"
   ]
  },
  {
   "cell_type": "code",
   "execution_count": 55,
   "metadata": {},
   "outputs": [
    {
     "data": {
      "text/plain": [
       "60"
      ]
     },
     "execution_count": 55,
     "metadata": {},
     "output_type": "execute_result"
    }
   ],
   "source": [
    "from glob import glob\n",
    "\n",
    "files = glob('page/*.json')\n",
    "len(files)"
   ]
  },
  {
   "cell_type": "code",
   "execution_count": 56,
   "metadata": {},
   "outputs": [],
   "source": [
    "with open(files[0]) as fopen:\n",
    "    data = json.load(fopen)"
   ]
  },
  {
   "cell_type": "code",
   "execution_count": 60,
   "metadata": {},
   "outputs": [],
   "source": [
    "with open('data.jsonl', 'w') as fopen_l:\n",
    "    for f in files:\n",
    "        with open(f) as fopen:\n",
    "            data = json.load(fopen)\n",
    "        \n",
    "        for d in data['load_more_articles']:\n",
    "            fopen_l.write(f'{json.dumps(d)}\\n')"
   ]
  },
  {
   "cell_type": "code",
   "execution_count": null,
   "metadata": {},
   "outputs": [],
   "source": []
  }
 ],
 "metadata": {
  "kernelspec": {
   "display_name": "Python 3 (ipykernel)",
   "language": "python",
   "name": "python3"
  },
  "language_info": {
   "codemirror_mode": {
    "name": "ipython",
    "version": 3
   },
   "file_extension": ".py",
   "mimetype": "text/x-python",
   "name": "python",
   "nbconvert_exporter": "python",
   "pygments_lexer": "ipython3",
   "version": "3.8.10"
  }
 },
 "nbformat": 4,
 "nbformat_minor": 4
}
