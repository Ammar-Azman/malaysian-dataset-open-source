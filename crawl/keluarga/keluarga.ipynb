{
 "cells": [
  {
   "cell_type": "code",
   "execution_count": 1,
   "id": "b2823ccc",
   "metadata": {},
   "outputs": [],
   "source": [
    "from bs4 import BeautifulSoup\n",
    "import pandas as pd\n",
    "import json\n",
    "import requests\n",
    "from urllib.request import urlopen\n",
    "import urllib.request\n",
    "from datetime import datetime\n",
    "from tqdm import tqdm\n",
    "import time\n",
    "import numpy as np\n",
    "from concurrent.futures import ThreadPoolExecutor, as_completed"
   ]
  },
  {
   "cell_type": "code",
   "execution_count": 2,
   "id": "a793a90e",
   "metadata": {},
   "outputs": [],
   "source": [
    "categories = [\"9\",\"4\",\"5\",\"21\",\"1987\",\"165\"]\n",
    "\n",
    "hrefs = []"
   ]
  },
  {
   "cell_type": "code",
   "execution_count": 22,
   "id": "86e60645",
   "metadata": {},
   "outputs": [],
   "source": [
    "import requests\n",
    "\n",
    "cookies = {\n",
    "    'quform_session_f86aea71616c270f03e8b20b0a59a8cd': 'tMxXL273mWOLJEaUNJjHj0UugyZUPbjKhiNhwElC',\n",
    "    '_gcl_au': '1.1.1667691462.1688797266',\n",
    "    'AMCVS_43D8021954C26BE10A4C98A5%40AdobeOrg': '1',\n",
    "    '_cc_id': '3eda540b1733bbf97d5a84667177a178',\n",
    "    'izootoWpConfig': '%7B%22b_type%22:7,%22d_type%22:1,%22evt_trk%22:1,%22izooto_uid%22:%22103e5318-4753-4d35-96fb-6e59d671b065%22%7D',\n",
    "    '_ga': 'GA1.2.691577196.1688797266',\n",
    "    '_gid': 'GA1.2.1073107560.1690368103',\n",
    "    '_gat_UA-20278225-92': '1',\n",
    "    '_dc_gtm_UA-6654833-5': '1',\n",
    "    'AMCV_43D8021954C26BE10A4C98A5%40AdobeOrg': '-1124106680%7CMCIDTS%7C19565%7CMCMID%7C24738644631148385843957262596146711934%7CMCAAMLH-1690972902%7C3%7CMCAAMB-1690972902%7C6G1ynYcLPuiQxYZrsz_pkqfLG9yMXBpb2zX5dvJdYQJzPXImdj0y%7CMCOPTOUT-1690375302s%7CNONE%7CMCSYNCS%7C1083-19570*1085-19570*1086-19570*1087-19570*1088-19570*19913-19570*83349-19570%7CMCSYNCSOP%7C411-19570%7CvVersion%7C5.2.0',\n",
    "    '_clck': '1a6ejvj|2|fdm|0|1284',\n",
    "    'panoramaId_expiry': '1690454503189',\n",
    "    'panoramaId': '24aa7eb4ab23dee1ace84787366ea9fb927af0baabde5e68c1e8fb79cc4932a0',\n",
    "    'panoramaIdType': 'panoDevice',\n",
    "    '_gat_UA-6654833-5': '1',\n",
    "    'FCNEC': '%5B%5B%22AKsRol_Tsci_ni4qFIRIHnW-zPuiMbfJqbZx988IQyCLc_l-T0vuExAqEuGdMh_UD7meC84ndnbmYzdR7CQ3slctkcMsdCag7jmaajOH6CatylDRoVE5tm4ckqdFP2FI2gyVINZty_RbGDvtHFaX6sn1nP2wwvo6Lw%3D%3D%22%5D%2Cnull%2C%5B%5D%5D',\n",
    "    '_clsk': '1gihgli|1690368104482|1|1|u.clarity.ms/collect',\n",
    "    '_ga_FY4ZYK48VJ': 'GS1.1.1690368102.5.0.1690368115.0.0.0',\n",
    "    '_ga_F0H1V5MM9V': 'GS1.2.1690368102.4.0.1690368115.47.0.0',\n",
    "    '_ga_FHPY63V2VX': 'GS1.1.1690368102.4.0.1690368117.0.0.0',\n",
    "}\n",
    "\n",
    "headers = {\n",
    "    'authority': 'www.keluarga.my',\n",
    "    'accept': '*/*',\n",
    "    'accept-language': 'en-US,en;q=0.9',\n",
    "    'content-type': 'application/x-www-form-urlencoded; charset=UTF-8',\n",
    "    # 'cookie': 'quform_session_f86aea71616c270f03e8b20b0a59a8cd=tMxXL273mWOLJEaUNJjHj0UugyZUPbjKhiNhwElC; _gcl_au=1.1.1667691462.1688797266; AMCVS_43D8021954C26BE10A4C98A5%40AdobeOrg=1; _cc_id=3eda540b1733bbf97d5a84667177a178; izootoWpConfig=%7B%22b_type%22:7,%22d_type%22:1,%22evt_trk%22:1,%22izooto_uid%22:%22103e5318-4753-4d35-96fb-6e59d671b065%22%7D; _ga=GA1.2.691577196.1688797266; _gid=GA1.2.1073107560.1690368103; _gat_UA-20278225-92=1; _dc_gtm_UA-6654833-5=1; AMCV_43D8021954C26BE10A4C98A5%40AdobeOrg=-1124106680%7CMCIDTS%7C19565%7CMCMID%7C24738644631148385843957262596146711934%7CMCAAMLH-1690972902%7C3%7CMCAAMB-1690972902%7C6G1ynYcLPuiQxYZrsz_pkqfLG9yMXBpb2zX5dvJdYQJzPXImdj0y%7CMCOPTOUT-1690375302s%7CNONE%7CMCSYNCS%7C1083-19570*1085-19570*1086-19570*1087-19570*1088-19570*19913-19570*83349-19570%7CMCSYNCSOP%7C411-19570%7CvVersion%7C5.2.0; _clck=1a6ejvj|2|fdm|0|1284; panoramaId_expiry=1690454503189; panoramaId=24aa7eb4ab23dee1ace84787366ea9fb927af0baabde5e68c1e8fb79cc4932a0; panoramaIdType=panoDevice; _gat_UA-6654833-5=1; FCNEC=%5B%5B%22AKsRol_Tsci_ni4qFIRIHnW-zPuiMbfJqbZx988IQyCLc_l-T0vuExAqEuGdMh_UD7meC84ndnbmYzdR7CQ3slctkcMsdCag7jmaajOH6CatylDRoVE5tm4ckqdFP2FI2gyVINZty_RbGDvtHFaX6sn1nP2wwvo6Lw%3D%3D%22%5D%2Cnull%2C%5B%5D%5D; _clsk=1gihgli|1690368104482|1|1|u.clarity.ms/collect; _ga_FY4ZYK48VJ=GS1.1.1690368102.5.0.1690368115.0.0.0; _ga_F0H1V5MM9V=GS1.2.1690368102.4.0.1690368115.47.0.0; _ga_FHPY63V2VX=GS1.1.1690368102.4.0.1690368117.0.0.0',\n",
    "    'origin': 'https://www.keluarga.my',\n",
    "    'referer': 'https://www.keluarga.my/category/famili/',\n",
    "    'sec-ch-ua': '\"Not.A/Brand\";v=\"8\", \"Chromium\";v=\"114\", \"Microsoft Edge\";v=\"114\"',\n",
    "    'sec-ch-ua-mobile': '?0',\n",
    "    'sec-ch-ua-platform': '\"macOS\"',\n",
    "    'sec-fetch-dest': 'empty',\n",
    "    'sec-fetch-mode': 'cors',\n",
    "    'sec-fetch-site': 'same-origin',\n",
    "    'user-agent': 'Mozilla/5.0 (Macintosh; Intel Mac OS X 10_15_7) AppleWebKit/537.36 (KHTML, like Gecko) Chrome/114.0.0.0 Safari/537.36 Edg/114.0.1823.82',\n",
    "    'x-auth-token': 'Njg3MTE4NzMzMjQyMjgzMTMyNTE3NzQ4NDI4MDkyNTk=',\n",
    "    'x-requested-with': 'XMLHttpRequest',\n",
    "}\n",
    "\n",
    "params = {\n",
    "    'td_theme_name': 'Newspaper',\n",
    "    'v': '12.4',\n",
    "}\n",
    "\n",
    "data = {\n",
    "    'action': 'td_ajax_loop',\n",
    "    'loopState[sidebarPosition]': '',\n",
    "    'loopState[moduleId]': '1',\n",
    "    'loopState[currentPage]': '3',\n",
    "    'loopState[max_num_pages]': '1123',\n",
    "    'loopState[atts][category_id]': '9',\n",
    "    'loopState[ajax_pagination_infinite_stop]': '3',\n",
    "    'loopState[server_reply_html_data]': '',\n",
    "}\n",
    "\n",
    "response = requests.post(\n",
    "    'https://www.keluarga.my/wp-admin/admin-ajax.php',\n",
    "    params=params,\n",
    "    cookies=cookies,\n",
    "    headers=headers,\n",
    "    data=data,\n",
    ")"
   ]
  },
  {
   "cell_type": "code",
   "execution_count": 23,
   "id": "f315ad24",
   "metadata": {},
   "outputs": [],
   "source": [
    "def crawl(url,category):\n",
    "    \n",
    "        \n",
    "    data = {\n",
    "    'action': 'td_ajax_loop',\n",
    "    'loopState[sidebarPosition]': '',\n",
    "    'loopState[moduleId]': '1',\n",
    "    'loopState[currentPage]': f'{url}',\n",
    "    'loopState[atts][category_id]': f'{category}',\n",
    "    'loopState[ajax_pagination_infinite_stop]': '3',\n",
    "    'loopState[server_reply_html_data]': '',\n",
    "    }\n",
    "    \n",
    "    \n",
    "    \n",
    "    while True:\n",
    "        try:\n",
    "            response = requests.post(\n",
    "                'https://www.keluarga.my/wp-admin/admin-ajax.php',\n",
    "                params=params,\n",
    "                cookies=cookies,\n",
    "                headers=headers,\n",
    "                data=data,\n",
    "            )\n",
    "            if response.status_code == 508:\n",
    "                print(r.status_code)\n",
    "                print('error in link, retrying... ', url)\n",
    "                time.sleep(20)\n",
    "                continue\n",
    "            break\n",
    "        except Exception as e:\n",
    "            print(e)\n",
    "            time.sleep(1.0)\n",
    "    \n",
    "    try:\n",
    "        r = response.json()\n",
    "    except:\n",
    "        return\n",
    "    \n",
    "    \n",
    "    soup = BeautifulSoup(r['server_reply_html_data'], \"html.parser\")\n",
    "    \n",
    "    block = soup.find_all(\"h3\",attrs = {\"class\":\"entry-title td-module-title\"})\n",
    "    \n",
    "    if block is None:\n",
    "        return\n",
    "\n",
    "    for link in soup.find_all(\"h3\",attrs = {\"class\":\"entry-title td-module-title\"}):\n",
    "\n",
    "        href = link.find('a').get('href')\n",
    "        hrefs.append(href)\n",
    "    "
   ]
  },
  {
   "cell_type": "code",
   "execution_count": 24,
   "id": "3184367c",
   "metadata": {
    "scrolled": true
   },
   "outputs": [
    {
     "name": "stderr",
     "output_type": "stream",
     "text": [
      "100%|██████████████████████████████████████████████████████████████████████████████████████████████| 225/225 [21:26<00:00,  5.72s/it]\n",
      "100%|████████████████████████████████████████████████████████████████████████████████████████████████| 36/36 [03:01<00:00,  5.03s/it]\n",
      "100%|████████████████████████████████████████████████████████████████████████████████████████████████| 18/18 [01:02<00:00,  3.45s/it]\n",
      "100%|████████████████████████████████████████████████████████████████████████████████████████████████| 18/18 [01:29<00:00,  4.97s/it]\n",
      "100%|██████████████████████████████████████████████████████████████████████████████████████████████████| 3/3 [00:28<00:00,  9.36s/it]\n",
      "100%|████████████████████████████████████████████████████████████████████████████████████████████████| 18/18 [01:17<00:00,  4.33s/it]\n"
     ]
    }
   ],
   "source": [
    "max_worker = 5\n",
    "hrefs = []\n",
    "\n",
    "for index, c in enumerate(categories):\n",
    "    max_pages = ['1123', '179', '88', '90', '13',\"87\"]\n",
    "    max_page = int(max_pages[index])\n",
    "    \n",
    "    for i in tqdm(range(1, max_page + 1, max_worker)):\n",
    "        aranged = np.arange(i, min(i + max_worker, max_page + 1))  # Fix range issue\n",
    "        urls = [str(a) for a in aranged]  # Use the correct range of pages\n",
    "        \n",
    "        with ThreadPoolExecutor(max_workers=max_worker) as executor:\n",
    "            futures = {executor.submit(crawl, url, c): url for url in urls}\n",
    "            \n",
    "        for future in as_completed(futures):\n",
    "            future.result()"
   ]
  },
  {
   "cell_type": "code",
   "execution_count": 27,
   "id": "b0dd69c1",
   "metadata": {},
   "outputs": [
    {
     "data": {
      "text/plain": [
       "13632"
      ]
     },
     "execution_count": 27,
     "metadata": {},
     "output_type": "execute_result"
    }
   ],
   "source": [
    "len(hrefs)"
   ]
  },
  {
   "cell_type": "code",
   "execution_count": 28,
   "id": "acdd0004",
   "metadata": {},
   "outputs": [],
   "source": [
    "hrefs = list(set(hrefs))"
   ]
  },
  {
   "cell_type": "code",
   "execution_count": 29,
   "id": "ecd2a622",
   "metadata": {},
   "outputs": [],
   "source": [
    "with open('keluarga-link.json', 'a') as f:\n",
    "    json.dump(hrefs, f)"
   ]
  },
  {
   "cell_type": "code",
   "execution_count": 3,
   "id": "6a6cd382",
   "metadata": {},
   "outputs": [],
   "source": [
    "with open('keluarga-link.json') as f:\n",
    "    hrefs = json.load(f)"
   ]
  },
  {
   "cell_type": "code",
   "execution_count": 7,
   "id": "deb3e1a7",
   "metadata": {},
   "outputs": [],
   "source": [
    "def process_url(x):\n",
    "    headers = {'User-Agent': 'Mozilla/5.0 (Windows NT 6.1; WOW64) AppleWebKit/537.36 (KHTML, like Gecko) Chrome/56.0.2924.76 Safari/537.36'} # This is chrome, you can set whatever browser you like\n",
    "\n",
    "    \n",
    "    while True:\n",
    "        try:\n",
    "            r = requests.get(x, headers=headers)\n",
    "            break\n",
    "        except Exception as e:\n",
    "            print(e)\n",
    "            time.sleep(5.0)\n",
    "    \n",
    "    soup = BeautifulSoup(r.text, \"lxml\")\n",
    "\n",
    "    try:\n",
    "        headline = soup.find('h1', class_=\"entry-title\").text\n",
    "        h = soup.find('div', attrs = {\"class\":\"td-ss-main-content\"})\n",
    "        p = [p.text for p in h.find_all(\"p\") if len(p.text.strip()) > 3 and not p.find('a', href=True)]\n",
    "    except Exception as e:\n",
    "        print('error in link:'+ x)\n",
    "        print(e)\n",
    "        return None\n",
    "    \n",
    "    time.sleep(3)\n",
    "\n",
    "    \n",
    "    data = {'url': x, 'headline': headline, 'content': p}\n",
    "    return data"
   ]
  },
  {
   "cell_type": "code",
   "execution_count": 8,
   "id": "0186bc8c",
   "metadata": {},
   "outputs": [
    {
     "name": "stderr",
     "output_type": "stream",
     "text": [
      "\r",
      "  0%|                                                                                                                                | 0/4709 [00:00<?, ?it/s]"
     ]
    },
    {
     "name": "stdout",
     "output_type": "stream",
     "text": [
      "error in link:https://www.keluarga.my/minuman-herba-ni-baik-untuk-perempuan-lagi-lagi-amal-lepas-habis-period/\n",
      "'NoneType' object has no attribute 'text'\n",
      "error in link:https://www.keluarga.my/ibu-ayah-tak-boleh-jadi-superhero-jika-silap-cara-uruskan-keluarga-tolong-alert-penjelasan-doktor-ini/\n",
      "'NoneType' object has no attribute 'text'\n",
      "error in link:https://www.keluarga.my/ramai-cuba-petua-nak-kulit-cerah-berseri-tapi-cara-ni-paling-berkesan/\n",
      "'NoneType' object has no attribute 'text'\n",
      "error in link:https://www.keluarga.my/isu-mommy-baba-tolak-ke-tepi-sharnaaz-sambut-raya-bersama-nabila-anak-ramai-titip-doa/\n",
      "'NoneType' object has no attribute 'text'\n"
     ]
    },
    {
     "name": "stderr",
     "output_type": "stream",
     "text": [
      "\r",
      "  0%|                                                                                                                      | 1/4709 [00:01<1:50:48,  1.41s/it]"
     ]
    },
    {
     "name": "stdout",
     "output_type": "stream",
     "text": [
      "error in link:https://www.keluarga.my/kalau-sayangkan-anak-kena-biasakan-guna-carseat-8-tip-ni-mak-ayah-wajib-buat/\n",
      "'NoneType' object has no attribute 'text'\n"
     ]
    },
    {
     "name": "stderr",
     "output_type": "stream",
     "text": [
      "\r",
      "  0%|▏                                                                                                                       | 6/4709 [00:02<25:53,  3.03it/s]"
     ]
    },
    {
     "name": "stdout",
     "output_type": "stream",
     "text": [
      "error in link:https://www.keluarga.my/biasa-biasakan-makan-buah-delima-segar-banyak-sangat-kebaikannya-agar-tak-tersalah-pilih-ketika-membeli-ni-tipnya/\n",
      "'NoneType' object has no attribute 'text'\n"
     ]
    },
    {
     "name": "stderr",
     "output_type": "stream",
     "text": [
      "\r",
      "  0%|▏                                                                                                                       | 7/4709 [00:02<24:23,  3.21it/s]"
     ]
    },
    {
     "name": "stdout",
     "output_type": "stream",
     "text": [
      "error in link:https://www.keluarga.my/jangan-berlebih-lebihan-kalau-marah-atau-gaduh-ini-tindakan-patut-suami-isteri-buat/\n",
      "'NoneType' object has no attribute 'text'\n"
     ]
    },
    {
     "name": "stderr",
     "output_type": "stream",
     "text": [
      "\r",
      "  0%|▏                                                                                                                       | 8/4709 [00:02<23:21,  3.35it/s]"
     ]
    },
    {
     "name": "stdout",
     "output_type": "stream",
     "text": [
      "error in link:https://www.keluarga.my/cucu-nenek-ni-lepas-rindu-dengan-berbalas-nyanyian-di-voice-note-kemerduannya-buat-warganet-rela-tadah-telinga/\n",
      "'NoneType' object has no attribute 'text'\n",
      "error in link:https://www.keluarga.my/solekan-rapi-untuk-kening-lebat/\n",
      "'NoneType' object has no attribute 'text'\n",
      "error in link:https://www.keluarga.my/8-rahsia-ciuman-yang-perlu-dikuasai-suami-isteri/\n",
      "'NoneType' object has no attribute 'text'\n"
     ]
    },
    {
     "name": "stderr",
     "output_type": "stream",
     "text": [
      "  0%|▎                                                                                                                      | 12/4709 [00:03<17:22,  4.51it/s]"
     ]
    },
    {
     "name": "stdout",
     "output_type": "stream",
     "text": [
      "error in link:https://www.keluarga.my/2-wanita-ni-tunjuk-cara-nak-lipat-baju-dengan-kemas-pantas-memang-terbaik/\n",
      "'NoneType' object has no attribute 'text'\n",
      "error in link:https://www.keluarga.my/turunkan-kolesterol-semudah-cara-wanita-ini-ibu-ibu-kalau-nak-sihat-sentiasa-untuk-anak-kena-amalkan-ni/\n",
      "'NoneType' object has no attribute 'text'\n"
     ]
    },
    {
     "name": "stderr",
     "output_type": "stream",
     "text": [
      "\r",
      "  0%|▎                                                                                                                   | 13/4709 [03:02<49:53:30, 38.25s/it]"
     ]
    },
    {
     "name": "stdout",
     "output_type": "stream",
     "text": [
      "error in link:https://www.keluarga.my/7-doa-terbaik-yang-patut-ibu-bapa-amalkan-pada-anak-anak-2/\n",
      "'NoneType' object has no attribute 'text'\n"
     ]
    },
    {
     "name": "stderr",
     "output_type": "stream",
     "text": [
      " 20%|██████████████████████▉                                                                                             | 931/4709 [15:43<1:06:06,  1.05s/it]"
     ]
    },
    {
     "name": "stdout",
     "output_type": "stream",
     "text": [
      "error in link:https://www.keluarga.my/salah-didik-anak-penyebab-ibu-ini-tak-boleh-kawal-emosi-moga-pengakuan-ini-jadi-pengajaran-bersama/\n",
      "'NoneType' object has no attribute 'text'\n"
     ]
    },
    {
     "name": "stderr",
     "output_type": "stream",
     "text": [
      " 22%|█████████████████████████▍                                                                                         | 1042/4709 [17:26<1:14:22,  1.22s/it]"
     ]
    },
    {
     "name": "stdout",
     "output_type": "stream",
     "text": [
      "(\"Connection broken: InvalidChunkLength(got length b'', 0 bytes read)\", InvalidChunkLength(got length b'', 0 bytes read))\n"
     ]
    },
    {
     "name": "stderr",
     "output_type": "stream",
     "text": [
      " 26%|██████████████████████████████▎                                                                                      | 1220/4709 [20:06<58:57,  1.01s/it]"
     ]
    },
    {
     "name": "stdout",
     "output_type": "stream",
     "text": [
      "error in link:https://www.keluarga.my/pulihkan-batuk-selsema-dengan-jus-campuran-susu-kunyit-tidur-pun-makin-nyenyak/\n",
      "'NoneType' object has no attribute 'text'\n"
     ]
    },
    {
     "name": "stderr",
     "output_type": "stream",
     "text": [
      " 54%|███████████████████████████████████████████████████████████████▏                                                     | 2543/4709 [41:29<24:28,  1.47it/s]"
     ]
    },
    {
     "name": "stdout",
     "output_type": "stream",
     "text": [
      "error in link:https://www.keluarga.my/akibat-ibu-bapa-over-parenting-punca-anak-gagal-perkongsian-bapa-ini-mengejutkan/\n",
      "'NoneType' object has no attribute 'text'\n"
     ]
    },
    {
     "name": "stderr",
     "output_type": "stream",
     "text": [
      " 91%|████████████████████████████████████████████████████████████████████████████████████████████████████████▉          | 4298/4709 [1:10:41<07:33,  1.10s/it]"
     ]
    },
    {
     "name": "stdout",
     "output_type": "stream",
     "text": [
      "(\"Connection broken: InvalidChunkLength(got length b'', 0 bytes read)\", InvalidChunkLength(got length b'', 0 bytes read))\n",
      "(\"Connection broken: InvalidChunkLength(got length b'', 0 bytes read)\", InvalidChunkLength(got length b'', 0 bytes read))\n"
     ]
    },
    {
     "name": "stderr",
     "output_type": "stream",
     "text": [
      " 97%|███████████████████████████████████████████████████████████████████████████████████████████████████████████████▉   | 4585/4709 [1:15:17<01:33,  1.33it/s]"
     ]
    },
    {
     "name": "stdout",
     "output_type": "stream",
     "text": [
      "error in link:https://www.keluarga.my/6-petua-cantikkan-rambut-anda-kena-tahu-salah-satunya-cara-hilangkan-ubat-menarik/\n",
      "'NoneType' object has no attribute 'text'\n"
     ]
    },
    {
     "name": "stderr",
     "output_type": "stream",
     "text": [
      "100%|███████████████████████████████████████████████████████████████████████████████████████████████████████████████████| 4709/4709 [1:17:09<00:00,  1.02it/s]\n"
     ]
    }
   ],
   "source": [
    "max_workers = 5\n",
    "\n",
    "with ThreadPoolExecutor(max_workers=max_workers) as executor:\n",
    "    futures = [executor.submit(process_url, x) for x in hrefs]\n",
    "    \n",
    "    for future in tqdm(futures, total=len(hrefs)):\n",
    "        result = future.result()\n",
    "        if result:\n",
    "            with open('keluarga.jsonl', 'a',encoding='utf8') as f:\n",
    "                json.dump(result, f,ensure_ascii=False)\n",
    "                f.write('\\n')"
   ]
  },
  {
   "cell_type": "code",
   "execution_count": null,
   "id": "c67556a1",
   "metadata": {},
   "outputs": [],
   "source": []
  }
 ],
 "metadata": {
  "kernelspec": {
   "display_name": "Python 3 (ipykernel)",
   "language": "python",
   "name": "python3"
  },
  "language_info": {
   "codemirror_mode": {
    "name": "ipython",
    "version": 3
   },
   "file_extension": ".py",
   "mimetype": "text/x-python",
   "name": "python",
   "nbconvert_exporter": "python",
   "pygments_lexer": "ipython3",
   "version": "3.8.10"
  }
 },
 "nbformat": 4,
 "nbformat_minor": 5
}
