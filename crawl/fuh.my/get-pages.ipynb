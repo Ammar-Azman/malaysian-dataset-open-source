{
 "cells": [
  {
   "cell_type": "code",
   "execution_count": 1,
   "metadata": {},
   "outputs": [],
   "source": [
    "import requests\n",
    "from bs4 import BeautifulSoup\n",
    "from tqdm import tqdm\n",
    "import os\n",
    "import json\n",
    "import numpy as np\n",
    "import time\n",
    "import random\n",
    "import json"
   ]
  },
  {
   "cell_type": "code",
   "execution_count": 2,
   "metadata": {},
   "outputs": [
    {
     "name": "stderr",
     "output_type": "stream",
     "text": [
      "100%|██████████████████████████████████████| 135/135 [00:00<00:00, 75156.76it/s]\n"
     ]
    },
    {
     "data": {
      "text/plain": [
       "(939, 135)"
      ]
     },
     "execution_count": 2,
     "metadata": {},
     "output_type": "execute_result"
    }
   ],
   "source": [
    "from glob import glob\n",
    "\n",
    "files = glob('url/*.json')\n",
    "urls = []\n",
    "for f in tqdm(files):\n",
    "    with open(f) as fopen:\n",
    "        urls.extend(json.load(fopen))\n",
    "urls = sorted(list(set(urls)))\n",
    "len(urls), len(files)"
   ]
  },
  {
   "cell_type": "code",
   "execution_count": 3,
   "metadata": {},
   "outputs": [],
   "source": [
    "r = requests.get(urls[0])\n",
    "soup = BeautifulSoup(r.content, \"lxml\")"
   ]
  },
  {
   "cell_type": "code",
   "execution_count": 4,
   "metadata": {},
   "outputs": [
    {
     "data": {
      "text/plain": [
       "'10 Individu Terkaya Malaysia 2023 (Forbes)'"
      ]
     },
     "execution_count": 4,
     "metadata": {},
     "output_type": "execute_result"
    }
   ],
   "source": [
    "soup.find('h1').text"
   ]
  },
  {
   "cell_type": "code",
   "execution_count": 5,
   "metadata": {
    "scrolled": true
   },
   "outputs": [
    {
     "data": {
      "text/plain": [
       "['\\n\\n',\n",
       " '\\nTop 10 individu terkaya di Malaysia 2023 senarai Forbes, meletakkan Tan Sri Robert Kuok dengan nilai kekayaan AS$11.8 bilion (RM51.88 bilion) sebagai orang terkaya di Malaysia 2023.\\nBoleh dikatakan, Tan Sri Robert Kuok merupakan individu paling kaya di Malaysia sepanjang zaman yang tidak pernah lagi di pintas nilai kekayaanya setakat ini.\\nLahir pada 6 Oktober 1923 di Johor Bahru, beliau berasal dari keluarga Cina Malaysia yang terkenal dalam bidang perniagaan dan pembinaan kapal.\\nKuok memulakan kerjayanya sebagai pembeli gula dari Thailand dan menjualnya di Malaysia pada tahun 1949. Kemudian, beliau membina kerjaya perniagaan dengan melabur dalam pelbagai sektor seperti perladangan kelapa sawit, perhotelan, pengangkutan, dan media massa. Syarikat terbesar Kuok Group, yang beribu pejabat di Hong Kong, terlibat dalam pelbagai perniagaan termasuk perladangan kelapa sawit, perikanan, perhotelan dan hartanah, pengangkutan, perdagangan beras, dan lain-lain\\n10 Individu Terkaya Malaysia 2023 Menurut Forbes\\n\\nForbes Malaysia Rich List diterbitkan setiap tahun dan mencatat kekayaan bersih individu-individu terkaya di Malaysia berdasarkan penilaian majalah tersebut. Kriteria yang digunakan oleh Forbes Malaysia dalam menentukan kekayaan individu-individu tersebut termasuklah nilai saham yang dimiliki, jumlah aset dan kekayaan tunai, dan juga kepemilikan syarikat.\\nBerikut senarai top 10 individu terkaya di Malaysia 2023 ;\\nNoNamaUmurNilai KekayaanIndustri1Tan Sri Robert Kuok99 TahunUS$11.8 BillionKelapa sawit, perkapalan dan hartanah2Tan Sri Quek Leng Chan81 TahunAS$10.1 BillionPerbankan & hartanah3Tan Sri Ananda Krishnan85 TahunUS$5.2 BillionTelekomunikasi, media, perkhidmatan & gas4Tan Sri Koon Poh Keong61 TahunAS$4.0 BillionAluminium5Tan Sri Chen Lip, Keong75 TahunAS$2.8 BillionHartanah,tenaga & kasino6Datuk Lee Yeow Chor56 TahunAS$ 2.8 BillionKelapa sawit & hartanah7Tan Sri Lim Kok Thay71 TahunAS$ 2.3 BillionKasino8Wong Kie Chie75 TahunAS$ 1.8 BillionPelaburan9Tan Sri Lau Cho Kun87 TahunAS$ 1.7 BillionKelapa sawit & hartanah10Tan Sri Syed Mokhtar Albukhary71 TahunAS$ 1.6 BillionKejuruteraan & automotif\\nBerada di tempat kedua senarai 10 individu terkaya di Malaysia 2023, Tan Sri Quek Leng Chan merupakan seorang ahli perniagaan Malaysia yang dikenali sebagai pengasas dan pengerusi eksekutif Kumpulan Hong Leong, sebuah konglomerat perniagaan yang beroperasi dalam pelbagai sektor termasuk kewangan, hartanah, hotel, perdagangan dan industri.\\nTan Sri Quek Leng Chan dilahirkan pada 28 Ogos 1941 di Kampar, Perak, Malaysia. Beliau memperolehi Ijazah Sarjana Muda Kejuruteraan Awam dari Universiti Adelaide, Australia pada tahun 1964 dan kemudian menyertai Kumpulan Hong Leong yang diasaskan oleh bapanya pada tahun 1963.\\nSumber kekayaan Tan Sri Quek Leng Chan berasal daripada pegangan sahamnya dalam syarikat yang menjadi ahli Kumpulan Hong Leong. Syarikat-syarikat ini mempunyai kepentingan dalam pelbagai sektor seperti Hong Leong Bank, Hong Leong Assurance, GuocoLand, dan lain-lain.\\nKekayaan Quek Leng Chan meningkat daripada AS$9.4 bilion pada tahun 2021, meningkat kepada AS$10.1 Billion pada 2023\\nTan Sri Ananda Krishnan pula tersenarai di tempat ketiga keududukan 10 individu terkaya di Malaysia 2023, naik dua anak tangga daripada senarai top 10 individu terkaya di Malaysia 2022.\\nTan Sri Ananda Krishnan adalah seorang pengusaha yang berasal dari Malaysia yang terkenal sebagai pendiri dan pemilik perusahaan telekomunikasi Maxis dan Astro. \\nSumber kekayaannya berasal dari kepemilikan sahamnya di Maxis dan Astro, yang merupakan perusahaan terbesar di industri telekomunikasi dan media di Malaysia. Selain itu, ia juga memiliki investasi di beberapa perusahaan lain di berbagai sektor seperti minyak dan gas, hotel, dan hartanah.\\nKedudukan seterusnya diraih Tan Sri Koon Poh Keong, yang merupakan mengasaskan Press Metal Aluminium pada 1986 yang juga merupakan pengeluar aluminium kedua terbesar di Asia Tenggara.\\n\\n\\n\\n\\nTan Sri Chen Lip, Keong pula berada di tangga ke lima dari kumpulan NagaCorp, yang memegang lesen kasino di Phnom Penh, Kemboja turut berada dalam senarai Forbes tahun ini\\nPewaris dan pengerusi IOI Corporation Berhad, sebuah syarikat yang terlibat dalam minyak sawit, hartanah dan hospitaliti iaitu Datuk Lee Yeow Chor tersenarai di tangga ke enam senarai 10 orang terkaya di Malaysia bagi tahun 2023. Sumber kekayaannya datang daripada pegangan sahamnya dalam IOI Corporation Berhad dan beberapa syarikat lain dalam sektor hartanah.\\nTan Sri Lim Kok Thay CEO kepada Genting Berhad, merupakan sebuah syarikat yang terlibat dalam pelancongan, perjudian dan hiburan. Sumber kekayaannya datang daripada pegangan sahamnya dalam Genting Berhad dan beberapa syarikat lain dalam sektor hartanah dan perjudian\\nWong Kie Chie ialah seorang ahli perniagaan dari Singapura yang merupakan pemilik dan Ketua Pegawai Eksekutif Jumbo Group, sebuah syarikat yang terlibat dalam sektor makanan dan minuman. Sumber kekayaannya datang daripada pegangan sahamnya dalam Kumpulan Jumbo dan beberapa syarikat lain dalam sektor makanan dan minuman.\\nTan Sri Lau Cho Kun adalah ahli perniagaan dari Malaysia yang merupakan pengasas dan pemilik Hap Seng Consolidated Berhad, sebuah syarikat yang terlibat dalam industri, hartanah dan perdagangan. Sumber kekayaannya datang daripada pegangan sahamnya dalam Hap Seng Consolidated Berhad dan beberapa syarikat lain dalam sektor hartanah. \\nManakala di tangga kesepuluh senarai top 10 individu terkaya di Malaysia 2023, Tan Sri Syed Mokhtar Albukhary merupakan ahli perniagaan dari Malaysia yang memiliki saham majoriti dalam beberapa syarikat besar di Malaysia, seperti MMC Corporation Berhad, DRB-Hicom Berhad dan Malakoff Corporation Berhad. Sumber kekayaannya berasal daripada pemilikan saham dalam syarikat-syarikat ini dan perniagaannya dalam sektor pengangkutan, logistik dan tenaga.\\nBeliau juga banyak memberi sumbangan dan bantuan kepada pelajar daripada keluarga yang kurang berkemampuan seperti bantuan Biasiswa Albukhary International University\\nBerikut pula senarai individu terkaya di Malaysia bagi tahun 2022 dan 2021\\nTop 10 Orang Terkaya di Malaysia 2022\\n\\nTan Sri Robert Kuok – Pengasa Kuok Group\\nTan Sri Quek Leng Chan – Pengerusi Hong Leong Bank\\nTan Sri Poh Keong dan adik-beradik – Syarikat Aluminium Press Metal Bhd\\nTan Sri Teh Hong Piow – Pengerusi Public Bank\\nAnanda Krishnan – Mempunyai kepentingan dalam Maxis Bhd & Bumi Armada Bhd\\nDatuk Lee Yeow Chor & Lee Yoew Seng – IOI Group\\nTan Sri Chen Lip Keong – NagaCorp\\nTan Yu Yeh & Tan Yu Wei – Mr DIY\\nTan Sri Lim Kok Thay – Genting Group\\nTan Sri Lau Cho Kun – Hap Seng Group\\n\\nTop 10 Individu Terkaya di Malaysia 2021\\nBerikut pula senarai individu terkaya di Malaysia pada tahun 2021 yang berdasarkan Forbes Malaysia Rich List:\\n\\nTan Sri Robert Kuok – nilai kekayaan: $12.8 bilion\\nTan Sri Quek Leng Chan – nilai kekayaan: $9.6 bilion\\nTan Sri Teh Hong Piow – nilai kekayaan: $6.7 bilion\\nTan Sri Lee Shin Cheng – nilai kekayaan: $4.6 bilion\\nDatuk Seri Yeoh Tiong Lay – nilai kekayaan: $4.2 bilion\\nTan Sri Syed Mokhtar Al-Bukhary – nilai kekayaan: $3.3 bilion\\nTan Sri Lim Kok Thay – nilai kekayaan: $3.2 bilion\\nTan Sri Azman Hashim – nilai kekayaan: $2.7 bilion\\nTan Sri Lau Cho Kun – nilai kekayaan: $2.3 bilion\\nDatuk Seri Lee Oi Hian – nilai kekayaan: $2.2 bilion\\n\\nKriteria Penilaian\\nKriteria yang digunakan oleh Forbes Malaysia dalam menentukan kekayaan individu-individu tersebut termasuklah nilai saham yang dimiliki, jumlah aset dan kekayaan tunai, dan juga kepemilikan syarikat. Walau bagaimanapun, terdapat juga syarikat-syarikat kewangan dan penilai harta tanah yang mempunyai pakar-pakar dalam penilaian kekayaan dan mungkin juga mempunyai senarai orang terkaya di Malaysia berdasarkan kriteria dan metodologi yang berbeza\\nUntuk senarai lengkap mengenai senarai individu terkaya di Malaysia 2023 juga boleh didapati di\\xa0https://www.forbes.com/malaysia\\xa0\\n\\n\\n\\n\\n\\n\\n']"
      ]
     },
     "execution_count": 5,
     "metadata": {},
     "output_type": "execute_result"
    }
   ],
   "source": [
    "div = soup.find_all('div', {'class':\"entry-content\"})\n",
    "body = [div_.text for div_ in div]\n",
    "body"
   ]
  },
  {
   "cell_type": "code",
   "execution_count": 6,
   "metadata": {
    "scrolled": true
   },
   "outputs": [],
   "source": [
    "!rm -rf page\n",
    "!mkdir page"
   ]
  },
  {
   "cell_type": "code",
   "execution_count": 7,
   "metadata": {},
   "outputs": [
    {
     "name": "stderr",
     "output_type": "stream",
     "text": [
      "939it [04:59,  3.13it/s]\n"
     ]
    }
   ],
   "source": [
    "for no, url in tqdm(enumerate(urls)):\n",
    "    filename = os.path.join('page', f'{no}.json')\n",
    "    if os.path.exists(filename):\n",
    "        continue\n",
    "    \n",
    "    while True:\n",
    "        try:\n",
    "            r = requests.get(url)\n",
    "            break\n",
    "        except:\n",
    "            time.sleep(1.0)\n",
    "            \n",
    "    soup = BeautifulSoup(r.content, \"lxml\")\n",
    "\n",
    "    try:\n",
    "        title = soup.find('h1').text.strip()\n",
    "    except Exception as e:\n",
    "        title = None\n",
    "\n",
    "    try:\n",
    "        div = soup.find_all('div', {'class':\"entry-content\"})\n",
    "        body = [div_.text for div_ in div]\n",
    "    except Exception as e:\n",
    "        body = None\n",
    "\n",
    "    data = {\n",
    "        'url': url,\n",
    "        'title': title,\n",
    "        'body': body,\n",
    "    }\n",
    "    with open(filename, 'w') as fopen:\n",
    "        json.dump(data, fopen)"
   ]
  },
  {
   "cell_type": "code",
   "execution_count": null,
   "metadata": {},
   "outputs": [],
   "source": []
  }
 ],
 "metadata": {
  "kernelspec": {
   "display_name": "Python 3 (ipykernel)",
   "language": "python",
   "name": "python3"
  },
  "language_info": {
   "codemirror_mode": {
    "name": "ipython",
    "version": 3
   },
   "file_extension": ".py",
   "mimetype": "text/x-python",
   "name": "python",
   "nbconvert_exporter": "python",
   "pygments_lexer": "ipython3",
   "version": "3.8.10"
  }
 },
 "nbformat": 4,
 "nbformat_minor": 4
}
