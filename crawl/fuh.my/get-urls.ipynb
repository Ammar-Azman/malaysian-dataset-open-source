{
 "cells": [
  {
   "cell_type": "code",
   "execution_count": 1,
   "metadata": {},
   "outputs": [],
   "source": [
    "import requests\n",
    "from bs4 import BeautifulSoup\n",
    "from tqdm import tqdm\n",
    "import os\n",
    "import json\n",
    "import numpy as np\n",
    "import time\n",
    "import random\n",
    "import json\n",
    "import urllib3\n",
    "urllib3.disable_warnings(urllib3.exceptions.InsecureRequestWarning)"
   ]
  },
  {
   "cell_type": "code",
   "execution_count": 2,
   "metadata": {},
   "outputs": [],
   "source": [
    "r = requests.get('https://fuh.my/page/108/')\n",
    "soup = BeautifulSoup(r.content, \"lxml\")"
   ]
  },
  {
   "cell_type": "code",
   "execution_count": 3,
   "metadata": {},
   "outputs": [
    {
     "data": {
      "text/plain": [
       "['https://fuh.my/pengecualian-100-bayaran-bil-air-selangor/',\n",
       " 'https://fuh.my/biasiswa-endowment-uitm-2022/',\n",
       " 'https://fuh.my/rumah-kasih-keluarga-malaysia/',\n",
       " 'https://fuh.my/pingat-jasa-pahlawan-negara/',\n",
       " 'https://fuh.my/bantuan-keperluan-peralatan-sekolah/',\n",
       " 'https://fuh.my/baucar-diskaun-automotif/',\n",
       " 'https://fuh.my/skim-bantuan-yayasan-risda-2022/']"
      ]
     },
     "execution_count": 3,
     "metadata": {},
     "output_type": "execute_result"
    }
   ],
   "source": [
    "a = soup.find_all('a', {'rel':\"bookmark\"})\n",
    "a = [a_.get('href') for a_ in a]\n",
    "a"
   ]
  },
  {
   "cell_type": "code",
   "execution_count": 4,
   "metadata": {},
   "outputs": [],
   "source": [
    "!mkdir url"
   ]
  },
  {
   "cell_type": "code",
   "execution_count": null,
   "metadata": {},
   "outputs": [
    {
     "name": "stderr",
     "output_type": "stream",
     "text": [
      " 87%|███████████████████████████████████▊     | 118/135 [00:50<00:06,  2.77it/s]"
     ]
    }
   ],
   "source": [
    "for i in tqdm(range(1, 136, 1)):\n",
    "    filename = os.path.join('url', f'{i}.json')\n",
    "    if os.path.exists(filename):\n",
    "        continue\n",
    "    r = requests.get(f'https://fuh.my/page/{i}/')\n",
    "    soup = BeautifulSoup(r.content, \"lxml\")\n",
    "    a = soup.find_all('a', {'rel':\"bookmark\"})\n",
    "    a = [a_.get('href') for a_ in a]\n",
    "    \n",
    "    with open(filename, 'w') as fopen:\n",
    "        json.dump(a, fopen)"
   ]
  },
  {
   "cell_type": "code",
   "execution_count": null,
   "metadata": {},
   "outputs": [],
   "source": []
  }
 ],
 "metadata": {
  "kernelspec": {
   "display_name": "Python 3 (ipykernel)",
   "language": "python",
   "name": "python3"
  },
  "language_info": {
   "codemirror_mode": {
    "name": "ipython",
    "version": 3
   },
   "file_extension": ".py",
   "mimetype": "text/x-python",
   "name": "python",
   "nbconvert_exporter": "python",
   "pygments_lexer": "ipython3",
   "version": "3.8.10"
  }
 },
 "nbformat": 4,
 "nbformat_minor": 4
}
