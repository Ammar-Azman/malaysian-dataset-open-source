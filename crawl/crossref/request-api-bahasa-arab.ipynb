{
 "cells": [
  {
   "cell_type": "code",
   "execution_count": 1,
   "id": "9d9ab1c2",
   "metadata": {},
   "outputs": [
    {
     "name": "stderr",
     "output_type": "stream",
     "text": [
      "/home/husein/.local/lib/python3.8/site-packages/requests/__init__.py:102: RequestsDependencyWarning: urllib3 (1.26.15) or chardet (5.2.0)/charset_normalizer (2.0.7) doesn't match a supported version!\n",
      "  warnings.warn(\"urllib3 ({}) or chardet ({})/charset_normalizer ({}) doesn't match a supported \"\n"
     ]
    }
   ],
   "source": [
    "import requests\n",
    "import json\n",
    "import time\n",
    "import os\n",
    "from tqdm import tqdm"
   ]
  },
  {
   "cell_type": "code",
   "execution_count": 2,
   "id": "793790de",
   "metadata": {},
   "outputs": [],
   "source": [
    "topic = 'bahasa arab'"
   ]
  },
  {
   "cell_type": "code",
   "execution_count": 3,
   "id": "e702269c",
   "metadata": {},
   "outputs": [],
   "source": [
    "!mkdir {topic.replace(' ', '-')}"
   ]
  },
  {
   "cell_type": "code",
   "execution_count": 4,
   "id": "7fd0889d",
   "metadata": {},
   "outputs": [],
   "source": [
    "headers = {\n",
    "    'accept': 'application/json',\n",
    "}"
   ]
  },
  {
   "cell_type": "code",
   "execution_count": null,
   "id": "fc9f601d",
   "metadata": {
    "scrolled": true
   },
   "outputs": [
    {
     "name": "stderr",
     "output_type": "stream",
     "text": [
      "371it [22:03,  2.89s/it]"
     ]
    }
   ],
   "source": [
    "def generator():\n",
    "    while True:\n",
    "        yield\n",
    "\n",
    "index = 0\n",
    "cursor = '*'\n",
    "for _ in tqdm(generator()):\n",
    "    \n",
    "    filename = os.path.join(topic.replace(' ', '-'), f'{index}.json')\n",
    "    params = {\n",
    "        'rows': '100',\n",
    "        'query': topic,\n",
    "        'cursor': cursor\n",
    "    }\n",
    "\n",
    "    response = requests.get('https://api.crossref.org/works', params=params, headers=headers)\n",
    "    r = response.json()\n",
    "    \n",
    "    cursor = r['message']['next-cursor']\n",
    "    if len(r['message']['items']):\n",
    "        with open(filename, 'w') as fopen:\n",
    "            json.dump(r, fopen)\n",
    "    else:\n",
    "        break\n",
    "            \n",
    "    time.sleep(1.0)\n",
    "    index += 1"
   ]
  },
  {
   "cell_type": "code",
   "execution_count": null,
   "id": "f2d7aac2",
   "metadata": {},
   "outputs": [],
   "source": []
  }
 ],
 "metadata": {
  "kernelspec": {
   "display_name": "Python 3 (ipykernel)",
   "language": "python",
   "name": "python3"
  },
  "language_info": {
   "codemirror_mode": {
    "name": "ipython",
    "version": 3
   },
   "file_extension": ".py",
   "mimetype": "text/x-python",
   "name": "python",
   "nbconvert_exporter": "python",
   "pygments_lexer": "ipython3",
   "version": "3.8.10"
  }
 },
 "nbformat": 4,
 "nbformat_minor": 5
}
