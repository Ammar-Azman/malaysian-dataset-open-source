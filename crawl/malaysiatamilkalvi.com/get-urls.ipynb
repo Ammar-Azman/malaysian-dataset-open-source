{
 "cells": [
  {
   "cell_type": "code",
   "execution_count": 1,
   "metadata": {},
   "outputs": [],
   "source": [
    "import requests\n",
    "from bs4 import BeautifulSoup\n",
    "from tqdm import tqdm\n",
    "import os\n",
    "import json\n",
    "import numpy as np\n",
    "import time\n",
    "import random\n",
    "import json"
   ]
  },
  {
   "cell_type": "code",
   "execution_count": 13,
   "metadata": {},
   "outputs": [
    {
     "name": "stderr",
     "output_type": "stream",
     "text": [
      "5it [00:02,  1.99it/s]\n"
     ]
    }
   ],
   "source": [
    "def generator():\n",
    "    while True:\n",
    "        yield\n",
    "\n",
    "urls = []\n",
    "index = 1\n",
    "for _ in tqdm(generator()):\n",
    "    r = requests.get(f'https://malaysiatamilkalvi.com/page/{index}')\n",
    "    soup = BeautifulSoup(r.content, \"lxml\")\n",
    "    h2 = soup.find_all('h2', {'class': 'entry-subtitle'})\n",
    "    h2 = [h2_.find('a').get('href') for h2_ in h2]\n",
    "    if not len(h2):\n",
    "        break\n",
    "    urls.extend(h2)\n",
    "    index += 1"
   ]
  },
  {
   "cell_type": "code",
   "execution_count": 14,
   "metadata": {
    "scrolled": true
   },
   "outputs": [
    {
     "data": {
      "text/plain": [
       "43"
      ]
     },
     "execution_count": 14,
     "metadata": {},
     "output_type": "execute_result"
    }
   ],
   "source": [
    "len(urls)"
   ]
  },
  {
   "cell_type": "code",
   "execution_count": 15,
   "metadata": {},
   "outputs": [],
   "source": [
    "r = requests.get(urls[0])"
   ]
  },
  {
   "cell_type": "code",
   "execution_count": 16,
   "metadata": {},
   "outputs": [],
   "source": [
    "soup = BeautifulSoup(r.content, \"lxml\")"
   ]
  },
  {
   "cell_type": "code",
   "execution_count": 19,
   "metadata": {},
   "outputs": [
    {
     "data": {
      "text/plain": [
       "'தமிழ்க்கல்விப் போட்டிகளுக்கான ‘விருப்பம்’ தொடங்குகிறது'"
      ]
     },
     "execution_count": 19,
     "metadata": {},
     "output_type": "execute_result"
    }
   ],
   "source": [
    "soup.find('h1').text"
   ]
  },
  {
   "cell_type": "code",
   "execution_count": 21,
   "metadata": {},
   "outputs": [
    {
     "data": {
      "text/plain": [
       "'மலேசியாவில் தமிழ்க்கல்வி 205ஆம் ஆண்டு விழாவினை முன்னிட்டுப் பல போட்டிகள் நடத்தப்பட்டன. முதலாவது போட்டியாக இலச்சினை உருவாக்கும் போட்டி நடந்தது. இப்போட்டிக்கான வெற்றியாளர்கள் ஏற்கனவே அறிவிக்கப்பட்டதோடு போட்டியில் முதல்நிலையில் வெற்றிபெற்ற இலச்சினை இவ்வாண்டின் அதிகாரப்படியான இலச்சினையாகப் பயன்படுத்தப்படுகிறது.\\n\\n\\n\\n\\nதொடர்ந்து குறள் ஓவியம் வண்ணம் தீட்டும் போட்டி, சிறுவர் பாடல், தமிழுக்கு ஒரு பாடல், இடைநிலைப்பள்ளி பேச்சுப் போட்டி, முந்து தமிழும் முந்தும் தமிழும், எனது இல்லிருப்புக் கற்பித்தல், தமிழால் நான் ஆகிய போட்டிகள் நடைபெற்றன.\\n\\n\\nஅனைத்துப் போட்டிகளுக்கான மிக சிறந்த படைப்புகள் பொது மக்களின் பார்வைக்கும் ‘விருப்பம்’ தெரிவிப்பதற்கும் பொதுவெளியில் பகிரப்படுகிறது. காணொலிகள் அனைத்தும் வலையொளியிலும் குறள் ஓவியப் படைப்புகள் முகநூலிலும் பகிரப்பட்டுள்ளன.\\n\\n\\nஇந்தப் படைப்புகளைப் பொது மக்கள் பார்த்துவிட்டு விருப்பம் செய்யலாம். போட்டிக்கான நடுவர் குழுவின் 95% \\xa0மதிப்பெண்களோடு பொதுமக்கள் அளிக்கும் விருப்ப எண்ணிக்கை  5% மதிப்பெண் ஆகியவற்றைக் கருத்தில் கொண்டு வெற்றியாளர்கள் தேர்ந்தெடுக்கப்படுவார்கள். இதன் அடிப்படையில் பரிசுக்குரிய படைப்புகள் தேர்ந்தெடுக்கப்படும்.\\n\\n\\nஎனவே, 23.11.2021 தொடங்கி  30.11.2021 நள்ளிரவு மணி 11:59 வரையில் 7 நாட்களுக்குப் பொதுமக்கள் விருப்பம் தெரிவிக்கலாம்.\\n\\n\\nவிருப்பம் தெரிவிப்பதற்கான இணைப்புகள் பின்வருமாறு:-\\n\\n\\n1] குறள் ஓவியம் வண்ணம் தீட்டும் போட்டி [மழலையர் பள்ளி]\\n\\n\\nதளம் : முகநூல் பக்கம் (Facebook)\\n\\n\\nஇணைப்பு : \\nhttps://www.facebook.com/MalaysiaTamilKalvi/posts/404090024786609\\n\\n\\n2] சிறுவர் பாடல் போட்டி [படிநிலை 1]\\n\\n\\nதளம் : வலையொளி (YouTube)\\n\\n\\nஇணைப்பு : \\nhttps://youtube.com/playlist?list=PLFvt2uv1CvQKr3nNB32ENoR8Q3znjHyFq\\n \\n\\n\\n3]போட்டி : தமிழுக்கு ஒரு பாடல் போட்டி [படிநிலை 2]\\n\\n\\nதளம் : வலையொளி (YouTube)\\n\\n\\nஇணைப்பு : \\nhttps://youtube.com/playlist?list=PLFvt2uv1CvQJ39NJcZ3R9YJr-qcrQmwM7\\n\\n\\n4] பேச்சுப் போட்டி [இடைநிலைப் பள்ளி]\\n\\n\\nதளம் : வலையொளி (YouTube)\\n\\n\\nஇணைப்பு : \\nhttps://youtube.com/playlist?list=PLFvt2uv1CvQKNHAWVhtn3mbLBMJHxPLAh\\n\\n\\n5]முந்து தமிழும் முந்தும் தமிழும்\\xa0 போட்டி [உயர்க்கல்வி]\\n\\n\\nதளம் : வலையொளி (YouTube)\\n\\n\\nஇணைப்பு : \\nhttps://youtube.com/playlist?list=PLFvt2uv1CvQLdEbDMHw816nkT72nk-8hy\\n\\n\\n6]எனது இல்லிருப்புக் கற்பித்தல் [ஆசிரியர்கள்]\\n\\n\\nதளம் : வலையொளி (YouTube)\\n\\n\\nஇணைப்பு : \\nhttps://www.youtube.com/playlist?list=PLFvt2uv1CvQKb8VzSWl7vJFU352vHivHF\\n\\n\\n7]தமிழால் நான் [பொது மக்கள்]\\n\\n\\nதளம் : வலையொளி (YouTube)\\n\\n\\nஇணைப்பு : \\nhttps://www.youtube.com/playlist?list=PLFvt2uv1CvQK0tgQuGtPCmeHLBQqjmf5T'"
      ]
     },
     "execution_count": 21,
     "metadata": {},
     "output_type": "execute_result"
    }
   ],
   "source": [
    "soup.find('div', {'class': 'entry-content'}).get_text(separator=\"\\n\").strip()"
   ]
  },
  {
   "cell_type": "code",
   "execution_count": 23,
   "metadata": {},
   "outputs": [
    {
     "name": "stderr",
     "output_type": "stream",
     "text": [
      "100%|█████████████████████████████████████████████████████████████████████████████████████████████████████████████| 43/43 [00:13<00:00,  3.20it/s]\n"
     ]
    }
   ],
   "source": [
    "with open('malaysiatamilkalvi.com.jsonl', 'w') as fopen:\n",
    "    for url in tqdm(urls):\n",
    "        r = requests.get(url)\n",
    "        soup = BeautifulSoup(r.content, \"lxml\")\n",
    "        data = {\n",
    "            'url': url,\n",
    "            'title': soup.find('h1').text,\n",
    "            'body': soup.find('div', {'class': 'entry-content'}).get_text(separator=\"\\n\").strip()\n",
    "        }\n",
    "        fopen.write(f'{json.dumps(data)}\\n')"
   ]
  }
 ],
 "metadata": {
  "kernelspec": {
   "display_name": "Python 3 (ipykernel)",
   "language": "python",
   "name": "python3"
  },
  "language_info": {
   "codemirror_mode": {
    "name": "ipython",
    "version": 3
   },
   "file_extension": ".py",
   "mimetype": "text/x-python",
   "name": "python",
   "nbconvert_exporter": "python",
   "pygments_lexer": "ipython3",
   "version": "3.8.10"
  }
 },
 "nbformat": 4,
 "nbformat_minor": 4
}
