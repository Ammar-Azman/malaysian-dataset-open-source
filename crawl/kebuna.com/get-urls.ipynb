{
 "cells": [
  {
   "cell_type": "code",
   "execution_count": 1,
   "metadata": {},
   "outputs": [],
   "source": [
    "import requests\n",
    "from bs4 import BeautifulSoup\n",
    "from tqdm import tqdm\n",
    "import os\n",
    "import json\n",
    "import numpy as np\n",
    "import time\n",
    "import random\n",
    "import json\n",
    "import urllib3\n",
    "urllib3.disable_warnings(urllib3.exceptions.InsecureRequestWarning)"
   ]
  },
  {
   "cell_type": "code",
   "execution_count": 3,
   "metadata": {},
   "outputs": [],
   "source": [
    "url = 'https://www.kebuna.com/blog/page/2'\n",
    "r = requests.get(url)"
   ]
  },
  {
   "cell_type": "code",
   "execution_count": 4,
   "metadata": {},
   "outputs": [],
   "source": [
    "soup = BeautifulSoup(r.content, \"lxml\")"
   ]
  },
  {
   "cell_type": "code",
   "execution_count": 5,
   "metadata": {},
   "outputs": [
    {
     "data": {
      "text/plain": [
       "['https://www.kebuna.com/blog/boleh-ke-mencapai-sasaran-tahap-sara-diri-ssl-sebegitu-tinggi',\n",
       " 'https://www.kebuna.com/blog/minggu-1-jurnal-kebun-fertigasi-komersial-di-kawasan-bandar-urban-tani',\n",
       " 'https://www.kebuna.com/blog/pengenalan-jurnal-kebun-fertigasi-komersial-di-kawasan-bandar-urban-tani',\n",
       " 'https://www.kebuna.com/blog/mengumpul-dan-berkongsi-pengalaman-penanaman-secara-komersial',\n",
       " 'https://www.kebuna.com/blog/projek-kebun-bandar-lestari-blok-41-ppr-gombak-setia',\n",
       " 'https://www.kebuna.com/blog/maklumat-penggunaan-injektor-baja-dan-cara-pemasangan-injektor-venturi-untuk-sistem-fertigasi',\n",
       " 'https://www.kebuna.com/blog/kandungan-sisa-racun-dalam-makanan-dari-malaysia-antara-tertinggi-di-dunia',\n",
       " 'https://www.kebuna.com/blog/6-dari-10-ec-meter-tidak-sesuai-digunakan',\n",
       " 'https://www.kebuna.com/blog/perbandingan-antara-ec-meter-hanna-dist-4-dan-aquapro-ap-2',\n",
       " 'https://www.kebuna.com/blog/penting-tahu-ph-tanah-tapi-elakkan-ph-meter-yang-murah']"
      ]
     },
     "execution_count": 5,
     "metadata": {},
     "output_type": "execute_result"
    }
   ],
   "source": [
    "a = soup.find_all('article')\n",
    "a = [a_.find('a').get('href') for a_ in a]\n",
    "a"
   ]
  },
  {
   "cell_type": "code",
   "execution_count": 6,
   "metadata": {},
   "outputs": [
    {
     "name": "stderr",
     "output_type": "stream",
     "text": [
      "6it [00:10,  1.75s/it]\n"
     ]
    }
   ],
   "source": [
    "def generator():\n",
    "    while True:\n",
    "        yield\n",
    "        \n",
    "index = 1\n",
    "all_a = []\n",
    "\n",
    "for _ in tqdm(generator()):\n",
    "    url = f'https://www.kebuna.com/blog/page/{index}'\n",
    "    r = requests.get(url)\n",
    "    soup = BeautifulSoup(r.content, \"lxml\")\n",
    "\n",
    "    a = soup.find_all('article')\n",
    "    a = [a_.find('a').get('href') for a_ in a]\n",
    "    \n",
    "    if not len(a):\n",
    "        break\n",
    "        \n",
    "    all_a.extend(a)\n",
    "    \n",
    "    index += 1"
   ]
  },
  {
   "cell_type": "code",
   "execution_count": 7,
   "metadata": {},
   "outputs": [
    {
     "data": {
      "text/plain": [
       "58"
      ]
     },
     "execution_count": 7,
     "metadata": {},
     "output_type": "execute_result"
    }
   ],
   "source": [
    "urls = sorted(list(set(all_a)))\n",
    "len(urls)"
   ]
  },
  {
   "cell_type": "code",
   "execution_count": 8,
   "metadata": {},
   "outputs": [],
   "source": [
    "url = urls[0]\n",
    "r = requests.get(url)\n",
    "soup = BeautifulSoup(r.content, \"lxml\")"
   ]
  },
  {
   "cell_type": "code",
   "execution_count": 9,
   "metadata": {},
   "outputs": [
    {
     "data": {
      "text/plain": [
       "'4 Keperluan Asas Tanaman'"
      ]
     },
     "execution_count": 9,
     "metadata": {},
     "output_type": "execute_result"
    }
   ],
   "source": [
    "soup.find('h1').text.strip()"
   ]
  },
  {
   "cell_type": "code",
   "execution_count": 11,
   "metadata": {},
   "outputs": [
    {
     "data": {
      "text/plain": [
       "'\\n\\nWalaupun terdapat cabaran dalam berkebun tetapi menanam dan menjaga tanaman adalah tidak sukar. Seperti kita, tanaman memerlukan beberapa keperluan asas untuk hidup dan dengan memastikan ianya mencukupi, tanaman anda akan tumbuh dengan baik dan sihat. Keperluan asas tanaman terbahagi kepada \\n4\\n iaitu \\nair\\n, \\ncahaya\\n, \\nnutrien\\n, dan \\nudara\\n.\\n\\n\\nAir\\n\\n\\nAir merupakan keperluan asas utama bukan sahaja untuk tanaman malah untuk semua kehidupan. Kepentingan air untuk tanaman juga dapat dilihat daripada peratus berat air yang terkandung di dalam tanaman iaitu \\n80%-90% daripada berat tumbuh-tumbuhan adalah air\\n. Air memainkan pelbagai peranan penting untuk tanaman dan antaranya adalah sebagai medium pengangkutan nutrien serta diperlukan juga di dalam proses fotosintesis. Kesan kekurangan air adalah jelas terhadap tanaman iaitu tanaman menjadi layu dan tanaman juga \\nboleh mati hanya selepas beberapa hari tanpa air\\n. Pastikan tanaman anda mendapat air yang mencukupi dengan \\nmenyiram sekurang-kurangnya pada setiap pagi dan petang\\n. Walaubagaimanapun, \\nair yang berlebihan juga boleh memberikan kesan yang negatif terhadap tanaman\\n.\\n\\n\\n\\n\\nKesan apabila tanaman menerima terlalu banyak atau terlalu sedikit air.\\n\\n\\nCahaya\\n\\n\\nFotosintesis\\n adalah perkataan yang utama dikaitkan dengan keperluan cahaya kapada tanaman. Melalui proses fotosintesis, tumbuh-tumbuhan \\nmenghasilkan makanan menggunakan tenaga cahaya\\n. Melalui proses ini juga tumbuh-tumbuhan menarik karbon dioksida daripada udara dan \\nmenghasilkan oksigen untuk hidupan-hidupan lain\\n. Kebanyakan tanaman memerlukan cahaya yang cerah, \\nsekurang-kurangya 4 jam cahaya matahari terus (direct sunlight) setiap hari\\n bagi mendapatkan pertumbuhan yang baik kerana perbezaan keamatan cahaya di antara tempat yang redup dengan tempat yang terbuka \\nadalah amat ketara\\n. \\nCahaya yang tidak mencukupi boleh menyebabkan daun menjadi kurang hijau dan tanaman tumbuh kurus dan panjang\\n. Kesan kekurangan cahaya boleh dilihat dengan jelas pada waktu percambahan biji benih di mana cahaya yang tidak mencukupi menyebabkan anak benih menjadi kurus dan panjang.\\n\\n\\n\\n\\nPerbezaan antara tanaman yang menerima cahaya yang mencukupi dan yang tidak.\\n\\n\\nUdara\\n\\n\\nUdara adalah keperluan asas tanaman yang tidak perlu disediakan kerana sudah tersedia kepada semua hidupan di bumi. Di dalam udara terdapat dua komponen utama yang diperlukan oleh tanaman iaitu karbon dioksida dan oksigen. Seperti disebut di atas, karbon dioksida diperlukan untuk menghasilkan makanan, dan oksigen pula diperlukan oleh tanaman sewaktu proses respirasi iaitu proses menukar makanan kepada tenaga. Walaupun udara tidak perlu disediakan tetapi terdapat beberapa perkara yang berkaitan seperti \\npengudaraan tanaman yang perlu dipastikan mencukupi\\n. Pengudaraan yang baik bermaksud pengaliran udara yang baik. Pengudaraan yang tidak baik boleh menyebabkan pertumbuhan kulat kepada tanaman. Selain daripada itu, \\nakar juga memerlukan pengudaraan yang baik\\n. Pastikan tanaman anda mendapat pengudaraan yang baik dengan meletakkannya di \\ntempat yang mempunyai aliran udara serta gunakan media tanaman yang poros untuk memastikan pengudaraan yang baik untuk akar\\n.\\n\\n\\n\\n\\nPengudaraan di dalam media juga adalah penting untuk mendapatkan akar yang sihat.\\n\\n\\nNutrien\\n\\n\\nKeperluan asas tanaman yang keempat pula adalah nutrien dan terdapat s\\nekurang-kurangnya 17 jenis nutrien yang diperlukan oleh tanaman\\n. Secara semulajadinya air, udara, dan nutrien-nutrien yang terkandung di dalam tanah adalah sumber nutrien tanaman tetapi ia mungkin tidak mencukupi bagi pertumbuhan dan pengeluaran hasil yang baik. Baja digunakan untuk membekalkan tanaman dengan nutrien yang diperlukan. Terdapat pelbagai jenis baja di pasaran tetapi baja yang biasa digunakan dalam penanaman ialah baja organik tinja ayam diproses dan baja sintetik granul. Baja organik tinja ayam diproses adalah sesuai untuk pelbagai tanaman dan ia mengandungi pelbagai nutrien yang diperlukan tanaman. Baja sintetik granul pula mengandungi kandungan nutrien yang lebih tinggi tetapi penggunaannya perlu dibuat dengan lebih berhati-hati kerana pembajaan berlebihan adalah berbahaya kepada tanaman. Oleh itu, digalakkan untuk hanya menggunakan baja organik tinja ayam diproses pada peringkat awal tanaman dan hanya gunakan baja sintetik granul untuk pokok yang telah matang.\\n\\n\\n\\n\\nNutrien-nutrien yang diperlukan oleh tanaman\\n\\n\\nKami berharap artikel ini adalah bermanfaat dan boleh membantu di dalam aktiviti berkebun anda. Jika anda mempunyai sebarang persoalan atau maklum balas sila gunakan ruang komen di bawah.\\n\\n'"
      ]
     },
     "execution_count": 11,
     "metadata": {},
     "output_type": "execute_result"
    }
   ],
   "source": [
    "soup.find('div', {'class': 'entry-content'}).get_text(separator=\"\\n\")"
   ]
  },
  {
   "cell_type": "code",
   "execution_count": 12,
   "metadata": {},
   "outputs": [
    {
     "name": "stderr",
     "output_type": "stream",
     "text": [
      "100%|█████████████████████████████████████████████████████████████████████████████████████████████████████████████| 58/58 [00:54<00:00,  1.07it/s]\n"
     ]
    }
   ],
   "source": [
    "data = []\n",
    "for url in tqdm(urls):\n",
    "    r = requests.get(url)\n",
    "    soup = BeautifulSoup(r.content, \"lxml\")\n",
    "    data.append({\n",
    "        'url': url,\n",
    "        'title': soup.find('h1').text.strip(),\n",
    "        'body': soup.find('div', {'class': 'entry-content'}).get_text(separator=\"\\n\"),\n",
    "    })"
   ]
  },
  {
   "cell_type": "code",
   "execution_count": 13,
   "metadata": {},
   "outputs": [],
   "source": [
    "with open('kebuna.com.jsonl', 'w') as fopen:\n",
    "    for d in data:\n",
    "        fopen.write(f'{json.dumps(d)}\\n')"
   ]
  },
  {
   "cell_type": "code",
   "execution_count": null,
   "metadata": {},
   "outputs": [],
   "source": []
  }
 ],
 "metadata": {
  "kernelspec": {
   "display_name": "Python 3 (ipykernel)",
   "language": "python",
   "name": "python3"
  },
  "language_info": {
   "codemirror_mode": {
    "name": "ipython",
    "version": 3
   },
   "file_extension": ".py",
   "mimetype": "text/x-python",
   "name": "python",
   "nbconvert_exporter": "python",
   "pygments_lexer": "ipython3",
   "version": "3.8.10"
  }
 },
 "nbformat": 4,
 "nbformat_minor": 4
}
