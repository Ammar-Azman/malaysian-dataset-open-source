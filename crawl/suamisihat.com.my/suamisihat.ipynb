{
 "cells": [
  {
   "cell_type": "code",
   "execution_count": 1,
   "metadata": {},
   "outputs": [],
   "source": [
    "import requests\n",
    "from bs4 import BeautifulSoup\n",
    "from tqdm import tqdm\n",
    "import os\n",
    "import json\n",
    "import numpy as np\n",
    "import time\n",
    "import random\n",
    "import json\n",
    "import urllib3\n",
    "urllib3.disable_warnings(urllib3.exceptions.InsecureRequestWarning)"
   ]
  },
  {
   "cell_type": "code",
   "execution_count": 3,
   "metadata": {},
   "outputs": [],
   "source": [
    "url = 'https://suamisihat.com.my/blog-page/page/1/'\n",
    "r = requests.get(url)"
   ]
  },
  {
   "cell_type": "code",
   "execution_count": 5,
   "metadata": {},
   "outputs": [],
   "source": [
    "soup = BeautifulSoup(r.content, \"lxml\")"
   ]
  },
  {
   "cell_type": "code",
   "execution_count": 8,
   "metadata": {},
   "outputs": [
    {
     "data": {
      "text/plain": [
       "['https://suamisihat.com.my/kehidupan/kualiti-air-mani/',\n",
       " 'https://suamisihat.com.my/ubat-kuat/realiti-market-ubat-kuat-di-malaysia/',\n",
       " 'https://suamisihat.com.my/ubat-kuat/minyak-lintah-belacak-dhab/',\n",
       " 'https://suamisihat.com.my/batang/cara-besarkan-zakar/',\n",
       " 'https://suamisihat.com.my/ubat/herba-terbaik-untuk-lelaki-40/',\n",
       " 'https://suamisihat.com.my/kesihatan/ruam-hiv/',\n",
       " 'https://suamisihat.com.my/kesihatan/bisul-di-kemaluan/',\n",
       " 'https://suamisihat.com.my/batang/cara-besarkan-zakar/',\n",
       " 'https://suamisihat.com.my/kesihatan-lelaki/micropenis/',\n",
       " 'https://suamisihat.com.my/tips-suami-isteri/nafsu-seks/',\n",
       " 'https://suamisihat.com.my/urut-batin/urut-batin/',\n",
       " 'https://suamisihat.com.my/posisi-seks/posisi-seks-tahan-lama/',\n",
       " 'https://suamisihat.com.my/posisi-seks/posisi-seks-ketika-hamil/',\n",
       " 'https://suamisihat.com.my/posisi-seks/30-posisi-seks/',\n",
       " 'https://suamisihat.com.my/mens-health/pde5-inhibitors/',\n",
       " 'https://suamisihat.com.my/ubat-kuat/jamu-makjun-lelaki/',\n",
       " 'https://suamisihat.com.my/kesihatan-lelaki/warna-air-mani/',\n",
       " 'https://suamisihat.com.my/ubat-kuat/speman/',\n",
       " 'https://suamisihat.com.my/kehidupan/kualiti-air-mani/',\n",
       " 'https://suamisihat.com.my/ubat-kuat/realiti-market-ubat-kuat-di-malaysia/',\n",
       " 'https://suamisihat.com.my/ubat-kuat/minyak-lintah-belacak-dhab/',\n",
       " 'https://suamisihat.com.my/pancut-awal/magic-tissue/',\n",
       " 'https://suamisihat.com.my/batang/cara-besarkan-zakar/',\n",
       " 'https://suamisihat.com.my/ubat/viagra-cialis-stendra/']"
      ]
     },
     "execution_count": 8,
     "metadata": {},
     "output_type": "execute_result"
    }
   ],
   "source": [
    "h2 = soup.find_all('h2', {'class': 'entry-title'})\n",
    "a = [a_.find('a').get('href') for a_ in h2]\n",
    "a"
   ]
  },
  {
   "cell_type": "code",
   "execution_count": 9,
   "metadata": {},
   "outputs": [
    {
     "name": "stderr",
     "output_type": "stream",
     "text": [
      "18it [01:28,  4.92s/it]\n"
     ]
    }
   ],
   "source": [
    "def generator():\n",
    "    while True:\n",
    "        yield\n",
    "        \n",
    "index = 1\n",
    "all_a = []\n",
    "\n",
    "for _ in tqdm(generator()):\n",
    "    url = f'https://suamisihat.com.my/blog-page/page/{index}/'\n",
    "    r = requests.get(url)\n",
    "    soup = BeautifulSoup(r.content, \"lxml\")\n",
    "\n",
    "    h2 = soup.find_all('h2', {'class': 'entry-title'})\n",
    "    a = [a_.find('a').get('href') for a_ in h2]\n",
    "    \n",
    "    if not len(a):\n",
    "        break\n",
    "        \n",
    "    all_a.extend(a)\n",
    "    \n",
    "    index += 1"
   ]
  },
  {
   "cell_type": "code",
   "execution_count": 12,
   "metadata": {},
   "outputs": [],
   "source": [
    "all_a = sorted(list(set(all_a)))"
   ]
  },
  {
   "cell_type": "code",
   "execution_count": 13,
   "metadata": {},
   "outputs": [],
   "source": [
    "with open('suamisihat.json', 'w') as fopen:\n",
    "    json.dump(all_a, fopen)"
   ]
  },
  {
   "cell_type": "code",
   "execution_count": 16,
   "metadata": {},
   "outputs": [
    {
     "data": {
      "text/plain": [
       "'https://suamisihat.com.my/batang/cara-besarkan-zakar/'"
      ]
     },
     "execution_count": 16,
     "metadata": {},
     "output_type": "execute_result"
    }
   ],
   "source": [
    "all_a[0]"
   ]
  },
  {
   "cell_type": "code",
   "execution_count": 18,
   "metadata": {},
   "outputs": [],
   "source": [
    "r = requests.get(all_a[0])\n",
    "soup = BeautifulSoup(r.content, \"lxml\")"
   ]
  },
  {
   "cell_type": "code",
   "execution_count": 24,
   "metadata": {},
   "outputs": [
    {
     "name": "stderr",
     "output_type": "stream",
     "text": [
      "100%|█████████████████████████████████████████| 171/171 [01:50<00:00,  1.55it/s]\n"
     ]
    }
   ],
   "source": [
    "with open('suamisihat.jsonl', 'w') as fopen:\n",
    "    for a in tqdm(all_a):\n",
    "        try:\n",
    "            r = requests.get(a)\n",
    "            soup = BeautifulSoup(r.content, \"lxml\")\n",
    "            data = {\n",
    "                'url': a,\n",
    "                'title': soup.find('h1').text.strip(),\n",
    "                'body': soup.find('div', {'class': 'et_pb_text_inner'}).get_text(separator=\"\\n\"),\n",
    "            }\n",
    "            fopen.write(f'{json.dumps(data)}\\n')\n",
    "        except:\n",
    "            pass"
   ]
  },
  {
   "cell_type": "code",
   "execution_count": null,
   "metadata": {},
   "outputs": [],
   "source": []
  }
 ],
 "metadata": {
  "kernelspec": {
   "display_name": "Python 3 (ipykernel)",
   "language": "python",
   "name": "python3"
  },
  "language_info": {
   "codemirror_mode": {
    "name": "ipython",
    "version": 3
   },
   "file_extension": ".py",
   "mimetype": "text/x-python",
   "name": "python",
   "nbconvert_exporter": "python",
   "pygments_lexer": "ipython3",
   "version": "3.8.10"
  }
 },
 "nbformat": 4,
 "nbformat_minor": 4
}
