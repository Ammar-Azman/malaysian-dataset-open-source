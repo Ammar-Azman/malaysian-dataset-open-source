{
 "cells": [
  {
   "cell_type": "code",
   "execution_count": 1,
   "id": "f6f76864",
   "metadata": {},
   "outputs": [],
   "source": [
    "import requests\n",
    "from bs4 import BeautifulSoup\n",
    "import json\n",
    "import re\n",
    "import os\n",
    "from requests_html import HTMLSession\n",
    "import time\n",
    "import itertools\n",
    "from tqdm import tqdm\n",
    "from concurrent.futures import ThreadPoolExecutor\n",
    "session = HTMLSession()"
   ]
  },
  {
   "cell_type": "code",
   "execution_count": 2,
   "id": "ac5008c6",
   "metadata": {},
   "outputs": [],
   "source": [
    "def write_to_json(lst, fn):\n",
    "    import json\n",
    "    with open(fn, \"a\") as file:\n",
    "        for item in lst:\n",
    "            x = json.dumps(item, ensure_ascii=False)\n",
    "            file.write(x + \"\\n\")"
   ]
  },
  {
   "cell_type": "code",
   "execution_count": 4,
   "id": "2b558aaf",
   "metadata": {},
   "outputs": [],
   "source": [
    "category = 'english'\n",
    "\n",
    "with open(f\"output/lyric_{category}.txt\") as f:\n",
    "    lst = f.readlines()"
   ]
  },
  {
   "cell_type": "code",
   "execution_count": 5,
   "id": "ef8a2044",
   "metadata": {},
   "outputs": [
    {
     "name": "stderr",
     "output_type": "stream",
     "text": [
      "100%|████████████████████████████████████████████████████████████████████████████████████████████████████████████████████████████████████████████████████████████████████████████████████████████████████████████| 5238/5238 [00:54<00:00, 96.31it/s]\n"
     ]
    }
   ],
   "source": [
    "max_workers = 70\n",
    "\n",
    "def process_url(x):\n",
    "    url = x.strip()\n",
    "    main_url = \"https://www.lyrics.my\"\n",
    "    #print(f\"start crawl: {url}\")\n",
    "    \n",
    "    r = session.get(url)\n",
    "    soup = BeautifulSoup(r.content, \"lxml\")\n",
    "    \n",
    "    with open(\"debug.html\", \"w\") as debug:\n",
    "        debug.write(str(soup))\n",
    "    \n",
    "    lyrics_list = soup.find_all(\"div\", {\"class\": \"lyrics-list\"})\n",
    "    \n",
    "    for item in lyrics_list:\n",
    "        songs = item.find_all(\"div\", {\"class\": \"data video\"})\n",
    "        for item in songs:\n",
    "            name = item.find(\"span\", {\"class\": \"name\"}).text\n",
    "            title = item.find(\"span\", {\"class\": \"title\"}).text\n",
    "            url_song = f\"{main_url}{item.find('a').get('href')}\"\n",
    "\n",
    "            data = {\n",
    "            \"name\": name,\n",
    "            \"title\": title,\n",
    "            \"url\": url_song,\n",
    "            \"search_page\": url\n",
    "            }\n",
    "\n",
    "            write_to_json([data], f\"output/lyrics-main-artist-{category}_test.json\")\n",
    "\n",
    "with ThreadPoolExecutor(max_workers=max_workers) as executor:\n",
    "    futures = [executor.submit(process_url, x) for x in lst]\n",
    "    \n",
    "    for future in tqdm(futures, total=len(lst)):\n",
    "        result = future.result()\n",
    "        "
   ]
  },
  {
   "cell_type": "code",
   "execution_count": null,
   "id": "437badf8",
   "metadata": {},
   "outputs": [],
   "source": []
  },
  {
   "cell_type": "markdown",
   "id": "8e22bfbd",
   "metadata": {},
   "source": [
    "# get artist link (char)"
   ]
  },
  {
   "cell_type": "code",
   "execution_count": null,
   "id": "8e22bfbd",
   "metadata": {},
   "outputs": [],
   "source": [
    "for i in tqdm(list(map(chr, range(97, 123)))):\n",
    "    page = i\n",
    "    category = 'english'\n",
    "    \n",
    "    url = f\"https://www.lyrics.my/categories/{category}/char/{page}\"\n",
    "    main_url = \"https://www.lyrics.my\"\n",
    "\n",
    "    print(f\"start crawl: {url}\")\n",
    "    \n",
    "    r = session.get(url)\n",
    "    soup = BeautifulSoup(r.content, \"lxml\")\n",
    "    \n",
    "    artist = soup.find_all(\"div\", {\"class\": \"artist-list\"})\n",
    "    \n",
    "    artist = soup.find_all(\"div\", {\"class\": \"artist-list\"})\n",
    "\n",
    "    all_artist = [item.find_all(\"a\") for item in artist]\n",
    "    all_artist = list(itertools.chain(*all_artist))\n",
    "\n",
    "    lst_lnk = [f\"{main_url}{i.get('href')}\" for i in all_artist]\n",
    "\n",
    "    file = open(f'output/lyric_{category}_test.txt','a')\n",
    "    for item in lst_lnk:\n",
    "        file.write(item + \"\\n\")\n",
    "\n",
    "    file.close()"
   ]
  },
  {
   "cell_type": "markdown",
   "id": "f4efc56c",
   "metadata": {},
   "source": [
    "# get link from artist page"
   ]
  },
  {
   "cell_type": "code",
   "execution_count": null,
   "id": "f4efc56c",
   "metadata": {},
   "outputs": [],
   "source": [
    "category = 'nasyid'\n",
    "\n",
    "with open(f\"output/lyric_{category}.txt\") as f:\n",
    "    lst = f.readlines()"
   ]
  },
  {
   "cell_type": "code",
   "execution_count": null,
   "id": "d09720dc",
   "metadata": {
    "scrolled": true
   },
   "outputs": [],
   "source": [
    "for i in lst:\n",
    "    url = i.strip()\n",
    "    main_url = \"https://www.lyrics.my\"\n",
    "    print(f\"start crawl: {url}\")\n",
    "    \n",
    "    r = session.get(url)\n",
    "    soup = BeautifulSoup(r.content, \"lxml\")\n",
    "    \n",
    "    with open(\"debug.html\", \"w\") as debug:\n",
    "        debug.write(str(soup))\n",
    "    \n",
    "    lyrics_list = soup.find_all(\"div\", {\"class\": \"lyrics-list\"})\n",
    "    \n",
    "    lyrics_url = []\n",
    "    \n",
    "    for item in lyrics_list:\n",
    "        songs = item.find_all(\"div\", {\"class\": \"data video\"})\n",
    "        for item in songs:\n",
    "            name = item.find(\"span\", {\"class\": \"name\"}).text\n",
    "            title = item.find(\"span\", {\"class\": \"title\"}).text\n",
    "            url_song = f\"{main_url}{item.find('a').get('href')}\"\n",
    "\n",
    "            data = {\n",
    "            \"name\": name,\n",
    "            \"title\": title,\n",
    "            \"url\": url_song,\n",
    "            \"search_page\": url\n",
    "            }\n",
    "\n",
    "            write_to_json([data], f\"output/lyrics-main-artist-{category}.json\")\n",
    "#     time.sleep(1)"
   ]
  },
  {
   "cell_type": "code",
   "execution_count": null,
   "id": "66d482c3",
   "metadata": {},
   "outputs": [],
   "source": []
  },
  {
   "cell_type": "markdown",
   "id": "058d8824",
   "metadata": {},
   "source": [
    "# get lyrics"
   ]
  },
  {
   "cell_type": "code",
   "execution_count": null,
   "id": "058d8824",
   "metadata": {},
   "outputs": [],
   "source": [
    "category = 'nasyid'\n",
    "\n",
    "with open(f\"output/lyrics-main-artist-{category}.json\") as f:\n",
    "    lst = f.readlines()\n",
    "    \n",
    "for item in lst:\n",
    "    item = json.loads(item)\n",
    "    \n",
    "    url = item['url']\n",
    "    name = item['name']\n",
    "    title = item['title']\n",
    "    \n",
    "    print(f\"start crawl: {url}\")\n",
    "    \n",
    "    r = session.get(url)\n",
    "    soup = BeautifulSoup(r.content, \"lxml\")\n",
    "\n",
    "    lyrics_list = soup.find(\"div\", {\"class\": \"show_lyric\"})\n",
    "\n",
    "    lyrics = []\n",
    "    \n",
    "    for p in lyrics_list.find_all(\"span\"):\n",
    "        if \"taken from\" in p.text:\n",
    "            continue\n",
    "        lyrics.append((p.text).strip())\n",
    "\n",
    "    lyric = \" \".join(lyrics)\n",
    "    \n",
    "    data = {\n",
    "        \"text\": lyric,\n",
    "        \"url\": url,\n",
    "        \"name\": name,\n",
    "        \"title\": title\n",
    "    }\n",
    "    \n",
    "    write_to_json([data], f\"output/lyrics_{category}.json\")"
   ]
  },
  {
   "cell_type": "code",
   "execution_count": null,
   "id": "0c44c0e6",
   "metadata": {},
   "outputs": [],
   "source": []
  },
  {
   "cell_type": "markdown",
   "id": "2c07397c",
   "metadata": {},
   "source": [
    "# get link (main)"
   ]
  },
  {
   "cell_type": "code",
   "execution_count": null,
   "id": "2c07397c",
   "metadata": {},
   "outputs": [],
   "source": [
    "start_page = 1\n",
    "end_page = 10\n",
    "\n",
    "while True:\n",
    "    if start_page > end_page:\n",
    "        break\n",
    "        \n",
    "    url = f\"https://www.lyrics.my/page/{start_page}\"\n",
    "    main_url = \"https://www.lyrics.my\"\n",
    "    \n",
    "    print(f\"start crawl: {url}\")\n",
    "    \n",
    "    r = session.get(url)\n",
    "    soup = BeautifulSoup(r.content, \"lxml\")\n",
    "    \n",
    "    with open(\"debug.html\", \"w\") as debug:\n",
    "        debug.write(str(soup))\n",
    "    \n",
    "    lyrics_list = soup.find_all(\"div\", {\"class\": \"lyrics-list\"})\n",
    "    \n",
    "    lyrics_url = []\n",
    "    \n",
    "    for item in lyrics_list:\n",
    "        songs = item.find_all(\"div\", {\"class\": \"data video\"})\n",
    "        for item in songs:\n",
    "            name = item.find(\"span\", {\"class\": \"name\"}).text\n",
    "            title = item.find(\"span\", {\"class\": \"title\"}).text\n",
    "            url_song = f\"{main_url}{item.find('a').get('href')}\"\n",
    "\n",
    "            data = {\n",
    "            \"name\": name,\n",
    "            \"title\": title,\n",
    "            \"url\": url_song,\n",
    "            \"search_page\": url\n",
    "            }\n",
    "\n",
    "            write_to_json([data], f\"output/lyrics-main.json\")\n",
    "        \n",
    "    \n",
    "    start_page += 1\n",
    "    \n",
    "    time.sleep(1)\n"
   ]
  },
  {
   "cell_type": "code",
   "execution_count": null,
   "id": "db232b13",
   "metadata": {},
   "outputs": [],
   "source": []
  }
 ],
 "metadata": {
  "kernelspec": {
   "display_name": "Python 3 (ipykernel)",
   "language": "python",
   "name": "python3"
  },
  "language_info": {
   "codemirror_mode": {
    "name": "ipython",
    "version": 3
   },
   "file_extension": ".py",
   "mimetype": "text/x-python",
   "name": "python",
   "nbconvert_exporter": "python",
   "pygments_lexer": "ipython3",
   "version": "3.9.16"
  }
 },
 "nbformat": 4,
 "nbformat_minor": 5
}
