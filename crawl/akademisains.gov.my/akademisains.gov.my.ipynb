{
 "cells": [
  {
   "cell_type": "code",
   "execution_count": 1,
   "id": "85161881",
   "metadata": {},
   "outputs": [
    {
     "name": "stderr",
     "output_type": "stream",
     "text": [
      "/home/husein/.local/lib/python3.8/site-packages/requests/__init__.py:102: RequestsDependencyWarning: urllib3 (1.26.15) or chardet (5.2.0)/charset_normalizer (2.0.7) doesn't match a supported version!\n",
      "  warnings.warn(\"urllib3 ({}) or chardet ({})/charset_normalizer ({}) doesn't match a supported \"\n"
     ]
    }
   ],
   "source": [
    "import requests\n",
    "from bs4 import BeautifulSoup"
   ]
  },
  {
   "cell_type": "code",
   "execution_count": 3,
   "id": "0cc8134f",
   "metadata": {},
   "outputs": [],
   "source": [
    "r = requests.get('https://www.akademisains.gov.my/asmsj/published-articles/')"
   ]
  },
  {
   "cell_type": "code",
   "execution_count": 6,
   "id": "59101aab",
   "metadata": {},
   "outputs": [
    {
     "data": {
      "text/plain": [
       "48"
      ]
     },
     "execution_count": 6,
     "metadata": {},
     "output_type": "execute_result"
    }
   ],
   "source": [
    "soup = BeautifulSoup(r.content)\n",
    "a = soup.find_all('a')\n",
    "pages = [a_.get('href') for a_ in a if 'asmsj/asm' in a_.get('href')]\n",
    "pages = sorted(list(set(pages)))\n",
    "len(pages)"
   ]
  },
  {
   "cell_type": "code",
   "execution_count": 7,
   "id": "756f73e4",
   "metadata": {},
   "outputs": [
    {
     "data": {
      "text/plain": [
       "['https://www.akademisains.gov.my/asmsj/asm-sc-j-11-special-issue-2-2018-for-sanrem-natural-resources/',\n",
       " 'https://www.akademisains.gov.my/asmsj/asm-sc-j-11-special-issue-3-2018-for-sanrem-environmental-management/',\n",
       " 'https://www.akademisains.gov.my/asmsj/asm-sc-j-12-2019/',\n",
       " 'https://www.akademisains.gov.my/asmsj/asm-sc-j-12-special-issue-1-2019-for-iqrac2018/',\n",
       " 'https://www.akademisains.gov.my/asmsj/asm-sc-j-12-special-issue-2-2019-malaysia-in-space/',\n",
       " 'https://www.akademisains.gov.my/asmsj/asm-sc-j-special-issue-20171-ict-bio/',\n",
       " 'https://www.akademisains.gov.my/asmsj/asm-sc-j-vol-12-special-issue-3-2019-for-icst2018/',\n",
       " 'https://www.akademisains.gov.my/asmsj/asm-sc-j-vol-12-special-issue-4-2019-for-icse2018/',\n",
       " 'https://www.akademisains.gov.my/asmsj/asm-sc-j-vol-12-special-issue-5-2019-for-icoaims2019/',\n",
       " 'https://www.akademisains.gov.my/asmsj/asm-sc-j-vol-12-special-issue-6-2019-for-sksm26/',\n",
       " 'https://www.akademisains.gov.my/asmsj/asm-sc-j-vol-13-2020/',\n",
       " 'https://www.akademisains.gov.my/asmsj/asm-sc-j-vol-13-special-issue-1-2020-for-icfice/',\n",
       " 'https://www.akademisains.gov.my/asmsj/asm-sc-j-vol-13-special-issue-2-2020-for-icscc2019/',\n",
       " 'https://www.akademisains.gov.my/asmsj/asm-sc-j-vol-13-special-issue-3-2020-for-ciidt2018/',\n",
       " 'https://www.akademisains.gov.my/asmsj/asm-sc-j-vol-13-special-issue-4-2020-for-ncafm2018/',\n",
       " 'https://www.akademisains.gov.my/asmsj/asm-sc-j-vol-13-special-issue-5-2020-for-apru2018/',\n",
       " 'https://www.akademisains.gov.my/asmsj/asm-sc-j-vol-13-special-issue-6-2020-for-incomr2019/',\n",
       " 'https://www.akademisains.gov.my/asmsj/asm-sc-j-vol-14-2021/',\n",
       " 'https://www.akademisains.gov.my/asmsj/asm-sc-j-vol-14-special-issue-1-2021-for-icstss2018/',\n",
       " 'https://www.akademisains.gov.my/asmsj/asm-sc-j-vol-14-special-issue-2-2021-for-icst2017/',\n",
       " 'https://www.akademisains.gov.my/asmsj/asm-sc-j-vol-15-2021-2/',\n",
       " 'https://www.akademisains.gov.my/asmsj/asm-sc-j-vol-16-2021/',\n",
       " 'https://www.akademisains.gov.my/asmsj/asm-sc-j-vol-16-special-issue-1-2021-for-sciemathic2019/',\n",
       " 'https://www.akademisains.gov.my/asmsj/asm-sc-j-vol-17-2022/',\n",
       " 'https://www.akademisains.gov.my/asmsj/asm-sc-j-vol-18-2023/',\n",
       " 'https://www.akademisains.gov.my/asmsj/asm-sc-j-volume-8-2-2014/',\n",
       " 'https://www.akademisains.gov.my/asmsj/asm-sci-j-special-issue-20181-aims2018/',\n",
       " 'https://www.akademisains.gov.my/asmsj/asm-sci-j-vol-1-no-1-2007/',\n",
       " 'https://www.akademisains.gov.my/asmsj/asm-sci-j-vol-1-no-2-2007-2/',\n",
       " 'https://www.akademisains.gov.my/asmsj/asm-sci-j-vol-10-2017/',\n",
       " 'https://www.akademisains.gov.my/asmsj/asm-sci-j-vol-11-no-1-2018/',\n",
       " 'https://www.akademisains.gov.my/asmsj/asm-sci-j-vol-11-no-2-2018/',\n",
       " 'https://www.akademisains.gov.my/asmsj/asm-sci-j-vol-11-no-3-2018/',\n",
       " 'https://www.akademisains.gov.my/asmsj/asm-sci-j-vol-2-no-1-2008/',\n",
       " 'https://www.akademisains.gov.my/asmsj/asm-sci-j-vol-2-no-2-2008/',\n",
       " 'https://www.akademisains.gov.my/asmsj/asm-sci-j-vol-3-no-1-2009/',\n",
       " 'https://www.akademisains.gov.my/asmsj/asm-sci-j-vol-3-no-2-2009/',\n",
       " 'https://www.akademisains.gov.my/asmsj/asm-sci-j-vol-4-no-1-2010/',\n",
       " 'https://www.akademisains.gov.my/asmsj/asm-sci-j-vol-4-no-2-2010/',\n",
       " 'https://www.akademisains.gov.my/asmsj/asm-sci-j-vol-5-no-1-2011/',\n",
       " 'https://www.akademisains.gov.my/asmsj/asm-sci-j-vol-5-no-2-2011/',\n",
       " 'https://www.akademisains.gov.my/asmsj/asm-sci-j-vol-6-no-1-2012/',\n",
       " 'https://www.akademisains.gov.my/asmsj/asm-sci-j-vol-6-no-2-2012/',\n",
       " 'https://www.akademisains.gov.my/asmsj/asm-sci-j-vol-7-no-1-2013/',\n",
       " 'https://www.akademisains.gov.my/asmsj/asm-sci-j-vol-7-no-2-2013/',\n",
       " 'https://www.akademisains.gov.my/asmsj/asm-sci-j-vol-8-no-1-2014/',\n",
       " 'https://www.akademisains.gov.my/asmsj/asm-sci-j-vol-9-no-1-2015/',\n",
       " 'https://www.akademisains.gov.my/asmsj/asm-sci-j-vol-9-no-2-2015/']"
      ]
     },
     "execution_count": 7,
     "metadata": {},
     "output_type": "execute_result"
    }
   ],
   "source": [
    "pages"
   ]
  },
  {
   "cell_type": "code",
   "execution_count": 10,
   "id": "cc76cb2f",
   "metadata": {},
   "outputs": [
    {
     "name": "stderr",
     "output_type": "stream",
     "text": [
      "100%|███████████████████████████████████████████| 48/48 [02:35<00:00,  3.23s/it]\n"
     ]
    },
    {
     "data": {
      "text/plain": [
       "2875"
      ]
     },
     "execution_count": 10,
     "metadata": {},
     "output_type": "execute_result"
    }
   ],
   "source": [
    "from tqdm import tqdm\n",
    "\n",
    "urls = []\n",
    "for p in tqdm(pages):\n",
    "    r = requests.get(p)\n",
    "    soup = BeautifulSoup(r.content)\n",
    "    a = soup.find_all('a')\n",
    "    a = [a_.get('href') for a_ in a if 'article/' in a_.get('href', '')]\n",
    "    urls.extend(a)\n",
    "    \n",
    "len(urls)"
   ]
  },
  {
   "cell_type": "code",
   "execution_count": 12,
   "id": "7d1a2aba",
   "metadata": {},
   "outputs": [
    {
     "data": {
      "text/plain": [
       "811"
      ]
     },
     "execution_count": 12,
     "metadata": {},
     "output_type": "execute_result"
    }
   ],
   "source": [
    "urls2 = sorted(list(set(urls)))\n",
    "len(urls2)"
   ]
  },
  {
   "cell_type": "code",
   "execution_count": 15,
   "id": "d0dac24f",
   "metadata": {},
   "outputs": [
    {
     "name": "stderr",
     "output_type": "stream",
     "text": [
      "100%|█████████████████████████████████████████| 811/811 [44:41<00:00,  3.31s/it]\n"
     ]
    }
   ],
   "source": [
    "pdfs = []\n",
    "for p in tqdm(urls2):\n",
    "    r = requests.get(p)\n",
    "    soup = BeautifulSoup(r.content)\n",
    "    a = soup.find_all('a')\n",
    "    a = [a_.get('href') for a_ in a if '/?mdocs-file=' in a_.get('href', '')]\n",
    "    pdfs.extend(a)"
   ]
  },
  {
   "cell_type": "code",
   "execution_count": 17,
   "id": "a31a463a",
   "metadata": {},
   "outputs": [
    {
     "data": {
      "text/plain": [
       "811"
      ]
     },
     "execution_count": 17,
     "metadata": {},
     "output_type": "execute_result"
    }
   ],
   "source": [
    "pdfs = sorted(list(set(pdfs)))\n",
    "len(pdfs)"
   ]
  },
  {
   "cell_type": "code",
   "execution_count": 18,
   "id": "53366493",
   "metadata": {},
   "outputs": [],
   "source": [
    "!mkdir akademisains.gov.my"
   ]
  },
  {
   "cell_type": "code",
   "execution_count": 19,
   "id": "f00b3c1e",
   "metadata": {},
   "outputs": [
    {
     "name": "stderr",
     "output_type": "stream",
     "text": [
      "100%|█████████████████████████████████████████| 811/811 [33:24<00:00,  2.47s/it]\n"
     ]
    }
   ],
   "source": [
    "import os\n",
    "\n",
    "for i in tqdm(range(len(pdfs))):\n",
    "    filename = os.path.join('akademisains.gov.my', f'{i}.pdf')\n",
    "    if os.path.exists(filename):\n",
    "        continue\n",
    "        \n",
    "    u = pdfs[i]\n",
    "        \n",
    "    r = requests.get(u)\n",
    "    with open(filename, 'wb') as fopen:\n",
    "        fopen.write(r.content)"
   ]
  },
  {
   "cell_type": "code",
   "execution_count": 20,
   "id": "e1fa48a2",
   "metadata": {},
   "outputs": [],
   "source": [
    "from glob import glob\n",
    "from tika import parser\n",
    "import json\n",
    "\n",
    "TIKA_HOST = 'http://localhost:9998'"
   ]
  },
  {
   "cell_type": "code",
   "execution_count": 21,
   "id": "f4427b38",
   "metadata": {},
   "outputs": [
    {
     "name": "stderr",
     "output_type": "stream",
     "text": [
      "100%|█████████████████████████████████████████| 811/811 [00:52<00:00, 15.57it/s]\n"
     ]
    }
   ],
   "source": [
    "files = glob('akademisains.gov.my/*.pdf')\n",
    "\n",
    "with open('akademisains.gov.my.jsonl', 'w') as fopen:\n",
    "    for f in tqdm(files):\n",
    "        try:\n",
    "            raw_xml = parser.from_file(f, TIKA_HOST, xmlContent=True)\n",
    "            body = BeautifulSoup(raw_xml['content']).find('body')\n",
    "            t = '\\n'.join(body.findAll(text=True))\n",
    "            fopen.write(f'{json.dumps(t)}\\n')\n",
    "        except:\n",
    "            pass"
   ]
  },
  {
   "cell_type": "code",
   "execution_count": null,
   "id": "59b045e4",
   "metadata": {},
   "outputs": [],
   "source": []
  }
 ],
 "metadata": {
  "kernelspec": {
   "display_name": "Python 3 (ipykernel)",
   "language": "python",
   "name": "python3"
  },
  "language_info": {
   "codemirror_mode": {
    "name": "ipython",
    "version": 3
   },
   "file_extension": ".py",
   "mimetype": "text/x-python",
   "name": "python",
   "nbconvert_exporter": "python",
   "pygments_lexer": "ipython3",
   "version": "3.8.10"
  }
 },
 "nbformat": 4,
 "nbformat_minor": 5
}
