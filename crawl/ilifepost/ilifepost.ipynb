{
 "cells": [
  {
   "cell_type": "code",
   "execution_count": null,
   "id": "4503a590",
   "metadata": {},
   "outputs": [],
   "source": [
    "from bs4 import BeautifulSoup\n",
    "import pandas as pd\n",
    "import json\n",
    "import requests\n",
    "from tqdm import tqdm\n",
    "import time\n",
    "from concurrent.futures import ThreadPoolExecutor, as_completed\n",
    "import numpy as np\n",
    "import os"
   ]
  },
  {
   "cell_type": "code",
   "execution_count": 2,
   "id": "9a0dbec7",
   "metadata": {},
   "outputs": [],
   "source": [
    "links = [\n",
    "\"https://www.ilifepost.com/category/%E4%BA%BA%E7%94%9F%E7%99%BE%E6%80%81/\",\n",
    "\"https://www.ilifepost.com/category/%E5%85%BB%E7%94%9F/%E4%BF%9D%E5%81%A5/\",\n",
    "\"https://www.ilifepost.com/category/%E5%85%BB%E7%94%9F/%E6%95%91%E5%91%BD/\",\n",
    "\"https://www.ilifepost.com/category/%E4%BC%91%E9%97%B2/%E7%8E%A9%E4%B9%90/\", \n",
    "\"https://www.ilifepost.com/category/%E4%BC%91%E9%97%B2/%E6%97%85%E6%B8%B8/\", \n",
    "\"https://www.ilifepost.com/category/%E6%B0%91%E4%BF%97/\", \n",
    "\"https://www.ilifepost.com/category/%E9%A3%8E%E6%B0%B4/%E5%91%BD%E7%90%86%E9%A3%8E%E6%B0%B4/\",\n",
    "\"https://www.ilifepost.com/category/%E8%83%BD%E9%87%8F/\",\n",
    "\"https://www.ilifepost.com/category/%E4%B8%87%E5%AD%97/%E4%B8%AD%E5%A5%96/\",\n",
    "\"https://www.ilifepost.com/category/%E5%95%86%E8%AE%AF/\"]\n",
    "    \n",
    "#link not including pleasant reading category and video, and also one page articles semua belum\n",
    "\n",
    "headers = {'User-Agent': 'Mozilla/5.0 (Windows NT 6.1; WOW64) AppleWebKit/537.36 (KHTML, like Gecko) Chrome/56.0.2924.76 Safari/537.36'} "
   ]
  },
  {
   "cell_type": "code",
   "execution_count": 33,
   "id": "5544bf47",
   "metadata": {},
   "outputs": [],
   "source": [
    "def crawl(url):\n",
    "    while True:\n",
    "        try:\n",
    "            r = requests.get(url,headers = headers)\n",
    "            if r.status_code == 508:\n",
    "                print(r.status_code)\n",
    "                print('error in link, retrying... ', url)\n",
    "                time.sleep(20)\n",
    "                continue\n",
    "            break\n",
    "        except Exception as e:\n",
    "            print(e)\n",
    "            time.sleep(1.0)\n",
    "\n",
    "    soup = BeautifulSoup(r.text, \"lxml\")\n",
    "\n",
    "    block = soup.find_all('div',attrs = {\"class\":\"article-div\"})\n",
    "    \n",
    "    if block is None:\n",
    "        return\n",
    "\n",
    "    for link in soup.find_all('div',attrs = {\"class\":\"article-div\"}):\n",
    "        \n",
    "        href = link.find('a').get('href')\n",
    "\n",
    "        hrefs.append(href)\n",
    "    "
   ]
  },
  {
   "cell_type": "code",
   "execution_count": null,
   "id": "e140a346",
   "metadata": {},
   "outputs": [],
   "source": [
    "max_worker = 10\n",
    "\n",
    "for url in links:\n",
    "    \n",
    "    print(url)\n",
    "    r = requests.get(url,headers = headers)\n",
    "    soup = BeautifulSoup(r.content, \"lxml\")\n",
    "    a = soup.find_all('a')\n",
    "    a = [a_.get('href') for a_ in a if a_.get('href')]\n",
    "    pgno = [a_ for a_ in a if 'page' in a_]\n",
    "    max_page = max([int(a_.split('page/')[1].replace('/','')) for a_ in pgno])\n",
    "    print(max_page)\n",
    "    for i in tqdm(range(1, max_page + 1, max_worker)):\n",
    "        aranged = np.arange(i, i + max_worker)\n",
    "        urls = [f'{url}/page/{a}' for a in aranged]\n",
    "        with ThreadPoolExecutor(max_workers=max_worker) as executor:\n",
    "            futures = {executor.submit(crawl, url): url for url in urls}\n",
    "        \n",
    "        for future in as_completed(futures):\n",
    "            future.result()\n"
   ]
  },
  {
   "cell_type": "code",
   "execution_count": 36,
   "id": "d2cffbb9",
   "metadata": {},
   "outputs": [],
   "source": [
    "hrefs = list(set(hrefs))"
   ]
  },
  {
   "cell_type": "code",
   "execution_count": 7,
   "id": "da29e84f",
   "metadata": {},
   "outputs": [
    {
     "data": {
      "text/plain": [
       "27203"
      ]
     },
     "execution_count": 7,
     "metadata": {},
     "output_type": "execute_result"
    }
   ],
   "source": [
    "len(hrefs)"
   ]
  },
  {
   "cell_type": "code",
   "execution_count": 38,
   "id": "c9e7891e",
   "metadata": {},
   "outputs": [],
   "source": [
    "with open('ilifepost-link.json', 'a') as f:\n",
    "    json.dump(hrefs, f)"
   ]
  },
  {
   "cell_type": "code",
   "execution_count": 3,
   "id": "55105fed",
   "metadata": {},
   "outputs": [],
   "source": [
    "with open('ilifepost-link.json') as fopen:\n",
    "    hrefs = json.load(fopen)"
   ]
  },
  {
   "cell_type": "code",
   "execution_count": 14,
   "id": "7cbe998e",
   "metadata": {},
   "outputs": [],
   "source": [
    "def process_url(x):\n",
    "    headers = {'User-Agent': 'Mozilla/5.0 (Windows NT 6.1; WOW64) AppleWebKit/537.36 (KHTML, like Gecko) Chrome/56.0.2924.76 Safari/537.36'} # This is chrome, you can set whatever browser you like\n",
    "\n",
    "    \n",
    "    while True:\n",
    "        try:\n",
    "            r = requests.get(x, headers=headers)\n",
    "            break\n",
    "        except Exception as e:\n",
    "            print(e)\n",
    "            time.sleep(5.0)\n",
    "    \n",
    "    soup = BeautifulSoup(r.text, \"lxml\")\n",
    "\n",
    "    try:\n",
    "        headline = soup.find('h1', class_=\"entry-title\").text\n",
    "        h = soup.find('div', attrs = {\"class\":\"entry-content clearfix\"})\n",
    "        p = [p.text for p in h.find_all(\"p\") if p.text]\n",
    "    except Exception as e:\n",
    "        print('error in link:'+ x)\n",
    "        print(e)\n",
    "        return None\n",
    "\n",
    "    \n",
    "    data = {'url': x, 'headline': headline, 'content': p}\n",
    "    return data"
   ]
  },
  {
   "cell_type": "code",
   "execution_count": null,
   "id": "b018178c",
   "metadata": {},
   "outputs": [],
   "source": [
    "max_workers = 10\n",
    "\n",
    "with ThreadPoolExecutor(max_workers=max_workers) as executor:\n",
    "    futures = [executor.submit(process_url, x) for x in hrefs]\n",
    "    \n",
    "    for future in tqdm(futures, total=len(hrefs)):\n",
    "        result = future.result()\n",
    "        if result:\n",
    "            with open('ilifepost.jsonl', 'a',encoding='utf8') as f:\n",
    "                json.dump(result, f,ensure_ascii=False)\n",
    "                f.write('\\n')"
   ]
  },
  {
   "cell_type": "code",
   "execution_count": null,
   "id": "1f722a15",
   "metadata": {},
   "outputs": [],
   "source": []
  }
 ],
 "metadata": {
  "kernelspec": {
   "display_name": "Python 3",
   "language": "python",
   "name": "python3"
  },
  "language_info": {
   "codemirror_mode": {
    "name": "ipython",
    "version": 3
   },
   "file_extension": ".py",
   "mimetype": "text/x-python",
   "name": "python",
   "nbconvert_exporter": "python",
   "pygments_lexer": "ipython3",
   "version": "3.10.10 (v3.10.10:aad5f6a891, Feb  7 2023, 08:47:40) [Clang 13.0.0 (clang-1300.0.29.30)]"
  },
  "vscode": {
   "interpreter": {
    "hash": "aee8b7b246df8f9039afb4144a1f6fd8d2ca17a180786b69acc140d282b71a49"
   }
  }
 },
 "nbformat": 4,
 "nbformat_minor": 5
}
