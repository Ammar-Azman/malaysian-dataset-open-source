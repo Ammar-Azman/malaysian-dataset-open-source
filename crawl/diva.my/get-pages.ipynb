{
 "cells": [
  {
   "cell_type": "code",
   "execution_count": 1,
   "metadata": {},
   "outputs": [],
   "source": [
    "import requests\n",
    "from bs4 import BeautifulSoup\n",
    "from tqdm import tqdm\n",
    "import os\n",
    "import json\n",
    "import numpy as np\n",
    "import time\n",
    "import random\n",
    "import json"
   ]
  },
  {
   "cell_type": "code",
   "execution_count": 2,
   "metadata": {},
   "outputs": [
    {
     "data": {
      "text/plain": [
       "6285"
      ]
     },
     "execution_count": 2,
     "metadata": {},
     "output_type": "execute_result"
    }
   ],
   "source": [
    "from glob import glob\n",
    "\n",
    "files = glob('url/*.json')\n",
    "urls = []\n",
    "for f in files:\n",
    "    with open(f) as fopen:\n",
    "        urls.extend(json.load(fopen))\n",
    "urls = sorted(list(set(urls)))\n",
    "len(urls)"
   ]
  },
  {
   "cell_type": "code",
   "execution_count": 3,
   "metadata": {},
   "outputs": [],
   "source": [
    "!mkdir page"
   ]
  },
  {
   "cell_type": "code",
   "execution_count": 4,
   "metadata": {},
   "outputs": [],
   "source": [
    "r = requests.get(urls[0])\n",
    "soup = BeautifulSoup(r.content, \"lxml\")"
   ]
  },
  {
   "cell_type": "code",
   "execution_count": 5,
   "metadata": {},
   "outputs": [
    {
     "data": {
      "text/plain": [
       "'Ibu lakukan terapi sudu jadikan dagu anak perempuan lebih runcing dan mata lebih cantik'"
      ]
     },
     "execution_count": 5,
     "metadata": {},
     "output_type": "execute_result"
    }
   ],
   "source": [
    "soup.find('h1').text"
   ]
  },
  {
   "cell_type": "code",
   "execution_count": 6,
   "metadata": {},
   "outputs": [
    {
     "data": {
      "text/plain": [
       "'\\n\\nMungkin disebabkan tidak mahu dicop anaknya melakukan pembedahan plastik, seorang ibu di Korea Selatan mendakwa melakukan terapi sudu. Terapi sudu dilakukan dengan mengurut keseluruhan muka anaknya itu dengan tangan dan sudu dari kecil sehingga meningkat remaja sekarang. Tindakan terapi sudu yang dilakukannya menyebabkan muka anaknya lebih kecil, dagu lebih tajam, mata yang besar dan wujudnya kelopak mata.\\nKedua ibu dan anak muncul dalam rancangan bual bicara,\\xa0Martian Virus, di mana si ibu membincangkan tentang terapi yang dilakukan kepada anaknya sejak kecil yang mempunyai paras rupa yang bulat itu. Disebabkan bentuk muka anaknya bulat, dia mengaplikasikan teknik terapi yang dipelajari kepada anaknya.\\nIbu mulakan rutin mengurut muka anaknya menjadi bentuk yang sesuai. Bukan itu sahaja, dia juga turut mengurut kaki anaknya supaya kaki terbentuk lurus dan panjang. Dia\\xa0mendakwa bahawa rutin urut menyebabkan lipatan kelopak mata pada mata anak perempuannya – dengan mengurut mata anaknya itu dengan sudu sejuk selama dua puluh minit pada satu masa.\\nMenurut ibunya lagi, urutan bukanlah satu-satunya rahsia rutin kecantikan dilakukan, bagi memperbaiki kulit wajah, dia kerap memberikan masker yang diperbuat daripada kaki ayam. Ibu menegaskan dia melakukan banyak rawatan kecantikan yang dibuat sendiri dan langsung tidak melakukan pembedahan plastik. –\\xa0VIA\\n\\n\\n\\nBACA:\\xa0 Khas Untuk Wanita 40-an, Mula Rawat Wajah Dengan Produk Ini!\\nTags: anak perempuancantik dengan terapi sududaguIbu lakukan terapi sudu jadikan dagu anak perempuan lebih runcing dan mata lebih cantikmatasuduterapi suduterapi sudu untuk cantik\\n'"
      ]
     },
     "execution_count": 6,
     "metadata": {},
     "output_type": "execute_result"
    }
   ],
   "source": [
    "soup.find('div', {'class':\"content-inner\"}).text"
   ]
  },
  {
   "cell_type": "code",
   "execution_count": 7,
   "metadata": {},
   "outputs": [
    {
     "name": "stderr",
     "output_type": "stream",
     "text": [
      "6285it [1:59:40,  1.14s/it]\n"
     ]
    }
   ],
   "source": [
    "for no, url in tqdm(enumerate(urls)):\n",
    "    filename = os.path.join('page', f'{no}.json')\n",
    "    if os.path.exists(filename):\n",
    "        continue\n",
    "    \n",
    "    while True:\n",
    "        try:\n",
    "            r = requests.get(url)\n",
    "            break\n",
    "        except:\n",
    "            time.sleep(1.0)\n",
    "            \n",
    "    soup = BeautifulSoup(r.content, \"lxml\")\n",
    "\n",
    "    try:\n",
    "        title = soup.find('h1').text\n",
    "    except Exception as e:\n",
    "        title = None\n",
    "\n",
    "    try:\n",
    "        body = soup.find('div', {'class':\"content-inner\"}).text\n",
    "    except Exception as e:\n",
    "        body = None\n",
    "\n",
    "    data = {\n",
    "        'url': url,\n",
    "        'title': title,\n",
    "        'body': body,\n",
    "    }\n",
    "    with open(filename, 'w') as fopen:\n",
    "        json.dump(data, fopen)"
   ]
  },
  {
   "cell_type": "code",
   "execution_count": null,
   "metadata": {},
   "outputs": [],
   "source": []
  }
 ],
 "metadata": {
  "kernelspec": {
   "display_name": "Python 3 (ipykernel)",
   "language": "python",
   "name": "python3"
  },
  "language_info": {
   "codemirror_mode": {
    "name": "ipython",
    "version": 3
   },
   "file_extension": ".py",
   "mimetype": "text/x-python",
   "name": "python",
   "nbconvert_exporter": "python",
   "pygments_lexer": "ipython3",
   "version": "3.8.10"
  }
 },
 "nbformat": 4,
 "nbformat_minor": 4
}
