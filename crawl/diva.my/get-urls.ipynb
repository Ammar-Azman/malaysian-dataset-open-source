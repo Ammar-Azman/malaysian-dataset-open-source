{
 "cells": [
  {
   "cell_type": "code",
   "execution_count": 2,
   "metadata": {},
   "outputs": [],
   "source": [
    "import requests\n",
    "from bs4 import BeautifulSoup\n",
    "from tqdm import tqdm\n",
    "import os\n",
    "import json\n",
    "import numpy as np\n",
    "import time\n",
    "import random\n",
    "import json"
   ]
  },
  {
   "cell_type": "code",
   "execution_count": 3,
   "metadata": {},
   "outputs": [],
   "source": [
    "topics = [\n",
    "    'https://diva.my/gaya-hidup/',\n",
    "    'https://diva.my/fesyen/',\n",
    "    'https://diva.my/kecantikan-2/',\n",
    "    'https://diva.my/hiburan/',\n",
    "    'https://diva.my/selebriti/'\n",
    "]"
   ]
  },
  {
   "cell_type": "code",
   "execution_count": 4,
   "metadata": {},
   "outputs": [],
   "source": [
    "r = requests.get(topics[0])\n",
    "soup = BeautifulSoup(r.content, \"lxml\")"
   ]
  },
  {
   "cell_type": "code",
   "execution_count": 6,
   "metadata": {},
   "outputs": [
    {
     "data": {
      "text/plain": [
       "27"
      ]
     },
     "execution_count": 6,
     "metadata": {},
     "output_type": "execute_result"
    }
   ],
   "source": [
    "a = soup.find_all('a', {'class': 'page_number'})\n",
    "nums = []\n",
    "for a_ in a:\n",
    "    try:\n",
    "        nums.append(int(a_.text))\n",
    "    except:\n",
    "        pass\n",
    "    \n",
    "max(nums)"
   ]
  },
  {
   "cell_type": "code",
   "execution_count": 9,
   "metadata": {},
   "outputs": [
    {
     "data": {
      "text/plain": [
       "['https://diva.my/2023/282021/kamu-pelari-tegar-ini-treadmill-terbaik-untuk-latihan-larian-yang-sempurna/',\n",
       " 'https://diva.my/2023/282095/lengkapkan-gaya-rumah-kamu-dengan-aksesori-dari-muji-yang-minimalis-cozy/',\n",
       " 'https://diva.my/2023/281994/wangian-aesop-yang-menghidupkan-aura-tenang-ruang-rumah-kamu/',\n",
       " 'https://diva.my/2023/281946/3-alasan-gadis-masa-kini-wajib-guna-ipad-gantikan-diari-lama/',\n",
       " 'https://diva.my/2023/281748/kamera-canon-powershot-v10-idaman-para-vlogger-influencer/',\n",
       " 'https://diva.my/2023/281686/5-tanda-kamu-sebenarnya-hidup-untuk-ruang-suka-komen-kongsi/',\n",
       " 'https://diva.my/2023/281532/tips-feng-shui-untuk-bilik-tidur-nyaman-kekalkan-mood-positif/',\n",
       " 'https://diva.my/2023/281517/7-buku-baru-terbit-untuk-kamu-dapatkan-sempena-pbakl-2023/',\n",
       " 'https://diva.my/2023/281471/jom-muhasabah-diri-dengan-pilihan-buku-islamik-terbaik-untuk-wanita-muslimah/',\n",
       " 'https://diva.my/2023/281439/kamu-nak-henti-over-sharing-di-media-sosial-ini-caranya/',\n",
       " 'https://diva.my/2023/281392/wajib-cuba-5-aktiviti-raikan-rasa-self-love-untuk-diri-kamu/',\n",
       " 'https://diva.my/2023/281286/divareview-samsung-galaxy-a34-5g-6-sebab-kenapa-kamu-perlu-ada-satu/']"
      ]
     },
     "execution_count": 9,
     "metadata": {},
     "output_type": "execute_result"
    }
   ],
   "source": [
    "a = soup.find_all('article', {'class': 'jeg_post format-standard'})\n",
    "a = [a_.find('a').get('href') for a_ in a]\n",
    "a"
   ]
  },
  {
   "cell_type": "code",
   "execution_count": 10,
   "metadata": {},
   "outputs": [],
   "source": [
    "!mkdir url"
   ]
  },
  {
   "cell_type": "code",
   "execution_count": 12,
   "metadata": {},
   "outputs": [
    {
     "name": "stdout",
     "output_type": "stream",
     "text": [
      "https://diva.my/gaya-hidup/\n"
     ]
    },
    {
     "name": "stderr",
     "output_type": "stream",
     "text": [
      "100%|███████████████████████████████████████████| 27/27 [07:16<00:00, 16.18s/it]\n"
     ]
    },
    {
     "name": "stdout",
     "output_type": "stream",
     "text": [
      "https://diva.my/fesyen/\n"
     ]
    },
    {
     "name": "stderr",
     "output_type": "stream",
     "text": [
      "100%|███████████████████████████████████████████| 75/75 [20:22<00:00, 16.30s/it]\n"
     ]
    },
    {
     "name": "stdout",
     "output_type": "stream",
     "text": [
      "https://diva.my/kecantikan-2/\n"
     ]
    },
    {
     "name": "stderr",
     "output_type": "stream",
     "text": [
      "100%|█████████████████████████████████████████| 240/240 [59:58<00:00, 14.99s/it]\n"
     ]
    },
    {
     "name": "stdout",
     "output_type": "stream",
     "text": [
      "https://diva.my/hiburan/\n"
     ]
    },
    {
     "name": "stderr",
     "output_type": "stream",
     "text": [
      "100%|█████████████████████████████████████████| 180/180 [42:48<00:00, 14.27s/it]\n"
     ]
    },
    {
     "name": "stdout",
     "output_type": "stream",
     "text": [
      "https://diva.my/selebriti/\n"
     ]
    },
    {
     "name": "stderr",
     "output_type": "stream",
     "text": [
      "100%|█████████████████████████████████████████████| 9/9 [01:29<00:00,  9.98s/it]\n"
     ]
    }
   ],
   "source": [
    "for t in topics:\n",
    "    print(t)\n",
    "    t_ = t.split('my/')[1].replace('/', '-')\n",
    "    \n",
    "    r = requests.get(t)\n",
    "    soup = BeautifulSoup(r.content, \"lxml\")\n",
    "    a = soup.find_all('a', {'class': 'page_number'})\n",
    "    nums = []\n",
    "    for a_ in a:\n",
    "        try:\n",
    "            nums.append(int(a_.text))\n",
    "        except:\n",
    "            pass\n",
    "    \n",
    "    if len(nums):\n",
    "        max_page = max(nums)\n",
    "    else:\n",
    "        max_page = 1\n",
    "    \n",
    "    for index in tqdm(range(1, max_page + 1, 1)):\n",
    "        filename = os.path.join('url', f'{t_}-{index}.json')\n",
    "        if os.path.exists(filename):\n",
    "            index += 1\n",
    "            continue\n",
    "        \n",
    "        r = requests.get(f'{t}page/{index}/')\n",
    "        soup = BeautifulSoup(r.content, \"lxml\")\n",
    "        a = soup.find_all('article', {'class': 'jeg_post format-standard'})\n",
    "        a = [a_.find('a').get('href') for a_ in a]\n",
    "        \n",
    "        with open(filename, 'w') as fopen:\n",
    "            json.dump(a, fopen)\n",
    "            \n",
    "        index += 1"
   ]
  },
  {
   "cell_type": "code",
   "execution_count": null,
   "metadata": {},
   "outputs": [],
   "source": []
  }
 ],
 "metadata": {
  "kernelspec": {
   "display_name": "Python 3 (ipykernel)",
   "language": "python",
   "name": "python3"
  },
  "language_info": {
   "codemirror_mode": {
    "name": "ipython",
    "version": 3
   },
   "file_extension": ".py",
   "mimetype": "text/x-python",
   "name": "python",
   "nbconvert_exporter": "python",
   "pygments_lexer": "ipython3",
   "version": "3.8.10"
  }
 },
 "nbformat": 4,
 "nbformat_minor": 4
}
