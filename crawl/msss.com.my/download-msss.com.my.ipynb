{
 "cells": [
  {
   "cell_type": "code",
   "execution_count": 1,
   "id": "a8a1724a",
   "metadata": {},
   "outputs": [
    {
     "name": "stderr",
     "output_type": "stream",
     "text": [
      "/home/husein/.local/lib/python3.8/site-packages/requests/__init__.py:102: RequestsDependencyWarning: urllib3 (1.26.15) or chardet (5.2.0)/charset_normalizer (2.0.7) doesn't match a supported version!\n",
      "  warnings.warn(\"urllib3 ({}) or chardet ({})/charset_normalizer ({}) doesn't match a supported \"\n"
     ]
    }
   ],
   "source": [
    "import requests\n",
    "from bs4 import BeautifulSoup"
   ]
  },
  {
   "cell_type": "code",
   "execution_count": 15,
   "id": "73688ede",
   "metadata": {},
   "outputs": [],
   "source": [
    "r = requests.get('https://www.msss.com.my/mjss/')"
   ]
  },
  {
   "cell_type": "code",
   "execution_count": 16,
   "id": "40b69ee6",
   "metadata": {},
   "outputs": [
    {
     "data": {
      "text/plain": [
       "['v27.php',\n",
       " 'v26.php',\n",
       " 'v25.php',\n",
       " 'v24.php',\n",
       " 'v23.php',\n",
       " 'v22.php',\n",
       " 'v21.php',\n",
       " 'v20.php',\n",
       " 'v19.php',\n",
       " 'v18.php',\n",
       " 'v17.php',\n",
       " 'v16.php',\n",
       " 'v15.php',\n",
       " 'v14.php',\n",
       " 'v13.php',\n",
       " 'v12.php',\n",
       " 'v11.php',\n",
       " 'v10.php',\n",
       " 'v09.php',\n",
       " 'v08.php',\n",
       " 'v07.php',\n",
       " 'v06.php',\n",
       " 'v05.php',\n",
       " 'v04.php',\n",
       " 'v03.php',\n",
       " 'v02.php',\n",
       " 'v01.php']"
      ]
     },
     "execution_count": 16,
     "metadata": {},
     "output_type": "execute_result"
    }
   ],
   "source": [
    "soup = BeautifulSoup(r.content)\n",
    "a = soup.find_all('a', {'class': 'list-group-item'})\n",
    "pages = [a_.get('href') for a_ in a if a_.get('href').startswith('v')]\n",
    "pages"
   ]
  },
  {
   "cell_type": "code",
   "execution_count": 17,
   "id": "1f1e4a2c",
   "metadata": {},
   "outputs": [
    {
     "name": "stderr",
     "output_type": "stream",
     "text": [
      "100%|███████████████████████████████████████████| 27/27 [00:05<00:00,  5.37it/s]\n"
     ]
    },
    {
     "data": {
      "text/plain": [
       "['../../mjss/Full Text/vol27/V27_01.pdf',\n",
       " '../../mjss/Full Text/vol27/V27_02.pdf',\n",
       " '../../mjss/Full Text/vol27/V27_03.pdf',\n",
       " '../../mjss/Full Text/vol27/V27_04.pdf',\n",
       " '../../mjss/Full Text/vol27/V27_05.pdf',\n",
       " '../../mjss/Full Text/vol27/V27_06.pdf',\n",
       " '../../mjss/Full Text/vol27/V27_07.pdf',\n",
       " '../../mjss/Full Text/vol27/V27_08.pdf',\n",
       " '../../mjss/Full Text/vol27/V27_09.pdf',\n",
       " '../../mjss/Full Text/vol27/V27_10.pdf',\n",
       " '../../mjss/Full Text/vol27/V27_11.pdf',\n",
       " '../../mjss/Full Text/vol27/V27_12.pdf',\n",
       " '../../mjss/Full Text/vol27/V27_13.pdf',\n",
       " '../../mjss/Full Text/vol27/V27_14.pdf',\n",
       " '../../mjss/Full Text/vol27/V27_15.pdf',\n",
       " '../../mjss/Full Text/vol27/V27_16.pdf',\n",
       " '../../mjss/Full Text/vol27/V27_17.pdf',\n",
       " '../../mjss/Full Text/vol27/V27_18.pdf',\n",
       " '../../mjss/Full Text/vol26/V26_01.pdf',\n",
       " '../../mjss/Full Text/vol26/V26_02.pdf',\n",
       " '../../mjss/Full Text/vol26/V26_03.pdf',\n",
       " '../../mjss/Full Text/vol26/V26_04.pdf',\n",
       " '../../mjss/Full Text/vol26/V26_05.pdf',\n",
       " '../../mjss/Full Text/vol26/V26_06.pdf',\n",
       " '../../mjss/Full Text/vol26/V26_07.pdf',\n",
       " '../../mjss/Full Text/vol26/V26_08.pdf',\n",
       " '../../mjss/Full Text/vol26/V26_09.pdf',\n",
       " '../../mjss/Full Text/vol26/V26_10.pdf',\n",
       " '../../mjss/Full Text/vol26/V26_11.pdf',\n",
       " '../../mjss/Full Text/vol25/V2/V25_01.pdf',\n",
       " '../../mjss/Full Text/vol25/V2/V25_02.pdf',\n",
       " '../../mjss/Full Text/vol25/V2/V25_03.pdf',\n",
       " '../../mjss/Full Text/vol25/V2/V25_04.pdf',\n",
       " '../../mjss/Full Text/vol25/V2/V25_05.pdf',\n",
       " '../../mjss/Full Text/vol25/V2/V25_06.pdf',\n",
       " '../../mjss/Full Text/vol25/V2/V25_07.pdf',\n",
       " '../../mjss/Full Text/vol25/V2/V25_08.pdf',\n",
       " '../../mjss/Full Text/vol25/V2/V25_09.pdf',\n",
       " '../../mjss/Full Text/vol25/V2/V25_10.pdf',\n",
       " '../../mjss/Full Text/vol25/V2/V25_11.pdf',\n",
       " '../../mjss/Full Text/vol25/V2/V25_12.pdf',\n",
       " '../../mjss/Full Text/vol25/V2/V25_13.pdf',\n",
       " '../../mjss/Full Text/vol24/V24_01.pdf',\n",
       " '../../mjss/Full Text/vol24/V24_02.pdf',\n",
       " '../../mjss/Full Text/vol24/V24_03.pdf',\n",
       " '../../mjss/Full Text/vol24/V24_04.pdf',\n",
       " '../../mjss/Full Text/vol24/V24_05.pdf',\n",
       " '../../mjss/Full Text/vol24/V24_06.pdf',\n",
       " '../../mjss/Full Text/vol24/V24_07.pdf',\n",
       " '../../mjss/Full Text/vol24/V24_08.pdf',\n",
       " '../../mjss/Full Text/vol24/V24_09.pdf',\n",
       " '../../mjss/Full Text/vol24/V24_10.pdf',\n",
       " '../../mjss/Full Text/vol24/V24_11.pdf',\n",
       " '../../mjss/Full Text/vol23/V23_01.pdf',\n",
       " '../../mjss/Full Text/vol23/V23_02.pdf',\n",
       " '../../mjss/Full Text/vol23/V23_03.pdf',\n",
       " '../../mjss/Full Text/vol23/V23_04.pdf',\n",
       " '../../mjss/Full Text/vol23/V23_05.pdf',\n",
       " '../../mjss/Full Text/vol23/V23_06.pdf',\n",
       " '../../mjss/Full Text/vol23/V23_07.pdf',\n",
       " '../../mjss/Full Text/vol23/V23_08.pdf',\n",
       " '../../mjss/Full Text/vol23/V23_09.pdf',\n",
       " '../../mjss/Full Text/vol23/V23_10.pdf',\n",
       " '../../mjss/Full Text/vol23/V23_11.pdf',\n",
       " '../../mjss/Full Text/vol23/V23_12.pdf',\n",
       " '../../mjss/Full Text/vol23/V23_13.pdf',\n",
       " '../../mjss/Full Text/vol23/V23_14.pdf',\n",
       " '../../mjss/Full Text/vol23/V23_15.pdf',\n",
       " '../../mjss/Full Text/vol22/V22_01.pdf',\n",
       " '../../mjss/Full Text/vol22/V22_02.pdf',\n",
       " '../../mjss/Full Text/vol22/V22_03.pdf',\n",
       " '../../mjss/Full Text/vol22/V22_04.pdf',\n",
       " '../../mjss/Full Text/vol22/V22_05.pdf',\n",
       " '../../mjss/Full Text/vol22/V22_06.pdf',\n",
       " '../../mjss/Full Text/vol22/V22_07.pdf',\n",
       " '../../mjss/Full Text/vol22/V22_08.pdf',\n",
       " '../../mjss/Full Text/vol22/V22_09.pdf',\n",
       " '../../mjss/Full Text/vol22/V22_10.pdf',\n",
       " '../../mjss/Full Text/vol22/V22_11.pdf',\n",
       " '../../mjss/Full Text/vol21/1.Chien.pdf',\n",
       " '../../mjss/Full Text/vol21/2.Almaz.pdf',\n",
       " '../../mjss/Full Text/vol21/3.Ajiboye.pdf',\n",
       " '../../mjss/Full Text/vol21/4.Ramezani.pdf',\n",
       " '../../mjss/Full Text/vol21/5.Loayza.pdf',\n",
       " '../../mjss/Full Text/vol21/6.Harianti.pdf',\n",
       " '../../mjss/Full Text/vol21/7.Helmi.pdf',\n",
       " '../../mjss/Full Text/vol21/8.Sukor.pdf',\n",
       " '../../mjss/Full Text/vol21/9.Vijiandran.pdf',\n",
       " '../../mjss/Full Text/vol20/01-nurjanto.pdf',\n",
       " '../../mjss/Full Text/vol20/02-nabayi.pdf',\n",
       " '../../mjss/Full Text/vol20/03-ahukaemere.pdf',\n",
       " '../../mjss/Full Text/vol20/04-okoli.pdf',\n",
       " '../../mjss/Full Text/vol20/05-mohammadi.pdf',\n",
       " '../../mjss/Full Text/vol20/06-dezfuli.pdf',\n",
       " '../../mjss/Full Text/vol20/07-shah.pdf',\n",
       " '../../mjss/Full Text/vol20/08-adnan.pdf',\n",
       " '../../mjss/Full Text/vol20/09-kumar.pdf',\n",
       " '../../mjss/Full Text/vol20/10-subramaniam.pdf',\n",
       " '../../mjss/Full Text/vol20/11-pratama.pdf',\n",
       " '../../mjss/Full Text/vol20/12-abdulrahman.pdf',\n",
       " '../../mjss/Full Text/vol20/13-stevanus.pdf',\n",
       " '../../mjss/Full Text/vol19/1-Agim.pdf',\n",
       " '../../mjss/Full Text/vol19/2-Goh.pdf',\n",
       " '../../mjss/Full Text/vol19/3-Mahdawi.pdf',\n",
       " '../../mjss/Full Text/vol19/4-Matali.pdf',\n",
       " '../../mjss/Full Text/vol19/5-Ferdous.pdf',\n",
       " '../../mjss/Full Text/vol19/6-Ahukaemere.pdf',\n",
       " '../../mjss/Full Text/vol19/7-Karimi.pdf',\n",
       " '../../mjss/Full Text/vol19/8-Merwad.pdf',\n",
       " '../../mjss/Full Text/vol19/9-Shudarmaldevi.pdf',\n",
       " '../../mjss/Full Text/vol19/10-Suswati.pdf',\n",
       " '../../mjss/Full Text/vol19/11-Fattah.pdf',\n",
       " '../../mjss/Full Text/vol19/12-Heidari.pdf',\n",
       " '../../mjss/Full Text/vol19/13-Mohamed.pdf',\n",
       " '/mjss/Full%20Text/vol18/1_Kamarudin.pdf',\n",
       " '/mjss/Full%20Text/vol18/2_Goh.pdf',\n",
       " '/mjss/Full%20Text/vol18/3_Mahsa.pdf',\n",
       " '/mjss/Full%20Text/vol18/4_Mukhlis.pdf',\n",
       " '/mjss/Full%20Text/vol18/5_Gaffar.pdf',\n",
       " '/mjss/Full%20Text/vol18/6_Karimizarchi.pdf',\n",
       " '/mjss/Full%20Text/vol18/7_Shazana.pdf',\n",
       " '/mjss/Full%20Text/vol18/8_Elton.pdf',\n",
       " '/mjss/Full%20Text/vol18/9_Nurhajati.pdf',\n",
       " '/mjss/Full%20Text/Vol17/Shamshuddin.pdf',\n",
       " '/mjss/Full%20Text/Vol17/Udoh.pdf',\n",
       " '/mjss/Full%20Text/Vol17/Simansky.pdf',\n",
       " '/mjss/Full%20Text/Vol17/Spalevic.pdf',\n",
       " '/mjss/Full%20Text/Vol17/Khayambashi.pdf',\n",
       " '/mjss/Full%20Text/Vol17/Cheah.pdf',\n",
       " '/mjss/Full%20Text/Vol17/wahida.pdf',\n",
       " '/mjss/Full%20Text/Vol17/Amani.pdf',\n",
       " '/mjss/Full%20Text/Vol%2016/Iqbal.pdf',\n",
       " '/mjss/Full%20Text/Vol%2016/Marryanna.pdf',\n",
       " '/mjss/Full%20Text/Vol%2016/Lee%20Yin%20Ping.pdf',\n",
       " '/mjss/Full%20Text/Vol%2016/Shafar.pdf',\n",
       " '/mjss/Full%20Text/Vol%2016/Yap%20Chin%20Ann.pdf',\n",
       " '/mjss/Full%20Text/vol18/6_Karimizarchi.pdf',\n",
       " '/mjss/Full%20Text/Vol%2016/Soltan.pdf',\n",
       " '/mjss/Full%20Text/vol18/8_Elton.pdf',\n",
       " '/mjss/Full%20Text/Vol%2015/oslan.pdf',\n",
       " '/mjss/Full%20Text/Vol%2015/siva.pdf',\n",
       " '/mjss/Full%20Text/Vol%2015/obi.pdf',\n",
       " '/mjss/Full%20Text/Vol%2015/rosazlin.pdf',\n",
       " '/mjss/Full%20Text/Vol%2015/husni.pdf',\n",
       " '/mjss/Full%20Text/Vol%2015/jeyanny.pdf',\n",
       " '/mjss/Full%20Text/Vol%2015/khatik.pdf',\n",
       " '/mjss/Full%20Text/Vol%2015/iqbal.pdf',\n",
       " '/mjss/Full%20Text/Vol%2015/chamannejadian.pdf',\n",
       " '/mjss/Full Text/Vol 15/shamsuddin.pdf',\n",
       " 'http://msss.com.my/mjss/Full%20Text/Vol%2015/kala.pdf',\n",
       " '/mjss/Full%20Text/Vol%2014/Shamshuddin%20&%20Fauziah.pdf',\n",
       " '/mjss/Full%20Text/Vol%2014/Hartinie%20et%20al..pdf',\n",
       " '/mjss/Full%20Text/Vol%2014/Aisyah%20et%20al..pdf',\n",
       " '/mjss/Full%20Text/Vol%2014/Jariani%20et%20al..pdf',\n",
       " '/mjss/Full%20Text/Vol%2014/Nur%20Hanani%20et%20al..pdf',\n",
       " '/mjss/Full%20Text/Vol%2014/Liew%20et%20al..pdf',\n",
       " '/mjss/Full%20Text/Vol%2014/Saleem%20et.%20al..pdf',\n",
       " '/mjss/Full%20Text/Vol%2014/Wai%20&%20Halimi.pdf',\n",
       " '/mjss/Full%20Text/Vol%2013/sham.pdf',\n",
       " '/mjss/Full%20Text/Vol%2013/jose.pdf',\n",
       " '/mjss/Full%20Text/Vol%2013/sabrina.pdf',\n",
       " '/mjss/Full%20Text/Vol%2013/asilah.pdf',\n",
       " '/mjss/Full%20Text/Vol%2013/momayezi.pdf',\n",
       " '/mjss/Full%20Text/Vol%2013/kala.pdf',\n",
       " '/mjss/Full%20Text/Vol%2013/goh.pdf',\n",
       " '/mjss/Full%20Text/Vol%2013/iqbal.pdf',\n",
       " '/mjss/Full%20Text/Vol%2013/akma.pdf',\n",
       " '/mjss/Full%20Text/Vol%2012/Ting%20Teo%20Ming%20et%20al..pdf',\n",
       " '/mjss/Full%20Text/Vol%2012/Emmanuel%20U%20O.pdf',\n",
       " '/mjss/Full%20Text/Vol%2012/Barbhuiya%20et%20al.pdf',\n",
       " '/mjss/Full%20Text/Vol%2012/Upadhaya%20et%20al.pdf',\n",
       " '/mjss/Full%20Text/Vol%2012/Mubarak%20et%20al.pdf',\n",
       " '/mjss/Full%20Text/Vol%2012/Jeyanny%20et%20al.pdf',\n",
       " '/mjss/Full%20Text/Vol%2012/Khan%20et%20al.pdf',\n",
       " '/mjss/Full%20Text/Vol%2012/Rosenani%20et%20al.pdf',\n",
       " '/mjss/Full%20Text/Vol%2012/Zauyah%20et%20al.pdf',\n",
       " '/mjss/Full%20Text/Vol%2011/Totok%20et%20al_%20Vol%2011_%202007.pdf',\n",
       " '/mjss/Full%20Text/Vol%2011/Sim%20et%20al_vol%2011_2007.pdf',\n",
       " '/mjss/Full%20Text/Vol%2011/Noordiana%20et%20al_vol%2011_2007.pdf',\n",
       " '/mjss/Full%20Text/Vol%2011/Harikumar%20&%20Potty_vol%2011_2007.pdf',\n",
       " '/mjss/Full%20Text/Vol%2011/Devagi%20et%20al_vol%2011_2007.pdf',\n",
       " '/mjss/Full%20Text/Vol%2011/Mahdi%20et%20al_vol%2011_2007.pdf',\n",
       " '/mjss/Full%20Text/Vol%2011/Rosazlin%20et%20al_vol%2011_2007.pdf',\n",
       " '/mjss/Full%20Text/Vol%2010/Radziah%20et%20al_vol%2010_2006.pdf',\n",
       " '/mjss/Full%20Text/Vol%2010/Hamdan%20et%20al_vol%2010_2006.pdf',\n",
       " '/mjss/Full%20Text/Vol%2010/Ling%20et%20al_vol%2010_2006.pdf',\n",
       " '/mjss/Full%20Text/Vol%2010/Rosazlin%20et%20al_vol%2010_2006.pdf',\n",
       " '/mjss/Full%20Text/Vol%2011/Devagi%20et%20al_vol%2011_2007.pdf',\n",
       " '/mjss/Full%20Text/Vol%2011/Mahdi%20et%20al_vol%2011_2007.pdf',\n",
       " '/mjss/Full%20Text/Vol%209/Teh%20et%20al_vol%209%20_2005.pdf',\n",
       " '/mjss/Full%20Text/Vol%209/Mirjat%20et%20al_vol%209_2005.pdf',\n",
       " '/mjss/Full%20Text/Vol%209/Saraswathy%20et%20al_vol%209_2005.pdf',\n",
       " '/mjss/Full%20Text/Vol%2010/Rosazlin%20et%20al_vol%2010_2006.pdf',\n",
       " '/mjss/Full%20Text/Vol%209/Bockari%20et%20al_vol%209_2005.pdf',\n",
       " '/mjss/Full%20Text/Vol%209/Sarwoko%20_vol%209_2005.pdf',\n",
       " '/mjss/Full%20Text/Vol%209/Teh%20et%20al_vol%209%20_2005.pdf',\n",
       " '/mjss/Full%20Text/Vol%208/Mahdi%20et%20al_vol%208_2004.pdf',\n",
       " '/mjss/Full%20Text/Vol%208/Bockari%20et%20al_%20vol%208_2004.pdf',\n",
       " '/mjss/Full%20Text/Vol%2010/Rosazlin%20et%20al_vol%2010_2006.pdf',\n",
       " '/mjss/Full%20Text/Vol%208/Sarwar%20et%20al_vol%208_2004.pdf',\n",
       " '/mjss/Full%20Text/Vol%209/Sarwoko%20_vol%209_2005.pdf',\n",
       " '/mjss/Full%20Text/Vol%207/Wan%20Abdullah%20et%20al_vol%207_2003.pdf',\n",
       " '/mjss/Full%20Text/Vol%207/Rajesh%20et%20al_vol%207_2003.pdf',\n",
       " '/mjss/Full%20Text/Vol%207/Teh_vol%207_2003.pdf',\n",
       " '/mjss/Full%20Text/Vol%207/Pervez%20et%20al_vol%207_2003.pdf',\n",
       " '/mjss/Full%20Text/Vol%207/Aminudin%20et%20al_vol%207_2003.pdf',\n",
       " '/mjss/Full%20Text/Vol%207/Ling%20et%20al_vol%207_2003.pdf',\n",
       " '/mjss/Full%20Text/Vol%206/Sariam%20et%20al_vol%206_2002.pdf',\n",
       " '/mjss/Full%20Text/Vol%206/Wan%20_vol%206_2002.pdf',\n",
       " '/mjss/Full%20Text/Vol%207/Teh_vol%207_2003.pdf',\n",
       " '/mjss/Full%20Text/Vol%206/Ling%20et%20al_vol%206_2002.pdf',\n",
       " '/mjss/Full%20Text/Vol%206/Soon%20&%20Hoong_%20Vol%206_2002.pdf',\n",
       " '/mjss/Full%20Text/Vol%206/Ponniah%20&%20Teh_Vol%206_2002.pdf',\n",
       " '/mjss/Full%20Text/Vol%206/Amir%20et%20al_vol%206_2002.pdf',\n",
       " '/mjss/Full%20Text/Vol%205/Hwai%20et%20al_vol%205_2001.pdf',\n",
       " '/mjss/Full%20Text/Vol%205/Yew_vol%205_2001.pdf',\n",
       " '/mjss/Full%20Text/Vol%205/Wan%20Abdullah%20et%20al_vol%205_2001.pdf',\n",
       " '/mjss/Full%20Text/Vol%205/Swapan%20et%20al_vol%205_2001.pdf',\n",
       " '/mjss/Full%20Text/Vol%205/Fauziah%20et%20al_vol%205_2001.pdf',\n",
       " '/mjss/Full%20Text/Vol%205/Syed%20Omar_vol%205_2001.pdf',\n",
       " '/mjss/Full%20Text/Vol%204/Izham%20et%20al_Vol%204_2000.pdf',\n",
       " '/mjss/Full%20Text/Vol%204/Fiantis%20et%20al_vol%204_2000.pdf',\n",
       " '/mjss/Full%20Text/Vol%204/Amir%20at%20al_vol%204_2000.pdf',\n",
       " '/mjss/Full%20Text/Vol%204/Zaharah%20&%20Lim_vol%204_2000.pdf',\n",
       " '/mjss/Full%20Text/Vol%203/Fauziah%20et%20al_vol%203_1999.pdf',\n",
       " '/mjss/Full%20Text/Vol%203/Baert%20et%20al_vol%203_1999.pdf',\n",
       " '/mjss/Full%20Text/Vol%203/Ahmed%20et%20al_vol%203_1999.pdf',\n",
       " '/mjss/Full%20Text/Vol%203/Van%20Ranst%20&%20Tang_vol%203_1999.pdf',\n",
       " '/mjss/Full%20Text/Vol%203/Wong_vol%203_1999.pdf',\n",
       " '/mjss/Full%20Text/Vol%203/Syed%20Omar%20et%20al_vol%203_1999.pdf',\n",
       " '/mjss/Full%20Text/Vol%203/Mubarak%20et%20al_vol%203_1999.pdf',\n",
       " '/mjss/Full%20Text/Vol%203/Syedul%20&%20Desa_vol%203_1999.pdf',\n",
       " '/mjss/Full%20Text/Vol%202/Sahibin%20&%20Adam_vol%202_%201998.pdf',\n",
       " '/mjss/Full%20Text/Vol%202/Boniao%20et%20al_vol%202_1998.pdf',\n",
       " '/mjss/Full%20Text/Vol%202/Raert%20&%20Van%20Ranst_vol%202_1998.pdf',\n",
       " 'http://msss.com.my/mjss/Full%20Text/Vol%202/Fiantis%20et%20al_vol%202_1998.pdf',\n",
       " '/mjss/Full%20Text/Vol%202/Raert%20&%20Van%20Ranst_vol%202_1998.pdf',\n",
       " '/mjss/Full%20Text/Vol%202/Padmanabhan%20&%20Crabtree_%20vol%202_1998.pdf',\n",
       " '/mjss/Full%20Text/Vol%202/Syed%20Omar%20et%20al_vol%202_1998.pdf',\n",
       " '/mjss/Full%20Text/Vol%201/Rosenani_vol%201_1997.pdf',\n",
       " '/mjss/Full%20Text/Vol%201/Zaharah%20et%20al_vol%201_1997.pdf',\n",
       " '/mjss/Full%20Text/Vol%201/Lau%20&%20Rokeyah_Vol%201_1997.pdf',\n",
       " 'http://msss.com.my/mjss/Full%20Text/Vol%201/Ghulam%20et%20al_vol%201_1997.pdf',\n",
       " '/mjss/Full%20Text/Vol%203/Wong_vol%203_1999.pdf',\n",
       " '/mjss/Full%20Text/Vol%201/Desa_vol%201_1997.pdf']"
      ]
     },
     "execution_count": 17,
     "metadata": {},
     "output_type": "execute_result"
    }
   ],
   "source": [
    "from tqdm import tqdm\n",
    "\n",
    "urls = []\n",
    "for p in tqdm(pages):\n",
    "    p = f'https://www.msss.com.my/mjss/{p}'\n",
    "    r = requests.get(p)\n",
    "    soup = BeautifulSoup(r.content)\n",
    "    a = soup.find_all('a')\n",
    "    a = [a_.get('href') for a_ in a if a_.get('href').endswith('.pdf')]\n",
    "    urls.extend(a)\n",
    "    \n",
    "urls"
   ]
  },
  {
   "cell_type": "code",
   "execution_count": 18,
   "id": "93837454",
   "metadata": {
    "scrolled": true
   },
   "outputs": [
    {
     "data": {
      "text/plain": [
       "234"
      ]
     },
     "execution_count": 18,
     "metadata": {},
     "output_type": "execute_result"
    }
   ],
   "source": [
    "urls = sorted(list(set(urls)))\n",
    "len(urls)"
   ]
  },
  {
   "cell_type": "code",
   "execution_count": 19,
   "id": "ca950894",
   "metadata": {},
   "outputs": [],
   "source": [
    "!mkdir msss.com.my"
   ]
  },
  {
   "cell_type": "code",
   "execution_count": 24,
   "id": "b60aec01",
   "metadata": {
    "scrolled": true
   },
   "outputs": [
    {
     "name": "stderr",
     "output_type": "stream",
     "text": [
      "100%|█████████████████████████████████████████| 234/234 [15:58<00:00,  4.09s/it]\n"
     ]
    }
   ],
   "source": [
    "import os\n",
    "\n",
    "pdfs = urls\n",
    "for i in tqdm(range(len(pdfs))):\n",
    "    filename = os.path.join('msss.com.my', f'{i}.pdf')\n",
    "    if os.path.exists(filename):\n",
    "        continue\n",
    "        \n",
    "    u = pdfs[i].split('/mjss/')[1]\n",
    "    u = f'https://www.msss.com.my/mjss/{u}'\n",
    "        \n",
    "    r = requests.get(u)\n",
    "    with open(filename, 'wb') as fopen:\n",
    "        fopen.write(r.content)"
   ]
  },
  {
   "cell_type": "code",
   "execution_count": 27,
   "id": "91c9ff30",
   "metadata": {},
   "outputs": [],
   "source": [
    "from glob import glob\n",
    "from tika import parser\n",
    "import json\n",
    "\n",
    "TIKA_HOST = 'http://localhost:9998'"
   ]
  },
  {
   "cell_type": "code",
   "execution_count": 29,
   "id": "317138cf",
   "metadata": {},
   "outputs": [
    {
     "name": "stderr",
     "output_type": "stream",
     "text": [
      "100%|█████████████████████████████████████████| 234/234 [00:11<00:00, 21.27it/s]\n"
     ]
    }
   ],
   "source": [
    "files = glob('msss.com.my/*.pdf')\n",
    "\n",
    "with open('msss.com.my.jsonl', 'w') as fopen:\n",
    "    for f in tqdm(files):\n",
    "        try:\n",
    "            raw_xml = parser.from_file(f, TIKA_HOST, xmlContent=True)\n",
    "            body = BeautifulSoup(raw_xml['content']).find('body')\n",
    "            t = '\\n'.join(body.findAll(text=True))\n",
    "            fopen.write(f'{json.dumps(t)}\\n')\n",
    "        except:\n",
    "            pass"
   ]
  },
  {
   "cell_type": "code",
   "execution_count": null,
   "id": "07a43a40",
   "metadata": {},
   "outputs": [],
   "source": []
  }
 ],
 "metadata": {
  "kernelspec": {
   "display_name": "Python 3 (ipykernel)",
   "language": "python",
   "name": "python3"
  },
  "language_info": {
   "codemirror_mode": {
    "name": "ipython",
    "version": 3
   },
   "file_extension": ".py",
   "mimetype": "text/x-python",
   "name": "python",
   "nbconvert_exporter": "python",
   "pygments_lexer": "ipython3",
   "version": "3.8.10"
  }
 },
 "nbformat": 4,
 "nbformat_minor": 5
}
