{
 "cells": [
  {
   "cell_type": "code",
   "execution_count": 1,
   "metadata": {},
   "outputs": [],
   "source": [
    "import requests\n",
    "from bs4 import BeautifulSoup\n",
    "from tqdm import tqdm\n",
    "import os\n",
    "import json\n",
    "import numpy as np\n",
    "import time\n",
    "import random\n",
    "import json"
   ]
  },
  {
   "cell_type": "code",
   "execution_count": 2,
   "metadata": {},
   "outputs": [
    {
     "data": {
      "text/plain": [
       "7226"
      ]
     },
     "execution_count": 2,
     "metadata": {},
     "output_type": "execute_result"
    }
   ],
   "source": [
    "from glob import glob\n",
    "\n",
    "files = glob('url/*.json')\n",
    "urls = []\n",
    "for f in files:\n",
    "    with open(f) as fopen:\n",
    "        urls.extend(json.load(fopen))\n",
    "urls = sorted(list(set(urls)))\n",
    "len(urls)"
   ]
  },
  {
   "cell_type": "code",
   "execution_count": 3,
   "metadata": {},
   "outputs": [],
   "source": [
    "!mkdir page"
   ]
  },
  {
   "cell_type": "code",
   "execution_count": 4,
   "metadata": {},
   "outputs": [],
   "source": [
    "r = requests.get(urls[0])\n",
    "soup = BeautifulSoup(r.content, \"lxml\")"
   ]
  },
  {
   "cell_type": "code",
   "execution_count": 7,
   "metadata": {},
   "outputs": [
    {
     "data": {
      "text/plain": [
       "'https://kimchidaily.my/0x1lovesong-txt-duduki-tempat-pertama-billboard-pilih-25-lagu-k-pop-terbaik-bagi-2021/'"
      ]
     },
     "execution_count": 7,
     "metadata": {},
     "output_type": "execute_result"
    }
   ],
   "source": [
    "urls[0]"
   ]
  },
  {
   "cell_type": "code",
   "execution_count": 5,
   "metadata": {
    "scrolled": true
   },
   "outputs": [
    {
     "data": {
      "text/plain": [
       "'‘0X1=Lovesong’ TXT Duduki Tempat Pertama, Billboard Pilih 25 Lagu K-Pop Terbaik Bagi 2021!'"
      ]
     },
     "execution_count": 5,
     "metadata": {},
     "output_type": "execute_result"
    }
   ],
   "source": [
    "soup.find('h1').text"
   ]
  },
  {
   "cell_type": "code",
   "execution_count": 8,
   "metadata": {},
   "outputs": [
    {
     "data": {
      "text/plain": [
       "'\\n\\nRamai artis K-pop telah mengeluarkan lagu-lagu yang hebat pada tahun ini.\\nWalaupun agak susah untuk memilih lagu K-pop terbaik yang telah dirilis pada tahun ini, senarai lagu ini akan dapat memberikan gambaran beberapa lagu terbaik yang telah dikeluarkan.\\n\\n\\n\\n\\n\\nLihat senarai 25 lagu K-pop terbaik bagi 2021 yang telah dipilih oleh pengkritik Billboard:\\n\\n\\n25. Rosé – On the Ground\\nSingle solo yang telah lama ditunggu-tunggu daripada ahli vokal utama BLACKPINK tidak mengecewakan, kerana “On the Ground” membenarkan vokal Rosé meneroka semula produksi perubahan bentuk lagu itu. Lagu ini juga telah memenangi pelbagai anugerah muzik, serta sokongan setia dari peminat seluruh dunia.\\n24. (G)I-DLE – HWAA\\nWalaupun 2021 tahun yang agak sunyi untuk kumpulan gadis itu, (G)I-DLE telah memberi impak yang besar dengan “HWAA” pada Januari. Dengan tajuknya bertindak sebagai permainan perkataan dalam bahasa Korea dan Cina, dan bunyinya yang menggabungkan unsur ‘moombahton’ dan ‘dark dream-pop’, “HWAA” mencipta sesuatu yang menonjol dan terus terdengar segar sepanjang tahun 2021.\\n\\n23. Wendy – Like Water\\nSingle solo daripada penyanyi RED VELVET itu membawakan nuansa muzik ‘country’ yang jarang ditemui dalam K-pop, bertindak sebagai skap bunyi yang cantik untuk Wendy yang telah melancarkan salah satu persembahan vokal terbaiknya setakat ini.\\n22. STAYC – ASAP\\nKemunculan viral yang tidak dijangka untuk kumpulan gadis yang sedang meningkat naik, “ASAP” melonjakkan STAYC ke tangga 10 teratas Billboard K-Pop 100 dan meletakkan mereka sebagai peneraju dalam aksi K-pop generasi akan datang. Lagu ini seringkali dinyanyikan oleh kumpulan K-pop yang lain, jelas menunjukkan kepopularitiannya.\\n21. EPEX – Lock Down\\nKumpulan ‘rookie’ lelaki yang menyerlah pada tahun 2021 iaitu EPEX, menyampaikan lagu yang sesuai untuk tahun ini iaitu berkaitan kuarantin dengan single sulung “Lock Down”. Ramai peminat teruja dengan konsep seterusnya yang akan dibawa oleh kumpulan ini!\\n20. Lisa – Money\\nBeberapa solo dalam K-pop digembar-gemburkan seperti Lisa, dan “Money” tidak mengecewakan. Lagu itu menyaksikan penyanyi rap BLACKPINK itu telah menonjolkan tahap penuh kemahiran rapnya, tarian bertenaga serta lirik yang menarik. “Money” juga telah merangkul pelbagai pencapaian luar biasa antaranya, menjadikan Lisa sebagai artis solo K-pop wanita pertama yang memasuki Carta Pop Airplay dengan lagu tersebut.\\n\\n19. TWICE – Scientist\\n2021 merupakan tahun yang meriah untuk TWICE. Lagu “Scientist” telah menunjukkan prestasi terbaik kumpulan gadis ‘super’ itu. “Scientist” serta-merta menarik perhatian pendengar dengan rentak ‘synth’ dan lirik yang mudah untuk dinyanyi bersama.\\n18. Jeon Somi – Dumb Dumb\\n“Dumb Dumb” adalah lagu yang merangkumi tenaga kental khasnya, menandakan detik istimewa untuk bintang itu. Dengan bunyi wisel yang ketagihan, dan suara vokal So-mi yang beremosi, apatah lagi korus terakhir yang menyatukan semuanya untuk satu pukulan pop terakhir. Tarian untuk lagu ini juga turut menjadi perhatian!\\n17. ATEEZ – Deja Vu\\nATEEZ telah meningkat dengan pantas dengan jenama hip-hop yang hebat mereka yang tidak dapat dinafikan, dan “Deja Vu” melihat kumpulan itu pada tahap terbaik mereka. Rapper Hong-joong dan Min-gi menukar penyampaian biasa mereka pada rangkap kedua yang menunjukkan persembahan rap yang lebih halus untuk mereka berdua.\\n16. Taeyeon – Weekend\\nSudah menjadi legenda K-pop, Tae-yeon membuktikan dia masih bersinar dengan “Weekend”. Walaupun lagu ini bukanlah suatu kebiasaan dalam elemennya, bakat pemuzik Tae-yeon menjadikan lagu ini salah satu lagu terbaik tahun ini.\\n15. SEVENTEEN – Ready to Love\\nSingle SEVENTEEN “Ready to Love” telah berjaya memasuki carta Billboard 200. Kumpulan lelaki 13 ahli itu menunjukkan gandingan yang menarik, mendedahkan keinginan terdalam mereka untuk menjadi lebih daripada kawan, melalui produksi elektro-pop yang ramai serta melonjak dan berkembang sepanjang trek.\\n14. WOODZ – Waiting\\nWalaupun projek itu menceritakan liku-liku kisah cinta, “Waiting” ialah kesimpulan yang tragis namun menarik yang menyaksikan WOODZ bergerak melalui peringkat kesedihan, penafian dan obsesi terhadap produksi rock-pop berirama yang bersesuaian dengan suara rocknya.\\n\\n13. Younha – Stardust\\nTerkenal kerana ciptaan bombastiknya, penyanyi dan penulis lagu Youn-ha berkembang maju dalam kesederhanaan. “Stardust” tidak bergantung pada melodramatik atau perubahan utama, tetapi mengulangi janjang kord yang mudah dan cantik yang tumbuh secara semula jadi dalam pengeluaran orkestra lagu itu.\\n12. fromis_9 – We Go\\n“WE GO” ialah lagu pop yang menyegarkan yang digubah oleh Lee Hae-sol, Justin Reinstein dan JJean. Liriknya ditulis oleh Ku Tae-woo dan Wkly, yang menyatakan rasa kegembiraan yang dirasai ketika melancong. Lagu ini akan membuatkan pendengar mahu melarikan diri dari kehidupan seharian mereka yang membosankan dan pergi melancong.\\n11. AKMU & IU – Nakka\\nDi Korea, kedua-dua IU dan adik-beradik duo AKMU adalah kuasa carta yang tiada tandingan. Walaupun terdapat unsur-unsur berkhayal dan sampel bunyi sumbang yang lebih gelap, “Nakka” akhirnya berkongsi mesej yang penuh harapan dan menghiburkan, kerana liriknya menekankan untuk kekal bersama dengan orang yang anda sayangi walaupun dalam detik paling gelap mereka.\\n10. CIX – Cinema\\nKumpulan itu telah mengeluarkan album mini baharu mereka “HELLO Bab Ø. Hello, Strange Dream” bersama-sama dengan muzik video untuk judul lagu “Cinema”. “Cinema” ialah lagu dengan melodi yang terang, dan liriknya adalah mengenai hari-hari yang indah di masa lalu.\\n9. STRAY KIDS – Thunderous\\n“Thunderous” membawa formula ke tahap yang baharu. Dimulai dengan penggayaan rap yang membingungkan dari penyanyi rap Chang-bin dan Han, yang telah menjadi gaya khas untuk SKZ, “Thunderous” dengan lancar menyatukan paduan suara yang anggun dan mendayu-dayu.\\n8. Chancellor ft. Gaeko – Midnight\\nWalaupun Chansellor bukanlah baru dalam industri, penyanyi dan penerbit itu memulakan lembaran baharu dalam kerjayanya dengan trek disko-pop anggun ini, yang berpusat pada persembahan falsetto. Rentak lagu yang tenang memang mudah untuk diingati.\\n\\n7. NCT DREAM – Hot Sauce\\nDengan pelancaran album penuh pertama mereka “Hot Sauce”, NCT DREAM benar-benar mencapai kejayaan di K-pop pada tahun 2021 malah, memasuki carta Global 200. Walaupun lagu yang agak minima berbanding keluaran NCT DREAM yang lalu, lagu utama yang menggunakan nyanyian dari septet memerlukan banyak karisma dan personaliti, jelas menunjukkan sebab kumpulan ini mampu memasuki ke peringkat global!\\n6. BTS – Butter\\nLagu inggeris kedua BTS “Butter” berjaya duduki di tempat No. 1 Hot 100 selama 10 minggu berturut-turut. “Butter” mengukuhkan status BTS dalam pop Amerika apabila mereka mempersembahkan lagu tersebut di pentas berprofil tinggi di Amerika, termasuk BBMA, AMA dan Jingle Ball 2021 di Los Angeles.\\n5. Heize – Happen\\nSebagai salah satu penyanyi R&B Korea yang paling popular, “Happen” melihat Heize mencipta semula dirinya dengan bantuan label rekod ‘P Nation’ oleh PSY. Single pertamanya di bawah agensi itu, “Happen” membolehkan suara Heize menonjol di atas bunyi gitar akustik yang jelas yang berubah menjadi persembahan ‘funk’.\\n4. ONEUS – LUNA\\nPerayaan bunyi klasik dan moden diteruskan dengan single EP “LUNA”, dengan ONEUS menyempurnakan gabungan yang pertama kali dicuba pada “Lit” dari 2019. Penggabungan instrumentasi tradisional dengan pensintesis yang menarik bukan sahaja menandakan kenyataan artistik berani mereka, tetapi melihat mereka di tempat yang manis yang lebih mengagumkan selepas bereksperimen dengan banyak keluaran terkemuka tahun ini.\\n3. IU – Lilac\\nLagu utama untuk album studio kelimanya, “Lilac” ialah lagu retro yang ringkas dengan lirik yang mendapati bintang itu memberikan perpisahan pahit kepada usia dua puluhan sambil optimis memeluk dekad seterusnya.\\n2. AESPA – Next Level\\nAESPA memuncak selepas mengeluarkan “Black Mamba”, tetapi kembali lebih keras dan lebih kuat pada tahun 2021 dengan “Next Level”. Ahli Karina, NingNing, Winter dan Giselle hebat dalam membawa genre pop futuristik dan hip-hop. Tarian lagu ini juga turut menjadi perhatian ramai!\\n\\n1. TXT ft. Seori – 0X1=LOVESONG (I Know I Love You)\\nSebagai sebuah kumpulan yang secara terbuka mewakili Generasi Z, TOMORROW X TOGETHER menyalurkan melodi pop dan persembahan rap mereka ke dalam ruang pop-punk. RM BTS yang turut mengambil bahagian dalam menulis lirik lagu itu, menyatakan emosi seorang lelaki yang yakin bahawa cintanya terhadap seorang gadis istimewa yang ditemuinya dalam dunia yang kacau ini adalah nyata.\\n\\nFuh semua lagu-lagu best ni. Tahniah TXT, jom dengar lagu mereka!\\n Jom\\xa0‘Like’\\xa0dan\\xa0‘Follow’\\xa0Facebook,\\xa0Twitter,\\xa0Instagram\\xa0dan\\xa0Telegram\\xa0KimchiDaily untuk mendapatkan berita Korea paling latest yang sensasi.\\xa0\\n\\n\\n\\n\\n\\n\\n\\n\\n\\n\\n\\n\\nSUMBERBillboard \\n    \\n'"
      ]
     },
     "execution_count": 8,
     "metadata": {},
     "output_type": "execute_result"
    }
   ],
   "source": [
    "soup.find('div', {'class': 'td-post-content'}).text"
   ]
  },
  {
   "cell_type": "code",
   "execution_count": 9,
   "metadata": {},
   "outputs": [
    {
     "name": "stderr",
     "output_type": "stream",
     "text": [
      "3352it [1:38:52,  2.05s/it]IOPub message rate exceeded.\n",
      "The notebook server will temporarily stop sending output\n",
      "to the client in order to avoid crashing it.\n",
      "To change this limit, set the config variable\n",
      "`--NotebookApp.iopub_msg_rate_limit`.\n",
      "\n",
      "Current values:\n",
      "NotebookApp.iopub_msg_rate_limit=1000.0 (msgs/sec)\n",
      "NotebookApp.rate_limit_window=3.0 (secs)\n",
      "\n"
     ]
    }
   ],
   "source": [
    "for no, url in tqdm(enumerate(urls)):\n",
    "    filename = os.path.join('page', f'{no}.json')\n",
    "    if os.path.exists(filename):\n",
    "        continue\n",
    "        \n",
    "    r = requests.get(url)\n",
    "    soup = BeautifulSoup(r.content, \"lxml\")\n",
    "\n",
    "    try:\n",
    "        title = soup.find('h1').text\n",
    "    except Exception as e:\n",
    "        title = None\n",
    "\n",
    "    try:\n",
    "        body = soup.find('div', {'class': 'td-post-content'}).text\n",
    "    except Exception as e:\n",
    "        body = None\n",
    "\n",
    "    data = {\n",
    "        'url': url,\n",
    "        'body': body,\n",
    "        'title': title,\n",
    "    }\n",
    "    with open(filename, 'w') as fopen:\n",
    "        json.dump(data, fopen)"
   ]
  },
  {
   "cell_type": "code",
   "execution_count": null,
   "metadata": {},
   "outputs": [],
   "source": []
  }
 ],
 "metadata": {
  "kernelspec": {
   "display_name": "Python 3 (ipykernel)",
   "language": "python",
   "name": "python3"
  },
  "language_info": {
   "codemirror_mode": {
    "name": "ipython",
    "version": 3
   },
   "file_extension": ".py",
   "mimetype": "text/x-python",
   "name": "python",
   "nbconvert_exporter": "python",
   "pygments_lexer": "ipython3",
   "version": "3.8.10"
  }
 },
 "nbformat": 4,
 "nbformat_minor": 4
}
