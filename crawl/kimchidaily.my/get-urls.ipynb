{
 "cells": [
  {
   "cell_type": "code",
   "execution_count": 1,
   "metadata": {},
   "outputs": [],
   "source": [
    "import requests\n",
    "from bs4 import BeautifulSoup\n",
    "from tqdm import tqdm\n",
    "import os\n",
    "import json\n",
    "import numpy as np\n",
    "import time\n",
    "import random\n",
    "import json"
   ]
  },
  {
   "cell_type": "code",
   "execution_count": 2,
   "metadata": {},
   "outputs": [],
   "source": [
    "topics = [\n",
    "    'https://kimchidaily.my/category/filem-korea/',\n",
    "    'https://kimchidaily.my/category/drama-korea/',\n",
    "    'https://kimchidaily.my/category/k-foods/',\n",
    "    'https://kimchidaily.my/category/k-lifestyle/',\n",
    "    'https://kimchidaily.my/category/tempatan/',\n",
    "    'https://kimchidaily.my/category/selebrity/',\n",
    "]"
   ]
  },
  {
   "cell_type": "code",
   "execution_count": 3,
   "metadata": {},
   "outputs": [],
   "source": [
    "r = requests.get(topics[0])\n",
    "soup = BeautifulSoup(r.content, \"lxml\")"
   ]
  },
  {
   "cell_type": "code",
   "execution_count": 5,
   "metadata": {},
   "outputs": [
    {
     "data": {
      "text/plain": [
       "'40'"
      ]
     },
     "execution_count": 5,
     "metadata": {},
     "output_type": "execute_result"
    }
   ],
   "source": [
    "soup.find('a', {'class': 'last'}).text"
   ]
  },
  {
   "cell_type": "code",
   "execution_count": 7,
   "metadata": {
    "scrolled": true
   },
   "outputs": [
    {
     "data": {
      "text/plain": [
       "['https://kimchidaily.my/makin-popular-selepas-the-glory-lim-jiyeon-bakal-terajui-4-projek-berbeza-ini/',\n",
       " 'https://kimchidaily.my/ada-kerisauan-dibuang-projek-lain-pengarah-the-childe-kongsi-sebab-kekal-bersama-kim-seonho/',\n",
       " 'https://kimchidaily.my/suami-tekad-untuk-lindungi-keluarga-tonton-park-seojoon-dalam-concrete-utopia-ogos-ini/',\n",
       " 'https://kimchidaily.my/lakonan-antagonis-kim-seonho-dipuji-the-childe-raih-respon-positif-di-korea/',\n",
       " 'https://kimchidaily.my/park-boyoung-akui-janggal-berlakon-dengan-park-seojoon-pada-awalnya-tapi-kenapa/',\n",
       " 'https://kimchidaily.my/saya-tak-kisah-kontroversi-kim-seonho-seo-yeji-kim-kangwoo/',\n",
       " 'https://kimchidaily.my/pelbagai-genre-pelakon-hebat-11-naskhah-ini-bakal-tayang-di-netflix-pada-separuh-kedua-2023/',\n",
       " 'https://kimchidaily.my/bayaran-untuk-lakonan-saya-adalah-sangat-tinggi-song-joongki-buat-pengakuan-jujur/',\n",
       " 'https://kimchidaily.my/dari-pengarah-bloodhounds-kim-woobin-dilapor-terima-tawaran-terajui-filem-probation-officer/',\n",
       " 'https://kimchidaily.my/wajib-tonton-ini-antara-8-dokumentari-menarik-korea-berdasarkan-kisah-benar/',\n",
       " 'https://kimchidaily.my/kim-seonho-dedah-pernah-dimarahi-pengarah-the-childe-kerana-lakonan-janggal/',\n",
       " 'https://kimchidaily.my/diterajui-lee-byunghun-park-seojoon-park-boyoung-filem-concrete-utopia-akan-tayang-ogos-ini/',\n",
       " 'https://kimchidaily.my/dia-banyak-bantu-saya-ma-dongseok-kongsi-kehidupan-bahagia-bersama-isteri-kini/',\n",
       " 'https://kimchidaily.my/saya-kena-jaga-dia-anak-lahir-bulan-depan-sikap-prihatin-song-joongki-pada-isteri-jadi-perhatian/',\n",
       " 'https://kimchidaily.my/terima-kasih-kerana-kembali-selepas-terpalit-kontroversi-kim-seonho-minta-maaf/',\n",
       " 'https://kimchidaily.my/mak-lawa-tapi-pelakon-ini-dikecam-bawa-watak-anak-kim-taehee-dalam-lies-hidden-in-my-garden/',\n",
       " 'https://kimchidaily.my/minta-maaf-saya-kahwin-dongwoon-hightlight-mohon-maaf-lepas-baca-komen-buruk/',\n",
       " 'https://kimchidaily.my/sanggup-dia-melutut-tak-sombong-ramai-puji-cara-han-sohee-layan-peminat/',\n",
       " 'https://kimchidaily.my/peminat-teruja-jennie-bp-bakal-tampil-dalam-iklan-komersial-bersama-porsche/',\n",
       " 'https://kimchidaily.my/kali-ke-4-kerjasama-jang-hyuk-jang-nara-sah-terajui-siri-komedi-thriller-family/',\n",
       " 'https://kimchidaily.my/awak-tak-hubungi-orang-pun-kesal-tidak-diajak-keluar-kim-jongkook-pujuk-song-jihyo/',\n",
       " 'https://kimchidaily.my/pelbagai-kandungan-korea-ohk-meraikan-ulangtahun-ke-6-dengan-peminat-k-drama-bulan-oktober-ini/',\n",
       " 'https://kimchidaily.my/kisah-romantik-klise-tapi-ada-kelainan-ini-sebab-wajib-tonton-king-the-land-di-netflix-kini/',\n",
       " 'https://kimchidaily.my/xiumin-exo-bakal-lancar-album-solo-pertama/',\n",
       " 'https://kimchidaily.my/netizen-risau-baca-jun-somin-luah-rasa-sedih-kerana-kesepian-berseorangan/',\n",
       " 'https://kimchidaily.my/nam-yoonsu-sah-terajui-drama-adaptasi-webtoon-the-borrowed-body/']"
      ]
     },
     "execution_count": 7,
     "metadata": {},
     "output_type": "execute_result"
    }
   ],
   "source": [
    "h3 = soup.find_all('h3', {'class': 'entry-title td-module-title'})\n",
    "a = [h3_.find('a').get('href') for h3_ in h3]\n",
    "a"
   ]
  },
  {
   "cell_type": "code",
   "execution_count": 9,
   "metadata": {},
   "outputs": [],
   "source": [
    "!mkdir url"
   ]
  },
  {
   "cell_type": "code",
   "execution_count": 10,
   "metadata": {},
   "outputs": [
    {
     "name": "stdout",
     "output_type": "stream",
     "text": [
      "https://kimchidaily.my/category/filem-korea/\n"
     ]
    },
    {
     "name": "stderr",
     "output_type": "stream",
     "text": [
      "100%|█████████████████████████████████████████████████████████████████████████████████████████████| 40/40 [01:20<00:00,  2.02s/it]\n"
     ]
    },
    {
     "name": "stdout",
     "output_type": "stream",
     "text": [
      "https://kimchidaily.my/category/drama-korea/\n"
     ]
    },
    {
     "name": "stderr",
     "output_type": "stream",
     "text": [
      "100%|███████████████████████████████████████████████████████████████████████████████████████████| 357/357 [12:02<00:00,  2.02s/it]\n"
     ]
    },
    {
     "name": "stdout",
     "output_type": "stream",
     "text": [
      "https://kimchidaily.my/category/k-foods/\n"
     ]
    },
    {
     "name": "stderr",
     "output_type": "stream",
     "text": [
      "100%|███████████████████████████████████████████████████████████████████████████████████████████████| 1/1 [00:00<00:00,  1.01it/s]\n"
     ]
    },
    {
     "name": "stdout",
     "output_type": "stream",
     "text": [
      "https://kimchidaily.my/category/k-lifestyle/\n"
     ]
    },
    {
     "name": "stderr",
     "output_type": "stream",
     "text": [
      "100%|███████████████████████████████████████████████████████████████████████████████████████████████| 1/1 [00:01<00:00,  1.17s/it]\n"
     ]
    },
    {
     "name": "stdout",
     "output_type": "stream",
     "text": [
      "https://kimchidaily.my/category/tempatan/\n"
     ]
    },
    {
     "name": "stderr",
     "output_type": "stream",
     "text": [
      "100%|█████████████████████████████████████████████████████████████████████████████████████████████| 19/19 [00:32<00:00,  1.72s/it]\n"
     ]
    },
    {
     "name": "stdout",
     "output_type": "stream",
     "text": [
      "https://kimchidaily.my/category/selebrity/\n"
     ]
    },
    {
     "name": "stderr",
     "output_type": "stream",
     "text": [
      "100%|███████████████████████████████████████████████████████████████████████████████████████████| 171/171 [05:29<00:00,  1.93s/it]\n"
     ]
    }
   ],
   "source": [
    "for t in topics:\n",
    "    print(t)\n",
    "    t_ = t.split('my/')[1].replace('/', '-')\n",
    "    r = requests.get(t)\n",
    "    soup = BeautifulSoup(r.content, \"lxml\")\n",
    "    try:\n",
    "        num_page = int(soup.find('a', {'class': 'last'}).text)\n",
    "    except:\n",
    "        num_page = 1\n",
    "    \n",
    "    for index in tqdm(range(1, num_page + 1, 1)):\n",
    "        filename = os.path.join('url', f'{t_}-{index}.json')\n",
    "        if os.path.exists(filename):\n",
    "            continue\n",
    "        url = f'{t}page/{index}/'\n",
    "        r = requests.get(url)\n",
    "        soup = BeautifulSoup(r.content, \"lxml\")\n",
    "        \n",
    "        h3 = soup.find_all('h3', {'class': 'entry-title td-module-title'})\n",
    "        a = [h3_.find('a').get('href') for h3_ in h3]\n",
    "\n",
    "        with open(filename, 'w') as fopen:\n",
    "            json.dump(a, fopen)       "
   ]
  },
  {
   "cell_type": "code",
   "execution_count": null,
   "metadata": {},
   "outputs": [],
   "source": []
  }
 ],
 "metadata": {
  "kernelspec": {
   "display_name": "Python 3 (ipykernel)",
   "language": "python",
   "name": "python3"
  },
  "language_info": {
   "codemirror_mode": {
    "name": "ipython",
    "version": 3
   },
   "file_extension": ".py",
   "mimetype": "text/x-python",
   "name": "python",
   "nbconvert_exporter": "python",
   "pygments_lexer": "ipython3",
   "version": "3.8.10"
  }
 },
 "nbformat": 4,
 "nbformat_minor": 4
}
