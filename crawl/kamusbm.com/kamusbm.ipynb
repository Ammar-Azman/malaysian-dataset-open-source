{
 "cells": [
  {
   "cell_type": "code",
   "execution_count": 19,
   "metadata": {},
   "outputs": [],
   "source": [
    "import requests\n",
    "from tqdm import tqdm\n",
    "from bs4 import BeautifulSoup"
   ]
  },
  {
   "cell_type": "code",
   "execution_count": 22,
   "metadata": {},
   "outputs": [
    {
     "name": "stderr",
     "output_type": "stream",
     "text": [
      "100%|███████████████████████████████████████| 3420/3420 [51:26<00:00,  1.11it/s]\n"
     ]
    }
   ],
   "source": [
    "num_page = 3420\n",
    "all_articles = []\n",
    "for i in tqdm(range(1, num_page + 1, 1)):\n",
    "    r = requests.get(f'https://kamusbm.com/page/{i}/')\n",
    "    soup = BeautifulSoup(r.content, \"html.parser\")\n",
    "    articles = soup.find_all('article')\n",
    "    for a in articles:\n",
    "        all_articles.append(a.get_text(separator=\"\\n\").split('Posted by')[0].strip())"
   ]
  },
  {
   "cell_type": "code",
   "execution_count": 23,
   "metadata": {},
   "outputs": [
    {
     "data": {
      "text/plain": [
       "34192"
      ]
     },
     "execution_count": 23,
     "metadata": {},
     "output_type": "execute_result"
    }
   ],
   "source": [
    "len(all_articles)"
   ]
  },
  {
   "cell_type": "code",
   "execution_count": 24,
   "metadata": {},
   "outputs": [
    {
     "data": {
      "text/plain": [
       "['# Cara Guna\\n1.\\n Sila mencari satu perkataan sahaja pada setiap carian umum.\\n2.\\n Elak menggunakan imbuhan (seperti \\nmen-\\n, \\nber-\\n, \\ndi-\\n, \\n-i\\n, \\n-kan\\n dan lain-lain).\\n3.\\n Pastikan perkataan Bahasa Melayu itu sah dan diterbitkan oleh DBP, iaitu Kamus Dewan Pusaka dan Bahasa.\\n4. \\nSumber utama kamus dewan online ini merujuk kepada kamus dewan edisi keempat daripada Pusat Rujukan Persuratan Melayu (PRPM), hak cipta DBP Malaysia.',\n",
       " 'a go go\\nsejenis tarian yang diiringi muzik pop yang rancak yang popular pada 1960-an.',\n",
       " 'a I\\nhuruf pertama abjad Rumi.',\n",
       " 'a II\\n1.\\n [kata seru] untuk melahirkan kegirangan atau menyatakan persetujuan:\\nitu dia, ~, macam itulah caranya!;\\n2.\\n [kata seru] untuk menunjukkan terlupa akan sesuatu:\\nnama bukunya … ~, nanti saya cuba ingatkan!',\n",
       " 'a.n.\\n[kependekan] atas nama.',\n",
       " 'A.S.\\n[kependekan] Amerika Syarikat.',\n",
       " 'A.T.\\n[kependekan] Asia Tenggara.',\n",
       " 'a/k\\n[kependekan] anak kepada:\\nIve ~ Rini.',\n",
       " 'a/l\\n[kependekan] anak lelaki (kepada):\\nManiam ~ Muniandy.',\n",
       " 'a/p\\n[kependekan] anak perempuan (kepada):\\nKumari ~ Gopal.']"
      ]
     },
     "execution_count": 24,
     "metadata": {},
     "output_type": "execute_result"
    }
   ],
   "source": [
    "all_articles[:10]"
   ]
  },
  {
   "cell_type": "code",
   "execution_count": 26,
   "metadata": {},
   "outputs": [],
   "source": [
    "import json\n",
    "\n",
    "with open('kamusbm.jsonl', 'w') as fopen:\n",
    "    for a in all_articles:\n",
    "        fopen.write(f'{json.dumps(a)}\\n')"
   ]
  },
  {
   "cell_type": "code",
   "execution_count": null,
   "metadata": {},
   "outputs": [],
   "source": []
  }
 ],
 "metadata": {
  "kernelspec": {
   "display_name": "Python 3 (ipykernel)",
   "language": "python",
   "name": "python3"
  },
  "language_info": {
   "codemirror_mode": {
    "name": "ipython",
    "version": 3
   },
   "file_extension": ".py",
   "mimetype": "text/x-python",
   "name": "python",
   "nbconvert_exporter": "python",
   "pygments_lexer": "ipython3",
   "version": "3.8.10"
  }
 },
 "nbformat": 4,
 "nbformat_minor": 4
}
