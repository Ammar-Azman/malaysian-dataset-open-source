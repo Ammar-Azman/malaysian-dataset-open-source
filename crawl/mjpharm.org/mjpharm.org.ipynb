{
 "cells": [
  {
   "cell_type": "code",
   "execution_count": 1,
   "id": "2d4c5985",
   "metadata": {},
   "outputs": [
    {
     "name": "stderr",
     "output_type": "stream",
     "text": [
      "/home/husein/.local/lib/python3.8/site-packages/requests/__init__.py:102: RequestsDependencyWarning: urllib3 (1.26.15) or chardet (5.2.0)/charset_normalizer (2.0.7) doesn't match a supported version!\n",
      "  warnings.warn(\"urllib3 ({}) or chardet ({})/charset_normalizer ({}) doesn't match a supported \"\n"
     ]
    }
   ],
   "source": [
    "import requests\n",
    "from bs4 import BeautifulSoup"
   ]
  },
  {
   "cell_type": "code",
   "execution_count": 2,
   "id": "d8bd3c96",
   "metadata": {},
   "outputs": [],
   "source": [
    "r = requests.get('https://mjpharm.org/archives/')"
   ]
  },
  {
   "cell_type": "code",
   "execution_count": 3,
   "id": "894bec6a",
   "metadata": {},
   "outputs": [
    {
     "data": {
      "text/plain": [
       "18"
      ]
     },
     "execution_count": 3,
     "metadata": {},
     "output_type": "execute_result"
    }
   ],
   "source": [
    "soup = BeautifulSoup(r.content)\n",
    "a = soup.find_all('a')\n",
    "pages = [a_.get('href') for a_ in a if 'previous-issues/' in a_.get('href')]\n",
    "pages = sorted(list(set(pages)))\n",
    "len(pages)"
   ]
  },
  {
   "cell_type": "code",
   "execution_count": 5,
   "id": "a8f9977c",
   "metadata": {},
   "outputs": [
    {
     "data": {
      "text/plain": [
       "['https://mjpharm.org/previous-issues/vol-1-no-1-2001/',\n",
       " 'https://mjpharm.org/previous-issues/vol-1-no-10-2012/',\n",
       " 'https://mjpharm.org/previous-issues/vol-1-no-2-2002/',\n",
       " 'https://mjpharm.org/previous-issues/vol-1-no-3-2003/',\n",
       " 'https://mjpharm.org/previous-issues/vol-1-no-6-208/',\n",
       " 'https://mjpharm.org/previous-issues/vol-1-no-9-2011/',\n",
       " 'https://mjpharm.org/previous-issues/vol-2-no-1-2015/',\n",
       " 'https://mjpharm.org/previous-issues/vol-2-no-11-2014/',\n",
       " 'https://mjpharm.org/previous-issues/vol-2-no-2-2016/',\n",
       " 'https://mjpharm.org/previous-issues/vol-3-no-1-2017/',\n",
       " 'https://mjpharm.org/previous-issues/vol-4-no-1-2018/',\n",
       " 'https://mjpharm.org/previous-issues/vol-5-no-1-2019/',\n",
       " 'https://mjpharm.org/previous-issues/vol-6-no-1-2020/',\n",
       " 'https://mjpharm.org/previous-issues/vol-7-no-1-2021/',\n",
       " 'https://mjpharm.org/previous-issues/vol-7-no-2-2021/',\n",
       " 'https://mjpharm.org/previous-issues/vol-8-no-1-2022/',\n",
       " 'https://mjpharm.org/previous-issues/vol-8-no-2-2022/',\n",
       " 'https://mjpharm.org/previous-issues/vol1-no7-2009/']"
      ]
     },
     "execution_count": 5,
     "metadata": {},
     "output_type": "execute_result"
    }
   ],
   "source": [
    "pages"
   ]
  },
  {
   "cell_type": "code",
   "execution_count": 9,
   "id": "5839feab",
   "metadata": {},
   "outputs": [
    {
     "name": "stderr",
     "output_type": "stream",
     "text": [
      "100%|███████████████████████████████████████████| 18/18 [00:34<00:00,  1.90s/it]\n"
     ]
    },
    {
     "data": {
      "text/plain": [
       "['https://mjpharm.org/wp-content/uploads/2021/02/malaysian-journal-of-pharmacy-vol-1-issue-1-may-2001.pdf',\n",
       " 'https://mjpharm.org/wp-content/uploads/2021/02/malaysian-journal-of-pharmacy-2011-1-2-8.pdf',\n",
       " 'https://mjpharm.org/wp-content/uploads/2021/02/malaysian-journal-of-pharmacy-2001-1-9-14.pdf',\n",
       " 'https://mjpharm.org/wp-content/uploads/2021/02/malaysian-journal-of-pharmacy-2001-1-15-21.pdf',\n",
       " 'https://mjpharm.org/wp-content/uploads/2021/02/malaysian-journal-of-pharmacy-2001-1-22-28.pdf',\n",
       " 'https://mjpharm.org/wp-content/uploads/2021/02/malaysian-journal-of-pharmacy-2001-1-29-34.pdf',\n",
       " 'https://mjpharm.org/wp-content/uploads/2021/02/vol.-1-no.-10-2012-malaysian-journal-of-pharmacy.pdf',\n",
       " 'https://mjpharm.org/wp-content/uploads/2021/02/malaysian-journal-of-pharmacy-2012-10-1-14.pdf',\n",
       " 'https://mjpharm.org/wp-content/uploads/2021/02/malaysian-journal-of-pharmacy-2012-10-12-27.pdf',\n",
       " 'https://mjpharm.org/wp-content/uploads/2021/02/malaysian-journal-of-pharmacy-2012-10-28-37.pdf',\n",
       " 'https://mjpharm.org/wp-content/uploads/2021/02/malaysian-journal-of-pharmacy-2012-10-38-47.pdf',\n",
       " 'https://mjpharm.org/wp-content/uploads/2021/03/malaysian-journal-of-pharmacy-2001-2-45-50.pdf',\n",
       " 'https://mjpharm.org/wp-content/uploads/2021/03/malaysian-journal-of-pharmacy-2001-2-39-44.pdf',\n",
       " 'https://mjpharm.org/wp-content/uploads/2021/02/malaysian-journal-of-pharmacy-vol-1-issue-3-april-2003.pdf',\n",
       " 'https://mjpharm.org/wp-content/uploads/2021/03/malaysian-journal-of-pharmacy-2003-3-54-58.pdf',\n",
       " 'https://mjpharm.org/wp-content/uploads/2021/03/malaysian-journal-of-pharmacy-2003-3-59-62.pdf',\n",
       " 'https://mjpharm.org/wp-content/uploads/2021/03/malaysian-journal-of-pharmacy-2003-3-63-68.pdf',\n",
       " 'https://mjpharm.org/wp-content/uploads/2021/03/malaysian-journal-of-pharmacy-2003-3-69-75.pdf',\n",
       " 'https://mjpharm.org/wp-content/uploads/2021/03/malaysian-journal-of-pharmacy-2003-3-76-85.pdf',\n",
       " 'https://mjpharm.org/wp-content/uploads/2021/03/malaysian-journal-of-pharmacy-2003-3-86-90.pdf',\n",
       " 'https://mjpharm.org/wp-content/uploads/2021/02/vol.-1-no.-6-2008-malaysian-journal-of-pharmacy.pdf',\n",
       " 'https://mjpharm.org/wp-content/uploads/2021/03/malaysian-journal-of-pharmacy-2008-6-220-233.pdf',\n",
       " 'https://mjpharm.org/wp-content/uploads/2021/03/malaysian-journal-of-pharmacy-2008-6-234-245.pdf',\n",
       " 'https://mjpharm.org/wp-content/uploads/2021/03/malaysian-journal-of-pharmacy-2008-6-246-255.pdf',\n",
       " 'https://mjpharm.org/wp-content/uploads/2021/03/malaysian-journal-of-pharmacy-2008-6-256-267.pdf',\n",
       " 'https://mjpharm.org/wp-content/uploads/2021/02/vol.-1-no.-9-2011-malaysian-journal-of-pharmacy.pdf',\n",
       " 'https://mjpharm.org/wp-content/uploads/2021/03/malaysian-journal-of-pharmacy-2011-9-311-324.pdf',\n",
       " 'https://mjpharm.org/wp-content/uploads/2021/03/malaysian-journal-of-pharmacy-2011-9-325-335.pdf',\n",
       " 'https://mjpharm.org/wp-content/uploads/2021/03/malaysian-journal-of-pharmacy-2011-9-336-344.pdf',\n",
       " 'https://mjpharm.org/wp-content/uploads/2021/03/malaysian-journal-of-pharmacy-2011-9-345-355.pdf',\n",
       " 'https://mjpharm.org/wp-content/uploads/2021/02/malaysian-journal-of-pharmacy-vol-2-issue-1.pdf',\n",
       " 'https://mjpharm.org/wp-content/uploads/2021/02/malaysian-journal-of-pharmacy-2015-2-1-11.pdf',\n",
       " 'https://mjpharm.org/wp-content/uploads/2021/02/malaysian-journal-of-pharmacy-2015-2-12-21.pdf',\n",
       " 'https://mjpharm.org/wp-content/uploads/2021/02/vol.-1-no.-11-2014-malaysian-journal-of-pharmacy.pdf',\n",
       " 'https://mjpharm.org/wp-content/uploads/2021/02/malaysian-journal-of-pharmacy-2014-11-6-18.pdf',\n",
       " 'https://mjpharm.org/wp-content/uploads/2021/02/malaysian-journal-of-pharmacy-2014-11-19-28.pdf',\n",
       " 'https://mjpharm.org/wp-content/uploads/2021/02/vol.-2-no.-2-2016-malaysian-journal-of-pharmacy.pdf',\n",
       " 'https://mjpharm.org/wp-content/uploads/2021/02/vol.-3-no.-1-2017-malaysian-journal-of-pharmacy.pdf',\n",
       " 'https://mjpharm.org/wp-content/uploads/2021/02/malaysian-journal-of-pharmacy-2017-1-8-17.pdf',\n",
       " 'https://mjpharm.org/wp-content/uploads/2021/02/vol.-4-no.-1-2018-malaysian-journal-of-pharmacy.pdf',\n",
       " 'https://mjpharm.org/wp-content/uploads/2021/02/malaysian-journal-of-pharmacy-2018-1-5-7.pdf',\n",
       " 'https://mjpharm.org/wp-content/uploads/2021/02/malaysian-journal-of-pharmacy-2018-2-8-10.pdf',\n",
       " 'https://mjpharm.org/wp-content/uploads/2021/02/malaysian-journal-of-pharmacy-2018-3-11-20.pdf',\n",
       " 'https://mjpharm.org/wp-content/uploads/2021/02/malaysian-journal-of-pharmacy-vol-5-issue-1-dec-2019-5.pdf',\n",
       " 'https://mjpharm.org/wp-content/uploads/2021/02/2019-malaysian-journal-of-pharmacy-5-1-1-7.pdf',\n",
       " 'https://mjpharm.org/wp-content/uploads/2021/02/malaysian-journal-of-pharmacy-2019-1-11-19.pdf',\n",
       " 'https://mjpharm.org/wp-content/uploads/2021/02/malaysian-journal-of-pharmacy-vol-6-issue-1-dec-2020.pdf',\n",
       " 'https://mjpharm.org/wp-content/uploads/2021/03/welcome-letter-for-malaysian-journal-of-pharmacy-vol-6-issue-1-dec-2020.pdf',\n",
       " 'https://mjpharm.org/wp-content/uploads/2021/02/2020-malaysian-journal-of-pharmacy-6-1-1-5.pdf',\n",
       " 'https://mjpharm.org/wp-content/uploads/2021/02/2020-malaysian-journal-of-pharmacy-6-1-6-12.pdf',\n",
       " 'https://mjpharm.org/wp-content/uploads/2021/02/2020-malaysian-journal-of-pharmacy-6-1-13-20.pdf',\n",
       " 'https://mjpharm.org/wp-content/uploads/2021/02/2020-malaysian-journal-of-pharmacy-6-1-21-24.pdf',\n",
       " 'https://mjpharm.org/wp-content/uploads/2021/07/master-vol7i1-june2021-1.pdf',\n",
       " 'https://mjpharm.org/wp-content/uploads/2021/06/2021-malaysian-journal-of-pharmacy-7-1-1-2.pdf',\n",
       " 'https://mjpharm.org/wp-content/uploads/2021/06/2021-malaysian-journal-of-pharmacy-7-1-3-6.pdf',\n",
       " 'https://mjpharm.org/wp-content/uploads/2021/06/2021-malaysian-journal-of-pharmacy-7-1-7-10.pdf',\n",
       " 'https://mjpharm.org/wp-content/uploads/2021/06/2021-malaysian-journal-of-pharmacy-7-1-11-15.pdf',\n",
       " 'https://mjpharm.org/wp-content/uploads/2021/06/2021-malaysian-journal-of-pharmacy-7-1-16-21.pdf',\n",
       " 'https://mjpharm.org/wp-content/uploads/2021/06/2021-malaysian-journal-of-pharmacy-7-1-22-27.pdf',\n",
       " 'https://mjpharm.org/wp-content/uploads/2021/06/2021-malaysian-journal-of-pharmacy-7-1-28-33.pdf',\n",
       " 'https://mjpharm.org/wp-content/uploads/2021/07/2021-malaysian-journal-of-pharmacy-7-1-34-42.pdf',\n",
       " 'https://mjpharm.org/wp-content/uploads/2021/07/2021-malaysian-journal-of-pharmacy-7-1-43-48.pdf',\n",
       " 'https://mjpharm.org/wp-content/uploads/2021/08/mjp10-procedings-npc-2021.pdf',\n",
       " 'https://mjpharm.org/wp-content/uploads/2021/12/2021-malaysian-journal-of-pharmacy-7-2-1-2.pdf',\n",
       " 'https://mjpharm.org/wp-content/uploads/2021/12/2021-malaysian-journal-of-pharmacy-7-2-3-6-1.pdf',\n",
       " 'https://mjpharm.org/wp-content/uploads/2021/12/2021-malaysian-journal-of-pharmacy-7-2-7-12.pdf',\n",
       " 'https://mjpharm.org/wp-content/uploads/2021/12/2021-malaysian-journal-of-pharmacy-7-2-13-21.pdf',\n",
       " 'https://mjpharm.org/wp-content/uploads/2021/12/2021-malaysian-journal-of-pharmacy-7-2-58-63.pdf',\n",
       " 'https://mjpharm.org/wp-content/uploads/2021/12/2021-malaysian-journal-of-pharmacy-7-2-22-31-1.pdf',\n",
       " 'https://mjpharm.org/wp-content/uploads/2021/12/2021-malaysian-journal-of-pharmacy-7-2-64-73.pdf',\n",
       " 'https://mjpharm.org/wp-content/uploads/2021/12/2021-malaysian-journal-of-pharmacy-7-2-74-76.pdf',\n",
       " 'https://mjpharm.org/wp-content/uploads/2021/12/2021-malaysian-journal-of-pharmacy-7-2-32-38.pdf',\n",
       " 'https://mjpharm.org/wp-content/uploads/2021/12/2021-malaysian-journal-of-pharmacy-7-2-77-84.pdf',\n",
       " 'https://mjpharm.org/wp-content/uploads/2022/06/2022-malaysian-journal-of-pharmacy-8-1-1-6.pdf',\n",
       " 'https://mjpharm.org/wp-content/uploads/2022/06/2022-malaysian-journal-of-pharmacy-8-1-7-12.pdf',\n",
       " 'https://mjpharm.org/wp-content/uploads/2022/06/2022-malaysian-journal-of-pharmacy-8-1-13-18.pdf',\n",
       " 'https://mjpharm.org/wp-content/uploads/2022/06/2022-malaysian-journal-of-pharmacy-8-1-19-25-1.pdf',\n",
       " 'https://mjpharm.org/wp-content/uploads/2022/06/2022-malaysian-journal-of-pharmacy-8-1-26-31.pdf',\n",
       " 'https://mjpharm.org/wp-content/uploads/2022/07/2022-malaysian-journal-of-pharmacy-8-1-32-37-1.pdf',\n",
       " 'https://mjpharm.org/wp-content/uploads/2022/06/2022-malaysian-journal-of-pharmacy-8-1-38-41.pdf',\n",
       " 'https://mjpharm.org/wp-content/uploads/2022/07/2022-malaysian-journal-of-pharmacy-8-1-42-56.pdf',\n",
       " 'https://mjpharm.org/wp-content/uploads/2023/04/master-volume-8-issue-2-dec-2022v2-2.pdf',\n",
       " 'https://mjpharm.org/wp-content/uploads/2023/01/2022-malaysian-journal-of-pharmacy-8-2-iii-v.pdf',\n",
       " 'https://mjpharm.org/wp-content/uploads/2023/01/2022-malaysian-journal-of-pharmacy-8-2-1-15.pdf',\n",
       " 'https://mjpharm.org/wp-content/uploads/2023/01/2022-malaysian-journal-of-pharmacy-8-2-16-26.pdf',\n",
       " 'https://mjpharm.org/wp-content/uploads/2023/01/2022-malaysian-journal-of-pharmacy-8-2-27-31.pdf',\n",
       " 'https://mjpharm.org/wp-content/uploads/2023/01/2022-malaysian-journal-of-pharmacy-8-2-32-38.pdf',\n",
       " 'https://mjpharm.org/wp-content/uploads/2023/01/2022-malaysian-journal-of-pharmacy-8-2-47-139.pdf',\n",
       " 'https://mjpharm.org/wp-content/uploads/2023/01/2022-malaysian-journal-of-pharmacy-8-2-141-181.pdf',\n",
       " 'https://mjpharm.org/wp-content/uploads/2023/04/master-vol1i7-2009.pdf']"
      ]
     },
     "execution_count": 9,
     "metadata": {},
     "output_type": "execute_result"
    }
   ],
   "source": [
    "from tqdm import tqdm\n",
    "\n",
    "urls = []\n",
    "for p in tqdm(pages):\n",
    "    r = requests.get(p)\n",
    "    soup = BeautifulSoup(r.content)\n",
    "    a = soup.find_all('a')\n",
    "    a = [a_.get('href') for a_ in a if a_.get('href', '').endswith('.pdf')]\n",
    "    urls.extend(a)\n",
    "    \n",
    "urls"
   ]
  },
  {
   "cell_type": "code",
   "execution_count": 10,
   "id": "4198401d",
   "metadata": {},
   "outputs": [
    {
     "data": {
      "text/plain": [
       "90"
      ]
     },
     "execution_count": 10,
     "metadata": {},
     "output_type": "execute_result"
    }
   ],
   "source": [
    "urls = sorted(list(set(urls)))\n",
    "len(urls)"
   ]
  },
  {
   "cell_type": "code",
   "execution_count": 11,
   "id": "ff3fb657",
   "metadata": {},
   "outputs": [],
   "source": [
    "!mkdir mjpharm.org"
   ]
  },
  {
   "cell_type": "code",
   "execution_count": 12,
   "id": "e79209fe",
   "metadata": {},
   "outputs": [
    {
     "name": "stderr",
     "output_type": "stream",
     "text": [
      "100%|███████████████████████████████████████████| 90/90 [00:22<00:00,  3.94it/s]\n"
     ]
    }
   ],
   "source": [
    "import os\n",
    "\n",
    "pdfs = urls\n",
    "for i in tqdm(range(len(pdfs))):\n",
    "    filename = os.path.join('mjpharm.org', f'{i}.pdf')\n",
    "    if os.path.exists(filename):\n",
    "        continue\n",
    "        \n",
    "    u = pdfs[i]\n",
    "        \n",
    "    r = requests.get(u)\n",
    "    with open(filename, 'wb') as fopen:\n",
    "        fopen.write(r.content)"
   ]
  },
  {
   "cell_type": "code",
   "execution_count": 13,
   "id": "d84b17b2",
   "metadata": {},
   "outputs": [],
   "source": [
    "from glob import glob\n",
    "from tika import parser\n",
    "import json\n",
    "\n",
    "TIKA_HOST = 'http://localhost:9998'"
   ]
  },
  {
   "cell_type": "code",
   "execution_count": 14,
   "id": "5d83123c",
   "metadata": {},
   "outputs": [
    {
     "name": "stderr",
     "output_type": "stream",
     "text": [
      "100%|███████████████████████████████████████████| 90/90 [00:08<00:00, 10.17it/s]\n"
     ]
    }
   ],
   "source": [
    "files = glob('mjpharm.org/*.pdf')\n",
    "\n",
    "with open('mjpharm.org.jsonl', 'w') as fopen:\n",
    "    for f in tqdm(files):\n",
    "        try:\n",
    "            raw_xml = parser.from_file(f, TIKA_HOST, xmlContent=True)\n",
    "            body = BeautifulSoup(raw_xml['content']).find('body')\n",
    "            t = '\\n'.join(body.findAll(text=True))\n",
    "            fopen.write(f'{json.dumps(t)}\\n')\n",
    "        except:\n",
    "            pass"
   ]
  }
 ],
 "metadata": {
  "kernelspec": {
   "display_name": "Python 3 (ipykernel)",
   "language": "python",
   "name": "python3"
  },
  "language_info": {
   "codemirror_mode": {
    "name": "ipython",
    "version": 3
   },
   "file_extension": ".py",
   "mimetype": "text/x-python",
   "name": "python",
   "nbconvert_exporter": "python",
   "pygments_lexer": "ipython3",
   "version": "3.8.10"
  }
 },
 "nbformat": 4,
 "nbformat_minor": 5
}
