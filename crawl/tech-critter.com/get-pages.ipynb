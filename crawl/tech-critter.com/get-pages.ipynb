{
 "cells": [
  {
   "cell_type": "code",
   "execution_count": 1,
   "metadata": {},
   "outputs": [],
   "source": [
    "import requests\n",
    "from bs4 import BeautifulSoup\n",
    "from tqdm import tqdm\n",
    "import os\n",
    "import json\n",
    "import numpy as np\n",
    "import time\n",
    "import random\n",
    "import json"
   ]
  },
  {
   "cell_type": "code",
   "execution_count": 2,
   "metadata": {},
   "outputs": [
    {
     "data": {
      "text/plain": [
       "4594"
      ]
     },
     "execution_count": 2,
     "metadata": {},
     "output_type": "execute_result"
    }
   ],
   "source": [
    "from glob import glob\n",
    "\n",
    "files = glob('url/*.json')\n",
    "urls = []\n",
    "for f in files:\n",
    "    with open(f) as fopen:\n",
    "        urls.extend(json.load(fopen))\n",
    "urls = sorted(list(set(urls)))\n",
    "len(urls)"
   ]
  },
  {
   "cell_type": "code",
   "execution_count": 3,
   "metadata": {},
   "outputs": [],
   "source": [
    "cookies = {\n",
    "    'ezosuibasgeneris-1': '7c8dae91-0300-4aab-49af-b7d454cec504',\n",
    "    '_gid': 'GA1.2.1896646549.1689525934',\n",
    "    '__qca': 'P0-1320856837-1689525933751',\n",
    "    'ezoadgid_342397': '-1',\n",
    "    'ezoref_342397': '',\n",
    "    'ezoab_342397': 'mod64',\n",
    "    'lp_342397': 'https://www.tech-critter.com/',\n",
    "    'ezovuuid_342397': '099333fd-d04b-4813-5b9e-394dc54f955e',\n",
    "    'ezux_ifep_342397': 'true',\n",
    "    'ezux_et_342397': '42',\n",
    "    'ezovuuidtime_342397': '1689607766',\n",
    "    'ezopvc_342397': '16',\n",
    "    '_ga_FH6RF84ZDV': 'GS1.1.1689607568.3.1.1689607767.0.0.0',\n",
    "    '_ga_667KTPSX6R': 'GS1.1.1689607568.3.1.1689607767.59.0.0',\n",
    "    '_ga': 'GA1.2.484900256.1689525933',\n",
    "    'ezux_lpl_342397': '1689607769606|ea667c7c-4b33-4bbc-4a49-d5579bfac4e2|true',\n",
    "    'ezux_tos_342397': '242',\n",
    "}\n",
    "\n",
    "headers = {\n",
    "    'authority': 'www.tech-critter.com',\n",
    "    'accept': 'text/html,application/xhtml+xml,application/xml;q=0.9,image/avif,image/webp,image/apng,*/*;q=0.8,application/signed-exchange;v=b3;q=0.7',\n",
    "    'accept-language': 'en-MY,en;q=0.9,en-US;q=0.8,ms;q=0.7',\n",
    "    'cache-control': 'no-cache',\n",
    "    # 'cookie': 'ezosuibasgeneris-1=7c8dae91-0300-4aab-49af-b7d454cec504; _gid=GA1.2.1896646549.1689525934; __qca=P0-1320856837-1689525933751; ezoadgid_342397=-1; ezoref_342397=; ezoab_342397=mod64; lp_342397=https://www.tech-critter.com/; ezovuuid_342397=099333fd-d04b-4813-5b9e-394dc54f955e; ezux_ifep_342397=true; ezux_et_342397=42; ezovuuidtime_342397=1689607766; ezopvc_342397=16; _ga_FH6RF84ZDV=GS1.1.1689607568.3.1.1689607767.0.0.0; _ga_667KTPSX6R=GS1.1.1689607568.3.1.1689607767.59.0.0; _ga=GA1.2.484900256.1689525933; ezux_lpl_342397=1689607769606|ea667c7c-4b33-4bbc-4a49-d5579bfac4e2|true; ezux_tos_342397=242',\n",
    "    'pragma': 'no-cache',\n",
    "    'sec-ch-ua': '\"Not.A/Brand\";v=\"8\", \"Chromium\";v=\"114\", \"Google Chrome\";v=\"114\"',\n",
    "    'sec-ch-ua-mobile': '?0',\n",
    "    'sec-ch-ua-platform': '\"macOS\"',\n",
    "    'sec-fetch-dest': 'document',\n",
    "    'sec-fetch-mode': 'navigate',\n",
    "    'sec-fetch-site': 'none',\n",
    "    'sec-fetch-user': '?1',\n",
    "    'upgrade-insecure-requests': '1',\n",
    "    'user-agent': 'Mozilla/5.0 (Macintosh; Intel Mac OS X 10_15_7) AppleWebKit/537.36 (KHTML, like Gecko) Chrome/114.0.0.0 Safari/537.36',\n",
    "}"
   ]
  },
  {
   "cell_type": "code",
   "execution_count": 4,
   "metadata": {},
   "outputs": [
    {
     "data": {
      "text/plain": [
       "'https://www.tech-critter.com/10-strategies-to-help-crypto-companies-find-and-retain-qualified-talent/'"
      ]
     },
     "execution_count": 4,
     "metadata": {},
     "output_type": "execute_result"
    }
   ],
   "source": [
    "urls[0]"
   ]
  },
  {
   "cell_type": "code",
   "execution_count": 5,
   "metadata": {},
   "outputs": [],
   "source": [
    "r = requests.get(urls[0], cookies = cookies, headers = headers)\n",
    "soup = BeautifulSoup(r.content, \"lxml\")"
   ]
  },
  {
   "cell_type": "code",
   "execution_count": 6,
   "metadata": {
    "scrolled": true
   },
   "outputs": [
    {
     "data": {
      "text/plain": [
       "'10 strategies to help crypto-companies find and retain qualified talent'"
      ]
     },
     "execution_count": 6,
     "metadata": {},
     "output_type": "execute_result"
    }
   ],
   "source": [
    "soup.find('h1').text"
   ]
  },
  {
   "cell_type": "code",
   "execution_count": 7,
   "metadata": {
    "scrolled": true
   },
   "outputs": [
    {
     "data": {
      "text/plain": [
       "' Crypto is a nontraditional industry; crypto companies may need nontraditional ways to build loyal, talented teams. BITCODE PRIME CLOUD AI trading creates an environment in which anybody may engage in bitcoin trading and walk away with a profit as a result of their activities.    10 ways cryptocurrency companies can find and keep good employeesCompanies in every field find it hard to find and keep good workers. This fight is even tougher in highly specialized tech companies, and it takes a lot of persistence to win. And the people in charge of highly specialized tech companies in the new crypto space need to be persistent, creative, and maybe even willing to start from scratch.Accept different points of view, but keep your company’s culture safeUse the skills of a new team member, whether they’re good at sports, art, business, or technology, to make useful products that can reach many people. But make sure they have the right attitude when they come in! Even though Web3 moves fast, team members can take their time to get to know each other and build strong, positive relationships. – Yaoqi Jia, AltLayerShow students what they can do with blockchainAs the leader of a software company that puts legal issues first, I know how hard it is to find andkeep good employees, especially developers. The industry should teach students about the many jobs they can get in the blockchain while they are still looking for work. You can also keep good employees by giving them extras, like paying them in cryptocurrency.Use the contacts that your team hasLeaders of crypto and Web3 companies don’t have to look any further than their own staff to find the right people to work for them. Make the most of what your team knows about the business and who they know. – Shiv Madan, MoonwalkFind rewards that match what the talent wantsCryptocurrency is a once-in-a-lifetime chance to be a part of an industry that is changing fields like finance and art and giving communities a reason to get involved. The smartest people will always have opportunities to find and keep the best people, look for talent, ensure their incentives are aligned and give them the freedom to act.Don’t think you know everything there is to know about workCorporate culture may start at the top, but people don’t join Web3 to get another 9-to-5 job. Crypto can be fun and mean; in some games, you’ll win, and in others, you’ll lose. So, be humble, don’t wear a tie, and ask yourself if you know what you think you know. Know that the balance of power in your company changes all the time.  Make sure you have a clear goal and a plan for how to get things doneHave a clear goal and plan for how to get there. Employees won’t pay attention to a weak vision. Once you know what you want, you can choose whether to hire generalists who can do many different things or specialists who can reduce production risks. Because the industry doesn’t have traditional infrastructure like CRMs, ERP systems, and inventory tracking, Web3 leaders should figure out operational problems and set up productivity systems like Agile/Scrum, time-tracking, and reviews.During a thorough interview, look for signs of personalityCandidates don’t have to be crypto experts, but they do need to be sure that blockchain has the power to change things. A good personality is even more important than knowing about blockchain and crypto. Because of how business works, you also need to be able to change. Keeping this in mind, it’s important to ask many questions about a candidate’s personality during the interview process. STORM Partners’ Sheraz AhmedBring in an experienced executive to help build trust and share information.Hire a blockchain executive who has been through halving cycles before and knows what to do. This should give the company the solid base it needs and make people want to work there. And make sure everyone on the team knows they can share what they’ve learned. Rizon Labs’ Irina LitchfieldJoin the group, and you can help make things better in the future. People in charge of blockchain technology get together at the Cointelegraph Innovation Circle to talk, work together, and publish.Use the “teams of teams” method.Many people are still new to Bitcoin and other cryptocurrencies, and it can be hard to find people who have worked in our industry before. At CleanSpark, we work as a “team of teams,” which means people can work in different departments. But talented, well-rounded people who want to try new things and learn as they go can come from any background. Just invite them to come along.Hire people from different areas and teach them what they need to knowDon’t worry too much about finding the perfect person with all the necessary skills. You might miss out on great candidates who could get to the same level. I think the best way is to hire young people who are already interested in crypto or Web3 from other parts of the industry. Then it will be up to you to teach and train them to the best of your ability.   '"
      ]
     },
     "execution_count": 7,
     "metadata": {},
     "output_type": "execute_result"
    }
   ],
   "source": [
    "soup.find('div', {'data-widget_type':\"theme-post-content.default\"}).text"
   ]
  },
  {
   "cell_type": "code",
   "execution_count": 8,
   "metadata": {},
   "outputs": [
    {
     "name": "stdout",
     "output_type": "stream",
     "text": [
      "mkdir: cannot create directory ‘page’: File exists\r\n"
     ]
    }
   ],
   "source": [
    "!mkdir page"
   ]
  },
  {
   "cell_type": "code",
   "execution_count": 9,
   "metadata": {},
   "outputs": [
    {
     "name": "stderr",
     "output_type": "stream",
     "text": [
      "4594it [00:00, 181709.27it/s]\n"
     ]
    }
   ],
   "source": [
    "for no, url in tqdm(enumerate(urls)):\n",
    "    filename = os.path.join('page', f'{no}.json')\n",
    "    if os.path.exists(filename):\n",
    "        continue\n",
    "    \n",
    "    while True:\n",
    "        try:\n",
    "            r = requests.get(url, cookies = cookies, headers = headers)\n",
    "            break\n",
    "        except:\n",
    "            time.sleep(1.0)\n",
    "            \n",
    "    soup = BeautifulSoup(r.content, \"lxml\")\n",
    "\n",
    "    try:\n",
    "        title = soup.find('h1').text\n",
    "    except Exception as e:\n",
    "        title = None\n",
    "\n",
    "    try:\n",
    "        body = soup.find('div', {'data-widget_type':\"theme-post-content.default\"}).text\n",
    "    except Exception as e:\n",
    "        body = None\n",
    "\n",
    "    data = {\n",
    "        'url': url,\n",
    "        'title': title,\n",
    "        'body': body,\n",
    "    }\n",
    "    with open(filename, 'w') as fopen:\n",
    "        json.dump(data, fopen)"
   ]
  },
  {
   "cell_type": "code",
   "execution_count": null,
   "metadata": {},
   "outputs": [],
   "source": []
  }
 ],
 "metadata": {
  "kernelspec": {
   "display_name": "Python 3 (ipykernel)",
   "language": "python",
   "name": "python3"
  },
  "language_info": {
   "codemirror_mode": {
    "name": "ipython",
    "version": 3
   },
   "file_extension": ".py",
   "mimetype": "text/x-python",
   "name": "python",
   "nbconvert_exporter": "python",
   "pygments_lexer": "ipython3",
   "version": "3.8.10"
  }
 },
 "nbformat": 4,
 "nbformat_minor": 4
}
