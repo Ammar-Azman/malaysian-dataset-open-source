{
 "cells": [
  {
   "cell_type": "code",
   "execution_count": 1,
   "metadata": {},
   "outputs": [],
   "source": [
    "import requests\n",
    "from bs4 import BeautifulSoup\n",
    "from tqdm import tqdm\n",
    "import os\n",
    "import json\n",
    "import numpy as np\n",
    "import time\n",
    "import random\n",
    "import json"
   ]
  },
  {
   "cell_type": "code",
   "execution_count": 2,
   "metadata": {},
   "outputs": [],
   "source": [
    "topics = [\n",
    "    'https://www.tech-critter.com/category/news/',\n",
    "    'https://www.tech-critter.com/category/reviews-unboxings/',\n",
    "    'https://www.tech-critter.com/category/guide-tutorial/',\n",
    "    'https://www.tech-critter.com/category/featured/',\n",
    "]"
   ]
  },
  {
   "cell_type": "code",
   "execution_count": 3,
   "metadata": {},
   "outputs": [],
   "source": [
    "r = requests.get(topics[0])\n",
    "soup = BeautifulSoup(r.content, \"lxml\")"
   ]
  },
  {
   "cell_type": "code",
   "execution_count": 5,
   "metadata": {},
   "outputs": [
    {
     "data": {
      "text/plain": [
       "['https://www.tech-critter.com/razer-xanthus-apparel-and-gear-collection/',\n",
       " 'https://www.tech-critter.com/msi-malaysia-merdeka-mega-sales-2023/',\n",
       " 'https://www.tech-critter.com/pnys-xlr8-gaming-mako-ddr5-rgb-ram-white-color/',\n",
       " 'https://www.tech-critter.com/sap-amd-epyc-cpu-google-cloud-n2d-vm/',\n",
       " 'https://www.tech-critter.com/weekly-sun-cycle-vol-65/',\n",
       " 'https://www.tech-critter.com/msi-merdeka-mega-sales-2023-malaysia/',\n",
       " 'https://www.tech-critter.com/cooler-master-ga241-ga271-malaysia-price/',\n",
       " 'https://www.tech-critter.com/buy-amd-stuff-get-starfield-for-free-in-the-latest-ryzen-gaming-bundle/',\n",
       " 'https://www.tech-critter.com/ubisoft-the-crew-2-s9e1-update-announce/',\n",
       " 'https://www.tech-critter.com/honkai-star-rail-version-1-2-arrives-on-july-19/',\n",
       " 'https://www.tech-critter.com/sk-hynix-beetle-x31-announcement/',\n",
       " 'https://www.tech-critter.com/adata-legend-970-pcie-5-ssd-release/']"
      ]
     },
     "execution_count": 5,
     "metadata": {},
     "output_type": "execute_result"
    }
   ],
   "source": [
    "h3 = soup.find_all('h3', {'class': 'elementor-post__title'})\n",
    "a = [h3_.find('a').get('href') for h3_ in h3]\n",
    "a"
   ]
  },
  {
   "cell_type": "code",
   "execution_count": 6,
   "metadata": {},
   "outputs": [],
   "source": [
    "!rm -rf url\n",
    "!mkdir url"
   ]
  },
  {
   "cell_type": "code",
   "execution_count": 10,
   "metadata": {},
   "outputs": [],
   "source": [
    "cookies = {\n",
    "    'ezosuibasgeneris-1': '7c8dae91-0300-4aab-49af-b7d454cec504',\n",
    "    '_gid': 'GA1.2.1896646549.1689525934',\n",
    "    '__qca': 'P0-1320856837-1689525933751',\n",
    "    'ezoadgid_342397': '-1',\n",
    "    'ezoref_342397': '',\n",
    "    'ezoab_342397': 'mod64',\n",
    "    'lp_342397': 'https://www.tech-critter.com/',\n",
    "    'ezovuuid_342397': '099333fd-d04b-4813-5b9e-394dc54f955e',\n",
    "    'ezux_ifep_342397': 'true',\n",
    "    'ezux_et_342397': '42',\n",
    "    'ezovuuidtime_342397': '1689607766',\n",
    "    'ezopvc_342397': '16',\n",
    "    '_ga_FH6RF84ZDV': 'GS1.1.1689607568.3.1.1689607767.0.0.0',\n",
    "    '_ga_667KTPSX6R': 'GS1.1.1689607568.3.1.1689607767.59.0.0',\n",
    "    '_ga': 'GA1.2.484900256.1689525933',\n",
    "    'ezux_lpl_342397': '1689607769606|ea667c7c-4b33-4bbc-4a49-d5579bfac4e2|true',\n",
    "    'ezux_tos_342397': '242',\n",
    "}\n",
    "\n",
    "headers = {\n",
    "    'authority': 'www.tech-critter.com',\n",
    "    'accept': 'text/html,application/xhtml+xml,application/xml;q=0.9,image/avif,image/webp,image/apng,*/*;q=0.8,application/signed-exchange;v=b3;q=0.7',\n",
    "    'accept-language': 'en-MY,en;q=0.9,en-US;q=0.8,ms;q=0.7',\n",
    "    'cache-control': 'no-cache',\n",
    "    # 'cookie': 'ezosuibasgeneris-1=7c8dae91-0300-4aab-49af-b7d454cec504; _gid=GA1.2.1896646549.1689525934; __qca=P0-1320856837-1689525933751; ezoadgid_342397=-1; ezoref_342397=; ezoab_342397=mod64; lp_342397=https://www.tech-critter.com/; ezovuuid_342397=099333fd-d04b-4813-5b9e-394dc54f955e; ezux_ifep_342397=true; ezux_et_342397=42; ezovuuidtime_342397=1689607766; ezopvc_342397=16; _ga_FH6RF84ZDV=GS1.1.1689607568.3.1.1689607767.0.0.0; _ga_667KTPSX6R=GS1.1.1689607568.3.1.1689607767.59.0.0; _ga=GA1.2.484900256.1689525933; ezux_lpl_342397=1689607769606|ea667c7c-4b33-4bbc-4a49-d5579bfac4e2|true; ezux_tos_342397=242',\n",
    "    'pragma': 'no-cache',\n",
    "    'sec-ch-ua': '\"Not.A/Brand\";v=\"8\", \"Chromium\";v=\"114\", \"Google Chrome\";v=\"114\"',\n",
    "    'sec-ch-ua-mobile': '?0',\n",
    "    'sec-ch-ua-platform': '\"macOS\"',\n",
    "    'sec-fetch-dest': 'document',\n",
    "    'sec-fetch-mode': 'navigate',\n",
    "    'sec-fetch-site': 'none',\n",
    "    'sec-fetch-user': '?1',\n",
    "    'upgrade-insecure-requests': '1',\n",
    "    'user-agent': 'Mozilla/5.0 (Macintosh; Intel Mac OS X 10_15_7) AppleWebKit/537.36 (KHTML, like Gecko) Chrome/114.0.0.0 Safari/537.36',\n",
    "}"
   ]
  },
  {
   "cell_type": "code",
   "execution_count": 11,
   "metadata": {},
   "outputs": [
    {
     "name": "stdout",
     "output_type": "stream",
     "text": [
      "https://www.tech-critter.com/category/news/\n"
     ]
    },
    {
     "name": "stderr",
     "output_type": "stream",
     "text": [
      "279it [05:17,  1.14s/it]\n"
     ]
    },
    {
     "name": "stdout",
     "output_type": "stream",
     "text": [
      "https://www.tech-critter.com/category/reviews-unboxings/\n"
     ]
    },
    {
     "name": "stderr",
     "output_type": "stream",
     "text": [
      "75it [03:09,  2.53s/it]\n"
     ]
    },
    {
     "name": "stdout",
     "output_type": "stream",
     "text": [
      "https://www.tech-critter.com/category/guide-tutorial/\n"
     ]
    },
    {
     "name": "stderr",
     "output_type": "stream",
     "text": [
      "2it [00:02,  1.07s/it]\n"
     ]
    },
    {
     "name": "stdout",
     "output_type": "stream",
     "text": [
      "https://www.tech-critter.com/category/featured/\n"
     ]
    },
    {
     "name": "stderr",
     "output_type": "stream",
     "text": [
      "31it [00:35,  1.14s/it]\n"
     ]
    }
   ],
   "source": [
    "def generator():\n",
    "    while True:\n",
    "        yield\n",
    "        \n",
    "for t in topics:\n",
    "    print(t)\n",
    "    t_ = t.split('com/')[1].replace('/', '-')\n",
    "    \n",
    "    index = 1\n",
    "    for _ in tqdm(generator()):\n",
    "        filename = os.path.join('url', f'{t_}-{index}.json')\n",
    "        if os.path.exists(filename):\n",
    "            index += 1\n",
    "            continue\n",
    "        \n",
    "        while True:\n",
    "            try:\n",
    "                r = requests.get(f'{t}page/{index}/', cookies = cookies, headers = headers)\n",
    "                break\n",
    "            except:\n",
    "                time.sleep(1.0)\n",
    "                \n",
    "        soup = BeautifulSoup(r.content, \"lxml\")\n",
    "        h3 = soup.find_all('h3', {'class': 'elementor-post__title'})\n",
    "        a = [h3_.find('a').get('href') for h3_ in h3]\n",
    "        if not len(a):\n",
    "            break\n",
    "        \n",
    "        with open(filename, 'w') as fopen:\n",
    "            json.dump(a, fopen)\n",
    "            \n",
    "        index += 1"
   ]
  },
  {
   "cell_type": "code",
   "execution_count": 8,
   "metadata": {},
   "outputs": [
    {
     "data": {
      "text/plain": [
       "'https://www.tech-critter.com/category/featured/page/1/'"
      ]
     },
     "execution_count": 8,
     "metadata": {},
     "output_type": "execute_result"
    }
   ],
   "source": [
    "f'{t}page/{index}/'"
   ]
  },
  {
   "cell_type": "code",
   "execution_count": 9,
   "metadata": {},
   "outputs": [
    {
     "data": {
      "text/plain": [
       "<html><body><p>403 - Forbidden | Access to this page is forbidden.\n",
       "</p></body></html>"
      ]
     },
     "execution_count": 9,
     "metadata": {},
     "output_type": "execute_result"
    }
   ],
   "source": [
    "soup"
   ]
  },
  {
   "cell_type": "code",
   "execution_count": null,
   "metadata": {},
   "outputs": [],
   "source": []
  }
 ],
 "metadata": {
  "kernelspec": {
   "display_name": "Python 3 (ipykernel)",
   "language": "python",
   "name": "python3"
  },
  "language_info": {
   "codemirror_mode": {
    "name": "ipython",
    "version": 3
   },
   "file_extension": ".py",
   "mimetype": "text/x-python",
   "name": "python",
   "nbconvert_exporter": "python",
   "pygments_lexer": "ipython3",
   "version": "3.8.10"
  }
 },
 "nbformat": 4,
 "nbformat_minor": 4
}
