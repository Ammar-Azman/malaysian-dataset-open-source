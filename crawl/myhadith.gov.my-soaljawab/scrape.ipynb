{
 "cells": [
  {
   "cell_type": "code",
   "execution_count": 3,
   "metadata": {},
   "outputs": [],
   "source": [
    "import requests\n",
    "from scrapy.selector import Selector\n",
    "import re\n",
    "from requests_html import HTMLSession\n",
    "import json\n",
    "import time\n",
    "from tqdm import tqdm"
   ]
  },
  {
   "cell_type": "code",
   "execution_count": 184,
   "metadata": {},
   "outputs": [],
   "source": [
    "def parse_page(url):\n",
    "    r = requests.get(url)\n",
    "    items = Selector(r).css('table tbody tr')\n",
    "    for x in items:\n",
    "        temp_data = {}\n",
    "        temp_data['soalan_url'] = \"https://myhadith.islam.gov.my/\" + x.css('a::attr(href)').get()\n",
    "        temp_data['page'] = url.split(\"=\")[-1]\n",
    "        temp_data['soalan'] = x.css('strong::text').get()\n",
    "        jawapan = Selector(requests.get(temp_data['soalan_url'])).css('div.table-responsive tbody td font i::text').get()\n",
    "        if jawapan:\n",
    "            temp_data['jawapan'] = jawapan.replace('\\\\xa0', '')\n",
    "        else:\n",
    "            temp_data['jawapan'] = \"\"\n",
    "        data.append(temp_data)\n",
    "\n",
    "# / need to process url in jawapan"
   ]
  },
  {
   "cell_type": "code",
   "execution_count": 185,
   "metadata": {},
   "outputs": [],
   "source": [
    "data = []\n",
    "for x in range(len(pages) + 1):\n",
    "    parse_page(f\"https://myhadith.islam.gov.my/soaljawab.php?PageNo={x + 1}\")\n",
    "\n",
    "with open('hadith_qna.json', 'w', encoding='utf8') as f:\n",
    "    f.write(json.dumps(data))"
   ]
  },
  {
   "cell_type": "code",
   "execution_count": null,
   "metadata": {},
   "outputs": [],
   "source": []
  }
 ],
 "metadata": {
  "kernelspec": {
   "display_name": "python311env",
   "language": "python",
   "name": "python3"
  },
  "language_info": {
   "codemirror_mode": {
    "name": "ipython",
    "version": 3
   },
   "file_extension": ".py",
   "mimetype": "text/x-python",
   "name": "python",
   "nbconvert_exporter": "python",
   "pygments_lexer": "ipython3",
   "version": "3.11.4"
  }
 },
 "nbformat": 4,
 "nbformat_minor": 2
}
