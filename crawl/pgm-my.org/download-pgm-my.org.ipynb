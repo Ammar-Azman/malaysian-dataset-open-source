{
 "cells": [
  {
   "cell_type": "code",
   "execution_count": 4,
   "id": "f8b789de",
   "metadata": {},
   "outputs": [],
   "source": [
    "import requests\n",
    "from bs4 import BeautifulSoup"
   ]
  },
  {
   "cell_type": "code",
   "execution_count": 6,
   "id": "5c8d7a2c",
   "metadata": {},
   "outputs": [],
   "source": [
    "pages = [\n",
    "    'https://www.pgm-my.org/malaysianjournalofgenetics/december-2022/',\n",
    "    'https://www.pgm-my.org/malaysianjournalofgenetics/december-2021/'\n",
    "]"
   ]
  },
  {
   "cell_type": "code",
   "execution_count": 21,
   "id": "da0251f1",
   "metadata": {},
   "outputs": [],
   "source": [
    "urls = []\n",
    "for p in pages:\n",
    "    r = requests.get(p)\n",
    "    soup = BeautifulSoup(r.content)\n",
    "    a = soup.find_all('a')\n",
    "    a = [a_.get('href') for a_ in a if 'drive.google.com' in a_.get('href') or a_.get('href').endswith('.pdf')]\n",
    "    urls.extend(a)"
   ]
  },
  {
   "cell_type": "code",
   "execution_count": 23,
   "id": "85567416",
   "metadata": {},
   "outputs": [],
   "source": [
    "urls = sorted(list(set(urls)))"
   ]
  },
  {
   "cell_type": "code",
   "execution_count": 22,
   "id": "0eff03fb",
   "metadata": {},
   "outputs": [],
   "source": [
    "!mkdir pgm-my.org"
   ]
  },
  {
   "cell_type": "code",
   "execution_count": 25,
   "id": "d1746330",
   "metadata": {
    "scrolled": true
   },
   "outputs": [
    {
     "name": "stderr",
     "output_type": "stream",
     "text": [
      "  0%|                                                    | 0/12 [00:00<?, ?it/s]Downloading...\n",
      "From: https://drive.google.com/uc?id=18VfD_4s4KnO60aa7ZocCkkz5eKqr1IYx\n",
      "To: /home/husein/ssd3/crawl-my-websites/myjms.mohe.gov.my/pgm-my.org/0.pdf\n",
      "\n",
      "100%|████████████████████████████████████████| 517k/517k [00:00<00:00, 7.13MB/s]\u001b[A\n",
      "  8%|███▋                                        | 1/12 [00:02<00:28,  2.63s/it]Downloading...\n",
      "From: https://drive.google.com/uc?id=1CCNuRoNEUXmsKcYXjXcSyO5IqUsn5wqd\n",
      "To: /home/husein/ssd3/crawl-my-websites/myjms.mohe.gov.my/pgm-my.org/1.pdf\n",
      "\n",
      "100%|████████████████████████████████████████| 404k/404k [00:00<00:00, 6.15MB/s]\u001b[A\n",
      " 17%|███████▎                                    | 2/12 [00:05<00:25,  2.57s/it]Downloading...\n",
      "From: https://drive.google.com/uc?id=1FiOfiCvdiK41VSVvWUwXuSQaiH_tyfPE\n",
      "To: /home/husein/ssd3/crawl-my-websites/myjms.mohe.gov.my/pgm-my.org/2.pdf\n",
      "\n",
      "100%|████████████████████████████████████████| 356k/356k [00:00<00:00, 5.75MB/s]\u001b[A\n",
      " 25%|███████████                                 | 3/12 [00:07<00:21,  2.40s/it]Downloading...\n",
      "From: https://drive.google.com/uc?id=1LwZkrCvsqx_JPXDXWCBObi8cPU9w3mrx\n",
      "To: /home/husein/ssd3/crawl-my-websites/myjms.mohe.gov.my/pgm-my.org/3.pdf\n",
      "\n",
      "100%|████████████████████████████████████████| 393k/393k [00:00<00:00, 6.36MB/s]\u001b[A\n",
      " 33%|██████████████▋                             | 4/12 [00:09<00:19,  2.43s/it]Downloading...\n",
      "From: https://drive.google.com/uc?id=1O5vxXLinlzMW_ZJ9DyYy3zJ6ldsQHLCe\n",
      "To: /home/husein/ssd3/crawl-my-websites/myjms.mohe.gov.my/pgm-my.org/4.pdf\n",
      "\n",
      "  0%|                                                | 0.00/998k [00:00<?, ?B/s]\u001b[A\n",
      "100%|████████████████████████████████████████| 998k/998k [00:00<00:00, 8.03MB/s]\u001b[A\n",
      " 42%|██████████████████▎                         | 5/12 [00:12<00:17,  2.43s/it]Downloading...\n",
      "From: https://drive.google.com/uc?id=1U5cu7hFDGX8_7extL4cvfVSEMjGHCU3q\n",
      "To: /home/husein/ssd3/crawl-my-websites/myjms.mohe.gov.my/pgm-my.org/5.pdf\n",
      "\n",
      "  0%|                                                | 0.00/671k [00:00<?, ?B/s]\u001b[A\n",
      "100%|████████████████████████████████████████| 671k/671k [00:00<00:00, 6.38MB/s]\u001b[A\n",
      " 50%|██████████████████████                      | 6/12 [00:14<00:14,  2.41s/it]Downloading...\n",
      "From: https://drive.google.com/uc?id=1V5Rk36mO2ftEEOSCodWREQ9YY8naVXxB\n",
      "To: /home/husein/ssd3/crawl-my-websites/myjms.mohe.gov.my/pgm-my.org/6.pdf\n",
      "\n",
      "100%|████████████████████████████████████████| 511k/511k [00:00<00:00, 5.12MB/s]\u001b[A\n",
      " 58%|█████████████████████████▋                  | 7/12 [00:17<00:12,  2.43s/it]Downloading...\n",
      "From: https://drive.google.com/uc?id=1WAWv4YGcKCXP3Y3gdBqdHnNlBVU3frzk\n",
      "To: /home/husein/ssd3/crawl-my-websites/myjms.mohe.gov.my/pgm-my.org/7.pdf\n",
      "\n",
      "100%|████████████████████████████████████████| 462k/462k [00:00<00:00, 6.89MB/s]\u001b[A\n",
      " 67%|█████████████████████████████▎              | 8/12 [00:19<00:09,  2.34s/it]Downloading...\n",
      "From: https://drive.google.com/uc?id=1WTaS96NNyoE40sV7a9CM844I5ts_LYPW\n",
      "To: /home/husein/ssd3/crawl-my-websites/myjms.mohe.gov.my/pgm-my.org/8.pdf\n",
      "\n",
      "100%|████████████████████████████████████████| 604k/604k [00:00<00:00, 7.62MB/s]\u001b[A\n",
      " 75%|█████████████████████████████████           | 9/12 [00:21<00:07,  2.40s/it]Downloading...\n",
      "From: https://drive.google.com/uc?id=1h1LNOvvhR6d6xnGioLvlDx4fh7-ngfPt\n",
      "To: /home/husein/ssd3/crawl-my-websites/myjms.mohe.gov.my/pgm-my.org/9.pdf\n",
      "\n",
      "100%|████████████████████████████████████████| 360k/360k [00:00<00:00, 5.98MB/s]\u001b[A\n",
      " 83%|███████████████████████████████████▊       | 10/12 [00:24<00:04,  2.40s/it]Downloading...\n",
      "From: https://drive.google.com/uc?id=1lfB4fY81CFJSZX2BgluEgy63pyIAk-0R\n",
      "To: /home/husein/ssd3/crawl-my-websites/myjms.mohe.gov.my/pgm-my.org/10.pdf\n",
      "\n",
      "100%|████████████████████████████████████████| 369k/369k [00:00<00:00, 5.06MB/s]\u001b[A\n",
      " 92%|███████████████████████████████████████▍   | 11/12 [00:28<00:02,  2.89s/it]Downloading...\n",
      "From (uriginal): https://drive.google.com/uc?id=1zi2zrOl-gZ1ir6Y-YVlHOG8pkgPqLOKo\n",
      "From (redirected): https://drive.google.com/uc?id=1zi2zrOl-gZ1ir6Y-YVlHOG8pkgPqLOKo&confirm=t&uuid=7fc04bd4-9ef2-4313-9bab-e249fd051084\n",
      "To: /home/husein/ssd3/crawl-my-websites/myjms.mohe.gov.my/pgm-my.org/11.pdf\n",
      "\n",
      "100%|████████████████████████████████████████| 412k/412k [00:00<00:00, 5.77MB/s]\u001b[A\n",
      "100%|███████████████████████████████████████████| 12/12 [01:00<00:00,  5.06s/it]\n"
     ]
    }
   ],
   "source": [
    "import os\n",
    "import gdown\n",
    "from tqdm import tqdm\n",
    "\n",
    "for i in tqdm(range(len(urls))):\n",
    "    filename = os.path.join('pgm-my.org', f'{i}.pdf')\n",
    "    if os.path.exists(filename):\n",
    "        continue\n",
    "    \n",
    "    u = urls[i]\n",
    "    gdown.download(output = filename, id = u.split('/d/')[1].split('/')[0])"
   ]
  },
  {
   "cell_type": "code",
   "execution_count": 31,
   "id": "ed23b1a5",
   "metadata": {},
   "outputs": [],
   "source": [
    "from glob import glob\n",
    "from tika import parser\n",
    "import json\n",
    "\n",
    "TIKA_HOST = 'http://localhost:9998'"
   ]
  },
  {
   "cell_type": "code",
   "execution_count": 32,
   "id": "f0619697",
   "metadata": {},
   "outputs": [],
   "source": [
    "files = glob('pgm-my.org/*.pdf')\n",
    "\n",
    "with open('pgm-my.org.jsonl', 'w') as fopen:\n",
    "    for f in files:\n",
    "        raw_xml = parser.from_file(f, TIKA_HOST, xmlContent=True)\n",
    "        body = BeautifulSoup(raw_xml['content']).find('body')\n",
    "        t = '\\n'.join(body.findAll(text=True))\n",
    "        fopen.write(f'{json.dumps(t)}\\n')"
   ]
  },
  {
   "cell_type": "code",
   "execution_count": null,
   "id": "dd8aae57",
   "metadata": {},
   "outputs": [],
   "source": []
  }
 ],
 "metadata": {
  "kernelspec": {
   "display_name": "Python 3 (ipykernel)",
   "language": "python",
   "name": "python3"
  },
  "language_info": {
   "codemirror_mode": {
    "name": "ipython",
    "version": 3
   },
   "file_extension": ".py",
   "mimetype": "text/x-python",
   "name": "python",
   "nbconvert_exporter": "python",
   "pygments_lexer": "ipython3",
   "version": "3.8.10"
  }
 },
 "nbformat": 4,
 "nbformat_minor": 5
}
