{
 "cells": [
  {
   "cell_type": "code",
   "execution_count": 1,
   "metadata": {},
   "outputs": [],
   "source": [
    "import requests\n",
    "from bs4 import BeautifulSoup\n",
    "from tqdm import tqdm\n",
    "import os\n",
    "import json\n",
    "import numpy as np\n",
    "import time\n",
    "import random\n",
    "import json\n",
    "from concurrent.futures import ThreadPoolExecutor, as_completed"
   ]
  },
  {
   "cell_type": "code",
   "execution_count": 2,
   "metadata": {},
   "outputs": [],
   "source": [
    "topics = [\n",
    "    '10',\n",
    "    '12',\n",
    "    '11',\n",
    "    '38',\n",
    "    '3216',\n",
    "    '45',\n",
    "    '48',\n",
    "    '204280',\n",
    "    '15',\n",
    "]"
   ]
  },
  {
   "cell_type": "code",
   "execution_count": 21,
   "metadata": {},
   "outputs": [],
   "source": [
    "r = requests.get('https://www.enanyang.my/api/get/term/articles/10?page=110')"
   ]
  },
  {
   "cell_type": "code",
   "execution_count": 22,
   "metadata": {
    "scrolled": true
   },
   "outputs": [
    {
     "data": {
      "text/plain": [
       "[{'title': '外资对中国政策感不安 亚洲总部纷迁新马',\n",
       "  'channel': '财经新闻',\n",
       "  'link': '/财经新闻/外资对中国政策感不安-亚洲总部纷迁新马',\n",
       "  'clink': '/财经/财经新闻',\n",
       "  'nid': 548343,\n",
       "  'created': '1687364431',\n",
       "  'teaser_image': '/sites/default/files/styles/media_thumbnail/public/2022-09/klcc.jpg?h=52858cbe'},\n",
       " {'title': 'Cypark资源上挑79仙/敏源',\n",
       "  'channel': '行家论股',\n",
       "  'link': '/行家论股/cypark资源上挑79仙敏源',\n",
       "  'clink': '/财经/行家论股',\n",
       "  'nid': 548302,\n",
       "  'created': '1687364431',\n",
       "  'teaser_image': '/sites/default/files/styles/media_thumbnail/public/2023-06/230621cypark.jpg?h=431c1b95'},\n",
       " {'title': '黄守群:新一轮通胀酝酿中 厨业茶酒楼勿贸然起价',\n",
       "  'channel': '财经新闻',\n",
       "  'link': '/财经新闻/黄守群新一轮通胀酝酿中-厨业茶酒楼勿贸然起价',\n",
       "  'clink': '/财经/财经新闻',\n",
       "  'nid': 548350,\n",
       "  'created': '1687364431',\n",
       "  'teaser_image': '/sites/default/files/styles/media_thumbnail/public/2023-06/%E5%A4%A7%E9%A9%AC%E5%A7%91%E8%8B%8F%E5%8E%A8%E4%B8%9A%E8%8C%B6%E9%85%92%E6%A5%BC%E8%81%94%E5%90%88%E6%80%BB%E4%BC%9A.jpg?h=41d28002'},\n",
       " {'title': '热门股:齐力 上挑RM4.88',\n",
       "  'channel': '行家论股',\n",
       "  'link': '/行家论股/热门股齐力-上挑rm488',\n",
       "  'clink': '/财经/行家论股',\n",
       "  'nid': 548303,\n",
       "  'created': '1687364431',\n",
       "  'teaser_image': '/sites/default/files/styles/media_thumbnail/public/2023-06/230621pmetal.jpg?h=97fbae3d'},\n",
       " {'title': '上升股:丰隆银行 阻力RM18.88',\n",
       "  'channel': '行家论股',\n",
       "  'link': '/行家论股/上升股丰隆银行-阻力rm1888-0',\n",
       "  'clink': '/财经/行家论股',\n",
       "  'nid': 548304,\n",
       "  'created': '1687364431',\n",
       "  'teaser_image': '/sites/default/files/styles/media_thumbnail/public/2023-06/230621hlbank.jpg?h=a0bde9d9'},\n",
       " {'title': '下跌股:IHH医疗集团 RM5.74支撑',\n",
       "  'channel': '行家论股',\n",
       "  'link': '/行家论股/下跌股ihh医疗集团-rm574支撑',\n",
       "  'clink': '/财经/行家论股',\n",
       "  'nid': 548305,\n",
       "  'created': '1687364431',\n",
       "  'teaser_image': '/sites/default/files/styles/media_thumbnail/public/2023-06/230621ihh.jpg?h=25fc8d9e'},\n",
       " {'title': '李锦贤:重拾区域投资榜首 政策法规应认真改革',\n",
       "  'channel': '财经新闻',\n",
       "  'link': '/财经新闻/李锦贤重拾区域投资榜首-政策法规应认真改革',\n",
       "  'clink': '/财经/财经新闻',\n",
       "  'nid': 548306,\n",
       "  'created': '1687364431',\n",
       "  'teaser_image': '/sites/default/files/styles/media_thumbnail/public/2023-06/%E6%9D%8E%E9%94%A6%E8%B4%A4_1.jpg?h=cbaf1c60'},\n",
       " {'title': '西华古马:难与邻国比 令吉疲弱工资失吸引力',\n",
       "  'channel': '财经新闻',\n",
       "  'link': '/财经新闻/西华古马难与邻国比-令吉疲弱工资失吸引力',\n",
       "  'clink': '/财经/财经新闻',\n",
       "  'nid': 548328,\n",
       "  'created': '1687364431',\n",
       "  'teaser_image': '/sites/default/files/styles/media_thumbnail/public/2023-06/%E8%A5%BF%E5%8D%8E%E5%8F%A4%E9%A9%AC%28%E4%B8%AD%29%E4%B8%8E%E7%99%BB%E5%98%89%E6%A5%BC%E4%B8%AD%E6%80%BB%E4%BB%A3%E8%A1%A8.jpg?h=8137c218'},\n",
       " {'title': '迎131参展商·国内最大 大马礼品展列纪录大全',\n",
       "  'channel': '财经新闻',\n",
       "  'link': '/财经新闻/迎131参展商·国内最大-大马礼品展列纪录大全',\n",
       "  'clink': '/财经/财经新闻',\n",
       "  'nid': 548337,\n",
       "  'created': '1687364431',\n",
       "  'teaser_image': '/sites/default/files/styles/media_thumbnail/public/2023-06/gifts%20fair-1.jpg?h=fd920bc7'},\n",
       " {'title': '包一雄:航线未全恢复机票贵 旅游业复苏不如预期',\n",
       "  'channel': '财经新闻',\n",
       "  'link': '/财经新闻/包一雄航线未全恢复机票贵-旅游业复苏不如预期',\n",
       "  'clink': '/财经/财经新闻',\n",
       "  'nid': 548339,\n",
       "  'created': '1687364431',\n",
       "  'teaser_image': '/sites/default/files/styles/media_thumbnail/public/2023-06/MITM%202023%20bwlhy01.jpg?h=c4f3d6cc'}]"
      ]
     },
     "execution_count": 22,
     "metadata": {},
     "output_type": "execute_result"
    }
   ],
   "source": [
    "r.json()"
   ]
  },
  {
   "cell_type": "code",
   "execution_count": 24,
   "metadata": {},
   "outputs": [],
   "source": [
    "!mkdir url"
   ]
  },
  {
   "cell_type": "code",
   "execution_count": null,
   "metadata": {},
   "outputs": [
    {
     "name": "stderr",
     "output_type": "stream",
     "text": [
      "377it [04:27,  1.41it/s]\n",
      "397it [05:00,  1.32it/s]\n",
      "289it [03:19,  1.45it/s]\n",
      "19it [00:10,  1.77it/s]\n",
      "2it [00:01,  1.71it/s]\n",
      "7it [00:04,  1.59it/s]\n",
      "52it [00:31,  1.65it/s]\n",
      "13it [00:07,  1.84it/s]\n",
      "19it [00:12,  1.62it/s]"
     ]
    }
   ],
   "source": [
    "def generator():\n",
    "    while True:\n",
    "        yield\n",
    "\n",
    "for t in topics:\n",
    "    index = 1\n",
    "    \n",
    "    for _ in tqdm(generator()):\n",
    "        filename = os.path.join('url', f'{t}-{index}.json')\n",
    "        if os.path.exists(filename):\n",
    "            index += 1\n",
    "            continue\n",
    "        \n",
    "        url = f'https://www.enanyang.my/api/get/term/articles/{t}?page={index}'\n",
    "        r = requests.get(url)\n",
    "        r = r.json()\n",
    "        \n",
    "        if not len(r):\n",
    "            break\n",
    "        \n",
    "        with open(filename, 'w') as fopen:\n",
    "            json.dump(r, fopen)\n",
    "        \n",
    "        index += 1"
   ]
  },
  {
   "cell_type": "code",
   "execution_count": null,
   "metadata": {},
   "outputs": [],
   "source": []
  }
 ],
 "metadata": {
  "kernelspec": {
   "display_name": "Python 3 (ipykernel)",
   "language": "python",
   "name": "python3"
  },
  "language_info": {
   "codemirror_mode": {
    "name": "ipython",
    "version": 3
   },
   "file_extension": ".py",
   "mimetype": "text/x-python",
   "name": "python",
   "nbconvert_exporter": "python",
   "pygments_lexer": "ipython3",
   "version": "3.8.10"
  }
 },
 "nbformat": 4,
 "nbformat_minor": 4
}
