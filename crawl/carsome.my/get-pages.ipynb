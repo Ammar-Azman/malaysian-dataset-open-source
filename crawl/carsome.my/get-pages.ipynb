{
 "cells": [
  {
   "cell_type": "code",
   "execution_count": 1,
   "metadata": {},
   "outputs": [],
   "source": [
    "import requests\n",
    "from bs4 import BeautifulSoup\n",
    "from tqdm import tqdm\n",
    "import os\n",
    "import json\n",
    "import numpy as np\n",
    "import time\n",
    "import random\n",
    "import json\n",
    "from concurrent.futures import ThreadPoolExecutor, as_completed"
   ]
  },
  {
   "cell_type": "code",
   "execution_count": 2,
   "metadata": {},
   "outputs": [
    {
     "data": {
      "text/plain": [
       "948"
      ]
     },
     "execution_count": 2,
     "metadata": {},
     "output_type": "execute_result"
    }
   ],
   "source": [
    "from glob import glob\n",
    "\n",
    "files = glob('url/*.json')\n",
    "urls = []\n",
    "for f in files:\n",
    "    with open(f) as fopen:\n",
    "        urls.extend(json.load(fopen))\n",
    "urls = sorted(list(set(urls)))\n",
    "len(urls)"
   ]
  },
  {
   "cell_type": "code",
   "execution_count": 4,
   "metadata": {},
   "outputs": [],
   "source": [
    "r = requests.get(urls[-1])\n",
    "soup = BeautifulSoup(r.content, \"lxml\")"
   ]
  },
  {
   "cell_type": "code",
   "execution_count": 6,
   "metadata": {},
   "outputs": [
    {
     "data": {
      "text/plain": [
       "'Your Car Based on Your Chinese Zodiac Sign in 2023'"
      ]
     },
     "execution_count": 6,
     "metadata": {},
     "output_type": "execute_result"
    }
   ],
   "source": [
    "soup.find('h1').text"
   ]
  },
  {
   "cell_type": "code",
   "execution_count": 7,
   "metadata": {},
   "outputs": [
    {
     "data": {
      "text/plain": [
       "'https://www.carsome.my/news/item/zodiac-sign-cars'"
      ]
     },
     "execution_count": 7,
     "metadata": {},
     "output_type": "execute_result"
    }
   ],
   "source": [
    "urls[-1]"
   ]
  },
  {
   "cell_type": "code",
   "execution_count": 11,
   "metadata": {},
   "outputs": [
    {
     "data": {
      "text/plain": [
       "['',\n",
       " '\\n\\n\\n\\n\\n\\n\\n\\n\\n\\n\\n\\n\\n\\n\\n',\n",
       " '',\n",
       " '\\n\\n\\n\\n\\n\\n\\n\\n\\n\\n\\n\\n\\n\\n\\n',\n",
       " 'Search',\n",
       " 'Home\\nLifestyle\\nYour Car Based on Your Chinese Zodiac Sign in 2023',\n",
       " 'Your Car Based on Your Chinese Zodiac Sign in 2023',\n",
       " 'By\\n \\nDevan S',\n",
       " '11/01/2023',\n",
       " '\\n\\n\\n\\n\\n',\n",
       " 'The Chinese Lunar New Year is upon us and that means it’s time for celebration! It’s also the time to welcome new things into your life for an excellent start to the year, so if you’ve been thinking of upgrading your car, now is the perfect time. We’ve come up with a fun list of cars for your Chinese zodiac sign in 2023 to help make your celebrations more joyous. And who knows, it might just help you find the right car.\\n\\n\\nA little fact – the Chinese zodiac signs are a big part of Chinese culture and have been used for over 2000 years to calculate and represent the years in a 12-year cycle of the Chinese calendar. The animals of the zodiac with their unique personalities have significant roles in Chinese stories and folklore. The zodiac is so important that many people use it as a guide in various aspects of their lives from health to career.\\n\\n\\nFeng Shui experts believe that overall, 2023 will be an auspicious year for most people. However, some zodiac signs may face some financial risks which may influence their choice of car. When choosing your car, also pay attention to the color. Auspicious colors for the Year of the Rabbit include azure blue, apple green, red, and yellow. If you’re worried about choosing the right car, don’t fret, here’s a list of cars that complement your Chinese zodiac sign.\\n\\n\\nThe Rat\\xa0\\n\\n\\nBirth Years: \\n1948, 1960, 1972, 1984, 1996, 2008, 2020\\n\\n\\n\\n\\nThe first animal of the Chinese zodiac, the Rat is quick-witted, charming, resourceful, persuasive, and kind. It’s adaptable and popular in social circles and can make the most out of bad situations. The Rat may face financial stress in 2023 so it’s best to get an affordable, easy-to-maintain car. And the perfect car to represent the Rat is the \\nPerodua Myvi\\n. Consistently clinching the title of Malaysia’s best-selling car, the Myvi is versatile and agile in the city, just like the Rat.\\xa0\\n\\n\\nSince its launch in 2005, the Myvi has continually been favored for its ample space, affordability, and versatile seating arrangement that fits items of various sizes. The third-generation Myvi even boasts \\nPerodua’s\\n Advanced Safety Assist (A.S.A.) system with adaptive cruise control (ACC), rear cross-traffic alert (RCTA), and pre-collision braking, just to name a few. That said, with how versatile and affordable the Myvi is, it’s actually a great car for all zodiac signs.\\n\\n\\nThe Ox\\n\\n\\nBirth Years: \\n1949, 1961, 1973, 1985, 1997, 2009, 2021\\n\\n\\n\\n\\nKind, patient, stubborn, with a strong sense of responsibility, the Ox is a good leader. They calmly work through whatever life throws at them but they also enjoy making an impact. Like the Rat, the Ox may also face financial stress this year and should be careful how they spend their money.\\xa0\\n\\n\\nThe right car for the Ox should be affordable and reliable, being able to do whatever is needed of it, like the \\nHonda HR-V\\n. The HR-V is large enough for the average family and has Honda’s Magic Seats that allow for multiple seating configurations. It also has ample creature comfort and \\nsafety features\\n like rear air conditioning vents and USB charging ports, Apple Carplay, Android Auto, six airbags, and the Honda SENSING advanced safety suite.\\n\\n\\nRead More: \\n6 Levels of Autonomous Driving Explained\\n\\n\\nThe Tiger\\n\\n\\nBirth Years: \\n1950, 1962, 1974, 1986, 1998, 2010, 2022\\n\\n\\n\\n\\nThe Tiger is authoritative, courageous, intense, and independent. Tigers are known for always looking for excitement, so they need an eye-catching, sporty car like the Porche 718 Cayman. Masterfully built with German technology, the Cayman can be had with a 2.0 or 2.5-liter turbocharged four-cylinder engine or a 4.0-liter turbocharged six-cylinder engine promising performance that never fails to put a grin on your face.\\xa0\\n\\n\\nPorsche’s sports suspension, coupled with a six-speed manual or an automatic PDK transmission provides not only comfort but also an engaging drive when you want it. There’s also no shortage of colors on the Cayman with colors like Guards Red, Racing Yellow, and Miami Blue being some colors that can be auspicious this year.\\n\\n\\nThe Rabbit\\n\\n\\nBirth Years: \\n1951, 1963, 1975, 1987, 1999, 2011, 2023\\n\\n\\n\\n\\nThe Rabbit is sincere, compassionate, and elegant. It represents tenderness and grace, preferring to avoid confrontations and make friends instead of enemies. The Rabbit is also quick, efficient, and slow to anger. Hence, a suitable car for this Chinese zodiac sign would be the Ora Good Cat, an \\nelectric vehicle\\n (EV) manufactured by Great Wall Motors (GWM).\\xa0\\n\\n\\nLaunched in Malaysia just in November 2022, the Ora Good Cat is available with two battery capacities. The 400 Pro gets a 47.8 kWh battery capable of a 400km range while the 500 Ultra gets a larger 63.1 kWh battery for up to 500 km of range. It has all the features you’d want in a car including a 10.25-inch infotainment unit, lane keep assist, blind spot detection, and a 360-degree camera. Plus, its elegant curves, modern lighting design, and colorful interior should make the stylish Rabbit perfectly happy.\\n\\n\\nThe Dragon\\n\\n\\nBirth Years: \\n1940, 1952, 1964, 1976, 1988, 2000, 2012\\n\\n\\n\\n\\nEnergetic, charismatic, fearless, and warm-hearted, Dragons are intellectual and lively people. They have a wide circle of friends and enjoy an adventure. For the charismatic Dragon, the BMW 3 Series offers a good balance of power, style, comfort, and practicality to ensure the Dragon can arrive wherever they’re going to in understated style.\\xa0\\n\\n\\nThe 3-Series is available in three variants – the naturally aspirated \\n320i\\n and \\n330i\\n as well as the plug-in hybrid \\n330e\\n. All variants are powered by a 2.0-liter turbocharged engine with different tuning, each promising enough power for spirited driving, especially when coupled with \\nBMW’s\\n rear-wheel drive. Additionally, the plush interior and advanced features such as BMW OS infotainment system and Live Cockpit multi-info display create an upscale driving experience indeed.\\n\\n\\nRead More: \\nHydrogen Cars: Pros, Cons, & Everything You Need to Know\\n\\n\\nThe Snake\\n\\n\\nBirth Years:\\n 1941, 1953, 1965, 1977, 1989, 2001, 2013\\n\\n\\n\\n\\nCharming, introverted, generous, and smart, Snakes always follow their instincts and strive for perfection. Snakes are also funny, witty, and creative. This zodiac sign appreciates a balanced car that’s reliable, practical, and still enjoyable to drive. And the \\nToyota\\n Corolla Cross Hybrid could be perfect for them.\\xa0\\n\\n\\nIt has a sufficiently punchy yet economical powertrain, ample space for the family, and handles like a smaller car thanks to its Toyota New Global Architecture (TNGA) platform. It also has the necessary creature comfort features like rear air conditioning vents and reclining rear seats, along with the Toyota Safety Sense (TSS) 2.0 advanced driver assistance system (ADAS) making it a great \\nSUV\\n.\\n\\n\\nThe Horse\\n\\n\\nBirth Years: \\n1942, 1954, 1966, 1978, 1990, 2002, 2014\\n\\n\\n\\n\\nThe Horse is energetic, ambitious, independent, and enjoys traveling. They are usually warm-hearted and easy-going which explains their positive attitude in the face of difficulties. Arguably the most adventurous on this Chinese zodiac list, the Horse deserves a car like the \\nSubaru XV\\n.\\xa0\\n\\n\\nThis SUV comes with a 2.0-liter four-cylinder flat boxer engine and a symmetrical all-wheel drive for performance both on and off the road. The boxer engine also allows the Subaru XV to be sleeker, with a lower center of gravity than other SUVs giving it a more dynamic driving prowess. Like most modern cars, the XV also has ADAS in the form of Subaru Eyesight, making it a great car for trips with family and friends.\\n\\n\\nThe Sheep\\n\\n\\nBirth Years: \\n1943, 1955, 1967, 1979, 1991, 2003, 2015\\n\\n\\n\\n\\nMild-mannered, shy, kind, and peace-loving, the Sheep also values quiet living and dependability. They are artistic and good at managing time and resources, so a refined, economical car like the \\nHonda City\\n Hybrid makes a good match for them. The City Hybrid has a 1.5-liter engine paired with a torquey electric motor giving it excellent acceleration in all conditions.\\xa0\\n\\n\\nAnd being a \\nhybrid\\n, it sips fuel at a claimed combined fuel economy of 3.6 L/100 km. Although it’s a B-segment \\nsedan\\n, the City Hybrid is packed with upscale features such as leather upholstery, ‘Sport’ pedals, Honda SENSING, and Honda CONNECT which allows you to monitor your car’s information on your mobile device.\\n\\n\\nRead More:\\n \\nTurn Your Car Into a Feng Shui Machine This Year of the Rabbit!\\n\\n\\nThe Monkey\\n\\n\\nBirth Years: \\n1944, 1956, 1968, 1980, 1992, 2004, 2016\\n\\n\\n\\n\\nOut of all the Chinese Zodiac signs on this list, the Monkey is the most energetic, fun, and active. They’re also intelligent in their career, and are adaptable. That’s why they need a dynamic and flexible car like the \\nProton X50\\n. As the Monkey may face challenges at work this year, getting an affordable vehicle like the X50 can also help them keep costs down.\\xa0\\n\\n\\nThe X50 provides heaps of fun on the road with its 1.5-liter turbocharged engine paired with Proton’s ride and handling. It’s also eye-catching coming in multiple colors including blue and red, which are auspicious in this Year of the Rabbit. Other features that make the X50 excellent to live with include the six-way adjustable power driver seat, multiple drive modes, and on the range-topping variant, a 10.25-inch infotainment display.\\n\\n\\nThe Rooster\\n\\n\\nBirth Years: \\n1945, 1957, 1969, 1981, 1993, 2005, 2017\\n\\n\\n\\n\\nIndependent, practical, hard-working, and observant, roosters are known to be honest, communicative, and ambitious. They also have an innate sense of style and take pride in their appearance. The Rooster may not have the best money-making luck in 2023 but as they might need to travel more for work, they still need a good car.\\n\\n\\nThe \\nPerodua Ativa\\n makes sense for the Rooster as it’s economical, comfortable, and stands out on the road. Although it’s a compact SUV, it has ample legroom, cup holders, a nine-inch infotainment display, and rear seats that can fold fully flat to easily accommodate large luggage. Its 1.0-liter turbocharged engine also means it’s very economical with a fuel consumption of 5.3 L/100 km.\\n\\n\\nRead More: \\nCan Your Car Tires Expire?\\n\\n\\nThe Dog\\n\\n\\nBirth Years: \\n1946, 1958, 1970, 1982, 1994, 2006, 2018\\n\\n\\n\\n\\nPatient, kind, generous, diligent, and faithful, the Dog has the attributes to face life’s daily challenges head-on. They’re also sincere, decisive, and value relationships which leads them to create harmonious connections with other people. As the dog values family and friends, the perfect car for this zodiac sign would be the \\nPerodua Alza\\n.\\n\\n\\nThe 2022 Alza, based on the Toyota Veloz has ample space for seven adults to travel in comfort. It also has multiple USB ports and 12V power sockets, as well as ceiling-mounted rear aircon vents for the rear passengers’ comfort. It doesn’t compromise on safety either thanks to the onboard A.S.A system.\\n\\n\\nThe Pig\\n\\n\\nBirth Years: \\n1947, 1959, 1971, 1983, 1995, 2007, 2019\\n\\n\\n\\n\\nThe Pig is loving, tolerant, honest, and appreciates the finer things in life. They tend to show generosity and mercy towards the shortcomings of others and like to work to create strong, lasting relationships. Since money is no issue for the Pig this year, they will undoubtedly enjoy owning a sophisticated sedan like the \\nToyota Camry\\n.\\n\\n\\nNo longer an uncle’s car, the 2022 Toyota Camry’s 2.5-liter engine and TNGA platform provide a planted and sporty drive. Inside, it has a luxurious design with a 10-inch color head-up display (HUD), power-adjustable steering wheel, tri-zone automatic climate control, and power reclining rear seats. With these features, the Camry is a car that any ‘boss’ will appreciate.\\n\\n\\nWe hope this list can help you find the right car for your Chinese zodiac and personality while also giving you something fun to think about. From all of us at CARSOME we would like to wish you a very auspicious Chinese New Year.\\n\\n\\nIf you’re looking for a pre-owned car in time for the celebrations, check out \\nCARSOME\\n or download our app from the \\nGoogle Play Store\\n or \\nApple App Store today\\n!\\n\\n',\n",
       " 'Devan S\\nDevan believes written content is here to stay despite our depleting attention span and the rise of short videos. He loves four and two-wheeled vehicles, and movies of all makes and models.',\n",
       " '',\n",
       " '\\n\\n\\n\\n\\n\\n\\n\\n\\n\\n\\n\\n\\n\\n\\n']"
      ]
     },
     "execution_count": 11,
     "metadata": {},
     "output_type": "execute_result"
    }
   ],
   "source": [
    "divs = soup.find_all('div', {'class': 'tdb-block-inner td-fix-index'})\n",
    "divs = [div.get_text(separator=\"\\n\") for div in divs]\n",
    "divs"
   ]
  },
  {
   "cell_type": "code",
   "execution_count": 12,
   "metadata": {},
   "outputs": [],
   "source": [
    "!rm -rf page\n",
    "!mkdir page"
   ]
  },
  {
   "cell_type": "code",
   "execution_count": 13,
   "metadata": {},
   "outputs": [
    {
     "name": "stderr",
     "output_type": "stream",
     "text": [
      "948it [07:39,  2.06it/s]\n"
     ]
    }
   ],
   "source": [
    "for no, url in tqdm(enumerate(urls)):\n",
    "    filename = os.path.join('page', f'{no}.json')\n",
    "    if os.path.exists(filename):\n",
    "        continue\n",
    "    \n",
    "    while True:\n",
    "        try:\n",
    "            r = requests.get(url)\n",
    "            break\n",
    "        except:\n",
    "            time.sleep(1.0)\n",
    "            \n",
    "    soup = BeautifulSoup(r.content, \"lxml\")\n",
    "    \n",
    "    try:\n",
    "        title = soup.find('h1').text\n",
    "    except:\n",
    "        title = None\n",
    "    \n",
    "    try:\n",
    "        divs = soup.find_all('div', {'class': 'tdb-block-inner td-fix-index'})\n",
    "        body = [div.get_text(separator=\"\\n\") for div in divs]\n",
    "    except:\n",
    "        body = None\n",
    "\n",
    "    data = {\n",
    "        'url': url,\n",
    "        'title': title,\n",
    "        'body': body,\n",
    "    }\n",
    "    with open(filename, 'w') as fopen:\n",
    "        json.dump(data, fopen)"
   ]
  },
  {
   "cell_type": "code",
   "execution_count": 14,
   "metadata": {},
   "outputs": [
    {
     "data": {
      "text/plain": [
       "948"
      ]
     },
     "execution_count": 14,
     "metadata": {},
     "output_type": "execute_result"
    }
   ],
   "source": [
    "files = sorted(glob('page/*.json'))\n",
    "len(files)"
   ]
  },
  {
   "cell_type": "code",
   "execution_count": 15,
   "metadata": {},
   "outputs": [
    {
     "name": "stderr",
     "output_type": "stream",
     "text": [
      "100%|███████████████████████████████████████| 948/948 [00:00<00:00, 7292.76it/s]\n"
     ]
    }
   ],
   "source": [
    "with open('data.jsonl', 'w') as fopen_l:\n",
    "    for f in tqdm(files):\n",
    "        with open(f) as fopen:\n",
    "            data = json.load(fopen)\n",
    "        \n",
    "        if not len(data):\n",
    "            continue\n",
    "        \n",
    "        fopen_l.write(f'{json.dumps(data)}\\n')"
   ]
  }
 ],
 "metadata": {
  "kernelspec": {
   "display_name": "Python 3 (ipykernel)",
   "language": "python",
   "name": "python3"
  },
  "language_info": {
   "codemirror_mode": {
    "name": "ipython",
    "version": 3
   },
   "file_extension": ".py",
   "mimetype": "text/x-python",
   "name": "python",
   "nbconvert_exporter": "python",
   "pygments_lexer": "ipython3",
   "version": "3.8.10"
  }
 },
 "nbformat": 4,
 "nbformat_minor": 4
}
