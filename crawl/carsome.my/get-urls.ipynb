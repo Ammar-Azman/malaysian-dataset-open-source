{
 "cells": [
  {
   "cell_type": "code",
   "execution_count": 1,
   "metadata": {},
   "outputs": [],
   "source": [
    "import requests\n",
    "from bs4 import BeautifulSoup\n",
    "from tqdm import tqdm\n",
    "import os\n",
    "import json\n",
    "import numpy as np\n",
    "import time\n",
    "import random\n",
    "import json\n",
    "from concurrent.futures import ThreadPoolExecutor, as_completed\n",
    "from datetime import datetime, timedelta"
   ]
  },
  {
   "cell_type": "code",
   "execution_count": 2,
   "metadata": {},
   "outputs": [],
   "source": [
    "categories = [\n",
    "    'https://www.carsome.my/news/item/category/bm',\n",
    "    'https://www.carsome.my/news/item/category/car-tips',\n",
    "    'https://www.carsome.my/news/item/category/buying-a-car',\n",
    "    'https://www.carsome.my/news/item/category/selling-your-car',\n",
    "    'https://www.carsome.my/news/item/category/car-reviews',\n",
    "    'https://www.carsome.my/news/item/category/law-procedures',\n",
    "    'https://www.carsome.my/news/item/category/automotive',\n",
    "    'https://www.carsome.my/news/item/category/lifestyle'\n",
    "]"
   ]
  },
  {
   "cell_type": "code",
   "execution_count": 3,
   "metadata": {},
   "outputs": [],
   "source": [
    "r = requests.get(categories[0])\n",
    "soup = BeautifulSoup(r.content, \"lxml\")"
   ]
  },
  {
   "cell_type": "code",
   "execution_count": 8,
   "metadata": {},
   "outputs": [
    {
     "data": {
      "text/plain": [
       "27"
      ]
     },
     "execution_count": 8,
     "metadata": {},
     "output_type": "execute_result"
    }
   ],
   "source": [
    "try:\n",
    "    page_num = int(soup.find('a', {'class':\"last\"}).text.strip())\n",
    "except:\n",
    "    page_num = 1\n",
    "    \n",
    "page_num"
   ]
  },
  {
   "cell_type": "code",
   "execution_count": 5,
   "metadata": {},
   "outputs": [
    {
     "data": {
      "text/plain": [
       "'27'"
      ]
     },
     "execution_count": 5,
     "metadata": {},
     "output_type": "execute_result"
    }
   ],
   "source": [
    "soup.find('a', {'class':\"last\"}).text"
   ]
  },
  {
   "cell_type": "code",
   "execution_count": 11,
   "metadata": {},
   "outputs": [],
   "source": [
    "a = soup.find_all('a', {'rel':\"bookmark\"})\n",
    "a = [a_.get('href') for a_ in a]"
   ]
  },
  {
   "cell_type": "code",
   "execution_count": 12,
   "metadata": {},
   "outputs": [],
   "source": [
    "!rm -rf url\n",
    "!mkdir url"
   ]
  },
  {
   "cell_type": "code",
   "execution_count": 14,
   "metadata": {},
   "outputs": [
    {
     "name": "stderr",
     "output_type": "stream",
     "text": [
      "100%|███████████████████████████████████████████| 27/27 [00:18<00:00,  1.46it/s]\n",
      "100%|███████████████████████████████████████████| 26/26 [00:17<00:00,  1.46it/s]\n",
      "100%|█████████████████████████████████████████████| 8/8 [00:04<00:00,  1.89it/s]\n",
      "100%|█████████████████████████████████████████████| 5/5 [00:03<00:00,  1.61it/s]\n",
      "100%|███████████████████████████████████████████| 10/10 [00:06<00:00,  1.54it/s]\n",
      "100%|█████████████████████████████████████████████| 1/1 [00:00<00:00,  2.76it/s]\n",
      "100%|█████████████████████████████████████████████| 9/9 [00:05<00:00,  1.66it/s]\n",
      "100%|███████████████████████████████████████████| 30/30 [00:21<00:00,  1.40it/s]\n"
     ]
    }
   ],
   "source": [
    "for t in categories:\n",
    "    t_ = t.split('my/')[1].replace('/', '-')\n",
    "    r = requests.get(t)\n",
    "    soup = BeautifulSoup(r.content, \"lxml\")\n",
    "    try:\n",
    "        page_num = int(soup.find('a', {'class':\"last\"}).text.strip())\n",
    "    except:\n",
    "        page_num = 1\n",
    "    \n",
    "    for index in tqdm(range(1, page_num + 1, 1)):\n",
    "        filename = os.path.join('url', f'{t_}-{index}.json')\n",
    "        if os.path.exists(filename):\n",
    "            continue\n",
    "        url = f'{t}/page/{index}/'\n",
    "        r = requests.get(url)\n",
    "        soup = BeautifulSoup(r.content, \"lxml\")\n",
    "        \n",
    "        a = soup.find_all('a', {'rel':\"bookmark\"})\n",
    "        a = [a_.get('href') for a_ in a]\n",
    "\n",
    "        with open(filename, 'w') as fopen:\n",
    "            json.dump(a, fopen)       "
   ]
  },
  {
   "cell_type": "code",
   "execution_count": null,
   "metadata": {},
   "outputs": [],
   "source": []
  }
 ],
 "metadata": {
  "kernelspec": {
   "display_name": "Python 3 (ipykernel)",
   "language": "python",
   "name": "python3"
  },
  "language_info": {
   "codemirror_mode": {
    "name": "ipython",
    "version": 3
   },
   "file_extension": ".py",
   "mimetype": "text/x-python",
   "name": "python",
   "nbconvert_exporter": "python",
   "pygments_lexer": "ipython3",
   "version": "3.8.10"
  }
 },
 "nbformat": 4,
 "nbformat_minor": 4
}
