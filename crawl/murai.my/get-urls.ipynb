{
 "cells": [
  {
   "cell_type": "code",
   "execution_count": 1,
   "metadata": {},
   "outputs": [],
   "source": [
    "import requests\n",
    "from bs4 import BeautifulSoup\n",
    "from tqdm import tqdm\n",
    "import os\n",
    "import json\n",
    "import numpy as np\n",
    "import time\n",
    "import random\n",
    "import json"
   ]
  },
  {
   "cell_type": "code",
   "execution_count": 2,
   "metadata": {},
   "outputs": [],
   "source": [
    "topics = [\n",
    "    'https://murai.my/selebriti/',\n",
    "    'https://murai.my/gossip/',\n",
    "    'https://murai.my/filem/',\n",
    "    'https://murai.my/tech/',\n",
    "    'https://murai.my/jalan-jalan/',\n",
    "    'https://murai.my/makanan/'\n",
    "]"
   ]
  },
  {
   "cell_type": "code",
   "execution_count": 18,
   "metadata": {},
   "outputs": [],
   "source": [
    "!rm -rf url\n",
    "!mkdir url"
   ]
  },
  {
   "cell_type": "code",
   "execution_count": 19,
   "metadata": {},
   "outputs": [
    {
     "name": "stderr",
     "output_type": "stream",
     "text": [
      "100%|███████████████████████████████████████| 833/833 [1:22:15<00:00,  5.92s/it]\n",
      "100%|█████████████████████████████████████████| 399/399 [36:19<00:00,  5.46s/it]\n",
      "100%|███████████████████████████████████████████| 96/96 [09:27<00:00,  5.91s/it]\n",
      "100%|███████████████████████████████████████████| 64/64 [06:42<00:00,  6.29s/it]\n",
      "100%|███████████████████████████████████████████| 54/54 [05:27<00:00,  6.06s/it]\n",
      "100%|█████████████████████████████████████████████████████████████████████████████████████████████| 33/33 [03:36<00:00,  6.56s/it]\n"
     ]
    }
   ],
   "source": [
    "for t in topics:\n",
    "    t_ = t.split('my/')[1].replace('/', '-')\n",
    "    r = requests.get(t)\n",
    "    soup = BeautifulSoup(r.content, \"lxml\")\n",
    "    nums = []\n",
    "    for a_ in soup.find_all('a', {'class': 'page_number'}):\n",
    "        try:\n",
    "            nums.append(int(a_.text))\n",
    "        except:\n",
    "            pass\n",
    "        \n",
    "    if len(nums):\n",
    "        num_page = max(nums)\n",
    "    else:\n",
    "        num_page = 1\n",
    "    \n",
    "    for index in tqdm(range(1, num_page + 1, 1)):\n",
    "        filename = os.path.join('url', f'{t_}-{index}.json')\n",
    "        if os.path.exists(filename):\n",
    "            continue\n",
    "        url = f'{t}page/{index}/'\n",
    "        r = requests.get(url)\n",
    "        soup = BeautifulSoup(r.content, \"lxml\")\n",
    "        \n",
    "        a = soup.find_all('article')\n",
    "        a = [a_.find('a').get('href') for a_ in a]\n",
    "\n",
    "        with open(filename, 'w') as fopen:\n",
    "            json.dump(a, fopen)       "
   ]
  },
  {
   "cell_type": "code",
   "execution_count": null,
   "metadata": {},
   "outputs": [],
   "source": []
  }
 ],
 "metadata": {
  "kernelspec": {
   "display_name": "Python 3 (ipykernel)",
   "language": "python",
   "name": "python3"
  },
  "language_info": {
   "codemirror_mode": {
    "name": "ipython",
    "version": 3
   },
   "file_extension": ".py",
   "mimetype": "text/x-python",
   "name": "python",
   "nbconvert_exporter": "python",
   "pygments_lexer": "ipython3",
   "version": "3.8.10"
  }
 },
 "nbformat": 4,
 "nbformat_minor": 4
}
