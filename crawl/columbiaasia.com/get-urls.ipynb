{
 "cells": [
  {
   "cell_type": "code",
   "execution_count": 1,
   "metadata": {},
   "outputs": [],
   "source": [
    "import requests\n",
    "from bs4 import BeautifulSoup\n",
    "from tqdm import tqdm\n",
    "import os\n",
    "import json\n",
    "import numpy as np\n",
    "import time\n",
    "import random\n",
    "import json\n",
    "import urllib3\n",
    "urllib3.disable_warnings(urllib3.exceptions.InsecureRequestWarning)"
   ]
  },
  {
   "cell_type": "code",
   "execution_count": 2,
   "metadata": {},
   "outputs": [],
   "source": [
    "r = requests.get('https://www.columbiaasia.com/malaysia/health-articles')\n",
    "soup = BeautifulSoup(r.content, \"lxml\")"
   ]
  },
  {
   "cell_type": "code",
   "execution_count": 10,
   "metadata": {},
   "outputs": [
    {
     "name": "stderr",
     "output_type": "stream",
     "text": [
      "100%|███████████████████████████████████████████| 65/65 [01:11<00:00,  1.10s/it]\n"
     ]
    }
   ],
   "source": [
    "all_a = []\n",
    "for i in tqdm(range(65)):\n",
    "    r = requests.get(f'https://www.columbiaasia.com/malaysia/health-articles?page={i}')\n",
    "    soup = BeautifulSoup(r.content, \"lxml\")\n",
    "    h5 = soup.find_all('h5', {'class':\"media-heading\"})\n",
    "    a = [h5_.find('a').get('href') for h5_ in h5]\n",
    "    all_a.extend(a)"
   ]
  },
  {
   "cell_type": "code",
   "execution_count": 13,
   "metadata": {},
   "outputs": [],
   "source": [
    "all_a = sorted(list((set(all_a))))"
   ]
  },
  {
   "cell_type": "code",
   "execution_count": 14,
   "metadata": {},
   "outputs": [
    {
     "data": {
      "text/plain": [
       "'/malaysia/health-articles/%E5%8D%B5%E5%B7%A2%E7%99%8C-%E9%9A%BE%E7%BC%A0%E7%9A%84%E5%A6%87%E5%A5%B3%E6%9D%80%E6%89%8B-%E6%80%8E%E5%8F%91%E7%8E%B0%EF%BC%9F%E6%80%8E%E6%B2%BB%E7%96%97%EF%BC%9F'"
      ]
     },
     "execution_count": 14,
     "metadata": {},
     "output_type": "execute_result"
    }
   ],
   "source": [
    "all_a[0]"
   ]
  },
  {
   "cell_type": "code",
   "execution_count": 15,
   "metadata": {},
   "outputs": [],
   "source": [
    "r = requests.get('https://www.columbiaasia.com' + all_a[0])\n",
    "soup = BeautifulSoup(r.content, \"lxml\")"
   ]
  },
  {
   "cell_type": "code",
   "execution_count": 18,
   "metadata": {},
   "outputs": [
    {
     "data": {
      "text/plain": [
       "'卵巢癌 | 难缠的妇女杀手 怎发现？怎治疗？'"
      ]
     },
     "execution_count": 18,
     "metadata": {},
     "output_type": "execute_result"
    }
   ],
   "source": [
    "soup.find('h1').text"
   ]
  },
  {
   "cell_type": "code",
   "execution_count": 20,
   "metadata": {},
   "outputs": [
    {
     "data": {
      "text/plain": [
       "'\\n\\n\\n\\n卵巢癌 | 难缠的妇女杀手 怎发现？怎治疗？\\n\\n\\n \\n\\n\\n\\n\\nMay 29, 2023\\n \\n\\xa0\\xa0\\n\\n相比更高发的乳腺癌，卵巢癌被大家较少关注。可怕的是，卵巢癌早期几乎没有症状，半数以上的卵巢癌患者确诊时已处于晚期！12年生存率仅20%！我国女性55岁以后卵巢癌发病率最高，到底该如何对抗这个难缠的妇女杀手？\\xa0\\n\\n卵巢是连接子宫两端的器官，具有储存卵子供生殖和产生女性激素的双重功能。女性激素在青春期协助乳房、阴道、子宫、输卵管和身材的发育，并调节月经周期。当卵巢细胞发生病变，在卵巢各部位长出恶性肿瘤，就被称为——\\n卵巢癌 (Ovarian cancer)。\\n\\xa0\\n\\xa0\\xa0\\n\\n根据大马 2012年至2016 年国家癌症登记（NCR），恶性卵巢肿瘤在女性最常见癌症排名第四，在总体最常见癌症排名第十。根据大马癌症注册局，卵巢癌占据女性癌症案例的 5%。根据世界卫生组织的数据，马来西亚在2021年共记录了 48,639 例新的癌症病例。预计到 2040 年，发病率将翻倍。每年大约有 500 名马来西亚妇女被诊断为卵巢癌。\\xa0\\n\\n令人震惊的是，马来天后级女星艾蒂芭诺（Adibah Noor）于2022 年惊传卵巢癌末期逝世，终生未婚无生育，享年 51 岁，令人深感惋惜。根据马来媒体报导，她早在 50 岁时发现自己患有卵巢癌，并已进入第四期，但一直没有对外宣布消息。\\xa0\\n\\n她的离去，无疑给女性健康敲响了警钟！\\xa0\\n\\n女性该如何对抗这个难缠的妇女杀手？\\n\\n\\n1. 卵巢癌的可怕之处？\\n\\n\\n不幸的是，卵巢癌的大多数症状并没有非常明显。这类的女性患者在早期的时候一般无症状。 但可怕的是，一旦女性被诊断出卵巢癌，多数已经是晚期了。\\xa0\\n\\n\\n此外，不同于宫颈癌的宫颈抹片检查（Pap smear），目前没有特定的筛查工具或测试来查出卵巢癌。\\xa0\\n\\n\\n这也是为什么医生经常重复劝告大家：当身体有任何异常症状，或某种症状有持续经常出现，及早和医生报告是非常重要的。\\n\\xa0\\n\\n\\n2. 50岁女性属于卵巢癌的高风险群吗？\\n\\n\\n所有女性都有患上卵巢癌的风险，无论你处在哪一年龄层的阶段。然而，在55岁至64岁之间的女性中，她们患癌风险的确是最高的。\\xa0\\n\\n\\n3. 确诊卵巢癌第四期，意味着？\\n\\n\\n卵巢癌一共分为四期，第四期的卵巢癌意味着疾病已经远端扩散到肝脏，或转移到腹腔外部的器官。\\xa0\\n\\n\\n【卵巢癌的四期】\\n\\n\\n一期\\n：癌症限制于一个或两个卵巢；\\n\\n\\n二期\\n：癌症在一个卵巢或两个卵巢以外，不过没有扩散到盆骨以外，如：子宫、胆囊、大肠；\\n\\n\\n三期\\n：一个或两个卵巢的癌症扩散到盆骨以外的腹腔（还未到肝脏）或到附近淋巴结；\\n\\n\\n四期\\n：癌症已扩散到身体其他部位，如：肝脏、肺和脑。\\n\\n\\n\\n\\xa0\\n\\n\\n4. 卵巢癌主要常见发生在未生育女性身上吗？\\n\\n\\n未生育与特定的生殖恶性肿瘤，包括乳腺癌、卵巢癌和子宫癌的风险增加有关。\\xa0\\n\\n\\n卵巢癌或与女性排卵次数和激素水平有关。\\xa0\\n\\n\\n5. 孕妇是否更容易患卵巢癌？\\n\\n\\n怀孕本身不会导致癌症，怀孕并不会增加患癌症的风险。\\xa0\\n\\n\\n6. 卵巢癌可治愈吗？\\n\\n\\n是的，卵巢癌是可以治愈的。如果疾病在早期被检测发现到，并且癌细胞仅限于卵巢部位，相信高达90%的患者可以被治愈。\\xa0\\n\\n\\n根据数据显示，大约20%的晚期卵巢癌患者在治疗后能够存活12年以上，并有效地被治愈。\\xa0\\n\\n\\n\\xa0\\xa0\\n\\n7. 女性应采取哪些预防方法？\\n\\n\\n想要预防或大大降低卵巢癌风险的有效方法：一切始于你要先了解卵巢癌的风险因素。 Columbia Asia 医院 – Bukit Rimau分院的 \\nDr Loo Suat Chin 妇产专科顾问医生\\n介绍，其中不可变的卵巢癌高风险因素，主要是\\n年龄\\n 或 \\n家族遗传\\n。\\xa0\\n\\n\\n然而，以下风险因素却是可改变的：\\xa0\\n\\n\\n●生活习惯●\\n\\xa0\\n\\n保持健康的体重（BMI: 19至25）\\n\\n\\n戒烟\\n\\n\\n考虑母乳喂养宝宝\\n\\n\\n日常生活增添更多生活情趣\\n\\n\\n保持健康饮食（摄取各种水果、蔬菜、谷物和豆类，减少红肉和加工肉食品的摄入）\\n\\n\\n避免使用含有滑石粉的个人护理产品\\n\\n\\n药物选择\\n\\n\\n避孕措施（口服避孕药/避孕注射\\n\\n\\n\\n\\n●手术治疗●\\n\\xa0\\n\\n输卵管和卵巢切除术（对于高风险的BRCA基因突变的人来说，这是一种常规治疗）\\n\\n\\n输卵管结扎（Tubal ligation）\\n\\n\\n子宫切除术（Hysterectomy）、输卵管卵巢切除术（Salpingo-oophorectomy）\\n\\n\\n\\n\\n●早期检测●\\n\\xa0\\n\\n经阴道超声检查（Transvaginal scan）\\n\\n\\nCA 125（卵巢癌肿瘤标志物）\\n\\n\\n\\n\\n\\xa0\\n \\xa0\\n\\n\\n\\n\\n\\n\\n\\n\\n\\n\\n\\nDr. Loo Suat Chin\\n\\n\\nConsultant Obstetrician & Gynecologist\\n\\nColumbia Asia Hospital – Bukit Rimau\\nMBBS (India), MRCOG (UK)\\n\\n\\nMake an Appointment\\n\\n\\n\\n\\n\\n\\n\\xa0\\n\\n\\nPDF and Online Articles:\\n\\n\\n\\xa0\\n\\n\\n\\n\\n卵巢癌 | 难缠的妇女杀手 怎发现？怎治疗？- 健康时尚杂志GoodHealth Magazine, March 2023\\n\\n\\xa0\\n\\n\\n\\n\\n这篇文章首次刊登在《健康时尚杂志GoodHealth Magazine》, March 2023 Vol 131 issue\\n\\n\\xa0\\n\\n\\n\\nLook for \\nObstetrics & Gynecology\\n in Columbia Asia?\\n\\n\\nMake an Appointment\\n\\n\\n\\n\\n\\xa0\\n\\n\\n\\n\\nFollow us for latest Health Tips:\\n\\n\\n\\n\\n\\n\\n\\n\\n\\n\\n\\n\\n\\n\\n\\n\\n\\n\\n\\n\\n\\xa0\\n\\n\\n\\n\\n\\n\\n\\n\\n\\n\\n\\n\\n\\n\\n\\n\\n\\n\\n\\n'"
      ]
     },
     "execution_count": 20,
     "metadata": {},
     "output_type": "execute_result"
    }
   ],
   "source": [
    "soup.find('article').get_text(separator=\"\\n\")"
   ]
  },
  {
   "cell_type": "code",
   "execution_count": 21,
   "metadata": {},
   "outputs": [
    {
     "name": "stderr",
     "output_type": "stream",
     "text": [
      "100%|█████████████████████████████████████████| 512/512 [10:33<00:00,  1.24s/it]\n"
     ]
    }
   ],
   "source": [
    "with open('data.jsonl', 'w') as fopen:\n",
    "    for url in tqdm(all_a):\n",
    "        r = requests.get('https://www.columbiaasia.com' + url)\n",
    "        soup = BeautifulSoup(r.content, \"lxml\")\n",
    "        title = soup.find('h1').text\n",
    "        body = soup.find('article').get_text(separator=\"\\n\")\n",
    "        data = {\n",
    "            'url': url,\n",
    "            'title': title,\n",
    "            'body': body,\n",
    "        }\n",
    "        \n",
    "        fopen.write(f'{json.dumps(data)}\\n')"
   ]
  },
  {
   "cell_type": "code",
   "execution_count": null,
   "metadata": {},
   "outputs": [],
   "source": []
  }
 ],
 "metadata": {
  "kernelspec": {
   "display_name": "Python 3 (ipykernel)",
   "language": "python",
   "name": "python3"
  },
  "language_info": {
   "codemirror_mode": {
    "name": "ipython",
    "version": 3
   },
   "file_extension": ".py",
   "mimetype": "text/x-python",
   "name": "python",
   "nbconvert_exporter": "python",
   "pygments_lexer": "ipython3",
   "version": "3.8.10"
  }
 },
 "nbformat": 4,
 "nbformat_minor": 4
}
