{
 "cells": [
  {
   "cell_type": "code",
   "execution_count": 1,
   "metadata": {},
   "outputs": [],
   "source": [
    "import requests\n",
    "from bs4 import BeautifulSoup\n",
    "from tqdm import tqdm\n",
    "import os\n",
    "import json\n",
    "import numpy as np\n",
    "import time\n",
    "import random\n",
    "import json\n",
    "import urllib3\n",
    "urllib3.disable_warnings(urllib3.exceptions.InsecureRequestWarning)"
   ]
  },
  {
   "cell_type": "code",
   "execution_count": 2,
   "metadata": {},
   "outputs": [
    {
     "data": {
      "text/plain": [
       "1589"
      ]
     },
     "execution_count": 2,
     "metadata": {},
     "output_type": "execute_result"
    }
   ],
   "source": [
    "with open('urls.json') as fopen:\n",
    "    urls = sorted(json.load(fopen))\n",
    "    \n",
    "len(urls)"
   ]
  },
  {
   "cell_type": "code",
   "execution_count": 3,
   "metadata": {},
   "outputs": [],
   "source": [
    "r = requests.get(urls[0])\n",
    "soup = BeautifulSoup(r.content, \"lxml\")"
   ]
  },
  {
   "cell_type": "code",
   "execution_count": 6,
   "metadata": {},
   "outputs": [
    {
     "data": {
      "text/plain": [
       "'一号车险及三号车险的区别'"
      ]
     },
     "execution_count": 6,
     "metadata": {},
     "output_type": "execute_result"
    }
   ],
   "source": [
    "soup.find('h1').text"
   ]
  },
  {
   "cell_type": "code",
   "execution_count": 8,
   "metadata": {},
   "outputs": [
    {
     "data": {
      "text/plain": [
       "'\\n\\n汽车保险是每一位车主必须购买的保险，以作为司机或第三方在遭遇意外风险时的保障。\\n\\n\\n在完善的车险保障下，车主在发生紧急状况时就无需自掏腰包，而是由保险公司赔偿所需的费用，这将大大减轻车主的负担。\\n\\n\\n汽车保险一般分为三种类型，每种类型的保单都提供不同的保障范围。\\n\\n\\n三种保险包括：\\n\\n\\n三号保险或第三方保险\\n第三方、失火及失窃保险\\n一号车险或综合型保险\\n\\n\\n\\n\\n\\n\\n\\n\\nContents =\\n\\n\\n\\n\\n一号车险/综合型车险\\n三号车险/第三方车险\\n一号车险和三号车险的区别\\n让您的爱车得到最好的保障\\n\\n\\n一号车险/综合型车险\\n\\n\\n\\n\\n一号车险\\n（也称为综合型车险）为车主提供全面的保障。一号车险承保的范围包括因意外事故、失窃或车辆失火造成的车辆损坏，以及第三方车辆损坏、受伤或死亡的保障。\\n\\n\\n如果您持有一号车险，\\n在发生以下情况时，您都\\n可以\\n提出保险索赔：\\n\\n\\n您的\\n汽车因撞到交通灯而受损\\n。您可以提出\\n自损索赔\\n，但将失去\\n无索偿折扣率 (NCD)\\n。\\n您的汽车在\\n行驶时与动物相撞\\n。您可以提出\\n自损索赔\\n，但将失去\\n无索偿折扣率 (NCD)\\n。\\n您的\\n汽车大镜破裂\\n。您可以提出\\n自损索赔\\n（在没有汽车大镜保障的情况下），但将失去\\n无索偿折扣率 (NCD)\\n。\\n您的汽车大镜破裂。如果您有购买\\n汽车大镜保障\\n，就可以在不影响\\n无索偿折扣率 (NCD)\\n的情况下提出索赔。\\n您的汽车\\n因意外起火或遭人纵火\\n（如果由另一辆车引起，则不会影响NCD）。\\n您的\\n车被偷了\\n。\\n你与另一辆车相撞。第三方可以向您的保险提出索赔，您也可以提出\\n自损索赔\\n，但将失去\\n无索偿折扣率 (NCD)\\n。\\n你被另一辆车撞了。您可以\\n向第三方提出索赔\\n，而不影响自身的NCD。\\n\\n\\n三号车险/第三方车险\\n\\n\\n\\n\\n第三方保险\\n是最基本的汽车保险形式。第三方指的是和您一起牵涉在意外中的“对方”，即是您所撞到的那辆车子的车主。\\n\\n\\n第三方保险\\n只保障第三方而不保障您本身\\n，即保障对方在财物上的损失或损坏。至于您的车子的维修费则需由你本身负责。\\n\\n\\n如果您持有三号车险，\\n当遇到以下情况时，您都\\n不可以\\n提出保险索赔\\n：\\n\\n\\n您撞到了交通灯，车辆严重受损。\\n您开车时撞到动物。\\n您的车着火了。\\n您的车被偷了。\\n您的车与另一辆车相撞并严重损坏。\\n\\n\\n只有一种情况才能提出保险索赔，\\n即当您的汽车与另一辆汽车相撞，那么对方就可以向您所持有的三号车险提出索赔。\\n\\n\\n一号车险和三号车险的区别\\n\\n\\n要了解更多关于一号车险与三号车险的区别，请参阅下表：\\n\\n\\n保障范围\\xa0\\n一号车险\\n三号车险\\n自身车辆损坏\\n/\\nX\\n车辆失火\\n/\\nX\\n车辆失窃\\n/\\nX\\n第三方受伤、死亡或车辆损坏、\\n/\\n/\\n拖车服务\\n/\\nX\\n(可以额外付费以获取拖车服务)\\n紧急救援服务，如\\xa0\\njump start\\n, 换轮胎、电池及其他\\n/\\nX\\n汽车大镜索赔\\n/\\nX\\n添加附加保险\\n/\\n有限\\n(不能添加汽车大镜及自然灾害保障)\\n价格\\n高\\n比较便宜\\n购买条件\\n使用银行贷款购买10 年以下汽车的车主必须购买一号车险\\n（有的保险公司将一号车险的最高车龄限制于 16 至 25 年之间）\\n车龄15年以上的车主\\n\\n\\n备注：标记 (/) 表示保单有提供该保障，而标记 (X) 表示保单不提供该保障。\\n\\n\\n让您的爱车得到最好的保障\\n\\n\\n\\n\\n希望以上的分享可以让您对一号车险及三号车险有更深的了解。\\n\\n\\n尽管第三方保险比其他类型的保险便宜，但请记住，此类保险只会保障第三方，而不会对您的车辆有任何保障。\\n\\n\\n作为一名精明的车主，请确保您的车辆得到最好的保障，同时保障您在发生意外时不会遭受任何财务上的损失。\\n\\n\\n为了得到全面的保障，我们始终建议您为爱车选择\\n综合型保险\\n。或许您会担心保费过高？不必担心，在必佳更新车险，您可以\\n一次性比较超过15家保险公司的报价\\n，通过比较，您就有机会找到最迎合您需求且价格最低的车险。\\n\\n\\n现在就到必佳更新车险！\\n\\n\\n延伸阅读：\\n\\n\\n了解汽车保险的3种类型\\n为什么您需要综合型保险？\\n如何更新汽车保险？\\n全面了解第三方保险\\n如何享有最低的车险价格\\n\\n'"
      ]
     },
     "execution_count": 8,
     "metadata": {},
     "output_type": "execute_result"
    }
   ],
   "source": [
    "soup.find('div', {'class': 'nv-content-wrap entry-content'}).get_text(separator=\"\\n\")"
   ]
  },
  {
   "cell_type": "code",
   "execution_count": 9,
   "metadata": {},
   "outputs": [],
   "source": [
    "!mkdir page"
   ]
  },
  {
   "cell_type": "code",
   "execution_count": 10,
   "metadata": {},
   "outputs": [
    {
     "name": "stderr",
     "output_type": "stream",
     "text": [
      "1589it [14:31,  1.82it/s]\n"
     ]
    }
   ],
   "source": [
    "for no, url in tqdm(enumerate(urls)):\n",
    "    filename = os.path.join('page', f'{no}.json')\n",
    "    if os.path.exists(filename):\n",
    "        continue\n",
    "    \n",
    "    success = False\n",
    "    while True:\n",
    "        try:\n",
    "            r = requests.get(url)\n",
    "            success = True\n",
    "            break\n",
    "        except Exception as e:\n",
    "            if 'xceeded 30 redirects' in str(e):\n",
    "                break\n",
    "            time.sleep(1.0)\n",
    "            \n",
    "    if not success:\n",
    "        continue\n",
    "            \n",
    "    soup = BeautifulSoup(r.content, \"lxml\")\n",
    "\n",
    "    try:\n",
    "        title = soup.find('h1').text\n",
    "    except Exception as e:\n",
    "        title = None\n",
    "\n",
    "    try:\n",
    "        body = soup.find('div', {'class': 'nv-content-wrap entry-content'}).get_text(separator=\"\\n\")\n",
    "    except Exception as e:\n",
    "        body = None\n",
    "\n",
    "    data = {\n",
    "        'url': url,\n",
    "        'title': title,\n",
    "        'body': body,\n",
    "    }\n",
    "    with open(filename, 'w') as fopen:\n",
    "        json.dump(data, fopen)"
   ]
  },
  {
   "cell_type": "code",
   "execution_count": 4,
   "metadata": {},
   "outputs": [
    {
     "data": {
      "text/plain": [
       "1589"
      ]
     },
     "execution_count": 4,
     "metadata": {},
     "output_type": "execute_result"
    }
   ],
   "source": [
    "from glob import glob\n",
    "\n",
    "files = glob('page/*.json')\n",
    "len(files)"
   ]
  },
  {
   "cell_type": "code",
   "execution_count": 6,
   "metadata": {},
   "outputs": [],
   "source": [
    "with open('bjak.my.jsonl', 'w') as fopen_l:\n",
    "    for f in files:\n",
    "        with open(f) as fopen:\n",
    "            d = json.load(fopen)\n",
    "        fopen_l.write(f'{json.dumps(d)}\\n')"
   ]
  }
 ],
 "metadata": {
  "kernelspec": {
   "display_name": "Python 3 (ipykernel)",
   "language": "python",
   "name": "python3"
  },
  "language_info": {
   "codemirror_mode": {
    "name": "ipython",
    "version": 3
   },
   "file_extension": ".py",
   "mimetype": "text/x-python",
   "name": "python",
   "nbconvert_exporter": "python",
   "pygments_lexer": "ipython3",
   "version": "3.8.10"
  }
 },
 "nbformat": 4,
 "nbformat_minor": 4
}
