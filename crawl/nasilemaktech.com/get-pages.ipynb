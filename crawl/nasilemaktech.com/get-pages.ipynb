{
 "cells": [
  {
   "cell_type": "code",
   "execution_count": 1,
   "metadata": {},
   "outputs": [],
   "source": [
    "import requests\n",
    "from bs4 import BeautifulSoup\n",
    "from tqdm import tqdm\n",
    "import os\n",
    "import json\n",
    "import numpy as np\n",
    "import time\n",
    "import random\n",
    "import json"
   ]
  },
  {
   "cell_type": "code",
   "execution_count": 2,
   "metadata": {},
   "outputs": [
    {
     "data": {
      "text/plain": [
       "4702"
      ]
     },
     "execution_count": 2,
     "metadata": {},
     "output_type": "execute_result"
    }
   ],
   "source": [
    "from glob import glob\n",
    "\n",
    "files = glob('url/*.json')\n",
    "urls = []\n",
    "for f in files:\n",
    "    with open(f) as fopen:\n",
    "        urls.extend(json.load(fopen))\n",
    "urls = sorted(list(set(urls)))\n",
    "len(urls)"
   ]
  },
  {
   "cell_type": "code",
   "execution_count": 3,
   "metadata": {},
   "outputs": [],
   "source": [
    "!rm -rf page\n",
    "!mkdir page"
   ]
  },
  {
   "cell_type": "code",
   "execution_count": 4,
   "metadata": {},
   "outputs": [],
   "source": [
    "cookies = {\n",
    "    '_gid': 'GA1.2.468156425.1689525900',\n",
    "    '_gat_gtag_UA_49773245_2': '1',\n",
    "    '_ga_MECJ0ELBMB': 'GS1.1.1689570932.3.0.1689570932.60.0.0',\n",
    "    '_ga': 'GA1.1.358812379.1689525900',\n",
    "}\n",
    "\n",
    "headers = {\n",
    "    'authority': 'nasilemaktech.com',\n",
    "    'accept': 'text/html,application/xhtml+xml,application/xml;q=0.9,image/avif,image/webp,image/apng,*/*;q=0.8,application/signed-exchange;v=b3;q=0.7',\n",
    "    'accept-language': 'en-MY,en;q=0.9,en-US;q=0.8,ms;q=0.7',\n",
    "    'cache-control': 'no-cache',\n",
    "    # 'cookie': '_gid=GA1.2.468156425.1689525900; _gat_gtag_UA_49773245_2=1; _ga_MECJ0ELBMB=GS1.1.1689570932.3.0.1689570932.60.0.0; _ga=GA1.1.358812379.1689525900',\n",
    "    'pragma': 'no-cache',\n",
    "    'sec-ch-ua': '\"Not.A/Brand\";v=\"8\", \"Chromium\";v=\"114\", \"Google Chrome\";v=\"114\"',\n",
    "    'sec-ch-ua-mobile': '?0',\n",
    "    'sec-ch-ua-platform': '\"macOS\"',\n",
    "    'sec-fetch-dest': 'document',\n",
    "    'sec-fetch-mode': 'navigate',\n",
    "    'sec-fetch-site': 'none',\n",
    "    'sec-fetch-user': '?1',\n",
    "    'upgrade-insecure-requests': '1',\n",
    "    'user-agent': 'Mozilla/5.0 (Macintosh; Intel Mac OS X 10_15_7) AppleWebKit/537.36 (KHTML, like Gecko) Chrome/114.0.0.0 Safari/537.36',\n",
    "}"
   ]
  },
  {
   "cell_type": "code",
   "execution_count": null,
   "metadata": {},
   "outputs": [],
   "source": [
    "r = requests.get(urls[0], cookies = cookies, headers = headers)\n",
    "soup = BeautifulSoup(r.content, \"lxml\")"
   ]
  },
  {
   "cell_type": "code",
   "execution_count": null,
   "metadata": {},
   "outputs": [],
   "source": [
    "soup.find('h1').text"
   ]
  },
  {
   "cell_type": "code",
   "execution_count": null,
   "metadata": {},
   "outputs": [],
   "source": [
    "soup.find('div', {'class': 'td-post-content tagdiv-type'}).text"
   ]
  },
  {
   "cell_type": "code",
   "execution_count": 5,
   "metadata": {},
   "outputs": [
    {
     "name": "stderr",
     "output_type": "stream",
     "text": [
      "4702it [1:30:36,  1.16s/it]\n"
     ]
    }
   ],
   "source": [
    "for no, url in tqdm(enumerate(urls)):\n",
    "    filename = os.path.join('page', f'{no}.json')\n",
    "    if os.path.exists(filename):\n",
    "        continue\n",
    "    \n",
    "    while True:\n",
    "        try:\n",
    "            r = requests.get(url, cookies = cookies, headers = headers)\n",
    "            break\n",
    "        except:\n",
    "            time.sleep(1.0)\n",
    "            \n",
    "    soup = BeautifulSoup(r.content, \"lxml\")\n",
    "\n",
    "    try:\n",
    "        title = soup.find('h1').text\n",
    "    except Exception as e:\n",
    "        title = None\n",
    "\n",
    "    try:\n",
    "        body = soup.find('div', {'class': 'td-post-content tagdiv-type'}).text\n",
    "    except Exception as e:\n",
    "        body = None\n",
    "\n",
    "    data = {\n",
    "        'url': url,\n",
    "        'title': title,\n",
    "        'body': body,\n",
    "    }\n",
    "    with open(filename, 'w') as fopen:\n",
    "        json.dump(data, fopen)"
   ]
  },
  {
   "cell_type": "code",
   "execution_count": null,
   "metadata": {},
   "outputs": [],
   "source": []
  }
 ],
 "metadata": {
  "kernelspec": {
   "display_name": "Python 3 (ipykernel)",
   "language": "python",
   "name": "python3"
  },
  "language_info": {
   "codemirror_mode": {
    "name": "ipython",
    "version": 3
   },
   "file_extension": ".py",
   "mimetype": "text/x-python",
   "name": "python",
   "nbconvert_exporter": "python",
   "pygments_lexer": "ipython3",
   "version": "3.8.10"
  }
 },
 "nbformat": 4,
 "nbformat_minor": 4
}
