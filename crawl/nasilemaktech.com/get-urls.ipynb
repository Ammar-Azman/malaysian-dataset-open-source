{
 "cells": [
  {
   "cell_type": "code",
   "execution_count": 1,
   "metadata": {},
   "outputs": [],
   "source": [
    "import requests\n",
    "from bs4 import BeautifulSoup\n",
    "from tqdm import tqdm\n",
    "import os\n",
    "import json\n",
    "import numpy as np\n",
    "import time\n",
    "import random\n",
    "import json"
   ]
  },
  {
   "cell_type": "code",
   "execution_count": 2,
   "metadata": {},
   "outputs": [],
   "source": [
    "topics = [\n",
    "    'https://nasilemaktech.com/category/news/',\n",
    "    'https://nasilemaktech.com/category/review/',\n",
    "    'https://nasilemaktech.com/category/unboxing/',\n",
    "    'https://nasilemaktech.com/category/guide/',\n",
    "    'https://nasilemaktech.com/category/featured/psa/'\n",
    "]"
   ]
  },
  {
   "cell_type": "code",
   "execution_count": 3,
   "metadata": {},
   "outputs": [
    {
     "name": "stdout",
     "output_type": "stream",
     "text": [
      "mkdir: cannot create directory ‘url’: File exists\r\n"
     ]
    }
   ],
   "source": [
    "# !rm -rf url\n",
    "!mkdir url"
   ]
  },
  {
   "cell_type": "code",
   "execution_count": 4,
   "metadata": {},
   "outputs": [],
   "source": [
    "cookies = {\n",
    "    '_gid': 'GA1.2.468156425.1689525900',\n",
    "    '_ga_MECJ0ELBMB': 'GS1.1.1689567725.2.1.1689567833.24.0.0',\n",
    "    '_ga': 'GA1.2.358812379.1689525900',\n",
    "}\n",
    "\n",
    "headers = {\n",
    "    'authority': 'nasilemaktech.com',\n",
    "    'accept': 'text/html,application/xhtml+xml,application/xml;q=0.9,image/avif,image/webp,image/apng,*/*;q=0.8,application/signed-exchange;v=b3;q=0.7',\n",
    "    'accept-language': 'en-MY,en;q=0.9,en-US;q=0.8,ms;q=0.7',\n",
    "    'cache-control': 'no-cache',\n",
    "    # 'cookie': '_gid=GA1.2.468156425.1689525900; _ga_MECJ0ELBMB=GS1.1.1689567725.2.1.1689567833.24.0.0; _ga=GA1.2.358812379.1689525900',\n",
    "    'pragma': 'no-cache',\n",
    "    'referer': 'https://nasilemaktech.com/category/featured/psa/',\n",
    "    'sec-ch-ua': '\"Not.A/Brand\";v=\"8\", \"Chromium\";v=\"114\", \"Google Chrome\";v=\"114\"',\n",
    "    'sec-ch-ua-mobile': '?0',\n",
    "    'sec-ch-ua-platform': '\"macOS\"',\n",
    "    'sec-fetch-dest': 'document',\n",
    "    'sec-fetch-mode': 'navigate',\n",
    "    'sec-fetch-site': 'same-origin',\n",
    "    'sec-fetch-user': '?1',\n",
    "    'upgrade-insecure-requests': '1',\n",
    "    'user-agent': 'Mozilla/5.0 (Macintosh; Intel Mac OS X 10_15_7) AppleWebKit/537.36 (KHTML, like Gecko) Chrome/114.0.0.0 Safari/537.36',\n",
    "}"
   ]
  },
  {
   "cell_type": "code",
   "execution_count": null,
   "metadata": {},
   "outputs": [],
   "source": [
    "r = requests.get(f'https://nasilemaktech.com/category/featured/psa/page/2/', cookies = cookies,\n",
    "                headers = headers)\n",
    "soup = BeautifulSoup(r.content, \"lxml\")"
   ]
  },
  {
   "cell_type": "code",
   "execution_count": null,
   "metadata": {},
   "outputs": [],
   "source": [
    "a = soup.find_all('a', {'rel':\"bookmark\"})\n",
    "a = list(set([a_.get('href') for a_ in a]))\n",
    "a"
   ]
  },
  {
   "cell_type": "code",
   "execution_count": null,
   "metadata": {},
   "outputs": [],
   "source": [
    "rel=\"bookmark\""
   ]
  },
  {
   "cell_type": "code",
   "execution_count": 5,
   "metadata": {},
   "outputs": [
    {
     "name": "stdout",
     "output_type": "stream",
     "text": [
      "https://nasilemaktech.com/category/news/\n"
     ]
    },
    {
     "name": "stderr",
     "output_type": "stream",
     "text": [
      "964it [00:00, 464587.96it/s]\n"
     ]
    },
    {
     "name": "stdout",
     "output_type": "stream",
     "text": [
      "https://nasilemaktech.com/category/review/\n"
     ]
    },
    {
     "name": "stderr",
     "output_type": "stream",
     "text": [
      "100it [01:58,  1.19s/it]\n"
     ]
    },
    {
     "name": "stdout",
     "output_type": "stream",
     "text": [
      "https://nasilemaktech.com/category/unboxing/\n"
     ]
    },
    {
     "name": "stderr",
     "output_type": "stream",
     "text": [
      "100it [01:45,  1.06s/it]\n"
     ]
    },
    {
     "name": "stdout",
     "output_type": "stream",
     "text": [
      "https://nasilemaktech.com/category/guide/\n"
     ]
    },
    {
     "name": "stderr",
     "output_type": "stream",
     "text": [
      "100it [01:42,  1.03s/it]\n"
     ]
    },
    {
     "name": "stdout",
     "output_type": "stream",
     "text": [
      "https://nasilemaktech.com/category/featured/psa/\n"
     ]
    },
    {
     "name": "stderr",
     "output_type": "stream",
     "text": [
      "100it [01:46,  1.06s/it]\n"
     ]
    }
   ],
   "source": [
    "def generator():\n",
    "    while True:\n",
    "        yield\n",
    "        \n",
    "for t in topics:\n",
    "    print(t)\n",
    "    t_ = t.split('com/')[1].replace('/', '-')\n",
    "    \n",
    "    index = 1\n",
    "    for _ in tqdm(generator()):\n",
    "        filename = os.path.join('url', f'{t_}-{index}.json')\n",
    "        if os.path.exists(filename):\n",
    "            index += 1\n",
    "            continue\n",
    "            \n",
    "        if index > 100:\n",
    "            break\n",
    "        \n",
    "        while True:\n",
    "            try:\n",
    "                r = requests.get(f'{t}page/{index}/', cookies = cookies, headers = headers)\n",
    "                break\n",
    "            except:\n",
    "                time.sleep(1.0)\n",
    "                \n",
    "        soup = BeautifulSoup(r.content, \"lxml\")\n",
    "        a = soup.find_all('a', {'rel':\"bookmark\"})\n",
    "        a = list(set([a_.get('href') for a_ in a]))\n",
    "        if not len(a):\n",
    "            break\n",
    "        \n",
    "        with open(filename, 'w') as fopen:\n",
    "            json.dump(a, fopen)\n",
    "            \n",
    "        index += 1"
   ]
  },
  {
   "cell_type": "code",
   "execution_count": null,
   "metadata": {},
   "outputs": [],
   "source": []
  }
 ],
 "metadata": {
  "kernelspec": {
   "display_name": "Python 3 (ipykernel)",
   "language": "python",
   "name": "python3"
  },
  "language_info": {
   "codemirror_mode": {
    "name": "ipython",
    "version": 3
   },
   "file_extension": ".py",
   "mimetype": "text/x-python",
   "name": "python",
   "nbconvert_exporter": "python",
   "pygments_lexer": "ipython3",
   "version": "3.8.10"
  }
 },
 "nbformat": 4,
 "nbformat_minor": 4
}
