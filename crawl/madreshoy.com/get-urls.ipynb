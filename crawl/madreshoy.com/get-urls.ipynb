{
 "cells": [
  {
   "cell_type": "code",
   "execution_count": 1,
   "metadata": {},
   "outputs": [],
   "source": [
    "import requests\n",
    "from bs4 import BeautifulSoup\n",
    "from tqdm import tqdm\n",
    "import os\n",
    "import json\n",
    "import numpy as np\n",
    "import time\n",
    "import random\n",
    "import json\n",
    "import urllib3\n",
    "urllib3.disable_warnings(urllib3.exceptions.InsecureRequestWarning)"
   ]
  },
  {
   "cell_type": "code",
   "execution_count": 2,
   "metadata": {},
   "outputs": [],
   "source": [
    "r = requests.get('https://madreshoy.com/ms/halaman/2/')\n",
    "soup = BeautifulSoup(r.content, \"lxml\")"
   ]
  },
  {
   "cell_type": "code",
   "execution_count": 6,
   "metadata": {},
   "outputs": [
    {
     "data": {
      "text/plain": [
       "['https://madreshoy.com/ms/Mengapa-ultrasound-12-minggu-sangat-penting%3F/',\n",
       " 'https://madreshoy.com/ms/otitis-media-akut-dan-manifestasinya/',\n",
       " 'https://madreshoy.com/ms/cara-membuat-roti-bebas-gluten/',\n",
       " 'https://madreshoy.com/ms/Bila-dan-cara-melakukan-cucian-hidung-pada-bayi/',\n",
       " 'https://madreshoy.com/ms/apakah-pemadaman-serviks/',\n",
       " 'https://madreshoy.com/ms/burger-kacang-ayam-resipi-mudah-dan-lazat/',\n",
       " 'https://madreshoy.com/ms/resepi-mudah-kek-coklat-dan-pisang/',\n",
       " 'https://madreshoy.com/ms/bilik-kanak-kanak-ikea-kecil-untuk-memberi-inspirasi-kepada-anda/',\n",
       " 'https://madreshoy.com/ms/gigi-bayi-yang-terbaik-dan-masa-untuk-menawarkannya/',\n",
       " 'https://madreshoy.com/ms/adalah-pelembap-untuk-bayi-yang-diperlukan-pada-musim-panas/',\n",
       " 'https://madreshoy.com/ms/infusi-terbaik-semasa-kehamilan/']"
      ]
     },
     "execution_count": 6,
     "metadata": {},
     "output_type": "execute_result"
    }
   ],
   "source": [
    "articles = soup.find_all('article')\n",
    "a = [a_.find('a').get('href') for a_ in articles]\n",
    "a"
   ]
  },
  {
   "cell_type": "code",
   "execution_count": 7,
   "metadata": {},
   "outputs": [],
   "source": [
    "!rm -rf url\n",
    "!mkdir url"
   ]
  },
  {
   "cell_type": "code",
   "execution_count": 8,
   "metadata": {},
   "outputs": [
    {
     "name": "stderr",
     "output_type": "stream",
     "text": [
      "634it [15:04,  1.43s/it]\n"
     ]
    }
   ],
   "source": [
    "def generator():\n",
    "    while True:\n",
    "        yield\n",
    "    \n",
    "index = 1\n",
    "for _ in tqdm(generator()):\n",
    "    filename = os.path.join('url', f'{index}.json')\n",
    "    if os.path.exists(filename):\n",
    "        index += 1\n",
    "        continue\n",
    "    \n",
    "    r = requests.get(f'https://madreshoy.com/ms/halaman/{index}/')\n",
    "    soup = BeautifulSoup(r.content, \"lxml\")\n",
    "    \n",
    "    articles = soup.find_all('article')\n",
    "    a = [a_.find('a').get('href') for a_ in articles]\n",
    "\n",
    "    if not len(a):\n",
    "        break\n",
    "\n",
    "    with open(filename, 'w') as fopen:\n",
    "        json.dump(a, fopen)\n",
    "\n",
    "    index += 1"
   ]
  },
  {
   "cell_type": "code",
   "execution_count": null,
   "metadata": {},
   "outputs": [],
   "source": []
  }
 ],
 "metadata": {
  "kernelspec": {
   "display_name": "Python 3 (ipykernel)",
   "language": "python",
   "name": "python3"
  },
  "language_info": {
   "codemirror_mode": {
    "name": "ipython",
    "version": 3
   },
   "file_extension": ".py",
   "mimetype": "text/x-python",
   "name": "python",
   "nbconvert_exporter": "python",
   "pygments_lexer": "ipython3",
   "version": "3.8.10"
  }
 },
 "nbformat": 4,
 "nbformat_minor": 4
}
