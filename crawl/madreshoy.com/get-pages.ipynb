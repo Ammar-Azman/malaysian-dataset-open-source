{
 "cells": [
  {
   "cell_type": "code",
   "execution_count": 1,
   "metadata": {},
   "outputs": [],
   "source": [
    "import requests\n",
    "from bs4 import BeautifulSoup\n",
    "from tqdm import tqdm\n",
    "import os\n",
    "import json\n",
    "import numpy as np\n",
    "import time\n",
    "import random\n",
    "import json\n",
    "import urllib3\n",
    "urllib3.disable_warnings(urllib3.exceptions.InsecureRequestWarning)"
   ]
  },
  {
   "cell_type": "code",
   "execution_count": 2,
   "metadata": {},
   "outputs": [
    {
     "name": "stderr",
     "output_type": "stream",
     "text": [
      "100%|██████████████████████████████████████| 634/634 [00:00<00:00, 12119.83it/s]\n"
     ]
    },
    {
     "data": {
      "text/plain": [
       "(6758, 634)"
      ]
     },
     "execution_count": 2,
     "metadata": {},
     "output_type": "execute_result"
    }
   ],
   "source": [
    "from glob import glob\n",
    "\n",
    "files = glob('url/*.json')\n",
    "urls = []\n",
    "for f in tqdm(files):\n",
    "    with open(f) as fopen:\n",
    "        d = json.load(fopen)\n",
    "        urls.extend(d)\n",
    "urls = sorted(list(set(urls)))\n",
    "len(urls), len(files)"
   ]
  },
  {
   "cell_type": "code",
   "execution_count": 3,
   "metadata": {},
   "outputs": [],
   "source": [
    "r = requests.get(urls[0])\n",
    "soup = BeautifulSoup(r.content, \"lxml\")"
   ]
  },
  {
   "cell_type": "code",
   "execution_count": 4,
   "metadata": {},
   "outputs": [
    {
     "data": {
      "text/plain": [
       "'https://madreshoy.com/ms/1-67-wanita-hamil-minum-alkohol-akan-mempunyai-peti-besi/'"
      ]
     },
     "execution_count": 4,
     "metadata": {},
     "output_type": "execute_result"
    }
   ],
   "source": [
    "urls[0]"
   ]
  },
  {
   "cell_type": "code",
   "execution_count": 5,
   "metadata": {},
   "outputs": [
    {
     "data": {
      "text/plain": [
       "'1 dari 67 wanita hamil yang minum alkohol akan mengandung bayi dengan APS'"
      ]
     },
     "execution_count": 5,
     "metadata": {},
     "output_type": "execute_result"
    }
   ],
   "source": [
    "soup.find('h1').text"
   ]
  },
  {
   "cell_type": "code",
   "execution_count": 10,
   "metadata": {},
   "outputs": [
    {
     "data": {
      "text/plain": [
       "'\\n\\n\\n\\n1 dari 67 wanita hamil yang minum alkohol akan mengandung bayi dengan APS\\n\\n\\n\\n\\n\\n\\n \\n\\n\\nMaria Jose Roldan.\\n | \\n |  \\nBeberapa\\n \\n\\n\\n\\n\\t\\t\\t\\t\\t\\tTiada komen\\t\\t\\t\\t\\t\\n\\n\\n\\n\\n\\n\\n\\n\\n\\n\\n\\n\\n\\n\\n\\n\\nKongsi\\n\\n\\n\\n\\n\\n\\n\\n\\n\\n\\n\\n\\nTweet\\n\\n\\n\\n\\n\\n\\n\\n\\n\\n\\n\\n\\nHantar\\n\\n\\n\\n\\n\\n\\n\\n\\n\\n\\n\\n\\nNenas\\n\\n\\n\\n\\n\\n\\n\\n\\n\\n\\n\\n\\nE-mel\\n\\n\\n\\n\\n\\n\\n\\n\\n\\n\\n\\n\\nCetak\\n\\n\\n\\n\\n\\n\\n\\n\\n\\n\\n\\n\\n\\n\\n\\n\\n\\n\\n\\n\\n\\n\\n\\n\\nSemua orang tahu betapa pentingnya wanita hamil berhenti minum alkohol sebaik sahaja dia mengetahui bahawa dia hamil.\\n Kajian Australia dan kajian lain yang dilakukan oleh WHO menjelaskan akibatnya\\n minum alkohol semasa mengandung \\nSebanyak 1 dari 67 wanita yang minum alkohol semasa mengandung akan membawa bayi dengan Sindrom Alkohol Janin (FAS) ke dunia.\\n\\n\\nKetika seorang wanita hamil, dia tidak hanya harus menjaga kesihatannya, tetapi juga bayi yang sedang membesar di rahimnya. Ada mitos yang mengatakan bahawa seorang wanita boleh minum dosis kecil wain kerana tidak membahayakan perkembangan bayi, tetapi kenyataannya adalah bahawa ia boleh menjadi sangat berbahaya.\\n Masih tiada senarai keinginan?: \\nBuat senarai kelahiran percuma anda\\n\\n\\n\\n\\n\\n\\n\\n\\n\\n\\n\\n\\nMinum alkohol pada bila-bila masa semasa kehamilan boleh menyebabkan \\nperubahan dalam otak anak\\n dan menyebabkan perbezaan anatomi di kepala anda\\n. SAF boleh dikaitkan dengan gangguan kognitif dan kelainan wajah (mata kecil, bibir atas nipis, dll.).\\n Minuman beralkohol beracun bagi bayi pada bila-bila masa semasa kehamilan dan akan sampai ke janin secara langsung melalui aliran darah ibu, yang boleh menyebabkan bahaya.\\n\\n\\nPengambilan alkohol semasa mengandung boleh menyebabkan tingkah laku, kognitif, masalah fizikal, kelainan fizikal dan wajah, disfungsi otak ...\\n Tidak dapat difahami 1 dari 10 wanita mengambil alkohol semasa mengandung\\n, dan 20% wanita ini melakukannya secara paksa, sehingga mereka dapat minum banyak alkohol pada setiap tempat duduk.\\n\\n\\nAdalah perlu bagi semua wanita untuk mengetahui pentingnya mengurangkan pengambilan alkohol semasa kehamilan, dan jika selama-lamanya lebih baik. Pengambilan alkohol berbahaya bagi siapa saja yang meminumnya secara berkala ... Tetapi seorang wanita hamil harus tahu bahawa bukan hanya buruk untuknya, tetapi ia juga secara langsung membahayakan bayinya yang belum lahir.\\n\\n\\n\\n\\n\\n\\n\\n\\n\\n'"
      ]
     },
     "execution_count": 10,
     "metadata": {},
     "output_type": "execute_result"
    }
   ],
   "source": [
    "soup.find('article').get_text(separator=\"\\n\")"
   ]
  },
  {
   "cell_type": "code",
   "execution_count": 11,
   "metadata": {},
   "outputs": [],
   "source": [
    "!rm -rf page\n",
    "!mkdir page"
   ]
  },
  {
   "cell_type": "code",
   "execution_count": 12,
   "metadata": {},
   "outputs": [
    {
     "name": "stderr",
     "output_type": "stream",
     "text": [
      "6758it [2:20:42,  1.25s/it]\n"
     ]
    }
   ],
   "source": [
    "for no, url in tqdm(enumerate(urls)):\n",
    "    filename = os.path.join('page', f'{no}.json')\n",
    "    if os.path.exists(filename):\n",
    "        continue\n",
    "    \n",
    "    while True:\n",
    "        try:\n",
    "            r = requests.get(url)\n",
    "            break\n",
    "        except:\n",
    "            time.sleep(1.0)\n",
    "            \n",
    "    soup = BeautifulSoup(r.content, \"lxml\")\n",
    "    \n",
    "    try:\n",
    "        title = soup.find('h1').text\n",
    "    except:\n",
    "        title = None\n",
    "    \n",
    "    try:\n",
    "        body = soup.find('article').get_text(separator=\"\\n\")\n",
    "    except:\n",
    "        body = None\n",
    "\n",
    "    data = {\n",
    "        'url': url,\n",
    "        'title': title,\n",
    "        'body': body,\n",
    "    }\n",
    "    with open(filename, 'w') as fopen:\n",
    "        json.dump(data, fopen)"
   ]
  },
  {
   "cell_type": "code",
   "execution_count": null,
   "metadata": {},
   "outputs": [],
   "source": []
  }
 ],
 "metadata": {
  "kernelspec": {
   "display_name": "Python 3 (ipykernel)",
   "language": "python",
   "name": "python3"
  },
  "language_info": {
   "codemirror_mode": {
    "name": "ipython",
    "version": 3
   },
   "file_extension": ".py",
   "mimetype": "text/x-python",
   "name": "python",
   "nbconvert_exporter": "python",
   "pygments_lexer": "ipython3",
   "version": "3.8.10"
  }
 },
 "nbformat": 4,
 "nbformat_minor": 4
}
