{
 "cells": [
  {
   "cell_type": "code",
   "execution_count": 1,
   "metadata": {},
   "outputs": [],
   "source": [
    "import requests\n",
    "import numpy as np\n",
    "from bs4 import BeautifulSoup\n",
    "from tqdm import tqdm\n",
    "from concurrent.futures import ThreadPoolExecutor, as_completed\n",
    "from glob import glob\n",
    "from tqdm import tqdm\n",
    "import time\n",
    "import json\n",
    "import os\n",
    "import gc"
   ]
  },
  {
   "cell_type": "code",
   "execution_count": 2,
   "metadata": {},
   "outputs": [],
   "source": [
    "import requests\n",
    "\n",
    "cookies = {\n",
    "    '2A21_92c8_saltkey': 'S1mX69z6',\n",
    "    '2A21_92c8_lastvisit': '1684768064',\n",
    "    '__utmz': '30105572.1684772353.1.1.utmcsr=(direct)|utmccn=(direct)|utmcmd=(none)',\n",
    "    '__utma': '30105572.135848573.1684772353.1684772353.1684850662.2',\n",
    "    '__utmc': '30105572',\n",
    "    '__utmt': '1',\n",
    "    '2A21_92c8_sid': '66Ah1z',\n",
    "    '2A21_92c8_viewid': 'tid_524607',\n",
    "    '2A21_92c8_visitedfid': '715D369D889D341',\n",
    "    '2A21_92c8_forum_lastvisit': 'D_905_1684772352D_457_1684850685D_341_1684850689D_889_1684850710D_369_1684850714D_715_1684851023',\n",
    "    '2A21_92c8_lastact': '1684851023%09home.php%09misc',\n",
    "    '2A21_92c8_sendmail': '1',\n",
    "    '__utmb': '30105572.10.10.1684850662',\n",
    "}\n",
    "\n",
    "headers = {\n",
    "    'authority': 'www.jbtalks.cc',\n",
    "    'accept': 'text/html,application/xhtml+xml,application/xml;q=0.9,image/avif,image/webp,image/apng,*/*;q=0.8,application/signed-exchange;v=b3;q=0.7',\n",
    "    'accept-language': 'en-MY,en;q=0.9,en-US;q=0.8,ms;q=0.7',\n",
    "    'cache-control': 'no-cache',\n",
    "    # 'cookie': '2A21_92c8_saltkey=S1mX69z6; 2A21_92c8_lastvisit=1684768064; __utmz=30105572.1684772353.1.1.utmcsr=(direct)|utmccn=(direct)|utmcmd=(none); __utma=30105572.135848573.1684772353.1684772353.1684850662.2; __utmc=30105572; __utmt=1; 2A21_92c8_sid=66Ah1z; 2A21_92c8_viewid=tid_524607; 2A21_92c8_visitedfid=715D369D889D341; 2A21_92c8_forum_lastvisit=D_905_1684772352D_457_1684850685D_341_1684850689D_889_1684850710D_369_1684850714D_715_1684851023; 2A21_92c8_lastact=1684851023%09home.php%09misc; 2A21_92c8_sendmail=1; __utmb=30105572.10.10.1684850662',\n",
    "    'pragma': 'no-cache',\n",
    "    'referer': 'https://www.jbtalks.cc/forum-905-1.html',\n",
    "    'sec-ch-ua': '\"Google Chrome\";v=\"113\", \"Chromium\";v=\"113\", \"Not-A.Brand\";v=\"24\"',\n",
    "    'sec-ch-ua-mobile': '?0',\n",
    "    'sec-ch-ua-platform': '\"macOS\"',\n",
    "    'sec-fetch-dest': 'document',\n",
    "    'sec-fetch-mode': 'navigate',\n",
    "    'sec-fetch-site': 'same-origin',\n",
    "    'sec-fetch-user': '?1',\n",
    "    'upgrade-insecure-requests': '1',\n",
    "    'user-agent': 'Mozilla/5.0 (Macintosh; Intel Mac OS X 10_15_7) AppleWebKit/537.36 (KHTML, like Gecko) Chrome/113.0.0.0 Safari/537.36',\n",
    "}\n",
    "\n",
    "# response = requests.get('https://www.jbtalks.cc/forum.php', cookies=cookies, headers=headers)"
   ]
  },
  {
   "cell_type": "code",
   "execution_count": 3,
   "metadata": {},
   "outputs": [
    {
     "data": {
      "text/plain": [
       "574"
      ]
     },
     "execution_count": 3,
     "metadata": {},
     "output_type": "execute_result"
    }
   ],
   "source": [
    "files = glob('threads/*.json')\n",
    "len(files)"
   ]
  },
  {
   "cell_type": "code",
   "execution_count": 10,
   "metadata": {},
   "outputs": [
    {
     "name": "stderr",
     "output_type": "stream",
     "text": [
      "100%|████████████████████████████████████████| 574/574 [00:00<00:00, 988.76it/s]\n"
     ]
    }
   ],
   "source": [
    "urls = []\n",
    "for f in tqdm(files):\n",
    "    with open(f) as fopen:\n",
    "        data = json.load(fopen)\n",
    "\n",
    "    for d in data:\n",
    "        if d[-1] > 1:\n",
    "            url = d[0]\n",
    "            for i in range(2, d[-1] + 1, 1):\n",
    "                splitted = url.split('-')\n",
    "                splitted[-2] = str(i)\n",
    "                urls.append('-'.join(splitted))"
   ]
  },
  {
   "cell_type": "code",
   "execution_count": 14,
   "metadata": {},
   "outputs": [
    {
     "data": {
      "text/plain": [
       "116762"
      ]
     },
     "execution_count": 14,
     "metadata": {},
     "output_type": "execute_result"
    }
   ],
   "source": [
    "urls = sorted(list(set(urls)))\n",
    "len(urls)"
   ]
  },
  {
   "cell_type": "code",
   "execution_count": 15,
   "metadata": {},
   "outputs": [],
   "source": [
    "def get_url(url):\n",
    "    while True:\n",
    "        try:\n",
    "            response = requests.get(url, cookies=cookies, headers=headers)\n",
    "            soup = BeautifulSoup(response.content, \"lxml\")\n",
    "            break\n",
    "        except Exception as e:\n",
    "            print(e)\n",
    "            time.sleep(1.0)\n",
    "    \n",
    "    td = soup.find_all('td', {'class': 't_f'})\n",
    "    td = [str(td_) for td_ in td]\n",
    "    return td"
   ]
  },
  {
   "cell_type": "code",
   "execution_count": 17,
   "metadata": {},
   "outputs": [
    {
     "data": {
      "text/plain": [
       "['<td class=\"t_f\" id=\"postmessage_1192683963\">\\n<div class=\"quote\"><blockquote>那么凶的乌鸦==<br/>\\r\\nbb弹的shiper也打不下乌鸦的，对他们没什么杀伤力<br/>\\r\\n有一种打喇叭弹的就可以<br/>\\r\\n不 ...<br/>\\n<font size=\"2\"><font color=\"#999999\">leowyanwei 发表于 2012-8-23 05:41 PM</font> <a href=\"http://www.jbtalks.cc/redirect.php?goto=findpost&amp;pid=1192683911&amp;ptid=1002534\" target=\"_blank\"><img alt=\"\" border=\"0\" class=\"zoom\" id=\"aimg_yDnfX\" onclick=\"zoom(this, this.src, 0, 0, 0)\" onload=\"thumbImg(this)\" onmouseover=\"img_onmouseoverfunc(this)\" src=\"http://www.jbtalks.cc/images/common/back.gif\"/></a></font></blockquote></div><br/>\\n<br/>\\n这产品不能引进，稍微修改就是真枪了。尤其是弹药，已经不是BB蛋了，而起钢弹了。</td>',\n",
       " '<td class=\"t_f\" id=\"postmessage_1192684000\">\\n<div class=\"quote\"><blockquote>这产品不能引进，稍微修改就是真枪了。尤其是弹药，已经不是BB蛋了，而起钢弹了。<br/>\\n<font size=\"2\"><font color=\"#999999\">kelvin4896 发表于 2012-8-23 05:44 PM</font> <a href=\"http://www.jbtalks.cc/redirect.php?goto=findpost&amp;pid=1192683963&amp;ptid=1002534\" target=\"_blank\"><img alt=\"\" border=\"0\" class=\"zoom\" id=\"aimg_T4Bvh\" onclick=\"zoom(this, this.src, 0, 0, 0)\" onload=\"thumbImg(this)\" onmouseover=\"img_onmouseoverfunc(this)\" src=\"http://www.jbtalks.cc/images/common/back.gif\"/></a></font></blockquote></div><br/>\\n<br/>\\n<br/>\\n\\xa0 \\xa0 所以没办法咯<br/>\\r\\n用弹公吧，不然用老鼠笼</td>',\n",
       " '<td class=\"t_f\" id=\"postmessage_1192684148\">\\n<div class=\"quote\"><blockquote>所以没办法咯<br/>\\r\\n用弹公吧，不然用老鼠笼<br/>\\n<font size=\"2\"><font color=\"#999999\">leowyanwei 发表于 2012-8-23 05:47 PM</font> <a href=\"http://www.jbtalks.cc/redirect.php?goto=findpost&amp;pid=1192684000&amp;ptid=1002534\" target=\"_blank\"><img alt=\"\" border=\"0\" class=\"zoom\" id=\"aimg_qVFL0\" onclick=\"zoom(this, this.src, 0, 0, 0)\" onload=\"thumbImg(this)\" onmouseover=\"img_onmouseoverfunc(this)\" src=\"http://www.jbtalks.cc/images/common/back.gif\"/></a></font></blockquote></div><br/>\\n<br/>\\n乌鸦没有想象中的单纯，它们会自我提升的，同时，它们是群体动物，有报复心态的。可怕</td>',\n",
       " '<td class=\"t_f\" id=\"postmessage_1192710271\">\\n<strong>回复 <a href=\"http://mobile.jbtalks.cc/redirect.php?goto=findpost&amp;pid=1192684000&amp;ptid=1002534\" target=\"_blank\">92#</a> <i>leowyanwei</i> </strong><br/>\\n<br/>\\n<br/>\\r\\n\\xa0 \\xa0 你有二手的枪？</td>',\n",
       " '<td class=\"t_f\" id=\"postmessage_1192719378\">\\n<strong>回复 <a href=\"http://www.jbtalks.cc/redirect.php?goto=findpost&amp;pid=1192710271&amp;ptid=1002534\" target=\"_blank\">94#</a> <i>LIONTEE</i> </strong><br/>\\n<br/>\\r\\n有m92黑色和px4</td>',\n",
       " '<td class=\"t_f\" id=\"postmessage_1192721243\">\\n<strong>回复 <a href=\"http://mobile.jbtalks.cc/redirect.php?goto=findpost&amp;pid=1192719378&amp;ptid=1002534\" target=\"_blank\">95#</a> <i>leowyanwei</i> </strong><br/>\\n<br/>\\n<br/>\\r\\n\\xa0 \\xa0 M92我有了，PX4？什么枪来的？价钱？品质？</td>',\n",
       " '<td class=\"t_f\" id=\"postmessage_1193002406\">\\n<strong>回复 <a href=\"http://www.jbtalks.cc/redirect.php?goto=findpost&amp;pid=1192099281&amp;ptid=1002534\" target=\"_blank\">68#</a> <i>LIONTEE</i> </strong><br/>\\n<br/>\\n<br/>\\r\\n\\xa0 \\xa0 嗨！大大说改装的bb枪可以杀人？有没有那么夸张喔？哈哈。你会改装啊？分享下啦！</td>',\n",
       " '<td class=\"t_f\" id=\"postmessage_1193007020\">\\n<strong>回复 <a href=\"http://www.jbtalks.cc/redirect.php?goto=findpost&amp;pid=1193002406&amp;ptid=1002534\" target=\"_blank\">97#</a> <i>狙击王</i> </strong><br/>\\n<br/>\\n<br/>\\r\\n\\xa0 \\xa0 是真的可以咯，我是还没正式改过啦！我朋友就有一把L96给他改到非常可怕！</td>',\n",
       " '<td class=\"t_f\" id=\"postmessage_1193019738\">\\n<i class=\"pstatus\"> 本帖最后由 狙击王 于 2012-9-12 10:50 PM 编辑 </i><br/>\\n<br/>\\n<strong>回复 <a href=\"http://www.jbtalks.cc/redirect.php?goto=findpost&amp;pid=1193007020&amp;ptid=1002534\" target=\"_blank\">98#</a> <i>LIONTEE</i> </strong><br/>\\n<br/>\\n<br/>\\r\\n\\xa0 \\xa0 有这样厉害啊·?也是新山人？打什么子弹的？威力大概到什么程度？用什么动力？<br/>\\r\\n\\xa0 \\xa0难道又是progg说的那个枪神？大大介绍下啦。我也想买来改勒。哈哈</td>',\n",
       " '<td class=\"t_f\" id=\"postmessage_1193057388\">\\n<strong>回复 <a href=\"http://www.jbtalks.cc/redirect.php?goto=findpost&amp;pid=1193019738&amp;ptid=1002534\" target=\"_blank\">99#</a> <i>狙击王</i> </strong><br/>\\n<br/>\\n<br/>\\r\\n\\xa0 \\xa0 他不是老孔啦！他是余宝人，也有买卖枪的，用BB打就没那么够力，但是如果放玻璃弹就可怕了。</td>']"
      ]
     },
     "execution_count": 17,
     "metadata": {},
     "output_type": "execute_result"
    }
   ],
   "source": [
    "get_url(urls[1])"
   ]
  },
  {
   "cell_type": "code",
   "execution_count": 18,
   "metadata": {},
   "outputs": [],
   "source": [
    "!mkdir pages"
   ]
  },
  {
   "cell_type": "code",
   "execution_count": 19,
   "metadata": {},
   "outputs": [
    {
     "name": "stderr",
     "output_type": "stream",
     "text": [
      " 36%|█████████████▎                       | 1407/3893 [53:38<1:30:36,  2.19s/it]encoding error : input conversion failed due to input error, bytes 0xF8 0xC9 0xA2 0xBB\n",
      "encoding error : input conversion failed due to input error, bytes 0xF8 0xC9 0xA2 0xBB\n",
      "encoding error : input conversion failed due to input error, bytes 0xF8 0xC9 0xA2 0xBB\n",
      " 45%|███████████████▊                   | 1756/3893 [1:06:33<1:56:31,  3.27s/it]encoding error : input conversion failed due to input error, bytes 0xED 0x33 0xBC 0xFE\n",
      "encoding error : input conversion failed due to input error, bytes 0xED 0x33 0xBC 0xFE\n",
      "encoding error : input conversion failed due to input error, bytes 0xED 0x33 0xBC 0xFE\n",
      " 79%|█████████████████████████████▎       | 3088/3893 [2:01:59<28:24,  2.12s/it]encoding error : input conversion failed due to input error, bytes 0xAE 0xBF 0xDE 0xB9\n",
      "encoding error : input conversion failed due to input error, bytes 0xAE 0xBF 0xDE 0xB9\n",
      "encoding error : input conversion failed due to input error, bytes 0xAE 0xBF 0xDE 0xB9\n",
      "100%|█████████████████████████████████████| 3893/3893 [2:32:49<00:00,  2.36s/it]\n"
     ]
    }
   ],
   "source": [
    "max_worker = 30\n",
    "for i in tqdm(range(0, len(urls), max_worker)):\n",
    "    \n",
    "    filename = os.path.join('pages', f'{i}.json')\n",
    "    if os.path.exists(filename):\n",
    "        continue\n",
    "        \n",
    "    gc.collect()\n",
    "    \n",
    "    results = []\n",
    "    with ThreadPoolExecutor(max_workers=max_worker) as executor:\n",
    "        futures = {executor.submit(get_url, url): url for url in urls[i: i + max_worker]}\n",
    "\n",
    "        for future in as_completed(futures):\n",
    "            results.append(future.result())\n",
    "    \n",
    "    with open(filename, 'w') as fopen:\n",
    "        json.dump(results, fopen)\n",
    "        \n",
    "    try:\n",
    "        del results\n",
    "        del futures\n",
    "    except:\n",
    "        pass"
   ]
  },
  {
   "cell_type": "code",
   "execution_count": 20,
   "metadata": {},
   "outputs": [
    {
     "data": {
      "text/plain": [
       "574"
      ]
     },
     "execution_count": 20,
     "metadata": {},
     "output_type": "execute_result"
    }
   ],
   "source": [
    "files = glob('threads/*.json')\n",
    "len(files)"
   ]
  },
  {
   "cell_type": "code",
   "execution_count": 23,
   "metadata": {},
   "outputs": [
    {
     "name": "stderr",
     "output_type": "stream",
     "text": [
      "100%|█████████████████████████████████████████| 574/574 [00:15<00:00, 37.01it/s]\n"
     ]
    }
   ],
   "source": [
    "texts = []\n",
    "for f in tqdm(files):\n",
    "    with open(f) as fopen:\n",
    "        data = json.load(fopen)\n",
    "    \n",
    "    for d in data:\n",
    "        for d_ in d[1]:\n",
    "            texts.append(BeautifulSoup(d_, \"lxml\").text)"
   ]
  },
  {
   "cell_type": "code",
   "execution_count": 24,
   "metadata": {},
   "outputs": [
    {
     "data": {
      "text/plain": [
       "3893"
      ]
     },
     "execution_count": 24,
     "metadata": {},
     "output_type": "execute_result"
    }
   ],
   "source": [
    "files = glob('pages/*.json')\n",
    "len(files)"
   ]
  },
  {
   "cell_type": "code",
   "execution_count": 25,
   "metadata": {},
   "outputs": [
    {
     "name": "stderr",
     "output_type": "stream",
     "text": [
      "100%|███████████████████████████████████████| 3893/3893 [03:21<00:00, 19.28it/s]\n"
     ]
    }
   ],
   "source": [
    "for f in tqdm(files):\n",
    "    with open(f) as fopen:\n",
    "        data = json.load(fopen)\n",
    "    \n",
    "    for d in data:\n",
    "        for d_ in d:\n",
    "            texts.append(BeautifulSoup(d_, \"lxml\").text)"
   ]
  },
  {
   "cell_type": "code",
   "execution_count": 26,
   "metadata": {},
   "outputs": [
    {
     "data": {
      "text/plain": [
       "802954"
      ]
     },
     "execution_count": 26,
     "metadata": {},
     "output_type": "execute_result"
    }
   ],
   "source": [
    "texts = list(set(texts))\n",
    "len(texts)"
   ]
  },
  {
   "cell_type": "code",
   "execution_count": 27,
   "metadata": {},
   "outputs": [
    {
     "name": "stderr",
     "output_type": "stream",
     "text": [
      "100%|███████████████████████████████| 802954/802954 [00:01<00:00, 557520.61it/s]\n"
     ]
    }
   ],
   "source": [
    "with open('everything.jsonl', 'w') as fopen:\n",
    "    for t in tqdm(texts):\n",
    "        if len(t):\n",
    "            fopen.write(f'{json.dumps(t)}\\n')"
   ]
  },
  {
   "cell_type": "code",
   "execution_count": null,
   "metadata": {},
   "outputs": [],
   "source": []
  }
 ],
 "metadata": {
  "kernelspec": {
   "display_name": "Python 3 (ipykernel)",
   "language": "python",
   "name": "python3"
  },
  "language_info": {
   "codemirror_mode": {
    "name": "ipython",
    "version": 3
   },
   "file_extension": ".py",
   "mimetype": "text/x-python",
   "name": "python",
   "nbconvert_exporter": "python",
   "pygments_lexer": "ipython3",
   "version": "3.8.10"
  }
 },
 "nbformat": 4,
 "nbformat_minor": 4
}
