{
 "cells": [
  {
   "cell_type": "code",
   "execution_count": 1,
   "metadata": {},
   "outputs": [],
   "source": [
    "import requests\n",
    "from bs4 import BeautifulSoup\n",
    "from tqdm import tqdm\n",
    "import os\n",
    "import json\n",
    "import numpy as np\n",
    "import time\n",
    "import random\n",
    "import json\n",
    "import urllib3\n",
    "urllib3.disable_warnings(urllib3.exceptions.InsecureRequestWarning)"
   ]
  },
  {
   "cell_type": "code",
   "execution_count": 2,
   "metadata": {},
   "outputs": [],
   "source": [
    "url = 'https://maktabahalbakri.com/category/soal-jawab-agama/page/3/'\n",
    "r = requests.get(url)"
   ]
  },
  {
   "cell_type": "code",
   "execution_count": 3,
   "metadata": {},
   "outputs": [],
   "source": [
    "soup = BeautifulSoup(r.content, \"lxml\")"
   ]
  },
  {
   "cell_type": "code",
   "execution_count": 4,
   "metadata": {},
   "outputs": [
    {
     "data": {
      "text/plain": [
       "['https://maktabahalbakri.com/3367-budak-lelaki-belum-berkhatan-bersama-saf-dewasa/',\n",
       " 'https://maktabahalbakri.com/3366-didera-secara-seksual-oleh-bapa/',\n",
       " 'https://maktabahalbakri.com/3365-pakaian-bergesel-dan-dicium-oleh-anjing-dikira-terkena-najis/',\n",
       " 'https://maktabahalbakri.com/3364-status-anak-yang-lahir-daripada-isteri-yang-curang/',\n",
       " 'https://maktabahalbakri.com/3363-bekerja-sebagai-promoter-kedai-yang-ada-penjualan-arak/',\n",
       " 'https://maktabahalbakri.com/3347-isteri-meminta-suami-menjalani-ujian-kesuburan/',\n",
       " 'https://maktabahalbakri.com/3346-hukum-korban-bagi-kanak-kanak/',\n",
       " 'https://maktabahalbakri.com/3345-hukum-korban-bagi-orang-musafir/',\n",
       " 'https://maktabahalbakri.com/3344-kelebihan-doa-rabbana-atina-fiddunya-hasanah/',\n",
       " 'https://maktabahalbakri.com/3342-mimpi-selepas-membaca-doa-tidur/',\n",
       " 'https://maktabahalbakri.com/3341-maksud-kaffarah-dan-kifarah/',\n",
       " 'https://maktabahalbakri.com/3340-membatalkan-niat-untuk-membeli-barang/',\n",
       " 'https://maktabahalbakri.com/3339-membaca-al-quran-dengan-nada-berbisik/',\n",
       " 'https://maktabahalbakri.com/3338-doa-agar-dikurniakan-kesabaran/',\n",
       " 'https://maktabahalbakri.com/3337-menyertai-aktiviti-sukarelawan-haiwan-yang-melibatkan-anjing/']"
      ]
     },
     "execution_count": 4,
     "metadata": {},
     "output_type": "execute_result"
    }
   ],
   "source": [
    "h2 = soup.find_all('h5', {'class': 'post-title'})\n",
    "a = [a_.find('a').get('href') for a_ in h2]\n",
    "a"
   ]
  },
  {
   "cell_type": "code",
   "execution_count": 6,
   "metadata": {},
   "outputs": [
    {
     "name": "stderr",
     "output_type": "stream",
     "text": [
      "100%|█████████████████████████████████████████| 337/337 [09:08<00:00,  1.63s/it]\n"
     ]
    }
   ],
   "source": [
    "all_a = []\n",
    "for i in tqdm(range(1, 338, 1)):\n",
    "    url = f'https://maktabahalbakri.com/category/soal-jawab-agama/page/{i}/'\n",
    "    r = requests.get(url)\n",
    "    soup = BeautifulSoup(r.content, \"lxml\")\n",
    "    h2 = soup.find_all('h5', {'class': 'post-title'})\n",
    "    a = [a_.find('a').get('href') for a_ in h2]\n",
    "    all_a.extend(a)"
   ]
  },
  {
   "cell_type": "code",
   "execution_count": 7,
   "metadata": {},
   "outputs": [],
   "source": [
    "all_a = sorted(list(set(all_a)))"
   ]
  },
  {
   "cell_type": "code",
   "execution_count": 8,
   "metadata": {},
   "outputs": [
    {
     "data": {
      "text/plain": [
       "'https://maktabahalbakri.com/100-sunnah-berbekam/'"
      ]
     },
     "execution_count": 8,
     "metadata": {},
     "output_type": "execute_result"
    }
   ],
   "source": [
    "all_a[0]"
   ]
  },
  {
   "cell_type": "code",
   "execution_count": 9,
   "metadata": {},
   "outputs": [],
   "source": [
    "r = requests.get(all_a[0])\n",
    "soup = BeautifulSoup(r.content, \"lxml\")"
   ]
  },
  {
   "cell_type": "code",
   "execution_count": 11,
   "metadata": {},
   "outputs": [
    {
     "data": {
      "text/plain": [
       "'#100 Sunnah Berbekam'"
      ]
     },
     "execution_count": 11,
     "metadata": {},
     "output_type": "execute_result"
    }
   ],
   "source": [
    "soup.find('h1').text"
   ]
  },
  {
   "cell_type": "code",
   "execution_count": 14,
   "metadata": {},
   "outputs": [
    {
     "data": {
      "text/plain": [
       "'-33%\\n\\n\\n\\n\\n \\n\\nSiri Tasawuf\\nAhasin Al Kalim Syarah Hikam Jilid 2\\n\\n\\nRM\\n30.00\\n \\nRM\\n20.00\\nTambah Troli\\n\\n\\n\\n\\n \\n\\neBook Siri umum\\n[eBook] Inilah Doaku\\n\\n\\nRM\\n5.00\\nTambah Troli\\n\\n\\n\\n\\n \\n\\nSiri Umum\\n[eBook] Kalimah Allah Edisi Kemaskini\\n\\n\\nRM\\n10.00\\nTambah Troli\\n\\n\\n\\n\\n \\n\\nBuku Fizikal\\nKeajaiban Sedekah\\n\\n\\nRM\\n25.00\\nTambah Troli\\n\\n\\n\\n\\n \\n\\nEbook\\neBook Mereka yang Pemurah\\nRated \\n5.00\\n out of 5\\n\\n\\nRM\\n10.00\\nTambah Troli\\n-33%\\n\\n\\n\\n\\n \\n\\neBook Sirah\\n[eBook] – Garis Masa Hayat Al Rasul SAW Edisi Pertama\\n\\n\\nRM\\n30.00\\n \\nRM\\n20.00\\nTambah Troli\\n-20%\\n\\n\\n\\n\\n \\n\\nBuku Fizikal\\nPanduan Lengkap Ke Arah Kesempurnaan Ibadah Haji dan Umrah\\n\\n\\nRM\\n100.00\\n \\nRM\\n80.00\\nTambah Troli\\n\\n\\n\\n\\n \\n\\nKajian Ilmiah\\nSahabat Nabi SAW yang bernama Tha’labah\\n\\n\\nRM\\n5.00\\nTambah Troli\\nSoalan\\nApakah dalil daripada sunnah yang menunjukkan Rasulullah SAW selalu berbekam?\\nJawapan\\nAlhamdulillah, puji dan syukur kepada Ilahi atas pelbagai kurniaan dan anugerah yang tidak terhitung buat kita semua. Selawat dan salam ke atas junjungan besar Nabi Muhammad SAW, ahli keluarga, para sahabat dan mereka yang mengikut jejak langkah Baginda hingga ke Hari Kesudahan.\\nBerbekam ataupun dalam bahasa arabnya \\nal-Hijamah\\n (الْحِجَامَةُ) diambil daripada kata perbuatan\\n Hajam\\n (حَجَمَ) yang bermaksud bermaksud menyedut, dan bekam bermaksud menyedut darah dan mengeluarkannya daripada badan.\\n[1]\\nRasulullah SAW pernah berbekam dan Baginda bersabda:\\nخَيْرُ مَا تَدَاوَيْتُمْ بِهِ الْحِجَامَةُ\\nMaksudnya:\\n “\\nSebaik-baik pengubatan yang kalian gunakan adalah bekam.”\\n[2]\\nRasulullah SAW pernah berbekam dan ia dilakukan oleh Abu Taibah. Kemudian Rasulullah SAW memberinya 2 gantang makanan. Adapun tempat berbekam sebagaimana yang diriwayatkan daripada Abdullah bin Malik bin Buhainah RA, bahawa Rasulullah SAW berbekam di kepalanya:\\nأنَّ رَسولَ اللَّهِ صَلّى اللهُ عليه وسلَّمَ احْتَجَمَ بلَحْيِ جَمَلٍ مِن طَرِيقِ مَكَّةَ، وهو مُحْرِمٌ، في وسَطِ رَأْسِهِ.\\nMaksudnya:\\n \\nSesungguhnya Rasulullah SAW berbekam di tengah kepalanya ketika berada di Lahyi Jamal semasa dalam perjalanan ke Makkah dan baginda berada di dalam keadaan ihram.\\n[3]\\nTerdapat banyak hadith yang menceritakan berkaitan berbekam, antaranya ialah:\\nDaripada Anas bin Malik, bahawa Nabi SAW bersabda:\\nحجمَ أبو طيبَةَ رسولَ اللهِ صلَّى اللهُ عليهِ وسلمَ ، فأمرَ له بصاعٍ من تمرٍ ، وأمَرَ أهلَهُ أن يخفِّفُوا من خراجِهِ\\nMaksudnya\\n: \\n“Abu Thaibah membekam Rasulullah SAW lalu Baginda SAW membayarnya dengan satu sha’ kurma dan Baginda SAW mengarahkan keluarganya untuk meringankan pajaknya”.\\n[4]\\nDaripada Abdullah bin Abbas :\\nحجم النبيَّ صلَّى اللهُ عليهِ وسلَّمَ عبدٌ لبني بياضةَ . فأعطاهُ النبيُّ أجرَه . وكلَّم سيدَه فخفَّفَ عنهُ من ضريبتِه ولو كان سُحتًا لم يُعطِه النبيُّ صلَّى اللهُ عليهِ وسلَّم\\nMaksudnya:\\n “Nabi SAW pernah berbekam oleh seorang hamba kepunyaan Bani Bayadhah. Maka Nabi SAW memberinya upah dan Nabi SAW bercakap dengan tuannya agar meringankan tugasnya”. Jika berbekam ini adalah haram, tentu Nabi SAW tidak memberikannya upah.\\n[5]\\nDaripada Anas bin Malik, bahawa Nabi SAW bersabda:\\nإنَّ أفضلَ ما تداويتُم بِه الحجامةَ أو إنَّ من أمثلِ دوائِكمُ الحجامةَ\\nMaksudnya:\\n \\n“Sesungguhnya sebaik-baik perubatan yang kalian gunakan adalah berbekam” atau “Sebaik-baik ubat untuk kalian adalah berbekam”.\\n[6]\\nDaripada Abdullah bin Abbas, bahawa Nabi SAW bersabda:\\nاحتجم النبيُّ صلَّى اللهُ عليهِ وسلَّمَ في الأخدعَيْنِ وبَينَ الكَتِفَيْنِ\\nMaksudnya: “\\nNabi SAW pernah berbekam di lehernya dan juga di antara dua bahunya”.\\n[7]\\nDaripada Abdullah bin Abbas, Bahawa Rasulullah SAW bersabda:\\nأَنَّ النَّبِيَّ صلَّى اللهُ عَلَيْهِ وَسَلَّم احْتَجَم وَهُوَ مُحرِمٌ، وَاحْتجَم وَهُوَ صَائِمٌ\\nMaksudnya\\n: “ \\nNabi SAW berbekam dalam keadaan Baginda SAW berihram dan juga Baginda SAW berbekam ketika Baginda SAW berpuasa”.\\n[8]\\nFaedah berbekam\\nKami kemukakan di sini beberapa faedah berbekam\\n[9]\\n, antaranya:\\nMembuang darah bertoksik yang ada di bawah permukaan kulit.\\nMelancarkan peredaran darah selain membuang angin dalam badan yang menimbulkan rasa tidak selesa.\\nMeringankan otot yang kejang.\\nMengatasi ketegangan berpanjangan.\\nMembebaskan angin kotor dan toksik dalam badan.\\nHukum berbekam\\nTerdapat \\nsebahagian para ulama’ mengatakan bahawa ia adalah sunnah secara mutlak\\n. Iaitu sesiapa sahaja yang melakukan akan mendapat ganjaran samada ia berhajat padanya ataupun tidak. Namun begitu, berbekam adalah satu tuntutan terhadap sesiapa yang memerlukannya dan Nabi SAW juga telah mengatakan sedemikian. Jika orang yang sakit berbekam dengan pembekam yang berautoriti kerana beramal dengan apa yang dinasihatkan dan diajar oleh Nabi SAW maka perbuatan tersebut akan mendapat pahala daripada Allah SWT tanpa syak lagi. Manakala bagi sesiapa yang tidak memerlukannya maka tidak dikenakan apa-apa padanya. Wallahua`lam.\\nBertarikh 12 November 2021 M bersamaan\\xa0 7 Rabiul Akhir 1443 H\\n\\xa0\\n[1]\\n \\xa0Lihat \\nLisan al-Arab,\\n 3/67-68\\n[2]\\n Riwayat Ahmad (12045)\\n[3]\\n Riwayat al-Bukhari (5698)\\n[4]\\n Riwayat al-Bukhari (1960)\\n[5]\\n Riwayat Muslim (2955)\\n[6]\\n Riwayat al-Tirmizi (1199)\\n[7]\\n Riwayat Ahmad (1987)\\n[8]\\n Riwayat al-Bukhari (1802)\\n[9]\\n Pandangan ini sebagaimana dinyatakan oleh pengamal bekam, Zahrin Zulkifli dalam akhbar berita harian. Lihat: https://www.bharian.com.my/bhplus-old/2016/06/163024/berbekam-buang-toksik-dalam-darah'"
      ]
     },
     "execution_count": 14,
     "metadata": {},
     "output_type": "execute_result"
    }
   ],
   "source": [
    "soup.find('div', {'class': 'entry-content'}).get_text(separator=\"\\n\")"
   ]
  },
  {
   "cell_type": "code",
   "execution_count": 15,
   "metadata": {},
   "outputs": [
    {
     "name": "stderr",
     "output_type": "stream",
     "text": [
      "100%|█████████████████████████████████████| 3365/3365 [1:11:23<00:00,  1.27s/it]\n"
     ]
    }
   ],
   "source": [
    "with open('maktabahalbakri.com.jsonl', 'w') as fopen:\n",
    "    for a in tqdm(all_a):\n",
    "        try:\n",
    "            r = requests.get(a)\n",
    "            soup = BeautifulSoup(r.content, \"lxml\")\n",
    "            data = {\n",
    "                'url': a,\n",
    "                'title': soup.find('h1').text.strip(),\n",
    "                'body': soup.find('div', {'class': 'entry-content'}).get_text(separator=\"\\n\"),\n",
    "            }\n",
    "            fopen.write(f'{json.dumps(data)}\\n')\n",
    "        except:\n",
    "            pass"
   ]
  },
  {
   "cell_type": "code",
   "execution_count": null,
   "metadata": {},
   "outputs": [],
   "source": []
  }
 ],
 "metadata": {
  "kernelspec": {
   "display_name": "Python 3 (ipykernel)",
   "language": "python",
   "name": "python3"
  },
  "language_info": {
   "codemirror_mode": {
    "name": "ipython",
    "version": 3
   },
   "file_extension": ".py",
   "mimetype": "text/x-python",
   "name": "python",
   "nbconvert_exporter": "python",
   "pygments_lexer": "ipython3",
   "version": "3.8.10"
  }
 },
 "nbformat": 4,
 "nbformat_minor": 4
}
