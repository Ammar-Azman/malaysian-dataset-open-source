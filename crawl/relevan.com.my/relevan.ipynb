{
 "cells": [
  {
   "cell_type": "code",
   "execution_count": 8,
   "id": "23e383a5",
   "metadata": {},
   "outputs": [],
   "source": [
    "from bs4 import BeautifulSoup\n",
    "import pandas as pd\n",
    "import json\n",
    "import requests\n",
    "from tqdm import tqdm\n",
    "import time\n",
    "from concurrent.futures import ThreadPoolExecutor, as_completed\n",
    "import numpy as np\n",
    "import os\n",
    "\n",
    "hrefs = []\n",
    "headers = {'User-Agent': 'Mozilla/5.0 (Windows NT 6.1; WOW64) AppleWebKit/537.36 (KHTML, like Gecko) Chrome/56.0.2924.76 Safari/537.36'} "
   ]
  },
  {
   "cell_type": "code",
   "execution_count": 9,
   "id": "adefb2cd",
   "metadata": {},
   "outputs": [],
   "source": [
    "links = [\"https://relevan.com.my/category/kesihatan/\",\n",
    "        \"https://relevan.com.my/category/kewangan/\",\n",
    "        \"https://relevan.com.my/category/pendidikan/\",\n",
    "        \"https://relevan.com.my/category/kerjaya/\"]"
   ]
  },
  {
   "cell_type": "code",
   "execution_count": 14,
   "id": "64a40180",
   "metadata": {},
   "outputs": [],
   "source": [
    "def crawl(url):\n",
    "    while True:\n",
    "        try:\n",
    "            r = requests.get(url,headers = headers)\n",
    "            if r.status_code == 508:\n",
    "                print(r.status_code)\n",
    "                print('error in link, retrying... ', url)\n",
    "                time.sleep(20)\n",
    "                continue\n",
    "            break\n",
    "        except Exception as e:\n",
    "            print(e)\n",
    "            time.sleep(1.0)\n",
    "\n",
    "    soup = BeautifulSoup(r.text, \"lxml\")\n",
    "    \n",
    "    main = soup.find(\"div\",attrs = {'class':'col-8 main-content'})\n",
    "    \n",
    "    if main is None:\n",
    "        return\n",
    "\n",
    "    block = main.find_all(\"h2\",attrs = {\"class\":\"is-title post-title\"})\n",
    "    \n",
    "    if block is None:\n",
    "        return\n",
    "\n",
    "    for link in main.find_all('h2',attrs = {\"class\":\"is-title post-title\"}):\n",
    "\n",
    "        href = link.find('a').get('href')\n",
    "\n",
    "        hrefs.append(href)\n",
    "    "
   ]
  },
  {
   "cell_type": "code",
   "execution_count": 15,
   "id": "93735f3e",
   "metadata": {},
   "outputs": [
    {
     "name": "stdout",
     "output_type": "stream",
     "text": [
      "https://relevan.com.my/category/kesihatan/\n",
      "64\n"
     ]
    },
    {
     "name": "stderr",
     "output_type": "stream",
     "text": [
      "100%|█████████████████████████████████████████████████████████████████████████████████████████████████████████████████████████████████████| 7/7 [00:09<00:00,  1.29s/it]\n"
     ]
    },
    {
     "name": "stdout",
     "output_type": "stream",
     "text": [
      "https://relevan.com.my/category/kewangan/\n",
      "17\n"
     ]
    },
    {
     "name": "stderr",
     "output_type": "stream",
     "text": [
      "100%|█████████████████████████████████████████████████████████████████████████████████████████████████████████████████████████████████████| 2/2 [00:03<00:00,  1.96s/it]\n"
     ]
    },
    {
     "name": "stdout",
     "output_type": "stream",
     "text": [
      "https://relevan.com.my/category/pendidikan/\n",
      "30\n"
     ]
    },
    {
     "name": "stderr",
     "output_type": "stream",
     "text": [
      "100%|█████████████████████████████████████████████████████████████████████████████████████████████████████████████████████████████████████| 3/3 [00:07<00:00,  2.60s/it]\n"
     ]
    },
    {
     "name": "stdout",
     "output_type": "stream",
     "text": [
      "https://relevan.com.my/category/kerjaya/\n",
      "16\n"
     ]
    },
    {
     "name": "stderr",
     "output_type": "stream",
     "text": [
      "100%|█████████████████████████████████████████████████████████████████████████████████████████████████████████████████████████████████████| 2/2 [00:03<00:00,  2.00s/it]\n"
     ]
    }
   ],
   "source": [
    "max_worker = 10\n",
    "hrefs = []\n",
    "\n",
    "for url in links:\n",
    "    \n",
    "    print(url)\n",
    "    r = requests.get(url,headers = headers)\n",
    "    soup = BeautifulSoup(r.content, \"lxml\")\n",
    "    a = soup.find_all('a')\n",
    "    a = [a_.get('href') for a_ in a if a_.get('href')]\n",
    "    pgno = [a_ for a_ in a if 'page' in a_]\n",
    "    max_page = max([int(a_.split('page')[1].replace('/','')) for a_ in pgno])\n",
    "    print(max_page)\n",
    "    for i in tqdm(range(1, max_page + 1, max_worker)):\n",
    "        aranged = np.arange(i, i + max_worker)\n",
    "        urls = [f'{url}/page/{a}' for a in aranged]\n",
    "        with ThreadPoolExecutor(max_workers=max_worker) as executor:\n",
    "            futures = {executor.submit(crawl, url): url for url in urls}\n",
    "        \n",
    "        for future in as_completed(futures):\n",
    "            future.result()\n"
   ]
  },
  {
   "cell_type": "code",
   "execution_count": 18,
   "id": "ec63a23c",
   "metadata": {},
   "outputs": [
    {
     "data": {
      "text/plain": [
       "1245"
      ]
     },
     "execution_count": 18,
     "metadata": {},
     "output_type": "execute_result"
    }
   ],
   "source": [
    "len(hrefs)"
   ]
  },
  {
   "cell_type": "code",
   "execution_count": 17,
   "id": "e99b2ce1",
   "metadata": {},
   "outputs": [],
   "source": [
    "hrefs = list(set(hrefs))"
   ]
  },
  {
   "cell_type": "code",
   "execution_count": 19,
   "id": "7b8a68a8",
   "metadata": {},
   "outputs": [],
   "source": [
    "with open('relevan.com.my-links.json', 'a') as f:\n",
    "    json.dump(hrefs, f)"
   ]
  },
  {
   "cell_type": "code",
   "execution_count": 6,
   "id": "9f7d7b19",
   "metadata": {},
   "outputs": [],
   "source": [
    "with open('relevan.com.my-links.json') as f:\n",
    "    hrefs = json.load(f)"
   ]
  },
  {
   "cell_type": "code",
   "execution_count": 28,
   "id": "5c4c017e",
   "metadata": {},
   "outputs": [],
   "source": [
    "def process_url(x):\n",
    "    headers = {'User-Agent': 'Mozilla/5.0 (Windows NT 6.1; WOW64) AppleWebKit/537.36 (KHTML, like Gecko) Chrome/56.0.2924.76 Safari/537.36'} # This is chrome, you can set whatever browser you like\n",
    "    comments = []\n",
    "    \n",
    "    while True:\n",
    "        try:\n",
    "            r = requests.get(x, headers=headers)\n",
    "            break\n",
    "        except Exception as e:\n",
    "            print(e)\n",
    "            time.sleep(5.0)\n",
    "    \n",
    "    soup = BeautifulSoup(r.text, \"lxml\")\n",
    "\n",
    "    try:\n",
    "        headline = soup.find('h1', class_=\"is-title post-title\").text\n",
    "        h = soup.find('div', attrs = {\"class\":\"post-content-wrap\"})\n",
    "        p = [p.text.replace('\\xa0', '') for p in h.find_all(\"p\") if len(p.text.split(\" \")) > 3]\n",
    "    except Exception as e:\n",
    "        print('error in link:'+ x)\n",
    "        print(e)\n",
    "        return None\n",
    "    \n",
    "    \n",
    "    data = {'url': x, 'headline': headline, 'content': p}\n",
    "    return data"
   ]
  },
  {
   "cell_type": "code",
   "execution_count": 30,
   "id": "26c4573c",
   "metadata": {},
   "outputs": [
    {
     "name": "stderr",
     "output_type": "stream",
     "text": [
      "100%|███████████████████████████████████████████████████████████████████████████████████████████████████████████████████████████████| 1245/1245 [02:27<00:00,  8.45it/s]\n"
     ]
    }
   ],
   "source": [
    "max_workers = 10\n",
    "\n",
    "with ThreadPoolExecutor(max_workers=max_workers) as executor:\n",
    "    futures = [executor.submit(process_url, x) for x in hrefs]\n",
    "    \n",
    "    for future in tqdm(futures, total=len(hrefs)):\n",
    "        result = future.result()\n",
    "        if result:\n",
    "            with open('relevan.com-pages.jsonl', 'a',encoding='utf8') as f:\n",
    "                json.dump(result, f,ensure_ascii=False)\n",
    "                f.write('\\n')"
   ]
  },
  {
   "cell_type": "code",
   "execution_count": 29,
   "id": "be1a5c1b",
   "metadata": {
    "scrolled": true
   },
   "outputs": [
    {
     "data": {
      "text/plain": [
       "{'url': 'https://relevan.com.my/2023/06/05/pemindahan-sel-stem-mampu-panjangkan-usia/',\n",
       " 'headline': 'Pemindahan sel stem mampu panjangkan usia',\n",
       " 'content': ['SEBUAH pengubahsuaian genetik dibuktikan mampu melindungi tikus daripada menghidap kanser. Pengubahsuaian itu juga membolehkan haiwan itu hidup sehingga 20 tahun lebih lama, kekal sihat sehingga mencapai usia lebih matang.',\n",
       "  'Kelebihan untuk meningkatkan jangka hayat tikus itu juga boleh dipindahkan kepada tikus-tikus lain melalui pemindahan sel stem darah.',\n",
       "  'Seorang pakar di Universiti Perubatan Taipei yang dikenali sebagai Shen memberitahu, dia dan pasukannya setakat ini masih belum menemui sebarang kesan sampingan negatif daripada penemuan ini.',\n",
       "  'Shen yang mengetuai penyelidikan itu telah bekerjasama dengan firma bioteknologi untuk menambah baik rawatan kanser pada manusia.',\n",
       "  'Sebelum ini, pemindahan sel stem darah sudah menjadi sebahagian daripada rawatan kanser darah tertentu. Mereka berharap, kaedah pengubahsuaian genetik kepada sel yang dipindahkan akan mengurangkan risiko kanser muncul kembali.',\n",
       "  '“Eksperimen pengubahsuaian genetik yang dijalankan pada tikus telah melanjutkan jangka hayat tikus selama lima bulan.',\n",
       "  '“Jika kaedah ini terbukti berjaya dan dapat dilakukan ke atas manusia, sebilangan besar individu berpotensi diberikan sel stem darah yang diubahsuai untuk mengkaji sama ada kaedah ini akan memanjangkan jangka hayat manusia juga,” kata Shen.',\n",
       "  'Pasukan penyelidik dari Universiti Perubatan Taipei itu membuat penemuan tersebut semasa mengkaji protein yang dipanggil KLF1.',\n",
       "  'Ini adalah sejenis protein induk yang dihasilkan dalam beberapa sel darah termasuk sel imun tertentu. Protein ini membantu mengawal aktiviti banyak gen yang berbeza.',\n",
       "  'Sel boleh mengubah aktiviti KLF1 dengan melekatkan bahan kimia pada bahagian tertentu protein tersebut. Untuk kajian ini, pasukan Shen mencipta tikus bermutasi dalam kedua-dua salinan gen KLF1 yang mengubah sebahagian daripada protein ini.',\n",
       "  'Dalam pada itu, ahli pasukan, Yu-Chiau Shyu di Hospital Memorial Chang Gung di Taiwan pula memperhatikan tikus tersebut sangat aktif pada usia pertengahan dan bulu mereka kekal hitam serta berkilat.',\n",
       "  'Pemerhatian itu membawa kepada konklusi tikus yang melalui pengubahsuaian genetik hidup dalam lingkungan antara 10 hingga 20 peratus lebih lama.',\n",
       "  'Tikus tersebut juga kekal hidup sihat lebih lama berbanding tikus biasa. Prestasi fizikal, mentalnya juga mula merosot dalam tempoh lebih lambat.',\n",
       "  'Penyelidik telah mengenal pasti banyak varian genetik lain yang meningkatkan jangka hayat tikus.',\n",
       "  'Walau bagaimanapun, eksperimen ini hanya memanjangkan hayat tikus betina sahaja. Setakat yang dikaji, tidak ada cara yang jelas untuk memberikan manfaat memanjangkan jangka usia kepada tikus lain tanpa varian ini.',\n",
       "  'Oleh kerana proses ini melibatkan sel darah, pasukan penyelidikan tersebut mencuba mengambil jenis sel darah tertentu daripada tikus yang melalui pengubahsuaian genetik. Kemudian, mereka menyuntiknya ke dalam tikus yang mempunyai genetik normal.',\n",
       "  'Pada tahun lepas, pasukan penyelidik itu juga telah melaporkan bahawa suntikan sel imun yang dipanggil sel T mengurangkan penyebaran kanser. Dengan syarat, ia perlu dilakukan berulang kali selama dua minggu.',\n",
       "  'Kini, kajian itu telah menunjukkan bahawa tikus berusia dua bulan yang melalui pemindahan sel stem darah yang diubah suai biasanya hidup lima bulan lebih lama berbanding tikus yang tidak diubah suai. Konklusinya, tikus itu mempunyai peningkatan jangka hayat sebanyak kira-kira 20 peratus.',\n",
       "  'Menurut sebuah kajian yang dilakukan oleh bioRxiv, tikus berumur dua bulan bersamaan dengan 18 tahun umur manusia. Penemuan tersebut mencadangkan bahawa jangka hayat manusia boleh dilanjutkan dengan mengeluarkan beberapa sel stem darah.',\n",
       "  'Sel stem darah tersebut perlu diubah suai untuk mempunyai varian mutasi seperti tikus-tikus tersebut dan dimasukkan semula ke dalam badan. Walau bagaimanapun, prosedur ini mempunyai risiko. Hal ini kerana sel stem darah yang tidak diubah suai perlu dimatikan dengan kemoterapi atau radioterapi.',\n",
       "  'Namun begitu, Shen berpendapat ia masih terlalu awal untuk mencuba pada manusia hanya kerana mahu melanjutkan hayat. Dalam kes lain, bagi mereka yang sudah melakukan pemindahan sel stem darah untuk merawat kanser, keseimbangan antara risiko dan manfaat adalah berbeza.',\n",
       "  '“Saya yakin dengan kebolehan untuk memanjangkan hayat melalui mutasi ini.',\n",
       "  '“Banyak mutasi yang meningkatkan jangka hayat pada tikus yang pada asalnya dilakukan untuk mencegah kanser. Tetapi mutasi ini terbukti mempunyai manfaat yang lebih luas,” kata seorang penyelidik di Universiti Birmingham, United Kingdom, João Pedro de Magalhães.',\n",
       "  'João juga berpendapat pengubahsuaian gen dalam sel stem darah mempunyai potensi besar sebagai terapi untuk penuaan.',\n",
       "  'Oleh kerana tikus dengan mutasi mempunyai kemahiran motor yang lebih baik daripada tikus yang tidak diubah suai ketika mereka semakin tua, pasukan Shen cuba memindahkan sel yang diubah suai kepada tikus yang mengalami keadaan yang menyerupai sklerosis sisi amyotrophic.',\n",
       "  'Penyakit neuron motor (ALS), dicirikan oleh kehilangan kawalan motor dan tidak boleh dirawat. Pemindahan itu memperlahankan risiko perkembangan penyakit tersebut terhadap tikus-tikus yang diubahsuai.',\n",
       "  'Pasukan itu telah melihat dalam pangkalan data genetik untuk mengkaji sesiapa yang sudah melalui proses mutasi ini. Tetapi, mereka tidak menemuinya.',\n",
       "  'Dalam pada itu, kumpulan penyelidik ini telah mengenal pasti satu sebab mengapa mutasi ini mempunyai kesan antikanser. Ia merendahkan tahap PD-1 iaitu protein yang banyak dieksploitasi oleh kanser untuk mengelakkan serangan imun.',\n",
       "  'Beberapa ubat antikanser berfungsi untuk menghalang PD-1 dan dalam beberapa terapi sel untuk kanser, gen PD-1 dihapuskan.',\n",
       "  'Kajian terdahulu telah menunjukkan bahawa menggantikan darah tikus tua dengan darah dari tikus muda boleh memberi kesan meremajakan.',\n",
       "  'Walau bagaimanapun, penjelasan terhadap mengapa darah muda mempunyai kesan ini atau bagaimana mengubahnya menjadi terapi praktikal masih tidak jelas. – RELEVAN']}"
      ]
     },
     "execution_count": 29,
     "metadata": {},
     "output_type": "execute_result"
    }
   ],
   "source": [
    "process_url(\"https://relevan.com.my/2023/06/05/pemindahan-sel-stem-mampu-panjangkan-usia/\")"
   ]
  }
 ],
 "metadata": {
  "kernelspec": {
   "display_name": "Python 3 (ipykernel)",
   "language": "python",
   "name": "python3"
  },
  "language_info": {
   "codemirror_mode": {
    "name": "ipython",
    "version": 3
   },
   "file_extension": ".py",
   "mimetype": "text/x-python",
   "name": "python",
   "nbconvert_exporter": "python",
   "pygments_lexer": "ipython3",
   "version": "3.8.10"
  }
 },
 "nbformat": 4,
 "nbformat_minor": 5
}
