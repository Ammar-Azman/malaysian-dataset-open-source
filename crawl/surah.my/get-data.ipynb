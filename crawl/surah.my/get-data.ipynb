{
 "cells": [
  {
   "cell_type": "code",
   "execution_count": 15,
   "id": "15165da7",
   "metadata": {},
   "outputs": [],
   "source": [
    "import requests\n",
    "from bs4 import BeautifulSoup\n",
    "from tqdm import tqdm\n",
    "import json"
   ]
  },
  {
   "cell_type": "code",
   "execution_count": 18,
   "id": "60a59bd5",
   "metadata": {},
   "outputs": [
    {
     "name": "stderr",
     "output_type": "stream",
     "text": [
      "100%|█████████████████████████████████████████| 114/114 [00:32<00:00,  3.47it/s]\n"
     ]
    }
   ],
   "source": [
    "with open('surah.my.jsonl', 'w') as fopen:\n",
    "    for i in tqdm(range(1, 115, 1)):\n",
    "        r = requests.get(f'https://www.surah.my/{i}')\n",
    "        soup = BeautifulSoup(r.content)\n",
    "        post = soup.find('span', {'id': 'ayat_all_span'}).find_all('div', {'class': 'post'})\n",
    "        post = [p.get_text(separator=\"\\n\") for p in post]\n",
    "        d = {\n",
    "            'url': f'https://www.surah.my/{i}',\n",
    "            'post': post,\n",
    "        }\n",
    "        fopen.write(f'{json.dumps(d)}\\n')"
   ]
  },
  {
   "cell_type": "code",
   "execution_count": null,
   "id": "177c4c43",
   "metadata": {},
   "outputs": [],
   "source": []
  }
 ],
 "metadata": {
  "kernelspec": {
   "display_name": "Python 3 (ipykernel)",
   "language": "python",
   "name": "python3"
  },
  "language_info": {
   "codemirror_mode": {
    "name": "ipython",
    "version": 3
   },
   "file_extension": ".py",
   "mimetype": "text/x-python",
   "name": "python",
   "nbconvert_exporter": "python",
   "pygments_lexer": "ipython3",
   "version": "3.8.10"
  }
 },
 "nbformat": 4,
 "nbformat_minor": 5
}
