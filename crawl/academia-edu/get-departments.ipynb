{
 "cells": [
  {
   "cell_type": "code",
   "execution_count": 8,
   "metadata": {},
   "outputs": [],
   "source": [
    "# !mkdir html\n",
    "# !mv *.html html\n",
    "# !zip -r html.zip html"
   ]
  },
  {
   "cell_type": "code",
   "execution_count": 75,
   "metadata": {},
   "outputs": [],
   "source": [
    "# !mkdir pdf"
   ]
  },
  {
   "cell_type": "code",
   "execution_count": 138,
   "metadata": {},
   "outputs": [],
   "source": [
    "from glob import glob\n",
    "from bs4 import BeautifulSoup\n",
    "import os\n",
    "import requests\n",
    "from tqdm import tqdm\n",
    "import random\n",
    "import time\n",
    "import json"
   ]
  },
  {
   "cell_type": "code",
   "execution_count": 91,
   "metadata": {},
   "outputs": [
    {
     "data": {
      "text/plain": [
       "32"
      ]
     },
     "execution_count": 91,
     "metadata": {},
     "output_type": "execute_result"
    }
   ],
   "source": [
    "htmls = glob('html/*.html')\n",
    "len(htmls)"
   ]
  },
  {
   "cell_type": "code",
   "execution_count": 137,
   "metadata": {},
   "outputs": [
    {
     "data": {
      "text/plain": [
       "'UiTM-Shah-Alam'"
      ]
     },
     "execution_count": 137,
     "metadata": {},
     "output_type": "execute_result"
    }
   ],
   "source": [
    "htmls[0].split(') ')[1].replace(' - Academia.edu.html', '').replace(' ', '-')"
   ]
  },
  {
   "cell_type": "code",
   "execution_count": 139,
   "metadata": {},
   "outputs": [],
   "source": [
    "for html in htmls:\n",
    "    \n",
    "    filename = html.split(') ')[1].replace(' - Academia.edu.html', '').replace(' ', '-')\n",
    "    with open(html) as fopen:\n",
    "        soup = BeautifulSoup(fopen.read(), \"lxml\")\n",
    "    \n",
    "    lis = soup.find_all('li', {'class': 'u-lineHeight2_5'})\n",
    "    lis = [li for li in lis if ' documents</a>' in str(li) or ' document</a>' in str(li)]\n",
    "    l = []\n",
    "    for li in lis:\n",
    "        href = li.find('a').get('href')\n",
    "        try:\n",
    "            doc_count = int(str(li).split(' documents</a>')[0].split('\">')[-1])\n",
    "        except:\n",
    "            doc_count = 1\n",
    "        l.append({\n",
    "            'href': href,\n",
    "            'doc_count': doc_count\n",
    "        })\n",
    "    \n",
    "    with open(f'{filename}.json', 'w') as fopen:\n",
    "        json.dump(l, fopen)"
   ]
  }
 ],
 "metadata": {
  "kernelspec": {
   "display_name": "Python 3 (ipykernel)",
   "language": "python",
   "name": "python3"
  },
  "language_info": {
   "codemirror_mode": {
    "name": "ipython",
    "version": 3
   },
   "file_extension": ".py",
   "mimetype": "text/x-python",
   "name": "python",
   "nbconvert_exporter": "python",
   "pygments_lexer": "ipython3",
   "version": "3.8.10"
  }
 },
 "nbformat": 4,
 "nbformat_minor": 4
}
