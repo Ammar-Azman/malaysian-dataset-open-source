{
 "cells": [
  {
   "cell_type": "code",
   "execution_count": 1,
   "metadata": {},
   "outputs": [],
   "source": [
    "from glob import glob\n",
    "from bs4 import BeautifulSoup\n",
    "import os\n",
    "import requests\n",
    "from tqdm import tqdm\n",
    "import random\n",
    "import time\n",
    "import json"
   ]
  },
  {
   "cell_type": "code",
   "execution_count": 2,
   "metadata": {},
   "outputs": [],
   "source": [
    "cookies = {\n",
    "    'from_cache': '',\n",
    "    'auvid': 'MTY4MzQzNzkyMjk4NDowLjk0ODU3MDk4NDg1NDQ%3D',\n",
    "    '_ga': 'GA1.2.534798164.1683437924',\n",
    "    '_gid': 'GA1.2.1815999583.1683437924',\n",
    "    'overridden_user_tests': '%7B%22google_account_permissions_v2%22%3A%22without_contacts%22%7D',\n",
    "    'user_id': '38068128',\n",
    "    'cookie_test': '38068128',\n",
    "    'long_term_login': 'true',\n",
    "    'login_token': '38068128%3Ba1784e11e7d9103b315e841f',\n",
    "    '_sharedid': 'bdab44d3-8c83-4355-86f4-75591986fab6',\n",
    "    '__qca': 'I0-518466091-1683439461266',\n",
    "    '_pbjs_userid_consent_data': '3524755945110770',\n",
    "    'ki_r': 'aHR0cHM6Ly9tYWxheWEuYWNhZGVtaWEuZWR1Lw%3D%3D',\n",
    "    '_lr_env_src_ats': 'false',\n",
    "    'pbjs-unifiedid': '%7B%22TDID%22%3A%2259a14f4e-9cd9-4559-947d-09f703acfc99%22%2C%22TDID_LOOKUP%22%3A%22TRUE%22%2C%22TDID_CREATED_AT%22%3A%222023-04-07T07%3A58%3A08%22%7D',\n",
    "    'admin_unrecorded_tests': '%7B%22auth_system_version%22%3A%7B%22bucket%22%3A%22login_token_only%22%2C%22buckets%22%3A%5B%22y_cookie%22%2C%22login_token_only%22%5D%7D%2C%22localize_frontend%22%3A%7B%22bucket%22%3A%22localize%22%2C%22buckets%22%3A%5B%22control%22%2C%22localize%22%5D%7D%7D',\n",
    "    'ab_tests': '%7B%22all_premium_general_modal_2023_04%22%3A%22control%22%2C%22profile_page_related_authors%22%3A%22related_authors%22%2C%22all_premium_faculty_modal_2023_04%22%3A%22faculty_image%22%7D',\n",
    "    'ki_t': '1683446284799%3B1683446284799%3B1683447252094%3B1%3B9',\n",
    "    'last_load_time': '1683447252',\n",
    "    'cto_bundle': 'GubNql95MDE2bDVjUzF0eEJlbmwlMkI0dkxFSkUlMkYxWFJWMG9UZFZCMzU5YVBnJTJCRXFTZWhVS0ElMkY0ZjhjU3A5YlJvVGJDc29rJTJCbVJVS0UxWkYwbTdEQ3ZBRWI4dFdrcWVQSjJUdVZxUVdPejFHNVplZGxwcnF0WUpTdDlZc3pFNFc5ZlNXQXcxUm8xViUyRiUyRkh3N3lLZkhwanNBZGpCQSUzRCUzRA',\n",
    "    'cto_bidid': 'Mtch719PcHRRZlpxVWhxZnlra0w1RlBvSzllUlRYYiUyQnAzMTFZMnJzQzZSd1pqZ1NnNWM5QnNsJTJCb21iUXQ0WERkeUVzTDBwMWFmNTFEem5XVkxSSUtqYyUyQmU5cm9NWldXRHdyNmwxSXFndGprQ1pkdyUzRA',\n",
    "    'yauic': 'eyJfcmFpbHMiOnsibWVzc2FnZSI6IkJBaEpJaVl6T0RBMk9ERXlPRHRoTVRjNE5HVXhNV1UzWkRreE1ETmlNekUxWlRnME1XWUdPZ1pGVkE9PSIsImV4cCI6IjIwMjQtMDUtMDdUMDg6MTU6MDIuNjAyWiIsInB1ciI6bnVsbH19--5e1b19b4da42a13efc7ab718556d30a13085494b',\n",
    "    '_cookie_session': 'WXdhaHVCSUpidnRzRUFhR1ZDNjZxaTlnVGtTeVhsT2c1WGtvR0tqUHZHQTIrS3k0TU1yQTF0a0Z4SCsxb0ZXUUhaSy83aFcvUkI1UjhVdmZ1b0VFWDBWd2hhRkM3Z1IvWVN0NFZrQkdtV1VzaDJvdHJtdXFycHVVUGY1bVFPeGIvcG1MM3dua3pkOFN1cEFoTE5Ub3VWdU9IVzV4aTVNbFVWYVRjdWdBMThjRTMyRXlsZVhGTlBWT0VJUVFCRFVST1NtVmhvNUQ0TDJldWlSQm1zYzd3ODRYczR1QUVoaGJSenJXTG82RGlwWUg2T3krektybnA0WHc1eFR5TWtzaTlyZlJPRm9DZkJZSDgrTjFqRjV5QUJ4bFIyQ0E3YWZGRk9JenEvSU95MlZleU4ybTFsVEZhTzBIZ0gvaWM0UWR2eUlvY1dJRE1wbGhtdFUyM1A1bjE5dlovV3NObHlyQk16eFlMR09ITEozVWN2bnM5QnVsc2JodDYraVB4eGM2NEZ4ZWViWWZWWXdQekdsMzBPUGNOK0QzQ0pKMEVhY0NGZXJHdGhXZTcyQnI0dG8wMDJjZ0FDTzV3U25ZL2VWa2RrRlh4Z2UyQXQ2UnJaUkNZZ05TeW1hQmhkdU1qUWxPVklnaTNaa1RrRnM9LS1vOTVoZkRLN0hndlVqYTB0dDRsekJRPT0%3D--ba9351aec1797d1e6f9bb70695ed88daa246b18e',\n",
    "}\n",
    "\n",
    "headers = {\n",
    "    'authority': 'apiitmalaysia.academia.edu',\n",
    "    'accept': 'text/html,application/xhtml+xml,application/xml;q=0.9,image/avif,image/webp,image/apng,*/*;q=0.8,application/signed-exchange;v=b3;q=0.7',\n",
    "    'accept-language': 'en-MY,en;q=0.9,en-US;q=0.8,ms;q=0.7',\n",
    "    'cache-control': 'no-cache',\n",
    "    # 'cookie': 'from_cache=; auvid=MTY4MzQzNzkyMjk4NDowLjk0ODU3MDk4NDg1NDQ%3D; _ga=GA1.2.534798164.1683437924; _gid=GA1.2.1815999583.1683437924; overridden_user_tests=%7B%22google_account_permissions_v2%22%3A%22without_contacts%22%7D; user_id=38068128; cookie_test=38068128; long_term_login=true; login_token=38068128%3Ba1784e11e7d9103b315e841f; _sharedid=bdab44d3-8c83-4355-86f4-75591986fab6; __qca=I0-518466091-1683439461266; _pbjs_userid_consent_data=3524755945110770; ki_r=aHR0cHM6Ly9tYWxheWEuYWNhZGVtaWEuZWR1Lw%3D%3D; _lr_env_src_ats=false; pbjs-unifiedid=%7B%22TDID%22%3A%2259a14f4e-9cd9-4559-947d-09f703acfc99%22%2C%22TDID_LOOKUP%22%3A%22TRUE%22%2C%22TDID_CREATED_AT%22%3A%222023-04-07T07%3A58%3A08%22%7D; admin_unrecorded_tests=%7B%22auth_system_version%22%3A%7B%22bucket%22%3A%22login_token_only%22%2C%22buckets%22%3A%5B%22y_cookie%22%2C%22login_token_only%22%5D%7D%2C%22localize_frontend%22%3A%7B%22bucket%22%3A%22localize%22%2C%22buckets%22%3A%5B%22control%22%2C%22localize%22%5D%7D%7D; ab_tests=%7B%22all_premium_general_modal_2023_04%22%3A%22control%22%2C%22profile_page_related_authors%22%3A%22related_authors%22%2C%22all_premium_faculty_modal_2023_04%22%3A%22faculty_image%22%7D; ki_t=1683446284799%3B1683446284799%3B1683447252094%3B1%3B9; last_load_time=1683447252; cto_bundle=GubNql95MDE2bDVjUzF0eEJlbmwlMkI0dkxFSkUlMkYxWFJWMG9UZFZCMzU5YVBnJTJCRXFTZWhVS0ElMkY0ZjhjU3A5YlJvVGJDc29rJTJCbVJVS0UxWkYwbTdEQ3ZBRWI4dFdrcWVQSjJUdVZxUVdPejFHNVplZGxwcnF0WUpTdDlZc3pFNFc5ZlNXQXcxUm8xViUyRiUyRkh3N3lLZkhwanNBZGpCQSUzRCUzRA; cto_bidid=Mtch719PcHRRZlpxVWhxZnlra0w1RlBvSzllUlRYYiUyQnAzMTFZMnJzQzZSd1pqZ1NnNWM5QnNsJTJCb21iUXQ0WERkeUVzTDBwMWFmNTFEem5XVkxSSUtqYyUyQmU5cm9NWldXRHdyNmwxSXFndGprQ1pkdyUzRA; yauic=eyJfcmFpbHMiOnsibWVzc2FnZSI6IkJBaEpJaVl6T0RBMk9ERXlPRHRoTVRjNE5HVXhNV1UzWkRreE1ETmlNekUxWlRnME1XWUdPZ1pGVkE9PSIsImV4cCI6IjIwMjQtMDUtMDdUMDg6MTU6MDIuNjAyWiIsInB1ciI6bnVsbH19--5e1b19b4da42a13efc7ab718556d30a13085494b; _cookie_session=WXdhaHVCSUpidnRzRUFhR1ZDNjZxaTlnVGtTeVhsT2c1WGtvR0tqUHZHQTIrS3k0TU1yQTF0a0Z4SCsxb0ZXUUhaSy83aFcvUkI1UjhVdmZ1b0VFWDBWd2hhRkM3Z1IvWVN0NFZrQkdtV1VzaDJvdHJtdXFycHVVUGY1bVFPeGIvcG1MM3dua3pkOFN1cEFoTE5Ub3VWdU9IVzV4aTVNbFVWYVRjdWdBMThjRTMyRXlsZVhGTlBWT0VJUVFCRFVST1NtVmhvNUQ0TDJldWlSQm1zYzd3ODRYczR1QUVoaGJSenJXTG82RGlwWUg2T3krektybnA0WHc1eFR5TWtzaTlyZlJPRm9DZkJZSDgrTjFqRjV5QUJ4bFIyQ0E3YWZGRk9JenEvSU95MlZleU4ybTFsVEZhTzBIZ0gvaWM0UWR2eUlvY1dJRE1wbGhtdFUyM1A1bjE5dlovV3NObHlyQk16eFlMR09ITEozVWN2bnM5QnVsc2JodDYraVB4eGM2NEZ4ZWViWWZWWXdQekdsMzBPUGNOK0QzQ0pKMEVhY0NGZXJHdGhXZTcyQnI0dG8wMDJjZ0FDTzV3U25ZL2VWa2RrRlh4Z2UyQXQ2UnJaUkNZZ05TeW1hQmhkdU1qUWxPVklnaTNaa1RrRnM9LS1vOTVoZkRLN0hndlVqYTB0dDRsekJRPT0%3D--ba9351aec1797d1e6f9bb70695ed88daa246b18e',\n",
    "    'pragma': 'no-cache',\n",
    "    'referer': 'https://apiitmalaysia.academia.edu/',\n",
    "    'sec-ch-ua': '\"Chromium\";v=\"112\", \"Google Chrome\";v=\"112\", \"Not:A-Brand\";v=\"99\"',\n",
    "    'sec-ch-ua-mobile': '?0',\n",
    "    'sec-ch-ua-platform': '\"macOS\"',\n",
    "    'sec-fetch-dest': 'document',\n",
    "    'sec-fetch-mode': 'navigate',\n",
    "    'sec-fetch-site': 'same-origin',\n",
    "    'sec-fetch-user': '?1',\n",
    "    'upgrade-insecure-requests': '1',\n",
    "    'user-agent': 'Mozilla/5.0 (Macintosh; Intel Mac OS X 10_15_7) AppleWebKit/537.36 (KHTML, like Gecko) Chrome/112.0.0.0 Safari/537.36',\n",
    "}\n",
    "\n",
    "# response = requests.get(\n",
    "#     'https://apiitmalaysia.academia.edu/Departments/Accounting_and_Finance/Documents?page=1',\n",
    "#     cookies=cookies,\n",
    "#     headers=headers,\n",
    "# )"
   ]
  },
  {
   "cell_type": "code",
   "execution_count": null,
   "metadata": {},
   "outputs": [],
   "source": [
    "soup.find('a', {'rel': 'next'}).get('href')"
   ]
  },
  {
   "cell_type": "code",
   "execution_count": null,
   "metadata": {
    "scrolled": true
   },
   "outputs": [],
   "source": [
    "data = []\n",
    "urls = []\n",
    "\n",
    "url = 'https://www.academia.edu/Documents/in/Malay_Studies'\n",
    "\n",
    "def generator():\n",
    "    while True:\n",
    "        yield\n",
    "\n",
    "for _ in tqdm(generator()):\n",
    "    \n",
    "    response = requests.get(\n",
    "        url,\n",
    "        cookies=cookies,\n",
    "        headers=headers,\n",
    "    )\n",
    "\n",
    "    soup = BeautifulSoup(response.content, \"lxml\")\n",
    "    scripts = soup.find_all('script')\n",
    "    if not len(scripts):\n",
    "        break\n",
    "        \n",
    "    count = 0\n",
    "    for s in scripts:\n",
    "        try:\n",
    "            s = str(s).replace(',\\n    })\\n  }\\n})();</script>', '').split('\\n      work: ')[1]\n",
    "            data.append(json.loads(s))\n",
    "            count += 1\n",
    "        except:\n",
    "            pass\n",
    "    \n",
    "    if count == 0:\n",
    "        break\n",
    "    \n",
    "    \n",
    "    n = soup.find('a', {'rel': 'next'})\n",
    "    if n is None:\n",
    "        break\n",
    "    else:\n",
    "        n = n.get('href')\n",
    "    url = f'https://www.academia.edu/{n}'\n",
    "    urls.append(url)\n",
    "    \n",
    "    time.sleep(random.uniform(1.0, 3.0))"
   ]
  },
  {
   "cell_type": "code",
   "execution_count": null,
   "metadata": {},
   "outputs": [],
   "source": [
    "with open('Malay_Studies.json', 'w') as fopen:\n",
    "    json.dump(data, fopen)"
   ]
  },
  {
   "cell_type": "code",
   "execution_count": 3,
   "metadata": {},
   "outputs": [],
   "source": [
    "with open('Malay_Studies.json') as fopen:\n",
    "    data = json.load(fopen)"
   ]
  },
  {
   "cell_type": "code",
   "execution_count": 4,
   "metadata": {},
   "outputs": [
    {
     "data": {
      "text/plain": [
       "798"
      ]
     },
     "execution_count": 4,
     "metadata": {},
     "output_type": "execute_result"
    }
   ],
   "source": [
    "research_interests = []\n",
    "for d in data:\n",
    "    research_interests.extend([d_['url'].split('?')[0] for d_ in d['research_interests']])\n",
    "    \n",
    "research_interests = list(set(research_interests))\n",
    "len(research_interests)"
   ]
  },
  {
   "cell_type": "code",
   "execution_count": 8,
   "metadata": {},
   "outputs": [],
   "source": [
    "def generator():\n",
    "    while True:\n",
    "        yield\n",
    "        \n",
    "for url in research_interests:\n",
    "    \n",
    "    filename = url.split('/')[-1] + '.json'\n",
    "    if os.path.exists(filename):\n",
    "        continue\n",
    "        \n",
    "    data = []\n",
    "    urls = []\n",
    "    \n",
    "    for _ in tqdm(range(300)):\n",
    "\n",
    "        response = requests.get(\n",
    "            url,\n",
    "            cookies=cookies,\n",
    "            headers=headers,\n",
    "        )\n",
    "\n",
    "        soup = BeautifulSoup(response.content, \"lxml\")\n",
    "        scripts = soup.find_all('script')\n",
    "        if not len(scripts):\n",
    "            break\n",
    "\n",
    "        count = 0\n",
    "        for s in scripts:\n",
    "            try:\n",
    "                s = str(s).replace(',\\n    })\\n  }\\n})();</script>', '').split('\\n      work: ')[1]\n",
    "                data.append(json.loads(s))\n",
    "                count += 1\n",
    "            except:\n",
    "                pass\n",
    "\n",
    "        if count == 0:\n",
    "            break\n",
    "\n",
    "        n = soup.find('a', {'rel': 'next'})\n",
    "        if n is None:\n",
    "            break\n",
    "        else:\n",
    "            n = n.get('href')\n",
    "        url = f'https://www.academia.edu/{n}'\n",
    "        urls.append(url)\n",
    "\n",
    "        time.sleep(random.uniform(1.0, 3.0))\n",
    "    \n",
    "    with open(filename, 'w') as fopen:\n",
    "        json.dump(data, fopen)"
   ]
  },
  {
   "cell_type": "code",
   "execution_count": 12,
   "metadata": {},
   "outputs": [],
   "source": [
    "# !mkdir interests\n",
    "# !mv *.json interests"
   ]
  },
  {
   "cell_type": "code",
   "execution_count": 13,
   "metadata": {
    "scrolled": true
   },
   "outputs": [
    {
     "name": "stdout",
     "output_type": "stream",
     "text": [
      "2.2G\tinterests\r\n"
     ]
    }
   ],
   "source": [
    "!du -hs interests"
   ]
  },
  {
   "cell_type": "code",
   "execution_count": 15,
   "metadata": {},
   "outputs": [],
   "source": [
    "# !zip -r interests.zip interests"
   ]
  },
  {
   "cell_type": "code",
   "execution_count": null,
   "metadata": {},
   "outputs": [],
   "source": [
    "# def is_downloadable(url):\n",
    "#     h = requests.head(url, cookies=cookies,\n",
    "#     headers=headers,allow_redirects=True)\n",
    "#     header = h.headers\n",
    "#     content_type = header.get('content-type')\n",
    "#     if 'text' in content_type.lower():\n",
    "#         return False\n",
    "#     if 'html' in content_type.lower():\n",
    "#         return False\n",
    "#     return h\n",
    "\n",
    "# def download_file_cloud(url, filename):\n",
    "#     r = requests.get(url, cookies=cookies,\n",
    "#     headers=headers,stream=True)\n",
    "#     total_size = int(r.headers['content-length'])\n",
    "#     version = int(r.headers.get('X-Bz-Upload-Timestamp', 0))\n",
    "#     os.makedirs(os.path.dirname(filename), exist_ok=True)\n",
    "#     with open(filename, 'wb') as f:\n",
    "#         for data in r.iter_content(chunk_size=1_048_576):\n",
    "#             f.write(data)\n",
    "#     return version"
   ]
  },
  {
   "cell_type": "code",
   "execution_count": null,
   "metadata": {},
   "outputs": [],
   "source": [
    "# h = is_downloadable('https://www.academia.edu/attachments/33477451/download_file')"
   ]
  },
  {
   "cell_type": "code",
   "execution_count": null,
   "metadata": {},
   "outputs": [],
   "source": [
    "# h.headers['Content-Disposition'].split('filename=')[1]"
   ]
  },
  {
   "cell_type": "code",
   "execution_count": null,
   "metadata": {},
   "outputs": [],
   "source": [
    "# 'https://www.academia.edu/attachments/33477451/download_file'"
   ]
  }
 ],
 "metadata": {
  "kernelspec": {
   "display_name": "Python 3 (ipykernel)",
   "language": "python",
   "name": "python3"
  },
  "language_info": {
   "codemirror_mode": {
    "name": "ipython",
    "version": 3
   },
   "file_extension": ".py",
   "mimetype": "text/x-python",
   "name": "python",
   "nbconvert_exporter": "python",
   "pygments_lexer": "ipython3",
   "version": "3.8.10"
  }
 },
 "nbformat": 4,
 "nbformat_minor": 4
}
