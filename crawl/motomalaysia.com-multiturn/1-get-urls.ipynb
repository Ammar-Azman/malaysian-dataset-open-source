{
 "cells": [
  {
   "cell_type": "code",
   "execution_count": 1,
   "id": "7fc3d6e9-cc88-40a6-942e-b7cace09faa7",
   "metadata": {},
   "outputs": [],
   "source": [
    "from bs4 import BeautifulSoup\n",
    "import requests\n",
    "from tqdm import tqdm\n",
    "import json"
   ]
  },
  {
   "cell_type": "code",
   "execution_count": 2,
   "id": "fae3686f-9dd3-48ee-a1ec-fcd85019ebba",
   "metadata": {},
   "outputs": [],
   "source": [
    "headers = {'User-Agent': 'Mozilla/5.0 (Windows NT 6.1; WOW64) AppleWebKit/537.36 (KHTML, like Gecko) Chrome/56.0.2924.76 Safari/537.36',\n",
    "           'Referer':'https://www.motomalaysia.com/'}"
   ]
  },
  {
   "cell_type": "code",
   "execution_count": 40,
   "id": "8739a96b-2636-4e82-adcc-65c69bb34201",
   "metadata": {},
   "outputs": [],
   "source": [
    "url = \"https://www.motomalaysia.com/category/new-motorcycle-bike-price-list-malaysia/\""
   ]
  },
  {
   "cell_type": "code",
   "execution_count": 59,
   "id": "4a88a03d-f923-4b75-b56a-6102d088166c",
   "metadata": {},
   "outputs": [],
   "source": [
    "def crawl(x):\n",
    "    url = f'https://www.motomalaysia.com/category/new-motorcycle-bike-price-list-malaysia/page/{x}'\n",
    "    r = requests.get(url,headers = headers)\n",
    "    soup = BeautifulSoup(r.content, \"html.parser\")\n",
    "    urls = []\n",
    "    for i in soup.find('div', {'class': 'row'}).find_all('article'):\n",
    "        data = i.find('a').get('href')\n",
    "        urls.append(data)\n",
    "    return urls"
   ]
  },
  {
   "cell_type": "code",
   "execution_count": 60,
   "id": "7933bd1f-dcbd-43cd-8d6d-c1ade8b576da",
   "metadata": {},
   "outputs": [
    {
     "name": "stderr",
     "output_type": "stream",
     "text": [
      "100%|██████████████████████████████████████████████████████████████████████████████████████████████████████████████| 14/14 [00:00<00:00, 16.15it/s]\n"
     ]
    }
   ],
   "source": [
    "from concurrent.futures import ThreadPoolExecutor, as_completed\n",
    "import numpy as np\n",
    "from tqdm import tqdm\n",
    "\n",
    "max_workers = 10\n",
    "urls = []\n",
    "with ThreadPoolExecutor(max_workers=max_workers) as executor:\n",
    "    futures = [executor.submit(crawl, x) for x in range(1, 15)]\n",
    "    \n",
    "    for future in tqdm(futures, total=14):\n",
    "        result = future.result()\n",
    "        if result:\n",
    "            for x in result:\n",
    "                with open('motor_models.jsonl', 'a') as f:\n",
    "                    json.dump(x, f)\n",
    "                    f.write('\\n')\n"
   ]
  }
 ],
 "metadata": {
  "kernelspec": {
   "display_name": "Python 3 (ipykernel)",
   "language": "python",
   "name": "python3"
  },
  "language_info": {
   "codemirror_mode": {
    "name": "ipython",
    "version": 3
   },
   "file_extension": ".py",
   "mimetype": "text/x-python",
   "name": "python",
   "nbconvert_exporter": "python",
   "pygments_lexer": "ipython3",
   "version": "3.8.10"
  }
 },
 "nbformat": 4,
 "nbformat_minor": 5
}
