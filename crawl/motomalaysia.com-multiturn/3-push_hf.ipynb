{
 "cells": [
  {
   "cell_type": "code",
   "execution_count": 8,
   "id": "05b70424-f71c-4faf-bb81-f8ad73bfb11a",
   "metadata": {},
   "outputs": [],
   "source": [
    "from huggingface_hub import login"
   ]
  },
  {
   "cell_type": "code",
   "execution_count": 2,
   "id": "5077911c-918b-4606-aabf-98cb73132785",
   "metadata": {},
   "outputs": [
    {
     "data": {
      "application/vnd.jupyter.widget-view+json": {
       "model_id": "f0a68b63dcae418cb7ac87038a0950b6",
       "version_major": 2,
       "version_minor": 0
      },
      "text/plain": [
       "VBox(children=(HTML(value='<center> <img\\nsrc=https://huggingface.co/front/assets/huggingface_logo-noborder.sv…"
      ]
     },
     "metadata": {},
     "output_type": "display_data"
    }
   ],
   "source": [
    "login()"
   ]
  },
  {
   "cell_type": "code",
   "execution_count": 3,
   "id": "08486e1c-fcf0-4178-97af-69cbd60e36c4",
   "metadata": {},
   "outputs": [],
   "source": [
    "from huggingface_hub import HfApi"
   ]
  },
  {
   "cell_type": "code",
   "execution_count": 4,
   "id": "0ef18c9b-2c0a-455f-a69b-fd38051d90c8",
   "metadata": {},
   "outputs": [
    {
     "data": {
      "text/plain": [
       "RepoUrl('https://huggingface.co/datasets/malaysia-ai2020/motomalaysia.com-multiturn', endpoint='https://huggingface.co', repo_type='dataset', repo_id='malaysia-ai2020/motomalaysia.com-multiturn')"
      ]
     },
     "execution_count": 4,
     "metadata": {},
     "output_type": "execute_result"
    }
   ],
   "source": [
    "api = HfApi()\n",
    "api.create_repo(\n",
    "    repo_id=\"motomalaysia.com-multiturn\",\n",
    "    repo_type='dataset',\n",
    ")"
   ]
  },
  {
   "cell_type": "code",
   "execution_count": 7,
   "id": "f85085c6-6b86-4ae5-9d9c-7d1c28720ccd",
   "metadata": {},
   "outputs": [
    {
     "data": {
      "text/plain": [
       "CommitInfo(commit_url='https://huggingface.co/datasets/malaysia-ai2020/motomalaysia.com-multiturn/commit/6752cd6172c102927191d188bb541e6dba8c1720', commit_message='Upload motomalaysia-data.jsonl with huggingface_hub', commit_description='', oid='6752cd6172c102927191d188bb541e6dba8c1720', pr_url=None, pr_revision=None, pr_num=None)"
      ]
     },
     "execution_count": 7,
     "metadata": {},
     "output_type": "execute_result"
    }
   ],
   "source": [
    "api.upload_file(\n",
    "    path_or_fileobj=\"motomalaysia-data.jsonl\",\n",
    "    path_in_repo=\"motomalaysia-data.jsonl\",\n",
    "    repo_id=\"malaysia-ai2020/motomalaysia.com-multiturn\",\n",
    "    repo_type='dataset',\n",
    ")"
   ]
  },
  {
   "cell_type": "code",
   "execution_count": 10,
   "id": "140de7b1-7930-462c-b20a-53bd2c510c96",
   "metadata": {},
   "outputs": [],
   "source": [
    "!zip -r pic.zip pic"
   ]
  },
  {
   "cell_type": "code",
   "execution_count": 11,
   "id": "36ad0fec-3e4e-404f-b384-a4afa71f0863",
   "metadata": {},
   "outputs": [
    {
     "data": {
      "application/vnd.jupyter.widget-view+json": {
       "model_id": "529e77133f3b4457831ebdc766a126fd",
       "version_major": 2,
       "version_minor": 0
      },
      "text/plain": [
       "pic.zip:   0%|          | 0.00/65.6M [00:00<?, ?B/s]"
      ]
     },
     "metadata": {},
     "output_type": "display_data"
    },
    {
     "data": {
      "text/plain": [
       "CommitInfo(commit_url='https://huggingface.co/datasets/malaysia-ai2020/motomalaysia.com-multiturn/commit/050647249f9cb6be23668ad0041cb3d8ac697ba4', commit_message='Upload pic.zip with huggingface_hub', commit_description='', oid='050647249f9cb6be23668ad0041cb3d8ac697ba4', pr_url=None, pr_revision=None, pr_num=None)"
      ]
     },
     "execution_count": 11,
     "metadata": {},
     "output_type": "execute_result"
    }
   ],
   "source": [
    "api.upload_file(\n",
    "    path_or_fileobj=\"pic.zip\",\n",
    "    path_in_repo=\"pic.zip\",\n",
    "    repo_id=\"malaysia-ai2020/motomalaysia.com-multiturn\",\n",
    "    repo_type='dataset',\n",
    ")"
   ]
  },
  {
   "cell_type": "code",
   "execution_count": 14,
   "id": "7eb9dc2b-0f12-44a9-b296-6a8d80b29b1e",
   "metadata": {},
   "outputs": [],
   "source": [
    "import glob\n",
    "\n",
    "# Path to the folder containing pictures\n",
    "folder_path = 'pic/*'  # Replace with your folder path\n",
    "\n",
    "# File format (e.g., *.jpg for JPEG images)\n",
    "file_format = 'jpg'\n",
    "\n",
    "# Combine folder path and file format\n",
    "search_pattern = f\"{folder_path}.{file_format}\"\n",
    "\n",
    "# Use glob to find all files matching the pattern\n",
    "picture_files = glob.glob(search_pattern)\n",
    "\n",
    "# Count the number of picture files\n",
    "number_of_pictures = len(picture_files)\n",
    "\n",
    "print(f\"Number of {file_format} pictures in the folder: {number_of_pictures}\")\n"
   ]
  },
  {
   "cell_type": "code",
   "execution_count": 15,
   "id": "22dfba01-17ac-40fd-a1e0-ef0641a6dddc",
   "metadata": {},
   "outputs": [
    {
     "data": {
      "text/plain": [
       "672"
      ]
     },
     "execution_count": 15,
     "metadata": {},
     "output_type": "execute_result"
    }
   ],
   "source": [
    "number_of_pictures"
   ]
  }
 ],
 "metadata": {
  "kernelspec": {
   "display_name": "Python 3 (ipykernel)",
   "language": "python",
   "name": "python3"
  },
  "language_info": {
   "codemirror_mode": {
    "name": "ipython",
    "version": 3
   },
   "file_extension": ".py",
   "mimetype": "text/x-python",
   "name": "python",
   "nbconvert_exporter": "python",
   "pygments_lexer": "ipython3",
   "version": "3.8.10"
  }
 },
 "nbformat": 4,
 "nbformat_minor": 5
}
