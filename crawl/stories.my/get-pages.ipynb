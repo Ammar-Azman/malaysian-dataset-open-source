{
 "cells": [
  {
   "cell_type": "code",
   "execution_count": 1,
   "metadata": {},
   "outputs": [],
   "source": [
    "import requests\n",
    "from bs4 import BeautifulSoup\n",
    "from tqdm import tqdm\n",
    "import os\n",
    "import json\n",
    "import numpy as np\n",
    "import time\n",
    "import random\n",
    "import json"
   ]
  },
  {
   "cell_type": "code",
   "execution_count": 2,
   "metadata": {},
   "outputs": [],
   "source": [
    "cookies = {\n",
    "    'wc_visitor': '93544-9f2c995b-6ddf-c63b-ea8d-bdc4a3a59ef8',\n",
    "    'wc_client': 'google+..+organic+..++..++..++..++..+https%3A%2F%2Fstories.my%2Fblog%2F+..+93544-9f2c995b-6ddf-c63b-ea8d-bdc4a3a59ef8+..+',\n",
    "    '__utmc': '258592712',\n",
    "    '__utmz': '258592712.1687930380.1.1.utmcsr=google|utmccn=(organic)|utmcmd=organic|utmctr=(not%20provided)',\n",
    "    'wc_client_current': 'direct+..+none+..++..++..++..++..+https%3A%2F%2Fstories.my%2Fblog%2F+..+93544-9f2c995b-6ddf-c63b-ea8d-bdc4a3a59ef8+..+',\n",
    "    '__utma': '258592712.407393053.1687930380.1687930380.1688135919.2',\n",
    "    '__utmb': '258592712.5.10.1688135919',\n",
    "}\n",
    "\n",
    "headers = {\n",
    "    'authority': 'stories.my',\n",
    "    'accept': 'text/html,application/xhtml+xml,application/xml;q=0.9,image/avif,image/webp,image/apng,*/*;q=0.8,application/signed-exchange;v=b3;q=0.7',\n",
    "    'accept-language': 'en-MY,en;q=0.9,en-US;q=0.8,ms;q=0.7',\n",
    "    'cache-control': 'no-cache',\n",
    "    # 'cookie': 'wc_visitor=93544-9f2c995b-6ddf-c63b-ea8d-bdc4a3a59ef8; wc_client=google+..+organic+..++..++..++..++..+https%3A%2F%2Fstories.my%2Fblog%2F+..+93544-9f2c995b-6ddf-c63b-ea8d-bdc4a3a59ef8+..+; __utmc=258592712; __utmz=258592712.1687930380.1.1.utmcsr=google|utmccn=(organic)|utmcmd=organic|utmctr=(not%20provided); wc_client_current=direct+..+none+..++..++..++..++..+https%3A%2F%2Fstories.my%2Fblog%2F+..+93544-9f2c995b-6ddf-c63b-ea8d-bdc4a3a59ef8+..+; __utma=258592712.407393053.1687930380.1687930380.1688135919.2; __utmb=258592712.5.10.1688135919',\n",
    "    'pragma': 'no-cache',\n",
    "    'referer': 'https://stories.my/blog/',\n",
    "    'sec-ch-ua': '\"Not.A/Brand\";v=\"8\", \"Chromium\";v=\"114\", \"Google Chrome\";v=\"114\"',\n",
    "    'sec-ch-ua-mobile': '?0',\n",
    "    'sec-ch-ua-platform': '\"macOS\"',\n",
    "    'sec-fetch-dest': 'document',\n",
    "    'sec-fetch-mode': 'navigate',\n",
    "    'sec-fetch-site': 'same-origin',\n",
    "    'sec-fetch-user': '?1',\n",
    "    'upgrade-insecure-requests': '1',\n",
    "    'user-agent': 'Mozilla/5.0 (Macintosh; Intel Mac OS X 10_15_7) AppleWebKit/537.36 (KHTML, like Gecko) Chrome/114.0.0.0 Safari/537.36',\n",
    "}"
   ]
  },
  {
   "cell_type": "code",
   "execution_count": 3,
   "metadata": {},
   "outputs": [],
   "source": [
    "with open('url.json') as fopen:\n",
    "    urls = json.load(fopen)"
   ]
  },
  {
   "cell_type": "code",
   "execution_count": 4,
   "metadata": {},
   "outputs": [
    {
     "data": {
      "text/plain": [
       "'https://stories.my/blog/2012/01/26/photography-tips-chinese-tea-ceremony/'"
      ]
     },
     "execution_count": 4,
     "metadata": {},
     "output_type": "execute_result"
    }
   ],
   "source": [
    "urls[0]"
   ]
  },
  {
   "cell_type": "code",
   "execution_count": 5,
   "metadata": {},
   "outputs": [],
   "source": [
    "url = urls[0]\n",
    "response = requests.get(url, cookies=cookies, headers=headers)"
   ]
  },
  {
   "cell_type": "code",
   "execution_count": 6,
   "metadata": {},
   "outputs": [],
   "source": [
    "soup = BeautifulSoup(response.content, \"lxml\")"
   ]
  },
  {
   "cell_type": "code",
   "execution_count": 13,
   "metadata": {},
   "outputs": [],
   "source": [
    "title = soup.find('h1', {'class': 'entry-title'}).text\n",
    "text = soup.find('div', {'class': 'post-content'}).text"
   ]
  },
  {
   "cell_type": "code",
   "execution_count": 14,
   "metadata": {},
   "outputs": [
    {
     "name": "stderr",
     "output_type": "stream",
     "text": [
      "100%|███████████████████████████████████████| 1074/1074 [29:21<00:00,  1.64s/it]\n"
     ]
    }
   ],
   "source": [
    "data = []\n",
    "for url in tqdm(urls):\n",
    "    response = requests.get(url, cookies=cookies, headers=headers)\n",
    "    soup = BeautifulSoup(response.content, \"lxml\")\n",
    "    try:\n",
    "        title = soup.find('h1', {'class': 'entry-title'}).text\n",
    "    except:\n",
    "        pass\n",
    "    try:\n",
    "        text = soup.find('div', {'class': 'post-content'}).text\n",
    "    except:\n",
    "        pass\n",
    "    \n",
    "    data.append({\n",
    "        'url': url,\n",
    "        'title': title,\n",
    "        'text': text,\n",
    "    })"
   ]
  },
  {
   "cell_type": "code",
   "execution_count": 15,
   "metadata": {},
   "outputs": [
    {
     "data": {
      "text/plain": [
       "{'url': 'https://stories.my/blog/2012/01/26/photography-tips-chinese-tea-ceremony/',\n",
       " 'title': 'Tips: Photographing the Chinese Tea Ceremony',\n",
       " 'text': '\\n\\nSince we’re all still in Chinese New Year mood, I thought I’d share some tips (from a photographer’s perspective) regarding the tea ceremony that happens at every Chinese wedding. Hope it helps you plan for your tea ceremony!\\n1. Please prepare \\xa0a list so you are well organized during the ceremony. You don’t want to accidentally miss that aunt who travelled all the way from Ipoh to attend your wedding. It also enables the ceremony to run smoothly as the next person can prepare their gifts and ang pow before it is their turn.\\n2. In the past, we’ve photographed a tea ceremony with a large group of about 100 people. And that was only one side of the family! Instead of taking 2 hours for the session, you could speed things up by preparing additional seats – while one couple is being served tea, the next couple is already seated on the 2nd set of chairs, waiting for their turn! One couple we photographed actually created a semi-circle of about 10 seats. Everyone was seated, and the couple made their rounds in an orderly manner.\\n\\n3. Find a spacious area for the tea ceremony where we can move around easily for multiple angles. Try not to place the seats against a wall. Give at least a 3 feet gap so the photographer can roam behind the seats for a different perspective.\\n4. As for the arrangement of the chairs… it’s quite normal for the 2 chairs to be placed side by side in a straight row. But when we take a side angle shot, the person in front usually blocks the person at the back. So we do sometimes request permission to adjust the position of the chairs a little, if the elders are ok with it. Do prompt them about this so they won’t feel upset that the chairs may be arranged for better photography.\\n5. Ask the person collecting ang pows or preparing tea to stand across on the other side, away from the photographers. That way, they would not be blocking the bride & groom and also, they would appear more often in the images!\\n6. Lastly, when you serve the tea, try to hold the cup in a way that your hand doesn’t cover it completely.\\nHope these tips help! Enjoy the moment and remember to laugh a lot!\\n\\nChairs were positioned one slightly behind the other so that everyone is visible from the photographer’s perspective. Unfortunately we can’t really see the tea cup in this shot.\\xa0\\n\\n\\xa0Having space behind the chairs is great because it enables us to move around easily!\\n\\nLots of space to move around! And of course, if your home has lots of big windows with natural light, that’s an even bigger bonus for us!\\n\\n'}"
      ]
     },
     "execution_count": 15,
     "metadata": {},
     "output_type": "execute_result"
    }
   ],
   "source": [
    "data[0]"
   ]
  },
  {
   "cell_type": "code",
   "execution_count": 16,
   "metadata": {},
   "outputs": [],
   "source": [
    "with open('data.json', 'w') as fopen:\n",
    "    json.dump(data, fopen)"
   ]
  }
 ],
 "metadata": {
  "kernelspec": {
   "display_name": "Python 3 (ipykernel)",
   "language": "python",
   "name": "python3"
  },
  "language_info": {
   "codemirror_mode": {
    "name": "ipython",
    "version": 3
   },
   "file_extension": ".py",
   "mimetype": "text/x-python",
   "name": "python",
   "nbconvert_exporter": "python",
   "pygments_lexer": "ipython3",
   "version": "3.8.10"
  }
 },
 "nbformat": 4,
 "nbformat_minor": 4
}
