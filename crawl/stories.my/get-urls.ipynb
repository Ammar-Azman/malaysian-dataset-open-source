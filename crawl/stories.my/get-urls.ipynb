{
 "cells": [
  {
   "cell_type": "code",
   "execution_count": 1,
   "metadata": {},
   "outputs": [],
   "source": [
    "import requests\n",
    "from bs4 import BeautifulSoup\n",
    "from tqdm import tqdm\n",
    "import os\n",
    "import json\n",
    "import numpy as np\n",
    "import time\n",
    "import random\n",
    "import json"
   ]
  },
  {
   "cell_type": "code",
   "execution_count": 6,
   "metadata": {},
   "outputs": [],
   "source": [
    "cookies = {\n",
    "    'wc_visitor': '93544-9f2c995b-6ddf-c63b-ea8d-bdc4a3a59ef8',\n",
    "    'wc_client': 'google+..+organic+..++..++..++..++..+https%3A%2F%2Fstories.my%2Fblog%2F+..+93544-9f2c995b-6ddf-c63b-ea8d-bdc4a3a59ef8+..+',\n",
    "    '__utmc': '258592712',\n",
    "    '__utmz': '258592712.1687930380.1.1.utmcsr=google|utmccn=(organic)|utmcmd=organic|utmctr=(not%20provided)',\n",
    "    'wc_client_current': 'direct+..+none+..++..++..++..++..+https%3A%2F%2Fstories.my%2Fblog%2F+..+93544-9f2c995b-6ddf-c63b-ea8d-bdc4a3a59ef8+..+',\n",
    "    '__utma': '258592712.407393053.1687930380.1687930380.1688135919.2',\n",
    "    '__utmb': '258592712.5.10.1688135919',\n",
    "}\n",
    "\n",
    "headers = {\n",
    "    'authority': 'stories.my',\n",
    "    'accept': 'text/html,application/xhtml+xml,application/xml;q=0.9,image/avif,image/webp,image/apng,*/*;q=0.8,application/signed-exchange;v=b3;q=0.7',\n",
    "    'accept-language': 'en-MY,en;q=0.9,en-US;q=0.8,ms;q=0.7',\n",
    "    'cache-control': 'no-cache',\n",
    "    # 'cookie': 'wc_visitor=93544-9f2c995b-6ddf-c63b-ea8d-bdc4a3a59ef8; wc_client=google+..+organic+..++..++..++..++..+https%3A%2F%2Fstories.my%2Fblog%2F+..+93544-9f2c995b-6ddf-c63b-ea8d-bdc4a3a59ef8+..+; __utmc=258592712; __utmz=258592712.1687930380.1.1.utmcsr=google|utmccn=(organic)|utmcmd=organic|utmctr=(not%20provided); wc_client_current=direct+..+none+..++..++..++..++..+https%3A%2F%2Fstories.my%2Fblog%2F+..+93544-9f2c995b-6ddf-c63b-ea8d-bdc4a3a59ef8+..+; __utma=258592712.407393053.1687930380.1687930380.1688135919.2; __utmb=258592712.5.10.1688135919',\n",
    "    'pragma': 'no-cache',\n",
    "    'referer': 'https://stories.my/blog/',\n",
    "    'sec-ch-ua': '\"Not.A/Brand\";v=\"8\", \"Chromium\";v=\"114\", \"Google Chrome\";v=\"114\"',\n",
    "    'sec-ch-ua-mobile': '?0',\n",
    "    'sec-ch-ua-platform': '\"macOS\"',\n",
    "    'sec-fetch-dest': 'document',\n",
    "    'sec-fetch-mode': 'navigate',\n",
    "    'sec-fetch-site': 'same-origin',\n",
    "    'sec-fetch-user': '?1',\n",
    "    'upgrade-insecure-requests': '1',\n",
    "    'user-agent': 'Mozilla/5.0 (Macintosh; Intel Mac OS X 10_15_7) AppleWebKit/537.36 (KHTML, like Gecko) Chrome/114.0.0.0 Safari/537.36',\n",
    "}"
   ]
  },
  {
   "cell_type": "code",
   "execution_count": 20,
   "metadata": {},
   "outputs": [
    {
     "name": "stderr",
     "output_type": "stream",
     "text": [
      "100%|█████████████████████████████████████████| 215/215 [05:32<00:00,  1.55s/it]\n"
     ]
    }
   ],
   "source": [
    "urls = []\n",
    "for i in tqdm(range(1, 216, 1)):\n",
    "    response = requests.get(f'https://stories.my/blog/page/{i}/', cookies=cookies, headers=headers)\n",
    "    soup = BeautifulSoup(response.content, \"lxml\")\n",
    "    h2 = soup.find_all('h2')\n",
    "    for h2_ in h2:\n",
    "        try:\n",
    "            urls.append(h2_.find('a').get('href'))\n",
    "        except:\n",
    "            pass"
   ]
  },
  {
   "cell_type": "code",
   "execution_count": 21,
   "metadata": {},
   "outputs": [
    {
     "data": {
      "text/plain": [
       "1077"
      ]
     },
     "execution_count": 21,
     "metadata": {},
     "output_type": "execute_result"
    }
   ],
   "source": [
    "len(urls)"
   ]
  },
  {
   "cell_type": "code",
   "execution_count": 22,
   "metadata": {},
   "outputs": [],
   "source": [
    "with open('url.json', 'w') as fopen:\n",
    "    json.dump(list(set(urls)), fopen)"
   ]
  }
 ],
 "metadata": {
  "kernelspec": {
   "display_name": "Python 3 (ipykernel)",
   "language": "python",
   "name": "python3"
  },
  "language_info": {
   "codemirror_mode": {
    "name": "ipython",
    "version": 3
   },
   "file_extension": ".py",
   "mimetype": "text/x-python",
   "name": "python",
   "nbconvert_exporter": "python",
   "pygments_lexer": "ipython3",
   "version": "3.8.10"
  }
 },
 "nbformat": 4,
 "nbformat_minor": 4
}
