{
 "cells": [
  {
   "cell_type": "code",
   "execution_count": 1,
   "metadata": {},
   "outputs": [],
   "source": [
    "import requests\n",
    "import numpy as np\n",
    "from bs4 import BeautifulSoup\n",
    "from tqdm import tqdm\n",
    "from concurrent.futures import ThreadPoolExecutor, as_completed\n",
    "from glob import glob\n",
    "from tqdm import tqdm\n",
    "import time\n",
    "import json\n",
    "import os\n",
    "import gc"
   ]
  },
  {
   "cell_type": "code",
   "execution_count": 20,
   "metadata": {},
   "outputs": [
    {
     "data": {
      "text/plain": [
       "12"
      ]
     },
     "execution_count": 20,
     "metadata": {},
     "output_type": "execute_result"
    }
   ],
   "source": [
    "files = glob('forums/*.json')\n",
    "len(files)"
   ]
  },
  {
   "cell_type": "code",
   "execution_count": 21,
   "metadata": {},
   "outputs": [
    {
     "data": {
      "text/plain": [
       "9784"
      ]
     },
     "execution_count": 21,
     "metadata": {},
     "output_type": "execute_result"
    }
   ],
   "source": [
    "forums = []\n",
    "for f in files:\n",
    "    with open(f) as fopen:\n",
    "        forums.extend(json.load(fopen))\n",
    "        \n",
    "forums = sorted(list(set(forums)))\n",
    "len(forums)"
   ]
  },
  {
   "cell_type": "code",
   "execution_count": 22,
   "metadata": {
    "scrolled": true
   },
   "outputs": [
    {
     "data": {
      "text/plain": [
       "'https://forums.salary.sg/bitcoin-cryptocurrency-talk/10000-how-buy-bitcoin-singapore.html'"
      ]
     },
     "execution_count": 22,
     "metadata": {},
     "output_type": "execute_result"
    }
   ],
   "source": [
    "forums[0]"
   ]
  },
  {
   "cell_type": "code",
   "execution_count": 31,
   "metadata": {},
   "outputs": [
    {
     "data": {
      "text/plain": [
       "('https://forums.salary.sg/bitcoin-cryptocurrency-talk/10000-how-buy-bitcoin-singapore.html',\n",
       " ['<div id=\"post_message_103183\">\\nFor beginners, a quick way to get started is to use Coinbase, which is a US-based company that lets you to use your credit card to buy Bitcoins and Ethereum ethers. If you use our referral link below, you will get a bonus of S$13 worth of Bitcoin after spending S$134 there:<br/>\\n<a href=\"https://www.coinbase.com/join/59eacfce21d34c00e2685e1f\" target=\"_blank\">https://www.coinbase.com/join/59eacfce21d34c00e2685e1f</a><br/>\\n<br/>\\nRead more here:<br/>\\n<a href=\"http://www.salary.sg/2017/how-to-buy-bitcoin-in-singapore/\" target=\"_blank\">http://www.salary.sg/2017/how-to-buy...-in-singapore/</a>\\n</div>',\n",
       "  '<div id=\"post_message_103957\">\\nwhatever you invest in, you will need to have a good understanding of how it works before making a decision. Dont just jump into to hype because others is buying bitcoins.\\n<br/>\\n<br/>\\n<div style=\"float:right\">\\n<script type=\"text/javascript\"><!--\\ngoogle_ad_client = \"pub-4709966637184268\";\\n/* 336x280, created 02/07/09 */\\ngoogle_ad_slot = \"6256142569\";\\ngoogle_ad_width = 336;\\ngoogle_ad_height = 280;\\n//-->\\n</script>\\n<script src=\"//pagead2.googlesyndication.com/pagead/show_ads.js\" type=\"text/javascript\">\\n</script>\\n</div>\\n</div>',\n",
       "  '<div id=\"post_message_104660\">\\nI do not pay any fees anytime I use furcoins.com to either buy or sell bitcoins and their service is simply fast and reliable!\\n</div>',\n",
       "  '<div id=\"post_message_104702\">\\nyou can download zebpay app than enter your information there . After successful approval of your account you can buy bitcoin there.\\n</div>',\n",
       "  '<div id=\"post_message_106501\">\\nThe newest exchange in singapore that aims to foster a solid crypto foundation is Tokenize.exchange. I am currently a user. You can feel free to check it out.\\n</div>',\n",
       "  '<div id=\"post_message_107330\">\\nyou can buy the bitcoin by many ways <img alt=\"\" border=\"0\" class=\"inlineimg\" src=\"https://forums.salary.sg/images/smilies/biggrin.gif\" title=\"Big Grin\"/><br/>\\n- Create account and buy online (any website that you seen)<br/>\\n- Buy in Stock Exchange<br/>\\n- Play game or sportsbook and chance the coin to Bitcoin (online casinos accept the Bitcoin and tranfer to bitcoin like : Gog.bet)\\n</div>',\n",
       "  '<div id=\"post_message_107438\">\\nIf you are looking for Singapore local exchanges, you can check out CRXzone.<br/>\\nCryptocurrencies you can trade include Bitcoin, Litecoin and Dogecoins.<br/>\\n<br/>\\nOther features they provide:<br/>\\n1) <b>OTC desk services</b> for Major Cryptocurrencies like (Bitcoin/Litecoin/Ethereum/Bitcon Cash/Bitcoin Gold/Ripple)<br/>\\n<br/>\\nFace-to-face deal at office only.<br/>\\nPlease telegram @XIntel for rates and appointment.<br/>\\n<br/>\\n2) <b>Trading API</b> that can link CRXzone order book exchange to your Bitcoin ATM!<br/>\\n<br/>\\n3) <b>Merchant API</b> for online retailers who wants to accept crypto as payment for their website. CRXzone provides a simple link code to integrate into your online store. You can then accept payment in crypto or convert to fiat.\\n</div>',\n",
       "  '<div id=\"post_message_108400\">\\nHi guys, you should check out Singbit.sg<br/>\\n<br/>\\nIt\\x92s a new peer-to-peer exchange for Singapore, Malaysia and the Asia Pacific.<br/>\\nIt\\x92s a good place to post an ad to Sell Bitcoin &amp; Ethereum coz there are zero transaction<br/>\\nfees! <br/>\\nJust sign up with my link <a href=\"https://www.singbit.sg/public/invite/?invite_code=ItCAajzdhWP\" target=\"_blank\">https://www.singbit.sg/public/invite...de=ItCAajzdhWP</a>,<br/>\\ntransact and earn USD10 Bitcoin. Singbit has no transaction fees. It is fast and secure. <br/>\\nGrab the opportunity to refer your friends. Friend referral program lets you earn up to $30,000 in Bitcoin. <br/>\\nMore detailed info here: <a href=\"https://www.singbit.sg/news\" target=\"_blank\">https://www.singbit.sg/news</a><br/>\\nSign-up and start trading now.\\n</div>',\n",
       "  '<div id=\"post_message_109973\">\\n<acronym title=\"Singapore Exchange\">SGX</acronym> TRADERS- EARN 8-10% monthly ROI. TRY THEN SUBSCRIBE- JOIN MY GROUP - #<acronym title=\"Singapore Exchange\">SGX</acronym> #STOCKS #TRIALS<br/>\\n<br/>\\nONLY FOR <acronym title=\"Singapore Exchange\">SGX</acronym> TRADERS (SHARE TRADERS)<br/>\\n<br/>\\n<a href=\"https://chat.whatsapp.com/5elyVgkPIkLCieTt04lBYX\" target=\"_blank\">https://chat.whatsapp.com/5elyVgkPIkLCieTt04lBYX</a>\\n</div>',\n",
       "  '<div id=\"post_message_110265\">\\nHmm…Speaking about getting started in btc, I think I might be able to add one more exchange that allows buying btc and eth – <a href=\"https://cex.io/\" target=\"_blank\">cex </a>. I mentioned this exchange coz its interface is very usable, which might be handful for newbies.\\n</div>'],\n",
       " 3)"
      ]
     },
     "execution_count": 31,
     "metadata": {},
     "output_type": "execute_result"
    }
   ],
   "source": [
    "def get_url(url):\n",
    "    while True:\n",
    "        try:\n",
    "            r = requests.get(url, timeout = 10.0)\n",
    "            break\n",
    "        except:\n",
    "            time.sleep(1.0)\n",
    "    soup = BeautifulSoup(r.content, \"lxml\")\n",
    "    div = soup.find_all('div')\n",
    "    div = [str(div_) for div_ in div if 'post_message' in div_.get('id', '')]\n",
    "    try:\n",
    "        td = soup.find_all('td', {'class': 'vbmenu_control'})\n",
    "        td = [td_.text for td_ in td if 'Page 1 of ' in td_.text][0]\n",
    "        max_page = int(td.split('Page 1 of ')[1])\n",
    "    except:\n",
    "        max_page = -1\n",
    "    return url, div, max_page\n",
    "\n",
    "get_url(forums[0])"
   ]
  },
  {
   "cell_type": "code",
   "execution_count": 27,
   "metadata": {},
   "outputs": [],
   "source": [
    "!rm -rf threads\n",
    "!mkdir threads"
   ]
  },
  {
   "cell_type": "code",
   "execution_count": 33,
   "metadata": {},
   "outputs": [
    {
     "name": "stderr",
     "output_type": "stream",
     "text": [
      "100%|█████████████████████████████████████████| 490/490 [14:15<00:00,  1.75s/it]\n"
     ]
    }
   ],
   "source": [
    "max_worker = 20\n",
    "\n",
    "for i in tqdm(range(0, len(forums), max_worker)):\n",
    "    \n",
    "    filename = os.path.join('threads', f'{i}.json')\n",
    "    if os.path.exists(filename):\n",
    "        continue\n",
    "        \n",
    "    gc.collect()\n",
    "        \n",
    "    topics = [topic for topic in forums[i: i + max_worker]]\n",
    "    \n",
    "    data = []    \n",
    "    with ThreadPoolExecutor(max_workers=max_worker) as executor:\n",
    "        futures = {executor.submit(get_url, url): url for url in topics}\n",
    "\n",
    "        for future in as_completed(futures):\n",
    "            data.append(future.result())\n",
    "                \n",
    "    with open(filename, 'w') as fopen:\n",
    "        json.dump(data, fopen)\n",
    "        \n",
    "    try:\n",
    "        del data\n",
    "        del futures\n",
    "    except:\n",
    "        pass"
   ]
  },
  {
   "cell_type": "code",
   "execution_count": null,
   "metadata": {},
   "outputs": [],
   "source": []
  }
 ],
 "metadata": {
  "kernelspec": {
   "display_name": "Python 3 (ipykernel)",
   "language": "python",
   "name": "python3"
  },
  "language_info": {
   "codemirror_mode": {
    "name": "ipython",
    "version": 3
   },
   "file_extension": ".py",
   "mimetype": "text/x-python",
   "name": "python",
   "nbconvert_exporter": "python",
   "pygments_lexer": "ipython3",
   "version": "3.8.10"
  }
 },
 "nbformat": 4,
 "nbformat_minor": 4
}
