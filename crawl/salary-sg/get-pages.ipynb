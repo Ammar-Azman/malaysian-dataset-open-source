{
 "cells": [
  {
   "cell_type": "code",
   "execution_count": 1,
   "metadata": {},
   "outputs": [],
   "source": [
    "import requests\n",
    "import numpy as np\n",
    "from bs4 import BeautifulSoup\n",
    "from tqdm import tqdm\n",
    "from concurrent.futures import ThreadPoolExecutor, as_completed\n",
    "from glob import glob\n",
    "from tqdm import tqdm\n",
    "import time\n",
    "import json\n",
    "import os\n",
    "import gc"
   ]
  },
  {
   "cell_type": "code",
   "execution_count": 2,
   "metadata": {},
   "outputs": [
    {
     "data": {
      "text/plain": [
       "490"
      ]
     },
     "execution_count": 2,
     "metadata": {},
     "output_type": "execute_result"
    }
   ],
   "source": [
    "files = glob('threads/*.json')\n",
    "len(files)"
   ]
  },
  {
   "cell_type": "code",
   "execution_count": 3,
   "metadata": {},
   "outputs": [],
   "source": [
    "!mkdir pages"
   ]
  },
  {
   "cell_type": "code",
   "execution_count": 22,
   "metadata": {
    "scrolled": true
   },
   "outputs": [
    {
     "name": "stderr",
     "output_type": "stream",
     "text": [
      "100%|███████████████████████████████████████| 490/490 [00:00<00:00, 4504.92it/s]\n"
     ]
    }
   ],
   "source": [
    "urls = []\n",
    "for f in tqdm(files):\n",
    "    with open(f) as fopen:\n",
    "        data = json.load(fopen)\n",
    "\n",
    "    for d in data:\n",
    "        if d[-1] > 1:\n",
    "            url = d[0]\n",
    "            l = url.split('.html')[0]\n",
    "            for i in range(2, d[-1] + 1, 1):\n",
    "                urls.append(f'{l}-{i}.html')"
   ]
  },
  {
   "cell_type": "code",
   "execution_count": 24,
   "metadata": {},
   "outputs": [],
   "source": [
    "urls = sorted(list(set(urls)))"
   ]
  },
  {
   "cell_type": "code",
   "execution_count": 25,
   "metadata": {},
   "outputs": [
    {
     "data": {
      "text/plain": [
       "20806"
      ]
     },
     "execution_count": 25,
     "metadata": {},
     "output_type": "execute_result"
    }
   ],
   "source": [
    "len(urls)"
   ]
  },
  {
   "cell_type": "code",
   "execution_count": 26,
   "metadata": {},
   "outputs": [
    {
     "data": {
      "text/plain": [
       "['<div id=\"post_message_113932\">\\nwant to know a secret and easy way to buy and/or sell bitcoin?<br/>\\n<br/>\\nBe one of our firsts to participate in our new version of Telegram. ItSybit, your 24/7 trading partner on our app, Telegram.<br/>\\n<br/>\\nQUICK, HURRY, GET A SPOT NOW BY CLICKING ON THE LINK BELOW<br/>\\n<br/>\\nContact Sammie Cheston for questions and more information.<br/>\\n<br/>\\nGET STARTED NOW!!!<br/>\\n\\x95Download the app \\x93Telegram<br/>\\n\\x95Click or copy the link here: s://t.me/itsybit_bot?referral_code=2khgv3d1v<br/>\\n\\x95Enter this referral code to participate: 2khgv3d1v\\n</div>',\n",
       " '<div id=\"post_message_113934\">\\nwant to know a secret and easy way to buy and/or sell bitcoin?<br/>\\n<br/>\\nBe one of our firsts to participate in our new version of Telegram. ItSybit, your 24/7 trading partner on our app, Telegram.<br/>\\n<br/>\\nQUICK, HURRY, GET A SPOT NOW BY CLICKING ON THE LINK BELOW<br/>\\n<br/>\\nContact Sammie Cheston for questions and more information.<br/>\\n<br/>\\nGET STARTED NOW!!!<br/>\\n\\x95Download the app \\x93Telegram<br/>\\n\\x95Click or copy the link here: s://t.me/itsybit_bot?referral_code=2khgv3d1v<br/>\\n\\x95Enter this referral code to participate: 2khgv3d1v\\n<br/>\\n<br/>\\n<div style=\"float:right\">\\n<script type=\"text/javascript\"><!--\\ngoogle_ad_client = \"pub-4709966637184268\";\\n/* 336x280, created 02/07/09 */\\ngoogle_ad_slot = \"6256142569\";\\ngoogle_ad_width = 336;\\ngoogle_ad_height = 280;\\n//-->\\n</script>\\n<script src=\"//pagead2.googlesyndication.com/pagead/show_ads.js\" type=\"text/javascript\">\\n</script>\\n</div>\\n</div>',\n",
       " '<div id=\"post_message_116505\">\\nI use to buy BTC at CEX.io , easy by using credit card\\n</div>',\n",
       " '<div id=\"post_message_116506\">\\nafter bought BTC or ETH or others coin, keep in wallet, either in Hardware wallet (Trezor) or make some revenue in revenue wallet @ <a href=\"http://www.myplustokenwallet.com\" target=\"_blank\">Plus Token Wallet</a>\\n</div>',\n",
       " '<div id=\"post_message_121897\">\\nFree USD10<br/>\\n<br/>\\n<a href=\"https://coinbase.com/earn/eos/invite/q2ywd6s0\" target=\"_blank\">https://coinbase.com/earn/eos/invite/q2ywd6s0</a><br/>\\n<br/>\\nStill hv 2 spot each $10 referral bonus...\\n</div>',\n",
       " '<div id=\"post_message_127570\">\\nThanks to Aldrich Tom my investment manager who helped me to clear a my debt invested $500 worth of bitcoin with him i earn a profit of $1,000 in 48 hours his real<br/>\\ns://t.me/Aldrich15.<br/>\\nemail- <a href=\"/cdn-cgi/l/email-protection#05446961776c666d64717068457c646d6a6a2b666a68\"><span class=\"__cf_email__\" data-cfemail=\"c988a5adbba0aaa1a8bdbca489b0a8a1a6a6e7aaa6a4\">[email\\xa0protected]</span></a>\\n</div>',\n",
       " '<div id=\"post_message_133373\">\\n<div style=\"margin:20px; margin-top:5px; \">\\n<div class=\"smallfont\" style=\"margin-bottom:2px\">Quote:</div>\\n<table border=\"0\" cellpadding=\"6\" cellspacing=\"0\" width=\"100%\">\\n<tr>\\n<td class=\"alt2\" style=\"border:1px inset\">\\n<div>\\nOriginally Posted by <strong>admin</strong>\\n<a href=\"https://forums.salary.sg/bitcoin-cryptocurrency-talk/10000-how-buy-bitcoin-singapore-post103183.html#post103183\" rel=\"nofollow\"><img alt=\"View Post\" border=\"0\" class=\"inlineimg\" src=\"https://forums.salary.sg/images/buttons/viewpost.gif\"/></a>\\n</div>\\n<div style=\"font-style:italic\">For beginners, a quick way to get started is to use Coinbase, which is a US-based company that lets you to use your credit card to buy Bitcoins and Ethereum ethers. If you use our referral link below, you will get a bonus of S$13 worth of Bitcoin after spending S$134 there:<br/>\\n<a href=\"https://www.coinbase.com/join/59eacfce21d34c00e2685e1f\" target=\"_blank\">https://www.coinbase.com/join/59eacfce21d34c00e2685e1f</a><br/>\\n<br/>\\nRead more here:<br/>\\n<a href=\"http://www.salary.sg/2017/how-to-buy-bitcoin-in-singapore/\" target=\"_blank\">http://www.salary.sg/2017/how-to-buy...-in-singapore/</a></div>\\n</td>\\n</tr>\\n</table>\\n</div>coinbase is the best option\\n</div>',\n",
       " '<div id=\"post_message_143548\">\\nCoinhako is a Singapore based crypto wallet that is covered by the <acronym title=\"Monetary Authority of Singapore\">MAS</acronym>. Its probably one of the safest platforms available to singaporean traders at the moment. <br/>\\n<br/>\\nFeel free to click the referral link below to sign up<img alt=\"\" border=\"0\" class=\"inlineimg\" src=\"https://forums.salary.sg/images/smilies/smile.gif\" title=\"Smile\"/> <br/>\\n<br/>\\nCheck out Coinhako - The platform to buy, sell and store your crypto assets. s://.coinhako.com/affiliations/sign_up/MARCUSLEUN_814203\\n</div>',\n",
       " '<div id=\"post_message_175285\">\\nUse my referral link s://crypto.com/app/vqnq6vjdmx to sign up for Crypto.com and we both get $25 USD <img alt=\"\" border=\"0\" class=\"inlineimg\" src=\"https://forums.salary.sg/images/smilies/smile.gif\" title=\"Smile\"/>\\n</div>',\n",
       " '<div id=\"post_message_197192\">\\nYou should by peer-to-peer exchange.\\n</div>']"
      ]
     },
     "execution_count": 26,
     "metadata": {},
     "output_type": "execute_result"
    }
   ],
   "source": [
    "def get_url(url):\n",
    "    while True:\n",
    "        try:\n",
    "            r = requests.get(url, timeout = 10.0)\n",
    "            break\n",
    "        except:\n",
    "            time.sleep(1.0)\n",
    "    soup = BeautifulSoup(r.content, \"lxml\")\n",
    "    div = soup.find_all('div')\n",
    "    div = [str(div_) for div_ in div if 'post_message' in div_.get('id', '')]\n",
    "    return div\n",
    "\n",
    "get_url(urls[0])"
   ]
  },
  {
   "cell_type": "code",
   "execution_count": 28,
   "metadata": {},
   "outputs": [
    {
     "name": "stderr",
     "output_type": "stream",
     "text": [
      "100%|█████████████████████████████████████████| 417/417 [43:51<00:00,  6.31s/it]\n"
     ]
    }
   ],
   "source": [
    "max_worker = 50\n",
    "for i in tqdm(range(0, len(urls), max_worker)):\n",
    "    \n",
    "    filename = os.path.join('pages', f'{i}.json')\n",
    "    if os.path.exists(filename):\n",
    "        continue\n",
    "        \n",
    "    gc.collect()\n",
    "    \n",
    "    results = []\n",
    "    with ThreadPoolExecutor(max_workers=max_worker) as executor:\n",
    "        futures = {executor.submit(get_url, url): url for url in urls[i: i + max_worker]}\n",
    "\n",
    "        for future in as_completed(futures):\n",
    "            results.append(future.result())\n",
    "    \n",
    "    with open(filename, 'w') as fopen:\n",
    "        json.dump(results, fopen)\n",
    "        \n",
    "    try:\n",
    "        del results\n",
    "        del futures\n",
    "    except:\n",
    "        pass"
   ]
  },
  {
   "cell_type": "code",
   "execution_count": 29,
   "metadata": {},
   "outputs": [
    {
     "data": {
      "text/plain": [
       "490"
      ]
     },
     "execution_count": 29,
     "metadata": {},
     "output_type": "execute_result"
    }
   ],
   "source": [
    "files = glob('threads/*.json')\n",
    "len(files)"
   ]
  },
  {
   "cell_type": "code",
   "execution_count": 30,
   "metadata": {},
   "outputs": [
    {
     "name": "stderr",
     "output_type": "stream",
     "text": [
      "100%|█████████████████████████████████████████| 490/490 [00:06<00:00, 72.70it/s]\n"
     ]
    }
   ],
   "source": [
    "texts = []\n",
    "for f in tqdm(files):\n",
    "    with open(f) as fopen:\n",
    "        data = json.load(fopen)\n",
    "    \n",
    "    for d in data:\n",
    "        for d_ in d[1]:\n",
    "            texts.append(BeautifulSoup(d_, \"lxml\").text)"
   ]
  },
  {
   "cell_type": "code",
   "execution_count": 31,
   "metadata": {},
   "outputs": [
    {
     "data": {
      "text/plain": [
       "417"
      ]
     },
     "execution_count": 31,
     "metadata": {},
     "output_type": "execute_result"
    }
   ],
   "source": [
    "files = glob('pages/*.json')\n",
    "len(files)"
   ]
  },
  {
   "cell_type": "code",
   "execution_count": 32,
   "metadata": {},
   "outputs": [
    {
     "name": "stderr",
     "output_type": "stream",
     "text": [
      "100%|█████████████████████████████████████████| 417/417 [00:44<00:00,  9.36it/s]\n"
     ]
    }
   ],
   "source": [
    "for f in tqdm(files):\n",
    "    with open(f) as fopen:\n",
    "        data = json.load(fopen)\n",
    "    \n",
    "    for d in data:\n",
    "        for d_ in d:\n",
    "            texts.append(BeautifulSoup(d_, \"lxml\").text)"
   ]
  },
  {
   "cell_type": "code",
   "execution_count": 33,
   "metadata": {},
   "outputs": [
    {
     "data": {
      "text/plain": [
       "231202"
      ]
     },
     "execution_count": 33,
     "metadata": {},
     "output_type": "execute_result"
    }
   ],
   "source": [
    "texts = list(set(texts))\n",
    "len(texts)"
   ]
  },
  {
   "cell_type": "code",
   "execution_count": 34,
   "metadata": {},
   "outputs": [
    {
     "name": "stderr",
     "output_type": "stream",
     "text": [
      "100%|███████████████████████████████| 231202/231202 [00:00<00:00, 569394.98it/s]\n"
     ]
    }
   ],
   "source": [
    "with open('everything.jsonl', 'w') as fopen:\n",
    "    for t in tqdm(texts):\n",
    "        if len(t):\n",
    "            fopen.write(f'{json.dumps(t)}\\n')"
   ]
  },
  {
   "cell_type": "code",
   "execution_count": 36,
   "metadata": {},
   "outputs": [],
   "source": [
    "# !zip -r threads.zip threads\n",
    "# !zip -r pages.zip pages\n",
    "# !zip -r forums.zip forums"
   ]
  },
  {
   "cell_type": "code",
   "execution_count": null,
   "metadata": {},
   "outputs": [],
   "source": []
  }
 ],
 "metadata": {
  "kernelspec": {
   "display_name": "Python 3 (ipykernel)",
   "language": "python",
   "name": "python3"
  },
  "language_info": {
   "codemirror_mode": {
    "name": "ipython",
    "version": 3
   },
   "file_extension": ".py",
   "mimetype": "text/x-python",
   "name": "python",
   "nbconvert_exporter": "python",
   "pygments_lexer": "ipython3",
   "version": "3.8.10"
  }
 },
 "nbformat": 4,
 "nbformat_minor": 4
}
