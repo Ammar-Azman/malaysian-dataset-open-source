{
 "cells": [
  {
   "cell_type": "code",
   "execution_count": 1,
   "id": "daf54b81",
   "metadata": {},
   "outputs": [
    {
     "name": "stderr",
     "output_type": "stream",
     "text": [
      "/usr/lib/python3/dist-packages/requests/__init__.py:89: RequestsDependencyWarning: urllib3 (2.0.3) or chardet (3.0.4) doesn't match a supported version!\n",
      "  warnings.warn(\"urllib3 ({}) or chardet ({}) doesn't match a supported \"\n"
     ]
    }
   ],
   "source": [
    "from bs4 import BeautifulSoup\n",
    "import pandas as pd\n",
    "import json\n",
    "import requests\n",
    "from urllib.request import urlopen\n",
    "from datetime import datetime\n",
    "from tqdm import tqdm\n",
    "import time\n",
    "from concurrent.futures import ThreadPoolExecutor\n"
   ]
  },
  {
   "cell_type": "code",
   "execution_count": 2,
   "id": "fdee05c4",
   "metadata": {},
   "outputs": [],
   "source": [
    "links = [\n",
    "\"alam-semulajadi\",\n",
    "\"astronomi-kosmologi\",\n",
    "\"berita-peristiwa\",\n",
    "\"bicara-saintis/suara-saintis-muda/\",\n",
    "\"fiksyen-buku-filem\",\n",
    "\"fizik\",\n",
    "\"kimia\",\n",
    "\"komputer-it\",\n",
    "\"luar-negara\"\n",
    ",\"matematik\",\n",
    "\"perubatan-kesihatan\",\n",
    "\"rencana\",\n",
    "\"sejarah-falsafah\",\n",
    "\"teknologi-kejuruteraan\",\n",
    "\"tempatan\",\n",
    "\"tenaga\",\n",
    "\"tokoh\"\n",
    "]\n",
    "\n",
    "hrefs = []\n",
    "headers = {'User-Agent': 'Mozilla/5.0 (Windows NT 6.1; WOW64) AppleWebKit/537.36 (KHTML, like Gecko) Chrome/56.0.2924.76 Safari/537.36'} \n",
    "\n"
   ]
  },
  {
   "cell_type": "code",
   "execution_count": 3,
   "id": "7374c943",
   "metadata": {},
   "outputs": [
    {
     "name": "stderr",
     "output_type": "stream",
     "text": [
      "100%|███████████████████████████████████████████████████████████████████████████████████████████████████████████████████████████████████████████████████████████████████████████████████████| 17/17 [09:32<00:00, 33.65s/it]\n"
     ]
    }
   ],
   "source": [
    "for i in tqdm(links):\n",
    "    \n",
    "    x = 1\n",
    "\n",
    "    while True:\n",
    "\n",
    "        while True:\n",
    "            try:\n",
    "                r = requests.get(f'https://www.majalahsains.com/category/{i}/page/{x}',headers = headers)\n",
    "                break\n",
    "            except Exception as e:\n",
    "                print(e)\n",
    "                time.sleep(1.0)\n",
    "                \n",
    "        soup = BeautifulSoup(r.text, \"lxml\")\n",
    "      \n",
    "        if soup.find('h1', attrs = {\"class\":\"jeg_archive_title\"}) is not None:\n",
    "            break\n",
    "\n",
    "        for link in soup.find_all('h3', attrs = {\"class\":\"jeg_post_title\"}):\n",
    "            \n",
    "            href = link.find('a').get('href')\n",
    "            \n",
    "           \n",
    "            hrefs.append(href)\n",
    "\n",
    "        \n",
    "        x = x + 1"
   ]
  },
  {
   "cell_type": "code",
   "execution_count": 4,
   "id": "e6ce2da8",
   "metadata": {},
   "outputs": [],
   "source": [
    "hrefs = list(set(hrefs))"
   ]
  },
  {
   "cell_type": "code",
   "execution_count": 7,
   "id": "d0e31144",
   "metadata": {},
   "outputs": [],
   "source": [
    "with open('majalahsains-link.json', 'a') as f:\n",
    "    json.dump(hrefs, f)"
   ]
  },
  {
   "cell_type": "code",
   "execution_count": 6,
   "id": "d1d8e6a1",
   "metadata": {},
   "outputs": [
    {
     "data": {
      "text/plain": [
       "1540"
      ]
     },
     "execution_count": 6,
     "metadata": {},
     "output_type": "execute_result"
    }
   ],
   "source": [
    "len(hrefs)"
   ]
  },
  {
   "cell_type": "code",
   "execution_count": 3,
   "id": "7796f0b0",
   "metadata": {},
   "outputs": [],
   "source": [
    "with open('majalahsains-link.json') as fopen:\n",
    "    hrefs = json.load(fopen)"
   ]
  },
  {
   "cell_type": "code",
   "execution_count": 4,
   "id": "68c308dc",
   "metadata": {},
   "outputs": [],
   "source": [
    "def process_url(x):\n",
    "    headers = {'User-Agent': 'Mozilla/5.0 (Windows NT 6.1; WOW64) AppleWebKit/537.36 (KHTML, like Gecko) Chrome/56.0.2924.76 Safari/537.36'} # This is chrome, you can set whatever browser you like\n",
    "\n",
    "    \n",
    "    while True:\n",
    "        try:\n",
    "            r = requests.get(x, headers=headers)\n",
    "            break\n",
    "        except Exception as e:\n",
    "            print(e)\n",
    "            time.sleep(5.0)\n",
    "    \n",
    "    soup = BeautifulSoup(r.text, \"lxml\")\n",
    "\n",
    "    try:\n",
    "        headline = soup.find('h1', attrs = {\"class\":\"jeg_post_title\"}).text\n",
    "        h = soup.find('div', attrs = {\"class\":\"content-inner\"})        \n",
    "        p = [p.text for p in h.find_all() if len(p.text.split()) > 20]\n",
    "    except Exception as e:\n",
    "        print('error in link:'+ x)\n",
    "        print(e)\n",
    "        return None \n",
    "    \n",
    "    tag = soup.find('div', class_=\"jeg_post_tags\")\n",
    "    \n",
    "    if tag:\n",
    "        tags = [tags.text for tags in tag.find_all(\"a\")]\n",
    "    else:\n",
    "        tags = None\n",
    "    \n",
    "    \n",
    "    \n",
    "    data = {'url': x, 'headline': headline, 'content': p, 'tags': tags}\n",
    "    return data"
   ]
  },
  {
   "cell_type": "code",
   "execution_count": 5,
   "id": "06905f2a",
   "metadata": {},
   "outputs": [
    {
     "name": "stderr",
     "output_type": "stream",
     "text": [
      "100%|████████████████████████████████████████████████████████████████████████████████████████████████████████████████████████████████████████████████████████████████████████████████████████████████████| 1540/1540 [35:03<00:00,  1.37s/it]\n"
     ]
    }
   ],
   "source": [
    "max_workers = 30\n",
    "\n",
    "with ThreadPoolExecutor(max_workers=max_workers) as executor:\n",
    "    futures = [executor.submit(process_url, x) for x in hrefs]\n",
    "    \n",
    "    for future in tqdm(futures, total=len(hrefs)):\n",
    "        result = future.result()\n",
    "        if result:\n",
    "            with open('majalahsains-2.jsonl', 'a') as f:\n",
    "                json.dump(result, f)\n",
    "                f.write('\\n')"
   ]
  },
  {
   "cell_type": "code",
   "execution_count": null,
   "id": "e229b065",
   "metadata": {},
   "outputs": [],
   "source": []
  }
 ],
 "metadata": {
  "kernelspec": {
   "display_name": "Python 3 (ipykernel)",
   "language": "python",
   "name": "python3"
  },
  "language_info": {
   "codemirror_mode": {
    "name": "ipython",
    "version": 3
   },
   "file_extension": ".py",
   "mimetype": "text/x-python",
   "name": "python",
   "nbconvert_exporter": "python",
   "pygments_lexer": "ipython3",
   "version": "3.8.10"
  }
 },
 "nbformat": 4,
 "nbformat_minor": 5
}
