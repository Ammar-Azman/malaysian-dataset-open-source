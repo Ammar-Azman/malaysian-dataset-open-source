{
 "cells": [
  {
   "cell_type": "code",
   "execution_count": 1,
   "id": "081582be",
   "metadata": {},
   "outputs": [],
   "source": [
    "from bs4 import BeautifulSoup\n",
    "import pandas as pd\n",
    "import json\n",
    "import requests\n",
    "from urllib.request import urlopen\n",
    "import urllib.request\n",
    "from datetime import datetime\n",
    "from tqdm import tqdm\n",
    "import time\n",
    "import numpy as np\n",
    "from concurrent.futures import ThreadPoolExecutor, as_completed"
   ]
  },
  {
   "cell_type": "code",
   "execution_count": 2,
   "id": "c99f0f8f",
   "metadata": {},
   "outputs": [],
   "source": [
    "categories = [\"4\",\"5\",\"7\",\"6\",\"9\"]\n",
    "\n",
    "hrefs = []"
   ]
  },
  {
   "cell_type": "code",
   "execution_count": 3,
   "id": "1a1d85c9",
   "metadata": {},
   "outputs": [],
   "source": [
    "import requests\n",
    "\n",
    "cookies = {\n",
    "    'quform_session_1f644ca8faa91f1c0593e9215752c417': 'o4XXtIZ7ZjhsOJbOz579SH35dE0mTe0aE05sGmtc',\n",
    "    '_gcl_au': '1.1.823947787.1688797246',\n",
    "    'AMCVS_43D8021954C26BE10A4C98A5%40AdobeOrg': '1',\n",
    "    '_cc_id': '3eda540b1733bbf97d5a84667177a178',\n",
    "    'izootoWpConfig': '%7B%22b_type%22:7,%22d_type%22:1,%22evt_trk%22:1,%22izooto_uid%22:%22b207a1f5-d762-443a-8443-a5e59d282372%22%7D',\n",
    "    'AMCV_43D8021954C26BE10A4C98A5%40AdobeOrg': '-1124106680%7CMCIDTS%7C19565%7CMCMID%7C63885372653168318992537491698216161657%7CMCAAMLH-1690973530%7C3%7CMCAAMB-1690973530%7C6G1ynYcLPuiQxYZrsz_pkqfLG9yMXBpb2zX5dvJdYQJzPXImdj0y%7CMCOPTOUT-1690375930s%7CNONE%7CMCSYNCS%7C1083-19570*1085-19570*1086-19570*1087-19570*1088-19570*19913-19570*83349-19570%7CMCSYNCSOP%7C411-19570%7CvVersion%7C5.2.0',\n",
    "    '_gid': 'GA1.3.583194937.1690368731',\n",
    "    '_dc_gtm_UA-34737994-1': '1',\n",
    "    '_ga_PM2ZNRT2EN': 'GS1.1.1690368730.4.0.1690368730.0.0.0',\n",
    "    '_ga': 'GA1.3.431949239.1688797246',\n",
    "    '_gat_UA-20278225-90': '1',\n",
    "    'panoramaId_expiry': '1690455131336',\n",
    "    'panoramaId': '24aa7eb4ab23dee1ace84787366ea9fb927af0baabde5e68c1e8fb79cc4932a0',\n",
    "    'panoramaIdType': 'panoDevice',\n",
    "    '_gat_UA-34737994-1': '1',\n",
    "    '_ga_96J5QXVJBC': 'GS1.3.1690368730.3.0.1690368732.58.0.0',\n",
    "    'FCNEC': '%5B%5B%22AKsRol8DDgvCDG-iaLUvc-UzlDIpHrfL0YqVwUM6_gRMy6gLAlw9ki54FDmA6Qk6CQvuMoBuEZFnWp44Kv09jTYNI7ri1KgyLar2fSKUhbqQ5WN_MKZ6nRPHD6etthYIVcx-m_pv4P-UhV7tx2AKtVbyjX2tvn5nBg%3D%3D%22%5D%2Cnull%2C%5B%5D%5D',\n",
    "    '_ga_RY9498LH5S': 'GS1.1.1690368730.4.1.1690368775.0.0.0',\n",
    "}\n",
    "\n",
    "headers = {\n",
    "    'authority': 'www.hijabista.com.my',\n",
    "    'accept': '*/*',\n",
    "    'accept-language': 'en-US,en;q=0.9',\n",
    "    'content-type': 'application/x-www-form-urlencoded; charset=UTF-8',\n",
    "    # 'cookie': 'quform_session_1f644ca8faa91f1c0593e9215752c417=o4XXtIZ7ZjhsOJbOz579SH35dE0mTe0aE05sGmtc; _gcl_au=1.1.823947787.1688797246; AMCVS_43D8021954C26BE10A4C98A5%40AdobeOrg=1; _cc_id=3eda540b1733bbf97d5a84667177a178; izootoWpConfig=%7B%22b_type%22:7,%22d_type%22:1,%22evt_trk%22:1,%22izooto_uid%22:%22b207a1f5-d762-443a-8443-a5e59d282372%22%7D; AMCV_43D8021954C26BE10A4C98A5%40AdobeOrg=-1124106680%7CMCIDTS%7C19565%7CMCMID%7C63885372653168318992537491698216161657%7CMCAAMLH-1690973530%7C3%7CMCAAMB-1690973530%7C6G1ynYcLPuiQxYZrsz_pkqfLG9yMXBpb2zX5dvJdYQJzPXImdj0y%7CMCOPTOUT-1690375930s%7CNONE%7CMCSYNCS%7C1083-19570*1085-19570*1086-19570*1087-19570*1088-19570*19913-19570*83349-19570%7CMCSYNCSOP%7C411-19570%7CvVersion%7C5.2.0; _gid=GA1.3.583194937.1690368731; _dc_gtm_UA-34737994-1=1; _ga_PM2ZNRT2EN=GS1.1.1690368730.4.0.1690368730.0.0.0; _ga=GA1.3.431949239.1688797246; _gat_UA-20278225-90=1; panoramaId_expiry=1690455131336; panoramaId=24aa7eb4ab23dee1ace84787366ea9fb927af0baabde5e68c1e8fb79cc4932a0; panoramaIdType=panoDevice; _gat_UA-34737994-1=1; _ga_96J5QXVJBC=GS1.3.1690368730.3.0.1690368732.58.0.0; FCNEC=%5B%5B%22AKsRol8DDgvCDG-iaLUvc-UzlDIpHrfL0YqVwUM6_gRMy6gLAlw9ki54FDmA6Qk6CQvuMoBuEZFnWp44Kv09jTYNI7ri1KgyLar2fSKUhbqQ5WN_MKZ6nRPHD6etthYIVcx-m_pv4P-UhV7tx2AKtVbyjX2tvn5nBg%3D%3D%22%5D%2Cnull%2C%5B%5D%5D; _ga_RY9498LH5S=GS1.1.1690368730.4.1.1690368775.0.0.0',\n",
    "    'origin': 'https://www.hijabista.com.my',\n",
    "    'referer': 'https://www.hijabista.com.my/category/stail/',\n",
    "    'sec-ch-ua': '\"Not.A/Brand\";v=\"8\", \"Chromium\";v=\"114\", \"Microsoft Edge\";v=\"114\"',\n",
    "    'sec-ch-ua-mobile': '?0',\n",
    "    'sec-ch-ua-platform': '\"macOS\"',\n",
    "    'sec-fetch-dest': 'empty',\n",
    "    'sec-fetch-mode': 'cors',\n",
    "    'sec-fetch-site': 'same-origin',\n",
    "    'user-agent': 'Mozilla/5.0 (Macintosh; Intel Mac OS X 10_15_7) AppleWebKit/537.36 (KHTML, like Gecko) Chrome/114.0.0.0 Safari/537.36 Edg/114.0.1823.82',\n",
    "    'x-auth-token': 'Mzk4NTIxODI2ODQyMDg4OTExMDQ5MTQ2MTQzMjIxODg=',\n",
    "    'x-requested-with': 'XMLHttpRequest',\n",
    "}\n",
    "\n",
    "params = {\n",
    "    'td_theme_name': 'Newspaper',\n",
    "    'v': '12.4',\n",
    "}\n"
   ]
  },
  {
   "cell_type": "code",
   "execution_count": 4,
   "id": "d25b0f31",
   "metadata": {},
   "outputs": [],
   "source": [
    "def crawl(url,category):\n",
    "    \n",
    "        \n",
    "    data = {\n",
    "    'action': 'td_ajax_loop',\n",
    "    'loopState[sidebarPosition]': '',\n",
    "    'loopState[moduleId]': '1',\n",
    "    'loopState[currentPage]': f'{url}',\n",
    "    'loopState[atts][category_id]': f'{category}',\n",
    "    'loopState[ajax_pagination_infinite_stop]': '3',\n",
    "    'loopState[server_reply_html_data]': '',\n",
    "    }\n",
    "    \n",
    "    \n",
    "    \n",
    "    while True:\n",
    "        try:\n",
    "            response = requests.post(\n",
    "            'https://www.hijabista.com.my/wp-admin/admin-ajax.php',\n",
    "            params=params,\n",
    "            cookies=cookies,\n",
    "            headers=headers,\n",
    "            data=data,\n",
    "            )\n",
    "            if response.status_code == 508:\n",
    "                print(r.status_code)\n",
    "                print('error in link, retrying... ', url)\n",
    "                time.sleep(20)\n",
    "                continue\n",
    "            break\n",
    "        except Exception as e:\n",
    "            print(e)\n",
    "            time.sleep(1.0)\n",
    "    \n",
    "    try:\n",
    "        r = response.json()\n",
    "    except:\n",
    "        return\n",
    "    \n",
    "    \n",
    "    soup = BeautifulSoup(r['server_reply_html_data'], \"html.parser\")\n",
    "    \n",
    "    block = soup.find_all(\"h3\",attrs = {\"class\":\"entry-title td-module-title\"})\n",
    "    \n",
    "    if block is None:\n",
    "        return\n",
    "\n",
    "    for link in soup.find_all(\"h3\",attrs = {\"class\":\"entry-title td-module-title\"}):\n",
    "\n",
    "        href = link.find('a').get('href')\n",
    "        hrefs.append(href)\n",
    "    "
   ]
  },
  {
   "cell_type": "code",
   "execution_count": 5,
   "id": "e4c78fa9",
   "metadata": {},
   "outputs": [
    {
     "name": "stderr",
     "output_type": "stream",
     "text": [
      "100%|████████████████████████████████████████████████████████████████████████████████████████████████| 82/82 [03:24<00:00,  2.50s/it]\n",
      "100%|██████████████████████████████████████████████████████████████████████████████████████████████████| 5/5 [00:10<00:00,  2.17s/it]\n",
      "100%|████████████████████████████████████████████████████████████████████████████████████████████████| 15/15 [00:30<00:00,  2.05s/it]\n",
      "100%|██████████████████████████████████████████████████████████████████████████████████████████████████| 4/4 [00:11<00:00,  2.88s/it]\n",
      "100%|████████████████████████████████████████████████████████████████████████████████████████████████| 46/46 [01:58<00:00,  2.58s/it]\n"
     ]
    }
   ],
   "source": [
    "max_worker = 5\n",
    "hrefs = []\n",
    "\n",
    "for index, c in enumerate(categories):\n",
    "    max_pages = ['408', '23', '71', '16', '228']\n",
    "    max_page = int(max_pages[index])\n",
    "    \n",
    "    for i in tqdm(range(1, max_page + 1, max_worker)):\n",
    "        aranged = np.arange(i, min(i + max_worker, max_page + 1))  # Fix range issue\n",
    "        urls = [str(a) for a in aranged]  # Use the correct range of pages\n",
    "        \n",
    "        with ThreadPoolExecutor(max_workers=max_worker) as executor:\n",
    "            futures = {executor.submit(crawl, url, c): url for url in urls}\n",
    "            \n",
    "        for future in as_completed(futures):\n",
    "            future.result()"
   ]
  },
  {
   "cell_type": "code",
   "execution_count": 13,
   "id": "d7357699",
   "metadata": {},
   "outputs": [],
   "source": [
    "hrefs = list(set(hrefs))"
   ]
  },
  {
   "cell_type": "code",
   "execution_count": 14,
   "id": "e80feeec",
   "metadata": {},
   "outputs": [
    {
     "data": {
      "text/plain": [
       "7399"
      ]
     },
     "execution_count": 14,
     "metadata": {},
     "output_type": "execute_result"
    }
   ],
   "source": [
    "len(hrefs)"
   ]
  },
  {
   "cell_type": "code",
   "execution_count": 8,
   "id": "8455d975",
   "metadata": {},
   "outputs": [],
   "source": [
    "with open('hijabista-link.json', 'a') as f:\n",
    "    json.dump(hrefs, f)"
   ]
  },
  {
   "cell_type": "code",
   "execution_count": 11,
   "id": "b51c8fd3",
   "metadata": {},
   "outputs": [],
   "source": [
    "def process_url(x):\n",
    "    headers = {'User-Agent': 'Mozilla/5.0 (Windows NT 6.1; WOW64) AppleWebKit/537.36 (KHTML, like Gecko) Chrome/56.0.2924.76 Safari/537.36'} # This is chrome, you can set whatever browser you like\n",
    "\n",
    "    \n",
    "    while True:\n",
    "        try:\n",
    "            r = requests.get(x, headers=headers)\n",
    "            break\n",
    "        except Exception as e:\n",
    "            print(e)\n",
    "            time.sleep(5.0)\n",
    "    \n",
    "    soup = BeautifulSoup(r.text, \"lxml\")\n",
    "\n",
    "    try:\n",
    "        headline = soup.find('h1', class_=\"entry-title\").text\n",
    "        h = soup.find('div', attrs = {\"class\":\"td-ss-main-content\"})\n",
    "        p = [p.text for p in h.find_all(\"p\") if len(p.text) > 3 and not p.find('a', href=True)]\n",
    "    except Exception as e:\n",
    "        print('error in link:'+ x)\n",
    "        print(e)\n",
    "        return None\n",
    "    \n",
    "    time.sleep(1)\n",
    "\n",
    "    \n",
    "    data = {'url': x, 'headline': headline, 'content': p}\n",
    "    return data"
   ]
  },
  {
   "cell_type": "code",
   "execution_count": 12,
   "id": "01d5c434",
   "metadata": {},
   "outputs": [
    {
     "name": "stderr",
     "output_type": "stream",
     "text": [
      "  2%|█▍                                                                                         | 112/7399 [02:02<1:32:59,  1.31it/s]"
     ]
    },
    {
     "name": "stdout",
     "output_type": "stream",
     "text": [
      "error in link:https://www.hijabista.com.my/nak-kurus-ikut-petua-wanita-cina-ni-resepi-cantik-luar-dan-dalam/\n",
      "'NoneType' object has no attribute 'text'\n"
     ]
    },
    {
     "name": "stderr",
     "output_type": "stream",
     "text": [
      "  3%|██▋                                                                                       | 216/7399 [05:05<16:23:01,  8.21s/it]"
     ]
    },
    {
     "name": "stdout",
     "output_type": "stream",
     "text": [
      "error in link:https://www.hijabista.com.my/amalan-membaca-doa-selepas-solat-ini-pilihan-doa-ringkas-yang-boleh-diamalkan/\n",
      "'NoneType' object has no attribute 'text'\n"
     ]
    },
    {
     "name": "stderr",
     "output_type": "stream",
     "text": [
      "  7%|██████▊                                                                                    | 554/7399 [11:16<9:50:33,  5.18s/it]"
     ]
    },
    {
     "name": "stdout",
     "output_type": "stream",
     "text": [
      "error in link:https://www.hijabista.com.my/makan-jamu-sejak-remaja-rahsia-cantik-sihat-diana-rafar-juga-amalkan-mandian-ais-dari-herba-terpilih/\n",
      "'NoneType' object has no attribute 'text'\n"
     ]
    },
    {
     "name": "stderr",
     "output_type": "stream",
     "text": [
      "  8%|██████▉                                                                                    | 568/7399 [11:44<6:37:45,  3.49s/it]"
     ]
    },
    {
     "name": "stdout",
     "output_type": "stream",
     "text": [
      "error in link:https://www.hijabista.com.my/ini-perbezaan-penjagaan-kulit-untuk-usia-20an-30an-40an-dan-50an/\n",
      "'NoneType' object has no attribute 'text'\n"
     ]
    },
    {
     "name": "stderr",
     "output_type": "stream",
     "text": [
      "  8%|███████▌                                                                                   | 611/7399 [12:28<2:20:49,  1.24s/it]"
     ]
    },
    {
     "name": "stdout",
     "output_type": "stream",
     "text": [
      "error in link:https://www.hijabista.com.my/ini-cara-betul-hilangkan-jeragat-paling-penting-pakai-sunscreen-produk-dicadangkan-dari-drugstore/\n",
      "'NoneType' object has no attribute 'text'\n"
     ]
    },
    {
     "name": "stderr",
     "output_type": "stream",
     "text": [
      " 10%|█████████                                                                                    | 722/7399 [14:06<51:19,  2.17it/s]"
     ]
    },
    {
     "name": "stdout",
     "output_type": "stream",
     "text": [
      "error in link:https://www.hijabista.com.my/5-warna-baju-ini-melambangkan-personaliti-hijabi-siapa-pilih-oren-rupanya-ciri-orang-yang-kreatif/\n",
      "'NoneType' object has no attribute 'text'\n"
     ]
    },
    {
     "name": "stderr",
     "output_type": "stream",
     "text": [
      " 12%|██████████▍                                                                                | 852/7399 [16:04<1:05:11,  1.67it/s]"
     ]
    },
    {
     "name": "stdout",
     "output_type": "stream",
     "text": [
      "error in link:https://www.hijabista.com.my/6-koleksi-hijab-paling-praktikal-wajib-ada-buat-hijabi-berwajah-bulat-pipi-chubby/\n",
      "'NoneType' object has no attribute 'text'\n"
     ]
    },
    {
     "name": "stderr",
     "output_type": "stream",
     "text": [
      " 14%|████████████▏                                                                             | 1002/7399 [18:41<1:34:28,  1.13it/s]"
     ]
    },
    {
     "name": "stdout",
     "output_type": "stream",
     "text": [
      "error in link:https://www.hijabista.com.my/wanita-ini-senaraikan-punca-utama-alami-breakout-no-4-masuk-akal-tapi-no-5-macam-tak-percaya/\n",
      "'NoneType' object has no attribute 'text'\n"
     ]
    },
    {
     "name": "stderr",
     "output_type": "stream",
     "text": [
      " 14%|████████████▌                                                                             | 1033/7399 [19:12<2:05:06,  1.18s/it]"
     ]
    },
    {
     "name": "stdout",
     "output_type": "stream",
     "text": [
      "(\"Connection broken: InvalidChunkLength(got length b'', 0 bytes read)\", InvalidChunkLength(got length b'', 0 bytes read))\n"
     ]
    },
    {
     "name": "stderr",
     "output_type": "stream",
     "text": [
      " 16%|██████████████▍                                                                           | 1182/7399 [22:07<1:51:47,  1.08s/it]"
     ]
    },
    {
     "name": "stdout",
     "output_type": "stream",
     "text": [
      "error in link:https://www.hijabista.com.my/rahsia-kulit-selebriti-licin-tanpa-cela-akhirnya-terbongkar/\n",
      "'NoneType' object has no attribute 'text'\n"
     ]
    },
    {
     "name": "stderr",
     "output_type": "stream",
     "text": [
      " 18%|████████████████▏                                                                         | 1326/7399 [24:38<1:35:31,  1.06it/s]"
     ]
    },
    {
     "name": "stdout",
     "output_type": "stream",
     "text": [
      "error in link:https://www.hijabista.com.my/5726-2/\n",
      "'NoneType' object has no attribute 'text'\n"
     ]
    },
    {
     "name": "stderr",
     "output_type": "stream",
     "text": [
      " 20%|██████████████████                                                                        | 1486/7399 [27:15<1:35:28,  1.03it/s]"
     ]
    },
    {
     "name": "stdout",
     "output_type": "stream",
     "text": [
      "error in link:https://www.hijabista.com.my/5-punca-orang-yang-suka-ketawa-lebih-sihat-bahagia-menyesal-kalau-tak-buat/\n",
      "'NoneType' object has no attribute 'text'\n"
     ]
    },
    {
     "name": "stderr",
     "output_type": "stream",
     "text": [
      " 22%|███████████████████▊                                                                      | 1629/7399 [30:51<2:50:29,  1.77s/it]"
     ]
    },
    {
     "name": "stdout",
     "output_type": "stream",
     "text": [
      "error in link:https://www.hijabista.com.my/kalau-nak-masuk-syurga-ini-4-perkara-yang-golongan-isteri-perlu-tahu/\n",
      "'NoneType' object has no attribute 'text'\n"
     ]
    },
    {
     "name": "stderr",
     "output_type": "stream",
     "text": [
      " 24%|██████████████████████                                                                    | 1811/7399 [33:33<1:33:38,  1.01s/it]"
     ]
    },
    {
     "name": "stdout",
     "output_type": "stream",
     "text": [
      "error in link:https://www.hijabista.com.my/cuba-gunakan-toner-lemon-kalau-nak-kulit-lebih-cerah-jom-diy-sendiri-di-rumah-2/\n",
      "'NoneType' object has no attribute 'text'\n"
     ]
    },
    {
     "name": "stderr",
     "output_type": "stream",
     "text": [
      " 26%|███████████████████████▎                                                                  | 1916/7399 [35:27<1:13:55,  1.24it/s]"
     ]
    },
    {
     "name": "stdout",
     "output_type": "stream",
     "text": [
      "error in link:https://www.hijabista.com.my/persiapan-bertemu-malam-lailatul-qadar-ayuh-lakukan-6-perkara-ini-antaranya-simpan-segala-gajet-di-rumah/\n",
      "'NoneType' object has no attribute 'text'\n"
     ]
    },
    {
     "name": "stderr",
     "output_type": "stream",
     "text": [
      " 32%|█████████████████████████████                                                               | 2335/7399 [42:54<49:33,  1.70it/s]"
     ]
    },
    {
     "name": "stdout",
     "output_type": "stream",
     "text": [
      "error in link:https://www.hijabista.com.my/7-tanda-ini-buktikan-suami-curang-ada-wanita-lain-isteri-wajib-tahu-kalau-nak-bahagia-till-jannah/\n",
      "'NoneType' object has no attribute 'text'\n"
     ]
    },
    {
     "name": "stderr",
     "output_type": "stream",
     "text": [
      " 32%|████████████████████████████▊                                                             | 2366/7399 [43:28<1:13:26,  1.14it/s]"
     ]
    },
    {
     "name": "stdout",
     "output_type": "stream",
     "text": [
      "error in link:https://www.hijabista.com.my/selain-salah-pakai-deodoran-ini-antara-6-lagi-kesalahan-yang-sering-dilakukan-hingga-buat-ketiak-hitam-kasar/\n",
      "'NoneType' object has no attribute 'text'\n"
     ]
    },
    {
     "name": "stderr",
     "output_type": "stream",
     "text": [
      " 40%|███████████████████████████████████▉                                                      | 2957/7399 [53:50<1:19:28,  1.07s/it]"
     ]
    },
    {
     "name": "stdout",
     "output_type": "stream",
     "text": [
      "error in link:https://www.hijabista.com.my/berlinang-air-mata-suami-isteri-mintak-nafkah-rm1-untuk-selamatkan-dari-api-neraka-baca-perkongsian-lelaki-ini/\n",
      "'NoneType' object has no attribute 'text'\n"
     ]
    },
    {
     "name": "stderr",
     "output_type": "stream",
     "text": [
      " 40%|████████████████████████████████████                                                      | 2962/7399 [53:55<1:16:10,  1.03s/it]"
     ]
    },
    {
     "name": "stdout",
     "output_type": "stream",
     "text": [
      "error in link:https://www.hijabista.com.my/deep-pesanan-imam-muda-hassan-bila-isteri-nak-mengadu-suami-jangan-malas-layan-isteri/\n",
      "'NoneType' object has no attribute 'text'\n"
     ]
    },
    {
     "name": "stderr",
     "output_type": "stream",
     "text": [
      " 50%|████████████████████████████████████████████▉                                             | 3697/7399 [1:08:07<45:59,  1.34it/s]"
     ]
    },
    {
     "name": "stdout",
     "output_type": "stream",
     "text": [
      "error in link:https://www.hijabista.com.my/elak-muka-kusam-di-pagi-raya-ini-gincu-terbaik-untuk-solekan-yang-glamor-dan-letup/\n",
      "'NoneType' object has no attribute 'text'\n"
     ]
    },
    {
     "name": "stderr",
     "output_type": "stream",
     "text": [
      " 53%|████████████████████████████████████████████████                                          | 3954/7399 [1:12:24<46:05,  1.25it/s]"
     ]
    },
    {
     "name": "stdout",
     "output_type": "stream",
     "text": [
      "error in link:https://www.hijabista.com.my/diy-deep-conditioner-diperbuat-daripada-yogurt/\n",
      "'NoneType' object has no attribute 'text'\n"
     ]
    },
    {
     "name": "stderr",
     "output_type": "stream",
     "text": [
      " 56%|██████████████████████████████████████████████████▎                                       | 4133/7399 [1:15:48<57:42,  1.06s/it]"
     ]
    },
    {
     "name": "stdout",
     "output_type": "stream",
     "text": [
      "error in link:https://www.hijabista.com.my/ini-caranya-tip-untuk-kekal-modest-bergaya-sopan-sepanjang-ramadan-hijabi-patut-tahu/\n",
      "'NoneType' object has no attribute 'text'\n"
     ]
    },
    {
     "name": "stderr",
     "output_type": "stream",
     "text": [
      " 56%|██████████████████████████████████████████████████▋                                       | 4162/7399 [1:16:15<40:48,  1.32it/s]"
     ]
    },
    {
     "name": "stdout",
     "output_type": "stream",
     "text": [
      "error in link:https://www.hijabista.com.my/ini-cara-terbaik-rawat-barangan-kulit-supaya-tak-cepat-nampak-buruk-jadi-rosak-hijabi-kena-tahu/\n",
      "'NoneType' object has no attribute 'text'\n"
     ]
    },
    {
     "name": "stderr",
     "output_type": "stream",
     "text": [
      " 60%|█████████████████████████████████████████████████████▊                                    | 4426/7399 [1:21:36<37:29,  1.32it/s]"
     ]
    },
    {
     "name": "stdout",
     "output_type": "stream",
     "text": [
      "error in link:https://www.hijabista.com.my/rambut-basah-terus-pakai-tudung-tak-pernah-tukar-inner-punca-rambut-bau-hapak/\n",
      "'NoneType' object has no attribute 'text'\n"
     ]
    },
    {
     "name": "stderr",
     "output_type": "stream",
     "text": [
      " 60%|██████████████████████████████████████████████████████                                    | 4445/7399 [1:21:58<53:38,  1.09s/it]"
     ]
    },
    {
     "name": "stdout",
     "output_type": "stream",
     "text": [
      "error in link:https://www.hijabista.com.my/elak-breakout-ganggu-mood-raya-gadis-ini-kongsi-13-produk-drugstore-pulihkan-wajah-lepas-5-bulan-rosak/\n",
      "'NoneType' object has no attribute 'text'\n"
     ]
    },
    {
     "name": "stderr",
     "output_type": "stream",
     "text": [
      " 61%|██████████████████████████████████████████████████████▉                                   | 4515/7399 [1:23:10<51:57,  1.08s/it]"
     ]
    },
    {
     "name": "stdout",
     "output_type": "stream",
     "text": [
      "error in link:https://www.hijabista.com.my/hidup-bertambah-senang-selepas-amalkan-surah-al-waqiah-setiap-hari/\n",
      "'NoneType' object has no attribute 'text'\n"
     ]
    },
    {
     "name": "stderr",
     "output_type": "stream",
     "text": [
      " 62%|████████████████████████████████████████████████████████                                  | 4612/7399 [1:24:58<55:44,  1.20s/it]"
     ]
    },
    {
     "name": "stdout",
     "output_type": "stream",
     "text": [
      "error in link:https://www.hijabista.com.my/tak-perlu-berdandan-lebih-cuma-hiasi-mata-dengan-solekan-simple-sesuai-buat-ramadan-ini/\n",
      "'NoneType' object has no attribute 'text'\n"
     ]
    },
    {
     "name": "stderr",
     "output_type": "stream",
     "text": [
      " 73%|████████████████████████████████████████████████████████████████▏                       | 5392/7399 [1:41:58<1:28:21,  2.64s/it]"
     ]
    },
    {
     "name": "stdout",
     "output_type": "stream",
     "text": [
      "error in link:https://www.hijabista.com.my/campuran-5-bahan-ini-bagus-untuk-cuci-rahim-minum-sebulan-sekali-je-tak-perlu-setiap-hari/\n",
      "'NoneType' object has no attribute 'text'\n"
     ]
    },
    {
     "name": "stderr",
     "output_type": "stream",
     "text": [
      " 75%|███████████████████████████████████████████████████████████████████▎                      | 5531/7399 [1:44:47<37:01,  1.19s/it]"
     ]
    },
    {
     "name": "stdout",
     "output_type": "stream",
     "text": [
      "error in link:https://www.hijabista.com.my/nak-kulit-tubuuh-cantik-halis-mulus-boleh-cuba-buat-body-shea-butter-di-rumah-gerenti-jadi/\n",
      "'NoneType' object has no attribute 'text'\n"
     ]
    },
    {
     "name": "stderr",
     "output_type": "stream",
     "text": [
      " 78%|█████████████████████████████████████████████████████████████████████▊                    | 5735/7399 [1:49:26<19:08,  1.45it/s]"
     ]
    },
    {
     "name": "stdout",
     "output_type": "stream",
     "text": [
      "error in link:https://www.hijabista.com.my/10-cara-mudah-buat-hijabi-rambut-nipis-jadi-lebih-banyak-walaupun-berhijab/\n",
      "'NoneType' object has no attribute 'text'\n"
     ]
    },
    {
     "name": "stderr",
     "output_type": "stream",
     "text": [
      " 82%|████████████████████████████████████████████████████████████████████████                | 6063/7399 [1:56:24<1:50:26,  4.96s/it]"
     ]
    },
    {
     "name": "stdout",
     "output_type": "stream",
     "text": [
      "error in link:https://www.hijabista.com.my/atasi-masalah-sakit-sendi-angin-dalam-badan-dengan-ais-limau-boleh-sembuh-dengan-izin-allah/\n",
      "'NoneType' object has no attribute 'text'\n"
     ]
    },
    {
     "name": "stderr",
     "output_type": "stream",
     "text": [
      " 88%|██████████████████████████████████████████████████████████████████████████████▊           | 6481/7399 [2:04:50<44:04,  2.88s/it]"
     ]
    },
    {
     "name": "stdout",
     "output_type": "stream",
     "text": [
      "error in link:https://www.hijabista.com.my/haram-hukum-simpan-kuku-panjang-serupa-orang-kafir/\n",
      "'NoneType' object has no attribute 'text'\n"
     ]
    },
    {
     "name": "stderr",
     "output_type": "stream",
     "text": [
      " 88%|███████████████████████████████████████████████████████████████████████████████▍          | 6532/7399 [2:05:11<12:21,  1.17it/s]"
     ]
    },
    {
     "name": "stdout",
     "output_type": "stream",
     "text": [
      "(\"Connection broken: InvalidChunkLength(got length b'', 0 bytes read)\", InvalidChunkLength(got length b'', 0 bytes read))\n"
     ]
    },
    {
     "name": "stderr",
     "output_type": "stream",
     "text": [
      "\r",
      " 88%|█████████████████████████████████████████████████████████████████████████████▋          | 6533/7399 [2:05:27<1:06:27,  4.60s/it]"
     ]
    },
    {
     "name": "stdout",
     "output_type": "stream",
     "text": [
      "(\"Connection broken: InvalidChunkLength(got length b'', 0 bytes read)\", InvalidChunkLength(got length b'', 0 bytes read))\n"
     ]
    },
    {
     "name": "stderr",
     "output_type": "stream",
     "text": [
      " 96%|██████████████████████████████████████████████████████████████████████████████████████▍   | 7102/7399 [2:17:03<05:06,  1.03s/it]"
     ]
    },
    {
     "name": "stdout",
     "output_type": "stream",
     "text": [
      "error in link:https://www.hijabista.com.my/kisah-malu-di-hajar-aswad-tanda-tuhan-berikan-hidayah-pada-wanita-ini-lepas-19-tahun-jadi-pramugari-2/\n",
      "'NoneType' object has no attribute 'text'\n"
     ]
    },
    {
     "name": "stderr",
     "output_type": "stream",
     "text": [
      " 98%|████████████████████████████████████████████████████████████████████████████████████████▎ | 7260/7399 [2:20:16<01:37,  1.42it/s]"
     ]
    },
    {
     "name": "stdout",
     "output_type": "stream",
     "text": [
      "error in link:https://www.hijabista.com.my/ini-antara-punca-kenapa-jerawat-selalu-tumbuh-kat-pipi-dahi-salah-satunya-disebabkan-perubahan-hormon/\n",
      "'NoneType' object has no attribute 'text'\n"
     ]
    },
    {
     "name": "stderr",
     "output_type": "stream",
     "text": [
      " 98%|████████████████████████████████████████████████████████████████████████████████████████▍ | 7275/7399 [2:20:33<01:18,  1.59it/s]"
     ]
    },
    {
     "name": "stdout",
     "output_type": "stream",
     "text": [
      "(\"Connection broken: InvalidChunkLength(got length b'', 0 bytes read)\", InvalidChunkLength(got length b'', 0 bytes read))\n"
     ]
    },
    {
     "name": "stderr",
     "output_type": "stream",
     "text": [
      "100%|██████████████████████████████████████████████████████████████████████████████████████████| 7399/7399 [2:23:01<00:00,  1.16s/it]\n"
     ]
    }
   ],
   "source": [
    "max_workers = 5\n",
    "\n",
    "with ThreadPoolExecutor(max_workers=max_workers) as executor:\n",
    "    futures = [executor.submit(process_url, x) for x in hrefs]\n",
    "    \n",
    "    for future in tqdm(futures, total=len(hrefs)):\n",
    "        result = future.result()\n",
    "        if result:\n",
    "            with open('hijabista.jsonl', 'a',encoding='utf8') as f:\n",
    "                json.dump(result, f,ensure_ascii=False)\n",
    "                f.write('\\n')"
   ]
  },
  {
   "cell_type": "code",
   "execution_count": null,
   "id": "e14c5591",
   "metadata": {},
   "outputs": [],
   "source": []
  }
 ],
 "metadata": {
  "kernelspec": {
   "display_name": "Python 3 (ipykernel)",
   "language": "python",
   "name": "python3"
  },
  "language_info": {
   "codemirror_mode": {
    "name": "ipython",
    "version": 3
   },
   "file_extension": ".py",
   "mimetype": "text/x-python",
   "name": "python",
   "nbconvert_exporter": "python",
   "pygments_lexer": "ipython3",
   "version": "3.8.10"
  }
 },
 "nbformat": 4,
 "nbformat_minor": 5
}
