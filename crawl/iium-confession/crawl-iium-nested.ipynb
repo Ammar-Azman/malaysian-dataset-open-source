{
 "cells": [
  {
   "cell_type": "code",
   "execution_count": 4,
   "metadata": {},
   "outputs": [],
   "source": [
    "import requests\n",
    "from bs4 import BeautifulSoup\n",
    "from tqdm import tqdm\n",
    "import json"
   ]
  },
  {
   "cell_type": "code",
   "execution_count": 5,
   "metadata": {},
   "outputs": [
    {
     "data": {
      "text/plain": [
       "28335"
      ]
     },
     "execution_count": 5,
     "metadata": {},
     "output_type": "execute_result"
    }
   ],
   "source": [
    "with open('url-iium.json') as fopen:\n",
    "    urls = json.load(fopen)\n",
    "    \n",
    "len(urls)"
   ]
  },
  {
   "cell_type": "code",
   "execution_count": 14,
   "metadata": {},
   "outputs": [
    {
     "name": "stderr",
     "output_type": "stream",
     "text": [
      "100%|███████████████████████████████████| 28335/28335 [1:31:43<00:00,  5.15it/s]\n"
     ]
    }
   ],
   "source": [
    "data = []\n",
    "for url in tqdm(urls):\n",
    "    r = requests.get(url)\n",
    "    soup = BeautifulSoup(r.text, \"lxml\")\n",
    "    p = [p.text for p in soup.find_all(\"p\") if len(p.text.split()) > 20]\n",
    "    data.append({'url': url, 'p': p})"
   ]
  },
  {
   "cell_type": "code",
   "execution_count": 15,
   "metadata": {},
   "outputs": [
    {
     "data": {
      "text/plain": [
       "{'url': 'https://iiumc.com/reply-to-sis-engin-masalah-dengan-exam/',\n",
       " 'p': ['Salam.\\n.\\nSaya terbaca confession pasal masalah nak stadi even for exam. Frankly speaking, your confession makes me feel like reading my own story. Perangai makin lama makin malas stadi macam ni saya gelar ia \"Motivasi Merudum\". Saya juga dulu macam ni. Sama sebijik start dari zaman sekolah sampai degree.\\n.\\nBegini sis. Ikut pengalaman saya ada 3 benda saya buat:\\n1. IDENTIFY SKILL.Apa yang awak paling hebat?\\nContoh macam saya, saya boleh faham satu theory/fact dengan skali baca je, dengan syarat saya baca with slow speed. Slow gila2. Kiranya memang akan ambik masa lama untuk finish 1 page, 15 minit for example. Tapi akan faham betul topik tu and saya hanya stadi skali je (stadi untuk kuiz tapi guna utk kuiz,mid term and final exam)\\n.\\n2. STADI TOPIK KEGEMARAN.\\nSetiap subjek mesti ada few topics yang kita suka. Mustahil xde satu pun yg kita minat of all the things yg lecturer ajar. Jadinya saya akan focus kat topik kegemaran, kasi faham kaw2 punya. Topik lain? Blaja last skali itu pun kalau ada masa(selalunya x blaja langsung sbb stadi last minit). Macam mn nak tau awak faham2 betul atau x? Cuba try 2,3 soalan dalam buku teks. Saya buat ni and saya boleh dapat A- masa final even x jawab 2 soalan bernilai 30 markah, 2 soalan dari topik yang saya x stadi.\\n.\\n3. FOKUS KAT KELAS.\\nYang ni tujuannya supaya senang bila kita nk stadi balik pasal topik tu. Percaya cakap saya, kalau awak fokus kat kelas awak akan rasa macam dejavu bila time nk ulang kaji tajuk sama. Saya tak tau awak jenis yang macam mana tapi kalau saya memang jarang menulis, dengar je lecturer bercerita kat depan. Ikut pengalaman buku latihan 100pages tu saya blh guna 2 sem. sama mcm pen,1 untuk 2 sem. Sebab memang x bnyk menulis kat kelas/bilik. Kalau buat ni insyaALLAH membantu. Saya penah ambik kuiz tapi x stadi sikit pun pasal tajuk yang masuk kuiz, in fact saya selalu ke kelas tapi xtau akan ada kuiz.tapi saya blh score 7/10 sbb bendanya saya dah faham msa kat kelas.\\n.\\nSaya praktis 3 benda kat atas ni alhamdulillah tak kena extend.Paling teruk akan dapat B-, paling baik boleh dapat A-. kalau awak nak buat mcm ni make sure jngan compare diri sendiri dengan orang lain sbb certain people even they study 5-6 hours per day maybe what they absorb is only 20-30% je. Jangan risau sebab saya pun bukan stok2 kaki stadi. Kawan2 slalunya risau sebab  saya bnyk main, banyak tidur, banyak keje tah pape.So tips ni memang untuk orang malas stadi.\\n.\\nJadinya selamat beramal and GOOD LUCK! :)']}"
      ]
     },
     "execution_count": 15,
     "metadata": {},
     "output_type": "execute_result"
    }
   ],
   "source": [
    "data[1]"
   ]
  },
  {
   "cell_type": "code",
   "execution_count": 16,
   "metadata": {},
   "outputs": [],
   "source": [
    "with open('crawled-iium.json', 'w') as fopen:\n",
    "    json.dump(data, fopen)"
   ]
  }
 ],
 "metadata": {
  "kernelspec": {
   "display_name": "Python 3 (ipykernel)",
   "language": "python",
   "name": "python3"
  },
  "language_info": {
   "codemirror_mode": {
    "name": "ipython",
    "version": 3
   },
   "file_extension": ".py",
   "mimetype": "text/x-python",
   "name": "python",
   "nbconvert_exporter": "python",
   "pygments_lexer": "ipython3",
   "version": "3.8.10"
  }
 },
 "nbformat": 4,
 "nbformat_minor": 4
}
