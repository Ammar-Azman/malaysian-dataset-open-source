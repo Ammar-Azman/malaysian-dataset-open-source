{
 "cells": [
  {
   "cell_type": "code",
   "execution_count": 1,
   "metadata": {},
   "outputs": [],
   "source": [
    "import requests\n",
    "from bs4 import BeautifulSoup\n",
    "from tqdm import tqdm\n",
    "import os\n",
    "import json\n",
    "import numpy as np\n",
    "import time\n",
    "import random\n",
    "import json"
   ]
  },
  {
   "cell_type": "code",
   "execution_count": 2,
   "metadata": {},
   "outputs": [],
   "source": [
    "r = requests.get('https://mykmu.net/')\n",
    "soup = BeautifulSoup(r.content, \"lxml\")"
   ]
  },
  {
   "cell_type": "code",
   "execution_count": 6,
   "metadata": {},
   "outputs": [
    {
     "data": {
      "text/plain": [
       "['https://mykmu.net/category/jenayah/',\n",
       " 'https://mykmu.net/category/ekonomi/teknologi/',\n",
       " 'https://mykmu.net/category/agama/',\n",
       " 'https://mykmu.net/category/eksklusif/',\n",
       " 'https://mykmu.net/category/video-pilihan/',\n",
       " 'https://mykmu.net/category/makanan/',\n",
       " 'https://mykmu.net/category/resepi/',\n",
       " 'https://mykmu.net/category/kesihatan/',\n",
       " 'https://mykmu.net/category/english-section/',\n",
       " 'https://mykmu.net/category/bencana/',\n",
       " 'https://mykmu.net/category/santai/',\n",
       " 'https://mykmu.net/category/berita/',\n",
       " 'https://mykmu.net/category/ekonomi/',\n",
       " 'https://mykmu.net/category/hiburan/',\n",
       " 'https://mykmu.net/category/indonesia/',\n",
       " 'https://mykmu.net/category/ekonomi/pendidikan/',\n",
       " 'https://mykmu.net/category/jenayah/kemalangan/',\n",
       " 'https://mykmu.net/category/komentar/komen-pembaca/',\n",
       " 'https://mykmu.net/category/jenayah/mahkamah/',\n",
       " 'https://mykmu.net/category/komentar/rencana/',\n",
       " 'https://mykmu.net/category/berita/semasa/',\n",
       " 'https://mykmu.net/category/ekonomi/bisnes/',\n",
       " 'https://mykmu.net/category/komentar/',\n",
       " 'https://mykmu.net/category/berita/politik/',\n",
       " 'https://mykmu.net/category/berita/dunia/',\n",
       " 'https://mykmu.net/category/resepi/resepi-by-nurul-jannah/']"
      ]
     },
     "execution_count": 6,
     "metadata": {},
     "output_type": "execute_result"
    }
   ],
   "source": [
    "a = soup.find_all('a')\n",
    "categories = [a_.get('href') for a_ in a if '/category/' in a_.get('href', '')]\n",
    "categories = list(set(categories))\n",
    "categories"
   ]
  },
  {
   "cell_type": "code",
   "execution_count": 7,
   "metadata": {},
   "outputs": [],
   "source": [
    "r = requests.get('https://mykmu.net/category/ekonomi/page/2/')\n",
    "soup = BeautifulSoup(r.content, \"lxml\")"
   ]
  },
  {
   "cell_type": "code",
   "execution_count": 9,
   "metadata": {},
   "outputs": [
    {
     "data": {
      "text/plain": [
       "['https://mykmu.net/2023/07/04/upuonline-results-out-on-july-7/',\n",
       " 'https://mykmu.net/2023/07/04/dzuleira-terajui-syarikat-terkemuka-negara-pada-usia-muda/',\n",
       " 'https://mykmu.net/2023/07/04/jual-karipap-dapat-rm80k-sebulan/',\n",
       " 'https://mykmu.net/2023/07/03/kereta-terbang-akhirnya-dibuka-untuk-tempahan/',\n",
       " 'https://mykmu.net/2023/07/03/amin-aznizan-bachelor-jutawan-terhangat/',\n",
       " 'https://mykmu.net/2023/07/03/pengguna-twitter-kini-mempunyai-had-bacaan-tweet-dalam-sehari-elon-musk/',\n",
       " 'https://mykmu.net/2023/07/03/fizz-fairuz-beli-anugerah/',\n",
       " 'https://mykmu.net/2023/06/27/bnm-akan-campur-tangan-dalam-pasaran-forex/',\n",
       " 'https://mykmu.net/2023/06/26/tnb-tawar-pakej-mampu-milik-pasang-solar-kediaman/',\n",
       " 'https://mykmu.net/2023/06/26/dzuleira-kini-ceo-sks-airways/']"
      ]
     },
     "execution_count": 9,
     "metadata": {},
     "output_type": "execute_result"
    }
   ],
   "source": [
    "h2 = soup.find_all('h2', {'class': 'post-title'})\n",
    "a = [h2_.find('a').get('href') for h2_ in h2]\n",
    "a"
   ]
  },
  {
   "cell_type": "code",
   "execution_count": 10,
   "metadata": {},
   "outputs": [],
   "source": [
    "!mkdir url"
   ]
  },
  {
   "cell_type": "code",
   "execution_count": null,
   "metadata": {},
   "outputs": [
    {
     "name": "stdout",
     "output_type": "stream",
     "text": [
      "https://mykmu.net/category/jenayah/\n"
     ]
    },
    {
     "name": "stderr",
     "output_type": "stream",
     "text": [
      "815it [27:09,  2.00s/it]\n"
     ]
    },
    {
     "name": "stdout",
     "output_type": "stream",
     "text": [
      "https://mykmu.net/category/ekonomi/teknologi/\n"
     ]
    },
    {
     "name": "stderr",
     "output_type": "stream",
     "text": [
      "27it [01:01,  2.27s/it]\n"
     ]
    },
    {
     "name": "stdout",
     "output_type": "stream",
     "text": [
      "https://mykmu.net/category/agama/\n"
     ]
    },
    {
     "name": "stderr",
     "output_type": "stream",
     "text": [
      "172it [06:30,  2.27s/it]\n"
     ]
    },
    {
     "name": "stdout",
     "output_type": "stream",
     "text": [
      "https://mykmu.net/category/eksklusif/\n"
     ]
    },
    {
     "name": "stderr",
     "output_type": "stream",
     "text": [
      "29it [00:55,  1.91s/it]\n"
     ]
    },
    {
     "name": "stdout",
     "output_type": "stream",
     "text": [
      "https://mykmu.net/category/video-pilihan/\n"
     ]
    },
    {
     "name": "stderr",
     "output_type": "stream",
     "text": [
      "257it [10:31,  2.46s/it]\n"
     ]
    },
    {
     "name": "stdout",
     "output_type": "stream",
     "text": [
      "https://mykmu.net/category/makanan/\n"
     ]
    },
    {
     "name": "stderr",
     "output_type": "stream",
     "text": [
      "91it [03:49,  2.52s/it]\n"
     ]
    },
    {
     "name": "stdout",
     "output_type": "stream",
     "text": [
      "https://mykmu.net/category/resepi/\n"
     ]
    },
    {
     "name": "stderr",
     "output_type": "stream",
     "text": [
      "57it [02:24,  2.54s/it]\n"
     ]
    },
    {
     "name": "stdout",
     "output_type": "stream",
     "text": [
      "https://mykmu.net/category/kesihatan/\n"
     ]
    },
    {
     "name": "stderr",
     "output_type": "stream",
     "text": [
      "232it [09:24,  2.44s/it]\n"
     ]
    },
    {
     "name": "stdout",
     "output_type": "stream",
     "text": [
      "https://mykmu.net/category/english-section/\n"
     ]
    },
    {
     "name": "stderr",
     "output_type": "stream",
     "text": [
      "144it [05:15,  2.19s/it]\n"
     ]
    },
    {
     "name": "stdout",
     "output_type": "stream",
     "text": [
      "https://mykmu.net/category/bencana/\n"
     ]
    },
    {
     "name": "stderr",
     "output_type": "stream",
     "text": [
      "139it [04:41,  2.02s/it]\n"
     ]
    },
    {
     "name": "stdout",
     "output_type": "stream",
     "text": [
      "https://mykmu.net/category/santai/\n"
     ]
    },
    {
     "name": "stderr",
     "output_type": "stream",
     "text": [
      "535it [19:15,  2.16s/it]\n"
     ]
    },
    {
     "name": "stdout",
     "output_type": "stream",
     "text": [
      "https://mykmu.net/category/berita/\n"
     ]
    },
    {
     "name": "stderr",
     "output_type": "stream",
     "text": [
      "2232it [1:24:41,  1.88s/it]"
     ]
    }
   ],
   "source": [
    "def generator():\n",
    "    while True:\n",
    "        yield\n",
    "        \n",
    "for t in categories:\n",
    "    print(t)\n",
    "    t_ = t.split('net/')[1].replace('/', '-')\n",
    "    \n",
    "    index = 1\n",
    "    for _ in tqdm(generator()):\n",
    "        filename = os.path.join('url', f'{t_}-{index}.json')\n",
    "        if os.path.exists(filename):\n",
    "            index += 1\n",
    "            continue\n",
    "        \n",
    "        r = requests.get(f'{t}page/{index}/')\n",
    "        soup = BeautifulSoup(r.content, \"lxml\")\n",
    "        h2 = soup.find_all('h2', {'class': 'post-title'})\n",
    "        a = [h2_.find('a').get('href') for h2_ in h2]\n",
    "        if not len(a):\n",
    "            break\n",
    "        \n",
    "        with open(filename, 'w') as fopen:\n",
    "            json.dump(a, fopen)\n",
    "            \n",
    "        index += 1"
   ]
  },
  {
   "cell_type": "code",
   "execution_count": null,
   "metadata": {},
   "outputs": [],
   "source": []
  }
 ],
 "metadata": {
  "kernelspec": {
   "display_name": "Python 3 (ipykernel)",
   "language": "python",
   "name": "python3"
  },
  "language_info": {
   "codemirror_mode": {
    "name": "ipython",
    "version": 3
   },
   "file_extension": ".py",
   "mimetype": "text/x-python",
   "name": "python",
   "nbconvert_exporter": "python",
   "pygments_lexer": "ipython3",
   "version": "3.8.10"
  }
 },
 "nbformat": 4,
 "nbformat_minor": 4
}
