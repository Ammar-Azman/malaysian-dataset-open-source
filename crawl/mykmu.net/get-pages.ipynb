{
 "cells": [
  {
   "cell_type": "code",
   "execution_count": 1,
   "metadata": {},
   "outputs": [],
   "source": [
    "import requests\n",
    "from bs4 import BeautifulSoup\n",
    "from tqdm import tqdm\n",
    "import os\n",
    "import json\n",
    "import numpy as np\n",
    "import time\n",
    "import random\n",
    "import json"
   ]
  },
  {
   "cell_type": "code",
   "execution_count": 2,
   "metadata": {},
   "outputs": [
    {
     "data": {
      "text/plain": [
       "66220"
      ]
     },
     "execution_count": 2,
     "metadata": {},
     "output_type": "execute_result"
    }
   ],
   "source": [
    "from glob import glob\n",
    "\n",
    "files = glob('url/*.json')\n",
    "urls = []\n",
    "for f in files:\n",
    "    with open(f) as fopen:\n",
    "        urls.extend(json.load(fopen))\n",
    "urls = sorted(list(set(urls)))\n",
    "len(urls)"
   ]
  },
  {
   "cell_type": "code",
   "execution_count": 3,
   "metadata": {},
   "outputs": [
    {
     "name": "stdout",
     "output_type": "stream",
     "text": [
      "mkdir: cannot create directory ‘page’: File exists\r\n"
     ]
    }
   ],
   "source": [
    "!mkdir page"
   ]
  },
  {
   "cell_type": "code",
   "execution_count": 4,
   "metadata": {},
   "outputs": [],
   "source": [
    "r = requests.get(urls[0])\n",
    "soup = BeautifulSoup(r.content, \"lxml\")"
   ]
  },
  {
   "cell_type": "code",
   "execution_count": 5,
   "metadata": {},
   "outputs": [
    {
     "data": {
      "text/plain": [
       "'\\nTol: Apa Yang Percuma? '"
      ]
     },
     "execution_count": 5,
     "metadata": {},
     "output_type": "execute_result"
    }
   ],
   "source": [
    "soup.find('h1').text"
   ]
  },
  {
   "cell_type": "code",
   "execution_count": 6,
   "metadata": {},
   "outputs": [
    {
     "data": {
      "text/plain": [
       "'https://mykmu.net/2018/06/01/tol-apa-yang-percuma/'"
      ]
     },
     "execution_count": 6,
     "metadata": {},
     "output_type": "execute_result"
    }
   ],
   "source": [
    "urls[0]"
   ]
  },
  {
   "cell_type": "code",
   "execution_count": 7,
   "metadata": {},
   "outputs": [
    {
     "data": {
      "text/plain": [
       "'\\n\\nPENYOKONG kerajaan di media sosial semalam meriah dengan tajuk berita “tiada tol KL-Seremban & Lebuhraya Salak bermula 1 Jun”.\\xa0 Konon ini bukti janji ditepati (penghapusan kutipan tol adalah antara janji Pakatan dalam kempen PRU14 yang lepas).\\nPenulis tak pasti bagaimana keadaannya di Lebuhraya Salak (kat mana letaknya ya?) tapi hasil dari respon kawan-kawan yang biasa menggunakan laluan lebuhraya Kl-Seremban, tol masih dibayar seperti biasa.\\xa0 Mana ada percuma?\\nJadi amat memalukanlah bagi kelompok ini.\\xa0 Sudah jadi penyokong kerajaan pun masih beriman dengan berita tak benar atau separuh benar seperti mana semasa menjadi penyokong pembangkang dulu.\\n\\n\\nBegitupun untuk berlaku adil, ada satu laporan yang mengatakan memang terdapat pengurangan hampir 50% antara laluan Sungai Besi – UPM, tapi tak pastilah sejauh mana kebenarannya.\\xa0 Yang pentingnya, bukanlah “tiada tol” seperti yang dihebohkan para penyokong kerajaan di media sosial semalam.\\nLagipun bukankah baru semalam Pakatan umum semua janji 100 hari itu terpaksa ditangguhkan SEMUANYA.\\xa0 Ingat penangguhan bayar hutang PTPTN saja yang ditangguhkan, apa dengan semua sekali janji 10 itupun ditangguhkan sama. Takkanlah penghapusan tol – yang tak masuk pun dalam 10 janji 100 hari pertama tu, dah dilaksanakan kot?\\nApa pun, jika benar percuma nak hairan apa?\\xa0 Pentadbiran yang sebelum ini pun dah menghapuskan begitu banyak kutipan di plaza-plaza tol tertentu.\\xa0 Antaranya tol Batu Tiga, EDL Bukit Kayu Hitam dan sebagainya, tapi rakyat di kawasan berkenaan masih memilih parti berlawanan juga.\\n\\n\\n\\xa0\\nShare this:TwitterFacebookLike this:Like Loading...\\n\\nRelated\\n\\n'"
      ]
     },
     "execution_count": 7,
     "metadata": {},
     "output_type": "execute_result"
    }
   ],
   "source": [
    "soup.find('div', {'class': 'entry-content entry clearfix'}).text"
   ]
  },
  {
   "cell_type": "code",
   "execution_count": 8,
   "metadata": {},
   "outputs": [
    {
     "name": "stderr",
     "output_type": "stream",
     "text": [
      "66220it [3:02:52,  6.04it/s]  \n"
     ]
    }
   ],
   "source": [
    "for no, url in tqdm(enumerate(urls)):\n",
    "    filename = os.path.join('page', f'{no}.json')\n",
    "    if os.path.exists(filename):\n",
    "        continue\n",
    "    \n",
    "    while True:\n",
    "        try:\n",
    "            r = requests.get(url)\n",
    "            break\n",
    "        except:\n",
    "            time.sleep(1.0)\n",
    "            \n",
    "    soup = BeautifulSoup(r.content, \"lxml\")\n",
    "\n",
    "    try:\n",
    "        title = soup.find('h1').text\n",
    "    except Exception as e:\n",
    "        title = None\n",
    "\n",
    "    try:\n",
    "        body = soup.find('div', {'class': 'entry-content entry clearfix'}).text\n",
    "    except Exception as e:\n",
    "        body = None\n",
    "\n",
    "    data = {\n",
    "        'url': url,\n",
    "        'title': title,\n",
    "        'body': body,\n",
    "    }\n",
    "    with open(filename, 'w') as fopen:\n",
    "        json.dump(data, fopen)"
   ]
  },
  {
   "cell_type": "code",
   "execution_count": null,
   "metadata": {},
   "outputs": [],
   "source": []
  }
 ],
 "metadata": {
  "kernelspec": {
   "display_name": "Python 3 (ipykernel)",
   "language": "python",
   "name": "python3"
  },
  "language_info": {
   "codemirror_mode": {
    "name": "ipython",
    "version": 3
   },
   "file_extension": ".py",
   "mimetype": "text/x-python",
   "name": "python",
   "nbconvert_exporter": "python",
   "pygments_lexer": "ipython3",
   "version": "3.8.10"
  }
 },
 "nbformat": 4,
 "nbformat_minor": 4
}
