{
 "cells": [
  {
   "cell_type": "code",
   "execution_count": 1,
   "metadata": {},
   "outputs": [],
   "source": [
    "import requests\n",
    "import numpy as np\n",
    "from bs4 import BeautifulSoup\n",
    "from tqdm import tqdm\n",
    "from concurrent.futures import ThreadPoolExecutor, as_completed\n",
    "from glob import glob\n",
    "from tqdm import tqdm\n",
    "import time\n",
    "import json\n",
    "import os\n",
    "import gc"
   ]
  },
  {
   "cell_type": "code",
   "execution_count": 2,
   "metadata": {},
   "outputs": [
    {
     "data": {
      "text/plain": [
       "90"
      ]
     },
     "execution_count": 2,
     "metadata": {},
     "output_type": "execute_result"
    }
   ],
   "source": [
    "files = glob('forums/*.json')\n",
    "len(files)"
   ]
  },
  {
   "cell_type": "code",
   "execution_count": 3,
   "metadata": {},
   "outputs": [
    {
     "data": {
      "text/plain": [
       "1670976"
      ]
     },
     "execution_count": 3,
     "metadata": {},
     "output_type": "execute_result"
    }
   ],
   "source": [
    "forums = []\n",
    "for f in files:\n",
    "    with open(f) as fopen:\n",
    "        forums.extend(json.load(fopen))\n",
    "        \n",
    "forums = sorted(list(set(forums)))\n",
    "len(forums)"
   ]
  },
  {
   "cell_type": "code",
   "execution_count": 5,
   "metadata": {},
   "outputs": [],
   "source": [
    "def get_url(url, topic):\n",
    "    while True:\n",
    "        try:\n",
    "            r = requests.get(url, timeout = 5.0)\n",
    "            break\n",
    "        except:\n",
    "            time.sleep(1.0)\n",
    "    soup = BeautifulSoup(r.content, \"lxml\")\n",
    "    a = soup.find_all('a')\n",
    "    a = [a_.get('href') for a_ in a if a_.get('href')]\n",
    "    a = [a_ for a_ in a if topic in a_ and '&page=' in a_]\n",
    "    [a_.split('&extra=page%3D1&page=')[-1] for a_ in a]\n",
    "    max_page = []\n",
    "    for a_ in a:\n",
    "        try:\n",
    "            max_page.append(int(a_.split('&extra=page%3D1&page=')[-1]))\n",
    "        except:\n",
    "            pass\n",
    "\n",
    "    try:\n",
    "        max_page = max(max_page)\n",
    "    except:\n",
    "        max_page = -1\n",
    "    td = soup.find_all('td', {'class': 't_f'})\n",
    "    td = [str(t) for t in td]\n",
    "    return url, td, max_page"
   ]
  },
  {
   "cell_type": "code",
   "execution_count": 6,
   "metadata": {},
   "outputs": [
    {
     "name": "stdout",
     "output_type": "stream",
     "text": [
      "mkdir: cannot create directory ‘threads’: File exists\r\n"
     ]
    }
   ],
   "source": [
    "!mkdir threads"
   ]
  },
  {
   "cell_type": "code",
   "execution_count": null,
   "metadata": {},
   "outputs": [
    {
     "name": "stderr",
     "output_type": "stream",
     "text": [
      "  6%|█▉                               | 4782/83549 [1:49:20<32:19:38,  1.48s/it]IOPub message rate exceeded.\n",
      "The notebook server will temporarily stop sending output\n",
      "to the client in order to avoid crashing it.\n",
      "To change this limit, set the config variable\n",
      "`--NotebookApp.iopub_msg_rate_limit`.\n",
      "\n",
      "Current values:\n",
      "NotebookApp.iopub_msg_rate_limit=1000.0 (msgs/sec)\n",
      "NotebookApp.rate_limit_window=3.0 (secs)\n",
      "\n",
      " 12%|███▉                            | 10386/83549 [3:59:12<27:25:05,  1.35s/it]encoding error : input conversion failed due to input error, bytes 0x8F 0xAF 0xE4 0xBB\n",
      "encoding error : input conversion failed due to input error, bytes 0x8F 0xAF 0xE4 0xBB\n",
      "encoding error : input conversion failed due to input error, bytes 0x8F 0xAF 0xE4 0xBB\n",
      " 15%|████▋                           | 12247/83549 [4:42:51<25:24:43,  1.28s/it]encoding error : input conversion failed due to input error, bytes 0x9D 0x90 0xE7 0xAD\n",
      "encoding error : input conversion failed due to input error, bytes 0x9D 0x90 0xE7 0xAD\n",
      "encoding error : input conversion failed due to input error, bytes 0x9D 0x90 0xE7 0xAD\n",
      " 16%|█████                           | 13191/83549 [5:03:31<24:23:36,  1.25s/it]encoding error : input conversion failed due to input error, bytes 0x9E 0xE6 0xB3 0x95\n",
      "encoding error : input conversion failed due to input error, bytes 0x9E 0xE6 0xB3 0x95\n",
      "encoding error : input conversion failed due to input error, bytes 0x9E 0xE6 0xB3 0x95\n",
      " 17%|█████▎                          | 13828/83549 [5:17:19<26:14:26,  1.35s/it]encoding error : input conversion failed due to input error, bytes 0x8F 0xE5 0x9E 0x8B\n",
      "encoding error : input conversion failed due to input error, bytes 0x8F 0xE5 0x9E 0x8B\n",
      "encoding error : input conversion failed due to input error, bytes 0x8F 0xE5 0x9E 0x8B\n",
      " 21%|██████▊                         | 17726/83549 [6:42:38<22:33:09,  1.23s/it]encoding error : input conversion failed due to input error, bytes 0x8F 0xB0 0xE6 0xB9\n",
      "encoding error : input conversion failed due to input error, bytes 0x8F 0xB0 0xE6 0xB9\n",
      "encoding error : input conversion failed due to input error, bytes 0x8F 0xB0 0xE6 0xB9\n",
      " 24%|███████▊                        | 20362/83549 [7:39:12<21:32:26,  1.23s/it]IOPub message rate exceeded.\n",
      "The notebook server will temporarily stop sending output\n",
      "to the client in order to avoid crashing it.\n",
      "To change this limit, set the config variable\n",
      "`--NotebookApp.iopub_msg_rate_limit`.\n",
      "\n",
      "Current values:\n",
      "NotebookApp.iopub_msg_rate_limit=1000.0 (msgs/sec)\n",
      "NotebookApp.rate_limit_window=3.0 (secs)\n",
      "\n",
      " 58%|█████████████████▉             | 48304/83549 [17:04:56<11:41:57,  1.20s/it]encoding error : input conversion failed due to input error, bytes 0x9D 0xA2 0xE6 0x9C\n",
      "encoding error : input conversion failed due to input error, bytes 0x9D 0xA2 0xE6 0x9C\n",
      "encoding error : input conversion failed due to input error, bytes 0x9D 0xA2 0xE6 0x9C\n",
      "encoding error : input conversion failed due to input error, bytes 0x8F 0xBE 0xE7 0x9A\n",
      "encoding error : input conversion failed due to input error, bytes 0x8F 0xBE 0xE7 0x9A\n",
      "encoding error : input conversion failed due to input error, bytes 0x8F 0xBE 0xE7 0x9A\n",
      "encoding error : input conversion failed due to input error, bytes 0x90 0x8D 0xE7 0x94\n",
      "encoding error : input conversion failed due to input error, bytes 0x90 0x8D 0xE7 0x94\n",
      "encoding error : input conversion failed due to input error, bytes 0x90 0x8D 0xE7 0x94\n",
      "encoding error : input conversion failed due to input error, bytes 0x8D 0xE4 0xBA 0x86\n",
      "encoding error : input conversion failed due to input error, bytes 0x8D 0xE4 0xBA 0x86\n",
      "encoding error : input conversion failed due to input error, bytes 0x8D 0xE4 0xBA 0x86\n",
      "encoding error : input conversion failed due to input error, bytes 0x8E 0xE9 0xBA 0xBC\n",
      "encoding error : input conversion failed due to input error, bytes 0x8E 0xE9 0xBA 0xBC\n",
      "encoding error : input conversion failed due to input error, bytes 0x8E 0xE9 0xBA 0xBC\n",
      " 60%|██████████████████▍            | 49858/83549 [17:35:04<10:33:01,  1.13s/it]encoding error : input conversion failed due to input error, bytes 0x9D 0xE4 0xBA 0x86\n",
      "encoding error : input conversion failed due to input error, bytes 0x9D 0xE4 0xBA 0x86\n",
      "encoding error : input conversion failed due to input error, bytes 0x9D 0xE4 0xBA 0x86\n",
      " 60%|███████████████████▏            | 50253/83549 [17:43:10<9:57:02,  1.08s/it]encoding error : input conversion failed due to input error, bytes 0x9D 0xA2 0xE8 0x86\n",
      "encoding error : input conversion failed due to input error, bytes 0x9D 0xA2 0xE8 0x86\n",
      "encoding error : input conversion failed due to input error, bytes 0x9D 0xA2 0xE8 0x86\n",
      " 68%|█████████████████████▋          | 56529/83549 [19:44:24<8:32:18,  1.14s/it]IOPub message rate exceeded.\n",
      "The notebook server will temporarily stop sending output\n",
      "to the client in order to avoid crashing it.\n",
      "To change this limit, set the config variable\n",
      "`--NotebookApp.iopub_msg_rate_limit`.\n",
      "\n",
      "Current values:\n",
      "NotebookApp.iopub_msg_rate_limit=1000.0 (msgs/sec)\n",
      "NotebookApp.rate_limit_window=3.0 (secs)\n",
      "\n",
      " 73%|███████████████████████▍        | 61195/83549 [21:18:29<7:14:48,  1.17s/it]encoding error : input conversion failed due to input error, bytes 0x90 0x97 0xEF 0xBC\n",
      "encoding error : input conversion failed due to input error, bytes 0x90 0x97 0xEF 0xBC\n",
      "encoding error : input conversion failed due to input error, bytes 0x90 0x97 0xEF 0xBC\n",
      " 78%|█████████████████████████       | 65397/83549 [22:48:10<6:43:35,  1.33s/it]encoding error : input conversion failed due to input error, bytes 0x81 0xAF 0xEF 0xBC\n",
      "encoding error : input conversion failed due to input error, bytes 0x81 0xAF 0xEF 0xBC\n",
      "encoding error : input conversion failed due to input error, bytes 0x81 0xAF 0xEF 0xBC\n",
      " 79%|█████████████████████████▎      | 66234/83549 [23:06:07<5:39:00,  1.17s/it]encoding error : input conversion failed due to input error, bytes 0x9E 0x8B 0xE8 0x82\n",
      "encoding error : input conversion failed due to input error, bytes 0x9E 0x8B 0xE8 0x82\n",
      "encoding error : input conversion failed due to input error, bytes 0x9E 0x8B 0xE8 0x82\n",
      " 85%|███████████████████████████▎    | 71286/83549 [24:48:29<4:04:54,  1.20s/it]IOPub message rate exceeded.\n",
      "The notebook server will temporarily stop sending output\n",
      "to the client in order to avoid crashing it.\n",
      "To change this limit, set the config variable\n",
      "`--NotebookApp.iopub_msg_rate_limit`.\n",
      "\n",
      "Current values:\n",
      "NotebookApp.iopub_msg_rate_limit=1000.0 (msgs/sec)\n",
      "NotebookApp.rate_limit_window=3.0 (secs)\n",
      "\n",
      " 89%|████████████████████████████▍   | 74225/83549 [25:45:33<2:37:07,  1.01s/it]encoding error : input conversion failed due to input error, bytes 0x8D 0xE6 0x98 0xAF\n",
      "encoding error : input conversion failed due to input error, bytes 0x8D 0xE6 0x98 0xAF\n",
      "encoding error : input conversion failed due to input error, bytes 0x8D 0xE6 0x98 0xAF\n",
      " 90%|████████████████████████████▋   | 74924/83549 [25:59:06<5:44:59,  2.40s/it]encoding error : input conversion failed due to input error, bytes 0x8F 0xAF 0xE4 0xBB\n",
      "encoding error : input conversion failed due to input error, bytes 0x8F 0xAF 0xE4 0xBB\n",
      "encoding error : input conversion failed due to input error, bytes 0x8F 0xAF 0xE4 0xBB\n",
      " 90%|████████████████████████████▋   | 75055/83549 [26:01:53<2:21:55,  1.00s/it]encoding error : input conversion failed due to input error, bytes 0x90 0xE6 0xB8 0xAC\n",
      "encoding error : input conversion failed due to input error, bytes 0x90 0xE6 0xB8 0xAC\n",
      "encoding error : input conversion failed due to input error, bytes 0x90 0xE6 0xB8 0xAC\n",
      " 97%|█████████████████████████████████ | 81368/83549 [28:08:54<49:27,  1.36s/it]encoding error : input conversion failed due to input error, bytes 0x8E 0x54 0x5F 0x5F\n",
      "encoding error : input conversion failed due to input error, bytes 0x8E 0x54 0x5F 0x5F\n",
      "encoding error : input conversion failed due to input error, bytes 0x8E 0x54 0x5F 0x5F\n",
      " 98%|█████████████████████████████████▏| 81569/83549 [28:13:12<47:17,  1.43s/it]IOPub message rate exceeded.\n",
      "The notebook server will temporarily stop sending output\n",
      "to the client in order to avoid crashing it.\n",
      "To change this limit, set the config variable\n",
      "`--NotebookApp.iopub_msg_rate_limit`.\n",
      "\n",
      "Current values:\n",
      "NotebookApp.iopub_msg_rate_limit=1000.0 (msgs/sec)\n",
      "NotebookApp.rate_limit_window=3.0 (secs)\n",
      "\n",
      "100%|█████████████████████████████████▉| 83357/83549 [28:53:04<04:18,  1.35s/it]"
     ]
    }
   ],
   "source": [
    "max_worker = 20\n",
    "\n",
    "for i in tqdm(range(0, len(forums), max_worker)):\n",
    "    \n",
    "    filename = os.path.join('threads', f'{i}.json')\n",
    "    if os.path.exists(filename):\n",
    "        continue\n",
    "        \n",
    "    gc.collect()\n",
    "        \n",
    "    topics = [('https://c.cari.com.my/' + topic, topic) for topic in forums[i: i + max_worker]]\n",
    "    \n",
    "    data = []    \n",
    "    with ThreadPoolExecutor(max_workers=max_worker) as executor:\n",
    "        futures = {executor.submit(get_url, url[0], url[1]): url for url in topics}\n",
    "\n",
    "        for future in as_completed(futures):\n",
    "            data.append(future.result())\n",
    "                \n",
    "    with open(filename, 'w') as fopen:\n",
    "        json.dump(data, fopen)\n",
    "        \n",
    "    try:\n",
    "        del data\n",
    "        del futures\n",
    "    except:\n",
    "        pass"
   ]
  },
  {
   "cell_type": "code",
   "execution_count": null,
   "metadata": {},
   "outputs": [],
   "source": [
    "len(data)"
   ]
  },
  {
   "cell_type": "code",
   "execution_count": null,
   "metadata": {},
   "outputs": [],
   "source": [
    "data[-4]"
   ]
  },
  {
   "cell_type": "code",
   "execution_count": null,
   "metadata": {},
   "outputs": [],
   "source": []
  }
 ],
 "metadata": {
  "kernelspec": {
   "display_name": "Python 3 (ipykernel)",
   "language": "python",
   "name": "python3"
  },
  "language_info": {
   "codemirror_mode": {
    "name": "ipython",
    "version": 3
   },
   "file_extension": ".py",
   "mimetype": "text/x-python",
   "name": "python",
   "nbconvert_exporter": "python",
   "pygments_lexer": "ipython3",
   "version": "3.8.10"
  }
 },
 "nbformat": 4,
 "nbformat_minor": 4
}
