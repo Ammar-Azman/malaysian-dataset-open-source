{
 "cells": [
  {
   "cell_type": "code",
   "execution_count": 1,
   "metadata": {},
   "outputs": [],
   "source": [
    "import requests\n",
    "from bs4 import BeautifulSoup\n",
    "from tqdm import tqdm\n",
    "import os\n",
    "import json\n",
    "import numpy as np\n",
    "import time\n",
    "import random\n",
    "import json"
   ]
  },
  {
   "cell_type": "code",
   "execution_count": 2,
   "metadata": {},
   "outputs": [
    {
     "data": {
      "text/plain": [
       "13146"
      ]
     },
     "execution_count": 2,
     "metadata": {},
     "output_type": "execute_result"
    }
   ],
   "source": [
    "from glob import glob\n",
    "\n",
    "files = glob('url/*.json')\n",
    "urls = []\n",
    "for f in files:\n",
    "    with open(f) as fopen:\n",
    "        urls.extend(json.load(fopen))\n",
    "urls = sorted(list(set(urls)))\n",
    "len(urls)"
   ]
  },
  {
   "cell_type": "code",
   "execution_count": 3,
   "metadata": {},
   "outputs": [],
   "source": [
    "!mkdir page"
   ]
  },
  {
   "cell_type": "code",
   "execution_count": 4,
   "metadata": {},
   "outputs": [
    {
     "data": {
      "text/plain": [
       "'https://hype.my/2012/1003/battleship-a-war-unfolds-across-the-seas/'"
      ]
     },
     "execution_count": 4,
     "metadata": {},
     "output_type": "execute_result"
    }
   ],
   "source": [
    "urls[0]"
   ]
  },
  {
   "cell_type": "code",
   "execution_count": 5,
   "metadata": {},
   "outputs": [],
   "source": [
    "r = requests.get(urls[0])\n",
    "soup = BeautifulSoup(r.content, \"lxml\")"
   ]
  },
  {
   "cell_type": "code",
   "execution_count": 7,
   "metadata": {},
   "outputs": [
    {
     "data": {
      "text/plain": [
       "'Battleship: A War Unfolds Across The Seas'"
      ]
     },
     "execution_count": 7,
     "metadata": {},
     "output_type": "execute_result"
    }
   ],
   "source": [
    "soup.find('h1').text"
   ]
  },
  {
   "cell_type": "code",
   "execution_count": 11,
   "metadata": {},
   "outputs": [
    {
     "data": {
      "text/plain": [
       "['From the day we heard that the movie was in production, way back in 2010, we’ve wondered how they would pull off turning this Hasbro board game:',\n",
       " '',\n",
       " 'Into the epicness that is Universal‘s forthcoming USD$200 million blockbuster:',\n",
       " '',\n",
       " 'Peter Berg (who directed the Will Smith-starring “Hancock”) produces and direct Battleship, an epic-scaled action-adventure that unfolds across the seas, in the skies, and over land as our planet fights for survival against a superior force. And just like the game, a fleet of ships is forced to do battle with an armada of unknown origins in order to discover and thwart their destructive goals.',\n",
       " 'Don’t think “sounds like Transformers”. Think “naval war film”.',\n",
       " 'The movie stars Taylor Kitsch as Lt. Alex Hopper (a Naval offier assigned to the USS John Paul Jones), Brooklyn Decker as Sam Shane (a physical therapist and Hopper’s\\xa0fiancée), Liam Neeson as Hopper and Stone’s superior (and coincidentally, Sam’s father), and Rihanna as Petty Officer Raikes.',\n",
       " 'Now now, we all know you want to see tough chick Rihanna in action – don’t even deny it:',\n",
       " '',\n",
       " '(Picture source:\\xa0http://www.moviedeskback.com)',\n",
       " '',\n",
       " '(Picture source:\\xa0http://www.ultimate-rihanna.com)',\n",
       " 'Rihanna. But better. Rihanna with guns.',\n",
       " 'On a more serious note (and enough with the fluff), here’s what the epicness is really all about. The battle takes place in the Hawaiian Islands, where an international naval fleet at Pearl Harbor discovers and engages in an intense battle against an alien species known as “The Regents”.',\n",
       " '“The Regents” came to planet Earth for one reason, and one reason only – to build a power source in the ocean. And who else should they “bump” into but the naval fleet?',\n",
       " 'But don’t let us spoil it for you. Check this out:',\n",
       " '[youtube id=”JpoabtbEJOI” width=”600″ height=”350″]',\n",
       " 'Can’t wait to watch it? Battleship will be released at a cinema near you on the 12th of April 2012!',\n",
       " 'P/S: Does anyone else likes Chicken Burritos? Yum!',\n",
       " 'For more information, visit their official movie website.',\n",
       " 'Follow us on Instagram, Facebook or Telegram for more updates and breaking news.\\xa0']"
      ]
     },
     "execution_count": 11,
     "metadata": {},
     "output_type": "execute_result"
    }
   ],
   "source": [
    "p = soup.find('div', {'class': 'content-inner'}).find_all('p')\n",
    "p = [p_.text for p_ in p]\n",
    "p"
   ]
  },
  {
   "cell_type": "code",
   "execution_count": 12,
   "metadata": {},
   "outputs": [
    {
     "name": "stderr",
     "output_type": "stream",
     "text": [
      "13146it [7:56:55,  2.18s/it]\n"
     ]
    }
   ],
   "source": [
    "for no, url in tqdm(enumerate(urls)):\n",
    "    filename = os.path.join('page', f'{no}.json')\n",
    "    if os.path.exists(filename):\n",
    "        continue\n",
    "        \n",
    "    r = requests.get(url)\n",
    "    soup = BeautifulSoup(r.content, \"lxml\")\n",
    "\n",
    "    try:\n",
    "        title = soup.find('h1').text\n",
    "    except Exception as e:\n",
    "        title = None\n",
    "\n",
    "    try:\n",
    "        p = soup.find('div', {'class': 'content-inner'}).find_all('p')\n",
    "        p = [p_.text for p_ in p]\n",
    "    except Exception as e:\n",
    "        p = None\n",
    "\n",
    "    data = {\n",
    "        'url': url,\n",
    "        'title': title,\n",
    "        'p': p,\n",
    "    }\n",
    "    with open(filename, 'w') as fopen:\n",
    "        json.dump(data, fopen)"
   ]
  },
  {
   "cell_type": "code",
   "execution_count": null,
   "metadata": {},
   "outputs": [],
   "source": []
  }
 ],
 "metadata": {
  "kernelspec": {
   "display_name": "Python 3 (ipykernel)",
   "language": "python",
   "name": "python3"
  },
  "language_info": {
   "codemirror_mode": {
    "name": "ipython",
    "version": 3
   },
   "file_extension": ".py",
   "mimetype": "text/x-python",
   "name": "python",
   "nbconvert_exporter": "python",
   "pygments_lexer": "ipython3",
   "version": "3.8.10"
  }
 },
 "nbformat": 4,
 "nbformat_minor": 4
}
