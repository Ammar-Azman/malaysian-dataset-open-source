{
 "cells": [
  {
   "cell_type": "code",
   "execution_count": 2,
   "metadata": {},
   "outputs": [],
   "source": [
    "import requests\n",
    "from bs4 import BeautifulSoup\n",
    "from tqdm import tqdm\n",
    "import os\n",
    "import json\n",
    "import numpy as np\n",
    "import time\n",
    "import random\n",
    "import json"
   ]
  },
  {
   "cell_type": "code",
   "execution_count": 1,
   "metadata": {},
   "outputs": [],
   "source": [
    "topics = [\n",
    "    'https://hype.my/hypepicks/',\n",
    "    'https://hype.my/celebrity/',\n",
    "    'https://hype.my/music/',\n",
    "    'https://hype.my/movies/',\n",
    "    'https://hype.my/tech/',\n",
    "    'https://hype.my/travels/',\n",
    "    'https://hype.my/lifestyle/lifestylenews/',\n",
    "    'https://hype.my/giveaways/',\n",
    "    'https://hype.my/contests/'\n",
    "]"
   ]
  },
  {
   "cell_type": "code",
   "execution_count": 4,
   "metadata": {},
   "outputs": [],
   "source": [
    "r = requests.get(topics[0])\n",
    "soup = BeautifulSoup(r.content, \"lxml\")"
   ]
  },
  {
   "cell_type": "code",
   "execution_count": 8,
   "metadata": {},
   "outputs": [
    {
     "data": {
      "text/plain": [
       "295"
      ]
     },
     "execution_count": 8,
     "metadata": {},
     "output_type": "execute_result"
    }
   ],
   "source": [
    "nums = []\n",
    "for a_ in soup.find_all('a', {'class': 'page_number'}):\n",
    "    try:\n",
    "        nums.append(int(a_.text.strip()))\n",
    "    except:\n",
    "        pass\n",
    "    \n",
    "if len(nums):\n",
    "    num_page = max(nums)\n",
    "else:\n",
    "    num_page = 1\n",
    "    \n",
    "num_page"
   ]
  },
  {
   "cell_type": "code",
   "execution_count": 10,
   "metadata": {},
   "outputs": [
    {
     "data": {
      "text/plain": [
       "['https://hype.my/2023/337629/retro-but-futuristic-the-snazzy-tissot-sideral-gets-time-on-your-side/',\n",
       " 'https://hype.my/2023/338344/from-ba-by-61m-to-ling-long-hot-night-spots-to-hit-up-this-weekend/',\n",
       " 'https://hype.my/2023/338171/ombre-under-eye-make-up-is-now-a-thing-on-tiktok-were-here-for-it/',\n",
       " 'https://hype.my/2023/337855/from-supergoop-to-sisley-this-weeks-beauty-drops-you-gotta-cop/',\n",
       " 'https://hype.my/2023/337100/videos-from-lounging-with-loreal-to-getting-schooled-cheongdam-events-we-hit-up-this-past-week/',\n",
       " 'https://hype.my/2023/335803/videos-from-saying-howdy-to-audi-to-chillin-with-skate-malaysia-events-we-hit-up-this-past-week/',\n",
       " 'https://hype.my/2023/336066/from-a-jewellery-exhibition-to-a-music-festival-fun-things-to-do-in-the-klang-valley-this-week/',\n",
       " 'https://hype.my/2023/336039/from-sinners-to-sessions-kl-night-spots-to-hit-up-this-weekend/',\n",
       " 'https://hype.my/2023/335661/from-longines-to-diamond-platinum-this-weeks-dope-new-fashion-drops-you-gotta-cop/',\n",
       " 'https://hype.my/2023/334171/from-a-mexico-festival-to-an-ultraman-exhibition-fun-things-to-do-in-the-klang-valley-this-week/',\n",
       " 'https://hype.my/2023/337854/rm1-bank-note-10-sen-coin-worth-rm6000-rm500/',\n",
       " 'https://hype.my/2023/338136/coco-lee-inheritance-bruce-rockowitz-daughters/',\n",
       " 'https://hype.my/2023/337828/local-grab-driver-gets-contacted-by-recruiter-after-attaching-his-resume-in-his-car/',\n",
       " 'https://hype.my/2023/337562/siti-nurhalizas-stepson-asyraf-khalid-tya-arifin-accused-of-mistreating-hotel-staff/',\n",
       " 'https://hype.my/2023/337644/local-man-asked-to-wear-sarong-when-entering-kl-towers-atmosphere-360/']"
      ]
     },
     "execution_count": 10,
     "metadata": {},
     "output_type": "execute_result"
    }
   ],
   "source": [
    "articles = soup.find_all('article')\n",
    "a = [a.find('a').get('href') for a in articles]\n",
    "a"
   ]
  },
  {
   "cell_type": "code",
   "execution_count": 11,
   "metadata": {},
   "outputs": [],
   "source": [
    "!rm -rf url\n",
    "!mkdir url"
   ]
  },
  {
   "cell_type": "code",
   "execution_count": 12,
   "metadata": {},
   "outputs": [
    {
     "name": "stderr",
     "output_type": "stream",
     "text": [
      "100%|███████████████████████████████████████████████████████████████████████████████████████████| 295/295 [59:30<00:00, 12.10s/it]\n",
      "100%|███████████████████████████████████████████████████████████████████████████████████████████████| 2/2 [00:03<00:00,  1.73s/it]\n",
      "100%|█████████████████████████████████████████████████████████████████████████████████████████| 432/432 [1:05:23<00:00,  9.08s/it]\n",
      "100%|███████████████████████████████████████████████████████████████████████████████████████████| 336/336 [54:52<00:00,  9.80s/it]\n",
      "100%|█████████████████████████████████████████████████████████████████████████████████████████████| 28/28 [04:12<00:00,  9.01s/it]\n",
      "100%|█████████████████████████████████████████████████████████████████████████████████████████████| 59/59 [07:46<00:00,  7.91s/it]\n",
      "100%|█████████████████████████████████████████████████████████████████████████████████████████| 390/390 [1:04:01<00:00,  9.85s/it]\n",
      "100%|█████████████████████████████████████████████████████████████████████████████████████████████| 34/34 [02:47<00:00,  4.93s/it]\n",
      "100%|█████████████████████████████████████████████████████████████████████████████████████████████| 41/41 [01:27<00:00,  2.13s/it]\n"
     ]
    }
   ],
   "source": [
    "for t in topics:\n",
    "    t_ = t.split('my/')[1].replace('/', '-')\n",
    "    r = requests.get(t)\n",
    "    soup = BeautifulSoup(r.content, \"lxml\")\n",
    "    nums = []\n",
    "    for a_ in soup.find_all('a', {'class': 'page_number'}):\n",
    "        try:\n",
    "            nums.append(int(a_.text.strip()))\n",
    "        except:\n",
    "            pass\n",
    "\n",
    "    if len(nums):\n",
    "        num_page = max(nums)\n",
    "    else:\n",
    "        num_page = 1\n",
    "    \n",
    "    for index in tqdm(range(1, num_page + 1, 1)):\n",
    "        filename = os.path.join('url', f'{t_}-{index}.json')\n",
    "        if os.path.exists(filename):\n",
    "            continue\n",
    "        url = f'{t}page/{index}/'\n",
    "        r = requests.get(url)\n",
    "        soup = BeautifulSoup(r.content, \"lxml\")\n",
    "        \n",
    "        articles = soup.find_all('article')\n",
    "        a = [a.find('a').get('href') for a in articles]\n",
    "\n",
    "        with open(filename, 'w') as fopen:\n",
    "            json.dump(a, fopen)       "
   ]
  },
  {
   "cell_type": "code",
   "execution_count": null,
   "metadata": {},
   "outputs": [],
   "source": []
  }
 ],
 "metadata": {
  "kernelspec": {
   "display_name": "Python 3 (ipykernel)",
   "language": "python",
   "name": "python3"
  },
  "language_info": {
   "codemirror_mode": {
    "name": "ipython",
    "version": 3
   },
   "file_extension": ".py",
   "mimetype": "text/x-python",
   "name": "python",
   "nbconvert_exporter": "python",
   "pygments_lexer": "ipython3",
   "version": "3.8.10"
  }
 },
 "nbformat": 4,
 "nbformat_minor": 4
}
