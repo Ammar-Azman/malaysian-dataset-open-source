{
 "cells": [
  {
   "cell_type": "code",
   "execution_count": 1,
   "metadata": {},
   "outputs": [],
   "source": [
    "from glob import glob\n",
    "from tqdm import tqdm\n",
    "import json"
   ]
  },
  {
   "cell_type": "code",
   "execution_count": 2,
   "metadata": {},
   "outputs": [
    {
     "data": {
      "text/plain": [
       "4580"
      ]
     },
     "execution_count": 2,
     "metadata": {},
     "output_type": "execute_result"
    }
   ],
   "source": [
    "files = sorted(glob('page/*.json'))\n",
    "len(files)"
   ]
  },
  {
   "cell_type": "code",
   "execution_count": 3,
   "metadata": {},
   "outputs": [
    {
     "name": "stderr",
     "output_type": "stream",
     "text": [
      "100%|████████████████████████████████████| 4580/4580 [00:00<00:00, 32266.69it/s]\n"
     ]
    }
   ],
   "source": [
    "with open('data.jsonl', 'w') as fopen_l:\n",
    "    for f in tqdm(files):\n",
    "        with open(f) as fopen:\n",
    "            data = json.load(fopen)\n",
    "        \n",
    "        if not len(data):\n",
    "            continue\n",
    "        \n",
    "        fopen_l.write(f'{json.dumps(data)}\\n')"
   ]
  },
  {
   "cell_type": "code",
   "execution_count": 4,
   "metadata": {},
   "outputs": [
    {
     "name": "stdout",
     "output_type": "stream",
     "text": [
      "{\"url\": \"https://dewanbahasa.jendeladbp.my/2021/02/19/22/\", \"title\": \"Peka Bahasa Melayu di Tempat Awam (Penamaan)\", \"p\": [\"Untuk mendapatkan maklumat terkini, ikuti kami melalui Telegram\", \"Oleh Norsuhaila Ibrahim\", \"KUALA LUMPUR: Pada 9 Februari 2021, rancangan \\u201cPeka Bahasa: Penggunaan Bahasa Melayu di Tempat Awam (Penamaan)\\u201d bersiaran menerusi Studio Siaran Langsung Media Sosial DBP. Pengendali rancangan ini ialah Encik Rafiq Abdul Rahman, Pegawai Bahagian Multimedia, bersama-sama tetamu yang diundang, iaitu Puan Rohayu Ismail, Perancang Bahasa di Bahagian Penguatkusaan, DBP.\", \"Dalam siaran tersebut, penonton diberikan penerangan tentang peranan Bahagian Penguatkuasaan berhubung dengan peranannya dalam usaha memartabatkan bahasa Melayu sebagai bahasa kebangsaan di tempat awam. Menurut Puan Rohayu, Bahagian Penguatkuasaan tidak ada kuasa untuk menguatkuasakan undang-undang tetapi hanya diberi kuasa untuk \\u00a0menegaskan peruntukan bahasa, memberikan perkhidmatan nasihat bahasa, memberikan teguran kepada masyarakat sekiranya berlaku ketidakakuran dan kesalahan menggunakan bahasa kebangsaan dengan betul dan sebagainya.\", \"Dalam sektor awam dan sektor swasta, DBP menitikberatkan sebarang program dan pelaksanaan penggunaan bahasa Melayu dalam kalangan penjawat awam dan pekerja swasta. Hal ini merangkumi kerjasama dengan sektor pelancongan, kepenggunaan, perbankan dan lain-lain. Sekiranya mereka tidak akur menggunakan bahasa Melayu dengan betul, maka DBP berhak untuk memberikan teguran. Bagi orang awam pula, DBP berperanan untuk memberikan nasihat, bimbingan dan mengadakan kerjasama dengan pelbagai pihak untuk memperkasakan bahasa Melayu dengan menggunakan bahasa Melayu dengan baik dan betul.\", \"Bagi urusan penamaan bangunan, syarikat, perumahan, tempat awam dan jalan, DBP bekerjasama dengan Pihak Berkuasa Tempatan (PBT). DBP juga telah menyediakan buku panduan menamai syarikat, bangunan, kawasan perumahan dan tempat awam. Di samping itu, DBP akan turut memantau penggunaan bahasa Melayu yang betul pada papan tanda dan akan membuat teguran kepada pihak berkenaan sekiranya tidak menggunakan bahasa Melayu dengan betul.\", \"Pautan:https://www.facebook.com/DBPMalaysia/videos/vb.109573169113660/742622793052972/?type=2&theater\"]}\r\n",
      "{\"url\": \"https://dewanbahasa.jendeladbp.my/2021/03/16/24/\", \"title\": \"Kata Tanya\", \"p\": [\"Untuk mendapatkan maklumat terkini, ikuti kami melalui Telegram\", \"Menurut Tatabahasa Dewan Edisi Ketiga, kata tanya tergolong sebagai kata praklausa, iaitu kata yang terletak di hadapan klausa. Klausa ialah satu unit rangkaian perkataan yang mengandungi subjek dan predikat, yang menjadi konstituen kepada ayat. Tugas kata tanya adalah untuk menimbulkan pertanyaan. Selain itu, kata tanya dikatakan hadir dalam ayat sebagai sebahagian daripada predikat. Kedudukan kata tanya dalam konteks ayat tanya. Sila lihat contoh yang berikut:\", \"\\u00a0 1a. Harga barang itu berapa?\", \"\\u00a0 \\u00a0 \\u00a0 Jika dianalisis ayat tanya tersebut, kata tanya berapa hadir sebagai predikat ayat. Selain itu, kata tanya berapa dapat diganti secara paradigmatik dengan frasa nama seperti sepuluh ringgit. Oleh itu, kata tanya berapa dapat dikategorikan sebagai kata ganti nama tanya, sama seperti kata apa, siapa dan mana. Sila lihat contoh yang berikut:\", \"\\u00a01b. Harga barang itu sepuluh ringgit?\\u00a0 (FN + FN)\", \"\\u00a0 \\u00a0 \\u00a0 Ayat 1a dapat juga disongsangkan dengan pendepanan predikat dan penambahan partikel penegas \\u2013kah.\", \"\\u00a0 \\u00a0 \\u00a0 1c.\\u00a0 Berapakah harga barang itu?\", \"\\u00a0 \\u00a0 \\u00a0 Bagaimanakah pula keadaannya dengan kata tanya bila? Sila lihat contoh ayat yang berikut:\", \"\\u00a0 \\u00a0 \\u00a0 2a. Hari perkahwinannya bila?\", \"\\u00a0 \\u00a0 \\u00a0 Dalam ayat 2a, kata tanya bila berada pada kedudukan predikat ayat. Selain itu, kata tanya bila juga dapat diganti dengan frasa nama seperti kata esok. Oleh itu, dalam hal ini, kata tanya bila dapat berfungsi seperti kata ganti nama tanya. Sila lihat contoh yang berikut:\", \"2b. Hari perkahwinannya esok?\\u00a0 (FN + FN)\", \"\\u00a0 \\u00a0 \\u00a0 Selain itu, kata tanya bila juga dapat diganti dengan frasa sendi nama seperti pada hari Sabtu. Sila lihat contoh yang berikut:\", \"\\u00a0 \\u00a0 \\u00a0 2c. Hari perkahwinannya pada hari Sabtu?\\u00a0 (FN + FS)\", \"\\u00a0 \\u00a0 \\u00a0 Dari segi kedudukannya, kata tanya bila dapat juga berada di belakang atau di hadapan klausa. Sila lihat contoh yang berikut:\", \"\\u00a0 \\u00a0 \\u00a0 2d. Hari perkahwinannya akan ditetapkan bila?\", \"\\u00a0 \\u00a0 \\u00a0 2e. Bilakah hari perkahwinannya akan ditetapkan?\", \"\\u00a0 \\u00a0 \\u00a0 Dalam ayat 2d, kata tanya bila merupakan kata pascaklausa, iaitu hadir di belakang klausa hari perkahwinannya akan diadakan. Dalam ayat 2e pula, kata tanya bila merupakan kata praklausa, iaitu kedudukannya mendahului klausa hari perkahwinannya akan ditetapkan.\", \"\\u00a0 \\u00a0 \\u00a0 Kata tanya bila sebagai kata praklausa dan pascaklausa dapat diganti dengan frasa atau klausa keterangan. Sila lihat contoh yang berikut:\", \"\\u00a0 \\u00a0 \\u00a0 2f.\\u00a0 Hari perkahwinannya akan ditetapkan pada minggu hadapan?\", \"\\u00a0 \\u00a0 \\u00a0 2g. Hari perkahwinannya akan ditetapkan selepas semua ahli\\u00a0 keluarganya berkumpul?\\u00a0\", \"\\u00a0 \\u00a0 \\u00a0 Dalam ayat 2f, kata ganti nama bila diganti dengan frasa keterangan pada minggu hadapan, manakala dalam ayat 2g, kata tanya bila diganti dengan klausa keterangan selepas semua ahli keluarganya berkumpul.\", \"\\u00a0 \\u00a0 \\u00a0 Sekarang kita beralih kepada kata tanya bagaimana. Sila lihat contoh yang berikut:\", \"\\u00a0 \\u00a0 \\u00a0 3a. Keadaan ayahnya bagaimana?\", \"\\u00a0 \\u00a0 \\u00a0 Dalam ayat 3a, kata tanya bagaimana berada pada kedudukan predikat ayat.\\u00a0 Selain itu, kata tanya bagaimana juga dapat diganti dengan frasa adjektif seperti kata stabil. Sila lihat contoh yang berikut:\", \"\\u00a0 \\u00a0 \\u00a0 3c. Keadaan ayahnya stabil?\\u00a0 \\u00a0(FN + FA)\", \"\\u00a0 \\u00a0 \\u00a0 \\u00a0Kata tanya bagaimana dapat juga menjadi kata pascaklausa dan kata praklausa. Sila lihat contoh yang berikut:\", \"\\u00a0 \\u00a0 \\u00a0 3d. Awak menjawab soalan ini bagaimana?\", \"\\u00a0 \\u00a0 \\u00a0 3e. Bagaimanakah awak menjawab soalan ini?\", \"\\u00a0 \\u00a0 \\u00a0 Dalam ayat 3d, kata tanya bagaimana ialah kata pascaklausa, iaitu hadir di belakang klausa awak menjawab soalan ini. Dalam ayat 3e, pula, kata tanya bagaimana merupakan kata praklausa, iaitu kedudukannya mendahului klausa awak menjawab soalan ini.\", \"\\u00a0 \\u00a0 \\u00a0 Kata tanya bagaimana sebagai kata praklausa dan pascaklausa dapat diganti dengan frasa atau klausa keterangan. Sila lihat contoh yang berikut:\", \"\\u00a0 \\u00a0 \\u00a0 3f. Awak menjawab soalan ini dengan bantuan kakak awak?\", \"\\u00a0 \\u00a0 \\u00a0 3d. Awak menjawab soalan ini selepas (awak) berbincang dengan \", \"\\u00a0 \\u00a0 \\u00a0 \\u00a0 \\u00a0 \\u00a0 kawan- kawan?\", \"\\u00a0 \\u00a0 \\u00a0 \\u00a0Dalam ayat 3f, kata ganti nama bagaimana diganti dengan frasa keterangan dengan bantuan kakak awak, manakala dalam ayat 3g, kata tanya bagaimana diganti dengan klausa keterangan selepas (awak) berbincang dengan kawan-kawan.\", \"\\u00a0 \\u00a0 \\u00a0 \\u00a0Kata tanya yang seterusnya ialah kata mengapa. Marilah kita lihat kewujudannya dalam ayat tanya yang berikut:\", \"\\u00a0 \\u00a0 \\u00a0 \\u00a04a. Dia tidak hadir mengapa?\", \"\\u00a0 \\u00a0 \\u00a0 \\u00a04b. Mengapakah dia tidak hadir?\", \"\\u00a0 \\u00a0 \\u00a0 \\u00a0Dalam ayat 4a, kata tanya mengapa ialah kata pascaklausa, iaitu hadir di belakang klausa dia tidak hadir. Dalam ayat 4b pula, kata tanya mengapa merupakan kata praklausa, iaitu kedudukannya mendahului klausa dia tidak hadir.\", \"\\u00a0 \\u00a0 \\u00a0 \\u00a0Kata tanya mengapa sebagai kata praklausa dan pascaklausa dapat diganti dengan frasa dan klausa keterangan. Sila lihat contoh yang berikut:\", \"\\u00a0 \\u00a0 \\u00a0 4c. Dia tidak hadir oleh (sebab) masalah keluarga?\", \"\\u00a0 \\u00a0 \\u00a0 4d. Dia tidak hadir kerana (dia) kurang sihat?\", \"\\u00a0 \\u00a0 \\u00a0 \\u00a0Dalam ayat 4c, kata ganti nama mengapa diganti dengan frasa keterangan oleh (sebab) masalah keluarga, manakala dalam ayat 4d, kata tanya mengapa diganti dengan klausa keterangan kerana (dia) kurang sihat.\", \"\\u00a0 \\u00a0 \\u00a0 \\u00a0Sebagai rumusan secara keseluruhannya, kata tanya dapat menjadi kata praklausa dan pascaklausa. Selain itu, kata tanya dapat juga menjadi predikat ayat atau sebahagian daripada predikat ayat.\"]}\r\n"
     ]
    }
   ],
   "source": [
    "!head -n 2 data.jsonl"
   ]
  },
  {
   "cell_type": "code",
   "execution_count": null,
   "metadata": {},
   "outputs": [],
   "source": []
  }
 ],
 "metadata": {
  "kernelspec": {
   "display_name": "Python 3 (ipykernel)",
   "language": "python",
   "name": "python3"
  },
  "language_info": {
   "codemirror_mode": {
    "name": "ipython",
    "version": 3
   },
   "file_extension": ".py",
   "mimetype": "text/x-python",
   "name": "python",
   "nbconvert_exporter": "python",
   "pygments_lexer": "ipython3",
   "version": "3.8.10"
  }
 },
 "nbformat": 4,
 "nbformat_minor": 4
}
