{
 "cells": [
  {
   "cell_type": "code",
   "execution_count": 2,
   "metadata": {},
   "outputs": [],
   "source": [
    "import requests\n",
    "import numpy as np\n",
    "from bs4 import BeautifulSoup\n",
    "from tqdm import tqdm\n",
    "from concurrent.futures import ThreadPoolExecutor, as_completed\n",
    "from glob import glob\n",
    "from tqdm import tqdm\n",
    "import time\n",
    "import json\n",
    "import os\n",
    "import gc"
   ]
  },
  {
   "cell_type": "code",
   "execution_count": 34,
   "metadata": {},
   "outputs": [],
   "source": [
    "forums = [\n",
    "    'https://forums.salary.sg/income-jobs/',\n",
    "    'https://forums.salary.sg/companies/',\n",
    "    'https://forums.salary.sg/cpf-central-provident-fund/',\n",
    "    'https://forums.salary.sg/investments-net-worth/',\n",
    "    'https://forums.salary.sg/education-personal-growth/',\n",
    "    'https://forums.salary.sg/cost-living/',\n",
    "    'https://forums.salary.sg/retirement/',\n",
    "    'https://forums.salary.sg/bitcoin-cryptocurrency-talk/',\n",
    "    'https://forums.salary.sg/skillsfuture/',\n",
    "    'https://forums.salary.sg/marketplace-find-work/',\n",
    "    'https://forums.salary.sg/general-discussions/',\n",
    "    'https://forums.salary.sg/market-talk/'\n",
    "]"
   ]
  },
  {
   "cell_type": "code",
   "execution_count": 36,
   "metadata": {},
   "outputs": [],
   "source": [
    "def get_url(url):\n",
    "    while True:\n",
    "        try:\n",
    "            r = requests.get(url, timeout = 10.0)\n",
    "            break\n",
    "        except:\n",
    "            time.sleep(1.0)\n",
    "    soup = BeautifulSoup(r.content, \"lxml\")\n",
    "    a = soup.find_all('a')\n",
    "    a = [a_.get('href') for a_ in a if a_.get('href') and 'thread_title' in a_.get('id', '')]\n",
    "    try:\n",
    "        td = soup.find_all('td', {'class': 'vbmenu_control'})\n",
    "        td = [td_.text for td_ in td if 'Page 1 of ' in td_.text][0]\n",
    "        max_page = int(td.split('Page 1 of ')[1])\n",
    "    except:\n",
    "        max_page = -1\n",
    "    return a, max_page"
   ]
  },
  {
   "cell_type": "code",
   "execution_count": 32,
   "metadata": {},
   "outputs": [
    {
     "data": {
      "text/plain": [
       "(['https://forums.salary.sg/income-jobs/11770-compilation-monetary-authority-singapore-analysts-gross-starting-pays-graduate.html',\n",
       "  'https://forums.salary.sg/income-jobs/14774-free-10-25-national-trade-union-congress-fairprice-e-voucher.html',\n",
       "  'https://forums.salary.sg/income-jobs/1758-career-teacher.html',\n",
       "  'https://forums.salary.sg/income-jobs/771-lawyer-salary.html',\n",
       "  'https://forums.salary.sg/income-jobs/3243-aml-compliance-kyc-professionals-come.html',\n",
       "  'https://forums.salary.sg/income-jobs/10265-hospital-private-public-designation-salary-range.html',\n",
       "  'https://forums.salary.sg/income-jobs/793-how-life-doctor-singapore.html',\n",
       "  'https://forums.salary.sg/income-jobs/2023-civil-svc-statboard-typical-timeline-making-hiring-decision.html',\n",
       "  'https://forums.salary.sg/income-jobs/7152-merit-increment-civil-service.html',\n",
       "  'https://forums.salary.sg/income-jobs/12886-dbs-tech-seed-programme.html',\n",
       "  'https://forums.salary.sg/income-jobs/14987-what-band-5-positions-m20-21-22-23-etc-standard-chartered-bank.html',\n",
       "  'https://forums.salary.sg/income-jobs/885-compare-civil-service-salary.html',\n",
       "  'https://forums.salary.sg/income-jobs/2095-work-culture-ihis.html',\n",
       "  'https://forums.salary.sg/income-jobs/1506-q-big4-yearly-salary-increment.html',\n",
       "  'https://forums.salary.sg/income-jobs/10542-engineer-pay.html',\n",
       "  'https://forums.salary.sg/income-jobs/12897-cybersecurity-info-security-career.html',\n",
       "  'https://forums.salary.sg/income-jobs/1722-ministry-defence-singapore-dxo-all-faq.html',\n",
       "  'https://forums.salary.sg/income-jobs/5068-roles-accenture-singapore.html',\n",
       "  'https://forums.salary.sg/income-jobs/831-how-much-you-earning-per-annum.html',\n",
       "  'https://forums.salary.sg/income-jobs/1491-sim-uol-fresh-grad-starting-pay.html',\n",
       "  'https://forums.salary.sg/income-jobs/14978-tech-bros-how-your-market-outlook-year.html',\n",
       "  'https://forums.salary.sg/income-jobs/10418-factual-local-bank-salaries-dbs-united-overseas-bank-oversea-chinese-banking-corporation-commoner-climbing-up-ranks.html'],\n",
       " 177)"
      ]
     },
     "execution_count": 32,
     "metadata": {},
     "output_type": "execute_result"
    }
   ],
   "source": [
    "get_url(urls[0])"
   ]
  },
  {
   "cell_type": "code",
   "execution_count": 33,
   "metadata": {},
   "outputs": [],
   "source": [
    "!mkdir forums"
   ]
  },
  {
   "cell_type": "code",
   "execution_count": 40,
   "metadata": {},
   "outputs": [
    {
     "name": "stderr",
     "output_type": "stream",
     "text": [
      "  0%|                                                    | 0/12 [00:00<?, ?it/s]\n",
      "  0%|                                                     | 0/1 [00:00<?, ?it/s]\u001b[A\n",
      "100%|█████████████████████████████████████████████| 1/1 [00:02<00:00,  2.34s/it]\u001b[A\n",
      " 17%|███████▎                                    | 2/12 [00:02<00:13,  1.30s/it]\n",
      "0it [00:00, ?it/s]\u001b[A\n",
      " 25%|███████████                                 | 3/12 [00:02<00:07,  1.18it/s]\n",
      "0it [00:00, ?it/s]\u001b[A\n",
      " 33%|██████████████▋                             | 4/12 [00:03<00:04,  1.63it/s]\n",
      "  0%|                                                     | 0/1 [00:00<?, ?it/s]\u001b[A\n",
      "100%|█████████████████████████████████████████████| 1/1 [00:02<00:00,  2.75s/it]\u001b[A\n",
      " 42%|██████████████████▎                         | 5/12 [00:06<00:10,  1.43s/it]\n",
      "  0%|                                                     | 0/6 [00:00<?, ?it/s]\u001b[A\n",
      " 17%|███████▌                                     | 1/6 [00:02<00:10,  2.04s/it]\u001b[A\n",
      " 33%|███████████████                              | 2/6 [00:04<00:08,  2.25s/it]\u001b[A\n",
      " 50%|██████████████████████▌                      | 3/6 [00:06<00:06,  2.23s/it]\u001b[A\n",
      " 67%|██████████████████████████████               | 4/6 [00:08<00:04,  2.24s/it]\u001b[A\n",
      " 83%|█████████████████████████████████████▌       | 5/6 [00:11<00:02,  2.25s/it]\u001b[A\n",
      "100%|█████████████████████████████████████████████| 6/6 [00:13<00:00,  2.32s/it]\u001b[A\n",
      " 50%|██████████████████████                      | 6/12 [00:20<00:33,  5.65s/it]\n",
      "  0%|                                                     | 0/6 [00:00<?, ?it/s]\u001b[A\n",
      " 17%|███████▌                                     | 1/6 [00:02<00:11,  2.26s/it]\u001b[A\n",
      " 33%|███████████████                              | 2/6 [00:05<00:10,  2.63s/it]\u001b[A\n",
      " 50%|██████████████████████▌                      | 3/6 [00:07<00:07,  2.65s/it]\u001b[A\n",
      " 67%|██████████████████████████████               | 4/6 [00:10<00:05,  2.65s/it]\u001b[A\n",
      " 83%|█████████████████████████████████████▌       | 5/6 [00:13<00:02,  2.63s/it]\u001b[A\n",
      "100%|█████████████████████████████████████████████| 6/6 [00:15<00:00,  2.66s/it]\u001b[A\n",
      " 58%|█████████████████████████▋                  | 7/12 [00:36<00:45,  9.03s/it]\n",
      "  0%|                                                     | 0/1 [00:00<?, ?it/s]\u001b[A\n",
      "100%|█████████████████████████████████████████████| 1/1 [00:02<00:00,  2.89s/it]\u001b[A\n",
      " 67%|█████████████████████████████▎              | 8/12 [00:39<00:28,  7.18s/it]\n",
      "  0%|                                                     | 0/1 [00:00<?, ?it/s]\u001b[A\n",
      "100%|█████████████████████████████████████████████| 1/1 [00:02<00:00,  2.24s/it]\u001b[A\n",
      " 75%|█████████████████████████████████           | 9/12 [00:41<00:17,  5.73s/it]\n",
      "  0%|                                                     | 0/4 [00:00<?, ?it/s]\u001b[A\n",
      " 25%|███████████▎                                 | 1/4 [00:01<00:05,  1.93s/it]\u001b[A\n",
      " 50%|██████████████████████▌                      | 2/4 [00:03<00:04,  2.01s/it]\u001b[A\n",
      " 75%|█████████████████████████████████▊           | 3/4 [00:06<00:02,  2.07s/it]\u001b[A\n",
      "100%|█████████████████████████████████████████████| 4/4 [00:08<00:00,  2.04s/it]\u001b[A\n",
      " 83%|███████████████████████████████████▊       | 10/12 [00:50<00:13,  6.55s/it]\n",
      "0it [00:00, ?it/s]\u001b[A\n",
      " 92%|███████████████████████████████████████▍   | 11/12 [00:50<00:04,  4.60s/it]\n",
      "0it [00:00, ?it/s]\u001b[A\n",
      "100%|███████████████████████████████████████████| 12/12 [00:50<00:00,  4.22s/it]\n"
     ]
    }
   ],
   "source": [
    "max_worker = 30\n",
    "\n",
    "forums = sorted(forums)\n",
    "for i in tqdm(range(len(forums))):\n",
    "    filename = os.path.join('forums', f'{i}.json')\n",
    "    if os.path.exists(filename):\n",
    "        continue\n",
    "        \n",
    "    forum = forums[i]\n",
    "    url = forum\n",
    "    filtered, max_page = get_url(url)\n",
    "    for i in tqdm(range(2, max_page + 1, max_worker)):\n",
    "        aranged = np.arange(i, i + max_worker)\n",
    "        urls = [(f'{url}index{a}.html', forum) for a in aranged]\n",
    "        \n",
    "        with ThreadPoolExecutor(max_workers=max_worker) as executor:\n",
    "            futures = {executor.submit(get_url, url[0]): url for url in urls}\n",
    "\n",
    "            for future in as_completed(futures):\n",
    "                filtered.extend(future.result()[0])\n",
    "                \n",
    "    with open(filename, 'w') as fopen:\n",
    "        json.dump(filtered, fopen)"
   ]
  },
  {
   "cell_type": "code",
   "execution_count": null,
   "metadata": {},
   "outputs": [],
   "source": []
  }
 ],
 "metadata": {
  "kernelspec": {
   "display_name": "Python 3 (ipykernel)",
   "language": "python",
   "name": "python3"
  },
  "language_info": {
   "codemirror_mode": {
    "name": "ipython",
    "version": 3
   },
   "file_extension": ".py",
   "mimetype": "text/x-python",
   "name": "python",
   "nbconvert_exporter": "python",
   "pygments_lexer": "ipython3",
   "version": "3.8.10"
  }
 },
 "nbformat": 4,
 "nbformat_minor": 4
}
