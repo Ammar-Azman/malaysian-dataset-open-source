{
 "cells": [
  {
   "cell_type": "code",
   "execution_count": 1,
   "metadata": {},
   "outputs": [],
   "source": [
    "import requests\n",
    "from bs4 import BeautifulSoup\n",
    "from tqdm import tqdm\n",
    "import os\n",
    "import json\n",
    "import numpy as np\n",
    "import time\n",
    "import random\n",
    "import json\n",
    "import urllib3\n",
    "urllib3.disable_warnings(urllib3.exceptions.InsecureRequestWarning)"
   ]
  },
  {
   "cell_type": "code",
   "execution_count": 2,
   "metadata": {},
   "outputs": [],
   "source": [
    "url = 'https://bumiinvest20.home.blog/page/1'\n",
    "r = requests.get(url)"
   ]
  },
  {
   "cell_type": "code",
   "execution_count": 3,
   "metadata": {},
   "outputs": [],
   "source": [
    "soup = BeautifulSoup(r.content, \"lxml\")"
   ]
  },
  {
   "cell_type": "code",
   "execution_count": 4,
   "metadata": {},
   "outputs": [
    {
     "data": {
      "text/plain": [
       "['https://bumiinvest20.home.blog/2023/08/05/syarat-wajib-exit-ipo/',\n",
       " 'https://bumiinvest20.home.blog/2023/08/05/tiga-cabang-pelaburan-untuk-golongan-pekerja/',\n",
       " 'https://bumiinvest20.home.blog/2023/07/08/ev-stocks-klse-malaysia/',\n",
       " 'https://bumiinvest20.home.blog/2023/07/01/trading-performance-q2-h1-june-2023/',\n",
       " 'https://bumiinvest20.home.blog/2023/06/11/high-dividend-stocks-malaysia/',\n",
       " 'https://bumiinvest20.home.blog/2023/06/01/trading-performance-may-2023/',\n",
       " 'https://bumiinvest20.home.blog/2023/05/01/trading-performance-april-2023/',\n",
       " 'https://bumiinvest20.home.blog/2023/04/01/trading-performance-negative-march-positive-q1-2023/',\n",
       " 'https://bumiinvest20.home.blog/2023/02/28/trading-performance-feb-2023/',\n",
       " 'https://bumiinvest20.home.blog/2023/02/19/5-fundamental-truths-mark-douglas/']"
      ]
     },
     "execution_count": 4,
     "metadata": {},
     "output_type": "execute_result"
    }
   ],
   "source": [
    "a = soup.find_all('article')\n",
    "a = [a_.find('a').get('href') for a_ in a]\n",
    "a"
   ]
  },
  {
   "cell_type": "code",
   "execution_count": 5,
   "metadata": {},
   "outputs": [
    {
     "name": "stderr",
     "output_type": "stream",
     "text": [
      "14it [00:12,  1.13it/s]\n"
     ]
    }
   ],
   "source": [
    "def generator():\n",
    "    while True:\n",
    "        yield\n",
    "        \n",
    "index = 1\n",
    "all_a = []\n",
    "\n",
    "for _ in tqdm(generator()):\n",
    "    url = f'https://bumiinvest20.home.blog/page/{index}'\n",
    "    r = requests.get(url)\n",
    "    soup = BeautifulSoup(r.content, \"lxml\")\n",
    "\n",
    "    a = soup.find_all('article')\n",
    "    a = [a_.find('a').get('href') for a_ in a]\n",
    "    \n",
    "    if not len(a):\n",
    "        break\n",
    "        \n",
    "    all_a.extend(a)\n",
    "    \n",
    "    index += 1"
   ]
  },
  {
   "cell_type": "code",
   "execution_count": 6,
   "metadata": {},
   "outputs": [
    {
     "data": {
      "text/plain": [
       "140"
      ]
     },
     "execution_count": 6,
     "metadata": {},
     "output_type": "execute_result"
    }
   ],
   "source": [
    "urls = sorted(list(set(all_a)))\n",
    "len(urls)"
   ]
  },
  {
   "cell_type": "code",
   "execution_count": 7,
   "metadata": {},
   "outputs": [
    {
     "data": {
      "text/plain": [
       "['https://bumiinvest20.home.blog/2020/12/10/aku-trader-jenis-macam-manatechno-fundamentalist-swing-trader/',\n",
       " 'https://bumiinvest20.home.blog/2020/12/10/bismillah/',\n",
       " 'https://bumiinvest20.home.blog/2020/12/10/cara-cara-untuk-capai-rm1-juta-pertama/',\n",
       " 'https://bumiinvest20.home.blog/2020/12/10/cara-hampir-pasti-untuk-capai-rm1-juta/',\n",
       " 'https://bumiinvest20.home.blog/2020/12/10/cara-pasti-untuk-capai-rm1-juta/',\n",
       " 'https://bumiinvest20.home.blog/2020/12/10/cara-tidak-pasti-untuk-capai-rm1-juta-tapi-paling-cepat/',\n",
       " 'https://bumiinvest20.home.blog/2020/12/10/jenis2-pelabur-saham/',\n",
       " 'https://bumiinvest20.home.blog/2020/12/10/kelas-saham-terbaik-aku-pernah-bayar/',\n",
       " 'https://bumiinvest20.home.blog/2020/12/10/kenapa-kita-perlu-tahu-dulu-kita-jenis-trader-macam-mana/',\n",
       " 'https://bumiinvest20.home.blog/2020/12/11/kelas-saham-penipu/']"
      ]
     },
     "execution_count": 7,
     "metadata": {},
     "output_type": "execute_result"
    }
   ],
   "source": [
    "urls[:10]"
   ]
  },
  {
   "cell_type": "code",
   "execution_count": 8,
   "metadata": {},
   "outputs": [],
   "source": [
    "url = urls[0]\n",
    "r = requests.get(url)\n",
    "soup = BeautifulSoup(r.content, \"lxml\")"
   ]
  },
  {
   "cell_type": "code",
   "execution_count": 9,
   "metadata": {},
   "outputs": [
    {
     "data": {
      "text/plain": [
       "'Abam trader jenis macam\\xa0mana?'"
      ]
     },
     "execution_count": 9,
     "metadata": {},
     "output_type": "execute_result"
    }
   ],
   "source": [
    "soup.find('h1').text.strip()"
   ]
  },
  {
   "cell_type": "code",
   "execution_count": 10,
   "metadata": {},
   "outputs": [
    {
     "data": {
      "text/plain": [
       "'\\n\\nLepas mengenali diri sendiri, lifestyle dan risk tolerance, abam dapati abam tak tergolong dalam satu specific kriteria yang dituliskan dalam post sebelum ni.. \\n\\n\\nTapi kalau nak jugak letak dalam satu kategori, abam rasa abam cenderung kepada \\nTechno-fundamentalist Swing Trader\\n. Combine semua benda. Haha. Abam main belasah je term tu.  Tapi to be honest, abam rasa term ni lah y plg sesuai utk describe my style of trading.  \\n\\n\\nMacam abam cerita sebelum ni, jenis pelabur ni bergantung kepada personaliti diri kita. Untuk abam, reasons seperti di bawah :\\n\\n\\nAbam trade hanya sebagai part timer. Tiada masa untuk monitor chart setiap waktu dan ketika. So abam tak sesuai jadi scalper or intraday trader.\\nPersonaliti diri abam y bukan jenis penyabar utk hold berbulan2. So, abam tak boleh jadi investor atau long term trader sebab hati tak kuat untuk tengok portfolio merah. Haha. \\nAbam rasa abam jenis orang y \\nberdisiplin and suka pada konsistensi.\\n Abam percaya pada sistem dan rules. Selalunya abam prefer lepas beli saham tu, dalam masa 2-3 days, price mesti kena naik. Kalau turun n pecah support y abam dah identify sebelum masuk trade, abam mmg cut loss terus. No emotion. Kita cari kaunter lain.\\nAll my trades\\n adalah berdasarkan trend semasa chart. Berdasarkan abam punya rekod semasa post ni ditulis, average holding time pada tahun 2020 ialah 13 trading days (winning trades usually longer than losing trades). \\nMajority of my trades\\n only based on technical analysis.\\nFundamental hanya penting bagi abam kalau nak hold untuk melebihi sebulan.\\n\\n\\n\\n\\n\\n\\n \\n\\n\\nShare this:\\nTwitter\\nFacebook\\nLike this:\\nLike\\n \\nLoading...\\n\\n\\n\\n\\nRelated\\n\\n\\n '"
      ]
     },
     "execution_count": 10,
     "metadata": {},
     "output_type": "execute_result"
    }
   ],
   "source": [
    "soup.find('div', {'class': 'entry-content'}).get_text(separator=\"\\n\")"
   ]
  },
  {
   "cell_type": "code",
   "execution_count": 11,
   "metadata": {},
   "outputs": [
    {
     "name": "stderr",
     "output_type": "stream",
     "text": [
      "100%|███████████████████████████████████████████████████████████████████████████████████████████████████████████| 140/140 [01:09<00:00,  2.02it/s]\n"
     ]
    }
   ],
   "source": [
    "data = []\n",
    "for url in tqdm(urls):\n",
    "    r = requests.get(url)\n",
    "    soup = BeautifulSoup(r.content, \"lxml\")\n",
    "    data.append({\n",
    "        'url': url,\n",
    "        'title': soup.find('h1').text.strip(),\n",
    "        'body': soup.find('div', {'class': 'entry-content'}).get_text(separator=\"\\n\"),\n",
    "    })"
   ]
  },
  {
   "cell_type": "code",
   "execution_count": 12,
   "metadata": {},
   "outputs": [
    {
     "data": {
      "text/plain": [
       "{'url': 'https://bumiinvest20.home.blog/2020/12/10/aku-trader-jenis-macam-manatechno-fundamentalist-swing-trader/',\n",
       " 'title': 'Abam trader jenis macam\\xa0mana?',\n",
       " 'body': '\\n\\nLepas mengenali diri sendiri, lifestyle dan risk tolerance, abam dapati abam tak tergolong dalam satu specific kriteria yang dituliskan dalam post sebelum ni.. \\n\\n\\nTapi kalau nak jugak letak dalam satu kategori, abam rasa abam cenderung kepada \\nTechno-fundamentalist Swing Trader\\n. Combine semua benda. Haha. Abam main belasah je term tu.  Tapi to be honest, abam rasa term ni lah y plg sesuai utk describe my style of trading.  \\n\\n\\nMacam abam cerita sebelum ni, jenis pelabur ni bergantung kepada personaliti diri kita. Untuk abam, reasons seperti di bawah :\\n\\n\\nAbam trade hanya sebagai part timer. Tiada masa untuk monitor chart setiap waktu dan ketika. So abam tak sesuai jadi scalper or intraday trader.\\nPersonaliti diri abam y bukan jenis penyabar utk hold berbulan2. So, abam tak boleh jadi investor atau long term trader sebab hati tak kuat untuk tengok portfolio merah. Haha. \\nAbam rasa abam jenis orang y \\nberdisiplin and suka pada konsistensi.\\n Abam percaya pada sistem dan rules. Selalunya abam prefer lepas beli saham tu, dalam masa 2-3 days, price mesti kena naik. Kalau turun n pecah support y abam dah identify sebelum masuk trade, abam mmg cut loss terus. No emotion. Kita cari kaunter lain.\\nAll my trades\\n adalah berdasarkan trend semasa chart. Berdasarkan abam punya rekod semasa post ni ditulis, average holding time pada tahun 2020 ialah 13 trading days (winning trades usually longer than losing trades). \\nMajority of my trades\\n only based on technical analysis.\\nFundamental hanya penting bagi abam kalau nak hold untuk melebihi sebulan.\\n\\n\\n\\n\\n\\n\\n \\n\\n\\nShare this:\\nTwitter\\nFacebook\\nLike this:\\nLike\\n \\nLoading...\\n\\n\\n\\n\\nRelated\\n\\n\\n '}"
      ]
     },
     "execution_count": 12,
     "metadata": {},
     "output_type": "execute_result"
    }
   ],
   "source": [
    "data[0]"
   ]
  },
  {
   "cell_type": "code",
   "execution_count": 14,
   "metadata": {},
   "outputs": [],
   "source": [
    "with open('bumiinvest20.home.blog.jsonl', 'w') as fopen:\n",
    "    for d in data:\n",
    "        fopen.write(f'{json.dumps(d)}\\n')"
   ]
  }
 ],
 "metadata": {
  "kernelspec": {
   "display_name": "Python 3 (ipykernel)",
   "language": "python",
   "name": "python3"
  },
  "language_info": {
   "codemirror_mode": {
    "name": "ipython",
    "version": 3
   },
   "file_extension": ".py",
   "mimetype": "text/x-python",
   "name": "python",
   "nbconvert_exporter": "python",
   "pygments_lexer": "ipython3",
   "version": "3.8.10"
  }
 },
 "nbformat": 4,
 "nbformat_minor": 4
}
