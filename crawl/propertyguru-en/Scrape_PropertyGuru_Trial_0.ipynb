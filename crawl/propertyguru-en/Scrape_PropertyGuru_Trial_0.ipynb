{
  "nbformat": 4,
  "nbformat_minor": 0,
  "metadata": {
    "colab": {
      "provenance": []
    },
    "kernelspec": {
      "name": "python3",
      "display_name": "Python 3"
    },
    "language_info": {
      "name": "python"
    }
  },
  "cells": [
    {
      "cell_type": "code",
      "execution_count": null,
      "metadata": {
        "id": "7iyj9XRK3DcP"
      },
      "outputs": [],
      "source": [
        "from selenium import webdriver\n",
        "from selenium.webdriver.common.by import By\n",
        "from selenium.webdriver.chrome.options import Options\n",
        "from selenium.webdriver.support.ui import WebDriverWait\n",
        "from selenium.webdriver.support import expected_conditions as EC\n",
        "import time\n",
        "import json"
      ]
    },
    {
      "cell_type": "code",
      "source": [
        "chrome_options = Options()\n",
        "user_agent = \"Mozilla/5.0 (Windows NT 10.0; Win64; x64) AppleWebKit/537.36 (KHTML, like Gecko) Chrome/94.0.4606.71 Safari/537.36\"\n",
        "chrome_options.add_argument(f\"user-agent={user_agent}\")\n",
        "# chrome_options.add_argument('--headless')\n",
        "chrome_options.add_argument('--ignore-certificate-errors')\n",
        "chrome_options.add_argument('--incognito')\n",
        "chrome_options.add_argument(\"--disable-xss-auditor\")\n",
        "chrome_options.add_argument(\"--disable-web-security\")\n",
        "chrome_options.add_argument(\"--allow-running-insecure-content\")\n",
        "chrome_options.add_argument(\"--no-sandbox\")\n",
        "chrome_options.add_argument(\"--disable-setuid-sandbox\")\n",
        "chrome_options.add_argument(\"--disable-webgl\")\n",
        "chrome_options.add_argument(\"--disable-popup-blocking\")"
      ],
      "metadata": {
        "id": "J3dT-zc0mLO9"
      },
      "execution_count": null,
      "outputs": []
    },
    {
      "cell_type": "code",
      "source": [
        "driver = webdriver.Chrome(options=chrome_options)"
      ],
      "metadata": {
        "id": "K6O-c7irkiLc"
      },
      "execution_count": null,
      "outputs": []
    },
    {
      "cell_type": "code",
      "source": [
        "url = f\"https://www.propertyguru.com.my/property-guides\"\n",
        "driver.get(url)"
      ],
      "metadata": {
        "id": "cbtwsC0Bklez"
      },
      "execution_count": null,
      "outputs": []
    },
    {
      "cell_type": "code",
      "source": [
        "article_elements = driver.find_elements(By.CLASS_NAME, \"ArticleCardLarge_articleWrapper___8Xih\")"
      ],
      "metadata": {
        "id": "y86gBp1zlEeb"
      },
      "execution_count": null,
      "outputs": []
    },
    {
      "cell_type": "code",
      "source": [
        "for article_element in article_elements:\n",
        "  # Extract the title and print it\n",
        "  title = article_element.find_element(By.TAG_NAME, \"h3\").text\n",
        "  print(\"Title:\", title)\n",
        "\n",
        "  # Extract the date and author information and print it\n",
        "  date_author = article_element.find_element(By.CSS_SELECTOR, \".ArticleCardLarge_articleDate__zZMrc\").text\n",
        "  print(\"Date and Author:\", date_author)\n",
        "\n",
        "  # Extract the tags and print them\n",
        "  tags_elements = article_element.find_elements(By.CLASS_NAME, \"Tag_tagsItem__EAm8t\")\n",
        "  tags = [tag.text for tag in tags_elements]\n",
        "  print(\"Tags:\", tags)\n",
        "\n",
        "  # Extract the image URL and print it\n",
        "  image_url = article_element.find_element(By.CSS_SELECTOR, \"img\").get_attribute(\"src\")\n",
        "  print(\"Image URL:\", image_url)\n",
        "\n",
        "  # Extract the article URL and print it\n",
        "  article_url = article_element.find_element(By.CSS_SELECTOR, \"a\").get_attribute(\"href\")\n",
        "  print(\"Article URL:\", article_url)\n",
        "\n",
        "  print(\"\\n\")"
      ],
      "metadata": {
        "id": "fCc2z9gTljYM"
      },
      "execution_count": null,
      "outputs": []
    },
    {
      "cell_type": "code",
      "source": [
        "load_more_button = driver.find_element(By.CLASS_NAME, \"ArticleFeed_showMoreButton__UWX16\")"
      ],
      "metadata": {
        "id": "M30e5TYaljV9"
      },
      "execution_count": null,
      "outputs": []
    },
    {
      "cell_type": "code",
      "source": [
        "load_more_button.click()"
      ],
      "metadata": {
        "id": "s5eviPy6ljTv"
      },
      "execution_count": null,
      "outputs": []
    },
    {
      "cell_type": "code",
      "source": [
        "url = f\"https://www.propertyguru.com.my/property-guides/propertyguru-malaysia-property-market-index-52510\"\n",
        "driver.get(url)"
      ],
      "metadata": {
        "id": "_z5no9M0ljRf"
      },
      "execution_count": null,
      "outputs": []
    },
    {
      "cell_type": "code",
      "source": [
        "title_element = driver.find_element(By.XPATH, '//div[@class=\"content-wrapper\"]/h2')\n",
        "title = title_element.text\n",
        "\n",
        "# Find all <div> elements with class \"p\" for the contents\n",
        "content_elements = driver.find_elements(By.XPATH, '//div[@class=\"content-wrapper\"]/div[@class=\"p\"]')\n",
        "\n",
        "# Extract text from content elements and join them into a single string\n",
        "contents = '\\n'.join(content.text for content in content_elements)\n"
      ],
      "metadata": {
        "id": "SXEIurWipyyf"
      },
      "execution_count": null,
      "outputs": []
    },
    {
      "cell_type": "code",
      "source": [
        "title, contents"
      ],
      "metadata": {
        "colab": {
          "base_uri": "https://localhost:8080/"
        },
        "id": "YHyag6FXpytn",
        "outputId": "a2e58845-7ef7-40fe-b876-2ab951f862c1"
      },
      "execution_count": null,
      "outputs": [
        {
          "output_type": "execute_result",
          "data": {
            "text/plain": [
              "('Empowering Malaysians To Make More Confident Property Decisions',\n",
              " 'At PropertyGuru, we are passionate about helping homebuyers find and secure the home they have always wanted. We created the Malaysia Property Market Report (MPMR) to help regular Malaysians understand the movement of the property market better, so that buyers can offer reasonable prices in line with market sentiments or try to time their purchases better.\\nWe look at the property market across Malaysia, in different locations, and across different property types, to provide a comprehensive, insightful overview of home pricing across the country.\\nAs the leading property site in Malaysia, PropertyGuru processes a vast amount of real estate data daily. As such, we are uniquely positioned to bring solid insights about the market. We certainly hope these insights help Malaysians make more confident property decisions.\\nDisclaimer: The information is provided for general information only. PropertyGuru International (Malaysia) Sdn Bhd makes no representations or warranties in relation to the information, including but not limited to any representation or warranty as to the fitness for any particular purpose of the information to the fullest extent permitted by law. While every effort has been made to ensure that the information provided in this article is accurate, reliable, and complete as of the time of writing, the information provided in this article should not be relied upon to make any financial, investment, real estate or legal decisions. Additionally, the information should not substitute advice from a trained professional who can take into account your personal facts and circumstances, and we accept no liability if you use the information to form decisions.')"
            ]
          },
          "metadata": {},
          "execution_count": 64
        }
      ]
    },
    {
      "cell_type": "code",
      "source": [
        "url = f\"https://www.propertyguru.com.my/property-guides/how-to-buy-subsale-property-malaysia-in-10-steps-16649\"\n",
        "driver.get(url)"
      ],
      "metadata": {
        "id": "2NJ-clNrsYAh"
      },
      "execution_count": null,
      "outputs": []
    },
    {
      "cell_type": "code",
      "source": [
        "url = f\"/propertyguru-malaysia-property-market-index-52510\""
      ],
      "metadata": {
        "id": "Aq1dpgr29M1-"
      },
      "execution_count": null,
      "outputs": []
    },
    {
      "cell_type": "code",
      "source": [
        "\"https://www.propertyguru.com.my/property-guides/propertyguru-malaysia-property-market-index-52510\"\n",
        "\"https://www.propertyguru.com.my/property-guides/how-to-buy-subsale-property-malaysia-in-10-steps-16649\""
      ],
      "metadata": {
        "id": "fpa4oX8b9biY"
      },
      "execution_count": null,
      "outputs": []
    },
    {
      "cell_type": "code",
      "source": [
        "title_element = driver.find_element(By.XPATH, '//div[@class=\"content-wrapper\"]/h2')\n",
        "title = title_element.text\n",
        "\n",
        "# Find all <div> elements with class \"p\" for the contents\n",
        "content_elements = driver.find_elements(By.XPATH, '//div[@class=\"content-wrapper\"]/div[@class=\"p\"]')\n",
        "\n",
        "# Extract text from content elements and join them into a single string\n",
        "contents = '\\n'.join(content.text for content in content_elements)"
      ],
      "metadata": {
        "id": "ZL3SebfutRpI"
      },
      "execution_count": null,
      "outputs": []
    },
    {
      "cell_type": "code",
      "source": [
        "title, contents"
      ],
      "metadata": {
        "id": "wzGqxFOwtRm3"
      },
      "execution_count": null,
      "outputs": []
    },
    {
      "cell_type": "code",
      "source": [
        "full_text = []\n",
        "base_url = \"https://www.propertyguru.com.my/property-guides\"\n",
        "\n",
        "for link in links:\n",
        "  try:\n",
        "    full_link = f\"{base_url}{link}\"\n",
        "    # full_link = \"https://www.propertyguru.com.my/property-guides/malaysia-consumer-sentiment-study-h1-2023-67791\"\n",
        "    # full_link = \"https://www.propertyguru.com.my/property-guides/7-smart-strategies-to-renegotiate-your-rent-37424\"\n",
        "    chrome_options = Options()\n",
        "    user_agent = \"Mozilla/5.0 (Macintosh; Intel Mac OS X 10_15_7) AppleWebKit/537.36 (KHTML, like Gecko) Safari/14.1.2\"\n",
        "    chrome_options.add_argument(f\"user-agent={user_agent}\")\n",
        "    chrome_options.add_argument('--headless')\n",
        "    chrome_options.add_argument('--ignore-certificate-errors')\n",
        "    chrome_options.add_argument('--incognito')\n",
        "    chrome_options.add_argument(\"--disable-xss-auditor\")\n",
        "    chrome_options.add_argument(\"--disable-web-security\")\n",
        "    chrome_options.add_argument(\"--allow-running-insecure-content\")\n",
        "    chrome_options.add_argument(\"--no-sandbox\")\n",
        "    chrome_options.add_argument(\"--disable-setuid-sandbox\")\n",
        "    chrome_options.add_argument(\"--disable-webgl\")\n",
        "    chrome_options.add_argument(\"--disable-popup-blocking\")\n",
        "\n",
        "    driver = webdriver.Chrome(options=chrome_options)\n",
        "\n",
        "    driver.get(full_link)\n",
        "\n",
        "    def scroll_to_end(driver):\n",
        "      # Scroll down to the bottom of the page\n",
        "      driver.execute_script(\"window.scrollTo(0, document.body.scrollHeight);\")\n",
        "\n",
        "    # Scroll repeatedly until the end of the page\n",
        "    while True:\n",
        "      # Get the current page height\n",
        "      current_height = driver.execute_script(\"return document.body.scrollHeight\")\n",
        "\n",
        "      # Scroll to the end of the page\n",
        "      scroll_to_end(driver)\n",
        "\n",
        "      # Wait for the page to load more content (adjust the sleep time as needed)\n",
        "      import time\n",
        "      time.sleep(2)  # Adjust the sleep time as needed\n",
        "\n",
        "      # Get the new page height after scrolling\n",
        "      new_height = driver.execute_script(\"return document.body.scrollHeight\")\n",
        "\n",
        "      # If the page height did not increase, we've reached the end of the page\n",
        "      if new_height == current_height:\n",
        "          break\n",
        "\n",
        "\n",
        "    title_element = WebDriverWait(driver, 20).until(\n",
        "          EC.presence_of_element_located((By.XPATH, '//div[@class=\"content-wrapper\"]/h2'))\n",
        "      )\n",
        "\n",
        "    title = title_element.text\n",
        "\n",
        "    # Find all <div> elements with class \"p\" for the contents\n",
        "    content_elements = WebDriverWait(driver, 20).until(\n",
        "          EC.presence_of_all_elements_located((By.XPATH, '//div[@class=\"content-wrapper\"]/div[@class=\"p\"]'))\n",
        "      )\n",
        "\n",
        "    # Extract text from content elements and join them into a single string\n",
        "    contents = '\\n'.join(content.text for content in content_elements)\n",
        "\n",
        "    full_text.append(f\"{title} {contents}\")\n",
        "    # break\n",
        "  except Exception as e:\n",
        "    continue"
      ],
      "metadata": {
        "id": "92HQ3E-u-YeD"
      },
      "execution_count": null,
      "outputs": []
    },
    {
      "cell_type": "code",
      "source": [
        "full_text"
      ],
      "metadata": {
        "colab": {
          "base_uri": "https://localhost:8080/"
        },
        "id": "I3438JSUqNCy",
        "outputId": "16da250a-a094-49cb-88ca-ff01576dc3d8"
      },
      "execution_count": null,
      "outputs": [
        {
          "output_type": "execute_result",
          "data": {
            "text/plain": [
              "[]"
            ]
          },
          "metadata": {},
          "execution_count": 10
        }
      ]
    },
    {
      "cell_type": "code",
      "source": [
        "len(full_text), type(full_text)"
      ],
      "metadata": {
        "colab": {
          "base_uri": "https://localhost:8080/"
        },
        "id": "xOXsWvAQ_Six",
        "outputId": "2cc671fa-0c09-4367-ba21-dfb374d26ef3"
      },
      "execution_count": null,
      "outputs": [
        {
          "output_type": "execute_result",
          "data": {
            "text/plain": [
              "(758, list)"
            ]
          },
          "metadata": {},
          "execution_count": 17
        }
      ]
    },
    {
      "cell_type": "code",
      "source": [
        "import pandas as pd\n",
        "test = pd.DataFrame(full_text, columns=[\"text\"])\n",
        "test.head(5), len(test)"
      ],
      "metadata": {
        "colab": {
          "base_uri": "https://localhost:8080/"
        },
        "id": "ubaxaF8T_Sf0",
        "outputId": "80c9d25c-dcf6-4cfd-f14a-2ce9281d2f38"
      },
      "execution_count": null,
      "outputs": [
        {
          "output_type": "execute_result",
          "data": {
            "text/plain": [
              "(                                                text\n",
              " 0  Empowering Malaysians To Make More Confident P...\n",
              " 1  What are subsale properties? Klik sini untuk v...\n",
              " 2  What Is A Service Apartment? Klik sini untuk v...\n",
              " 3  Advantages Of High-Rise Property Finding the r...\n",
              " 4  What makes The Atera unique? Originally develo...,\n",
              " 758)"
            ]
          },
          "metadata": {},
          "execution_count": 15
        }
      ]
    },
    {
      "cell_type": "code",
      "source": [
        "test.to_csv(\"PG_0.csv\", index=False)"
      ],
      "metadata": {
        "id": "qjc7ra6HJRIb"
      },
      "execution_count": null,
      "outputs": []
    },
    {
      "cell_type": "code",
      "source": [
        "test[\"text\"][1]"
      ],
      "metadata": {
        "id": "C4uHCdgPIAaq"
      },
      "execution_count": null,
      "outputs": []
    },
    {
      "cell_type": "code",
      "source": [
        "with open(\"data-graphql.json\", \"r\") as json_file:\n",
        "    # Load the JSON data\n",
        "    data = json.load(json_file)"
      ],
      "metadata": {
        "id": "IlhJhx03tRkk"
      },
      "execution_count": null,
      "outputs": []
    },
    {
      "cell_type": "code",
      "source": [
        "links = []\n",
        "for url in data:\n",
        "  links.append(url[\"link\"])\n",
        "\n",
        "len(links)"
      ],
      "metadata": {
        "colab": {
          "base_uri": "https://localhost:8080/"
        },
        "id": "8iTwNQCN-GHO",
        "outputId": "a0a2dfe4-f923-4e69-e5b1-fc18832c985b"
      },
      "execution_count": null,
      "outputs": [
        {
          "output_type": "execute_result",
          "data": {
            "text/plain": [
              "837"
            ]
          },
          "metadata": {},
          "execution_count": 13
        }
      ]
    },
    {
      "cell_type": "code",
      "source": [
        "links = links[107:]\n",
        "len(links)"
      ],
      "metadata": {
        "colab": {
          "base_uri": "https://localhost:8080/"
        },
        "id": "Ddshim5fIyhY",
        "outputId": "506c5e9c-ad2d-488e-cdee-2ea715974124"
      },
      "execution_count": null,
      "outputs": [
        {
          "output_type": "execute_result",
          "data": {
            "text/plain": [
              "730"
            ]
          },
          "metadata": {},
          "execution_count": 53
        }
      ]
    },
    {
      "cell_type": "code",
      "source": [
        "links[65]"
      ],
      "metadata": {
        "colab": {
          "base_uri": "https://localhost:8080/"
        },
        "id": "5Vr7rkfzoNLh",
        "outputId": "0efd96f7-60bc-4d6f-eee0-90e51d7f43ad"
      },
      "execution_count": null,
      "outputs": [
        {
          "output_type": "execute_result",
          "data": {
            "text/plain": [
              "'/7-smart-strategies-to-renegotiate-your-rent-37424'"
            ]
          },
          "metadata": {},
          "execution_count": 16
        }
      ]
    },
    {
      "cell_type": "code",
      "source": [
        "data[1]"
      ],
      "metadata": {
        "id": "14PS8Vsbwshh"
      },
      "execution_count": null,
      "outputs": []
    },
    {
      "cell_type": "code",
      "source": [
        "66"
      ],
      "metadata": {
        "id": "QVYDKGciw9IY"
      },
      "execution_count": null,
      "outputs": []
    },
    {
      "cell_type": "code",
      "source": [
        "38"
      ],
      "metadata": {
        "id": "wLZWURaZQwlO"
      },
      "execution_count": null,
      "outputs": []
    },
    {
      "cell_type": "code",
      "source": [
        "106"
      ],
      "metadata": {
        "id": "OjAqJMA6Q6e6"
      },
      "execution_count": null,
      "outputs": []
    },
    {
      "cell_type": "code",
      "source": [
        "0-66, 67-105"
      ],
      "metadata": {
        "id": "26KijNNBQyPg"
      },
      "execution_count": null,
      "outputs": []
    },
    {
      "cell_type": "code",
      "source": [],
      "metadata": {
        "id": "lpCH1_73rlRD"
      },
      "execution_count": null,
      "outputs": []
    }
  ]
}