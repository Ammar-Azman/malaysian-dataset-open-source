{
 "cells": [
  {
   "cell_type": "code",
   "execution_count": 5,
   "metadata": {},
   "outputs": [],
   "source": [
    "import requests\n",
    "from bs4 import BeautifulSoup\n",
    "from tqdm import tqdm\n",
    "import os\n",
    "import json\n",
    "import numpy as np\n",
    "import time\n",
    "import random\n",
    "import json\n",
    "import urllib3\n",
    "urllib3.disable_warnings(urllib3.exceptions.InsecureRequestWarning)"
   ]
  },
  {
   "cell_type": "code",
   "execution_count": 31,
   "metadata": {},
   "outputs": [],
   "source": [
    "cookies = {\n",
    "    '_ga': 'GA1.1.2121071378.1694150502',\n",
    "    '_ga_HJJM6M6K85': 'GS1.1.1694162912.2.1.1694162915.0.0.0',\n",
    "}\n",
    "\n",
    "headers = {\n",
    "    'authority': 'blog.pandai.org',\n",
    "    'accept': '*/*',\n",
    "    'accept-language': 'en-MY,en;q=0.9,en-US;q=0.8,ms;q=0.7',\n",
    "    'cache-control': 'no-cache',\n",
    "    'content-type': 'application/x-www-form-urlencoded; charset=UTF-8',\n",
    "    # 'cookie': '_ga=GA1.1.2121071378.1694150502; _ga_HJJM6M6K85=GS1.1.1694162912.2.1.1694162915.0.0.0',\n",
    "    'origin': 'https://blog.pandai.org',\n",
    "    'pragma': 'no-cache',\n",
    "    'referer': 'https://blog.pandai.org/',\n",
    "    'sec-ch-ua': '\"Chromium\";v=\"116\", \"Not)A;Brand\";v=\"24\", \"Google Chrome\";v=\"116\"',\n",
    "    'sec-ch-ua-mobile': '?0',\n",
    "    'sec-ch-ua-platform': '\"macOS\"',\n",
    "    'sec-fetch-dest': 'empty',\n",
    "    'sec-fetch-mode': 'cors',\n",
    "    'sec-fetch-site': 'same-origin',\n",
    "    'user-agent': 'Mozilla/5.0 (Macintosh; Intel Mac OS X 10_15_7) AppleWebKit/537.36 (KHTML, like Gecko) Chrome/116.0.0.0 Safari/537.36',\n",
    "    'x-requested-with': 'XMLHttpRequest',\n",
    "}"
   ]
  },
  {
   "cell_type": "code",
   "execution_count": 36,
   "metadata": {},
   "outputs": [
    {
     "name": "stderr",
     "output_type": "stream",
     "text": [
      "3it [00:03,  1.17s/it]\n"
     ]
    }
   ],
   "source": [
    "def generator():\n",
    "    while True:\n",
    "        yield\n",
    "        \n",
    "index = 1\n",
    "all_a = []\n",
    "\n",
    "for _ in tqdm(generator()):\n",
    "    data = {\n",
    "        'action': 'saxon_loadmore',\n",
    "        'query[posts_per_page]': '100',\n",
    "        'query[offset]': '',\n",
    "        'query[orderby]': 'date',\n",
    "        'query[order]': 'DESC',\n",
    "        'query[cat]': '',\n",
    "        'query[post_type]': 'post',\n",
    "        'query[post_status]': 'publish',\n",
    "        'query[ignore_sticky_posts]': 'true',\n",
    "        'query[suppress_filters]': '0',\n",
    "        'query[error]': '',\n",
    "        'query[m]': '',\n",
    "        'query[p]': '0',\n",
    "        'query[post_parent]': '',\n",
    "        'query[subpost]': '',\n",
    "        'query[subpost_id]': '',\n",
    "        'query[attachment]': '',\n",
    "        'query[attachment_id]': '0',\n",
    "        'query[name]': '',\n",
    "        'query[pagename]': '',\n",
    "        'query[page_id]': '0',\n",
    "        'query[second]': '',\n",
    "        'query[minute]': '',\n",
    "        'query[hour]': '',\n",
    "        'query[day]': '0',\n",
    "        'query[monthnum]': '0',\n",
    "        'query[year]': '0',\n",
    "        'query[w]': '0',\n",
    "        'query[category_name]': '',\n",
    "        'query[tag]': '',\n",
    "        'query[tag_id]': '',\n",
    "        'query[author]': '',\n",
    "        'query[author_name]': '',\n",
    "        'query[feed]': '',\n",
    "        'query[tb]': '',\n",
    "        'query[paged]': '0',\n",
    "        'query[meta_key]': '',\n",
    "        'query[meta_value]': '',\n",
    "        'query[preview]': '',\n",
    "        'query[s]': '',\n",
    "        'query[sentence]': '',\n",
    "        'query[title]': '',\n",
    "        'query[fields]': '',\n",
    "        'query[menu_order]': '',\n",
    "        'query[embed]': '',\n",
    "        'query[cache_results]': 'true',\n",
    "        'query[update_post_term_cache]': 'true',\n",
    "        'query[update_menu_item_cache]': 'false',\n",
    "        'query[lazy_load_term_meta]': 'true',\n",
    "        'query[update_post_meta_cache]': 'true',\n",
    "        'query[nopaging]': 'false',\n",
    "        'query[comments_per_page]': '50',\n",
    "        'query[no_found_rows]': 'false',\n",
    "        'page': str(index),\n",
    "        'block': 'blog',\n",
    "        'post_template': 'blog',\n",
    "    }\n",
    "\n",
    "    response = requests.post('https://blog.pandai.org/wp-admin/admin-ajax.php', cookies=cookies, headers=headers, data=data)\n",
    "    soup = BeautifulSoup(response.content, \"lxml\")\n",
    "    a = soup.find_all('article')\n",
    "    a = [a_.find('a').get('href') for a_ in a]\n",
    "    \n",
    "    if not len(a):\n",
    "        break\n",
    "        \n",
    "    all_a.extend(a)\n",
    "    \n",
    "    index += 1"
   ]
  },
  {
   "cell_type": "code",
   "execution_count": 37,
   "metadata": {},
   "outputs": [
    {
     "data": {
      "text/plain": [
       "233"
      ]
     },
     "execution_count": 37,
     "metadata": {},
     "output_type": "execute_result"
    }
   ],
   "source": [
    "len(all_a)"
   ]
  },
  {
   "cell_type": "code",
   "execution_count": 39,
   "metadata": {},
   "outputs": [
    {
     "data": {
      "text/plain": [
       "233"
      ]
     },
     "execution_count": 39,
     "metadata": {},
     "output_type": "execute_result"
    }
   ],
   "source": [
    "urls = sorted(list(set(all_a)))\n",
    "len(urls)"
   ]
  },
  {
   "cell_type": "code",
   "execution_count": 40,
   "metadata": {},
   "outputs": [],
   "source": [
    "url = urls[0]\n",
    "r = requests.get(url)\n",
    "soup = BeautifulSoup(r.content, \"lxml\")"
   ]
  },
  {
   "cell_type": "code",
   "execution_count": 42,
   "metadata": {},
   "outputs": [
    {
     "data": {
      "text/plain": [
       "'10 Class Activities That Will Keep Your Students Engaged'"
      ]
     },
     "execution_count": 42,
     "metadata": {},
     "output_type": "execute_result"
    }
   ],
   "source": [
    "soup.find('h1').text"
   ]
  },
  {
   "cell_type": "code",
   "execution_count": 44,
   "metadata": {},
   "outputs": [
    {
     "data": {
      "text/plain": [
       "'\\n\\nAs a teacher, it’s your job to make sure your students are engaged in the material. But sometimes, no matter how interesting you make the subject matter, there are always a few students who just can’t seem to stay focused.\\xa0\\n\\n\\nIf you’re struggling to keep your students engaged, don’t worry—you’re not alone. We’ve compiled a list of 10 tried-and-true class activities that are sure to keep even the most disengaged student involved. From group work to hands-on learning, these activities will get your students excited about learning again.\\n\\n\\nGet Students Up And Moving With An Activity That Gets Them Out Of Their Seats\\n\\n\\n\\n\\nEngaging your students in active learning is a great way to keep them focused and engaged in the lesson. There are many different ways to get students up and moving, so find one that works best for you and your students. For example, you could have them stand up and do a quick stretch every 10 minutes, or have them work in pairs to discuss a question. You could also have them do a hands-on activity, such as a science experiment or building something out of legos. No matter what you choose, just make sure it gets them out of their seats and moving around!\\n\\n\\nIncorporate Some Friendly Competition Into Your Lesson\\n\\n\\nWhen it comes to keeping your students engaged in class, there’s nothing quite like a little friendly competition. Incorporating some competitive elements into your lesson can not only add an element of fun but also help to motivate your students to really get involved in what they’re learning.\\n\\n\\nThere are a few different ways you can incorporate competition into your lesson:\\n\\n\\nGames\\n: You can easily turn any lesson into a game by adding a competitive element. For example, if you’re teaching a maths lesson, you could have students race to see who can solve the problem the fastest. Or, if you’re teaching a history lesson, you could have teams compete to see who can answer the most questions correctly about the topic.\\n\\n\\nQuizzes\\n: This is a classic way to add competition to a lesson. To make it more interesting, you could give prizes for the top scorers or even have a penalty for getting answers wrong. For example, if someone gets an answer wrong they have to do 10 push-ups (if they’re able!)\\n\\n\\nProjects\\n: If you’re working on a project in class, you could have teams compete to see who can finish the project first or who can do the best job. This is a great way to get students really invested in what they’re doing and working hard to produce their best work.\\n\\n\\nDebates\\n: This is another great way to get students engaged and thinking critically about what they’re learning.\\n\\n\\nMake Use Of Technology To Keep Students Engaged\\n\\n\\n\\n\\nMany teachers are now using technology in the classroom to keep students engaged. By using tools such as PowerPoint, Pandai, and Kahoot, teachers can create engaging presentations that capture students’ attention. Additionally, many teachers are using social media platforms such as Twitter and Facebook to post updates and assignments. This allows students to stay updated on what is happening in class and also provides them with a way to ask questions or get help outside of class.\\n\\n\\nLet Students Work In Small Groups\\n\\n\\nWhen it comes to class activities that will keep your students engaged, one of the best things you can do is let them work in small groups. This allows them to get to know their classmates better and also gives them a chance to practice their communication and collaboration skills.\\n\\n\\nIf you have a large class, you can divide students into groups of four or five. If you have a smaller class, you can let students choose their own groups. Either way, make sure each group has a mix of boys and girls and of different abilities.\\n\\n\\nOnce students are in their groups, give them a task to do together. It could be something as simple as coming up with a list of ideas for a project or writing a short story. The important thing is that they have to work together to complete the task.\\n\\n\\nAs they’re working, circulate around the room and offer help if needed. But resist the urge to take over – let the students figure out solutions for themselves. At the end of the activity, ask each group to share what they did and what they learned from the experience.\\n\\n\\nUse Hands-On Activities Whenever Possible\\n\\n\\n\\n\\nIf you’re looking for ways to keep your students engaged in class, one of the best things you can do is incorporate hands-on activities into your lesson plans. Whether it’s working on a project together, doing an experiment, or playing a game, getting students up and moving around will help them stay focused and interested in what you’re teaching.\\n\\n\\nThere are endless possibilities when it comes to hands-on activities, so take some time to brainstorm ways that you can work them into your lessons. If you’re not sure where to start, there are plenty of resources available online or from your school’s curriculum department. Once you’ve come up with some ideas, try out a few and see how they go over with your students. With a little trial and error, you’ll be sure to find the perfect activities to keep your class engaged and excited about learning.\\n\\n\\nEncourage Student Input And Participation\\n\\n\\nWhen it comes to keeping your students engaged in class, one of the best things you can do is encourage student input and participation. This means giving them opportunities to share their ideas, ask questions, and get involved in discussions.\\n\\n\\nOne way to encourage student input is to ask them open-ended questions that require more than a yes or no answer. For example, instead of asking “Do you understand this concept?” you could say “Can you explain this concept to me in your own words?” This allows students to share their understanding of the material and gives you a chance to see where they may be struggling.\\n\\n\\nAnother way to encourage student participation is to give them opportunities to lead activities or discussions. This could mean having them present a topic to the class, lead a small group discussion, or even teach a mini-lesson. Not only does this help engage them in the material, but it also helps build their confidence and leadership skills.\\n\\n\\nMake Learning Fun!\\n\\n\\nThis may seem like a no-brainer, but it bears repeating: if you want your students to stay engaged in class, make sure the material is interesting and engaging! One way to do this is to choose class activities that are hands-on and interactive. For example, instead of having students read a chapter out of a textbook, have them work in groups to solve a puzzle or build a model. Not only will this make the material more enjoyable for them to learn, but it will also help them retain the information better.\\n\\n\\nOf course, not all material can be made into a game or an activity. In those cases, try to find ways to liven up the lesson by adding in some humour or using multimedia presentations. Anything that gets your students thinking and laughing is sure to keep them engaged!\\n\\n\\nBe Creative In Your Lesson Planning\\n\\n\\nTo keep your students engaged in the classroom, be creative in your lesson planning. There are a number of ways to do this, but some tips include adding movement and hands-on activities, using technology, and incorporating group work.\\n\\n\\nAdding movement and hands-on activities to your lesson plans is a great way to engage your students. This can be as simple as having them stand up and move around the room during class or adding in a few minutes of physical activity. Getting them up and moving will help them to stay focused and engaged in the material.\\n\\n\\nUsing technology is also a great way to engage your students. If you are not using it already, consider incorporating it into your lessons. There are many ways to do this, such as using online resources, incorporating interactive games or simulations, or having students create presentations or videos. Technology can help to make learning more engaging and fun for your students.\\n\\n\\nIncorporating group work is another great way to engage your students. Working in groups can help students to better understand the material, share ideas and perspectives, and build teamwork skills. When planning group activities, be sure to consider the level of ability of each student so that everyone is able to participate and contribute.\\n\\n\\nTry Something New And Unexpected\\n\\n\\nWhen it comes to class activities, sometimes the best way to keep your students engaged is to try something new and unexpected. This could be anything from incorporating a new technology into your lesson to using an unconventional teaching method. Whatever you do, make sure that it’s something that will pique your students’ interests and get them thinking about the material in a different way.\\n\\n\\nBrainstorming\\n\\n\\nWhen it comes to keeping your students engaged in class, there are a number of activities you can do to ensure they are actively involved in the lesson. One way to do this is to incorporate brainstorming into your lesson plans.\\n\\n\\nBrainstorming is a great way to get students thinking critically about a topic and it also encourages them to work together as a team. When conducting a brainstorming session, be sure to give each student an equal opportunity to share their ideas. You can also use the results of the brainstorming session to create group projects or assignments.\\n\\n\\nAnother great way to keep your students engaged is by incorporating technology into your lessons. There are a number of online tools and resources that you can use to supplement your instruction. For example, you can create online polls or surveys that students can participate in during class. You can also use social media platforms like Twitter or Facebook to post questions or solicit feedback from your students.\\n\\n\\nFinally, don’t forget about the power of hands-on learning experiences. If you can find ways to incorporate interactive activities into your lessons, your students will be more likely to stay engaged and focused on the material. For example, you might have students work in groups to create presentations or role-play various scenarios related to the lesson topic. Whatever methods you choose, just be sure that your goal is always to keep your students actively involved in the learning process!\\n\\n\\nGroup Work\\n\\n\\n\\n\\nGroup work is a great way to get students engaged in their learning. It allows them to work together to solve problems and to share ideas. It also helps them to develop social skills and to learn how to cooperate with others. Here are some tips for using group work in your classroom:\\n\\n\\nMake sure that the groups are heterogeneous\\n. That is, don’t put all the smart kids together or all the shy kids together. Mix it up so that everyone has a chance to shine.\\n\\n\\nGive clear instructions on what the task is and what each student’s role will be\\n. This will help the students to stay focused and on task.\\n\\n\\nSet a time limit for the task\\n. This will help to keep the students from getting bogged down in discussion and from losing focus on the task at hand.\\n\\n\\nBe available to answer questions and to provide assistance \\nas needed, but don’t do the work for them. The students need to learn how to work together and figure things out for themselves.\\n\\n\\nDebrief with the class after the activity\\n, asking for volunteers to share their experience with the group work. This will give you a chance to talk about what went well and what could be improved for next time.\\n\\n\\nJigsaw Puzzles\\n\\n\\n\\n\\nJigsaw puzzles are a great way to keep your students engaged. They are a fun and challenging activity that can be used to teach a variety of concepts. Here are some tips for using jigsaw puzzles in your classroom:\\n\\n\\n\\n\\nUse puzzles to introduce new topics or review old ones.\\n\\n\\nGive each student a different piece of the puzzle and have them work together to put it together.\\n\\n\\nAsk questions as your students are working on the puzzles. This will help them to think critically about the concepts they are learning.\\n\\n\\nEncourage students to try different strategies when working on the puzzles. Some students may want to start with the edge pieces while others may want to work from the middle out.\\n\\n\\nHave students share their puzzle solving strategies with the class. This is a great opportunity for discussion and learning from each other.\\n\\n\\n\\n\\nQuizzes\\n\\n\\n\\n\\nQuizzes are a great way to keep your students engaged in the material. They can be used to test knowledge, review material, or simply get students thinking about the subject matter.\\n\\n\\nWhen creating quizzes, be sure to make them interesting and relevant to your students. Avoid questions that are too easy or too difficult, as this will only lead to frustration. Instead, strike a balance and create questions that will challenge your students without being too overwhelming.\\n\\n\\nThere are a variety of ways to deliver quizzes to your students. You can use a traditional paper-and-pencil format, or opt for an online quiz tool such as Pandai or Kahoot!. Whichever method you choose, be sure to provide clear instructions and allow adequate time for students to complete the quiz.\\n\\n\\nFinally, don’t forget to go over the quiz with your students afterwards. This is an important opportunity to address any misunderstandings and reinforce key concepts.\\n\\n\\nWord Games\\n\\n\\n\\n\\n\\n\\nWord games are a great way to keep your students engaged in the classroom.\\n\\n\\nThey help to build vocabulary and improve spelling skills.\\n\\n\\nThey can also be used to teach new concepts or review old ones.\\n\\n\\nThere are many different types of word games that you can use in your classroom, so find one that works best for your students.\\n\\n\\nA few popular word games include Scrabble, Boggle, and Word Ladder.\\n\\n\\n\\n\\nDrawing\\n\\n\\n\\n\\nWhen it comes to keeping your students engaged in class, there are a variety of activities you can do to ensure they are involved and excited about learning. Drawing is one such activity that can help bring lessons to life and get students thinking creatively.\\n\\n\\nHere are a few ways you can incorporate drawing into your class:\\n\\n\\nHave students draw pictures to represent what they are learning\\n. For example, if you’re teaching a lesson on the solar system, have students draw each planet. This will help them visualise the concept and make it more concrete in their minds.\\n\\n\\nUse drawing as a way to assess student understanding\\n. After a lesson, give them a prompt and have them illustrate what they learned in their own words. This will give you an idea of who grasped the concept and who may need additional help.\\n\\n\\nEncourage free-drawing time during class\\n. This can be used as a brain break or simply as a way to let students express their creativity. It’s also a great opportunity for them to bond with classmates by sharing their drawings with each other.\\n\\n\\nDrawing is just one simple activity that can make a big impact on student engagement. So next time you’re planning your lessons, consider how you can incorporate some drawing time into the mix!\\n\\n\\nSimon Says\\n\\n\\nChildren dance in a line following dad.\\n\\n\\nSimon Says is a classic game that can be played with any age group. It is a great way to get students up and moving, and it can be used to review material that has been covered in class.\\n\\n\\nTo play Simon Says, one student is chosen to be Simon. The rest of the students line up behind Simon.Simon then gives a command, such as “Simon says touch your nose,” “Simon says stand on one leg,” or “Simon says clap your hands.” If Simon just gives a command without saying “Simon says,” then the students should not follow the command. For example, if Simon says “Jump in the air,” then the students should not jump unless Simon starts the command with “Simon says.”\\n\\n\\nThe goal of the game is for students to follow the commands of Simon without getting confused or mixed up. This game can be used to review any type of material that has been covered in class – from vocabulary words to math facts. It is also a great way to get students up and moving around!\\n\\n\\nCharades\\n\\n\\n\\n\\nCharades is a classic party game that is great for groups of all ages. It can be played with any number of people, and only requires a few supplies. To play charades, one player acts out a word or phrase while the others guess what it is.\\n\\n\\nThis activity is perfect for classroom settings because it helps students practice their communication and problem-solving skills. It also gets them up and moving around, which can be a welcome break from sitting at desks all day. When choosing words or phrases for students to act out, be sure to choose ones that are appropriate for the age group and level of the class.\\n\\n\\nHangman\\n\\n\\n\\n\\n\\n\\nHangman is a classic game that can be played with any word.\\n\\n\\nTo play, one person thinks of a word and the other tries to guess it by guessing letters.\\n\\n\\nIf the letter is in the word, the person gets a chance to guess again. If the letter is not in the word, then an element of the hangman (usually a stick figure) is drawn.\\n\\n\\nThe goal is to guess the word before the hangman is completed.\\n\\n\\nThis game can be played with small groups or even as a whole class if you write the word on the board before starting.\\n\\n\\n\\n\\nConclusion\\n\\n\\nEngaging your students in class is vital to their success. We hope that these 10 activities will help you keep your students engaged and interested in what you’re teaching. If you have any other great ideas, be sure to share them with us in the comments below!\\n\\n\\nLog in and register at\\xa0\\nwww.pandai.org\\n\\n\\nDownload Pandai App at\\xa0\\nGoogle Play\\n\\xa0or\\xa0\\nApp Store\\n.\\n\\n\\nFB:\\xa0\\n@pandaiofficial\\n\\n\\nInstagram:\\n@pandaiofficial\\n\\n\\nTwitter:\\xa0\\n@pandaiofficial\\n\\n\\nTiktok:\\xa0\\n@pandaiofficial\\n\\n\\nBlog:\\xa0\\nblog.pandai.org\\n\\n'"
      ]
     },
     "execution_count": 44,
     "metadata": {},
     "output_type": "execute_result"
    }
   ],
   "source": [
    "soup.find('div', {'class': 'entry-content'}).get_text(separator=\"\\n\")"
   ]
  },
  {
   "cell_type": "code",
   "execution_count": 45,
   "metadata": {},
   "outputs": [
    {
     "name": "stderr",
     "output_type": "stream",
     "text": [
      "100%|███████████████████████████████████████████████████████████████████████████████████████████████████████████| 233/233 [02:02<00:00,  1.90it/s]\n"
     ]
    }
   ],
   "source": [
    "data = []\n",
    "for url in tqdm(urls):\n",
    "    r = requests.get(url)\n",
    "    soup = BeautifulSoup(r.content, \"lxml\")\n",
    "    data.append({\n",
    "        'url': url,\n",
    "        'title': soup.find('h1').text.strip(),\n",
    "        'body': soup.find('div', {'class': 'entry-content'}).get_text(separator=\"\\n\"),\n",
    "    })"
   ]
  },
  {
   "cell_type": "code",
   "execution_count": 46,
   "metadata": {},
   "outputs": [],
   "source": [
    "with open('blog.pandai.com', 'w') as fopen:\n",
    "    for d in data:\n",
    "        fopen.write(f'{json.dumps(d)}\\n')"
   ]
  },
  {
   "cell_type": "code",
   "execution_count": null,
   "metadata": {},
   "outputs": [],
   "source": []
  }
 ],
 "metadata": {
  "kernelspec": {
   "display_name": "Python 3 (ipykernel)",
   "language": "python",
   "name": "python3"
  },
  "language_info": {
   "codemirror_mode": {
    "name": "ipython",
    "version": 3
   },
   "file_extension": ".py",
   "mimetype": "text/x-python",
   "name": "python",
   "nbconvert_exporter": "python",
   "pygments_lexer": "ipython3",
   "version": "3.8.10"
  }
 },
 "nbformat": 4,
 "nbformat_minor": 4
}
