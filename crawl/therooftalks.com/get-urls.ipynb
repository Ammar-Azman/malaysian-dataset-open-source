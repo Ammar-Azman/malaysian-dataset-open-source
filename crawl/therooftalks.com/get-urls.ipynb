{
 "cells": [
  {
   "cell_type": "code",
   "execution_count": 1,
   "metadata": {},
   "outputs": [],
   "source": [
    "import requests\n",
    "from bs4 import BeautifulSoup\n",
    "from tqdm import tqdm\n",
    "import os\n",
    "import json\n",
    "import numpy as np\n",
    "import time\n",
    "import random\n",
    "import json\n",
    "import urllib3\n",
    "urllib3.disable_warnings(urllib3.exceptions.InsecureRequestWarning)"
   ]
  },
  {
   "cell_type": "code",
   "execution_count": 3,
   "metadata": {},
   "outputs": [],
   "source": [
    "url = 'https://therooftalks.com/page/17/'\n",
    "r = requests.get(url)"
   ]
  },
  {
   "cell_type": "code",
   "execution_count": 4,
   "metadata": {},
   "outputs": [],
   "source": [
    "soup = BeautifulSoup(r.content, \"lxml\")"
   ]
  },
  {
   "cell_type": "code",
   "execution_count": 8,
   "metadata": {},
   "outputs": [
    {
     "data": {
      "text/plain": [
       "['https://therooftalks.com/2016/11/30/best-infinity-pools-in-kuala-lumpur/',\n",
       " 'https://therooftalks.com/2016/11/25/home-improvement-3-decluttering-hacks-for-weekend/',\n",
       " 'https://therooftalks.com/2016/11/23/consider-a-home-in-johor-bahru/',\n",
       " 'https://therooftalks.com/2016/08/04/how-find-best-property-agent/',\n",
       " 'https://therooftalks.com/2016/08/03/how-pokemon-go-can-help-property-agents/',\n",
       " 'https://therooftalks.com/2016/07/28/6-tips-to-negotiate-with-an-agent/',\n",
       " 'https://therooftalks.com/2016/07/01/new-vs-old-decide-which-to-buy/',\n",
       " 'https://therooftalks.com/2016/06/21/guide-buying-first-home-kl/']"
      ]
     },
     "execution_count": 8,
     "metadata": {},
     "output_type": "execute_result"
    }
   ],
   "source": [
    "a = soup.find_all('div', {'class': 'article--grid__header'})\n",
    "a = [a_.find('a').get('href') for a_ in a]\n",
    "a"
   ]
  },
  {
   "cell_type": "code",
   "execution_count": 10,
   "metadata": {},
   "outputs": [
    {
     "name": "stderr",
     "output_type": "stream",
     "text": [
      "17it [00:03,  4.48it/s]\n"
     ]
    }
   ],
   "source": [
    "def generator():\n",
    "    while True:\n",
    "        yield\n",
    "        \n",
    "index = 1\n",
    "all_a = []\n",
    "\n",
    "for _ in tqdm(generator()):\n",
    "    url = f'https://therooftalks.com/page/{index}/'\n",
    "    r = requests.get(url)\n",
    "    soup = BeautifulSoup(r.content, \"lxml\")\n",
    "\n",
    "    a = soup.find_all('div', {'class': 'article--grid__header'})\n",
    "    a = [a_.find('a').get('href') for a_ in a]\n",
    "    \n",
    "    if not len(a):\n",
    "        break\n",
    "        \n",
    "    all_a.extend(a)\n",
    "    \n",
    "    index += 1"
   ]
  },
  {
   "cell_type": "code",
   "execution_count": 11,
   "metadata": {},
   "outputs": [
    {
     "data": {
      "text/plain": [
       "168"
      ]
     },
     "execution_count": 11,
     "metadata": {},
     "output_type": "execute_result"
    }
   ],
   "source": [
    "urls = sorted(list(set(all_a)))\n",
    "len(urls)"
   ]
  },
  {
   "cell_type": "code",
   "execution_count": 12,
   "metadata": {},
   "outputs": [
    {
     "data": {
      "text/plain": [
       "['https://therooftalks.com/2016/06/21/guide-buying-first-home-kl/',\n",
       " 'https://therooftalks.com/2016/07/01/new-vs-old-decide-which-to-buy/',\n",
       " 'https://therooftalks.com/2016/07/28/6-tips-to-negotiate-with-an-agent/',\n",
       " 'https://therooftalks.com/2016/08/03/how-pokemon-go-can-help-property-agents/',\n",
       " 'https://therooftalks.com/2016/08/04/how-find-best-property-agent/',\n",
       " 'https://therooftalks.com/2016/11/23/consider-a-home-in-johor-bahru/',\n",
       " 'https://therooftalks.com/2016/11/25/home-improvement-3-decluttering-hacks-for-weekend/',\n",
       " 'https://therooftalks.com/2016/11/30/best-infinity-pools-in-kuala-lumpur/',\n",
       " 'https://therooftalks.com/2016/12/02/world-design-capital-2016-taipei/',\n",
       " 'https://therooftalks.com/2016/12/06/good-relationship-with-your-agent/']"
      ]
     },
     "execution_count": 12,
     "metadata": {},
     "output_type": "execute_result"
    }
   ],
   "source": [
    "urls[:10]"
   ]
  },
  {
   "cell_type": "code",
   "execution_count": 15,
   "metadata": {},
   "outputs": [],
   "source": [
    "url = urls[0]\n",
    "r = requests.get(url)\n",
    "soup = BeautifulSoup(r.content, \"lxml\")"
   ]
  },
  {
   "cell_type": "code",
   "execution_count": 16,
   "metadata": {},
   "outputs": [
    {
     "data": {
      "text/plain": [
       "'Guide to buying your first home in KL'"
      ]
     },
     "execution_count": 16,
     "metadata": {},
     "output_type": "execute_result"
    }
   ],
   "source": [
    "soup.find('h1').text.strip()"
   ]
  },
  {
   "cell_type": "code",
   "execution_count": 18,
   "metadata": {},
   "outputs": [
    {
     "data": {
      "text/plain": [
       "'\\n\\nIt’s finally \\nthat\\n time in your life where you start looking for your own home. Even before you begin, you’re already thinking who to invite for your housewarming party. You’re looking forward to the trips to IKEA. You’re excited to meet your soon-to-be neighbors. You can’t wait to finally have your own home.\\n\\n\\n\\xa0\\n\\n\\nBut\\n where in the world do you begin\\n?\\n\\n\\n\\n\\nGoogle directs you to a list of websites which match your query “homes in Kuala Lumpur”. You spend an entire afternoon browsing through the pages of listings on these websites, feeling drained at the end of the whole process when you are still unable to find a property which fits your requirements. Your brain is cluttered with questions: \\nHow do mortgages work? Are there government schemes to help me buy my first home? Are there additional fees I need to pay? For my salary, what kind of prices should I be looking at?\\n\\n\\nIn this blog post, we help you answer some of these questions and walk you through the process of buying your very first home.\\n\\n\\n___\\n\\n\\nPRICES\\xa0– the big scary number which dwarfs your monthly income and makes you feel a little uneasy about your decision to buy a home. For most of us, this would be the most important factor in purchasing a home. However, the prices of homes are usually 6 or 7-digits, making it very difficult to estimate without prior research. You really need to do an extensive market research to assess wheter or not a property is correctly valued or not.\\n\\n\\nFurthermore, banks only offer mortgages of up to 90% which still leaves a significant 10% to be paid as a down-payment. For an average property in Kuala Lumpur, a prospective buyer has to fork out over RM80,000 in cash to purchase the house. Luckily, the Malaysian government has introduced certain schemes to make this process easier on prospective buyers. The ‘First House Scheme’ known as \\nSkim Rumah Pertamaku (SRP)\\n allows mortgages up to 100% whilst maintaining the interest rate which needs to be paid.\\n\\n\\nHowever, there are many tight eligibility rules for participating in this scheme. This scheme only permits mortgages for homes between the prices of RM100,000 and RM500,000. It is only open to Malaysian citizens below the age of 40 with a gross income of not more than RM5,000 a month. It is also limited to employees in the private sectors or government sectors which do not provide housing financing. Meaning that if you are self-employed, make more than RM5,000 a month, are above the age of 40, or want a property which costs more than RM500,000, you are not eligible for this scheme.\\n\\n\\nLet’s assume you \\ndon’t\\n qualify for this loan because you want to purchase an average non-landed property in Kuala Lumpur, which would cost approximately RM650,000. On average, banks charge an interest rate between 4.5%-5.0% which has to be paid off in 30-35 years. Assuming you take a 90% loan on your RM650,000 property at a 4.5% interest rate with a maximum tenure of 30 years (yes, it’s a \\nvery\\n specific loan), it would cost you RM2,950 monthly for the next 30 years.\\n\\n\\nAs a rule of thumb, your mortgage should not constitute more than 25% of your income. Hence, your monthly household income should exceed RM11,800 to be looking for a RM650,000 home in Kuala Lumpur. Here are some other benchmarks to help you estimate the price range of your prospective home:\\n\\n\\nAt a 90% loan for 30 years:\\n\\n\\n \\n\\n\\n \\n Information obtained from: \\nhttps://loanstreet.com.my/home-loan\\n\\n\\nWe’re still not done here. There is still the 10% down-payment which has to be paid as well as various other miscellaneous fees. These fees include: \\nSales & Purchase Agreement fees, Loan Agreement fees, Real Estate Agent’s Fees\\n. That’s \\na lot\\n of fees. Assuming the cost of the Real Estate Agent’s Fees are borne by the sellers (common practice), the entry costs of buying a home are as follows:\\n\\n\\n\\n\\n \\nCalculated using: \\n//1-million-dollar-blog.com/calculators/legal-fees-and-stamp-duty-calculator/\\n\\n\\nYes, that’s how much you have to pay up-front to buy a home in Malaysia. With the monthly mortgage, it’s a really hefty sum of money. Because of this, you’d want your home to be \\nas perfect as possible\\n – which means other qualitative factors are super important as well. Here are some non-price considerations you may want to have when choosing a home:\\n\\n\\n 1. Quite obviously, \\nsize\\n.\\n\\n\\nShowcase interior\\n\\n\\nIf you and your spouse are looking for your first home together, probably a home like this wouldn’t be the best idea. One of the most important things you should consider when buying a home is how big it’s going to be. However, being a first-time home buyer you may be unsure of the dimensions of a \\nhome. Here’s a rough guide of how you can estimate the size of your home:\\n\\n\\nStudio apartments ~ 500 sqft (1 bedrooms 1 bathrooms)\\n\\n\\n Flats/Apartments ~ 700-1000 sqft (3 bedrooms 2 bathrooms)\\n\\n\\n Condo ~ 1200-1600 sqft (3 bedrooms 2 bathrooms)\\n\\n\\n Terrace ~ 1500-3000 sqft (3/4 bedrooms 2/3 bathrooms)\\n\\n\\n Semi-D ~ 2200-4000 sqft (4/5 bedrooms 4/5 bathrooms)\\n\\n\\n Bungalow ~ 4000 sqft upwards\\n\\n\\n2. Location\\n\\n\\n\\n\\nOther than the size of your home, one thing you \\nhave\\n to make sure you take into careful consideration is its location. Your home should be reasonably close to your workplace, near train stations or bus stops, or even near shopping malls for extra convenience. Sometimes, purchasing a home near a good school could even increase its value!\\n\\n\\n3. Design and condition\\n\\n\\n\\n\\nLastly, before you go ahead and purchase that dream home of yours, don’t forget to consider the design of your home. If it’s already designed to your liking, that’s a big plus point – for your wallet. On the other hand, you should also consider the condition of your home. Poor piping systems which results in leaks and consequently mold could pose serious health threats to you or your children.\\n\\n\\n\\xa0\\n\\n\\nAll in all, buying your first home is definitely a daunting task – but trust me, that feeling of holding your house keys for the first time is magical.\\xa0You’ve finally entered a new phase of your life.\\n\\n\\n___\\n\\n\\nBumbung is a technology startup in the Real Estate marketplace. The team behind it are people who believe that things can be done better for both Real Estate agents and users. We’re all about connecting the right people with the right homes, through shortlisting and curating the best that the property market has to offer. By enabling ratings and reviews, we’re enabling users with trust and transparency while keeping agents on their toes to deliver the best results.\\n\\n\\nFind my dream house today!\\n\\n\\n\\n\\n\\n\\n\\n\\n\\n\\n\\n\\n\\n\\n\\n\\n\\n\\nCategories\\n\\n\\nBuying and Renting Guides\\n \\n\\n\\n\\n\\n\\n\\n \\n\\n\\n\\n\\n\\n\\n\\n\\n\\n\\n \\n\\n\\n\\n\\n\\n\\nAuthor\\n\\n\\n\\n\\nBumbung Team\\n\\n\\n\\n\\n\\n\\n\\n\\n\\n\\n\\n\\n\\n\\n\\n\\n\\n\\n\\n                    \\xa0\\n                \\n\\n\\n\\n\\n\\n                                    Next Article                                \\n\\n\\n\\n\\nNew vs. Old homes? Decide which to buy\\n\\n\\n\\n\\n\\n\\n\\n\\n\\n\\n\\n\\n\\n\\n\\n                There are no comments            \\n\\n\\nAdd yours\\n \\n\\n\\n\\n\\n\\n\\n \\nCancel reply\\nComment\\nName\\nEmail\\nUrl\\n\\n\\n \\nSave my name, email, and website in this browser for the next time I comment.\\n\\n\\n \\n\\n\\n\\n\\n \\n\\n\\n\\n'"
      ]
     },
     "execution_count": 18,
     "metadata": {},
     "output_type": "execute_result"
    }
   ],
   "source": [
    "soup.find('article', {'class': 'post-article'}).get_text(separator=\"\\n\")"
   ]
  },
  {
   "cell_type": "code",
   "execution_count": 19,
   "metadata": {},
   "outputs": [
    {
     "name": "stderr",
     "output_type": "stream",
     "text": [
      "100%|███████████████████████████████████████████████████████████████████████████████████████████████████████████| 168/168 [00:26<00:00,  6.24it/s]\n"
     ]
    }
   ],
   "source": [
    "data = []\n",
    "for url in tqdm(urls):\n",
    "    r = requests.get(url)\n",
    "    soup = BeautifulSoup(r.content, \"lxml\")\n",
    "    try:\n",
    "        data.append({\n",
    "            'url': url,\n",
    "            'title': soup.find('h1').text.strip(),\n",
    "            'body': soup.find('article', {'class': 'post-article'}).get_text(separator=\"\\n\"),\n",
    "        })\n",
    "    except:\n",
    "        pass"
   ]
  },
  {
   "cell_type": "code",
   "execution_count": 20,
   "metadata": {},
   "outputs": [
    {
     "data": {
      "text/plain": [
       "{'url': 'https://therooftalks.com/2016/06/21/guide-buying-first-home-kl/',\n",
       " 'title': 'Guide to buying your first home in KL',\n",
       " 'body': '\\n\\nIt’s finally \\nthat\\n time in your life where you start looking for your own home. Even before you begin, you’re already thinking who to invite for your housewarming party. You’re looking forward to the trips to IKEA. You’re excited to meet your soon-to-be neighbors. You can’t wait to finally have your own home.\\n\\n\\n\\xa0\\n\\n\\nBut\\n where in the world do you begin\\n?\\n\\n\\n\\n\\nGoogle directs you to a list of websites which match your query “homes in Kuala Lumpur”. You spend an entire afternoon browsing through the pages of listings on these websites, feeling drained at the end of the whole process when you are still unable to find a property which fits your requirements. Your brain is cluttered with questions: \\nHow do mortgages work? Are there government schemes to help me buy my first home? Are there additional fees I need to pay? For my salary, what kind of prices should I be looking at?\\n\\n\\nIn this blog post, we help you answer some of these questions and walk you through the process of buying your very first home.\\n\\n\\n___\\n\\n\\nPRICES\\xa0– the big scary number which dwarfs your monthly income and makes you feel a little uneasy about your decision to buy a home. For most of us, this would be the most important factor in purchasing a home. However, the prices of homes are usually 6 or 7-digits, making it very difficult to estimate without prior research. You really need to do an extensive market research to assess wheter or not a property is correctly valued or not.\\n\\n\\nFurthermore, banks only offer mortgages of up to 90% which still leaves a significant 10% to be paid as a down-payment. For an average property in Kuala Lumpur, a prospective buyer has to fork out over RM80,000 in cash to purchase the house. Luckily, the Malaysian government has introduced certain schemes to make this process easier on prospective buyers. The ‘First House Scheme’ known as \\nSkim Rumah Pertamaku (SRP)\\n allows mortgages up to 100% whilst maintaining the interest rate which needs to be paid.\\n\\n\\nHowever, there are many tight eligibility rules for participating in this scheme. This scheme only permits mortgages for homes between the prices of RM100,000 and RM500,000. It is only open to Malaysian citizens below the age of 40 with a gross income of not more than RM5,000 a month. It is also limited to employees in the private sectors or government sectors which do not provide housing financing. Meaning that if you are self-employed, make more than RM5,000 a month, are above the age of 40, or want a property which costs more than RM500,000, you are not eligible for this scheme.\\n\\n\\nLet’s assume you \\ndon’t\\n qualify for this loan because you want to purchase an average non-landed property in Kuala Lumpur, which would cost approximately RM650,000. On average, banks charge an interest rate between 4.5%-5.0% which has to be paid off in 30-35 years. Assuming you take a 90% loan on your RM650,000 property at a 4.5% interest rate with a maximum tenure of 30 years (yes, it’s a \\nvery\\n specific loan), it would cost you RM2,950 monthly for the next 30 years.\\n\\n\\nAs a rule of thumb, your mortgage should not constitute more than 25% of your income. Hence, your monthly household income should exceed RM11,800 to be looking for a RM650,000 home in Kuala Lumpur. Here are some other benchmarks to help you estimate the price range of your prospective home:\\n\\n\\nAt a 90% loan for 30 years:\\n\\n\\n \\n\\n\\n \\n Information obtained from: \\nhttps://loanstreet.com.my/home-loan\\n\\n\\nWe’re still not done here. There is still the 10% down-payment which has to be paid as well as various other miscellaneous fees. These fees include: \\nSales & Purchase Agreement fees, Loan Agreement fees, Real Estate Agent’s Fees\\n. That’s \\na lot\\n of fees. Assuming the cost of the Real Estate Agent’s Fees are borne by the sellers (common practice), the entry costs of buying a home are as follows:\\n\\n\\n\\n\\n \\nCalculated using: \\n//1-million-dollar-blog.com/calculators/legal-fees-and-stamp-duty-calculator/\\n\\n\\nYes, that’s how much you have to pay up-front to buy a home in Malaysia. With the monthly mortgage, it’s a really hefty sum of money. Because of this, you’d want your home to be \\nas perfect as possible\\n – which means other qualitative factors are super important as well. Here are some non-price considerations you may want to have when choosing a home:\\n\\n\\n 1. Quite obviously, \\nsize\\n.\\n\\n\\nShowcase interior\\n\\n\\nIf you and your spouse are looking for your first home together, probably a home like this wouldn’t be the best idea. One of the most important things you should consider when buying a home is how big it’s going to be. However, being a first-time home buyer you may be unsure of the dimensions of a \\nhome. Here’s a rough guide of how you can estimate the size of your home:\\n\\n\\nStudio apartments ~ 500 sqft (1 bedrooms 1 bathrooms)\\n\\n\\n Flats/Apartments ~ 700-1000 sqft (3 bedrooms 2 bathrooms)\\n\\n\\n Condo ~ 1200-1600 sqft (3 bedrooms 2 bathrooms)\\n\\n\\n Terrace ~ 1500-3000 sqft (3/4 bedrooms 2/3 bathrooms)\\n\\n\\n Semi-D ~ 2200-4000 sqft (4/5 bedrooms 4/5 bathrooms)\\n\\n\\n Bungalow ~ 4000 sqft upwards\\n\\n\\n2. Location\\n\\n\\n\\n\\nOther than the size of your home, one thing you \\nhave\\n to make sure you take into careful consideration is its location. Your home should be reasonably close to your workplace, near train stations or bus stops, or even near shopping malls for extra convenience. Sometimes, purchasing a home near a good school could even increase its value!\\n\\n\\n3. Design and condition\\n\\n\\n\\n\\nLastly, before you go ahead and purchase that dream home of yours, don’t forget to consider the design of your home. If it’s already designed to your liking, that’s a big plus point – for your wallet. On the other hand, you should also consider the condition of your home. Poor piping systems which results in leaks and consequently mold could pose serious health threats to you or your children.\\n\\n\\n\\xa0\\n\\n\\nAll in all, buying your first home is definitely a daunting task – but trust me, that feeling of holding your house keys for the first time is magical.\\xa0You’ve finally entered a new phase of your life.\\n\\n\\n___\\n\\n\\nBumbung is a technology startup in the Real Estate marketplace. The team behind it are people who believe that things can be done better for both Real Estate agents and users. We’re all about connecting the right people with the right homes, through shortlisting and curating the best that the property market has to offer. By enabling ratings and reviews, we’re enabling users with trust and transparency while keeping agents on their toes to deliver the best results.\\n\\n\\nFind my dream house today!\\n\\n\\n\\n\\n\\n\\n\\n\\n\\n\\n\\n\\n\\n\\n\\n\\n\\n\\nCategories\\n\\n\\nBuying and Renting Guides\\n \\n\\n\\n\\n\\n\\n\\n \\n\\n\\n\\n\\n\\n\\n\\n\\n\\n\\n \\n\\n\\n\\n\\n\\n\\nAuthor\\n\\n\\n\\n\\nBumbung Team\\n\\n\\n\\n\\n\\n\\n\\n\\n\\n\\n\\n\\n\\n\\n\\n\\n\\n\\n\\n                    \\xa0\\n                \\n\\n\\n\\n\\n\\n                                    Next Article                                \\n\\n\\n\\n\\nNew vs. Old homes? Decide which to buy\\n\\n\\n\\n\\n\\n\\n\\n\\n\\n\\n\\n\\n\\n\\n\\n                There are no comments            \\n\\n\\nAdd yours\\n \\n\\n\\n\\n\\n\\n\\n \\nCancel reply\\nComment\\nName\\nEmail\\nUrl\\n\\n\\n \\nSave my name, email, and website in this browser for the next time I comment.\\n\\n\\n \\n\\n\\n\\n\\n \\n\\n\\n\\n'}"
      ]
     },
     "execution_count": 20,
     "metadata": {},
     "output_type": "execute_result"
    }
   ],
   "source": [
    "data[0]"
   ]
  },
  {
   "cell_type": "code",
   "execution_count": 21,
   "metadata": {},
   "outputs": [],
   "source": [
    "with open('therooftalks.com.jsonl', 'w') as fopen:\n",
    "    for d in data:\n",
    "        fopen.write(f'{json.dumps(d)}\\n')"
   ]
  }
 ],
 "metadata": {
  "kernelspec": {
   "display_name": "Python 3 (ipykernel)",
   "language": "python",
   "name": "python3"
  },
  "language_info": {
   "codemirror_mode": {
    "name": "ipython",
    "version": 3
   },
   "file_extension": ".py",
   "mimetype": "text/x-python",
   "name": "python",
   "nbconvert_exporter": "python",
   "pygments_lexer": "ipython3",
   "version": "3.8.10"
  }
 },
 "nbformat": 4,
 "nbformat_minor": 4
}
