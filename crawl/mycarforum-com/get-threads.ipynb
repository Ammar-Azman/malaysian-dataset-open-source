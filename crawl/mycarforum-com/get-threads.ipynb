{
 "cells": [
  {
   "cell_type": "code",
   "execution_count": 1,
   "metadata": {},
   "outputs": [],
   "source": [
    "import requests\n",
    "import numpy as np\n",
    "from bs4 import BeautifulSoup\n",
    "from tqdm import tqdm\n",
    "from concurrent.futures import ThreadPoolExecutor, as_completed\n",
    "from glob import glob\n",
    "from tqdm import tqdm\n",
    "import time\n",
    "import json\n",
    "import os\n",
    "import gc"
   ]
  },
  {
   "cell_type": "code",
   "execution_count": 3,
   "metadata": {},
   "outputs": [],
   "source": [
    "files = glob('forums/*.json')"
   ]
  },
  {
   "cell_type": "code",
   "execution_count": 4,
   "metadata": {},
   "outputs": [
    {
     "data": {
      "text/plain": [
       "96333"
      ]
     },
     "execution_count": 4,
     "metadata": {},
     "output_type": "execute_result"
    }
   ],
   "source": [
    "forums = []\n",
    "for f in files:\n",
    "    with open(f) as fopen:\n",
    "        forums.extend(json.load(fopen))\n",
    "        \n",
    "forums = sorted(list(set(forums)))\n",
    "len(forums)"
   ]
  },
  {
   "cell_type": "code",
   "execution_count": 10,
   "metadata": {},
   "outputs": [
    {
     "data": {
      "text/plain": [
       "'https://www.mycarforum.com/forums/topic/1000510-which-is-better'"
      ]
     },
     "execution_count": 10,
     "metadata": {},
     "output_type": "execute_result"
    }
   ],
   "source": [
    "forums[3]"
   ]
  },
  {
   "cell_type": "code",
   "execution_count": 21,
   "metadata": {},
   "outputs": [],
   "source": [
    "def get_href(url):\n",
    "    while True:\n",
    "        try:\n",
    "            r = requests.get(url, timeout = 5.0)\n",
    "            break\n",
    "        except:\n",
    "            time.sleep(1.0)\n",
    "    soup = BeautifulSoup(r.content, \"lxml\")\n",
    "    a = soup.find_all('a')\n",
    "    try:\n",
    "        max_page = [a_.text for a_ in a if 'Page 1 of ' in a_.text][0]\n",
    "        max_page = int(max_page.split('Page 1 of ')[-1].split()[-1])\n",
    "    except:\n",
    "        max_page = -1\n",
    "    \n",
    "    div = soup.find_all('div', {'data-role': \"commentContent\"})\n",
    "        \n",
    "    return url, [str(d) for d in div], max_page"
   ]
  },
  {
   "cell_type": "code",
   "execution_count": 22,
   "metadata": {},
   "outputs": [
    {
     "data": {
      "text/plain": [
       "('https://www.mycarforum.com/forums/topic/1000510-which-is-better',\n",
       " ['<div class=\"ipsType_normal ipsType_richText ipsPadding_bottom ipsContained\" data-controller=\"core.front.core.lightboxedImages\" data-role=\"commentContent\">\\n<p>Ford Focus or Renault Megane?</p>\\n</div>',\n",
       "  '<div class=\"ipsType_normal ipsType_richText ipsPadding_bottom ipsContained\" data-controller=\"core.front.core.lightboxedImages\" data-role=\"commentContent\">\\n<p>Seems like the Focus got better reviews cos it has ESP and some other gadgets..</p>\\n</div>',\n",
       "  '<div class=\"ipsType_normal ipsType_richText ipsPadding_bottom ipsContained\" data-controller=\"core.front.core.lightboxedImages\" data-role=\"commentContent\">\\n<p>Hmm, tough choice there.  The megane feels more powerful and pickup is faster than the Focus. Both cars handles very well with nice balance even over uneven road surfaces (tried the Focus along Kim Seng Road and AYE while the Megane along the winding road with metal plates coming down from Raffles Hotel to Pan Pac), I like  <img alt=\"[thumbsup]\" src=\"https://www.mycarforum.com/uploads/emoticons/default_thumbsup.gif\"/></p>\\n<p>\\xa0</p>\\n<p>Interior wise, definitely prefer the Focus (looks and quality) to the Megane, not because the megane is not nice but just prefer the Focus interior, maybe because its the fresher interior. Both cars (sedan) have big boot, very pratical.</p>\\n<p>\\xa0</p>\\n<p>Overall, I would definitely choose the Focus if only the engine is more powerful for the pickup is quite poor....sign, too bad the 115HP engine is not brought in with the Auto, heard 1.6L Auto only has the 100BHP engine  <img alt=\"[smallcry]\" src=\"https://www.mycarforum.com/uploads/emoticons/default_smallcry.gif\"/></p>\\n</div>',\n",
       "  '<div class=\"ipsType_normal ipsType_richText ipsPadding_bottom ipsContained\" data-controller=\"core.front.core.lightboxedImages\" data-role=\"commentContent\">\\n<p>Megane Hatch! Dont get the sedan!  <img alt=\"[;)]\" src=\"https://www.mycarforum.com/uploads/emoticons/default_wink.png\"/></p>\\n</div>',\n",
       "  '<div class=\"ipsType_normal ipsType_richText ipsPadding_bottom ipsContained\" data-controller=\"core.front.core.lightboxedImages\" data-role=\"commentContent\">\\n<p>Haha, on a side note, just saw the new ad for the Focus on TV. Looks better than that still picture with a voice announcer. The girl looks pretty hot too IMO.</p>\\n<p>\\xa0</p>\\n<p>Back to topic, I\\'d go for the Focus. Its all about the driving fun. <img alt=\"[thumbsup]\" src=\"https://www.mycarforum.com/uploads/emoticons/default_thumbsup.gif\"/></p>\\n</div>',\n",
       "  '<div class=\"ipsType_normal ipsType_richText ipsPadding_bottom ipsContained\" data-controller=\"core.front.core.lightboxedImages\" data-role=\"commentContent\">\\n<p>Prefer the Renault. Although both offer NCAP 5-star safety award, only Megane has 6 air bags. Ford is pricier and the cabin is smaller.</p>\\n<p>\\xa0</p>\\n<p>Can anyone help? Interested in a Renault but they don\\'t seem to offer climatic air-con except for the Magane Hatch RS (turbo), or are there? Where canone get the best price?</p>\\n</div>',\n",
       "  '<div class=\"ipsType_normal ipsType_richText ipsPadding_bottom ipsContained\" data-controller=\"core.front.core.lightboxedImages\" data-role=\"commentContent\">\\n<p>megane looks nicer, but electric steering lacks feel, really uninvolving...overall, megane as more exciting design</p>\\n</div>',\n",
       "  '<div class=\"ipsType_normal ipsType_richText ipsPadding_bottom ipsContained\" data-controller=\"core.front.core.lightboxedImages\" data-role=\"commentContent\">\\n<p>Why the Hatch? I know it\\'s made in France, while the saloon is made in Turkey. The Hatch c/w chromatic mirror as well. Is it about reliability?</p>\\n</div>',\n",
       "  '<div class=\"ipsType_normal ipsType_richText ipsPadding_bottom ipsContained\" data-controller=\"core.front.core.lightboxedImages\" data-role=\"commentContent\">\\n<p>Megane hatch classic retro look. I like  <img alt=\"[thumbsup]\" src=\"https://www.mycarforum.com/uploads/emoticons/default_thumbsup.gif\"/></p>\\n</div>',\n",
       "  '<div class=\"ipsType_normal ipsType_richText ipsPadding_bottom ipsContained\" data-controller=\"core.front.core.lightboxedImages\" data-role=\"commentContent\">\\n<p>Agree with you, but not many people can appreciate its unique shape. Sure will make some heads turn. Wish it\\'d come with climatic control air-con though....</p>\\n</div>',\n",
       "  '<div class=\"ipsType_normal ipsType_richText ipsPadding_bottom ipsContained\" data-controller=\"core.front.core.lightboxedImages\" data-role=\"commentContent\">\\n<blockquote class=\"ipsQuote\" data-ipsquote=\"\" data-ipsquote-contentapp=\"forums\" data-ipsquote-contentclass=\"forums_Topic\" data-ipsquote-contentid=\"1000510\" data-ipsquote-contenttype=\"forums\"><div>Ford Focus or Renault Megane?</div></blockquote>\\n<p>\\xa0</p>\\n<p>Opel Astra! <img alt=\"[thumbsup]\" src=\"https://www.mycarforum.com/uploads/emoticons/default_thumbsup.gif\"/></p>\\n</div>',\n",
       "  '<div class=\"ipsType_normal ipsType_richText ipsPadding_bottom ipsContained\" data-controller=\"core.front.core.lightboxedImages\" data-role=\"commentContent\">\\n<p>I agree! <img alt=\"laugh.gif\" border=\"0\" src=\"/public/style_emoticons/default/laugh.gif\"/></p>\\n</div>',\n",
       "  '<div class=\"ipsType_normal ipsType_richText ipsPadding_bottom ipsContained\" data-controller=\"core.front.core.lightboxedImages\" data-role=\"commentContent\">\\n<p>Megane (like the name,my daughter\\'s name too, but not the car), beutiful but was voted the Top 10 most PROBLEMATIC or Unreliable Car <a href=\"http://www.bbc.co.uk/topgear/survey/unreliable.shtml\" rel=\"external nofollow\">http://www.bbc.co.uk/topgear/survey/unreliable.shtml</a> </p>\\n<p>\\xa0</p>\\n<p>\\nFocus...might be a better choice, unassuming but is a notorious gear box problem. </p>\\n<p>\\xa0</p>\\n<p>\\nDo you have a third choice.</p>\\n<span class=\"ipsType_reset ipsType_medium ipsType_light\" data-excludequote=\"\">\\n<strong>Edited <time data-short=\"17 yr\" datetime=\"2005-07-29T01:18:37Z\" title=\"07/29/2005 01:18  AM\">July 29, 2005</time> by Fortress</strong>\\n</span>\\n</div>',\n",
       "  '<div class=\"ipsType_normal ipsType_richText ipsPadding_bottom ipsContained\" data-controller=\"core.front.core.lightboxedImages\" data-role=\"commentContent\">\\n<p>definitely the Focus, without a doubt.. driven my wife\\'s Focus for 2 years now.. never had any prob with gear box... its not exactly the fastest starter tho... but the handling\\'s absolutely brilliant.. you won\\'t believe how it takes corners...</p>\\n<p>\\xa0</p>\\n<p>quality of drive is really good.. extremely stable car.. makes you want to get behind the wheel every time.. interior space wise is ok, but scores low for pick-up, so if that is gonna be your pet peeve don\\'t get it.. otherwise.. brilliant!!!</p>\\n</div>',\n",
       "  '<div class=\"ipsType_normal ipsType_richText ipsPadding_bottom ipsContained\" data-controller=\"core.front.core.lightboxedImages\" data-role=\"commentContent\">\\n<p>One of my managers drive it, beautiful handling and interior without doubt. </p>\\n<p>\\xa0</p>\\n<p>\\nDid not want to be a wet blanket, 2 years is a little too early for gearbox.</p>\\n</div>',\n",
       "  '<div class=\"ipsType_normal ipsType_richText ipsPadding_bottom ipsContained\" data-controller=\"core.front.core.lightboxedImages\" data-role=\"commentContent\">\\n<p>Hw abt Opel Astra n Mazda3 then? any comments?</p>\\n</div>',\n",
       "  '<div class=\"ipsType_normal ipsType_richText ipsPadding_bottom ipsContained\" data-controller=\"core.front.core.lightboxedImages\" data-role=\"commentContent\">\\n<blockquote class=\"ipsQuote\" data-ipsquote=\"\" data-ipsquote-contentapp=\"forums\" data-ipsquote-contentclass=\"forums_Topic\" data-ipsquote-contentid=\"1000510\" data-ipsquote-contenttype=\"forums\"><div>Megane Hatch! Dont get the sedan!  <img alt=\"[;)]\" src=\"https://www.mycarforum.com/uploads/emoticons/default_wink.png\"/></div></blockquote>\\n<p>\\xa0</p>\\n<p>Why not? The sedan is much more spacious, due to the 65mm wheelbase increase.</p>\\n</div>',\n",
       "  '<div class=\"ipsType_normal ipsType_richText ipsPadding_bottom ipsContained\" data-controller=\"core.front.core.lightboxedImages\" data-role=\"commentContent\">\\n<p>Never like Japanese, due to the way they made and methodology they carry for the car. Using light metal chassis encompassing the panel as strength members (will be hit by many if I comment, will send a message instead). And the car is disposal after 3 years, means parts are disposal and not maintainable, which in my view is a waste. Oh...they have higher depreciation, but better re-sale value. </p>\\n<p>\\xa0</p>\\n<p>\\nAs for Astra, a simple car, easy to maintain and unassuming. You need to know your constraint instead of hitting all over the shop </p>\\n<p>\\xa0</p>\\n<p>\\nivan</p>\\n</div>'],\n",
       " 12)"
      ]
     },
     "execution_count": 22,
     "metadata": {},
     "output_type": "execute_result"
    }
   ],
   "source": [
    "get_href(forums[3])"
   ]
  },
  {
   "cell_type": "code",
   "execution_count": 23,
   "metadata": {},
   "outputs": [
    {
     "data": {
      "text/plain": [
       "'https://www.mycarforum.com/forums/topic/1000510-which-is-better'"
      ]
     },
     "execution_count": 23,
     "metadata": {},
     "output_type": "execute_result"
    }
   ],
   "source": [
    "forums[3]"
   ]
  },
  {
   "cell_type": "code",
   "execution_count": 24,
   "metadata": {},
   "outputs": [],
   "source": [
    "!rm -rf threads\n",
    "!mkdir threads"
   ]
  },
  {
   "cell_type": "code",
   "execution_count": null,
   "metadata": {},
   "outputs": [],
   "source": []
  },
  {
   "cell_type": "code",
   "execution_count": null,
   "metadata": {},
   "outputs": [
    {
     "name": "stderr",
     "output_type": "stream",
     "text": [
      "  9%|███                              | 4444/48167 [1:21:15<19:16:40,  1.59s/it]IOPub message rate exceeded.\n",
      "The notebook server will temporarily stop sending output\n",
      "to the client in order to avoid crashing it.\n",
      "To change this limit, set the config variable\n",
      "`--NotebookApp.iopub_msg_rate_limit`.\n",
      "\n",
      "Current values:\n",
      "NotebookApp.iopub_msg_rate_limit=1000.0 (msgs/sec)\n",
      "NotebookApp.rate_limit_window=3.0 (secs)\n",
      "\n",
      " 25%|███████▉                        | 11912/48167 [3:41:20<11:20:19,  1.13s/it]IOPub message rate exceeded.\n",
      "The notebook server will temporarily stop sending output\n",
      "to the client in order to avoid crashing it.\n",
      "To change this limit, set the config variable\n",
      "`--NotebookApp.iopub_msg_rate_limit`.\n",
      "\n",
      "Current values:\n",
      "NotebookApp.iopub_msg_rate_limit=1000.0 (msgs/sec)\n",
      "NotebookApp.rate_limit_window=3.0 (secs)\n",
      "\n",
      " 41%|█████████████▌                   | 19765/48167 [6:06:22<6:54:21,  1.14it/s]IOPub message rate exceeded.\n",
      "The notebook server will temporarily stop sending output\n",
      "to the client in order to avoid crashing it.\n",
      "To change this limit, set the config variable\n",
      "`--NotebookApp.iopub_msg_rate_limit`.\n",
      "\n",
      "Current values:\n",
      "NotebookApp.iopub_msg_rate_limit=1000.0 (msgs/sec)\n",
      "NotebookApp.rate_limit_window=3.0 (secs)\n",
      "\n",
      "100%|█████████████████████████████████▉| 48124/48167 [14:46:28<00:45,  1.06s/it]"
     ]
    }
   ],
   "source": [
    "max_worker = 2\n",
    "\n",
    "for i in tqdm(range(0, len(forums), max_worker)):\n",
    "    \n",
    "    filename = os.path.join('threads', f'{i}.json')\n",
    "    if os.path.exists(filename):\n",
    "        continue\n",
    "        \n",
    "    gc.collect()\n",
    "        \n",
    "    topics = [url for url in forums[i: i + max_worker]]\n",
    "    \n",
    "    data = []    \n",
    "    with ThreadPoolExecutor(max_workers=max_worker) as executor:\n",
    "        futures = {executor.submit(get_href, url): url for url in topics}\n",
    "\n",
    "        for future in as_completed(futures):\n",
    "            try:\n",
    "                data.append(future.result())\n",
    "            except:\n",
    "                pass\n",
    "                \n",
    "    with open(filename, 'w') as fopen:\n",
    "        json.dump(data, fopen)\n",
    "        \n",
    "    try:\n",
    "        del data\n",
    "        del futures\n",
    "    except:\n",
    "        pass"
   ]
  },
  {
   "cell_type": "code",
   "execution_count": null,
   "metadata": {},
   "outputs": [],
   "source": []
  }
 ],
 "metadata": {
  "kernelspec": {
   "display_name": "Python 3 (ipykernel)",
   "language": "python",
   "name": "python3"
  },
  "language_info": {
   "codemirror_mode": {
    "name": "ipython",
    "version": 3
   },
   "file_extension": ".py",
   "mimetype": "text/x-python",
   "name": "python",
   "nbconvert_exporter": "python",
   "pygments_lexer": "ipython3",
   "version": "3.8.10"
  }
 },
 "nbformat": 4,
 "nbformat_minor": 4
}
