{
 "cells": [
  {
   "cell_type": "code",
   "execution_count": 1,
   "metadata": {},
   "outputs": [],
   "source": [
    "import requests\n",
    "from bs4 import BeautifulSoup\n",
    "from tqdm import tqdm\n",
    "import os\n",
    "import json\n",
    "import numpy as np\n",
    "import time\n",
    "import random\n",
    "import json"
   ]
  },
  {
   "cell_type": "code",
   "execution_count": 2,
   "metadata": {},
   "outputs": [
    {
     "data": {
      "text/plain": [
       "51333"
      ]
     },
     "execution_count": 2,
     "metadata": {},
     "output_type": "execute_result"
    }
   ],
   "source": [
    "from glob import glob\n",
    "\n",
    "files = glob('url/*.json')\n",
    "urls = []\n",
    "for f in files:\n",
    "    with open(f) as fopen:\n",
    "        urls.extend(json.load(fopen))\n",
    "urls = sorted(list(set(urls)))\n",
    "len(urls)"
   ]
  },
  {
   "cell_type": "code",
   "execution_count": 3,
   "metadata": {},
   "outputs": [],
   "source": [
    "!mkdir page"
   ]
  },
  {
   "cell_type": "code",
   "execution_count": 8,
   "metadata": {},
   "outputs": [
    {
     "data": {
      "text/plain": [
       "'7 Tanda-Tanda Awal Kanser Yang Anda Sebagai Lelaki Tidak Boleh Abaikan'"
      ]
     },
     "execution_count": 8,
     "metadata": {},
     "output_type": "execute_result"
    }
   ],
   "source": [
    "soup.find('h1').text"
   ]
  },
  {
   "cell_type": "code",
   "execution_count": 5,
   "metadata": {},
   "outputs": [],
   "source": [
    "r = requests.get(urls[0])\n",
    "soup = BeautifulSoup(r.content, \"lxml\")"
   ]
  },
  {
   "cell_type": "code",
   "execution_count": 9,
   "metadata": {},
   "outputs": [
    {
     "data": {
      "text/plain": [
       "'https://siakapkeli.my/2018/09/18/7-tanda-tanda-awal-kanser-yang-anda-sebagai-lelaki-tidak-boleh-abaikan/'"
      ]
     },
     "execution_count": 9,
     "metadata": {},
     "output_type": "execute_result"
    }
   ],
   "source": [
    "urls[0]"
   ]
  },
  {
   "cell_type": "code",
   "execution_count": 11,
   "metadata": {},
   "outputs": [
    {
     "data": {
      "text/plain": [
       "'\\nKanser adalah antara penyakit yang paling ditakuti oleh umat manusia. Malah di Malaysia, penyakit kanser adalah antara penyakit yang paling banyak meragut nyawa. Apabila berbicara mengenai penyakit kanser, sebenarnya ia menyerang tidak kira mana-mana jantina. Baik kanser yang hanya boleh menyerang mengikut jantina tertentu ataupun kanser yang bersifat umum, tidak ada sesiapa pun yang kebal.\\n\\nNamun, kita lebih kerap mendengar penyakit kanser yang dihidapi oleh orang wanita seperti kanser pangkal rahim dan sebagainya, namun amat jarang berbicara mengenai risiko kanser yang boleh menyerang golongan lelaki. Jadi kali ini kami ingin berkongsi, khas untuk pembaca kami dari kaum Adam mengenai 7 tanda-tanda awal penyakit kanser yang anda perlu beri perhatian khusus.\\n\\n\\n\\n\\n1. Sukar Untuk Kencing\\n\\nJika anda secara konsisten merasa sukar untuk membuang air kecil, atau mendapati ada kesan darah di dalam air kencing atau air mani, ataupun juga mengalami kegagalan fungsi erektil yang tidak dapat dijelaskan, segeralah berjumpa dengan doktor kerana ada kemungkinan anda mengalami kanser prostat.\\nMenurut Dr. Moshe Shike seorang\\xa0gastroenterologist daripada Memorial Sloan Kettering Cancer Center di New York City, Amerika Syarikat berkata pesakitnya jarang-jarang sekali memberi perhatian terhadap simptom-simptom di atas sehinggalah kanser yang menyerang mereka sudah di peringkat yang agresif.\\n2. Perubahan Pada Testis\\n\\nSama seperti wanita yang patut peka dengan sebarang perubahan pada bahagian buah dada mereka, kaum Adam juga patut peka dengan perubahan yang berlaku pada bahagian testis mereka.\\nJika anda mendapati berlaku perubahan saiz pada salah satu bahagian testis atau kedua-duanya, bengkak atau terasa ‘berat’, atau dapat mengesan seolah-olah ada ketulan, anda wajar merasa bimbang kerana berikut adalah simptom-simptom penyakit kanser testiskular.\\nPenyakit kanser testiskular lebih cenderung untuk menyerang lelaki muda dan pertengahan umur.\\n3. Perubahan Pada Kulit\\n\\nLelaki yang berusia 50 tahun keatas, dua kali lebih berisko untuk diserang penyakit kanser kulit berbanding wanita. Kenapa? Mengikut kajian yang dijalankan oleh\\xa0National Sun Protection Advisory Council, mereka mendapati bahawa orang lelaki meluangkan lebih banyak masa untuk dibawah sinaran cahaya matahari dan lebih kurang menggunakan sebarang krim perlindungan.\\nSelain itu, lelaki juga kurang mengenakan pakaian yang dapat memberikan perlindungan secara menyeluruh antaranya pada bahagaian kulit kepala dan telinga, dua bahagian paling kerap diserang kanser kulit.\\nSelain itu, secara tradisinya, orang lelaki lebih kurang berjumpa dengan pakar kulit untuk tujuan pemeriksaan, menyebabkan orang lelaki lebih lambat untuk menyedari sebarang tanda penyakit kanser.\\nRamai lelaki berfikir bintik-bintik, tahi lalat atau bahagian kulit sedikit hitam adalah perkara biasa. Namun anda sewajarnya lebih peka sekiranya terdapat bintik-bintik dan tanda hitam menjadi lebih pekat serta tahi lalat yang membesar. Jika ada, bersegeralah ke hospital dan dapatkan pemeriksaan daripada doktor.\\n4. Luka Atau Sakit Pada Bahagian Bibir Dan Mulut\\n\\nAnda munkin tidak perlu risau sekiranya luka atau biji pada bibir sembuh dengan sendiri, atau sakit gigi yang hilang selepas mendapatkan rawatan.\\nTetapi sebaliknya, jika penyakit kedua-dua penyakit tersebut tidak hilang walaupun anda mendapatkan rawatan, ataupun mengesan kewujudan bulat putih atau merah pada bahagian luka di bibir, bengkak pada bahagian gusi atau rahang, ia boleh menjadi petanda penyakit kanser mulut.\\nJika anda seorang perokok, anda wajar untuk merasa lebih bimbang kerana anda adalag golongan yang lebih berisiko.\\n5. Batuk Yang Kronik\\n\\nBatuk berterusan sekurang-kurangnya untuk tempoh tiga minggu atau lebih lama tanpa sebarang simptom-simptom lain seperti alahan atau demam, boleh menjadi petanda kepada penyakit kanser paru-paru.\\nJika anda merasakan batuk yang anda alami adalah ganjil ataupun mengesan kewujudan darah dalam batuk, dapatkan rawatan doktor sebelum terlambat.\\n6. Darah Dalam Najis\\n\\nDarah yang ada dalam najis barangkali menunjukkan anda mempunyai masalah buasir, tetapi anda juga tidak boleh menolak kebarangkalian penyakit kanser kolon. Sebelum ini, penghidap-penghidap kanser kolon kebiasannya adalah mereka yang berumur 50 tahun ke atas, namun data terkini menunjukkan bahawa golongan muda juga turut mempunyai risiko yang tinggi.\\nDarah dalam najis bukan sesuatu yang normal. Ingat tu.\\n7. Lebam Teruk\\n\\nKesan lebam mungkin adalah antara perkara yang anda tidak peduli langsung sebelum ini, namun kini anda mungkin perlu berfikir dua kali. Jika anda mendapati kesan lebam muncul secara kerap pada bahagian badan yang pelbagai seperti pada bahagian jari atau tangan, segeralah ke hospital kerana ia boleh menjadi tanda-tanda masalah leukemia. Secara berterusan, leukemia boleh menggangu kemampuan darah untuk mengangkut oksigen ke seluruh badan.\\nSumber : Reader Digest\\n\\n\\n'"
      ]
     },
     "execution_count": 11,
     "metadata": {},
     "output_type": "execute_result"
    }
   ],
   "source": [
    "soup.find('div', {'class': 'entry-content'}).text"
   ]
  },
  {
   "cell_type": "code",
   "execution_count": null,
   "metadata": {},
   "outputs": [
    {
     "name": "stderr",
     "output_type": "stream",
     "text": [
      "17912it [2:27:38,  2.18it/s]IOPub message rate exceeded.\n",
      "The notebook server will temporarily stop sending output\n",
      "to the client in order to avoid crashing it.\n",
      "To change this limit, set the config variable\n",
      "`--NotebookApp.iopub_msg_rate_limit`.\n",
      "\n",
      "Current values:\n",
      "NotebookApp.iopub_msg_rate_limit=1000.0 (msgs/sec)\n",
      "NotebookApp.rate_limit_window=3.0 (secs)\n",
      "\n",
      "26330it [3:37:01,  1.76it/s]"
     ]
    }
   ],
   "source": [
    "for no, url in tqdm(enumerate(urls)):\n",
    "    filename = os.path.join('page', f'{no}.json')\n",
    "    if os.path.exists(filename):\n",
    "        continue\n",
    "    \n",
    "    while True:\n",
    "        try:\n",
    "            r = requests.get(url)\n",
    "            break\n",
    "        except:\n",
    "            time.sleep(1.0)\n",
    "    soup = BeautifulSoup(r.content, \"lxml\")\n",
    "\n",
    "    try:\n",
    "        title = soup.find('h1').text\n",
    "    except Exception as e:\n",
    "        title = None\n",
    "\n",
    "    try:\n",
    "        body = soup.find('div', {'class': 'entry-content'}).text\n",
    "    except Exception as e:\n",
    "        body = None\n",
    "\n",
    "    data = {\n",
    "        'url': url,\n",
    "        'title': title,\n",
    "        'body': body,\n",
    "    }\n",
    "    with open(filename, 'w') as fopen:\n",
    "        json.dump(data, fopen)"
   ]
  },
  {
   "cell_type": "code",
   "execution_count": null,
   "metadata": {},
   "outputs": [],
   "source": []
  }
 ],
 "metadata": {
  "kernelspec": {
   "display_name": "Python 3 (ipykernel)",
   "language": "python",
   "name": "python3"
  },
  "language_info": {
   "codemirror_mode": {
    "name": "ipython",
    "version": 3
   },
   "file_extension": ".py",
   "mimetype": "text/x-python",
   "name": "python",
   "nbconvert_exporter": "python",
   "pygments_lexer": "ipython3",
   "version": "3.8.10"
  }
 },
 "nbformat": 4,
 "nbformat_minor": 4
}
