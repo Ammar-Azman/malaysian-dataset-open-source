{
 "cells": [
  {
   "cell_type": "code",
   "execution_count": 1,
   "metadata": {},
   "outputs": [],
   "source": [
    "import requests\n",
    "from bs4 import BeautifulSoup\n",
    "from tqdm import tqdm\n",
    "import os\n",
    "import json\n",
    "import numpy as np\n",
    "import time\n",
    "import random\n",
    "import json\n",
    "from concurrent.futures import ThreadPoolExecutor, as_completed\n",
    "from datetime import datetime, timedelta"
   ]
  },
  {
   "cell_type": "code",
   "execution_count": 2,
   "metadata": {},
   "outputs": [],
   "source": [
    "r = requests.get('https://umminani.com/page/2/')\n",
    "soup = BeautifulSoup(r.content, \"lxml\")"
   ]
  },
  {
   "cell_type": "code",
   "execution_count": 3,
   "metadata": {},
   "outputs": [
    {
     "data": {
      "text/plain": [
       "['https://umminani.com/2023/04/kieslect-lady-calling-watch-lora/',\n",
       " 'https://umminani.com/2023/04/kieslect-lady-calling-watch-lora/',\n",
       " 'https://umminani.com/2023/04/kieslect-lady-calling-watch-lora/',\n",
       " 'https://umminani.com/2023/03/konvokesyen-tahun-6/',\n",
       " 'https://umminani.com/2023/03/konvokesyen-tahun-6/',\n",
       " 'https://umminani.com/2023/03/konvokesyen-tahun-6/',\n",
       " 'https://umminani.com/2023/03/pulau-langkawi-pulau-percutian/',\n",
       " 'https://umminani.com/2023/03/pulau-langkawi-pulau-percutian/',\n",
       " 'https://umminani.com/2023/03/pulau-langkawi-pulau-percutian/',\n",
       " 'https://umminani.com/2023/02/raudhah-montessori-centre-semenyih/',\n",
       " 'https://umminani.com/2023/02/raudhah-montessori-centre-semenyih/',\n",
       " 'https://umminani.com/2023/02/raudhah-montessori-centre-semenyih/',\n",
       " 'https://umminani.com/2023/02/restoran-mak-kimbong-bangi/',\n",
       " 'https://umminani.com/2023/02/restoran-mak-kimbong-bangi/',\n",
       " 'https://umminani.com/2023/02/restoran-mak-kimbong-bangi/']"
      ]
     },
     "execution_count": 3,
     "metadata": {},
     "output_type": "execute_result"
    }
   ],
   "source": [
    "a = soup.find_all('a', {'rel':\"bookmark\"})\n",
    "a = [a_.get('href') for a_ in a]\n",
    "a"
   ]
  },
  {
   "cell_type": "code",
   "execution_count": 4,
   "metadata": {},
   "outputs": [],
   "source": [
    "!mkdir url"
   ]
  },
  {
   "cell_type": "code",
   "execution_count": 5,
   "metadata": {},
   "outputs": [
    {
     "name": "stderr",
     "output_type": "stream",
     "text": [
      "100%|█████████████████████████████████████████| 145/145 [00:54<00:00,  2.68it/s]\n"
     ]
    }
   ],
   "source": [
    "for i in tqdm(range(1, 146, 1)):\n",
    "    filename = os.path.join('url', f'{i}.json')\n",
    "    if os.path.exists(filename):\n",
    "        continue\n",
    "    r = requests.get(f'https://umminani.com/page/{i}/')\n",
    "    soup = BeautifulSoup(r.content, \"lxml\")\n",
    "    a = soup.find_all('a', {'rel':\"bookmark\"})\n",
    "    a = [a_.get('href') for a_ in a]\n",
    "    \n",
    "    with open(filename, 'w') as fopen:\n",
    "        json.dump(a, fopen)"
   ]
  },
  {
   "cell_type": "code",
   "execution_count": null,
   "metadata": {},
   "outputs": [],
   "source": []
  }
 ],
 "metadata": {
  "kernelspec": {
   "display_name": "Python 3 (ipykernel)",
   "language": "python",
   "name": "python3"
  },
  "language_info": {
   "codemirror_mode": {
    "name": "ipython",
    "version": 3
   },
   "file_extension": ".py",
   "mimetype": "text/x-python",
   "name": "python",
   "nbconvert_exporter": "python",
   "pygments_lexer": "ipython3",
   "version": "3.8.10"
  }
 },
 "nbformat": 4,
 "nbformat_minor": 4
}
