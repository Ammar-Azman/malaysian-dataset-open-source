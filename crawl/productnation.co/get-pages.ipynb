{
 "cells": [
  {
   "cell_type": "code",
   "execution_count": 16,
   "metadata": {},
   "outputs": [],
   "source": [
    "import json\n",
    "\n",
    "with open('url.json') as fopen:\n",
    "    urls = json.load(fopen)"
   ]
  },
  {
   "cell_type": "code",
   "execution_count": 17,
   "metadata": {
    "scrolled": true
   },
   "outputs": [
    {
     "data": {
      "text/plain": [
       "'https://productnation.co/my/24973/shopee-11-11-promo-code-sale-malaysia/'"
      ]
     },
     "execution_count": 17,
     "metadata": {},
     "output_type": "execute_result"
    }
   ],
   "source": [
    "urls[1]['permalink']"
   ]
  },
  {
   "cell_type": "code",
   "execution_count": 10,
   "metadata": {},
   "outputs": [],
   "source": [
    "import requests\n",
    "from bs4 import BeautifulSoup\n",
    "\n",
    "cookies = {\n",
    "    'uuid': 'eyJpdiI6IjhZc2tMQ2FzWWd3cU1iY0hNRkQzM0E9PSIsInZhbHVlIjoiazV1RFB1dXB0NmhIcHorYjI1Q3M2TDNrdURvcGd4RU5lVno5cWRiUEJLdFlvQ08ybk5SM3NRTGZrTFZMaWk3NDVpaGkwditHRVNPVG9mdlM1S0ltYzFFOGdra0Z5SEh2cndudnJVUFJiY0U9IiwibWFjIjoiOGE3NDU4ZmU0NGM4MjMwYmZjYjVhYTgzMjY5OTZhNjEyMjIxMzY2MDYyNDA4M2Y2OTA1ODZiYTg2NGRlMDI5NCJ9',\n",
    "    'ezosuibasgeneris-1': 'cfd86c5d-2c8b-47d3-50a1-7726113dd42f',\n",
    "    'google-analytics_v4_6fab__ga4': 'e270e8d4-d16c-4962-a16e-279c50e0434a',\n",
    "    'google-analytics_v4_6fab___z_ga_audiences': 'e270e8d4-d16c-4962-a16e-279c50e0434a',\n",
    "    '_ga': 'GA1.2.114385680.1687931401',\n",
    "    '__qca': 'P0-2076946238-1687931401275',\n",
    "    '_gid': 'GA1.2.2126420403.1688142733',\n",
    "    'ezoadgid_64057': '-1',\n",
    "    'ezoref_64057': '',\n",
    "    'ezoab_64057': 'mod58',\n",
    "    'lp_64057': 'https://productnation.co/my/tech/',\n",
    "    'ezovuuid_64057': '9053984b-53b2-4480-6c97-c6c196995933',\n",
    "    'google-analytics_v4_6fab__ga4sid': '422161604',\n",
    "    'google-analytics_v4_6fab__session_counter': '4',\n",
    "    'ezux_ifep_64057': 'true',\n",
    "    'GCLB': 'CJmIwbOQiafNIQ',\n",
    "    'pn_user_viewed_products': 'eyJpdiI6Inh6TDk0Z1E5b0ZTanA0dUxnbDRwMGc9PSIsInZhbHVlIjoiMk5XYmRHdFVzME5XcHdoV1NnZkpXQUM1ZVNcLytcLzFuXC9SVG9wWitMUXB0YmRYOXhFOVMrbVNSMFQxS0tkQ1MwZlR5eUxiT1ZZWUdwNGNzaVowVXVMbVFqU2Y0ZEdBc0tkdkIzWDZraTExdW1KRHF0VE9oRkpkSXhDQVBPUWRNN3RoWFpJV2lrVmxrUHlYbkY2Q2xwRm9BPT0iLCJtYWMiOiI1YmY1N2RjMWJhZTgzZGZjMmEwYWI4MDBhMTQ1YmZkYjU0ZDI3OTc5ZWQ3ZWY5Y2JjN2QwNGM3NWNmNjhlN2UzIn0%3D',\n",
    "    'pn_user_viewed_posts-1': 'eyJpdiI6Ikh4NUptNEZUMzd0cFMwWjFNeFRWYnc9PSIsInZhbHVlIjoiZkc3XC9USmpyZnBmK1hcL1VmNTRWWG5qSFdIZHBYMzNscEFONlRvNVc4U204eHRNT3owU203ZFwvcWFJbGhDRkxPWmwrRGdGQWMxMkdCZWNmcXkzQXpyT2k0TGxyb2ZKcXlCNWZtT1wvMW40K3EzYzVFZVlmc1V5bEJuUnVoMnpyc0tmIiwibWFjIjoiMGI3YWFmMWE1MzJlODlmZGM1YWJkMmEwY2JlNGVhNDBhNzU5MTgyZjg1NDIxYjJiMjgwMjk3ZDZlNmExZWYyYiJ9',\n",
    "    'active_template::64057': 'orig_site.1688181997',\n",
    "    'ezovuuidtime_64057': '1688181997',\n",
    "    'ezopvc_64057': '18',\n",
    "    '_ga_8ZN2K4VESX': 'GS1.2.1688181081.4.1.1688181997.0.0.0',\n",
    "    'ezux_lpl_64057': '1688181998065|a8b66ddb-7d7f-4f67-5da2-7975fcbae0c9|true',\n",
    "    'XSRF-TOKEN': 'eyJpdiI6Ik8zNmZCXC9RWUU1azVYbk5BSXVud3pRPT0iLCJ2YWx1ZSI6Iks1dFVza1RBZHNaWmcyaVFwblBZZVRONjZwNVZFa1dpczFHN1ZxbmkwTGN2SEJCWGMyVlR3TFFNU1oxNitoVHpsYXJFSHFTc1NOazY3ZWVDbkhUOFlCd1RZdFBFcVhtMGM0VXF5QUY5SW1MWFp0NXN2Y2l3MVFrRUtZWVpRZE5NIiwibWFjIjoiOTA2ZmY4ODczZjdmNmE0YWUzNjk3YTJiNWRhYWZmYzYyMzdlNGViYWU0MDhkMDhmYzE2OTBkYTZhYzIyNmJlYSJ9',\n",
    "    'laravel_session': 'eyJpdiI6IlBoZWZabTRKT2wxTkdUeUNzeURPZHc9PSIsInZhbHVlIjoiOFZCck9NRUFiNDBCNFZ2ejEwUjdQSm44cTczQktvRllGSWpMM3h2VE11azU3UVdcL2dpWks5VEt6RzNaYjdIdE5rZHBzR1BSWjUxU3dWeEUyeUtRTERDNVwvNTNDXC9DSEFIbThRNitvYU1lK21sYklFWnFhNDNtM0piV082N2NaOW8iLCJtYWMiOiI2YjBhZDJlYjZlNDQ3YmNkMTU5YTk5Y2I3ZDA3NTEzMzVhNjliYWRmN2Y4NDA0ZTUzODMxZWQ4MjQ1N2FmMGRmIn0%3D',\n",
    "    'google-analytics_v4_6fab__counter': '23',\n",
    "    'google-analytics_v4_6fab__let': '1688182009653',\n",
    "    'google-analytics_v4_6fab__engagementPaused': '1688182009653',\n",
    "    'google-analytics_v4_6fab__engagementStart': '1688182049040',\n",
    "    'ezux_et_64057': '77',\n",
    "    'ezux_tos_64057': '8996',\n",
    "}\n",
    "\n",
    "headers = {\n",
    "    'authority': 'productnation.co',\n",
    "    'accept': 'text/html,application/xhtml+xml,application/xml;q=0.9,image/avif,image/webp,image/apng,*/*;q=0.8,application/signed-exchange;v=b3;q=0.7',\n",
    "    'accept-language': 'en-MY,en;q=0.9,en-US;q=0.8,ms;q=0.7',\n",
    "    'cache-control': 'no-cache',\n",
    "    # 'cookie': 'uuid=eyJpdiI6IjhZc2tMQ2FzWWd3cU1iY0hNRkQzM0E9PSIsInZhbHVlIjoiazV1RFB1dXB0NmhIcHorYjI1Q3M2TDNrdURvcGd4RU5lVno5cWRiUEJLdFlvQ08ybk5SM3NRTGZrTFZMaWk3NDVpaGkwditHRVNPVG9mdlM1S0ltYzFFOGdra0Z5SEh2cndudnJVUFJiY0U9IiwibWFjIjoiOGE3NDU4ZmU0NGM4MjMwYmZjYjVhYTgzMjY5OTZhNjEyMjIxMzY2MDYyNDA4M2Y2OTA1ODZiYTg2NGRlMDI5NCJ9; ezosuibasgeneris-1=cfd86c5d-2c8b-47d3-50a1-7726113dd42f; google-analytics_v4_6fab__ga4=e270e8d4-d16c-4962-a16e-279c50e0434a; google-analytics_v4_6fab___z_ga_audiences=e270e8d4-d16c-4962-a16e-279c50e0434a; _ga=GA1.2.114385680.1687931401; __qca=P0-2076946238-1687931401275; _gid=GA1.2.2126420403.1688142733; ezoadgid_64057=-1; ezoref_64057=; ezoab_64057=mod58; lp_64057=https://productnation.co/my/tech/; ezovuuid_64057=9053984b-53b2-4480-6c97-c6c196995933; google-analytics_v4_6fab__ga4sid=422161604; google-analytics_v4_6fab__session_counter=4; ezux_ifep_64057=true; GCLB=CJmIwbOQiafNIQ; pn_user_viewed_products=eyJpdiI6Inh6TDk0Z1E5b0ZTanA0dUxnbDRwMGc9PSIsInZhbHVlIjoiMk5XYmRHdFVzME5XcHdoV1NnZkpXQUM1ZVNcLytcLzFuXC9SVG9wWitMUXB0YmRYOXhFOVMrbVNSMFQxS0tkQ1MwZlR5eUxiT1ZZWUdwNGNzaVowVXVMbVFqU2Y0ZEdBc0tkdkIzWDZraTExdW1KRHF0VE9oRkpkSXhDQVBPUWRNN3RoWFpJV2lrVmxrUHlYbkY2Q2xwRm9BPT0iLCJtYWMiOiI1YmY1N2RjMWJhZTgzZGZjMmEwYWI4MDBhMTQ1YmZkYjU0ZDI3OTc5ZWQ3ZWY5Y2JjN2QwNGM3NWNmNjhlN2UzIn0%3D; pn_user_viewed_posts-1=eyJpdiI6Ikh4NUptNEZUMzd0cFMwWjFNeFRWYnc9PSIsInZhbHVlIjoiZkc3XC9USmpyZnBmK1hcL1VmNTRWWG5qSFdIZHBYMzNscEFONlRvNVc4U204eHRNT3owU203ZFwvcWFJbGhDRkxPWmwrRGdGQWMxMkdCZWNmcXkzQXpyT2k0TGxyb2ZKcXlCNWZtT1wvMW40K3EzYzVFZVlmc1V5bEJuUnVoMnpyc0tmIiwibWFjIjoiMGI3YWFmMWE1MzJlODlmZGM1YWJkMmEwY2JlNGVhNDBhNzU5MTgyZjg1NDIxYjJiMjgwMjk3ZDZlNmExZWYyYiJ9; active_template::64057=orig_site.1688181997; ezovuuidtime_64057=1688181997; ezopvc_64057=18; _ga_8ZN2K4VESX=GS1.2.1688181081.4.1.1688181997.0.0.0; ezux_lpl_64057=1688181998065|a8b66ddb-7d7f-4f67-5da2-7975fcbae0c9|true; XSRF-TOKEN=eyJpdiI6Ik8zNmZCXC9RWUU1azVYbk5BSXVud3pRPT0iLCJ2YWx1ZSI6Iks1dFVza1RBZHNaWmcyaVFwblBZZVRONjZwNVZFa1dpczFHN1ZxbmkwTGN2SEJCWGMyVlR3TFFNU1oxNitoVHpsYXJFSHFTc1NOazY3ZWVDbkhUOFlCd1RZdFBFcVhtMGM0VXF5QUY5SW1MWFp0NXN2Y2l3MVFrRUtZWVpRZE5NIiwibWFjIjoiOTA2ZmY4ODczZjdmNmE0YWUzNjk3YTJiNWRhYWZmYzYyMzdlNGViYWU0MDhkMDhmYzE2OTBkYTZhYzIyNmJlYSJ9; laravel_session=eyJpdiI6IlBoZWZabTRKT2wxTkdUeUNzeURPZHc9PSIsInZhbHVlIjoiOFZCck9NRUFiNDBCNFZ2ejEwUjdQSm44cTczQktvRllGSWpMM3h2VE11azU3UVdcL2dpWks5VEt6RzNaYjdIdE5rZHBzR1BSWjUxU3dWeEUyeUtRTERDNVwvNTNDXC9DSEFIbThRNitvYU1lK21sYklFWnFhNDNtM0piV082N2NaOW8iLCJtYWMiOiI2YjBhZDJlYjZlNDQ3YmNkMTU5YTk5Y2I3ZDA3NTEzMzVhNjliYWRmN2Y4NDA0ZTUzODMxZWQ4MjQ1N2FmMGRmIn0%3D; google-analytics_v4_6fab__counter=23; google-analytics_v4_6fab__let=1688182009653; google-analytics_v4_6fab__engagementPaused=1688182009653; google-analytics_v4_6fab__engagementStart=1688182049040; ezux_et_64057=77; ezux_tos_64057=8996',\n",
    "    'pragma': 'no-cache',\n",
    "    'sec-ch-ua': '\"Not.A/Brand\";v=\"8\", \"Chromium\";v=\"114\", \"Google Chrome\";v=\"114\"',\n",
    "    'sec-ch-ua-mobile': '?0',\n",
    "    'sec-ch-ua-platform': '\"macOS\"',\n",
    "    'sec-fetch-dest': 'document',\n",
    "    'sec-fetch-mode': 'navigate',\n",
    "    'sec-fetch-site': 'none',\n",
    "    'sec-fetch-user': '?1',\n",
    "    'upgrade-insecure-requests': '1',\n",
    "    'user-agent': 'Mozilla/5.0 (Macintosh; Intel Mac OS X 10_15_7) AppleWebKit/537.36 (KHTML, like Gecko) Chrome/114.0.0.0 Safari/537.36',\n",
    "}\n",
    "\n",
    "r = requests.get('https://productnation.co/my/24973/shopee-11-11-promo-code-sale-malaysia/',\n",
    "                cookies=cookies,\n",
    "    headers=headers,)"
   ]
  },
  {
   "cell_type": "code",
   "execution_count": 22,
   "metadata": {},
   "outputs": [
    {
     "name": "stderr",
     "output_type": "stream",
     "text": [
      " 69%|██████████████████████████▊            | 3787/5507 [35:28<16:27,  1.74it/s]IOPub message rate exceeded.\n",
      "The notebook server will temporarily stop sending output\n",
      "to the client in order to avoid crashing it.\n",
      "To change this limit, set the config variable\n",
      "`--NotebookApp.iopub_msg_rate_limit`.\n",
      "\n",
      "Current values:\n",
      "NotebookApp.iopub_msg_rate_limit=1000.0 (msgs/sec)\n",
      "NotebookApp.rate_limit_window=3.0 (secs)\n",
      "\n"
     ]
    }
   ],
   "source": [
    "from tqdm import tqdm\n",
    "\n",
    "data = []\n",
    "\n",
    "for url in tqdm(urls):\n",
    "    r = requests.get(url['permalink'],\n",
    "                cookies=cookies,\n",
    "    headers=headers,)\n",
    "    soup = BeautifulSoup(r.content, \"lxml\")\n",
    "    try:\n",
    "        title = soup.find('h1').text\n",
    "    except:\n",
    "        title = None\n",
    "    try:\n",
    "        p = soup.find_all('p')\n",
    "        p = [p_.text for p_ in p]\n",
    "    except:\n",
    "        p = []\n",
    "    \n",
    "    data.append({\n",
    "        'url': url,\n",
    "        'title': title,\n",
    "        'p': p\n",
    "    })"
   ]
  },
  {
   "cell_type": "code",
   "execution_count": 23,
   "metadata": {},
   "outputs": [
    {
     "data": {
      "text/plain": [
       "5507"
      ]
     },
     "execution_count": 23,
     "metadata": {},
     "output_type": "execute_result"
    }
   ],
   "source": [
    "len(data)"
   ]
  },
  {
   "cell_type": "code",
   "execution_count": 25,
   "metadata": {},
   "outputs": [],
   "source": [
    "with open('data.json', 'w') as fopen:\n",
    "    json.dump(data, fopen)"
   ]
  }
 ],
 "metadata": {
  "kernelspec": {
   "display_name": "Python 3 (ipykernel)",
   "language": "python",
   "name": "python3"
  },
  "language_info": {
   "codemirror_mode": {
    "name": "ipython",
    "version": 3
   },
   "file_extension": ".py",
   "mimetype": "text/x-python",
   "name": "python",
   "nbconvert_exporter": "python",
   "pygments_lexer": "ipython3",
   "version": "3.8.10"
  }
 },
 "nbformat": 4,
 "nbformat_minor": 4
}
