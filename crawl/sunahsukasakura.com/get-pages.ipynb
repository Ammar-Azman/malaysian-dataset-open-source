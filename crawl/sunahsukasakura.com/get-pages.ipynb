{
 "cells": [
  {
   "cell_type": "code",
   "execution_count": 1,
   "metadata": {},
   "outputs": [],
   "source": [
    "import requests\n",
    "from bs4 import BeautifulSoup\n",
    "from tqdm import tqdm\n",
    "import os\n",
    "import json\n",
    "import numpy as np\n",
    "import time\n",
    "import random\n",
    "import json\n",
    "from concurrent.futures import ThreadPoolExecutor, as_completed\n",
    "from datetime import datetime, timedelta"
   ]
  },
  {
   "cell_type": "code",
   "execution_count": 2,
   "metadata": {},
   "outputs": [],
   "source": [
    "with open('sunahsukasakura.com-urls.json') as fopen:\n",
    "    urls = sorted(json.load(fopen))"
   ]
  },
  {
   "cell_type": "code",
   "execution_count": 3,
   "metadata": {},
   "outputs": [],
   "source": [
    "r = requests.get(urls[0])\n",
    "soup = BeautifulSoup(r.content, \"lxml\")"
   ]
  },
  {
   "cell_type": "code",
   "execution_count": 6,
   "metadata": {},
   "outputs": [
    {
     "data": {
      "text/plain": [
       "'Di Atas Sajadah Cinta'"
      ]
     },
     "execution_count": 6,
     "metadata": {},
     "output_type": "execute_result"
    }
   ],
   "source": [
    "soup.find('h1', {'class': 'post-title'}).text.strip()"
   ]
  },
  {
   "cell_type": "code",
   "execution_count": 8,
   "metadata": {},
   "outputs": [
    {
     "data": {
      "text/plain": [
       "'Salam...kali ini, buku yang ingin ana perkenalkan buat anda semua ialah buku hasil karya Habibburahman El-Shirazy (penulis tersohor Indonesia - novel Ayat-ayat Cinta) yang bertajuk Di Atas Sajadah Cinta. Membaca cerita-cerita pendek di dalam buku ini tidak mengecewakan, isinya menarik sebagaimana novel Ayat-ayat Cinta. Kisah-kisah para sahabat dan ulama silam di dalam buku setebal 308 muka surat ini mampu membuatkan anda yang benar-benar menghayatinya menitiskan air mata keinsafan. \"Tangis Cinta di Masjid Basrah\" contohnya, mengisahkan tentang Imam Hassan al-Basri yang sedang memberi ceramah di Masjid Basrah. Beliau di dalam cerita ini menangis sehingga pengsan kerana sangat takut azab ALLAH kepada orang-orang yang zalim. Yang lebih menariknya, diselitkan kisah seorang wanita ahli ibadah yang sudah bosan hidup di dunia kerana terlalu rindukan TUHANnya. Anak wanita itu juga warak seperti ibunya, sangat mencintai kematian sehingga rindu untuk berjumpa dengan Sang Khaliq itu melebihi rasa cinta kepada ibunya sendiri. Rasa takut pada azab ALLAH menyebabkan kedua anak-beranak ini menangis tersedu-sedan dan sesuatu yang tidak dijangka berlaku apabila kedua-duanya meninggal dunia di situ juga. Ibu dan anaknya meninggal dunia kerana rasa cinta dan rasa rindu pada TUHANnya yang diselimuti rasa takut luar biasa kalau-kalau kelak mendapat azab dari TUHANnya. Kisah \"Nyanyian Cinta\" - antara kisah terpanjang dalam buku ini pula menceritakan tentang mahasiswa Universiti al-Azhar yang bernama Mahmud yang belajar sambil bekerja untuk membiayai kehidupannya di Mesir sepanjang pengajian. Bekerja menjual buku-buku agama dan kaset-kaset ceramah di hadapan Masjid el-Fath membuka pintu rezekinya seluas-luasnya sehingga beliau menemui seorang zaujah untuk dirinya kerana budi yang telah ditabur ikhlas demi ALLAH. Banyak lagi kisah menarik di dalam buku ini yang patut dibaca oleh Muslim yang ingin meneguhkan iman dan mententeramkan jiwa serta mendekatkan lagi diri kepada PENCIPTA cinta. Ana dah promosikan, jadi apa lagi yang ditunggu, dapatkanlah buku ini dan hayatilah kisah-kisah di dalamnya. =)'"
      ]
     },
     "execution_count": 8,
     "metadata": {},
     "output_type": "execute_result"
    }
   ],
   "source": [
    "soup.find('div', {'class': 'post-body'}).get_text(separator=\"\\n\").strip()"
   ]
  },
  {
   "cell_type": "code",
   "execution_count": 9,
   "metadata": {},
   "outputs": [
    {
     "name": "stderr",
     "output_type": "stream",
     "text": [
      "100%|███████████████████████████████████████████████████████████████████████████████████████████████████████| 4163/4163 [1:26:56<00:00,  1.25s/it]\n"
     ]
    }
   ],
   "source": [
    "data = []\n",
    "for url in tqdm(urls):\n",
    "    r = requests.get(url)\n",
    "    soup = BeautifulSoup(r.content, \"lxml\")\n",
    "    title = soup.find('h1', {'class': 'post-title'}).text.strip()\n",
    "    body = soup.find('div', {'class': 'post-body'}).get_text(separator=\"\\n\").strip()\n",
    "    data.append({\n",
    "        'url': url,\n",
    "        'title': title,\n",
    "        'body': body,\n",
    "    })"
   ]
  },
  {
   "cell_type": "code",
   "execution_count": 11,
   "metadata": {},
   "outputs": [],
   "source": [
    "with open('sunahsukasakura.com.jsonl', 'w') as fopen:\n",
    "    for d in data:\n",
    "        fopen.write(f'{json.dumps(d)}\\n')"
   ]
  }
 ],
 "metadata": {
  "kernelspec": {
   "display_name": "Python 3 (ipykernel)",
   "language": "python",
   "name": "python3"
  },
  "language_info": {
   "codemirror_mode": {
    "name": "ipython",
    "version": 3
   },
   "file_extension": ".py",
   "mimetype": "text/x-python",
   "name": "python",
   "nbconvert_exporter": "python",
   "pygments_lexer": "ipython3",
   "version": "3.8.10"
  }
 },
 "nbformat": 4,
 "nbformat_minor": 4
}
