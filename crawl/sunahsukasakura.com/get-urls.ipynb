{
 "cells": [
  {
   "cell_type": "code",
   "execution_count": 1,
   "metadata": {},
   "outputs": [],
   "source": [
    "import requests\n",
    "from bs4 import BeautifulSoup\n",
    "from tqdm import tqdm\n",
    "import os\n",
    "import json\n",
    "import numpy as np\n",
    "import time\n",
    "import random\n",
    "import json\n",
    "from concurrent.futures import ThreadPoolExecutor, as_completed\n",
    "from datetime import datetime, timedelta"
   ]
  },
  {
   "cell_type": "code",
   "execution_count": 2,
   "metadata": {},
   "outputs": [],
   "source": [
    "def generator():\n",
    "    while True:\n",
    "        yield"
   ]
  },
  {
   "cell_type": "code",
   "execution_count": 3,
   "metadata": {},
   "outputs": [
    {
     "data": {
      "text/plain": [
       "6826"
      ]
     },
     "execution_count": 3,
     "metadata": {},
     "output_type": "execute_result"
    }
   ],
   "source": [
    "from datetime import timedelta, date\n",
    "\n",
    "def daterange(date1, date2):\n",
    "    for n in range(int ((date2 - date1).days)+1):\n",
    "        yield date1 + timedelta(n)\n",
    "\n",
    "start_dt = date(2005, 1, 1)\n",
    "end_dt = date(2023, 9, 9)\n",
    "dates = []\n",
    "for dt in daterange(start_dt, end_dt):\n",
    "    dates.append(dt.strftime(\"%Y-%m-%d\"))\n",
    "    \n",
    "dates = dates[::-1]\n",
    "len(dates)"
   ]
  },
  {
   "cell_type": "code",
   "execution_count": 7,
   "metadata": {},
   "outputs": [],
   "source": [
    "def crawl(url):\n",
    "    r = requests.get(url)\n",
    "    soup = BeautifulSoup(r.content, \"lxml\")\n",
    "    a = soup.find_all('h2', {'class': 'post-title'})\n",
    "    a = [a_.find('a').get('href') for a_ in a if a_ and len(a_.find('a').get('href', ''))]\n",
    "    return a"
   ]
  },
  {
   "cell_type": "code",
   "execution_count": 8,
   "metadata": {},
   "outputs": [
    {
     "data": {
      "text/plain": [
       "['https://www.sunahsukasakura.com/2023/07/gathering-makan-makan-dengan-fans.html',\n",
       " 'https://www.sunahsukasakura.com/2023/07/apa-beza-warna-penutup-botol-air-mineral.html',\n",
       " 'https://www.sunahsukasakura.com/2023/07/resepi-gulai-kerisik-daging-arwah-mak.html',\n",
       " 'https://www.sunahsukasakura.com/2023/07/lirik-lagu-enchanted-by-taylor-swift.html',\n",
       " 'https://www.sunahsukasakura.com/2023/07/ikan-selar-goreng-kicap-untuk-lunch.html',\n",
       " 'https://www.sunahsukasakura.com/2023/07/ww-rose-caramel-latte.html',\n",
       " 'https://www.sunahsukasakura.com/2023/07/gulai-kerisik-dan-asam-pedas-daging.html',\n",
       " 'https://www.sunahsukasakura.com/2023/07/lawatan-ke-kandang-kambing-yang-aneh.html',\n",
       " 'https://www.sunahsukasakura.com/2023/07/lirik-lagu-cinta-terakhir-by-aiman-sidek.html',\n",
       " 'https://www.sunahsukasakura.com/2023/06/juadah-raya-aidil-adha-2023.html',\n",
       " 'https://www.sunahsukasakura.com/2022/09/sayyidul-istighfar-penghulu-istighfar.html',\n",
       " 'https://www.sunahsukasakura.com/2022/09/sarapan-mee-goreng-sis-lin.html',\n",
       " 'https://www.sunahsukasakura.com/2022/09/wordless-wednesday-unakite-stone.html',\n",
       " 'https://www.sunahsukasakura.com/2023/07/lirik-lagu-retak-hatiku-iera-milpan.html',\n",
       " 'https://www.sunahsukasakura.com/2023/07/lirik-lagu-wanita-terbaik-furqan-fawwaz.html',\n",
       " 'https://www.sunahsukasakura.com/2023/04/lirik-lagu-sial-mahalini.html',\n",
       " 'https://www.sunahsukasakura.com/2023/07/makan-sushi-king-redeem-complimentary.html',\n",
       " 'https://www.sunahsukasakura.com/2023/07/menu-sarapan-di-resto-rumah-mas-johor-bahru.html',\n",
       " 'https://www.sunahsukasakura.com/2023/09/fly-ke-jeju-naik-subway-dari-rumah-ke.html',\n",
       " 'https://www.sunahsukasakura.com/2023/09/terima-kasih-kawan-kawan-yang-hantar.html']"
      ]
     },
     "execution_count": 8,
     "metadata": {},
     "output_type": "execute_result"
    }
   ],
   "source": [
    "crawl('https://www.sunahsukasakura.com/search?updated-max=2023-07-10T12:20:00%2B08:00&max-results=10&by-date=false')"
   ]
  },
  {
   "cell_type": "code",
   "execution_count": 14,
   "metadata": {},
   "outputs": [
    {
     "name": "stderr",
     "output_type": "stream",
     "text": [
      "100%|█████████████████████████████████████████| 683/683 [18:15<00:00,  1.60s/it]\n"
     ]
    }
   ],
   "source": [
    "from concurrent.futures import ThreadPoolExecutor, as_completed\n",
    "\n",
    "max_worker = 10\n",
    "\n",
    "data = []\n",
    "for i in tqdm(range(0, len(dates), max_worker)):\n",
    "    b = dates[i: i + max_worker]\n",
    "    urls = [f'https://www.sunahsukasakura.com/search?updated-max={t}T12:20:00%2B08:00&max-results=10&by-date=false' for t in b]\n",
    "    done = False\n",
    "    with ThreadPoolExecutor(max_workers=max_worker) as executor:\n",
    "        futures = {executor.submit(crawl, url): url for url in urls}\n",
    "        \n",
    "        for future in as_completed(futures):\n",
    "            r = future.result()\n",
    "            data.extend(r)\n",
    "            if not len(r):\n",
    "                done = True\n",
    "    \n",
    "    if done:\n",
    "        break"
   ]
  },
  {
   "cell_type": "code",
   "execution_count": 15,
   "metadata": {
    "scrolled": true
   },
   "outputs": [
    {
     "data": {
      "text/plain": [
       "4163"
      ]
     },
     "execution_count": 15,
     "metadata": {},
     "output_type": "execute_result"
    }
   ],
   "source": [
    "len(set(data))"
   ]
  },
  {
   "cell_type": "code",
   "execution_count": 16,
   "metadata": {},
   "outputs": [],
   "source": [
    "with open('sunahsukasakura.com-urls.json', 'w') as fopen:\n",
    "    json.dump(list(set(data)), fopen)"
   ]
  }
 ],
 "metadata": {
  "kernelspec": {
   "display_name": "Python 3 (ipykernel)",
   "language": "python",
   "name": "python3"
  },
  "language_info": {
   "codemirror_mode": {
    "name": "ipython",
    "version": 3
   },
   "file_extension": ".py",
   "mimetype": "text/x-python",
   "name": "python",
   "nbconvert_exporter": "python",
   "pygments_lexer": "ipython3",
   "version": "3.8.10"
  }
 },
 "nbformat": 4,
 "nbformat_minor": 4
}
