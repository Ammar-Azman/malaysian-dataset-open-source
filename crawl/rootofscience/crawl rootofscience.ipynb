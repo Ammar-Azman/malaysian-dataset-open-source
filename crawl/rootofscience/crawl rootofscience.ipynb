{
 "cells": [
  {
   "cell_type": "code",
   "execution_count": 1,
   "id": "f9e76d1d",
   "metadata": {},
   "outputs": [],
   "source": [
    "from bs4 import BeautifulSoup\n",
    "import pandas as pd\n",
    "import json\n",
    "import requests\n",
    "from urllib.request import urlopen\n",
    "from datetime import datetime\n",
    "from tqdm import tqdm\n",
    "import time"
   ]
  },
  {
   "cell_type": "code",
   "execution_count": 7,
   "id": "94fee3f2",
   "metadata": {},
   "outputs": [
    {
     "name": "stderr",
     "output_type": "stream",
     "text": [
      "100%|██████████| 115/115 [03:38<00:00,  1.90s/it]\n"
     ]
    }
   ],
   "source": [
    "hrefs = []\n",
    "for i in tqdm(range(1,116)):\n",
    "\n",
    "    while True:\n",
    "        try:\n",
    "            r = requests.get(f'https://rootofscience.com/blog/page/{i}',headers = {'User-Agent': 'Mozilla/5.0 (Windows NT 6.1; WOW64) AppleWebKit/537.36 (KHTML, like Gecko) Chrome/56.0.2924.76 Safari/537.36'})\n",
    "            break\n",
    "        except:\n",
    "            time.sleep(1.0)\n",
    "    \n",
    "    soup = BeautifulSoup(r.text, \"lxml\")\n",
    "\n",
    "    for link in soup.find_all('h2', attrs = {\"class\":\"blog-entry-title entry-title\"}):\n",
    "\n",
    "        href = link.find('a').get('href')\n",
    "        hrefs.append(href)\n"
   ]
  },
  {
   "cell_type": "code",
   "execution_count": 8,
   "id": "7e0314a4",
   "metadata": {},
   "outputs": [
    {
     "data": {
      "text/plain": [
       "1147"
      ]
     },
     "execution_count": 8,
     "metadata": {},
     "output_type": "execute_result"
    }
   ],
   "source": [
    "len(hrefs)"
   ]
  },
  {
   "cell_type": "code",
   "execution_count": 10,
   "id": "08f319f4",
   "metadata": {},
   "outputs": [
    {
     "name": "stderr",
     "output_type": "stream",
     "text": [
      "100%|██████████| 1147/1147 [19:50<00:00,  1.04s/it]\n"
     ]
    }
   ],
   "source": [
    "for i in tqdm(hrefs):\n",
    "\n",
    "    while True:\n",
    "        try:\n",
    "            r = requests.get(i,headers = {'User-Agent': 'Mozilla/5.0 (Windows NT 6.1; WOW64) AppleWebKit/537.36 (KHTML, like Gecko) Chrome/56.0.2924.76 Safari/537.36'})\n",
    "            break\n",
    "        except:\n",
    "            time.sleep(1.0)\n",
    "    \n",
    "    soup = BeautifulSoup(r.text, \"lxml\")\n",
    "\n",
    "    try:\n",
    "        headline = soup.find('h1', attrs = {'class':\"title entry-title\"}).text\n",
    "        h = soup.find('div', attrs = {'class':\"nv-content-wrap entry-content\"})\n",
    "        x = [p.text for p in h.find_all(['p','h2','ul','ol']) if p.text and len(p.text.split()) > 3]\n",
    "    except Exception as e:\n",
    "        print('error in link:'+ i)\n",
    "        print(e)\n",
    "        continue\n",
    "\n",
    "    data = {'url': i, 'headline': headline, 'content': x}\n",
    "\n",
    "    with open('rootofscience.jsonl', 'a') as f:\n",
    "        json.dump(data, f)\n",
    "        f.write('\\n') #untuk buat new line\n"
   ]
  },
  {
   "cell_type": "code",
   "execution_count": null,
   "id": "c253d431",
   "metadata": {},
   "outputs": [],
   "source": []
  },
  {
   "cell_type": "code",
   "execution_count": null,
   "id": "6a9fcec0",
   "metadata": {},
   "outputs": [],
   "source": []
  },
  {
   "cell_type": "code",
   "execution_count": null,
   "id": "d11dd4e7",
   "metadata": {},
   "outputs": [],
   "source": []
  },
  {
   "cell_type": "code",
   "execution_count": null,
   "id": "21243a87",
   "metadata": {},
   "outputs": [],
   "source": []
  },
  {
   "cell_type": "code",
   "execution_count": null,
   "id": "622c2398",
   "metadata": {},
   "outputs": [],
   "source": []
  },
  {
   "cell_type": "code",
   "execution_count": null,
   "id": "8d65d57b",
   "metadata": {},
   "outputs": [],
   "source": []
  },
  {
   "cell_type": "code",
   "execution_count": null,
   "id": "323bb210",
   "metadata": {},
   "outputs": [],
   "source": []
  },
  {
   "cell_type": "code",
   "execution_count": null,
   "id": "9c9c6f21",
   "metadata": {},
   "outputs": [],
   "source": []
  },
  {
   "cell_type": "code",
   "execution_count": null,
   "id": "6b04bd8c",
   "metadata": {},
   "outputs": [],
   "source": []
  }
 ],
 "metadata": {
  "kernelspec": {
   "display_name": "Python 3 (ipykernel)",
   "language": "python",
   "name": "python3"
  },
  "language_info": {
   "codemirror_mode": {
    "name": "ipython",
    "version": 3
   },
   "file_extension": ".py",
   "mimetype": "text/x-python",
   "name": "python",
   "nbconvert_exporter": "python",
   "pygments_lexer": "ipython3",
   "version": "3.11.4"
  }
 },
 "nbformat": 4,
 "nbformat_minor": 5
}
