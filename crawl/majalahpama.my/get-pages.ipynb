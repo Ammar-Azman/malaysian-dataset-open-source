{
 "cells": [
  {
   "cell_type": "code",
   "execution_count": 1,
   "metadata": {},
   "outputs": [],
   "source": [
    "import requests\n",
    "from bs4 import BeautifulSoup\n",
    "from tqdm import tqdm\n",
    "import os\n",
    "import json\n",
    "import numpy as np\n",
    "import time\n",
    "import random\n",
    "import json\n",
    "import urllib3\n",
    "urllib3.disable_warnings(urllib3.exceptions.InsecureRequestWarning)"
   ]
  },
  {
   "cell_type": "code",
   "execution_count": 9,
   "metadata": {},
   "outputs": [
    {
     "name": "stderr",
     "output_type": "stream",
     "text": [
      "100%|████████████████████████████████████| 3469/3469 [00:00<00:00, 12280.13it/s]\n"
     ]
    },
    {
     "data": {
      "text/plain": [
       "(18696, 3469)"
      ]
     },
     "execution_count": 9,
     "metadata": {},
     "output_type": "execute_result"
    }
   ],
   "source": [
    "from glob import glob\n",
    "\n",
    "files = glob('url/*.json')\n",
    "urls = []\n",
    "for f in tqdm(files):\n",
    "    with open(f) as fopen:\n",
    "        d = json.load(fopen)\n",
    "        urls.extend(d)\n",
    "urls = sorted(list(set(urls)))\n",
    "len(urls), len(files)"
   ]
  },
  {
   "cell_type": "code",
   "execution_count": 10,
   "metadata": {},
   "outputs": [],
   "source": [
    "r = requests.get(urls[0])\n",
    "soup = BeautifulSoup(r.content, \"lxml\")"
   ]
  },
  {
   "cell_type": "code",
   "execution_count": 11,
   "metadata": {},
   "outputs": [
    {
     "data": {
      "text/plain": [
       "'\\u200b\\u200b\\u200b\\u200b\\u200b\\u200b\\u200bIsteri Yang Dibantu Suami, Isteri Bahagia. Bukan Harap Duit & Emas, Cukuplah Rajin Tolong!'"
      ]
     },
     "execution_count": 11,
     "metadata": {},
     "output_type": "execute_result"
    }
   ],
   "source": [
    "soup.find('h1').text"
   ]
  },
  {
   "cell_type": "code",
   "execution_count": 12,
   "metadata": {},
   "outputs": [
    {
     "data": {
      "text/plain": [
       "'Home\\n \\n \\nKeibubapaan\\n \\n \\n\\u200b\\u200b\\u200b\\u200b\\u200b\\u200b\\u200bIsteri Yang Dibantu Suami, Isteri Bahagia. Bukan Harap Duit & Emas, Cukuplah...\\n\\u200b\\u200b\\u200b\\u200b\\u200b\\u200b\\u200bIsteri Yang Dibantu Suami, Isteri Bahagia. Bukan Harap Duit & Emas, Cukuplah Rajin Tolong!\\nBy\\n \\nWan Amalia Mohd Daud\\n -\\n \\nJune 21, 2020\\n \\n \\nMendirikan rumah tangga adalah satu keputusan paling besar yang perlu dilakukan oleh setiap individu seumur hidupnya.\\nPerlu juga faham perkahwinan bukanlah sesuatu perkara yang remeh-temeh. Ia melibatkan penyatuan hati dua insan yang bersetuju untuk sentiasa bersama tidak kira susah atau senang. Termasuklah saling membantu satu sama lain menjaga amanah dari Allah iaitu dengan kehadiran zuriat.\\n \\n \\n \\nNamun dalam melayari rumah tangga, sebagai seorang suami atau isteri pernah tak terlintas di fikiran apakah yang kita lakukan itu sebenarnya boleh meringankan beban pasangan atau sebaliknya.\\nARTIKEL MENARIK\\n [\\nIsteri Merajuk, Suami Pujuk. Suami Marah, Isteri Mesti Jaga Mulut. Itu Kebahagiaan Rumah Tangga!\\n]\\xa0\\nPerkongsian dari seorang suami yang telah kematian isteri dan juga bapa kepada tiga anak lelaki,\\xa0\\nKhairul Abdullah\\n sempena Hari Bapa cukup memberi kesan yang mendalam betapa nikmatnya kita masih berpeluang mempunyai pasangan untuk saling melengkapi dan menguruskan rumah tangga dan anak-anak bersama.\\nIsteri Hanya Nak Suami Tolong \\nSaya selalu wonder, apa yang arwah isteri harapkan kepada saya sebagai seorang suami dan juga seorang bapa? Adakah cukup dengan bagi dia anak dan bagi duit setiap bulan?\\nIKLAN\\n \\n \\nTidak.\\nYa, seorang isteri harapkan lebih daripada itu. Bukan dia minta pada saya wang berjuta, namun kalau ada itulah bonus untuk dia. Biasanya dia cuma minta keberadaan saya sebagai suami dalam mengharungi urusan rumah tangga bersama.\\nSenang cakap, dia nak suami tolong dia.\\nYer, seorang isteri sangat mengharap untuk dibantu. Semua isteri mahu dibantu dalam menguruskan rumah tangga.\\nSama-sama bangun malam tukarkan lampin anak. Sama-sama membantu mengemas rumah terutamanya cuci toilet tu. Sama-sama basuh pinggan dan cawan selepas makan. Sama-sama jemur kain baju di ampaian dan sama-sama kutip mainan anak-anak yang mana bila terpijak boleh membakar jiwa.\\nInilah yang paling dia nak sebab kerja mengurus rumah tangga ni adalah sangat berat dan memenatkan. Nampak macam mudah, tetapi hakikatnya memeritkan fizikal dan juga emosi. So bila dibantu dan buat bersama-sama beban tu hilang separuh.\\nIKLAN\\n \\n \\nIsteri Yang Dibantu, Isteri Bahagia \\nSesungguhnya, isteri yang dibantu adalah isteri yang bahagia.\\nKita sebagai suami dan ayah ni adalah role model kepada anak-anak. Budak-budak ni belajar melalui pemerhatian. Depa perhati sahaja apa kita buat dan ikut.\\nKalau kita jenis asyik tengok tv maka depa pun akan jadi macam tu. Kalau kita jenis lepas makan tinggal pinggan di meja maka depa pun akan ikut macam tu. Kalau kita jenis buka baju dan seluar main campak merata maka anak-anak juga akan ikut begitu.\\nSuami Rajin, Tak Pernah Berkira, Itulah Hero Isteri & Anak\\nIKLAN\\n \\n \\nJadi, sempena hari bapa ni jomlah kita muhasabah balik diri kita ni. Sempurnakah kita sebagai seorang suami kepada isteri dan bapa kepada anak-anak.\\nAdakah kita role model yang terbaik untuk mereka. Adakah anak-anak akan bangga dengan apa yang kita lakukan. Paling penting adakah mereka bangga dengan cara kita melayan ibu mereka.\\nYang belum pernah basuh pinggan sendiri, yang belum pernah cuci toilet dan mop lantai, yang belum pernah jemur baju, yang belum penah basuh berak dan tukar lampin anak, yang belum tahu cara buat susu, jomlah kita mulakan pada hari ini.\\nJadikan hari bapa hari ini sebagai titik baru dalam hidup kita sebagai seorang suami dan juga seorang bapa yang awesome.\\nSemoga satu hari nanti, isteri akan bangga mengatakan yang “itulah suami saya” dan anak-anak dengan bangga menunjukkan “itulah ayah saya.”\\n\\n\\n\\n\\nSelamat Hari Bapa buat semua.\\nSumber: \\nKhairul Abdullah\\nRelated posts:\\nBuat Isteri Bahagia, Bukan Cukup Bulan Hulur Duit. Suami Tolong & Memahami Satu Bonus\\xa0 \\nSuami Tak Berkira Tolong Isteri, Rajin Masuk Dapur Barulah ‘Hero’. Isteri Pun Boleh Senyum!\\xa0 \\xa0 \\nBerkahwin Bukan Untuk Cari Pembantu. Tugas Di Rumah, Suami Bantulah Isteri! \\nIsteri Paling Suka Bila Suami Hargai Masakannya. Walaupun Simple Tengok Suami Makan Pun Puas Hati \\n \\n \\n \\n \\n\\n\\n\\n\\n \\n \\nWan Amalia Mohd Daud\\nRELATED ARTICLES\\nMORE FROM AUTHOR\\nTak Sedar Anak Perlukan Bantuan Segera, Nampak 5 Perangai Ni Mak Ayah Kena Cepat Bertindak!\\n“Apa Kami Makan, Anak Excited Nak Cuba” Anak Tak Cerewet Makan Waktu Bercuti, Jofliam Lega!\\n“Lepas Maghrib Je Dia Mula Menangis” Tak Mudah Jadi Mak Ayah, Datuk Aliff Syukri Titip Pesanan!\\n \\n \\n \\n \\nMesti Baca!\\n“Petra Banyak Ajar Erti Sabar” Pengalaman Terindah Mona Allen Bergelar Ibu!\\n\\n\\nSRM\\n \\n-\\n \\n \\nJuly 26, 2023\\n\\nEmpat tahun menanti kelahiran cahaya mata dalam perkahwinan mengajar Mona Allen erti sabar dan bersyukur untuk meraihkan anugerah terindah, Petra Pekin.\\nBaru Habis Pantang, Ibu & Bayi Maut Dalam Kemalangan Jalan Raya\\n\\n\\nNuFa\\n \\n-\\n \\n \\nJuly 26, 2023\\n“Kerap Bagi Buah-Buahan, Sampai Besar Pun Anak Suka” Bekas Juara Master Chef Kongsi Pengalaman...\\n\\n\\nNuFa\\n \\n-\\n \\n \\nJuly 25, 2023\\n“Kumon English Talk Show”, Dato’ Dr. Sheikh Muszaphar Inspirasi Anak Berjaya!\\n\\n\\nHumaira\\n \\n-\\n \\n \\nJuly 24, 2023\\n \\n '"
      ]
     },
     "execution_count": 12,
     "metadata": {},
     "output_type": "execute_result"
    }
   ],
   "source": [
    "soup.find('article').get_text(separator=\"\\n\")"
   ]
  },
  {
   "cell_type": "code",
   "execution_count": 18,
   "metadata": {},
   "outputs": [],
   "source": [
    "body = soup.find_all('div', {'class':\"bialty-container\"})[1].get_text(separator=\"\\n\")"
   ]
  },
  {
   "cell_type": "code",
   "execution_count": 19,
   "metadata": {},
   "outputs": [],
   "source": [
    "!rm -rf page\n",
    "!mkdir page"
   ]
  },
  {
   "cell_type": "code",
   "execution_count": 20,
   "metadata": {},
   "outputs": [
    {
     "name": "stderr",
     "output_type": "stream",
     "text": [
      "18696it [54:10,  5.75it/s]\n"
     ]
    }
   ],
   "source": [
    "for no, url in tqdm(enumerate(urls)):\n",
    "    filename = os.path.join('page', f'{no}.json')\n",
    "    if os.path.exists(filename):\n",
    "        continue\n",
    "    \n",
    "    while True:\n",
    "        try:\n",
    "            r = requests.get(url)\n",
    "            break\n",
    "        except:\n",
    "            time.sleep(1.0)\n",
    "            \n",
    "    soup = BeautifulSoup(r.content, \"lxml\")\n",
    "    \n",
    "    try:\n",
    "        title = soup.find('h1').text\n",
    "    except:\n",
    "        title = None\n",
    "    \n",
    "    try:\n",
    "        body = body = soup.find_all('div', {'class':\"bialty-container\"})[1].get_text(separator=\"\\n\")\n",
    "    except:\n",
    "        body = None\n",
    "\n",
    "    data = {\n",
    "        'url': url,\n",
    "        'title': title,\n",
    "        'body': body,\n",
    "    }\n",
    "    with open(filename, 'w') as fopen:\n",
    "        json.dump(data, fopen)"
   ]
  },
  {
   "cell_type": "code",
   "execution_count": null,
   "metadata": {},
   "outputs": [],
   "source": []
  }
 ],
 "metadata": {
  "kernelspec": {
   "display_name": "Python 3 (ipykernel)",
   "language": "python",
   "name": "python3"
  },
  "language_info": {
   "codemirror_mode": {
    "name": "ipython",
    "version": 3
   },
   "file_extension": ".py",
   "mimetype": "text/x-python",
   "name": "python",
   "nbconvert_exporter": "python",
   "pygments_lexer": "ipython3",
   "version": "3.8.10"
  }
 },
 "nbformat": 4,
 "nbformat_minor": 4
}
