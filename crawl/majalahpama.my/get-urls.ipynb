{
 "cells": [
  {
   "cell_type": "code",
   "execution_count": 1,
   "metadata": {},
   "outputs": [],
   "source": [
    "import requests\n",
    "from bs4 import BeautifulSoup\n",
    "from tqdm import tqdm\n",
    "import os\n",
    "import json\n",
    "import numpy as np\n",
    "import time\n",
    "import random\n",
    "import json\n",
    "import urllib3\n",
    "urllib3.disable_warnings(urllib3.exceptions.InsecureRequestWarning)"
   ]
  },
  {
   "cell_type": "code",
   "execution_count": 47,
   "metadata": {},
   "outputs": [],
   "source": [
    "r = requests.get('https://www.majalahpama.my/category/ibu-kesihatan/')\n",
    "soup = BeautifulSoup(r.content, \"lxml\")"
   ]
  },
  {
   "cell_type": "code",
   "execution_count": 48,
   "metadata": {},
   "outputs": [],
   "source": [
    "a = soup.find_all('a')\n",
    "a = [a_.get('href').split('?')[0] for a_ in a if '/category/' in a_.get('href', '')]\n",
    "a = sorted(list(set(a)))"
   ]
  },
  {
   "cell_type": "code",
   "execution_count": 49,
   "metadata": {
    "scrolled": true
   },
   "outputs": [
    {
     "data": {
      "text/plain": [
       "['https://www.majalahpama.my/category/ibu-kesihatan/',\n",
       " 'https://www.majalahpama.my/category/kehamilan/',\n",
       " 'https://www.majalahpama.my/category/keibubapaan/',\n",
       " 'https://www.majalahpama.my/category/keibubapaan/tip-keibubapaan/',\n",
       " 'https://www.majalahpama.my/category/keibubapaan/viral-keibubapaan/',\n",
       " 'https://www.majalahpama.my/category/kelahiran/',\n",
       " 'https://www.majalahpama.my/category/kesihatan/',\n",
       " 'https://www.majalahpama.my/category/kesihatan/bayi-kesihatan/',\n",
       " 'https://www.majalahpama.my/category/kesihatan/kanak-kanak-kesihatan/',\n",
       " 'https://www.majalahpama.my/category/pemakanan/',\n",
       " 'https://www.majalahpama.my/category/perkembangan-anak/',\n",
       " 'https://www.majalahpama.my/category/perkembangan-anak/bayi-perkembangan/',\n",
       " 'https://www.majalahpama.my/category/perkembangan-anak/kanak-kanak-perkembangan/',\n",
       " 'https://www.majalahpama.my/category/review/',\n",
       " 'https://www.majalahpama.my/category/video/',\n",
       " 'https://www.majalahpama.my/category/video/2-minit-bersama-pama/',\n",
       " 'https://www.majalahpama.my/category/video/chit-chat-pama-tv/',\n",
       " 'https://www.majalahpama.my/category/video/pama-cilik/',\n",
       " 'https://www.majalahpama.my/category/video/pama-tv-snippet/',\n",
       " 'https://www.majalahpama.my/category/video/sweet-papa-mama/',\n",
       " 'https://www.majalahpama.my/category/video/tanya-pakar/']"
      ]
     },
     "execution_count": 49,
     "metadata": {},
     "output_type": "execute_result"
    }
   ],
   "source": [
    "a"
   ]
  },
  {
   "cell_type": "code",
   "execution_count": 54,
   "metadata": {},
   "outputs": [],
   "source": [
    "r = requests.get(a[1])\n",
    "soup = BeautifulSoup(r.content, \"lxml\")"
   ]
  },
  {
   "cell_type": "code",
   "execution_count": 61,
   "metadata": {},
   "outputs": [],
   "source": [
    "categories = {}\n",
    "for a_ in a:\n",
    "    r = requests.get(a_)\n",
    "    soup = BeautifulSoup(r.content, \"lxml\")\n",
    "    c = [c for c in soup.find('body').get('class') if 'category-' in c]\n",
    "    nums = []\n",
    "    for c_ in c:\n",
    "        try:\n",
    "            nums.append(int(c_.split('-')[1]))\n",
    "        except:\n",
    "            pass\n",
    "    \n",
    "    if len(nums):\n",
    "        categories[a_] = max(nums)"
   ]
  },
  {
   "cell_type": "code",
   "execution_count": 62,
   "metadata": {},
   "outputs": [
    {
     "data": {
      "text/plain": [
       "{'https://www.majalahpama.my/category/ibu-kesihatan/': 7990,\n",
       " 'https://www.majalahpama.my/category/kehamilan/': 4,\n",
       " 'https://www.majalahpama.my/category/keibubapaan/': 7991,\n",
       " 'https://www.majalahpama.my/category/keibubapaan/tip-keibubapaan/': 7992,\n",
       " 'https://www.majalahpama.my/category/keibubapaan/viral-keibubapaan/': 7993,\n",
       " 'https://www.majalahpama.my/category/kelahiran/': 5,\n",
       " 'https://www.majalahpama.my/category/kesihatan/': 7987,\n",
       " 'https://www.majalahpama.my/category/kesihatan/bayi-kesihatan/': 7988,\n",
       " 'https://www.majalahpama.my/category/kesihatan/kanak-kanak-kesihatan/': 7989,\n",
       " 'https://www.majalahpama.my/category/pemakanan/': 13,\n",
       " 'https://www.majalahpama.my/category/perkembangan-anak/': 7986,\n",
       " 'https://www.majalahpama.my/category/perkembangan-anak/bayi-perkembangan/': 6,\n",
       " 'https://www.majalahpama.my/category/perkembangan-anak/kanak-kanak-perkembangan/': 7,\n",
       " 'https://www.majalahpama.my/category/review/': 7996,\n",
       " 'https://www.majalahpama.my/category/video/': 6914,\n",
       " 'https://www.majalahpama.my/category/video/2-minit-bersama-pama/': 7123,\n",
       " 'https://www.majalahpama.my/category/video/chit-chat-pama-tv/': 7201,\n",
       " 'https://www.majalahpama.my/category/video/pama-cilik/': 10931,\n",
       " 'https://www.majalahpama.my/category/video/pama-tv-snippet/': 7122,\n",
       " 'https://www.majalahpama.my/category/video/sweet-papa-mama/': 6916,\n",
       " 'https://www.majalahpama.my/category/video/tanya-pakar/': 10935}"
      ]
     },
     "execution_count": 62,
     "metadata": {},
     "output_type": "execute_result"
    }
   ],
   "source": [
    "categories"
   ]
  },
  {
   "cell_type": "code",
   "execution_count": 58,
   "metadata": {},
   "outputs": [],
   "source": [
    "cookies = {\n",
    "    '_gcl_au': '1.1.543009596.1689744622',\n",
    "    'izootoWpConfig': '%7B%22b_type%22:1,%22d_type%22:1,%22evt_trk%22:1,%22izooto_uid%22:%22ae46b03e-765f-41f0-b5de-a357b66e904e%22%7D',\n",
    "    'uid-s': 'f8afc9a-e148-43e7-bbb8-0135e29cc705',\n",
    "    'vsid': 'e9e6ddba-e711-4493-81b3-7852eb7f11d4',\n",
    "    'trc_cookie_storage': 'taboola%2520global%253Auser-id%3Dd17cd528-3462-4d94-885f-447b3bbb14ec-tuct62a25a2',\n",
    "    '_cc_id': '69f8b801beef15345eb5accdea253af',\n",
    "    'AMCVS_43D8021954C26BE10A4C98A5%40AdobeOrg': '1',\n",
    "    'AMCV_43D8021954C26BE10A4C98A5%40AdobeOrg': '-1124106680%7CMCIDTS%7C19567%7CMCMID%7C77063981112743802002338319813505974300%7CMCAAMLH-1691165918%7C3%7CMCAAMB-1691165918%7CRKhpRz8krg2tLO6pguXWp5olkAcUniQYPHaMWWgdJ3xzPWQmdj0y%7CMCOPTOUT-1690568318s%7CNONE%7CvVersion%7C5.2.0',\n",
    "    '_gid': 'GA1.2.2000427691.1690561118',\n",
    "    'panoramaId_expiry': '1691165919005',\n",
    "    'panoramaId': '3d188d49baab2a52ec90d189081bbd9563ce47cda78c615eee8b2fb23aa6b3cf',\n",
    "    'panoramaIdType': 'panoIndiv',\n",
    "    '_ga_CS1R7QNZRR': 'GS1.1.1690606380.3.0.1690606380.0.0.0',\n",
    "    '_ga_HGK7Z4D40H': 'GS1.1.1690606380.3.0.1690606380.0.0.0',\n",
    "    '_ga': 'GA1.1.1281292343.1689744623',\n",
    "    '_ga_PMP2T73SD0': 'GS1.2.1690606380.3.0.1690606380.60.0.0',\n",
    "    'FCNEC': '%5B%5B%22AKsRol9uIUaFuy1z3Sn6FD_DZ9aId2jeUc6_gLPoiBvWrhFY0QiqGIbDW6LGdxOsC4Mqi7RT7vqjd4_rLdxfqYrH60JrFkDink3CqQe-KAXP5HJ4j1vK0gZvkgZlKawDtntg5H6rXZ33kAAkWIOngujA1x_uSlJZxA%3D%3D%22%5D%2Cnull%2C%5B%5D%5D',\n",
    "    'cto_bundle': 'qzgx519CR3A5OW10bDBMSXRDOWJ2elpuc2JmZHVSdEVvS1gwakRvWEtOYllncUdwY1NxcmMlMkZ6VlM5UjlJeFZPZkFoOVlCTzVjMWhJTG1EbkJNYjdHNkJTQXVrVkZMZW8xaUJzYm9GMmN1UWNRUmNGWFlvZWZEcWFwYWFwWDlCVGtqckdPRmdlNTVXTmdvVjhYRSUyQmlCU1k3bkxTUzVjaU53VGdsc2lCUjY2aEF3M3JMNE9lTTZVNXo3MHRqV1hzZ0lTRUt2ZmJIaHJSJTJGd1UwaWEwJTJGU29NVXlseGclM0QlM0Q',\n",
    "    '_clck': 'imzuou|2|fdq|0|1295',\n",
    "    '_clsk': 'b76gsy|1690685334191|1|1|s.clarity.ms/collect',\n",
    "}\n",
    "\n",
    "headers = {\n",
    "    'authority': 'www.majalahpama.my',\n",
    "    'accept': '*/*',\n",
    "    'accept-language': 'en-MY,en;q=0.9,en-US;q=0.8,ms;q=0.7',\n",
    "    'cache-control': 'no-cache',\n",
    "    'content-type': 'application/x-www-form-urlencoded; charset=UTF-8',\n",
    "    # 'cookie': '_gcl_au=1.1.543009596.1689744622; izootoWpConfig=%7B%22b_type%22:1,%22d_type%22:1,%22evt_trk%22:1,%22izooto_uid%22:%22ae46b03e-765f-41f0-b5de-a357b66e904e%22%7D; uid-s=f8afc9a-e148-43e7-bbb8-0135e29cc705; vsid=e9e6ddba-e711-4493-81b3-7852eb7f11d4; trc_cookie_storage=taboola%2520global%253Auser-id%3Dd17cd528-3462-4d94-885f-447b3bbb14ec-tuct62a25a2; _cc_id=69f8b801beef15345eb5accdea253af; AMCVS_43D8021954C26BE10A4C98A5%40AdobeOrg=1; AMCV_43D8021954C26BE10A4C98A5%40AdobeOrg=-1124106680%7CMCIDTS%7C19567%7CMCMID%7C77063981112743802002338319813505974300%7CMCAAMLH-1691165918%7C3%7CMCAAMB-1691165918%7CRKhpRz8krg2tLO6pguXWp5olkAcUniQYPHaMWWgdJ3xzPWQmdj0y%7CMCOPTOUT-1690568318s%7CNONE%7CvVersion%7C5.2.0; _gid=GA1.2.2000427691.1690561118; panoramaId_expiry=1691165919005; panoramaId=3d188d49baab2a52ec90d189081bbd9563ce47cda78c615eee8b2fb23aa6b3cf; panoramaIdType=panoIndiv; _ga_CS1R7QNZRR=GS1.1.1690606380.3.0.1690606380.0.0.0; _ga_HGK7Z4D40H=GS1.1.1690606380.3.0.1690606380.0.0.0; _ga=GA1.1.1281292343.1689744623; _ga_PMP2T73SD0=GS1.2.1690606380.3.0.1690606380.60.0.0; FCNEC=%5B%5B%22AKsRol9uIUaFuy1z3Sn6FD_DZ9aId2jeUc6_gLPoiBvWrhFY0QiqGIbDW6LGdxOsC4Mqi7RT7vqjd4_rLdxfqYrH60JrFkDink3CqQe-KAXP5HJ4j1vK0gZvkgZlKawDtntg5H6rXZ33kAAkWIOngujA1x_uSlJZxA%3D%3D%22%5D%2Cnull%2C%5B%5D%5D; cto_bundle=qzgx519CR3A5OW10bDBMSXRDOWJ2elpuc2JmZHVSdEVvS1gwakRvWEtOYllncUdwY1NxcmMlMkZ6VlM5UjlJeFZPZkFoOVlCTzVjMWhJTG1EbkJNYjdHNkJTQXVrVkZMZW8xaUJzYm9GMmN1UWNRUmNGWFlvZWZEcWFwYWFwWDlCVGtqckdPRmdlNTVXTmdvVjhYRSUyQmlCU1k3bkxTUzVjaU53VGdsc2lCUjY2aEF3M3JMNE9lTTZVNXo3MHRqV1hzZ0lTRUt2ZmJIaHJSJTJGd1UwaWEwJTJGU29NVXlseGclM0QlM0Q; _clck=imzuou|2|fdq|0|1295; _clsk=b76gsy|1690685334191|1|1|s.clarity.ms/collect',\n",
    "    'origin': 'https://www.majalahpama.my',\n",
    "    'pragma': 'no-cache',\n",
    "    'referer': 'https://www.majalahpama.my/category/ibu-kesihatan/',\n",
    "    'sec-ch-ua': '\"Not.A/Brand\";v=\"8\", \"Chromium\";v=\"114\", \"Google Chrome\";v=\"114\"',\n",
    "    'sec-ch-ua-mobile': '?0',\n",
    "    'sec-ch-ua-platform': '\"macOS\"',\n",
    "    'sec-fetch-dest': 'empty',\n",
    "    'sec-fetch-mode': 'cors',\n",
    "    'sec-fetch-site': 'same-origin',\n",
    "    'user-agent': 'Mozilla/5.0 (Macintosh; Intel Mac OS X 10_15_7) AppleWebKit/537.36 (KHTML, like Gecko) Chrome/114.0.0.0 Safari/537.36',\n",
    "    'x-auth-token': 'MzI2MjY0MDk1NjM0MDQyODA3NTU4NDAzMTM2MzIwNTc=',\n",
    "    'x-requested-with': 'XMLHttpRequest',\n",
    "}\n",
    "\n",
    "params = {\n",
    "    'td_theme_name': 'Newspaper',\n",
    "    'v': '12.4',\n",
    "}\n",
    "\n",
    "data = {\n",
    "    'action': 'td_ajax_loop',\n",
    "    'loopState[sidebarPosition]': '',\n",
    "    'loopState[moduleId]': '1',\n",
    "    'loopState[currentPage]': '10',\n",
    "    'loopState[max_num_pages]': '10000',\n",
    "    'loopState[atts][category_id]': '7990',\n",
    "    'loopState[ajax_pagination_infinite_stop]': '3',\n",
    "    'loopState[server_reply_html_data]': '',\n",
    "}\n",
    "\n",
    "response = requests.post(\n",
    "    'https://www.majalahpama.my/wp-admin/admin-ajax.php',\n",
    "    params=params,\n",
    "    cookies=cookies,\n",
    "    headers=headers,\n",
    "    data=data,\n",
    ")"
   ]
  },
  {
   "cell_type": "code",
   "execution_count": 59,
   "metadata": {},
   "outputs": [],
   "source": [
    "r = response.json()"
   ]
  },
  {
   "cell_type": "code",
   "execution_count": 44,
   "metadata": {},
   "outputs": [],
   "source": [
    "soup = BeautifulSoup(r['server_reply_html_data'], \"lxml\")"
   ]
  },
  {
   "cell_type": "code",
   "execution_count": 45,
   "metadata": {},
   "outputs": [
    {
     "data": {
      "text/plain": [
       "['https://www.majalahpama.my/bila-dah-jadi-ibu-tak-ada-istilah-cukup-rehat-demi-keluarga-gagahkan-diri/',\n",
       " 'https://www.majalahpama.my/bila-dah-jadi-ibu-tak-ada-istilah-cukup-rehat-demi-keluarga-gagahkan-diri/',\n",
       " 'https://www.majalahpama.my/lepas-100-hari-ozylnn-masih-jaga-pantang-patutlah-badan-maintain-awet-muda/',\n",
       " 'https://www.majalahpama.my/lepas-100-hari-ozylnn-masih-jaga-pantang-patutlah-badan-maintain-awet-muda/',\n",
       " 'https://www.majalahpama.my/boleh-ke-ambil-ubat-semasa-menyusu-anak-ini-penjelasan-doktor/',\n",
       " 'https://www.majalahpama.my/boleh-ke-ambil-ubat-semasa-menyusu-anak-ini-penjelasan-doktor/',\n",
       " 'https://www.majalahpama.my/tak-sengaja-termarah-anak-buat-ibu-makin-down-bantulah-emosi-isteri/',\n",
       " 'https://www.majalahpama.my/tak-sengaja-termarah-anak-buat-ibu-makin-down-bantulah-emosi-isteri/',\n",
       " 'https://www.majalahpama.my/lepas-seminggu-bersalin-anak-ke-4-wawa-dah-kerja-drive-kereta-sendiri/',\n",
       " 'https://www.majalahpama.my/lepas-seminggu-bersalin-anak-ke-4-wawa-dah-kerja-drive-kereta-sendiri/',\n",
       " 'https://www.majalahpama.my/allah-maha-baik-kanser-saya-hilang-perjuangan-11-tahun-berhasil-elyana/',\n",
       " 'https://www.majalahpama.my/allah-maha-baik-kanser-saya-hilang-perjuangan-11-tahun-berhasil-elyana/',\n",
       " 'https://www.majalahpama.my/selalu-terlepas-marah-anak-menyinga-tak-tentu-pasal-cuba-redakan-cara-ni/',\n",
       " 'https://www.majalahpama.my/selalu-terlepas-marah-anak-menyinga-tak-tentu-pasal-cuba-redakan-cara-ni/',\n",
       " 'https://www.majalahpama.my/set-menu-berpantang-sedap-mudah-disediakan-semua-lauk-best/',\n",
       " 'https://www.majalahpama.my/set-menu-berpantang-sedap-mudah-disediakan-semua-lauk-best/',\n",
       " 'https://www.majalahpama.my/ibu-tidak-sihat-tapi-perlu-menjaga-anak-kecil-ini-tip-untuk-anda/',\n",
       " 'https://www.majalahpama.my/ibu-tidak-sihat-tapi-perlu-menjaga-anak-kecil-ini-tip-untuk-anda/',\n",
       " 'https://www.majalahpama.my/genap-2-minggu-pantang-rafidah-ibrahim-makin-sihat-berterima-kasih-pada-semua/',\n",
       " 'https://www.majalahpama.my/genap-2-minggu-pantang-rafidah-ibrahim-makin-sihat-berterima-kasih-pada-semua/']"
      ]
     },
     "execution_count": 45,
     "metadata": {},
     "output_type": "execute_result"
    }
   ],
   "source": [
    "a = soup.find_all('a')\n",
    "a = [a_.get('href') for a_ in a if '/author/' not in a_.get('href')]\n",
    "a"
   ]
  },
  {
   "cell_type": "code",
   "execution_count": 67,
   "metadata": {},
   "outputs": [],
   "source": [
    "!rm -rf url\n",
    "!mkdir url"
   ]
  },
  {
   "cell_type": "code",
   "execution_count": 73,
   "metadata": {},
   "outputs": [
    {
     "name": "stderr",
     "output_type": "stream",
     "text": [
      "503it [00:01, 341.40it/s]\n",
      "166it [03:20,  1.21s/it]\n",
      "699it [14:31,  1.25s/it]\n",
      "353it [07:09,  1.22s/it]\n",
      "231it [04:38,  1.21s/it]\n",
      "152it [03:05,  1.22s/it]\n",
      "201it [04:07,  1.23s/it]\n",
      "90it [01:48,  1.21s/it]\n",
      "96it [01:56,  1.21s/it]\n",
      "282it [05:58,  1.27s/it]\n",
      "348it [07:04,  1.22s/it]\n",
      "106it [02:09,  1.22s/it]\n",
      "230it [04:40,  1.22s/it]\n",
      "9it [00:11,  1.32s/it]\n",
      "1it [00:02,  2.28s/it]\n",
      "0it [00:01, ?it/s]\n",
      "0it [00:01, ?it/s]\n",
      "0it [00:01, ?it/s]\n",
      "1it [00:02,  2.30s/it]\n",
      "0it [00:01, ?it/s]\n",
      "1it [00:02,  2.26s/it]\n"
     ]
    }
   ],
   "source": [
    "def generator():\n",
    "    while True:\n",
    "        yield\n",
    "    \n",
    "for c, v in categories.items():\n",
    "    c_ = c.split('my/')[1].replace('/', '-')\n",
    "    index = 1\n",
    "    for _ in tqdm(generator()):\n",
    "        filename = os.path.join('url', f'{c_}-{index}.json')\n",
    "        if os.path.exists(filename):\n",
    "            index += 1\n",
    "            continue\n",
    "            \n",
    "        data = {\n",
    "            'action': 'td_ajax_loop',\n",
    "            'loopState[sidebarPosition]': '',\n",
    "            'loopState[moduleId]': '1',\n",
    "            'loopState[currentPage]': str(index),\n",
    "            'loopState[max_num_pages]': '10000',\n",
    "            'loopState[atts][category_id]': str(v),\n",
    "            'loopState[ajax_pagination_infinite_stop]': '3',\n",
    "            'loopState[server_reply_html_data]': '',\n",
    "        }\n",
    "        \n",
    "        while True:\n",
    "            try:\n",
    "                response = requests.post(\n",
    "                    'https://www.majalahpama.my/wp-admin/admin-ajax.php',\n",
    "                    params=params,\n",
    "                    cookies=cookies,\n",
    "                    headers=headers,\n",
    "                    data=data,\n",
    "                )\n",
    "                r = response.json()\n",
    "                break\n",
    "            except:\n",
    "                time.sleep(2.0)\n",
    "        \n",
    "        if 'server_reply_html_data' not in r:\n",
    "            break\n",
    "            \n",
    "        if not len(r['server_reply_html_data']):\n",
    "            break\n",
    "            \n",
    "        soup = BeautifulSoup(r['server_reply_html_data'], \"lxml\")\n",
    "        a = soup.find_all('a')\n",
    "        a = [a_.get('href') for a_ in a if '/author/' not in a_.get('href')]\n",
    "\n",
    "        with open(filename, 'w') as fopen:\n",
    "            json.dump(a, fopen)\n",
    "\n",
    "        index += 1"
   ]
  },
  {
   "cell_type": "code",
   "execution_count": 70,
   "metadata": {},
   "outputs": [
    {
     "data": {
      "text/plain": [
       "<Response [502]>"
      ]
     },
     "execution_count": 70,
     "metadata": {},
     "output_type": "execute_result"
    }
   ],
   "source": [
    "response"
   ]
  },
  {
   "cell_type": "code",
   "execution_count": 72,
   "metadata": {},
   "outputs": [
    {
     "data": {
      "text/plain": [
       "{'sidebarPosition': '',\n",
       " 'moduleId': '1',\n",
       " 'currentPage': '503',\n",
       " 'max_num_pages': '10000',\n",
       " 'atts': {'category_id': '7990'},\n",
       " 'ajax_pagination_infinite_stop': '3',\n",
       " 'server_reply_html_data': ''}"
      ]
     },
     "execution_count": 72,
     "metadata": {},
     "output_type": "execute_result"
    }
   ],
   "source": [
    "r"
   ]
  },
  {
   "cell_type": "code",
   "execution_count": null,
   "metadata": {},
   "outputs": [],
   "source": []
  }
 ],
 "metadata": {
  "kernelspec": {
   "display_name": "Python 3 (ipykernel)",
   "language": "python",
   "name": "python3"
  },
  "language_info": {
   "codemirror_mode": {
    "name": "ipython",
    "version": 3
   },
   "file_extension": ".py",
   "mimetype": "text/x-python",
   "name": "python",
   "nbconvert_exporter": "python",
   "pygments_lexer": "ipython3",
   "version": "3.8.10"
  }
 },
 "nbformat": 4,
 "nbformat_minor": 4
}
