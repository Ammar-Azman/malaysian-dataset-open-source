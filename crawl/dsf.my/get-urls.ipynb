{
 "cells": [
  {
   "cell_type": "code",
   "execution_count": 1,
   "metadata": {},
   "outputs": [],
   "source": [
    "import requests\n",
    "from bs4 import BeautifulSoup\n",
    "from tqdm import tqdm\n",
    "import os\n",
    "import json\n",
    "import numpy as np\n",
    "import time\n",
    "import random\n",
    "import json\n",
    "from concurrent.futures import ThreadPoolExecutor, as_completed\n",
    "from datetime import datetime, timedelta"
   ]
  },
  {
   "cell_type": "code",
   "execution_count": 2,
   "metadata": {},
   "outputs": [],
   "source": [
    "categories = [\n",
    "    'https://www.dsf.my/category/reviews/cars-suvs-trucks/',\n",
    "    'https://www.dsf.my/category/reviews/used-cars-guides-tips/',\n",
    "    'https://www.dsf.my/category/reviews/motorcycles-news/',\n",
    "    'https://www.dsf.my/category/automotive-news-malaysia-and-international/',\n",
    "    'https://www.dsf.my/category/news/motorsports-weekly-updates/',\n",
    "    'https://www.dsf.my/category/techtalk/',\n",
    "    'https://www.dsf.my/category/watches-news-trends/',\n",
    "    'https://www.dsf.my/category/voty/'\n",
    "]"
   ]
  },
  {
   "cell_type": "code",
   "execution_count": 3,
   "metadata": {},
   "outputs": [],
   "source": [
    "r = requests.get(categories[0])\n",
    "soup = BeautifulSoup(r.content, \"lxml\")"
   ]
  },
  {
   "cell_type": "code",
   "execution_count": 7,
   "metadata": {},
   "outputs": [
    {
     "data": {
      "text/plain": [
       "[2, 3, 2, 188]"
      ]
     },
     "execution_count": 7,
     "metadata": {},
     "output_type": "execute_result"
    }
   ],
   "source": [
    "a = soup.find_all('a')\n",
    "a = [int(a_.get('href').split('/page/')[1][:-1]) for a_ in a if '/page/' in a_.get('href')]\n",
    "a"
   ]
  },
  {
   "cell_type": "code",
   "execution_count": 13,
   "metadata": {},
   "outputs": [
    {
     "data": {
      "text/plain": [
       "['https://www.dsf.my/2023/07/my-honest-thoughts-on-the-proton-x90-after-driving-it-from-subang-to-gambang-and-back/',\n",
       " 'https://www.dsf.my/2023/07/mercedes-benz-eqb-350-4matic-drive-review/',\n",
       " 'https://www.dsf.my/2023/07/2023-volvo-xc60-recharge-t8-ultimate-review/',\n",
       " 'https://www.dsf.my/2023/07/which-new-electric-car-will-you-buy-tomorrow-in-malaysia/',\n",
       " 'https://www.dsf.my/2023/07/mercedes-benz-glc-300-4matic-review/',\n",
       " 'https://www.dsf.my/2023/07/chery-omoda-5-short-test-drive-review/',\n",
       " 'https://www.dsf.my/2023/07/psa-please-leave-tasks-like-wrapping-your-car-to-the-professionals/',\n",
       " 'https://www.dsf.my/2023/07/singer-porsche-911-first-ever-unit-arrives-in-malaysia/',\n",
       " 'https://www.dsf.my/2023/07/2022-ford-ranger-raptor-3-0l-v6-twin-turbo-petrol-review/',\n",
       " 'https://www.dsf.my/2023/07/2022-byd-atto-3-extended-range-review-malaysia/']"
      ]
     },
     "execution_count": 13,
     "metadata": {},
     "output_type": "execute_result"
    }
   ],
   "source": [
    "a = soup.find_all('article', {'class': 'omc-blog-two omc-half-width-category'})\n",
    "a = [a_.find_all('a')[1].get('href') for a_ in a]\n",
    "a"
   ]
  },
  {
   "cell_type": "code",
   "execution_count": 14,
   "metadata": {},
   "outputs": [],
   "source": [
    "!rm -rf url\n",
    "!mkdir url"
   ]
  },
  {
   "cell_type": "code",
   "execution_count": 15,
   "metadata": {},
   "outputs": [
    {
     "name": "stderr",
     "output_type": "stream",
     "text": [
      "100%|█████████████████████████████████████████| 188/188 [04:36<00:00,  1.47s/it]\n",
      "100%|███████████████████████████████████████████| 54/54 [01:09<00:00,  1.29s/it]\n",
      "100%|█████████████████████████████████████████| 107/107 [02:18<00:00,  1.29s/it]\n",
      "100%|███████████████████████████████████████| 1657/1657 [30:28<00:00,  1.10s/it]\n",
      "100%|█████████████████████████████████████████| 283/283 [04:04<00:00,  1.16it/s]\n",
      "100%|███████████████████████████████████████████| 68/68 [00:51<00:00,  1.32it/s]\n",
      "100%|█████████████████████████████████████████| 100/100 [01:15<00:00,  1.32it/s]\n",
      "100%|███████████████████████████████████████████| 12/12 [00:08<00:00,  1.36it/s]\n"
     ]
    }
   ],
   "source": [
    "for t in categories:\n",
    "    t_ = t.split('my/')[1].replace('/', '-')\n",
    "    r = requests.get(t)\n",
    "    soup = BeautifulSoup(r.content, \"lxml\")\n",
    "    try:\n",
    "        a = soup.find_all('a')\n",
    "        a = [int(a_.get('href').split('/page/')[1][:-1]) for a_ in a if '/page/' in a_.get('href')]\n",
    "        page_num = max(a)\n",
    "    except:\n",
    "        page_num = 1\n",
    "    \n",
    "    for index in tqdm(range(1, page_num + 1, 1)):\n",
    "        filename = os.path.join('url', f'{t_}-{index}.json')\n",
    "        if os.path.exists(filename):\n",
    "            continue\n",
    "        url = f'{t}page/{index}/'\n",
    "        r = requests.get(url)\n",
    "        soup = BeautifulSoup(r.content, \"lxml\")\n",
    "        \n",
    "        a = soup.find_all('article', {'class': 'omc-blog-two omc-half-width-category'})\n",
    "        a = [a_.find_all('a')[1].get('href') for a_ in a]\n",
    "\n",
    "        with open(filename, 'w') as fopen:\n",
    "            json.dump(a, fopen)       "
   ]
  },
  {
   "cell_type": "code",
   "execution_count": null,
   "metadata": {},
   "outputs": [],
   "source": []
  }
 ],
 "metadata": {
  "kernelspec": {
   "display_name": "Python 3 (ipykernel)",
   "language": "python",
   "name": "python3"
  },
  "language_info": {
   "codemirror_mode": {
    "name": "ipython",
    "version": 3
   },
   "file_extension": ".py",
   "mimetype": "text/x-python",
   "name": "python",
   "nbconvert_exporter": "python",
   "pygments_lexer": "ipython3",
   "version": "3.8.10"
  }
 },
 "nbformat": 4,
 "nbformat_minor": 4
}
