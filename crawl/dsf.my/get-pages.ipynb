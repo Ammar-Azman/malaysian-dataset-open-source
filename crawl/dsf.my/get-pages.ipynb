{
 "cells": [
  {
   "cell_type": "code",
   "execution_count": 1,
   "metadata": {},
   "outputs": [],
   "source": [
    "import requests\n",
    "from bs4 import BeautifulSoup\n",
    "from tqdm import tqdm\n",
    "import os\n",
    "import json\n",
    "import numpy as np\n",
    "import time\n",
    "import random\n",
    "import json\n",
    "import urllib3\n",
    "urllib3.disable_warnings(urllib3.exceptions.InsecureRequestWarning)"
   ]
  },
  {
   "cell_type": "code",
   "execution_count": 2,
   "metadata": {},
   "outputs": [
    {
     "data": {
      "text/plain": [
       "24537"
      ]
     },
     "execution_count": 2,
     "metadata": {},
     "output_type": "execute_result"
    }
   ],
   "source": [
    "from glob import glob\n",
    "\n",
    "files = glob('url/*.json')\n",
    "urls = []\n",
    "for f in files:\n",
    "    with open(f) as fopen:\n",
    "        urls.extend(json.load(fopen))\n",
    "urls = sorted(list(set(urls)))\n",
    "len(urls)"
   ]
  },
  {
   "cell_type": "code",
   "execution_count": 3,
   "metadata": {},
   "outputs": [],
   "source": [
    "r = requests.get(urls[0])\n",
    "soup = BeautifulSoup(r.content, \"lxml\")"
   ]
  },
  {
   "cell_type": "code",
   "execution_count": 4,
   "metadata": {},
   "outputs": [
    {
     "data": {
      "text/plain": [
       "'KARAMJIT SINGH @ “The Flying Sikh” makes a return to the Asia Pacific'"
      ]
     },
     "execution_count": 4,
     "metadata": {},
     "output_type": "execute_result"
    }
   ],
   "source": [
    "soup.find('h1').text"
   ]
  },
  {
   "cell_type": "code",
   "execution_count": 13,
   "metadata": {
    "scrolled": true
   },
   "outputs": [
    {
     "name": "stdout",
     "output_type": "stream",
     "text": [
      "Motorsports\n",
      " \n",
      "\n",
      "\n",
      "Published on\n",
      " May 6th, 2011 |\n",
      "\n",
      "by Daniel Sherman Fernandez\n",
      "\n",
      "\n",
      "0\n",
      "KARAMJIT SINGH @ “The Flying Sikh” makes a return to the Asia Pacific\n",
      "Asia’s most accomplished rally driver, Karamjit Singh, will be competing in next weekend’s (14 – 15 May) International Rally of Queensland (IROQ) after confirming his entry on the last day of registration. The multiple APRC Champion and Production World Rally Champion (PWRC), will be competing as a privateer (what….no Malaysian corporate sponsor for Malaysia’s top rally driver?) with Indian co-driver, Vivek Ponnusamy. Vivek is looking forward to being the first Indian national to co-drive in the APRC as well as the first to co-drive for a PWRC champion.\n",
      "With private funding from close friends and family, Karamjit looks set to make a title assault in a CUSCO backed Proton Satria Neo 2WD. After opting to stay out of the first round at the Rally of Malaysia in April this year, Karamjit’s 2011 APRC campaign is now due to start at Rally of Queensland on 14-15 May.  After a six year absence (Corporate Malaysia was busy playing with F1 sponsorship instead of putting Malaysia on the podium of the World Rally Championship arena with a proven driver)  from the APRC, Karamjit is eager to get back to international rallying. Karamjit Singh: “I’m very happy to be able to rally at one of the APRC rounds this year. My aim is to be challenging for wins right from my first race”.\n",
      "With only 5 more rounds to go in the championship this year, Karamjit is confident he will be able to attract strategic partnerships with government agencies as well as private companies to allow him the opportunity to rally at the remaining events and be crowned APRC champion in the 2WD category. As for next year’s challenge, Karamjit pointed out that if the necessary support comes in on time, there may be a possibility of making a full comeback in the APRC Group N 4WD category.\n",
      "\n",
      "APRC 2011 CALENDAR 1 – 3 April Malaysian Rally\n",
      "\n",
      "13 – 15 May Rally Queensland, Australia\n",
      "\n",
      "17 – 19 June Rallye de Nouvelle Caledonie\n",
      "\n",
      "15 – 17 July Rally of Whangarei, New Zealand\n",
      "\n",
      "30 Sept – 2 Oct Rally Hokkaido, Japan\n",
      "\n",
      "4 – 6 November China Rally\n",
      "\n",
      "\n",
      "About the Author\n",
      "Daniel Sherman Fernandez\n",
      " www.dsf.my is a service to the public and other website owners. www.dsf.my is not responsible for, and expressly disclaims all liability for, damages of any kind arising out of use, reference to, or reliance on any information contained within the site www.dsf.my. While the information contained within the site is periodically updated, no guarantee is given that the information provided in this website is correct, complete, and up-to-date. www.dsf.my is not responsible for the accuracy or content of information contained inside.\n",
      "Related Posts\n",
      "\n",
      "\n",
      "F1 Driver, Valtteri Bottas, Takes Delivery Of His New Mercedes AMG One Hypercar\n",
      " →\n",
      "\n",
      "\n",
      "Sime Darby Racing Team Revs Up Again At Porsche Carrera Cup Asia 2023\n",
      " →\n",
      "\n",
      "\n",
      "The GR Vios Sprint cup Is The Ideal Platform For Toyota Dealers To Shine\n",
      " →\n",
      "\n",
      "\n",
      "BMW Achieves Four Victories At The 2023 Isle Of Man TT Races\n",
      " →\n",
      "\n",
      "\n",
      "Leave a Reply \n",
      "Cancel reply\n",
      "Your email address will not be published.\n",
      " \n",
      "Required fields are marked \n",
      "*\n",
      "Comment \n",
      "*\n",
      "Name \n",
      "*\n",
      " \n",
      "Email \n",
      "*\n",
      " \n",
      "Website\n",
      " \n",
      " \n",
      "Save my name, email, and website in this browser for the next time I comment.\n",
      " \n",
      "\n",
      "\n",
      "Δ\n"
     ]
    }
   ],
   "source": [
    "print(soup.find('article', {'id':\"omc-full-article\"}).get_text(separator=\"\\n\"))"
   ]
  },
  {
   "cell_type": "code",
   "execution_count": 17,
   "metadata": {},
   "outputs": [],
   "source": [
    "!rm -rf page\n",
    "!mkdir page"
   ]
  },
  {
   "cell_type": "code",
   "execution_count": 18,
   "metadata": {},
   "outputs": [
    {
     "name": "stderr",
     "output_type": "stream",
     "text": [
      "5990it [1:28:07,  1.19it/s]IOPub message rate exceeded.\n",
      "The notebook server will temporarily stop sending output\n",
      "to the client in order to avoid crashing it.\n",
      "To change this limit, set the config variable\n",
      "`--NotebookApp.iopub_msg_rate_limit`.\n",
      "\n",
      "Current values:\n",
      "NotebookApp.iopub_msg_rate_limit=1000.0 (msgs/sec)\n",
      "NotebookApp.rate_limit_window=3.0 (secs)\n",
      "\n",
      "13125it [3:05:02,  1.18it/s]IOPub message rate exceeded.\n",
      "The notebook server will temporarily stop sending output\n",
      "to the client in order to avoid crashing it.\n",
      "To change this limit, set the config variable\n",
      "`--NotebookApp.iopub_msg_rate_limit`.\n",
      "\n",
      "Current values:\n",
      "NotebookApp.iopub_msg_rate_limit=1000.0 (msgs/sec)\n",
      "NotebookApp.rate_limit_window=3.0 (secs)\n",
      "\n",
      "23991it [5:31:10,  1.34it/s]IOPub message rate exceeded.\n",
      "The notebook server will temporarily stop sending output\n",
      "to the client in order to avoid crashing it.\n",
      "To change this limit, set the config variable\n",
      "`--NotebookApp.iopub_msg_rate_limit`.\n",
      "\n",
      "Current values:\n",
      "NotebookApp.iopub_msg_rate_limit=1000.0 (msgs/sec)\n",
      "NotebookApp.rate_limit_window=3.0 (secs)\n",
      "\n"
     ]
    }
   ],
   "source": [
    "for no, url in tqdm(enumerate(urls)):\n",
    "    filename = os.path.join('page', f'{no}.json')\n",
    "    if os.path.exists(filename):\n",
    "        continue\n",
    "    \n",
    "    while True:\n",
    "        try:\n",
    "            r = requests.get(url)\n",
    "            break\n",
    "        except:\n",
    "            time.sleep(1.0)\n",
    "            \n",
    "    soup = BeautifulSoup(r.content, \"lxml\")\n",
    "    \n",
    "    try:\n",
    "        title = soup.find('h1').text\n",
    "    except:\n",
    "        title = None\n",
    "    \n",
    "    try:\n",
    "        body = soup.find('article', {'id':\"omc-full-article\"}).get_text(separator=\"\\n\")\n",
    "    except:\n",
    "        body = None\n",
    "\n",
    "    data = {\n",
    "        'url': url,\n",
    "        'title': title,\n",
    "        'body': body,\n",
    "    }\n",
    "    with open(filename, 'w') as fopen:\n",
    "        json.dump(data, fopen)"
   ]
  },
  {
   "cell_type": "code",
   "execution_count": null,
   "metadata": {},
   "outputs": [],
   "source": []
  }
 ],
 "metadata": {
  "kernelspec": {
   "display_name": "Python 3 (ipykernel)",
   "language": "python",
   "name": "python3"
  },
  "language_info": {
   "codemirror_mode": {
    "name": "ipython",
    "version": 3
   },
   "file_extension": ".py",
   "mimetype": "text/x-python",
   "name": "python",
   "nbconvert_exporter": "python",
   "pygments_lexer": "ipython3",
   "version": "3.8.10"
  }
 },
 "nbformat": 4,
 "nbformat_minor": 4
}
