{
 "cells": [
  {
   "cell_type": "code",
   "execution_count": 1,
   "metadata": {},
   "outputs": [],
   "source": [
    "import requests\n",
    "from bs4 import BeautifulSoup\n",
    "from tqdm import tqdm\n",
    "import os\n",
    "import json\n",
    "import numpy as np\n",
    "import time\n",
    "import random\n",
    "import json\n",
    "import urllib3\n",
    "urllib3.disable_warnings(urllib3.exceptions.InsecureRequestWarning)"
   ]
  },
  {
   "cell_type": "code",
   "execution_count": 2,
   "metadata": {},
   "outputs": [
    {
     "data": {
      "text/plain": [
       "271"
      ]
     },
     "execution_count": 2,
     "metadata": {},
     "output_type": "execute_result"
    }
   ],
   "source": [
    "with open('urls.json') as fopen:\n",
    "    urls = json.load(fopen)\n",
    "urls = [f'https://www.bernama.com/tam/{url}' for url in urls]\n",
    "len(urls)"
   ]
  },
  {
   "cell_type": "code",
   "execution_count": 3,
   "metadata": {},
   "outputs": [],
   "source": [
    "r = requests.get(urls[0])"
   ]
  },
  {
   "cell_type": "code",
   "execution_count": 4,
   "metadata": {},
   "outputs": [],
   "source": [
    "soup = BeautifulSoup(r.content, \"lxml\")"
   ]
  },
  {
   "cell_type": "code",
   "execution_count": 5,
   "metadata": {},
   "outputs": [
    {
     "data": {
      "text/plain": [
       "<h1 class=\"h2\">ஊடக உலகைக் கொண்டாடும் ஹவானா தினம்</h1>"
      ]
     },
     "execution_count": 5,
     "metadata": {},
     "output_type": "execute_result"
    }
   ],
   "source": [
    "soup.find('h1')"
   ]
  },
  {
   "cell_type": "code",
   "execution_count": 6,
   "metadata": {},
   "outputs": [
    {
     "data": {
      "text/plain": [
       "'https://www.bernama.com/tam/news.php?id=2192036'"
      ]
     },
     "execution_count": 6,
     "metadata": {},
     "output_type": "execute_result"
    }
   ],
   "source": [
    "urls[0]"
   ]
  },
  {
   "cell_type": "code",
   "execution_count": 7,
   "metadata": {},
   "outputs": [
    {
     "data": {
      "text/plain": [
       "\"சிறப்புச் செய்தி\\n\\n\\n\\n\\nஊடக உலகைக் கொண்டாடும் ஹவானா தினம்\\n\\n\\n\\n\\n\\n\\n \\n\\n\\n\\n\\n\\n\\n\\n\\n\\n\\n\\n\\n\\n\\n\\n\\n\\n\\n\\n\\n\\n\\n\\n\\n\\n\\n24/05/2023 08:29 PM\\n\\n\\n\\n\\n\\n\\nகோலாலம்பூர், 24 மே (பெர்னாமா) -- \\nவிழிப்புணர்வு ரீதியாக மட்டுமின்றி, ஒரு துறை சார்ந்த தொழிலையும் அதில் உள்ள சவால்கள், வாய்ப்புகள், அனுகூலங்களை, மக்களிடம் கொண்டு சேர்க்கும் விதமாக ஆண்டுதோறும் அனுசரிப்பு தினங்கள் கொண்டாடப்படுகின்றன.\\xa0\\n\\n\\nஅதில், ஒவ்வொரு நாளும், ஒவ்வொரு நொடியும் மக்களிடம் செய்திகளைக் கொண்டு சேர்த்துக் கொண்டிருக்கும், ஊடக உலகின் நிருபர், செய்தியாளர், செய்தி ஆசிரியர், காமிரா ஒளிப்பதிவாளர், புகைப்பட கலைஞர், தொகுப்பாளர், அறிவிப்பாளர் மற்றும் செய்தி வாசிப்பாளராக பணி செய்வோருக்காகவும், நாட்டில் ஒரு தினம் அனுசரிக்கப்பட வேண்டும்.\\xa0\\n\\n\\nஅதனைக் கருத்தில் கொண்டே, பெர்னாமாவின் ஏற்பாட்டில், தேசிய ஊடகவியலாளர் தினமான ஹவானா, மூன்றாவது முறை கொண்டாப்படுவதாக கூறுகின்றார், பெர்னாமாவின் வானொலி, தொலைக்காட்சி பிரிவுத் தலைவர் அருள்ராஜூ துரைராஜு.\\xa0\\n\\n\\n\\n\\n\\n\\n \\nஅரசாங்கத்தின் ஒத்துழைப்புடன், 2018-ஆம் ஆண்டில் தொடங்கிய இந்த ஹவானா தினம், கொவிட்-19 காலத்தில் தடைபட்டு கடந்தாண்டில் சரித்திர மாநிலமான மலாக்காவில் நடந்ததாக கூறிய அருள்ராஜூ இம்முறை பேராக் ஈப்போவில், அந்நாள் கொண்டாடப்டுவதாக கூறினார்.\\xa0\\n\\n\\n''அது பிரதமரின் நாடாளுமன்றம் இருக்கும் இடம். அதோடு ஈப்ப்போ நகராண்மை கழகம் 35 ஆண்டுகள் நிறைவைக் கொண்டாடுகிறது. அதோடு இப்போவைச் சுற்றி பார்ப்போம் என்ற கருப்பொருளோடு நாம் இந்த முறை அங்கு செல்கிறோம்'' என்றார் அவர்.\\xa0\\n\\n\\nமே 27 தொடங்கி 29-ஆம் தேதி வரை மூன்று நாள் கொண்டாட்டமான இதில், தேசிய ஊடகவியலாளர்களை ஒன்றிணைக்கும் விதமாக கோலாலம்பூரிலிருந்து ஈப்போ வரையிலான புதையல் தேடும் போட்டி, போலிங் விளையாட்டு உட்பட இன்னும் பல்வேறு நிகழ்ச்சிகள் ஏற்பாடு செய்யப்பட்டிருப்பதாக அருள்ராஜூ தெரிவித்தார்.\\xa0\\n\\n\\n\\n\\n\\n\\nஅதோடு, இக்கொண்டாட்டத்தின் முத்தாய்ப்பு அங்கமாக, முதன் முறையாக உள்ளூர் மற்றும் ஆசியான் நாடுகளின் ஊடகவியலாளர்கள் மற்றும் விளம்பர நிறுவனங்கள் பங்கேற்கும் அனைத்துலக ஊடக கலந்துரையாடல் நிகழ்வும் நடைபெறவுள்ளது.\\n\\n\\nஇண்ஸ்டா, டிக் டாக் போன்ற சமூக ஊடகங்களின் வளர்ச்சியால், பல சவால்களை எதிர்கொள்ளும் ஊடக உலகின் எதிர்காலம் எப்படி இருக்கும் என்பதை விவாதிப்பதற்கு இந்த கலந்துரையாடல் சிறந்த தளமாகும் என்றும் அருள்ராஜூ விளக்கினார்.\\xa0\\n\\n\\nஅச்சு மற்றும் மின்னியல் ஊடகத்தார் மட்டுமின்றி இணைய ஊடகத்தைச் சேர்ந்தவர்கள் என்று சுமார் 1000 பேர் வரை திரள்வர் என்று தாம் எதிர்ப்பார்ப்பதாக ஹவானா ஏற்பாட்டுக்குழு தலைவருமான அருள்ராஜூ கூறினார்.\\xa0\\n\\n\\n\\n\\n\\n\\nஅதேவேளையில், பொது மக்களின் கவனத்தை ஈர்க்கும் வகையில், ஊடக உலகின் பணிகள் மற்றும் சேவைகளை தெரிவிக்கும் விதமாக காலை 10 மணி தொடங்கி மாலை 6 மணி வரை கண்காட்சி ஒன்றும் இரு நாட்களுக்கு ஏற்பாடு செய்யப்பட்டுள்ளதாகவும் அவர் குறிப்பிட்டார்.\\n\\n\\n''ஈப்போ மெருவில் ஊடகவியல் உலகின் பணிகள் எப்படி இருக்கும் என்பதை காண்பிக்கும் விதமாக இந்த கண்காட்சி நடைபெறுகிறது. அது மக்களுக்கும் ஓர் ஆர்வத்தை ஏற்படுத்தும்'' என்றார் அவர்\\n\\n\\nஇவ்வாண்டு ஹவானா தினத்தை பிரதமர் டத்தோஶ்ரீ அன்வார் இப்ராஹிம் அதிகாரப்பூர்வமாக தொடக்கி வைக்கும் நிலையில், விருது வழங்கும் அங்கமும் இதில் இடம் பெறுவதாக இன்று பெர்னாமா செய்திகளுக்கு வழங்கிய சிறப்பு நேர்காணலில் அருள்ராஜூ தெரிவித்தார்.\\xa0\\n\\n\\n-- பெர்னாமா\\xa0\\n\\n\\nபெர்னாமா செய்திகள் நேரலை: இரவு 7 மணி மறுஒளிபரப்பு: இரவு 1130 (ஆஸ்ட்ரோ 502)\\n\\n\\n\\n\\n\\n\\n\\n\\n\\n\\n\\n\\n\\n\\nபரிந்துரை\\n\\n\\n\\n\\n\\n\\n\\n\\n\\n\\n\\n\\n\\n\\n\\n\\nபராமரிப்பாளர்களை தணிக்கைகளுக்கு உட்படுத்தும் பரிந்துரை ஆய்வு\\n\\n\\n\\n\\n\\n\\n\\n\\n\\n\\n\\n\\n\\n\\n\\n\\n\\n\\n\\n\\nஸ்டேம் பாடத்திட்ட துறைகளில் மாணவர் எண்ணிக்கை உயர்வு \\n\\n\\n\\n\\n\\n\\n\\n\\n\\n\\n\\n\\n\\n\\n\\n\\n\\n\\n\\n\\nமலேசிய தீயணைப்பு, மீட்புத் துறைக்கு கூடுதல் ஒதுக்கீடாக 6 கோடி ரிங்கிட்\""
      ]
     },
     "execution_count": 7,
     "metadata": {},
     "output_type": "execute_result"
    }
   ],
   "source": [
    "divs = soup.find_all('div', {'class': 'container-fluid px-0'})\n",
    "body = [div.get_text(separator=\"\\n\").strip() for div in divs][-1]\n",
    "body"
   ]
  },
  {
   "cell_type": "code",
   "execution_count": null,
   "metadata": {},
   "outputs": [
    {
     "name": "stderr",
     "output_type": "stream",
     "text": [
      " 54%|█████████████████████████████████████████████████████████▎                                                 | 145/271 [00:50<00:26,  4.72it/s]"
     ]
    }
   ],
   "source": [
    "with open('bernama.com-tam.jsonl', 'w') as fopen:\n",
    "    for url in tqdm(urls):\n",
    "        try:\n",
    "            r = requests.get(url)\n",
    "            soup = BeautifulSoup(r.content, \"lxml\")\n",
    "            divs = soup.find_all('div', {'class': 'container-fluid px-0'})\n",
    "            data = {\n",
    "                'url': url,\n",
    "                'title': soup.find('h1').text,\n",
    "                'body': [div.get_text(separator=\"\\n\").strip() for div in divs][-1]\n",
    "            }\n",
    "            fopen.write(f'{json.dumps(data)}\\n')\n",
    "        except Exception as e:\n",
    "            print(e)\n",
    "            pass"
   ]
  },
  {
   "cell_type": "code",
   "execution_count": null,
   "metadata": {},
   "outputs": [],
   "source": []
  }
 ],
 "metadata": {
  "kernelspec": {
   "display_name": "Python 3 (ipykernel)",
   "language": "python",
   "name": "python3"
  },
  "language_info": {
   "codemirror_mode": {
    "name": "ipython",
    "version": 3
   },
   "file_extension": ".py",
   "mimetype": "text/x-python",
   "name": "python",
   "nbconvert_exporter": "python",
   "pygments_lexer": "ipython3",
   "version": "3.8.10"
  }
 },
 "nbformat": 4,
 "nbformat_minor": 4
}
