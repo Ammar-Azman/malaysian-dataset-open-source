{
 "cells": [
  {
   "cell_type": "code",
   "execution_count": 143,
   "metadata": {},
   "outputs": [],
   "source": [
    "from bs4 import BeautifulSoup\n",
    "import pandas as pd\n",
    "import json\n",
    "import requests\n",
    "from tqdm import tqdm\n",
    "import time\n",
    "from concurrent.futures import ThreadPoolExecutor, as_completed\n",
    "import numpy as np\n",
    "import os"
   ]
  },
  {
   "cell_type": "markdown",
   "metadata": {},
   "source": [
    "### 1.0 Get a list of webpages to scrape"
   ]
  },
  {
   "cell_type": "code",
   "execution_count": 3,
   "metadata": {},
   "outputs": [],
   "source": [
    "sections = [\n",
    "\"lifestyle\",\n",
    "\"beauty\",\n",
    "\"book\",\n",
    "\"resepi\"\n",
    "]\n",
    "\n",
    "headers = {'User-Agent': 'Mozilla/5.0 (Windows NT 6.1; WOW64) AppleWebKit/537.36 (KHTML, like Gecko) Chrome/56.0.2924.76 Safari/537.36'} "
   ]
  },
  {
   "cell_type": "code",
   "execution_count": 66,
   "metadata": {},
   "outputs": [],
   "source": [
    "def crawl(url):\n",
    "    while True:\n",
    "        try:\n",
    "            r = requests.get(url,headers = headers)\n",
    "            break\n",
    "        except Exception as e:\n",
    "            print(e)\n",
    "            time.sleep(1.0)\n",
    "\n",
    "    soup = BeautifulSoup(r.text, \"lxml\")\n",
    "\n",
    "    block = soup.find('div',attrs = {\"class\":\"main section\"})\n",
    "    \n",
    "    if block is None:\n",
    "        return\n",
    "\n",
    "    for link in block.find_all('h3', attrs = {\"class\":\"post-title entry-title\"}):\n",
    "        try:\n",
    "            href = link.find('a').get('href')\n",
    "            hrefs.append(href)\n",
    "        except:\n",
    "            pass"
   ]
  },
  {
   "cell_type": "code",
   "execution_count": 55,
   "metadata": {},
   "outputs": [
    {
     "name": "stdout",
     "output_type": "stream",
     "text": [
      "lifestyle\n",
      "beauty\n",
      "book\n",
      "resepi\n",
      "Links collected: 52\n"
     ]
    }
   ],
   "source": [
    "\"\"\"\n",
    "This website doesn't seem to have a page number. That's troublesome.\n",
    "Instead, I'll first scrape every first page (e.g., lifestyle, beauty, etc.)\n",
    "and 'OLDER POSTS' link (if it exists) at the end of every page.\n",
    "\"\"\"\n",
    "pages = []\n",
    "i = 0\n",
    "for t in sections:\n",
    "    print(t)\n",
    "    url = f'https://www.leaazleeya.com/search/label/{t}'\n",
    "    pages.append(url)\n",
    "    while t is not None:\n",
    "        r = requests.get(url)\n",
    "        soup = BeautifulSoup(r.content, \"lxml\")\n",
    "        try:\n",
    "            a = soup.find('a', attrs={'class': 'blog-pager-older-link'}).get('href')\n",
    "        except:\n",
    "            a = None\n",
    "        if a is not None:\n",
    "            url = a\n",
    "            pages.append(url)\n",
    "            i +=1\n",
    "        else:\n",
    "            break\n",
    "\n",
    "print(f'Links collected: {i}')"
   ]
  },
  {
   "cell_type": "code",
   "execution_count": 73,
   "metadata": {},
   "outputs": [
    {
     "name": "stdout",
     "output_type": "stream",
     "text": [
      "Num. of unique links: 544\n"
     ]
    }
   ],
   "source": [
    "max_worker = 10\n",
    "\n",
    "hrefs = []\n",
    "for t in pages:\n",
    "    r = requests.get(t)\n",
    "    soup = BeautifulSoup(r.content, \"lxml\")\n",
    "    a = soup.find_all('a')\n",
    "    a = [a_.get('href') for a_ in a if a_.get('href')]\n",
    "    \n",
    "    # for i in tqdm(range(1, len(pages) + 1)):\n",
    "    with ThreadPoolExecutor(max_workers=max_worker) as executor:\n",
    "        futures = {executor.submit(crawl, t): t for t in pages}\n",
    "    \n",
    "    for future in as_completed(futures):\n",
    "        future.result()\n",
    "\n",
    "hrefs2 = list(set(hrefs))\n",
    "print(f'Num. of unique links: {len(hrefs2)}')\n",
    "with open(f'leaazleeya-link.json', 'a') as f:\n",
    "    json.dump(hrefs2, f)"
   ]
  },
  {
   "cell_type": "markdown",
   "metadata": {},
   "source": [
    "### 2.0 Get webpage content (headers, paragraphs, links, etc.)"
   ]
  },
  {
   "cell_type": "code",
   "execution_count": 130,
   "metadata": {},
   "outputs": [],
   "source": [
    "url = []\n",
    "with open(f'leaazleeya-link.json') as fopen:\n",
    "    href = json.load(fopen)\n",
    "url.extend(href)"
   ]
  },
  {
   "cell_type": "code",
   "execution_count": 132,
   "metadata": {},
   "outputs": [],
   "source": [
    "def process_url(x):\n",
    "    \n",
    "    while True:\n",
    "        try:\n",
    "            r = requests.get(x, headers=headers)\n",
    "            break\n",
    "        except Exception as e:\n",
    "            print(e)\n",
    "            time.sleep(5.0)\n",
    "    \n",
    "    soup = BeautifulSoup(r.text, \"lxml\")\n",
    "\n",
    "    try:\n",
    "        headline = soup.find('h3', class_=\"post-title entry-title\").text\n",
    "        h = soup.find('div', class_=\"post-body entry-content\")\n",
    "\n",
    "        # KIV\n",
    "        content = [b.text for b in h.find_all(\"b\")] + [br.text for br in h.find_all(\"br\")] \\\n",
    "                  + [span.text for span in h.find_all(\"span\")]\n",
    "\n",
    "    except Exception as e:\n",
    "        print('error in link:'+ x)\n",
    "        print(e)\n",
    "        return None\n",
    "\n",
    "    data = {'url': x, 'headline': headline, 'content': content}\n",
    "    return data"
   ]
  },
  {
   "cell_type": "code",
   "execution_count": 142,
   "metadata": {},
   "outputs": [],
   "source": [
    "batch1 = url[0:49]\n",
    "batch2 = url[50:99]\n",
    "batch3 = url[100:149]\n",
    "batch4 = url[150:199]\n",
    "batch5 = url[200:249]\n",
    "batch6 = url[250:299]\n",
    "batch7 = url[300:349]\n",
    "batch8 = url[350:399]\n",
    "batch9 = url[400:449]\n",
    "batch10 = url[450:499]\n",
    "batch11 = url[500:543]\n",
    "\n",
    "batches = [batch1, batch2, batch3, batch4, batch5, batch6, batch7,\n",
    "        batch8, batch9, batch10, batch11]"
   ]
  },
  {
   "cell_type": "code",
   "execution_count": 138,
   "metadata": {},
   "outputs": [
    {
     "name": "stderr",
     "output_type": "stream",
     "text": [
      "100%|██████████| 49/49 [00:11<00:00,  4.38it/s]\n"
     ]
    }
   ],
   "source": [
    "max_workers = 5\n",
    "\n",
    "for urls in batches:\n",
    "\n",
    "    with ThreadPoolExecutor(max_workers=max_workers) as executor:\n",
    "        futures = [executor.submit(process_url, x) for x in urls]\n",
    "        \n",
    "        for future in tqdm(futures, total=len(urls)):\n",
    "            result = future.result()\n",
    "            if result:\n",
    "                with open(f'leaazleeya-links-batch-{urls}.jsonl', 'a') as f:\n",
    "                    json.dump(result, f)\n",
    "                    f.write('\\n')"
   ]
  }
 ],
 "metadata": {
  "kernelspec": {
   "display_name": "base",
   "language": "python",
   "name": "python3"
  },
  "language_info": {
   "codemirror_mode": {
    "name": "ipython",
    "version": 3
   },
   "file_extension": ".py",
   "mimetype": "text/x-python",
   "name": "python",
   "nbconvert_exporter": "python",
   "pygments_lexer": "ipython3",
   "version": "3.9.12"
  },
  "orig_nbformat": 4
 },
 "nbformat": 4,
 "nbformat_minor": 2
}
