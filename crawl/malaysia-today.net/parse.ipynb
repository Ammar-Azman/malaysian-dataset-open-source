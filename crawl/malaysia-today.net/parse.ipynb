{
 "cells": [
  {
   "cell_type": "code",
   "execution_count": 1,
   "metadata": {},
   "outputs": [],
   "source": [
    "from glob import glob\n",
    "from tqdm import tqdm\n",
    "import json"
   ]
  },
  {
   "cell_type": "code",
   "execution_count": 2,
   "metadata": {},
   "outputs": [
    {
     "data": {
      "text/plain": [
       "101110"
      ]
     },
     "execution_count": 2,
     "metadata": {},
     "output_type": "execute_result"
    }
   ],
   "source": [
    "files = sorted(glob('page/*.json'))\n",
    "len(files)"
   ]
  },
  {
   "cell_type": "code",
   "execution_count": 3,
   "metadata": {},
   "outputs": [
    {
     "name": "stderr",
     "output_type": "stream",
     "text": [
      "100%|████████████████████████████████| 101110/101110 [00:07<00:00, 13604.39it/s]\n"
     ]
    }
   ],
   "source": [
    "with open('data.jsonl', 'w') as fopen_l:\n",
    "    for f in tqdm(files):\n",
    "        with open(f) as fopen:\n",
    "            data = json.load(fopen)\n",
    "        \n",
    "        if not len(data):\n",
    "            continue\n",
    "        \n",
    "        fopen_l.write(f'{json.dumps(data)}\\n')"
   ]
  },
  {
   "cell_type": "code",
   "execution_count": 4,
   "metadata": {},
   "outputs": [
    {
     "name": "stdout",
     "output_type": "stream",
     "text": [
      "{\"url\": \"https://www.malaysia-today.net/2004/11/23/anwars-open-house-attracted-malaysians-from-all-walks-of-life/\", \"title\": \"Anwar\\u2019s open house attracted Malaysians from all walks of life\", \"h4\": [], \"p\": [\"Raja Petra Kamarudin\", \"Anwar Ibrahim will be having a dialogue with the legal fraternity at 5.00pm today. The dialogue, which will, amongst others, feature his views on Malaysia\\u2019s legal system as well as what he had to go through these last six years, will be held at the Bar Council Auditorium in Kuala Lumpur.\", \"Yesterday, Anwar\\u2019s open house attracted Malaysians from all walks of life. You would not be faulted if you mistakenly thought you had stumbled in on a Malay College Kuala Kangsar Old Boy\\u2019s Association (MCOBA) gathering or an Umno meeting. Both, in fact, were well-represented.For that matter, the Reformasi presence seems to have been downplayed somewhat and the only indication of politics were the welcome and congratulatory banners carrying the party colours lining the road leading to the house, in this case the Parti Keadilan Rakyat colours.\", \"Malaysia Today spent many an hour photographing the various dignitaries and familiar faces amongst what could have been ten thousand converging on Anwar\\u2019s Bukit Damansara home. It was of course extremely difficult to assess the size of the crowd as there were streams of visitors both ways \\u2014 those arriving as well as those leaving \\u2014 so it was quite a smooth flow.\", \"While on the subject of crowd turnout, it was reported that 200,000 turned out for the Umno open house at PMTC on the first day of Hari Raya and another 80,000 at Abdullah Ahmad Badawi\\u2019s (Pak Lah\\u2019s) home in Kepala Batas the second day. Now, assuming the Prime Minister takes five seconds to shake the hand of each and every visitor; which it seems he did; then he would need 16 days, non-stop, to shake everybody\\u2019s hands. If he stood there from 10.00am to 6.00pm without even taking a pee break, then he could only have shaken hands with 5,760 people.\", \"Hmm\\u2026mathematically it does not add up. Did only 10,000 people turn up in PWTC and Kepala Batas or did Pak Lah stand there for 16 days non-stop?\", \"Anyway, back to Anwar\\u2019s open house yesterday.\", \"The security and crowd control unit must have learnt a lot since Anwar\\u2019s release from jail on 2 September 2004. Probably the criticism levelled at it \\u2014 which it did not take kindly and became quite hostile at being criticised \\u2014 helped somewhat. You could hardly feel the presence of the security and crowd control unit and no one felt intimidated by bouncers in black T-shirts and berets pushing and shoving them.\", \"That is probably the problem with asking a boy to do a man\\u2019s job. And whenever Malaysians are given a uniform and a mandate, they act like they are second to God Himself. The hilarious thing, of course, is when Anwar\\u2019s own family is prevented from entering the house and, yesterday, it was repeated when some members of his family were stopped from entering the house.\", \"Hmm\\u2026surely Anwar\\u2019s family does not look that menacing that the security personnel need to be uptight whenever they get close to the house.\", \"The fact that the Reformasi Movement or Parti Keadilan Rakyat \\u2014 unlike Umno, MCA, MIC, or even PAS \\u2014 is extremely diverse could be felt if one were to mingle amongst the crowd at Anwar\\u2019s open house yesterday. Clearly, the Anwarists are very divided on many issues and it is probably only Anwar\\u2019s charisma that is single-handedly holding everyone together.\", \"One thing that is apparent, people have a \\u2018follow the herd\\u2019 mentality. They form opinions based on other peoples\\u2019 opinions. They like to be part of the majority, not within the minority.\", \"For example, take the case of Anwar and Dr Wan Azizah Ismail dropping in on Pak Lah the second day of Hari Raya. If you were to \\u2018ambush\\u2019 an Anwarista and immediately ask him or her his or her opinion, they would probably not have one. But if you allow them time to check with their contemporaries, then they would later form an opinion based on what many others feel as well. This means; this opinion is not their own but \\u2018popular\\u2019 opinion \\u2014 or follow the herd mentality.\", \"While on that subject, some Anwaristas feel it was wrong for Anwar and Wan Azizah to pay homage to Pak Lah, but they are divided on the reason. One group feels Anwar has \\u2018lowered\\u2019 himself by going to meet Pak Lah. Then, another group feels it may give the wrong signal; that is Anwar \\u2018gila talak\\u2019 and misses Umno and this is just another attempt to get close to the Prime Minister to facilitate his return to Umno.\", \"There are also those who have no problems whether Anwar returns to Umno or not. They are just worried that by visiting Pak Lah this would cause his Deputy, Najib, to start feeling jittery in that maybe Anwar could replace him as the new number two. This may result in Najib making a move on Pak Lah, argued these people. Najib, backed by Dr Mahathir Mohamad, may oust Pak Lah just to prevent him from bringing Anwar back into Umno.\", \"Then there are other political theorists who welcome Najib making his move on Pak Lah. They contend this may cause Pak Lah to panic whereby he would quickly team up with Anwar to defend his own position. It would be a win-win situation, they explained. Pak Lah\\u2019s position would be secure and Anwar would get back into power.\", \"Hmm\\u2026was yesterday a Hari Raya get-together or a lining up of political forces?\"]}\r\n",
      "{\"url\": \"https://www.malaysia-today.net/2004/11/23/malay-rights-and-privileges/\", \"title\": \"Malay rights and privileges\", \"h4\": [], \"p\": [\"Raja Petra Kamarudin\", \"In March this year, Malaysian voters gave Abdullah Ahmad Badawi\\u2019s government a resounding victory in the 11th General Election. The Umno-led Barisan Nasional government secured about 90% of the Parliamentary seats though with only about two-thirds of the votes.\", \"Even if the ruling party had secured only half the votes it could still form the government as, in Malaysia, winning the votes does not necessarily mean you win the seats as well. In 1969, the ruling party then, the Alliance Party, won only about 40% of the votes but it still managed to form the government with a simple majority.But forming a government with a simple majority is not good enough for Barisan Nasional. Forming a government with a two-thirds majority is also not good enough either. It must be with a landslide win.\", \"In 1969, the ruling party solved this by \\u2018sponsoring\\u2019 the infamous \\u2018May 13\\u2019 race riots. In 1999, the Prime Minister then, Dr Mahathir Mohamad, warned the non-Malays that if, again, like in 1969, the ruling party loses its two-thirds majority, then prepare for another race riot.\", \"A government, explained Dr Mahathir, without a two-thirds majority, will not have the power to prevent another race riot. Therefore, it is necessary for the ruling party to not only win the general election, but to win with a two-thirds majority as well.\", \"How this logic applies was not explained. What if the ruling party wins only 55% of the seats instead of more than 67%? How would this result in race riots exploding? And why would the government be powerless to prevent race riots with only 55% of the seats but will be powerful enough to stop it with 67% of the seats? Is it not the army and police that ensure the peace and security of the government regardless of how many seats in Parliament the government of the day owns?\", \"Well, take Terengganu and Kelantan as examples. In 1999, the ruling party was wiped out in those two states when the state fell to the opposition. Did race riots erupt there? And, if not, then why \\u2014 since going by Dr Mahathir\\u2019s logic there should have been bloodshed in the streets of these two states?\", \"The truth is; race riots have nothing to do with the number of seats the ruling party owns in Parliament. It has everything to do with agent provocateurs. And, in 1999, Umno was the agent provocateur.\", \"Anyway, the Malays want Barisan Nasional to continue in office. Why? Because, according to the Malays, only then can Umno continue to defend the Malays\\u2019 special rights and privileges.\", \"Hmm\\u2026Barisan Nasional stays in office and Umno can defend the Malays\\u2019 special rights and privileges. There are two things wrong with this argument.\", \"First, what special Malay rights and privileges are they talking about? I just cannot see what they are. Do they mean: to ensure Malay students will be guaranteed a place in institutes of higher learning? Only if you support Umno and not if you support the opposition \\u2014 unless you did not notice that all students suspected of supporting the opposition would have their scholarships withdrawn and they would be thrown out of school.\", \"Second, do special Malay rights and privileges mean anything or is it nothing but a load of bullshit? How do special Malay rights and privileges put food on the table or a roof over your head?\", \"So, Malays have special rights and privileges, do they? Big deal! Why not take a drive around Damansara Utama, Damansara Jaya, Paramount Garden, Subang Jaya, Subang USJ, Bangsar, Jalan Kelang, Jalan Ipoh, Jalan Tuanku Abdul Rahman, Taman Megah, Bukit Bintang, Pudu, Puchong, Sungai Besi, Cheras, Kepong, Jinjang, Batu Caves, Setapak \\u2014 okay, let\\u2019s cut in short, drive around ALL the urban areas anywhere in Malaysia \\u2014 and show me how many Malay-owned business premises you can find. Practically the entire economy is dominated by the non-Malays, in particular the Chinese.\", \"The stupid Malays stand on stage in front of the rostrum at the Umno General Assembly year after year shouting and screaming about defending and protecting special Malay rights and privileges! The stupid Malays stand on stage in front of the rostrum at the Umno General Assembly year after year shouting and screaming that only Umno can defend and protect the Malay\\u2019s special rights and privileges!\", \"Big deal! While the stupid Malays scream and shout, the non-Malays quietly dominate the economy of this country. The Malays can keep their special rights and privileges. I don\\u2019t need it. If this is what having special rights and privileges mean, I would rather be like the non-Malays who have nothing but are laughing all the way to the bank.\", \"By the way, did you know that many of those Umno leaders who won a seat in the Umno Supreme Council recently did so with Chinese money? They of course bought all their votes and the Chinese businessmen paid for it.\", \"Hmm, looks like the Chinese not only own all the businesses in Malaysia, they now own Umno as well. Sigh\\u2026I wish I was born a Chinese instead of a stupid Malay. Well, maybe I can pretend I am not Malay then it won\\u2019t be too embarrassing.\", \"By the way, the houses in my neighbourhood, an upper-middle class neighbourhood on the outskirts of Kuala Lumpur, are more than 90% Chinese-owned. Down the road, Bandar Baru Sungai Buloh, where the low cost houses are, the ratio of Malay ownership increases to more than 70%.\", \"Guess who owns all the money and who owns the special rights and privileges? No prize for the right guess! Excuse me while I go throw up\\u2026sic.\"]}\r\n"
     ]
    }
   ],
   "source": [
    "!head -n 2 data.jsonl"
   ]
  },
  {
   "cell_type": "code",
   "execution_count": null,
   "metadata": {},
   "outputs": [],
   "source": []
  }
 ],
 "metadata": {
  "kernelspec": {
   "display_name": "Python 3 (ipykernel)",
   "language": "python",
   "name": "python3"
  },
  "language_info": {
   "codemirror_mode": {
    "name": "ipython",
    "version": 3
   },
   "file_extension": ".py",
   "mimetype": "text/x-python",
   "name": "python",
   "nbconvert_exporter": "python",
   "pygments_lexer": "ipython3",
   "version": "3.8.10"
  }
 },
 "nbformat": 4,
 "nbformat_minor": 4
}
