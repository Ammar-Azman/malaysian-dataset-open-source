{
 "cells": [
  {
   "cell_type": "code",
   "execution_count": 17,
   "metadata": {},
   "outputs": [],
   "source": [
    "import requests\n",
    "from bs4 import BeautifulSoup\n",
    "from tqdm import tqdm\n",
    "import os\n",
    "import json\n",
    "import numpy as np\n",
    "import time\n",
    "import random\n",
    "import json"
   ]
  },
  {
   "cell_type": "code",
   "execution_count": 46,
   "metadata": {},
   "outputs": [],
   "source": [
    "r = requests.get('https://www.malaysia-today.net/category/news/malaysia/')\n",
    "soup = BeautifulSoup(r.content, \"lxml\")"
   ]
  },
  {
   "cell_type": "code",
   "execution_count": 47,
   "metadata": {},
   "outputs": [],
   "source": [
    "a = soup.find_all('a')\n",
    "a = [a_.get('href') for a_ in a if len(a_.get('href', ''))]\n",
    "a = [a_ for a_ in a if 'https://www.malaysia-today.net/category/' in a_ and '/page' not in a_]\n",
    "categories = list(set(a))"
   ]
  },
  {
   "cell_type": "code",
   "execution_count": 61,
   "metadata": {},
   "outputs": [],
   "source": [
    "def crawl(url, filename):\n",
    "    if os.path.exists(filename):\n",
    "        return True\n",
    "    r = requests.get(url)\n",
    "    soup = BeautifulSoup(r.content, \"lxml\")\n",
    "    a = soup.find_all('a', {'class': 'post-url'})\n",
    "    a = list(set([a_.get('href') for a_ in a if len(a_.get('href', ''))]))\n",
    "    with open(filename, 'w') as fopen:\n",
    "        json.dump(a, fopen)"
   ]
  },
  {
   "cell_type": "code",
   "execution_count": 53,
   "metadata": {},
   "outputs": [],
   "source": [
    "!mkdir url"
   ]
  },
  {
   "cell_type": "code",
   "execution_count": 62,
   "metadata": {},
   "outputs": [
    {
     "data": {
      "text/plain": [
       "'https://www.malaysia-today.net/category/videos/rpk-videos/'"
      ]
     },
     "execution_count": 62,
     "metadata": {},
     "output_type": "execute_result"
    }
   ],
   "source": [
    "categories[0]"
   ]
  },
  {
   "cell_type": "code",
   "execution_count": 65,
   "metadata": {},
   "outputs": [
    {
     "name": "stderr",
     "output_type": "stream",
     "text": [
      "100%|███████████████████████████████████████████| 3/3 [00:00<00:00, 1331.24it/s]\n",
      "100%|█████████████████████████████████████████████| 7/7 [00:11<00:00,  1.64s/it]\n",
      "100%|███████████████████████████████████████████| 51/51 [02:19<00:00,  2.74s/it]\n",
      "100%|█████████████████████████████████████████████| 1/1 [00:01<00:00,  1.33s/it]\n",
      "100%|███████████████████████████████████████████| 43/43 [01:29<00:00,  2.08s/it]\n",
      "100%|███████████████████████████████████████████| 70/70 [03:32<00:00,  3.03s/it]\n",
      "100%|█████████████████████████████████████████████| 1/1 [00:01<00:00,  1.06s/it]\n",
      "100%|███████████████████████████████████████████| 25/25 [00:47<00:00,  1.89s/it]\n",
      "100%|███████████████████████████████████████████| 30/30 [01:00<00:00,  2.02s/it]\n",
      "100%|█████████████████████████████████████████████| 2/2 [00:05<00:00,  2.51s/it]\n",
      "100%|█████████████████████████████████████████████| 6/6 [00:09<00:00,  1.67s/it]\n",
      "100%|█████████████████████████████████████████████| 1/1 [00:01<00:00,  1.30s/it]\n",
      "100%|█████████████████████████████████████████████| 3/3 [00:04<00:00,  1.51s/it]\n",
      "100%|███████████████████████████████████████████| 18/18 [00:37<00:00,  2.08s/it]\n",
      "100%|███████████████████████████████████████████| 44/44 [01:58<00:00,  2.70s/it]\n",
      "100%|███████████████████████████████████████████| 26/26 [00:47<00:00,  1.83s/it]\n",
      "100%|███████████████████████████████████████████| 76/76 [04:04<00:00,  3.22s/it]\n"
     ]
    }
   ],
   "source": [
    "from concurrent.futures import ThreadPoolExecutor, as_completed\n",
    "\n",
    "max_worker = 10\n",
    "\n",
    "for c in categories:\n",
    "    t = c.split('/category/')[1].replace('/', '-')\n",
    "    r = requests.get(c)\n",
    "    soup = BeautifulSoup(r.content, \"lxml\")\n",
    "    a = soup.find_all('a', {'class': 'page-numbers'})\n",
    "    numbers = []\n",
    "    for a_ in a:\n",
    "        try:\n",
    "            numbers.append(int(a_.text.strip()))\n",
    "        except:\n",
    "            pass\n",
    "    \n",
    "    if len(numbers):\n",
    "        max_num = max(numbers)\n",
    "    else:\n",
    "        max_num = 1\n",
    "    \n",
    "    for i in tqdm(range(1, max_num + 1, max_worker)):\n",
    "        aranged = np.arange(i, i + max_worker)\n",
    "        urls = [(f'{c}page/{a}', \n",
    "                 os.path.join('url', f'{t}-{a}.json')) for a in aranged]\n",
    "        with ThreadPoolExecutor(max_workers=max_worker) as executor:\n",
    "            futures = {executor.submit(crawl, url[0], url[1]): url for url in urls}  \n",
    "        \n",
    "        for future in as_completed(futures):\n",
    "            future.result()"
   ]
  },
  {
   "cell_type": "code",
   "execution_count": null,
   "metadata": {},
   "outputs": [],
   "source": []
  }
 ],
 "metadata": {
  "kernelspec": {
   "display_name": "Python 3 (ipykernel)",
   "language": "python",
   "name": "python3"
  },
  "language_info": {
   "codemirror_mode": {
    "name": "ipython",
    "version": 3
   },
   "file_extension": ".py",
   "mimetype": "text/x-python",
   "name": "python",
   "nbconvert_exporter": "python",
   "pygments_lexer": "ipython3",
   "version": "3.8.10"
  }
 },
 "nbformat": 4,
 "nbformat_minor": 4
}
