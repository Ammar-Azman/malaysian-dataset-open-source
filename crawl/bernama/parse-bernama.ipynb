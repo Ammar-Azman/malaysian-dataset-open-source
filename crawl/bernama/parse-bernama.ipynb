{
 "cells": [
  {
   "cell_type": "code",
   "execution_count": 11,
   "metadata": {},
   "outputs": [],
   "source": [
    "import pickle\n",
    "import json\n",
    "from bs4 import BeautifulSoup\n",
    "from tqdm import tqdm"
   ]
  },
  {
   "cell_type": "code",
   "execution_count": 2,
   "metadata": {},
   "outputs": [],
   "source": [
    "with open('bernama.pkl', 'rb') as fopen:\n",
    "    data = pickle.load(fopen)"
   ]
  },
  {
   "cell_type": "code",
   "execution_count": 3,
   "metadata": {},
   "outputs": [
    {
     "data": {
      "text/plain": [
       "{'ori': {'href': 'news_bencana.php?id=2153542',\n",
       "  'text': 'Jawatankuasa Bencana Pusat laksana koordinasi cari penyelesaian menyeluruh',\n",
       "  'url': 'https://www.bernama.com/bm/am/bencana.php'},\n",
       " 'request': <Response [200]>}"
      ]
     },
     "execution_count": 3,
     "metadata": {},
     "output_type": "execute_result"
    }
   ],
   "source": [
    "data[0]"
   ]
  },
  {
   "cell_type": "code",
   "execution_count": 12,
   "metadata": {},
   "outputs": [
    {
     "name": "stderr",
     "output_type": "stream",
     "text": [
      "100%|█████████████████████████████████████| 30952/30952 [13:24<00:00, 38.47it/s]\n"
     ]
    }
   ],
   "source": [
    "results = []\n",
    "for d in tqdm(data):\n",
    "    soup = BeautifulSoup(d['request']._content, 'lxml')\n",
    "    ps = []\n",
    "    for div in soup.find_all('div', {'class': 'col-12 mt-3 text-dark text-justify'})[:-1]:\n",
    "        ps.extend(div.find_all('p'))\n",
    "\n",
    "    ps = [p.text for p in ps]\n",
    "    tags = soup.find_all('a', {'class': 'btn btn-sm btn-danger m-1 text-light'})\n",
    "    tags = [a.text for a in tags]\n",
    "    results.append({\n",
    "        **d['ori'],\n",
    "        'p': ps,\n",
    "        'tags': tags,\n",
    "    })    "
   ]
  },
  {
   "cell_type": "code",
   "execution_count": 13,
   "metadata": {},
   "outputs": [
    {
     "data": {
      "text/plain": [
       "{'href': 'news_bencana.php?id=2153542',\n",
       " 'text': 'Jawatankuasa Bencana Pusat laksana koordinasi cari penyelesaian menyeluruh',\n",
       " 'url': 'https://www.bernama.com/bm/am/bencana.php',\n",
       " 'p': ['PUTRAJAYA, 5 Jan (Bernama) --\\xa0Jawatankuasa Pengurusan Bencana Pusat telah melaksanakan koordinasi dengan kementerian dan agensi berkaitan\\xa0bagi mencari penyelesaian menyeluruh terhadap masalah selepas musim Monsun Timur Laut (MTL), kata Timbalan Perdana Menteri Datuk Seri Dr Ahmad Zahid Hamidi.',\n",
       "  'Beliau\\xa0yang juga Pengerusi\\xa0Jawatankuasa Pengurusan Bencana Pusat berkata langkah tersebut tidak terhad kepada kerja pembaikan infrastruktur dan kediaman yang rosak akibat banjir, malah bertujuan merangka perancangan jangka panjang termasuk proses mitigasi mangsa.',\n",
       "  '\"Harus ada keselarasan dari segi pelaksanaan dan\\xa0jika kita bekerja bersama-sama,\\xa0keputusan akhir dapat dicapai secara menyeluruh. Setiap kali musim banjir, kerajaan perlu baiki rumah rosak, bina baharu rumah yang hanyut dan baiki jalan rosak.',\n",
       "  '\"Proses ini sentiasa berulang setiap kali banjir. Kita mesti cari penyelesaian menyeluruh dan jangka panjang,” katanya pada sidang media selepas menghadiri Majlis Amanat Tahun Baharu 2023 Kementerian Kemajuan Desa dan Wilayah, di\\xa0sini hari ini.',\n",
       "  'Pada 5 Dis lepas, Perdana Menteri Datuk Seri Anwar Ibrahim dilaporkan berkata Ahmad Zahid akan bertanggungjawab sebagai Pengerusi\\xa0Jawatankuasa Pengurusan Bencana Pusat bagi memastikan negara bersiap sedia menghadapi bencana banjir berdasarkan langkah pemantauan serta persediaan yang dibuat jawatankuasa berkenaan.',\n",
       "  'Jabatan Meteorologi Malaysia\\xa0(MetMalaysia) telah mengeluarkan amaran awal bahawa Malaysia akan mengalami MTL atau\\xa0musim tengkujuh\\xa0lebih awal daripada yang dijangka\\xa0iaitu pada 7 Nov lepas,\\xa0dan berterusan sehingga Mac ini.',\n",
       "  'Sementara itu, Ahmad Zahid berkata kerajaan Kedah\\xa0bertanggungjawab sepenuhnya membantu dan menyelesaikan isu berbangkit melibatkan mangsa banjir di daerah Baling, khususnya pembinaan semula kediaman yang rosak, walaupun kerajaan Persekutuan menyalurkan peruntukan bagi meringankan beban mereka.',\n",
       "  'Ahmad Zahid yang juga Menteri\\xa0Kemajuan Desa dan Wilayah berkata ia sebagai menzahirkan penghargaan terhadap sokongan rakyat kepada kerajaan terbabit pada Pilihan Raya Umum ke-15 (PRU15), November lepas.',\n",
       "  'Pada Julai lepas, sebanyak 41 kawasan di daerah Baling terjejas akibat bencana banjir lumpur dan aliran puing, dengan nilai kerugian dianggarkan berjumlah RM28 juta, melibatkan kemusnahan rumah, premis, infrastruktur, kenderaan dan harta benda lain.'],\n",
       " 'tags': ['ahmad zahid hamidi', ' mtl', ' banjir', ' kedah']}"
      ]
     },
     "execution_count": 13,
     "metadata": {},
     "output_type": "execute_result"
    }
   ],
   "source": [
    "results[0]"
   ]
  },
  {
   "cell_type": "code",
   "execution_count": 14,
   "metadata": {},
   "outputs": [],
   "source": [
    "with open('parse-bernama.json', 'w') as fopen:\n",
    "    json.dump(results, fopen)"
   ]
  }
 ],
 "metadata": {
  "kernelspec": {
   "display_name": "Python 3 (ipykernel)",
   "language": "python",
   "name": "python3"
  },
  "language_info": {
   "codemirror_mode": {
    "name": "ipython",
    "version": 3
   },
   "file_extension": ".py",
   "mimetype": "text/x-python",
   "name": "python",
   "nbconvert_exporter": "python",
   "pygments_lexer": "ipython3",
   "version": "3.8.10"
  }
 },
 "nbformat": 4,
 "nbformat_minor": 4
}
