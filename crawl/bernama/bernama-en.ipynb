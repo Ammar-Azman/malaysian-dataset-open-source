{
 "cells": [
  {
   "cell_type": "code",
   "execution_count": null,
   "metadata": {},
   "outputs": [],
   "source": [
    "import json\n",
    "import requests\n",
    "from tqdm import tqdm\n",
    "from glob import glob\n",
    "from bs4 import BeautifulSoup\n",
    "import time"
   ]
  },
  {
   "cell_type": "code",
   "execution_count": 2,
   "metadata": {},
   "outputs": [],
   "source": [
    "urls = [\n",
    "    'https://www.bernama.com/en/general/disaster.php',\n",
    "    'https://www.bernama.com/en/general/covid-19.php',\n",
    "    'https://www.bernama.com/en/general/index.php',\n",
    "    'https://www.bernama.com/en/crime_courts/index.php',\n",
    "    'https://www.bernama.com/en/business/index.php',\n",
    "    'https://www.bernama.com/en/market/index.php',\n",
    "    'https://www.bernama.com/en/sports/index.php',\n",
    "    'https://www.bernama.com/en/politics/index.php',\n",
    "    'https://www.bernama.com/en/b_focus/index.php',\n",
    "    'https://www.bernama.com/en/world/index.php',\n",
    "]"
   ]
  },
  {
   "cell_type": "code",
   "execution_count": 3,
   "metadata": {},
   "outputs": [],
   "source": [
    "def generator():\n",
    "    while True:\n",
    "        yield"
   ]
  },
  {
   "cell_type": "code",
   "execution_count": 9,
   "metadata": {
    "scrolled": true
   },
   "outputs": [
    {
     "name": "stdout",
     "output_type": "stream",
     "text": [
      "https://www.bernama.com/en/general/disaster.php\n"
     ]
    },
    {
     "name": "stderr",
     "output_type": "stream",
     "text": [
      "18it [00:12,  1.48it/s]\n"
     ]
    },
    {
     "name": "stdout",
     "output_type": "stream",
     "text": [
      "https://www.bernama.com/en/general/covid-19.php\n"
     ]
    },
    {
     "name": "stderr",
     "output_type": "stream",
     "text": [
      "25it [00:25,  1.03s/it]"
     ]
    },
    {
     "name": "stdout",
     "output_type": "stream",
     "text": [
      "HTTPSConnectionPool(host='www.bernama.com', port=443): Read timed out. (read timeout=10)\n"
     ]
    },
    {
     "name": "stderr",
     "output_type": "stream",
     "text": [
      "174it [02:56,  1.00it/s]"
     ]
    },
    {
     "name": "stdout",
     "output_type": "stream",
     "text": [
      "HTTPSConnectionPool(host='www.bernama.com', port=443): Max retries exceeded with url: /en/general/covid-19.php?page=175 (Caused by ConnectTimeoutError(<urllib3.connection.HTTPSConnection object at 0x7f5f99cdd0a0>, 'Connection to www.bernama.com timed out. (connect timeout=10)'))\n"
     ]
    },
    {
     "name": "stderr",
     "output_type": "stream",
     "text": [
      "177it [03:11,  2.68s/it]"
     ]
    },
    {
     "name": "stdout",
     "output_type": "stream",
     "text": [
      "HTTPSConnectionPool(host='www.bernama.com', port=443): Max retries exceeded with url: /en/general/covid-19.php?page=178 (Caused by ConnectTimeoutError(<urllib3.connection.HTTPSConnection object at 0x7f5fb006b7f0>, 'Connection to www.bernama.com timed out. (connect timeout=10)'))\n"
     ]
    },
    {
     "name": "stderr",
     "output_type": "stream",
     "text": [
      "288it [05:26,  1.18it/s]"
     ]
    },
    {
     "name": "stdout",
     "output_type": "stream",
     "text": [
      "HTTPSConnectionPool(host='www.bernama.com', port=443): Read timed out. (read timeout=10)\n"
     ]
    },
    {
     "name": "stderr",
     "output_type": "stream",
     "text": [
      "419it [07:50,  1.13s/it]"
     ]
    },
    {
     "name": "stdout",
     "output_type": "stream",
     "text": [
      "HTTPSConnectionPool(host='www.bernama.com', port=443): Max retries exceeded with url: /en/general/covid-19.php?page=420 (Caused by ConnectTimeoutError(<urllib3.connection.HTTPSConnection object at 0x7f5fb01fbca0>, 'Connection to www.bernama.com timed out. (connect timeout=10)'))\n"
     ]
    },
    {
     "name": "stderr",
     "output_type": "stream",
     "text": [
      "441it [08:28,  1.03it/s]"
     ]
    },
    {
     "name": "stdout",
     "output_type": "stream",
     "text": [
      "HTTPSConnectionPool(host='www.bernama.com', port=443): Max retries exceeded with url: /en/general/covid-19.php?page=442 (Caused by ConnectTimeoutError(<urllib3.connection.HTTPSConnection object at 0x7f5f9a05eb20>, 'Connection to www.bernama.com timed out. (connect timeout=10)'))\n"
     ]
    },
    {
     "name": "stderr",
     "output_type": "stream",
     "text": [
      "537it [10:26,  1.24s/it]"
     ]
    },
    {
     "name": "stdout",
     "output_type": "stream",
     "text": [
      "HTTPSConnectionPool(host='www.bernama.com', port=443): Read timed out. (read timeout=10)\n"
     ]
    },
    {
     "name": "stderr",
     "output_type": "stream",
     "text": [
      "642it [12:24,  1.14s/it]"
     ]
    },
    {
     "name": "stdout",
     "output_type": "stream",
     "text": [
      "HTTPSConnectionPool(host='www.bernama.com', port=443): Max retries exceeded with url: /en/general/covid-19.php?page=643 (Caused by ConnectTimeoutError(<urllib3.connection.HTTPSConnection object at 0x7f5f99778a00>, 'Connection to www.bernama.com timed out. (connect timeout=10)'))\n"
     ]
    },
    {
     "name": "stderr",
     "output_type": "stream",
     "text": [
      "690it [13:28,  1.20s/it]"
     ]
    },
    {
     "name": "stdout",
     "output_type": "stream",
     "text": [
      "HTTPSConnectionPool(host='www.bernama.com', port=443): Max retries exceeded with url: /en/general/covid-19.php?page=691 (Caused by ConnectTimeoutError(<urllib3.connection.HTTPSConnection object at 0x7f5f9a699eb0>, 'Connection to www.bernama.com timed out. (connect timeout=10)'))\n"
     ]
    },
    {
     "name": "stderr",
     "output_type": "stream",
     "text": [
      "783it [15:23,  1.24it/s]"
     ]
    },
    {
     "name": "stdout",
     "output_type": "stream",
     "text": [
      "HTTPSConnectionPool(host='www.bernama.com', port=443): Read timed out. (read timeout=10)\n"
     ]
    },
    {
     "name": "stderr",
     "output_type": "stream",
     "text": [
      "831it [16:23,  1.53s/it]"
     ]
    },
    {
     "name": "stdout",
     "output_type": "stream",
     "text": [
      "HTTPSConnectionPool(host='www.bernama.com', port=443): Max retries exceeded with url: /en/general/covid-19.php?page=832 (Caused by ConnectTimeoutError(<urllib3.connection.HTTPSConnection object at 0x7f5f99d27730>, 'Connection to www.bernama.com timed out. (connect timeout=10)'))\n"
     ]
    },
    {
     "name": "stderr",
     "output_type": "stream",
     "text": [
      "927it [18:29,  1.02it/s]"
     ]
    },
    {
     "name": "stdout",
     "output_type": "stream",
     "text": [
      "HTTPSConnectionPool(host='www.bernama.com', port=443): Max retries exceeded with url: /en/general/covid-19.php?page=928 (Caused by ConnectTimeoutError(<urllib3.connection.HTTPSConnection object at 0x7f5f9ab48640>, 'Connection to www.bernama.com timed out. (connect timeout=10)'))\n"
     ]
    },
    {
     "name": "stderr",
     "output_type": "stream",
     "text": [
      "1013it [20:25,  1.09s/it]"
     ]
    },
    {
     "name": "stdout",
     "output_type": "stream",
     "text": [
      "('Connection aborted.', ConnectionResetError(104, 'Connection reset by peer'))\n"
     ]
    },
    {
     "name": "stderr",
     "output_type": "stream",
     "text": [
      "1156it [23:17,  1.64s/it]"
     ]
    },
    {
     "name": "stdout",
     "output_type": "stream",
     "text": [
      "HTTPSConnectionPool(host='www.bernama.com', port=443): Max retries exceeded with url: /en/general/covid-19.php?page=1157 (Caused by ConnectTimeoutError(<urllib3.connection.HTTPSConnection object at 0x7f5f9adcb640>, 'Connection to www.bernama.com timed out. (connect timeout=10)'))\n"
     ]
    },
    {
     "name": "stderr",
     "output_type": "stream",
     "text": [
      "1357it [26:59,  1.33s/it]"
     ]
    },
    {
     "name": "stdout",
     "output_type": "stream",
     "text": [
      "HTTPSConnectionPool(host='www.bernama.com', port=443): Max retries exceeded with url: /en/general/covid-19.php?page=1358 (Caused by ConnectTimeoutError(<urllib3.connection.HTTPSConnection object at 0x7f5f9ab51490>, 'Connection to www.bernama.com timed out. (connect timeout=10)'))\n"
     ]
    },
    {
     "name": "stderr",
     "output_type": "stream",
     "text": [
      "1651it [32:32,  2.03s/it]"
     ]
    },
    {
     "name": "stdout",
     "output_type": "stream",
     "text": [
      "HTTPSConnectionPool(host='www.bernama.com', port=443): Max retries exceeded with url: /en/general/covid-19.php?page=1652 (Caused by ConnectTimeoutError(<urllib3.connection.HTTPSConnection object at 0x7f5f99dbe8e0>, 'Connection to www.bernama.com timed out. (connect timeout=10)'))\n"
     ]
    },
    {
     "name": "stderr",
     "output_type": "stream",
     "text": [
      "1801it [35:26,  1.01it/s]"
     ]
    },
    {
     "name": "stdout",
     "output_type": "stream",
     "text": [
      "HTTPSConnectionPool(host='www.bernama.com', port=443): Read timed out. (read timeout=10)\n"
     ]
    },
    {
     "name": "stderr",
     "output_type": "stream",
     "text": [
      "1813it [35:58,  1.19s/it]\n"
     ]
    },
    {
     "name": "stdout",
     "output_type": "stream",
     "text": [
      "https://www.bernama.com/en/general/index.php\n"
     ]
    },
    {
     "name": "stderr",
     "output_type": "stream",
     "text": [
      "62it [00:40,  1.53it/s]\n"
     ]
    },
    {
     "name": "stdout",
     "output_type": "stream",
     "text": [
      "https://www.bernama.com/en/crime_courts/index.php\n"
     ]
    },
    {
     "name": "stderr",
     "output_type": "stream",
     "text": [
      "17it [00:17,  1.02s/it]\n"
     ]
    },
    {
     "name": "stdout",
     "output_type": "stream",
     "text": [
      "https://www.bernama.com/en/business/index.php\n"
     ]
    },
    {
     "name": "stderr",
     "output_type": "stream",
     "text": [
      "22it [00:24,  1.10s/it]\n"
     ]
    },
    {
     "name": "stdout",
     "output_type": "stream",
     "text": [
      "https://www.bernama.com/en/market/index.php\n"
     ]
    },
    {
     "name": "stderr",
     "output_type": "stream",
     "text": [
      "11it [00:02,  4.10it/s]\n"
     ]
    },
    {
     "name": "stdout",
     "output_type": "stream",
     "text": [
      "https://www.bernama.com/en/sports/index.php\n"
     ]
    },
    {
     "name": "stderr",
     "output_type": "stream",
     "text": [
      "13it [00:03,  3.48it/s]\n"
     ]
    },
    {
     "name": "stdout",
     "output_type": "stream",
     "text": [
      "https://www.bernama.com/en/politics/index.php\n"
     ]
    },
    {
     "name": "stderr",
     "output_type": "stream",
     "text": [
      "2it [00:00,  3.39it/s]\n"
     ]
    },
    {
     "name": "stdout",
     "output_type": "stream",
     "text": [
      "https://www.bernama.com/en/b_focus/index.php\n"
     ]
    },
    {
     "name": "stderr",
     "output_type": "stream",
     "text": [
      "2it [00:00,  4.40it/s]\n"
     ]
    },
    {
     "name": "stdout",
     "output_type": "stream",
     "text": [
      "https://www.bernama.com/en/world/index.php\n"
     ]
    },
    {
     "name": "stderr",
     "output_type": "stream",
     "text": [
      "24it [00:06,  3.92it/s]\n"
     ]
    }
   ],
   "source": [
    "results = []\n",
    "processed = set()\n",
    "for url in urls:\n",
    "    print(url)\n",
    "    tail = url.split('/')[-1].strip()\n",
    "    index = 1\n",
    "    for _ in tqdm(generator()):\n",
    "        new_url = f'{url}?page={index}'\n",
    "        while True:\n",
    "            try:\n",
    "                r = requests.get(new_url, timeout = 10)\n",
    "                break\n",
    "            except Exception as e:\n",
    "                print(e)\n",
    "            \n",
    "            time.sleep(2)\n",
    "            \n",
    "        soup = BeautifulSoup(r._content, 'lxml')\n",
    "        a = [a for a in soup.find_all('a', {'class': 'text-dark'}) if a.get('href') and '?id=' in a.get('href')]\n",
    "        a = [a_ for a_ in a if 'https://' not in a_.get('href')]\n",
    "        if len(a) < 3:\n",
    "            break\n",
    "            \n",
    "        for a_ in a:\n",
    "            href = a_.get('href')\n",
    "            if href in processed:\n",
    "                continue\n",
    "            \n",
    "            results.append({\n",
    "                'href': href,\n",
    "                'text': a_.text,\n",
    "                'url': url\n",
    "            })\n",
    "            \n",
    "            processed.add(href)\n",
    "        \n",
    "        index += 1"
   ]
  },
  {
   "cell_type": "code",
   "execution_count": 10,
   "metadata": {},
   "outputs": [
    {
     "data": {
      "text/plain": [
       "15124"
      ]
     },
     "execution_count": 10,
     "metadata": {},
     "output_type": "execute_result"
    }
   ],
   "source": [
    "len(results)"
   ]
  },
  {
   "cell_type": "code",
   "execution_count": null,
   "metadata": {},
   "outputs": [],
   "source": [
    "# ps = []\n",
    "# for div in soup.find_all('div', {'class': 'col-12 mt-3 text-dark text-justify'})[:-1]:\n",
    "#     ps.extend(div.find_all('p'))\n",
    "# ps"
   ]
  },
  {
   "cell_type": "code",
   "execution_count": 11,
   "metadata": {},
   "outputs": [],
   "source": [
    "with open('bernama-en.json', 'w') as fopen:\n",
    "    json.dump(results, fopen)"
   ]
  },
  {
   "cell_type": "code",
   "execution_count": null,
   "metadata": {},
   "outputs": [],
   "source": []
  }
 ],
 "metadata": {
  "kernelspec": {
   "display_name": "Python 3 (ipykernel)",
   "language": "python",
   "name": "python3"
  },
  "language_info": {
   "codemirror_mode": {
    "name": "ipython",
    "version": 3
   },
   "file_extension": ".py",
   "mimetype": "text/x-python",
   "name": "python",
   "nbconvert_exporter": "python",
   "pygments_lexer": "ipython3",
   "version": "3.8.10"
  }
 },
 "nbformat": 4,
 "nbformat_minor": 4
}
