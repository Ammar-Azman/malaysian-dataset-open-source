{
 "cells": [
  {
   "cell_type": "code",
   "execution_count": 2,
   "metadata": {},
   "outputs": [],
   "source": [
    "import json\n",
    "import requests\n",
    "from tqdm import tqdm\n",
    "from glob import glob\n",
    "from bs4 import BeautifulSoup\n",
    "import time"
   ]
  },
  {
   "cell_type": "code",
   "execution_count": 3,
   "metadata": {},
   "outputs": [],
   "source": [
    "urls = [\n",
    "    'https://www.bernama.com/bm/am/bencana.php',\n",
    "    'https://www.bernama.com/bm/am/covid-19.php',\n",
    "    'https://www.bernama.com/bm/am/index.php',\n",
    "    'https://www.bernama.com/bm/jenayah_mahkamah/index.php',\n",
    "    'https://www.bernama.com/bm/ekonomi/index.php',\n",
    "    'https://www.bernama.com/bm/pasaran/index.php',\n",
    "    'https://www.bernama.com/bm/sukan/index.php',\n",
    "    'https://www.bernama.com/bm/politik/index.php',\n",
    "    'https://www.bernama.com/bm/b_fokus/index.php',\n",
    "    'https://www.bernama.com/bm/dunia/index.php',\n",
    "]"
   ]
  },
  {
   "cell_type": "code",
   "execution_count": 4,
   "metadata": {},
   "outputs": [],
   "source": [
    "def generator():\n",
    "    while True:\n",
    "        yield"
   ]
  },
  {
   "cell_type": "code",
   "execution_count": 8,
   "metadata": {
    "scrolled": true
   },
   "outputs": [
    {
     "name": "stdout",
     "output_type": "stream",
     "text": [
      "https://www.bernama.com/bm/am/bencana.php\n"
     ]
    },
    {
     "name": "stderr",
     "output_type": "stream",
     "text": [
      "21it [00:15,  1.38it/s]\n"
     ]
    },
    {
     "name": "stdout",
     "output_type": "stream",
     "text": [
      "https://www.bernama.com/bm/am/covid-19.php\n"
     ]
    },
    {
     "name": "stderr",
     "output_type": "stream",
     "text": [
      "71it [01:33,  1.62s/it]"
     ]
    },
    {
     "name": "stdout",
     "output_type": "stream",
     "text": [
      "HTTPSConnectionPool(host='www.bernama.com', port=443): Read timed out. (read timeout=10)\n"
     ]
    },
    {
     "name": "stderr",
     "output_type": "stream",
     "text": [
      "187it [03:56,  1.34s/it]"
     ]
    },
    {
     "name": "stdout",
     "output_type": "stream",
     "text": [
      "HTTPSConnectionPool(host='www.bernama.com', port=443): Max retries exceeded with url: /bm/am/covid-19.php?page=188 (Caused by ConnectTimeoutError(<urllib3.connection.HTTPSConnection object at 0x7fe4e70409a0>, 'Connection to www.bernama.com timed out. (connect timeout=10)'))\n"
     ]
    },
    {
     "name": "stderr",
     "output_type": "stream",
     "text": [
      "216it [04:40,  1.24s/it]"
     ]
    },
    {
     "name": "stdout",
     "output_type": "stream",
     "text": [
      "HTTPSConnectionPool(host='www.bernama.com', port=443): Max retries exceeded with url: /bm/am/covid-19.php?page=217 (Caused by ConnectTimeoutError(<urllib3.connection.HTTPSConnection object at 0x7fe4e6b39610>, 'Connection to www.bernama.com timed out. (connect timeout=10)'))\n"
     ]
    },
    {
     "name": "stderr",
     "output_type": "stream",
     "text": [
      "317it [06:32,  1.19it/s]"
     ]
    },
    {
     "name": "stdout",
     "output_type": "stream",
     "text": [
      "HTTPSConnectionPool(host='www.bernama.com', port=443): Read timed out.\n"
     ]
    },
    {
     "name": "stderr",
     "output_type": "stream",
     "text": [
      "412it [08:27,  1.26s/it]"
     ]
    },
    {
     "name": "stdout",
     "output_type": "stream",
     "text": [
      "HTTPSConnectionPool(host='www.bernama.com', port=443): Max retries exceeded with url: /bm/am/covid-19.php?page=413 (Caused by ConnectTimeoutError(<urllib3.connection.HTTPSConnection object at 0x7fe4e6387940>, 'Connection to www.bernama.com timed out. (connect timeout=10)'))\n"
     ]
    },
    {
     "name": "stderr",
     "output_type": "stream",
     "text": [
      "469it [09:36,  1.26s/it]"
     ]
    },
    {
     "name": "stdout",
     "output_type": "stream",
     "text": [
      "HTTPSConnectionPool(host='www.bernama.com', port=443): Max retries exceeded with url: /bm/am/covid-19.php?page=470 (Caused by ConnectTimeoutError(<urllib3.connection.HTTPSConnection object at 0x7fe4fc4c5fd0>, 'Connection to www.bernama.com timed out. (connect timeout=10)'))\n"
     ]
    },
    {
     "name": "stderr",
     "output_type": "stream",
     "text": [
      "558it [11:33,  1.02s/it]"
     ]
    },
    {
     "name": "stdout",
     "output_type": "stream",
     "text": [
      "HTTPSConnectionPool(host='www.bernama.com', port=443): Read timed out. (read timeout=10)\n"
     ]
    },
    {
     "name": "stderr",
     "output_type": "stream",
     "text": [
      "565it [11:52,  1.45s/it]"
     ]
    },
    {
     "name": "stdout",
     "output_type": "stream",
     "text": [
      "HTTPSConnectionPool(host='www.bernama.com', port=443): Max retries exceeded with url: /bm/am/covid-19.php?page=566 (Caused by ConnectTimeoutError(<urllib3.connection.HTTPSConnection object at 0x7fe50f7241c0>, 'Connection to www.bernama.com timed out. (connect timeout=10)'))\n"
     ]
    },
    {
     "name": "stderr",
     "output_type": "stream",
     "text": [
      "589it [12:33,  1.19s/it]"
     ]
    },
    {
     "name": "stdout",
     "output_type": "stream",
     "text": [
      "HTTPSConnectionPool(host='www.bernama.com', port=443): Max retries exceeded with url: /bm/am/covid-19.php?page=590 (Caused by ConnectTimeoutError(<urllib3.connection.HTTPSConnection object at 0x7fe4e60301c0>, 'Connection to www.bernama.com timed out. (connect timeout=10)'))\n"
     ]
    },
    {
     "name": "stderr",
     "output_type": "stream",
     "text": [
      "684it [14:43,  1.12it/s]"
     ]
    },
    {
     "name": "stdout",
     "output_type": "stream",
     "text": [
      "HTTPSConnectionPool(host='www.bernama.com', port=443): Max retries exceeded with url: /bm/am/covid-19.php?page=685 (Caused by ConnectTimeoutError(<urllib3.connection.HTTPSConnection object at 0x7fe4e7077310>, 'Connection to www.bernama.com timed out. (connect timeout=10)'))\n"
     ]
    },
    {
     "name": "stderr",
     "output_type": "stream",
     "text": [
      "763it [16:33,  1.12s/it]"
     ]
    },
    {
     "name": "stdout",
     "output_type": "stream",
     "text": [
      "HTTPSConnectionPool(host='www.bernama.com', port=443): Read timed out. (read timeout=10)\n"
     ]
    },
    {
     "name": "stderr",
     "output_type": "stream",
     "text": [
      "899it [19:23,  1.13it/s]"
     ]
    },
    {
     "name": "stdout",
     "output_type": "stream",
     "text": [
      "HTTPSConnectionPool(host='www.bernama.com', port=443): Max retries exceeded with url: /bm/am/covid-19.php?page=900 (Caused by ConnectTimeoutError(<urllib3.connection.HTTPSConnection object at 0x7fe4e5ead940>, 'Connection to www.bernama.com timed out. (connect timeout=10)'))\n"
     ]
    },
    {
     "name": "stderr",
     "output_type": "stream",
     "text": [
      "1004it [21:33,  1.02it/s]"
     ]
    },
    {
     "name": "stdout",
     "output_type": "stream",
     "text": [
      "HTTPSConnectionPool(host='www.bernama.com', port=443): Read timed out. (read timeout=10)\n"
     ]
    },
    {
     "name": "stderr",
     "output_type": "stream",
     "text": [
      "1086it [23:05,  1.03it/s]"
     ]
    },
    {
     "name": "stdout",
     "output_type": "stream",
     "text": [
      "HTTPSConnectionPool(host='www.bernama.com', port=443): Max retries exceeded with url: /bm/am/covid-19.php?page=1087 (Caused by ConnectTimeoutError(<urllib3.connection.HTTPSConnection object at 0x7fe4e67e7580>, 'Connection to www.bernama.com timed out. (connect timeout=10)'))\n"
     ]
    },
    {
     "name": "stderr",
     "output_type": "stream",
     "text": [
      "1263it [26:34,  1.20s/it]"
     ]
    },
    {
     "name": "stdout",
     "output_type": "stream",
     "text": [
      "HTTPSConnectionPool(host='www.bernama.com', port=443): Max retries exceeded with url: /bm/am/covid-19.php?page=1264 (Caused by NewConnectionError('<urllib3.connection.HTTPSConnection object at 0x7fe4e60144c0>: Failed to establish a new connection: [Errno 111] Connection refused'))\n"
     ]
    },
    {
     "name": "stderr",
     "output_type": "stream",
     "text": [
      "1378it [28:36,  1.02s/it]"
     ]
    },
    {
     "name": "stdout",
     "output_type": "stream",
     "text": [
      "HTTPSConnectionPool(host='www.bernama.com', port=443): Max retries exceeded with url: /bm/am/covid-19.php?page=1379 (Caused by ConnectTimeoutError(<urllib3.connection.HTTPSConnection object at 0x7fe4e5ee95e0>, 'Connection to www.bernama.com timed out. (connect timeout=10)'))\n"
     ]
    },
    {
     "name": "stderr",
     "output_type": "stream",
     "text": [
      "1780it [36:34,  1.16s/it]"
     ]
    },
    {
     "name": "stdout",
     "output_type": "stream",
     "text": [
      "HTTPSConnectionPool(host='www.bernama.com', port=443): Read timed out. (read timeout=10)\n"
     ]
    },
    {
     "name": "stderr",
     "output_type": "stream",
     "text": [
      "1929it [39:34,  1.23s/it]\n"
     ]
    },
    {
     "name": "stdout",
     "output_type": "stream",
     "text": [
      "https://www.bernama.com/bm/am/index.php\n"
     ]
    },
    {
     "name": "stderr",
     "output_type": "stream",
     "text": [
      "63it [00:38,  1.63it/s]\n"
     ]
    },
    {
     "name": "stdout",
     "output_type": "stream",
     "text": [
      "https://www.bernama.com/bm/jenayah_mahkamah/index.php\n"
     ]
    },
    {
     "name": "stderr",
     "output_type": "stream",
     "text": [
      "17it [00:14,  1.15it/s]\n"
     ]
    },
    {
     "name": "stdout",
     "output_type": "stream",
     "text": [
      "https://www.bernama.com/bm/ekonomi/index.php\n"
     ]
    },
    {
     "name": "stderr",
     "output_type": "stream",
     "text": [
      "17it [00:10,  1.69it/s]\n"
     ]
    },
    {
     "name": "stdout",
     "output_type": "stream",
     "text": [
      "https://www.bernama.com/bm/pasaran/index.php\n"
     ]
    },
    {
     "name": "stderr",
     "output_type": "stream",
     "text": [
      "10it [00:05,  1.90it/s]\n"
     ]
    },
    {
     "name": "stdout",
     "output_type": "stream",
     "text": [
      "https://www.bernama.com/bm/sukan/index.php\n"
     ]
    },
    {
     "name": "stderr",
     "output_type": "stream",
     "text": [
      "14it [00:06,  2.12it/s]\n"
     ]
    },
    {
     "name": "stdout",
     "output_type": "stream",
     "text": [
      "https://www.bernama.com/bm/politik/index.php\n"
     ]
    },
    {
     "name": "stderr",
     "output_type": "stream",
     "text": [
      "2it [00:00,  3.14it/s]\n"
     ]
    },
    {
     "name": "stdout",
     "output_type": "stream",
     "text": [
      "https://www.bernama.com/bm/b_fokus/index.php\n"
     ]
    },
    {
     "name": "stderr",
     "output_type": "stream",
     "text": [
      "2it [00:00,  2.51it/s]\n"
     ]
    },
    {
     "name": "stdout",
     "output_type": "stream",
     "text": [
      "https://www.bernama.com/bm/dunia/index.php\n"
     ]
    },
    {
     "name": "stderr",
     "output_type": "stream",
     "text": [
      "18it [00:03,  5.28it/s]\n"
     ]
    }
   ],
   "source": [
    "results = []\n",
    "processed = set()\n",
    "for url in urls:\n",
    "    print(url)\n",
    "    tail = url.split('/')[-1].strip()\n",
    "    index = 1\n",
    "    for _ in tqdm(generator()):\n",
    "        new_url = f'{url}?page={index}'\n",
    "        while True:\n",
    "            try:\n",
    "                r = requests.get(new_url, timeout = 10)\n",
    "                break\n",
    "            except Exception as e:\n",
    "                print(e)\n",
    "            \n",
    "            time.sleep(2)\n",
    "            \n",
    "        soup = BeautifulSoup(r._content, 'lxml')\n",
    "        a = [a for a in soup.find_all('a', {'class': 'text-dark'}) if a.get('href') and '?id=' in a.get('href')]\n",
    "        a = [a_ for a_ in a if 'https://' not in a_.get('href')]\n",
    "        if len(a) < 3:\n",
    "            break\n",
    "            \n",
    "        for a_ in a:\n",
    "            href = a_.get('href')\n",
    "            if href in processed:\n",
    "                continue\n",
    "            \n",
    "            results.append({\n",
    "                'href': href,\n",
    "                'text': a_.text,\n",
    "                'url': url\n",
    "            })\n",
    "            \n",
    "            processed.add(href)\n",
    "        \n",
    "        index += 1"
   ]
  },
  {
   "cell_type": "code",
   "execution_count": 6,
   "metadata": {},
   "outputs": [
    {
     "data": {
      "text/plain": [
       "'https://www.bernama.com/en/general/disaster.php?page=194'"
      ]
     },
     "execution_count": 6,
     "metadata": {},
     "output_type": "execute_result"
    }
   ],
   "source": [
    "new_url"
   ]
  },
  {
   "cell_type": "code",
   "execution_count": 9,
   "metadata": {},
   "outputs": [
    {
     "data": {
      "text/plain": [
       "15828"
      ]
     },
     "execution_count": 9,
     "metadata": {},
     "output_type": "execute_result"
    }
   ],
   "source": [
    "len(results)"
   ]
  },
  {
   "cell_type": "code",
   "execution_count": 10,
   "metadata": {},
   "outputs": [
    {
     "data": {
      "text/plain": [
       "{'href': 'news_bencana.php?id=2153542',\n",
       " 'text': 'Jawatankuasa Bencana Pusat laksana koordinasi cari penyelesaian menyeluruh',\n",
       " 'url': 'https://www.bernama.com/bm/am/bencana.php'}"
      ]
     },
     "execution_count": 10,
     "metadata": {},
     "output_type": "execute_result"
    }
   ],
   "source": [
    "results[0]"
   ]
  },
  {
   "cell_type": "code",
   "execution_count": 11,
   "metadata": {},
   "outputs": [],
   "source": [
    "with open('bernama-ms.json', 'w') as fopen:\n",
    "    json.dump(results, fopen)"
   ]
  },
  {
   "cell_type": "code",
   "execution_count": null,
   "metadata": {},
   "outputs": [],
   "source": []
  }
 ],
 "metadata": {
  "kernelspec": {
   "display_name": "Python 3 (ipykernel)",
   "language": "python",
   "name": "python3"
  },
  "language_info": {
   "codemirror_mode": {
    "name": "ipython",
    "version": 3
   },
   "file_extension": ".py",
   "mimetype": "text/x-python",
   "name": "python",
   "nbconvert_exporter": "python",
   "pygments_lexer": "ipython3",
   "version": "3.8.10"
  }
 },
 "nbformat": 4,
 "nbformat_minor": 4
}
