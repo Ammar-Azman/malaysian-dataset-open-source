{
 "cells": [
  {
   "cell_type": "code",
   "execution_count": 1,
   "metadata": {},
   "outputs": [],
   "source": [
    "import requests\n",
    "from bs4 import BeautifulSoup\n",
    "from tqdm import tqdm\n",
    "import os\n",
    "import json\n",
    "import numpy as np\n",
    "import time\n",
    "import random\n",
    "import json\n",
    "import urllib3\n",
    "urllib3.disable_warnings(urllib3.exceptions.InsecureRequestWarning)"
   ]
  },
  {
   "cell_type": "code",
   "execution_count": 8,
   "metadata": {},
   "outputs": [],
   "source": [
    "headers = {\n",
    "    'authority': 'propcafe.net',\n",
    "    'accept': 'text/html,application/xhtml+xml,application/xml;q=0.9,image/avif,image/webp,image/apng,*/*;q=0.8,application/signed-exchange;v=b3;q=0.7',\n",
    "    'accept-language': 'en-MY,en;q=0.9,en-US;q=0.8,ms;q=0.7',\n",
    "    'cache-control': 'no-cache',\n",
    "    'pragma': 'no-cache',\n",
    "    'sec-ch-ua': '\"Chromium\";v=\"116\", \"Not)A;Brand\";v=\"24\", \"Google Chrome\";v=\"116\"',\n",
    "    'sec-ch-ua-mobile': '?0',\n",
    "    'sec-ch-ua-platform': '\"macOS\"',\n",
    "    'sec-fetch-dest': 'document',\n",
    "    'sec-fetch-mode': 'navigate',\n",
    "    'sec-fetch-site': 'same-origin',\n",
    "    'sec-fetch-user': '?1',\n",
    "    'upgrade-insecure-requests': '1',\n",
    "    'user-agent': 'Mozilla/5.0 (Macintosh; Intel Mac OS X 10_15_7) AppleWebKit/537.36 (KHTML, like Gecko) Chrome/116.0.0.0 Safari/537.36',\n",
    "}"
   ]
  },
  {
   "cell_type": "code",
   "execution_count": 9,
   "metadata": {},
   "outputs": [],
   "source": [
    "url = 'https://propcafe.net/page/2/'\n",
    "r = requests.get(url, headers = headers)"
   ]
  },
  {
   "cell_type": "code",
   "execution_count": 10,
   "metadata": {},
   "outputs": [],
   "source": [
    "soup = BeautifulSoup(r.content, \"lxml\")"
   ]
  },
  {
   "cell_type": "code",
   "execution_count": 11,
   "metadata": {},
   "outputs": [
    {
     "data": {
      "text/plain": [
       "['https://propcafe.net/kiara-bay-at-kepong-by-uem-sunrise/',\n",
       " 'https://propcafe.net/propcafe-guide-%e6%88%bf%e8%b4%ad%e5%ae%9d%e5%85%b8-%e8%b4%ad%e4%b9%b0%e6%88%bf%e4%ba%a7%e6%97%b6%e7%9a%84120-%e4%b8%aa%e4%b8%8d-part-2/',\n",
       " 'https://propcafe.net/ekocheras-duplex-studio-apartment-762sq/',\n",
       " 'https://propcafe.net/propcafe-guide-%e6%88%bf%e8%b4%ad%e5%ae%9d%e5%85%b8-%e8%b4%ad%e4%b9%b0%e6%88%bf%e4%ba%a7%e6%97%b6%e7%9a%84120-%e4%b8%aa%e4%b8%8d-part-1/',\n",
       " 'https://propcafe.net/taman-puchong-legenda-by-huges-development/',\n",
       " 'https://propcafe.net/propcafe-guide-10-things-you-must-know-before-purchase-a-property-in-a-brand-new-township-%e8%b4%ad%e4%b9%b0%e6%96%b0%e5%9f%8e%e9%95%87%e6%88%bf%e4%ba%a7%e5%89%8d%e9%a1%bb%e4%ba%86%e8%a7%a3%e7%9a%84/',\n",
       " 'https://propcafe.net/propcafe-review-park-regent-desa-parkcity-by-perdana-parkcity-and-capitaland/',\n",
       " 'https://propcafe.net/unveiling-of-pavilion-bukit-jalil/',\n",
       " 'https://propcafe.net/berkeley-uptown-by-paramount-property-part-2/',\n",
       " 'https://propcafe.net/berkeley-uptown-klang-city-by-paramount-property-yesterday-meets-tomorrow-today/',\n",
       " 'https://propcafe.net/propcafe-review-the-story-of-johor-bahru-and-southkey-what-is-going-on/',\n",
       " 'https://propcafe.net/the-birch-jalan-ipoh-by-scp-group/',\n",
       " 'https://propcafe.net/propcafe-review-the-clio-2-residences-ioi-resort-city-putrajaya-by-ioi-properties/',\n",
       " 'https://propcafe.net/trion-sungai-besi-by-binastra/',\n",
       " 'https://propcafe.net/propcafe-360-degree-view-the-fennels-sentul-east/',\n",
       " 'https://propcafe.net/propcafe-diary-dbkl-caps-plot-ratio-for-development-in-kl-10-things-you-need-to-know-about-the-impact-of-plot-ratio-to-your-property-part-2/',\n",
       " 'https://propcafe.net/propcafe-diary-capping-of-plot-ratio-does-it-matter/',\n",
       " 'https://propcafe.net/astrea-mont-kiara-by-uem-sunrise/',\n",
       " 'https://propcafe.net/propcafe-diary-progress-of-m101-bukit-bintang-kuala-lumpur-city-centre-monopoly-hotel/',\n",
       " 'https://propcafe.net/propcafe-diary-is-eko-cheras-residential-towers-ready-for-vacant-possession-in-february/',\n",
       " 'https://propcafe.net/theme-of-property-market-2019/',\n",
       " 'https://propcafe.net/propcafe-a-day-to-remember/',\n",
       " 'https://propcafe.net/propcafe-sunway-velocity-two-cheras-by-sunway-property/',\n",
       " 'https://propcafe.net/aster-residence-cheras-by-amber-homes-home-has-a-heartbeat/',\n",
       " 'https://propcafe.net/propcafe-guide-10-common-mistakes-that-make-first-time-property-buyers-stuck/',\n",
       " 'https://propcafe.net/temasya-legasi/',\n",
       " 'https://propcafe.net/kl-gateway-suites-bangsar-south-by-suez-capital/',\n",
       " 'https://propcafe.net/dutapark-jalan-kuching-by-malton/']"
      ]
     },
     "execution_count": 11,
     "metadata": {},
     "output_type": "execute_result"
    }
   ],
   "source": [
    "a = soup.find_all('h2', {'class': 'entry-title'})\n",
    "a = [a_.find('a').get('href') for a_ in a]\n",
    "a"
   ]
  },
  {
   "cell_type": "code",
   "execution_count": 12,
   "metadata": {},
   "outputs": [
    {
     "name": "stderr",
     "output_type": "stream",
     "text": [
      "11it [00:37,  3.43s/it]\n"
     ]
    }
   ],
   "source": [
    "def generator():\n",
    "    while True:\n",
    "        yield\n",
    "        \n",
    "index = 1\n",
    "all_a = []\n",
    "\n",
    "for _ in tqdm(generator()):\n",
    "    url = f'https://propcafe.net/page/{index}/'\n",
    "    r = requests.get(url, headers = headers)\n",
    "    soup = BeautifulSoup(r.content, \"lxml\")\n",
    "\n",
    "    a = soup.find_all('h2', {'class': 'entry-title'})\n",
    "    a = [a_.find('a').get('href') for a_ in a]\n",
    "    \n",
    "    if not len(a):\n",
    "        break\n",
    "        \n",
    "    all_a.extend(a)\n",
    "    \n",
    "    index += 1"
   ]
  },
  {
   "cell_type": "code",
   "execution_count": 13,
   "metadata": {},
   "outputs": [
    {
     "data": {
      "text/plain": [
       "298"
      ]
     },
     "execution_count": 13,
     "metadata": {},
     "output_type": "execute_result"
    }
   ],
   "source": [
    "urls = sorted(list(set(all_a)))\n",
    "len(urls)"
   ]
  },
  {
   "cell_type": "code",
   "execution_count": 14,
   "metadata": {},
   "outputs": [
    {
     "data": {
      "text/plain": [
       "['https://propcafe.net/%e4%ba%a7%e4%b8%9a%e7%9b%88%e5%88%a9%e7%a8%8e-%ef%bc%88rpgt%ef%bc%89-%e5%90%8e%ef%bc%8c%e4%b8%8b%e4%b8%80%e4%b8%aa%e6%ad%a5%e9%aa%a4%e6%98%af-%e8%b4%a2%e5%af%8c%e7%a8%8e-%ef%bc%88wealth-tax%ef%bc%89/',\n",
       " 'https://propcafe.net/%e5%8d%81%e5%a4%a7%e5%a4%a7%e9%a9%ac%e6%88%bf%e5%b8%82%e9%a2%84%e6%b5%8b-top-10-predictions-for-malaysia-property-market/',\n",
       " 'https://propcafe.net/%e9%a9%ac%e6%96%b0%e9%ab%98%e9%93%81%ef%bc%8c%e9%9a%86%e5%b8%82%e6%88%bf%e4%ba%a7%e5%8f%97%e6%83%a0%ef%bc%9fimpact-of-malaysia-singapore-high-speed-rail-on-property-market/',\n",
       " 'https://propcafe.net/16-sierra-puchong-south/',\n",
       " 'https://propcafe.net/18%e6%9d%a1%e4%b9%b0%e6%88%bf%e9%a3%8e%e6%b0%b4%e7%a6%81%e5%bf%8c-18-fengshui-rules-buying-houses/',\n",
       " 'https://propcafe.net/2013-%e5%b9%b4%e5%a4%a7%e9%a9%ac%e5%8d%81%e5%a4%a7%e6%8a%95%e8%b5%84%e7%83%ad%e7%82%b9-top-10-investment-hot-spots-in-malaysia/',\n",
       " 'https://propcafe.net/28-boulevard-pandan-lake-pandan-perdana/',\n",
       " 'https://propcafe.net/28-boulevard-pandan-perdana-review-coming-soon-follow-us-facebook/',\n",
       " 'https://propcafe.net/28boulevardpandan-perdana-exclusive-preview/',\n",
       " 'https://propcafe.net/360-degree-view-rica-sentul/']"
      ]
     },
     "execution_count": 14,
     "metadata": {},
     "output_type": "execute_result"
    }
   ],
   "source": [
    "urls[:10]"
   ]
  },
  {
   "cell_type": "code",
   "execution_count": 15,
   "metadata": {},
   "outputs": [],
   "source": [
    "url = urls[0]\n",
    "r = requests.get(url, headers = headers)\n",
    "soup = BeautifulSoup(r.content, \"lxml\")"
   ]
  },
  {
   "cell_type": "code",
   "execution_count": 16,
   "metadata": {},
   "outputs": [
    {
     "data": {
      "text/plain": [
       "'PROPCAFE Guide : 产业盈利税 （RPGT） 后，下一步是 财富税吗？What is next after RPGT rate increment? Wealth Tax?'"
      ]
     },
     "execution_count": 16,
     "metadata": {},
     "output_type": "execute_result"
    }
   ],
   "source": [
    "soup.find('h1').text.strip()"
   ]
  },
  {
   "cell_type": "code",
   "execution_count": 17,
   "metadata": {},
   "outputs": [
    {
     "data": {
      "text/plain": [
       "'\\n\\n\\n\\n2014年的财政预算案已经尘埃落定，坊间对于政府提高的产业盈利税的后续影响，抱持好坏参半的态度。专家认为，RPGT 的提高，或许可以打房，但是是否可以降低房价，似乎言之过早。\\n\\n\\n盈利税从2014年伊始，在3年以内出售的房子将被征收30%的 盈利税，可是一般新房产的建筑所需时间都介于3-4年期间，所以对于那些快手快脚，建竣后即脱手的炒家影响不大，炒家只需交屋后将房产出租1-2年后才售出，就可完全避开产业盈利税。\\n\\n\\n\\n\\n明年开始，预计许多卖家会把产业盈利税的成本转嫁给其他买家，进而提高房地产的价格。\\n\\n\\n如果买家的资金充裕，或许可以做两项买卖交易，一则现金交易款项部分，另一则却是正式买卖合同的售价。此举可为卖家省下盈利税，卖家进而可将省下的盈利税与买家分享。\\n\\n\\n可是，朝令夕改的政府政策，无疑让投资者无所适从。以下图表为过去20余年以来的产业盈利税。从图表上不难看出，过去短短的五年里面，盈利税更改了4次。其中2014 年的盈利税更恢复了1996-2007年的税率\\n\\n\\n\\n\\n\\n\\n\\n\\nDisposalWithin\\n\\n\\n1996-2007\\n\\n\\n2007-2009\\n\\n\\nBudget2010\\n\\n\\nBudget2012\\n\\n\\nBudget2013\\n\\n\\nBudget2014\\n\\n\\n\\n\\n\\n\\n1\\nst\\n year\\n\\n\\n\\n\\n30%\\n\\n\\n\\n\\n\\n\\n0\\n\\n\\n\\n\\n\\n\\n5%\\n\\n\\n\\n\\n\\n\\n10%\\n\\n\\n\\n\\n\\n\\n15%\\n\\n\\n\\n\\n\\n\\n30%\\n\\n\\n\\n\\n\\n\\n\\n\\n2\\nnd\\n year\\n\\n\\n\\n\\n30%\\n\\n\\n\\n\\n\\n\\n0\\n\\n\\n\\n\\n\\n\\n5%\\n\\n\\n\\n\\n\\n\\n10%\\n\\n\\n\\n\\n\\n\\n15%\\n\\n\\n\\n\\n\\n\\n30%\\n\\n\\n\\n\\n\\n\\n\\n\\n3\\nrd\\n year\\n\\n\\n\\n\\n20%\\n\\n\\n\\n\\n\\n\\n0\\n\\n\\n\\n\\n\\n\\n5%\\n\\n\\n\\n\\n\\n\\n5%\\n\\n\\n\\n\\n\\n\\n10%\\n\\n\\n\\n\\n\\n\\n30%\\n\\n\\n\\n\\n\\n\\n\\n\\n4\\nth\\n year\\n\\n\\n\\n\\n15%\\n\\n\\n\\n\\n\\n\\n0\\n\\n\\n\\n\\n\\n\\n5%\\n\\n\\n\\n\\n\\n\\n5%\\n\\n\\n\\n\\n\\n\\n10%\\n\\n\\n\\n\\n\\n\\n20%\\n\\n\\n\\n\\n\\n\\n\\n\\n5\\nth\\n year\\n\\n\\n\\n\\n5%\\n\\n\\n\\n\\n\\n\\n0\\n\\n\\n\\n\\n\\n\\n5%\\n\\n\\n\\n\\n\\n\\n5%\\n\\n\\n\\n\\n\\n\\n10%\\n\\n\\n\\n\\n\\n\\n15%\\n\\n\\n\\n\\n\\n\\n\\n\\n>5years\\n\\n\\n\\n\\n0%\\n\\n\\n\\n\\n\\n\\n0\\n\\n\\n\\n\\n\\n\\n0%\\n\\n\\n\\n\\n\\n\\n0%\\n\\n\\n\\n\\n\\n\\n0%\\n\\n\\n\\n\\n\\n\\n0%\\n\\n\\n\\n\\n\\n\\n\\n\\n\\n\\n\\n\\n基于钟摆定律，笔者乐观的认为，政府将会在2015年的盈利税将会调低。原因无他，2014年是一个无容置疑的考验期，房地产的盛衰将牵引着国内的140种行业，这140种行业如发展商，银行保险，房产中介，家具灯及所有的上游下游的业绩会受影响。 而这些行业将会向政府施压。\\n\\n\\n图表二显示，大马十大房产发展商当中，至少有五家是国营企业。故此，2015年的房产税调低的可能性颇高. 打房措施会直接打到政府国企。故此，如买家可以多守一年，到2015年才脱手的话，可以免付过高的盈利税。\\n\\n\\nTop 10\\xa0 Developers by Shareholders’ Funds.\\n\\n\\n\\n\\n\\n\\n\\n\\nNo\\n\\n\\nName of Developers\\n\\n\\nMajor Shareholders\\n\\n\\n\\n\\n\\n\\n1\\n\\n\\nSime Darby Property Bhd\\n\\n\\nPermodalan Nasional Berhad\\n\\n\\n\\n\\n\\n\\n2\\n\\n\\nKLCC Property Holding \\xa0 Berhad\\n\\n\\nPetronas\\n\\n\\n\\n\\n\\n\\n3\\n\\n\\nUEM Land Holdings Bhd\\n\\n\\nKhazanah Nasional Berhad\\n\\n\\n\\n\\n\\n\\n4\\n\\n\\nSP Setia Bhd\\n\\n\\nPermodalan Nasional Berhad\\n\\n\\n\\n\\n\\n\\n5\\n\\n\\nIGB Corp\\n\\n\\nFamily Owned\\n\\n\\n\\n\\n\\n\\n6\\n\\n\\nSunway Bhd\\n\\n\\nFamily Owned\\n\\n\\n\\n\\n\\n\\n7\\n\\n\\nI&P Groupd Sdn Bhd\\n\\n\\nPermodalan Nasional Berhad\\n\\n\\n\\n\\n\\n\\n8\\n\\n\\nTA Global Berhad\\n\\n\\nFamily Owned\\n\\n\\n\\n\\n\\n\\n9\\n\\n\\nKrisassets Holding Berhad \\xa0 (merged with IGB Corp in 2013)\\n\\n\\nFamily owned\\n\\n\\n\\n\\n\\n\\n10\\n\\n\\nSelangor Property Berhad\\n\\n\\nFamily Owned\\n\\n\\n\\n\\n\\n\\n\\n\\n\\n\\n房产税过后，政府还有什么打房花招可出？我们不妨看看邻国新加坡的财富税：-\\n\\xa0\\xa0\\xa0\\xa0\\xa0\\xa0 \\n\\n\\n财富税可分自住及投资房产两种，毋庸置疑的自住房产的财富税较低，财富税基本上是向富人征税。\\n\\n\\n\\n\\n以上图表三是自住的房地产。比如说产值12，000 以下的HDB 组屋只需付 星币160的财富税。但年值150，000洋房则需付12，580的财富税。\\n\\n\\n\\n\\n以上为非自住的财富税征收汇率。以同样的150，000 洋房年值而言，得付双倍的财富税。\\n\\n\\n至于大马政府是否会实施财富税，那我们得拭目以待。\\n\\n\\n\\n\\n\\xa0\\n\\n\\nClick to share on Facebook (Opens in new window)\\nClick to share on WhatsApp (Opens in new window)\\nClick to share on Twitter (Opens in new window)\\nClick to share on Pinterest (Opens in new window)\\nClick to share on Pocket (Opens in new window)\\nMore\\nClick to email a link to a friend (Opens in new window)\\nClick to print (Opens in new window)\\nClick to share on Telegram (Opens in new window)\\nClick to share on Tumblr (Opens in new window)\\n\\n\\n\\n\\nRelated\\n\\n\\n\\n'"
      ]
     },
     "execution_count": 17,
     "metadata": {},
     "output_type": "execute_result"
    }
   ],
   "source": [
    "soup.find('div', {'class': 'entry-content'}).get_text(separator=\"\\n\")"
   ]
  },
  {
   "cell_type": "code",
   "execution_count": 23,
   "metadata": {},
   "outputs": [
    {
     "name": "stderr",
     "output_type": "stream",
     "text": [
      "100%|███████████████████████████████████████████████████████████████████████████████████████████████████████████| 298/298 [08:40<00:00,  1.75s/it]\n"
     ]
    }
   ],
   "source": [
    "data = []\n",
    "for url in tqdm(urls):\n",
    "    r = requests.get(url, headers = headers)\n",
    "    soup = BeautifulSoup(r.content, \"lxml\")\n",
    "    try:\n",
    "        data.append({\n",
    "            'url': url,\n",
    "            'title': soup.find('h1').text.strip(),\n",
    "            'body': soup.find('div', {'class': 'entry-content'}).get_text(separator=\"\\n\"),\n",
    "        })\n",
    "    except:\n",
    "        pass"
   ]
  },
  {
   "cell_type": "code",
   "execution_count": 24,
   "metadata": {},
   "outputs": [
    {
     "data": {
      "text/plain": [
       "{'url': 'https://propcafe.net/%e4%ba%a7%e4%b8%9a%e7%9b%88%e5%88%a9%e7%a8%8e-%ef%bc%88rpgt%ef%bc%89-%e5%90%8e%ef%bc%8c%e4%b8%8b%e4%b8%80%e4%b8%aa%e6%ad%a5%e9%aa%a4%e6%98%af-%e8%b4%a2%e5%af%8c%e7%a8%8e-%ef%bc%88wealth-tax%ef%bc%89/',\n",
       " 'title': 'PROPCAFE Guide : 产业盈利税 （RPGT） 后，下一步是 财富税吗？What is next after RPGT rate increment? Wealth Tax?',\n",
       " 'body': '\\n\\n\\n\\n2014年的财政预算案已经尘埃落定，坊间对于政府提高的产业盈利税的后续影响，抱持好坏参半的态度。专家认为，RPGT 的提高，或许可以打房，但是是否可以降低房价，似乎言之过早。\\n\\n\\n盈利税从2014年伊始，在3年以内出售的房子将被征收30%的 盈利税，可是一般新房产的建筑所需时间都介于3-4年期间，所以对于那些快手快脚，建竣后即脱手的炒家影响不大，炒家只需交屋后将房产出租1-2年后才售出，就可完全避开产业盈利税。\\n\\n\\n\\n\\n明年开始，预计许多卖家会把产业盈利税的成本转嫁给其他买家，进而提高房地产的价格。\\n\\n\\n如果买家的资金充裕，或许可以做两项买卖交易，一则现金交易款项部分，另一则却是正式买卖合同的售价。此举可为卖家省下盈利税，卖家进而可将省下的盈利税与买家分享。\\n\\n\\n可是，朝令夕改的政府政策，无疑让投资者无所适从。以下图表为过去20余年以来的产业盈利税。从图表上不难看出，过去短短的五年里面，盈利税更改了4次。其中2014 年的盈利税更恢复了1996-2007年的税率\\n\\n\\n\\n\\n\\n\\n\\n\\nDisposalWithin\\n\\n\\n1996-2007\\n\\n\\n2007-2009\\n\\n\\nBudget2010\\n\\n\\nBudget2012\\n\\n\\nBudget2013\\n\\n\\nBudget2014\\n\\n\\n\\n\\n\\n\\n1\\nst\\n year\\n\\n\\n\\n\\n30%\\n\\n\\n\\n\\n\\n\\n0\\n\\n\\n\\n\\n\\n\\n5%\\n\\n\\n\\n\\n\\n\\n10%\\n\\n\\n\\n\\n\\n\\n15%\\n\\n\\n\\n\\n\\n\\n30%\\n\\n\\n\\n\\n\\n\\n\\n\\n2\\nnd\\n year\\n\\n\\n\\n\\n30%\\n\\n\\n\\n\\n\\n\\n0\\n\\n\\n\\n\\n\\n\\n5%\\n\\n\\n\\n\\n\\n\\n10%\\n\\n\\n\\n\\n\\n\\n15%\\n\\n\\n\\n\\n\\n\\n30%\\n\\n\\n\\n\\n\\n\\n\\n\\n3\\nrd\\n year\\n\\n\\n\\n\\n20%\\n\\n\\n\\n\\n\\n\\n0\\n\\n\\n\\n\\n\\n\\n5%\\n\\n\\n\\n\\n\\n\\n5%\\n\\n\\n\\n\\n\\n\\n10%\\n\\n\\n\\n\\n\\n\\n30%\\n\\n\\n\\n\\n\\n\\n\\n\\n4\\nth\\n year\\n\\n\\n\\n\\n15%\\n\\n\\n\\n\\n\\n\\n0\\n\\n\\n\\n\\n\\n\\n5%\\n\\n\\n\\n\\n\\n\\n5%\\n\\n\\n\\n\\n\\n\\n10%\\n\\n\\n\\n\\n\\n\\n20%\\n\\n\\n\\n\\n\\n\\n\\n\\n5\\nth\\n year\\n\\n\\n\\n\\n5%\\n\\n\\n\\n\\n\\n\\n0\\n\\n\\n\\n\\n\\n\\n5%\\n\\n\\n\\n\\n\\n\\n5%\\n\\n\\n\\n\\n\\n\\n10%\\n\\n\\n\\n\\n\\n\\n15%\\n\\n\\n\\n\\n\\n\\n\\n\\n>5years\\n\\n\\n\\n\\n0%\\n\\n\\n\\n\\n\\n\\n0\\n\\n\\n\\n\\n\\n\\n0%\\n\\n\\n\\n\\n\\n\\n0%\\n\\n\\n\\n\\n\\n\\n0%\\n\\n\\n\\n\\n\\n\\n0%\\n\\n\\n\\n\\n\\n\\n\\n\\n\\n\\n\\n\\n基于钟摆定律，笔者乐观的认为，政府将会在2015年的盈利税将会调低。原因无他，2014年是一个无容置疑的考验期，房地产的盛衰将牵引着国内的140种行业，这140种行业如发展商，银行保险，房产中介，家具灯及所有的上游下游的业绩会受影响。 而这些行业将会向政府施压。\\n\\n\\n图表二显示，大马十大房产发展商当中，至少有五家是国营企业。故此，2015年的房产税调低的可能性颇高. 打房措施会直接打到政府国企。故此，如买家可以多守一年，到2015年才脱手的话，可以免付过高的盈利税。\\n\\n\\nTop 10\\xa0 Developers by Shareholders’ Funds.\\n\\n\\n\\n\\n\\n\\n\\n\\nNo\\n\\n\\nName of Developers\\n\\n\\nMajor Shareholders\\n\\n\\n\\n\\n\\n\\n1\\n\\n\\nSime Darby Property Bhd\\n\\n\\nPermodalan Nasional Berhad\\n\\n\\n\\n\\n\\n\\n2\\n\\n\\nKLCC Property Holding \\xa0 Berhad\\n\\n\\nPetronas\\n\\n\\n\\n\\n\\n\\n3\\n\\n\\nUEM Land Holdings Bhd\\n\\n\\nKhazanah Nasional Berhad\\n\\n\\n\\n\\n\\n\\n4\\n\\n\\nSP Setia Bhd\\n\\n\\nPermodalan Nasional Berhad\\n\\n\\n\\n\\n\\n\\n5\\n\\n\\nIGB Corp\\n\\n\\nFamily Owned\\n\\n\\n\\n\\n\\n\\n6\\n\\n\\nSunway Bhd\\n\\n\\nFamily Owned\\n\\n\\n\\n\\n\\n\\n7\\n\\n\\nI&P Groupd Sdn Bhd\\n\\n\\nPermodalan Nasional Berhad\\n\\n\\n\\n\\n\\n\\n8\\n\\n\\nTA Global Berhad\\n\\n\\nFamily Owned\\n\\n\\n\\n\\n\\n\\n9\\n\\n\\nKrisassets Holding Berhad \\xa0 (merged with IGB Corp in 2013)\\n\\n\\nFamily owned\\n\\n\\n\\n\\n\\n\\n10\\n\\n\\nSelangor Property Berhad\\n\\n\\nFamily Owned\\n\\n\\n\\n\\n\\n\\n\\n\\n\\n\\n房产税过后，政府还有什么打房花招可出？我们不妨看看邻国新加坡的财富税：-\\n\\xa0\\xa0\\xa0\\xa0\\xa0\\xa0 \\n\\n\\n财富税可分自住及投资房产两种，毋庸置疑的自住房产的财富税较低，财富税基本上是向富人征税。\\n\\n\\n\\n\\n以上图表三是自住的房地产。比如说产值12，000 以下的HDB 组屋只需付 星币160的财富税。但年值150，000洋房则需付12，580的财富税。\\n\\n\\n\\n\\n以上为非自住的财富税征收汇率。以同样的150，000 洋房年值而言，得付双倍的财富税。\\n\\n\\n至于大马政府是否会实施财富税，那我们得拭目以待。\\n\\n\\n\\n\\n\\xa0\\n\\n\\nClick to share on Facebook (Opens in new window)\\nClick to share on WhatsApp (Opens in new window)\\nClick to share on Twitter (Opens in new window)\\nClick to share on Pinterest (Opens in new window)\\nClick to share on Pocket (Opens in new window)\\nMore\\nClick to email a link to a friend (Opens in new window)\\nClick to print (Opens in new window)\\nClick to share on Telegram (Opens in new window)\\nClick to share on Tumblr (Opens in new window)\\n\\n\\n\\n\\nRelated\\n\\n\\n\\n'}"
      ]
     },
     "execution_count": 24,
     "metadata": {},
     "output_type": "execute_result"
    }
   ],
   "source": [
    "data[0]"
   ]
  },
  {
   "cell_type": "code",
   "execution_count": 26,
   "metadata": {},
   "outputs": [],
   "source": [
    "with open('propcafe.net.jsonl', 'w') as fopen:\n",
    "    for d in data:\n",
    "        fopen.write(f'{json.dumps(d)}\\n')"
   ]
  },
  {
   "cell_type": "code",
   "execution_count": null,
   "metadata": {},
   "outputs": [],
   "source": []
  }
 ],
 "metadata": {
  "kernelspec": {
   "display_name": "Python 3 (ipykernel)",
   "language": "python",
   "name": "python3"
  },
  "language_info": {
   "codemirror_mode": {
    "name": "ipython",
    "version": 3
   },
   "file_extension": ".py",
   "mimetype": "text/x-python",
   "name": "python",
   "nbconvert_exporter": "python",
   "pygments_lexer": "ipython3",
   "version": "3.8.10"
  }
 },
 "nbformat": 4,
 "nbformat_minor": 4
}
