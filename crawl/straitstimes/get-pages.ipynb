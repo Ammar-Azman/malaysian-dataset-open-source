{
 "cells": [
  {
   "cell_type": "code",
   "execution_count": 1,
   "metadata": {},
   "outputs": [],
   "source": [
    "import requests\n",
    "from bs4 import BeautifulSoup\n",
    "from tqdm import tqdm\n",
    "import os\n",
    "import json\n",
    "import numpy as np\n",
    "import time\n",
    "import random\n",
    "import json"
   ]
  },
  {
   "cell_type": "code",
   "execution_count": 3,
   "metadata": {},
   "outputs": [],
   "source": [
    "cookies = {\n",
    "    'sph_user_country': 'MY',\n",
    "    'suid': '3c78fd97504c4b8ba1923a1347ec5309',\n",
    "    'permutive-id': '332139db-ec76-4747-9be8-238f13b92033',\n",
    "    '_gcl_au': '1.1.1146688363.1687930456',\n",
    "    '_cb': 'dGiN3jVpXOCuRNld',\n",
    "    'mySPHUserType': 'y-anoy',\n",
    "    'visitorcat': '1',\n",
    "    'neuronId': '80ba20a0-e031-4918-84cb-608fd121a598',\n",
    "    'sui_1pc': '16879304570017666486DB6AC590AC9CD6D4DA863B4E2C90B7C48EF7',\n",
    "    'FPID': 'FPID2.2.oNuIRZ1Dof6ZZHCHkg1Q0DB%2FVAXzWPijL7kyPhJPjYM%3D.1687930456',\n",
    "    'sessionStatusST': '1',\n",
    "    '_cc_id': '69f8b801beef15345eb5accdea253af',\n",
    "    'panoramaId': 'f9ea243d6161821ddf2ce2c7b1f616d53938e1fb44e521846fcc462712829bb4',\n",
    "    'panoramaIdType': 'panoIndiv',\n",
    "    'topoverlayDisplayed': 'yes',\n",
    "    'topOverlayImpressionsServed': '0',\n",
    "    '_gid': 'GA1.2.1952606786.1688123892',\n",
    "    'sph_seg': 'S100043,S100087,S100090,S100201',\n",
    "    'ln_or': 'eyI0NTA5NDQ5IjoiZCJ9',\n",
    "    '_clck': 'fsn7dc|2|fcw|0|1274',\n",
    "    'FPLC': 'xw8HCxvofAbeKSk4mZU96WVPdeik8SJ21KatZM4Rs0UGxcC5TGktkzwBUKbYD33JRorZYMqjw20KobzXQNARbnmi2tSiuAaIsznMUcpTdmIaECEeulmur0O9fnakaw%3D%3D',\n",
    "    'cto_bundle': 'WlJzq185cDd2QjhDUGVxVEt1d2FrdVduVWpBTnozZVdyYVJXTWpjJTJCUWlhM09xZmppbnJIektnUXFVQlNybCUyQnVSVVZjUWEwa3drWmI2amw3dDNESUpQSzJGaExKRm5kRzhSQmRPemFnZFlYa0kxT3BoUjZDc2pCWmQ1Y2tMVjFpV0VaZ1Bwb0RoYW55ZGRsa2JnYnpxc05xVDU4JTJCRyUyRldvazhlMmZsMmVYZkR6N2ZZeFo4aTc1SSUyQlpNTnBQRGRmdk1KJTJCMTFydmR0UEpQcXNjZ3ozaSUyRndYTURtR3clM0QlM0Q',\n",
    "    '_uetsid': 'cd05b060173711ee98ff73392b24fd9b',\n",
    "    '_uetvid': '0aa22a30d93811ed843be3737286ef4a',\n",
    "    'spgwAMCookie': '439c910a41bce393cc85212171e0d9d7',\n",
    "    '_chartbeat2': '.1631631437468.1688123896244.0000000000000101.-dcPucQvacDDBoSXCCVSfVCCYfn8.2',\n",
    "    '_ga_MQEMTJBF6J': 'GS1.1.1688123892.2.1.1688123896.0.0.0',\n",
    "    'panoramaId_expiry': '1688728696907',\n",
    "    '_ga_7V3PRKG4L0': 'GS1.1.1688123907.2.0.1688123907.60.0.0',\n",
    "    '_ga': 'GA1.1.1072914620.1687930456',\n",
    "    '_clsk': '1ffd84d|1688135518786|1|0|x.clarity.ms/collect',\n",
    "    'AWSALB': 'Gi04dYHVH4I3pgHFwtjTWnUX3W1AD0CdVEOLZo3E9jm2xDD63w34X9OOYIHTXsmrrEHs5bOhTnxmpgs+XmcUaubdUUvrE62ve1PRhkbfUN4ye0l5uuRTR/raHeS4',\n",
    "    'AWSALBCORS': 'Gi04dYHVH4I3pgHFwtjTWnUX3W1AD0CdVEOLZo3E9jm2xDD63w34X9OOYIHTXsmrrEHs5bOhTnxmpgs+XmcUaubdUUvrE62ve1PRhkbfUN4ye0l5uuRTR/raHeS4',\n",
    "}\n",
    "\n",
    "headers = {\n",
    "    'authority': 'www.straitstimes.com',\n",
    "    'accept': 'text/html,application/xhtml+xml,application/xml;q=0.9,image/avif,image/webp,image/apng,*/*;q=0.8,application/signed-exchange;v=b3;q=0.7',\n",
    "    'accept-language': 'en-MY,en;q=0.9,en-US;q=0.8,ms;q=0.7',\n",
    "    'cache-control': 'no-cache',\n",
    "    # 'cookie': 'sph_user_country=MY; suid=3c78fd97504c4b8ba1923a1347ec5309; permutive-id=332139db-ec76-4747-9be8-238f13b92033; _gcl_au=1.1.1146688363.1687930456; _cb=dGiN3jVpXOCuRNld; mySPHUserType=y-anoy; visitorcat=1; neuronId=80ba20a0-e031-4918-84cb-608fd121a598; sui_1pc=16879304570017666486DB6AC590AC9CD6D4DA863B4E2C90B7C48EF7; FPID=FPID2.2.oNuIRZ1Dof6ZZHCHkg1Q0DB%2FVAXzWPijL7kyPhJPjYM%3D.1687930456; sessionStatusST=1; _cc_id=69f8b801beef15345eb5accdea253af; panoramaId=f9ea243d6161821ddf2ce2c7b1f616d53938e1fb44e521846fcc462712829bb4; panoramaIdType=panoIndiv; topoverlayDisplayed=yes; topOverlayImpressionsServed=0; _gid=GA1.2.1952606786.1688123892; sph_seg=S100043,S100087,S100090,S100201; ln_or=eyI0NTA5NDQ5IjoiZCJ9; _clck=fsn7dc|2|fcw|0|1274; FPLC=xw8HCxvofAbeKSk4mZU96WVPdeik8SJ21KatZM4Rs0UGxcC5TGktkzwBUKbYD33JRorZYMqjw20KobzXQNARbnmi2tSiuAaIsznMUcpTdmIaECEeulmur0O9fnakaw%3D%3D; cto_bundle=WlJzq185cDd2QjhDUGVxVEt1d2FrdVduVWpBTnozZVdyYVJXTWpjJTJCUWlhM09xZmppbnJIektnUXFVQlNybCUyQnVSVVZjUWEwa3drWmI2amw3dDNESUpQSzJGaExKRm5kRzhSQmRPemFnZFlYa0kxT3BoUjZDc2pCWmQ1Y2tMVjFpV0VaZ1Bwb0RoYW55ZGRsa2JnYnpxc05xVDU4JTJCRyUyRldvazhlMmZsMmVYZkR6N2ZZeFo4aTc1SSUyQlpNTnBQRGRmdk1KJTJCMTFydmR0UEpQcXNjZ3ozaSUyRndYTURtR3clM0QlM0Q; _uetsid=cd05b060173711ee98ff73392b24fd9b; _uetvid=0aa22a30d93811ed843be3737286ef4a; spgwAMCookie=439c910a41bce393cc85212171e0d9d7; _chartbeat2=.1631631437468.1688123896244.0000000000000101.-dcPucQvacDDBoSXCCVSfVCCYfn8.2; _ga_MQEMTJBF6J=GS1.1.1688123892.2.1.1688123896.0.0.0; panoramaId_expiry=1688728696907; _ga_7V3PRKG4L0=GS1.1.1688123907.2.0.1688123907.60.0.0; _ga=GA1.1.1072914620.1687930456; _clsk=1ffd84d|1688135518786|1|0|x.clarity.ms/collect; AWSALB=Gi04dYHVH4I3pgHFwtjTWnUX3W1AD0CdVEOLZo3E9jm2xDD63w34X9OOYIHTXsmrrEHs5bOhTnxmpgs+XmcUaubdUUvrE62ve1PRhkbfUN4ye0l5uuRTR/raHeS4; AWSALBCORS=Gi04dYHVH4I3pgHFwtjTWnUX3W1AD0CdVEOLZo3E9jm2xDD63w34X9OOYIHTXsmrrEHs5bOhTnxmpgs+XmcUaubdUUvrE62ve1PRhkbfUN4ye0l5uuRTR/raHeS4',\n",
    "    'pragma': 'no-cache',\n",
    "    'referer': 'https://www.straitstimes.com/tags/malaysia',\n",
    "    'sec-ch-ua': '\"Not.A/Brand\";v=\"8\", \"Chromium\";v=\"114\", \"Google Chrome\";v=\"114\"',\n",
    "    'sec-ch-ua-mobile': '?0',\n",
    "    'sec-ch-ua-platform': '\"macOS\"',\n",
    "    'sec-fetch-dest': 'document',\n",
    "    'sec-fetch-mode': 'navigate',\n",
    "    'sec-fetch-site': 'same-origin',\n",
    "    'sec-fetch-user': '?1',\n",
    "    'upgrade-insecure-requests': '1',\n",
    "    'user-agent': 'Mozilla/5.0 (Macintosh; Intel Mac OS X 10_15_7) AppleWebKit/537.36 (KHTML, like Gecko) Chrome/114.0.0.0 Safari/537.36',\n",
    "}\n",
    "\n",
    "# params = {\n",
    "#     'page': '1',\n",
    "# }\n",
    "\n",
    "# response = requests.get('https://www.straitstimes.com/tags/malaysia', params=params, cookies=cookies, headers=headers)"
   ]
  },
  {
   "cell_type": "code",
   "execution_count": 4,
   "metadata": {},
   "outputs": [],
   "source": [
    "import json\n",
    "\n",
    "with open('url.json') as fopen:\n",
    "    urls = sorted(json.load(fopen))"
   ]
  },
  {
   "cell_type": "code",
   "execution_count": 34,
   "metadata": {
    "scrolled": true
   },
   "outputs": [
    {
     "name": "stderr",
     "output_type": "stream",
     "text": [
      "100%|█████████████████████████████████████████| 990/990 [11:48<00:00,  1.40it/s]\n"
     ]
    }
   ],
   "source": [
    "data = []\n",
    "for u in tqdm(urls):\n",
    "    url = 'https://www.straitstimes.com' + u\n",
    "    response = requests.get(url, cookies=cookies, headers=headers)\n",
    "    soup = BeautifulSoup(response.content, \"lxml\")\n",
    "    try:\n",
    "        title = soup.find('h1', {'class': 'headline'}).text.strip()\n",
    "    except:\n",
    "        title = None\n",
    "        \n",
    "    text = []\n",
    "    try:\n",
    "        div = soup.find_all('div', {'class': 'clearfix text-formatted field field--name-field-paragraph-text field--type-text-long field--label-hidden field__item'})\n",
    "        for div_ in div:\n",
    "            text.append(div_.text)\n",
    "    except:\n",
    "        pass\n",
    "    \n",
    "    data.append({\n",
    "        'title': title,\n",
    "        'text': text,\n",
    "        'url': url,\n",
    "    })"
   ]
  },
  {
   "cell_type": "code",
   "execution_count": 36,
   "metadata": {},
   "outputs": [],
   "source": [
    "with open('data.jsonl', 'w') as fopen:\n",
    "    json.dump(data, fopen)"
   ]
  }
 ],
 "metadata": {
  "kernelspec": {
   "display_name": "Python 3 (ipykernel)",
   "language": "python",
   "name": "python3"
  },
  "language_info": {
   "codemirror_mode": {
    "name": "ipython",
    "version": 3
   },
   "file_extension": ".py",
   "mimetype": "text/x-python",
   "name": "python",
   "nbconvert_exporter": "python",
   "pygments_lexer": "ipython3",
   "version": "3.8.10"
  }
 },
 "nbformat": 4,
 "nbformat_minor": 4
}
