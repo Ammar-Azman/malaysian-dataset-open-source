{
 "cells": [
  {
   "cell_type": "code",
   "execution_count": 1,
   "metadata": {},
   "outputs": [],
   "source": [
    "import requests\n",
    "from bs4 import BeautifulSoup\n",
    "from tqdm import tqdm\n",
    "import os\n",
    "import json\n",
    "import numpy as np\n",
    "import time\n",
    "import random"
   ]
  },
  {
   "cell_type": "code",
   "execution_count": 2,
   "metadata": {},
   "outputs": [
    {
     "name": "stderr",
     "output_type": "stream",
     "text": [
      " 54%|█████████████████████▏                 | 1807/3334 [26:09<22:06,  1.15it/s]\n"
     ]
    }
   ],
   "source": [
    "all_a = []\n",
    "limit = 30\n",
    "for i in tqdm(range(0, 100000, limit)):\n",
    "    if i == 0:\n",
    "        i = ''\n",
    "    else:\n",
    "        i = f'/+{i}'\n",
    "    url = f'https://forum.lowyat.net/SeriousKopitiam{i}'\n",
    "    r = requests.get(url)\n",
    "    soup = BeautifulSoup(r.content, \"lxml\")\n",
    "    a = soup.find_all('a')\n",
    "    a = [a_.get('href') for a_ in a if a_.get('href') and a_.get('href').startswith('/topic')]\n",
    "    a = list(set([a_ for a_ in a if len(a_.split('/')) == 3]))\n",
    "    if not len(a):\n",
    "        break\n",
    "    all_a.extend(a)"
   ]
  },
  {
   "cell_type": "code",
   "execution_count": 3,
   "metadata": {},
   "outputs": [],
   "source": [
    "all_a = list(set(all_a))"
   ]
  },
  {
   "cell_type": "code",
   "execution_count": 4,
   "metadata": {
    "scrolled": true
   },
   "outputs": [
    {
     "data": {
      "text/plain": [
       "54149"
      ]
     },
     "execution_count": 4,
     "metadata": {},
     "output_type": "execute_result"
    }
   ],
   "source": [
    "len(all_a)"
   ]
  },
  {
   "cell_type": "code",
   "execution_count": 6,
   "metadata": {},
   "outputs": [],
   "source": [
    "with open('SeriousKopitiam-topics.json', 'w') as fopen:\n",
    "    json.dump(all_a, fopen)"
   ]
  },
  {
   "cell_type": "code",
   "execution_count": 7,
   "metadata": {},
   "outputs": [],
   "source": [
    "from concurrent.futures import ThreadPoolExecutor, as_completed\n",
    "\n",
    "def get_text(url):\n",
    "    texts = []\n",
    "    try:\n",
    "        r_ = requests.get(url)\n",
    "        soup = BeautifulSoup(r_.content, \"lxml\")\n",
    "        divs = soup.find_all('div', {'class': 'post_text'})\n",
    "        for div in divs:\n",
    "            t = BeautifulSoup(str(div).replace('<br/>', '\\n')).text.strip()\n",
    "            if len(t):\n",
    "                texts.append(t)\n",
    "    except Exception as e:\n",
    "        pass\n",
    "    return texts"
   ]
  },
  {
   "cell_type": "code",
   "execution_count": 8,
   "metadata": {},
   "outputs": [
    {
     "name": "stderr",
     "output_type": "stream",
     "text": [
      "  0%|▏                                   | 264/54149 [19:54<92:15:03,  6.16s/it]encoding error : input conversion failed due to input error, bytes 0x81 0x3C 0x62 0x72\n",
      "encoding error : input conversion failed due to input error, bytes 0x81 0x3C 0x62 0x72\n",
      "encoding error : input conversion failed due to input error, bytes 0x81 0x3C 0x62 0x72\n",
      "  7%|██▏                              | 3569/54149 [4:35:58<60:20:41,  4.30s/it]encoding error : input conversion failed due to input error, bytes 0x98 0x85 0xE2 0x98\n",
      "encoding error : input conversion failed due to input error, bytes 0x98 0x85 0xE2 0x98\n",
      "encoding error : input conversion failed due to input error, bytes 0x98 0x85 0xE2 0x98\n",
      " 14%|████▎                           | 7312/54149 [10:04:05<54:30:48,  4.19s/it]encoding error : input conversion failed due to input error, bytes 0x8D 0x6F 0x71 0x75\n",
      "encoding error : input conversion failed due to input error, bytes 0x8D 0x6F 0x71 0x75\n",
      "encoding error : input conversion failed due to input error, bytes 0x8D 0x6F 0x71 0x75\n",
      "encoding error : input conversion failed due to input error, bytes 0x8D 0x6F 0x71 0x75\n",
      "encoding error : input conversion failed due to input error, bytes 0x8D 0x6F 0x71 0x75\n",
      "encoding error : input conversion failed due to input error, bytes 0x8D 0x6F 0x71 0x75\n",
      " 16%|████▉                           | 8448/54149 [11:34:50<67:18:13,  5.30s/it]encoding error : input conversion failed due to input error, bytes 0x9D 0x20 0x61 0x20\n",
      "encoding error : input conversion failed due to input error, bytes 0x9D 0x20 0x61 0x20\n",
      "encoding error : input conversion failed due to input error, bytes 0x9D 0x20 0x61 0x20\n",
      "encoding error : input conversion failed due to input error, bytes 0x9D 0x20 0x61 0x20\n",
      "encoding error : input conversion failed due to input error, bytes 0x9D 0x20 0x61 0x20\n",
      "encoding error : input conversion failed due to input error, bytes 0x9D 0x20 0x61 0x20\n",
      " 18%|█████▉                          | 9982/54149 [13:42:09<52:16:45,  4.26s/it]IOPub message rate exceeded.\n",
      "The notebook server will temporarily stop sending output\n",
      "to the client in order to avoid crashing it.\n",
      "To change this limit, set the config variable\n",
      "`--NotebookApp.iopub_msg_rate_limit`.\n",
      "\n",
      "Current values:\n",
      "NotebookApp.iopub_msg_rate_limit=1000.0 (msgs/sec)\n",
      "NotebookApp.rate_limit_window=3.0 (secs)\n",
      "\n",
      " 24%|███████▍                       | 12903/54149 [17:34:49<56:53:40,  4.97s/it]encoding error : input conversion failed due to input error, bytes 0x8D 0x6F 0x71 0x75\n",
      "encoding error : input conversion failed due to input error, bytes 0x8D 0x6F 0x71 0x75\n",
      "encoding error : input conversion failed due to input error, bytes 0x8D 0x6F 0x71 0x75\n",
      " 25%|███████▋                       | 13325/54149 [18:08:07<47:07:50,  4.16s/it]encoding error : input conversion failed due to input error, bytes 0x8E 0x20 0x74 0x61\n",
      "encoding error : input conversion failed due to input error, bytes 0x8E 0x20 0x74 0x61\n",
      "encoding error : input conversion failed due to input error, bytes 0x8E 0x20 0x74 0x61\n",
      "encoding error : input conversion failed due to input error, bytes 0x8E 0x20 0x74 0x61\n",
      "encoding error : input conversion failed due to input error, bytes 0x8E 0x20 0x74 0x61\n",
      "encoding error : input conversion failed due to input error, bytes 0x8E 0x20 0x74 0x61\n",
      " 25%|███████▋                       | 13376/54149 [18:11:59<57:19:42,  5.06s/it]encoding error : input conversion failed due to input error, bytes 0x90 0xEB 0x8A 0x94\n",
      "encoding error : input conversion failed due to input error, bytes 0x90 0xEB 0x8A 0x94\n",
      "encoding error : input conversion failed due to input error, bytes 0x90 0xEB 0x8A 0x94\n",
      " 29%|█████████                      | 15917/54149 [22:28:43<44:54:51,  4.23s/it]encoding error : input conversion failed due to input error, bytes 0x8D 0x6F 0x71 0x75\n",
      "encoding error : input conversion failed due to input error, bytes 0x8D 0x6F 0x71 0x75\n",
      "encoding error : input conversion failed due to input error, bytes 0x8D 0x6F 0x71 0x75\n",
      " 30%|█████████▏                     | 16000/54149 [22:34:47<48:38:09,  4.59s/it]IOPub message rate exceeded.\n",
      "The notebook server will temporarily stop sending output\n",
      "to the client in order to avoid crashing it.\n",
      "To change this limit, set the config variable\n",
      "`--NotebookApp.iopub_msg_rate_limit`.\n",
      "\n",
      "Current values:\n",
      "NotebookApp.iopub_msg_rate_limit=1000.0 (msgs/sec)\n",
      "NotebookApp.rate_limit_window=3.0 (secs)\n",
      "\n",
      " 82%|█████████████████████████▎     | 44249/54149 [65:00:10<14:04:52,  5.12s/it]encoding error : input conversion failed due to input error, bytes 0x90 0x7A 0x2F 0x3C\n",
      "encoding error : input conversion failed due to input error, bytes 0x90 0x7A 0x2F 0x3C\n",
      "encoding error : input conversion failed due to input error, bytes 0x90 0x7A 0x2F 0x3C\n",
      " 83%|█████████████████████████▋     | 44829/54149 [65:54:50<13:11:06,  5.09s/it]encoding error : input conversion failed due to input error, bytes 0x9D 0x20 0x62 0x65\n",
      "encoding error : input conversion failed due to input error, bytes 0x9D 0x20 0x62 0x65\n",
      "encoding error : input conversion failed due to input error, bytes 0x9D 0x20 0x62 0x65\n",
      " 83%|█████████████████████████▊     | 45073/54149 [66:22:49<11:10:49,  4.43s/it]encoding error : input conversion failed due to input error, bytes 0x8D 0x6F 0x71 0x75\n",
      "encoding error : input conversion failed due to input error, bytes 0x8D 0x6F 0x71 0x75\n",
      "encoding error : input conversion failed due to input error, bytes 0x8D 0x6F 0x71 0x75\n",
      " 84%|█████████████████████████▉     | 45311/54149 [66:44:19<16:03:43,  6.54s/it]encoding error : input conversion failed due to input error, bytes 0x81 0x8D 0xE2 0x98\n",
      "encoding error : input conversion failed due to input error, bytes 0x81 0x8D 0xE2 0x98\n",
      "encoding error : input conversion failed due to input error, bytes 0x81 0x8D 0xE2 0x98\n",
      " 84%|██████████████████████████     | 45545/54149 [67:05:48<12:18:26,  5.15s/it]encoding error : input conversion failed due to input error, bytes 0x9E 0xD0 0xB1 0xD1\n",
      "encoding error : input conversion failed due to input error, bytes 0x9E 0xD0 0xB1 0xD1\n",
      "encoding error : input conversion failed due to input error, bytes 0x9E 0xD0 0xB1 0xD1\n",
      " 85%|██████████████████████████▎    | 46051/54149 [67:50:33<11:20:44,  5.04s/it]IOPub message rate exceeded.\n",
      "The notebook server will temporarily stop sending output\n",
      "to the client in order to avoid crashing it.\n",
      "To change this limit, set the config variable\n",
      "`--NotebookApp.iopub_msg_rate_limit`.\n",
      "\n",
      "Current values:\n",
      "NotebookApp.iopub_msg_rate_limit=1000.0 (msgs/sec)\n",
      "NotebookApp.rate_limit_window=3.0 (secs)\n",
      "\n",
      " 92%|█████████████████████████████▍  | 49803/54149 [73:25:19<9:05:04,  7.53s/it]encoding error : input conversion failed due to input error, bytes 0x9D 0xDC 0x98 0xDC\n",
      "encoding error : input conversion failed due to input error, bytes 0x9D 0xDC 0x98 0xDC\n",
      "encoding error : input conversion failed due to input error, bytes 0x9D 0xDC 0x98 0xDC\n",
      "encoding error : input conversion failed due to input error, bytes 0x9D 0xDC 0x98 0xDC\n",
      "encoding error : input conversion failed due to input error, bytes 0x9D 0xDC 0x98 0xDC\n",
      "encoding error : input conversion failed due to input error, bytes 0x9D 0xDC 0x98 0xDC\n",
      " 92%|█████████████████████████████▍  | 49807/54149 [73:25:52<9:13:55,  7.65s/it]encoding error : input conversion failed due to input error, bytes 0x81 0x9A 0xE4 0xBA\n",
      "encoding error : input conversion failed due to input error, bytes 0x81 0x9A 0xE4 0xBA\n",
      "encoding error : input conversion failed due to input error, bytes 0x81 0x9A 0xE4 0xBA\n",
      " 92%|█████████████████████████████▍  | 49820/54149 [73:27:30<7:48:02,  6.49s/it]encoding error : input conversion failed due to input error, bytes 0x9D 0xE2 0x8F 0xA0\n",
      "encoding error : input conversion failed due to input error, bytes 0x9D 0xE2 0x8F 0xA0\n",
      "encoding error : input conversion failed due to input error, bytes 0x9D 0xE2 0x8F 0xA0\n",
      "encoding error : input conversion failed due to input error, bytes 0x9D 0xE2 0x8F 0xA0\n",
      "encoding error : input conversion failed due to input error, bytes 0x9D 0xE2 0x8F 0xA0\n",
      "encoding error : input conversion failed due to input error, bytes 0x9D 0xE2 0x8F 0xA0\n",
      " 92%|█████████████████████████████▌  | 49938/54149 [73:37:28<4:30:29,  3.85s/it]encoding error : input conversion failed due to input error, bytes 0x8F 0xAF 0xE6 0x84\n",
      "encoding error : input conversion failed due to input error, bytes 0x8F 0xAF 0xE6 0x84\n",
      "encoding error : input conversion failed due to input error, bytes 0x8F 0xAF 0xE6 0x84\n"
     ]
    },
    {
     "name": "stderr",
     "output_type": "stream",
     "text": [
      "encoding error : input conversion failed due to input error, bytes 0x8F 0xAF 0xE6 0x84\n",
      "encoding error : input conversion failed due to input error, bytes 0x8F 0xAF 0xE6 0x84\n",
      "encoding error : input conversion failed due to input error, bytes 0x8F 0xAF 0xE6 0x84\n",
      " 93%|█████████████████████████████▋  | 50158/54149 [73:57:14<5:42:20,  5.15s/it]encoding error : input conversion failed due to input error, bytes 0x9D 0xEF 0xBF 0xBD\n",
      "encoding error : input conversion failed due to input error, bytes 0x9D 0xEF 0xBF 0xBD\n",
      "encoding error : input conversion failed due to input error, bytes 0x9D 0xEF 0xBF 0xBD\n",
      " 93%|█████████████████████████████▋  | 50226/54149 [74:02:52<4:32:31,  4.17s/it]encoding error : input conversion failed due to input error, bytes 0x8F 0xAF 0xE6 0x84\n",
      "encoding error : input conversion failed due to input error, bytes 0x8F 0xAF 0xE6 0x84\n",
      "encoding error : input conversion failed due to input error, bytes 0x8F 0xAF 0xE6 0x84\n",
      " 93%|█████████████████████████████▋  | 50304/54149 [74:09:18<5:21:13,  5.01s/it]encoding error : input conversion failed due to input error, bytes 0x81 0xE3 0x81 0xAF\n",
      "encoding error : input conversion failed due to input error, bytes 0x81 0xE3 0x81 0xAF\n",
      "encoding error : input conversion failed due to input error, bytes 0x81 0xE3 0x81 0xAF\n",
      " 93%|█████████████████████████████▋  | 50327/54149 [74:11:28<6:24:28,  6.04s/it]encoding error : input conversion failed due to input error, bytes 0x90 0xE4 0xB8 0xAA\n",
      "encoding error : input conversion failed due to input error, bytes 0x90 0xE4 0xB8 0xAA\n",
      "encoding error : input conversion failed due to input error, bytes 0x90 0xE4 0xB8 0xAA\n",
      " 93%|█████████████████████████████▉  | 50554/54149 [74:30:28<4:55:35,  4.93s/it]encoding error : input conversion failed due to input error, bytes 0x81 0xE3 0x81 0xAF\n",
      "encoding error : input conversion failed due to input error, bytes 0x81 0xE3 0x81 0xAF\n",
      "encoding error : input conversion failed due to input error, bytes 0x81 0xE3 0x81 0xAF\n",
      " 93%|█████████████████████████████▉  | 50562/54149 [74:31:00<4:15:05,  4.27s/it]encoding error : input conversion failed due to input error, bytes 0x9D 0x64 0x78 0xC7\n",
      "encoding error : input conversion failed due to input error, bytes 0x9D 0x64 0x78 0xC7\n",
      "encoding error : input conversion failed due to input error, bytes 0x9D 0x64 0x78 0xC7\n",
      "encoding error : input conversion failed due to input error, bytes 0x9D 0x64 0x78 0xC7\n",
      "encoding error : input conversion failed due to input error, bytes 0x9D 0x64 0x78 0xC7\n",
      "encoding error : input conversion failed due to input error, bytes 0x9D 0x64 0x78 0xC7\n",
      "100%|██████████████████████████████████| 54149/54149 [80:02:35<00:00,  5.32s/it]\n"
     ]
    }
   ],
   "source": [
    "limit = 20\n",
    "worker_size = 1\n",
    "per_batch = worker_size * limit\n",
    "\n",
    "for topic in tqdm(sorted(all_a)):\n",
    "    \n",
    "    base_dir = topic[1:].replace('/', '-')\n",
    "    os.makedirs(base_dir, exist_ok = True)\n",
    "    os.makedirs('done-SeriousKopitiam', exist_ok = True)\n",
    "    \n",
    "    base_dir_filename = os.path.join('done-SeriousKopitiam', f'{base_dir}.json')\n",
    "    \n",
    "    if os.path.exists(base_dir_filename):\n",
    "        continue\n",
    "    \n",
    "    need_break = False\n",
    "    last_texts = []\n",
    "    for i in range(0, 100000, per_batch):\n",
    "        filename = os.path.join(base_dir, f'{i}.json')\n",
    "        if os.path.exists(filename):\n",
    "            continue\n",
    "        aranged = np.arange(i, i + per_batch, limit)\n",
    "        urls = []\n",
    "        for a_ in aranged:\n",
    "            if a_ == 0:\n",
    "                a_ = ''\n",
    "            else:\n",
    "                a_ = f'/+{a_}'\n",
    "            url = f'https://forum.lowyat.net/{topic}{a_}'\n",
    "            urls.append(url)\n",
    "        \n",
    "        texts = []\n",
    "        \n",
    "        with ThreadPoolExecutor(max_workers=worker_size) as executor:\n",
    "            futures = {executor.submit(get_text, item): item for item in urls}\n",
    "            \n",
    "            for future in as_completed(futures):\n",
    "                r = future.result()\n",
    "                texts.extend(r)\n",
    "                if not len(r):\n",
    "                    need_break = True\n",
    "                    \n",
    "                s = set(texts)\n",
    "                if len(set(last_texts) & s) == len(s):\n",
    "                    need_break = True\n",
    "                    \n",
    "                last_texts = texts[:]\n",
    "        \n",
    "        with open(filename, 'w') as fopen:\n",
    "            json.dump(texts, fopen)\n",
    "            \n",
    "        time.sleep(random.uniform(0.5, 1.5))\n",
    "        \n",
    "        if need_break:\n",
    "            break\n",
    "    \n",
    "    with open(base_dir_filename, 'w') as fopen:\n",
    "        json.dump({'status': True}, fopen) "
   ]
  },
  {
   "cell_type": "code",
   "execution_count": 9,
   "metadata": {},
   "outputs": [],
   "source": [
    "!mkdir SeriousKopitiam"
   ]
  },
  {
   "cell_type": "code",
   "execution_count": 10,
   "metadata": {},
   "outputs": [],
   "source": [
    "!mv topic-* SeriousKopitiam"
   ]
  },
  {
   "cell_type": "code",
   "execution_count": 11,
   "metadata": {
    "scrolled": true
   },
   "outputs": [
    {
     "name": "stdout",
     "output_type": "stream",
     "text": [
      "1.1G\tSeriousKopitiam\r\n"
     ]
    }
   ],
   "source": [
    "!du -hs SeriousKopitiam"
   ]
  },
  {
   "cell_type": "code",
   "execution_count": 13,
   "metadata": {},
   "outputs": [],
   "source": [
    "# !zip -r SeriousKopitiam.zip SeriousKopitiam"
   ]
  },
  {
   "cell_type": "code",
   "execution_count": 14,
   "metadata": {},
   "outputs": [
    {
     "name": "stderr",
     "output_type": "stream",
     "text": [
      "100%|████████████████████████████████| 138032/138032 [00:02<00:00, 61131.88it/s]\n"
     ]
    }
   ],
   "source": [
    "from glob import glob\n",
    "texts = []\n",
    "\n",
    "files = glob('SeriousKopitiam/topic-*/*.json')\n",
    "for f in tqdm(files):\n",
    "    with open(f) as fopen:\n",
    "        texts.extend(json.load(fopen))"
   ]
  },
  {
   "cell_type": "code",
   "execution_count": 15,
   "metadata": {},
   "outputs": [
    {
     "data": {
      "text/plain": [
       "991889"
      ]
     },
     "execution_count": 15,
     "metadata": {},
     "output_type": "execute_result"
    }
   ],
   "source": [
    "texts = list(set(texts))\n",
    "len(texts)"
   ]
  },
  {
   "cell_type": "code",
   "execution_count": 17,
   "metadata": {},
   "outputs": [],
   "source": [
    "with open('SeriousKopitiam.json', 'w') as fopen:\n",
    "    json.dump(texts, fopen)"
   ]
  }
 ],
 "metadata": {
  "kernelspec": {
   "display_name": "Python 3 (ipykernel)",
   "language": "python",
   "name": "python3"
  },
  "language_info": {
   "codemirror_mode": {
    "name": "ipython",
    "version": 3
   },
   "file_extension": ".py",
   "mimetype": "text/x-python",
   "name": "python",
   "nbconvert_exporter": "python",
   "pygments_lexer": "ipython3",
   "version": "3.8.10"
  }
 },
 "nbformat": 4,
 "nbformat_minor": 4
}
