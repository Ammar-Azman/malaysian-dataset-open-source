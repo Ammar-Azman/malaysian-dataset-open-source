{
 "cells": [
  {
   "cell_type": "code",
   "execution_count": 1,
   "metadata": {},
   "outputs": [],
   "source": [
    "import requests\n",
    "from bs4 import BeautifulSoup\n",
    "from tqdm import tqdm\n",
    "import os\n",
    "import json\n",
    "import numpy as np\n",
    "import time\n",
    "import random\n",
    "import json\n",
    "from concurrent.futures import ThreadPoolExecutor, as_completed\n",
    "from datetime import datetime, timedelta"
   ]
  },
  {
   "cell_type": "code",
   "execution_count": 19,
   "metadata": {},
   "outputs": [],
   "source": [
    "import requests\n",
    "\n",
    "cookies = {\n",
    "    'fpestid': 'CjKawRMF4btSANeJuD-umbcjQ4f5S9nSjIS-d_zmh3ecUEtihNs4FM_lLRrEjWr5xeKkPQ',\n",
    "    '_cc_id': '69f8b801beef15345eb5accdea253af',\n",
    "    'panoramaId_expiry': '1694753134625',\n",
    "    'panoramaId': 'e39d7b3a3306da4bd6c8fe0e854716d539383a7263ba5383985026c6f1ca2801',\n",
    "    'panoramaIdType': 'panoIndiv',\n",
    "    '_gid': 'GA1.2.556460015.1694148337',\n",
    "    '_ga': 'GA1.2.1419287866.1694148334',\n",
    "    '_gat_gtag_UA_56021039_1': '1',\n",
    "    'cto_bundle': '-bKWRF9ZJTJCNWZYcENTR3ZyQUpvS0dKVDJFMG1XbUZYRnpCNFA4JTJGT3MzZ1RFOGZCVUpBZWxFOVdOJTJCb3RrMmZ1WG0wTXFBZ3ZESDNBNHluTnQwMkRkNlRxS28yTjQ0THdCMzhJVm52Skk2NkxhUFJIVndXZDlSZ2pWN2w5dXklMkZXY0g4VmhCY0R5Z0pyTjJDcjhjMzkyMnZhV0Y1JTJGJTJCVVBrJTJCQzBra0hGVm1EN1pRWnVrZzVIcjBOMkwxVTFoeHVndENQbTNiWHJJeWVHTzklMkI1SHRZOCUyQkRFRFN0UEJCdWtsbjA4MFBTdDdxMHFSSEtGQjhzdlkzZ0RQZiUyQmVaS0hRbVdGelF5UmQ',\n",
    "    'wpdiscuz_nonce_c6f2e0aa1e27c1820fef7680992c6663': '966b1eedf7',\n",
    "    '_ga_HQDEGXBP1N': 'GS1.1.1694191799.2.1.1694191813.46.0.0',\n",
    "}\n",
    "\n",
    "headers = {\n",
    "    'authority': 'ohsem.me',\n",
    "    'accept': '*/*',\n",
    "    'accept-language': 'en-MY,en;q=0.9,en-US;q=0.8,ms;q=0.7',\n",
    "    'cache-control': 'no-cache',\n",
    "    'content-type': 'application/x-www-form-urlencoded; charset=UTF-8',\n",
    "    # 'cookie': 'fpestid=CjKawRMF4btSANeJuD-umbcjQ4f5S9nSjIS-d_zmh3ecUEtihNs4FM_lLRrEjWr5xeKkPQ; _cc_id=69f8b801beef15345eb5accdea253af; panoramaId_expiry=1694753134625; panoramaId=e39d7b3a3306da4bd6c8fe0e854716d539383a7263ba5383985026c6f1ca2801; panoramaIdType=panoIndiv; _gid=GA1.2.556460015.1694148337; _ga=GA1.2.1419287866.1694148334; _gat_gtag_UA_56021039_1=1; cto_bundle=-bKWRF9ZJTJCNWZYcENTR3ZyQUpvS0dKVDJFMG1XbUZYRnpCNFA4JTJGT3MzZ1RFOGZCVUpBZWxFOVdOJTJCb3RrMmZ1WG0wTXFBZ3ZESDNBNHluTnQwMkRkNlRxS28yTjQ0THdCMzhJVm52Skk2NkxhUFJIVndXZDlSZ2pWN2w5dXklMkZXY0g4VmhCY0R5Z0pyTjJDcjhjMzkyMnZhV0Y1JTJGJTJCVVBrJTJCQzBra0hGVm1EN1pRWnVrZzVIcjBOMkwxVTFoeHVndENQbTNiWHJJeWVHTzklMkI1SHRZOCUyQkRFRFN0UEJCdWtsbjA4MFBTdDdxMHFSSEtGQjhzdlkzZ0RQZiUyQmVaS0hRbVdGelF5UmQ; wpdiscuz_nonce_c6f2e0aa1e27c1820fef7680992c6663=966b1eedf7; _ga_HQDEGXBP1N=GS1.1.1694191799.2.1.1694191813.46.0.0',\n",
    "    'origin': 'https://ohsem.me',\n",
    "    'pragma': 'no-cache',\n",
    "    'referer': 'https://ohsem.me/',\n",
    "    'sec-ch-ua': '\"Chromium\";v=\"116\", \"Not)A;Brand\";v=\"24\", \"Google Chrome\";v=\"116\"',\n",
    "    'sec-ch-ua-mobile': '?0',\n",
    "    'sec-ch-ua-platform': '\"macOS\"',\n",
    "    'sec-fetch-dest': 'empty',\n",
    "    'sec-fetch-mode': 'cors',\n",
    "    'sec-fetch-site': 'same-origin',\n",
    "    'user-agent': 'Mozilla/5.0 (Macintosh; Intel Mac OS X 10_15_7) AppleWebKit/537.36 (KHTML, like Gecko) Chrome/116.0.0.0 Safari/537.36',\n",
    "    'x-requested-with': 'XMLHttpRequest',\n",
    "}\n",
    "\n",
    "data = {\n",
    "    'action': 'bunyad_block',\n",
    "    'block[id]': 'grid',\n",
    "    'block[props][cat_labels]': '0',\n",
    "    'block[props][cat_labels_pos]': 'bot-left',\n",
    "    'block[props][reviews]': 'stars',\n",
    "    'block[props][post_formats_pos]': 'center',\n",
    "    'block[props][load_more_style]': 'a',\n",
    "    'block[props][meta_cat_style]': 'text',\n",
    "    'block[props][media_style_shadow]': '0',\n",
    "    'block[props][media_ratio]': '',\n",
    "    'block[props][media_ratio_custom]': '',\n",
    "    'block[props][read_more]': 'none',\n",
    "    'block[props][content_center]': '0',\n",
    "    'block[props][posts]': '10000',\n",
    "    'block[props][pagination]': '1',\n",
    "    'block[props][pagination_type]': 'load-more',\n",
    "    'block[props][container_width]': '66',\n",
    "    'block[props][exclude_terms][]': '896',\n",
    "    'block[props][offset]': '11',\n",
    "    'block[props][heading_type]': 'e2',\n",
    "    'block[props][heading]': 'RECENT POSTS',\n",
    "    'block[props][meta_items_default]': 'false',\n",
    "    'block[props][meta_below][]': [\n",
    "        'date',\n",
    "        'read_time',\n",
    "        'views',\n",
    "    ],\n",
    "    'block[props][excerpt_length]': '15',\n",
    "    'block[props][query_type]': 'custom',\n",
    "    'block[props][sort_days]': '',\n",
    "    'block[props][carousel_dots]': '',\n",
    "    'block[props][is_sc_call]': 'true',\n",
    "    'paged': '100',\n",
    "}\n",
    "\n",
    "response = requests.post('https://ohsem.me/wp-admin/admin-ajax.php', cookies=cookies, headers=headers, data=data)"
   ]
  },
  {
   "cell_type": "code",
   "execution_count": 22,
   "metadata": {},
   "outputs": [
    {
     "name": "stderr",
     "output_type": "stream",
     "text": [
      "39it [00:39,  1.01s/it]\n"
     ]
    }
   ],
   "source": [
    "def generator():\n",
    "    while True:\n",
    "        yield\n",
    "        \n",
    "index = 1\n",
    "all_a = []\n",
    "\n",
    "for _ in tqdm(generator()):\n",
    "    data = {\n",
    "        'action': 'bunyad_block',\n",
    "        'block[id]': 'grid',\n",
    "        'block[props][cat_labels]': '0',\n",
    "        'block[props][cat_labels_pos]': 'bot-left',\n",
    "        'block[props][reviews]': 'stars',\n",
    "        'block[props][post_formats_pos]': 'center',\n",
    "        'block[props][load_more_style]': 'a',\n",
    "        'block[props][meta_cat_style]': 'text',\n",
    "        'block[props][media_style_shadow]': '0',\n",
    "        'block[props][media_ratio]': '',\n",
    "        'block[props][media_ratio_custom]': '',\n",
    "        'block[props][read_more]': 'none',\n",
    "        'block[props][content_center]': '0',\n",
    "        'block[props][posts]': '10000',\n",
    "        'block[props][pagination]': '1',\n",
    "        'block[props][pagination_type]': 'load-more',\n",
    "        'block[props][container_width]': '66',\n",
    "        'block[props][exclude_terms][]': '896',\n",
    "        'block[props][offset]': '11',\n",
    "        'block[props][heading_type]': 'e2',\n",
    "        'block[props][heading]': 'RECENT POSTS',\n",
    "        'block[props][meta_items_default]': 'false',\n",
    "        'block[props][meta_below][]': [\n",
    "            'date',\n",
    "            'read_time',\n",
    "            'views',\n",
    "        ],\n",
    "        'block[props][excerpt_length]': '15',\n",
    "        'block[props][query_type]': 'custom',\n",
    "        'block[props][sort_days]': '',\n",
    "        'block[props][carousel_dots]': '',\n",
    "        'block[props][is_sc_call]': 'true',\n",
    "        'paged': str(index),\n",
    "    }\n",
    "    \n",
    "    response = requests.post('https://ohsem.me/wp-admin/admin-ajax.php', cookies=cookies, headers=headers, data=data)\n",
    "    soup = BeautifulSoup(response.content, \"lxml\")\n",
    "    a = soup.find_all('a')\n",
    "    a = [a_.get('href') for a_ in a if len(a_.get('href', '')) > 10]\n",
    "    \n",
    "    if not len(a):\n",
    "        break\n",
    "        \n",
    "    all_a.extend(a)\n",
    "    \n",
    "    index += 1"
   ]
  },
  {
   "cell_type": "code",
   "execution_count": 24,
   "metadata": {},
   "outputs": [
    {
     "data": {
      "text/plain": [
       "3819"
      ]
     },
     "execution_count": 24,
     "metadata": {},
     "output_type": "execute_result"
    }
   ],
   "source": [
    "urls = sorted(list(set(all_a)))\n",
    "len(urls)"
   ]
  },
  {
   "cell_type": "code",
   "execution_count": 25,
   "metadata": {},
   "outputs": [],
   "source": [
    "url = urls[0]\n",
    "r = requests.get(url)\n",
    "soup = BeautifulSoup(r.content, \"lxml\")"
   ]
  },
  {
   "cell_type": "code",
   "execution_count": 26,
   "metadata": {},
   "outputs": [
    {
     "data": {
      "text/plain": [
       "'Digital Photography 101 Workshop – Part 1'"
      ]
     },
     "execution_count": 26,
     "metadata": {},
     "output_type": "execute_result"
    }
   ],
   "source": [
    "soup.find('h1').text.strip()"
   ]
  },
  {
   "cell_type": "code",
   "execution_count": 27,
   "metadata": {},
   "outputs": [
    {
     "data": {
      "text/plain": [
       "'\\n\\n\\n\\n\\n\\nLast Saturday, Pixaworks held a one day Photography 101 workshop in their office cum studio in PJ. I was invited as a host for the event and it was the first ever photography class that I have conducted. I was of course very happy with the invitation to teach at the workshop. I never really see myself as an “otai” or someone who is capable of teaching. I’m still in a learning process myself. There are more things that I need to learn. I have been a photographer for almost 7 years but I’ve been having that passion in photography since I was a child. All those years passed, I’m still learning. But the best thing about the photography workshop that I conducted the other day, as I was teaching, I am learning at the same time. It’s best to go back to basic once in a while.\\n\\n\\n\\n\\nThe basic class went well. As I have gathered, the participants were able to understand more about their camera functions and how to compose their framing for better picture taking. After the 2 hours of presentation and fundamental session, we adjourned outside for an outdoor hands-on photography session. One thing about me is that I love teaching and to share my knowledge with others because I know that when I teach, I will somehow learn something as well.\\n\\n\\n\\n\\n\\n\\n\\n\\nThese are some of the participants who attended the Photography 101 Workshop the other day. And by the way, we will be organising another basic photography class on the 15th September 2013. You may register yourself by clicking on the link at the end of this post.\\n\\n\\nI will also share my basic photography class lessons one at a time here in this blog when I have the time. I will go in depth for each subject and will try and explain the details as best I can. Stay tuned then.\\n\\n\\nRegister for the next Digital Photography 101 Workshop -> \\nI want to register!\\n\\n\\n\\n\\n\\n\\nALSO READ\\n\\xa0 \\nCanon Strengthens its RF Lens Range With Two New Versatile Lenses\\n\\n'"
      ]
     },
     "execution_count": 27,
     "metadata": {},
     "output_type": "execute_result"
    }
   ],
   "source": [
    "soup.find('div', {'class': 'entry-content'}).get_text(separator=\"\\n\")"
   ]
  },
  {
   "cell_type": "code",
   "execution_count": 30,
   "metadata": {},
   "outputs": [
    {
     "name": "stderr",
     "output_type": "stream",
     "text": [
      "100%|█████████████████████████████████████████████████████████████████████████████████████████████████████████| 3819/3819 [33:17<00:00,  1.91it/s]\n"
     ]
    }
   ],
   "source": [
    "data = []\n",
    "for url in tqdm(urls):\n",
    "    r = requests.get(url)\n",
    "    soup = BeautifulSoup(r.content, \"lxml\")\n",
    "    data.append({\n",
    "        'url': url,\n",
    "        'title': soup.find('h1').text.strip(),\n",
    "        'body': soup.find('div', {'class': 'entry-content'}).get_text(separator=\"\\n\")\n",
    "    })"
   ]
  },
  {
   "cell_type": "code",
   "execution_count": 33,
   "metadata": {},
   "outputs": [],
   "source": [
    "with open('ohsem.me.jsonl', 'w') as fopen:\n",
    "    for d in data:\n",
    "        fopen.write(f'{json.dumps(d)}\\n')"
   ]
  },
  {
   "cell_type": "code",
   "execution_count": null,
   "metadata": {},
   "outputs": [],
   "source": []
  }
 ],
 "metadata": {
  "kernelspec": {
   "display_name": "Python 3 (ipykernel)",
   "language": "python",
   "name": "python3"
  },
  "language_info": {
   "codemirror_mode": {
    "name": "ipython",
    "version": 3
   },
   "file_extension": ".py",
   "mimetype": "text/x-python",
   "name": "python",
   "nbconvert_exporter": "python",
   "pygments_lexer": "ipython3",
   "version": "3.8.10"
  }
 },
 "nbformat": 4,
 "nbformat_minor": 4
}
