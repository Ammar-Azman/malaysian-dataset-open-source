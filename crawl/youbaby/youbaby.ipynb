{
 "cells": [
  {
   "cell_type": "code",
   "execution_count": null,
   "id": "f3e46721",
   "metadata": {},
   "outputs": [],
   "source": [
    "import json\n",
    "import re\n",
    "import os\n",
    "import requests\n",
    "import time\n",
    "import itertools\n",
    "from tqdm import tqdm\n",
    "from bs4 import BeautifulSoup\n",
    "from requests_html import HTMLSession\n",
    "from concurrent.futures import ThreadPoolExecutor\n",
    "session = HTMLSession()"
   ]
  },
  {
   "cell_type": "code",
   "execution_count": null,
   "id": "b3bf3c1e",
   "metadata": {},
   "outputs": [],
   "source": [
    "def write_to_json(lst, fn):\n",
    "    import json\n",
    "    with open(fn, \"a\") as file:\n",
    "        for item in lst:\n",
    "            x = json.dumps(item, ensure_ascii=False)\n",
    "            file.write(x + \"\\n\")"
   ]
  },
  {
   "cell_type": "markdown",
   "id": "bd008338",
   "metadata": {},
   "source": [
    "# get link"
   ]
  },
  {
   "cell_type": "code",
   "execution_count": null,
   "id": "8c396833",
   "metadata": {},
   "outputs": [],
   "source": [
    "max_workers = 20\n",
    "\n",
    "def get_links(page):\n",
    "    url = f\"https://youbaby.my/blog/page/{page}/\"\n",
    "\n",
    "    r = session.get(url)\n",
    "    soup = BeautifulSoup(r.content, \"lxml\")\n",
    "\n",
    "    articles = soup.find_all(\"h3\", {\"class\": \"elementor-post__title\"})\n",
    "\n",
    "    for item in articles:\n",
    "        data = {\n",
    "            \"url\": item.find('a').get('href'),\n",
    "            \"page\": url\n",
    "            }\n",
    "        write_to_json([data], f\"output/youbabymy-links.txt\")\n",
    "\n",
    "pages = list(range(1, 10))\n",
    "with ThreadPoolExecutor(max_workers=max_workers) as executor:\n",
    "    futures = [executor.submit(get_links, x) for x in pages]\n",
    "    \n",
    "    for future in tqdm(futures, total=len(pages)):\n",
    "        result = future.result()"
   ]
  },
  {
   "cell_type": "markdown",
   "id": "609b052c",
   "metadata": {},
   "source": [
    "# get articles"
   ]
  },
  {
   "cell_type": "code",
   "execution_count": null,
   "id": "b0faaeb7",
   "metadata": {},
   "outputs": [],
   "source": [
    "max_workers = 50\n",
    "\n",
    "with open(f\"output/youbabymy-links.txt\") as f:\n",
    "    lst = f.readlines()\n",
    "\n",
    "def get_data(url):\n",
    "    r = session.get(url)\n",
    "    soup = BeautifulSoup(r.content, \"lxml\")\n",
    "\n",
    "    basic = soup.find(\"ul\", {\"class\": \"elementor-inline-items elementor-icon-list-items elementor-post-info\"})\n",
    "    published_date = re.sub('\\s+', ' ', basic.find(\"li\", {\"itemprop\": \"datePublished\"}).text).strip()\n",
    "    published_time = re.sub('\\s+', ' ', basic.find(\"span\", {\"class\": \"elementor-icon-list-text elementor-post-info__item elementor-post-info__item--type-time\"}).text).strip()\n",
    "    comment_counts = re.sub('\\s+', ' ', basic.find(\"li\", {\"itemprop\": \"commentCount\"}).text).strip()\n",
    "\n",
    "    content = soup.find(\"div\", {\"class\": \"elementor-element elementor-element-7f9c0fa8 elementor-widget elementor-widget-theme-post-content\"})\n",
    "    \n",
    "    try:\n",
    "        content.find('div', {'class': 'ez-toc-title-container'}).decompose()\n",
    "    except:\n",
    "        pass\n",
    "\n",
    "    data = {\n",
    "        \"url\": url,\n",
    "        \"published_date\": published_date,\n",
    "        \"published_time\": published_time,\n",
    "        \"comment_count\": comment_counts,\n",
    "        \"contents\": content.get_text().strip().replace('\\n', '')\n",
    "    }\n",
    "    \n",
    "    write_to_json([data], f\"output/youbabymy-data.json\")\n",
    "    \n",
    "    content = None\n",
    "    \n",
    "    \n",
    "with ThreadPoolExecutor(max_workers=max_workers) as executor:\n",
    "    futures = [executor.submit(get_data, json.loads(x)['url']) for x in lst]\n",
    "    \n",
    "    for future in tqdm(futures, total=len(lst)):\n",
    "        result = future.result()\n"
   ]
  },
  {
   "cell_type": "code",
   "execution_count": null,
   "id": "ef1337ce",
   "metadata": {},
   "outputs": [],
   "source": []
  }
 ],
 "metadata": {
  "kernelspec": {
   "display_name": "Python 3 (ipykernel)",
   "language": "python",
   "name": "python3"
  },
  "language_info": {
   "codemirror_mode": {
    "name": "ipython",
    "version": 3
   },
   "file_extension": ".py",
   "mimetype": "text/x-python",
   "name": "python",
   "nbconvert_exporter": "python",
   "pygments_lexer": "ipython3",
   "version": "3.9.16"
  }
 },
 "nbformat": 4,
 "nbformat_minor": 5
}
