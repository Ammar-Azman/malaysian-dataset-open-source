{
 "cells": [
  {
   "cell_type": "code",
   "execution_count": 1,
   "metadata": {},
   "outputs": [],
   "source": [
    "import requests\n",
    "from bs4 import BeautifulSoup\n",
    "from tqdm import tqdm\n",
    "import os\n",
    "import json\n",
    "import numpy as np\n",
    "import time\n",
    "import random\n",
    "import json\n",
    "import urllib3\n",
    "urllib3.disable_warnings(urllib3.exceptions.InsecureRequestWarning)"
   ]
  },
  {
   "cell_type": "code",
   "execution_count": 2,
   "metadata": {},
   "outputs": [
    {
     "data": {
      "text/plain": [
       "6204"
      ]
     },
     "execution_count": 2,
     "metadata": {},
     "output_type": "execute_result"
    }
   ],
   "source": [
    "from glob import glob\n",
    "\n",
    "files = glob('url/*.json')\n",
    "urls = []\n",
    "for f in files:\n",
    "    with open(f) as fopen:\n",
    "        urls.extend(json.load(fopen))\n",
    "urls = sorted(list(set(urls)))\n",
    "len(urls)"
   ]
  },
  {
   "cell_type": "code",
   "execution_count": 3,
   "metadata": {},
   "outputs": [],
   "source": [
    "r = requests.get(urls[0])\n",
    "soup = BeautifulSoup(r.content, \"lxml\")"
   ]
  },
  {
   "cell_type": "code",
   "execution_count": 4,
   "metadata": {},
   "outputs": [
    {
     "data": {
      "text/plain": [
       "'Big, bold and American – The Jeep Cherokee Overland'"
      ]
     },
     "execution_count": 4,
     "metadata": {},
     "output_type": "execute_result"
    }
   ],
   "source": [
    "soup.find('h1').text"
   ]
  },
  {
   "cell_type": "code",
   "execution_count": 5,
   "metadata": {},
   "outputs": [
    {
     "data": {
      "text/plain": [
       "'https://www.piston.my/2015/10/10/big-bold-and-american/'"
      ]
     },
     "execution_count": 5,
     "metadata": {},
     "output_type": "execute_result"
    }
   ],
   "source": [
    "urls[0]"
   ]
  },
  {
   "cell_type": "code",
   "execution_count": 8,
   "metadata": {},
   "outputs": [
    {
     "data": {
      "text/plain": [
       "'\\n\\n\\n\\n\\n\\nNew Jeep Grand Cherokee Overland lives up to the hype about American SUVs\\n\\n\\nNo one quite makes SUVs like the American’s do. The Germans do a grand job but charge you a very pretty penny; the Koreans almost offer it all but lack the all important finesse you want in a big car. Now the American’s know how to very nearly get it right, but you expect them to, being the purveyors of big accomplished cars that they are.\\n\\n\\nThere really is nothing quite like a good balance of power and smoothness, but throw in a brilliant suspension and you have perfection.\\n\\n\\nTake this Jeep Grand Cherokee Overland for example, it is a classic big, grand SUV with a plush suspension, acres of space and some quality fittings. It does not quite feel like an accomplished RM480,000 SUV, but it has its draws, the kind that keep you looking back at it after parking.\\n\\n\\n\\n\\nWith such a hefty price tag, this Jeep falls into the domain of some very credible competition like the BMW X5, Mercedes ML, Volkswagen Touareg, and the mighty Land Rover Discovery. But it has tricks to hold its own even in such accomplished company.\\n\\n\\nTake the design of the car for example, those iconic vertical lines have been part of the Jeep Cherokee design for eons now, and still looks good. The squared headlights and that massive front end give the car a very commanding presence, the kind that makes people want to sramble to get out of the way. This big car makes you feel big inside as well, and is a brilliant ego stroker.\\n\\n\\nThe interior though is simple and will not blow you away, but it has everything you will want of a car with this price tag. Spaciousness is a given, but it is a strict five-seater with plenty of room in the boot but no extra seats. No fancy automatic flattening seats or anything of that sort here either. The big, comfortable seats are leather clad with the Overland crest stitched into the back rests. The overall theme is minimalistic with most buttons and controls centred around the centre stack. Quality is just so too, Chrysler still has a ways to go to catch up with the competition when it comes to making half a million Ringgit cars.\\n\\n\\n\\n\\nCreature comforts are pretty standard for this day and age; a 8.4-inch multi-view display dominates the central dash area, it is connected to a nine speaker Alpine premium audio system that offers USB, AUX and bluetooth connectivity. And not like you would need it for this country but there are heated seats all around and a heated steering wheel. More relevant for Malaysians are the ventilated front seats, and the powered tailgate and other grand features, but this Cherokee Overland is so much more than just the features it offers, the real magic of this Jeep is in the drive.\\n\\n\\nUnder the bonnet is a mighty Pentastar 3.6-litre V6 VVT engine that puts out an impressive 284hp and 347Nm of torque. Though it weighs over two tons, you really don’t feel the heft. Power is available whenever you want it, comfortable highway cruising speed is close to the twin century mark and thanks to the eight-speed automatic transmission, you get silky smooth shifts which you can also control via steering mounted pedal shifters.\\n\\n\\nThere really is nothing quite like a good balance of power and smoothness, but throw in a brilliant suspension and you have perfection. And that is exactly what the Grand Cherokee Overland offers with its ‘Quadra-Lift Air Suspension System’ – perfection in motion. The intelligent suspension system does a fantastic job of soaking up nearly everthing the road has to offer, and when it can’t absorb it, it does well at ensuring you feel very little of it in the cabin. The Quadra-Lift system also automatically raises and lowers the car for maximum ground clearance, and to make it easier to get in and out of the car. It is also intelligent enough to know when to raise itself from back to front to keep the headlights focused down on the road.\\n\\n\\n\\n\\nThe interior is serene at almost any speed, the suspension keeps the ride plush and the engine ensures you are never left wanting of power. The full time four-wheel-drive system ensures you always have maximum control. The overall interior quality is not really up there with the best, but the best does not have this Jeep’s superb ride quality and its grand design, and that is why this American SUV is still up there with the greatest. And with most people flocking to BMW, Mercedes and Land Rover, it is about time to stand out from the crowd, especially in a car that arguably looks better than the competition.\\n\\n\\nGallery\\n\\n\\n\\n'"
      ]
     },
     "execution_count": 8,
     "metadata": {},
     "output_type": "execute_result"
    }
   ],
   "source": [
    "soup.find('div', {'class':\"td-post-content\"}).get_text(separator=\"\\n\")"
   ]
  },
  {
   "cell_type": "code",
   "execution_count": 9,
   "metadata": {},
   "outputs": [],
   "source": [
    "!rm -rf page\n",
    "!mkdir page"
   ]
  },
  {
   "cell_type": "code",
   "execution_count": 10,
   "metadata": {},
   "outputs": [
    {
     "name": "stderr",
     "output_type": "stream",
     "text": [
      "6204it [1:53:57,  1.10s/it]\n"
     ]
    }
   ],
   "source": [
    "for no, url in tqdm(enumerate(urls)):\n",
    "    filename = os.path.join('page', f'{no}.json')\n",
    "    if os.path.exists(filename):\n",
    "        continue\n",
    "    \n",
    "    while True:\n",
    "        try:\n",
    "            r = requests.get(url)\n",
    "            break\n",
    "        except:\n",
    "            time.sleep(1.0)\n",
    "            \n",
    "    soup = BeautifulSoup(r.content, \"lxml\")\n",
    "    \n",
    "    try:\n",
    "        title = soup.find('h1').text\n",
    "    except:\n",
    "        title = None\n",
    "    \n",
    "    try:\n",
    "        body = soup.find('div', {'class':\"td-post-content\"}).get_text(separator=\"\\n\")\n",
    "    except:\n",
    "        body = None\n",
    "\n",
    "    data = {\n",
    "        'url': url,\n",
    "        'title': title,\n",
    "        'body': body,\n",
    "    }\n",
    "    with open(filename, 'w') as fopen:\n",
    "        json.dump(data, fopen)"
   ]
  },
  {
   "cell_type": "code",
   "execution_count": null,
   "metadata": {},
   "outputs": [],
   "source": []
  }
 ],
 "metadata": {
  "kernelspec": {
   "display_name": "Python 3 (ipykernel)",
   "language": "python",
   "name": "python3"
  },
  "language_info": {
   "codemirror_mode": {
    "name": "ipython",
    "version": 3
   },
   "file_extension": ".py",
   "mimetype": "text/x-python",
   "name": "python",
   "nbconvert_exporter": "python",
   "pygments_lexer": "ipython3",
   "version": "3.8.10"
  }
 },
 "nbformat": 4,
 "nbformat_minor": 4
}
