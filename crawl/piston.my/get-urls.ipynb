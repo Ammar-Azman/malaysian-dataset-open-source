{
 "cells": [
  {
   "cell_type": "code",
   "execution_count": 1,
   "metadata": {},
   "outputs": [],
   "source": [
    "import requests\n",
    "from bs4 import BeautifulSoup\n",
    "from tqdm import tqdm\n",
    "import os\n",
    "import json\n",
    "import numpy as np\n",
    "import time\n",
    "import random\n",
    "import json\n",
    "import urllib3\n",
    "urllib3.disable_warnings(urllib3.exceptions.InsecureRequestWarning)"
   ]
  },
  {
   "cell_type": "code",
   "execution_count": 2,
   "metadata": {},
   "outputs": [],
   "source": [
    "categories = [\n",
    "    'https://www.piston.my/category/news/',\n",
    "    'https://www.piston.my/category/reviews/',\n",
    "]"
   ]
  },
  {
   "cell_type": "code",
   "execution_count": 3,
   "metadata": {},
   "outputs": [],
   "source": [
    "r = requests.get(categories[0])\n",
    "soup = BeautifulSoup(r.content, \"lxml\")"
   ]
  },
  {
   "cell_type": "code",
   "execution_count": 6,
   "metadata": {},
   "outputs": [
    {
     "data": {
      "text/plain": [
       "619"
      ]
     },
     "execution_count": 6,
     "metadata": {},
     "output_type": "execute_result"
    }
   ],
   "source": [
    "int(soup.find('a', {'class': 'last'}).text)"
   ]
  },
  {
   "cell_type": "code",
   "execution_count": 10,
   "metadata": {},
   "outputs": [
    {
     "data": {
      "text/plain": [
       "['https://www.piston.my/2023/07/28/audi-recognition-plan-launched-to-support-parallel-imported-models/',\n",
       " 'https://www.piston.my/2023/07/28/audi-recognition-plan-launched-to-support-parallel-imported-models/',\n",
       " 'https://www.piston.my/2023/07/28/aston-martin-db12-officially-launched-in-malaysia/',\n",
       " 'https://www.piston.my/2023/07/28/aston-martin-db12-officially-launched-in-malaysia/',\n",
       " 'https://www.piston.my/2023/07/28/one-stop-centre-to-dispose-disused-vehicles/',\n",
       " 'https://www.piston.my/2023/07/28/one-stop-centre-to-dispose-disused-vehicles/',\n",
       " 'https://www.piston.my/2023/07/28/perodua-alza-waiting-period-still-an-issue-up-to-13-months/',\n",
       " 'https://www.piston.my/2023/07/28/perodua-alza-waiting-period-still-an-issue-up-to-13-months/',\n",
       " 'https://www.piston.my/2023/07/28/mbpj-received-922-complaints-over-six-months-about-obstacles-in-parking-spaces/',\n",
       " 'https://www.piston.my/2023/07/28/mbpj-received-922-complaints-over-six-months-about-obstacles-in-parking-spaces/',\n",
       " 'https://www.piston.my/2023/07/28/new-ticketing-concept-by-ktmb-lets-you-buy-train-tickets-6-months-in-advance/',\n",
       " 'https://www.piston.my/2023/07/28/new-ticketing-concept-by-ktmb-lets-you-buy-train-tickets-6-months-in-advance/',\n",
       " 'https://www.piston.my/2023/07/28/hyundai-performance-models-to-get-carbon-fibre-wheels/',\n",
       " 'https://www.piston.my/2023/07/28/hyundai-performance-models-to-get-carbon-fibre-wheels/',\n",
       " 'https://www.piston.my/2023/07/28/next-gen-mini-gets-circular-oled-screen-and-special-ev-sounds/',\n",
       " 'https://www.piston.my/2023/07/28/next-gen-mini-gets-circular-oled-screen-and-special-ev-sounds/',\n",
       " 'https://www.piston.my/2023/07/27/auto-companies-team-up-to-open-a-vast-ev-charging-network-in-america-why-not-in-malaysia/',\n",
       " 'https://www.piston.my/2023/07/27/auto-companies-team-up-to-open-a-vast-ev-charging-network-in-america-why-not-in-malaysia/',\n",
       " 'https://www.piston.my/2023/07/27/mercedes-reveals-the-updated-v-class-midsize-van-series/',\n",
       " 'https://www.piston.my/2023/07/27/mercedes-reveals-the-updated-v-class-midsize-van-series/',\n",
       " 'https://www.piston.my/2023/07/20/hennessey-turns-the-mustang-dark-horse-into-a-850hp-beast/',\n",
       " 'https://www.piston.my/2023/07/20/hennessey-turns-the-mustang-dark-horse-into-a-850hp-beast/',\n",
       " 'https://www.piston.my/2023/07/18/ranger-training-experience-unleash-the-full-potential-of-your-trucks/',\n",
       " 'https://www.piston.my/2023/07/18/ranger-training-experience-unleash-the-full-potential-of-your-trucks/',\n",
       " 'https://www.piston.my/2023/07/15/ford-mustang-mach-e-gets-a-rally-variant/',\n",
       " 'https://www.piston.my/2023/07/15/ford-mustang-mach-e-gets-a-rally-variant/',\n",
       " 'https://www.piston.my/2023/07/03/ford-kills-the-fiesta-replaces-it-with-electric-suv/',\n",
       " 'https://www.piston.my/2023/07/03/ford-kills-the-fiesta-replaces-it-with-electric-suv/',\n",
       " 'https://www.piston.my/2023/06/27/ranger-raptor-2-0-bi-turbo-diesel-on-nationwide-tour/',\n",
       " 'https://www.piston.my/2023/06/27/ranger-raptor-2-0-bi-turbo-diesel-on-nationwide-tour/',\n",
       " 'https://www.piston.my/2023/07/28/audi-recognition-plan-launched-to-support-parallel-imported-models/',\n",
       " 'https://www.piston.my/2023/07/28/audi-recognition-plan-launched-to-support-parallel-imported-models/',\n",
       " 'https://www.piston.my/2023/07/28/aston-martin-db12-officially-launched-in-malaysia/',\n",
       " 'https://www.piston.my/2023/07/28/aston-martin-db12-officially-launched-in-malaysia/',\n",
       " 'https://www.piston.my/2023/07/28/one-stop-centre-to-dispose-disused-vehicles/',\n",
       " 'https://www.piston.my/2023/07/28/one-stop-centre-to-dispose-disused-vehicles/',\n",
       " 'https://www.piston.my/2023/07/28/perodua-alza-waiting-period-still-an-issue-up-to-13-months/',\n",
       " 'https://www.piston.my/2023/07/28/perodua-alza-waiting-period-still-an-issue-up-to-13-months/',\n",
       " 'https://www.piston.my/2023/07/28/mbpj-received-922-complaints-over-six-months-about-obstacles-in-parking-spaces/',\n",
       " 'https://www.piston.my/2023/07/28/mbpj-received-922-complaints-over-six-months-about-obstacles-in-parking-spaces/',\n",
       " 'https://www.piston.my/2023/07/19/peugeot-landtrek-for-those-who-like-to-stand-out-in-a-crowd/',\n",
       " 'https://www.piston.my/2023/07/19/peugeot-landtrek-for-those-who-like-to-stand-out-in-a-crowd/',\n",
       " 'https://www.piston.my/2023/07/11/video-which-fuel-takes-you-further-shell-petronas-or-bhpetrol/',\n",
       " 'https://www.piston.my/2023/07/11/video-which-fuel-takes-you-further-shell-petronas-or-bhpetrol/',\n",
       " 'https://www.piston.my/2023/07/08/michelin-pilot-sport-5-what-makes-it-so-good/',\n",
       " 'https://www.piston.my/2023/07/08/michelin-pilot-sport-5-what-makes-it-so-good/']"
      ]
     },
     "execution_count": 10,
     "metadata": {},
     "output_type": "execute_result"
    }
   ],
   "source": [
    "a = soup.find_all('a', {'rel':\"bookmark\"})\n",
    "a = [a_.get('href') for a_ in a]\n",
    "a"
   ]
  },
  {
   "cell_type": "code",
   "execution_count": 11,
   "metadata": {},
   "outputs": [],
   "source": [
    "!rm -rf url\n",
    "!mkdir url"
   ]
  },
  {
   "cell_type": "code",
   "execution_count": 12,
   "metadata": {},
   "outputs": [
    {
     "name": "stderr",
     "output_type": "stream",
     "text": [
      "100%|█████████████████████████████████████████| 619/619 [11:46<00:00,  1.14s/it]\n",
      "100%|███████████████████████████████████████████| 10/10 [00:10<00:00,  1.09s/it]\n"
     ]
    }
   ],
   "source": [
    "for t in categories:\n",
    "    t_ = t.split('my/')[1].replace('/', '-')\n",
    "    r = requests.get(t)\n",
    "    soup = BeautifulSoup(r.content, \"lxml\")\n",
    "    try:\n",
    "        page_num = int(soup.find('a', {'class': 'last'}).text)\n",
    "    except:\n",
    "        page_num = 1\n",
    "    \n",
    "    for index in tqdm(range(1, page_num + 1, 1)):\n",
    "        filename = os.path.join('url', f'{t_}-{index}.json')\n",
    "        if os.path.exists(filename):\n",
    "            continue\n",
    "        url = f'{t}page/{index}/'\n",
    "        r = requests.get(url)\n",
    "        soup = BeautifulSoup(r.content, \"lxml\")\n",
    "        \n",
    "        a = soup.find_all('a', {'rel':\"bookmark\"})\n",
    "        a = [a_.get('href') for a_ in a]\n",
    "\n",
    "        with open(filename, 'w') as fopen:\n",
    "            json.dump(a, fopen)       "
   ]
  },
  {
   "cell_type": "code",
   "execution_count": null,
   "metadata": {},
   "outputs": [],
   "source": []
  }
 ],
 "metadata": {
  "kernelspec": {
   "display_name": "Python 3 (ipykernel)",
   "language": "python",
   "name": "python3"
  },
  "language_info": {
   "codemirror_mode": {
    "name": "ipython",
    "version": 3
   },
   "file_extension": ".py",
   "mimetype": "text/x-python",
   "name": "python",
   "nbconvert_exporter": "python",
   "pygments_lexer": "ipython3",
   "version": "3.8.10"
  }
 },
 "nbformat": 4,
 "nbformat_minor": 4
}
