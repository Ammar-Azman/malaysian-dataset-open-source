{
 "cells": [
  {
   "cell_type": "code",
   "execution_count": 1,
   "metadata": {},
   "outputs": [],
   "source": [
    "# !mkdir html\n",
    "# !mv *.html html\n",
    "# !zip -r html.zip html"
   ]
  },
  {
   "cell_type": "code",
   "execution_count": 2,
   "metadata": {},
   "outputs": [],
   "source": [
    "# !mkdir pdf"
   ]
  },
  {
   "cell_type": "code",
   "execution_count": 3,
   "metadata": {},
   "outputs": [],
   "source": [
    "from glob import glob\n",
    "from bs4 import BeautifulSoup\n",
    "import os\n",
    "import requests\n",
    "from tqdm import tqdm\n",
    "import random\n",
    "import time\n",
    "import json"
   ]
  },
  {
   "cell_type": "code",
   "execution_count": 4,
   "metadata": {},
   "outputs": [],
   "source": [
    "cookies = {\n",
    "    'from_cache': '',\n",
    "    'auvid': 'MTY4MzQzNzkyMjk4NDowLjk0ODU3MDk4NDg1NDQ%3D',\n",
    "    '_ga': 'GA1.2.534798164.1683437924',\n",
    "    '_gid': 'GA1.2.1815999583.1683437924',\n",
    "    'overridden_user_tests': '%7B%22google_account_permissions_v2%22%3A%22without_contacts%22%7D',\n",
    "    'user_id': '38068128',\n",
    "    'cookie_test': '38068128',\n",
    "    'long_term_login': 'true',\n",
    "    'login_token': '38068128%3Ba1784e11e7d9103b315e841f',\n",
    "    '_sharedid': 'bdab44d3-8c83-4355-86f4-75591986fab6',\n",
    "    '__qca': 'I0-518466091-1683439461266',\n",
    "    '_pbjs_userid_consent_data': '3524755945110770',\n",
    "    'ki_r': 'aHR0cHM6Ly9tYWxheWEuYWNhZGVtaWEuZWR1Lw%3D%3D',\n",
    "    '_lr_env_src_ats': 'false',\n",
    "    'pbjs-unifiedid': '%7B%22TDID%22%3A%2259a14f4e-9cd9-4559-947d-09f703acfc99%22%2C%22TDID_LOOKUP%22%3A%22TRUE%22%2C%22TDID_CREATED_AT%22%3A%222023-04-07T07%3A58%3A08%22%7D',\n",
    "    'admin_unrecorded_tests': '%7B%22auth_system_version%22%3A%7B%22bucket%22%3A%22login_token_only%22%2C%22buckets%22%3A%5B%22y_cookie%22%2C%22login_token_only%22%5D%7D%2C%22localize_frontend%22%3A%7B%22bucket%22%3A%22localize%22%2C%22buckets%22%3A%5B%22control%22%2C%22localize%22%5D%7D%7D',\n",
    "    'ab_tests': '%7B%22all_premium_general_modal_2023_04%22%3A%22control%22%2C%22profile_page_related_authors%22%3A%22related_authors%22%2C%22all_premium_faculty_modal_2023_04%22%3A%22faculty_image%22%7D',\n",
    "    'ki_t': '1683446284799%3B1683446284799%3B1683447252094%3B1%3B9',\n",
    "    'last_load_time': '1683447252',\n",
    "    'cto_bundle': 'GubNql95MDE2bDVjUzF0eEJlbmwlMkI0dkxFSkUlMkYxWFJWMG9UZFZCMzU5YVBnJTJCRXFTZWhVS0ElMkY0ZjhjU3A5YlJvVGJDc29rJTJCbVJVS0UxWkYwbTdEQ3ZBRWI4dFdrcWVQSjJUdVZxUVdPejFHNVplZGxwcnF0WUpTdDlZc3pFNFc5ZlNXQXcxUm8xViUyRiUyRkh3N3lLZkhwanNBZGpCQSUzRCUzRA',\n",
    "    'cto_bidid': 'Mtch719PcHRRZlpxVWhxZnlra0w1RlBvSzllUlRYYiUyQnAzMTFZMnJzQzZSd1pqZ1NnNWM5QnNsJTJCb21iUXQ0WERkeUVzTDBwMWFmNTFEem5XVkxSSUtqYyUyQmU5cm9NWldXRHdyNmwxSXFndGprQ1pkdyUzRA',\n",
    "    'yauic': 'eyJfcmFpbHMiOnsibWVzc2FnZSI6IkJBaEpJaVl6T0RBMk9ERXlPRHRoTVRjNE5HVXhNV1UzWkRreE1ETmlNekUxWlRnME1XWUdPZ1pGVkE9PSIsImV4cCI6IjIwMjQtMDUtMDdUMDg6MTU6MDIuNjAyWiIsInB1ciI6bnVsbH19--5e1b19b4da42a13efc7ab718556d30a13085494b',\n",
    "    '_cookie_session': 'WXdhaHVCSUpidnRzRUFhR1ZDNjZxaTlnVGtTeVhsT2c1WGtvR0tqUHZHQTIrS3k0TU1yQTF0a0Z4SCsxb0ZXUUhaSy83aFcvUkI1UjhVdmZ1b0VFWDBWd2hhRkM3Z1IvWVN0NFZrQkdtV1VzaDJvdHJtdXFycHVVUGY1bVFPeGIvcG1MM3dua3pkOFN1cEFoTE5Ub3VWdU9IVzV4aTVNbFVWYVRjdWdBMThjRTMyRXlsZVhGTlBWT0VJUVFCRFVST1NtVmhvNUQ0TDJldWlSQm1zYzd3ODRYczR1QUVoaGJSenJXTG82RGlwWUg2T3krektybnA0WHc1eFR5TWtzaTlyZlJPRm9DZkJZSDgrTjFqRjV5QUJ4bFIyQ0E3YWZGRk9JenEvSU95MlZleU4ybTFsVEZhTzBIZ0gvaWM0UWR2eUlvY1dJRE1wbGhtdFUyM1A1bjE5dlovV3NObHlyQk16eFlMR09ITEozVWN2bnM5QnVsc2JodDYraVB4eGM2NEZ4ZWViWWZWWXdQekdsMzBPUGNOK0QzQ0pKMEVhY0NGZXJHdGhXZTcyQnI0dG8wMDJjZ0FDTzV3U25ZL2VWa2RrRlh4Z2UyQXQ2UnJaUkNZZ05TeW1hQmhkdU1qUWxPVklnaTNaa1RrRnM9LS1vOTVoZkRLN0hndlVqYTB0dDRsekJRPT0%3D--ba9351aec1797d1e6f9bb70695ed88daa246b18e',\n",
    "}\n",
    "\n",
    "headers = {\n",
    "    'authority': 'apiitmalaysia.academia.edu',\n",
    "    'accept': 'text/html,application/xhtml+xml,application/xml;q=0.9,image/avif,image/webp,image/apng,*/*;q=0.8,application/signed-exchange;v=b3;q=0.7',\n",
    "    'accept-language': 'en-MY,en;q=0.9,en-US;q=0.8,ms;q=0.7',\n",
    "    'cache-control': 'no-cache',\n",
    "    # 'cookie': 'from_cache=; auvid=MTY4MzQzNzkyMjk4NDowLjk0ODU3MDk4NDg1NDQ%3D; _ga=GA1.2.534798164.1683437924; _gid=GA1.2.1815999583.1683437924; overridden_user_tests=%7B%22google_account_permissions_v2%22%3A%22without_contacts%22%7D; user_id=38068128; cookie_test=38068128; long_term_login=true; login_token=38068128%3Ba1784e11e7d9103b315e841f; _sharedid=bdab44d3-8c83-4355-86f4-75591986fab6; __qca=I0-518466091-1683439461266; _pbjs_userid_consent_data=3524755945110770; ki_r=aHR0cHM6Ly9tYWxheWEuYWNhZGVtaWEuZWR1Lw%3D%3D; _lr_env_src_ats=false; pbjs-unifiedid=%7B%22TDID%22%3A%2259a14f4e-9cd9-4559-947d-09f703acfc99%22%2C%22TDID_LOOKUP%22%3A%22TRUE%22%2C%22TDID_CREATED_AT%22%3A%222023-04-07T07%3A58%3A08%22%7D; admin_unrecorded_tests=%7B%22auth_system_version%22%3A%7B%22bucket%22%3A%22login_token_only%22%2C%22buckets%22%3A%5B%22y_cookie%22%2C%22login_token_only%22%5D%7D%2C%22localize_frontend%22%3A%7B%22bucket%22%3A%22localize%22%2C%22buckets%22%3A%5B%22control%22%2C%22localize%22%5D%7D%7D; ab_tests=%7B%22all_premium_general_modal_2023_04%22%3A%22control%22%2C%22profile_page_related_authors%22%3A%22related_authors%22%2C%22all_premium_faculty_modal_2023_04%22%3A%22faculty_image%22%7D; ki_t=1683446284799%3B1683446284799%3B1683447252094%3B1%3B9; last_load_time=1683447252; cto_bundle=GubNql95MDE2bDVjUzF0eEJlbmwlMkI0dkxFSkUlMkYxWFJWMG9UZFZCMzU5YVBnJTJCRXFTZWhVS0ElMkY0ZjhjU3A5YlJvVGJDc29rJTJCbVJVS0UxWkYwbTdEQ3ZBRWI4dFdrcWVQSjJUdVZxUVdPejFHNVplZGxwcnF0WUpTdDlZc3pFNFc5ZlNXQXcxUm8xViUyRiUyRkh3N3lLZkhwanNBZGpCQSUzRCUzRA; cto_bidid=Mtch719PcHRRZlpxVWhxZnlra0w1RlBvSzllUlRYYiUyQnAzMTFZMnJzQzZSd1pqZ1NnNWM5QnNsJTJCb21iUXQ0WERkeUVzTDBwMWFmNTFEem5XVkxSSUtqYyUyQmU5cm9NWldXRHdyNmwxSXFndGprQ1pkdyUzRA; yauic=eyJfcmFpbHMiOnsibWVzc2FnZSI6IkJBaEpJaVl6T0RBMk9ERXlPRHRoTVRjNE5HVXhNV1UzWkRreE1ETmlNekUxWlRnME1XWUdPZ1pGVkE9PSIsImV4cCI6IjIwMjQtMDUtMDdUMDg6MTU6MDIuNjAyWiIsInB1ciI6bnVsbH19--5e1b19b4da42a13efc7ab718556d30a13085494b; _cookie_session=WXdhaHVCSUpidnRzRUFhR1ZDNjZxaTlnVGtTeVhsT2c1WGtvR0tqUHZHQTIrS3k0TU1yQTF0a0Z4SCsxb0ZXUUhaSy83aFcvUkI1UjhVdmZ1b0VFWDBWd2hhRkM3Z1IvWVN0NFZrQkdtV1VzaDJvdHJtdXFycHVVUGY1bVFPeGIvcG1MM3dua3pkOFN1cEFoTE5Ub3VWdU9IVzV4aTVNbFVWYVRjdWdBMThjRTMyRXlsZVhGTlBWT0VJUVFCRFVST1NtVmhvNUQ0TDJldWlSQm1zYzd3ODRYczR1QUVoaGJSenJXTG82RGlwWUg2T3krektybnA0WHc1eFR5TWtzaTlyZlJPRm9DZkJZSDgrTjFqRjV5QUJ4bFIyQ0E3YWZGRk9JenEvSU95MlZleU4ybTFsVEZhTzBIZ0gvaWM0UWR2eUlvY1dJRE1wbGhtdFUyM1A1bjE5dlovV3NObHlyQk16eFlMR09ITEozVWN2bnM5QnVsc2JodDYraVB4eGM2NEZ4ZWViWWZWWXdQekdsMzBPUGNOK0QzQ0pKMEVhY0NGZXJHdGhXZTcyQnI0dG8wMDJjZ0FDTzV3U25ZL2VWa2RrRlh4Z2UyQXQ2UnJaUkNZZ05TeW1hQmhkdU1qUWxPVklnaTNaa1RrRnM9LS1vOTVoZkRLN0hndlVqYTB0dDRsekJRPT0%3D--ba9351aec1797d1e6f9bb70695ed88daa246b18e',\n",
    "    'pragma': 'no-cache',\n",
    "    'referer': 'https://apiitmalaysia.academia.edu/',\n",
    "    'sec-ch-ua': '\"Chromium\";v=\"112\", \"Google Chrome\";v=\"112\", \"Not:A-Brand\";v=\"99\"',\n",
    "    'sec-ch-ua-mobile': '?0',\n",
    "    'sec-ch-ua-platform': '\"macOS\"',\n",
    "    'sec-fetch-dest': 'document',\n",
    "    'sec-fetch-mode': 'navigate',\n",
    "    'sec-fetch-site': 'same-origin',\n",
    "    'sec-fetch-user': '?1',\n",
    "    'upgrade-insecure-requests': '1',\n",
    "    'user-agent': 'Mozilla/5.0 (Macintosh; Intel Mac OS X 10_15_7) AppleWebKit/537.36 (KHTML, like Gecko) Chrome/112.0.0.0 Safari/537.36',\n",
    "}\n",
    "\n",
    "# response = requests.get(\n",
    "#     'https://apiitmalaysia.academia.edu/Departments/Accounting_and_Finance/Documents?page=1',\n",
    "#     cookies=cookies,\n",
    "#     headers=headers,\n",
    "# )"
   ]
  },
  {
   "cell_type": "code",
   "execution_count": 5,
   "metadata": {},
   "outputs": [
    {
     "data": {
      "text/plain": [
       "32"
      ]
     },
     "execution_count": 5,
     "metadata": {},
     "output_type": "execute_result"
    }
   ],
   "source": [
    "files = glob('department/*.json')\n",
    "len(files)"
   ]
  },
  {
   "cell_type": "code",
   "execution_count": 6,
   "metadata": {},
   "outputs": [],
   "source": [
    "with open(files[0]) as fopen:\n",
    "    data = json.load(fopen)"
   ]
  },
  {
   "cell_type": "code",
   "execution_count": 7,
   "metadata": {},
   "outputs": [
    {
     "data": {
      "text/plain": [
       "{'href': 'https://iium.academia.edu/Departments/AIKOL/Documents',\n",
       " 'doc_count': 10}"
      ]
     },
     "execution_count": 7,
     "metadata": {},
     "output_type": "execute_result"
    }
   ],
   "source": [
    "data[0]"
   ]
  },
  {
   "cell_type": "code",
   "execution_count": 139,
   "metadata": {},
   "outputs": [],
   "source": [
    "for html in htmls:\n",
    "    \n",
    "    filename = html.split(') ')[1].replace(' - Academia.edu.html', '').replace(' ', '-')\n",
    "    with open(html) as fopen:\n",
    "        soup = BeautifulSoup(fopen.read(), \"lxml\")\n",
    "    \n",
    "    lis = soup.find_all('li', {'class': 'u-lineHeight2_5'})\n",
    "    lis = [li for li in lis if ' documents</a>' in str(li) or ' document</a>' in str(li)]\n",
    "    l = []\n",
    "    for li in lis:\n",
    "        href = li.find('a').get('href')\n",
    "        try:\n",
    "            doc_count = int(str(li).split(' documents</a>')[0].split('\">')[-1])\n",
    "        except:\n",
    "            doc_count = 1\n",
    "        l.append({\n",
    "            'href': href,\n",
    "            'doc_count': doc_count\n",
    "        })\n",
    "    \n",
    "    with open(f'{filename}.json', 'w') as fopen:\n",
    "        json.dump(l, fopen)"
   ]
  },
  {
   "cell_type": "code",
   "execution_count": 142,
   "metadata": {},
   "outputs": [],
   "source": [
    "# !mkdir department\n",
    "# !mv *.json department\n",
    "# !zip -r department.zip department"
   ]
  },
  {
   "cell_type": "code",
   "execution_count": 129,
   "metadata": {
    "scrolled": true
   },
   "outputs": [
    {
     "data": {
      "text/plain": [
       "227"
      ]
     },
     "execution_count": 129,
     "metadata": {},
     "output_type": "execute_result"
    }
   ],
   "source": [
    "len(lis)"
   ]
  },
  {
   "cell_type": "code",
   "execution_count": 130,
   "metadata": {},
   "outputs": [
    {
     "data": {
      "text/plain": [
       "<li class=\"u-lineHeight2_5\"><a class=\"u-fw700 u-tcGrayDarkest\" href=\"https://uitmshahalam.academia.edu/Departments/Aagbs/Documents\">Aagbs</a><span class=\"u-tcGrayDark u-fs12\">  <a class=\"u-tcGrayDark\" href=\"https://uitmshahalam.academia.edu/Departments/Aagbs\">78 people</a>  |  <a class=\"u-tcGrayDark\" href=\"https://uitmshahalam.academia.edu/Departments/Aagbs/Documents\">32 documents</a></span><span class=\"u-tcGrayDark u-fs12\">  |  <span class=\"create-moderation-request clickable\" data-confirm=\"Are you sure you want to hide Aagbs?\" data-moderateable-id=\"662218\" data-moderateable-type=\"Department\" data-moderation-action=\"Hide\">hide</span></span></li>"
      ]
     },
     "execution_count": 130,
     "metadata": {},
     "output_type": "execute_result"
    }
   ],
   "source": [
    "lis[1]"
   ]
  },
  {
   "cell_type": "code",
   "execution_count": 120,
   "metadata": {},
   "outputs": [
    {
     "data": {
      "text/plain": [
       "'1'"
      ]
     },
     "execution_count": 120,
     "metadata": {},
     "output_type": "execute_result"
    }
   ],
   "source": [
    "str(lis[0]).split(' document</a>')[0].split('\">')[-1]"
   ]
  },
  {
   "cell_type": "code",
   "execution_count": 113,
   "metadata": {},
   "outputs": [
    {
     "data": {
      "text/plain": [
       "'https://uitmshahalam.academia.edu/Departments/Administrative/Documents'"
      ]
     },
     "execution_count": 113,
     "metadata": {},
     "output_type": "execute_result"
    }
   ],
   "source": [
    "lis[0].find('a').get('href')"
   ]
  },
  {
   "cell_type": "code",
   "execution_count": 15,
   "metadata": {},
   "outputs": [],
   "source": [
    "soup = BeautifulSoup(response.content, \"lxml\")"
   ]
  },
  {
   "cell_type": "code",
   "execution_count": 18,
   "metadata": {},
   "outputs": [],
   "source": [
    "scripts = soup.find_all('script')"
   ]
  },
  {
   "cell_type": "code",
   "execution_count": 36,
   "metadata": {},
   "outputs": [],
   "source": [
    "data = []\n",
    "for s in scripts:\n",
    "    try:\n",
    "        s = str(s).replace(',\\n    })\\n  }\\n})();</script>', '').split('\\n      work: ')[1]\n",
    "        data.append(json.loads(s))\n",
    "    except:\n",
    "        pass"
   ]
  },
  {
   "cell_type": "code",
   "execution_count": 73,
   "metadata": {},
   "outputs": [],
   "source": [
    "def is_downloadable(url):\n",
    "    h = requests.head(url, cookies=cookies,\n",
    "    headers=headers,allow_redirects=True)\n",
    "    header = h.headers\n",
    "    content_type = header.get('content-type')\n",
    "    if 'text' in content_type.lower():\n",
    "        return False\n",
    "    if 'html' in content_type.lower():\n",
    "        return False\n",
    "    return h\n",
    "\n",
    "def download_file_cloud(url, filename):\n",
    "    r = requests.get(url, cookies=cookies,\n",
    "    headers=headers,stream=True)\n",
    "    total_size = int(r.headers['content-length'])\n",
    "    version = int(r.headers.get('X-Bz-Upload-Timestamp', 0))\n",
    "    os.makedirs(os.path.dirname(filename), exist_ok=True)\n",
    "    with open(filename, 'wb') as f:\n",
    "        for data in r.iter_content(chunk_size=1_048_576):\n",
    "            f.write(data)\n",
    "    return version"
   ]
  },
  {
   "cell_type": "code",
   "execution_count": 57,
   "metadata": {
    "scrolled": false
   },
   "outputs": [
    {
     "data": {
      "text/plain": [
       "[{'id': 62378068,\n",
       "  'asset_id': 42228543,\n",
       "  'asset_type': 'Work',\n",
       "  'always_allow_download': False,\n",
       "  'scribd_thumbnail_url': 'https://imgv2-2-f.scribdassets.com/img/document/451860188/111x142/3d98e50758/1584347747?v=1',\n",
       "  'download_url': 'https://d1wqtxts1xzle7.cloudfront.net/62378068/International_Journal_of_Marketing__Harisai_Doshi20200316-53074-g1kbq2-libre.pdf?1584431320=&response-content-disposition=attachment%3B+filename%3DAn_Application_of_Marketing_Mix_Strategy.pdf&Expires=1682773616&Signature=eYBII62SbL06~SDV~JPEkxXOm7u1dgC15oCiYLXEUMWN~IuvnI0VWbJhOHgVbC~Z3vumDNMyIzQ4mbQHUIvMW6xlTPvFTuQ11IE~~2Tlmz4DGuum3feTkMSsfvY7l4yJ2gO--YyLEOo4bhudBssMlN4GPTAqFFpOXX5KM0o0s066VbJsySn27Moc6X~wZzxFZIPv7iZXa0qjcatgN~zk3E3qyt7fmY9ph5voxix7jlcESZPpsGnOzeF6NbaFrgvtCr9B8v2x7eNpcMeMjBoQgYmpFNcSMepTLMKAyR5wHn2bDzSXFEhpwvZ0BhT7SYKyOVGpjkod3taDIMIZxy~j8g__&Key-Pair-Id=APKAJLOHF5GGSLRBV4ZA',\n",
       "  'download_file_url': 'https://www.academia.edu/attachments/62378068/download_file?st=MTY4MzQ1NDc0Myw0Mi4xOTEuOTcuOTYsMzgwNjgxMjg%3D&',\n",
       "  'full_thumbnail_url': 'https://0.academia-photos.com/attachment_thumbnails/62378068/mini_magick20200317-29517-1ieozm6.png?1584430728'}]"
      ]
     },
     "execution_count": 57,
     "metadata": {},
     "output_type": "execute_result"
    }
   ],
   "source": [
    "data[0]['downloadable_attachments']"
   ]
  },
  {
   "cell_type": "code",
   "execution_count": 88,
   "metadata": {},
   "outputs": [
    {
     "name": "stderr",
     "output_type": "stream",
     "text": [
      " 55%|███████████████████████████████████████████████████████                                             | 11/20 [00:10<00:08,  1.04it/s]"
     ]
    },
    {
     "name": "stdout",
     "output_type": "stream",
     "text": [
      "list index out of range\n"
     ]
    },
    {
     "name": "stderr",
     "output_type": "stream",
     "text": [
      " 85%|█████████████████████████████████████████████████████████████████████████████████████               | 17/20 [00:33<00:09,  3.15s/it]"
     ]
    },
    {
     "name": "stdout",
     "output_type": "stream",
     "text": [
      "list index out of range\n"
     ]
    },
    {
     "name": "stderr",
     "output_type": "stream",
     "text": [
      "100%|████████████████████████████████████████████████████████████████████████████████████████████████████| 20/20 [00:35<00:00,  1.78s/it]\n"
     ]
    }
   ],
   "source": [
    "for i in tqdm(range(len(data))):\n",
    "    try:\n",
    "        url = data[i]['downloadable_attachments'][0]['download_file_url']\n",
    "        h = is_downloadable(url)\n",
    "        filename = h.headers['Content-Disposition'].split('filename=')[1]\n",
    "        filename = os.path.join('pdf', filename)\n",
    "        if not os.path.exists(filename):\n",
    "            download_file_cloud(url, filename)\n",
    "            data[i]['filename'] = filename\n",
    "\n",
    "        time.sleep(random.uniform(1.5, 3.0))\n",
    "    except Exception as e:\n",
    "        print(e)"
   ]
  }
 ],
 "metadata": {
  "kernelspec": {
   "display_name": "Python 3 (ipykernel)",
   "language": "python",
   "name": "python3"
  },
  "language_info": {
   "codemirror_mode": {
    "name": "ipython",
    "version": 3
   },
   "file_extension": ".py",
   "mimetype": "text/x-python",
   "name": "python",
   "nbconvert_exporter": "python",
   "pygments_lexer": "ipython3",
   "version": "3.8.10"
  }
 },
 "nbformat": 4,
 "nbformat_minor": 4
}
