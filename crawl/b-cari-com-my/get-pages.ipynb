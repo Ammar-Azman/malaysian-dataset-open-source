{
 "cells": [
  {
   "cell_type": "code",
   "execution_count": 1,
   "metadata": {},
   "outputs": [],
   "source": [
    "import requests\n",
    "import numpy as np\n",
    "from bs4 import BeautifulSoup\n",
    "from tqdm import tqdm\n",
    "from concurrent.futures import ThreadPoolExecutor, as_completed\n",
    "from glob import glob\n",
    "from tqdm import tqdm\n",
    "import time\n",
    "import json\n",
    "import os\n",
    "import gc"
   ]
  },
  {
   "cell_type": "code",
   "execution_count": 2,
   "metadata": {},
   "outputs": [
    {
     "data": {
      "text/plain": [
       "21583"
      ]
     },
     "execution_count": 2,
     "metadata": {},
     "output_type": "execute_result"
    }
   ],
   "source": [
    "files = glob('threads/*.json')\n",
    "len(files)"
   ]
  },
  {
   "cell_type": "code",
   "execution_count": 3,
   "metadata": {},
   "outputs": [
    {
     "name": "stdout",
     "output_type": "stream",
     "text": [
      "mkdir: cannot create directory ‘pages’: File exists\r\n"
     ]
    }
   ],
   "source": [
    "!mkdir pages"
   ]
  },
  {
   "cell_type": "code",
   "execution_count": 5,
   "metadata": {},
   "outputs": [
    {
     "name": "stderr",
     "output_type": "stream",
     "text": [
      "100%|███████████████████████████████████| 21583/21583 [00:18<00:00, 1156.57it/s]\n"
     ]
    }
   ],
   "source": [
    "urls = []\n",
    "for f in tqdm(files):\n",
    "    with open(f) as fopen:\n",
    "        data = json.load(fopen)\n",
    "\n",
    "    for d in data:\n",
    "        if d[-1] > 1:\n",
    "            url = d[0]\n",
    "            for i in range(2, d[-1] + 1, 1):\n",
    "                urls.append(f'{url}page-{i}')"
   ]
  },
  {
   "cell_type": "code",
   "execution_count": 11,
   "metadata": {},
   "outputs": [],
   "source": [
    "urls = sorted(list(set(urls)))"
   ]
  },
  {
   "cell_type": "code",
   "execution_count": 12,
   "metadata": {
    "scrolled": true
   },
   "outputs": [
    {
     "data": {
      "text/plain": [
       "343"
      ]
     },
     "execution_count": 12,
     "metadata": {},
     "output_type": "execute_result"
    }
   ],
   "source": [
    "len(urls)"
   ]
  },
  {
   "cell_type": "code",
   "execution_count": 13,
   "metadata": {},
   "outputs": [
    {
     "data": {
      "text/plain": [
       "['https://b.cari.com.my/forum.php?mod=viewthread&tid=654327page-10',\n",
       " 'https://b.cari.com.my/forum.php?mod=viewthread&tid=654327page-11',\n",
       " 'https://b.cari.com.my/forum.php?mod=viewthread&tid=654327page-12',\n",
       " 'https://b.cari.com.my/forum.php?mod=viewthread&tid=654327page-13',\n",
       " 'https://b.cari.com.my/forum.php?mod=viewthread&tid=654327page-14',\n",
       " 'https://b.cari.com.my/forum.php?mod=viewthread&tid=654327page-15',\n",
       " 'https://b.cari.com.my/forum.php?mod=viewthread&tid=654327page-16',\n",
       " 'https://b.cari.com.my/forum.php?mod=viewthread&tid=654327page-17',\n",
       " 'https://b.cari.com.my/forum.php?mod=viewthread&tid=654327page-18',\n",
       " 'https://b.cari.com.my/forum.php?mod=viewthread&tid=654327page-19',\n",
       " 'https://b.cari.com.my/forum.php?mod=viewthread&tid=654327page-2',\n",
       " 'https://b.cari.com.my/forum.php?mod=viewthread&tid=654327page-20',\n",
       " 'https://b.cari.com.my/forum.php?mod=viewthread&tid=654327page-21',\n",
       " 'https://b.cari.com.my/forum.php?mod=viewthread&tid=654327page-22',\n",
       " 'https://b.cari.com.my/forum.php?mod=viewthread&tid=654327page-23',\n",
       " 'https://b.cari.com.my/forum.php?mod=viewthread&tid=654327page-24',\n",
       " 'https://b.cari.com.my/forum.php?mod=viewthread&tid=654327page-25',\n",
       " 'https://b.cari.com.my/forum.php?mod=viewthread&tid=654327page-26',\n",
       " 'https://b.cari.com.my/forum.php?mod=viewthread&tid=654327page-27',\n",
       " 'https://b.cari.com.my/forum.php?mod=viewthread&tid=654327page-28',\n",
       " 'https://b.cari.com.my/forum.php?mod=viewthread&tid=654327page-29',\n",
       " 'https://b.cari.com.my/forum.php?mod=viewthread&tid=654327page-3',\n",
       " 'https://b.cari.com.my/forum.php?mod=viewthread&tid=654327page-30',\n",
       " 'https://b.cari.com.my/forum.php?mod=viewthread&tid=654327page-31',\n",
       " 'https://b.cari.com.my/forum.php?mod=viewthread&tid=654327page-32',\n",
       " 'https://b.cari.com.my/forum.php?mod=viewthread&tid=654327page-33',\n",
       " 'https://b.cari.com.my/forum.php?mod=viewthread&tid=654327page-34',\n",
       " 'https://b.cari.com.my/forum.php?mod=viewthread&tid=654327page-35',\n",
       " 'https://b.cari.com.my/forum.php?mod=viewthread&tid=654327page-36',\n",
       " 'https://b.cari.com.my/forum.php?mod=viewthread&tid=654327page-37',\n",
       " 'https://b.cari.com.my/forum.php?mod=viewthread&tid=654327page-38',\n",
       " 'https://b.cari.com.my/forum.php?mod=viewthread&tid=654327page-39',\n",
       " 'https://b.cari.com.my/forum.php?mod=viewthread&tid=654327page-4',\n",
       " 'https://b.cari.com.my/forum.php?mod=viewthread&tid=654327page-40',\n",
       " 'https://b.cari.com.my/forum.php?mod=viewthread&tid=654327page-41',\n",
       " 'https://b.cari.com.my/forum.php?mod=viewthread&tid=654327page-42',\n",
       " 'https://b.cari.com.my/forum.php?mod=viewthread&tid=654327page-43',\n",
       " 'https://b.cari.com.my/forum.php?mod=viewthread&tid=654327page-44',\n",
       " 'https://b.cari.com.my/forum.php?mod=viewthread&tid=654327page-45',\n",
       " 'https://b.cari.com.my/forum.php?mod=viewthread&tid=654327page-46',\n",
       " 'https://b.cari.com.my/forum.php?mod=viewthread&tid=654327page-47',\n",
       " 'https://b.cari.com.my/forum.php?mod=viewthread&tid=654327page-48',\n",
       " 'https://b.cari.com.my/forum.php?mod=viewthread&tid=654327page-49',\n",
       " 'https://b.cari.com.my/forum.php?mod=viewthread&tid=654327page-5',\n",
       " 'https://b.cari.com.my/forum.php?mod=viewthread&tid=654327page-50',\n",
       " 'https://b.cari.com.my/forum.php?mod=viewthread&tid=654327page-51',\n",
       " 'https://b.cari.com.my/forum.php?mod=viewthread&tid=654327page-52',\n",
       " 'https://b.cari.com.my/forum.php?mod=viewthread&tid=654327page-53',\n",
       " 'https://b.cari.com.my/forum.php?mod=viewthread&tid=654327page-54',\n",
       " 'https://b.cari.com.my/forum.php?mod=viewthread&tid=654327page-55',\n",
       " 'https://b.cari.com.my/forum.php?mod=viewthread&tid=654327page-56',\n",
       " 'https://b.cari.com.my/forum.php?mod=viewthread&tid=654327page-57',\n",
       " 'https://b.cari.com.my/forum.php?mod=viewthread&tid=654327page-58',\n",
       " 'https://b.cari.com.my/forum.php?mod=viewthread&tid=654327page-59',\n",
       " 'https://b.cari.com.my/forum.php?mod=viewthread&tid=654327page-6',\n",
       " 'https://b.cari.com.my/forum.php?mod=viewthread&tid=654327page-60',\n",
       " 'https://b.cari.com.my/forum.php?mod=viewthread&tid=654327page-61',\n",
       " 'https://b.cari.com.my/forum.php?mod=viewthread&tid=654327page-62',\n",
       " 'https://b.cari.com.my/forum.php?mod=viewthread&tid=654327page-63',\n",
       " 'https://b.cari.com.my/forum.php?mod=viewthread&tid=654327page-64',\n",
       " 'https://b.cari.com.my/forum.php?mod=viewthread&tid=654327page-65',\n",
       " 'https://b.cari.com.my/forum.php?mod=viewthread&tid=654327page-66',\n",
       " 'https://b.cari.com.my/forum.php?mod=viewthread&tid=654327page-67',\n",
       " 'https://b.cari.com.my/forum.php?mod=viewthread&tid=654327page-68',\n",
       " 'https://b.cari.com.my/forum.php?mod=viewthread&tid=654327page-69',\n",
       " 'https://b.cari.com.my/forum.php?mod=viewthread&tid=654327page-7',\n",
       " 'https://b.cari.com.my/forum.php?mod=viewthread&tid=654327page-70',\n",
       " 'https://b.cari.com.my/forum.php?mod=viewthread&tid=654327page-71',\n",
       " 'https://b.cari.com.my/forum.php?mod=viewthread&tid=654327page-72',\n",
       " 'https://b.cari.com.my/forum.php?mod=viewthread&tid=654327page-73',\n",
       " 'https://b.cari.com.my/forum.php?mod=viewthread&tid=654327page-74',\n",
       " 'https://b.cari.com.my/forum.php?mod=viewthread&tid=654327page-75',\n",
       " 'https://b.cari.com.my/forum.php?mod=viewthread&tid=654327page-76',\n",
       " 'https://b.cari.com.my/forum.php?mod=viewthread&tid=654327page-77',\n",
       " 'https://b.cari.com.my/forum.php?mod=viewthread&tid=654327page-78',\n",
       " 'https://b.cari.com.my/forum.php?mod=viewthread&tid=654327page-79',\n",
       " 'https://b.cari.com.my/forum.php?mod=viewthread&tid=654327page-8',\n",
       " 'https://b.cari.com.my/forum.php?mod=viewthread&tid=654327page-80',\n",
       " 'https://b.cari.com.my/forum.php?mod=viewthread&tid=654327page-81',\n",
       " 'https://b.cari.com.my/forum.php?mod=viewthread&tid=654327page-82',\n",
       " 'https://b.cari.com.my/forum.php?mod=viewthread&tid=654327page-83',\n",
       " 'https://b.cari.com.my/forum.php?mod=viewthread&tid=654327page-84',\n",
       " 'https://b.cari.com.my/forum.php?mod=viewthread&tid=654327page-85',\n",
       " 'https://b.cari.com.my/forum.php?mod=viewthread&tid=654327page-9',\n",
       " 'https://b.cari.com.my/forum.php?mod=viewthread&tid=656023page-10',\n",
       " 'https://b.cari.com.my/forum.php?mod=viewthread&tid=656023page-11',\n",
       " 'https://b.cari.com.my/forum.php?mod=viewthread&tid=656023page-12',\n",
       " 'https://b.cari.com.my/forum.php?mod=viewthread&tid=656023page-13',\n",
       " 'https://b.cari.com.my/forum.php?mod=viewthread&tid=656023page-14',\n",
       " 'https://b.cari.com.my/forum.php?mod=viewthread&tid=656023page-15',\n",
       " 'https://b.cari.com.my/forum.php?mod=viewthread&tid=656023page-16',\n",
       " 'https://b.cari.com.my/forum.php?mod=viewthread&tid=656023page-17',\n",
       " 'https://b.cari.com.my/forum.php?mod=viewthread&tid=656023page-18',\n",
       " 'https://b.cari.com.my/forum.php?mod=viewthread&tid=656023page-19',\n",
       " 'https://b.cari.com.my/forum.php?mod=viewthread&tid=656023page-2',\n",
       " 'https://b.cari.com.my/forum.php?mod=viewthread&tid=656023page-20',\n",
       " 'https://b.cari.com.my/forum.php?mod=viewthread&tid=656023page-21',\n",
       " 'https://b.cari.com.my/forum.php?mod=viewthread&tid=656023page-22',\n",
       " 'https://b.cari.com.my/forum.php?mod=viewthread&tid=656023page-23',\n",
       " 'https://b.cari.com.my/forum.php?mod=viewthread&tid=656023page-24',\n",
       " 'https://b.cari.com.my/forum.php?mod=viewthread&tid=656023page-25',\n",
       " 'https://b.cari.com.my/forum.php?mod=viewthread&tid=656023page-26',\n",
       " 'https://b.cari.com.my/forum.php?mod=viewthread&tid=656023page-27',\n",
       " 'https://b.cari.com.my/forum.php?mod=viewthread&tid=656023page-28',\n",
       " 'https://b.cari.com.my/forum.php?mod=viewthread&tid=656023page-29',\n",
       " 'https://b.cari.com.my/forum.php?mod=viewthread&tid=656023page-3',\n",
       " 'https://b.cari.com.my/forum.php?mod=viewthread&tid=656023page-30',\n",
       " 'https://b.cari.com.my/forum.php?mod=viewthread&tid=656023page-4',\n",
       " 'https://b.cari.com.my/forum.php?mod=viewthread&tid=656023page-5',\n",
       " 'https://b.cari.com.my/forum.php?mod=viewthread&tid=656023page-6',\n",
       " 'https://b.cari.com.my/forum.php?mod=viewthread&tid=656023page-7',\n",
       " 'https://b.cari.com.my/forum.php?mod=viewthread&tid=656023page-8',\n",
       " 'https://b.cari.com.my/forum.php?mod=viewthread&tid=656023page-9',\n",
       " 'https://b.cari.com.my/forum.php?mod=viewthread&tid=679038page-10',\n",
       " 'https://b.cari.com.my/forum.php?mod=viewthread&tid=679038page-11',\n",
       " 'https://b.cari.com.my/forum.php?mod=viewthread&tid=679038page-12',\n",
       " 'https://b.cari.com.my/forum.php?mod=viewthread&tid=679038page-13',\n",
       " 'https://b.cari.com.my/forum.php?mod=viewthread&tid=679038page-14',\n",
       " 'https://b.cari.com.my/forum.php?mod=viewthread&tid=679038page-15',\n",
       " 'https://b.cari.com.my/forum.php?mod=viewthread&tid=679038page-16',\n",
       " 'https://b.cari.com.my/forum.php?mod=viewthread&tid=679038page-17',\n",
       " 'https://b.cari.com.my/forum.php?mod=viewthread&tid=679038page-18',\n",
       " 'https://b.cari.com.my/forum.php?mod=viewthread&tid=679038page-19',\n",
       " 'https://b.cari.com.my/forum.php?mod=viewthread&tid=679038page-2',\n",
       " 'https://b.cari.com.my/forum.php?mod=viewthread&tid=679038page-20',\n",
       " 'https://b.cari.com.my/forum.php?mod=viewthread&tid=679038page-21',\n",
       " 'https://b.cari.com.my/forum.php?mod=viewthread&tid=679038page-22',\n",
       " 'https://b.cari.com.my/forum.php?mod=viewthread&tid=679038page-23',\n",
       " 'https://b.cari.com.my/forum.php?mod=viewthread&tid=679038page-24',\n",
       " 'https://b.cari.com.my/forum.php?mod=viewthread&tid=679038page-25',\n",
       " 'https://b.cari.com.my/forum.php?mod=viewthread&tid=679038page-26',\n",
       " 'https://b.cari.com.my/forum.php?mod=viewthread&tid=679038page-27',\n",
       " 'https://b.cari.com.my/forum.php?mod=viewthread&tid=679038page-28',\n",
       " 'https://b.cari.com.my/forum.php?mod=viewthread&tid=679038page-29',\n",
       " 'https://b.cari.com.my/forum.php?mod=viewthread&tid=679038page-3',\n",
       " 'https://b.cari.com.my/forum.php?mod=viewthread&tid=679038page-30',\n",
       " 'https://b.cari.com.my/forum.php?mod=viewthread&tid=679038page-31',\n",
       " 'https://b.cari.com.my/forum.php?mod=viewthread&tid=679038page-32',\n",
       " 'https://b.cari.com.my/forum.php?mod=viewthread&tid=679038page-33',\n",
       " 'https://b.cari.com.my/forum.php?mod=viewthread&tid=679038page-34',\n",
       " 'https://b.cari.com.my/forum.php?mod=viewthread&tid=679038page-35',\n",
       " 'https://b.cari.com.my/forum.php?mod=viewthread&tid=679038page-36',\n",
       " 'https://b.cari.com.my/forum.php?mod=viewthread&tid=679038page-37',\n",
       " 'https://b.cari.com.my/forum.php?mod=viewthread&tid=679038page-38',\n",
       " 'https://b.cari.com.my/forum.php?mod=viewthread&tid=679038page-39',\n",
       " 'https://b.cari.com.my/forum.php?mod=viewthread&tid=679038page-4',\n",
       " 'https://b.cari.com.my/forum.php?mod=viewthread&tid=679038page-40',\n",
       " 'https://b.cari.com.my/forum.php?mod=viewthread&tid=679038page-41',\n",
       " 'https://b.cari.com.my/forum.php?mod=viewthread&tid=679038page-42',\n",
       " 'https://b.cari.com.my/forum.php?mod=viewthread&tid=679038page-43',\n",
       " 'https://b.cari.com.my/forum.php?mod=viewthread&tid=679038page-44',\n",
       " 'https://b.cari.com.my/forum.php?mod=viewthread&tid=679038page-45',\n",
       " 'https://b.cari.com.my/forum.php?mod=viewthread&tid=679038page-46',\n",
       " 'https://b.cari.com.my/forum.php?mod=viewthread&tid=679038page-47',\n",
       " 'https://b.cari.com.my/forum.php?mod=viewthread&tid=679038page-48',\n",
       " 'https://b.cari.com.my/forum.php?mod=viewthread&tid=679038page-49',\n",
       " 'https://b.cari.com.my/forum.php?mod=viewthread&tid=679038page-5',\n",
       " 'https://b.cari.com.my/forum.php?mod=viewthread&tid=679038page-50',\n",
       " 'https://b.cari.com.my/forum.php?mod=viewthread&tid=679038page-51',\n",
       " 'https://b.cari.com.my/forum.php?mod=viewthread&tid=679038page-52',\n",
       " 'https://b.cari.com.my/forum.php?mod=viewthread&tid=679038page-53',\n",
       " 'https://b.cari.com.my/forum.php?mod=viewthread&tid=679038page-54',\n",
       " 'https://b.cari.com.my/forum.php?mod=viewthread&tid=679038page-55',\n",
       " 'https://b.cari.com.my/forum.php?mod=viewthread&tid=679038page-56',\n",
       " 'https://b.cari.com.my/forum.php?mod=viewthread&tid=679038page-57',\n",
       " 'https://b.cari.com.my/forum.php?mod=viewthread&tid=679038page-58',\n",
       " 'https://b.cari.com.my/forum.php?mod=viewthread&tid=679038page-59',\n",
       " 'https://b.cari.com.my/forum.php?mod=viewthread&tid=679038page-6',\n",
       " 'https://b.cari.com.my/forum.php?mod=viewthread&tid=679038page-60',\n",
       " 'https://b.cari.com.my/forum.php?mod=viewthread&tid=679038page-61',\n",
       " 'https://b.cari.com.my/forum.php?mod=viewthread&tid=679038page-62',\n",
       " 'https://b.cari.com.my/forum.php?mod=viewthread&tid=679038page-63',\n",
       " 'https://b.cari.com.my/forum.php?mod=viewthread&tid=679038page-64',\n",
       " 'https://b.cari.com.my/forum.php?mod=viewthread&tid=679038page-65',\n",
       " 'https://b.cari.com.my/forum.php?mod=viewthread&tid=679038page-66',\n",
       " 'https://b.cari.com.my/forum.php?mod=viewthread&tid=679038page-67',\n",
       " 'https://b.cari.com.my/forum.php?mod=viewthread&tid=679038page-68',\n",
       " 'https://b.cari.com.my/forum.php?mod=viewthread&tid=679038page-69',\n",
       " 'https://b.cari.com.my/forum.php?mod=viewthread&tid=679038page-7',\n",
       " 'https://b.cari.com.my/forum.php?mod=viewthread&tid=679038page-70',\n",
       " 'https://b.cari.com.my/forum.php?mod=viewthread&tid=679038page-71',\n",
       " 'https://b.cari.com.my/forum.php?mod=viewthread&tid=679038page-72',\n",
       " 'https://b.cari.com.my/forum.php?mod=viewthread&tid=679038page-73',\n",
       " 'https://b.cari.com.my/forum.php?mod=viewthread&tid=679038page-74',\n",
       " 'https://b.cari.com.my/forum.php?mod=viewthread&tid=679038page-75',\n",
       " 'https://b.cari.com.my/forum.php?mod=viewthread&tid=679038page-76',\n",
       " 'https://b.cari.com.my/forum.php?mod=viewthread&tid=679038page-77',\n",
       " 'https://b.cari.com.my/forum.php?mod=viewthread&tid=679038page-78',\n",
       " 'https://b.cari.com.my/forum.php?mod=viewthread&tid=679038page-79',\n",
       " 'https://b.cari.com.my/forum.php?mod=viewthread&tid=679038page-8',\n",
       " 'https://b.cari.com.my/forum.php?mod=viewthread&tid=679038page-80',\n",
       " 'https://b.cari.com.my/forum.php?mod=viewthread&tid=679038page-81',\n",
       " 'https://b.cari.com.my/forum.php?mod=viewthread&tid=679038page-82',\n",
       " 'https://b.cari.com.my/forum.php?mod=viewthread&tid=679038page-83',\n",
       " 'https://b.cari.com.my/forum.php?mod=viewthread&tid=679038page-84',\n",
       " 'https://b.cari.com.my/forum.php?mod=viewthread&tid=679038page-85',\n",
       " 'https://b.cari.com.my/forum.php?mod=viewthread&tid=679038page-86',\n",
       " 'https://b.cari.com.my/forum.php?mod=viewthread&tid=679038page-87',\n",
       " 'https://b.cari.com.my/forum.php?mod=viewthread&tid=679038page-88',\n",
       " 'https://b.cari.com.my/forum.php?mod=viewthread&tid=679038page-9',\n",
       " 'https://b.cari.com.my/forum.php?mod=viewthread&tid=694740page-10',\n",
       " 'https://b.cari.com.my/forum.php?mod=viewthread&tid=694740page-11',\n",
       " 'https://b.cari.com.my/forum.php?mod=viewthread&tid=694740page-12',\n",
       " 'https://b.cari.com.my/forum.php?mod=viewthread&tid=694740page-13',\n",
       " 'https://b.cari.com.my/forum.php?mod=viewthread&tid=694740page-14',\n",
       " 'https://b.cari.com.my/forum.php?mod=viewthread&tid=694740page-15',\n",
       " 'https://b.cari.com.my/forum.php?mod=viewthread&tid=694740page-16',\n",
       " 'https://b.cari.com.my/forum.php?mod=viewthread&tid=694740page-17',\n",
       " 'https://b.cari.com.my/forum.php?mod=viewthread&tid=694740page-18',\n",
       " 'https://b.cari.com.my/forum.php?mod=viewthread&tid=694740page-19',\n",
       " 'https://b.cari.com.my/forum.php?mod=viewthread&tid=694740page-2',\n",
       " 'https://b.cari.com.my/forum.php?mod=viewthread&tid=694740page-20',\n",
       " 'https://b.cari.com.my/forum.php?mod=viewthread&tid=694740page-21',\n",
       " 'https://b.cari.com.my/forum.php?mod=viewthread&tid=694740page-22',\n",
       " 'https://b.cari.com.my/forum.php?mod=viewthread&tid=694740page-23',\n",
       " 'https://b.cari.com.my/forum.php?mod=viewthread&tid=694740page-24',\n",
       " 'https://b.cari.com.my/forum.php?mod=viewthread&tid=694740page-25',\n",
       " 'https://b.cari.com.my/forum.php?mod=viewthread&tid=694740page-26',\n",
       " 'https://b.cari.com.my/forum.php?mod=viewthread&tid=694740page-27',\n",
       " 'https://b.cari.com.my/forum.php?mod=viewthread&tid=694740page-28',\n",
       " 'https://b.cari.com.my/forum.php?mod=viewthread&tid=694740page-29',\n",
       " 'https://b.cari.com.my/forum.php?mod=viewthread&tid=694740page-3',\n",
       " 'https://b.cari.com.my/forum.php?mod=viewthread&tid=694740page-30',\n",
       " 'https://b.cari.com.my/forum.php?mod=viewthread&tid=694740page-31',\n",
       " 'https://b.cari.com.my/forum.php?mod=viewthread&tid=694740page-32',\n",
       " 'https://b.cari.com.my/forum.php?mod=viewthread&tid=694740page-33',\n",
       " 'https://b.cari.com.my/forum.php?mod=viewthread&tid=694740page-34',\n",
       " 'https://b.cari.com.my/forum.php?mod=viewthread&tid=694740page-35',\n",
       " 'https://b.cari.com.my/forum.php?mod=viewthread&tid=694740page-36',\n",
       " 'https://b.cari.com.my/forum.php?mod=viewthread&tid=694740page-37',\n",
       " 'https://b.cari.com.my/forum.php?mod=viewthread&tid=694740page-38',\n",
       " 'https://b.cari.com.my/forum.php?mod=viewthread&tid=694740page-39',\n",
       " 'https://b.cari.com.my/forum.php?mod=viewthread&tid=694740page-4',\n",
       " 'https://b.cari.com.my/forum.php?mod=viewthread&tid=694740page-40',\n",
       " 'https://b.cari.com.my/forum.php?mod=viewthread&tid=694740page-41',\n",
       " 'https://b.cari.com.my/forum.php?mod=viewthread&tid=694740page-5',\n",
       " 'https://b.cari.com.my/forum.php?mod=viewthread&tid=694740page-6',\n",
       " 'https://b.cari.com.my/forum.php?mod=viewthread&tid=694740page-7',\n",
       " 'https://b.cari.com.my/forum.php?mod=viewthread&tid=694740page-8',\n",
       " 'https://b.cari.com.my/forum.php?mod=viewthread&tid=694740page-9',\n",
       " 'https://b.cari.com.my/forum.php?mod=viewthread&tid=701853page-10',\n",
       " 'https://b.cari.com.my/forum.php?mod=viewthread&tid=701853page-11',\n",
       " 'https://b.cari.com.my/forum.php?mod=viewthread&tid=701853page-12',\n",
       " 'https://b.cari.com.my/forum.php?mod=viewthread&tid=701853page-13',\n",
       " 'https://b.cari.com.my/forum.php?mod=viewthread&tid=701853page-14',\n",
       " 'https://b.cari.com.my/forum.php?mod=viewthread&tid=701853page-15',\n",
       " 'https://b.cari.com.my/forum.php?mod=viewthread&tid=701853page-16',\n",
       " 'https://b.cari.com.my/forum.php?mod=viewthread&tid=701853page-17',\n",
       " 'https://b.cari.com.my/forum.php?mod=viewthread&tid=701853page-2',\n",
       " 'https://b.cari.com.my/forum.php?mod=viewthread&tid=701853page-3',\n",
       " 'https://b.cari.com.my/forum.php?mod=viewthread&tid=701853page-4',\n",
       " 'https://b.cari.com.my/forum.php?mod=viewthread&tid=701853page-5',\n",
       " 'https://b.cari.com.my/forum.php?mod=viewthread&tid=701853page-6',\n",
       " 'https://b.cari.com.my/forum.php?mod=viewthread&tid=701853page-7',\n",
       " 'https://b.cari.com.my/forum.php?mod=viewthread&tid=701853page-8',\n",
       " 'https://b.cari.com.my/forum.php?mod=viewthread&tid=701853page-9',\n",
       " 'https://b.cari.com.my/forum.php?mod=viewthread&tid=725215page-10',\n",
       " 'https://b.cari.com.my/forum.php?mod=viewthread&tid=725215page-11',\n",
       " 'https://b.cari.com.my/forum.php?mod=viewthread&tid=725215page-12',\n",
       " 'https://b.cari.com.my/forum.php?mod=viewthread&tid=725215page-13',\n",
       " 'https://b.cari.com.my/forum.php?mod=viewthread&tid=725215page-14',\n",
       " 'https://b.cari.com.my/forum.php?mod=viewthread&tid=725215page-15',\n",
       " 'https://b.cari.com.my/forum.php?mod=viewthread&tid=725215page-16',\n",
       " 'https://b.cari.com.my/forum.php?mod=viewthread&tid=725215page-17',\n",
       " 'https://b.cari.com.my/forum.php?mod=viewthread&tid=725215page-18',\n",
       " 'https://b.cari.com.my/forum.php?mod=viewthread&tid=725215page-19',\n",
       " 'https://b.cari.com.my/forum.php?mod=viewthread&tid=725215page-2',\n",
       " 'https://b.cari.com.my/forum.php?mod=viewthread&tid=725215page-20',\n",
       " 'https://b.cari.com.my/forum.php?mod=viewthread&tid=725215page-21',\n",
       " 'https://b.cari.com.my/forum.php?mod=viewthread&tid=725215page-22',\n",
       " 'https://b.cari.com.my/forum.php?mod=viewthread&tid=725215page-23',\n",
       " 'https://b.cari.com.my/forum.php?mod=viewthread&tid=725215page-24',\n",
       " 'https://b.cari.com.my/forum.php?mod=viewthread&tid=725215page-25',\n",
       " 'https://b.cari.com.my/forum.php?mod=viewthread&tid=725215page-26',\n",
       " 'https://b.cari.com.my/forum.php?mod=viewthread&tid=725215page-27',\n",
       " 'https://b.cari.com.my/forum.php?mod=viewthread&tid=725215page-28',\n",
       " 'https://b.cari.com.my/forum.php?mod=viewthread&tid=725215page-29',\n",
       " 'https://b.cari.com.my/forum.php?mod=viewthread&tid=725215page-3',\n",
       " 'https://b.cari.com.my/forum.php?mod=viewthread&tid=725215page-30',\n",
       " 'https://b.cari.com.my/forum.php?mod=viewthread&tid=725215page-31',\n",
       " 'https://b.cari.com.my/forum.php?mod=viewthread&tid=725215page-32',\n",
       " 'https://b.cari.com.my/forum.php?mod=viewthread&tid=725215page-33',\n",
       " 'https://b.cari.com.my/forum.php?mod=viewthread&tid=725215page-34',\n",
       " 'https://b.cari.com.my/forum.php?mod=viewthread&tid=725215page-35',\n",
       " 'https://b.cari.com.my/forum.php?mod=viewthread&tid=725215page-36',\n",
       " 'https://b.cari.com.my/forum.php?mod=viewthread&tid=725215page-37',\n",
       " 'https://b.cari.com.my/forum.php?mod=viewthread&tid=725215page-38',\n",
       " 'https://b.cari.com.my/forum.php?mod=viewthread&tid=725215page-39',\n",
       " 'https://b.cari.com.my/forum.php?mod=viewthread&tid=725215page-4',\n",
       " 'https://b.cari.com.my/forum.php?mod=viewthread&tid=725215page-40',\n",
       " 'https://b.cari.com.my/forum.php?mod=viewthread&tid=725215page-41',\n",
       " 'https://b.cari.com.my/forum.php?mod=viewthread&tid=725215page-42',\n",
       " 'https://b.cari.com.my/forum.php?mod=viewthread&tid=725215page-43',\n",
       " 'https://b.cari.com.my/forum.php?mod=viewthread&tid=725215page-44',\n",
       " 'https://b.cari.com.my/forum.php?mod=viewthread&tid=725215page-45',\n",
       " 'https://b.cari.com.my/forum.php?mod=viewthread&tid=725215page-46',\n",
       " 'https://b.cari.com.my/forum.php?mod=viewthread&tid=725215page-47',\n",
       " 'https://b.cari.com.my/forum.php?mod=viewthread&tid=725215page-48',\n",
       " 'https://b.cari.com.my/forum.php?mod=viewthread&tid=725215page-49',\n",
       " 'https://b.cari.com.my/forum.php?mod=viewthread&tid=725215page-5',\n",
       " 'https://b.cari.com.my/forum.php?mod=viewthread&tid=725215page-50',\n",
       " 'https://b.cari.com.my/forum.php?mod=viewthread&tid=725215page-51',\n",
       " 'https://b.cari.com.my/forum.php?mod=viewthread&tid=725215page-52',\n",
       " 'https://b.cari.com.my/forum.php?mod=viewthread&tid=725215page-53',\n",
       " 'https://b.cari.com.my/forum.php?mod=viewthread&tid=725215page-54',\n",
       " 'https://b.cari.com.my/forum.php?mod=viewthread&tid=725215page-55',\n",
       " 'https://b.cari.com.my/forum.php?mod=viewthread&tid=725215page-56',\n",
       " 'https://b.cari.com.my/forum.php?mod=viewthread&tid=725215page-57',\n",
       " 'https://b.cari.com.my/forum.php?mod=viewthread&tid=725215page-58',\n",
       " 'https://b.cari.com.my/forum.php?mod=viewthread&tid=725215page-59',\n",
       " 'https://b.cari.com.my/forum.php?mod=viewthread&tid=725215page-6',\n",
       " 'https://b.cari.com.my/forum.php?mod=viewthread&tid=725215page-60',\n",
       " 'https://b.cari.com.my/forum.php?mod=viewthread&tid=725215page-61',\n",
       " 'https://b.cari.com.my/forum.php?mod=viewthread&tid=725215page-62',\n",
       " 'https://b.cari.com.my/forum.php?mod=viewthread&tid=725215page-63',\n",
       " 'https://b.cari.com.my/forum.php?mod=viewthread&tid=725215page-64',\n",
       " 'https://b.cari.com.my/forum.php?mod=viewthread&tid=725215page-65',\n",
       " 'https://b.cari.com.my/forum.php?mod=viewthread&tid=725215page-66',\n",
       " 'https://b.cari.com.my/forum.php?mod=viewthread&tid=725215page-67',\n",
       " 'https://b.cari.com.my/forum.php?mod=viewthread&tid=725215page-68',\n",
       " 'https://b.cari.com.my/forum.php?mod=viewthread&tid=725215page-69',\n",
       " 'https://b.cari.com.my/forum.php?mod=viewthread&tid=725215page-7',\n",
       " 'https://b.cari.com.my/forum.php?mod=viewthread&tid=725215page-8',\n",
       " 'https://b.cari.com.my/forum.php?mod=viewthread&tid=725215page-9',\n",
       " 'https://b.cari.com.my/forum.php?mod=viewthread&tid=728809page-2',\n",
       " 'https://b.cari.com.my/forum.php?mod=viewthread&tid=728809page-3',\n",
       " 'https://b.cari.com.my/forum.php?mod=viewthread&tid=728809page-4',\n",
       " 'https://b.cari.com.my/forum.php?mod=viewthread&tid=755894page-10',\n",
       " 'https://b.cari.com.my/forum.php?mod=viewthread&tid=755894page-11',\n",
       " 'https://b.cari.com.my/forum.php?mod=viewthread&tid=755894page-12',\n",
       " 'https://b.cari.com.my/forum.php?mod=viewthread&tid=755894page-13',\n",
       " 'https://b.cari.com.my/forum.php?mod=viewthread&tid=755894page-14',\n",
       " 'https://b.cari.com.my/forum.php?mod=viewthread&tid=755894page-15',\n",
       " 'https://b.cari.com.my/forum.php?mod=viewthread&tid=755894page-16',\n",
       " 'https://b.cari.com.my/forum.php?mod=viewthread&tid=755894page-2',\n",
       " 'https://b.cari.com.my/forum.php?mod=viewthread&tid=755894page-3',\n",
       " 'https://b.cari.com.my/forum.php?mod=viewthread&tid=755894page-4',\n",
       " 'https://b.cari.com.my/forum.php?mod=viewthread&tid=755894page-5',\n",
       " 'https://b.cari.com.my/forum.php?mod=viewthread&tid=755894page-6',\n",
       " 'https://b.cari.com.my/forum.php?mod=viewthread&tid=755894page-7',\n",
       " 'https://b.cari.com.my/forum.php?mod=viewthread&tid=755894page-8',\n",
       " 'https://b.cari.com.my/forum.php?mod=viewthread&tid=755894page-9',\n",
       " 'https://b.cari.com.my/forum.php?mod=viewthread&tid=943164page-2']"
      ]
     },
     "execution_count": 13,
     "metadata": {},
     "output_type": "execute_result"
    }
   ],
   "source": [
    "urls"
   ]
  },
  {
   "cell_type": "code",
   "execution_count": 14,
   "metadata": {},
   "outputs": [],
   "source": [
    "def get_url(url):\n",
    "    while True:\n",
    "        try:\n",
    "            r = requests.get(url, timeout = 5.0)\n",
    "            break\n",
    "        except:\n",
    "            time.sleep(1.0)\n",
    "    soup = BeautifulSoup(r.content, \"lxml\")\n",
    "    td = soup.find_all('td', {'class': 't_f'})\n",
    "    td = [str(t) for t in td]\n",
    "    return td"
   ]
  },
  {
   "cell_type": "code",
   "execution_count": 10,
   "metadata": {
    "scrolled": true
   },
   "outputs": [
    {
     "name": "stderr",
     "output_type": "stream",
     "text": [
      "100%|█████████████████████████████████████████████| 7/7 [01:11<00:00, 10.27s/it]\n"
     ]
    }
   ],
   "source": [
    "max_worker = 50\n",
    "for i in tqdm(range(0, len(urls), max_worker)):\n",
    "    \n",
    "    filename = os.path.join('pages', f'{i}.json')\n",
    "    if os.path.exists(filename):\n",
    "        continue\n",
    "        \n",
    "    gc.collect()\n",
    "    \n",
    "    results = []\n",
    "    with ThreadPoolExecutor(max_workers=max_worker) as executor:\n",
    "        futures = {executor.submit(get_url, url): url for url in urls[i: i + max_worker]}\n",
    "\n",
    "        for future in as_completed(futures):\n",
    "            results.append(future.result())\n",
    "    \n",
    "    with open(filename, 'w') as fopen:\n",
    "        json.dump(results, fopen)\n",
    "        \n",
    "    try:\n",
    "        del results\n",
    "        del futures\n",
    "    except:\n",
    "        pass"
   ]
  },
  {
   "cell_type": "code",
   "execution_count": 17,
   "metadata": {},
   "outputs": [
    {
     "data": {
      "text/plain": [
       "21583"
      ]
     },
     "execution_count": 17,
     "metadata": {},
     "output_type": "execute_result"
    }
   ],
   "source": [
    "files = glob('threads/*.json')\n",
    "len(files)"
   ]
  },
  {
   "cell_type": "code",
   "execution_count": 18,
   "metadata": {},
   "outputs": [
    {
     "name": "stderr",
     "output_type": "stream",
     "text": [
      "100%|█████████████████████████████████████| 21583/21583 [12:46<00:00, 28.14it/s]\n"
     ]
    }
   ],
   "source": [
    "texts = []\n",
    "for f in tqdm(files):\n",
    "    with open(f) as fopen:\n",
    "        data = json.load(fopen)\n",
    "    \n",
    "    for d in data:\n",
    "        for d_ in d[1]:\n",
    "            texts.append(BeautifulSoup(d_, \"lxml\").text)"
   ]
  },
  {
   "cell_type": "code",
   "execution_count": 19,
   "metadata": {},
   "outputs": [
    {
     "data": {
      "text/plain": [
       "7"
      ]
     },
     "execution_count": 19,
     "metadata": {},
     "output_type": "execute_result"
    }
   ],
   "source": [
    "files = glob('pages/*.json')\n",
    "len(files)"
   ]
  },
  {
   "cell_type": "code",
   "execution_count": 20,
   "metadata": {},
   "outputs": [
    {
     "name": "stderr",
     "output_type": "stream",
     "text": [
      "100%|█████████████████████████████████████████████| 7/7 [00:18<00:00,  2.61s/it]\n"
     ]
    }
   ],
   "source": [
    "for f in tqdm(files):\n",
    "    with open(f) as fopen:\n",
    "        data = json.load(fopen)\n",
    "    \n",
    "    for d in data:\n",
    "        for d_ in d:\n",
    "            texts.append(BeautifulSoup(d_, \"lxml\").text)"
   ]
  },
  {
   "cell_type": "code",
   "execution_count": 21,
   "metadata": {},
   "outputs": [
    {
     "data": {
      "text/plain": [
       "4444727"
      ]
     },
     "execution_count": 21,
     "metadata": {},
     "output_type": "execute_result"
    }
   ],
   "source": [
    "texts = list(set(texts))\n",
    "len(texts)"
   ]
  },
  {
   "cell_type": "code",
   "execution_count": 22,
   "metadata": {},
   "outputs": [
    {
     "name": "stderr",
     "output_type": "stream",
     "text": [
      "100%|█████████████████████████████| 4444727/4444727 [00:06<00:00, 660471.89it/s]\n"
     ]
    }
   ],
   "source": [
    "with open('everything.jsonl', 'w') as fopen:\n",
    "    for t in tqdm(texts):\n",
    "        if len(t):\n",
    "            fopen.write(f'{json.dumps(t)}\\n')"
   ]
  },
  {
   "cell_type": "code",
   "execution_count": 24,
   "metadata": {},
   "outputs": [],
   "source": [
    "# !zip -r threads.zip threads\n",
    "# !zip -r pages.zip pages\n",
    "# !zip -r forums.zip forums"
   ]
  },
  {
   "cell_type": "code",
   "execution_count": null,
   "metadata": {},
   "outputs": [],
   "source": []
  }
 ],
 "metadata": {
  "kernelspec": {
   "display_name": "Python 3 (ipykernel)",
   "language": "python",
   "name": "python3"
  },
  "language_info": {
   "codemirror_mode": {
    "name": "ipython",
    "version": 3
   },
   "file_extension": ".py",
   "mimetype": "text/x-python",
   "name": "python",
   "nbconvert_exporter": "python",
   "pygments_lexer": "ipython3",
   "version": "3.8.10"
  }
 },
 "nbformat": 4,
 "nbformat_minor": 4
}
