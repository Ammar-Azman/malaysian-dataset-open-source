{
 "cells": [
  {
   "cell_type": "code",
   "execution_count": 1,
   "metadata": {},
   "outputs": [],
   "source": [
    "import requests\n",
    "import numpy as np\n",
    "from bs4 import BeautifulSoup\n",
    "from tqdm import tqdm\n",
    "from concurrent.futures import ThreadPoolExecutor, as_completed\n",
    "from glob import glob\n",
    "from tqdm import tqdm\n",
    "import time\n",
    "import json\n",
    "import os\n",
    "import gc"
   ]
  },
  {
   "cell_type": "code",
   "execution_count": 2,
   "metadata": {},
   "outputs": [
    {
     "data": {
      "text/plain": [
       "21583"
      ]
     },
     "execution_count": 2,
     "metadata": {},
     "output_type": "execute_result"
    }
   ],
   "source": [
    "files = glob('threads/*.json')\n",
    "len(files)"
   ]
  },
  {
   "cell_type": "code",
   "execution_count": 3,
   "metadata": {},
   "outputs": [
    {
     "name": "stdout",
     "output_type": "stream",
     "text": [
      "mkdir: cannot create directory ‘pages’: File exists\r\n"
     ]
    }
   ],
   "source": [
    "!mkdir pages"
   ]
  },
  {
   "cell_type": "code",
   "execution_count": 4,
   "metadata": {},
   "outputs": [
    {
     "name": "stderr",
     "output_type": "stream",
     "text": [
      "100%|███████████████████████████████████| 21583/21583 [00:18<00:00, 1151.01it/s]\n"
     ]
    }
   ],
   "source": [
    "urls = []\n",
    "for f in tqdm(files):\n",
    "    with open(f) as fopen:\n",
    "        data = json.load(fopen)\n",
    "\n",
    "    for d in data:\n",
    "        if d[-1] > 1:\n",
    "            url = d[0]\n",
    "            for i in range(2, d[-1] + 1, 1):\n",
    "                urls.append(f'{url}&page={i}')"
   ]
  },
  {
   "cell_type": "code",
   "execution_count": 5,
   "metadata": {},
   "outputs": [
    {
     "data": {
      "text/plain": [
       "343"
      ]
     },
     "execution_count": 5,
     "metadata": {},
     "output_type": "execute_result"
    }
   ],
   "source": [
    "urls = sorted(list(set(urls)))\n",
    "len(urls)"
   ]
  },
  {
   "cell_type": "code",
   "execution_count": 6,
   "metadata": {},
   "outputs": [],
   "source": [
    "def get_url(url):\n",
    "    while True:\n",
    "        try:\n",
    "            r = requests.get(url, timeout = 5.0)\n",
    "            break\n",
    "        except:\n",
    "            time.sleep(1.0)\n",
    "    soup = BeautifulSoup(r.content, \"lxml\")\n",
    "    td = soup.find_all('td', {'class': 't_f'})\n",
    "    td = [str(t) for t in td]\n",
    "    return {'td': td, 'url': url}"
   ]
  },
  {
   "cell_type": "code",
   "execution_count": 7,
   "metadata": {},
   "outputs": [
    {
     "name": "stdout",
     "output_type": "stream",
     "text": [
      "mkdir: cannot create directory ‘pages’: File exists\r\n"
     ]
    }
   ],
   "source": [
    "# !rm -rf pages\n",
    "!mkdir pages"
   ]
  },
  {
   "cell_type": "code",
   "execution_count": 8,
   "metadata": {
    "scrolled": true
   },
   "outputs": [
    {
     "name": "stderr",
     "output_type": "stream",
     "text": [
      "100%|██████████████████████████████████████████| 7/7 [00:00<00:00, 43050.04it/s]\n"
     ]
    }
   ],
   "source": [
    "max_worker = 50\n",
    "for i in tqdm(range(0, len(urls), max_worker)):\n",
    "    \n",
    "    filename = os.path.join('pages', f'{i}.json')\n",
    "    if os.path.exists(filename):\n",
    "        continue\n",
    "        \n",
    "    gc.collect()\n",
    "    \n",
    "    results = []\n",
    "    with ThreadPoolExecutor(max_workers=max_worker) as executor:\n",
    "        futures = {executor.submit(get_url, url): url for url in urls[i: i + max_worker]}\n",
    "\n",
    "        for future in as_completed(futures):\n",
    "            results.append(future.result())\n",
    "    \n",
    "    with open(filename, 'w') as fopen:\n",
    "        json.dump(results, fopen)\n",
    "        \n",
    "    try:\n",
    "        del results\n",
    "        del futures\n",
    "    except:\n",
    "        pass"
   ]
  },
  {
   "cell_type": "code",
   "execution_count": 9,
   "metadata": {},
   "outputs": [],
   "source": [
    "import pandas as pd"
   ]
  },
  {
   "cell_type": "code",
   "execution_count": 29,
   "metadata": {},
   "outputs": [
    {
     "name": "stderr",
     "output_type": "stream",
     "text": [
      "100%|█████████████████████████████████████| 21583/21583 [19:09<00:00, 18.77it/s]\n"
     ]
    }
   ],
   "source": [
    "files = glob('threads/*.json')\n",
    "\n",
    "df = []\n",
    "for f in tqdm(files):\n",
    "    with open(f) as fopen:\n",
    "        data = json.load(fopen)\n",
    "    \n",
    "    for d in data:\n",
    "        forum_id = d[0].split('tid=')[1]\n",
    "        for d_ in d[1]:\n",
    "            soup = BeautifulSoup(d_, \"lxml\")\n",
    "            id = soup.find('td', {'class': 't_f'}).get('id').split('_')[1]\n",
    "            quote = soup.find('div', {'class':\"quote\"})\n",
    "            if quote is not None:\n",
    "                quote_text = str(quote.find('blockquote')).split('<br/>')[0].replace('<blockquote>', '').replace('...', '').strip()\n",
    "                soup.find('div', {'class':\"quote\"}).decompose()\n",
    "            else:\n",
    "                quote_text = None\n",
    "            \n",
    "            text = soup.get_text(separator=\"\\n\")\n",
    "            df.append({\n",
    "                'forum_id': forum_id,\n",
    "                'id': id,\n",
    "                'text': text,\n",
    "                'quote': quote_text,\n",
    "                'quote_id': None,\n",
    "            })"
   ]
  },
  {
   "cell_type": "code",
   "execution_count": 30,
   "metadata": {},
   "outputs": [
    {
     "name": "stderr",
     "output_type": "stream",
     "text": [
      "100%|█████████████████████████████████████████████| 7/7 [00:02<00:00,  2.95it/s]\n"
     ]
    }
   ],
   "source": [
    "files = glob('pages/*.json')\n",
    "\n",
    "for f in tqdm(files):\n",
    "    with open(f) as fopen:\n",
    "        data = json.load(fopen)\n",
    "    \n",
    "    for d in data:\n",
    "        forum_id = d['url'].split('tid=')[1].split('&')[0]\n",
    "        for d_ in d['td']:\n",
    "            soup = BeautifulSoup(d_, \"lxml\")\n",
    "            id = soup.find('td', {'class': 't_f'}).get('id').split('_')[1]\n",
    "            quote = soup.find('div', {'class':\"quote\"})\n",
    "            if quote is not None:\n",
    "                quote_text = str(quote.find('blockquote')).split('<br/>')[0].replace('<blockquote>', '').replace('...', '').strip()\n",
    "                soup.find('div', {'class':\"quote\"}).decompose()\n",
    "            else:\n",
    "                quote_text = None\n",
    "            \n",
    "            text = soup.get_text(separator=\"\\n\")\n",
    "            df.append({\n",
    "                'forum_id': forum_id,\n",
    "                'id': id,\n",
    "                'text': text,\n",
    "                'quote': quote_text,\n",
    "                'quote_id': None,\n",
    "            })"
   ]
  },
  {
   "cell_type": "code",
   "execution_count": 31,
   "metadata": {},
   "outputs": [],
   "source": [
    "df_pd = pd.DataFrame(df)"
   ]
  },
  {
   "cell_type": "code",
   "execution_count": 32,
   "metadata": {},
   "outputs": [],
   "source": [
    "df_pd.to_parquet('posts.parquet', index = False)"
   ]
  },
  {
   "cell_type": "code",
   "execution_count": 14,
   "metadata": {},
   "outputs": [
    {
     "name": "stderr",
     "output_type": "stream",
     "text": [
      "  0%|                                                  | 0/1506 [00:00<?, ?it/s]/home/husein/.local/lib/python3.8/site-packages/pandas/core/indexing.py:1732: SettingWithCopyWarning: \n",
      "A value is trying to be set on a copy of a slice from a DataFrame\n",
      "\n",
      "See the caveats in the documentation: https://pandas.pydata.org/pandas-docs/stable/user_guide/indexing.html#returning-a-view-versus-a-copy\n",
      "  self._setitem_single_block(indexer, value, name)\n",
      "100%|███████████████████████████████████████| 1506/1506 [01:09<00:00, 21.79it/s]\n"
     ]
    }
   ],
   "source": [
    "# dfs = []\n",
    "# for forum_id in tqdm(df_pd['forum_id'].unique().tolist()):\n",
    "#     df_pd_ = df_pd[df_pd['forum_id'] == forum_id]\n",
    "#     for i in range(len(df_pd_)):\n",
    "#         for k in range(len(df_pd_)):\n",
    "#             if df_pd_['quote'].iloc[i] is not None and df_pd_['quote'].iloc[i] in df_pd_['text'].iloc[k].replace('\\n', ''):\n",
    "#                 df_pd_['quote_id'].iloc[i] = df_pd_['id'].iloc[k]\n",
    "#                 break\n",
    "#     dfs.append(df_pd_)"
   ]
  },
  {
   "cell_type": "code",
   "execution_count": 15,
   "metadata": {},
   "outputs": [],
   "source": [
    "# texts = list(set(texts))\n",
    "# len(texts)"
   ]
  },
  {
   "cell_type": "code",
   "execution_count": null,
   "metadata": {},
   "outputs": [],
   "source": [
    "# with open('everything.jsonl', 'w') as fopen:\n",
    "#     for t in tqdm(texts):\n",
    "#         if len(t):\n",
    "#             fopen.write(f'{json.dumps(t)}\\n')"
   ]
  },
  {
   "cell_type": "code",
   "execution_count": null,
   "metadata": {},
   "outputs": [],
   "source": [
    "# !zip -r threads.zip threads\n",
    "# !zip -r pages.zip pages\n",
    "# !zip -r forums.zip forums"
   ]
  },
  {
   "cell_type": "code",
   "execution_count": null,
   "metadata": {},
   "outputs": [],
   "source": []
  }
 ],
 "metadata": {
  "kernelspec": {
   "display_name": "Python 3 (ipykernel)",
   "language": "python",
   "name": "python3"
  },
  "language_info": {
   "codemirror_mode": {
    "name": "ipython",
    "version": 3
   },
   "file_extension": ".py",
   "mimetype": "text/x-python",
   "name": "python",
   "nbconvert_exporter": "python",
   "pygments_lexer": "ipython3",
   "version": "3.8.10"
  }
 },
 "nbformat": 4,
 "nbformat_minor": 4
}
