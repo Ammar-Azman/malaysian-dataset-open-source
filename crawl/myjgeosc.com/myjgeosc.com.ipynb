{
 "cells": [
  {
   "cell_type": "code",
   "execution_count": 2,
   "id": "1717f967",
   "metadata": {},
   "outputs": [
    {
     "name": "stderr",
     "output_type": "stream",
     "text": [
      "/home/husein/.local/lib/python3.8/site-packages/requests/__init__.py:102: RequestsDependencyWarning: urllib3 (1.26.15) or chardet (5.2.0)/charset_normalizer (2.0.7) doesn't match a supported version!\n",
      "  warnings.warn(\"urllib3 ({}) or chardet ({})/charset_normalizer ({}) doesn't match a supported \"\n"
     ]
    }
   ],
   "source": [
    "import requests\n",
    "from bs4 import BeautifulSoup"
   ]
  },
  {
   "cell_type": "code",
   "execution_count": 3,
   "id": "d86b91f2",
   "metadata": {},
   "outputs": [],
   "source": [
    "r = requests.get('https://myjgeosc.com/archive/')"
   ]
  },
  {
   "cell_type": "code",
   "execution_count": 6,
   "id": "c2c24597",
   "metadata": {},
   "outputs": [
    {
     "data": {
      "text/plain": [
       "101"
      ]
     },
     "execution_count": 6,
     "metadata": {},
     "output_type": "execute_result"
    }
   ],
   "source": [
    "soup = BeautifulSoup(r.content)\n",
    "a = soup.find_all('a')\n",
    "pages = [a_.get('href') for a_ in a if '/mjg-' in a_.get('href') or '/mjg.' in a_.get('href')]\n",
    "pages = [a_ for a_ in pages if '/wp-content/uploads/' not in a_ and 'doi.org/' not in a_]\n",
    "pages = sorted(list(set(pages)))\n",
    "len(pages)"
   ]
  },
  {
   "cell_type": "code",
   "execution_count": 7,
   "id": "bf44b528",
   "metadata": {},
   "outputs": [
    {
     "data": {
      "text/plain": [
       "['https://myjgeosc.com/mjg-01-2020-38-42/',\n",
       " 'https://myjgeosc.com/mjg-01-2021-01-05/',\n",
       " 'https://myjgeosc.com/mjg-01-2021-06-11/',\n",
       " 'https://myjgeosc.com/mjg-01-2021-12-21/',\n",
       " 'https://myjgeosc.com/mjg-01-2021-22-30/',\n",
       " 'https://myjgeosc.com/mjg-01-2021-31-34/',\n",
       " 'https://myjgeosc.com/mjg-01-2021-35-40/',\n",
       " 'https://myjgeosc.com/mjg-01-2022-01-07/',\n",
       " 'https://myjgeosc.com/mjg-01-2022-08-11/',\n",
       " 'https://myjgeosc.com/mjg-01-2022-12-18/',\n",
       " 'https://myjgeosc.com/mjg-01-2022-19-28/',\n",
       " 'https://myjgeosc.com/mjg-01-2022-29-35/',\n",
       " 'https://myjgeosc.com/mjg-01-2022-36-44/',\n",
       " 'https://myjgeosc.com/mjg-01-2022-45-52/',\n",
       " 'https://myjgeosc.com/mjg-01-2023-01-07/',\n",
       " 'https://myjgeosc.com/mjg-01-2023-08-17/',\n",
       " 'https://myjgeosc.com/mjg-01-2023-18-21/',\n",
       " 'https://myjgeosc.com/mjg-01-2023-22-30/',\n",
       " 'https://myjgeosc.com/mjg-01-2023-31-38/',\n",
       " 'https://myjgeosc.com/mjg-01-2023-39-43/',\n",
       " 'https://myjgeosc.com/mjg-02-2020-54-58/',\n",
       " 'https://myjgeosc.com/mjg-02-2020-59-64/',\n",
       " 'https://myjgeosc.com/mjg-02-2020-65-69/',\n",
       " 'https://myjgeosc.com/mjg-02-2020-70-78/',\n",
       " 'https://myjgeosc.com/mjg-02-2020-79-85/',\n",
       " 'https://myjgeosc.com/mjg-02-2020-86-89/',\n",
       " 'https://myjgeosc.com/mjg-02-2020-90-95/',\n",
       " 'https://myjgeosc.com/mjg-02-2020-96-102/',\n",
       " 'https://myjgeosc.com/mjg-02-2021-41-50/',\n",
       " 'https://myjgeosc.com/mjg-02-2021-51-55/',\n",
       " 'https://myjgeosc.com/mjg-02-2021-56-63/',\n",
       " 'https://myjgeosc.com/mjg-02-2021-64-68/',\n",
       " 'https://myjgeosc.com/mjg-02-2021-69-75/',\n",
       " 'https://myjgeosc.com/mjg-02-2021-76-84/',\n",
       " 'https://myjgeosc.com/mjg-02-2021-85-92/',\n",
       " 'https://myjgeosc.com/mjg-02-2022-45-53/',\n",
       " 'https://myjgeosc.com/mjg-02-2022-54-60/',\n",
       " 'https://myjgeosc.com/mjg-02-2022-61-68/',\n",
       " 'https://myjgeosc.com/mjg-02-2022-69-72/',\n",
       " 'https://myjgeosc.com/mjg-02-2022-73-83/',\n",
       " 'https://myjgeosc.com/mjg-02-2022-84-87/',\n",
       " 'https://myjgeosc.com/mjg-02-2022-88-96/',\n",
       " 'https://myjgeosc.com/mjg-02-2022-97-100/',\n",
       " 'https://myjgeosc.com/mjg-02-2023-101-108/',\n",
       " 'https://myjgeosc.com/mjg-02-2023-109-134/',\n",
       " 'https://myjgeosc.com/mjg-02-2023-44-51/',\n",
       " 'https://myjgeosc.com/mjg-02-2023-52-60/',\n",
       " 'https://myjgeosc.com/mjg-02-2023-61-80/',\n",
       " 'https://myjgeosc.com/mjg-02-2023-81-93/',\n",
       " 'https://myjgeosc.com/mjg-02-2023-94-100/',\n",
       " 'https://myjgeosc.com/mjg.01.2017.01.06/',\n",
       " 'https://myjgeosc.com/mjg.01.2017.07.12/',\n",
       " 'https://myjgeosc.com/mjg.01.2017.13.26/',\n",
       " 'https://myjgeosc.com/mjg.01.2017.27.31/',\n",
       " 'https://myjgeosc.com/mjg.01.2017.32.33/',\n",
       " 'https://myjgeosc.com/mjg.01.2017.34.37/',\n",
       " 'https://myjgeosc.com/mjg.01.2017.38.42/',\n",
       " 'https://myjgeosc.com/mjg.01.2017.43.49/',\n",
       " 'https://myjgeosc.com/mjg.01.2018.01.08/',\n",
       " 'https://myjgeosc.com/mjg.01.2018.09.17/',\n",
       " 'https://myjgeosc.com/mjg.01.2018.18.29/',\n",
       " 'https://myjgeosc.com/mjg.01.2018.30.33/',\n",
       " 'https://myjgeosc.com/mjg.01.2018.34.37/',\n",
       " 'https://myjgeosc.com/mjg.01.2018.38.41/',\n",
       " 'https://myjgeosc.com/mjg.01.2018.42.44/',\n",
       " 'https://myjgeosc.com/mjg.01.2019.01.11/',\n",
       " 'https://myjgeosc.com/mjg.01.2019.12.20/',\n",
       " 'https://myjgeosc.com/mjg.01.2019.21.31/',\n",
       " 'https://myjgeosc.com/mjg.01.2019.32.44/',\n",
       " 'https://myjgeosc.com/mjg.01.2019.45.50/',\n",
       " 'https://myjgeosc.com/mjg.01.2019.51.60/',\n",
       " 'https://myjgeosc.com/mjg.01.2019.61.65/',\n",
       " 'https://myjgeosc.com/mjg.01.2020.01.06/',\n",
       " 'https://myjgeosc.com/mjg.01.2020.07.12/',\n",
       " 'https://myjgeosc.com/mjg.01.2020.13.18/',\n",
       " 'https://myjgeosc.com/mjg.01.2020.19.21/',\n",
       " 'https://myjgeosc.com/mjg.01.2020.22.25/',\n",
       " 'https://myjgeosc.com/mjg.01.2020.26.31/',\n",
       " 'https://myjgeosc.com/mjg.01.2020.32.37/',\n",
       " 'https://myjgeosc.com/mjg.01.2020.43.53/',\n",
       " 'https://myjgeosc.com/mjg.02.2017.01.05/',\n",
       " 'https://myjgeosc.com/mjg.02.2017.06.09/',\n",
       " 'https://myjgeosc.com/mjg.02.2017.10.12/',\n",
       " 'https://myjgeosc.com/mjg.02.2017.13.19/',\n",
       " 'https://myjgeosc.com/mjg.02.2017.20.23/',\n",
       " 'https://myjgeosc.com/mjg.02.2017.24.28/',\n",
       " 'https://myjgeosc.com/mjg.02.2017.29.32/',\n",
       " 'https://myjgeosc.com/mjg.02.2018.01.10/',\n",
       " 'https://myjgeosc.com/mjg.02.2018.11.16/',\n",
       " 'https://myjgeosc.com/mjg.02.2018.17.21/',\n",
       " 'https://myjgeosc.com/mjg.02.2018.22.25/',\n",
       " 'https://myjgeosc.com/mjg.02.2018.26.32/',\n",
       " 'https://myjgeosc.com/mjg.02.2018.33.38/',\n",
       " 'https://myjgeosc.com/mjg.02.2019.01.06/',\n",
       " 'https://myjgeosc.com/mjg.02.2019.07.11/',\n",
       " 'https://myjgeosc.com/mjg.02.2019.12.22/',\n",
       " 'https://myjgeosc.com/mjg.02.2019.23.32/',\n",
       " 'https://myjgeosc.com/mjg.02.2019.33.42/',\n",
       " 'https://myjgeosc.com/mjg.02.2019.43.51/',\n",
       " 'https://myjgeosc.com/mjg.02.2019.52.58/',\n",
       " 'https://www.zibelinepub.com/brochure/mjg.png']"
      ]
     },
     "execution_count": 7,
     "metadata": {},
     "output_type": "execute_result"
    }
   ],
   "source": [
    "pages"
   ]
  },
  {
   "cell_type": "code",
   "execution_count": 8,
   "id": "838310f6",
   "metadata": {},
   "outputs": [
    {
     "name": "stderr",
     "output_type": "stream",
     "text": [
      "100%|█████████████████████████████████████████| 101/101 [01:15<00:00,  1.34it/s]\n"
     ]
    },
    {
     "data": {
      "text/plain": [
       "['https://myjgeosc.com/download/1363',\n",
       " 'https://myjgeosc.com/download/1436',\n",
       " 'https://myjgeosc.com/download/1438',\n",
       " 'https://myjgeosc.com/download/1445',\n",
       " 'https://myjgeosc.com/download/1469',\n",
       " 'https://myjgeosc.com/download/1483',\n",
       " 'https://myjgeosc.com/download/1489',\n",
       " 'https://myjgeosc.com/download/1550',\n",
       " 'https://myjgeosc.com/download/1561',\n",
       " 'https://myjgeosc.com/download/1566',\n",
       " 'https://myjgeosc.com/download/1577',\n",
       " 'https://myjgeosc.com/download/1610',\n",
       " 'https://myjgeosc.com/download/1678',\n",
       " 'https://myjgeosc.com/download/1727',\n",
       " 'https://myjgeosc.com/download/1741',\n",
       " 'https://myjgeosc.com/download/1751',\n",
       " 'https://myjgeosc.com/download/1768',\n",
       " 'https://myjgeosc.com/download/1776',\n",
       " 'https://myjgeosc.com/download/1785',\n",
       " 'https://myjgeosc.com/download/1792',\n",
       " 'https://myjgeosc.com/download/1228',\n",
       " 'https://myjgeosc.com/download/1256',\n",
       " 'https://myjgeosc.com/download/1292',\n",
       " 'https://myjgeosc.com/download/1294',\n",
       " 'https://myjgeosc.com/download/1309',\n",
       " 'https://myjgeosc.com/download/1317',\n",
       " 'https://myjgeosc.com/download/1391',\n",
       " 'https://myjgeosc.com/download/1431',\n",
       " 'https://myjgeosc.com/download/1498',\n",
       " 'https://myjgeosc.com/download/1504',\n",
       " 'https://myjgeosc.com/download/1514',\n",
       " 'https://myjgeosc.com/download/1524',\n",
       " 'https://myjgeosc.com/download/1526',\n",
       " 'https://myjgeosc.com/download/1533',\n",
       " 'https://myjgeosc.com/download/1543',\n",
       " 'https://myjgeosc.com/download/1601',\n",
       " 'https://myjgeosc.com/download/1630',\n",
       " 'https://myjgeosc.com/download/1639',\n",
       " 'https://myjgeosc.com/download/1647',\n",
       " 'https://myjgeosc.com/download/1657',\n",
       " 'https://myjgeosc.com/download/1670',\n",
       " 'https://myjgeosc.com/download/1699',\n",
       " 'https://myjgeosc.com/download/1718',\n",
       " 'https://myjgeosc.com/download/1856',\n",
       " 'https://myjgeosc.com/download/1863',\n",
       " 'https://myjgeosc.com/download/1801',\n",
       " 'https://myjgeosc.com/download/1821',\n",
       " 'https://myjgeosc.com/download/1829',\n",
       " 'https://myjgeosc.com/download/1838',\n",
       " 'https://myjgeosc.com/download/1846',\n",
       " 'https://myjgeosc.com/download/806',\n",
       " 'https://myjgeosc.com/download/807',\n",
       " 'https://myjgeosc.com/download/810',\n",
       " 'https://myjgeosc.com/download/812',\n",
       " 'https://myjgeosc.com/download/813',\n",
       " 'https://myjgeosc.com/download/816',\n",
       " 'https://myjgeosc.com/download/818',\n",
       " 'https://myjgeosc.com/download/820',\n",
       " 'https://myjgeosc.com/download/837',\n",
       " 'https://myjgeosc.com/download/838',\n",
       " 'https://myjgeosc.com/download/841',\n",
       " 'https://myjgeosc.com/download/842',\n",
       " 'https://myjgeosc.com/download/844',\n",
       " 'https://myjgeosc.com/download/847',\n",
       " 'https://myjgeosc.com/download/848',\n",
       " 'https://myjgeosc.com/download/863',\n",
       " 'https://myjgeosc.com/download/864',\n",
       " 'https://myjgeosc.com/download/867',\n",
       " 'https://myjgeosc.com/download/868',\n",
       " 'https://myjgeosc.com/download/871',\n",
       " 'https://myjgeosc.com/download/873',\n",
       " 'https://myjgeosc.com/download/949',\n",
       " 'https://myjgeosc.com/download/1079',\n",
       " 'https://myjgeosc.com/download/1172',\n",
       " 'https://myjgeosc.com/download/1180',\n",
       " 'https://myjgeosc.com/download/1190',\n",
       " 'https://myjgeosc.com/download/1192',\n",
       " 'https://myjgeosc.com/download/1194',\n",
       " 'https://myjgeosc.com/download/1347',\n",
       " 'https://myjgeosc.com/download/1402',\n",
       " 'https://myjgeosc.com/download/824',\n",
       " 'https://myjgeosc.com/download/823',\n",
       " 'https://myjgeosc.com/download/827',\n",
       " 'https://myjgeosc.com/download/828',\n",
       " 'https://myjgeosc.com/download/831',\n",
       " 'https://myjgeosc.com/download/833',\n",
       " 'https://myjgeosc.com/download/835',\n",
       " 'https://myjgeosc.com/download/852',\n",
       " 'https://myjgeosc.com/download/850',\n",
       " 'https://myjgeosc.com/download/855',\n",
       " 'https://myjgeosc.com/download/856',\n",
       " 'https://myjgeosc.com/download/859',\n",
       " 'https://myjgeosc.com/download/860',\n",
       " 'https://myjgeosc.com/download/875',\n",
       " 'https://myjgeosc.com/download/876',\n",
       " 'https://myjgeosc.com/download/879',\n",
       " 'https://myjgeosc.com/download/880',\n",
       " 'https://myjgeosc.com/download/883',\n",
       " 'https://myjgeosc.com/download/884',\n",
       " 'https://myjgeosc.com/download/976']"
      ]
     },
     "execution_count": 8,
     "metadata": {},
     "output_type": "execute_result"
    }
   ],
   "source": [
    "from tqdm import tqdm\n",
    "\n",
    "urls = []\n",
    "for p in tqdm(pages):\n",
    "    r = requests.get(p)\n",
    "    soup = BeautifulSoup(r.content)\n",
    "    a = soup.find_all('a')\n",
    "    a = [a_.get('href') for a_ in a if '/download/' in a_.get('href')]\n",
    "    urls.extend(a)\n",
    "    \n",
    "urls"
   ]
  },
  {
   "cell_type": "code",
   "execution_count": 11,
   "id": "f5052103",
   "metadata": {},
   "outputs": [
    {
     "data": {
      "text/plain": [
       "100"
      ]
     },
     "execution_count": 11,
     "metadata": {},
     "output_type": "execute_result"
    }
   ],
   "source": [
    "urls = sorted(list(set(urls)))\n",
    "len(urls)"
   ]
  },
  {
   "cell_type": "code",
   "execution_count": 12,
   "id": "c325d75d",
   "metadata": {},
   "outputs": [
    {
     "name": "stdout",
     "output_type": "stream",
     "text": [
      "mkdir: cannot create directory ‘myjgeosc.com’: File exists\r\n"
     ]
    }
   ],
   "source": [
    "!mkdir myjgeosc.com"
   ]
  },
  {
   "cell_type": "code",
   "execution_count": 13,
   "id": "33b97068",
   "metadata": {},
   "outputs": [
    {
     "name": "stderr",
     "output_type": "stream",
     "text": [
      "100%|█████████████████████████████████████████| 100/100 [01:57<00:00,  1.17s/it]\n"
     ]
    }
   ],
   "source": [
    "import os\n",
    "\n",
    "pdfs = urls\n",
    "for i in tqdm(range(len(pdfs))):\n",
    "    filename = os.path.join('myjgeosc.com', f'{i}.pdf')\n",
    "    if os.path.exists(filename):\n",
    "        continue\n",
    "        \n",
    "    u = pdfs[i]\n",
    "        \n",
    "    r = requests.get(u)\n",
    "    with open(filename, 'wb') as fopen:\n",
    "        fopen.write(r.content)"
   ]
  },
  {
   "cell_type": "code",
   "execution_count": 14,
   "id": "c4eef2bd",
   "metadata": {},
   "outputs": [],
   "source": [
    "from glob import glob\n",
    "from tika import parser\n",
    "import json\n",
    "\n",
    "TIKA_HOST = 'http://localhost:9998'"
   ]
  },
  {
   "cell_type": "code",
   "execution_count": 15,
   "id": "c9022160",
   "metadata": {},
   "outputs": [
    {
     "name": "stderr",
     "output_type": "stream",
     "text": [
      "100%|█████████████████████████████████████████| 100/100 [00:06<00:00, 16.02it/s]\n"
     ]
    }
   ],
   "source": [
    "files = glob('myjgeosc.com/*.pdf')\n",
    "\n",
    "with open('myjgeosc.com.jsonl', 'w') as fopen:\n",
    "    for f in tqdm(files):\n",
    "        try:\n",
    "            raw_xml = parser.from_file(f, TIKA_HOST, xmlContent=True)\n",
    "            body = BeautifulSoup(raw_xml['content']).find('body')\n",
    "            t = '\\n'.join(body.findAll(text=True))\n",
    "            fopen.write(f'{json.dumps(t)}\\n')\n",
    "        except:\n",
    "            pass"
   ]
  },
  {
   "cell_type": "code",
   "execution_count": null,
   "id": "281fa328",
   "metadata": {},
   "outputs": [],
   "source": []
  }
 ],
 "metadata": {
  "kernelspec": {
   "display_name": "Python 3 (ipykernel)",
   "language": "python",
   "name": "python3"
  },
  "language_info": {
   "codemirror_mode": {
    "name": "ipython",
    "version": 3
   },
   "file_extension": ".py",
   "mimetype": "text/x-python",
   "name": "python",
   "nbconvert_exporter": "python",
   "pygments_lexer": "ipython3",
   "version": "3.8.10"
  }
 },
 "nbformat": 4,
 "nbformat_minor": 5
}
