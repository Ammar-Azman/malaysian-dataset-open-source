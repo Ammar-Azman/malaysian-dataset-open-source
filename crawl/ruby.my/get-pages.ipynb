{
 "cells": [
  {
   "cell_type": "code",
   "execution_count": 2,
   "metadata": {},
   "outputs": [],
   "source": [
    "import requests\n",
    "from bs4 import BeautifulSoup\n",
    "from tqdm import tqdm\n",
    "import os\n",
    "import json\n",
    "import numpy as np\n",
    "import time\n",
    "import random\n",
    "import json\n",
    "from concurrent.futures import ThreadPoolExecutor, as_completed"
   ]
  },
  {
   "cell_type": "code",
   "execution_count": 3,
   "metadata": {},
   "outputs": [],
   "source": [
    "with open('a.json') as fopen:\n",
    "    urls = sorted(json.load(fopen))"
   ]
  },
  {
   "cell_type": "code",
   "execution_count": 4,
   "metadata": {},
   "outputs": [],
   "source": [
    "# !rm -rf page\n",
    "!mkdir page"
   ]
  },
  {
   "cell_type": "code",
   "execution_count": 5,
   "metadata": {},
   "outputs": [],
   "source": [
    "r = requests.get(urls[0])\n",
    "soup = BeautifulSoup(r.content, \"lxml\")"
   ]
  },
  {
   "cell_type": "code",
   "execution_count": 7,
   "metadata": {},
   "outputs": [
    {
     "data": {
      "text/plain": [
       "'Kenangan Ke Teluk Cempedak Dan Cherating'"
      ]
     },
     "execution_count": 7,
     "metadata": {},
     "output_type": "execute_result"
    }
   ],
   "source": [
    "soup.find('h1').text"
   ]
  },
  {
   "cell_type": "code",
   "execution_count": 8,
   "metadata": {},
   "outputs": [
    {
     "data": {
      "text/plain": [
       "'https://www.ruby.my/2009/08/teluk-cempedak-pahang-malaysia.html'"
      ]
     },
     "execution_count": 8,
     "metadata": {},
     "output_type": "execute_result"
    }
   ],
   "source": [
    "urls[0]"
   ]
  },
  {
   "cell_type": "code",
   "execution_count": 10,
   "metadata": {},
   "outputs": [
    {
     "data": {
      "text/plain": [
       "'\\n\\n\\nKenangan Ke Teluk Cempedak Dan Cherating. Ruby masih ingat lagi ketika ini adalah trip kali pertama Ruby join dengan rakan ofis. Memang seronok. Kami bertolak pada waktu tengah malam. Mengejar matahari terbit. Semua ni rakan ofis dan Abang Bob dan Kak Sal handle semua. Hahaha. Ini adalah trip yang paling best aku pernah pegi.. So, aku akan ceritakan dari awal planning sampai la kami pulang kerumah dengan kepenatan..\\nKenangan Ke Teluk Cempedak Dan Cherating\\nTrip ni telah dirancang masa bulan July 09 yg lepas.. Tetapi, masih lagi dalam konteks \"jadi atau tidak\".. Hehehehe.. Ini kerana ada beberapa perkara perlu difikirkan.. Maklum la.. Aku bawa boss aku sekali.. Dan beberapa org kuat kat office.. Nanti terkontang kanting plak bebudak yg tinggal.. Kami bercuti selama 3 hari, tapi amik Annual Leave 2 hari.. Dalam 2 hari macam2 bleh berlaku.. Hrmm.. Nak dijadikan cerita, kami pun memikirkan takut ada org kecil hati sebab tak di invite.. Vacation ni untuk berseronok.. Bayangkan la jika org yg tak berapa ngam dan jenis nak buat hal sendiri follow? Confirmed x best tau.. So, better pentingkan diri sendiri dari bercuti sakit hati..\\n\\nConfirmation dari boss aku telah membuatkan ramai yg berteriak Hooraayy!!! Hehehe.. Walaupun last minute information, tapi sangat best.. Sebab.. Redah jer... Hehehe.. Mcm kawin cowboy.. Ni Vacation Cowboy.. Hehehe.. Pada hari isnin, aku masih bekerja.. Dapat overtime lagi.. Mana la ada masa nak packing kan.. Tapi aku suka suasana tu, sebab buat aku sesak nafas.. Hehehe.. Pengumuman untuk pergi vacation diberitahu selepas lunch.. Aku dengan pakaian takde, dah mula \"chuak\"... Nak pegi macam mana? Jam 6 ptg aku break, bergegas ke rumah, amik baju yg tak basuh untuk hantar ke dobi.. Cari punya cari dobi, nasib baik jumpa.. Pakcik tu siap tunggu aku amik pakaian jam 12mlm.. Wah.. Alhamdulillah la kan.. Aku balik keje jam 11 terus bergegas ke kedai dobi tu.. Masa tu si saiful naim yg tolong aku pi kedai dobi, pi Jaya Jusco dan hantar aku balik pi office dan amik aku balik ke dobi dan hantar balik rumah.. Sian die.. Tapi takpe.. Die sayang kat aku.. Wakakaka.. Terima kasih Banyak2..\\n\\nJam 1.30 am, abg shah amik aku kat rumah.. Ada kak rina tu.. Kelambatan tu disebabkan kak rina sakit perot dan berak dirumahnya.. So, abg shah kena tunggu... Ala.. abg shah tu penyabar.. hehe.. Pit stop kami adalah di Petronas Taman Melati bersebelahan Mc Donald tu.. Sampai kat situ jumpa suku kaum.. Ketawa tak abis2.. Aku plak berpakaian nak pi jogging.. Yg lelain sempoi je.. Paling sempoi adalah kak sal.. Pakai seluar pendek je.. Hehehe.. Sampai kat pantai terus tenggelam dalam laut la tu.. Hehehe.. Kami singgah makan mcD jap.. Takut tak berhenti kat R&R.. Maklum la ikot jalan lama... Hehehe.. Kang mano nak cari kodai makan awal pagi begini..Road Trip Seronok Betul!\\n\\nJam 3 am kami semua start bertolak.. Excited gila.. Aku naik keta ngan abg Shah, Syam and Alice.. Kereta abg Bob dipenuhi oleh bayi2 comel, iaitu Abg Zaid, Kak Rina and Kak Sal.. Hehehe.. Aku plak duk depan jadi co-pilot.. Wah membesar mata aku nak temankan abg shah.. Takut2 die mengantuk.. Permulaan perjalanan sampai Genting Sempah, aku toleh belakang sorang anak dara nih dah tido.. Si Syam.. Padahal siang2 die dah tido.. Siut betol.. Aku ngan shah siap keje petang lagi tak tido, rilek je.. Ish.. iSh.. Alice pula masih dalam kondisi membetulkan kedudukan.. Nak cari posisi terbaik untuk tido la tu.. Kuang asam jawa betol.. Ahahaha.. Ikut jalan lama ni amat meletihkan skit.. Banyak lori dan gelap je.. Jadi ngantuk plak.. Aku layankan je lagu kat radio.. Siap nyanyi2 lagi.. Sorry la abg shah kalo ruby memekak je.. Hehehe..\\n\\nJam 4.30 pagi macam tu, aku dah sms abg bob untuk benti rehat kat mana2 warong.. Tak larat dowh.. Kat mana kami berhenti pun aku tak tau.. Hehehe.. Bila keluar je dr kereta, happy je.. Besar mata kami.. Aku rasa kena beli kereta family car macam Toyota Unser.. Confirmed bebudak ni tak tido.. Ahahaha.. Minum2 jap.. Bincang nak ikut highway..\\n\\nJam 5 am bertolak pi kuantan, pahang.. Ikut highway.. Jalan kat situ berkabus.. Adventure kata Abg Shah.. Hehehe.. Aku pun terlelap jugakk.. Sedar2 je dah berhenti kat tempat rehat ape tah.. Aku pun tak tau kat mana.. Pi toilet basuh muka jap.. Then bergambar, kami bertolak semula..\\n\\nJam 7 am dah sampai kat kuantan.. Matahari clear gila.. Warna merah oren macam tu.. Aku try tangkap gambar, tapi jd warna putih.,. So, kena gunakan khidmat camera SLR abg zaid.. Sms je die.. Hehehe.. Kami pun pi breakfast, kat ngan area teluk cempedak.. Murah je.. Air nescafe tarik RM 1 je tau.. Nasi Lemak pun RM 2 je, itupun ada lauk sotong.. Jimat2.. Lepas makan kami gerak ke Teluk Cempedak.. Cantik pantai kat situ,... Tapi xleh nak mandi.. Bahaya.. Hehehe.. Kami bergambar je kat situ.. Best gila... Selesai semua tu, kami bergegas cari chalet kat Cherating, Pahang..\\n\\n\\n\\nKak Sal and Abg Bob survey chalet.. Aku plak, duk main air kat tepi pantai.. Sementara tunggu mereka.. Hehehe.. Jam 11 am macam tu, check in kat Tanjung Inn Cherating.. Aku dapat je konci blik pas kat kak rina.. Hehehe.. Wahh.. katil aku empok gila.. Aku pi mandi2 dn siap sedia untuk tido.. Ahahahaaha.. Siap pesan kat kak rina untuk kejut jam 5 pm.. Hehehe.. Kak sal and alice kemana ye masa tu? lupa plak aku.. Hehehe.. Aku, alice ngan syam tido la.. hehehe.. Lupa la.. Aku rasa syam tu seperti monumen je.. Tido tak hengat.. Hahahaha.. Die akan bangun time dia lapar.. Hhahaha.. Kak sal ajak pi makan tengahari but im refuse.. Letih la.. Tido lagi best.. Ahahaha..\\n\\nJam 5 ptg aku dah kejut bebudak yg tido untuk ke pantai.. Masuk chalet lelaki, abg zaid tengah tengok cita katun sponge bob.. Hehehe.. Kiut la abang zaid ni.. Abg shah aku tak nampak kat mana.. Abg bob plak tengan memotong, membasuh dan memarinate ayam.. Huhu.. Pasti sodappp!! Aku ngan Syam pi pantai.. Hehehe.. Mandi sekali la... Air takat betis pun Syam takut.. Bila dah ramai skit baru die berani nak ketengah.. Ngeh ngeh ngeh.. Buli Syam.. \"Macam tu la...\".. Alice konon2 nak buat filem la duk tepi pantai je.. Bila panggil, berlari datang.. Heehehe.. Air asik masuk kat telinga die je.. Hehehehe.. Sian.. Then, masa tengah berenang2 ngan alice n syam... Si alice nampak abg zaid n abg shah.. Aku ni dah le rabun.. Nak lambai, takut salah org.. Tapi betul la mereka.. Hehehe.. Pastu baru nampak abg Bob, Kak Sal and Rina.. Main Tanam2 kat dalam pasir.. Best.. Ada 18sx skit.. Hehehehe.. Dah puas bergambar, masa untuk mandi lagi sekali.. Nak dekat jam 8pm baru kami semua naik. Ahahaha...\\n\\nJam 8pm balik chalet, kak sal and abg bob bersedia untuk pnggang Ayam.. Mama and papa la katakan.. Mama papa kami semua.. Hheheheehe.. Aku and syam pi mandi.. Bilik air ada dua k.. Hehehe.. Semua dah siap mandi.. Kami semua dipanggil oleh mama and papa.. Dah berkumpul, papa baca doa makan.. Hehehe... Korang nak tau x?? Syam makan banyak!!! Hehehee.. Aku pun sama je.. Semua org makan.. Habis makanan baru puas kan.. Tak membazir.. Hehehe.. Tapi, lepas je abes makan,.. Aku dah lapar nasi.. Nak makan nasi.. Bincang ngan abg bob and lelain.. Kami pun pi makan kat gerai.. Murah gak kat situ.. Kedai kelantan rasanya.. Kuat makan kami semua ni.. Hehe.. Janji happy.. Best!!! Masa makan tu, muka abg zaid, abg shah memang letih gila.. Hehehe.Unggun Api Tepi Laut\\n\\nJam 12 am.. Kami ada idea untuk pi ke tepi laut.. Wahh.. best gila.. Buat unggun api.. Masa sebelum tu, ada org yg xnak pegi.. Sakit kepala la.. Ngantuk la.. Bila unggun api dah pasang.. Bleh plak jadi red indian.. Hehehe.. Abg zaid la tu.. Hehehe.. Best gila.. Abg zaid, aku, alice, syam and kak rina menari mengelilingi unggun api.. Buat pngetahuan korang, unggun api tu di buat oleh Abg Bob.. Papa kita org la.. Kak Sal sebagai Mama kita org telah menjadi jurukamera dan merakamkan video sengal + kelakar kami semua.. Hehehe.. Sebelum tu macam nak hujan, dah menitis2 air hujan.. Abg shah dah balik chalet.. Kami plak masih kat tepi laut.. Pasirnya sejuk.. Best.. Penyu bertelur kami tak tengok, rasanya kat terengganu lagi best.. Hehehe,..\\nBalik chalet, aku dah basuh kaki.. Buka seluar and tido.. Ala-ala tido ayam.. Kak sal, n alice ada kat chalet sebelah.. Bersembang ngan abg bob, abg shah and zaid..\\n\\nJam 2 am mereka tak tido lagi,,.. tetapi telah merancang sesuatu.. Pada masa kak sal masuk bilik.. Aku ingatkan die nak tido.. Sebab dia selak pintu belakang.. Aku ingatkan die nak tido.. Tapi die keluar balik.. So, aku x jangka apa2 yg berlaku.. Hehehe.. Tiba2.. Jeng.. Jeng.. Jeng... Pintu yg ditutp ditolak. \"Kuuuaaaakkkk...\" Aku pun dah \"chuak\"... Kak rina pun cakap \"siapa la yang bukak pintu ni..\" Tapi, memandang kan kak rina tengah main handphone.. Aku suruh die tutop dan cakap macam ni \"kak rina tutup laa, nanti nyamuk masuk...\".. Buat pengetahuan korang, sebelum pintu dibuka.. Ada bunyi ketukan.. Banyak kali.. Tapi kami buat bodo je.. Tido la katakan.. Bila kak rina pegi je tutop pintu.. Menjerit die bila nampak lembaga putih.. Terkejut die.. Rabun2 die pun nampak tau.. Korang tau sapa tu?? Abg shah berselubung dalam selimut dan bertenggek kat atas tembok kayu.. Abg bob siap ada nyorok kat tepi.. Ahahaha.. Tak henti kak rina maki die org.. Ala2 macam melatah.. Cakap tanpa henti.. Aku hanya mampu tergelak dalam selimut je.. Hehehe.. Kak rina!! Sebenarnya ruby pun takut.. Hehehe..\\n\\nJam berapa pun aku tak sedar kak sal and alice masuk tido.. Tapi time alice masuk and buka spek mata.. Aku sedar la plak.. Kahkahkahkah.. Aku pun meletakkan spek mata aku yang awal td dah dibuka kat mata aku.. Kihkihkih.. Alice, ko dan aku je paham cerita ni.. Hikhikhik..Mama Kami Kak Sal\\n\\nJam 7 pg kak sal aka Mama dah kejut.. Dah le die tido lewat.. Leh bangun awal plak.. Cayalah.. Hehe.. Aku bersiap jap.. Die dah pi ke pantai.. Yang lelain melingkor tido.. Sebelum ke pantai, aku pesan kat die org untuk beli breakfast.. Aku xnak follow.. Hehhe.. So, aku pi pantai, nampak kak sal dapat ketam.. Besar.. Mata ketam tu macam KLCC.. Then aku main2 ombak kat situ.. Best.. Jam 8 am macam tu aku mandi laut ngan kak sal.. Wah.. Ombak bergelora masa tu.. Berani betul kita org.. Tengah mandi2 nampak kak rina.. Kak rina datang lagi la best.. Terjerit2 keseronokan kami semua.. Yg lelain dah kekenyangan melingkor balik lah tu.. Hehehe.. Alice n zaid dok bergambar aku rasa.. Hehehe.. I know what you did.. Hehehe.. Dah lama skit, abg bob datang... Diselangi ngan zaid, alice, syam and abg shah.. Mandi manda, Main ombak, terdampar kat tepi laut, Main lompat2 bila ada gelora.. Huh.. Aktiviti untuk kuruskan badan bagi aku..\\n\\nJam 10 am.. Aku masih mandi lagi.. Matahari dah tegak keatas.. Aku ingat dah jam 12 pm.. Apa lagi, bila dah tau baru jam 10... Masuk balik dalam air.. Pastu bleh plak konci chalet lelaki hilang sekejap.. Hehehe... Aku pun bantu la abg shah, alice, abg bob and zaid cari.. Yg paling kelakar, syam bleh mandi sorang2 dan tak bantu kami.. Tetiba terjerit dan gelak.. Ingatkan apa la td.. Hehe.. Kalau ikotkan, mana la boleh mandi kalau air tengah pasang. Tawakal je la..\\n\\nJam 11 am, aku dah rasa lapar.. Kak rina n kak sal ada bawa nasi lemak.. Aku ditemani oleh mereka semasa makan nasi lemak tu.. Syahdu je.. Angin sepoi2.. Hehehe.. Dah abes makan, aku balik chalet.. Yg dah siap packing kak rina, kak sal and syam.. Wahh.. Awal pack barang.. Baru aku teringat yg aku la paling lama beremdam.. Heheheh.. Best.. Aku suka mandi laut.. Adventure..\\n\\nMasa tengah bersiap2.. Ada la sesi makeover by Syam.. Hehehe.. Habis muka kita org semua ditransform.. Hehehe.. Terima kasih Syam.. Alice dari muka yg selamber dan lucu dan... dan. semuanya telah bertukar jadi satu perkataan.. Iaitu \"matang\".. Hahahaha.. Kak sal and kak rina dah jadi macam pengantin.. Hehehe.. Abg Zaid yg tak puas hati kami bersiap lama.. Telah masuk bilik kami dan menjadi paparazi.. Hehehe.. Ko tangkap gambar bontot aku apahal?? Ahahaha...Ke Bukit Tinggi Pula!\\n\\nJam 1 pm kami bertolak ke destinasi yang aku tak berapa clear.. Aku pun tak tau.. Ikut je la kereta depan... (Kereta abg bob).. Hehehe.. Kami singgah beli keropok lekor.. Pastu bergerak ke Bukit Tinggi.. Turun je dari kereta, aku dah sakit kaki. Wah.. Sengal2 kaki aku,.. Macam baru lepas jogging.. Ni penangan mandi laut dan berlawan ngan ombak.. Kat Bukit Tinggi, kami Bergambar je kat sana... Best.. Macam2 aksi.. Dah puas bergambar,.. Kami bertolak ke KL.. Ke Mak Wan Chicken Chop, Taman Melati.. Memandangkan ramai yg nak makanan ala2 ketimuran... Pi kedai kelantan le.. Hehehe.. Selesai makan dan bergelak sakan kami pun pulang kerumah masing2...\\n\\n\\n\\nHrmm.. Tak sangka dah berlalu masa... Aku nak spent time ngan korang semua lagi.. Best!! Tunggu next trip k.. I will follow u..\\n\\n\\n'"
      ]
     },
     "execution_count": 10,
     "metadata": {},
     "output_type": "execute_result"
    }
   ],
   "source": [
    "soup.find('div', {'id':\"post-body\"}).text"
   ]
  },
  {
   "cell_type": "code",
   "execution_count": 11,
   "metadata": {},
   "outputs": [
    {
     "name": "stderr",
     "output_type": "stream",
     "text": [
      "1139it [20:43,  1.09s/it]\n"
     ]
    }
   ],
   "source": [
    "for no, url in tqdm(enumerate(urls)):\n",
    "    filename = os.path.join('page', f'{no}.json')\n",
    "    if os.path.exists(filename):\n",
    "        continue\n",
    "    \n",
    "    while True:\n",
    "        try:\n",
    "            r = requests.get(url)\n",
    "            break\n",
    "        except:\n",
    "            time.sleep(1.0)\n",
    "            \n",
    "    soup = BeautifulSoup(r.content, \"lxml\")\n",
    "\n",
    "    try:\n",
    "        title = soup.find('h1').text\n",
    "    except Exception as e:\n",
    "        title = None\n",
    "\n",
    "    try:\n",
    "        body = soup.find('div', {'id':\"post-body\"}).text\n",
    "    except Exception as e:\n",
    "        body = None\n",
    "\n",
    "    data = {\n",
    "        'url': url,\n",
    "        'title': title,\n",
    "        'body': body,\n",
    "    }\n",
    "    with open(filename, 'w') as fopen:\n",
    "        json.dump(data, fopen)"
   ]
  },
  {
   "cell_type": "code",
   "execution_count": null,
   "metadata": {},
   "outputs": [],
   "source": []
  }
 ],
 "metadata": {
  "kernelspec": {
   "display_name": "Python 3 (ipykernel)",
   "language": "python",
   "name": "python3"
  },
  "language_info": {
   "codemirror_mode": {
    "name": "ipython",
    "version": 3
   },
   "file_extension": ".py",
   "mimetype": "text/x-python",
   "name": "python",
   "nbconvert_exporter": "python",
   "pygments_lexer": "ipython3",
   "version": "3.8.10"
  }
 },
 "nbformat": 4,
 "nbformat_minor": 4
}
