{
 "cells": [
  {
   "cell_type": "code",
   "execution_count": 2,
   "id": "e7386c44-1cdc-4654-a659-ed1088eafa8d",
   "metadata": {},
   "outputs": [],
   "source": [
    "import pandas as pd\n",
    "import requests\n",
    "from tqdm import tqdm\n",
    "import os"
   ]
  },
  {
   "cell_type": "code",
   "execution_count": 1,
   "id": "b38f54ac-ebde-4401-b0f7-fcf13787fba9",
   "metadata": {},
   "outputs": [],
   "source": [
    "file_path = '/home/jovyan/pdf_download/jurnaldbp_pdflink/jurnaldbp_malayliterature.jsonl' "
   ]
  },
  {
   "cell_type": "code",
   "execution_count": 3,
   "id": "e803310f-e89f-419b-a186-20e7a9e67590",
   "metadata": {},
   "outputs": [
    {
     "data": {
      "text/plain": [
       "0      https://jurnal.dbp.my/index.php/MalayLiteratur...\n",
       "1      https://jurnal.dbp.my/index.php/MalayLiteratur...\n",
       "2      https://jurnal.dbp.my/index.php/MalayLiteratur...\n",
       "3      https://jurnal.dbp.my/index.php/MalayLiteratur...\n",
       "4      https://jurnal.dbp.my/index.php/MalayLiteratur...\n",
       "                             ...                        \n",
       "170    https://jurnal.dbp.my/index.php/MalayLiteratur...\n",
       "171    https://jurnal.dbp.my/index.php/MalayLiteratur...\n",
       "172    https://jurnal.dbp.my/index.php/MalayLiteratur...\n",
       "173    https://jurnal.dbp.my/index.php/MalayLiteratur...\n",
       "174    https://jurnal.dbp.my/index.php/MalayLiteratur...\n",
       "Name: url, Length: 175, dtype: object"
      ]
     },
     "execution_count": 3,
     "metadata": {},
     "output_type": "execute_result"
    }
   ],
   "source": [
    "jsonObj = pd.read_json(path_or_buf=file_path, lines=True)\n",
    "links = jsonObj.url\n",
    "links"
   ]
  },
  {
   "cell_type": "code",
   "execution_count": null,
   "id": "307af209-d428-49b9-a605-9bb7597ed36d",
   "metadata": {},
   "outputs": [
    {
     "name": "stderr",
     "output_type": "stream",
     "text": [
      " 52%|█████▏    | 91/175 [20:11<46:13, 33.02s/it]"
     ]
    }
   ],
   "source": [
    "file_path = '/home/jovyan/pdf_download/jurnaldbp_pdflink/jurnaldbp_malayliterature.jsonl' \n",
    "jsonObj = pd.read_json(path_or_buf=file_path, lines=True)\n",
    "links = jsonObj.url\n",
    "\n",
    "i = 1\n",
    "directory = '/home/jovyan/pdf_download/Jurnal_MalayLiterature'\n",
    "for a in tqdm(links):\n",
    "    \n",
    "\n",
    "    download_url = a.replace('/view/', '/download/')\n",
    "\n",
    "    filename = 'JurnalMalayLiterature_%s.pdf' %i\n",
    "    filepath = os.path.join(directory, filename)\n",
    "    response = requests.get(download_url)\n",
    "    with open(filepath, 'wb') as f:\n",
    "        f.write(response.content)\n",
    "    i+=1"
   ]
  }
 ],
 "metadata": {
  "kernelspec": {
   "display_name": "Python 3 (ipykernel)",
   "language": "python",
   "name": "python3"
  },
  "language_info": {
   "codemirror_mode": {
    "name": "ipython",
    "version": 3
   },
   "file_extension": ".py",
   "mimetype": "text/x-python",
   "name": "python",
   "nbconvert_exporter": "python",
   "pygments_lexer": "ipython3",
   "version": "3.9.13"
  }
 },
 "nbformat": 4,
 "nbformat_minor": 5
}
