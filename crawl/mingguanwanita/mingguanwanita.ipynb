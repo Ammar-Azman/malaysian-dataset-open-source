{
 "cells": [
  {
   "cell_type": "code",
   "execution_count": 1,
   "id": "b2823ccc",
   "metadata": {},
   "outputs": [],
   "source": [
    "from bs4 import BeautifulSoup\n",
    "import pandas as pd\n",
    "import json\n",
    "import requests\n",
    "from urllib.request import urlopen\n",
    "import urllib.request\n",
    "from datetime import datetime\n",
    "from tqdm import tqdm\n",
    "import time\n",
    "import numpy as np\n",
    "from concurrent.futures import ThreadPoolExecutor, as_completed"
   ]
  },
  {
   "cell_type": "code",
   "execution_count": 2,
   "id": "a793a90e",
   "metadata": {},
   "outputs": [],
   "source": [
    "categories = [\"6\",\"5\",\"10\",\"3\"]\n",
    "\n",
    "hrefs = []"
   ]
  },
  {
   "cell_type": "code",
   "execution_count": 3,
   "id": "7b0e3bd3",
   "metadata": {},
   "outputs": [],
   "source": [
    "cookies = {\n",
    "    '_gcl_au': '1.1.1850308530.1688797075',\n",
    "    'AMCVS_43D8021954C26BE10A4C98A5%40AdobeOrg': '1',\n",
    "    '_cc_id': '3eda540b1733bbf97d5a84667177a178',\n",
    "    'izootoWpConfig': '%7B%22b_type%22:7,%22d_type%22:1,%22evt_trk%22:1,%22izooto_uid%22:%22fe4cecdb-bb24-49ee-8ade-d2bd2431a9b4%22%7D',\n",
    "    '_gid': 'GA1.2.1838146232.1690012113',\n",
    "    'AMCV_43D8021954C26BE10A4C98A5%40AdobeOrg': '-1124106680%7CMCIDTS%7C19561%7CMCMID%7C49218233029699282192376530785940147118%7CMCAAMLH-1690616913%7C3%7CMCAAMB-1690616913%7C6G1ynYcLPuiQxYZrsz_pkqfLG9yMXBpb2zX5dvJdYQJzPXImdj0y%7CMCOPTOUT-1690019313s%7CNONE%7CMCSYNCS%7C1083-19568*1085-19568*1086-19568*1087-19568*1088-19568*19913-19568*83349-19568%7CMCSYNCSOP%7C411-19568%7CvVersion%7C5.2.0',\n",
    "    '_clck': '10hdzb7|2|fdi|0|1284',\n",
    "    'panoramaId_expiry': '1690098513618',\n",
    "    'panoramaId': '24aa7eb4ab23dee1ace84787366ea9fb927af0baabde5e68c1e8fb79cc4932a0',\n",
    "    'panoramaIdType': 'panoDevice',\n",
    "    '_ga_DR4X41BMEL': 'GS1.1.1690012113.4.1.1690012134.0.0.0',\n",
    "    '_ga_1YSNKJ05YB': 'GS1.2.1690012113.3.1.1690012134.39.0.0',\n",
    "    '_clsk': '12xi2lj|1690012135970|9|1|y.clarity.ms/collect',\n",
    "    'FCNEC': '%5B%5B%22AKsRol8J7-NLfgG7FhKHPm-bCi1wAK25cq6C25nx5T1gfk56wBsIOCSF2gvbqOjs5cMoUUITuNYG9GO_WpczCZr1E8PoZgazfe1hslfthPtlFc55pg9JZX49MUnqcVkOiaxl_dDhjhK-OvH0qYk1Ci-782J6-Jq3Ug%3D%3D%22%5D%2Cnull%2C%5B%5D%5D',\n",
    "    '_ga': 'GA1.2.315055837.1688797075',\n",
    "    '_ga_R7MZGJ0GTL': 'GS1.1.1690012113.3.1.1690012180.0.0.0',\n",
    "}\n",
    "\n",
    "headers = {\n",
    "    'authority': 'www.mingguanwanita.my',\n",
    "    'accept': '*/*',\n",
    "    'accept-language': 'en-US,en;q=0.9',\n",
    "    'content-type': 'application/x-www-form-urlencoded; charset=UTF-8',\n",
    "    # 'cookie': '_gcl_au=1.1.1850308530.1688797075; AMCVS_43D8021954C26BE10A4C98A5%40AdobeOrg=1; _cc_id=3eda540b1733bbf97d5a84667177a178; izootoWpConfig=%7B%22b_type%22:7,%22d_type%22:1,%22evt_trk%22:1,%22izooto_uid%22:%22fe4cecdb-bb24-49ee-8ade-d2bd2431a9b4%22%7D; _gid=GA1.2.1838146232.1690012113; AMCV_43D8021954C26BE10A4C98A5%40AdobeOrg=-1124106680%7CMCIDTS%7C19561%7CMCMID%7C49218233029699282192376530785940147118%7CMCAAMLH-1690616913%7C3%7CMCAAMB-1690616913%7C6G1ynYcLPuiQxYZrsz_pkqfLG9yMXBpb2zX5dvJdYQJzPXImdj0y%7CMCOPTOUT-1690019313s%7CNONE%7CMCSYNCS%7C1083-19568*1085-19568*1086-19568*1087-19568*1088-19568*19913-19568*83349-19568%7CMCSYNCSOP%7C411-19568%7CvVersion%7C5.2.0; _clck=10hdzb7|2|fdi|0|1284; panoramaId_expiry=1690098513618; panoramaId=24aa7eb4ab23dee1ace84787366ea9fb927af0baabde5e68c1e8fb79cc4932a0; panoramaIdType=panoDevice; _ga_DR4X41BMEL=GS1.1.1690012113.4.1.1690012134.0.0.0; _ga_1YSNKJ05YB=GS1.2.1690012113.3.1.1690012134.39.0.0; _clsk=12xi2lj|1690012135970|9|1|y.clarity.ms/collect; FCNEC=%5B%5B%22AKsRol8J7-NLfgG7FhKHPm-bCi1wAK25cq6C25nx5T1gfk56wBsIOCSF2gvbqOjs5cMoUUITuNYG9GO_WpczCZr1E8PoZgazfe1hslfthPtlFc55pg9JZX49MUnqcVkOiaxl_dDhjhK-OvH0qYk1Ci-782J6-Jq3Ug%3D%3D%22%5D%2Cnull%2C%5B%5D%5D; _ga=GA1.2.315055837.1688797075; _ga_R7MZGJ0GTL=GS1.1.1690012113.3.1.1690012180.0.0.0',\n",
    "    'origin': 'https://www.mingguanwanita.my',\n",
    "    'referer': 'https://www.mingguanwanita.my/category/resipi/',\n",
    "    'sec-ch-ua': '\"Not.A/Brand\";v=\"8\", \"Chromium\";v=\"114\", \"Microsoft Edge\";v=\"114\"',\n",
    "    'sec-ch-ua-mobile': '?0',\n",
    "    'sec-ch-ua-platform': '\"macOS\"',\n",
    "    'sec-fetch-dest': 'empty',\n",
    "    'sec-fetch-mode': 'cors',\n",
    "    'sec-fetch-site': 'same-origin',\n",
    "    'user-agent': 'Mozilla/5.0 (Macintosh; Intel Mac OS X 10_15_7) AppleWebKit/537.36 (KHTML, like Gecko) Chrome/114.0.0.0 Safari/537.36 Edg/114.0.1823.82',\n",
    "    'x-auth-token': 'NTc2MDQ3OTY0NzU1MTIxMTI4ODI4MDc2OTIxMzYxODc=',\n",
    "    'x-requested-with': 'XMLHttpRequest',\n",
    "}\n",
    "\n",
    "params = {\n",
    "    'td_theme_name': 'Newspaper',\n",
    "    'v': '12.4',\n",
    "}\n"
   ]
  },
  {
   "cell_type": "code",
   "execution_count": 4,
   "id": "f315ad24",
   "metadata": {},
   "outputs": [],
   "source": [
    "def crawl(url,category):\n",
    "    \n",
    "        \n",
    "    data = {\n",
    "    'action': 'td_ajax_loop',\n",
    "    'loopState[sidebarPosition]': '',\n",
    "    'loopState[moduleId]': '1',\n",
    "    'loopState[currentPage]': f'{url}',\n",
    "    'loopState[atts][category_id]': f'{category}',\n",
    "    'loopState[ajax_pagination_infinite_stop]': '3',\n",
    "    'loopState[server_reply_html_data]': '',\n",
    "    }\n",
    "    \n",
    "    while True:\n",
    "        try:\n",
    "            response = requests.post('https://www.mingguanwanita.my/wp-admin/admin-ajax.php', params=params, cookies=cookies, headers=headers, data=data)\n",
    "            if response.status_code == 508:\n",
    "                print(r.status_code)\n",
    "                print('error in link, retrying... ', url)\n",
    "                time.sleep(20)\n",
    "                continue\n",
    "            break\n",
    "        except Exception as e:\n",
    "            print(e)\n",
    "            time.sleep(1.0)\n",
    "    \n",
    "    try:\n",
    "        r = response.json()\n",
    "    except:\n",
    "        return\n",
    "    \n",
    "    \n",
    "    soup = BeautifulSoup(r['server_reply_html_data'], \"lxml\")\n",
    "    \n",
    "    block = soup.find_all(\"h3\",attrs = {\"class\":\"entry-title td-module-title\"})\n",
    "    \n",
    "    if block is None:\n",
    "        return\n",
    "\n",
    "    for link in soup.find_all(\"h3\",attrs = {\"class\":\"entry-title td-module-title\"}):\n",
    "\n",
    "        href = link.find('a').get('href')\n",
    "\n",
    "        hrefs.append(href)\n",
    "    "
   ]
  },
  {
   "cell_type": "code",
   "execution_count": 5,
   "id": "3184367c",
   "metadata": {
    "scrolled": true
   },
   "outputs": [
    {
     "name": "stderr",
     "output_type": "stream",
     "text": [
      "100%|████████████████████████████████████████████████████████████████████████████████████████████████████████████████| 105/105 [02:01<00:00,  1.15s/it]\n",
      "100%|██████████████████████████████████████████████████████████████████████████████████████████████████████████████████| 25/25 [00:26<00:00,  1.05s/it]\n",
      "100%|██████████████████████████████████████████████████████████████████████████████████████████████████████████████████| 30/30 [00:30<00:00,  1.02s/it]\n",
      "100%|██████████████████████████████████████████████████████████████████████████████████████████████████████████████████| 35/35 [00:40<00:00,  1.16s/it]\n"
     ]
    }
   ],
   "source": [
    "max_worker = 5\n",
    "hrefs = []\n",
    "\n",
    "for index, c in enumerate(categories):\n",
    "    max_pages = ['522', '123', '147', '171']\n",
    "    max_page = int(max_pages[index])\n",
    "    \n",
    "    for i in tqdm(range(1, max_page + 1, max_worker)):\n",
    "        aranged = np.arange(i, min(i + max_worker, max_page + 1))  # Fix range issue\n",
    "        urls = [str(a) for a in aranged]  # Use the correct range of pages\n",
    "        \n",
    "        with ThreadPoolExecutor(max_workers=max_worker) as executor:\n",
    "            futures = {executor.submit(crawl, url, c): url for url in urls}\n",
    "            \n",
    "        for future in as_completed(futures):\n",
    "            future.result()"
   ]
  },
  {
   "cell_type": "code",
   "execution_count": 10,
   "id": "b0dd69c1",
   "metadata": {},
   "outputs": [
    {
     "data": {
      "text/plain": [
       "9300"
      ]
     },
     "execution_count": 10,
     "metadata": {},
     "output_type": "execute_result"
    }
   ],
   "source": [
    "len(hrefs)"
   ]
  },
  {
   "cell_type": "code",
   "execution_count": 7,
   "id": "acdd0004",
   "metadata": {},
   "outputs": [],
   "source": [
    "hrefs = list(set(hrefs))"
   ]
  },
  {
   "cell_type": "code",
   "execution_count": 9,
   "id": "ecd2a622",
   "metadata": {},
   "outputs": [],
   "source": [
    "with open('mingguanwanita-link.json', 'a') as f:\n",
    "    json.dump(hrefs, f)"
   ]
  },
  {
   "cell_type": "code",
   "execution_count": 4,
   "id": "6a6cd382",
   "metadata": {},
   "outputs": [],
   "source": [
    "with open('mingguanwanita-link.json') as f:\n",
    "    hrefs = json.load(f)"
   ]
  },
  {
   "cell_type": "code",
   "execution_count": 13,
   "id": "deb3e1a7",
   "metadata": {},
   "outputs": [],
   "source": [
    "def process_url(x):\n",
    "    headers = {'User-Agent': 'Mozilla/5.0 (Windows NT 6.1; WOW64) AppleWebKit/537.36 (KHTML, like Gecko) Chrome/56.0.2924.76 Safari/537.36'} # This is chrome, you can set whatever browser you like\n",
    "\n",
    "    \n",
    "    while True:\n",
    "        try:\n",
    "            r = requests.get(x, headers=headers)\n",
    "            break\n",
    "        except Exception as e:\n",
    "            print(e)\n",
    "            time.sleep(5.0)\n",
    "    \n",
    "    soup = BeautifulSoup(r.text, \"lxml\")\n",
    "\n",
    "    try:\n",
    "        headline = soup.find('h1', class_=\"entry-title\").text\n",
    "        h = soup.find('div', attrs = {\"class\":\"td-ss-main-content\"})\n",
    "        p = [p.text for p in h.find_all(\"p\") if len(p.text) > 3 and not p.find('a', href=True)]\n",
    "    except Exception as e:\n",
    "        print('error in link:'+ x)\n",
    "        print(e)\n",
    "        return\n",
    "    \n",
    "    time.sleep(2)\n",
    "\n",
    "    \n",
    "    data = {'url': x, 'headline': headline, 'content': p}\n",
    "    return data"
   ]
  },
  {
   "cell_type": "code",
   "execution_count": 14,
   "id": "0186bc8c",
   "metadata": {},
   "outputs": [
    {
     "name": "stderr",
     "output_type": "stream",
     "text": [
      " 41%|████████████████████████████████████████████▉                                                                 | 3802/9300 [35:17<32:24,  2.83it/s]"
     ]
    },
    {
     "name": "stdout",
     "output_type": "stream",
     "text": [
      "error in link:https://www.mingguanwanita.my/suami-ingkar-tanggungjawab-boleh-disabit-tiga-peruntukan-di-bawah-seksyen-ini/\n",
      "'NoneType' object has no attribute 'text'\n",
      "error in link:https://www.mingguanwanita.my/suami-ingkar-tanggungjawab-boleh-disabit-tiga-peruntukan-di-bawah-seksyen-ini/\n",
      "'NoneType' object has no attribute 'text'\n"
     ]
    },
    {
     "name": "stderr",
     "output_type": "stream",
     "text": [
      " 51%|████████████████████████████████████████████████████████▎                                                     | 4761/9300 [44:49<36:42,  2.06it/s]"
     ]
    },
    {
     "name": "stdout",
     "output_type": "stream",
     "text": [
      "error in link:https://www.mingguanwanita.my/kenali-gejala-hyperemesis-wanita-hamil-muntah-lebih-3-4-kali-sehari-itu-bukan-mengada-ngada/\n",
      "'NoneType' object has no attribute 'text'\n"
     ]
    },
    {
     "name": "stderr",
     "output_type": "stream",
     "text": [
      "\r",
      " 51%|███████████████████████████████████████████████████████▎                                                    | 4762/9300 [44:53<2:01:28,  1.61s/it]"
     ]
    },
    {
     "name": "stdout",
     "output_type": "stream",
     "text": [
      "error in link:https://www.mingguanwanita.my/kenali-gejala-hyperemesis-wanita-hamil-muntah-lebih-3-4-kali-sehari-itu-bukan-mengada-ngada/\n",
      "'NoneType' object has no attribute 'text'\n"
     ]
    },
    {
     "name": "stderr",
     "output_type": "stream",
     "text": [
      " 76%|██████████████████████████████████████████████████████████████████████████████████▌                         | 7114/9300 [1:08:21<14:08,  2.58it/s]"
     ]
    },
    {
     "name": "stdout",
     "output_type": "stream",
     "text": [
      "error in link:https://www.mingguanwanita.my/tak-perlu-tunggu-pisang-masak-yang-muda-pun-sedap-digoreng-ini-resepi-rahsia-nak-bagi-sedap/\n",
      "'NoneType' object has no attribute 'find_all'\n",
      "error in link:https://www.mingguanwanita.my/tak-perlu-tunggu-pisang-masak-yang-muda-pun-sedap-digoreng-ini-resepi-rahsia-nak-bagi-sedap/\n",
      "'NoneType' object has no attribute 'find_all'\n"
     ]
    },
    {
     "name": "stderr",
     "output_type": "stream",
     "text": [
      " 86%|████████████████████████████████████████████████████████████████████████████████████████████▊               | 7989/9300 [1:17:11<23:34,  1.08s/it]"
     ]
    },
    {
     "name": "stdout",
     "output_type": "stream",
     "text": [
      "(\"Connection broken: InvalidChunkLength(got length b'', 0 bytes read)\", InvalidChunkLength(got length b'', 0 bytes read))\n"
     ]
    },
    {
     "name": "stderr",
     "output_type": "stream",
     "text": [
      "100%|████████████████████████████████████████████████████████████████████████████████████████████████████████████| 9300/9300 [1:30:21<00:00,  1.72it/s]\n"
     ]
    }
   ],
   "source": [
    "max_workers = 5\n",
    "\n",
    "with ThreadPoolExecutor(max_workers=max_workers) as executor:\n",
    "    futures = [executor.submit(process_url, x) for x in hrefs]\n",
    "    \n",
    "    for future in tqdm(futures, total=len(hrefs)):\n",
    "        result = future.result()\n",
    "        if result:\n",
    "            with open('mingguanwanita-2.jsonl', 'a',encoding='utf8') as f:\n",
    "                json.dump(result, f,ensure_ascii=False)\n",
    "                f.write('\\n')"
   ]
  },
  {
   "cell_type": "code",
   "execution_count": null,
   "id": "e5528a75",
   "metadata": {},
   "outputs": [],
   "source": []
  }
 ],
 "metadata": {
  "kernelspec": {
   "display_name": "Python 3 (ipykernel)",
   "language": "python",
   "name": "python3"
  },
  "language_info": {
   "codemirror_mode": {
    "name": "ipython",
    "version": 3
   },
   "file_extension": ".py",
   "mimetype": "text/x-python",
   "name": "python",
   "nbconvert_exporter": "python",
   "pygments_lexer": "ipython3",
   "version": "3.8.10"
  }
 },
 "nbformat": 4,
 "nbformat_minor": 5
}
