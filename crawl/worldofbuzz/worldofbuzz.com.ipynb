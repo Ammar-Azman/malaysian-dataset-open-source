{
 "cells": [
  {
   "cell_type": "code",
   "execution_count": 4,
   "id": "2b951a94",
   "metadata": {},
   "outputs": [],
   "source": [
    "from bs4 import BeautifulSoup\n",
    "import pandas as pd\n",
    "import json\n",
    "import requests\n",
    "from tqdm import tqdm\n",
    "import time\n",
    "from concurrent.futures import ThreadPoolExecutor, as_completed\n",
    "import numpy as np\n",
    "import os\n",
    "\n",
    "\n",
    "headers = {'User-Agent': 'Mozilla/5.0 (Windows NT 6.1; WOW64) AppleWebKit/537.36 (KHTML, like Gecko) Chrome/56.0.2924.76 Safari/537.36'} "
   ]
  },
  {
   "cell_type": "code",
   "execution_count": 5,
   "id": "06d67dda",
   "metadata": {},
   "outputs": [],
   "source": [
    "links = ['https://worldofbuzz.com/latest-news/',\n",
    "        'https://worldofbuzz.com/social/',\n",
    "        'https://worldofbuzz.com/people/',\n",
    "        'https://worldofbuzz.com/lifestyle/',\n",
    "        'https://worldofbuzz.com/culture/',\n",
    "        'https://worldofbuzz.com/opinion/']"
   ]
  },
  {
   "cell_type": "code",
   "execution_count": null,
   "id": "e11e449e",
   "metadata": {},
   "outputs": [],
   "source": [
    "hrefs = []\n",
    "headers = {'User-Agent': 'Mozilla/5.0 (Windows NT 6.1; WOW64) AppleWebKit/537.36 (KHTML, like Gecko) Chrome/56.0.2924.76 Safari/537.36'} \n",
    "\n",
    "\n",
    "for i in tqdm(links):\n",
    "\n",
    "    x = 1\n",
    "\n",
    "    while True:\n",
    "\n",
    "        while True:\n",
    "            try:\n",
    "                r = requests.get(f'{i}page/{x}',headers = headers)\n",
    "                break\n",
    "            except Exception as e:\n",
    "                print(e)\n",
    "                time.sleep(1.0)\n",
    "                \n",
    "        soup = BeautifulSoup(r.text, \"lxml\")\n",
    "        \n",
    "        div = soup.find_all('li', attrs = {\"class\":\"mvp-blog-story-wrap\"})\n",
    "\n",
    "        if len(div) == 0:\n",
    "            break\n",
    "\n",
    "        for link in soup.find_all('li', attrs = {\"class\":\"mvp-blog-story-wrap\"}):\n",
    "            \n",
    "            href = link.find('a').get('href')\n",
    "            hrefs.append(href)\n",
    "                \n",
    "        \n",
    "        x = x + 1\n",
    "    "
   ]
  },
  {
   "cell_type": "code",
   "execution_count": 7,
   "id": "46ffd150",
   "metadata": {},
   "outputs": [
    {
     "data": {
      "text/plain": [
       "15288"
      ]
     },
     "execution_count": 7,
     "metadata": {},
     "output_type": "execute_result"
    }
   ],
   "source": [
    "len(hrefs)"
   ]
  },
  {
   "cell_type": "code",
   "execution_count": null,
   "id": "7f29143b",
   "metadata": {},
   "outputs": [],
   "source": [
    "hrefs = list(set(hrefs))"
   ]
  },
  {
   "cell_type": "code",
   "execution_count": null,
   "id": "aa65417b",
   "metadata": {},
   "outputs": [],
   "source": [
    "with open('wob-link.json', 'a') as f:\n",
    "    json.dump(hrefs, f)"
   ]
  },
  {
   "cell_type": "code",
   "execution_count": 6,
   "id": "41e4d0af",
   "metadata": {},
   "outputs": [],
   "source": [
    "with open('wob-link.json') as f:\n",
    "    hrefs = json.load(f)"
   ]
  },
  {
   "cell_type": "code",
   "execution_count": 8,
   "id": "17af22fb",
   "metadata": {},
   "outputs": [],
   "source": [
    "def process_url(x):\n",
    "    headers = {'User-Agent': 'Mozilla/5.0 (Windows NT 6.1; WOW64) AppleWebKit/537.36 (KHTML, like Gecko) Chrome/56.0.2924.76 Safari/537.36'} # This is chrome, you can set whatever browser you like\n",
    "\n",
    "    \n",
    "    while True:\n",
    "        try:\n",
    "            r = requests.get(x, headers=headers)\n",
    "            break\n",
    "        except Exception as e:\n",
    "            print(e)\n",
    "            time.sleep(5.0)\n",
    "    \n",
    "    soup = BeautifulSoup(r.text, \"lxml\")\n",
    "\n",
    "    try:\n",
    "        headline = soup.find('h1', class_=\"mvp-post-title left entry-title\").text\n",
    "        h = soup.find('div', attrs = {\"class\":\"dable-content-wrapper\"})\n",
    "        p = [p.text for p in h.find_all(\"p\") if len(p.text.split(\" \"))>5]\n",
    "    except Exception as e:\n",
    "        print('error in link:'+ x)\n",
    "        print(e)\n",
    "        return None\n",
    "\n",
    "    \n",
    "    data = {'url': x, 'headline': headline, 'content': p}\n",
    "    return data"
   ]
  },
  {
   "cell_type": "code",
   "execution_count": 9,
   "id": "cb45d31f",
   "metadata": {},
   "outputs": [
    {
     "name": "stderr",
     "output_type": "stream",
     "text": [
      " 39%|█████████████████████████████████████████▉                                                                 | 5993/15288 [36:27<1:02:09,  2.49it/s]"
     ]
    },
    {
     "name": "stdout",
     "output_type": "stream",
     "text": [
      "('Connection aborted.', RemoteDisconnected('Remote end closed connection without response'))\n"
     ]
    },
    {
     "name": "stderr",
     "output_type": "stream",
     "text": [
      " 44%|███████████████████████████████████████████████▍                                                           | 6782/15288 [41:19<1:05:08,  2.18it/s]"
     ]
    },
    {
     "name": "stdout",
     "output_type": "stream",
     "text": [
      "HTTPSConnectionPool(host='worldofbuzz.com', port=443): Max retries exceeded with url: /heineken-malaysia-allowed-to-operate-during-mco-but-pas-urges-govt-to-revoke-permission/ (Caused by SSLError(SSLError(1, '[SSL: SSLV3_ALERT_HANDSHAKE_FAILURE] sslv3 alert handshake failure (_ssl.c:1131)')))\n"
     ]
    },
    {
     "name": "stderr",
     "output_type": "stream",
     "text": [
      " 55%|███████████████████████████████████████████████████████████▉                                                 | 8414/15288 [51:00<30:22,  3.77it/s]"
     ]
    },
    {
     "name": "stdout",
     "output_type": "stream",
     "text": [
      "error in link:https://worldofbuzz.com/little-mermaid-goes-island-hopping-in-malaysia-halle-bailey-melissa-mccarthy/\n",
      "'NoneType' object has no attribute 'text'\n"
     ]
    },
    {
     "name": "stderr",
     "output_type": "stream",
     "text": [
      " 71%|███████████████████████████████████████████████████████████████████████████▌                              | 10891/15288 [1:05:32<28:15,  2.59it/s]"
     ]
    },
    {
     "name": "stdout",
     "output_type": "stream",
     "text": [
      "HTTPSConnectionPool(host='worldofbuzz.com', port=443): Max retries exceeded with url: /just-in-malaysia-records-new-high-with-5725-covid-19-cases-16-deaths/ (Caused by SSLError(SSLError(1, '[SSL: SSLV3_ALERT_HANDSHAKE_FAILURE] sslv3 alert handshake failure (_ssl.c:1131)')))\n"
     ]
    },
    {
     "name": "stderr",
     "output_type": "stream",
     "text": [
      " 92%|█████████████████████████████████████████████████████████████████████████████████████████████████▎        | 14040/15288 [1:24:11<05:23,  3.86it/s]"
     ]
    },
    {
     "name": "stdout",
     "output_type": "stream",
     "text": [
      "error in link:https://worldofbuzz.com/malaysian-girls-stop-their-skincare-routine-for-7-days/\n",
      "'NoneType' object has no attribute 'text'\n"
     ]
    },
    {
     "name": "stderr",
     "output_type": "stream",
     "text": [
      "100%|██████████████████████████████████████████████████████████████████████████████████████████████████████████| 15288/15288 [1:31:35<00:00,  2.78it/s]\n"
     ]
    }
   ],
   "source": [
    "max_workers = 10\n",
    "\n",
    "with ThreadPoolExecutor(max_workers=max_workers) as executor:\n",
    "    futures = [executor.submit(process_url, x) for x in hrefs]\n",
    "    \n",
    "    for future in tqdm(futures, total=len(hrefs)):\n",
    "        result = future.result()\n",
    "        if result:\n",
    "            with open('worldofbuzz.jsonl', 'a',encoding='utf8') as f:\n",
    "                json.dump(result, f,ensure_ascii=False)\n",
    "                f.write('\\n')"
   ]
  },
  {
   "cell_type": "code",
   "execution_count": null,
   "id": "993420be",
   "metadata": {},
   "outputs": [],
   "source": []
  }
 ],
 "metadata": {
  "kernelspec": {
   "display_name": "Python 3 (ipykernel)",
   "language": "python",
   "name": "python3"
  },
  "language_info": {
   "codemirror_mode": {
    "name": "ipython",
    "version": 3
   },
   "file_extension": ".py",
   "mimetype": "text/x-python",
   "name": "python",
   "nbconvert_exporter": "python",
   "pygments_lexer": "ipython3",
   "version": "3.8.10"
  }
 },
 "nbformat": 4,
 "nbformat_minor": 5
}
