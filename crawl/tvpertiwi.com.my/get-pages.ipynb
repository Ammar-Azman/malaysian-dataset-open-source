{
 "cells": [
  {
   "cell_type": "code",
   "execution_count": 1,
   "metadata": {},
   "outputs": [],
   "source": [
    "import requests\n",
    "from bs4 import BeautifulSoup\n",
    "from tqdm import tqdm\n",
    "import os\n",
    "import json\n",
    "import numpy as np\n",
    "import time\n",
    "import random\n",
    "import json\n",
    "from concurrent.futures import ThreadPoolExecutor, as_completed\n",
    "from datetime import datetime, timedelta"
   ]
  },
  {
   "cell_type": "code",
   "execution_count": 3,
   "metadata": {},
   "outputs": [
    {
     "data": {
      "text/plain": [
       "3626"
      ]
     },
     "execution_count": 3,
     "metadata": {},
     "output_type": "execute_result"
    }
   ],
   "source": [
    "from glob import glob\n",
    "\n",
    "files = glob('*.json')\n",
    "\n",
    "urls = []\n",
    "for f in files:\n",
    "    with open(f) as fopen:\n",
    "        urls.extend(json.load(fopen))\n",
    "\n",
    "urls = sorted(list(set(urls)))\n",
    "len(urls)"
   ]
  },
  {
   "cell_type": "code",
   "execution_count": 4,
   "metadata": {},
   "outputs": [],
   "source": [
    "url = urls[0]\n",
    "r = requests.get(url)\n",
    "soup = BeautifulSoup(r.content, \"lxml\")"
   ]
  },
  {
   "cell_type": "code",
   "execution_count": 6,
   "metadata": {},
   "outputs": [
    {
     "data": {
      "text/plain": [
       "'Sejarah Hitam 22 Bulan PH Memerintah | BONGKAR | Episod 8'"
      ]
     },
     "execution_count": 6,
     "metadata": {},
     "output_type": "execute_result"
    }
   ],
   "source": [
    "soup.find('h1').text"
   ]
  },
  {
   "cell_type": "code",
   "execution_count": 8,
   "metadata": {},
   "outputs": [
    {
     "data": {
      "text/plain": [
       "'\\n\\n\\n\\n\\n\\n0\\n\\n\\n\\n\\n\\xa0\\n\\n\\nSejarah Hitam 22 Bulan PH Memerintah Tanggal 9 Mei 2018 adalah tarikh keramat yang menyaksikan Pakatan Harapan (PH) berjaya menguasai Putrajaya. Ia dianggap satu kejayaan besar bagi gabungan parti PH iaitu Bersatu, PKR, DAP dan PAN mengalahkan kerajaan Barisan Nasional (BN) yang dilihat telah korup dan penuh dengan skandal rasuah. Hakikatnya, majoriti umat Islam dan Melayu merasakan tarikh itu adalah titik mula sejarah hitam bagi Malaysia. Saksikan Bongkar, jam \\n8:15\\n malam ini, eksklusif di TV Pertiwi. Ikuti laporan lanjut di TV Pertiwi. Juga boleh ditonton secara langsung di webTV www.pertiwi.tv atau di Youtube Tv Pertiwi. Sila Like, Komen & Share \\n#NormaBaharu\\n \\n#KekalDiRumah\\n \\n#Covid19\\n \\n#KitaMestiMenang\\n \\n#KitaJagaKita\\n \\n#tvpertiwi\\n \\n#DenyutJantungUmmah\\n\\n\\n\\n\\n\\n\\n\\n\\n\\n'"
      ]
     },
     "execution_count": 8,
     "metadata": {},
     "output_type": "execute_result"
    }
   ],
   "source": [
    "soup.find('article', {'class': 'post'}).get_text(separator=\"\\n\")"
   ]
  },
  {
   "cell_type": "code",
   "execution_count": 9,
   "metadata": {},
   "outputs": [
    {
     "name": "stderr",
     "output_type": "stream",
     "text": [
      "100%|███████████████████████████████████████████████████████████████████████████████████████████████████████| 3626/3626 [2:52:38<00:00,  2.86s/it]\n"
     ]
    }
   ],
   "source": [
    "data = []\n",
    "for url in tqdm(urls):\n",
    "    r = requests.get(url)\n",
    "    soup = BeautifulSoup(r.content, \"lxml\")\n",
    "    try:\n",
    "        data.append({\n",
    "            'url': url,\n",
    "            'title': soup.find('h1').text.strip(),\n",
    "            'body': soup.find('article', {'class': 'post'}).get_text(separator=\"\\n\").strip()\n",
    "        })\n",
    "    except:\n",
    "        pass"
   ]
  },
  {
   "cell_type": "code",
   "execution_count": 10,
   "metadata": {},
   "outputs": [
    {
     "data": {
      "text/plain": [
       "3626"
      ]
     },
     "execution_count": 10,
     "metadata": {},
     "output_type": "execute_result"
    }
   ],
   "source": [
    "len(data)"
   ]
  },
  {
   "cell_type": "code",
   "execution_count": 11,
   "metadata": {},
   "outputs": [
    {
     "data": {
      "text/plain": [
       "{'url': 'https://tvpertiwi.com.my/2020/05/29/sejarah-hitam-22-bulan-ph-memerintah-bongkar-episod-8/',\n",
       " 'title': 'Sejarah Hitam 22 Bulan PH Memerintah | BONGKAR | Episod 8',\n",
       " 'body': '0\\n\\n\\n\\n\\n\\xa0\\n\\n\\nSejarah Hitam 22 Bulan PH Memerintah Tanggal 9 Mei 2018 adalah tarikh keramat yang menyaksikan Pakatan Harapan (PH) berjaya menguasai Putrajaya. Ia dianggap satu kejayaan besar bagi gabungan parti PH iaitu Bersatu, PKR, DAP dan PAN mengalahkan kerajaan Barisan Nasional (BN) yang dilihat telah korup dan penuh dengan skandal rasuah. Hakikatnya, majoriti umat Islam dan Melayu merasakan tarikh itu adalah titik mula sejarah hitam bagi Malaysia. Saksikan Bongkar, jam \\n8:15\\n malam ini, eksklusif di TV Pertiwi. Ikuti laporan lanjut di TV Pertiwi. Juga boleh ditonton secara langsung di webTV www.pertiwi.tv atau di Youtube Tv Pertiwi. Sila Like, Komen & Share \\n#NormaBaharu\\n \\n#KekalDiRumah\\n \\n#Covid19\\n \\n#KitaMestiMenang\\n \\n#KitaJagaKita\\n \\n#tvpertiwi\\n \\n#DenyutJantungUmmah'}"
      ]
     },
     "execution_count": 11,
     "metadata": {},
     "output_type": "execute_result"
    }
   ],
   "source": [
    "data[0]"
   ]
  },
  {
   "cell_type": "code",
   "execution_count": 12,
   "metadata": {},
   "outputs": [],
   "source": [
    "with open('tvpertiwi.com.my.jsonl', 'w') as fopen:\n",
    "    for d in data:\n",
    "        fopen.write(f'{json.dumps(d)}\\n')"
   ]
  }
 ],
 "metadata": {
  "kernelspec": {
   "display_name": "Python 3 (ipykernel)",
   "language": "python",
   "name": "python3"
  },
  "language_info": {
   "codemirror_mode": {
    "name": "ipython",
    "version": 3
   },
   "file_extension": ".py",
   "mimetype": "text/x-python",
   "name": "python",
   "nbconvert_exporter": "python",
   "pygments_lexer": "ipython3",
   "version": "3.8.10"
  }
 },
 "nbformat": 4,
 "nbformat_minor": 4
}
