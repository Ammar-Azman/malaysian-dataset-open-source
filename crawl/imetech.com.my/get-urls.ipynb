{
 "cells": [
  {
   "cell_type": "code",
   "execution_count": 1,
   "metadata": {},
   "outputs": [],
   "source": [
    "import requests\n",
    "from bs4 import BeautifulSoup\n",
    "from tqdm import tqdm\n",
    "import os\n",
    "import json\n",
    "import numpy as np\n",
    "import time\n",
    "import random\n",
    "import json\n",
    "import urllib3\n",
    "urllib3.disable_warnings(urllib3.exceptions.InsecureRequestWarning)"
   ]
  },
  {
   "cell_type": "code",
   "execution_count": 2,
   "metadata": {},
   "outputs": [],
   "source": [
    "url = 'https://imetech.com.my/blog/page/30/?et_blog'\n",
    "r = requests.get(url)"
   ]
  },
  {
   "cell_type": "code",
   "execution_count": 3,
   "metadata": {},
   "outputs": [],
   "source": [
    "soup = BeautifulSoup(r.content, \"lxml\")"
   ]
  },
  {
   "cell_type": "code",
   "execution_count": 4,
   "metadata": {},
   "outputs": [
    {
     "data": {
      "text/plain": [
       "['https://imetech.com.my/whats-new-2010-configuration-publisher/',\n",
       " 'https://imetech.com.my/whats-new-2010-configuration-publisher/',\n",
       " 'https://imetech.com.my/the-power-of-photoview-360-photoshop/',\n",
       " 'https://imetech.com.my/answer-of-solidworks-word-puzzle/',\n",
       " 'https://imetech.com.my/good-job-from-3dvia-composer/',\n",
       " 'https://imetech.com.my/solidworks-education-edition/',\n",
       " 'https://imetech.com.my/whats-new-in-solidworks-2010-virtual-component/',\n",
       " 'https://imetech.com.my/solidworks-word-puzzle/',\n",
       " 'https://imetech.com.my/events-lets-go-simulate/',\n",
       " 'https://imetech.com.my/solidworks-floxpress/',\n",
       " 'https://imetech.com.my/new-user-interface-of-solidworks-simulation-xpress/']"
      ]
     },
     "execution_count": 4,
     "metadata": {},
     "output_type": "execute_result"
    }
   ],
   "source": [
    "a = soup.find_all('article')\n",
    "a = [a_.find('a').get('href') for a_ in a]\n",
    "a"
   ]
  },
  {
   "cell_type": "code",
   "execution_count": 5,
   "metadata": {},
   "outputs": [
    {
     "name": "stderr",
     "output_type": "stream",
     "text": [
      "125it [06:26,  3.09s/it]\n"
     ]
    }
   ],
   "source": [
    "def generator():\n",
    "    while True:\n",
    "        yield\n",
    "        \n",
    "index = 1\n",
    "all_a = []\n",
    "\n",
    "for _ in tqdm(generator()):\n",
    "    url = f'https://imetech.com.my/blog/page/{index}/?et_blog'\n",
    "    r = requests.get(url)\n",
    "    soup = BeautifulSoup(r.content, \"lxml\")\n",
    "\n",
    "    a = soup.find_all('article')\n",
    "    a = [a_.find('a').get('href') for a_ in a]\n",
    "    \n",
    "    if not len(a):\n",
    "        break\n",
    "        \n",
    "    all_a.extend(a)\n",
    "    \n",
    "    index += 1"
   ]
  },
  {
   "cell_type": "code",
   "execution_count": 7,
   "metadata": {},
   "outputs": [
    {
     "data": {
      "text/plain": [
       "486"
      ]
     },
     "execution_count": 7,
     "metadata": {},
     "output_type": "execute_result"
    }
   ],
   "source": [
    "urls = sorted(list(set(all_a)))\n",
    "len(urls)"
   ]
  },
  {
   "cell_type": "code",
   "execution_count": 12,
   "metadata": {},
   "outputs": [],
   "source": [
    "url = urls[1]\n",
    "r = requests.get(url)\n",
    "soup = BeautifulSoup(r.content, \"lxml\")"
   ]
  },
  {
   "cell_type": "code",
   "execution_count": 13,
   "metadata": {},
   "outputs": [
    {
     "data": {
      "text/plain": [
       "'3 dudes gone 3D'"
      ]
     },
     "execution_count": 13,
     "metadata": {},
     "output_type": "execute_result"
    }
   ],
   "source": [
    "soup.find('h1').text.strip()"
   ]
  },
  {
   "cell_type": "code",
   "execution_count": 14,
   "metadata": {},
   "outputs": [
    {
     "data": {
      "text/plain": [
       "'\\n\\nEverybody share, everybody win! This is the new day!\\n\\n\\nLet me put it right, SolidWorks moving into movie industry? Hmm.. interesting..\\n\\n\\nRecently SolidWorks Corp. post a new ‘movie’ into their website~\\n \\n3Dudes gone 3D\\n.\\n \\n\\n\\n \\n\\n\\nIt’s kinda funny but hey, this is what I like about SolidWorks, using Real innovative way to promote their products & educate us.\\n\\n\\nBack to the movie, there is a part where they were discussing about SolidWorks enterprise PDM , two words appeared from the VP, words that so..so perfectly describe SolidWorks enterprise PDM~\\n\\n\\nCollaboration efficiency!\\n \\n& I’m totally agree with it!\\n\\n\\nI not going to share much about the video content, it will better if you can watch & enjoy it by yourself.\\n\\n\\nDid I heard macrobating?\\n \\nClick me\\n to watch all the available episodes.\\n\\n\\n~Sew~\\n\\n'"
      ]
     },
     "execution_count": 14,
     "metadata": {},
     "output_type": "execute_result"
    }
   ],
   "source": [
    "soup.find('div', {'class': 'entry-content'}).get_text(separator=\"\\n\")"
   ]
  },
  {
   "cell_type": "code",
   "execution_count": 18,
   "metadata": {},
   "outputs": [
    {
     "name": "stderr",
     "output_type": "stream",
     "text": [
      "100%|███████████████████████████████████████████████████████████████████████████████████████████████████████████| 486/486 [25:51<00:00,  3.19s/it]\n"
     ]
    }
   ],
   "source": [
    "data = []\n",
    "for url in tqdm(urls):\n",
    "    r = requests.get(url)\n",
    "    soup = BeautifulSoup(r.content, \"lxml\")\n",
    "    try:\n",
    "        data.append({\n",
    "            'url': url,\n",
    "            'title': soup.find('h1').text.strip(),\n",
    "            'body': soup.find('div', {'class': 'entry-content'}).get_text(separator=\"\\n\"),\n",
    "        })\n",
    "    except:\n",
    "        pass"
   ]
  },
  {
   "cell_type": "code",
   "execution_count": 19,
   "metadata": {},
   "outputs": [
    {
     "data": {
      "text/plain": [
       "475"
      ]
     },
     "execution_count": 19,
     "metadata": {},
     "output_type": "execute_result"
    }
   ],
   "source": [
    "len(data)"
   ]
  },
  {
   "cell_type": "code",
   "execution_count": 20,
   "metadata": {},
   "outputs": [],
   "source": [
    "with open('imetech.com.my.jsonl', 'w') as fopen:\n",
    "    for d in data:\n",
    "        fopen.write(f'{json.dumps(d)}\\n')"
   ]
  }
 ],
 "metadata": {
  "kernelspec": {
   "display_name": "Python 3 (ipykernel)",
   "language": "python",
   "name": "python3"
  },
  "language_info": {
   "codemirror_mode": {
    "name": "ipython",
    "version": 3
   },
   "file_extension": ".py",
   "mimetype": "text/x-python",
   "name": "python",
   "nbconvert_exporter": "python",
   "pygments_lexer": "ipython3",
   "version": "3.8.10"
  }
 },
 "nbformat": 4,
 "nbformat_minor": 4
}
