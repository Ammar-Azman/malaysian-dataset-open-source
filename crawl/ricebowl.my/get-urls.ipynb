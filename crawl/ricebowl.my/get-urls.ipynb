{
 "cells": [
  {
   "cell_type": "code",
   "execution_count": 1,
   "metadata": {},
   "outputs": [],
   "source": [
    "import requests\n",
    "from bs4 import BeautifulSoup\n",
    "from tqdm import tqdm\n",
    "import os\n",
    "import json\n",
    "import numpy as np\n",
    "import time\n",
    "import random\n",
    "import json\n",
    "import urllib3\n",
    "urllib3.disable_warnings(urllib3.exceptions.InsecureRequestWarning)"
   ]
  },
  {
   "cell_type": "code",
   "execution_count": 7,
   "metadata": {},
   "outputs": [],
   "source": [
    "import requests\n",
    "\n",
    "cookies = {\n",
    "    'anonymousId': '7c4c0211-efa1-4e6b-b703-95c264d85491',\n",
    "    'app': '%7B%22auth%22%3A%7B%22token%22%3A%22%22%7D%7D',\n",
    "    'applies': '%7B%22fastApply%22%3A%7B%22allApplied%22%3A%5B%5D%7D%7D',\n",
    "    'exchanges': '%7B%22currency%22%3A%7B%22allExchange%22%3A%5B%7B%22convert%22%3A0.000306%2C%22from%22%3A%22IDR%22%2C%22to%22%3A%22MYR%22%7D%5D%7D%7D',\n",
    "    '_gid': 'GA1.2.1322091972.1694150905',\n",
    "    'twk_idm_key': 'Ta4-_mdGct5g4A5VOmgqG',\n",
    "    '_hjSessionUser_3620802': 'eyJpZCI6ImM5NGQ5Mjc2LThjNGUtNTFjZC1iZmNhLTVlNTE5YzEyYjNlMyIsImNyZWF0ZWQiOjE2OTQxNTA5MDQ5OTAsImV4aXN0aW5nIjp0cnVlfQ==',\n",
    "    '_hjSession_3620802': 'eyJpZCI6IjU0NjEwZGY5LTc5MDAtNDE3Zi05MDdmLTVjODdhY2Q5YzQ2MiIsImNyZWF0ZWQiOjE2OTQxNTcyNzQyMTcsImluU2FtcGxlIjpmYWxzZX0=',\n",
    "    '_hjAbsoluteSessionInProgress': '0',\n",
    "    'sid': 's%3Az6spneG-oavXjdcYLJccvSuNBqDhXOFE.Y7G%2FQVnEtSFGnVXPfoWkVqOkhnKDJNw8pKmkAfXgBSE',\n",
    "    '_vwo_uuid_v2': 'D03F41133D737F3279AFDA5F6EB4997C4|c127aeb37a0861f1ffd08795649c10d3',\n",
    "    '_hjIncludedInSessionSample_3620802': '0',\n",
    "    '_ga_8Y4054386N': 'GS1.1.1694157274.2.1.1694158908.59.0.0',\n",
    "    '_ga': 'GA1.2.526398141.1694150905',\n",
    "    '_gat': '1',\n",
    "    '_gat_gtag_UA_44814669_5': '1',\n",
    "    'TawkConnectionTime': '0',\n",
    "    'twk_uuid_55652e1d19120cff1852a17c': '%7B%22uuid%22%3A%221.70gdny7PCfisoPATwq8xJqQyc8vsuG9XpsCqfgDFDZhDwLzXrYebyg7NSXe1nA7BT07DPLLO0dbVTLhTYFAHIEivSi2Qq32B7peDZRwLjoxLtKOi9dGY%22%2C%22version%22%3A3%2C%22domain%22%3A%22ricebowl.my%22%2C%22ts%22%3A1694158909702%7D',\n",
    "}\n",
    "\n",
    "headers = {\n",
    "    'authority': 'www.ricebowl.my',\n",
    "    'accept': 'text/html,application/xhtml+xml,application/xml;q=0.9,image/avif,image/webp,image/apng,*/*;q=0.8,application/signed-exchange;v=b3;q=0.7',\n",
    "    'accept-language': 'en-MY,en;q=0.9,en-US;q=0.8,ms;q=0.7',\n",
    "    'cache-control': 'no-cache',\n",
    "    # 'cookie': 'anonymousId=7c4c0211-efa1-4e6b-b703-95c264d85491; app=%7B%22auth%22%3A%7B%22token%22%3A%22%22%7D%7D; applies=%7B%22fastApply%22%3A%7B%22allApplied%22%3A%5B%5D%7D%7D; exchanges=%7B%22currency%22%3A%7B%22allExchange%22%3A%5B%7B%22convert%22%3A0.000306%2C%22from%22%3A%22IDR%22%2C%22to%22%3A%22MYR%22%7D%5D%7D%7D; _gid=GA1.2.1322091972.1694150905; twk_idm_key=Ta4-_mdGct5g4A5VOmgqG; _hjSessionUser_3620802=eyJpZCI6ImM5NGQ5Mjc2LThjNGUtNTFjZC1iZmNhLTVlNTE5YzEyYjNlMyIsImNyZWF0ZWQiOjE2OTQxNTA5MDQ5OTAsImV4aXN0aW5nIjp0cnVlfQ==; _hjSession_3620802=eyJpZCI6IjU0NjEwZGY5LTc5MDAtNDE3Zi05MDdmLTVjODdhY2Q5YzQ2MiIsImNyZWF0ZWQiOjE2OTQxNTcyNzQyMTcsImluU2FtcGxlIjpmYWxzZX0=; _hjAbsoluteSessionInProgress=0; sid=s%3Az6spneG-oavXjdcYLJccvSuNBqDhXOFE.Y7G%2FQVnEtSFGnVXPfoWkVqOkhnKDJNw8pKmkAfXgBSE; _vwo_uuid_v2=D03F41133D737F3279AFDA5F6EB4997C4|c127aeb37a0861f1ffd08795649c10d3; _hjIncludedInSessionSample_3620802=0; _ga_8Y4054386N=GS1.1.1694157274.2.1.1694158908.59.0.0; _ga=GA1.2.526398141.1694150905; _gat=1; _gat_gtag_UA_44814669_5=1; TawkConnectionTime=0; twk_uuid_55652e1d19120cff1852a17c=%7B%22uuid%22%3A%221.70gdny7PCfisoPATwq8xJqQyc8vsuG9XpsCqfgDFDZhDwLzXrYebyg7NSXe1nA7BT07DPLLO0dbVTLhTYFAHIEivSi2Qq32B7peDZRwLjoxLtKOi9dGY%22%2C%22version%22%3A3%2C%22domain%22%3A%22ricebowl.my%22%2C%22ts%22%3A1694158909702%7D',\n",
    "    'pragma': 'no-cache',\n",
    "    'sec-ch-ua': '\"Chromium\";v=\"116\", \"Not)A;Brand\";v=\"24\", \"Google Chrome\";v=\"116\"',\n",
    "    'sec-ch-ua-mobile': '?0',\n",
    "    'sec-ch-ua-platform': '\"macOS\"',\n",
    "    'sec-fetch-dest': 'empty',\n",
    "    'sec-fetch-mode': 'navigate',\n",
    "    'sec-fetch-site': 'same-origin',\n",
    "    'upgrade-insecure-requests': '1',\n",
    "    'user-agent': 'Mozilla/5.0 (Macintosh; Intel Mac OS X 10_15_7) AppleWebKit/537.36 (KHTML, like Gecko) Chrome/116.0.0.0 Safari/537.36',\n",
    "}\n",
    "\n",
    "params = {\n",
    "    'page': '25',\n",
    "}\n",
    "\n",
    "response = requests.get('https://www.ricebowl.my/career-advice/blog', params=params, cookies=cookies, headers=headers)"
   ]
  },
  {
   "cell_type": "code",
   "execution_count": 13,
   "metadata": {},
   "outputs": [
    {
     "name": "stderr",
     "output_type": "stream",
     "text": [
      "100%|█████████████████████████████████████████████████████████████████████████████████████████████████████████████| 25/25 [00:09<00:00,  2.72it/s]\n"
     ]
    }
   ],
   "source": [
    "all_a = []\n",
    "\n",
    "for i in tqdm(range(1, 26, 1)):\n",
    "    params = {\n",
    "        'page': str(i),\n",
    "    }\n",
    "\n",
    "    response = requests.get('https://www.ricebowl.my/career-advice/blog', params=params, cookies=cookies, headers=headers)\n",
    "    soup = BeautifulSoup(response.content, \"lxml\")\n",
    "    div = soup.find_all('div', {'class': 'column is-full-mobile is-half-tablet'})\n",
    "    a = [div_.find('a').get('href') for div_ in div]\n",
    "    all_a.extend(a)"
   ]
  },
  {
   "cell_type": "code",
   "execution_count": 14,
   "metadata": {},
   "outputs": [
    {
     "data": {
      "text/plain": [
       "348"
      ]
     },
     "execution_count": 14,
     "metadata": {},
     "output_type": "execute_result"
    }
   ],
   "source": [
    "urls = sorted(list(set(all_a)))\n",
    "len(urls)"
   ]
  },
  {
   "cell_type": "code",
   "execution_count": 16,
   "metadata": {},
   "outputs": [],
   "source": [
    "response = requests.get('https://www.ricebowl.my' + urls[0], cookies=cookies, headers=headers)\n",
    "soup = BeautifulSoup(response.content, \"lxml\")"
   ]
  },
  {
   "cell_type": "code",
   "execution_count": 18,
   "metadata": {},
   "outputs": [
    {
     "data": {
      "text/plain": [
       "'Oh No! I Messed Up My Job Interview, What To Do?'"
      ]
     },
     "execution_count": 18,
     "metadata": {},
     "output_type": "execute_result"
    }
   ],
   "source": [
    "soup.find('h1').text"
   ]
  },
  {
   "cell_type": "code",
   "execution_count": 20,
   "metadata": {},
   "outputs": [
    {
     "data": {
      "text/plain": [
       "\"# Job Tips \\n \\nOh No! I Messed Up My Job Interview, What To Do?\\n \\n \\nby \\nDanial\\n \\n\\nFeb 13, 2019\\n\\n\\nat 4:04 PM\\n\\n \\nThere are a lot of things that can go wrong when you apply for a job and start the interview process. Don’t let the fear of making a mistake during the interview hold you back and learn to recover from mistakes with these tips.\\n\\n\\n1. I Missed the Phone Call, Now I Can't Even Get an Interview!\\n\\n\\n \\n\\n\\n \\nMissing the phone call and not following up to reschedule shows a lack of professionalism. But if you’ve already made this mistake, all is not lost. Follow up with your contact as soon as possible and take full responsibility for the blunder. Explain why you missed the call in the first place.\\n\\n\\n2. \\xa0Not Asking Any Questions\\n\\n\\n \\nYou have probably heard of this one a lot. When you’re having an insightful interview, you have the chance to dig deeper and ask questions. This is the way potential employer gauge your interest and passion.\\n\\n\\n \\nBut what if you just can’t think of a question in the middle of the interview? Relax, the next time you’re in touch with the interviewer, ask if it’s okay to take them up on their offer to ask questions and include some thoughtful ones in your email.\\n\\n\\n3. Not Being Able to Think of a Response\\n\\n\\n\\n\\n \\nWe’ve all been there. We’ve rehearsed our answers, yet when the moment arrives every thought disappears from our mind.\\n\\n\\n \\nIf you find yourself having \\xa0“brain freeze” try this strategy:\\n\\n\\n\\n\\n\\n\\n \\nAsk the interviewer to clarify the question, this should give you some time to regroup.\\n\\n\\n\\n\\n \\nRequest a few seconds to consider the question and prepare an answer.\\n\\n\\n\\n\\n \\nSay something. It’s better than nothing. Be honest and ask if you can come back to the question later.\\n\\n\\n4. \\xa0Not Directly Answering the Question that was Asked\\n\\n\\n \\nThis is the result of mistake no. 3. When your mind goes blank, you either evade the question or ramble on without giving relevant answer.\\n\\n\\n\\nTry to recover the gaffe by steering the conversation back to the tricky question. If you cringe at the moment after you’ve already left, send a follow-up email with a more thorough answer.\\n\\n\\n5. Not Knowing Enough About the Company\\n\\n\\n \\n\\n\\n \\nSometimes the interviewer asks what you know about their company, and you realized you don’t know a lot of things about the company.\\n\\n\\n \\nWhen you’re back from the interview, read as much as you could find about the company. Send them a thank-you email, apologise for the uninspired answer and list out what you know about the company.\\n\\n\\n \\nOne should always anticipate potential interview disasters ahead of time. Arm yourself with effective solutions to correct them, during and after the interview.\\n\\n\\n \\n \""
      ]
     },
     "execution_count": 20,
     "metadata": {},
     "output_type": "execute_result"
    }
   ],
   "source": [
    "soup.find('div', {'class': 'card-content has-padding-15'}).get_text(separator=\"\\n\")"
   ]
  },
  {
   "cell_type": "code",
   "execution_count": 21,
   "metadata": {},
   "outputs": [
    {
     "name": "stderr",
     "output_type": "stream",
     "text": [
      "100%|███████████████████████████████████████████████████████████████████████████████████████████████████████████| 348/348 [01:47<00:00,  3.24it/s]\n"
     ]
    }
   ],
   "source": [
    "data = []\n",
    "for url in tqdm(urls):\n",
    "    response = requests.get('https://www.ricebowl.my' + url, cookies=cookies, headers=headers)\n",
    "    soup = BeautifulSoup(response.content, \"lxml\")\n",
    "    data.append({\n",
    "        'url': url,\n",
    "        'title': soup.find('h1').text,\n",
    "        'body': soup.find('div', {'class': 'card-content has-padding-15'}).get_text(separator=\"\\n\")\n",
    "    })"
   ]
  },
  {
   "cell_type": "code",
   "execution_count": 22,
   "metadata": {},
   "outputs": [],
   "source": [
    "with open('ricebowl.my.jsonl', 'w') as fopen:\n",
    "    for d in data:\n",
    "        fopen.write(f'{json.dumps(d)}\\n')"
   ]
  },
  {
   "cell_type": "code",
   "execution_count": null,
   "metadata": {},
   "outputs": [],
   "source": []
  }
 ],
 "metadata": {
  "kernelspec": {
   "display_name": "Python 3 (ipykernel)",
   "language": "python",
   "name": "python3"
  },
  "language_info": {
   "codemirror_mode": {
    "name": "ipython",
    "version": 3
   },
   "file_extension": ".py",
   "mimetype": "text/x-python",
   "name": "python",
   "nbconvert_exporter": "python",
   "pygments_lexer": "ipython3",
   "version": "3.8.10"
  }
 },
 "nbformat": 4,
 "nbformat_minor": 4
}
