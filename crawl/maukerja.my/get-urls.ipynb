{
 "cells": [
  {
   "cell_type": "code",
   "execution_count": 1,
   "metadata": {},
   "outputs": [],
   "source": [
    "import requests\n",
    "from bs4 import BeautifulSoup\n",
    "from tqdm import tqdm\n",
    "import os\n",
    "import json\n",
    "import numpy as np\n",
    "import time\n",
    "import random\n",
    "import json\n",
    "import urllib3\n",
    "urllib3.disable_warnings(urllib3.exceptions.InsecureRequestWarning)"
   ]
  },
  {
   "cell_type": "code",
   "execution_count": 5,
   "metadata": {},
   "outputs": [],
   "source": [
    "headers = {\n",
    "    'Upgrade-Insecure-Requests': '1',\n",
    "    'User-Agent': 'Mozilla/5.0 (Macintosh; Intel Mac OS X 10_15_7) AppleWebKit/537.36 (KHTML, like Gecko) Chrome/116.0.0.0 Safari/537.36',\n",
    "    'sec-ch-ua': '\"Chromium\";v=\"116\", \"Not)A;Brand\";v=\"24\", \"Google Chrome\";v=\"116\"',\n",
    "    'sec-ch-ua-mobile': '?0',\n",
    "    'sec-ch-ua-platform': '\"macOS\"',\n",
    "}"
   ]
  },
  {
   "cell_type": "code",
   "execution_count": 6,
   "metadata": {},
   "outputs": [],
   "source": [
    "r = requests.get('https://www.maukerja.my/career-advice/blog?page=749', headers = headers)\n",
    "soup = BeautifulSoup(r.content, \"lxml\")"
   ]
  },
  {
   "cell_type": "code",
   "execution_count": 9,
   "metadata": {},
   "outputs": [
    {
     "data": {
      "text/plain": [
       "['/career-advice/blog/ms/1831/senarai-body-language-yang-boleh-gagalkan-temuduga',\n",
       " '/career-advice/blog/ms/1829/ini-cara-untuk-minta-kerajaan-bayarkan-10-bagi-rumah-pertama-anda!',\n",
       " '/career-advice/blog/ms/1828/ini-antara-sebab-utama-anda-tak-lulus-temuduga-kerja-8-paling-ramai-buat!',\n",
       " '/career-advice/blog/ms/1823/17-tahun--mengandung-belum-kahwin-tempias-doktor-ini-agar-jangan-mudah-hukum-orang',\n",
       " '/career-advice/blog/ms/1824/lagi-5-jawatan-kosong-sebagai-admin-kami-tawarkan-untuk-anda',\n",
       " '/career-advice/blog/ms/1821/mmc-gamuda-kvmrt-t-sdn-bhd-menyediakan-31-jawatan-kosong-untuk-anda',\n",
       " '/career-advice/blog/ms/1562/design-resume-awesome-ini-akan-buat-anda-lebih-special-dari-candidate-lain!',\n",
       " '/career-advice/blog/ms/1206/lagi-5-jawatan-kosong-sebagai-admin-kami-twarkan-untuk-anda']"
      ]
     },
     "execution_count": 9,
     "metadata": {},
     "output_type": "execute_result"
    }
   ],
   "source": [
    "div = soup.find_all('div', {'class': 'column is-full-mobile is-half-tablet'})\n",
    "a = [div_.find('a').get('href') for div_ in div]\n",
    "a"
   ]
  },
  {
   "cell_type": "code",
   "execution_count": 11,
   "metadata": {},
   "outputs": [
    {
     "name": "stderr",
     "output_type": "stream",
     "text": [
      "100%|███████████████████████████████████████████████████████████████████████████████████████████████████████████| 749/749 [04:47<00:00,  2.61it/s]\n"
     ]
    }
   ],
   "source": [
    "all_a = []\n",
    "for i in tqdm(range(1, 750, 1)):\n",
    "    r = requests.get(f'https://www.maukerja.my/career-advice/blog?page={i}', headers = headers)\n",
    "    soup = BeautifulSoup(r.content, \"lxml\")\n",
    "    div = soup.find_all('div', {'class': 'column is-full-mobile is-half-tablet'})\n",
    "    a = [div_.find('a').get('href') for div_ in div]\n",
    "    all_a.extend(a)"
   ]
  },
  {
   "cell_type": "code",
   "execution_count": 13,
   "metadata": {},
   "outputs": [],
   "source": [
    "with open('urls.json', 'w') as fopen:\n",
    "    json.dump(list(set(all_a)), fopen)"
   ]
  }
 ],
 "metadata": {
  "kernelspec": {
   "display_name": "Python 3 (ipykernel)",
   "language": "python",
   "name": "python3"
  },
  "language_info": {
   "codemirror_mode": {
    "name": "ipython",
    "version": 3
   },
   "file_extension": ".py",
   "mimetype": "text/x-python",
   "name": "python",
   "nbconvert_exporter": "python",
   "pygments_lexer": "ipython3",
   "version": "3.8.10"
  }
 },
 "nbformat": 4,
 "nbformat_minor": 4
}
