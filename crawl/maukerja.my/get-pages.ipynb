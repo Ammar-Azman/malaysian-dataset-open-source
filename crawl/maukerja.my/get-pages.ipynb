{
 "cells": [
  {
   "cell_type": "code",
   "execution_count": 1,
   "metadata": {},
   "outputs": [],
   "source": [
    "import requests\n",
    "from bs4 import BeautifulSoup\n",
    "from tqdm import tqdm\n",
    "import os\n",
    "import json\n",
    "import numpy as np\n",
    "import time\n",
    "import random\n",
    "import json\n",
    "import urllib3\n",
    "urllib3.disable_warnings(urllib3.exceptions.InsecureRequestWarning)"
   ]
  },
  {
   "cell_type": "code",
   "execution_count": 2,
   "metadata": {},
   "outputs": [],
   "source": [
    "with open('urls.json') as fopen:\n",
    "    urls = sorted(json.load(fopen))"
   ]
  },
  {
   "cell_type": "code",
   "execution_count": 3,
   "metadata": {
    "scrolled": true
   },
   "outputs": [
    {
     "data": {
      "text/plain": [
       "10480"
      ]
     },
     "execution_count": 3,
     "metadata": {},
     "output_type": "execute_result"
    }
   ],
   "source": [
    "len(urls)"
   ]
  },
  {
   "cell_type": "code",
   "execution_count": 4,
   "metadata": {},
   "outputs": [],
   "source": [
    "headers = {\n",
    "    'Upgrade-Insecure-Requests': '1',\n",
    "    'User-Agent': 'Mozilla/5.0 (Macintosh; Intel Mac OS X 10_15_7) AppleWebKit/537.36 (KHTML, like Gecko) Chrome/116.0.0.0 Safari/537.36',\n",
    "    'sec-ch-ua': '\"Chromium\";v=\"116\", \"Not)A;Brand\";v=\"24\", \"Google Chrome\";v=\"116\"',\n",
    "    'sec-ch-ua-mobile': '?0',\n",
    "    'sec-ch-ua-platform': '\"macOS\"',\n",
    "}"
   ]
  },
  {
   "cell_type": "code",
   "execution_count": 15,
   "metadata": {},
   "outputs": [
    {
     "data": {
      "text/plain": [
       "'https://www.maukerja.my/career-advice/blog/20663/Dibuang-Kerja-24-Jam-Siapa-Sangka-Buih-Sabun-Kanak-Kanak-Jadi-Punca-Rezeki-Modal-RM300'"
      ]
     },
     "execution_count": 15,
     "metadata": {},
     "output_type": "execute_result"
    }
   ],
   "source": [
    "'https://www.maukerja.my' + urls[0]"
   ]
  },
  {
   "cell_type": "code",
   "execution_count": 9,
   "metadata": {},
   "outputs": [],
   "source": [
    "r = requests.get('https://www.maukerja.my' + urls[0], headers = headers)"
   ]
  },
  {
   "cell_type": "code",
   "execution_count": 11,
   "metadata": {},
   "outputs": [],
   "source": [
    "soup = BeautifulSoup(r.content, \"lxml\")"
   ]
  },
  {
   "cell_type": "code",
   "execution_count": 13,
   "metadata": {},
   "outputs": [
    {
     "data": {
      "text/plain": [
       "\"Dibuang Kerja 24 Jam, Siapa Sangka 'Buih Sabun Kanak-Kanak' Jadi Punca Rezeki, Modal RM300!\""
      ]
     },
     "execution_count": 13,
     "metadata": {},
     "output_type": "execute_result"
    }
   ],
   "source": [
    "soup.find('h1').text"
   ]
  },
  {
   "cell_type": "code",
   "execution_count": 16,
   "metadata": {},
   "outputs": [
    {
     "data": {
      "text/plain": [
       "\"# Inspirasi & Kerjaya (Mau Sembang) \\n \\nDibuang Kerja 24 Jam, Siapa Sangka 'Buih Sabun Kanak-Kanak' Jadi Punca Rezeki, Modal RM300!\\n \\n \\nby \\nHaziqah Muhamad\\n \\n\\nApr 8, 2019\\n\\n\\npada 6:47 PM\\n\\n \\nMelayari kehidupan kadang kala ada jatuh dan naiknya. Begitulah yang berlaku pada pasangan ini yang dahulunya miliki kerjaya yang begitu kukuh. Keduanya dalam jurusan kejuruteraan dan boleh dikira cemerlang ketika di universiti dulu. Kami temubual pasangan Fariz dan Nashwa yang pernah alami pengalaman di buang kerja dan kepayahan untuk menempatkan diri dalam dunia kerjaya.\\n\\n\\n \\n\\xa0\\n\\n\\nTONTON VIDEO INI >>>\\xa0\\nGAJI SEORANG PENJUAL BUBBLE\\n\\n\\n \\n\\xa0\\n\\n\\nDIBUANG KERJA 24 JAM\\n\\n\\n \\n“Saya dulunya bekerja dalam bidang kejuruteraan. Boleh dikatakan kehidupan ketika itu memang senang. Gaji yang kami kumpul sebulan bersama dilihat satu angka yang boleh kami sifatkan sebagai ‘selesa’. Tapi siapa sangka perjalanan itu di uji apabila saya di minta untuk berhenti dan notis yang di keluarkan selama 24jam. Saya sendiri rasa kecewa kerana ia berlaku tepat pada tarikh hari lahir saya. Tapi apakan daya ketika itu industri kejuruteraan di ambang kritikal yang sangat teruk. – ulas Fariz\\n\\n\\n \\n“Saya yakin bukan saya sahaja yang pernah lalui ini tetapi ramai lagi yang senasib seperti saya. Apa yang lagi perit apabila saya ada ada tanggungjawab anak yang baru dilahirkan serta isteri yang baru sahaja berhenti kerja ia buat kan saya makin runsing untuk mencari punca pendapatan lain. Ekoran dari saya berhenti kerja sebenarnya banyak mengubah hidup kami sekeluarga.”\\n\\n\\n \\n\\xa0\\n\\n\\nMODAL RM300 BUAT RAMUAN SABUN DARI RESEPI GOOGLE\\n\\n\\n \\n“Saya dan suami bersama anak pergi ke taman awam yang terletak di TTDI. Kami ke sana untuk meluangkan masa bersama dan mencari angin petang untuk redakan kemelut kerjaya yang berlaku kepada kami sekeluarga. Siapa sangka dalam kami diuji, pelbagai idea yang datang terasuk kami juga pernah jual barang orang lain, menjadi ajen dan stokis untuk produk lain. Syukur dari situ adalah sedikit pendapatan untuk tampung kehidupan.\\n\\n\\n \\nCukup untuk bayar bil, makan minum tapi untuk bermewah-mewah belum lagi. Tapi, kami yakin suatu hari akan ada sesuatu yang mampu buat kami bangga dengan apa yang kita lakukan. Jadi dari situ saya terfikir untuk jual belon sabun untuk kanak-kanak bermain.\\n\\n\\n \\nSaya google cara untuk buat buih yang berkualiti. Suami dan saya dari latar belakang kejuruteraan, malah ia lebih membantu untuk hasilkan produk yang lebih inovasi dan tersendiri. Stick untuk hasilkan buih pula kami cuba untuk cipta sesuatu yang lebih tahan lama.\\n\\n\\n \\nPenggunaan kain material cotton buat sabun meresap lebih banyak dan akan menghasilkan buih yang lebih besar. Ya, akhirnya ilmu kejuruteraan yang kami bergolok gadai pelajari di university kami aplikasi kan dalam bisnes kecil ini. Dari situlah terhasilnya \\nkiddos bubble\\n.\\n\\n\\n \\nPada awalnya sambutan tidaklah meriah seperti hari ini, modal awal juga tidaklah tinggi. Bermula dengan modal RM300 kami buat ramuan sabun, lable, serta beberapa planning makerting seperti bunting dan banner. Siapa sangka sehari kami boleh cecah untung sebanyak hampir RM1,000. Bayangkan kami hanya lakukan perniagaan ini pada awalnya pada waktu hujung minggu sahaja. Anda sendiri boleh congak berapa keuntungan hanya dengan jual bubble sahaja...”\\n\\n\\n \\n\\xa0\\n\\n\\n \\n\\n\\n \\n\\xa0\\n\\n\\nGAJI PENJUAL SABUN LEBIH BANYAK DARI SEORANG ENGINEER\\n\\n\\n \\n“Usaha itu penting, kami juga sedar bahawa dalam kehidupan harus ada back up plan. Kami dulu pernah rasa selesa dengan apa yang kami ada. Tetapi malangnya kami tiada back up plan dalam hidup tapi syukur saya sekurang nya bermula dari tiada apa-apa dan kini Jenama Kiddos Bubble sudah mula mendapat sambutan. Boleh saya katakan jual sabun di taman pendapat untuk sebulan jauh lebih tinggi dari seorang engineer.”\\n\\n\\n \\nBegitulah kehidupan, adakalanya kita harus bersedia untuk tempuhi benda besar yang bakal melanda di masa akan datang. Hakikatnya, dalam apa jua bidang yang kita ceburi, jangan pernah untuk rasa terlalu selesa. Kerana keselesaan itu juga ibarat hikayat ‘telur di hujung tanduk’. Ada masa ia jatuh bila digegar malah ia juga akan jatuh jika tidak diimbang.\\n\\n\\n \\n\\xa0\\n\\n\\n \\nFB Official: \\nKiddos Bubble\\n\\n\\n \\nInstagram Official:\\xa0\\nkiddosbubblemalaysia\\n\\n\\n \\n\\xa0\\n\\n\\n \\n \""
      ]
     },
     "execution_count": 16,
     "metadata": {},
     "output_type": "execute_result"
    }
   ],
   "source": [
    "soup.find('div', {'class': 'card-content has-padding-15'}).get_text(separator=\"\\n\")"
   ]
  },
  {
   "cell_type": "code",
   "execution_count": 17,
   "metadata": {},
   "outputs": [],
   "source": [
    "!mkdir page"
   ]
  },
  {
   "cell_type": "code",
   "execution_count": 18,
   "metadata": {},
   "outputs": [
    {
     "name": "stderr",
     "output_type": "stream",
     "text": [
      "10480it [1:03:46,  2.74it/s]\n"
     ]
    }
   ],
   "source": [
    "for no, url in tqdm(enumerate(urls)):\n",
    "    filename = os.path.join('page', f'{no}.json')\n",
    "    if os.path.exists(filename):\n",
    "        continue\n",
    "    \n",
    "    success = False\n",
    "    while True:\n",
    "        try:\n",
    "            r = requests.get('https://www.maukerja.my' + url, headers = headers)\n",
    "            success = True\n",
    "            break\n",
    "        except Exception as e:\n",
    "            if 'xceeded 30 redirects' in str(e):\n",
    "                break\n",
    "            time.sleep(1.0)\n",
    "            \n",
    "    if not success:\n",
    "        continue\n",
    "            \n",
    "    soup = BeautifulSoup(r.content, \"lxml\")\n",
    "\n",
    "    try:\n",
    "        title = soup.find('h1').text\n",
    "    except Exception as e:\n",
    "        title = None\n",
    "\n",
    "    try:\n",
    "        body = soup.find('div', {'class': 'card-content has-padding-15'}).get_text(separator=\"\\n\")\n",
    "    except Exception as e:\n",
    "        body = None\n",
    "\n",
    "    data = {\n",
    "        'url': url,\n",
    "        'title': title,\n",
    "        'body': body,\n",
    "    }\n",
    "    with open(filename, 'w') as fopen:\n",
    "        json.dump(data, fopen)"
   ]
  },
  {
   "cell_type": "code",
   "execution_count": 19,
   "metadata": {},
   "outputs": [
    {
     "data": {
      "text/plain": [
       "10480"
      ]
     },
     "execution_count": 19,
     "metadata": {},
     "output_type": "execute_result"
    }
   ],
   "source": [
    "from glob import glob\n",
    "\n",
    "files = glob('page/*.json')\n",
    "len(files)"
   ]
  },
  {
   "cell_type": "code",
   "execution_count": 20,
   "metadata": {},
   "outputs": [],
   "source": [
    "with open('maukerja.my.jsonl', 'w') as fopen_l:\n",
    "    for f in files:\n",
    "        with open(f) as fopen:\n",
    "            d = json.load(fopen)\n",
    "        fopen_l.write(f'{json.dumps(d)}\\n')"
   ]
  }
 ],
 "metadata": {
  "kernelspec": {
   "display_name": "Python 3 (ipykernel)",
   "language": "python",
   "name": "python3"
  },
  "language_info": {
   "codemirror_mode": {
    "name": "ipython",
    "version": 3
   },
   "file_extension": ".py",
   "mimetype": "text/x-python",
   "name": "python",
   "nbconvert_exporter": "python",
   "pygments_lexer": "ipython3",
   "version": "3.8.10"
  }
 },
 "nbformat": 4,
 "nbformat_minor": 4
}
