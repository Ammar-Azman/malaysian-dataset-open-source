{
 "cells": [
  {
   "cell_type": "code",
   "execution_count": 1,
   "metadata": {},
   "outputs": [],
   "source": [
    "import requests\n",
    "from bs4 import BeautifulSoup\n",
    "from tqdm import tqdm\n",
    "import os\n",
    "import json\n",
    "import numpy as np\n",
    "import time\n",
    "import random\n",
    "import json"
   ]
  },
  {
   "cell_type": "code",
   "execution_count": 2,
   "metadata": {},
   "outputs": [],
   "source": [
    "r = requests.get('https://lipstiq.com/fashion/')\n",
    "soup = BeautifulSoup(r.content, \"lxml\")"
   ]
  },
  {
   "cell_type": "code",
   "execution_count": 6,
   "metadata": {},
   "outputs": [],
   "source": [
    "topics = [\n",
    "    'https://lipstiq.com/fashion/',\n",
    "    'https://lipstiq.com/wellness/',\n",
    "    'https://lipstiq.com/parenting/',\n",
    "    'https://lipstiq.com/celebrity-entertainment/',\n",
    "    'https://lipstiq.com/lifestyle/'\n",
    "]"
   ]
  },
  {
   "cell_type": "code",
   "execution_count": 7,
   "metadata": {},
   "outputs": [],
   "source": [
    "r = requests.get('https://lipstiq.com/lifestyle/')\n",
    "soup = BeautifulSoup(r.content, \"lxml\")"
   ]
  },
  {
   "cell_type": "code",
   "execution_count": 12,
   "metadata": {},
   "outputs": [],
   "source": [
    "a = soup.find_all('a', {'class': 'page_number'})\n",
    "page_nums = []\n",
    "for a_ in a:\n",
    "    try:\n",
    "        page_nums.append(int(a_.text))\n",
    "    except:\n",
    "        pass\n",
    "\n",
    "if len(page_nums):\n",
    "    max_page = max(page_nums)\n",
    "else:\n",
    "    max_page = 1"
   ]
  },
  {
   "cell_type": "code",
   "execution_count": 16,
   "metadata": {},
   "outputs": [
    {
     "data": {
      "text/plain": [
       "['https://lipstiq.com/219040/wed-like-to-cu-with-cu-x-christy-ngs-adorbs-new-tote-bag/',\n",
       " 'https://lipstiq.com/218971/6-things-that-make-eslite-spectrum-the-boss-of-bookstores/',\n",
       " 'https://lipstiq.com/218838/indoor-compost-machine-reencle-is-here-to-kick-food-waste-butt/',\n",
       " 'https://lipstiq.com/217793/star-sign-stereotypes-that-are-total-bs/',\n",
       " 'https://lipstiq.com/217268/best-film-cameras-for-beginners-cuz-theyre-the-photobomb/',\n",
       " 'https://lipstiq.com/214692/5-tips-on-creating-the-dopest-at-home-bar/',\n",
       " 'https://lipstiq.com/212405/say-whassup-to-adidas-membership-programme-adiclub/',\n",
       " 'https://lipstiq.com/211968/isetan-the-gardens-sprouts-new-shopping-dining-experience/',\n",
       " 'https://lipstiq.com/211954/wanna-be-that-girl-the-galaxy-watch5-series-gotchu/',\n",
       " 'https://lipstiq.com/210200/traveloka-chef-wan-team-up-to-serve-a-malaysian-feast/',\n",
       " 'https://lipstiq.com/208346/and-the-most-tattooed-zodiac-sign-is/',\n",
       " 'https://lipstiq.com/205921/get-graduation-gifts-people-actually-want/']"
      ]
     },
     "execution_count": 16,
     "metadata": {},
     "output_type": "execute_result"
    }
   ],
   "source": [
    "articles = soup.find_all('article', {'class': 'jeg_post jeg_pl_md_1 format-standard'})\n",
    "a = [articles_.find('a').get('href') for articles_ in articles]\n",
    "a"
   ]
  },
  {
   "cell_type": "code",
   "execution_count": 17,
   "metadata": {},
   "outputs": [],
   "source": [
    "!mkdir url"
   ]
  },
  {
   "cell_type": "code",
   "execution_count": 18,
   "metadata": {},
   "outputs": [
    {
     "name": "stdout",
     "output_type": "stream",
     "text": [
      "https://lipstiq.com/fashion/\n"
     ]
    },
    {
     "name": "stderr",
     "output_type": "stream",
     "text": [
      "100%|█████████████████████████████████████████████████████████████████████████████████████████████| 29/29 [04:17<00:00,  8.86s/it]\n"
     ]
    },
    {
     "name": "stdout",
     "output_type": "stream",
     "text": [
      "https://lipstiq.com/wellness/\n"
     ]
    },
    {
     "name": "stderr",
     "output_type": "stream",
     "text": [
      "100%|███████████████████████████████████████████████████████████████████████████████████████████| 115/115 [17:48<00:00,  9.29s/it]\n"
     ]
    },
    {
     "name": "stdout",
     "output_type": "stream",
     "text": [
      "https://lipstiq.com/parenting/\n"
     ]
    },
    {
     "name": "stderr",
     "output_type": "stream",
     "text": [
      "100%|█████████████████████████████████████████████████████████████████████████████████████████████| 19/19 [02:31<00:00,  7.99s/it]\n"
     ]
    },
    {
     "name": "stdout",
     "output_type": "stream",
     "text": [
      "https://lipstiq.com/celebrity-entertainment/\n"
     ]
    },
    {
     "name": "stderr",
     "output_type": "stream",
     "text": [
      "100%|███████████████████████████████████████████████████████████████████████████████████████████| 241/241 [36:16<00:00,  9.03s/it]\n"
     ]
    },
    {
     "name": "stdout",
     "output_type": "stream",
     "text": [
      "https://lipstiq.com/lifestyle/\n"
     ]
    },
    {
     "name": "stderr",
     "output_type": "stream",
     "text": [
      "100%|█████████████████████████████████████████████████████████████████████████████████████████████| 28/28 [03:35<00:00,  7.69s/it]\n"
     ]
    }
   ],
   "source": [
    "for t in topics:\n",
    "    print(t)\n",
    "    t_ = t.split('com/')[1].replace('/', '-')\n",
    "    \n",
    "    r = requests.get(t)\n",
    "    soup = BeautifulSoup(r.content, \"lxml\")\n",
    "    a = soup.find_all('a', {'class': 'page_number'})\n",
    "    page_nums = []\n",
    "    for a_ in a:\n",
    "        try:\n",
    "            page_nums.append(int(a_.text))\n",
    "        except:\n",
    "            pass\n",
    "\n",
    "    if len(page_nums):\n",
    "        max_page = max(page_nums)\n",
    "    else:\n",
    "        max_page = 1\n",
    "        \n",
    "    for index in tqdm(range(1, max_page + 1, 1)):\n",
    "    \n",
    "        filename = os.path.join('url', f'{t_}-{index}.json')\n",
    "        if os.path.exists(filename):\n",
    "            index += 1\n",
    "            continue\n",
    "        \n",
    "        r = requests.get(f'{t}page/{index}/')\n",
    "        soup = BeautifulSoup(r.content, \"lxml\")\n",
    "        articles = soup.find_all('article', {'class': 'jeg_post jeg_pl_md_1 format-standard'})\n",
    "        a = [articles_.find('a').get('href') for articles_ in articles]\n",
    "        \n",
    "        with open(filename, 'w') as fopen:\n",
    "            json.dump(a, fopen)\n",
    "            \n",
    "        index += 1"
   ]
  },
  {
   "cell_type": "code",
   "execution_count": null,
   "metadata": {},
   "outputs": [],
   "source": []
  }
 ],
 "metadata": {
  "kernelspec": {
   "display_name": "Python 3 (ipykernel)",
   "language": "python",
   "name": "python3"
  },
  "language_info": {
   "codemirror_mode": {
    "name": "ipython",
    "version": 3
   },
   "file_extension": ".py",
   "mimetype": "text/x-python",
   "name": "python",
   "nbconvert_exporter": "python",
   "pygments_lexer": "ipython3",
   "version": "3.8.10"
  }
 },
 "nbformat": 4,
 "nbformat_minor": 4
}
