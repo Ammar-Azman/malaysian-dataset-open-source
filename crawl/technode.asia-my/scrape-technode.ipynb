{
 "cells": [
  {
   "cell_type": "code",
   "execution_count": 2,
   "metadata": {},
   "outputs": [],
   "source": [
    "import requests\n",
    "from scrapy.selector import Selector\n",
    "import re\n",
    "from requests_html import HTMLSession\n",
    "import json\n",
    "import time\n",
    "from tqdm import tqdm"
   ]
  },
  {
   "cell_type": "code",
   "execution_count": 10,
   "metadata": {},
   "outputs": [
    {
     "name": "stderr",
     "output_type": "stream",
     "text": [
      "100%|██████████| 78/78 [11:54<00:00,  9.16s/it] \n"
     ]
    }
   ],
   "source": [
    "exclusion = ['\\xa0']\n",
    "regex_pattern_replacements = re.compile(*exclusion)\n",
    "\n",
    "items = []\n",
    "for page in tqdm(range(1, 79, 1)):\n",
    "# Note: manually checked, theres only 78 pages as of 4 Feb 2024\n",
    "    landing_page_response = HTMLSession().get(f\"https://technode.global/category/onlocation/malaysia/?upage={page}\")\n",
    "    urls = Selector(landing_page_response).xpath('//h3[@class=\"t-entry-title h3 title-scale\"]//@href').getall()\n",
    "    titles = Selector(landing_page_response).xpath('//h3[@class=\"t-entry-title h3 title-scale\"]/a').css('::text').getall()\n",
    "\n",
    "    for i,x in enumerate(urls):\n",
    "        contents = {}\n",
    "        texts = []\n",
    "        response = HTMLSession().get(x)\n",
    "        articles = Selector(response).css('div.post-body div.row-container > div h2,p')\n",
    "        for x in articles:\n",
    "            header_text = x.css('h2::text')\n",
    "            if header_text:\n",
    "                header_text = re.sub(regex_pattern_replacements, '', header_text.get())\n",
    "                texts.append(header_text)\n",
    "            else:\n",
    "                para_text = x.css('::text').get()\n",
    "                if para_text == None: \n",
    "                    continue\n",
    "                para_text = re.sub(regex_pattern_replacements, '', para_text)\n",
    "                texts.append(para_text)\n",
    "        texts = ''.join(texts[:-3]) # -3 because in every page got \"Analysis, About, and TNGlobalTechNode EN\" to be excluded\n",
    "        texts = re.sub('\\.(?!\\s|\\d|$)', '. ', texts)\n",
    "        \n",
    "        contents['url'] = urls[i]\n",
    "        contents['page'] = page\n",
    "        contents['title'] = titles[i]\n",
    "        contents['contents'] = ''.join(texts)\n",
    "        items.append(contents)\n",
    "        with open('data.json', 'w', encoding='utf8') as f:\n",
    "            f.write(json.dumps(items))\n",
    "    time.sleep(2) \n",
    "# items"
   ]
  }
 ],
 "metadata": {
  "kernelspec": {
   "display_name": "python311env",
   "language": "python",
   "name": "python3"
  },
  "language_info": {
   "codemirror_mode": {
    "name": "ipython",
    "version": 3
   },
   "file_extension": ".py",
   "mimetype": "text/x-python",
   "name": "python",
   "nbconvert_exporter": "python",
   "pygments_lexer": "ipython3",
   "version": "3.11.4"
  }
 },
 "nbformat": 4,
 "nbformat_minor": 2
}
