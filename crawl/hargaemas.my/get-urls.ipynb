{
 "cells": [
  {
   "cell_type": "code",
   "execution_count": 1,
   "metadata": {},
   "outputs": [],
   "source": [
    "import requests\n",
    "from bs4 import BeautifulSoup\n",
    "from tqdm import tqdm\n",
    "import os\n",
    "import json\n",
    "import numpy as np\n",
    "import time\n",
    "import random\n",
    "import json\n",
    "import urllib3\n",
    "urllib3.disable_warnings(urllib3.exceptions.InsecureRequestWarning)"
   ]
  },
  {
   "cell_type": "code",
   "execution_count": 3,
   "metadata": {},
   "outputs": [],
   "source": [
    "r = requests.get('https://hargaemas.com.my/page/2')\n",
    "soup = BeautifulSoup(r.content, \"lxml\")"
   ]
  },
  {
   "cell_type": "code",
   "execution_count": 5,
   "metadata": {},
   "outputs": [
    {
     "data": {
      "text/plain": [
       "['https://hargaemas.com.my/harga-emas-hari-ini-11-7-2023-naik-rm289-89/',\n",
       " 'https://hargaemas.com.my/harga-emas-hari-ini-11-7-2023-naik-rm289-89/',\n",
       " 'https://hargaemas.com.my/harga-emas-hari-ini-10-7-2023-turun-rm289-13/',\n",
       " 'https://hargaemas.com.my/harga-emas-hari-ini-10-7-2023-turun-rm289-13/',\n",
       " 'https://hargaemas.com.my/harga-emas-hari-ini-9-7-2023-naik-rm290-26/',\n",
       " 'https://hargaemas.com.my/harga-emas-hari-ini-9-7-2023-naik-rm290-26/',\n",
       " 'https://hargaemas.com.my/harga-emas-hari-ini-8-7-2023-turun-rm276-65/',\n",
       " 'https://hargaemas.com.my/harga-emas-hari-ini-8-7-2023-turun-rm276-65/']"
      ]
     },
     "execution_count": 5,
     "metadata": {},
     "output_type": "execute_result"
    }
   ],
   "source": [
    "a = soup.find_all('a', {'rel':\"bookmark\"})\n",
    "a = [a_.get('href') for a_ in a]\n",
    "a"
   ]
  },
  {
   "cell_type": "code",
   "execution_count": 6,
   "metadata": {},
   "outputs": [],
   "source": [
    "!mkdir url"
   ]
  },
  {
   "cell_type": "code",
   "execution_count": 8,
   "metadata": {},
   "outputs": [
    {
     "name": "stderr",
     "output_type": "stream",
     "text": [
      "100%|█████████████████████████████████████████| 993/993 [27:31<00:00,  1.66s/it]\n"
     ]
    }
   ],
   "source": [
    "for i in tqdm(range(1, 994, 1)):\n",
    "    filename = os.path.join('url', f'{i}.json')\n",
    "    if os.path.exists(filename):\n",
    "        continue\n",
    "    r = requests.get(f'https://hargaemas.com.my/page/{i}/')\n",
    "    soup = BeautifulSoup(r.content, \"lxml\")\n",
    "    a = soup.find_all('a', {'rel':\"bookmark\"})\n",
    "    a = [a_.get('href') for a_ in a]\n",
    "    \n",
    "    with open(filename, 'w') as fopen:\n",
    "        json.dump(a, fopen)"
   ]
  },
  {
   "cell_type": "code",
   "execution_count": null,
   "metadata": {},
   "outputs": [],
   "source": []
  }
 ],
 "metadata": {
  "kernelspec": {
   "display_name": "Python 3 (ipykernel)",
   "language": "python",
   "name": "python3"
  },
  "language_info": {
   "codemirror_mode": {
    "name": "ipython",
    "version": 3
   },
   "file_extension": ".py",
   "mimetype": "text/x-python",
   "name": "python",
   "nbconvert_exporter": "python",
   "pygments_lexer": "ipython3",
   "version": "3.8.10"
  }
 },
 "nbformat": 4,
 "nbformat_minor": 4
}
