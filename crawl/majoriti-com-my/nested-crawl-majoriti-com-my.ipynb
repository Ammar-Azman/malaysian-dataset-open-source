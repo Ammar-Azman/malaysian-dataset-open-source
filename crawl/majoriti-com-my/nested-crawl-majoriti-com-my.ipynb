{
 "cells": [
  {
   "cell_type": "code",
   "execution_count": 19,
   "metadata": {},
   "outputs": [],
   "source": [
    "import json\n",
    "import requests\n",
    "from tqdm import tqdm\n",
    "from glob import glob\n",
    "from bs4 import BeautifulSoup"
   ]
  },
  {
   "cell_type": "code",
   "execution_count": 13,
   "metadata": {},
   "outputs": [
    {
     "data": {
      "text/plain": [
       "['majoriti-com-my-Inspirasi.json',\n",
       " 'majoriti-com-my-Bizz.json',\n",
       " 'majoriti-com-my-massa.json',\n",
       " 'majoriti-com-my-112.json',\n",
       " 'majoriti-com-my-Massa.json',\n",
       " 'majoriti-com-my-Politik.json',\n",
       " 'majoriti-com-my-Sihat.json',\n",
       " 'majoriti-com-my-Hobi.json',\n",
       " 'majoriti-com-my-Tular.json',\n",
       " 'majoriti-com-my-Hiburan.json',\n",
       " 'majoriti-com-my-Prosiding.json',\n",
       " 'majoriti-com-my-Primer.json',\n",
       " 'majoriti-com-my-Podium.json']"
      ]
     },
     "execution_count": 13,
     "metadata": {},
     "output_type": "execute_result"
    }
   ],
   "source": [
    "files = glob('majoriti-com-my-*.json')\n",
    "files"
   ]
  },
  {
   "cell_type": "code",
   "execution_count": 20,
   "metadata": {},
   "outputs": [
    {
     "name": "stdout",
     "output_type": "stream",
     "text": [
      "majoriti-com-my-Inspirasi.json\n"
     ]
    },
    {
     "name": "stderr",
     "output_type": "stream",
     "text": [
      "100%|█████████████████████████████████████████| 100/100 [01:33<00:00,  1.07it/s]\n"
     ]
    },
    {
     "name": "stdout",
     "output_type": "stream",
     "text": [
      "majoriti-com-my-Bizz.json\n"
     ]
    },
    {
     "name": "stderr",
     "output_type": "stream",
     "text": [
      "100%|█████████████████████████████████████████| 100/100 [01:43<00:00,  1.04s/it]\n"
     ]
    },
    {
     "name": "stdout",
     "output_type": "stream",
     "text": [
      "majoriti-com-my-massa.json\n"
     ]
    },
    {
     "name": "stderr",
     "output_type": "stream",
     "text": [
      "100%|█████████████████████████████████████████| 100/100 [01:31<00:00,  1.09it/s]\n"
     ]
    },
    {
     "name": "stdout",
     "output_type": "stream",
     "text": [
      "majoriti-com-my-112.json\n"
     ]
    },
    {
     "name": "stderr",
     "output_type": "stream",
     "text": [
      "100%|█████████████████████████████████████████| 100/100 [01:36<00:00,  1.03it/s]\n"
     ]
    },
    {
     "name": "stdout",
     "output_type": "stream",
     "text": [
      "majoriti-com-my-Massa.json\n"
     ]
    },
    {
     "name": "stderr",
     "output_type": "stream",
     "text": [
      "100%|█████████████████████████████████████████| 100/100 [01:42<00:00,  1.03s/it]\n"
     ]
    },
    {
     "name": "stdout",
     "output_type": "stream",
     "text": [
      "majoriti-com-my-Politik.json\n"
     ]
    },
    {
     "name": "stderr",
     "output_type": "stream",
     "text": [
      "100%|█████████████████████████████████████████| 100/100 [01:33<00:00,  1.07it/s]\n"
     ]
    },
    {
     "name": "stdout",
     "output_type": "stream",
     "text": [
      "majoriti-com-my-Sihat.json\n"
     ]
    },
    {
     "name": "stderr",
     "output_type": "stream",
     "text": [
      "100%|█████████████████████████████████████████| 100/100 [01:33<00:00,  1.07it/s]\n"
     ]
    },
    {
     "name": "stdout",
     "output_type": "stream",
     "text": [
      "majoriti-com-my-Hobi.json\n"
     ]
    },
    {
     "name": "stderr",
     "output_type": "stream",
     "text": [
      "100%|█████████████████████████████████████████| 100/100 [01:32<00:00,  1.08it/s]\n"
     ]
    },
    {
     "name": "stdout",
     "output_type": "stream",
     "text": [
      "majoriti-com-my-Tular.json\n"
     ]
    },
    {
     "name": "stderr",
     "output_type": "stream",
     "text": [
      "100%|█████████████████████████████████████████| 100/100 [01:51<00:00,  1.11s/it]\n"
     ]
    },
    {
     "name": "stdout",
     "output_type": "stream",
     "text": [
      "majoriti-com-my-Hiburan.json\n"
     ]
    },
    {
     "name": "stderr",
     "output_type": "stream",
     "text": [
      "100%|█████████████████████████████████████████| 100/100 [01:58<00:00,  1.18s/it]\n"
     ]
    },
    {
     "name": "stdout",
     "output_type": "stream",
     "text": [
      "majoriti-com-my-Prosiding.json\n"
     ]
    },
    {
     "name": "stderr",
     "output_type": "stream",
     "text": [
      "100%|█████████████████████████████████████████| 100/100 [01:32<00:00,  1.08it/s]\n"
     ]
    },
    {
     "name": "stdout",
     "output_type": "stream",
     "text": [
      "majoriti-com-my-Primer.json\n"
     ]
    },
    {
     "name": "stderr",
     "output_type": "stream",
     "text": [
      "100%|█████████████████████████████████████████| 100/100 [01:34<00:00,  1.06it/s]\n"
     ]
    },
    {
     "name": "stdout",
     "output_type": "stream",
     "text": [
      "majoriti-com-my-Podium.json\n"
     ]
    },
    {
     "name": "stderr",
     "output_type": "stream",
     "text": [
      "100%|█████████████████████████████████████████| 100/100 [01:35<00:00,  1.05it/s]\n"
     ]
    }
   ],
   "source": [
    "for f in files:\n",
    "    print(f)\n",
    "    with open(f) as fopen:\n",
    "        data = json.load(fopen)\n",
    "    \n",
    "    results = []\n",
    "    for d in tqdm(data):\n",
    "        r = requests.get(d['url'])\n",
    "        soup = BeautifulSoup(r._content, 'lxml')\n",
    "        text = soup.find_all('div', {'class': 'story bot-15 relative'})[0].text\n",
    "        \n",
    "        results.append({'original': d, 'curl': text})\n",
    "    \n",
    "    with open(f'{f}.nested', 'w') as fopen:\n",
    "        json.dump(results, fopen)"
   ]
  },
  {
   "cell_type": "code",
   "execution_count": 21,
   "metadata": {},
   "outputs": [
    {
     "data": {
      "text/plain": [
       "{'original': {'headline': 'Punah harapan Jang, Terengganu, ini 3 sebab pertahanan kental Singapura sesuai di TRW',\n",
       "  'byline': 'RAHMI JUMRIATI JONO',\n",
       "  'content': '',\n",
       "  'publishDate': '2022-12-28 10:00:00',\n",
       "  'date_time': 'Rabu, 28 Dis 2022',\n",
       "  'timeago': 'Rabu, 28 Disember 2022 10:00 AM',\n",
       "  'sectionName': 'Sukan',\n",
       "  'subSectionName': '',\n",
       "  'relatedIds': None,\n",
       "  'hasRelatedIds': None,\n",
       "  'images': None,\n",
       "  'custom_data': None,\n",
       "  'kickerName': 'Podium',\n",
       "  'kickerUrl': '/tag/podium',\n",
       "  'id': '980002',\n",
       "  'cms_id': '',\n",
       "  'summary': 'KELANTAN dikhabarkan semakin hampir mendapatkan Amirul Adli bagi mengisi jentera pertahanan mereka.',\n",
       "  'tags': 'Podium,Amirul Adli,pertahanan dari Singapura,Amirul Adli hijrah Kelantan,Kelantan FC,TRW,Amirul Adli Terengganu,Amirul Adli Negeri Sembilan FC,Lion City Sailors',\n",
       "  'url': 'https://majoriti.com.my/sukan/2022/12/28/punah-harapan-jang-terengganu-ini-3-sebab-pertahanan-kental-singapura-sesuai-di-trw',\n",
       "  'lead_image': 'https://apicms.majoriti.com.my/uploads/images/2022/12/28/1878436.jpeg',\n",
       "  'thumbnail': 'https://apicms.majoriti.com.my/uploads/images/2022/12/28/1878436.jpeg',\n",
       "  'fullThumbnail': 'https://apicms.majoriti.com.my/uploads/images/2022/12/28/1878436.jpeg',\n",
       "  'thumbnail300': 'https://apicms.majoriti.com.my/uploads/images/2022/12/28/1878436.jpeg',\n",
       "  'thumbnail500': 'https://apicms.majoriti.com.my/uploads/images/2022/12/28/1878436.jpeg',\n",
       "  'hasVideoSource': False,\n",
       "  'videoSource': '',\n",
       "  'caption': '',\n",
       "  'isExclusive': False,\n",
       "  'divExclusive': '<span class=\"labels--ex\">EKSKLUSIF</span>',\n",
       "  'lastModified': '',\n",
       "  'hasGallery': False,\n",
       "  'article_custom_fields': None,\n",
       "  'seo_url': 'https://majoriti.com.my/sukan/2022/12/28/punah-harapan-jang-terengganu-ini-3-sebab-pertahanan-kental-singapura-sesuai-di-trw',\n",
       "  'keywords': 'Podium,Amirul Adli,pertahanan dari Singapura,Amirul Adli hijrah Kelantan,Kelantan FC,TRW,Amirul Adli Terengganu,Amirul Adli Negeri Sembilan FC,Lion City Sailors',\n",
       "  'topics': '',\n",
       "  'resolveUrl': 'https://majoriti.com.my/sukan/2022/12/28/punah-harapan-jang-terengganu-ini-3-sebab-pertahanan-kental-singapura-sesuai-di-trw',\n",
       "  'paywallStoryType': 'Free',\n",
       "  'videoPlayer': None,\n",
       "  'foto': None,\n",
       "  'author_name': 'RAHMI JUMRIATI JONO',\n",
       "  'sponsor': 'NA',\n",
       "  'GA360DataContentType': 'Article',\n",
       "  'GA360DataContentCategory': 'Sukan',\n",
       "  'GA360ContentTags': 'Podium,Amirul Adli,pertahanan dari Singapura,Amirul Adli hijrah Kelantan,Kelantan FC,TRW,Amirul Adli Terengganu,Amirul Adli Negeri Sembilan FC,Lion City Sailors',\n",
       "  'GA360DataContentAuthor': 'RAHMI JUMRIATI JONO',\n",
       "  'isBrandedArticle': None,\n",
       "  'smgaccesstype': 'Free'},\n",
       " 'curl': \"SAINGAN Liga Malaysia (Liga M) pada musim depan nampaknya bakal menjadi lebih kompetitif apabila setiap kelab tanah air sedang agresif memburu bintang berkualiti bagi memperkukuhkan pasukan mereka. Tidak kira sama ada pemain tempatan ataupun bintang import, semua kelab Liga M pasti sedang membuat pemantauan dan penilaian dalam misi membawa masuk tonggak baharu untuk saingan musim depan. Sering kali penyokong dihidang dengan rebutan bintang import rantau Eropah mahupun Amerika Selatan, tapi kali ini kelab Liga M juga tidak ketinggalan untuk merekrut dari negara jiran seperti Singapura. Seperti bek tengah dari Singapura, Muhammad Amirul Adli Azmi yang kini ibarat 'pisang goreng panas' apabila difahamkan khidmatnya menjadi rebutan tiga kelab Liga Super iaitu Negeri Sembilan FC (NSFC), Terengganu FC dan Kelantan FC. Sebelum ini khabar angin kuat mengatakan hanya Terengganu dan Negeri Sembilan mengintai tonggak pertahanan dari Lion City Sailors itu namun terbaharu, skuad The Red Warriors (TRW) nampaknya turut menunjukkan minat terhadap pemain berkenaan. Berita terbaharu mengatakan pasukan Kelantan laju membuat gerak kerja apabila semakin hampir mendapatkan Amirul Adli bagi mengisi jentera pertahanan mereka. Antara tiga pasukan Liga Super yang memburu khidmatnya, Majoriti menyenaraikan tiga faktor mengapa Amirul Adli memilih dan sesuai menyarung jersi Kelantan pada musim 2023. 1) Peluang menjadi kesebelasan utama  Amirul Adli juga pernah beraksi bersama Young Lions dan Tampines Rovers. — Instagram/Amirul Adli Peluang untuk menjadi kesebelasan utama bersama Kelantan adalah lebih cerah untuk Amirul Adli jika dibandingkan dengan dua kelab berkenaan iaitu skuad Jang dan Terengganu. Perkara itu boleh dilihat apabila pasukan di bawah bimbingan K. Devan mempunyai tonggak pertahanan seperti Herold Goulan, Nasrullah Haniff, Khair Jones yang sering menjadi pilihan kesebelasan utama musim ini. Manakalah, di Terengganu pula sememangnya akan lebih cenderung mempercayai Shahrul Nizam Ros Hasni untuk mengetuai bahagian pertahanan tengah pasukan itu kerana kejayannya membawa skaud Penyu ke Piala AFC tahun depan. Memilih Kelantan FC adalah satu keputusan yang munasabah buat Amirul Adli kerana pastinya pengalaman beraksi bersama pasukan kebangsaan Singapura dan Lion City Sailors akan memberinya kelebihan beraksi sebagai pilihan utama Kelantan. Dengan mempunyai pertahanan tengah yang cukup berkualiti seperti Amirul Adli pasti membantu Kelantan bersaing dalam Liga Super musim depan sambil dibantu beberapa pemain tempatan lain. Kualiti pemain itu tidak usah dibincangkan apabila antara pencapaian yang diraih Amirul Adli ialah Liga Perdana Singapura (2021) bersama Lion City Sailors dan Piala Singapura (2019) bersama The Stags. 2) Sentuhan jurulatih dari 'Korea Selatan'  Amirul Adli membuat 42 penampilan bersama The Sailors dari 2021 hingga 2022. — Instagram/Amirul Adli Selepas mengumumkan status Rezal Zambery sebagai penolong jurulatih musim depan, pengendali Korea Selatan dikhabarkan merupakan antara pilihan utama untuk mengemudi skuad TRW dalam saingan Liga Super musim depan. Menerusi satu muat naik status di laman sosial, pemilik Kelantan FC, Norizam Tukiman atau terkenal dengan panggilan Zamsaham bertanyakan pandangan mengenai jurulatih dari negara tesebut. “Kalau head coach Korea ok? Minta pandangan ikhlas tuan-tuan sekalian.” tulisnya pada laman Facebook miliknya. Sekiranya pemain berusia 26 tahun itu disahkan beraksi bersama pasukan berpangkalan di Pantai Timur itu, kualitinya sebagai pemain profesional akan bertambah baik berikutan sentuhan magis dari pengendali Korea Selatan. Kehebatan pengendali dari negara republik itu tidak perlu dibincangkan lagi kerana beberapa jurulatih daripada negara Asia Tenggara sudah mendapat magisnya seperti Kim Pan-gon (Malaysia), Shin Tae-yong (Indonesia) dan Park Hang-seo (Vietnam). 3) Jangkaan penyokong  Amirul Adli juga menggalas tugas sebagai kapten bersama The Sailors. — Instagram/Amirul Adli Kelantan FC yang baru dinaikkan 'pangkat' dari Liga Perdana ke Liga Super pasti membuatkan penyokong skuad TRW tidak meletakkan harapan tinggi kepada pasukan mereka untuk mengguli Liga Super. Cukup tidak mengisi kedudukan tercorot pada musim depan merupakan salah satu harapan penyokong kerana menyedari pasukan seperti Johor Darul Takzim (JDT), Sabah FC, Terengganu dan Negeri Sembilan bakal memberi saingan. Berbeza dengan dua kelab berkenaan yang mana Terengganu menduduki naib johan dan Negeri Sembilan di tempat keeempat, pasti tekanan dari segi jangkaan penyokong akan dihadapi oleh Amirul Adli. Penyokong dari kedua kelab itu akan berharap Amirul Adli memberikan persembahan cemerlang bagi membantu pasukan mereka mengekalkan momentum musim ini. — Majoriti Boleh follow media sosial Majoriti di Twitter, Facebook, Instagram dan Telegram\"}"
      ]
     },
     "execution_count": 21,
     "metadata": {},
     "output_type": "execute_result"
    }
   ],
   "source": [
    "results[-1]"
   ]
  },
  {
   "cell_type": "code",
   "execution_count": null,
   "metadata": {},
   "outputs": [],
   "source": []
  }
 ],
 "metadata": {
  "kernelspec": {
   "display_name": "Python 3 (ipykernel)",
   "language": "python",
   "name": "python3"
  },
  "language_info": {
   "codemirror_mode": {
    "name": "ipython",
    "version": 3
   },
   "file_extension": ".py",
   "mimetype": "text/x-python",
   "name": "python",
   "nbconvert_exporter": "python",
   "pygments_lexer": "ipython3",
   "version": "3.8.10"
  }
 },
 "nbformat": 4,
 "nbformat_minor": 4
}
