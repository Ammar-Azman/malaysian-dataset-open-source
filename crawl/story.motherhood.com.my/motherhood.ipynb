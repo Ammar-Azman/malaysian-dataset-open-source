{
 "cells": [
  {
   "cell_type": "code",
   "execution_count": 1,
   "metadata": {},
   "outputs": [],
   "source": [
    "import requests\n",
    "from bs4 import BeautifulSoup\n",
    "from tqdm import tqdm\n",
    "import os\n",
    "import json\n",
    "import numpy as np\n",
    "import time\n",
    "import random\n",
    "import json\n",
    "import urllib3\n",
    "urllib3.disable_warnings(urllib3.exceptions.InsecureRequestWarning)"
   ]
  },
  {
   "cell_type": "code",
   "execution_count": 19,
   "metadata": {},
   "outputs": [],
   "source": [
    "url = 'https://story.motherhood.com.my/my/category/pemakanan/'\n",
    "r = requests.get(url)"
   ]
  },
  {
   "cell_type": "code",
   "execution_count": 20,
   "metadata": {},
   "outputs": [],
   "source": [
    "soup = BeautifulSoup(r.content, \"lxml\")"
   ]
  },
  {
   "cell_type": "code",
   "execution_count": 21,
   "metadata": {},
   "outputs": [
    {
     "data": {
      "text/plain": [
       "['https://story.motherhood.com.my/my/category/bayi/',\n",
       " 'https://story.motherhood.com.my/my/category/direktori-malaysia/',\n",
       " 'https://story.motherhood.com.my/my/category/kanak-kanak/',\n",
       " 'https://story.motherhood.com.my/my/category/kehamilan/',\n",
       " 'https://story.motherhood.com.my/my/category/keibubapaan/',\n",
       " 'https://story.motherhood.com.my/my/category/kesihatan-perubatan/',\n",
       " 'https://story.motherhood.com.my/my/category/pemakanan/',\n",
       " 'https://story.motherhood.com.my/my/category/terkini/',\n",
       " 'https://story.motherhood.com.my/my/category/untuk-ibu/']"
      ]
     },
     "execution_count": 21,
     "metadata": {},
     "output_type": "execute_result"
    }
   ],
   "source": [
    "a = soup.find_all('a')\n",
    "a = [a_.get('href') for a_ in a if 'my/category/' in a_.get('href', '')]\n",
    "a = [a_ for a_ in a if a_.count('/') == 6]\n",
    "categories = sorted(list(set(a)))\n",
    "categories"
   ]
  },
  {
   "cell_type": "code",
   "execution_count": 22,
   "metadata": {},
   "outputs": [],
   "source": [
    "r = requests.get(categories[0])"
   ]
  },
  {
   "cell_type": "code",
   "execution_count": 23,
   "metadata": {},
   "outputs": [],
   "source": [
    "soup = BeautifulSoup(r.content, \"lxml\")"
   ]
  },
  {
   "cell_type": "code",
   "execution_count": 24,
   "metadata": {},
   "outputs": [
    {
     "data": {
      "text/plain": [
       "['https://story.motherhood.com.my/my/cara-urut-bayi-kembung-perut/',\n",
       " 'https://story.motherhood.com.my/my/ruam-susu/',\n",
       " 'https://story.motherhood.com.my/my/cara-mengatasi-bayi-sembelit/',\n",
       " 'https://story.motherhood.com.my/my/air-panas-dimasak-bukan-air-panas-penapis/',\n",
       " 'https://story.motherhood.com.my/my/amalan-ibu-mengandung/',\n",
       " 'https://story.motherhood.com.my/my/cara-hilangkan-karies-gigi-anak/',\n",
       " 'https://story.motherhood.com.my/my/batuk-kokol/',\n",
       " 'https://story.motherhood.com.my/my/cara-melatih-anak-minum-susu-formula/',\n",
       " 'https://story.motherhood.com.my/my/perkara-mengejutkan-mengenai-bayi-baru-lahir/',\n",
       " 'https://story.motherhood.com.my/my/cara-mandikan-bayi/',\n",
       " 'https://story.motherhood.com.my/my/khasiat-minyak-kelapa-dara-untuk-bayi/']"
      ]
     },
     "execution_count": 24,
     "metadata": {},
     "output_type": "execute_result"
    }
   ],
   "source": [
    "h2 = soup.find_all('h2', {'class': 'entry-title'})\n",
    "a = [a_.find('a').get('href') for a_ in h2]\n",
    "a"
   ]
  },
  {
   "cell_type": "code",
   "execution_count": 25,
   "metadata": {},
   "outputs": [
    {
     "name": "stdout",
     "output_type": "stream",
     "text": [
      "https://story.motherhood.com.my/my/category/bayi/\n"
     ]
    },
    {
     "name": "stderr",
     "output_type": "stream",
     "text": [
      "23it [00:19,  1.20it/s]\n"
     ]
    },
    {
     "name": "stdout",
     "output_type": "stream",
     "text": [
      "https://story.motherhood.com.my/my/category/direktori-malaysia/\n"
     ]
    },
    {
     "name": "stderr",
     "output_type": "stream",
     "text": [
      "34it [00:31,  1.08it/s]\n"
     ]
    },
    {
     "name": "stdout",
     "output_type": "stream",
     "text": [
      "https://story.motherhood.com.my/my/category/kanak-kanak/\n"
     ]
    },
    {
     "name": "stderr",
     "output_type": "stream",
     "text": [
      "18it [00:13,  1.29it/s]\n"
     ]
    },
    {
     "name": "stdout",
     "output_type": "stream",
     "text": [
      "https://story.motherhood.com.my/my/category/kehamilan/\n"
     ]
    },
    {
     "name": "stderr",
     "output_type": "stream",
     "text": [
      "16it [00:12,  1.32it/s]\n"
     ]
    },
    {
     "name": "stdout",
     "output_type": "stream",
     "text": [
      "https://story.motherhood.com.my/my/category/keibubapaan/\n"
     ]
    },
    {
     "name": "stderr",
     "output_type": "stream",
     "text": [
      "22it [00:17,  1.23it/s]\n"
     ]
    },
    {
     "name": "stdout",
     "output_type": "stream",
     "text": [
      "https://story.motherhood.com.my/my/category/kesihatan-perubatan/\n"
     ]
    },
    {
     "name": "stderr",
     "output_type": "stream",
     "text": [
      "11it [00:08,  1.27it/s]\n"
     ]
    },
    {
     "name": "stdout",
     "output_type": "stream",
     "text": [
      "https://story.motherhood.com.my/my/category/pemakanan/\n"
     ]
    },
    {
     "name": "stderr",
     "output_type": "stream",
     "text": [
      "31it [00:38,  1.26s/it]\n"
     ]
    },
    {
     "name": "stdout",
     "output_type": "stream",
     "text": [
      "https://story.motherhood.com.my/my/category/terkini/\n"
     ]
    },
    {
     "name": "stderr",
     "output_type": "stream",
     "text": [
      "19it [00:13,  1.37it/s]\n"
     ]
    },
    {
     "name": "stdout",
     "output_type": "stream",
     "text": [
      "https://story.motherhood.com.my/my/category/untuk-ibu/\n"
     ]
    },
    {
     "name": "stderr",
     "output_type": "stream",
     "text": [
      "17it [00:13,  1.27it/s]\n"
     ]
    }
   ],
   "source": [
    "def generator():\n",
    "    while True:\n",
    "        yield   \n",
    "\n",
    "all_a = []\n",
    "\n",
    "for c in categories:\n",
    "    print(c)\n",
    "    index = 1\n",
    "\n",
    "    for _ in tqdm(generator()):\n",
    "        url = f'{c}page/{index}/'\n",
    "        r = requests.get(url)\n",
    "        soup = BeautifulSoup(r.content, \"lxml\")\n",
    "\n",
    "        h2 = soup.find_all('h2', {'class': 'entry-title'})\n",
    "        a = [a_.find('a').get('href') for a_ in h2]\n",
    "\n",
    "        if not len(a):\n",
    "            break\n",
    "\n",
    "        all_a.extend(a)\n",
    "\n",
    "        index += 1"
   ]
  },
  {
   "cell_type": "code",
   "execution_count": 26,
   "metadata": {},
   "outputs": [],
   "source": [
    "all_a = sorted(list(set(all_a)))"
   ]
  },
  {
   "cell_type": "code",
   "execution_count": 48,
   "metadata": {},
   "outputs": [
    {
     "name": "stderr",
     "output_type": "stream",
     "text": [
      "100%|███████████████████████████████████████| 1580/1580 [14:43<00:00,  1.79it/s]\n"
     ]
    }
   ],
   "source": [
    "with open('story.motherhood.com.my', 'w') as fopen:\n",
    "    for a in tqdm(all_a):\n",
    "        r = requests.get(a)\n",
    "        soup = BeautifulSoup(r.content, \"lxml\")\n",
    "        data = json.loads(soup.find('script', {'class': 'saswp-schema-markup-output'}).contents[0])[-1]\n",
    "        fopen.write(f'{json.dumps(data)}\\n')"
   ]
  },
  {
   "cell_type": "code",
   "execution_count": null,
   "metadata": {},
   "outputs": [],
   "source": []
  }
 ],
 "metadata": {
  "kernelspec": {
   "display_name": "Python 3 (ipykernel)",
   "language": "python",
   "name": "python3"
  },
  "language_info": {
   "codemirror_mode": {
    "name": "ipython",
    "version": 3
   },
   "file_extension": ".py",
   "mimetype": "text/x-python",
   "name": "python",
   "nbconvert_exporter": "python",
   "pygments_lexer": "ipython3",
   "version": "3.8.10"
  }
 },
 "nbformat": 4,
 "nbformat_minor": 4
}
