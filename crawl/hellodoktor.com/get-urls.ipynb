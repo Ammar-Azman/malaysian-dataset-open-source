{
 "cells": [
  {
   "cell_type": "code",
   "execution_count": 1,
   "metadata": {},
   "outputs": [],
   "source": [
    "import requests\n",
    "from bs4 import BeautifulSoup\n",
    "from tqdm import tqdm\n",
    "import os\n",
    "import json\n",
    "import numpy as np\n",
    "import time\n",
    "import random\n",
    "import json"
   ]
  },
  {
   "cell_type": "code",
   "execution_count": 10,
   "metadata": {
    "scrolled": false
   },
   "outputs": [
    {
     "data": {
      "text/plain": [
       "['/ubat/',\n",
       " '/herba/',\n",
       " '/kesihatan/',\n",
       " '/sihat-bergaya/',\n",
       " '/pemakanan/',\n",
       " '/kesihatan-mulut/',\n",
       " '/keibubapaan/',\n",
       " '/kehamilan/',\n",
       " '/kecergasan/',\n",
       " '/seks-hubungan/',\n",
       " '/kesihatan-mata/',\n",
       " '/kesihatan-mental/',\n",
       " '/penjagaan-warga-emas/',\n",
       " '/tidur/',\n",
       " '/penyakit-jantung/',\n",
       " '/keadaan-alergi-autoimun/',\n",
       " '/penyakit-batuk-saluran-pernafasan/',\n",
       " '/masalah-neurologikal/',\n",
       " '/penyakit-muskuloskeletal/',\n",
       " '/penyakit-perut-gastrousus/',\n",
       " '/keadaan-telinga-hidung-tekak/',\n",
       " '/kanser/',\n",
       " '/urologi/',\n",
       " '/kencing-manis/',\n",
       " '/gangguan-darah/',\n",
       " '/habit-sihat/',\n",
       " '/kesihatan-lelaki/',\n",
       " '/kesihatan-wanita/',\n",
       " '/berjangkit/',\n",
       " '/en/']"
      ]
     },
     "execution_count": 10,
     "metadata": {},
     "output_type": "execute_result"
    }
   ],
   "source": [
    "r = requests.get('https://hellodoktor.com/categories/')\n",
    "soup = BeautifulSoup(r.content, \"lxml\")\n",
    "categories = soup.find_all('a', {'class': 'sc-ifSILs fGGOx'})\n",
    "categories = [c.get('href') for c in categories]\n",
    "categories"
   ]
  },
  {
   "cell_type": "code",
   "execution_count": 14,
   "metadata": {},
   "outputs": [
    {
     "name": "stderr",
     "output_type": "stream",
     "text": [
      "100%|█████████████████████████████████████████████████████████████████████████████████████████████| 30/30 [01:10<00:00,  2.34s/it]\n"
     ]
    }
   ],
   "source": [
    "pages = {}\n",
    "\n",
    "for c in tqdm(categories):\n",
    "    url = f'https://hellodoktor.com{c}'\n",
    "    soup = BeautifulSoup(requests.get(url).content, \"lxml\")\n",
    "    a = soup.find_all('a', {'data-event-category': 'Recommended Topics'})\n",
    "    a = [a_.get('href') for a_ in a]\n",
    "    pages[c] = a"
   ]
  },
  {
   "cell_type": "code",
   "execution_count": 26,
   "metadata": {},
   "outputs": [
    {
     "name": "stderr",
     "output_type": "stream",
     "text": [
      "100%|███████████████████████████████████████████████████████████████████████████████████████████| 277/277 [09:24<00:00,  2.04s/it]\n"
     ]
    }
   ],
   "source": [
    "urls_to_run = []\n",
    "for k, v in pages.items():\n",
    "    v.extend([k])\n",
    "    urls_to_run.extend(v)\n",
    "    \n",
    "pages_ubat = []\n",
    "for v_ in tqdm(urls_to_run):\n",
    "    url = f'https://hellodoktor.com{v_}'\n",
    "    soup = BeautifulSoup(requests.get(url).content, \"lxml\")\n",
    "    a = soup.find_all('li', {'class': 'sc-a7cde130-9 diMMdf'})\n",
    "    pages_ubat.extend([a_.find('a').get('href') for a_ in a])"
   ]
  },
  {
   "cell_type": "code",
   "execution_count": 28,
   "metadata": {},
   "outputs": [],
   "source": [
    "with open('pages-ubat.json', 'w') as fopen:\n",
    "    json.dump(list(set(pages_ubat)), fopen)"
   ]
  },
  {
   "cell_type": "code",
   "execution_count": 29,
   "metadata": {},
   "outputs": [],
   "source": [
    "with open('pages.json', 'w') as fopen:\n",
    "    json.dump(pages, fopen)"
   ]
  }
 ],
 "metadata": {
  "kernelspec": {
   "display_name": "Python 3 (ipykernel)",
   "language": "python",
   "name": "python3"
  },
  "language_info": {
   "codemirror_mode": {
    "name": "ipython",
    "version": 3
   },
   "file_extension": ".py",
   "mimetype": "text/x-python",
   "name": "python",
   "nbconvert_exporter": "python",
   "pygments_lexer": "ipython3",
   "version": "3.8.10"
  }
 },
 "nbformat": 4,
 "nbformat_minor": 4
}
