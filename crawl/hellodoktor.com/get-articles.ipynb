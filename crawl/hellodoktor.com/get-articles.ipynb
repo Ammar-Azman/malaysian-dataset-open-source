{
 "cells": [
  {
   "cell_type": "code",
   "execution_count": 1,
   "metadata": {},
   "outputs": [],
   "source": [
    "import requests\n",
    "from bs4 import BeautifulSoup\n",
    "from tqdm import tqdm\n",
    "import os\n",
    "import json\n",
    "import numpy as np\n",
    "import time\n",
    "import random\n",
    "import json\n",
    "import urllib3\n",
    "urllib3.disable_warnings(urllib3.exceptions.InsecureRequestWarning)"
   ]
  },
  {
   "cell_type": "code",
   "execution_count": 2,
   "metadata": {},
   "outputs": [],
   "source": [
    "with open('pages.json') as fopen:\n",
    "    data = json.load(fopen)"
   ]
  },
  {
   "cell_type": "code",
   "execution_count": 3,
   "metadata": {},
   "outputs": [
    {
     "data": {
      "text/plain": [
       "30"
      ]
     },
     "execution_count": 3,
     "metadata": {},
     "output_type": "execute_result"
    }
   ],
   "source": [
    "len(data)"
   ]
  },
  {
   "cell_type": "code",
   "execution_count": 4,
   "metadata": {},
   "outputs": [
    {
     "data": {
      "text/plain": [
       "210"
      ]
     },
     "execution_count": 4,
     "metadata": {},
     "output_type": "execute_result"
    }
   ],
   "source": [
    "keys = list(data.keys())\n",
    "pages = []\n",
    "for k in keys:\n",
    "    pages.extend(list(set(data[k]) - {k}))\n",
    "    \n",
    "categories = sorted(list(set(pages)))\n",
    "len(categories)"
   ]
  },
  {
   "cell_type": "code",
   "execution_count": 5,
   "metadata": {},
   "outputs": [
    {
     "data": {
      "text/plain": [
       "'/berjangkit/covid19/'"
      ]
     },
     "execution_count": 5,
     "metadata": {},
     "output_type": "execute_result"
    }
   ],
   "source": [
    "categories[0]"
   ]
  },
  {
   "cell_type": "code",
   "execution_count": 1,
   "metadata": {},
   "outputs": [
    {
     "name": "stdout",
     "output_type": "stream",
     "text": [
      "mkdir: cannot create directory ‘url’: File exists\r\n"
     ]
    }
   ],
   "source": [
    "# !rm -rf url\n",
    "!mkdir url"
   ]
  },
  {
   "cell_type": "code",
   "execution_count": null,
   "metadata": {},
   "outputs": [],
   "source": [
    "title front-view-title"
   ]
  },
  {
   "cell_type": "code",
   "execution_count": 7,
   "metadata": {},
   "outputs": [
    {
     "name": "stderr",
     "output_type": "stream",
     "text": [
      "22it [00:33,  1.51s/it]\n",
      "1it [00:00, 10.18it/s]\n",
      "3it [00:00, 28.29it/s]\n",
      "0it [00:00, ?it/s]\n",
      "2it [00:00, 19.95it/s]\n",
      "0it [00:00, ?it/s]\n",
      "2it [00:00, 19.02it/s]\n",
      "0it [00:00, ?it/s]\n",
      "1it [00:03,  3.55s/it]\n",
      "0it [00:00, ?it/s]\n",
      "3it [00:00, 31.67it/s]\n",
      "0it [00:02, ?it/s]\n",
      "2it [00:00, 20.92it/s]\n",
      "1it [00:00,  9.17it/s]\n",
      "1it [00:00, 10.92it/s]\n",
      "0it [00:00, ?it/s]\n",
      "0it [00:00, ?it/s]\n",
      "1it [00:00,  6.71it/s]\n",
      "6it [00:07,  1.33s/it]\n",
      "12it [00:00, 118.37it/s]\n",
      "7it [00:00, 70.94it/s]\n",
      "1it [00:03,  3.37s/it]\n",
      "0it [00:00, ?it/s]\n",
      "2it [00:02,  1.25s/it]\n",
      "3it [00:00, 23.24it/s]\n",
      "1it [00:00,  6.05it/s]\n",
      "6it [00:11,  1.97s/it]\n",
      "1it [00:03,  3.60s/it]\n",
      "2it [00:00, 18.28it/s]\n",
      "0it [00:00, ?it/s]\n",
      "3it [00:06,  2.27s/it]\n",
      "8it [00:00, 83.96it/s]\n",
      "1it [00:00, 10.49it/s]\n",
      "3it [00:00, 18.38it/s]\n",
      "0it [00:00, ?it/s]\n",
      "2it [00:00, 19.35it/s]\n",
      "1it [00:00,  9.26it/s]\n",
      "1it [00:00,  9.05it/s]\n",
      "1it [00:03,  3.66s/it]\n",
      "0it [00:00, ?it/s]\n",
      "1it [00:00,  9.24it/s]\n",
      "1it [00:03,  3.27s/it]\n",
      "1it [00:00,  8.60it/s]\n",
      "2it [00:05,  2.77s/it]\n",
      "2it [00:05,  2.65s/it]\n",
      "2it [00:05,  2.56s/it]\n",
      "3it [00:00, 28.18it/s]\n",
      "5it [00:09,  1.92s/it]\n",
      "5it [00:00, 42.83it/s]\n",
      "6it [00:00, 57.78it/s]\n",
      "1it [00:00,  9.41it/s]\n",
      "3it [00:00, 31.86it/s]\n",
      "1it [00:00,  9.26it/s]\n",
      "4it [00:00, 39.94it/s]\n",
      "1it [00:02,  2.95s/it]\n",
      "0it [00:00, ?it/s]\n",
      "12it [00:00, 120.00it/s]\n",
      "11it [00:19,  1.75s/it]\n",
      "19it [00:00, 177.78it/s]\n",
      "48it [01:05,  1.36s/it]\n",
      "48it [00:00, 459.87it/s]\n",
      "4it [00:00, 36.78it/s]\n",
      "26it [00:00, 259.10it/s]\n",
      "35it [00:46,  1.33s/it]\n",
      "6it [00:10,  1.74s/it]\n",
      "16it [00:00, 161.19it/s]\n",
      "3it [00:05,  1.93s/it]\n",
      "9it [00:15,  1.75s/it]\n",
      "2it [00:00, 21.00it/s]\n",
      "9it [00:00, 80.28it/s]\n",
      "5it [00:00, 52.12it/s]\n",
      "10it [00:00, 62.82it/s]\n",
      "0it [00:00, ?it/s]\n",
      "1it [00:03,  3.82s/it]\n",
      "1it [00:00,  9.20it/s]\n",
      "0it [00:02, ?it/s]\n",
      "5it [00:00, 43.37it/s]\n",
      "4it [00:00, 38.64it/s]\n",
      "2it [00:03,  1.61s/it]\n",
      "2it [00:04,  2.36s/it]\n",
      "4it [00:06,  1.62s/it]\n",
      "5it [00:00, 40.24it/s]\n",
      "1it [00:00,  6.06it/s]\n",
      "0it [00:00, ?it/s]\n",
      "22it [00:29,  1.33s/it]\n",
      "18it [00:00, 177.25it/s]\n",
      "6it [00:00, 48.80it/s]\n",
      "8it [00:12,  1.50s/it]\n",
      "1it [00:00,  1.34it/s]\n",
      "1it [00:00,  8.96it/s]\n",
      "3it [00:00, 27.70it/s]\n",
      "4it [00:00, 31.17it/s]\n",
      "0it [00:02, ?it/s]\n",
      "6it [00:08,  1.42s/it]\n",
      "1it [00:04,  4.12s/it]\n",
      "3it [00:05,  1.91s/it]\n",
      "11it [00:14,  1.32s/it]\n",
      "0it [00:00, ?it/s]\n",
      "3it [00:07,  2.35s/it]\n",
      "0it [00:00, ?it/s]\n",
      "2it [00:00, 20.83it/s]\n",
      "2it [00:00, 15.31it/s]\n",
      "2it [00:00, 17.41it/s]\n",
      "22it [00:00, 221.22it/s]\n",
      "3it [00:00, 29.63it/s]\n",
      "29it [00:00, 176.92it/s]\n",
      "2it [00:00, 16.63it/s]\n",
      "5it [00:07,  1.46s/it]\n",
      "0it [00:00, ?it/s]\n",
      "4it [00:00, 38.45it/s]\n",
      "3it [00:00, 29.80it/s]\n",
      "3it [00:00, 28.16it/s]\n",
      "1it [00:00,  9.06it/s]\n",
      "1it [00:00,  9.10it/s]\n",
      "1it [00:00,  6.75it/s]\n",
      "5it [00:00, 43.15it/s]\n",
      "5it [00:00, 43.91it/s]\n",
      "1it [00:00,  9.53it/s]\n",
      "1it [00:00,  9.28it/s]\n",
      "1it [00:00,  9.63it/s]\n",
      "9it [00:00, 66.18it/s]\n",
      "9it [00:17,  1.98s/it]\n",
      "37it [00:00, 314.25it/s]\n",
      "7it [00:00, 72.06it/s]\n",
      "1it [00:00, 10.24it/s]\n",
      "7it [00:00, 67.78it/s]\n",
      "32it [00:00, 327.17it/s]\n",
      "1it [00:04,  4.03s/it]\n",
      "1it [00:03,  3.45s/it]\n",
      "1it [00:03,  3.30s/it]\n",
      "4it [00:00, 31.88it/s]\n",
      "1it [00:03,  3.83s/it]\n",
      "3it [00:00, 27.95it/s]\n",
      "1it [00:00, 10.20it/s]\n",
      "0it [00:00, ?it/s]\n",
      "1it [00:00,  9.30it/s]\n",
      "0it [00:00, ?it/s]\n",
      "1it [00:00,  7.75it/s]\n",
      "0it [00:01, ?it/s]\n",
      "0it [00:01, ?it/s]\n",
      "1it [00:00,  6.04it/s]\n",
      "7it [00:08,  1.23s/it]\n",
      "1it [00:00, 10.28it/s]\n",
      "1it [00:00,  9.40it/s]\n",
      "1it [00:00,  9.06it/s]\n",
      "2it [00:04,  2.37s/it]\n",
      "1it [00:03,  3.01s/it]\n",
      "3it [00:00, 27.63it/s]\n",
      "0it [00:00, ?it/s]\n",
      "1it [00:00,  9.68it/s]\n",
      "0it [00:00, ?it/s]\n",
      "1it [00:00, 10.00it/s]\n",
      "1it [00:00,  7.80it/s]\n",
      "5it [00:00, 50.21it/s]\n",
      "7it [00:00, 73.47it/s]\n",
      "9it [00:00, 59.80it/s]\n",
      "2it [00:00, 20.27it/s]\n",
      "3it [00:00, 25.33it/s]\n",
      "1it [00:03,  3.83s/it]\n",
      "3it [00:00, 31.87it/s]\n",
      "1it [00:00,  9.72it/s]\n",
      "3it [00:00, 30.32it/s]\n",
      "6it [00:00, 59.35it/s]\n",
      "2it [00:04,  2.42s/it]\n",
      "2it [00:00, 19.19it/s]\n",
      "2it [00:00, 19.56it/s]\n",
      "0it [00:00, ?it/s]\n",
      "1it [00:03,  3.29s/it]\n",
      "3it [00:06,  2.19s/it]\n",
      "0it [00:00, ?it/s]\n",
      "1it [00:00,  4.22it/s]\n",
      "9it [00:00, 83.84it/s]\n",
      "3it [00:06,  2.01s/it]\n",
      "0it [00:00, ?it/s]\n",
      "0it [00:02, ?it/s]\n",
      "1it [00:00, 10.53it/s]\n",
      "2it [00:00, 19.77it/s]\n",
      "0it [00:00, ?it/s]\n",
      "1it [00:05,  5.01s/it]\n",
      "1it [00:00,  8.69it/s]\n",
      "1it [00:00,  9.95it/s]\n",
      "1it [00:03,  3.06s/it]\n",
      "0it [00:00, ?it/s]\n",
      "3it [00:06,  2.12s/it]\n",
      "2it [00:04,  2.40s/it]\n",
      "7it [00:00, 62.71it/s]\n",
      "17it [00:24,  1.43s/it]\n",
      "5it [00:00, 50.26it/s]\n",
      "0it [00:00, ?it/s]\n",
      "4it [00:07,  1.84s/it]\n",
      "0it [00:00, ?it/s]\n",
      "2it [00:00, 17.10it/s]\n",
      "8it [00:00, 53.97it/s]\n",
      "12it [00:00, 73.37it/s]\n",
      "4it [00:00, 37.98it/s]\n",
      "20it [00:25,  1.30s/it]\n",
      "0it [00:00, ?it/s]\n",
      "3it [00:06,  2.03s/it]\n",
      "3it [00:00, 30.88it/s]\n",
      "1it [00:00, 10.49it/s]\n",
      "3it [00:00, 30.88it/s]\n",
      "1it [00:00,  9.01it/s]\n",
      "6it [00:00, 60.43it/s]\n",
      "1it [00:00, 10.89it/s]\n",
      "3it [00:06,  2.22s/it]\n",
      "2it [00:00, 20.32it/s]\n",
      "3it [00:00, 21.40it/s]\n",
      "3it [00:00, 26.34it/s]\n",
      "5it [00:00, 47.03it/s]\n",
      "2it [00:00, 11.49it/s]\n"
     ]
    }
   ],
   "source": [
    "def generator():\n",
    "    while True:\n",
    "        yield\n",
    "    \n",
    "for c in categories:\n",
    "    c_ = c.replace('/', '-')\n",
    "    \n",
    "    index = 1\n",
    "    for _ in tqdm(generator()):\n",
    "        filename = os.path.join('url', f'{c_}-{index}.json')\n",
    "        if os.path.exists(filename):\n",
    "            index += 1\n",
    "            continue\n",
    "\n",
    "        while True:\n",
    "            try:\n",
    "                r = requests.get(f'https://hellodoktor.com{c}?page={index}')\n",
    "                break\n",
    "            except:\n",
    "                time.sleep(1.0)\n",
    "    \n",
    "        soup = BeautifulSoup(r.content, \"lxml\")\n",
    "        articles = soup.find('div', {'class': 'articles'})\n",
    "        if articles is None:\n",
    "            break\n",
    "        a = articles.find_all('a')\n",
    "        a = [a_.get('href') for a_ in a if c in a_.get('href') and len(a_.get('href')) > len(c)]\n",
    "        a = list(set(a))\n",
    "        \n",
    "        if not len(a):\n",
    "            break\n",
    "\n",
    "        with open(filename, 'w') as fopen:\n",
    "            json.dump(a, fopen)\n",
    "\n",
    "        index += 1"
   ]
  },
  {
   "cell_type": "code",
   "execution_count": null,
   "metadata": {},
   "outputs": [],
   "source": []
  }
 ],
 "metadata": {
  "kernelspec": {
   "display_name": "Python 3 (ipykernel)",
   "language": "python",
   "name": "python3"
  },
  "language_info": {
   "codemirror_mode": {
    "name": "ipython",
    "version": 3
   },
   "file_extension": ".py",
   "mimetype": "text/x-python",
   "name": "python",
   "nbconvert_exporter": "python",
   "pygments_lexer": "ipython3",
   "version": "3.8.10"
  }
 },
 "nbformat": 4,
 "nbformat_minor": 4
}
