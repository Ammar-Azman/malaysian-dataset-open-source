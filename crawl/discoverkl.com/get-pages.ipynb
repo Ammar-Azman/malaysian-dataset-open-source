{
 "cells": [
  {
   "cell_type": "code",
   "execution_count": 1,
   "metadata": {},
   "outputs": [],
   "source": [
    "import requests\n",
    "from bs4 import BeautifulSoup\n",
    "from tqdm import tqdm\n",
    "import os\n",
    "import json\n",
    "import numpy as np\n",
    "import time\n",
    "import random\n",
    "import json\n",
    "from concurrent.futures import ThreadPoolExecutor, as_completed"
   ]
  },
  {
   "cell_type": "code",
   "execution_count": 2,
   "metadata": {},
   "outputs": [],
   "source": [
    "!mkdir page"
   ]
  },
  {
   "cell_type": "code",
   "execution_count": 3,
   "metadata": {},
   "outputs": [],
   "source": [
    "with open('a.json') as fopen:\n",
    "    urls = sorted(json.load(fopen))"
   ]
  },
  {
   "cell_type": "code",
   "execution_count": 4,
   "metadata": {},
   "outputs": [
    {
     "data": {
      "text/plain": [
       "'https://discoverkl.com/2016/05/06/kl-guide-part-1/'"
      ]
     },
     "execution_count": 4,
     "metadata": {},
     "output_type": "execute_result"
    }
   ],
   "source": [
    "urls[0]"
   ]
  },
  {
   "cell_type": "code",
   "execution_count": 5,
   "metadata": {},
   "outputs": [],
   "source": [
    "r = requests.get(urls[0])\n",
    "soup = BeautifulSoup(r.content, \"lxml\")"
   ]
  },
  {
   "cell_type": "code",
   "execution_count": 7,
   "metadata": {},
   "outputs": [
    {
     "data": {
      "text/plain": [
       "'\\nThe Ultimate KL Guide Part 1 - How To Get Here & Where To Stay\\n'"
      ]
     },
     "execution_count": 7,
     "metadata": {},
     "output_type": "execute_result"
    }
   ],
   "source": [
    "soup.find('h1').text"
   ]
  },
  {
   "cell_type": "code",
   "execution_count": 10,
   "metadata": {},
   "outputs": [
    {
     "data": {
      "text/plain": [
       "'\\nThis is Part 1 of The Ultimate Guide to Kuala Lumpur series. For Part 2:\\xa014 Must Try Food Places & Places To Go In KL!\\nNeed an escape from work or planning a shopping trip to Kuala Lumpur (KL) but not too sure where to start from? Don’t worry cause our Ultimate KL Guide will help you manoeuvre around the capital city of Malaysia like a pro!\\n1. Getting there: Ways to travel to Kuala Lumpur\\n\\nPlane & train\\n\\n\\n\\n \\n\\n\\n\\n\\n\\n\\n\\n\\n\\n\\n View this post on Instagram\\n\\n\\n\\n\\n\\n\\n\\n\\n\\n\\n\\n\\n\\n\\n\\n\\n\\n\\n\\n\\n\\n\\n\\nA post shared by Rene.C (@renechong)\\n\\n\\n\\nThe most common (and my personal favourite)\\xa0way to get to KL is by flight. Upon arrival (KLIA and KLIA 2), you can hop on the\\xa0KLIA Express Train\\xa0(RM55) which will take you to the city in about 30 minutes.\\nIf you’re travelling in a group of 3 or 4, taking a\\xa0taxi into town from the airport (about an hour) might be\\xa0more value for money.\\nDo note that there are 3 types of\\xa0taxi services: Budget Taxi (buy a coupon from the counter), Metered Taxi (fare calculated by distance),and Premier Taxi (bigger vehicle, more expensive). Alternatively, you can also take the\\xa0bus\\xa0from the airport to KL Sentral.\\n\\n\\n\\n*If you’re flying via\\xa0FireFly, your plane will land at Subang Skypark Airport, which is about a 30 minutes ride to KL city centre. \\xa0\\n2. Accommodation in KL\\nFor the shopaholics\\xa0and hip trendsetters:\\n\\xa01. Ansa Kuala Lumpur\\nhttps://www.instagram.com/p/0sfOZeBXSl/\\nSmacked in the centre of several top malls and the most happening spots in KL is Ansa. With super chic and comfortable rooms, Ansa is perfect for those who are in town for a shopping spree.\\nPrice starts from RM210++/night ($73++)\\nParking facilities:\\xa0Complimentary\\xa0parking for in-house\\xa0guests, limited lots\\nWebsite: \\xa0ANSA Kuala Lumpur\\n2. WOLO Bukit Bintang\\nhttps://www.instagram.com/p/BDA5XGpvL7B/\\nJust across the street from Ansa, WOLO is an artsy fartsy new kid on the block that has just recently joined the hotel game in Bukit Bintang. It is extremely hip and vibrant, making it a top choice among youngsters.\\nPrice starts from RM 200++/night ($70++)\\nNo parking facilities. Driving guests can park at HSBC Tower, which is opposite WOLO, at a rate of RM12/day.\\nWebsite:\\xa0WOLO\\nFor the couples\\xa0who want to keep it private and intimate:\\n1. The Majestic KL\\n\\n\\n \\n\\n\\n\\n\\n\\n\\n\\n\\n\\n\\n View this post on Instagram\\n\\n\\n\\n\\n\\n\\n\\n\\n\\n\\n\\n\\n\\n\\n\\n\\n\\n\\n\\n\\n\\n\\n\\nA post shared by K I K I (@curatedbykiki)\\n\\n\\n\\nBuilt in the 1930s, this iconic colonial heritage landmark is one of KL’s greatest hotels of all time (just like it’s name). The ambience of the hotel is intimate\\xa0and the rooms are luxurious. While you’re at it, don’t forget to try their famed\\xa0English Afternoon Tea\\xa0too!\\nPrice starts from RM375++/night ($130++)\\nParking facilities: Self parking\\xa0(RM10/day) and valet parking are available\\nWebsite:\\xa0The Majestic KL\\n2. Villa Samadhi by Samadhi\\n\\n\\n \\n\\n\\n\\n\\n\\n\\n\\n\\n\\n\\n View this post on Instagram\\n\\n\\n\\n\\n\\n\\n\\n\\n\\n\\n\\n\\n\\n\\n\\n\\n\\n\\n\\n\\n\\n\\n\\nA post shared by Charis Charalambous Koullourou (@charischaralambous)\\n\\n\\n\\nVilla Samadhi may be located in the heart of Kuala Lumpur, but this dreamy and peaceful oasis is strategically hidden from the crowded street. Equipped with a\\xa0high plush bed, huge bathroom with over-sized plunge tub, private balcony…perfect for a honeymoon trip!\\nPrice starts\\xa0from RM600++ /night ($206++)\\nParking facilities: Available for free, limited lots\\nWebsite:\\xa0Villa Samadhi KL\\nFor the fun and loving family:\\n1. DoubleTree by Hilton KL\\n\\n\\n \\n\\n\\n\\n\\n\\n\\n\\n\\n\\n\\n View this post on Instagram\\n\\n\\n\\n\\n\\n\\n\\n\\n\\n\\n\\n\\n\\n\\n\\n\\n\\n\\n\\n\\n\\n\\n\\nA post shared by Jeremy Lee (@jltravellounge)\\n\\n\\n\\nFamed for their signature warm chocolate cookies, DoubleTree by Hilton has an amazing saltwater pool that screams ‘take a dip!’. They also have a lovely kids pool for the junior to have some fun under the sun. Also, check out the hotel’s signature restaurant – Makan Kitchen for some yummilicious local food.\\nPrice starts from RM348++/night ($120++)\\nParking facilities: Complimentary for in-house guests\\nWebsite:\\xa0DoubleTree by Hilton\\n2. Aloft Kuala Lumpur Sentral\\nhttps://www.instagram.com/p/BESHiOymeW0/\\nIf you want to stay in KL, but not right in the city centre, Aloft is the right place for you. This trendy hotel\\xa0houses a spacious splash pool, fitness centre, lounge, and is\\xa0fitted with free Wi-Fi access. Also, they’re really close to KL Sentral railway station.\\nPrice starts\\xa0from RM300++/night ($103++)\\nParking facilities: Available at RM6/day\\nWebsite:\\xa0Aloft KL Sentral\\nFor the city explorers:\\n1. BackHome KL Hostel\\nhttps://www.instagram.com/p/BCMsJfISzKh/\\nBackHome is a boutique backpackers’ hostel located in the heart of KL’s financial and historical district. Described as a 5-star backpacking experience, they are always 80% booked. So make sure you chope your place in advance.\\nPrice starts from RM60++/night ($21++)\\nNo parking facilities.\\nWebsite:\\xa0BackHome\\nNow that you’ve decided on your logistics, what’s fun to do there? Stay tuned for Part 2 of the Ultimate KL Guide on what to do in Kuala Lumpur and where to get the best food!\\n(Header image credit:\\xa0mcgroup)\\nThis is Part 1 of The Ultimate Guide to Kuala Lumpur series. For Part 2:\\xa014 Must Try Food Places & Places To Go In KL!\\n'"
      ]
     },
     "execution_count": 10,
     "metadata": {},
     "output_type": "execute_result"
    }
   ],
   "source": [
    "soup.find('section', {'class': 'entry-content content-width-limit'}).text"
   ]
  },
  {
   "cell_type": "code",
   "execution_count": 11,
   "metadata": {},
   "outputs": [
    {
     "name": "stderr",
     "output_type": "stream",
     "text": [
      "1459it [31:14,  1.28s/it]\n"
     ]
    }
   ],
   "source": [
    "for no, url in tqdm(enumerate(urls)):\n",
    "    filename = os.path.join('page', f'{no}.json')\n",
    "    if os.path.exists(filename):\n",
    "        continue\n",
    "    \n",
    "    while True:\n",
    "        try:\n",
    "            r = requests.get(url)\n",
    "            break\n",
    "        except:\n",
    "            time.sleep(1.0)\n",
    "            \n",
    "    soup = BeautifulSoup(r.content, \"lxml\")\n",
    "\n",
    "    try:\n",
    "        title = soup.find('h1').text\n",
    "    except Exception as e:\n",
    "        title = None\n",
    "\n",
    "    try:\n",
    "        body = soup.find('section', {'class': 'entry-content content-width-limit'}).text\n",
    "    except Exception as e:\n",
    "        body = None\n",
    "\n",
    "    data = {\n",
    "        'url': url,\n",
    "        'title': title,\n",
    "        'body': body,\n",
    "    }\n",
    "    with open(filename, 'w') as fopen:\n",
    "        json.dump(data, fopen)"
   ]
  },
  {
   "cell_type": "code",
   "execution_count": null,
   "metadata": {},
   "outputs": [],
   "source": []
  }
 ],
 "metadata": {
  "kernelspec": {
   "display_name": "Python 3 (ipykernel)",
   "language": "python",
   "name": "python3"
  },
  "language_info": {
   "codemirror_mode": {
    "name": "ipython",
    "version": 3
   },
   "file_extension": ".py",
   "mimetype": "text/x-python",
   "name": "python",
   "nbconvert_exporter": "python",
   "pygments_lexer": "ipython3",
   "version": "3.8.10"
  }
 },
 "nbformat": 4,
 "nbformat_minor": 4
}
