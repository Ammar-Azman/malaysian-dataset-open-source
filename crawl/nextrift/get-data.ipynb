{
 "cells": [
  {
   "cell_type": "code",
   "execution_count": 1,
   "id": "8eaefbf6",
   "metadata": {},
   "outputs": [],
   "source": [
    "import requests\n",
    "from bs4 import BeautifulSoup\n",
    "from tqdm.asyncio import tqdm\n",
    "import asyncio\n",
    "import json\n",
    "import requests"
   ]
  },
  {
   "cell_type": "code",
   "execution_count": 2,
   "id": "80dcc419",
   "metadata": {},
   "outputs": [
    {
     "name": "stdout",
     "output_type": "stream",
     "text": [
      "3664\n"
     ]
    }
   ],
   "source": [
    "url1 = \"https://nextrift.com/sitemap-1.xml\"\n",
    "response1 = requests.get(url1)\n",
    "soup1 = BeautifulSoup(response1.content, \"xml\")\n",
    "\n",
    "url2 = \"https://nextrift.com/sitemap-2.xml\"\n",
    "response2 = requests.get(url2)\n",
    "soup2 = BeautifulSoup(response2.content, \"xml\")\n",
    "\n",
    "locs = soup1.find_all('loc')[2:]\n",
    "locs.extend(soup2.find_all('loc'))\n",
    "urls = [loc.get_text() for loc in locs]\n",
    "\n",
    "dataset = [0] * len(urls)\n",
    "\n",
    "print(len(urls))"
   ]
  },
  {
   "cell_type": "code",
   "execution_count": 3,
   "id": "b7c0e750",
   "metadata": {},
   "outputs": [],
   "source": [
    "async def crawl(x):\n",
    "    response = requests.get(urls[x])\n",
    "    soup = BeautifulSoup(response.content, \"lxml\")\n",
    "    data = {\n",
    "        'url': urls[x],\n",
    "        'title': soup.find('h1', {'class': 'article-title'}).text.strip(),\n",
    "        'body': soup.find('div', {'class': 'article-content'}).get_text(separator=\"\\n\"),\n",
    "    }\n",
    "    dataset[x] = data\n",
    "\n",
    "async def main():\n",
    "    flist = [crawl(x) for x in range(0, len(urls))]\n",
    "    for f in tqdm(flist):\n",
    "        await f"
   ]
  },
  {
   "cell_type": "code",
   "execution_count": 4,
   "id": "6c4f83cb",
   "metadata": {},
   "outputs": [
    {
     "name": "stderr",
     "output_type": "stream",
     "text": [
      "100%|██████████████████████████████████████████████████████████████████████████████| 3664/3664 [09:10<00:00,  6.66it/s]\n"
     ]
    }
   ],
   "source": [
    "await main()\n",
    "\n",
    "with open('nextrift.jsonl', 'w') as file:\n",
    "    for entry in dataset:\n",
    "        json.dump(entry, file)\n",
    "        file.write('\\n')"
   ]
  }
 ],
 "metadata": {
  "kernelspec": {
   "display_name": "Python 3 (ipykernel)",
   "language": "python",
   "name": "python3"
  },
  "language_info": {
   "codemirror_mode": {
    "name": "ipython",
    "version": 3
   },
   "file_extension": ".py",
   "mimetype": "text/x-python",
   "name": "python",
   "nbconvert_exporter": "python",
   "pygments_lexer": "ipython3",
   "version": "3.9.7"
  }
 },
 "nbformat": 4,
 "nbformat_minor": 5
}
