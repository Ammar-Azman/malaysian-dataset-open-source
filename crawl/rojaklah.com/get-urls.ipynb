{
 "cells": [
  {
   "cell_type": "code",
   "execution_count": 20,
   "metadata": {},
   "outputs": [],
   "source": [
    "import requests\n",
    "from bs4 import BeautifulSoup\n",
    "from tqdm import tqdm\n",
    "import os\n",
    "import json\n",
    "import numpy as np\n",
    "import time\n",
    "import random\n",
    "import json"
   ]
  },
  {
   "cell_type": "code",
   "execution_count": 25,
   "metadata": {},
   "outputs": [],
   "source": [
    "cookies = {\n",
    "    '_cc_id': '69f8b801beef15345eb5accdea253af',\n",
    "    'panoramaIdType': 'panoIndiv',\n",
    "    '_cb': 'C5Jhi6CBV6gbBtooPk',\n",
    "    'panoramaId': '1211dc095c1d8b91c5624a83d00716d53938452c26a545c0166a87e03cfa958a',\n",
    "    'trc_cookie_storage': 'taboola%2520global%253Auser-id%3Dd17cd528-3462-4d94-885f-447b3bbb14ec-tuct62a25a2',\n",
    "    '_gid': 'GA1.2.280242752.1689090066',\n",
    "    '_cb_svref': 'null',\n",
    "    'cto_bundle': 'Qr0sdV9LOXozdDhFbk5jellZdzdSNmhjdVJZRHlSNEdZcXNINHVqdlg2aiUyRnBUUnNIdkFJeG5GeXJqME5BMlYzQzNMdmRtajVWeG5ZcmR6cjVxOVNxVkc4YndNSzVBYnFkYWxDS0pwVENkTEVMSWxWN0JhMm1aZjFzNERFbXJ5dGNzNm9MQ1ZSZCUyQllOTDN6SXROOGdjeHFwRERnJTNEJTNE',\n",
    "    '_gat_UA-67266405-1': '1',\n",
    "    'panoramaId_expiry': '1689696445545',\n",
    "    '_ga': 'GA1.2.1351282564.1688641260',\n",
    "    '_chartbeat2': '.1688641261027.1689091646340.1001011.BPy0L9CZAYaEBtjNxKDTnABcCYbVhy.3',\n",
    "    '_chartbeat5': '215|1690|%2Fcategory%2Fnews%2F|https%3A%2F%2Frojaklah.com%2F2023%2F07%2F11%2Florry-tank-explosion-xx-110723%2F|D5y7PUUVE53CyXLPlB6mrVmCMB7Vo||r|BSa37QDkd-_5u9B33CdqpNgbWNxi|rojaklah.com|',\n",
    "    '_ga_RHV5G1NMMG': 'GS1.1.1689090065.3.1.1689091646.31.0.0',\n",
    "}\n",
    "\n",
    "headers = {\n",
    "    'authority': 'rojaklah.com',\n",
    "    'accept': '*/*',\n",
    "    'accept-language': 'en-MY,en;q=0.9,en-US;q=0.8,ms;q=0.7',\n",
    "    'cache-control': 'no-cache',\n",
    "    'content-type': 'application/x-www-form-urlencoded; charset=UTF-8',\n",
    "    # 'cookie': '_cc_id=69f8b801beef15345eb5accdea253af; panoramaIdType=panoIndiv; _cb=C5Jhi6CBV6gbBtooPk; panoramaId=1211dc095c1d8b91c5624a83d00716d53938452c26a545c0166a87e03cfa958a; trc_cookie_storage=taboola%2520global%253Auser-id%3Dd17cd528-3462-4d94-885f-447b3bbb14ec-tuct62a25a2; _gid=GA1.2.280242752.1689090066; _cb_svref=null; cto_bundle=Qr0sdV9LOXozdDhFbk5jellZdzdSNmhjdVJZRHlSNEdZcXNINHVqdlg2aiUyRnBUUnNIdkFJeG5GeXJqME5BMlYzQzNMdmRtajVWeG5ZcmR6cjVxOVNxVkc4YndNSzVBYnFkYWxDS0pwVENkTEVMSWxWN0JhMm1aZjFzNERFbXJ5dGNzNm9MQ1ZSZCUyQllOTDN6SXROOGdjeHFwRERnJTNEJTNE; _gat_UA-67266405-1=1; panoramaId_expiry=1689696445545; _ga=GA1.2.1351282564.1688641260; _chartbeat2=.1688641261027.1689091646340.1001011.BPy0L9CZAYaEBtjNxKDTnABcCYbVhy.3; _chartbeat5=215|1690|%2Fcategory%2Fnews%2F|https%3A%2F%2Frojaklah.com%2F2023%2F07%2F11%2Florry-tank-explosion-xx-110723%2F|D5y7PUUVE53CyXLPlB6mrVmCMB7Vo||r|BSa37QDkd-_5u9B33CdqpNgbWNxi|rojaklah.com|; _ga_RHV5G1NMMG=GS1.1.1689090065.3.1.1689091646.31.0.0',\n",
    "    'origin': 'https://rojaklah.com',\n",
    "    'pragma': 'no-cache',\n",
    "    'referer': 'https://rojaklah.com/category/entertainment/',\n",
    "    'sec-ch-ua': '\"Not.A/Brand\";v=\"8\", \"Chromium\";v=\"114\", \"Google Chrome\";v=\"114\"',\n",
    "    'sec-ch-ua-mobile': '?0',\n",
    "    'sec-ch-ua-platform': '\"macOS\"',\n",
    "    'sec-fetch-dest': 'empty',\n",
    "    'sec-fetch-mode': 'cors',\n",
    "    'sec-fetch-site': 'same-origin',\n",
    "    'user-agent': 'Mozilla/5.0 (Macintosh; Intel Mac OS X 10_15_7) AppleWebKit/537.36 (KHTML, like Gecko) Chrome/114.0.0.0 Safari/537.36',\n",
    "    'x-requested-with': 'XMLHttpRequest',\n",
    "}\n",
    "\n",
    "data = {\n",
    "    'action': 'rojaklah_ajax_load_more',\n",
    "    'page': '0',\n",
    "    'query[cat]': '0',\n",
    "    'query[posts_per_page]': '100',\n",
    "}\n",
    "\n",
    "response = requests.post('https://rojaklah.com/wp/wp-admin/admin-ajax.php', cookies=cookies, headers=headers, data=data)"
   ]
  },
  {
   "cell_type": "code",
   "execution_count": 27,
   "metadata": {},
   "outputs": [],
   "source": [
    "!mkdir url"
   ]
  },
  {
   "cell_type": "code",
   "execution_count": 29,
   "metadata": {},
   "outputs": [
    {
     "name": "stderr",
     "output_type": "stream",
     "text": [
      "366it [00:00, 942.19it/s]\n",
      "2it [00:00,  6.63it/s]\n",
      "170it [00:00, 495.28it/s]\n",
      "99it [00:26,  3.73it/s] \n",
      "9it [00:05,  1.68it/s]\n",
      "6it [00:03,  1.70it/s]\n",
      "15it [00:08,  1.77it/s]\n",
      "14it [00:07,  1.85it/s]\n",
      "2it [00:01,  1.36it/s]\n",
      "26it [00:14,  1.75it/s]\n",
      "0it [00:00, ?it/s]\n",
      "0it [00:00, ?it/s]\n",
      "0it [00:00, ?it/s]\n",
      "0it [00:00, ?it/s]\n",
      "0it [00:00, ?it/s]\n",
      "0it [00:00, ?it/s]\n",
      "0it [00:00, ?it/s]\n",
      "0it [00:00, ?it/s]\n",
      "0it [00:00, ?it/s]\n",
      "0it [00:00, ?it/s]\n"
     ]
    }
   ],
   "source": [
    "def generator():\n",
    "    while True:\n",
    "        yield\n",
    "        \n",
    "for i in range(20):\n",
    "    index = 0\n",
    "    \n",
    "    for _ in tqdm(generator()):\n",
    "        filename = os.path.join('url', f'{i}-{index}.json')\n",
    "        if os.path.exists(filename):\n",
    "            index += 1\n",
    "            continue\n",
    "            \n",
    "        data = {\n",
    "            'action': 'rojaklah_ajax_load_more',\n",
    "            'page': str(index),\n",
    "            'query[cat]': str(i),\n",
    "            'query[posts_per_page]': '100',\n",
    "        }\n",
    "        \n",
    "        while True:\n",
    "            try:\n",
    "                response = requests.post('https://rojaklah.com/wp/wp-admin/admin-ajax.php', cookies=cookies, headers=headers, data=data)\n",
    "                break\n",
    "            except:\n",
    "                time.sleep(1.0)\n",
    "        r = response.json()\n",
    "        if not len(r['data']):\n",
    "            break\n",
    "            \n",
    "        soup = BeautifulSoup(r['data'], \"lxml\")\n",
    "        a = soup.find_all('a')\n",
    "        a = [a_.get('href') for a_ in a]\n",
    "        \n",
    "        with open(filename, 'w') as fopen:\n",
    "            json.dump(a, fopen)\n",
    "            \n",
    "        index += 1"
   ]
  },
  {
   "cell_type": "code",
   "execution_count": null,
   "metadata": {},
   "outputs": [],
   "source": []
  }
 ],
 "metadata": {
  "kernelspec": {
   "display_name": "Python 3 (ipykernel)",
   "language": "python",
   "name": "python3"
  },
  "language_info": {
   "codemirror_mode": {
    "name": "ipython",
    "version": 3
   },
   "file_extension": ".py",
   "mimetype": "text/x-python",
   "name": "python",
   "nbconvert_exporter": "python",
   "pygments_lexer": "ipython3",
   "version": "3.8.10"
  }
 },
 "nbformat": 4,
 "nbformat_minor": 4
}
