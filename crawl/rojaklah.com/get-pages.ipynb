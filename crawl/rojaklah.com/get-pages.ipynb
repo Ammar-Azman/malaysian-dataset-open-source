{
 "cells": [
  {
   "cell_type": "code",
   "execution_count": 1,
   "metadata": {},
   "outputs": [],
   "source": [
    "import requests\n",
    "from bs4 import BeautifulSoup\n",
    "from tqdm import tqdm\n",
    "import os\n",
    "import json\n",
    "import numpy as np\n",
    "import time\n",
    "import random\n",
    "import json"
   ]
  },
  {
   "cell_type": "code",
   "execution_count": 2,
   "metadata": {},
   "outputs": [
    {
     "data": {
      "text/plain": [
       "36487"
      ]
     },
     "execution_count": 2,
     "metadata": {},
     "output_type": "execute_result"
    }
   ],
   "source": [
    "from glob import glob\n",
    "\n",
    "files = glob('url/*.json')\n",
    "urls = []\n",
    "for f in files:\n",
    "    with open(f) as fopen:\n",
    "        urls.extend(json.load(fopen))\n",
    "urls = sorted(list(set(urls)))\n",
    "len(urls)"
   ]
  },
  {
   "cell_type": "code",
   "execution_count": 3,
   "metadata": {},
   "outputs": [
    {
     "name": "stdout",
     "output_type": "stream",
     "text": [
      "mkdir: cannot create directory ‘page’: File exists\r\n"
     ]
    }
   ],
   "source": [
    "!mkdir page"
   ]
  },
  {
   "cell_type": "code",
   "execution_count": 4,
   "metadata": {},
   "outputs": [
    {
     "data": {
      "text/plain": [
       "'https://rojaklah.com/2015/10/01/2016movieyk11015/'"
      ]
     },
     "execution_count": 4,
     "metadata": {},
     "output_type": "execute_result"
    }
   ],
   "source": [
    "urls[0]"
   ]
  },
  {
   "cell_type": "code",
   "execution_count": 5,
   "metadata": {},
   "outputs": [],
   "source": [
    "r = requests.get(urls[0])\n",
    "soup = BeautifulSoup(r.content, \"lxml\")"
   ]
  },
  {
   "cell_type": "code",
   "execution_count": 6,
   "metadata": {},
   "outputs": [
    {
     "data": {
      "text/plain": [
       "'【2016的强档电影】戏迷请注意！26部好莱坞大制作即将登场！先送上精彩绝伦的预告片,去片（内有视频）'"
      ]
     },
     "execution_count": 6,
     "metadata": {},
     "output_type": "execute_result"
    }
   ],
   "source": [
    "soup.find('h1', {'class': 'story__title'}).text"
   ]
  },
  {
   "cell_type": "code",
   "execution_count": 7,
   "metadata": {},
   "outputs": [
    {
     "data": {
      "text/plain": [
       "'《普罗米修斯2》Prometheus 2\\u3000（2016-03-04）\\n▼异形再度来袭！\\n\\n\\n\\n\\n\\n\\n\\n《魔兽世界》Warcraft\\u3000（2016-03-11）\\n▼从2015年延到2016，希望别再延了，超期待的啊QwQ\\n\\n\\n\\n\\n\\n\\n\\n《比佛利山警探4》Beverly Hills Cop 4\\u3000（2016-03-25）\\n▼艾迪墨菲的经典动作电影续作！\\n\\n\\n\\n\\n\\n\\n《魔镜梦游2》Alice in Wonderland: : Through the Looking Glass\\u3000（2016-05-27）\\n▼卖的很好所以拍了第2集，不知道这次的故事是什麽呢～\\n\\n\\n\\n\\n\\n\\n\\n《盗墓笔记之七星鲁王宫》The Lost Tomb\\u3000（2016-07）\\n▼盗墓笔记除了在大陆上映电视剧外，2016年也会有电影唷！\\n\\n\\n\\n\\n\\n\\n\\n《ID4星际终结者2》Independence Day 2\\u3000（2016-07-01）\\n▼ID4退出2015年的大乱斗延至2016年，顺便庆祝第1集上映20周年XD\\n\\n\\n\\n\\n\\n\\n\\n\\n\\n\\n\\n\\n\\n\\n\\n\\n《神鬼认证5》The Bourne Betrayal\\u3000（2016-07-15）\\n▼麦特戴蒙（Matt Damon）第5集确定会回归罗！\\n\\n\\n\\n\\n\\n\\n\\n《怪兽与它们的产地》Fantastic Beasts and Where to Find Them\\u3000（2016-11-18）\\n▼此为哈利波特番外篇，预计有三部曲，剧本是由J.K.罗琳撰写。\\n\\n\\n\\n\\n\\n\\n\\nAssassin’s Creed 刺客教条 （2016-12-21）\\n▼这也是夏茵我很期待的电影！\\n\\n\\n\\n\\n\\n\\n\\n▼主角是由X战警中饰演年轻万磁王的麦克•法斯宾达（Michael Fassbender）领衔演出！\\n\\n《阿凡达2》Avatar 2\\u3000（2016-12）\\n▼阿凡达2和3是同步开拍的，所以花费时间较长，第2集延到2016年底上映。\\n\\n\\n\\n\\n\\n\\n\\n《神鬼传奇》The Mummy\\u3000（2016）\\n▼非常经典的木乃伊电影要重拍罗，有办法超越大受好评的旧版（第一集）吗？\\n\\n《分歧者3》Divergent 3\\u3000（2016）\\n▼知名畅销科幻小说分歧者第3部终於要上映了！\\n\\n\\n\\n\\n\\n\\n\\n《女巫猎人2》Hansel and Gretel: Witch Hunters\\u3000（2016）\\n▼没想到这部竟然也要拍第2集了，只是杰瑞米有时间拍吗…？\\n\\n《厉阴宅2》The Conjuring: The Enfield Poltergeist\\u3000（2016）\\n▼想继续看华伦夫妇捉鬼之旅的人还要在等等了。\\n\\n\\n\\n\\n\\n\\n\\n《猩球崛起3》Dawn of the Planet of the Apes\\u3000（2016）\\n▼大受好评的猩球崛起，第3部预计2016年上映！\\n\\n《神鬼奇航5: 死无对证》Pirates of the Caribbean: Dead Men Tell No Tales\\u3000（2016）\\n▼延啊延，这部到底什麽时候生的出来咧？让我们继续看下去…\\n\\n\\n\\n\\n\\n\\n\\n《星舰迷航记3：石破天惊》Star Trek 3\\u3000（2016）\\n▼2016年为星舰迷航记系列的50年纪念，虽然时间未定，但应该是2016年上映的。\\n\\n\\n\\n\\n\\n\\n\\n《特种部队3》G.I. Joe3\\u3000（2016）\\n▼虽然内容还未定，但故事应该是聚焦在巨石强森所饰演的「路霸」身上！\\n\\n《变形金刚5》Transformers 5\\u3000（2016）\\n▼第4部机械恐龙都出现了，不知道第5部会出现什麽新东西？\\n\\n\\n\\n\\n\\n\\n\\nMarvel＆DC超级英雄片\\n《蝙蝠侠大战超人：正义曙光》Batman V Superman : Dawn of Justice\\u3000（2016-05-06）\\n▼大概是放在2015年会和复仇者联盟2强碰到，所以延期到2016年罗～\\n\\n\\n\\n\\n\\n\\n\\n《美国队长3：内战》Captain America : : Civil War\\u3000（2016-05-06）\\n▼在这一部的美国队长中，钢铁人会出现唷！\\n\\n\\n\\n\\n\\n\\n\\n《X战警：天启》X-Men : Apocalypse\\u3000（2016-05-27）\\n▼众人将穿越回80年代，与年轻时候的X战警们一同对抗前所未有的强敌：天启。\\n\\n\\n\\n\\n\\n\\n\\n动画片\\n《愤怒鸟》Angry Bird\\u3000（2016-07-01）\\n▼没想到愤怒鸟也要有电影了，真好奇内容是什麽耶XD\\n\\n\\n\\n\\n\\n\\n\\n《Moana》Moana\\u3000（2016）\\n▼此为迪士尼的第57部动画，里面的主角波里尼西亚公主将会是第一位大洋洲的公主！\\n\\n\\n\\n\\n\\n\\n\\n《海底总动员2：寻找多莉》Finding Dory\\u3000（2016-06-17）\\n▼这部的故事点发生在第1部的剧情结束的一年後，故事地点则设定在加州海岸线。\\n\\n\\n\\n\\n\\n\\n\\n《冰原历险记5》Ice Age 5\\u3000（2016-07-15）\\n▼这部竟然能拍到5啊…太厉害了。\\n\\n\\n\\n\\n\\n\\n\\n《鼠来宝4》Alvin and the Chipmunks 4\\u3000（2016-12-16）\\n▼鼠来宝也从2015年延期到2016年了！\\n\\n\\n\\n\\n\\n\\n\\n\\xa0\\n来源：mango\\n'"
      ]
     },
     "execution_count": 7,
     "metadata": {},
     "output_type": "execute_result"
    }
   ],
   "source": [
    "soup.find('div', {'itemprop': 'articleBody'}).text"
   ]
  },
  {
   "cell_type": "code",
   "execution_count": 8,
   "metadata": {},
   "outputs": [
    {
     "name": "stderr",
     "output_type": "stream",
     "text": [
      "36487it [5:01:55,  2.01it/s] \n"
     ]
    }
   ],
   "source": [
    "for no, url in tqdm(enumerate(urls)):\n",
    "    filename = os.path.join('page', f'{no}.json')\n",
    "    if os.path.exists(filename):\n",
    "        continue\n",
    "    \n",
    "    while True:\n",
    "        try:\n",
    "            r = requests.get(url)\n",
    "            break\n",
    "        except:\n",
    "            time.sleep(1.0)\n",
    "            \n",
    "    soup = BeautifulSoup(r.content, \"lxml\")\n",
    "\n",
    "    try:\n",
    "        title = soup.find('h1', {'class': 'story__title'}).text\n",
    "    except Exception as e:\n",
    "        title = None\n",
    "\n",
    "    try:\n",
    "        body = soup.find('div', {'itemprop': 'articleBody'}).text\n",
    "    except Exception as e:\n",
    "        body = None\n",
    "\n",
    "    data = {\n",
    "        'url': url,\n",
    "        'title': title,\n",
    "        'body': body,\n",
    "    }\n",
    "    with open(filename, 'w') as fopen:\n",
    "        json.dump(data, fopen)"
   ]
  },
  {
   "cell_type": "code",
   "execution_count": null,
   "metadata": {},
   "outputs": [],
   "source": []
  }
 ],
 "metadata": {
  "kernelspec": {
   "display_name": "Python 3 (ipykernel)",
   "language": "python",
   "name": "python3"
  },
  "language_info": {
   "codemirror_mode": {
    "name": "ipython",
    "version": 3
   },
   "file_extension": ".py",
   "mimetype": "text/x-python",
   "name": "python",
   "nbconvert_exporter": "python",
   "pygments_lexer": "ipython3",
   "version": "3.8.10"
  }
 },
 "nbformat": 4,
 "nbformat_minor": 4
}
