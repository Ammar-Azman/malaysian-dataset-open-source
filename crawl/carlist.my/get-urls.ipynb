{
 "cells": [
  {
   "cell_type": "code",
   "execution_count": 1,
   "metadata": {},
   "outputs": [],
   "source": [
    "import requests\n",
    "from bs4 import BeautifulSoup\n",
    "from tqdm import tqdm\n",
    "import os\n",
    "import json\n",
    "import numpy as np\n",
    "import time\n",
    "import random\n",
    "import json\n",
    "from concurrent.futures import ThreadPoolExecutor, as_completed\n",
    "from datetime import datetime, timedelta"
   ]
  },
  {
   "cell_type": "code",
   "execution_count": 2,
   "metadata": {},
   "outputs": [],
   "source": [
    "categories = [\n",
    "    'https://www.carlist.my/news/auto-news/',\n",
    "    'https://www.carlist.my/news/insights/',\n",
    "    'https://www.carlist.my/news/reviews/',\n",
    "    'https://www.carlist.my/news/buying-guide/',\n",
    "    'https://www.carlist.my/news/electric-vehicle-ev/'\n",
    "]"
   ]
  },
  {
   "cell_type": "code",
   "execution_count": 3,
   "metadata": {},
   "outputs": [],
   "source": [
    "r = requests.get(categories[0])\n",
    "soup = BeautifulSoup(r.content, \"lxml\")"
   ]
  },
  {
   "cell_type": "code",
   "execution_count": 8,
   "metadata": {},
   "outputs": [
    {
     "data": {
      "text/plain": [
       "528"
      ]
     },
     "execution_count": 8,
     "metadata": {},
     "output_type": "execute_result"
    }
   ],
   "source": [
    "int(soup.find('li', {'class': 'last'}).find('a').get('href').split('=')[-1])"
   ]
  },
  {
   "cell_type": "code",
   "execution_count": 9,
   "metadata": {},
   "outputs": [
    {
     "data": {
      "text/plain": [
       "[<a class=\"text--clamp\" href=\"https://www.carlist.my/news/kl-police-goes-hard-on-motorists-issues-5-600-summonses-a-day-131655/131655/\">KL police goes hard on motorists, issues 5,600 summonses a day</a>,\n",
       " <a class=\"text--clamp\" href=\"https://www.carlist.my/news/2023-byd-dolphin-ev-launched-malaysia-s-best-entry-level-ev-is-priced-from-rm99-900-131648/131648/\">2023 BYD Dolphin EV launched: Malaysia's best entry-level EV is priced from RM99,900!</a>,\n",
       " <a class=\"text--clamp\" href=\"https://www.carlist.my/news/kia-sorento-gets-a-facelift-for-2024-with-a-sexier-front-end-131652/131652/\">Kia Sorento gets a facelift for 2024 with a sexier front end</a>,\n",
       " <a class=\"text--clamp\" href=\"https://www.carlist.my/news/2024-mitsubishi-triton-debuts-with-tougher-looks-and-more-power-up-to-204ps-and-470nm-131637/131637/\">2024 Mitsubishi Triton debuts with tougher looks and more power - Up to 204PS and 470Nm</a>,\n",
       " <a class=\"text--clamp\" href=\"https://www.carlist.my/news/economists-criticize-malaysia-s-continuation-of-approval-permit-ap-scheme-for-car-imports-131630/131630/\">Economists criticize Malaysia's continuation of Approval Permit (AP) scheme for car imports</a>,\n",
       " <a class=\"text--clamp\" href=\"https://www.carlist.my/news/temporary-closure-of-kuala-lumpur-karak-highway-for-both-east-and-west-directions-due-to-highway-sinkhole-131628/131628/\">Temporary closure of Kuala Lumpur - Karak Highway for both east and west directions due to highway sinkhole</a>,\n",
       " <a class=\"text--clamp\" href=\"https://www.carlist.my/news/government-to-cut-fuel-prices-to-tackle-inflation-131618/131618/\">Government to cut fuel prices to tackle inflation</a>,\n",
       " <a class=\"text--clamp\" href=\"https://www.carlist.my/news/mazda-s-iconic-mx-5-miata-embraces-electrification-for-2026-131608/131608/\">Mazda's iconic MX-5 Miata embraces electrification for 2026</a>,\n",
       " <a class=\"text--clamp\" href=\"https://www.carlist.my/news/eu-plans-to-ban-chrome-plating-on-cars-could-impact-future-car-design-131605/131605/\">EU plans to ban chrome plating on cars: Could impact future car design</a>,\n",
       " <a class=\"text--clamp\" href=\"https://www.carlist.my/news/datuk-seri-salahuddin-ayub-domestic-trade-and-cost-of-living-minister-passes-away-at-61-131602/131602/\">Datuk Seri Salahuddin Ayub, Domestic Trade and Cost of Living Minister,  passes away at 61</a>,\n",
       " <a class=\"text--clamp\" href=\"https://www.carlist.my/news/macc-seizes-100-luxury-cars-linked-to-illegal-duty-evasion-out-of-langkawi-131596/131596/\">MACC seizes 100 luxury cars linked to illegal duty evasion out of Langkawi</a>,\n",
       " <a class=\"text--clamp\" href=\"https://www.carlist.my/news/2023-byd-dolphin-ev-price-to-start-from-rm110-000-131594/131594/\">2023 BYD Dolphin EV price to start from RM110,000?</a>,\n",
       " <a class=\"text--clamp\" href=\"https://www.carlist.my/news/elon-welcomes-licensing-of-tesla-s-full-self-driving-tech-to-other-car-manufacturers-131590/131590/\">Elon welcomes licensing of Tesla's Full Self-Driving tech to other car manufacturers</a>,\n",
       " <a class=\"text--clamp\" href=\"https://www.carlist.my/news/consumers-have-apparently-embraced-in-car-connected-services-131583/131583/\"> Consumers have apparently embraced chargeable In-car subscription services</a>,\n",
       " <a class=\"text--clamp\" href=\"https://www.carlist.my/news/hyundai-s-multi-award-winning-ioniq-6-lands-in-malaysia-two-variants-starting-from-rm290k-131574/131574/\">Hyundai's multi-award winning IONIQ 6 lands in Malaysia - two variants starting from RM290k </a>,\n",
       " <a class=\"text--clamp\" href=\"https://www.carlist.my/news/first-look-2023-smart-1-ev-suv-premium-but-approachable-131573/131573/\">FIRST LOOK: 2023 smart #1 EV SUV - \"Premium but Approachable\"</a>,\n",
       " <a class=\"text--clamp\" href=\"https://www.carlist.my/news/byd-dolphin-malaysia-launch-imminent-camo-d-unit-seen-around-kl-131538/131538/\">BYD Dolphin Malaysia launch imminent, camo'd unit seen around KL </a>,\n",
       " <a class=\"text--clamp\" href=\"https://www.carlist.my/news/using-phones-on-holders-or-hands-free-kits-while-driving-not-against-the-law-131541/131541/\">Using phones on holders or hands-free kits while driving 'not against the law'</a>,\n",
       " <a class=\"text--clamp\" href=\"https://www.carlist.my/news/kadar-kompaun-saman-trafik-pdrm-mengikut-kesalahan-83685/83685/\">Kadar Kompaun/Saman Trafik PDRM Mengikut Kesalahan</a>,\n",
       " <a class=\"text--clamp\" href=\"https://www.carlist.my/news/hyundai-ioniq-5-n-debut-up-to-641-hp-and-simulated-eight-speed-gearbox-131442/131442/\">Hyundai Ioniq 5 N debut: Up to 641 HP and simulated eight-speed gearbox</a>,\n",
       " <a class=\"text--clamp\" href=\"https://www.carlist.my/news/2023-honda-wr-v-launched-in-malaysia-four-variants-from-rm89-900-131430/131430/\">2023 Honda WR-V launched in Malaysia - Four variants from RM89,900</a>,\n",
       " <a class=\"text--clamp\" href=\"https://www.carlist.my/news/toyota-corolla-cross-topples-proton-x70-as-malaysia-s-best-selling-c-segment-suv-131457/131457/\">Toyota Corolla Cross topples Proton X70 as Malaysia's best-selling C-segment SUV</a>,\n",
       " <a class=\"text--clamp\" href=\"https://www.carlist.my/news/hyundai-s-multi-award-winning-ioniq-6-lands-in-malaysia-two-variants-starting-from-rm290k-131574/131574/\">Hyundai's multi-award winning IONIQ 6 lands in Malaysia - two variants starting from RM290k </a>,\n",
       " <a class=\"text--clamp\" href=\"https://www.carlist.my/news/elon-welcomes-licensing-of-tesla-s-full-self-driving-tech-to-other-car-manufacturers-131590/131590/\">Elon welcomes licensing of Tesla's Full Self-Driving tech to other car manufacturers</a>,\n",
       " <a class=\"text--clamp\" href=\"https://www.carlist.my/news/2023-tesla-model-y-officially-launched-in-malaysia-3-variants-from-rm199k-131539/131539/\">2023 Tesla Model Y officially launched in Malaysia - 3 variants, from RM199k</a>,\n",
       " <a class=\"text--clamp\" href=\"https://www.carlist.my/news/2023-byd-dolphin-ev-price-to-start-from-rm110-000-131594/131594/\">2023 BYD Dolphin EV price to start from RM110,000?</a>,\n",
       " <a class=\"text--clamp\" href=\"https://www.carlist.my/news/macc-seizes-100-luxury-cars-linked-to-illegal-duty-evasion-out-of-langkawi-131596/131596/\">MACC seizes 100 luxury cars linked to illegal duty evasion out of Langkawi</a>,\n",
       " <a class=\"text--clamp\" href=\"https://www.carlist.my/news/temporary-closure-of-kuala-lumpur-karak-highway-for-both-east-and-west-directions-due-to-highway-sinkhole-131628/131628/\">Temporary closure of Kuala Lumpur - Karak Highway for both east and west directions due to highway sinkhole</a>]"
      ]
     },
     "execution_count": 9,
     "metadata": {},
     "output_type": "execute_result"
    }
   ],
   "source": [
    "soup.find_all('a', {'class': 'text--clamp'})"
   ]
  },
  {
   "cell_type": "code",
   "execution_count": 10,
   "metadata": {},
   "outputs": [],
   "source": [
    "!rm -rf url\n",
    "!mkdir url"
   ]
  },
  {
   "cell_type": "code",
   "execution_count": 11,
   "metadata": {},
   "outputs": [
    {
     "name": "stderr",
     "output_type": "stream",
     "text": [
      "100%|█████████████████████████████████████████| 528/528 [03:17<00:00,  2.67it/s]\n",
      "100%|███████████████████████████████████████████| 83/83 [00:31<00:00,  2.66it/s]\n",
      "100%|███████████████████████████████████████████| 27/27 [00:10<00:00,  2.60it/s]\n",
      "100%|███████████████████████████████████████████| 63/63 [00:22<00:00,  2.79it/s]\n",
      "100%|█████████████████████████████████████████████| 9/9 [00:03<00:00,  2.62it/s]\n"
     ]
    }
   ],
   "source": [
    "for t in categories:\n",
    "    t_ = t.split('my/')[1].replace('/', '-')\n",
    "    r = requests.get(t)\n",
    "    soup = BeautifulSoup(r.content, \"lxml\")\n",
    "    try:\n",
    "        page_num = int(soup.find('li', {'class': 'last'}).find('a').get('href').split('=')[-1])\n",
    "    except:\n",
    "        page_num = 1\n",
    "    \n",
    "    for index in tqdm(range(1, page_num + 1, 1)):\n",
    "        filename = os.path.join('url', f'{t_}-{index}.json')\n",
    "        if os.path.exists(filename):\n",
    "            continue\n",
    "        url = f'{t}?page_number={index}'\n",
    "        r = requests.get(url)\n",
    "        soup = BeautifulSoup(r.content, \"lxml\")\n",
    "        \n",
    "        a = soup.find_all('a', {'class': 'text--clamp'})\n",
    "        a = [a_.get('href') for a_ in a]\n",
    "\n",
    "        with open(filename, 'w') as fopen:\n",
    "            json.dump(a, fopen)       "
   ]
  },
  {
   "cell_type": "code",
   "execution_count": null,
   "metadata": {},
   "outputs": [],
   "source": []
  }
 ],
 "metadata": {
  "kernelspec": {
   "display_name": "Python 3 (ipykernel)",
   "language": "python",
   "name": "python3"
  },
  "language_info": {
   "codemirror_mode": {
    "name": "ipython",
    "version": 3
   },
   "file_extension": ".py",
   "mimetype": "text/x-python",
   "name": "python",
   "nbconvert_exporter": "python",
   "pygments_lexer": "ipython3",
   "version": "3.8.10"
  }
 },
 "nbformat": 4,
 "nbformat_minor": 4
}
