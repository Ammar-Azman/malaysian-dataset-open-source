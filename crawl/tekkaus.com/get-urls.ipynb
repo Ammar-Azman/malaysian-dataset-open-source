{
 "cells": [
  {
   "cell_type": "code",
   "execution_count": 2,
   "metadata": {},
   "outputs": [],
   "source": [
    "import requests\n",
    "from bs4 import BeautifulSoup\n",
    "from tqdm import tqdm\n",
    "import os\n",
    "import json\n",
    "import numpy as np\n",
    "import time\n",
    "import random\n",
    "import json"
   ]
  },
  {
   "cell_type": "code",
   "execution_count": 62,
   "metadata": {},
   "outputs": [],
   "source": [
    "topics = [\n",
    "    'Gadget',\n",
    "    'Footwear',\n",
    "    'Product%20Review',\n",
    "    'Hotel%20Review',\n",
    "    'Food%20Review'\n",
    "]"
   ]
  },
  {
   "cell_type": "code",
   "execution_count": null,
   "metadata": {},
   "outputs": [],
   "source": []
  },
  {
   "cell_type": "code",
   "execution_count": 111,
   "metadata": {},
   "outputs": [],
   "source": [
    "cookies = {\n",
    "    'GN_USER_ID_KEY': 'f11b84c2-8f9e-4cca-b519-d628c25dbbe0',\n",
    "    'wsg_referrer': 'https://www.google.com/',\n",
    "    'fpestid': '3Hv0k0R-pUKaCAsSEXS7028Luy6A62VYoeyggkJGyETiqd8F4gCszuIQu_YikyMOIxezvg',\n",
    "    '_cc_id': '69f8b801beef15345eb5accdea253af',\n",
    "    'panoramaId_expiry': '1690130895778',\n",
    "    'panoramaId': '1211dc095c1d8b91c5624a83d00716d53938452c26a545c0166a87e03cfa958a',\n",
    "    'panoramaIdType': 'panoIndiv',\n",
    "    'wsg_pages': 'https://www.tekkaus.com/2023/04/honor-magic-5-pro-review-revolution-in-tech-industry.html%0Ahttps://www.tekkaus.com/%0Ahttps://www.tekkaus.com/#%0Ahttps://www.tekkaus.com/search/label/Gadget%0Ahttps://www.tekkaus.com/search/label/Footwear%0Ahttps://www.tekkaus.com/p/prnewswire.html%0Ahttps://www.tekkaus.com/search/label/Gadget%0Ahttps://www.tekkaus.com/%0Ahttps://www.tekkaus.com/search/label/Gadget',\n",
    "    'GN_SESSION_ID_KEY': '155dfb2a-9d7e-46c7-9099-119af77fabc3',\n",
    "    'gravitecOptInBlocked': 'true',\n",
    "}\n",
    "\n",
    "headers = {\n",
    "    'authority': 'www.tekkaus.com',\n",
    "    'accept': 'text/javascript, application/javascript, application/ecmascript, application/x-ecmascript, */*; q=0.01',\n",
    "    'accept-language': 'en-MY,en;q=0.9,en-US;q=0.8,ms;q=0.7',\n",
    "    'cache-control': 'no-cache',\n",
    "    # 'cookie': 'GN_USER_ID_KEY=f11b84c2-8f9e-4cca-b519-d628c25dbbe0; wsg_referrer=https://www.google.com/; fpestid=3Hv0k0R-pUKaCAsSEXS7028Luy6A62VYoeyggkJGyETiqd8F4gCszuIQu_YikyMOIxezvg; _cc_id=69f8b801beef15345eb5accdea253af; panoramaId_expiry=1690130895778; panoramaId=1211dc095c1d8b91c5624a83d00716d53938452c26a545c0166a87e03cfa958a; panoramaIdType=panoIndiv; wsg_pages=https://www.tekkaus.com/2023/04/honor-magic-5-pro-review-revolution-in-tech-industry.html%0Ahttps://www.tekkaus.com/%0Ahttps://www.tekkaus.com/#%0Ahttps://www.tekkaus.com/search/label/Gadget%0Ahttps://www.tekkaus.com/search/label/Footwear%0Ahttps://www.tekkaus.com/p/prnewswire.html%0Ahttps://www.tekkaus.com/search/label/Gadget%0Ahttps://www.tekkaus.com/%0Ahttps://www.tekkaus.com/search/label/Gadget; GN_SESSION_ID_KEY=155dfb2a-9d7e-46c7-9099-119af77fabc3; gravitecOptInBlocked=true',\n",
    "    'pragma': 'no-cache',\n",
    "    'referer': 'https://www.tekkaus.com/search/label/Gadget',\n",
    "    'sec-ch-ua': '\"Not.A/Brand\";v=\"8\", \"Chromium\";v=\"114\", \"Google Chrome\";v=\"114\"',\n",
    "    'sec-ch-ua-mobile': '?0',\n",
    "    'sec-ch-ua-platform': '\"macOS\"',\n",
    "    'sec-fetch-dest': 'empty',\n",
    "    'sec-fetch-mode': 'cors',\n",
    "    'sec-fetch-site': 'same-origin',\n",
    "    'user-agent': 'Mozilla/5.0 (Macintosh; Intel Mac OS X 10_15_7) AppleWebKit/537.36 (KHTML, like Gecko) Chrome/114.0.0.0 Safari/537.36',\n",
    "    'x-requested-with': 'XMLHttpRequest',\n",
    "}\n",
    "\n",
    "params = {\n",
    "    'alt': 'json-in-script',\n",
    "    'start-index': '1',\n",
    "    'max-results': '100',\n",
    "    'callback': 'jQuery2240060640263714884846_1689721975867',\n",
    "    '_': '1689721975868',\n",
    "}\n",
    "\n",
    "response = requests.get('https://www.tekkaus.com/feeds/posts/default/-/Gadget', params=params, cookies=cookies, headers=headers)"
   ]
  },
  {
   "cell_type": "code",
   "execution_count": 116,
   "metadata": {},
   "outputs": [],
   "source": [
    "!mkdir url"
   ]
  },
  {
   "cell_type": "code",
   "execution_count": 118,
   "metadata": {},
   "outputs": [
    {
     "name": "stderr",
     "output_type": "stream",
     "text": [
      "4it [00:04,  1.15s/it]\n",
      "2it [00:00,  2.37it/s]\n",
      "2it [00:00,  2.16it/s]\n",
      "1it [00:01,  1.19s/it]\n",
      "2it [00:02,  1.29s/it]\n"
     ]
    },
    {
     "data": {
      "text/plain": [
       "199"
      ]
     },
     "execution_count": 118,
     "metadata": {},
     "output_type": "execute_result"
    }
   ],
   "source": [
    "def generator():\n",
    "    while True:\n",
    "        yield\n",
    "\n",
    "\n",
    "for t in topics:\n",
    "    t_ = t.replace('/', '-')\n",
    "    index = 1\n",
    "    for _ in tqdm(generator()):\n",
    "        filename = os.path.join('url', f'{t}-{index}.json')\n",
    "        if os.path.exists(filename):\n",
    "            index += 99\n",
    "            continue\n",
    "            \n",
    "        params = {\n",
    "            'alt': 'json-in-script',\n",
    "            'start-index': str(index),\n",
    "            'max-results': '100',\n",
    "            'callback': 'jQuery2240060640263714884846_1689721975867',\n",
    "            '_': '1689721975868',\n",
    "        }\n",
    "\n",
    "        response = requests.get(f'https://www.tekkaus.com/feeds/posts/default/-/{t}', params=params, cookies=cookies, headers=headers)\n",
    "        data = json.loads('('.join(response.content.decode().split('(')[1:])[:-2])\n",
    "        \n",
    "        if 'entry' not in data['feed']:\n",
    "            break\n",
    "        \n",
    "        with open(filename, 'w') as fopen:\n",
    "            json.dump(data, fopen)\n",
    "            \n",
    "        index += 99\n",
    "        \n",
    "index"
   ]
  },
  {
   "cell_type": "code",
   "execution_count": 104,
   "metadata": {},
   "outputs": [
    {
     "data": {
      "text/plain": [
       "'Ulefone Power Armor X11 Gives You 8,150 mAh Battery'"
      ]
     },
     "execution_count": 104,
     "metadata": {},
     "output_type": "execute_result"
    }
   ],
   "source": [
    "data['feed']['entry'][0]['title']['$t']"
   ]
  },
  {
   "cell_type": "code",
   "execution_count": 99,
   "metadata": {},
   "outputs": [],
   "source": [
    "soup = BeautifulSoup(data['feed']['entry'][0]['content']['$t'], \"lxml\")"
   ]
  },
  {
   "cell_type": "code",
   "execution_count": 100,
   "metadata": {},
   "outputs": [
    {
     "data": {
      "text/plain": [
       "\"If you are on the lookout for a smartphone that boasts super long battery life, then you will be interested in Ulefone Power Armor X11 which gives you a staggering 8,150 mAh of battery. This new Power Armour X series addition provides a cheaper alternative to its more expensive sibling-Power Armor X11 Pro. Besides a monstrous battery, your Ulefone Power Armor X11 will provide you with rugged durability in a compact form factor.Ulefone Power Armor X11 Gives You 8,150 mAh BatteryAs I have aforementioned, the Ulefone Power Armour X11 has a powerful 8150 mAh battery, which means it can be used for a long, long time and gives us peace of mind in tough situations. The Ulefone Power Armour X11 was crafted with a modern style in mind, and it has a small size that makes it easy to put in your bag. Its ergonomic shape also makes it easy to hold, so you can use it with just one hand.Compact and Durable DesignWhile the highly acclaimed\\xa0Ulefone Armour X11 Pro has been available on the market for some time, this newly announced Ulefone Armour X11 is the series' economical edition. The Armour X11 has a seamless and streamlined appearance and is designed for portability. Unlike conventional rugged smartphones, which are cumbersome and weighty, the\\xa0Ulefone Power Armor X11 is compact and lightweight. It is also MIL-STD-810H certified and IP68/IP69K rated. This rugged phone can withstand grime and water intrusion, as well as being dropped in harsh environments. Sounds like a smartphone that I need!The Most Rugged Outdoor Smartphone?The Ulefone Armour X11 has a powerful 8150 mAh battery that gives it an amazing standby time of up to 444 hours (18.5 days), 44 hours of continuous communication, 12 hours of movie watching, and 10 hours of navigation. The phone's battery lasts for a long time, so it can be used normally for up to 4 days on a single charge. It also has a 5W feature that lets users charge other devices, like cell phones or electronic watches. This makes it a great thing to carry when you're in the woods or doing other outdoor activities. So it doubles up as your power bank!Mega 8,150 mAh Battery LifeThe Ulefone Armour X11 features a 5.45-inch, HD+ (720x1440 pixel) display with a full-screen design. Providing users with vivid images and immersive visuals. While reading messages, perusing content, or playing games, users can experience smooth scrolling and enhanced clarity. However, I do feel that the screen size is a bit of a missed opportunity. Then again, I understand that this is a tradeoff to make it lighter and more compact.5.45-inch HD+ DisplayUnder the hood, the Ulefone Power Armour X11 is powered by a MediaTek Helio A22 CPU, which makes sure that it will always be buttery smooth and snappy. With the latest version of Android 13, we can also enjoy better security features to make sure we are in safe hands. The phone comes with 4GB of RAM, and you can add another 4GB of RAM in the form of virtual RAM. This is a bummer! Again, I think the company should have doubled the RAM to 8GM to make it more usable, no?Ulefone Power Armor X11 PhotographyIt is a shame that Ulefone Power Armor X11 only comes with 32GB of internal storage. Though expandable storage is supported with a microSD card of up to 256GB capacity, it is still not enough if you ask me. The Armour X11 incorporates NFC technology, allowing for convenient mobile payments. Its 3-card port permits the simultaneous use of two SIM cards and a microSD card with 256GB of storage. In addition, a customised button on the side of the device provides fast access to the Push-to-Talk feature or frequently used tools and applications, thereby enhancing convenience and productivity.Ulefone Power Armor X11 Specs and FeaturesWatch\\xa0Ulefone Power Armor X11 in Action!The Ulefone Power Armor X11 Armour X11 is currently on sale on AliExpress for US$119.99, which is less than its original price of US$299.98. You can get this great deal by taking advantage of this limited-time offer. All in all, I honestly believe that this smartphone can be a great spare phone for you. Unfortunately, its limited RAM and storage make it less ideal to be used for a lot of situations. Then again, do bear in mind that this is a rugged smartphone built for the outdoors and extreme. For more information, head over to\\xa0Ulefone's official website.\""
      ]
     },
     "execution_count": 100,
     "metadata": {},
     "output_type": "execute_result"
    }
   ],
   "source": [
    "soup.text"
   ]
  },
  {
   "cell_type": "code",
   "execution_count": null,
   "metadata": {},
   "outputs": [],
   "source": []
  }
 ],
 "metadata": {
  "kernelspec": {
   "display_name": "Python 3 (ipykernel)",
   "language": "python",
   "name": "python3"
  },
  "language_info": {
   "codemirror_mode": {
    "name": "ipython",
    "version": 3
   },
   "file_extension": ".py",
   "mimetype": "text/x-python",
   "name": "python",
   "nbconvert_exporter": "python",
   "pygments_lexer": "ipython3",
   "version": "3.8.10"
  }
 },
 "nbformat": 4,
 "nbformat_minor": 4
}
