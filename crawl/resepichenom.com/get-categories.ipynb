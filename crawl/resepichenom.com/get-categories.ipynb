{
 "cells": [
  {
   "cell_type": "code",
   "execution_count": 19,
   "id": "f088e3fb",
   "metadata": {},
   "outputs": [],
   "source": [
    "import requests\n",
    "from tqdm import tqdm\n",
    "from bs4 import BeautifulSoup"
   ]
  },
  {
   "cell_type": "code",
   "execution_count": 2,
   "id": "b2906feb",
   "metadata": {},
   "outputs": [],
   "source": [
    "r = requests.get('https://resepichenom.com/kategori/kuih-raya/show')"
   ]
  },
  {
   "cell_type": "code",
   "execution_count": 5,
   "id": "bdd2b820",
   "metadata": {},
   "outputs": [],
   "source": [
    "soup = BeautifulSoup(r.content, \"lxml\")"
   ]
  },
  {
   "cell_type": "code",
   "execution_count": 7,
   "id": "378eadc2",
   "metadata": {},
   "outputs": [
    {
     "data": {
      "text/plain": [
       "['/kategori/kuih-raya/show',\n",
       " '/kategori/pasta/show',\n",
       " '/kategori/snek-dan-makanan-ringan/show',\n",
       " '/kategori/ayam/show',\n",
       " '/kategori/daging/show',\n",
       " '/kategori/ikan/show',\n",
       " '/kategori/ikan-bilis/show',\n",
       " '/kategori/kek/show',\n",
       " '/kategori/kuih-muih/show',\n",
       " '/kategori/mee/show',\n",
       " '/kategori/muffin-dan-cupcake/show',\n",
       " '/kategori/nasi/show',\n",
       " '/kategori/pastri/show',\n",
       " '/kategori/pencicah/show',\n",
       " '/kategori/pencuci-mulut/show',\n",
       " '/kategori/roti/show',\n",
       " '/kategori/sarapan/show',\n",
       " '/kategori/sayur/show',\n",
       " '/kategori/seafood/show',\n",
       " '/kategori/sup/show',\n",
       " '/kategori/telur/show',\n",
       " '/kategori/kuih-raya/show',\n",
       " '/kategori/pasta/show',\n",
       " '/kategori/snek-dan-makanan-ringan/show',\n",
       " '/kategori/ayam/show',\n",
       " '/kategori/daging/show',\n",
       " '/kategori/ikan/show',\n",
       " '/kategori/ikan-bilis/show',\n",
       " '/kategori/kek/show',\n",
       " '/kategori/kuih-muih/show',\n",
       " '/kategori/mee/show',\n",
       " '/kategori/muffin-dan-cupcake/show',\n",
       " '/kategori/nasi/show',\n",
       " '/kategori/pastri/show',\n",
       " '/kategori/pencicah/show',\n",
       " '/kategori/pencuci-mulut/show',\n",
       " '/kategori/roti/show',\n",
       " '/kategori/sarapan/show',\n",
       " '/kategori/sayur/show',\n",
       " '/kategori/seafood/show',\n",
       " '/kategori/sup/show',\n",
       " '/kategori/telur/show']"
      ]
     },
     "execution_count": 7,
     "metadata": {},
     "output_type": "execute_result"
    }
   ],
   "source": [
    "a = soup.find_all('a')\n",
    "kategori = [a_.get('href') for a_ in a if '/kategori/' in a_.get('href')]\n",
    "kategori"
   ]
  },
  {
   "cell_type": "code",
   "execution_count": 47,
   "id": "0bddebae",
   "metadata": {
    "scrolled": true
   },
   "outputs": [
    {
     "name": "stdout",
     "output_type": "stream",
     "text": [
      "/kategori/kuih-raya/show\n"
     ]
    },
    {
     "name": "stderr",
     "output_type": "stream",
     "text": [
      "  0%|▍                                                                                                            | 4/999 [00:00<03:39,  4.53it/s]\n"
     ]
    },
    {
     "name": "stdout",
     "output_type": "stream",
     "text": [
      "/kategori/pasta/show\n"
     ]
    },
    {
     "name": "stderr",
     "output_type": "stream",
     "text": [
      "  0%|▏                                                                                                            | 2/999 [00:00<04:18,  3.85it/s]\n"
     ]
    },
    {
     "name": "stdout",
     "output_type": "stream",
     "text": [
      "/kategori/snek-dan-makanan-ringan/show\n"
     ]
    },
    {
     "name": "stderr",
     "output_type": "stream",
     "text": [
      "  0%|▏                                                                                                            | 2/999 [00:00<04:48,  3.45it/s]\n"
     ]
    },
    {
     "name": "stdout",
     "output_type": "stream",
     "text": [
      "/kategori/ayam/show\n"
     ]
    },
    {
     "name": "stderr",
     "output_type": "stream",
     "text": [
      "  1%|▉                                                                                                            | 9/999 [00:02<03:42,  4.44it/s]\n"
     ]
    },
    {
     "name": "stdout",
     "output_type": "stream",
     "text": [
      "/kategori/daging/show\n"
     ]
    },
    {
     "name": "stderr",
     "output_type": "stream",
     "text": [
      "  0%|▎                                                                                                            | 3/999 [00:01<09:31,  1.74it/s]\n"
     ]
    },
    {
     "name": "stdout",
     "output_type": "stream",
     "text": [
      "/kategori/ikan/show\n"
     ]
    },
    {
     "name": "stderr",
     "output_type": "stream",
     "text": [
      "  0%|▍                                                                                                            | 4/999 [00:00<03:56,  4.22it/s]\n"
     ]
    },
    {
     "name": "stdout",
     "output_type": "stream",
     "text": [
      "/kategori/ikan-bilis/show\n"
     ]
    },
    {
     "name": "stderr",
     "output_type": "stream",
     "text": [
      "  0%|▏                                                                                                            | 2/999 [00:00<03:58,  4.18it/s]\n"
     ]
    },
    {
     "name": "stdout",
     "output_type": "stream",
     "text": [
      "/kategori/kek/show\n"
     ]
    },
    {
     "name": "stderr",
     "output_type": "stream",
     "text": [
      "  1%|▌                                                                                                            | 5/999 [00:01<03:28,  4.76it/s]\n"
     ]
    },
    {
     "name": "stdout",
     "output_type": "stream",
     "text": [
      "/kategori/kuih-muih/show\n"
     ]
    },
    {
     "name": "stderr",
     "output_type": "stream",
     "text": [
      "  1%|█                                                                                                           | 10/999 [00:02<03:20,  4.92it/s]\n"
     ]
    },
    {
     "name": "stdout",
     "output_type": "stream",
     "text": [
      "/kategori/mee/show\n"
     ]
    },
    {
     "name": "stderr",
     "output_type": "stream",
     "text": [
      "  1%|▌                                                                                                            | 5/999 [00:01<03:46,  4.40it/s]\n"
     ]
    },
    {
     "name": "stdout",
     "output_type": "stream",
     "text": [
      "/kategori/muffin-dan-cupcake/show\n"
     ]
    },
    {
     "name": "stderr",
     "output_type": "stream",
     "text": [
      "  0%|▏                                                                                                            | 2/999 [00:00<04:38,  3.58it/s]\n"
     ]
    },
    {
     "name": "stdout",
     "output_type": "stream",
     "text": [
      "/kategori/nasi/show\n"
     ]
    },
    {
     "name": "stderr",
     "output_type": "stream",
     "text": [
      "  0%|▍                                                                                                            | 4/999 [00:00<03:50,  4.31it/s]\n"
     ]
    },
    {
     "name": "stdout",
     "output_type": "stream",
     "text": [
      "/kategori/pastri/show\n"
     ]
    },
    {
     "name": "stderr",
     "output_type": "stream",
     "text": [
      "  0%|                                                                                                             | 1/999 [00:00<05:40,  2.93it/s]\n"
     ]
    },
    {
     "name": "stdout",
     "output_type": "stream",
     "text": [
      "/kategori/pencicah/show\n"
     ]
    },
    {
     "name": "stderr",
     "output_type": "stream",
     "text": [
      "  0%|                                                                                                             | 1/999 [00:00<06:08,  2.71it/s]\n"
     ]
    },
    {
     "name": "stdout",
     "output_type": "stream",
     "text": [
      "/kategori/pencuci-mulut/show\n"
     ]
    },
    {
     "name": "stderr",
     "output_type": "stream",
     "text": [
      "  0%|▎                                                                                                            | 3/999 [00:00<04:09,  4.00it/s]\n"
     ]
    },
    {
     "name": "stdout",
     "output_type": "stream",
     "text": [
      "/kategori/roti/show\n"
     ]
    },
    {
     "name": "stderr",
     "output_type": "stream",
     "text": [
      "  0%|                                                                                                             | 1/999 [00:00<07:14,  2.30it/s]\n"
     ]
    },
    {
     "name": "stdout",
     "output_type": "stream",
     "text": [
      "/kategori/sarapan/show\n"
     ]
    },
    {
     "name": "stderr",
     "output_type": "stream",
     "text": [
      "  0%|                                                                                                             | 1/999 [00:00<06:05,  2.73it/s]\n"
     ]
    },
    {
     "name": "stdout",
     "output_type": "stream",
     "text": [
      "/kategori/sayur/show\n"
     ]
    },
    {
     "name": "stderr",
     "output_type": "stream",
     "text": [
      "  0%|▎                                                                                                            | 3/999 [00:00<04:30,  3.68it/s]\n"
     ]
    },
    {
     "name": "stdout",
     "output_type": "stream",
     "text": [
      "/kategori/seafood/show\n"
     ]
    },
    {
     "name": "stderr",
     "output_type": "stream",
     "text": [
      "  0%|▍                                                                                                            | 4/999 [00:00<03:53,  4.26it/s]\n"
     ]
    },
    {
     "name": "stdout",
     "output_type": "stream",
     "text": [
      "/kategori/sup/show\n"
     ]
    },
    {
     "name": "stderr",
     "output_type": "stream",
     "text": [
      "  0%|▏                                                                                                            | 2/999 [00:00<04:13,  3.94it/s]\n"
     ]
    },
    {
     "name": "stdout",
     "output_type": "stream",
     "text": [
      "/kategori/telur/show\n"
     ]
    },
    {
     "name": "stderr",
     "output_type": "stream",
     "text": [
      "  0%|                                                                                                             | 1/999 [00:00<06:35,  2.52it/s]\n"
     ]
    },
    {
     "name": "stdout",
     "output_type": "stream",
     "text": [
      "/kategori/kuih-raya/show\n"
     ]
    },
    {
     "name": "stderr",
     "output_type": "stream",
     "text": [
      "  0%|▍                                                                                                            | 4/999 [00:00<03:56,  4.21it/s]\n"
     ]
    },
    {
     "name": "stdout",
     "output_type": "stream",
     "text": [
      "/kategori/pasta/show\n"
     ]
    },
    {
     "name": "stderr",
     "output_type": "stream",
     "text": [
      "  0%|▏                                                                                                            | 2/999 [00:00<04:21,  3.81it/s]\n"
     ]
    },
    {
     "name": "stdout",
     "output_type": "stream",
     "text": [
      "/kategori/snek-dan-makanan-ringan/show\n"
     ]
    },
    {
     "name": "stderr",
     "output_type": "stream",
     "text": [
      "  0%|▏                                                                                                            | 2/999 [00:00<04:37,  3.59it/s]\n"
     ]
    },
    {
     "name": "stdout",
     "output_type": "stream",
     "text": [
      "/kategori/ayam/show\n"
     ]
    },
    {
     "name": "stderr",
     "output_type": "stream",
     "text": [
      "  1%|▉                                                                                                            | 9/999 [00:01<03:12,  5.15it/s]\n"
     ]
    },
    {
     "name": "stdout",
     "output_type": "stream",
     "text": [
      "/kategori/daging/show\n"
     ]
    },
    {
     "name": "stderr",
     "output_type": "stream",
     "text": [
      "  0%|▎                                                                                                            | 3/999 [00:00<04:20,  3.82it/s]\n"
     ]
    },
    {
     "name": "stdout",
     "output_type": "stream",
     "text": [
      "/kategori/ikan/show\n"
     ]
    },
    {
     "name": "stderr",
     "output_type": "stream",
     "text": [
      "  0%|▍                                                                                                            | 4/999 [00:00<03:45,  4.42it/s]\n"
     ]
    },
    {
     "name": "stdout",
     "output_type": "stream",
     "text": [
      "/kategori/ikan-bilis/show\n"
     ]
    },
    {
     "name": "stderr",
     "output_type": "stream",
     "text": [
      "  0%|▏                                                                                                            | 2/999 [00:00<04:23,  3.78it/s]\n"
     ]
    },
    {
     "name": "stdout",
     "output_type": "stream",
     "text": [
      "/kategori/kek/show\n"
     ]
    },
    {
     "name": "stderr",
     "output_type": "stream",
     "text": [
      "  1%|▌                                                                                                            | 5/999 [00:01<03:39,  4.54it/s]\n"
     ]
    },
    {
     "name": "stdout",
     "output_type": "stream",
     "text": [
      "/kategori/kuih-muih/show\n"
     ]
    },
    {
     "name": "stderr",
     "output_type": "stream",
     "text": [
      "  1%|█                                                                                                           | 10/999 [00:02<03:22,  4.87it/s]\n"
     ]
    },
    {
     "name": "stdout",
     "output_type": "stream",
     "text": [
      "/kategori/mee/show\n"
     ]
    },
    {
     "name": "stderr",
     "output_type": "stream",
     "text": [
      "  1%|▌                                                                                                            | 5/999 [00:01<03:20,  4.96it/s]\n"
     ]
    },
    {
     "name": "stdout",
     "output_type": "stream",
     "text": [
      "/kategori/muffin-dan-cupcake/show\n"
     ]
    },
    {
     "name": "stderr",
     "output_type": "stream",
     "text": [
      "  0%|▏                                                                                                            | 2/999 [00:00<04:31,  3.67it/s]\n"
     ]
    },
    {
     "name": "stdout",
     "output_type": "stream",
     "text": [
      "/kategori/nasi/show\n"
     ]
    },
    {
     "name": "stderr",
     "output_type": "stream",
     "text": [
      "  0%|▍                                                                                                            | 4/999 [00:00<03:47,  4.37it/s]\n"
     ]
    },
    {
     "name": "stdout",
     "output_type": "stream",
     "text": [
      "/kategori/pastri/show\n"
     ]
    },
    {
     "name": "stderr",
     "output_type": "stream",
     "text": [
      "  0%|                                                                                                             | 1/999 [00:00<05:07,  3.24it/s]\n"
     ]
    },
    {
     "name": "stdout",
     "output_type": "stream",
     "text": [
      "/kategori/pencicah/show\n"
     ]
    },
    {
     "name": "stderr",
     "output_type": "stream",
     "text": [
      "  0%|                                                                                                             | 1/999 [00:00<06:31,  2.55it/s]\n"
     ]
    },
    {
     "name": "stdout",
     "output_type": "stream",
     "text": [
      "/kategori/pencuci-mulut/show\n"
     ]
    },
    {
     "name": "stderr",
     "output_type": "stream",
     "text": [
      "  0%|▎                                                                                                            | 3/999 [00:00<04:18,  3.85it/s]\n"
     ]
    },
    {
     "name": "stdout",
     "output_type": "stream",
     "text": [
      "/kategori/roti/show\n"
     ]
    },
    {
     "name": "stderr",
     "output_type": "stream",
     "text": [
      "  0%|                                                                                                             | 1/999 [00:00<06:20,  2.62it/s]\n"
     ]
    },
    {
     "name": "stdout",
     "output_type": "stream",
     "text": [
      "/kategori/sarapan/show\n"
     ]
    },
    {
     "name": "stderr",
     "output_type": "stream",
     "text": [
      "  0%|                                                                                                             | 1/999 [00:00<05:50,  2.85it/s]\n"
     ]
    },
    {
     "name": "stdout",
     "output_type": "stream",
     "text": [
      "/kategori/sayur/show\n"
     ]
    },
    {
     "name": "stderr",
     "output_type": "stream",
     "text": [
      "  0%|▎                                                                                                            | 3/999 [00:00<04:07,  4.03it/s]\n"
     ]
    },
    {
     "name": "stdout",
     "output_type": "stream",
     "text": [
      "/kategori/seafood/show\n"
     ]
    },
    {
     "name": "stderr",
     "output_type": "stream",
     "text": [
      "  0%|▍                                                                                                            | 4/999 [00:00<03:44,  4.44it/s]\n"
     ]
    },
    {
     "name": "stdout",
     "output_type": "stream",
     "text": [
      "/kategori/sup/show\n"
     ]
    },
    {
     "name": "stderr",
     "output_type": "stream",
     "text": [
      "  0%|▏                                                                                                            | 2/999 [00:00<04:07,  4.02it/s]\n"
     ]
    },
    {
     "name": "stdout",
     "output_type": "stream",
     "text": [
      "/kategori/telur/show\n"
     ]
    },
    {
     "name": "stderr",
     "output_type": "stream",
     "text": [
      "  0%|                                                                                                             | 1/999 [00:00<05:51,  2.84it/s]\n"
     ]
    }
   ],
   "source": [
    "categories = {}\n",
    "\n",
    "for c in kategori:\n",
    "    print(c)\n",
    "\n",
    "    urls = set()\n",
    "    last_len = 0\n",
    "    for i in tqdm(range(1, 1000, 1)):\n",
    "        r  = f'https://resepichenom.com{c}?page={i}'\n",
    "        r = requests.get(r)\n",
    "        soup = BeautifulSoup(r.content, \"lxml\")\n",
    "        a = soup.find_all('a')\n",
    "        recipe = [a_.get('href') for a_ in a if '/resepi/' in a_.get('href') and '/show' in a_.get('href')]\n",
    "        recipe = set(recipe)\n",
    "\n",
    "        urls |= set(recipe)\n",
    "\n",
    "        if last_len == len(urls):\n",
    "            break\n",
    "\n",
    "        last_len = len(urls)\n",
    "    \n",
    "    categories[c] = list(urls)"
   ]
  },
  {
   "cell_type": "code",
   "execution_count": 48,
   "id": "0659f5cd",
   "metadata": {},
   "outputs": [
    {
     "data": {
      "text/plain": [
       "{'/kategori/kuih-raya/show': ['/resepi/biskut-bijan/show',\n",
       "  '/resepi/german-cookies/show',\n",
       "  '/resepi/biskut-mm-rangup/show',\n",
       "  '/resepi/semperit-susu/show',\n",
       "  '/resepi/biskut-kelapa-rangup/show',\n",
       "  '/resepi/sup-tulang-thai/show',\n",
       "  '/resepi/biskut-keju-cheddar-rangup/show',\n",
       "  '/resepi/biskut-bangkit/show',\n",
       "  '/resepi/chocolate-vanilla-viennese-cookies/show',\n",
       "  '/resepi/biskut-cornflake-madu-dengan-oreo/show',\n",
       "  '/resepi/biskut-semperit/show',\n",
       "  '/resepi/biskut-cornflakes/show',\n",
       "  '/resepi/biskut-chocolate-chip/show',\n",
       "  '/resepi/biskut-nestum-rangup/show',\n",
       "  '/resepi/biskut-thumb-print/show',\n",
       "  '/resepi/biskut-cornflakes-coklat-badam/show',\n",
       "  '/resepi/biskut-badam/show',\n",
       "  '/resepi/biskut-dahlia-coklat/show',\n",
       "  '/resepi/biskut-tart-nenas-nyonya/show',\n",
       "  '/resepi/brownie-cookies/show',\n",
       "  '/resepi/almond-london/show',\n",
       "  '/resepi/biskut-kacang/show',\n",
       "  '/resepi/biskut-coklat-mocha/show',\n",
       "  '/resepi/biskut-denmark/show',\n",
       "  '/resepi/biskut-red-velvet-rangup/show',\n",
       "  '/resepi/biskut-almond-london/show',\n",
       "  '/resepi/semperit-klasik/show',\n",
       "  '/resepi/tart-nenas-gulung/show',\n",
       "  '/resepi/kuetiau-sup-sambal-kicap/show',\n",
       "  '/resepi/biskut-double-chocolate-chips-rangup/show',\n",
       "  '/resepi/biskut-makmur/show',\n",
       "  '/resepi/biskut-hazelnut-nutella/show',\n",
       "  '/resepi/biskut-cornflakes-madu/show',\n",
       "  '/resepi/biskut-cappuccino/show',\n",
       "  '/resepi/sambal-tumis-udang-pedas/show',\n",
       "  '/resepi/biskut-lidah-kucing/show',\n",
       "  '/resepi/biskut-arab/show',\n",
       "  '/resepi/sambal-terung-balado/show',\n",
       "  '/resepi/biskut-sarang-semut/show',\n",
       "  '/resepi/biskut-chocolate-chip-famous/show',\n",
       "  '/resepi/ayam-bakar-tanpa-oven/show',\n",
       "  '/resepi/biskut-suji-arab/show',\n",
       "  '/resepi/biskut-semperit-dahlia-susu/show',\n",
       "  '/resepi/biskut-red-velvet-white-chocolate-chips/show',\n",
       "  '/resepi/biskut-mentega-kacang/show',\n",
       "  '/resepi/spaghetti-aglio-olio-ayam-popcorn-korea/show',\n",
       "  '/resepi/biskut-dam/show',\n",
       "  '/resepi/biskut-kacang-mazola/show',\n",
       "  '/resepi/biskut-mama-carey/show',\n",
       "  '/resepi/B3HpY-zLEr0/show',\n",
       "  '/resepi/tart-nenas-gulung-resepi-lengkap-hari-raya/show',\n",
       "  '/resepi/biskut-semperit-raya-oreo/show',\n",
       "  '/resepi/popia-nestum-sedap/show',\n",
       "  '/resepi/biskut-crunchy-caramel-almond/show'],\n",
       " '/kategori/pasta/show': ['/resepi/lasagna-paling-special/show',\n",
       "  '/resepi/spaghetti-oglio-olio/show',\n",
       "  '/resepi/makaroni-goreng/show',\n",
       "  '/resepi/makaroni-bakar-cheese-leleh/show',\n",
       "  '/resepi/sambal-tumis-udang-pedas/show',\n",
       "  '/resepi/fettucine-carbonara-udang-dan-cendawan/show',\n",
       "  '/resepi/pizza-homemade/show',\n",
       "  '/resepi/sup-tulang-thai/show',\n",
       "  '/resepi/shepherd-s-pie/show',\n",
       "  '/resepi/sambal-terung-balado/show',\n",
       "  '/resepi/ayam-bakar-tanpa-oven/show',\n",
       "  '/resepi/spaghetti-bolognese/show',\n",
       "  '/resepi/lasagna-sedap/show',\n",
       "  '/resepi/spaghetti-aglio-olio-ayam-popcorn-korea/show',\n",
       "  '/resepi/spaghetti-sos-bolognese-homemade/show',\n",
       "  '/resepi/spaghetti-aglio-olio/show',\n",
       "  '/resepi/pizza-sedap/show',\n",
       "  '/resepi/spaghetti-carbonara-lemak-berkrim-dan-sedap/show',\n",
       "  '/resepi/kuetiau-sup-sambal-kicap/show'],\n",
       " '/kategori/snek-dan-makanan-ringan/show': ['/resepi/churros/show',\n",
       "  '/resepi/tauhu-begedil-dan-sambal-kicap-yang-padu/show',\n",
       "  '/resepi/kentang-wedges-bersalut/show',\n",
       "  '/resepi/mushroom-sup-dan-garlic-bread/show',\n",
       "  '/resepi/pancake-dan-sos-coklat/show',\n",
       "  '/resepi/sambal-tumis-udang-pedas/show',\n",
       "  '/resepi/sup-tulang-thai/show',\n",
       "  '/resepi/pancake-with-chocolate-gravy/show',\n",
       "  '/resepi/cakoi-sos-pandan-kastard/show',\n",
       "  '/resepi/sambal-terung-balado/show',\n",
       "  '/resepi/ayam-bakar-tanpa-oven/show',\n",
       "  '/resepi/popcorn-caramel-homemade/show',\n",
       "  '/resepi/grill-chicken-wrap/show',\n",
       "  '/resepi/spaghetti-aglio-olio-ayam-popcorn-korea/show',\n",
       "  '/resepi/waffle-rangup-lembut-gebu-kalah-kedai-punya/show',\n",
       "  '/resepi/lapis-cheese-cracker/show',\n",
       "  '/resepi/churros-rangup-sos-coklat/show',\n",
       "  '/resepi/nugget-ayam/show',\n",
       "  '/resepi/tortilla-wrap-ayam-panggang/show',\n",
       "  '/resepi/lontong-kuah-lodeh/show',\n",
       "  '/resepi/pancake/show',\n",
       "  '/resepi/takoyaki/show',\n",
       "  '/resepi/kuetiau-sup-sambal-kicap/show'],\n",
       " '/kategori/ayam/show': ['/resepi/ayam-cili-padi/show',\n",
       "  '/resepi/kari-ayam-berkerisik/show',\n",
       "  '/resepi/ayam-kapitan/show',\n",
       "  '/resepi/ayam-gepuk-ala-pak-gembus/show',\n",
       "  '/resepi/ayam-pandan-thai-istimewa/show',\n",
       "  '/resepi/sambal-pedas-ayam/show',\n",
       "  '/resepi/ayam-goreng-honey-butter-ala-korea/show',\n",
       "  '/resepi/ayam-sambal-bali-anak-anak-pasti-suka/show',\n",
       "  '/resepi/ungkep-ayam/show',\n",
       "  '/resepi/ayam-pad-kra-pao-teh-ais-thai/show',\n",
       "  '/resepi/ayam-masak-hitam/show',\n",
       "  '/resepi/ayam-masak-merah-nek-som/show',\n",
       "  '/resepi/ayam-kfc/show',\n",
       "  '/resepi/ayam-sos-tiram/show',\n",
       "  '/resepi/ayam-kerutuk-kelantan/show',\n",
       "  '/resepi/ayam-ros-sedap/show',\n",
       "  '/resepi/rendang-ayam/show',\n",
       "  '/resepi/ayam-berempah/show',\n",
       "  '/resepi/paprik-ayam-restoran-tomyam-thai/show',\n",
       "  '/resepi/ayam-goreng-ala-kfc-set-coleslaw-mashed-potato/show',\n",
       "  '/resepi/ayam-masak-kam-heong/show',\n",
       "  '/resepi/ayam-masak-kurma/show',\n",
       "  '/resepi/kuetiau-sup-sambal-kicap/show',\n",
       "  '/resepi/ayam-goreng-berempah-madu/show',\n",
       "  '/resepi/sup-ayam-thai/show',\n",
       "  '/resepi/ayam-masak-kicap-sambal-gesek-3-budak-gemuk/show',\n",
       "  '/resepi/sambal-tumis-udang-pedas/show',\n",
       "  '/resepi/ayam-kuzi-istimewa/show',\n",
       "  '/resepi/ayam-masak-merah-berempah/show',\n",
       "  '/resepi/ayam-varuval/show',\n",
       "  '/resepi/ayam-masak-bali/show',\n",
       "  '/resepi/ayam-goreng-ala-kfc/show',\n",
       "  '/resepi/ayam-masak-kicap/show',\n",
       "  '/resepi/ayam-kung-pao-special/show',\n",
       "  '/resepi/ayam-goreng-berlado-suamiku-menambah-nambah/show',\n",
       "  '/resepi/ayam-masak-halia-paling-sedap/show',\n",
       "  '/resepi/spaghetti-aglio-olio-ayam-popcorn-korea/show',\n",
       "  '/resepi/ayam-masak-kurma-pekat-dan-sedap/show',\n",
       "  '/resepi/ayam-masak-merah/show',\n",
       "  '/resepi/ayam-masak-kicap-bersama-kentang/show',\n",
       "  '/resepi/ayam-masak-paprik/show',\n",
       "  '/resepi/rendang-ayam-raya/show',\n",
       "  '/resepi/nasi-ayam-legend-6-juta-views/show',\n",
       "  '/resepi/ayam-kung-pao/show',\n",
       "  '/resepi/ayam-goreng-korea-rangup-dan-sedap/show',\n",
       "  '/resepi/ayam-masak-merah-raya-sepcial/show',\n",
       "  '/resepi/begedil-ayam-sedap/show',\n",
       "  '/resepi/ayam-goreng-berempah-nasi-lemak-kukus/show',\n",
       "  '/resepi/ayam-masak-black-pepper-cendawan/show',\n",
       "  '/resepi/asam-pedas-ayam-style-melaka/show',\n",
       "  '/resepi/ayam-goreng-style-mamak/show',\n",
       "  '/resepi/ayam-masak-lemon-rangup-masam-manis/show',\n",
       "  '/resepi/kari-ayam-bonda/show',\n",
       "  '/resepi/ayam-masak-lemak-cili-api-negeri-sembilan/show',\n",
       "  '/resepi/sup-tulang-thai/show',\n",
       "  '/resepi/ayam-masak-merah-ala-lauk-pengantin/show',\n",
       "  '/resepi/ayam-masak-merah-lebih-sedap-dan-mantap/show',\n",
       "  '/resepi/ayam-masak-lemak-cili-api/show',\n",
       "  '/resepi/ayam-goreng-kunyit-ala-mat-rock-dan-sambal-belacan/show',\n",
       "  '/resepi/ayam-goreng-berempah/show',\n",
       "  '/resepi/ayam-teriyaki/show',\n",
       "  '/resepi/rendang-ayam-aidilfitri-ala-chef-wan/show',\n",
       "  '/resepi/ayam-percik/show',\n",
       "  '/resepi/ayam-goreng-3x-pedas-ala-mcd/show',\n",
       "  '/resepi/nugget-nasi/show',\n",
       "  '/resepi/rendang-ayam-sedap/show',\n",
       "  '/resepi/ayam-goreng-rangup-bersos-lemon/show',\n",
       "  '/resepi/ayam-masak-cili-kering/show',\n",
       "  '/resepi/ayam-masak-thai-yang-mengancam-sedapnya/show',\n",
       "  '/resepi/ayam-masak-merah-tomato/show',\n",
       "  '/resepi/ayam-masak-butter/show',\n",
       "  '/resepi/kari-ayam-bangladesh/show',\n",
       "  '/resepi/ayam-popcorn-sambal-manis/show',\n",
       "  '/resepi/ayam-goreng-berlada/show',\n",
       "  '/resepi/gulai-nasi-berlauk-ayam-kelantan/show',\n",
       "  '/resepi/ayam-masak-kicap-dan-kentang-paling-sedap/show',\n",
       "  '/resepi/ayam-masak-merah-sedap/show',\n",
       "  '/resepi/ayam-masak-blackpaper-cendawan/show',\n",
       "  '/resepi/ayam-butter-kicap-dan-nasi-butter/show',\n",
       "  '/resepi/tomyam-ayam/show',\n",
       "  '/resepi/kari-ayam-pedas-kuah-pekat-dan-likat/show',\n",
       "  '/resepi/ayam-masak-kicap-sedap/show',\n",
       "  '/resepi/set-ayam-goreng-kunyit/show',\n",
       "  '/resepi/ayam-buttermilk/show',\n",
       "  '/resepi/sambal-terung-balado/show',\n",
       "  '/resepi/ayam-bakar-tanpa-oven/show',\n",
       "  '/resepi/ayam-goreng-korea-super-rangup/show',\n",
       "  '/resepi/rendang-ayam-dendang-perantau/show',\n",
       "  '/resepi/ayam-goreng-madu/show',\n",
       "  '/resepi/ayam-goreng-madu-nasi-minyak/show',\n",
       "  '/resepi/resepi-ayam-ungkep-cn/show',\n",
       "  '/resepi/ayam-goreng-kunyit/show',\n",
       "  '/resepi/ayam-goreng-mamak-rangup/show',\n",
       "  '/resepi/sup-ayam-simple-tapi-cukup-sedap/show',\n",
       "  '/resepi/sambal-ayam-hijau/show',\n",
       "  '/resepi/ayam-masak-madu-ala-mamak-che-nom/show',\n",
       "  '/resepi/butter-chicken-berempah/show',\n",
       "  '/resepi/sup-ayam-istimewa/show',\n",
       "  '/resepi/sup-ayam-pekat-rempah-sendiri/show',\n",
       "  '/resepi/ayam-geprek/show',\n",
       "  '/resepi/ayam-mentega-telur-masin/show',\n",
       "  '/resepi/roti-jala-lembut-dan-kari-ayam-berkerisik/show',\n",
       "  '/resepi/ayam-masak-gajus/show',\n",
       "  '/resepi/ayam-sweet-sour/show',\n",
       "  '/resepi/kari-ayam-istimewa/show',\n",
       "  '/resepi/ayam-masak-butter-sedap/show',\n",
       "  '/resepi/ayam-masak-lemak-cili-api-sedap/show'],\n",
       " '/kategori/daging/show': ['/resepi/lamb-chop-sos-blackpepper-mushroom/show',\n",
       "  '/resepi/rendang-tok-daging/show',\n",
       "  '/resepi/sup-tulang-thai/show',\n",
       "  '/resepi/daging-kerutub-terengganu/show',\n",
       "  '/resepi/sup-tulang-ala-chef-wan/show',\n",
       "  '/resepi/black-pepper-beef/show',\n",
       "  '/resepi/begedil-daging/show',\n",
       "  '/resepi/daging-masak-kurma/show',\n",
       "  '/resepi/kari-kambing-sedap/show',\n",
       "  '/resepi/kurma-kambing/show',\n",
       "  '/resepi/kuetiau-sup-sambal-kicap/show',\n",
       "  '/resepi/daging-masak-kicap-dan-kentang/show',\n",
       "  '/resepi/daging-salai-masak-lemak-cili-padi/show',\n",
       "  '/resepi/daging-masak-merah-ala-thai/show',\n",
       "  '/resepi/sambal-tumis-udang-pedas/show',\n",
       "  '/resepi/daging-masak-black-pepper/show',\n",
       "  '/resepi/sup-tulang/show',\n",
       "  '/resepi/daging-masak-hitam-sempoi/show',\n",
       "  '/resepi/sambal-terung-balado/show',\n",
       "  '/resepi/ayam-bakar-tanpa-oven/show',\n",
       "  '/resepi/daging-masak-hitam/show',\n",
       "  '/resepi/daging-masak-asam/show',\n",
       "  '/resepi/spaghetti-aglio-olio-ayam-popcorn-korea/show',\n",
       "  '/resepi/daging-briyani/show',\n",
       "  '/resepi/sup-tulang-padu/show',\n",
       "  '/resepi/daging-goreng-kunyit/show',\n",
       "  '/resepi/kerabu-daging-ala-thai/show',\n",
       "  '/resepi/gulai-daging-utara-istimewa/show',\n",
       "  '/resepi/rendang-daging-hari-raya/show',\n",
       "  '/resepi/dalca-daging/show',\n",
       "  '/resepi/omelette-berinti-daging/show',\n",
       "  '/resepi/daging-black-pepper-confirm-sedap/show',\n",
       "  '/resepi/swedish-meatball-dan-brown-sauce/show'],\n",
       " '/kategori/ikan/show': ['/resepi/ikan-kembung-masak-asam-rebus/show',\n",
       "  '/resepi/kari-ikan-bawal/show',\n",
       "  '/resepi/ikan-bilis-goreng-kicap-cili-padi/show',\n",
       "  '/resepi/ikan-jenahak-bakar-sambal-kelapa/show',\n",
       "  '/resepi/siakap-goreng-sos-plum/show',\n",
       "  '/resepi/ikan-patin-masak-tempoyak/show',\n",
       "  '/resepi/ikan-masak-cuka/show',\n",
       "  '/resepi/sup-tulang-thai/show',\n",
       "  '/resepi/ikan-bawal-goreng-taucu/show',\n",
       "  '/resepi/siakap-stim-lemon/show',\n",
       "  '/resepi/siakap-kengsom-thai/show',\n",
       "  '/resepi/ikan-cencaru-sumbat-sambal-kelapa-air-asam-kerisik/show',\n",
       "  '/resepi/singgang-ikan-tenggiri-kelantan/show',\n",
       "  '/resepi/ikan-cencaru-sumbat-sambal/show',\n",
       "  '/resepi/asam-pedas-ikan-tenggiri-istimewa/show',\n",
       "  '/resepi/ikan-masak-tiga-rasa/show',\n",
       "  '/resepi/ikan-bawal-masak-cuka/show',\n",
       "  '/resepi/ikan-keli-berlada/show',\n",
       "  '/resepi/kari-kepala-ikan-merah/show',\n",
       "  '/resepi/asam-pedas-ikan-kembung-dan-sambal-belacan/show',\n",
       "  '/resepi/sea-bass-with-sweet-andsour-sauce/show',\n",
       "  '/resepi/keli-balado/show',\n",
       "  '/resepi/sambal-tumis-ikan-kembung/show',\n",
       "  '/resepi/singgang-ikan-kembung/show',\n",
       "  '/resepi/ikan-bawal-masam-manis/show',\n",
       "  '/resepi/kuetiau-sup-sambal-kicap/show',\n",
       "  '/resepi/gulai-ikan-tongkol/show',\n",
       "  '/resepi/ikan-bakar-dan-air-asam/show',\n",
       "  '/resepi/fish-head-curry/show',\n",
       "  '/resepi/asam-pedas-ikan-tenggiri/show',\n",
       "  '/resepi/sambal-tumis-udang-pedas/show',\n",
       "  '/resepi/sambal-tumis-ikan-cencaru/show',\n",
       "  '/resepi/sambal-tumis-sardin/show',\n",
       "  '/resepi/siakap-stim-asam-boi/show',\n",
       "  '/resepi/sambal-terung-balado/show',\n",
       "  '/resepi/ayam-bakar-tanpa-oven/show',\n",
       "  '/resepi/sambal-tumis-ikan-kembung-lauk-nostalgia/show',\n",
       "  '/resepi/kari-kepala-ikan/show',\n",
       "  '/resepi/kari-ikan-siakap/show',\n",
       "  '/resepi/siakap-stim-taucu/show',\n",
       "  '/resepi/siakap-stim-lemon-baru/show',\n",
       "  '/resepi/spaghetti-aglio-olio-ayam-popcorn-korea/show',\n",
       "  '/resepi/siakap-tiga-rasa-ala-thai/show',\n",
       "  '/resepi/siakap-bakar-bersambal/show',\n",
       "  '/resepi/siakap-sweet-sour/show',\n",
       "  '/resepi/ikan-siakap-stim-limau-ala-thai/show',\n",
       "  '/resepi/asam-pedas-ikan-pari/show',\n",
       "  '/resepi/ikan-kembung-rebus-air-asam/show',\n",
       "  '/resepi/singgang-pedas-ikan-kembung/show',\n",
       "  '/resepi/ikan-masak-kelapa-parut/show',\n",
       "  '/resepi/kari-pekat-ikan-merah/show'],\n",
       " '/kategori/ikan-bilis/show': ['/resepi/sambal-terung-ikan-bilis/show',\n",
       "  '/resepi/sambal-bilis-rangup/show',\n",
       "  '/resepi/sambal-terbaik-untuk-nasi-lemak/show',\n",
       "  '/resepi/sambal-tempe-dan-ikan-bilis-rangup/show',\n",
       "  '/resepi/sambal-ikan-bilis-petai/show',\n",
       "  '/resepi/sambal-tumis-udang-pedas/show',\n",
       "  '/resepi/sup-tulang-thai/show',\n",
       "  '/resepi/sambal-terung-balado/show',\n",
       "  '/resepi/ayam-bakar-tanpa-oven/show',\n",
       "  '/resepi/sambal-garing-bilis-tempe/show',\n",
       "  '/resepi/sambal-kering-kentang-dan-ikan-bilis/show',\n",
       "  '/resepi/spaghetti-aglio-olio-ayam-popcorn-korea/show',\n",
       "  '/resepi/sambal-tumis-ikan-bilis-dan-terung-pipit/show',\n",
       "  '/resepi/sambal-tempoyak-ikan-bilis-goreng/show',\n",
       "  '/resepi/sambal-tumis-ikan-bilis-petai/show',\n",
       "  '/resepi/sambal-ikan-bilis-kacang-dan-kentang-pedas-rangup/show',\n",
       "  '/resepi/sambal-ikan-bilis-berkuah/show',\n",
       "  '/resepi/sambal-ikan-bilis-dan-tempe-goreng/show',\n",
       "  '/resepi/kuetiau-sup-sambal-kicap/show'],\n",
       " '/kategori/kek/show': ['/resepi/kek-carrot-cream-cheese-buttercream-che-nom/show',\n",
       "  '/resepi/kek-red-velvet-sangat-moist/show',\n",
       "  '/resepi/sup-tulang-thai/show',\n",
       "  '/resepi/kek-marble-lembap/show',\n",
       "  '/resepi/mango-cheesecake-creamy/show',\n",
       "  '/resepi/orange-cake/show',\n",
       "  '/resepi/kek-bundt-oren-lembap/show',\n",
       "  '/resepi/kek-batik-marie-dengan-topping-coklat-ganache/show',\n",
       "  '/resepi/kek-marble-kampung/show',\n",
       "  '/resepi/cheesecake-brownies/show',\n",
       "  '/resepi/brownies-kedut/show',\n",
       "  '/resepi/kek-marble-jelita/show',\n",
       "  '/resepi/chocolate-cheesecake-tanpa-bakar/show',\n",
       "  '/resepi/blueberry-cheesecake-tanpa-bakar/show',\n",
       "  '/resepi/sweet-sour-cake/show',\n",
       "  '/resepi/kek-chocolate-moist-tanpa-oven/show',\n",
       "  '/resepi/brownies-kedut-super-sedap-by-che-nom/show',\n",
       "  '/resepi/kek-butter-premium-klasik-che-nom/show',\n",
       "  '/resepi/kek-pelangi/show',\n",
       "  '/resepi/kek-coklat-kukus-lembap-tanpa-telur/show',\n",
       "  '/resepi/cheesekut-tiramisu-5-bahan-sedap-dan-berkrim/show',\n",
       "  '/resepi/cheesekut-milo/show',\n",
       "  '/resepi/banana-cake-recipe/show',\n",
       "  '/resepi/kek-pandan-gula-melaka/show',\n",
       "  '/resepi/kek-coklat-moist-leleh/show',\n",
       "  '/resepi/victoria-sandwich-cake/show',\n",
       "  '/resepi/kek-mentega-pandan/show',\n",
       "  '/resepi/japanese-cheese-cake/show',\n",
       "  '/resepi/cheesecake-nutella/show',\n",
       "  '/resepi/kuetiau-sup-sambal-kicap/show',\n",
       "  '/resepi/oreo-cheesecake-tanpa-bakar/show',\n",
       "  '/resepi/kek-gula-hangus/show',\n",
       "  '/resepi/kek-batik-milo/show',\n",
       "  '/resepi/kek-coklat-moist/show',\n",
       "  '/resepi/kek-buah-kukus/show',\n",
       "  '/resepi/sambal-tumis-udang-pedas/show',\n",
       "  '/resepi/kek-gula-hangus-kukus/show',\n",
       "  '/resepi/kek-batik-indulgence-sedap-tanpa-telur/show',\n",
       "  '/resepi/kek-sarang-semut-yang-legend/show',\n",
       "  '/resepi/sambal-terung-balado/show',\n",
       "  '/resepi/ayam-bakar-tanpa-oven/show',\n",
       "  '/resepi/basque-burnt-cheesecake/show',\n",
       "  '/resepi/kek-pandan-marble/show',\n",
       "  '/resepi/brownies-cadbury-cheesecake/show',\n",
       "  '/resepi/kek-oren-lembap-dan-lembut/show',\n",
       "  '/resepi/spaghetti-aglio-olio-ayam-popcorn-korea/show',\n",
       "  '/resepi/kek-pisang-gebu-guna-blender/show',\n",
       "  '/resepi/kek-oren/show',\n",
       "  '/resepi/kek-blueberry-lembut/show',\n",
       "  '/resepi/kek-pisang-mudah/show',\n",
       "  '/resepi/kek-pisang-lembap/show',\n",
       "  '/resepi/chocolate-cheesecake-brownies/show',\n",
       "  '/resepi/cheese-kek-simple/show',\n",
       "  '/resepi/kek-lapis-holicks/show',\n",
       "  '/resepi/kek-bukan-tornado-viral/show',\n",
       "  '/resepi/kek-batik-sedap/show'],\n",
       " '/kategori/kuih-muih/show': ['/resepi/kuih-cara-manis/show',\n",
       "  '/resepi/puding-aiskrim-oreo/show',\n",
       "  '/resepi/kuih-seri-muka/show',\n",
       "  '/resepi/apam-tepung-beras/show',\n",
       "  '/resepi/cucur-badak-pedas/show',\n",
       "  '/resepi/kuih-puteri-ayu/show',\n",
       "  '/resepi/donut-gebu/show',\n",
       "  '/resepi/karipap-kentang-ayam/show',\n",
       "  '/resepi/garlic-roll/show',\n",
       "  '/resepi/buah-melaka/show',\n",
       "  '/resepi/sardin-gulung/show',\n",
       "  '/resepi/cucur-udang-cik-ani/show',\n",
       "  '/resepi/agar-agar-laici/show',\n",
       "  '/resepi/asam-pedas-original-melaka-ikan-merah/show',\n",
       "  '/resepi/tahu-bakar/show',\n",
       "  '/resepi/kuih-keria-gula-melaka/show',\n",
       "  '/resepi/kuih-sagu-merah/show',\n",
       "  '/resepi/apom-lenggang/show',\n",
       "  '/resepi/samosa/show',\n",
       "  '/resepi/corn-dog-cheese-mozarella/show',\n",
       "  '/resepi/cucur-jawa/show',\n",
       "  '/resepi/resepi-sweet-bun/show',\n",
       "  '/resepi/cucur-bilis-jagung/show',\n",
       "  '/resepi/talam-pandan/show',\n",
       "  '/resepi/kuetiau-sup-sambal-kicap/show',\n",
       "  '/resepi/sardin-roll/show',\n",
       "  '/resepi/kuih-putri-ayu/show',\n",
       "  '/resepi/apam-madu/show',\n",
       "  '/resepi/cucur-ikan-bilis/show',\n",
       "  '/resepi/kuih-kacang-hijau/show',\n",
       "  '/resepi/sambal-tumis-udang-pedas/show',\n",
       "  '/resepi/tepung-pelita/show',\n",
       "  '/resepi/cucur-badak/show',\n",
       "  '/resepi/popia-goreng-bersira-pedas/show',\n",
       "  '/resepi/roti-sosej-cheese-gulung/show',\n",
       "  '/resepi/apam-balik/show',\n",
       "  '/resepi/kuih-qasidah/show',\n",
       "  '/resepi/cempedak-goreng-rangup/show',\n",
       "  '/resepi/lepat-pisang-lembut-manis/show',\n",
       "  '/resepi/buah-melaka-onde-onde/show',\n",
       "  '/resepi/cucur-jejari-ketam/show',\n",
       "  '/resepi/kuih-keria/show',\n",
       "  '/resepi/kuih-bom-yang-bulat-cantik/show',\n",
       "  '/resepi/kuih-ketayap-yang-lembut/show',\n",
       "  '/resepi/spaghetti-aglio-olio-ayam-popcorn-korea/show',\n",
       "  '/resepi/apam-polkadot/show',\n",
       "  '/resepi/apam-polkadot-gebu/show',\n",
       "  '/resepi/kuih-seri-muka-permukaan-yang-licin/show',\n",
       "  '/resepi/kuih-lompang/show',\n",
       "  '/resepi/karipap-kentang-special-ramadhan/show',\n",
       "  '/resepi/donut-ball-gebu-guna-pelembut-roti-homemade/show',\n",
       "  '/resepi/kuih-lapis/show',\n",
       "  '/resepi/lepat-pisang-istimewa/show',\n",
       "  '/resepi/donut-lembut-gebu-twisted-korean-doughnut/show',\n",
       "  '/resepi/inti-kacang-merah/show',\n",
       "  '/resepi/cucur-udang-kuah-kacang/show',\n",
       "  '/resepi/kuih-bahulu/show',\n",
       "  '/resepi/karipap-pusing-gebu-dan-rangup/show',\n",
       "  '/resepi/kuih-peneram-rangup-luar-lembut-dalam/show',\n",
       "  '/resepi/apam-gula-hangus-lembut-dan-gebu/show',\n",
       "  '/resepi/kuih-seri-muka-gerenti-jadi-dan-sedap/show',\n",
       "  '/resepi/pau-gebu-dan-lembut/show',\n",
       "  '/resepi/kuih-kacang/show',\n",
       "  '/resepi/sup-tulang-thai/show',\n",
       "  '/resepi/kuih-cara-berlauk/show',\n",
       "  '/resepi/kuih-ketayap-lembut/show',\n",
       "  '/resepi/pancake-coklat/show',\n",
       "  '/resepi/kuih-tepung-talam/show',\n",
       "  '/resepi/cekodok-pisang/show',\n",
       "  '/resepi/kuih-lompang-lembut-berlesung-pipit/show',\n",
       "  '/resepi/karipap-rangup-inti-keledek/show',\n",
       "  '/resepi/apam-kukus-coklat/show',\n",
       "  '/resepi/popia-bersira-sambal/show',\n",
       "  '/resepi/sosej-roll-simple/show',\n",
       "  '/resepi/putu-mayam/show',\n",
       "  '/resepi/pau-kacang-merah/show',\n",
       "  '/resepi/kuih-tiram-tak-cukup-sebalang/show',\n",
       "  '/resepi/apam-kampung/show',\n",
       "  '/resepi/apam-mekar/show',\n",
       "  '/resepi/apam-mekar-tepung-beras/show',\n",
       "  '/resepi/kuih-siput-rangup/show',\n",
       "  '/resepi/kuih-bakar-pandan/show',\n",
       "  '/resepi/cucur-udang-rangup-tanpa-air-kapur/show',\n",
       "  '/resepi/cucur-jagung/show',\n",
       "  '/resepi/bingka-labu-sedap/show',\n",
       "  '/resepi/burger-malaysia/show',\n",
       "  '/resepi/donut-montok-dan-gebu/show',\n",
       "  '/resepi/kuih-lopes-guna-rice-cooker/show',\n",
       "  '/resepi/apam-gula-hangus/show',\n",
       "  '/resepi/kuih-ketayap/show',\n",
       "  '/resepi/kuih-cara/show',\n",
       "  '/resepi/wajik-pulut-kacau/show',\n",
       "  '/resepi/donut-gebu-dan-lembut/show',\n",
       "  '/resepi/burger-malaysia-terbaik/show',\n",
       "  '/resepi/kuih-nona-manis-yang-lembut-sedap/show',\n",
       "  '/resepi/cekodok-pisang-sedap/show',\n",
       "  '/resepi/kuih-kaswi/show',\n",
       "  '/resepi/sambal-terung-balado/show',\n",
       "  '/resepi/ayam-bakar-tanpa-oven/show',\n",
       "  '/resepi/kuih-lapis-lemak-manis/show',\n",
       "  '/resepi/keria-gula-melaka/show',\n",
       "  '/resepi/popia-simpul-kasih-serunding-ikan/show',\n",
       "  '/resepi/cekodok-pisang-rangup-di-luar-lembut-di-dalam/show',\n",
       "  '/resepi/agar-agar-santan-pandan-klasik/show',\n",
       "  '/resepi/apam-balik-pasar-malam-lembut-gebu/show',\n",
       "  '/resepi/roti-jala/show',\n",
       "  '/resepi/cek-mek-molek/show',\n",
       "  '/resepi/resepi-apam-nasi-che-nom/show',\n",
       "  '/resepi/kuih-bom/show',\n",
       "  '/resepi/popia-goreng/show',\n",
       "  '/resepi/bomboloni/show',\n",
       "  '/resepi/roti-jala-lembut-dan-kari-ayam-berkerisik/show',\n",
       "  '/resepi/kuih-kaswi-pandan/show',\n",
       "  '/resepi/pisang-goreng/show',\n",
       "  '/resepi/kuih-bakar-pandan-lembut-dan-sedap/show',\n",
       "  '/resepi/kuih-lopes/show'],\n",
       " '/kategori/mee/show': ['/resepi/kuey-teow-goreng/show',\n",
       "  '/resepi/maggi-goreng-mamak/show',\n",
       "  '/resepi/bihun-singapore-dan-sambal-kicap/show',\n",
       "  '/resepi/kuey-teow-goreng-dan-cili-potong-kicap/show',\n",
       "  '/resepi/mee-kari-special/show',\n",
       "  '/resepi/mee-udang-istimewa/show',\n",
       "  '/resepi/sup-tulang-thai/show',\n",
       "  '/resepi/mee-hailam/show',\n",
       "  '/resepi/laksa-johor-sedap/show',\n",
       "  '/resepi/mee-celop-kelantan/show',\n",
       "  '/resepi/maggi-hailam-kayangan/show',\n",
       "  '/resepi/spaghetti-aglio-olio-seafood/show',\n",
       "  '/resepi/bihun-sup-ala-restoran-thai-dan-sambal-kicap/show',\n",
       "  '/resepi/maggi-kari-sup-pedas/show',\n",
       "  '/resepi/kuey-teow-kung-fu-rangup/show',\n",
       "  '/resepi/mee-goreng-daging-ala-mamak/show',\n",
       "  '/resepi/bihun-sup-ayam-utara-yang-mudah/show',\n",
       "  '/resepi/mee-sup/show',\n",
       "  '/resepi/soto-ayam-istimewa/show',\n",
       "  '/resepi/mee-rebus-sedap/show',\n",
       "  '/resepi/mee-hailam-kuah-pekat-banjir-mudah-dan-sedap/show',\n",
       "  '/resepi/mee-goreng-basah/show',\n",
       "  '/resepi/mee-jawa-sedap/show',\n",
       "  '/resepi/bihun-sup-utara/show',\n",
       "  '/resepi/bihun-goreng/show',\n",
       "  '/resepi/rahsia-char-kuey-teow-padu-terbongkar/show',\n",
       "  '/resepi/kuetiau-sup-sambal-kicap/show',\n",
       "  '/resepi/sizzling-yee-mee/show',\n",
       "  '/resepi/laksa-johor-dan-sambal-belacan/show',\n",
       "  '/resepi/sambal-tumis-udang-pedas/show',\n",
       "  '/resepi/bihun-goreng-resepi-mak-che-nom/show',\n",
       "  '/resepi/mee-kari-sedap/show',\n",
       "  '/resepi/mee-goreng-laku-keras/show',\n",
       "  '/resepi/sambal-terung-balado/show',\n",
       "  '/resepi/ayam-bakar-tanpa-oven/show',\n",
       "  '/resepi/mee-goreng-basah-sedap/show',\n",
       "  '/resepi/laksa-penang-pekat-dan-sedap/show',\n",
       "  '/resepi/bihun-sup-tulang-utara-special/show',\n",
       "  '/resepi/laksam-sedap/show',\n",
       "  '/resepi/mee-bandung-sempoi/show',\n",
       "  '/resepi/laksa-utara/show',\n",
       "  '/resepi/spaghetti-aglio-olio-ayam-popcorn-korea/show',\n",
       "  '/resepi/mee-udang/show',\n",
       "  '/resepi/maggi-goreng-basah/show',\n",
       "  '/resepi/mee-bandung-muar/show',\n",
       "  '/resepi/bihun-goreng-tomyam/show',\n",
       "  '/resepi/bihun-goreng-siam/show',\n",
       "  '/resepi/kuey-teow-kung-fu/show',\n",
       "  '/resepi/maggi-goreng/show',\n",
       "  '/resepi/mee-goreng-daging-basah/show',\n",
       "  '/resepi/mee-goreng/show',\n",
       "  '/resepi/mi-rebus-cucur-udang/show',\n",
       "  '/resepi/bihun-goreng-singapura/show',\n",
       "  '/resepi/kuey-teow-ladna/show',\n",
       "  '/resepi/bihun-goreng-kicap/show',\n",
       "  '/resepi/maggi-goreng-sambal-penyet/show'],\n",
       " '/kategori/muffin-dan-cupcake/show': ['/resepi/muffin-coklat-chip/show',\n",
       "  '/resepi/sup-tulang-thai/show',\n",
       "  '/resepi/blueberry-jam-muffin/show',\n",
       "  '/resepi/vanilla-muffin/show',\n",
       "  '/resepi/muffin-pandan/show',\n",
       "  '/resepi/muffin-pisang-nutella-dan-oat/show',\n",
       "  '/resepi/vanilla-cupcake/show',\n",
       "  '/resepi/nutella-muffin/show',\n",
       "  '/resepi/muffin-chocolate-hazelnut/show',\n",
       "  '/resepi/apple-crumble-muffin/show',\n",
       "  '/resepi/kuetiau-sup-sambal-kicap/show',\n",
       "  '/resepi/muffin-vanilla/show',\n",
       "  '/resepi/muffin-nutella/show',\n",
       "  '/resepi/sambal-tumis-udang-pedas/show',\n",
       "  '/resepi/sambal-terung-balado/show',\n",
       "  '/resepi/muffin-milo/show',\n",
       "  '/resepi/ayam-bakar-tanpa-oven/show',\n",
       "  '/resepi/spaghetti-aglio-olio-ayam-popcorn-korea/show',\n",
       "  '/resepi/muffin-lemon-poppyseed/show',\n",
       "  '/resepi/banana-muffin/show',\n",
       "  '/resepi/pandan-muffin/show',\n",
       "  '/resepi/muffin-blueberry-gebu/show',\n",
       "  '/resepi/double-chocolate-chips-muffin/show',\n",
       "  '/resepi/chocolate-chip-muffin/show',\n",
       "  '/resepi/muffin-pisang-gebu/show'],\n",
       " '/kategori/nasi/show': ['/resepi/nasi-goreng-cili-padi-pedas/show',\n",
       "  '/resepi/nasi-briyani-ayam/show',\n",
       "  '/resepi/sup-tulang-thai/show',\n",
       "  '/resepi/nasi-arab-kabsah-style-chef-ammar/show',\n",
       "  '/resepi/nasi-ayam-bbq/show',\n",
       "  '/resepi/nasi-goreng-tomyam/show',\n",
       "  '/resepi/pulut-kuning-kukus/show',\n",
       "  '/resepi/nasi-ala-kak-wok/show',\n",
       "  '/resepi/bubur-nasi-udang-istimewa/show',\n",
       "  '/resepi/nasi-arab-mandy-ayam/show',\n",
       "  '/resepi/nasi-dagang-dan-acar-timun/show',\n",
       "  '/resepi/nasi-goreng-pattaya/show',\n",
       "  '/resepi/nasi-goreng-tom-yam/show',\n",
       "  '/resepi/nasi-goreng-nenas/show',\n",
       "  '/resepi/nasi-goreng-cili-kering/show',\n",
       "  '/resepi/nasi-goreng-kerabu-restoran-thai/show',\n",
       "  '/resepi/nasi-goreng-kerabu/show',\n",
       "  '/resepi/nasi-goreng-cina/show',\n",
       "  '/resepi/nasi-lemak-ayam-rendang/show',\n",
       "  '/resepi/nasi-ayam-khao-mok-thai/show',\n",
       "  '/resepi/kuetiau-sup-sambal-kicap/show',\n",
       "  '/resepi/nasi-daging-air-asam-utara/show',\n",
       "  '/resepi/sambal-tumis-udang-pedas/show',\n",
       "  '/resepi/nasi-hujan-panas/show',\n",
       "  '/resepi/nasi-lemak-lebih-sempurna-dengan-jasmine/show',\n",
       "  '/resepi/bubur-ayam-ala-mcd-dan-garlic-oil/show',\n",
       "  '/resepi/sambal-terung-balado/show',\n",
       "  '/resepi/ayam-bakar-tanpa-oven/show',\n",
       "  '/resepi/nasi-tomato-dan-acar-timun-ala-lauk-pengantin/show',\n",
       "  '/resepi/nasi-goreng-usa/show',\n",
       "  '/resepi/pulut-kuning-dan-kari-ayam-berkerisik/show',\n",
       "  '/resepi/ayam-goreng-madu-nasi-minyak/show',\n",
       "  '/resepi/nasi-lemak-bungkus/show',\n",
       "  '/resepi/pes-nasi-goreng-kampung/show',\n",
       "  '/resepi/nasi-goreng-kampung/show',\n",
       "  '/resepi/nasi-goreng-cendawan-istimewa/show',\n",
       "  '/resepi/spaghetti-aglio-olio-ayam-popcorn-korea/show',\n",
       "  '/resepi/nasi-briyani-pakistan/show',\n",
       "  '/resepi/nasi-lemak-tumis/show',\n",
       "  '/resepi/nasi-ayam-penyet-sangat-sedap/show',\n",
       "  '/resepi/nasi-ayam-sedap/show',\n",
       "  '/resepi/nasi-minyak-kenduri/show',\n",
       "  '/resepi/mushroom-fried-rice/show',\n",
       "  '/resepi/nasi-daging-air-asam-kerisik-utara/show',\n",
       "  '/resepi/nasi-tomato/show',\n",
       "  '/resepi/nasi-goreng-kampung-betul-betul-cara-kampung/show',\n",
       "  '/resepi/nasi-ayam-penyet/show',\n",
       "  '/resepi/nasi-goreng-daging-merah-ala-thai/show',\n",
       "  '/resepi/nasi-ayam-hainan/show',\n",
       "  '/resepi/nasi-goreng-cendawan/show'],\n",
       " '/kategori/pastri/show': ['/resepi/tart-telur/show',\n",
       "  '/resepi/sambal-tumis-udang-pedas/show',\n",
       "  '/resepi/sup-tulang-thai/show',\n",
       "  '/resepi/portuguese-egg-tart/show',\n",
       "  '/resepi/sambal-terung-balado/show',\n",
       "  '/resepi/ayam-bakar-tanpa-oven/show',\n",
       "  '/resepi/cream-puff/show',\n",
       "  '/resepi/spaghetti-aglio-olio-ayam-popcorn-korea/show',\n",
       "  '/resepi/blueberry-cheesetart/show',\n",
       "  '/resepi/kuetiau-sup-sambal-kicap/show'],\n",
       " '/kategori/pencicah/show': ['/resepi/sambal-ijo/show',\n",
       "  '/resepi/sos-cili-thai/show',\n",
       "  '/resepi/sambal-belacan-ala-kedai-tomyam-thai/show',\n",
       "  '/resepi/sambal-tumis-udang-pedas/show',\n",
       "  '/resepi/sup-tulang-thai/show',\n",
       "  '/resepi/sambal-terung-balado/show',\n",
       "  '/resepi/ayam-bakar-tanpa-oven/show',\n",
       "  '/resepi/kuah-kacang/show',\n",
       "  '/resepi/air-asam-tomato/show',\n",
       "  '/resepi/sambal-belacan-padu/show',\n",
       "  '/resepi/spaghetti-aglio-olio-ayam-popcorn-korea/show',\n",
       "  '/resepi/sambal-penyet-berapi/show',\n",
       "  '/resepi/air-asam-ikan-bakar/show',\n",
       "  '/resepi/kuah-kacang-pekat-dan-pedas/show',\n",
       "  '/resepi/kuetiau-sup-sambal-kicap/show'],\n",
       " '/kategori/pencuci-mulut/show': ['/resepi/puding-karamel/show',\n",
       "  '/resepi/puding-karamel-tanpa-telur/show',\n",
       "  '/resepi/puding-roti-coklat/show',\n",
       "  '/resepi/pulut-mangga-thai-istimewa/show',\n",
       "  '/resepi/sup-tulang-thai/show',\n",
       "  '/resepi/bubur-kacang-hijau/show',\n",
       "  '/resepi/agar-agar-santan-pandan/show',\n",
       "  '/resepi/homemade-boba-pearl-dan-3-jenis-boba-milk-drink/show',\n",
       "  '/resepi/serawa-labu-istimewa-bonda/show',\n",
       "  '/resepi/puding-kastard-berkuah-koktel/show',\n",
       "  '/resepi/pengat-labu-manis/show',\n",
       "  '/resepi/agar-agar-santan/show',\n",
       "  '/resepi/agar-agar-cendol-sedap/show',\n",
       "  '/resepi/bubur-pulut-hitam-sedap/show',\n",
       "  '/resepi/puding-roti-special/show',\n",
       "  '/resepi/agar-agar-santan-gula-melaka/show',\n",
       "  '/resepi/puding-sagu-gula-melaka/show',\n",
       "  '/resepi/agar-agar-lapis-milo/show',\n",
       "  '/resepi/butir-nangka/show',\n",
       "  '/resepi/bubur-cha-cha/show',\n",
       "  '/resepi/kuetiau-sup-sambal-kicap/show',\n",
       "  '/resepi/serawa-durian-dan-pulut-kukus/show',\n",
       "  '/resepi/puding-roti-dan-sos-vanilla/show',\n",
       "  '/resepi/sambal-tumis-udang-pedas/show',\n",
       "  '/resepi/badak-berendam/show',\n",
       "  '/resepi/sambal-terung-balado/show',\n",
       "  '/resepi/ayam-bakar-tanpa-oven/show',\n",
       "  '/resepi/puding-roti-jagung/show',\n",
       "  '/resepi/bubur-jagung/show',\n",
       "  '/resepi/puding-karamel-sedap/show',\n",
       "  '/resepi/puding-roti-kuah-kastard/show',\n",
       "  '/resepi/spaghetti-aglio-olio-ayam-popcorn-korea/show',\n",
       "  '/resepi/agar-agar-sirap-selasih/show',\n",
       "  '/resepi/puding-jagung-sedap/show',\n",
       "  '/resepi/pengat-pisang/show',\n",
       "  '/resepi/puding-oren-sunqick/show',\n",
       "  '/resepi/puding-roti/show',\n",
       "  '/resepi/thai-red-ruy/show',\n",
       "  '/resepi/agar-agar-koktail/show',\n",
       "  '/resepi/buko-pandan/show'],\n",
       " '/kategori/roti/show': ['/resepi/cakoi-dan-sos-pandan/show',\n",
       "  '/resepi/shaped-dinner-rolls/show',\n",
       "  '/resepi/sambal-tumis-udang-pedas/show',\n",
       "  '/resepi/sup-tulang-thai/show',\n",
       "  '/resepi/roti-puri-sambal-sardin/show',\n",
       "  '/resepi/sambal-terung-balado/show',\n",
       "  '/resepi/ayam-bakar-tanpa-oven/show',\n",
       "  '/resepi/wholemeal-french-loaf/show',\n",
       "  '/resepi/roti-canai/show',\n",
       "  '/resepi/cucur-kembung-cicah-sambal-sardin/show',\n",
       "  '/resepi/spaghetti-aglio-olio-ayam-popcorn-korea/show',\n",
       "  '/resepi/french-toast/show',\n",
       "  '/resepi/roti-benggali-yang-lembut/show',\n",
       "  '/resepi/roti-sarang-lebah/show',\n",
       "  '/resepi/bun-coklat-lembut/show',\n",
       "  '/resepi/roti-sardin-goreng/show',\n",
       "  '/resepi/kuetiau-sup-sambal-kicap/show'],\n",
       " '/kategori/sarapan/show': ['/resepi/sandwich-telur-sedap/show',\n",
       "  '/resepi/sandwich-tuna-cheese/show',\n",
       "  '/resepi/sambal-tumis-udang-pedas/show',\n",
       "  '/resepi/sup-tulang-thai/show',\n",
       "  '/resepi/sandwich-tuna-cheese-leleh/show',\n",
       "  '/resepi/sambal-terung-balado/show',\n",
       "  '/resepi/ayam-bakar-tanpa-oven/show',\n",
       "  '/resepi/spaghetti-aglio-olio-ayam-popcorn-korea/show',\n",
       "  '/resepi/breakfast-bar/show',\n",
       "  '/resepi/sandwich-tuna-pedas/show',\n",
       "  '/resepi/lontong-dan-kuah-lodeh/show',\n",
       "  '/resepi/kuetiau-sup-sambal-kicap/show'],\n",
       " '/kategori/sayur/show': ['/resepi/sambal-goreng-jawa/show',\n",
       "  '/resepi/masak-lemak-labu-sedap/show',\n",
       "  '/resepi/pucuk-paku-masak-lemak-cili-api/show',\n",
       "  '/resepi/pak-choy-tumis-sos-tiram/show',\n",
       "  '/resepi/sup-tulang-thai/show',\n",
       "  '/resepi/sayur-kailan-ikan-masin/show',\n",
       "  '/resepi/kerabu-taugeh/show',\n",
       "  '/resepi/kobis-masak-lemak-putih/show',\n",
       "  '/resepi/coleslaw-ala-kfc/show',\n",
       "  '/resepi/terung-goreng-berlada/show',\n",
       "  '/resepi/pucuk-ubi-goreng/show',\n",
       "  '/resepi/kangkung-goreng-belacan/show',\n",
       "  '/resepi/sup-sayur/show',\n",
       "  '/resepi/bayam-goreng-sos-tiram/show',\n",
       "  '/resepi/kuetiau-sup-sambal-kicap/show',\n",
       "  '/resepi/kailan-ikan-masin/show',\n",
       "  '/resepi/kerabu-mangga/show',\n",
       "  '/resepi/acar-rampai/show',\n",
       "  '/resepi/sambal-tumis-udang-pedas/show',\n",
       "  '/resepi/kerabu-taugeh-dan-kerang-ala-utara/show',\n",
       "  '/resepi/terung-goreng-kicap-bercili/show',\n",
       "  '/resepi/sambal-terung-balado/show',\n",
       "  '/resepi/ayam-bakar-tanpa-oven/show',\n",
       "  '/resepi/burger-ramly-special-double/show',\n",
       "  '/resepi/pajeri-nenas/show',\n",
       "  '/resepi/spaghetti-aglio-olio-ayam-popcorn-korea/show',\n",
       "  '/resepi/tauhu-telur-masak-sayur-campur/show',\n",
       "  '/resepi/cendawan-tiram-goreng-rangup/show',\n",
       "  '/resepi/kobis-goreng-ala-mamak/show',\n",
       "  '/resepi/kerabu-maggi-ala-restoran-thai/show',\n",
       "  '/resepi/pajeri-terung-sedap-kuah-pekat-berempah/show',\n",
       "  '/resepi/pajeri-nenas-baru/show',\n",
       "  '/resepi/bendi-goreng-bercili/show',\n",
       "  '/resepi/sayur-bayam-tumis-air/show',\n",
       "  '/resepi/kerabu-pucuk-paku/show',\n",
       "  '/resepi/peria-goreng-rangup/show',\n",
       "  '/resepi/acar-timun-mentah/show',\n",
       "  '/resepi/pajeri-terung/show'],\n",
       " '/kategori/seafood/show': ['/resepi/udang-goreng-butter/show',\n",
       "  '/resepi/sotong-masak-hitam-ala-mamak/show',\n",
       "  '/resepi/sup-tulang-thai/show',\n",
       "  '/resepi/kari-sotong-sedap/show',\n",
       "  '/resepi/udang-galah-sweet-sour/show',\n",
       "  '/resepi/kari-udang-sedap/show',\n",
       "  '/resepi/udang-goreng-asam-ala-nyonya/show',\n",
       "  '/resepi/crispy-garlic-butter-prawn/show',\n",
       "  '/resepi/siput-sedut-masak-lemak-cili-api/show',\n",
       "  '/resepi/sambal-tumis-udang/show',\n",
       "  '/resepi/masak-lemak-cili-padi-udang-nenas/show',\n",
       "  '/resepi/udang-galah-masak-lemak-cili-api/show',\n",
       "  '/resepi/kerabu-kerang-ala-thai/show',\n",
       "  '/resepi/sambal-tumis-sotong-dan-petai/show',\n",
       "  '/resepi/sambal-tumis-udang-petai/show',\n",
       "  '/resepi/kuetiau-sup-sambal-kicap/show',\n",
       "  '/resepi/sotong-goreng-kunyit/show',\n",
       "  '/resepi/sambal-tumis-udang-pedas/show',\n",
       "  '/resepi/kerabu-sotong-dan-udang-ala-thai/show',\n",
       "  '/resepi/sotong-bakar-berempah/show',\n",
       "  '/resepi/udang-masak-sweet-sour/show',\n",
       "  '/resepi/sambal-terung-balado/show',\n",
       "  '/resepi/yong-tau-fu/show',\n",
       "  '/resepi/ayam-bakar-tanpa-oven/show',\n",
       "  '/resepi/sambal-sotong-kembang-berkacang/show',\n",
       "  '/resepi/sotong-goreng-tepung/show',\n",
       "  '/resepi/udang-sweet-sour/show',\n",
       "  '/resepi/tomyam-goong-dengan-homemade-paste/show',\n",
       "  '/resepi/sotong-goreng-tepung-dan-sos-cicah-ala-thai/show',\n",
       "  '/resepi/paprik-seafood-ala-thai/show',\n",
       "  '/resepi/ketam-masak-lemak-cili-api/show',\n",
       "  '/resepi/spaghetti-aglio-olio-ayam-popcorn-korea/show',\n",
       "  '/resepi/sambal-tumis-sotong/show',\n",
       "  '/resepi/tomyam-putih-ala-restoran-thai/show',\n",
       "  '/resepi/sambal-kerang-pedas-masam-manis/show',\n",
       "  '/resepi/kari-sotong-nasi-kandar-penang/show',\n",
       "  '/resepi/tom-yam-thai-campur/show',\n",
       "  '/resepi/sotong-masak-kicap-berempah/show',\n",
       "  '/resepi/tomyam-thai-istimewa/show',\n",
       "  '/resepi/sambal-tumis-sotong-kering/show',\n",
       "  '/resepi/lala-masak-pedas/show',\n",
       "  '/resepi/masak-lemak-cili-padi-nangka-muda-dan-udang/show',\n",
       "  '/resepi/udang-goreng-kunyit/show'],\n",
       " '/kategori/sup/show': ['/resepi/sup-ayam-thai/show',\n",
       "  '/resepi/sambal-tumis-udang-pedas/show',\n",
       "  '/resepi/sup-tulang/show',\n",
       "  '/resepi/sup-tulang-thai/show',\n",
       "  '/resepi/sup-tulang-ala-chef-wan/show',\n",
       "  '/resepi/sambal-terung-balado/show',\n",
       "  '/resepi/ayam-bakar-tanpa-oven/show',\n",
       "  '/resepi/bihun-sup-tulang-utara-special/show',\n",
       "  '/resepi/spaghetti-aglio-olio-ayam-popcorn-korea/show',\n",
       "  '/resepi/sup-ayam-simple-tapi-cukup-sedap/show',\n",
       "  '/resepi/bihun-sup-ala-restoran-thai-dan-sambal-kicap/show',\n",
       "  '/resepi/maggi-kari-sup-pedas/show',\n",
       "  '/resepi/sup-tulang-padu/show',\n",
       "  '/resepi/sup-ayam-istimewa/show',\n",
       "  '/resepi/sup-ayam-pekat-rempah-sendiri/show',\n",
       "  '/resepi/bihun-sup-ayam-utara-yang-mudah/show',\n",
       "  '/resepi/sup-sayur/show',\n",
       "  '/resepi/bihun-sup-utara/show',\n",
       "  '/resepi/kuetiau-sup-sambal-kicap/show'],\n",
       " '/kategori/telur/show': ['/resepi/sambal-tumis-udang-pedas/show',\n",
       "  '/resepi/sup-tulang-thai/show',\n",
       "  '/resepi/sambal-terung-balado/show',\n",
       "  '/resepi/ayam-bakar-tanpa-oven/show',\n",
       "  '/resepi/peria-goreng-telur/show',\n",
       "  '/resepi/sambal-sardin-telur-pecah/show',\n",
       "  '/resepi/telur-masak-kurma/show',\n",
       "  '/resepi/spaghetti-aglio-olio-ayam-popcorn-korea/show',\n",
       "  '/resepi/kari-telur-sedap/show',\n",
       "  '/resepi/telur-bistik-sedap/show',\n",
       "  '/resepi/sambal-tumis-telur-rebus-pekat-dan-likat/show',\n",
       "  '/resepi/telur-masak-balado-santan/show',\n",
       "  '/resepi/kuetiau-sup-sambal-kicap/show']}"
      ]
     },
     "execution_count": 48,
     "metadata": {},
     "output_type": "execute_result"
    }
   ],
   "source": [
    "categories"
   ]
  },
  {
   "cell_type": "code",
   "execution_count": 50,
   "id": "68459152",
   "metadata": {},
   "outputs": [],
   "source": [
    "import json\n",
    "\n",
    "with open('categories.json', 'w') as fopen:\n",
    "    json.dump(categories, fopen)"
   ]
  }
 ],
 "metadata": {
  "kernelspec": {
   "display_name": "Python 3 (ipykernel)",
   "language": "python",
   "name": "python3"
  },
  "language_info": {
   "codemirror_mode": {
    "name": "ipython",
    "version": 3
   },
   "file_extension": ".py",
   "mimetype": "text/x-python",
   "name": "python",
   "nbconvert_exporter": "python",
   "pygments_lexer": "ipython3",
   "version": "3.8.10"
  }
 },
 "nbformat": 4,
 "nbformat_minor": 5
}
