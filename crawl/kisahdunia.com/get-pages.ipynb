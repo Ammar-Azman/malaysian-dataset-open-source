{
 "cells": [
  {
   "cell_type": "code",
   "execution_count": 1,
   "metadata": {},
   "outputs": [],
   "source": [
    "import requests\n",
    "from bs4 import BeautifulSoup\n",
    "from tqdm import tqdm\n",
    "import os\n",
    "import json\n",
    "import numpy as np\n",
    "import time\n",
    "import random\n",
    "import json"
   ]
  },
  {
   "cell_type": "code",
   "execution_count": 2,
   "metadata": {},
   "outputs": [
    {
     "data": {
      "text/plain": [
       "19282"
      ]
     },
     "execution_count": 2,
     "metadata": {},
     "output_type": "execute_result"
    }
   ],
   "source": [
    "from glob import glob\n",
    "\n",
    "files = glob('url/*.json')\n",
    "urls = []\n",
    "for f in files:\n",
    "    with open(f) as fopen:\n",
    "        urls.extend(json.load(fopen))\n",
    "urls = sorted(list(set(urls)))\n",
    "len(urls)"
   ]
  },
  {
   "cell_type": "code",
   "execution_count": 3,
   "metadata": {},
   "outputs": [],
   "source": [
    "!mkdir page"
   ]
  },
  {
   "cell_type": "code",
   "execution_count": 4,
   "metadata": {},
   "outputs": [],
   "source": [
    "r = requests.get(urls[0])\n",
    "soup = BeautifulSoup(r.content, \"lxml\")"
   ]
  },
  {
   "cell_type": "code",
   "execution_count": 5,
   "metadata": {},
   "outputs": [
    {
     "data": {
      "text/plain": [
       "'https://kisahdunia.com/1-3-juta-orang-tengok-lelaki-bersuara-bruno-mars-curi-perhatian-netizen/'"
      ]
     },
     "execution_count": 5,
     "metadata": {},
     "output_type": "execute_result"
    }
   ],
   "source": [
    "urls[0]"
   ]
  },
  {
   "cell_type": "code",
   "execution_count": 6,
   "metadata": {},
   "outputs": [
    {
     "data": {
      "text/plain": [
       "'“1.3 Juta Orang Tengok…”- Lelaki Bersuara ‘Bruno Mars’ Curi Perhatian Netizen'"
      ]
     },
     "execution_count": 6,
     "metadata": {},
     "output_type": "execute_result"
    }
   ],
   "source": [
    "soup.find('h1').text"
   ]
  },
  {
   "cell_type": "code",
   "execution_count": 8,
   "metadata": {},
   "outputs": [
    {
     "data": {
      "text/plain": [
       "'\\n\\nDengan adanya laman sosial yang pelbagai pada masa kini, sangat mudah untuk seseorang itu mengembangkan sesuatu bakat. Menerusi platform ini, seseorang itu hanya memerluk4n kuasa viral untuk bakat mereka diterima dan diketengahkan oleh masyarakat. Walaupun begitu, kadang-kala bakat masih menjadi ciri kedua yang dilihat setelah rupa. Jika seseorang itu mempunyai bakat yang bagus namun kekurangan dari segi rupa, nasib mungkin tidak menyebelahi individu tersebut.\\nBACA:\\xa0[VIDEO] “Muka Takde Bulu Macam Punggung Baby Nak Cukur Apa Tu?”- Lebih 200K Tontonan, Gelagat Asad Motawh Kebosanan Di Las Vegas Bikin Terhibur!\\nGambar sekadar hiasan.\\nTerbaru, telah tular video cover seorang lelaki yang dikatakan mempunyai suara mirip Bruno Mars sehingga ada yang menggelarnya sebagai Bruno Mars Malaysia. Video tersebut telah dikongsikan oleh pemilik akaun laman sosial Twitter, @NasirPasir yang lebih dikenali sebagai Nasir.\\n\\nCukuplah kita viralkan artis berdasarkan rupa kat luar sana\\n\\nIni barulah betul Bruno Mars Malaysia \\nAyuh viralkan dia. Mana tahu rezeki dia untuk jadi penyanyi. Cukuplah kita viralkan artis berdasarkan RUPA kat luar sana. Dah famous lepastu poyo. \\nMasih ramai yg berbakat. Tp mereka susah nak naik sbb zaman org pandang RUPA & FOLLOWERS. pic.twitter.com/3j8wwWpgSc\\n— Naz | 🇲🇾 (@_NazriH) January 19, 2019\\n\\n1.3 juta kali orang tengok video ni dekat Twitter. Semoga berjaya bro!\\n\\n\\n\\nCover pakai baju PLKN je, yang penting suara padu\\n\\nRelax je cover lagu pakai baju PLKN je. Yg penting suara padu. Setuju? pic.twitter.com/XnIqWMyzeE\\n— Naz | 🇲🇾 (@_NazriH) January 22, 2019\\n\\n\\nPerkongsian video tersebut telah mendapat perhatian warga netizen dan majoriti mereka telah memberikan reaksi yang begitu positif.\\n\\nOh yes! Ternganga tengok semua cover dia…power suara\\n\\n\\nSebijik suara Bruno Mars\\n\\nKalau dia helok confirm dah beribu komen\\nPart dia tarik tu, perghh syahdu!\\n\\nSumber: Twitter\\xa0NasirPasir, IG\\xa0nuimmars\\nArtikel Viral Hari Ini 🔥\\n🔥1 Orang Basuh Cincai Pad Kotor, Ratusan Pekerja Kilang Dirasuk..”Mau Kepala”\\n🔥Khabar Angin Rumahtangga Berakhir Tersebar, Isteri Abang Viva Bersuara\\n🔥Anak Muram Ke Sekolah, Rupanya Bibir Digigit Guru Lelaki..Ramai Murid Lain Kena\\n🔥Dan banyak lagi cerita VIRAL di Telegram Kisah Dunia….\\n\\n\\t\\tSharing is caring!\\t\\n\\n\\n\\n \\n\\n\\nShare\\n\\n \\n\\n\\nTwitter\\n\\n \\n\\n\\nWhatsApp\\n\\n \\n\\n\\nTelegram\\nArtikel ini disediakan oleh team Kisah Dunia. Tak dibenarkan meniru isi kandungan atau mana-mana bahagian artikel termasuklah logo sewenang-wenangnya. Laporan copyright akan dikenakan.\\nTags: Bruno Marsnuimmarsviral\\n'"
      ]
     },
     "execution_count": 8,
     "metadata": {},
     "output_type": "execute_result"
    }
   ],
   "source": [
    "soup.find('div', {'class': 'content-inner'}).text"
   ]
  },
  {
   "cell_type": "code",
   "execution_count": 9,
   "metadata": {},
   "outputs": [
    {
     "name": "stderr",
     "output_type": "stream",
     "text": [
      "10974it [5:18:14,  1.68s/it]IOPub message rate exceeded.\n",
      "The notebook server will temporarily stop sending output\n",
      "to the client in order to avoid crashing it.\n",
      "To change this limit, set the config variable\n",
      "`--NotebookApp.iopub_msg_rate_limit`.\n",
      "\n",
      "Current values:\n",
      "NotebookApp.iopub_msg_rate_limit=1000.0 (msgs/sec)\n",
      "NotebookApp.rate_limit_window=3.0 (secs)\n",
      "\n",
      "19282it [8:57:06,  1.67s/it]\n"
     ]
    }
   ],
   "source": [
    "for no, url in tqdm(enumerate(urls)):\n",
    "    filename = os.path.join('page', f'{no}.json')\n",
    "    if os.path.exists(filename):\n",
    "        continue\n",
    "    \n",
    "    while True:\n",
    "        try:\n",
    "            r = requests.get(url)\n",
    "            break\n",
    "        except:\n",
    "            time.sleep(1.0)\n",
    "            \n",
    "    soup = BeautifulSoup(r.content, \"lxml\")\n",
    "\n",
    "    try:\n",
    "        title = soup.find('h1').text\n",
    "    except Exception as e:\n",
    "        title = None\n",
    "\n",
    "    try:\n",
    "        body = soup.find('div', {'class': 'content-inner'}).text\n",
    "    except Exception as e:\n",
    "        body = None\n",
    "\n",
    "    data = {\n",
    "        'url': url,\n",
    "        'title': title,\n",
    "        'body': body,\n",
    "    }\n",
    "    with open(filename, 'w') as fopen:\n",
    "        json.dump(data, fopen)"
   ]
  },
  {
   "cell_type": "code",
   "execution_count": null,
   "metadata": {},
   "outputs": [],
   "source": []
  }
 ],
 "metadata": {
  "kernelspec": {
   "display_name": "Python 3 (ipykernel)",
   "language": "python",
   "name": "python3"
  },
  "language_info": {
   "codemirror_mode": {
    "name": "ipython",
    "version": 3
   },
   "file_extension": ".py",
   "mimetype": "text/x-python",
   "name": "python",
   "nbconvert_exporter": "python",
   "pygments_lexer": "ipython3",
   "version": "3.8.10"
  }
 },
 "nbformat": 4,
 "nbformat_minor": 4
}
