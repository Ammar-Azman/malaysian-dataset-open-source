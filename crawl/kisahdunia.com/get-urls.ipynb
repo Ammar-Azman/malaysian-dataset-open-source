{
 "cells": [
  {
   "cell_type": "code",
   "execution_count": 1,
   "metadata": {},
   "outputs": [],
   "source": [
    "import requests\n",
    "from bs4 import BeautifulSoup\n",
    "from tqdm import tqdm\n",
    "import os\n",
    "import json\n",
    "import numpy as np\n",
    "import time\n",
    "import random\n",
    "import json"
   ]
  },
  {
   "cell_type": "code",
   "execution_count": 2,
   "metadata": {},
   "outputs": [],
   "source": [
    "topics = [\n",
    "    'https://kisahdunia.com/category/semasa/',\n",
    "    'https://kisahdunia.com/category/viral/',\n",
    "    'https://kisahdunia.com/category/cinta-perhubungan/',\n",
    "    'https://kisahdunia.com/category/fesyen-gaya-hidup/',\n",
    "    'https://kisahdunia.com/category/hiburan/',\n",
    "]"
   ]
  },
  {
   "cell_type": "code",
   "execution_count": 3,
   "metadata": {},
   "outputs": [],
   "source": [
    "r = requests.get(topics[0])\n",
    "soup = BeautifulSoup(r.content, \"lxml\")"
   ]
  },
  {
   "cell_type": "code",
   "execution_count": 9,
   "metadata": {},
   "outputs": [
    {
     "data": {
      "text/plain": [
       "[2, 482]"
      ]
     },
     "execution_count": 9,
     "metadata": {},
     "output_type": "execute_result"
    }
   ],
   "source": [
    "a = soup.find_all('a', {'class': 'page_number'})\n",
    "nums = []\n",
    "for a_ in a:\n",
    "    try:\n",
    "        nums.append(int(a_.text))\n",
    "    except:\n",
    "        pass\n",
    "    \n",
    "nums"
   ]
  },
  {
   "cell_type": "code",
   "execution_count": 7,
   "metadata": {},
   "outputs": [
    {
     "data": {
      "text/plain": [
       "['https://kisahdunia.com/budak-3-tahun-pecah-organ-dikasari-bf-ibu-kerana-muntah-atas-sofa-kesayangan/',\n",
       " 'https://kisahdunia.com/adik-tewas-di-tangan-abang-bapa-dedah-anak-sulung-target-ragging-senior-asrama/',\n",
       " 'https://kisahdunia.com/hairan-bonet-kereta-bau-busuk-adik-jumpai-tubuh-abang-dibungkus-plastik-hitam/',\n",
       " 'https://kisahdunia.com/fendi-bukan-lagi-host-destinasi-tv-produksi-gagal-capai-kata-sepakat-soal-gaji/',\n",
       " 'https://kisahdunia.com/perut-isteri-hamil-kena-seat-depan-abang-baju-merah-dedah-isu-tunjal-kepala/',\n",
       " 'https://kisahdunia.com/datuk-bandar-kahwini-buaya-ritual-bawa-rezeki-dan-tuah/',\n",
       " 'https://kisahdunia.com/pernah-membalak-di-lokasi-berdekatan-polis-yakin-si-bapa-mahir-jalan-ke-hutan/',\n",
       " 'https://kisahdunia.com/dalam-perjalanan-ke-tempat-pengebumian-wanita-tiba-tiba-buka-mata-hidup-semula/',\n",
       " 'https://kisahdunia.com/cebisan-5-manusia-didakwa-dijumpai-syarikat-masih-promosi-ekspedisi-ke-titanic/',\n",
       " 'https://kisahdunia.com/trader-muda-sewa-pesawat-pelabur-profesional-dedah-sewa-sampai-rm25000-1-jam/',\n",
       " 'https://kisahdunia.com/budak-darjah-1-didenda-dikurung-dalam-penjara-besi-dalamnya-ada-kotak-tnb/',\n",
       " 'https://kisahdunia.com/allahu-di-mekah-pun-berani-tipu-badal-haji-scam-wakilkan-banyak-nama-serentak/',\n",
       " 'https://kisahdunia.com/kenapa-perlu-gari-niat-sabotaj-saya-inspektor-sheila-tunjuk-kesan-dikasari/',\n",
       " 'https://kisahdunia.com/tak-mengaku-bersalah-atas-3-pertuduhan-inspektor-sheila-mohon-dibicarakan/']"
      ]
     },
     "execution_count": 7,
     "metadata": {},
     "output_type": "execute_result"
    }
   ],
   "source": [
    "articles = soup.find_all('article', {'class': 'jeg_post'})\n",
    "a = [a.find('a').get('href') for a in articles]\n",
    "a"
   ]
  },
  {
   "cell_type": "code",
   "execution_count": 8,
   "metadata": {},
   "outputs": [],
   "source": [
    "!rm -rf url\n",
    "!mkdir url"
   ]
  },
  {
   "cell_type": "code",
   "execution_count": null,
   "metadata": {},
   "outputs": [
    {
     "name": "stdout",
     "output_type": "stream",
     "text": [
      "https://kisahdunia.com/category/semasa/\n"
     ]
    },
    {
     "name": "stderr",
     "output_type": "stream",
     "text": [
      "100%|███████████████████████████████████████████████████████████████████████████████████████████| 482/482 [38:03<00:00,  4.74s/it]\n"
     ]
    },
    {
     "name": "stdout",
     "output_type": "stream",
     "text": [
      "https://kisahdunia.com/category/viral/\n"
     ]
    },
    {
     "name": "stderr",
     "output_type": "stream",
     "text": [
      " 13%|███████████▌                                                                               | 125/979 [09:26<45:35,  3.20s/it]"
     ]
    }
   ],
   "source": [
    "for t in topics:\n",
    "    print(t)\n",
    "    t_ = t.split('com/')[1].replace('/', '-')\n",
    "    r = requests.get(t)\n",
    "    soup = BeautifulSoup(r.content, \"lxml\")\n",
    "    a = soup.find_all('a', {'class': 'page_number'})\n",
    "    nums = []\n",
    "    for a_ in a:\n",
    "        try:\n",
    "            nums.append(int(a_.text))\n",
    "        except:\n",
    "            pass\n",
    "    \n",
    "    if len(nums):\n",
    "        num_page = max(nums)\n",
    "    else:\n",
    "        num_page = 1\n",
    "    \n",
    "    for index in tqdm(range(1, num_page + 1, 1)):\n",
    "        filename = os.path.join('url', f'{t_}-{index}.json')\n",
    "        if os.path.exists(filename):\n",
    "            continue\n",
    "        url = f'{t}page/{index}/'\n",
    "        r = requests.get(url)\n",
    "        soup = BeautifulSoup(r.content, \"lxml\")\n",
    "        \n",
    "        articles = soup.find_all('article', {'class': 'jeg_post'})\n",
    "        a = [a.find('a').get('href') for a in articles]\n",
    "\n",
    "        with open(filename, 'w') as fopen:\n",
    "            json.dump(a, fopen)       "
   ]
  },
  {
   "cell_type": "code",
   "execution_count": null,
   "metadata": {},
   "outputs": [],
   "source": []
  }
 ],
 "metadata": {
  "kernelspec": {
   "display_name": "Python 3 (ipykernel)",
   "language": "python",
   "name": "python3"
  },
  "language_info": {
   "codemirror_mode": {
    "name": "ipython",
    "version": 3
   },
   "file_extension": ".py",
   "mimetype": "text/x-python",
   "name": "python",
   "nbconvert_exporter": "python",
   "pygments_lexer": "ipython3",
   "version": "3.8.10"
  }
 },
 "nbformat": 4,
 "nbformat_minor": 4
}
