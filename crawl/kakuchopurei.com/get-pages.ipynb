{
 "cells": [
  {
   "cell_type": "code",
   "execution_count": 1,
   "metadata": {},
   "outputs": [],
   "source": [
    "import requests\n",
    "from bs4 import BeautifulSoup\n",
    "from tqdm import tqdm\n",
    "import os\n",
    "import json\n",
    "import numpy as np\n",
    "import time\n",
    "import random\n",
    "import json"
   ]
  },
  {
   "cell_type": "code",
   "execution_count": 2,
   "metadata": {},
   "outputs": [
    {
     "data": {
      "text/plain": [
       "16466"
      ]
     },
     "execution_count": 2,
     "metadata": {},
     "output_type": "execute_result"
    }
   ],
   "source": [
    "from glob import glob\n",
    "\n",
    "files = glob('url/*.json')\n",
    "urls = []\n",
    "for f in files:\n",
    "    with open(f) as fopen:\n",
    "        urls.extend(json.load(fopen))\n",
    "urls = sorted(list(set(urls)))\n",
    "len(urls)"
   ]
  },
  {
   "cell_type": "code",
   "execution_count": 3,
   "metadata": {},
   "outputs": [],
   "source": [
    "!mkdir page"
   ]
  },
  {
   "cell_type": "code",
   "execution_count": 4,
   "metadata": {},
   "outputs": [],
   "source": [
    "r = requests.get(urls[0])\n",
    "soup = BeautifulSoup(r.content, \"lxml\")"
   ]
  },
  {
   "cell_type": "code",
   "execution_count": 7,
   "metadata": {},
   "outputs": [
    {
     "data": {
      "text/plain": [
       "'https://www.kakuchopurei.com/2017/09/envyus-captures-seagull-for-overwatch-league/'"
      ]
     },
     "execution_count": 7,
     "metadata": {},
     "output_type": "execute_result"
    }
   ],
   "source": [
    "urls[0]"
   ]
  },
  {
   "cell_type": "code",
   "execution_count": 8,
   "metadata": {},
   "outputs": [
    {
     "data": {
      "text/plain": [
       "'EnVyUs Captures Seagull for Overwatch League: How Will He Fit In?'"
      ]
     },
     "execution_count": 8,
     "metadata": {},
     "output_type": "execute_result"
    }
   ],
   "source": [
    "soup.find('p', {'class': 'post-open-title'}).text"
   ]
  },
  {
   "cell_type": "code",
   "execution_count": 10,
   "metadata": {},
   "outputs": [
    {
     "data": {
      "text/plain": [
       "'\\nFan favorites EnVyUs recently announced the capture of NRG DPS, 2016 US Overwatch World Cup member and superstar YouTuber, Brandon Larned a.k.a Seagull for the upcoming Overwatch League. Following a series of cryptic tweets alluding to the move prior to it, Seagull switching teams took the Overwatch esports scene by storm with analysts and fans alike wonder how will he fit in with the well-oiled North American champions. Some even went as far as labeling the Boys in Blue â€˜The Real Madridâ€™ of Overwatch – quite a label but Iâ€™d respond with a simple – â€œHave you forgotten about Lunatic-Hai?â€\\x9d Anyway, back to the main story.Â\\xa0\\n\\nPerhaps we should have seen this coming as more recent Seagull streams saw him playing alongside EnVyUs players, most notably with Taimou and both have shown very impressive chemistry when playing alongside each other. But two players does not make a team and it would be interesting to see where Seagull slots in. Known for his clutch Genji plays and sick aim during early Overwatch days, Seagull has grown to be a very reliable flex player, comfortably slipping into other heroes shoes with great effect. On the flipside, while EnVyUs have a very established lineup with each member serving their roles efficiently, it leaves them to be very predictable and one-dimensional. \\nRecently Tracer main Effect has been picking up on Zarya while Taimou was seen mucking about as Junkrat following the recent buff but by doing so left the team imbalanced overall. EnVyUsâ€™ lack of presence in the sky (literally) may also be solved with Seagullâ€™s addition as he is famous for his brilliant Pharah plays that will be a plus to any team. But donâ€™t expect EnVyUsâ€™ oft-used 2-2-2 strategy to change much with Seagullâ€™s inclusion as added dimension does not necessarily change the teamâ€™s approach to teamfights. \\nWeâ€™ve conjured up several scenarios where Seagull could fit into the EnVyUs lineup to accommodate several scenarios as well as approaches. But in case you are not well-versed with the Boys in Blue, hereâ€™s a quick recap of the roster:\\n\\nSo hereâ€™s how does Seagullâ€™s presence affect the EnVyUs Overwatch setup: \\nSeagull as DPS in for cocco for a Triple DPS combo with Taimou & Effect. \\nIn advent EnVyUs decide to go for a much more aggressive approach, they may sub Seagull in for tank-main â€˜coccoâ€™. Not at all denying coccoâ€™s efficiency on tanks – his solid plays have been the backbone to many EnVyUs wins but at times the team found themselves outgunned by super aggressive, mobile oppositions that puts the team in the backfoot. Many times EnVyUs found themselves losing opening teamfights before regaining composure for a steady push to the win. Sacrificing a tank for a DPS main is a bold move but it will definitely overwhelm many opponents who have to contend with three highly effective DPS players able to secure instant kills. As they say, the best defense is a great offense.\\n[youtube https://www.youtube.com/watch?v=P8RebCJ_5L4&w=560&h=315]\\nA like-for-like DPS swap with Effect For A More Head On Approach \\nEffect is one of, if not THE best on Tracer in North America but opponents seem to formulate their approaches with him in mind. A shakeup in the lineup will catch everyone else off-guard making EnVyUs an even scarier opposition to deal with. Few have seen how EnVyUs operate with Seagull on board save for scrims (check the video below) making the lineup even more unpredictable. His mobility and flex pick allows a multitude of approaches to keep people guessing and constantly adjusting to deal with him. Will it be Effect on, or Seagull? Will Seagull be on Soldier? Genji? Hanzo? Pharah? The new tweak on Mercyâ€™s kit also allows a crazier, scarier â€˜Immortal PharMercyâ€™ combo that should add layers to EnVyUsâ€™ aerial threat.\\n[youtube https://www.youtube.com/watch?v=9tqTLZ-e6hQ&w=560&h=315]\\nSeagull in for Taimou for A Super Dive Comp Using Genji & Effectâ€™s Tracer\\nWhile some may be declaring that the Dive Comp is running out of style no thanks to the nerf on D.Va, Seagull may bring a new dimension to it thanks to his Genji plays. As seen in previous EnVyUs matches, Effect on Tracer tend to be the sole backline harasser. Once heâ€™s taken out, or fail to eliminate the oppositionâ€™s support, the dive stalls. Enter Pro Gengu and his backline harassing expertise. EnVyUs will finally be able to run a standard dive comp with Seagull on board who is not only effective in getting behind enemy lines, but deadly to boot. The harassing duties will be shared between Seagull and Effect enabling a much more cohesive dive.\\n[youtube https://www.youtube.com/watch?v=40Sa_UyiQrQ&w=560&h=315]\\nAir Superiority Option vs Teams Lacking Hitscans – Potential Swap with Taimou \\nAs mentioned in earlier point, Seagullâ€™s inclusion means that they have a very capable Pharah player in their midst. Hitscans has always been the bane for Pharah mains but for teams who does not have a capable hitscan main within their ranks, Seagull raining justice from above may be enough to swing fights to EnVyUsâ€™ favor. Maps such as Nepal, Numbani and Oasis which benefit Pharah plays will be Seagullâ€™s playground. Opponentsâ€™ adjustments to counter his rockets will be instantly dealt with by other members of EnVyUs potentially resulting in a one-sided outcome. \\n[youtube https://www.youtube.com/watch?v=P8RebCJ_5L4&w=560&h=315]\\nBrandonâ€™s Branding, Baby. \\nAs one of the most well-liked and popular Overwatch YouTubers right now, Seagullâ€™s inclusion into EnVyUs adds unprecedented value to the team beyond just his keyboard, mouse and godlike aim. His addition to the team does not only boost them talent-wise, but also helps them tons on the commercial front. Overwatch League will be akin to the English Premier League of Overwatch esports and in such environment, money talks. The passive influence that he carry simply by presence puts EnVyUs ahead of the Overwatch League rivals even before the first shot been fired thanks to branding. \\nOf course these factors are no guarantees of success but if you look at the list of the most lucrative sports team in the world at the moment, the Dallas Cowboys tops it above the likes of the New York Yankees, Manchester United and Barcelona despite last winning the Superbowl in 1996. Trivia: Yankees last won the World Series in 2009 and Manchester United last lifted the Premier League in 2013 which proves that success isnâ€™t only measured by titles won. For context, Seagullâ€™s YouTube channel has over 635K subscribers alone, compared to EnVyUsâ€™ channel which only has 260K subscribers which alone justifies his acquisition. \\nSo there you have it – Initial projection on how Seagull will improve EnVyUs. Whether things will pan out as planned remains to be seen but we are pretty confident it will. EnVyUs is already the best team in North America and Seagullâ€™s recruitment only strengthen the team while also adding depth to the roster.\\n*This feature originally appeared on Spout360.com\\n'"
      ]
     },
     "execution_count": 10,
     "metadata": {},
     "output_type": "execute_result"
    }
   ],
   "source": [
    "soup.find('div', {'class': 'post-open-text-v1'}).text"
   ]
  },
  {
   "cell_type": "code",
   "execution_count": 11,
   "metadata": {},
   "outputs": [
    {
     "name": "stderr",
     "output_type": "stream",
     "text": [
      "16466it [11:43:22,  2.56s/it]\n"
     ]
    }
   ],
   "source": [
    "for no, url in tqdm(enumerate(urls)):\n",
    "    filename = os.path.join('page', f'{no}.json')\n",
    "    if os.path.exists(filename):\n",
    "        continue\n",
    "    \n",
    "    while True:\n",
    "        try:\n",
    "            r = requests.get(url)\n",
    "            break\n",
    "        except:\n",
    "            time.sleep(1.0)\n",
    "            \n",
    "    soup = BeautifulSoup(r.content, \"lxml\")\n",
    "\n",
    "    try:\n",
    "        title = soup.find('p', {'class': 'post-open-title'}).text\n",
    "    except Exception as e:\n",
    "        title = None\n",
    "\n",
    "    try:\n",
    "        body = soup.find('div', {'class': 'post-open-text-v1'}).text\n",
    "    except Exception as e:\n",
    "        body = None\n",
    "\n",
    "    data = {\n",
    "        'url': url,\n",
    "        'title': title,\n",
    "        'body': body,\n",
    "    }\n",
    "    with open(filename, 'w') as fopen:\n",
    "        json.dump(data, fopen)"
   ]
  },
  {
   "cell_type": "code",
   "execution_count": null,
   "metadata": {},
   "outputs": [],
   "source": []
  }
 ],
 "metadata": {
  "kernelspec": {
   "display_name": "Python 3 (ipykernel)",
   "language": "python",
   "name": "python3"
  },
  "language_info": {
   "codemirror_mode": {
    "name": "ipython",
    "version": 3
   },
   "file_extension": ".py",
   "mimetype": "text/x-python",
   "name": "python",
   "nbconvert_exporter": "python",
   "pygments_lexer": "ipython3",
   "version": "3.8.10"
  }
 },
 "nbformat": 4,
 "nbformat_minor": 4
}
