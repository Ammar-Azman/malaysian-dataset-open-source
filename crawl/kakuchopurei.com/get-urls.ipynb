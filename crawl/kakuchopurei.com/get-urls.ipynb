{
 "cells": [
  {
   "cell_type": "code",
   "execution_count": 1,
   "metadata": {},
   "outputs": [],
   "source": [
    "import requests\n",
    "from bs4 import BeautifulSoup\n",
    "from tqdm import tqdm\n",
    "import os\n",
    "import json\n",
    "import numpy as np\n",
    "import time\n",
    "import random\n",
    "import json\n",
    "from concurrent.futures import ThreadPoolExecutor, as_completed"
   ]
  },
  {
   "cell_type": "code",
   "execution_count": 2,
   "metadata": {},
   "outputs": [],
   "source": [
    "topics = [\n",
    "    'https://www.kakuchopurei.com/category/news/',\n",
    "    'https://www.kakuchopurei.com/category/previews/',\n",
    "    'https://www.kakuchopurei.com/category/quick-roundup/',\n",
    "    'https://www.kakuchopurei.com/category/event-coverage/',\n",
    "    'https://www.kakuchopurei.com/category/reviews/',\n",
    "    'https://www.kakuchopurei.com/category/feature/',\n",
    "    'https://www.kakuchopurei.com/category/esports/',\n",
    "    'https://www.kakuchopurei.com/tag/post-credits/',\n",
    "    'https://www.kakuchopurei.com/tag/PC,PCGaming,GamingPC/',\n",
    "    'https://www.kakuchopurei.com/tag/playstation,PS,PS4,PS5,PlayStation4,PlayStation5/',\n",
    "    'https://www.kakuchopurei.com/tag/Xbox,XboxSeriesS,XboxSeriesX,Xbox360/',\n",
    "    'https://www.kakuchopurei.com/tag/Nintendo,NintendoSwitch,Switch/',\n",
    "    'https://www.kakuchopurei.com/category/indie/'\n",
    "]"
   ]
  },
  {
   "cell_type": "code",
   "execution_count": 3,
   "metadata": {},
   "outputs": [],
   "source": [
    "r = requests.get(topics[0])\n",
    "soup = BeautifulSoup(r.content, \"lxml\")"
   ]
  },
  {
   "cell_type": "code",
   "execution_count": 4,
   "metadata": {},
   "outputs": [
    {
     "data": {
      "text/plain": [
       "698"
      ]
     },
     "execution_count": 4,
     "metadata": {},
     "output_type": "execute_result"
    }
   ],
   "source": [
    "nums = []\n",
    "a = soup.find_all('a', {'class': 'page-numbers'})\n",
    "for a_ in a:\n",
    "    try:\n",
    "        nums.append(int(a_.text))\n",
    "    except:\n",
    "        pass\n",
    "    \n",
    "if len(nums):\n",
    "    page_num = max(nums)\n",
    "else:\n",
    "    page_num = 1\n",
    "    \n",
    "page_num"
   ]
  },
  {
   "cell_type": "code",
   "execution_count": 5,
   "metadata": {},
   "outputs": [],
   "source": [
    "a = soup.find_all('a', {'class': 'post-preview-title'})\n",
    "a = [a_.get('href') for a_ in a]"
   ]
  },
  {
   "cell_type": "code",
   "execution_count": 11,
   "metadata": {
    "scrolled": true
   },
   "outputs": [],
   "source": [
    "!rm -rf url\n",
    "!mkdir url"
   ]
  },
  {
   "cell_type": "code",
   "execution_count": 12,
   "metadata": {},
   "outputs": [],
   "source": [
    "def crawl(url, filename):\n",
    "    if os.path.exists(filename):\n",
    "        return\n",
    "\n",
    "    r = requests.get(url)\n",
    "    soup = BeautifulSoup(r.content, \"lxml\")\n",
    "    a = soup.find_all('a', {'class': 'post-preview-title'})\n",
    "    a = [a_.get('href') for a_ in a]\n",
    "\n",
    "    with open(filename, 'w') as fopen:\n",
    "        json.dump(a, fopen)"
   ]
  },
  {
   "cell_type": "code",
   "execution_count": 13,
   "metadata": {},
   "outputs": [
    {
     "name": "stdout",
     "output_type": "stream",
     "text": [
      "https://www.kakuchopurei.com/category/news/\n"
     ]
    },
    {
     "name": "stderr",
     "output_type": "stream",
     "text": [
      " 16%|██████▊                                    | 11/70 [00:49<05:06,  5.19s/it]encoding error : input conversion failed due to input error, bytes 0x9D 0x0D 0x0A 0x0D\n",
      "encoding error : input conversion failed due to input error, bytes 0x9D 0x0D 0x0A 0x0D\n",
      "encoding error : input conversion failed due to input error, bytes 0x9D 0x20 0x69 0x6E\n",
      "encoding error : input conversion failed due to input error, bytes 0x9D 0x20 0x69 0x6E\n",
      "encoding error : input conversion failed due to input error, bytes 0x9D 0x0D 0x0A 0x0D\n",
      "encoding error : input conversion failed due to input error, bytes 0x9D 0x20 0x69 0x6E\n",
      " 19%|███████▉                                   | 13/70 [00:59<04:53,  5.16s/it]encoding error : input conversion failed due to input error, bytes 0x9D 0x20 0x77 0x68\n",
      "encoding error : input conversion failed due to input error, bytes 0x9D 0x20 0x77 0x68\n",
      "encoding error : input conversion failed due to input error, bytes 0x9D 0x20 0x77 0x68\n",
      "encoding error : input conversion failed due to input error, bytes 0x81 0x6C 0x65 0x78\n",
      "encoding error : input conversion failed due to input error, bytes 0x81 0x6C 0x65 0x78\n",
      "encoding error : input conversion failed due to input error, bytes 0x9D 0x20 0x63 0x61\n",
      "encoding error : input conversion failed due to input error, bytes 0x9D 0x20 0x63 0x61\n",
      "encoding error : input conversion failed due to input error, bytes 0x81 0x6C 0x65 0x78\n",
      "encoding error : input conversion failed due to input error, bytes 0x9D 0x20 0x63 0x61\n",
      " 20%|████████▌                                  | 14/70 [01:05<05:06,  5.47s/it]encoding error : input conversion failed due to input error, bytes 0x9D 0x20 0x66 0x6F\n",
      "encoding error : input conversion failed due to input error, bytes 0x9D 0x20 0x66 0x6F\n",
      "encoding error : input conversion failed due to input error, bytes 0x9D 0x20 0x66 0x6F\n",
      " 24%|██████████▍                                | 17/70 [01:21<04:44,  5.37s/it]encoding error : input conversion failed due to input error, bytes 0x9D 0x20 0x69 0x73\n",
      "encoding error : input conversion failed due to input error, bytes 0x9D 0x20 0x69 0x73\n",
      "encoding error : input conversion failed due to input error, bytes 0x9D 0x20 0x69 0x73\n",
      " 27%|███████████▋                               | 19/70 [01:33<04:44,  5.57s/it]encoding error : input conversion failed due to input error, bytes 0x9D 0x20 0x74 0x68\n",
      "encoding error : input conversion failed due to input error, bytes 0x9D 0x20 0x74 0x68\n",
      "encoding error : input conversion failed due to input error, bytes 0x9D 0x20 0x74 0x68\n",
      " 30%|████████████▉                              | 21/70 [01:43<04:20,  5.31s/it]encoding error : input conversion failed due to input error, bytes 0x9D 0x2C 0x20 0x77\n",
      "encoding error : input conversion failed due to input error, bytes 0x9D 0x2C 0x20 0x77\n",
      "encoding error : input conversion failed due to input error, bytes 0x9D 0x2C 0x20 0x77\n",
      " 31%|█████████████▌                             | 22/70 [01:49<04:20,  5.43s/it]encoding error : input conversion failed due to input error, bytes 0x9D 0x0D 0x0A 0x0D\n",
      "encoding error : input conversion failed due to input error, bytes 0x9D 0x0D 0x0A 0x0D\n",
      "encoding error : input conversion failed due to input error, bytes 0x9D 0x0D 0x0A 0x0D\n",
      "encoding error : input conversion failed due to input error, bytes 0x9D 0x20 0x6F 0x6E\n",
      "encoding error : input conversion failed due to input error, bytes 0x9D 0x20 0x6F 0x6E\n",
      "encoding error : input conversion failed due to input error, bytes 0x9D 0x20 0x6F 0x6E\n",
      " 34%|██████████████▋                            | 24/70 [02:00<04:09,  5.43s/it]encoding error : input conversion failed due to input error, bytes 0x9D 0x20 0x42 0x65\n",
      "encoding error : input conversion failed due to input error, bytes 0x9D 0x20 0x42 0x65\n",
      "encoding error : input conversion failed due to input error, bytes 0x9D 0x20 0x42 0x65\n",
      " 37%|███████████████▉                           | 26/70 [02:10<03:54,  5.33s/it]encoding error : input conversion failed due to input error, bytes 0x9D 0x20 0x74 0x68\n",
      "encoding error : input conversion failed due to input error, bytes 0x9D 0x20 0x74 0x68\n",
      "encoding error : input conversion failed due to input error, bytes 0x9D 0x20 0x74 0x68\n",
      " 40%|█████████████████▏                         | 28/70 [02:22<03:49,  5.47s/it]encoding error : input conversion failed due to input error, bytes 0x9D 0x20 0x61 0x20\n",
      "encoding error : input conversion failed due to input error, bytes 0x9D 0x20 0x61 0x20\n",
      "encoding error : input conversion failed due to input error, bytes 0x9D 0x20 0x61 0x20\n",
      " 41%|█████████████████▊                         | 29/70 [02:27<03:40,  5.38s/it]encoding error : input conversion failed due to input error, bytes 0x9D 0x20 0x63 0x61\n",
      "encoding error : input conversion failed due to input error, bytes 0x9D 0x20 0x63 0x61\n",
      "encoding error : input conversion failed due to input error, bytes 0x9E 0xC2 0xA2 0x5F\n",
      "encoding error : input conversion failed due to input error, bytes 0x9E 0xC2 0xA2 0x5F\n",
      "encoding error : input conversion failed due to input error, bytes 0x9E 0xC2 0xA2 0x5F\n",
      "encoding error : input conversion failed due to input error, bytes 0x9D 0x20 0x74 0x68\n",
      "encoding error : input conversion failed due to input error, bytes 0x9D 0x20 0x74 0x68\n",
      "encoding error : input conversion failed due to input error, bytes 0x9D 0x20 0x63 0x61\n",
      "encoding error : input conversion failed due to input error, bytes 0x9D 0x20 0x74 0x68\n",
      " 43%|██████████████████▍                        | 30/70 [02:34<03:53,  5.84s/it]encoding error : input conversion failed due to input error, bytes 0x9D 0x0D 0x0A 0x0D\n",
      "encoding error : input conversion failed due to input error, bytes 0x9D 0x0D 0x0A 0x0D\n",
      "encoding error : input conversion failed due to input error, bytes 0x9D 0x0D 0x0A 0x0D\n",
      " 46%|███████████████████▋                       | 32/70 [02:47<03:56,  6.22s/it]encoding error : input conversion failed due to input error, bytes 0x9D 0x20 0xC3 0xA2\n",
      "encoding error : input conversion failed due to input error, bytes 0x9D 0x20 0xC3 0xA2\n",
      "encoding error : input conversion failed due to input error, bytes 0x9D 0x20 0xC3 0xA2\n",
      " 47%|████████████████████▎                      | 33/70 [02:52<03:44,  6.07s/it]encoding error : input conversion failed due to input error, bytes 0x9D 0x20 0x66 0x72\n",
      "encoding error : input conversion failed due to input error, bytes 0x9D 0x20 0x66 0x72\n",
      "encoding error : input conversion failed due to input error, bytes 0x9D 0x20 0x66 0x72\n",
      " 49%|████████████████████▉                      | 34/70 [02:58<03:31,  5.87s/it]encoding error : input conversion failed due to input error, bytes 0x9D 0xC3 0x82 0xC2\n",
      "encoding error : input conversion failed due to input error, bytes 0x9D 0xC3 0x82 0xC2\n",
      "encoding error : input conversion failed due to input error, bytes 0x9D 0xC3 0x82 0xC2\n",
      " 50%|█████████████████████▌                     | 35/70 [03:03<03:22,  5.79s/it]encoding error : input conversion failed due to input error, bytes 0x81 0xC2 0x9D 0xC3\n",
      "encoding error : input conversion failed due to input error, bytes 0x81 0xC2 0x9D 0xC3\n",
      "encoding error : input conversion failed due to input error, bytes 0x9D 0x20 0x73 0x6F\n",
      "encoding error : input conversion failed due to input error, bytes 0x9D 0x20 0x73 0x6F\n",
      "encoding error : input conversion failed due to input error, bytes 0x9D 0x20 0x45 0x75\n",
      "encoding error : input conversion failed due to input error, bytes 0x9D 0x20 0x45 0x75\n",
      "encoding error : input conversion failed due to input error, bytes 0x81 0xC2 0x9D 0xC3\n",
      "encoding error : input conversion failed due to input error, bytes 0x9D 0x20 0x73 0x6F\n",
      "encoding error : input conversion failed due to input error, bytes 0x9D 0x20 0x45 0x75\n",
      " 53%|██████████████████████▋                    | 37/70 [03:16<03:14,  5.90s/it]encoding error : input conversion failed due to input error, bytes 0x9D 0x20 0x61 0x6C\n",
      "encoding error : input conversion failed due to input error, bytes 0x9D 0x20 0x61 0x6C\n",
      "encoding error : input conversion failed due to input error, bytes 0x9D 0x20 0x61 0x6C\n",
      " 56%|███████████████████████▉                   | 39/70 [03:28<03:02,  5.90s/it]encoding error : input conversion failed due to input error, bytes 0x9D 0xC3 0x82 0xC2\n",
      "encoding error : input conversion failed due to input error, bytes 0x9D 0xC3 0x82 0xC2\n",
      "encoding error : input conversion failed due to input error, bytes 0x9D 0xC3 0x82 0xC2\n"
     ]
    },
    {
     "name": "stderr",
     "output_type": "stream",
     "text": [
      " 59%|█████████████████████████▏                 | 41/70 [03:39<02:49,  5.83s/it]encoding error : input conversion failed due to input error, bytes 0x9D 0x20 0x6F 0x66\n",
      "encoding error : input conversion failed due to input error, bytes 0x9D 0x20 0x6F 0x66\n",
      "encoding error : input conversion failed due to input error, bytes 0x9D 0x20 0x6F 0x66\n",
      " 60%|█████████████████████████▊                 | 42/70 [03:45<02:38,  5.65s/it]encoding error : input conversion failed due to input error, bytes 0x9D 0x20 0x4B 0x69\n",
      "encoding error : input conversion failed due to input error, bytes 0x9D 0x20 0x4B 0x69\n",
      "encoding error : input conversion failed due to input error, bytes 0x9D 0x20 0x4B 0x69\n",
      " 76%|████████████████████████████████▌          | 53/70 [04:43<01:29,  5.27s/it]encoding error : input conversion failed due to input error, bytes 0x9D 0x20 0x63 0x6F\n",
      "encoding error : input conversion failed due to input error, bytes 0x9D 0x20 0x63 0x6F\n",
      "encoding error : input conversion failed due to input error, bytes 0x9D 0x20 0x63 0x6F\n",
      "encoding error : input conversion failed due to input error, bytes 0x9D 0xC2 0xBC 0xC3\n",
      "encoding error : input conversion failed due to input error, bytes 0x9D 0xC2 0xBC 0xC3\n",
      "encoding error : input conversion failed due to input error, bytes 0x9D 0xC2 0xBC 0xC3\n",
      " 86%|████████████████████████████████████▊      | 60/70 [05:19<00:49,  4.96s/it]encoding error : input conversion failed due to input error, bytes 0x9D 0x20 0x41 0x70\n",
      "encoding error : input conversion failed due to input error, bytes 0x9D 0x20 0x41 0x70\n",
      "encoding error : input conversion failed due to input error, bytes 0x9D 0x20 0x41 0x70\n",
      " 93%|███████████████████████████████████████▉   | 65/70 [05:46<00:27,  5.51s/it]encoding error : input conversion failed due to input error, bytes 0x9D 0x2E 0x2E 0x2E\n",
      "encoding error : input conversion failed due to input error, bytes 0x9D 0x2E 0x2E 0x2E\n",
      "encoding error : input conversion failed due to input error, bytes 0x9D 0x2E 0x2E 0x2E\n",
      " 94%|████████████████████████████████████████▌  | 66/70 [05:51<00:21,  5.43s/it]encoding error : input conversion failed due to input error, bytes 0x9D 0x20 0x42 0x65\n",
      "encoding error : input conversion failed due to input error, bytes 0x9D 0x20 0x42 0x65\n",
      "encoding error : input conversion failed due to input error, bytes 0x9D 0x20 0x42 0x65\n",
      "100%|███████████████████████████████████████████| 70/70 [06:11<00:00,  5.31s/it]\n"
     ]
    },
    {
     "name": "stdout",
     "output_type": "stream",
     "text": [
      "https://www.kakuchopurei.com/category/previews/\n"
     ]
    },
    {
     "name": "stderr",
     "output_type": "stream",
     "text": [
      "100%|█████████████████████████████████████████████| 1/1 [00:03<00:00,  3.58s/it]\n"
     ]
    },
    {
     "name": "stdout",
     "output_type": "stream",
     "text": [
      "https://www.kakuchopurei.com/category/quick-roundup/\n"
     ]
    },
    {
     "name": "stderr",
     "output_type": "stream",
     "text": [
      "100%|█████████████████████████████████████████████| 1/1 [00:03<00:00,  3.22s/it]\n"
     ]
    },
    {
     "name": "stdout",
     "output_type": "stream",
     "text": [
      "https://www.kakuchopurei.com/category/event-coverage/\n"
     ]
    },
    {
     "name": "stderr",
     "output_type": "stream",
     "text": [
      "100%|█████████████████████████████████████████████| 1/1 [00:03<00:00,  3.55s/it]\n"
     ]
    },
    {
     "name": "stdout",
     "output_type": "stream",
     "text": [
      "https://www.kakuchopurei.com/category/reviews/\n"
     ]
    },
    {
     "name": "stderr",
     "output_type": "stream",
     "text": [
      "100%|█████████████████████████████████████████████| 5/5 [00:20<00:00,  4.10s/it]\n"
     ]
    },
    {
     "name": "stdout",
     "output_type": "stream",
     "text": [
      "https://www.kakuchopurei.com/category/feature/\n"
     ]
    },
    {
     "name": "stderr",
     "output_type": "stream",
     "text": [
      "  9%|████                                        | 1/11 [00:04<00:47,  4.73s/it]encoding error : input conversion failed due to input error, bytes 0x9D 0x20 0x2E 0x2E\n",
      "encoding error : input conversion failed due to input error, bytes 0x9D 0x20 0x2E 0x2E\n",
      "encoding error : input conversion failed due to input error, bytes 0x9D 0x20 0x2E 0x2E\n",
      " 27%|████████████                                | 3/11 [00:16<00:43,  5.49s/it]encoding error : input conversion failed due to input error, bytes 0x9D 0x20 0x74 0x68\n",
      "encoding error : input conversion failed due to input error, bytes 0x9D 0x20 0x74 0x68\n",
      "encoding error : input conversion failed due to input error, bytes 0x9D 0x20 0x74 0x68\n",
      " 36%|████████████████                            | 4/11 [00:23<00:41,  5.99s/it]encoding error : input conversion failed due to input error, bytes 0x9D 0x20 0x5A 0x61\n",
      "encoding error : input conversion failed due to input error, bytes 0x9D 0x20 0x5A 0x61\n",
      "encoding error : input conversion failed due to input error, bytes 0x9D 0x20 0x5A 0x61\n",
      " 55%|████████████████████████                    | 6/11 [00:34<00:28,  5.67s/it]encoding error : input conversion failed due to input error, bytes 0x9D 0x52 0x65 0x63\n",
      "encoding error : input conversion failed due to input error, bytes 0x9D 0x52 0x65 0x63\n",
      "encoding error : input conversion failed due to input error, bytes 0x9D 0x52 0x65 0x63\n",
      "100%|███████████████████████████████████████████| 11/11 [00:58<00:00,  5.36s/it]\n"
     ]
    },
    {
     "name": "stdout",
     "output_type": "stream",
     "text": [
      "https://www.kakuchopurei.com/category/esports/\n"
     ]
    },
    {
     "name": "stderr",
     "output_type": "stream",
     "text": [
      "100%|█████████████████████████████████████████████| 2/2 [00:07<00:00,  3.66s/it]\n"
     ]
    },
    {
     "name": "stdout",
     "output_type": "stream",
     "text": [
      "https://www.kakuchopurei.com/tag/post-credits/\n"
     ]
    },
    {
     "name": "stderr",
     "output_type": "stream",
     "text": [
      " 20%|████████▊                                   | 2/10 [00:09<00:38,  4.86s/it]encoding error : input conversion failed due to input error, bytes 0x9D 0x20 0xE2 0x80\n",
      "encoding error : input conversion failed due to input error, bytes 0x9D 0x20 0xE2 0x80\n",
      "encoding error : input conversion failed due to input error, bytes 0x81 0x6C 0x65 0x78\n",
      "encoding error : input conversion failed due to input error, bytes 0x81 0x6C 0x65 0x78\n",
      "encoding error : input conversion failed due to input error, bytes 0x81 0x6C 0x65 0x78\n",
      "encoding error : input conversion failed due to input error, bytes 0x9D 0x20 0xE2 0x80\n",
      " 30%|█████████████▏                              | 3/10 [00:15<00:36,  5.18s/it]encoding error : input conversion failed due to input error, bytes 0x9D 0x20 0x61 0x6C\n",
      "encoding error : input conversion failed due to input error, bytes 0x9D 0x20 0x61 0x6C\n",
      "encoding error : input conversion failed due to input error, bytes 0x9D 0x20 0x74 0x68\n",
      "encoding error : input conversion failed due to input error, bytes 0x9D 0x20 0x74 0x68\n",
      "encoding error : input conversion failed due to input error, bytes 0x9D 0x20 0x61 0x6C\n",
      "encoding error : input conversion failed due to input error, bytes 0x9D 0x20 0x74 0x68\n",
      "encoding error : input conversion failed due to input error, bytes 0x9D 0x20 0x6F 0x6E\n",
      "encoding error : input conversion failed due to input error, bytes 0x9D 0x20 0x6F 0x6E\n",
      "encoding error : input conversion failed due to input error, bytes 0x9D 0x61 0x20 0x50\n",
      "encoding error : input conversion failed due to input error, bytes 0x9D 0x61 0x20 0x50\n",
      "encoding error : input conversion failed due to input error, bytes 0x9D 0x20 0x6F 0x6E\n",
      "encoding error : input conversion failed due to input error, bytes 0x9D 0x61 0x20 0x50\n",
      " 40%|█████████████████▌                          | 4/10 [00:20<00:30,  5.13s/it]encoding error : input conversion failed due to input error, bytes 0x9D 0x20 0x61 0x20\n",
      "encoding error : input conversion failed due to input error, bytes 0x9D 0x20 0x61 0x20\n",
      "encoding error : input conversion failed due to input error, bytes 0x9D 0x20 0x61 0x20\n",
      "encoding error : input conversion failed due to input error, bytes 0x81 0x6C 0x65 0x78\n",
      "encoding error : input conversion failed due to input error, bytes 0x81 0x6C 0x65 0x78\n",
      "encoding error : input conversion failed due to input error, bytes 0x81 0x6C 0x65 0x78\n",
      "100%|███████████████████████████████████████████| 10/10 [00:54<00:00,  5.47s/it]\n"
     ]
    },
    {
     "name": "stdout",
     "output_type": "stream",
     "text": [
      "https://www.kakuchopurei.com/tag/PC,PCGaming,GamingPC/\n"
     ]
    },
    {
     "name": "stderr",
     "output_type": "stream",
     "text": [
      " 17%|███████▌                                    | 5/29 [00:23<01:55,  4.82s/it]encoding error : input conversion failed due to input error, bytes 0x9D 0x2D 0x62 0x61\n",
      "encoding error : input conversion failed due to input error, bytes 0x9D 0x2D 0x62 0x61\n",
      "encoding error : input conversion failed due to input error, bytes 0x9D 0x2D 0x62 0x61\n",
      " 45%|███████████████████▎                       | 13/29 [01:05<01:24,  5.29s/it]encoding error : input conversion failed due to input error, bytes 0x9D 0x0D 0x0A 0x0D\n",
      "encoding error : input conversion failed due to input error, bytes 0x9D 0x0D 0x0A 0x0D\n",
      "encoding error : input conversion failed due to input error, bytes 0x9D 0x0D 0x0A 0x0D\n",
      " 52%|██████████████████████▏                    | 15/29 [01:16<01:15,  5.37s/it]encoding error : input conversion failed due to input error, bytes 0x9D 0xC3 0x82 0xC2\n",
      "encoding error : input conversion failed due to input error, bytes 0x9D 0xC3 0x82 0xC2\n",
      "encoding error : input conversion failed due to input error, bytes 0x9D 0xC3 0x82 0xC2\n",
      " 66%|████████████████████████████▏              | 19/29 [01:30<00:41,  4.12s/it]encoding error : input conversion failed due to input error, bytes 0x9D 0x20 0x46 0x69\n",
      "encoding error : input conversion failed due to input error, bytes 0x9D 0x20 0x46 0x69\n",
      "encoding error : input conversion failed due to input error, bytes 0x9D 0x20 0x46 0x69\n",
      " 86%|█████████████████████████████████████      | 25/29 [01:59<00:19,  4.80s/it]encoding error : input conversion failed due to input error, bytes 0x9D 0xC5 0xA0 0xC3\n",
      "encoding error : input conversion failed due to input error, bytes 0x9D 0xC5 0xA0 0xC3\n",
      "encoding error : input conversion failed due to input error, bytes 0x9D 0xC5 0xA0 0xC3\n",
      "100%|███████████████████████████████████████████| 29/29 [02:19<00:00,  4.82s/it]\n"
     ]
    },
    {
     "name": "stdout",
     "output_type": "stream",
     "text": [
      "https://www.kakuchopurei.com/tag/playstation,PS,PS4,PS5,PlayStation4,PlayStation5/\n"
     ]
    },
    {
     "name": "stderr",
     "output_type": "stream",
     "text": [
      " 16%|███████                                     | 4/25 [00:22<01:57,  5.60s/it]encoding error : input conversion failed due to input error, bytes 0x9D 0x20 0x43 0x6F\n",
      "encoding error : input conversion failed due to input error, bytes 0x9D 0x20 0x43 0x6F\n",
      "encoding error : input conversion failed due to input error, bytes 0x9D 0x20 0x43 0x6F\n",
      " 40%|█████████████████▏                         | 10/25 [00:52<01:16,  5.12s/it]encoding error : input conversion failed due to input error, bytes 0x9D 0x0D 0x0A 0x0D\n",
      "encoding error : input conversion failed due to input error, bytes 0x9D 0x0D 0x0A 0x0D\n",
      "encoding error : input conversion failed due to input error, bytes 0x9D 0x0D 0x0A 0x0D\n",
      " 48%|████████████████████▋                      | 12/25 [01:03<01:07,  5.21s/it]encoding error : input conversion failed due to input error, bytes 0x9D 0xC3 0x82 0xC2\n",
      "encoding error : input conversion failed due to input error, bytes 0x9D 0xC3 0x82 0xC2\n",
      "encoding error : input conversion failed due to input error, bytes 0x9D 0xC3 0x82 0xC2\n",
      " 52%|██████████████████████▎                    | 13/25 [01:09<01:04,  5.41s/it]encoding error : input conversion failed due to input error, bytes 0x9D 0x0D 0x0A 0x0D\n",
      "encoding error : input conversion failed due to input error, bytes 0x9D 0x0D 0x0A 0x0D\n",
      "encoding error : input conversion failed due to input error, bytes 0x9D 0x0D 0x0A 0x0D\n",
      " 64%|███████████████████████████▌               | 16/25 [01:23<00:45,  5.06s/it]encoding error : input conversion failed due to input error, bytes 0x9D 0x20 0x46 0x69\n",
      "encoding error : input conversion failed due to input error, bytes 0x9D 0x20 0x46 0x69\n",
      "encoding error : input conversion failed due to input error, bytes 0x9D 0x20 0x46 0x69\n",
      " 76%|████████████████████████████████▋          | 19/25 [01:39<00:30,  5.06s/it]encoding error : input conversion failed due to input error, bytes 0x9D 0x20 0x63 0x6F\n",
      "encoding error : input conversion failed due to input error, bytes 0x9D 0x20 0x63 0x6F\n",
      "encoding error : input conversion failed due to input error, bytes 0x9D 0x20 0x63 0x6F\n",
      "encoding error : input conversion failed due to input error, bytes 0x9D 0xC2 0xBC 0xC3\n",
      "encoding error : input conversion failed due to input error, bytes 0x9D 0xC2 0xBC 0xC3\n",
      "encoding error : input conversion failed due to input error, bytes 0x9D 0xC2 0xBC 0xC3\n",
      "100%|███████████████████████████████████████████| 25/25 [02:11<00:00,  5.28s/it]\n"
     ]
    },
    {
     "name": "stdout",
     "output_type": "stream",
     "text": [
      "https://www.kakuchopurei.com/tag/Xbox,XboxSeriesS,XboxSeriesX,Xbox360/\n"
     ]
    },
    {
     "name": "stderr",
     "output_type": "stream",
     "text": [
      " 43%|███████████████████▎                         | 3/7 [00:13<00:18,  4.69s/it]encoding error : input conversion failed due to input error, bytes 0x9D 0x20 0x4C 0x6F\n",
      "encoding error : input conversion failed due to input error, bytes 0x9D 0x20 0x4C 0x6F\n",
      "encoding error : input conversion failed due to input error, bytes 0x9D 0x20 0x4C 0x6F\n",
      "100%|█████████████████████████████████████████████| 7/7 [00:34<00:00,  4.89s/it]\n"
     ]
    },
    {
     "name": "stdout",
     "output_type": "stream",
     "text": [
      "https://www.kakuchopurei.com/tag/Nintendo,NintendoSwitch,Switch/\n"
     ]
    },
    {
     "name": "stderr",
     "output_type": "stream",
     "text": [
      "100%|█████████████████████████████████████████████| 3/3 [00:15<00:00,  5.07s/it]\n"
     ]
    },
    {
     "name": "stdout",
     "output_type": "stream",
     "text": [
      "https://www.kakuchopurei.com/category/indie/\n"
     ]
    },
    {
     "name": "stderr",
     "output_type": "stream",
     "text": [
      "100%|█████████████████████████████████████████████| 1/1 [00:03<00:00,  3.38s/it]\n"
     ]
    }
   ],
   "source": [
    "max_worker = 10\n",
    "\n",
    "for t in topics:\n",
    "    print(t)\n",
    "    t_ = t.split('com/')[1].replace('/', '-')\n",
    "    \n",
    "    r = requests.get(t)\n",
    "    soup = BeautifulSoup(r.content, \"lxml\")\n",
    "    \n",
    "    nums = []\n",
    "    a = soup.find_all('a', {'class': 'page-numbers'})\n",
    "    for a_ in a:\n",
    "        try:\n",
    "            nums.append(int(a_.text))\n",
    "        except:\n",
    "            pass\n",
    "\n",
    "    if len(nums):\n",
    "        page_num = max(nums)\n",
    "    else:\n",
    "        page_num = 1\n",
    "        \n",
    "    for i in tqdm(range(1, page_num + 1, max_worker)):\n",
    "        a = np.arange(i, i + max_worker)\n",
    "        urls = [(f'{t}page/{k}', os.path.join('url', f'{t_}-{k}.json')) for k in a]\n",
    "        \n",
    "        with ThreadPoolExecutor(max_workers=max_worker) as executor:\n",
    "            futures = {executor.submit(crawl, url[0], url[1]): url for url in urls}\n",
    "            \n",
    "            for future in as_completed(futures):\n",
    "                future.result()"
   ]
  },
  {
   "cell_type": "code",
   "execution_count": null,
   "metadata": {},
   "outputs": [],
   "source": []
  }
 ],
 "metadata": {
  "kernelspec": {
   "display_name": "Python 3 (ipykernel)",
   "language": "python",
   "name": "python3"
  },
  "language_info": {
   "codemirror_mode": {
    "name": "ipython",
    "version": 3
   },
   "file_extension": ".py",
   "mimetype": "text/x-python",
   "name": "python",
   "nbconvert_exporter": "python",
   "pygments_lexer": "ipython3",
   "version": "3.8.10"
  }
 },
 "nbformat": 4,
 "nbformat_minor": 4
}
