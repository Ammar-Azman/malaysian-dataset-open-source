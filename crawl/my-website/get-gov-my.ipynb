{
 "cells": [
  {
   "cell_type": "code",
   "execution_count": 1,
   "metadata": {},
   "outputs": [],
   "source": [
    "import requests\n",
    "from bs4 import BeautifulSoup"
   ]
  },
  {
   "cell_type": "code",
   "execution_count": 2,
   "metadata": {},
   "outputs": [],
   "source": [
    "r = requests.get('https://www.hrdnet.com.my/')\n",
    "soup = BeautifulSoup(r.content, \"lxml\")"
   ]
  },
  {
   "cell_type": "code",
   "execution_count": 4,
   "metadata": {},
   "outputs": [
    {
     "data": {
      "text/plain": [
       "['/category/johor-state-government/',\n",
       " '/category/kedah-state-government/',\n",
       " '/category/ministry-of-agriculture-and-agro-based-industry/',\n",
       " '/category/ministry-of-communication-and-multimedia-malaysia/',\n",
       " '/category/ministry-of-defence/',\n",
       " '/category/ministry-of-domestic-trade-and-consumer-affairs/',\n",
       " '/category/ministry-of-education/',\n",
       " '/category/ministry-of-energy-science-technology-environment-climate-change/',\n",
       " '/category/ministry-of-entrepreneur-development/',\n",
       " '/category/ministry-of-federal-territories/',\n",
       " '/category/ministry-of-finance-malaysia/',\n",
       " '/category/ministry-of-foreign-affairs/',\n",
       " '/category/ministry-of-health/',\n",
       " '/category/ministry-of-home-affairs/',\n",
       " '/category/ministry-of-housing-and-local-government/',\n",
       " '/category/ministry-of-human-resources/',\n",
       " '/category/ministry-of-international-trade-and-industry/',\n",
       " '/category/ministry-of-primary-industries/',\n",
       " '/category/ministry-of-rural-development/',\n",
       " '/category/ministry-of-tourism-arts-and-culture-malaysia/',\n",
       " '/category/ministry-of-transport/',\n",
       " '/category/ministry-of-water-land-and-natural-resources/',\n",
       " '/category/ministry-of-women-family-community-development/',\n",
       " '/category/ministry-of-works/',\n",
       " '/category/ministry-of-youth-and-sports/',\n",
       " '/category/prime-minister-office/']"
      ]
     },
     "execution_count": 4,
     "metadata": {},
     "output_type": "execute_result"
    }
   ],
   "source": [
    "h4 = soup.find_all('h4', {'class':\"media-heading\"})\n",
    "categories = [h4_.find('a').get('href') for h4_ in h4]\n",
    "categories"
   ]
  },
  {
   "cell_type": "code",
   "execution_count": 5,
   "metadata": {},
   "outputs": [],
   "source": [
    "url = 'https://www.hrdnet.com.my' + categories[0]\n",
    "r = requests.get(url)\n",
    "soup = BeautifulSoup(r.content, \"lxml\")"
   ]
  },
  {
   "cell_type": "code",
   "execution_count": 14,
   "metadata": {},
   "outputs": [
    {
     "name": "stderr",
     "output_type": "stream",
     "text": [
      "100%|█████████████████████████████████████████████████████████████████████████████████████████████| 26/26 [00:31<00:00,  1.22s/it]\n"
     ]
    }
   ],
   "source": [
    "from tqdm import tqdm\n",
    "\n",
    "urls = []\n",
    "for c in tqdm(categories):\n",
    "    url = 'https://www.hrdnet.com.my' + c\n",
    "    r = requests.get(url)\n",
    "    soup = BeautifulSoup(r.content, \"lxml\")\n",
    "    \n",
    "    li = soup.find_all('li', {'class':\"hidden-xs\"})\n",
    "    nums = []\n",
    "    for li_ in li:\n",
    "        nums.append(int(li_.text))\n",
    "\n",
    "    if len(nums):\n",
    "        page_num = max(nums)\n",
    "    else:\n",
    "        page_num = 1\n",
    "        \n",
    "    for i in range(1, page_num + 1, 1):\n",
    "        url = f'https://www.hrdnet.com.my{c}?page={i}'\n",
    "        a = soup.find_all('a')\n",
    "        a = [a_.get('href') for a_ in a if a_.get('href', '').endswith('.gov.my')]\n",
    "        urls.extend(a)"
   ]
  },
  {
   "cell_type": "code",
   "execution_count": 17,
   "metadata": {},
   "outputs": [
    {
     "name": "stdout",
     "output_type": "stream",
     "text": [
      "http://www.myipo.gov.my\n",
      "http://www.ipn.gov.my\n",
      "http://www.nuclearmalaysia.gov.my\n",
      "http://www.pkb.gov.my\n",
      "https://www.didkedah.gov.my\n",
      "http://pmsabah.treasury.gov.my\n",
      "http://www.kada.gov.my\n",
      "http://www.mdmersing.gov.my\n",
      "http://www.mdbb.gov.my\n",
      "http://www.ppj.gov.my\n",
      "http://www.pdp.gov.my\n",
      "http://www.ipptar.gov.my\n",
      "http://www.idfr.gov.my\n",
      "http://www.met.gov.my\n",
      "http://www.airforce.gov.my\n",
      "http://www.lada.gov.my\n",
      "http://www.jasa.gov.my\n",
      "http://ptb.kedah.gov.my\n",
      "http://www.aelb.gov.my\n",
      "http://www.akademisains.gov.my\n",
      "http://www.tekun.gov.my\n",
      "http://www.wipers.gov.my\n",
      "http://pmsarawak.treasury.gov.my\n",
      "http://www.hydro.gov.my\n",
      "http://www.finas.gov.my\n",
      "http://veterinar.johor.gov.my\n",
      "http://www.remotesensing.gov.my\n",
      "http://www.eperolehan.gov.my\n",
      "http://www.doe.gov.my\n",
      "http://www.kimia.gov.my\n",
      "http://www.mdpontian.gov.my\n",
      "http://jps.johor.gov.my\n",
      "http://www.jaik.gov.my\n",
      "http://www.mdbaling.gov.my\n",
      "http://www.kpdnkk.gov.my\n",
      "http://www.stride.gov.my\n",
      "http://www.kwp.gov.my\n",
      "http://www.rtm.gov.my\n",
      "http://www.treasury.gov.my\n",
      "http://www.moe.gov.my\n",
      "http://www.dvs.gov.my\n",
      "http://www.smecorp.gov.my\n",
      "http://www.skmm.gov.my\n",
      "http://www.mpbp.gov.my\n",
      "http://www.standardsmalaysia.gov.my\n",
      "http://www.dbkl.gov.my\n",
      "http://www.dof.gov.my\n",
      "http://www.fama.gov.my\n",
      "http://www.kln.gov.my\n",
      "http://army.mod.gov.my\n",
      "http://www.lkim.gov.my\n",
      "http://www.searcct.gov.my\n",
      "http://pertanian.kedah.gov.my\n",
      "http://www.mdkt.gov.my\n",
      "http://www.skm.gov.my\n",
      "http://www.kwsp.gov.my\n",
      "http://www.kkmm.gov.my\n",
      "http://www.jhev.gov.my\n",
      "http://mufti.kedah.gov.my\n",
      "http://www.mardi.gov.my\n",
      "http://www.pl.gov.my\n",
      "http://www.psn.gov.my\n",
      "http://www.mod.gov.my\n",
      "https://www.ptgkedah.gov.my\n",
      "http://www.mpib.gov.my\n",
      "http://www.mdlabis.gov.my\n",
      "http://jpbd.johor.gov.my\n",
      "http://www.khidmatnegara.gov.my\n",
      "http://www.doa.gov.my\n",
      "http://www.anm.gov.my\n",
      "http://www.lpp.gov.my\n",
      "http://www.mbas.gov.my\n",
      "http://www.penerangan.gov.my\n",
      "http://www.hasil.gov.my\n",
      "http://www.bnm.gov.my\n",
      "http://www.mdsegamat.gov.my\n",
      "https://www.mestecc.gov.my\n"
     ]
    }
   ],
   "source": [
    "print('\\n'.join(list(set(urls))))"
   ]
  },
  {
   "cell_type": "code",
   "execution_count": null,
   "metadata": {},
   "outputs": [],
   "source": []
  }
 ],
 "metadata": {
  "kernelspec": {
   "display_name": "Python 3 (ipykernel)",
   "language": "python",
   "name": "python3"
  },
  "language_info": {
   "codemirror_mode": {
    "name": "ipython",
    "version": 3
   },
   "file_extension": ".py",
   "mimetype": "text/x-python",
   "name": "python",
   "nbconvert_exporter": "python",
   "pygments_lexer": "ipython3",
   "version": "3.8.10"
  }
 },
 "nbformat": 4,
 "nbformat_minor": 4
}
