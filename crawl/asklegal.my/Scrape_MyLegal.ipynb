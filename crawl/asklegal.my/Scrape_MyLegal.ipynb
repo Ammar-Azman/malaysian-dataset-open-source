{
 "cells": [
  {
   "cell_type": "code",
   "execution_count": 55,
   "id": "91910bc2",
   "metadata": {},
   "outputs": [],
   "source": [
    "import requests\n",
    "from bs4 import BeautifulSoup\n",
    "import re\n",
    "import pandas as pd\n",
    "import html"
   ]
  },
  {
   "cell_type": "code",
   "execution_count": 88,
   "id": "693fcd30",
   "metadata": {},
   "outputs": [],
   "source": [
    "import requests\n",
    "\n",
    "cookies = {\n",
    "    '_asklegal_session': 'RXhPMXhZbTFTWkhRNnYrOFFxRmtWamRNRTVGZFdsTTh1emlVdzlQOXRlNERUWlBnQnprV1lVL0xpdU5neHhTdWlkT280UDVYWmtxbmZFZWp4MDNVTVQ5RGZ4QU85RmNSckNyVWNCdTZQbHdHL3ZoR2crNEdETjFMQ1kvNzdxVHYrQUJOeEpoRFRrNitFbVlRQmc5Y1l3PT0tLW50c1cvM2J6QU1xZXNIU1llb2xGdkE9PQ%3D%3D--cde7ea03e26e5ebc20e66ac88a18ac66ec681282',\n",
    "}\n",
    "\n",
    "headers = {\n",
    "    'authority': 'asklegal.my',\n",
    "    'accept': 'text/javascript, application/javascript, application/ecmascript, application/x-ecmascript, */*; q=0.01',\n",
    "    'accept-language': 'en-GB-oxendict,en-US;q=0.9,en;q=0.8,ms;q=0.7',\n",
    "    # 'cookie': '_asklegal_session=RXhPMXhZbTFTWkhRNnYrOFFxRmtWamRNRTVGZFdsTTh1emlVdzlQOXRlNERUWlBnQnprV1lVL0xpdU5neHhTdWlkT280UDVYWmtxbmZFZWp4MDNVTVQ5RGZ4QU85RmNSckNyVWNCdTZQbHdHL3ZoR2crNEdETjFMQ1kvNzdxVHYrQUJOeEpoRFRrNitFbVlRQmc5Y1l3PT0tLW50c1cvM2J6QU1xZXNIU1llb2xGdkE9PQ%3D%3D--cde7ea03e26e5ebc20e66ac88a18ac66ec681282',\n",
    "    'referer': 'https://asklegal.my/?&page=1',\n",
    "    'sec-ch-ua': '\"Chromium\";v=\"116\", \"Not)A;Brand\";v=\"24\", \"Microsoft Edge\";v=\"116\"',\n",
    "    'sec-ch-ua-mobile': '?0',\n",
    "    'sec-ch-ua-platform': '\"Windows\"',\n",
    "    'sec-fetch-dest': 'empty',\n",
    "    'sec-fetch-mode': 'cors',\n",
    "    'sec-fetch-site': 'same-origin',\n",
    "    'user-agent': 'Mozilla/5.0 (Windows NT 10.0; Win64; x64) AppleWebKit/537.36 (KHTML, like Gecko) Chrome/116.0.0.0 Safari/537.36 Edg/116.0.1938.69',\n",
    "    'x-csrf-token': 'c2ZnHNOIt8tosz64yqIt/nqzh2l7MSdorGCX+buedH2knb1M4o9lbpFl/sRbOWGOzQXo/ulF04UBFWxBeHX6xQ==',\n",
    "    'x-requested-with': 'XMLHttpRequest',\n",
    "}"
   ]
  },
  {
   "cell_type": "code",
   "execution_count": 95,
   "id": "f1b3bd2b",
   "metadata": {},
   "outputs": [],
   "source": [
    "url_list = []\n",
    "front_text = \"https://asklegal.my\"\n",
    "\n",
    "for x in range(253):\n",
    "    page = x+1\n",
    "    response = requests.get(f\"https://asklegal.my/?&page={page}&_=1694106426054\", cookies=cookies, headers=headers)\n",
    "    texts = response.text.split(\"<\")\n",
    "    \n",
    "    for text in texts:\n",
    "        if \"a href=\\\\\" in text:\n",
    "            temp = text.split('\"')[1][:-1]\n",
    "            full_url = f\"{front_text}{temp}\"\n",
    "        \n",
    "            if full_url not in url_list:\n",
    "                url_list.append(full_url)"
   ]
  },
  {
   "cell_type": "code",
   "execution_count": 96,
   "id": "c8e096aa",
   "metadata": {},
   "outputs": [
    {
     "data": {
      "text/plain": [
       "1263"
      ]
     },
     "execution_count": 96,
     "metadata": {},
     "output_type": "execute_result"
    }
   ],
   "source": [
    "len(url_list)"
   ]
  },
  {
   "cell_type": "code",
   "execution_count": 97,
   "id": "de93cacb",
   "metadata": {},
   "outputs": [
    {
     "data": {
      "text/plain": [
       "['https://asklegal.my/p/friends-of-allianz-mco-foa-referral-program-insurance',\n",
       " 'https://asklegal.my/p/budget-2022-initiatives-schemes-benefits-keluarga-malaysia-jobs-insurance-ewallet-business-loans',\n",
       " 'https://asklegal.my/p/first-female-lawyer-malaysia-BH-Oon-Beng-Hong',\n",
       " 'https://asklegal.my/p/malaysian-laws-parliament-Acts-pineapple-nun-organ',\n",
       " 'https://asklegal.my/p/PDRM-late-negligence-help-response-999-polis',\n",
       " 'https://asklegal.my/p/lawsuit-sue-court-win-loser-pay-garnishee-creditor-debtor',\n",
       " 'https://asklegal.my/p/vape-counterfeit-compatible-fake-pod-juice-regulation-tax-consumer',\n",
       " 'https://asklegal.my/p/fraudulent-misrepresentation-business-loss-corporate-veil',\n",
       " 'https://asklegal.my/p/condo-management-sue-developer-strata-residents-latent-defects-building',\n",
       " 'https://asklegal.my/p/employer-employee-download-app-work-office-phone-computer-pdpa-privacy']"
      ]
     },
     "execution_count": 97,
     "metadata": {},
     "output_type": "execute_result"
    }
   ],
   "source": [
    "url_list[:10]"
   ]
  },
  {
   "cell_type": "code",
   "execution_count": 100,
   "id": "d8e7a478",
   "metadata": {},
   "outputs": [],
   "source": [
    "df = pd.DataFrame({\"URL\": url_list})\n",
    "\n",
    "df.to_csv(\"asklegal_urls.csv\", index=False)"
   ]
  },
  {
   "cell_type": "code",
   "execution_count": 25,
   "id": "09ee6bc2",
   "metadata": {},
   "outputs": [],
   "source": [
    "cookies = {\n",
    "    '_asklegal_session': 'V0xNWFMzajVlZG5IenFlbFF3aXA4b3lHWXNwNkNZcS9XZ1hKRnF3Y1RCdkpqbS9kd2dudWxqa0hFbkFNK2JUZGRSM20wZmphQnJPK2N2TXRhbUZkR3pxWFd5OGc2aVA4MXk1S3lTcEJrNXh6SWV5ZDFLd1BDQjJuRGtyV3dneHIyY2U4MC9aUTdyZ1MwaC95dGFHcDhBPT0tLVU3b0VrTDV1V2dFcXJSY21uMHZSVGc9PQ%3D%3D--f77bc0d200fc112486119cf86717d7d4d8e8f407',\n",
    "}\n",
    "\n",
    "headers = {\n",
    "    'authority': 'asklegal.my',\n",
    "    'accept': 'text/html,application/xhtml+xml,application/xml;q=0.9,image/webp,image/apng,*/*;q=0.8,application/signed-exchange;v=b3;q=0.7',\n",
    "    'accept-language': 'en-GB-oxendict,en-US;q=0.9,en;q=0.8,ms;q=0.7',\n",
    "    'cache-control': 'no-cache',\n",
    "    # 'cookie': '_asklegal_session=V0xNWFMzajVlZG5IenFlbFF3aXA4b3lHWXNwNkNZcS9XZ1hKRnF3Y1RCdkpqbS9kd2dudWxqa0hFbkFNK2JUZGRSM20wZmphQnJPK2N2TXRhbUZkR3pxWFd5OGc2aVA4MXk1S3lTcEJrNXh6SWV5ZDFLd1BDQjJuRGtyV3dneHIyY2U4MC9aUTdyZ1MwaC95dGFHcDhBPT0tLVU3b0VrTDV1V2dFcXJSY21uMHZSVGc9PQ%3D%3D--f77bc0d200fc112486119cf86717d7d4d8e8f407',\n",
    "    'pragma': 'no-cache',\n",
    "    'sec-ch-ua': '\"Chromium\";v=\"116\", \"Not)A;Brand\";v=\"24\", \"Microsoft Edge\";v=\"116\"',\n",
    "    'sec-ch-ua-mobile': '?0',\n",
    "    'sec-ch-ua-platform': '\"Windows\"',\n",
    "    'sec-fetch-dest': 'document',\n",
    "    'sec-fetch-mode': 'navigate',\n",
    "    'sec-fetch-site': 'same-origin',\n",
    "    'sec-fetch-user': '?1',\n",
    "    'upgrade-insecure-requests': '1',\n",
    "    'user-agent': 'Mozilla/5.0 (Windows NT 10.0; Win64; x64) AppleWebKit/537.36 (KHTML, like Gecko) Chrome/116.0.0.0 Safari/537.36 Edg/116.0.1938.69',\n",
    "}"
   ]
  },
  {
   "cell_type": "code",
   "execution_count": 103,
   "id": "65c9808a",
   "metadata": {},
   "outputs": [
    {
     "name": "stdout",
     "output_type": "stream",
     "text": [
      "https://asklegal.my/p/friends-of-allianz-mco-foa-referral-program-insurance\n"
     ]
    }
   ],
   "source": [
    "for url in url_list:\n",
    "    print(url)\n",
    "    break"
   ]
  },
  {
   "cell_type": "code",
   "execution_count": null,
   "id": "66ce054d",
   "metadata": {},
   "outputs": [],
   "source": []
  },
  {
   "cell_type": "code",
   "execution_count": 44,
   "id": "abf929c0",
   "metadata": {},
   "outputs": [],
   "source": [
    "response = requests.get(\"https://asklegal.my/p/sex-offender-registry-Megan's-law-Hannah-Yeoh-social-welfare\", cookies=cookies, headers=headers)"
   ]
  },
  {
   "cell_type": "code",
   "execution_count": 45,
   "id": "11f902f2",
   "metadata": {},
   "outputs": [
    {
     "data": {
      "text/plain": [
       "\"Malaysia has a new sex offenders registry, here's | AskLegal.my\""
      ]
     },
     "execution_count": 45,
     "metadata": {},
     "output_type": "execute_result"
    }
   ],
   "source": [
    "soup = BeautifulSoup(response.text, \"html.parser\")\n",
    "soup.title.text"
   ]
  },
  {
   "cell_type": "code",
   "execution_count": 46,
   "id": "16d96aea",
   "metadata": {},
   "outputs": [],
   "source": [
    "target_div = soup.find('div', {'id': 'post_content', 'class': 'font_slightly_bigger'})"
   ]
  },
  {
   "cell_type": "code",
   "execution_count": 47,
   "id": "967207d1",
   "metadata": {
    "scrolled": true
   },
   "outputs": [
    {
     "name": "stdout",
     "output_type": "stream",
     "text": [
      "It’s not really easy to tell if someone has a criminal record in Malaysia. Take for example someone who went to jail for laundering money, he could probably go through the rest of his life without people knowing that he was former convict. Even if he’s applying for a job, unless the application form says so, he doesn’t need to declare he’s been to jail.\n",
      "Now all that may change for….convicted child sex offenders.\n",
      "Deputy Minister Hannah Yeoh recently announced that the Ministry of Women, Community and Family Development has come up with a sex offender registry which will be up and running on April 1st.\n",
      "This concept of a sex offender registry maybe new to some, but it’s basically a list containing the names of sexual offenders (the list may also contain their locations as well as the the exact crime they committed). This sort of system isn’t new  and the western world has had such systems in place already for years. \n",
      "The need for a sex offender registry wasn’t new in Malaysia. In fact, there were calls for this system years ago when serial-rapist Selva Kumar returned back to Malaysia from Canada.\n",
      "So we don’t know how our new sex offender registry is gonna work compared to other countries, but before we get there...\n",
      "Despite the fact that the system is 2 days old only, there’s already some information available about the registry. According to reports, the list already contains the names of 3,000 child sex offenders, and the list is updated from 2017 to February 2019.\n",
      "In addition to that, Deputy Minister Hannah Yeoh added that this list will be available to people running organisations where they’d have to hire employees that work with children on a daily basis. So if let’s say a school is hiring a new teacher or even a canteen cook, the employer can use the system to check if the person has a sex crime record.\n",
      "“Those who want to send their children to daycares, or schools looking to hire new teachers, simply have to provide the individual’s IC number to the Social Welfare Department.”  – Deputy Minister Hannah Yeoh reported by The Malay Mail\n",
      "And although the system is technically not available to the general public, parents can use the system if they have a valid reason – like hiring a new babysitter. So if you’re a principal looking to hire a new history teacher or a parent looking to hire a babysitter, here’s how to use the registry:\n",
      "Get the IC of the person you’d like to check\n",
      "Head to the state/district Social Welfare Department and give the IC number there\\\n",
      "If you visit a state Social Welfare Department, you’d get results instantly. If it’s a district one, you’d have to wait up to 5 working days\n",
      "You’d also have to explain why you’re performing the check\n",
      "If they accept your explanation, they’d give you the result\n",
      "If the person has not committed a sexual crime against a child, you’d get a letter stating “no records”. If there is a record, the letter will say “further checks by JKM”\n",
      "Aside from having to go to JKM the process is pretty easy and straightforward. But why not just put the system online? \n",
      "In 1994, when a 7 year old girl named Megan Kanka was raped and murdered by a neighbour who had a previous sex crime record. As a result of her death, her parents believed that it could’ve been avoided had they known that there was a sexual offender in the vicinity\n",
      "Believing that there’s some merit for parents to know if there are sex offenders around their children, the federal government passed Megan’s law. This law required every state to have a sex offender registry made available to the general public.\n",
      "So basically, whenever a sexual offender moves into an area the local state authorities must notify the neighbourhood.\n",
      "And while Megan’s law dictates that the state must let their locals know there’s a sex offender living nearby, each state gets to choose how much info is accessible to the public (for example, some states may not reveal the exact crime that was committed).\n",
      "As a result of Megan’s Law, concerned parents have access to two types of systems. The first is run by the Department Of Justice called NSOPW, and there are a few privately run registries available like familywatchdog.\n",
      "The systems are fairly straightforward and works something like this:\n",
      "Visit the website you prefer\n",
      "Key in the name and/or address of the area you want to check\n",
      "The website will show whether the particular person has a criminal record or whether there are sex offenders in your area\n",
      "If we were to compare the US’ and Malaysia’s sex offender registry, the US clearly wins in terms of convenience. In the US, all you need to do if you wanna use the system is get on your phone/laptop. You don’t need to have a reason to use the system and you can do it in the comfort of your own home.\n",
      "In Malaysia, you’d have to find the Social Welfare Department and provide reasons for why you wanna conduct a check – which can be quite a hassle. But the so called convenient American system isn’t all rainbows and butterflies, it has its fair share of criticisms.\n",
      "While the US sex offender registry may be open and accessible, it comes along with some concerns of privacy. In other words, having such an open system could infringe the privacy of the former sex offender. In such cases, the matter isn’t just for the sake of privacy but to allow the offender to continue living his life after serving his sentence. But at the same time there are those who argued back saying the safety rights of residents should trump a sex offender’s right to privacy.\n",
      "Whatever side of the argument you’re on, you’d have to know that the Malaysian sex offender registry isn’t one of a kind. In fact, most countries which has a sex offenders registry limits the public’s access to the system. For example Canada and South Africa has a sex offender registry that’s only accessible by enforcement authorities and sometimes institutions that work with children.\n",
      "So for now, perhaps we can give the new Malaysian sex offender registry a chance. If there are drawbacks, it’s best to hope that the government makes changes to it.\n"
     ]
    }
   ],
   "source": [
    "if target_div:\n",
    "    p_elements = target_div.find_all(\"p\")\n",
    "    \n",
    "    for p in p_elements:\n",
    "        body = p.text.strip()\n",
    "        if body:\n",
    "            print(p.text)\n",
    "#         break"
   ]
  },
  {
   "cell_type": "code",
   "execution_count": 48,
   "id": "c3fbf7e7",
   "metadata": {
    "scrolled": true
   },
   "outputs": [
    {
     "name": "stdout",
     "output_type": "stream",
     "text": [
      "It’s not really easy to tell if someone has a criminal record in Malaysia. Take for example someone who went to jail for laundering money, he could probably go through the rest of his life without people knowing that he was former convict. Even if he’s applying for a job, unless the application form says so, he doesn’t need to declare he’s been to jail.\n",
      "Now all that may change for….convicted child sex offenders.\n",
      "Deputy Minister Hannah Yeoh recently announced that the Ministry of Women, Community and Family Development has come up with a sex offender registry which will be up and running on April 1st.\n",
      "This concept of a sex offender registry maybe new to some, but it’s basically a list containing the names of sexual offenders (the list may also contain their locations as well as the the exact crime they committed). This sort of system isn’t new  and the western world has had such systems in place already for years. \n",
      "The need for a sex offender registry wasn’t new in Malaysia. In fact, there were calls for this system years ago when serial-rapist Selva Kumar returned back to Malaysia from Canada.\n",
      "\n",
      "So we don’t know how our new sex offender registry is gonna work compared to other countries, but before we get there...\n",
      " \n",
      "Here’s how the Malaysian system works\n",
      "\n",
      "Despite the fact that the system is 2 days old only, there’s already some information available about the registry. According to reports, the list already contains the names of 3,000 child sex offenders, and the list is updated from 2017 to February 2019.\n",
      "In addition to that, Deputy Minister Hannah Yeoh added that this list will be available to people running organisations where they’d have to hire employees that work with children on a daily basis. So if let’s say a school is hiring a new teacher or even a canteen cook, the employer can use the system to check if the person has a sex crime record.\n",
      "\n",
      "“Those who want to send their children to daycares, or schools looking to hire new teachers, simply have to provide the individual’s IC number to the Social Welfare Department.”  – Deputy Minister Hannah Yeoh reported by The Malay Mail\n",
      "\n",
      "And although the system is technically not available to the general public, parents can use the system if they have a valid reason – like hiring a new babysitter. So if you’re a principal looking to hire a new history teacher or a parent looking to hire a babysitter, here’s how to use the registry:\n",
      "\n",
      "\n",
      "Get the IC of the person you’d like to check\n",
      "\n",
      "\n",
      "Head to the state/district Social Welfare Department and give the IC number there\\\n",
      "\n",
      "\n",
      "If you visit a state Social Welfare Department, you’d get results instantly. If it’s a district one, you’d have to wait up to 5 working days\n",
      "\n",
      "\n",
      "You’d also have to explain why you’re performing the check\n",
      "\n",
      "\n",
      "If they accept your explanation, they’d give you the result\n",
      "\n",
      "\n",
      "If the person has not committed a sexual crime against a child, you’d get a letter stating “no records”. If there is a record, the letter will say “further checks by JKM”\n",
      "\n",
      "\n",
      "Aside from having to go to JKM the process is pretty easy and straightforward. But why not just put the system online? \n",
      " \n",
      "In the US anyone can check online\n",
      "\n",
      " \n",
      "In 1994, when a 7 year old girl named Megan Kanka was raped and murdered by a neighbour who had a previous sex crime record. As a result of her death, her parents believed that it could’ve been avoided had they known that there was a sexual offender in the vicinity\n",
      "Believing that there’s some merit for parents to know if there are sex offenders around their children, the federal government passed Megan’s law. This law required every state to have a sex offender registry made available to the general public.\n",
      "So basically, whenever a sexual offender moves into an area the local state authorities must notify the neighbourhood.\n",
      "And while Megan’s law dictates that the state must let their locals know there’s a sex offender living nearby, each state gets to choose how much info is accessible to the public (for example, some states may not reveal the exact crime that was committed).\n",
      "As a result of Megan’s Law, concerned parents have access to two types of systems. The first is run by the Department Of Justice called NSOPW, and there are a few privately run registries available like familywatchdog.\n",
      "The systems are fairly straightforward and works something like this:\n",
      "\n",
      "\n",
      "Visit the website you prefer\n",
      "\n",
      "\n",
      "Key in the name and/or address of the area you want to check\n",
      "\n",
      "\n",
      "The website will show whether the particular person has a criminal record or whether there are sex offenders in your area\n",
      "\n",
      "\n",
      "\n",
      " \n",
      " \n",
      "There’s no perfect system\n",
      "\n",
      "If we were to compare the US’ and Malaysia’s sex offender registry, the US clearly wins in terms of convenience. In the US, all you need to do if you wanna use the system is get on your phone/laptop. You don’t need to have a reason to use the system and you can do it in the comfort of your own home.\n",
      "In Malaysia, you’d have to find the Social Welfare Department and provide reasons for why you wanna conduct a check – which can be quite a hassle. But the so called convenient American system isn’t all rainbows and butterflies, it has its fair share of criticisms.\n",
      "While the US sex offender registry may be open and accessible, it comes along with some concerns of privacy. In other words, having such an open system could infringe the privacy of the former sex offender. In such cases, the matter isn’t just for the sake of privacy but to allow the offender to continue living his life after serving his sentence. But at the same time there are those who argued back saying the safety rights of residents should trump a sex offender’s right to privacy.\n",
      "Whatever side of the argument you’re on, you’d have to know that the Malaysian sex offender registry isn’t one of a kind. In fact, most countries which has a sex offenders registry limits the public’s access to the system. For example Canada and South Africa has a sex offender registry that’s only accessible by enforcement authorities and sometimes institutions that work with children.\n",
      "So for now, perhaps we can give the new Malaysian sex offender registry a chance. If there are drawbacks, it’s best to hope that the government makes changes to it.\n"
     ]
    }
   ],
   "source": [
    "target_div = soup.find('div', {'id': 'post_content', 'class': 'font_slightly_bigger'})\n",
    "\n",
    "if target_div:\n",
    "    for element in target_div.find_all(\"img\"):\n",
    "        element.extract()\n",
    "    \n",
    "    for a_element in target_div.find_all(\"a\"):\n",
    "        a_element.replace_with(a_element.text)\n",
    "        \n",
    "        \n",
    "    for exclude_class in ['image', 'figcaption']:\n",
    "        for element in target_div.find_all(class_=exclude_class):\n",
    "            element.extract()\n",
    "    \n",
    "    text_content = target_div.get_text()\n",
    "    text_stripped = text_content.strip()\n",
    "    if text_stripped:\n",
    "        print(text_stripped)"
   ]
  },
  {
   "cell_type": "code",
   "execution_count": 8,
   "id": "9a240dbd",
   "metadata": {},
   "outputs": [
    {
     "data": {
      "text/plain": [
       "'B.H. Oon, the lawyer who opened the doors for women to practice law in Malaysia'"
      ]
     },
     "execution_count": 8,
     "metadata": {},
     "output_type": "execute_result"
    }
   ],
   "source": [
    "title = soup.find(\"h1\", id=\"post_title\")\n",
    "title.text"
   ]
  },
  {
   "cell_type": "code",
   "execution_count": 49,
   "id": "e0a6f98c",
   "metadata": {},
   "outputs": [
    {
     "data": {
      "text/html": [
       "<div>\n",
       "<style scoped>\n",
       "    .dataframe tbody tr th:only-of-type {\n",
       "        vertical-align: middle;\n",
       "    }\n",
       "\n",
       "    .dataframe tbody tr th {\n",
       "        vertical-align: top;\n",
       "    }\n",
       "\n",
       "    .dataframe thead th {\n",
       "        text-align: right;\n",
       "    }\n",
       "</style>\n",
       "<table border=\"1\" class=\"dataframe\">\n",
       "  <thead>\n",
       "    <tr style=\"text-align: right;\">\n",
       "      <th></th>\n",
       "      <th>URL</th>\n",
       "    </tr>\n",
       "  </thead>\n",
       "  <tbody>\n",
       "    <tr>\n",
       "      <th>0</th>\n",
       "      <td>https://asklegal.my/p/friends-of-allianz-mco-f...</td>\n",
       "    </tr>\n",
       "    <tr>\n",
       "      <th>1</th>\n",
       "      <td>https://asklegal.my/p/budget-2022-initiatives-...</td>\n",
       "    </tr>\n",
       "    <tr>\n",
       "      <th>2</th>\n",
       "      <td>https://asklegal.my/p/first-female-lawyer-mala...</td>\n",
       "    </tr>\n",
       "    <tr>\n",
       "      <th>3</th>\n",
       "      <td>https://asklegal.my/p/malaysian-laws-parliamen...</td>\n",
       "    </tr>\n",
       "    <tr>\n",
       "      <th>4</th>\n",
       "      <td>https://asklegal.my/p/PDRM-late-negligence-hel...</td>\n",
       "    </tr>\n",
       "  </tbody>\n",
       "</table>\n",
       "</div>"
      ],
      "text/plain": [
       "                                                 URL\n",
       "0  https://asklegal.my/p/friends-of-allianz-mco-f...\n",
       "1  https://asklegal.my/p/budget-2022-initiatives-...\n",
       "2  https://asklegal.my/p/first-female-lawyer-mala...\n",
       "3  https://asklegal.my/p/malaysian-laws-parliamen...\n",
       "4  https://asklegal.my/p/PDRM-late-negligence-hel..."
      ]
     },
     "execution_count": 49,
     "metadata": {},
     "output_type": "execute_result"
    }
   ],
   "source": [
    "df = pd.read_csv(\"asklegal_urls.csv\")\n",
    "df.head()"
   ]
  },
  {
   "cell_type": "code",
   "execution_count": 50,
   "id": "2dcbbd96",
   "metadata": {},
   "outputs": [
    {
     "data": {
      "text/plain": [
       "'https://asklegal.my/p/friends-of-allianz-mco-foa-referral-program-insurance'"
      ]
     },
     "execution_count": 50,
     "metadata": {},
     "output_type": "execute_result"
    }
   ],
   "source": [
    "df[\"URL\"][0]"
   ]
  },
  {
   "cell_type": "code",
   "execution_count": 56,
   "id": "c24fe73e",
   "metadata": {},
   "outputs": [],
   "source": [
    "full_text = []\n",
    "for x in range(len(df)):\n",
    "    text_list = []\n",
    "    base_url = html.unescape(df[\"URL\"][x])\n",
    "    response = requests.get(base_url, cookies=cookies, headers=headers)\n",
    "    soup = BeautifulSoup(response.text, \"html.parser\")\n",
    "    \n",
    "    title = soup.find(\"h1\", id=\"post_title\")\n",
    "    text_list.append(title.text)\n",
    "    \n",
    "    target_div = soup.find('div', {'id': 'post_content', 'class': 'font_slightly_bigger'})\n",
    "    \n",
    "    if target_div:\n",
    "        for element in target_div.find_all(\"img\"):\n",
    "            element.extract()\n",
    "\n",
    "        for a_element in target_div.find_all(\"a\"):\n",
    "            a_element.replace_with(a_element.text)\n",
    "\n",
    "\n",
    "        for exclude_class in ['image', 'figcaption']:\n",
    "            for element in target_div.find_all(class_=exclude_class):\n",
    "                element.extract()\n",
    "\n",
    "        text_content = target_div.get_text()\n",
    "        text_content_cleaned = re.sub(r'\\s+', ' ', text_content).strip()\n",
    "        text_stripped = text_content_cleaned.strip()\n",
    "        if text_stripped:\n",
    "            text_list.append(text_stripped)\n",
    "    \n",
    "    \n",
    "#     print(text_stripped)\n",
    "    combined = \" \".join(text_list)\n",
    "    full_text.append(combined)\n",
    "#     break"
   ]
  },
  {
   "cell_type": "code",
   "execution_count": 52,
   "id": "665da958",
   "metadata": {},
   "outputs": [
    {
     "data": {
      "text/plain": [
       "559"
      ]
     },
     "execution_count": 52,
     "metadata": {},
     "output_type": "execute_result"
    }
   ],
   "source": [
    "x"
   ]
  },
  {
   "cell_type": "code",
   "execution_count": 53,
   "id": "fdd8df47",
   "metadata": {},
   "outputs": [
    {
     "data": {
      "text/plain": [
       "'https://asklegal.my/p/malaysian-businesses-laws-regulations-don&#39;t-follow'"
      ]
     },
     "execution_count": 53,
     "metadata": {},
     "output_type": "execute_result"
    }
   ],
   "source": [
    "df[\"URL\"][x]"
   ]
  },
  {
   "cell_type": "code",
   "execution_count": null,
   "id": "6029508a",
   "metadata": {},
   "outputs": [],
   "source": [
    "https://asklegal.my/p/malaysian-businesses-laws-regulations-don't-follow"
   ]
  },
  {
   "cell_type": "code",
   "execution_count": null,
   "id": "27507b9c",
   "metadata": {},
   "outputs": [],
   "source": [
    "https://asklegal.my/p/sex-offender-registry-Megan's-law-Hannah-Yeoh-social-welfare"
   ]
  },
  {
   "cell_type": "code",
   "execution_count": 57,
   "id": "2bb05f4f",
   "metadata": {},
   "outputs": [
    {
     "data": {
      "text/plain": [
       "1263"
      ]
     },
     "execution_count": 57,
     "metadata": {},
     "output_type": "execute_result"
    }
   ],
   "source": [
    "len(full_text)"
   ]
  },
  {
   "cell_type": "code",
   "execution_count": 58,
   "id": "4a939c45",
   "metadata": {},
   "outputs": [],
   "source": [
    "asklegal_df = pd.DataFrame({\"text\": full_text})\n",
    "\n",
    "asklegal_df.to_csv(\"asklegal_articles.csv\", index=False)"
   ]
  },
  {
   "cell_type": "code",
   "execution_count": 60,
   "id": "d5726ee0",
   "metadata": {},
   "outputs": [
    {
     "data": {
      "text/plain": [
       "\"Know someone who wants insurance? Allianz's referral programme pays you for it If we know a good mechanic, plumber, or even property agent, it’s quite common for us to recommend these people to our friends and family. And most of the time, there’s nothing in it for us other than a “thank you” from our loved ones; though property agents do sometimes share a referral fee. But actually, you can also get a very sizable referral fee by referring your friends to an insurance agent! Our friends over at Allianz Malaysia introduced us to their referral programme, coincidentally named Friends of Allianz. So here’s how you can earn some money if your friend comes up to you and asks “eh you got know any good insurance agents ah?” Be a Friend, get some dough We’ve actually made a video explaining this before. So if you prefer, you can watch our entertaining (wah puji sendiri) parody video of a financial guru explaining Friends of Allianz here. Basically, all you have to do is: Sign up for the Friends of Allianz programme Refer someone who wants to buy insurance to an Allianz agent (with their consent, of course) Wait for your friend to buy it. Once the policy is issued, you’ll get 50% of the agent’s first year commission! Sounds a bit too easy? It is, but that’s because getting the referrals is actually the hardest part. In case you don’t know, a Malaysians’ personal data is protected by the Personal Data Protection Act 2010 (The PDPA). So as an insurance agent, getting a lead or contact on people who want to buy insurance is very valuable, because resorting to things such as buying a name list is very illegal and can get them in trouble. Which is why, if you refer someone to an agent and the person ends up getting a policy, you’ll earn 50% of the agent’s first-year commission. So if the agent gets a RM1,000 commission for the first year, you’ll get RM500. Signing up for the referral programme is also free, and there are absolutely no targets for you to hit (unless you set your own personal target lah). There are no limits on how many people you can successfully refer, and no pressure or commitments whatsoever. It’s not a sales job You might also think, “Eh, I need to learn how to sell insurance right?”. The answer is a resounding “NO”, because this is not a sales job. You just have to refer your friend who already wants to buy insurance to an Allianz agent assigned to you, and they will be the one explaining everything to your friend. Other than introducing friends who don’t already have insurance, this programme also applies if you successfully refer someone who needs an insurance upgrade. So what does that mean? You might have heard that Covid-19 hospitalization costs in private hospitals can run up to RM200,000; while most insurance plans purchased 10 years ago usually cover about RM30,000 at most, meaning the balance of RM170,000 will have to come out of their pockets. So if you know someone who’s not sufficiently covered, it’s worth asking them to get their policy relooked by an Allianz agent. If they do get a policy upgrade or buy a new policy, you’ll also get the commission. You can also do everything online, so you don’t need to go out of your way (or your house) to do it. Just find people who want insurance, and refer them to your agent who wants to sell it = money. So if you’re interested, you can click the link below to sign up. Just make sure you’re over 18 and Malaysian to qualify for Friends of Allianz. Join the Friends of Allianz programme here.\""
      ]
     },
     "execution_count": 60,
     "metadata": {},
     "output_type": "execute_result"
    }
   ],
   "source": [
    "full_text[0]"
   ]
  },
  {
   "cell_type": "code",
   "execution_count": null,
   "id": "c9a4c201",
   "metadata": {},
   "outputs": [],
   "source": []
  }
 ],
 "metadata": {
  "kernelspec": {
   "display_name": "Python 3 (ipykernel)",
   "language": "python",
   "name": "python3"
  },
  "language_info": {
   "codemirror_mode": {
    "name": "ipython",
    "version": 3
   },
   "file_extension": ".py",
   "mimetype": "text/x-python",
   "name": "python",
   "nbconvert_exporter": "python",
   "pygments_lexer": "ipython3",
   "version": "3.10.12"
  }
 },
 "nbformat": 4,
 "nbformat_minor": 5
}
