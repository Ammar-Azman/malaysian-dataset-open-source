{
 "cells": [
  {
   "cell_type": "code",
   "execution_count": 2,
   "metadata": {},
   "outputs": [],
   "source": [
    "import requests\n",
    "from bs4 import BeautifulSoup\n",
    "from tqdm import tqdm\n",
    "import os\n",
    "import json\n",
    "import numpy as np\n",
    "import time\n",
    "import random\n",
    "import json\n",
    "from concurrent.futures import ThreadPoolExecutor, as_completed"
   ]
  },
  {
   "cell_type": "code",
   "execution_count": 1,
   "metadata": {},
   "outputs": [],
   "source": [
    "topics = [\n",
    "    'https://gamersantai.com/category/berita/',\n",
    "    'https://gamersantai.com/category/temuramah/',\n",
    "    'https://gamersantai.com/category/review/'\n",
    "]"
   ]
  },
  {
   "cell_type": "code",
   "execution_count": 3,
   "metadata": {},
   "outputs": [],
   "source": [
    "r = requests.get(topics[0])\n",
    "soup = BeautifulSoup(r.content, \"lxml\")"
   ]
  },
  {
   "cell_type": "code",
   "execution_count": 7,
   "metadata": {},
   "outputs": [
    {
     "data": {
      "text/plain": [
       "1290"
      ]
     },
     "execution_count": 7,
     "metadata": {},
     "output_type": "execute_result"
    }
   ],
   "source": [
    "nums = []\n",
    "a = soup.find_all('a', {'class': 'page_number'})\n",
    "for a_ in a:\n",
    "    try:\n",
    "        nums.append(int(a_.text.replace(',','')))\n",
    "    except:\n",
    "        pass\n",
    "    \n",
    "if len(nums):\n",
    "    page_num = max(nums)\n",
    "else:\n",
    "    page_num = 1\n",
    "    \n",
    "page_num"
   ]
  },
  {
   "cell_type": "code",
   "execution_count": 9,
   "metadata": {},
   "outputs": [
    {
     "data": {
      "text/plain": [
       "['https://gamersantai.com/barbie-review-aura-seronok-yang-menyerlah-riang-di-sebalik-krisis-kehidupan/',\n",
       " 'https://gamersantai.com/ryu-ga-gotoku-studio-bincang-masa-depan-francais-yakuza-like-a-dragon-kisah-cinta-kazuma-kiryu-interview/',\n",
       " 'https://gamersantai.com/one-piece-apakah-inspirasi-luffy-gear-5-sun-god-nika/',\n",
       " 'https://gamersantai.com/review-rog-flow-x13-laptop-gaming-nipis-ringan-berprestasi-tinggi/',\n",
       " 'https://gamersantai.com/jujutsu-kaisen-kuasa-gojo-yang-masih-belum-diterokai-dalam-musim-2/',\n",
       " 'https://gamersantai.com/game-aksi-multiplayer-one-punch-man-world-akan-datang-ke-sea-mungkin-keluar-tahun-ini/',\n",
       " 'https://gamersantai.com/guardians-of-the-galaxy-vol-3-bakal-tersedia-di-disney-pada-2-ogos-ini/',\n",
       " 'https://gamersantai.com/persona-5-tactica-selami-sistem-battle-unik-mekanik-game/',\n",
       " 'https://gamersantai.com/infinity-strash-dragon-quest-the-adventure-of-dai-kelebihan-setiap-watak/',\n",
       " 'https://gamersantai.com/konsol-handheld-bakal-perlukan-bateri-boleh-diganti-pada-tahun-2027/']"
      ]
     },
     "execution_count": 9,
     "metadata": {},
     "output_type": "execute_result"
    }
   ],
   "source": [
    "h3 = soup.find_all('h3', {'class': 'jeg_post_title'})\n",
    "a = [h3_.find('a').get('href') for h3_ in h3]\n",
    "a"
   ]
  },
  {
   "cell_type": "code",
   "execution_count": 10,
   "metadata": {},
   "outputs": [],
   "source": [
    "!rm -rf url\n",
    "!mkdir url"
   ]
  },
  {
   "cell_type": "code",
   "execution_count": 11,
   "metadata": {},
   "outputs": [],
   "source": [
    "def crawl(url, filename):\n",
    "    if os.path.exists(filename):\n",
    "        return\n",
    "\n",
    "    r = requests.get(url)\n",
    "    soup = BeautifulSoup(r.content, \"lxml\")\n",
    "    h3 = soup.find_all('h3', {'class': 'jeg_post_title'})\n",
    "    a = [h3_.find('a').get('href') for h3_ in h3]\n",
    "\n",
    "    with open(filename, 'w') as fopen:\n",
    "        json.dump(a, fopen)"
   ]
  },
  {
   "cell_type": "code",
   "execution_count": 12,
   "metadata": {},
   "outputs": [
    {
     "name": "stdout",
     "output_type": "stream",
     "text": [
      "https://gamersantai.com/category/berita/\n"
     ]
    },
    {
     "name": "stderr",
     "output_type": "stream",
     "text": [
      "100%|███████████████████████████████████████| 129/129 [1:08:11<00:00, 31.72s/it]\n"
     ]
    },
    {
     "name": "stdout",
     "output_type": "stream",
     "text": [
      "https://gamersantai.com/category/temuramah/\n"
     ]
    },
    {
     "name": "stderr",
     "output_type": "stream",
     "text": [
      "100%|█████████████████████████████████████████████| 4/4 [00:53<00:00, 13.30s/it]\n"
     ]
    },
    {
     "name": "stdout",
     "output_type": "stream",
     "text": [
      "https://gamersantai.com/category/review/\n"
     ]
    },
    {
     "name": "stderr",
     "output_type": "stream",
     "text": [
      "100%|█████████████████████████████████████████████| 9/9 [02:38<00:00, 17.62s/it]\n"
     ]
    }
   ],
   "source": [
    "max_worker = 10\n",
    "\n",
    "for t in topics:\n",
    "    print(t)\n",
    "    t_ = t.split('com/')[1].replace('/', '-')\n",
    "    \n",
    "    r = requests.get(t)\n",
    "    soup = BeautifulSoup(r.content, \"lxml\")\n",
    "    \n",
    "    nums = []\n",
    "    a = soup.find_all('a', {'class': 'page_number'})\n",
    "    for a_ in a:\n",
    "        try:\n",
    "            nums.append(int(a_.text.replace(',','')))\n",
    "        except:\n",
    "            pass\n",
    "\n",
    "    if len(nums):\n",
    "        page_num = max(nums)\n",
    "    else:\n",
    "        page_num = 1\n",
    "        \n",
    "    for i in tqdm(range(1, page_num + 1, max_worker)):\n",
    "        a = np.arange(i, i + max_worker)\n",
    "        urls = [(f'{t}page/{k}', os.path.join('url', f'{t_}-{k}.json')) for k in a]\n",
    "        \n",
    "        with ThreadPoolExecutor(max_workers=max_worker) as executor:\n",
    "            futures = {executor.submit(crawl, url[0], url[1]): url for url in urls}\n",
    "            \n",
    "            for future in as_completed(futures):\n",
    "                future.result()"
   ]
  },
  {
   "cell_type": "code",
   "execution_count": null,
   "metadata": {},
   "outputs": [],
   "source": []
  }
 ],
 "metadata": {
  "kernelspec": {
   "display_name": "Python 3 (ipykernel)",
   "language": "python",
   "name": "python3"
  },
  "language_info": {
   "codemirror_mode": {
    "name": "ipython",
    "version": 3
   },
   "file_extension": ".py",
   "mimetype": "text/x-python",
   "name": "python",
   "nbconvert_exporter": "python",
   "pygments_lexer": "ipython3",
   "version": "3.8.10"
  }
 },
 "nbformat": 4,
 "nbformat_minor": 4
}
