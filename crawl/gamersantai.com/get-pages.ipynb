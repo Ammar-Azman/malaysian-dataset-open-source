{
 "cells": [
  {
   "cell_type": "code",
   "execution_count": 1,
   "metadata": {},
   "outputs": [],
   "source": [
    "import requests\n",
    "from bs4 import BeautifulSoup\n",
    "from tqdm import tqdm\n",
    "import os\n",
    "import json\n",
    "import numpy as np\n",
    "import time\n",
    "import random\n",
    "import json\n",
    "from concurrent.futures import ThreadPoolExecutor, as_completed"
   ]
  },
  {
   "cell_type": "code",
   "execution_count": 2,
   "metadata": {},
   "outputs": [
    {
     "data": {
      "text/plain": [
       "12934"
      ]
     },
     "execution_count": 2,
     "metadata": {},
     "output_type": "execute_result"
    }
   ],
   "source": [
    "from glob import glob\n",
    "\n",
    "files = glob('url/*.json')\n",
    "urls = []\n",
    "for f in files:\n",
    "    with open(f) as fopen:\n",
    "        urls.extend(json.load(fopen))\n",
    "urls = sorted(list(set(urls)))\n",
    "len(urls)"
   ]
  },
  {
   "cell_type": "code",
   "execution_count": 3,
   "metadata": {},
   "outputs": [],
   "source": [
    "# !rm -rf page\n",
    "!mkdir page"
   ]
  },
  {
   "cell_type": "code",
   "execution_count": 4,
   "metadata": {},
   "outputs": [],
   "source": [
    "r = requests.get(urls[0])\n",
    "soup = BeautifulSoup(r.content, \"lxml\")"
   ]
  },
  {
   "cell_type": "code",
   "execution_count": 5,
   "metadata": {},
   "outputs": [
    {
     "data": {
      "text/plain": [
       "'《Clash of Clans》Tahun Arnab TVC Promosi Animasi Mendedah, Kulit yang Terhad Masa dan Adegan Menampil dengan Kejutan!'"
      ]
     },
     "execution_count": 5,
     "metadata": {},
     "output_type": "execute_result"
    }
   ],
   "source": [
    "soup.find('h1').text"
   ]
  },
  {
   "cell_type": "code",
   "execution_count": 6,
   "metadata": {},
   "outputs": [
    {
     "data": {
      "text/plain": [
       "'\\nMenjelang Tahun Baru Arnab, 《Clash of Clans》dilancarkan oleh pengilang terkenal Supercell Finland, sampai sampai untuk mengucap selamat tinggal kepada yang lama dan menyambut yang baru, banyak kandungan terhad tahun baru cina dan kebajikan terhad dilancarkan.《Clash of Clans》yang sentiasa mementingkan pasaran Asia, kali ini telah membawa banyak kandungan yang mengutamakan zodiak cina “arnab” , bersama-sama menyambut Tahun Baru Cina Arnab dengan para pemain!\\n\\n\\n\\n\\n\\n\\nDua tahun yang lepas, 《Clash of Clans》melancarkan video promosi yang bertema “Pasar Tahun Baru Cina” dan “Tembok Besar” berturut-turut masa tempoh Tahun Baru Cina, bergabung dengan kandungan untuk tahun baru dalam permainan, telah meninggalkan imej yang mendalam kepada semua orang. Tahun Baru Cina Arnab, 《Clash of Clans》 sekali lagi membawa promosi video animasi yang menarik khas untuk tahun baru cina!\\n\\n\\n\\nDengan tema “Semoga Arnab Bersamamu” (May the rabbit with you) sebagai video promosi, membenarkan ahli sihir dalam permainan dengan kawannya — arnab masuk ke pentas wayang kulit yang fantasi, mempamerkan persembahan yang bergabung dengan “tahun arnab”, wayang kulit dan unsur-unsur budaya tradisional di hadapan semua orang, ini seterusnya membawa persembahan tahun baru cina yang gemilang!\\n\\n\\n\\n\\nWayang Kulit Tradisional Bermain Helah Yang Baru\\nPromosi video animasi《Clash of Clans》Tahun Baru Cina Arnab ini bermula dengan Clash 3D yang dikenali semua orang, “Magic Theatre” yang dilancarkan pada Tahun Baru Cina Arnab sebagai adegan. Ahli sihir membuat pertunjukan sihir di atas pentas, memanggil rakannya — arnab. Dalam masa sepuluh tahun yang lepas, sama ada di medan perang atau masa persembahan, arnab kecil ini sentiasa di sisi ahli sihir. Di atas pentas Tahun Baru Cina Arnab, persembahan ahli sihir mesti tidak boleh kekurangan arnab. Arnab melompat pantas ke atas tirai selepas muncul, video promosi bertukar dari 3D ke 2D, persembahan penuh dengan sihir bermula!\\n\\nWayang kulit yang fantasi lagi seronok, penonton mengikut ahli sihir dan arnab masuk ke dunia fantasi — Mereka melalui setiap adegan, rasa kepuasan sebab dapat kekal rapat dengan wayang kulit dan budaya tradisional Cina, penonton brasa sangat menakjub tentang semua ini.\\n\\n\\n\\nSelepas pengembaran yang bersihir, ahli sihir dan arnab akhirnya kembali ke pentas, tetapi cahaya dan bayang-bayang di belakang pentas tidak hilang, watak utama video promosi — Lunar Queen akhirnya menampil.\\n\\nDengan perkenalan persembahan tahun baru dari ahli sihir, gabungan dua unsur arnab dan wayang kulit fokus dengan suasana perayaan, akhirnya membawa keluar kulit pemimpin Lunar Queen《Clash of Clans》yang baru dilancar selepas melengkapkan cerita. Selain dengan konsep animasi 3D yang selalu dipakai, kali ini《Clash of Clans》mempamerkan video promosi tahun baru melalui wayang kulit yang sentiasa diterima dalam budaya cina, bukan sahaja helah baru, juga sekali lagi menunjukkan keikhlasan Supercell dan pasukan《Clash of Clans》kepada para pemain.\\n\\n\\nAdegan Tahun Baru Arnab yang Baru, Kulit Yang Terhad Menampil!\\nSejak 2020,《Clash of Clans》akan mengeluarkan kulit terhad dalam tempoh Tahun Baru Cina. Tahun 2022, pasukan《Clash of Clans》pertama kali menggabungkan kulit terhad tahun baru dengan zodiak cina, dengan mengeluarkan kulit Raja Harimau (Tiger King) pada tahun harimau. Menjelang Tahun Baru Cina Arnab 2023, penampilan Lunar Queen dengan kejutan tentulah menjadi watak utama dalam video promosi!\\n\\nImej Lunar Queen mengekalkan ciri-ciri comel dan nakal dalam hati semua, pelarasan dengan gabungan Ratu Pemanah yang kuat serangan, sementara mencapai keseimbangan yang maksimum membuat kulit tahun baru Lunar Queen mempunyai gaya tarikan yang istimewa.\\nAdegan utama Magic Theatre dalam video promosi, juga merupakan adegan kampung tertentu Tahun Baru Cina Arnab! Adegan tersebut berasas dengan warna merah sebagai warna asas bangunan, di samping menggunakan tanglung sebagai sumber cahaya, penuh dengan suasana perayaan. Dalam atas kanan adegan pentas wayang kulit, sama dengan pentas dalam video promosi, potongan bayang arnab kecil, membuatkan kita penuh dengan rasa ingin tahu dan menanti-nanti.\\n\\n\\nSelain kulit terhad tahun baru dan adegan kampung, ganjaran muktamad token emas bulan Januari — Jaguh Pahlawan, juga salah satu kulit pahlawan yang penuh dengan konsep cina.\\n\\nKulit versi ini lebih kurang dengan kulit pahlawan tahun baru cina siri yang sebelumnya, untuk pemain yang gemar mengumpul kulit, ini mestilah kulit yang harus dimiliki.\\nSelain ini, Rabbit Lantern yang muncul dalam video promosi akan muncul dalam permainan sebagai penghalang, patung hiasan berbentuk “The Wizard conjures his rabbit” juga akan dilancarkan dalam permainan. Semua kejutan ini penuh keihklasan dari pasukan《Clash ofClans》kepada para pemain!\\n\\n\\nSemua kulit pahlawan, adegan kampung dan patung hiasan yang disebut di atas, akan dilancarkan atas talian dalam tempoh Tahun Baru Cina, para pemain boleh memiliki melalui pembelian terus atau menyelesaikan misi. Kalau anda juga pemain setia《Clash of Clans》, janganlah melepas kepeluangan ini!\\nSebagai permainan atas talian telefon bimbit yang lebih daripada 10 tahun, 《Clash of Clans》 sentiasa popular di seluruh dunia, pencapaian ini berpunca dari cara permainan yang cemerlang, dan juga kerana pasukan permainan sentiasa mengeluarkan kandungan yang baru secara berturut-turut tahun. Tahun Baru Cina juga merupakan perayaan yang penting di Malaysia.《Clash of Clans》secara berterusan membawa kandungan baru untuk Tahun Baru Cina, pada masa yang sama juga mempromosi kandungan ini kepada pemain di negara dan wilayah lain. Bagi pemain, bukankah ini hadiah eksklusif yang berharga pada Tahun Baru?\\n Muat turun di sini\\n\\n\\n\\nClash of ClansPublisher: SupercellDeveloper: SupercellRelease Date: 2012-08-02Android, iOS\\nClash of Clans adalah permainan video strategi mudah alih freemium yang dikembangkan dan diterbitkan oleh pembangun permainan Finland Supercell. Permainan ini dilancarkan untuk platform iOS pada 2 Ogos 2012, dan di Google Play untuk Android pada 7 Oktober 2013.\\r\\n\\r\\n\\xa0\\n\\n\\nJangan lupa untuk ikuti kami di TikTok!\\n  @gamersantaimy   \\nTags: AndroidClash of ClansMobile\\n'"
      ]
     },
     "execution_count": 6,
     "metadata": {},
     "output_type": "execute_result"
    }
   ],
   "source": [
    "soup.find('div', {'class': 'content-inner'}).text"
   ]
  },
  {
   "cell_type": "code",
   "execution_count": 9,
   "metadata": {},
   "outputs": [],
   "source": [
    "def crawl(url, filename):\n",
    "    if os.path.exists(filename):\n",
    "        return\n",
    "    \n",
    "    while True:\n",
    "        try:\n",
    "            r = requests.get(url)\n",
    "            break\n",
    "        except:\n",
    "            time.sleep(1.0)\n",
    "    soup = BeautifulSoup(r.content, \"lxml\")\n",
    "    \n",
    "    try:\n",
    "        title = soup.find('h1').text\n",
    "    except Exception as e:\n",
    "        title = None\n",
    "\n",
    "    try:\n",
    "        body = soup.find('div', {'class': 'content-inner'}).text\n",
    "    except Exception as e:\n",
    "        body = None\n",
    "\n",
    "    data = {\n",
    "        'url': url,\n",
    "        'title': title,\n",
    "        'body': body,\n",
    "    }\n",
    "    with open(filename, 'w') as fopen:\n",
    "        json.dump(data, fopen)"
   ]
  },
  {
   "cell_type": "code",
   "execution_count": 10,
   "metadata": {},
   "outputs": [
    {
     "name": "stderr",
     "output_type": "stream",
     "text": [
      "100%|████████████████████████████████████▉| 1293/1294 [5:53:48<00:16, 16.42s/it]\n"
     ]
    },
    {
     "ename": "IndexError",
     "evalue": "list index out of range",
     "output_type": "error",
     "traceback": [
      "\u001b[0;31m---------------------------------------------------------------------------\u001b[0m",
      "\u001b[0;31mIndexError\u001b[0m                                Traceback (most recent call last)",
      "\u001b[0;32m/tmp/ipykernel_1105452/3940679813.py\u001b[0m in \u001b[0;36m<module>\u001b[0;34m\u001b[0m\n\u001b[1;32m      3\u001b[0m \u001b[0;32mfor\u001b[0m \u001b[0mi\u001b[0m \u001b[0;32min\u001b[0m \u001b[0mtqdm\u001b[0m\u001b[0;34m(\u001b[0m\u001b[0mrange\u001b[0m\u001b[0;34m(\u001b[0m\u001b[0;36m0\u001b[0m\u001b[0;34m,\u001b[0m \u001b[0mlen\u001b[0m\u001b[0;34m(\u001b[0m\u001b[0murls\u001b[0m\u001b[0;34m)\u001b[0m\u001b[0;34m,\u001b[0m \u001b[0mmax_worker\u001b[0m\u001b[0;34m)\u001b[0m\u001b[0;34m)\u001b[0m\u001b[0;34m:\u001b[0m\u001b[0;34m\u001b[0m\u001b[0;34m\u001b[0m\u001b[0m\n\u001b[1;32m      4\u001b[0m     \u001b[0ma\u001b[0m \u001b[0;34m=\u001b[0m \u001b[0mnp\u001b[0m\u001b[0;34m.\u001b[0m\u001b[0marange\u001b[0m\u001b[0;34m(\u001b[0m\u001b[0mi\u001b[0m\u001b[0;34m,\u001b[0m \u001b[0mi\u001b[0m \u001b[0;34m+\u001b[0m \u001b[0mmax_worker\u001b[0m\u001b[0;34m)\u001b[0m\u001b[0;34m\u001b[0m\u001b[0;34m\u001b[0m\u001b[0m\n\u001b[0;32m----> 5\u001b[0;31m     \u001b[0murls_\u001b[0m \u001b[0;34m=\u001b[0m \u001b[0;34m[\u001b[0m\u001b[0;34m(\u001b[0m\u001b[0murls\u001b[0m\u001b[0;34m[\u001b[0m\u001b[0mk\u001b[0m\u001b[0;34m]\u001b[0m\u001b[0;34m,\u001b[0m \u001b[0mos\u001b[0m\u001b[0;34m.\u001b[0m\u001b[0mpath\u001b[0m\u001b[0;34m.\u001b[0m\u001b[0mjoin\u001b[0m\u001b[0;34m(\u001b[0m\u001b[0;34m'page'\u001b[0m\u001b[0;34m,\u001b[0m \u001b[0;34mf'{k}.json'\u001b[0m\u001b[0;34m)\u001b[0m\u001b[0;34m)\u001b[0m \u001b[0;32mfor\u001b[0m \u001b[0mk\u001b[0m \u001b[0;32min\u001b[0m \u001b[0ma\u001b[0m\u001b[0;34m]\u001b[0m\u001b[0;34m\u001b[0m\u001b[0;34m\u001b[0m\u001b[0m\n\u001b[0m\u001b[1;32m      6\u001b[0m \u001b[0;34m\u001b[0m\u001b[0m\n\u001b[1;32m      7\u001b[0m     \u001b[0;32mwith\u001b[0m \u001b[0mThreadPoolExecutor\u001b[0m\u001b[0;34m(\u001b[0m\u001b[0mmax_workers\u001b[0m\u001b[0;34m=\u001b[0m\u001b[0mmax_worker\u001b[0m\u001b[0;34m)\u001b[0m \u001b[0;32mas\u001b[0m \u001b[0mexecutor\u001b[0m\u001b[0;34m:\u001b[0m\u001b[0;34m\u001b[0m\u001b[0;34m\u001b[0m\u001b[0m\n",
      "\u001b[0;32m/tmp/ipykernel_1105452/3940679813.py\u001b[0m in \u001b[0;36m<listcomp>\u001b[0;34m(.0)\u001b[0m\n\u001b[1;32m      3\u001b[0m \u001b[0;32mfor\u001b[0m \u001b[0mi\u001b[0m \u001b[0;32min\u001b[0m \u001b[0mtqdm\u001b[0m\u001b[0;34m(\u001b[0m\u001b[0mrange\u001b[0m\u001b[0;34m(\u001b[0m\u001b[0;36m0\u001b[0m\u001b[0;34m,\u001b[0m \u001b[0mlen\u001b[0m\u001b[0;34m(\u001b[0m\u001b[0murls\u001b[0m\u001b[0;34m)\u001b[0m\u001b[0;34m,\u001b[0m \u001b[0mmax_worker\u001b[0m\u001b[0;34m)\u001b[0m\u001b[0;34m)\u001b[0m\u001b[0;34m:\u001b[0m\u001b[0;34m\u001b[0m\u001b[0;34m\u001b[0m\u001b[0m\n\u001b[1;32m      4\u001b[0m     \u001b[0ma\u001b[0m \u001b[0;34m=\u001b[0m \u001b[0mnp\u001b[0m\u001b[0;34m.\u001b[0m\u001b[0marange\u001b[0m\u001b[0;34m(\u001b[0m\u001b[0mi\u001b[0m\u001b[0;34m,\u001b[0m \u001b[0mi\u001b[0m \u001b[0;34m+\u001b[0m \u001b[0mmax_worker\u001b[0m\u001b[0;34m)\u001b[0m\u001b[0;34m\u001b[0m\u001b[0;34m\u001b[0m\u001b[0m\n\u001b[0;32m----> 5\u001b[0;31m     \u001b[0murls_\u001b[0m \u001b[0;34m=\u001b[0m \u001b[0;34m[\u001b[0m\u001b[0;34m(\u001b[0m\u001b[0murls\u001b[0m\u001b[0;34m[\u001b[0m\u001b[0mk\u001b[0m\u001b[0;34m]\u001b[0m\u001b[0;34m,\u001b[0m \u001b[0mos\u001b[0m\u001b[0;34m.\u001b[0m\u001b[0mpath\u001b[0m\u001b[0;34m.\u001b[0m\u001b[0mjoin\u001b[0m\u001b[0;34m(\u001b[0m\u001b[0;34m'page'\u001b[0m\u001b[0;34m,\u001b[0m \u001b[0;34mf'{k}.json'\u001b[0m\u001b[0;34m)\u001b[0m\u001b[0;34m)\u001b[0m \u001b[0;32mfor\u001b[0m \u001b[0mk\u001b[0m \u001b[0;32min\u001b[0m \u001b[0ma\u001b[0m\u001b[0;34m]\u001b[0m\u001b[0;34m\u001b[0m\u001b[0;34m\u001b[0m\u001b[0m\n\u001b[0m\u001b[1;32m      6\u001b[0m \u001b[0;34m\u001b[0m\u001b[0m\n\u001b[1;32m      7\u001b[0m     \u001b[0;32mwith\u001b[0m \u001b[0mThreadPoolExecutor\u001b[0m\u001b[0;34m(\u001b[0m\u001b[0mmax_workers\u001b[0m\u001b[0;34m=\u001b[0m\u001b[0mmax_worker\u001b[0m\u001b[0;34m)\u001b[0m \u001b[0;32mas\u001b[0m \u001b[0mexecutor\u001b[0m\u001b[0;34m:\u001b[0m\u001b[0;34m\u001b[0m\u001b[0;34m\u001b[0m\u001b[0m\n",
      "\u001b[0;31mIndexError\u001b[0m: list index out of range"
     ]
    }
   ],
   "source": [
    "max_worker = 10\n",
    "\n",
    "for i in tqdm(range(0, len(urls), max_worker)):\n",
    "    a = np.arange(i, i + max_worker)\n",
    "    urls_ = [(urls[k], os.path.join('page', f'{k}.json')) for k in a]\n",
    "    \n",
    "    with ThreadPoolExecutor(max_workers=max_worker) as executor:\n",
    "        futures = {executor.submit(crawl, url[0], url[1]): url for url in urls_}\n",
    "\n",
    "        for future in as_completed(futures):\n",
    "            future.result()"
   ]
  },
  {
   "cell_type": "code",
   "execution_count": null,
   "metadata": {},
   "outputs": [],
   "source": []
  }
 ],
 "metadata": {
  "kernelspec": {
   "display_name": "Python 3 (ipykernel)",
   "language": "python",
   "name": "python3"
  },
  "language_info": {
   "codemirror_mode": {
    "name": "ipython",
    "version": 3
   },
   "file_extension": ".py",
   "mimetype": "text/x-python",
   "name": "python",
   "nbconvert_exporter": "python",
   "pygments_lexer": "ipython3",
   "version": "3.8.10"
  }
 },
 "nbformat": 4,
 "nbformat_minor": 4
}
