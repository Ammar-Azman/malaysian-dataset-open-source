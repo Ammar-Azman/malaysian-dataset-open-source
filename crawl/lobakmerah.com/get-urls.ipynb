{
 "cells": [
  {
   "cell_type": "code",
   "execution_count": 1,
   "metadata": {},
   "outputs": [],
   "source": [
    "import requests\n",
    "from bs4 import BeautifulSoup\n",
    "from tqdm import tqdm\n",
    "import os\n",
    "import json\n",
    "import numpy as np\n",
    "import time\n",
    "import random\n",
    "import json"
   ]
  },
  {
   "cell_type": "code",
   "execution_count": 2,
   "metadata": {},
   "outputs": [],
   "source": [
    "topics = [\n",
    "    'https://lobakmerah.com/semasa/',\n",
    "    'https://lobakmerah.com/sosial/',\n",
    "    'https://lobakmerah.com/gaya-hidup/',\n",
    "    'https://lobakmerah.com/hiburan/'\n",
    "]"
   ]
  },
  {
   "cell_type": "code",
   "execution_count": 3,
   "metadata": {},
   "outputs": [],
   "source": [
    "r = requests.get('https://lobakmerah.com/semasa/page/3/')\n",
    "soup = BeautifulSoup(r.content, \"lxml\")"
   ]
  },
  {
   "cell_type": "code",
   "execution_count": 6,
   "metadata": {},
   "outputs": [
    {
     "data": {
      "text/plain": [
       "['https://lobakmerah.com/plat-kenderaan-isteri-yab-perdana-menteri-bukan-permintaan-dr-wan-azizah/',\n",
       " 'https://lobakmerah.com/bergurau-minta-nombor-telefon-pelajar-perempuan-muda-gesa-pm-mohon-maaf/',\n",
       " 'https://lobakmerah.com/untung-jadi-orang-singapura-peminat-malaysia-cemburu-lihat-negara-jiran-dapat-6-konsert-coldplay-taylor-swift/',\n",
       " 'https://lobakmerah.com/guru-luah-rasa-kesal-elaun-jadi-pengawas-tanda-kertas-spm-masih-belum-diterima/',\n",
       " 'https://lobakmerah.com/kapal-selam-titan-meletup-kesemua-lima-penumpang-maut-ini-mungkin-puncanya/',\n",
       " 'https://lobakmerah.com/tidak-bersungguh-sekat-kandungan-memudaratkan-skmm-akan-ambil-tindakan-undang-undang-terhadap-meta/',\n",
       " 'https://lobakmerah.com/ada-936-screenshot-layari-laman-web-lucah-peguam-ebit-lew-bantah-carian-dibuat-tak-relevan/',\n",
       " 'https://lobakmerah.com/5-penumpang-disahkan-meninggal-dunia-kapal-selam-titan-dikatakan-meletup-berhampiran-titanic/',\n",
       " 'https://lobakmerah.com/lepas-3-kali-viral-buat-kecoh-inspektor-sheila-akhirnya-digantung-tugas/',\n",
       " 'https://lobakmerah.com/khazanah-tak-terlibat-pengendali-taman-tema-jelaskan-isu-penjualan-kidzania-singapura/',\n",
       " 'https://lobakmerah.com/kecoh-kapal-selam-bawa-jutawan-tengok-kapal-titanic-hilang-ini-apa-korang-perlu-tahu/',\n",
       " 'https://lobakmerah.com/bayar-rm1-2-juta-untuk-lawat-bangkai-titanic-kapal-selam-bawa-pelancong-dilaporkan-hilang/',\n",
       " 'https://lobakmerah.com/kuiz-haji-dan-korban/']"
      ]
     },
     "execution_count": 6,
     "metadata": {},
     "output_type": "execute_result"
    }
   ],
   "source": [
    "h3 = soup.find_all('h3', {'class': 'g1-gamma'})\n",
    "a = [h3_.find('a').get('href') for h3_ in h3]\n",
    "a"
   ]
  },
  {
   "cell_type": "code",
   "execution_count": 7,
   "metadata": {},
   "outputs": [],
   "source": [
    "!rm -rf url\n",
    "!mkdir url"
   ]
  },
  {
   "cell_type": "code",
   "execution_count": 8,
   "metadata": {},
   "outputs": [
    {
     "name": "stdout",
     "output_type": "stream",
     "text": [
      "https://lobakmerah.com/semasa/\n"
     ]
    },
    {
     "name": "stderr",
     "output_type": "stream",
     "text": [
      "663it [13:44,  1.24s/it]\n"
     ]
    },
    {
     "name": "stdout",
     "output_type": "stream",
     "text": [
      "https://lobakmerah.com/sosial/\n"
     ]
    },
    {
     "name": "stderr",
     "output_type": "stream",
     "text": [
      "1332it [28:38,  1.29s/it]\n"
     ]
    },
    {
     "name": "stdout",
     "output_type": "stream",
     "text": [
      "https://lobakmerah.com/gaya-hidup/\n"
     ]
    },
    {
     "name": "stderr",
     "output_type": "stream",
     "text": [
      "156it [03:09,  1.22s/it]\n"
     ]
    },
    {
     "name": "stdout",
     "output_type": "stream",
     "text": [
      "https://lobakmerah.com/hiburan/\n"
     ]
    },
    {
     "name": "stderr",
     "output_type": "stream",
     "text": [
      "268it [05:25,  1.21s/it]\n"
     ]
    }
   ],
   "source": [
    "def generator():\n",
    "    while True:\n",
    "        yield\n",
    "\n",
    "for t in topics:\n",
    "    print(t)\n",
    "    t_ = t.split('com/')[1].replace('/', '-')\n",
    "    index = 1\n",
    "    \n",
    "    for _ in tqdm(generator()):\n",
    "        filename = os.path.join('url', f'{t_}-{index}.json')\n",
    "        if os.path.exists(filename):\n",
    "            index += 1\n",
    "            continue\n",
    "            \n",
    "        url = f'{t}page/{index}/'\n",
    "        r = requests.get(url)\n",
    "        soup = BeautifulSoup(r.content, \"lxml\")\n",
    "        \n",
    "        h3 = soup.find_all('h3', {'class': 'g1-gamma'})\n",
    "        a = [h3_.find('a').get('href') for h3_ in h3]\n",
    "        \n",
    "        if not len(a):\n",
    "            break\n",
    "\n",
    "        with open(filename, 'w') as fopen:\n",
    "            json.dump(a, fopen)    \n",
    "        \n",
    "        index += 1"
   ]
  },
  {
   "cell_type": "code",
   "execution_count": null,
   "metadata": {},
   "outputs": [],
   "source": []
  }
 ],
 "metadata": {
  "kernelspec": {
   "display_name": "Python 3 (ipykernel)",
   "language": "python",
   "name": "python3"
  },
  "language_info": {
   "codemirror_mode": {
    "name": "ipython",
    "version": 3
   },
   "file_extension": ".py",
   "mimetype": "text/x-python",
   "name": "python",
   "nbconvert_exporter": "python",
   "pygments_lexer": "ipython3",
   "version": "3.8.10"
  }
 },
 "nbformat": 4,
 "nbformat_minor": 4
}
