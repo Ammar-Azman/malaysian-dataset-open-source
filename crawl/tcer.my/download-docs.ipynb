{
 "cells": [
  {
   "cell_type": "code",
   "execution_count": 1,
   "metadata": {},
   "outputs": [
    {
     "data": {
      "text/plain": [
       "1441"
      ]
     },
     "execution_count": 1,
     "metadata": {},
     "output_type": "execute_result"
    }
   ],
   "source": [
    "import json\n",
    "\n",
    "with open('tcer.my-pdf.json') as fopen:\n",
    "    urls = json.load(fopen)\n",
    "    \n",
    "urls = [u for u in urls if u.endswith('pdf') or 'drive.google.com' in u]\n",
    "len(urls)"
   ]
  },
  {
   "cell_type": "code",
   "execution_count": 2,
   "metadata": {},
   "outputs": [],
   "source": [
    "import gdown\n",
    "import requests\n",
    "from tqdm import tqdm\n",
    "import os"
   ]
  },
  {
   "cell_type": "code",
   "execution_count": 3,
   "metadata": {},
   "outputs": [
    {
     "name": "stderr",
     "output_type": "stream",
     "text": [
      "\r",
      "  0%|                                                                                                                    | 0/1441 [00:00<?, ?it/s]"
     ]
    },
    {
     "name": "stdout",
     "output_type": "stream",
     "text": [
      "Invalid URL '//www.mara.gov.my/wp-content/uploads/2021/04/GARIS-PANDUAN-PRO-P2021.pdf': No scheme supplied. Perhaps you meant http:////www.mara.gov.my/wp-content/uploads/2021/04/GARIS-PANDUAN-PRO-P2021.pdf?\n",
      "Invalid URL '/Users/hanke/Downloads/5_6181367668851868974.pdf': No scheme supplied. Perhaps you meant http:///Users/hanke/Downloads/5_6181367668851868974.pdf?\n",
      "Invalid URL '/Users/user/Downloads/TEKS%20UCAPAN%20YAB%20PM-KEMUDAHAN%20BAGI%20INDIVIDU%20YANG%20TELAH%20TERIMA%20VAKSIN%20LENGKAP.pdf': No scheme supplied. Perhaps you meant http:///Users/user/Downloads/TEKS%20UCAPAN%20YAB%20PM-KEMUDAHAN%20BAGI%20INDIVIDU%20YANG%20TELAH%20TERIMA%20VAKSIN%20LENGKAP.pdf?\n"
     ]
    },
    {
     "name": "stderr",
     "output_type": "stream",
     "text": [
      "  0%|▍                                                                                                           | 6/1441 [00:03<22:15,  1.07it/s]"
     ]
    },
    {
     "name": "stdout",
     "output_type": "stream",
     "text": [
      "HTTPConnectionPool(host='belanjawan2021.treasury.gov.my', port=80): Max retries exceeded with url: /pdf/pemulih/infografik-pemulih.pdf (Caused by NewConnectionError('<urllib3.connection.HTTPConnection object at 0x7f53e01d0490>: Failed to establish a new connection: [Errno 113] No route to host'))\n"
     ]
    },
    {
     "name": "stderr",
     "output_type": "stream",
     "text": [
      "  1%|▌                                                                                                        | 8/1441 [02:13<10:31:07, 26.43s/it]"
     ]
    },
    {
     "name": "stdout",
     "output_type": "stream",
     "text": [
      "HTTPConnectionPool(host='docs.jpa.gov.my', port=80): Max retries exceeded with url: /docs/se/2021/soalan_lazim_se20122021.pdf (Caused by NewConnectionError('<urllib3.connection.HTTPConnection object at 0x7f53e01d0b20>: Failed to establish a new connection: [Errno 110] Connection timed out'))\n"
     ]
    },
    {
     "name": "stderr",
     "output_type": "stream",
     "text": [
      "  2%|█▉                                                                                                         | 26/1441 [02:21<11:03,  2.13it/s]"
     ]
    },
    {
     "name": "stdout",
     "output_type": "stream",
     "text": [
      "HTTPConnectionPool(host='web.kias.edu.my', port=80): Max retries exceeded with url: /images/16MuatTurunBorang/iklan-pembantu-tadika---20211.pdf (Caused by NewConnectionError('<urllib3.connection.HTTPConnection object at 0x7f53e01d0040>: Failed to establish a new connection: [Errno -2] Name or service not known'))\n"
     ]
    },
    {
     "name": "stderr",
     "output_type": "stream",
     "text": [
      "  2%|██▎                                                                                                        | 31/1441 [02:25<12:59,  1.81it/s]"
     ]
    },
    {
     "name": "stdout",
     "output_type": "stream",
     "text": [
      "HTTPSConnectionPool(host='www.kehakiman.gov.my', port=443): Max retries exceeded with url: /sites/default/files/2020-05/Borang%20Permohonan%20Jawatan%20Kosong%20(PSH-JB).pdf (Caused by SSLError(SSLCertVerificationError(1, '[SSL: CERTIFICATE_VERIFY_FAILED] certificate verify failed: unable to get local issuer certificate (_ssl.c:1131)')))\n"
     ]
    },
    {
     "name": "stderr",
     "output_type": "stream",
     "text": [
      "  3%|██▉                                                                                                        | 40/1441 [02:27<05:08,  4.54it/s]"
     ]
    },
    {
     "name": "stdout",
     "output_type": "stream",
     "text": [
      "HTTPSConnectionPool(host='www.mpks.gov.my', port=443): Max retries exceeded with url: /sites/default/files/mdks/sumber/muat_turun_borang/jabatan_penilaian_dan_pengurusan_harta/borang_permohonan_sewaan_premis_mpks.pdf (Caused by SSLError(SSLCertVerificationError(1, '[SSL: CERTIFICATE_VERIFY_FAILED] certificate verify failed: unable to get local issuer certificate (_ssl.c:1131)')))\n",
      "HTTPSConnectionPool(host='www.mycrs.gov.myinclude', port=443): Max retries exceeded with url: /SenaraiWakilPenjual.pdf (Caused by NewConnectionError('<urllib3.connection.HTTPSConnection object at 0x7f53e01aa940>: Failed to establish a new connection: [Errno -2] Name or service not known'))\n"
     ]
    },
    {
     "name": "stderr",
     "output_type": "stream",
     "text": [
      "\r",
      "  3%|███                                                                                                        | 41/1441 [02:28<04:27,  5.23it/s]"
     ]
    },
    {
     "name": "stdout",
     "output_type": "stream",
     "text": [
      "HTTPSConnectionPool(host='www.mycrs.gov.myinclude', port=443): Max retries exceeded with url: /UserManual.pdf (Caused by NewConnectionError('<urllib3.connection.HTTPSConnection object at 0x7f53e01aa580>: Failed to establish a new connection: [Errno -2] Name or service not known'))\n"
     ]
    },
    {
     "name": "stderr",
     "output_type": "stream",
     "text": [
      "  4%|████▏                                                                                                      | 57/1441 [02:45<13:03,  1.77it/s]"
     ]
    },
    {
     "name": "stdout",
     "output_type": "stream",
     "text": [
      "HTTPSConnectionPool(host='asset.mkn.gov.my', port=443): Max retries exceeded with url: /web/wp-content/uploads/sites/3/2021/05/SOP-PKP-Selangor-Kemaskini-05052021.pdf (Caused by SSLError(SSLCertVerificationError(1, '[SSL: CERTIFICATE_VERIFY_FAILED] certificate verify failed: unable to get local issuer certificate (_ssl.c:1131)')))\n",
      "HTTPSConnectionPool(host='bantuantunai.hasil.gov.my', port=443): Max retries exceeded with url: /Download/TALIAN_BANTUAN_KHAS_KERAJAAN_CAWANGAN_LHDNM.pdf (Caused by SSLError(SSLCertVerificationError(1, '[SSL: CERTIFICATE_VERIFY_FAILED] certificate verify failed: unable to get local issuer certificate (_ssl.c:1131)')))\n"
     ]
    },
    {
     "name": "stderr",
     "output_type": "stream",
     "text": [
      "\r",
      "  4%|████▍                                                                                                      | 59/1441 [02:48<23:23,  1.02s/it]"
     ]
    },
    {
     "name": "stdout",
     "output_type": "stream",
     "text": [
      "HTTPSConnectionPool(host='belanjawan2021.treasury.gov.my', port=443): Max retries exceeded with url: /pdf/pemulih/infografik-pemulih.pdf (Caused by NewConnectionError('<urllib3.connection.HTTPSConnection object at 0x7f53e01d0a60>: Failed to establish a new connection: [Errno 113] No route to host'))\n"
     ]
    },
    {
     "name": "stderr",
     "output_type": "stream",
     "text": [
      "  4%|████▋                                                                                                    | 64/1441 [05:00<7:43:56, 20.22s/it]"
     ]
    },
    {
     "name": "stdout",
     "output_type": "stream",
     "text": [
      "HTTPSConnectionPool(host='bkc.hasil.gov.my', port=443): Max retries exceeded with url: /Download/Faq/FAQ_PEMULIH%20_BantuanKhasCovid-19(BKC).pdf (Caused by NewConnectionError('<urllib3.connection.HTTPSConnection object at 0x7f53e01aa970>: Failed to establish a new connection: [Errno 110] Connection timed out'))\n",
      "HTTPSConnectionPool(host='bkm.hasil.gov.my', port=443): Max retries exceeded with url: /Download/Faq/BKM%202022%20-%20FAQ%20Rayuan%20BKM%202022.pdf (Caused by SSLError(SSLCertVerificationError(1, '[SSL: CERTIFICATE_VERIFY_FAILED] certificate verify failed: unable to get local issuer certificate (_ssl.c:1131)')))\n",
      "HTTPSConnectionPool(host='bkm.hasil.gov.my', port=443): Max retries exceeded with url: /Download/Faq/BKM%202022%20-%20FAQ%20Semakan%20Status.pdf (Caused by SSLError(SSLCertVerificationError(1, '[SSL: CERTIFICATE_VERIFY_FAILED] certificate verify failed: unable to get local issuer certificate (_ssl.c:1131)')))\n",
      "HTTPSConnectionPool(host='bkm.hasil.gov.my', port=443): Max retries exceeded with url: /Download/Jadual%20Perkhidmatan%20Kaunter%20Rayuan%20BKM%202022.pdf (Caused by SSLError(SSLCertVerificationError(1, '[SSL: CERTIFICATE_VERIFY_FAILED] certificate verify failed: unable to get local issuer certificate (_ssl.c:1131)')))\n"
     ]
    },
    {
     "name": "stderr",
     "output_type": "stream",
     "text": [
      "  5%|████▉                                                                                                    | 68/1441 [05:01<3:05:18,  8.10s/it]"
     ]
    },
    {
     "name": "stdout",
     "output_type": "stream",
     "text": [
      "HTTPSConnectionPool(host='bkm.hasil.gov.my', port=443): Max retries exceeded with url: /Download/KOD%20ALASAN%20TIDAK%20LULUS%20DAN%20PEMBUKTIAN%20DOKUMEN%20SOKONGAN.pdf (Caused by SSLError(SSLCertVerificationError(1, '[SSL: CERTIFICATE_VERIFY_FAILED] certificate verify failed: unable to get local issuer certificate (_ssl.c:1131)')))\n",
      "HTTPSConnectionPool(host='bkm.hasil.gov.my', port=443): Max retries exceeded with url: /Download/PERMOHONAN%20RAYUAN%20BKM%202022%20SECARA%20DALAM%20TALIAN%20YANG%20TIDAK%20DIBENARKAN.pdf (Caused by SSLError(SSLCertVerificationError(1, '[SSL: CERTIFICATE_VERIFY_FAILED] certificate verify failed: unable to get local issuer certificate (_ssl.c:1131)')))\n",
      "HTTPSConnectionPool(host='bkm.hasil.gov.my', port=443): Max retries exceeded with url: /Download/TALIAN_BANTUAN_KHAS_KERAJAAN_CAWANGAN_LHDNM.pdf (Caused by SSLError(SSLCertVerificationError(1, '[SSL: CERTIFICATE_VERIFY_FAILED] certificate verify failed: unable to get local issuer certificate (_ssl.c:1131)')))\n"
     ]
    },
    {
     "name": "stderr",
     "output_type": "stream",
     "text": [
      "  5%|████▉                                                                                                   | 69/1441 [07:11<12:30:34, 32.82s/it]"
     ]
    },
    {
     "name": "stdout",
     "output_type": "stream",
     "text": [
      "HTTPSConnectionPool(host='bpr.hasil.gov.my', port=443): Max retries exceeded with url: /Download/Faq/BPR2021(FAQ)BayaranFasaKedua.pdf (Caused by NewConnectionError('<urllib3.connection.HTTPSConnection object at 0x7f53e012b460>: Failed to establish a new connection: [Errno 110] Connection timed out'))\n"
     ]
    },
    {
     "name": "stderr",
     "output_type": "stream",
     "text": [
      "\r",
      "  5%|█████                                                                                                   | 70/1441 [09:23<20:52:18, 54.81s/it]"
     ]
    },
    {
     "name": "stdout",
     "output_type": "stream",
     "text": [
      "HTTPSConnectionPool(host='bpr.hasil.gov.my', port=443): Max retries exceeded with url: /Download/Faq/FAQ_BantuanKeluargaMalaysia_(BKM).pdf (Caused by NewConnectionError('<urllib3.connection.HTTPSConnection object at 0x7f53e012bc40>: Failed to establish a new connection: [Errno 110] Connection timed out'))\n"
     ]
    },
    {
     "name": "stderr",
     "output_type": "stream",
     "text": [
      "\r",
      "  5%|█████                                                                                                   | 71/1441 [11:34<27:53:08, 73.28s/it]"
     ]
    },
    {
     "name": "stdout",
     "output_type": "stream",
     "text": [
      "HTTPSConnectionPool(host='bpr.hasil.gov.my', port=443): Max retries exceeded with url: /Download/PanduanPengguna_e-JANJITEMU.pdf (Caused by NewConnectionError('<urllib3.connection.HTTPSConnection object at 0x7f53e0132430>: Failed to establish a new connection: [Errno 110] Connection timed out'))\n",
      "HTTPSConnectionPool(host='bsh.hasil.gov.my', port=443): Max retries exceeded with url: /Download/Faq/BSH2020_FAQ_Pendaftaran_MyBSH.pdf (Caused by NewConnectionError('<urllib3.connection.HTTPSConnection object at 0x7f53e0132be0>: Failed to establish a new connection: [Errno -2] Name or service not known'))\n"
     ]
    },
    {
     "name": "stderr",
     "output_type": "stream",
     "text": [
      "  6%|██████▏                                                                                                    | 83/1441 [11:38<46:40,  2.06s/it]"
     ]
    },
    {
     "name": "stdout",
     "output_type": "stream",
     "text": [
      "list index out of range\n",
      "list index out of range\n"
     ]
    },
    {
     "name": "stderr",
     "output_type": "stream",
     "text": [
      "\n",
      " \tCannot retrieve the public link of the file. You may need to change\n",
      "\tthe permission to 'Anyone with the link', or have had many accesses. \n",
      "\n",
      "You may still be able to access the file from the browser:\n",
      "\n",
      "\t https://drive.google.com/uc?id=1mkNpLnWhdhF6UqItgRQF-EcbA5jPj8amkdFxygDG7Sw \n",
      "\n",
      "\r",
      "  6%|██████▍                                                                                                    | 86/1441 [11:39<28:08,  1.25s/it]"
     ]
    },
    {
     "name": "stdout",
     "output_type": "stream",
     "text": [
      "Access denied with the following error:\n"
     ]
    },
    {
     "name": "stderr",
     "output_type": "stream",
     "text": [
      "  6%|██████▍                                                                                                    | 87/1441 [11:46<55:57,  2.48s/it]\n",
      " \tCannot retrieve the public link of the file. You may need to change\n",
      "\tthe permission to 'Anyone with the link', or have had many accesses. \n",
      "\n",
      "You may still be able to access the file from the browser:\n",
      "\n",
      "\t https://drive.google.com/uc?id=11X3Lsqvp4QMWluvLumgHpLSxpU0iNj82 \n",
      "\n",
      "  6%|██████▍                                                                                                  | 88/1441 [13:26<9:23:31, 24.99s/it]"
     ]
    },
    {
     "name": "stdout",
     "output_type": "stream",
     "text": [
      "Access denied with the following error:\n"
     ]
    },
    {
     "name": "stderr",
     "output_type": "stream",
     "text": [
      "\n",
      " \tCannot retrieve the public link of the file. You may need to change\n",
      "\tthe permission to 'Anyone with the link', or have had many accesses. \n",
      "\n",
      "You may still be able to access the file from the browser:\n",
      "\n",
      "\t https://drive.google.com/uc?id=1_LHv8Kq58B0wNGZ-f_Pkr-rOvo6obqSYS-pEGQvX25M \n",
      "\n",
      "\r",
      "  6%|██████▍                                                                                                  | 89/1441 [13:34<7:48:49, 20.81s/it]"
     ]
    },
    {
     "name": "stdout",
     "output_type": "stream",
     "text": [
      "Access denied with the following error:\n"
     ]
    },
    {
     "name": "stderr",
     "output_type": "stream",
     "text": [
      "  6%|██████▌                                                                                                  | 90/1441 [13:35<5:48:18, 15.47s/it]\n",
      " \tCannot retrieve the public link of the file. You may need to change\n",
      "\tthe permission to 'Anyone with the link', or have had many accesses. \n",
      "\n",
      "You may still be able to access the file from the browser:\n",
      "\n",
      "\t https://drive.google.com/uc?id=1u6btl9sGzFVow_ZBDirJcSWZ4rkV5bq2 \n",
      "\n",
      "  6%|██████▋                                                                                                  | 91/1441 [13:48<5:35:09, 14.90s/it]"
     ]
    },
    {
     "name": "stdout",
     "output_type": "stream",
     "text": [
      "Access denied with the following error:\n"
     ]
    },
    {
     "name": "stderr",
     "output_type": "stream",
     "text": [
      "Failed to retrieve folder contents:\n",
      "\n",
      " \tThe gdrive folder with url: https://drive.google.com/drive/folders/1Y_\n",
      "\tbatVgMV7uYkpHHoNw4GMfBQqIQQHcD?usp=sharing&hl=en has more than 50\n",
      "\tfiles, gdrive can't download more than this limit, if you are ok with\n",
      "\tthis, please run again with --remaining-ok flag. \n",
      "\n",
      "  6%|██████▋                                                                                                  | 92/1441 [13:50<4:10:27, 11.14s/it]\n",
      " \tCannot retrieve the public link of the file. You may need to change\n",
      "\tthe permission to 'Anyone with the link', or have had many accesses. \n",
      "\n",
      "You may still be able to access the file from the browser:\n",
      "\n",
      "\t https://drive.google.com/uc?id=12Ji2QKJImn0GMgzyFA1FodZ2ZzDWUrovfivoCg1YNYo \n",
      "\n",
      "  6%|██████▊                                                                                                  | 93/1441 [13:56<3:42:10,  9.89s/it]"
     ]
    },
    {
     "name": "stdout",
     "output_type": "stream",
     "text": [
      "Access denied with the following error:\n"
     ]
    },
    {
     "name": "stderr",
     "output_type": "stream",
     "text": [
      "\n",
      " \tCannot retrieve the public link of the file. You may need to change\n",
      "\tthe permission to 'Anyone with the link', or have had many accesses. \n",
      "\n",
      "You may still be able to access the file from the browser:\n",
      "\n",
      "\t https://drive.google.com/uc?id=10wRY01ArNq6Rk8gG-Dbv42N4Dy_nZQAW \n",
      "\n",
      "\r",
      "  7%|██████▊                                                                                                  | 94/1441 [14:08<3:55:22, 10.48s/it]"
     ]
    },
    {
     "name": "stdout",
     "output_type": "stream",
     "text": [
      "Access denied with the following error:\n"
     ]
    },
    {
     "name": "stderr",
     "output_type": "stream",
     "text": [
      "\n",
      " \tCannot retrieve the public link of the file. You may need to change\n",
      "\tthe permission to 'Anyone with the link', or have had many accesses. \n",
      "\n",
      "You may still be able to access the file from the browser:\n",
      "\n",
      "\t https://drive.google.com/uc?id=1crPDKrkJaUfrQP95ADkflCGkeKt_28ffwH6MvvY0gG8 \n",
      "\n",
      "\r",
      "  7%|██████▉                                                                                                  | 95/1441 [14:18<3:49:01, 10.21s/it]"
     ]
    },
    {
     "name": "stdout",
     "output_type": "stream",
     "text": [
      "Access denied with the following error:\n",
      "list index out of range\n"
     ]
    },
    {
     "name": "stderr",
     "output_type": "stream",
     "text": [
      "\n",
      " \tCannot retrieve the public link of the file. You may need to change\n",
      "\tthe permission to 'Anyone with the link', or have had many accesses. \n",
      "\n",
      "You may still be able to access the file from the browser:\n",
      "\n",
      "\t https://drive.google.com/uc?id=0B3JpCFNm-4ztTUg1alBiWFlZNFk \n",
      "\n",
      "\r",
      "  7%|███████                                                                                                  | 97/1441 [14:19<2:09:35,  5.79s/it]"
     ]
    },
    {
     "name": "stdout",
     "output_type": "stream",
     "text": [
      "Access denied with the following error:\n"
     ]
    },
    {
     "name": "stderr",
     "output_type": "stream",
     "text": [
      " 11%|███████████▊                                                                                            | 163/1441 [24:59<2:54:46,  8.21s/it]\n",
      " \tCannot retrieve the public link of the file. You may need to change\n",
      "\tthe permission to 'Anyone with the link', or have had many accesses. \n",
      "\n",
      "You may still be able to access the file from the browser:\n",
      "\n",
      "\t https://drive.google.com/uc?id=1ObJoWVJO7SUv9DyCHXPp3PFwFEyBLnwu/edit \n",
      "\n",
      " 11%|███████████▊                                                                                            | 164/1441 [25:00<2:04:21,  5.84s/it]"
     ]
    },
    {
     "name": "stdout",
     "output_type": "stream",
     "text": [
      "Access denied with the following error:\n"
     ]
    },
    {
     "name": "stderr",
     "output_type": "stream",
     "text": [
      " 18%|███████████████████▌                                                                                      | 266/1441 [37:03<15:07,  1.29it/s]"
     ]
    },
    {
     "name": "stdout",
     "output_type": "stream",
     "text": [
      "HTTPSConnectionPool(host='epgo.moe.gov.my', port=443): Max retries exceeded with url: /surat_siaran/FAQ%20PERTUKARAN%20GURU%202019.pdf (Caused by SSLError(SSLCertVerificationError(1, '[SSL: CERTIFICATE_VERIFY_FAILED] certificate verify failed: unable to get local issuer certificate (_ssl.c:1131)')))\n",
      "HTTPSConnectionPool(host='eprasekolah.moe.gov.my', port=443): Max retries exceeded with url: /download/usermanual/MANUAL%20PENGGUNA%20DAN%20PROSES%20PERMOHONAN%20KE%20PRASEKOLAH%20KPM%20BAGI%20KEMASUKAN%202020.pdf (Caused by SSLError(SSLCertVerificationError(1, '[SSL: CERTIFICATE_VERIFY_FAILED] certificate verify failed: unable to get local issuer certificate (_ssl.c:1131)')))\n",
      "HTTPSConnectionPool(host='eprasekolah.moe.gov.my', port=443): Max retries exceeded with url: /download/usermanual/manual_epra_ibubapa.pdf (Caused by SSLError(SSLCertVerificationError(1, '[SSL: CERTIFICATE_VERIFY_FAILED] certificate verify failed: unable to get local issuer certificate (_ssl.c:1131)')))\n"
     ]
    },
    {
     "name": "stderr",
     "output_type": "stream",
     "text": [
      " 19%|███████████████████▎                                                                                   | 270/1441 [39:15<10:19:04, 31.72s/it]"
     ]
    },
    {
     "name": "stdout",
     "output_type": "stream",
     "text": [
      "HTTPSConnectionPool(host='gkp.hasil.gov.my', port=443): Max retries exceeded with url: /Download/Faq/(FAQ)GKPTambahan.pdf (Caused by NewConnectionError('<urllib3.connection.HTTPSConnection object at 0x7f53c9783af0>: Failed to establish a new connection: [Errno 110] Connection timed out'))\n"
     ]
    },
    {
     "name": "stderr",
     "output_type": "stream",
     "text": [
      "\r",
      " 19%|███████████████████▎                                                                                   | 271/1441 [41:26<18:33:13, 57.09s/it]"
     ]
    },
    {
     "name": "stdout",
     "output_type": "stream",
     "text": [
      "HTTPSConnectionPool(host='gkp.hasil.gov.my', port=443): Max retries exceeded with url: /Download/Faq/SoalanLazim(FAQ)RayuanGKP.pdf (Caused by NewConnectionError('<urllib3.connection.HTTPSConnection object at 0x7f53c97d58b0>: Failed to establish a new connection: [Errno 110] Connection timed out'))\n"
     ]
    },
    {
     "name": "stderr",
     "output_type": "stream",
     "text": [
      "\r",
      " 19%|███████████████████▍                                                                                   | 272/1441 [43:37<24:57:31, 76.86s/it]"
     ]
    },
    {
     "name": "stdout",
     "output_type": "stream",
     "text": [
      "HTTPSConnectionPool(host='gkp.hasil.gov.my', port=443): Max retries exceeded with url: /Download/Panduan_Pengguna_Permohonan_Baharu.pdf (Caused by NewConnectionError('<urllib3.connection.HTTPSConnection object at 0x7f53c97f0160>: Failed to establish a new connection: [Errno 110] Connection timed out'))\n"
     ]
    },
    {
     "name": "stderr",
     "output_type": "stream",
     "text": [
      " 21%|██████████████████████▎                                                                                   | 303/1441 [43:57<07:55,  2.39it/s]"
     ]
    },
    {
     "name": "stdout",
     "output_type": "stream",
     "text": [
      "HTTPSConnectionPool(host='jpnjohor.moe.gov.my', port=443): Max retries exceeded with url: /jpn/johor/documents/Pengumuman/Sektor_Pengurusan/pcg/IKLAN_JAWATAN_PPDPG_2023.pdf (Caused by SSLError(SSLCertVerificationError(1, '[SSL: CERTIFICATE_VERIFY_FAILED] certificate verify failed: unable to get local issuer certificate (_ssl.c:1131)')))\n"
     ]
    },
    {
     "name": "stderr",
     "output_type": "stream",
     "text": [
      " 21%|██████████████████████▍                                                                                   | 305/1441 [43:59<10:01,  1.89it/s]"
     ]
    },
    {
     "name": "stdout",
     "output_type": "stream",
     "text": [
      "('Connection aborted.', ConnectionResetError(104, 'Connection reset by peer'))\n"
     ]
    },
    {
     "name": "stderr",
     "output_type": "stream",
     "text": [
      "\r",
      " 21%|██████████████████████▌                                                                                   | 306/1441 [43:59<09:26,  2.00it/s]"
     ]
    },
    {
     "name": "stdout",
     "output_type": "stream",
     "text": [
      "HTTPSConnectionPool(host='lom.agc.gov.my', port=443): Max retries exceeded with url: /ilims/upload/portal/akta/LOM/EN/Act%20522.pdf (Caused by SSLError(SSLCertVerificationError(1, '[SSL: CERTIFICATE_VERIFY_FAILED] certificate verify failed: unable to get local issuer certificate (_ssl.c:1131)')))\n"
     ]
    },
    {
     "name": "stderr",
     "output_type": "stream",
     "text": [
      " 22%|███████████████████████▌                                                                                  | 320/1441 [44:15<07:00,  2.67it/s]"
     ]
    },
    {
     "name": "stdout",
     "output_type": "stream",
     "text": [
      "HTTPSConnectionPool(host='osdftrlhr.jpn.gov.my', port=443): Max retries exceeded with url: /include/ManualDaftar.pdf (Caused by SSLError(SSLCertVerificationError(1, '[SSL: CERTIFICATE_VERIFY_FAILED] certificate verify failed: unable to get local issuer certificate (_ssl.c:1131)')))\n"
     ]
    },
    {
     "name": "stderr",
     "output_type": "stream",
     "text": [
      " 23%|███████████████████████▉                                                                                  | 326/1441 [44:16<03:34,  5.21it/s]"
     ]
    },
    {
     "name": "stdout",
     "output_type": "stream",
     "text": [
      "HTTPSConnectionPool(host='pismp.moe.gov.my', port=443): Max retries exceeded with url: /IKLAN_2023/02_IKLAN_PISMP.pdf (Caused by SSLError(SSLCertVerificationError(1, '[SSL: CERTIFICATE_VERIFY_FAILED] certificate verify failed: unable to get local issuer certificate (_ssl.c:1131)')))\n",
      "HTTPSConnectionPool(host='pismp.moe.gov.my', port=443): Max retries exceeded with url: /IKLAN_2023/03_IKLAN_PPC.pdf (Caused by SSLError(SSLCertVerificationError(1, '[SSL: CERTIFICATE_VERIFY_FAILED] certificate verify failed: unable to get local issuer certificate (_ssl.c:1131)')))\n"
     ]
    },
    {
     "name": "stderr",
     "output_type": "stream",
     "text": [
      " 24%|█████████████████████████                                                                                 | 340/1441 [44:23<05:06,  3.60it/s]"
     ]
    },
    {
     "name": "stdout",
     "output_type": "stream",
     "text": [
      "HTTPSConnectionPool(host='ssdm.moe.gov.my', port=443): Max retries exceeded with url: /MANUAL_SSDM_BPSH.pdf (Caused by SSLError(SSLCertVerificationError(1, '[SSL: CERTIFICATE_VERIFY_FAILED] certificate verify failed: unable to get local issuer certificate (_ssl.c:1131)')))\n",
      "HTTPSConnectionPool(host='ssdm.moe.gov.my', port=443): Max retries exceeded with url: /MANUAL_sekolah_SSDM_2403.pdf (Caused by SSLError(SSLCertVerificationError(1, '[SSL: CERTIFICATE_VERIFY_FAILED] certificate verify failed: unable to get local issuer certificate (_ssl.c:1131)')))\n",
      "HTTPSConnectionPool(host='ssdm.moe.gov.my', port=443): Max retries exceeded with url: /SENARAI%20PEGAWAI%20DISPLIN%20NEGERI.pdf (Caused by SSLError(SSLCertVerificationError(1, '[SSL: CERTIFICATE_VERIFY_FAILED] certificate verify failed: unable to get local issuer certificate (_ssl.c:1131)')))\n"
     ]
    },
    {
     "name": "stderr",
     "output_type": "stream",
     "text": [
      "\r",
      " 24%|█████████████████████████▏                                                                                | 342/1441 [44:24<03:36,  5.08it/s]"
     ]
    },
    {
     "name": "stdout",
     "output_type": "stream",
     "text": [
      "HTTPSConnectionPool(host='ssdm.moe.gov.my', port=443): Max retries exceeded with url: /manual_ssdmnew_JPN_updated.pdf (Caused by SSLError(SSLCertVerificationError(1, '[SSL: CERTIFICATE_VERIFY_FAILED] certificate verify failed: unable to get local issuer certificate (_ssl.c:1131)')))\n",
      "HTTPSConnectionPool(host='ssdm.moe.gov.my', port=443): Max retries exceeded with url: /manual_ssdmnew_PPD2403.pdf (Caused by SSLError(SSLCertVerificationError(1, '[SSL: CERTIFICATE_VERIFY_FAILED] certificate verify failed: unable to get local issuer certificate (_ssl.c:1131)')))\n"
     ]
    },
    {
     "name": "stderr",
     "output_type": "stream",
     "text": [
      " 25%|██████████████████████████▉                                                                               | 366/1441 [44:53<06:25,  2.79it/s]"
     ]
    },
    {
     "name": "stdout",
     "output_type": "stream",
     "text": [
      "HTTPSConnectionPool(host='www.imi.gov.my', port=443): Max retries exceeded with url: /portal2017/images/fail_pengumuman/2020/12_Dis/MTP_2.0_v2.pdf (Caused by SSLError(SSLCertVerificationError(1, '[SSL: CERTIFICATE_VERIFY_FAILED] certificate verify failed: unable to get local issuer certificate (_ssl.c:1131)')))\n"
     ]
    },
    {
     "name": "stderr",
     "output_type": "stream",
     "text": [
      " 27%|████████████████████████████▏                                                                             | 384/1441 [44:57<03:42,  4.75it/s]"
     ]
    },
    {
     "name": "stdout",
     "output_type": "stream",
     "text": [
      "HTTPSConnectionPool(host='www.jhev.gov.my', port=443): Max retries exceeded with url: /images/pengumuman/Borang_Permohonan_Bantuan_Kebajikan_JHEVBK20191.pdf (Caused by SSLError(SSLCertVerificationError(1, '[SSL: CERTIFICATE_VERIFY_FAILED] certificate verify failed: unable to get local issuer certificate (_ssl.c:1131)')))\n"
     ]
    },
    {
     "name": "stderr",
     "output_type": "stream",
     "text": [
      " 32%|██████████████████████████████████▏                                                                       | 464/1441 [45:30<11:15,  1.45it/s]"
     ]
    },
    {
     "name": "stdout",
     "output_type": "stream",
     "text": [
      "HTTPSConnectionPool(host='www.myfuturejobs.gov.my', port=443): Max retries exceeded with url: /wp-content/uploads/2020/12/MYFutureJobs-Jobseeker-Manual.pdf (Caused by SSLError(SSLCertVerificationError(1, '[SSL: CERTIFICATE_VERIFY_FAILED] certificate verify failed: unable to get local issuer certificate (_ssl.c:1131)')))\n"
     ]
    },
    {
     "name": "stderr",
     "output_type": "stream",
     "text": [
      " 33%|██████████████████████████████████▋                                                                       | 472/1441 [45:34<10:17,  1.57it/s]"
     ]
    },
    {
     "name": "stdout",
     "output_type": "stream",
     "text": [
      "HTTPSConnectionPool(host='www.oskfoundation.com', port=443): Max retries exceeded with url: /wp-content/uploads/2023/06/OSK-Foundation-Scholarship-Awards-Application-Form-2023.pdf (Caused by SSLError(SSLError(1, '[SSL: DH_KEY_TOO_SMALL] dh key too small (_ssl.c:1131)')))\n"
     ]
    },
    {
     "name": "stderr",
     "output_type": "stream",
     "text": [
      " 34%|████████████████████████████████████                                                                      | 491/1441 [45:42<02:13,  7.12it/s]"
     ]
    },
    {
     "name": "stdout",
     "output_type": "stream",
     "text": [
      "HTTPSConnectionPool(host='www.pmo.gov.my', port=443): Max retries exceeded with url: /wp-content/uploads/2021/09/KENYATAAN-MEDIA-YAB-PERDANA-MENTERI-PEMBAYARAN-BKC-FASA-1.pdf (Caused by SSLError(SSLCertVerificationError(1, '[SSL: CERTIFICATE_VERIFY_FAILED] certificate verify failed: unable to get local issuer certificate (_ssl.c:1131)')))\n",
      "HTTPSConnectionPool(host='www.pmo.gov.my', port=443): Max retries exceeded with url: /wp-content/uploads/2021/12/BANTUAN-BANJIR-KELUARGA-MALAYSIA.pdf (Caused by SSLError(SSLCertVerificationError(1, '[SSL: CERTIFICATE_VERIFY_FAILED] certificate verify failed: unable to get local issuer certificate (_ssl.c:1131)')))\n"
     ]
    },
    {
     "name": "stderr",
     "output_type": "stream",
     "text": [
      " 35%|████████████████████████████████████▊                                                                     | 500/1441 [45:46<05:51,  2.68it/s]"
     ]
    },
    {
     "name": "stdout",
     "output_type": "stream",
     "text": [
      "HTTPSConnectionPool(host='www.skm.gov.my', port=443): Max retries exceeded with url: /images/jawatan-kosong/2022/Juruaudit-Gred-W41-2022.pdf (Caused by SSLError(SSLCertVerificationError(1, '[SSL: CERTIFICATE_VERIFY_FAILED] certificate verify failed: unable to get local issuer certificate (_ssl.c:1131)')))\n",
      "HTTPSConnectionPool(host='www.skm.gov.my', port=443): Max retries exceeded with url: /images/pengumuman/02062022/Pegawai%20Penyelidik%20Gred%20Q41.pdf (Caused by SSLError(SSLCertVerificationError(1, '[SSL: CERTIFICATE_VERIFY_FAILED] certificate verify failed: unable to get local issuer certificate (_ssl.c:1131)')))\n",
      "HTTPSConnectionPool(host='www.skm.gov.my', port=443): Max retries exceeded with url: /images/pengumuman/02062022/Pemandu%20Gred%20H11%20(3).pdf (Caused by SSLError(SSLCertVerificationError(1, '[SSL: CERTIFICATE_VERIFY_FAILED] certificate verify failed: unable to get local issuer certificate (_ssl.c:1131)')))\n"
     ]
    },
    {
     "name": "stderr",
     "output_type": "stream",
     "text": [
      "\r",
      " 35%|████████████████████████████████████▊                                                                     | 501/1441 [45:46<04:48,  3.26it/s]"
     ]
    },
    {
     "name": "stdout",
     "output_type": "stream",
     "text": [
      "HTTPSConnectionPool(host='www.skm.gov.my', port=443): Max retries exceeded with url: /images/pengumuman/02062022/Penolong%20Pegawai%20Ehwal%20Ekonomi%20Gred%20E29%20(3).pdf (Caused by SSLError(SSLCertVerificationError(1, '[SSL: CERTIFICATE_VERIFY_FAILED] certificate verify failed: unable to get local issuer certificate (_ssl.c:1131)')))\n"
     ]
    },
    {
     "name": "stderr",
     "output_type": "stream",
     "text": [
      " 35%|█████████████████████████████████████▏                                                                    | 505/1441 [45:47<03:58,  3.92it/s]"
     ]
    },
    {
     "name": "stdout",
     "output_type": "stream",
     "text": [
      "HTTPSConnectionPool(host='www.sprm.gov.my', port=443): Max retries exceeded with url: /admin/files/sprm/assets/pdf/korporat/Iklan_Jawatan_Kosong_PersonelMySTEP_BPRM_14122021.pdf (Caused by SSLError(SSLCertVerificationError(1, '[SSL: CERTIFICATE_VERIFY_FAILED] certificate verify failed: unable to get local issuer certificate (_ssl.c:1131)')))\n"
     ]
    },
    {
     "name": "stderr",
     "output_type": "stream",
     "text": [
      "100%|██████████████████████████████████████████████████████████████████████████████████████████████████████▍| 1434/1441 [1:07:21<00:24,  3.49s/it]"
     ]
    },
    {
     "name": "stdout",
     "output_type": "stream",
     "text": [
      "HTTPSConnectionPool(host='www.vaksincovid.gov.my', port=443): Max retries exceeded with url: /upload/media/astrazeneca-combined.pdf (Caused by NewConnectionError('<urllib3.connection.HTTPSConnection object at 0x7f53c97d53a0>: Failed to establish a new connection: [Errno -3] Temporary failure in name resolution'))\n"
     ]
    },
    {
     "name": "stderr",
     "output_type": "stream",
     "text": [
      "100%|███████████████████████████████████████████████████████████████████████████████████████████████████████| 1441/1441 [1:07:24<00:00,  2.81s/it]\n"
     ]
    }
   ],
   "source": [
    "for url in tqdm(urls):\n",
    "    try:\n",
    "        if 'drive.google.com' in url:\n",
    "            if 'drive/folders' in url:\n",
    "                gdown.download_folder(url, quiet=True, use_cookies=False)\n",
    "            else:\n",
    "                id = url.split('/d/')[1].split('/view')[0]\n",
    "                gdown.download(id=id, quiet=True)\n",
    "        else:\n",
    "            filename = os.path.split(url)[1]\n",
    "            with open(filename, 'wb') as fopen:\n",
    "                fopen.write(requests.get(url).content)\n",
    "    except Exception as e:\n",
    "        print(e)"
   ]
  },
  {
   "cell_type": "code",
   "execution_count": null,
   "metadata": {},
   "outputs": [],
   "source": []
  }
 ],
 "metadata": {
  "kernelspec": {
   "display_name": "Python 3 (ipykernel)",
   "language": "python",
   "name": "python3"
  },
  "language_info": {
   "codemirror_mode": {
    "name": "ipython",
    "version": 3
   },
   "file_extension": ".py",
   "mimetype": "text/x-python",
   "name": "python",
   "nbconvert_exporter": "python",
   "pygments_lexer": "ipython3",
   "version": "3.8.10"
  }
 },
 "nbformat": 4,
 "nbformat_minor": 4
}
