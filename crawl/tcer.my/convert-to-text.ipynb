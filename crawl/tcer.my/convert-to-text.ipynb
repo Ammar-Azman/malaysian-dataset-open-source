{
 "cells": [
  {
   "cell_type": "code",
   "execution_count": 9,
   "metadata": {},
   "outputs": [],
   "source": [
    "from glob import glob\n",
    "import shutil\n",
    "import os"
   ]
  },
  {
   "cell_type": "code",
   "execution_count": 2,
   "metadata": {},
   "outputs": [],
   "source": [
    "!mkdir pdf"
   ]
  },
  {
   "cell_type": "code",
   "execution_count": 11,
   "metadata": {},
   "outputs": [
    {
     "data": {
      "text/plain": [
       "1419"
      ]
     },
     "execution_count": 11,
     "metadata": {},
     "output_type": "execute_result"
    }
   ],
   "source": [
    "files = glob('*.pdf')\n",
    "files.extend(glob('*/*.pdf'))\n",
    "files.extend(glob('*.doc'))\n",
    "files.extend(glob('*.docx'))\n",
    "len(files)"
   ]
  },
  {
   "cell_type": "code",
   "execution_count": 13,
   "metadata": {},
   "outputs": [],
   "source": [
    "for f in files:\n",
    "    try:\n",
    "        shutil.move(f, os.path.join('pdf', f))\n",
    "    except:\n",
    "        pass"
   ]
  },
  {
   "cell_type": "code",
   "execution_count": 19,
   "metadata": {},
   "outputs": [
    {
     "name": "stdout",
     "output_type": "stream",
     "text": [
      "  adding: pdf/ (stored 0%)\n",
      "  adding: pdf/bola-tampar-sm.pdf (deflated 35%)\n",
      "  adding: pdf/upp2-muzik-tahun-2.pdf (deflated 15%)\n",
      "  adding: pdf/Infografik-Soalan-Lazim.pdf (deflated 9%)\n",
      "  adding: pdf/Biologi-K2-Set-1-Selangor-2022-1.pdf (deflated 15%)\n",
      "  adding: pdf/manual_ssdmnew_JPN_updated.pdf (stored 0%)\n",
      "  adding: pdf/03_DPK-2.0-Bahasa-Inggeris-SK-Tahun-3.pdf (deflated 16%)\n",
      "  adding: pdf/IKLAN-JAWATAN-KOSONG-BAGI-PEKERJA-SAMBILAN-HARIAN-PSH-PENOLONG-JURUTERA-JA29.pdf (stored 0%)\n",
      "  adding: pdf/BA-SET5-cemerlang-gabung.pdf (deflated 6%)\n",
      "  adding: pdf/BKM%202022%20-%20FAQ%20Semakan%20Status.pdf (stored 0%)\n",
      "  adding: pdf/20180125183447Curriculum_Vitae_2017.10.25.pdf (deflated 23%)\n",
      "  adding: pdf/DPK-2.0-Matematik-T3.pdf (deflated 16%)\n",
      "  adding: pdf/skema-bm-2-1.pdf (deflated 4%)\n",
      "  adding: pdf/DPK-2.0-KSSM-Bahasa-Korea-Tingkatan-5_.pdf (deflated 25%)\n",
      "  adding: pdf/DPK-2.0-KSSM-Bahasa-Perancis-Tingkatan-4.pdf (deflated 24%)\n",
      "  adding: pdf/SR111.pdf (deflated 6%)\n",
      "  adding: pdf/DPK-2.0-Matematik-Tambahan-Ting-5.pdf (deflated 15%)\n",
      "  adding: pdf/DPK-2.0-KSSM-Bahasa-Jepun-Tingkatan-2_.pdf (deflated 28%)\n",
      "  adding: pdf/senarai-semak-biasiswa-isentif-khas-jordan.pdf (deflated 7%)\n",
      "  adding: pdf/BSH2020_FAQ_Pendaftaran_MyBSH.pdf (stored 0%)\n",
      "  adding: pdf/Minit-Mesyuarat-HEM-Kali-Keempat.pdf (deflated 18%)\n",
      "  adding: pdf/tambah-1-10-set-3.pdf (deflated 16%)\n",
      "  adding: pdf/SET-1-soalan-SRT.pdf (deflated 8%)\n",
      "  adding: pdf/hoki-sm.pdf (deflated 35%)\n",
      "  adding: pdf/Jadual-Waktu-UPSR-2017.pdf (deflated 5%)\n",
      "  adding: pdf/Panduan%20Menukar%20Format%20Dokumen%20ke%20PDF.pdf (deflated 48%)\n",
      "  adding: pdf/6.-PENDIDIKAN-MUZIK-TAHUN-6-2.0-KSSR-SEMAKAN-2017.pdf (deflated 11%)\n",
      "  adding: pdf/Q-Penang-P1-2020.pdf (deflated 2%)\n",
      "  adding: pdf/MS-SMK-Merbok-P1-2020.pdf (deflated 14%)\n",
      "  adding: pdf/17_DPK-2.0-Bahasa-Tamil-SK-Tahun-5.pdf (deflated 25%)\n",
      "  adding: pdf/Final_COVER BT Fizik Tg4.pdf (deflated 16%)\n",
      "  adding: pdf/DPK-2.0-KSSM-Bahasa-Melayu-Tingkatan-4.pdf (deflated 27%)\n",
      "  adding: pdf/Borang-I-Asnaf-BPZK02-1.pdf (deflated 0%)\n",
      "  adding: pdf/IKLAN-SPA9_KEM_WANITA_PenolongPegawaiPembangunanMasyarakatGredS29Kontrak-1-1.pdf (deflated 5%)\n",
      "  adding: pdf/Iqra-5-Belajar-Baca-Quran.pdf (deflated 10%)\n",
      "  adding: pdf/MBAM-Scholarship-Awards-2021-Application-Form.pdf (deflated 4%)\n",
      "  adding: pdf/Biologi-tingkatan-4-Penjajaran.pdf (deflated 28%)\n",
      "  adding: pdf/SET-5-MODUL-PI-CEMERLANG.pdf (deflated 4%)\n",
      "  adding: pdf/Biologi-K1-Trial-SPM-SMKTMR-Johor-2022-1.pdf (deflated 26%)\n",
      "  adding: pdf/BAB 17.pdf (deflated 12%)\n",
      "  adding: pdf/Kuala Muda.pdf (deflated 62%)\n",
      "  adding: pdf/Surat-Pekeliling-Ikhtisas-Bilangan-20-Tahun-2000-Panduan-Penubuhan-Persatuan-Agama-Bukan-Islam-Di-Sekolah-Sekolah.pdf (deflated 3%)\n",
      "  adding: pdf/Dokumen-Penjajaran-2.0-PJ-Tahun-6.pdf (deflated 31%)\n",
      "  adding: pdf/bola-baling-sm.pdf (deflated 25%)\n",
      "  adding: pdf/Teks-Perutusan-Menteri-Pendidikan-Hari-Guru-2023-1.pdf (deflated 7%)\n",
      "  adding: pdf/Divider-Fail-Rekod-PDPC-2021.pdf (deflated 15%)\n",
      "  adding: pdf/MS-Temerloh-P1-2020.pdf (deflated 4%)\n",
      "  adding: pdf/17153504.pdf (deflated 17%)\n",
      "  adding: pdf/SET-6-MODUL-BM-KERTAS-2.pdf (deflated 6%)\n",
      "  adding: pdf/Garis-Panduan-Pengendalian-Aktiviti-Sokongan-Bahasa-Inggeris-di-Sekolah.pdf (deflated 5%)\n",
      "  adding: pdf/Perancangan-strategik-2.pdf (deflated 4%)\n",
      "  adding: pdf/DPK_KSSM_USUL_AL-DIN_TINGKATAN-5.pdf (deflated 16%)\n",
      "  adding: pdf/TRIAL-SABK-KEDAH-K1-2020.pdf (deflated 12%)\n",
      "  adding: pdf/03_DPK-2.0-Bahasa-Inggeris-SK-Tahun-5.pdf (deflated 18%)\n",
      "  adding: pdf/DPK-2.0-SAINS-F1_.pdf (deflated 25%)\n",
      "  adding: pdf/Borang-Kategori-4b-Pegawai1.pdf (deflated 9%)\n",
      "  adding: pdf/IKLAN%20JAWATAN%20KOSONG%202022.pdf (deflated 31%)\n",
      "  adding: pdf/Bantuan_Khas_COVID19_lampiran_a.pdf (deflated 5%)\n",
      "  adding: pdf/17_DPK-2.0-Bahasa-Tamil-SK-Tahun-2.pdf (deflated 34%)\n",
      "  adding: pdf/Bab 5a TB Fizik Tg4.pdf (deflated 35%)\n",
      "  adding: pdf/MINIT-MESYUARAT-GURU-KALI-1.pdf (deflated 5%)\n",
      "  adding: pdf/ping-pong-sekolah-rendah.pdf (deflated 33%)\n",
      "  adding: pdf/DPK2.0-Sains-Komputer-Tkt-5.pdf (deflated 26%)\n",
      "  adding: pdf/SKIM_BANTUAN_DEPOSIT_SEWA_BELI_TEKSI.pdf (deflated 14%)\n",
      "  adding: pdf/skema-bm-1.pdf (deflated 8%)\n",
      "  adding: pdf/borang-kebenaran-menggunakan-tanah.pdf (deflated 15%)\n",
      "  adding: pdf/CONTOH+-+JP034.pdf (deflated 9%)\n",
      "  adding: pdf/Buku-Panduan-Permohonan-MRSM.pdf (deflated 13%)\n",
      "  adding: pdf/skema-bahasa-melayu-2.pdf (deflated 9%)\n",
      "  adding: pdf/Padang Terap.pdf (deflated 62%)\n",
      "  adding: pdf/Carta-Organisasi-HEM.pdf (deflated 9%)\n",
      "  adding: pdf/Form%20RP%202.0%20%20edited%202704-converted.pdf (stored 0%)\n",
      "  adding: pdf/3-Dokumen-Penjajaran-PERTANIAN-T5.pdf (deflated 9%)\n",
      "  adding: pdf/edit_DPK-2.0-Bahasa-Kadazandusun-Tahun-1.pdf (deflated 20%)\n",
      "  adding: pdf/FAQ%20-%20PAKEJ%201%20FPSP%20-%20BM.pdf (deflated 8%)\n",
      "  adding: pdf/150_IKLAN%20JAWATAN%20KOSONG%20%202023%20LATEST%207.9.pdf (deflated 9%)\n",
      "  adding: pdf/Sandakan (Timur).pdf (deflated 62%)\n",
      "  adding: pdf/Kluang.pdf (deflated 62%)\n",
      "  adding: pdf/BM-2-1-2.pdf (deflated 4%)\n",
      "  adding: pdf/Minit-Mesyuarat-Kokurikulum-Kali-Pertama-2.pdf (deflated 8%)\n",
      "  adding: pdf/Divider-RPH-Hari-Kelepasan-Am-2021.pdf (deflated 5%)\n",
      "  adding: pdf/20230601104423296.pdf (deflated 19%)\n",
      "  adding: pdf/Trial-Kelantan-P1-2020.pdf (deflated 13%)\n",
      "  adding: pdf/pp022020.pdf (deflated 25%)\n",
      "  adding: pdf/3.-PENDIDIKAN-MUZIK-TAHUN-3-2.0-KSSR-SEMAKAN-2017.pdf (deflated 12%)\n",
      "  adding: pdf/Dokumen-Penjajaran-Kurikulum-2.0-KSSR-Semakan-2017-Sains-Tahun-1.pdf (deflated 28%)\n",
      "  adding: pdf/SKIM_BANTUAN_MUSIBAH.pdf (deflated 16%)\n",
      "  adding: pdf/SET-5-MODUL-BM-KERTAS-2.pdf (deflated 10%)\n",
      "  adding: pdf/DPK-2.0-PENDIDIKAN-MORAL-KSSR-SEMAKAN-2017-THN-4_.pdf (deflated 35%)\n",
      "  adding: pdf/Q-Temerloh-P2-2020.pdf (deflated 14%)\n",
      "  adding: pdf/12_JADUAL_IMSAKIAH_-_PERAK_-_1444H_2023M.pdf (deflated 24%)\n",
      "  adding: pdf/MMU_Scholarship_Form_v1-MMU-Undergraduate-Excellence-Scholarship.pdf (deflated 81%)\n",
      "  adding: pdf/9-PENGAJIAN-KEUSAHAWANAN-T5.pdf (deflated 9%)\n",
      "  adding: pdf/Contoh-Perancangan-Strategik-Panitia-BM.pdf (deflated 10%)\n",
      "  adding: pdf/DPK2.0-Asas-Sains-Komputer-Tkt-3.pdf (deflated 23%)\n",
      "  adding: pdf/Penolong%20Pegawai%20Ehwal%20Ekonomi%20Gred%20E29%20(3).pdf (stored 0%)\n",
      "  adding: pdf/BANTUAN-BANJIR-KELUARGA-MALAYSIA.pdf (stored 0%)\n",
      "  adding: pdf/Borang-Kategori-2-Pensyarah1.pdf (deflated 10%)\n",
      "  adding: pdf/Kertas-Kerja-Penubuhan-Kelab-Teknologi-Maklumat-the-Lastest.pdf (deflated 8%)\n",
      "  adding: pdf/PEGAWAI%20PERANCANGAN%20BANDAR%20&%20DESA%20GRED%20J41.pdf (deflated 20%)\n",
      "  adding: pdf/buku-panduan-pengurusan-aktiviti-kokurikulum-sekolah-rendah-dan-sekolah-menengah-3.pdf (deflated 5%)\n",
      "  adding: pdf/pam_inovar_reg-form.pdf (deflated 4%)\n",
      "  adding: pdf/19_DPK-2.0-Bahasa-Kadazandusun-Tahun-6.pdf (deflated 23%)\n",
      "  adding: pdf/FAIL-MEJA-GURU-PRASEKOLAH.pdf (deflated 19%)\n",
      "  adding: pdf/04_DPK-2.0-Bahasa-Inggeris-SJK-Tahun-3.pdf (deflated 23%)\n",
      "  adding: pdf/2.-Dokumen-Penjajaran-Kurikulum-2.0-KSSR-Semakan-2017-Pendidikan-Seni-Visual-Tahun-2.pdf (deflated 30%)\n",
      "  adding: pdf/03_DPK-2.0-Bahasa-Inggeris-SK-Tahun-4_.pdf (deflated 19%)\n",
      "  adding: pdf/DPK-2.0-KSSM-Bahasa-Inggeris-Tingkatan-5.pdf (deflated 25%)\n",
      "  adding: pdf/FAIL-MEJA-GURU-PERPUSTAKAAN-DAN-MEDIA.pdf (deflated 28%)\n",
      "  adding: pdf/skema-bm-2.pdf (deflated 11%)\n",
      "  adding: pdf/05_DPK-2.0-Bahasa-Cina-SJKC-Tahun-5.pdf (deflated 15%)\n",
      "  adding: pdf/DPK-2.0-LAM_TING3.pdf (deflated 15%)\n",
      "  adding: pdf/IKLAN JAWATAN TADIKA ISLAM.pdf (deflated 11%)\n",
      "  adding: pdf/Minit-Mesyuarat-Kurikulum-Kali-Ketiga.pdf (deflated 10%)\n",
      "  adding: pdf/SET-3-MODUL-BM-KERTAS-2-amanjaya.pdf (deflated 6%)\n",
      "  adding: pdf/FAQ-SIP-Gig.pdf (deflated 2%)\n",
      "  adding: pdf/LAMPIRAN_A_B_DAN_C.pdf (deflated 16%)\n",
      "  adding: pdf/Gunung Kinabalu.pdf (deflated 62%)\n",
      "  adding: pdf/KSSR-MATEMATIK-TAHUN-2-DIJAJARKAN-NEW.pdf (deflated 20%)\n",
      "  adding: pdf/sepak-takraw-sekolah-menengah.pdf (deflated 28%)\n",
      "  adding: pdf/130.pdf (deflated 8%)\n",
      "  adding: pdf/Manual_Pengguna_RMR.pdf (deflated 12%)\n",
      "  adding: pdf/BAB 11.pdf (deflated 10%)\n",
      "  adding: pdf/Borang-Kategori-1b-Guru1.pdf (deflated 9%)\n",
      "  adding: pdf/Iklan%20Kekosongan%20%20MySTEP%20Gred%2019%20-%20update.pdf (deflated 5%)\n",
      "  adding: pdf/BAB 8.pdf (deflated 7%)\n",
      "  adding: pdf/09_BT Kimia Tg4.pdf (deflated 25%)\n",
      "  adding: pdf/Skema-SPM2020-MPP2-BM-K2.pdf (deflated 12%)\n"
     ]
    },
    {
     "name": "stdout",
     "output_type": "stream",
     "text": [
      "  adding: pdf/SET-7-CEMERLANG-ADDMATH.pdf (deflated 5%)\n",
      "  adding: pdf/03_JADUAL_IMSAKIAH_-_SARAWAK_-_1444H_2023M-latest.pdf (deflated 29%)\n",
      "  adding: pdf/PEMBANTU%20TADBIR%20(KEW)%20GRED%20W19.pdf (deflated 19%)\n",
      "  adding: pdf/tambah-1-20-set-1.pdf (deflated 13%)\n",
      "  adding: pdf/Buku-Pengurusan-HEM.pdf (deflated 7%)\n",
      "  adding: pdf/DPK_KSSM_USUL_AL-DIN_TINGKATAN-3.pdf (deflated 16%)\n",
      "  adding: pdf/IklanJawatanKosongY21YPM-2023.pdf (deflated 6%)\n",
      "  adding: pdf/DPK-2.0-KSSM-Bahasa-Semai-Tingkatan-4.pdf (deflated 29%)\n",
      "  adding: pdf/sains-prasekolah-set-3.pdf (deflated 9%)\n",
      "  adding: pdf/panduan-solat-wanita.pdf (deflated 7%)\n",
      "  adding: pdf/se20122021.pdf (deflated 16%)\n",
      "  adding: pdf/GARIS-PANDUAN-PRO-P2021.pdf (stored 0%)\n",
      "  adding: pdf/SET-1-MODUL-CEMERLANG-PERNIAGAAN.pdf (deflated 14%)\n",
      "  adding: pdf/DPK2.0-Asas-Sains-Komputer-Tkt-2.pdf (deflated 27%)\n",
      "  adding: pdf/06_DPK-2.0-Bahasa-Tamil-SJKT-Tahun-6.pdf (deflated 24%)\n",
      "  adding: pdf/dl.php?filename=GarisPanduan%20v1.1.pdf (deflated 10%)\n",
      "  adding: pdf/SET-4-MC-TASAWWUR-ISLAM.pdf (deflated 50%)\n",
      "  adding: pdf/LAMPIRAN-A.pdf (deflated 26%)\n",
      "  adding: pdf/06_DPK-2.0-Bahasa-Tamil-SJKT-Tahun-4_.pdf (deflated 26%)\n",
      "  adding: pdf/368577706-PERANCANGAN-STRATEGIK-PERSATUAN-BAHASA-docx.pdf (deflated 6%)\n",
      "  adding: pdf/148737995-Perlembagaan-Krn-1.pdf (deflated 4%)\n",
      "  adding: pdf/Edit_DPK-2.0-Bahasa-Tamil-SJKT-Tahun-1.pdf (deflated 25%)\n",
      "  adding: pdf/SLIDE-MANUAL-PENGGUNA-IDME-PENDAFTARAN-TAHUN-1.pdf (deflated 12%)\n",
      "  adding: pdf/IKLAN_SPA9_PK_CUSTOMS_PembantuPenguasaKastamGredWK19.pdf (deflated 1%)\n",
      "  adding: pdf/Contoh-2.pdf (deflated 5%)\n",
      "  adding: pdf/Trial-Selangor-2020-K2-Set-2.pdf (deflated 7%)\n",
      "  adding: pdf/Biologi-K2-Negeri-Sembilan-2022.pdf (deflated 16%)\n",
      "  adding: pdf/SET-4-MODUL-BM-KERTAS-1-CEMERLANG.pdf (deflated 6%)\n",
      "  adding: pdf/Iklan dan Borang Permohonan KUKK.pdf (deflated 4%)\n",
      "  adding: pdf/08_BT Kimia Tg4A.pdf (deflated 19%)\n",
      "  adding: pdf/Sejarah_Tingkatan_.pdf (deflated 1%)\n",
      "  adding: pdf/DPK-KSSM-BT-Tingkatan-2.pdf (deflated 21%)\n",
      "  adding: pdf/Tampin.pdf (deflated 62%)\n",
      "  adding: pdf/besut.pdf (deflated 62%)\n",
      "  adding: pdf/SET-6-CEMERLANG-ADDMATH.pdf (deflated 6%)\n",
      "  adding: pdf/06_DPK-2.0-Bahasa-Tamil-SJKT-Tahun-5.pdf (deflated 25%)\n",
      "  adding: pdf/BAHASA JEPUN Ting 4 dan 5 digital.pdf (deflated 20%)\n",
      "  adding: pdf/trace-huruf-2-set-4.pdf (deflated 7%)\n",
      "  adding: pdf/ManualDaftar.pdf (stored 0%)\n",
      "  adding: pdf/Borang_Permohonan_Jawatan_Kosong-MAIDAM%20PROPERTY-18.6.2023.pdf (deflated 41%)\n",
      "  adding: pdf/labuan.pdf (deflated 62%)\n",
      "  adding: pdf/KERTAS-KERJA-PERSATUAN.pdf (deflated 5%)\n",
      "  adding: pdf/SET-2-BAB-1-3-TING-5-MODUL-CEMERLANG-PERNIAGAAN.pdf (deflated 6%)\n",
      "  adding: pdf/Gred_Beras.pdf (deflated 8%)\n",
      "  adding: pdf/4_DPK-2.0_SENI-TARI-TINGKATAN-1_-1.pdf (deflated 15%)\n",
      "  adding: pdf/iklan-jawatan-kosong-pentadbiran-gred-kp11-07042022-21042022.pdf (deflated 57%)\n",
      "  adding: pdf/DPK-2.0-KSSM-GEOGRAFI-T3.pdf (deflated 35%)\n",
      "  adding: pdf/Dokumen-Penjajaran-Kurikulum-2.0-KSSR-Semakan-2017-Sains-Tahun-4.pdf (deflated 30%)\n",
      "  adding: pdf/dsn2002_28.pdf (deflated 5%)\n",
      "  adding: pdf/Pertengahan-Tahun-2015-T2-BI-kertas-1.pdf (deflated 2%)\n",
      "  adding: pdf/060122-%20Soalan%20Lazim%20Program%20SIP%20Subsidi%20Upah%20BERSASAR%20PSU5.0%20-.pdf (deflated 12%)\n",
      "  adding: pdf/129638479-Pelan-Operasi-Aktiviti-Persatuan-Bahasa-Melayu.pdf (deflated 8%)\n",
      "  adding: pdf/borang_akuan_kehilangan_pendapatan_baharu.pdf (deflated 15%)\n",
      "  adding: pdf/BAB 3.pdf (deflated 13%)\n",
      "  adding: pdf/Ekonomi_Tingkatan 4.pdf (deflated 0%)\n",
      "  adding: pdf/Kalendar_MUET_Tahun_2021_-_Edisi_712021_Portal.pdf (deflated 34%)\n",
      "  adding: pdf/Biologi-K3-MPP3-Terengganu-2022.pdf (deflated 7%)\n",
      "  adding: pdf/Jelebu.pdf (deflated 62%)\n",
      "  adding: pdf/laporan-3.pdf (deflated 7%)\n",
      "  adding: pdf/SELANGOR.pdf (deflated 38%)\n",
      "  adding: pdf/PPT-T4-PI.pdf (deflated 7%)\n",
      "  adding: pdf/SKIM_BANTUAN_AM_PERSEKOLAHAN.pdf (deflated 15%)\n",
      "  adding: pdf/JKM-20-BORANG-KAJI-SEMULA-BANTUAN-1.pdf (deflated 3%)\n",
      "  adding: pdf/SET-1-CEMERLANG-SK.pdf (deflated 30%)\n",
      "  adding: pdf/buku-panduan-pengurusan-aktiviti-kokurikulum-sekolah-rendah-dan-sekolah-menengah-2.pdf (deflated 5%)\n",
      "  adding: pdf/SKEMA-BM-1-1-1.pdf (deflated 5%)\n",
      "  adding: pdf/BAB 6.pdf (deflated 11%)\n",
      "  adding: pdf/Minit-Mesyuarat-Kurikulum-Kali-Pertama-2017.pdf (deflated 12%)\n",
      "  adding: pdf/Modul-bola-Jaring-SM.pdf (deflated 33%)\n",
      "  adding: pdf/upp2-muzik-t4.pdf (deflated 24%)\n",
      "  adding: pdf/soalan_lazim_se27122022.pdf (deflated 24%)\n",
      "  adding: pdf/manual_ssdmnew_PPD2403.pdf (stored 0%)\n",
      "  adding: pdf/Ujian-Akhir-Tahun-KSSR-Tahun-5-Pendidikan-Seni-Set1.pdf (deflated 3%)\n",
      "  adding: pdf/364449193-Laporan-Tahunan-Persatuan-BM.pdf (deflated 4%)\n",
      "  adding: pdf/Batu Pahat.pdf (deflated 62%)\n",
      "  adding: pdf/DPK_KSSM_TASAWWUR-ISLAM_TINGKATAN-5.pdf (deflated 30%)\n",
      "  adding: pdf/Buku-Pengurusan-PPKI-2021.pdf (deflated 15%)\n",
      "  adding: pdf/PENJAJARAN-2.0_KIMIA_F4.pdf (deflated 28%)\n",
      "  adding: pdf/SET-3-CEMERLANG-ADDMATH.pdf (deflated 7%)\n",
      "  adding: pdf/skema-MRSM-p2-2020.pdf (deflated 6%)\n",
      "  adding: pdf/DPK-2.0-KSSM-GEOGRAFI-T4.pdf (deflated 35%)\n",
      "  adding: pdf/Dungun.pdf (deflated 62%)\n",
      "  adding: pdf/13_BT Kimia Tg4.pdf (deflated 29%)\n",
      "  adding: pdf/PRASEK_RPT-SEMAKAN-TUNJANG-KEMANUSIAAN.pdf (deflated 7%)\n",
      "  adding: pdf/badminton-sm.pdf (deflated 23%)\n",
      "  adding: pdf/Iklan-Luar-Jawatan-Bukan-Akademik-UPSI-Jun-2022.pdf (deflated 40%)\n",
      "  adding: pdf/MINIT-MESYUARAT-FORMAT-BAHARU.pdf (deflated 8%)\n",
      "  adding: pdf/Iklan-Kekosongan-jawatan-Julai-2023-N41K-HQ-N19K-PPNJ.pdf (deflated 17%)\n",
      "  adding: pdf/DPK-2.0-KSSM-GEOGRAFI-T1.pdf (deflated 24%)\n",
      "  adding: pdf/borang-permohonan-jawatan-msn-kontrak-pdf.pdf (deflated 17%)\n",
      "  adding: pdf/DPK-2.0-PMORAL-TINGKATAN-5_.pdf (deflated 38%)\n",
      "  adding: pdf/Pemandu%20Gred%20H11%20(3).pdf (stored 0%)\n",
      "  adding: pdf/PINJAMAN-PELAJAR-CEMELANG-1.pdf (deflated 28%)\n",
      "  adding: pdf/SKIM_BANTUAN_PERSEDIAAN_IPT.pdf (deflated 27%)\n",
      "  adding: pdf/FAQ_Complimentary999GBLTE.pdf (deflated 84%)\n",
      "  adding: pdf/UserManual.pdf (stored 0%)\n",
      "  adding: pdf/DPK-2.0-LAM_TING5.pdf (deflated 14%)\n",
      "  adding: pdf/bola-sepak-sm.pdf (deflated 35%)\n",
      "  adding: pdf/PENJAJARAN-DSKP-KSSM-MAHARAT-AL-QURAN-T5-EDISI-2.pdf (deflated 92%)\n",
      "  adding: pdf/DOKUMEN-PENJAJARAN-KURIKULUM-2.0_KSSM-BAHASA-ARAB-TINGKATAN-1.pdf (deflated 18%)\n",
      "  adding: pdf/garispanduanipt.pdf (deflated 17%)\n",
      "  adding: pdf/PanduanPengguna_e-JANJITEMU.pdf (stored 0%)\n",
      "  adding: pdf/iklanPSH_SeniVisual_2_2023.pdf (deflated 26%)\n",
      "  adding: pdf/Iqra-6-Belajar-Baca-Quran.pdf (deflated 9%)\n",
      "  adding: pdf/DPK-2.0-LAM_TING1.pdf (deflated 14%)\n",
      "  adding: pdf/infomurid_manual.pdf (deflated 8%)\n",
      "  adding: pdf/DPK-2.0-KSSM-Bahasa-Melayu-Tingkatan-2_.pdf (deflated 22%)\n",
      "  adding: pdf/Carta-Organisasi-Kurikulum-Sekolah-Rendah.pdf (deflated 13%)\n",
      "  adding: pdf/FAQ_PEMULIH%20_BantuanKhasCovid-19(BKC).pdf (stored 0%)\n",
      "  adding: pdf/CONTOH-PROFIL-VITAE-KPM.pdf (deflated 15%)\n",
      "  adding: pdf/SYARAT-SYARAT-PERMOHONAN-BIASISWA-BYDPA.pdf (deflated 35%)\n",
      "  adding: pdf/johor bahru.pdf (deflated 62%)\n",
      "  adding: pdf/SYARAT-KELAYAKAN-PROGRAM-YTP-2021-pdf.-version.fnl_.pdf (deflated 6%)\n",
      "  adding: pdf/SET-3-soalan-SRT.pdf (deflated 7%)\n",
      "  adding: pdf/KOD%20ALASAN%20TIDAK%20LULUS%20DAN%20PEMBUKTIAN%20DOKUMEN%20SOKONGAN.pdf (stored 0%)\n",
      "  adding: pdf/Minit-Mesyuarat-Pengurusan-Sekolah-2.pdf (deflated 14%)\n",
      "  adding: pdf/DPK-2.0-PENDIDIKAN-MORAL-KSSR-SEMAKAN-2017-THN-5_.pdf (deflated 35%)\n",
      "  adding: pdf/Teknik-Menjawab-BM-Kertas-1-SPM.pdf (deflated 8%)\n",
      "  adding: pdf/BAB 5.pdf (deflated 13%)\n",
      "  adding: pdf/5.-PENDIDIKAN-MUZIK-TINGKATAN-5.pdf (deflated 16%)\n",
      "  adding: pdf/DPK-2.0-Matematik-T1.pdf (deflated 18%)\n",
      "  adding: pdf/borang_permohonan_sewaan_premis_mpks.pdf (stored 0%)\n",
      "  adding: pdf/SET-7-soalan-SRT.pdf (deflated 3%)\n",
      "  adding: pdf/KSSM_2019_PJPK_Tingkatan_4_TelagaBiru_Digital Publishing.pdf (deflated 34%)\n",
      "  adding: pdf/Al-Syariah-Tingkatan-4.pdf (deflated 15%)\n",
      "  adding: pdf/Cerita-Kanak-kanak-Tiga-Ekor-Ayam.pdf (deflated 3%)\n",
      "  adding: pdf/senarai-semak-bantuan-hafazan.pdf (deflated 29%)\n",
      "  adding: pdf/PEN-SET-1-K2-JAWABAN.pdf (deflated 7%)\n",
      "  adding: pdf/15_BT Kimia Tg4.pdf (deflated 27%)\n",
      "  adding: pdf/Melaka-Skema-Matematik-K1-Trial-SPM-2020.pdf (deflated 38%)\n",
      "  adding: pdf/Q-NSembilan-P1-2020.pdf (deflated 9%)\n"
     ]
    },
    {
     "name": "stdout",
     "output_type": "stream",
     "text": [
      "  adding: pdf/KSSM-Kesusasteraan Cina Xiaoshuo 名家小说选.pdf (deflated 6%)\n",
      "  adding: pdf/DPK2.0-Sains-Komputer-Tkt-5-SISIPAN.pdf (deflated 22%)\n",
      "  adding: pdf/MODUL PdPR Matematik TAHUN 5.pdf (deflated 29%)\n",
      "  adding: pdf/jawatankosong.pdf (deflated 21%)\n",
      "  adding: pdf/Minit-Mesyuarat-Kokurikulum-Kali-Kedua.pdf (deflated 9%)\n",
      "  adding: pdf/Pasukan-Kadet-Bersatu-Malaysia-Darat.pdf (deflated 2%)\n",
      "  adding: pdf/tolak-prasekolah-set-2.pdf (deflated 21%)\n",
      "  adding: pdf/Borang-Pendaftaran-Mangsa-Banjir.pdf (deflated 6%)\n",
      "  adding: pdf/8-PENGAJIAN-KEJURUTERAAN-ELEKTRIK-DAN-ELEKTRONIK-T5.pdf (deflated 9%)\n",
      "  adding: pdf/tambah-1-20-set-3.pdf (deflated 12%)\n",
      "  adding: pdf/garis_panduan_persatuan_bm.pdf (deflated 5%)\n",
      "  adding: pdf/Bahasa-Inggeris-K1-Trial-SPM-Batu-PahatJohor-2020.pdf (deflated 6%)\n",
      "  adding: pdf/03-DKP-2.0-PJPK-Tingkatan-2-Copy.pdf (deflated 25%)\n",
      "  adding: pdf/SKIM_BANTUAN_DEPOSIT_MOTOSIKAL_OKU.pdf (deflated 15%)\n",
      "  adding: pdf/07_JADUAL_IMSAKIAH_-_WP_KL_PUTRAJAYA_-_1444H_2023M.pdf (deflated 12%)\n",
      "  adding: pdf/dokumenlampiran.pdf (deflated 31%)\n",
      "  adding: pdf/Q-Terengganu-P2-2020.pdf (deflated 0%)\n",
      "  adding: pdf/Bantuan%20Sara%20Diri%20dan%20Kecemasan%20Mahasiswa%20Negeri%20Perak%20-%2014072020.pdf (deflated 44%)\n",
      "  adding: pdf/05_JADUAL_IMSAKIAH_-_MELAKA_-_1444H_2023M.pdf (deflated 7%)\n",
      "  adding: pdf/JAKIM-Iklan-Pembantu-Hal-Ehwal-Islam-Gred-S19-PMOA.pdf (deflated 7%)\n",
      "  adding: pdf/BT-SPM-SET-3-Modul-CEMERLANG-AmanJaya.pdf (deflated 5%)\n",
      "  adding: pdf/Bandar Tawau.pdf (deflated 62%)\n",
      "  adding: pdf/Juruaudit-Gred-W41-2022.pdf (stored 0%)\n",
      "  adding: pdf/JKM-20-BORANG-KAJI-SEMULA-BANTUAN.pdf (deflated 3%)\n",
      "  adding: pdf/mengenal-warna.pdf (deflated 6%)\n",
      "  adding: pdf/Dokumen-Penjajaran-2.0-KSSR-Semakan-2017-Sejarah-Tahun-5.pdf (deflated 41%)\n",
      "  adding: pdf/FAQ_BantuanKeluargaMalaysia_(BKM).pdf (stored 0%)\n",
      "  adding: pdf/BI_Set-1-K1.pdf (deflated 2%)\n",
      "  adding: pdf/DPK-2.0-KSSM-GEOGRAFI-T5-SISIPAN-T4.pdf (deflated 32%)\n",
      "  adding: pdf/DPK-2.0-KSSM-Bahasa-Inggeris-Tingkatan-2.pdf (deflated 26%)\n",
      "  adding: pdf/Borang-PBB-3-borang-permohonan.pdf (deflated 2%)\n",
      "  adding: pdf/skema-bm-1-1.pdf (deflated 6%)\n",
      "  adding: pdf/DOKUMEN-PENJAJARAN-KURIKULUM-2.0_KSSM-BAHASA-ARAB-TINGKATAN-5.pdf (deflated 20%)\n",
      "  adding: pdf/JOHOR-SKEMA-KERTAS-1-SET-2-MPSM-2020.pdf (deflated 7%)\n",
      "  adding: pdf/se21082023.pdf (deflated 0%)\n",
      "  adding: pdf/DPK-2.0-KSSM-Bahasa-Jerman-Tingkatan-1_.pdf (deflated 19%)\n",
      "  adding: pdf/Selangor-Matematik-K2-Set-1-Trial-SPM-2020.pdf (deflated 3%)\n",
      "  adding: pdf/SET-7-CEMERLANG-PERPAIPAN-GKT.pdf (deflated 2%)\n",
      "  adding: pdf/TERANGGANU-MPP2-Kertas-1-Matematik-SPM-2020.pdf (deflated 8%)\n",
      "  adding: pdf/vdocuments.site_persatuan-agama-islam.pdf (deflated 46%)\n",
      "  adding: pdf/Biologi-K2-Model-Berfokus-SPM-Pulau-Pinang-2022.pdf (deflated 15%)\n",
      "  adding: pdf/SENARAI-SEMAK-PENYELARAS-ICT_AKSES.docx.pdf (deflated 6%)\n",
      "  adding: pdf/3Dokumen-Penjajaran-Kurikulum-2.0-Tingkatan-3.pdf (deflated 27%)\n",
      "  adding: pdf/DPK-Al-Syariah-Tingkatan-3.pdf (deflated 15%)\n",
      "  adding: pdf/MS-Temerloh-P2-2020.pdf (deflated 15%)\n",
      "  adding: pdf/IKLAN-SPA9_PG-JPBD-PegawaiPerancangBandardanDesaGredJ41.pdf (deflated 13%)\n",
      "  adding: pdf/BAB 22.pdf (deflated 14%)\n",
      "  adding: pdf/60c068dde143bd33bfa70bc8_PAKEJ%20KITA%20SELANGOR%202.0%20(FINAL).pdf (deflated 12%)\n",
      "  adding: pdf/DPK-2.0-KSSM-Bahasa-Cina-Komunikasi-Tingkatan-3_.pdf (deflated 24%)\n",
      "  adding: pdf/06_DPK-2.0-Bahasa-Tamil-SJKT-Tahun-2.pdf (deflated 34%)\n",
      "  adding: pdf/Kandungan Fizik Tg4.pdf (deflated 38%)\n",
      "  adding: pdf/Contoh-Ayat-Simpulan-Bahasa.pdf (deflated 12%)\n",
      "  adding: pdf/BC-1-CE-2.pdf (deflated 2%)\n",
      "  adding: pdf/Kuala Kangsar.pdf (deflated 62%)\n",
      "  adding: pdf/SET-7-CEMERLANG-SK.pdf (deflated 30%)\n",
      "  adding: pdf/Borang-Kategori-4a-Pegawai1.pdf (deflated 9%)\n",
      "  adding: pdf/Miri.pdf (deflated 62%)\n",
      "  adding: pdf/SET-7-MODUL-BM-KERTAS-2.pdf (deflated 8%)\n",
      "  adding: pdf/PPT-T5-MUZIK.pdf (deflated 8%)\n",
      "  adding: pdf/PRASEK_RPT-SEMAKAN-TUNJANG-KETERAMPILAN-DIRI.pdf (deflated 7%)\n",
      "  adding: pdf/SKIM_BANTUAN_SEGERA_KECEMASAN.pdf (deflated 15%)\n",
      "  adding: pdf/PRASEK_RPT_SEMAKAN_TUNJANG_PERKEMBANGAN_FIZIKAL_DAN_ESTETIKA_PERKEMBANGAN.pdf (deflated 8%)\n",
      "  adding: pdf/BAB 19.pdf (deflated 10%)\n",
      "  adding: pdf/DPK-2.0-PENDIDIKAN-MORAL-KSSR-SEMAKAN-2017-THN-2_.pdf (deflated 35%)\n",
      "  adding: pdf/19_DPK-2.0-Bahasa-Kadazandusun-Tahun-3.pdf (deflated 22%)\n",
      "  adding: pdf/SET-2-CEMERLANG-ADDMATH.pdf (deflated 7%)\n",
      "  adding: pdf/Cerita-Kanak-kanak-Hutan-Yang-Ku-Sayang.pdf (deflated 5%)\n",
      "  adding: pdf/tolak-prasekolah-bergambar.pdf (deflated 9%)\n",
      "  adding: pdf/11_JADUAL_IMSAKIAH_-_KELANTAN_-_1444H_2023M.pdf (deflated 10%)\n",
      "  adding: pdf/SET-3-CEMERLANG-SK.pdf (deflated 29%)\n",
      "  adding: pdf/Sejarah-TEMA-12-CEMERLANG-BAB-9.pdf (deflated 4%)\n",
      "  adding: pdf/362823664-Cadangan-Eviden-Panitia-Skpmg2.pdf (deflated 7%)\n",
      "  adding: pdf/Senarai-Anggota-JPKK-2020-2021-compressed.pdf (deflated 17%)\n",
      "  adding: pdf/02_DPK-2.0-Bahasa-Melayu-SJK-Tahun-4_.pdf (deflated 24%)\n",
      "  adding: pdf/bahasa-melayu-2.pdf (deflated 6%)\n",
      "  adding: pdf/manual_epra_ibubapa.pdf (stored 0%)\n",
      "  adding: pdf/Edit_DPK-2.0-Bahasa-Cina-SJKC-Tahun-1.pdf (deflated 17%)\n",
      "  adding: pdf/12112021-Slide-Pengoperasian-Sekolah.pdf (deflated 15%)\n",
      "  adding: pdf/TRIAL-SABK-KEDAH-K2-2020.pdf (deflated 11%)\n",
      "  adding: pdf/PERMOHONAN-PENUBUHAN-PERSATUAN-SENI-VISUAL.pdf (deflated 5%)\n",
      "  adding: pdf/N9-MATEMATIK-K2-PERCUBAAN-2020.pdf (deflated 16%)\n",
      "  adding: pdf/Kota Kinabalu, Ranau,.pdf (deflated 62%)\n",
      "  adding: pdf/CONTOH-BORANG-KEBERHASILAN-2.pdf (deflated 14%)\n",
      "  adding: pdf/Bantuan-Kasih-Bangsa-Johor.pdf (deflated 6%)\n",
      "  adding: pdf/Buku-Panduan-Pengurusan-Aktiviti-Kokurikulum.pdf (deflated 5%)\n",
      "  adding: pdf/2022-feb-PEMBANTU_DEK_KANAN_GRED_PP7.pdf (deflated 58%)\n",
      "  adding: pdf/Q-Putrajaya-P1-2020.pdf (deflated 19%)\n",
      "  adding: pdf/20_DPK-2.0-Bahasa-Semai-Tahun-3.pdf (deflated 19%)\n",
      "  adding: pdf/CONTOH-Laporan-Tahunan-Kelab-Komputer.pdf (deflated 5%)\n",
      "  adding: pdf/2.-PENDIDIKAN-MUZIK-TAHUN-2-2.0-KSSR-SEMAKAN-2017.pdf (deflated 18%)\n",
      "  adding: pdf/4.-Dokumen-Penjajaran-Kurikulum-2.0-KSSR-Semakan-2017-Pendidikan-Seni-Visual-Tahun-4.pdf (deflated 26%)\n",
      "  adding: pdf/SET-5-soalan-SRT.pdf (deflated 7%)\n",
      "  adding: pdf/penang-answer.pdf (deflated 0%)\n",
      "  adding: pdf/Sisipan-T4-Dokumen-Penjajaran-Kurikulum-2.0-Tingkatan-5-SK-SP-Tingkatan-4-yang-disisipkan-1.pdf (deflated 24%)\n",
      "  adding: pdf/Iqra-3-Belajar-Baca-Quran.pdf.pdf (deflated 9%)\n",
      "  adding: pdf/JKM%2018%20BORANG%20PERMOHONAN%20BANTUAN(1).pdf (deflated 8%)\n",
      "  adding: pdf/tuntutankhairat.pdf (deflated 31%)\n",
      "  adding: pdf/IKLAN_SPA9_PK_JAKIM_PembantuHalEhwalIslamGredS19.pdf (deflated 1%)\n",
      "  adding: pdf/SET-2-PM-CEMERLANG.pdf (deflated 4%)\n",
      "  adding: pdf/KSSM-Reka-Cipta-Tingkatan-5-2.0.pdf (deflated 21%)\n",
      "  adding: pdf/BAB 12.pdf (deflated 15%)\n",
      "  adding: pdf/BC-2-CE-2.pdf (deflated 2%)\n",
      "  adding: pdf/01_DPK-2.0-Bahasa-Melayu-SK-Tahun-5.pdf (deflated 26%)\n",
      "  adding: pdf/20_DPK-2.0-Bahasa-Semai-Tahun-2.pdf (deflated 24%)\n",
      "  adding: pdf/FRONT PAGE.pdf (deflated 13%)\n",
      "  adding: pdf/3.-panduan-grep-01032021.pdf (deflated 8%)\n",
      "  adding: pdf/Iklan_Ogos_2023.pdf (deflated 14%)\n",
      "  adding: pdf/Act%20522.pdf (stored 0%)\n",
      "  adding: pdf/Q-Kelantan-P1-2020.pdf (deflated 19%)\n",
      "  adding: pdf/FAQ-JPA-MARA-2021.pdf (deflated 14%)\n",
      "  adding: pdf/2020_TRIAL_ENGLISH_SPM_KERTAS-2_MARAN.pdf (deflated 10%)\n",
      "  adding: pdf/Pelaksanaan-Dasar-1-Murid-1-Sukan.pdf (deflated 9%)\n",
      "  adding: pdf/Agent Merchant App Form V6.2 081019.pdf (deflated 5%)\n",
      "  adding: pdf/warga-negara.pdf (deflated 0%)\n",
      "  adding: pdf/20211228160047iklan_AVO_(2022).pdf (deflated 19%)\n",
      "  adding: pdf/DPK-20-KSSM-Ekonomi-Tingkatan-5-Sisipan-Tingkatan-4.pdf (deflated 22%)\n",
      "  adding: pdf/DPK-2.0-KSSM-Bahasa-Iban-Tingkatan-2_.pdf (deflated 21%)\n",
      "  adding: pdf/Biologi-K1-Set-1-Selangor-2022-1.pdf (deflated 16%)\n",
      "  adding: pdf/02_JADUAL_IMSAKIAH_LABUAN_WP_-_1444H_2023M.pdf (deflated 8%)\n",
      "  adding: pdf/Perlis kangar.pdf (deflated 62%)\n",
      "  adding: pdf/pam-inovar-poster-rev.pdf (deflated 2%)\n",
      "  adding: pdf/Carta-Organisasi-Kurikulum-Sekolah-Menengah.pdf (deflated 9%)\n",
      "  adding: pdf/19_DPK-2.0-Bahasa-Kadazandusun-Tahun-2.pdf (deflated 24%)\n",
      "  adding: pdf/Pasukan-Kadet-Polis.pdf (deflated 8%)\n",
      "  adding: pdf/MODUL PdPR BI TAHUN 4.pdf (deflated 28%)\n",
      "  adding: pdf/Edit_DPK-2.0-Bahasa-Inggeris-SK-Tahun-1.pdf (deflated 17%)\n",
      "  adding: pdf/2022-feb-EKSEKUTIFGRED_PP6-kes.pdf (deflated 58%)\n",
      "  adding: pdf/KSSR-MATEMATIK-TAHUN-3-DIJAJARKAN-NEW.pdf (deflated 15%)\n"
     ]
    },
    {
     "name": "stdout",
     "output_type": "stream",
     "text": [
      "  adding: pdf/05_DPK-2.0-Bahasa-Cina-SJKC-Tahun-2.pdf (deflated 20%)\n",
      "  adding: pdf/Syarat%20dan%20Pilihan%20Program%20MRSM.pdf (deflated 36%)\n",
      "  adding: pdf/IKLAN_SPA9_PG_KBS_PenolongPegawaiLatihanGredE29.pdf (deflated 1%)\n",
      "  adding: pdf/Ayat-Karangan-Kosa-kata-dan-Ungkapan-Menarik.pdf (deflated 5%)\n",
      "  adding: pdf/DOKUMEN-PENJAJARAN-KURIKULUM-2.0_KSSM-BAHASA-ARAB-TINGKATAN-2.pdf (deflated 18%)\n",
      "  adding: pdf/BC-4-CE-2.pdf (deflated 2%)\n",
      "  adding: pdf/Kemaskini-PRT-20.pdf (deflated 9%)\n",
      "  adding: pdf/DPK-2.0-KSSM-Bahasa-Korea-Tingkatan-1_.pdf (deflated 21%)\n",
      "  adding: pdf/Skema-K2.pdf (deflated 5%)\n",
      "  adding: pdf/SET-6-MODUL-CEMERLANG-FIZIK-F5B3-2018-skema.pdf (deflated 7%)\n",
      "  adding: pdf/laporan-2.pdf (deflated 5%)\n",
      "  adding: pdf/Borang-Kategori-1a-Guru.pdf (deflated 9%)\n",
      "  adding: pdf/5-KURIKULUM-PENGAJIAN-KEJURUTERAAN-MEKANIKAL-T5.pdf (deflated 9%)\n",
      "  adding: pdf/KENYATAAN-MEDIA-YAB-PERDANA-MENTERI-PEMBAYARAN-BKC-FASA-1.pdf (stored 0%)\n",
      "  adding: pdf/Kertas-Kerja-Kursus-Kepimpinan.pdf (deflated 8%)\n",
      "  adding: pdf/Dokumen-Penjajaran-2.0-PJPK-Tahun-4.pdf (deflated 16%)\n",
      "  adding: pdf/DPK-2.0-PMORAL-TINGKATAN-3_.pdf (deflated 37%)\n",
      "  adding: pdf/bm-2.pdf (deflated 5%)\n",
      "  adding: pdf/SET-2-MC-TASAWWUR-ISLAM.pdf (deflated 48%)\n",
      "  adding: pdf/FAQ_Vaccine.pdf (deflated 9%)\n",
      "  adding: pdf/DPK-2.0-SAINS-F5_.pdf (deflated 27%)\n",
      "  adding: pdf/Borang%20Permohonan%20Subsidi%20Yuran%20Taska.pdf (deflated 14%)\n",
      "  adding: pdf/Pasukan-Kadet-Pertahanan-Awam.pdf (deflated 6%)\n",
      "  adding: pdf/KSSM-MATEMATIK-T4-PENJAJARAN-2.0-12012021.pdf (deflated 18%)\n",
      "  adding: pdf/Minit-Mesyuarat-Kurikulum-Kali-Pertama.pdf (deflated 11%)\n",
      "  adding: pdf/SENARAI-TUGAS-DAN-TANGGUNGJAWAB.pdf (deflated 9%)\n",
      "  adding: pdf/Asas-menulis-nombor-4.pdf (deflated 12%)\n",
      "  adding: pdf/FAQ-TESP-Ambilan-ke-2.pdf (deflated 4%)\n",
      "  adding: pdf/CONTOH-BORANG-KEBERHASILAN-1.pdf (deflated 16%)\n",
      "  adding: pdf/DPK-2.0-KSSM-Bahasa-Cina-Tingkatan-4.pdf (deflated 22%)\n",
      "  adding: pdf/BAB 4.pdf (deflated 14%)\n",
      "  adding: pdf/8._SOALAN_LAZIM_UNTUK_PENERIMA_MYCRS_2023.pdf (deflated 10%)\n",
      "  adding: pdf/SENARAI-SEMAK-PELAKSANAAN-PDPR-UNTUK-GURU-YANG-BOLEH-DILEKATKAN-DIDALAM-BUKU-REKOD-MENGAJAR-UNTUK-PENCERAPAN.docx.pdf (deflated 8%)\n",
      "  adding: pdf/2.-PENDIDIKAN-MUZIK-TINGKATAN-2.pdf (deflated 16%)\n",
      "  adding: pdf/Edit_DPK-2.0-Bahasa-Tamil-SK-Tahun-1.pdf (deflated 26%)\n",
      "  adding: pdf/DPK-2.0-Matematik-Tambahan-Ting-4.pdf (deflated 20%)\n",
      "  adding: pdf/TEMPLAT-PENTING-FAIL-PENTAKSIRAN-BILIK-DARJAH-BERSAMA-DIVIDER.doc.pdf (deflated 13%)\n",
      "  adding: pdf/muet-2011-sesi-2.pdf (deflated 11%)\n",
      "  adding: pdf/FAIL-MEJA-GURU-KELAS.pdf (deflated 16%)\n",
      "  adding: pdf/Contoh-Garis-Panduan-Kelab-Pusat-Sumber-Sekolah.pdf (deflated 12%)\n",
      "  adding: pdf/Teknik-Menjawab-Sejarah-SPM-1.pdf (deflated 9%)\n",
      "  adding: pdf/kemaskini_maklumat_bantuan_murid.pdf (deflated 6%)\n",
      "  adding: pdf/hoki-sr.pdf (deflated 36%)\n",
      "  adding: pdf/Iklan-JPA-MARA-2022.pdf (deflated 7%)\n",
      "  adding: pdf/BORANG%20PERMOHONAN%20JKM%2018%20(2022)(1).pdf (deflated 6%)\n",
      "  adding: pdf/DPK-2.0-KSSM-Ekonomi-Tingkatan-5.pdf (deflated 25%)\n",
      "  adding: pdf/BORANGPEMBUKAANAKAUNSSPNPRIME2023.pdf (deflated 14%)\n",
      "  adding: pdf/PERAK.pdf (deflated 38%)\n",
      "  adding: pdf/1-Percubaan-Terengganu-Matematik-Kertas-2-SPM-2020.pdf (deflated 8%)\n",
      "  adding: pdf/Penjajaran-KSSM-Pendidikan-Islam-Tingkatan-2-2.0-latest.pdf (deflated 20%)\n",
      "  adding: pdf/01_JADUAL_IMSAKIAH_-_SABAH_-_1444H_2023M.pdf (deflated 22%)\n",
      "  adding: pdf/melaka.pdf (deflated 62%)\n",
      "  adding: pdf/skema-bm-2-2.pdf (deflated 9%)\n",
      "  adding: pdf/bola-tampar-sr.pdf (deflated 30%)\n",
      "  adding: pdf/Cerita-Kanak-kanak-Si-Bongkok-Lupa-Diri.pdf (deflated 3%)\n",
      "  adding: pdf/skema-Maths-K1-set-2.pdf (deflated 2%)\n",
      "  adding: pdf/BA-SET2-cemerlang-gabung.pdf (deflated 9%)\n",
      "  adding: pdf/CONTOH-PENTAKSIRAN-BILIK-DARJAH-YANG-BOLEH-DIAPLIKASIKAN-PADA-PERINGKAT-RENDAH-DAN-MENENGAH.docx.pdf (deflated 9%)\n",
      "  adding: pdf/DPK_KSSM_TURATH_AL-QURAN-DAN-AL-SUNNAH_TINGKATAN-5.pdf (deflated 16%)\n",
      "  adding: pdf/Bab 3 BT Fizik Tg4.pdf (deflated 33%)\n",
      "  adding: pdf/SET-2-soalan-SRT.pdf (deflated 4%)\n",
      "  adding: pdf/tambah-1-10-finger-2.pdf (deflated 13%)\n",
      "  adding: pdf/DPK-2.0-KSSM-Bahasa-Kadazandusun-Tingkatan-2_.pdf (deflated 30%)\n",
      "  adding: pdf/04_DPK-2.0-Bahasa-Inggeris-SJK-Tahun-2.pdf (deflated 18%)\n",
      "  adding: pdf/10_BT Kimia Tg4.pdf (deflated 27%)\n",
      "  adding: pdf/pin_purchase_sample.pdf (deflated 10%)\n",
      "  adding: pdf/5_6186047615541444986.pdf (deflated 11%)\n",
      "  adding: pdf/Biologi-K1-Percubaan-SPM-Melaka-2022.pdf (deflated 20%)\n",
      "  adding: pdf/Bab 6 BT Fizik Tg4.pdf (deflated 26%)\n",
      "  adding: pdf/Turath-Dirasat-Islamiah-Tingkatan-5.pdf (deflated 14%)\n",
      "  adding: pdf/SKEMA-SET-3-MODUL-BM-KERTAS-2.pdf (deflated 9%)\n",
      "  adding: pdf/tolak-prasekolah-bergambar-set-3.pdf (deflated 8%)\n",
      "  adding: pdf/Transportation-worksheet-2.pdf (deflated 8%)\n",
      "  adding: pdf/Manual-Pengguna-Persendirian.pdf (deflated 24%)\n",
      "  adding: pdf/Penjajaran-Sains-Sukan-Ting.5-2021-Copy.pdf (deflated 19%)\n",
      "  adding: pdf/DPK-2.0-KSSM-Bahasa-Jepun-Tingkatan-1_.pdf (deflated 29%)\n",
      "  adding: pdf/PIC-KHAS-BANTUAN.pdf (deflated 6%)\n",
      "  adding: pdf/2022_BORANG_PERMOHONAN_JAWATAN_KOSONG.pdf (deflated 17%)\n",
      "  adding: pdf/BC-6-CE-2.pdf (deflated 2%)\n",
      "  adding: pdf/KSSR-MATEMATIK-TAHUN-5-DIJAJARKAN-NEW.pdf (deflated 19%)\n",
      "  adding: pdf/Penjajaran-2.0-Fizik-Tingkatan-5-Sisipan.pdf (deflated 15%)\n",
      "  adding: pdf/DPK-2.0-KSSM-Bahasa-Cina-Tingkatan-3_.pdf (deflated 19%)\n",
      "  adding: pdf/DPK-KSSM-BT-Tingkatan-5.pdf (deflated 19%)\n",
      "  adding: pdf/Cameron.pdf (deflated 62%)\n",
      "  adding: pdf/TALIAN_BANTUAN_KHAS_KERAJAAN_CAWANGAN_LHDNM.pdf (stored 0%)\n",
      "  adding: pdf/14_BT Kimia Tg4.pdf (deflated 30%)\n",
      "  adding: pdf/Teks_Perutusan_Ketua_Pengarah_Pendidikan_Malaysia_Hari_Guru_2023.pdf (deflated 9%)\n",
      "  adding: pdf/Persatuan-St.-John-Ambulans-Malaysia.pdf (deflated 20%)\n",
      "  adding: pdf/IKLAN%20PA%202022.pdf (deflated 12%)\n",
      "  adding: pdf/PEN-SET-1-K2-SOALAN.pdf (deflated 11%)\n",
      "  adding: pdf/S3 - Soalan Sebenar - MUET S3 2018 Reading.pdf (deflated 9%)\n",
      "  adding: pdf/1.-Dokumen-Penjajaran-Kurikulum-2.0-PSV-KSSR-Semakan-2017-Tahun-1.pdf (deflated 30%)\n",
      "  adding: pdf/mastautinmati.pdf (deflated 30%)\n",
      "  adding: pdf/Sains tingkatan 5 (2).pdf (deflated 7%)\n",
      "  adding: pdf/SET-1-MC-TASAWWUR-ISLAM.pdf (deflated 7%)\n",
      "  adding: pdf/KSSR-MATEMATIK-TAHUN-6-DIJAJARKAN-NEW.pdf (deflated 17%)\n",
      "  adding: pdf/16_DPK-2.0-Bahasa-Cina-SK-Tahun.pdf (deflated 15%)\n",
      "  adding: pdf/BORANGTASPEN2023.pdf (deflated 21%)\n",
      "  adding: pdf/DPK-2.0-KSSM-Bahasa-Melayu-Tingkatan-5_.pdf (deflated 30%)\n",
      "  adding: pdf/soalan_lazim_se20122021.pdf (stored 0%)\n",
      "  adding: pdf/BORANG%20PERMOHONAN%20PENDAFTARAN%20OKU%20PINDAAN%202019.pdf (deflated 8%)\n",
      "  adding: pdf/8_DPK_Bahasa-Arab-KSSR-Tahun-4-Edisi-2.pdf (deflated 28%)\n",
      "  adding: pdf/MRSM-Matematik-K2-dan-Skema-K2-Trial-SPM-2020.pdf (deflated 0%)\n",
      "  adding: pdf/UPDATED_27th_Jan_2021_MUET_Regulations_and_Test_Specifications.pdf (deflated 5%)\n",
      "  adding: pdf/PRASEK_RPT-SEMAKAN-BM.pdf (deflated 4%)\n",
      "  adding: pdf/Q-Kelantan-P2-2020.pdf (deflated 11%)\n",
      "  adding: pdf/193903467-LAPORAN-AKHIR-TAHUNAN-KELAB-RUKUN-NEGARA.pdf (deflated 13%)\n",
      "  adding: pdf/4.-PENDIDIKAN-MUZIK-TAHUN-4-2.0-KSSR-SEMAKAN-2017.pdf (deflated 12%)\n",
      "  adding: pdf/374490479-Pelan-pelan-Strategik-kelab-Bahasa-Melayu-2017-2019.pdf (deflated 4%)\n",
      "  adding: pdf/KENYATAAN-MEDIA-BANTUAN-KHAS-AIDILFITRI.pdf (deflated 5%)\n",
      "  adding: pdf/17_DPK-2.0-Bahasa-Tamil-SK-Tahun-6.pdf (deflated 25%)\n",
      "  adding: pdf/Manual-Pengguna-Tajaan.pdf (deflated 34%)\n",
      "  adding: pdf/bola-baling-sr.pdf (deflated 24%)\n",
      "  adding: pdf/Cerita-Kanak-kanak-Wali-Kucing-3.pdf (deflated 4%)\n",
      "  adding: pdf/DPK-2.0-KSSM-Bahasa-Melayu-Tingkatan-3_.pdf (deflated 29%)\n",
      "  adding: pdf/Borang_Permohonan_Bantuan_Kebajikan_JHEVBK20191.pdf (stored 0%)\n",
      "  adding: pdf/PDF-060621-Final-Pengoperasian-Sekolah.pdf (deflated 24%)\n",
      "  adding: pdf/Biologi-K1-Kelantan-SPM-2022.pdf (deflated 10%)\n",
      "  adding: pdf/faq.pdf (deflated 8%)\n",
      "  adding: pdf/Iklan_Jawatan_Kosong_PersonelMySTEP_BPRM_14122021.pdf (stored 0%)\n",
      "  adding: pdf/infografik-pemulih.pdf (stored 0%)\n",
      "  adding: pdf/BA-SET4-cemerlang-gabung.pdf (deflated 10%)\n",
      "  adding: pdf/Biologi-K2-PPT-Tingkatan-5-SPM-2022.pdf (deflated 11%)\n",
      "  adding: pdf/2-DOKUMEN-PENJAJARAN-GRAFIK-KOMUNIKASI-TEKNIKAL-T5.pdf (deflated 9%)\n",
      "  adding: pdf/Dokumen-Penjajaran-2.0-KSSR-Semakan-2017-Sejarah-Tahun-4.pdf (deflated 42%)\n"
     ]
    },
    {
     "name": "stdout",
     "output_type": "stream",
     "text": [
      "  adding: pdf/MRSM-Matematik-K1-dan-Skema-K1-Trial-SPM-2020.pdf (deflated 27%)\n",
      "  adding: pdf/DPK-2.0-KSSM-Bahasa-Jepun-Tingkatan-4.pdf (deflated 32%)\n",
      "  adding: pdf/skema-bm-1-dan-bm-2.pdf (deflated 14%)\n",
      "  adding: pdf/TERENGGANU.pdf (deflated 38%)\n",
      "  adding: pdf/SET-6-CEMERLANG-SK.pdf (deflated 30%)\n",
      "  adding: pdf/SET-1-CEMERLANG-ADDMATH.pdf (deflated 7%)\n",
      "  adding: pdf/Asas-menulis-nombor-2.pdf (deflated 14%)\n",
      "  adding: pdf/PENJAJARAN-DSKP-KSSM-MAHARAT-AL-QURAN-T2-EDISI-2-compressed.pdf (deflated 12%)\n",
      "  adding: pdf/Skema-SPM2020-MPP2-BM-K1.pdf (deflated 8%)\n",
      "  adding: pdf/iklan_12apr22-1.pdf (deflated 11%)\n",
      "  adding: pdf/badminton-sr.pdf (deflated 25%)\n",
      "  adding: pdf/Melaka-Matematik-K1-Trial-SPM-2020.pdf (deflated 16%)\n",
      "  adding: pdf/Cerita-Kanak-kanak-Katak-Puru-Dengan-Lembu.pdf (deflated 3%)\n",
      "  adding: pdf/FAIL-MEJA-KETUA-PANITIA.pdf (deflated 30%)\n",
      "  adding: pdf/7-PENGAJIAN-KEJURUTERAAN-AWAM-T5.pdf (deflated 9%)\n",
      "  adding: pdf/PPT-PROGRAM-TRANSISI-UNTUK-UPLOAD-12-JAN.pdf (deflated 7%)\n",
      "  adding: pdf/SKIM_BANTUAN_TUISYEN_WPLABUAN.pdf (deflated 15%)\n",
      "  adding: pdf/BM-2-1-1.pdf (deflated 4%)\n",
      "  adding: pdf/2022-feb-EKSEKUTIF_VTMS_GRED_PP6.pdf (deflated 58%)\n",
      "  adding: pdf/DOKUMEN-PENJAJARAN-KURIKULUM-2.0_KSSM-BAHASA-ARAB-TINGKATAN-4.pdf (deflated 18%)\n",
      "  adding: pdf/JOHOR-SET-2-KERTAS-2-MPSM-2020.pdf (deflated 8%)\n",
      "  adding: pdf/skema-Paper-1-AM-MRSM-2020.pdf (deflated 7%)\n",
      "  adding: pdf/JAKIM-Iklan-Pegawai-Hal-Ehwal-Islam.pdf (deflated 7%)\n",
      "  adding: pdf/2.pdf (deflated 32%)\n",
      "  adding: pdf/SKEMA-BM-1-1-2.pdf (deflated 5%)\n",
      "  adding: pdf/Contoh Minit Mesyuarat 3.doc (deflated 34%)\n",
      "  adding: pdf/(FAQ)GKPTambahan.pdf (stored 0%)\n",
      "  adding: pdf/DPK-2.0-PMORAL-TINGKATAN-2_.pdf (deflated 16%)\n",
      "  adding: pdf/Biologi-K2-Trial-Kedah-2022.pdf (deflated 14%)\n",
      "  adding: pdf/bm-1-3.pdf (deflated 6%)\n",
      "  adding: pdf/upp2-matematik-t2.pdf (deflated 6%)\n",
      "  adding: pdf/Laporan-Perhimpunan-Mingguan.pdf (deflated 10%)\n",
      "  adding: pdf/edufund_guide_2021.pdf (deflated 2%)\n",
      "  adding: pdf/Letter of Undertaking_Merchant (2).pdf (deflated 7%)\n",
      "  adding: pdf/IKLAN_JAWATAN_PPDPG_2023.pdf (stored 0%)\n",
      "  adding: pdf/Q-NSembilan-P2-2020.pdf (deflated 32%)\n",
      "  adding: pdf/SET-3-PM-CEMERLANG.pdf (deflated 5%)\n",
      "  adding: pdf/Kota Setar.pdf (deflated 62%)\n",
      "  adding: pdf/Edit_DPK-2.0-Bahasa-Cina-SK-Tahun-1.pdf (deflated 17%)\n",
      "  adding: pdf/Bahasa Melayu_Tingkatan 5_.pdf (deflated 0%)\n",
      "  adding: pdf/bm-1.pdf (deflated 6%)\n",
      "  adding: pdf/DPK-2.0-LAM_TING4.pdf (deflated 13%)\n",
      "  adding: pdf/Iklan%20PIDN%202021.pdf (deflated 5%)\n",
      "  adding: pdf/Borang%20permohonan%20manual%20BUDI.pdf (deflated 21%)\n",
      "  adding: pdf/BA-SET7-cemerlang-gabung.pdf (deflated 6%)\n",
      "  adding: pdf/BC-3-CE-2.pdf (deflated 3%)\n",
      "  adding: pdf/05_DPK-2.0-Bahasa-Cina-SJKC-Tahun-6.pdf (deflated 14%)\n",
      "  adding: pdf/Cerita-Kanak-kanak-Tikus-Bermesyuarat.pdf (deflated 2%)\n",
      "  adding: pdf/Teluk Intan.pdf (deflated 62%)\n",
      "  adding: pdf/iklan_jawatan_kosong_mdkt.pdf (deflated 21%)\n",
      "  adding: pdf/25092020_FAQ_PSU_2.0_BM.pdf (deflated 21%)\n",
      "  adding: pdf/Cerita-Kanak-kanak-Katak-Betina-Yang-Sombong.pdf (deflated 3%)\n",
      "  adding: pdf/A_Scholarship_Checklist_2019.pdf (deflated 12%)\n",
      "  adding: pdf/Al-Syariah-Tingkatan-2.pdf (deflated 15%)\n",
      "  adding: pdf/04_DPK-2.0-Bahasa-Inggeris-SJK-Tahun-5.pdf (deflated 17%)\n",
      "  adding: pdf/MS-Kelantan-P1-2020.pdf (deflated 11%)\n",
      "  adding: pdf/MYFutureJobs-Jobseeker-Manual.pdf (stored 0%)\n",
      "  adding: pdf/MS-Penang-P1P2-2020.pdf (deflated 1%)\n",
      "  adding: pdf/13_JADUAL_IMSAKIAH_-_KEDAH-_1444H_2023M.pdf (deflated 20%)\n",
      "  adding: pdf/16_DPK-2.0-Bahasa-Cina-SK-Tahun-4_.pdf (deflated 18%)\n",
      "  adding: pdf/DPK-2.0-KSSM-EKONOMI-T4.pdf (deflated 21%)\n",
      "  adding: pdf/DPK-2.0-Matematik-T2.pdf (deflated 18%)\n",
      "  adding: pdf/DPK-2.0-SAINS-F3_.pdf (deflated 31%)\n",
      "  adding: pdf/IKLAN-SPA9_PK-JPM-PembantuAwamGredH11_(Semenanjung).pdf (deflated 13%)\n",
      "  adding: pdf/IKLAN-SPA9_PG-KKM-PegawaiSainsGredC41_(Biomedikal).pdf (deflated 14%)\n",
      "  adding: pdf/DPK-2.0-KSSM-Bahasa-Korea-Tingkatan-4.pdf (deflated 24%)\n",
      "  adding: pdf/JKM%2018%20BORANG%20PERMOHONAN%20BANTUAN(4).pdf (deflated 8%)\n",
      "  adding: pdf/Panduan_Pengguna_Permohonan_Baharu.pdf (stored 0%)\n",
      "  adding: pdf/SKIM_BANTUAN_PERSEDIAAN_SEKOLAH.pdf (deflated 15%)\n",
      "  adding: pdf/DPK-2.0-KSSM-Bahasa-Iban-Tingkatan-1_.pdf (deflated 21%)\n",
      "  adding: pdf/CONTOH+-+JP035.pdf (deflated 10%)\n",
      "  adding: pdf/SENARAI-KANDUNGAN-PANITIA-BAHARU-converted.pdf (deflated 7%)\n",
      "  adding: pdf/Full_Awam_Manual_Pengguna.pdf (deflated 7%)\n",
      "  adding: pdf/PAPER-1-AM-TRIAL-MRSM-2020.pdf (deflated 10%)\n",
      "  adding: pdf/SKIM_BANTUAN__ERKAHWINAN.pdf (deflated 15%)\n",
      "  adding: pdf/Panduan%20Permohonan%20Faedah%20SIP.pdf (deflated 7%)\n",
      "  adding: pdf/CONTOH+-+JP031.pdf (deflated 12%)\n",
      "  adding: pdf/05_DPK-2.0-Bahasa-Cina-SJKC-Tahun-3.pdf (deflated 15%)\n",
      "  adding: pdf/Pertengahan-Tahun-2015-T2-BM-Penulisan.pdf (deflated 2%)\n",
      "  adding: pdf/JKM%2020%20BORANG%20KAJI%20SEMULA%20BANTUAN(5).pdf (deflated 3%)\n",
      "  adding: pdf/SET-4-PM-CEMERLANG.pdf (deflated 4%)\n",
      "  adding: pdf/DPK-2.0-KSSM-Bahasa-Inggeris-Tingkatan-3.pdf (deflated 25%)\n",
      "  adding: pdf/SET-5-MC-TASAWWUR-ISLAM.pdf (deflated 51%)\n",
      "  adding: pdf/Hulu Terengganu.pdf (deflated 62%)\n",
      "  adding: pdf/SKEMA-SET-4-MODUL-BM-KERTAS-2.pdf (deflated 8%)\n",
      "  adding: pdf/BrochureHrmis20.pdf (deflated 7%)\n",
      "  adding: pdf/BORANG-PERMOHONAN.pdf (deflated 11%)\n",
      "  adding: pdf/04_DPK-2.0-Bahasa-Inggeris-SJK-Tahun-6.pdf (deflated 17%)\n",
      "  adding: pdf/02_IKLAN_PISMP.pdf (stored 0%)\n",
      "  adding: pdf/TER-SET-1-K1-JAWABAN.pdf (deflated 4%)\n",
      "  adding: pdf/01-Skema-Bahasa-Melayu-Trial-SPM-Limbang-Sarawak-2020.pdf (deflated 13%)\n",
      "  adding: pdf/Dokumen-Penjajaran-Kurikulum-2.0-KSSR-Sains-Tahun-6.pdf (deflated 29%)\n",
      "  adding: pdf/02-DKP-2.0-PJPK-Tingkatan-1-Copy.pdf (deflated 25%)\n",
      "  adding: pdf/01_DPK-2.0-Bahasa-Melayu-SK-Tahun-4_.pdf (deflated 25%)\n",
      "  adding: pdf/DOKUMEN-PENJAJARAN-KURIKULUM-2.0_KSSM-AL-ADAB-WA-AL-BALAGHAH-TINGKATAN-4.pdf (deflated 21%)\n",
      "  adding: pdf/BI_Set-1_K2.pdf (deflated 4%)\n",
      "  adding: pdf/buku-panduan-pengurusan-aktiviti-kokurikulum-sekolah-rendah-dan-sekolah-menengah.pdf (deflated 5%)\n",
      "  adding: pdf/Perlembagaan-Kelab-Pusat-Sumber-Sekolah.pdf (deflated 5%)\n",
      "  adding: pdf/TEMPLAT-BORANG-KEBERHASILAN-2021.pdf (deflated 9%)\n",
      "  adding: pdf/Cerita-Kanak-kanak-Wali-Kucing-1.pdf (deflated 4%)\n",
      "  adding: pdf/JPTT-BORANG-03-PINDAAN-3-BORANG-PERMOHONAN-PEMBIAYAAN-ULANGAN-BERTINDIH-OVERLAPPING-BERASINGAN-SKIM-PEMBIAYAAN-TEMAN-TEKUN.pdf (deflated 21%)\n",
      "  adding: pdf/20_DPK-2.0-Bahasa-Semai-Tahun-4_.pdf (deflated 19%)\n",
      "  adding: pdf/DPK-2.0-PMORAL-TINGKATAN-1_.pdf (deflated 27%)\n",
      "  adding: pdf/CONTOH+-+JP033.pdf (deflated 13%)\n",
      "  adding: pdf/upp2-bm-pemahaman-t2.pdf (deflated 5%)\n",
      "  adding: pdf/Pertengahan-Tahun-2015-T2-BM-Pemahaman.pdf (deflated 2%)\n",
      "  adding: pdf/Lukisan-mewarna-sekolah-rendah.pdf (deflated 0%)\n",
      "  adding: pdf/1.-PENDIDIKAN-MUZIK-TINGKATAN-1.pdf (deflated 17%)\n",
      "  adding: pdf/KWSP_16G_M.pdf (deflated 7%)\n",
      "  adding: pdf/bukan-warga-negara.pdf (deflated 0%)\n",
      "  adding: pdf/tambah-1-10.pdf (deflated 18%)\n",
      "  adding: pdf/Q-SMK-Merbok-P2-2020.pdf (deflated 16%)\n",
      "  adding: pdf/KSSM-Sejarah-Tingkatan-3.pdf (deflated 47%)\n",
      "  adding: pdf/Lukisan-mewarna-bawah-6-tahun.pdf (deflated 1%)\n",
      "  adding: pdf/JKM%2018%20BORANG%20PERMOHONAN%20BANTUAN(5).pdf (deflated 8%)\n",
      "  adding: pdf/PENJAJARAN-DSKP-KSSM-MAHARAT-AL-QURAN-T3-EDISI-2-compressed.pdf (deflated 11%)\n",
      "  adding: pdf/UPDATED__MUET_Regulations_and_Test_Specifications.pdf (deflated 7%)\n",
      "  adding: pdf/kemaskiniahlipewaris.pdf (deflated 30%)\n",
      "  adding: pdf/BAB 7.pdf (deflated 15%)\n",
      "  adding: pdf/Bandar Baharu.pdf (deflated 62%)\n",
      "  adding: pdf/PERLIS-MATEMATIK-K2-PERCUBAAN-2020.pdf (deflated 9%)\n",
      "  adding: pdf/Dokumen-Penjajaran-2.0-PJPK-Tahun-5.pdf (deflated 22%)\n",
      "  adding: pdf/07_BT Kimia Tg4.pdf (deflated 29%)\n",
      "  adding: pdf/PK-Perniagaan-Ting-5-Sisipan-T4-2021_.pdf (deflated 26%)\n",
      "  adding: pdf/melaka-bi-k2.pdf (deflated 21%)\n",
      "  adding: pdf/INFORGRAFIK_KEMASKINI_APDM.pdf (deflated 8%)\n",
      "  adding: pdf/jpan000673.pdf (deflated 3%)\n",
      "  adding: pdf/DPK-2.0-KSSM-Bahasa-Cina-Tingkatan-5_.pdf (deflated 22%)\n",
      "  adding: pdf/BAB 9.pdf (deflated 10%)\n",
      "  adding: pdf/CADANGAN-AKTIVITI-PPB.pdf (deflated 9%)\n",
      "  adding: pdf/Cerita-Kanak-kanak-Semut-Mengalahkan-Gajah.pdf (deflated 7%)\n",
      "  adding: pdf/Contoh-Jadual-Kelas-Ganti.pdf (deflated 36%)\n"
     ]
    },
    {
     "name": "stdout",
     "output_type": "stream",
     "text": [
      "  adding: pdf/Panduan_Amalan_di_Bulan_Ramadhan.pdf (deflated 5%)\n",
      "  adding: pdf/Pelan-Strategik-Kelab-Seni.pdf (deflated 5%)\n",
      "  adding: pdf/LAMPIRAN-B.pdf (deflated 7%)\n",
      "  adding: pdf/DPK_KSSM_USUL_AL-DIN_TINGKATAN-2.pdf (deflated 16%)\n",
      "  adding: pdf/SoalanLazim(FAQ)RayuanGKP.pdf (stored 0%)\n",
      "  adding: pdf/MS-Terengganu-P1P2-2020.pdf (deflated 0%)\n",
      "  adding: pdf/Q-SMK-Merbok-P1-2020.pdf (deflated 23%)\n",
      "  adding: pdf/SENARAI-SEMAK-16-PERKARA-PENTING-FAIL-MEJA-GURU-TINGKATAN_GURU-KELAS.docx.pdf (deflated 6%)\n",
      "  adding: pdf/IKLAN_MAC_2023.pdf (deflated 10%)\n",
      "  adding: pdf/Q-Putrajaya-P2-2020.pdf (deflated 25%)\n",
      "  adding: pdf/N9-SKEMA-K1-K2-PERCUBAAN-2020.pdf (deflated 13%)\n",
      "  adding: pdf/Kuantan.pdf (deflated 62%)\n",
      "  adding: pdf/DOKUMEN-PENJAJARAN-KURIKULUM-2.0_KSSM-AL-ADAB-WA-AL-BALAGHAH-TINGKATAN-5.pdf (deflated 23%)\n",
      "  adding: pdf/04-DKP-2.0-PJPK-Tingkatan-3-Copy.pdf (deflated 25%)\n",
      "  adding: pdf/1_DPK-2.0_SENI-MUZIK-TINGKATAN-1_.pdf (deflated 11%)\n",
      "  adding: pdf/Surat-Pekeliling-Ikhtisas-Bilangan-17-Tahun-2000-Penubuhan-Kelab-Rukun-Negara-di-Sekolah-Sekolah.pdf (deflated 3%)\n",
      "  adding: pdf/KERTAS_KERJA_KELAB_RUKUN_NEGARA_2010_SEK.pdf (deflated 5%)\n",
      "  adding: pdf/DPK-2.0-KSSM-Bahasa-Iban-Tingkatan-3_.pdf (deflated 23%)\n",
      "  adding: pdf/01_DPK-2.0-Bahasa-Melayu-SK-Tahun-6.pdf (deflated 26%)\n",
      "  adding: pdf/14008787-Persatuan-Agama-Islam-Sekolah-Terusan-Baru.pdf (deflated 4%)\n",
      "  adding: pdf/SYARAT-PERMOHONAN.pdf (deflated 4%)\n",
      "  adding: pdf/Jwpn TB Fizik Tg4.pdf (deflated 61%)\n",
      "  adding: pdf/bm-1-2.pdf (deflated 7%)\n",
      "  adding: pdf/Scholarships-Financial-Aids-2021-Pre-U-Undergraduate-Malaysian-Students_February-2021.pdf (deflated 81%)\n",
      "  adding: pdf/Sel-Kertas-2-set-2.pdf (deflated 21%)\n",
      "  adding: pdf/Cerita-Kanak-kanak-Damak-Raja-Bohong-2.pdf (deflated 3%)\n",
      "  adding: pdf/Cerita-Kanak-kanak-Guri-Emas.pdf (deflated 2%)\n",
      "  adding: pdf/14_JADUAL_IMSAKIAH_-_PERLIS_-_1444H_2023M.pdf (deflated 8%)\n",
      "  adding: pdf/Buku-Panduan-Pengurusan-Kokurikulum.pdf (deflated 6%)\n",
      "  adding: pdf/KSSM-Sejarah-Tingkatan-2.pdf (deflated 48%)\n",
      "  adding: pdf/MM-PEN-Set-1-Kertas-1-2-Jawaban.pdf (deflated 13%)\n",
      "  adding: pdf/SET-2-MODUL-CEMERLANG-FIZIK-F4B3-2018-SKEMA.pdf (deflated 8%)\n",
      "  adding: pdf/PENULISAN-DAN-PENERBITAN.pdf (deflated 9%)\n",
      "  adding: pdf/Cerita-Kanak-kanak-Damak-Raja-Bohong-1.pdf (deflated 3%)\n",
      "  adding: pdf/Borang-Kategori-3-Ketua-Jabatan-PGB-Penolong-Kanan-Ketua-Unit.pdf (deflated 10%)\n",
      "  adding: pdf/PBM.pdf (deflated 5%)\n",
      "  adding: pdf/FAIL-MEJA-PK-HEM.pdf (deflated 41%)\n",
      "  adding: pdf/SET-6-PM-CEMERLANG.pdf (deflated 4%)\n",
      "  adding: pdf/Dokumen-Penjajaran-Kurikulum-2.0-KSSR-Semakan-2017-Sains-Tahun-5.pdf (deflated 31%)\n",
      "  adding: pdf/KSSM-Sejarah-Tingkatan-5.pdf (deflated 45%)\n",
      "  adding: pdf/laporan-1.pdf (deflated 5%)\n",
      "  adding: pdf/19_DPK-2.0-Bahasa-Kadasandusun-Tahun-5.pdf (deflated 21%)\n",
      "  adding: pdf/PELUKIS%20PELAN%20(KEJURUTERAAN%20AWAM)%20GRED%20JA19.pdf (deflated 20%)\n",
      "  adding: pdf/Iklan_Permohonan_Jawatan_Pentadbiran_Bil_3_Tahun_2023.pdf (deflated 27%)\n",
      "  adding: pdf/BAB 24.pdf (deflated 11%)\n",
      "  adding: pdf/Persatuan-Bulan-Sabit-Merah-Malaysia-PBSM.pdf (deflated 11%)\n",
      "  adding: pdf/MANUAL_SSDM_BPSH.pdf (stored 0%)\n",
      "  adding: pdf/Bahasa-Iban-KSSR-semakan-Tahun-5.pdf (deflated 34%)\n",
      "  adding: pdf/Divider-Fail-RPH-2021-Negeri-Kumpulan-B.pdf (deflated 29%)\n",
      "  adding: pdf/PULAU-PINANG-MATEMATIK-K1-PERCUBAAN-2020.pdf (deflated 22%)\n",
      "  adding: pdf/IKLAN_PISMP_FASA-2_TAHUN-2021.pdf (deflated 7%)\n",
      "  adding: pdf/SKIM_BANTUAN_MENYELESAIKAN_HUTANG.pdf (deflated 14%)\n",
      "  adding: pdf/Iklan_PPP_COS_Tahun_2023.pdf (deflated 13%)\n",
      "  adding: pdf/skema-bm-1-2.pdf (deflated 7%)\n",
      "  adding: pdf/BKM%202022%20-%20FAQ%20Rayuan%20BKM%202022.pdf (stored 0%)\n",
      "  adding: pdf/140122_-_FAQ_SIP_EMP_KEPADA_BUKAN_PENCARUM.pdf (deflated 10%)\n",
      "  adding: pdf/kenyataan-media.pdf (deflated 19%)\n",
      "  adding: pdf/Iklan-Jawatan-Kosong-Gred-KP11_Tarikh-Tutup-10.12.2021.pdf (deflated 17%)\n",
      "  adding: pdf/PAHANG-SMK-SERI-MAHKOTA-KUANTAN-K1-SPM-2020.pdf (deflated 8%)\n",
      "  adding: pdf/Iklan-SPKU29.pdf (deflated 40%)\n",
      "  adding: pdf/SET-7-MODUL-PI-CEMERLANG.pdf (deflated 5%)\n",
      "  adding: pdf/SKEMA-BM-2-1-1.pdf (deflated 3%)\n",
      "  adding: pdf/Selangor - Klang.pdf (deflated 62%)\n",
      "  adding: pdf/IKLAN_SPA9_SPA_PERAK_IklanJawatanKosong.pdf (deflated 6%)\n",
      "  adding: pdf/SKEMA-SET-1-MODUL-BM-KERTAS-2-Amanjaya.pdf (deflated 11%)\n",
      "  adding: pdf/SENARAI-CUTI-PANJANG-2022-1.pdf (deflated 6%)\n",
      "  adding: pdf/SET-2-MODUL-PI-CEMERLANG.pdf (deflated 4%)\n",
      "  adding: pdf/Edit_DPK-2.0-Bahasa-Melayu-SK-Tahun-1-1.pdf (deflated 32%)\n",
      "  adding: pdf/bachok.pdf (deflated 62%)\n",
      "  adding: pdf/Cerita-Kanak-kanak-Tali-Pinggan-Raja-Sulaiman.pdf (deflated 3%)\n",
      "  adding: pdf/1_DPK-2.0-KSSM-Seni-Visual-SSeM-Tingkatan-1_-DONE_.pdf (deflated 12%)\n",
      "  adding: pdf/Baling.pdf (deflated 62%)\n",
      "  adding: pdf/Senarai%20Pegawai%20Layak%20Sahkan%20Dokumen.pdf (deflated 28%)\n",
      "  adding: pdf/futsal.pdf (deflated 11%)\n",
      "  adding: pdf/Safe@Work%20SOP%20Latest%2019032021_BM_%20FINAL_7PM.pdf (deflated 25%)\n",
      "  adding: pdf/MODUL PdPR BI TAHUN 1.docx (deflated 0%)\n",
      "  adding: pdf/Pelan-Operasi-Kelab-Seni-Visual-2.pdf (deflated 9%)\n",
      "  adding: pdf/TRG-5_skema-K1-dan-K2.pdf (deflated 4%)\n",
      "  adding: pdf/upp2-dst-t2.pdf (deflated 6%)\n",
      "  adding: pdf/KSSM-Sejarah-Tingkatan-1.pdf (deflated 48%)\n",
      "  adding: pdf/MANUAL_sekolah_SSDM_2403.pdf (stored 0%)\n",
      "  adding: pdf/DPK-2.0-KSSM-PRINSIP-PERAKAUNAN-T5-Sisipan-T4_.pdf (deflated 7%)\n",
      "  adding: pdf/07.-DKP-2.0-PJPK-Tingkatan-5-Sisipan-Copy.pdf (deflated 22%)\n",
      "  adding: pdf/Ujian-Akhir-Tahun-Sejarah-Tingkatan-4-k1.pdf (deflated 13%)\n",
      "  adding: pdf/DPK-2.0-KSSM-Bahasa-Jepun-Tingkatan-5_.pdf (deflated 32%)\n",
      "  adding: pdf/Biologi-K2-Trial-SPM-SMKTMR-Johor-2022.pdf (deflated 17%)\n",
      "  adding: pdf/SARAWAK.pdf (deflated 39%)\n",
      "  adding: pdf/SR113.pdf (deflated 6%)\n",
      "  adding: pdf/BAB 23.pdf (deflated 13%)\n",
      "  adding: pdf/Minit-Mesyuarat-Pengurusan-Sekolah-1-1.pdf (deflated 17%)\n",
      "  adding: pdf/SKEMA-BM-2-1-2.pdf (deflated 3%)\n",
      "  adding: pdf/Trial-Kelantan-P2-2020.pdf (deflated 10%)\n",
      "  adding: pdf/BORANG-PENDAFTARAN-TABIKA-NEW.pdf (deflated 13%)\n",
      "  adding: pdf/Setting_IE.pdf (deflated 23%)\n",
      "  adding: pdf/Gadang-Scholarship-Application-Form.pdf (deflated 0%)\n",
      "  adding: pdf/Cerita-Kanak-kanak-Sang-Buaya-Ditimpa-Pokok.pdf (deflated 2%)\n",
      "  adding: pdf/FAQ%20PIDN%202021.pdf (deflated 5%)\n",
      "  adding: pdf/JWP%20SPM%202023.pdf (deflated 31%)\n",
      "  adding: pdf/06.-DKP-2.0-PJPK-Tingkatan-5-Copy.pdf (deflated 23%)\n",
      "  adding: pdf/melaka-bi-k1.pdf (deflated 13%)\n",
      "  adding: pdf/Sarikei.pdf (deflated 62%)\n",
      "  adding: pdf/MODUL PdPR BI TAHUN 5.pdf (deflated 9%)\n",
      "  adding: pdf/Perniagaan Tingkatan 4.pdf (deflated 29%)\n",
      "  adding: pdf/Iklan_PPP_TETAP_Tahun_2023_SPP.pdf (deflated 13%)\n",
      "  adding: pdf/astrazeneca-combined.pdf (stored 0%)\n",
      "  adding: pdf/11032022-BORANG-JAWATAN-PENTADBIRAN-MELAKA.pdf (deflated 27%)\n",
      "  adding: pdf/FAQ%20PERTUKARAN%20GURU%202019.pdf (stored 0%)\n",
      "  adding: pdf/Biologi-K1-MPP3-SOALAN-2022.pdf (deflated 14%)\n",
      "  adding: pdf/PEN-SET-2-K1-JAWABAN.pdf (deflated 14%)\n",
      "  adding: pdf/BT-SPM-SET-5-Modul-CEMERLANG-AmanJaya.pdf (deflated 4%)\n",
      "  adding: pdf/11_BT Kimia Tg4.pdf (deflated 19%)\n",
      "  adding: pdf/BAB 21.pdf (deflated 16%)\n",
      "  adding: pdf/SPMRSM-2020-English-Paper-2-Question.pdf (deflated 1%)\n",
      "  adding: pdf/DPK-2.0-KSSM-Bahasa-Korea-Tingkatan-2_.pdf (deflated 20%)\n",
      "  adding: pdf/SENARAI-KEDAI.pdf (deflated 45%)\n",
      "  adding: pdf/SENARAI CUTI PANJANG 2022.pdf (deflated 6%)\n",
      "  adding: pdf/IKLAN-PPT-EU-N29_MALAY.pdf (deflated 8%)\n",
      "  adding: pdf/IKLAN%20JAWATAN%20PERDA%20-%20SEPTEMBER.pdf (deflated 21%)\n",
      "  adding: pdf/ping-pong-sekolah-menengah.pdf (deflated 27%)\n",
      "  adding: pdf/Garis-Panduan-TESP-Ambilan-ke-2.pdf (deflated 85%)\n",
      "  adding: pdf/PENJAJARAN-DSKP-KSSM-MAHARAT-AL-QURAN-T1-EDISI-2-compressed.pdf (deflated 10%)\n",
      "  adding: pdf/KSSM-MATEMATIK-T5-SISIPAN-DIJAJARKAN-12012021.pdf (deflated 17%)\n",
      "  adding: pdf/olahraga-sr.pdf (deflated 29%)\n",
      "  adding: pdf/PEN-SET-1-K1-JAWABAN.pdf (deflated 11%)\n",
      "  adding: pdf/Senarai%20IPT%20Terpilih%20-%2012%20Mei%202020.pdf (deflated 44%)\n",
      "  adding: pdf/SET-2-MODUL-BM-KERTAS-2-Amanjaya.pdf (deflated 8%)\n",
      "  adding: pdf/DPK-2.0-PENDIDIKAN-MORAL-KSSR-SEMAKAN-2017-THN-3_.pdf (deflated 35%)\n",
      "  adding: pdf/muet-listening-PART-II.pdf (deflated 5%)\n",
      "  adding: pdf/Cerita-Kanak-kanak-Bangau-Menipu-Ikan.pdf (deflated 2%)\n",
      "  adding: pdf/PK-Perniagaan-KSSM-Ting-5-2021_.pdf (deflated 29%)\n"
     ]
    },
    {
     "name": "stdout",
     "output_type": "stream",
     "text": [
      "  adding: pdf/DPK-2.0-KSSM-Bahasa-Inggeris-Tingkatan-4.pdf (deflated 25%)\n",
      "  adding: pdf/IKLAN-JAWATAN-KOSONG-MYSTEP-17.4-30.4-F.pdf (deflated 13%)\n",
      "  adding: pdf/KWSP_6A_2.pdf (deflated 8%)\n",
      "  adding: pdf/mastautinhidup.pdf (deflated 30%)\n",
      "  adding: pdf/DPK_KSSM_USUL_AL-DIN_TINGKATAN-1.pdf (deflated 16%)\n",
      "  adding: pdf/Iqra-4-Belajar-Baca-Quran.pdf (deflated 11%)\n",
      "  adding: pdf/Penjajaran-2.0-Fizik-Tingkatan-4.pdf (deflated 11%)\n",
      "  adding: pdf/Contoh-Perancangan-Strategik.pdf (deflated 5%)\n",
      "  adding: pdf/Lampiran_B_BORANG_BANTUAN_BAITULMAL.pdf (deflated 20%)\n",
      "  adding: pdf/PEN-SET-2-K1-SOALAN.pdf (deflated 23%)\n",
      "  adding: pdf/Takwim-Sekolah-2021.pdf (deflated 24%)\n",
      "  adding: pdf/16_BT Kimia Tg4.pdf (deflated 16%)\n",
      "  adding: pdf/9_PENJAJARAN-PENDIDIKAN-ISLAM-TAHUN-5-2.0.pdf (deflated 12%)\n",
      "  adding: pdf/Perancangan-Strategik-Persatuan-Sains-Dan-Matematik.pdf (deflated 7%)\n",
      "  adding: pdf/SKEMA-SET-7-MODUL-BM-KERTAS-2.pdf (deflated 14%)\n",
      "  adding: pdf/Nombor-Kod-Fail-Sekolah-Terkini.pdf (deflated 11%)\n",
      "  adding: pdf/KISS.pdf (deflated 5%)\n",
      "  adding: pdf/SET-5-CEMERLANG-PENGORAKAN-GKT.pdf (deflated 9%)\n",
      "  adding: pdf/Edit_DPK-2.0-Bahasa-Semai-Tahun-1.pdf (deflated 17%)\n",
      "  adding: pdf/MAKLUM-BALAS-MINIT-MESYUARAT.pdf (deflated 7%)\n",
      "  adding: pdf/Sel-Kertas-1-set-2.pdf (deflated 7%)\n",
      "  adding: pdf/Contoh Minit Mesyuarat 2.docx (deflated 16%)\n",
      "  adding: pdf/Koleksi-Cerita-Kanak-kanak-Siri-1.pdf (deflated 2%)\n",
      "  adding: pdf/mm-T.P-KELATAN-SET-1-K1-SOALAN.pdf (deflated 14%)\n",
      "  adding: pdf/17_DPK-2.0-Bahasa-Tamil-SK-Tahun-3.pdf (deflated 25%)\n",
      "  adding: pdf/BORANG-PERMOHONAN-JKM-18.pdf (deflated 8%)\n",
      "  adding: pdf/DPK-2.0-KSSM-Bahasa-Jepun-Tingkatan-3_.pdf (deflated 29%)\n",
      "  adding: pdf/Persatuan-Pandu-Puteri-Malaysia.pdf (deflated 15%)\n",
      "  adding: pdf/Dokumen-Penjajaran-2.0-PK-Tahun-6.pdf (deflated 23%)\n",
      "  adding: pdf/DPK-2.0-KSSM-Bahasa-Jerman-Tingkatan-2_.pdf (deflated 19%)\n",
      "  adding: pdf/01_DPK-2.0-Bahasa-Melayu-SK-Tahun-2-1.pdf (deflated 36%)\n",
      "  adding: pdf/SIARAN_MEDIA_PIKAS_12_JUN_2021_BM.pdf (deflated 5%)\n",
      "  adding: pdf/FINAL_FORMAT-PENTAKSIRAN-DAN-PELAPORAN-SEKOLAH-MENENGAH-BAGI-UJIAN-AKHIR-SESI-AKADEMIK.pdf (deflated 11%)\n",
      "  adding: pdf/MODUL PdPR BI TAHUN 3.docx (deflated 2%)\n",
      "  adding: pdf/Buku Teks Biologi T5 KBSM.pdf (deflated 7%)\n",
      "  adding: pdf/muet-listening-recycle.pdf (deflated 7%)\n",
      "  adding: pdf/09_JADUAL_IMSAKIAH_-_PAHANG_-_1444H_2023M.pdf (deflated 18%)\n",
      "  adding: pdf/1Dokumen-Penjajaran-Kurikulum-2.0-Tingkatan-1.pdf (deflated 29%)\n",
      "  adding: pdf/FAQ_Program_Subsidi_Upah_Bersasar_30_PERMAI_190121.pdf (deflated 21%)\n",
      "  adding: pdf/Pengeluaran+i-Lestari+-+Soalan+Lazim+Asas.pdf (deflated 33%)\n",
      "  adding: pdf/faq-biasiswa-SPAN.pdf (deflated 8%)\n",
      "  adding: pdf/PULAU-PINANG-MATEMATIK-K2-PERCUBAAN-2020.pdf (deflated 13%)\n",
      "  adding: pdf/KM_LHDNM_09112020_MOHON_BPN_2.0_SEGERA.pdf (deflated 28%)\n",
      "  adding: pdf/Dokumen-Penjajaran-2.0-KSSR-Sejarah-Tahun-6.pdf (deflated 42%)\n",
      "  adding: pdf/Edit_DPK-2.0-Bahasa-Melayu-SJK-Tahun-1-1.pdf (deflated 24%)\n",
      "  adding: pdf/DPK-2.0-PENDIDIKAN-MORAL-KSSR-THN-6_.pdf (deflated 35%)\n",
      "  adding: pdf/MODUL PdPR BI TAHUN 6.pdf (deflated 9%)\n",
      "  adding: pdf/SOLAT_TARAWIH_-_EDISI_2018.pdf (deflated 41%)\n",
      "  adding: pdf/Iklan-MY-STEP.pdf (deflated 18%)\n",
      "  adding: pdf/Modul-Pembangunan-Sahsiah-Diri-dan-Disiplin-Murid.pdf (deflated 14%)\n",
      "  adding: pdf/1-DOKUMEN-PENJAJARAN-ASAS-KELESTARIAN-T5.pdf (deflated 9%)\n",
      "  adding: pdf/20_DPK-2.0-Bahasa-Semai-Tahun-5.pdf (deflated 19%)\n",
      "  adding: pdf/Q-Perlis-P2-2020.pdf (deflated 19%)\n",
      "  adding: pdf/Minit-Mesyuarat-Panitia-Bahasa-Melayu-Kali-Pertama-2017.pdf (deflated 8%)\n",
      "  adding: pdf/Biologi-K3-Trial-SPM-SMKTMR-Johor-2022.pdf (deflated 21%)\n",
      "  adding: pdf/BORANGPERMOHONANDPLI.pdf (deflated 31%)\n",
      "  adding: pdf/Lukisan-mewarna-sekolah-menengah.pdf (deflated 0%)\n",
      "  adding: pdf/Iklan_Jawatan_Kosong_Mei_2023_-_Laman_Web.pdf (deflated 3%)\n",
      "  adding: pdf/SET-4-soalan-SRT.pdf (deflated 3%)\n",
      "  adding: pdf/15_JADUAL_IMSAKIAH_-_PULAU_PINANG.pdf (deflated 8%)\n",
      "  adding: pdf/P. pinang.pdf (deflated 62%)\n",
      "  adding: pdf/KEDAH.pdf (deflated 39%)\n",
      "  adding: pdf/SKIM_BANTUAN_DEPOSIT__SEWA_RUMAH_BULANAN.pdf (deflated 14%)\n",
      "  adding: pdf/Pertengahan-Tahun-2015-T2-Matematik.pdf (deflated 2%)\n",
      "  adding: pdf/Garis_Panduan_Pengendalian_Pesakit_Kekurangan_Tiamin_Di_Institusi_Tahanan_Di_Malaysia.pdf (deflated 5%)\n",
      "  adding: pdf/BAB 20.pdf (deflated 9%)\n",
      "  adding: pdf/DPK-2.0-PMORAL-TINGKATAN-4_.pdf (deflated 38%)\n",
      "  adding: pdf/SPMRSM-2020-English-Paper-1-Question.pdf (deflated 1%)\n",
      "  adding: pdf/tambah-1-10-finger.pdf (deflated 5%)\n",
      "  adding: pdf/Selangor Kuala Selangor.pdf (deflated 62%)\n",
      "  adding: pdf/Malaysia_IKLAN-KPSU-PSU-PT-EU-N19-BM_tarikh-tutup-31.12.2022_SU_NM_lulus.pdf (deflated 8%)\n",
      "  adding: pdf/AIM-BPO-P1-Borang-Pembiayaan-Murabahah-Komuditi.pdf (deflated 16%)\n",
      "  adding: pdf/CADANGAN-PENAMBAHBAIKAN.pdf (deflated 8%)\n",
      "  adding: pdf/FAIL-MEJA-GURU-BESAR.pdf (deflated 19%)\n",
      "  adding: pdf/Koleksi-Cerita-Kanak-kanak-Siri-2.pdf (deflated 30%)\n",
      "  adding: pdf/9eb993_b73544c36d9d48719cecf2d3642e6548.pdf (deflated 11%)\n",
      "  adding: pdf/Selangor Gombak.pdf (deflated 62%)\n",
      "  adding: pdf/DPK2.0_TMK-TAHUN-6.pdf (deflated 31%)\n",
      "  adding: pdf/Biologi-Kertas2-pahang.pdf (deflated 7%)\n",
      "  adding: pdf/MM-KEL-Set-1-Kertas-2-Jawaban.pdf (deflated 4%)\n",
      "  adding: pdf/Lahad Datu.pdf (deflated 62%)\n",
      "  adding: pdf/1461?value=Guideline%20for%20PESP%20Applicants%202022.pdf (deflated 32%)\n",
      "  adding: pdf/5_6113766159218115040.pdf (deflated 15%)\n",
      "  adding: pdf/pbi.pdf (deflated 5%)\n",
      "  adding: pdf/IKLAN-JUN-PENUH-TERKINI-2023-1.pdf (deflated 17%)\n",
      "  adding: pdf/MANUAL%20PENGGUNA%20DAN%20PROSES%20PERMOHONAN%20KE%20PRASEKOLAH%20KPM%20BAGI%20KEMASUKAN%202020.pdf (stored 0%)\n",
      "  adding: pdf/BT-SPM-SET-7-Modul-CEMERLANG-AmanJaya.pdf (deflated 5%)\n",
      "  adding: pdf/17154110.pdf (deflated 12%)\n",
      "  adding: pdf/PERLIS.pdf (deflated 25%)\n",
      "  adding: pdf/DOA SELEPAS SOLAT.pdf (deflated 1%)\n",
      "  adding: pdf/01-Bahasa-Melayu-K1-Trial-SPM-Limbang-Sarawak-2020.pdf (deflated 12%)\n",
      "  adding: pdf/Biologi-K2-Kelantan-SPM-2022.pdf (deflated 8%)\n",
      "  adding: pdf/02_Kandungan Kimia Tg4.pdf (deflated 30%)\n",
      "  adding: pdf/SKIM_BANTUAN_KEWANGAN_BULANAN.pdf (deflated 15%)\n",
      "  adding: pdf/2020_TRIAL_ENGLISH_SPM_KERTAS-1_MARAN.pdf (deflated 16%)\n",
      "  adding: pdf/FALSAFAH-PENDIDIKAN-KEBANGSAAN.pdf (deflated 6%)\n",
      "  adding: pdf/01-Bahasa-Melayu-K2-Trial-SPM-Limbang-Sarawak-2020.pdf (deflated 10%)\n",
      "  adding: pdf/Kuala Tganu.pdf (deflated 62%)\n",
      "  adding: pdf/148738029-Kertas-Kerja-Penubuhan-Kelab-Rukun-Negara.pdf (deflated 5%)\n",
      "  adding: pdf/PRASEK_RPT-SEMAKAN-PAI.pdf (deflated 6%)\n",
      "  adding: pdf/Ujian-Akhir-Tahun-KSSR-Tahun-5-Pendidikan-Seni-Set3.pdf (deflated 15%)\n",
      "  adding: pdf/Borang%20Permohonan%20Jawatan%20Kosong%20(PSH-JB).pdf (stored 0%)\n",
      "  adding: pdf/Kertas-Kerja-Program-Sahsiah-Diri.pdf (deflated 13%)\n",
      "  adding: pdf/Laporan-Tahunan-2014-Psv.pdf (deflated 5%)\n",
      "  adding: pdf/SPM2020-MPP2-BM-K2.pdf (deflated 6%)\n",
      "  adding: pdf/SEPERATOR-PORTFOLIO-PBPPP.pdf (deflated 13%)\n",
      "  adding: pdf/MS-Putrajaya-P2-2020.pdf (deflated 8%)\n",
      "  adding: pdf/olahraga-sm.pdf (deflated 38%)\n",
      "  adding: pdf/Iklan-Jawatan-Pegawai-Personel-MySTEP_TUTUP-10.12.2021.pdf (deflated 8%)\n",
      "  adding: pdf/10-Jenis-Pendahuluan-Karangan-Umum-1.pdf (stored 0%)\n",
      "  adding: pdf/DPK-2.0-KSSM-Bahasa-Kadazandusun-Tingkatan-4.pdf (deflated 34%)\n",
      "  adding: pdf/47157582-Pelan-strategik-Kelab-Bimbingan-dan-Kaunseling.pdf (deflated 5%)\n",
      "  adding: pdf/SET-2-CEMERLANG-SK.pdf (deflated 30%)\n",
      "  adding: pdf/BAB 13.pdf (deflated 13%)\n",
      "  adding: pdf/Dokumen-Penjajaran-Kurikulum-Manahij-Tingkatan-5.pdf (deflated 10%)\n",
      "  adding: pdf/FAIL-MEJA-GURU-MATAPELAJARAN.pdf (deflated 25%)\n",
      "  adding: pdf/Wilayah.pdf (deflated 24%)\n",
      "  adding: pdf/SET-2-MODUL-BM-KERTAS-1-CEMERLANG-Amanjaya.pdf (deflated 12%)\n",
      "  adding: pdf/BA-SET3-cemerlang-gabung.pdf (deflated 9%)\n",
      "  adding: pdf/IKLAN_JUL_2023.pdf (deflated 13%)\n",
      "  adding: pdf/JKM%2020%20BORANG%20KAJI%20SEMULA%20BANTUAN(4).pdf (deflated 3%)\n",
      "  adding: pdf/senarai_semak_pembiayaan.pdf (deflated 5%)\n",
      "  adding: pdf/SET-1-MODUL-BM-KERTAS-1-CEMERLANG-Amanjaya.pdf (deflated 13%)\n",
      "  adding: pdf/SR241.pdf (deflated 15%)\n",
      "  adding: pdf/05_DPK-2.0-Bahasa-Cina-SJKC-Tahun-4__-.pdf (deflated 16%)\n",
      "  adding: pdf/2020_FORM5_TRIAL_ANSWER-SCHEME_ENGLISH_P1-AND-P2.pdf (deflated 10%)\n",
      "  adding: pdf/PANDUAN-PERMOHONAN-BIASISWA-BYDPA.pdf (deflated 3%)\n"
     ]
    },
    {
     "name": "stdout",
     "output_type": "stream",
     "text": [
      "  adding: pdf/Bentong.pdf (deflated 62%)\n",
      "  adding: pdf/SENARAI%20TABIKA%20PERPADUAN.pdf (deflated 69%)\n",
      "  adding: pdf/BAB 1.pdf (deflated 12%)\n",
      "  adding: pdf/Penjajaran-KSSM-Pendidikan-Islam-Tingkatan-5-latest.pdf (deflated 23%)\n",
      "  adding: pdf/SET-4-MODUL-BM-KERTAS-2.pdf (deflated 11%)\n",
      "  adding: pdf/Temengor.pdf (deflated 62%)\n",
      "  adding: pdf/Melaka-Matematik-K2-Trial-SPM-2020.pdf (deflated 23%)\n",
      "  adding: pdf/SET-5-PM-CEMERLANG.pdf (deflated 4%)\n",
      "  adding: pdf/DRAF%20JWP%20SPM%202023.pdf (deflated 20%)\n",
      "  adding: pdf/SPM2020-MPP2-BM-K1.pdf (deflated 3%)\n",
      "  adding: pdf/DPK-KSSM-BT-Tingkatan-4.pdf (deflated 21%)\n",
      "  adding: pdf/panduan.pdf (deflated 14%)\n",
      "  adding: pdf/DPK-2.0-KSSM-GEOGRAFI-T2.pdf (deflated 35%)\n",
      "  adding: pdf/KM%20BIL%2067%202020%20PAMERAN%20RANG%20DPT%20ST3%202020_0.pdf (deflated 9%)\n",
      "  adding: pdf/BORANG-PERMOHONAN-GURU-KAFA-KELANTAN.pdf (deflated 22%)\n",
      "  adding: pdf/TERANGGANU-MPP-2-Kertas-2-Matematik-SPM-2020.pdf (deflated 6%)\n",
      "  adding: pdf/iklan-jawatan-kosong.pdf (deflated 13%)\n",
      "  adding: pdf/Cerita-Kanak-kanak-Burung-Gagak-Dan-Ketitir.pdf (deflated 3%)\n",
      "  adding: pdf/DPK-KSSM-KT-Tingkatan-4-8.pdf (deflated 22%)\n",
      "  adding: pdf/MELAKA.pdf (deflated 29%)\n",
      "  adding: pdf/03_DPK-2.0-Bahasa-Inggeris-SK-Tahun-2.pdf (deflated 18%)\n",
      "  adding: pdf/MRSM-PAPER-2-2020.pdf (deflated 8%)\n",
      "  adding: pdf/DPK-KSSM-BT-Tingkatan-1.pdf (deflated 21%)\n",
      "  adding: pdf/BAB 16.pdf (deflated 10%)\n",
      "  adding: pdf/upp2-dst-t2-1.pdf (deflated 7%)\n",
      "  adding: pdf/skema-jawapan-melaka-bi.pdf (deflated 4%)\n",
      "  adding: pdf/BORANG-PERMOHONAN-JKM-18-1.pdf (deflated 8%)\n",
      "  adding: pdf/05-DKP-2.0-PJPK-Tingkatan-4-Copy.pdf (deflated 26%)\n",
      "  adding: pdf/Biologi-K2-Percubaan-SPM-Melaka-2022.pdf (deflated 18%)\n",
      "  adding: pdf/MS-Perlis-P2-2020.pdf (deflated 24%)\n",
      "  adding: pdf/PEN-SET-2-K2-JAWABAN.pdf (deflated 6%)\n",
      "  adding: pdf/tapah.pdf (deflated 62%)\n",
      "  adding: pdf/JPP-BORANG-02-PINDAAN-6-BORANG-PERMOHONAN-PEMBIAYAAN-pindaan-01.04.2020.pdf (deflated 59%)\n",
      "  adding: pdf/SET-1CEMERLANG-GKT.pdf (deflated 2%)\n",
      "  adding: pdf/Dermasiswa%20Yayasan%20Perak%20-%2009092020.pdf (deflated 44%)\n",
      "  adding: pdf/Garis-Panduan-PAJSK-Sekolah-Menengah.pdf (deflated 19%)\n",
      "  adding: pdf/DPK-2.0-PENDIDIKAN-MORAL-KSSR-SEMAKAN-2017-THN-1_.pdf (deflated 35%)\n",
      "  adding: pdf/DPK-2.0-KSSM-Bahasa-Cina-Tingkatan-2_.pdf (deflated 19%)\n",
      "  adding: pdf/Contoh-Kertas-Kerja-2-1.pdf (deflated 8%)\n",
      "  adding: pdf/SKIM_PERKHIDMATAN_DH.pdf (deflated 12%)\n",
      "  adding: pdf/Minit-Mesyuarat-Pengurusan-Sekolah-3.pdf (deflated 14%)\n",
      "  adding: pdf/SETIAUSAHA_PEJABATGRED_PP6.pdf (deflated 58%)\n",
      "  adding: pdf/ANUGERAH-DALAM-PDP.pdf (deflated 10%)\n",
      "  adding: pdf/MODUL PdPR Matematik TAHUN 3.pdf (deflated 62%)\n",
      "  adding: pdf/FAQ-MyCRS.pdf (deflated 16%)\n",
      "  adding: pdf/BM-1-DAN-BM-2.pdf (deflated 2%)\n",
      "  adding: pdf/TRG-5_kertas-2.pdf (deflated 21%)\n",
      "  adding: pdf/16_DPK-2.0-Bahasa-Cina-SK-Tahun-3.pdf (deflated 17%)\n",
      "  adding: pdf/IKLAN-PENGAMBILAN-JAWATAN-MySTEP1.pdf (deflated 40%)\n",
      "  adding: pdf/DPK-2.0-KSSM-Bahasa-Semai-Tingkatan-1_.pdf (deflated 19%)\n",
      "  adding: pdf/PENJAJARAN-2.0_KIMIA_F5_SISIPAN-FORM-4_14012021.pdf (deflated 18%)\n",
      "  adding: pdf/SET-4-MODUL-PI-CEMERLANG.pdf (deflated 4%)\n",
      "  adding: pdf/bantuan-perubatan-maiwp.pdf (deflated 22%)\n",
      "  adding: pdf/MTP_2.0_v2.pdf (stored 0%)\n",
      "  adding: pdf/Bantuan_Khas_COVID19_garispanduan.pdf (deflated 5%)\n",
      "  adding: pdf/PERLEMBAGAAN-KELAB-KOMPUTER.pdf (deflated 5%)\n",
      "  adding: pdf/Pertengahan-Tahun-2015-T2-BI-kertas-2.pdf (deflated 2%)\n",
      "  adding: pdf/7._DPK-2.0_SENI-TEATER-TINGKATAN-1_-1.pdf (deflated 13%)\n",
      "  adding: pdf/JKM%2018%20BORANG%20PERMOHONAN%20BANTUAN(6).pdf (deflated 8%)\n",
      "  adding: pdf/Contoh-Kertas-Kerja-2.pdf (deflated 13%)\n",
      "  adding: pdf/Contoh Minit Mesyuarat 1.doc (deflated 77%)\n",
      "  adding: pdf/KSSM-Reka-Cipta-Tingkatan-5-Sisipan-Tingkatan-4-2.0.pdf (deflated 22%)\n",
      "  adding: pdf/BAB 2.pdf (deflated 12%)\n",
      "  adding: pdf/A%20Scholarship%20Application%20Form.pdf (deflated 7%)\n",
      "  adding: pdf/KSSR-MATEMATIK-TAHUN-1-DIJAJARKAN-NEW.pdf (deflated 17%)\n",
      "  adding: pdf/AKAD.pdf (deflated 5%)\n",
      "  adding: pdf/DPK-2.0-KSSM-Bahasa-Perancis-Tingkatan-2_.pdf (deflated 21%)\n",
      "  adding: pdf/PULAU-PINANG.pdf (deflated 29%)\n",
      "  adding: pdf/IKLAN-SPA9_PG-KPDNHEP-PenolongPegawaiPenguatKuasaGredKP29.pdf (deflated 16%)\n",
      "  adding: pdf/KELANTAN.pdf (deflated 37%)\n",
      "  adding: pdf/SET-6-soalan-SRT.pdf (deflated 1%)\n",
      "  adding: pdf/Soalan-Lazim-Berkaitan-P-ermohonanBaru-KemasKini-BPR-2021.pdf (deflated 16%)\n",
      "  adding: pdf/SET-7-MC-TASAWWUR-ISLAM.pdf (deflated 39%)\n",
      "  adding: pdf/BT-SPM-SET-1-Modul-CEMERLANG-Aman-Jaya.pdf (deflated 6%)\n",
      "  adding: pdf/BAB 15.pdf (deflated 12%)\n",
      "  adding: pdf/Minit-Mesyuarat-Pengurusan-HEM-Bil-2.pdf (deflated 16%)\n",
      "  adding: pdf/SET-1-MODUL-BM-KERTAS-2-Amanjaya.pdf (deflated 7%)\n",
      "  adding: pdf/AM-SEL-Set-1-Kertas-1-Soalan.pdf (deflated 18%)\n",
      "  adding: pdf/SKIM_BANTUAN_TAMBANG_DALAM__LUAR_NEGARA.pdf (deflated 15%)\n",
      "  adding: pdf/60c19053ed59b87c03665dfb_Infografik%20Pakej%20Kita%20Selangor%202.0%20(1).pdf (deflated 9%)\n",
      "  adding: pdf/Application-form-UMUS-2021.pdf (deflated 10%)\n",
      "  adding: pdf/SENARAI%20PEGAWAI%20DISPLIN%20NEGERI.pdf (stored 0%)\n",
      "  adding: pdf/DPK-2.0-KSSM-Bahasa-Cina-Komunikasi-Tingkatan-5_.pdf (deflated 27%)\n",
      "  adding: pdf/KSSM-Kesusasteraan Cina Wenxuan 文选.pdf (deflated 11%)\n",
      "  adding: pdf/SKIM_BANTUAN_PERNIAGAAN__PERTANIAN.pdf (deflated 14%)\n",
      "  adding: pdf/DPK-2.0-KSSM-Bahasa-Semai-Tingkatan-3_.pdf (deflated 22%)\n",
      "  adding: pdf/MS-NSembilan-P1P2-2020.pdf (deflated 6%)\n",
      "  adding: pdf/Biologi-Kertas1-pahang.pdf (deflated 8%)\n",
      "  adding: pdf/02_DPK-2.0-Bahasa-Melayu-SJK-Tahun-3.pdf (deflated 24%)\n",
      "  adding: pdf/16_DPK-2.0-Bahasa-Cina-SK-Tahun-2.pdf (deflated 21%)\n",
      "  adding: pdf/TER-SET-1-K2-JAWABAN.pdf (deflated 21%)\n",
      "  adding: pdf/DPK-2.0-KSSM-Bahasa-Inggeris-Tingkatan-1.pdf (deflated 22%)\n",
      "  adding: pdf/Iklan-JPA-MARA-2021.pdf (deflated 5%)\n",
      "  adding: pdf/Iklan%20Kekosongan%20P.jurutera%20JA29.pdf (deflated 12%)\n",
      "  adding: pdf/JAKIM-Iklan-Pegawai-Teknologi-Makanan.pdf (deflated 7%)\n",
      "  adding: pdf/04_JADUAL_IMSAKIAH_-_JOHOR_-_1444H_2023M-latest.pdf (deflated 25%)\n",
      "  adding: pdf/Q-YIK-P1-2020.pdf (deflated 12%)\n",
      "  adding: pdf/SET-7-PM-CEMERLANG.pdf (deflated 3%)\n",
      "  adding: pdf/10_JADUAL_IMSAKIAH_-_TERENGGANU_-_1444H_2023M.pdf (deflated 15%)\n",
      "  adding: pdf/Carta-Organisasi-Kokurikulum-dan-jadual-perjumpaan-converted.pdf (deflated 20%)\n",
      "  adding: pdf/Terms-and-Conditions-2021.pdf (deflated 6%)\n",
      "  adding: pdf/PAHANG.pdf (deflated 38%)\n",
      "  adding: pdf/12_BT Kimia Tg4.pdf (deflated 33%)\n",
      "  adding: pdf/DPK-2.0-KSSM-Bahasa-Perancis-Tingkatan-5_.pdf (deflated 24%)\n",
      "  adding: pdf/SKIM_BANTUAN_AM_PELAJARAN_IPT.pdf (deflated 26%)\n",
      "  adding: pdf/DPK-2.0-KSSM-Bahasa-Jerman-Tingkatan-3_.pdf (deflated 23%)\n",
      "  adding: pdf/DPK-2.0-KSSM-Bahasa-Jerman-Tingkatan-5_.pdf (deflated 27%)\n",
      "  adding: pdf/6.-Dokumen-Penjajaran-Kurikulum-2.0-KSSR-Pendidikan-Seni-Visual-Tahun-6.pdf (deflated 26%)\n",
      "  adding: pdf/PENOLONG%20PEGAWAI%20TADBIR%20GRED%20N29.pdf (deflated 20%)\n",
      "  adding: pdf/latihan-trace-a-z-set-2.pdf (deflated 13%)\n",
      "  adding: pdf/6-LUKISAN-KEJURUTERAAN-T5.pdf (deflated 9%)\n",
      "  adding: pdf/Dokumen-Penjajaran-2.0-PJPK-Tahun-1.pdf (deflated 22%)\n",
      "  adding: pdf/19_DPK-2.0-Bahasa-Kadazandusun-Tahun-4_.pdf (deflated 23%)\n",
      "  adding: pdf/N9-MATEMATIK-K1-PERCUBAAN-2020.pdf (deflated 18%)\n",
      "  adding: pdf/UAT-Ekonomi-Rumah-Tangga-Tingkatan-4.pdf (deflated 10%)\n",
      "  adding: pdf/BNM+List+of+Approved+Colleges+%26+Universities+2021+ALL.pdf (stored 0%)\n",
      "  adding: pdf/Modul-bola-Jaring-SR.pdf (deflated 30%)\n",
      "  adding: pdf/Trial-Selangor-Skema-K2-2020.pdf (deflated 14%)\n",
      "  adding: pdf/Q-Terengganu-P1-2020.pdf (deflated 0%)\n",
      "  adding: pdf/BM-1-1-1.pdf (deflated 4%)\n",
      "  adding: pdf/JOHOR-SET-2-KERTAS-1-MPSM-2020.pdf (deflated 8%)\n",
      "  adding: pdf/mdi-1-pindaan-1-2013-jawatan-kosong_1-1.pdf (deflated 9%)\n",
      "  adding: pdf/cuti-cuti-cikgu.pdf (deflated 5%)\n",
      "  adding: pdf/Buku%20Panduan%20Permohonan%20MRSM.pdf (deflated 13%)\n",
      "  adding: pdf/SET-6-MODUL-PI-CEMERLANG.pdf (deflated 4%)\n",
      "  adding: pdf/manual_pengguna.pdf (deflated 15%)\n",
      "  adding: pdf/BAB 14.pdf (deflated 17%)\n",
      "  adding: pdf/DPK-2.0-KSSM-Bahasa-Perancis-Tingkatan-1_.pdf (deflated 21%)\n",
      "  adding: pdf/Pensiangan.pdf (deflated 62%)\n",
      "  adding: pdf/bm-2-3.pdf (deflated 6%)\n",
      "  adding: pdf/KSSM-Sejarah-Tingkatan-5-Sisipan-Tingkatan-4.pdf (deflated 43%)\n",
      "  adding: pdf/SET-4-CEMERLANG-PESPEKTIF-GKT.pdf (deflated 8%)\n"
     ]
    },
    {
     "name": "stdout",
     "output_type": "stream",
     "text": [
      "  adding: pdf/Limbang.pdf (deflated 62%)\n",
      "  adding: pdf/DPK-2.0-Bahasa-Iban-Tahun-2.pdf (deflated 24%)\n",
      "  adding: pdf/DPK-2.0-KSSM-Bahasa-Iban-Tingkatan-5_.pdf (deflated 27%)\n",
      "  adding: pdf/18_DPK-2.0-Bahasa-Iban-Tahun-4_.pdf (deflated 18%)\n",
      "  adding: pdf/Contoh-1.pdf (deflated 4%)\n",
      "  adding: pdf/Selangor-Matematik-K1-Set-1-Trial-SPM-2020.pdf (deflated 13%)\n",
      "  adding: pdf/5_6181367668851868974.pdf (stored 0%)\n",
      "  adding: pdf/SENARAI-SEMAK-FAIL-SU-SPBT.docx.pdf (deflated 7%)\n",
      "  adding: pdf/Beaufort.pdf (deflated 62%)\n",
      "  adding: pdf/Scholarship%20&%20finacial%20(FORM%20FILL)%202021.pdf (deflated 66%)\n",
      "  adding: pdf/pendaftaranportalipt.pdf (deflated 14%)\n",
      "  adding: pdf/BORANG-PRT20.pdf (deflated 1%)\n",
      "  adding: pdf/Q-Penang-P2-2020.pdf (deflated 1%)\n",
      "  adding: pdf/Kuching.pdf (deflated 62%)\n",
      "  adding: pdf/NEGERI-SEMBILAN.pdf (deflated 33%)\n",
      "  adding: pdf/ANUGERAH-SEPANJANG-PERKHIDMATAN.pdf (deflated 10%)\n",
      "  adding: pdf/KSSR-MATEMATIK-TAHUN-4-DIJAJARKAN-NEW.pdf (deflated 16%)\n",
      "  adding: pdf/Bengkel-Menjawab-Sejarah-Spm-1.pdf (deflated 3%)\n",
      "  adding: pdf/Cerita-Kanak-kanak-Wali-Kucing-2.pdf (deflated 4%)\n",
      "  adding: pdf/PRASEK_RPT-SEMAKAN-TUNJANG-SAINS-DAN-TEKNOLOGI_SAINS-AWAL.pdf (deflated 9%)\n",
      "  adding: pdf/PPT-T5-PI.pdf (deflated 14%)\n",
      "  adding: pdf/tambah-1-10-set-2.pdf (deflated 11%)\n",
      "  adding: pdf/TERANGGANU-SKEMA-MPP2-K1-K2-MATEMATIK-SPM-2020.pdf (deflated 15%)\n",
      "  adding: pdf/Karnival Kerjaya MYFutureJobs Outreach Pekerjaan Rakyat Negeri Terengganu 2023 Siri 2.pdf (deflated 18%)\n",
      "  adding: pdf/1-Percubaan-Terengganu-Matematik-Kertas-1-SPM-2020.pdf (deflated 14%)\n",
      "  adding: pdf/rukun negara.pdf (deflated 1%)\n",
      "  adding: pdf/TEMPLAT-HANDY-BUKU-REGISTER-PELAJAR-UNTUK-GURU-KELAS.doc.pdf (deflated 7%)\n",
      "  adding: pdf/JOHOR-SET-1-KERTAS-1-MPSM-2020.pdf (deflated 11%)\n",
      "  adding: pdf/upt-pai-tahun-6.pdf (deflated 14%)\n",
      "  adding: pdf/JEMPUTAN-KONSULTASI-BENGKEL.pdf (deflated 10%)\n",
      "  adding: pdf/DPK-2.0-KSSM-Bahasa-Korea-Tingkatan-3_.pdf (deflated 21%)\n",
      "  adding: pdf/Pulau Tioman.pdf (deflated 62%)\n",
      "  adding: pdf/5.-PENDIDIKAN-MUZIK-TINGKATAN-5-1.pdf (deflated 16%)\n",
      "  adding: pdf/B1 BT Fizik Tg4.pdf (deflated 19%)\n",
      "  adding: pdf/PERMOHONAN%20RAYUAN%20BKM%202022%20SECARA%20DALAM%20TALIAN%20YANG%20TIDAK%20DIBENARKAN.pdf (stored 0%)\n",
      "  adding: pdf/PRASEK_RPT-SEMAKAN-BI.docx.pdf (deflated 3%)\n",
      "  adding: pdf/03_DPK-2.0-Bahasa-Inggeris-SK-Tahun-6.pdf (deflated 17%)\n",
      "  adding: pdf/PENOLONG%20JURUTERA%20GRED%20JA29.pdf (deflated 21%)\n",
      "  adding: pdf/Borang_Jawatan_Kosong-Ada-Logo1.pdf (deflated 46%)\n",
      "  adding: pdf/bm-2-2.pdf (deflated 8%)\n",
      "  adding: pdf/PROGRAM-PELAJARAN-CEMERLANG-PCC.pdf (deflated 6%)\n",
      "  adding: pdf/cara-cara-memilih-gadget-compressed.pdf (deflated 15%)\n",
      "  adding: pdf/Q-Temerloh-P1-2020.pdf (deflated 19%)\n",
      "  adding: pdf/IKLAN-SPA9_PG-RELA-PegawaiPertahananAwamGredKP41.pdf (deflated 14%)\n",
      "  adding: pdf/PK2%20Kaedah%20Perolehan%20LGM%20-%20Penambahbaikan%202018%20final%2017%20dis%202018.pdf (deflated 47%)\n",
      "  adding: pdf/rayaATM2019_location.pdf (deflated 21%)\n",
      "  adding: pdf/JPTT-BORANG-04-SURAT-PENGESAHAN-PERNIAGAAN.pdf (deflated 6%)\n",
      "  adding: pdf/Takwim-Aktiviti-Sekolah-2021.pdf (deflated 24%)\n",
      "  adding: pdf/EFS New Form 2022.pdf (deflated 25%)\n",
      "  adding: pdf/PPT-PAI-T3.pdf (deflated 14%)\n",
      "  adding: pdf/Iklan_Mac_2023.pdf (deflated 18%)\n",
      "  adding: pdf/Penjajaran-KSSM-Pendidikan-Islam-Tingkatan-3-2.0-latest.pdf (deflated 23%)\n",
      "  adding: pdf/6_DPK_Bahasa-Arab-KSSR-Tahun-3-Edisi-2.pdf (deflated 32%)\n",
      "  adding: pdf/DPK-2.0-KSSM-Bahasa-Melayu-Tingkatan-1_-1.pdf (deflated 22%)\n",
      "  adding: pdf/DPK-2.0-KSSM-Bahasa-Semai-Tingkatan-2_.pdf (deflated 28%)\n",
      "  adding: pdf/Transportation-worksheet-3.pdf (deflated 9%)\n",
      "  adding: pdf/perancangan-strategik-3.pdf (deflated 29%)\n",
      "  adding: pdf/faq-astro-scholarship-2023.pdf (deflated 6%)\n",
      "  adding: pdf/Manual-Pengguna-Cetakan-Slip-Keputusan-CP_JPN_31102021.pdf (deflated 24%)\n",
      "  adding: pdf/05_BT Kimia Tg4.pdf (deflated 18%)\n",
      "  adding: pdf/DPK_KSSM_PENDIDIKAN-AL-QURAN-DAN-AL-SUNNAH_TINGKATAN_5.pdf (deflated 22%)\n",
      "  adding: pdf/PENJAJARAN-2.0_KIMIA_F5.pdf (deflated 22%)\n",
      "  adding: pdf/Jerantut.pdf (deflated 62%)\n",
      "  adding: pdf/06_BT Kimia Tg4.pdf (deflated 33%)\n",
      "  adding: pdf/KSSM-Kesusasteraan Cina Xiju 戏剧.pdf (deflated 8%)\n",
      "  adding: pdf/tambah-1-5-set-2.pdf (deflated 15%)\n",
      "  adding: pdf/OSK-Foundation-Scholarship-Awards-Application-Form-2023.pdf (stored 0%)\n",
      "  adding: pdf/DPK-2.0-KSSM-Bahasa-Kadazandusun-Tingkatan-5_.pdf (deflated 29%)\n",
      "  adding: pdf/DPK-2.0-KSSM-Bahasa-Jerman-Tingkatan-4.pdf (deflated 27%)\n",
      "  adding: pdf/IKLAN_SPA9_PG_JPBD_PegawaiPerancangBandarDanDesaGredJ41.pdf (deflated 1%)\n",
      "  adding: pdf/SENARAI-SEMAK-PERKARA-PENTING-FAIL-MEJA-GURU-DATA-SEKOLAH.docx.pdf (deflated 7%)\n",
      "  adding: pdf/Iklan%2007082023%20HASA%20Bil_1.pdf (deflated 21%)\n",
      "  adding: pdf/Q-Perlis-P1-2020.pdf (deflated 21%)\n",
      "  adding: pdf/PAHANG-SMK-SERI-MAHKOTA-KUANTAN-K2-PERCUBAAN-2020.pdf (deflated 16%)\n",
      "  adding: pdf/DPK-2.0-KSSM-GEOGRAFI-T5.pdf (deflated 35%)\n",
      "  adding: pdf/BAB 10.pdf (deflated 10%)\n",
      "  adding: pdf/MS-Perlis-P1-2020.pdf (deflated 28%)\n",
      "  adding: pdf/gimnastik.pdf (deflated 9%)\n",
      "  adding: pdf/BPR2021(FAQ)BayaranFasaKedua.pdf (stored 0%)\n",
      "  adding: pdf/iklan-jawatan-kosong-gred-f-07032022-21032022.pdf (deflated 57%)\n",
      "  adding: pdf/Biologi-K1-Negeri-Sembilan-2022.pdf (deflated 18%)\n",
      "  adding: pdf/Iqra-2-Belajar-Baca-Quran.pdf (deflated 12%)\n",
      "  adding: pdf/SUMBANGAN-KEPADA-PPDJPNKPM.pdf (deflated 12%)\n",
      "  adding: pdf/Pandan.pdf (deflated 62%)\n",
      "  adding: pdf/Puncak Gunung Jerai .pdf (deflated 62%)\n",
      "  adding: pdf/17_DPK-2.0-Bahasa-Tamil-SK-Tahun-4_.pdf (deflated 26%)\n",
      "  adding: pdf/DPK-2.0-SAINS-F5-DAN-F4-DISISIPKAN_.pdf (deflated 23%)\n",
      "  adding: pdf/Iklan-Jawatan-bertarikh-13-Julai-2023EKSEKUTIF-ARRAHNU.pdf (deflated 7%)\n",
      "  adding: pdf/KSSM_2019_DP_PendidikanMuzik_Tingkatan_4.pdf (deflated 59%)\n",
      "  adding: pdf/SET-3-MODUL-PI-CEMERLANG.pdf (deflated 5%)\n",
      "  adding: pdf/MS-Kelantan-P2-2020.pdf (deflated 17%)\n",
      "  adding: pdf/IKLAN-JAWATAN-KEDA-01082023-1.pdf (deflated 19%)\n",
      "  adding: pdf/Ujian-Akhir-Tahun-KSSR-Tahun-5-Pendidikan-Seni-Set2.pdf (deflated 14%)\n",
      "  adding: pdf/KSSRPK-Tahun-5.pdf (deflated 24%)\n",
      "  adding: pdf/IKLAN-PPISMP.pdf (deflated 11%)\n",
      "  adding: pdf/ragbi.pdf (deflated 9%)\n",
      "  adding: pdf/Perancangan-Strategik-Kelab-Komputer.pdf (deflated 5%)\n",
      "  adding: pdf/02_DPK-2.0-Bahasa-Melayu-SJK-Tahun-2.pdf (deflated 31%)\n",
      "  adding: pdf/Trial-Selangor-2020-K1-Set-2.pdf (deflated 19%)\n",
      "  adding: pdf/pp032020.pdf (deflated 5%)\n",
      "  adding: pdf/bantuan-pelajaran.pdf (deflated 36%)\n",
      "  adding: pdf/08062023-IKLAN-AKADEMIK-JUN-2023.pdf (deflated 27%)\n",
      "  adding: pdf/tolak-prasekolah-bergambar-set-2.pdf (deflated 10%)\n",
      "  adding: pdf/Dokumen-Penjajaran-Kurikulum-Manahij-Tingkatan-4.pdf (deflated 11%)\n",
      "  adding: pdf/Garis-Panduan-PAJSK-Sekolah-Rendah.pdf (deflated 20%)\n",
      "  adding: pdf/bm-2-1.pdf (deflated 12%)\n",
      "  adding: pdf/Asas-menulis-nombor-1.pdf (deflated 14%)\n",
      "  adding: pdf/IKLAN-SPA9_PG-JMG-PegawaiGeosainsGredC41_(Kimia).pdf (deflated 14%)\n",
      "  adding: pdf/SAINS-TAMBAHAN-T5-DIJAJARKAN-2.0-sisipan-tingkatan-4.pdf (deflated 10%)\n",
      "  adding: pdf/Al-Syariah-Tingkatan-5.pdf (deflated 14%)\n",
      "  adding: pdf/5_PENJAJARAN-PENDIDIKAN-ISLAM-TAHUN-3-2.0.pdf (deflated 12%)\n",
      "  adding: pdf/DPK-2.0-KSSM-Bahasa-Cina-Tingkatan-1_.pdf (deflated 19%)\n",
      "  adding: pdf/SET-3-MODUL-CEMERLANG-FIZIK-F4B4-2018-skema.pdf (deflated 7%)\n",
      "  adding: pdf/KSSM-MATEMATIK-T5-PENJAJARAN-2.0-12012021.pdf (deflated 18%)\n",
      "  adding: pdf/New%20borang%20KGC%20&%20BIK%20(KWKPK)%202.pdf (stored 0%)\n",
      "  adding: pdf/SKEMA-SET-5-MODUL-BM-KERTAS-2.pdf (deflated 16%)\n",
      "  adding: pdf/Jadual%20Perkhidmatan%20Kaunter%20Rayuan%20BKM%202022.pdf (stored 0%)\n",
      "  adding: pdf/SKIM_BANTUAN_DEPOSIT_VAN__BASSEKOLAH.pdf (deflated 15%)\n",
      "  adding: pdf/DPK-2.0-KSSM-Bahasa-Iban-Tingkatan-4.pdf (deflated 33%)\n",
      "  adding: pdf/PEN-SET-1-K1-SOALAN.pdf (deflated 16%)\n",
      "  adding: pdf/CONTOH-FAIL-PBPPP.pdf (deflated 20%)\n",
      "  adding: pdf/Divider-Fail-Rekod-PDPC-Versi-Jimat-Ink.pdf (deflated 6%)\n",
      "  adding: pdf/bola-sepak-sr.pdf (deflated 33%)\n",
      "  adding: pdf/skema-Maths-K2-set-2.pdf (deflated 9%)\n",
      "  adding: pdf/DPK-2.0-KSSM-PRINSIP-PERAKAUNAN-T5_.pdf (deflated 30%)\n",
      "  adding: pdf/BM-1-1-2.pdf (deflated 4%)\n",
      "  adding: pdf/DOKUMEN-PENJAJARAN-KURIKULUM-2.0_KSSM-BAHASA-ARAB-TINGKATAN-3.pdf (deflated 19%)\n",
      "  adding: pdf/FINAL_FORMAT-PENTAKSIRAN-DAN-PELAPORAN-SEKOLAH-RENDAH-BAGI-UJIAN-AKHIR-SESI-AKADEMIK.pdf (deflated 12%)\n"
     ]
    },
    {
     "name": "stdout",
     "output_type": "stream",
     "text": [
      "  adding: pdf/MODUL PdPR Matematik TAHUN 2.doc (deflated 1%)\n",
      "  adding: pdf/Arahan_Pengisian_Modul_Pengurusan_Institusi_Sistem_Bersepadu_KPM.pdf (deflated 18%)\n",
      "  adding: pdf/SET-3-MODUL-BM-KERTAS-1-CEMERLANG-Amanjaya.pdf (deflated 11%)\n",
      "  adding: pdf/SET-1-MODUL-PI-CEMERLANG.pdf (deflated 4%)\n",
      "  adding: pdf/SET-7-MODUL-BM-KERTAS-1-CEMERLANG.pdf (deflated 6%)\n",
      "  adding: pdf/Cerita-Kanak-kanak-Tiong-Melarikan-Kalung.pdf (deflated 3%)\n",
      "  adding: pdf/SAINS-TAMBAHAN-F5-DIJAJARKAN-2.0.pdf (deflated 16%)\n",
      "  adding: pdf/SPI22012PersatuanAgamaBukanIslam.pdf (deflated 4%)\n",
      "  adding: pdf/1.-PENDIDIKAN-MUZIK-TINGKATAN-5-SISIPAN-TINGKATAN-4.pdf (deflated 8%)\n",
      "  adding: pdf/Pertengahan-Tahun-2015-T2-DST.pdf (deflated 2%)\n",
      "  adding: pdf/Perkhidmatan-Kesihatan-Sekolah.pdf (deflated 20%)\n",
      "  adding: pdf/SET-3-CEMERLANG-ISOMETRI-GKT.pdf (deflated 4%)\n",
      "  adding: pdf/Borang-PBB-4-Notis-kebenaran-majikan.pdf (deflated 2%)\n",
      "  adding: pdf/tambah-1-10-set-4.pdf (deflated 9%)\n",
      "  adding: pdf/02_DPK-2.0-Bahasa-Melayu-SJK-Tahun-5.pdf (deflated 24%)\n",
      "  adding: pdf/SKEMA-SET-6-BM-KERTAS-2.pdf (deflated 6%)\n",
      "  adding: pdf/31122021d.pdf (deflated 11%)\n",
      "  adding: pdf/DPK-2.0-KSSM-Bahasa-Semai-Tingkatan-5_.pdf (deflated 29%)\n",
      "  adding: pdf/buku-kisah-1001-malam-abu-nawas-sang-penggeli-hati-rahimsyah.pdf (deflated 12%)\n",
      "  adding: pdf/BORANG_PERMOHONAN_JKM_18.pdf (deflated 8%)\n",
      "  adding: pdf/Penjajaran-2.0-Fizik-Tingkatan-5.pdf (deflated 13%)\n",
      "  adding: pdf/Penjajaran-KSSM-Pendidikan-Islam-Tingkatan-1-2.0-latest.pdf (deflated 21%)\n",
      "  adding: pdf/Dokumen-Penjajaran-Kurikulum-2.0-KSSR-Semakan-2017-Sains-Tahun-2.pdf (deflated 23%)\n",
      "  adding: pdf/03_IKLAN_PPC.pdf (stored 0%)\n",
      "  adding: pdf/Bahasa-Iban-KSSR-semakan-Tahun-3.pdf (deflated 28%)\n",
      "  adding: pdf/Manual%20SPRN%202.0%20Pengguna%20Ver1.1.pdf (deflated 9%)\n",
      "  adding: pdf/pulau aur.pdf (deflated 62%)\n",
      "  adding: pdf/06_DPK-2.0-Bahasa-Tamil-SJKT-Tahun-3.pdf (deflated 24%)\n",
      "  adding: pdf/10_DPK_Bahasa-Arab-KSSR-Tahun-5-Edisi-2.pdf (deflated 27%)\n",
      "  adding: pdf/iklan-pembantu-tadika---20211.pdf (stored 0%)\n",
      "  adding: pdf/06_JADUAL_IMSAKIAH_-_NEGERI_SEMBILAN_-_1444H_2023M.pdf (deflated 15%)\n",
      "  adding: pdf/3_PENJAJARAN-PENDIDIKAN-ISLAM-TAHUN-2-2.0.pdf (deflated 10%)\n",
      "  adding: pdf/SET-1-PM-CEMERLANG.pdf (deflated 7%)\n",
      "  adding: pdf/08_JADUAL_IMSAKIAH_-_SELANGOR_-_1444H_2023M-latest.pdf (deflated 15%)\n",
      "  adding: pdf/senarai-semak-biasiswa-isentif-khas-mesir.pdf (deflated 7%)\n",
      "  adding: pdf/Bab 5b TB Fizik Tg4.pdf (deflated 29%)\n",
      "  adding: pdf/Biologi-K1-Model-Berfokus-SPM-Pulau-Pinang-2022.pdf (deflated 14%)\n",
      "  adding: pdf/bahasa-melayu-1.pdf (deflated 6%)\n",
      "  adding: pdf/02_DPK-2.0-Bahasa-Melayu-SJK-Tahun-6.pdf (deflated 24%)\n",
      "  adding: pdf/Lubok Antu.pdf (deflated 62%)\n",
      "  adding: pdf/IKLAN-SPA9_PG-KKM-PegawaiSainsGredC41_(Mikrobiologi).pdf (deflated 14%)\n",
      "  adding: pdf/IKLAN-SPA9_PG-KKM-PegawaiPenyelidikGredQ41.pdf (deflated 16%)\n",
      "  adding: pdf/AM-SEL-Set-1-Kertas-2-Soalan.pdf (deflated 8%)\n",
      "  adding: pdf/Dokumen-Penjajaran-2.0-PJPK-Tahun-3.pdf (deflated 22%)\n",
      "  adding: pdf/CONTOH-VITAE-KURIKULUM.pdf (deflated 8%)\n",
      "  adding: pdf/B2 BT Fizik Tg4.pdf (deflated 23%)\n",
      "  adding: pdf/JKM%2018%20BORANG%20PERMOHONAN%20BANTUAN(2).pdf (deflated 8%)\n",
      "  adding: pdf/BA-SET1-cemerlang-gabung.pdf (deflated 9%)\n",
      "  adding: pdf/YKLK-Scholarship-Application-Form-2020-21.06.20.pdf (deflated 28%)\n",
      "  adding: pdf/Dokumen-Penjajaran-Kurikulum-2.0-KSSR-Semakan-2017-Sains-Tahun-3.pdf (deflated 26%)\n",
      "  adding: pdf/PINJAMAN-PROGRAM-KHAS-1.pdf (deflated 28%)\n",
      "  adding: pdf/Pengurusan-Perkhidmatan-Bimbingan-dan-Kaunseling-Sekolah.pdf (deflated 20%)\n",
      "  adding: pdf/BC-7-CE-2.pdf (deflated 2%)\n",
      "  adding: pdf/Gua Musang.pdf (deflated 62%)\n",
      "  adding: pdf/PP_-BI-_Set-1_K2.pdf (deflated 3%)\n",
      "  adding: pdf/Dokumen-Penjajaran-Kurikulum-PSI-Ting.-5-2021.pdf (deflated 14%)\n",
      "  adding: pdf/MODUL PdPR Matematik TAHUN 4.pdf (deflated 30%)\n",
      "  adding: pdf/SKEMA-SET-2-MODUL-BM-KERTAS-2-Amanjaya.pdf (deflated 13%)\n",
      "  adding: pdf/PRASEK_RPT_SEMAKAN_TUNJANG_SAINS_DAN_TEKNOLOGI_–_MATEMATIK_AWAL.pdf (deflated 4%)\n",
      "  adding: pdf/DPK-KSSM-KT-Tingkatan-5.pdf (deflated 20%)\n",
      "  adding: pdf/92347061-Laporan-Koko-Persatuan-Agama-Islam.pdf (deflated 4%)\n",
      "  adding: pdf/AM-SEL-Set-1-Kertas-2-Jawaban.pdf (deflated 11%)\n",
      "  adding: pdf/Melaka-Skema-Matematik-K2-Trial-SPM-2020.pdf (deflated 24%)\n",
      "  adding: pdf/IKLAN-SPA9_PG-JPM-MAFI-PenolongPegawaiPertanianGredG29.pdf (deflated 13%)\n",
      "  adding: pdf/SOP-PKP-Selangor-Kemaskini-05052021.pdf (stored 0%)\n",
      "  adding: pdf/Manual_e-jawatan_pengguna.pdf (deflated 55%)\n",
      "  adding: pdf/DPK-2.0-KSSM-Bahasa-Cina-Komunikasi-Tingkatan-1_.pdf (deflated 24%)\n",
      "  adding: pdf/Bahasa-Iban-KSSR-Semakan-Tahun-1.pdf (deflated 23%)\n",
      "  adding: pdf/COVID-19-VAW-full-text.pdf (stored 0%)\n",
      "  adding: pdf/JOHOR-SKEMA-KERTAS-1-SET-1-MPSM-2020.pdf (deflated 7%)\n",
      "  adding: pdf/5.-PENDIDIKAN-MUZIK-TAHUN-5-2.0-KSSR-SEMAKAN-2017.pdf (deflated 15%)\n",
      "  adding: pdf/micro.pdf (deflated 10%)\n",
      "  adding: pdf/Lampiran%201%20-%20Senarai%20Bidang%20TVET%20dan%20PBA.pdf (deflated 9%)\n",
      "  adding: pdf/DPK-2.0-LAM_TING2.pdf (deflated 15%)\n",
      "  adding: pdf/DASAR_RUMAH_SELANGORKU_2.0_.pdf (deflated 33%)\n",
      "  adding: pdf/Kudat.pdf (deflated 62%)\n",
      "  adding: pdf/Bahasa-Iban-KSSR-Tahun-6.pdf (deflated 33%)\n",
      "  adding: pdf/iklan_jaw_apr_24.pdf (deflated 14%)\n",
      "  adding: pdf/senarai-semak-bantuan-perubatan.pdf (deflated 33%)\n",
      "  adding: pdf/Lenggong.pdf (deflated 62%)\n",
      "  adding: pdf/DPK-2.0-KSSM-Bahasa-Cina-Komunikasi-Tingkatan-4.pdf (deflated 34%)\n",
      "  adding: pdf/Genting Sempah.pdf (deflated 62%)\n",
      "  adding: pdf/Poster-Lukisan-Sekolah-Menengah.pdf (deflated 0%)\n",
      "  adding: pdf/SET-4-CEMERLANG-ADDMATH.pdf (deflated 5%)\n",
      "  adding: pdf/Program-Kesihatan-Sekolah.pdf (deflated 17%)\n",
      "  adding: pdf/GarisPanduan-v1.1.pdf (deflated 10%)\n",
      "  adding: pdf/Kenyataan-Media-PMO-Pelaksanaan-Total-Lockdown-1.pdf (deflated 9%)\n",
      "  adding: pdf/Biologi-Ting-5_DIJAJARKAN.pdf (deflated 27%)\n",
      "  adding: pdf/kupdf.net_muet-speaking-past-year-questions-1.pdf (deflated 16%)\n",
      "  adding: pdf/3.-PENDIDIKAN-MUZIK-TINGKATAN-3.pdf (deflated 16%)\n",
      "  adding: pdf/SET-5-CEMERLANG-ADDMATH.pdf (deflated 8%)\n",
      "  adding: pdf/DPK-2.0-KSSM-Bahasa-Kadazandusun-Tingkatan-1_.pdf (deflated 24%)\n",
      "  adding: pdf/writing-test-compilation-1.pdf (deflated 2%)\n",
      "  adding: pdf/iklan-jawatan-kosong-n17-25052022-08062022.pdf (deflated 57%)\n",
      "  adding: pdf/TEKS%20UCAPAN%20YAB%20PM-KEMUDAHAN%20BAGI%20INDIVIDU%20YANG%20TELAH%20TERIMA%20VAKSIN%20LENGKAP.pdf (stored 0%)\n",
      "  adding: pdf/DPK-2.0-PMORAL-TINGKATAN-5-SISIPAN_.pdf (deflated 31%)\n",
      "  adding: pdf/PRASEK_RPT-SEMAKAN-KREATIVITI-DAN-ESTETIKA.pdf (deflated 9%)\n",
      "  adding: pdf/Cerita-Kanak-kanak-Belalang-Dan-Semut.pdf (deflated 2%)\n",
      "  adding: pdf/6SOLAT-SUNAT.pdf (deflated 6%)\n",
      "  adding: pdf/iklan.pdf (deflated 13%)\n",
      "  adding: pdf/Teks-Perutusan-YAB-PM-PEMULIH-Final.pdf (deflated 7%)\n",
      "  adding: pdf/2022-feb-EKSEKUTIFGRED_PP6-pemb.pdf (deflated 58%)\n",
      "  adding: pdf/PERLIS-JAWAPAN-2020-K2.pdf (deflated 11%)\n",
      "  adding: pdf/Trial-Selangor-Skema-K1-2020.pdf (deflated 3%)\n",
      "  adding: pdf/DPK-2.0-KSSM-Bahasa-Cina-Komunikasi-Tingkatan-2_.pdf (deflated 24%)\n",
      "  adding: pdf/Poster-Lukisan-Sekolah-Rendah.pdf (deflated 9%)\n",
      "  adding: pdf/IKLAN-SPA9_PG-KKM_PegawaiFarmasiGredUF41.pdf (deflated 10%)\n",
      "  adding: pdf/01_DPK-2.0-Bahasa-Melayu-SK-Tahun-3.pdf (deflated 25%)\n",
      "  adding: pdf/PP_-BI-_Set-1_K1.pdf (deflated 3%)\n",
      "  adding: pdf/PENYERTAAN-DALAM-AKTIVITI-PPB.pdf (deflated 7%)\n",
      "  adding: pdf/SPMRSM-2020-English-Paper-1-_-2-Answer-Scheme.pdf (deflated 1%)\n",
      "  adding: pdf/PEN-SET-2-K2-SOALAN.pdf (deflated 10%)\n",
      "  adding: pdf/JOHOR-SET-1-KERTAS-2-MPSM-2020.pdf (deflated 11%)\n",
      "  adding: pdf/TER-SET-1-K2-SOALAN.pdf (deflated 13%)\n",
      "  adding: pdf/upp2-pend-kesihatan-t2-1.pdf (deflated 3%)\n",
      "  adding: pdf/JKM20_2016.pdf (deflated 3%)\n",
      "  adding: pdf/SOP_Am_Perintah_Kawalan_Pergerakan_22Mei2021.pdf (deflated 24%)\n",
      "  adding: pdf/DPK-2.0-KSSM-Bahasa-Kadazandusun-Tingkatan-3_.pdf (deflated 24%)\n",
      "  adding: pdf/DPK2.0-Asas-Sains-Komputer-Tkt-1.pdf (deflated 33%)\n",
      "  adding: pdf/Pegawai%20Penyelidik%20Gred%20Q41.pdf (stored 0%)\n",
      "  adding: pdf/5_6106883091874185833.pdf (deflated 6%)\n",
      "  adding: pdf/7_PENJAJARAN-PENDIDIKAN-ISLAM-TAHUN-4-2.0.pdf (deflated 12%)\n",
      "  adding: pdf/KIT-PROGRAM-TRANSISI-MURID-TAHUN-1-8-JANUARI.pdf (deflated 6%)\n",
      "  adding: pdf/BC-5-CE-2.pdf (deflated 2%)\n",
      "  adding: pdf/writing-test-compilation.pdf (deflated 2%)\n"
     ]
    },
    {
     "name": "stdout",
     "output_type": "stream",
     "text": [
      "  adding: pdf/Skema-Bahasa-Inggeris-K1-Trial-SPM-Batu-Pahat-Johor-2020.pdf (deflated 17%)\n",
      "  adding: pdf/IKLAN_JURUTEKNIK_KOMPUTER.pdf (deflated 27%)\n",
      "  adding: pdf/Minit-Mesyuarat-Kurikulum-Kali-Kedua.pdf (deflated 10%)\n",
      "  adding: pdf/DOKUMEN-PENJAJARAN-KURIKULUM-2.0_KSSM-TURATH-BAHASA-ARAB-TINGKATAN-5.pdf (deflated 23%)\n",
      "  adding: pdf/iklan-jawatan-kosong-dk45-dk51-25052022-08062022.pdf (deflated 57%)\n",
      "  adding: pdf/SenaraiWakilPenjual.pdf (stored 0%)\n",
      "  adding: pdf/Arahan_dan_Panduan_Pendaftaran_Calon_MUET_2021_-_Portal_versi_pdf_822021.pdf (deflated 12%)\n",
      "  adding: pdf/INSTRUMEN-LAPORAN-GURU-BERTUGAS.doc.pdf (deflated 7%)\n",
      "  adding: pdf/Dokumen-Penjajaran-2.0-PJPK-Tahun-2.pdf (deflated 21%)\n",
      "  adding: pdf/SKIM_BANTUAN_MEMBAIKI__MEMBINA_RUMAH.pdf (deflated 15%)\n",
      "  adding: pdf/Biologi-K1-Trial-Kedah-2022.pdf (deflated 17%)\n",
      "  adding: pdf/1_PENJAJARAN-PENDIDIKAN-ISLAM-TAHUN-1-2.0.pdf (deflated 12%)\n",
      "  adding: pdf/Borang_Permohonan_Jawatan_Pentadbiran_Bil_3_Tahun_2023.pdf (deflated 27%)\n",
      "  adding: pdf/UAT-Pend-Islam-Tingkatna-4-K1.pdf (deflated 18%)\n",
      "  adding: pdf/IKLAN-Jawatan-Kosong-18.6.2023.pdf (deflated 11%)\n",
      "  adding: pdf/UAT-Matematik-Tambahan-Tingkatan-4-k2.pdf (deflated 20%)\n",
      "  adding: pdf/Minit-Mesyuarat-Unit-HEM.pdf (deflated 15%)\n",
      "  adding: pdf/Cerita-Kanak-kanak-Pokok-Bunga-Misteri.pdf (deflated 3%)\n",
      "  adding: pdf/FAQ%20Permohonan%20MRSM%202024.pdf (deflated 4%)\n",
      "  adding: pdf/Bantuan_Khas_COVID19_lampiran_c.pdf (deflated 5%)\n",
      "  adding: pdf/TRG-5_kertas-1.pdf (deflated 13%)\n",
      "  adding: pdf/Matematik tingkatan 5 KBSM.pdf (deflated 6%)\n",
      "  adding: pdf/BA-SET6-cemerlang-gabung.pdf (deflated 7%)\n",
      "  adding: pdf/5_6186047615541444984.pdf (deflated 12%)\n",
      "  adding: pdf/Iklan-N41.pdf (deflated 40%)\n",
      "  adding: pdf/BAB 25.pdf (deflated 13%)\n",
      "  adding: pdf/Biologi-Ting-5-sisipan-DIJAJARKAN.pdf (deflated 29%)\n",
      "  adding: pdf/Perlembagaan-Pendidikan-Kelab-Seni-Visual.pdf (deflated 20%)\n",
      "  adding: pdf/JOHOR-SKEMA-KERTAS-2-SET-1-MPSM-2020.pdf (deflated 5%)\n",
      "  adding: pdf/FAIL-MEJA-PENOLONG-KANAN-KOKURIKULUM.pdf (deflated 26%)\n",
      "  adding: pdf/IKLAN_PISMP_UEC_SMA_SMU.pdf (deflated 6%)\n",
      "  adding: pdf/mm-T.P-KELATAN-SET-1-K2-SOALAN.pdf (deflated 5%)\n",
      "  adding: pdf/Pergerakan-Puteri-Islam-Malaysia.pdf (deflated 2%)\n",
      "  adding: pdf/PEMBANTU_PENTADBIRAN_GRED_PP8.pdf (deflated 58%)\n",
      "  adding: pdf/1-Skema-Percubaan-Terengganu-Matematik-SPM-2020.pdf (deflated 22%)\n",
      "  adding: pdf/1.pdf (deflated 19%)\n",
      "  adding: pdf/sepak-takraw-sekolah-rendah.pdf (deflated 28%)\n",
      "  adding: pdf/2_DPK_Bahasa-Arab-KSSR-Tahun-1-Edisi-2.pdf (deflated 32%)\n",
      "  adding: pdf/JOHOR-SKEMA-KERTAS-2-SET-2-MPSM-2020.pdf (deflated 6%)\n",
      "  adding: pdf/Selama.pdf (deflated 62%)\n",
      "  adding: pdf/MANUAL-SISTEM-IBANTUAN.pdf (deflated 9%)\n",
      "  adding: pdf/Panduan%20Menggunakan%20Pengimbas.pdf (deflated 10%)\n",
      "  adding: pdf/muet-2011-sesi-1.pdf (deflated 5%)\n",
      "  adding: pdf/4_DPK_Bahasa-Arab-KSSR-Tahun-2-Edisi-2-1.pdf (deflated 30%)\n",
      "  adding: pdf/DPK_KSSM_PENDIDIKAN-AL-QURAN-DAN-AL-SUNNAH_TINGKATAN-4.pdf (deflated 23%)\n",
      "  adding: pdf/1.-PENDIDIKAN-MUZIK-TAHUN-1-2.0-KSSR-SEMAKAN-2017.pdf (deflated 16%)\n",
      "  adding: pdf/Image-to-PDF-20220331-18.24.26.pdf (deflated 6%)\n",
      "  adding: pdf/perlembagaan-sains-matematik.pdf (deflated 7%)\n",
      "  adding: pdf/FAIL-MEJA-GURU-MATA-PELAJARAN.pdf (deflated 23%)\n",
      "  adding: pdf/CONTOH-PENULISAN-SASARAN-KEBERHASILAN.pdf (deflated 31%)\n",
      "  adding: pdf/Jawatan Kosong MARDI dan Borang Permohonan.pdf (deflated 7%)\n",
      "  adding: pdf/20_DPK-2.0-Bahasa-Semai-Tahun-6.pdf (deflated 19%)\n",
      "  adding: pdf/DPK-KSSM-BT-Tingkatan-3.pdf (deflated 19%)\n",
      "  adding: pdf/PANDUAN_BISPEN_2021_LATEST.pdf (deflated 87%)\n",
      "  adding: pdf/300602015-Perlembagaan-Persatuan-Agama-Islam.pdf (deflated 3%)\n",
      "  adding: pdf/IKLAN_PENGARAH_DAN_TIMBALAN_PENGARAH_HPUniSZA.pdf (deflated 35%)\n",
      "  adding: pdf/SET-6-MODUL-BM-KERTAS-1-CEMERLANG.pdf (deflated 14%)\n",
      "  adding: pdf/Contoh-Kertas-Kerja-1.pdf (deflated 7%)\n",
      "  adding: pdf/Pelan-tindakan-jerebu-ptjk.pdf (deflated 10%)\n",
      "  adding: pdf/SKIM_BANTUAN_GUAMAN_SYARIE.pdf (deflated 15%)\n",
      "  adding: pdf/DPK-2.0-KSSM-Bahasa-Perancis-Tingkatan-3_.pdf (deflated 21%)\n",
      "  adding: pdf/Minit-Mesyuarat-Kokurikulum-Kali-Pertama.pdf (deflated 13%)\n",
      "  adding: pdf/borangsmue2021.pdf (deflated 30%)\n",
      "  adding: pdf/PERLIS-MATEMATIK-K1-PERCUBAAN-2020.pdf (deflated 10%)\n",
      "  adding: pdf/BORANG-PEMANTAUAN-DISIPLIN-PELAJAR.docx.pdf (deflated 8%)\n",
      "  adding: pdf/Bukit Larut.pdf (deflated 62%)\n",
      "  adding: pdf/IKLAN%20TEMUDUGA%20TERBUKA%20MYSTEP-1678755348.pdf (deflated 20%)\n",
      "  adding: pdf/Divider-Fail-RPH-2021-Negeri-Kumpulan-A.pdf (deflated 29%)\n",
      "  adding: pdf/GARIS_PANDUAN__BORANG_BANTUAN_KHAS_KEMATIAN_1272021.pdf (deflated 4%)\n",
      "  adding: pdf/DPK-2.0-Matematik-Tambahan-Ting-5-Sisipan.pdf (deflated 16%)\n",
      "  adding: pdf/BT-SPM-SET-4-Modul-CEMERLANG-AmanJaya.pdf (deflated 5%)\n",
      "  adding: pdf/16_DPK-2.0-Bahasa-Cina-SK-Tahun-5.pdf (deflated 17%)\n",
      "  adding: pdf/PENYELARAS-2023.pdf (deflated 17%)\n",
      "  adding: pdf/SKOP-KERJA.pdf (deflated 25%)\n",
      "  adding: pdf/Serian.pdf (deflated 62%)\n",
      "  adding: pdf/SAMPLE_QUESTIONS.pdf (deflated 8%)\n",
      "  adding: pdf/11_PENJAJARAN-PENDIDIKAN-ISLAM-TAHUN-6-2.0.pdf (deflated 12%)\n",
      "  adding: pdf/PENJAJARAN-DSKP-KSSM-MAHARAT-AL-QURAN-T4-EDISI-2-compressed.pdf (deflated 11%)\n",
      "  adding: pdf/TER-SET-1-K1-SOALAN.pdf (deflated 5%)\n",
      "  adding: pdf/PROGRAM KEMBALI KE SEKOLAH 2023.pdf (deflated 23%)\n",
      "  adding: pdf/DPK-2.0-SAINS-F2_.pdf (deflated 31%)\n",
      "  adding: pdf/Mesyuarat-HEM-Kali-Pertama-1.pdf (deflated 11%)\n",
      "  adding: pdf/SR243.pdf (deflated 15%)\n",
      "  adding: pdf/Asas-menulis-nombor-3-.pdf (deflated 17%)\n",
      "  adding: pdf/12_DPK_Bahasa-Arab-KSSR-Tahun-6-Edisi-2-1.pdf (deflated 32%)\n",
      "  adding: pdf/tambah-1-20-set-2.pdf (deflated 11%)\n",
      "  adding: pdf/Edit_DPK-2.0-Bahasa-Inggeris-SJK-Tahun-1-2.pdf (deflated 19%)\n",
      "  adding: pdf/IKLAN-SPKU-29-TEKNOLOGI-MAKLUMAT_PPKP.pdf (deflated 40%)\n",
      "  adding: pdf/upt-pai-tahun-2.pdf (deflated 8%)\n",
      "  adding: pdf/BAB 18.pdf (deflated 12%)\n",
      "  adding: pdf/Manual-PAJSK-Guru-Penolong-Kanan-Kokurikulum.pdf (deflated 7%)\n",
      "  adding: pdf/JOHOR.pdf (deflated 40%)\n",
      "  adding: pdf/2Dokumen-Penjajaran-Kurikulum-2.0-Tingkatan-2.pdf (deflated 24%)\n",
      "  adding: pdf/IKLAN-JKPJ-2021.pdf (deflated 5%)\n",
      "  adding: pdf/muet-listening-PART-III.pdf (deflated 5%)\n",
      "  adding: pdf/JKM%2020%20BORANG%20KAJI%20SEMULA%20BANTUAN(6).pdf (deflated 3%)\n",
      "  adding: pdf/Sibu.pdf (deflated 62%)\n",
      "  adding: pdf/tolak-prasekolah.pdf (deflated 18%)\n",
      "  adding: pdf/JKM%2020%20BORANG%20KAJI%20SEMULA%20BANTUAN(1).pdf (deflated 3%)\n",
      "  adding: pdf/garispanduanpengisianipt.pdf (deflated 15%)\n",
      "  adding: pdf/Prinsip Perakaunan F4 .pdf (deflated 3%)\n",
      "  adding: pdf/PERLIS-JAWAPAN-2020-K1.pdf (deflated 4%)\n",
      "  adding: pdf/MODUL PdPR BI TAHUN 2 UNIT 6 THE OLD HOUSE.pdf (deflated 5%)\n",
      "  adding: pdf/KSSRPK-Tahun-1.pdf (deflated 27%)\n",
      "  adding: pdf/Answer-Scheme-Kelantan-Trial-2020.pdf (deflated 11%)\n",
      "  adding: pdf/04_DPK-2.0-Bahasa-Inggeris-SJK-Tahun-4_.pdf (deflated 24%)\n",
      "  adding: pdf/B4 BT Fizik Tg4.pdf (deflated 37%)\n",
      "  adding: pdf/SET-6-MC-TASAWWUR-ISLAM.pdf (deflated 40%)\n",
      "  adding: pdf/bola-keranjang-sm.pdf (deflated 34%)\n",
      "  adding: pdf/Pasukan-Kadet-Remaja-Sekolah.pdf (deflated 10%)\n",
      "  adding: pdf/Langkawi.pdf (deflated 62%)\n",
      "  adding: pdf/anggota-badan.pdf (deflated 7%)\n",
      "  adding: pdf/PEGAWAI%20TEKNOLOGI%20MAKLUMAT%20GRED%20F41.pdf (deflated 20%)\n",
      "  adding: pdf/3.-2Dokumen-Penjajaran-Kurikulum-2.0-KSSR-Semakan-2017-Pendidikan-Seni-Visual-Tahun-3.pdf (deflated 30%)\n",
      "  adding: pdf/DPK-Al-Syariah-Tingkatan-1.pdf (deflated 15%)\n",
      "  adding: pdf/sofbol.pdf (deflated 18%)\n",
      "  adding: pdf/buku-panduan-pengurusan-aktiviti-kokurikulum-sekolah-rendah-dan-sekolah-menengah-1.pdf (deflated 5%)\n",
      "  adding: pdf/tambah-1-5.pdf (deflated 18%)\n",
      "  adding: pdf/SET-3-MC-TASAWWUR-ISLAM.pdf (deflated 52%)\n",
      "  adding: pdf/bm-1-1.pdf (deflated 12%)\n",
      "  adding: pdf/skema-bahasa-melayu-1.pdf (deflated 10%)\n",
      "  adding: pdf/4-PENJAJARAN-KURIKULUM-KSSM-MPEI_SAINS-RUMAH-TANGGA_TINGKATAN-5.pdf (deflated 9%)\n",
      "  adding: pdf/BT-SPM-SET-2-Modul-CEMERLANG-AmanJaya.pdf (deflated 5%)\n",
      "  adding: pdf/5.-Dokumen-Penjajaran-Kurikulum-2.0-KSSR-Semakan-2017-Pendidikan-Seni-Visual-Tahun-5.pdf (deflated 26%)\n",
      "  adding: pdf/borangikpp.pdf (deflated 4%)\n",
      "  adding: pdf/Borang12.pdf (deflated 27%)\n",
      "  adding: pdf/BORANG-PENILAIAN-MAKLUM-BALAS-DARI-MURID.pdf (deflated 45%)\n"
     ]
    },
    {
     "name": "stdout",
     "output_type": "stream",
     "text": [
      "  adding: pdf/NOTA-PANDUAN-PPT-12Jan.pdf (deflated 9%)\n",
      "  adding: pdf/Skema-Bahasa-Inggeris-K2-Trial-SPM-Batu-Pahat-Johor-2020.pdf (deflated 18%)\n",
      "  adding: pdf/BORANG-PENILAIAN-PROGRAM-LATIHAN-DALAM-PERKHIDMATAN-LDP-SCHOOL-BASED.doc.pdf (deflated 6%)\n",
      "  adding: pdf/SABAH.pdf (deflated 40%)\n",
      "  adding: pdf/Contoh Minit Mesyuarat.docx (deflated 11%)\n",
      "  adding: pdf/Zon Khas (Kampung Patarikan.pdf (deflated 62%)\n",
      "  adding: pdf/SENARAI-SEMAK-17-PERKARA-FAIL-SU-PEPERIKSAAN-AWAM.docx.pdf (deflated 6%)\n"
     ]
    }
   ],
   "source": [
    "!zip -r tcer.my-df.zip pdf"
   ]
  },
  {
   "cell_type": "code",
   "execution_count": 15,
   "metadata": {},
   "outputs": [
    {
     "data": {
      "text/plain": [
       "1419"
      ]
     },
     "execution_count": 15,
     "metadata": {},
     "output_type": "execute_result"
    }
   ],
   "source": [
    "files = glob('pdf/*')\n",
    "len(files)"
   ]
  },
  {
   "cell_type": "code",
   "execution_count": 16,
   "metadata": {},
   "outputs": [],
   "source": [
    "import requests\n",
    "from bs4 import BeautifulSoup\n",
    "from tqdm import tqdm\n",
    "import os\n",
    "import json\n",
    "import numpy as np\n",
    "import time\n",
    "import random\n",
    "import json\n",
    "from concurrent.futures import ThreadPoolExecutor, as_completed\n",
    "from datetime import datetime, timedelta\n",
    "from tika import parser\n",
    "from bs4.element import Comment\n",
    "from bs4 import BeautifulSoup\n",
    "from glob import glob"
   ]
  },
  {
   "cell_type": "code",
   "execution_count": 17,
   "metadata": {},
   "outputs": [],
   "source": [
    "TIKA_HOST = 'http://localhost:9998'\n",
    "\n",
    "def tag_visible(element):\n",
    "    if element.parent.name in ['style', 'script', 'head', 'title', 'meta', '[document]']:\n",
    "        return False\n",
    "    if isinstance(element, Comment):\n",
    "        return False\n",
    "    return True\n",
    "\n",
    "\n",
    "def text_from_html(body, is_html=True):\n",
    "    if is_html:\n",
    "        soup = BeautifulSoup(body, 'html.parser')\n",
    "    else:\n",
    "        soup = body\n",
    "    texts = soup.findAll(text=True)\n",
    "    visible_texts = filter(tag_visible, texts)\n",
    "    return '\\n'.join(t.strip() for t in visible_texts).strip()\n",
    "\n",
    "\n",
    "def parse_tika(file, minlen=2):\n",
    "    raw_xml = parser.from_file(file, TIKA_HOST, xmlContent=True, requestOptions = {'timeout': 3600})\n",
    "    body = BeautifulSoup(raw_xml['content']).find('body')\n",
    "    t = []\n",
    "    for b in body:\n",
    "        try:\n",
    "            t_ = text_from_html(b, is_html=False)\n",
    "            if len(t_) > minlen:\n",
    "                t.append(t_)\n",
    "        except Exception as e:\n",
    "            pass\n",
    "    \n",
    "    return t"
   ]
  },
  {
   "cell_type": "code",
   "execution_count": 18,
   "metadata": {},
   "outputs": [
    {
     "name": "stderr",
     "output_type": "stream",
     "text": [
      "  1%|▌                                                                                                           | 8/1419 [00:00<00:58, 23.92it/s]"
     ]
    },
    {
     "name": "stdout",
     "output_type": "stream",
     "text": [
      "object of type 'NoneType' has no len()\n",
      "object of type 'NoneType' has no len()\n",
      "object of type 'NoneType' has no len()\n"
     ]
    },
    {
     "name": "stderr",
     "output_type": "stream",
     "text": [
      "  1%|█▎                                                                                                         | 17/1419 [00:00<01:08, 20.56it/s]"
     ]
    },
    {
     "name": "stdout",
     "output_type": "stream",
     "text": [
      "object of type 'NoneType' has no len()\n"
     ]
    },
    {
     "name": "stderr",
     "output_type": "stream",
     "text": [
      "  5%|█████▌                                                                                                     | 74/1419 [00:04<01:05, 20.69it/s]"
     ]
    },
    {
     "name": "stdout",
     "output_type": "stream",
     "text": [
      "object of type 'NoneType' has no len()\n"
     ]
    },
    {
     "name": "stderr",
     "output_type": "stream",
     "text": [
      "  7%|███████▍                                                                                                   | 98/1419 [00:05<00:57, 22.88it/s]"
     ]
    },
    {
     "name": "stdout",
     "output_type": "stream",
     "text": [
      "object of type 'NoneType' has no len()\n",
      "object of type 'NoneType' has no len()\n"
     ]
    },
    {
     "name": "stderr",
     "output_type": "stream",
     "text": [
      " 10%|██████████▍                                                                                               | 140/1419 [00:10<01:20, 15.98it/s]"
     ]
    },
    {
     "name": "stdout",
     "output_type": "stream",
     "text": [
      "object of type 'NoneType' has no len()\n"
     ]
    },
    {
     "name": "stderr",
     "output_type": "stream",
     "text": [
      " 12%|████████████▎                                                                                             | 165/1419 [00:16<09:41,  2.16it/s]"
     ]
    },
    {
     "name": "stdout",
     "output_type": "stream",
     "text": [
      "object of type 'NoneType' has no len()\n"
     ]
    },
    {
     "name": "stderr",
     "output_type": "stream",
     "text": [
      " 14%|██████████████▋                                                                                           | 197/1419 [00:23<04:41,  4.35it/s]"
     ]
    },
    {
     "name": "stdout",
     "output_type": "stream",
     "text": [
      "object of type 'NoneType' has no len()\n"
     ]
    },
    {
     "name": "stderr",
     "output_type": "stream",
     "text": [
      " 16%|████████████████▍                                                                                         | 220/1419 [00:25<01:41, 11.76it/s]"
     ]
    },
    {
     "name": "stdout",
     "output_type": "stream",
     "text": [
      "object of type 'NoneType' has no len()\n",
      "object of type 'NoneType' has no len()\n"
     ]
    },
    {
     "name": "stderr",
     "output_type": "stream",
     "text": [
      " 16%|█████████████████▎                                                                                        | 232/1419 [00:26<01:04, 18.46it/s]"
     ]
    },
    {
     "name": "stdout",
     "output_type": "stream",
     "text": [
      "object of type 'NoneType' has no len()\n"
     ]
    },
    {
     "name": "stderr",
     "output_type": "stream",
     "text": [
      "\r",
      " 17%|█████████████████▌                                                                                        | 235/1419 [00:26<00:59, 19.74it/s]"
     ]
    },
    {
     "name": "stdout",
     "output_type": "stream",
     "text": [
      "object of type 'NoneType' has no len()\n"
     ]
    },
    {
     "name": "stderr",
     "output_type": "stream",
     "text": [
      " 17%|██████████████████▏                                                                                       | 243/1419 [00:27<00:55, 21.36it/s]"
     ]
    },
    {
     "name": "stdout",
     "output_type": "stream",
     "text": [
      "object of type 'NoneType' has no len()\n"
     ]
    },
    {
     "name": "stderr",
     "output_type": "stream",
     "text": [
      " 18%|██████████████████▌                                                                                       | 249/1419 [00:28<01:58,  9.88it/s]"
     ]
    },
    {
     "name": "stdout",
     "output_type": "stream",
     "text": [
      "object of type 'NoneType' has no len()\n"
     ]
    },
    {
     "name": "stderr",
     "output_type": "stream",
     "text": [
      " 20%|████████████████████▉                                                                                     | 280/1419 [00:34<01:40, 11.29it/s]"
     ]
    },
    {
     "name": "stdout",
     "output_type": "stream",
     "text": [
      "object of type 'NoneType' has no len()\n",
      "object of type 'NoneType' has no len()\n"
     ]
    },
    {
     "name": "stderr",
     "output_type": "stream",
     "text": [
      " 23%|████████████████████████▉                                                                                 | 333/1419 [00:39<03:05,  5.85it/s]"
     ]
    },
    {
     "name": "stdout",
     "output_type": "stream",
     "text": [
      "object of type 'NoneType' has no len()\n"
     ]
    },
    {
     "name": "stderr",
     "output_type": "stream",
     "text": [
      " 26%|███████████████████████████▍                                                                              | 367/1419 [00:42<01:55,  9.08it/s]"
     ]
    },
    {
     "name": "stdout",
     "output_type": "stream",
     "text": [
      "object of type 'NoneType' has no len()\n"
     ]
    },
    {
     "name": "stderr",
     "output_type": "stream",
     "text": [
      " 28%|██████████████████████████████                                                                            | 402/1419 [00:44<00:56, 18.15it/s]"
     ]
    },
    {
     "name": "stdout",
     "output_type": "stream",
     "text": [
      "object of type 'NoneType' has no len()\n"
     ]
    },
    {
     "name": "stderr",
     "output_type": "stream",
     "text": [
      " 33%|███████████████████████████████████                                                                       | 469/1419 [00:49<00:56, 16.79it/s]"
     ]
    },
    {
     "name": "stdout",
     "output_type": "stream",
     "text": [
      "object of type 'NoneType' has no len()\n"
     ]
    },
    {
     "name": "stderr",
     "output_type": "stream",
     "text": [
      " 34%|████████████████████████████████████▍                                                                     | 487/1419 [00:51<00:50, 18.45it/s]"
     ]
    },
    {
     "name": "stdout",
     "output_type": "stream",
     "text": [
      "object of type 'NoneType' has no len()\n"
     ]
    },
    {
     "name": "stderr",
     "output_type": "stream",
     "text": [
      " 36%|█████████████████████████████████████▉                                                                    | 508/1419 [00:52<00:40, 22.28it/s]"
     ]
    },
    {
     "name": "stdout",
     "output_type": "stream",
     "text": [
      "object of type 'NoneType' has no len()\n",
      "object of type 'NoneType' has no len()\n",
      "object of type 'NoneType' has no len()\n"
     ]
    },
    {
     "name": "stderr",
     "output_type": "stream",
     "text": [
      " 38%|████████████████████████████████████████▍                                                                 | 541/1419 [00:54<00:44, 19.51it/s]"
     ]
    },
    {
     "name": "stdout",
     "output_type": "stream",
     "text": [
      "object of type 'NoneType' has no len()\n",
      "object of type 'NoneType' has no len()\n"
     ]
    },
    {
     "name": "stderr",
     "output_type": "stream",
     "text": [
      " 40%|██████████████████████████████████████████▌                                                               | 570/1419 [00:55<00:40, 21.13it/s]"
     ]
    },
    {
     "name": "stdout",
     "output_type": "stream",
     "text": [
      "object of type 'NoneType' has no len()\n"
     ]
    },
    {
     "name": "stderr",
     "output_type": "stream",
     "text": [
      " 41%|███████████████████████████████████████████▊                                                              | 587/1419 [00:56<00:24, 34.10it/s]"
     ]
    },
    {
     "name": "stdout",
     "output_type": "stream",
     "text": [
      "object of type 'NoneType' has no len()\n"
     ]
    },
    {
     "name": "stderr",
     "output_type": "stream",
     "text": [
      " 42%|█████████████████████████████████████████████                                                             | 603/1419 [00:56<00:30, 26.90it/s]"
     ]
    },
    {
     "name": "stdout",
     "output_type": "stream",
     "text": [
      "object of type 'NoneType' has no len()\n"
     ]
    },
    {
     "name": "stderr",
     "output_type": "stream",
     "text": [
      " 46%|████████████████████████████████████████████████▍                                                         | 649/1419 [01:03<01:46,  7.26it/s]"
     ]
    },
    {
     "name": "stdout",
     "output_type": "stream",
     "text": [
      "object of type 'NoneType' has no len()\n"
     ]
    },
    {
     "name": "stderr",
     "output_type": "stream",
     "text": [
      " 49%|███████████████████████████████████████████████████▊                                                      | 694/1419 [01:08<01:22,  8.84it/s]"
     ]
    },
    {
     "name": "stdout",
     "output_type": "stream",
     "text": [
      "object of type 'NoneType' has no len()\n",
      "object of type 'NoneType' has no len()\n"
     ]
    },
    {
     "name": "stderr",
     "output_type": "stream",
     "text": [
      " 51%|██████████████████████████████████████████████████████▏                                                   | 725/1419 [01:11<01:09, 10.05it/s]"
     ]
    },
    {
     "name": "stdout",
     "output_type": "stream",
     "text": [
      "object of type 'NoneType' has no len()\n"
     ]
    },
    {
     "name": "stderr",
     "output_type": "stream",
     "text": [
      " 53%|████████████████████████████████████████████████████████▏                                                 | 753/1419 [01:15<01:48,  6.15it/s]"
     ]
    },
    {
     "name": "stdout",
     "output_type": "stream",
     "text": [
      "object of type 'NoneType' has no len()\n",
      "object of type 'NoneType' has no len()\n"
     ]
    },
    {
     "name": "stderr",
     "output_type": "stream",
     "text": [
      " 61%|████████████████████████████████████████████████████████████████▍                                         | 862/1419 [01:27<00:42, 13.14it/s]"
     ]
    },
    {
     "name": "stdout",
     "output_type": "stream",
     "text": [
      "object of type 'NoneType' has no len()\n"
     ]
    },
    {
     "name": "stderr",
     "output_type": "stream",
     "text": [
      " 62%|█████████████████████████████████████████████████████████████████▋                                        | 880/1419 [01:28<00:25, 21.39it/s]"
     ]
    },
    {
     "name": "stdout",
     "output_type": "stream",
     "text": [
      "object of type 'NoneType' has no len()\n"
     ]
    },
    {
     "name": "stderr",
     "output_type": "stream",
     "text": [
      " 62%|██████████████████████████████████████████████████████████████████▏                                       | 886/1419 [01:28<00:29, 18.30it/s]"
     ]
    },
    {
     "name": "stdout",
     "output_type": "stream",
     "text": [
      "object of type 'NoneType' has no len()\n"
     ]
    },
    {
     "name": "stderr",
     "output_type": "stream",
     "text": [
      " 68%|███████████████████████████████████████████████████████████████████████▊                                  | 961/1419 [01:34<00:15, 30.07it/s]"
     ]
    },
    {
     "name": "stdout",
     "output_type": "stream",
     "text": [
      "object of type 'NoneType' has no len()\n"
     ]
    },
    {
     "name": "stderr",
     "output_type": "stream",
     "text": [
      " 69%|█████████████████████████████████████████████████████████████████████████▎                                | 981/1419 [01:36<00:36, 12.06it/s]"
     ]
    },
    {
     "name": "stdout",
     "output_type": "stream",
     "text": [
      "object of type 'NoneType' has no len()\n"
     ]
    },
    {
     "name": "stderr",
     "output_type": "stream",
     "text": [
      " 71%|███████████████████████████████████████████████████████████████████████████                              | 1014/1419 [01:45<00:34, 11.59it/s]"
     ]
    },
    {
     "name": "stdout",
     "output_type": "stream",
     "text": [
      "object of type 'NoneType' has no len()\n"
     ]
    },
    {
     "name": "stderr",
     "output_type": "stream",
     "text": [
      " 73%|█████████████████████████████████████████████████████████████████████████████                            | 1041/1419 [01:48<00:28, 13.33it/s]"
     ]
    },
    {
     "name": "stdout",
     "output_type": "stream",
     "text": [
      "object of type 'NoneType' has no len()\n"
     ]
    },
    {
     "name": "stderr",
     "output_type": "stream",
     "text": [
      " 76%|███████████████████████████████████████████████████████████████████████████████▍                         | 1073/1419 [01:50<00:14, 23.14it/s]"
     ]
    },
    {
     "name": "stdout",
     "output_type": "stream",
     "text": [
      "object of type 'NoneType' has no len()\n"
     ]
    },
    {
     "name": "stderr",
     "output_type": "stream",
     "text": [
      " 78%|█████████████████████████████████████████████████████████████████████████████████▌                       | 1103/1419 [01:53<00:47,  6.61it/s]"
     ]
    },
    {
     "name": "stdout",
     "output_type": "stream",
     "text": [
      "object of type 'NoneType' has no len()\n"
     ]
    },
    {
     "name": "stderr",
     "output_type": "stream",
     "text": [
      " 78%|██████████████████████████████████████████████████████████████████████████████████▏                      | 1110/1419 [01:55<01:07,  4.60it/s]"
     ]
    },
    {
     "name": "stdout",
     "output_type": "stream",
     "text": [
      "object of type 'NoneType' has no len()\n"
     ]
    },
    {
     "name": "stderr",
     "output_type": "stream",
     "text": [
      " 81%|█████████████████████████████████████████████████████████████████████████████████████▏                   | 1151/1419 [01:59<00:14, 18.93it/s]"
     ]
    },
    {
     "name": "stdout",
     "output_type": "stream",
     "text": [
      "object of type 'NoneType' has no len()\n",
      "object of type 'NoneType' has no len()\n"
     ]
    },
    {
     "name": "stderr",
     "output_type": "stream",
     "text": [
      " 83%|███████████████████████████████████████████████████████████████████████████████████████▌                 | 1184/1419 [02:01<00:12, 19.01it/s]"
     ]
    },
    {
     "name": "stdout",
     "output_type": "stream",
     "text": [
      "object of type 'NoneType' has no len()\n"
     ]
    },
    {
     "name": "stderr",
     "output_type": "stream",
     "text": [
      " 84%|████████████████████████████████████████████████████████████████████████████████████████▏                | 1192/1419 [02:01<00:13, 16.79it/s]"
     ]
    },
    {
     "name": "stdout",
     "output_type": "stream",
     "text": [
      "object of type 'NoneType' has no len()\n"
     ]
    },
    {
     "name": "stderr",
     "output_type": "stream",
     "text": [
      " 86%|██████████████████████████████████████████████████████████████████████████████████████████▍              | 1223/1419 [02:04<00:10, 18.03it/s]"
     ]
    },
    {
     "name": "stdout",
     "output_type": "stream",
     "text": [
      "object of type 'NoneType' has no len()\n"
     ]
    },
    {
     "name": "stderr",
     "output_type": "stream",
     "text": [
      " 87%|███████████████████████████████████████████████████████████████████████████████████████████▏             | 1232/1419 [02:05<00:13, 14.38it/s]"
     ]
    },
    {
     "name": "stdout",
     "output_type": "stream",
     "text": [
      "object of type 'NoneType' has no len()\n"
     ]
    },
    {
     "name": "stderr",
     "output_type": "stream",
     "text": [
      " 89%|████████████████████████████████████████████████████████████████████████████████████████████▉            | 1256/1419 [02:07<00:10, 15.84it/s]"
     ]
    },
    {
     "name": "stdout",
     "output_type": "stream",
     "text": [
      "object of type 'NoneType' has no len()\n"
     ]
    },
    {
     "name": "stderr",
     "output_type": "stream",
     "text": [
      " 90%|██████████████████████████████████████████████████████████████████████████████████████████████▊          | 1282/1419 [02:08<00:07, 19.14it/s]"
     ]
    },
    {
     "name": "stdout",
     "output_type": "stream",
     "text": [
      "object of type 'NoneType' has no len()\n"
     ]
    },
    {
     "name": "stderr",
     "output_type": "stream",
     "text": [
      " 91%|███████████████████████████████████████████████████████████████████████████████████████████████▊         | 1294/1419 [02:08<00:05, 22.66it/s]"
     ]
    },
    {
     "name": "stdout",
     "output_type": "stream",
     "text": [
      "object of type 'NoneType' has no len()\n"
     ]
    },
    {
     "name": "stderr",
     "output_type": "stream",
     "text": [
      "100%|█████████████████████████████████████████████████████████████████████████████████████████████████████████| 1419/1419 [02:21<00:00, 10.02it/s]\n"
     ]
    }
   ],
   "source": [
    "with open('files.jsonl', 'w') as fopen:\n",
    "    for f in tqdm(files):\n",
    "        try:\n",
    "            t = '\\n'.join(parse_tika(f))\n",
    "            data = {\n",
    "                'file': f,\n",
    "                'text': t,\n",
    "            }\n",
    "            fopen.write(f'{json.dumps(data)}\\n')\n",
    "        except Exception as e:\n",
    "            print(e)"
   ]
  },
  {
   "cell_type": "code",
   "execution_count": null,
   "metadata": {},
   "outputs": [],
   "source": []
  }
 ],
 "metadata": {
  "kernelspec": {
   "display_name": "Python 3 (ipykernel)",
   "language": "python",
   "name": "python3"
  },
  "language_info": {
   "codemirror_mode": {
    "name": "ipython",
    "version": 3
   },
   "file_extension": ".py",
   "mimetype": "text/x-python",
   "name": "python",
   "nbconvert_exporter": "python",
   "pygments_lexer": "ipython3",
   "version": "3.8.10"
  }
 },
 "nbformat": 4,
 "nbformat_minor": 4
}
