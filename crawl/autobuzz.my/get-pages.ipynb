{
 "cells": [
  {
   "cell_type": "code",
   "execution_count": 1,
   "metadata": {},
   "outputs": [],
   "source": [
    "import requests\n",
    "from bs4 import BeautifulSoup\n",
    "from tqdm import tqdm\n",
    "import os\n",
    "import json\n",
    "import numpy as np\n",
    "import time\n",
    "import random\n",
    "import json\n",
    "import urllib3\n",
    "urllib3.disable_warnings(urllib3.exceptions.InsecureRequestWarning)"
   ]
  },
  {
   "cell_type": "code",
   "execution_count": 3,
   "metadata": {},
   "outputs": [
    {
     "data": {
      "text/plain": [
       "9672"
      ]
     },
     "execution_count": 3,
     "metadata": {},
     "output_type": "execute_result"
    }
   ],
   "source": [
    "from glob import glob\n",
    "\n",
    "files = glob('url/*.json')\n",
    "urls = []\n",
    "for f in files:\n",
    "    with open(f) as fopen:\n",
    "        urls.extend(json.load(fopen))\n",
    "urls = sorted(list(set(urls)))\n",
    "len(urls)"
   ]
  },
  {
   "cell_type": "code",
   "execution_count": 4,
   "metadata": {},
   "outputs": [],
   "source": [
    "r = requests.get(urls[0])\n",
    "soup = BeautifulSoup(r.content, \"lxml\")"
   ]
  },
  {
   "cell_type": "code",
   "execution_count": 5,
   "metadata": {},
   "outputs": [
    {
     "data": {
      "text/plain": [
       "'2014 Toyota Corolla Altis to launch this month, January 2014 in Malaysia'"
      ]
     },
     "execution_count": 5,
     "metadata": {},
     "output_type": "execute_result"
    }
   ],
   "source": [
    "soup.find('h1').text"
   ]
  },
  {
   "cell_type": "code",
   "execution_count": 6,
   "metadata": {
    "scrolled": true
   },
   "outputs": [
    {
     "data": {
      "text/plain": [
       "'https://autobuzz.my/2014/01/03/2014-toyota-corolla-altis-to-launch-this-month-in-malaysia/'"
      ]
     },
     "execution_count": 6,
     "metadata": {},
     "output_type": "execute_result"
    }
   ],
   "source": [
    "urls[0]"
   ]
  },
  {
   "cell_type": "code",
   "execution_count": 8,
   "metadata": {},
   "outputs": [
    {
     "name": "stdout",
     "output_type": "stream",
     "text": [
      "One of the cars we all look forward to this new year is the \n",
      "2014 Toyota Corolla Altis\n",
      ". In fact, it is arriving real soon. We have gotten confirmation that the all-new Corolla Altis will be launched this month, January 2014. About two weeks before Chinese New Year.\n",
      "As reported on our \n",
      "previous article on the Altis\n",
      ", Toyota has dropped the 1.6E model. Now there are three models to choose from with prices:\n",
      "2014 Toyota Corolla Altis 1.8E\n",
      "RM115,000\n",
      "2014 Toyota Corolla Altis 2.0G\n",
      "RM125,000\n",
      "2014 Toyota Corolla Altis 2.0V\n",
      "RM137,000\n",
      " \n",
      "For comparisons sake, the new 1.8E costs RM9k more than the current 1.6E model, due to the extra capacity upgrade. The 2.0G model is only RM2,000 more than the current 1.8G, which seems to be a better bargain. With a higher budget, you can go for the hi-spec 2.0V model, RM5,000 more than its predecessor. Which is much better.\n",
      "Last month, Toyota published a \n",
      "teaser webpage\n",
      " showcasing its key features, specifications and even the price. Check out the key features below, that is mainly for the hi-spec 2.0V model.\n",
      "The 1.8E is powered by the 2ZR-FE that produces 139PS at 6,400 rpm with 173Nm of torque at 4,000 rpm. Transmission wise, it shares the same seven-speed CVT gearbox with sports sequential shift with the other two. Both 2.0G and 2.0V runs on the same 3ZR-FE with the same performance figures. 145PS at 6,200rpm with torgue figure of 187Nm at 3,600 rpm.\n",
      "So for the extra RM12,000 (more than the 2.0G), you get the same performance but a lot more in value. For a start, the 2.0V gets the Smart Entry and Start System, paddle shifts, 17-in rims (16-in for both 1.8E and 2.0G), the gorgeous LED projector headlights with Day Time Running Lights (Halogen Projector for 1.8E and 2.0G), LEATHER seats (fabric for the other two), and some other stuff. Compare them below.\n",
      "Prices shown below are for Peninsular Malaysia only. You can download the price list for \n",
      "Peninsular Malaysia\n",
      ", \n",
      "Sabah\n",
      ", and \n",
      "Sarawak\n",
      ". \n",
      "Want to see some real-life photos of the 2014 Toyota Corolla Altis? AutoBuzz.my spotted the Altis in Taipei, Taiwan and these images were posted on our \n",
      "Facebook Page\n",
      " last month. It does look really good!\n",
      "Do stay tune for more info when the 2014 Toyota Corolla Altis launches this month!\n",
      "[divider]\n",
      "IMAGE GALLERY\n",
      " \n",
      " \n",
      " \n",
      " \n",
      " \n",
      " \n",
      " \n",
      " \n",
      " \n",
      " \n",
      " \n",
      " \n",
      " \n",
      " \n",
      " \n",
      " \n",
      " \n",
      " \n",
      " \n",
      " \n"
     ]
    }
   ],
   "source": [
    "print(soup.find('div', {'itemprop':\"articleBody\"}).get_text(separator=\"\\n\"))"
   ]
  },
  {
   "cell_type": "code",
   "execution_count": 9,
   "metadata": {},
   "outputs": [],
   "source": [
    "!rm -rf page\n",
    "!mkdir page"
   ]
  },
  {
   "cell_type": "code",
   "execution_count": 10,
   "metadata": {},
   "outputs": [
    {
     "name": "stderr",
     "output_type": "stream",
     "text": [
      "4555it [1:50:44,  1.31s/it]IOPub message rate exceeded.\n",
      "The notebook server will temporarily stop sending output\n",
      "to the client in order to avoid crashing it.\n",
      "To change this limit, set the config variable\n",
      "`--NotebookApp.iopub_msg_rate_limit`.\n",
      "\n",
      "Current values:\n",
      "NotebookApp.iopub_msg_rate_limit=1000.0 (msgs/sec)\n",
      "NotebookApp.rate_limit_window=3.0 (secs)\n",
      "\n",
      "9672it [3:42:27,  1.38s/it]\n"
     ]
    }
   ],
   "source": [
    "for no, url in tqdm(enumerate(urls)):\n",
    "    filename = os.path.join('page', f'{no}.json')\n",
    "    if os.path.exists(filename):\n",
    "        continue\n",
    "    \n",
    "    while True:\n",
    "        try:\n",
    "            r = requests.get(url)\n",
    "            break\n",
    "        except:\n",
    "            time.sleep(1.0)\n",
    "            \n",
    "    soup = BeautifulSoup(r.content, \"lxml\")\n",
    "    \n",
    "    try:\n",
    "        title = soup.find('h1').text\n",
    "    except:\n",
    "        title = None\n",
    "    \n",
    "    try:\n",
    "        body = soup.find('div', {'itemprop':\"articleBody\"}).get_text(separator=\"\\n\")\n",
    "    except:\n",
    "        body = None\n",
    "\n",
    "    data = {\n",
    "        'url': url,\n",
    "        'title': title,\n",
    "        'body': body,\n",
    "    }\n",
    "    with open(filename, 'w') as fopen:\n",
    "        json.dump(data, fopen)"
   ]
  },
  {
   "cell_type": "code",
   "execution_count": null,
   "metadata": {},
   "outputs": [],
   "source": []
  }
 ],
 "metadata": {
  "kernelspec": {
   "display_name": "Python 3 (ipykernel)",
   "language": "python",
   "name": "python3"
  },
  "language_info": {
   "codemirror_mode": {
    "name": "ipython",
    "version": 3
   },
   "file_extension": ".py",
   "mimetype": "text/x-python",
   "name": "python",
   "nbconvert_exporter": "python",
   "pygments_lexer": "ipython3",
   "version": "3.8.10"
  }
 },
 "nbformat": 4,
 "nbformat_minor": 4
}
