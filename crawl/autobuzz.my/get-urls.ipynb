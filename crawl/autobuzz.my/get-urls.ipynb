{
 "cells": [
  {
   "cell_type": "code",
   "execution_count": 1,
   "metadata": {},
   "outputs": [],
   "source": [
    "import requests\n",
    "from bs4 import BeautifulSoup\n",
    "from tqdm import tqdm\n",
    "import os\n",
    "import json\n",
    "import numpy as np\n",
    "import time\n",
    "import random\n",
    "import json\n",
    "import urllib3\n",
    "urllib3.disable_warnings(urllib3.exceptions.InsecureRequestWarning)"
   ]
  },
  {
   "cell_type": "code",
   "execution_count": 2,
   "metadata": {},
   "outputs": [],
   "source": [
    "categories = [\n",
    "    'https://autobuzz.my/category/news/',\n",
    "    'https://autobuzz.my/category/reviews/',\n",
    "    'https://autobuzz.my/category/car-launches/',\n",
    "    'https://autobuzz.my/category/features/',\n",
    "    'https://autobuzz.my/cn/'\n",
    "]"
   ]
  },
  {
   "cell_type": "code",
   "execution_count": 3,
   "metadata": {},
   "outputs": [],
   "source": [
    "r = requests.get(categories[0])\n",
    "soup = BeautifulSoup(r.content, \"lxml\")"
   ]
  },
  {
   "cell_type": "code",
   "execution_count": 4,
   "metadata": {},
   "outputs": [
    {
     "data": {
      "text/plain": [
       "['https://autobuzz.my/2023/07/28/mazda-cx-60-launched-in-indonesia-2-variants-mhev-only-3-3-litre-turbo-inline-6/',\n",
       " 'https://autobuzz.my/2023/07/28/mazda-cx-60-launched-in-indonesia-2-variants-mhev-only-3-3-litre-turbo-inline-6/',\n",
       " 'https://autobuzz.my/2023/07/27/mercedes-benz-eqv-facelift-unveiled-electric-van-ea-platform-to-debut-in-2026/',\n",
       " 'https://autobuzz.my/2023/07/27/mercedes-benz-eqv-facelift-unveiled-electric-van-ea-platform-to-debut-in-2026/',\n",
       " 'https://autobuzz.my/2023/07/27/next-gen-mini-ev-models-to-get-mini-os-9-airconsole-gaming-digitial-key-plus/',\n",
       " 'https://autobuzz.my/2023/07/27/next-gen-mini-ev-models-to-get-mini-os-9-airconsole-gaming-digitial-key-plus/',\n",
       " 'https://autobuzz.my/2023/07/27/race-of-in-car-social-media-app-audis-2024-models-get-built-in-youtube-app/',\n",
       " 'https://autobuzz.my/2023/07/27/race-of-in-car-social-media-app-audis-2024-models-get-built-in-youtube-app/',\n",
       " 'https://autobuzz.my/2023/07/26/proton-cars-to-get-apple-carplay-and-android-auto-but-not-on-the-next-model-yet/',\n",
       " 'https://autobuzz.my/2023/07/26/proton-cars-to-get-apple-carplay-and-android-auto-but-not-on-the-next-model-yet/',\n",
       " 'https://autobuzz.my/2023/07/26/kia-sorento-facelift-unveiled-brings-new-front-fascia-modernised-interior/',\n",
       " 'https://autobuzz.my/2023/07/26/kia-sorento-facelift-unveiled-brings-new-front-fascia-modernised-interior/',\n",
       " 'https://autobuzz.my/2023/07/26/nissan-sold-over-1-million-evs-so-far-plans-to-launch-19-more-ev-models-by-fy2023/',\n",
       " 'https://autobuzz.my/2023/07/26/nissan-sold-over-1-million-evs-so-far-plans-to-launch-19-more-ev-models-by-fy2023/',\n",
       " 'https://autobuzz.my/2023/07/26/all-new-mitsubishi-triton-debuts-malaysia-launch-before-end-of-2024-up-to-204hp-470nm/',\n",
       " 'https://autobuzz.my/2023/07/26/all-new-mitsubishi-triton-debuts-malaysia-launch-before-end-of-2024-up-to-204hp-470nm/',\n",
       " 'https://autobuzz.my/2023/07/25/subaru-brz-ts-debuts-as-brands-first-manual-model-with-eyesight-adas-suite/',\n",
       " 'https://autobuzz.my/2023/07/25/subaru-brz-ts-debuts-as-brands-first-manual-model-with-eyesight-adas-suite/',\n",
       " 'https://autobuzz.my/2023/07/25/new-mercedes-benz-entry-level-concept-teased-for-iaa-munich-2023-is-this-the-next-gen-a-class/',\n",
       " 'https://autobuzz.my/2023/07/25/new-mercedes-benz-entry-level-concept-teased-for-iaa-munich-2023-is-this-the-next-gen-a-class/',\n",
       " 'https://autobuzz.my/2023/07/24/production-of-the-bmw-i5-and-all-new-5-series-begin-bound-for-malaysia/',\n",
       " 'https://autobuzz.my/2023/07/24/production-of-the-bmw-i5-and-all-new-5-series-begin-bound-for-malaysia/',\n",
       " 'https://autobuzz.my/2023/07/24/next-gen-mazda-mx-5-to-be-electrified-set-for-launch-in-2025/',\n",
       " 'https://autobuzz.my/2023/07/24/next-gen-mazda-mx-5-to-be-electrified-set-for-launch-in-2025/',\n",
       " 'https://autobuzz.my/2023/07/24/tesla-model-y-was-europes-bestseller-in-the-first-half-of-2023/',\n",
       " 'https://autobuzz.my/2023/07/24/tesla-model-y-was-europes-bestseller-in-the-first-half-of-2023/',\n",
       " 'https://autobuzz.my/2023/07/28/mazda-cx-60-launched-in-indonesia-2-variants-mhev-only-3-3-litre-turbo-inline-6/',\n",
       " 'https://autobuzz.my/2023/07/28/mazda-cx-60-launched-in-indonesia-2-variants-mhev-only-3-3-litre-turbo-inline-6/',\n",
       " 'https://autobuzz.my/2023/07/27/mercedes-benz-eqv-facelift-unveiled-electric-van-ea-platform-to-debut-in-2026/',\n",
       " 'https://autobuzz.my/2023/07/27/mercedes-benz-eqv-facelift-unveiled-electric-van-ea-platform-to-debut-in-2026/',\n",
       " 'https://autobuzz.my/2023/07/27/next-gen-mini-ev-models-to-get-mini-os-9-airconsole-gaming-digitial-key-plus/',\n",
       " 'https://autobuzz.my/2023/07/27/next-gen-mini-ev-models-to-get-mini-os-9-airconsole-gaming-digitial-key-plus/',\n",
       " 'https://autobuzz.my/2023/07/27/race-of-in-car-social-media-app-audis-2024-models-get-built-in-youtube-app/',\n",
       " 'https://autobuzz.my/2023/07/27/race-of-in-car-social-media-app-audis-2024-models-get-built-in-youtube-app/']"
      ]
     },
     "execution_count": 4,
     "metadata": {},
     "output_type": "execute_result"
    }
   ],
   "source": [
    "a = soup.find_all('a', {'rel':\"bookmark\"})\n",
    "a = [a_.get('href') for a_ in a]\n",
    "a"
   ]
  },
  {
   "cell_type": "code",
   "execution_count": 5,
   "metadata": {},
   "outputs": [
    {
     "name": "stdout",
     "output_type": "stream",
     "text": [
      "mkdir: cannot create directory ‘url’: File exists\r\n"
     ]
    }
   ],
   "source": [
    "# !rm -rf url\n",
    "!mkdir url"
   ]
  },
  {
   "cell_type": "code",
   "execution_count": null,
   "metadata": {},
   "outputs": [
    {
     "name": "stderr",
     "output_type": "stream",
     "text": [
      "5660it [00:02, 2369.82it/s]\n",
      "999it [30:43,  1.85s/it]\n",
      "999it [23:31,  1.41s/it]\n",
      "999it [20:45,  1.25s/it]\n",
      "784it [23:42,  1.63s/it]"
     ]
    }
   ],
   "source": [
    "def generator():\n",
    "    while True:\n",
    "        yield\n",
    "    \n",
    "for c in categories:\n",
    "    c_ = c.split('my/')[-1].replace('/', '-')\n",
    "    \n",
    "    index = 1\n",
    "    for _ in tqdm(generator()):\n",
    "        filename = os.path.join('url', f'{c_}-{index}.json')\n",
    "        if os.path.exists(filename):\n",
    "            index += 1\n",
    "            continue\n",
    "\n",
    "        while True:\n",
    "            try:\n",
    "                r = requests.get(f'{c}page/{index}/')\n",
    "                break\n",
    "            except:\n",
    "                time.sleep(1.0)\n",
    "    \n",
    "        soup = BeautifulSoup(r.content, \"lxml\")\n",
    "        a = soup.find_all('a', {'rel':\"bookmark\"})\n",
    "        a = [a_.get('href') for a_ in a]\n",
    "\n",
    "        with open(filename, 'w') as fopen:\n",
    "            json.dump(a, fopen)\n",
    "\n",
    "        index += 1\n",
    "        \n",
    "        if index > 1000:\n",
    "            break"
   ]
  },
  {
   "cell_type": "code",
   "execution_count": null,
   "metadata": {},
   "outputs": [],
   "source": []
  }
 ],
 "metadata": {
  "kernelspec": {
   "display_name": "Python 3 (ipykernel)",
   "language": "python",
   "name": "python3"
  },
  "language_info": {
   "codemirror_mode": {
    "name": "ipython",
    "version": 3
   },
   "file_extension": ".py",
   "mimetype": "text/x-python",
   "name": "python",
   "nbconvert_exporter": "python",
   "pygments_lexer": "ipython3",
   "version": "3.8.10"
  }
 },
 "nbformat": 4,
 "nbformat_minor": 4
}
