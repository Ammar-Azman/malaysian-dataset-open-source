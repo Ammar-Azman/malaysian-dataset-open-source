{
 "cells": [
  {
   "cell_type": "code",
   "execution_count": 1,
   "metadata": {},
   "outputs": [],
   "source": [
    "from glob import glob\n",
    "from tqdm import tqdm\n",
    "import json\n",
    "import re"
   ]
  },
  {
   "cell_type": "code",
   "execution_count": 2,
   "metadata": {},
   "outputs": [],
   "source": [
    "def cleaning(string):\n",
    "    string = re.sub(r'[ ]+', ' ', string.replace('\\n', ' ').replace('\\r', ' ')).strip()\n",
    "    return string.lower()"
   ]
  },
  {
   "cell_type": "code",
   "execution_count": 3,
   "metadata": {},
   "outputs": [
    {
     "data": {
      "text/plain": [
       "407"
      ]
     },
     "execution_count": 3,
     "metadata": {},
     "output_type": "execute_result"
    }
   ],
   "source": [
    "files = glob('json/*.json')\n",
    "len(files)"
   ]
  },
  {
   "cell_type": "code",
   "execution_count": 4,
   "metadata": {},
   "outputs": [
    {
     "name": "stderr",
     "output_type": "stream",
     "text": [
      "100%|██████████| 407/407 [00:01<00:00, 312.61it/s]\n"
     ]
    }
   ],
   "source": [
    "with open('heraldmalaysia-pdf.jsonl', 'w') as fopen_l:\n",
    "    for f in tqdm(files):\n",
    "        with open(f) as fopen:\n",
    "            data = json.load(fopen)\n",
    "        \n",
    "        data = ''.join(data)\n",
    "        c = cleaning(data)\n",
    "        if not len(c):\n",
    "            continue\n",
    "        \n",
    "        fopen_l.write(f'{json.dumps(data)}\\n')"
   ]
  },
  {
   "cell_type": "code",
   "execution_count": 6,
   "metadata": {},
   "outputs": [
    {
     "name": "stdout",
     "output_type": "stream",
     "text": [
      "-rw-r--r--  1 cobra  staff    38M Nov  5 07:54 heraldmalaysia-pdf.jsonl\n"
     ]
    }
   ],
   "source": [
    "!ls -lh heraldmalaysia-pdf.jsonl"
   ]
  }
 ],
 "metadata": {
  "kernelspec": {
   "display_name": "myenv",
   "language": "python",
   "name": "python3"
  },
  "language_info": {
   "codemirror_mode": {
    "name": "ipython",
    "version": 3
   },
   "file_extension": ".py",
   "mimetype": "text/x-python",
   "name": "python",
   "nbconvert_exporter": "python",
   "pygments_lexer": "ipython3",
   "version": "3.8.18"
  },
  "vscode": {
   "interpreter": {
    "hash": "1a6dff08b59a19f3a7991d6b1a25ce78202074b92e7b5fecc75ddcfc737a043e"
   }
  }
 },
 "nbformat": 4,
 "nbformat_minor": 4
}
