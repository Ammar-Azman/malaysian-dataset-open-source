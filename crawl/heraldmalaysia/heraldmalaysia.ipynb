{
 "cells": [
  {
   "cell_type": "code",
   "execution_count": 1,
   "id": "9dc0cc26-ec92-43cb-991d-101c7e9779ee",
   "metadata": {},
   "outputs": [],
   "source": [
    "from bs4 import BeautifulSoup\n",
    "import pandas as pd\n",
    "import json\n",
    "import requests\n",
    "from urllib.request import urlopen\n",
    "import urllib.request\n",
    "from datetime import datetime\n",
    "from tqdm import tqdm\n",
    "import time\n",
    "import numpy as np\n",
    "from concurrent.futures import ThreadPoolExecutor, as_completed"
   ]
  },
  {
   "cell_type": "code",
   "execution_count": 12,
   "id": "a3ec5786-e3cf-4058-a7c0-2bb5f9c29d65",
   "metadata": {},
   "outputs": [],
   "source": [
    "hrefs = []\n",
    "headers = {'User-Agent': 'Mozilla/5.0 (Windows NT 6.1; WOW64) AppleWebKit/537.36 (KHTML, like Gecko) Chrome/56.0.2924.76 Safari/537.36'} "
   ]
  },
  {
   "cell_type": "code",
   "execution_count": 3,
   "id": "43c3d253-2a63-4013-b134-5a1e9ecd391c",
   "metadata": {},
   "outputs": [
    {
     "data": {
      "text/plain": [
       "['https://www.heraldmalaysia.com/newscategory/Malaysian-Church-News/5',\n",
       " 'https://www.heraldmalaysia.com/newscategory/news_in_malay/7',\n",
       " 'https://www.heraldmalaysia.com/newscategory/Global-News/2',\n",
       " 'https://www.heraldmalaysia.com/newscategory/Editorial/8']"
      ]
     },
     "execution_count": 3,
     "metadata": {},
     "output_type": "execute_result"
    }
   ],
   "source": [
    "r = requests.get(\"https://www.heraldmalaysia.com/newscategory/Malaysian-Church-News/5\",headers = headers)\n",
    "soup = BeautifulSoup(r.content, \"html.parser\")\n",
    "a = soup.find('div', attrs = {\"class\":\"menu_box\"})\n",
    "links = [x.find('a').get('href') for x in a.find_all('li')]\n",
    "links = [i for i in links if 'category' in i]\n",
    "links"
   ]
  },
  {
   "cell_type": "code",
   "execution_count": 13,
   "id": "63d10a08-b66d-4b47-a448-91cb48d30e50",
   "metadata": {},
   "outputs": [],
   "source": [
    "def crawl(url):\n",
    "    while True:\n",
    "        try:\n",
    "            r = requests.get(url,headers = headers)\n",
    "            break\n",
    "        except Exception as e:\n",
    "            print(e)\n",
    "            time.sleep(1.0)\n",
    "\n",
    "    soup = BeautifulSoup(r.text, \"html.parser\")\n",
    "\n",
    "    div = soup.find_all('div', attrs = {\"class\":\"news_lst_right\"})\n",
    "    \n",
    "    if len(div) == 0:\n",
    "        return\n",
    "\n",
    "    for link in soup.find_all('div', attrs = {\"class\":\"news_lst_right\"}):\n",
    "\n",
    "        href = link.find('a').get('href')\n",
    "\n",
    "        hrefs.append(href)"
   ]
  },
  {
   "cell_type": "code",
   "execution_count": 14,
   "id": "232f2fdc-b2cf-4254-856a-63d0cf181671",
   "metadata": {},
   "outputs": [
    {
     "name": "stdout",
     "output_type": "stream",
     "text": [
      "https://www.heraldmalaysia.com/newscategory/Malaysian-Church-News/5\n",
      "8650\n"
     ]
    },
    {
     "name": "stderr",
     "output_type": "stream",
     "text": [
      " 22%|████████▋                               | 375/1730 [09:49<37:32,  1.66s/it]"
     ]
    },
    {
     "name": "stdout",
     "output_type": "stream",
     "text": [
      "HTTPSConnectionPool(host='www.heraldmalaysia.com', port=443): Max retries exceeded with url: /newscategory/Malaysian-Church-News/5/1876 (Caused by ConnectTimeoutError(<urllib3.connection.HTTPSConnection object at 0x12f866990>, 'Connection to www.heraldmalaysia.com timed out. (connect timeout=None)'))\n"
     ]
    },
    {
     "name": "stderr",
     "output_type": "stream",
     "text": [
      "100%|███████████████████████████████████████| 1730/1730 [46:10<00:00,  1.60s/it]\n"
     ]
    },
    {
     "name": "stdout",
     "output_type": "stream",
     "text": [
      "https://www.heraldmalaysia.com/newscategory/news_in_malay/7\n",
      "8240\n"
     ]
    },
    {
     "name": "stderr",
     "output_type": "stream",
     "text": [
      " 64%|█████████████████████████              | 1057/1648 [25:05<14:28,  1.47s/it]"
     ]
    },
    {
     "name": "stdout",
     "output_type": "stream",
     "text": [
      "HTTPSConnectionPool(host='www.heraldmalaysia.com', port=443): Max retries exceeded with url: /newscategory/news_in_malay/7/5290 (Caused by ConnectTimeoutError(<urllib3.connection.HTTPSConnection object at 0x13a5cb750>, 'Connection to www.heraldmalaysia.com timed out. (connect timeout=None)'))\n"
     ]
    },
    {
     "name": "stderr",
     "output_type": "stream",
     "text": [
      "100%|███████████████████████████████████████| 1648/1648 [38:37<00:00,  1.41s/it]\n"
     ]
    },
    {
     "name": "stdout",
     "output_type": "stream",
     "text": [
      "https://www.heraldmalaysia.com/newscategory/Global-News/2\n",
      "18550\n"
     ]
    },
    {
     "name": "stderr",
     "output_type": "stream",
     "text": [
      " 47%|██████████████████▎                    | 1741/3710 [42:23<42:43,  1.30s/it]"
     ]
    },
    {
     "name": "stdout",
     "output_type": "stream",
     "text": [
      "HTTPSConnectionPool(host='www.heraldmalaysia.com', port=443): Max retries exceeded with url: /newscategory/Global-News/2/8709 (Caused by NameResolutionError(\"<urllib3.connection.HTTPSConnection object at 0x14914fe10>: Failed to resolve 'www.heraldmalaysia.com' ([Errno 8] nodename nor servname provided, or not known)\"))\n"
     ]
    },
    {
     "name": "stderr",
     "output_type": "stream",
     "text": [
      " 53%|████████████████████▌                  | 1959/3710 [47:15<40:00,  1.37s/it]"
     ]
    },
    {
     "name": "stdout",
     "output_type": "stream",
     "text": [
      "HTTPSConnectionPool(host='www.heraldmalaysia.com', port=443): Max retries exceeded with url: /newscategory/Global-News/2/9799 (Caused by ConnectTimeoutError(<urllib3.connection.HTTPSConnection object at 0x1491cfb90>, 'Connection to www.heraldmalaysia.com timed out. (connect timeout=None)'))\n"
     ]
    },
    {
     "name": "stderr",
     "output_type": "stream",
     "text": [
      " 74%|███████████████████████████▎         | 2738/3710 [1:06:32<21:44,  1.34s/it]"
     ]
    },
    {
     "name": "stdout",
     "output_type": "stream",
     "text": [
      "HTTPSConnectionPool(host='www.heraldmalaysia.com', port=443): Max retries exceeded with url: /newscategory/Global-News/2/13691 (Caused by NameResolutionError(\"<urllib3.connection.HTTPSConnection object at 0x11ae52750>: Failed to resolve 'www.heraldmalaysia.com' ([Errno 8] nodename nor servname provided, or not known)\"))\n"
     ]
    },
    {
     "name": "stderr",
     "output_type": "stream",
     "text": [
      "100%|█████████████████████████████████████| 3710/3710 [1:29:02<00:00,  1.44s/it]\n"
     ]
    },
    {
     "name": "stdout",
     "output_type": "stream",
     "text": [
      "https://www.heraldmalaysia.com/newscategory/Editorial/8\n",
      "1100\n"
     ]
    },
    {
     "name": "stderr",
     "output_type": "stream",
     "text": [
      "100%|█████████████████████████████████████████| 220/220 [04:00<00:00,  1.09s/it]\n"
     ]
    }
   ],
   "source": [
    "max_worker = 5\n",
    "\n",
    "\n",
    "for url in links:\n",
    "    \n",
    "    print(url)\n",
    "    r = requests.get(url,headers=headers)\n",
    "    soup = BeautifulSoup(r.content, \"html.parser\")\n",
    "    mok = soup.find('div',attrs={\"class\":\"pagination\"})\n",
    "    a = mok.find_all('a')\n",
    "    a = [a_.get('href') for a_ in a if a_.get('href')]\n",
    "    max_page = max([int(a_.split('/')[-1].replace('/','')) for a_ in a])\n",
    "    print(max_page)\n",
    "\n",
    "    \n",
    "    for i in tqdm(range(1, max_page + 1, max_worker)):\n",
    "        aranged = np.arange(i, i + max_worker)\n",
    "        urls = [f'{url}/{a}' for a in aranged]\n",
    "        with ThreadPoolExecutor(max_workers=max_worker) as executor:\n",
    "            futures = {executor.submit(crawl, url): url for url in urls}\n",
    "        \n",
    "        for future in as_completed(futures):\n",
    "            future.result()"
   ]
  },
  {
   "cell_type": "code",
   "execution_count": 45,
   "id": "a00dff15-ed02-431e-945b-580ea4b535bb",
   "metadata": {},
   "outputs": [],
   "source": [
    "hrefs = list(set(hrefs))"
   ]
  },
  {
   "cell_type": "code",
   "execution_count": 46,
   "id": "3baea26c-be97-4961-8920-1fc2e8d824da",
   "metadata": {},
   "outputs": [
    {
     "data": {
      "text/plain": [
       "36562"
      ]
     },
     "execution_count": 46,
     "metadata": {},
     "output_type": "execute_result"
    }
   ],
   "source": [
    "len(hrefs)"
   ]
  },
  {
   "cell_type": "code",
   "execution_count": 19,
   "id": "c9567709-efc4-4926-bf3e-bbdf0489c17f",
   "metadata": {},
   "outputs": [],
   "source": [
    "with open(f'herald-link.json', 'a') as f:\n",
    "    json.dump(hrefs, f)"
   ]
  },
  {
   "cell_type": "code",
   "execution_count": 41,
   "id": "448feb82-1043-47a9-b2ee-679c1ee71761",
   "metadata": {},
   "outputs": [],
   "source": [
    "def process_url(x):\n",
    "    \n",
    "    while True:\n",
    "        try:\n",
    "            r = requests.get(x, headers=headers)\n",
    "            \n",
    "            if r.status_code == 508:\n",
    "                time.sleep(20)\n",
    "                continue\n",
    "                \n",
    "            break\n",
    "        except Exception as e:\n",
    "            print(e)\n",
    "            time.sleep(5.0)\n",
    "    \n",
    "    soup = BeautifulSoup(r.text, \"html.parser\")\n",
    "\n",
    "    try:\n",
    "        content = soup.find('div', class_=\"content_left\")\n",
    "        headline = content.find('h1').text\n",
    "        subheadline = soup.find('span').text\n",
    "        h = soup.find('div', class_=\"news_details\")\n",
    "        p = [p.text for p in h.find_all('p') if p.text and len(p.text.split()) > 5]\n",
    "    except Exception as e:\n",
    "        print('error in link:'+ x)\n",
    "        print(e)\n",
    "        return None\n",
    "\n",
    "    \n",
    "    data = {'url': x,'headline': headline,'subheadline':subheadline, 'content': p}\n",
    "    \n",
    "    return data"
   ]
  },
  {
   "cell_type": "code",
   "execution_count": 42,
   "id": "a62d6ef3-6646-46f5-941a-4af5163258a0",
   "metadata": {},
   "outputs": [
    {
     "data": {
      "text/plain": [
       "{'url': 'https://www.heraldmalaysia.com/news/gereja-malaysia-singapura-tidak-benarkan-sakramen-perkahwinan-secara-online/53403/7',\n",
       " 'headline': 'Gereja Malaysia, Singapura tidak benarkan Sakramen Perkahwinan secara online ',\n",
       " 'subheadline': 'Gereja Katolik Romawi tidak akan menjalankan perkahwinan dalam talian sepanjang Misa ditangguhkan bagi membendung penyebaran covid-19.\\n',\n",
       " 'content': [\"\\nMay 16, 2020\\n\\nRelated News\\n\\nPengampunan putuskan lingkaran kebencianSidang Sinode berdoa keamanan untuk Timur TengahBumi tidak dapat menampung kita lagiPerintah Tuhan sarana tepat meraih kebahagiaanLektor, pemazmur sebagai duta TuhanHati kita dicipta untuk mengasihi\\n\\n\\n\\n\\nKUCHING: Gereja Katolik Romawi tidak akan menjalankan perkahwinan dalam talian sepanjang Misa ditangguhkan bagi membendung penyebaran covid-19. Uskup Agung Poh mengatakan Katolik dilarang untuk melakukan perkahwinan dalam talian kerana lafaz sumpah dan berkat dalam talian adalah tidak sah. “Bagi Katolik, upacara perkahwinan memerlukan kehadiran fizikal. Pelafazan ikrar dan berkat perkahwinan,\\xa0 pengantin lelaki dan perkahwinan perlu hadir secara fizikal dan hanya sah diucapkan dengan bertatap muka,” ujar Uskup Agung Poh.Prelatus itu menekankan adalah penting bagi umat Kristian mengikut proses yang betul agar perkahwinan Gereja itu sah\\xa0 mengikut undang-undang Gereja Katolik. Uskup Anglikan Sarawak dan Brunei, Reverend Datuk Danald Jute juga mengatakan bahawa Gereja Anglikan turut tidak membenarkan perkahwinan dalam talian. Beliau bersetuju bahawa teknologi memudahkan gereja menyiarkan Misa dan ibadat dalam talian tetapi bukan semua upacara dapat dilakukan dalam talian. Keuskupan Agung Singapura juga mengumumkan pada 6 Mei bahawa mereka tidak akan melakukan pemberkatan perkahwinan secara online atau melalui video, meskipun pemerintah mengizinkannya\\xa0 melalui undang-undang yang baru. Keuskupan agung dalam sebuah pernyataan mengatakan bahawa meskipun menyedari adanya ancaman pandemik coronavirus, gereja ingin menegaskan pentingnya interaksi fizikal antara orang-orang yang merayakan sakramen.“Kerana itu,\\xa0 Gereja Katolik di Singapura, meskipun menghargai usaha pihak berwenang dalam membuat perkahwinan lebih mudah diakses oleh pasangan pada masa sukar ini, tetap tidak akan merayakan perkahwinan melalui video,” tambahnya. -- Today's Catholic/ucan \\n\",\n",
       "  \"KUCHING: Gereja Katolik Romawi tidak akan menjalankan perkahwinan dalam talian sepanjang Misa ditangguhkan bagi membendung penyebaran covid-19. Uskup Agung Poh mengatakan Katolik dilarang untuk melakukan perkahwinan dalam talian kerana lafaz sumpah dan berkat dalam talian adalah tidak sah. “Bagi Katolik, upacara perkahwinan memerlukan kehadiran fizikal. Pelafazan ikrar dan berkat perkahwinan,\\xa0 pengantin lelaki dan perkahwinan perlu hadir secara fizikal dan hanya sah diucapkan dengan bertatap muka,” ujar Uskup Agung Poh.Prelatus itu menekankan adalah penting bagi umat Kristian mengikut proses yang betul agar perkahwinan Gereja itu sah\\xa0 mengikut undang-undang Gereja Katolik. Uskup Anglikan Sarawak dan Brunei, Reverend Datuk Danald Jute juga mengatakan bahawa Gereja Anglikan turut tidak membenarkan perkahwinan dalam talian. Beliau bersetuju bahawa teknologi memudahkan gereja menyiarkan Misa dan ibadat dalam talian tetapi bukan semua upacara dapat dilakukan dalam talian. Keuskupan Agung Singapura juga mengumumkan pada 6 Mei bahawa mereka tidak akan melakukan pemberkatan perkahwinan secara online atau melalui video, meskipun pemerintah mengizinkannya\\xa0 melalui undang-undang yang baru. Keuskupan agung dalam sebuah pernyataan mengatakan bahawa meskipun menyedari adanya ancaman pandemik coronavirus, gereja ingin menegaskan pentingnya interaksi fizikal antara orang-orang yang merayakan sakramen.“Kerana itu,\\xa0 Gereja Katolik di Singapura, meskipun menghargai usaha pihak berwenang dalam membuat perkahwinan lebih mudah diakses oleh pasangan pada masa sukar ini, tetap tidak akan merayakan perkahwinan melalui video,” tambahnya. -- Today's Catholic/ucan\"]}"
      ]
     },
     "execution_count": 42,
     "metadata": {},
     "output_type": "execute_result"
    }
   ],
   "source": [
    "process_url(hrefs[0])"
   ]
  },
  {
   "cell_type": "code",
   "execution_count": 43,
   "id": "c6131d17-f782-49ac-97c4-df01213e35aa",
   "metadata": {},
   "outputs": [
    {
     "name": "stderr",
     "output_type": "stream",
     "text": [
      "  5%|█▉                                  | 1970/36562 [10:50<2:53:12,  3.33it/s]"
     ]
    },
    {
     "name": "stdout",
     "output_type": "stream",
     "text": [
      "HTTPSConnectionPool(host='www.heraldmalaysia.com', port=443): Max retries exceeded with url: /news/more-than-200-catholics-pray-and-march-in-silence-over-looted-church/40912/2 (Caused by ConnectTimeoutError(<urllib3.connection.HTTPSConnection object at 0x10d42f6d0>, 'Connection to www.heraldmalaysia.com timed out. (connect timeout=None)'))\n"
     ]
    },
    {
     "name": "stderr",
     "output_type": "stream",
     "text": [
      "100%|███████████████████████████████████| 36562/36562 [3:25:37<00:00,  2.96it/s]\n"
     ]
    }
   ],
   "source": [
    "max_workers = 3\n",
    "\n",
    "with ThreadPoolExecutor(max_workers=max_workers) as executor:\n",
    "    futures = [executor.submit(process_url, x) for x in hrefs]\n",
    "    \n",
    "    for future in tqdm(futures, total=len(hrefs)):\n",
    "        result = future.result()\n",
    "        if result:\n",
    "            with open('heraldmalaysia.jsonl', 'a') as f:\n",
    "                json.dump(result, f)\n",
    "                f.write('\\n')"
   ]
  }
 ],
 "metadata": {
  "kernelspec": {
   "display_name": "Python 3 (ipykernel)",
   "language": "python",
   "name": "python3"
  },
  "language_info": {
   "codemirror_mode": {
    "name": "ipython",
    "version": 3
   },
   "file_extension": ".py",
   "mimetype": "text/x-python",
   "name": "python",
   "nbconvert_exporter": "python",
   "pygments_lexer": "ipython3",
   "version": "3.11.6"
  }
 },
 "nbformat": 4,
 "nbformat_minor": 5
}
