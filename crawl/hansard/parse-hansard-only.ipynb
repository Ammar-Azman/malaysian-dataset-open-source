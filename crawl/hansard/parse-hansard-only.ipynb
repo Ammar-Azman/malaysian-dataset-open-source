{
 "cells": [
  {
   "cell_type": "code",
   "execution_count": 1,
   "metadata": {},
   "outputs": [],
   "source": [
    "# download hansard from https://www.parlimen.gov.my/hansard-dewan-rakyat.html?uweb=dr\n",
    "# !wget https://dlcdn.apache.org/tika/2.6.0/tika-server-standard-2.6.0-bin.zip\n",
    "# !unzip tika-server-standard-2.6.0-bin.zip\n",
    "# !chmod +x tika-server-standard-2.6.0-bin/bin/tika\n",
    "# !./tika-server-standard-2.6.0-bin/bin/tika start -p 9998\n",
    "# !pip3 install tika"
   ]
  },
  {
   "cell_type": "code",
   "execution_count": 2,
   "metadata": {},
   "outputs": [],
   "source": [
    "import os\n",
    "\n",
    "os.environ['CUDA_VISIBLE_DEVICES'] = ''"
   ]
  },
  {
   "cell_type": "code",
   "execution_count": 3,
   "metadata": {},
   "outputs": [],
   "source": [
    "import tika\n",
    "from tika import parser\n",
    "import re\n",
    "from unidecode import unidecode\n",
    "from tqdm import tqdm\n",
    "from glob import glob\n",
    "from datetime import datetime\n",
    "import json\n",
    "from bs4 import BeautifulSoup\n",
    "\n",
    "def cleaning(string):\n",
    "    string = unidecode(string).replace('\\t', ' ').replace('\\r', ' ').replace('\\n', ' ').replace('_', ' ')\n",
    "    string = string.replace(' -', '-').replace(' ANYA', 'ANYA').replace('ki ta', 'kita').replace('s aya', 'saya')\n",
    "    string = string.replace('m enjadi', 'menjadi').replace('meno lak', 'menolak')\n",
    "    try:\n",
    "        soup = BeautifulSoup(string, 'lxml')\n",
    "        string = soup.text\n",
    "    except:\n",
    "        pass\n",
    "    return re.sub(r'[ ]+', ' ', string).strip()"
   ]
  },
  {
   "cell_type": "code",
   "execution_count": 4,
   "metadata": {},
   "outputs": [
    {
     "data": {
      "text/plain": [
       "'pdf/DR-01032000.pdf'"
      ]
     },
     "execution_count": 4,
     "metadata": {},
     "output_type": "execute_result"
    }
   ],
   "source": [
    "files = sorted(glob('pdf/*.pdf'))\n",
    "files[0]"
   ]
  },
  {
   "cell_type": "code",
   "execution_count": 5,
   "metadata": {},
   "outputs": [
    {
     "data": {
      "text/plain": [
       "'pdf/DR-01032000.pdf'"
      ]
     },
     "execution_count": 5,
     "metadata": {},
     "output_type": "execute_result"
    }
   ],
   "source": [
    "files[0]"
   ]
  },
  {
   "cell_type": "code",
   "execution_count": 34,
   "metadata": {},
   "outputs": [],
   "source": [
    "raw_xml = parser.from_file('pdf/DR-04112003.pdf', 'http://localhost:9998/tika', xmlContent=True)\n",
    "body = raw_xml['content'].split('<body>')[1].split('</body>')[0]\n",
    "body_without_tag = body.replace(\"<p>\", \"\").replace(\"</p>\", \"\").replace(\"<div>\", \"\").replace(\"</div>\",\"\").replace(\"<p />\",\"\")\n",
    "text_pages = body_without_tag.split(\"\"\"<div class=\"page\">\"\"\")[1:]"
   ]
  },
  {
   "cell_type": "code",
   "execution_count": 35,
   "metadata": {},
   "outputs": [
    {
     "data": {
      "text/plain": [
       "'\\n76 DR 04.11.2003 \\n \\n\\n \\n\\n \\n\\n \\n\\n \\n\\n \\n\\n \\n\\n \\n\\n \\n\\n \\n\\n \\n\\n \\n\\n \\n\\n \\n\\n \\n\\n \\n\\n \\n\\n\\n'"
      ]
     },
     "execution_count": 35,
     "metadata": {},
     "output_type": "execute_result"
    }
   ],
   "source": [
    "text_pages[87]"
   ]
  },
  {
   "cell_type": "code",
   "execution_count": 20,
   "metadata": {},
   "outputs": [
    {
     "data": {
      "text/plain": [
       "3790"
      ]
     },
     "execution_count": 20,
     "metadata": {},
     "output_type": "execute_result"
    }
   ],
   "source": [
    "splitted = text_pages[87].split('\\n \\n')\n",
    "splitted = [s for s in splitted if len(s.strip()) > 1]\n",
    "if len(splitted) < 3:\n",
    "    splitted = t.split('\\n\\n')\n",
    "splitted = [cleaning(s) for s in splitted[1:]]\n",
    "splitted = [s + '.' if s[-1] not in  '.;:,' else s for s in splitted if len(s)]\n",
    "splitted = ' '.join(splitted)\n",
    "len(splitted)"
   ]
  },
  {
   "cell_type": "code",
   "execution_count": 36,
   "metadata": {},
   "outputs": [
    {
     "name": "stderr",
     "output_type": "stream",
     "text": [
      " 11%|█████████▋                                                                            | 175/1560 [00:59<07:22,  3.13it/s]"
     ]
    },
    {
     "name": "stdout",
     "output_type": "stream",
     "text": [
      "pdf/DR-04112003.pdf 87 \n",
      "76 DR 04.11.2003 \n",
      " \n",
      "\n",
      " \n",
      "\n",
      " \n",
      "\n",
      " \n",
      "\n",
      " \n",
      "\n",
      " \n",
      "\n",
      " \n",
      "\n",
      " \n",
      "\n",
      " \n",
      "\n",
      " \n",
      "\n",
      " \n",
      "\n",
      " \n",
      "\n",
      " \n",
      "\n",
      " \n",
      "\n",
      " \n",
      "\n",
      " \n",
      "\n",
      " \n",
      "\n",
      "\n",
      "\n"
     ]
    },
    {
     "name": "stderr",
     "output_type": "stream",
     "text": [
      " 14%|███████████▋                                                                          | 213/1560 [01:11<05:01,  4.47it/s]"
     ]
    },
    {
     "name": "stdout",
     "output_type": "stream",
     "text": [
      "pdf/DR-05102005.pdf 96 \n",
      "DR 5.10.2005 83 \n",
      "\n",
      " \n",
      "\n",
      " \n",
      "\n",
      " \n",
      "\n",
      " \n",
      "\n",
      " \n",
      "\n",
      " \n",
      "\n",
      " \n",
      "\n",
      " \n",
      "\n",
      " \n",
      "\n",
      " \n",
      "\n",
      " \n",
      "\n",
      " \n",
      "\n",
      " \n",
      "\n",
      " \n",
      "\n",
      " \n",
      "\n",
      " \n",
      "\n",
      " \n",
      "\n",
      " \n",
      "\n",
      " \n",
      "\n",
      " \n",
      "\n",
      " \n",
      "\n",
      " \n",
      "\n",
      " \n",
      "\n",
      " \n",
      "\n",
      "\n",
      "\n"
     ]
    },
    {
     "name": "stderr",
     "output_type": "stream",
     "text": [
      " 23%|███████████████████▌                                                                  | 354/1560 [01:57<05:08,  3.91it/s]"
     ]
    },
    {
     "name": "stdout",
     "output_type": "stream",
     "text": [
      "pdf/DR-08052008.pdf 95 \n",
      "84 DR.8.5.2008 \n",
      "\n",
      " \n",
      " \n",
      "\n",
      " \n",
      "\n",
      " \n",
      "\n",
      " \n",
      "\n",
      " \n",
      "\n",
      " \n",
      "\n",
      "\n",
      "\n"
     ]
    },
    {
     "name": "stderr",
     "output_type": "stream",
     "text": [
      " 23%|███████████████████▋                                                                  | 356/1560 [01:57<05:26,  3.68it/s]"
     ]
    },
    {
     "name": "stdout",
     "output_type": "stream",
     "text": [
      "pdf/DR-08062010.pdf 107 \n",
      "92 DR.8.6.2010 \n",
      "\n",
      " \n",
      " \n",
      "\n",
      " \n",
      "\n",
      " \n",
      "\n",
      " \n",
      "\n",
      "\n",
      "\n"
     ]
    },
    {
     "name": "stderr",
     "output_type": "stream",
     "text": [
      " 23%|████████████████████▏                                                                 | 366/1560 [02:02<08:49,  2.26it/s]"
     ]
    },
    {
     "name": "stdout",
     "output_type": "stream",
     "text": [
      "pdf/DR-08092003.pdf 144 \n",
      "DR.8.9.2003 133 \n",
      " \n",
      "\n",
      " \n",
      " \n",
      " \n",
      " \n",
      "\n",
      "  \n",
      "\n",
      "\n",
      "\n"
     ]
    },
    {
     "name": "stderr",
     "output_type": "stream",
     "text": [
      " 27%|██████████████████████▉                                                               | 417/1560 [02:20<07:59,  2.38it/s]"
     ]
    },
    {
     "name": "stdout",
     "output_type": "stream",
     "text": [
      "pdf/DR-09092002.pdf 84 \n",
      "DR.9.9.2002 75 \n",
      " \n",
      "\n",
      " \n",
      "\n",
      " \n",
      "\n",
      "\n",
      "\n"
     ]
    },
    {
     "name": "stderr",
     "output_type": "stream",
     "text": [
      " 27%|███████████████████████▏                                                              | 420/1560 [02:20<06:22,  2.98it/s]"
     ]
    },
    {
     "name": "stdout",
     "output_type": "stream",
     "text": [
      "pdf/DR-09102002.pdf 1 \n",
      " DR.09.10.2002 \n",
      " \n",
      "2 \n",
      "\n",
      " \n",
      "\n",
      "\n",
      "\n"
     ]
    },
    {
     "name": "stderr",
     "output_type": "stream",
     "text": [
      " 33%|████████████████████████████▏                                                         | 512/1560 [02:48<05:23,  3.24it/s]"
     ]
    },
    {
     "name": "stdout",
     "output_type": "stream",
     "text": [
      "pdf/DR-11072005.pdf 109 \n",
      "96 DR.11.7.2005 \n",
      "\n",
      " \n",
      "\n",
      " \n",
      "\n",
      " \n",
      "\n",
      "\n",
      "\n"
     ]
    },
    {
     "name": "stderr",
     "output_type": "stream",
     "text": [
      " 34%|█████████████████████████████▏                                                        | 529/1560 [02:53<03:45,  4.57it/s]"
     ]
    },
    {
     "name": "stdout",
     "output_type": "stream",
     "text": [
      "pdf/DR-11112002.pdf 1 \n",
      "2 DR.11.11.2002 \n",
      " \n",
      " \n",
      " \n",
      " \n",
      "\n",
      "\n",
      "\n"
     ]
    },
    {
     "name": "stderr",
     "output_type": "stream",
     "text": [
      " 35%|█████████████████████████████▉                                                        | 544/1560 [02:57<04:51,  3.48it/s]"
     ]
    },
    {
     "name": "stdout",
     "output_type": "stream",
     "text": [
      "pdf/DR-11122008.pdf 127 \n",
      "114 DR.11.12.2008 \n",
      "\n",
      " \n",
      " \n",
      " \n",
      "\n",
      "\n",
      "\n"
     ]
    },
    {
     "name": "stderr",
     "output_type": "stream",
     "text": [
      " 37%|███████████████████████████████▉                                                      | 579/1560 [03:07<03:33,  4.60it/s]"
     ]
    },
    {
     "name": "stdout",
     "output_type": "stream",
     "text": [
      "pdf/DR-12112002.pdf 98 \n",
      "DR.12.11.2002 87 \n",
      " \n",
      "\n",
      " \n",
      "\n",
      " \n",
      "\n",
      " \n",
      "\n",
      " \n",
      "\n",
      " \n",
      "\n",
      " \n",
      "\n",
      " \n",
      "\n",
      " \n",
      "\n",
      "\n",
      "\n"
     ]
    },
    {
     "name": "stderr",
     "output_type": "stream",
     "text": [
      " 40%|██████████████████████████████████                                                    | 617/1560 [03:19<04:16,  3.68it/s]"
     ]
    },
    {
     "name": "stdout",
     "output_type": "stream",
     "text": [
      "pdf/DR-13102003.pdf 1 \n",
      "2 DR.13.10.2003 \n",
      " \n",
      " \n",
      "\n",
      "\n",
      "\n"
     ]
    },
    {
     "name": "stderr",
     "output_type": "stream",
     "text": [
      " 46%|███████████████████████████████████████▎                                              | 714/1560 [03:51<04:41,  3.01it/s]"
     ]
    },
    {
     "name": "stdout",
     "output_type": "stream",
     "text": [
      "pdf/DR-15102002.pdf 1 \n",
      "2 DR.15.10.2002 \n",
      " \n",
      "\n",
      " \n",
      " \n",
      "\n",
      "\n",
      "\n"
     ]
    },
    {
     "name": "stderr",
     "output_type": "stream",
     "text": [
      " 46%|███████████████████████████████████████▉                                              | 724/1560 [03:55<05:12,  2.68it/s]"
     ]
    },
    {
     "name": "stdout",
     "output_type": "stream",
     "text": [
      "pdf/DR-15112006.pdf 3 \n",
      "2 DR.15.11.2006 \n",
      "\n",
      " \n",
      "\n",
      "\n",
      "\n"
     ]
    },
    {
     "name": "stderr",
     "output_type": "stream",
     "text": [
      " 49%|█████████████████████████████████████████▉                                            | 761/1560 [04:07<04:04,  3.27it/s]"
     ]
    },
    {
     "name": "stdout",
     "output_type": "stream",
     "text": [
      "pdf/DR-16072020.pdf 97 \n",
      "86 DR 16.7.2020 \n",
      "\n",
      " \n",
      " \n",
      "\n",
      " \n",
      "\n",
      "\n",
      "\n"
     ]
    },
    {
     "name": "stderr",
     "output_type": "stream",
     "text": [
      " 49%|██████████████████████████████████████████                                            | 763/1560 [04:08<04:08,  3.20it/s]"
     ]
    },
    {
     "name": "stdout",
     "output_type": "stream",
     "text": [
      "pdf/DR-16092002.pdf 1 \n",
      "2 DR.16.9.2002 \n",
      " \n",
      " \n",
      "\n",
      "\n",
      "\n"
     ]
    },
    {
     "name": "stderr",
     "output_type": "stream",
     "text": [
      " 54%|██████████████████████████████████████████████▌                                       | 844/1560 [04:34<02:54,  4.10it/s]"
     ]
    },
    {
     "name": "stdout",
     "output_type": "stream",
     "text": [
      "pdf/DR-17122009.pdf 92 \n",
      "DR 17.12.2009 81 \n",
      "\n",
      " \n",
      " \n",
      "\n",
      "\n",
      "\n"
     ]
    },
    {
     "name": "stderr",
     "output_type": "stream",
     "text": [
      " 60%|███████████████████████████████████████████████████▍                                  | 933/1560 [05:03<03:40,  2.84it/s]"
     ]
    },
    {
     "name": "stdout",
     "output_type": "stream",
     "text": [
      "pdf/DR-19092002.pdf 1 \n",
      "2 DR.19.9.2002 \n",
      " \n",
      "\n",
      " \n",
      "\n",
      "\n",
      "\n",
      "pdf/DR-19092002.pdf 79 \n",
      "70 DR.19.9.2002 \n",
      " \n",
      "\n",
      " \n",
      "\n",
      " \n",
      "\n",
      " \n",
      "\n",
      "\n",
      "\n"
     ]
    },
    {
     "name": "stderr",
     "output_type": "stream",
     "text": [
      " 62%|█████████████████████████████████████████████████████▊                                | 975/1560 [05:18<03:14,  3.01it/s]"
     ]
    },
    {
     "name": "stdout",
     "output_type": "stream",
     "text": [
      "pdf/DR-20062005.pdf 96 \n",
      "DR.20.6.2005 83 \n",
      "\n",
      " \n",
      " \n",
      " \n",
      "\n",
      " \n",
      "\n",
      " \n",
      "\n",
      " \n",
      "\n",
      " \n",
      "\n",
      " \n",
      "\n",
      " \n",
      "\n",
      " \n",
      "\n",
      "\n",
      "\n"
     ]
    },
    {
     "name": "stderr",
     "output_type": "stream",
     "text": [
      " 68%|█████████████████████████████████████████████████████████▍                           | 1053/1560 [05:42<02:08,  3.96it/s]"
     ]
    },
    {
     "name": "stdout",
     "output_type": "stream",
     "text": [
      "pdf/DR-21112011.pdf 120 \n",
      "DR 21.11.2011 109 \n",
      "\n",
      " \n",
      " \n",
      "\n",
      "\n",
      "\n"
     ]
    },
    {
     "name": "stderr",
     "output_type": "stream",
     "text": [
      " 69%|██████████████████████████████████████████████████████████▋                          | 1077/1560 [05:51<03:07,  2.58it/s]"
     ]
    },
    {
     "name": "stdout",
     "output_type": "stream",
     "text": [
      "pdf/DR-22062005.pdf 99 \n",
      "86 DR.22.6.2005 \n",
      "\n",
      " \n",
      " \n",
      " \n",
      " \n",
      " \n",
      " \n",
      " \n",
      " \n",
      " \n",
      " \n",
      " \n",
      " \n",
      " \n",
      " \n",
      " \n",
      " \n",
      " \n",
      " \n",
      "\n",
      " \n",
      " \n",
      " \n",
      " \n",
      " \n",
      " \n",
      " \n",
      "\n",
      "\n",
      "\n"
     ]
    },
    {
     "name": "stderr",
     "output_type": "stream",
     "text": [
      " 73%|██████████████████████████████████████████████████████████████▎                      | 1144/1560 [06:14<02:29,  2.78it/s]"
     ]
    },
    {
     "name": "stdout",
     "output_type": "stream",
     "text": [
      "pdf/DR-23102002.pdf 1 \n",
      "2 DR.23.10.2002 \n",
      " \n",
      "\n",
      " \n",
      "\n",
      " \n",
      "\n",
      "\n",
      "\n"
     ]
    },
    {
     "name": "stderr",
     "output_type": "stream",
     "text": [
      " 83%|██████████████████████████████████████████████████████████████████████▌              | 1296/1560 [07:06<01:40,  2.64it/s]"
     ]
    },
    {
     "name": "stdout",
     "output_type": "stream",
     "text": [
      "pdf/DR-26062002.pdf 1 \n",
      "2 DR.26.6.2002 \n",
      " \n",
      " \n",
      " \n",
      "\n",
      "\n",
      "\n"
     ]
    },
    {
     "name": "stderr",
     "output_type": "stream",
     "text": [
      " 93%|███████████████████████████████████████████████████████████████████████████████▎     | 1456/1560 [07:56<00:35,  2.92it/s]"
     ]
    },
    {
     "name": "stdout",
     "output_type": "stream",
     "text": [
      "pdf/DR-29062010.pdf 174 \n",
      "DR.29.6.2010 161 \n",
      "\n",
      " \n",
      " \n",
      "\n",
      " \n",
      "\n",
      " \n",
      "\n",
      "\n",
      "\n"
     ]
    },
    {
     "name": "stderr",
     "output_type": "stream",
     "text": [
      " 94%|████████████████████████████████████████████████████████████████████████████████     | 1469/1560 [08:00<00:29,  3.10it/s]"
     ]
    },
    {
     "name": "stdout",
     "output_type": "stream",
     "text": [
      "pdf/DR-29102003.pdf 1 \n",
      "2 DR.29.10.2003 \n",
      " \n",
      " \n",
      " \n",
      "\n",
      "\n",
      "\n"
     ]
    },
    {
     "name": "stderr",
     "output_type": "stream",
     "text": [
      " 97%|██████████████████████████████████████████████████████████████████████████████████▏  | 1508/1560 [08:13<00:19,  2.62it/s]"
     ]
    },
    {
     "name": "stdout",
     "output_type": "stream",
     "text": [
      "pdf/DR-30082006.pdf 180 \n",
      "DR.30.8.2006 165 \n",
      "\n",
      " \n",
      "\n",
      " \n",
      "\n",
      " \n",
      "\n",
      " \n",
      "\n",
      " \n",
      "\n",
      " \n",
      "\n",
      " \n",
      "\n",
      " \n",
      "\n",
      "\n",
      "\n"
     ]
    },
    {
     "name": "stderr",
     "output_type": "stream",
     "text": [
      "100%|████████████████████████████████████████████████████████████████████████████████████▊| 1557/1560 [08:30<00:01,  2.96it/s]"
     ]
    },
    {
     "name": "stdout",
     "output_type": "stream",
     "text": [
      "pdf/DR-31102016.pdf 148 \n",
      "DR 31.10.2016                                                                                                                                                   137               \n",
      "\n",
      " \n",
      "\n",
      " \n",
      "\n",
      " \n",
      "\n",
      " \n",
      "\n",
      " \n",
      "\n",
      " \n",
      "\n",
      " \n",
      "\n",
      "\n",
      "\n"
     ]
    },
    {
     "name": "stderr",
     "output_type": "stream",
     "text": [
      "100%|█████████████████████████████████████████████████████████████████████████████████████| 1560/1560 [08:32<00:00,  3.05it/s]\n"
     ]
    }
   ],
   "source": [
    "with open('hansard.jsonl', 'w') as fopen:\n",
    "    for f in tqdm(files):\n",
    "        raw_xml = parser.from_file(f, 'http://localhost:9998/tika', xmlContent=True)\n",
    "        body = raw_xml['content'].split('<body>')[1].split('</body>')[0]\n",
    "        body_without_tag = body.replace(\"<p>\", \"\").replace(\"</p>\", \"\").replace(\"<div>\", \"\").replace(\"</div>\",\"\").replace(\"<p />\",\"\")\n",
    "        text_pages = body_without_tag.split(\"\"\"<div class=\"page\">\"\"\")[1:]\n",
    "\n",
    "        for i, t in enumerate(text_pages):\n",
    "            r = re.findall(r'DR[\\. ]\\s*[0-3]?[0-9].[0-3]?[0-9].(?:[0-9]{2})?[0-9]{2}\\s+\\d+\\b', t)\n",
    "            r_ = re.findall(r'\\d+\\s+DR[\\. ]\\s*[0-3]?[0-9].[0-3]?[0-9].(?:[0-9]{2})?[0-9]{2}\\b', t)\n",
    "            found = True\n",
    "            if len(r):\n",
    "                no_page = r[0].split()[-1]\n",
    "            elif len(r_):\n",
    "                no_page = r_[0].split()[0]\n",
    "            else:\n",
    "                found = False\n",
    "\n",
    "            if not found:\n",
    "                continue\n",
    "\n",
    "            splitted = t.split('\\n \\n')\n",
    "            splitted = [s for s in splitted if len(s.strip()) > 1]\n",
    "            if len(splitted) < 3:\n",
    "                splitted = t.split('\\n\\n')\n",
    "            splitted = [cleaning(s) for s in splitted[1:]]\n",
    "            splitted = [s + '.' if s[-1] not in  '.;:,' else s for s in splitted if len(s)]\n",
    "            splitted = ' '.join(splitted)\n",
    "            date = datetime.strptime(f, 'pdf/DR-%d%m%Y.pdf').strftime('%Y-%m-%d')\n",
    "            \n",
    "            if not len(splitted):\n",
    "                print(f, i, t)\n",
    "\n",
    "            d = {\n",
    "                'original': t,\n",
    "                'cleaned': splitted,\n",
    "                'no_page': int(no_page),\n",
    "                'actual_no_page': i + 1,\n",
    "                'date': date,\n",
    "                'url': f'https://www.parlimen.gov.my/files/hindex/{f}'\n",
    "            }\n",
    "            fopen.write(f'{json.dumps(d)}\\n')\n",
    "#             break\n",
    "#         break"
   ]
  },
  {
   "cell_type": "code",
   "execution_count": 37,
   "metadata": {},
   "outputs": [
    {
     "name": "stdout",
     "output_type": "stream",
     "text": [
      "142609 hansard.jsonl\r\n"
     ]
    }
   ],
   "source": [
    "!wc -l hansard.jsonl"
   ]
  },
  {
   "cell_type": "code",
   "execution_count": 38,
   "metadata": {},
   "outputs": [],
   "source": [
    "!split -l 50000 -d --additional-suffix=.splitted hansard.jsonl hansard.jsonl"
   ]
  }
 ],
 "metadata": {
  "kernelspec": {
   "display_name": "Python 3 (ipykernel)",
   "language": "python",
   "name": "python3"
  },
  "language_info": {
   "codemirror_mode": {
    "name": "ipython",
    "version": 3
   },
   "file_extension": ".py",
   "mimetype": "text/x-python",
   "name": "python",
   "nbconvert_exporter": "python",
   "pygments_lexer": "ipython3",
   "version": "3.8.10"
  }
 },
 "nbformat": 4,
 "nbformat_minor": 4
}
