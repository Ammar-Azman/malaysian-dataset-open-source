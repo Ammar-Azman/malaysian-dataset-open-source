{
 "cells": [
  {
   "cell_type": "code",
   "execution_count": 1,
   "metadata": {},
   "outputs": [],
   "source": [
    "import requests\n",
    "from bs4 import BeautifulSoup\n",
    "from tqdm import tqdm\n",
    "import os\n",
    "import json\n",
    "import numpy as np\n",
    "import time\n",
    "import random\n",
    "import json\n",
    "import urllib3\n",
    "urllib3.disable_warnings(urllib3.exceptions.InsecureRequestWarning)"
   ]
  },
  {
   "cell_type": "code",
   "execution_count": 2,
   "metadata": {},
   "outputs": [
    {
     "data": {
      "text/plain": [
       "3010"
      ]
     },
     "execution_count": 2,
     "metadata": {},
     "output_type": "execute_result"
    }
   ],
   "source": [
    "from glob import glob\n",
    "\n",
    "files = glob('url/*.json')\n",
    "urls = []\n",
    "for f in files:\n",
    "    with open(f) as fopen:\n",
    "        urls.extend(json.load(fopen))\n",
    "urls = sorted(list(set(urls)))\n",
    "len(urls)"
   ]
  },
  {
   "cell_type": "code",
   "execution_count": 6,
   "metadata": {},
   "outputs": [
    {
     "data": {
      "text/plain": [
       "'https://simplywall.st/stocks/my/utilities/klse-ytlpowr/ytl-power-international-berhad-shares/news/ytl-power-international-berhads-klseytlpowr-market-cap-surge'"
      ]
     },
     "execution_count": 6,
     "metadata": {},
     "output_type": "execute_result"
    }
   ],
   "source": [
    "urls[-1]"
   ]
  },
  {
   "cell_type": "code",
   "execution_count": 3,
   "metadata": {},
   "outputs": [],
   "source": [
    "r = requests.get(urls[-1])\n",
    "soup = BeautifulSoup(r.content, \"lxml\")"
   ]
  },
  {
   "cell_type": "code",
   "execution_count": 5,
   "metadata": {},
   "outputs": [
    {
     "data": {
      "text/plain": [
       "\"YTL Power International Berhad's (KLSE:YTLPOWR) market cap surged RM284m last week, private companies who have a lot riding on the company were rewarded\""
      ]
     },
     "execution_count": 5,
     "metadata": {},
     "output_type": "execute_result"
    }
   ],
   "source": [
    "soup.find('h1').text"
   ]
  },
  {
   "cell_type": "code",
   "execution_count": 8,
   "metadata": {},
   "outputs": [
    {
     "data": {
      "text/plain": [
       "\" To get a sense of who is truly in control of YTL Power International Berhad (KLSE:YTLPOWR), it is important to understand the ownership structure of the business.  With 57% stake, private companies possess the maximum shares in the company.   In other words, the group stands to gain the most (or lose the most) from their investment into the company.  As a result, private companies were the biggest beneficiaries of last week’s 4.9% gain.     Let's delve deeper into each type of owner of YTL Power International Berhad, beginning with the chart below.  If you're not interested in researching YTLPOWR's ownership structure, we have a free list of interesting investing ideas  to potentially inspire your next investment! KLSE:YTLPOWR Ownership Breakdown August 31st 2022 What Does The Institutional Ownership Tell Us About YTL Power International Berhad? Institutional investors commonly compare their own returns to the returns of a commonly followed index. So they generally do consider buying larger companies that are included in the relevant benchmark index.   As you can see, institutional investors have a fair amount of stake in YTL Power International Berhad.  This implies the analysts working for those institutions have looked at the stock and they like it. But just like anyone else, they could be wrong.  If multiple institutions change their view on a stock at the same time, you could see the share price drop fast. It's therefore worth looking at YTL Power International Berhad's earnings history below. Of course, the future is what really matters. KLSE:YTLPOWR Earnings and Revenue Growth August 31st 2022  Hedge funds don't have many shares in YTL Power International Berhad.      The company's largest shareholder is Yeoh Tiong Lay & Sons Holdings Sdn. Bhd., with ownership of 56%.   This essentially means that they have extensive influence, if not outright control, over the future of the corporation.        Permodalan Nasional Berhad is the second largest shareholder owning 7.2% of common stock, and Employees Provident Fund of Malaysia holds about 5.5% of the company stock.      Furthermore, CEO Seok Yeoh is the owner of 1.7% of the company's shares.    Researching institutional ownership is a good way to gauge and filter a stock's expected performance. The same can be achieved by studying analyst sentiments.   There are a reasonable number of analysts covering the stock, so it might be useful to find out their aggregate view on the future.  Insider Ownership Of YTL Power International Berhad The definition of an insider can differ slightly between different countries, but members of the board of directors always count.  Management ultimately answers to the board. However, it is not uncommon for managers to be executive board members, especially if they are a founder or the CEO.  Insider ownership is positive when it signals leadership are thinking like the true owners of the company. However, high insider ownership can also give immense power to a small group within the company. This can be negative in some circumstances.   We can report that insiders do own shares in YTL Power International Berhad.   It is a pretty big company, so it is generally a positive to see some potentially meaningful alignment. In this case, they own around RM235m worth of shares (at current prices).  Most would say this shows alignment of interests between shareholders and the board. Still, it might be worth checking if those insiders have been selling.   General Public Ownership The general public, who are usually individual investors, hold a 22% stake in YTL Power International Berhad.   This size of ownership, while considerable, may not be enough to change company policy if the decision is not in sync with other large shareholders.  Private Company Ownership Our data indicates that Private Companies hold 57%, of the company's shares.   Private companies may be related parties. Sometimes insiders have an interest in a public company through a holding in a private company, rather than in their own capacity as an individual. While it's hard to draw any broad stroke conclusions, it is worth noting as an area for further research.   Next Steps: While it is well worth considering the different groups that own a company, there are other factors that are even more important.    Consider for instance, the ever-present spectre of investment risk.   We've identified 3 warning signs  with YTL Power International Berhad (at least 2 which don't sit too well with us)  , and understanding them should be part of your investment process.     Ultimately the future is most important. You can access this free report on analyst forecasts for the company.  NB: Figures in this article are calculated using data from the last twelve months, which refer to the 12-month period ending on the last date of the month the financial statement is dated. This may not be consistent with full year annual report figures.Valuation is complex, but we're helping make it simple.Find out whether YTL Power International Berhad is potentially over or undervalued by checking out our comprehensive analysis, which includes fair value estimates, risks and warnings, dividends, insider transactions and financial health.View the Free AnalysisHave feedback on this article? Concerned about the content? Get in touch with us directly. Alternatively, email editorial-team (at) simplywallst.com.This article by Simply Wall St is general in nature. We provide commentary based on historical data and analyst forecasts only using an unbiased methodology and our articles are not intended to be financial advice. It does not constitute a recommendation to buy or sell any stock, and does not take account of your objectives, or your financial situation. We aim to bring you long-term focused analysis driven by fundamental data. Note that our analysis may not factor in the latest price-sensitive company announcements or qualitative material. Simply Wall St has no position in any stocks mentioned.\""
      ]
     },
     "execution_count": 8,
     "metadata": {},
     "output_type": "execute_result"
    }
   ],
   "source": [
    "soup.find('div', {'data-cy-id':\"article-content\"}).text"
   ]
  },
  {
   "cell_type": "code",
   "execution_count": 9,
   "metadata": {},
   "outputs": [
    {
     "name": "stderr",
     "output_type": "stream",
     "text": [
      "100%|███████████████████████████████████████| 3010/3010 [06:50<00:00,  7.33it/s]\n"
     ]
    }
   ],
   "source": [
    "with open('data.jsonl', 'w') as fopen:\n",
    "    for url in tqdm(urls):\n",
    "        r = requests.get(url)\n",
    "        soup = BeautifulSoup(r.content, \"lxml\")\n",
    "        try:\n",
    "            title = soup.find('h1').text\n",
    "        except:\n",
    "            title = None\n",
    "        try:\n",
    "            body = soup.find('div', {'data-cy-id':\"article-content\"}).text\n",
    "        except:\n",
    "            body = None\n",
    "        data = {\n",
    "            'url': url,\n",
    "            'title': title,\n",
    "            'body': body\n",
    "        }\n",
    "        fopen.write(f'{json.dumps(data)}\\n')"
   ]
  }
 ],
 "metadata": {
  "kernelspec": {
   "display_name": "Python 3 (ipykernel)",
   "language": "python",
   "name": "python3"
  },
  "language_info": {
   "codemirror_mode": {
    "name": "ipython",
    "version": 3
   },
   "file_extension": ".py",
   "mimetype": "text/x-python",
   "name": "python",
   "nbconvert_exporter": "python",
   "pygments_lexer": "ipython3",
   "version": "3.8.10"
  }
 },
 "nbformat": 4,
 "nbformat_minor": 4
}
