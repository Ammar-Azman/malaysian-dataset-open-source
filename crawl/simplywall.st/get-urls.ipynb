{
 "cells": [
  {
   "cell_type": "code",
   "execution_count": 1,
   "metadata": {},
   "outputs": [],
   "source": [
    "import requests\n",
    "from bs4 import BeautifulSoup\n",
    "from tqdm import tqdm\n",
    "import os\n",
    "import json\n",
    "import numpy as np\n",
    "import time\n",
    "import random\n",
    "import json"
   ]
  },
  {
   "cell_type": "code",
   "execution_count": 2,
   "metadata": {},
   "outputs": [],
   "source": [
    "!rm -rf url\n",
    "!mkdir url"
   ]
  },
  {
   "cell_type": "code",
   "execution_count": 3,
   "metadata": {},
   "outputs": [],
   "source": [
    "r = requests.get('https://simplywall.st/news/my')\n",
    "soup = BeautifulSoup(r.content, \"lxml\")"
   ]
  },
  {
   "cell_type": "code",
   "execution_count": 7,
   "metadata": {},
   "outputs": [
    {
     "data": {
      "text/plain": [
       "['https://simplywall.st/stocks/my/semiconductors/klse-inari/inari-amertron-berhad-shares/news/inari-amertron-berhads-klseinari-three-year-earnings-growth',\n",
       " 'https://simplywall.st/stocks/my/tech/klse-iris/iris-corporation-berhad-shares/news/the-three-year-underlying-earnings-growth-at-iris-corporatio',\n",
       " 'https://simplywall.st/stocks/my/materials/klse-pmetal/press-metal-aluminium-holdings-berhad-shares/news/press-metal-aluminium-holdings-berhads-klsepmetal-fundamenta',\n",
       " 'https://simplywall.st/stocks/my/materials/klse-lsteel/leader-steel-holdings-berhad-shares/news/three-days-left-to-buy-leader-steel-holdings-berhad-klselste',\n",
       " 'https://simplywall.st/stocks/my/capital-goods/klse-metrod/metrod-holdings-berhad-shares/news/metrod-holdings-berhad-klsemetrod-will-pay-a-rm006-dividend',\n",
       " 'https://simplywall.st/stocks/my/consumer-retailing/klse-sem/7-eleven-malaysia-holdings-berhad-shares/news/some-investors-may-be-worried-about-7-eleven-malaysia-holdin',\n",
       " 'https://simplywall.st/stocks/my/food-beverage-tobacco/klse-pinepac/pinehill-pacific-berhad-shares/news/estimating-the-fair-value-of-pinehill-pacific-berhad-klsepin',\n",
       " 'https://simplywall.st/stocks/my/real-estate-management-and-development/klse-uoadev/uoa-development-bhd-shares/news/despite-the-downward-trend-in-earnings-at-uoa-development-bh',\n",
       " 'https://simplywall.st/stocks/my/consumer-services/klse-oversea/oversea-enterprise-berhad-shares/news/the-return-trends-at-oversea-enterprise-berhad-klseoversea-l',\n",
       " 'https://simplywall.st/stocks/my/food-beverage-tobacco/klse-ioicorp/ioi-corporation-berhad-shares/news/we-think-ioi-corporation-berhad-klseioicorp-can-stay-on-top',\n",
       " 'https://simplywall.st/stocks/my/healthcare/klse-adventa/adventa-berhad-shares/news/does-adventa-berhad-klseadventa-have-a-healthy-balance-sheet',\n",
       " 'https://simplywall.st/stocks/my/food-beverage-tobacco/klse-matang/matang-berhad-shares/news/do-its-financials-have-any-role-to-play-in-driving-matang-be',\n",
       " 'https://simplywall.st/stocks/my/capital-goods/klse-inta/inta-bina-group-berhad-shares/news/these-4-measures-indicate-that-inta-bina-group-berhad-klsein',\n",
       " 'https://simplywall.st/stocks/my/materials/klse-eksons/eksons-corporation-berhad-shares/news/the-price-is-right-for-eksons-corporation-berhad-klseeksons',\n",
       " 'https://simplywall.st/stocks/my/food-beverage-tobacco/klse-greenyb/greenyield-berhad-shares/news/should-you-be-adding-greenyield-berhad-klsegreenyb-to-your-w',\n",
       " 'https://simplywall.st/stocks/my/semiconductors/klse-oppstar/oppstar-berhad-shares/news/oppstar-berhads-klseoppstar-popularity-with-investors-is-cle',\n",
       " 'https://simplywall.st/stocks/my/capital-goods/klse-mrcb/malaysian-resources-corporation-berhad-shares/news/institutional-investors-have-a-lot-riding-on-malaysian-resou',\n",
       " 'https://simplywall.st/stocks/my/consumer-services/klse-smrt/smrt-holdings-berhad-shares/news/while-shareholders-of-smrt-holdings-berhad-klsesmrt-are-in-t',\n",
       " 'https://simplywall.st/stocks/my/food-beverage-tobacco/klse-fgv/fgv-holdings-berhad-shares/news/fgv-holdings-berhads-klsefgv-84-yoy-earnings-expansion-surpa',\n",
       " 'https://simplywall.st/stocks/my/food-beverage-tobacco/klse-umcca/united-malacca-berhad-shares/news/united-malacca-berhad-klseumcca-looks-like-a-good-stock-and',\n",
       " 'https://simplywall.st/stocks/my/materials/klse-humeind/hume-cement-industries-berhad-shares/news/hume-cement-industries-berhad-klsehumeind-might-have-the-mak',\n",
       " 'https://simplywall.st/stocks/my/food-beverage-tobacco/klse-tecguan/teck-guan-perdana-berhad-shares/news/teck-guan-perdana-berhad-klsetecguan-passed-our-checks-and-i',\n",
       " 'https://simplywall.st/stocks/my/banks/klse-pbbank/public-bank-berhad-shares/news/do-public-bank-berhads-klsepbbank-earnings-warrant-your-atte-1',\n",
       " 'https://simplywall.st/stocks/my/retail/klse-bauto/bermaz-auto-berhad-shares/news/bermaz-auto-berhads-klsebauto-earnings-growth-rate-lags-the']"
      ]
     },
     "execution_count": 7,
     "metadata": {},
     "output_type": "execute_result"
    }
   ],
   "source": [
    "a = soup.find_all('a', {'class': 'styled__StyledAnchor-sc-wtkvpy-7 clVUAC'})\n",
    "a = [a_.get('href') for a_ in a if 'https://simplywall.st/' in a_.get('href', '')]\n",
    "a"
   ]
  },
  {
   "cell_type": "code",
   "execution_count": 8,
   "metadata": {},
   "outputs": [
    {
     "name": "stderr",
     "output_type": "stream",
     "text": [
      "126it [01:51,  1.13it/s]\n"
     ]
    }
   ],
   "source": [
    "def generator():\n",
    "    while True:\n",
    "        yield\n",
    "    \n",
    "index = 1\n",
    "for _ in tqdm(generator()):\n",
    "    filename = os.path.join('url', f'{index}.json')\n",
    "    if os.path.exists(filename):\n",
    "        index += 1\n",
    "        continue\n",
    "\n",
    "    url = f'https://simplywall.st/news/my/page/{index}/'\n",
    "    while True:\n",
    "        try:\n",
    "            r = requests.get(url)\n",
    "            break\n",
    "        except:\n",
    "            time.sleep(1.0)\n",
    "\n",
    "    soup = BeautifulSoup(r.content, \"lxml\")\n",
    "\n",
    "    a = soup.find_all('a', {'class': 'styled__StyledAnchor-sc-wtkvpy-7 clVUAC'})\n",
    "    a = [a_.get('href') for a_ in a if 'https://simplywall.st/' in a_.get('href', '')]\n",
    "\n",
    "    if not len(a):\n",
    "        break\n",
    "\n",
    "    with open(filename, 'w') as fopen:\n",
    "        json.dump(a, fopen)    \n",
    "\n",
    "    index += 1"
   ]
  },
  {
   "cell_type": "code",
   "execution_count": null,
   "metadata": {},
   "outputs": [],
   "source": []
  }
 ],
 "metadata": {
  "kernelspec": {
   "display_name": "Python 3 (ipykernel)",
   "language": "python",
   "name": "python3"
  },
  "language_info": {
   "codemirror_mode": {
    "name": "ipython",
    "version": 3
   },
   "file_extension": ".py",
   "mimetype": "text/x-python",
   "name": "python",
   "nbconvert_exporter": "python",
   "pygments_lexer": "ipython3",
   "version": "3.8.10"
  }
 },
 "nbformat": 4,
 "nbformat_minor": 4
}
