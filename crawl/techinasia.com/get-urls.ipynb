{
 "cells": [
  {
   "cell_type": "code",
   "execution_count": 4,
   "metadata": {},
   "outputs": [],
   "source": [
    "import requests\n",
    "import json\n",
    "import time\n",
    "from tqdm import tqdm"
   ]
  },
  {
   "cell_type": "code",
   "execution_count": 19,
   "metadata": {},
   "outputs": [],
   "source": [
    "cookies = {\n",
    "    'ajs_user_id': 'null',\n",
    "    'ajs_group_id': 'null',\n",
    "    '_gcl_au': '1.1.2052536002.1694146793',\n",
    "    '_ga_ga': 'GA1.1.684516275.1694146793',\n",
    "    '__insp_wid': '1565138196',\n",
    "    '__insp_slim': '1694146793546',\n",
    "    '__insp_nv': 'true',\n",
    "    '__insp_targlpu': 'aHR0cHM6Ly93d3cudGVjaGluYXNpYS5jb20vdGFnL21hbGF5c2lh',\n",
    "    '__insp_targlpt': 'VGVjaCBpbiBBc2lhIC0gQ29ubmVjdGluZyBBc2lhJ3Mgc3RhcnR1cCBlY29zeXN0ZW0%3D',\n",
    "    'ln_or': 'eyIyNDI2ODIsMzUxNDI0MiI6ImQifQ%3D%3D',\n",
    "    '_ga': 'GA1.2.684516275.1694146793',\n",
    "    '_gid': 'GA1.2.41545403.1694146794',\n",
    "    'ajs_anonymous_id': '%2229f81cab-7ec7-4217-b714-1584e7f33701%22',\n",
    "    '__insp_norec_sess': 'true',\n",
    "    '_ga_ga_TN9Z9MNFBD': 'GS1.1.1694146793.1.1.1694146812.41.0.0',\n",
    "}\n",
    "\n",
    "headers = {\n",
    "    'Accept': 'text/html,application/xhtml+xml,application/xml;q=0.9,image/avif,image/webp,image/apng,*/*;q=0.8,application/signed-exchange;v=b3;q=0.7',\n",
    "    'Accept-Language': 'en-MY,en;q=0.9,en-US;q=0.8,ms;q=0.7',\n",
    "    'Cache-Control': 'no-cache',\n",
    "    'Connection': 'keep-alive',\n",
    "    # 'Cookie': 'ajs_user_id=null; ajs_group_id=null; _gcl_au=1.1.2052536002.1694146793; _ga_ga=GA1.1.684516275.1694146793; __insp_wid=1565138196; __insp_slim=1694146793546; __insp_nv=true; __insp_targlpu=aHR0cHM6Ly93d3cudGVjaGluYXNpYS5jb20vdGFnL21hbGF5c2lh; __insp_targlpt=VGVjaCBpbiBBc2lhIC0gQ29ubmVjdGluZyBBc2lhJ3Mgc3RhcnR1cCBlY29zeXN0ZW0%3D; ln_or=eyIyNDI2ODIsMzUxNDI0MiI6ImQifQ%3D%3D; _ga=GA1.2.684516275.1694146793; _gid=GA1.2.41545403.1694146794; ajs_anonymous_id=%2229f81cab-7ec7-4217-b714-1584e7f33701%22; __insp_norec_sess=true; _ga_ga_TN9Z9MNFBD=GS1.1.1694146793.1.1.1694146812.41.0.0',\n",
    "    'Pragma': 'no-cache',\n",
    "    'Sec-Fetch-Dest': 'document',\n",
    "    'Sec-Fetch-Mode': 'navigate',\n",
    "    'Sec-Fetch-Site': 'none',\n",
    "    'Sec-Fetch-User': '?1',\n",
    "    'Upgrade-Insecure-Requests': '1',\n",
    "    'User-Agent': 'Mozilla/5.0 (Macintosh; Intel Mac OS X 10_15_7) AppleWebKit/537.36 (KHTML, like Gecko) Chrome/116.0.0.0 Safari/537.36',\n",
    "    'sec-ch-ua': '\"Chromium\";v=\"116\", \"Not)A;Brand\";v=\"24\", \"Google Chrome\";v=\"116\"',\n",
    "    'sec-ch-ua-mobile': '?0',\n",
    "    'sec-ch-ua-platform': '\"macOS\"',\n",
    "}\n",
    "\n"
   ]
  },
  {
   "cell_type": "code",
   "execution_count": 22,
   "metadata": {},
   "outputs": [
    {
     "name": "stderr",
     "output_type": "stream",
     "text": [
      "30it [00:49,  1.65s/it]\n"
     ]
    }
   ],
   "source": [
    "def generator():\n",
    "    while True:\n",
    "        yield\n",
    "        \n",
    "index = 1\n",
    "result = []\n",
    "\n",
    "for _ in tqdm(generator()):\n",
    "    params = {\n",
    "        'page': index,\n",
    "        'per_page': '10',\n",
    "    }\n",
    "\n",
    "    response = requests.get(\n",
    "        'https://www.techinasia.com/wp-json/techinasia/2.0/tags/malaysia/posts',\n",
    "        params=params,\n",
    "        cookies=cookies,\n",
    "        headers=headers,\n",
    "    )\n",
    "    \n",
    "    if response.status_code != 200:\n",
    "        break\n",
    "        \n",
    "    result.append(response.json())\n",
    "    \n",
    "    index += 1"
   ]
  },
  {
   "cell_type": "code",
   "execution_count": 23,
   "metadata": {},
   "outputs": [],
   "source": [
    "with open('urls.json', 'w') as fopen:\n",
    "    json.dump(result, fopen)"
   ]
  }
 ],
 "metadata": {
  "kernelspec": {
   "display_name": "Python 3 (ipykernel)",
   "language": "python",
   "name": "python3"
  },
  "language_info": {
   "codemirror_mode": {
    "name": "ipython",
    "version": 3
   },
   "file_extension": ".py",
   "mimetype": "text/x-python",
   "name": "python",
   "nbconvert_exporter": "python",
   "pygments_lexer": "ipython3",
   "version": "3.8.10"
  }
 },
 "nbformat": 4,
 "nbformat_minor": 4
}
