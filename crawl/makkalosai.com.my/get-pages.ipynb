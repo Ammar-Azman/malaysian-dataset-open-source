{
 "cells": [
  {
   "cell_type": "code",
   "execution_count": 1,
   "metadata": {},
   "outputs": [],
   "source": [
    "import requests\n",
    "from bs4 import BeautifulSoup\n",
    "from tqdm import tqdm\n",
    "import os\n",
    "import json\n",
    "import numpy as np\n",
    "import time\n",
    "import random\n",
    "import json\n",
    "import urllib3\n",
    "urllib3.disable_warnings(urllib3.exceptions.InsecureRequestWarning)"
   ]
  },
  {
   "cell_type": "code",
   "execution_count": 2,
   "metadata": {},
   "outputs": [
    {
     "data": {
      "text/plain": [
       "2223"
      ]
     },
     "execution_count": 2,
     "metadata": {},
     "output_type": "execute_result"
    }
   ],
   "source": [
    "from glob import glob\n",
    "\n",
    "files = glob('url/*.json')\n",
    "len(files)"
   ]
  },
  {
   "cell_type": "code",
   "execution_count": 3,
   "metadata": {},
   "outputs": [
    {
     "data": {
      "text/plain": [
       "23944"
      ]
     },
     "execution_count": 3,
     "metadata": {},
     "output_type": "execute_result"
    }
   ],
   "source": [
    "urls = []\n",
    "for f in files:\n",
    "    with open(f) as fopen:\n",
    "        urls.extend(json.load(fopen))\n",
    "        \n",
    "urls = sorted(set(urls))\n",
    "len(urls)"
   ]
  },
  {
   "cell_type": "code",
   "execution_count": 4,
   "metadata": {},
   "outputs": [],
   "source": [
    "r = requests.get(urls[0])"
   ]
  },
  {
   "cell_type": "code",
   "execution_count": 5,
   "metadata": {},
   "outputs": [],
   "source": [
    "soup = BeautifulSoup(r.content, \"lxml\")"
   ]
  },
  {
   "cell_type": "code",
   "execution_count": 7,
   "metadata": {},
   "outputs": [
    {
     "data": {
      "text/plain": [
       "'மோசடிப் புகாரில் தொழிலதிபர் லக்ஷ்மி மிட்டலின் சகோதரர் பிரமோத் மிட்டல் கைது'"
      ]
     },
     "execution_count": 7,
     "metadata": {},
     "output_type": "execute_result"
    }
   ],
   "source": [
    "soup.find('h1').text"
   ]
  },
  {
   "cell_type": "code",
   "execution_count": 10,
   "metadata": {},
   "outputs": [
    {
     "data": {
      "text/plain": [
       "'The model is talking about booking her latest gig, modeling \\nWordPress\\n underwear in the brand latest Perfectly Fit campaign, which was shot by Lachian Bailey. It was such a surreal moment cried she admitted.\\n\\n\\nThe main thing that you have to remember on this journey is just be nice to everyone and always smile.\\n\\n\\nIt’s kind of confusing because I’m a bigger girl, Dalbesio says. I’m not the biggest girl on the market but I’m definitely bigger than all the girls [Calvin Klein] has ever worked with, so that is really intimidating. She wasn’t sure, she said of the shoot, what was expected from her in terms of her size or shape.\\n\\n\\nRefreshingly, what was expected of her was the same thing that was expected of Lara Stone: to take a beautiful picture.\\n\\n\\n\\n\\nEmotional discomfort, when accepted, rises, crests and falls in a series of waves.\\n\\n\\n\\n\\nYou must learn one thing. The world was made to be free in. Give up all the other worlds Except the one in which you belong.\\n\\n\\nSo simple, yet so essential, the white shirt is the foundation of any wardrobe. It’s also the most multi-functional item, taking you from work to play with just the quick unfastening of a couple of buttons. It matter what style fitted boyfriend etc or even what fabric from silk to heavy cotton go with whatever suits your personal style best.\\n\\n\\nCalvin Klein known for \\nlaunching the careers of such svelte\\n models as Brooke Shields and Kate Moss to cast a model who deviates from the size standard and make a fuss about it to Dalbesio who spent years.\\n\\n\\n\\n\\nmust explain to you how all this mistaken idea of denouncing\\n\\n\\npleasure and praising pain was born and I will give you a complete account\\n\\n\\nthe system and expound the actual teachings\\n\\n\\ngreat explorer of the truth, the master builder of human happiness.\\n\\n\\n\\n\\nAdderall and flirting with bulimia in an attempt to whittle herself to represents progress released this campaign and were like Whoa look this plus size girl in our campaign from work to play with just the quick unfastening of a couple of buttons.\\n\\n\\n\\n\\n\\n\\n\\n\\nBe the change that you wish to see in the world\\n\\n\\n\\n\\n\\n\\n\\n\\nThey released me in this campaign with everyone else there no distinction. It’s not a separate section for plus size girls she says.\\n\\n\\n\\n\\n\\n\\nThere was a time in the industry not too long ago, when it seemed that the high fashion world was using plus size models as a headline-grabbing gimmick see the groundbreaking \\nItalian Vogue\\n cover featuring Tara Lynn, Candice Huffine, and Robyn Lawley in June 2016.\\n\\n\\nRelated:\\n Calendar Gets Its First Plus-Size Model 2016\\n\\n\\n\\n\\nTaking the world into my arms\\n\\n\\nThere was that beautiful \\nItalian Vogue\\n story and the girls that were in that ended up doing really well the classic lace-up shoe is a true.\\n\\n\\nI feel like for a minute, it was starting to feel like this plus size I’m not skinny enough to be with the skinny girls really was a trend.\\n\\n\\nThat it was Dalbesio says to banish one shoe that will do its very hardest worked with, so that is really intimidating.\\n\\n\\nWordPress a difficult game because everyone wants to be cool in fashion.\\n\\n\\nNow, Dalbesio is a bit more hopeful about size in the modeling industry ma quande lingues coalesce. In the middle Occidental in fact she says not skinny enough.\\n\\n\\n\\n\\nTo find my place. She hedges, I don’t know about that runway though, that’s going to be a hard one to tackle. Everyone realizes why a new common language would be desirable: one could refuse to pay expensive translators.\\n\\n\\nA ship is safe in harbor, but that’s not what ships are for\\n\\n\\nA Julien Macdonald customer doesn’t sit in the corner of a room, she is the room she’s the host the designer laughed when we met him yesterday afternoon to see the range for the first time. My pieces aren’t shy. It is full-on cocktail red carpet glamour.\\n\\n\\nYou don’t necessarily wear them to the supermarket on a Saturday morning with the kids, but with my jewellery they probably will.\\n\\n\\n\\n\\nThese persons have an appreciation, a sensitivity, and an understanding of life.\\n\\n\\nCue a collection of high-wattage necklaces, adorned with nugget and crystals wild-cat cocktail rings, abstract drop earrings, and spectacular statement chokers inspired by the flora and fauna of safari.\\n\\n\\nThe most beautiful people we have known are those:\\n\\n\\n\\n\\nexplain to you how all this mistaken idea of denouncing\\n\\n\\npleasure and praising pain was born\\n\\n\\nthe system and expound the actual teachings\\n\\n\\ngreat explorer of the truth\\n\\n\\n\\n\\nTo take a trivial example, which of us ever undertakes laborious physical exercise, except to obtain some advantage from it? But who has any right to find fault with a man who chooses to enjoy a pleasure that has no annoying consequences, or one who avoids a pain that produces no resultant pleasure?\\n\\n\\nOn the other hand, we denounce with righteous indignation and dislike men who are so beguiled and demoralized by the charms of pleasure of the moment, so blinded by desire, that they cannot foresee.'"
      ]
     },
     "execution_count": 10,
     "metadata": {},
     "output_type": "execute_result"
    }
   ],
   "source": [
    "soup.find('div', {'class': 'td-post-content tagdiv-type'}).get_text(separator=\"\\n\").strip()"
   ]
  },
  {
   "cell_type": "code",
   "execution_count": 11,
   "metadata": {},
   "outputs": [],
   "source": [
    "!mkdir page"
   ]
  },
  {
   "cell_type": "code",
   "execution_count": 14,
   "metadata": {},
   "outputs": [],
   "source": [
    "from concurrent.futures import ThreadPoolExecutor, as_completed\n",
    "max_worker = 10\n",
    "\n",
    "def get_url(url, i):\n",
    "    \n",
    "    filename = os.path.join('page', f'{i}.json')\n",
    "    if os.path.exists(filename):\n",
    "        return\n",
    "    \n",
    "    try:\n",
    "        r = requests.get(urls[i], timeout = 60)\n",
    "        soup = BeautifulSoup(r.content, \"lxml\")\n",
    "\n",
    "        data = {\n",
    "            'url': urls[i],\n",
    "            'title': soup.find('h1').text.strip(),\n",
    "            'body': soup.find('div', {'class': 'td-post-content tagdiv-type'}).get_text(separator=\"\\n\").strip()\n",
    "        }\n",
    "\n",
    "        with open(filename, 'w') as fopen:\n",
    "            fopen.write(f'{json.dumps(data)}\\n')\n",
    "    except Exception as e:\n",
    "        print(e)"
   ]
  },
  {
   "cell_type": "code",
   "execution_count": 15,
   "metadata": {},
   "outputs": [
    {
     "name": "stderr",
     "output_type": "stream",
     "text": [
      "  4%|████▌                                                                                                     | 104/2395 [01:25<43:24,  1.14s/it]"
     ]
    },
    {
     "name": "stdout",
     "output_type": "stream",
     "text": [
      "'NoneType' object has no attribute 'text'\n"
     ]
    },
    {
     "name": "stderr",
     "output_type": "stream",
     "text": [
      "  9%|████████▉                                                                                              | 208/2395 [37:59<26:55:19, 44.32s/it]"
     ]
    },
    {
     "name": "stdout",
     "output_type": "stream",
     "text": [
      "HTTPSConnectionPool(host='makkalosai.com.my', port=443): Read timed out. (read timeout=60)\n",
      "HTTPSConnectionPool(host='makkalosai.com.my', port=443): Read timed out. (read timeout=60)\n"
     ]
    },
    {
     "name": "stderr",
     "output_type": "stream",
     "text": [
      "\r",
      "  9%|████████▉                                                                                              | 209/2395 [38:59<29:48:54, 49.10s/it]"
     ]
    },
    {
     "name": "stdout",
     "output_type": "stream",
     "text": [
      "HTTPSConnectionPool(host='makkalosai.com.my', port=443): Read timed out. (read timeout=60)\n",
      "HTTPSConnectionPool(host='makkalosai.com.my', port=443): Read timed out. (read timeout=60)\n",
      "HTTPSConnectionPool(host='makkalosai.com.my', port=443): Read timed out. (read timeout=60)\n",
      "HTTPSConnectionPool(host='makkalosai.com.my', port=443): Read timed out. (read timeout=60)\n"
     ]
    },
    {
     "name": "stderr",
     "output_type": "stream",
     "text": [
      "  9%|█████████▎                                                                                             | 217/2395 [43:43<24:57:46, 41.26s/it]"
     ]
    },
    {
     "name": "stdout",
     "output_type": "stream",
     "text": [
      "HTTPSConnectionPool(host='makkalosai.com.my', port=443): Read timed out. (read timeout=60)\n"
     ]
    },
    {
     "name": "stderr",
     "output_type": "stream",
     "text": [
      "\r",
      "  9%|█████████▍                                                                                             | 218/2395 [44:43<28:22:16, 46.92s/it]"
     ]
    },
    {
     "name": "stdout",
     "output_type": "stream",
     "text": [
      "HTTPSConnectionPool(host='makkalosai.com.my', port=443): Read timed out. (read timeout=60)\n"
     ]
    },
    {
     "name": "stderr",
     "output_type": "stream",
     "text": [
      " 11%|██████████▊                                                                                            | 252/2395 [59:33<26:41:54, 44.85s/it]"
     ]
    },
    {
     "name": "stdout",
     "output_type": "stream",
     "text": [
      "HTTPSConnectionPool(host='makkalosai.com.my', port=443): Read timed out. (read timeout=60)\n",
      "HTTPSConnectionPool(host='makkalosai.com.my', port=443): Read timed out. (read timeout=60)\n"
     ]
    },
    {
     "name": "stderr",
     "output_type": "stream",
     "text": [
      " 11%|██████████▊                                                                                          | 255/2395 [1:02:05<30:10:41, 50.77s/it]"
     ]
    },
    {
     "name": "stdout",
     "output_type": "stream",
     "text": [
      "HTTPSConnectionPool(host='makkalosai.com.my', port=443): Read timed out. (read timeout=60)\n",
      "HTTPSConnectionPool(host='makkalosai.com.my', port=443): Read timed out. (read timeout=60)HTTPSConnectionPool(host='makkalosai.com.my', port=443): Read timed out. (read timeout=60)\n",
      "\n",
      "HTTPSConnectionPool(host='makkalosai.com.my', port=443): Read timed out. (read timeout=60)\n",
      "HTTPSConnectionPool(host='makkalosai.com.my', port=443): Read timed out. (read timeout=60)\n",
      "HTTPSConnectionPool(host='makkalosai.com.my', port=443): Read timed out. (read timeout=60)\n",
      "HTTPSConnectionPool(host='makkalosai.com.my', port=443): Read timed out. (read timeout=60)\n",
      "HTTPSConnectionPool(host='makkalosai.com.my', port=443): Read timed out. (read timeout=60)\n",
      "HTTPSConnectionPool(host='makkalosai.com.my', port=443): Read timed out. (read timeout=60)\n",
      "HTTPSConnectionPool(host='makkalosai.com.my', port=443): Read timed out. (read timeout=60)\n",
      "'NoneType' object has no attribute 'get_text'\n",
      "'NoneType' object has no attribute 'get_text'\n",
      "'NoneType' object has no attribute 'get_text'\n",
      "'NoneType' object has no attribute 'get_text'\n",
      "'NoneType' object has no attribute 'get_text'\n",
      "'NoneType' object has no attribute 'get_text'\n"
     ]
    },
    {
     "name": "stderr",
     "output_type": "stream",
     "text": [
      " 21%|█████████████████████▋                                                                               | 513/2395 [2:00:28<10:33:14, 20.19s/it]"
     ]
    },
    {
     "name": "stdout",
     "output_type": "stream",
     "text": [
      "'NoneType' object has no attribute 'text'\n"
     ]
    },
    {
     "name": "stderr",
     "output_type": "stream",
     "text": [
      " 24%|████████████████████████▏                                                                             | 568/2395 [2:10:23<4:41:15,  9.24s/it]"
     ]
    },
    {
     "name": "stdout",
     "output_type": "stream",
     "text": [
      "'NoneType' object has no attribute 'text'\n"
     ]
    },
    {
     "name": "stderr",
     "output_type": "stream",
     "text": [
      " 24%|████████████████████████▏                                                                            | 575/2395 [2:13:31<17:14:48, 34.11s/it]"
     ]
    },
    {
     "name": "stdout",
     "output_type": "stream",
     "text": [
      "HTTPSConnectionPool(host='makkalosai.com.my', port=443): Read timed out. (read timeout=60)\n",
      "HTTPSConnectionPool(host='makkalosai.com.my', port=443): Read timed out. (read timeout=60)\n",
      "HTTPSConnectionPool(host='makkalosai.com.my', port=443): Read timed out. (read timeout=60)\n",
      "HTTPSConnectionPool(host='makkalosai.com.my', port=443): Read timed out. (read timeout=60)\n",
      "HTTPSConnectionPool(host='makkalosai.com.my', port=443): Read timed out. (read timeout=60)\n",
      "HTTPSConnectionPool(host='makkalosai.com.my', port=443): Read timed out. (read timeout=60)\n",
      "HTTPSConnectionPool(host='makkalosai.com.my', port=443): Read timed out. (read timeout=60)\n",
      "HTTPSConnectionPool(host='makkalosai.com.my', port=443): Read timed out. (read timeout=60)\n",
      "HTTPSConnectionPool(host='makkalosai.com.my', port=443): Read timed out. (read timeout=60)HTTPSConnectionPool(host='makkalosai.com.my', port=443): Read timed out. (read timeout=60)\n",
      "\n"
     ]
    },
    {
     "name": "stderr",
     "output_type": "stream",
     "text": [
      " 30%|██████████████████████████████▋                                                                       | 721/2395 [2:38:04<6:21:54, 13.69s/it]"
     ]
    },
    {
     "name": "stdout",
     "output_type": "stream",
     "text": [
      "HTTPSConnectionPool(host='makkalosai.com.my', port=443): Read timed out. (read timeout=60)\n",
      "HTTPSConnectionPool(host='makkalosai.com.my', port=443): Read timed out. (read timeout=60)\n",
      "HTTPSConnectionPool(host='makkalosai.com.my', port=443): Read timed out. (read timeout=60)\n",
      "HTTPSConnectionPool(host='makkalosai.com.my', port=443): Read timed out. (read timeout=60)\n"
     ]
    },
    {
     "name": "stderr",
     "output_type": "stream",
     "text": [
      "\r",
      " 30%|██████████████████████████████▍                                                                      | 722/2395 [2:39:04<12:52:26, 27.70s/it]"
     ]
    },
    {
     "name": "stdout",
     "output_type": "stream",
     "text": [
      "HTTPSConnectionPool(host='makkalosai.com.my', port=443): Read timed out. (read timeout=60)\n",
      "HTTPSConnectionPool(host='makkalosai.com.my', port=443): Read timed out. (read timeout=60)\n",
      "HTTPSConnectionPool(host='makkalosai.com.my', port=443): Read timed out. (read timeout=60)\n",
      "HTTPSConnectionPool(host='makkalosai.com.my', port=443): Read timed out. (read timeout=60)\n",
      "HTTPSConnectionPool(host='makkalosai.com.my', port=443): Read timed out. (read timeout=60)\n"
     ]
    },
    {
     "name": "stderr",
     "output_type": "stream",
     "text": [
      "\r",
      " 30%|██████████████████████████████▍                                                                      | 723/2395 [2:40:04<17:23:19, 37.44s/it]"
     ]
    },
    {
     "name": "stdout",
     "output_type": "stream",
     "text": [
      "HTTPSConnectionPool(host='makkalosai.com.my', port=443): Read timed out. (read timeout=60)\n",
      "HTTPSConnectionPool(host='makkalosai.com.my', port=443): Read timed out. (read timeout=60)\n",
      "HTTPSConnectionPool(host='makkalosai.com.my', port=443): Read timed out. (read timeout=60)\n",
      "HTTPSConnectionPool(host='makkalosai.com.my', port=443): Read timed out. (read timeout=60)\n",
      "HTTPSConnectionPool(host='makkalosai.com.my', port=443): Read timed out. (read timeout=60)\n",
      "HTTPSConnectionPool(host='makkalosai.com.my', port=443): Read timed out. (read timeout=60)\n",
      "HTTPSConnectionPool(host='makkalosai.com.my', port=443): Read timed out. (read timeout=60)\n",
      "HTTPSConnectionPool(host='makkalosai.com.my', port=443): Read timed out. (read timeout=60)\n",
      "HTTPSConnectionPool(host='makkalosai.com.my', port=443): Read timed out. (read timeout=60)\n"
     ]
    },
    {
     "name": "stderr",
     "output_type": "stream",
     "text": [
      " 35%|███████████████████████████████████▋                                                                  | 837/2395 [3:01:13<5:22:57, 12.44s/it]"
     ]
    },
    {
     "name": "stdout",
     "output_type": "stream",
     "text": [
      "'NoneType' object has no attribute 'text'\n"
     ]
    },
    {
     "name": "stderr",
     "output_type": "stream",
     "text": [
      " 45%|█████████████████████████████████████████████▍                                                       | 1077/2395 [3:55:59<9:51:57, 26.95s/it]"
     ]
    },
    {
     "name": "stdout",
     "output_type": "stream",
     "text": [
      "HTTPSConnectionPool(host='makkalosai.com.my', port=443): Read timed out. (read timeout=60)\n",
      "HTTPSConnectionPool(host='makkalosai.com.my', port=443): Read timed out. (read timeout=60)\n",
      "HTTPSConnectionPool(host='makkalosai.com.my', port=443): Read timed out. (read timeout=60)\n",
      "HTTPSConnectionPool(host='makkalosai.com.my', port=443): Read timed out. (read timeout=60)\n",
      "HTTPSConnectionPool(host='makkalosai.com.my', port=443): Read timed out. (read timeout=60)\n",
      "HTTPSConnectionPool(host='makkalosai.com.my', port=443): Read timed out. (read timeout=60)\n",
      "HTTPSConnectionPool(host='makkalosai.com.my', port=443): Read timed out. (read timeout=60)\n",
      "HTTPSConnectionPool(host='makkalosai.com.my', port=443): Read timed out. (read timeout=60)\n",
      "HTTPSConnectionPool(host='makkalosai.com.my', port=443): Read timed out. (read timeout=60)\n",
      "HTTPSConnectionPool(host='makkalosai.com.my', port=443): Read timed out. (read timeout=60)\n"
     ]
    },
    {
     "name": "stderr",
     "output_type": "stream",
     "text": [
      " 52%|████████████████████████████████████████████████████▊                                                | 1251/2395 [4:37:40<9:38:46, 30.36s/it]"
     ]
    },
    {
     "name": "stdout",
     "output_type": "stream",
     "text": [
      "'NoneType' object has no attribute 'get_text'\n",
      "'NoneType' object has no attribute 'get_text'\n",
      "'NoneType' object has no attribute 'get_text'\n"
     ]
    },
    {
     "name": "stderr",
     "output_type": "stream",
     "text": [
      " 65%|█████████████████████████████████████████████████████████████████▎                                   | 1548/2395 [5:56:10<7:19:35, 31.14s/it]"
     ]
    },
    {
     "name": "stdout",
     "output_type": "stream",
     "text": [
      "HTTPSConnectionPool(host='makkalosai.com.my', port=443): Read timed out. (read timeout=60)\n",
      "HTTPSConnectionPool(host='makkalosai.com.my', port=443): Read timed out. (read timeout=60)HTTPSConnectionPool(host='makkalosai.com.my', port=443): Read timed out. (read timeout=60)\n",
      "HTTPSConnectionPool(host='makkalosai.com.my', port=443): Read timed out. (read timeout=60)\n",
      "\n",
      "HTTPSConnectionPool(host='makkalosai.com.my', port=443): Read timed out. (read timeout=60)\n",
      "HTTPSConnectionPool(host='makkalosai.com.my', port=443): Read timed out. (read timeout=60)\n",
      "HTTPSConnectionPool(host='makkalosai.com.my', port=443): Read timed out. (read timeout=60)\n",
      "HTTPSConnectionPool(host='makkalosai.com.my', port=443): Read timed out. (read timeout=60)\n",
      "HTTPSConnectionPool(host='makkalosai.com.my', port=443): Read timed out. (read timeout=60)\n",
      "HTTPSConnectionPool(host='makkalosai.com.my', port=443): Read timed out. (read timeout=60)\n"
     ]
    },
    {
     "name": "stderr",
     "output_type": "stream",
     "text": [
      " 72%|████████████████████████████████████████████████████████████████████████▍                            | 1718/2395 [6:37:55<5:09:15, 27.41s/it]"
     ]
    },
    {
     "name": "stdout",
     "output_type": "stream",
     "text": [
      "HTTPSConnectionPool(host='makkalosai.com.my', port=443): Read timed out. (read timeout=60)\n",
      "HTTPSConnectionPool(host='makkalosai.com.my', port=443): Read timed out. (read timeout=60)\n",
      "HTTPSConnectionPool(host='makkalosai.com.my', port=443): Read timed out. (read timeout=60)\n",
      "HTTPSConnectionPool(host='makkalosai.com.my', port=443): Read timed out. (read timeout=60)\n"
     ]
    },
    {
     "name": "stderr",
     "output_type": "stream",
     "text": [
      "100%|███████████████████████████████████████████████████████████████████████████████████████████████████████| 2395/2395 [9:03:58<00:00, 13.63s/it]\n"
     ]
    }
   ],
   "source": [
    "for i in tqdm(range(0, len(urls), max_worker)):\n",
    "    batch = urls[i: i + max_worker]\n",
    "    batch = [(urls[i + k], i + k) for k in range(len(batch))]\n",
    "    \n",
    "    with ThreadPoolExecutor(max_workers=max_worker) as executor:\n",
    "        futures = {executor.submit(get_url, *url): url for url in batch}\n",
    "\n",
    "        for future in as_completed(futures):\n",
    "            future.result()"
   ]
  },
  {
   "cell_type": "code",
   "execution_count": 17,
   "metadata": {},
   "outputs": [
    {
     "data": {
      "text/plain": [
       "23859"
      ]
     },
     "execution_count": 17,
     "metadata": {},
     "output_type": "execute_result"
    }
   ],
   "source": [
    "from glob import glob\n",
    "import json\n",
    "\n",
    "files = glob('page/*')\n",
    "len(files)"
   ]
  },
  {
   "cell_type": "code",
   "execution_count": 20,
   "metadata": {},
   "outputs": [],
   "source": [
    "with open('makkalosai.com.my.jsonl', 'w') as fopen_l:\n",
    "    for f in files:\n",
    "        with open(f) as fopen:\n",
    "            data = json.load(fopen)\n",
    "        \n",
    "        fopen_l.write(f'{json.dumps(data)}\\n')"
   ]
  }
 ],
 "metadata": {
  "kernelspec": {
   "display_name": "Python 3 (ipykernel)",
   "language": "python",
   "name": "python3"
  },
  "language_info": {
   "codemirror_mode": {
    "name": "ipython",
    "version": 3
   },
   "file_extension": ".py",
   "mimetype": "text/x-python",
   "name": "python",
   "nbconvert_exporter": "python",
   "pygments_lexer": "ipython3",
   "version": "3.8.10"
  }
 },
 "nbformat": 4,
 "nbformat_minor": 4
}
