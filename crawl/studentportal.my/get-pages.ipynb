{
 "cells": [
  {
   "cell_type": "code",
   "execution_count": 1,
   "metadata": {},
   "outputs": [],
   "source": [
    "import requests\n",
    "from bs4 import BeautifulSoup\n",
    "from tqdm import tqdm\n",
    "import os\n",
    "import json\n",
    "import numpy as np\n",
    "import time\n",
    "import random\n",
    "import json"
   ]
  },
  {
   "cell_type": "code",
   "execution_count": 10,
   "metadata": {},
   "outputs": [
    {
     "name": "stderr",
     "output_type": "stream",
     "text": [
      "100%|██████████████████████████████████████| 108/108 [00:00<00:00, 71720.21it/s]\n"
     ]
    },
    {
     "data": {
      "text/plain": [
       "(754, 108)"
      ]
     },
     "execution_count": 10,
     "metadata": {},
     "output_type": "execute_result"
    }
   ],
   "source": [
    "from glob import glob\n",
    "\n",
    "files = glob('url/*.json')\n",
    "urls = []\n",
    "for f in tqdm(files):\n",
    "    with open(f) as fopen:\n",
    "        urls.extend(json.load(fopen))\n",
    "urls = sorted(list(set(urls)))\n",
    "len(urls), len(files)"
   ]
  },
  {
   "cell_type": "code",
   "execution_count": 3,
   "metadata": {},
   "outputs": [],
   "source": [
    "r = requests.get(urls[0])\n",
    "soup = BeautifulSoup(r.content, \"lxml\")"
   ]
  },
  {
   "cell_type": "code",
   "execution_count": 6,
   "metadata": {},
   "outputs": [
    {
     "data": {
      "text/plain": [
       "'10 Tips Cemerlang & Berjaya Ketika Belajar Dari Rumah'"
      ]
     },
     "execution_count": 6,
     "metadata": {},
     "output_type": "execute_result"
    }
   ],
   "source": [
    "soup.find('h1').text"
   ]
  },
  {
   "cell_type": "code",
   "execution_count": 8,
   "metadata": {
    "scrolled": true
   },
   "outputs": [
    {
     "data": {
      "text/plain": [
       "'\\n\\n\\n\\n\\n\\nPembelajaran dari rumah kini menjadi suatu norma baharu yang perlu dihadapi oleh para murid di sekolah dan pelajar yang berada di Institut Pengajian Tinggi (IPT).\\nNamun begitu, cabaran pembelajaran di rumah sudah pasti getir kerana murid dan pelajar hanya perlu berhadapan dengan skrin telefon atau komputer riba untuk malaksanakan pembelajaran tanpa kehadiran tenaga pengajar bersama dengan mereka secara bersemuka.\\nIni memberikan kesukaran bagi murid dan pelajar untuk lebih fokus dan memahami dengan lebih mendalam pembelajaran yang dijalankan oleh tenaga pengajar secara maya.\\nSebenarnya, pembelajaran di rumah juga tidak menghalang seseorang untuk cemerlang dan berjaya asalkan mengetahui tips pembelajaran yang betul.\\nDi sini disenaraikan 10 tips cemerlang dan berjaya bagi murid dan pelajar yang menjalankan proses pembelajaran dari rumah.\\n1. Tetapkan Matlamat\\nSetiap murid dan pelajar perlu mempunyai matlamat dalam diri masing-masing dalam pelajaran. \\nSebaiknya, setiap matlamat perlu ditulis supaya kita boleh merancang untuk mencapai perkara tersebut dan meningkatkan motivasi untuk belajar dan berjaya. \\nAnak-anak juga boleh membina jadual pengurusan masa di rumah berpandukan kepada jadual waktu kelas yang telah di susun oleh pihak sekolah.\\n2. Buat Perancangan\\nSetelah menetapkan matlamat, murid dan pelajar perlu membuat perancangan untuk memastikan pembelajaran tersebut berkesan.\\nBuat jadual harian atau mingguan berdasarkan subjek pembelajaran yang dipelajari di sekolah atau IPT.\\nJadual tersebut perlu mengandungi waktu yang sesuai untuk mengulangkaji pelajaran dan tidak membebankan murid dan pelajar.\\n3. Disiplin Diri\\nPembelajaran dari rumah memerlukan disiplin diri yang tinggi.\\nDisiplin diri merangkumi tiga perkara iaitu pengurusan masa, pengurusan diri dan pengurusan bahan yang baik.\\xa0 \\nSetiap jadual dan perancangan yang dibuat perlu dipatuhi dan perlu konsisten dalam mematuhi jadual tersebut. \\nMurid dan pelajar perlu bersedia awal memulakan kelas, bersarapan dan membersihkan diri serta memastikan bahan disediakan lebih awal sebelum kelas bermula.\\n4. Persediaan Awal\\nSebelum pembelajaran secara online dijalankan, murid dan pelajar perlu mengulang kaji topik yang ingin diajar oleh guru atau tenaga pengajar terlebih dahulu. \\nMereka perlu mengenal pasti topik yang akan diajar dan menyediakan sediakan bahan-bahan seperti buku teks, buku nota, alat tulis, dan bahan-bahan lain yang diperlukan.\\nUntuk pembelajaran yang menggunakan talian internet, murid dan pelajar perlu memastikan mereka mendapat talian internet yang baik bagi memastikan proses pembelajaran tidak terganggu. \\nIni penting bagi meningkatkan minat dan perasaan ingin tahu dalam diri murid dan pelajar untuk komited dalam pembelajaran.\\n\\n\\n\\n\\n5. Fokus Dalam Pembelajaran\\nSepanjang proses pembelajaran di rumah, murid dan pelajar perlu memberi tumpuan sepenuhnya. \\nTumpuan akan terjejas jika mereka tidak membuat persediaan dengan lebih awal. \\nUntuk kelas dilaksanakan secara Google Meet, Zoom, atau yang memerlukan sistem audio, murid dan pelajar digalakkan anak-anak memakai earphone. \\nIni akan memastikan mereka dapat mendengar dan bertanya akan lancar dan juga jelas kepada guru dan tenaga pengajar. \\nMurid dan pelajar juga perlu mengurangkan pergerakan sepanjang waktu belajar kerana pergerakan yang banyak akan mengurangkan tumpuan dan masa untuk belajar.\\n6. Buat Nota\\nBagi setiap pembelajaran yang diikuti, murid dan pelajar digalakkan untuk membuat nota bagi menambah kefahaman dan ingatan mengenai pembelajaran yang dilaksanakan.\\nIni juga akan membantu murid dan pelajar mengimbas kembali fakta dan maklumat yang telah dipelajari dan dibaca.\\n7. Elakkan Gangguan Luar\\nMurid dan pelajar perlu memaklumkan kepada ibu bapa dan ahli keluarga mengenai jadual kelas dan jadual belajar persendirian. \\nIbu bapa perlu memahami dan bertolak ansur jadual pembelajaran serta membantu menyediakan kelengkapan bagi pembelajaran anak-anak mereka. \\nSelain itu, ibu bapa juga perlu memantau dan mengelakkan anak-anal membuka perisian lain didalam gajet ketika belajar seperti games online atau lain-lain aplikasi dan perisian yang tidak berkaitan.\\n8. Rehat Yang Mencukupi\\nMurid dan pelajar perlu menjaga waktu tidur bagi memastikan mereka mendapat rehat yang mencukupi. \\nMereka disyorkan bagi yang bersekolah, mereka perlu tidur 9-10 jam sehari pada waktu malam manakala bagi pelajar IPT pula perlu tidur 8-9 jam. \\n9. Jaga Kesihatan\\nIbu bapa perlu memastikan anak-anak mereka menjaga kesihatan agar mereka dapat mengikuti pembelajaran yang ditetapkan. \\nMereka perlu mendapat pemakanan yang berkhasiat dan seimbang bagi mengekalkan kesihatan dan mengelakkan badan menjadi lesu dan mudah letih sepanjang pembelajaran dari rumah berlangsung. \\nMereka juga digalakkan bersenam atau beriadah walaupun ringkas sekurang-kurangnya melakukan renggangan badan bagi mengekalkan kesihatan dan kesegaran.\\n10. Yakin & Konsisten\\nSetiap murid dan pelajar perlu yakin kepada diri sendiri bahawa anda berhak cemerlang kerana setiap insan mempunyai potensi diri. \\nMereka perlu konsisten dalam semua tindakan dan mengikuti segala perangan yang telah dilakukan. \\nIbu bapa juga perlu membantu anak dengan memberi kata-kata semangat yang positif agar dapat menaikkan semangat dan memberi keyakinan pada diri mereka. \\n\\n'"
      ]
     },
     "execution_count": 8,
     "metadata": {},
     "output_type": "execute_result"
    }
   ],
   "source": [
    "soup.find('div', {'class':\"entry-content\"}).text"
   ]
  },
  {
   "cell_type": "code",
   "execution_count": 9,
   "metadata": {},
   "outputs": [],
   "source": [
    "!mkdir page"
   ]
  },
  {
   "cell_type": "code",
   "execution_count": 11,
   "metadata": {},
   "outputs": [
    {
     "name": "stderr",
     "output_type": "stream",
     "text": [
      "754it [05:03,  2.49it/s]\n"
     ]
    }
   ],
   "source": [
    "for no, url in tqdm(enumerate(urls)):\n",
    "    filename = os.path.join('page', f'{no}.json')\n",
    "    if os.path.exists(filename):\n",
    "        continue\n",
    "    \n",
    "    while True:\n",
    "        try:\n",
    "            r = requests.get(url)\n",
    "            break\n",
    "        except:\n",
    "            time.sleep(1.0)\n",
    "            \n",
    "    soup = BeautifulSoup(r.content, \"lxml\")\n",
    "\n",
    "    try:\n",
    "        title = soup.find('h1').text.strip()\n",
    "    except Exception as e:\n",
    "        title = None\n",
    "\n",
    "    try:\n",
    "        body = soup.find('div', {'class':\"entry-content\"}).text\n",
    "    except Exception as e:\n",
    "        body = None\n",
    "\n",
    "    data = {\n",
    "        'url': url,\n",
    "        'title': title,\n",
    "        'body': body,\n",
    "    }\n",
    "    with open(filename, 'w') as fopen:\n",
    "        json.dump(data, fopen)"
   ]
  },
  {
   "cell_type": "code",
   "execution_count": null,
   "metadata": {},
   "outputs": [],
   "source": []
  }
 ],
 "metadata": {
  "kernelspec": {
   "display_name": "Python 3 (ipykernel)",
   "language": "python",
   "name": "python3"
  },
  "language_info": {
   "codemirror_mode": {
    "name": "ipython",
    "version": 3
   },
   "file_extension": ".py",
   "mimetype": "text/x-python",
   "name": "python",
   "nbconvert_exporter": "python",
   "pygments_lexer": "ipython3",
   "version": "3.8.10"
  }
 },
 "nbformat": 4,
 "nbformat_minor": 4
}
