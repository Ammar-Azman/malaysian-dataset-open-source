{
 "cells": [
  {
   "cell_type": "code",
   "execution_count": 1,
   "metadata": {},
   "outputs": [],
   "source": [
    "import requests\n",
    "from bs4 import BeautifulSoup\n",
    "from tqdm import tqdm\n",
    "import os\n",
    "import json\n",
    "import numpy as np\n",
    "import time\n",
    "import random\n",
    "import json\n",
    "import urllib3\n",
    "urllib3.disable_warnings(urllib3.exceptions.InsecureRequestWarning)"
   ]
  },
  {
   "cell_type": "code",
   "execution_count": 2,
   "metadata": {},
   "outputs": [],
   "source": [
    "url = 'https://kopiandproperty.com/all-posts/page/426/'\n",
    "r = requests.get(url)"
   ]
  },
  {
   "cell_type": "code",
   "execution_count": 3,
   "metadata": {},
   "outputs": [],
   "source": [
    "soup = BeautifulSoup(r.content, \"lxml\")"
   ]
  },
  {
   "cell_type": "code",
   "execution_count": 4,
   "metadata": {},
   "outputs": [
    {
     "data": {
      "text/plain": [
       "['https://kopiandproperty.com/debt-free/',\n",
       " 'https://kopiandproperty.com/white-coffee-keng-nam-coffee-shop-ipoh/',\n",
       " 'https://kopiandproperty.com/property-downpayment-own-stay/',\n",
       " 'https://kopiandproperty.com/uncle-lims-local-coffee/',\n",
       " 'https://kopiandproperty.com/my-first-condo-buy-regency-heights/',\n",
       " 'https://kopiandproperty.com/why-kopi-and-property-kopi-is-malaysian-word-for-coffee-it-means-i-love-being-a-malaysia-and-i-love-kopi-my-number-one-favourite-remains-to-be-a-cup-of-latte-stronger-coffee-compared-to-the-milk-i/']"
      ]
     },
     "execution_count": 4,
     "metadata": {},
     "output_type": "execute_result"
    }
   ],
   "source": [
    "a = soup.find_all('h3', {'class': 'elementor-post__title'})\n",
    "a = [a_.find('a').get('href') for a_ in a]\n",
    "a"
   ]
  },
  {
   "cell_type": "code",
   "execution_count": 5,
   "metadata": {},
   "outputs": [
    {
     "name": "stderr",
     "output_type": "stream",
     "text": [
      "426it [11:41,  1.65s/it]\n"
     ]
    }
   ],
   "source": [
    "def generator():\n",
    "    while True:\n",
    "        yield\n",
    "        \n",
    "index = 1\n",
    "all_a = []\n",
    "\n",
    "for _ in tqdm(generator()):\n",
    "    url = f'https://kopiandproperty.com/all-posts/page/{index}'\n",
    "    r = requests.get(url)\n",
    "    soup = BeautifulSoup(r.content, \"lxml\")\n",
    "\n",
    "    a = soup.find_all('h3', {'class': 'elementor-post__title'})\n",
    "    a = [a_.find('a').get('href') for a_ in a]\n",
    "    \n",
    "    if not len(a):\n",
    "        break\n",
    "        \n",
    "    all_a.extend(a)\n",
    "    \n",
    "    index += 1"
   ]
  },
  {
   "cell_type": "code",
   "execution_count": 6,
   "metadata": {},
   "outputs": [
    {
     "data": {
      "text/plain": [
       "5106"
      ]
     },
     "execution_count": 6,
     "metadata": {},
     "output_type": "execute_result"
    }
   ],
   "source": [
    "urls = sorted(list(set(all_a)))\n",
    "len(urls)"
   ]
  },
  {
   "cell_type": "code",
   "execution_count": 7,
   "metadata": {},
   "outputs": [
    {
     "data": {
      "text/plain": [
       "['https://kopiandproperty.com/1-02-acre-site-gdv-rm1-91-billion/',\n",
       " 'https://kopiandproperty.com/1-41-billion-population/',\n",
       " 'https://kopiandproperty.com/1-hour-sold-out-landed-property/',\n",
       " 'https://kopiandproperty.com/1-million-affordable-homes-i-like-just-note-that-quality-is-important-too/',\n",
       " 'https://kopiandproperty.com/1-million-doses-of-covid-19-vaccines-by-september-2020/',\n",
       " 'https://kopiandproperty.com/1-million-rent-to-own-is-good/',\n",
       " 'https://kopiandproperty.com/1-million-trees-instead-of-more-high-rise-buildings-or-hotels/',\n",
       " 'https://kopiandproperty.com/1-minute-home-loan-approved/',\n",
       " 'https://kopiandproperty.com/1-pct-world-owns-82-pct-wealth/',\n",
       " 'https://kopiandproperty.com/1-utama-e-mrt-link-opened/']"
      ]
     },
     "execution_count": 7,
     "metadata": {},
     "output_type": "execute_result"
    }
   ],
   "source": [
    "urls[:10]"
   ]
  },
  {
   "cell_type": "code",
   "execution_count": 9,
   "metadata": {},
   "outputs": [],
   "source": [
    "url = urls[0]\n",
    "r = requests.get(url)\n",
    "soup = BeautifulSoup(r.content, \"lxml\")"
   ]
  },
  {
   "cell_type": "code",
   "execution_count": 10,
   "metadata": {},
   "outputs": [
    {
     "data": {
      "text/plain": [
       "'1.02 acre site can yield a GDV of RM1.91 billion.'"
      ]
     },
     "execution_count": 10,
     "metadata": {},
     "output_type": "execute_result"
    }
   ],
   "source": [
    "soup.find('h1').text.strip()"
   ]
  },
  {
   "cell_type": "code",
   "execution_count": 13,
   "metadata": {},
   "outputs": [
    {
     "data": {
      "text/plain": [
       "'\\n\\n\\n\\nHow much gross development value (GDV) can we get from a piece of one acre land in Kuala Lumpur? These days, a small plot of land within the KLCC area would cost easily RM3,000 per sqft. Read here: \\nProperty prices, primelocations, embassy land sale\\n\\xa0\\nHowever, on an overall basis, the land cost vs GDV remains healthy by any developed property market standard. As a Malaysian developer, opportunities would also exist in markets outside Malaysia. This is especially when the profits from such developments are in a far stronger foreign currency.\\xa0Let’s look at SP Setia’s 5th plot of land in Melbourne, Australia.\\n\\nAs per reported in Bernama, SP Setia would be buying a plot of 1.02 acre land. This small piece of land will however be worth A$640 million (RM1.91 billion) in GDV. Of course the location is in a Central Business District (CBD) in the city. SP Setia is the purchaser of this 1.02 acre site. They won a highly competitive International\\xa0International Expression of Interest bidding exercise” from Australian telecommunications company Telstra Corp Ltd. Total purchase price would be A$101 million (RM300.96 million). Land cost vs GDV is thus around 15.8 percent. Still a very healthy number.\\n\\nAccording to SP Setia president and chief executive officer Datuk Khor Chap Jen, the development would be the epicentre of Melbourne CBD’s cultural, commercial, education and city garden hubs. The land would be redeveloped into two residential towers with up to 800 residential units with a retail podium. It will also include prime A-grade office space besides these two luxurious apartment towers. The launching would be in the second half of 2017. Besides this current piece of land,\\xa0Setia Melbourne has undertaken two successful condominium projects in Melbourne (Parque and Fulton Lane). It has two other niche developments in Melbourne currently; Prahran and Carnagie. I wish them all the best. Always feel good when Malaysian developers are successful overseas.\\n\\nwritten on 5th May 2016\\n\\nNext suggested article:\\xa0\\nCrazily hot. 28% ofMelbourne’s apartments bought by foreigners\\n\\n\\xa0\\n\\n\\n\\n\\nShare this:\\nTweet\\nTelegram\\nWhatsApp\\nLike this:\\nLike\\n \\nLoading...\\n \\n\\n'"
      ]
     },
     "execution_count": 13,
     "metadata": {},
     "output_type": "execute_result"
    }
   ],
   "source": [
    "soup.find('div', {'class': 'elementor-widget-theme-post-content'}).get_text(separator=\"\\n\")"
   ]
  },
  {
   "cell_type": "code",
   "execution_count": 15,
   "metadata": {},
   "outputs": [
    {
     "name": "stderr",
     "output_type": "stream",
     "text": [
      "100%|███████████████████████████████████████████████████████████████████████████████████████████████████████| 5106/5106 [2:06:32<00:00,  1.49s/it]\n"
     ]
    }
   ],
   "source": [
    "data = []\n",
    "for url in tqdm(urls):\n",
    "    r = requests.get(url)\n",
    "    soup = BeautifulSoup(r.content, \"lxml\")\n",
    "    try:\n",
    "        data.append({\n",
    "            'url': url,\n",
    "            'title': soup.find('h1').text.strip(),\n",
    "            'body': soup.find('div', {'class': 'elementor-widget-theme-post-content'}).get_text(separator=\"\\n\").strip(),\n",
    "        })\n",
    "    except:\n",
    "        pass"
   ]
  },
  {
   "cell_type": "code",
   "execution_count": 16,
   "metadata": {},
   "outputs": [
    {
     "data": {
      "text/plain": [
       "{'url': 'https://kopiandproperty.com/1-02-acre-site-gdv-rm1-91-billion/',\n",
       " 'title': '1.02 acre site can yield a GDV of RM1.91 billion.',\n",
       " 'body': 'How much gross development value (GDV) can we get from a piece of one acre land in Kuala Lumpur? These days, a small plot of land within the KLCC area would cost easily RM3,000 per sqft. Read here: \\nProperty prices, primelocations, embassy land sale\\n\\xa0\\nHowever, on an overall basis, the land cost vs GDV remains healthy by any developed property market standard. As a Malaysian developer, opportunities would also exist in markets outside Malaysia. This is especially when the profits from such developments are in a far stronger foreign currency.\\xa0Let’s look at SP Setia’s 5th plot of land in Melbourne, Australia.\\n\\nAs per reported in Bernama, SP Setia would be buying a plot of 1.02 acre land. This small piece of land will however be worth A$640 million (RM1.91 billion) in GDV. Of course the location is in a Central Business District (CBD) in the city. SP Setia is the purchaser of this 1.02 acre site. They won a highly competitive International\\xa0International Expression of Interest bidding exercise” from Australian telecommunications company Telstra Corp Ltd. Total purchase price would be A$101 million (RM300.96 million). Land cost vs GDV is thus around 15.8 percent. Still a very healthy number.\\n\\nAccording to SP Setia president and chief executive officer Datuk Khor Chap Jen, the development would be the epicentre of Melbourne CBD’s cultural, commercial, education and city garden hubs. The land would be redeveloped into two residential towers with up to 800 residential units with a retail podium. It will also include prime A-grade office space besides these two luxurious apartment towers. The launching would be in the second half of 2017. Besides this current piece of land,\\xa0Setia Melbourne has undertaken two successful condominium projects in Melbourne (Parque and Fulton Lane). It has two other niche developments in Melbourne currently; Prahran and Carnagie. I wish them all the best. Always feel good when Malaysian developers are successful overseas.\\n\\nwritten on 5th May 2016\\n\\nNext suggested article:\\xa0\\nCrazily hot. 28% ofMelbourne’s apartments bought by foreigners\\n\\n\\xa0\\n\\n\\n\\n\\nShare this:\\nTweet\\nTelegram\\nWhatsApp\\nLike this:\\nLike\\n \\nLoading...'}"
      ]
     },
     "execution_count": 16,
     "metadata": {},
     "output_type": "execute_result"
    }
   ],
   "source": [
    "data[0]"
   ]
  },
  {
   "cell_type": "code",
   "execution_count": 17,
   "metadata": {},
   "outputs": [],
   "source": [
    "with open('kopiandproperty.com.jsonl', 'w') as fopen:\n",
    "    for d in data:\n",
    "        fopen.write(f'{json.dumps(d)}\\n')"
   ]
  }
 ],
 "metadata": {
  "kernelspec": {
   "display_name": "Python 3 (ipykernel)",
   "language": "python",
   "name": "python3"
  },
  "language_info": {
   "codemirror_mode": {
    "name": "ipython",
    "version": 3
   },
   "file_extension": ".py",
   "mimetype": "text/x-python",
   "name": "python",
   "nbconvert_exporter": "python",
   "pygments_lexer": "ipython3",
   "version": "3.8.10"
  }
 },
 "nbformat": 4,
 "nbformat_minor": 4
}
