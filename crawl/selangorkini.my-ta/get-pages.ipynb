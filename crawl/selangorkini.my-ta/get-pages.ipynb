{
 "cells": [
  {
   "cell_type": "code",
   "execution_count": 1,
   "metadata": {},
   "outputs": [],
   "source": [
    "import requests\n",
    "from bs4 import BeautifulSoup\n",
    "from tqdm import tqdm\n",
    "import os\n",
    "import json\n",
    "import numpy as np\n",
    "import time\n",
    "import random\n",
    "import json\n",
    "import urllib3\n",
    "urllib3.disable_warnings(urllib3.exceptions.InsecureRequestWarning)"
   ]
  },
  {
   "cell_type": "code",
   "execution_count": 2,
   "metadata": {},
   "outputs": [
    {
     "data": {
      "text/plain": [
       "34318"
      ]
     },
     "execution_count": 2,
     "metadata": {},
     "output_type": "execute_result"
    }
   ],
   "source": [
    "with open('urls.json') as fopen:\n",
    "    urls = json.load(fopen)\n",
    "len(urls)"
   ]
  },
  {
   "cell_type": "code",
   "execution_count": 3,
   "metadata": {},
   "outputs": [
    {
     "data": {
      "text/plain": [
       "<Response [200]>"
      ]
     },
     "execution_count": 3,
     "metadata": {},
     "output_type": "execute_result"
    }
   ],
   "source": [
    "r = requests.get(urls[0])\n",
    "r"
   ]
  },
  {
   "cell_type": "code",
   "execution_count": 4,
   "metadata": {},
   "outputs": [],
   "source": [
    "soup = BeautifulSoup(r.content, \"lxml\")"
   ]
  },
  {
   "cell_type": "code",
   "execution_count": 5,
   "metadata": {},
   "outputs": [
    {
     "data": {
      "text/plain": [
       "'DBKL’s 300% Increase in Assessment: Khalid Suggests Not More than 10%'"
      ]
     },
     "execution_count": 5,
     "metadata": {},
     "output_type": "execute_result"
    }
   ],
   "source": [
    "soup.find('h1').text"
   ]
  },
  {
   "cell_type": "code",
   "execution_count": 8,
   "metadata": {},
   "outputs": [
    {
     "data": {
      "text/plain": [
       "'BANDAR TUN RAZAK, 23 Nov: Tan Sri Abdul Khalid Ibrahim, who described the 300 percent increase by the Kuala Lumpur City Hall (DBKL) on the Annual Valuation Assessment Tax as being extreme, gave a fair proposal.\\n\\n\\n\\n\\nThe Member of Parliament for Bandar Tun Razak proposed for the increase in assessment tax to not exceed 10 percent from the amount paid, thus not burdening the people.\\n\\n\\nThe Chief Minister of Selangor said that the proposal is based on the practice in Selangor which only charges a premium of RM1,000 in granting residential land ownership to residents of the state.\\n\\n\\n“Otherwise, recipients of land titles in Selangor have to pay tens or hundreds of thousands based on property values,” he said.\\n\\n\\n\\n\\nHe said this at a press conference at the Bandar Tun Razak Residents’ Memorandum of Protest Handing Over Ceremony here at the site of the morning market at Jalan Jujur today.\\n\\n\\nOver 300 residents of Bandar Tun Razak handed over the memorandum of protest following the unreasonable proposed increase, thus burdening property owners.\\n\\n\\nThe objections are expected to increase following public awareness by the public who sent letters of protest directly to the Office of the Bandar Tun Razak Member of Parliament.\\n\\n\\n\\n\\nPrior to this, DBKL wants to raise the property assessment tax across Kuala Lumpur based on this year’s real estate rental value, compared to the last evaluation in 1992.\\n\\n\\n“I will hold a meeting with the Mayor of Kuala Lumpur after 17 December, but the letter of protest will be sent in advance to DBKL,” said Abdul Khalid.'"
      ]
     },
     "execution_count": 8,
     "metadata": {},
     "output_type": "execute_result"
    }
   ],
   "source": [
    "soup.find('div', {'class': 'penci-entry-content entry-content'}).get_text(separator=\"\\n\").strip()"
   ]
  },
  {
   "cell_type": "code",
   "execution_count": 10,
   "metadata": {},
   "outputs": [
    {
     "name": "stderr",
     "output_type": "stream",
     "text": [
      "100%|█████████████████████████████████████████████████████████████████████████████████████████████████████| 34318/34318 [4:42:26<00:00,  2.03it/s]\n"
     ]
    }
   ],
   "source": [
    "with open('selangorkini.my-ta.jsonl', 'w') as fopen:\n",
    "    for url in tqdm(urls):\n",
    "        try:\n",
    "            r = requests.get(url)\n",
    "            soup = BeautifulSoup(r.content, \"lxml\")\n",
    "            data = {\n",
    "                'url': url,\n",
    "                'title': soup.find('h1').text.strip(),\n",
    "                'body': soup.find('div', {'class': 'penci-entry-content entry-content'}).get_text(separator=\"\\n\").strip(),\n",
    "            }\n",
    "            fopen.write(f'{json.dumps(data)}\\n')\n",
    "        except:\n",
    "            pass"
   ]
  },
  {
   "cell_type": "code",
   "execution_count": null,
   "metadata": {},
   "outputs": [],
   "source": []
  }
 ],
 "metadata": {
  "kernelspec": {
   "display_name": "Python 3 (ipykernel)",
   "language": "python",
   "name": "python3"
  },
  "language_info": {
   "codemirror_mode": {
    "name": "ipython",
    "version": 3
   },
   "file_extension": ".py",
   "mimetype": "text/x-python",
   "name": "python",
   "nbconvert_exporter": "python",
   "pygments_lexer": "ipython3",
   "version": "3.8.10"
  }
 },
 "nbformat": 4,
 "nbformat_minor": 4
}
