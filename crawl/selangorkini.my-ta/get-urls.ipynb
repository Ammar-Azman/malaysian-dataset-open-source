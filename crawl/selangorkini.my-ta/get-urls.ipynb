{
 "cells": [
  {
   "cell_type": "code",
   "execution_count": 42,
   "metadata": {},
   "outputs": [],
   "source": [
    "from bs4 import BeautifulSoup\n",
    "from tqdm import tqdm"
   ]
  },
  {
   "cell_type": "code",
   "execution_count": 32,
   "metadata": {},
   "outputs": [],
   "source": [
    "import requests\n",
    "\n",
    "cookies = {\n",
    "    '_ga': 'GA1.1.1939662106.1697723727',\n",
    "    '_ga_C8XDLGSM2Z': 'GS1.1.1697728676.2.1.1697728700.0.0.0',\n",
    "}\n",
    "\n",
    "headers = {\n",
    "    'authority': 'selangorkini.my',\n",
    "    'accept': '*/*',\n",
    "    'accept-language': 'en-MY,en;q=0.9,en-US;q=0.8,ms;q=0.7',\n",
    "    'cache-control': 'no-cache',\n",
    "    'content-type': 'application/x-www-form-urlencoded; charset=UTF-8',\n",
    "    # 'cookie': '_ga=GA1.1.1939662106.1697723727; _ga_C8XDLGSM2Z=GS1.1.1697728676.2.1.1697728700.0.0.0',\n",
    "    'origin': 'https://selangorkini.my',\n",
    "    'pragma': 'no-cache',\n",
    "    'referer': 'https://selangorkini.my/ta/terkini/',\n",
    "    'sec-ch-ua': '\"Chromium\";v=\"118\", \"Google Chrome\";v=\"118\", \"Not=A?Brand\";v=\"99\"',\n",
    "    'sec-ch-ua-mobile': '?0',\n",
    "    'sec-ch-ua-platform': '\"macOS\"',\n",
    "    'sec-fetch-dest': 'empty',\n",
    "    'sec-fetch-mode': 'cors',\n",
    "    'sec-fetch-site': 'same-origin',\n",
    "    'user-agent': 'Mozilla/5.0 (Macintosh; Intel Mac OS X 10_15_7) AppleWebKit/537.36 (KHTML, like Gecko) Chrome/118.0.0.0 Safari/537.36',\n",
    "    'x-requested-with': 'XMLHttpRequest',\n",
    "}"
   ]
  },
  {
   "cell_type": "code",
   "execution_count": 34,
   "metadata": {},
   "outputs": [],
   "source": [
    "urls = []"
   ]
  },
  {
   "cell_type": "code",
   "execution_count": 43,
   "metadata": {},
   "outputs": [
    {
     "name": "stderr",
     "output_type": "stream",
     "text": [
      "3815it [31:29,  2.02it/s]\n"
     ]
    }
   ],
   "source": [
    "def generator():\n",
    "    while True:\n",
    "        yield\n",
    "\n",
    "index = 0\n",
    "for _ in tqdm(generator()):\n",
    "    data = {\n",
    "        'action': 'penci_ajax_block',\n",
    "        'datafilter[build_query]': 'post_type:post|size:9|categories:-17788',\n",
    "        'datafilter[add_title_icon]': '',\n",
    "        'datafilter[title_i_align]': 'left',\n",
    "        'datafilter[title_icon]': '',\n",
    "        'datafilter[image_type]': 'landscape',\n",
    "        'datafilter[image_ratio]': '0.67',\n",
    "        'datafilter[image_size]': 'penci-thumb-480-320',\n",
    "        'datafilter[block_title_meta_settings]': '',\n",
    "        'datafilter[block_title_align]': 'style-title-left',\n",
    "        'datafilter[block_title_off_uppercase]': '',\n",
    "        'datafilter[block_title_wborder_left_right]': '5px',\n",
    "        'datafilter[block_title_wborder]': '3px',\n",
    "        'datafilter[post_title_trimword_settings]': '',\n",
    "        'datafilter[post_standard_title_length]': '25',\n",
    "        'datafilter[hide_cat]': '',\n",
    "        'datafilter[show_allcat]': '',\n",
    "        'datafilter[hide_comment]': 'true',\n",
    "        'datafilter[hide_post_date]': '',\n",
    "        'datafilter[hide_icon_post_format]': '',\n",
    "        'datafilter[hide_review_piechart]': 'true',\n",
    "        'datafilter[show_readmore]': '',\n",
    "        'datafilter[show_author]': '',\n",
    "        'datafilter[show_count_view]': '',\n",
    "        'datafilter[dis_bg_block]': '',\n",
    "        'datafilter[enable_stiky_post]': '',\n",
    "        'datafilter[hide_excrept]': '',\n",
    "        'datafilter[post_excrept_length]': '25',\n",
    "        'datafilter[style_pag]': 'load_more',\n",
    "        'datafilter[limit_loadmore]': '9',\n",
    "        'datafilter[post_category_css]': '',\n",
    "        'datafilter[readmore_css]': '',\n",
    "        'datafilter[pagination_css]': '',\n",
    "        'datafilter[loadmore_css]': '',\n",
    "        'datafilter[disable_bg_load_more]': '',\n",
    "        'datafilter[custom_markup_1]': '',\n",
    "        'datafilter[ajax_filter_type]': '',\n",
    "        'datafilter[ajax_filter_selected]': '',\n",
    "        'datafilter[ajax_filter_childselected]': '',\n",
    "        'datafilter[ajax_filter_number_item]': '5',\n",
    "        'datafilter[infeed_ads__order]': '2',\n",
    "        'datafilter[block_id]': 'penci_block_8-1580871775159',\n",
    "        'datafilter[penci_show_desk]': '1',\n",
    "        'datafilter[penci_show_tablet]': '1',\n",
    "        'datafilter[penci_show_mobile]': '1',\n",
    "        'datafilter[paged]': '1',\n",
    "        'datafilter[unique_id]': 'penci_block_8__35000986',\n",
    "        'datafilter[shortcode_id]': 'block_8',\n",
    "        'datafilter[category_ids]': '',\n",
    "        'datafilter[taxonomy]': '',\n",
    "        'styleAction': 'load_more',\n",
    "        'paged': str(index),\n",
    "        'datacontent': '',\n",
    "        'nonce': '0b30376833',\n",
    "    }\n",
    "\n",
    "    response = requests.post('https://selangorkini.my/ta/wp-admin/admin-ajax.php', cookies=cookies, headers=headers, data=data)\n",
    "    r = response.json()\n",
    "    if not len(r['data']['items']):\n",
    "        break\n",
    "    soup = BeautifulSoup(r['data']['items'], \"lxml\")\n",
    "    a = soup.find_all('a')\n",
    "    a = [a_.get('href') for a_ in a if 'category/' not in a_.get('href', '') and 'author/' not in a_.get('href', '')]\n",
    "    urls.extend(a)\n",
    "    index += 1"
   ]
  },
  {
   "cell_type": "code",
   "execution_count": 45,
   "metadata": {},
   "outputs": [],
   "source": [
    "import json\n",
    "\n",
    "with open('urls.json', 'w') as fopen:\n",
    "    json.dump(sorted(set(urls)), fopen)"
   ]
  },
  {
   "cell_type": "code",
   "execution_count": null,
   "metadata": {},
   "outputs": [],
   "source": []
  }
 ],
 "metadata": {
  "kernelspec": {
   "display_name": "Python 3 (ipykernel)",
   "language": "python",
   "name": "python3"
  },
  "language_info": {
   "codemirror_mode": {
    "name": "ipython",
    "version": 3
   },
   "file_extension": ".py",
   "mimetype": "text/x-python",
   "name": "python",
   "nbconvert_exporter": "python",
   "pygments_lexer": "ipython3",
   "version": "3.8.10"
  }
 },
 "nbformat": 4,
 "nbformat_minor": 4
}
