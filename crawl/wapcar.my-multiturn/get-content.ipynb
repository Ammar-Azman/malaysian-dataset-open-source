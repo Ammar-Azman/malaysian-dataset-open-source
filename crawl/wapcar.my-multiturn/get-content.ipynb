{
 "cells": [
  {
   "cell_type": "code",
   "execution_count": 10,
   "id": "758ac4ed-a18f-48f7-8629-9d445bf458ca",
   "metadata": {},
   "outputs": [],
   "source": [
    "from bs4 import BeautifulSoup\n",
    "import requests\n",
    "from tqdm import tqdm\n",
    "import json\n",
    "import os"
   ]
  },
  {
   "cell_type": "code",
   "execution_count": 11,
   "id": "aa61581d-a54f-4e00-b50c-6dc3c669d3e7",
   "metadata": {},
   "outputs": [],
   "source": [
    "!mkdir img"
   ]
  },
  {
   "cell_type": "code",
   "execution_count": 8,
   "id": "84cb4f2b-a6f2-4937-bede-168079f4c7f9",
   "metadata": {},
   "outputs": [
    {
     "name": "stdout",
     "output_type": "stream",
     "text": [
      "all_models_url.jsonl  get-content.ipynb  get-url.ipynb\tpic\n"
     ]
    }
   ],
   "source": [
    "!ls"
   ]
  },
  {
   "cell_type": "code",
   "execution_count": 12,
   "id": "c5316681-370c-49f3-a576-8b8c9597e1f1",
   "metadata": {},
   "outputs": [],
   "source": [
    "with open('all_models_specs.jsonl') as fopen:\n",
    "    specs = [line.strip().strip('\"') for line in fopen]"
   ]
  },
  {
   "cell_type": "code",
   "execution_count": 287,
   "id": "f4b53210-fc7d-4e09-8ee2-9a6ca916f0eb",
   "metadata": {},
   "outputs": [],
   "source": [
    "# specs"
   ]
  },
  {
   "cell_type": "code",
   "execution_count": 13,
   "id": "c48b0032-8f38-4ebb-b7e0-99637e88b131",
   "metadata": {},
   "outputs": [
    {
     "data": {
      "text/plain": [
       "1589"
      ]
     },
     "execution_count": 13,
     "metadata": {},
     "output_type": "execute_result"
    }
   ],
   "source": [
    "len(specs)"
   ]
  },
  {
   "cell_type": "code",
   "execution_count": 14,
   "id": "22ce72fc-61af-47df-a9b7-85ff48e3a1fe",
   "metadata": {},
   "outputs": [],
   "source": [
    "headers = {'User-Agent': 'Mozilla/5.0 (Windows NT 6.1; WOW64) AppleWebKit/537.36 (KHTML, like Gecko) Chrome/56.0.2924.76 Safari/537.36',\n",
    "           'Referer':'https://www.wapcar.my/'}"
   ]
  },
  {
   "cell_type": "code",
   "execution_count": 15,
   "id": "2074624d-7bf7-4cc1-81bc-7ec8f6878a68",
   "metadata": {},
   "outputs": [
    {
     "name": "stdout",
     "output_type": "stream",
     "text": [
      "  \n"
     ]
    }
   ],
   "source": [
    "# Define a mapping from Unicode characters to strings\n",
    "unicode_to_string = {\n",
    "    '\\ue605': 'no',\n",
    "    '\\ue604': 'yes',\n",
    "    '\\ue605 / \\ue605': 'no / no',\n",
    "    '\\ue604 / \\ue604': 'yes / yes',\n",
    "    '\\ue604 / \\ue605': 'yes / no',\n",
    "    '\\ue605 / \\ue604': 'no / yes',\n",
    "    ' \\ue603 \\ue603 \\ue603 \\ue603 \\ue603': '5 stars',\n",
    "    ' \\ue603 \\ue603 \\ue603 \\ue603 \\ue601': '4 stars',\n",
    "    ' \\ue603 \\ue603 \\ue603 \\ue601 \\ue601': '3 stars',\n",
    "    ' \\ue603 \\ue603 \\ue601 \\ue601 \\ue601': '2 stars',\n",
    "    ' \\ue603 \\ue601 \\ue601 \\ue601 \\ue601': '1 star',\n",
    "    ' \\ue601 \\ue601 \\ue601 \\ue601 \\ue601': '0 star',\n",
    "}\n",
    "\n",
    "# Example usage\n",
    "input_char = '\\ue605 \\ue605 \\ue605'  # This would be your input character\n",
    "\n",
    "# Convert the Unicode character to the corresponding string\n",
    "output_string = unicode_to_string.get(input_char, input_char)\n",
    "\n",
    "print(output_string)  # This will print 'no' or 'yes' based on the input character\n"
   ]
  },
  {
   "cell_type": "code",
   "execution_count": 7,
   "id": "52138600-f9c7-460e-b99f-084d1800118a",
   "metadata": {
    "scrolled": true
   },
   "outputs": [],
   "source": [
    "# url = \"https://www.wapcar.my/cars/proton/saga/1.3-standard-mt-2018/specs\"\n",
    "# r = requests.get(url,headers = headers)\n",
    "# soup = BeautifulSoup(r.content, \"html.parser\")\n",
    "\n",
    "# data_specs = []\n",
    "# title = {'model' : soup.find('div', {'class': 'car-name'}).find('a').text}\n",
    "# count=0\n",
    "# data_specs.append(title)\n",
    "# for i in soup.find('div', {'class': 'content'}).find('table', {'class': 'value-table table-row'}).find_all('tr'):\n",
    "#     attr = {}\n",
    "#     try:\n",
    "#         if len(i.get('class'))>2:\n",
    "#             attr[' '.join(i.get('class'))] = unicode_to_string.get(i.find(['a', 'span']).text, i.find(['a', 'span']).text)\n",
    "#             data_specs.append(attr)\n",
    "#             count+=1\n",
    "#     except Exception as e:\n",
    "#         print(e)\n",
    "\n",
    "# data_specs"
   ]
  },
  {
   "cell_type": "code",
   "execution_count": 16,
   "id": "8e55acb8-9c9d-4535-bb50-c512291ef5af",
   "metadata": {},
   "outputs": [],
   "source": [
    "# url = \"https://www.wapcar.my/cars/proton/saga/1.3-standard-mt-2018/images\"\n",
    "# r = requests.get(url,headers = headers)\n",
    "# soup = BeautifulSoup(r.content, \"html.parser\")\n",
    "# img_data = []\n",
    "# count=0\n",
    "# for i in soup.find_all('script', {'type':'application/ld+json'}):\n",
    "    \n",
    "#     img_dict = {}\n",
    "#     data = json.loads(i.get_text())\n",
    "#     if data['@type'] == 'ImageObject':\n",
    "#         count+=1\n",
    "#         url = data['contentUrl']\n",
    "    \n",
    "#         img_file = os.path.join('pic', f'{count}.jpg')\n",
    "#         with open(img_file, 'wb') as fopen:\n",
    "#             r = requests.get(url)\n",
    "#             fopen.write(r.content)\n",
    "            \n",
    "#         img_dict['img_url'] = data['contentUrl']\n",
    "#         img_dict['local_image'] = img_file\n",
    "#         img_dict['specs'] = data_specs\n",
    "#         img_data.append(img_dict)\n",
    "        "
   ]
  },
  {
   "cell_type": "code",
   "execution_count": 285,
   "id": "a0200af9-4c2c-4615-9c38-85e4d42c398e",
   "metadata": {},
   "outputs": [],
   "source": [
    "# img_data"
   ]
  },
  {
   "cell_type": "code",
   "execution_count": 13,
   "id": "c49935e8-dd4a-4aa4-9b54-955684339591",
   "metadata": {},
   "outputs": [],
   "source": [
    "# count=0"
   ]
  },
  {
   "cell_type": "code",
   "execution_count": 17,
   "id": "fe40c235-35f0-48a5-ac96-0180f4acb237",
   "metadata": {},
   "outputs": [],
   "source": [
    "def crawl(x):\n",
    "    try:\n",
    "        url_specs = \"https://www.wapcar.my\" + x + '/specs'\n",
    "        r = requests.get(url_specs,headers = headers)\n",
    "        soup = BeautifulSoup(r.content, \"html.parser\")\n",
    "    \n",
    "        data_specs = []\n",
    "        \n",
    "        title = {'model' : soup.find('div', {'class': 'car-name'}).find('a').text}\n",
    "        data_specs.append(title)\n",
    "        \n",
    "        for i in soup.find('div', {'class': 'content'}).find('table', {'class': 'value-table table-row'}).find_all('tr'):\n",
    "            attr = {}\n",
    "            \n",
    "            if len(i.get('class'))>2:\n",
    "                attr[' '.join(i.get('class'))] = unicode_to_string.get(i.find(['a', 'span']).text, i.find(['a', 'span']).text)\n",
    "                data_specs.append(attr)\n",
    "\n",
    "                \n",
    "        url_images = \"https://www.wapcar.my\" + x + '/images'  \n",
    "        r = requests.get(url_images,headers = headers)\n",
    "        soup = BeautifulSoup(r.content, \"html.parser\")\n",
    "        \n",
    "        img_data = []\n",
    "        count=0\n",
    "        for i in soup.find_all('script', {'type':'application/ld+json'}):\n",
    "            count+=1\n",
    "            img_dict = {}\n",
    "            data = json.loads(i.get_text())\n",
    "            if data['@type'] == 'ImageObject':\n",
    "                count+=1\n",
    "                url = data['contentUrl']\n",
    "            \n",
    "                img_file = os.path.join('img', f\"{data_specs[0]['model']}_{count}.jpg\")\n",
    "                with open(img_file, 'wb') as fopen:\n",
    "                    r = requests.get(url)\n",
    "                    fopen.write(r.content)\n",
    "                    \n",
    "                img_dict['img_url'] = data['contentUrl']\n",
    "                img_dict['local_image'] = img_file\n",
    "                img_dict['specs'] = data_specs\n",
    "                img_data.append(img_dict)\n",
    "                \n",
    "        return img_data\n",
    "         \n",
    "    except Exception as e: \n",
    "        print(e)\n",
    "        return "
   ]
  },
  {
   "cell_type": "code",
   "execution_count": 18,
   "id": "4107f138-0a9f-46c5-8b1c-05836538d463",
   "metadata": {},
   "outputs": [
    {
     "name": "stderr",
     "output_type": "stream",
     "text": [
      "  2%|██▌                                                                                                         | 38/1589 [00:13<08:26,  3.06it/s]"
     ]
    },
    {
     "name": "stdout",
     "output_type": "stream",
     "text": [
      "'NoneType' object has no attribute 'find_all'\n"
     ]
    },
    {
     "name": "stderr",
     "output_type": "stream",
     "text": [
      " 11%|███████████▍                                                                                               | 170/1589 [01:05<08:12,  2.88it/s]"
     ]
    },
    {
     "name": "stdout",
     "output_type": "stream",
     "text": [
      "'NoneType' object has no attribute 'find'\n"
     ]
    },
    {
     "name": "stderr",
     "output_type": "stream",
     "text": [
      " 11%|████████████                                                                                               | 180/1589 [01:08<07:52,  2.98it/s]"
     ]
    },
    {
     "name": "stdout",
     "output_type": "stream",
     "text": [
      "[Errno 2] No such file or directory: 'img/2023 Dodge Challenger R/T_7.jpg'\n"
     ]
    },
    {
     "name": "stderr",
     "output_type": "stream",
     "text": [
      " 12%|█████████████▎                                                                                             | 198/1589 [01:12<05:15,  4.41it/s]"
     ]
    },
    {
     "name": "stdout",
     "output_type": "stream",
     "text": [
      "[Errno 2] No such file or directory: 'img/2023 Dodge Challenger R/T Scat Pack_7.jpg'\n",
      "[Errno 2] No such file or directory: 'img/2023 Dodge Challenger R/T Scat Pack Widebody_7.jpg'\n"
     ]
    },
    {
     "name": "stderr",
     "output_type": "stream",
     "text": [
      " 13%|█████████████▋                                                                                             | 203/1589 [01:16<08:49,  2.62it/s]"
     ]
    },
    {
     "name": "stdout",
     "output_type": "stream",
     "text": [
      "[Errno 2] No such file or directory: 'img/2023 Dodge Charger R/T_7.jpg'\n"
     ]
    },
    {
     "name": "stderr",
     "output_type": "stream",
     "text": [
      " 22%|███████████████████████▏                                                                                   | 345/1589 [01:49<03:26,  6.03it/s]"
     ]
    },
    {
     "name": "stdout",
     "output_type": "stream",
     "text": [
      "'NoneType' object has no attribute 'find'\n",
      "'NoneType' object has no attribute 'find'\n",
      "'NoneType' object has no attribute 'find'\n"
     ]
    },
    {
     "name": "stderr",
     "output_type": "stream",
     "text": [
      " 27%|█████████████████████████████▎                                                                             | 435/1589 [02:47<08:01,  2.40it/s]"
     ]
    },
    {
     "name": "stdout",
     "output_type": "stream",
     "text": [
      "'NoneType' object has no attribute 'find_all'\n"
     ]
    },
    {
     "name": "stderr",
     "output_type": "stream",
     "text": [
      " 35%|█████████████████████████████████████                                                                      | 550/1589 [03:47<02:10,  7.95it/s]"
     ]
    },
    {
     "name": "stdout",
     "output_type": "stream",
     "text": [
      "'NoneType' object has no attribute 'find'\n",
      "'NoneType' object has no attribute 'find'\n",
      "'NoneType' object has no attribute 'find'\n",
      "'NoneType' object has no attribute 'find'\n",
      "'NoneType' object has no attribute 'find'\n",
      "'NoneType' object has no attribute 'find'\n",
      "'NoneType' object has no attribute 'find'\n",
      "'NoneType' object has no attribute 'find'\n"
     ]
    },
    {
     "name": "stderr",
     "output_type": "stream",
     "text": [
      " 56%|████████████████████████████████████████████████████████████▎                                              | 896/1589 [06:25<04:00,  2.88it/s]"
     ]
    },
    {
     "name": "stdout",
     "output_type": "stream",
     "text": [
      "'NoneType' object has no attribute 'find'\n"
     ]
    },
    {
     "name": "stderr",
     "output_type": "stream",
     "text": [
      " 69%|█████████████████████████████████████████████████████████████████████████▏                                | 1097/1589 [08:26<05:53,  1.39it/s]"
     ]
    },
    {
     "name": "stdout",
     "output_type": "stream",
     "text": [
      "'NoneType' object has no attribute 'find_all'\n",
      "'NoneType' object has no attribute 'find_all'\n"
     ]
    },
    {
     "name": "stderr",
     "output_type": "stream",
     "text": [
      " 71%|██████████████████████████████████████████████████████████████████████████▊                               | 1121/1589 [08:34<03:29,  2.23it/s]"
     ]
    },
    {
     "name": "stdout",
     "output_type": "stream",
     "text": [
      "[Errno 2] No such file or directory: 'img/2018 Nissan X-Gear 1.6L (A/T)_7.jpg'\n"
     ]
    },
    {
     "name": "stderr",
     "output_type": "stream",
     "text": [
      "100%|██████████████████████████████████████████████████████████████████████████████████████████████████████████| 1589/1589 [12:48<00:00,  2.07it/s]\n"
     ]
    }
   ],
   "source": [
    "from concurrent.futures import ThreadPoolExecutor, as_completed\n",
    "import numpy as np\n",
    "from tqdm import tqdm\n",
    "\n",
    "max_workers = 10\n",
    "urls = []\n",
    "with ThreadPoolExecutor(max_workers=max_workers) as executor:\n",
    "    futures = [executor.submit(crawl, x) for x in specs]\n",
    "    \n",
    "    for future in tqdm(futures, total=len(specs)):\n",
    "        result = future.result()\n",
    "        if result:\n",
    "            for x in result:\n",
    "                with open('model_specs.jsonl', 'a') as f:\n",
    "                    json.dump(x, f)\n",
    "                    f.write('\\n')"
   ]
  },
  {
   "cell_type": "code",
   "execution_count": 22,
   "id": "ed287375-c73d-4a65-a59d-a89ed3b60bdf",
   "metadata": {},
   "outputs": [],
   "source": [
    "with open('model_specs.jsonl') as fopen:\n",
    "    specs = [line.strip().strip('\"') for line in fopen]"
   ]
  },
  {
   "cell_type": "code",
   "execution_count": 24,
   "id": "af31e103-ad6e-40ca-9ec6-2ba446cd2351",
   "metadata": {},
   "outputs": [
    {
     "data": {
      "text/plain": [
       "'{\"img_url\": \"https://images.wapcar.my/file/d4a3800ed4da40a3b369c1be075245a6.jpg\", \"local_image\": \"img/2019 Alfa Romeo Quadrifoglo Stelvio Quadrifoglio_25.jpg\", \"specs\": [{\"model\": \"2019 Alfa Romeo Quadrifoglo Stelvio Quadrifoglio\"}, {\"attribute-col Price-block 1-price-col col-background\": \"TBC\"}, {\"attribute-col Costs-block 2-insurance-col col-background\": \"TBC\"}, {\"attribute-col Costs-block 2-road_tax-col col-background\": \"TBC\"}, {\"attribute-col Costs-block 2-monthly_payment-col col-background\": \"TBC\"}, {\"attribute-col Overview-block overview-brand_name-col col-background\": \"Alfa Romeo\"}, {\"attribute-col Overview-block overview-body_type-col col-background\": \"Sedan\"}, {\"attribute-col Overview-block overview-segment-col col-background\": \"B-Segment\"}, {\"attribute-col Overview-block overview-fuel_type-col col-background\": \"-\"}, {\"attribute-col Overview-block overview-model_name-col col-background\": \"Alfa Romeo Quadrifoglio\"}, {\"attribute-col Overview-block overview-year-col col-background\": \"2019\"}, {\"attribute-col Overview-block overview-horsepower-col col-background\": \"-\"}, {\"attribute-col Overview-block overview-torque-col col-background\": \"-\"}, {\"attribute-col Overview-block overview-engine-col col-background\": \"-\"}, {\"attribute-col Overview-block overview-horsepower_extra-col col-background\": \"-\"}, {\"attribute-col Overview-block overview-electric_engine(PS)-col col-background\": \"-\"}, {\"attribute-col Overview-block overview-gearbox-col col-background\": \"-\"}, {\"attribute-col Overview-block overview-length_width_heigh-col col-background\": \"-\"}, {\"attribute-col Overview-block overview-acceleration-col col-background\": \"-\"}, {\"attribute-col Overview-block overview-fuel_consumption-col col-background\": \"-\"}, {\"attribute-col Overview-block overview-as_tested-col col-background\": \"-\"}, {\"attribute-col Overview-block overview-on_sale-col col-background\": \"-\"}, {\"attribute-col Overview-block overview-warranty_manufacturer-col col-background\": \"-\"}, {\"attribute-col Overview-block overview-top_speed-col col-background\": \"-\"}, {\"attribute-col Dimensions-block dimensions-length-col col-background\": \"-\"}, {\"attribute-col Dimensions-block dimensions-width-col col-background\": \"-\"}, {\"attribute-col Dimensions-block dimensions-height-col col-background\": \"-\"}, {\"attribute-col Dimensions-block dimensions-wheelbase-col col-background\": \"-\"}, {\"attribute-col Dimensions-block dimensions-weight-col col-background\": \"-\"}, {\"attribute-col Dimensions-block dimensions-ground_clearance-col col-background\": \"-\"}, {\"attribute-col Dimensions-block dimensions-doors-col col-background\": \"-\"}, {\"attribute-col Dimensions-block dimensions-seat-col col-background\": \"4\"}, {\"attribute-col Dimensions-block dimensions-fueltank-col col-background\": \"-\"}, {\"attribute-col Dimensions-block dimensions-boot-col col-background\": \"-\"}, {\"attribute-col Powertrain-block powertrain-capacity-col col-background\": \"-\"}, {\"attribute-col Powertrain-block powertrain-capacity_format-col col-background\": \"0.0\"}, {\"attribute-col Powertrain-block powertrain-aspirated_form-col col-background\": \"NA\"}, {\"attribute-col Powertrain-block powertrain-cylinder_arrangement-col col-background\": \"-\"}, {\"attribute-col Powertrain-block powertrain-cylinders-col col-background\": \"-\"}, {\"attribute-col Powertrain-block powertrain-horsepower_extra-col col-background\": \"-\"}, {\"attribute-col Powertrain-block powertrain-horsepower_extra_kw-col col-background\": \"-\"}, {\"attribute-col Powertrain-block powertrain-rpm_at_max_hp-col col-background\": \"-\"}, {\"attribute-col Powertrain-block powertrain-torque_nm-col col-background\": \"-\"}, {\"attribute-col Powertrain-block powertrain-rpm_at_max_torque-col col-background\": \"-\"}, {\"attribute-col Electric Motor-block electric_motor-motor_type-col col-background\": \"-\"}, {\"attribute-col Electric Motor-block electric_motor-motor_output-col col-background\": \"-\"}, {\"attribute-col Electric Motor-block electric_motor-motor_output_kw-col col-background\": \"-\"}, {\"attribute-col Electric Motor-block electric_motor-motor_torque-col col-background\": \"-\"}, {\"attribute-col Electric Motor-block electric_motor-front_motor_output-col col-background\": \"-\"}, {\"attribute-col Electric Motor-block electric_motor-front_motor_torque-col col-background\": \"-\"}, {\"attribute-col Electric Motor-block electric_motor-rear_motor_output-col col-background\": \"-\"}, {\"attribute-col Electric Motor-block electric_motor-rear_motor_torque-col col-background\": \"-\"}, {\"attribute-col Electric Motor-block electric_motor-combined_system_output-col col-background\": \"-\"}, {\"attribute-col Electric Motor-block electric_motor-horsepower_kw-col col-background\": \"-\"}, {\"attribute-col Electric Motor-block electric_motor-combined_system_torque-col col-background\": \"-\"}, {\"attribute-col Electric Motor-block electric_motor-number_of_motors-col col-background\": \"-\"}, {\"attribute-col Electric Motor-block electric_motor-motor_arrangement-col col-background\": \"-\"}, {\"attribute-col Electric Motor-block electric_motor-battery_type-col col-background\": \"-\"}, {\"attribute-col Electric Motor-block electric_motor-ev_range-col col-background\": \"-\"}, {\"attribute-col Electric Motor-block electric_motor-battery_capacity-col col-background\": \"-\"}, {\"attribute-col Electric Motor-block electric_motor-power_consumption_per_100km-col col-background\": \"-\"}, {\"attribute-col Electric Motor-block electric_motor-battery_warranty-col col-background\": \"-\"}, {\"attribute-col Electric Motor-block electric_motor-quick_charge_time-col col-background\": \"-\"}, {\"attribute-col Electric Motor-block electric_motor-slow_charge_time-col col-background\": \"-\"}, {\"attribute-col Drivetrain-block 7-transmission-col col-background\": \"-\"}, {\"attribute-col Drivetrain-block 7-gears-col col-background\": \"-\"}, {\"attribute-col Chassis-block 8-driveline-col col-background\": \"-\"}, {\"attribute-col Chassis-block 8-front_suspension-col col-background\": \"-\"}, {\"attribute-col Chassis-block 8-rear_suspension-col col-background\": \"-\"}, {\"attribute-col Chassis-block 8-variable_suspension-col col-background\": \"-\"}, {\"attribute-col Chassis-block 8-fronttyre-col col-background\": \"-\"}, {\"attribute-col Chassis-block 8-reartyre-col col-background\": \"-\"}, {\"attribute-col Chassis-block 8-sparetyre-col col-background\": \"-\"}, {\"attribute-col Brakes and Wheels-block 9-frontbrakes-col col-background\": \"-\"}, {\"attribute-col Brakes and Wheels-block 9-rearbrakes-col col-background\": \"-\"}, {\"attribute-col Brakes and Wheels-block 9-steering-col col-background\": \"-\"}, {\"attribute-col Brakes and Wheels-block 9-parking_brake-col col-background\": \"-\"}, {\"attribute-col Safety-block 10-euroncap_rating-col col-background\": \"5 stars\"}, {\"attribute-col Safety-block 10-aseanncap_rating-col col-background\": \"5 stars\"}, {\"attribute-col Safety-block 10-airbagcount-col col-background\": \"-\"}, {\"attribute-col Safety-block 10-driver_front_passenger_seat_airbags-col col-background\": \"-\"}, {\"attribute-col Safety-block 10-front_rear_side_airbags-col col-background\": \"-\"}, {\"attribute-col Safety-block 10-front_rear_curtain_airbags-col col-background\": \"-\"}, {\"attribute-col Safety-block 10-knee_airbags-col col-background\": \"-\"}, {\"attribute-col Safety-block 10-rear_airbags-col col-background\": \"-\"}, {\"attribute-col Safety-block 10-airbagdisable_function-col col-background\": \"-\"}, {\"attribute-col Safety-block 10-seatbeltreminder-col col-background\": \"-\"}, {\"attribute-col Safety-block 10-autonomous_braking_system-col col-background\": \"-\"}, {\"attribute-col Safety-block 10-lane_keeping_assist-col col-background\": \"-\"}, {\"attribute-col Safety-block 10-blind_spot_info_system-col col-background\": \"-\"}, {\"attribute-col Safety-block 10-collision_warning-col col-background\": \"-\"}, {\"attribute-col Safety-block 10-abs_ebd-col col-background\": \"-\"}, {\"attribute-col Safety-block 10-stability_control-col col-background\": \"-\"}, {\"attribute-col Safety-block 10-isofix-col col-background\": \"-\"}, {\"attribute-col Assist System-block 11-parking_sensor_front-col col-background\": \"-\"}, {\"attribute-col Assist System-block 11-parking_sensor_rear-col col-background\": \"-\"}, {\"attribute-col Assist System-block 11-reverse_cam-col col-background\": \"-\"}, {\"attribute-col Assist System-block 11-cruise_control-col col-background\": \"-\"}, {\"attribute-col Assist System-block 11-auto_parking-col col-background\": \"-\"}, {\"attribute-col Assist System-block 11-autostart_stop-col col-background\": \"-\"}, {\"attribute-col Assist System-block 11-hill_start_assist-col col-background\": \"-\"}, {\"attribute-col Exterior-block 12-locks-col col-background\": \"-\"}, {\"attribute-col Exterior-block 12-folding_wing_mirrors-col col-background\": \"-\"}, {\"attribute-col Exterior-block 12-auto_wipers-col col-background\": \"-\"}, {\"attribute-col Lighting-block 13-headlamps-col col-background\": \"-\"}, {\"attribute-col Lighting-block 13-taillamps-col col-background\": \"-\"}, {\"attribute-col Lighting-block 13-led_daytime_running_lights-col col-background\": \"-\"}, {\"attribute-col Lighting-block 13-frontfoglamp-col col-background\": \"-\"}, {\"attribute-col Lighting-block 13-rearfoglamp-col col-background\": \"-\"}, {\"attribute-col Lighting-block 13-interiorlighting-col col-background\": \"-\"}, {\"attribute-col Lighting-block 13-auto_headlamps-col col-background\": \"-\"}, {\"attribute-col Interior-block 14-sunroof-col col-background\": \"-\"}, {\"attribute-col Interior-block 14-sunshade-col col-background\": \"-\"}, {\"attribute-col Interior-block 14-seatfeatures_front_driver-col col-background\": \"-\"}, {\"attribute-col Interior-block 14-seatfeatures_passenger-col col-background\": \"-\"}, {\"attribute-col Interior-block 14-seatfeatures_rear-col col-background\": \"-\"}, {\"attribute-col Interior-block 14-frontai_rcond-col col-background\": \"-\"}, {\"attribute-col Interior-block 14-rear_air_con-col col-background\": \"-\"}, {\"attribute-col Interior-block 14-paddle_shift-col col-background\": \"-\"}, {\"attribute-col Interior-block 14-steering_audio-col col-background\": \"-\"}, {\"attribute-col Interior-block 14-adjustable_steering_wheels-col col-background\": \"-\"}, {\"attribute-col Interior-block 14-steering_adjustment_electric-col col-background\": \"-\"}, {\"attribute-col Interior-block 14-head_up_display-col col-background\": \"-\"}, {\"attribute-col Multi-media-block 15-instrumentcluster-col col-background\": \"-\"}, {\"attribute-col Multi-media-block 15-screen-col col-background\": \"-\"}, {\"attribute-col Multi-media-block 15-screen_size-col col-background\": \"-\"}, {\"attribute-col Multi-media-block 15-monitor-col col-background\": \"-\"}, {\"attribute-col Multi-media-block 15-cigarette_lighter_socket-col col-background\": \"-\"}, {\"attribute-col Multi-media-block 15-sound_brand-col col-background\": \"-\"}, {\"attribute-col Multi-media-block 15-sound_plus_functions-col col-background\": \"-\"}, {\"attribute-col Multi-media-block 15-speaker-col col-background\": \"-\"}]}'"
      ]
     },
     "execution_count": 24,
     "metadata": {},
     "output_type": "execute_result"
    }
   ],
   "source": [
    "specs[700]"
   ]
  },
  {
   "cell_type": "code",
   "execution_count": null,
   "id": "77647549-cb83-497c-beab-325a4a8bedcc",
   "metadata": {},
   "outputs": [],
   "source": []
  }
 ],
 "metadata": {
  "kernelspec": {
   "display_name": "Python 3 (ipykernel)",
   "language": "python",
   "name": "python3"
  },
  "language_info": {
   "codemirror_mode": {
    "name": "ipython",
    "version": 3
   },
   "file_extension": ".py",
   "mimetype": "text/x-python",
   "name": "python",
   "nbconvert_exporter": "python",
   "pygments_lexer": "ipython3",
   "version": "3.8.10"
  }
 },
 "nbformat": 4,
 "nbformat_minor": 5
}
