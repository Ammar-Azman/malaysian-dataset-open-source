{
 "cells": [
  {
   "cell_type": "code",
   "execution_count": 1,
   "id": "9045132d-194b-4512-a1b5-ba2cc15013ae",
   "metadata": {},
   "outputs": [],
   "source": [
    "from bs4 import BeautifulSoup\n",
    "import requests\n",
    "from tqdm import tqdm"
   ]
  },
  {
   "cell_type": "code",
   "execution_count": 2,
   "id": "4d855284-4674-45c8-bdae-1c16ab4f88aa",
   "metadata": {},
   "outputs": [],
   "source": [
    "url = \"https://www.wapcar.my/cars\""
   ]
  },
  {
   "cell_type": "code",
   "execution_count": 3,
   "id": "a51aa8f3-e067-410f-800c-16934372b682",
   "metadata": {},
   "outputs": [],
   "source": [
    "r = requests.get(url)\n",
    "soup = BeautifulSoup(r.text, 'html')\n",
    "# soup"
   ]
  },
  {
   "cell_type": "code",
   "execution_count": 4,
   "id": "3c764048-16b1-4bd0-8c29-0528bfaa53d2",
   "metadata": {},
   "outputs": [],
   "source": [
    "brands = [x.get('href') for x in soup.find(\"ul\", {\"class\":\"brand-filter-block\"}).find_all('a')]"
   ]
  },
  {
   "cell_type": "code",
   "execution_count": 63,
   "id": "5aed88ab-64c2-4b60-bfc6-cf2855594b6a",
   "metadata": {},
   "outputs": [],
   "source": [
    "# brands"
   ]
  },
  {
   "cell_type": "code",
   "execution_count": 6,
   "id": "1e269540-1052-45f7-9ba9-445abd6941a3",
   "metadata": {},
   "outputs": [],
   "source": [
    "headers = {'User-Agent': 'Mozilla/5.0 (Windows NT 6.1; WOW64) AppleWebKit/537.36 (KHTML, like Gecko) Chrome/56.0.2924.76 Safari/537.36',\n",
    "           'Referer':'https://www.wapcar.my/'}"
   ]
  },
  {
   "cell_type": "code",
   "execution_count": 46,
   "id": "d06047b0-1e5e-4549-86b0-b73e27794029",
   "metadata": {},
   "outputs": [],
   "source": [
    "# test \n",
    "# import json\n",
    "# url = \"https://www.wapcar.my/cars/audi\"\n",
    "# r = requests.get(url,headers = headers)\n",
    "# soup = BeautifulSoup(r.content, \"html.parser\")\n",
    "# for i in soup.find_all('script', {'type':'application/ld+json'}):\n",
    "#     data = json.loads(i.get_text())\n",
    "#     if data['@type'] == 'ImageObject':\n",
    "#         print(data['mainEntityOfPage'])\n",
    "#         print(\"\\n\\n\")\n",
    "#     # print(data)\n",
    "#     # print(\"\\n\\n\")"
   ]
  },
  {
   "cell_type": "code",
   "execution_count": 53,
   "id": "11fac96d-275f-4102-9e85-78c97c8032b2",
   "metadata": {},
   "outputs": [],
   "source": [
    "# for x in brands:\n",
    "#     print(x)"
   ]
  },
  {
   "cell_type": "code",
   "execution_count": 61,
   "id": "991ba949-5dc0-4cfd-9474-85f4c9dea4bf",
   "metadata": {},
   "outputs": [],
   "source": [
    "def crawl(x):\n",
    "    url = \"https://www.wapcar.my\" + x\n",
    "    r = requests.get(url,headers = headers)\n",
    "    soup = BeautifulSoup(r.content, \"html.parser\")\n",
    "    for i in soup.find_all('script', {'type':'application/ld+json'}):\n",
    "        data = json.loads(i.get_text())\n",
    "        if data['@type'] == 'ImageObject':\n",
    "            url = data['mainEntityOfPage'].split('/car-exterior-image-1')[0]\n",
    "            with open('all_models_url.jsonl', 'a') as f:\n",
    "                json.dump(url, f)\n",
    "                f.write('\\n')"
   ]
  },
  {
   "cell_type": "code",
   "execution_count": 62,
   "id": "d878cc96-704c-4d70-a1e3-8223fde825f4",
   "metadata": {
    "scrolled": true
   },
   "outputs": [
    {
     "name": "stderr",
     "output_type": "stream",
     "text": [
      "100%|██████████████████████████████████████████████████████████████████████████████████████████████████████████████| 58/58 [00:05<00:00,  9.89it/s]\n"
     ]
    }
   ],
   "source": [
    "from concurrent.futures import ThreadPoolExecutor, as_completed\n",
    "import numpy as np\n",
    "from tqdm import tqdm\n",
    "\n",
    "max_workers = 10\n",
    "urls = []\n",
    "with ThreadPoolExecutor(max_workers=max_workers) as executor:\n",
    "    futures = [executor.submit(crawl, x) for x in brands]\n",
    "    \n",
    "    for future in tqdm(futures, total=len(brands)):\n",
    "        result = future.result()"
   ]
  },
  {
   "cell_type": "code",
   "execution_count": null,
   "id": "624ee313-1616-4b29-918a-47bdfcd7da97",
   "metadata": {},
   "outputs": [],
   "source": []
  },
  {
   "cell_type": "code",
   "execution_count": null,
   "id": "3e585521-1f7a-45da-951b-9d45740f4462",
   "metadata": {},
   "outputs": [],
   "source": []
  },
  {
   "cell_type": "code",
   "execution_count": null,
   "id": "ff2d5067-2569-4a92-a8b5-e3c8fdac7db8",
   "metadata": {},
   "outputs": [],
   "source": []
  }
 ],
 "metadata": {
  "kernelspec": {
   "display_name": "Python 3 (ipykernel)",
   "language": "python",
   "name": "python3"
  },
  "language_info": {
   "codemirror_mode": {
    "name": "ipython",
    "version": 3
   },
   "file_extension": ".py",
   "mimetype": "text/x-python",
   "name": "python",
   "nbconvert_exporter": "python",
   "pygments_lexer": "ipython3",
   "version": "3.8.10"
  }
 },
 "nbformat": 4,
 "nbformat_minor": 5
}
