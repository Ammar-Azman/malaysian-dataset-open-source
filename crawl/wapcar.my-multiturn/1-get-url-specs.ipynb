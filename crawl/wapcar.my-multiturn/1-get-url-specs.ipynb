{
 "cells": [
  {
   "cell_type": "code",
   "execution_count": 1,
   "id": "102b0f3d-3abb-4ef9-a37f-fea59c50623a",
   "metadata": {},
   "outputs": [],
   "source": [
    "from bs4 import BeautifulSoup\n",
    "import requests\n",
    "from tqdm import tqdm\n",
    "import json"
   ]
  },
  {
   "cell_type": "code",
   "execution_count": null,
   "id": "cb002752-63c9-435d-aebe-9de153859d13",
   "metadata": {},
   "outputs": [],
   "source": []
  },
  {
   "cell_type": "code",
   "execution_count": 2,
   "id": "518a37aa-7a8c-4a3a-9d82-7d3c455155f0",
   "metadata": {},
   "outputs": [],
   "source": [
    "with open('all_models_url.jsonl') as fopen:\n",
    "    models = [line.strip().strip('\"') for line in fopen]"
   ]
  },
  {
   "cell_type": "code",
   "execution_count": 4,
   "id": "c817cfea-7149-498f-b093-d16a587559a4",
   "metadata": {},
   "outputs": [],
   "source": [
    "# models"
   ]
  },
  {
   "cell_type": "code",
   "execution_count": 5,
   "id": "338b776a-bb8c-415e-b347-65cbea4da62a",
   "metadata": {},
   "outputs": [],
   "source": [
    "headers = {'User-Agent': 'Mozilla/5.0 (Windows NT 6.1; WOW64) AppleWebKit/537.36 (KHTML, like Gecko) Chrome/56.0.2924.76 Safari/537.36',\n",
    "           'Referer':'https://www.wapcar.my/'}"
   ]
  },
  {
   "cell_type": "code",
   "execution_count": 6,
   "id": "2563e8bb-7e16-4ef1-94e5-255ed3769031",
   "metadata": {},
   "outputs": [
    {
     "name": "stdout",
     "output_type": "stream",
     "text": [
      "/cars/bentley/bentayga/2020-v8-normal-edition\n",
      "/cars/bentley/bentayga/2020-v8-first-edition\n",
      "/cars/bentley/bentayga/speed-2019\n",
      "/cars/bentley/bentayga/v8-design-series-2019\n",
      "/cars/bentley/bentayga/diesel-2019\n",
      "/cars/bentley/bentayga/hybrid-2019\n",
      "/cars/bentley/bentayga/v8-2019\n",
      "/cars/bentley/bentayga/bentayga-2018\n"
     ]
    }
   ],
   "source": [
    "# test \n",
    "import json\n",
    "url = \"https://www.wapcar.my/cars/bentley/bentayga/specs\"\n",
    "r = requests.get(url,headers = headers)\n",
    "soup = BeautifulSoup(r.content, \"html.parser\")\n",
    "for i in soup.find_all('div', {'class':'car-name'}):\n",
    "    data = i.find('a').get('href')\n",
    "    print(data)\n"
   ]
  },
  {
   "cell_type": "code",
   "execution_count": 8,
   "id": "b72332de-4b3f-4bd4-aad5-364a9c969e59",
   "metadata": {},
   "outputs": [],
   "source": [
    "def crawl(x):\n",
    "    url = x + '/specs'\n",
    "    r = requests.get(url,headers = headers)\n",
    "    soup = BeautifulSoup(r.content, \"html.parser\")\n",
    "    for i in soup.find_all('div', {'class':'car-name'}):\n",
    "        data = i.find('a').get('href')\n",
    "        with open('model_specs_all.jsonl', 'a') as f:\n",
    "            json.dump(data, f)\n",
    "            f.write('\\n')"
   ]
  },
  {
   "cell_type": "code",
   "execution_count": 9,
   "id": "3b358b0c-ddda-429b-96bd-10b220b21145",
   "metadata": {},
   "outputs": [
    {
     "name": "stderr",
     "output_type": "stream",
     "text": [
      "100%|████████████████████████████████████████████████████████████████████████████████████████████████████████████| 492/492 [00:39<00:00, 12.60it/s]\n"
     ]
    }
   ],
   "source": [
    "from concurrent.futures import ThreadPoolExecutor, as_completed\n",
    "import numpy as np\n",
    "from tqdm import tqdm\n",
    "\n",
    "max_workers = 10\n",
    "urls = []\n",
    "with ThreadPoolExecutor(max_workers=max_workers) as executor:\n",
    "    futures = [executor.submit(crawl, x) for x in models]\n",
    "    \n",
    "    for future in tqdm(futures, total=len(models)):\n",
    "        result = future.result()"
   ]
  },
  {
   "cell_type": "code",
   "execution_count": null,
   "id": "6b4798a2-f566-4ec5-9028-63efec625ba1",
   "metadata": {},
   "outputs": [],
   "source": []
  }
 ],
 "metadata": {
  "kernelspec": {
   "display_name": "Python 3 (ipykernel)",
   "language": "python",
   "name": "python3"
  },
  "language_info": {
   "codemirror_mode": {
    "name": "ipython",
    "version": 3
   },
   "file_extension": ".py",
   "mimetype": "text/x-python",
   "name": "python",
   "nbconvert_exporter": "python",
   "pygments_lexer": "ipython3",
   "version": "3.8.10"
  }
 },
 "nbformat": 4,
 "nbformat_minor": 5
}
