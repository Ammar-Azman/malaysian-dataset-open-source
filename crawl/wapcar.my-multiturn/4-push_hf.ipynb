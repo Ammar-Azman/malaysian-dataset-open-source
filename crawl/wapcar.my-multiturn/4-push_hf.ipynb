{
 "cells": [
  {
   "cell_type": "code",
   "execution_count": 123,
   "id": "fa229e8a-d719-4610-92f0-9ab64e9ddc2e",
   "metadata": {},
   "outputs": [
    {
     "name": "stdout",
     "output_type": "stream",
     "text": [
      "979M\tpic\n"
     ]
    }
   ],
   "source": [
    "!du -sh pic"
   ]
  },
  {
   "cell_type": "code",
   "execution_count": 98,
   "id": "6ac614ad-fde8-4a2a-af08-1421ae37cff5",
   "metadata": {},
   "outputs": [],
   "source": [
    "# !zip -r img.zip img"
   ]
  },
  {
   "cell_type": "code",
   "execution_count": 99,
   "id": "32f0cb09-0621-48c4-b096-eb6da3c79fff",
   "metadata": {},
   "outputs": [],
   "source": [
    "# upload to hf"
   ]
  },
  {
   "cell_type": "code",
   "execution_count": 116,
   "id": "38c71938-7938-46d5-a007-3fbbf6d11586",
   "metadata": {},
   "outputs": [
    {
     "name": "stdout",
     "output_type": "stream",
     "text": [
      "Filesystem      Size  Used Avail Use% Mounted on\n",
      "udev             40G     0   40G   0% /dev\n",
      "tmpfs           7.9G  4.2M  7.9G   1% /run\n",
      "/dev/nvme0n1p2  916G  644G  226G  75% /\n",
      "tmpfs            40G   28K   40G   1% /dev/shm\n",
      "tmpfs           5.0M  4.0K  5.0M   1% /run/lock\n",
      "tmpfs            40G     0   40G   0% /sys/fs/cgroup\n",
      "/dev/loop0      128K  128K     0 100% /snap/bare/5\n",
      "/dev/loop1       56M   56M     0 100% /snap/core18/2796\n",
      "/dev/loop3      497M  497M     0 100% /snap/gnome-42-2204/141\n",
      "/dev/loop2       75M   75M     0 100% /snap/core22/1033\n",
      "/dev/loop4       64M   64M     0 100% /snap/core20/2015\n",
      "/dev/loop6       74M   74M     0 100% /snap/core22/864\n",
      "/dev/loop5      350M  350M     0 100% /snap/gnome-3-38-2004/143\n",
      "/dev/loop7       64M   64M     0 100% /snap/core20/2105\n",
      "/dev/loop15      66M   66M     0 100% /snap/gtk-common-themes/1519\n",
      "/dev/loop18     350M  350M     0 100% /snap/gnome-3-38-2004/140\n",
      "/dev/loop9       13M   13M     0 100% /snap/snap-store/959\n",
      "/dev/loop17     6.9M  6.9M     0 100% /snap/ngrok/118\n",
      "/dev/loop10      56M   56M     0 100% /snap/core18/2812\n",
      "/dev/loop8       92M   92M     0 100% /snap/gtk-common-themes/1535\n",
      "/dev/loop14     7.0M  7.0M     0 100% /snap/ngrok/108\n",
      "/dev/loop11      41M   41M     0 100% /snap/snapd/20290\n",
      "/dev/loop13      41M   41M     0 100% /snap/snapd/20092\n",
      "/dev/loop16      46M   46M     0 100% /snap/snap-store/638\n",
      "/dev/loop12     497M  497M     0 100% /snap/gnome-42-2204/132\n",
      "/dev/nvme1n1    916G  726G  144G  84% /home/husein/ssd2\n",
      "/dev/nvme0n1p1  511M  6.1M  505M   2% /boot/efi\n",
      "/dev/nvme2n1    1.8T  773G  968G  45% /home/husein/ssd3\n",
      "/dev/sda1       880G  519G  317G  63% /home/husein/ssd1\n",
      "tmpfs           7.9G  8.0K  7.9G   1% /run/user/125\n",
      "tmpfs           7.9G  4.0K  7.9G   1% /run/user/1000\n"
     ]
    }
   ],
   "source": [
    "!df -h"
   ]
  },
  {
   "cell_type": "code",
   "execution_count": 103,
   "id": "1b713767-a837-4b2c-a6a5-3ea92244623c",
   "metadata": {},
   "outputs": [],
   "source": [
    "# pip install --upgrade huggingface_hub"
   ]
  },
  {
   "cell_type": "code",
   "execution_count": 136,
   "id": "d4ff2b32-4533-4c41-9449-85f149a37da8",
   "metadata": {},
   "outputs": [],
   "source": [
    "from huggingface_hub import login"
   ]
  },
  {
   "cell_type": "code",
   "execution_count": 137,
   "id": "97641c72-3675-46d2-877e-ff55dfc15b4e",
   "metadata": {},
   "outputs": [
    {
     "data": {
      "application/vnd.jupyter.widget-view+json": {
       "model_id": "2ae3a6c36d554815a8ea47006e9b0f51",
       "version_major": 2,
       "version_minor": 0
      },
      "text/plain": [
       "VBox(children=(HTML(value='<center> <img\\nsrc=https://huggingface.co/front/assets/huggingface_logo-noborder.sv…"
      ]
     },
     "metadata": {},
     "output_type": "display_data"
    }
   ],
   "source": [
    "login()"
   ]
  },
  {
   "cell_type": "code",
   "execution_count": 138,
   "id": "22a8ed48-e36b-42c4-8b05-3e3bb393b0b8",
   "metadata": {},
   "outputs": [],
   "source": [
    "from huggingface_hub import HfApi"
   ]
  },
  {
   "cell_type": "code",
   "execution_count": 139,
   "id": "6d143cbc-1d98-49ea-a198-adf86a3a9eca",
   "metadata": {},
   "outputs": [
    {
     "data": {
      "text/plain": [
       "RepoUrl('https://huggingface.co/datasets/malaysia-ai2020/wapcar.my-multiturn', endpoint='https://huggingface.co', repo_type='dataset', repo_id='malaysia-ai2020/wapcar.my-multiturn')"
      ]
     },
     "execution_count": 139,
     "metadata": {},
     "output_type": "execute_result"
    }
   ],
   "source": [
    "api = HfApi()\n",
    "api.create_repo(\n",
    "    repo_id=\"wapcar.my-multiturn\",\n",
    "    repo_type='dataset',\n",
    ")"
   ]
  },
  {
   "cell_type": "code",
   "execution_count": 141,
   "id": "65fa8c7d-bf7c-4aeb-ba1a-a900af8bf0ac",
   "metadata": {},
   "outputs": [
    {
     "data": {
      "application/vnd.jupyter.widget-view+json": {
       "model_id": "4ffc120acc5c4d00bf460736f1ee40e6",
       "version_major": 2,
       "version_minor": 0
      },
      "text/plain": [
       "car-data.jsonl:   0%|          | 0.00/200M [00:00<?, ?B/s]"
      ]
     },
     "metadata": {},
     "output_type": "display_data"
    },
    {
     "data": {
      "text/plain": [
       "CommitInfo(commit_url='https://huggingface.co/datasets/malaysia-ai2020/wapcar.my-multiturn/commit/f0ece87c626e7bf6384ed86a8f801c9fe83cd06a', commit_message='Upload car-data.jsonl with huggingface_hub', commit_description='', oid='f0ece87c626e7bf6384ed86a8f801c9fe83cd06a', pr_url=None, pr_revision=None, pr_num=None)"
      ]
     },
     "execution_count": 141,
     "metadata": {},
     "output_type": "execute_result"
    }
   ],
   "source": [
    "from huggingface_hub import HfApi\n",
    "api = HfApi()\n",
    "api.upload_file(\n",
    "    path_or_fileobj=\"car-data.jsonl\",\n",
    "    path_in_repo=\"car-data.jsonl\",\n",
    "    repo_id=\"malaysia-ai2020/wapcar.my-multiturn\",\n",
    "    repo_type='dataset',\n",
    ")"
   ]
  },
  {
   "cell_type": "code",
   "execution_count": 142,
   "id": "d78aabc9-53d8-48cc-b19b-1992dd170b4e",
   "metadata": {},
   "outputs": [],
   "source": [
    "# !zip -r pic.zip pic"
   ]
  },
  {
   "cell_type": "code",
   "execution_count": 144,
   "id": "7f888f1e-144d-4d6f-892e-03264910dca6",
   "metadata": {},
   "outputs": [
    {
     "data": {
      "application/vnd.jupyter.widget-view+json": {
       "model_id": "f99b6f2c04334055acd471962fac269d",
       "version_major": 2,
       "version_minor": 0
      },
      "text/plain": [
       "pic.zip:   0%|          | 0.00/8.83G [00:00<?, ?B/s]"
      ]
     },
     "metadata": {},
     "output_type": "display_data"
    },
    {
     "data": {
      "text/plain": [
       "CommitInfo(commit_url='https://huggingface.co/datasets/malaysia-ai2020/wapcar.my-multiturn/commit/1327057aa9ac2117e9f6df056b7f9b662823f82c', commit_message='Upload pic.zip with huggingface_hub', commit_description='', oid='1327057aa9ac2117e9f6df056b7f9b662823f82c', pr_url=None, pr_revision=None, pr_num=None)"
      ]
     },
     "execution_count": 144,
     "metadata": {},
     "output_type": "execute_result"
    }
   ],
   "source": [
    "api.upload_file(\n",
    "    path_or_fileobj=\"pic.zip\",\n",
    "    path_in_repo=\"pic.zip\",\n",
    "    repo_id=\"malaysia-ai2020/wapcar.my-multiturn\",\n",
    "    repo_type='dataset',\n",
    ")"
   ]
  },
  {
   "cell_type": "code",
   "execution_count": null,
   "id": "e2b54f7b-a28a-4143-81cc-a6c92343c645",
   "metadata": {},
   "outputs": [],
   "source": []
  }
 ],
 "metadata": {
  "kernelspec": {
   "display_name": "Python 3 (ipykernel)",
   "language": "python",
   "name": "python3"
  },
  "language_info": {
   "codemirror_mode": {
    "name": "ipython",
    "version": 3
   },
   "file_extension": ".py",
   "mimetype": "text/x-python",
   "name": "python",
   "nbconvert_exporter": "python",
   "pygments_lexer": "ipython3",
   "version": "3.8.10"
  }
 },
 "nbformat": 4,
 "nbformat_minor": 5
}
