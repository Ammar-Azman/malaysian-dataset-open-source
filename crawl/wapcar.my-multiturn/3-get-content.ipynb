{
 "cells": [
  {
   "cell_type": "code",
   "execution_count": 1,
   "id": "758ac4ed-a18f-48f7-8629-9d445bf458ca",
   "metadata": {},
   "outputs": [],
   "source": [
    "from bs4 import BeautifulSoup\n",
    "import requests\n",
    "from tqdm import tqdm\n",
    "import json\n",
    "import os"
   ]
  },
  {
   "cell_type": "code",
   "execution_count": 45,
   "id": "aa61581d-a54f-4e00-b50c-6dc3c669d3e7",
   "metadata": {},
   "outputs": [],
   "source": [
    "!mkdir pic"
   ]
  },
  {
   "cell_type": "code",
   "execution_count": 8,
   "id": "84cb4f2b-a6f2-4937-bede-168079f4c7f9",
   "metadata": {},
   "outputs": [
    {
     "name": "stdout",
     "output_type": "stream",
     "text": [
      "all_models_url.jsonl  get-content.ipynb  get-url.ipynb\tpic\n"
     ]
    }
   ],
   "source": [
    "!ls"
   ]
  },
  {
   "cell_type": "code",
   "execution_count": 2,
   "id": "c5316681-370c-49f3-a576-8b8c9597e1f1",
   "metadata": {},
   "outputs": [],
   "source": [
    "with open('model_specs_all.jsonl') as fopen:\n",
    "    specs = [line.strip().strip('\"') for line in fopen]"
   ]
  },
  {
   "cell_type": "code",
   "execution_count": 3,
   "id": "f4b53210-fc7d-4e09-8ee2-9a6ca916f0eb",
   "metadata": {},
   "outputs": [
    {
     "data": {
      "text/plain": [
       "1589"
      ]
     },
     "execution_count": 3,
     "metadata": {},
     "output_type": "execute_result"
    }
   ],
   "source": [
    "len(specs)"
   ]
  },
  {
   "cell_type": "code",
   "execution_count": 4,
   "id": "22ce72fc-61af-47df-a9b7-85ff48e3a1fe",
   "metadata": {},
   "outputs": [],
   "source": [
    "headers = {'User-Agent': 'Mozilla/5.0 (Windows NT 6.1; WOW64) AppleWebKit/537.36 (KHTML, like Gecko) Chrome/56.0.2924.76 Safari/537.36',\n",
    "           'Referer':'https://www.wapcar.my/'}"
   ]
  },
  {
   "cell_type": "code",
   "execution_count": 5,
   "id": "2074624d-7bf7-4cc1-81bc-7ec8f6878a68",
   "metadata": {},
   "outputs": [
    {
     "name": "stdout",
     "output_type": "stream",
     "text": [
      "  \n"
     ]
    }
   ],
   "source": [
    "# Define a mapping from Unicode characters to strings\n",
    "unicode_to_string = {\n",
    "    '\\ue605': 'no',\n",
    "    '\\ue604': 'yes',\n",
    "    '\\ue605 / \\ue605': 'no / no',\n",
    "    '\\ue604 / \\ue604': 'yes / yes',\n",
    "    '\\ue604 / \\ue605': 'yes / no',\n",
    "    '\\ue605 / \\ue604': 'no / yes',\n",
    "    ' \\ue603 \\ue603 \\ue603 \\ue603 \\ue603': '5 stars',\n",
    "    ' \\ue603 \\ue603 \\ue603 \\ue603 \\ue601': '4 stars',\n",
    "    ' \\ue603 \\ue603 \\ue603 \\ue601 \\ue601': '3 stars',\n",
    "    ' \\ue603 \\ue603 \\ue601 \\ue601 \\ue601': '2 stars',\n",
    "    ' \\ue603 \\ue601 \\ue601 \\ue601 \\ue601': '1 star',\n",
    "    ' \\ue601 \\ue601 \\ue601 \\ue601 \\ue601': '0 star',\n",
    "}\n",
    "\n",
    "# Example usage\n",
    "input_char = '\\ue605 \\ue605 \\ue605'  # This would be your input character\n",
    "\n",
    "# Convert the Unicode character to the corresponding string\n",
    "output_string = unicode_to_string.get(input_char, input_char)\n",
    "\n",
    "print(output_string)  # This will print 'no' or 'yes' based on the input character\n"
   ]
  },
  {
   "cell_type": "code",
   "execution_count": 6,
   "id": "52138600-f9c7-460e-b99f-084d1800118a",
   "metadata": {
    "scrolled": true
   },
   "outputs": [
    {
     "data": {
      "text/plain": [
       "['Model Name : 2018 Proton Saga 1.3 Standard MT',\n",
       " ' Retail Price : RM 33,591',\n",
       " 'Insurance: RM 1,121',\n",
       " 'Road Tax: RM 70',\n",
       " 'Monthly Payment: RM 339',\n",
       " ' Brand : Proton',\n",
       " ' Body Type : Sedan',\n",
       " ' Segment : A-Segment',\n",
       " ' Fuel Type : Petrol',\n",
       " ' Model : Proton Saga',\n",
       " ' Launched Year : 2018',\n",
       " ' Horsepower (ps) : 95',\n",
       " ' Torque (Nm) : 120',\n",
       " ' Engine : 1.3L 95PS',\n",
       " ' Engine Power(PS) : 95',\n",
       " ' Electric Engine(PS) : -',\n",
       " ' Transmission : 5-Speed MT',\n",
       " ' Length*Width*Heigh(mm) : 4331 x 1689 x 1491',\n",
       " ' 0-100 km/h (s) : 12.1',\n",
       " ' Manufacturers Claim(L/100km) : 5.4 L/100km',\n",
       " ' As Tested(L/100km) : -',\n",
       " ' On Sale : no',\n",
       " ' Warranty Manufacturer : 5 years / 150,000 km',\n",
       " ' Top Speed (km/h) : 160',\n",
       " ' Length(mm) : 4331 mm',\n",
       " ' Width(mm) : 1689 mm',\n",
       " ' Height(mm) : 1491 mm',\n",
       " ' Wheelbase(mm) : 2465 mm',\n",
       " ' Weight(kg) : 1035',\n",
       " ' Ground Clearance : -',\n",
       " ' Doors : 4',\n",
       " ' Seats : 5',\n",
       " ' Fueltank(litres) : 40',\n",
       " ' Boot Volume(L) : 420',\n",
       " ' Capacity (cc) : 1332.0',\n",
       " ' Capacity (L) : 1.3',\n",
       " ' Aspiration Form : NA',\n",
       " ' Cylinder Arrangement : Inline (L)',\n",
       " ' Number of Cylinders : 4',\n",
       " ' Engine Power(PS) : 95',\n",
       " ' Engine Power(kW) : -',\n",
       " ' Rpm at Max Hp(RPM) : 5750',\n",
       " ' Engine Torque(Nm) : 120',\n",
       " ' Rpm at Max torque(RPM) : 4000',\n",
       " ' Motor Type : -',\n",
       " ' Motor Output(PS) : -',\n",
       " ' Motor Output(kW) : -',\n",
       " ' Motor Torque(Nm) : -',\n",
       " ' Front Motor Output(kW) : -',\n",
       " ' Front Motor Torque(Nm) : -',\n",
       " ' Rear Motor Output(kW) : -',\n",
       " ' Rear Motor Torque(Nm) : -',\n",
       " ' Combined System Output(PS) : -',\n",
       " ' Combined System Output(kW) : -',\n",
       " ' Combined System Torque(Nm) : -',\n",
       " ' Number Of Motors : -',\n",
       " ' Motor Arrangement : -',\n",
       " ' Battery Type : -',\n",
       " ' EV Range(km) : -',\n",
       " ' Battery Capacity(kWh) : -',\n",
       " ' Power Consumption Per 100 Kilometers (kWh) : -',\n",
       " ' Battery Warranty : -',\n",
       " ' Quick Charge Time(h) : -',\n",
       " ' Slow Charge Time(h) : -',\n",
       " ' Transmission : MT',\n",
       " ' Forward Ratios : 5',\n",
       " ' Driven Wheels : Front Wheel Drive',\n",
       " ' Front Suspension : MacPherson Strut',\n",
       " ' Rear Suspension : Torsion Beam',\n",
       " ' Adaptive Suspension : -',\n",
       " ' Front Tyres : 175/70R13',\n",
       " ' Rear Tyres : 175/70R13',\n",
       " ' Spare Tyre : Not Full',\n",
       " ' Front Brakes : Ventilated Disc',\n",
       " ' Rear Brakes : Drum',\n",
       " ' Steering : Rack & Pinion',\n",
       " ' Parking Brake : Manual',\n",
       " ' Euro NCAP Rating : 5 stars',\n",
       " ' ASEAN NCAP Rating : 4 stars',\n",
       " ' Airbags : 2',\n",
       " ' Driver/Front Passenger Seat Airbags : yes / yes',\n",
       " ' Front/Rear Side Airbags : no / no',\n",
       " ' Front/Rear Curtain Airbags : no / no',\n",
       " ' Knee Airbags : X',\n",
       " ' Rear Airbags : -',\n",
       " ' Airbag Disable Function : no',\n",
       " ' Seatbelt Reminder : Driver Seat Only',\n",
       " ' Autonomous Emergency Braking : no',\n",
       " ' Lane-keeping Alert : no',\n",
       " ' Blind Spot Info System : -',\n",
       " ' Collision Warning : no',\n",
       " ' ABS/EBD : yes',\n",
       " ' Electronic Stability Control(ESC) : no',\n",
       " ' ISOFIX : yes',\n",
       " ' Parking Sensor Front : no',\n",
       " ' Parking Sensor Rear : yes',\n",
       " ' Parking Camera : X',\n",
       " ' Cruise Control : X',\n",
       " ' Auto Parking : no',\n",
       " ' Auto Start/Stop : no',\n",
       " ' Hill Start Assist : no',\n",
       " ' Door Lock : Keyless Operation',\n",
       " ' Folding Wing Mirrors : yes',\n",
       " ' Auto Wipers : no',\n",
       " ' Headlamps : Halogen',\n",
       " ' Taillamps : Halogen',\n",
       " ' Daytime Running Lights : no',\n",
       " ' Front Foglamps : no',\n",
       " ' Rear Foglamps : yes',\n",
       " ' Interior Lighting : Y',\n",
       " ' Auto Headlamps : no',\n",
       " ' Sunroof : -',\n",
       " ' Sunshade : -',\n",
       " ' Seat Features(Front-Driver) : Manual Adjustable',\n",
       " ' Seat Features(Passenger) : Manual Adjustable',\n",
       " ' Seat Features(Rear) : Foldable Backrest',\n",
       " ' Front Air-con : Manual Air-con',\n",
       " ' Rear Air-con : no',\n",
       " ' Paddle Shift : no',\n",
       " ' Multi-function Steering Wheel : no',\n",
       " ' Adjustable Steering Wheels : -',\n",
       " ' Steering Adjustment : Manual',\n",
       " ' Head-up Display : no',\n",
       " ' Instrument Cluster : Backlit Analogue',\n",
       " ' Screen : -',\n",
       " ' Screen Size（inch) : -',\n",
       " ' Rear Entertainment : -',\n",
       " ' Power Socket : Y',\n",
       " ' Speaker Brand : -',\n",
       " ' Sound Plus Functions : -',\n",
       " ' Speakers : -']"
      ]
     },
     "execution_count": 6,
     "metadata": {},
     "output_type": "execute_result"
    }
   ],
   "source": [
    "url = \"https://www.wapcar.my/cars/proton/saga/1.3-standard-mt-2018/specs\"\n",
    "r = requests.get(url,headers = headers)\n",
    "soup = BeautifulSoup(r.content, \"html.parser\")\n",
    "\n",
    "data_specs = []\n",
    "name_list = []\n",
    "value_list = []\n",
    "\n",
    "for i in soup.find('div', {'class': 'content'}).find('table', {'class': 'name-table table-row sticky-left'}).find_all('tr'):\n",
    "    if len(i.get('class'))>2:\n",
    "        if i.find(['a', 'span']).text != \"\":\n",
    "            name_list.append(i.find(['a', 'span']).text)\n",
    "\n",
    "for i in soup.find('div', {'class': 'content'}).find('table', {'class': 'value-table table-row'}).find_all('tr'):\n",
    "    if len(i.get('class'))>2:\n",
    "        value_list.append(unicode_to_string.get(i.find(['a', 'span']).text, i.find(['a', 'span']).text))\n",
    "\n",
    "combined_list = []\n",
    "title = f\"Model Name : {soup.find('div', {'class': 'car-name'}).find('a').text}\"\n",
    "combined_list.append(title)\n",
    "\n",
    "for name, value in zip(name_list, value_list):\n",
    "    combined_list.append(f\"{name}: {value}\")\n",
    "\n",
    "combined_list"
   ]
  },
  {
   "cell_type": "code",
   "execution_count": 16,
   "id": "8e55acb8-9c9d-4535-bb50-c512291ef5af",
   "metadata": {},
   "outputs": [],
   "source": [
    "# url = \"https://www.wapcar.my/cars/proton/saga/1.3-standard-mt-2018/images\"\n",
    "# r = requests.get(url,headers = headers)\n",
    "# soup = BeautifulSoup(r.content, \"html.parser\")\n",
    "# img_data = []\n",
    "# count=0\n",
    "# for i in soup.find_all('script', {'type':'application/ld+json'}):\n",
    "    \n",
    "#     img_dict = {}\n",
    "#     data = json.loads(i.get_text())\n",
    "#     if data['@type'] == 'ImageObject':\n",
    "#         count+=1\n",
    "#         url = data['contentUrl']\n",
    "    \n",
    "#         img_file = os.path.join('pic', f'{count}.jpg')\n",
    "#         with open(img_file, 'wb') as fopen:\n",
    "#             r = requests.get(url)\n",
    "#             fopen.write(r.content)\n",
    "            \n",
    "#         img_dict['img_url'] = data['contentUrl']\n",
    "#         img_dict['local_image'] = img_file\n",
    "#         img_dict['specs'] = data_specs\n",
    "#         img_data.append(img_dict)\n",
    "        "
   ]
  },
  {
   "cell_type": "code",
   "execution_count": 285,
   "id": "a0200af9-4c2c-4615-9c38-85e4d42c398e",
   "metadata": {},
   "outputs": [],
   "source": [
    "# img_data"
   ]
  },
  {
   "cell_type": "code",
   "execution_count": 13,
   "id": "c49935e8-dd4a-4aa4-9b54-955684339591",
   "metadata": {},
   "outputs": [],
   "source": [
    "# count=0"
   ]
  },
  {
   "cell_type": "code",
   "execution_count": 7,
   "id": "fe40c235-35f0-48a5-ac96-0180f4acb237",
   "metadata": {},
   "outputs": [],
   "source": [
    "def crawl(x):\n",
    "    try:\n",
    "        url_specs = \"https://www.wapcar.my\" + x + '/specs'\n",
    "        r = requests.get(url_specs,headers = headers)\n",
    "        soup = BeautifulSoup(r.content, \"html.parser\")\n",
    "        \n",
    "        name_list = []\n",
    "        value_list = []\n",
    "\n",
    "        for i in soup.find('div', {'class': 'content'}).find('table', {'class': 'name-table table-row sticky-left'}).find_all('tr'):\n",
    "            if len(i.get('class'))>2:\n",
    "                if i.find(['a', 'span']).text != \"\":\n",
    "                    name_list.append(i.find(['a', 'span']).text)\n",
    "        \n",
    "        for i in soup.find('div', {'class': 'content'}).find('table', {'class': 'value-table table-row'}).find_all('tr'):\n",
    "            if len(i.get('class'))>2:\n",
    "                value_list.append(unicode_to_string.get(i.find(['a', 'span']).text, i.find(['a', 'span']).text))\n",
    "\n",
    "        combined_list = []\n",
    "        car_name = soup.find('div', {'class': 'car-name'}).find('a').text\n",
    "        title = f\"Model Name : {car_name}\"\n",
    "        combined_list.append(title)\n",
    "\n",
    "        for name, value in zip(name_list, value_list):\n",
    "            combined_list.append(f\"{name}: {value}\")\n",
    "\n",
    "        url_images = \"https://www.wapcar.my\" + x + '/images'  \n",
    "        r = requests.get(url_images,headers = headers)\n",
    "        soup = BeautifulSoup(r.content, \"html.parser\")\n",
    "        \n",
    "        img_data = []\n",
    "        count=0\n",
    "        for i in soup.find_all('script', {'type':'application/ld+json'}):\n",
    "            count+=1\n",
    "            img_dict = {}\n",
    "            data = json.loads(i.get_text())\n",
    "            if data['@type'] == 'ImageObject':\n",
    "                count+=1\n",
    "                url = data['contentUrl']\n",
    "            \n",
    "                img_file = os.path.join('pic', f\"{car_name}_{count}.jpg\")\n",
    "                with open(img_file, 'wb') as fopen:\n",
    "                    r = requests.get(url)\n",
    "                    fopen.write(r.content)\n",
    "                    \n",
    "                img_dict['img_url'] = data['contentUrl']\n",
    "                img_dict['local_image'] = img_file\n",
    "                img_dict['specs'] = combined_list\n",
    "                img_data.append(img_dict)\n",
    "                \n",
    "        return img_data\n",
    "         \n",
    "    except Exception as e: \n",
    "        print(e)\n",
    "        return "
   ]
  },
  {
   "cell_type": "code",
   "execution_count": 8,
   "id": "4107f138-0a9f-46c5-8b1c-05836538d463",
   "metadata": {},
   "outputs": [
    {
     "name": "stderr",
     "output_type": "stream",
     "text": [
      "  2%|█▊                                                                                                          | 27/1589 [00:12<22:59,  1.13it/s]"
     ]
    },
    {
     "name": "stdout",
     "output_type": "stream",
     "text": [
      "'NoneType' object has no attribute 'find_all'\n"
     ]
    },
    {
     "name": "stderr",
     "output_type": "stream",
     "text": [
      " 11%|███████████▉                                                                                               | 178/1589 [01:13<09:51,  2.39it/s]"
     ]
    },
    {
     "name": "stdout",
     "output_type": "stream",
     "text": [
      "'NoneType' object has no attribute 'find'\n"
     ]
    },
    {
     "name": "stderr",
     "output_type": "stream",
     "text": [
      " 11%|████████████                                                                                               | 180/1589 [01:17<14:41,  1.60it/s]"
     ]
    },
    {
     "name": "stdout",
     "output_type": "stream",
     "text": [
      "[Errno 2] No such file or directory: 'pic/2023 Dodge Challenger R/T_7.jpg'\n",
      "[Errno 2] No such file or directory: 'pic/2023 Dodge Challenger R/T Scat Pack_7.jpg'\n",
      "[Errno 2] No such file or directory: 'pic/2023 Dodge Challenger R/T Scat Pack Widebody_7.jpg'\n"
     ]
    },
    {
     "name": "stderr",
     "output_type": "stream",
     "text": [
      " 13%|██████████████                                                                                             | 209/1589 [01:22<05:41,  4.05it/s]"
     ]
    },
    {
     "name": "stdout",
     "output_type": "stream",
     "text": [
      "[Errno 2] No such file or directory: 'pic/2023 Dodge Charger R/T_7.jpg'\n"
     ]
    },
    {
     "name": "stderr",
     "output_type": "stream",
     "text": [
      " 22%|███████████████████████▋                                                                                   | 351/1589 [02:02<04:10,  4.94it/s]"
     ]
    },
    {
     "name": "stdout",
     "output_type": "stream",
     "text": [
      "'NoneType' object has no attribute 'find'\n",
      "'NoneType' object has no attribute 'find'\n",
      "'NoneType' object has no attribute 'find'\n"
     ]
    },
    {
     "name": "stderr",
     "output_type": "stream",
     "text": [
      " 28%|██████████████████████████████                                                                             | 446/1589 [03:20<15:32,  1.23it/s]"
     ]
    },
    {
     "name": "stdout",
     "output_type": "stream",
     "text": [
      "'NoneType' object has no attribute 'find_all'\n"
     ]
    },
    {
     "name": "stderr",
     "output_type": "stream",
     "text": [
      " 33%|██████████████████████████████████▉                                                                        | 518/1589 [04:06<08:46,  2.03it/s]"
     ]
    },
    {
     "name": "stdout",
     "output_type": "stream",
     "text": [
      "'NoneType' object has no attribute 'find'\n",
      "'NoneType' object has no attribute 'find'\n",
      "'NoneType' object has no attribute 'find'\n",
      "'NoneType' object has no attribute 'find'\n",
      "'NoneType' object has no attribute 'find'\n",
      "'NoneType' object has no attribute 'find'\n"
     ]
    },
    {
     "name": "stderr",
     "output_type": "stream",
     "text": [
      " 34%|████████████████████████████████████▌                                                                      | 543/1589 [04:13<06:02,  2.88it/s]"
     ]
    },
    {
     "name": "stdout",
     "output_type": "stream",
     "text": [
      "'NoneType' object has no attribute 'find'\n"
     ]
    },
    {
     "name": "stderr",
     "output_type": "stream",
     "text": [
      " 35%|█████████████████████████████████████▎                                                                     | 555/1589 [04:13<04:21,  3.95it/s]"
     ]
    },
    {
     "name": "stdout",
     "output_type": "stream",
     "text": [
      "'NoneType' object has no attribute 'find'\n"
     ]
    },
    {
     "name": "stderr",
     "output_type": "stream",
     "text": [
      " 56%|███████████████████████████████████████████████████████████▌                                               | 884/1589 [06:44<06:38,  1.77it/s]"
     ]
    },
    {
     "name": "stdout",
     "output_type": "stream",
     "text": [
      "'NoneType' object has no attribute 'find'\n"
     ]
    },
    {
     "name": "stderr",
     "output_type": "stream",
     "text": [
      " 69%|█████████████████████████████████████████████████████████████████████████▏                                | 1098/1589 [08:32<04:18,  1.90it/s]"
     ]
    },
    {
     "name": "stdout",
     "output_type": "stream",
     "text": [
      "'NoneType' object has no attribute 'find_all'\n",
      "'NoneType' object has no attribute 'find_all'\n"
     ]
    },
    {
     "name": "stderr",
     "output_type": "stream",
     "text": [
      " 70%|█████████████████████████████████████████████████████████████████████████▊                                | 1106/1589 [08:35<03:59,  2.02it/s]"
     ]
    },
    {
     "name": "stdout",
     "output_type": "stream",
     "text": [
      "[Errno 2] No such file or directory: 'pic/2018 Nissan X-Gear 1.6L (A/T)_7.jpg'\n"
     ]
    },
    {
     "name": "stderr",
     "output_type": "stream",
     "text": [
      "100%|██████████████████████████████████████████████████████████████████████████████████████████████████████████| 1589/1589 [12:24<00:00,  2.13it/s]\n"
     ]
    }
   ],
   "source": [
    "from concurrent.futures import ThreadPoolExecutor, as_completed\n",
    "import numpy as np\n",
    "from tqdm import tqdm\n",
    "\n",
    "max_workers = 10\n",
    "urls = []\n",
    "with ThreadPoolExecutor(max_workers=max_workers) as executor:\n",
    "    futures = [executor.submit(crawl, x) for x in specs]\n",
    "    \n",
    "    for future in tqdm(futures, total=len(specs)):\n",
    "        result = future.result()\n",
    "        if result:\n",
    "            for x in result:\n",
    "                with open('car-data.jsonl', 'a') as f:\n",
    "                    json.dump(x, f)\n",
    "                    f.write('\\n')"
   ]
  },
  {
   "cell_type": "code",
   "execution_count": 9,
   "id": "ed287375-c73d-4a65-a59d-a89ed3b60bdf",
   "metadata": {},
   "outputs": [],
   "source": [
    "with open('car-data.jsonl') as fopen:\n",
    "    specs = [line.strip().strip('\"') for line in fopen]"
   ]
  },
  {
   "cell_type": "code",
   "execution_count": 10,
   "id": "af31e103-ad6e-40ca-9ec6-2ba446cd2351",
   "metadata": {},
   "outputs": [
    {
     "data": {
      "text/plain": [
       "'{\"img_url\": \"https://images.wapcar.my/file/7475993aa4ee40bca7f3a4e29fee18aa.jpg\", \"local_image\": \"pic/2019 Bentley Bentayga V8_25.jpg\", \"specs\": [\"Model Name : 2019 Bentley Bentayga V8\", \" Retail Price : RM 708,800\", \"Insurance: RM 18,807\", \"Road Tax: RM 6,612\", \"Monthly Payment: RM 7,147\", \" Brand : Bentley\", \" Body Type : SUV\", \" Segment : Luxury\", \" Fuel Type : Petrol\", \" Model : Bentley Bentayga\", \" Launched Year : 2019\", \" Horsepower (ps) : 550\", \" Torque (Nm) : 770\", \" Engine : 4.0T 550ps\", \" Engine Power(PS) : 550\", \" Electric Engine(PS) : -\", \" Transmission : 8-Speed AT\", \" Length*Width*Heigh(mm) : 5140 x 1998 x 1742\", \" 0-100 km/h (s) : 4.5\", \" Manufacturers Claim(L/100km) : 11.4 L/100km\", \" As Tested(L/100km) : -\", \" On Sale : no\", \" Warranty Manufacturer : -\", \" Top Speed (km/h) : 290\", \" Length(mm) : 5140 mm\", \" Width(mm) : 1998 mm\", \" Height(mm) : 1742 mm\", \" Wheelbase(mm) : 2995 mm\", \" Weight(kg) : 2395\", \" Ground Clearance : -\", \" Doors : 5\", \" Seats : 5\", \" Fueltank(litres) : 85\", \" Boot Volume(L) : 484\", \" Capacity (cc) : 3996\", \" Capacity (L) : 4.0\", \" Aspiration Form : Turbo\", \" Cylinder Arrangement : Inline (L)\", \" Number of Cylinders : 8\", \" Engine Power(PS) : 550\", \" Engine Power(kW) : -\", \" Rpm at Max Hp(RPM) : 6000\", \" Engine Torque(Nm) : 770\", \" Rpm at Max torque(RPM) : 4500\", \" Motor Type : -\", \" Motor Output(PS) : -\", \" Motor Output(kW) : -\", \" Motor Torque(Nm) : -\", \" Front Motor Output(kW) : -\", \" Front Motor Torque(Nm) : -\", \" Rear Motor Output(kW) : -\", \" Rear Motor Torque(Nm) : -\", \" Combined System Output(PS) : -\", \" Combined System Output(kW) : -\", \" Combined System Torque(Nm) : -\", \" Number Of Motors : -\", \" Motor Arrangement : -\", \" Battery Type : -\", \" EV Range(km) : -\", \" Battery Capacity(kWh) : -\", \" Power Consumption Per 100 Kilometers (kWh) : -\", \" Battery Warranty : -\", \" Quick Charge Time(h) : -\", \" Slow Charge Time(h) : -\", \" Transmission : AT\", \" Forward Ratios : -\", \" Driven Wheels : -\", \" Front Suspension : Double Wishbone\", \" Rear Suspension : Multi-Link\", \" Adaptive Suspension : -\", \" Front Tyres : 285/45 R21\", \" Rear Tyres : 285/45 R21\", \" Spare Tyre : -\", \" Front Brakes : Discs\", \" Rear Brakes : Discs\", \" Steering : -\", \" Parking Brake : -\", \" Euro NCAP Rating : 5 stars\", \" ASEAN NCAP Rating : 5 stars\", \" Airbags : -\", \" Driver/Front Passenger Seat Airbags : yes / yes\", \" Front/Rear Side Airbags : yes / yes\", \" Front/Rear Curtain Airbags : -\", \" Knee Airbags : -\", \" Rear Airbags : -\", \" Airbag Disable Function : -\", \" Seatbelt Reminder : -\", \" Autonomous Emergency Braking : -\", \" Lane-keeping Alert : -\", \" Blind Spot Info System : -\", \" Collision Warning : yes\", \" ABS/EBD : yes\", \" Electronic Stability Control(ESC) : -\", \" ISOFIX : -\", \" Parking Sensor Front : yes\", \" Parking Sensor Rear : yes\", \" Parking Camera : -\", \" Cruise Control : -\", \" Auto Parking : -\", \" Auto Start/Stop : yes\", \" Hill Start Assist : -\", \" Door Lock : -\", \" Folding Wing Mirrors : -\", \" Auto Wipers : yes\", \" Headlamps : LED\", \" Taillamps : LED\", \" Daytime Running Lights : -\", \" Front Foglamps : no\", \" Rear Foglamps : no\", \" Interior Lighting : -\", \" Auto Headlamps : -\", \" Sunroof : Y\", \" Sunshade : -\", \" Seat Features(Front-Driver) : Height Adjustable Driver Seat\", \" Seat Features(Passenger) : Adjustable Seats\", \" Seat Features(Rear) : -\", \" Front Air-con : Automatic Climate Control System\", \" Rear Air-con : yes\", \" Paddle Shift : -\", \" Multi-function Steering Wheel : -\", \" Adjustable Steering Wheels : -\", \" Steering Adjustment : -\", \" Head-up Display : -\", \" Instrument Cluster : -\", \" Screen : Touchscreen\", \" Screen Size\\\\uff08inch) : 8\", \" Rear Entertainment : -\", \" Power Socket : -\", \" Speaker Brand : -\", \" Sound Plus Functions : -\", \" Speakers : 10 Speakers\"]}'"
      ]
     },
     "execution_count": 10,
     "metadata": {},
     "output_type": "execute_result"
    }
   ],
   "source": [
    "specs[700]"
   ]
  },
  {
   "cell_type": "code",
   "execution_count": null,
   "id": "77647549-cb83-497c-beab-325a4a8bedcc",
   "metadata": {},
   "outputs": [],
   "source": []
  }
 ],
 "metadata": {
  "kernelspec": {
   "display_name": "Python 3 (ipykernel)",
   "language": "python",
   "name": "python3"
  },
  "language_info": {
   "codemirror_mode": {
    "name": "ipython",
    "version": 3
   },
   "file_extension": ".py",
   "mimetype": "text/x-python",
   "name": "python",
   "nbconvert_exporter": "python",
   "pygments_lexer": "ipython3",
   "version": "3.8.10"
  }
 },
 "nbformat": 4,
 "nbformat_minor": 5
}
