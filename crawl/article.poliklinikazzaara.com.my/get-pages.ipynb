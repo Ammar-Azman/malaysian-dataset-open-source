{
 "cells": [
  {
   "cell_type": "code",
   "execution_count": 23,
   "metadata": {},
   "outputs": [],
   "source": [
    "import requests\n",
    "\n",
    "cookies = {\n",
    "    '_gid': 'GA1.3.1765600955.1690690684',\n",
    "    '_ga_53C11HE97T': 'GS1.1.1690690684.2.1.1690690725.0.0.0',\n",
    "    '_ga': 'GA1.1.274751202.1689744888',\n",
    "}\n",
    "\n",
    "headers = {\n",
    "    'authority': 'article.poliklinikazzaara.com.my',\n",
    "    'accept': 'text/html, */*; q=0.01',\n",
    "    'accept-language': 'en-MY,en;q=0.9,en-US;q=0.8,ms;q=0.7',\n",
    "    'cache-control': 'no-cache',\n",
    "    'content-type': 'application/x-www-form-urlencoded; charset=UTF-8',\n",
    "    # 'cookie': '_gid=GA1.3.1765600955.1690690684; _ga_53C11HE97T=GS1.1.1690690684.2.1.1690690725.0.0.0; _ga=GA1.1.274751202.1689744888',\n",
    "    'origin': 'https://article.poliklinikazzaara.com.my',\n",
    "    'pragma': 'no-cache',\n",
    "    'referer': 'https://article.poliklinikazzaara.com.my/',\n",
    "    'sec-ch-ua': '\"Not.A/Brand\";v=\"8\", \"Chromium\";v=\"114\", \"Google Chrome\";v=\"114\"',\n",
    "    'sec-ch-ua-mobile': '?0',\n",
    "    'sec-ch-ua-platform': '\"macOS\"',\n",
    "    'sec-fetch-dest': 'empty',\n",
    "    'sec-fetch-mode': 'cors',\n",
    "    'sec-fetch-site': 'same-origin',\n",
    "    'user-agent': 'Mozilla/5.0 (Macintosh; Intel Mac OS X 10_15_7) AppleWebKit/537.36 (KHTML, like Gecko) Chrome/114.0.0.0 Safari/537.36',\n",
    "    'x-requested-with': 'XMLHttpRequest',\n",
    "}\n",
    "\n",
    "data = {\n",
    "    'action': 'tnm_posts_listing_list',\n",
    "    'args[post_type]': 'post',\n",
    "    'args[ignore_sticky_posts]': '1',\n",
    "    'args[post_status]': 'publish',\n",
    "    'args[posts_per_page]': '100',\n",
    "    'args[offset]': '100',\n",
    "    'args[orderby]': 'date',\n",
    "    'postOffset': '0',\n",
    "    'type': 'loadmore',\n",
    "    'moduleInfo[post_source]': 'all',\n",
    "    'moduleInfo[post_icon]': 'disable',\n",
    "    'moduleInfo[iconPosition]': 'center',\n",
    "    'moduleInfo[meta]': '3',\n",
    "    'moduleInfo[cat]': '1',\n",
    "    'moduleInfo[excerpt]': '1',\n",
    "    'the__lastPost': '100',\n",
    "    'securityCheck': '5083a44257',\n",
    "}\n",
    "\n",
    "response = requests.post(\n",
    "    'https://article.poliklinikazzaara.com.my/wp-admin/admin-ajax.php',\n",
    "    cookies=cookies,\n",
    "    headers=headers,\n",
    "    data=data,\n",
    ")"
   ]
  },
  {
   "cell_type": "code",
   "execution_count": 24,
   "metadata": {},
   "outputs": [],
   "source": [
    "r = response.json()"
   ]
  },
  {
   "cell_type": "code",
   "execution_count": 25,
   "metadata": {},
   "outputs": [],
   "source": [
    "from bs4 import BeautifulSoup\n",
    "\n",
    "soup = BeautifulSoup(r, \"lxml\")"
   ]
  },
  {
   "cell_type": "code",
   "execution_count": 26,
   "metadata": {},
   "outputs": [
    {
     "data": {
      "text/plain": [
       "93"
      ]
     },
     "execution_count": 26,
     "metadata": {},
     "output_type": "execute_result"
    }
   ],
   "source": [
    "a = soup.find_all('a')\n",
    "a = [a_.get('href') for a_ in a if '/author/' not in a_.get('href')]\n",
    "a = sorted(list(set(a)))\n",
    "len(a)"
   ]
  },
  {
   "cell_type": "code",
   "execution_count": 27,
   "metadata": {},
   "outputs": [
    {
     "data": {
      "text/plain": [
       "'https://article.poliklinikazzaara.com.my/1-minggu-selepas-lahir-adakah-bayi-ada-perekmbangan-tertentu/'"
      ]
     },
     "execution_count": 27,
     "metadata": {},
     "output_type": "execute_result"
    }
   ],
   "source": [
    "a[0]"
   ]
  },
  {
   "cell_type": "code",
   "execution_count": 28,
   "metadata": {},
   "outputs": [],
   "source": [
    "r = requests.get(a[0])\n",
    "soup = BeautifulSoup(r.content, \"lxml\")"
   ]
  },
  {
   "cell_type": "code",
   "execution_count": 31,
   "metadata": {},
   "outputs": [
    {
     "data": {
      "text/plain": [
       "'1 MINGGU SELEPAS LAHIR, ADAKAH BAYI ADA PEREKMBANGAN TERTENTU?'"
      ]
     },
     "execution_count": 31,
     "metadata": {},
     "output_type": "execute_result"
    }
   ],
   "source": [
    "soup.find('h1').text"
   ]
  },
  {
   "cell_type": "code",
   "execution_count": 33,
   "metadata": {},
   "outputs": [
    {
     "data": {
      "text/plain": [
       "'\\n\\nTahniah pada siapa sudah bergelar ibu! 9 bulan dalam perut, kini bayi comel anda sudah selamat dilahirkan. \\n\\n\\nAnda mungkin fikir tiada apa yang perlu anda tahu tentang perkembangan bayi 1 minggu, tapi anda sebenarnya \\nSALAH\\n..\\n\\n\\nWalaupun si manja itu baru saja dilahirkan, tapi setiap hari, perkembangannya semakin maju. Tak percaya jom tengok.\\n\\n\\nPerkembangan bayi 1 minggu:\\n Perkembangan fizikalComel kan Nampak lemak-lemak bayi macam ikon tayar Michelin. Sebenarnya, ini kerana mereka masih belum boleh memproses lemak.\\n\\n\\nKepala bayi 1 minggu juga mungkin nampak sedikit besar dari badannya. Tapi jangan risau, itu benda normal.\\n\\n\\nSatu lagi perkembangan bayi 1 minggu yang anda perlu tahu ialah mereka tidak mampu merenung anda kembali. Ini kerana pada usia 1 minggu, mereka masih rabun dekat. Jadi, apabila anda merenungnya, anda akan nampak dia akan melihat kening, garis rambut atau mata anda. Matanya juga mungkin nampak juling.Tapi jangan risau, tu perkara biasa. \\n\\n\\nApa yang anda boleh bantu ialah dengan menggerakkan kepala anda ke kiri dan ke kanan perlahan-lahan. Tengok sama ada mata bayi ikut atau tidak. Dengan melakukan perkara ini, anda membantu menguatkan otot mata mereka.\\n\\n\\nLagi satu, jangan beli permainan yang berwarna-warni. Sebaliknya, beli permainan dengan warna kontras seperti hitam, putih atau merah. Sehingga anak berumur enam bulan, hanya warna-warna itu yang mereka paling boleh nampak.\\n\\n\\nAlat sulit dan payudara bayi juga akan kelihatan sedikit bengkak. Jangan risau ibu, itu juga benda biasa. Ia kerana hormone yang diserap bayi ketika dalam rahim.\\n\\n\\nSatu lagi perkembangan bayi 1 minggu ialah mereka akan ada bulu-bulu halus di belakang badan, bahu dan dahi. Bulu halus ini dipanggil sebagai lanugo. Ia bertujuan untuk melindungi kulit bayi. Ia akan hilang dalam masa beberapa minggu.\\n\\n\\nPada peringkat ini, panjang dan berat anak harus seperti berikut:-\\n\\n\\nLelaki\\n:\\n\\n\\n\\n\\nPanjang: 49.8 cm (19.6 inc)\\n\\n\\nBerat: 3.3 kg (7.4 lb)\\n\\n\\nPerempuan\\n:\\n\\n\\n\\n\\nPanjang: 49.2 cm (19.4 inc)\\n\\n\\nBerat: 3.3 kg (7.3 lb)\\n\\n\\nLilitan kepala\\n:\\n\\n\\nLelaki: 34.5 cm (13.6 inc)\\n\\n\\nPerempuan: 33.9 cm (13.3 inc)\\n\\n\\nIbu, sentuhan, kasih sayang dan suara anda bergabung untuk membantu bayi rasa lebih selamat. Selain itu, otaknya juga akan bertindak balas dan makin berkembang. Jadi, teruskan bercakap dan mengasihi anak kecil anda itu.\\n\\n\\nAntara benda yang perlu anda ingat tentang menyusu bayi 1 minggu ialah:- \\nSusu keluar atas permintaan. Lebih banyak anda beri anak minum susu, lebih banyak susu badan akan keluar. Tapi bayi tak dapat mengawal pemakanannya, jadi ibulah kena bertanggungjawab untuk tahu bila anda patut bagi bayi susu.\\n\\n\\nTanda baby lapar ialah: \\nMenghisap jari/tangan, mulut terbuka.\\n\\n\\n– Perut bayi baru besar sebiji marmar, jadi anda tak boleh beri sebarang makanan lain pada mereka melainkan susu badan.\\n\\n\\n– Selepas 3 hingga 5 hari, anda akan mengalami let-down iaitu pengeluaran susu yang meningkat\\n\\n\\n– Kalau payudara bengkak, pastikan bayi betul-betul melekap dengan elok pada payudara. Anda kene kosongkan payudara.\\n\\n\\n– Jika ada masalah untuk menyusu, jangan lupa dapatkan pandangan pakar Vaksinasi dan penyakit biasaSemasa lahir, anak kecil anda sepatunya menerima suntikan seperti berikut: \\n\\n\\nBCG: Imunisasi terhadap Tuberkulosis Hepatisis B\\n\\n\\nImunisasi terhadap \\nHepatisis B\\n Lepas dua ke tiga hari, benjolan akan muncul di tempat suntikan namun ia tiada kesan sampingan.Paling penting, pastikan tiada sesiapa yang mencium bayi anda sama ada di muka, mulut, tangan, pipi dan sebagainya kerana kuman boleh merebak pada bayi. Ingat ya. \\n\\n\\nSemoga bermanfaat.\\n\\n'"
      ]
     },
     "execution_count": 33,
     "metadata": {},
     "output_type": "execute_result"
    }
   ],
   "source": [
    "soup.find('div', {'class': 'single-body entry-content typography-copy'}).get_text(separator=\"\\n\")"
   ]
  },
  {
   "cell_type": "code",
   "execution_count": 38,
   "metadata": {},
   "outputs": [
    {
     "name": "stderr",
     "output_type": "stream",
     "text": [
      "100%|███████████████████████████████████████████| 93/93 [04:38<00:00,  2.99s/it]\n"
     ]
    }
   ],
   "source": [
    "from tqdm import tqdm\n",
    "import json\n",
    "\n",
    "with open('data.jsonl', 'w') as fopen:\n",
    "    for url in tqdm(a):\n",
    "        r = requests.get(url)\n",
    "        soup = BeautifulSoup(r.content, \"lxml\")\n",
    "        try:\n",
    "            title = soup.find('h1').text\n",
    "        except:\n",
    "            title = None\n",
    "        \n",
    "        try:\n",
    "            body = soup.find('div', {'class': 'single-body entry-content typography-copy'}).get_text(separator=\"\\n\")\n",
    "        except:\n",
    "            body = None\n",
    "        \n",
    "        data = {\n",
    "            'url': url,\n",
    "            'title': title,\n",
    "            'body': body,\n",
    "        }\n",
    "        \n",
    "        fopen.write(f'{json.dumps(data)}\\n')"
   ]
  },
  {
   "cell_type": "code",
   "execution_count": null,
   "metadata": {},
   "outputs": [],
   "source": []
  }
 ],
 "metadata": {
  "kernelspec": {
   "display_name": "Python 3 (ipykernel)",
   "language": "python",
   "name": "python3"
  },
  "language_info": {
   "codemirror_mode": {
    "name": "ipython",
    "version": 3
   },
   "file_extension": ".py",
   "mimetype": "text/x-python",
   "name": "python",
   "nbconvert_exporter": "python",
   "pygments_lexer": "ipython3",
   "version": "3.8.10"
  }
 },
 "nbformat": 4,
 "nbformat_minor": 4
}
