{
 "cells": [
  {
   "cell_type": "code",
   "execution_count": 1,
   "metadata": {},
   "outputs": [],
   "source": [
    "import requests\n",
    "from bs4 import BeautifulSoup\n",
    "from tqdm import tqdm\n",
    "import os\n",
    "import json\n",
    "import numpy as np\n",
    "import time\n",
    "import random\n",
    "import json\n",
    "import urllib3\n",
    "urllib3.disable_warnings(urllib3.exceptions.InsecureRequestWarning)"
   ]
  },
  {
   "cell_type": "code",
   "execution_count": 7,
   "metadata": {},
   "outputs": [],
   "source": [
    "cookies = {\n",
    "    'PHPSESSID': 'psqtgbnonbuv2tab8qacge4i64',\n",
    "    'visited': '1',\n",
    "}\n",
    "\n",
    "headers = {\n",
    "    'Accept': 'text/html,application/xhtml+xml,application/xml;q=0.9,image/avif,image/webp,image/apng,*/*;q=0.8,application/signed-exchange;v=b3;q=0.7',\n",
    "    'Accept-Language': 'en-MY,en;q=0.9,en-US;q=0.8,ms;q=0.7',\n",
    "    'Cache-Control': 'no-cache',\n",
    "    'Connection': 'keep-alive',\n",
    "    # 'Cookie': 'PHPSESSID=psqtgbnonbuv2tab8qacge4i64; visited=1',\n",
    "    'Pragma': 'no-cache',\n",
    "    'Referer': 'http://nanban.com.my/index.php',\n",
    "    'Upgrade-Insecure-Requests': '1',\n",
    "    'User-Agent': 'Mozilla/5.0 (Macintosh; Intel Mac OS X 10_15_7) AppleWebKit/537.36 (KHTML, like Gecko) Chrome/118.0.0.0 Safari/537.36',\n",
    "}"
   ]
  },
  {
   "cell_type": "code",
   "execution_count": 2,
   "metadata": {},
   "outputs": [
    {
     "data": {
      "text/plain": [
       "5567"
      ]
     },
     "execution_count": 2,
     "metadata": {},
     "output_type": "execute_result"
    }
   ],
   "source": [
    "with open('urls.json') as fopen:\n",
    "    urls = json.load(fopen)\n",
    "    \n",
    "len(urls)"
   ]
  },
  {
   "cell_type": "code",
   "execution_count": 8,
   "metadata": {},
   "outputs": [],
   "source": [
    "url = f'http://nanban.com.my/{urls[0]}'\n",
    "r = requests.get(url, cookies = cookies, headers = headers)"
   ]
  },
  {
   "cell_type": "code",
   "execution_count": 9,
   "metadata": {},
   "outputs": [],
   "source": [
    "soup = BeautifulSoup(r.content, \"lxml\")"
   ]
  },
  {
   "cell_type": "code",
   "execution_count": 14,
   "metadata": {},
   "outputs": [
    {
     "data": {
      "text/plain": [
       "'சுப்பிரமணியத்திடம் இருந்து மஇகாவை மீட்டெடுப்போம்: இராமலிங்கம் அறிவிப்பு!'"
      ]
     },
     "execution_count": 14,
     "metadata": {},
     "output_type": "execute_result"
    }
   ],
   "source": [
    "soup.find('h6').text"
   ]
  },
  {
   "cell_type": "code",
   "execution_count": 16,
   "metadata": {},
   "outputs": [
    {
     "data": {
      "text/plain": [
       "'டத்தோஸ்ரீ டாக்டர் சுப்பிரமணியம் உட்பட எண்மருக்கு எதிரான வழக்கில் வெற்றி பெற்றவுடனே மஇகாவின் தேர்தலை நடத்துவோம் என்று ஏ.கே. இராம லிங்கம் நேற்று அறிவித்தார். டத்தோஸ்ரீ பழனிவேலை மஇகா தலைவர் பதவியில் இருந்து கவிழ்ப்பதற்கு கூட்டுச் சதி செய்ததாக டத்தோஸ்ரீ சுப்பிர மணியம் உட்பட 8 பேருக்கு எதிரான வழக்கை உயர் நீதிமன்றம் தள்ளுபடி செய்தது. இருந்த போதிலும் இவ்வழக்கை மீண்டும் உயர் நீதிமன்றத்தில் விசாரணைக்கு கொண்டு வர வேண்டும் என்று மேல்முறையீட்டு நீதிமன்றத்தின் மூன்று நீதிபதிகள் தீர்ப்பு வழங்கினர். இந்த தீர்ப்பு எங்களுக்கு கிடைத்த முதல் வெற்றியாகும். இவ்வழக்கில் நிச்சயம் நாங்கள் வெற்றி பெறுவோம். இவ்வெற்றி யைத் தொடர்ந்து டத்தோஸ்ரீ சுப்பிரமணியத்திடம் இருந்து மஇகாவை மீட்டெடுப்போம். அடுத்தகட்ட நடவடிக்கையாக கட்சியின் தேர்தலை நாங்கள் நடத்துவோம். இத்தேர்தலில் போட்டியிடவும், வாக்களிக்கவும் எந்தவொரு பாராபட்சமும் இன்றி அனைவருக்கும் உரிய வாய்ப்புகள் வழங்குவோம். இந்த வாய்ப்பை பயன்படுத்தி பழனிவேல் தரப்பை எதிர்த்து போட்டியிடும் துணிவு சுப்பிரமணியத்திற்கு இருக்கும் என்று நாங்கள் நம்புகிறோம் என்று ஏகே இராமலிங்கம் கூறினார். டத்தோஸ்ரீ சுப்பிரமணியம், டத்தோஸ்ரீ விக்னேஸ்வரன் உட்பட எண்மருக்கு எதிரான வழக்கை மீண்டும் உயர் நீதிமன்றத்தில் விசாரிக்க வேண்டும் எனும் மேல்முறையீட்டு நீதிமன்றத்தில் தீர்ப்புக்கு எதிராக கூட்டரசு நீதிமன்றத்தில் அத்தரப்பினர் மேல்முறையீடு செய்துள்ளனர்.இம்மேல்முறையீட்டு மனு வரும் மே 8ஆம் தேதி விசாரணைக்கு வரவிருக்கிறது என்று அவர் சுட்டிக் காட்டினார். மஇகாவின் சொத்துகள் என கருதப்படும் எம்ஐஇடி, ஏய்ம்ஸ்ட் பல் கலைக்கழகம் என பலவற்றை இன்று நாம் இழந்துள்ளோம். இச்சொத்துகளை மீட்பது எங்களுக்கு மிகப் பெரிய கடமையாக உள்ளது. மஇகாவுக்கு சொந்தமாக சொத்துக்கள் அனைத்தும் கட்சியில் கீழ் தான் இருக்க வேண்டும். இதற்கு யாரும் சொந்தம் கொண்டாடக் கூடாது என்று அவர் தெரிவித்தார். இதனிடையே நீதிமன்ற வழக்கில் சம்பந்தப்பட்டிருக்கும் டத்தோஸ்ரீ டாக்டர் எஸ். சுப்பிரமணியம், டத்தோஸ்ரீ எஸ். விக்னேஸ்வரன் ஆகிய இருவருக்கும் அரசாங்கத்தில் உயரிய பதவிகள் வழங்கப்பட்டிருக்கும் விவ காரத்தை அவர் கடுமையாக சாடினார். டத்தோஸ்ரீ சுப்பிரமணியம் சுகாதார அமைச்சராக பதவி வகிக்கிறார். அதே வேளையில் டத்தோஸ்ரீ எஸ். விக்னேஸ்வரன் மேலவை தலைவராக பதவி வகிக்கிறார்.இவ்வழக்கு விசாரணை முடிவுறும் வரையில் அவர்கள் இருவரும் அப்பதவியில் இருந்து விலக வேண்டும். இவ்விவகாரம் குறித்து விரை வில் பிரதமர் டத்தோஸ்ரீ நஜீப் துன் ரசாக்கிற்கு கடிதம் ஒன்றையும் நாங்கள் அனுப்ப தயாராகவுள்ளோம் என்று இராமலிங்கம் கூறினார்.'"
      ]
     },
     "execution_count": 16,
     "metadata": {},
     "output_type": "execute_result"
    }
   ],
   "source": [
    "soup.find('div', {'class': 'news_per'}).get_text(separator=\"\\n\").strip()"
   ]
  },
  {
   "cell_type": "code",
   "execution_count": 17,
   "metadata": {},
   "outputs": [],
   "source": [
    "!mkdir page"
   ]
  },
  {
   "cell_type": "code",
   "execution_count": 18,
   "metadata": {},
   "outputs": [
    {
     "name": "stderr",
     "output_type": "stream",
     "text": [
      "100%|█████████████████████████████████████████████████████████████████████████████████████████████████████████| 5567/5567 [24:56<00:00,  3.72it/s]\n"
     ]
    }
   ],
   "source": [
    "for i in tqdm(range(len(urls))):\n",
    "    filename = os.path.join('page', f'{i}.json')\n",
    "    if os.path.exists(filename):\n",
    "        continue\n",
    "    url = f'http://nanban.com.my/{urls[i]}'\n",
    "    r = requests.get(url, cookies = cookies, headers = headers)\n",
    "    soup = BeautifulSoup(r.content, \"lxml\")\n",
    "\n",
    "    data = {\n",
    "        'url': url,\n",
    "        'title': soup.find('h6').text.strip(),\n",
    "        'body': soup.find('div', {'class': 'news_per'}).get_text(separator=\"\\n\").strip(),\n",
    "    }\n",
    "    \n",
    "    with open(filename, 'w') as fopen:\n",
    "        json.dump(data, fopen)"
   ]
  },
  {
   "cell_type": "code",
   "execution_count": 21,
   "metadata": {},
   "outputs": [
    {
     "data": {
      "text/plain": [
       "5567"
      ]
     },
     "execution_count": 21,
     "metadata": {},
     "output_type": "execute_result"
    }
   ],
   "source": [
    "from glob import glob\n",
    "\n",
    "files = glob('page/*.json')\n",
    "len(files)"
   ]
  },
  {
   "cell_type": "code",
   "execution_count": 22,
   "metadata": {},
   "outputs": [],
   "source": [
    "with open('nanban.com.my.jsonl', 'w') as fopen_l:\n",
    "    for f in files:\n",
    "        with open(f) as fopen:\n",
    "            data = json.load(fopen)\n",
    "        fopen_l.write(f'{json.dumps(data)}\\n')"
   ]
  }
 ],
 "metadata": {
  "kernelspec": {
   "display_name": "Python 3 (ipykernel)",
   "language": "python",
   "name": "python3"
  },
  "language_info": {
   "codemirror_mode": {
    "name": "ipython",
    "version": 3
   },
   "file_extension": ".py",
   "mimetype": "text/x-python",
   "name": "python",
   "nbconvert_exporter": "python",
   "pygments_lexer": "ipython3",
   "version": "3.8.10"
  }
 },
 "nbformat": 4,
 "nbformat_minor": 4
}
