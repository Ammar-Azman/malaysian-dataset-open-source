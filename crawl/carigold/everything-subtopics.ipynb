{
 "cells": [
  {
   "cell_type": "code",
   "execution_count": 1,
   "metadata": {},
   "outputs": [],
   "source": [
    "import requests\n",
    "import numpy as np\n",
    "from bs4 import BeautifulSoup\n",
    "from tqdm import tqdm\n",
    "from concurrent.futures import ThreadPoolExecutor, as_completed\n",
    "from glob import glob\n",
    "import time\n",
    "import json\n",
    "import os\n",
    "import gc"
   ]
  },
  {
   "cell_type": "code",
   "execution_count": 2,
   "metadata": {},
   "outputs": [],
   "source": [
    "files = glob('topics/*.json')\n",
    "\n",
    "topics = []\n",
    "for f in files:\n",
    "    with open(f) as fopen:\n",
    "        topics.extend(json.load(fopen))\n",
    "        \n",
    "topics = list(set(topics))\n",
    "topics = sorted(topics)"
   ]
  },
  {
   "cell_type": "code",
   "execution_count": 3,
   "metadata": {},
   "outputs": [
    {
     "data": {
      "text/plain": [
       "375073"
      ]
     },
     "execution_count": 3,
     "metadata": {},
     "output_type": "execute_result"
    }
   ],
   "source": [
    "len(topics)"
   ]
  },
  {
   "cell_type": "code",
   "execution_count": 4,
   "metadata": {
    "scrolled": true
   },
   "outputs": [
    {
     "data": {
      "text/plain": [
       "('https://carigold.com/forum/threads/%C2%A8%C2%A8expectations.31918/',\n",
       " ['<div class=\"message-userContent lbContainer js-lbContainer\" data-lb-caption-desc=\"ayitin69 · Mar 10, 2008 at 7:36 PM\" data-lb-id=\"post-1082213\">\\n<article class=\"message-body js-selectToQuote\">\\n<div>\\n<div class=\"bbWrapper\">The week has started off quietly enough although Asia did see some mild selling pressure for the Greenback. However, with a relatively subdued release calendar this week the willingness to probe new lows has not been present. <br/>\\n<br/>\\nFor the States Thursday’s advance retail sales are probably the most influential but still will unlikely manage to generate any significant move in the Dollar. From Europe there is a strong of industrial production and inflation numbers that should maintain the recent positive bounce that has been seen this year.<br/>\\n<br/>\\nIt seems unlikely that economic releases are going to generate any additional sales in the Dollar and we are therefore left to watch for comments from officials but again they have been open with comments and probably there is nothing new to cause any sharp movements. <br/>\\n<br/>\\nThus the only real chance of stronger moves this week could come from any unscheduled surprise – which probably won’t be forthcoming.<br/>\\n<br/>\\nTherefore it looks like Friday’s lows – maybe minor new lows – are likely to be it for now and we should concentrate on a likely dull week of an erratic but upward Dollar recovery which could be the first breather the Dollar has had in 4-5 weeks. This may even last through to after the Easter break.<br/>\\n<br/>\\nNote important support and resistance areas:<br/>\\n<br/>\\nUSD/JPY EUR/USD USD/CHF GBP/USD<br/>\\nRes: 103.23-51 1.5502-15 1.0335-80 2.0329-67<br/>\\nRes: 102.40-80 1.5430-72 1.0255-83 2.0232-48<br/>\\n<br/>\\nSpt: 101.20-40 1.5313-34 1.0165-88 2.0155-78<br/>\\nSpt: 100.26-46 1.5254-79 1.0110-31 2.0066-96</div>\\n</div>\\n<div class=\"js-selectToQuoteEnd\">\\xa0</div>\\n</article>\\n</div>',\n",
       "  '<div class=\"message-userContent lbContainer js-lbContainer\" data-lb-caption-desc=\"ayitin69 · Mar 20, 2008 at 7:50 PM\" data-lb-id=\"post-1120961\">\\n<article class=\"message-body js-selectToQuote\">\\n<div itemprop=\"text\">\\n<div class=\"bbWrapper\"><b>Gbp/usd (Intraday)</b><br/>\\n<br/>\\nGbp/usd is in bearish configuration. The price should find resistences at 1.9890 and 2.0050. The support should be at 1.9780 and 1.9700. If the support is broken then the target should be 1.9600.</div>\\n</div>\\n<div class=\"js-selectToQuoteEnd\">\\xa0</div>\\n</article>\\n</div>',\n",
       "  '<div class=\"message-userContent lbContainer js-lbContainer\" data-lb-caption-desc=\"ayitin69 · Mar 20, 2008 at 8:19 PM\" data-lb-id=\"post-1121008\">\\n<article class=\"message-body js-selectToQuote\">\\n<div itemprop=\"text\">\\n<div class=\"bbWrapper\"><b>Usd/jpy (Intraday)</b><br/>\\n<br/>\\nUsd/jpy is in a downtrend supported by 4h EMA and in a bearish configuration. Tha resistances should be at 100 and 101. The supports should be at 98.65 and 97.75</div>\\n</div>\\n<div class=\"js-selectToQuoteEnd\">\\xa0</div>\\n</article>\\n</div>',\n",
       "  '<div class=\"message-userContent lbContainer js-lbContainer\" data-lb-caption-desc=\"ayitin69 · Mar 20, 2008 at 8:35 PM\" data-lb-id=\"post-1121026\">\\n<article class=\"message-body js-selectToQuote\">\\n<div itemprop=\"text\">\\n<div class=\"bbWrapper\"><b>Usd/chf forecast (Intraday)</b><br/>\\n<br/>\\nUsd/chf, the indicators are in the bearish configuration. The price should find resistances at 1.0000 and 1.0050. The supports should be at 0.9900 and 0.9800</div>\\n</div>\\n<div class=\"js-selectToQuoteEnd\">\\xa0</div>\\n</article>\\n</div>',\n",
       "  '<div class=\"message-userContent lbContainer js-lbContainer\" data-lb-caption-desc=\"ayitin69 · Mar 20, 2008 at 11:11 PM\" data-lb-id=\"post-1121578\">\\n<article class=\"message-body js-selectToQuote\">\\n<div itemprop=\"text\">\\n<div class=\"bbWrapper\"><b>Euro/usd (Intraday, American session)</b><br/>\\n<br/>\\nEuro/usd broke the 1.5560 support. It is in downtrend supported by 15 minutes EMA and in bearish configuration. The price should find resistances at 1.5475 and 1.5570. The supports should be at 1.5400 and 1.5350</div>\\n</div>\\n<div class=\"js-selectToQuoteEnd\">\\xa0</div>\\n</article>\\n</div>',\n",
       "  '<div class=\"message-userContent lbContainer js-lbContainer\" data-lb-caption-desc=\"PathFinder · Mar 20, 2008 at 11:36 PM\" data-lb-id=\"post-1121661\">\\n<article class=\"message-body js-selectToQuote\">\\n<div itemprop=\"text\">\\n<div class=\"bbWrapper\"><blockquote class=\"bbCodeBlock bbCodeBlock--expandable bbCodeBlock--quote js-expandWatch\" data-attributes=\"member: 23345\" data-quote=\"ayitin69\" data-source=\"post: 1121578\">\\n<div class=\"bbCodeBlock-title\">\\n<a class=\"bbCodeBlock-sourceJump\" data-content-selector=\"#post-1121578\" data-xf-click=\"attribution\" href=\"/forum/goto/post?id=1121578\" rel=\"nofollow\">ayitin69 said:</a>\\n</div>\\n<div class=\"bbCodeBlock-content\">\\n<div class=\"bbCodeBlock-expandContent js-expandContent\">\\nEuro/usd broke the 1.5560 support. It is in downtrend supported by 15 minutes EMA and in bearish configuration. The price should find resistances at 1.5475 and 1.5570. The supports should be at 1.5400 and 1.5350\\n</div>\\n<div class=\"bbCodeBlock-expandLink js-expandLink\"><a role=\"button\" tabindex=\"0\">Click to expand...</a></div>\\n</div>\\n</blockquote>\\n<br/>\\nwatsup bro. tq for the info. Anyway u might want to peek info/analysis at Mataf.net as well.<br/>\\n<br/>\\npeace.</div>\\n</div>\\n<div class=\"js-selectToQuoteEnd\">\\xa0</div>\\n</article>\\n</div>',\n",
       "  '<div class=\"message-userContent lbContainer js-lbContainer\" data-lb-caption-desc=\"ayitin69 · Mar 20, 2008 at 11:43 PM\" data-lb-id=\"post-1121700\">\\n<article class=\"message-body js-selectToQuote\">\\n<div itemprop=\"text\">\\n<div class=\"bbWrapper\"><b>Usd/chf forecast (Intraday, American session)</b><br/>\\n<br/>\\nUsd/chf broke the 1.0030 resistance. Usd/chf is in bullish movement. The indicators are in bearish configuration. The prices should find resistances at 1.0170 and 1.0240. The supports should be at 1.0115 and 1.0040</div>\\n</div>\\n<div class=\"js-selectToQuoteEnd\">\\xa0</div>\\n</article>\\n</div>',\n",
       "  '<div class=\"message-userContent lbContainer js-lbContainer\" data-lb-caption-desc=\"ayitin69 · Mar 21, 2008 at 12:20 AM\" data-lb-id=\"post-1121817\">\\n<article class=\"message-body js-selectToQuote\">\\n<div itemprop=\"text\">\\n<div class=\"bbWrapper\"><b>Usd/jpy (Intraday, american session)</b><br/>\\n<br/>\\nUsd/jpy is in a trend between 97.75 and 100.15. It moves without trend. The indicators appears to be bearish configuration. The price should be at 100.15 and 101.30. The supports should be at 98.70 and 97.75</div>\\n</div>\\n<div class=\"js-selectToQuoteEnd\">\\xa0</div>\\n</article>\\n</div>',\n",
       "  '<div class=\"message-userContent lbContainer js-lbContainer\" data-lb-caption-desc=\"ayitin69 · Mar 21, 2008 at 12:37 AM\" data-lb-id=\"post-1121863\">\\n<article class=\"message-body js-selectToQuote\">\\n<div itemprop=\"text\">\\n<div class=\"bbWrapper\"><b>Gbp/usd (Intraday, American session)</b><br/>\\n<br/>\\nGbp/usd is in a downtrend. The indicator is in bearish configuration. The resistances should be 1.9850 and 1.9930. The supports should be 1.9750 and 1.9700. If the support is broken then the target will be 1.6000.</div>\\n</div>\\n<div class=\"js-selectToQuoteEnd\">\\xa0</div>\\n</article>\\n</div>',\n",
       "  '<div class=\"message-userContent lbContainer js-lbContainer\" data-lb-caption-desc=\"ayitin69 · Mar 21, 2008 at 12:49 AM\" data-lb-id=\"post-1121903\">\\n<article class=\"message-body js-selectToQuote\">\\n<div itemprop=\"text\">\\n<div class=\"bbWrapper\"><b>Aud/usd</b><br/>\\n<br/>\\nAud/usd broke the 0.9100 support. the indicators are in the bearish configuration. The price should find resistances at 0.9120 and 0.9200. The supports should be 0.9000 and 0.8900</div>\\n</div>\\n<div class=\"js-selectToQuoteEnd\">\\xa0</div>\\n</article>\\n</div>'],\n",
       " 8)"
      ]
     },
     "execution_count": 4,
     "metadata": {},
     "output_type": "execute_result"
    }
   ],
   "source": [
    "import time\n",
    "\n",
    "def get_href_topic(url, topic = None):\n",
    "    while True:\n",
    "        try:\n",
    "            r = requests.get(url)\n",
    "            break\n",
    "        except:\n",
    "            time.sleep(1.0)\n",
    "    soup = BeautifulSoup(r.content, \"lxml\")\n",
    "    a = soup.find_all('a')\n",
    "    a = [a_.get('href') for a_ in a if a_.get('href')]\n",
    "    if topic:\n",
    "        try:\n",
    "            max_page = max([int(a_.split('page-')[-1]) for a_ in a if topic in a_ and '/page-' in a_])\n",
    "        except:\n",
    "            max_page = -1\n",
    "    else:\n",
    "        max_page = -1\n",
    "    div = soup.find_all('div', {'class': 'message-userContent lbContainer js-lbContainer'})\n",
    "    return url, [str(d) for d in div], max_page\n",
    "\n",
    "\n",
    "t = topics[3]\n",
    "url = f'https://carigold.com{t}'\n",
    "get_href_topic(url, t)"
   ]
  },
  {
   "cell_type": "code",
   "execution_count": 5,
   "metadata": {},
   "outputs": [],
   "source": [
    "# !rm -rf subtopics"
   ]
  },
  {
   "cell_type": "code",
   "execution_count": 8,
   "metadata": {},
   "outputs": [
    {
     "name": "stdout",
     "output_type": "stream",
     "text": [
      "mkdir: cannot create directory ‘subtopics’: File exists\r\n"
     ]
    }
   ],
   "source": [
    "!mkdir subtopics"
   ]
  },
  {
   "cell_type": "code",
   "execution_count": 9,
   "metadata": {},
   "outputs": [
    {
     "name": "stderr",
     "output_type": "stream",
     "text": [
      "100%|█████████████████████████████████████████████████████████████████████████████████████████████████████| 7502/7502 [00:00<00:00, 564568.64it/s]\n"
     ]
    }
   ],
   "source": [
    "max_worker = 50\n",
    "for i in tqdm(range(0, len(topics), max_worker)):\n",
    "    \n",
    "    filename = os.path.join('subtopics', f'{i}.json')\n",
    "    if os.path.exists(filename):\n",
    "        continue\n",
    "    \n",
    "    gc.collect()\n",
    "    \n",
    "    urls = [(f'https://carigold.com{t}', t) for t in topics[i: i + max_worker]]\n",
    "    results = []\n",
    "    with ThreadPoolExecutor(max_workers=max_worker) as executor:\n",
    "        futures = {executor.submit(get_href_topic, url[0], url[1]): url for url in urls}\n",
    "\n",
    "        for future in as_completed(futures):\n",
    "            results.append(future.result())\n",
    "    \n",
    "    with open(filename, 'w') as fopen:\n",
    "        json.dump(results, fopen)\n",
    "        \n",
    "    try:\n",
    "        del results\n",
    "        del futures\n",
    "    except:\n",
    "        pass"
   ]
  },
  {
   "cell_type": "code",
   "execution_count": 10,
   "metadata": {},
   "outputs": [
    {
     "name": "stdout",
     "output_type": "stream",
     "text": [
      "2.9G\tsubtopics\r\n"
     ]
    }
   ],
   "source": [
    "!du -hs subtopics"
   ]
  },
  {
   "cell_type": "code",
   "execution_count": 11,
   "metadata": {},
   "outputs": [],
   "source": [
    "# with open()"
   ]
  },
  {
   "cell_type": "code",
   "execution_count": 12,
   "metadata": {},
   "outputs": [],
   "source": [
    "# for i in tqdm(range(len(a))):\n",
    "#     t = topics[i]\n",
    "#     filename = os.path.join('topics', f'{i}.json')\n",
    "#     if os.path.exists(filename):\n",
    "#         continue\n",
    "        \n",
    "#     base_url = f'https://carigold.com{t}'\n",
    "    \n",
    "#     filtered, max_page = get_href(base_url)\n",
    "    \n",
    "#     for i in tqdm(range(2, max_page + 1, max_worker)):\n",
    "#         aranged = np.arange(i, i + max_worker)\n",
    "#         urls = [f'{base_url}page-{a}' for a in aranged]\n",
    "\n",
    "#         with ThreadPoolExecutor(max_workers=max_worker) as executor:\n",
    "#             futures = {executor.submit(get_href, url): url for url in urls}\n",
    "\n",
    "#             for future in as_completed(futures):\n",
    "#                 filtered.extend(future.result()[0])\n",
    "                \n",
    "#     topics = list(set(filtered))\n",
    "#     with open(filename, 'w') as fopen:\n",
    "#         json.dump(topics, fopen)"
   ]
  }
 ],
 "metadata": {
  "kernelspec": {
   "display_name": "Python 3 (ipykernel)",
   "language": "python",
   "name": "python3"
  },
  "language_info": {
   "codemirror_mode": {
    "name": "ipython",
    "version": 3
   },
   "file_extension": ".py",
   "mimetype": "text/x-python",
   "name": "python",
   "nbconvert_exporter": "python",
   "pygments_lexer": "ipython3",
   "version": "3.8.10"
  }
 },
 "nbformat": 4,
 "nbformat_minor": 4
}
