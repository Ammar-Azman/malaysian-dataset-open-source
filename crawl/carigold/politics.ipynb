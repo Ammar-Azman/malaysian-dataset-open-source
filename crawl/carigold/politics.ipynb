{
 "cells": [
  {
   "cell_type": "code",
   "execution_count": 61,
   "metadata": {},
   "outputs": [],
   "source": [
    "import requests\n",
    "import numpy as np\n",
    "from bs4 import BeautifulSoup\n",
    "from tqdm import tqdm\n",
    "from concurrent.futures import ThreadPoolExecutor, as_completed"
   ]
  },
  {
   "cell_type": "code",
   "execution_count": 43,
   "metadata": {},
   "outputs": [],
   "source": [
    "base_url = 'https://carigold.com/forum/forums/politics.108/'"
   ]
  },
  {
   "cell_type": "code",
   "execution_count": 65,
   "metadata": {},
   "outputs": [],
   "source": [
    "def get_href(url):\n",
    "    r = requests.get(url)\n",
    "    soup = BeautifulSoup(r.content, \"lxml\")\n",
    "    a = soup.find_all('a')\n",
    "    a = [a_.get('href') for a_ in a if a_.get('href')]\n",
    "    max_page = max([int(a_.split('page-')[-1]) for a_ in a if '/forum/forums/' in a_ and '/page-' in a_])\n",
    "    a = [a_ for a_ in a if a_.startswith('/forum/threads/')]\n",
    "    filtered = []\n",
    "    for a_ in a:\n",
    "        splitted = a_.split('/')\n",
    "        if len(splitted) == 5 and splitted[-1] == '':\n",
    "            filtered.append(a_)\n",
    "    return filtered, max_page\n",
    "\n",
    "filtered, max_page = get_href(base_url)"
   ]
  },
  {
   "cell_type": "code",
   "execution_count": 66,
   "metadata": {},
   "outputs": [],
   "source": [
    "max_worker = 10"
   ]
  },
  {
   "cell_type": "code",
   "execution_count": 67,
   "metadata": {},
   "outputs": [
    {
     "name": "stderr",
     "output_type": "stream",
     "text": [
      "100%|█████████████████████████████████████████| 116/116 [02:22<00:00,  1.23s/it]\n"
     ]
    }
   ],
   "source": [
    "for i in tqdm(range(2, max_page + 1, max_worker)):\n",
    "    aranged = np.arange(i, i + max_worker)\n",
    "    urls = [f'{base_url}page-{a}' for a in aranged]\n",
    "    \n",
    "    with ThreadPoolExecutor(max_workers=max_worker) as executor:\n",
    "        futures = {executor.submit(get_href, url): url for url in urls}\n",
    "\n",
    "        for future in as_completed(futures):\n",
    "            filtered.extend(future.result()[0])"
   ]
  },
  {
   "cell_type": "code",
   "execution_count": 70,
   "metadata": {},
   "outputs": [],
   "source": [
    "topics = list(set(filtered))"
   ]
  },
  {
   "cell_type": "code",
   "execution_count": 72,
   "metadata": {},
   "outputs": [
    {
     "data": {
      "text/plain": [
       "'/forum/threads/shafie-bayangkan-warisan-bergerak-solo-di-sabah-semenanjung.749764/'"
      ]
     },
     "execution_count": 72,
     "metadata": {},
     "output_type": "execute_result"
    }
   ],
   "source": [
    "topics[0]"
   ]
  },
  {
   "cell_type": "code",
   "execution_count": 121,
   "metadata": {},
   "outputs": [],
   "source": [
    "import time\n",
    "\n",
    "def get_href_topic(url, topic = None):\n",
    "    while True:\n",
    "        try:\n",
    "            r = requests.get(url)\n",
    "            break\n",
    "        except:\n",
    "            time.sleep(1.0)\n",
    "    soup = BeautifulSoup(r.content, \"lxml\")\n",
    "    a = soup.find_all('a')\n",
    "    a = [a_.get('href') for a_ in a if a_.get('href')]\n",
    "    if topic:\n",
    "        try:\n",
    "            max_page = max([int(a_.split('page-')[-1]) for a_ in a if t in a_ and '/page-' in a_])\n",
    "        except:\n",
    "            max_page = -1\n",
    "    else:\n",
    "        max_page = -1\n",
    "    div = soup.find_all('div', {'class': 'bbWrapper'})\n",
    "    return [str(d) for d in div], max_page\n",
    "\n",
    "\n",
    "t = topics[0]\n",
    "url = f'https://carigold.com{t}'\n",
    "filtered, max_page = get_href_topic(url, t)"
   ]
  },
  {
   "cell_type": "code",
   "execution_count": 122,
   "metadata": {},
   "outputs": [
    {
     "name": "stdout",
     "output_type": "stream",
     "text": [
      "mkdir: cannot create directory ‘politics’: File exists\r\n"
     ]
    }
   ],
   "source": [
    "import os\n",
    "import json\n",
    "\n",
    "!mkdir politics"
   ]
  },
  {
   "cell_type": "code",
   "execution_count": 123,
   "metadata": {},
   "outputs": [
    {
     "name": "stderr",
     "output_type": "stream",
     "text": [
      " 65%|█████████████████████▍           | 14954/23029 [3:50:11<5:02:51,  2.25s/it]IOPub message rate exceeded.\n",
      "The notebook server will temporarily stop sending output\n",
      "to the client in order to avoid crashing it.\n",
      "To change this limit, set the config variable\n",
      "`--NotebookApp.iopub_msg_rate_limit`.\n",
      "\n",
      "Current values:\n",
      "NotebookApp.iopub_msg_rate_limit=1000.0 (msgs/sec)\n",
      "NotebookApp.rate_limit_window=3.0 (secs)\n",
      "\n",
      " 82%|██████████████████████████▉      | 18790/23029 [6:27:24<1:51:36,  1.58s/it]IOPub message rate exceeded.\n",
      "The notebook server will temporarily stop sending output\n",
      "to the client in order to avoid crashing it.\n",
      "To change this limit, set the config variable\n",
      "`--NotebookApp.iopub_msg_rate_limit`.\n",
      "\n",
      "Current values:\n",
      "NotebookApp.iopub_msg_rate_limit=1000.0 (msgs/sec)\n",
      "NotebookApp.rate_limit_window=3.0 (secs)\n",
      "\n"
     ]
    }
   ],
   "source": [
    "sorted_topics = sorted(topics)\n",
    "\n",
    "for no in tqdm(range(len(sorted_topics))):\n",
    "    t = sorted_topics[no]\n",
    "    \n",
    "    filename = os.path.join('politics', f'{no}.json')\n",
    "    if os.path.exists(filename):\n",
    "        continue\n",
    "    url = f'https://carigold.com{t}'\n",
    "    current_issues, max_page = get_href_topic(url, t)\n",
    "    \n",
    "    for i in range(2, max_page + 1, max_worker):\n",
    "        aranged = np.arange(i, i + max_worker)\n",
    "        urls = [f'{url}page-{a}' for a in aranged]\n",
    "\n",
    "        with ThreadPoolExecutor(max_workers=max_worker) as executor:\n",
    "            futures = {executor.submit(get_href_topic, url): url for url in urls}\n",
    "\n",
    "            for future in as_completed(futures):\n",
    "                current_issues.extend(future.result()[0])\n",
    "    \n",
    "    with open(filename, 'w') as fopen:\n",
    "        json.dump(current_issues, fopen)"
   ]
  },
  {
   "cell_type": "code",
   "execution_count": 124,
   "metadata": {},
   "outputs": [
    {
     "name": "stdout",
     "output_type": "stream",
     "text": [
      "1.9G\tpolitics\r\n"
     ]
    }
   ],
   "source": [
    "!du -hs politics"
   ]
  },
  {
   "cell_type": "code",
   "execution_count": 126,
   "metadata": {},
   "outputs": [],
   "source": [
    "# !zip -r politics.zip politics"
   ]
  },
  {
   "cell_type": "code",
   "execution_count": 129,
   "metadata": {},
   "outputs": [
    {
     "name": "stdout",
     "output_type": "stream",
     "text": [
      "239M\tpolitics.zip\r\n"
     ]
    }
   ],
   "source": [
    "!du -hs politics.zip"
   ]
  },
  {
   "cell_type": "code",
   "execution_count": 130,
   "metadata": {},
   "outputs": [
    {
     "data": {
      "text/plain": [
       "23029"
      ]
     },
     "execution_count": 130,
     "metadata": {},
     "output_type": "execute_result"
    }
   ],
   "source": [
    "from glob import glob\n",
    "\n",
    "files = glob('politics/*.json')\n",
    "len(files)"
   ]
  },
  {
   "cell_type": "code",
   "execution_count": 131,
   "metadata": {},
   "outputs": [
    {
     "data": {
      "text/plain": [
       "'politics/17887.json'"
      ]
     },
     "execution_count": 131,
     "metadata": {},
     "output_type": "execute_result"
    }
   ],
   "source": [
    "files[0]"
   ]
  },
  {
   "cell_type": "code",
   "execution_count": 132,
   "metadata": {},
   "outputs": [],
   "source": [
    "with open(files[0]) as fopen:\n",
    "    data = json.load(fopen)"
   ]
  },
  {
   "cell_type": "code",
   "execution_count": 135,
   "metadata": {},
   "outputs": [
    {
     "name": "stderr",
     "output_type": "stream",
     "text": [
      "100%|█████████████████████████████████████| 23029/23029 [05:49<00:00, 65.90it/s]\n"
     ]
    }
   ],
   "source": [
    "texts = []\n",
    "for f in tqdm(files):\n",
    "    with open(f) as fopen:\n",
    "        data = json.load(fopen)\n",
    "    for d in data:\n",
    "        texts.append(BeautifulSoup(d, \"lxml\").text)"
   ]
  },
  {
   "cell_type": "code",
   "execution_count": 136,
   "metadata": {},
   "outputs": [
    {
     "data": {
      "text/plain": [
       "1912425"
      ]
     },
     "execution_count": 136,
     "metadata": {},
     "output_type": "execute_result"
    }
   ],
   "source": [
    "len(texts)"
   ]
  },
  {
   "cell_type": "code",
   "execution_count": 138,
   "metadata": {},
   "outputs": [
    {
     "data": {
      "text/plain": [
       "1353425"
      ]
     },
     "execution_count": 138,
     "metadata": {},
     "output_type": "execute_result"
    }
   ],
   "source": [
    "texts = list(set(texts))\n",
    "len(texts)"
   ]
  },
  {
   "cell_type": "code",
   "execution_count": 139,
   "metadata": {},
   "outputs": [],
   "source": [
    "with open('politics.json', 'w') as fopen:\n",
    "    json.dump(texts, fopen)"
   ]
  }
 ],
 "metadata": {
  "kernelspec": {
   "display_name": "Python 3 (ipykernel)",
   "language": "python",
   "name": "python3"
  },
  "language_info": {
   "codemirror_mode": {
    "name": "ipython",
    "version": 3
   },
   "file_extension": ".py",
   "mimetype": "text/x-python",
   "name": "python",
   "nbconvert_exporter": "python",
   "pygments_lexer": "ipython3",
   "version": "3.8.10"
  }
 },
 "nbformat": 4,
 "nbformat_minor": 4
}
