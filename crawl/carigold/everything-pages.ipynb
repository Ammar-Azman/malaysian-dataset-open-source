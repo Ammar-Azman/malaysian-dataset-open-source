{
 "cells": [
  {
   "cell_type": "code",
   "execution_count": 13,
   "metadata": {},
   "outputs": [],
   "source": [
    "import requests\n",
    "import numpy as np\n",
    "from bs4 import BeautifulSoup\n",
    "from tqdm import tqdm\n",
    "from concurrent.futures import ThreadPoolExecutor, as_completed\n",
    "from glob import glob\n",
    "from tqdm import tqdm\n",
    "import time\n",
    "import json\n",
    "import os\n",
    "import gc"
   ]
  },
  {
   "cell_type": "code",
   "execution_count": 52,
   "metadata": {},
   "outputs": [
    {
     "data": {
      "text/plain": [
       "12503"
      ]
     },
     "execution_count": 52,
     "metadata": {},
     "output_type": "execute_result"
    }
   ],
   "source": [
    "files = glob('subtopics/*.json')\n",
    "len(files)"
   ]
  },
  {
   "cell_type": "code",
   "execution_count": 53,
   "metadata": {},
   "outputs": [
    {
     "name": "stderr",
     "output_type": "stream",
     "text": [
      "100%|███████████████████████████████████| 12503/12503 [00:12<00:00, 1017.16it/s]\n"
     ]
    }
   ],
   "source": [
    "urls = []\n",
    "for f in tqdm(files):\n",
    "    with open(f) as fopen:\n",
    "        data = json.load(fopen)\n",
    "\n",
    "    for d in data:\n",
    "        if d[-1] > 1:\n",
    "            url = d[0]\n",
    "            for i in range(2, d[-1] + 1, 1):\n",
    "                urls.append(f'{url}page-{i}')"
   ]
  },
  {
   "cell_type": "code",
   "execution_count": 56,
   "metadata": {},
   "outputs": [],
   "source": [
    "urls = sorted(urls)"
   ]
  },
  {
   "cell_type": "code",
   "execution_count": 62,
   "metadata": {},
   "outputs": [
    {
     "data": {
      "text/plain": [
       "(1621140, 32422)"
      ]
     },
     "execution_count": 62,
     "metadata": {},
     "output_type": "execute_result"
    }
   ],
   "source": [
    "len(urls), len(urls) // 50"
   ]
  },
  {
   "cell_type": "code",
   "execution_count": 60,
   "metadata": {},
   "outputs": [],
   "source": [
    "import time\n",
    "\n",
    "def get_href_topic(url):\n",
    "    while True:\n",
    "        try:\n",
    "            r = requests.get(url, timeout = 5.0)\n",
    "            break\n",
    "        except:\n",
    "            time.sleep(1.0)\n",
    "    soup = BeautifulSoup(r.content, \"lxml\")\n",
    "    div = soup.find_all('div', {'class': 'bbWrapper'})\n",
    "    return [str(d) for d in div]\n",
    "\n",
    "\n",
    "filtered = get_href_topic(urls[0])"
   ]
  },
  {
   "cell_type": "code",
   "execution_count": 63,
   "metadata": {},
   "outputs": [],
   "source": [
    "!mkdir pages"
   ]
  },
  {
   "cell_type": "code",
   "execution_count": 64,
   "metadata": {},
   "outputs": [
    {
     "name": "stderr",
     "output_type": "stream",
     "text": [
      " 40%|████████████▍                  | 12990/32423 [15:28:42<23:29:00,  4.35s/it]IOPub message rate exceeded.\n",
      "The notebook server will temporarily stop sending output\n",
      "to the client in order to avoid crashing it.\n",
      "To change this limit, set the config variable\n",
      "`--NotebookApp.iopub_msg_rate_limit`.\n",
      "\n",
      "Current values:\n",
      "NotebookApp.iopub_msg_rate_limit=1000.0 (msgs/sec)\n",
      "NotebookApp.rate_limit_window=3.0 (secs)\n",
      "\n",
      " 98%|█████████████████████████████████▏| 31632/32423 [38:44:18<55:54,  4.24s/it]IOPub message rate exceeded.\n",
      "The notebook server will temporarily stop sending output\n",
      "to the client in order to avoid crashing it.\n",
      "To change this limit, set the config variable\n",
      "`--NotebookApp.iopub_msg_rate_limit`.\n",
      "\n",
      "Current values:\n",
      "NotebookApp.iopub_msg_rate_limit=1000.0 (msgs/sec)\n",
      "NotebookApp.rate_limit_window=3.0 (secs)\n",
      "\n"
     ]
    }
   ],
   "source": [
    "max_worker = 50\n",
    "for i in tqdm(range(0, len(urls), max_worker)):\n",
    "    \n",
    "    filename = os.path.join('pages', f'{i}.json')\n",
    "    if os.path.exists(filename):\n",
    "        continue\n",
    "        \n",
    "    gc.collect()\n",
    "    \n",
    "    results = []\n",
    "    with ThreadPoolExecutor(max_workers=max_worker) as executor:\n",
    "        futures = {executor.submit(get_href_topic, url): url for url in urls[i: i + max_worker]}\n",
    "\n",
    "        for future in as_completed(futures):\n",
    "            results.append(future.result())\n",
    "    \n",
    "    with open(filename, 'w') as fopen:\n",
    "        json.dump(results, fopen)\n",
    "        \n",
    "    try:\n",
    "        del results\n",
    "        del futures\n",
    "    except:\n",
    "        pass"
   ]
  },
  {
   "cell_type": "code",
   "execution_count": 65,
   "metadata": {},
   "outputs": [
    {
     "name": "stdout",
     "output_type": "stream",
     "text": [
      "15G\tpages\r\n"
     ]
    }
   ],
   "source": [
    "!du -hs pages"
   ]
  },
  {
   "cell_type": "code",
   "execution_count": 67,
   "metadata": {},
   "outputs": [],
   "source": [
    "# !zip -r pages.zip pages"
   ]
  },
  {
   "cell_type": "code",
   "execution_count": 68,
   "metadata": {},
   "outputs": [
    {
     "data": {
      "text/plain": [
       "12503"
      ]
     },
     "execution_count": 68,
     "metadata": {},
     "output_type": "execute_result"
    }
   ],
   "source": [
    "files = glob('subtopics/*.json')\n",
    "len(files)"
   ]
  },
  {
   "cell_type": "code",
   "execution_count": 75,
   "metadata": {},
   "outputs": [
    {
     "name": "stderr",
     "output_type": "stream",
     "text": [
      "100%|█████████████████████████████████████| 12503/12503 [08:43<00:00, 23.90it/s]\n"
     ]
    }
   ],
   "source": [
    "texts = []\n",
    "for f in tqdm(files):\n",
    "    with open(f) as fopen:\n",
    "        data = json.load(fopen)\n",
    "    \n",
    "    for d in data:\n",
    "        for d_ in d[1]:\n",
    "            texts.append(BeautifulSoup(d_, \"lxml\").text)"
   ]
  },
  {
   "cell_type": "code",
   "execution_count": 76,
   "metadata": {},
   "outputs": [
    {
     "data": {
      "text/plain": [
       "2458406"
      ]
     },
     "execution_count": 76,
     "metadata": {},
     "output_type": "execute_result"
    }
   ],
   "source": [
    "len(texts)"
   ]
  },
  {
   "cell_type": "code",
   "execution_count": 77,
   "metadata": {},
   "outputs": [
    {
     "data": {
      "text/plain": [
       "32423"
      ]
     },
     "execution_count": 77,
     "metadata": {},
     "output_type": "execute_result"
    }
   ],
   "source": [
    "files = glob('pages/*.json')\n",
    "len(files)"
   ]
  },
  {
   "cell_type": "code",
   "execution_count": 83,
   "metadata": {},
   "outputs": [
    {
     "name": "stderr",
     "output_type": "stream",
     "text": [
      "100%|███████████████████████████████████| 32423/32423 [1:03:55<00:00,  8.45it/s]\n"
     ]
    }
   ],
   "source": [
    "for f in tqdm(files):\n",
    "    with open(f) as fopen:\n",
    "        data = json.load(fopen)\n",
    "    \n",
    "    for d in data:\n",
    "        for d_ in d:\n",
    "            texts.append(BeautifulSoup(d_, \"lxml\").text)"
   ]
  },
  {
   "cell_type": "code",
   "execution_count": 84,
   "metadata": {},
   "outputs": [
    {
     "data": {
      "text/plain": [
       "17795846"
      ]
     },
     "execution_count": 84,
     "metadata": {},
     "output_type": "execute_result"
    }
   ],
   "source": [
    "len(texts)"
   ]
  },
  {
   "cell_type": "code",
   "execution_count": 85,
   "metadata": {},
   "outputs": [
    {
     "data": {
      "text/plain": [
       "15502920"
      ]
     },
     "execution_count": 85,
     "metadata": {},
     "output_type": "execute_result"
    }
   ],
   "source": [
    "texts = list(set(texts))\n",
    "len(texts)"
   ]
  },
  {
   "cell_type": "code",
   "execution_count": 95,
   "metadata": {},
   "outputs": [
    {
     "name": "stderr",
     "output_type": "stream",
     "text": [
      "100%|███████████████████████████| 15502920/15502920 [00:25<00:00, 619735.63it/s]\n"
     ]
    }
   ],
   "source": [
    "with open('everything.jsonl', 'w') as fopen:\n",
    "    for t in tqdm(texts):\n",
    "        if len(t):\n",
    "            fopen.write(f'{json.dumps(t)}\\n')"
   ]
  },
  {
   "cell_type": "code",
   "execution_count": 96,
   "metadata": {},
   "outputs": [
    {
     "name": "stdout",
     "output_type": "stream",
     "text": [
      "\"sekarang sesuai kot nak bukak hedge.. tutup semua sell EG (tutup sell eu buy gu) dan biar equity naik.. apa pendapat masta2 semua?\"\r\n",
      "\"06.07.20 13:32\\tAccount\\tReceive\\t+4.39\\tReceived Payment 4.39 USD from account U13301712 to account U20. Batch: 318188862. Memo: \\u041e\\u043f\\u043b\\u0430\\u0442\\u0430 bounty-\\u043f\\u0440\\u043e\\u0433\\u0440\\u0430\\u043c\\u043c\\u044b \\u043e\\u0442 \\u043f\\u043e\\u0440\\u0442\\u0430\\u043b\\u0430 Profit-Hunters.biz\"\r\n",
      "\"tau lak mencicit2 lari.)\"\r\n",
      "\"\\n\\ninsyi\\u00a9 said:\\n\\n\\n\\npiii....raaa...kuar je pintu lift, muka dia ni ngan mael la aku nmpk dulu...posing sakan ngan gadis2 berbaju kebaya tuh...)\\n\\nsiap dpt hamper lg tu...:-w :-w\\n\\nClick to expand...\\n\\n\\n\\nsmlm dtg anta mael je.dia tak tahu jln..pastu trus balik..\"\r\n",
      "\"aku kije la twinzz..\\n\\nko tu tawu mntak je kt mak..\\n\\nxbagi je majowk )\"\r\n",
      "\"\\n\\nsuffian13 said:\\n\\n\\n\\n\\nbro...\\nput me in ur list\\ndone to clik\\nIP Anda :\\n115.134.210.31\\n\\nhttp://www.dapatwang.com/?id=suffian13\\n\\n(list ni aku main klik je tanpa berkire dorang aktif ke atau tidak)\\n\\npaidpaidpaidpaid\\n\\nClick to expand...\\n\\n\\n\\n115.134.210.31\\nIP bro xmelekat dengan kuat...\\n\\n\\n\\nsuffian13\\n\\nIP Anda :\\n115.133.119.184\"\r\n",
      "\"Leverage brape ada ye\"\r\n",
      "\"\\n\\nwan676 said:\\n\\n\\n\\njadi camna korang cari duit nak bayar ha? aku dgn berat hati bayar gak tolak gaji bulan2... ishh sedih rasa..\\n\\nClick to expand...\\n\\n\\n\\nsenang bayar manual je\\nbyr melalui E-FES\"\r\n",
      "\"geng tumpang tanya, sekarang dah kat mana ?\\n\\ndari td broker merah ni no connection. ke kena block kat area sini ?\"\r\n",
      "\"\\n\\nstuck said:\\n\\n\\n\\nlong term ntah la sebab coach MU ni nk kena bg instant result kalau x nti fan bising,\\nJM yg teruk tu pun at least ada piala cuma game dia x syok tgk...\\n\\nZZ x mgkn kot sebab ada baca mcm bini dia xnk pindah ke England (takut bini la tu)  \\n\\nClick to expand...\\n\\n\\nJM tu rekod bagus jugak. LVG pun. Dapat jugak fa cup\"\r\n"
     ]
    }
   ],
   "source": [
    "!head -n 10 everything.jsonl"
   ]
  },
  {
   "cell_type": "code",
   "execution_count": 97,
   "metadata": {},
   "outputs": [
    {
     "name": "stdout",
     "output_type": "stream",
     "text": [
      "15502919 everything.jsonl\r\n"
     ]
    }
   ],
   "source": [
    "!wc -l everything.jsonl"
   ]
  }
 ],
 "metadata": {
  "kernelspec": {
   "display_name": "Python 3 (ipykernel)",
   "language": "python",
   "name": "python3"
  },
  "language_info": {
   "codemirror_mode": {
    "name": "ipython",
    "version": 3
   },
   "file_extension": ".py",
   "mimetype": "text/x-python",
   "name": "python",
   "nbconvert_exporter": "python",
   "pygments_lexer": "ipython3",
   "version": "3.8.10"
  }
 },
 "nbformat": 4,
 "nbformat_minor": 4
}
