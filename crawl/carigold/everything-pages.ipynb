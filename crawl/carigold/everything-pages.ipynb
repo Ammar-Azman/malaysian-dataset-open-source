{
 "cells": [
  {
   "cell_type": "code",
   "execution_count": 1,
   "metadata": {},
   "outputs": [],
   "source": [
    "import requests\n",
    "import numpy as np\n",
    "from bs4 import BeautifulSoup\n",
    "from tqdm import tqdm\n",
    "from concurrent.futures import ThreadPoolExecutor, as_completed\n",
    "from glob import glob\n",
    "from tqdm import tqdm\n",
    "import time\n",
    "import json\n",
    "import os\n",
    "import gc"
   ]
  },
  {
   "cell_type": "code",
   "execution_count": 2,
   "metadata": {},
   "outputs": [
    {
     "data": {
      "text/plain": [
       "7502"
      ]
     },
     "execution_count": 2,
     "metadata": {},
     "output_type": "execute_result"
    }
   ],
   "source": [
    "files = glob('subtopics/*.json')\n",
    "len(files)"
   ]
  },
  {
   "cell_type": "code",
   "execution_count": 3,
   "metadata": {},
   "outputs": [
    {
     "name": "stderr",
     "output_type": "stream",
     "text": [
      "100%|████████████████████████████████████████████████████████████████████████████████████████████████████████| 7502/7502 [00:13<00:00, 564.20it/s]\n"
     ]
    }
   ],
   "source": [
    "urls = []\n",
    "for f in tqdm(files):\n",
    "    with open(f) as fopen:\n",
    "        data = json.load(fopen)\n",
    "\n",
    "    for d in data:\n",
    "        if d[-1] > 1:\n",
    "            url = d[0]\n",
    "            for i in range(2, d[-1] + 1, 1):\n",
    "                urls.append(f'{url}page-{i}')"
   ]
  },
  {
   "cell_type": "code",
   "execution_count": 4,
   "metadata": {},
   "outputs": [],
   "source": [
    "urls = sorted(urls)"
   ]
  },
  {
   "cell_type": "code",
   "execution_count": 5,
   "metadata": {},
   "outputs": [
    {
     "data": {
      "text/plain": [
       "(1608084, 32161)"
      ]
     },
     "execution_count": 5,
     "metadata": {},
     "output_type": "execute_result"
    }
   ],
   "source": [
    "len(urls), len(urls) // 50"
   ]
  },
  {
   "cell_type": "code",
   "execution_count": 6,
   "metadata": {},
   "outputs": [],
   "source": [
    "import time\n",
    "\n",
    "def get_href_topic(url):\n",
    "    while True:\n",
    "        try:\n",
    "            r = requests.get(url, timeout = 5.0)\n",
    "            break\n",
    "        except:\n",
    "            time.sleep(1.0)\n",
    "    soup = BeautifulSoup(r.content, \"lxml\")\n",
    "    div = soup.find_all('div', {'class': 'message-userContent lbContainer js-lbContainer'})\n",
    "    return {'div': [str(d) for d in div], 'url': url}\n",
    "\n",
    "\n",
    "filtered = get_href_topic(urls[0])"
   ]
  },
  {
   "cell_type": "code",
   "execution_count": 7,
   "metadata": {},
   "outputs": [
    {
     "data": {
      "text/plain": [
       "{'div': ['<div class=\"message-userContent lbContainer js-lbContainer\" data-lb-caption-desc=\"abeInc · Mar 10, 2012 at 12:55 PM\" data-lb-id=\"post-12517575\">\\n<article class=\"message-body js-selectToQuote\">\\n<div itemprop=\"text\">\\n<div class=\"bbWrapper\"><blockquote class=\"bbCodeBlock bbCodeBlock--expandable bbCodeBlock--quote js-expandWatch\" data-attributes=\"member: 183099\" data-quote=\"aduhaiya\" data-source=\"post: 12515829\">\\n<div class=\"bbCodeBlock-title\">\\n<a class=\"bbCodeBlock-sourceJump\" data-content-selector=\"#post-12515829\" data-xf-click=\"attribution\" href=\"/forum/goto/post?id=12515829\" rel=\"nofollow\">aduhaiya said:</a>\\n</div>\\n<div class=\"bbCodeBlock-content\">\\n<div class=\"bbCodeBlock-expandContent js-expandContent\">\\nhmmm... sbnrnya... byk lagi jawatan kosong yg nak diiklankan... tapi... 4 jawatan nie sangat diperlukan segera. Tapi... apa2pun hantar shj resume kpd kami dan bila dah ada jawatan kosong utk IT kami terus hubungi anda. Hantarkan resume anda ke <a href=\"/cdn-cgi/l/email-protection#83e2f9eaefe2e7ebe2c3f2f6e2f0e2f1e2f1eee2e7e2ade0ecee\"><span class=\"__cf_email__\" data-cfemail=\"bcddc6d5d0ddd8d4ddfccdc9ddcfddceddced1ddd8dd92dfd3d1\">[email\\xa0protected]</span></a>\\n</div>\\n<div class=\"bbCodeBlock-expandLink js-expandLink\"><a role=\"button\" tabindex=\"0\">Click to expand...</a></div>\\n</div>\\n</blockquote>\\n<br/>\\ndan antar.tima masih ya</div>\\n</div>\\n<div class=\"js-selectToQuoteEnd\">\\xa0</div>\\n</article>\\n</div>'],\n",
       " 'url': 'https://carigold.com/forum/threads/%C2%A1%C2%A1%C2%A1peluang-pekerjaan.316355/page-2'}"
      ]
     },
     "execution_count": 7,
     "metadata": {},
     "output_type": "execute_result"
    }
   ],
   "source": [
    "filtered"
   ]
  },
  {
   "cell_type": "code",
   "execution_count": 8,
   "metadata": {},
   "outputs": [],
   "source": [
    "!rm -rf pages-v2\n",
    "!mkdir pages-v2"
   ]
  },
  {
   "cell_type": "code",
   "execution_count": 9,
   "metadata": {},
   "outputs": [
    {
     "name": "stderr",
     "output_type": "stream",
     "text": [
      " 15%|███████████████▎                                                                                   | 4958/32162 [6:50:41<34:47:42,  4.60s/it]IOPub message rate exceeded.\n",
      "The notebook server will temporarily stop sending output\n",
      "to the client in order to avoid crashing it.\n",
      "To change this limit, set the config variable\n",
      "`--NotebookApp.iopub_msg_rate_limit`.\n",
      "\n",
      "Current values:\n",
      "NotebookApp.iopub_msg_rate_limit=1000.0 (msgs/sec)\n",
      "NotebookApp.rate_limit_window=3.0 (secs)\n",
      "\n",
      " 50%|████████████████████████████████████████████████▌                                                | 16109/32162 [21:58:00<22:05:29,  4.95s/it]IOPub message rate exceeded.\n",
      "The notebook server will temporarily stop sending output\n",
      "to the client in order to avoid crashing it.\n",
      "To change this limit, set the config variable\n",
      "`--NotebookApp.iopub_msg_rate_limit`.\n",
      "\n",
      "Current values:\n",
      "NotebookApp.iopub_msg_rate_limit=1000.0 (msgs/sec)\n",
      "NotebookApp.rate_limit_window=3.0 (secs)\n",
      "\n",
      "100%|████████████████████████████████████████████████████████████████████████████████████████████████████| 32162/32162 [42:19:43<00:00,  4.74s/it]\n"
     ]
    }
   ],
   "source": [
    "max_worker = 50\n",
    "for i in tqdm(range(0, len(urls), max_worker)):\n",
    "    \n",
    "    filename = os.path.join('pages-v2', f'{i}.json')\n",
    "    if os.path.exists(filename):\n",
    "        continue\n",
    "        \n",
    "    gc.collect()\n",
    "    \n",
    "    results = []\n",
    "    with ThreadPoolExecutor(max_workers=max_worker) as executor:\n",
    "        futures = {executor.submit(get_href_topic, url): url for url in urls[i: i + max_worker]}\n",
    "\n",
    "        for future in as_completed(futures):\n",
    "            results.append(future.result())\n",
    "    \n",
    "    with open(filename, 'w') as fopen:\n",
    "        json.dump(results, fopen)\n",
    "        \n",
    "    try:\n",
    "        del results\n",
    "        del futures\n",
    "    except:\n",
    "        pass"
   ]
  },
  {
   "cell_type": "code",
   "execution_count": 10,
   "metadata": {},
   "outputs": [
    {
     "name": "stdout",
     "output_type": "stream",
     "text": [
      "15G\tpages\r\n"
     ]
    }
   ],
   "source": [
    "!du -hs pages"
   ]
  },
  {
   "cell_type": "code",
   "execution_count": 12,
   "metadata": {},
   "outputs": [],
   "source": [
    "# !zip -r pages.zip pages"
   ]
  },
  {
   "cell_type": "code",
   "execution_count": 54,
   "metadata": {},
   "outputs": [
    {
     "data": {
      "text/plain": [
       "7502"
      ]
     },
     "execution_count": 54,
     "metadata": {},
     "output_type": "execute_result"
    }
   ],
   "source": [
    "files = glob('subtopics/*.json')\n",
    "len(files)"
   ]
  },
  {
   "cell_type": "code",
   "execution_count": 55,
   "metadata": {},
   "outputs": [
    {
     "name": "stderr",
     "output_type": "stream",
     "text": [
      "100%|███████████████████████████████████████| 7502/7502 [11:33<00:00, 10.82it/s]\n"
     ]
    }
   ],
   "source": [
    "df = []\n",
    "for f in tqdm(files):\n",
    "    with open(f) as fopen:\n",
    "        data = json.load(fopen)\n",
    "    \n",
    "    for d in data:\n",
    "        forum_id = d[0]\n",
    "        for d_ in d[1]:\n",
    "            soup = BeautifulSoup(d_, \"lxml\")\n",
    "            quote = soup.find('blockquote')\n",
    "            if quote is not None:\n",
    "                soup.find('blockquote').decompose()\n",
    "\n",
    "            text = soup.get_text(separator=\"\\n\")\n",
    "            df.append({\n",
    "                'forum_id': forum_id,\n",
    "                'text': text.strip(),\n",
    "            })"
   ]
  },
  {
   "cell_type": "code",
   "execution_count": 56,
   "metadata": {
    "scrolled": true
   },
   "outputs": [
    {
     "data": {
      "text/plain": [
       "2458217"
      ]
     },
     "execution_count": 56,
     "metadata": {},
     "output_type": "execute_result"
    }
   ],
   "source": [
    "len(df)"
   ]
  },
  {
   "cell_type": "code",
   "execution_count": 57,
   "metadata": {},
   "outputs": [
    {
     "data": {
      "text/plain": [
       "[{'forum_id': 'https://carigold.com/forum/threads/himpunan-post2-member-cg-yg-offtopik-dari-thread2-lain.744033/',\n",
       "  'text': 'pasaipa jd lagu tuh...? hang usik bini org ka.. guruau bini org boh penampar.. kaco bini org boh penombok la dauz'},\n",
       " {'forum_id': 'https://carigold.com/forum/threads/himpunan-post2-member-cg-yg-offtopik-dari-thread2-lain.744033/',\n",
       "  'text': 'Citer la sikit.'},\n",
       " {'forum_id': 'https://carigold.com/forum/threads/himpunan-post2-member-cg-yg-offtopik-dari-thread2-lain.744033/',\n",
       "  'text': 'Kena masa form 5'}]"
      ]
     },
     "execution_count": 57,
     "metadata": {},
     "output_type": "execute_result"
    }
   ],
   "source": [
    "df[:3]"
   ]
  },
  {
   "cell_type": "code",
   "execution_count": 58,
   "metadata": {},
   "outputs": [
    {
     "data": {
      "text/plain": [
       "32162"
      ]
     },
     "execution_count": 58,
     "metadata": {},
     "output_type": "execute_result"
    }
   ],
   "source": [
    "files = glob('pages-v2/*.json')\n",
    "len(files)"
   ]
  },
  {
   "cell_type": "code",
   "execution_count": 59,
   "metadata": {},
   "outputs": [],
   "source": [
    "with open(files[0]) as fopen:\n",
    "    data = json.load(fopen)"
   ]
  },
  {
   "cell_type": "code",
   "execution_count": 61,
   "metadata": {},
   "outputs": [
    {
     "name": "stderr",
     "output_type": "stream",
     "text": [
      "100%|███████████████████████████████████| 32162/32162 [1:22:11<00:00,  6.52it/s]\n"
     ]
    }
   ],
   "source": [
    "for f in tqdm(files):\n",
    "    with open(f) as fopen:\n",
    "        data = json.load(fopen)\n",
    "    \n",
    "    for d in data:\n",
    "        forum_id = d['url']\n",
    "        for d_ in d['div']:\n",
    "            soup = BeautifulSoup(d_, \"lxml\")\n",
    "            quote = soup.find('blockquote')\n",
    "            if quote is not None:\n",
    "                soup.find('blockquote').decompose()\n",
    "\n",
    "            text = soup.get_text(separator=\"\\n\")\n",
    "            df.append({\n",
    "                'forum_id': forum_id,\n",
    "                'text': text.strip(),\n",
    "            })"
   ]
  },
  {
   "cell_type": "code",
   "execution_count": 63,
   "metadata": {},
   "outputs": [
    {
     "data": {
      "text/plain": [
       "17664954"
      ]
     },
     "execution_count": 63,
     "metadata": {},
     "output_type": "execute_result"
    }
   ],
   "source": [
    "len(df)"
   ]
  },
  {
   "cell_type": "code",
   "execution_count": 66,
   "metadata": {},
   "outputs": [],
   "source": [
    "import pandas as pd\n",
    "df_pd = pd.DataFrame(df)"
   ]
  },
  {
   "cell_type": "code",
   "execution_count": 67,
   "metadata": {},
   "outputs": [],
   "source": [
    "df_pd.to_parquet('posts.parquet', index = False)"
   ]
  },
  {
   "cell_type": "code",
   "execution_count": 68,
   "metadata": {},
   "outputs": [
    {
     "data": {
      "text/html": [
       "<div>\n",
       "<style scoped>\n",
       "    .dataframe tbody tr th:only-of-type {\n",
       "        vertical-align: middle;\n",
       "    }\n",
       "\n",
       "    .dataframe tbody tr th {\n",
       "        vertical-align: top;\n",
       "    }\n",
       "\n",
       "    .dataframe thead th {\n",
       "        text-align: right;\n",
       "    }\n",
       "</style>\n",
       "<table border=\"1\" class=\"dataframe\">\n",
       "  <thead>\n",
       "    <tr style=\"text-align: right;\">\n",
       "      <th></th>\n",
       "      <th>forum_id</th>\n",
       "      <th>text</th>\n",
       "    </tr>\n",
       "  </thead>\n",
       "  <tbody>\n",
       "    <tr>\n",
       "      <th>0</th>\n",
       "      <td>https://carigold.com/forum/threads/himpunan-po...</td>\n",
       "      <td>pasaipa jd lagu tuh...? hang usik bini org ka....</td>\n",
       "    </tr>\n",
       "    <tr>\n",
       "      <th>1</th>\n",
       "      <td>https://carigold.com/forum/threads/himpunan-po...</td>\n",
       "      <td>Citer la sikit.</td>\n",
       "    </tr>\n",
       "    <tr>\n",
       "      <th>2</th>\n",
       "      <td>https://carigold.com/forum/threads/himpunan-po...</td>\n",
       "      <td>Kena masa form 5</td>\n",
       "    </tr>\n",
       "    <tr>\n",
       "      <th>3</th>\n",
       "      <td>https://carigold.com/forum/threads/himpunan-po...</td>\n",
       "      <td>Ya Allah ya Tuhanku celaka la mulut ko bro fit...</td>\n",
       "    </tr>\n",
       "    <tr>\n",
       "      <th>4</th>\n",
       "      <td>https://carigold.com/forum/threads/himpunan-po...</td>\n",
       "      <td>Macam nie la tanya kenapa nie kata saya kacau ...</td>\n",
       "    </tr>\n",
       "  </tbody>\n",
       "</table>\n",
       "</div>"
      ],
      "text/plain": [
       "                                            forum_id  \\\n",
       "0  https://carigold.com/forum/threads/himpunan-po...   \n",
       "1  https://carigold.com/forum/threads/himpunan-po...   \n",
       "2  https://carigold.com/forum/threads/himpunan-po...   \n",
       "3  https://carigold.com/forum/threads/himpunan-po...   \n",
       "4  https://carigold.com/forum/threads/himpunan-po...   \n",
       "\n",
       "                                                text  \n",
       "0  pasaipa jd lagu tuh...? hang usik bini org ka....  \n",
       "1                                    Citer la sikit.  \n",
       "2                                   Kena masa form 5  \n",
       "3  Ya Allah ya Tuhanku celaka la mulut ko bro fit...  \n",
       "4  Macam nie la tanya kenapa nie kata saya kacau ...  "
      ]
     },
     "execution_count": 68,
     "metadata": {},
     "output_type": "execute_result"
    }
   ],
   "source": [
    "df_pd.head()"
   ]
  }
 ],
 "metadata": {
  "kernelspec": {
   "display_name": "Python 3 (ipykernel)",
   "language": "python",
   "name": "python3"
  },
  "language_info": {
   "codemirror_mode": {
    "name": "ipython",
    "version": 3
   },
   "file_extension": ".py",
   "mimetype": "text/x-python",
   "name": "python",
   "nbconvert_exporter": "python",
   "pygments_lexer": "ipython3",
   "version": "3.8.10"
  }
 },
 "nbformat": 4,
 "nbformat_minor": 4
}
