{
 "cells": [
  {
   "cell_type": "code",
   "execution_count": 1,
   "metadata": {},
   "outputs": [],
   "source": [
    "import requests\n",
    "from bs4 import BeautifulSoup\n",
    "import json"
   ]
  },
  {
   "cell_type": "code",
   "execution_count": 17,
   "metadata": {},
   "outputs": [],
   "source": [
    "data = []\n",
    "\n",
    "def extract_text(element):\n",
    "    #take both p and h2 tags\n",
    "    if element.name == 'p' or (element.name == 'h2' and 'wp-block-heading' in element.get('class', [])):\n",
    "        return element.text.replace('\\n', ' ').strip()\n",
    "    else:\n",
    "        return None\n",
    "\n",
    "for x in range(1, 4):\n",
    "    response = requests.get(f\"https://www.malaysiapropertyreviews.com/blog/page/{x}\")\n",
    "    soup = BeautifulSoup(response.content, \"html.parser\")\n",
    "    entries = soup.find_all(\"h2\", attrs={\"class\": \"blog-entry-title entry-title\"})\n",
    "\n",
    "    for entry in entries:\n",
    "        blog_url = entry.find(\"a\").get(\"href\")\n",
    "        blog_title = entry.text.strip()\n",
    "\n",
    "        page = requests.get(blog_url)\n",
    "        blog_soup = BeautifulSoup(page.text, \"html.parser\")\n",
    "\n",
    "        body = blog_soup.find(\"div\", attrs={\"class\": \"nv-content-wrap entry-content\"})\n",
    "\n",
    "        texts = [extract_text(tag) for tag in body.find_all(['p', 'h2'])]\n",
    "        content_text = '\\n'.join(filter(None, texts))\n",
    "        \n",
    "        data.append({\"url\": blog_url, \"title\": blog_title, \"body\": content_text})"
   ]
  },
  {
   "cell_type": "code",
   "execution_count": 20,
   "metadata": {},
   "outputs": [],
   "source": [
    "with open(\"malaysia_property_reviews-EN.json\", \"w\") as json_file:\n",
    "    json.dump(data, json_file, indent=2)"
   ]
  }
 ],
 "metadata": {
  "kernelspec": {
   "display_name": "Python 3",
   "language": "python",
   "name": "python3"
  },
  "language_info": {
   "codemirror_mode": {
    "name": "ipython",
    "version": 3
   },
   "file_extension": ".py",
   "mimetype": "text/x-python",
   "name": "python",
   "nbconvert_exporter": "python",
   "pygments_lexer": "ipython3",
   "version": "3.10.9"
  },
  "orig_nbformat": 4
 },
 "nbformat": 4,
 "nbformat_minor": 2
}
