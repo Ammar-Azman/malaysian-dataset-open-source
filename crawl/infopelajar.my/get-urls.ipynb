{
 "cells": [
  {
   "cell_type": "code",
   "execution_count": 1,
   "metadata": {},
   "outputs": [],
   "source": [
    "import requests\n",
    "from bs4 import BeautifulSoup\n",
    "from tqdm import tqdm\n",
    "import os\n",
    "import json\n",
    "import numpy as np\n",
    "import time\n",
    "import random\n",
    "import json\n",
    "import urllib3\n",
    "urllib3.disable_warnings(urllib3.exceptions.InsecureRequestWarning)"
   ]
  },
  {
   "cell_type": "code",
   "execution_count": 2,
   "metadata": {},
   "outputs": [],
   "source": [
    "categories = [\n",
    "    'https://infopelajar.my/category/rendah/',\n",
    "    'https://infopelajar.my/category/menengah/',\n",
    "    'https://infopelajar.my/category/prau/',\n",
    "    'https://infopelajar.my/category/universiti/'\n",
    "]"
   ]
  },
  {
   "cell_type": "code",
   "execution_count": 7,
   "metadata": {},
   "outputs": [
    {
     "data": {
      "text/plain": [
       "['https://infopelajar.my/permohonan-biasiswa-asasi-unishams-2023/',\n",
       " 'https://infopelajar.my/permohonan-wtu-mara/',\n",
       " 'https://infopelajar.my/pismp-2023/',\n",
       " 'https://infopelajar.my/bkns-2023/',\n",
       " 'https://infopelajar.my/bantuan-pendidikan-ipt-yayasan-jcorp/',\n",
       " 'https://infopelajar.my/pendahuluan-pinjaman-pelajaran-mara/',\n",
       " 'https://infopelajar.my/program-ijazah-dalam-negara-pidn/',\n",
       " 'https://infopelajar.my/pendaftaran-muet-2023-sesi-2/',\n",
       " 'https://infopelajar.my/semakan-temuduga-spp/',\n",
       " 'https://infopelajar.my/permohonan-hpipt/']"
      ]
     },
     "execution_count": 7,
     "metadata": {},
     "output_type": "execute_result"
    }
   ],
   "source": [
    "r = requests.get(categories[-1])\n",
    "soup = BeautifulSoup(r.content, \"lxml\")\n",
    "h2 = soup.find_all('h2', {'class': 'gb-headline gb-headline-c113596a gb-headline-text'})\n",
    "a = [h2_.find('a').get('href') for h2_ in h2]\n",
    "a"
   ]
  },
  {
   "cell_type": "code",
   "execution_count": 9,
   "metadata": {},
   "outputs": [
    {
     "name": "stdout",
     "output_type": "stream",
     "text": [
      "https://infopelajar.my/category/rendah/\n"
     ]
    },
    {
     "name": "stderr",
     "output_type": "stream",
     "text": [
      "100%|█████████████████████████████████████████████| 9/9 [00:03<00:00,  2.37it/s]\n"
     ]
    },
    {
     "name": "stdout",
     "output_type": "stream",
     "text": [
      "https://infopelajar.my/category/menengah/\n"
     ]
    },
    {
     "name": "stderr",
     "output_type": "stream",
     "text": [
      "100%|█████████████████████████████████████████████| 9/9 [00:03<00:00,  2.72it/s]\n"
     ]
    },
    {
     "name": "stdout",
     "output_type": "stream",
     "text": [
      "https://infopelajar.my/category/prau/\n"
     ]
    },
    {
     "name": "stderr",
     "output_type": "stream",
     "text": [
      "100%|█████████████████████████████████████████████| 9/9 [00:03<00:00,  2.76it/s]\n"
     ]
    },
    {
     "name": "stdout",
     "output_type": "stream",
     "text": [
      "https://infopelajar.my/category/universiti/\n"
     ]
    },
    {
     "name": "stderr",
     "output_type": "stream",
     "text": [
      "100%|█████████████████████████████████████████████| 9/9 [00:03<00:00,  2.58it/s]\n"
     ]
    }
   ],
   "source": [
    "all_a = []\n",
    "\n",
    "for c in categories:\n",
    "    c_ = c.split('my/')[1].replace('/', '-')\n",
    "    print(c)\n",
    "    \n",
    "    for index in tqdm(range(1, 10, 1)):\n",
    "        url = f'{c}page/{index}/'\n",
    "        r = requests.get(url)\n",
    "        soup = BeautifulSoup(r.content, \"lxml\")\n",
    "        h2 = soup.find_all('h2', {'class': 'gb-headline gb-headline-c113596a gb-headline-text'})\n",
    "        a = [h2_.find('a').get('href') for h2_ in h2]\n",
    "        \n",
    "        all_a.extend(a)"
   ]
  },
  {
   "cell_type": "code",
   "execution_count": 10,
   "metadata": {},
   "outputs": [
    {
     "data": {
      "text/plain": [
       "70"
      ]
     },
     "execution_count": 10,
     "metadata": {},
     "output_type": "execute_result"
    }
   ],
   "source": [
    "all_a = sorted(list(set(all_a)))\n",
    "len(all_a)"
   ]
  },
  {
   "cell_type": "code",
   "execution_count": 11,
   "metadata": {
    "scrolled": true
   },
   "outputs": [
    {
     "data": {
      "text/plain": [
       "['https://infopelajar.my/apdm-aplikasi-pangkalan-data-murid/',\n",
       " 'https://infopelajar.my/bantuan-maiwp-tingkatan-6/',\n",
       " 'https://infopelajar.my/bantuan-pendidikan-ipt-yayasan-jcorp/',\n",
       " 'https://infopelajar.my/bantuan-taska-selangor/',\n",
       " 'https://infopelajar.my/bap/',\n",
       " 'https://infopelajar.my/biasiswa-program-khas-jepun-korea-perancis-jerman/',\n",
       " 'https://infopelajar.my/bkns-2023/',\n",
       " 'https://infopelajar.my/bkns/',\n",
       " 'https://infopelajar.my/buku-teks-digital/',\n",
       " 'https://infopelajar.my/contoh-ukcg/',\n",
       " 'https://infopelajar.my/eprasekolah/',\n",
       " 'https://infopelajar.my/hlp-2022/',\n",
       " 'https://infopelajar.my/hpipt-selangor/',\n",
       " 'https://infopelajar.my/jadual-spm/',\n",
       " 'https://infopelajar.my/kemaskini-upu-online-stpm/',\n",
       " 'https://infopelajar.my/koleksi-karangan-alam-sekitar/',\n",
       " 'https://infopelajar.my/myspp/',\n",
       " 'https://infopelajar.my/novel-leftenan-adnan-wira-bangsa/',\n",
       " 'https://infopelajar.my/pajsk/',\n",
       " 'https://infopelajar.my/pendaftaran-muet-2023-sesi-2/',\n",
       " 'https://infopelajar.my/pendahuluan-pinjaman-pelajaran-mara/',\n",
       " 'https://infopelajar.my/permohonan-biasiswa-asasi-unishams-2023/',\n",
       " 'https://infopelajar.my/permohonan-hpipt/',\n",
       " 'https://infopelajar.my/permohonan-kemasukan-sekolah-sukan-malaysia-ambilan-2-sesi-julai-2023/',\n",
       " 'https://infopelajar.my/permohonan-kpm-mara/',\n",
       " 'https://infopelajar.my/permohonan-murid-berkeperluan-khas/',\n",
       " 'https://infopelajar.my/permohonan-sekolah-seni-tingkatan-1/',\n",
       " 'https://infopelajar.my/permohonan-tahun-1/',\n",
       " 'https://infopelajar.my/permohonan-upu-2/',\n",
       " 'https://infopelajar.my/permohonan-upu/',\n",
       " 'https://infopelajar.my/permohonan-wtu-mara/',\n",
       " 'https://infopelajar.my/pismp-2023/',\n",
       " 'https://infopelajar.my/pismp-ipg/',\n",
       " 'https://infopelajar.my/pksk-2024/',\n",
       " 'https://infopelajar.my/pksk-semakan/',\n",
       " 'https://infopelajar.my/program-ijazah-dalam-negara-pidn/',\n",
       " 'https://infopelajar.my/saps-ibu-bapa/',\n",
       " 'https://infopelajar.my/semakan-biasiswa-ismp/',\n",
       " 'https://infopelajar.my/semakan-bkns/',\n",
       " 'https://infopelajar.my/semakan-guru-one-off-fasa-3/',\n",
       " 'https://infopelajar.my/semakan-hebahan-keputusan-upuonline-2023/',\n",
       " 'https://infopelajar.my/semakan-imtiaz-terengganu/',\n",
       " 'https://infopelajar.my/semakan-keputusan-matrikulasi/',\n",
       " 'https://infopelajar.my/semakan-keputusan-pksk/',\n",
       " 'https://infopelajar.my/semakan-keputusan-spm-2022-2023-secara-online-sms/',\n",
       " 'https://infopelajar.my/semakan-keputusan-spm/',\n",
       " 'https://infopelajar.my/semakan-keputusan-stam/',\n",
       " 'https://infopelajar.my/semakan-keputusan-upkk-2022-2023-secara-online/',\n",
       " 'https://infopelajar.my/semakan-pendaftaran-upkk/',\n",
       " 'https://infopelajar.my/semakan-politeknik-2022/',\n",
       " 'https://infopelajar.my/semakan-program-asasi-diploma/',\n",
       " 'https://infopelajar.my/semakan-rayuan-sbp/',\n",
       " 'https://infopelajar.my/semakan-sbp-tawaran/',\n",
       " 'https://infopelajar.my/semakan-stpm-semester-3/',\n",
       " 'https://infopelajar.my/semakan-tabika-kemas/',\n",
       " 'https://infopelajar.my/semakan-tahun-1-kemasukn/',\n",
       " 'https://infopelajar.my/semakan-tahun-1/',\n",
       " 'https://infopelajar.my/semakan-temuduga-spp/',\n",
       " 'https://infopelajar.my/semakan-tingkatan-1-agama-johor/',\n",
       " 'https://infopelajar.my/semakan-tingkatan-1-jais/',\n",
       " 'https://infopelajar.my/semakan-tingkatan-1/',\n",
       " 'https://infopelajar.my/semakan-ujian-kemasukan-mrsm/',\n",
       " 'https://infopelajar.my/semakan-upu/',\n",
       " 'https://infopelajar.my/senarai-kolej-vokasional-teknik/',\n",
       " 'https://infopelajar.my/sijil-stpm-hilang/',\n",
       " 'https://infopelajar.my/smpk-login/',\n",
       " 'https://infopelajar.my/takwim-2022/',\n",
       " 'https://infopelajar.my/tarikh-buka-sekolah-2021/',\n",
       " 'https://infopelajar.my/upu-online-fasa-2/',\n",
       " 'https://infopelajar.my/upu-online-permohonan-kemasukan-ua-politeknik-kk-ilka-2022-2023/']"
      ]
     },
     "execution_count": 11,
     "metadata": {},
     "output_type": "execute_result"
    }
   ],
   "source": [
    "all_a"
   ]
  },
  {
   "cell_type": "code",
   "execution_count": null,
   "metadata": {},
   "outputs": [
    {
     "name": "stderr",
     "output_type": "stream",
     "text": [
      " 89%|██████████████████████████████████████     | 62/70 [00:06<00:00,  9.43it/s]"
     ]
    }
   ],
   "source": [
    "with open('infopelajar.my.jsonl', 'w') as fopen:\n",
    "    for url in tqdm(all_a):\n",
    "        r = requests.get(url)\n",
    "        soup = BeautifulSoup(r.content, \"lxml\")\n",
    "        \n",
    "        try:\n",
    "            title = soup.find('h1').text\n",
    "        except:\n",
    "            title = None\n",
    "        \n",
    "        try:\n",
    "            body = soup.find('div', {'class':\"dynamic-entry-content\"}).get_text(separator=\"\\n\")\n",
    "        except:\n",
    "            body = None\n",
    "        \n",
    "        data = {\n",
    "            'url': url,\n",
    "            'title': title,\n",
    "            'body': body,\n",
    "        }\n",
    "        \n",
    "        fopen.write(f'{json.dumps(data)}\\n')"
   ]
  }
 ],
 "metadata": {
  "kernelspec": {
   "display_name": "Python 3 (ipykernel)",
   "language": "python",
   "name": "python3"
  },
  "language_info": {
   "codemirror_mode": {
    "name": "ipython",
    "version": 3
   },
   "file_extension": ".py",
   "mimetype": "text/x-python",
   "name": "python",
   "nbconvert_exporter": "python",
   "pygments_lexer": "ipython3",
   "version": "3.8.10"
  }
 },
 "nbformat": 4,
 "nbformat_minor": 4
}
