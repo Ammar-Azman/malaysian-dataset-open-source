{
 "cells": [
  {
   "cell_type": "code",
   "execution_count": 1,
   "metadata": {},
   "outputs": [],
   "source": [
    "import requests\n",
    "from bs4 import BeautifulSoup\n",
    "from tqdm import tqdm\n",
    "import os\n",
    "import json\n",
    "import numpy as np\n",
    "import time\n",
    "import random\n",
    "import json"
   ]
  },
  {
   "cell_type": "code",
   "execution_count": 2,
   "metadata": {},
   "outputs": [],
   "source": [
    "r = requests.get('https://technave.com/gadgets/Gadget-Review-Malaysia-72.html')"
   ]
  },
  {
   "cell_type": "code",
   "execution_count": 4,
   "metadata": {},
   "outputs": [],
   "source": [
    "soup = BeautifulSoup(r.content, \"lxml\")"
   ]
  },
  {
   "cell_type": "code",
   "execution_count": 20,
   "metadata": {},
   "outputs": [
    {
     "data": {
      "text/plain": [
       "['https://technave.com/gadgets/Gadget-News-Malaysia-49.html',\n",
       " 'https://technave.com/gadgets/Gadget-Review-Malaysia-72.html',\n",
       " 'https://technave.com/gadgets/Mobile-Phone-Price-Malaysia-10.html',\n",
       " 'https://technave.com/gadgets/Laptop-Price-Malaysia-119.html',\n",
       " 'https://technave.com/gadgets/iPad-Tablet-Price-Malaysia-37.html',\n",
       " 'https://technave.com/gadgets/Smartwatch-Price-Malaysia-92.html',\n",
       " 'https://technave.com/gadgets/Camera-Price-Malaysia-26.html',\n",
       " 'https://technave.com/comparison/compare-phone-specs-price-malaysia-10.html',\n",
       " 'https://technave.com/comparison/compare-phone-specs-price-malaysia-10.html',\n",
       " 'https://technave.com/comparison/compare-laptop-specs-price-malaysia-119.html',\n",
       " 'https://technave.com/comparison/compare-tablet-specs-price-malaysia-37.html',\n",
       " 'https://technave.com/comparison/compare-smartwatch-specs-price-malaysia-92.html']"
      ]
     },
     "execution_count": 20,
     "metadata": {},
     "output_type": "execute_result"
    }
   ],
   "source": [
    "menu = soup.find('div', {'class': 'menu'}).find_all('a')\n",
    "menu = [a_.get('href') for a_ in menu]\n",
    "menu = [a_ for a_ in menu if 'http' in a_ and 'html' in a_]\n",
    "menu"
   ]
  },
  {
   "cell_type": "code",
   "execution_count": 27,
   "metadata": {},
   "outputs": [
    {
     "data": {
      "text/plain": [
       "'Gadget-News-Malaysia-49'"
      ]
     },
     "execution_count": 27,
     "metadata": {},
     "output_type": "execute_result"
    }
   ],
   "source": [
    "menu[0].split('/')[-1].replace('.html', '')"
   ]
  },
  {
   "cell_type": "code",
   "execution_count": 21,
   "metadata": {},
   "outputs": [],
   "source": [
    "r = requests.get(menu[0])\n",
    "soup = BeautifulSoup(r.content, \"lxml\")\n",
    "try:\n",
    "    max_page = int(soup.find('a', {'class': 'nonce'}).text.split('/')[1].strip())\n",
    "except:\n",
    "    max_page = 1\n",
    "\n",
    "articles = soup.find_all('li', {'class': 'articlelist'})\n",
    "articles = [a.find('a').get('href') for a in articles]"
   ]
  },
  {
   "cell_type": "code",
   "execution_count": 32,
   "metadata": {},
   "outputs": [],
   "source": [
    "def crawl(url, filename):\n",
    "    if os.path.exists(filename):\n",
    "        return True\n",
    "    r = requests.get(url)\n",
    "    soup = BeautifulSoup(r.content, \"lxml\")\n",
    "    articles = soup.find_all('li', {'class': 'articlelist'})\n",
    "    articles = [a.find('a').get('href') for a in articles]\n",
    "    \n",
    "    with open(filename, 'w') as fopen:\n",
    "        json.dump(articles, fopen)"
   ]
  },
  {
   "cell_type": "code",
   "execution_count": 33,
   "metadata": {},
   "outputs": [],
   "source": [
    "!rm -rf url\n",
    "!mkdir url"
   ]
  },
  {
   "cell_type": "code",
   "execution_count": 35,
   "metadata": {},
   "outputs": [
    {
     "name": "stdout",
     "output_type": "stream",
     "text": [
      "Gadget-News-Malaysia-49\n"
     ]
    },
    {
     "name": "stderr",
     "output_type": "stream",
     "text": [
      "100%|█████████████████████████████████████████| 233/233 [19:18<00:00,  4.97s/it]\n"
     ]
    },
    {
     "name": "stdout",
     "output_type": "stream",
     "text": [
      "Gadget-Review-Malaysia-72\n"
     ]
    },
    {
     "name": "stderr",
     "output_type": "stream",
     "text": [
      "100%|███████████████████████████████████████████| 19/19 [01:39<00:00,  5.22s/it]\n"
     ]
    },
    {
     "name": "stdout",
     "output_type": "stream",
     "text": [
      "Mobile-Phone-Price-Malaysia-10\n"
     ]
    },
    {
     "name": "stderr",
     "output_type": "stream",
     "text": [
      "100%|█████████████████████████████████████████████| 1/1 [00:00<00:00,  1.04it/s]\n"
     ]
    },
    {
     "name": "stdout",
     "output_type": "stream",
     "text": [
      "Laptop-Price-Malaysia-119\n"
     ]
    },
    {
     "name": "stderr",
     "output_type": "stream",
     "text": [
      "100%|█████████████████████████████████████████████| 1/1 [00:00<00:00,  1.42it/s]\n"
     ]
    },
    {
     "name": "stdout",
     "output_type": "stream",
     "text": [
      "iPad-Tablet-Price-Malaysia-37\n"
     ]
    },
    {
     "name": "stderr",
     "output_type": "stream",
     "text": [
      "100%|█████████████████████████████████████████████| 1/1 [00:00<00:00,  1.76it/s]\n"
     ]
    },
    {
     "name": "stdout",
     "output_type": "stream",
     "text": [
      "Smartwatch-Price-Malaysia-92\n"
     ]
    },
    {
     "name": "stderr",
     "output_type": "stream",
     "text": [
      "100%|█████████████████████████████████████████████| 1/1 [00:00<00:00,  1.75it/s]\n"
     ]
    },
    {
     "name": "stdout",
     "output_type": "stream",
     "text": [
      "Camera-Price-Malaysia-26\n"
     ]
    },
    {
     "name": "stderr",
     "output_type": "stream",
     "text": [
      "100%|█████████████████████████████████████████████| 1/1 [00:00<00:00,  1.44it/s]\n"
     ]
    },
    {
     "name": "stdout",
     "output_type": "stream",
     "text": [
      "compare-phone-specs-price-malaysia-10\n"
     ]
    },
    {
     "name": "stderr",
     "output_type": "stream",
     "text": [
      "100%|█████████████████████████████████████████████| 1/1 [00:00<00:00,  1.99it/s]\n"
     ]
    },
    {
     "name": "stdout",
     "output_type": "stream",
     "text": [
      "compare-phone-specs-price-malaysia-10\n"
     ]
    },
    {
     "name": "stderr",
     "output_type": "stream",
     "text": [
      "100%|████████████████████████████████████████████| 1/1 [00:00<00:00, 945.73it/s]\n"
     ]
    },
    {
     "name": "stdout",
     "output_type": "stream",
     "text": [
      "compare-laptop-specs-price-malaysia-119\n"
     ]
    },
    {
     "name": "stderr",
     "output_type": "stream",
     "text": [
      "100%|█████████████████████████████████████████████| 1/1 [00:00<00:00,  2.01it/s]\n"
     ]
    },
    {
     "name": "stdout",
     "output_type": "stream",
     "text": [
      "compare-tablet-specs-price-malaysia-37\n"
     ]
    },
    {
     "name": "stderr",
     "output_type": "stream",
     "text": [
      "100%|█████████████████████████████████████████████| 1/1 [00:00<00:00,  2.05it/s]\n"
     ]
    },
    {
     "name": "stdout",
     "output_type": "stream",
     "text": [
      "compare-smartwatch-specs-price-malaysia-92\n"
     ]
    },
    {
     "name": "stderr",
     "output_type": "stream",
     "text": [
      "100%|█████████████████████████████████████████████| 1/1 [00:00<00:00,  2.05it/s]\n"
     ]
    }
   ],
   "source": [
    "from concurrent.futures import ThreadPoolExecutor, as_completed\n",
    "\n",
    "max_worker = 10\n",
    "\n",
    "for menu_ in menu:\n",
    "    r = requests.get(menu_)\n",
    "    t = menu_.split('/')[-1].replace('.html', '')\n",
    "    print(t)\n",
    "    soup = BeautifulSoup(r.content, \"lxml\")\n",
    "    try:\n",
    "        max_page = int(soup.find('a', {'class': 'nonce'}).text.split('/')[1].strip())\n",
    "    except:\n",
    "        max_page = 1\n",
    "        \n",
    "    for i in tqdm(range(0, max_page, max_worker)):\n",
    "        aranged = np.arange(i, i + max_worker)\n",
    "        urls = [(f'{menu_}?page={a}', \n",
    "                 os.path.join('url', f'{t}-{a}.json')) for a in aranged]\n",
    "        with ThreadPoolExecutor(max_workers=max_worker) as executor:\n",
    "            futures = {executor.submit(crawl, url[0], url[1]): url for url in urls}\n",
    "        \n",
    "        \n",
    "        for future in as_completed(futures):\n",
    "            if not future.result():\n",
    "                done = True\n",
    "        \n"
   ]
  },
  {
   "cell_type": "code",
   "execution_count": null,
   "metadata": {},
   "outputs": [],
   "source": []
  }
 ],
 "metadata": {
  "kernelspec": {
   "display_name": "Python 3 (ipykernel)",
   "language": "python",
   "name": "python3"
  },
  "language_info": {
   "codemirror_mode": {
    "name": "ipython",
    "version": 3
   },
   "file_extension": ".py",
   "mimetype": "text/x-python",
   "name": "python",
   "nbconvert_exporter": "python",
   "pygments_lexer": "ipython3",
   "version": "3.8.10"
  }
 },
 "nbformat": 4,
 "nbformat_minor": 4
}
