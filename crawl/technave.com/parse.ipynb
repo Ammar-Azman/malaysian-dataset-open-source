{
 "cells": [
  {
   "cell_type": "code",
   "execution_count": 1,
   "metadata": {},
   "outputs": [],
   "source": [
    "from glob import glob\n",
    "from tqdm import tqdm\n",
    "import json"
   ]
  },
  {
   "cell_type": "code",
   "execution_count": 2,
   "metadata": {},
   "outputs": [
    {
     "data": {
      "text/plain": [
       "25080"
      ]
     },
     "execution_count": 2,
     "metadata": {},
     "output_type": "execute_result"
    }
   ],
   "source": [
    "files = sorted(glob('page/*.json'))\n",
    "len(files)"
   ]
  },
  {
   "cell_type": "code",
   "execution_count": 3,
   "metadata": {},
   "outputs": [
    {
     "name": "stderr",
     "output_type": "stream",
     "text": [
      "100%|██████████████████████████████████| 25080/25080 [00:00<00:00, 65241.12it/s]\n"
     ]
    }
   ],
   "source": [
    "with open('data.jsonl', 'w') as fopen_l:\n",
    "    for f in tqdm(files):\n",
    "        with open(f) as fopen:\n",
    "            data = json.load(fopen)\n",
    "        \n",
    "        if not len(data):\n",
    "            continue\n",
    "        \n",
    "        fopen_l.write(f'{json.dumps(data)}\\n')"
   ]
  },
  {
   "cell_type": "code",
   "execution_count": 4,
   "metadata": {},
   "outputs": [
    {
     "name": "stdout",
     "output_type": "stream",
     "text": [
      "25080 data.jsonl\r\n"
     ]
    }
   ],
   "source": [
    "!wc -l data.jsonl"
   ]
  },
  {
   "cell_type": "code",
   "execution_count": 5,
   "metadata": {},
   "outputs": [
    {
     "name": "stdout",
     "output_type": "stream",
     "text": [
      "{\"url\": \"https://technave.com/gadget/Mario-is-heading-to-the-iOS-8165.html\", \"title\": \"Mario is heading to the iOS\", \"p\": [\"\", \"Nintendo has long been a stranger in the mobile gaming space, even though their games are generally suited to be played on small screens such as on smartphones. Not anymore \\u2013 during the launch of the iPhone 7 event, Nintendo announced that Super Mario Run will be heading to iOS.\", \"\", \"The launch event saw Shigeru Miyamoto, the well-known video game designer and producer from Nintendo on stage, announcing that they are launching a new Super Mario game, called Super Mario Run on the iOS platform. The game is basically an endless-running game that features Mario as the titular character of the game.\", \"What is new with the game is the feature that lets you go against friends and family online, besting their scores on a leaderboard-like mechanic. You still run to get coins, so the more coins you get, the higher you are on the leaderboard.\", \"The game will be arriving in time for the holidays \\u2013 around November/December \\u2013 and will be on sale on a fix priced, so we suspect there will not be any in-game purchases for this game. Stay tuned to TechNave as we bring more news on the Super Mario Run on iOS (and even possibly Android).\", \"[Source]\"]}\r\n"
     ]
    }
   ],
   "source": [
    "!tail -n 1 data.jsonl"
   ]
  },
  {
   "cell_type": "code",
   "execution_count": null,
   "metadata": {},
   "outputs": [],
   "source": []
  }
 ],
 "metadata": {
  "kernelspec": {
   "display_name": "Python 3 (ipykernel)",
   "language": "python",
   "name": "python3"
  },
  "language_info": {
   "codemirror_mode": {
    "name": "ipython",
    "version": 3
   },
   "file_extension": ".py",
   "mimetype": "text/x-python",
   "name": "python",
   "nbconvert_exporter": "python",
   "pygments_lexer": "ipython3",
   "version": "3.8.10"
  }
 },
 "nbformat": 4,
 "nbformat_minor": 4
}
