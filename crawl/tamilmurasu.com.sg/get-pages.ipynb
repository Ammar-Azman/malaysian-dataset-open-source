{
 "cells": [
  {
   "cell_type": "code",
   "execution_count": 1,
   "metadata": {},
   "outputs": [],
   "source": [
    "import requests\n",
    "from bs4 import BeautifulSoup\n",
    "from tqdm import tqdm\n",
    "import os\n",
    "import json\n",
    "import numpy as np\n",
    "import time\n",
    "import random\n",
    "import json\n",
    "import urllib3\n",
    "urllib3.disable_warnings(urllib3.exceptions.InsecureRequestWarning)"
   ]
  },
  {
   "cell_type": "code",
   "execution_count": 18,
   "metadata": {},
   "outputs": [],
   "source": [
    "cookies = {\n",
    "    'sph_user_country': 'MY',\n",
    "    'topoverlayDisplayed': 'yes',\n",
    "    'topOverlayImpressionsServed': '0',\n",
    "    'suid': '6f4bdd1b4f7e4c1e96db1ad58e330137',\n",
    "    'permutive-id': '753503ed-17e5-413c-8c62-c9cbba7184f4',\n",
    "    '_gid': 'GA1.3.1209168466.1697681901',\n",
    "    '_gcl_au': '1.1.785293486.1697681902',\n",
    "    'sui_1pc': '1697681902195DE05525A751B9045F8F277CCB1CB680067935925565',\n",
    "    'sessionStatus': '1',\n",
    "    '_cb': 'CR6KWMBEFSXQDsXrpM',\n",
    "    'spgwAMCookie': '8ae9af63d0df400b29f531a0aef2fecb',\n",
    "    '_hjSessionUser_1143163': 'eyJpZCI6Ijg4MTNjMjlmLTE2Y2YtNThkMi04YmJhLTUwMzJjZmEwOWYwZCIsImNyZWF0ZWQiOjE2OTc2ODE5MDE3NjQsImV4aXN0aW5nIjp0cnVlfQ==',\n",
    "    '_hjSession_1143163': 'eyJpZCI6ImI1MjFmYTQzLWQ2YWMtNDQ4Yi1iYzViLWVjNjhkZGM0ZmQ1NiIsImNyZWF0ZWQiOjE2OTc2OTQ3Mjg5MTgsImluU2FtcGxlIjpmYWxzZSwic2Vzc2lvbml6ZXJCZXRhRW5hYmxlZCI6dHJ1ZX0=',\n",
    "    '_hjAbsoluteSessionInProgress': '0',\n",
    "    '_hjIncludedInSessionSample_1143163': '0',\n",
    "    'dicbo_fetch': 'true',\n",
    "    'is_exit_intent_shown': '1',\n",
    "    'g_state': '{\"i_l\":0}',\n",
    "    '_gat_UA-118698274-1': '1',\n",
    "    '_gat_UA-122397506-2': '1',\n",
    "    '_ga_7V3PRKG4L0': 'GS1.1.1697694742.2.1.1697695883.58.0.0',\n",
    "    'okta-oauth-nonce': 'G34s34YDpwNuCk1UD1zU0llX57OooJYarSuJvsuFqOcMVL93DlikO5blPtxJa7rl',\n",
    "    'okta-oauth-state': 'CiKigYpWq6Yv09bxUtYKPYrOM6rbfADAnyaf30y3KYTNJEzYNhnSqH8Sfl4DhHfO',\n",
    "    'spgwAuthToken': '_21281a6a01a083875388c68e2e041729830e88482a',\n",
    "    'SessionCookieHFL16428SINFE71QMY4V': '635068809ca843bd8e9c2456d4837111',\n",
    "    'mySPHUserType': 'y-reg',\n",
    "    'visitorcat': '12',\n",
    "    'mysphw': 'Y2Vc7PSsX8kCf0d0jWXeoneJWa0gBJQCm%2B0keX6dFBU%3D',\n",
    "    'mysph_lr': 'NjM2NTVjZWNmNGFjNWZjOTAyN2Y0Nzc0OGQ2NWRlYTI3Nzg5NTlhZDIwMDQ5NDAyOWJlZDI0Nzk3ZTlkMTQxNQ%3D%3D',\n",
    "    'svc': 'reg_tm',\n",
    "    '_ga_M4CW888K46': 'GS1.1.1697694729.2.1.1697695891.12.0.0',\n",
    "    '_ga': 'GA1.1.492569570.1697681899',\n",
    "    '_chartbeat2': '.1697681902376.1697695891383.1.5BXtqm4LfNBVa6i5Bt80RSC4Sj5t.1',\n",
    "    '_cb_svref': 'https%3A%2F%2Fidp.mysph.sph.com.sg%2F',\n",
    "    'AWSALB': 'O+Zt8MGxqrPbryMTCqm++p9x1xCUvrBDAHjiV7ErWX4bsiBSi5mPbez5cipEoCRyqj2NN92azCTptv+zS4Iyp0hJ936//OToOVXBx48i/mGS+gYSVvq6OPqnvkkS',\n",
    "    'AWSALBCORS': 'O+Zt8MGxqrPbryMTCqm++p9x1xCUvrBDAHjiV7ErWX4bsiBSi5mPbez5cipEoCRyqj2NN92azCTptv+zS4Iyp0hJ936//OToOVXBx48i/mGS+gYSVvq6OPqnvkkS',\n",
    "}\n",
    "\n",
    "headers = {\n",
    "    'authority': 'www.tamilmurasu.com.sg',\n",
    "    'accept': 'text/html,application/xhtml+xml,application/xml;q=0.9,image/avif,image/webp,image/apng,*/*;q=0.8,application/signed-exchange;v=b3;q=0.7',\n",
    "    'accept-language': 'en-MY,en;q=0.9,en-US;q=0.8,ms;q=0.7',\n",
    "    'cache-control': 'no-cache',\n",
    "    # 'cookie': 'sph_user_country=MY; topoverlayDisplayed=yes; topOverlayImpressionsServed=0; suid=6f4bdd1b4f7e4c1e96db1ad58e330137; permutive-id=753503ed-17e5-413c-8c62-c9cbba7184f4; _gid=GA1.3.1209168466.1697681901; _gcl_au=1.1.785293486.1697681902; sui_1pc=1697681902195DE05525A751B9045F8F277CCB1CB680067935925565; sessionStatus=1; _cb=CR6KWMBEFSXQDsXrpM; spgwAMCookie=8ae9af63d0df400b29f531a0aef2fecb; _hjSessionUser_1143163=eyJpZCI6Ijg4MTNjMjlmLTE2Y2YtNThkMi04YmJhLTUwMzJjZmEwOWYwZCIsImNyZWF0ZWQiOjE2OTc2ODE5MDE3NjQsImV4aXN0aW5nIjp0cnVlfQ==; _hjSession_1143163=eyJpZCI6ImI1MjFmYTQzLWQ2YWMtNDQ4Yi1iYzViLWVjNjhkZGM0ZmQ1NiIsImNyZWF0ZWQiOjE2OTc2OTQ3Mjg5MTgsImluU2FtcGxlIjpmYWxzZSwic2Vzc2lvbml6ZXJCZXRhRW5hYmxlZCI6dHJ1ZX0=; _hjAbsoluteSessionInProgress=0; _hjIncludedInSessionSample_1143163=0; dicbo_fetch=true; is_exit_intent_shown=1; g_state={\"i_l\":0}; _gat_UA-118698274-1=1; _gat_UA-122397506-2=1; _ga_7V3PRKG4L0=GS1.1.1697694742.2.1.1697695883.58.0.0; okta-oauth-nonce=G34s34YDpwNuCk1UD1zU0llX57OooJYarSuJvsuFqOcMVL93DlikO5blPtxJa7rl; okta-oauth-state=CiKigYpWq6Yv09bxUtYKPYrOM6rbfADAnyaf30y3KYTNJEzYNhnSqH8Sfl4DhHfO; spgwAuthToken=_21281a6a01a083875388c68e2e041729830e88482a; SessionCookieHFL16428SINFE71QMY4V=635068809ca843bd8e9c2456d4837111; mySPHUserType=y-reg; visitorcat=12; mysphw=Y2Vc7PSsX8kCf0d0jWXeoneJWa0gBJQCm%2B0keX6dFBU%3D; mysph_lr=NjM2NTVjZWNmNGFjNWZjOTAyN2Y0Nzc0OGQ2NWRlYTI3Nzg5NTlhZDIwMDQ5NDAyOWJlZDI0Nzk3ZTlkMTQxNQ%3D%3D; svc=reg_tm; _ga_M4CW888K46=GS1.1.1697694729.2.1.1697695891.12.0.0; _ga=GA1.1.492569570.1697681899; _chartbeat2=.1697681902376.1697695891383.1.5BXtqm4LfNBVa6i5Bt80RSC4Sj5t.1; _cb_svref=https%3A%2F%2Fidp.mysph.sph.com.sg%2F; AWSALB=O+Zt8MGxqrPbryMTCqm++p9x1xCUvrBDAHjiV7ErWX4bsiBSi5mPbez5cipEoCRyqj2NN92azCTptv+zS4Iyp0hJ936//OToOVXBx48i/mGS+gYSVvq6OPqnvkkS; AWSALBCORS=O+Zt8MGxqrPbryMTCqm++p9x1xCUvrBDAHjiV7ErWX4bsiBSi5mPbez5cipEoCRyqj2NN92azCTptv+zS4Iyp0hJ936//OToOVXBx48i/mGS+gYSVvq6OPqnvkkS',\n",
    "    'pragma': 'no-cache',\n",
    "    'referer': 'https://idp.mysph.sph.com.sg/',\n",
    "    'sec-ch-ua': '\"Chromium\";v=\"118\", \"Google Chrome\";v=\"118\", \"Not=A?Brand\";v=\"99\"',\n",
    "    'sec-ch-ua-mobile': '?0',\n",
    "    'sec-ch-ua-platform': '\"macOS\"',\n",
    "    'sec-fetch-dest': 'empty',\n",
    "    'sec-fetch-mode': 'navigate',\n",
    "    'sec-fetch-site': 'cross-site',\n",
    "    'upgrade-insecure-requests': '1',\n",
    "    'user-agent': 'Mozilla/5.0 (Macintosh; Intel Mac OS X 10_15_7) AppleWebKit/537.36 (KHTML, like Gecko) Chrome/118.0.0.0 Safari/537.36',\n",
    "}"
   ]
  },
  {
   "cell_type": "code",
   "execution_count": 11,
   "metadata": {},
   "outputs": [
    {
     "data": {
      "text/plain": [
       "1336"
      ]
     },
     "execution_count": 11,
     "metadata": {},
     "output_type": "execute_result"
    }
   ],
   "source": [
    "with open('urls.json') as fopen:\n",
    "    urls = json.load(fopen)\n",
    "    \n",
    "urls = [f'https://www.tamilmurasu.com.sg{url}' for url in urls]\n",
    "len(urls)"
   ]
  },
  {
   "cell_type": "code",
   "execution_count": 27,
   "metadata": {},
   "outputs": [
    {
     "name": "stderr",
     "output_type": "stream",
     "text": [
      "100%|█████████████████████████████████████████████████████████████████████████████████████████████████████████| 1336/1336 [17:54<00:00,  1.24it/s]\n"
     ]
    }
   ],
   "source": [
    "with open('tamilmurasu.com.sg.jsonl', 'w') as fopen:\n",
    "    for url in tqdm(urls):\n",
    "        try:\n",
    "            r = requests.get(url, cookies = cookies, headers = headers)\n",
    "            soup = BeautifulSoup(r.content, \"lxml\")\n",
    "            data = {\n",
    "                'url': url,\n",
    "                'title': soup.find('h1').text,\n",
    "                'body': soup.find('div', {'class': 'field field-name-field-body'}).get_text(separator=\"\\n\").strip()\n",
    "            }\n",
    "            fopen.write(f'{json.dumps(data)}\\n')\n",
    "        except Exception as e:\n",
    "            print(e)"
   ]
  }
 ],
 "metadata": {
  "kernelspec": {
   "display_name": "Python 3 (ipykernel)",
   "language": "python",
   "name": "python3"
  },
  "language_info": {
   "codemirror_mode": {
    "name": "ipython",
    "version": 3
   },
   "file_extension": ".py",
   "mimetype": "text/x-python",
   "name": "python",
   "nbconvert_exporter": "python",
   "pygments_lexer": "ipython3",
   "version": "3.8.10"
  }
 },
 "nbformat": 4,
 "nbformat_minor": 4
}
