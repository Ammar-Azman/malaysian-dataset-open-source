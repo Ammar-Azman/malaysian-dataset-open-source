{
 "cells": [
  {
   "cell_type": "code",
   "execution_count": 22,
   "metadata": {},
   "outputs": [],
   "source": [
    "import requests\n",
    "from bs4 import BeautifulSoup\n",
    "from tqdm import tqdm\n",
    "import os\n",
    "import json\n",
    "import numpy as np\n",
    "import time\n",
    "import random\n",
    "import json\n",
    "import urllib3\n",
    "urllib3.disable_warnings(urllib3.exceptions.InsecureRequestWarning)"
   ]
  },
  {
   "cell_type": "code",
   "execution_count": 29,
   "metadata": {},
   "outputs": [],
   "source": [
    "\n",
    "\n",
    "cookies = {\n",
    "    'sph_user_country': 'MY',\n",
    "    'topoverlayDisplayed': 'yes',\n",
    "    'topOverlayImpressionsServed': '0',\n",
    "    'suid': '6f4bdd1b4f7e4c1e96db1ad58e330137',\n",
    "    'permutive-id': '753503ed-17e5-413c-8c62-c9cbba7184f4',\n",
    "    '_gid': 'GA1.3.1209168466.1697681901',\n",
    "    'mySPHUserType': 'y-anoy',\n",
    "    'visitorcat': '1',\n",
    "    '_gcl_au': '1.1.785293486.1697681902',\n",
    "    'sui_1pc': '1697681902195DE05525A751B9045F8F277CCB1CB680067935925565',\n",
    "    'sessionStatus': '1',\n",
    "    '_cb': 'CR6KWMBEFSXQDsXrpM',\n",
    "    'spgwAMCookie': '8ae9af63d0df400b29f531a0aef2fecb',\n",
    "    '_hjSessionUser_1143163': 'eyJpZCI6Ijg4MTNjMjlmLTE2Y2YtNThkMi04YmJhLTUwMzJjZmEwOWYwZCIsImNyZWF0ZWQiOjE2OTc2ODE5MDE3NjQsImV4aXN0aW5nIjp0cnVlfQ==',\n",
    "    '_hjIncludedInSessionSample_1143163': '0',\n",
    "    '_hjSession_1143163': 'eyJpZCI6ImI1MjFmYTQzLWQ2YWMtNDQ4Yi1iYzViLWVjNjhkZGM0ZmQ1NiIsImNyZWF0ZWQiOjE2OTc2OTQ3Mjg5MTgsImluU2FtcGxlIjpmYWxzZSwic2Vzc2lvbml6ZXJCZXRhRW5hYmxlZCI6dHJ1ZX0=',\n",
    "    '_hjAbsoluteSessionInProgress': '0',\n",
    "    '_gat_UA-118698274-1': '1',\n",
    "    '_chartbeat2': '.1697681902376.1697694729387.1.RyhAi5rblOD5_E8sWcBoNBMHix6.1',\n",
    "    '_cb_svref': 'null',\n",
    "    'dicbo_fetch': 'true',\n",
    "    'AWSALB': 'mryUhqekbsNTTgWUSLPANNrjyFPcEmcYVlvub4fR4e6RHxWDIHRIoqt66doGiMb4+Vo1IT8mwEuAO4EGUFJNgIzVMjaWViCnFNUyJUmi4g+rbrGDc78wt2fjy9Zq',\n",
    "    'AWSALBCORS': 'mryUhqekbsNTTgWUSLPANNrjyFPcEmcYVlvub4fR4e6RHxWDIHRIoqt66doGiMb4+Vo1IT8mwEuAO4EGUFJNgIzVMjaWViCnFNUyJUmi4g+rbrGDc78wt2fjy9Zq',\n",
    "    '_gat_UA-122397506-2': '1',\n",
    "    '_ga_7V3PRKG4L0': 'GS1.1.1697694742.2.0.1697694742.60.0.0',\n",
    "    '_ga': 'GA1.3.492569570.1697681899',\n",
    "    '_ga_M4CW888K46': 'GS1.1.1697694729.2.1.1697694744.45.0.0',\n",
    "}\n",
    "\n",
    "headers = {\n",
    "    'authority': 'www.tamilmurasu.com.sg',\n",
    "    'accept': 'application/json, text/javascript, */*; q=0.01',\n",
    "    'accept-language': 'en-MY,en;q=0.9,en-US;q=0.8,ms;q=0.7',\n",
    "    'cache-control': 'no-cache',\n",
    "    'content-type': 'application/x-www-form-urlencoded; charset=UTF-8',\n",
    "    # 'cookie': 'sph_user_country=MY; topoverlayDisplayed=yes; topOverlayImpressionsServed=0; suid=6f4bdd1b4f7e4c1e96db1ad58e330137; permutive-id=753503ed-17e5-413c-8c62-c9cbba7184f4; _gid=GA1.3.1209168466.1697681901; mySPHUserType=y-anoy; visitorcat=1; _gcl_au=1.1.785293486.1697681902; sui_1pc=1697681902195DE05525A751B9045F8F277CCB1CB680067935925565; sessionStatus=1; _cb=CR6KWMBEFSXQDsXrpM; spgwAMCookie=8ae9af63d0df400b29f531a0aef2fecb; _hjSessionUser_1143163=eyJpZCI6Ijg4MTNjMjlmLTE2Y2YtNThkMi04YmJhLTUwMzJjZmEwOWYwZCIsImNyZWF0ZWQiOjE2OTc2ODE5MDE3NjQsImV4aXN0aW5nIjp0cnVlfQ==; _hjIncludedInSessionSample_1143163=0; _hjSession_1143163=eyJpZCI6ImI1MjFmYTQzLWQ2YWMtNDQ4Yi1iYzViLWVjNjhkZGM0ZmQ1NiIsImNyZWF0ZWQiOjE2OTc2OTQ3Mjg5MTgsImluU2FtcGxlIjpmYWxzZSwic2Vzc2lvbml6ZXJCZXRhRW5hYmxlZCI6dHJ1ZX0=; _hjAbsoluteSessionInProgress=0; _gat_UA-118698274-1=1; _chartbeat2=.1697681902376.1697694729387.1.RyhAi5rblOD5_E8sWcBoNBMHix6.1; _cb_svref=null; dicbo_fetch=true; AWSALB=mryUhqekbsNTTgWUSLPANNrjyFPcEmcYVlvub4fR4e6RHxWDIHRIoqt66doGiMb4+Vo1IT8mwEuAO4EGUFJNgIzVMjaWViCnFNUyJUmi4g+rbrGDc78wt2fjy9Zq; AWSALBCORS=mryUhqekbsNTTgWUSLPANNrjyFPcEmcYVlvub4fR4e6RHxWDIHRIoqt66doGiMb4+Vo1IT8mwEuAO4EGUFJNgIzVMjaWViCnFNUyJUmi4g+rbrGDc78wt2fjy9Zq; _gat_UA-122397506-2=1; _ga_7V3PRKG4L0=GS1.1.1697694742.2.0.1697694742.60.0.0; _ga=GA1.3.492569570.1697681899; _ga_M4CW888K46=GS1.1.1697694729.2.1.1697694744.45.0.0',\n",
    "    'newrelic': 'eyJ2IjpbMCwxXSwiZCI6eyJ0eSI6IkJyb3dzZXIiLCJhYyI6IjIyNTAyMyIsImFwIjoiMTEwMzE5MTU0MCIsImlkIjoiZDNjNWFiODI0Y2I5NzQ2NyIsInRyIjoiYTI3N2FjMDRhZTU2NjA4YjQ0NDQwYjA0ZWRkMWYyMDAiLCJ0aSI6MTY5NzY5NDc0NTE1MH19',\n",
    "    'origin': 'https://www.tamilmurasu.com.sg',\n",
    "    'pragma': 'no-cache',\n",
    "    'referer': 'https://www.tamilmurasu.com.sg/malaysia',\n",
    "    'sec-ch-ua': '\"Chromium\";v=\"118\", \"Google Chrome\";v=\"118\", \"Not=A?Brand\";v=\"99\"',\n",
    "    'sec-ch-ua-mobile': '?0',\n",
    "    'sec-ch-ua-platform': '\"macOS\"',\n",
    "    'sec-fetch-dest': 'empty',\n",
    "    'sec-fetch-mode': 'cors',\n",
    "    'sec-fetch-site': 'same-origin',\n",
    "    'traceparent': '00-a277ac04ae56608b44440b04edd1f200-d3c5ab824cb97467-01',\n",
    "    'tracestate': '225023@nr=0-1-225023-1103191540-d3c5ab824cb97467----1697694745150',\n",
    "    'user-agent': 'Mozilla/5.0 (Macintosh; Intel Mac OS X 10_15_7) AppleWebKit/537.36 (KHTML, like Gecko) Chrome/118.0.0.0 Safari/537.36',\n",
    "    'x-newrelic-id': 'VgQCUVRQGwIAV1hSAwUGUVQ=',\n",
    "    'x-requested-with': 'XMLHttpRequest',\n",
    "}\n",
    "\n",
    "params = {\n",
    "    '_wrapper_format': 'drupal_ajax',\n",
    "}\n",
    "\n"
   ]
  },
  {
   "cell_type": "code",
   "execution_count": 37,
   "metadata": {},
   "outputs": [
    {
     "name": "stderr",
     "output_type": "stream",
     "text": [
      " 27%|████████████████████████████▋                                                                              | 268/999 [02:21<06:25,  1.90it/s]\n"
     ]
    }
   ],
   "source": [
    "urls = []\n",
    "\n",
    "for i in tqdm(range(1, 1000, 1)):\n",
    "    data = {\n",
    "        'view_name': 'taxonomy_term',\n",
    "        'view_display_id': 'page_1',\n",
    "        'view_args': '1198',\n",
    "        'view_path': '/taxonomy/term/1198',\n",
    "        'view_base_path': 'taxonomy/term/%',\n",
    "        'view_dom_id': '65260f1d5f1ec196be2d028974e9ab64e4c8e167aaa49009aba799f68891d324',\n",
    "        'pager_element': '0',\n",
    "        'page': str(i),\n",
    "        '_drupal_ajax': '1',\n",
    "        'ajax_page_state[theme]': 'mundus',\n",
    "        'ajax_page_state[theme_token]': '',\n",
    "        'ajax_page_state[libraries]': 'blazy/bio.ajax,bootstrap_barrio/bootstrap,bootstrap_barrio/global-styling,layout_discovery/onecol,mundus/global-styling,mundus/outbrain-js,pwa/serviceworker,simple_popup_blocks/simple_popup_blocks,sph_dfp_betterads/sph-dfp-betterads,sph_liveramp/liveramp-lib,sph_mm_quiz_preview/sph_mm_quiz_preview,sph_subscriber_login/sph-mysph,system/base,tm_article/cdp-activation-prd,views/views.ajax,views/views.module,views_infinite_scroll/views-infinite-scroll',\n",
    "    }\n",
    "\n",
    "    response = requests.post('https://www.tamilmurasu.com.sg/views/ajax', params=params, cookies=cookies, headers=headers, data=data)\n",
    "    r = response.json()\n",
    "    soup = BeautifulSoup(r[1]['data'], \"lxml\")\n",
    "    a = soup.find_all('a', {'class': 'infinite-title'})\n",
    "    a = [a_.get('href') for a_ in a]\n",
    "    if not len(a):\n",
    "        break\n",
    "    urls.extend(a)"
   ]
  },
  {
   "cell_type": "code",
   "execution_count": 38,
   "metadata": {},
   "outputs": [],
   "source": [
    "with open('urls.json', 'w') as fopen:\n",
    "    json.dump(sorted(set(urls)), fopen)"
   ]
  }
 ],
 "metadata": {
  "kernelspec": {
   "display_name": "Python 3 (ipykernel)",
   "language": "python",
   "name": "python3"
  },
  "language_info": {
   "codemirror_mode": {
    "name": "ipython",
    "version": 3
   },
   "file_extension": ".py",
   "mimetype": "text/x-python",
   "name": "python",
   "nbconvert_exporter": "python",
   "pygments_lexer": "ipython3",
   "version": "3.8.10"
  }
 },
 "nbformat": 4,
 "nbformat_minor": 4
}
