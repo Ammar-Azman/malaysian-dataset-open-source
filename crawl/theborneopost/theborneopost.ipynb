{
 "cells": [
  {
   "cell_type": "code",
   "execution_count": 1,
   "id": "2b951a94",
   "metadata": {},
   "outputs": [],
   "source": [
    "from bs4 import BeautifulSoup\n",
    "import pandas as pd\n",
    "import json\n",
    "import requests\n",
    "from tqdm import tqdm\n",
    "import time\n",
    "from concurrent.futures import ThreadPoolExecutor, as_completed\n",
    "import numpy as np\n",
    "import os\n",
    "\n",
    "\n",
    "headers = {'User-Agent': 'Mozilla/5.0 (Windows NT 6.1; WOW64) AppleWebKit/537.36 (KHTML, like Gecko) Chrome/56.0.2924.76 Safari/537.36'} "
   ]
  },
  {
   "cell_type": "code",
   "execution_count": 27,
   "id": "06d67dda",
   "metadata": {},
   "outputs": [],
   "source": [
    "links = ['https://www.theborneopost.com/category/news/sarawak/',\n",
    "        'https://www.theborneopost.com/category/news/sabah/',\n",
    "        'https://www.theborneopost.com/category/news/nation/',\n",
    "        'https://www.theborneopost.com/category/world/',\n",
    "        'https://www.theborneopost.com/category/business/',\n",
    "        'https://www.theborneopost.com/category/sports/',\n",
    "        'https://www.theborneopost.com/category/lite-stories/',\n",
    "        'https://www.theborneopost.com/category/features/',\n",
    "        'https://www.theborneopost.com/category/columns/',\n",
    "        'https://www.theborneopost.com/category/uncategorized/']"
   ]
  },
  {
   "cell_type": "code",
   "execution_count": 29,
   "id": "e11e449e",
   "metadata": {},
   "outputs": [],
   "source": [
    "def crawl(url):\n",
    "    while True:\n",
    "        try:\n",
    "            r = requests.get(url,headers = headers)\n",
    "            if r.status_code == 508:\n",
    "                print(r.status_code)\n",
    "                print('error in link, retrying... ', url)\n",
    "                time.sleep(20)\n",
    "                continue\n",
    "            break\n",
    "        except Exception as e:\n",
    "            print(e)\n",
    "            time.sleep(1.0)\n",
    "\n",
    "    soup = BeautifulSoup(r.text, \"lxml\")\n",
    "    \n",
    "    block = soup.find_all(\"div\",attrs = {\"class\":\"content\"})\n",
    "    \n",
    "    if block is None:\n",
    "        return\n",
    "\n",
    "    for link in soup.find_all(\"div\",attrs = {\"class\":\"content\"}):\n",
    "\n",
    "        href = link.find('a').get('href')\n",
    "\n",
    "        hrefs.append(href)\n",
    "    "
   ]
  },
  {
   "cell_type": "code",
   "execution_count": null,
   "id": "bc5542a3",
   "metadata": {
    "scrolled": true
   },
   "outputs": [],
   "source": [
    "max_worker = 5\n",
    "hrefs = []\n",
    "\n",
    "for url in links:\n",
    "    \n",
    "    print(url)\n",
    "    r = requests.get(url,headers = headers)\n",
    "    soup = BeautifulSoup(r.content, \"html.parser\")\n",
    "    a = soup.find_all('a')\n",
    "    a = [a_.get('href') for a_ in a if a_.get('href')]\n",
    "    pgno = [a_ for a_ in a if 'page' in a_]\n",
    "    max_page = max([int(a_.split('page')[1].replace('/','')) for a_ in pgno])\n",
    "    print(max_page)\n",
    "    for i in tqdm(range(1, max_page + 1, max_worker)):\n",
    "        aranged = np.arange(i, i + max_worker)\n",
    "        urls = [f'{url}/page/{a}' for a in aranged]\n",
    "        with ThreadPoolExecutor(max_workers=max_worker) as executor:\n",
    "            futures = {executor.submit(crawl, url): url for url in urls}\n",
    "        \n",
    "        for future in as_completed(futures):\n",
    "            future.result()\n"
   ]
  },
  {
   "cell_type": "code",
   "execution_count": 19,
   "id": "aa65417b",
   "metadata": {},
   "outputs": [],
   "source": [
    "with open('theborneopost-link.json', 'a') as f:\n",
    "    json.dump(hrefs, f)"
   ]
  },
  {
   "cell_type": "code",
   "execution_count": 39,
   "id": "41e4d0af",
   "metadata": {},
   "outputs": [],
   "source": [
    "with open('theborneopost-link.json') as f:\n",
    "    hrefs = json.load(f)"
   ]
  },
  {
   "cell_type": "code",
   "execution_count": 44,
   "id": "17af22fb",
   "metadata": {},
   "outputs": [],
   "source": [
    "def process_url(x):\n",
    "    headers = {'User-Agent': 'Mozilla/5.0 (Windows NT 6.1; WOW64) AppleWebKit/537.36 (KHTML, like Gecko) Chrome/56.0.2924.76 Safari/537.36'} # This is chrome, you can set whatever browser you like\n",
    "\n",
    "    \n",
    "    while True:\n",
    "        try:\n",
    "            r = requests.get(x, headers=headers)\n",
    "            break\n",
    "        except Exception as e:\n",
    "            print(e)\n",
    "            time.sleep(5.0)\n",
    "    \n",
    "    soup = BeautifulSoup(r.text, \"lxml\")\n",
    "\n",
    "    try:\n",
    "        headline = soup.find('h1', class_=\"post-title item fn\").text\n",
    "        h = soup.find('div', attrs = {\"class\":\"post-content description\"})\n",
    "        p = [p.text for p in h.find_all(\"p\") if len(p.text.split(\" \")) > 3]\n",
    "    except Exception as e:\n",
    "        print('error in link:'+ x)\n",
    "        print(e)\n",
    "        return None\n",
    "\n",
    "    \n",
    "    data = {'url': x, 'headline': headline, 'content': p}\n",
    "    return data"
   ]
  },
  {
   "cell_type": "code",
   "execution_count": null,
   "id": "cb45d31f",
   "metadata": {},
   "outputs": [],
   "source": [
    "max_workers = 20\n",
    "\n",
    "with ThreadPoolExecutor(max_workers=max_workers) as executor:\n",
    "    futures = [executor.submit(process_url, x) for x in hrefs]\n",
    "    \n",
    "    for future in tqdm(futures, total=len(hrefs)):\n",
    "        result = future.result()\n",
    "        if result:\n",
    "            with open('theborneopost.jsonl', 'a',encoding='utf8') as f:\n",
    "                json.dump(result, f,ensure_ascii=False)\n",
    "                f.write('\\n')"
   ]
  },
  {
   "cell_type": "code",
   "execution_count": 22,
   "id": "1e6694b8",
   "metadata": {},
   "outputs": [
    {
     "data": {
      "text/plain": [
       "{'url': 'https://www.theborneopost.com/2021/03/14/dough-ing-it-her-way/',\n",
       " 'headline': '\\nDough-ing it her way ',\n",
       " 'content': ['A TERUBOK fish, a unicorn, and a traditional lantern were seemingly unrelated items but they all had one thing in common.',\n",
       "  'They were cakes lovingly crafted by cake artist Abigail Lim, who believes no design is unachievable unless it’s limited by the client’s budget or technically impossible.',\n",
       "  'In such circumstances, Lim would explain to clients carefully and provide alternatives.',\n",
       "  '“If the issue is budget, I can usually suggest alternatives that have the same feel clients are going for but simplified to be within their budget.',\n",
       "  '“For the latter, I would explain it cannot be done that way. They usually understand when I suggest alternatives and assure them the taste wouldn’t be compromised,” she told thesundaypost.',\n",
       "  'The former engineer has come a long way since setting up her baking business in 2012.',\n",
       "  'Growing up, Lim was influenced by her mother, aunt, and grandmother who cooked and baked a lot, sparking her interest in the culinary world.',\n",
       "  'Her years of watching culinary shows on television further fuelled her interest. In school, she joined the baking club and started baking for friends and family from as early as age 10.',\n",
       "  '“Seeing positive reactions and how happy my bakes made people gave me the push to start selling simple bakes like brownies for festive seasons like Chinese New Year and Christmas.',\n",
       "  '“I wanted to pursue Culinary Arts in tertiary but couldn’t, so when I started working, I started selling simple bakes as a hobby and for side income. Friends started asking for decorated cakes and one day, my cousin asked for a three-dimensional fondant cake,” she said.',\n",
       "  'Lim with one of the wedding cakes she designed.',\n",
       "  'That request was a turning point for Lim who realised nobody was making such cakes at that time. She decided to set up an online business and this was how her bakery came into being.',\n",
       "  '“I started posting my works and participating in bake sales, getting tremendous response. Eventually, the orders got so much that I was hardly getting any sleep at all as I was working as an engineer during the day and transforming into a baker and cake artist from evening to morning.',\n",
       "  '“I was living a double life until I realised I couldn’t continue like this and made the life-changing decision to go into full-time baking in 2015,” she shared.',\n",
       "  'Lim learned cake decorating through online references, videos, and trial and error while getting her inspiration from everywhere, including runway fashion, art, architecture, and more.',\n",
       "  'She said many bakers and cake artists inspired her, but the one who made her pursue cake design was Peggy Porschen (United Kingdom).',\n",
       "  '“I love the style of her cakes — feminine, elegant and never over-the-top. I have all her books and had visited her school and cafe in London.',\n",
       "  '“I also adore the amazing works by the Yavorskaya siblings of Tortik Annushka (Moscow). They create very innovative, structural and architectural cakes with very clean finishes.”',\n",
       "  'Lim personally prefers a minimalist style with elegant touches but tries to cater to the market, so she doesn’t limit herself to one style.',\n",
       "  'She pays a lot of attention to details and accuracy as she believes these will make or break the cake.',\n",
       "  'Chinese New Year-themed cupcakes.',\n",
       "  'As for the process of getting the design done for clients, she said it is very straightforward if they know exactly what they wanted.',\n",
       "  '“If they don’t, then I’ll usually guide them through by first asking for their theme and then I’ll supply them with example pictures to get a feel of the kind of cake they’d like and then I’d design a cake for them based on that.',\n",
       "  '“For wedding cakes, I’d usually sit down with the couple to talk about details like style and number of tiers before coming up with a unique design for them.',\n",
       "  '“This is usually a longer process as we generally go back and forth with a few iterations to get the perfect design.”',\n",
       "  'Lim particularly enjoys working with fondant as it is malleable enough to be sculpted into anything and dries hard so it has structural stability.',\n",
       "  '“You can colour and paint it any way you like, so the possibilities are limitless. It doesn’t get everywhere when you touch it.',\n",
       "  '“Recently, I started falling in love with painting with buttercream as it’s like gouache painting,” she said.',\n",
       "  'Lim revealed the main challenge had always been the procurement of supplies and ingredients, especially items used for cake decorating.',\n",
       "  'She noted that with the Covid-19 pandemic, the problem of ingredients running out had escalated due to shipping delays and also following the sharp increase in people going into the food business.',\n",
       "  '“Many items such as pretty sprinkles and even colouring pastes, which are readily available in bigger cities like Kuala Lumpur, are usually not available locally, so I have to order them. I usually have to plan ahead to allow for delivery time.',\n",
       "  '“As our city is smaller, we tend to have shortages in ingredients. For example, there are times when strawberries are unavailable and it’s not something you can buy and keep stock. So, sometimes I have to get clients to change the flavours requested.”',\n",
       "  'Lim plans to grow her business in wedding cakes because she enjoys designing them the most.',\n",
       "  '“I’m able to apply my love for fashion on them, and they allow me to come up with original designs 100 per cent of the time as opposed to replicating designs for birthday cakes.',\n",
       "  '“The future goal is to be like my idol Peggy Porschen — by having the main business in doing huge wedding cakes, and running a cake school and having a cute cafe where people can come and enjoy my cakes without having to order a whole cake and where they can purchase ready-made decorated cakes and place orders for custom cakes,” she enthused.',\n",
       "  'On the hardest thing about being in this profession, Lim said it’s the lack of time.',\n",
       "  '“If you’re running the business as an owner and baker, then your income is directly proportionate to the number of orders you take. The more orders, the more income but that means less time for yourself.',\n",
       "  '“This is highly customised work, so it’s not like you can hire someone to do the design work for you. You can have help for basic things like baking and icing the cakes but since this is an art form, any time you get someone else to do the design work, the cake will not be entirely what you envision.”',\n",
       "  'She also pointed out that it’s a very physical work and it gets very tiring, especially during festive seasons, so self-care is important.',\n",
       "  '“My advice to anyone wanting to go into this business is to be prepared to make sacrifices.”',\n",
       "  'Recently, Lim found out that she was included in the third edition of Britishpedia’s ‘Successful People in Malaysia’.',\n",
       "  '“When their representative contacted me in September to tell me I had been selected, I thought I was dreaming and it must be a mistake as the people included are the likes of Tun Mahathir and Tony Fernandes.',\n",
       "  '“But they said they were looking for young people paving their own way in all industries. They came across my profile during their scouting and said I fit their description of a successful person. We set up a meeting and did an interview,” she said.',\n",
       "  'Lim is deeply humbled and honoured to be included in the publication.',\n",
       "  '“I’m motivated to work harder to be worthy of this honour. I hope my story inspires more youth to pursue their passions, especially if the career they want is deemed unconventional by society,” she said.']}"
      ]
     },
     "execution_count": 22,
     "metadata": {},
     "output_type": "execute_result"
    }
   ],
   "source": [
    "process_url(hrefs[0])"
   ]
  }
 ],
 "metadata": {
  "kernelspec": {
   "display_name": "Python 3 (ipykernel)",
   "language": "python",
   "name": "python3"
  },
  "language_info": {
   "codemirror_mode": {
    "name": "ipython",
    "version": 3
   },
   "file_extension": ".py",
   "mimetype": "text/x-python",
   "name": "python",
   "nbconvert_exporter": "python",
   "pygments_lexer": "ipython3",
   "version": "3.8.10"
  }
 },
 "nbformat": 4,
 "nbformat_minor": 5
}
