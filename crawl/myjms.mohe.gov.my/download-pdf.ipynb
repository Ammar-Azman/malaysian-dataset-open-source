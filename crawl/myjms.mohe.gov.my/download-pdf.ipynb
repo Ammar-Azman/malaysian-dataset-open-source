{
 "cells": [
  {
   "cell_type": "code",
   "execution_count": 13,
   "id": "9dd525f4",
   "metadata": {},
   "outputs": [],
   "source": [
    "import requests\n",
    "import urllib3\n",
    "from tqdm import tqdm\n",
    "from bs4 import BeautifulSoup\n",
    "from urllib3.exceptions import InsecureRequestWarning\n",
    "requests.packages.urllib3.util.ssl_.DEFAULT_CIPHERS = 'ALL:@SECLEVEL=1'\n",
    "requests.packages.urllib3.disable_warnings(category=InsecureRequestWarning)"
   ]
  },
  {
   "cell_type": "code",
   "execution_count": 14,
   "id": "d7b29e1c",
   "metadata": {
    "scrolled": false
   },
   "outputs": [
    {
     "data": {
      "text/plain": [
       "167"
      ]
     },
     "execution_count": 14,
     "metadata": {},
     "output_type": "execute_result"
    }
   ],
   "source": [
    "import json\n",
    "\n",
    "with open('all_a.json') as fopen:\n",
    "    all_a = json.load(fopen)\n",
    "len(all_a)"
   ]
  },
  {
   "cell_type": "code",
   "execution_count": 15,
   "id": "8ab8ab6c",
   "metadata": {},
   "outputs": [],
   "source": [
    "extra = [\n",
    "    'https://msocialsciences.com/index.php/mjssh',\n",
    "    'https://mjs.um.edu.my/',\n",
    "    'https://ejournal.um.edu.my/index.php/MJCS/',\n",
    "    'http://mjli.uum.edu.my/',\n",
    "    'https://mjfas.utm.my/',\n",
    "    'https://mjms.upm.edu.my/',\n",
    "    'https://mjphm.org/index.php/mjphm',\n",
    "    'https://mjsat.com.my/index.php/mjsat',\n",
    "    'https://mpaeds.my/journals/index.php/MJPCH',\n",
    "    'https://malaysianjournalofmicroscopy.org/ojs/index.php/mjm',\n",
    "    'https://journal.unisza.edu.my/myjas/index.php/myjas',\n",
    "    'https://ejournal.lucp.net/index.php/mjmr',\n",
    "    'https://jurcon.ums.edu.my/ojums/index.php/mjbe',\n",
    "    'https://www.journals.mymla.org/index.php/MJLL',\n",
    "    'https://myjo.org/index.php/myjo',\n",
    "    'https://mjoms.my/index.php/mjoms',\n",
    "    'https://ejournal.ukm.my/jskm',\n",
    "    'https://mjbem.com.my/index.php/mjbem',\n",
    "    'https://mjimms.ejournal.my/index.php/mjimms',\n",
    "    'https://akademiabaru.com/submit/index.php/mjcsm',\n",
    "    'https://www.myja.pub/index.php/myja',\n",
    "    'http://myjieas.psa.edu.my/index.php/myjieas',\n",
    "    'https://www.m-jem.com/index.php/mjem',\n",
    "    'https://www.planningmalaysia.org/index.php/pmj'\n",
    "]\n",
    "all_a = extra + all_a"
   ]
  },
  {
   "cell_type": "code",
   "execution_count": 17,
   "id": "4628e223",
   "metadata": {},
   "outputs": [
    {
     "name": "stderr",
     "output_type": "stream",
     "text": [
      "100%|█████████████████████████████████████████| 191/191 [03:44<00:00,  1.18s/it]\n"
     ]
    }
   ],
   "source": [
    "urls = []\n",
    "for url in tqdm(all_a):\n",
    "    for i in range(1, 5, 1):\n",
    "        try:\n",
    "            r = requests.get(f'{url}/issue/archive/{i}', verify = False)\n",
    "            soup = BeautifulSoup(r.content)\n",
    "            a = [a_.get('href') for a_ in soup.find_all('a') if '/issue/view/' in a_.get('href')]\n",
    "            urls.extend(a)\n",
    "        except:\n",
    "            pass"
   ]
  },
  {
   "cell_type": "code",
   "execution_count": 18,
   "id": "50604ed4",
   "metadata": {},
   "outputs": [
    {
     "data": {
      "text/plain": [
       "1424"
      ]
     },
     "execution_count": 18,
     "metadata": {},
     "output_type": "execute_result"
    }
   ],
   "source": [
    "urls = list(set(urls))\n",
    "len(urls)"
   ]
  },
  {
   "cell_type": "code",
   "execution_count": 19,
   "id": "32997914",
   "metadata": {
    "scrolled": true
   },
   "outputs": [
    {
     "data": {
      "text/plain": [
       "['https://myjms.mohe.gov.my/index.php/myse/issue/view/1365',\n",
       " 'https://ejournal.um.edu.my/index.php/MJCS/issue/view/1659',\n",
       " 'https://myjms.mohe.gov.my/index.php/land/issue/view/1701',\n",
       " 'https://myjms.mohe.gov.my/index.php/jmeche/issue/view/1478',\n",
       " 'https://myjms.mohe.gov.my/index.php/joa/issue/view/1641',\n",
       " 'https://myjms.mohe.gov.my/index.php/ajafin/issue/view/1489',\n",
       " 'https://myjms.mohe.gov.my/index.php/SRJ/issue/view/871',\n",
       " 'https://myjms.mohe.gov.my/index.php/ijtmis/issue/view/688',\n",
       " 'https://msocialsciences.com/index.php/mjssh/issue/view/8',\n",
       " 'https://myjms.mohe.gov.my/index.php/ptm/issue/view/1467']"
      ]
     },
     "execution_count": 19,
     "metadata": {},
     "output_type": "execute_result"
    }
   ],
   "source": [
    "urls[:10]"
   ]
  },
  {
   "cell_type": "code",
   "execution_count": 20,
   "id": "b658ad70",
   "metadata": {
    "scrolled": true
   },
   "outputs": [
    {
     "name": "stderr",
     "output_type": "stream",
     "text": [
      "100%|███████████████████████████████████████| 1424/1424 [09:58<00:00,  2.38it/s]\n"
     ]
    },
    {
     "data": {
      "text/plain": [
       "28337"
      ]
     },
     "execution_count": 20,
     "metadata": {},
     "output_type": "execute_result"
    }
   ],
   "source": [
    "pdfs = []\n",
    "for url in tqdm(urls):\n",
    "    r = requests.get(url, verify = False)\n",
    "    soup = BeautifulSoup(r.content)\n",
    "    a = [a_.get('href').replace('/article/view/', '/article/download/') for a_ in soup.find_all('a') if '/article/view/' in a_.get('href') or a_.get('href').endswith('.pdf')]\n",
    "    pdfs.extend(a)\n",
    "    \n",
    "len(set(pdfs))"
   ]
  },
  {
   "cell_type": "code",
   "execution_count": 22,
   "id": "7af73611",
   "metadata": {},
   "outputs": [],
   "source": [
    "pdfs = sorted(list(set(pdfs)))"
   ]
  },
  {
   "cell_type": "code",
   "execution_count": 23,
   "id": "adc08dfc",
   "metadata": {},
   "outputs": [],
   "source": [
    "with open('pdfs.json', 'w') as fopen:\n",
    "    json.dump(pdfs, fopen)"
   ]
  },
  {
   "cell_type": "code",
   "execution_count": 24,
   "id": "90277b65",
   "metadata": {},
   "outputs": [
    {
     "name": "stdout",
     "output_type": "stream",
     "text": [
      "mkdir: cannot create directory ‘pdf’: File exists\r\n"
     ]
    }
   ],
   "source": [
    "!mkdir pdf\n",
    "!rm -rf pdf/*"
   ]
  },
  {
   "cell_type": "code",
   "execution_count": 26,
   "id": "f557f437",
   "metadata": {},
   "outputs": [
    {
     "name": "stderr",
     "output_type": "stream",
     "text": [
      "100%|███████████████████████████████████| 28337/28337 [2:32:58<00:00,  3.09it/s]\n"
     ]
    }
   ],
   "source": [
    "import os\n",
    "\n",
    "for i in tqdm(range(len(pdfs))):\n",
    "    filename = os.path.join('pdf', f'{i}.pdf')\n",
    "    if os.path.exists(filename):\n",
    "        continue\n",
    "        \n",
    "    try:\n",
    "        r = requests.get(pdfs[i], verify = False)\n",
    "        with open(filename, 'wb') as fopen:\n",
    "            fopen.write(r.content)\n",
    "    except:\n",
    "        pass"
   ]
  }
 ],
 "metadata": {
  "kernelspec": {
   "display_name": "Python 3 (ipykernel)",
   "language": "python",
   "name": "python3"
  },
  "language_info": {
   "codemirror_mode": {
    "name": "ipython",
    "version": 3
   },
   "file_extension": ".py",
   "mimetype": "text/x-python",
   "name": "python",
   "nbconvert_exporter": "python",
   "pygments_lexer": "ipython3",
   "version": "3.8.10"
  }
 },
 "nbformat": 4,
 "nbformat_minor": 5
}
