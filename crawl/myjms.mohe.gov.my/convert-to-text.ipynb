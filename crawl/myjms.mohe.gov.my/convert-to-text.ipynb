{
 "cells": [
  {
   "cell_type": "code",
   "execution_count": 3,
   "id": "871bb514",
   "metadata": {},
   "outputs": [],
   "source": [
    "from glob import glob\n",
    "from bs4 import BeautifulSoup\n",
    "from tqdm import tqdm\n",
    "from tika import parser\n",
    "import json\n",
    "\n",
    "TIKA_HOST = 'http://localhost:9998'"
   ]
  },
  {
   "cell_type": "code",
   "execution_count": 4,
   "id": "09e4faf1",
   "metadata": {},
   "outputs": [
    {
     "name": "stderr",
     "output_type": "stream",
     "text": [
      "100%|█████████████████████████████████████| 28325/28325 [10:19<00:00, 45.73it/s]\n"
     ]
    }
   ],
   "source": [
    "files = glob('pdf/*.pdf')\n",
    "\n",
    "with open('myjms.mohe.gov.my.jsonl', 'w') as fopen:\n",
    "    for f in tqdm(files):\n",
    "        try:\n",
    "            raw_xml = parser.from_file(f, TIKA_HOST, xmlContent=True)\n",
    "            body = BeautifulSoup(raw_xml['content']).find('body')\n",
    "            t = '\\n'.join(body.findAll(text=True))\n",
    "            fopen.write(f'{json.dumps(t)}\\n')\n",
    "            fopen.flush()\n",
    "        except:\n",
    "            pass"
   ]
  },
  {
   "cell_type": "code",
   "execution_count": null,
   "id": "1a7a5681",
   "metadata": {},
   "outputs": [],
   "source": []
  }
 ],
 "metadata": {
  "kernelspec": {
   "display_name": "Python 3 (ipykernel)",
   "language": "python",
   "name": "python3"
  },
  "language_info": {
   "codemirror_mode": {
    "name": "ipython",
    "version": 3
   },
   "file_extension": ".py",
   "mimetype": "text/x-python",
   "name": "python",
   "nbconvert_exporter": "python",
   "pygments_lexer": "ipython3",
   "version": "3.8.10"
  }
 },
 "nbformat": 4,
 "nbformat_minor": 5
}
