{
 "cells": [
  {
   "cell_type": "code",
   "execution_count": 1,
   "metadata": {},
   "outputs": [],
   "source": [
    "import requests\n",
    "from bs4 import BeautifulSoup\n",
    "from tqdm import tqdm\n",
    "import os\n",
    "import json\n",
    "import numpy as np\n",
    "import time\n",
    "import random\n",
    "import json"
   ]
  },
  {
   "cell_type": "code",
   "execution_count": 2,
   "metadata": {},
   "outputs": [],
   "source": [
    "topics = [\n",
    "    'https://www.buro247.my/fashion',\n",
    "    'https://www.buro247.my/beauty',\n",
    "    'https://www.buro247.my/lifestyle',\n",
    "    'https://www.buro247.my/culture',\n",
    "    'https://www.buro247.my/watches-and-jewellery',\n",
    "    'https://www.buro247.my/specials'\n",
    "]"
   ]
  },
  {
   "cell_type": "code",
   "execution_count": 4,
   "metadata": {},
   "outputs": [],
   "source": [
    "r = requests.get(topics[0])\n",
    "soup = BeautifulSoup(r.content, \"lxml\")"
   ]
  },
  {
   "cell_type": "code",
   "execution_count": 8,
   "metadata": {},
   "outputs": [
    {
     "data": {
      "text/plain": [
       "365"
      ]
     },
     "execution_count": 8,
     "metadata": {},
     "output_type": "execute_result"
    }
   ],
   "source": [
    "a = soup.find_all('a', {'class': \"page-numbers\"})\n",
    "nums = []\n",
    "for a_ in a:\n",
    "    try:\n",
    "        nums.append(int(a_.text))\n",
    "    except:\n",
    "        pass\n",
    "    \n",
    "if len(nums):\n",
    "    page_num = max(nums)\n",
    "else:\n",
    "    page_num = 1\n",
    "    \n",
    "page_num"
   ]
  },
  {
   "cell_type": "code",
   "execution_count": 10,
   "metadata": {},
   "outputs": [
    {
     "data": {
      "text/plain": [
       "['https://www.buro247.my/fashion/style/buro-spotlights-alia-bastamam-and-gamuda-cove.html',\n",
       " 'https://www.buro247.my/fashion/couture-wedding-gowns-inspiration.html',\n",
       " 'https://www.buro247.my/fashion/bridal-party-wedding-shoe-guide.html',\n",
       " 'https://www.buro247.my/fashion/shopping/style-id-netflix-celebrity.html',\n",
       " 'https://www.buro247.my/fashion/style/buro-spotlights-alia-bastamam-and-gamuda-cove.html',\n",
       " 'https://www.buro247.my/fashion/mens/wedding-suits-klang-valley.html',\n",
       " 'https://www.buro247.my/fashion/shopping-for-your-first-designer-bag.html',\n",
       " 'https://www.buro247.my/fashion/trends/reviewing-the-metallic-silver-fashion-trend.html',\n",
       " 'https://www.buro247.my/fashion/collections/haute-couture-week-aw23.html',\n",
       " 'https://www.buro247.my/fashion/trends/a-breakdown-of-blokettecore.html',\n",
       " 'https://www.buro247.my/fashion/collections/chanels-aw23-haute-couture-collection.html',\n",
       " 'https://www.buro247.my/fashion/couture-wedding-gowns-inspiration.html',\n",
       " 'https://www.buro247.my/fashion/bridal-party-wedding-shoe-guide.html',\n",
       " 'https://www.buro247.my/fashion/shopping/style-id-netflix-celebrity.html',\n",
       " 'https://www.buro247.my/fashion/style/buro-spotlights-alia-bastamam-and-gamuda-cove.html',\n",
       " 'https://www.buro247.my/fashion/mens/wedding-suits-klang-valley.html',\n",
       " 'https://www.buro247.my/fashion/shopping-for-your-first-designer-bag.html',\n",
       " 'https://www.buro247.my/fashion/trends/reviewing-the-metallic-silver-fashion-trend.html',\n",
       " 'https://www.buro247.my/fashion/collections/haute-couture-week-aw23.html',\n",
       " 'https://www.buro247.my/fashion/trends/a-breakdown-of-blokettecore.html',\n",
       " 'https://www.buro247.my/fashion/collections/chanels-aw23-haute-couture-collection.html']"
      ]
     },
     "execution_count": 10,
     "metadata": {},
     "output_type": "execute_result"
    }
   ],
   "source": [
    "div = soup.find_all('div', {'class': 'meta-post-category'})\n",
    "a = [div_.find('a').get('href') for div_ in div]\n",
    "a"
   ]
  },
  {
   "cell_type": "code",
   "execution_count": 11,
   "metadata": {},
   "outputs": [],
   "source": [
    "!rm -rf url\n",
    "!mkdir url"
   ]
  },
  {
   "cell_type": "code",
   "execution_count": 12,
   "metadata": {},
   "outputs": [
    {
     "name": "stdout",
     "output_type": "stream",
     "text": [
      "https://www.buro247.my/fashion\n"
     ]
    },
    {
     "name": "stderr",
     "output_type": "stream",
     "text": [
      "100%|███████████████████████████████████████████████████████████████████████████████████████████| 365/365 [10:46<00:00,  1.77s/it]\n"
     ]
    },
    {
     "name": "stdout",
     "output_type": "stream",
     "text": [
      "https://www.buro247.my/beauty\n"
     ]
    },
    {
     "name": "stderr",
     "output_type": "stream",
     "text": [
      "100%|███████████████████████████████████████████████████████████████████████████████████████████| 272/272 [07:05<00:00,  1.57s/it]\n"
     ]
    },
    {
     "name": "stdout",
     "output_type": "stream",
     "text": [
      "https://www.buro247.my/lifestyle\n"
     ]
    },
    {
     "name": "stderr",
     "output_type": "stream",
     "text": [
      "100%|███████████████████████████████████████████████████████████████████████████████████████████| 354/354 [09:58<00:00,  1.69s/it]\n"
     ]
    },
    {
     "name": "stdout",
     "output_type": "stream",
     "text": [
      "https://www.buro247.my/culture\n"
     ]
    },
    {
     "name": "stderr",
     "output_type": "stream",
     "text": [
      "100%|███████████████████████████████████████████████████████████████████████████████████████████| 184/184 [04:50<00:00,  1.58s/it]\n"
     ]
    },
    {
     "name": "stdout",
     "output_type": "stream",
     "text": [
      "https://www.buro247.my/watches-and-jewellery\n"
     ]
    },
    {
     "name": "stderr",
     "output_type": "stream",
     "text": [
      "100%|█████████████████████████████████████████████████████████████████████████████████████████████| 66/66 [01:41<00:00,  1.53s/it]\n"
     ]
    },
    {
     "name": "stdout",
     "output_type": "stream",
     "text": [
      "https://www.buro247.my/specials\n"
     ]
    },
    {
     "name": "stderr",
     "output_type": "stream",
     "text": [
      "100%|███████████████████████████████████████████████████████████████████████████████████████████████| 6/6 [00:10<00:00,  1.77s/it]\n"
     ]
    }
   ],
   "source": [
    "def generator():\n",
    "    while True:\n",
    "        yield\n",
    "        \n",
    "for t in topics:\n",
    "    print(t)\n",
    "    t_ = t.split('my/')[1].replace('/', '-')\n",
    "    \n",
    "    r = requests.get(t)\n",
    "    soup = BeautifulSoup(r.content, \"lxml\")\n",
    "    \n",
    "    a = soup.find_all('a', {'class': \"page-numbers\"})\n",
    "    nums = []\n",
    "    for a_ in a:\n",
    "        try:\n",
    "            nums.append(int(a_.text))\n",
    "        except:\n",
    "            pass\n",
    "\n",
    "    if len(nums):\n",
    "        page_num = max(nums)\n",
    "    else:\n",
    "        page_num = 1\n",
    "        \n",
    "    for index in tqdm(range(1, page_num + 1, 1)):\n",
    "        filename = os.path.join('url', f'{t_}-{index}.json')\n",
    "        if os.path.exists(filename):\n",
    "            continue\n",
    "        \n",
    "        while True:\n",
    "            try:\n",
    "                r = requests.get(f'{t}/page/{index}')\n",
    "                break\n",
    "            except:\n",
    "                time.sleep(1.0)\n",
    "                \n",
    "        soup = BeautifulSoup(r.content, \"lxml\")\n",
    "        div = soup.find_all('div', {'class': 'meta-post-category'})\n",
    "        a = [div_.find('a').get('href') for div_ in div]\n",
    "        \n",
    "        with open(filename, 'w') as fopen:\n",
    "            json.dump(a, fopen)"
   ]
  },
  {
   "cell_type": "code",
   "execution_count": null,
   "metadata": {},
   "outputs": [],
   "source": []
  }
 ],
 "metadata": {
  "kernelspec": {
   "display_name": "Python 3 (ipykernel)",
   "language": "python",
   "name": "python3"
  },
  "language_info": {
   "codemirror_mode": {
    "name": "ipython",
    "version": 3
   },
   "file_extension": ".py",
   "mimetype": "text/x-python",
   "name": "python",
   "nbconvert_exporter": "python",
   "pygments_lexer": "ipython3",
   "version": "3.8.10"
  }
 },
 "nbformat": 4,
 "nbformat_minor": 4
}
