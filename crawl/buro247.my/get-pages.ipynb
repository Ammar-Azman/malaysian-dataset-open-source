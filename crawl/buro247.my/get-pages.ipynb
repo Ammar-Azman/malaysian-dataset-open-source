{
 "cells": [
  {
   "cell_type": "code",
   "execution_count": 1,
   "metadata": {},
   "outputs": [],
   "source": [
    "import requests\n",
    "from bs4 import BeautifulSoup\n",
    "from tqdm import tqdm\n",
    "import os\n",
    "import json\n",
    "import numpy as np\n",
    "import time\n",
    "import random\n",
    "import json"
   ]
  },
  {
   "cell_type": "code",
   "execution_count": 2,
   "metadata": {},
   "outputs": [
    {
     "data": {
      "text/plain": [
       "11819"
      ]
     },
     "execution_count": 2,
     "metadata": {},
     "output_type": "execute_result"
    }
   ],
   "source": [
    "from glob import glob\n",
    "\n",
    "files = glob('url/*.json')\n",
    "urls = []\n",
    "for f in files:\n",
    "    with open(f) as fopen:\n",
    "        urls.extend(json.load(fopen))\n",
    "urls = sorted(list(set(urls)))\n",
    "len(urls)"
   ]
  },
  {
   "cell_type": "code",
   "execution_count": 3,
   "metadata": {},
   "outputs": [
    {
     "name": "stdout",
     "output_type": "stream",
     "text": [
      "mkdir: cannot create directory ‘page’: File exists\r\n"
     ]
    }
   ],
   "source": [
    "!mkdir page"
   ]
  },
  {
   "cell_type": "code",
   "execution_count": 4,
   "metadata": {},
   "outputs": [],
   "source": [
    "r = requests.get(urls[0])\n",
    "soup = BeautifulSoup(r.content, \"lxml\")"
   ]
  },
  {
   "cell_type": "code",
   "execution_count": 5,
   "metadata": {},
   "outputs": [
    {
     "data": {
      "text/plain": [
       "'10 local influencers reveal their top skincare secrets'"
      ]
     },
     "execution_count": 5,
     "metadata": {},
     "output_type": "execute_result"
    }
   ],
   "source": [
    "soup.find('h1').text"
   ]
  },
  {
   "cell_type": "code",
   "execution_count": 6,
   "metadata": {},
   "outputs": [
    {
     "data": {
      "text/plain": [
       "'\\n\\n\\n\\n\\n\\n\\n\\n\\n\\n\\n\\nBeauty\\n10 local influencers reveal their top skincare secrets\\nDewy and fresh\\n\\n04.08.2015\\nBy Buro247\\n\\n\\n\\n\\n\\n\\n\\nSHARE THE STORY\\n\\n\\n\\n\\n\\n\\n\\n\\n\\n\\n\\n\\n\\n\\n\\n\\n\\n\\n\\n\\n\\n\\n\\n\\n\\n\\n\\n\\n\\n\\n\\n\\n\\n\\n\\n\\n\\n\\n\\n\\nRECOMMENDED\\n\\n\\n\\n#BUROWeddings: Grooming checklist for the groom\\n\\n\\n\\n\\n\\nJoanne Yew,\\xa027,\\xa0Actress, Celebrity\\n\\nTell us about your skincare routine.\\xa0\\n“Mine includes regular exfoliation, cleansing, toning, serum application, a moisturiser and a mask. My main concern is getting tanned. I try my best to avoid the sun as much as possible.”\\nWhere did you first hear about Sulwhasoo?\\xa0\\n“Sulwhasoo was first introduced to me when I was studying in Korea. My first impression of the brand was that it carried quality products with elegant, premium packaging. It was also strongly recommended by my Korean classmates at the time.”\\nHow have the products worked for you?\\n“I embrace natural beauty and appreciate that Sulwhasoo is a brand that encourages this aspect. The products work to give me a radiant glow and allows me to leave home with minimal makeup.”\\xa0\\nDo you use serums regularly?\\n“I do believe in including a serum into my daily skincare routine. It does help make a difference and encourages other products to better absorb into your skin.”\\nWho, in your opinion, are some of the celebrities who look good for their age?\\n“Charlize Theron is elegant, edgy and at 39 years old, she’s still a beauty ambassador, which I think is great. Gisele Bundchen is still a professional model and a business woman, which goes to prove that age is just a number when it comes to your personal capabilities.”\\nCasmad Sanuri, 43, Director, Businessman\\n\\n“Sulwhasoo products are lightweight, refreshing and easy to use, which are ideal for me. The First Care Activating Serum EX is probably my favourite because it does not have a feminine scent and it calms my skin especially after I shave. I also like that the serum absorbs quickly without leaving that tight and dry sensation after. I have never used a serum before in my life but now I might consider adding that to my routine, especially when I travel because that is when I feel my skin is most dehydrated.” –\\xa0Casmad Sanuri\\nJan Chin, 32, TV Host and Actress\\n\\n“I love the texture of the First Care Activating Serum EX and because it doesn’t leave a sticky residue. After two days, my skin feels softer and looks brighter. I think as I continue to use this, I will see a bigger difference in my skin’s condition – I’m looking forward to a newfound radiance in no time.” –\\xa0Jan Chin\\nThanuja Ananthan,\\xa029,\\xa0Miss World Malaysia 2010, TV Host, International Model, Animal Advocate and Ambassador\\n\\n“Having sensitive skin and trying Sulwhasoo for the first time, I was thankful the products did not cause any breakouts! As I have combination skin, it’s important to keep my skin hydrated. Sulwhasoo products have an excellent absorption rate. My skin stays hydrated even through long hours of shoots.” –\\xa0Thanuja Ananthan\\nDahila Nadirah Binti Juhari,\\xa030,\\xa0Manager, Digital Brand Management\\n\\n“Surprisingly, the First Care Activating Serum EX was really good to my skin. My skin feels smooth and firm. After using it for just under a week, I can really feel the difference it makes to my skin. I didn’t expect the results to show this quickly! I have never used any serums before so I was quite excited to try them. I feel that my skin feels fresh and new. I am definitely a big fan.’\\xa0– Dahila Nadirah Binti Juhari\\nPuteri Afzan Shakira Nabila binti Dato Mohamed Johan, 24, Social Media Ambassador for Kuala Lumpur Fashion Week\\n\\n“The Sulwhasoo Luminature Essential Finisher feels extremely light on my skin. Within seconds I can barely feel it on my face. It leaves me with a glowing and radiant complexion, which helps with my makeup application. The Balancing Water has a light floral scent, which is quite refreshing.\\xa0The Essential Balancing emulsion makes my skin adequately hydrated and feels bouncy and fresh – I adore this one.” – Puteri Afzan\\xa0\\nKim Raymond, 30, Entrepreneur and Social Media Influencer\\n \\n\\nTell us a little about the big wedding preparations!\\n“Keith and I have not really been spending too much time on wedding planning. We decided on a very simple ceremony in his hometown seeing as we got registered last December. We are both very simple people, honestly.”\\nHave you got a designer and/or dress in mind?\\n“Well, I have to admit that when I first started planning, I was super excited mostly about picking a dress and designer. In the end, I decided to just have one simple but beautiful gown designed by my close friend Alia Bastamam.”\\nWhat do you love most about your fiancé?\\n“I love that he is just as simple as I am. He does not show off or treat anyone differently and \\xa0has a very kind heart.”\\nMoving on to your beauty routine, tell us a little about your experince after having tried a range of Sulwhasoo products.\\n“I have honestly fallen in love with the brand. I love the smell of natural herbs and even after using multiple products, not only does my skin look better, but I also didn’t have to worry about any skin reaction problems, which was such a plus.”\\nHow did your skin respond to the First Care Activating Serum EX?\\n“I found it very refreshing, not only because of the smell but also the lightness of it. It did not leave an oily sensation even hours after using it. I didn’t get any breakouts, which is very important.”\\nIs a serum already part of your daily skincare routine?\\n“I never settled for a serum because it is usually too rich for my skin and eventually my skin would breakout. The Sulwhasoo’s First Care Activating Serum EX has definitely changed my mind and I’ve been quite discplined in using it every day.”\\nMin Luna, 30, Fashion Stylist\\n\\n“I read about Sulwhasoo in magazines. My initial reaction was that it is a brand with products focused on herbal ingredients. I love the natural scent and the light, refreshing texture of its serum. My favourite product is the First Care Activating Serum EX for its light texture and how it penetrates easily into my skin leaving it refreshed.” –\\xa0Min Luna\\nElisa Khong, 27, Communications Director for Kechara Soup Kitchen and Kechara Forest Retreat\\n\\n“My friends shared that Sulwhasoo is a reputable brand in beauty and I was attracted to the fact that Sulwhasoo infuses Korean medicinal herbs into their products. I just started on one last week. A serum is definitely something that I’d consider adding into my skincare routine – it’s light, refreshing and effective!” –\\xa0Elisa Khong\\nSiow Hui Mei, 33, TV Host\\n\\n“The range of Sulwhasoo products that I am using is not too greasy and heavy and it keeps my sensitive skin hydrated and radiant. The\\xa0First Care Activating Serum EX is the first layer that I apply after cleansing. It is lightweight, non-sticky and serves as a base that will absorb any moisturiser or serum that I apply after. Plus, I love waking up to softer and smoother skin the next morning. Putting on makeup is now much easier and lasts longer throughout the day.” –\\xa0Siow Hui Mei\\n\\n\\n\\nSHARE THE STORY\\n\\n\\n\\n\\n\\n\\n\\n\\n\\n\\n\\n\\n\\n\\n\\n\\n\\n\\n\\n\\n\\n\\n\\n\\n\\n\\n\\n\\n\\n\\n\\nExplore More\\n\\n\\nSerum\\nSulwhasoo\\nKorean\\nNews\\nBeauty\\nSkincare\\n\\n\\n\\n\\n\\n\\n\\n\\n\\n\\n\\n'"
      ]
     },
     "execution_count": 6,
     "metadata": {},
     "output_type": "execute_result"
    }
   ],
   "source": [
    "soup.find('section', {'class': 'section_page row'}).text"
   ]
  },
  {
   "cell_type": "code",
   "execution_count": 7,
   "metadata": {},
   "outputs": [
    {
     "name": "stderr",
     "output_type": "stream",
     "text": [
      "11819it [00:00, 147938.69it/s]\n"
     ]
    }
   ],
   "source": [
    "for no, url in tqdm(enumerate(urls)):\n",
    "    filename = os.path.join('page', f'{no}.json')\n",
    "    if os.path.exists(filename):\n",
    "        continue\n",
    "    \n",
    "    while True:\n",
    "        try:\n",
    "            r = requests.get(url)\n",
    "            break\n",
    "        except:\n",
    "            time.sleep(1.0)\n",
    "            \n",
    "    soup = BeautifulSoup(r.content, \"lxml\")\n",
    "\n",
    "    try:\n",
    "        title = soup.find('h1').text\n",
    "    except Exception as e:\n",
    "        title = None\n",
    "\n",
    "    try:\n",
    "        body = soup.find('section', {'class': 'section_page row'}).text\n",
    "    except Exception as e:\n",
    "        body = None\n",
    "\n",
    "    data = {\n",
    "        'url': url,\n",
    "        'title': title,\n",
    "        'body': body,\n",
    "    }\n",
    "    with open(filename, 'w') as fopen:\n",
    "        json.dump(data, fopen)"
   ]
  },
  {
   "cell_type": "code",
   "execution_count": null,
   "metadata": {},
   "outputs": [],
   "source": []
  }
 ],
 "metadata": {
  "kernelspec": {
   "display_name": "Python 3 (ipykernel)",
   "language": "python",
   "name": "python3"
  },
  "language_info": {
   "codemirror_mode": {
    "name": "ipython",
    "version": 3
   },
   "file_extension": ".py",
   "mimetype": "text/x-python",
   "name": "python",
   "nbconvert_exporter": "python",
   "pygments_lexer": "ipython3",
   "version": "3.8.10"
  }
 },
 "nbformat": 4,
 "nbformat_minor": 4
}
