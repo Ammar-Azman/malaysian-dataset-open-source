{
 "cells": [
  {
   "cell_type": "code",
   "execution_count": 1,
   "metadata": {},
   "outputs": [],
   "source": [
    "import requests\n",
    "from bs4 import BeautifulSoup\n",
    "from tqdm import tqdm\n",
    "import os\n",
    "import json\n",
    "import numpy as np\n",
    "import time\n",
    "import random\n",
    "import json"
   ]
  },
  {
   "cell_type": "code",
   "execution_count": 2,
   "metadata": {},
   "outputs": [],
   "source": [
    "r = requests.get('http://eniraimathi.blogspot.com',\n",
    "                verify = False)\n",
    "soup = BeautifulSoup(r.content, \"lxml\")"
   ]
  },
  {
   "cell_type": "code",
   "execution_count": 3,
   "metadata": {},
   "outputs": [],
   "source": [
    "!mkdir url"
   ]
  },
  {
   "cell_type": "code",
   "execution_count": 7,
   "metadata": {},
   "outputs": [
    {
     "data": {
      "text/plain": [
       "['http://eniraimathi.blogspot.com/2014/09/blog-post_36.html',\n",
       " 'http://eniraimathi.blogspot.com/2014/09/blog-post_97.html',\n",
       " 'http://eniraimathi.blogspot.com/2014/09/blog-post_17.html',\n",
       " 'http://eniraimathi.blogspot.com/2014/09/blog-post_3.html',\n",
       " 'http://eniraimathi.blogspot.com/2014/09/blog-post_27.html',\n",
       " 'http://eniraimathi.blogspot.com/2014/09/blog-post_39.html',\n",
       " 'http://eniraimathi.blogspot.com/2014/09/blog-post_87.html']"
      ]
     },
     "execution_count": 7,
     "metadata": {},
     "output_type": "execute_result"
    }
   ],
   "source": [
    "h3 = soup.find_all('h2', {'class': 'entry-title'})\n",
    "a = [h3_.find('a').get('href') for h3_ in h3]\n",
    "a"
   ]
  },
  {
   "cell_type": "code",
   "execution_count": 13,
   "metadata": {},
   "outputs": [],
   "source": [
    "def generator():\n",
    "    while True:\n",
    "        yield\n",
    "        \n",
    "index = 0\n",
    "url = 'http://eniraimathi.blogspot.com'\n",
    "for _ in tqdm(generator()):\n",
    "    r = requests.get(url, verify = False)\n",
    "    soup = BeautifulSoup(r.content, \"lxml\")\n",
    "    h3 = soup.find_all('h2', {'class': 'entry-title'})\n",
    "    a = [h3_.find('a').get('href') for h3_ in h3]\n",
    "    \n",
    "    with open(f'url/{index}.json', 'w') as fopen:\n",
    "        json.dump(a, fopen)\n",
    "    \n",
    "    url = soup.find('a', {'class': 'blog-pager-older-link'}).get('href')\n",
    "    index += 1"
   ]
  },
  {
   "cell_type": "code",
   "execution_count": 24,
   "metadata": {},
   "outputs": [
    {
     "data": {
      "text/plain": [
       "37"
      ]
     },
     "execution_count": 24,
     "metadata": {},
     "output_type": "execute_result"
    }
   ],
   "source": [
    "from glob import glob\n",
    "\n",
    "files = glob('url/*.json')\n",
    "urls = []\n",
    "for f in files:\n",
    "    with open(f) as fopen:\n",
    "        urls.extend(json.load(fopen))\n",
    "        \n",
    "urls = sorted(set(urls))\n",
    "len(urls)"
   ]
  },
  {
   "cell_type": "code",
   "execution_count": 25,
   "metadata": {},
   "outputs": [
    {
     "name": "stderr",
     "output_type": "stream",
     "text": [
      "100%|█████████████████████████████████████████████████████████████████████████████████████████████████████████████| 37/37 [00:51<00:00,  1.40s/it]\n"
     ]
    }
   ],
   "source": [
    "with open('eniraimathi.blogspot.com.jsonl', 'w') as fopen:\n",
    "    for url in tqdm(urls):\n",
    "        r = requests.get(url)\n",
    "        soup = BeautifulSoup(r.content, \"lxml\")\n",
    "        data = {\n",
    "            'url': url,\n",
    "            'title': soup.find('h1', {'class': 'post-title entry-title'}).text.strip(),\n",
    "            'body': soup.find('div', {'class': 'post-body entry-content'}).get_text(separator=\"\\n\").strip()\n",
    "        }\n",
    "        fopen.write(f'{json.dumps(data)}\\n')"
   ]
  },
  {
   "cell_type": "code",
   "execution_count": null,
   "metadata": {},
   "outputs": [],
   "source": []
  }
 ],
 "metadata": {
  "kernelspec": {
   "display_name": "Python 3 (ipykernel)",
   "language": "python",
   "name": "python3"
  },
  "language_info": {
   "codemirror_mode": {
    "name": "ipython",
    "version": 3
   },
   "file_extension": ".py",
   "mimetype": "text/x-python",
   "name": "python",
   "nbconvert_exporter": "python",
   "pygments_lexer": "ipython3",
   "version": "3.8.10"
  }
 },
 "nbformat": 4,
 "nbformat_minor": 4
}
