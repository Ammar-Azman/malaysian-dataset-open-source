{
 "cells": [
  {
   "cell_type": "code",
   "execution_count": 3,
   "metadata": {},
   "outputs": [],
   "source": [
    "import requests\n",
    "from bs4 import BeautifulSoup\n",
    "from tqdm import tqdm\n",
    "import os\n",
    "import json\n",
    "import numpy as np\n",
    "import time\n",
    "import random\n",
    "import json\n",
    "import urllib3\n",
    "urllib3.disable_warnings(urllib3.exceptions.InsecureRequestWarning)"
   ]
  },
  {
   "cell_type": "code",
   "execution_count": 2,
   "metadata": {},
   "outputs": [],
   "source": [
    "r = requests.get('https://malaysiaindru.my/?cat=1')"
   ]
  },
  {
   "cell_type": "code",
   "execution_count": 4,
   "metadata": {},
   "outputs": [],
   "source": [
    "soup = BeautifulSoup(r.content, \"lxml\")"
   ]
  },
  {
   "cell_type": "code",
   "execution_count": 21,
   "metadata": {
    "scrolled": true
   },
   "outputs": [
    {
     "data": {
      "text/plain": [
       "['/?cat=1', '/?cat=4', '/?cat=6', '/?cat=1033', '/?cat=9', '/?cat=3218']"
      ]
     },
     "execution_count": 21,
     "metadata": {},
     "output_type": "execute_result"
    }
   ],
   "source": [
    "a = soup.find_all('a')\n",
    "a = [a_.get('href') for a_ in a if '?cat=' in a_.get('href')]\n",
    "a"
   ]
  },
  {
   "cell_type": "code",
   "execution_count": 19,
   "metadata": {},
   "outputs": [
    {
     "data": {
      "text/plain": [
       "'https://malaysiaindru.my/category/news'"
      ]
     },
     "execution_count": 19,
     "metadata": {},
     "output_type": "execute_result"
    }
   ],
   "source": [
    "a = soup.find_all('a')\n",
    "[a_.get('href') for a_ in a if '/category' in a_.get('href')][0]"
   ]
  },
  {
   "cell_type": "code",
   "execution_count": 14,
   "metadata": {},
   "outputs": [
    {
     "data": {
      "text/plain": [
       "1204"
      ]
     },
     "execution_count": 14,
     "metadata": {},
     "output_type": "execute_result"
    }
   ],
   "source": [
    "page_num = soup.find_all('a', {'class': \"page-numbers\"})\n",
    "page_num = [a_.get('href', '').split('/page/')[-1] for a_ in page_num if '/page/' in a_.get('href', '')]\n",
    "if len(page_num):\n",
    "    page_num = max([int(i) for i in page_num])\n",
    "else:\n",
    "    page_num = 2\n",
    "page_num"
   ]
  },
  {
   "cell_type": "code",
   "execution_count": 17,
   "metadata": {},
   "outputs": [
    {
     "data": {
      "text/plain": [
       "[<a class=\"page-numbers\" href=\"https://malaysiaindru.my/category/news/page/2\">2</a>,\n",
       " <a class=\"page-numbers\" href=\"https://malaysiaindru.my/category/news/page/1204\">1,204</a>,\n",
       " <a class=\"next page-numbers\" href=\"https://malaysiaindru.my/category/news/page/2\"><i aria-hidden=\"true\" class=\"fa fa-angle-right\"></i></a>]"
      ]
     },
     "execution_count": 17,
     "metadata": {},
     "output_type": "execute_result"
    }
   ],
   "source": [
    "soup.find_all('a', {'class': \"page-numbers\"})"
   ]
  },
  {
   "cell_type": "code",
   "execution_count": 36,
   "metadata": {},
   "outputs": [],
   "source": [
    "!rm -rf url\n",
    "!mkdir url"
   ]
  },
  {
   "cell_type": "code",
   "execution_count": 38,
   "metadata": {},
   "outputs": [
    {
     "name": "stdout",
     "output_type": "stream",
     "text": [
      "/?cat=1\n"
     ]
    },
    {
     "name": "stderr",
     "output_type": "stream",
     "text": [
      "100%|█████████████████████████████████████████████████████████████████████████████████████████████████████| 1203/1203 [00:00<00:00, 396709.47it/s]\n"
     ]
    },
    {
     "name": "stdout",
     "output_type": "stream",
     "text": [
      "/?cat=4\n"
     ]
    },
    {
     "name": "stderr",
     "output_type": "stream",
     "text": [
      "100%|█████████████████████████████████████████████████████████████████████████████████████████████████████████████| 49/49 [00:36<00:00,  1.33it/s]\n"
     ]
    },
    {
     "name": "stdout",
     "output_type": "stream",
     "text": [
      "/?cat=6\n"
     ]
    },
    {
     "name": "stderr",
     "output_type": "stream",
     "text": [
      "100%|███████████████████████████████████████████████████████████████████████████████████████████████████████████| 360/360 [04:42<00:00,  1.28it/s]\n"
     ]
    },
    {
     "name": "stdout",
     "output_type": "stream",
     "text": [
      "/?cat=1033\n"
     ]
    },
    {
     "name": "stderr",
     "output_type": "stream",
     "text": [
      "100%|███████████████████████████████████████████████████████████████████████████████████████████████████████████| 362/362 [06:29<00:00,  1.07s/it]\n"
     ]
    },
    {
     "name": "stdout",
     "output_type": "stream",
     "text": [
      "/?cat=9\n"
     ]
    },
    {
     "name": "stderr",
     "output_type": "stream",
     "text": [
      "100%|█████████████████████████████████████████████████████████████████████████████████████████████████████████████| 40/40 [00:25<00:00,  1.56it/s]\n"
     ]
    },
    {
     "name": "stdout",
     "output_type": "stream",
     "text": [
      "/?cat=3218\n"
     ]
    },
    {
     "name": "stderr",
     "output_type": "stream",
     "text": [
      "100%|███████████████████████████████████████████████████████████████████████████████████████████████████████████████| 8/8 [00:07<00:00,  1.06it/s]\n"
     ]
    }
   ],
   "source": [
    "for a_ in a:\n",
    "    print(a_)\n",
    "    r = requests.get(f'https://malaysiaindru.my{a_}')\n",
    "    soup = BeautifulSoup(r.content, \"lxml\")\n",
    "    url = [a_.get('href') for a_ in soup.find_all('a') if '/category' in a_.get('href')][0]\n",
    "    page_num = soup.find_all('a', {'class': \"page-numbers\"})\n",
    "    page_num = [a_.get('href', '').split('/page/')[-1] for a_ in page_num if '/page/' in a_.get('href', '')]\n",
    "    if len(page_num):\n",
    "        page_num = max([int(i) for i in page_num])\n",
    "    else:\n",
    "        page_num = 2\n",
    "        \n",
    "    for i in tqdm(range(1, page_num, 1)):\n",
    "        \n",
    "        filename = os.path.join('url', f\"{a_.replace('/','')}-{i}.json\")\n",
    "        if os.path.exists(filename):\n",
    "            continue\n",
    "            \n",
    "        new_url = f'{url}/page/{i}'\n",
    "        r = requests.get(new_url)\n",
    "        soup = BeautifulSoup(r.content, \"lxml\")\n",
    "        articles = soup.find_all('article')\n",
    "        articles = [article.find('a').get('href') for article in articles]\n",
    "        with open(filename, 'w') as fopen:\n",
    "            json.dump(articles, fopen)"
   ]
  },
  {
   "cell_type": "code",
   "execution_count": null,
   "metadata": {},
   "outputs": [],
   "source": []
  }
 ],
 "metadata": {
  "kernelspec": {
   "display_name": "Python 3 (ipykernel)",
   "language": "python",
   "name": "python3"
  },
  "language_info": {
   "codemirror_mode": {
    "name": "ipython",
    "version": 3
   },
   "file_extension": ".py",
   "mimetype": "text/x-python",
   "name": "python",
   "nbconvert_exporter": "python",
   "pygments_lexer": "ipython3",
   "version": "3.8.10"
  }
 },
 "nbformat": 4,
 "nbformat_minor": 4
}
