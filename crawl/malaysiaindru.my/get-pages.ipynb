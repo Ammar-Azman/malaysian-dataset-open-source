{
 "cells": [
  {
   "cell_type": "code",
   "execution_count": 1,
   "metadata": {},
   "outputs": [],
   "source": [
    "import requests\n",
    "from bs4 import BeautifulSoup\n",
    "from tqdm import tqdm\n",
    "import os\n",
    "import json\n",
    "import numpy as np\n",
    "import time\n",
    "import random\n",
    "import json\n",
    "import urllib3\n",
    "urllib3.disable_warnings(urllib3.exceptions.InsecureRequestWarning)"
   ]
  },
  {
   "cell_type": "code",
   "execution_count": 2,
   "metadata": {},
   "outputs": [
    {
     "data": {
      "text/plain": [
       "2022"
      ]
     },
     "execution_count": 2,
     "metadata": {},
     "output_type": "execute_result"
    }
   ],
   "source": [
    "from glob import glob\n",
    "\n",
    "files = glob('url/*.json')\n",
    "len(files)"
   ]
  },
  {
   "cell_type": "code",
   "execution_count": 23,
   "metadata": {},
   "outputs": [
    {
     "data": {
      "text/plain": [
       "46479"
      ]
     },
     "execution_count": 23,
     "metadata": {},
     "output_type": "execute_result"
    }
   ],
   "source": [
    "urls = []\n",
    "for f in files:\n",
    "    with open(f) as fopen:\n",
    "        urls.extend(json.load(fopen))\n",
    "        \n",
    "urls = sorted(set(urls))\n",
    "len(urls)"
   ]
  },
  {
   "cell_type": "code",
   "execution_count": 6,
   "metadata": {},
   "outputs": [],
   "source": [
    "r = requests.get(urls[0])"
   ]
  },
  {
   "cell_type": "code",
   "execution_count": 10,
   "metadata": {},
   "outputs": [
    {
     "data": {
      "text/plain": [
       "'https://malaysiaindru.my/100007'"
      ]
     },
     "execution_count": 10,
     "metadata": {},
     "output_type": "execute_result"
    }
   ],
   "source": [
    "urls[0]"
   ]
  },
  {
   "cell_type": "code",
   "execution_count": 7,
   "metadata": {},
   "outputs": [],
   "source": [
    "soup = BeautifulSoup(r.content, \"lxml\")"
   ]
  },
  {
   "cell_type": "code",
   "execution_count": 12,
   "metadata": {},
   "outputs": [
    {
     "data": {
      "text/plain": [
       "'உ.பி. கலவரத்தின் பின்னணியில் அரசியல் சதி!'"
      ]
     },
     "execution_count": 12,
     "metadata": {},
     "output_type": "execute_result"
    }
   ],
   "source": [
    "soup.find('h2').text"
   ]
  },
  {
   "cell_type": "code",
   "execution_count": 14,
   "metadata": {},
   "outputs": [
    {
     "data": {
      "text/plain": [
       "'உத்தரப் பிரதேசத்தில் நடைபெற்ற கலவரத்தின் பின்னணியில் அரசியல் சதி இருக்கலாம் என்று மத்திய உள்துறை அமைச்சர் சுஷீல்குமார் ஷிண்டே சூசகமாகத் தெரிவித்தார்.\\nமாநிலத்தின் முசாஃபர்நகர் மற்றும் அதன் அண்டை மாவட்டங்களில் இரு வகுப்பினருக்கு இடையே கடந்த சனிக்கிழமை கலவரம் மூண்டது. இதில் உயிரிழந்தவர்களின் எண்ணிக்கை 40ஆகியுள்ளது. வன்முறையில் காயமடைந்தவர்கள் பல்வேறு மருத்துவமனைகளில் சிகிச்சை பெற்று வருகின்றனர்.\\nஇந்நிலையில், உத்தரப் பிரதேசத்தில் நடைபெற்ற கலவரத்தின் பின்னணியில் அரசியல் சதி உள்ளதாக மாநில முதல்வர் அகிலேஷ் யாதவ் கூறியது குறித்து மத்திய உள்துறை அமைச்சர் சுஷீல்குமார் ஷிண்டேவிடம் தில்லியில் செய்தியாளர்கள் புதன்கிழமை கேட்டனர். அதற்குப் பதிலளித்து அவர் கூறியது:\\nமுசாஃபர்நகரில் நடைபெற்ற வன்முறை குறித்து முழுமையான அறிக்கை வரும் வரை அரசியல் சதி குறித்து என்னால் கருத்து கூற இயலாது. ஆனால், அத்தகைய சதியில் அரசியல் கட்சிகள் ஈடுபட்டிருக்கலாம்.\\nமக்களவை பொதுத் தேர்தல் நெருங்கி வருவதை முன்னிட்டு, மதக் கலவரம் ஏற்படலாம் என்று 11 மாநிலங்களை மத்திய அரசு எச்சரித்திருந்தது. கலவலத்தால் பாதிக்கப்பட்ட மேற்கு உத்தரப்பிரதேசத்தில் நிலைமையில் கணிசமான முன்னேற்றம் ஏற்பட்டுள்ளது.\\nமாநிலத்தில் 8000 துணை ராணுவப் படையினர் குவிக்கப்பட்டுள்ளனர். ராணுவமும் பாதுகாப்புப் பணியில் ஈடுபட்டுள்ளது என்றார் சுஷீல்குமார் ஷிண்டே.\\nஊரடங்கு உத்தரவு: முசாஃபர்நகரில் நிலைமை கட்டுக்குள் இருப்பதாகவும் புதன்கிழமை புதிதாக அசம்பாவிதச் சம்பவம் எதுவும் நடைபெறவில்லை என்றும் மாவட்ட ஆட்சியர் கௌஷல் ராஜ் சர்மா தெரிவித்தார்.\\nமாநில சிறப்பு அதிரடிப்படை ஐ.ஜி. ஆசிஷ் குப்தா, லக்னௌவில் செய்தியாளர்களிடம் கூறுகையில், “”மாவட்டத்தின் கோத்வாலி, சிவில் லைன்ஸ், நை மண்டி ஆகிய பகுதிகளில் புதன்கிழமை மதியம் 12 முதல் மாலை 5 மணி வரை ஊரடங்கு உத்தரவு தளர்த்தப்பட்டது” என்றார். முன்னதாக இந்த மூன்று பகுதிகளிலும் கடந்த சனிக்கிழமை நிகழ்ந்த கலவரத்தைத் தொடர்ந்து ஊரடங்கு அமல்படுத்தப்பட்டது.\\nகாவலர் காயம்: இதனிடையே, பாக்பத் மாவட்டத்தில் உள்ள தீர்த்தால் கிராமத்தில் இரு வகுப்பினருக்கு இடையே மோதல் வெடித்தது. அப்போது நடைபெற்ற கல்வீச்சில் ஒரு காவலர் காயமடைந்தார்.\\nஅகிலேஷ் யாதவ் உத்தரவு: முசாஃபர்நகரில் கலவரத்தில் காயமடைந்தவர்களுக்கு இலவச மருத்துவ சிகிச்சை அளிப்பதற்கு உரிய ஏற்பாடுகளைச் செய்யுமாறு மாவட்ட ஆட்சியர் மற்றும் நகராட்சி ஆணையருக்கு முதல்வர் அகிலேஷ் யாதவ் உத்தரவிட்டுள்ளார்.\\nமுன்னதாக, கலவரத்தில் இறந்தவர்களின் குடும்பங்களுக்குத் தலா ரூ.10 லட்சம் இழப்பீட்டையும், காயமடைந்தவர்களுக்கு ரூ.50 ஆயிரம் நிதி உதவியையும் அகிலேஷ் யாதவ் அறிவித்திருந்தார்.\\nTAGS: \\nIndia\\nShare this:\\nFacebook\\nTwitter\\nWhatsApp\\nEmail\\nPrint\\nMore\\nLinkedIn\\nReddit\\nTumblr\\nPinterest\\nPocket\\nTelegram\\nSkype\\nLike this:\\nLike\\n \\nLoading...'"
      ]
     },
     "execution_count": 14,
     "metadata": {},
     "output_type": "execute_result"
    }
   ],
   "source": [
    "soup.find('div', {'class': 'entry-content'}).get_text(separator=\"\\n\").strip()"
   ]
  },
  {
   "cell_type": "code",
   "execution_count": 15,
   "metadata": {},
   "outputs": [],
   "source": [
    "!mkdir page"
   ]
  },
  {
   "cell_type": "code",
   "execution_count": 29,
   "metadata": {},
   "outputs": [],
   "source": [
    "from concurrent.futures import ThreadPoolExecutor, as_completed\n",
    "max_worker = 10\n",
    "\n",
    "def get_url(url, i):\n",
    "    \n",
    "    filename = os.path.join('page', f'{i}.json')\n",
    "    if os.path.exists(filename):\n",
    "        return\n",
    "    \n",
    "    try:\n",
    "        \n",
    "        r = requests.get(urls[i])\n",
    "        soup = BeautifulSoup(r.content, \"lxml\")\n",
    "\n",
    "        data = {\n",
    "            'url': urls[i],\n",
    "            'title': soup.find('h2').text.strip(),\n",
    "            'body': soup.find('div', {'class': 'entry-content'}).get_text(separator=\"\\n\").strip()\n",
    "        }\n",
    "\n",
    "        with open(filename, 'w') as fopen:\n",
    "            fopen.write(f'{json.dumps(data)}\\n')\n",
    "    except:\n",
    "        pass"
   ]
  },
  {
   "cell_type": "code",
   "execution_count": 30,
   "metadata": {},
   "outputs": [
    {
     "name": "stderr",
     "output_type": "stream",
     "text": [
      "100%|███████████████████████████████████████████████████████████████████████████████████████████████████████| 4648/4648 [5:31:41<00:00,  4.28s/it]\n"
     ]
    }
   ],
   "source": [
    "for i in tqdm(range(0, len(urls), max_worker)):\n",
    "    batch = urls[i: i + max_worker]\n",
    "    batch = [(urls[i + k], i + k) for k in range(len(batch))]\n",
    "    \n",
    "    with ThreadPoolExecutor(max_workers=max_worker) as executor:\n",
    "        futures = {executor.submit(get_url, *url): url for url in batch}\n",
    "\n",
    "        for future in as_completed(futures):\n",
    "            future.result()"
   ]
  },
  {
   "cell_type": "code",
   "execution_count": 31,
   "metadata": {},
   "outputs": [
    {
     "data": {
      "text/plain": [
       "46453"
      ]
     },
     "execution_count": 31,
     "metadata": {},
     "output_type": "execute_result"
    }
   ],
   "source": [
    "from glob import glob\n",
    "\n",
    "files = glob('page/*')\n",
    "len(files)"
   ]
  },
  {
   "cell_type": "code",
   "execution_count": 32,
   "metadata": {},
   "outputs": [],
   "source": [
    "with open(files[0]) as fopen:\n",
    "    data = json.load(fopen)"
   ]
  },
  {
   "cell_type": "code",
   "execution_count": 33,
   "metadata": {},
   "outputs": [
    {
     "data": {
      "text/plain": [
       "{'url': 'https://malaysiaindru.my/189633',\n",
       " 'title': 'இன்று 2,253 புதிய நோய்த்தொற்றுகள், பேராக்கில் பாதிப்புகளின் எண்ணிக்கை அதிகரிப்பு',\n",
       " 'body': 'கோவிட் 19\\n | நாட்டில் இன்று நண்பகல் வரையில், மொத்தம் 2,253 கோவிட் -19 புதிய நோய்த்தொற்றுகள் பதிவாகியுள்ளதாக சுகாதார அமைச்சு தெரிவித்துள்ளது.\\nபெரும்பாலான பாதிப்புகள் கிள்ளான் பள்ளத்தாக்கில் (755 நேர்வுகள்; 33.5 விழுக்காடு) பதிவாகியுள்ளன. அதேவேளையில், பேராக்கிலும் பாதிப்புகளின் எண்ணிக்கையில் (545 நேர்வுகள்; 24.2 விழுக்காடு) அதிகரிப்பு ஏற்பட்டுள்ளது.\\nஇதற்கிடையில், 11 புதிய இறப்புகள் இன்று பதிவு செய்யப்பட்டுள்ளன, அவர்களில் 5 பேர் மருத்துவமனைக்குக் கொண்டு வரப்பட்டபோது இறந்து இருந்தனர். இது தேசிய இறப்பு எண்ணிக்கையை 1,111-ஆக கொண்டுவருகிறது.\\nஇன்றைய இறப்புகள், சிலாங்கூர் (4), கோலாலம்பூர் (3), சரவாக் (2), சபா (1), ஜொகூர் (1) என பதிவாகியுள்ளன. இறந்தவர்களில் மூன்று பேர் மலேசியர் \\xa0அல்லாதவர்கள்.\\nஇன்று 3,085 நோயாளிகள் குணமடைந்து வீடு திரும்பியுள்ளனர். அவசரப் பிரிவில் 201 பேர் சிகிச்சை பெற்று வருகின்றனர், அவர்களில் 93 பேருக்குச் சுவாசக் கருவியின் உதவி தேவைப்படுகிறது.\\nபுத்ராஜெயா மற்றும் லாபுவானில் இன்று புதியத் தொற்றுகள் பதிவாகவில்லை.\\nமாநிலங்கள் வாரியாகப் புதியத் தொற்றின் எண்ணிக்கை பின்வருமாறு :-\\nசிலாங்கூர் (633), பேராக் (545), ஜொகூர் (276), சரவாக் (250), சபா (129), கோலாலம்பூர் (122), பினாங்கு (93), கிளாந்தான் (73), நெகிரி செம்பிலான் (68), கெடா (25), பஹாங் (21), மலாக்கா (13), பெர்லிஸ் (4), திரெங்கானு (1).\\nஇன்று 10 புதியத் திரளைகள் கண்டறியப்பட்டன. அவற்றுள் 8 பணியிடம் சார்ந்தவை.\\nShare this:\\nFacebook\\nTwitter\\nWhatsApp\\nEmail\\nPrint\\nMore\\nLinkedIn\\nReddit\\nTumblr\\nPinterest\\nPocket\\nTelegram\\nSkype\\nLike this:\\nLike\\n \\nLoading...'}"
      ]
     },
     "execution_count": 33,
     "metadata": {},
     "output_type": "execute_result"
    }
   ],
   "source": [
    "data"
   ]
  },
  {
   "cell_type": "code",
   "execution_count": 34,
   "metadata": {},
   "outputs": [],
   "source": [
    "with open('malaysiaindru.my.jsonl', 'w') as fopen_l:\n",
    "    for f in files:\n",
    "        with open(f) as fopen:\n",
    "            data = json.load(fopen)\n",
    "            fopen_l.write(f'{json.dumps(data)}\\n')"
   ]
  },
  {
   "cell_type": "code",
   "execution_count": null,
   "metadata": {},
   "outputs": [],
   "source": []
  }
 ],
 "metadata": {
  "kernelspec": {
   "display_name": "Python 3 (ipykernel)",
   "language": "python",
   "name": "python3"
  },
  "language_info": {
   "codemirror_mode": {
    "name": "ipython",
    "version": 3
   },
   "file_extension": ".py",
   "mimetype": "text/x-python",
   "name": "python",
   "nbconvert_exporter": "python",
   "pygments_lexer": "ipython3",
   "version": "3.8.10"
  }
 },
 "nbformat": 4,
 "nbformat_minor": 4
}
