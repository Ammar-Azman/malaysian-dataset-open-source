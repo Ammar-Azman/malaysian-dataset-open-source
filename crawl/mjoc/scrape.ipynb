{
 "cells": [
  {
   "cell_type": "markdown",
   "id": "a319457f-d813-4e9d-9931-8cec39718772",
   "metadata": {},
   "source": [
    "https://mjoc.uitm.edu.my/main/"
   ]
  },
  {
   "cell_type": "code",
   "execution_count": 13,
   "id": "0709224a-0715-4208-abec-5902f6801e19",
   "metadata": {},
   "outputs": [
    {
     "name": "stdout",
     "output_type": "stream",
     "text": [
      "Status Code: 200\n",
      "Publication menu found.\n",
      "Dropdown items found.\n",
      "Found 15 publication links.\n"
     ]
    }
   ],
   "source": [
    "import requests\n",
    "from bs4 import BeautifulSoup\n",
    "from urllib.parse import urljoin\n",
    "import json\n",
    "\n",
    "\n",
    "requests.packages.urllib3.disable_warnings(requests.packages.urllib3.exceptions.InsecureRequestWarning)\n",
    "\n",
    "base_url = 'https://mjoc.uitm.edu.my/main/#'\n",
    "publication_base_url = 'https://mjoc.uitm.edu.my/main/index.php/publication-2/'\n",
    "\n",
    "\n",
    "session = requests.Session()\n",
    "\n",
    "\n",
    "try:\n",
    "    headers = {\n",
    "        'User-Agent': 'Mozilla/5.0 (Windows NT 10.0; Win64; x64) AppleWebKit/537.36 (KHTML, like Gecko) Chrome/58.0.3029.110 Safari/537.3'\n",
    "    }\n",
    "    response = session.get(base_url, headers=headers, verify=False)\n",
    "    print(\"Status Code:\", response.status_code)\n",
    "    if response.status_code == 200:\n",
    "        soup = BeautifulSoup(response.content, 'html.parser')\n",
    "        publication_menu = soup.find('a', string='Publication')\n",
    "        if publication_menu:\n",
    "            print(\"Publication menu found.\")\n",
    "            parent_li = publication_menu.find_parent('li', class_='sp-menu-item')\n",
    "            if parent_li:\n",
    "                dropdown_items = parent_li.find('div', class_='sp-dropdown-inner')\n",
    "                if dropdown_items:\n",
    "                    print(\"Dropdown items found.\")\n",
    "                    volume_links = dropdown_items.find_all('a')\n",
    "                    publication_links = [urljoin(publication_base_url, link['href']) for link in volume_links]\n",
    "                    with open('D:\\\\opensource-projects\\\\mesolitica\\\\mjoc\\\\publication_links.json', 'w') as f:\n",
    "                        json.dump(publication_links, f)\n",
    "                    print(f\"Found {len(publication_links)} publication links.\")\n",
    "                else:\n",
    "                    print(\"Dropdown items not found.\")\n",
    "            else:\n",
    "                print(\"Parent 'li' not found.\")\n",
    "        else:\n",
    "            print(\"Publication menu not found.\")\n",
    "    else:\n",
    "        print(f\"Failed to fetch the main page, status code: {response.status_code}\")\n",
    "except Exception as e:\n",
    "    print(f\"An error occurred: {e}\")"
   ]
  },
  {
   "cell_type": "code",
   "execution_count": 18,
   "id": "e85d9b0d-2502-4da1-a4d8-bf0e4807e71d",
   "metadata": {},
   "outputs": [
    {
     "name": "stdout",
     "output_type": "stream",
     "text": [
      "Total PDF URLs found: 139\n",
      "PDF URLs saved to D:\\opensource-projects\\mesolitica\\mjoc\\pdfs\\full_pdf_urls.json\n"
     ]
    }
   ],
   "source": [
    "import requests\n",
    "from bs4 import BeautifulSoup\n",
    "from urllib.parse import urljoin\n",
    "import json\n",
    "\n",
    "\n",
    "requests.packages.urllib3.disable_warnings(requests.packages.urllib3.exceptions.InsecureRequestWarning)\n",
    "\n",
    "\n",
    "headers = {\n",
    "    'User-Agent': 'Mozilla/5.0 (Windows NT 10.0; Win64; x64) AppleWebKit/537.36 (KHTML, like Gecko) Chrome/58.0.3029.110 Safari/537.3',\n",
    "    'Accept': 'text/html,application/xhtml+xml,application/xml;q=0.9,image/webp,*/*;q=0.8',\n",
    "    'Accept-Language': 'en-US,en;q=0.5',\n",
    "}\n",
    "\n",
    "\n",
    "session = requests.Session()\n",
    "\n",
    "\n",
    "def extract_pdf_links(volume_url):\n",
    "    try:\n",
    "        volume_response = session.get(volume_url, headers=headers, verify=False)\n",
    "        if volume_response.status_code == 200:\n",
    "            volume_soup = BeautifulSoup(volume_response.content, 'html.parser')\n",
    "            pdf_links = [urljoin(publication_base_url, a['href']) for a in volume_soup.select('a[href$=\".pdf\"]')]\n",
    "            return pdf_links\n",
    "        else:\n",
    "            print(f\"Failed to fetch volume page {volume_url}, status code: {volume_response.status_code}\")\n",
    "            return []\n",
    "    except Exception as e:\n",
    "        print(f\"An error occurred while processing volume {volume_url}: {e}\")\n",
    "        return []\n",
    "\n",
    "\n",
    "with open('D:\\\\opensource-projects\\\\mesolitica\\\\mjoc\\\\publication_links.json', 'r') as fopen:\n",
    "    publication_links = json.load(fopen)\n",
    "\n",
    "full_pdf_urls = []\n",
    "\n",
    "\n",
    "for volume_link in publication_links:\n",
    "    pdf_links = extract_pdf_links(volume_link)\n",
    "    full_pdf_urls.extend(pdf_links)\n",
    "\n",
    "if full_pdf_urls:\n",
    "    print(f\"Total PDF URLs found: {len(full_pdf_urls)}\")\n",
    "else:\n",
    "    print(\"No PDF URLs were found.\")\n",
    "\n",
    "output_file = 'D:\\\\opensource-projects\\\\mesolitica\\\\mjoc\\\\full_pdf_urls.json'\n",
    "try:\n",
    "    with open(output_file, 'w') as fopen:\n",
    "        json.dump(full_pdf_urls, fopen)\n",
    "        print(f\"PDF URLs saved to {output_file}\")\n",
    "except Exception as e:\n",
    "    print(f\"An error occurred while saving PDF URLs to {output_file}: {e}\")\n"
   ]
  },
  {
   "cell_type": "code",
   "execution_count": 3,
   "id": "2035b15b-3473-4cce-9e6c-44751473e5c2",
   "metadata": {
    "scrolled": true
   },
   "outputs": [
    {
     "data": {
      "application/vnd.jupyter.widget-view+json": {
       "model_id": "ea882fb0ce0f4209b159be752d47d652",
       "version_major": 2,
       "version_minor": 0
      },
      "text/plain": [
       "  0%|          | 0/139 [00:00<?, ?it/s]"
      ]
     },
     "metadata": {},
     "output_type": "display_data"
    },
    {
     "name": "stdout",
     "output_type": "stream",
     "text": [
      "An error occurred with https://mjoc.uitm.edu.my/main/images/journal/vol8-1-2023/4_DESIGN_BUILD_AND_FLY_THE_UITM’S_VERTICAL_TAKE-OFF_AND_LANDING_(VTOL)_AIRCRAFT.pdf: cannot open broken document\n",
      "An error occurred with https://mjoc.uitm.edu.my/main/images/journal/vol8-1-2023/6_A SYSTEMATIC_LITERATURE_REVIEW_OF_MOBILE_APPLICATIONS_TO_ASSIST_PEOPLE_WITH_MILD_TO_MODERATE_DEMENTIA_IN_THEIR_DAILY_LIVES.pdf: cannot open broken document\n",
      "Extracted data saved to D:\\opensource-projects\\mesolitica\\mjoc\\mjoc_pdf_text.json\n"
     ]
    }
   ],
   "source": [
    "from tqdm.notebook import tqdm\n",
    "import fitz\n",
    "import os\n",
    "import requests\n",
    "import json\n",
    "import re\n",
    "\n",
    "requests.packages.urllib3.disable_warnings(requests.packages.urllib3.exceptions.InsecureRequestWarning)\n",
    "\n",
    "pdf_directory = 'D:\\\\opensource-projects\\\\mesolitica\\\\mjoc\\\\pdfs'\n",
    "os.makedirs(pdf_directory, exist_ok=True)\n",
    "\n",
    "session = requests.Session()\n",
    "headers = {\n",
    "    'User-Agent': 'Mozilla/5.0 (Windows NT 10.0; Win64; x64) AppleWebKit/537.36 (KHTML, like Gecko) Chrome/58.0.3029.110 Safari/537.3'\n",
    "}\n",
    "\n",
    "with open('D:\\\\opensource-projects\\\\mesolitica\\\\mjoc\\\\full_pdf_urls.json', 'r') as fopen:\n",
    "    full_pdf_urls = json.load(fopen)\n",
    "\n",
    "extracted_data = []\n",
    "\n",
    "for pdf_url in tqdm(full_pdf_urls):\n",
    "    try:\n",
    "        filename = pdf_url.split('/')[-1]\n",
    "        pdf_path = os.path.join(pdf_directory, filename)\n",
    "        \n",
    "        pdf_response = session.get(pdf_url, headers=headers, stream=True, verify=False)\n",
    "        with open(pdf_path, 'wb') as f:\n",
    "            f.write(pdf_response.content)\n",
    "        \n",
    "        with fitz.open(pdf_path) as doc:\n",
    "            full_text = \"\"\n",
    "            for page in doc:\n",
    "                full_text += page.get_text()\n",
    "\n",
    "        title_pattern = re.compile(r'([A-Z\\s]+)\\n')\n",
    "        authors_pattern = re.compile(r'([A-Z\\s]+)\\n(.+?)\\n', re.DOTALL)\n",
    "\n",
    "        title_search = title_pattern.search(full_text)\n",
    "        authors_search = authors_pattern.search(full_text)\n",
    "\n",
    "        title = title_search.group(1).strip() if title_search else 'Title not found'\n",
    "        authors = authors_search.group(2).strip() if authors_search else 'Authors not found'\n",
    "        \n",
    "        clean_full_text = re.sub(r'\\s+', ' ', full_text.replace('\\n', ' ')).strip()\n",
    "        \n",
    "        extracted_data.append({\n",
    "            'url': pdf_url,\n",
    "            'title': title,\n",
    "            'authors': authors,\n",
    "            'text': clean_full_text\n",
    "        })\n",
    "    except Exception as e:\n",
    "        print(f\"An error occurred with {pdf_url}: {e}\")\n",
    "\n",
    "output_json_path = 'D:\\\\opensource-projects\\\\mesolitica\\\\mjoc\\\\mjoc_pdf_text.json'\n",
    "\n",
    "with open(output_json_path, 'w', encoding='utf-8') as f:\n",
    "    for entry in extracted_data:\n",
    "        json_string = json.dumps(entry, ensure_ascii=False)\n",
    "        f.write(f'{{\"url\": \"{entry[\"url\"]}\", \"title\": \"{entry[\"title\"]}\", \"authors\": \"{entry[\"authors\"]}\", \"text\": \"{entry[\"text\"]}\"}}\\n')\n",
    "\n",
    "print(f\"Extracted data saved to {output_json_path}\")\n"
   ]
  }
 ],
 "metadata": {
  "kernelspec": {
   "display_name": "Python 3 (ipykernel)",
   "language": "python",
   "name": "python3"
  },
  "language_info": {
   "codemirror_mode": {
    "name": "ipython",
    "version": 3
   },
   "file_extension": ".py",
   "mimetype": "text/x-python",
   "name": "python",
   "nbconvert_exporter": "python",
   "pygments_lexer": "ipython3",
   "version": "3.12.2"
  }
 },
 "nbformat": 4,
 "nbformat_minor": 5
}
