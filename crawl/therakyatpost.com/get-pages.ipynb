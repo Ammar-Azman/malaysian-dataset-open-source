{
 "cells": [
  {
   "cell_type": "code",
   "execution_count": 1,
   "metadata": {},
   "outputs": [],
   "source": [
    "import requests\n",
    "from bs4 import BeautifulSoup\n",
    "from tqdm import tqdm\n",
    "import os\n",
    "import json\n",
    "import numpy as np\n",
    "import time\n",
    "import random\n",
    "import json"
   ]
  },
  {
   "cell_type": "code",
   "execution_count": 2,
   "metadata": {},
   "outputs": [
    {
     "data": {
      "text/plain": [
       "11483"
      ]
     },
     "execution_count": 2,
     "metadata": {},
     "output_type": "execute_result"
    }
   ],
   "source": [
    "from glob import glob\n",
    "\n",
    "files = glob('url/*.json')\n",
    "urls = []\n",
    "for f in files:\n",
    "    with open(f) as fopen:\n",
    "        urls.extend(json.load(fopen))\n",
    "urls = sorted(list(set(urls)))\n",
    "len(urls)"
   ]
  },
  {
   "cell_type": "code",
   "execution_count": 3,
   "metadata": {},
   "outputs": [],
   "source": [
    "!mkdir page"
   ]
  },
  {
   "cell_type": "code",
   "execution_count": 4,
   "metadata": {},
   "outputs": [],
   "source": [
    "r = requests.get(urls[0])\n",
    "soup = BeautifulSoup(r.content, \"lxml\")"
   ]
  },
  {
   "cell_type": "code",
   "execution_count": 8,
   "metadata": {},
   "outputs": [
    {
     "data": {
      "text/plain": [
       "'https://www.therakyatpost.com/bimber-lifestyle/2021/07/15/i-had-dinner-with-100-strangers-online-and-heres-what-happened/'"
      ]
     },
     "execution_count": 8,
     "metadata": {},
     "output_type": "execute_result"
    }
   ],
   "source": [
    "urls[0]"
   ]
  },
  {
   "cell_type": "code",
   "execution_count": 7,
   "metadata": {},
   "outputs": [
    {
     "data": {
      "text/plain": [
       "'I Had Dinner With 100 Strangers Online And Here’s What Happened'"
      ]
     },
     "execution_count": 7,
     "metadata": {},
     "output_type": "execute_result"
    }
   ],
   "source": [
    "soup.find('h1').text"
   ]
  },
  {
   "cell_type": "code",
   "execution_count": 10,
   "metadata": {},
   "outputs": [
    {
     "data": {
      "text/plain": [
       "'\\nSubscribe to our\\xa0Telegram\\xa0channel for the latest stories and updates.\\n\\nWith most of Malaysia under the Movement Control Order (MCO) or the Enhanced Movement Control Order (EMCO), it feels like it has been ages since I was able to have a drink with strangers. This begs the question, given the current situation, would an entire hosted dinner online work?\\n\\nPersonally, I have never been a fan of online events, many argue that it’s the future but to me, it can’t compare to the conversations you have with strangers who end up seated next to you. \\nHaving to go through an entire course dinner, you always leave with new found friends. \\xa0\\xa0Despite my prejudices going into this, Hennessy X.O Odyssey Home campaign did not disappoint.\\n\\nThe Format\\nTaking notes from their ground event management experience, the process was seamless. \\nThe concierge kindly notified me prior to the dinner and a beautiful 35.cl bottle of Hennessy X.O was sent over along with with other goodies like the stylized food package which comes with heating instructions.\\n\\nThe dinner started at 8pm and was hosted by Shing Queen. The show began with ice breaking and understandably, having 100 people talk at once wouldn’t work so essentially, you would type in what you wanted to say and the host would react or read out your comment. \\nWithin the zoom call you are also able to talk to individual attendees by searching their name. This came in handy for private yam seng calls and sessions.\\nYou will be given a different menu depending on which state you were in – which is understandable given the logistics of the endeavour.\\n\\nThe host introduced each menu, the background of the Chefs and the restaurants involved to take guests on an odyssey and explore the depths of Hennessy X.O’s 7 Worlds.Swapping between English and Mandarin, guests were guided through various set course meals and many complimented on the multitude of flavours that Hennessy X.O embodies. \\nFrom sweet notes, rising heat, spicy edges, flowing flames, chocolate lull, wood crunches and even culminating in infinite echo – each drop of Hennessy is an odyssey.This was followed by a brand walk through with Hennessy X.O’s ambassador Chong who took questions and enlightened us on history of the brand.\\nThe Food\\nSkillet were the ones responsible for preparing the food and they are quite popular among KL foodies after the establishment first opened it’s doors in 2015. \\nThey are no strangers when it comers to accolades as they’ve took home multiple awards with their latest being listed in “the Top 20 restaurants in Malaysia 2021” by Tatler Malaysia. \\nHelmed by Chef Raymond Tham, they offer a variety of Modern European cuisines.\\n\\nThe menu for the dinner was specifically curated for this event with all the dishes being created using the finest ingredients paired perfectly with Hennessy X.O. \\xa0 \\nAs is common in most fine dining affairs, the starters did not disappoint. \\nConsisting of a set of four, I was spoiled with prawn head aioli, oyster’s tempura with fermented tomato coulis, skillet’s truffle and a Duck & Foie Gras Croquette.\\n\\nMeanwhile, the main consisted of Lamb Pithivier which is basically a home made puff pastry consisting of mushrooms and lamb but what made this stand out was the addition of Jus and notably a Hennessy Truffle Emulsion spray and summer white truffles.\\nThis ensured that the pie was not dry which is common given the logistical demands of the dinner. Armed with these ample additions one could adjust the preferred flavours of this dish easily.\\n\\nThe Artisan cheese box consisted of 3 types of cold cuts, 4 types of European cheeses, grapes, walnut and crackers as well as a prune compote. Nothing significantly outside the norm here. \\nThe only let down of the dinner was the Hennessy chocolate Mousse which whilst rich and flavourful came in a tiny jar which made navigating the dish with even a dessert spoon almost impossible.\\nThe Company\\nI left the dinner having made a few friends via the private chat function. This was a reprieve given the isolation that many of us have felt whether in MCO or EMCO. One user who I will not name had a drink with me as we spoke about what isolation was like with his wife.\\n\\nSome other familiar faces that I have met at previous events opted to continue the party online as the dinner ended.The company was great and the crowd for the most part, they were active and this was driven mainly by the host of the event striking a balance between engaging the audience whilst giving them their time to do their own thing.However, there were a few online guests who did not show their camera or were otherwise passive. I think this was probably due to many not having had haircuts for weeks. For this, I would humbly suggest wearing a cap.\\nThe Verdict\\nHaving been put in an online room with 100 strangers not expecting much as I personally hate online events, I am happy to say I was presently surprised by the food and the rundown of the event. It came as a much-needed reprieve during lockdown but I would however suggest a larger dessert jar. \\nFor those interested in trying the food and drink do visit this website or you can purchase Hennessy X.O. on Shopee.\\n\\nShare your thoughts with us via TRP’s\\xa0Facebook,\\xa0Twitter, and\\xa0Instagram.\\n\\n'"
      ]
     },
     "execution_count": 10,
     "metadata": {},
     "output_type": "execute_result"
    }
   ],
   "source": [
    "soup.find('div', {'class': 'post-content'}).text"
   ]
  },
  {
   "cell_type": "code",
   "execution_count": null,
   "metadata": {},
   "outputs": [
    {
     "name": "stderr",
     "output_type": "stream",
     "text": [
      "6559it [2:10:29,  1.49s/it]IOPub message rate exceeded.\n",
      "The notebook server will temporarily stop sending output\n",
      "to the client in order to avoid crashing it.\n",
      "To change this limit, set the config variable\n",
      "`--NotebookApp.iopub_msg_rate_limit`.\n",
      "\n",
      "Current values:\n",
      "NotebookApp.iopub_msg_rate_limit=1000.0 (msgs/sec)\n",
      "NotebookApp.rate_limit_window=3.0 (secs)\n",
      "\n",
      "8273it [2:49:19,  1.04s/it]"
     ]
    }
   ],
   "source": [
    "for no, url in tqdm(enumerate(urls)):\n",
    "    filename = os.path.join('page', f'{no}.json')\n",
    "    if os.path.exists(filename):\n",
    "        continue\n",
    "    \n",
    "    while True:\n",
    "        try:\n",
    "            r = requests.get(url)\n",
    "            break\n",
    "        except:\n",
    "            time.sleep(1.0)\n",
    "            \n",
    "    soup = BeautifulSoup(r.content, \"lxml\")\n",
    "\n",
    "    try:\n",
    "        title = soup.find('h1').text\n",
    "    except Exception as e:\n",
    "        title = None\n",
    "\n",
    "    try:\n",
    "        body = soup.find('div', {'class': 'post-content'}).text\n",
    "    except Exception as e:\n",
    "        body = None\n",
    "\n",
    "    data = {\n",
    "        'url': url,\n",
    "        'title': title,\n",
    "        'body': body,\n",
    "    }\n",
    "    with open(filename, 'w') as fopen:\n",
    "        json.dump(data, fopen)"
   ]
  },
  {
   "cell_type": "code",
   "execution_count": null,
   "metadata": {},
   "outputs": [],
   "source": []
  }
 ],
 "metadata": {
  "kernelspec": {
   "display_name": "Python 3 (ipykernel)",
   "language": "python",
   "name": "python3"
  },
  "language_info": {
   "codemirror_mode": {
    "name": "ipython",
    "version": 3
   },
   "file_extension": ".py",
   "mimetype": "text/x-python",
   "name": "python",
   "nbconvert_exporter": "python",
   "pygments_lexer": "ipython3",
   "version": "3.8.10"
  }
 },
 "nbformat": 4,
 "nbformat_minor": 4
}
