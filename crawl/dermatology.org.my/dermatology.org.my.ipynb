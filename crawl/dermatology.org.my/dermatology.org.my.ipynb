{
 "cells": [
  {
   "cell_type": "code",
   "execution_count": 1,
   "id": "76e7a0ff",
   "metadata": {},
   "outputs": [
    {
     "name": "stderr",
     "output_type": "stream",
     "text": [
      "/home/husein/.local/lib/python3.8/site-packages/requests/__init__.py:102: RequestsDependencyWarning: urllib3 (1.26.15) or chardet (5.2.0)/charset_normalizer (2.0.7) doesn't match a supported version!\n",
      "  warnings.warn(\"urllib3 ({}) or chardet ({})/charset_normalizer ({}) doesn't match a supported \"\n"
     ]
    }
   ],
   "source": [
    "import requests\n",
    "from bs4 import BeautifulSoup"
   ]
  },
  {
   "cell_type": "code",
   "execution_count": 4,
   "id": "182ccbe4",
   "metadata": {},
   "outputs": [],
   "source": [
    "cookies = {\n",
    "    '_ga': 'GA1.3.748161653.1700470356',\n",
    "    '_gid': 'GA1.3.844182494.1700470356',\n",
    "    '_ga_K3YJ93G42S': 'GS1.3.1700540517.2.0.1700540517.0.0.0',\n",
    "}\n",
    "\n",
    "headers = {\n",
    "    'Accept': 'text/html,application/xhtml+xml,application/xml;q=0.9,image/avif,image/webp,image/apng,*/*;q=0.8,application/signed-exchange;v=b3;q=0.7',\n",
    "    'Accept-Language': 'en-MY,en;q=0.9,en-US;q=0.8,ms;q=0.7',\n",
    "    'Cache-Control': 'no-cache',\n",
    "    'Connection': 'keep-alive',\n",
    "    # 'Cookie': '_ga=GA1.3.748161653.1700470356; _gid=GA1.3.844182494.1700470356; _ga_K3YJ93G42S=GS1.3.1700540517.2.0.1700540517.0.0.0',\n",
    "    'Pragma': 'no-cache',\n",
    "    'Sec-Fetch-Dest': 'document',\n",
    "    'Sec-Fetch-Mode': 'navigate',\n",
    "    'Sec-Fetch-Site': 'none',\n",
    "    'Sec-Fetch-User': '?1',\n",
    "    'Upgrade-Insecure-Requests': '1',\n",
    "    'User-Agent': 'Mozilla/5.0 (Macintosh; Intel Mac OS X 10_15_7) AppleWebKit/537.36 (KHTML, like Gecko) Chrome/119.0.0.0 Safari/537.36',\n",
    "    'sec-ch-ua': '\"Google Chrome\";v=\"119\", \"Chromium\";v=\"119\", \"Not?A_Brand\";v=\"24\"',\n",
    "    'sec-ch-ua-mobile': '?0',\n",
    "    'sec-ch-ua-platform': '\"macOS\"',\n",
    "}"
   ]
  },
  {
   "cell_type": "code",
   "execution_count": 5,
   "id": "5f807333",
   "metadata": {},
   "outputs": [],
   "source": [
    "r = requests.get('https://www.dermatology.org.my/malaysia_journal.php', cookies = cookies, headers = headers)"
   ]
  },
  {
   "cell_type": "code",
   "execution_count": 9,
   "id": "c6b8ccf4",
   "metadata": {},
   "outputs": [],
   "source": [
    "soup = BeautifulSoup(r.content)\n",
    "a = soup.find_all('a')\n",
    "a = ['https://www.dermatology.org.my/' + a_.get('href') for a_ in a if a_.get('href').endswith('.pdf')]"
   ]
  },
  {
   "cell_type": "code",
   "execution_count": 11,
   "id": "19dfd277",
   "metadata": {},
   "outputs": [
    {
     "data": {
      "text/plain": [
       "48"
      ]
     },
     "execution_count": 11,
     "metadata": {},
     "output_type": "execute_result"
    }
   ],
   "source": [
    "urls_combined = sorted(list(set(a)))\n",
    "len(urls_combined)"
   ]
  },
  {
   "cell_type": "code",
   "execution_count": 12,
   "id": "e9e6d7d4",
   "metadata": {},
   "outputs": [],
   "source": [
    "!mkdir dermatology.org.my"
   ]
  },
  {
   "cell_type": "code",
   "execution_count": 15,
   "id": "6cb42425",
   "metadata": {},
   "outputs": [
    {
     "name": "stderr",
     "output_type": "stream",
     "text": [
      "100%|███████████████████████████████████████████| 48/48 [01:18<00:00,  1.63s/it]\n"
     ]
    }
   ],
   "source": [
    "import os\n",
    "from tqdm import tqdm\n",
    "\n",
    "pdfs = urls_combined\n",
    "for i in tqdm(range(len(pdfs))):\n",
    "    filename = os.path.join('dermatology.org.my', f'{i}.pdf')\n",
    "    if os.path.exists(filename):\n",
    "        continue\n",
    "        \n",
    "    u = pdfs[i]\n",
    "        \n",
    "    r = requests.get(u)\n",
    "    with open(filename, 'wb') as fopen:\n",
    "        fopen.write(r.content)"
   ]
  },
  {
   "cell_type": "code",
   "execution_count": 16,
   "id": "209a2ab6",
   "metadata": {},
   "outputs": [],
   "source": [
    "from glob import glob\n",
    "from tika import parser\n",
    "import json\n",
    "\n",
    "TIKA_HOST = 'http://localhost:9998'"
   ]
  },
  {
   "cell_type": "code",
   "execution_count": 17,
   "id": "b4c3dbdc",
   "metadata": {},
   "outputs": [
    {
     "name": "stderr",
     "output_type": "stream",
     "text": [
      "100%|███████████████████████████████████████████| 48/48 [00:06<00:00,  7.74it/s]\n"
     ]
    }
   ],
   "source": [
    "files = glob('dermatology.org.my/*.pdf')\n",
    "\n",
    "with open('dermatology.org.my.jsonl', 'w') as fopen:\n",
    "    for f in tqdm(files):\n",
    "        try:\n",
    "            raw_xml = parser.from_file(f, TIKA_HOST, xmlContent=True)\n",
    "            body = BeautifulSoup(raw_xml['content']).find('body')\n",
    "            t = '\\n'.join(body.findAll(text=True))\n",
    "            fopen.write(f'{json.dumps(t)}\\n')\n",
    "        except:\n",
    "            pass"
   ]
  },
  {
   "cell_type": "code",
   "execution_count": null,
   "id": "341993f9",
   "metadata": {},
   "outputs": [],
   "source": []
  }
 ],
 "metadata": {
  "kernelspec": {
   "display_name": "Python 3 (ipykernel)",
   "language": "python",
   "name": "python3"
  },
  "language_info": {
   "codemirror_mode": {
    "name": "ipython",
    "version": 3
   },
   "file_extension": ".py",
   "mimetype": "text/x-python",
   "name": "python",
   "nbconvert_exporter": "python",
   "pygments_lexer": "ipython3",
   "version": "3.8.10"
  }
 },
 "nbformat": 4,
 "nbformat_minor": 5
}
