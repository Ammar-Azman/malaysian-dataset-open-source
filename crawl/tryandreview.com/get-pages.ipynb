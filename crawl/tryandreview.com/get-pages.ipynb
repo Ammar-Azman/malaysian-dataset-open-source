{
 "cells": [
  {
   "cell_type": "code",
   "execution_count": 1,
   "metadata": {},
   "outputs": [],
   "source": [
    "import requests\n",
    "from bs4 import BeautifulSoup\n",
    "from tqdm import tqdm\n",
    "import os\n",
    "import json\n",
    "import numpy as np\n",
    "import time\n",
    "import random\n",
    "import json"
   ]
  },
  {
   "cell_type": "code",
   "execution_count": 2,
   "metadata": {},
   "outputs": [],
   "source": [
    "r = requests.get('https://www.tryandreview.com/my-en/face/garnier/product/garnier-men-acnofight-6-in-1-anti-acne-foam-garnier#details')\n",
    "soup = BeautifulSoup(r.content, \"lxml\")"
   ]
  },
  {
   "cell_type": "code",
   "execution_count": 3,
   "metadata": {},
   "outputs": [],
   "source": [
    "desc = soup.find('div', {'class' : 'test-product block-main-information'})\n",
    "reviews = soup.find('div', {'class': 'bloc-reviews revs-container p-body-product'})"
   ]
  },
  {
   "cell_type": "code",
   "execution_count": 4,
   "metadata": {},
   "outputs": [
    {
     "data": {
      "text/plain": [
       "'\\n\\n\\n\\n\\n\\n\\n\\n\\n\\n\\n\\n\\n\\n\\n\\nView all\\nPhotos & Videos\\n\\n\\n\\n\\n\\n\\n4.5\\n\\n11 reviews\\n\\n\\n\\n                                        82% recommend this product!\\n                                    \\n\\n\\n                                                Post your review\\n                                            \\n\\n\\n\\n\\n\\n Garnier\\n Men AcnoFight 6-in-1 Anti-Acne Foam\\n\\n\\n\\n\\nGarnier\\n\\nFace\\n\\n\\n\\nPackaging :\\n                                                     100ml\\n\\nRetail Price :\\n                                                     S$7.10\\n\\n\\n\\n\\n\\n\\n\\nGarnier Men AcnoFight 6-in-1 Anti-Ance Foam contains natural ingredients to fight against six major acne problems:- pimples- blackheads- visible pores- redness- oily skin- and acne marks\\n\\n\\n\\n\\n\\n\\n'"
      ]
     },
     "execution_count": 4,
     "metadata": {},
     "output_type": "execute_result"
    }
   ],
   "source": [
    "desc.text"
   ]
  },
  {
   "cell_type": "code",
   "execution_count": 5,
   "metadata": {},
   "outputs": [
    {
     "data": {
      "text/plain": [
       "[<div class=\"d-none\" itemprop=\"reviewBody\">memang guna jenama nie.. sejak guna muka bnyk sngt kurangnya jerawat pada muka. saya perempuan tapi guna garnier for men.</div>,\n",
       " <div class=\"d-none\" itemprop=\"reviewBody\">Suami sangat suka menggunakannya. Sudah lama setia dgn brand nie. Muka terasa segar dan bersih selepas mencuci menggunakan garnier anti-acne foam.</div>,\n",
       " <div class=\"d-none\" itemprop=\"reviewBody\">Muka jadi makin bersih dan bebas jerawat. Kulit muka jadi xberminyak dan lembut</div>,\n",
       " <div class=\"d-none\" itemprop=\"reviewBody\">My husband has oily skin. So I bought him this face wash and it made a difference. My husband's skin is less oily and no pimples at all. It also gives a minty feel which makes him feels fresh after washing his face with Garnier Men Acno Fight 6 in 1 Anti Acne Foam.</div>,\n",
       " <div class=\"d-none\" itemprop=\"reviewBody\">Gives optimum cleanings and clear acne . Really suits my skin.</div>]"
      ]
     },
     "execution_count": 5,
     "metadata": {},
     "output_type": "execute_result"
    }
   ],
   "source": [
    "reviews.find_all('div', {'itemprop':\"reviewBody\"})"
   ]
  },
  {
   "cell_type": "code",
   "execution_count": 14,
   "metadata": {},
   "outputs": [],
   "source": [
    "!rm -rf page\n",
    "!mkdir page"
   ]
  },
  {
   "cell_type": "code",
   "execution_count": 19,
   "metadata": {},
   "outputs": [
    {
     "data": {
      "text/plain": [
       "5553"
      ]
     },
     "execution_count": 19,
     "metadata": {},
     "output_type": "execute_result"
    }
   ],
   "source": [
    "with open('a.json') as fopen:\n",
    "    urls = json.load(fopen)\n",
    "    \n",
    "len(urls)"
   ]
  },
  {
   "cell_type": "code",
   "execution_count": 21,
   "metadata": {},
   "outputs": [
    {
     "data": {
      "text/plain": [
       "['/my-en/unassigned/jurlique/product/the-iconic-collection',\n",
       " '/my-en/unassigned/jurlique/product/tranquil-blend-essential-oil',\n",
       " '/my-en/unassigned/lunasol/product/compact-case-face-s',\n",
       " '/my-en/unassigned/lunasol/product/compact-casefacen',\n",
       " '/my-en/unassigned/lunasol/product/powder-brush-n',\n",
       " '/my-en/unassigned/nyx-cosmetics/product/brush-cup',\n",
       " '/my-en/unassigned/party/product/chinese-new-year-pair-of-small-firecrackers',\n",
       " '/my-en/unassigned/party/product/chinese-new-year-red-felt-with-golden-trimming-chinese-lantern',\n",
       " '/my-en/unassigned/party/product/chinese-new-year-yellow-lion-tissuebox',\n",
       " '/my-en/unassigned/tiger-balm/product/tiger-balm-mosquito-repellent-spray-tiger-balm']"
      ]
     },
     "execution_count": 21,
     "metadata": {},
     "output_type": "execute_result"
    }
   ],
   "source": [
    "urls[-10:]"
   ]
  },
  {
   "cell_type": "code",
   "execution_count": 12,
   "metadata": {},
   "outputs": [
    {
     "data": {
      "text/plain": [
       "'/my-en/beauty/lip/nyx-cosmetics/product/wanderlust-lip-eye-collection'"
      ]
     },
     "execution_count": 12,
     "metadata": {},
     "output_type": "execute_result"
    }
   ],
   "source": [
    "urls[0]"
   ]
  },
  {
   "cell_type": "code",
   "execution_count": 23,
   "metadata": {},
   "outputs": [
    {
     "name": "stderr",
     "output_type": "stream",
     "text": [
      "5553it [33:47,  2.74it/s]\n"
     ]
    }
   ],
   "source": [
    "for no, url in tqdm(enumerate(urls)):\n",
    "    filename = os.path.join('page', f'{no}.json')\n",
    "    if os.path.exists(filename):\n",
    "        continue\n",
    "    \n",
    "    while True:\n",
    "        try:\n",
    "            r = requests.get('https://www.tryandreview.com' + url)\n",
    "            break\n",
    "        except:\n",
    "            time.sleep(1.0)\n",
    "            \n",
    "    soup = BeautifulSoup(r.content, \"lxml\")\n",
    "    \n",
    "    desc = soup.find('div', {'class' : 'test-product block-main-information'})\n",
    "    reviews = soup.find('div', {'class': 'bloc-reviews revs-container p-body-product'})\n",
    "    try:\n",
    "        reviews_text = reviews.find_all('div', {'itemprop':\"reviewBody\"})\n",
    "        reviews_text = [t.text for t in reviews_text]\n",
    "    except:\n",
    "        reviews_text = None\n",
    "\n",
    "\n",
    "    data = {\n",
    "        'url': url,\n",
    "        'desc_html': str(desc),\n",
    "        'reviews_html': str(reviews),\n",
    "        'reviews_text': reviews_text,\n",
    "    }\n",
    "    with open(filename, 'w') as fopen:\n",
    "        json.dump(data, fopen)"
   ]
  },
  {
   "cell_type": "code",
   "execution_count": null,
   "metadata": {},
   "outputs": [],
   "source": []
  }
 ],
 "metadata": {
  "kernelspec": {
   "display_name": "Python 3 (ipykernel)",
   "language": "python",
   "name": "python3"
  },
  "language_info": {
   "codemirror_mode": {
    "name": "ipython",
    "version": 3
   },
   "file_extension": ".py",
   "mimetype": "text/x-python",
   "name": "python",
   "nbconvert_exporter": "python",
   "pygments_lexer": "ipython3",
   "version": "3.8.10"
  }
 },
 "nbformat": 4,
 "nbformat_minor": 4
}
