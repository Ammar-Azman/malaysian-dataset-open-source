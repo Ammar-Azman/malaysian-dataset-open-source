{
 "cells": [
  {
   "cell_type": "code",
   "execution_count": 3,
   "id": "619e53f9",
   "metadata": {},
   "outputs": [],
   "source": [
    "import requests\n",
    "from bs4 import BeautifulSoup"
   ]
  },
  {
   "cell_type": "code",
   "execution_count": 9,
   "id": "93555690",
   "metadata": {},
   "outputs": [],
   "source": [
    "cookies = {\n",
    "    'PHPSESSID': 'h2glnidvr89u8th4p3qigkb454',\n",
    "    '_ga': 'GA1.1.1495483368.1700470376',\n",
    "    '_ga_NT9PXBDS5B': 'GS1.1.1700492954.2.1.1700492971.43.0.0',\n",
    "}\n",
    "\n",
    "headers = {\n",
    "    'authority': 'www.newera.edu.my',\n",
    "    'accept': 'text/html,application/xhtml+xml,application/xml;q=0.9,image/avif,image/webp,image/apng,*/*;q=0.8,application/signed-exchange;v=b3;q=0.7',\n",
    "    'accept-language': 'en-MY,en;q=0.9,en-US;q=0.8,ms;q=0.7',\n",
    "    'cache-control': 'no-cache',\n",
    "    # 'cookie': 'PHPSESSID=h2glnidvr89u8th4p3qigkb454; _ga=GA1.1.1495483368.1700470376; _ga_NT9PXBDS5B=GS1.1.1700492954.2.1.1700492971.43.0.0',\n",
    "    'pragma': 'no-cache',\n",
    "    'sec-ch-ua': '\"Google Chrome\";v=\"119\", \"Chromium\";v=\"119\", \"Not?A_Brand\";v=\"24\"',\n",
    "    'sec-ch-ua-mobile': '?0',\n",
    "    'sec-ch-ua-platform': '\"macOS\"',\n",
    "    'sec-fetch-dest': 'document',\n",
    "    'sec-fetch-mode': 'navigate',\n",
    "    'sec-fetch-site': 'none',\n",
    "    'sec-fetch-user': '?1',\n",
    "    'upgrade-insecure-requests': '1',\n",
    "    'user-agent': 'Mozilla/5.0 (Macintosh; Intel Mac OS X 10_15_7) AppleWebKit/537.36 (KHTML, like Gecko) Chrome/119.0.0.0 Safari/537.36',\n",
    "}"
   ]
  },
  {
   "cell_type": "code",
   "execution_count": 21,
   "id": "378956b7",
   "metadata": {},
   "outputs": [],
   "source": [
    "r = requests.get('https://www.newera.edu.my/publication.php?id=4805&pub=mjcs', cookies = cookies, headers = headers)"
   ]
  },
  {
   "cell_type": "code",
   "execution_count": 22,
   "id": "52762d86",
   "metadata": {},
   "outputs": [],
   "source": [
    "soup = BeautifulSoup(r.content)"
   ]
  },
  {
   "cell_type": "code",
   "execution_count": 23,
   "id": "9d4b1508",
   "metadata": {
    "scrolled": true
   },
   "outputs": [
    {
     "data": {
      "text/plain": [
       "['publication.php?id=4803&pub=mjcs',\n",
       " 'publication.php?id=4887&pub=mjcs',\n",
       " 'publication.php?id=4805&pub=mjcs',\n",
       " 'publication.php?id=4804&pub=mjcs',\n",
       " 'publication.php?id=4807&pub=mjcs',\n",
       " 'publication.php?id=4808&pub=mjcs',\n",
       " 'publication.php?id=4831&pub=mjcs',\n",
       " 'publication.php?id=4832&pub=mjcs',\n",
       " 'publication.php?id=4830&pub=mjcs',\n",
       " 'publication.php?id=4835&pub=mjcs',\n",
       " 'publication.php?id=4836&pub=mjcs',\n",
       " 'publication.php?id=4827&pub=mjcs',\n",
       " 'publication.php?id=4828&pub=mjcs',\n",
       " 'publication.php?id=4825&pub=mjcs',\n",
       " 'publication.php?id=4826&pub=mjcs',\n",
       " 'publication.php?id=4823&pub=mjcs',\n",
       " 'publication.php?id=4824&pub=mjcs',\n",
       " 'publication.php?id=4822&pub=mjcs']"
      ]
     },
     "execution_count": 23,
     "metadata": {},
     "output_type": "execute_result"
    }
   ],
   "source": [
    "a = soup.find_all('a')\n",
    "a = [a_.get('href') for a_ in a if '&pub=mjcs' in a_.get('href', '') and 'http' not in a_.get('href', '')]\n",
    "a"
   ]
  },
  {
   "cell_type": "code",
   "execution_count": 25,
   "id": "d7123950",
   "metadata": {},
   "outputs": [
    {
     "name": "stderr",
     "output_type": "stream",
     "text": [
      "100%|███████████████████████████████████████████| 18/18 [00:03<00:00,  4.76it/s]\n"
     ]
    },
    {
     "data": {
      "text/plain": [
       "87"
      ]
     },
     "execution_count": 25,
     "metadata": {},
     "output_type": "execute_result"
    }
   ],
   "source": [
    "from tqdm import tqdm\n",
    "\n",
    "pdfs = []\n",
    "\n",
    "for a_ in tqdm(a):\n",
    "    url = f'http://www.newera.edu.my/{a_}'\n",
    "    r = requests.get(url, cookies = cookies, headers = headers)\n",
    "    soup = BeautifulSoup(r.content)\n",
    "    a_ = [a_.get('href').replace('/article/view/', '/article/download/') for a_ in soup.find_all('a') if '/article/view/' in a_.get('href', '') or a_.get('href', '').endswith('.pdf')]\n",
    "    pdfs.extend(a_)\n",
    "    \n",
    "len(set(pdfs))"
   ]
  },
  {
   "cell_type": "code",
   "execution_count": 27,
   "id": "f7a4ea55",
   "metadata": {},
   "outputs": [],
   "source": [
    "pdfs = sorted(list(set(pdfs)))"
   ]
  },
  {
   "cell_type": "code",
   "execution_count": 34,
   "id": "7f1777a3",
   "metadata": {},
   "outputs": [
    {
     "name": "stderr",
     "output_type": "stream",
     "text": [
      "100%|███████████████████████████████████████████| 87/87 [01:12<00:00,  1.20it/s]\n"
     ]
    }
   ],
   "source": [
    "import os\n",
    "\n",
    "for i in tqdm(range(len(pdfs))):\n",
    "    filename = os.path.join('newera.edu.my', f'{i}.pdf')\n",
    "    if os.path.exists(filename):\n",
    "        continue\n",
    "        \n",
    "    u = pdfs[i].split('/files')[1]\n",
    "    u = f'https://www.newera.edu.my/files{u}'\n",
    "        \n",
    "    r = requests.get(u, cookies = cookies, headers = headers)\n",
    "    with open(filename, 'wb') as fopen:\n",
    "        fopen.write(r.content)"
   ]
  },
  {
   "cell_type": "code",
   "execution_count": 35,
   "id": "8a0933ad",
   "metadata": {},
   "outputs": [],
   "source": [
    "from glob import glob\n",
    "from tika import parser\n",
    "import json\n",
    "\n",
    "TIKA_HOST = 'http://localhost:9998'"
   ]
  },
  {
   "cell_type": "code",
   "execution_count": null,
   "id": "f267b0a5",
   "metadata": {},
   "outputs": [
    {
     "name": "stderr",
     "output_type": "stream",
     "text": [
      " 25%|██████████▊                                | 22/87 [00:21<01:02,  1.03it/s]"
     ]
    }
   ],
   "source": [
    "files = glob('newera.edu.my/*.pdf')\n",
    "\n",
    "with open('newera.edu.my.jsonl', 'w') as fopen:\n",
    "    for f in tqdm(files):\n",
    "        raw_xml = parser.from_file(f, TIKA_HOST, xmlContent=True)\n",
    "        body = BeautifulSoup(raw_xml['content']).find('body')\n",
    "        t = '\\n'.join(body.findAll(text=True))\n",
    "        fopen.write(f'{json.dumps(t)}\\n')"
   ]
  },
  {
   "cell_type": "code",
   "execution_count": null,
   "id": "5970fdb7",
   "metadata": {},
   "outputs": [],
   "source": []
  }
 ],
 "metadata": {
  "kernelspec": {
   "display_name": "Python 3 (ipykernel)",
   "language": "python",
   "name": "python3"
  },
  "language_info": {
   "codemirror_mode": {
    "name": "ipython",
    "version": 3
   },
   "file_extension": ".py",
   "mimetype": "text/x-python",
   "name": "python",
   "nbconvert_exporter": "python",
   "pygments_lexer": "ipython3",
   "version": "3.8.10"
  }
 },
 "nbformat": 4,
 "nbformat_minor": 5
}
