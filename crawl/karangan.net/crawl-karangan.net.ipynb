{
 "cells": [
  {
   "cell_type": "code",
   "execution_count": 1,
   "metadata": {},
   "outputs": [],
   "source": [
    "import requests\n",
    "from bs4 import BeautifulSoup\n",
    "from tqdm import tqdm"
   ]
  },
  {
   "cell_type": "code",
   "execution_count": 2,
   "metadata": {},
   "outputs": [],
   "source": [
    "r = requests.get('https://karangan.net/contoh-karangan/')\n",
    "soup = BeautifulSoup(r.text, \"lxml\")"
   ]
  },
  {
   "cell_type": "code",
   "execution_count": 5,
   "metadata": {},
   "outputs": [
    {
     "data": {
      "text/plain": [
       "False"
      ]
     },
     "execution_count": 5,
     "metadata": {},
     "output_type": "execute_result"
    }
   ],
   "source": [
    "href.count('/') == 2"
   ]
  },
  {
   "cell_type": "code",
   "execution_count": 16,
   "metadata": {},
   "outputs": [
    {
     "data": {
      "text/plain": [
       "193"
      ]
     },
     "execution_count": 16,
     "metadata": {},
     "output_type": "execute_result"
    }
   ],
   "source": [
    "hrefs = []\n",
    "for link in soup.find_all(\"a\"):\n",
    "    href = link.get(\"href\")\n",
    "    if href.count('/') != 4 or 'https' not in href or 'comment-' in href:\n",
    "        continue\n",
    "    hrefs.append(href)\n",
    "hrefs = list(set(hrefs[5: -1]))\n",
    "len(hrefs)"
   ]
  },
  {
   "cell_type": "code",
   "execution_count": 41,
   "metadata": {},
   "outputs": [
    {
     "name": "stderr",
     "output_type": "stream",
     "text": [
      "100%|█████████████████████████████████████████| 193/193 [03:49<00:00,  1.19s/it]\n"
     ]
    }
   ],
   "source": [
    "data = []\n",
    "for h in tqdm(hrefs):\n",
    "    r_ = requests.get(h)\n",
    "    soup = BeautifulSoup(r_.text, \"lxml\")\n",
    "    \n",
    "    hs = []\n",
    "    for h in soup.find_all(\"h3\"):\n",
    "        span = h.find('span')\n",
    "        if span is not None and span.get('class')[0] == 'ez-toc-section':\n",
    "            hs.append(h.text)\n",
    "        \n",
    "    ps = []\n",
    "    for p in soup.find_all(\"p\"):\n",
    "        if len(p.text.split()) > 30:\n",
    "            ps.append(p.text)\n",
    "            if p.text.startswith('Kesimpulannya') or p.text.startswith('Konklusinya'):\n",
    "                break\n",
    "    \n",
    "    data.append({'h': hs, 'p': ps})"
   ]
  },
  {
   "cell_type": "code",
   "execution_count": 42,
   "metadata": {},
   "outputs": [
    {
     "data": {
      "text/plain": [
       "193"
      ]
     },
     "execution_count": 42,
     "metadata": {},
     "output_type": "execute_result"
    }
   ],
   "source": [
    "len(data)"
   ]
  },
  {
   "cell_type": "code",
   "execution_count": 43,
   "metadata": {},
   "outputs": [
    {
     "data": {
      "text/plain": [
       "{'h': ['Mengelakkan masalah obesiti',\n",
       "  'mengurangkan risiko penyakit kronik',\n",
       "  'menggalakkan tumbesaran badan',\n",
       "  'Kesimpulan Karangan'],\n",
       " 'p': ['Secara umumnya, amalan makanan seimbang merujuk kepada budaya makan yang sihat mengikut piramid makanan bagi keperluan tubuh badan. Hal ini amat penting bagi memastikan kesihatan tubuh badan pada tahap yang paling baik. Menurut pakar pemakanan, seorang manusia memerlukan makanan yang berkhasiat dan zat penting, khususnya golongan kanak-kanak dan oran tua. Sungguhpun budaya ini sering diwara-warakan di media massa, namun sambutan yang diterima agak dingin. Hal ini dikatakan demikian kerana kebanyakan ibu bapa tiada masa untuk menyediakan hidangan lantaran pulang lewat ke rumah akibat desakan kerja.',\n",
       "  'Tambahan pula, makanan berkhasiat yang mahal menyebabkan ibu bapa berfikir dua kali untuk membelinya kerana kos sara hidup yang kian meningkat. Tidak lupa juga, kempen yang dilakukan oleh Kementerian Kesihatan tidak menyeluruh dan bermusim menyebabkan seruan ini umpama mencurah air ke daun keladi. Persoalannya, apakah kepentingan-kepentingan pemakanan seimbang kepada kesihatan masyarakat?',\n",
       "  'Antara kepentingan makanan seimbang kepada kesihatan masyarakat ialah budaya ini dapat mengelakkan masalah obesiti yang kian kronik. Tahukah anda bahawa kanak- kanak dan remaja di Malaysia dikatakan paling obes di Asia Tenggara? Sesungguhnya, pendedahan ini bukan berita yang sedap didengar oleh telinga tetapi perlu dirisaukan oleh ibu bapa. Contohnya, makanan yang bergoreng seperti ayam goreng, kentang goreng dan roti canai perlulah dielakkan kerana mempunyai lemak yang tinggi. Makanan bersantan seperti nasi lemak, kari ayam dan gulai juga hendaklah dikurangkan walaupun kita tahu bahawa makanan ini menjadi pilihan masyarakat Malaysia. Tidak ketinggalan, minuman bergula seperti teh tarik dan minuman berkarbonat juga perlu dihindari kerana gula boleh menyumbang kepada obesiti.',\n",
       "  'Kesannya, amalan pemakanan yang seimbang ini dapat mengurangkan kolesterol dalam tubuh. Oleh itu, impian kudus kerajaan yang ingin mewujudkan masyarakat yang sihat dapat direalisasikan. Jangan sudah terhantuk baru hendak terngadah kerana lebih baik sesal dahulu pendapatan, sesal kemudian tidak berguna.',\n",
       "  'Selain itu, pemakanan seimbang yang mengikut piramid makanan boleh mengurangkan risiko penyakit kronik dalam kalangan masyarakat. Statistik menunjukkan bahawa seorang daripada lima orang dewasa di Malaysia menghidapi diabetes manakala penyakit jantung diisytiharkan sebagai pembunuh senyap nombor satu negara. Walaupun penyakit ini bukan disebabkan pemakanan sepenuhnya, namun budaya pemakanan yang tidak sihat juga menjadi faktor pendorong juga. Namun begitu, peribahasa Cina ada menukilkan bahawa penyakit itu berpunca daripada mulut. Misalnya, masyarakat perlulah mengurangkan kadar gula dalam minuman tetapi membanyakkan minum air kosong.',\n",
       "  'Bukan itu sahaja, makanan bergaram seperti snek, makanan segera dan garam dalam makanan hendaklah dikurangkan kerana boleh menyebabkan hipertensi atau darah tinggi. Makanan berkolesterol seperti piza, burger dan ayam goreng juga perlu dielakkan kerana lemak tepu yang terhasil akan menyempitkan salur darah. Bukankah mengecah lebih baik daripada mengubati kerana langkah pencegahan perlu dilakukan sebelum kudis menjadi tokak? Impaknya, masyarakat dapat hidup sihat dan cerdas tanpa penyakit.',\n",
       "  'Seterusnya, budaya makanan seimbang mengikut piramid makanan dapat menggalakkan tumbesaran badan, khususnya golongan kanak-kanak dan remaja. Umum mengetahui bahawa makanan yang berkhasiat amat penting bagi kanak-kanak dan remaja kerana pada ketika ini mereka mengalami proses tumbesaran. Seandainya kita meninjau negara yang mengalami masalah kebuluran seperti Afrika, banyak kanak-kanak yang mengalami penyakit kwashiorkor, riket, skurvi dan beri-beri kerana kekurangan nutrisi. Umpamanya, masyarakat perlulah mengambil protein seperti ayam, daging, sotong dan ketam dalam kadar yang betul demi membentuk tisu-tisu baharu dan menggantikan tisu yang rosak.',\n",
       "  'Masyarakat juga hendaklah mengambil makanan berkalsium seperti susu, keju dan dadih untuk menguatkan struktur tulang dan gigi. Tambahan pula, bijirin seperti kacang soya, kacang hijau dan kacang merah serta sayur-sayuran dan buah-buahan hendaklah diambil kerana dapat membantu proses penghadaman. Implikasinya, masyarakat dapat mengelakkan penyakit malnutrisi seterusnya menjamin kesihatan diri kerana badan sihat, otak cerdas.',\n",
       "  'Secara kesimpulannya, terdapat seribu satu kepentingan makanan seimbang mengikut piramid makanan seperti yang dianjurkan oleh Kementerian Kesihatan. Sehubungan dengan itu, semua pihak perlulah berganding bahu bagai aur dengan tebing dalam memikul obligasi untuk melahirkan masyarakat yang sihat. Oleh hal yang demikian, pihak sekolah perlulah mengeluarkan garis panduan yang ketat kepada pihak kantin untuk menjual makanan yang berkhasiat. Kerajaan melalui Kementerian Kesihatan Malaysia pula hendaklah melakukan pemantauan secara berkala di premis makanan dan pasar raya bagi memastikan masakan yang dijual berkhasiat dan tidak membahayakan kesihatan.',\n",
       "  'Tindakan yang paling utama ialah ibu bapa haruslah bijak menghidangkan makanan yang berkhasiat dengan cara yang paling kreatif sejak kecil kerana melentur buluh biarlah dari rebungnya. Hal ini berpunca daripada kajian menunjukkan bahawa anak-anak kecil tidak gemar akan sayur-sayuran dan buah-buahan. Semoga dengan usaha sederap ini bagai lagu dengan irama dapat melahirkan generasi yang sihat kerana merekalah menjadi tonggak negara seperti peribahasa pemuda harapan bangsa, pemudi tiang negara. Akhir kata, tepuk tanya tanya selera kerana tanpa kesedaran dalam diri, segala usaha yang direncanakan akan menjadi angan-angan Mat Jenin.']}"
      ]
     },
     "execution_count": 43,
     "metadata": {},
     "output_type": "execute_result"
    }
   ],
   "source": [
    "data[-1]"
   ]
  },
  {
   "cell_type": "code",
   "execution_count": 44,
   "metadata": {},
   "outputs": [],
   "source": [
    "import json\n",
    "\n",
    "with open('karangan.net.json', 'w') as fopen:\n",
    "    json.dump(data, fopen)"
   ]
  }
 ],
 "metadata": {
  "kernelspec": {
   "display_name": "Python 3 (ipykernel)",
   "language": "python",
   "name": "python3"
  },
  "language_info": {
   "codemirror_mode": {
    "name": "ipython",
    "version": 3
   },
   "file_extension": ".py",
   "mimetype": "text/x-python",
   "name": "python",
   "nbconvert_exporter": "python",
   "pygments_lexer": "ipython3",
   "version": "3.8.10"
  }
 },
 "nbformat": 4,
 "nbformat_minor": 4
}
