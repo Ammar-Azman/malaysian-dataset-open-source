{
 "cells": [
  {
   "cell_type": "code",
   "execution_count": 2,
   "metadata": {},
   "outputs": [],
   "source": [
    "import requests\n",
    "from bs4 import BeautifulSoup\n",
    "from tqdm import tqdm\n",
    "import os\n",
    "import json\n",
    "import numpy as np\n",
    "import time\n",
    "import random\n",
    "import json"
   ]
  },
  {
   "cell_type": "code",
   "execution_count": 3,
   "metadata": {},
   "outputs": [],
   "source": [
    "topics = [\n",
    "    'https://www.carsifu.my/news',\n",
    "    'https://www.carsifu.my/car-reviews',\n",
    "    'https://www.carsifu.my/bike-reviews',\n",
    "]"
   ]
  },
  {
   "cell_type": "code",
   "execution_count": 6,
   "metadata": {},
   "outputs": [],
   "source": [
    "cookies = {\n",
    "    '_gid': 'GA1.2.1774589498.1688827808',\n",
    "    '_pcid': '%7B%22browserId%22%3A%22lju4h0iqcndtfxp8%22%7D',\n",
    "    'cX_P': 'lju4h0iqcndtfxp8',\n",
    "    '_pctx': '%7Bu%7DN4IgrgzgpgThIC4B2YA2qA05owMoBcBDfSREQpAeyRCwgEt8oBJAEzIEYOAWAZgAYATAHZ%2BADl68xwwRwEBWQSAC%2BQA',\n",
    "    '__stgeo': 'IjAi',\n",
    "    '__stbpnenable': 'MQ==',\n",
    "    '__stdf': 'MA==',\n",
    "    'cX_G': 'cx%3A1i0t3fg74zq623k3k9afr0x7u3%3A2nq99z7wrkb6x',\n",
    "    '__stp': 'eyJ2aXNpdCI6InJldHVybmluZyIsInV1aWQiOiIwYzljYmIyZC02MTliLTQxMGItYTQzZS01YTg1N2EwMjhmODAifQ==',\n",
    "    'XSRF-TOKEN': 'eyJpdiI6ImZGQlwvVGVHSkc4UE9CMjk1ZGlpcEpBPT0iLCJ2YWx1ZSI6InhrbUlrM2FKZlpROWU5XC91bnFESnJ3WTV1NzBidDdHNXFtaExFUHBNOThXQVBmTVZUTXFTTmVJTzB3bHRra0crNnZOMEIzYUpUcHQ2Tk5ZNVpjNERPdz09IiwibWFjIjoiYzBlOGQ4ZGYxMjIzMzRhZjZmYjg3NjcxYTVjNDJmZDg0OGE1ZjljZWU5NmRkZmFlYTI4MmI3YTZmOTQ5NWQ1MiJ9',\n",
    "    'carsifu_session': 'eyJpdiI6IkZjUG1DYnQrTkcrS0k0c3ZkUjNxYUE9PSIsInZhbHVlIjoidmgzUm9xaGpqSFJQVkswb2J3SmtyQ3V4emlXbEI5REhuUlJ5R1drRmc3ZDk3UHQwOWVlNzB1TzhyVTYwZmJSamFIWGI2eWU3MGl3c3NCWlI0VnhYeHc9PSIsIm1hYyI6IjIzYWJmM2IyOTM4YzVjZjk4MmU1NzZjZGU5NTgxMjE0YzM4YmQwOGRjYmFiMDcyOTIzNDk4MDBhOTI5ZmM5NTIifQ%3D%3D',\n",
    "    '_ga_QF13J11YBW': 'GS1.1.1688889128.2.1.1688889384.35.0.0',\n",
    "    '_ga': 'GA1.1.2139008171.1688827808',\n",
    "    '__sts': 'eyJzaWQiOjE2ODg4ODkxMjgzODEsInR4IjoxNjg4ODg5Mzg0MjgwLCJ1cmwiOiJodHRwcyUzQSUyRiUyRnd3dy5jYXJzaWZ1Lm15JTJGIiwicGV0IjoxNjg4ODg5Mzg0MjgwLCJzZXQiOjE2ODg4ODkxMjgzODEsInBVcmwiOiJodHRwcyUzQSUyRiUyRnd3dy5jYXJzaWZ1Lm15JTJGYmlrZS1yZXZpZXdzIiwicFBldCI6MTY4ODg4OTM2NzcxNywicFR4IjoxNjg4ODg5MzY3NzE3fQ==',\n",
    "}\n",
    "\n",
    "headers = {\n",
    "    'authority': 'www.carsifu.my',\n",
    "    'accept': 'text/html,application/xhtml+xml,application/xml;q=0.9,image/avif,image/webp,image/apng,*/*;q=0.8,application/signed-exchange;v=b3;q=0.7',\n",
    "    'accept-language': 'en-MY,en;q=0.9,en-US;q=0.8,ms;q=0.7',\n",
    "    'cache-control': 'no-cache',\n",
    "    # 'cookie': '_gid=GA1.2.1774589498.1688827808; _pcid=%7B%22browserId%22%3A%22lju4h0iqcndtfxp8%22%7D; cX_P=lju4h0iqcndtfxp8; _pctx=%7Bu%7DN4IgrgzgpgThIC4B2YA2qA05owMoBcBDfSREQpAeyRCwgEt8oBJAEzIEYOAWAZgAYATAHZ%2BADl68xwwRwEBWQSAC%2BQA; __stgeo=IjAi; __stbpnenable=MQ==; __stdf=MA==; cX_G=cx%3A1i0t3fg74zq623k3k9afr0x7u3%3A2nq99z7wrkb6x; __stp=eyJ2aXNpdCI6InJldHVybmluZyIsInV1aWQiOiIwYzljYmIyZC02MTliLTQxMGItYTQzZS01YTg1N2EwMjhmODAifQ==; XSRF-TOKEN=eyJpdiI6ImZGQlwvVGVHSkc4UE9CMjk1ZGlpcEpBPT0iLCJ2YWx1ZSI6InhrbUlrM2FKZlpROWU5XC91bnFESnJ3WTV1NzBidDdHNXFtaExFUHBNOThXQVBmTVZUTXFTTmVJTzB3bHRra0crNnZOMEIzYUpUcHQ2Tk5ZNVpjNERPdz09IiwibWFjIjoiYzBlOGQ4ZGYxMjIzMzRhZjZmYjg3NjcxYTVjNDJmZDg0OGE1ZjljZWU5NmRkZmFlYTI4MmI3YTZmOTQ5NWQ1MiJ9; carsifu_session=eyJpdiI6IkZjUG1DYnQrTkcrS0k0c3ZkUjNxYUE9PSIsInZhbHVlIjoidmgzUm9xaGpqSFJQVkswb2J3SmtyQ3V4emlXbEI5REhuUlJ5R1drRmc3ZDk3UHQwOWVlNzB1TzhyVTYwZmJSamFIWGI2eWU3MGl3c3NCWlI0VnhYeHc9PSIsIm1hYyI6IjIzYWJmM2IyOTM4YzVjZjk4MmU1NzZjZGU5NTgxMjE0YzM4YmQwOGRjYmFiMDcyOTIzNDk4MDBhOTI5ZmM5NTIifQ%3D%3D; _ga_QF13J11YBW=GS1.1.1688889128.2.1.1688889384.35.0.0; _ga=GA1.1.2139008171.1688827808; __sts=eyJzaWQiOjE2ODg4ODkxMjgzODEsInR4IjoxNjg4ODg5Mzg0MjgwLCJ1cmwiOiJodHRwcyUzQSUyRiUyRnd3dy5jYXJzaWZ1Lm15JTJGIiwicGV0IjoxNjg4ODg5Mzg0MjgwLCJzZXQiOjE2ODg4ODkxMjgzODEsInBVcmwiOiJodHRwcyUzQSUyRiUyRnd3dy5jYXJzaWZ1Lm15JTJGYmlrZS1yZXZpZXdzIiwicFBldCI6MTY4ODg4OTM2NzcxNywicFR4IjoxNjg4ODg5MzY3NzE3fQ==',\n",
    "    'pragma': 'no-cache',\n",
    "    'referer': 'https://www.carsifu.my/bike-reviews',\n",
    "    'sec-ch-ua': '\"Not.A/Brand\";v=\"8\", \"Chromium\";v=\"114\", \"Google Chrome\";v=\"114\"',\n",
    "    'sec-ch-ua-mobile': '?0',\n",
    "    'sec-ch-ua-platform': '\"macOS\"',\n",
    "    'sec-fetch-dest': 'document',\n",
    "    'sec-fetch-mode': 'navigate',\n",
    "    'sec-fetch-site': 'same-origin',\n",
    "    'sec-fetch-user': '?1',\n",
    "    'upgrade-insecure-requests': '1',\n",
    "    'user-agent': 'Mozilla/5.0 (Macintosh; Intel Mac OS X 10_15_7) AppleWebKit/537.36 (KHTML, like Gecko) Chrome/114.0.0.0 Safari/537.36',\n",
    "}"
   ]
  },
  {
   "cell_type": "code",
   "execution_count": 14,
   "metadata": {},
   "outputs": [
    {
     "data": {
      "text/plain": [
       "23"
      ]
     },
     "execution_count": 14,
     "metadata": {},
     "output_type": "execute_result"
    }
   ],
   "source": [
    "r = requests.get(topics[1], cookies=cookies, headers=headers)\n",
    "soup = BeautifulSoup(r.content, \"lxml\")\n",
    "a = soup.find_all('a')\n",
    "a = [a_.get('href') for a_ in a if '/?page=' in a_.get('href', '')]\n",
    "nums = []\n",
    "for a_ in a:\n",
    "    nums.append(int(a_.split('/?page=')[1]))\n",
    "    \n",
    "max(nums)"
   ]
  },
  {
   "cell_type": "code",
   "execution_count": 22,
   "metadata": {},
   "outputs": [],
   "source": [
    "!rm -rf url\n",
    "!mkdir url"
   ]
  },
  {
   "cell_type": "code",
   "execution_count": 23,
   "metadata": {},
   "outputs": [
    {
     "name": "stdout",
     "output_type": "stream",
     "text": [
      "https://www.carsifu.my/news\n"
     ]
    },
    {
     "name": "stderr",
     "output_type": "stream",
     "text": [
      "100%|███████████████████████████████████████████████████████████████████████████████████████████| 997/997 [22:52<00:00,  1.38s/it]\n"
     ]
    },
    {
     "name": "stdout",
     "output_type": "stream",
     "text": [
      "https://www.carsifu.my/car-reviews\n"
     ]
    },
    {
     "name": "stderr",
     "output_type": "stream",
     "text": [
      "100%|█████████████████████████████████████████████████████████████████████████████████████████████| 23/23 [00:27<00:00,  1.21s/it]\n"
     ]
    },
    {
     "name": "stdout",
     "output_type": "stream",
     "text": [
      "https://www.carsifu.my/bike-reviews\n"
     ]
    },
    {
     "name": "stderr",
     "output_type": "stream",
     "text": [
      "100%|███████████████████████████████████████████████████████████████████████████████████████████████| 4/4 [00:04<00:00,  1.08s/it]\n"
     ]
    }
   ],
   "source": [
    "def generator():\n",
    "    while True:\n",
    "        yield\n",
    "\n",
    "for t in topics:\n",
    "    print(t)\n",
    "    t_ = t.split('my/')[1].replace('/', '-')\n",
    "    index = 1\n",
    "    \n",
    "    r = requests.get(t, cookies=cookies, headers=headers)\n",
    "    soup = BeautifulSoup(r.content, \"lxml\")\n",
    "    a = soup.find_all('a')\n",
    "    a = [a_.get('href') for a_ in a if '/?page=' in a_.get('href', '')]\n",
    "    nums = []\n",
    "    for a_ in a:\n",
    "        nums.append(int(a_.split('/?page=')[1]))\n",
    "        \n",
    "    for index in tqdm(range(1, max(nums) + 1, 1)):\n",
    "    \n",
    "        filename = os.path.join('url', f'{t_}-{index}.json')\n",
    "        if os.path.exists(filename):\n",
    "            index += 1\n",
    "            continue\n",
    "            \n",
    "        url = f'{t}?page={index}'\n",
    "        r = requests.get(url, cookies=cookies, headers=headers)\n",
    "        soup = BeautifulSoup(r.content, \"lxml\")\n",
    "        \n",
    "        div = soup.find_all('div', {'class': 'col-lg-4 col-md-6 col-sm-6 col-xs-12 content_box'})\n",
    "        a = [div_.find('a').get('href') for div_ in div]\n",
    "\n",
    "        with open(filename, 'w') as fopen:\n",
    "            json.dump(a, fopen)    "
   ]
  },
  {
   "cell_type": "code",
   "execution_count": 21,
   "metadata": {},
   "outputs": [
    {
     "data": {
      "text/plain": [
       "'https://www.carsifu.my/news?page=61'"
      ]
     },
     "execution_count": 21,
     "metadata": {},
     "output_type": "execute_result"
    }
   ],
   "source": [
    "url"
   ]
  },
  {
   "cell_type": "code",
   "execution_count": null,
   "metadata": {},
   "outputs": [],
   "source": []
  }
 ],
 "metadata": {
  "kernelspec": {
   "display_name": "Python 3 (ipykernel)",
   "language": "python",
   "name": "python3"
  },
  "language_info": {
   "codemirror_mode": {
    "name": "ipython",
    "version": 3
   },
   "file_extension": ".py",
   "mimetype": "text/x-python",
   "name": "python",
   "nbconvert_exporter": "python",
   "pygments_lexer": "ipython3",
   "version": "3.8.10"
  }
 },
 "nbformat": 4,
 "nbformat_minor": 4
}
