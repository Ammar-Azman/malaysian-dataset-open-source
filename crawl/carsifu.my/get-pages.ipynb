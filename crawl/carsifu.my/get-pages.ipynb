{
 "cells": [
  {
   "cell_type": "code",
   "execution_count": 1,
   "metadata": {},
   "outputs": [],
   "source": [
    "import requests\n",
    "from bs4 import BeautifulSoup\n",
    "from tqdm import tqdm\n",
    "import os\n",
    "import json\n",
    "import numpy as np\n",
    "import time\n",
    "import random\n",
    "import json"
   ]
  },
  {
   "cell_type": "code",
   "execution_count": 2,
   "metadata": {},
   "outputs": [
    {
     "data": {
      "text/plain": [
       "24542"
      ]
     },
     "execution_count": 2,
     "metadata": {},
     "output_type": "execute_result"
    }
   ],
   "source": [
    "from glob import glob\n",
    "\n",
    "files = glob('url/*.json')\n",
    "urls = []\n",
    "for f in files:\n",
    "    with open(f) as fopen:\n",
    "        urls.extend(json.load(fopen))\n",
    "urls = sorted(list(set(urls)))\n",
    "len(urls)"
   ]
  },
  {
   "cell_type": "code",
   "execution_count": 3,
   "metadata": {},
   "outputs": [],
   "source": [
    "!mkdir page"
   ]
  },
  {
   "cell_type": "code",
   "execution_count": 4,
   "metadata": {},
   "outputs": [],
   "source": [
    "cookies = {\n",
    "    '_gid': 'GA1.2.1774589498.1688827808',\n",
    "    '_pcid': '%7B%22browserId%22%3A%22lju4h0iqcndtfxp8%22%7D',\n",
    "    'cX_P': 'lju4h0iqcndtfxp8',\n",
    "    '_pctx': '%7Bu%7DN4IgrgzgpgThIC4B2YA2qA05owMoBcBDfSREQpAeyRCwgEt8oBJAEzIEYOAWAZgAYATAHZ%2BADl68xwwRwEBWQSAC%2BQA',\n",
    "    '__stgeo': 'IjAi',\n",
    "    '__stbpnenable': 'MQ==',\n",
    "    '__stdf': 'MA==',\n",
    "    'cX_G': 'cx%3A1i0t3fg74zq623k3k9afr0x7u3%3A2nq99z7wrkb6x',\n",
    "    '__stp': 'eyJ2aXNpdCI6InJldHVybmluZyIsInV1aWQiOiIwYzljYmIyZC02MTliLTQxMGItYTQzZS01YTg1N2EwMjhmODAifQ==',\n",
    "    'XSRF-TOKEN': 'eyJpdiI6ImZGQlwvVGVHSkc4UE9CMjk1ZGlpcEpBPT0iLCJ2YWx1ZSI6InhrbUlrM2FKZlpROWU5XC91bnFESnJ3WTV1NzBidDdHNXFtaExFUHBNOThXQVBmTVZUTXFTTmVJTzB3bHRra0crNnZOMEIzYUpUcHQ2Tk5ZNVpjNERPdz09IiwibWFjIjoiYzBlOGQ4ZGYxMjIzMzRhZjZmYjg3NjcxYTVjNDJmZDg0OGE1ZjljZWU5NmRkZmFlYTI4MmI3YTZmOTQ5NWQ1MiJ9',\n",
    "    'carsifu_session': 'eyJpdiI6IkZjUG1DYnQrTkcrS0k0c3ZkUjNxYUE9PSIsInZhbHVlIjoidmgzUm9xaGpqSFJQVkswb2J3SmtyQ3V4emlXbEI5REhuUlJ5R1drRmc3ZDk3UHQwOWVlNzB1TzhyVTYwZmJSamFIWGI2eWU3MGl3c3NCWlI0VnhYeHc9PSIsIm1hYyI6IjIzYWJmM2IyOTM4YzVjZjk4MmU1NzZjZGU5NTgxMjE0YzM4YmQwOGRjYmFiMDcyOTIzNDk4MDBhOTI5ZmM5NTIifQ%3D%3D',\n",
    "    '_ga_QF13J11YBW': 'GS1.1.1688889128.2.1.1688889384.35.0.0',\n",
    "    '_ga': 'GA1.1.2139008171.1688827808',\n",
    "    '__sts': 'eyJzaWQiOjE2ODg4ODkxMjgzODEsInR4IjoxNjg4ODg5Mzg0MjgwLCJ1cmwiOiJodHRwcyUzQSUyRiUyRnd3dy5jYXJzaWZ1Lm15JTJGIiwicGV0IjoxNjg4ODg5Mzg0MjgwLCJzZXQiOjE2ODg4ODkxMjgzODEsInBVcmwiOiJodHRwcyUzQSUyRiUyRnd3dy5jYXJzaWZ1Lm15JTJGYmlrZS1yZXZpZXdzIiwicFBldCI6MTY4ODg4OTM2NzcxNywicFR4IjoxNjg4ODg5MzY3NzE3fQ==',\n",
    "}\n",
    "\n",
    "headers = {\n",
    "    'authority': 'www.carsifu.my',\n",
    "    'accept': 'text/html,application/xhtml+xml,application/xml;q=0.9,image/avif,image/webp,image/apng,*/*;q=0.8,application/signed-exchange;v=b3;q=0.7',\n",
    "    'accept-language': 'en-MY,en;q=0.9,en-US;q=0.8,ms;q=0.7',\n",
    "    'cache-control': 'no-cache',\n",
    "    # 'cookie': '_gid=GA1.2.1774589498.1688827808; _pcid=%7B%22browserId%22%3A%22lju4h0iqcndtfxp8%22%7D; cX_P=lju4h0iqcndtfxp8; _pctx=%7Bu%7DN4IgrgzgpgThIC4B2YA2qA05owMoBcBDfSREQpAeyRCwgEt8oBJAEzIEYOAWAZgAYATAHZ%2BADl68xwwRwEBWQSAC%2BQA; __stgeo=IjAi; __stbpnenable=MQ==; __stdf=MA==; cX_G=cx%3A1i0t3fg74zq623k3k9afr0x7u3%3A2nq99z7wrkb6x; __stp=eyJ2aXNpdCI6InJldHVybmluZyIsInV1aWQiOiIwYzljYmIyZC02MTliLTQxMGItYTQzZS01YTg1N2EwMjhmODAifQ==; XSRF-TOKEN=eyJpdiI6ImZGQlwvVGVHSkc4UE9CMjk1ZGlpcEpBPT0iLCJ2YWx1ZSI6InhrbUlrM2FKZlpROWU5XC91bnFESnJ3WTV1NzBidDdHNXFtaExFUHBNOThXQVBmTVZUTXFTTmVJTzB3bHRra0crNnZOMEIzYUpUcHQ2Tk5ZNVpjNERPdz09IiwibWFjIjoiYzBlOGQ4ZGYxMjIzMzRhZjZmYjg3NjcxYTVjNDJmZDg0OGE1ZjljZWU5NmRkZmFlYTI4MmI3YTZmOTQ5NWQ1MiJ9; carsifu_session=eyJpdiI6IkZjUG1DYnQrTkcrS0k0c3ZkUjNxYUE9PSIsInZhbHVlIjoidmgzUm9xaGpqSFJQVkswb2J3SmtyQ3V4emlXbEI5REhuUlJ5R1drRmc3ZDk3UHQwOWVlNzB1TzhyVTYwZmJSamFIWGI2eWU3MGl3c3NCWlI0VnhYeHc9PSIsIm1hYyI6IjIzYWJmM2IyOTM4YzVjZjk4MmU1NzZjZGU5NTgxMjE0YzM4YmQwOGRjYmFiMDcyOTIzNDk4MDBhOTI5ZmM5NTIifQ%3D%3D; _ga_QF13J11YBW=GS1.1.1688889128.2.1.1688889384.35.0.0; _ga=GA1.1.2139008171.1688827808; __sts=eyJzaWQiOjE2ODg4ODkxMjgzODEsInR4IjoxNjg4ODg5Mzg0MjgwLCJ1cmwiOiJodHRwcyUzQSUyRiUyRnd3dy5jYXJzaWZ1Lm15JTJGIiwicGV0IjoxNjg4ODg5Mzg0MjgwLCJzZXQiOjE2ODg4ODkxMjgzODEsInBVcmwiOiJodHRwcyUzQSUyRiUyRnd3dy5jYXJzaWZ1Lm15JTJGYmlrZS1yZXZpZXdzIiwicFBldCI6MTY4ODg4OTM2NzcxNywicFR4IjoxNjg4ODg5MzY3NzE3fQ==',\n",
    "    'pragma': 'no-cache',\n",
    "    'referer': 'https://www.carsifu.my/bike-reviews',\n",
    "    'sec-ch-ua': '\"Not.A/Brand\";v=\"8\", \"Chromium\";v=\"114\", \"Google Chrome\";v=\"114\"',\n",
    "    'sec-ch-ua-mobile': '?0',\n",
    "    'sec-ch-ua-platform': '\"macOS\"',\n",
    "    'sec-fetch-dest': 'document',\n",
    "    'sec-fetch-mode': 'navigate',\n",
    "    'sec-fetch-site': 'same-origin',\n",
    "    'sec-fetch-user': '?1',\n",
    "    'upgrade-insecure-requests': '1',\n",
    "    'user-agent': 'Mozilla/5.0 (Macintosh; Intel Mac OS X 10_15_7) AppleWebKit/537.36 (KHTML, like Gecko) Chrome/114.0.0.0 Safari/537.36',\n",
    "}"
   ]
  },
  {
   "cell_type": "code",
   "execution_count": 5,
   "metadata": {},
   "outputs": [],
   "source": [
    "r = requests.get(urls[0], cookies = cookies, headers = headers)\n",
    "soup = BeautifulSoup(r.content, \"lxml\")"
   ]
  },
  {
   "cell_type": "code",
   "execution_count": 11,
   "metadata": {},
   "outputs": [
    {
     "data": {
      "text/plain": [
       "'Alta bike hints at Harley-Davidson’s electric future'"
      ]
     },
     "execution_count": 11,
     "metadata": {},
     "output_type": "execute_result"
    }
   ],
   "source": [
    "soup.find('h2').text"
   ]
  },
  {
   "cell_type": "code",
   "execution_count": 9,
   "metadata": {},
   "outputs": [
    {
     "data": {
      "text/plain": [
       "'https://www.carsifu.my/bike-reviews/alta-bike-hints-at-harley-davidsons-electric-future'"
      ]
     },
     "execution_count": 9,
     "metadata": {},
     "output_type": "execute_result"
    }
   ],
   "source": [
    "urls[0]"
   ]
  },
  {
   "cell_type": "code",
   "execution_count": 15,
   "metadata": {},
   "outputs": [
    {
     "data": {
      "text/plain": [
       "'\\n                When Harley-Davidson Inc. announced earlier this year that it would make an electric motorcycle, many people in the independent motorcycle community lauded the move.\\n\\r\\n“This will only increase the respect that the brand gets,” Alan Stulberg, founder of custom-build shop Revival Motorcycles, said at the time. “At least finally, they can say that Harley does low-tech heritage and it does cutting-edge technology.”\\n\\r\\nBut the brand didn’t say it would make the e-bike from scratch. So it was interesting to note which company Harley announced in March would help usher it into the new millennium, as it were: Alta Motors, the California-based manufacturer founded in 2010.\\n\\n\\n\\r\\nThis made sense. Harley has suffered for years from declining sales as its rider base enters retirement. Alta’s average customer age is younger, and the company undoubtedly faces the needs intrinsic to any startup-help with infrastructure and funding.\\n\\r\\nThose who have followed closely may have been able to predict such a marriage. Over the past year, Alta has increased the range and power of its four-bike portfolio while decreasing prices.\\n\\r\\nFor instance, the price on the SM supermoto I rode in Los Angeles went down from US$15,500 (RM62,000) to US$13,495 (RM54,000); the forthcoming SMR will add horsepower and torque. (“Supermoto” is the style of motorcycle racing that combines handling hard-packed dirt, jumps, other obstacles, and paved tarmac in a single race.)\\n\\r\\nDomestic sales at Alta, meanwhile, have risen year over year, increasing 18 times from 2016 to 2017. The company does not yet sell motorcycles outside the United States.\\n\\r\\nI looked forward to riding the off-road style bikes Harley-Davidson deemed so promising. I tried out the Alta Redshift SM, the most street-focused model, rather than the dirt-, rocks- and sand-focused ones. I call it that because of its sleek, slick tires and shorter battery life.\\n\\nThe good\\n\\r\\nThe Redshift SM looks bare and clean, with a 35.5-inch ride height, smooth Pirelli Rosso II tyres, high-placed handlebars, and the wide space between wheels and fenders on the front and back of the bike. It comes only in white, with broad swaths of red across the front, where the gas tank would be, and a flat, grippy black seat.\\n\\r\\nOn top, you find the plug-in outlet and a single digital gauge monitoring mileage, speed, and motor-system vitals.\\n\\r\\nIt weighs just 128kg, with a motor that comes in at a feathery 6.8kg. That means the bike is lighter than pretty much anything on the market today.\\n\\r\\nWith a 42-horsepower motor, super-spongy shocks, and Brembo brakes that bite, riding one feels like sitting on an eager puppy: Everything is about bounding forward, being playful and feeling energetic. Back and forth on the wide avenues from Beverly Hills to Downtown L.A., the Redshift SM proved easy to maneuver and fun-especially as it handled the infamously slanted far right lane of Beverly Drive, which trips up antsy drivers and bikers coming down the slope.\\n\\r\\nTop speed here is 128kph; although Alta doesn’t release an official zero-100kph sprint time, count it as relatively equal to what you’d expect in a BMW M3.\\n\\nThe bad\\n\\r\\nThat brings up the main challenge you’ll face on the Alta Redshift SM: its lacklustre battery range. When I speak with Alta’s co-founder Marc Fenigstein in L.A., he says the average rider gets roughly 80km or so to a charge, though it’s closer to 64km per charge if you tend to ride aggressively. It’ll last 20 minutes if you’re racing.\\n\\r\\nCharging time takes up to four hours on a 240-volt socket, or six hours on a 120-volt.\\n\\r\\nThis means that I hypothetically would not be able to ride the Redshift SM up Highway 2 to Newcomb’s Ranch restaurant and back, or up and down the Pacific Coast Highway if I were to start anywhere other than Malibu.\\n\\r\\nI suppose you could put the bike on a trailer and take it to someplace pretty to ride. Many do, but that can kill the entire vibe of motorcycle riding, which is often to ride on a whim, anywhere, and feel ultimate freedom.\\n\\r\\nAnd the Redshift SM could ride smoother, have better power and range, and feel less creaky in general. (The body built around its monocoque chassis and aluminum bulkhead whines like plastic as you dodge and weave, accelerate and brake.) It would be great if it felt just a hair more tightly put together, on the whole.\\n\\nNo ugly\\n\\r\\nAlta has produced a good-looking, functional, fun electric motorcycle that well-deserves praise, if not quite the moniker of “the Tesla of motorcycles” that executives tend to repeat like a mantra.\\n\\r\\nThe Redshift SM does at least live up to Alta’s claim that it’s a useful urban commuter for those with relatively short travels. With no throttle, a single-speed transmission (read: no gears), instant acceleration, and a forgiving suspension, you can literally jump on and go with one push of a button. And as an electric motorcycle, it never needs oil changes or maintenance intervals, saving money and time.\\n\\r\\nI take it as a great sign that the motorcycles are sold at more than 50 US dealerships across 27 states, and is selling out of the same storefronts as Ducati and KTM. And Alta has started to win important motocross races in a way that mainstream racing federations won’t long be able to ignore.\\n\\r\\nAlta’s electric Redshift SM may not save the world for motorcycles yet, but it’s a good start. — HANNAH ELLIOTT\\n'"
      ]
     },
     "execution_count": 15,
     "metadata": {},
     "output_type": "execute_result"
    }
   ],
   "source": [
    "soup.find('div', {'id': 'post-content'}).text"
   ]
  },
  {
   "cell_type": "code",
   "execution_count": null,
   "metadata": {},
   "outputs": [
    {
     "name": "stderr",
     "output_type": "stream",
     "text": [
      "17797it [3:38:50,  2.43it/s]IOPub message rate exceeded.\n",
      "The notebook server will temporarily stop sending output\n",
      "to the client in order to avoid crashing it.\n",
      "To change this limit, set the config variable\n",
      "`--NotebookApp.iopub_msg_rate_limit`.\n",
      "\n",
      "Current values:\n",
      "NotebookApp.iopub_msg_rate_limit=1000.0 (msgs/sec)\n",
      "NotebookApp.rate_limit_window=3.0 (secs)\n",
      "\n",
      "22449it [4:36:30,  1.03it/s]"
     ]
    }
   ],
   "source": [
    "for no, url in tqdm(enumerate(urls)):\n",
    "    filename = os.path.join('page', f'{no}.json')\n",
    "    if os.path.exists(filename):\n",
    "        continue\n",
    "    \n",
    "    while True:\n",
    "        try:\n",
    "            r = requests.get(url, cookies = cookies, headers = headers)\n",
    "            break\n",
    "        except:\n",
    "            time.sleep(1.0)\n",
    "    soup = BeautifulSoup(r.content, \"lxml\")\n",
    "\n",
    "    try:\n",
    "        title = soup.find('h2').text\n",
    "    except Exception as e:\n",
    "        title = None\n",
    "\n",
    "    try:\n",
    "        body = soup.find('div', {'id': 'post-content'}).text\n",
    "    except Exception as e:\n",
    "        body = None\n",
    "\n",
    "    data = {\n",
    "        'url': url,\n",
    "        'title': title,\n",
    "        'body': body,\n",
    "    }\n",
    "    with open(filename, 'w') as fopen:\n",
    "        json.dump(data, fopen)"
   ]
  },
  {
   "cell_type": "code",
   "execution_count": null,
   "metadata": {},
   "outputs": [],
   "source": []
  }
 ],
 "metadata": {
  "kernelspec": {
   "display_name": "Python 3 (ipykernel)",
   "language": "python",
   "name": "python3"
  },
  "language_info": {
   "codemirror_mode": {
    "name": "ipython",
    "version": 3
   },
   "file_extension": ".py",
   "mimetype": "text/x-python",
   "name": "python",
   "nbconvert_exporter": "python",
   "pygments_lexer": "ipython3",
   "version": "3.8.10"
  }
 },
 "nbformat": 4,
 "nbformat_minor": 4
}
