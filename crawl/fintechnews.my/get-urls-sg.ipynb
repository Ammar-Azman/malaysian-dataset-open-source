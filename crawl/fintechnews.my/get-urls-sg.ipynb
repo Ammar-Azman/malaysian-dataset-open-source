{
 "cells": [
  {
   "cell_type": "code",
   "execution_count": 1,
   "metadata": {},
   "outputs": [],
   "source": [
    "import requests\n",
    "from bs4 import BeautifulSoup\n",
    "from tqdm import tqdm\n",
    "import os\n",
    "import json\n",
    "import numpy as np\n",
    "import time\n",
    "import random\n",
    "import json"
   ]
  },
  {
   "cell_type": "code",
   "execution_count": 2,
   "metadata": {},
   "outputs": [],
   "source": [
    "r = requests.get('https://fintechnews.sg/')\n",
    "soup = BeautifulSoup(r.content, \"lxml\")"
   ]
  },
  {
   "cell_type": "code",
   "execution_count": 6,
   "metadata": {},
   "outputs": [
    {
     "data": {
      "text/plain": [
       "['https://fintechnews.sg/insurtech/',\n",
       " 'https://fintechnews.sg/regtech/',\n",
       " 'https://fintechnews.sg/digitalassets/',\n",
       " 'https://fintechnews.sg/openbanking/']"
      ]
     },
     "execution_count": 6,
     "metadata": {},
     "output_type": "execute_result"
    }
   ],
   "source": [
    "li = soup.find_all('li', {'class': 'menu-item menu-item-type-taxonomy menu-item-object-category single'})\n",
    "topics = [li_.find('a').get('href') for li_ in li]\n",
    "topics.append('https://fintechnews.sg/openbanking/')\n",
    "topics"
   ]
  },
  {
   "cell_type": "code",
   "execution_count": 7,
   "metadata": {},
   "outputs": [],
   "source": [
    "r = requests.get(topics[0])\n",
    "soup = BeautifulSoup(r.content, \"lxml\")"
   ]
  },
  {
   "cell_type": "code",
   "execution_count": 8,
   "metadata": {},
   "outputs": [
    {
     "data": {
      "text/plain": [
       "20"
      ]
     },
     "execution_count": 8,
     "metadata": {},
     "output_type": "execute_result"
    }
   ],
   "source": [
    "a = soup.find_all('a', {'class': 'page-numbers'})\n",
    "nums = []\n",
    "for a_ in a:\n",
    "    try:\n",
    "        nums.append(int(a_.text))\n",
    "    except:\n",
    "        pass\n",
    "    \n",
    "if len(nums):\n",
    "    page_nums = max(nums)\n",
    "else:\n",
    "    page_nums = 1\n",
    "    \n",
    "page_nums"
   ]
  },
  {
   "cell_type": "code",
   "execution_count": 10,
   "metadata": {},
   "outputs": [
    {
     "data": {
      "text/plain": [
       "['https://fintechnews.sg/76575/insurtech/zurich-launches-new-suite-of-solutions-to-power-digitally-embedded-insurance/',\n",
       " 'https://fintechnews.sg/75986/ai/singlife-and-microsoft-supports-budding-insurtechs-to-adopt-generative-ai/',\n",
       " 'https://fintechnews.sg/75785/thailand/thai-insurtech-roojai-acquires-fwd-general-insurance-from-bolttech/',\n",
       " 'https://fintechnews.sg/75506/insurtech/singlife-ties-up-with-aspire-to-offer-smes-greater-access-to-financial-services/',\n",
       " 'https://fintechnews.sg/74801/insurtech/top-funded-insurtech-asean/',\n",
       " 'https://fintechnews.sg/74596/insurtech/trust-bank-offers-in-app-travel-insurance-by-income/',\n",
       " 'https://fintechnews.sg/74410/insurtech/axa-thailand-taps-covergo-to-expedite-health-claims-processes/',\n",
       " 'https://fintechnews.sg/72784/funding/bolttech-now-valued-at-us1-6-billion-with-us196-million-series-b/',\n",
       " 'https://fintechnews.sg/71693/sponsoredpost/asias-insurance-leaders-set-to-gather-at-insuretech-connect-asia-in-singapore/',\n",
       " 'https://fintechnews.sg/71770/insurtech/prudential-singapore-officially-launches-its-new-financial-advisory-arm/']"
      ]
     },
     "execution_count": 10,
     "metadata": {},
     "output_type": "execute_result"
    }
   ],
   "source": [
    "h3 = soup.find_all('h3', {'class':\"entry-title\"})\n",
    "a = [h3_.find('a').get('href') for h3_ in h3]\n",
    "a"
   ]
  },
  {
   "cell_type": "code",
   "execution_count": 11,
   "metadata": {},
   "outputs": [],
   "source": [
    "!rm -rf url-sg\n",
    "!mkdir url-sg"
   ]
  },
  {
   "cell_type": "code",
   "execution_count": 12,
   "metadata": {},
   "outputs": [
    {
     "name": "stderr",
     "output_type": "stream",
     "text": [
      "100%|███████████████████████████████████████████| 20/20 [00:16<00:00,  1.21it/s]\n",
      "100%|█████████████████████████████████████████████| 8/8 [00:07<00:00,  1.10it/s]\n",
      "100%|█████████████████████████████████████████████| 5/5 [00:06<00:00,  1.22s/it]\n",
      "100%|█████████████████████████████████████████████| 7/7 [00:06<00:00,  1.09it/s]\n"
     ]
    }
   ],
   "source": [
    "for t in topics:\n",
    "    t_ = t.split('sg/')[1].replace('/', '-')\n",
    "    r = requests.get(t)\n",
    "    soup = BeautifulSoup(r.content, \"lxml\")\n",
    "    a = soup.find_all('a', {'class': 'page-numbers'})\n",
    "    nums = []\n",
    "    for a_ in a:\n",
    "        try:\n",
    "            nums.append(int(a_.text))\n",
    "        except:\n",
    "            pass\n",
    "\n",
    "    if len(nums):\n",
    "        page_nums = max(nums)\n",
    "    else:\n",
    "        page_nums = 1\n",
    "    \n",
    "    for index in tqdm(range(1, page_nums + 1, 1)):\n",
    "        filename = os.path.join('url-sg', f'{t_}-{index}.json')\n",
    "        if os.path.exists(filename):\n",
    "            continue\n",
    "            \n",
    "        url = f'{t}page/{index}/'\n",
    "        r = requests.get(url)\n",
    "        soup = BeautifulSoup(r.content, \"lxml\")\n",
    "        \n",
    "        h3 = soup.find_all('h3', {'class':\"entry-title\"})\n",
    "        a = [h3_.find('a').get('href') for h3_ in h3]\n",
    "\n",
    "        with open(filename, 'w') as fopen:\n",
    "            json.dump(a, fopen)       "
   ]
  },
  {
   "cell_type": "code",
   "execution_count": null,
   "metadata": {},
   "outputs": [],
   "source": []
  }
 ],
 "metadata": {
  "kernelspec": {
   "display_name": "Python 3 (ipykernel)",
   "language": "python",
   "name": "python3"
  },
  "language_info": {
   "codemirror_mode": {
    "name": "ipython",
    "version": 3
   },
   "file_extension": ".py",
   "mimetype": "text/x-python",
   "name": "python",
   "nbconvert_exporter": "python",
   "pygments_lexer": "ipython3",
   "version": "3.8.10"
  }
 },
 "nbformat": 4,
 "nbformat_minor": 4
}
