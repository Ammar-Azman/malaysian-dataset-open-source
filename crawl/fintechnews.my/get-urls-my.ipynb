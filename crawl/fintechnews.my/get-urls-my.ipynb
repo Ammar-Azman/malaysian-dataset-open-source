{
 "cells": [
  {
   "cell_type": "code",
   "execution_count": 1,
   "metadata": {},
   "outputs": [],
   "source": [
    "import requests\n",
    "from bs4 import BeautifulSoup\n",
    "from tqdm import tqdm\n",
    "import os\n",
    "import json\n",
    "import numpy as np\n",
    "import time\n",
    "import random\n",
    "import json"
   ]
  },
  {
   "cell_type": "code",
   "execution_count": 6,
   "metadata": {},
   "outputs": [],
   "source": [
    "r = requests.get('https://fintechnews.my/')\n",
    "soup = BeautifulSoup(r.content, \"lxml\")"
   ]
  },
  {
   "cell_type": "code",
   "execution_count": 8,
   "metadata": {},
   "outputs": [
    {
     "data": {
      "text/plain": [
       "['https://fintechnews.my/blockchain/',\n",
       " 'https://fintechnews.my/crowdfunding-malaysia/',\n",
       " 'https://fintechnews.my/digital-transformation/',\n",
       " 'https://fintechnews.my/fintech-lending-malaysia/',\n",
       " 'https://fintechnews.my/payments-remittance-malaysia/',\n",
       " 'https://fintechnews.my/insurtech-malaysia/',\n",
       " 'https://fintechnews.my/wealthtech-malaysia/',\n",
       " 'https://fintechnews.my/regtech-fintech-regulation-malaysia/']"
      ]
     },
     "execution_count": 8,
     "metadata": {},
     "output_type": "execute_result"
    }
   ],
   "source": [
    "li = soup.find_all('li', {'class': 'menu-item menu-item-type-taxonomy menu-item-object-category single'})\n",
    "topics = [li_.find('a').get('href') for li_ in li]\n",
    "topics"
   ]
  },
  {
   "cell_type": "code",
   "execution_count": 9,
   "metadata": {},
   "outputs": [],
   "source": [
    "r = requests.get(topics[0])\n",
    "soup = BeautifulSoup(r.content, \"lxml\")"
   ]
  },
  {
   "cell_type": "code",
   "execution_count": 13,
   "metadata": {},
   "outputs": [
    {
     "data": {
      "text/plain": [
       "11"
      ]
     },
     "execution_count": 13,
     "metadata": {},
     "output_type": "execute_result"
    }
   ],
   "source": [
    "a = soup.find_all('a', {'class': 'page-numbers'})\n",
    "nums = []\n",
    "for a_ in a:\n",
    "    try:\n",
    "        nums.append(int(a_.text))\n",
    "    except:\n",
    "        pass\n",
    "    \n",
    "if len(nums):\n",
    "    page_nums = max(nums)\n",
    "else:\n",
    "    page_nums = 1\n",
    "    \n",
    "page_nums"
   ]
  },
  {
   "cell_type": "code",
   "execution_count": 15,
   "metadata": {
    "scrolled": true
   },
   "outputs": [
    {
     "data": {
      "text/plain": [
       "['https://fintechnews.my/35900/blockchain/luno-fueling-malaysias-crypto-growth/',\n",
       " 'https://fintechnews.my/35924/blockchain/sc-takes-action-against-huobi-and-ceo-leon-li-for-operating-illegally-in-malaysia/',\n",
       " 'https://fintechnews.my/35180/blockchain/aaron-tang-succeeds-david-low-as-lunos-apac-general-manager/',\n",
       " 'https://fintechnews.my/34770/blockchain/lunos-coo-james-lanigan-will-now-serve-as-the-new-ceo/',\n",
       " 'https://fintechnews.my/34390/blockchain/investors-in-dato-vidas-lavida-coin-demanding-to-be-repaid-rm59-million/',\n",
       " 'https://fintechnews.my/33985/blockchain/hellogold-shutters-its-consumer-business-users-have-until-2-feb-to-withdraw-funds/',\n",
       " 'https://fintechnews.my/33971/blockchain/luno-slashes-35-of-workforce-as-crypto-fallout-rages-on-malaysia/',\n",
       " 'https://fintechnews.my/33159/blockchain/jcb-idemia-and-malaysias-soft-space-to-trial-cbdc-acceptance-in-tokyo/',\n",
       " 'https://fintechnews.my/32983/blockchain/hong-leong-bank-to-hold-physical-hackathon-focused-on-the-metaverse/',\n",
       " 'https://fintechnews.my/32844/blockchain/luno-malaysia-to-add-cardano-ada-and-solana-sol-to-its-platform/']"
      ]
     },
     "execution_count": 15,
     "metadata": {},
     "output_type": "execute_result"
    }
   ],
   "source": [
    "h3 = soup.find_all('h3', {'itemprop':\"headline\"})\n",
    "a = [h3_.find('a').get('href') for h3_ in h3]\n",
    "a"
   ]
  },
  {
   "cell_type": "code",
   "execution_count": 18,
   "metadata": {},
   "outputs": [],
   "source": [
    "!rm -rf url\n",
    "!mkdir url"
   ]
  },
  {
   "cell_type": "code",
   "execution_count": 19,
   "metadata": {},
   "outputs": [
    {
     "name": "stderr",
     "output_type": "stream",
     "text": [
      "100%|███████████████████████████████████████████| 11/11 [00:09<00:00,  1.19it/s]\n",
      "100%|█████████████████████████████████████████████| 5/5 [00:04<00:00,  1.06it/s]\n",
      "100%|█████████████████████████████████████████████| 9/9 [00:07<00:00,  1.20it/s]\n",
      "100%|███████████████████████████████████████████| 12/12 [00:10<00:00,  1.16it/s]\n",
      "100%|███████████████████████████████████████████| 27/27 [00:21<00:00,  1.27it/s]\n",
      "100%|███████████████████████████████████████████| 10/10 [00:08<00:00,  1.24it/s]\n",
      "100%|█████████████████████████████████████████████| 9/9 [00:07<00:00,  1.18it/s]\n",
      "100%|█████████████████████████████████████████████| 4/4 [00:04<00:00,  1.04s/it]\n"
     ]
    }
   ],
   "source": [
    "for t in topics:\n",
    "    t_ = t.split('my/')[1].replace('/', '-')\n",
    "    r = requests.get(t)\n",
    "    soup = BeautifulSoup(r.content, \"lxml\")\n",
    "    a = soup.find_all('a', {'class': 'page-numbers'})\n",
    "    nums = []\n",
    "    for a_ in a:\n",
    "        try:\n",
    "            nums.append(int(a_.text))\n",
    "        except:\n",
    "            pass\n",
    "\n",
    "    if len(nums):\n",
    "        page_nums = max(nums)\n",
    "    else:\n",
    "        page_nums = 1\n",
    "    \n",
    "    for index in tqdm(range(1, page_nums + 1, 1)):\n",
    "        filename = os.path.join('url', f'{t_}-{index}.json')\n",
    "        if os.path.exists(filename):\n",
    "            continue\n",
    "            \n",
    "        url = f'{t}page/{index}/'\n",
    "        r = requests.get(url)\n",
    "        soup = BeautifulSoup(r.content, \"lxml\")\n",
    "        \n",
    "        h3 = soup.find_all('h3', {'class':\"entry-title\"})\n",
    "        a = [h3_.find('a').get('href') for h3_ in h3]\n",
    "\n",
    "        with open(filename, 'w') as fopen:\n",
    "            json.dump(a, fopen)       "
   ]
  },
  {
   "cell_type": "code",
   "execution_count": null,
   "metadata": {},
   "outputs": [],
   "source": []
  }
 ],
 "metadata": {
  "kernelspec": {
   "display_name": "Python 3 (ipykernel)",
   "language": "python",
   "name": "python3"
  },
  "language_info": {
   "codemirror_mode": {
    "name": "ipython",
    "version": 3
   },
   "file_extension": ".py",
   "mimetype": "text/x-python",
   "name": "python",
   "nbconvert_exporter": "python",
   "pygments_lexer": "ipython3",
   "version": "3.8.10"
  }
 },
 "nbformat": 4,
 "nbformat_minor": 4
}
