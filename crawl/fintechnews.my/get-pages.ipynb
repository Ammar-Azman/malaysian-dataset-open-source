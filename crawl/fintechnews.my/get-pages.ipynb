{
 "cells": [
  {
   "cell_type": "code",
   "execution_count": 1,
   "metadata": {},
   "outputs": [],
   "source": [
    "import requests\n",
    "from bs4 import BeautifulSoup\n",
    "from tqdm import tqdm\n",
    "import os\n",
    "import json\n",
    "import numpy as np\n",
    "import time\n",
    "import random\n",
    "import json\n",
    "import urllib3\n",
    "urllib3.disable_warnings(urllib3.exceptions.InsecureRequestWarning)"
   ]
  },
  {
   "cell_type": "code",
   "execution_count": 2,
   "metadata": {},
   "outputs": [
    {
     "data": {
      "text/plain": [
       "1160"
      ]
     },
     "execution_count": 2,
     "metadata": {},
     "output_type": "execute_result"
    }
   ],
   "source": [
    "from glob import glob\n",
    "\n",
    "files = glob('url/*.json')\n",
    "files.extend(glob('url-sg/*.json'))\n",
    "urls = []\n",
    "for f in files:\n",
    "    with open(f) as fopen:\n",
    "        urls.extend(json.load(fopen))\n",
    "urls = sorted(list(set(urls)))\n",
    "len(urls)"
   ]
  },
  {
   "cell_type": "code",
   "execution_count": 14,
   "metadata": {},
   "outputs": [],
   "source": [
    "r = requests.get(urls[-1])\n",
    "soup = BeautifulSoup(r.content, \"lxml\")"
   ]
  },
  {
   "cell_type": "code",
   "execution_count": 15,
   "metadata": {},
   "outputs": [
    {
     "data": {
      "text/plain": [
       "'https://fintechnews.my/10209/payments-remittance-malaysia/ipaylinks-debuts-malaysia/'"
      ]
     },
     "execution_count": 15,
     "metadata": {},
     "output_type": "execute_result"
    }
   ],
   "source": [
    "urls[0]"
   ]
  },
  {
   "cell_type": "code",
   "execution_count": 16,
   "metadata": {},
   "outputs": [
    {
     "data": {
      "text/plain": [
       "'InsurTech Turns A Boring Financial Tool Into A Lifestyle Product'"
      ]
     },
     "execution_count": 16,
     "metadata": {},
     "output_type": "execute_result"
    }
   ],
   "source": [
    "soup.find('h1').text"
   ]
  },
  {
   "cell_type": "code",
   "execution_count": 13,
   "metadata": {
    "scrolled": true
   },
   "outputs": [
    {
     "data": {
      "text/plain": [
       "'https://fintechnews.sg/9831/insurtech/insurtech-turns-boring-financial-tool-into-lifestyle-product/'"
      ]
     },
     "execution_count": 13,
     "metadata": {},
     "output_type": "execute_result"
    }
   ],
   "source": [
    "urls[-1]"
   ]
  },
  {
   "cell_type": "code",
   "execution_count": 17,
   "metadata": {},
   "outputs": [
    {
     "data": {
      "text/plain": [
       "'\\n\\n \\nInsurTech\\n\\nInsurTech Turns A Boring Financial Tool Into A Lifestyle Product\\n\\n\\n\\t\\t\\t\\t\\t\\t\\t\\t\\tby Fintech News Singapore \\nJune 9, 2017\\n\\n\\xa0\\xa0\\xa0\\xa0\\xa0\\xa0\\xa0\\xa0\\xa0\\xa0\\xa0\\n\\n\\n\\n\\n\\n\\n\\n\\n\\n\\n\\n\\n\\n\\n\\n \\n\\n\\n\\n\\nA classic insurance product has two main problems: it’s boring, and it doesn’t have an obvious value for a customer who hasn’t had any insurance claims for years.\\nBy:\\xa0Dmitry Rudash, \\xa0Co-founder Raxel Telematics\\nAs a result, the very nature of the insurance product becomes one of the reasons for the low market growth – \\xa0something insurers understand quite well. A product that was designed decades ago no longer suits the needs and lifestyle of digital age users, who have access to gadgets and social networks, and can get most of their things done with just a click in a mobile app. By transforming this boring financial product into a lifestyle one, we can change the situation and affect market growth. The key role in this belongs to InsurTech\\xa0\\xa0– bringing new technologies to the insurance industry.\\nImage via Pixabay\\nAmong InsurTech’s products is telematics technology that helps gather data on driving patterns, for further in-depth analysis of a driver’s style, habits and preferences. It is widely used in the Usage-Based Insurance (UBI) industry. Per Ptolemus Consulting Group, by 2020 over 100 million cars will be insured with the telematics technology, and the revenue via telematics insurance premiums is expected to reach US $56 billion in 2020, resulting in UBI becoming a market necessity. \\n\\n\\n\\n\\n\\n\\n\\n\\n\\n\\n\\n\\n\\n\\n\\n\\n\\n\\nAlthough the US has pioneered the UBI-technology, Europe becomes its most important market. In 2015, the number of telematics-insured cars in Europe achieved 4.4 million, which is 2.3 million more than in 2013, with Italy, the UK, Spain and France being among top markets. The Asia-Pacific market is poised to grow exponentially, reaching US $5.5 billion in insurance premiums by 2020. Southeast Asia may become a key market for the telematics technology in the region, with huge opportunities and one of the world’s highest growth rates. Today is just the beginning, with several tens of thousands drivers using UBI, but Raxel Telematics experts estimate it will grow rapidly within the next five years, and achieve 3 million end users in 2022. \\xa0\\nWith mobile telematics becoming an alternative to OBD (on-board devices), there are more opportunities for insurers to make their product fun for the customer, where the user won’t have to be concerned about additional devices installed in the car, and will have a mobile app to get real time data about car and driving, as well as stay in touch with the insurer on many issues.\\xa0\\xa0\\nThe most important feature in this new approach will be a change in communication between the insurer and the client\\n Image via Pixabay\\nAlthough today the on-board diagnostic systems are the primary source of telematics information, Raxel Telematics believe that mobile telematics will become the dominating trend in the next 5 years. Per our estimate, it will grow exponentially, and by 2020 it will hold at least 20% of the world’s telematics data sources. The reason is simple:\\xa0mobile technologies provide the most opportunities to modernize the traditional insurance product.\\nGamification, rewards (like cashback), valuable analytics data and professional recommendations on the driver’s style are just a couple of tools to make car insurance a lifestyle product, as well as predictive technologies that monitor car’s performance, and identify technical issues before anything significant happens.\\nThe most important feature in this new approach will be a change in communication between the insurer and the client. Today there are just 2-3 points of communication: purchase, insurance claim, renewal. \\nNew technologies would intensify this communication to directly engage the customer, which is a key tool in transforming today’s boring insurance experience into an exciting game. In addition to just insurance, users can receive fun incentives (imagine a game where if you come home before 8 PM you get 50% off at the coffeehouse near your work the next day), rewards for driving with a high safety rating (cashback on everyday expense such as refueling, car washes or parking), driving analytics, and feedback with expert advice on increasing safety levels, thereby lowering the cost of the renewal.\\n\\xa0Featured image via Pixabay\\n\\n\\n\\nSubscribe to the most important Fintechnews in Singapore\\n\\n\\n\\n\\n\\n\\n\\n'"
      ]
     },
     "execution_count": 17,
     "metadata": {},
     "output_type": "execute_result"
    }
   ],
   "source": [
    "soup.find('div', {'class':\"article-content\"}).text"
   ]
  },
  {
   "cell_type": "code",
   "execution_count": null,
   "metadata": {},
   "outputs": [
    {
     "name": "stderr",
     "output_type": "stream",
     "text": [
      " 44%|█████████████████▋                      | 513/1160 [14:32<20:22,  1.89s/it]"
     ]
    }
   ],
   "source": [
    "with open('data.jsonl', 'w') as fopen:\n",
    "    for url in tqdm(urls):\n",
    "        r = requests.get(url)\n",
    "        soup = BeautifulSoup(r.content, \"lxml\")\n",
    "        try:\n",
    "            title = soup.find('h1').text\n",
    "        except:\n",
    "            title = None\n",
    "        try:\n",
    "            body = soup.find('div', {'class':\"article-content\"}).text\n",
    "        except:\n",
    "            body = None\n",
    "        data = {\n",
    "            'url': url,\n",
    "            'title': title,\n",
    "            'body': body\n",
    "        }\n",
    "        fopen.write(f'{json.dumps(data)}\\n')"
   ]
  },
  {
   "cell_type": "code",
   "execution_count": null,
   "metadata": {},
   "outputs": [],
   "source": []
  }
 ],
 "metadata": {
  "kernelspec": {
   "display_name": "Python 3 (ipykernel)",
   "language": "python",
   "name": "python3"
  },
  "language_info": {
   "codemirror_mode": {
    "name": "ipython",
    "version": 3
   },
   "file_extension": ".py",
   "mimetype": "text/x-python",
   "name": "python",
   "nbconvert_exporter": "python",
   "pygments_lexer": "ipython3",
   "version": "3.8.10"
  }
 },
 "nbformat": 4,
 "nbformat_minor": 4
}
