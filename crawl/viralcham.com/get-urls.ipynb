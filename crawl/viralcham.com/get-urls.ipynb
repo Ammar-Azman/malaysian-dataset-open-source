{
 "cells": [
  {
   "cell_type": "code",
   "execution_count": 1,
   "metadata": {},
   "outputs": [],
   "source": [
    "import requests\n",
    "from bs4 import BeautifulSoup\n",
    "from tqdm import tqdm\n",
    "import os\n",
    "import json\n",
    "import numpy as np\n",
    "import time\n",
    "import random\n",
    "import json"
   ]
  },
  {
   "cell_type": "code",
   "execution_count": 2,
   "metadata": {},
   "outputs": [],
   "source": [
    "cookies = {\n",
    "    '_cc_id': '69f8b801beef15345eb5accdea253af',\n",
    "    'panoramaIdType': 'panoIndiv',\n",
    "    '_cb': 'Dv0-9BBzvz8WCG8LnF',\n",
    "    'panoramaId': '1211dc095c1d8b91c5624a83d00716d53938452c26a545c0166a87e03cfa958a',\n",
    "    '_gid': 'GA1.2.897740210.1689092840',\n",
    "    '_cb_svref': 'null',\n",
    "    'cto_bundle': 'HaSvaV9hRTFkU1llc2VJYUl0aCUyQng4MmpLWnhuVFU1QjdaY1pLeU9GZGxDR2JORHNGQ1U3b01xR3olMkIlMkZDb3JmRHh4MkJVZTYxcG94VkJlc2lMMGZoUHJXJTJCMVFXRXlnOWclMkZlJTJGejJlZUNmZzJjdlphVmhqZURaVGZxbjVCTlYwbnpWZXhZS3R3Y3RrJTJCR1RaSkd3am9INGVFN2kzdmFrdUVIQWdleHV5TERzbHJ4JTJCOHBHbE5nZVhRaFo2dnJoYml2ZmslMkJIaElTeG03REQzMnU2JTJGU0oxJTJGc2JHaGY1dyUzRCUzRA',\n",
    "    'panoramaId_expiry': '1689697646921',\n",
    "    '_chartbeat2': '.1688641295703.1689092847101.1000001.Djcyo-DKqiDgDyC9qWIeGYCjAYFY.2',\n",
    "    '_ga': 'GA1.2.1678982348.1688641295',\n",
    "    '_ga_6X77R3NRFK': 'GS1.1.1689092840.2.1.1689092847.53.0.0',\n",
    "}\n",
    "\n",
    "headers = {\n",
    "    'authority': 'viralcham.com',\n",
    "    'accept': '*/*',\n",
    "    'accept-language': 'en-MY,en;q=0.9,en-US;q=0.8,ms;q=0.7',\n",
    "    'cache-control': 'no-cache',\n",
    "    # 'cookie': '_cc_id=69f8b801beef15345eb5accdea253af; panoramaIdType=panoIndiv; _cb=Dv0-9BBzvz8WCG8LnF; panoramaId=1211dc095c1d8b91c5624a83d00716d53938452c26a545c0166a87e03cfa958a; _gid=GA1.2.897740210.1689092840; _cb_svref=null; cto_bundle=HaSvaV9hRTFkU1llc2VJYUl0aCUyQng4MmpLWnhuVFU1QjdaY1pLeU9GZGxDR2JORHNGQ1U3b01xR3olMkIlMkZDb3JmRHh4MkJVZTYxcG94VkJlc2lMMGZoUHJXJTJCMVFXRXlnOWclMkZlJTJGejJlZUNmZzJjdlphVmhqZURaVGZxbjVCTlYwbnpWZXhZS3R3Y3RrJTJCR1RaSkd3am9INGVFN2kzdmFrdUVIQWdleHV5TERzbHJ4JTJCOHBHbE5nZVhRaFo2dnJoYml2ZmslMkJIaElTeG03REQzMnU2JTJGU0oxJTJGc2JHaGY1dyUzRCUzRA; panoramaId_expiry=1689697646921; _chartbeat2=.1688641295703.1689092847101.1000001.Djcyo-DKqiDgDyC9qWIeGYCjAYFY.2; _ga=GA1.2.1678982348.1688641295; _ga_6X77R3NRFK=GS1.1.1689092840.2.1.1689092847.53.0.0',\n",
    "    'pragma': 'no-cache',\n",
    "    'sec-ch-ua': '\"Not.A/Brand\";v=\"8\", \"Chromium\";v=\"114\", \"Google Chrome\";v=\"114\"',\n",
    "    'sec-ch-ua-mobile': '?0',\n",
    "    'sec-ch-ua-platform': '\"macOS\"',\n",
    "    'sec-fetch-dest': 'empty',\n",
    "    'sec-fetch-mode': 'cors',\n",
    "    'sec-fetch-site': 'same-origin',\n",
    "    'user-agent': 'Mozilla/5.0 (Macintosh; Intel Mac OS X 10_15_7) AppleWebKit/537.36 (KHTML, like Gecko) Chrome/114.0.0.0 Safari/537.36',\n",
    "    'x-requested-with': 'XMLHttpRequest',\n",
    "}\n",
    "\n",
    "params = {\n",
    "    'action': 'loadmore',\n",
    "    'query': '{\"posts_per_page\":1000,\"ignore_sticky_posts\":1,\"cat\":14553,\"template\":\"archive-load-more\",\"error\":\"\",\"m\":\"\",\"p\":0,\"post_parent\":\"\",\"subpost\":\"\",\"subpost_id\":\"\",\"attachment\":\"\",\"attachment_id\":0,\"name\":\"\",\"pagename\":\"\",\"page_id\":0,\"second\":\"\",\"minute\":\"\",\"hour\":\"\",\"day\":0,\"monthnum\":0,\"year\":0,\"w\":0,\"category_name\":\"food\",\"tag\":\"\",\"tag_id\":\"\",\"author\":\"\",\"author_name\":\"\",\"feed\":\"\",\"tb\":\"\",\"paged\":0,\"meta_key\":\"\",\"meta_value\":\"\",\"preview\":\"\",\"s\":\"\",\"sentence\":\"\",\"title\":\"\",\"fields\":\"\",\"menu_order\":\"\",\"embed\":\"\",\"category__in\":[],\"category__not_in\":[5330,2829,1],\"category__and\":[],\"post__in\":[],\"post__not_in\":[],\"post_name__in\":[],\"tag__in\":[],\"tag__not_in\":[],\"tag__and\":[],\"tag_slug__in\":[],\"tag_slug__and\":[],\"post_parent__in\":[],\"post_parent__not_in\":[],\"author__in\":[],\"author__not_in\":[],\"suppress_filters\":false,\"cache_results\":true,\"update_post_term_cache\":true,\"lazy_load_term_meta\":true,\"update_post_meta_cache\":true,\"post_type\":\"\",\"nopaging\":false,\"comments_per_page\":\"50\",\"no_found_rows\":false,\"order\":\"DESC\"}',\n",
    "    'page': '0',\n",
    "}\n",
    "\n",
    "response = requests.get('https://viralcham.com/wp/wp-admin/admin-ajax.php', params=params, cookies=cookies, headers=headers)"
   ]
  },
  {
   "cell_type": "code",
   "execution_count": 5,
   "metadata": {},
   "outputs": [],
   "source": [
    "!rm -rf url\n",
    "!mkdir url"
   ]
  },
  {
   "cell_type": "code",
   "execution_count": 6,
   "metadata": {},
   "outputs": [],
   "source": [
    "keys = {\n",
    "    14553: 'food',\n",
    "    14554: 'must-learn',\n",
    "    14555: 'must-read',\n",
    "    14556: 'must-know',\n",
    "    14557: 'news',\n",
    "    14558: 'travel',\n",
    "    14559: 'hot-girls',\n",
    "    14549: 'free',\n",
    "    53: 'app-android',\n",
    "    88215: '演唱会'\n",
    "}"
   ]
  },
  {
   "cell_type": "code",
   "execution_count": 9,
   "metadata": {},
   "outputs": [
    {
     "name": "stderr",
     "output_type": "stream",
     "text": [
      "2it [00:05,  2.71s/it]\n",
      "2it [00:06,  3.35s/it]\n",
      "15it [01:05,  4.35s/it]\n",
      "5it [00:19,  3.96s/it]\n",
      "13it [00:55,  4.28s/it]\n",
      "2it [00:04,  2.39s/it]\n",
      "2it [00:04,  2.49s/it]\n",
      "2it [00:06,  3.33s/it]\n",
      "2it [00:05,  2.61s/it]\n",
      "1it [00:01,  1.08s/it]\n"
     ]
    }
   ],
   "source": [
    "def generator():\n",
    "    while True:\n",
    "        yield\n",
    "        \n",
    "for k, v in keys.items():\n",
    "    index = 0\n",
    "    \n",
    "    for _ in tqdm(generator()):\n",
    "        filename = os.path.join('url', f'{k}-{index}.json')\n",
    "        if os.path.exists(filename):\n",
    "            index += 1\n",
    "            continue\n",
    "            \n",
    "#         params = {\n",
    "#             'action': 'loadmore',\n",
    "#             'query': '{\"posts_per_page\":10,\"ignore_sticky_posts\":1,\"cat\":14555,\"template\":\"archive-load-more\",\"error\":\"\",\"m\":\"\",\"p\":0,\"post_parent\":\"\",\"subpost\":\"\",\"subpost_id\":\"\",\"attachment\":\"\",\"attachment_id\":0,\"name\":\"\",\"pagename\":\"\",\"page_id\":0,\"second\":\"\",\"minute\":\"\",\"hour\":\"\",\"day\":0,\"monthnum\":0,\"year\":0,\"w\":0,\"category_name\":\"must-read\",\"tag\":\"\",\"tag_id\":\"\",\"author\":\"\",\"author_name\":\"\",\"feed\":\"\",\"tb\":\"\",\"paged\":0,\"meta_key\":\"\",\"meta_value\":\"\",\"preview\":\"\",\"s\":\"\",\"sentence\":\"\",\"title\":\"\",\"fields\":\"\",\"menu_order\":\"\",\"embed\":\"\",\"category__in\":[],\"category__not_in\":[5330,2829,1],\"category__and\":[],\"post__in\":[],\"post__not_in\":[],\"post_name__in\":[],\"tag__in\":[],\"tag__not_in\":[],\"tag__and\":[],\"tag_slug__in\":[],\"tag_slug__and\":[],\"post_parent__in\":[],\"post_parent__not_in\":[],\"author__in\":[],\"author__not_in\":[],\"suppress_filters\":false,\"cache_results\":true,\"update_post_term_cache\":true,\"lazy_load_term_meta\":true,\"update_post_meta_cache\":true,\"post_type\":\"\",\"nopaging\":false,\"comments_per_page\":\"50\",\"no_found_rows\":false,\"order\":\"DESC\"}',\n",
    "#             'page': (index),\n",
    "#         }\n",
    "            \n",
    "        params = {\n",
    "            'action': 'loadmore',\n",
    "            'query': '{\"posts_per_page\":1000,\"ignore_sticky_posts\":1,\"cat\":{i},\"template\":\"archive-load-more\",\"error\":\"\",\"m\":\"\",\"p\":0,\"post_parent\":\"\",\"subpost\":\"\",\"subpost_id\":\"\",\"attachment\":\"\",\"attachment_id\":0,\"name\":\"\",\"pagename\":\"\",\"page_id\":0,\"second\":\"\",\"minute\":\"\",\"hour\":\"\",\"day\":0,\"monthnum\":0,\"year\":0,\"w\":0,\"category_name\":\"{cat}\",\"tag\":\"\",\"tag_id\":\"\",\"author\":\"\",\"author_name\":\"\",\"feed\":\"\",\"tb\":\"\",\"paged\":0,\"meta_key\":\"\",\"meta_value\":\"\",\"preview\":\"\",\"s\":\"\",\"sentence\":\"\",\"title\":\"\",\"fields\":\"\",\"menu_order\":\"\",\"embed\":\"\",\"category__in\":[],\"category__not_in\":[5330,2829,1],\"category__and\":[],\"post__in\":[],\"post__not_in\":[],\"post_name__in\":[],\"tag__in\":[],\"tag__not_in\":[],\"tag__and\":[],\"tag_slug__in\":[],\"tag_slug__and\":[],\"post_parent__in\":[],\"post_parent__not_in\":[],\"author__in\":[],\"author__not_in\":[],\"suppress_filters\":false,\"cache_results\":true,\"update_post_term_cache\":true,\"lazy_load_term_meta\":true,\"update_post_meta_cache\":true,\"post_type\":\"\",\"nopaging\":false,\"comments_per_page\":\"50\",\"no_found_rows\":false,\"order\":\"DESC\"}'.replace('{i}', str(k)).replace('{cat}', v),\n",
    "            'page': str(index),\n",
    "        }\n",
    "        \n",
    "        while True:\n",
    "            try:\n",
    "                response = requests.get('https://viralcham.com/wp/wp-admin/admin-ajax.php', params=params, cookies=cookies, headers=headers)\n",
    "                break\n",
    "            except:\n",
    "                time.sleep(1.0)\n",
    "        \n",
    "            \n",
    "        soup = BeautifulSoup(response.content, \"lxml\")\n",
    "        a = soup.find_all('a', {'class': 'list-group-item-thumbnail-wrap'})\n",
    "        a = [a_.get('href') for a_ in a]\n",
    "        \n",
    "        if not len(a):\n",
    "            break\n",
    "        \n",
    "        with open(filename, 'w') as fopen:\n",
    "            json.dump(a, fopen)\n",
    "            \n",
    "        index += 1"
   ]
  },
  {
   "cell_type": "code",
   "execution_count": null,
   "metadata": {},
   "outputs": [],
   "source": [
    "params"
   ]
  },
  {
   "cell_type": "code",
   "execution_count": null,
   "metadata": {},
   "outputs": [],
   "source": [
    "soup = BeautifulSoup(response.content, \"lxml\")"
   ]
  },
  {
   "cell_type": "code",
   "execution_count": null,
   "metadata": {},
   "outputs": [],
   "source": [
    "a = soup.find_all('a', {'class': 'list-group-item-thumbnail-wrap'})\n",
    "a = [a_.get('href') for a_ in a]\n",
    "a"
   ]
  },
  {
   "cell_type": "code",
   "execution_count": null,
   "metadata": {},
   "outputs": [],
   "source": []
  }
 ],
 "metadata": {
  "kernelspec": {
   "display_name": "Python 3 (ipykernel)",
   "language": "python",
   "name": "python3"
  },
  "language_info": {
   "codemirror_mode": {
    "name": "ipython",
    "version": 3
   },
   "file_extension": ".py",
   "mimetype": "text/x-python",
   "name": "python",
   "nbconvert_exporter": "python",
   "pygments_lexer": "ipython3",
   "version": "3.8.10"
  }
 },
 "nbformat": 4,
 "nbformat_minor": 4
}
