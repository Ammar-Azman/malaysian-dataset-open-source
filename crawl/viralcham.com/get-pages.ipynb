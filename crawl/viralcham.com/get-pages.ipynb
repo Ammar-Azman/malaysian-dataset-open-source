{
 "cells": [
  {
   "cell_type": "code",
   "execution_count": 1,
   "metadata": {},
   "outputs": [],
   "source": [
    "import requests\n",
    "from bs4 import BeautifulSoup\n",
    "from tqdm import tqdm\n",
    "import os\n",
    "import json\n",
    "import numpy as np\n",
    "import time\n",
    "import random\n",
    "import json"
   ]
  },
  {
   "cell_type": "code",
   "execution_count": 2,
   "metadata": {},
   "outputs": [
    {
     "data": {
      "text/plain": [
       "39130"
      ]
     },
     "execution_count": 2,
     "metadata": {},
     "output_type": "execute_result"
    }
   ],
   "source": [
    "from glob import glob\n",
    "\n",
    "files = glob('url/*.json')\n",
    "urls = []\n",
    "for f in files:\n",
    "    with open(f) as fopen:\n",
    "        urls.extend(json.load(fopen))\n",
    "urls = sorted(list(set(urls)))\n",
    "len(urls)"
   ]
  },
  {
   "cell_type": "code",
   "execution_count": 3,
   "metadata": {},
   "outputs": [
    {
     "name": "stdout",
     "output_type": "stream",
     "text": [
      "mkdir: cannot create directory ‘page’: File exists\r\n"
     ]
    }
   ],
   "source": [
    "!mkdir page"
   ]
  },
  {
   "cell_type": "code",
   "execution_count": 4,
   "metadata": {},
   "outputs": [],
   "source": [
    "r = requests.get(urls[0])\n",
    "soup = BeautifulSoup(r.content, \"lxml\")"
   ]
  },
  {
   "cell_type": "code",
   "execution_count": 5,
   "metadata": {},
   "outputs": [
    {
     "data": {
      "text/plain": [
       "'https://viralcham.com/%e5%85%8d%e8%b4%b9/%e3%80%8c12%e7%94%9f%e8%82%96%e3%80%8d%e5%94%b1k%e6%9c%89%e4%be%bf%e5%ae%9c%ef%bc%81%e8%b5%b6%e5%bf%ab%e7%ba%a6%e6%9c%8b%e5%8f%8b%e4%b8%80%e8%b5%b7%e5%8e%bb%e5%92%af%ef%bc%81/'"
      ]
     },
     "execution_count": 5,
     "metadata": {},
     "output_type": "execute_result"
    }
   ],
   "source": [
    "urls[0]"
   ]
  },
  {
   "cell_type": "code",
   "execution_count": 6,
   "metadata": {},
   "outputs": [
    {
     "data": {
      "text/plain": [
       "'「12生肖」唱K有便宜！赶快约朋友一起去咯！'"
      ]
     },
     "execution_count": 6,
     "metadata": {},
     "output_type": "execute_result"
    }
   ],
   "source": [
    "soup.find('h1', {'class': 'post-title'}).text"
   ]
  },
  {
   "cell_type": "code",
   "execution_count": 7,
   "metadata": {},
   "outputs": [
    {
     "data": {
      "text/plain": [
       "'\\n优惠期间 \\n26JAN -17FEB 2015\\nSUN – THU, 5PM – 8PM\\n肖马，羊 【非会员RM8.00，会员RM6.00】\\n肖候，鸡，狗，猪，鼠 【非会员RM10.00，会员RM8.00】\\n肖牛，虎，兔，龙，蛇 【非会员RM12.00，会员RM10.00】\\nTERMS & CONDITIONS\\n• Promotion is valid at loud speaker family karaoke – all outlets \\n• Promotion is valid from 26 JAN to 17 FEB 2015 \\n• Promotion is valid for SUN-THU & 5pm-8pm \\n• If check in after 7pm the maximum singing hour will end at 10pm \\n• Please kindly present the identity card (I.C.) upon check in for promo redemption \\n• One identity card (I.C.) is enough to get the promo rate for all pax in a room\\xa0\\n\\xa0\\n• Discount followed by the Chinese zodiac categories \\n• Present 1 member card to get RM 2 extra discount from the promo rate for all pax in the room\\n• minimum 2 pax in a room is required\\n• Promotion is not applicable for public holiday and eve\\n• No combination of vouchers, promotions & discounts allowed\\n• The management reserves the right to change the terms & conditions without prior notice room \\n赶快来预订哦\\n\\n\\n\\n\\n\\n\\n\\n\\n\\n\\n五福城 Taman Sutera Utama 07 559 9998\\n奥斯丁 Taman Mount Austin 07 357 7778\\n哥打白沙罗 Kota Damansara 03 6142 2223\\n梳邦再也 Subang Jaya 03 5612 2223\\n南蕉赖 Cheras Selatan 010 829 5000 / 03-90815222\\n蒲种 Puchong SetiaWalk 016 771 0445\\n'"
      ]
     },
     "execution_count": 7,
     "metadata": {},
     "output_type": "execute_result"
    }
   ],
   "source": [
    "soup.find('div', {'itemprop':\"articleBody\"}).text"
   ]
  },
  {
   "cell_type": "code",
   "execution_count": 8,
   "metadata": {},
   "outputs": [
    {
     "name": "stderr",
     "output_type": "stream",
     "text": [
      "39130it [6:43:54,  1.61it/s]  \n"
     ]
    }
   ],
   "source": [
    "for no, url in tqdm(enumerate(urls)):\n",
    "    filename = os.path.join('page', f'{no}.json')\n",
    "    if os.path.exists(filename):\n",
    "        continue\n",
    "    \n",
    "    while True:\n",
    "        try:\n",
    "            r = requests.get(url)\n",
    "            break\n",
    "        except:\n",
    "            time.sleep(1.0)\n",
    "            \n",
    "    soup = BeautifulSoup(r.content, \"lxml\")\n",
    "\n",
    "    try:\n",
    "        title = soup.find('h1', {'class': 'post-title'}).text\n",
    "    except Exception as e:\n",
    "        title = None\n",
    "\n",
    "    try:\n",
    "        body = soup.find('div', {'itemprop':\"articleBody\"}).text\n",
    "    except Exception as e:\n",
    "        body = None\n",
    "\n",
    "    data = {\n",
    "        'url': url,\n",
    "        'title': title,\n",
    "        'body': body,\n",
    "    }\n",
    "    with open(filename, 'w') as fopen:\n",
    "        json.dump(data, fopen)"
   ]
  },
  {
   "cell_type": "code",
   "execution_count": null,
   "metadata": {},
   "outputs": [],
   "source": []
  }
 ],
 "metadata": {
  "kernelspec": {
   "display_name": "Python 3 (ipykernel)",
   "language": "python",
   "name": "python3"
  },
  "language_info": {
   "codemirror_mode": {
    "name": "ipython",
    "version": 3
   },
   "file_extension": ".py",
   "mimetype": "text/x-python",
   "name": "python",
   "nbconvert_exporter": "python",
   "pygments_lexer": "ipython3",
   "version": "3.8.10"
  }
 },
 "nbformat": 4,
 "nbformat_minor": 4
}
