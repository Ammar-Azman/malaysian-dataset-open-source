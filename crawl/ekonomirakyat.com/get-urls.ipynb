{
 "cells": [
  {
   "cell_type": "code",
   "execution_count": 1,
   "metadata": {},
   "outputs": [],
   "source": [
    "import requests\n",
    "from bs4 import BeautifulSoup\n",
    "from tqdm import tqdm\n",
    "import os\n",
    "import json\n",
    "import numpy as np\n",
    "import time\n",
    "import random\n",
    "import json\n",
    "import urllib3\n",
    "urllib3.disable_warnings(urllib3.exceptions.InsecureRequestWarning)"
   ]
  },
  {
   "cell_type": "code",
   "execution_count": 2,
   "metadata": {},
   "outputs": [],
   "source": [
    "url = 'https://ekonomirakyat.com.my/category/ekonomi/page/2/'\n",
    "r = requests.get(url)"
   ]
  },
  {
   "cell_type": "code",
   "execution_count": 3,
   "metadata": {},
   "outputs": [],
   "source": [
    "soup = BeautifulSoup(r.content, \"lxml\")"
   ]
  },
  {
   "cell_type": "code",
   "execution_count": 6,
   "metadata": {},
   "outputs": [
    {
     "data": {
      "text/plain": [
       "['https://ekonomirakyat.com.my/bagaimana-bernard-arnault-bos-lvmh-menjadi-manusia-terkaya-di-dunia/',\n",
       " 'https://ekonomirakyat.com.my/kereta-elektrik-mesra-alam-sekitar-dan-mesra-orang-kaya/',\n",
       " 'https://ekonomirakyat.com.my/bagaimana-peraturan-78-menguntungkan-bank-namun-merugikan-peminjam/',\n",
       " 'https://ekonomirakyat.com.my/sampah-bukan-sekadar-sampah/',\n",
       " 'https://ekonomirakyat.com.my/langkah-berani-mati-perancis-tingkatkan-umur-persaraan-cetus-protes-rakyat/',\n",
       " 'https://ekonomirakyat.com.my/sumpahan-petroleum-pengajaran-dari-venezuela/',\n",
       " 'https://ekonomirakyat.com.my/25-tahun-belanjawan-defisit-mampukah-defisit-fiskal-dikurangkan/',\n",
       " 'https://ekonomirakyat.com.my/mengapa-klasifikasi-pendapatan-b40-m40-dan-t20-begitu-bermasalah/',\n",
       " 'https://ekonomirakyat.com.my/lima-sebab-mengapa-isu-jalan-jem-sukar-untuk-diselesaikan/',\n",
       " 'https://ekonomirakyat.com.my/berapa-kos-membesarkan-seorang-anak-di-kl-kajian-kata-rm1300-sebulan/']"
      ]
     },
     "execution_count": 6,
     "metadata": {},
     "output_type": "execute_result"
    }
   ],
   "source": [
    "a = soup.find_all('article')\n",
    "a = [a_.find('a').get('href') for a_ in a]\n",
    "a"
   ]
  },
  {
   "cell_type": "code",
   "execution_count": 8,
   "metadata": {},
   "outputs": [
    {
     "name": "stderr",
     "output_type": "stream",
     "text": [
      "16it [00:08,  1.83it/s]\n"
     ]
    }
   ],
   "source": [
    "def generator():\n",
    "    while True:\n",
    "        yield\n",
    "        \n",
    "index = 1\n",
    "all_a = []\n",
    "\n",
    "for _ in tqdm(generator()):\n",
    "    url = f'https://ekonomirakyat.com.my/category/ekonomi/page/{index}/'\n",
    "    r = requests.get(url)\n",
    "    soup = BeautifulSoup(r.content, \"lxml\")\n",
    "\n",
    "    a = soup.find_all('article')\n",
    "    a = [a_.find('a').get('href') for a_ in a]\n",
    "    \n",
    "    if not len(a):\n",
    "        break\n",
    "        \n",
    "    all_a.extend(a)\n",
    "    \n",
    "    index += 1"
   ]
  },
  {
   "cell_type": "code",
   "execution_count": 12,
   "metadata": {},
   "outputs": [
    {
     "data": {
      "text/plain": [
       "151"
      ]
     },
     "execution_count": 12,
     "metadata": {},
     "output_type": "execute_result"
    }
   ],
   "source": [
    "urls = sorted(list(set(all_a)))\n",
    "len(urls)"
   ]
  },
  {
   "cell_type": "code",
   "execution_count": 13,
   "metadata": {},
   "outputs": [
    {
     "data": {
      "text/plain": [
       "['https://ekonomirakyat.com.my/1-5-juta-orang-kehilangan-pekerjaan-kadar-pengganguran-dijangka-naik-kepada-13/',\n",
       " 'https://ekonomirakyat.com.my/1-9-juta-graduan-kerja-dibawah-kelayakan/',\n",
       " 'https://ekonomirakyat.com.my/16-rakyat-malaysia-tolak-vaksin-17-masih-tidak-pasti/',\n",
       " 'https://ekonomirakyat.com.my/2-4-juta-orang-akan-hilang-pekerjaan-ekonomi-malaysia-dijangka-menguncup-2-9/',\n",
       " 'https://ekonomirakyat.com.my/2022-malaysia-vs-inflasi/',\n",
       " 'https://ekonomirakyat.com.my/25-tahun-belanjawan-defisit-mampukah-defisit-fiskal-dikurangkan/',\n",
       " 'https://ekonomirakyat.com.my/51tahunselepasdeb/',\n",
       " 'https://ekonomirakyat.com.my/53200-unit-rumah-bernilai-rm40-bilion-masih-belum-terjual-dimana-silapnya/',\n",
       " 'https://ekonomirakyat.com.my/68-isi-rumah-di-ppr-kuala-lumpur-tidak-mempunyai-sebarang-simpanan-wang-unicef-malaysia/',\n",
       " 'https://ekonomirakyat.com.my/71-pekerja-penghantaran-makanan-di-malaysia-pernah-kemalangan-majoriti-kerja-sehingga-84-jam-seminggu/',\n",
       " 'https://ekonomirakyat.com.my/adakah-gaji-menteri-malaysia-terlalu-tinggi/',\n",
       " 'https://ekonomirakyat.com.my/adakah-perdagangan-bebas-benar-benar-bebas/',\n",
       " 'https://ekonomirakyat.com.my/anda-bukar-sekadar-kerjaya-anda/',\n",
       " 'https://ekonomirakyat.com.my/anda-perlukan-rm2-1-juta-untuk-sertai-kumpulan-terkaya-1-di-malaysia/',\n",
       " 'https://ekonomirakyat.com.my/anda-perlukan-rm2570-sebulan-untuk-hidup-bermaruah-di-lembah-klang/',\n",
       " 'https://ekonomirakyat.com.my/apa-naratif-kempen-pru-15/',\n",
       " 'https://ekonomirakyat.com.my/apa-rahsia-new-zealand-tewaskan-covid-19/',\n",
       " 'https://ekonomirakyat.com.my/apakah-itu-kumpulan-wang-amanah-negara-kenapa-pindaan-akta-dipersoalkan/',\n",
       " 'https://ekonomirakyat.com.my/bagaimana-bernard-arnault-bos-lvmh-menjadi-manusia-terkaya-di-dunia/',\n",
       " 'https://ekonomirakyat.com.my/bagaimana-pekerja-asing-dieksploitasi-di-malaysia/',\n",
       " 'https://ekonomirakyat.com.my/bagaimana-peraturan-78-menguntungkan-bank-namun-merugikan-peminjam/',\n",
       " 'https://ekonomirakyat.com.my/bajet-2023-menuju-pilihan-raya-umum-ke-15/',\n",
       " 'https://ekonomirakyat.com.my/bank-di-malaysia-akan-putuskan-pelanjutan-moratorium-pinjaman/',\n",
       " 'https://ekonomirakyat.com.my/bantuan-tunai-selama-enam-bulan-harus-diberikan-kepada-isi-rumah-b60/',\n",
       " 'https://ekonomirakyat.com.my/bekas-ceo-tabung-haji-datuk-nik-hasyudeen-cadang-laporan-rci-th-didedahkan-kepada-umum/',\n",
       " 'https://ekonomirakyat.com.my/belanjawan-2021-kerajaan-terlalu-optimis/',\n",
       " 'https://ekonomirakyat.com.my/belanjawan-2022-cukai-makmur-bakal-jejaskan-dividen-rakyat/',\n",
       " 'https://ekonomirakyat.com.my/benarkah-rakyat-tidak-patuh-sop-ayuh-lihat-data-bercerita/',\n",
       " 'https://ekonomirakyat.com.my/berapa-kos-membesarkan-seorang-anak-di-kl-kajian-kata-rm1300-sebulan/',\n",
       " 'https://ekonomirakyat.com.my/biasiswastatus/',\n",
       " 'https://ekonomirakyat.com.my/bos-top-glove-lim-wee-chai-bakal-terima-rm707-juta-dividen-pada-23-mac-ini/',\n",
       " 'https://ekonomirakyat.com.my/covid-19-buktikan-pasaran-saham-tidak-cerminkan-realiti-ekonomi/',\n",
       " 'https://ekonomirakyat.com.my/cukai-kekayaan-bakal-jana-3-trilion-kepada-pentadbiran-amerika-syarikat/',\n",
       " 'https://ekonomirakyat.com.my/cuti-bersalin-98-hari-rahmat-atau-musibat/',\n",
       " 'https://ekonomirakyat.com.my/dasar-penswastaan-tingkatkan-ekuiti-bumiputera-namun-sangat-dicemari-politik-dr-lee-hwok-aun/',\n",
       " 'https://ekonomirakyat.com.my/disebalik-cukai-ada-ketirisan/',\n",
       " 'https://ekonomirakyat.com.my/dua-perkara-yang-perlu-dilakukan-kerajaan-ketika-pkp3-0/',\n",
       " 'https://ekonomirakyat.com.my/ekonomi-101-baik-dan-buruk-disebalik-monopoli/',\n",
       " 'https://ekonomirakyat.com.my/ekonomi-101-tiga-faktor-utama-mempengaruhi-turun-naik-nilai-ringgit/',\n",
       " 'https://ekonomirakyat.com.my/ekonomi-malaysia-berkembang-5-0-pada-q1-2022-beri-bayangan-kadar-faedah-akan-dinaikkan-secara-berkala/',\n",
       " 'https://ekonomirakyat.com.my/ekonomi-malaysia-jatuh-0-5-pada-suku-pertama-2021/',\n",
       " 'https://ekonomirakyat.com.my/ekonomi-malaysia-jatuh-4-5-pada-suku-ketiga-2021/',\n",
       " 'https://ekonomirakyat.com.my/ekonomi-malaysia-melonjak-16-1-pada-suku-kedua-2021/',\n",
       " 'https://ekonomirakyat.com.my/ekonomi-malaysia-tumbuh-3-1-pada-tahun-2021/',\n",
       " 'https://ekonomirakyat.com.my/ekonomi-tumbuh-8-9-pada-2q-2022-namun-20-daripada-sektor-ekonomi-masih-tenggelam/',\n",
       " 'https://ekonomirakyat.com.my/empat-sebab-kenapa-fitch-ratings-turunkan-taraf-kredit-malaysia/',\n",
       " 'https://ekonomirakyat.com.my/gaji-minimum-pekerja-di-jakarta-lebih-tinggi-dari-kuala-lumpur-2/',\n",
       " 'https://ekonomirakyat.com.my/gaji-penengah-pekerja-malaysia-jatuh-15-6-pada-2020/',\n",
       " 'https://ekonomirakyat.com.my/gaji-penengah-siswazah-muda-jatuh-25-kepada-rm1550-sebulan/',\n",
       " 'https://ekonomirakyat.com.my/gaji-permulaan-graduan-semakin-jatuh-53-6-graduan-ijazah-terima-gaji-dibawah-rm2000/',\n",
       " 'https://ekonomirakyat.com.my/gerhana-ekonomi-mampukah-malaysia-pulih-dengan-segera/',\n",
       " 'https://ekonomirakyat.com.my/great-depression-keynes-dan-krisis-covid-19/',\n",
       " 'https://ekonomirakyat.com.my/hanya-3-daripada-10-pekerjaan-baru-di-malaysia-dicipta-untuk-graduan/',\n",
       " 'https://ekonomirakyat.com.my/harga-barang-semakin-tinggi-tetapi-kenapa-kadar-inflasi-kekal-rendah/',\n",
       " 'https://ekonomirakyat.com.my/harga-minyak-petrol-di-malaysia-kekal-antara-yang-termurah-di-dunia/',\n",
       " 'https://ekonomirakyat.com.my/harga-rumah-naik-hampir-100-dari-tahun-2010-hingga-2020/',\n",
       " 'https://ekonomirakyat.com.my/hutang-pendidikan-bebankan-graduan/',\n",
       " 'https://ekonomirakyat.com.my/imf-kiblat-ekonomi-malaysia/',\n",
       " 'https://ekonomirakyat.com.my/imf-turunkan-lagi-jangkaan-pertumbuhan-ekonomi-malaysia-kepada-3-8/',\n",
       " 'https://ekonomirakyat.com.my/industri-kelapa-sawit-untung-besar-harga-minyak-sawit-mentah-melonjak-tinggi/',\n",
       " 'https://ekonomirakyat.com.my/industri-kreatif-kekal-suram-kutipan-tiket-filem-malaysia-jatuh-92-tahun-lalu/',\n",
       " 'https://ekonomirakyat.com.my/industri-penerbangan-dunia-dijangka-hilang-rm126-bilion-akibat-coronavirus/',\n",
       " 'https://ekonomirakyat.com.my/industri-penerbangan-dunia-rugi-rm484-bilion-lebih-tinggi-dari-jangkaan-awal/',\n",
       " 'https://ekonomirakyat.com.my/industri-perbankan-malaysia-untung-rm30-bilion/',\n",
       " 'https://ekonomirakyat.com.my/inflasi-naik-gaji-tak-naik-tun-daim-zainuddin/',\n",
       " 'https://ekonomirakyat.com.my/jangan-benarkan-rakyat-keluarkan-wang-persaraan-mereka-kerajaan-perlu-tolong-rakyat/',\n",
       " 'https://ekonomirakyat.com.my/jendela-liputan-4g-meningkat-namun-kelajuan-jalur-lebar-mudah-alih-hampir-tidak-berubah/',\n",
       " 'https://ekonomirakyat.com.my/jihad-melawan-inflasi-kekalahan-yang-tertangguh/',\n",
       " 'https://ekonomirakyat.com.my/kadar-faedah-inflasi-tinggi-dan-keselamatan-makanan-pengajaran-di-sebalik-tahun-2022/',\n",
       " 'https://ekonomirakyat.com.my/kadar-kemiskinan-isi-rumah-di-ppr-kl-meningkat-kepada-45-unicef-malaysia/',\n",
       " 'https://ekonomirakyat.com.my/kadar-kemiskinan-naik-kepada-8-4-pada-2020-ketidaksamaan-semakin-melebar/',\n",
       " 'https://ekonomirakyat.com.my/kalau-aku-kaya-50-orang-terkaya-di-malaysia-punyai-aset-rm377-bilion/',\n",
       " 'https://ekonomirakyat.com.my/kanak-kanak-mangsa-terbesar-wabak-covid-19-prof-jomo-ks/',\n",
       " 'https://ekonomirakyat.com.my/kanak-kanak-mula-hilang-minat-belajar-dr-muhammed-abdul-khalid/',\n",
       " 'https://ekonomirakyat.com.my/kapal-kontena-terkandas-di-terusan-suez-kapal-syarikat-logistik-pilih-pusing-afrika/',\n",
       " 'https://ekonomirakyat.com.my/kekayaan-bilionair-malaysia-meningkat-rm165-bilion-sejak-2010-2/',\n",
       " 'https://ekonomirakyat.com.my/kenapa-harga-kereta-terpakai-semakin-mahal/',\n",
       " 'https://ekonomirakyat.com.my/kenapa-harga-saham-meningkat-sewaktu-covid-19/',\n",
       " 'https://ekonomirakyat.com.my/kenapa-kdnk-bukan-indikator-ekonomi-yang-baik/',\n",
       " 'https://ekonomirakyat.com.my/kerajaan-bentang-belanjawan-2022-dengan-peruntukan-rm332-bilion/',\n",
       " 'https://ekonomirakyat.com.my/kerajaan-malaysia-berdepan-krisis-kepercayaan-rakyat/',\n",
       " 'https://ekonomirakyat.com.my/kerajaan-malaysia-mampu-jana-berbilion-ringgit-jika-spektrum-5g-dilelong/',\n",
       " 'https://ekonomirakyat.com.my/kerajaan-suntik-rm5-bilion-hadapi-pkp3-0/',\n",
       " 'https://ekonomirakyat.com.my/kereta-elektrik-mesra-alam-sekitar-dan-mesra-orang-kaya/',\n",
       " 'https://ekonomirakyat.com.my/keuntungan-petronas-susut-27-kepada-rm40-5-bilion/',\n",
       " 'https://ekonomirakyat.com.my/kkm-perlu-peruntukan-tambahan-doktor-kontrak-perlu-diserap/',\n",
       " 'https://ekonomirakyat.com.my/kri-perbelanjaan-kesihatan-malaysia-antara-yang-terendah-di-rantau-asia-tenggara/',\n",
       " 'https://ekonomirakyat.com.my/langkah-berani-mati-perancis-tingkatkan-umur-persaraan-cetus-protes-rakyat/',\n",
       " 'https://ekonomirakyat.com.my/laporan-oxfam-2153-orang-terkaya-di-dunia-lebih-kaya-dari-separuh-populasi-manusia/',\n",
       " 'https://ekonomirakyat.com.my/lima-sebab-kenapa-penggabungan-uem-sunrise-ecoworld-bakal-rugikan-rakyat/',\n",
       " 'https://ekonomirakyat.com.my/lima-sebab-mengapa-isu-jalan-jem-sukar-untuk-diselesaikan/',\n",
       " 'https://ekonomirakyat.com.my/m40-jatuh-b40-apa-maknanya/',\n",
       " 'https://ekonomirakyat.com.my/majoriti-rakyat-malaysia-tidak-mampu-bersara-penyelidik-sosial/',\n",
       " 'https://ekonomirakyat.com.my/makcik-kiah-dan-ekonomi-madani/',\n",
       " 'https://ekonomirakyat.com.my/malaysia-perlu-model-baru-untuk-atasi-kemiskinan-dr-madeline-berma/',\n",
       " 'https://ekonomirakyat.com.my/malaysia-tidak-berada-di-dalam-krisis-ekonomi-gabenor-bank-negara/',\n",
       " 'https://ekonomirakyat.com.my/mampukah-bank-laksanakan-moratorium-untuk-kali-kedua/',\n",
       " 'https://ekonomirakyat.com.my/mampukah-pemulih-pulihkan-ekonomi-malaysia/',\n",
       " 'https://ekonomirakyat.com.my/mampukah-threads-saingi-twitter/',\n",
       " 'https://ekonomirakyat.com.my/melayu-malas-apa-pandangan-prof-ungku-aziz/',\n",
       " 'https://ekonomirakyat.com.my/memperbetulkan-tanggapan-salah-mengenai-hutang-negara/',\n",
       " 'https://ekonomirakyat.com.my/memperingati-jasa-sumbangan-ungku-aziz/',\n",
       " 'https://ekonomirakyat.com.my/mengapa-klasifikasi-pendapatan-b40-m40-dan-t20-begitu-bermasalah/',\n",
       " 'https://ekonomirakyat.com.my/mengimbau-krisis-kewangan-asia-1998/',\n",
       " 'https://ekonomirakyat.com.my/menilai-impak-koronavirus-terhadap-ekonomi-pelancongan-malaysia/',\n",
       " 'https://ekonomirakyat.com.my/meritokrasi-menghukum-kanak-kanak-dari-keluarga-susah/',\n",
       " 'https://ekonomirakyat.com.my/metaverse-apa-istimewanya-perkataan-ini-sehinggakan-facebook-menukar-namanya-kepada-meta/',\n",
       " 'https://ekonomirakyat.com.my/miskin-bandar-terjejas-teruk-ketika-pkp-hilang-1-3-pendapatan/',\n",
       " 'https://ekonomirakyat.com.my/monopoli-rangkaian-5g-di-malaysia-bakal-tingkatkan-kos-kepada-pengguna-pakar-telekomunikasi-2/',\n",
       " 'https://ekonomirakyat.com.my/naikkan-opr-tidak-akan-redakan-inflasi-tokoh-ekonomi/',\n",
       " 'https://ekonomirakyat.com.my/negara-negara-kaya-bolot-bekalan-vaksin-covid-19/',\n",
       " 'https://ekonomirakyat.com.my/new-zealand-turki-naikkan-gaji-minimum-tahun-hadapan/',\n",
       " 'https://ekonomirakyat.com.my/nhs-dan-penjagaan-kesihatan-sejagat/',\n",
       " 'https://ekonomirakyat.com.my/pakej-rangsangan-ekonomi-ada-dasar-yang-tersasar/',\n",
       " 'https://ekonomirakyat.com.my/pasaran-saham-kuala-lumpur-terus-menjunam/',\n",
       " 'https://ekonomirakyat.com.my/patutkah-kerajaan-umumkan-bantuan-tunai-tambahan-kepada-rakyat/',\n",
       " 'https://ekonomirakyat.com.my/patutkah-subsidi-minyak-digantikan-dengan-bantuan-tunai/',\n",
       " 'https://ekonomirakyat.com.my/pemilikan-ekuiti-bumiputera-semakin-rendah-hanya-tinggal-16-2/',\n",
       " 'https://ekonomirakyat.com.my/pemimpin-kanan-umno-johari-ghani-tambah-pegangan-saham-di-media-prima/',\n",
       " 'https://ekonomirakyat.com.my/pendapatan-isi-rumah-di-malaysia-sudah-pulih-ke-paras-pra-pandemik/',\n",
       " 'https://ekonomirakyat.com.my/pendapatan-pelaburan-kasar-kwsp-naik-58-kepada-rm19-3-bilion-pada-suku-pertama-2021/',\n",
       " 'https://ekonomirakyat.com.my/pengasas-top-glove-bakal-terima-rm460-juta-dividen/',\n",
       " 'https://ekonomirakyat.com.my/pengenalan-mrsm-berbayar-bakal-tingkatkan-jurang-kelas-antara-pelajar/',\n",
       " 'https://ekonomirakyat.com.my/pentadbiran-muhyiddin-lantik-39-ahli-parlimen-terajui-glc-badan-berkanun/',\n",
       " 'https://ekonomirakyat.com.my/perang-harga-minyak-bermula-pasaran-saham-global-menjunam/',\n",
       " 'https://ekonomirakyat.com.my/perbelanjaan-kerajaan-tidak-berkesan-perlu-usaha-selamatkan-perusahaan/',\n",
       " 'https://ekonomirakyat.com.my/perdana-menteri-umum-pakej-rangsangan-ekonomi-berjumlah-rm20-bilion/',\n",
       " 'https://ekonomirakyat.com.my/perdana-menteri-umum-pakej-rangsangan-pemulih-dengan-rm10-bilion-suntikan-fiskal/',\n",
       " 'https://ekonomirakyat.com.my/permai-suntikan-dana-dari-kerajaan-hanya-sekitar-rm2-7-bilion/',\n",
       " 'https://ekonomirakyat.com.my/petrodollar-bagaimana-arab-saudi-selamatkan-dolar-amerika/',\n",
       " 'https://ekonomirakyat.com.my/pm-umum-pakej-rangsangan-tambahan-sebanyak-rm10-bilion/',\n",
       " 'https://ekonomirakyat.com.my/polisi-hanya-boleh-jual-ekuiti-kepada-bumiputera-satu-langkah-bunuh-diri-kepada-ekonomi-orang-melayu-dr-muhammed-abdul-khalid/',\n",
       " 'https://ekonomirakyat.com.my/premium-disebalik-ketinggian/',\n",
       " 'https://ekonomirakyat.com.my/pru15-isu-ekonomi-kebimbangan-pengundi/',\n",
       " 'https://ekonomirakyat.com.my/ratusan-ribu-hilang-kerja-tetapi-kenapa-kadar-pengangguran-menurun/',\n",
       " 'https://ekonomirakyat.com.my/rm25-bilion-suntikan-fiskal-tidak-mencukupi-kerajaan-harus-berbelanja-besar/',\n",
       " 'https://ekonomirakyat.com.my/rokok-seludup-kerajaan-hilang-rm5-1-bilion-pada-2018/',\n",
       " 'https://ekonomirakyat.com.my/sampah-bukan-sekadar-sampah/',\n",
       " 'https://ekonomirakyat.com.my/scalpers-ulat-tiket-satu-malapetaka-buat-pengguna/',\n",
       " 'https://ekonomirakyat.com.my/sekolah-ditutup-42-minggu-akibat-covid-19-murid-di-malaysia-hilang-1-3-tahun-pembelajaran/',\n",
       " 'https://ekonomirakyat.com.my/sosialisme-kapitalisme-dan-islam/',\n",
       " 'https://ekonomirakyat.com.my/sumpahan-petroleum-pengajaran-dari-venezuela/',\n",
       " 'https://ekonomirakyat.com.my/teknologi-digital-antara-sektor-berpotensi-di-pasaran-saham/',\n",
       " 'https://ekonomirakyat.com.my/tiga-pakar-ekonomi-tulis-surat-terbuka-kepada-perdana-menteri/',\n",
       " 'https://ekonomirakyat.com.my/topglove-belanja-rm774-juta-beli-balik-saham-raih-untung-rm1-8-bilion/',\n",
       " 'https://ekonomirakyat.com.my/trend-beli-sekarang-bayar-kemudian-semakin-popular-tetapi-ada-risikonya/',\n",
       " 'https://ekonomirakyat.com.my/tubuhkan-danarumah-untuk-selamatkan-rakyat-malaysia/',\n",
       " 'https://ekonomirakyat.com.my/ulangtahun-pertama-ekonomi-rakyat-teguh-merakyatkan-pemikiran/',\n",
       " 'https://ekonomirakyat.com.my/unicef-malaysia-kadar-pengangguran-ketua-isi-rumah-di-ppr-kl-meningkat-dua-kali-ganda/',\n",
       " 'https://ekonomirakyat.com.my/vaksinasi-perlahan-bank-dunia-turunkan-unjuran-pertumbuhan-ekonomi-malaysia/',\n",
       " 'https://ekonomirakyat.com.my/wajarkah-sapura-diselamatkan-kerajaan/']"
      ]
     },
     "execution_count": 13,
     "metadata": {},
     "output_type": "execute_result"
    }
   ],
   "source": [
    "urls"
   ]
  },
  {
   "cell_type": "code",
   "execution_count": 14,
   "metadata": {},
   "outputs": [],
   "source": [
    "url = urls[0]\n",
    "r = requests.get(url)\n",
    "soup = BeautifulSoup(r.content, \"lxml\")"
   ]
  },
  {
   "cell_type": "code",
   "execution_count": 17,
   "metadata": {},
   "outputs": [
    {
     "data": {
      "text/plain": [
       "'1.5 Juta Orang Kehilangan Pekerjaan, Kadar Pengangguran Dijangka Naik kepada 13%'"
      ]
     },
     "execution_count": 17,
     "metadata": {},
     "output_type": "execute_result"
    }
   ],
   "source": [
    "soup.find('h1').text.strip()"
   ]
  },
  {
   "cell_type": "code",
   "execution_count": 19,
   "metadata": {},
   "outputs": [
    {
     "data": {
      "text/plain": [
       "'\\n\\nShare it\\n\\n\\n\\n\\n\\n\\n\\n\\nJabatan Perangkaan Malaysia pada minggu lalu mengeluarkan statistik dari tinjauan khas bertajuk ‘ Impak Covid-19 Terhadap Ekonomi dan Individu. ‘ Kajian tersebut menyatakan bahawa 46.6% pekerja yang bekerja sendiri telah kehilangan pekerjaan.\\n\\n\\n\\n\\n\\n\\n\\n\\n\\n\\nManakala pekerja yang bekerja sendiri yang masih mempunyai pekerjaan ( 53.4% ) kebanyakkannya melaporkan penurunan pendapatan. 35.5% dari pekerja yang masih bekerja ini melaporkan kejatuhan pendapatan melebihi 90%.\\n\\n\\nIni bermaksud 1.2 juta pekerja dari 2.59 juta pekerja yang bekerja sendiri ( Own Account Worker ) telah kehilangan pekerjaan mereka. Seramai 491,000 orang lagi pekerja telah mengalami kejatuhan pendapatan melebihi 90%.\\n\\n\\nDefinisi pekerja yang bekerja sendiri ( OAW ) menurut Jabatan Perangkaan Malaysia adalah pekerja yang mengusahakan ladang, perniagaan atau perusahaan sendiri tanpa menggaji pekerja. Contoh pekerja yang bekerja sendiri adalah Mak Cik Kiah, di mana beliau menjual pisang goreng di gerai secara sendirian.\\n\\n\\n\\n\\n\\n\\n\\n\\n\\n\\n\\n\\nKajian DOSM turut menunjukkan terdapat 197,600 ( 1.8% ) orang pekerja swasta yang kehilangan kerja manakala 124,800 ( 23.8% ) majikan kehilangan kerja.\\n\\n\\n\\n\\nJika angka ini \\nrepresentatif\\n dan diterjemahkan ke dalam statistik tenaga buruh. Ini bermaksud angka kadar pengangguran telah meningkat dari 512,000 orang iaitu sekitar 3.2% kepada 2 juta orang iaitu 13% dari tenaga buruh.\\n\\n\\nAngka 13% ini lebih tinggi berbanding kadar pengganguran tertinggi yang dicatatkan di Malaysia iaitu 8.6% pada tahun 1986 sejurus Malaysia mengalami kemelesetan ekonomi pada tahun 1985 dimana ekonomi negara menguncup 1%.\\n\\n\\nPelanjutan tempoh pelaksanaan PKP akan terus memberikan kesan buruk buat ekonomi rakyat. Meskipun pelbagai bantuan akan disalurkan oleh kerajaan terhadap isi rumah dan individu bujang, namun ia belum cukup untuk mengeluarkan Malaysia dari kemelesetan ekonomi secepat mungkin.\\n\\n\\n\\n\\n\\n\\n\\n\\n\\n\\n\\n\\nPerbelanjaan RM35 bilion oleh kerajaan melalui pakej rangsangan ekonomi hanyalah sekitar 2.3% daripada keseluruhan ekonomi negara. Jiran kita, Singapura membelanjakan 3.5% berbanding KDNK negara mereka bagi menangani Covid-19 manakala New Zealand membelanjakan sehingga 4% KDNK mereka.\\n\\n\\n\\n\\nBantuan yang diberikan juga bersifat one-off dimana ia tidak cukup untuk membantu isi rumah mengharungi hari-hari mereka selepas PKP ini tamat. Harus diingatkan bahawa keadaan tidak akan kembali seperti biasa ( \\nnot back to normal\\n ) selepas PKP ini berakhir. Sebaliknya, aktiviti ekonomi di dalam negara akan bergerak perlahan.\\n\\n\\nJusteru, langkah yang sesuai perlu diambil bagi mengatasi masalah ini. Sebagai contoh, individu yang bekerja sendiri sepatutnya diberikan bantuan sekurang-kurangnya enam bulan bagi mereka menyesuaikan diri dengan keadaan pasca Covid-19. Ini apa yang dilakukan di Singapura dimana pemerintah Singapura memperuntukan SG$1,000 sebulan kepada pekerja yang bekerja sendiri selama enam bulan yang terjejas akibat Covid-19.\\n\\n\\nInstitut Penyelidikan Ekonomi Malaysia ( MIER ) dalam dapatan mereka menyarankan agar kerajaan membelanjakan sekurang-kurangnya RM75 bilion di dalam pakej rangsangan ekonomi.\\n\\n\\n\\n\\n\\n\\n\\n\\n\\n\\n\\n\\nPERHATIAN : Kiraan diatas dikira berdasarkan dua laporan yang dikeluarkan oleh Jabatan Perangkaan Malaysia iaitu Laporan Survei Tenaga Buruh Suku Tahun Ke-4 2019 dan Survei Khas Kesan Covid-19 Kepada Ekonomi dan Individu.\\n\\n\\n\\n\\n\\n\\nIkuti Ekonomi Rakyat di Telegram\\n\\n\\n\\n'"
      ]
     },
     "execution_count": 19,
     "metadata": {},
     "output_type": "execute_result"
    }
   ],
   "source": [
    "soup.find('div', {'class': 'entry-content clearfix'}).get_text(separator=\"\\n\")"
   ]
  },
  {
   "cell_type": "code",
   "execution_count": 20,
   "metadata": {},
   "outputs": [
    {
     "name": "stderr",
     "output_type": "stream",
     "text": [
      "100%|███████████████████████████████████████████████████████████████████████████████████████████████████████████| 151/151 [00:33<00:00,  4.56it/s]\n"
     ]
    }
   ],
   "source": [
    "data = []\n",
    "for url in tqdm(urls):\n",
    "    r = requests.get(url)\n",
    "    soup = BeautifulSoup(r.content, \"lxml\")\n",
    "    data.append({\n",
    "        'url': url,\n",
    "        'title': soup.find('h1').text.strip(),\n",
    "        'body': soup.find('div', {'class': 'entry-content clearfix'}).get_text(separator=\"\\n\"),\n",
    "    })"
   ]
  },
  {
   "cell_type": "code",
   "execution_count": 21,
   "metadata": {},
   "outputs": [
    {
     "data": {
      "text/plain": [
       "151"
      ]
     },
     "execution_count": 21,
     "metadata": {},
     "output_type": "execute_result"
    }
   ],
   "source": [
    "len(data)"
   ]
  },
  {
   "cell_type": "code",
   "execution_count": 23,
   "metadata": {},
   "outputs": [],
   "source": [
    "with open('ekonomirakyat.com.jsonl', 'w') as fopen:\n",
    "    for d in data:\n",
    "        fopen.write(f'{json.dumps(d)}\\n')"
   ]
  },
  {
   "cell_type": "code",
   "execution_count": null,
   "metadata": {},
   "outputs": [],
   "source": []
  }
 ],
 "metadata": {
  "kernelspec": {
   "display_name": "Python 3 (ipykernel)",
   "language": "python",
   "name": "python3"
  },
  "language_info": {
   "codemirror_mode": {
    "name": "ipython",
    "version": 3
   },
   "file_extension": ".py",
   "mimetype": "text/x-python",
   "name": "python",
   "nbconvert_exporter": "python",
   "pygments_lexer": "ipython3",
   "version": "3.8.10"
  }
 },
 "nbformat": 4,
 "nbformat_minor": 4
}
