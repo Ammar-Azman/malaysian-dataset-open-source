{
 "cells": [
  {
   "cell_type": "code",
   "execution_count": 1,
   "metadata": {},
   "outputs": [
    {
     "name": "stdout",
     "output_type": "stream",
     "text": [
      "c:\\Users\\izard\\Documents\\GitHub\\bimb-osint-development\\back-end\\bnm\\public_notice\n"
     ]
    }
   ],
   "source": [
    "from bs4 import BeautifulSoup\n",
    "import os\n",
    "import pandas as pd\n",
    "import numpy as np\n",
    "import re\n",
    "import random\n",
    "from random import randint\n",
    "import time #delay\n",
    "from selenium import webdriver\n",
    "from selenium.webdriver.common.by import By\n",
    "from tqdm import tqdm\n",
    "\n",
    "os.chdir('/Users/izard/Documents/GitHub/bimb-osint-development/back-end/bnm/public_notice/')\n",
    "print(os.getcwd())"
   ]
  },
  {
   "cell_type": "code",
   "execution_count": null,
   "metadata": {},
   "outputs": [],
   "source": [
    "driver = webdriver.Edge()"
   ]
  },
  {
   "cell_type": "markdown",
   "metadata": {},
   "source": [
    "### Scrape Links for BNM Public Notice (English & Malay)"
   ]
  },
  {
   "cell_type": "markdown",
   "metadata": {},
   "source": [
    "##### Get English Content URL"
   ]
  },
  {
   "cell_type": "code",
   "execution_count": null,
   "metadata": {},
   "outputs": [],
   "source": [
    "#list of pages where links of available public notice #English\n",
    "\n",
    "date=[]\n",
    "title=[]\n",
    "link=[]\n",
    "\n",
    "for year in list(range(2009,2025)):\n",
    "    url='https://www.bnm.gov.my/notices-announcements/-/tag/notices-'+str(year)\n",
    "    print(url)\n",
    "    driver.get(url)\n",
    "    time.sleep(random.randint(5,10))\n",
    "    soup=BeautifulSoup(driver.page_source)\n",
    "    \n",
    "    public_notice_list=soup.find('table',attrs={'class':'Press-table table'}).find_all('tr')[1:]\n",
    "\n",
    "    for public_notice in public_notice_list:\n",
    "        date.append(public_notice.find_all('p')[0].text)\n",
    "        title.append(public_notice.find_all('p')[1].text)\n",
    "        link.append(public_notice.find_all('p')[1])\n",
    "            \n",
    "df=pd.DataFrame({'date':date , 'title':title , 'link':link})\n",
    "df['link']=df['link'].astype(str).str.extract('(\"https.+\")')\n",
    "df['link']=df['link'].apply(lambda x: x.replace('\"',''))\n",
    "df['link']=df['link'].str.replace(r'(>.+)','',regex=True)\n",
    "df.to_csv('link1en.csv',index=False) # ref file 1"
   ]
  },
  {
   "cell_type": "markdown",
   "metadata": {},
   "source": [
    "##### Get PDF (English) Links within Content"
   ]
  },
  {
   "cell_type": "code",
   "execution_count": null,
   "metadata": {},
   "outputs": [],
   "source": [
    "link=[]\n",
    "pdf_links=[]\n",
    "\n",
    "df=pd.read_csv('link1en.csv')\n",
    "\n",
    "for url in df['link'].to_list():\n",
    "    print(url)\n",
    "    link.append(url)\n",
    "    driver = webdriver.Edge()\n",
    "    driver.get(url)\n",
    "    time.sleep(random.randint(5,10))\n",
    "    soup=BeautifulSoup(driver.page_source)\n",
    "    \n",
    "    # Find all 'a' tags (which define hyperlinks)   \n",
    "    a_tags = soup.find_all('a')\n",
    "    \n",
    "    file=[]\n",
    "    for tag in a_tags:\n",
    "        try:\n",
    "            check_pdf=re.search('documents.+\\.pdf', tag['href'])[0]\n",
    "            check_pdf=check_pdf.replace('%2F','/') \n",
    "            #check_pdf in tag['href']\n",
    "            file.append(check_pdf)\n",
    "        except:\n",
    "            pass\n",
    "    \n",
    "    file=list(set(file))\n",
    "    \n",
    "    # Filter the 'a' tags to get only those that link to a .pdf file\n",
    "    pdf_links.append(file)\n",
    "    \n",
    "    df=pd.DataFrame({'link':link, 'pdf_links':pdf_links})\n",
    "    df.to_csv('link-pdf-en.csv',index=False) # ref file 2\n",
    "    \n",
    "    driver.close()"
   ]
  },
  {
   "cell_type": "markdown",
   "metadata": {},
   "source": [
    "##### Get Malay Content URL"
   ]
  },
  {
   "cell_type": "code",
   "execution_count": null,
   "metadata": {},
   "outputs": [],
   "source": [
    "date=[]\n",
    "title=[]\n",
    "link=[]\n",
    "\n",
    "\n",
    "for year in list(range(2024,2025)):\n",
    "    url='https://www.bnm.gov.my/notices-announcements/-/tag/notices-'+str(year)\n",
    "    #print(url)\n",
    "    driver = webdriver.Edge()\n",
    "    driver.get(url)\n",
    "    \n",
    "    time.sleep(random.randint(5,10))\n",
    "    \n",
    "    soup=BeautifulSoup(driver.page_source)\n",
    "    \n",
    "    link_bm = soup.find('a',attrs={'lang':'ms-MY'})\n",
    "    link_bm = \"https://www.bnm.gov.my\"+(re.search('/.+languageId=ms_MY',str(link_bm)).group(0).replace('&amp;','&'))\n",
    "    \n",
    "    driver.get(link_bm)\n",
    "    \n",
    "    time.sleep(random.randint(5,10))\n",
    "    \n",
    "    soup=BeautifulSoup(driver.page_source)\n",
    "    \n",
    "    press_release_list=soup.find('table',attrs={'class':'Press-table table'}).find_all('tr')[1:]\n",
    "\n",
    "    for press_release in press_release_list:\n",
    "        date.append(press_release.find_all('p')[0].text)\n",
    "        title.append(press_release.find_all('p')[1].text)\n",
    "        link.append(press_release.find_all('p')[1])\n",
    "        \n",
    "    driver.close()\n",
    "\n",
    "    \n",
    "df=pd.DataFrame({'date':date , 'title':title , 'link':link})\n",
    "df['link']=df['link'].astype(str).str.extract('(\"https.+\")')\n",
    "df['link']=df['link'].apply(lambda x: x.replace('\"',''))\n",
    "df['link']=df['link'].str.replace(r'(->.+)','-',regex=True)\n",
    "df['link']=df['link'].str.replace(r'(>.+)','',regex=True)\n",
    "df.to_csv('link1ms.csv',index=False) # ref file 3"
   ]
  },
  {
   "cell_type": "markdown",
   "metadata": {},
   "source": [
    "#### Get PDF (Malay) Links within Content"
   ]
  },
  {
   "cell_type": "code",
   "execution_count": null,
   "metadata": {},
   "outputs": [],
   "source": [
    "#link=[]\n",
    "#pdf_links=[]\n",
    "\n",
    "import pandas\n",
    "df=pd.read_csv('link1ms.csv')\n",
    "link=pd.read_csv('link-pdf-ms.csv')['link'].to_list()\n",
    "pdf_links=pd.read_csv('link-pdf-ms.csv')['pdf_links'].to_list()\n",
    "\n",
    "#for url in df['link'].to_list():\n",
    "\n",
    "for url in tqdm([x for x in df['link'].to_list() if x not in link]):\n",
    "    try:\n",
    "        #print(url)\n",
    "        link.append(url)\n",
    "        driver = webdriver.Edge()\n",
    "        driver.get(url)\n",
    "        time.sleep(random.randint(5,10))\n",
    "        soup=BeautifulSoup(driver.page_source)\n",
    "        \n",
    "        \n",
    "        link_bm = soup.find('a',attrs={'lang':'ms-MY'})\n",
    "        link_bm = \"https://www.bnm.gov.my\"+(re.search('/.+languageId=ms_MY',str(link_bm)).group(0).replace('&amp;','&'))\n",
    "        print(link_bm)\n",
    "        link_bm = link_bm.replace('%2F','/')\n",
    "        \n",
    "        driver.get(link_bm)\n",
    "        time.sleep(random.randint(5,6))\n",
    "        \n",
    "        soup=BeautifulSoup(driver.page_source)\n",
    "        \n",
    "        # Find all 'a' tags (which define hyperlinks)   \n",
    "        a_tags = soup.find_all('a')\n",
    "        \n",
    "        file=[]\n",
    "        for tag in a_tags:\n",
    "            try:\n",
    "                check_pdf=re.search('documents.+\\.pdf', tag['href'])[0]\n",
    "                #print(check_pdf)\n",
    "                check_pdf=check_pdf.replace('%2F','/') \n",
    "                #check_pdf in tag['href']\n",
    "                file.append(check_pdf)\n",
    "                print(file)\n",
    "            except:\n",
    "                continue\n",
    "        \n",
    "        file=list(set(file))\n",
    "        \n",
    "        # Filter the 'a' tags to get only those that link to a .pdf file\n",
    "        pdf_links.append(file)\n",
    "        \n",
    "        df=pd.DataFrame({'link':link, 'pdf_links':pdf_links})\n",
    "        df.to_csv('link-pdf-ms.csv',index=False) # ref file 4\n",
    "        \n",
    "        driver.close()\n",
    "        \n",
    "    except:\n",
    "        \n",
    "        print('failed at ',url)\n",
    "        \n",
    "        file=[]\n",
    "        pdf_links.append(file)\n",
    "        \n",
    "        df=pd.DataFrame({'link':link, 'pdf_links':pdf_links})\n",
    "        df.to_csv('link-pdf-ms.csv',index=False) # ref file 4\n",
    "        \n",
    "        driver.close()\n",
    "        time.sleep(random.randint(5, 10))\n",
    "\n",
    "    "
   ]
  },
  {
   "cell_type": "markdown",
   "metadata": {},
   "source": [
    "#### Pdf links ref. table (Malay + English)"
   ]
  },
  {
   "cell_type": "code",
   "execution_count": null,
   "metadata": {},
   "outputs": [],
   "source": [
    "pdf_links=pd.concat([pd.merge(pd.read_csv('link1ms.csv'),pd.read_csv('link-pdf-ms.csv'),how='left',on='link'),pd.merge(pd.read_csv('link1en.csv'),pd.read_csv('link-pdf-en.csv'),how='left',on='link')]).reset_index(drop=True)\n",
    "pdf_links=pdf_links[~(pdf_links['link'].str.contains('%'))]\n",
    "pdf_links=pdf_links.drop_duplicates('link').reset_index(drop=True)\n",
    "pdf_links['link']=np.where(pdf_links['link'].str.endswith('.'),pdf_links['link'].str[:-1],pdf_links['link'])\n",
    "pdf_links"
   ]
  },
  {
   "cell_type": "code",
   "execution_count": null,
   "metadata": {},
   "outputs": [],
   "source": [
    "date=[]\n",
    "title=[]\n",
    "link=[]\n",
    "links=[]\n",
    "\n",
    "for x in list(range(len(pdf_links))):\n",
    "    \n",
    "    date.append(pdf_links['date'][x])\n",
    "    title.append(pdf_links['title'][x])\n",
    "    link.append(pdf_links['link'][x])\n",
    "    \n",
    "    try:\n",
    "        \n",
    "        pdf=\"\"\n",
    "\n",
    "        for row_link in re.search(r\"'documents.+\\.pdf'\",pdf_links['pdf_links'][x])[0].replace(\"'\",\"\").split(\",\"):\n",
    "            pdf=pdf+'https://www.bnm.gov.my/'+row_link.strip()+\", \"\n",
    "\n",
    "        pdf=pdf[:-2]\n",
    "        \n",
    "        links.append(pdf)\n",
    "        \n",
    "    except:\n",
    "        \n",
    "        pdf=\"\"\n",
    "        links.append(pdf)\n",
    "    \n",
    "df=pd.DataFrame({'date':date, 'title':title, 'link':link, 'pdf_links':links})\n",
    "\n",
    "pdf_links=pd.merge(pdf_links.drop(columns=['pdf_links']), df, on=['date','title','link'], how='left')\n",
    "pdf_links=pdf_links.drop_duplicates().reset_index(drop=True)\n",
    "pdf_links\n",
    "\n"
   ]
  },
  {
   "cell_type": "markdown",
   "metadata": {},
   "source": [
    "### Scrape Content Based on Links (English & Malay)"
   ]
  },
  {
   "cell_type": "code",
   "execution_count": null,
   "metadata": {},
   "outputs": [],
   "source": [
    "files=os.listdir()\n",
    "files=list(filter(lambda k: 'link1en' in k, files))\n",
    "\n",
    "df=pd.DataFrame()\n",
    "\n",
    "for file in files:\n",
    "    df=pd.concat([df,(pd.read_csv(file))])\n",
    "    df['link']=df['link'].str.replace(r'(>.+)','',regex=True)\n",
    "\n",
    "#content=[]\n",
    "#link=[]\n",
    "\n",
    "#content=pd.read_csv('content1.csv')['content'].to_list()\n",
    "#link=pd.read_csv('content1.csv')['link'].to_list()\n",
    "\n",
    "for url in tqdm([x for x in df['link'].to_list() if x not in link]):\n",
    "    try:\n",
    "        try:\n",
    "            print(url)\n",
    "            driver = webdriver.Edge()\n",
    "            driver.get(url)\n",
    "            \n",
    "            time.sleep(random.randint(5,6))\n",
    "            \n",
    "            soup=BeautifulSoup(driver.page_source)\n",
    "            \n",
    "            content.append(soup.find_all('div',attrs={'class':'journal-content-article'})[1].text)\n",
    "            link.append(url)\n",
    "            \n",
    "            driver.close()\n",
    "            \n",
    "            dfContent=pd.DataFrame({'link':link , 'content':content})\n",
    "            dfContent.to_csv('content1.csv', index=False) # ref file 5\n",
    "            \n",
    "        except:\n",
    "            driver.close()\n",
    "            driver = webdriver.Edge()\n",
    "            driver.get(url)\n",
    "            \n",
    "            time.sleep(random.randint(5,6))\n",
    "            \n",
    "            soup=BeautifulSoup(driver.page_source)\n",
    "            \n",
    "            content.append(soup.find_all('div',attrs={'class':'journal-content-article'})[0].text)\n",
    "            link.append(url)\n",
    "            \n",
    "            driver.close()\n",
    "            \n",
    "            dfContent=pd.DataFrame({'link':link , 'content':content})\n",
    "            dfContent.to_csv('content1.csv', index=False) # ref file 5\n",
    "            \n",
    "            continue            \n",
    "        \n",
    "    except:\n",
    "        \n",
    "        print('failed at ',url)\n",
    "        driver.close()\n",
    "        time.sleep(random.randint(5, 10))\n",
    "        \n",
    "        continue\n",
    "    "
   ]
  },
  {
   "cell_type": "code",
   "execution_count": null,
   "metadata": {},
   "outputs": [],
   "source": [
    "data=pd.read_csv('link1ms.csv')\n",
    "data['link']=data['link'].str.replace(r'(>.+)','',regex=True)\n",
    "\n",
    "link=[]\n",
    "link_opt=[]\n",
    "content=[]\n",
    "\n",
    "#link=link\n",
    "#link_opt=link_opt\n",
    "#content=content\n",
    "\n",
    "for url in tqdm([x for x in data['link'].to_list() if x not in link]):\n",
    "    try:\n",
    "        #print(url)\n",
    "        driver = webdriver.Edge()\n",
    "        driver.get(url)\n",
    "        \n",
    "        time.sleep(random.randint(5,6))\n",
    "        \n",
    "        soup=BeautifulSoup(driver.page_source)\n",
    "        \n",
    "        \n",
    "        link_bm = soup.find('a',attrs={'lang':'ms-MY'})\n",
    "        link_bm = \"https://www.bnm.gov.my\"+(re.search('/.+languageId=ms_MY',str(link_bm)).group(0).replace('&amp;','&'))\n",
    "        #print(link_bm)\n",
    "        link_bm = link_bm.replace('%2F','/')\n",
    "        \n",
    "            \n",
    "        driver.get(link_bm)\n",
    "        \n",
    "        time.sleep(random.randint(5,6))\n",
    "        \n",
    "        soup=BeautifulSoup(driver.page_source)\n",
    "        #print(link_bm)\n",
    "        #print(soup)\n",
    "        content.append(soup.find_all('div',attrs={'class':'journal-content-article'})[1].text)\n",
    "        link.append(url)\n",
    "        link_opt.append(link_bm)\n",
    "        \n",
    "        driver.close()\n",
    "        \n",
    "        df=pd.DataFrame({'link':link , 'link_opt':link_opt , 'content':content})\n",
    "        df.to_csv('content2.csv',index=False)\n",
    "\n",
    "    except:\n",
    "        print('failed at ',url)\n",
    "        \n",
    "        content.append(soup.find_all('div',attrs={'class':'journal-content-article'})[0].text)\n",
    "        link.append(url)\n",
    "        link_opt.append(link_bm)\n",
    "        \n",
    "        driver.close()\n",
    "        \n",
    "        df=pd.DataFrame({'link':link , 'link_opt':link_opt , 'content':content})\n",
    "        df.to_csv('content2.csv',index=False)\n",
    "        \n",
    "        time.sleep(random.randint(10,20))\n",
    "        continue\n",
    "\n",
    "\n"
   ]
  },
  {
   "cell_type": "code",
   "execution_count": null,
   "metadata": {},
   "outputs": [],
   "source": [
    "#(pd.merge(pd.read_csv('link1en.csv'),pd.read_csv('content1.csv'),how='left',on='link')).to_csv('public_notice_english.csv',index=False)\n",
    "#(pd.merge(pd.read_csv('link1ms.csv'),pd.read_csv('content2.csv'),how='left',on='link')).to_csv('public_notice_malay.csv',index=False)"
   ]
  },
  {
   "cell_type": "markdown",
   "metadata": {},
   "source": [
    "#### Combine English & Malay Content + Add in Category Column as \"Public Notice\" "
   ]
  },
  {
   "cell_type": "code",
   "execution_count": null,
   "metadata": {},
   "outputs": [],
   "source": [
    "bnm_data=pd.concat([pd.read_csv('public_notice_english.csv'),pd.read_csv('public_notice_malay.csv')])\n",
    "bnm_data['category']='Public Notice'\n",
    "bnm_data=bnm_data.reset_index(drop=True)\n",
    "bnm_data['link']=bnm_data['link'].str.strip()\n",
    "bnm_data=bnm_data[~(bnm_data['link'].str.contains('%'))]\n",
    "bnm_data=bnm_data.drop_duplicates('link')\n",
    "bnm_data"
   ]
  },
  {
   "cell_type": "code",
   "execution_count": null,
   "metadata": {},
   "outputs": [],
   "source": [
    "bnm_data['content']=bnm_data['content'].str.replace('\\r\\n\\r\\n\\r\\n\\r\\n','')\n",
    "bnm_data['content']=bnm_data['content'].str.replace('\\r\\n\\r\\n\\r\\n','\\r\\n')\n",
    "bnm_data['content']=bnm_data['content'].str.replace('\\r\\n\\r\\n\\r\\n\\r\\n\\r\\n\\r\\n\\r\\n','')\n",
    "bnm_data['content']=bnm_data['content'].str.replace('Shares\\r\\n','')\n",
    "bnm_data['content']=bnm_data['content'].str.replace('  Share:','Share:')\n",
    "bnm_data['content']=bnm_data['content'].str.replace('      ','')\n",
    "bnm_data\n",
    "\n"
   ]
  },
  {
   "cell_type": "code",
   "execution_count": null,
   "metadata": {},
   "outputs": [],
   "source": [
    "bnm_data=pd.merge(pdf_links,bnm_data,how='left',left_on=['date','title','link'],right_on=['date','title','link']).drop_duplicates()\n",
    "bnm_data\n"
   ]
  },
  {
   "cell_type": "markdown",
   "metadata": {},
   "source": [
    "### Download PDF files"
   ]
  },
  {
   "cell_type": "code",
   "execution_count": null,
   "metadata": {},
   "outputs": [],
   "source": [
    "from selenium import webdriver\n",
    "from selenium.webdriver.edge.options import Options\n",
    "import pyautogui\n",
    "import pyperclip\n",
    "\n",
    "\n",
    "link = []\n",
    "pdf_links = []\n",
    "\n",
    "# Filter the DataFrame once and reset the index\n",
    "\n",
    "'''\n",
    "filtered_data = bnm_data[bnm_data['pdf_links'] != ''].reset_index(drop=True)\n",
    "downloaded=pd.DataFrame({'link':link,'pdf_links':pdf_links})[['link']].drop_duplicates()\n",
    "downloaded['tag']='yes'\n",
    "filtered_data=pd.merge(filtered_data,downloaded,how='left',on='link')\n",
    "filtered_data=filtered_data[filtered_data['tag'].isnull()]\n",
    "filtered_data=filtered_data.drop(columns=['tag'])\n",
    "filtered_data=filtered_data.reset_index(drop=True)\n",
    "'''\n",
    "\n",
    "filtered_data = bnm_data[bnm_data['pdf_links'] != ''].reset_index(drop=True)\n",
    "filtered_data = filtered_data[['link','pdf_links']]\n",
    "filtered_data['pdf_links']=(filtered_data['pdf_links'].str.split(', ',expand=False))\n",
    "filtered_data = filtered_data.explode('pdf_links')\n",
    "filtered_data['filename']=filtered_data['pdf_links'].str.split('/').str[-1]\n",
    "os.chdir('/Users/izard/Documents/GitHub/bimb-osint-development/back-end/bnm/public_notice/pdf/')\n",
    "filtered_data=pd.merge(filtered_data,pd.DataFrame({'filename':os.listdir(),'downloaded':'yes'}),how='left',on='filename')\n",
    "filtered_data=filtered_data[filtered_data['downloaded'].isnull()].drop(columns=['downloaded'])\n",
    "filtered_data=filtered_data.reset_index(drop=True)\n",
    "\n",
    "# Setup Edge options\n",
    "edge_options = Options()\n",
    "\n",
    "# Initialize the driver once\n",
    "driver = webdriver.Edge(options=edge_options)\n",
    "\n",
    "for row in range(len(filtered_data)):\n",
    "    current_link = filtered_data['link'][row]\n",
    "    pdf_list = filtered_data['pdf_links'][row].split(', ')\n",
    "    \n",
    "    for pdf in pdf_list:\n",
    "        \n",
    "        try:\n",
    "        \n",
    "            link.append(current_link)\n",
    "            pdf_links.append(pdf)\n",
    "            driver.get(pdf)\n",
    "            \n",
    "            time.sleep(30)  # Wait for the page to load\n",
    "            pyautogui.hotkey('ctrl', 's')  # Simulate Ctrl + S (save)\n",
    "            time.sleep(10)  # Wait for the save dialog to appear\n",
    "            path_and_filename = 'c:\\\\Users\\\\izard\\\\Documents\\\\GitHub\\\\bimb-osint-development\\\\back-end\\\\bnm\\\\public_notice\\\\pdf\\\\'+pdf.split('/')[-1]\n",
    "            pyperclip.copy(path_and_filename)\n",
    "            pyautogui.hotkey('ctrl', 'v')\n",
    "            pyautogui.press('enter')  # Press Enter to save the file\n",
    "            pyautogui.press('enter')  # Press Enter to save the file\n",
    "            \n",
    "            time.sleep(random.randint(10,20))\n",
    "            \n",
    "            print('success')\n",
    "        \n",
    "        except:\n",
    "            print('unsuccess')\n",
    "            pass\n",
    "\n",
    "# Close the driver after processing all rows\n",
    "driver.quit()\n"
   ]
  },
  {
   "cell_type": "markdown",
   "metadata": {},
   "source": [
    "### PDF to Text"
   ]
  },
  {
   "cell_type": "code",
   "execution_count": null,
   "metadata": {},
   "outputs": [],
   "source": [
    "pdf_files = bnm_data[bnm_data['pdf_links'] != ''].reset_index(drop=True)\n",
    "pdf_files = pdf_files[['link','pdf_links']]\n",
    "pdf_files['pdf_links']=(pdf_files['pdf_links'].str.split(', ',expand=False))\n",
    "pdf_files = pdf_files.explode('pdf_links')\n",
    "pdf_files['filename']=pdf_files['pdf_links'].str.split('/').str[-1]\n",
    "os.chdir('/Users/izard/Documents/GitHub/bimb-osint-development/back-end/bnm/public_notice/pdf/')\n",
    "pdf_files=pd.merge(pdf_files,pd.DataFrame({'filename':os.listdir(),'downloaded':'yes'}),how='left',on='filename')\n",
    "pdf_files=pdf_files[pdf_files['downloaded'].notnull()].drop(columns=['downloaded'])\n",
    "pdf_files=pdf_files.reset_index(drop=True)\n",
    "pdf_files"
   ]
  },
  {
   "cell_type": "code",
   "execution_count": null,
   "metadata": {},
   "outputs": [],
   "source": [
    "# start tika server , check at http://localhost:9998/\n",
    "\n",
    "os.chdir('/Users/izard/') # change directory to where tika-server-standard-2.6.0.jar is located\n",
    "\n",
    "! java -jar tika-server-standard-2.6.0.jar"
   ]
  },
  {
   "cell_type": "code",
   "execution_count": null,
   "metadata": {},
   "outputs": [],
   "source": [
    "os.chdir('/Users/izard/Documents/GitHub/bimb-osint-development/back-end/bnm/public_notice/pdf/')\n",
    "os.getcwd()"
   ]
  },
  {
   "cell_type": "code",
   "execution_count": 24,
   "metadata": {},
   "outputs": [
    {
     "name": "stderr",
     "output_type": "stream",
     "text": [
      " 16%|█▋        | 66/405 [04:26<1:56:20, 20.59s/it]"
     ]
    },
    {
     "name": "stdout",
     "output_type": "stream",
     "text": [
      "unsuccess... Appendix+I+-+adjuster-regnreqmt.pdf\n",
      "parsing... Appendix+II+-+adjuster-glines-policies.pdf\n"
     ]
    },
    {
     "name": "stderr",
     "output_type": "stream",
     "text": [
      " 17%|█▋        | 67/405 [04:28<1:24:41, 15.03s/it]"
     ]
    },
    {
     "name": "stdout",
     "output_type": "stream",
     "text": [
      "parsing... Appendix+III+-+adjuster-registrationform.pdf\n"
     ]
    },
    {
     "name": "stderr",
     "output_type": "stream",
     "text": [
      " 17%|█▋        | 68/405 [04:30<1:02:36, 11.15s/it]"
     ]
    },
    {
     "name": "stdout",
     "output_type": "stream",
     "text": [
      "parsing... Appendix_II_Registration_Form_For_Currency_Processor.pdf\n"
     ]
    },
    {
     "name": "stderr",
     "output_type": "stream",
     "text": [
      " 17%|█▋        | 69/405 [04:32<47:15,  8.44s/it]  "
     ]
    },
    {
     "name": "stdout",
     "output_type": "stream",
     "text": [
      "parsing... Appendix_I_Gazette_Order.pdf\n"
     ]
    },
    {
     "name": "stderr",
     "output_type": "stream",
     "text": [
      " 17%|█▋        | 70/405 [04:34<36:30,  6.54s/it]"
     ]
    },
    {
     "name": "stdout",
     "output_type": "stream",
     "text": [
      "parsing... AR2009briefing_sessions.pdf\n"
     ]
    },
    {
     "name": "stderr",
     "output_type": "stream",
     "text": [
      " 18%|█▊        | 71/405 [04:36<29:02,  5.22s/it]"
     ]
    },
    {
     "name": "stdout",
     "output_type": "stream",
     "text": [
      "parsing... Banca_fdbk_stmt.pdf\n"
     ]
    },
    {
     "name": "stderr",
     "output_type": "stream",
     "text": [
      " 18%|█▊        | 72/405 [04:38<23:46,  4.28s/it]"
     ]
    },
    {
     "name": "stdout",
     "output_type": "stream",
     "text": [
      "parsing... bm_bnm_academic_cal.pdf\n"
     ]
    },
    {
     "name": "stderr",
     "output_type": "stream",
     "text": [
      " 18%|█▊        | 73/405 [04:40<20:02,  3.62s/it]"
     ]
    },
    {
     "name": "stdout",
     "output_type": "stream",
     "text": [
      "parsing... bm_bnm_procedures.pdf\n"
     ]
    },
    {
     "name": "stderr",
     "output_type": "stream",
     "text": [
      " 18%|█▊        | 74/405 [04:43<17:26,  3.16s/it]"
     ]
    },
    {
     "name": "stdout",
     "output_type": "stream",
     "text": [
      "parsing... bm_ia.pdf\n"
     ]
    },
    {
     "name": "stderr",
     "output_type": "stream",
     "text": [
      " 19%|█▊        | 75/405 [04:45<15:34,  2.83s/it]"
     ]
    },
    {
     "name": "stdout",
     "output_type": "stream",
     "text": [
      "parsing... BNM_form_2012.pdf\n"
     ]
    },
    {
     "name": "stderr",
     "output_type": "stream",
     "text": [
      " 19%|█▉        | 76/405 [04:47<14:17,  2.61s/it]"
     ]
    },
    {
     "name": "stdout",
     "output_type": "stream",
     "text": [
      "parsing... BNM_Periodic+Updates+on+Development+of+Liberalisation+of+The+Motor+Tariff_March_2018.pdf\n"
     ]
    },
    {
     "name": "stderr",
     "output_type": "stream",
     "text": [
      " 19%|█▉        | 77/405 [04:49<13:24,  2.45s/it]"
     ]
    },
    {
     "name": "stdout",
     "output_type": "stream",
     "text": [
      "parsing... BNM_RH_PD+032-3.pdf\n"
     ]
    },
    {
     "name": "stderr",
     "output_type": "stream",
     "text": [
      " 19%|█▉        | 78/405 [04:51<12:45,  2.34s/it]"
     ]
    },
    {
     "name": "stdout",
     "output_type": "stream",
     "text": [
      "parsing... bogus_call_alert.pdf\n"
     ]
    },
    {
     "name": "stderr",
     "output_type": "stream",
     "text": [
      " 20%|█▉        | 79/405 [04:59<22:46,  4.19s/it]"
     ]
    },
    {
     "name": "stdout",
     "output_type": "stream",
     "text": [
      "parsing... bs13.pdf\n"
     ]
    },
    {
     "name": "stderr",
     "output_type": "stream",
     "text": [
      " 20%|█▉        | 80/405 [05:02<20:27,  3.78s/it]"
     ]
    },
    {
     "name": "stdout",
     "output_type": "stream",
     "text": [
      "parsing... bs14_bm.pdf\n"
     ]
    },
    {
     "name": "stderr",
     "output_type": "stream",
     "text": [
      " 20%|██        | 81/405 [05:04<17:45,  3.29s/it]"
     ]
    },
    {
     "name": "stdout",
     "output_type": "stream",
     "text": [
      "parsing... bs14_en.pdf\n"
     ]
    },
    {
     "name": "stderr",
     "output_type": "stream",
     "text": [
      " 20%|██        | 82/405 [05:07<15:53,  2.95s/it]"
     ]
    },
    {
     "name": "stdout",
     "output_type": "stream",
     "text": [
      "parsing... bs2020.pdf\n"
     ]
    },
    {
     "name": "stderr",
     "output_type": "stream",
     "text": [
      " 20%|██        | 83/405 [05:09<14:48,  2.76s/it]"
     ]
    },
    {
     "name": "stdout",
     "output_type": "stream",
     "text": [
      "parsing... budget2011_bm.pdf\n"
     ]
    },
    {
     "name": "stderr",
     "output_type": "stream",
     "text": [
      " 21%|██        | 84/405 [05:11<13:44,  2.57s/it]"
     ]
    },
    {
     "name": "stdout",
     "output_type": "stream",
     "text": [
      "parsing... budget2011_bm_attach.pdf\n"
     ]
    },
    {
     "name": "stderr",
     "output_type": "stream",
     "text": [
      " 21%|██        | 85/405 [05:13<12:59,  2.44s/it]"
     ]
    },
    {
     "name": "stdout",
     "output_type": "stream",
     "text": [
      "parsing... budget2011_en.pdf\n"
     ]
    },
    {
     "name": "stderr",
     "output_type": "stream",
     "text": [
      " 21%|██        | 86/405 [05:15<12:31,  2.35s/it]"
     ]
    },
    {
     "name": "stdout",
     "output_type": "stream",
     "text": [
      "parsing... budget2011_en_attach.pdf\n"
     ]
    },
    {
     "name": "stderr",
     "output_type": "stream",
     "text": [
      " 21%|██▏       | 87/405 [05:17<12:08,  2.29s/it]"
     ]
    },
    {
     "name": "stdout",
     "output_type": "stream",
     "text": [
      "parsing... budget2012_bm.pdf\n"
     ]
    },
    {
     "name": "stderr",
     "output_type": "stream",
     "text": [
      " 22%|██▏       | 88/405 [05:20<11:53,  2.25s/it]"
     ]
    },
    {
     "name": "stdout",
     "output_type": "stream",
     "text": [
      "parsing... budget2012_en.pdf\n"
     ]
    },
    {
     "name": "stderr",
     "output_type": "stream",
     "text": [
      " 22%|██▏       | 89/405 [05:22<11:35,  2.20s/it]"
     ]
    },
    {
     "name": "stdout",
     "output_type": "stream",
     "text": [
      "parsing... budget2015_bm.pdf\n"
     ]
    },
    {
     "name": "stderr",
     "output_type": "stream",
     "text": [
      " 22%|██▏       | 90/405 [05:24<11:34,  2.21s/it]"
     ]
    },
    {
     "name": "stdout",
     "output_type": "stream",
     "text": [
      "parsing... budget2015_en.pdf\n"
     ]
    },
    {
     "name": "stderr",
     "output_type": "stream",
     "text": [
      " 22%|██▏       | 91/405 [05:26<11:24,  2.18s/it]"
     ]
    },
    {
     "name": "stdout",
     "output_type": "stream",
     "text": [
      "parsing... Budget2016_Recalibration.pdf\n"
     ]
    },
    {
     "name": "stderr",
     "output_type": "stream",
     "text": [
      " 23%|██▎       | 92/405 [05:28<11:14,  2.15s/it]"
     ]
    },
    {
     "name": "stdout",
     "output_type": "stream",
     "text": [
      "parsing... Budget2018.pdf\n"
     ]
    },
    {
     "name": "stderr",
     "output_type": "stream",
     "text": [
      " 23%|██▎       | 93/405 [05:30<11:14,  2.16s/it]"
     ]
    },
    {
     "name": "stdout",
     "output_type": "stream",
     "text": [
      "parsing... Budget_Speech_2016.pdf\n"
     ]
    },
    {
     "name": "stderr",
     "output_type": "stream",
     "text": [
      " 23%|██▎       | 94/405 [05:38<19:32,  3.77s/it]"
     ]
    },
    {
     "name": "stdout",
     "output_type": "stream",
     "text": [
      "parsing... Budget_Speech_2017.pdf\n"
     ]
    },
    {
     "name": "stderr",
     "output_type": "stream",
     "text": [
      " 23%|██▎       | 95/405 [05:58<45:42,  8.85s/it]"
     ]
    },
    {
     "name": "stdout",
     "output_type": "stream",
     "text": [
      "parsing... CAFIB+%28RWA%29+PD_TCIT.pdf\n"
     ]
    },
    {
     "name": "stderr",
     "output_type": "stream",
     "text": [
      " 24%|██▎       | 96/405 [06:02<36:45,  7.14s/it]"
     ]
    },
    {
     "name": "stdout",
     "output_type": "stream",
     "text": [
      "parsing... cba2009_02.pdf\n"
     ]
    },
    {
     "name": "stderr",
     "output_type": "stream",
     "text": [
      " 24%|██▍       | 97/405 [06:04<28:57,  5.64s/it]"
     ]
    },
    {
     "name": "stdout",
     "output_type": "stream",
     "text": [
      "parsing... Circular+030-4.pdf\n"
     ]
    },
    {
     "name": "stderr",
     "output_type": "stream",
     "text": [
      " 24%|██▍       | 98/405 [06:09<28:43,  5.61s/it]"
     ]
    },
    {
     "name": "stdout",
     "output_type": "stream",
     "text": [
      "parsing... Circular+on+MSB+DEP+18+Jan+2019+FINAL+%28sanitised+for+website%29.pdf\n"
     ]
    },
    {
     "name": "stderr",
     "output_type": "stream",
     "text": [
      " 24%|██▍       | 99/405 [06:11<23:11,  4.55s/it]"
     ]
    },
    {
     "name": "stdout",
     "output_type": "stream",
     "text": [
      "parsing... Clarification+document.pdf\n"
     ]
    },
    {
     "name": "stderr",
     "output_type": "stream",
     "text": [
      " 25%|██▍       | 100/405 [06:13<19:20,  3.80s/it]"
     ]
    },
    {
     "name": "stdout",
     "output_type": "stream",
     "text": [
      "parsing... Classification_Impairment_Provisions_for_LoansFinancing_20150406.pdf\n"
     ]
    },
    {
     "name": "stderr",
     "output_type": "stream",
     "text": [
      " 25%|██▍       | 101/405 [06:16<16:41,  3.30s/it]"
     ]
    },
    {
     "name": "stdout",
     "output_type": "stream",
     "text": [
      "parsing... Climate+Change+and+Principle-based+Taxonomy.pdf\n"
     ]
    },
    {
     "name": "stderr",
     "output_type": "stream",
     "text": [
      " 25%|██▌       | 102/405 [06:18<14:59,  2.97s/it]"
     ]
    },
    {
     "name": "stdout",
     "output_type": "stream",
     "text": [
      "parsing... cn_ia.pdf\n"
     ]
    },
    {
     "name": "stderr",
     "output_type": "stream",
     "text": [
      " 25%|██▌       | 103/405 [06:20<13:34,  2.70s/it]"
     ]
    },
    {
     "name": "stdout",
     "output_type": "stream",
     "text": [
      "parsing... Comparative_table_Aug10_BM.pdf\n"
     ]
    },
    {
     "name": "stderr",
     "output_type": "stream",
     "text": [
      " 26%|██▌       | 104/405 [06:22<12:34,  2.51s/it]"
     ]
    },
    {
     "name": "stdout",
     "output_type": "stream",
     "text": [
      "parsing... Comparative_table_Aug10_ENGLISH.pdf\n"
     ]
    },
    {
     "name": "stderr",
     "output_type": "stream",
     "text": [
      " 26%|██▌       | 105/405 [06:24<11:51,  2.37s/it]"
     ]
    },
    {
     "name": "stdout",
     "output_type": "stream",
     "text": [
      "parsing... Comparative_table_on_Pembiayaan_Mikro_BM.pdf\n"
     ]
    },
    {
     "name": "stderr",
     "output_type": "stream",
     "text": [
      " 26%|██▌       | 106/405 [06:26<11:22,  2.28s/it]"
     ]
    },
    {
     "name": "stdout",
     "output_type": "stream",
     "text": [
      "parsing... Comparative_table_on_Pembiayaan_Mikro_English.pdf\n"
     ]
    },
    {
     "name": "stderr",
     "output_type": "stream",
     "text": [
      " 26%|██▋       | 107/405 [06:28<11:01,  2.22s/it]"
     ]
    },
    {
     "name": "stdout",
     "output_type": "stream",
     "text": [
      "parsing... Comparative_Table_Pembiayaan_Mikro_2023_BM.pdf\n"
     ]
    },
    {
     "name": "stderr",
     "output_type": "stream",
     "text": [
      " 27%|██▋       | 108/405 [06:30<10:51,  2.19s/it]"
     ]
    },
    {
     "name": "stdout",
     "output_type": "stream",
     "text": [
      "parsing... Comparative_Table_Pembiayaan_Mikro_2023_Eng.pdf\n"
     ]
    },
    {
     "name": "stderr",
     "output_type": "stream",
     "text": [
      " 27%|██▋       | 109/405 [06:32<10:41,  2.17s/it]"
     ]
    },
    {
     "name": "stdout",
     "output_type": "stream",
     "text": [
      "parsing... Constable_Recruitment.pdf\n"
     ]
    },
    {
     "name": "stderr",
     "output_type": "stream",
     "text": [
      " 27%|██▋       | 110/405 [06:34<10:31,  2.14s/it]"
     ]
    },
    {
     "name": "stdout",
     "output_type": "stream",
     "text": [
      "parsing... Consultation+Paper+on+the+Proposed+Amendments+to+the+MSBA+2011.pdf\n"
     ]
    },
    {
     "name": "stderr",
     "output_type": "stream",
     "text": [
      " 27%|██▋       | 111/405 [06:36<10:24,  2.12s/it]"
     ]
    },
    {
     "name": "stdout",
     "output_type": "stream",
     "text": [
      "parsing... CP_Payment_Card_Reform_Framework.pdf\n"
     ]
    },
    {
     "name": "stderr",
     "output_type": "stream",
     "text": [
      " 28%|██▊       | 112/405 [06:42<15:54,  3.26s/it]"
     ]
    },
    {
     "name": "stdout",
     "output_type": "stream",
     "text": [
      "parsing... Credit+Risk.pdf\n"
     ]
    },
    {
     "name": "stderr",
     "output_type": "stream",
     "text": [
      " 28%|██▊       | 113/405 [06:45<14:21,  2.95s/it]"
     ]
    },
    {
     "name": "stdout",
     "output_type": "stream",
     "text": [
      "parsing... CTL+InfoPack+Eng.pdf\n"
     ]
    },
    {
     "name": "stderr",
     "output_type": "stream",
     "text": [
      " 28%|██▊       | 114/405 [06:47<13:04,  2.70s/it]"
     ]
    },
    {
     "name": "stdout",
     "output_type": "stream",
     "text": [
      "parsing... DDQ-for-GP3-GP4-10Jan24.pdf\n"
     ]
    },
    {
     "name": "stderr",
     "output_type": "stream",
     "text": [
      " 28%|██▊       | 115/405 [06:49<12:11,  2.52s/it]"
     ]
    },
    {
     "name": "stdout",
     "output_type": "stream",
     "text": [
      "parsing... Discussion_Paper_on_Broader_Application_of_Taawun.pdf\n"
     ]
    },
    {
     "name": "stderr",
     "output_type": "stream",
     "text": [
      " 29%|██▊       | 116/405 [06:51<11:32,  2.40s/it]"
     ]
    },
    {
     "name": "stdout",
     "output_type": "stream",
     "text": [
      "parsing... Discussion_Paper_on_Hajah.pdf\n"
     ]
    },
    {
     "name": "stderr",
     "output_type": "stream",
     "text": [
      " 29%|██▉       | 117/405 [06:53<11:07,  2.32s/it]"
     ]
    },
    {
     "name": "stdout",
     "output_type": "stream",
     "text": [
      "parsing... Discussion_Paper_TPBID.pdf\n"
     ]
    },
    {
     "name": "stderr",
     "output_type": "stream",
     "text": [
      " 29%|██▉       | 118/405 [06:55<10:47,  2.26s/it]"
     ]
    },
    {
     "name": "stdout",
     "output_type": "stream",
     "text": [
      "parsing... dp-RENTAS-modernisation-Feb2024.pdf\n"
     ]
    },
    {
     "name": "stderr",
     "output_type": "stream",
     "text": [
      " 29%|██▉       | 119/405 [06:57<10:32,  2.21s/it]"
     ]
    },
    {
     "name": "stdout",
     "output_type": "stream",
     "text": [
      "parsing... DP_2024_CRST.pdf\n"
     ]
    },
    {
     "name": "stderr",
     "output_type": "stream",
     "text": [
      " 30%|██▉       | 120/405 [07:00<10:32,  2.22s/it]"
     ]
    },
    {
     "name": "stdout",
     "output_type": "stream",
     "text": [
      "parsing... dp_Alternative+Reference+Rate_may2021.pdf\n"
     ]
    },
    {
     "name": "stderr",
     "output_type": "stream",
     "text": [
      " 30%|██▉       | 121/405 [07:02<10:18,  2.18s/it]"
     ]
    },
    {
     "name": "stdout",
     "output_type": "stream",
     "text": [
      "parsing... dp_ResponsibilityMapping.pdf\n"
     ]
    },
    {
     "name": "stderr",
     "output_type": "stream",
     "text": [
      " 30%|███       | 122/405 [07:04<10:10,  2.16s/it]"
     ]
    },
    {
     "name": "stdout",
     "output_type": "stream",
     "text": [
      "parsing... DP_risk_based_capital_framework_instkf_June2021.pdf\n"
     ]
    },
    {
     "name": "stderr",
     "output_type": "stream",
     "text": [
      " 30%|███       | 123/405 [07:06<10:17,  2.19s/it]"
     ]
    },
    {
     "name": "stdout",
     "output_type": "stream",
     "text": [
      "parsing... dynamic-hedging-programme.pdf\n"
     ]
    },
    {
     "name": "stderr",
     "output_type": "stream",
     "text": [
      " 31%|███       | 124/405 [07:08<10:05,  2.15s/it]"
     ]
    },
    {
     "name": "stdout",
     "output_type": "stream",
     "text": [
      "parsing... ED-CAF-ECCP.pdf\n"
     ]
    },
    {
     "name": "stderr",
     "output_type": "stream",
     "text": [
      " 31%|███       | 125/405 [07:10<10:03,  2.15s/it]"
     ]
    },
    {
     "name": "stdout",
     "output_type": "stream",
     "text": [
      "parsing... ED-CAF-Std-App-Cr-Risk.pdf\n"
     ]
    },
    {
     "name": "stderr",
     "output_type": "stream",
     "text": [
      " 31%|███       | 126/405 [07:13<10:19,  2.22s/it]"
     ]
    },
    {
     "name": "stdout",
     "output_type": "stream",
     "text": [
      "parsing... ed-claims-settlement-practices-jun23.pdf\n"
     ]
    },
    {
     "name": "stderr",
     "output_type": "stream",
     "text": [
      " 31%|███▏      | 127/405 [07:15<10:19,  2.23s/it]"
     ]
    },
    {
     "name": "stdout",
     "output_type": "stream",
     "text": [
      "parsing... ED-Disposal-and-Purchase-of-Impaired-Loans-Financing-2023.pdf\n"
     ]
    },
    {
     "name": "stderr",
     "output_type": "stream",
     "text": [
      " 32%|███▏      | 128/405 [07:17<10:10,  2.20s/it]"
     ]
    },
    {
     "name": "stdout",
     "output_type": "stream",
     "text": [
      "parsing... ED-Hajah-Darurah.pdf\n"
     ]
    },
    {
     "name": "stderr",
     "output_type": "stream",
     "text": [
      " 32%|███▏      | 129/405 [07:19<10:03,  2.19s/it]"
     ]
    },
    {
     "name": "stdout",
     "output_type": "stream",
     "text": [
      "parsing... ed-islamic-banking-window-jan24.pdf\n"
     ]
    },
    {
     "name": "stderr",
     "output_type": "stream",
     "text": [
      " 32%|███▏      | 130/405 [07:21<09:53,  2.16s/it]"
     ]
    },
    {
     "name": "stdout",
     "output_type": "stream",
     "text": [
      "parsing... ED-Product-Transparency-Disclosure-Feb24.pdf\n"
     ]
    },
    {
     "name": "stderr",
     "output_type": "stream",
     "text": [
      " 32%|███▏      | 131/405 [07:24<10:10,  2.23s/it]"
     ]
    },
    {
     "name": "stdout",
     "output_type": "stream",
     "text": [
      "parsing... ED-quality-integrity-currency-2023.pdf\n"
     ]
    },
    {
     "name": "stderr",
     "output_type": "stream",
     "text": [
      " 33%|███▎      | 132/405 [07:26<09:59,  2.20s/it]"
     ]
    },
    {
     "name": "stdout",
     "output_type": "stream",
     "text": [
      "parsing... ED_Adjusters_Registration_Pro_Reqm.pdf\n"
     ]
    },
    {
     "name": "stderr",
     "output_type": "stream",
     "text": [
      " 33%|███▎      | 133/405 [07:28<09:51,  2.18s/it]"
     ]
    },
    {
     "name": "stdout",
     "output_type": "stream",
     "text": [
      "parsing... ED_CTRAG_20220603.pdf\n"
     ]
    },
    {
     "name": "stderr",
     "output_type": "stream",
     "text": [
      " 33%|███▎      | 134/405 [07:30<09:45,  2.16s/it]"
     ]
    },
    {
     "name": "stdout",
     "output_type": "stream",
     "text": [
      "parsing... ed_currency_processing_Jan_2024.pdf\n"
     ]
    },
    {
     "name": "stderr",
     "output_type": "stream",
     "text": [
      " 33%|███▎      | 135/405 [07:32<09:41,  2.15s/it]"
     ]
    },
    {
     "name": "stdout",
     "output_type": "stream",
     "text": [
      "parsing... ed_Liquidity_Risk_Aug2023.pdf\n"
     ]
    },
    {
     "name": "stderr",
     "output_type": "stream",
     "text": [
      " 34%|███▎      | 136/405 [07:34<09:38,  2.15s/it]"
     ]
    },
    {
     "name": "stdout",
     "output_type": "stream",
     "text": [
      "parsing... ed_Skim_Pembiayaan_Mikro_Policy.pdf\n"
     ]
    },
    {
     "name": "stderr",
     "output_type": "stream",
     "text": [
      " 34%|███▍      | 137/405 [07:36<09:36,  2.15s/it]"
     ]
    },
    {
     "name": "stdout",
     "output_type": "stream",
     "text": [
      "parsing... ED_Trade_Credit_Insurance_and_Takaful.pdf\n"
     ]
    },
    {
     "name": "stderr",
     "output_type": "stream",
     "text": [
      " 34%|███▍      | 138/405 [07:39<09:29,  2.13s/it]"
     ]
    },
    {
     "name": "stdout",
     "output_type": "stream",
     "text": [
      "parsing... ed_valuation+of+liabilities_dec2019.pdf\n"
     ]
    },
    {
     "name": "stderr",
     "output_type": "stream",
     "text": [
      " 34%|███▍      | 139/405 [07:41<09:36,  2.17s/it]"
     ]
    },
    {
     "name": "stdout",
     "output_type": "stream",
     "text": [
      "parsing... eKYC+Money_Changing_Sep2019.pdf\n"
     ]
    },
    {
     "name": "stderr",
     "output_type": "stream",
     "text": [
      " 35%|███▍      | 140/405 [07:43<09:29,  2.15s/it]"
     ]
    },
    {
     "name": "stdout",
     "output_type": "stream",
     "text": [
      "parsing... Employee+Screening+Feedback+Statement.pdf\n"
     ]
    },
    {
     "name": "stderr",
     "output_type": "stream",
     "text": [
      " 35%|███▍      | 141/405 [07:45<09:23,  2.13s/it]"
     ]
    },
    {
     "name": "stdout",
     "output_type": "stream",
     "text": [
      "parsing... Employee+Screening+PD.pdf\n"
     ]
    },
    {
     "name": "stderr",
     "output_type": "stream",
     "text": [
      " 35%|███▌      | 142/405 [07:47<09:21,  2.13s/it]"
     ]
    },
    {
     "name": "stdout",
     "output_type": "stream",
     "text": [
      "parsing... en_bnm_academic_cal.pdf\n"
     ]
    },
    {
     "name": "stderr",
     "output_type": "stream",
     "text": [
      " 35%|███▌      | 143/405 [07:49<09:14,  2.11s/it]"
     ]
    },
    {
     "name": "stdout",
     "output_type": "stream",
     "text": [
      "parsing... en_bnm_procedures.pdf\n"
     ]
    },
    {
     "name": "stderr",
     "output_type": "stream",
     "text": [
      " 36%|███▌      | 144/405 [07:51<09:07,  2.10s/it]"
     ]
    },
    {
     "name": "stdout",
     "output_type": "stream",
     "text": [
      "parsing... en_ia.pdf\n"
     ]
    },
    {
     "name": "stderr",
     "output_type": "stream",
     "text": [
      " 36%|███▌      | 145/405 [07:53<09:02,  2.09s/it]"
     ]
    },
    {
     "name": "stdout",
     "output_type": "stream",
     "text": [
      "parsing... Exposure+Draft+FINAL+26092017.pdf\n"
     ]
    },
    {
     "name": "stderr",
     "output_type": "stream",
     "text": [
      " 36%|███▌      | 146/405 [07:55<09:08,  2.12s/it]"
     ]
    },
    {
     "name": "stdout",
     "output_type": "stream",
     "text": [
      "parsing... External_Risks_in_the+ASEAN-5-Economies.pdf\n"
     ]
    },
    {
     "name": "stderr",
     "output_type": "stream",
     "text": [
      " 36%|███▋      | 147/405 [07:58<09:13,  2.15s/it]"
     ]
    },
    {
     "name": "stdout",
     "output_type": "stream",
     "text": [
      "parsing... FAQ+for+consumers+%28ITOs+relief+measures%29+BM.pdf\n"
     ]
    },
    {
     "name": "stderr",
     "output_type": "stream",
     "text": [
      " 37%|███▋      | 148/405 [08:00<09:07,  2.13s/it]"
     ]
    },
    {
     "name": "stdout",
     "output_type": "stream",
     "text": [
      "parsing... FAQ+for+consumers+%28ITOs+relief+measures%29+EN.pdf\n"
     ]
    },
    {
     "name": "stderr",
     "output_type": "stream",
     "text": [
      " 37%|███▋      | 149/405 [08:02<09:15,  2.17s/it]"
     ]
    },
    {
     "name": "stdout",
     "output_type": "stream",
     "text": [
      "parsing... FAQ+on+HP+%26+Islamic+FR_070520.pdf\n"
     ]
    },
    {
     "name": "stderr",
     "output_type": "stream",
     "text": [
      " 37%|███▋      | 150/405 [08:04<09:05,  2.14s/it]"
     ]
    },
    {
     "name": "stdout",
     "output_type": "stream",
     "text": [
      "parsing... faq-ekyc-apr24.pdf\n"
     ]
    },
    {
     "name": "stderr",
     "output_type": "stream",
     "text": [
      " 37%|███▋      | 151/405 [08:06<09:02,  2.14s/it]"
     ]
    },
    {
     "name": "stdout",
     "output_type": "stream",
     "text": [
      "parsing... FAQ-eMoney-202212.pdf\n"
     ]
    },
    {
     "name": "stderr",
     "output_type": "stream",
     "text": [
      " 38%|███▊      | 152/405 [08:08<08:56,  2.12s/it]"
     ]
    },
    {
     "name": "stdout",
     "output_type": "stream",
     "text": [
      "parsing... faq-Hajah-Darurah-Jan2024.pdf\n"
     ]
    },
    {
     "name": "stderr",
     "output_type": "stream",
     "text": [
      " 38%|███▊      | 153/405 [08:10<08:53,  2.12s/it]"
     ]
    },
    {
     "name": "stdout",
     "output_type": "stream",
     "text": [
      "parsing... FAQ-RMiT-June2023.pdf\n"
     ]
    },
    {
     "name": "stderr",
     "output_type": "stream",
     "text": [
      " 38%|███▊      | 154/405 [08:13<08:49,  2.11s/it]"
     ]
    },
    {
     "name": "stdout",
     "output_type": "stream",
     "text": [
      "parsing... faq-sandbox-feb24.pdf\n"
     ]
    },
    {
     "name": "stderr",
     "output_type": "stream",
     "text": [
      " 38%|███▊      | 155/405 [08:15<08:45,  2.10s/it]"
     ]
    },
    {
     "name": "stdout",
     "output_type": "stream",
     "text": [
      "parsing... FAQs-for-BNM-CCPT-10Jan24.pdf\n"
     ]
    },
    {
     "name": "stderr",
     "output_type": "stream",
     "text": [
      " 39%|███▊      | 156/405 [08:17<08:45,  2.11s/it]"
     ]
    },
    {
     "name": "stdout",
     "output_type": "stream",
     "text": [
      "parsing... FAQs_agent_banking_20150430.pdf\n"
     ]
    },
    {
     "name": "stderr",
     "output_type": "stream",
     "text": [
      " 39%|███▉      | 157/405 [08:22<12:46,  3.09s/it]"
     ]
    },
    {
     "name": "stdout",
     "output_type": "stream",
     "text": [
      "parsing... FAQs_eKYC+for+money+changing.pdf\n"
     ]
    },
    {
     "name": "stderr",
     "output_type": "stream",
     "text": [
      " 39%|███▉      | 158/405 [08:24<11:27,  2.78s/it]"
     ]
    },
    {
     "name": "stdout",
     "output_type": "stream",
     "text": [
      "parsing... FAQs_FIs_01092020.pdf\n"
     ]
    },
    {
     "name": "stderr",
     "output_type": "stream",
     "text": [
      " 39%|███▉      | 159/405 [08:26<10:41,  2.61s/it]"
     ]
    },
    {
     "name": "stdout",
     "output_type": "stream",
     "text": [
      "parsing... faq_adjusters_june2023.pdf\n"
     ]
    },
    {
     "name": "stderr",
     "output_type": "stream",
     "text": [
      " 40%|███▉      | 160/405 [08:28<10:00,  2.45s/it]"
     ]
    },
    {
     "name": "stdout",
     "output_type": "stream",
     "text": [
      "parsing... FAQ_EKYC.pdf\n"
     ]
    },
    {
     "name": "stderr",
     "output_type": "stream",
     "text": [
      " 40%|███▉      | 161/405 [08:31<09:30,  2.34s/it]"
     ]
    },
    {
     "name": "stdout",
     "output_type": "stream",
     "text": [
      "parsing... FAQ_Essential+Financial+Services+MCO.pdf\n"
     ]
    },
    {
     "name": "stderr",
     "output_type": "stream",
     "text": [
      " 40%|████      | 162/405 [08:33<09:11,  2.27s/it]"
     ]
    },
    {
     "name": "stdout",
     "output_type": "stream",
     "text": [
      "parsing... FAQ_Essential+Financial+Services+MCO_BM+%281%29.pdf\n"
     ]
    },
    {
     "name": "stderr",
     "output_type": "stream",
     "text": [
      " 40%|████      | 163/405 [08:35<08:54,  2.21s/it]"
     ]
    },
    {
     "name": "stdout",
     "output_type": "stream",
     "text": [
      "parsing... faq_motor_detariffing_20170421_bm.pdf\n"
     ]
    },
    {
     "name": "stderr",
     "output_type": "stream",
     "text": [
      " 40%|████      | 164/405 [08:37<08:40,  2.16s/it]"
     ]
    },
    {
     "name": "stdout",
     "output_type": "stream",
     "text": [
      "parsing... faq_motor_detariffing_20170421_en.pdf\n"
     ]
    },
    {
     "name": "stderr",
     "output_type": "stream",
     "text": [
      " 41%|████      | 165/405 [08:39<08:31,  2.13s/it]"
     ]
    },
    {
     "name": "stdout",
     "output_type": "stream",
     "text": [
      "parsing... FAQ_on_Pembiayaan_Mikro_BM.pdf\n"
     ]
    },
    {
     "name": "stderr",
     "output_type": "stream",
     "text": [
      " 41%|████      | 166/405 [08:41<08:25,  2.11s/it]"
     ]
    },
    {
     "name": "stdout",
     "output_type": "stream",
     "text": [
      "parsing... FAQ_on_Pembiayaan_Mikro_English.pdf\n"
     ]
    },
    {
     "name": "stderr",
     "output_type": "stream",
     "text": [
      " 41%|████      | 167/405 [08:43<08:19,  2.10s/it]"
     ]
    },
    {
     "name": "stdout",
     "output_type": "stream",
     "text": [
      "parsing... faq_Quality_and_Integrity_of_Currency_sept2023.pdf\n"
     ]
    },
    {
     "name": "stderr",
     "output_type": "stream",
     "text": [
      " 41%|████▏     | 168/405 [08:45<08:15,  2.09s/it]"
     ]
    },
    {
     "name": "stdout",
     "output_type": "stream",
     "text": [
      "parsing... FCA_20171206_EN.pdf\n"
     ]
    },
    {
     "name": "stderr",
     "output_type": "stream",
     "text": [
      " 42%|████▏     | 169/405 [08:47<08:12,  2.09s/it]"
     ]
    },
    {
     "name": "stdout",
     "output_type": "stream",
     "text": [
      "parsing... FCA_20181010_EN.pdf\n"
     ]
    },
    {
     "name": "stderr",
     "output_type": "stream",
     "text": [
      " 42%|████▏     | 170/405 [08:49<08:12,  2.09s/it]"
     ]
    },
    {
     "name": "stdout",
     "output_type": "stream",
     "text": [
      "parsing... FCA_20190114_EN.pdf\n"
     ]
    },
    {
     "name": "stderr",
     "output_type": "stream",
     "text": [
      " 42%|████▏     | 171/405 [08:51<08:10,  2.10s/it]"
     ]
    },
    {
     "name": "stdout",
     "output_type": "stream",
     "text": [
      "parsing... FCA_20190318_EN.pdf\n"
     ]
    },
    {
     "name": "stderr",
     "output_type": "stream",
     "text": [
      " 42%|████▏     | 172/405 [08:53<08:09,  2.10s/it]"
     ]
    },
    {
     "name": "stdout",
     "output_type": "stream",
     "text": [
      "parsing... FCA_20190527_EN.pdf\n"
     ]
    },
    {
     "name": "stderr",
     "output_type": "stream",
     "text": [
      " 43%|████▎     | 173/405 [08:56<08:07,  2.10s/it]"
     ]
    },
    {
     "name": "stdout",
     "output_type": "stream",
     "text": [
      "parsing... fdbk-Responsibility-Mapping-Dec2023.pdf\n"
     ]
    },
    {
     "name": "stderr",
     "output_type": "stream",
     "text": [
      " 43%|████▎     | 174/405 [08:58<08:04,  2.10s/it]"
     ]
    },
    {
     "name": "stdout",
     "output_type": "stream",
     "text": [
      "parsing... Feedback+Statement+VBI.pdf\n"
     ]
    },
    {
     "name": "stderr",
     "output_type": "stream",
     "text": [
      " 43%|████▎     | 175/405 [09:00<08:01,  2.09s/it]"
     ]
    },
    {
     "name": "stdout",
     "output_type": "stream",
     "text": [
      "parsing... Feedback+Statement_Sarf.pdf\n"
     ]
    },
    {
     "name": "stderr",
     "output_type": "stream",
     "text": [
      " 43%|████▎     | 176/405 [09:02<08:12,  2.15s/it]"
     ]
    },
    {
     "name": "stdout",
     "output_type": "stream",
     "text": [
      "parsing... feedback-ed-mhit.pdf\n"
     ]
    },
    {
     "name": "stderr",
     "output_type": "stream",
     "text": [
      " 44%|████▎     | 177/405 [09:04<08:04,  2.13s/it]"
     ]
    },
    {
     "name": "stdout",
     "output_type": "stream",
     "text": [
      "parsing... Feedback_Statement_April_2022.pdf\n"
     ]
    },
    {
     "name": "stderr",
     "output_type": "stream",
     "text": [
      " 44%|████▍     | 178/405 [09:06<07:58,  2.11s/it]"
     ]
    },
    {
     "name": "stdout",
     "output_type": "stream",
     "text": [
      "parsing... Final_Ringgit+Ogos+2015.pdf\n"
     ]
    },
    {
     "name": "stderr",
     "output_type": "stream",
     "text": [
      " 44%|████▍     | 179/405 [09:13<13:23,  3.55s/it]"
     ]
    },
    {
     "name": "stdout",
     "output_type": "stream",
     "text": [
      "parsing... FINC_Framework_DP.pdf\n"
     ]
    },
    {
     "name": "stderr",
     "output_type": "stream",
     "text": [
      " 44%|████▍     | 180/405 [09:15<11:43,  3.12s/it]"
     ]
    },
    {
     "name": "stdout",
     "output_type": "stream",
     "text": [
      "parsing... Foreign+Exchange+Notices_Consolidated.pdf\n"
     ]
    },
    {
     "name": "stderr",
     "output_type": "stream",
     "text": [
      " 45%|████▍     | 181/405 [09:17<10:38,  2.85s/it]"
     ]
    },
    {
     "name": "stdout",
     "output_type": "stream",
     "text": [
      "parsing... form-sandbox-greenlane.pdf\n"
     ]
    },
    {
     "name": "stderr",
     "output_type": "stream",
     "text": [
      " 45%|████▍     | 182/405 [09:19<09:41,  2.61s/it]"
     ]
    },
    {
     "name": "stdout",
     "output_type": "stream",
     "text": [
      "parsing... form-sandbox-standard.pdf\n"
     ]
    },
    {
     "name": "stderr",
     "output_type": "stream",
     "text": [
      " 45%|████▌     | 183/405 [09:22<09:03,  2.45s/it]"
     ]
    },
    {
     "name": "stdout",
     "output_type": "stream",
     "text": [
      "parsing... Form_BNM_CR_20151105.pdf\n"
     ]
    },
    {
     "name": "stderr",
     "output_type": "stream",
     "text": [
      " 45%|████▌     | 184/405 [09:24<08:36,  2.34s/it]"
     ]
    },
    {
     "name": "stdout",
     "output_type": "stream",
     "text": [
      "parsing... Form_BNM_RO_20151105.pdf\n"
     ]
    },
    {
     "name": "stderr",
     "output_type": "stream",
     "text": [
      " 46%|████▌     | 185/405 [09:26<08:18,  2.27s/it]"
     ]
    },
    {
     "name": "stdout",
     "output_type": "stream",
     "text": [
      "parsing... Forward_Market_Registration_Form_v3.pdf\n"
     ]
    },
    {
     "name": "stderr",
     "output_type": "stream",
     "text": [
      " 46%|████▌     | 186/405 [09:28<08:03,  2.21s/it]"
     ]
    },
    {
     "name": "stdout",
     "output_type": "stream",
     "text": [
      "parsing... FS-eMoney-202212.pdf\n"
     ]
    },
    {
     "name": "stderr",
     "output_type": "stream",
     "text": [
      " 46%|████▌     | 187/405 [09:30<07:52,  2.17s/it]"
     ]
    },
    {
     "name": "stdout",
     "output_type": "stream",
     "text": [
      "parsing... fs-fair-treatment-mar24.pdf\n"
     ]
    },
    {
     "name": "stderr",
     "output_type": "stream",
     "text": [
      " 46%|████▋     | 188/405 [09:32<07:46,  2.15s/it]"
     ]
    },
    {
     "name": "stdout",
     "output_type": "stream",
     "text": [
      "parsing... FS-Professionalism-of-Agents-2023.pdf\n"
     ]
    },
    {
     "name": "stderr",
     "output_type": "stream",
     "text": [
      " 47%|████▋     | 189/405 [09:34<07:41,  2.14s/it]"
     ]
    },
    {
     "name": "stdout",
     "output_type": "stream",
     "text": [
      "parsing... FS-PSO-22122022.pdf\n"
     ]
    },
    {
     "name": "stderr",
     "output_type": "stream",
     "text": [
      " 47%|████▋     | 190/405 [09:36<07:36,  2.13s/it]"
     ]
    },
    {
     "name": "stdout",
     "output_type": "stream",
     "text": [
      "parsing... fsb3_bm_s3.pdf\n"
     ]
    },
    {
     "name": "stderr",
     "output_type": "stream",
     "text": [
      " 47%|████▋     | 191/405 [09:38<07:49,  2.19s/it]"
     ]
    },
    {
     "name": "stdout",
     "output_type": "stream",
     "text": [
      "parsing... fsb3_en_s3.pdf\n"
     ]
    },
    {
     "name": "stderr",
     "output_type": "stream",
     "text": [
      " 47%|████▋     | 192/405 [09:41<07:53,  2.22s/it]"
     ]
    },
    {
     "name": "stdout",
     "output_type": "stream",
     "text": [
      "parsing... fsr2020h2_bm_wb_rfr.pdf\n"
     ]
    },
    {
     "name": "stderr",
     "output_type": "stream",
     "text": [
      " 48%|████▊     | 193/405 [09:43<07:41,  2.18s/it]"
     ]
    },
    {
     "name": "stdout",
     "output_type": "stream",
     "text": [
      "parsing... fs_adjusters_june2023.pdf\n"
     ]
    },
    {
     "name": "stderr",
     "output_type": "stream",
     "text": [
      " 48%|████▊     | 194/405 [09:45<07:32,  2.14s/it]"
     ]
    },
    {
     "name": "stdout",
     "output_type": "stream",
     "text": [
      "parsing... FS_ICTF_Mar2018.pdf\n"
     ]
    },
    {
     "name": "stderr",
     "output_type": "stream",
     "text": [
      " 48%|████▊     | 195/405 [09:47<07:25,  2.12s/it]"
     ]
    },
    {
     "name": "stdout",
     "output_type": "stream",
     "text": [
      "parsing... gl_rbcinsurers_june2013.pdf\n"
     ]
    },
    {
     "name": "stderr",
     "output_type": "stream",
     "text": [
      " 48%|████▊     | 196/405 [09:49<07:37,  2.19s/it]"
     ]
    },
    {
     "name": "stdout",
     "output_type": "stream",
     "text": [
      "parsing... Guidance+on+BO_01092020.pdf\n"
     ]
    },
    {
     "name": "stderr",
     "output_type": "stream",
     "text": [
      " 49%|████▊     | 197/405 [09:51<07:31,  2.17s/it]"
     ]
    },
    {
     "name": "stdout",
     "output_type": "stream",
     "text": [
      "parsing... Guidance+on+Verification_01092020.pdf\n"
     ]
    },
    {
     "name": "stderr",
     "output_type": "stream",
     "text": [
      " 49%|████▉     | 198/405 [09:54<07:29,  2.17s/it]"
     ]
    },
    {
     "name": "stdout",
     "output_type": "stream",
     "text": [
      "parsing... Guidance-Notes-DDQ-GP3-GP4-10Jan24.pdf\n"
     ]
    },
    {
     "name": "stderr",
     "output_type": "stream",
     "text": [
      " 49%|████▉     | 199/405 [09:56<07:22,  2.15s/it]"
     ]
    },
    {
     "name": "stdout",
     "output_type": "stream",
     "text": [
      "parsing... IFRS+ENGLISH.pdf\n"
     ]
    },
    {
     "name": "stderr",
     "output_type": "stream",
     "text": [
      " 49%|████▉     | 200/405 [09:58<07:16,  2.13s/it]"
     ]
    },
    {
     "name": "stdout",
     "output_type": "stream",
     "text": [
      "parsing... IFRS+JB+Agenda+Public.pdf\n"
     ]
    },
    {
     "name": "stderr",
     "output_type": "stream",
     "text": [
      " 50%|████▉     | 201/405 [10:04<11:18,  3.32s/it]"
     ]
    },
    {
     "name": "stdout",
     "output_type": "stream",
     "text": [
      "parsing... Implementation+Guide+for+Value-based+Intermediation.pdf\n"
     ]
    },
    {
     "name": "stderr",
     "output_type": "stream",
     "text": [
      " 50%|████▉     | 202/405 [10:06<09:58,  2.95s/it]"
     ]
    },
    {
     "name": "stdout",
     "output_type": "stream",
     "text": [
      "parsing... Interoperable+Credit+Transfer+Framework+%28Exposure+Draft%29.pdf\n"
     ]
    },
    {
     "name": "stderr",
     "output_type": "stream",
     "text": [
      " 50%|█████     | 203/405 [10:08<09:04,  2.69s/it]"
     ]
    },
    {
     "name": "stdout",
     "output_type": "stream",
     "text": [
      "parsing... JC3-Report-on-Climate-Data-2022.pdf\n"
     ]
    },
    {
     "name": "stderr",
     "output_type": "stream",
     "text": [
      " 50%|█████     | 204/405 [10:10<08:35,  2.57s/it]"
     ]
    },
    {
     "name": "stdout",
     "output_type": "stream",
     "text": [
      "parsing... Kenyataan+Keputusan+Mesyuarat+MPS+ke-188.pdf\n"
     ]
    },
    {
     "name": "stderr",
     "output_type": "stream",
     "text": [
      " 51%|█████     | 205/405 [10:12<08:04,  2.42s/it]"
     ]
    },
    {
     "name": "stdout",
     "output_type": "stream",
     "text": [
      "parsing... Kenyataan+Mesyuarat+MPS+182+%28BM%29+FINAL.pdf\n"
     ]
    },
    {
     "name": "stderr",
     "output_type": "stream",
     "text": [
      " 51%|█████     | 206/405 [10:15<07:42,  2.32s/it]"
     ]
    },
    {
     "name": "stdout",
     "output_type": "stream",
     "text": [
      "parsing... Kenyataan+MPS+181_BM.pdf\n"
     ]
    },
    {
     "name": "stderr",
     "output_type": "stream",
     "text": [
      " 51%|█████     | 207/405 [10:17<07:26,  2.25s/it]"
     ]
    },
    {
     "name": "stdout",
     "output_type": "stream",
     "text": [
      "parsing... Keputusan_MPS_berhubung_BNPL_MPS_ke_220_228_231.pdf\n"
     ]
    },
    {
     "name": "stderr",
     "output_type": "stream",
     "text": [
      " 51%|█████▏    | 208/405 [10:19<07:13,  2.20s/it]"
     ]
    },
    {
     "name": "stdout",
     "output_type": "stream",
     "text": [
      "parsing... Labour+Market+Conditions.pdf\n"
     ]
    },
    {
     "name": "stderr",
     "output_type": "stream",
     "text": [
      " 52%|█████▏    | 209/405 [10:21<07:04,  2.17s/it]"
     ]
    },
    {
     "name": "stdout",
     "output_type": "stream",
     "text": [
      "parsing... lampiran_budget2012_bm.pdf\n"
     ]
    },
    {
     "name": "stderr",
     "output_type": "stream",
     "text": [
      " 52%|█████▏    | 210/405 [10:23<06:57,  2.14s/it]"
     ]
    },
    {
     "name": "stdout",
     "output_type": "stream",
     "text": [
      "parsing... Life_Insurance_and_Family_Takaful_Framework_Concept_Paper_v2.pdf\n"
     ]
    },
    {
     "name": "stderr",
     "output_type": "stream",
     "text": [
      " 52%|█████▏    | 211/405 [10:25<06:55,  2.14s/it]"
     ]
    },
    {
     "name": "stdout",
     "output_type": "stream",
     "text": [
      "parsing... List+of+Insurers+for+Micrositev4.1.pdf\n"
     ]
    },
    {
     "name": "stderr",
     "output_type": "stream",
     "text": [
      " 52%|█████▏    | 212/405 [10:27<06:47,  2.11s/it]"
     ]
    },
    {
     "name": "stdout",
     "output_type": "stream",
     "text": [
      "parsing... Manual+Rujukan+Mahkamah+dan+Penimbang+Tara.pdf\n"
     ]
    },
    {
     "name": "stderr",
     "output_type": "stream",
     "text": [
      " 53%|█████▎    | 213/405 [10:52<29:07,  9.10s/it]"
     ]
    },
    {
     "name": "stdout",
     "output_type": "stream",
     "text": [
      "parsing... memorandum_1MDB.pdf\n"
     ]
    },
    {
     "name": "stderr",
     "output_type": "stream",
     "text": [
      " 53%|█████▎    | 214/405 [10:58<25:53,  8.13s/it]"
     ]
    },
    {
     "name": "stdout",
     "output_type": "stream",
     "text": [
      "parsing... MO+Bogus+Call.pdf\n"
     ]
    },
    {
     "name": "stderr",
     "output_type": "stream",
     "text": [
      " 53%|█████▎    | 215/405 [11:04<23:27,  7.41s/it]"
     ]
    },
    {
     "name": "stdout",
     "output_type": "stream",
     "text": [
      "parsing... MyStats+Conference+2021+Programme.pdf\n"
     ]
    },
    {
     "name": "stderr",
     "output_type": "stream",
     "text": [
      " 53%|█████▎    | 216/405 [11:06<18:18,  5.81s/it]"
     ]
    },
    {
     "name": "stdout",
     "output_type": "stream",
     "text": [
      "parsing... Net+Stable+Funding+Ratio+Exposure+Draft.pdf\n"
     ]
    },
    {
     "name": "stderr",
     "output_type": "stream",
     "text": [
      " 54%|█████▎    | 217/405 [11:08<14:46,  4.71s/it]"
     ]
    },
    {
     "name": "stdout",
     "output_type": "stream",
     "text": [
      "parsing... nt_life+framework_Nov2015.pdf\n"
     ]
    },
    {
     "name": "stderr",
     "output_type": "stream",
     "text": [
      " 54%|█████▍    | 218/405 [11:10<12:14,  3.93s/it]"
     ]
    },
    {
     "name": "stdout",
     "output_type": "stream",
     "text": [
      "parsing... Open+Data+API+PD.pdf\n"
     ]
    },
    {
     "name": "stderr",
     "output_type": "stream",
     "text": [
      " 54%|█████▍    | 219/405 [11:12<10:27,  3.37s/it]"
     ]
    },
    {
     "name": "stdout",
     "output_type": "stream",
     "text": [
      "parsing... Payment_Card_Reform_Framework.pdf\n"
     ]
    },
    {
     "name": "stderr",
     "output_type": "stream",
     "text": [
      " 54%|█████▍    | 220/405 [11:15<09:13,  2.99s/it]"
     ]
    },
    {
     "name": "stdout",
     "output_type": "stream",
     "text": [
      "parsing... PD+032-5+CAF+%28Basel+II-RWA%29+PD+20190503.pdf\n"
     ]
    },
    {
     "name": "stderr",
     "output_type": "stream",
     "text": [
      " 55%|█████▍    | 221/405 [11:18<09:36,  3.14s/it]"
     ]
    },
    {
     "name": "stdout",
     "output_type": "stream",
     "text": [
      "parsing... PD+Bai+Al-Sarf.pdf\n"
     ]
    },
    {
     "name": "stderr",
     "output_type": "stream",
     "text": [
      " 55%|█████▍    | 222/405 [11:20<08:38,  2.84s/it]"
     ]
    },
    {
     "name": "stdout",
     "output_type": "stream",
     "text": [
      "parsing... PD+ICTF.pdf\n"
     ]
    },
    {
     "name": "stderr",
     "output_type": "stream",
     "text": [
      " 55%|█████▌    | 223/405 [11:22<07:57,  2.62s/it]"
     ]
    },
    {
     "name": "stdout",
     "output_type": "stream",
     "text": [
      "parsing... PD+TCIT.pdf\n"
     ]
    },
    {
     "name": "stderr",
     "output_type": "stream",
     "text": [
      " 55%|█████▌    | 224/405 [11:24<07:25,  2.46s/it]"
     ]
    },
    {
     "name": "stdout",
     "output_type": "stream",
     "text": [
      "parsing... pd-AMLCFTCPF-TFS-DNFBI-NBFI-Feb2024.pdf\n"
     ]
    },
    {
     "name": "stderr",
     "output_type": "stream",
     "text": [
      " 56%|█████▌    | 225/405 [11:27<07:22,  2.46s/it]"
     ]
    },
    {
     "name": "stdout",
     "output_type": "stream",
     "text": [
      "parsing... pd-AMLCFTCPF-TFS-FI-Feb2024_+2.pdf\n"
     ]
    },
    {
     "name": "stderr",
     "output_type": "stream",
     "text": [
      " 56%|█████▌    | 226/405 [11:29<07:28,  2.51s/it]"
     ]
    },
    {
     "name": "stdout",
     "output_type": "stream",
     "text": [
      "parsing... pd-ekyc-apr2024.pdf\n"
     ]
    },
    {
     "name": "stderr",
     "output_type": "stream",
     "text": [
      " 56%|█████▌    | 227/405 [11:32<07:05,  2.39s/it]"
     ]
    },
    {
     "name": "stdout",
     "output_type": "stream",
     "text": [
      "parsing... PD-eMoney-202302.pdf\n"
     ]
    },
    {
     "name": "stderr",
     "output_type": "stream",
     "text": [
      " 56%|█████▋    | 228/405 [11:34<06:55,  2.35s/it]"
     ]
    },
    {
     "name": "stdout",
     "output_type": "stream",
     "text": [
      "parsing... PD-Financial-Reporting-DFI.pdf\n"
     ]
    },
    {
     "name": "stderr",
     "output_type": "stream",
     "text": [
      " 57%|█████▋    | 229/405 [11:36<06:43,  2.29s/it]"
     ]
    },
    {
     "name": "stdout",
     "output_type": "stream",
     "text": [
      "parsing... pd-ftfc-mar24.pdf\n"
     ]
    },
    {
     "name": "stderr",
     "output_type": "stream",
     "text": [
      " 57%|█████▋    | 230/405 [11:38<06:37,  2.27s/it]"
     ]
    },
    {
     "name": "stdout",
     "output_type": "stream",
     "text": [
      "parsing... pd-Hajah-Darurah-Jan2024.pdf\n"
     ]
    },
    {
     "name": "stderr",
     "output_type": "stream",
     "text": [
      " 57%|█████▋    | 231/405 [11:40<06:30,  2.25s/it]"
     ]
    },
    {
     "name": "stdout",
     "output_type": "stream",
     "text": [
      "parsing... PD-Professionalism-of-Agents-2023.pdf\n"
     ]
    },
    {
     "name": "stderr",
     "output_type": "stream",
     "text": [
      " 57%|█████▋    | 232/405 [11:43<06:21,  2.21s/it]"
     ]
    },
    {
     "name": "stdout",
     "output_type": "stream",
     "text": [
      "parsing... PD-PSO-22122022.pdf\n"
     ]
    },
    {
     "name": "stderr",
     "output_type": "stream",
     "text": [
      " 58%|█████▊    | 233/405 [11:45<06:16,  2.19s/it]"
     ]
    },
    {
     "name": "stdout",
     "output_type": "stream",
     "text": [
      "parsing... pd-Responsibility-Mapping-Dec2023.pdf\n"
     ]
    },
    {
     "name": "stderr",
     "output_type": "stream",
     "text": [
      " 58%|█████▊    | 234/405 [11:47<06:08,  2.16s/it]"
     ]
    },
    {
     "name": "stdout",
     "output_type": "stream",
     "text": [
      "parsing... PD-RMiT-June2023.pdf\n"
     ]
    },
    {
     "name": "stderr",
     "output_type": "stream",
     "text": [
      " 58%|█████▊    | 235/405 [11:49<06:10,  2.18s/it]"
     ]
    },
    {
     "name": "stdout",
     "output_type": "stream",
     "text": [
      "parsing... pd-sandbox-feb24.pdf\n"
     ]
    },
    {
     "name": "stderr",
     "output_type": "stream",
     "text": [
      " 58%|█████▊    | 236/405 [11:51<06:06,  2.17s/it]"
     ]
    },
    {
     "name": "stdout",
     "output_type": "stream",
     "text": [
      "parsing... pd_Application_Procedures_carry_on_FA_business.pdf\n"
     ]
    },
    {
     "name": "stderr",
     "output_type": "stream",
     "text": [
      " 59%|█████▊    | 237/405 [11:53<06:01,  2.15s/it]"
     ]
    },
    {
     "name": "stdout",
     "output_type": "stream",
     "text": [
      "parsing... PD_Banca.pdf\n"
     ]
    },
    {
     "name": "stderr",
     "output_type": "stream",
     "text": [
      " 59%|█████▉    | 238/405 [11:55<06:01,  2.16s/it]"
     ]
    },
    {
     "name": "stdout",
     "output_type": "stream",
     "text": [
      "parsing... pd_cctv_May2019.pdf\n"
     ]
    },
    {
     "name": "stderr",
     "output_type": "stream",
     "text": [
      " 59%|█████▉    | 239/405 [11:58<05:55,  2.14s/it]"
     ]
    },
    {
     "name": "stdout",
     "output_type": "stream",
     "text": [
      "parsing... PD_Climate-Risk-Mgmt-Scenario-Analysis-Nov2022.pdf\n"
     ]
    },
    {
     "name": "stderr",
     "output_type": "stream",
     "text": [
      " 59%|█████▉    | 240/405 [12:00<05:55,  2.15s/it]"
     ]
    },
    {
     "name": "stdout",
     "output_type": "stream",
     "text": [
      "parsing... PD_COC_WholesaleFinMkt.pdf\n"
     ]
    },
    {
     "name": "stderr",
     "output_type": "stream",
     "text": [
      " 60%|█████▉    | 241/405 [12:02<05:52,  2.15s/it]"
     ]
    },
    {
     "name": "stdout",
     "output_type": "stream",
     "text": [
      "parsing... pd_CRST_29Feb2024.pdf\n"
     ]
    },
    {
     "name": "stderr",
     "output_type": "stream",
     "text": [
      " 60%|█████▉    | 242/405 [12:04<05:52,  2.16s/it]"
     ]
    },
    {
     "name": "stdout",
     "output_type": "stream",
     "text": [
      "parsing... pd_ekyc-apr2024.pdf\n"
     ]
    },
    {
     "name": "stderr",
     "output_type": "stream",
     "text": [
      " 60%|██████    | 243/405 [12:06<05:48,  2.15s/it]"
     ]
    },
    {
     "name": "stdout",
     "output_type": "stream",
     "text": [
      "parsing... PD_EKYC_FINAL+29+Nov+2017.pdf\n"
     ]
    },
    {
     "name": "stderr",
     "output_type": "stream",
     "text": [
      " 60%|██████    | 244/405 [12:08<05:42,  2.13s/it]"
     ]
    },
    {
     "name": "stdout",
     "output_type": "stream",
     "text": [
      "parsing... pd_equity+investments_dec2019.pdf\n"
     ]
    },
    {
     "name": "stderr",
     "output_type": "stream",
     "text": [
      " 60%|██████    | 245/405 [12:10<05:39,  2.12s/it]"
     ]
    },
    {
     "name": "stdout",
     "output_type": "stream",
     "text": [
      "parsing... PD_Financial_Reporting.pdf\n"
     ]
    },
    {
     "name": "stderr",
     "output_type": "stream",
     "text": [
      " 61%|██████    | 246/405 [12:12<05:36,  2.12s/it]"
     ]
    },
    {
     "name": "stdout",
     "output_type": "stream",
     "text": [
      "parsing... PD_Financial_Reporting_Takaful.pdf\n"
     ]
    },
    {
     "name": "stderr",
     "output_type": "stream",
     "text": [
      " 61%|██████    | 247/405 [12:15<05:34,  2.12s/it]"
     ]
    },
    {
     "name": "stdout",
     "output_type": "stream",
     "text": [
      "parsing... pd_Insurers_Takaful_Operators_Repairers_Code_of_Conduct_dec23.pdf\n"
     ]
    },
    {
     "name": "stderr",
     "output_type": "stream",
     "text": [
      " 61%|██████    | 248/405 [12:17<05:34,  2.13s/it]"
     ]
    },
    {
     "name": "stdout",
     "output_type": "stream",
     "text": [
      "parsing... PD_Merchant_Acquiring_Services.pdf\n"
     ]
    },
    {
     "name": "stderr",
     "output_type": "stream",
     "text": [
      " 61%|██████▏   | 249/405 [12:19<05:36,  2.16s/it]"
     ]
    },
    {
     "name": "stdout",
     "output_type": "stream",
     "text": [
      "parsing... pd_mhit_feb2024.pdf\n"
     ]
    },
    {
     "name": "stderr",
     "output_type": "stream",
     "text": [
      " 62%|██████▏   | 250/405 [12:21<05:38,  2.19s/it]"
     ]
    },
    {
     "name": "stdout",
     "output_type": "stream",
     "text": [
      "parsing... pd_occforlifeandfamilytakafulbusiness_+dec2019.pdf\n"
     ]
    },
    {
     "name": "stderr",
     "output_type": "stream",
     "text": [
      " 62%|██████▏   | 251/405 [12:23<05:33,  2.16s/it]"
     ]
    },
    {
     "name": "stdout",
     "output_type": "stream",
     "text": [
      "parsing... pd_personal_financing_dec2023.pdf\n"
     ]
    },
    {
     "name": "stderr",
     "output_type": "stream",
     "text": [
      " 62%|██████▏   | 252/405 [12:25<05:27,  2.14s/it]"
     ]
    },
    {
     "name": "stdout",
     "output_type": "stream",
     "text": [
      "parsing... pd_Prudent_Professional_Conduct_FA.pdf\n"
     ]
    },
    {
     "name": "stderr",
     "output_type": "stream",
     "text": [
      " 62%|██████▏   | 253/405 [12:28<05:24,  2.13s/it]"
     ]
    },
    {
     "name": "stdout",
     "output_type": "stream",
     "text": [
      "parsing... pd_Quality_and_Integrity_of_Currency_sept2023.pdf\n"
     ]
    },
    {
     "name": "stderr",
     "output_type": "stream",
     "text": [
      " 63%|██████▎   | 254/405 [12:30<05:22,  2.14s/it]"
     ]
    },
    {
     "name": "stdout",
     "output_type": "stream",
     "text": [
      "parsing... pd_Recovery+Planning.pdf\n"
     ]
    },
    {
     "name": "stderr",
     "output_type": "stream",
     "text": [
      " 63%|██████▎   | 255/405 [12:32<05:24,  2.16s/it]"
     ]
    },
    {
     "name": "stdout",
     "output_type": "stream",
     "text": [
      "parsing... pd_SRR_15May2020.pdf\n"
     ]
    },
    {
     "name": "stderr",
     "output_type": "stream",
     "text": [
      " 63%|██████▎   | 256/405 [12:35<06:19,  2.55s/it]"
     ]
    },
    {
     "name": "stdout",
     "output_type": "stream",
     "text": [
      "parsing... pd_SRR_20191113.pdf\n"
     ]
    },
    {
     "name": "stderr",
     "output_type": "stream",
     "text": [
      " 63%|██████▎   | 257/405 [12:37<05:57,  2.41s/it]"
     ]
    },
    {
     "name": "stdout",
     "output_type": "stream",
     "text": [
      "parsing... pd_ste_Jan2016.pdf\n"
     ]
    },
    {
     "name": "stderr",
     "output_type": "stream",
     "text": [
      " 64%|██████▎   | 258/405 [12:40<05:42,  2.33s/it]"
     ]
    },
    {
     "name": "stdout",
     "output_type": "stream",
     "text": [
      "parsing... Perutusan_Khas_Bajet2016.pdf\n"
     ]
    },
    {
     "name": "stderr",
     "output_type": "stream",
     "text": [
      " 64%|██████▍   | 259/405 [12:42<05:29,  2.26s/it]"
     ]
    },
    {
     "name": "stdout",
     "output_type": "stream",
     "text": [
      "parsing... Poster+Short+Courses+MyStats+2021.pdf\n"
     ]
    },
    {
     "name": "stderr",
     "output_type": "stream",
     "text": [
      " 64%|██████▍   | 260/405 [12:44<05:19,  2.20s/it]"
     ]
    },
    {
     "name": "stdout",
     "output_type": "stream",
     "text": [
      "parsing... press_conference_slides_20120321.pdf\n"
     ]
    },
    {
     "name": "stderr",
     "output_type": "stream",
     "text": [
      " 64%|██████▍   | 261/405 [12:46<05:14,  2.19s/it]"
     ]
    },
    {
     "name": "stdout",
     "output_type": "stream",
     "text": [
      "parsing... Principles+for+a+Fair+and+Effective+Financial+Market+-+Malaysian+Financial+Market.pdf\n"
     ]
    },
    {
     "name": "stderr",
     "output_type": "stream",
     "text": [
      " 65%|██████▍   | 262/405 [12:48<05:09,  2.16s/it]"
     ]
    },
    {
     "name": "stdout",
     "output_type": "stream",
     "text": [
      "parsing... PSO_ED_Dec21.pdf\n"
     ]
    },
    {
     "name": "stderr",
     "output_type": "stream",
     "text": [
      " 65%|██████▍   | 263/405 [12:50<05:05,  2.15s/it]"
     ]
    },
    {
     "name": "stdout",
     "output_type": "stream",
     "text": [
      "parsing... PU_%28A%29_206_Gazette_Order.pdf\n"
     ]
    },
    {
     "name": "stderr",
     "output_type": "stream",
     "text": [
      " 65%|██████▌   | 264/405 [12:52<05:00,  2.13s/it]"
     ]
    },
    {
     "name": "stdout",
     "output_type": "stream",
     "text": [
      "parsing... Rahn+PD+Feedback+Statement.pdf\n"
     ]
    },
    {
     "name": "stderr",
     "output_type": "stream",
     "text": [
      " 65%|██████▌   | 265/405 [12:54<04:54,  2.11s/it]"
     ]
    },
    {
     "name": "stdout",
     "output_type": "stream",
     "text": [
      "parsing... Rahn+PD.pdf\n"
     ]
    },
    {
     "name": "stderr",
     "output_type": "stream",
     "text": [
      " 66%|██████▌   | 266/405 [12:57<05:01,  2.17s/it]"
     ]
    },
    {
     "name": "stdout",
     "output_type": "stream",
     "text": [
      "parsing... Recovery+Planning+Response+to+Feedback+Received.pdf\n"
     ]
    },
    {
     "name": "stderr",
     "output_type": "stream",
     "text": [
      " 66%|██████▌   | 267/405 [12:59<04:55,  2.14s/it]"
     ]
    },
    {
     "name": "stdout",
     "output_type": "stream",
     "text": [
      "parsing... Registration+form.pdf\n"
     ]
    },
    {
     "name": "stderr",
     "output_type": "stream",
     "text": [
      " 66%|██████▌   | 268/405 [13:01<04:50,  2.12s/it]"
     ]
    },
    {
     "name": "stdout",
     "output_type": "stream",
     "text": [
      "parsing... Repurchase_Agreement_Transactions.pdf\n"
     ]
    },
    {
     "name": "stderr",
     "output_type": "stream",
     "text": [
      " 66%|██████▋   | 269/405 [13:03<04:52,  2.15s/it]"
     ]
    },
    {
     "name": "stdout",
     "output_type": "stream",
     "text": [
      "parsing... Response+to+Feedback+20190111.pdf\n"
     ]
    },
    {
     "name": "stderr",
     "output_type": "stream",
     "text": [
      " 67%|██████▋   | 270/405 [13:05<04:51,  2.16s/it]"
     ]
    },
    {
     "name": "stdout",
     "output_type": "stream",
     "text": [
      "parsing... Response+to+Feedback+Received+%28Credit+Risk%29.pdf\n"
     ]
    },
    {
     "name": "stderr",
     "output_type": "stream",
     "text": [
      " 67%|██████▋   | 271/405 [13:07<04:46,  2.14s/it]"
     ]
    },
    {
     "name": "stdout",
     "output_type": "stream",
     "text": [
      "parsing... Response+to+feedback+received.pdf\n"
     ]
    },
    {
     "name": "stderr",
     "output_type": "stream",
     "text": [
      " 67%|██████▋   | 272/405 [13:09<04:41,  2.12s/it]"
     ]
    },
    {
     "name": "stdout",
     "output_type": "stream",
     "text": [
      "parsing... Responsibility+Mapping+ED_+028_13.pdf\n"
     ]
    },
    {
     "name": "stderr",
     "output_type": "stream",
     "text": [
      " 67%|██████▋   | 273/405 [13:11<04:38,  2.11s/it]"
     ]
    },
    {
     "name": "stdout",
     "output_type": "stream",
     "text": [
      "parsing... RF_Climate-Risk-Mgmt-Scenario-Analysis-Nov2022.pdf\n"
     ]
    },
    {
     "name": "stderr",
     "output_type": "stream",
     "text": [
      " 68%|██████▊   | 274/405 [13:13<04:36,  2.11s/it]"
     ]
    },
    {
     "name": "stdout",
     "output_type": "stream",
     "text": [
      "parsing... Ringgit+%28new%29+Ed69+Jan+2016+v4.pdf\n"
     ]
    },
    {
     "name": "stderr",
     "output_type": "stream",
     "text": [
      " 68%|██████▊   | 275/405 [13:20<07:30,  3.47s/it]"
     ]
    },
    {
     "name": "stdout",
     "output_type": "stream",
     "text": [
      "parsing... Ringgit+Bil+052020.pdf\n"
     ]
    },
    {
     "name": "stderr",
     "output_type": "stream",
     "text": [
      " 68%|██████▊   | 276/405 [13:33<13:36,  6.33s/it]"
     ]
    },
    {
     "name": "stdout",
     "output_type": "stream",
     "text": [
      "parsing... Ringgit+Bil+6+2019.pdf\n"
     ]
    },
    {
     "name": "stderr",
     "output_type": "stream",
     "text": [
      " 68%|██████▊   | 277/405 [13:35<10:47,  5.06s/it]"
     ]
    },
    {
     "name": "stdout",
     "output_type": "stream",
     "text": [
      "parsing... Ringgit+Ed100+Aug+2018+v5.pdf\n"
     ]
    },
    {
     "name": "stderr",
     "output_type": "stream",
     "text": [
      " 69%|██████▊   | 278/405 [13:37<08:54,  4.21s/it]"
     ]
    },
    {
     "name": "stdout",
     "output_type": "stream",
     "text": [
      "parsing... Ringgit+Ed101+Sep+2018+v4.pdf\n"
     ]
    },
    {
     "name": "stderr",
     "output_type": "stream",
     "text": [
      " 69%|██████▉   | 279/405 [13:40<07:37,  3.63s/it]"
     ]
    },
    {
     "name": "stdout",
     "output_type": "stream",
     "text": [
      "parsing... Ringgit+Ed102+Oct+2018+v6.pdf\n"
     ]
    },
    {
     "name": "stderr",
     "output_type": "stream",
     "text": [
      " 69%|██████▉   | 280/405 [13:42<06:45,  3.24s/it]"
     ]
    },
    {
     "name": "stdout",
     "output_type": "stream",
     "text": [
      "parsing... Ringgit+Ed103+Nov+2018+v9.pdf\n"
     ]
    },
    {
     "name": "stderr",
     "output_type": "stream",
     "text": [
      " 69%|██████▉   | 281/405 [13:44<06:02,  2.92s/it]"
     ]
    },
    {
     "name": "stdout",
     "output_type": "stream",
     "text": [
      "parsing... Ringgit+Ed104+Dec+2018+v5.pdf\n"
     ]
    },
    {
     "name": "stderr",
     "output_type": "stream",
     "text": [
      " 70%|██████▉   | 282/405 [13:46<05:30,  2.69s/it]"
     ]
    },
    {
     "name": "stdout",
     "output_type": "stream",
     "text": [
      "parsing... Ringgit+Ed105+2019-01+v6.pdf\n"
     ]
    },
    {
     "name": "stderr",
     "output_type": "stream",
     "text": [
      " 70%|██████▉   | 283/405 [13:49<05:09,  2.54s/it]"
     ]
    },
    {
     "name": "stdout",
     "output_type": "stream",
     "text": [
      "parsing... Ringgit+Ed107+2019-03+v6A+%281%29.pdf\n"
     ]
    },
    {
     "name": "stderr",
     "output_type": "stream",
     "text": [
      " 70%|███████   | 284/405 [13:51<04:53,  2.43s/it]"
     ]
    },
    {
     "name": "stdout",
     "output_type": "stream",
     "text": [
      "parsing... Ringgit+Ed108+2019-04+v4.pdf\n"
     ]
    },
    {
     "name": "stderr",
     "output_type": "stream",
     "text": [
      " 70%|███████   | 285/405 [13:57<06:56,  3.47s/it]"
     ]
    },
    {
     "name": "stdout",
     "output_type": "stream",
     "text": [
      "parsing... Ringgit+Ed111+2020-01+v5.pdf\n"
     ]
    },
    {
     "name": "stderr",
     "output_type": "stream",
     "text": [
      " 71%|███████   | 286/405 [13:59<06:12,  3.13s/it]"
     ]
    },
    {
     "name": "stdout",
     "output_type": "stream",
     "text": [
      "parsing... Ringgit+Ed112+2020-02+F.pdf\n"
     ]
    },
    {
     "name": "stderr",
     "output_type": "stream",
     "text": [
      " 71%|███████   | 287/405 [14:02<05:48,  2.96s/it]"
     ]
    },
    {
     "name": "stdout",
     "output_type": "stream",
     "text": [
      "parsing... Ringgit+Ed113+2020-03+Final.pdf\n"
     ]
    },
    {
     "name": "stderr",
     "output_type": "stream",
     "text": [
      " 71%|███████   | 288/405 [14:04<05:18,  2.73s/it]"
     ]
    },
    {
     "name": "stdout",
     "output_type": "stream",
     "text": [
      "parsing... Ringgit+Ed114+2020-04+web.pdf\n"
     ]
    },
    {
     "name": "stderr",
     "output_type": "stream",
     "text": [
      " 71%|███████▏  | 289/405 [14:10<07:04,  3.66s/it]"
     ]
    },
    {
     "name": "stdout",
     "output_type": "stream",
     "text": [
      "parsing... Ringgit+Ed2015+Survey+Form+v1.pdf\n"
     ]
    },
    {
     "name": "stderr",
     "output_type": "stream",
     "text": [
      " 72%|███████▏  | 290/405 [14:12<06:06,  3.19s/it]"
     ]
    },
    {
     "name": "stdout",
     "output_type": "stream",
     "text": [
      "parsing... Ringgit+Ed2017+Survey+Form+v1.pdf\n"
     ]
    },
    {
     "name": "stderr",
     "output_type": "stream",
     "text": [
      " 72%|███████▏  | 291/405 [14:23<10:47,  5.68s/it]"
     ]
    },
    {
     "name": "stdout",
     "output_type": "stream",
     "text": [
      "parsing... Ringgit+Ed28+Draft4_Aug+2012m.pdf\n"
     ]
    },
    {
     "name": "stderr",
     "output_type": "stream",
     "text": [
      " 72%|███████▏  | 292/405 [14:28<10:30,  5.58s/it]"
     ]
    },
    {
     "name": "stdout",
     "output_type": "stream",
     "text": [
      "parsing... Ringgit+Ed32+Draft3_Dec2012.pdf\n"
     ]
    },
    {
     "name": "stderr",
     "output_type": "stream",
     "text": [
      " 72%|███████▏  | 293/405 [14:34<10:10,  5.45s/it]"
     ]
    },
    {
     "name": "stdout",
     "output_type": "stream",
     "text": [
      "parsing... Ringgit+Ed33+Jan+2013+%28Draft7%29.pdf\n"
     ]
    },
    {
     "name": "stderr",
     "output_type": "stream",
     "text": [
      " 73%|███████▎  | 294/405 [14:39<09:49,  5.31s/it]"
     ]
    },
    {
     "name": "stdout",
     "output_type": "stream",
     "text": [
      "parsing... Ringgit+Ed45+Jan+2014+v3.pdf\n"
     ]
    },
    {
     "name": "stderr",
     "output_type": "stream",
     "text": [
      " 73%|███████▎  | 295/405 [14:41<07:59,  4.36s/it]"
     ]
    },
    {
     "name": "stdout",
     "output_type": "stream",
     "text": [
      "parsing... Ringgit+Ed46+Feb+2014+v4.pdf\n"
     ]
    },
    {
     "name": "stderr",
     "output_type": "stream",
     "text": [
      " 73%|███████▎  | 296/405 [14:43<06:41,  3.68s/it]"
     ]
    },
    {
     "name": "stdout",
     "output_type": "stream",
     "text": [
      "parsing... Ringgit+Ed47+Mac+2014+v10.pdf\n"
     ]
    },
    {
     "name": "stderr",
     "output_type": "stream",
     "text": [
      " 73%|███████▎  | 297/405 [14:48<07:40,  4.26s/it]"
     ]
    },
    {
     "name": "stdout",
     "output_type": "stream",
     "text": [
      "parsing... Ringgit+Ed48+Apr+2014+v3.pdf\n"
     ]
    },
    {
     "name": "stderr",
     "output_type": "stream",
     "text": [
      " 74%|███████▎  | 298/405 [14:54<08:16,  4.64s/it]"
     ]
    },
    {
     "name": "stdout",
     "output_type": "stream",
     "text": [
      "parsing... Ringgit+Ed49+May+2014+v4.pdf\n"
     ]
    },
    {
     "name": "stderr",
     "output_type": "stream",
     "text": [
      " 74%|███████▍  | 299/405 [15:00<08:40,  4.91s/it]"
     ]
    },
    {
     "name": "stdout",
     "output_type": "stream",
     "text": [
      "parsing... Ringgit+Ed50+Jun+2014+v4.pdf\n"
     ]
    },
    {
     "name": "stderr",
     "output_type": "stream",
     "text": [
      " 74%|███████▍  | 300/405 [15:05<08:54,  5.09s/it]"
     ]
    },
    {
     "name": "stdout",
     "output_type": "stream",
     "text": [
      "parsing... Ringgit+Ed51+July+2014+v5.pdf\n"
     ]
    },
    {
     "name": "stderr",
     "output_type": "stream",
     "text": [
      " 74%|███████▍  | 301/405 [15:11<09:09,  5.28s/it]"
     ]
    },
    {
     "name": "stdout",
     "output_type": "stream",
     "text": [
      "parsing... Ringgit+Ed52+Aug+2014+v5.pdf\n"
     ]
    },
    {
     "name": "stderr",
     "output_type": "stream",
     "text": [
      " 75%|███████▍  | 302/405 [15:19<10:40,  6.22s/it]"
     ]
    },
    {
     "name": "stdout",
     "output_type": "stream",
     "text": [
      "parsing... Ringgit+Ed53+Sep+2014+v9.pdf\n"
     ]
    },
    {
     "name": "stderr",
     "output_type": "stream",
     "text": [
      " 75%|███████▍  | 303/405 [15:27<11:37,  6.84s/it]"
     ]
    },
    {
     "name": "stdout",
     "output_type": "stream",
     "text": [
      "parsing... Ringgit+Ed54+Oct+2014+v3.pdf\n"
     ]
    },
    {
     "name": "stderr",
     "output_type": "stream",
     "text": [
      " 75%|███████▌  | 304/405 [15:33<10:58,  6.52s/it]"
     ]
    },
    {
     "name": "stdout",
     "output_type": "stream",
     "text": [
      "parsing... Ringgit+Ed55+Nov+2014+v4.pdf\n"
     ]
    },
    {
     "name": "stderr",
     "output_type": "stream",
     "text": [
      " 75%|███████▌  | 305/405 [15:39<10:27,  6.28s/it]"
     ]
    },
    {
     "name": "stdout",
     "output_type": "stream",
     "text": [
      "parsing... Ringgit+Ed56+Dis+2014+v3.pdf\n"
     ]
    },
    {
     "name": "stderr",
     "output_type": "stream",
     "text": [
      " 76%|███████▌  | 306/405 [15:45<10:05,  6.12s/it]"
     ]
    },
    {
     "name": "stdout",
     "output_type": "stream",
     "text": [
      "parsing... Ringgit+Ed57+Jan+2015+v4.pdf\n"
     ]
    },
    {
     "name": "stderr",
     "output_type": "stream",
     "text": [
      " 76%|███████▌  | 307/405 [15:50<09:48,  6.01s/it]"
     ]
    },
    {
     "name": "stdout",
     "output_type": "stream",
     "text": [
      "parsing... Ringgit+Ed58+Feb+2015+v6.pdf\n"
     ]
    },
    {
     "name": "stderr",
     "output_type": "stream",
     "text": [
      " 76%|███████▌  | 308/405 [15:57<10:09,  6.28s/it]"
     ]
    },
    {
     "name": "stdout",
     "output_type": "stream",
     "text": [
      "parsing... Ringgit+Ed60+Apr+2015+v4.pdf\n"
     ]
    },
    {
     "name": "stderr",
     "output_type": "stream",
     "text": [
      " 76%|███████▋  | 309/405 [16:00<08:05,  5.05s/it]"
     ]
    },
    {
     "name": "stdout",
     "output_type": "stream",
     "text": [
      "parsing... Ringgit+Ed61+Mei+2015+v4.pdf\n"
     ]
    },
    {
     "name": "stderr",
     "output_type": "stream",
     "text": [
      " 77%|███████▋  | 310/405 [16:05<08:20,  5.27s/it]"
     ]
    },
    {
     "name": "stdout",
     "output_type": "stream",
     "text": [
      "parsing... Ringgit+Ed62+Jun+2015+v3.pdf\n"
     ]
    },
    {
     "name": "stderr",
     "output_type": "stream",
     "text": [
      " 77%|███████▋  | 311/405 [16:11<08:29,  5.43s/it]"
     ]
    },
    {
     "name": "stdout",
     "output_type": "stream",
     "text": [
      "parsing... Ringgit+Ed65+Sept+2015+v6.pdf\n"
     ]
    },
    {
     "name": "stderr",
     "output_type": "stream",
     "text": [
      " 77%|███████▋  | 312/405 [16:18<09:07,  5.88s/it]"
     ]
    },
    {
     "name": "stdout",
     "output_type": "stream",
     "text": [
      "parsing... Ringgit+Ed66+Oct+2015+v3.pdf\n"
     ]
    },
    {
     "name": "stderr",
     "output_type": "stream",
     "text": [
      " 77%|███████▋  | 313/405 [16:25<09:37,  6.28s/it]"
     ]
    },
    {
     "name": "stdout",
     "output_type": "stream",
     "text": [
      "parsing... Ringgit+Ed67+Nov+2015+v11.pdf\n"
     ]
    },
    {
     "name": "stderr",
     "output_type": "stream",
     "text": [
      " 78%|███████▊  | 314/405 [16:33<10:09,  6.69s/it]"
     ]
    },
    {
     "name": "stdout",
     "output_type": "stream",
     "text": [
      "parsing... Ringgit+Ed70+Feb+2016+v3.pdf\n"
     ]
    },
    {
     "name": "stderr",
     "output_type": "stream",
     "text": [
      " 78%|███████▊  | 315/405 [16:40<10:13,  6.82s/it]"
     ]
    },
    {
     "name": "stdout",
     "output_type": "stream",
     "text": [
      "parsing... Ringgit+Ed71+Mar+2016+v5.pdf\n"
     ]
    },
    {
     "name": "stderr",
     "output_type": "stream",
     "text": [
      " 78%|███████▊  | 316/405 [16:53<12:56,  8.72s/it]"
     ]
    },
    {
     "name": "stdout",
     "output_type": "stream",
     "text": [
      "parsing... Ringgit+Ed72+Apr+2016+v3.pdf\n"
     ]
    },
    {
     "name": "stderr",
     "output_type": "stream",
     "text": [
      " 78%|███████▊  | 317/405 [17:00<11:55,  8.13s/it]"
     ]
    },
    {
     "name": "stdout",
     "output_type": "stream",
     "text": [
      "parsing... Ringgit+Ed73+Mei+2016+v4.pdf\n"
     ]
    },
    {
     "name": "stderr",
     "output_type": "stream",
     "text": [
      " 79%|███████▊  | 318/405 [17:07<11:20,  7.83s/it]"
     ]
    },
    {
     "name": "stdout",
     "output_type": "stream",
     "text": [
      "parsing... Ringgit+Ed74+June+2016+v4.pdf\n"
     ]
    },
    {
     "name": "stderr",
     "output_type": "stream",
     "text": [
      " 79%|███████▉  | 319/405 [17:23<14:41, 10.25s/it]"
     ]
    },
    {
     "name": "stdout",
     "output_type": "stream",
     "text": [
      "parsing... Ringgit+Ed75+July+2016-FINAL.pdf\n"
     ]
    },
    {
     "name": "stderr",
     "output_type": "stream",
     "text": [
      " 79%|███████▉  | 320/405 [17:39<16:56, 11.96s/it]"
     ]
    },
    {
     "name": "stdout",
     "output_type": "stream",
     "text": [
      "parsing... Ringgit+Ed76+Aug+2016+v8.pdf\n"
     ]
    },
    {
     "name": "stderr",
     "output_type": "stream",
     "text": [
      " 79%|███████▉  | 321/405 [17:46<14:43, 10.51s/it]"
     ]
    },
    {
     "name": "stdout",
     "output_type": "stream",
     "text": [
      "parsing... Ringgit+Ed77+Sep+2016+v9.pdf\n"
     ]
    },
    {
     "name": "stderr",
     "output_type": "stream",
     "text": [
      " 80%|███████▉  | 322/405 [18:03<17:03, 12.33s/it]"
     ]
    },
    {
     "name": "stdout",
     "output_type": "stream",
     "text": [
      "parsing... Ringgit+Ed78+Oct+2016+-+Final.pdf\n"
     ]
    },
    {
     "name": "stderr",
     "output_type": "stream",
     "text": [
      " 80%|███████▉  | 323/405 [18:23<20:06, 14.71s/it]"
     ]
    },
    {
     "name": "stdout",
     "output_type": "stream",
     "text": [
      "parsing... Ringgit+Ed79+Nov+2016+v4.pdf\n"
     ]
    },
    {
     "name": "stderr",
     "output_type": "stream",
     "text": [
      " 80%|████████  | 324/405 [18:43<21:55, 16.24s/it]"
     ]
    },
    {
     "name": "stdout",
     "output_type": "stream",
     "text": [
      "parsing... Ringgit+Ed80+Dec+2016+v3.pdf\n"
     ]
    },
    {
     "name": "stderr",
     "output_type": "stream",
     "text": [
      " 80%|████████  | 325/405 [18:56<20:26, 15.33s/it]"
     ]
    },
    {
     "name": "stdout",
     "output_type": "stream",
     "text": [
      "parsing... Ringgit+Ed81+Jan+2017+v5.pdf\n"
     ]
    },
    {
     "name": "stderr",
     "output_type": "stream",
     "text": [
      " 80%|████████  | 326/405 [19:25<25:40, 19.50s/it]"
     ]
    },
    {
     "name": "stdout",
     "output_type": "stream",
     "text": [
      "parsing... Ringgit+Ed82+Feb+2017+v4.pdf\n"
     ]
    },
    {
     "name": "stderr",
     "output_type": "stream",
     "text": [
      " 81%|████████  | 327/405 [19:42<24:11, 18.61s/it]"
     ]
    },
    {
     "name": "stdout",
     "output_type": "stream",
     "text": [
      "parsing... Ringgit+Ed83+Mac+2017+v7.pdf\n"
     ]
    },
    {
     "name": "stderr",
     "output_type": "stream",
     "text": [
      " 81%|████████  | 328/405 [19:52<20:47, 16.21s/it]"
     ]
    },
    {
     "name": "stdout",
     "output_type": "stream",
     "text": [
      "parsing... Ringgit+Ed84+Apr+2017+v5.pdf\n"
     ]
    },
    {
     "name": "stderr",
     "output_type": "stream",
     "text": [
      " 81%|████████  | 329/405 [20:03<18:29, 14.60s/it]"
     ]
    },
    {
     "name": "stdout",
     "output_type": "stream",
     "text": [
      "parsing... Ringgit+Ed85+May+2017-Draft+5+%28FINAL%29.pdf\n"
     ]
    },
    {
     "name": "stderr",
     "output_type": "stream",
     "text": [
      " 81%|████████▏ | 330/405 [20:05<13:39, 10.92s/it]"
     ]
    },
    {
     "name": "stdout",
     "output_type": "stream",
     "text": [
      "parsing... Ringgit+Ed86+June+2017+v6.pdf\n"
     ]
    },
    {
     "name": "stderr",
     "output_type": "stream",
     "text": [
      " 82%|████████▏ | 331/405 [20:08<10:17,  8.34s/it]"
     ]
    },
    {
     "name": "stdout",
     "output_type": "stream",
     "text": [
      "parsing... Ringgit+Ed87+July+2017+v6+FINAL.pdf\n"
     ]
    },
    {
     "name": "stderr",
     "output_type": "stream",
     "text": [
      " 82%|████████▏ | 332/405 [20:15<09:41,  7.96s/it]"
     ]
    },
    {
     "name": "stdout",
     "output_type": "stream",
     "text": [
      "parsing... Ringgit+Ed88+Aug+2017+v5.pdf\n"
     ]
    },
    {
     "name": "stderr",
     "output_type": "stream",
     "text": [
      " 82%|████████▏ | 333/405 [20:17<07:29,  6.24s/it]"
     ]
    },
    {
     "name": "stdout",
     "output_type": "stream",
     "text": [
      "parsing... Ringgit+Ed89+Nov+2017.pdf\n"
     ]
    },
    {
     "name": "stderr",
     "output_type": "stream",
     "text": [
      " 82%|████████▏ | 334/405 [20:24<07:45,  6.55s/it]"
     ]
    },
    {
     "name": "stdout",
     "output_type": "stream",
     "text": [
      "parsing... Ringgit+Ed92+Dec+2017+v9.pdf\n"
     ]
    },
    {
     "name": "stderr",
     "output_type": "stream",
     "text": [
      " 83%|████████▎ | 335/405 [20:27<06:09,  5.28s/it]"
     ]
    },
    {
     "name": "stdout",
     "output_type": "stream",
     "text": [
      "parsing... Ringgit+Ed93+Jan+2018+v7.pdf\n"
     ]
    },
    {
     "name": "stderr",
     "output_type": "stream",
     "text": [
      " 83%|████████▎ | 336/405 [20:36<07:25,  6.46s/it]"
     ]
    },
    {
     "name": "stdout",
     "output_type": "stream",
     "text": [
      "parsing... Ringgit+Ed94+Feb+2018+v10.pdf\n"
     ]
    },
    {
     "name": "stderr",
     "output_type": "stream",
     "text": [
      " 83%|████████▎ | 337/405 [20:38<05:53,  5.20s/it]"
     ]
    },
    {
     "name": "stdout",
     "output_type": "stream",
     "text": [
      "parsing... Ringgit+Ed95+Mar+2018+v7.pdf\n"
     ]
    },
    {
     "name": "stderr",
     "output_type": "stream",
     "text": [
      " 83%|████████▎ | 338/405 [20:40<04:46,  4.28s/it]"
     ]
    },
    {
     "name": "stdout",
     "output_type": "stream",
     "text": [
      "parsing... Ringgit+Ed96+Apr+2018+v6-final.pdf\n"
     ]
    },
    {
     "name": "stderr",
     "output_type": "stream",
     "text": [
      " 84%|████████▎ | 339/405 [20:42<04:00,  3.65s/it]"
     ]
    },
    {
     "name": "stdout",
     "output_type": "stream",
     "text": [
      "parsing... Ringgit+Ed97+May+2018+v8.pdf\n"
     ]
    },
    {
     "name": "stderr",
     "output_type": "stream",
     "text": [
      " 84%|████████▍ | 340/405 [20:45<03:31,  3.25s/it]"
     ]
    },
    {
     "name": "stdout",
     "output_type": "stream",
     "text": [
      "parsing... Ringgit+Ed98+June+2018+v5-1.pdf\n"
     ]
    },
    {
     "name": "stderr",
     "output_type": "stream",
     "text": [
      " 84%|████████▍ | 341/405 [20:47<03:07,  2.93s/it]"
     ]
    },
    {
     "name": "stdout",
     "output_type": "stream",
     "text": [
      "parsing... Ringgit+Ed99+July+2018+v7.pdf\n"
     ]
    },
    {
     "name": "stderr",
     "output_type": "stream",
     "text": [
      " 84%|████████▍ | 342/405 [20:49<02:49,  2.69s/it]"
     ]
    },
    {
     "name": "stdout",
     "output_type": "stream",
     "text": [
      "parsing... Ringgit_01_2021.pdf\n"
     ]
    },
    {
     "name": "stderr",
     "output_type": "stream",
     "text": [
      " 85%|████████▍ | 343/405 [20:58<04:44,  4.60s/it]"
     ]
    },
    {
     "name": "stdout",
     "output_type": "stream",
     "text": [
      "parsing... Ringgit_09_2012_03.pdf\n"
     ]
    },
    {
     "name": "stderr",
     "output_type": "stream",
     "text": [
      " 85%|████████▍ | 344/405 [21:01<04:07,  4.05s/it]"
     ]
    },
    {
     "name": "stdout",
     "output_type": "stream",
     "text": [
      "parsing... Ringgit_10.pdf\n"
     ]
    },
    {
     "name": "stderr",
     "output_type": "stream",
     "text": [
      " 85%|████████▌ | 345/405 [21:03<03:34,  3.58s/it]"
     ]
    },
    {
     "name": "stdout",
     "output_type": "stream",
     "text": [
      "parsing... Ringgit_10_2012.pdf\n"
     ]
    },
    {
     "name": "stderr",
     "output_type": "stream",
     "text": [
      " 85%|████████▌ | 346/405 [21:06<03:17,  3.34s/it]"
     ]
    },
    {
     "name": "stdout",
     "output_type": "stream",
     "text": [
      "parsing... Ringgit_11.pdf\n"
     ]
    },
    {
     "name": "stderr",
     "output_type": "stream",
     "text": [
      " 86%|████████▌ | 347/405 [21:08<02:53,  2.99s/it]"
     ]
    },
    {
     "name": "stdout",
     "output_type": "stream",
     "text": [
      "parsing... Ringgit_12.pdf\n"
     ]
    },
    {
     "name": "stderr",
     "output_type": "stream",
     "text": [
      " 86%|████████▌ | 348/405 [21:11<02:36,  2.74s/it]"
     ]
    },
    {
     "name": "stdout",
     "output_type": "stream",
     "text": [
      "parsing... Ringgit_62013.pdf\n"
     ]
    },
    {
     "name": "stderr",
     "output_type": "stream",
     "text": [
      " 86%|████████▌ | 349/405 [21:13<02:23,  2.56s/it]"
     ]
    },
    {
     "name": "stdout",
     "output_type": "stream",
     "text": [
      "parsing... ringgit_7.pdf\n"
     ]
    },
    {
     "name": "stderr",
     "output_type": "stream",
     "text": [
      " 86%|████████▋ | 350/405 [21:15<02:14,  2.44s/it]"
     ]
    },
    {
     "name": "stdout",
     "output_type": "stream",
     "text": [
      "parsing... Ringgit_8.pdf\n"
     ]
    },
    {
     "name": "stderr",
     "output_type": "stream",
     "text": [
      " 87%|████████▋ | 351/405 [21:17<02:06,  2.34s/it]"
     ]
    },
    {
     "name": "stdout",
     "output_type": "stream",
     "text": [
      "parsing... Ringgit_9.pdf\n"
     ]
    },
    {
     "name": "stderr",
     "output_type": "stream",
     "text": [
      " 87%|████████▋ | 352/405 [21:19<02:01,  2.28s/it]"
     ]
    },
    {
     "name": "stdout",
     "output_type": "stream",
     "text": [
      "parsing... Ringgit_April_2012.pdf\n"
     ]
    },
    {
     "name": "stderr",
     "output_type": "stream",
     "text": [
      " 87%|████████▋ | 353/405 [21:25<02:52,  3.31s/it]"
     ]
    },
    {
     "name": "stdout",
     "output_type": "stream",
     "text": [
      "parsing... RINGGIT_Bil_52019.pdf\n"
     ]
    },
    {
     "name": "stderr",
     "output_type": "stream",
     "text": [
      " 87%|████████▋ | 354/405 [21:27<02:32,  2.99s/it]"
     ]
    },
    {
     "name": "stdout",
     "output_type": "stream",
     "text": [
      "parsing... RINGGIT_July+2015_F.pdf\n"
     ]
    },
    {
     "name": "stderr",
     "output_type": "stream",
     "text": [
      " 88%|████████▊ | 355/405 [21:34<03:32,  4.25s/it]"
     ]
    },
    {
     "name": "stdout",
     "output_type": "stream",
     "text": [
      "parsing... Ringgit_mar2013.pdf\n"
     ]
    },
    {
     "name": "stderr",
     "output_type": "stream",
     "text": [
      " 88%|████████▊ | 356/405 [21:36<02:57,  3.63s/it]"
     ]
    },
    {
     "name": "stdout",
     "output_type": "stream",
     "text": [
      "parsing... SAC+178th+Meeting+Statement+%28BM+version%292.pdf\n"
     ]
    },
    {
     "name": "stderr",
     "output_type": "stream",
     "text": [
      " 88%|████████▊ | 357/405 [21:39<02:31,  3.17s/it]"
     ]
    },
    {
     "name": "stdout",
     "output_type": "stream",
     "text": [
      "parsing... SAC+178th+Meeting+Statement+%28English+Version%292.pdf\n"
     ]
    },
    {
     "name": "stderr",
     "output_type": "stream",
     "text": [
      " 88%|████████▊ | 358/405 [21:41<02:13,  2.84s/it]"
     ]
    },
    {
     "name": "stdout",
     "output_type": "stream",
     "text": [
      "parsing... SAC+179th+Meeting+Statement+BM.pdf\n"
     ]
    },
    {
     "name": "stderr",
     "output_type": "stream",
     "text": [
      " 89%|████████▊ | 359/405 [21:43<02:00,  2.62s/it]"
     ]
    },
    {
     "name": "stdout",
     "output_type": "stream",
     "text": [
      "parsing... SAC+181st+Meeting+Statement+EN.pdf\n"
     ]
    },
    {
     "name": "stderr",
     "output_type": "stream",
     "text": [
      " 89%|████████▉ | 360/405 [21:45<01:50,  2.46s/it]"
     ]
    },
    {
     "name": "stdout",
     "output_type": "stream",
     "text": [
      "parsing... SAC+182nd+Statement+%28BI%29+FINAL.pdf\n"
     ]
    },
    {
     "name": "stderr",
     "output_type": "stream",
     "text": [
      " 89%|████████▉ | 361/405 [21:47<01:43,  2.35s/it]"
     ]
    },
    {
     "name": "stdout",
     "output_type": "stream",
     "text": [
      "parsing... SAC+186th+Meeting+Statement+%28BM%29.pdf\n"
     ]
    },
    {
     "name": "stderr",
     "output_type": "stream",
     "text": [
      " 89%|████████▉ | 362/405 [21:49<01:37,  2.27s/it]"
     ]
    },
    {
     "name": "stdout",
     "output_type": "stream",
     "text": [
      "parsing... SAC+186th+Meeting+Statement+%28Eng%29.pdf\n"
     ]
    },
    {
     "name": "stderr",
     "output_type": "stream",
     "text": [
      " 90%|████████▉ | 363/405 [21:51<01:33,  2.21s/it]"
     ]
    },
    {
     "name": "stdout",
     "output_type": "stream",
     "text": [
      "parsing... SAC+187th+Meeting+Statement+%28BM%29.pdf\n"
     ]
    },
    {
     "name": "stderr",
     "output_type": "stream",
     "text": [
      " 90%|████████▉ | 364/405 [21:53<01:29,  2.17s/it]"
     ]
    },
    {
     "name": "stdout",
     "output_type": "stream",
     "text": [
      "parsing... SAC+187th+Meeting+Statement+%28Eng%29.pdf\n"
     ]
    },
    {
     "name": "stderr",
     "output_type": "stream",
     "text": [
      " 90%|█████████ | 365/405 [21:55<01:25,  2.14s/it]"
     ]
    },
    {
     "name": "stdout",
     "output_type": "stream",
     "text": [
      "parsing... SAC+188th+Meeting+Statement+%28ENG%29.pdf\n"
     ]
    },
    {
     "name": "stderr",
     "output_type": "stream",
     "text": [
      " 90%|█████████ | 366/405 [21:57<01:22,  2.13s/it]"
     ]
    },
    {
     "name": "stdout",
     "output_type": "stream",
     "text": [
      "parsing... SAC+194th+%26+195th+Meeting+Statement+%28ENG%29.pdf\n"
     ]
    },
    {
     "name": "stderr",
     "output_type": "stream",
     "text": [
      " 91%|█████████ | 367/405 [21:59<01:20,  2.12s/it]"
     ]
    },
    {
     "name": "stdout",
     "output_type": "stream",
     "text": [
      "parsing... SAC+Statement+-+210+meeting_bm.pdf\n"
     ]
    },
    {
     "name": "stderr",
     "output_type": "stream",
     "text": [
      " 91%|█████████ | 368/405 [22:01<01:18,  2.11s/it]"
     ]
    },
    {
     "name": "stdout",
     "output_type": "stream",
     "text": [
      "parsing... SAC+Statement+-+210+meeting_en.pdf\n"
     ]
    },
    {
     "name": "stderr",
     "output_type": "stream",
     "text": [
      " 91%|█████████ | 369/405 [22:04<01:15,  2.10s/it]"
     ]
    },
    {
     "name": "stdout",
     "output_type": "stream",
     "text": [
      "parsing... SAC+Statement+214th+SAC+meeting_BM.pdf\n"
     ]
    },
    {
     "name": "stderr",
     "output_type": "stream",
     "text": [
      " 91%|█████████▏| 370/405 [22:06<01:13,  2.10s/it]"
     ]
    },
    {
     "name": "stdout",
     "output_type": "stream",
     "text": [
      "parsing... SAC+Statement+214th+SAC+meeting_Eng.pdf\n"
     ]
    },
    {
     "name": "stderr",
     "output_type": "stream",
     "text": [
      " 92%|█████████▏| 371/405 [22:08<01:11,  2.09s/it]"
     ]
    },
    {
     "name": "stdout",
     "output_type": "stream",
     "text": [
      "parsing... SAC+Statement+30th+SAC+Special+meeting_BM.pdf\n"
     ]
    },
    {
     "name": "stderr",
     "output_type": "stream",
     "text": [
      " 92%|█████████▏| 372/405 [22:10<01:09,  2.10s/it]"
     ]
    },
    {
     "name": "stdout",
     "output_type": "stream",
     "text": [
      "parsing... SAC+Statement+30th+SAC+Special+meeting_ENG.pdf\n"
     ]
    },
    {
     "name": "stderr",
     "output_type": "stream",
     "text": [
      " 92%|█████████▏| 373/405 [22:12<01:06,  2.09s/it]"
     ]
    },
    {
     "name": "stdout",
     "output_type": "stream",
     "text": [
      "parsing... sacbnm-mtg-226-bm.pdf\n"
     ]
    },
    {
     "name": "stderr",
     "output_type": "stream",
     "text": [
      " 92%|█████████▏| 374/405 [22:14<01:04,  2.08s/it]"
     ]
    },
    {
     "name": "stdout",
     "output_type": "stream",
     "text": [
      "parsing... sacbnm-mtg-226.pdf\n"
     ]
    },
    {
     "name": "stderr",
     "output_type": "stream",
     "text": [
      " 93%|█████████▎| 375/405 [22:16<01:02,  2.09s/it]"
     ]
    },
    {
     "name": "stdout",
     "output_type": "stream",
     "text": [
      "parsing... SAC_217th_Meeting_Ruling_bm.pdf\n"
     ]
    },
    {
     "name": "stderr",
     "output_type": "stream",
     "text": [
      " 93%|█████████▎| 376/405 [22:18<01:00,  2.09s/it]"
     ]
    },
    {
     "name": "stdout",
     "output_type": "stream",
     "text": [
      "parsing... SAC_217th_Meeting_Ruling_en.pdf\n"
     ]
    },
    {
     "name": "stderr",
     "output_type": "stream",
     "text": [
      " 93%|█████████▎| 377/405 [22:20<00:58,  2.09s/it]"
     ]
    },
    {
     "name": "stdout",
     "output_type": "stream",
     "text": [
      "parsing... SAC_Mesyuarat_ke_218_MYOR-i_bm_v2.pdf\n"
     ]
    },
    {
     "name": "stderr",
     "output_type": "stream",
     "text": [
      " 93%|█████████▎| 378/405 [22:22<00:56,  2.09s/it]"
     ]
    },
    {
     "name": "stdout",
     "output_type": "stream",
     "text": [
      "parsing... SAC_Ruling_on_BNPL_220_228_231_SAC_Meeting.pdf\n"
     ]
    },
    {
     "name": "stderr",
     "output_type": "stream",
     "text": [
      " 94%|█████████▎| 379/405 [22:24<00:54,  2.10s/it]"
     ]
    },
    {
     "name": "stdout",
     "output_type": "stream",
     "text": [
      "parsing... Sasana_Kijang_Brochure.pdf\n"
     ]
    },
    {
     "name": "stderr",
     "output_type": "stream",
     "text": [
      " 94%|█████████▍| 380/405 [23:27<08:22, 20.09s/it]"
     ]
    },
    {
     "name": "stdout",
     "output_type": "stream",
     "text": [
      "unsuccess... Sasana_Kijang_Brochure.pdf\n",
      "parsing... scam_alert_bm.pdf\n"
     ]
    },
    {
     "name": "stderr",
     "output_type": "stream",
     "text": [
      " 94%|█████████▍| 381/405 [23:34<06:31, 16.32s/it]"
     ]
    },
    {
     "name": "stdout",
     "output_type": "stream",
     "text": [
      "parsing... SDRS.pdf\n"
     ]
    },
    {
     "name": "stderr",
     "output_type": "stream",
     "text": [
      " 94%|█████████▍| 382/405 [23:42<05:15, 13.71s/it]"
     ]
    },
    {
     "name": "stdout",
     "output_type": "stream",
     "text": [
      "parsing... SD_Climate-Risk-Mgmt-Scenario-Analysis-Nov2022.pdf\n"
     ]
    },
    {
     "name": "stderr",
     "output_type": "stream",
     "text": [
      " 95%|█████████▍| 383/405 [23:44<03:44, 10.22s/it]"
     ]
    },
    {
     "name": "stdout",
     "output_type": "stream",
     "text": [
      "parsing... shariah_resolutions_2nd_edition.pdf\n"
     ]
    },
    {
     "name": "stderr",
     "output_type": "stream",
     "text": [
      " 95%|█████████▍| 384/405 [23:50<03:06,  8.88s/it]"
     ]
    },
    {
     "name": "stdout",
     "output_type": "stream",
     "text": [
      "parsing... shariah_resolutions_2nd_edition_EN.pdf\n"
     ]
    },
    {
     "name": "stderr",
     "output_type": "stream",
     "text": [
      " 95%|█████████▌| 385/405 [23:53<02:25,  7.25s/it]"
     ]
    },
    {
     "name": "stdout",
     "output_type": "stream",
     "text": [
      "parsing... slaid_TPBID.pdf\n"
     ]
    },
    {
     "name": "stderr",
     "output_type": "stream",
     "text": [
      " 95%|█████████▌| 386/405 [23:59<02:11,  6.94s/it]"
     ]
    },
    {
     "name": "stdout",
     "output_type": "stream",
     "text": [
      "parsing... Soalan+Lazim_HP+dan+Produk+Pembiayaan+Islam+Berkadar+Tetap_070520.pdf\n"
     ]
    },
    {
     "name": "stderr",
     "output_type": "stream",
     "text": [
      " 96%|█████████▌| 387/405 [24:01<01:38,  5.48s/it]"
     ]
    },
    {
     "name": "stdout",
     "output_type": "stream",
     "text": [
      "parsing... SP-2nd-fin-incl-framework.pdf\n"
     ]
    },
    {
     "name": "stderr",
     "output_type": "stream",
     "text": [
      " 96%|█████████▌| 388/405 [24:09<01:44,  6.14s/it]"
     ]
    },
    {
     "name": "stdout",
     "output_type": "stream",
     "text": [
      "parsing... Strategy+Paper+on+VBI.pdf\n"
     ]
    },
    {
     "name": "stderr",
     "output_type": "stream",
     "text": [
      " 96%|█████████▌| 389/405 [24:12<01:21,  5.12s/it]"
     ]
    },
    {
     "name": "stdout",
     "output_type": "stream",
     "text": [
      "parsing... Supplementary+Notice+No.3.pdf\n"
     ]
    },
    {
     "name": "stderr",
     "output_type": "stream",
     "text": [
      " 96%|█████████▋| 390/405 [24:14<01:03,  4.20s/it]"
     ]
    },
    {
     "name": "stdout",
     "output_type": "stream",
     "text": [
      "parsing... Supplementary_Notice_on_Foreign_Exchange_Administration_Rules.pdf\n"
     ]
    },
    {
     "name": "stderr",
     "output_type": "stream",
     "text": [
      " 97%|█████████▋| 391/405 [24:20<01:06,  4.72s/it]"
     ]
    },
    {
     "name": "stdout",
     "output_type": "stream",
     "text": [
      "parsing... TCFD_Application_Guide.pdf\n"
     ]
    },
    {
     "name": "stderr",
     "output_type": "stream",
     "text": [
      " 97%|█████████▋| 392/405 [24:30<01:22,  6.31s/it]"
     ]
    },
    {
     "name": "stdout",
     "output_type": "stream",
     "text": [
      "parsing... The+Bank%27s+response+to+public+queries+comments.pdf\n"
     ]
    },
    {
     "name": "stderr",
     "output_type": "stream",
     "text": [
      " 97%|█████████▋| 393/405 [24:32<01:00,  5.04s/it]"
     ]
    },
    {
     "name": "stdout",
     "output_type": "stream",
     "text": [
      "parsing... TIKS2.pdf\n"
     ]
    },
    {
     "name": "stderr",
     "output_type": "stream",
     "text": [
      " 97%|█████████▋| 394/405 [24:34<00:45,  4.16s/it]"
     ]
    },
    {
     "name": "stdout",
     "output_type": "stream",
     "text": [
      "parsing... tm_ia.pdf\n"
     ]
    },
    {
     "name": "stderr",
     "output_type": "stream",
     "text": [
      " 98%|█████████▊| 395/405 [24:36<00:35,  3.54s/it]"
     ]
    },
    {
     "name": "stdout",
     "output_type": "stream",
     "text": [
      "parsing... TouchPoints_Bajet_2017bm.pdf\n"
     ]
    },
    {
     "name": "stderr",
     "output_type": "stream",
     "text": [
      " 98%|█████████▊| 396/405 [24:38<00:28,  3.12s/it]"
     ]
    },
    {
     "name": "stdout",
     "output_type": "stream",
     "text": [
      "parsing... TouchPoints_Bajet_2017en.pdf\n"
     ]
    },
    {
     "name": "stderr",
     "output_type": "stream",
     "text": [
      " 98%|█████████▊| 397/405 [24:42<00:27,  3.41s/it]"
     ]
    },
    {
     "name": "stdout",
     "output_type": "stream",
     "text": [
      "parsing... TUB2.pdf\n"
     ]
    },
    {
     "name": "stderr",
     "output_type": "stream",
     "text": [
      " 98%|█████████▊| 398/405 [24:44<00:21,  3.01s/it]"
     ]
    },
    {
     "name": "stdout",
     "output_type": "stream",
     "text": [
      "parsing... ub13.pdf\n"
     ]
    },
    {
     "name": "stderr",
     "output_type": "stream",
     "text": [
      " 99%|█████████▊| 399/405 [24:46<00:16,  2.75s/it]"
     ]
    },
    {
     "name": "stdout",
     "output_type": "stream",
     "text": [
      "parsing... Ucapan_Bajet_2016.pdf\n"
     ]
    },
    {
     "name": "stderr",
     "output_type": "stream",
     "text": [
      " 99%|█████████▉| 400/405 [24:51<00:17,  3.42s/it]"
     ]
    },
    {
     "name": "stdout",
     "output_type": "stream",
     "text": [
      "parsing... Ucapan_Bajet_2017.pdf\n"
     ]
    },
    {
     "name": "stderr",
     "output_type": "stream",
     "text": [
      " 99%|█████████▉| 401/405 [24:54<00:12,  3.03s/it]"
     ]
    },
    {
     "name": "stdout",
     "output_type": "stream",
     "text": [
      "parsing... Ucapan_Bajet_2018.pdf\n"
     ]
    },
    {
     "name": "stderr",
     "output_type": "stream",
     "text": [
      " 99%|█████████▉| 402/405 [24:56<00:08,  2.78s/it]"
     ]
    },
    {
     "name": "stdout",
     "output_type": "stream",
     "text": [
      "parsing... Ucapan_Bajet_2019.pdf\n"
     ]
    },
    {
     "name": "stderr",
     "output_type": "stream",
     "text": [
      "100%|█████████▉| 403/405 [24:58<00:05,  2.60s/it]"
     ]
    },
    {
     "name": "stdout",
     "output_type": "stream",
     "text": [
      "parsing... Updated+22062020+Financial+Consumer+Alert%27s+List+%28Eng%29.pdf\n"
     ]
    },
    {
     "name": "stderr",
     "output_type": "stream",
     "text": [
      "100%|█████████▉| 404/405 [25:00<00:02,  2.45s/it]"
     ]
    },
    {
     "name": "stdout",
     "output_type": "stream",
     "text": [
      "parsing... WMC_Guide.pdf\n"
     ]
    },
    {
     "name": "stderr",
     "output_type": "stream",
     "text": [
      "100%|██████████| 405/405 [25:03<00:00,  3.71s/it]\n"
     ]
    }
   ],
   "source": [
    "import tika\n",
    "from tika import parser\n",
    "from tqdm import tqdm\n",
    "\n",
    "downloaded_files=os.listdir() # get list of downloaded files\n",
    "\n",
    "tika.initVM()\n",
    "print('start..')\n",
    "\n",
    "filename=[]\n",
    "Document_Text=[]\n",
    "\n",
    "for file in tqdm(downloaded_files):\n",
    "\n",
    "    try:\n",
    "        print('parsing...',file)\n",
    "        \n",
    "        text=parser.from_file(file)['content']\n",
    "        \n",
    "        filename.append(file)\n",
    "        Document_Text.append(text)\n",
    "                \n",
    "    except:\n",
    "        print('unsuccess...',file)\n",
    "        filename.append(file)\n",
    "        Document_Text.append('')\n",
    "        pass\n",
    "    \n",
    "pdf_to_text=pd.DataFrame({'filename':filename, 'Document_Text':Document_Text})"
   ]
  },
  {
   "cell_type": "code",
   "execution_count": 34,
   "metadata": {},
   "outputs": [
    {
     "name": "stdout",
     "output_type": "stream",
     "text": [
      "\n",
      "\n",
      "\n",
      "\n",
      "\n",
      "\n",
      "\n",
      "\n",
      "\n",
      "\n",
      "\n",
      "\n",
      "\n",
      "\n",
      "\n",
      "\n",
      "\n",
      "\n",
      "\n",
      "\n",
      "\n",
      "\n",
      "\n",
      "\n",
      "\n",
      "\n",
      "\n",
      "\n",
      "\n",
      "\n",
      "\n",
      "\n",
      "\n",
      "\n",
      "\n",
      "\n",
      "\n",
      "\n",
      "\n",
      "514539 BM.indd\n",
      "\n",
      "\n",
      "Bank Negara Malaysia 1\n",
      "\n",
      " \n",
      "\n",
      "UNDANG-UNDANG\n",
      "MALAYSIA\n",
      "\n",
      "Akta 701\n",
      "\n",
      "AKTA BANK NEGARA MALAYSIA 2009\n",
      "\n",
      "\n",
      "\n",
      "Undang-Undang Malaysia2 AKTA 701\n",
      "\n",
      "Tarikh Perkenan Diraja ... ... 19 Ogos 2009\n",
      "\n",
      "Tarikh penyiaran dalam Warta  ... 3 September 2009\n",
      "\n",
      "\n",
      "\n",
      "Bank Negara Malaysia 3\n",
      "\n",
      "UNDANG-UNDANG MALAYSIA\n",
      "\n",
      "Akta 701\n",
      "\n",
      "AKTA BANK NEGARA MALAYSIA 2009\n",
      "\n",
      "SUSUNAN SEKSYEN\n",
      "\n",
      "BAHAGIAN I\n",
      "\n",
      "PERMULAAN\n",
      "\n",
      " Seksyen\n",
      "\n",
      " 1. Tajuk ringkas dan permulaan kuat kuasa\n",
      "\n",
      " 2. Tafsiran\n",
      "\n",
      "BAHAGIAN II\n",
      "\n",
      "BANK, MATLAMAT DAN FUNGSINYA\n",
      "\n",
      " 3. Bank yang ditubuhkan di bawah Akta Bank Negara Malaysia 1958\n",
      "\n",
      " 4. Bank pusat bagi Malaysia\n",
      "\n",
      " 5. Matlamat dan fungsi utama Bank\n",
      "\n",
      "BAHAGIAN III\n",
      "\n",
      "PERUNTUKAN KEWANGAN\n",
      "\n",
      " 6. Modal\n",
      "\n",
      " 7. Kumpulan Wang Rizab Am\n",
      "\n",
      " 8. Tahun kewangan\n",
      "\n",
      " 9. Kehendak untuk menyimpan akaun dan rekod lain\n",
      "\n",
      " 10. Piawaian perakaunan\n",
      "\n",
      " 11. Audit luar\n",
      "\n",
      " 12. Penyata aset dan liabiliti\n",
      "\n",
      " 13. Penyediaan dan penerbitan penyata kewangan dan laporan \n",
      "\n",
      "\n",
      "\n",
      "Undang-Undang Malaysia4 AKTA 701\n",
      "\n",
      "BAHAGIAN IV\n",
      "\n",
      "TADBIR URUS BANK\n",
      "\n",
      " Seksyen\n",
      "\n",
      " 14. Lembaga Pengarah\n",
      "\n",
      " 15. Gabenor dan Timbalan Gabenor\n",
      "\n",
      " 16. Pelantikan pengarah\n",
      "\n",
      " 17. Kehilangan kelayakan Gabenor, Timbalan Gabenor dan pengarah\n",
      "\n",
      " 18. Kekosongan jawatan Gabenor, Timbalan Gabenor atau pengarah\n",
      "\n",
      " 19. Mesyuarat Lembaga \n",
      "\n",
      " 20. Penzahiran kepentingan\n",
      "\n",
      " 21. Jawatankuasa Lembaga\n",
      "\n",
      "BAHAGIAN V\n",
      "\n",
      "FUNGSI DAN OPERASI MONETARI BANK\n",
      "\n",
      " 22. Dasar monetari\n",
      "\n",
      " 23. Jawatankuasa Dasar Monetari\n",
      "\n",
      " 24. Penyiaran pernyataan dasar monetari\n",
      "\n",
      " 25. Operasi dasar monetari\n",
      "\n",
      " 26. Penjalanan operasi dasar monetari\n",
      "\n",
      "BAHAGIAN VI\n",
      "\n",
      "FUNGSI KESTABILAN KEWANGAN DAN KUASA BANK\n",
      "\n",
      "Bab 1\n",
      "\n",
      "Kuasa untuk menggalakkan kestabilan kewangan\n",
      "\n",
      " 27. Dwisistem kewangan\n",
      "\n",
      " 28. Kuasa kestabilan kewangan di bawah undang-undang \n",
      "\n",
      " 29. Tafsiran\n",
      "\n",
      " 30. Maklumat bagi maksud kestabilan kewangan\n",
      "\n",
      " 31. Perintah kestabilan kewangan\n",
      "\n",
      " 32. Kuasa untuk mengelakkan atau mengurangkan risiko kepada kestabilan \n",
      "kewangan\n",
      "\n",
      " 33. Usaha wajar\n",
      "\n",
      "\n",
      "\n",
      "Bank Negara Malaysia 5\n",
      "\n",
      " 34. Bantuan kecairan di bawah perenggan 32(1)(a) atau (b)\n",
      "\n",
      " 35. Peruntukan tambahan yang berhubungan dengan subperenggan 32(1)(c)(i)\n",
      "\n",
      " 36. Peruntukan tambahan yang berhubungan dengan subperenggan 32(1)(c)(iii)\n",
      "\n",
      " 37. Jawatankuasa Eksekutif Kestabilan Kewangan\n",
      "\n",
      " 38. Kuasa dan fungsi Jawatankuasa Eksekutif Kestabilan Kewangan\n",
      "\n",
      " 39. Bentuk relief\n",
      "\n",
      " 40. Perkiraan dengan pihak berkuasa penyeliaan lain\n",
      "\n",
      " 41. Nasihat atau syor tentang kestabilan kewangan kepada pihak berkuasa \n",
      "penyeliaan\n",
      "\n",
      " 42. Kerahsiaan\n",
      "\n",
      "Bab 2\n",
      "\n",
      "Pasaran wang dan pasaran pertukaran asing\n",
      " \n",
      " 43. Kaedah, garis panduan, dsb., bagi pasaran wang, dsb. \n",
      "\n",
      " 44. Bank boleh menubuhkan sistem bagi dana, sekuriti hutang, dsb.\n",
      "\n",
      "Bab 3\n",
      "\n",
      "Perkhidmatan kewangan dan fungsi lain\n",
      "\n",
      " 45. Kerjasama dengan institusi kewangan\n",
      "\n",
      " 46. Rumah penjelasan dan penyelesaian baki antara institusi kewangan\n",
      "\n",
      " 47. Biro kredit\n",
      "\n",
      " 48. Penubuhan pertubuhan perbadanan, dsb.\n",
      "\n",
      " 49. Pembiayaan bagi maksud khas\n",
      "\n",
      " 50. Had ke atas pelaburan dan pembiayaan\n",
      "\n",
      "BAHAGIAN VII\n",
      "\n",
      "PERNIAGAAN KEWANGAN ISLAM \n",
      "\n",
      "Bab 1\n",
      "\n",
      "Majlis Penasihat Shariah\n",
      "\n",
      " 51. Penubuhan Majlis Penasihat Shariah\n",
      "\n",
      " 52. Fungsi Majlis Penasihat Shariah\n",
      "\n",
      " 53. Pelantikan anggota Majlis Penasihat Shariah\n",
      "\n",
      " 54. Urus setia Majlis Penasihat Shariah\n",
      "\n",
      " Seksyen\n",
      "\n",
      "\n",
      "\n",
      "Undang-Undang Malaysia6 AKTA 701\n",
      "\n",
      " 55. Bank dan institusi kewangan Islam hendaklah merujuk kepada Majlis \n",
      "Penasihat Shariah\n",
      "\n",
      " 56. Rujukan kepada Majlis Penasihat Shariah bagi keputusan daripada \n",
      "mahkamah atau penimbang tara\n",
      "\n",
      " 57. Kesan keputusan Shariah\n",
      "\n",
      " 58. Keputusan Majlis Penasihat Shariah terpakai\n",
      "\n",
      "Bab 2\n",
      "\n",
      "Kuasa Bank\n",
      "\n",
      " 59. Bank hendaklah mengeluarkan pekeliling, garis panduan, dsb., mengenai \n",
      "perkara Shariah\n",
      "\n",
      " 60. Mempromosi Malaysia sebagai pusat kewangan Islam antarabangsa\n",
      "\n",
      "BAHAGIAN VIII\n",
      "\n",
      "MATA WANG\n",
      "\n",
      " 61. Unit mata wang\n",
      "\n",
      " 62. Hak untuk mengeluarkan, mencetak atau menempa mata wang\n",
      "\n",
      " 63. Sah diperlakukan\n",
      "\n",
      " 64. Bank boleh memanggil balik mata wang\n",
      "\n",
      " 65. Bank boleh membeli dan menjual ringgit\n",
      "\n",
      " 66. Rejim kadar pertukaran bagi ringgit\n",
      "\n",
      "BAHAGIAN IX\n",
      "\n",
      "RIZAB LUAR NEGARA\n",
      "\n",
      " 67. Kewajipan Bank untuk memegang dan menguruskan rizab luar negara\n",
      "\n",
      " 68. Dasar dan garis panduan mengenai rizab luar negara\n",
      "\n",
      "BAHAGIAN X\n",
      "\n",
      "HUBUNGAN DENGAN KERAJAAN\n",
      "\n",
      " 69. Jurubank dan ejen kewangan kepada Kerajaan\n",
      "\n",
      " 70. Nasihat kepada, dan bertindak secara am sebagai ejen, Kerajaan\n",
      "\n",
      " 71. Pembiayaan sementara kepada Kerajaan\n",
      "\n",
      " 72. Perkara dasar \n",
      "\n",
      " Seksyen\n",
      "\n",
      "\n",
      "\n",
      "Bank Negara Malaysia 7\n",
      "\n",
      "BAHAGIAN XI\n",
      "\n",
      "KUASA BANK YANG LAIN\n",
      "\n",
      " Seksyen\n",
      "\n",
      " 73. Pematuhan Shariah\n",
      "\n",
      " 74. Pemerolehan harta tak alih\n",
      "\n",
      " 75. Kuasa am Bank\n",
      "\n",
      " 76. Perniagaan yang tidak boleh diurusniagakan oleh Bank \n",
      "\n",
      " 77. Langkah bagi menjaga kestabilan monetari dan kewangan\n",
      "\n",
      " 78. Rekod akaun antarabangsa\n",
      "\n",
      "BAHAGIAN XII\n",
      "\n",
      "PERKARA ANTARABANGSA\n",
      "\n",
      " 79. Kerjasama antarabangsa\n",
      "\n",
      " 80. Keanggotaan dalam organisasi antarabangsa\n",
      "\n",
      " 81. Penyertaan dalam Bank Penyelesaian Antarabangsa dan institusi kewangan \n",
      "antarabangsa lain\n",
      "\n",
      " 82. Peraturan-peraturan atau arahan untuk menunaikan obligasi antarabangsa \n",
      "Kerajaan di bawah Ketetapan Majlis Keselamatan Bangsa-Bangsa \n",
      "Bersatu\n",
      "\n",
      "BAHAGIAN XIII\n",
      "\n",
      "PEGAWAI DAN PEKERJA \n",
      "\n",
      " 83. Pegawai dan pekerja Bank\n",
      "\n",
      " 84. Pembiayaan bagi perumahan, kenderaan, pengajian dan biasiswa \n",
      "\n",
      " 85. Saraan tidak dikaitkan dengan keuntungan\n",
      "\n",
      "BAHAGIAN XIV\n",
      "\n",
      "AM\n",
      " 86. Pemeliharaan kerahsiaan\n",
      "\n",
      " 87. Kekebalan\n",
      "\n",
      " 88. Kuasa untuk melaporkan kesalahan yang disyaki\n",
      "\n",
      " 89. Kuasa mengkompaun\n",
      "\n",
      " 90. Pendakwaan \n",
      "\n",
      " 91. Kesalahan oleh pertubuhan perbadanan\n",
      "\n",
      "\n",
      "\n",
      "Undang-Undang Malaysia8 AKTA 701\n",
      "\n",
      " 92. Bank boleh diwakili oleh pegawai atau pekerja Bank dalam prosiding \n",
      "sivil\n",
      "\n",
      " 93. Fi dan caj\n",
      "\n",
      " 94. Kuasa untuk membuat peraturan-peraturan\n",
      "\n",
      " 95. Kuasa untuk mengeluarkan garis panduan, dsb.\n",
      "\n",
      " 96. Pengecualian\n",
      "\n",
      " 97. Kuasa untuk meminda Jadual\n",
      "\n",
      " 98. Kuasa untuk mengenakan penalti pentadbiran\n",
      "\n",
      "BAHAGIAN XV\n",
      "\n",
      "PEMANSUHAN, KECUALIAN DAN PERALIHAN\n",
      "\n",
      " 99. Pemansuhan \n",
      "\n",
      " 100. Kecualian dan peralihan\n",
      "\n",
      "  JADUAL PERTAMA\n",
      "\n",
      "  JADUAL KEDUA\n",
      "\n",
      "  JADUAL KETIGA\n",
      "\n",
      " Seksyen\n",
      "\n",
      "\n",
      "\n",
      "Bank Negara Malaysia 9\n",
      "\n",
      "Suatu Akta untuk mengadakan peruntukan bagi kewujudan berterusan \n",
      "Bank Negara Malaysia dan bagi pentadbiran, matlamat, fungsi \n",
      "dan kuasa Bank, dan bagi perkara berbangkit atau bersampingan \n",
      "dengannya.\n",
      "\n",
      " [ ]\n",
      "\n",
      "DIPERBUAT oleh Parlimen Malaysia seperti yang berikut:\n",
      "\n",
      "BAHAGIAN I\n",
      "\n",
      "PERMULAAN\n",
      "\n",
      "Tajuk ringkas dan permulaan kuat kuasa\n",
      "\n",
      "1. (1) Akta ini bolehlah dinamakan Akta Bank Negara Malaysia 2009.\n",
      "\n",
      " (2) Akta ini mula berkuat kuasa pada tarikh yang ditetapkan \n",
      "oleh Menteri melalui pemberitahuan dalam Warta dan Menteri \n",
      "boleh menetapkan tarikh yang berlainan bagi permulaan kuat \n",
      "kuasa bahagian yang berlainan atau peruntukan yang berlainan \n",
      "dalam Akta ini.\n",
      "\n",
      "Tafsiran\n",
      "\n",
      "2. (1) Dalam Akta ini, melainkan jika konteksnya menghendaki \n",
      "makna yang lain—\n",
      "\n",
      " “Akta dimansuhkan” ertinya Akta Bank Negara Malaysia 1958 \n",
      "[Akta 519];\n",
      "\n",
      "UNDANG-UNDANG MALAYSIA\n",
      "\n",
      "Akta 701\n",
      "\n",
      "AKTA BANK NEGARA MALAYSIA 2009\n",
      "\n",
      "\n",
      "\n",
      "Undang-Undang Malaysia10 AKTA 701\n",
      "\n",
      " “Bank” ertinya Bank Negara Malaysia atau dalam bahasa \n",
      "Inggeris, “Central Bank of Malaysia”;\n",
      "\n",
      " “ditentukan” ertinya ditentukan di bawah Akta ini dari semasa \n",
      "ke semasa secara bertulis;\n",
      "\n",
      " “ditetapkan” ertinya ditetapkan di bawah Akta ini dari semasa \n",
      "ke semasa melalui perintah yang disiarkan dalam Warta;\n",
      "\n",
      " “dokumen konstituen”, berhubung dengan suatu pertubuhan \n",
      "perbadanan atau pertubuhan yang tidak diperbadankan, ertinya \n",
      "apa-apa dokumen atau surat cara, yang di bawahnya atau \n",
      "dengannya badan itu dibentuk, ditubuhkan, diperbadankan, atau \n",
      "struktur pengelolaan dan pentadbirannya, skop fungsi, urusan, \n",
      "kuasa atau kewajipannya dinyatakan, sama ada terkandung dalam \n",
      "satu dokumen atau lebih tetapi tidak terhad kepada dokumen atau \n",
      "surat cara yang berikut:\n",
      "\n",
      " (a) statut;\n",
      "\n",
      " (b) piagam;\n",
      "\n",
      " (c) memorandum persatuan;\n",
      "\n",
      " (d) perkara-perkara persatuan;\n",
      "\n",
      " (e) perlembagaan;\n",
      "\n",
      " (f) kaedah atau undang-undang kecil; dan\n",
      "\n",
      " (g) perjanjian perkongsian;\n",
      "\n",
      " “Gabenor” ertinya Gabenor Bank;\n",
      "\n",
      " “institusi kewangan” ertinya seseorang yang menjalankan \n",
      "perniagaan kewangan yang dikawal selia di bawah undang-undang \n",
      "yang dikuatkuasakan oleh Bank dan sebagai tambahan termasuklah \n",
      "mana-mana—\n",
      "\n",
      " (a) orang yang mengendalikan apa-apa sistem pembayaran atau \n",
      "mengeluarkan apa-apa instrumen pembayaran; dan\n",
      "\n",
      " (b) orang yang menjalankan apa-apa perniagaan kewangan \n",
      "yang lain sebagaimana yang ditetapkan oleh Menteri;\n",
      "\n",
      " “institusi kewangan antarabangsa” ertinya mana-mana institusi \n",
      "yang ditubuhkan di dalam atau di luar Malaysia oleh lebih daripada \n",
      "satu negara, bank pusat atau pihak berkuasa monetari berhubung \n",
      "\n",
      "\n",
      "\n",
      "Bank Negara Malaysia 11\n",
      "\n",
      "dengan perkara kewangan atau monetari dan termasuklah Bank \n",
      "Pembangunan Asia, Bank Penyelesaian Antarabangsa, Bank \n",
      "Antarabangsa bagi Pembinaan Semula dan Pembangunan, Tabung \n",
      "Kewangan Antarabangsa, Bank Pembangunan Islam dan Lembaga \n",
      "Perkhidmatan Kewangan Islam;\n",
      "\n",
      " “institusi kewangan Islam” ertinya sesuatu institusi kewangan \n",
      "yang menjalankan perniagaan kewangan Islam;\n",
      "\n",
      " “instrumen modal” ertinya syer keutamaan, stok pinjaman, \n",
      "hutang bawahan bertempoh atau instrumen lain yang diluluskan \n",
      "oleh Bank untuk layak sebagai modal;\n",
      "\n",
      " “Jawatankuasa Dasar Monetari” ertinya Jawatankuasa Dasar \n",
      "Monetari yang ditubuhkan di bawah seksyen 23;\n",
      "\n",
      " “Jawatankuasa Eksekutif Kestabilan Kewangan” ertinya \n",
      "Jawatankuasa Eksekutif Kestabilan Kewangan yang ditubuhkan \n",
      "di bawah seksyen 37;\n",
      " \n",
      " “Jawatankuasa Audit Lembaga” ertinya Jawatankuasa Audit \n",
      "Lembaga yang ditubuhkan di bawah perenggan 21(1)(b); \n",
      "\n",
      " “Jawatankuasa Risiko Lembaga” ertinya Jawatankuasa Risiko \n",
      "Lembaga yang ditubuhkan di bawah perenggan 21(1)(c);\n",
      "\n",
      " “Jawatankuasa Tadbir Urus Lembaga” ertinya Jawatankuasa \n",
      "Tadbir Urus Lembaga yang ditubuhkan di bawah perenggan 21(1)(a);\n",
      " \n",
      " “Lembaga” ertinya Lembaga Pengarah Bank;\n",
      "\n",
      " “Majlis Penasihat Shariah” ertinya Majlis Penasihat Shariah \n",
      "mengenai Kewangan Islam yang ditubuhkan di bawah seksyen \n",
      "51;\n",
      "\n",
      " “mata wang asing” ertinya mata wang kertas atau syiling yang \n",
      "sah diperlakukan dalam mana-mana negara, wilayah atau tempat \n",
      "di luar Malaysia dan apa-apa sebutan mengenai mata wang asing \n",
      "dalam Akta ini termasuklah sebutan mengenai apa-apa hak untuk \n",
      "menerima mata wang asing berkenaan dengan apa-apa kredit atau \n",
      "baki di sesuatu bank atau mana-mana institusi lain seumpamanya \n",
      "di dalam atau di luar Malaysia;\n",
      "\n",
      "\n",
      "\n",
      "Undang-Undang Malaysia12 AKTA 701\n",
      "\n",
      " “Menteri” ertinya Menteri yang dipertanggungkan dengan \n",
      "tanggungjawab bagi kewangan;\n",
      "\n",
      " “pasaran kewangan” termasuklah pasaran wang, pasaran \n",
      "pertukaran asing, pasaran modal dan pasaran terbitan;\n",
      "\n",
      " “pegawai” ertinya mana-mana pegawai Bank yang dilantik \n",
      "di bawah seksyen 83;\n",
      "\n",
      " “pembiayaan” ertinya pemberian apa-apa pendahuluan, pinjaman, \n",
      "kredit atau kemudahan lain dalam apa jua bentuk atau dengan apa \n",
      "jua nama dipanggil, termasuklah pemberian suatu jaminan atau \n",
      "aku janji bagi apa-apa obligasi jaminan bagi seorang yang lain \n",
      "dan jika pembiayaan itu diberikan menurut Shariah termasuklah, \n",
      "dan boleh dalam bentuk, tanpa batasan, apa-apa perkiraan jualan \n",
      "atau pembelian, perkiraan usaha sama, jualan bayaran tertangguh, \n",
      "perkiraan perkongsian pulangan atau apa-apa perkiraan pembiayaan \n",
      "lain yang dibuat mengikut Shariah;\n",
      "\n",
      " “pengarah” ertinya pengarah Bank yang dilantik di bawah \n",
      "subseksyen 16(1), dan termasuk Gabenor dan Timbalan \n",
      "Gabenor;\n",
      "\n",
      " “perbadanan berkaitan”, berhubung dengan sesuatu perbadanan, \n",
      "ertinya sesuatu perbadanan yang disifatkan sebagai berkaitan \n",
      "dengan perbadanan yang mula-mula disebut di bawah seksyen 6 \n",
      "Akta Syarikat 1965 [Akta 125];\n",
      "\n",
      " “perniagaan kewangan Islam” ertinya apa-apa perniagaan \n",
      "kewangan dalam ringgit atau mata wang lain yang tertakluk \n",
      "kepada undang-undang yang dikuatkuasakan oleh Bank dan selaras \n",
      "dengan Shariah;\n",
      "\n",
      " “pihak berkuasa penyeliaan” ertinya mana-mana pihak berkuasa, \n",
      "badan atau agensi di dalam atau di luar Malaysia selain Bank \n",
      "yang bertanggungjawab bagi penyeliaan atau pengawasan mana-\n",
      "mana institusi kewangan, pasaran kewangan, perantara atau peserta \n",
      "pasaran modal atau sistem pembayaran;\n",
      "\n",
      " “pulangan” termasuklah apa-apa bentuk sewaan, keuntungan, \n",
      "dividen atau faedah, termasuklah apa-apa fi atau alang, yang \n",
      "kena dibayar atau diberikan berhubung dengan pembiayaan yang \n",
      "diberikan mengikut Shariah;\n",
      "\n",
      "\n",
      "\n",
      "Bank Negara Malaysia 13\n",
      "\n",
      " “sistem pembayaran” ertinya apa-apa sistem atau perkiraan bagi \n",
      "pemindahan, penjelasan atau penyelesaian dana atau sekuriti; \n",
      "\n",
      " “terbitan” ertinya instrumen kewangan termasuk suatu opsyen, \n",
      "suatu swap, suatu kontrak niaga hadapan atau kontrak hadapan \n",
      "atau apa-apa produk kewangan lain atau apa-apa kombinasi \n",
      "instrumen itu yang harga pasaran, nilai, kewajipan penyerahan \n",
      "atau pembayarannya berpunca daripada, dirujukkan pada atau \n",
      "berdasarkan pada, tetapi tidak terbatas kepada, harga sekuriti atau \n",
      "harga komoditi dasar, aset, kadar (termasuklah kadar bunga atau \n",
      "kadar pertukaran) atau indeks;\n",
      "\n",
      " “Timbalan Gabenor” ertinya seseorang Timbalan Gabenor \n",
      "Bank.\n",
      "\n",
      " (2) Bagi maksud Akta ini—\n",
      "\n",
      " “Jawatankuasa Lembaga” secara kolektifnya merujuk kepada \n",
      "jawatankuasa-jawatankuasa Lembaga yang ditubuhkan di bawah \n",
      "seksyen 21;\n",
      "\n",
      " “perniagaan kewangan” secara kolektifnya merujuk kepada \n",
      "perniagaan kewangan konvensional dan perniagaan kewangan \n",
      "Islam; \n",
      "\n",
      " “sistem kewangan” secara kolektifnya merujuk kepada institusi \n",
      "kewangan, perantara atau peserta pasaran modal, pasaran kewangan \n",
      "dan sistem pembayaran di Malaysia.\n",
      "\n",
      " (3) Bagi maksud Akta ini—\n",
      "\n",
      " (a) kuasa untuk menetapkan termasuklah kuasa untuk membuat \n",
      "peruntukan yang berlainan dalam perintah, bagi orang \n",
      "yang berlainan atau golongan, kategori atau perihalan \n",
      "orang yang berlainan; dan\n",
      "\n",
      " (b) suatu kuasa untuk menentukan termasuklah kuasa untuk \n",
      "menentukan secara berlainan bagi orang yang berlainan \n",
      "atau golongan, kategori atau perihalan orang yang \n",
      "berlainan.\n",
      "\n",
      " (4) Sebutan mengenai suatu institusi kewangan atau orang \n",
      "termasuklah sebutan mengenai golongan, kategori atau perihalan \n",
      "mengenai institusi atau orang itu.\n",
      "\n",
      "\n",
      "\n",
      "Undang-Undang Malaysia14 AKTA 701\n",
      "\n",
      " (5) Jika di bawah Akta ini, kuasa diberikan kepada Bank \n",
      "untuk menghendaki mana-mana orang, atau jika mana-mana orang \n",
      "dikehendaki di bawah Akta ini, untuk mengemukakan apa-apa \n",
      "data, maklumat atau dokumen kepada Bank—\n",
      "\n",
      " (a) Bank boleh menentukan bahawa data, maklumat atau \n",
      "dokumen itu hendaklah dikemukakan, dalam suatu \n",
      "tempoh, pada apa-apa lat tempoh, mengikut cara atau \n",
      "dalam bentuk sebagaimana yang dinyatakan oleh Bank \n",
      "dalam penentuan itu; dan\n",
      "\n",
      " (b) orang itu tidak boleh mengemukakan apa-apa data, \n",
      "maklumat atau dokumen—\n",
      "\n",
      " (i) yang dia tahu, atau mempunyai sebab untuk \n",
      "mempercayai, adalah palsu, tidak lengkap, tidak \n",
      "tepat atau mengelirukan; atau\n",
      "\n",
      " (ii) yang berkenaan dengannya terdapat kesilapan atau \n",
      "peninggalan material. \n",
      "\n",
      "BAHAGIAN II\n",
      "\n",
      "BANK, MATLAMAT DAN FUNGSINYA\n",
      "\n",
      "Bank yang ditubuhkan di bawah Akta Bank Negara Malaysia \n",
      "1958\n",
      "\n",
      "3. (1) Walau pun Akta Bank Negara Malaysia 1958 dimansuhkan \n",
      "oleh seksyen 99, pertubuhan perbadanan yang ditubuhkan di bawah \n",
      "Akta dimansuhkan di bawah nama “Bank Negara Malaysia” atau, \n",
      "dalam bahasa Inggeris, “Central Bank of Malaysia” hendaklah terus \n",
      "wujud di bawah dan tertakluk kepada peruntukan Akta ini.\n",
      "\n",
      " (2) Bank ialah pertubuhan perbadanan yang sama yang \n",
      "ditubuhkan di bawah Akta dimansuhkan.\n",
      "\n",
      " (3) Bank hendaklah terus kekal turun-temurun dan mempunyai \n",
      "suatu meterai perbadanan dan boleh membawa guaman dan dibawa \n",
      "guaman terhadapnya atas namanya sendiri. \n",
      "\n",
      " (4) Bank hendaklah mempunyai Ibu Pejabatnya di Kuala \n",
      "Lumpur dan boleh membuka cawangan dan melantik ejen dan \n",
      "koresponden di dalam atau di luar Malaysia.\n",
      "\n",
      "\n",
      "\n",
      "Bank Negara Malaysia 15\n",
      "\n",
      " (5) Bank boleh, melalui surat cara, di bawah meterai \n",
      "perbadanannya, melantik seseorang sama ada di dalam atau di \n",
      "luar Malaysia untuk menjadi wakilnya, dan orang yang dilantik \n",
      "sedemikian boleh, tertakluk kepada surat cara itu, melakukan \n",
      "apa-apa perbuatan atau melaksanakan apa-apa kuasa atau fungsi \n",
      "yang dia diberi kuasa oleh surat cara itu untuk melakukan atau \n",
      "melaksanakan.\n",
      "\n",
      "Bank pusat bagi Malaysia\n",
      "\n",
      "4. Bank hendaklah menjadi bank pusat bagi Malaysia.\n",
      "\n",
      "Matlamat dan fungsi utama Bank\n",
      "\n",
      "5. (1) Matlamat utama Bank adalah untuk menggalakkan \n",
      "kestabilan monetari dan kestabilan kewangan yang kondusif kepada \n",
      "pertumbuhan ekonomi Malaysia yang mampan.\n",
      "\n",
      " (2) Fungsi utama Bank adalah seperti yang berikut:\n",
      "\n",
      " (a) untuk merumuskan dan mengendalikan dasar monetari \n",
      "di Malaysia;\n",
      "\n",
      " (b) untuk mengeluarkan mata wang di Malaysia;\n",
      "\n",
      " (c) untuk mengawal selia dan menyelia institusi kewangan \n",
      "yang tertakluk kepada undang-undang yang dikuatkuasakan \n",
      "oleh Bank;\n",
      "\n",
      " (d) untuk mengadakan pengawasan ke atas pasaran wang dan \n",
      "pasaran pertukaran asing;\n",
      "\n",
      " (e) untuk menjalankan pengawasan ke atas sistem \n",
      "pembayaran;\n",
      "\n",
      " (f) untuk menggalakkan sistem kewangan yang kukuh, \n",
      "progresif dan merangkumi semua;\n",
      "\n",
      " (g) untuk memegang dan menguruskan rizab luar negara \n",
      "Malaysia;\n",
      "\n",
      " (h) untuk menggalakkan rejim kadar pertukaran asing yang \n",
      "selaras dengan asas ekonomi; dan\n",
      "\n",
      " (i) untuk bertindak sebagai penasihat kewangan, jurubank \n",
      "dan ejen kewangan Kerajaan.\n",
      "\n",
      "\n",
      "\n",
      "Undang-Undang Malaysia16 AKTA 701\n",
      "\n",
      " (3) Bank hendaklah mempunyai segala kuasa yang perlu, \n",
      "bersampingan atau berkaitan untuk melaksanakan matlamatnya \n",
      "dan menjalankan fungsinya.\n",
      "\n",
      " (4) Bank dalam melaksanakan matlamatnya dan menjalankan \n",
      "fungsinya di bawah Akta ini hendaklah mengambil kira kepentingan \n",
      "negara.\n",
      "\n",
      "BAHAGIAN III\n",
      "\n",
      "PERUNTUKAN KEWANGAN\n",
      "\n",
      "Modal\n",
      "\n",
      "6. (1) Modal Bank hendaklah sebanyak satu ratus juta ringgit. \n",
      "\n",
      " (2) Modal itu boleh ditambah dengan apa-apa amaun sebagaimana \n",
      "yang diluluskan oleh Menteri dari semasa ke semasa dan Kerajaan \n",
      "hendaklah melanggan dan membayar amaun pertambahan itu \n",
      "kepada Bank.\n",
      "\n",
      " (3) Bayaran bagi pertambahan modal yang disebut dalam \n",
      "subseksyen (2) boleh dibuat melalui pindahan daripada Kumpulan \n",
      "Wang Rizab Am sebagaimana yang diluluskan oleh Menteri dari \n",
      "semasa ke semasa. \n",
      "\n",
      "Kumpulan Wang Rizab Am\n",
      "\n",
      "7. (1) Hendaklah ada suatu Kumpulan Wang Rizab Am yang \n",
      "hendaklah termasuk amaun yang ada pada kredit Kumpulan Wang \n",
      "Rizab Am yang ditubuhkan di bawah seksyen 7 Akta dimansuhkan \n",
      "sebaik sebelum permulaan kuat kuasa Akta ini dan apa-apa amaun \n",
      "lain yang diletakkan pada kredit Kumpulan Wang Rizab Am \n",
      "di bawah Akta ini.\n",
      "\n",
      " (2) Pada akhir setiap tahun kewangan, keuntungan bersih \n",
      "Bank bagi tahun itu hendaklah ditentukan selepas mengambil \n",
      "kira perbelanjaan operasi dalam melaksanakan matlamatnya, \n",
      "menjalankan fungsinya dan melakukan urusan atau hal ehwalnya, \n",
      "termasuk sumbangan kepada kumpulan wang kebajikan kakitangan, \n",
      "simpanan dan pencen, pemberian atau sumbangan lain kepada \n",
      "mana-mana orang yang diperuntukkan oleh Akta ini atau undang-\n",
      "\n",
      "\n",
      "\n",
      "Bank Negara Malaysia 17\n",
      "\n",
      "undang bertulis lain dan selepas peruntukan telah dibuat bagi \n",
      "hutang lapuk dan ragu, susut nilai aset dan kontingensi lain yang \n",
      "biasanya diperuntukkan oleh bank-bank.\n",
      "\n",
      " (3) Bank boleh memindahkan apa-apa amaun daripada keuntungan \n",
      "bersih itu kepada mana-mana rizab kontingensi, rizab turun naik \n",
      "atau apa-apa rizab lain sebagaimana yang disifatkan berhemat \n",
      "atau perlu oleh Lembaga.\n",
      "\n",
      " (4) Untung bersih Bank ditolak apa-apa laba belum terealisasi \n",
      "dan selepas pindahan di bawah subseksyen (3) hendaklah diuruskan \n",
      "seperti yang berikut:\n",
      "\n",
      " (a) apa-apa amaun yang ditentukan oleh Menteri, atas syor \n",
      "Lembaga, hendaklah diletakkan pada kredit Kumpulan \n",
      "Wang Rizab Am; dan \n",
      "\n",
      " (b) bakinya hendaklah dibayar kepada Kerajaan:\n",
      "\n",
      " Dengan syarat bahawa—\n",
      "\n",
      " (i) dalam hal mana-mana tahun yang pada akhir tahun itu \n",
      "Kumpulan Wang Rizab Am adalah kurang daripada \n",
      "modal Bank, keseluruhan untung bersih itu hendaklah \n",
      "dikreditkan pada Kumpulan Wang Rizab Am; dan\n",
      "\n",
      " (ii) dalam hal mana-mana tahun yang pada akhir tahun itu \n",
      "Kumpulan Wang Rizab tidak kurang daripada modal \n",
      "Bank, tetapi kurang daripada dua kali ganda modal Bank, \n",
      "tidak kurang daripada tiga puluh peratus untung bersih \n",
      "itu hendaklah dikreditkan pada Kumpulan Wang Rizab \n",
      "Am.\n",
      "\n",
      " (5) Tiada apa-apa jua dalam seksyen ini boleh menghalang \n",
      "Bank daripada memindahkan apa-apa amaun daripada Kumpulan \n",
      "Wang Rizab Am kepada mana-mana rizab kontingensi, rizab \n",
      "turun naik atau apa-apa rizab lain sebagaimana yang disifatkan \n",
      "berhemat atau perlu oleh Lembaga.\n",
      "\n",
      "Tahun kewangan\n",
      "\n",
      "8. Tahun kewangan bagi Bank hendaklah bermula pada hari \n",
      "pertama Januari dan berakhir pada hari ketiga puluh satu Disember \n",
      "pada setiap tahun.\n",
      "\n",
      "\n",
      "\n",
      "Undang-Undang Malaysia18 AKTA 701\n",
      "\n",
      "Kehendak untuk menyimpan akaun dan rekod lain\n",
      "\n",
      "9. Bank hendaklah memastikan supaya akaun sepatutnya dan \n",
      "rekod lain berkenaan dengan urusan, hal ehwal dan operasinya \n",
      "disimpan dan hendaklah, secepat yang dapat dilaksanakan, selepas \n",
      "berakhir setiap tahun kewangan, memastikan supaya penyata \n",
      "kewangan disediakan bagi tahun kewangan itu.\n",
      "\n",
      "Piawaian perakaunan\n",
      "\n",
      "10. Dalam menyediakan penyata kewangannya, Bank hendaklah \n",
      "mematuhi piawaian perakaunan setakat yang, pada pendapat \n",
      "Lembaga, wajar untuk berbuat demikian, dengan mengambil kira \n",
      "matlamat dan fungsi Bank.\n",
      "\n",
      "Audit luar\n",
      "\n",
      "11. Ketua Audit Negara hendaklah mengaudit akaun Bank.\n",
      "\n",
      "Penyata aset dan liabiliti\n",
      "\n",
      "12. (1) Bank hendaklah, sebaik selepas hari kelima belas dan selepas \n",
      "hari terakhir pada setiap bulan, menyediakan dan menyiarkan suatu \n",
      "penyata aset dan liabilitinya setakat urusan ditutup pada hari-hari \n",
      "yang berkenaan masing-masing atau, jika mana-mana hari yang \n",
      "berkenaan itu ialah hari kelepasan, maka setakat urusan ditutup \n",
      "pada hari terakhir urusan sebelum hari kelepasan itu.\n",
      "\n",
      " (2) Suatu salinan penyata yang dibuat di bawah subsekyen (1) \n",
      "hendaklah dikemukakan kepada Menteri.\n",
      "\n",
      "Penyediaan dan penerbitan penyata kewangan dan laporan \n",
      "\n",
      "13. (1) Bank hendaklah dalam tempoh tiga bulan dari tutupnya \n",
      "tahun kewangannya—\n",
      "\n",
      " (a) mengemukakan kepada Menteri suatu salinan penyata \n",
      "kewangan Bank yang disediakan di bawah seksyen 9 \n",
      "dan diperakui oleh Ketua Audit Negara, dan penyata itu \n",
      "kemudiannya hendaklah disiarkan dalam Warta; dan\n",
      "\n",
      "\n",
      "\n",
      "Bank Negara Malaysia 19\n",
      "\n",
      " (b) mengemukakan kepada Menteri suatu laporan oleh Lembaga \n",
      "mengenai urusan Bank sepanjang tahun itu dan laporan \n",
      "itu hendaklah diterbitkan oleh Bank. \n",
      "\n",
      " (2) Penyata kewangan Bank dan laporan yang disebut dalam \n",
      "perenggan (1)(b) hendaklah dibentangkan di hadapan Dewan \n",
      "Negara dan Dewan Rakyat atau jika Dewan Negara dan Dewan \n",
      "Rakyat tidak bersidang, pada persidangan dalam mesyuarat Dewan \n",
      "Negara dan Dewan Rakyat yang berikutnya. \n",
      "\n",
      "BAHAGIAN IV\n",
      "\n",
      "TADBIR URUS BANK\n",
      "\n",
      "Lembaga Pengarah \n",
      "\n",
      "14. (1) Hendaklah ada suatu Lembaga Pengarah Bank.\n",
      "\n",
      " (2) Lembaga hendaklah—\n",
      "\n",
      " (a) bertanggungjawab bagi pentadbiran am hal ehwal dan \n",
      "urusan Bank dan kelulusan bagi belanjawan dan rancangan \n",
      "operasi Bank; \n",
      "\n",
      " (b) mempunyai pengawasan ke atas pengurusan Bank dan \n",
      "sentiasa mengkaji semula prestasi Bank dalam melaksanakan \n",
      "matlamatnya, menjalankan fungsinya dan penggunaan \n",
      "sumber Bank; dan\n",
      "\n",
      " (c) bertanggungjawab terhadap apa-apa perkara lain sebagaimana \n",
      "yang diperuntukkan di bawah Akta ini.\n",
      "\n",
      " (3) Lembaga hendaklah terdiri daripada anggota yang \n",
      "berikut:\n",
      "\n",
      " (a) Gabenor;\n",
      "\n",
      " (b) tidak lebih daripada tiga orang Timbalan Gabenor; dan\n",
      "\n",
      " (c) tidak kurang daripada lima tetapi tidak lebih daripada \n",
      "lapan orang pengarah yang dilantik di bawah subseksyen \n",
      "16(1).\n",
      "\n",
      " (4) Lembaga boleh menghendaki Bank untuk mengemukakan \n",
      "apa-apa buku atau dokumen dan hendaklah mempunyai akses kepada \n",
      "apa-apa maklumat yang perlu atau berkaitan bagi menjalankan \n",
      "fungsinya di bawah Akta ini.\n",
      "\n",
      "\n",
      "\n",
      "Undang-Undang Malaysia20 AKTA 701\n",
      "\n",
      " (5) Bagi maksud menjalankan fungsinya di bawah Akta ini, \n",
      "Lembaga boleh mengeluarkan undang-undang kecil sebagaimana \n",
      "yang perlu dan suai manfaat berhubung dengan pentadbiran, hal \n",
      "ehwal dan urusan Bank atau berkenaan dengan apa-apa perkara \n",
      "lain yang dinyatakan dalam Akta ini.\n",
      "\n",
      "Gabenor dan Timbalan Gabenor\n",
      "\n",
      "15. (1) Gabenor hendaklah dilantik oleh Yang di-Pertuan Agong \n",
      "dan Timbalan Gabenor oleh Menteri.\n",
      "\n",
      " (2) Gabenor dan Timbalan Gabenor hendaklah orang yang \n",
      "mempunyai reputasi yang sungguh baik dengan pengalaman yang \n",
      "telah terbukti dan pengetahuan yang diiktiraf dalam hal monetari \n",
      "atau kewangan.\n",
      "\n",
      " (3) Gabenor dan Timbalan Gabenor hendaklah dilantik atas \n",
      "apa-apa terma dan syarat sebagaimana yang diperuntukkan dalam \n",
      "surat pelantikan mereka masing-masing.\n",
      "\n",
      " (4) Gabenor hendaklah dilantik bagi tempoh selama lima tahun \n",
      "dan Timbalan Gabenor hendaklah setiap seorang dilantik bagi \n",
      "tempoh selama tiga tahun.\n",
      "\n",
      " (5) Gabenor dan Timbalan Gabenor adalah layak untuk dilantik \n",
      "semula. \n",
      "\n",
      " (6) Gabenor hendaklah menguruskan Bank dan boleh, melainkan \n",
      "jika diperuntukkan selainnya di bawah Akta ini atau mana-mana \n",
      "undang-undang bertulis lain, menjalankan segala kuasa dan \n",
      "melakukan segala perbuatan yang boleh dijalankan atau dilakukan \n",
      "oleh Bank di bawah Akta ini atau undang-undang bertulis itu.\n",
      "\n",
      " (7) Semasa ketiadaan Gabenor atau Gabenor tidak berdaya \n",
      "untuk bertindak atas apa-apa sebab, Timbalan Gabenor yang \n",
      "ditentukan oleh Lembaga, atas syor Jawatankuasa Tadbir Urus \n",
      "Lembaga, hendaklah menguruskan Bank dan menjalankan segala \n",
      "kuasa dan melakukan segala perbuatan yang boleh dijalankan atau \n",
      "dilakukan oleh Gabenor di bawah subseksyen (6).\n",
      "\n",
      " (8) Gabenor dan Timbalan Gabenor hendaklah, melainkan \n",
      "jika diperuntukkan selainnya di bawah Akta ini, menumpukan \n",
      "sepenuh masa profesional mereka kepada perkhidmatan Bank \n",
      "\n",
      "\n",
      "\n",
      "Bank Negara Malaysia 21\n",
      "\n",
      "dan semasa memegang jawatan itu tidak boleh memegang apa-apa \n",
      "jawatan atau pekerjaan lain sama ada dengan saraan atau tidak:\n",
      "\n",
      " Dengan syarat bahawa mereka boleh jika dilantik sedemikian \n",
      "dengan kelulusan Menteri—\n",
      "\n",
      " (a) menjadi pengarah, gabenor atau anggota sesuatu lembaga, \n",
      "tidak kira dengan apa jua nama dipanggil, atau sesuatu \n",
      "jawatankuasa atau pasukan petugas mana-mana institusi \n",
      "kewangan antarabangsa atau organisasi antarabangsa yang \n",
      "disertai oleh Kerajaan atau Bank atau yang dianggotai \n",
      "oleh Kerajaan atau Bank atau yang dengannya Kerajaan \n",
      "terikat atau kepadanya Kerajaan memberikan sokongan \n",
      "atau kelulusan;\n",
      "\n",
      " (b) menjadi pengarah mana-mana perbadanan yang ditubuhkan \n",
      "oleh Bank di bawah Akta ini atau mana-mana perbadanan \n",
      "di Malaysia yang diperoleh oleh Bank atau yang syer \n",
      "dalamnya dipegang oleh Bank;\n",
      "\n",
      " (c) menjadi anggota mana-mana jawatankuasa atau suruhanjaya \n",
      "yang disebut dalam subseksyen 70(1); atau\n",
      "\n",
      " (d) menjadi anggota mana-mana organisasi khairat atau \n",
      "pendidikan.\n",
      "\n",
      " (9) Walau apa pun subseksyen (8) atau mana-mana peruntukan \n",
      "lain dalam Akta ini, Gabenor atau Timbalan Gabenor boleh dilantik \n",
      "oleh mana-mana undang-undang bertulis untuk menjalankan apa-\n",
      "apa kuasa, menunaikan apa-apa kewajipan, dan melaksanakan \n",
      "apa-apa fungsi di bawah mana-mana undang-undang bertulis, \n",
      "dan diberi apa-apa gelaran jawatan sebagaimana yang dinyatakan \n",
      "dalam mana-mana undang-undang bertulis itu.\n",
      " \n",
      " (10) Gabenor dan Timbalan Gabenor hendaklah bertanggungjawab \n",
      "kepada Lembaga bagi perbuatan dan keputusan mereka.\n",
      "\n",
      " (11) Gabenor boleh meletakkan jawatan melalui notis secara \n",
      "bertulis yang ditandatanganinya yang ditujukan kepada Yang \n",
      "di-Pertuan Agong dan dalam hal seseorang Timbalan Gabenor \n",
      "melalui notis secara bertulis yang ditandatanganinya yang ditujukan \n",
      "kepada Menteri.\n",
      "\n",
      "\n",
      "\n",
      "Undang-Undang Malaysia22 AKTA 701\n",
      "\n",
      "Pelantikan pengarah\n",
      "\n",
      "16. (1) Pengarah yang disebut dalam perenggan 14(3)(c) hendaklah \n",
      "dilantik oleh Yang di-Pertuan Agong atas nasihat Menteri atas \n",
      "apa-apa terma dan syarat sebagaimana yang diperuntukkan dalam \n",
      "surat pelantikan mereka masing-masing.\n",
      "\n",
      " (2) Sebelum memberikan nasihat mengenai pelantikan seseorang \n",
      "ke jawatan pengarah di bawah subseksyen (1), Menteri hendaklah \n",
      "mengambil kira—\n",
      "\n",
      " (a) kejujuran dan kedudukan orang itu;\n",
      "\n",
      " (b) pengetahuan, kemahiran dan pengalaman orang itu dalam \n",
      "perbankan, ekonomi atau kewangan; dan\n",
      "\n",
      " (c) kemungkinan terdapat apa-apa percanggahan antara \n",
      "kepentingan Bank dengan apa-apa kepentingan yang \n",
      "dimiliki atau diwakili oleh orang itu.\n",
      "\n",
      " (3) Seseorang pengarah hendaklah, pada setiap masa, bertindak \n",
      "secara jujur dan demi kepentingan Bank dan menggunakan usaha \n",
      "yang munasabah dalam menunaikan kewajipan jawatannya.\n",
      "\n",
      " (4) Seseorang pengarah tidak boleh menyalahgunakan apa-apa \n",
      "maklumat yang diperoleh atau menggunakan apa-apa pengaruh \n",
      "yang tidak wajar oleh sebab kedudukannya sebagai seorang \n",
      "pengarah untuk mendapat, secara langsung atau tidak langsung, \n",
      "suatu kelebihan bagi dirinya atau bagi mana-mana orang lain.\n",
      "\n",
      " (5) Seseorang pengarah tidak boleh bertindak sebagai wakil \n",
      "atau perwakilan dalam Lembaga daripada mana-mana kepentingan \n",
      "komersial, kewangan, pertanian, perindustrian atau kepentingan \n",
      "lain yang dengannya dia mempunyai kaitan:\n",
      "\n",
      " Dengan syarat bahawa larangan itu tidak terpakai bagi mana-\n",
      "mana pengarah yang memegang atau pada masa yang berkenaan \n",
      "sedang memangku jawatan Ketua Setiausaha Perbendaharaan.\n",
      "\n",
      " (6) Kecual i  sebagaimana yang diperuntukkan dalam \n",
      "perenggan 17(2)(a) ,  pengarah yang di lant ik di  bawah \n",
      "subseksyen (1) hendaklah memegang jawatan bagi tempoh selama \n",
      "tiga tahun dan adalah layak untuk dilantik semula.\n",
      "\n",
      "\n",
      "\n",
      "Bank Negara Malaysia 23\n",
      "\n",
      " (7) Pengarah yang dilantik di bawah subseksyen (1) hendaklah \n",
      "dibayar oleh Bank apa-apa saraan dan elaun sebagaimana yang \n",
      "diluluskan oleh Menteri.\n",
      "\n",
      " (8) Seseorang pengarah boleh meletakkan jawatan melalui notis \n",
      "secara bertulis yang ditandatanganinya yang ditujukan kepada Yang \n",
      "di-Pertuan Agong.\n",
      "\n",
      "Kehilangan kelayakan Gabenor, Timbalan Gabenor dan \n",
      "pengarah\n",
      "\n",
      "17. (1) Tiada seorang pun boleh dilantik atau terus kekal sebagai \n",
      "Gabenor, Timbalan Gabenor atau pengarah lain Bank jika dia—\n",
      "\n",
      " (a) ialah atau menjadi seorang ahli Dewan Negara atau Dewan \n",
      "Rakyat atau mana-mana Dewan Undangan;\n",
      "\n",
      " (b) tertakluk kepada perenggan (2)(a), ialah atau menjadi \n",
      "seorang pegawai awam;\n",
      "\n",
      " (c) tertakluk kepada perenggan (2)(b), ialah atau menjadi \n",
      "seorang pegawai atau seorang pengarah mana-mana entiti \n",
      "di bawah pengawasan Bank;\n",
      "\n",
      " (d) telah disabitkan atas suatu kesalahan jenayah yang \n",
      "melibatkan kecurangan atau apa-apa kesalahan jenayah \n",
      "yang baginya dia telah dihukum dengan pemenjaraan;\n",
      "\n",
      " (e) ialah atau menjadi seorang bankrap atau menggantung \n",
      "pembayaran atau mencapai penyelesaian dengan \n",
      "pemiutangnya;\n",
      "\n",
      " (f) terlibat atau menjadi terlibat dalam apa-apa aktiviti yang \n",
      "boleh mengganggu kebebasannya dalam menunaikan \n",
      "kewajipannya; atau\n",
      "\n",
      " (g) bukan seorang warganegara Malaysia.\n",
      "\n",
      " (2) Walau apa pun subseksyen (1)—\n",
      "\n",
      " (a) seorang pengarah yang dilantik di bawah subseksyen \n",
      "16(1) boleh merupakan seorang yang memegang jawatan \n",
      "Ketua Setiausaha Perbendaharaan, dan walau apa pun \n",
      "subseksyen 16(6) hendaklah terus kekal sebagai anggota \n",
      "Lembaga selagi dia masih memegang jawatan Ketua \n",
      "\n",
      "\n",
      "\n",
      "Undang-Undang Malaysia24 AKTA 701\n",
      "\n",
      "Setiausaha Perbendaharaan atau bagi apa-apa tempoh \n",
      "yang lebih singkat sebagaimana yang diperuntukkan \n",
      "dalam surat pelantikannya; dan\n",
      "\n",
      " (b) seorang Timbalan Gabenor yang dilantik dengan kelulusan \n",
      "Lembaga kepada lembaga mana-mana pertubuhan \n",
      "perbadanan yang ditubuhkan atau diperoleh oleh Bank \n",
      "di bawah seksyen 48 tidaklah dikehendaki untuk \n",
      "mengosongkan jawatannya sebagai anggota Lembaga. \n",
      "\n",
      " (3) Yang di-Pertuan Agong boleh menamatkan pelantikan \n",
      "Gabenor atau mana-mana pengarah yang dilantik di bawah \n",
      "subseksyen 16(1), dan Menteri boleh menamatkan pelantikan \n",
      "mana-mana Timbalan Gabenor, jika dia—\n",
      "\n",
      " (a) menjadi tidak siuman atau tidak upaya untuk menjalankan \n",
      "kewajipannya;\n",
      "\n",
      " (b) bersalah atas salah laku serius berhubung dengan \n",
      "kewajipannya;\n",
      "\n",
      " (c) tidak hadir, kecuali dengan kebenaran yang diberikan oleh \n",
      "Menteri dalam hal Gabenor, atau oleh Gabenor dalam hal \n",
      "kesemua pengarah lain, dalam semua mesyuarat Lembaga \n",
      "yang diadakan dalam tempoh dua bulan berturut-turut \n",
      "atau dalam tempoh mana-mana tiga bulan dalam mana-\n",
      "mana tempoh dua belas bulan;\n",
      "\n",
      " (d) tidak mematuhi obligasinya di bawah seksyen 20; atau\n",
      "\n",
      " (e) hilang kelayakan di bawah subseksyen (1).\n",
      "\n",
      "Kekosongan jawatan Gabenor, Timbalan Gabenor atau \n",
      "pengarah \n",
      "\n",
      "18. Jika jawatan Gabenor atau mana-mana Timbalan Gabenor atau \n",
      "mana-mana pengarah lain menjadi kosong sebelum habis tempoh \n",
      "yang baginya dia dilantik, seorang lain boleh dilantik oleh Yang \n",
      "di-Pertuan Agong dalam hal Gabenor atau seorang pengarah yang \n",
      "dilantik di bawah subseksyen 16(1), atau oleh Menteri dalam hal \n",
      "seorang Timbalan Gabenor, bagi tempoh jawatan yang belum \n",
      "habis bagi orang yang digantikannya itu.\n",
      "\n",
      "\n",
      "\n",
      "Bank Negara Malaysia 25\n",
      "\n",
      "Mesyuarat Lembaga\n",
      "\n",
      "19. (1) Gabenor hendaklah menjadi pengerusi Lembaga dan \n",
      "semasa ketiadaannya, pengarah-pengarah yang hadir hendaklah \n",
      "memilih seorang pengerusi daripada kalangan pengarah yang \n",
      "dilantik di bawah subseksyen 16(1) dan orang yang dipilih \n",
      "sedemikian hendaklah menjadi pengerusi dan mempunyai segala \n",
      "kuasa pengerusi.\n",
      "\n",
      " (2) Lembaga boleh bermesyuarat seberapa kerap yang perlu \n",
      "tetapi tidak kurang daripada sekali dalam setiap bulan.\n",
      "\n",
      " (3) Pengerusi atau mana-mana pengarah lain boleh, pada bila-\n",
      "bila masa, memanggil suatu mesyuarat Lembaga. \n",
      "\n",
      " (4) Orang yang memanggil suatu mesyuarat hendaklah \n",
      "memastikan bahawa—\n",
      "\n",
      " (a) setiap pengarah diberi notis sekurang-kurangnya tiga hari \n",
      "sebelum mesyuarat itu; atau\n",
      "\n",
      " (b) jika mesyuarat akan diadakan sebagai suatu hal mendesak, \n",
      "pengarah-pengarah bersetuju untuk mengabaikan kehendak \n",
      "di bawah perenggan (a).\n",
      "\n",
      " (5) Pada mana-mana mesyuarat Lembaga, kuorum ialah lima \n",
      "orang pengarah, yang majoritinya ialah pengarah yang dilantik \n",
      "di bawah subseksyen 16(1) dan keputusan hendaklah diambil \n",
      "melalui majoriti mudah undian pengarah-pengarah yang hadir \n",
      "dan mengundi:\n",
      "\n",
      " Dengan syarat bahawa dalam hal bilangan undi sama banyak, \n",
      "pengerusi hendaklah mempunyai suatu undi pemutus.\n",
      "\n",
      " (6) Pengerusi Lembaga boleh membenarkan seseorang pengarah \n",
      "untuk menggunakan video secara langsung, rangkaian televisyen \n",
      "atau kemudahan komunikasi atau multimedia lain yang sesuai \n",
      "untuk mengambil bahagian dalam mana-mana mesyuarat Lembaga \n",
      "jika, sebelum mesyuarat itu, pengarah itu, melalui pemberitahuan \n",
      "kepada pengerusi, telah memohon kebenaran itu dan pengarah itu \n",
      "hendaklah dikira sebagai hadir bagi mesyuarat itu.\n",
      "\n",
      " (7) Suatu ketetapan secara bertulis, yang ditandatangani oleh \n",
      "semua pengarah, hendaklah menjadi sah dan berkesan seolah-olah \n",
      "ia telah diluluskan pada suatu mesyuarat Lembaga yang dipanggil \n",
      "\n",
      "\n",
      "\n",
      "Undang-Undang Malaysia26 AKTA 701\n",
      "\n",
      "dan diadakan dengan sewajarnya dan apa-apa ketetapan itu boleh \n",
      "terdiri daripada beberapa dokumen dalam bentuk serupa yang \n",
      "ditandatangani setiap satunya oleh seorang pengarah atau lebih.\n",
      "\n",
      "Penzahiran kepentingan\n",
      "\n",
      "20. (1) Seseorang pengarah yang mempunyai apa-apa kepentingan \n",
      "secara langsung atau tidak langsung dalam apa-apa urus niaga \n",
      "atau urusan dengan Bank atau dalam penjalanan atau cadangan \n",
      "penjalanan kuasa oleh Bank hendaklah menzahirkan kepentingan \n",
      "itu pada mesyuarat pertama Lembaga yang dihadirinya selepas \n",
      "fakta yang berkaitan sampai ke pengetahuannya.\n",
      "\n",
      " (2) Penzahiran di bawah subseksyen (1) hendaklah direkodkan \n",
      "dalam minit mesyuarat Lembaga itu dan, selepas penzahiran itu, \n",
      "pengarah itu—\n",
      "\n",
      " (a) tidak boleh hadir pada, atau mengambil bahagian dalam, \n",
      "apa-apa pertimbangtelitian atau keputusan Lembaga \n",
      "berhubung dengan urus niaga atau urusan itu atau \n",
      "penjalanan atau cadangan penjalanan kuasa itu; dan\n",
      "\n",
      " (b) tidak boleh diambil kira bagi maksud membentuk kuorum \n",
      "Lembaga bagi apa-apa pertimbangtelitian atau keputusan \n",
      "itu.\n",
      "\n",
      " (3) Tiada tindakan atau prosiding Lembaga boleh menjadi \n",
      "tidak sah atas alasan pelanggaran subseksyen (1) oleh seseorang \n",
      "pengarah.\n",
      "\n",
      " (4) Seseorang pengarah yang tidak mematuhi subseksyen (1) \n",
      "melakukan suatu kesalahan dan boleh, apabila disabitkan, didenda \n",
      "tidak melebihi satu juta ringgit. \n",
      "\n",
      "Jawatankuasa Lembaga\n",
      "\n",
      "21. (1) Lembaga hendaklah menubuhkan jawatankuasa Lembaga \n",
      "yang berikut:\n",
      "\n",
      " (a) Jawatankuasa Tadbir Urus Lembaga;\n",
      "\n",
      " (b) Jawatankuasa Audit Lembaga; dan\n",
      "\n",
      " (c) Jawatankuasa Risiko Lembaga.\n",
      "\n",
      "\n",
      "\n",
      "Bank Negara Malaysia 27\n",
      "\n",
      " (2) Setiap Jawatankuasa Lembaga hendaklah bertanggungjawab \n",
      "bagi apa-apa perkara dan hendaklah mempunyai apa-apa fungsi \n",
      "sebagaimana yang diperuntukkan di bawah Akta ini.\n",
      "\n",
      " (3) Jawatankuasa Tadbir Urus Lembaga hendaklah mempunyai \n",
      "fungsi yang berikut:\n",
      "\n",
      " (a) untuk mengesyorkan anggota bagi Jawatankuasa Dasar \n",
      "Monetari, Jawatankuasa Pentaksir dan jawatankuasa \n",
      "lain Bank yang dilantik atau ditubuhkan oleh Bank dari \n",
      "semasa ke semasa;\n",
      "\n",
      " (b) untuk memeriksa dan mengesyorkan belanjawan dan \n",
      "rancangan operasi Bank kepada Lembaga untuk kelulusan; \n",
      "dan\n",
      "\n",
      " (c) untuk bertanggungjawab bagi apa-apa perkara lain \n",
      "sebagaimana yang diperuntukkan di bawah Akta ini.\n",
      "\n",
      " (4) Fungsi Jawatankuasa Audit Lembaga adalah untuk membantu \n",
      "Lembaga dalam pengawasannya ke atas—\n",
      "\n",
      " (a) integriti akaun dan penyata kewangan Bank; \n",
      "\n",
      " (b) keberkesanan sistem kawalan dalaman Bank; \n",
      "\n",
      " (c) pelaksanaan fungsi audit dalaman Bank; dan\n",
      "\n",
      " (d) pematuhan oleh Bank dengan kehendak undang-undang \n",
      "dan pengawalseliaan.\n",
      "\n",
      " (5) Fungsi Jawatankuasa Risiko Lembaga adalah untuk \n",
      "membantu Lembaga dalam pengawasannya ke atas kajian semula \n",
      "dan pengurusan risiko perusahaan Bank.\n",
      "\n",
      " (6) Setiap Jawatankuasa Lembaga hendaklah terdiri daripada \n",
      "sekurang-kurangnya tiga orang pengarah yang dilantik di bawah \n",
      "subseksyen 16(1).\n",
      "\n",
      " (7) Melainkan jika Lembaga menentukan selainnya, tatacara \n",
      "bagi setiap Jawatankuasa Lembaga hendaklah sebagaimana yang \n",
      "dinyatakan dalam Jadual Pertama.\n",
      "\n",
      "\n",
      "\n",
      "Undang-Undang Malaysia28 AKTA 701\n",
      "\n",
      "BAHAGIAN V\n",
      "\n",
      "FUNGSI DAN OPERASI MONETARI BANK\n",
      "\n",
      "Dasar monetari\n",
      "\n",
      "22. (1) Dalam menggalakkan kestabilan monetari, Bank hendaklah \n",
      "membentuk dan menjalankan suatu dasar monetari yang memenuhi \n",
      "kepentingan negara dengan matlamat utama untuk mengekalkan \n",
      "kestabilan harga dengan mengambil kira perkembangan dalam \n",
      "ekonomi.\n",
      "\n",
      " (2) Dasar monetari Bank hendaklah dirumuskan dan dilaksanakan \n",
      "secara autonomi oleh Bank, tanpa apa-apa pengaruh luar.\n",
      "\n",
      "Jawatankuasa Dasar Monetari\n",
      "\n",
      "23. (1) Hendaklah ada suatu jawatankuasa Bank yang dikenali \n",
      "sebagai “Jawatankuasa Dasar Monetari” yang hendaklah mempunyai \n",
      "tanggungjawab bagi merumuskan dasar monetari dan dasar bagi \n",
      "penjalanan operasi dasar monetari.\n",
      "\n",
      " (2) Jawatankuasa Dasar Monetari hendaklah terdiri daripada \n",
      "Gabenor, Timbalan-Timbalan Gabenor dan tidak kurang daripada \n",
      "tiga tetapi tidak lebih daripada tujuh anggota lain. \n",
      "\n",
      " (3) Anggota Jawatankuasa Dasar Monetari boleh dilantik daripada \n",
      "kalangan pengarah yang dilantik di bawah subseksyen 16(1) atau \n",
      "pegawai dan anggota itu hendaklah dilantik oleh Lembaga atas \n",
      "syor Jawatankuasa Tadbir Urus Lembaga.\n",
      "\n",
      " (4) Sebagai tambahan kepada subsekyen (3), Menteri boleh \n",
      "melantik mana-mana orang lain sebagai anggota Jawatankuasa \n",
      "Dasar Monetari atas syor Jawatankuasa Tadbir Urus Lembaga.\n",
      "\n",
      " (5) Jawatankuasa Tadbir Urus Lembaga, dalam mengesyorkan \n",
      "mana-mana orang untuk menjadi anggota Jawatankuasa Dasar \n",
      "Monetari, hendaklah pada setiap masa berpuas hati bahawa orang \n",
      "itu mempunyai kepakaran dan pengalaman yang berkaitan dengan \n",
      "tanggungjawab dan fungsi Jawatankuasa Dasar Monetari dan ialah \n",
      "seorang yang jujur, berwibawa dan berfikiran waras.\n",
      "\n",
      "\n",
      "\n",
      "Bank Negara Malaysia 29\n",
      "\n",
      " (6) Anggota Jawatankuasa Dasar Monetari, selain Gabenor dan \n",
      "Timbalan-Timbalan Gabenor, boleh setiap seorang dilantik bagi \n",
      "tempoh yang tidak melebihi tiga tahun dan adalah layak untuk \n",
      "dilantik semula.\n",
      "\n",
      " (7) Gabenor dan Timbalan-Timbalan Gabenor hendaklah terus \n",
      "kekal menjadi anggota Jawatankuasa Dasar Monetari selagi Gabenor \n",
      "atau Timbalan-Timbalan Gabenor masih memegang jawatan sebagai \n",
      "Gabenor atau Timbalan Gabenor.\n",
      "\n",
      " (8) Tiada seorang pun boleh dilantik sebagai anggota Jawatankuasa \n",
      "Dasar Monetari atau terus kekal sebagai seorang anggota jika \n",
      "dia—\n",
      "\n",
      " (a) ialah atau menjadi seorang ahli Dewan Negara atau Dewan \n",
      "Rakyat atau mana-mana Dewan Undangan;\n",
      "\n",
      " (b) ialah atau menjadi seorang pegawai atau seorang pengarah \n",
      "mana-mana entiti di bawah pengawasan Bank;\n",
      "\n",
      " (c) ialah atau menjadi seorang pegawai awam melainkan \n",
      "jika diluluskan selainnya oleh Lembaga atau dalam \n",
      "hal seorang yang dilantik di bawah subseksyen (4), \n",
      "Menteri;\n",
      "\n",
      " (d) telah disabitkan atas suatu kesalahan jenayah yang \n",
      "melibatkan kecurangan atau apa-apa kesalahan jenayah \n",
      "yang baginya dia telah dihukum dengan pemenjaraan;\n",
      "\n",
      " (e) ialah atau menjadi seorang bankrap atau menggantung \n",
      "pembayaran atau mencapai penyelesaian dengan \n",
      "pemiutangnya;\n",
      "\n",
      " (f) terlibat atau menjadi terlibat dalam apa-apa aktiviti yang \n",
      "boleh mengganggu kebebasannya dalam menunaikan \n",
      "kewajipannya; atau\n",
      "\n",
      " (g) bukan seorang warganegara Malaysia.\n",
      "\n",
      " (9) Lembaga, atau dalam hal seseorang yang dilantik di bawah \n",
      "subseksyen (4), Menteri, boleh memecat seseorang anggota \n",
      "Jawatankuasa Dasar Monetari jika—\n",
      "\n",
      " (a) Lembaga atau Menteri, mengikut mana-mana yang berkenaan, \n",
      "berpuas hati bahawa dia bersalah atas suatu salah laku \n",
      "serius berhubung dengan kewajipannya sebagai seorang \n",
      "anggota jawatankuasa itu;\n",
      "\n",
      "\n",
      "\n",
      "Undang-Undang Malaysia30 AKTA 701\n",
      "\n",
      " (b) dia menjadi tidak sempurna akal atau tidak upaya untuk \n",
      "menjalankan kewajipannya; atau\n",
      "\n",
      " (c) dia hilang kelayakan di bawah subseksyen (8).\n",
      "\n",
      " (10) Dasar monetari Bank hendaklah dirumuskan hanya pada \n",
      "mesyuarat Jawatankuasa Dasar Monetari yang diadakan dengan \n",
      "sewajarnya.\n",
      "\n",
      " (11) Jawatankuasa Dasar Monetari hendaklah dipengerusikan \n",
      "oleh Gabenor atau semasa ketiadaan Gabenor, oleh Timbalan \n",
      "Gabenor yang ditentukan oleh Lembaga di bawah subseksyen \n",
      "15(7).\n",
      " \n",
      " (12) Jadual Pertama hendaklah terpakai bagi Jawatankuasa \n",
      "Dasar Monetari.\n",
      "\n",
      "Penyiaran pernyataan dasar monetari\n",
      "\n",
      "24. Berikutan dengan setiap mesyuarat Jawatankuasa Dasar \n",
      "Monetari, Bank hendaklah menyiarkan suatu pernyataan dasar \n",
      "monetari mengenai keputusan yang dibuat pada mesyuarat itu \n",
      "dan rasional bagi keputusan itu.\n",
      "\n",
      "Operasi dasar monetari\n",
      "\n",
      "25. (1) Dalam Bahagian ini, “operasi dasar monetari” ertinya \n",
      "apa-apa transaksi yang dijalankan oleh Bank untuk menguruskan \n",
      "kecairan dalam sistem kewangan.\n",
      "\n",
      " (2) Jawatankuasa Dasar Monetari hendaklah mewujudkan \n",
      "prinsip am, garis panduan, dan terma dan syarat bagi operasi \n",
      "dasar monetari yang dijalankan oleh Bank di bawah Bahagian \n",
      "ini.\n",
      "\n",
      "Penjalanan operasi dasar monetari\n",
      "\n",
      "26. (1) Bank hendaklah menjalankan operasi dasar monetari untuk \n",
      "melaksanakan keputusan Jawatankuasa Dasar Monetari.\n",
      "\n",
      "\n",
      "\n",
      "Bank Negara Malaysia 31\n",
      "\n",
      " (2) Bagi maksud menjalankan operasi dasar monetari, \n",
      "Bank—\n",
      "\n",
      " (a) boleh menerbitkan sekuriti atas namanya sendiri dengan \n",
      "syarat bahawa amaun keseluruhan sekuriti yang diterbitkan \n",
      "tidak boleh pada bila-bila masa melebihi amaun rizab \n",
      "luar negara;\n",
      "\n",
      " (b) boleh membeli, menjual dan menebus sekuriti yang \n",
      "diterbitkan oleh Bank menurut perenggan (a);\n",
      "\n",
      " (c) boleh menghendaki suatu rizab disimpan di Bank oleh \n",
      "setiap institusi kewangan;\n",
      "\n",
      " (d) hendaklah mempunyai kuasa yang dinyatakan dalam \n",
      "seksyen 75, khususnya perenggan (c), (d), (e), (f), (g), \n",
      "(h), (i) dan (l); dan\n",
      "\n",
      " (e) boleh menjalankan apa-apa transaksi kewangan lain yang \n",
      "melibatkan mata wang, sekuriti, logam berharga atau \n",
      "apa-apa komoditi atau instrumen kewangan lain yang \n",
      "diluluskan oleh Jawatankuasa Dasar Monetari.\n",
      "\n",
      " (3) Terma dan syarat bagi kehendak di bawah perenggan (2)(c) \n",
      "boleh termasuk—\n",
      "\n",
      " (a) prinsip dan kaedah bagi penentuan rizab;\n",
      "\n",
      " (b) penalti yang tidak boleh melebihi satu per sepuluh daripada \n",
      "satu peratus amaun yang kurang itu bagi tiap-tiap hari \n",
      "kekurangan itu berterusan atau sanksi lain bagi apa-apa \n",
      "ketidakpatuhan kehendak itu;\n",
      "\n",
      " (c) dalam hal—\n",
      "\n",
      " (i) suatu institusi kewangan Islam, pulangan yang boleh \n",
      "diberikan; atau\n",
      "\n",
      " (ii) mana-mana institusi kewangan lain, faedah yang \n",
      "boleh dibayar,\n",
      "\n",
      " oleh Bank atas rizab itu.\n",
      "\n",
      "\n",
      "\n",
      "Undang-Undang Malaysia32 AKTA 701\n",
      "\n",
      "BAHAGIAN VI\n",
      "\n",
      "FUNGSI KESTABILAN KEWANGAN DAN KUASA BANK\n",
      "\n",
      "Bab 1\n",
      "\n",
      "Kuasa untuk menggalakkan kestabilan kewangan\n",
      "\n",
      "Dwisistem kewangan\n",
      "\n",
      "27. Sistem kewangan di Malaysia hendaklah terdiri daripada \n",
      "sistem kewangan konvensional dan sistem kewangan Islam.\n",
      "\n",
      "Kuasa kestabilan kewangan di bawah undang-undang \n",
      "\n",
      "28. Kuasa yang diberikan kepada Bank di bawah Akta ini dan \n",
      "undang-undang bertulis yang dinyatakan dalam Jadual Kedua \n",
      "adalah bagi maksud menggalakkan kestabilan kewangan.\n",
      "\n",
      "Tafsiran\n",
      "\n",
      "29. Bagi maksud Bab ini, “risiko kepada kestabilan kewangan” \n",
      "ertinya risiko yang pada pendapat Bank menggugat, atau \n",
      "berkemungkinan untuk menggugat, proses pengantaraan kewangan \n",
      "termasuk penjalanan fungsi pasaran wang dan pasaran pertukaran \n",
      "asing yang teratur, atau menjejaskan, atau berkemungkinan untuk \n",
      "menjejaskan, keyakinan orang ramai terhadap sistem kewangan \n",
      "atau kestabilan sistem kewangan.\n",
      "\n",
      "Maklumat bagi maksud kestabilan kewangan\n",
      "\n",
      "30. (1) Demi kepentingan kestabilan kewangan, Bank boleh \n",
      "meminta mana-mana pihak berkuasa penyeliaan atau agensi Kerajaan \n",
      "di Malaysia yang mengawasi orang yang berikut untuk mengemukakan \n",
      "kepada Bank apa-apa maklumat atau dokumen yang berhubungan \n",
      "dengan aktiviti, pembiayaan, akaun, transaksi, akaun pelanggan \n",
      "atau apa-apa maklumat lain orang itu yang dianggap perlu oleh \n",
      "Bank untuk melaksanakan matlamat kestabilan kewangan di \n",
      "bawah Akta ini:\n",
      "\n",
      " (a) mana-mana institusi kewangan;\n",
      "\n",
      "\n",
      "\n",
      "Bank Negara Malaysia 33\n",
      "\n",
      " (b) mana-mana peserta, perantara, bursa, depositori atau \n",
      "penyedia perkhidmatan penjelasan, penyelesaian atau \n",
      "perkhidmatan lain dalam pasaran kewangan;\n",
      "\n",
      " (c) mana-mana orang lain yang pada pendapat Bank mungkin \n",
      "menimbulkan risiko kepada kestabilan kewangan; atau\n",
      "\n",
      " (d) mana-mana perbadanan berkaitan bagi orang yang disebut \n",
      "dalam perenggan (a), (b) atau (c). \n",
      "\n",
      " (2) Jika mana-mana orang yang disebut dalam perenggan (1)(a), \n",
      "(b), (c) atau (d) tidak berada di bawah penyeliaan atau pengawasan \n",
      "mana-mana pihak berkuasa penyeliaan atau agensi Kerajaan, Bank \n",
      "hendaklah melalui perintah secara bertulis menghendaki orang itu \n",
      "supaya mengemukakan maklumat atau dokumen yang dikehendaki \n",
      "di bawah subseksyen (1).\n",
      "\n",
      "Perintah kestabilan kewangan\n",
      "\n",
      "31. (1) Jika Bank berpendapat ia perlu demi kepentingan kestabilan \n",
      "kewangan, Bank boleh mengeluarkan suatu perintah secara \n",
      "bertulis yang menghendaki mana-mana orang untuk mengambil \n",
      "apa-apa langkah yang dianggap perlu atau sesuai oleh Bank \n",
      "untuk mengelakkan atau mengurangkan apa-apa risiko kepada \n",
      "kestabilan kewangan.\n",
      "\n",
      " (2) Sebelum mengeluarkan perintah di bawah subseksyen (1), \n",
      "Bank hendaklah memberi orang itu peluang untuk membuat \n",
      "representasi.\n",
      "\n",
      " (3) Walau apa pun subseksyen (2), suatu perintah di bawah \n",
      "subseksyen (1) boleh dikeluarkan dahulu dan peluang untuk \n",
      "membuat representasi hendaklah diberi sebaik selepas perintah \n",
      "itu dikeluarkan jika apa-apa kelengahan akan menambahkan lagi \n",
      "risiko kepada kestabilan kewangan.\n",
      "\n",
      " (4) Suatu perintah yang dikeluarkan di bawah subseksyen (1) \n",
      "boleh dipinda atau diubahsuaikan jika representasi itu dibuat \n",
      "selepas perintah itu dikeluarkan.\n",
      "\n",
      "\n",
      "\n",
      "Undang-Undang Malaysia34 AKTA 701\n",
      "\n",
      " (5) Mana-mana orang yang tidak mematuhi subseksyen (1) \n",
      "melakukan suatu kesalahan dan boleh, apabila disabitkan, didenda \n",
      "tidak melebihi sepuluh juta ringgit atau dipenjarakan selama \n",
      "tempoh tidak melebihi sepuluh tahun atau kedua-duanya. \n",
      "\n",
      "Kuasa untuk mengelakkan atau mengurangkan risiko kepada \n",
      "kestabilan kewangan\n",
      "\n",
      "32. (1) Tanpa menjejaskan seksyen 31, Bank boleh, bagi maksud \n",
      "mengelakkan atau mengurangkan apa-apa risiko kepada kestabilan \n",
      "kewangan—\n",
      "\n",
      " (a) memberikan bantuan kecairan kepada mana-mana institusi \n",
      "kewangan;\n",
      "\n",
      " (b) membuat perkiraan dengan bank pusat lain untuk memberikan \n",
      "bantuan kecairan kepada subsidiari atau cawangan di \n",
      "luar Malaysia bagi mana-mana institusi kewangan yang \n",
      "ditubuhkan di Malaysia; atau\n",
      "\n",
      " (c) dalam hal mana-mana institusi kewangan yang telah \n",
      "terhenti menjadi berdaya maju atau yang dianggap oleh \n",
      "Bank berkemungkinan menjadi tidak berdaya maju—\n",
      "\n",
      " (i) membeli atau melanggan syer atau instrumen modal \n",
      "lain yang diterbitkan oleh institusi kewangan \n",
      "itu;\n",
      "\n",
      " (ii) mengadakan pembiayaan kepada mana-mana institusi \n",
      "kewangan lain atau suatu pertubuhan perbadanan \n",
      "yang ditubuhkan oleh Bank di bawah perenggan \n",
      "48(1)(d) untuk membeli keseluruhan atau sebahagian \n",
      "daripada perniagaan, aset, liabiliti, syer atau instrumen \n",
      "modal lain institusi kewangan itu; atau\n",
      "\n",
      " (iii) tertakluk kepada subseksyen 38(2), melalui perintah \n",
      "yang disiarkan dalam Warta, meletak hak pada \n",
      "Bank, suatu pertubuhan perbadanan yang ditubuhkan \n",
      "oleh Bank di bawah perenggan 48(1)(d), suatu \n",
      "institusi kewangan lain atau mana-mana orang lain \n",
      "keseluruhan atau sebahagian daripada perniagaan, \n",
      "aset atau liabiliti, atau kesemua atau mana-mana \n",
      "syer atau instrumen modal lain yang diterbitkan \n",
      "oleh, institusi kewangan itu.\n",
      "\n",
      "\n",
      "\n",
      "Bank Negara Malaysia 35\n",
      "\n",
      " (2) Walau apa pun takrif “institusi kewangan” dalam \n",
      "subseksyen 2(1), institusi kewangan bagi maksud perenggan (1)(a)\n",
      "hendaklah termasuk mana-mana institusi kewangan yang di bawah \n",
      "penyeliaan atau pengawasan mana-mana pihak berkuasa penyeliaan \n",
      "yang lain atau bukan di bawah penyeliaan atau pengawasan Bank \n",
      "atau mana-mana pihak berkuasa penyeliaan yang lain.\n",
      "\n",
      "Usaha wajar\n",
      "\n",
      "33. Berhubung dengan suatu institusi kewangan yang disebut \n",
      "dalam perenggan 32(1)(a) atau (b) atau mana-mana perbadanan \n",
      "berkaitannya, Bank boleh menjalankan usaha wajar dan memeriksa, \n",
      "mengambil milikan atau membuat salinan atau cabutan daripada \n",
      "apa-apa buku, dokumen, akaun dan transaksi institusi kewangan \n",
      "itu atau mana-mana perbadanan berkaitannya atau menghendaki \n",
      "institusi itu atau mana-mana perbadanan berkaitannya untuk \n",
      "mengemukakan apa-apa maklumat atau dokumen yang dikehendaki \n",
      "oleh Bank sebelum pembentangan apa-apa cadangan dalam \n",
      "mesyuarat Jawatankuasa Eksekutif Kestabilan Kewangan \n",
      "di bawah subperenggan 38(1)(a)(ii) atau sebelum memberikan apa-\n",
      "apa bantuan kecairan atau semasa tempoh yang apa-apa bantuan \n",
      "sedemikian diberikan.\n",
      "\n",
      "Bantuan kecairan di bawah perenggan 32(1)(a) atau (b)\n",
      "\n",
      "34. Bantuan kecairan di bawah perenggan 32(1)(a) atau (b) boleh \n",
      "diberikan melalui—\n",
      "\n",
      " (a) pembiayaan bersandarkan apa-apa bentuk sekuriti yang \n",
      "dianggap mencukupi oleh Bank;\n",
      "\n",
      " (b) pembelian atau komitmen untuk membeli aset institusi \n",
      "kewangan itu;\n",
      "\n",
      " (c) pemberian pinjaman atau pertukaran aset Bank dengan \n",
      "aset institusi kewangan itu;\n",
      "\n",
      " (d) jaminan atau tanggung rugi; atau\n",
      "\n",
      " (e) apa-apa perkiraan lain yang dianggap sesuai oleh Bank,\n",
      "\n",
      "atas apa-apa terma dan syarat yang difikirkan patut oleh Bank \n",
      "dalam hal keadaan itu.\n",
      "\n",
      "\n",
      "\n",
      "Undang-Undang Malaysia36 AKTA 701\n",
      "\n",
      "Peruntukan tambahan yang berhubungan dengan subperenggan \n",
      "32(1)(c)(i)\n",
      "\n",
      "35. (1) Bank boleh, sebagaimana yang difikirkannya perlu, \n",
      "dalam menjalankan kuasanya di bawah subperenggan 32(1)(c)(i) \n",
      "berhubung dengan suatu institusi kewangan, melalui perintah \n",
      "secara bertulis—\n",
      "\n",
      " (a) menyingkirkan daripada jawatan, berkuat kuasa dari apa-\n",
      "apa tarikh sebagaimana yang ditentukan dalam perintah \n",
      "itu, mana-mana pengarah, pegawai atau pekerja institusi \n",
      "kewangan itu; \n",
      "\n",
      " (b) mengubah atau menamatkan kontrak perkhidmatan mana-\n",
      "mana pengarah, pegawai atau pekerja institusi kewangan \n",
      "itu sebagaimana yang ditentukan dalam perintah itu; \n",
      "atau\n",
      "\n",
      " (c) melantik mana-mana orang sebagai pengarah, pegawai \n",
      "atau pekerja institusi kewangan itu tertakluk kepada \n",
      "apa-apa terma dan syarat sebagaimana yang ditentukan \n",
      "oleh Bank.\n",
      "\n",
      " (2) Sebelum menjalankan kuasanya di bawah subseksyen (1), \n",
      "Bank hendaklah memberi pengarah, pegawai atau pekerja institusi \n",
      "kewangan itu peluang untuk membuat representasi.\n",
      "\n",
      " (3) Seksyen ini hendaklah mempunyai kuat kuasa dan kesan \n",
      "sepenuhnya walau apa pun—\n",
      "\n",
      " (a) apa-apa percanggahan atau ketidakselarasan antara seksyen \n",
      "ini dengan mana-mana peruntukan lain Akta ini;\n",
      "\n",
      " (b) apa-apa yang terkandung dalam mana-mana undang-\n",
      "undang termasuk undang-undang yang dengannya atau \n",
      "di bawahnya institusi kewangan itu dibentuk, ditubuhkan, \n",
      "diperbadankan atau didaftarkan; atau\n",
      "\n",
      " (c) apa-apa yang terkandung dalam dokumen konstituen \n",
      "institusi kewangan itu atau dalam mana-mana kontrak \n",
      "yang dibuat oleh atau bagi pihak institusi kewangan itu \n",
      "atau dalam mana-mana kontrak yang menyentuh syer \n",
      "atau instrumen modal lain yang diterbitkan oleh atau \n",
      "selainnya yang berhubungan dengan institusi kewangan \n",
      "itu.\n",
      "\n",
      "\n",
      "\n",
      "Bank Negara Malaysia 37\n",
      "\n",
      "Peruntukan tambahan yang berhubungan dengan subperenggan \n",
      "32(1)(c)(iii)\n",
      "\n",
      "36. (1) Jadual Ketiga hendaklah terpakai berhubung dengan suatu \n",
      "perintah Bank di bawah subperenggan 32(1)(c)(iii) dan perintah \n",
      "itu hendaklah mengikat semua orang yang baginya perintah itu \n",
      "dibuat atau yang tersentuh oleh perintah itu tidak kira bahawa \n",
      "orang itu tidak mengetahui mengenai apa-apa hal keadaan yang \n",
      "menyebabkan perintah itu dibuat, atau tidak mempunyai peluang \n",
      "untuk didengar oleh, atau untuk membuat apa-apa representasi \n",
      "kepada, Bank berhubung dengan perintah itu. \n",
      "\n",
      " (2) Seksyen ini hendaklah mempunyai kuat kuasa dan berkesan \n",
      "sepenuhnya walau apa pun—\n",
      "\n",
      " (a) apa-apa percanggahan atau ketidakselarasan antara seksyen \n",
      "ini dengan mana-mana peruntukan lain Akta ini;\n",
      "\n",
      " (b) apa-apa yang terkandung dalam mana-mana undang-\n",
      "undang termasuk undang-undang yang dengannya atau \n",
      "di bawahnya institusi kewangan itu dibentuk, ditubuhkan, \n",
      "diperbadankan atau didaftarkan; atau\n",
      "\n",
      " (c) apa-apa yang terkandung dalam dokumen konstituen \n",
      "institusi kewangan itu atau dalam mana-mana kontrak \n",
      "yang dibuat oleh atau bagi pihak institusi kewangan itu \n",
      "atau dalam mana-mana kontrak yang menyentuh syer \n",
      "atau instrumen modal lain yang diterbitkan oleh atau \n",
      "selainnya yang berhubungan dengan institusi kewangan \n",
      "itu. \n",
      "\n",
      " (3) Jika Bank membuat suatu perintah bagi suatu institusi \n",
      "kewangan yang disebut dalam subperenggan 32(1)(c)(iii), Bank \n",
      "hendaklah memberikan notis mengenai perintah itu melalui \n",
      "penyiaran dalam sekurang-kurangnya dua akhbar harian yang \n",
      "diterbitkan di Malaysia, satu daripadanya hendaklah dalam bahasa \n",
      "kebangsaan.\n",
      "\n",
      " (4) Notis di bawah subseksyen (3) hendaklah termasuk harga \n",
      "urus niaga bagi pemindahan itu dan hak mana-mana orang yang \n",
      "terjejas untuk merayu di bawah subseksyen (11) mengenai harga \n",
      "urus niaga itu kepada Jawatankuasa Pentaksir yang dibentuk \n",
      "di bawah subseksyen (12).\n",
      "\n",
      "\n",
      "\n",
      "Undang-Undang Malaysia38 AKTA 701\n",
      "\n",
      " (5) Harga urus niaga yang disebut dalam subseksyen (4) \n",
      "hendaklah ditentukan oleh seorang penilai bebas. \n",
      "\n",
      " (6) Tertakluk kepada subseksyen (14), penerima pindahan \n",
      "dan pemindah hendaklah sama-sama bersetuju tentang orang \n",
      "yang akan dilantik oleh Bank sebagai penilai bebas di bawah \n",
      "subseksyen (5). \n",
      "\n",
      " (7) Jika suatu persetujuan di bawah subseksyen (6) tidak dicapai \n",
      "antara penerima pindahan dengan pemindah dalam tempoh yang \n",
      "ditentukan oleh Bank sebagai munasabah, pelantikan seorang \n",
      "penilai bebas hendaklah dibuat oleh Menteri apabila perkara itu \n",
      "dirujukkan kepadanya oleh Bank dan keputusan Menteri adalah \n",
      "muktamad. \n",
      "\n",
      " (8) Saraan penilai bebas yang dilantik di bawah subseksyen (6) \n",
      "atau (7) hendaklah dibayar daripada harga urus niaga itu melainkan \n",
      "jika ditentukan selainnya oleh Bank. \n",
      "\n",
      " (9) Dalam menentukan harga urus niaga di bawah subseksyen (5) \n",
      "bagi perniagaan, aset, liabiliti, syer atau instrumen modal lain \n",
      "pemindah itu, penilai bebas itu hendaklah—\n",
      "\n",
      " (a) mengambil kira perkara yang difikirkan berkaitan oleh \n",
      "penilai bebas termasuk keadaan pasaran semasa bagi \n",
      "jualan atau pelupusan perniagaan, aset, liabiliti, syer \n",
      "atau instrumen modal lain pemindah itu yang serupa; \n",
      "dan \n",
      "\n",
      " (b) tidak mengambil kira apa-apa faedah yang diperoleh \n",
      "daripada apa-apa bantuan kewangan khas yang disediakan \n",
      "secara langsung atau tidak langsung oleh Bank atau \n",
      "Kerajaan kepada pemindah itu. \n",
      "\n",
      " (10) Walau apa pun subseksyen (9), jika pemindah itu tidak \n",
      "solven dan keseluruhan perniagaan, aset atau liabiliti pemindah itu \n",
      "diletakhakkan di bawah subperenggan 32(1)(c)(iii), balasan sebanyak \n",
      "satu ringgit hendaklah disifatkan munasabah sebagai harga urus \n",
      "niaga di bawah subseksyen (5).\n",
      "\n",
      " (11) Mana-mana orang yang terkilan dengan harga urus niaga \n",
      "itu boleh, dalam tempoh dua puluh satu hari dari tarikh penyiaran \n",
      "notis di bawah subseksyen (3), merayu tentang harga urus niaga \n",
      "itu kepada Jawatankuasa Pentaksir yang dibentuk di bawah \n",
      "subseksyen (12) dengan mengemukakan rayuan secara bertulis \n",
      "kepada Bank. \n",
      "\n",
      "\n",
      "\n",
      "Bank Negara Malaysia 39\n",
      "\n",
      " (12) Jika mana-mana orang merayu di bawah subseksyen (11), \n",
      "Bank hendaklah membentuk suatu Jawatankuasa Pentaksir yang \n",
      "terdiri daripada tiga orang bebas sebagai anggota Jawatankuasa \n",
      "Pentaksir itu, yang dipilih daripada panel sepuluh orang yang \n",
      "dilantik oleh Menteri atas syor Jawatankuasa Tadbir Urus Lembaga, \n",
      "dan merujukkan rayuan itu kepada Jawatankuasa Pentaksir itu. \n",
      "\n",
      " (13) Jawatankuasa Pentaksir yang dibentuk di bawah \n",
      "subseksyen (12) boleh menentukan tatacaranya sendiri.\n",
      "\n",
      " (14) Jika peletakhakan di bawah subperenggan 32(1)(c)(iii) adalah \n",
      "pada Bank atau suatu pertubuhan perbadanan yang ditubuhkan oleh \n",
      "Bank di bawah perenggan 48(1)(d), penilai bebas yang disebut \n",
      "dalam subseksyen (5) hendaklah dilantik oleh Menteri.\n",
      "\n",
      " (15) Peletakhakan perniagaan, aset, liabiliti, syer atau instrumen \n",
      "modal lain pemindah di bawah subperenggan 32(1)(c)(iii) \n",
      "hendaklah berkuat kuasa tidak kira apa-apa rayuan di bawah \n",
      "subseksyen (11), atau apa-apa keputusan yang dibuat oleh \n",
      "Jawatankuasa Pentaksir.\n",
      "\n",
      " (16) Bank boleh, sebagaimana yang disifatkannya perlu, \n",
      "dalam menjalankan kuasanya di bawah subperenggan 32(1)(c)(iii) \n",
      "berhubung dengan pemindah, melalui perintah secara bertulis—\n",
      "\n",
      " (a) menyingkirkan daripada jawatan, berkuat kuasa dari apa-\n",
      "apa tarikh sebagaimana yang ditentukan dalam perintah \n",
      "itu, mana-mana pengarah, pegawai atau pekerja pemindah \n",
      "itu; \n",
      "\n",
      " (b) mengubah atau menamatkan kontrak perkhidmatan mana-\n",
      "mana pengarah, pegawai atau pekerja pemindah itu \n",
      "sebagaimana yang ditentukan dalam perintah itu; atau\n",
      "\n",
      " (c) melantik mana-mana orang sebagai pengarah, pegawai \n",
      "atau pekerja institusi kewangan itu tertakluk kepada \n",
      "apa-apa terma dan syarat sebagaimana yang ditentukan \n",
      "oleh Bank.\n",
      "\n",
      " (17) Sebelum menjalankan kuasanya di bawah subseksyen (16), \n",
      "Bank hendaklah memberi pengarah, pegawai atau pekerja pemindah \n",
      "itu peluang untuk membuat representasi.\n",
      "\n",
      "\n",
      "\n",
      "Undang-Undang Malaysia40 AKTA 701\n",
      "\n",
      " (18) Bagi maksud seksyen ini—\n",
      "\n",
      " “harga urus niaga” ertinya harga yang padanya keseluruhan \n",
      "atau sebahagian perniagaan, aset atau liabiliti, atau kesemua atau \n",
      "mana-mana syer atau instrumen modal lain suatu institusi kewangan \n",
      "yang disebut dalam subperenggan 32(1)(c)(iii) diletakhakkan pada \n",
      "penerima pindahan;\n",
      "\n",
      " “pemindah” ertinya institusi kewangan di bawah subperenggan \n",
      "32(1)(c)(iii) yang telah terhenti menjadi berdaya maju atau yang \n",
      "dianggap oleh Bank berkemungkinan menjadi tidak berdaya \n",
      "maju, pemegang syer institusi kewangan itu atau pemegang \n",
      "instrumen modal institusi kewangan itu, mengikut mana-mana \n",
      "yang berkenaan;\n",
      "\n",
      " “penerima pindahan” ertinya Bank, suatu pertubuhan perbadanan \n",
      "yang ditubuhkan oleh Bank di bawah perenggan 48(1)(d), suatu \n",
      "institusi kewangan, atau mana-mana orang lain, mengikut mana-\n",
      "mana yang berkenaan, yang padanya diletakhakkan di bawah \n",
      "subperenggan 32(1)(c)(iii) keseluruhan atau sebahagian perniagaan, \n",
      "aset atau liabiliti, atau kesemua atau mana-mana syer atau instrumen \n",
      "modal lain yang diterbitkan oleh institusi kewangan yang telah \n",
      "terhenti menjadi berdaya maju atau yang dianggap oleh Bank \n",
      "berkemungkinan menjadi tidak berdaya maju.\n",
      "\n",
      "Jawatankuasa Eksekutif Kestabilan Kewangan\n",
      "\n",
      "37. (1) Bagi maksud seksyen 38, hendaklah ada suatu jawatankuasa \n",
      "Bank yang dikenali sebagai “Jawatankuasa Eksekutif Kestabilan \n",
      "Kewangan”. \n",
      "\n",
      " (2) Jawatankuasa Eksekutif Kestabilan Kewangan hendaklah \n",
      "terdiri daripada Gabenor, seorang Timbalan Gabenor dan tidak \n",
      "kurang daripada tiga tetapi tidak lebih daripada lima orang anggota \n",
      "lain yang dilantik oleh Menteri atas syor Lembaga daripada \n",
      "kalangan pengarah yang dilantik di bawah subseksyen 16(1) atau \n",
      "orang lain. \n",
      "\n",
      " (3) Lembaga, dalam mengesyorkan mana-mana orang untuk \n",
      "menjadi anggota Jawatankuasa Eksekutif Kestabilan Kewangan, \n",
      "hendaklah pada setiap masa berpuas hati bahawa orang itu \n",
      "mempunyai kepakaran dan pengalaman yang berkaitan dengan \n",
      "tanggungjawab dan fungsi Jawatankuasa Eksekutif Kestabilan \n",
      "Kewangan dan ialah seorang yang jujur, berwibawa dan berfikiran \n",
      "waras.\n",
      "\n",
      "\n",
      "\n",
      "Bank Negara Malaysia 41\n",
      "\n",
      " (4) Kecuali dalam hal mesyuarat Jawatankuasa Eksekutif \n",
      "Kestabilan Kewangan yang berhubungan dengan institusi kewangan \n",
      "yang tertakluk kepada undang-undang yang dikuatkuasakan oleh \n",
      "Bank, Ketua Setiausaha Perbendaharaan hendaklah dimaklumkan \n",
      "mengenai dan diundang ke kesemua mesyuarat Jawatankuasa \n",
      "Eksekutif Kestabilan Kewangan.\n",
      "\n",
      " (5) Apabila Ketua Setiausaha Perbendaharaan atau wakilnya \n",
      "menghadiri mesyuarat Jawatankuasa Eksekutif Kestabilan Kewangan \n",
      "yang disebut dalam subseksyen (4) dia hadir sebagai seorang \n",
      "anggota Jawatankuasa Eksekutif Kestabilan Kewangan.\n",
      "\n",
      " (6) Jika mana-mana cadangan yang dibuat oleh Bank \n",
      "di bawah subsekysen 38(1) adalah berkenaan dengan seseorang atau \n",
      "sesuatu institusi kewangan di bawah penyeliaan atau pengawasan \n",
      "pihak berkuasa penyeliaan lain, ketua pihak berkuasa penyeliaan \n",
      "itu hendaklah dimaklumkan dan ketua pihak berkuasa penyeliaan \n",
      "itu atau wakilnya hendaklah hadir pada mesyuarat Jawatankuasa \n",
      "Eksekutif Kestabilan Kewangan itu sebagai seorang anggota.\n",
      "\n",
      " (7) Ketidakhadiran Ketua Setiausaha Perbendaharaan atau \n",
      "wakilnya pada mana-mana mesyuarat Jawatankuasa Eksekutif \n",
      "Kestabilan Kewangan atau ketidakhadiran ketua mana-mana pihak \n",
      "berkuasa penyeliaan yang berkenaan atau wakilnya, mengikut mana-\n",
      "mana yang berkenaan, pada mana-mana mesyuarat Jawatankuasa \n",
      "Eksekutif Kestabilan Kewangan tidak membatalkan keputusan \n",
      "yang dibuat pada mesyuarat Jawatankuasa itu. \n",
      "\n",
      " (8) Jawatankuasa Eksekutif Kestabilan Kewangan hendaklah \n",
      "dipengerusikan oleh Gabenor atau, semasa ketiadaan Gabenor, \n",
      "oleh Timbalan Gabenor yang ditentukan oleh Lembaga di bawah \n",
      "subseksyen 15(7). \n",
      "\n",
      " (9) Jawatankuasa Eksekutif Kestabilan Kewangan hendaklah \n",
      "bermesyuarat sebagaimana yang dikehendaki oleh Bank dan pada \n",
      "mana-mana mesyuarat Jawatankuasa Eksekutif Kestabilan Kewangan \n",
      "kuorum ialah tiga orang anggota, termasuk Gabenor atau, semasa \n",
      "ketiadaan Gabenor, Timbalan Gabenor yang ditentukan Lembaga \n",
      "di bawah subseksyen 15(7). \n",
      "\n",
      " (10) Jawatankuasa Eksekutif Kestabilan Kewangan boleh \n",
      "menentukan tatacaranya sendiri. \n",
      "\n",
      "\n",
      "\n",
      "Undang-Undang Malaysia42 AKTA 701\n",
      "\n",
      "Kuasa dan fungsi Jawatankuasa Eksekutif Kestabilan \n",
      "Kewangan\n",
      "\n",
      "38. (1) Bank hendaklah membentangkan cadangan yang berikut \n",
      "pada mesyuarat Jawatankuasa Eksekutif Kestabilan Kewangan: \n",
      "\n",
      " (a) suatu cadangan berkenaan dengan seseorang atau \n",
      "sesuatu institusi kewangan, mengikut mana-mana yang \n",
      "berkenaan, yang di bawah penyeliaan atau pengawasan \n",
      "mana-mana pihak berkuasa penyeliaan lain, atau bukan \n",
      "di bawah penyeliaan atau pengawasan Bank atau mana-\n",
      "mana pihak berkuasa penyeliaan lain—\n",
      "\n",
      " (i) di bawah subseksyen 31(1) bagi suatu perintah yang \n",
      "hendak dikeluarkan kepada mana-mana orang itu; \n",
      "atau\n",
      "\n",
      " (ii) di bawah perenggan 32(1)(a) bagi peruntukan bantuan \n",
      "kecairan kepada institusi kewangan itu;\n",
      "\n",
      " (b) suatu cadangan di bawah perenggan 32(1)(b) untuk membuat \n",
      "perkiraan berhubung dengan subsidiari atau cawangan \n",
      "di luar Malaysia institusi kewangan yang ditubuhkan di \n",
      "Malaysia; \n",
      "\n",
      " (c) suatu cadangan di bawah subperenggan 32(1)(c)(i) bagi \n",
      "pembelian atau langganan syer atau instrumen modal \n",
      "lain suatu institusi kewangan; \n",
      "\n",
      " (d) suatu cadangan di bawah subperenggan 32(1)(c)(ii) bagi \n",
      "peruntukan pembiayaan untuk pembelian perniagaan, \n",
      "aset, liabiliti, syer atau apa-apa instrumen modal lain \n",
      "suatu institusi kewangan lain; dan\n",
      "\n",
      " (e) suatu cadangan di bawah subperenggan 32(1)(c)(iii) bagi \n",
      "suatu perintah untuk meletak hakkan perniagaan, aset, \n",
      "liabiliti, syer atau instrumen modal lain suatu institusi \n",
      "kewangan pada Bank, suatu pertubuhan perbadanan \n",
      "yang ditubuhkan oleh Bank di bawah perenggan 48(1)\n",
      "(d), suatu institusi kewangan lain atau mana-mana orang \n",
      "lain.\n",
      "\n",
      " (2) Jawatankuasa Eksekutif Kestabilan Kewangan boleh \n",
      "memutuskan untuk menerima apa-apa cadangan yang dibentangkan \n",
      "pada mesyuarat Jawatankuasa di bawah subseksyen (1), menolak \n",
      "cadangan itu atau menghendaki Bank untuk membentangkan \n",
      "cadangan yang lain untuk pertimbangan Jawatankuasa itu dan \n",
      "Bank hendaklah bertindak mengikut keputusan Jawatankuasa \n",
      "itu.\n",
      "\n",
      "\n",
      "\n",
      "Bank Negara Malaysia 43\n",
      "\n",
      "Bentuk relief\n",
      "\n",
      "39. (1) Dalam mana-mana prosiding sivil di hadapan mana-mana \n",
      "mahkamah berhubung dengan apa-apa perintah yang dikeluarkan \n",
      "oleh Bank di bawah subseksyen 31(1) atau subperenggan 32(1)(c)(iii) \n",
      "atau apa-apa tindakan, perkiraan, skim atau langkah lain Bank \n",
      "berhubung dengan kestabilan kewangan yang berkaitan dengan \n",
      "atau berbangkit daripada mana-mana perintah sedemikian atau \n",
      "berhubung dengan apa-apa perkara lain di bawah Bab ini, mahkamah \n",
      "hendaklah, tertakluk kepada subseksyen (2) dan peruntukan Akta \n",
      "ini, mempunyai kuasa untuk membuat segala perintah sebagaimana \n",
      "yang ia mempunyai kuasa untuk membuatnya dalam prosiding \n",
      "antara pihak-pihak, dan selainnya untuk memberikan apa-apa relief \n",
      "yang sesuai sebagaimana yang dikehendaki oleh keadaan. \n",
      "\n",
      " (2) Dalam mana-mana prosiding sivil terhadap Bank, berhubung \n",
      "dengan mana-mana perintah yang dikeluarkan oleh Bank di bawah \n",
      "subseksyen 31(1) atau subperenggan 32(1)(c)(iii) atau apa-apa \n",
      "tindakan, perkiraan, skim atau langkah lain Bank berhubung \n",
      "dengan kestabilan kewangan yang berkaitan dengan atau berbangkit \n",
      "daripada mana-mana perintah sedemikian atau berhubung dengan \n",
      "apa-apa perkara lain di bawah Bab ini—\n",
      "\n",
      " (a) jika apa-apa relief dipohon yang boleh dalam prosiding \n",
      "antara pihak-pihak diberikan melalui injunksi atau \n",
      "pelaksanaan spesifik, mahkamah tidak boleh memberikan \n",
      "suatu injunksi atau membuat suatu perintah pelaksanaan \n",
      "spesifik; dan\n",
      "\n",
      " (b) bagi mendapatkan kembali tanah atau harta lain, mahkamah \n",
      "tidak boleh membuat suatu perintah bagi mendapatkan \n",
      "kembali tanah itu atau penyerahan harta itu. \n",
      "\n",
      " (3) Mahkamah tidak boleh dalam mana-mana prosiding sivil \n",
      "berhubung dengan mana-mana perintah yang dikeluarkan oleh \n",
      "Bank di bawah subsekyen 31(1) atau subperenggan 32(1)(c)(iii) \n",
      "atau apa-apa tindakan, perkiraan, skim atau langkah lain Bank \n",
      "berhubung dengan kestabilan kewangan yang berkaitan dengan atau \n",
      "berbangkit daripada mana-mana perintah sedemikian atau berhubung \n",
      "dengan apa-apa perkara lain di bawah Bab ini memberikan apa-\n",
      "apa injunksi atau membuat apa-apa perintah terhadap seseorang \n",
      "pegawai Bank jika kesan pemberian injunksi atau pembuatan \n",
      "perintah itu akan memberikan apa-apa relief terhadap Bank yang \n",
      "tidak boleh diperoleh dalam prosiding terhadap Bank.\n",
      "\n",
      "\n",
      "\n",
      "Undang-Undang Malaysia44 AKTA 701\n",
      "\n",
      " (4) Mana-mana perintah yang dikeluarkan di bawah subseksyen \n",
      "31(1) atau subperenggan 32(1)(c)(iii) hendaklah mempunyai kesan \n",
      "mengikut peruntukan Bahagian ini dan, walau apa pun apa-apa \n",
      "prosiding undang-undang yang dimulakan menurut subseksyen (2), \n",
      "hendaklah mengikat mana-mana orang yang kepadanya perintah \n",
      "itu dikeluarkan.\n",
      "\n",
      "Perkiraan dengan pihak berkuasa penyeliaan lain\n",
      "\n",
      "40. (1) Bagi maksud menggalakkan kestabilan kewangan, Bank \n",
      "boleh—\n",
      "\n",
      " (a) membuat perkiraan untuk bekerjasama dengan pihak \n",
      "berkuasa penyeliaan lain dan menyelaraskan langkah \n",
      "kestabilan kewangan dengan pihak berkuasa penyeliaan \n",
      "itu; dan\n",
      "\n",
      " (b) mendapatkan apa-apa maklumat atau dokumen daripada, \n",
      "atau berkongsi apa-apa maklumat atau dokumen dengan, \n",
      "mana-mana pihak berkuasa penyeliaan lain jika pada \n",
      "pendapat Bank perlu untuk mendapatkan atau berkongsi \n",
      "maklumat atau dokumen itu. \n",
      "\n",
      " (2) Jika Bank berkongsi apa-apa maklumat atau dokumen \n",
      "di bawah perenggan (1)(b)—\n",
      "\n",
      " (a) dengan mana-mana pihak berkuasa penyeliaan di Malaysia, \n",
      "maklumat atau dokumen itu tidak boleh dizahirkan kepada \n",
      "mana-mana orang kecuali dengan kebenaran bertulis \n",
      "daripada Bank; atau\n",
      "\n",
      " (b) dengan mana-mana pihak berkuasa penyeliaan di luar \n",
      "Malaysia, pihak berkuasa penyeliaan itu hendaklah \n",
      "memberikan suatu aku janji yang sesuai bagi melindungi \n",
      "kerahsiaan maklumat atau dokumen itu dan maksud yang \n",
      "baginya maklumat atau dokumen itu boleh digunakan.\n",
      "\n",
      "Nasihat atau syor tentang kestabilan kewangan kepada pihak \n",
      "berkuasa penyeliaan\n",
      "\n",
      "41. Bank boleh, demi kepentingan kestabilan kewangan \n",
      "menasihatkan, atau membuat syor kepada mana-mana pihak \n",
      "berkuasa penyeliaan di Malaysia tentang—\n",
      "\n",
      " (a) implikasi mana-mana undang-undang bertulis, dasar atau \n",
      "langkah yang dicadangkan oleh pihak berkuasa itu yang \n",
      "boleh menjejaskan kestabilan kewangan; dan\n",
      "\n",
      "\n",
      "\n",
      "Bank Negara Malaysia 45\n",
      "\n",
      " (b) langkah atau perlindungan yang sesuai diambil bagi \n",
      "maksud menggalakkan kestabilan kewangan.\n",
      "\n",
      "Kerahsiaan \n",
      "\n",
      "42. (1) Kecuali sebagaimana yang diperuntukkan dalam perenggan \n",
      "40(1)(b) dan seksyen 86, apa-apa maklumat atau dokumen yang \n",
      "dikemukakan oleh mana-mana orang di bawah seksyen 30 adalah \n",
      "rahsia antara orang itu dengan Bank.\n",
      "\n",
      " (2) Mana-mana orang yang dikehendaki untuk mengemukakan \n",
      "apa-apa maklumat atau dokumen di bawah seksyen 30 dan mana-\n",
      "mana pihak berkuasa penyeliaan di Malaysia yang daripadanya \n",
      "maklumat atau dokumen itu hendak diperoleh oleh Bank di bawah \n",
      "perenggan 40(1)(b) hendaklah menyediakan maklumat atau dokumen \n",
      "itu, walau apa pun peruntukan mana-mana undang-undang bertulis \n",
      "sama ada diperbuat sebelum atau selepas permulaan kuat kuasa \n",
      "Akta ini atau apa-apa sumpah, aku janji, atau kehendak kerahsiaan \n",
      "yang berlawanan atau apa-apa obligasi di bawah mana-mana \n",
      "kontrak, perjanjian atau perkiraan sama ada nyata atau tersirat \n",
      "yang berlawanan.\n",
      "\n",
      " (3) Mana-mana orang tidak boleh, dalam mematuhi kehendak \n",
      "untuk mengemukakan apa-apa maklumat atau dokumen di bawah \n",
      "subseksyen (2), dianggap sebagai memungkiri mana-mana kontrak, \n",
      "perjanjian atau perkiraan itu.\n",
      "\n",
      "Bab 2\n",
      "\n",
      "Pasaran wang dan pasaran pertukaran asing\n",
      "\n",
      "Kaedah, garis panduan, dsb., bagi pasaran wang, dsb.\n",
      "\n",
      "43. (1) Bank boleh mengeluarkan kaedah, kod, piawaian, prinsip \n",
      "atau garis panduan bagi maksud pengawalseliaan, pembangunan, \n",
      "atau pemeliharaan keadaan yang teratur atau integriti, pasaran \n",
      "wang, pasaran pertukaran asing atau pasaran bagi terbitan yang \n",
      "berkaitan dengan mata wang, sekuriti dan instrumen kewangan \n",
      "lain yang diniagakan dalam pasaran-pasaran ini.\n",
      "\n",
      " (2) Tanpa menjejaskan keluasan subseksyen (1), kaedah, kod, \n",
      "piawaian, prinsip atau garis panduan boleh dikeluarkan berkenaan \n",
      "\n",
      "\n",
      "\n",
      "Undang-Undang Malaysia46 AKTA 701\n",
      "\n",
      "dengan pasaran wang, pasaran pertukaran asing atau pasaran bagi \n",
      "terbitan yang berkaitan dengan mata wang, sekuriti dan instrumen \n",
      "kewangan lain yang diniagakan dalam pasaran-pasaran ini—\n",
      "\n",
      " (a) untuk memastikan urus niaga yang teratur dalam pasaran \n",
      "itu;\n",
      "\n",
      " (b) untuk mengenakan obligasi dan kewajipan kepada peserta \n",
      "pasaran itu atau apa-apa sistem yang ditubuhkan atau \n",
      "dikendalikan, termasuk yang ditubuhkan atau dikendalikan \n",
      "menurut subseksyen 44(1); dan\n",
      "\n",
      " (c) atas penerbitan atau pemerolehan, pegangan atau pelupusan \n",
      "instrumen kewangan dalam pasaran itu.\n",
      "\n",
      " (3) Bank boleh, tertakluk kepada apa-apa terma dan syarat \n",
      "sebagaimana yang dikenakan oleh Bank, melantik suatu organisasi \n",
      "kawal selia sendiri yang ditubuhkan bagi pasaran pertukaran asing \n",
      "atau pasaran bagi terbitan yang berkaitan dengan mata wang, \n",
      "sekuriti dan instrumen kewangan lain yang diniagakan dalam \n",
      "pasaran-pasaran ini bagi maksud—\n",
      "\n",
      " (a) menggalakkan pengawalseliaan, pembangunan dan \n",
      "pemeliharaan keadaan yang teratur atau integriti pasaran \n",
      "itu; dan\n",
      "\n",
      " (b) memberikan apa-apa bantuan sebagaimana yang ditentukan \n",
      "oleh Bank dalam menjalankan kuasanya di bawah \n",
      "subseksyen (1) atau dalam menjalankan apa-apa kuasa \n",
      "bagi pihak Bank.\n",
      "\n",
      " \n",
      " (4) Pelantikan yang disebut dalam subseksyen (3) hendaklah \n",
      "disiarkan dalam Warta.\n",
      "\n",
      " (5) Bank hendaklah membuat perkiraan dengan pihak berkuasa \n",
      "penyeliaan di Malaysia untuk menyelaraskan pengawalseliaan \n",
      "terbitan atau instrumen kewangan dalam pasaran wang yang dalam \n",
      "penyeliaan dan pengawasan pihak berkuasa penyeliaan itu.\n",
      "\n",
      "Bank boleh menubuhkan sistem bagi dana, sekuriti hutang, \n",
      "dsb.\n",
      "\n",
      "44. (1) Bank atau mana-mana pertubuhan perbadanan yang \n",
      "ditubuhkan atau diperoleh oleh Bank di bawah perenggan 48(1)(c)\n",
      "atau mana-mana orang yang diberi kuasa oleh Bank boleh \n",
      "\n",
      "\n",
      "\n",
      "Bank Negara Malaysia 47\n",
      "\n",
      "menubuhkan atau mengendalikan apa-apa sistem, elektronik atau \n",
      "selainnya, sebagaimana yang perlu—\n",
      "\n",
      " (a) untuk memudahkan pemindahan, penjelasan dan penyelesaian \n",
      "dana dan sekuriti hutang;\n",
      "\n",
      " (b) untuk memudahkan penenderan, penerbitan, peminjaman \n",
      "dan pemberian pinjaman sekuriti hutang;\n",
      "\n",
      " (c) untuk memberikan maklumat kepada mana-mana orang \n",
      "berhubung dengan pasaran wang atau berhubung dengan \n",
      "penenderan, penerbitan, dagangan dan penawaran, atau \n",
      "harga bida sekuriti hutang atau apa-apa maklumat \n",
      "lain yang berkaitan yang berhubungan dengan sekuriti \n",
      "hutang;\n",
      "\n",
      " (d) bagi pengendalian pusat sekuriti hutang yang didepositkan \n",
      "dengan Bank melalui catatan dalam akaun sekuriti hutang \n",
      "tanpa penyerahan fizikal sijil;\n",
      "\n",
      " (e) bagi menjalankan apa-apa aktiviti lain berhubung dengan \n",
      "mana-mana sistem dalam perenggan (a) hingga (d); \n",
      "dan\n",
      "\n",
      " (f) bagi penyebaran maklumat yang berhubungan dengan \n",
      "perenggan (a) hingga (e),\n",
      "\n",
      "dalam pasaran-pasaran i tu,  mengikut  mana-mana yang \n",
      "berkenaan.\n",
      "\n",
      " (2) Bank boleh berfungsi sebagai suatu depositori atau ejen \n",
      "pembayaran atau menjalankan apa-apa fungsi tambahan atau \n",
      "sampingan lain berhubung dengan penubuhan atau pengendalian \n",
      "mana-mana sistem yang disebut dalam subseksyen (1).\n",
      "\n",
      " (3) B a g i  m a k s u d  s e k s y e n  i n i ,  “ s e k u r i t i  h u t a n g ” \n",
      "termasuklah—\n",
      "\n",
      " (a) saham yang diterbitkan di bawah Akta Pinjaman (Tempatan) \n",
      "1959 [Akta 637];\n",
      "\n",
      " (b) Bil Perbendaharaan yang diterbitkan di bawah Akta Bil \n",
      "Perbendaharaan (Tempatan) 1946 [Akta 188];\n",
      "\n",
      " (c) pelaburan di bawah Akta Pendanaan Kerajaan 1983 \n",
      "[Akta 275];\n",
      "\n",
      " (d) sekuriti yang diterbitkan oleh Bank di bawah perenggan \n",
      "26(2)(a);\n",
      "\n",
      "\n",
      "\n",
      "Undang-Undang Malaysia48 AKTA 701\n",
      "\n",
      " (e) debentur, sebagaimana yang ditakrifkan dalam Akta Syarikat \n",
      "1965, dalam denominasi dan boleh dibayar dalam ringgit \n",
      "yang diterbitkan oleh Kerajaan mana-mana Negeri, mana-\n",
      "mana pihak berkuasa awam, mana-mana badan berkanun, \n",
      "mana-mana perbadanan termasuk syarikat persendirian \n",
      "atau syarikat awam, atau mana-mana orang lain yang \n",
      "di bawah dokumen konstituen mereka boleh menerbitkan \n",
      "apa-apa debentur yang ditenderkan, didepositkan, dijelaskan \n",
      "atau diselesaikan melalui apa-apa sistem yang ditubuhkan \n",
      "atau dikendalikan oleh Bank menurut seksyen ini; dan\n",
      "\n",
      " (f) apa-apa sekuriti atau debentur sebagaimana yang diluluskan \n",
      "oleh Menteri atas syor Lembaga yang ditenderkan, \n",
      "didepositkan, dijelaskan atau diselesaikan melalui apa-\n",
      "apa sistem yang ditubuhkan atau dikendalikan oleh Bank \n",
      "atau mana-mana pertubuhan perbadanan yang ditubuhkan \n",
      "atau diperoleh oleh Bank atau mana-mana orang yang \n",
      "diberi kuasa oleh Bank menurut seksyen ini.\n",
      "\n",
      "Bab 3\n",
      "\n",
      "Perkhidmatan kewangan dan fungsi lain\n",
      "\n",
      "Kerjasama dengan institusi kewangan\n",
      "\n",
      "45. Bank hendaklah menggunakan usaha terbaiknya dalam \n",
      "bekerjasama dengan institusi kewangan di Malaysia untuk—\n",
      "\n",
      " (a) menggalakkan dan memelihara perkhidmatan perbankan \n",
      "dan kewangan bagi orang ramai; dan\n",
      "\n",
      " (b) memupuk piawaian perbankan dan kewangan yang tinggi \n",
      "di Malaysia.\n",
      "\n",
      "Rumah penjelasan dan penyelesaian baki antara institusi \n",
      "kewangan\n",
      "\n",
      "46. (1) Bagi memudahkan penjelasan cek dan kredit atau instrumen \n",
      "pembayaran lain bagi institusi kewangan atau mana-mana orang \n",
      "yang diluluskan oleh Bank, Bank atau mana-mana pertubuhan \n",
      "perbadanan yang ditubuhkan atau diperoleh di bawah perenggan \n",
      "48(1)(c) boleh, pada masa yang sesuai dan bersama dengan \n",
      "\n",
      "\n",
      "\n",
      "Bank Negara Malaysia 49\n",
      "\n",
      "institusi atau orang itu, menubuhkan suatu rumah penjelasan \n",
      "di Kuala Lumpur dan di mana-mana tempat lain sebagaimana yang  \n",
      "dianggap perlu oleh Bank atau pertubuhan perbadanan itu.\n",
      "\n",
      " (2) Suatu institusi kewangan atau mana-mana orang yang \n",
      "diluluskan oleh Bank hendaklah menyelesaikan, mengikut apa-\n",
      "apa cara yang ditentukan oleh Bank atau pertubuhan perbadanan \n",
      "itu dari semasa ke semasa melalui notis secara bertulis, kesemua \n",
      "baki antaranya dengan mana-mana institusi kewangan lain atau \n",
      "mana-mana orang yang diluluskan oleh Bank yang berbangkit \n",
      "daripada penjelasan umum yang dijalankan di Kuala Lumpur \n",
      "dan mana-mana tempat lain sebagaimana yang ditentukan oleh \n",
      "Bank atau pertubuhan perbadanan yang ditubuhkan atau diperoleh \n",
      "di bawah perenggan 48(1)(c).\n",
      "\n",
      "Biro kredit\n",
      "\n",
      "47. (1) Bank boleh menubuhkan suatu biro kredit untuk \n",
      "mengumpulkan, mengikut apa-apa cara dan setakat yang difikirkan \n",
      "patut oleh Bank, maklumat kredit (termasuk maklumat tentang \n",
      "dan yang berhubungan dengan penolakan apa-apa cek oleh sesuatu \n",
      "bank pembayar oleh sebab kekurangan wang dalam akaun penyuruh \n",
      "bayar cek itu) atau apa-apa maklumat lain yang dianggap berkaitan \n",
      "oleh Bank dalam penilaian kepercayaan kredit pelanggan mana-\n",
      "mana institusi kewangan.\n",
      "\n",
      " (2) Walau apa pun seksyen 86, Bank boleh menzahirkan, \n",
      "mengikut apa-apa cara dan setakat yang difikirkan patut oleh \n",
      "Bank, maklumat kredit kepada—\n",
      "\n",
      " (a) mana-mana institusi kewangan bagi maksud membantu \n",
      "dalam menilai kepercayaan kredit pelanggannya yang \n",
      "sedia ada dan berpotensi atau bagi maksud membantu \n",
      "sesuatu institusi kewangan untuk menilai kelayakan \n",
      "pelanggan untuk menyenggara atau membuka suatu akaun \n",
      "semasa dengan institusi kewangan yang merupakan suatu \n",
      "institusi kewangan yang diberi kuasa oleh Bank untuk \n",
      "mengendalikan akaun semasa, dengan syarat bahawa \n",
      "maklumat yang dizahirkan oleh Bank itu adalah rahsia \n",
      "antara Bank dengan institusi kewangan itu melainkan jika \n",
      "institusi kewangan itu diminta oleh seorang pelanggan \n",
      "untuk menzahirkan maklumat itu berkenaan dengan akaun \n",
      "pelanggan itu;\n",
      "\n",
      "\n",
      "\n",
      "Undang-Undang Malaysia50 AKTA 701\n",
      "\n",
      " (b) pelanggan sesuatu institusi kewangan berkenaan dengan \n",
      "akaunnya sendiri, atau sebagaimana yang difikirkan patut \n",
      "oleh Bank, kepada seorang pelanggan atau mana-mana \n",
      "orang berkenaan dengan apa-apa akaun yang pelanggan \n",
      "atau orang itu menanggung apa-apa obligasi kewangan, \n",
      "bagi maksud mengesahkan ketepatan maklumat kredit \n",
      "yang diberikan oleh institusi kewangan itu, atau bagi \n",
      "apa-apa maksud lain yang difikirkan patut oleh Bank, \n",
      "dengan syarat bahawa maklumat yang dizahirkan oleh \n",
      "Bank kepada pelanggan atau orang itu berkenaan dengan \n",
      "apa-apa akaun yang pelanggan atau orang itu menanggung \n",
      "apa-apa obligasi kewangan adalah rahsia antara Bank \n",
      "dengan pelanggan atau orang yang berkenaan itu;\n",
      "\n",
      " (c) mana-mana agensi pelaporan kredit yang didaftarkan \n",
      "di bawah mana-mana undang-undang yang berhubungan \n",
      "dengan agensi pelaporan kredit, sebagaimana yang \n",
      "difikirkan patut oleh Bank, bagi maksud menyediakan \n",
      "perkhidmatan pelaporan kredit atau penilaian kredit, atau \n",
      "bagi apa-apa maksud lain sebagaimana yang difikirkan \n",
      "patut oleh Bank, dengan syarat bahawa maklumat yang \n",
      "dizahirkan oleh Bank itu adalah rahsia antara Bank \n",
      "dengan agensi pelaporan kredit itu dan dengan syarat \n",
      "selanjutnya bahawa persetujuan pelanggan hendaklah \n",
      "diperoleh bagi penzahiran maklumat berkenaan dengan \n",
      "akaunnya;\n",
      "\n",
      " (d) mana-mana orang lain yang difikirkan patut oleh Bank, \n",
      "untuk mengumpulkan maklumat atau data atau menjalankan \n",
      "penyelidikan bagi maksud melaksanakan matlamat dan \n",
      "menjalankan fungsi Bank di bawah Akta ini, dengan \n",
      "syarat bahawa apa-apa penyiaran maklumat, data atau \n",
      "penyelidikan oleh Bank atau mana-mana orang lain itu \n",
      "hendaklah digabungkan atau diagregatkan dan tidak boleh \n",
      "dengan apa-apa cara membawa kepada pengenalpastian \n",
      "mana-mana pelanggan sesuatu institusi kewangan yang \n",
      "dengannya maklumat, data atau penyelidikan itu berkaitan; \n",
      "dan\n",
      "\n",
      " (e) mana-mana orang lain yang dianggap perlu oleh Bank \n",
      "berkenaan dengan akaun seorang pelanggan sesuatu \n",
      "institusi kewangan, bagi apa-apa maksud yang difikirkan \n",
      "patut oleh Bank, dengan syarat bahawa pelanggan institusi \n",
      "kewangan itu telah memberikan persetujuannya bagi \n",
      "penzahiran maklumat berkenaan dengan akaunnya. \n",
      "\n",
      "\n",
      "\n",
      "Bank Negara Malaysia 51\n",
      "\n",
      " (3) Tiada tindakan, guaman, pendakwaan atau prosiding lain \n",
      "boleh diambil atau dibawa, dimulakan atau dikekalkan dalam \n",
      "mana-mana mahkamah atau di hadapan mana-mana pihak berkuasa \n",
      "lain terhadap Bank kerana atau berkenaan dengan apa-apa \n",
      "perbuatan yang dilakukan atau pernyataan yang dibuat atau yang \n",
      "ditinggalkan daripada dilakukan atau dibuat di bawah seksyen \n",
      "ini jika perbuatan atau pernyataan itu dilakukan atau dibuat atau \n",
      "ditinggalkan daripada dilakukan atau dibuat dengan suci hati.\n",
      "\n",
      " (4) Mana-mana pengarah, pegawai atau pekerja Bank, sesuatu \n",
      "institusi kewangan atau sesuatu agensi pelaporan kredit atau \n",
      "mana-mana orang yang disebut dalam perenggan (2)(d) atau (e) \n",
      "yang kepadanya apa-apa maklumat kredit telah dizahirkan yang \n",
      "tidak mematuhi syarat yang diperuntukkan dalam peruntukan yang \n",
      "sama melakukan suatu kesalahan dan boleh, apabila disabitkan, \n",
      "didenda tidak melebihi satu juta ringgit. \n",
      "\n",
      "Penubuhan pertubuhan perbadanan, dsb.\n",
      "\n",
      "48. (1) Walau apa pun seksyen 76, Bank boleh—\n",
      "\n",
      " (a) menubuhkan pertubuhan perbadanan bagi maksud latihan, \n",
      "penyelidikan dan pembangunan sumber manusia berhubung \n",
      "dengan perkhidmatan perbankan dan kewangan;\n",
      "\n",
      " (b) menubuhkan pertubuhan perbadanan bagi maksud \n",
      "memberikan kaunseling kewangan, perkhidmatan \n",
      "pengurusan hutang dan pendidikan mengenai pengurusan \n",
      "kewangan; \n",
      "\n",
      " (c) menubuhkan pertubuhan perbadanan atau memperoleh, \n",
      "memegang atau menjual syer sesuatu pertubuhan \n",
      "perbadanan, keseluruhannya atau sebahagiannya, untuk \n",
      "mengendalikan sistem pembayaran atau mengeluarkan \n",
      "instrumen pembayaran, dan menjalankan apa-apa fungsi \n",
      "atau aktiviti tambahan atau sampingan yang lain, bagi \n",
      "maksud menggalakkan dan membangunkan sistem \n",
      "pembayaran dan instrumen pembayaran di Malaysia;\n",
      "\n",
      " (d) menubuhkan pertubuhan perbadanan atau memperoleh \n",
      "atau memegang syer sesuatu pertubuhan perbadanan, \n",
      "keseluruhannya atau sebahagiannya, bagi maksud \n",
      "subperenggan 32(1)(c)(i), (ii) atau (iii); dan\n",
      "\n",
      "\n",
      "\n",
      "Undang-Undang Malaysia52 AKTA 701\n",
      "\n",
      " (e) dengan kelulusan Menteri atas syor Lembaga, dan \n",
      "tertakluk kepada seksyen 50, menubuhkan pertubuhan \n",
      "perbadanan atau memperoleh, memegang atau menjual \n",
      "syer sesuatu pertubuhan perbadanan, keseluruhannya atau \n",
      "sebahagiannya, bagi maksud melaksanakan matlamatnya \n",
      "dan menjalankan fungsinya di bawah Akta ini. \n",
      "\n",
      " (2) Bank boleh—\n",
      "\n",
      " (a) memberi, menderma atau menyediakan pembiayaan \n",
      "sebagaimana yang perlu bagi penubuhan atau pengendalian \n",
      "suatu pertubuhan perbadanan yang di tubuhkan \n",
      "di bawah perenggan (1)(a) dan (b) dan mewujudkan dan \n",
      "menguruskan suatu dana untuk memenuhi perbelanjaan \n",
      "pertubuhan perbadanan itu; \n",
      "\n",
      " (b) menyediakan pembiayaan sebagaimana yang perlu bagi \n",
      "penubuhan atau pengendalian suatu pertubuhan perbadanan \n",
      "yang ditubuhkan atau diperoleh di bawah perenggan (1)(c) \n",
      "atau (d); dan\n",
      "\n",
      " (c) tertakluk kepada seksyen 50, menyediakan pembiayaan \n",
      "sebagaimana yang perlu bagi penubuhan atau pengendalian \n",
      "suatu pertubuhan perbadanan yang ditubuhkan atau \n",
      "diperoleh di bawah perenggan (1)(e). \n",
      "\n",
      " (3) Bank hanya boleh menyediakan pembiayaan di bawah \n",
      "perenggan (2)(b) kepada suatu pertubuhan perbadanan yang \n",
      "ditubuhkan atau diperoleh di bawah perenggan (1)(c) yang dimiliki \n",
      "sepenuhnya oleh Bank.\n",
      "\n",
      " (4) Bank hanya boleh menyediakan pembiayaan di bawah \n",
      "perenggan (2)(b) kepada suatu pertubuhan perbadanan yang \n",
      "ditubuhkan atau diperoleh di bawah perenggan (1)(d) yang \n",
      "dimiliki sepenuhnya oleh Bank atau dimiliki bersama oleh Bank \n",
      "dan Kerajaan.\n",
      "\n",
      " (5) Akta Pemberi Pinjam Wang 1951 [Akta 400] tidak terpakai \n",
      "bagi suatu pertubuhan perbadanan yang ditubuhkan di bawah \n",
      "perenggan (1)(d).\n",
      "\n",
      "Pembiayaan bagi maksud khas\n",
      "\n",
      "49. Bank, dengan kelulusan Menteri atas syor Lembaga, boleh \n",
      "mengadakan dana untuk menyediakan pembiayaan melalui institusi-\n",
      "\n",
      "\n",
      "\n",
      "Bank Negara Malaysia 53\n",
      "\n",
      "institusi kewangan atas apa-apa terma dan syarat yang difikirkan \n",
      "perlu oleh Bank—\n",
      "\n",
      " (a) dalam hal apa-apa hal keadaan genting atau force majeure; \n",
      "dan\n",
      "\n",
      " (b) kepada mana-mana bahagian ekonomi bagi maksud untuk \n",
      "menggalakkan rangkuman kewangan.\n",
      "\n",
      "Had ke atas pelaburan dan pembiayaan\n",
      "\n",
      "50. Nilai syer yang dipegang oleh Bank di bawah perenggan 48(1)(e) \n",
      "berserta dengan pembiayaan yang dibuat di bawah perenggan 48(2)(c) \n",
      "dan dana yang diadakan di bawah seksyen 49 tidak boleh pada \n",
      "agregatnya pada bila-bila masa melebihi dua kali ganda Kumpulan \n",
      "Wang Rizab Am.\n",
      "\n",
      "BAHAGIAN VII\n",
      "\n",
      "PERNIAGAAN KEWANGAN ISLAM\n",
      "\n",
      "Bab 1\n",
      "\n",
      "Majlis Penasihat Shariah\n",
      "\n",
      "Penubuhan Majlis Penasihat Shariah\n",
      "\n",
      "51. (1) Bank boleh menubuhkan suatu Majlis Penasihat Shariah \n",
      "mengenai Kewangan Islam yang hendaklah menjadi pihak berkuasa \n",
      "bagi penentuan hukum Syarak bagi maksud perniagaan kewangan \n",
      "Islam.\n",
      "\n",
      " (2) Majlis Penasihat Shariah boleh menentukan tatacaranya \n",
      "sendiri.\n",
      "\n",
      "Fungsi Majlis Penasihat Shariah\n",
      "\n",
      "52. (1) Majlis Penasihat Shariah hendaklah mempunyai fungsi \n",
      "yang berikut:\n",
      "\n",
      " (a) untuk menentukan hukum Syarak mengenai apa-apa \n",
      "perkara kewangan dan mengeluarkan keputusan apabila \n",
      "dirujukkan kepadanya mengikut Bahagian ini;\n",
      "\n",
      "\n",
      "\n",
      "Undang-Undang Malaysia54 AKTA 701\n",
      "\n",
      " (b) untuk menasihati Bank mengenai apa-apa isu Shariah \n",
      "yang berhubungan dengan perniagaan kewangan Islam, \n",
      "aktiviti atau transaksi Bank;\n",
      "\n",
      " (c) untuk memberikan nasihat kepada mana-mana institusi \n",
      "kewangan Islam atau mana-mana orang lain sebagaimana \n",
      "yang diperuntukkan di bawah mana-mana undang-undang \n",
      "bertulis; dan\n",
      "\n",
      " (d) apa-apa fungsi lain sebagaimana yang diputuskan oleh \n",
      "Bank.\n",
      "\n",
      " (2) Bagi maksud Bahagian ini, “keputusan” ertinya apa-apa \n",
      "keputusan yang dibuat oleh Majlis Penasihat Shariah bagi penentuan \n",
      "hukum Syarak bagi maksud perniagaan kewangan Islam.\n",
      "\n",
      "Pelantikan anggota Majlis Penasihat Shariah\n",
      "\n",
      "53. (1) Yang di-Pertuan Agong boleh, atas nasihat Menteri setelah \n",
      "berunding dengan Bank, melantik daripada kalangan orang yang \n",
      "berkelayakan dalam Shariah atau yang mempunyai pengetahuan \n",
      "atau pengalaman dalam Shariah dan dalam perbankan, kewangan, \n",
      "undang-undang atau apa-apa disiplin yang berkaitan sebagai \n",
      "anggota Majlis Penasihat Shariah.\n",
      "\n",
      " (2) Jika seorang hakim Mahkamah Tinggi, Mahkamah Rayuan \n",
      "atau Mahkamah Persekutuan, atau seorang hakim Mahkamah \n",
      "Rayuan Shariah mana-mana Negeri atau Wilayah Persekutuan, \n",
      "hendak dilantik di bawah subseksyen (1), pelantikan itu tidak \n",
      "boleh dibuat kecuali—\n",
      "\n",
      " (a) dalam hal seorang hakim Mahkamah Tinggi, Mahkamah \n",
      "Rayuan atau Mahkamah Persekutuan, selepas rundingan \n",
      "dibuat oleh Bank dengan Ketua Hakim Negara; dan\n",
      "\n",
      " (b) dalam hal seorang hakim Mahkamah Rayuan Shariah \n",
      "mana-mana Negeri atau Wilayah Persekutuan, selepas \n",
      "rundingan dibuat oleh Bank dengan Ketua Hakim Syarie \n",
      "Negeri atau Wilayah Persekutuan masing-masing, mengikut \n",
      "mana-mana yang berkenaan.\n",
      "\n",
      " (3) Seseorang anggota Majlis Penasihat Shariah yang dilantik \n",
      "di bawah subseksyen (1) hendaklah memegang jawatan atas \n",
      "apa-apa terma dan syarat sebagaimana yang dinyatakan dalam \n",
      "surat pelantikan mereka masing-masing, dan adalah layak untuk \n",
      "dilantik semula.\n",
      "\n",
      "\n",
      "\n",
      "Bank Negara Malaysia 55\n",
      "\n",
      " (4) Anggota Majlis Penasihat Shariah hendaklah dibayar apa-\n",
      "apa saraan dan elaun sebagaimana yang ditentukan oleh Lembaga \n",
      "daripada dana Bank.\n",
      "\n",
      "Urus setia Majlis Penasihat Shariah\n",
      "\n",
      "54. Bank boleh—\n",
      "\n",
      " (a) menubuhkan urus setia dan apa-apa jawatankuasa lain \n",
      "sebagaimana yang dianggap perlu olehnya untuk membantu \n",
      "Majlis Penasihat Shariah dalam menjalankan fungsinya; \n",
      "dan\n",
      "\n",
      " (b) melantik mana-mana pegawai Bank atau mana-mana orang \n",
      "lain untuk menjadi anggota urus setia atau jawatankuasa \n",
      "lain itu.\n",
      "\n",
      "Bank dan institusi kewangan Islam hendaklah merujuk kepada \n",
      "Majlis Penasihat Shariah\n",
      "\n",
      "55. (1) Bank hendaklah merujuk kepada Majlis Penasihat Shariah \n",
      "mengenai apa-apa perkara—\n",
      "\n",
      " (a) yang berhubungan dengan perniagaan kewangan Islam; \n",
      "dan\n",
      "\n",
      " (b) bagi maksud menjalankan fungsinya atau melakukan urusan \n",
      "atau hal ehwalnya di bawah Akta ini atau mana-mana \n",
      "undang-undang bertulis lain mengikut Shariah, \n",
      "\n",
      "yang menghendaki penentuan hukum Syarak oleh Majlis Penasihat \n",
      "Shariah.\n",
      "\n",
      " (2) Mana-mana institusi kewangan Islam berkenaan dengan \n",
      "perniagaan kewangan Islamnya, boleh—\n",
      "\n",
      " (a) membuat rujukan untuk mendapatkan suatu keputusan; \n",
      "atau\n",
      "\n",
      " (b) mendapatkan nasihat,\n",
      "\n",
      "Majlis Penasihat Shariah mengenai operasi perniagaannya bagi \n",
      "menentukan bahawa ia tidak melibatkan apa-apa unsur yang tidak \n",
      "selaras dengan Shariah.\n",
      "\n",
      "\n",
      "\n",
      "Undang-Undang Malaysia56 AKTA 701\n",
      "\n",
      "Rujukan kepada Majlis Penasihat Shariah bagi keputusan \n",
      "daripada mahkamah atau penimbang tara\n",
      "\n",
      "56. (1) Jika dalam mana-mana prosiding yang berhubungan dengan \n",
      "perniagaan kewangan Islam di hadapan mana-mana mahkamah \n",
      "atau penimbang tara apa-apa persoalan berbangkit mengenai suatu \n",
      "perkara Shariah, mahkamah atau penimbang tara itu, mengikut \n",
      "mana-mana yang berkenaan, hendaklah—\n",
      "\n",
      " (a) mengambil kira mana-mana keputusan Majlis Penasihat \n",
      "Shariah yang telah disiarkan; atau\n",
      "\n",
      " (b) merujukkan persoalan itu kepada Majlis Penasihat Shariah \n",
      "untuk keputusannya.\n",
      "\n",
      " (2) Apa-apa permintaan untuk nasihat atau suatu keputusan \n",
      "Majlis Penasihat Shariah di bawah Akta ini atau mana-mana \n",
      "undang-undang lain hendaklah dikemukakan kepada urus setia.\n",
      "\n",
      "Kesan keputusan Shariah\n",
      "\n",
      "57. Apa-apa keputusan yang dibuat oleh Majlis Penasihat Shariah \n",
      "menurut suatu rujukan yang dibuat di bawah Bahagian ini hendaklah \n",
      "mengikat institusi-institusi kewangan Islam di bawah seksyen 55 \n",
      "dan mahkamah atau penimbang tara yang membuat rujukan di \n",
      "bawah seksyen 56.\n",
      "\n",
      "Keputusan Majlis Penasihat Shariah terpakai\n",
      "\n",
      "58. Jika keputusan yang dibuat oleh suatu badan atau jawatankuasa \n",
      "Shariah yang dibentuk di Malaysia oleh sesuatu institusi kewangan \n",
      "Islam adalah berbeza dengan keputusan yang dibuat oleh Majlis \n",
      "Penasihat Shariah, keputusan Majlis Penasihat Shariah hendaklah \n",
      "terpakai.\n",
      "\n",
      "Bab 2\n",
      "\n",
      "Kuasa Bank\n",
      "\n",
      "Bank hendaklah mengeluarkan pekeliling, garis panduan, dsb., \n",
      "mengenai perkara Shariah\n",
      "\n",
      "59. (1) Bank boleh mengeluarkan apa-apa pekeliling, garis \n",
      "panduan atau notis bertulis mengenai apa-apa perkara Shariah yang \n",
      "berhubungan dengan perniagaan kewangan Islam yang dijalankan \n",
      "oleh mana-mana institusi kewangan Islam mengikut nasihat atau \n",
      "keputusan Majlis Penasihat Shariah.\n",
      "\n",
      "\n",
      "\n",
      "Bank Negara Malaysia 57\n",
      "\n",
      " (2) Sesuatu institusi kewangan Islam hendaklah mematuhi \n",
      "mana-mana pekeliling, garis panduan atau notis bertulis yang \n",
      "dikeluarkan oleh Bank di bawah subseksyen (1) dan dalam apa-\n",
      "apa tempoh yang dinyatakan dalam pekeliling, garis panduan atau \n",
      "notis itu.\n",
      "\n",
      " (3) Mana-mana orang yang tidak mematuhi mana-mana \n",
      "pekeliling, garis panduan atau notis yang dikeluarkan oleh Bank \n",
      "di bawah subseksyen (1) melakukan suatu kesalahan dan boleh, \n",
      "apabila disabitkan, didenda tidak melebihi tiga juta ringgit.\n",
      "\n",
      "Mempromosi Malaysia sebagai pusat kewangan Islam \n",
      "antarabangsa\n",
      "\n",
      "60. (1) Bank hendaklah, dengan bekerjasama dengan Kerajaan \n",
      "atau mana-mana agensi Kerajaan, badan berkanun, pihak berkuasa \n",
      "penyeliaan atau organisasi antarabangsa atau supranasional, \n",
      "membangunkan dan mempromosi Malaysia sebagai pusat kewangan \n",
      "Islam antarabangsa.\n",
      "\n",
      " (2) Bagi maksud subseksyen (1), Bank boleh—\n",
      "\n",
      " (a) menubuhkan urus setia atau jawatankuasa lain untuk \n",
      "membantu Kerajaan atau mana-mana organisasi, majlis, \n",
      "agensi atau jawatankuasa yang ditubuhkan oleh Kerajaan; \n",
      "dan\n",
      "\n",
      " (b) secara amnya mengambil apa-apa langkah atau memudahkan \n",
      "apa-apa tindakan atau menyediakan pembiayaan,\n",
      "\n",
      "sebagaimana yang perlu bagi pembangunan dan promosi Malaysia \n",
      "sebagai pusat kewangan Islam antarabangsa.\n",
      "\n",
      "BAHAGIAN VIII\n",
      "\n",
      "MATA WANG\n",
      "\n",
      "Unit mata wang\n",
      "\n",
      "61. (1) Unit mata wang di Malaysia ialah ringgit, yang dibahagikan \n",
      "kepada satu ratus sen.\n",
      "\n",
      " (2) Singkatan bagi ringgit ialah “RM” atau “MYR”.\n",
      "\n",
      "\n",
      "\n",
      "Undang-Undang Malaysia58 AKTA 701\n",
      "\n",
      "Hak untuk mengeluarkan, mencetak atau menempa mata \n",
      "wang\n",
      "\n",
      "62. (1) Bank hendaklah menjadi pihak berkuasa tunggal untuk \n",
      "mengeluarkan mata wang kertas dan syiling di Malaysia dan wang \n",
      "kertas dan syiling itu hanya boleh dicetak atau ditempa oleh atau \n",
      "di bawah kuasa Bank.\n",
      "\n",
      " (2) Kerajaan, mana-mana Kerajaan Negeri, pihak berkuasa \n",
      "awam, institusi kewangan, institusi atau orang lain tidak boleh \n",
      "mengeluarkan, mencetak, menempa atau memberi kuasa untuk \n",
      "mencetak atau menempa mata wang atau apa-apa dokumen \n",
      "atau token yang boleh dibayar kepada pembawa atas tuntutan \n",
      "yang merupakan token dokumen, yang pada pendapat Bank, \n",
      "berkemungkinan dikatakan sebagai sah diperlakukan.\n",
      "\n",
      "Sah diperlakukan\n",
      "\n",
      "63. Hanya mata wang kertas dan syiling yang dikeluarkan oleh \n",
      "Bank adalah sah diperlakukan di Malaysia.\n",
      "\n",
      "Bank boleh memanggil balik mata wang\n",
      "\n",
      "64. (1) Bank boleh, dari semasa ke semasa, dengan memberi tidak \n",
      "kurang daripada satu bulan notis dalam Warta mengenai niatnya \n",
      "untuk berbuat demikian, memanggil balik mana-mana mata wang \n",
      "kertas atau syiling yang telah dikeluarkan oleh Bank.\n",
      "\n",
      " (2) Apabila habis tempoh notis itu, kesemua mata wang \n",
      "kertas atau syiling yang baginya notis itu terpakai hendaklah \n",
      "terhenti menjadi sah diperlakukan, tetapi Bank hendaklah terus \n",
      "bertanggungan untuk membayar mana-mana mata wang kertas \n",
      "atau syiling yang diserahkan di pejabat Bank.\n",
      "\n",
      "Bank boleh membeli dan menjual ringgit\n",
      "\n",
      "65. Bank hendaklah menurut budi bicaranya membeli dan menjual \n",
      "ringgit dengan emas atau mana-mana mata wang asing lain \n",
      "yang layak untuk dimasukkan ke dalam rizab luar negara yang \n",
      "dinyatakan di bawah Akta ini.\n",
      "\n",
      "\n",
      "\n",
      "Bank Negara Malaysia 59\n",
      "\n",
      "Rejim kadar pertukaran bagi ringgit \n",
      "\n",
      "66. (1) Rejim kadar pertukaran bagi ringgit hendaklah ditentukan \n",
      "oleh Menteri atas syor Bank.\n",
      "\n",
      " (2) Bank hendaklah secara autonomi menjalankan operasi \n",
      "pertukaran asing bagi penjalanan fungsi rejim kadar pertukaran \n",
      "dan pasaran pertukaran asing yang cekap dan berkesan.\n",
      "\n",
      "BAHAGIAN IX\n",
      "\n",
      "RIZAB LUAR NEGARA\n",
      "\n",
      "Kewajipan Bank untuk memegang dan menguruskan rizab \n",
      "luar negara\n",
      "\n",
      "67. (1) Menjadi kewajipan Bank pada setiap masa untuk memegang \n",
      "dan menguruskan rizab luar negara bagi maksud melaksanakan \n",
      "matlamatnya, menjalankan fungsinya di bawah Akta ini dan \n",
      "memastikan keyakinan orang ramai.\n",
      "\n",
      " (2) Tertakluk kepada seksyen 68, rizab luar negara yang \n",
      "dipegang dan diuruskan di bawah subseksyen (1) hendaklah terdiri \n",
      "daripada yang berikut:\n",
      "\n",
      " (a) emas atau logam berharga lain;\n",
      "\n",
      " (b) mata wang asing;\n",
      "\n",
      " (c) sekuriti, atau sekuriti yang dijamin oleh—\n",
      "\n",
      " (i) kerajaan atau agensi kerajaan itu; atau\n",
      "\n",
      " (ii) institusi kewangan antarabangsa;\n",
      "\n",
      " (d) apa-apa kemudahan pengeluaran wang yang sedia ada \n",
      "oleh mana-mana institusi kewangan antarabangsa; \n",
      "\n",
      " (e) bil pertukaran; dan\n",
      "\n",
      " (f) apa-apa sekuriti lain dan instrumen kewangan lain termasuk \n",
      "terbitan.\n",
      "\n",
      "Dasar dan garis panduan mengenai rizab luar negara\n",
      "\n",
      "68. Bank hendaklah memegang dan menguruskan rizab luar \n",
      "negara mengikut dasar dan garis panduan yang dikeluarkan oleh \n",
      "Lembaga.\n",
      "\n",
      "\n",
      "\n",
      "Undang-Undang Malaysia60 AKTA 701\n",
      "\n",
      "BAHAGIAN X\n",
      "\n",
      "HUBUNGAN DENGAN KERAJAAN\n",
      "\n",
      "Jurubank dan ejen kewangan kepada Kerajaan\n",
      "\n",
      "69. (1) Dalam fungsinya sebagai jurubank dan ejen kewangan \n",
      "kepada Kerajaan, Bank—\n",
      "\n",
      " (a) hendaklah menjaga akaun wang Kerajaan yang diterima \n",
      "dan dibelanjakannya; dan\n",
      "\n",
      " (b) boleh membuat terbitan dan pengurusan sekuriti, Bil \n",
      "Perbendaharaan dan instrumen kewangan lain yang \n",
      "diterbitkan kepada umum oleh Kerajaan.\n",
      "\n",
      " (2) Bank tidak boleh mengenakan caj kepada Kerajaan bagi \n",
      "apa-apa perbelanjaan yang dilakukan bagi perkhidmatan yang \n",
      "diberikan di bawah subseksyen (1). \n",
      "\n",
      "Nasihat kepada, dan bertindak secara am sebagai ejen, \n",
      "Kerajaan\n",
      "\n",
      "70. (1) Gabenor atau mana-mana Timbalan Gabenor dengan \n",
      "kelulusan Menteri atau mana-mana pegawai Bank dengan kelulusan \n",
      "Gabenor, boleh atas permintaan Kerajaan, bertindak sebagai \n",
      "anggota mana-mana jawatankuasa atau suruhanjaya yang dilantik \n",
      "oleh Kerajaan untuk menasihati atau memeriksa apa-apa perkara \n",
      "yang melibatkan perkara monetari, kewangan, perbankan atau \n",
      "mata wang di dalam Malaysia atau di luar Malaysia. \n",
      "\n",
      " (2) Bank, jika sesuai dan selaras dengan matlamatnya dan \n",
      "peruntukan Akta ini dan jika ia berkemahiran dan mempunyai \n",
      "kepakaran—\n",
      "\n",
      " (a) hendaklah, atas permintaan Kerajaan atau jika dianggap \n",
      "perlu oleh Bank demi kepentingan ekonomi, menasihati \n",
      "Kerajaan tentang perkara ekonomi;\n",
      "\n",
      " (b) boleh, atas permintaan Kerajaan, bertindak sebagai anggota \n",
      "mana-mana jawatankuasa yang melibatkan perkara \n",
      "ekonomi di Malaysia;\n",
      "\n",
      " (c) boleh, atas permintaan Kerajaan, mewakili Kerajaan sebagai \n",
      "ejennya dalam segala urus niaga, rundingan atau transaksi \n",
      "yang berhubungan dengan perkara monetari, kewangan, \n",
      "\n",
      "\n",
      "\n",
      "Bank Negara Malaysia 61\n",
      "\n",
      "perbankan, mata wang atau ekonomi dengan mana-mana \n",
      "kerajaan atau pihak berkuasa di luar Malaysia yang \n",
      "dengannya Kerajaan terikat atau memberikan sokongan \n",
      "atau kelulusan; atau\n",
      "\n",
      " (d) boleh bertindak secara am sebagai ejen kepada Kerajaan \n",
      "atas apa-apa terma dan syarat yang hendaklah dipersetujui \n",
      "antara Bank dengan Kerajaan.\n",
      "\n",
      "Pembiayaan sementara kepada Kerajaan\n",
      "\n",
      "71. (1) Lembaga boleh memberikan pembiayaan sementara kepada \n",
      "Kerajaan atas terma pasaran semasa berkenaan dengan kekurangan \n",
      "sementara hasil belanjawan.\n",
      "\n",
      " (2) Semua pembiayaan yang diberikan di bawah subseksyen (1) \n",
      "hendaklah dibayar balik dengan seberapa segera yang mungkin dan \n",
      "hendaklah dalam apa-apa hal kena dibayar tidak lebih daripada \n",
      "tiga bulan selepas berakhirnya tahun kewangan Kerajaan yang \n",
      "dalamnya pembiayaan itu diberikan; dan jika selepas tarikh itu apa-\n",
      "apa pembiayaan masih tertunggak, kuasa Bank untuk memberikan \n",
      "pembiayaan selanjutnya bagi mana-mana tahun kewangan yang \n",
      "berikutnya tidak boleh dijalankan melainkan jika dan sehingga \n",
      "pembiayaan tertunggak itu telah dibayar balik.\n",
      "\n",
      " (3) Agregat amaun pembiayaan yang diberikan oleh Bank \n",
      "di bawah subseksyen (1) dan sekuriti yang diterbitkan oleh \n",
      "Kerajaan, yang dibeli oleh Bank tidak termasuk apa-apa sekuriti \n",
      "yang diperoleh semasa, atau dipegang semata-mata bagi, operasi \n",
      "dasar monetari, tidak boleh pada bila-bila masa melebihi dua \n",
      "belas setengah peratus daripada anggaran penerimaan Persekutuan \n",
      "yang ditunjukkan dalam penyata yang dibentangkan di hadapan \n",
      "Dewan Rakyat menurut Perkara 99 Perlembagaan Persekutuan \n",
      "bagi tahun kewangan Kerajaan yang dalamnya pembiayaan itu \n",
      "diberikan.\n",
      "\n",
      "Perkara dasar\n",
      "\n",
      "72. (1) Bank hendaklah sentiasa memaklumkan Menteri tentang \n",
      "dasar-dasar yang berhubungan dengan matlamat utamanya.\n",
      "\n",
      " (2) Sekiranya terdapat perbezaan pendapat antara Menteri dengan \n",
      "Bank berhubungan dengan matlamat utamanya, Menteri dan Bank \n",
      "hendaklah berikhtiar untuk mencapai suatu persetujuan.\n",
      "\n",
      "\n",
      "\n",
      "Undang-Undang Malaysia62 AKTA 701\n",
      "\n",
      " (3) Jika Menteri dan Bank tidak dapat mencapai suatu persetujuan, \n",
      "Lembaga hendaklah memberikan kepada Menteri suatu pernyataan \n",
      "berhubung dengan perkara yang berkenaan dengannya perbezaan \n",
      "pendapat itu berbangkit.\n",
      "\n",
      " (4) Menteri hendaklah kemudiannya mengemukakan suatu \n",
      "syor berserta dengan pernyataan yang diberikan oleh Lembaga \n",
      "di bawah subseksyen (3) kepada Jemaah Menteri.\n",
      "\n",
      " (5) Bertindak atas syor Menteri dan pernyataan yang diberikan \n",
      "oleh Lembaga, Jemaah Menteri boleh menentukan dasar yang \n",
      "hendak diterima pakai oleh Bank.\n",
      "\n",
      " (6) Menteri hendaklah memaklumkan Bank tentang dasar \n",
      "sebagaimana yang ditentukan di bawah subseksyen (5) dan bahawa \n",
      "Kerajaan bertanggungjawab bagi dasar itu.\n",
      "\n",
      " (7) Bank hendaklah kemudiannya melaksanakan dasar itu \n",
      "sebagaimana yang ditentukan di bawah subseksyen (5).\n",
      "\n",
      " (8) Jika Lembaga membantah dasar itu sebagaimana yang \n",
      "ditentukan di bawah subseksyen (5), Lembaga boleh mengemukakan \n",
      "bantahan dan sebab-sebabnya secara bertulis kepada Menteri \n",
      "yang hendaklah membentangkannya berserta dengan dasar itu \n",
      "sebagaimana yang ditentukan di bawah subseksyen (5) di hadapan \n",
      "Dewan Rakyat, atau, jika Dewan Rakyat tidak bersidang, pada \n",
      "persidangan dalam mesyuarat Dewan Rakyat yang berikutnya.\n",
      "\n",
      "BAHAGIAN XI\n",
      "\n",
      "KUASA BANK YANG LAIN\n",
      "\n",
      "Pematuhan Shariah\n",
      "\n",
      "73. (1) Bank boleh, dalam melaksanakan matlamatnya, menjalankan \n",
      "fungsinya atau melakukan urusan atau hal ehwalnya di bawah \n",
      "Akta ini atau mana-mana undang-undang bertulis lain, membuat \n",
      "apa-apa perkiraan atau mengambil apa-apa langkah yang diluluskan \n",
      "oleh Majlis Penasihat Shariah untuk memastikan bahawa apa-apa \n",
      "fungsi, urusan atau hal ehwal itu adalah mengikut Shariah.\n",
      "\n",
      "\n",
      "\n",
      "Bank Negara Malaysia 63\n",
      "\n",
      " (2) Tanpa menjejaskan keluasan subseksyen (1),  j ika \n",
      "apa-apa perkiraan atau langkah di bawah subseksyen (1) \n",
      "menghendaki—\n",
      "\n",
      " (a) penubuhan suatu perbadanan atau suatu perkongsian;\n",
      "\n",
      " (b) supaya apa-apa aku janji komersial, pertanian atau \n",
      "perindustrian dibuat; atau\n",
      "\n",
      " (c) transaksi yang melibatkan perdagangan, bailmen, jualan, \n",
      "belian, pajakan atau jualan dan pajakan semula, agensi, \n",
      "endowmen atau perniagaan atau urus niaga lain yang \n",
      "melibatkan perkhidmatan, harta intelek, komoditi, aset \n",
      "atau harta lain,\n",
      "\n",
      "yang dilarang atau tidak dibenarkan oleh Akta ini, Bank boleh, \n",
      "hanya bagi maksud untuk menjalankan fungsinya atau melakukan \n",
      "urusan atau hal ehwalnya menurut Shariah, membuat apa-apa \n",
      "perkiraan atau mengambil langkah itu.\n",
      "\n",
      "Pemerolehan harta tak alih\n",
      "\n",
      "74. Bank boleh membeli, memperoleh atau memajak harta tak \n",
      "alih—\n",
      "\n",
      " (a) bagi maksud menjalankan fungsinya atau melakukan \n",
      "urusan atau hal ehwalnya mengikut Shariah menurut \n",
      "seksyen 73;\n",
      "\n",
      " (b) bagi peruntukan atau peruntukan masa hadapan bagi—\n",
      "\n",
      " (i) premis perniagaan untuk Bank dan agensinya dan \n",
      "mana-mana rumah penjelasan yang ditubuhkan \n",
      "menurut seksyen 46;\n",
      "\n",
      " (ii) kediaman bagi Gabenor, Timbalan Gabenor, pegawai \n",
      "dan pekerja; dan\n",
      "\n",
      " (iii) kemudahan untuk meningkatkan kebajikan pegawai \n",
      "dan pekerja; atau\n",
      "\n",
      " (c) sebagaimana yang diperuntukkan dalam mana-mana \n",
      "peruntukan Akta ini.\n",
      "\n",
      "\n",
      "\n",
      "Undang-Undang Malaysia64 AKTA 701\n",
      "\n",
      "Kuasa am Bank\n",
      "\n",
      "75. Bank, jika ia selaras dengan matlamatnya, fungsinya dan \n",
      "peruntukan lain dalam Akta ini, boleh—\n",
      "\n",
      " (a) membuat kontrak;\n",
      "\n",
      " (b) memperoleh, membeli, mengambil, memegang dan \n",
      "menikmati apa-apa jenis harta alih atau harta tak alih \n",
      "dan boleh memindahkan, menyerahhakkan, menyerahkan \n",
      "balik, memulangkan, menggadaikan, menggadai janji, \n",
      "mendemis, memajakkan, menyewakan, menyerahhakkan \n",
      "semula, memindahmilikkan atau dengan apa-apa cara lain \n",
      "melupuskan, atau membuat apa-apa urusan mengenai,  \n",
      "apa-apa harta alih atau harta tak alih atau apa-apa \n",
      "kepentingan yang terletak hak pada Bank atas apa-apa \n",
      "terma yang difikirkan patut oleh Bank;\n",
      "\n",
      " (c) membeli, menjual, membeli semula, memberi pinjaman \n",
      "atau meminjam mata wang, sekuriti, emas, logam berharga \n",
      "lain atau komoditi lain atau membuat terbitan;\n",
      "\n",
      " (d) membuat pertukaran mata wang, sekuriti, emas, logam \n",
      "berharga lain atau komoditi lain atau instrumen kewangan \n",
      "yang disebut dalam perenggan (c) bagi mata wang lain, \n",
      "sekuriti, emas, logam berharga lain atau komoditi lain \n",
      "atau instrumen kewangan; \n",
      "\n",
      " (e) membeli, menjual, mendiskaun dan mendiskaun semula \n",
      "bil pertukaran, bil Perbendaharaan atau nota janji hutang \n",
      "yang dikeluarkan di dalam atau di luar Malaysia dan \n",
      "matang dalam tempoh satu tahun dari tarikh pemerolehan \n",
      "atau apa-apa tempoh lain sebagaimana yang diluluskan \n",
      "oleh Menteri;\n",
      "\n",
      " (f) membeli, menjual atau membeli semula apa-apa sijil deposit \n",
      "yang dikeluarkan oleh mana-mana institusi kewangan;\n",
      "\n",
      " (g) bertindak sebagai ejen, koresponden atau jurubank bagi, \n",
      "atau membuka dan menyenggara akaun bagi, atau \n",
      "menerima deposit emas, logam berharga lain atau wang \n",
      "dalam apa-apa mata wang daripada, mana-mana bank \n",
      "pusat, pihak berkuasa kewangan, institusi kewangan \n",
      "antarabangsa, pihak berkuasa kewangan antarabangsa \n",
      "atau institusi kewangan lain di luar Malaysia;\n",
      "\n",
      " (h) membuka akaun bagi, atau menerima deposit emas, logam \n",
      "berharga lain atau wang dalam apa-apa mata wang \n",
      "daripada—\n",
      "\n",
      " (i) Kerajaan, mana-mana Kerajaan Negeri, pihak berkuasa \n",
      "awam atau institusi kewangan; atau\n",
      "\n",
      "\n",
      "\n",
      "Bank Negara Malaysia 65\n",
      "\n",
      " (ii) mana-mana orang lain di Malaysia dengan kelulusan \n",
      "Menteri terlebih dahulu;\n",
      "\n",
      " (i) membuka dan menyenggara akaun, mendeposit emas, \n",
      "logam berharga lain atau wang dalam apa-apa mata wang \n",
      "dengan mana-mana institusi kewangan di dalam atau di \n",
      "luar Malaysia, bank pusat, pihak berkuasa kewangan, \n",
      "institusi kewangan antarabangsa atau pihak berkuasa \n",
      "monetari antarabangsa;\n",
      "\n",
      " (j) mengaku janji bagi pihak pelanggan dan koresponden \n",
      "pembelian, penjualan, pengutipan dan pembayaran \n",
      "sekuriti, mata wang dan instrumen kredit di dalam dan \n",
      "di luar Malaysia, dan pembelian atau penjualan emas \n",
      "dan logam berharga lain;\n",
      "\n",
      " (k) menerima daripada pelanggan sekuriti dan artikel berharga \n",
      "lain bagi jagaan;\n",
      "\n",
      " (l) menerima aset, termasuk buku catatan mengenai sekuriti, \n",
      "sebagai cagaran;\n",
      "\n",
      " (m) meminjam wang, mengambil kredit dan memberi jaminan \n",
      "dan tanggung rugi dalam apa-apa mata wang, di dalam \n",
      "atau di luar Malaysia;\n",
      "\n",
      " (n) mengeluarkan draf tuntutan dan jenis lain kiriman bayaran \n",
      "yang boleh dibayar di pejabatnya dan cawangannya \n",
      "sendiri atau di pejabat ejen atau koresponden;\n",
      "\n",
      " (o) melabur dalam sekuriti bagi pihak kakitangan dan kumpulan \n",
      "wang pencen dan dana dalaman lain Bank; dan\n",
      "\n",
      " (p) melakukan secara amnya segala benda yang biasanya \n",
      "dibuat oleh jurubank.\n",
      "\n",
      "Perniagaan yang tidak boleh diurusniagakan oleh Bank\n",
      "\n",
      "76. Melainkan jika diperuntukkan selainnya dalam Akta ini, Bank \n",
      "tidak boleh—\n",
      "\n",
      " (a) terlibat dalam perdagangan atau selainnya mempunyai \n",
      "suatu kepentingan secara langsung dalam apa-apa \n",
      "pengusahaan komersial, pertanian, perindustrian atau apa-\n",
      "apa pengusahaan lain kecuali dalam perjalanan urusan \n",
      "penunaian hutang yang tertunggak kepada Bank dengan \n",
      "syarat bahawa apa-apa kepentingan itu hendaklah dilupuskan \n",
      "pada peluang bersesuaian yang paling awal; \n",
      "\n",
      "\n",
      "\n",
      "Undang-Undang Malaysia66 AKTA 701\n",
      "\n",
      " (b) memberikan pembiayaan yang dicagarkan dengan mana-\n",
      "mana syer;\n",
      "\n",
      " (c) membeli syer mana-mana perbadanan;\n",
      "\n",
      " (d) memberikan pembiayaan tidak bercagar atau pembiayaan \n",
      "bercagar selain yang dinyatakan dalam Akta ini:\n",
      "\n",
      "  Dengan syarat bahawa dalam hal apa-apa hutang yang \n",
      "tertunggak kepada Bank menjadi, pada pendapat Bank, \n",
      "terancam, Bank boleh mencagarkan hutang itu dengan \n",
      "apa-apa harta alih atau harta tak alih milik penghutang \n",
      "itu dan boleh memperoleh harta itu, yang hendaklah, \n",
      "walau bagaimanapun, dijual semula pada masa bersesuaian \n",
      "yang paling awal;\n",
      "\n",
      " (e) mengeluarkan atau menerima bil yang boleh dibayar selain \n",
      "atas tuntutan; dan\n",
      "\n",
      " (f) menerima sebagai diskaun, atau sebagai jaminan bagi \n",
      "apa-apa pembiayaan yang diberikan oleh Bank, bil atau \n",
      "nota yang ditandatangani oleh anggota Lembaga atau \n",
      "oleh pegawai atau pekerja Bank.\n",
      "\n",
      "Langkah bagi menjaga kestabilan monetari dan kewangan\n",
      "\n",
      "77. (1) Walau apa pun peruntukan Akta ini, Lembaga boleh, bagi \n",
      "maksud melaksanakan matlamat Bank atau melindungi kedudukan \n",
      "imbangan pembayaran, melalui notis secara bertulis memberikan \n",
      "arahan kepada, atau mengenakan kehendak ke atas, mana-mana \n",
      "orang termasuk institusi kewangan berkenaan dengan atau yang \n",
      "berhubungan dengan—\n",
      "\n",
      " (a) transaksi antara pemastautin, bukan pemastautin atau \n",
      "pemastautin dengan bukan pemastautin, dalam ringgit \n",
      "atau mata wang asing, atau yang melibatkan emas, \n",
      "logam berharga lain, sekuriti atau instrumen kewangan \n",
      "lain termasuk terbitan; atau\n",
      "\n",
      " (b) penerimaan, serahan atau penahanan mata wang asing, \n",
      "emas atau logam berharga lain. \n",
      "\n",
      " (2) Bagi maksud seksyen ini—\n",
      "\n",
      " “bukan pemastautin” ertinya—\n",
      "\n",
      " (a) mana-mana orang selain seorang pemastautin;\n",
      "\n",
      "\n",
      "\n",
      "Bank Negara Malaysia 67\n",
      "\n",
      " (b) suatu cawangan, subsidiari, pejabat serantau, pejabat \n",
      "jualan atau pejabat perwakilan syarikat pemastautin di \n",
      "luar negara;\n",
      "\n",
      " (c) Kedutaan, Konsulat, Pesuruhjaya Tinggi, organisasi \n",
      "supranasional atau antarabangsa;\n",
      "\n",
      " (d) seorang warganegara Malaysia yang telah mendapat status \n",
      "pemastautin tetap di suatu negara atau wilayah di luar \n",
      "Malaysia dan sedang menetap di luar Malaysia; atau\n",
      "\n",
      " (e) mana-mana orang lain yang boleh ditentukan oleh Bank \n",
      "sebagai seorang bukan pemastautin;\n",
      "\n",
      " “mata wang asing” hendaklah mempunyai erti seperti dalam \n",
      "subseksyen 2(1) dan sebagai tambahan termasuklah apa-apa \n",
      "dokumen daripada jenis yang dimaksudkan untuk membolehkan \n",
      "orang yang kepadanya dokumen itu dikeluarkan untuk mendapatkan \n",
      "mata wang asing daripada seseorang yang lain atas kredit daripada \n",
      "orang yang mengeluarkannya, dan khususnya apa-apa cek kembara \n",
      "atau draf atau surat kredit lain yang dimaksudkan sedemikian;\n",
      "\n",
      " “orang” ertinya orang sebenar, apa-apa perbadanan, badan \n",
      "berkanun, pihak berkuasa tempatan, pertubuhan, kesatuan sekerja, \n",
      "koperasi, perkongsian atau apa-apa badan, organisasi, persatuan \n",
      "atau kumpulan orang yang lain, sama ada diperbadankan atau \n",
      "tidak diperbadankan dan sebagai tambahan termasuklah Kerajaan, \n",
      "mana-mana Kerajaan Negeri atau mana-mana kerajaan lain;\n",
      "\n",
      " “pemastautin” ertinya—\n",
      "\n",
      " (a) seorang warganegara Malaysia, tidak termasuk seorang \n",
      "warganegara yang telah mendapat status pemastautin \n",
      "tetap di suatu negara atau wilayah di luar Malaysia dan \n",
      "sedang bermastautin di luar Malaysia;\n",
      "\n",
      " (b) seorang bukan warganegara Malaysia yang telah mendapat \n",
      "status pemastautin tetap di Malaysia dan biasanya \n",
      "bermastautin di Malaysia;\n",
      "\n",
      " (c) suatu pertubuhan perbadanan yang diperbadankan atau \n",
      "ditubuhkan, atau berdaftar dengan atau diluluskan oleh \n",
      "mana-mana pihak berkuasa, di Malaysia;\n",
      "\n",
      " (d) suatu badan yang tidak diperbadankan yang berdaftar \n",
      "dengan atau diluluskan oleh mana-mana pihak berkuasa \n",
      "di Malaysia;\n",
      "\n",
      "\n",
      "\n",
      "Undang-Undang Malaysia68 AKTA 701\n",
      "\n",
      " (e) Kerajaan atau mana-mana Kerajaan Negeri; atau\n",
      "\n",
      " (f) mana-mana orang lain sebagaimana yang ditentukan oleh \n",
      "Bank sebagai seorang pemastautin;\n",
      "\n",
      " “sekuriti” ertinya syer, saham, bon, nota (selain nota janji \n",
      "hutang), debentur, saham debentur, unit di bawah suatu skim \n",
      "amanah saham, syer dalam royalti minyak, suatu sekuriti sekunder \n",
      "dan kupon sama ada dalam bentuk tidak berskrip atau mempunyai \n",
      "sijil pembawa, termasuk sijil hakmilik bagi sekuriti atau apa-apa \n",
      "surat perumpukan yang boleh dibatalkan, apa-apa surat hak, apa-\n",
      "apa waran yang memberikan suatu opsyen untuk memperoleh \n",
      "suatu sekuriti, apa-apa sijil deposit berkenaan dengan sekuriti \n",
      "dan apa-apa dokumen lain yang memberikan, atau mengandungi \n",
      "keterangan mengenai, hak ke atas sekuriti sebagaimana yang \n",
      "ditetapkan oleh Bank; \n",
      "\n",
      " “transaksi” termasuklah—\n",
      "\n",
      " (a) menjual atau membeli;\n",
      "\n",
      " (b) meminjam atau meminjamkan;\n",
      "\n",
      " (c) pembayaran, pemindahan atau penyelesaian;\n",
      "\n",
      " (d) terbitan, pindahan atau penggantian sekuriti;\n",
      "\n",
      " (e) pemberian atau pemerolehan jaminan kewangan, tanggung \n",
      "rugi atau aku janji seumpamanya berkenaan dengan apa-\n",
      "apa hutang, obligasi atau liabiliti;\n",
      "\n",
      " (f) apa-apa perbuatan yang melibatkan, adalah bersama dengan, \n",
      "atau persediaan kepada, perkara dalam perenggan (a), \n",
      "(b), (c), (d), (e) dan (g); atau\n",
      "\n",
      " (g) pengeluaran penyiaran iklan mengenai perkara dalam \n",
      "perenggan (a), (b), (c), (d) dan (e).\n",
      "\n",
      " (3) Mana-mana orang yang tidak mematuhi arahan atau kehendak \n",
      "Lembaga di bawah subseksyen (1) melakukan suatu kesalahan \n",
      "dan boleh, apabila disabitkan, didenda tidak melebihi sepuluh juta \n",
      "ringgit atau dipenjarakan selama tempoh tidak melebihi sepuluh \n",
      "tahun atau kedua-duanya.\n",
      "\n",
      "\n",
      "\n",
      "Bank Negara Malaysia 69\n",
      "\n",
      "Rekod akaun antarabangsa\n",
      "\n",
      "78. (1) Bagi maksud melaksanakan matlamatnya dan menjalankan \n",
      "fungsinya di bawah Akta ini, Bank hendaklah menyenggara suatu \n",
      "rekod akaun antarabangsa yang mengandungi apa-apa data dan \n",
      "maklumat sebagaimana yang ditentukan oleh Bank.\n",
      "\n",
      " (2) Bagi maksud penyenggaraan rekod akaun antarabangsa, \n",
      "Bank hendaklah mempunyai kuasa untuk menghendaki secara \n",
      "bertulis pada bila-bila masa orang yang, pada pendapat Bank, \n",
      "mempunyai dalam milikannya atau di bawah jagaan atau kawalannya, \n",
      "atau berkeupayaan untuk mendapatkan, mengumpulkan atau \n",
      "mengemukakan, apa-apa data, maklumat atau dokumen yang \n",
      "berhubungan dengan rekod akaun antarabangsa—\n",
      "\n",
      " (a) supaya mengemukakan data, maklumat atau dokumen itu \n",
      "kepada Bank; atau\n",
      "\n",
      " (b) supaya menghadirkan diri di hadapan seorang pegawai \n",
      "Bank untuk menjawab apa-apa pertanyaan berhubung \n",
      "dengan data, maklumat atau dokumen itu.\n",
      "\n",
      " (3) Mana-mana orang yang dikehendaki supaya mengemukakan \n",
      "apa-apa data, maklumat atau dokumen di bawah seksyen ini \n",
      "hendaklah memastikan bahawa—\n",
      "\n",
      " (a) data, maklumat atau dokumen yang dikemukakan itu \n",
      "menurut apa-apa kehendak di bawah perenggan (2)(a); \n",
      "atau\n",
      "\n",
      " (b) apa-apa jawapan kepada apa-apa pertanyaan menurut \n",
      "apa-apa kehendak di bawah perenggan (2)(b), \n",
      "\n",
      "adalah benar, betul, lengkap dan tidak mengelirukan.\n",
      "\n",
      " (4) Mana-mana orang yang dikehendaki supaya mengemukakan \n",
      "apa-apa data, maklumat atau dokumen di bawah seksyen ini \n",
      "hendaklah mematuhi kehendak itu, walau apa pun peruntukan \n",
      "mana-mana undang-undang bertulis sama ada diperbuat sebelum \n",
      "atau selepas permulaan kuat kuasa Akta ini atau apa-apa sumpah, \n",
      "aku janji, atau kehendak kerahsiaan yang berlawanan atau apa-\n",
      "apa obligasi di bawah apa-apa kontrak, perjanjian atau perkiraan \n",
      "sama ada nyata atau tersirat yang berlawanan. \n",
      "\n",
      "\n",
      "\n",
      "Undang-Undang Malaysia70 AKTA 701\n",
      "\n",
      " (5) Mana-mana orang tidak boleh, dalam mematuhi kehendak \n",
      "supaya mengemukakan apa-apa maklumat atau dokumen di bawah \n",
      "subseksyen (4), dikira sebagai memungkiri apa-apa kontrak, \n",
      "perjanjian atau perkiraan itu.\n",
      "\n",
      " (6) Bank boleh menyiarkan mengikut apa-apa cara yang \n",
      "difikirkannya patut, pernyataan yang disatukan daripada kesemua \n",
      "atau mana-mana bahagian rekod akaun antarabangsa itu, dengan \n",
      "mengagregatkan data, maklumat atau butiran dalam dokumen yang \n",
      "diterima atau diperoleh di bawah subseksyen (2), dengan syarat \n",
      "bahawa penyiaran itu tidak boleh dengan apa-apa cara membawa \n",
      "kepada pengenalpastian mana-mana orang yang dengannya data, \n",
      "maklumat, atau butiran itu berkaitan. \n",
      "\n",
      " (7) Walau apa pun seksyen 88 atau mana-mana undang-undang \n",
      "bertulis lain tetapi tanpa menjejaskan subseksyen (6), apa-apa data, \n",
      "maklumat atau dokumen yang diterima atau diperoleh oleh Bank \n",
      "di bawah subseksyen (2) hendaklah dizahirkan oleh Bank hanya \n",
      "bagi maksud menyenggara rekod akaun antarabangsa, melaksanakan \n",
      "matlamat utamanya atau menjalankan fungsi utamanya di bawah \n",
      "seksyen 5, dan tidak boleh dizahirkan selainnya oleh Bank kepada \n",
      "mana-mana orang.\n",
      "\n",
      " (8) Bagi maksud seksyen ini—\n",
      "\n",
      " (a) “orang” ertinya orang sebenar, apa-apa perbadanan, \n",
      "badan berkanun, pihak berkuasa tempatan, pertubuhan, \n",
      "kesatuan sekerja, koperasi, perkongsian atau apa-apa \n",
      "badan, organisasi, persatuan atau kumpulan orang yang \n",
      "lain, sama ada diperbadankan atau tidak diperbadankan \n",
      "dan sebagai tambahan termasuklah Kerajaan, mana-mana \n",
      "Kerajaan Negeri atau mana-mana kerajaan lain;\n",
      "\n",
      " “rekod akaun antarabangsa” merujuk secara kolektif \n",
      "kepada rekod imbangan pembayaran dan kedudukan \n",
      "pelaburan antarabangsa Malaysia;\n",
      "\n",
      " “rekod imbangan pembayaran” ertinya rekod transaksi \n",
      "ekonomi dan kewangan Malaysia dengan mana-mana \n",
      "negara, wilayah atau tempat di luar Malaysia bagi suatu \n",
      "tempoh yang disifatkan sesuai oleh Bank; \n",
      "\n",
      "\n",
      "\n",
      "Bank Negara Malaysia 71\n",
      "\n",
      " “rekod kedudukan pelaburan antarabangsa” ertinya \n",
      "kedudukan aset dan liabiliti kewangan Malaysia dengan \n",
      "mana-mana negara, wilayah atau tempat di luar Malaysia \n",
      "setakat tarikh yang disifatkan sesuai oleh Bank; dan \n",
      "\n",
      " (b) Bank boleh menentukan—\n",
      "\n",
      " (i) transaksi ekonomi dan kewangan yang boleh \n",
      "dimasukkan atau tidak dimasukkan dalam rekod \n",
      "imbangan pembayaran itu;\n",
      "\n",
      " (ii) aset dan liabiliti kewangan di luar Malaysia yang \n",
      "boleh dimasukkan atau tidak dimasukkan dalam \n",
      "rekod kedudukan pelaburan antarabangsa; dan\n",
      "\n",
      " (iii) mana-mana wilayah atau tempat sebagai terletak di \n",
      "dalam atau di luar Malaysia. \n",
      "\n",
      " (9) Mana-mana orang yang tidak mematuhi kehendak Bank di \n",
      "bawah subseksyen (2), (3) atau (4) melakukan suatu kesalahan \n",
      "dan boleh, apabila disabitkan, didenda tidak melebihi satu juta \n",
      "ringgit.\n",
      "\n",
      "BAHAGIAN XII\n",
      "\n",
      "PERKARA ANTARABANGSA\n",
      "\n",
      "Kerjasama antarabangsa \n",
      "\n",
      "79. Bank boleh—\n",
      "\n",
      " (a) menyertai apa-apa perkiraan, skim, program atau inisiatif \n",
      "dengan mana-mana bank pusat, pihak berkuasa monetari \n",
      "atau institusi kewangan antarabangsa atau pihak berkuasa \n",
      "lain di luar Malaysia untuk menggalakkan kerjasama \n",
      "monetari, kewangan atau ekonomi secara dua hala, \n",
      "serantau atau antarabangsa; atau\n",
      "\n",
      " (b) dengan kelulusan Menteri atas syor Lembaga, membiayai \n",
      "atau memberikan pembiayaan secara keseluruhan atau \n",
      "sebahagiannya bagi perkiraan, skim, program atau inisiatif \n",
      "yang disebut dalam perenggan (a).\n",
      "\n",
      "\n",
      "\n",
      "Undang-Undang Malaysia72 AKTA 701\n",
      "\n",
      "Keanggotaan dalam organisasi antarabangsa\n",
      "\n",
      "Bank hendaklah menjalankan hak dan menunaikan obligasi 80. \n",
      "yang berbangkit daripada—\n",
      "\n",
      " (a) keanggotaan Malaysia dalam Tabung Kewangan Antarabangsa \n",
      "di bawah Akta Perjanjian Bretton Woods 1957 [Akta 472];\n",
      "\n",
      " (b) keanggotaan Bank dalam Lembaga Perkhidmatan Kewangan \n",
      "Islam menurut Akta Lembaga Perkhidmatan Kewangan \n",
      "Islam 2002 [Akta 623]; dan\n",
      "\n",
      " (c) keanggotaan Malaysia atau Bank dalam mana-mana \n",
      "organisasi antarabangsa yang berkenaan dengannya  \n",
      "peruntukan dibuat dalam mana-mana undang-undang \n",
      "persekutuan.\n",
      "\n",
      "Penyertaan dalam Bank Penyelesaian Antarabangsa dan \n",
      "institusi kewangan antarabangsa lain\n",
      "\n",
      "Bank boleh memperoleh, memegang dan menjual syer—81. \n",
      "\n",
      " (a) Bank Penyelesaian Antarabangsa; dan\n",
      "\n",
      " (b) mana-mana institusi kewangan antarabangsa lain,\n",
      "\n",
      "dan menjalankan hak dan menunaikan obligasi yang berbangkit \n",
      "daripada keanggotaannya atau penyertaannya dalam Bank \n",
      "Penyelesaian Antarabangsa dan mana-mana institusi kewangan \n",
      "antarabangsa lain.\n",
      "\n",
      "Peraturan-peraturan atau arahan untuk menunaikan obligasi \n",
      "antarabangsa Kerajaan di bawah Ketetapan Majlis Keselamatan \n",
      "Bangsa-Bangsa Bersatu\n",
      "\n",
      "82.  (1) Jika Majlis Keselamatan Bangsa-Bangsa Bersatu \n",
      "memutuskan, menurut Perkara 41 Piagam Bangsa-Bangsa Bersatu, \n",
      "mengenai langkah yang hendak diambil untuk memberi kuat kuasa \n",
      "kepada mana-mana keputusannya dan menghendaki Kerajaan \n",
      "Malaysia supaya menerima pakai apa-apa langkah itu, Bank \n",
      "boleh, berhubung dengan langkah itu yang dalam fungsi dan tugas \n",
      "Bank, dengan kelulusan Menteri, membuat peraturan-peraturan \n",
      "\n",
      "\n",
      "\n",
      "Bank Negara Malaysia 73\n",
      "\n",
      "mengeluarkan arahan secara bertulis kepada mana-mana institusi \n",
      "kewangan atau golongan institusi kewangan bagi membolehkan \n",
      "langkah itu diterima pakai dengan berkesan. \n",
      "\n",
      " (2) Mana-mana institusi kewangan yang baginya peraturan-\n",
      "peraturan dibuat atau arahan dikeluarkan di bawah subseksyen (1) \n",
      "hendaklah mematuhi peraturan-peraturan atau arahan itu walau \n",
      "apa pun apa-apa kewajipan lain yang dikenakan ke atas institusi \n",
      "kewangan itu oleh mana-mana kontrak atau undang-undang atau \n",
      "perjanjian antarabangsa.\n",
      "\n",
      " (3) Mana-mana institusi kewangan tidak boleh, dalam menjalankan \n",
      "apa-apa tindakan sebagai mematuhi peraturan-peraturan yang dibuat \n",
      "atau arahan yang dikeluarkan di bawah subseksyen (1), dikira \n",
      "sebagai memungkiri mana-mana kontrak atau undang-undang atau \n",
      "perjanjian antarabangsa itu.\n",
      "\n",
      " (4) Mana-mana institusi kewangan yang tidak mematuhi \n",
      "subseksyen (2) melakukan suatu kesalahan dan boleh, apabila \n",
      "disabitkan, didenda tidak melebihi satu ratus ribu ringgit.\n",
      "\n",
      "BAHAGIAN XIII\n",
      "\n",
      "PEGAWAI DAN PEKERJA\n",
      "\n",
      "Pegawai dan pekerja Bank\n",
      "\n",
      "83. (1) Bank boleh melantik mana-mana pegawai dan pekerja \n",
      "sebagaimana yang dianggapnya perlu bagi penjalanan efisien \n",
      "urusan Bank.\n",
      " \n",
      " (2) Pegawai dan pekerja Bank hendaklah memegang jawatan \n",
      "bagi apa-apa tempoh, menerima apa-apa gaji dan elaun dan \n",
      "hendaklah tertakluk kepada apa-apa undang-undang kecil mengenai \n",
      "kelakuan dan tatatertib dan terma dan syarat perkhidmatan lain \n",
      "sebagaimana yang ditentukan oleh Lembaga.\n",
      "\n",
      " (3) Bank boleh, dengan kelulusan Menteri, daripada dana Bank \n",
      "menubuhkan dan menyenggara suatu kumpulan wang pencen dan \n",
      "simpanan untuk pegawai dan pekerjanya yang dalam subseksyen \n",
      "ini termasuklah Gabenor dan Timbalan Gabenor, dan tanggungan \n",
      "mereka. \n",
      "\n",
      "\n",
      "\n",
      "Undang-Undang Malaysia74 AKTA 701\n",
      "\n",
      " (4) Hendaklah terus ada suatu Akaun Kebajikan Kakitangan \n",
      "Bank Negara Malaysia yang hendaklah termasuk amaun yang ada \n",
      "pada kredit Akaun Kebajikan Kakitangan Bank Negara Malaysia \n",
      "yang diwujudkan di bawah subseksyen 15(5) Akta dimansuhkan \n",
      "sebaik sebelum permulaan kuat kuasa Akta ini dan apa-apa amaun \n",
      "lain yang diletakkan pada kredit Akaun Kebajikan Kakitangan \n",
      "Bank Negara Malaysia di bawah Akta ini. \n",
      "\n",
      " (5) Akaun Kebajikan Kakitangan Bank Negara Malaysia \n",
      "hendaklah digunakan bagi apa-apa maksud yang bermanfaat bagi \n",
      "kebajikan pegawai dan pekerja Bank, termasuk tanggungan mereka, \n",
      "sebagaimana yang dari semasa ke semasa diperuntukkan dalam \n",
      "arahan amanah yang akan dikeluarkan oleh Lembaga dengan \n",
      "kelulusan Menteri, dan arahan itu boleh memperuntukkan cara \n",
      "dan tatacara bagi pemberian, pembiayaan atau pembayaran lain \n",
      "daripada Akaun Kebajikan Kakitangan Bank Negara Malaysia.\n",
      "\n",
      "Pembiayaan bagi perumahan, kenderaan, pengajian dan \n",
      "biasiswa \n",
      "\n",
      "84. (1) Tanpa menjejaskan subseksyen 83(4) dan (5), tetapi tertakluk \n",
      "kepada subseksyen (2), (3) dan (4), Bank tidak boleh memberikan \n",
      "pembiayaan kepada seseorang pegawai atau pekerja.\n",
      "\n",
      " (2) Bank boleh memberikan pembiayaan kepada seseorang \n",
      "pegawai atau pekerja atas apa-apa terma dan syarat sebagaimana \n",
      "yang ditentukan oleh Lembaga—\n",
      "\n",
      " (a) bagi membeli, mendirikan, mengubah, mengubahsuaikan atau \n",
      "membesarkan rumah yang didiaminya atau dicadangkan \n",
      "didiaminya;\n",
      "\n",
      " (b) untuk melepaskan suatu gadai janji atau bebanan atas \n",
      "rumah itu; atau\n",
      "\n",
      " (c) bagi pembelian kenderaan.\n",
      "\n",
      " (3) Bank boleh, jika Gabenor berpuas hati bahawa wujud \n",
      "hal keadaan khas atau belas kasihan atau maksudnya sesuai, \n",
      "memberikan pembiayaan kepada seseorang pegawai atau pekerja \n",
      "atas apa-apa terma dan syarat yang ditentukan oleh Gabenor,  yang \n",
      "tidak melebihi pada bila-bila masa suatu amaun yang bersamaan \n",
      "dengan tiga bulan gaji pegawai atau pekerja itu. \n",
      "\n",
      "\n",
      "\n",
      "Bank Negara Malaysia 75\n",
      "\n",
      " (4) Bank boleh memberikan pembiayaan bagi pengajian atau \n",
      "biasiswa kepada mana-mana pegawai atau pekerja Bank atau \n",
      "mana-mana anak, termasuk anak tiri atau anak angkat pegawai atau \n",
      "pekerja itu, atau kepada mana-mana orang yang sesuai, mengikut \n",
      "apa-apa terma dan syarat sebagaimana yang diluluskan oleh \n",
      "Lembaga secara amnya atau dalam mana-mana hal tertentu.\n",
      "\n",
      "Saraan tidak dikaitkan dengan keuntungan\n",
      "\n",
      "85. Tiada gaji, fi, upah atau saraan lain, atau elaun, yang dibayar \n",
      "oleh Bank boleh dikira dengan merujuk kepada keuntungan \n",
      "Bank.\n",
      "\n",
      "BAHAGIAN XIV\n",
      "\n",
      "AM\n",
      "\n",
      "Pemeliharaan kerahsiaan\n",
      "\n",
      "86. (1) Tanpa menjejaskan seksyen 88, dan kecuali bagi maksud \n",
      "melaksanakan kewajipannya atau menjalankan fungsinya atau \n",
      "apabila dikehendaki dengan sah untuk berbuat demikian oleh \n",
      "mana-mana mahkamah atau di bawah mana-mana undang-undang, \n",
      "tiada seorang pun yang menjadi atau pernah menjadi pengarah, \n",
      "pegawai atau pekerja Bank atau anggota Majlis Penasihat Shariah \n",
      "atau mana-mana jawatankuasa yang dilantik di bawah Akta ini \n",
      "boleh menzahirkan kepada mana-mana orang apa-apa maklumat \n",
      "yang berhubungan dengan urusan atau hal ehwal Bank atau \n",
      "sesuatu institusi kewangan atau seseorang pelanggan Bank atau \n",
      "sesuatu institusi kewangan yang diperolehnya dalam melaksanakan \n",
      "kewajipannya atau menjalankan fungsinya.\n",
      "\n",
      " (2) Mana-mana orang yang tidak mematuhi subseksyen (1) \n",
      "melakukan suatu kesalahan dan boleh, apabila disabitkan, didenda \n",
      "tidak melebihi tiga juta ringgit atau dipenjarakan selama tempoh \n",
      "tidak melebihi tiga tahun atau kedua-duanya.\n",
      "\n",
      "Kekebalan\n",
      "\n",
      "87. (1) Tiada tindakan, guaman, pendakwaan atau prosiding lain \n",
      "boleh diambil atau dibawa, dimulakan atau dikekalkan dalam \n",
      "\n",
      "\n",
      "\n",
      "Undang-Undang Malaysia76 AKTA 701\n",
      "\n",
      "mana-mana mahkamah atau di hadapan mana-mana pihak berkuasa \n",
      "lain terhadap—\n",
      "\n",
      " (a) mana-mana pegawai atau pekerja Bank;\n",
      "\n",
      " (b) mana-mana orang yang bertindak menurut undang-undang \n",
      "bagi pihak Bank, atau bagi pihak mana-mana pegawai \n",
      "atau pekerja itu, atas sifatnya sebagai seorang yang \n",
      "bertindak bagi pihak itu; atau\n",
      "\n",
      " (c) mana-mana orang yang dilantik menurut Akta ini, \n",
      "\n",
      "bagi atau oleh sebab, atau berkenaan dengan, apa-apa perbuatan \n",
      "yang dilakukan atau pernyataan yang dibuat atau ditinggalkan \n",
      "daripada dilakukan atau dibuat, atau yang berupa sebagai dilakukan \n",
      "atau dibuat, menurut atau pada melaksanakan, atau yang bermaksud \n",
      "untuk  menurut atau melaksanakan, Akta ini, apa-apa perintah \n",
      "secara bertulis, arahan, petunjuk, notis atau benda lain yang \n",
      "dikeluarkan di bawah Akta ini: \n",
      "\n",
      " Dengan syarat bahawa perbuatan atau pernyataan itu dilakukan \n",
      "atau dibuat, atau ditinggalkan daripada dilakukan atau dibuat, \n",
      "dengan suci hati. \n",
      "\n",
      " (2) Dalam seksyen ini, ungkapan “pegawai” termasuklah \n",
      "Gabenor, Timbalan Gabenor dan pengarah lain. \n",
      "\n",
      "Kuasa untuk melaporkan kesalahan yang disyaki\n",
      "\n",
      "88. (1) Jika Bank semasa menjalankan mana-mana kuasanya, \n",
      "atau menunaikan mana-mana kewajipannya, atau melaksanakan \n",
      "mana-mana fungsinya, di bawah Akta ini, atau di bawah mana-\n",
      "mana undang-undang yang dikuatkuasakan oleh Bank yang disebut \n",
      "dalam Jadual Kedua atau undang-undang bertulis lain, mengesyaki \n",
      "bahawa mana-mana orang telah melakukan mana-mana kesalahan \n",
      "di bawah Akta ini, atau mana-mana Akta yang disebut dalam \n",
      "Jadual Kedua, atau mana-mana undang-undang bertulis lain, maka \n",
      "adalah sah di sisi undang-undang bagi Bank untuk memberikan \n",
      "maklumat mengenai pelakuan itu kepada seorang pegawai polis \n",
      "yang bertanggungjawab bagi sesuatu balai polis atau kepada \n",
      "mana-mana pegawai polis lain, atau untuk menyampaikan apa-apa \n",
      "atau segala maklumat berhubung dengan kesalahan itu kepada \n",
      "mana-mana institusi kewangan atau orang lain yang terjejas \n",
      "\n",
      "\n",
      "\n",
      "Bank Negara Malaysia 77\n",
      "\n",
      "oleh kesalahan itu, atau kepada mana-mana pihak berkuasa atau \n",
      "orang yang mempunyai kuasa untuk menyiasat di bawah, atau \n",
      "menguatkuasakan, peruntukan undang-undang yang di bawahnya \n",
      "kesalahan itu disyaki oleh Bank telah dilakukan.\n",
      "\n",
      " (2) Subseksyen (1) hendaklah mempunyai kuat kuasa dan \n",
      "kesan sepenuhnya, walau apa pun apa-apa jua yang tidak selaras \n",
      "dengannya, atau berlawanan dengannya, dalam Akta itu atau \n",
      "mana-mana undang-undang yang dikuatkuasakan oleh Bank yang \n",
      "disebut dalam Jadual Kedua atau dalam mana-mana undang-undang \n",
      "bertulis lain.\n",
      "\n",
      "Kuasa mengkompaun\n",
      "\n",
      "89. (1) Gabenor boleh, dengan keizinan bertulis Pendakwa Raya, \n",
      "membuat tawaran secara bertulis untuk mengkompaun mana-mana \n",
      "kesalahan yang boleh dihukum di bawah Akta ini atau mana-mana \n",
      "peraturan yang dibuat di bawah Akta ini, dengan menerima daripada \n",
      "orang yang semunasabahnya disyaki telah melakukan kesalahan \n",
      "itu, apa-apa jumlah wang yang difikirkannya patut yang tidak \n",
      "melebihi amaun denda maksimum yang boleh dikenakan terhadap \n",
      "orang itu jika dia telah disabitkan atas kesalahan itu, dalam apa-\n",
      "apa masa sebagaimana yang dinyatakan dalam tawaran itu.\n",
      "\n",
      " (2) Suatu tawaran di bawah subseksyen (1) boleh dibuat pada \n",
      "bila-bila masa selepas kesalahan itu dilakukan, tetapi sebelum \n",
      "apa-apa pendakwaan baginya dimulakan, dan jika amaun yang \n",
      "dinyatakan dalam tawaran itu tidak dibayar dalam masa yang \n",
      "dinyatakan dalam tawaran itu atau dalam apa-apa tempoh yang \n",
      "dilanjutkan yang diberikan oleh Gabenor, pendakwaan bagi \n",
      "kesalahan itu boleh dimulakan pada bila-bila masa selepas itu \n",
      "terhadap orang yang kepadanya tawaran itu dibuat.\n",
      "\n",
      " (3) J ika suatu kesalahan telah dikompaun di  bawah \n",
      "subseksyen (1), tiada pendakwaan boleh dimulakan berkenaan \n",
      "dengan kesalahan itu terhadap orang yang kepadanya tawaran untuk \n",
      "mengkompaun itu telah dibuat, dan apa-apa dokumen atau benda \n",
      "yang disita berkaitan dengan kesalahan itu boleh dilepaskan oleh \n",
      "Bank, tertakluk kepada apa-apa terma dan syarat yang difikirkan \n",
      "patut oleh Bank.\n",
      "\n",
      " (4) Semua wang yang diterima di bawah subseksyen (1) hendaklah \n",
      "dibayar ke dalam Kumpulan Wang Disatukan Persekutuan.\n",
      "\n",
      "\n",
      "\n",
      "Undang-Undang Malaysia78 AKTA 701\n",
      "\n",
      "Pendakwaan\n",
      "\n",
      "90. Tiada pendakwaan berkenaan dengan mana-mana kesalahan \n",
      "di bawah Akta ini boleh dimulakan kecuali oleh atau dengan \n",
      "keizinan bertulis Pendakwa Raya.\n",
      "\n",
      "Kesalahan oleh pertubuhan perbadanan\n",
      "\n",
      "91. (1) Jika sesuatu pertubuhan perbadanan melakukan suatu \n",
      "kesalahan di bawah Akta ini atau mana-mana peraturan yang dibuat \n",
      "di bawah Akta ini, mana-mana orang yang pada masa kesalahan itu \n",
      "dilakukan merupakan seorang pengarah, ketua pegawai eksekutif, \n",
      "ketua pegawai operasi, pengurus, setiausaha atau pegawai lain \n",
      "yang seumpamanya dalam pertubuhan perbadanan itu atau yang \n",
      "berupa sebagai bertindak atas apa-apa sifat sedemikian atau telah \n",
      "dengan apa-apa cara atau apa-apa takat bertanggungjawab bagi \n",
      "pengurusan apa-apa hal ehwal pertubuhan perbadanan itu atau \n",
      "yang membantu dalam pengurusan sedemikian—\n",
      "\n",
      " (a) boleh didakwa secara berasingan atau bersesama dalam \n",
      "prosiding yang sama bersekali dengan pertubuhan \n",
      "perbadanan itu; dan\n",
      "\n",
      " (b) jika pertubuhan perbadanan itu didapati melakukan \n",
      "kesalahan itu, hendaklah disifatkan telah melakukan \n",
      "kesalahan itu melainkan jika, dengan mengambil kira \n",
      "jenis fungsinya atas sifat itu dan bagi segala hal keadaan, \n",
      "dia membuktikan—\n",
      "\n",
      " (i) bahawa kesalahan itu telah dilakukan tanpa \n",
      "pengetahuan, persetujuan atau pembiarannya; \n",
      "dan \n",
      "\n",
      " (ii) bahawa dia telah mengambil segala langkah berjaga-\n",
      "jaga yang munasabah dan telah menjalankan usaha \n",
      "wajar untuk mengelakkan berlakunya kesalahan \n",
      "itu.\n",
      "\n",
      " (2) Jika mana-mana orang di bawah Akta ini boleh dikenakan \n",
      "apa-apa hukuman atau penalti bagi perbuatan, peninggalan, \n",
      "pengabaian atau keingkarannya, dia boleh dikenakan hukuman \n",
      "atau penalti yang sama bagi tiap-tiap perbuatan, peninggalan, \n",
      "\n",
      "\n",
      "\n",
      "Bank Negara Malaysia 79\n",
      "\n",
      "pengabaian atau keingkaran oleh mana-mana pekerja atau ejennya, \n",
      "atau pekerja ejen itu, jika perbuatan, peninggalan, pengabaian \n",
      "atau keingkaran itu telah dilakukan—\n",
      "\n",
      " (a) oleh pekerja orang itu semasa penggajiannya;\n",
      "\n",
      " (b) oleh ejen itu apabila bertindak bagi pihak orang itu; \n",
      "atau \n",
      "\n",
      " (c) oleh pekerja ejen itu semasa penggajian pekerja itu oleh \n",
      "ejen itu atau selainnya bagi pihak ejen itu yang bertindak \n",
      "bagi pihak orang itu. \n",
      "\n",
      "Bank boleh diwakili oleh pegawai atau pekerja Bank dalam \n",
      "prosiding sivil\n",
      "\n",
      "92. Walau apa pun peruntukan mana-mana undang-undang \n",
      "bertulis—\n",
      "\n",
      " (a) dalam mana-mana prosiding sivil oleh atau terhadap Bank; \n",
      "atau\n",
      "\n",
      " (b) dalam mana-mana prosiding sivil lain yang Bank dikehendaki \n",
      "atau dibenarkan oleh mahkamah untuk diwakili, atau \n",
      "untuk didengar, atau selainnya berhak untuk diwakili \n",
      "atau didengar, \n",
      "\n",
      "mana-mana pegawai atau pekerja Bank yang diberi kuasa oleh \n",
      "Gabenor bagi maksud itu, boleh, bagi pihak Bank, memulakan \n",
      "prosiding itu atau hadir sebagai peguam bela dalam prosiding \n",
      "itu dan boleh membuat semua kehadiran dan permohonan dan \n",
      "melakukan semua perbuatan berkenaan dengan prosiding itu bagi \n",
      "pihak Bank.\n",
      "\n",
      "Fi dan caj\n",
      "\n",
      "93. Tertakluk kepada subseksyen 69(2), Bank boleh mengenakan \n",
      "apa-apa fi atau caj yang difikirkannya sesuai bagi perkhidmatan \n",
      "yang diberikan oleh Bank atau Majlis Penasihat Shariah berhubung \n",
      "dengan fungsinya di bawah Akta ini atau mana-mana undang-\n",
      "undang bertulis lain.\n",
      "\n",
      "\n",
      "\n",
      "Undang-Undang Malaysia80 AKTA 701\n",
      "\n",
      "Kuasa untuk membuat peraturan-peraturan\n",
      "\n",
      "94. (1) Bank boleh, dengan kelulusan Menteri, membuat peraturan-\n",
      "peraturan bagi penjalanan yang lebih baik matlamat dan maksud \n",
      "Akta ini.\n",
      "\n",
      " (2) Tanpa menjejaskan keluasan subseksyen (1), peraturan-\n",
      "peraturan boleh dibuat—\n",
      "\n",
      " (a) untuk menguatkuasakan seksyen 78;\n",
      "\n",
      " (b) untuk mengadakan peruntukan bagi penalti pentadbiran \n",
      "menurut seksyen 98;\n",
      "\n",
      " (c) untuk memperuntukkan bahawa apa-apa perbuatan atau \n",
      "peninggalan yang melanggar mana-mana peruntukan \n",
      "peraturan-peraturan itu jadi suatu kesalahan; dan\n",
      "\n",
      " (d) untuk mengadakan peruntukan bagi pengenaan penalti bagi \n",
      "apa-apa kesalahan di bawah peraturan-peraturan itu yang \n",
      "tidak boleh melebihi satu juta ringgit atau pemenjaraan \n",
      "bagi suatu tempoh tidak melebihi satu tahun atau kedua-\n",
      "duanya.\n",
      "\n",
      "Kuasa untuk mengeluarkan garis panduan, dsb.\n",
      "\n",
      "95. Bank boleh, bagi—\n",
      "\n",
      " (a) melaksanakan matlamatnya dan menjalankan fungsinya \n",
      "atau melakukan urusan atau hal ehwalnya;\n",
      "\n",
      " (b) menguatkuasakan sepenuhnya mana-mana peruntukan Akta \n",
      "ini; atau\n",
      "\n",
      " (c) pelaksanaan lanjut, lebih baik atau lebih mudah peruntukan \n",
      "Akta ini,\n",
      "\n",
      "secara amnya berkenaan dengan Akta ini, atau berkenaan dengan \n",
      "mana-mana peruntukan tertentu Akta ini, atau secara amnya \n",
      "berkenaan dengan penjalanan Bank, mengeluarkan apa-apa garis \n",
      "panduan, undang-undang kecil, pekeliling, piawaian atau notis \n",
      "sebagaimana yang dianggap perlu atau suai manfaat oleh Bank.\n",
      "\n",
      "Pengecualian\n",
      "\n",
      "96. Menteri boleh, atas syor Bank dan dengan syarat bahawa ia \n",
      "tidak bertentangan dengan matlamat dan fungsi Bank, melalui \n",
      "perintah yang disiarkan dalam Warta, mengecualikan mana-mana \n",
      "\n",
      "\n",
      "\n",
      "Bank Negara Malaysia 81\n",
      "\n",
      "orang tertentu atau mana-mana golongan, kategori atau perihalan \n",
      "orang, daripada kesemua atau mana-mana peruntukan Akta ini, \n",
      "bagi apa-apa tempoh masa, dan tertakluk kepada apa-apa syarat, \n",
      "sebagaimana yang ditentukan oleh Menteri dalam perintah itu.\n",
      "\n",
      "Kuasa untuk meminda Jadual\n",
      "\n",
      "97. Menteri boleh, atas syor Bank, dari semasa ke semasa \n",
      "melalui perintah yang disiarkan dalam Warta meminda mana-\n",
      "mana peruntukan dalam Jadual Pertama, Kedua atau Ketiga dan \n",
      "apabila disiarkan sedemikian, peruntukan itu sebagaimana yang \n",
      "dipinda, hendaklah mula berkuat kuasa dan berkesan sepenuhnya \n",
      "dan hendaklah disifatkan menjadi bahagian penting Akta ini dari \n",
      "tarikh penyiaran itu, atau dari tarikh terkemudian sebagaimana \n",
      "yang ditentukan dalam perintah itu.\n",
      "\n",
      "Kuasa untuk mengenakan penalti pentadbiran\n",
      "\n",
      "98. (1) Bank boleh, melalui peraturan-peraturan yang dikeluarkan \n",
      "di bawah seksyen 94, mengenakan penalti pentadbiran terhadap \n",
      "mana-mana orang bagi apa-apa kelewatan dalam mematuhi apa-apa \n",
      "arahan, garis panduan, piawaian, pekeliling, spesifikasi, perintah \n",
      "atau notis yang dikeluarkan oleh Bank berkenaan dengan mana-\n",
      "mana peruntukan Akta ini.\n",
      "\n",
      " (2) Bank hendaklah, sebelum membuat keputusan untuk \n",
      "mengenakan apa-apa penalti pentadbiran terhadap mana-mana \n",
      "orang, menyampaikan kepada orang itu suatu notis bertulis yang \n",
      "menghendakinya untuk menunjukkan sebab mengapa penalti \n",
      "pentadbiran itu tidak patut dikenakan terhadapnya.\n",
      "\n",
      " (3) Jika suatu penjelasan yang memuaskan tidak diterima dalam \n",
      "tempoh empat belas hari dari tarikh notis bertulis itu, Bank boleh \n",
      "mengenakan suatu penalti pentadbiran sebanyak amaun yang tidak \n",
      "melebihi lima ratus ringgit bagi setiap hari ketidakpatuhan itu \n",
      "dan amaun itu tidak boleh secara keseluruhannya melebihi lima \n",
      "ribu ringgit.\n",
      "\n",
      "\n",
      "\n",
      "Undang-Undang Malaysia82 AKTA 701\n",
      "\n",
      "BAHAGIAN XV\n",
      "\n",
      "PEMANSUHAN, KECUALIAN DAN PERALIHAN \n",
      "\n",
      "Pemansuhan\n",
      "\n",
      "99. Akta Bank Negara Malaysia 1958 dimansuhkan. \n",
      "\n",
      "Kecualian dan peralihan\n",
      "\n",
      "100. Walau pun Akta Bank Negara Malaysia 1958 dimansuhkan \n",
      "di bawah seksyen 99—\n",
      "\n",
      " (a) Bahagian III Akta dimansuhkan hendaklah terus mempunyai \n",
      "kuat kuasa dan kesan sepenuhnya sehingga tarikh yang \n",
      "ditetapkan oleh Menteri mengikut subseksyen 1(2) bagi \n",
      "permulaan kuat kuasa Bahagian VIII Akta ini; \n",
      "\n",
      " (b) subperenggan 30(1)(oo)(ii), (iii), (iiia), (iv) dan (v) Akta \n",
      "dimansuhkan hendaklah terus mempunyai kuat kuasa \n",
      "dan kesan sepenuhnya sehingga tarikh yang ditetapkan \n",
      "oleh Menteri melalui pemberitahuan dalam Warta bagi \n",
      "pemansuhan itu berkuat kuasa;\n",
      "\n",
      " (c) modal Bank di bawah Akta dimansuhkan yang pada \n",
      "permulaan kuat kuasa Akta ini ialah satu ratus juta \n",
      "ringgit yang amaun dua puluh juta ringgit merupakan \n",
      "modal Bank yang dilanggan dan dibayar oleh Kerajaan \n",
      "di bawah subseksyen 6(2) Akta dimansuhkan semasa \n",
      "penubuhan Bank dan amaun tambahan lapan puluh juta \n",
      "ringgit yang dilanggan dan dibayar kemudiannya oleh \n",
      "Kerajaan menurut subseksyen 6(3) Akta dimansuhkan \n",
      "hendaklah terus menjadi modal Bank di bawah Akta \n",
      "ini;\n",
      "\n",
      " (d) orang yang memegang jawatan di bawah Akta dimansuhkan \n",
      "sebaik sebelum permulaan kuat kuasa Akta ini \n",
      "sebagai—\n",
      "\n",
      " (i) Gabenor;\n",
      "\n",
      " (ii) Timbalan Gabenor;\n",
      "\n",
      " (iii) pengarah; atau\n",
      "\n",
      " (iv) pegawai atau pekerja Bank,\n",
      "\n",
      "  hendaklah disifatkan telah dilantik di bawah Akta ini \n",
      "dan hendaklah terus memegang jawatan itu bagi tempoh \n",
      "\n",
      "\n",
      "\n",
      "Bank Negara Malaysia 83\n",
      "\n",
      "jawatan orang itu yang belum habis tempohnya di bawah \n",
      "Akta dimansuhkan pada masa Akta itu dimansuhkan \n",
      "di bawah seksyen 99;\n",
      "\n",
      " (e) Ibu Pejabat dan mana-mana cawangan yang dibuka, atau \n",
      "mana-mana ejen, koresponden atau wakil yang dilantik \n",
      "di bawah Akta dimansuhkan hendaklah disifatkan telah \n",
      "dibuka dan dilantik di bawah atau mengikut Akta ini;\n",
      "\n",
      " (f) Majlis Penasihat Syariah yang ditubuhkan dan anggota-\n",
      "anggotanya yang dilantik di bawah Akta dimansuhkan \n",
      "hendaklah disifatkan ditubuhkan dan dilantik, mengikut \n",
      "mana-mana yang berkenaan, di bawah atau mengikut \n",
      "Akta ini;\n",
      "\n",
      " (g) mata wang kertas dan syiling yang dikeluarkan di bawah \n",
      "Akta dimansuhkan dan yang sah diperlakukan sebaik \n",
      "sebelum permulaan kuat kuasa Akta ini hendaklah terus \n",
      "sah diperlakukan di Malaysia pada nilai muka sebagaimana \n",
      "yang diperuntukkan dalam seksyen 24 Akta dimansuhkan \n",
      "dan tiap-tiap kontrak, jualan, bayaran, bil, nota, instrumen \n",
      "dan jaminan bagi wang dan tiap-tiap transaksi, urus \n",
      "niaga, perkara dan benda yang berhubungan dengan wang \n",
      "atau melibatkan bayaran, atau liabiliti untuk membayar, \n",
      "apa-apa wang yang jika tidak kerana perenggan ini \n",
      "akan menjadi telah dilakukan, disempurnakan, dibuat, \n",
      "diselesaikan dan didapati dalam, dan berhubung dengan \n",
      "mata wang kertas dan syiling yang dikeluarkan di bawah \n",
      "Akta dimansuhkan hendaklah disifatkan telah dilakukan, \n",
      "disempurnakan, dibuat, diselesaikan dan didapati dengan \n",
      "sah, dalam dan berhubung dengan mata wang kertas dan \n",
      "syiling yang dikeluarkan di bawah Akta ini;\n",
      "\n",
      " (h) mata wang kertas dan syiling yang dikeluarkan di bawah \n",
      "Akta dimansuhkan yang terhenti menjadi sah diperlakukan \n",
      "hendaklah tidak terjejas oleh Akta ini dan apa-apa obligasi \n",
      "Bank yang berhubungan dengan mata wang kertas dan \n",
      "syiling di bawah Akta dimansuhkan hendaklah terus \n",
      "berkuat kuasa di bawah Akta ini;\n",
      "\n",
      " (i) perundangan subsidiari dan apa-apa kelulusan, arahan, \n",
      "keputusan, pengecualian, arahan amanah, syor, penentuan \n",
      "dan tindakan eksekutif lain yang dibuat atau dilakukan \n",
      "di bawah Akta dimansuhkan dan berkuat kuasa atau \n",
      "mempunyai kesan sebaik sebelum permulaan kuat \n",
      "kuasa Akta ini, hendaklah disifatkan telah dibuat atau \n",
      "\n",
      "\n",
      "\n",
      "Undang-Undang Malaysia84 AKTA 701\n",
      "\n",
      "dilakukan di bawah peruntukan yang bersamaan Akta ini, \n",
      "dan hendaklah terus mempunyai kuat kuasa dan kesan \n",
      "sepenuhnya berhubung dengan orang yang kepadanya ia \n",
      "terpakai sehingga dipinda atau digantikan;\n",
      "\n",
      " (j) apa-apa arahan, notis atau pekeliling yang dikeluarkan, \n",
      "atau apa-apa perbuatan atau benda yang telah dilakukan, \n",
      "oleh Bank berhubung dengan perniagaan kewangan \n",
      "Islam, atau apa-apa keputusan yang telah dibuat oleh \n",
      "Majlis Penasihat Syariah yang ditubuhkan di bawah \n",
      "seksyen 16B Akta dimansuhkan sebelum permulaan kuat \n",
      "kuasa Akta ini hendaklah disifatkan telah dikeluarkan, \n",
      "dilakukan atau dibuat dengan sah di bawah Akta ini \n",
      "dan hendaklah terus mempunyai kuat kuasa dan kesan \n",
      "sepenuhnya berhubung dengan orang yang kepadanya \n",
      "ia terpakai sehingga dipinda atau digantikan;\n",
      "\n",
      " (k) apa-apa sekuriti yang diterbitkan oleh Bank di bawah—\n",
      "\n",
      " (i) subperenggan 30(1)(bb)(i) Akta dimansuhkan dan \n",
      "apa-apa hak atau liabiliti yang berhubungan dengan \n",
      "sekuriti itu hendaklah berterusan di bawah Akta \n",
      "dimansuhkan sehingga obligasi itu dilepaskan; \n",
      "dan\n",
      "\n",
      " (ii) subperenggan 30(1)(bbb)(i) Akta dimansuhkan dan \n",
      "apa-apa hak atau liabiliti yang berhubungan dengan \n",
      "sekuriti itu hendaklah disifatkan sebagai terus \n",
      "diterbitkan di bawah atau mengikut Akta ini;\n",
      "\n",
      " (l) semua transaksi, urus niaga, kontrak, surat kuasa wakil atau \n",
      "perkiraan yang disempurnakan atau dibuat menurut undang-\n",
      "undang dan semua perniagaan yang dilakukan menurut \n",
      "undang-undang, di bawah atau mengikut Akta dimansuhkan \n",
      "dengan mana-mana orang lain hendaklah disifatkan telah \n",
      "disempurnakan, dibuat atau dilakukan menurut undang-\n",
      "undang dan secara sah, di bawah atau mengikut Akta \n",
      "ini, dan dengan demikian itu, apa-apa hak atau liabiliti \n",
      "di bawah transaksi, urus niaga atau urusan itu yang wujud \n",
      "sebaik sebelum permulaan kuat kuasa Akta ini, hendaklah \n",
      "disifatkan sebagai terus menurut undang-undang dan sah \n",
      "di bawah Akta ini; \n",
      "\n",
      " (m) tiada apa jua pun boleh menjejaskan liabiliti mana-mana \n",
      "orang untuk didakwa atau dihukum bagi kesalahan yang \n",
      "dilakukan di bawah Akta dimansuhkan sebaik sebelum \n",
      "permulaan kuat kuasa Akta ini;\n",
      "\n",
      "\n",
      "\n",
      "Bank Negara Malaysia 85\n",
      "\n",
      " (n) apa-apa prosiding undang-undang, pendakwaan jenayah, \n",
      "penyiasatan atau prosiding tatatertib yang belum selesai \n",
      "di bawah Akta dimansuhkan hendaklah diteruskan \n",
      "di bawah Akta dimansuhkan;\n",
      "\n",
      " (o) mana-mana pertubuhan perbadanan, rumah penjelasan, \n",
      "biro kredit atau mana-mana sistem yang ditubuhkan atau \n",
      "dikendalikan oleh Bank di bawah Akta dimansuhkan \n",
      "hendaklah disifatkan telah ditubuhkan atau dikendalikan \n",
      "di bawah atau mengikut Akta ini;\n",
      "\n",
      " (p) apa-apa sekuriti atau syer yang dilanggan, diperoleh \n",
      "atau dipegang oleh Bank di bawah Akta dimansuhkan \n",
      "hendaklah disifatkan telah dilanggan, diperoleh atau \n",
      "dipegang oleh Bank menurut undang-undang dan sah \n",
      "di bawah atau mengikut Akta ini;\n",
      "\n",
      " (q) apa-apa surat ikatan amanah atau surat ikatan yang \n",
      "dikeluarkan atau disempurnakan di bawah Akta \n",
      "dimansuhkan hendaklah disifatkan telah dikeluarkan atau \n",
      "disempurnakan menurut undang-undang dan secara sah \n",
      "di bawah atau mengikut Akta ini;\n",
      "\n",
      " (r) apa-apa rizab yang disimpan oleh institusi perbankan \n",
      "atau bank Islam di Bank menurut perenggan 37(1)(c)\n",
      "atau (d) Akta dimansuhkan, mengikut mana-mana \n",
      "yang berkenaan, hendaklah disifatkan telah disimpan \n",
      "di bawah atau mengikut Akta ini;\n",
      "\n",
      " (s) apa-apa obligasi menurut apa-apa pemberian, pinjaman \n",
      "atau bayaran lain yang dibuat oleh Bank di bawah \n",
      "Akaun Kebajikan Kakitangan Bank Negara Malaysia \n",
      "yang ditubuhkan di bawah subseksyen 15(5) atau apa-apa \n",
      "biasiswa yang diberikan oleh Bank di bawah seksyen 49 \n",
      "Akta dimansuhkan hendaklah terus berkuat kuasa di bawah \n",
      "Akta dimansuhkan sehingga obligasi itu dilepaskan; \n",
      "\n",
      " (t) apa-apa pinjaman yang diberikan oleh Bank di bawah \n",
      "seksyen 49 Akta dimansuhkan hendaklah terus berkuat \n",
      "kuasa di bawah Akta dimansuhkan sehingga pinjaman \n",
      "itu diselesaikan;\n",
      "\n",
      " (u) Kumpulan Wang Rizab Am yang ditubuhkan di bawah \n",
      "seksyen 7 Akta dimansuhkan, apa-apa kumpulan wang \n",
      "pencen dan simpanan yang ditubuhkan di bawah \n",
      "subseksyen 15(3) Akta dimansuhkan dan Akaun Kebajikan \n",
      "Kakitangan Bank Negara Malaysia yang ditubuhkan \n",
      "\n",
      "\n",
      "\n",
      "Undang-Undang Malaysia86 AKTA 701\n",
      "\n",
      "di bawah subseksyen 15(5) Akta dimansuhkan hendaklah \n",
      "disifatkan telah ditubuhkan di bawah atau mengikut Akta \n",
      "ini dan apa-apa wang yang ada dalam atau kena dibayar \n",
      "kepada kumpulan wang itu hendaklah dipindahkan kepada \n",
      "dan disifatkan menjadi sebahagian daripada Kumpulan \n",
      "Wang Rizab Am, kumpulan wang pencen dan simpanan \n",
      "dan Akaun Kebajikan Kakitangan Bank Negara Malaysia, \n",
      "mengikut mana-mana yang berkenaan, yang ditubuhkan \n",
      "di bawah Akta ini;\n",
      "\n",
      " (v) apa-apa harta alih, harta tak alih dan aset yang dibeli, \n",
      "diperoleh, dipajak atau dipegang oleh Bank di bawah \n",
      "Akta dimansuhkan hendaklah disifatkan telah dibeli, \n",
      "diperoleh, dipajak atau dipegang di bawah atau mengikut \n",
      "Akta ini;\n",
      "\n",
      " (w) apa-apa sebutan mengenai Akta dimansuhkan dalam mana-\n",
      "mana undang-undang bertulis hendaklah ditafsirkan sebagai \n",
      "sebutan mengenai Akta ini dan apa-apa sebutan mengenai \n",
      "mana-mana peruntukan tertentu Akta dimansuhkan dalam \n",
      "mana-mana undang-undang bertulis hendaklah ditafsirkan \n",
      "sebagai sebutan mengenai peruntukan Akta ini yang \n",
      "hampir-hampir bersamaan dengan peruntukan tertentu \n",
      "itu; \n",
      "\n",
      " (x) apa-apa keanggotaan Bank dalam mana-mana organisasi \n",
      "atau pada mana-mana jawatankuasa atau suruhanjaya \n",
      "yang dilantik oleh Kerajaan atau penyertaan dalam \n",
      "mana-mana kerjasama atau skim dua hala, serantau atau \n",
      "antarabangsa di bawah Akta dimansuhkan, mengikut \n",
      "mana-mana yang berkenaan, hendaklah terus berkuat \n",
      "kuasa di bawah Akta ini bagi tempoh yang belum habis \n",
      "bagi keanggotaan atau penyertaan itu;\n",
      "\n",
      " (y) apa-apa perbuatan yang dikehendaki dilakukan \n",
      "di bawah Akta dimansuhkan hendaklah disifatkan sebagai \n",
      "dikehendaki dilakukan di bawah atau mengikut Akta \n",
      "ini; dan\n",
      "\n",
      " (z) apa-apa hak, faedah, keistimewaan, obligasi atau liabiliti \n",
      "lain yang diperoleh, terakru atau ditanggung di bawah \n",
      "Akta dimansuhkan, termasuk apa-apa obligasi untuk \n",
      "memelihara kerahsiaan, tidak terjejas oleh Akta ini dan \n",
      "hendaklah terus berkuat kuasa seolah-olah Akta ini telah \n",
      "tidak diperbuat.\n",
      "\n",
      "\n",
      "\n",
      "Bank Negara Malaysia 87\n",
      "\n",
      "JADUAL PERTAMA\n",
      "\n",
      "[Seksyen 21 dan 23]\n",
      "\n",
      "1. Melainkan jika diperuntukkan selainnya dalam Akta ini, Lembaga \n",
      "hendaklah melantik mana-mana anggota untuk bertindak sebagai pengerusi \n",
      "untuk mempengerusikan mesyuarat jawatankuasa itu.\n",
      "\n",
      "2. Seseorang anggota mana-mana jawatankuasa boleh pada bila-bila masa \n",
      "meletakkan jawatannya dengan memberikan suatu notis bertulis sekurang-\n",
      "kurangnya tiga puluh hari kepada Bank.\n",
      "\n",
      "3. Peruntukan mengenai kuorum dan kekerapan mesyuarat bagi jawatankuasa \n",
      "hendaklah seperti yang berikut: \n",
      "\n",
      "Jawatankuasa\n",
      "\n",
      "(1)\n",
      "\n",
      "Kuorum\n",
      "\n",
      "(2)\n",
      "\n",
      "Kekerapan\n",
      "mesyuarat\n",
      "\n",
      "(3)\n",
      "\n",
      "Jawatankuasa\n",
      "Tadbir Urus \n",
      "Lembaga\n",
      "\n",
      "Tidak kurang daripada dua per tiga \n",
      "anggota Jawatankuasa Tadbir Urus \n",
      "Lembaga\n",
      "\n",
      "Sekurang-\n",
      "kurangnya \n",
      "dua kali \n",
      "setahun\n",
      "\n",
      "Jawatankuasa\n",
      "Audit Lembaga\n",
      "\n",
      "Tidak kurang daripada dua per tiga \n",
      "anggota Jawatankuasa Audit Lembaga\n",
      "\n",
      "Sekurang-\n",
      "kurangnya \n",
      "empat kali \n",
      "setahun\n",
      "\n",
      "Jawatankuasa \n",
      "Risiko Lembaga\n",
      "\n",
      "Tidak kurang daripada dua per tiga \n",
      "anggota Jawatankuasa Risiko Lembaga\n",
      "\n",
      "Sekurang-\n",
      "kurangnya \n",
      "dua kali \n",
      "setahun\n",
      "\n",
      "Jawatankuasa \n",
      "Dasar Monetari \n",
      "\n",
      "Tidak kurang daripada dua per tiga \n",
      "anggota Jawatankuasa Dasar Monetari \n",
      "yang dua daripadanya mestilah Gabenor \n",
      "(atau semasa ketiadaan Gabenor, \n",
      "Timbalan Gabenor yang ditetapkan oleh \n",
      "Lembaga di bawah subseksyen 15(7)) \n",
      "dan seorang Timbalan Gabenor\n",
      "\n",
      "Sekurang-\n",
      "kurangnya \n",
      "enam kali \n",
      "setahun \n",
      "\n",
      "4. Walau apa pun ruang (3) perenggan 3, jawatankuasa hendaklah juga \n",
      "bermesyuarat pada masa dan apabila dikehendaki atau diarahkan oleh \n",
      "pengerusi.\n",
      "\n",
      "5. Pengerusi boleh membenarkan seseorang anggota untuk menggunakan \n",
      "video secara langsung, rangkaian televisyen atau kemudahan komunikasi atau \n",
      "multimedia lain yang sesuai untuk mengambil bahagian dalam mana-mana \n",
      "mesyuarat jawatankuasa jika, sebelum mesyuarat itu, anggota itu, melalui \n",
      "pemberitahuan kepada pengerusi, telah memohon kebenaran itu dan anggota \n",
      "itu hendaklah dikira sebagai hadir bagi mesyuarat itu.\n",
      "\n",
      "\n",
      "\n",
      "Undang-Undang Malaysia88 AKTA 701\n",
      "\n",
      "6. Kecuali bagi Jawatankuasa Dasar Monetari yang ditubuhkan di bawah \n",
      "seksyen 23, suatu ketetapan secara bertulis, yang ditandatangani oleh semua \n",
      "anggota jawatankuasa lain adalah sah dan berkesan seolah-olah ia telah diluluskan \n",
      "pada mesyuarat mana-mana jawatankuasa yang diadakan dan dijalankan dengan \n",
      "sewajarnya dan apa-apa ketetapan sedemikian boleh terdiri daripada beberapa \n",
      "dokumen dalam bentuk yang serupa, setiap satunya ditandatangani oleh seorang \n",
      "anggota atau lebih. \n",
      "\n",
      "7. Melainkan jika diperuntukkan selainnya dalam Akta ini, mana-mana \n",
      "jawatankuasa boleh bertindak walau apa pun kekosongan dalam keanggotaannya \n",
      "dan prosidingnya tidak boleh menjadi tidak sah oleh—\n",
      "\n",
      " (a) ketiadaan mana-mana anggota;\n",
      "\n",
      " (b) apa-apa kecacatan yang diketahui kemudiannya mengenai pelantikan \n",
      "atau kelayakan mana-mana anggota atau penubuhan jawatankuasa; \n",
      "\n",
      " (c) apa-apa peninggalan, kecacatan atau ketidakteraturan dalam mengadakan \n",
      "atau mengendalikan sesuatu mesyuarat; atau\n",
      "\n",
      " (d) kehadiran atau penyertaan seseorang yang bukan seorang anggota \n",
      "jawatankuasa.\n",
      "\n",
      "8. Sesuatu jawatankuasa boleh memutuskan atas apa-apa sebab tertentu atau \n",
      "dalam keadaan tertentu bahawa keputusan jawatankuasa itu akan dibuat melalui \n",
      "undian. \n",
      "\n",
      "9. Apa-apa nasihat yang diberikan oleh mana-mana anggota, pertimbangtelitian \n",
      "dan keputusan mesyuarat jawatankuasa termasuk apa-apa pandangan yang \n",
      "bertentangan anggota atau apa-apa keputusan apa-apa undian di bawah \n",
      "perenggan 8 hendaklah direkodkan dalam minit mesyuarat. Pertimbangtelitian, \n",
      "prosiding dan keputusan jawatankuasa itu adalah rahsia dan kecuali sebagaimana \n",
      "yang diperuntukkan selainnya dalam seksyen 86 tidak boleh dizahirkan kepada \n",
      "mana-mana orang di luar jawatankuasa itu. \n",
      "\n",
      "10. Pengerusi boleh, dengan persetujuan semua anggota jawatankuasa, \n",
      "mengundang mana-mana pegawai atau orang untuk hadir dan mengambil \n",
      "bahagian dalam perbincangan jawatankuasa itu. \n",
      "\n",
      "11. Sesuatu jawatankuasa boleh, jika difikirkannya perlu dalam menjalankan \n",
      "fungsinya, memanggil mana-mana pegawai atau orang untuk memberikan \n",
      "apa-apa maklumat atau dokumen yang berkaitan dengan fungsi jawatankuasa \n",
      "itu. \n",
      "\n",
      "12. Sesuatu jawatankuasa boleh melantik seseorang pegawai untuk bertindak \n",
      "sebagai setiausaha jawatankuasa itu.\n",
      "\n",
      "13. Lembaga boleh membuat undang-undang kecil tambahan mengenai tatacara \n",
      "yang berhubungan dengan mesyuarat jawatankuasa itu. \n",
      "\n",
      "\n",
      "\n",
      "Bank Negara Malaysia 89\n",
      "\n",
      "JADUAL KEDUA\n",
      "\n",
      "[Seksyen 28]\n",
      "\n",
      "1. Akta Bank Islam 1983 [Akta 276]\n",
      "\n",
      "2. Akta Takaful 1984 [Akta 312] \n",
      "\n",
      "3. Akta Bank dan Institusi-Institusi Kewangan 1989 [Akta 372]\n",
      "\n",
      "4. Akta Insurans 1996 [Akta 553] \n",
      "\n",
      "5. Akta Pengurupan Wang 1998 [Akta 577]\n",
      "\n",
      "6. Akta Pencegahan Pengubahan Wang Haram dan Pencegahan Pembiayaan \n",
      "Keganasan 2001 [Akta 613]\n",
      "\n",
      "7. Akta Institusi Kewangan Pembangunan 2002 [Akta 618]\n",
      "\n",
      "8. Akta Sistem Pembayaran 2003 [Akta 627] \n",
      "\n",
      "JADUAL KETIGA\n",
      "\n",
      "[Seksyen 36]\n",
      "\n",
      "Tafsiran\n",
      "\n",
      "1. Dalam Jadual ini, melainkan jika konteksnya menghendaki makna yang \n",
      "lain—\n",
      "\n",
      " “kepentingan berdaftar” ertinya apa-apa hak atau kepentingan—\n",
      "\n",
      " (a) mengenai suatu gadaian yang baginya seksyen 108 Akta Syarikat 1965 \n",
      "terpakai dan yang didaftarkan dengan sewajarnya mengikut seksyen \n",
      "itu; \n",
      "\n",
      " (b) mengenai tanah yang telah didaftarkan dengan sewajarnya di bawah \n",
      "Akta Hakmilik Strata 1985 [Akta 318], Kanun Tanah Negara \n",
      "[Akta 56/1965], Ordinan Tanah yang berhubungan dengan Negeri Sabah \n",
      "[Sabah Cap. 68] atau Kanun Tanah yang berhubungan dengan Negeri \n",
      "Sarawak [Cap. 81];\n",
      "\n",
      " (c) mengenai suatu kapal yang didaftarkan dengan sewajarnya di bawah \n",
      "Ordinan Perkapalan Saudagar 1952 [Ord. 70/1952]; atau\n",
      "\n",
      " (d) yang didaftarkan dengan sewajarnya di bawah mana-mana undang-\n",
      "undang lain atau di bawah undang-undang asing;\n",
      "\n",
      " “kepentingan mengenai tanah” ertinya—\n",
      "\n",
      " (a) apa-apa kepentingan mengenai tanah, sama ada berdaftar atau boleh \n",
      "didaftar, termasuk kepentingan yang baginya Akta Hakmilik Strata \n",
      "1985 terpakai dan yang boleh dipindahmilikkan di bawah Bahagian \n",
      "Empat Belas Kanun Tanah Negara atau yang berhubungan dengan \n",
      "Negeri Sabah, Bahagian V Ordinan Tanah atau yang berhubungan \n",
      "dengan Negeri Sarawak, Bahagian VII Kanun Tanah;\n",
      "\n",
      "\n",
      "\n",
      "Undang-Undang Malaysia90 AKTA 701\n",
      "\n",
      " (b) apa-apa kaveat Pendaftar, kaveat pemegang lien atau kaveat lain; \n",
      "atau\n",
      "\n",
      " (c) apa-apa hak dan kelayakan lain yang berhubungan dengan tanah;\n",
      "\n",
      " “obligasi didedahkan” ertinya sesuatu obligasi atau liabiliti yang terhutang \n",
      "kepada penanggung obligasi oleh pemindah di bawah atau berkenaan dengan \n",
      "aset dan yang obligasi atau liabiliti didedahkan oleh pemindah kepada penerima \n",
      "pindahan secara bertulis sebelum tarikh peletakhakan;\n",
      "\n",
      " “pemindah” mempunyai erti yang sama yang diberikan kepadanya dalam \n",
      "subseksyen 36(18);\n",
      "\n",
      " “penanggung obligasi” ertinya mana-mana orang yang berhutang suatu tugas \n",
      "atau obligasi dalam apa-apa bentuk, sama ada pada masa sekarang atau pada \n",
      "masa hadapan, atau sama ada terletak hak atau kontingen, kepada pemindah di \n",
      "bawah atau berkenaan dengan sesuatu aset, termasuk tanpa batasan, seseorang \n",
      "penanggung obligasi di bawah mana-mana perkiraan pembiayaan atau cagaran \n",
      "atau hak dalam tindakan yang lain;\n",
      "\n",
      " “penerima pindahan” mempunyai erti yang sama yang diberikan kepadanya \n",
      "dalam subseksyen 36(18);\n",
      "\n",
      " “perintah peletakhakan” ertinya suatu perintah yang dibuat di bawah \n",
      "subperenggan 32(1)(c)(iii) dan termasuklah suatu perintah peletakhakan gantian \n",
      "yang dibuat di bawah perenggan 11 Jadual ini;\n",
      "\n",
      " “Pihak Berkuasa Pendaftaran” termasuklah—\n",
      "\n",
      " (a) pendaftar mana-mana mahkamah;\n",
      "\n",
      " (b) Pendaftar Syarikat yang ditetapkan di bawah subseksyen 7(1) Akta \n",
      "Syarikat 1965;\n",
      "\n",
      " (c) Pendaftar sebagaimana yang ditakrifkan di bawah seksyen 5 Kanun \n",
      "Tanah Negara, Pendaftar sebagaimana yang ditakrifkan di bawah \n",
      "seksyen 4 Ordinan Tanah yang berhubungan dengan Negeri Sabah \n",
      "atau Pendaftar di bawah Kanun Tanah yang berhubungan dengan \n",
      "Negeri Sarawak, mengikut mana-mana yang berkenaan;\n",
      "\n",
      " (d) pendaftar kapal Malaysia yang dilantik di bawah subseksyen 14(1) \n",
      "Ordinan Perkapalan Saudagar 1952 dan termasuklah Pendaftar Besar \n",
      "Kapal yang dilantik di bawah subseksyen 14(1) Ordinan itu; atau\n",
      "\n",
      " (e) depositori pusat, seseorang ejen depositori yang diberi kuasa atau mana-\n",
      "mana orang yang menyenggara suatu daftar atau rekod keempunyaan, \n",
      "kepentingan atau sekuriti;\n",
      "\n",
      " “tarikh peletakhakan” ertinya tarikh yang dinyatakan dalam suatu perintah \n",
      "peletakhakan sebagai tarikh yang apa-apa perniagaan, aset, liabiliti, atau \n",
      "syer atau instrumen modal lain terletak hak atau disifatkan terletak hak pada \n",
      "penerima pindahan;\n",
      "\n",
      " “tuntutan” ertinya apa-apa tuntutan, pembelaan, tuntutan balas, tolakan, \n",
      "prosiding undang-undang atau prosiding lain, tindakan, ekuiti atau apa-apa \n",
      "\n",
      "\n",
      "\n",
      "Bank Negara Malaysia 91\n",
      "\n",
      "jenis kepentingan ekuiti oleh seseorang penanggung obligasi atau mana-mana \n",
      "pihak ketiga terhadap seseorang pemindah, atau berkenaan dengan apa-apa \n",
      "perniagaan, aset atau liabiliti, sama ada pada masa sekarang atau pada masa \n",
      "hadapan, atau sama ada terletak hak atau kontingen;\n",
      "\n",
      " “tuntutan didedahkan” ertinya apa-apa tuntutan khusus yang didedahkan \n",
      "oleh pemindah kepada penerima pindahan secara bertulis sebelum tarikh \n",
      "peletakhakan.\n",
      "\n",
      "Perintah peletakhakan\n",
      "\n",
      "2. (1) Jika Bank membuat suatu perintah peletakhakan, perintah peletakhakan \n",
      "itu hendaklah mengikut Jadual ini.\n",
      "\n",
      " (2) Sesuatu perintah peletakhakan boleh dalam apa-apa bentuk sebagaimana \n",
      "yang ditentukan oleh Bank dari semasa ke semasa dan hendaklah berkuat kuasa \n",
      "mengikut Jadual ini.\n",
      "\n",
      " (3) Sesuatu perintah peletakhakan yang menyatakan bahawa apa-apa \n",
      "perniagaan, aset, liabiliti, syer atau instrumen modal lain yang hendak diletak \n",
      "hak hendaklah menjadi keterangan muktamad mengenai peletakhakan itu pada \n",
      "tarikh peletakhakan.\n",
      "\n",
      " (4) Jika suatu perintah peletakhakan dibuat, pemindah dan penerima pindahan, \n",
      "mengikut mana-mana yang berkenaan, tidak dikehendaki untuk—\n",
      "\n",
      " (a) memaklumkan atau mendapatkan kelulusan pemegang syer atau \n",
      "pemiutang mereka dalam suatu mesyuarat agung atau selainnya walau \n",
      "apa pun apa-apa kontrak atau undang-undang termasuk tanpa batasan \n",
      "seksyen 132C, 132D dan 132E Akta Syarikat 1965 atau apa-apa jua \n",
      "dalam dokumen konstituen mereka; atau\n",
      "\n",
      " (b) membuat suatu tawaran pengambilan alih atau dikehendaki memperoleh \n",
      "syer pemegang syer lain pemindah itu atau peminjamnya walau \n",
      "apa pun apa-apa jua yang berlawanan dalam apa-apa kontrak atau \n",
      "undang-undang.\n",
      "\n",
      " (5) Sesuatu perintah peletakhakan boleh menyekat atau mencegah penamatan \n",
      "apa-apa perjanjian atau transaksi mengikut termanya tertakluk kepada syarat \n",
      "yang dikenakan dalam perintah peletakhakan itu.\n",
      "\n",
      " (6) Sesuatu perintah peletakhakan boleh membuat peruntukan lain bagi \n",
      "maksud, atau berkaitan dengan, peletakhakan apa-apa perniagaan, aset, liabiliti, \n",
      "syer atau instrumen modal lain pemindah itu.\n",
      "\n",
      " (7) Sesuatu perintah peletakhakan boleh menghendaki atau membenarkan—\n",
      "\n",
      " (a) seseorang pemindah untuk memberikan maklumat dan bantuan kepada \n",
      "seorang penerima pindahan; atau\n",
      "\n",
      " (b) seseorang penerima pindahan untuk memberikan maklumat dan bantuan \n",
      "kepada pemindah.\n",
      "\n",
      "\n",
      "\n",
      "Undang-Undang Malaysia92 AKTA 701\n",
      "\n",
      " (8) Mana-mana orang yang mematuhi perintah peletakhakan bagi maksud \n",
      "subperenggan (7) tidak boleh dianggap sebagai melanggar apa-apa undang-\n",
      "undang, kontrak, perjanjian atau perkiraan.\n",
      "\n",
      " (9) Kuasa di bawah Jadual ini adalah tanpa prejudis kepada, dan sebagai \n",
      "tambahan kepada mana-mana hak dan kuasa lain Bank.\n",
      "\n",
      "Notis\n",
      "\n",
      "3. (1) Bank hendaklah menyampaikan perintah peletakhakan yang dibuat \n",
      "di bawah subperenggan 32(1)(c)(iii) kepada pemindah dan penerima pindahan \n",
      "itu mengikut apa-apa cara yang difikirkan sesuai oleh Bank.\n",
      "\n",
      " (2) Pengarah sesuatu institusi kewangan hendaklah memaklumkan anggota \n",
      "institusi kewangan itu bahawa suatu perintah di bawah subperenggan 32(1)(c)(iii)\n",
      "telah dibuat terhadap institusi kewangan itu tidak lewat daripada tiga puluh \n",
      "hari selepas perintah itu diterima oleh institusi kewangan itu.\n",
      "\n",
      " (3) Tiada pengarah sesuatu institusi kewangan boleh bertanggungan untuk \n",
      "didakwa dalam mana-mana mahkamah atau di hadapan mana-mana pihak \n",
      "berkuasa lain kerana tidak dapat menjalankan tugasnya di bawah subseksyen \n",
      "132(1) Akta Syarikat 1965 berhubung dengan mana-mana perbuatan yang perlu \n",
      "bagi melaksanakan peletakhakan perniagaan, aset, liabiliti, syer atau instrumen \n",
      "modal lain institusi kewangan itu dari tarikh perintah di bawah subperenggan \n",
      "32(1)(c)(iii) dibuat oleh Bank.\n",
      "\n",
      "Peletakhakan perniagaan, aset atau liabiliti\n",
      "\n",
      "4. (1) Tiada peruntukan dalam mana-mana undang-undang termasuk \n",
      "subseksyen 4(3) Akta Undang-Undang Sivil 1956 [Akta 67] atau perjanjian \n",
      "yang mengehadkan atau melarang hak pemindah atau yang menghendaki apa-\n",
      "apa persetujuan untuk menyerah hak, menjual, melupus, membuat novasi atau \n",
      "memindah apa-apa perniagaan, aset atau liabiliti hendaklah setakat yang apa-\n",
      "apa had, larangan atau kehendak persetujuan berkenaan, mempunyai apa-apa \n",
      "pemakaian atau kesan berkenaan dengan apa-apa perintah yang dibuat oleh \n",
      "Bank di bawah subperenggan 32(1)(c)(iii).\n",
      "\n",
      " (2) Jika Bank membuat suatu perintah peletakhakan—\n",
      "\n",
      " (a) dalam hal jika suatu aset dipegang oleh pemindah secara berseorangan \n",
      "sebaik sebelum tarikh peletakhakan itu, aset itu hendaklah pada dan \n",
      "dari tarikh peletakhakan itu terletak hak pada penerima pindahan itu; \n",
      "dan\n",
      "\n",
      " (b) dalam hal jika aset itu dipegang bersesama oleh pemindah dengan \n",
      "seorang lain sebaik sebelum tarikh peletakhakan itu, aset itu hendaklah \n",
      "pada dan dari tarikh peletakhakan itu terletak hak pada penerima \n",
      "pindahan mengikut subperenggan (5) bersesama dengan orang lain \n",
      "itu.\n",
      "\n",
      "\n",
      "\n",
      "Bank Negara Malaysia 93\n",
      "\n",
      " (3) Jika aset yang terletak hak pada seseorang penerima pindahan mengikut \n",
      "Jadual ini termasuklah apa-apa pembiayaan, penerima pindahan itu disifatkan \n",
      "telah memberikan pembiayaan itu atau mengeluarkan jaminan itu, mengikut \n",
      "mana-mana yang berkenaan, walau pun pembiayaan atau jaminan itu telah \n",
      "digunakan atau dikeluarkan oleh pemindah itu.\n",
      "\n",
      " (4) Jika cagaran bagi apa-apa pembiayaan yang terletak hak di bawah \n",
      "Jadual ini pada penerima pindahan termasuklah suatu syer—\n",
      "\n",
      " (a) bagi maksud perenggan 6A(9)(b) Akta Syarikat 1965, penerima pindahan \n",
      "itu, hendaklah disifatkan memegang suatu kepentingan mengenai \n",
      "syer hanya melalui cagaran bagi maksud suatu transaksi yang dibuat \n",
      "dalam perjalanan urusan biasa berkaitan dengan peminjaman wang; \n",
      "dan\n",
      "\n",
      " (b) kepentingan penerima pindahan mengenai syer hendaklah diabaikan \n",
      "bagi maksud seksyen 6A Akta Syarikat 1965.\n",
      "\n",
      " (5) Penerima pindahan hendaklah, pada dan dari tarikh peletakhakan apa-apa \n",
      "aset, memperoleh segala hak, hakmilik dan kepentingan pemindah pada masa \n",
      "sekarang dan pada masa hadapan, dan obligasi yang didedahkan berkenaan \n",
      "dengan, aset itu, bebas daripada apa-apa bebanan, kaveat, perintah larangan, \n",
      "injunksi atau tuntutan kecuali apa-apa kepentingan berdaftar yang wujud pada \n",
      "tarikh peletakhakan dan tuntutan didedahkan.\n",
      "\n",
      " (6) Pada dan dari tarikh peletakhakan bagi suatu liabiliti—\n",
      "\n",
      " (a) penerima pindahan hendaklah mengambil alih dan diletak hak dengan \n",
      "liabiliti itu dan menjadi bertanggungan, dan bukannya pemindah, \n",
      "untuk melepaskan liabiliti itu;\n",
      "\n",
      " (b) pemindah hendaklah disifatkan telah dibebaskan dan dilepaskan daripada \n",
      "liabiliti itu; dan\n",
      "\n",
      " (c) mana-mana pendeposit, pemiutang atau orang lain yang kepadanya \n",
      "dihutang liabiliti itu hendaklah disifatkan telah memberikan persetujuan \n",
      "kepada dan menerima pengambilalihan liabiliti itu oleh penerima \n",
      "pindahan.\n",
      "\n",
      " (7) Tanpa menjejaskan subperenggan (1), (2), (3), (4), (5) dan (6) berhubung \n",
      "dengan mana-mana perniagaan, aset atau liabiliti, mengikut mana-mana yang \n",
      "berkenaan, yang terletak hak pada penerima pindahan—\n",
      "\n",
      " (a) setiap penanggung obligasi berkenaan dengan aset itu, hendaklah \n",
      "disifatkan telah membebaskan dan melepaskan pemindah daripada \n",
      "segala obligasi didedahkan berkenaan dengan aset itu;\n",
      "\n",
      " (b) mana-mana orang yang mempunyai apa-apa hak, hakmilik atau \n",
      "kepentingan mengenai aset itu, hendaklah disifatkan telah memberikan \n",
      "persetujuan kepada dan menerima peletakhakan itu pada penerima \n",
      "pindahan bagi kesemua obligasi didedahkan berkenaan dengan aset \n",
      "itu;\n",
      "\n",
      " (c) sesuatu perjanjian atau surat cara sedia ada, sama ada dalam bentuk \n",
      "suatu surat ikatan, wasiat atau selainnya, atau perintah mana-mana \n",
      "\n",
      "\n",
      "\n",
      "Undang-Undang Malaysia94 AKTA 701\n",
      "\n",
      "mahkamah, yang di bawah atau menurut kuasanya, pemindah \n",
      "mempunyai hakmilik atau pemunyaan atau hak ke atas aset itu \n",
      "hendaklah ditafsirkan dan hendaklah mempunyai kuat kuasa \n",
      "seolah-olah bagi apa-apa sebutan dalamnya mengenai pemindah telah \n",
      "digantikan dengan sebutan mengenai penerima pindahan;\n",
      "\n",
      " (d) sesuatu perjanjian atau surat cara sedia ada berhubung dengan aset \n",
      "yang baginya pemindah ialah pihak kepadanya hendaklah mempunyai \n",
      "kuat kuasa setakat yang ia terpakai bagi obligasi didedahkan, tuntutan \n",
      "didedahkan dan kepentingan berdaftar seolah-olah penerima pindahan \n",
      "itu telah menjadi suatu pihak kepadanya dan bukannya pemindah;\n",
      "\n",
      " (e) sesuatu arahan, perintah, mandat, surat kuasa wakil, kuasa, aku janji \n",
      "atau persetujuan sedia ada berhubung dengan suatu akaun yang \n",
      "diberikan kepada pemindah, sama ada berseorangan atau bersesama \n",
      "dengan seorang yang lain, hendaklah disifatkan mempunyai kuat \n",
      "kuasa, seolah-olah diberikan kepada penerima pindahan itu sama \n",
      "ada berseorangan atau bersesama dengan seorang lain itu, mengikut \n",
      "mana-mana yang berkenaan;\n",
      "\n",
      " (f) jika apa-apa cagaran dipegang sebaik sebelum tarikh peletakhakan oleh \n",
      "pemindah, atau oleh seorang penama atau pemegang amanah bagi \n",
      "pemindah, sebagai cagaran untuk pembayaran atau pelepasan apa-apa \n",
      "liabiliti bagi mana-mana orang, cagaran itu hendaklah dipegang oleh \n",
      "penerima pindahan, penama atau pemegang amanah itu, mengikut \n",
      "mana-mana yang berkenaan, sebagai penama, atau pemegang amanah \n",
      "bagi, penerima pindahan itu dengan keutamaan yang sama seperti \n",
      "pemindah itu, dan setakat yang liabiliti itu, hendaklah tersedia kepada \n",
      "penerima pindahan sebagai cagaran bagi pembayaran atau pelepasan \n",
      "liabiliti itu, dan jika mana-mana cagaran itu meliputi pendahuluan \n",
      "masa hadapan atau liabiliti oleh masa hadapan, hendaklah dipegang \n",
      "oleh dan tersedia kepada penerima pindahan itu sebagai cagaran \n",
      "bagi pendahuluan masa hadapan oleh atau liabiliti masa hadapan \n",
      "pada penerima pindahan itu mengikut cara yang sama dalam segala \n",
      "hal sebagai pendahuluan masa hadapan oleh atau liabiliti masa \n",
      "hadapan pada pemindah itu dijamin oleh itu sebaik sebelum tarikh \n",
      "peletakhakan;\n",
      "\n",
      " (g) sebagai tambahan kepada apa-apa hak, kuasa atau remedi lain yang \n",
      "diberikan kepada penerima pindahan itu dalam Jadual ini, penerima \n",
      "pindahan hendaklah mempunyai hak, kuasa dan remedi (dan khususnya \n",
      "hak dan kuasa mengenai pengambilan atau penentangan prosiding \n",
      "undang-undang atau prosiding lain atau pembuatan atau penentangan \n",
      "permohonan kepada mana-mana pihak berkuasa) bagi menentukan, \n",
      "melindungi atau menguatkuasakan hak, hakmilik, kepentingan dan \n",
      "obligasi didedahkan yang terletak hak pada penerima pindahan \n",
      "termasuk hak, hakmilik, kepentingan atau obligasi itu berkenaan \n",
      "dengan mana-mana prosiding undang-undang atau prosiding lain atau \n",
      "permohonan kepada mana-mana pihak berkuasa yang belum selesai \n",
      "sebaik sebelum tarikh peletakhakan oleh atau terhadap pemindah, \n",
      "dan penentangan mana-mana tuntutan didedahkan atau kepentingan \n",
      "berdaftar seolah-olah mereka pada setiap masa mempunyai hak, \n",
      "hakmilik, kepentingan atau obligasi penerima pindahan;\n",
      "\n",
      "\n",
      "\n",
      "Bank Negara Malaysia 95\n",
      "\n",
      " (h) sesuatu penghakiman atau award yang didapati oleh pemindah dan \n",
      "tidak diselesaikan sepenuhnya sebelum tarikh peletakhakan hendaklah \n",
      "dikuatkuasakan oleh penerima pindahan itu;\n",
      "\n",
      " (i) tiada pemerolehan oleh penerima pindahan atau pelupusan oleh pemindah, \n",
      "menjadi tidak sah atau boleh batal disebabkan oleh pemakaian mana-\n",
      "mana undang-undang; \n",
      "\n",
      " (j) jika apa-apa—\n",
      "\n",
      " (i) keuntungan atau pulangan lain; atau\n",
      "\n",
      " (ii) faedah,\n",
      "\n",
      "  yang kena dibayar di bawah mana-mana perjanjian hendak ditentukan \n",
      "dengan merujuk kepada kos dana atau kadar pinjaman asas atau rujukan \n",
      "lain oleh pemindah, atau tidak lagi boleh ditentukan sebagaimana \n",
      "yang diperuntukkan dalam perjanjian, pulangan atau faedah kena \n",
      "dibayar itu di bawah perjanjian itu hendaklah sebagaimana yang \n",
      "ditetapkan oleh peraturan-peraturan yang dibuat di bawah seksyen \n",
      "94 atau dalam apa-apa hal tertentu, sebagaimana yang dipersetujui \n",
      "oleh penerima pindahan dengan penanggung obligasi;\n",
      "\n",
      " (k) jika jagaan bagi apa-apa barang, benda atau dokumen dipegang oleh \n",
      "pemindah sebagai baili sebaik sebelum tarikh peletakhakan itu, barang, \n",
      "benda atau dokumen itu hendaklah disifatkan telah berpindah kepada \n",
      "penerima pindahan itu dan hak dan obligasi didedahkan bagi pemindah \n",
      "itu di bawah mana-mana kontrak bailmen hendaklah berpindah bebas \n",
      "daripada apa-apa tuntutan kecuali tuntutan didedahkan;\n",
      "\n",
      " (l) suatu instrumen boleh niaga atau perintah bagi pembayaran wang yang \n",
      "diberikan kepada atau dikeluarkan atas atau diterima oleh pemindah, \n",
      "sama ada diberikan, dikeluarkan atau diterima sebelum, pada atau \n",
      "selepas tarikh peletakhakan itu, hendaklah mempunyai kesan yang \n",
      "sama pada dan dari tarikh peletakhakan itu, seolah-olah ia telah \n",
      "diberikan kepada atau dikeluarkan atas atau diterima oleh penerima \n",
      "pindahan itu; dan \n",
      "\n",
      " (m) apa-apa akaun antara pemindah dengan pelanggannya hendaklah \n",
      "menjadi suatu akaun antara penerima pindahan dengan pelanggan \n",
      "itu, tertakluk kepada syarat dan insiden sebelum itu, dan akaun \n",
      "itu hendaklah disifatkan bagi segala maksud sebagai suatu akaun \n",
      "berterusan tunggal.\n",
      "\n",
      " (8) Tanpa menjejaskan subperenggan (1), (2), (3), (4), (5), (6) dan (7), \n",
      "sesuatu peletakhakan apa-apa perniagaan, aset atau liabiliti pada penerima \n",
      "pindahan tidak boleh, melainkan jika diperuntukkan selainnya dalam perintah \n",
      "peletakhakan itu—\n",
      "\n",
      " (a) dianggap sebagai meletakkan—\n",
      "\n",
      " (i) penerima pindahan itu;\n",
      "\n",
      " (ii) pemindah itu;\n",
      "\n",
      " (iii) mana-mana orang yang mendapat hakmilik daripada penerima \n",
      "pindahan; atau\n",
      "\n",
      " (iv) mana-mana orang lain,\n",
      "\n",
      "\n",
      "\n",
      "Undang-Undang Malaysia96 AKTA 701\n",
      "\n",
      "  yang mungkir atau ingkar di bawah, apa-apa kontrak, perjanjian, \n",
      "aku janji, jaminan, tanggung rugi atau perkiraan lain, atau pecah \n",
      "kepercayaan;\n",
      "\n",
      " (b) dianggap sebagai menimbulkan suatu hak atau kewajipan bagi mana-\n",
      "mana orang untuk—\n",
      "\n",
      " (i) menamatkan, membatalkan, mengubahsuaikan atau menggantikan \n",
      "sesuatu perjanjian;\n",
      "\n",
      " (ii) menguatkuasakan atau mempercepat pelaksanaan sesuatu obligasi; \n",
      "atau\n",
      "\n",
      " (iii) menghendaki pelaksanaan sesuatu obligasi yang tidak secara lain \n",
      "berbangkit untuk pelaksanaan;\n",
      "\n",
      " (c) dianggap sebagai meletakkan pemindah, penerima pindahan atau \n",
      "mana-mana orang lain dalam melanggar mana-mana undang-undang \n",
      "atau perjanjian yang melarang, menyekat atau mengawal selia \n",
      "penyerahhakan, penjualan, pelupusan atau pemindahan milik apa-apa \n",
      "aset atau penzahiran maklumat;\n",
      "\n",
      " (d) melepaskan seorang penjamin daripada sesuatu obligasi;\n",
      "\n",
      " (e) menidaksahkan atau melepaskan sesuatu kontrak atau cagaran; atau\n",
      "\n",
      " (f) dianggap sebagai menamatkan, membatalkan atau mengubah apa-apa \n",
      "hak, keistimewaan, pengecualian (termasuk apa-apa pengecualian \n",
      "cukai) atau keutamaan yang pemindah berhak kepadanya dan yang \n",
      "menurut kuasa Jadual ini telah terletak hak pada penerima pindahan \n",
      "itu.\n",
      "\n",
      " (9) Tanpa menjejaskan keluasan subperenggan (1), (2), (3), (4), (5), (6), \n",
      "(7) dan (8) tetapi tertakluk kepada perenggan 4, dalam mana-mana prosiding \n",
      "yang dibawa oleh atau terhadap penerima pindahan berkenaan dengan apa-\n",
      "apa perniagaan, aset atau liabiliti yang terletak hak pada penerima pindahan \n",
      "menurut Jadual ini, tiada seorang pun boleh, melainkan jika tuntutan itu ialah \n",
      "suatu tuntutan didedahkan, menimbulkan sebagai tuntutan atau pembelaan \n",
      "kepada prosiding itu mana-mana perkara yang berikut:\n",
      "\n",
      " (a) bahawa, orang itu ada atau mungkin ada suatu tolakan atau tuntutan \n",
      "balas terhadap pemindah atau mana-mana orang lain;\n",
      "\n",
      " (b) bahawa mana-mana orang yang mempunyai kepentingan terdahulu, \n",
      "sama ada di sisi undang-undang atau ekuiti, dalam perniagaan, aset \n",
      "atau liabiliti;\n",
      "\n",
      " (c) bahawa mana-mana orang yang menjadi pihak kepada atau mengambil \n",
      "bahagian dengan apa-apa fraud, desakan, paksaan, pengaruh tidak \n",
      "wajar atau salah nyata;\n",
      "\n",
      " (d) bahawa terdapat kesilapan undang-undang atau fakta;\n",
      "\n",
      " (e) bahawa mana-mana perjanjian yang berkaitan dengan perniagaan, aset \n",
      "atau liabiliti itu adalah bagi melaksanakan maksud yang menyalahi \n",
      "undang-undang atau bahawa apa-apa balasan yang diberikan atau \n",
      "diterima di bawahnya adalah menyalahi undang-undang, atau matlamat \n",
      "perjanjian itu yang membentuk atau menjadi sebahagian daripada \n",
      "perniagaan, aset, liabiliti itu adalah menyalahi undang-undang;\n",
      "\n",
      "\n",
      "\n",
      "Bank Negara Malaysia 97\n",
      "\n",
      " (f) bahawa terdapat kegagalan balasan secara menyeluruh atau tiada \n",
      "balasan atau terdapat apa-apa balasan yang gagal sebahagiannya;\n",
      "\n",
      " (g) bahawa orang yang menyempurnakan, disifatkan telah menyempurnakan \n",
      "atau menjadi pihak kepada, mana-mana dokumen hakmilik bagi aset \n",
      "atau kontrak bertulis yang menjadi keterangan, membangkitkan atau \n",
      "menjamin aset atau liabiliti itu, tidak memahami dokumen itu;\n",
      "\n",
      " (h) bahawa orang yang menyempurnakan, disifatkan telah menyempurnakan \n",
      "atau menjadi pihak kepada, mana-mana dokumen hakmilik bagi aset \n",
      "itu atau kontrak bertulis yang menjadi keterangan, membangkitkan \n",
      "atau menjamin aset atau liabiliti itu tidak mempunyai keupayaan \n",
      "atau kuasa untuk melakukannya; dan\n",
      "\n",
      " (i) bahawa terdapat kekhilafan dalam mana-mana penyata akaun yang \n",
      "dikeluarkan oleh pemindah atau mana-mana orang lain berkenaan \n",
      "dengan liabiliti atau apa-apa hutang yang berkaitan dengan aset \n",
      "itu.\n",
      "\n",
      "Peletakhakan syer atau instrumen modal lain\n",
      "\n",
      "5. (1) Sesuatu perintah peletakhakan hendaklah memperuntukkan peletakhakan \n",
      "apa-apa syer atau instrumen modal lain suatu institusi kewangan yang telah \n",
      "terhenti menjadi berdaya maju atau yang dianggap oleh Bank berkemungkinan \n",
      "menjadi tidak berdaya maju di bawah subperenggan 32(1)(c)(iii) untuk berkuat \n",
      "kuasa bebas daripada apa-apa amanah, liabiliti, tuntutan bertentangan atau \n",
      "bebanan lain.\n",
      "\n",
      " (2) Sesuatu perintah peletakhakan bagi peletakhakan mana-mana syer atau \n",
      "instrumen modal lain boleh memperuntukkan—\n",
      "\n",
      " (a) penghapusan hak pemegang waran atau instrumen lain yang memberi \n",
      "hak kepada pemegang untuk memperoleh syer dalam institusi \n",
      "kewangan yang telah terhenti menjadi berdaya maju atau yang \n",
      "dianggap oleh Bank berkemungkinan menjadi tidak berdaya maju \n",
      "di bawah subperenggan 32(1)(c)(iii);\n",
      "\n",
      " (b) institusi kewangan yang telah terhenti menjadi berdaya maju atau yang \n",
      "dianggap oleh Bank berkemungkinan menjadi tidak berdaya maju di \n",
      "bawah subperenggan 32(1)(c)(iii) untuk tidak menerbitkan apa-apa \n",
      "syer, waran selanjutnya, atau sekuriti lain yang boleh diubah atau \n",
      "ditukar kepada syer dalam institusi kewangan itu;\n",
      "\n",
      " (c) apa-apa syer atau instrumen modal suatu institusi kewangan yang \n",
      "telah terhenti menjadi berdaya maju atau yang dianggap oleh Bank \n",
      "berkemungkinan menjadi tidak berdaya maju di bawah subperenggan \n",
      "32(1)(c)(iii) untuk diubah daripada satu bentuk atau golongan kepada \n",
      "yang lain; atau\n",
      "\n",
      " (d) penyingkiran daripada senarai rasmi mana-mana pasaran saham syer \n",
      "pemindah itu atau sesuatu golongan sekuriti tertentu pemindah itu.\n",
      "\n",
      "\n",
      "\n",
      "Undang-Undang Malaysia98 AKTA 701\n",
      "\n",
      "Pemeliharaan hak\n",
      "\n",
      "6. (1) Seseorang yang dihalang daripada membuat suatu tuntutan terhadap \n",
      "mana-mana penerima pindahan atau dihalang daripada membangkitkan suatu \n",
      "pembelaan terhadap penerima pindahan itu di bawah Jadual ini, adalah berhak \n",
      "meminta pampasan daripada pemindah itu berkenaan dengan tuntutan itu.\n",
      "\n",
      " (2) Jika mahkamah berpuas hati bahawa orang yang disebut dalam \n",
      "subperenggan (1) mempunyai tuntutan terhadap pemindah itu termasuk mana-\n",
      "mana kepentingan ekuiti terdahulu mengenai aset itu yang mungkin dapat \n",
      "diperdapatkan atau dituntut oleh orang itu tetapi dihalang oleh subperenggan \n",
      "4(9) orang itu adalah berhak mendapat pampasan daripada pemindah itu \n",
      "berkenaan dengan tuntutan itu yang pada pertimbangan mahkamah adil dan \n",
      "munasabah.\n",
      "\n",
      "Peruntukan tambahan mengenai tanah\n",
      "\n",
      "7. (1) Walau apa pun peruntukan Kanun Tanah Negara, Ordinan Tanah yang \n",
      "berhubungan dengan Negeri Sabah, Kanun Tanah yang berhubungan dengan \n",
      "Negeri Sarawak atau mana-mana undang-undang lain, apa-apa kaveat, perintah \n",
      "larangan atau apa-apa bebanan lain yang telah dimasukkan, diendorskan, \n",
      "didaftarkan atau diserah simpan, sebelum, pada atau selepas, tarikh peletakhakan \n",
      "itu tidak boleh menghalang peletakhakan apa-apa kepentingan mengenai tanah \n",
      "pemindah kepada penerima pindahan.\n",
      "\n",
      " (2) Jika suatu perintah peletakhakan meletak hak pada penerima pindahan, \n",
      "apa-apa kepentingan mengenai tanah—\n",
      "\n",
      " (a) di Semenanjung Malaysia, apabila diterima—\n",
      "\n",
      " (i) bayaran fi yang ditetapkan; dan\n",
      "\n",
      " (ii) perintah peletakhakan,\n",
      "\n",
      " Pendaftar di bawah Kanun Tanah Negara hendaklah, tanpa keperluan \n",
      "bagi apa-apa permohonan lanjut atau pemfailan apa-apa dokumen \n",
      "lanjut, membuat suatu memorial pada dokumen hakmilik daftaran \n",
      "dan membuat apa-apa catatan lain dan pada amnya melaksanakan \n",
      "segala hal yang diperlukan untuk menguatkuasakan peletakhakan \n",
      "itu;\n",
      "\n",
      " (b) di Sabah, apabila diterima—\n",
      "\n",
      " (i) bayaran fi yang ditetapkan; dan\n",
      "\n",
      " (ii) perintah peletakhakan,\n",
      "\n",
      "  Pendaftar di bawah Ordinan Tanah yang berhubungan dengan Negeri \n",
      "Sabah hendaklah, tanpa keperluan bagi apa-apa permohonan lanjut \n",
      "atau pemfailan apa-apa dokumen lanjut, membuat suatu memorial \n",
      "pada dokumen hakmilik daftaran dan membuat apa-apa catatan lain \n",
      "dan pada amnya melaksanakan segala hal yang diperlukan untuk \n",
      "menguatkuasakan peletakhakan itu; atau\n",
      "\n",
      "\n",
      "\n",
      "Bank Negara Malaysia 99\n",
      "\n",
      " (c) di Sarawak, apabila diterima—\n",
      "\n",
      " (i) bayaran fi yang ditetapkan; dan\n",
      "\n",
      " (ii) perintah peletakhakan,\n",
      "\n",
      " Pendaftar di bawah Kanun Tanah yang berhubungan dengan Negeri \n",
      "Sarawak hendaklah, tanpa keperluan bagi apa-apa permohonan lanjut \n",
      "atau pemfailan apa-apa dokumen lanjut, membuat suatu memorial \n",
      "pada dokumen hakmilik daftaran dan membuat apa-apa catatan lain \n",
      "dan pada amnya melaksanakan segala hal yang diperlukan untuk \n",
      "menguatkuasakan peletakhakan itu.\n",
      "\n",
      " (3) Walau apa pun apa-apa peruntukan dalam Kanun Tanah Negara, \n",
      "Ordinan Tanah yang berhubungan dengan Negeri Sabah, Kanun Tanah yang \n",
      "berhubungan dengan Negeri Sarawak atau mana-mana undang-undang yang \n",
      "lain, suatu perintah peletakhakan hendaklah mempunyai kuat kuasa untuk \n",
      "meletak hak suatu kepentingan mengenai tanah kepada penerima pindahan \n",
      "itu pada tarikh peletakhakan itu dan hendaklah menjadi keterangan muktamad \n",
      "tentang peletakhakan itu.\n",
      "\n",
      "Pihak Berkuasa Pendaftaran lain hendaklah memberi kuat kuasa kepada \n",
      "perintah peletakhakan\n",
      "\n",
      "8. (1) Walau apa pun peruntukan mana-mana undang-undang lain, mana-mana \n",
      "Pihak Berkuasa Pendaftaran selain Pendaftar di bawah Kanun Tanah Negara, \n",
      "Pendaftar di bawah Ordinan Tanah yang berhubungan dengan Negeri Sabah dan \n",
      "Pendaftar di bawah Kanun Tanah yang berhubungan dengan Negeri Sarawak, \n",
      "hendaklah, apabila diterima—\n",
      "\n",
      " (a) bayaran fi yang ditetapkan; dan\n",
      "\n",
      " (b) perintah peletakhakan,\n",
      "\n",
      "tanpa keperluan bagi apa-apa permohonan lanjut atau pemfailan apa-apa \n",
      "dokumen lanjut, melakukan segala perkara dan membuat segala catatan \n",
      "atau memorial pada mana-mana daftar atau rekod yang disimpan oleh Pihak \n",
      "Berkuasa Pendaftaran sebagaimana yang perlu untuk memberi kuat kuasa \n",
      "kepada peletakhakan mana-mana perniagaan, aset atau liabiliti, syer atau \n",
      "instrumen modal lain yang disebut dalam subperenggan 32(1)(c)(iii) yang \n",
      "baginya perintah peletakhakan itu berkaitan.\n",
      "\n",
      " (2) Bagi maksud perenggan ini, subseksyen 112A(1) Akta Syarikat 1965 \n",
      "hendaklah disifatkan terpakai bagi penerima pindahan seolah-olah perkataan \n",
      "“tiga puluh” dalam subseksyen itu telah digantikan dengan perkataan “seratus \n",
      "lapan puluh”.\n",
      "\n",
      "Penggantian automatik dalam mana-mana prosiding undang-undang atau \n",
      "lain\n",
      "\n",
      "9. Walau apa pun peruntukan mana-mana undang-undang lain, tiap-tiap \n",
      "pendaftar mahkamah hendaklah secara automatik apabila menerima suatu \n",
      "salinan perintah peletakhakan melakukan segala perkara dan membuat segala \n",
      "\n",
      "\n",
      "\n",
      "Undang-Undang Malaysia100 AKTA 701\n",
      "\n",
      "catatan dalam mana-mana daftar atau rekod yang disimpan oleh pendaftar \n",
      "itu sebagaimana yang perlu untuk memberi kuat kuasa kepada penggantian \n",
      "automatik penerima pindahan menggantikan pemindah sebagai pihak dalam \n",
      "mana-mana prosiding undang-undang atau prosiding lain.\n",
      "\n",
      "Kekebalan Pihak Berkuasa Pendaftaran\n",
      "\n",
      "10. Pihak Berkuasa Pendaftaran tidak bertanggungan kepada mana-mana \n",
      "orang berkenaan dengan pembuatan apa-apa memorial pada atau catatan dalam \n",
      "dokumen hakmilik daftar atau apa-apa daftar atau rekod lain yang bergantung \n",
      "pada perintah peletakhakan itu.\n",
      "\n",
      "Perintah peletakhakan gantian\n",
      "\n",
      "11. (1) Bank boleh, melalui perintah yang disiarkan dalam Warta, membuat \n",
      "suatu perintah peletakhakan baru (dalam perenggan ini disebut “perintah \n",
      "peletakhakan gantian”) untuk menggantikan mana-mana perintah peletakhakan \n",
      "yang telah dikeluarkannya terdahulu untuk membetulkan apa-apa peninggalan \n",
      "atau khilaf dalam perintah peletakhakan itu.\n",
      "\n",
      " (2) Apa-apa perintah peletakhakan gantian yang dikeluarkan oleh Bank di \n",
      "bawah subperenggan (1) yang menyatakan bahawa mana-mana perniagaan, \n",
      "aset, liabiliti, syer atau instrumen modal lain telah terletak hak pada penerima \n",
      "pindahan itu hendaklah menjadi keterangan muktamad tentang peletakhakan \n",
      "itu pada tarikh peletakhakan yang dinyatakan dalam perintah peletakhakan \n",
      "gantian itu.\n",
      "\n",
      " (3) Jika mana-mana undang-undang menetapkan suatu tempoh masa yang \n",
      "dalamnya sesuatu peletakhakan apa-apa aset yang dinyatakan sebagai perkara \n",
      "sesuatu perintah peletakhakan gantian yang dibuat di bawah subperenggan (1) \n",
      "hendaklah didaftarkan atau difailkan, tempoh itu hendaklah bermula dari tarikh \n",
      "perintah peletakhakan gantian itu dikeluarkan.\n",
      "\n",
      " (4) Apa-apa tindakan yang dilakukan oleh penerima pindahan, pemindah atau \n",
      "mana-mana orang lain, dengan bergantung pada suatu perintah peletakhakan \n",
      "yang dibuat terdahulu tidak terjejas oleh apa-apa peninggalan atau khilaf \n",
      "yang telah dibetulkan dalam perintah peletakhakan gantian yang dikeluarkan \n",
      "di bawah subperenggan (1).\n",
      "\n",
      " (5) Bagi maksud Akta ini, apa-apa sebutan mengenai perintah peletakhakan \n",
      "hendaklah disifatkan sebagai termasuk suatu sebutan mengenai suatu perintah \n",
      "peletakhakan gantian yang dibuat di bawah subperenggan (1).\n",
      "\n",
      "Pemindahan aset asing dan liabiliti asing\n",
      "\n",
      "12. (1) Perenggan ini terpakai berhubung dengan aset asing dan liabiliti asing \n",
      "yang dipegang oleh pemindah.\n",
      "\n",
      "\n",
      "\n",
      "Bank Negara Malaysia 101\n",
      "\n",
      " (2) Bagi maksud perenggan ini—\n",
      "\n",
      " “aset asing” ertinya aset pemindah di luar Malaysia; \n",
      "\n",
      " “liabiliti asing” ertinya liabiliti pemindah yang akan dilepaskan di luar \n",
      "Malaysia;\n",
      "\n",
      " “undang-undang asing” ertinya undang-undang negara atau wilayah di luar \n",
      "Malaysia yang dalamnya aset pemindah terletak atau liabiliti pemindah akan \n",
      "dilepaskan.\n",
      "\n",
      " (3) Pemindah dan penerima pindahan hendaklah setiap seorang mengambil \n",
      "apa-apa langkah perlu untuk memastikan yang peletakhakan mana-mana aset \n",
      "asing atau liabiliti asing pemindah itu adalah berkuat kuasa di bawah undang-\n",
      "undang asing jika peletakhakan itu tidak berkuat kuasa sepenuhnya menurut \n",
      "kuasa perintah peletakhakan itu.\n",
      "\n",
      " (4) Sehingga peletakhakan aset asing atau liabiliti asing itu berkuat kuasa \n",
      "di bawah undang-undang asing, pemindah itu hendaklah—\n",
      "\n",
      " (a) memegang aset itu sebagai pemegang amanah bagi manfaat penerima \n",
      "pindahan itu bersama-sama dengan apa-apa aset tambahan atau hak \n",
      "yang terakru disebabkan oleh aset asal atau hak; dan\n",
      "\n",
      " (b) melepaskan apa-apa liabiliti bagi pihak penerima pindahan itu.\n",
      "\n",
      " (5) Penerima pindahan mestilah menjelaskan apa-apa perbelanjaan pemindah \n",
      "dalam mematuhi perenggan ini.\n",
      "\n",
      " (6) Sesuatu obligasi yang dikenakan oleh perenggan ini boleh dikuatkuasakan \n",
      "seolah-olah diwujudkan melalui kontrak antara pemindah dengan penerima \n",
      "pindahan itu.\n",
      "\n",
      "\n",
      "\n"
     ]
    }
   ],
   "source": [
    "print(pdf_to_text[pdf_to_text['filename']=='cba2009_02.pdf']['Document_Text'].iloc[0])"
   ]
  },
  {
   "cell_type": "markdown",
   "metadata": {},
   "source": [
    "#### Update pdf_files with text extracted columns"
   ]
  },
  {
   "cell_type": "code",
   "execution_count": 41,
   "metadata": {},
   "outputs": [
    {
     "data": {
      "text/html": [
       "<div>\n",
       "<style scoped>\n",
       "    .dataframe tbody tr th:only-of-type {\n",
       "        vertical-align: middle;\n",
       "    }\n",
       "\n",
       "    .dataframe tbody tr th {\n",
       "        vertical-align: top;\n",
       "    }\n",
       "\n",
       "    .dataframe thead th {\n",
       "        text-align: right;\n",
       "    }\n",
       "</style>\n",
       "<table border=\"1\" class=\"dataframe\">\n",
       "  <thead>\n",
       "    <tr style=\"text-align: right;\">\n",
       "      <th></th>\n",
       "      <th>link</th>\n",
       "      <th>pdf_links</th>\n",
       "      <th>filename</th>\n",
       "      <th>Document_Text</th>\n",
       "    </tr>\n",
       "  </thead>\n",
       "  <tbody>\n",
       "    <tr>\n",
       "      <th>0</th>\n",
       "      <td>https://www.bnm.gov.my/-/akta-bank-negara-mala...</td>\n",
       "      <td>https://www.bnm.gov.my/documents/20124/761712/...</td>\n",
       "      <td>cba2009_02.pdf</td>\n",
       "      <td>\\n\\n\\n\\n\\n\\n\\n\\n\\n\\n\\n\\n\\n\\n\\n\\n\\n\\n\\n\\n\\n\\n\\n...</td>\n",
       "    </tr>\n",
       "    <tr>\n",
       "      <th>1</th>\n",
       "      <td>https://www.bnm.gov.my/-/jadual-perbandingan-b...</td>\n",
       "      <td>https://www.bnm.gov.my/documents/20124/761712/...</td>\n",
       "      <td>FAQ_on_Pembiayaan_Mikro_BM.pdf</td>\n",
       "      <td>\\n\\n\\n\\n\\n\\n\\n\\n\\n\\n\\n\\n\\n\\n\\n\\n\\n\\n\\n\\n\\n\\n\\n...</td>\n",
       "    </tr>\n",
       "    <tr>\n",
       "      <th>2</th>\n",
       "      <td>https://www.bnm.gov.my/-/pembiayaan-mikro-jadu...</td>\n",
       "      <td>https://www.bnm.gov.my/documents/20124/761712/...</td>\n",
       "      <td>Comparative_table_on_Pembiayaan_Mikro_BM.pdf</td>\n",
       "      <td>\\n\\n\\n\\n\\n\\n\\n\\n\\n\\n\\n\\n\\n\\n\\n\\n\\n\\n\\n\\n\\n\\n\\n...</td>\n",
       "    </tr>\n",
       "    <tr>\n",
       "      <th>3</th>\n",
       "      <td>https://www.bnm.gov.my/-/pembiayaan-mikro-jadu...</td>\n",
       "      <td>https://www.bnm.gov.my/documents/20124/761712/...</td>\n",
       "      <td>FAQ_on_Pembiayaan_Mikro_BM.pdf</td>\n",
       "      <td>\\n\\n\\n\\n\\n\\n\\n\\n\\n\\n\\n\\n\\n\\n\\n\\n\\n\\n\\n\\n\\n\\n\\n...</td>\n",
       "    </tr>\n",
       "    <tr>\n",
       "      <th>4</th>\n",
       "      <td>https://www.bnm.gov.my/-/terbitan-terbaharu-bu...</td>\n",
       "      <td>https://www.bnm.gov.my/documents/20124/761709/...</td>\n",
       "      <td>shariah_resolutions_2nd_edition.pdf</td>\n",
       "      <td>\\n\\n\\n\\n\\n\\n\\n\\n\\n\\n\\n\\n\\n\\n\\n\\n\\n\\n\\n\\n\\n\\n\\n...</td>\n",
       "    </tr>\n",
       "    <tr>\n",
       "      <th>...</th>\n",
       "      <td>...</td>\n",
       "      <td>...</td>\n",
       "      <td>...</td>\n",
       "      <td>...</td>\n",
       "    </tr>\n",
       "    <tr>\n",
       "      <th>581</th>\n",
       "      <td>https://www.bnm.gov.my/-/jc3-sc1-ccpt-docs</td>\n",
       "      <td>https://www.bnm.gov.my/documents/20124/3770663...</td>\n",
       "      <td>Guidance-Notes-DDQ-GP3-GP4-10Jan24.pdf</td>\n",
       "      <td>\\n\\n\\n\\n\\n\\n\\n\\n\\n\\n\\n\\n\\n\\n\\n\\n\\n\\n\\n\\n\\n\\n\\n...</td>\n",
       "    </tr>\n",
       "    <tr>\n",
       "      <th>582</th>\n",
       "      <td>https://www.bnm.gov.my/-/ed-spm</td>\n",
       "      <td>https://www.bnm.gov.my/documents/20124/938039/...</td>\n",
       "      <td>ed_Skim_Pembiayaan_Mikro_Policy.pdf</td>\n",
       "      <td>\\n\\n\\n\\n\\n\\n\\n\\n\\n\\n\\n\\n\\n\\n\\n\\n\\n\\n\\n\\n\\n\\n\\n...</td>\n",
       "    </tr>\n",
       "    <tr>\n",
       "      <th>583</th>\n",
       "      <td>https://www.bnm.gov.my/-/sacbnm-226mtg-ruling</td>\n",
       "      <td>https://www.bnm.gov.my/documents/20124/38335/s...</td>\n",
       "      <td>sacbnm-mtg-226.pdf</td>\n",
       "      <td>\\n\\n\\n\\n\\n\\n\\n\\n\\n\\n\\n\\n\\n\\n\\n\\n\\n\\n\\n\\n\\n\\n\\n...</td>\n",
       "    </tr>\n",
       "    <tr>\n",
       "      <th>584</th>\n",
       "      <td>https://www.bnm.gov.my/-/pd-hajah-darurah-en</td>\n",
       "      <td>https://www.bnm.gov.my/documents/20124/938039/...</td>\n",
       "      <td>pd-Hajah-Darurah-Jan2024.pdf</td>\n",
       "      <td>\\n\\n\\n\\n\\n\\n\\n\\n\\n\\n\\n\\n\\n\\n\\n\\n\\n\\n\\n\\n\\n\\n\\n...</td>\n",
       "    </tr>\n",
       "    <tr>\n",
       "      <th>585</th>\n",
       "      <td>https://www.bnm.gov.my/-/pd-hajah-darurah-en</td>\n",
       "      <td>https://www.bnm.gov.my/documents/20124/938039/...</td>\n",
       "      <td>faq-Hajah-Darurah-Jan2024.pdf</td>\n",
       "      <td>\\n\\n\\n\\n\\n\\n\\n\\n\\n\\n\\n\\n\\n\\n\\n\\n\\n\\n\\n\\n\\n\\n\\n...</td>\n",
       "    </tr>\n",
       "  </tbody>\n",
       "</table>\n",
       "<p>586 rows × 4 columns</p>\n",
       "</div>"
      ],
      "text/plain": [
       "                                                  link  \\\n",
       "0    https://www.bnm.gov.my/-/akta-bank-negara-mala...   \n",
       "1    https://www.bnm.gov.my/-/jadual-perbandingan-b...   \n",
       "2    https://www.bnm.gov.my/-/pembiayaan-mikro-jadu...   \n",
       "3    https://www.bnm.gov.my/-/pembiayaan-mikro-jadu...   \n",
       "4    https://www.bnm.gov.my/-/terbitan-terbaharu-bu...   \n",
       "..                                                 ...   \n",
       "581         https://www.bnm.gov.my/-/jc3-sc1-ccpt-docs   \n",
       "582                    https://www.bnm.gov.my/-/ed-spm   \n",
       "583      https://www.bnm.gov.my/-/sacbnm-226mtg-ruling   \n",
       "584       https://www.bnm.gov.my/-/pd-hajah-darurah-en   \n",
       "585       https://www.bnm.gov.my/-/pd-hajah-darurah-en   \n",
       "\n",
       "                                             pdf_links  \\\n",
       "0    https://www.bnm.gov.my/documents/20124/761712/...   \n",
       "1    https://www.bnm.gov.my/documents/20124/761712/...   \n",
       "2    https://www.bnm.gov.my/documents/20124/761712/...   \n",
       "3    https://www.bnm.gov.my/documents/20124/761712/...   \n",
       "4    https://www.bnm.gov.my/documents/20124/761709/...   \n",
       "..                                                 ...   \n",
       "581  https://www.bnm.gov.my/documents/20124/3770663...   \n",
       "582  https://www.bnm.gov.my/documents/20124/938039/...   \n",
       "583  https://www.bnm.gov.my/documents/20124/38335/s...   \n",
       "584  https://www.bnm.gov.my/documents/20124/938039/...   \n",
       "585  https://www.bnm.gov.my/documents/20124/938039/...   \n",
       "\n",
       "                                         filename  \\\n",
       "0                                  cba2009_02.pdf   \n",
       "1                  FAQ_on_Pembiayaan_Mikro_BM.pdf   \n",
       "2    Comparative_table_on_Pembiayaan_Mikro_BM.pdf   \n",
       "3                  FAQ_on_Pembiayaan_Mikro_BM.pdf   \n",
       "4             shariah_resolutions_2nd_edition.pdf   \n",
       "..                                            ...   \n",
       "581        Guidance-Notes-DDQ-GP3-GP4-10Jan24.pdf   \n",
       "582           ed_Skim_Pembiayaan_Mikro_Policy.pdf   \n",
       "583                            sacbnm-mtg-226.pdf   \n",
       "584                  pd-Hajah-Darurah-Jan2024.pdf   \n",
       "585                 faq-Hajah-Darurah-Jan2024.pdf   \n",
       "\n",
       "                                         Document_Text  \n",
       "0    \\n\\n\\n\\n\\n\\n\\n\\n\\n\\n\\n\\n\\n\\n\\n\\n\\n\\n\\n\\n\\n\\n\\n...  \n",
       "1    \\n\\n\\n\\n\\n\\n\\n\\n\\n\\n\\n\\n\\n\\n\\n\\n\\n\\n\\n\\n\\n\\n\\n...  \n",
       "2    \\n\\n\\n\\n\\n\\n\\n\\n\\n\\n\\n\\n\\n\\n\\n\\n\\n\\n\\n\\n\\n\\n\\n...  \n",
       "3    \\n\\n\\n\\n\\n\\n\\n\\n\\n\\n\\n\\n\\n\\n\\n\\n\\n\\n\\n\\n\\n\\n\\n...  \n",
       "4    \\n\\n\\n\\n\\n\\n\\n\\n\\n\\n\\n\\n\\n\\n\\n\\n\\n\\n\\n\\n\\n\\n\\n...  \n",
       "..                                                 ...  \n",
       "581  \\n\\n\\n\\n\\n\\n\\n\\n\\n\\n\\n\\n\\n\\n\\n\\n\\n\\n\\n\\n\\n\\n\\n...  \n",
       "582  \\n\\n\\n\\n\\n\\n\\n\\n\\n\\n\\n\\n\\n\\n\\n\\n\\n\\n\\n\\n\\n\\n\\n...  \n",
       "583  \\n\\n\\n\\n\\n\\n\\n\\n\\n\\n\\n\\n\\n\\n\\n\\n\\n\\n\\n\\n\\n\\n\\n...  \n",
       "584  \\n\\n\\n\\n\\n\\n\\n\\n\\n\\n\\n\\n\\n\\n\\n\\n\\n\\n\\n\\n\\n\\n\\n...  \n",
       "585  \\n\\n\\n\\n\\n\\n\\n\\n\\n\\n\\n\\n\\n\\n\\n\\n\\n\\n\\n\\n\\n\\n\\n...  \n",
       "\n",
       "[586 rows x 4 columns]"
      ]
     },
     "execution_count": 41,
     "metadata": {},
     "output_type": "execute_result"
    }
   ],
   "source": [
    "pdf_files=pd.merge(pdf_files,pdf_to_text,how='left',on='filename')\n",
    "pdf_files"
   ]
  },
  {
   "cell_type": "markdown",
   "metadata": {},
   "source": [
    "#### Filter Only to PDF to Text Valid Rows"
   ]
  },
  {
   "cell_type": "code",
   "execution_count": 51,
   "metadata": {},
   "outputs": [],
   "source": [
    "pdf_files['Document_Text']=np.where((pdf_files['Document_Text']=='')|(pdf_files['Document_Text'].isnull()),'N/A',pdf_files['Document_Text'])"
   ]
  },
  {
   "cell_type": "markdown",
   "metadata": {},
   "source": [
    "#### Concat PDF to Text Extracted with Same Link"
   ]
  },
  {
   "cell_type": "code",
   "execution_count": 73,
   "metadata": {},
   "outputs": [
    {
     "data": {
      "text/html": [
       "<div>\n",
       "<style scoped>\n",
       "    .dataframe tbody tr th:only-of-type {\n",
       "        vertical-align: middle;\n",
       "    }\n",
       "\n",
       "    .dataframe tbody tr th {\n",
       "        vertical-align: top;\n",
       "    }\n",
       "\n",
       "    .dataframe thead th {\n",
       "        text-align: right;\n",
       "    }\n",
       "</style>\n",
       "<table border=\"1\" class=\"dataframe\">\n",
       "  <thead>\n",
       "    <tr style=\"text-align: right;\">\n",
       "      <th></th>\n",
       "      <th>link</th>\n",
       "      <th>Document_Text</th>\n",
       "    </tr>\n",
       "  </thead>\n",
       "  <tbody>\n",
       "    <tr>\n",
       "      <th>0</th>\n",
       "      <td>https://www.bnm.gov.my/-/2nd-fin-incl-frmwk</td>\n",
       "      <td>\\n\\n\\n\\n\\n\\n\\n\\n\\n\\n\\n\\n\\n\\n\\n\\n\\n\\n\\n\\n\\n\\n\\n...</td>\n",
       "    </tr>\n",
       "    <tr>\n",
       "      <th>1</th>\n",
       "      <td>https://www.bnm.gov.my/-/2nd-fin-incl-frmwk-bm</td>\n",
       "      <td>\\n\\n\\n\\n\\n\\n\\n\\n\\n\\n\\n\\n\\n\\n\\n\\n\\n\\n\\n\\n\\n\\n\\n...</td>\n",
       "    </tr>\n",
       "    <tr>\n",
       "      <th>2</th>\n",
       "      <td>https://www.bnm.gov.my/-/4q-2017-labour-market...</td>\n",
       "      <td>\\n\\n\\n\\n\\n\\n\\n\\n\\n\\n\\n\\n\\n\\n\\n\\n\\n\\n\\n\\n\\n\\n\\n...</td>\n",
       "    </tr>\n",
       "    <tr>\n",
       "      <th>3</th>\n",
       "      <td>https://www.bnm.gov.my/-/8th-mystats-2021</td>\n",
       "      <td>\\n\\n\\n\\n\\n\\n\\n\\n\\n\\n\\n\\n\\n\\n\\n\\n\\n\\n\\n\\n\\n\\n\\n...</td>\n",
       "    </tr>\n",
       "    <tr>\n",
       "      <th>4</th>\n",
       "      <td>https://www.bnm.gov.my/-/academic-visit-calend...</td>\n",
       "      <td>\\n\\n\\n\\n\\n\\n\\n\\n\\n\\n\\n\\n\\n\\n\\n\\n\\n\\n\\n\\n\\n\\n\\n...</td>\n",
       "    </tr>\n",
       "    <tr>\n",
       "      <th>...</th>\n",
       "      <td>...</td>\n",
       "      <td>...</td>\n",
       "    </tr>\n",
       "    <tr>\n",
       "      <th>450</th>\n",
       "      <td>https://www.bnm.gov.my/-/unauthorised-company-...</td>\n",
       "      <td>\\n\\n\\n\\n\\n\\n\\n\\n\\n\\n\\n\\n\\n\\n\\n\\n\\n\\n\\n\\n\\n\\n\\n...</td>\n",
       "    </tr>\n",
       "    <tr>\n",
       "      <th>451</th>\n",
       "      <td>https://www.bnm.gov.my/-/unauthorised-company-...</td>\n",
       "      <td>\\n\\n\\n\\n\\n\\n\\n\\n\\n\\n\\n\\n\\n\\n\\n\\n\\n\\n\\n\\n\\n\\n\\n...</td>\n",
       "    </tr>\n",
       "    <tr>\n",
       "      <th>452</th>\n",
       "      <td>https://www.bnm.gov.my/-/unauthorised-company-...</td>\n",
       "      <td>\\n\\n\\n\\n\\n\\n\\n\\n\\n\\n\\n\\n\\n\\n\\n\\n\\n\\n\\n\\n\\n\\n\\n...</td>\n",
       "    </tr>\n",
       "    <tr>\n",
       "      <th>453</th>\n",
       "      <td>https://www.bnm.gov.my/-/wholesale-market-cond...</td>\n",
       "      <td>\\n\\n\\n\\n\\n\\n\\n\\n\\n\\n\\n\\n\\n\\n\\n\\n\\n\\n\\n\\n\\n\\n\\n...</td>\n",
       "    </tr>\n",
       "    <tr>\n",
       "      <th>454</th>\n",
       "      <td>https://www.bnm.gov.my/-/working-paper-externa...</td>\n",
       "      <td>\\n\\n\\n\\n\\n\\n\\n\\n\\n\\n\\n\\n\\n\\n\\n\\n\\n\\n\\n\\n\\n\\n\\n...</td>\n",
       "    </tr>\n",
       "  </tbody>\n",
       "</table>\n",
       "<p>455 rows × 2 columns</p>\n",
       "</div>"
      ],
      "text/plain": [
       "                                                  link  \\\n",
       "0          https://www.bnm.gov.my/-/2nd-fin-incl-frmwk   \n",
       "1       https://www.bnm.gov.my/-/2nd-fin-incl-frmwk-bm   \n",
       "2    https://www.bnm.gov.my/-/4q-2017-labour-market...   \n",
       "3            https://www.bnm.gov.my/-/8th-mystats-2021   \n",
       "4    https://www.bnm.gov.my/-/academic-visit-calend...   \n",
       "..                                                 ...   \n",
       "450  https://www.bnm.gov.my/-/unauthorised-company-...   \n",
       "451  https://www.bnm.gov.my/-/unauthorised-company-...   \n",
       "452  https://www.bnm.gov.my/-/unauthorised-company-...   \n",
       "453  https://www.bnm.gov.my/-/wholesale-market-cond...   \n",
       "454  https://www.bnm.gov.my/-/working-paper-externa...   \n",
       "\n",
       "                                         Document_Text  \n",
       "0    \\n\\n\\n\\n\\n\\n\\n\\n\\n\\n\\n\\n\\n\\n\\n\\n\\n\\n\\n\\n\\n\\n\\n...  \n",
       "1    \\n\\n\\n\\n\\n\\n\\n\\n\\n\\n\\n\\n\\n\\n\\n\\n\\n\\n\\n\\n\\n\\n\\n...  \n",
       "2    \\n\\n\\n\\n\\n\\n\\n\\n\\n\\n\\n\\n\\n\\n\\n\\n\\n\\n\\n\\n\\n\\n\\n...  \n",
       "3    \\n\\n\\n\\n\\n\\n\\n\\n\\n\\n\\n\\n\\n\\n\\n\\n\\n\\n\\n\\n\\n\\n\\n...  \n",
       "4    \\n\\n\\n\\n\\n\\n\\n\\n\\n\\n\\n\\n\\n\\n\\n\\n\\n\\n\\n\\n\\n\\n\\n...  \n",
       "..                                                 ...  \n",
       "450  \\n\\n\\n\\n\\n\\n\\n\\n\\n\\n\\n\\n\\n\\n\\n\\n\\n\\n\\n\\n\\n\\n\\n...  \n",
       "451  \\n\\n\\n\\n\\n\\n\\n\\n\\n\\n\\n\\n\\n\\n\\n\\n\\n\\n\\n\\n\\n\\n\\n...  \n",
       "452  \\n\\n\\n\\n\\n\\n\\n\\n\\n\\n\\n\\n\\n\\n\\n\\n\\n\\n\\n\\n\\n\\n\\n...  \n",
       "453  \\n\\n\\n\\n\\n\\n\\n\\n\\n\\n\\n\\n\\n\\n\\n\\n\\n\\n\\n\\n\\n\\n\\n...  \n",
       "454  \\n\\n\\n\\n\\n\\n\\n\\n\\n\\n\\n\\n\\n\\n\\n\\n\\n\\n\\n\\n\\n\\n\\n...  \n",
       "\n",
       "[455 rows x 2 columns]"
      ]
     },
     "execution_count": 73,
     "metadata": {},
     "output_type": "execute_result"
    }
   ],
   "source": [
    "pdf_files=pdf_files[['link','Document_Text']].groupby(['link']).agg({'Document_Text':'sum'}).reset_index()\n",
    "pdf_files"
   ]
  },
  {
   "cell_type": "markdown",
   "metadata": {},
   "source": [
    "#### Update Main Dataframe"
   ]
  },
  {
   "cell_type": "code",
   "execution_count": 75,
   "metadata": {},
   "outputs": [
    {
     "data": {
      "text/plain": [
       "Index(['date', 'title', 'link', 'pdf_links', 'content', 'link_opt', 'category',\n",
       "       'Document_Text'],\n",
       "      dtype='object')"
      ]
     },
     "execution_count": 75,
     "metadata": {},
     "output_type": "execute_result"
    }
   ],
   "source": [
    "pd.merge(bnm_data,pdf_files,how='left',on='link').columns"
   ]
  },
  {
   "cell_type": "code",
   "execution_count": 78,
   "metadata": {},
   "outputs": [
    {
     "data": {
      "text/html": [
       "<div>\n",
       "<style scoped>\n",
       "    .dataframe tbody tr th:only-of-type {\n",
       "        vertical-align: middle;\n",
       "    }\n",
       "\n",
       "    .dataframe tbody tr th {\n",
       "        vertical-align: top;\n",
       "    }\n",
       "\n",
       "    .dataframe thead th {\n",
       "        text-align: right;\n",
       "    }\n",
       "</style>\n",
       "<table border=\"1\" class=\"dataframe\">\n",
       "  <thead>\n",
       "    <tr style=\"text-align: right;\">\n",
       "      <th></th>\n",
       "      <th>date</th>\n",
       "      <th>title</th>\n",
       "      <th>link</th>\n",
       "      <th>pdf_links</th>\n",
       "      <th>link_opt</th>\n",
       "      <th>content</th>\n",
       "      <th>Document_Text</th>\n",
       "      <th>category</th>\n",
       "    </tr>\n",
       "  </thead>\n",
       "  <tbody>\n",
       "    <tr>\n",
       "      <th>0</th>\n",
       "      <td>28 Dis 2009</td>\n",
       "      <td>Concept Paper on Shariah Parameter Reference 3...</td>\n",
       "      <td>https://www.bnm.gov.my/-/concept-paper-3-mudar...</td>\n",
       "      <td></td>\n",
       "      <td>https://www.bnm.gov.my/c/portal/update_languag...</td>\n",
       "      <td>\\r\\n\\r\\nReading:\\r\\nConcept Paper on Shariah P...</td>\n",
       "      <td>NaN</td>\n",
       "      <td>Public Notice</td>\n",
       "    </tr>\n",
       "    <tr>\n",
       "      <th>1</th>\n",
       "      <td>03 Dis 2009</td>\n",
       "      <td>Concept Paper - Guidelines on Takaful Operatio...</td>\n",
       "      <td>https://www.bnm.gov.my/-/concept-paper-takaful...</td>\n",
       "      <td></td>\n",
       "      <td>https://www.bnm.gov.my/c/portal/update_languag...</td>\n",
       "      <td>\\r\\n\\r\\nReading:\\r\\nConcept Paper - Guidelines...</td>\n",
       "      <td>NaN</td>\n",
       "      <td>Public Notice</td>\n",
       "    </tr>\n",
       "    <tr>\n",
       "      <th>2</th>\n",
       "      <td>25 Nov 2009</td>\n",
       "      <td>Akta Bank Negara Malaysia 2009</td>\n",
       "      <td>https://www.bnm.gov.my/-/akta-bank-negara-mala...</td>\n",
       "      <td>https://www.bnm.gov.my/documents/20124/761712/...</td>\n",
       "      <td>https://www.bnm.gov.my/c/portal/update_languag...</td>\n",
       "      <td>\\r\\n\\r\\nReading:\\r\\nAkta Bank Negara Malaysia ...</td>\n",
       "      <td>\\n\\n\\n\\n\\n\\n\\n\\n\\n\\n\\n\\n\\n\\n\\n\\n\\n\\n\\n\\n\\n\\n\\n...</td>\n",
       "      <td>Public Notice</td>\n",
       "    </tr>\n",
       "    <tr>\n",
       "      <th>3</th>\n",
       "      <td>17 Nov 2009</td>\n",
       "      <td>Senarai Penasihat Kewangan telah dikemaskini. ...</td>\n",
       "      <td>https://www.bnm.gov.my/-/financial-adviser-lis...</td>\n",
       "      <td></td>\n",
       "      <td>https://www.bnm.gov.my/c/portal/update_languag...</td>\n",
       "      <td>\\r\\n\\r\\nReading:\\r\\nSenarai Penasihat Kewangan...</td>\n",
       "      <td>NaN</td>\n",
       "      <td>Public Notice</td>\n",
       "    </tr>\n",
       "    <tr>\n",
       "      <th>4</th>\n",
       "      <td>13 Nov 2009</td>\n",
       "      <td>Sertai kajian Tahap Kepuasan Pengguna laman we...</td>\n",
       "      <td>https://www.bnm.gov.my/-/sertai-kajian-tahap-k...</td>\n",
       "      <td></td>\n",
       "      <td>NaN</td>\n",
       "      <td>NaN</td>\n",
       "      <td>NaN</td>\n",
       "      <td>NaN</td>\n",
       "    </tr>\n",
       "    <tr>\n",
       "      <th>...</th>\n",
       "      <td>...</td>\n",
       "      <td>...</td>\n",
       "      <td>...</td>\n",
       "      <td>...</td>\n",
       "      <td>...</td>\n",
       "      <td>...</td>\n",
       "      <td>...</td>\n",
       "      <td>...</td>\n",
       "    </tr>\n",
       "    <tr>\n",
       "      <th>1099</th>\n",
       "      <td>17 Jan 2024</td>\n",
       "      <td>Exposure Draft on Currency Processing Business</td>\n",
       "      <td>https://www.bnm.gov.my/-/ed-cpb</td>\n",
       "      <td>https://www.bnm.gov.my/documents/20124/1320456...</td>\n",
       "      <td>NaN</td>\n",
       "      <td>\\r\\n\\r\\nReading:\\r\\nExposure Draft on Currency...</td>\n",
       "      <td>\\n\\n\\n\\n\\n\\n\\n\\n\\n\\n\\n\\n\\n\\n\\n\\n\\n\\n\\n\\n\\n\\n\\n...</td>\n",
       "      <td>Public Notice</td>\n",
       "    </tr>\n",
       "    <tr>\n",
       "      <th>1100</th>\n",
       "      <td>12 Jan 2024</td>\n",
       "      <td>JC3 SC1 Updates Documents for Implementation o...</td>\n",
       "      <td>https://www.bnm.gov.my/-/jc3-sc1-ccpt-docs</td>\n",
       "      <td>https://www.bnm.gov.my/documents/20124/3770663...</td>\n",
       "      <td>NaN</td>\n",
       "      <td>\\r\\n\\r\\nReading:\\r\\nJC3 SC1 Updates Documents ...</td>\n",
       "      <td>\\n\\n\\n\\n\\n\\n\\n\\n\\n\\n\\n\\n\\n\\n\\n\\n\\n\\n\\n\\n\\n\\n\\n...</td>\n",
       "      <td>Public Notice</td>\n",
       "    </tr>\n",
       "    <tr>\n",
       "      <th>1101</th>\n",
       "      <td>08 Jan 2024</td>\n",
       "      <td>Exposure Draft on Skim Pembiayaan Mikro</td>\n",
       "      <td>https://www.bnm.gov.my/-/ed-spm</td>\n",
       "      <td>https://www.bnm.gov.my/documents/20124/938039/...</td>\n",
       "      <td>NaN</td>\n",
       "      <td>\\r\\n\\r\\nReading:\\r\\nExposure Draft on Skim Pem...</td>\n",
       "      <td>\\n\\n\\n\\n\\n\\n\\n\\n\\n\\n\\n\\n\\n\\n\\n\\n\\n\\n\\n\\n\\n\\n\\n...</td>\n",
       "      <td>Public Notice</td>\n",
       "    </tr>\n",
       "    <tr>\n",
       "      <th>1102</th>\n",
       "      <td>05 Jan 2024</td>\n",
       "      <td>BNM Shariah Advisory Council's Ruling on Cedin...</td>\n",
       "      <td>https://www.bnm.gov.my/-/sacbnm-226mtg-ruling</td>\n",
       "      <td>https://www.bnm.gov.my/documents/20124/38335/s...</td>\n",
       "      <td>NaN</td>\n",
       "      <td>\\r\\n\\r\\nReading:\\r\\nBNM Shariah Advisory Counc...</td>\n",
       "      <td>\\n\\n\\n\\n\\n\\n\\n\\n\\n\\n\\n\\n\\n\\n\\n\\n\\n\\n\\n\\n\\n\\n\\n...</td>\n",
       "      <td>Public Notice</td>\n",
       "    </tr>\n",
       "    <tr>\n",
       "      <th>1103</th>\n",
       "      <td>03 Jan 2024</td>\n",
       "      <td>Policy Document on Hajah and Darurah</td>\n",
       "      <td>https://www.bnm.gov.my/-/pd-hajah-darurah-en</td>\n",
       "      <td>https://www.bnm.gov.my/documents/20124/938039/...</td>\n",
       "      <td>NaN</td>\n",
       "      <td>\\r\\n\\r\\nReading:\\r\\nPolicy Document on Hajah a...</td>\n",
       "      <td>\\n\\n\\n\\n\\n\\n\\n\\n\\n\\n\\n\\n\\n\\n\\n\\n\\n\\n\\n\\n\\n\\n\\n...</td>\n",
       "      <td>Public Notice</td>\n",
       "    </tr>\n",
       "  </tbody>\n",
       "</table>\n",
       "<p>1104 rows × 8 columns</p>\n",
       "</div>"
      ],
      "text/plain": [
       "             date                                              title  \\\n",
       "0     28 Dis 2009  Concept Paper on Shariah Parameter Reference 3...   \n",
       "1     03 Dis 2009  Concept Paper - Guidelines on Takaful Operatio...   \n",
       "2     25 Nov 2009                     Akta Bank Negara Malaysia 2009   \n",
       "3     17 Nov 2009  Senarai Penasihat Kewangan telah dikemaskini. ...   \n",
       "4     13 Nov 2009  Sertai kajian Tahap Kepuasan Pengguna laman we...   \n",
       "...           ...                                                ...   \n",
       "1099  17 Jan 2024     Exposure Draft on Currency Processing Business   \n",
       "1100  12 Jan 2024  JC3 SC1 Updates Documents for Implementation o...   \n",
       "1101  08 Jan 2024            Exposure Draft on Skim Pembiayaan Mikro   \n",
       "1102  05 Jan 2024  BNM Shariah Advisory Council's Ruling on Cedin...   \n",
       "1103  03 Jan 2024               Policy Document on Hajah and Darurah   \n",
       "\n",
       "                                                   link  \\\n",
       "0     https://www.bnm.gov.my/-/concept-paper-3-mudar...   \n",
       "1     https://www.bnm.gov.my/-/concept-paper-takaful...   \n",
       "2     https://www.bnm.gov.my/-/akta-bank-negara-mala...   \n",
       "3     https://www.bnm.gov.my/-/financial-adviser-lis...   \n",
       "4     https://www.bnm.gov.my/-/sertai-kajian-tahap-k...   \n",
       "...                                                 ...   \n",
       "1099                    https://www.bnm.gov.my/-/ed-cpb   \n",
       "1100         https://www.bnm.gov.my/-/jc3-sc1-ccpt-docs   \n",
       "1101                    https://www.bnm.gov.my/-/ed-spm   \n",
       "1102      https://www.bnm.gov.my/-/sacbnm-226mtg-ruling   \n",
       "1103       https://www.bnm.gov.my/-/pd-hajah-darurah-en   \n",
       "\n",
       "                                              pdf_links  \\\n",
       "0                                                         \n",
       "1                                                         \n",
       "2     https://www.bnm.gov.my/documents/20124/761712/...   \n",
       "3                                                         \n",
       "4                                                         \n",
       "...                                                 ...   \n",
       "1099  https://www.bnm.gov.my/documents/20124/1320456...   \n",
       "1100  https://www.bnm.gov.my/documents/20124/3770663...   \n",
       "1101  https://www.bnm.gov.my/documents/20124/938039/...   \n",
       "1102  https://www.bnm.gov.my/documents/20124/38335/s...   \n",
       "1103  https://www.bnm.gov.my/documents/20124/938039/...   \n",
       "\n",
       "                                               link_opt  \\\n",
       "0     https://www.bnm.gov.my/c/portal/update_languag...   \n",
       "1     https://www.bnm.gov.my/c/portal/update_languag...   \n",
       "2     https://www.bnm.gov.my/c/portal/update_languag...   \n",
       "3     https://www.bnm.gov.my/c/portal/update_languag...   \n",
       "4                                                   NaN   \n",
       "...                                                 ...   \n",
       "1099                                                NaN   \n",
       "1100                                                NaN   \n",
       "1101                                                NaN   \n",
       "1102                                                NaN   \n",
       "1103                                                NaN   \n",
       "\n",
       "                                                content  \\\n",
       "0     \\r\\n\\r\\nReading:\\r\\nConcept Paper on Shariah P...   \n",
       "1     \\r\\n\\r\\nReading:\\r\\nConcept Paper - Guidelines...   \n",
       "2     \\r\\n\\r\\nReading:\\r\\nAkta Bank Negara Malaysia ...   \n",
       "3     \\r\\n\\r\\nReading:\\r\\nSenarai Penasihat Kewangan...   \n",
       "4                                                   NaN   \n",
       "...                                                 ...   \n",
       "1099  \\r\\n\\r\\nReading:\\r\\nExposure Draft on Currency...   \n",
       "1100  \\r\\n\\r\\nReading:\\r\\nJC3 SC1 Updates Documents ...   \n",
       "1101  \\r\\n\\r\\nReading:\\r\\nExposure Draft on Skim Pem...   \n",
       "1102  \\r\\n\\r\\nReading:\\r\\nBNM Shariah Advisory Counc...   \n",
       "1103  \\r\\n\\r\\nReading:\\r\\nPolicy Document on Hajah a...   \n",
       "\n",
       "                                          Document_Text       category  \n",
       "0                                                   NaN  Public Notice  \n",
       "1                                                   NaN  Public Notice  \n",
       "2     \\n\\n\\n\\n\\n\\n\\n\\n\\n\\n\\n\\n\\n\\n\\n\\n\\n\\n\\n\\n\\n\\n\\n...  Public Notice  \n",
       "3                                                   NaN  Public Notice  \n",
       "4                                                   NaN            NaN  \n",
       "...                                                 ...            ...  \n",
       "1099  \\n\\n\\n\\n\\n\\n\\n\\n\\n\\n\\n\\n\\n\\n\\n\\n\\n\\n\\n\\n\\n\\n\\n...  Public Notice  \n",
       "1100  \\n\\n\\n\\n\\n\\n\\n\\n\\n\\n\\n\\n\\n\\n\\n\\n\\n\\n\\n\\n\\n\\n\\n...  Public Notice  \n",
       "1101  \\n\\n\\n\\n\\n\\n\\n\\n\\n\\n\\n\\n\\n\\n\\n\\n\\n\\n\\n\\n\\n\\n\\n...  Public Notice  \n",
       "1102  \\n\\n\\n\\n\\n\\n\\n\\n\\n\\n\\n\\n\\n\\n\\n\\n\\n\\n\\n\\n\\n\\n\\n...  Public Notice  \n",
       "1103  \\n\\n\\n\\n\\n\\n\\n\\n\\n\\n\\n\\n\\n\\n\\n\\n\\n\\n\\n\\n\\n\\n\\n...  Public Notice  \n",
       "\n",
       "[1104 rows x 8 columns]"
      ]
     },
     "execution_count": 78,
     "metadata": {},
     "output_type": "execute_result"
    }
   ],
   "source": [
    "bnm_data=pd.merge(bnm_data,pdf_files,how='left',on='link')[['date', 'title', 'link', 'pdf_links', 'link_opt', 'content', 'Document_Text', 'category']]\n",
    "os.chdir('/Users/izard/Documents/GitHub/bimb-osint-development/back-end/bnm/public_notice/')\n",
    "bnm_data.to_csv('bnm_data_public_notice.csv',index=False)\n",
    "bnm_data"
   ]
  },
  {
   "cell_type": "markdown",
   "metadata": {},
   "source": [
    "#### Convert to JSON"
   ]
  },
  {
   "cell_type": "code",
   "execution_count": 2,
   "metadata": {},
   "outputs": [],
   "source": [
    "# standardize the timestamp\n",
    "\n",
    "from datetime import datetime,timedelta\n",
    "\n",
    "bnm_data=pd.read_csv('bnm_data_public_notice.csv')\n",
    "bnm_data['date']=np.where(bnm_data['date'].str.contains('Dis'),bnm_data['date'].str.replace('Dis','Dec'),bnm_data['date'])\n",
    "bnm_data['date']=np.where(bnm_data['date'].str.contains('Okt'),bnm_data['date'].str.replace('Okt','Oct'),bnm_data['date'])\n",
    "bnm_data['date']=np.where(bnm_data['date'].str.contains('Ogos'),bnm_data['date'].str.replace('Ogos','Aug'),bnm_data['date'])\n",
    "bnm_data['date']=np.where(bnm_data['date'].str.contains('Mei'),bnm_data['date'].str.replace('Mei','May'),bnm_data['date'])\n",
    "bnm_data['date']=np.where(bnm_data['date'].str.contains('Mac'),bnm_data['date'].str.replace('Mac','Mar'),bnm_data['date'])\n",
    "bnm_data['date']=np.where(bnm_data['date'].str.contains('Mac'),bnm_data['date'].str.replace('Mac','Mar'),bnm_data['date'])\n",
    "bnm_data['date']=pd.to_datetime(bnm_data['date'])"
   ]
  },
  {
   "cell_type": "code",
   "execution_count": 5,
   "metadata": {},
   "outputs": [
    {
     "data": {
      "text/html": [
       "<div>\n",
       "<style scoped>\n",
       "    .dataframe tbody tr th:only-of-type {\n",
       "        vertical-align: middle;\n",
       "    }\n",
       "\n",
       "    .dataframe tbody tr th {\n",
       "        vertical-align: top;\n",
       "    }\n",
       "\n",
       "    .dataframe thead th {\n",
       "        text-align: right;\n",
       "    }\n",
       "</style>\n",
       "<table border=\"1\" class=\"dataframe\">\n",
       "  <thead>\n",
       "    <tr style=\"text-align: right;\">\n",
       "      <th></th>\n",
       "      <th>Date_created</th>\n",
       "      <th>Title</th>\n",
       "      <th>URL</th>\n",
       "      <th>pdf_URL</th>\n",
       "      <th>URL_opt</th>\n",
       "      <th>Content</th>\n",
       "      <th>Document_Text</th>\n",
       "      <th>Category</th>\n",
       "    </tr>\n",
       "  </thead>\n",
       "  <tbody>\n",
       "    <tr>\n",
       "      <th>0</th>\n",
       "      <td>2009-12-28</td>\n",
       "      <td>Concept Paper on Shariah Parameter Reference 3...</td>\n",
       "      <td>https://www.bnm.gov.my/-/concept-paper-3-mudar...</td>\n",
       "      <td>NaN</td>\n",
       "      <td>https://www.bnm.gov.my/c/portal/update_languag...</td>\n",
       "      <td>\\r\\n\\r\\nReading:\\r\\nConcept Paper on Shariah P...</td>\n",
       "      <td>NaN</td>\n",
       "      <td>Public Notice</td>\n",
       "    </tr>\n",
       "    <tr>\n",
       "      <th>1</th>\n",
       "      <td>2009-12-03</td>\n",
       "      <td>Concept Paper - Guidelines on Takaful Operatio...</td>\n",
       "      <td>https://www.bnm.gov.my/-/concept-paper-takaful...</td>\n",
       "      <td>NaN</td>\n",
       "      <td>https://www.bnm.gov.my/c/portal/update_languag...</td>\n",
       "      <td>\\r\\n\\r\\nReading:\\r\\nConcept Paper - Guidelines...</td>\n",
       "      <td>NaN</td>\n",
       "      <td>Public Notice</td>\n",
       "    </tr>\n",
       "    <tr>\n",
       "      <th>2</th>\n",
       "      <td>2009-11-25</td>\n",
       "      <td>Akta Bank Negara Malaysia 2009</td>\n",
       "      <td>https://www.bnm.gov.my/-/akta-bank-negara-mala...</td>\n",
       "      <td>https://www.bnm.gov.my/documents/20124/761712/...</td>\n",
       "      <td>https://www.bnm.gov.my/c/portal/update_languag...</td>\n",
       "      <td>\\r\\n\\r\\nReading:\\r\\nAkta Bank Negara Malaysia ...</td>\n",
       "      <td>\\n\\n\\n\\n\\n\\n\\n\\n\\n\\n\\n\\n\\n\\n\\n\\n\\n\\n\\n\\n\\n\\n\\n...</td>\n",
       "      <td>Public Notice</td>\n",
       "    </tr>\n",
       "    <tr>\n",
       "      <th>3</th>\n",
       "      <td>2009-11-17</td>\n",
       "      <td>Senarai Penasihat Kewangan telah dikemaskini. ...</td>\n",
       "      <td>https://www.bnm.gov.my/-/financial-adviser-lis...</td>\n",
       "      <td>NaN</td>\n",
       "      <td>https://www.bnm.gov.my/c/portal/update_languag...</td>\n",
       "      <td>\\r\\n\\r\\nReading:\\r\\nSenarai Penasihat Kewangan...</td>\n",
       "      <td>NaN</td>\n",
       "      <td>Public Notice</td>\n",
       "    </tr>\n",
       "    <tr>\n",
       "      <th>4</th>\n",
       "      <td>2009-11-13</td>\n",
       "      <td>Sertai kajian Tahap Kepuasan Pengguna laman we...</td>\n",
       "      <td>https://www.bnm.gov.my/-/sertai-kajian-tahap-k...</td>\n",
       "      <td>NaN</td>\n",
       "      <td>NaN</td>\n",
       "      <td>NaN</td>\n",
       "      <td>NaN</td>\n",
       "      <td>NaN</td>\n",
       "    </tr>\n",
       "    <tr>\n",
       "      <th>...</th>\n",
       "      <td>...</td>\n",
       "      <td>...</td>\n",
       "      <td>...</td>\n",
       "      <td>...</td>\n",
       "      <td>...</td>\n",
       "      <td>...</td>\n",
       "      <td>...</td>\n",
       "      <td>...</td>\n",
       "    </tr>\n",
       "    <tr>\n",
       "      <th>1099</th>\n",
       "      <td>2024-01-17</td>\n",
       "      <td>Exposure Draft on Currency Processing Business</td>\n",
       "      <td>https://www.bnm.gov.my/-/ed-cpb</td>\n",
       "      <td>https://www.bnm.gov.my/documents/20124/1320456...</td>\n",
       "      <td>NaN</td>\n",
       "      <td>\\r\\n\\r\\nReading:\\r\\nExposure Draft on Currency...</td>\n",
       "      <td>\\n\\n\\n\\n\\n\\n\\n\\n\\n\\n\\n\\n\\n\\n\\n\\n\\n\\n\\n\\n\\n\\n\\n...</td>\n",
       "      <td>Public Notice</td>\n",
       "    </tr>\n",
       "    <tr>\n",
       "      <th>1100</th>\n",
       "      <td>2024-01-12</td>\n",
       "      <td>JC3 SC1 Updates Documents for Implementation o...</td>\n",
       "      <td>https://www.bnm.gov.my/-/jc3-sc1-ccpt-docs</td>\n",
       "      <td>https://www.bnm.gov.my/documents/20124/3770663...</td>\n",
       "      <td>NaN</td>\n",
       "      <td>\\r\\n\\r\\nReading:\\r\\nJC3 SC1 Updates Documents ...</td>\n",
       "      <td>\\n\\n\\n\\n\\n\\n\\n\\n\\n\\n\\n\\n\\n\\n\\n\\n\\n\\n\\n\\n\\n\\n\\n...</td>\n",
       "      <td>Public Notice</td>\n",
       "    </tr>\n",
       "    <tr>\n",
       "      <th>1101</th>\n",
       "      <td>2024-01-08</td>\n",
       "      <td>Exposure Draft on Skim Pembiayaan Mikro</td>\n",
       "      <td>https://www.bnm.gov.my/-/ed-spm</td>\n",
       "      <td>https://www.bnm.gov.my/documents/20124/938039/...</td>\n",
       "      <td>NaN</td>\n",
       "      <td>\\r\\n\\r\\nReading:\\r\\nExposure Draft on Skim Pem...</td>\n",
       "      <td>\\n\\n\\n\\n\\n\\n\\n\\n\\n\\n\\n\\n\\n\\n\\n\\n\\n\\n\\n\\n\\n\\n\\n...</td>\n",
       "      <td>Public Notice</td>\n",
       "    </tr>\n",
       "    <tr>\n",
       "      <th>1102</th>\n",
       "      <td>2024-01-05</td>\n",
       "      <td>BNM Shariah Advisory Council's Ruling on Cedin...</td>\n",
       "      <td>https://www.bnm.gov.my/-/sacbnm-226mtg-ruling</td>\n",
       "      <td>https://www.bnm.gov.my/documents/20124/38335/s...</td>\n",
       "      <td>NaN</td>\n",
       "      <td>\\r\\n\\r\\nReading:\\r\\nBNM Shariah Advisory Counc...</td>\n",
       "      <td>\\n\\n\\n\\n\\n\\n\\n\\n\\n\\n\\n\\n\\n\\n\\n\\n\\n\\n\\n\\n\\n\\n\\n...</td>\n",
       "      <td>Public Notice</td>\n",
       "    </tr>\n",
       "    <tr>\n",
       "      <th>1103</th>\n",
       "      <td>2024-01-03</td>\n",
       "      <td>Policy Document on Hajah and Darurah</td>\n",
       "      <td>https://www.bnm.gov.my/-/pd-hajah-darurah-en</td>\n",
       "      <td>https://www.bnm.gov.my/documents/20124/938039/...</td>\n",
       "      <td>NaN</td>\n",
       "      <td>\\r\\n\\r\\nReading:\\r\\nPolicy Document on Hajah a...</td>\n",
       "      <td>\\n\\n\\n\\n\\n\\n\\n\\n\\n\\n\\n\\n\\n\\n\\n\\n\\n\\n\\n\\n\\n\\n\\n...</td>\n",
       "      <td>Public Notice</td>\n",
       "    </tr>\n",
       "  </tbody>\n",
       "</table>\n",
       "<p>1104 rows × 8 columns</p>\n",
       "</div>"
      ],
      "text/plain": [
       "     Date_created                                              Title  \\\n",
       "0      2009-12-28  Concept Paper on Shariah Parameter Reference 3...   \n",
       "1      2009-12-03  Concept Paper - Guidelines on Takaful Operatio...   \n",
       "2      2009-11-25                     Akta Bank Negara Malaysia 2009   \n",
       "3      2009-11-17  Senarai Penasihat Kewangan telah dikemaskini. ...   \n",
       "4      2009-11-13  Sertai kajian Tahap Kepuasan Pengguna laman we...   \n",
       "...           ...                                                ...   \n",
       "1099   2024-01-17     Exposure Draft on Currency Processing Business   \n",
       "1100   2024-01-12  JC3 SC1 Updates Documents for Implementation o...   \n",
       "1101   2024-01-08            Exposure Draft on Skim Pembiayaan Mikro   \n",
       "1102   2024-01-05  BNM Shariah Advisory Council's Ruling on Cedin...   \n",
       "1103   2024-01-03               Policy Document on Hajah and Darurah   \n",
       "\n",
       "                                                    URL  \\\n",
       "0     https://www.bnm.gov.my/-/concept-paper-3-mudar...   \n",
       "1     https://www.bnm.gov.my/-/concept-paper-takaful...   \n",
       "2     https://www.bnm.gov.my/-/akta-bank-negara-mala...   \n",
       "3     https://www.bnm.gov.my/-/financial-adviser-lis...   \n",
       "4     https://www.bnm.gov.my/-/sertai-kajian-tahap-k...   \n",
       "...                                                 ...   \n",
       "1099                    https://www.bnm.gov.my/-/ed-cpb   \n",
       "1100         https://www.bnm.gov.my/-/jc3-sc1-ccpt-docs   \n",
       "1101                    https://www.bnm.gov.my/-/ed-spm   \n",
       "1102      https://www.bnm.gov.my/-/sacbnm-226mtg-ruling   \n",
       "1103       https://www.bnm.gov.my/-/pd-hajah-darurah-en   \n",
       "\n",
       "                                                pdf_URL  \\\n",
       "0                                                   NaN   \n",
       "1                                                   NaN   \n",
       "2     https://www.bnm.gov.my/documents/20124/761712/...   \n",
       "3                                                   NaN   \n",
       "4                                                   NaN   \n",
       "...                                                 ...   \n",
       "1099  https://www.bnm.gov.my/documents/20124/1320456...   \n",
       "1100  https://www.bnm.gov.my/documents/20124/3770663...   \n",
       "1101  https://www.bnm.gov.my/documents/20124/938039/...   \n",
       "1102  https://www.bnm.gov.my/documents/20124/38335/s...   \n",
       "1103  https://www.bnm.gov.my/documents/20124/938039/...   \n",
       "\n",
       "                                                URL_opt  \\\n",
       "0     https://www.bnm.gov.my/c/portal/update_languag...   \n",
       "1     https://www.bnm.gov.my/c/portal/update_languag...   \n",
       "2     https://www.bnm.gov.my/c/portal/update_languag...   \n",
       "3     https://www.bnm.gov.my/c/portal/update_languag...   \n",
       "4                                                   NaN   \n",
       "...                                                 ...   \n",
       "1099                                                NaN   \n",
       "1100                                                NaN   \n",
       "1101                                                NaN   \n",
       "1102                                                NaN   \n",
       "1103                                                NaN   \n",
       "\n",
       "                                                Content  \\\n",
       "0     \\r\\n\\r\\nReading:\\r\\nConcept Paper on Shariah P...   \n",
       "1     \\r\\n\\r\\nReading:\\r\\nConcept Paper - Guidelines...   \n",
       "2     \\r\\n\\r\\nReading:\\r\\nAkta Bank Negara Malaysia ...   \n",
       "3     \\r\\n\\r\\nReading:\\r\\nSenarai Penasihat Kewangan...   \n",
       "4                                                   NaN   \n",
       "...                                                 ...   \n",
       "1099  \\r\\n\\r\\nReading:\\r\\nExposure Draft on Currency...   \n",
       "1100  \\r\\n\\r\\nReading:\\r\\nJC3 SC1 Updates Documents ...   \n",
       "1101  \\r\\n\\r\\nReading:\\r\\nExposure Draft on Skim Pem...   \n",
       "1102  \\r\\n\\r\\nReading:\\r\\nBNM Shariah Advisory Counc...   \n",
       "1103  \\r\\n\\r\\nReading:\\r\\nPolicy Document on Hajah a...   \n",
       "\n",
       "                                          Document_Text       Category  \n",
       "0                                                   NaN  Public Notice  \n",
       "1                                                   NaN  Public Notice  \n",
       "2     \\n\\n\\n\\n\\n\\n\\n\\n\\n\\n\\n\\n\\n\\n\\n\\n\\n\\n\\n\\n\\n\\n\\n...  Public Notice  \n",
       "3                                                   NaN  Public Notice  \n",
       "4                                                   NaN            NaN  \n",
       "...                                                 ...            ...  \n",
       "1099  \\n\\n\\n\\n\\n\\n\\n\\n\\n\\n\\n\\n\\n\\n\\n\\n\\n\\n\\n\\n\\n\\n\\n...  Public Notice  \n",
       "1100  \\n\\n\\n\\n\\n\\n\\n\\n\\n\\n\\n\\n\\n\\n\\n\\n\\n\\n\\n\\n\\n\\n\\n...  Public Notice  \n",
       "1101  \\n\\n\\n\\n\\n\\n\\n\\n\\n\\n\\n\\n\\n\\n\\n\\n\\n\\n\\n\\n\\n\\n\\n...  Public Notice  \n",
       "1102  \\n\\n\\n\\n\\n\\n\\n\\n\\n\\n\\n\\n\\n\\n\\n\\n\\n\\n\\n\\n\\n\\n\\n...  Public Notice  \n",
       "1103  \\n\\n\\n\\n\\n\\n\\n\\n\\n\\n\\n\\n\\n\\n\\n\\n\\n\\n\\n\\n\\n\\n\\n...  Public Notice  \n",
       "\n",
       "[1104 rows x 8 columns]"
      ]
     },
     "execution_count": 5,
     "metadata": {},
     "output_type": "execute_result"
    }
   ],
   "source": [
    "bnm_data=bnm_data.rename(columns={'date':'Date_created','title':'Title','link':'URL','pdf_links':'pdf_URL','link_opt':'URL_opt','content':'Content','category':'Category'})\n",
    "bnm_data"
   ]
  },
  {
   "cell_type": "code",
   "execution_count": 6,
   "metadata": {},
   "outputs": [],
   "source": [
    "out=bnm_data.to_json(orient = \"records\",date_format='iso')\n",
    "\n",
    "with open('bnm_data_public_notice.json', 'w') as f:\n",
    "       f.write(out)"
   ]
  },
  {
   "cell_type": "code",
   "execution_count": 25,
   "metadata": {},
   "outputs": [
    {
     "data": {
      "text/plain": [
       "'c:\\\\Users\\\\izard\\\\Documents\\\\GitHub\\\\bimb-osint-development\\\\back-end\\\\bnm\\\\public_notice'"
      ]
     },
     "execution_count": 25,
     "metadata": {},
     "output_type": "execute_result"
    }
   ],
   "source": [
    "os.getcwd()    "
   ]
  }
 ],
 "metadata": {
  "kernelspec": {
   "display_name": "Python 3",
   "language": "python",
   "name": "python3"
  },
  "language_info": {
   "codemirror_mode": {
    "name": "ipython",
    "version": 3
   },
   "file_extension": ".py",
   "mimetype": "text/x-python",
   "name": "python",
   "nbconvert_exporter": "python",
   "pygments_lexer": "ipython3",
   "version": "3.10.14"
  }
 },
 "nbformat": 4,
 "nbformat_minor": 2
}
