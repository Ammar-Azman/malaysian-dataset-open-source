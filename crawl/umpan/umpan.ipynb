{
 "cells": [
  {
   "cell_type": "code",
   "execution_count": 10,
   "id": "b2823ccc",
   "metadata": {},
   "outputs": [],
   "source": [
    "from bs4 import BeautifulSoup\n",
    "import pandas as pd\n",
    "import json\n",
    "import requests\n",
    "from urllib.request import urlopen\n",
    "import urllib.request\n",
    "from datetime import datetime\n",
    "from tqdm import tqdm\n",
    "import time\n",
    "import numpy as np\n",
    "from concurrent.futures import ThreadPoolExecutor, as_completed"
   ]
  },
  {
   "cell_type": "code",
   "execution_count": 11,
   "id": "a793a90e",
   "metadata": {},
   "outputs": [],
   "source": [
    "categories = [\"1991\",\"2\",\"26\",\"21\",\"1987\",\"165\"]\n",
    "\n",
    "hrefs = []"
   ]
  },
  {
   "cell_type": "code",
   "execution_count": 12,
   "id": "7b0e3bd3",
   "metadata": {},
   "outputs": [],
   "source": [
    "\n",
    "cookies = {\n",
    "    'quform_session_4afe269b4eb47475f1c7f9adf026786c': 'xYvOSPfIFUzqo6L6upzOs4ayvg1eXwdyEeWH6Sx9',\n",
    "    '_gcl_au': '1.1.957906330.1689463467',\n",
    "    'AMCVS_43D8021954C26BE10A4C98A5%40AdobeOrg': '1',\n",
    "    '_cc_id': '3eda540b1733bbf97d5a84667177a178',\n",
    "    'izootoWpConfig': '%7B%22b_type%22:7,%22d_type%22:1,%22evt_trk%22:1,%22izooto_uid%22:%229632b6a4-e80a-4536-8377-4839edcc023e%22%7D',\n",
    "    'AMCV_43D8021954C26BE10A4C98A5%40AdobeOrg': '-1124106680%7CMCIDTS%7C19560%7CMCMID%7C18653459563264821612797502131604271316%7CMCAAMLH-1690540353%7C3%7CMCAAMB-1690540353%7C6G1ynYcLPuiQxYZrsz_pkqfLG9yMXBpb2zX5dvJdYQJzPXImdj0y%7CMCOPTOUT-1689942753s%7CNONE%7CMCSYNCS%7C1083-19561*1085-19561*1086-19561*1087-19561*1088-19561*19913-19561*83349-19561%7CMCSYNCSOP%7C411-19561%7CvVersion%7C5.2.0',\n",
    "    '_gid': 'GA1.3.1939725000.1689935554',\n",
    "    'panoramaId_expiry': '1690021954247',\n",
    "    'panoramaId': '24aa7eb4ab23dee1ace84787366ea9fb927af0baabde5e68c1e8fb79cc4932a0',\n",
    "    'panoramaIdType': 'panoDevice',\n",
    "    '_dc_gtm_UA-6654833-14': '1',\n",
    "    '_gat_UA-20278225-104': '1',\n",
    "    '_gat_UA-6654833-14': '1',\n",
    "    '_ga_3JY79DYEG4': 'GS1.1.1690009540.4.1.1690010902.0.0.0',\n",
    "    '_ga_GV9EQDZN1L': 'GS1.1.1690009540.4.1.1690010902.0.0.0',\n",
    "    '_ga': 'GA1.3.1199758714.1689463467',\n",
    "    '_ga_17VJVCH5M2': 'GS1.3.1690009541.3.1.1690010902.42.0.0',\n",
    "    'FCNEC': '%5B%5B%22AKsRol_5qyJrdF-lAcxUXNHqqSoKlcBbPaxgKF02Xo9Nn5UZHfpIs3qIgrkiXd_XZwCQtiPh9VolJIrn9MWDuF4xpE_C8n_v02p2gpDPheu8s0KgbFFoXalyRczqG2kmDEAhYt3AXY6HaMDt0GMZSfm0Eu3DSdKM1g%3D%3D%22%5D%2Cnull%2C%5B%5D%5D',\n",
    "}\n",
    "\n",
    "headers = {\n",
    "    'authority': 'www.umpan.com.my',\n",
    "    'accept': '*/*',\n",
    "    'accept-language': 'en-US,en;q=0.9',\n",
    "    'content-type': 'application/x-www-form-urlencoded; charset=UTF-8',\n",
    "    # 'cookie': 'quform_session_4afe269b4eb47475f1c7f9adf026786c=xYvOSPfIFUzqo6L6upzOs4ayvg1eXwdyEeWH6Sx9; _gcl_au=1.1.957906330.1689463467; AMCVS_43D8021954C26BE10A4C98A5%40AdobeOrg=1; _cc_id=3eda540b1733bbf97d5a84667177a178; izootoWpConfig=%7B%22b_type%22:7,%22d_type%22:1,%22evt_trk%22:1,%22izooto_uid%22:%229632b6a4-e80a-4536-8377-4839edcc023e%22%7D; AMCV_43D8021954C26BE10A4C98A5%40AdobeOrg=-1124106680%7CMCIDTS%7C19560%7CMCMID%7C18653459563264821612797502131604271316%7CMCAAMLH-1690540353%7C3%7CMCAAMB-1690540353%7C6G1ynYcLPuiQxYZrsz_pkqfLG9yMXBpb2zX5dvJdYQJzPXImdj0y%7CMCOPTOUT-1689942753s%7CNONE%7CMCSYNCS%7C1083-19561*1085-19561*1086-19561*1087-19561*1088-19561*19913-19561*83349-19561%7CMCSYNCSOP%7C411-19561%7CvVersion%7C5.2.0; _gid=GA1.3.1939725000.1689935554; panoramaId_expiry=1690021954247; panoramaId=24aa7eb4ab23dee1ace84787366ea9fb927af0baabde5e68c1e8fb79cc4932a0; panoramaIdType=panoDevice; _dc_gtm_UA-6654833-14=1; _gat_UA-20278225-104=1; _gat_UA-6654833-14=1; _ga_3JY79DYEG4=GS1.1.1690009540.4.1.1690010902.0.0.0; _ga_GV9EQDZN1L=GS1.1.1690009540.4.1.1690010902.0.0.0; _ga=GA1.3.1199758714.1689463467; _ga_17VJVCH5M2=GS1.3.1690009541.3.1.1690010902.42.0.0; FCNEC=%5B%5B%22AKsRol_5qyJrdF-lAcxUXNHqqSoKlcBbPaxgKF02Xo9Nn5UZHfpIs3qIgrkiXd_XZwCQtiPh9VolJIrn9MWDuF4xpE_C8n_v02p2gpDPheu8s0KgbFFoXalyRczqG2kmDEAhYt3AXY6HaMDt0GMZSfm0Eu3DSdKM1g%3D%3D%22%5D%2Cnull%2C%5B%5D%5D',\n",
    "    'origin': 'https://www.umpan.com.my',\n",
    "    'referer': 'https://www.umpan.com.my/category/umpanpedia/',\n",
    "    'sec-ch-ua': '\"Not.A/Brand\";v=\"8\", \"Chromium\";v=\"114\", \"Microsoft Edge\";v=\"114\"',\n",
    "    'sec-ch-ua-mobile': '?0',\n",
    "    'sec-ch-ua-platform': '\"macOS\"',\n",
    "    'sec-fetch-dest': 'empty',\n",
    "    'sec-fetch-mode': 'cors',\n",
    "    'sec-fetch-site': 'same-origin',\n",
    "    'user-agent': 'Mozilla/5.0 (Macintosh; Intel Mac OS X 10_15_7) AppleWebKit/537.36 (KHTML, like Gecko) Chrome/114.0.0.0 Safari/537.36 Edg/114.0.1823.82',\n",
    "    'x-requested-with': 'XMLHttpRequest',\n",
    "}\n",
    "\n",
    "params = {\n",
    "    'td_theme_name': 'Newspaper',\n",
    "    'v': '12.4',\n",
    "}\n",
    "\n",
    "\n"
   ]
  },
  {
   "cell_type": "code",
   "execution_count": 13,
   "id": "f315ad24",
   "metadata": {},
   "outputs": [],
   "source": [
    "def crawl(url,category):\n",
    "    \n",
    "        \n",
    "    data = {\n",
    "    'action': 'td_ajax_loop',\n",
    "    'loopState[sidebarPosition]': '',\n",
    "    'loopState[moduleId]': '1',\n",
    "    'loopState[currentPage]': f'{url}',\n",
    "    'loopState[atts][category_id]': f'{category}',\n",
    "    'loopState[ajax_pagination_infinite_stop]': '3',\n",
    "    'loopState[server_reply_html_data]': '',\n",
    "    }\n",
    "    \n",
    "    while True:\n",
    "        try:\n",
    "            response = requests.post('https://www.umpan.com.my/wp-admin/admin-ajax.php', params=params, cookies=cookies, headers=headers, data=data)\n",
    "            if response.status_code == 508:\n",
    "                print(r.status_code)\n",
    "                print('error in link, retrying... ', url)\n",
    "                time.sleep(20)\n",
    "                continue\n",
    "            break\n",
    "        except Exception as e:\n",
    "            print(e)\n",
    "            time.sleep(1.0)\n",
    "    \n",
    "    try:\n",
    "        r = response.json()\n",
    "    except:\n",
    "        return\n",
    "    \n",
    "    \n",
    "    soup = BeautifulSoup(r['server_reply_html_data'], \"lxml\")\n",
    "    \n",
    "    block = soup.find_all(\"h3\",attrs = {\"class\":\"entry-title td-module-title\"})\n",
    "    \n",
    "    if block is None:\n",
    "        return\n",
    "\n",
    "    for link in soup.find_all(\"h3\",attrs = {\"class\":\"entry-title td-module-title\"}):\n",
    "\n",
    "        href = link.find('a').get('href')\n",
    "        hrefs.append(href)\n",
    "    "
   ]
  },
  {
   "cell_type": "code",
   "execution_count": 14,
   "id": "3184367c",
   "metadata": {
    "scrolled": true
   },
   "outputs": [
    {
     "name": "stderr",
     "output_type": "stream",
     "text": [
      "100%|█| 43/43 [00:55<00:00,\n",
      "100%|█| 20/20 [00:25<00:00,\n",
      "100%|█| 10/10 [00:09<00:00,\n",
      "100%|█| 18/18 [00:20<00:00,\n",
      "100%|█| 3/3 [00:03<00:00,  \n",
      "100%|█| 18/18 [00:18<00:00,\n"
     ]
    }
   ],
   "source": [
    "max_worker = 5\n",
    "hrefs = []\n",
    "\n",
    "for index, c in enumerate(categories):\n",
    "    max_pages = ['214', '99', '48', '90', '13',\"87\"]\n",
    "    max_page = int(max_pages[index])\n",
    "    \n",
    "    for i in tqdm(range(1, max_page + 1, max_worker)):\n",
    "        aranged = np.arange(i, min(i + max_worker, max_page + 1))  # Fix range issue\n",
    "        urls = [str(a) for a in aranged]  # Use the correct range of pages\n",
    "        \n",
    "        with ThreadPoolExecutor(max_workers=max_worker) as executor:\n",
    "            futures = {executor.submit(crawl, url, c): url for url in urls}\n",
    "            \n",
    "        for future in as_completed(futures):\n",
    "            future.result()"
   ]
  },
  {
   "cell_type": "code",
   "execution_count": 17,
   "id": "b0dd69c1",
   "metadata": {},
   "outputs": [
    {
     "data": {
      "text/plain": [
       "5477"
      ]
     },
     "execution_count": 17,
     "metadata": {},
     "output_type": "execute_result"
    }
   ],
   "source": [
    "len(hrefs)"
   ]
  },
  {
   "cell_type": "code",
   "execution_count": 16,
   "id": "acdd0004",
   "metadata": {},
   "outputs": [],
   "source": [
    "hrefs = list(set(hrefs))"
   ]
  },
  {
   "cell_type": "code",
   "execution_count": 18,
   "id": "ecd2a622",
   "metadata": {},
   "outputs": [],
   "source": [
    "with open('umpan-link.json', 'a') as f:\n",
    "    json.dump(hrefs, f)"
   ]
  },
  {
   "cell_type": "code",
   "execution_count": 4,
   "id": "6a6cd382",
   "metadata": {},
   "outputs": [],
   "source": [
    "with open('umpan-link.json') as f:\n",
    "    hrefs = json.load(f)"
   ]
  },
  {
   "cell_type": "code",
   "execution_count": 20,
   "id": "deb3e1a7",
   "metadata": {},
   "outputs": [],
   "source": [
    "def process_url(x):\n",
    "    headers = {'User-Agent': 'Mozilla/5.0 (Windows NT 6.1; WOW64) AppleWebKit/537.36 (KHTML, like Gecko) Chrome/56.0.2924.76 Safari/537.36'} # This is chrome, you can set whatever browser you like\n",
    "\n",
    "    \n",
    "    while True:\n",
    "        try:\n",
    "            r = requests.get(x, headers=headers)\n",
    "            break\n",
    "        except Exception as e:\n",
    "            print(e)\n",
    "            time.sleep(5.0)\n",
    "    \n",
    "    soup = BeautifulSoup(r.text, \"lxml\")\n",
    "\n",
    "    try:\n",
    "        headline = soup.find('h1', class_=\"entry-title\").text\n",
    "        h = soup.find('div', attrs = {\"class\":\"td-ss-main-content\"})\n",
    "        p = [p.text for p in h.find_all(\"p\") if len(p.text) > 3 and not p.find('a', href=True)]\n",
    "    except Exception as e:\n",
    "        print('error in link:'+ x)\n",
    "        print(e)\n",
    "        return None\n",
    "    \n",
    "    time.sleep(3)\n",
    "\n",
    "    \n",
    "    data = {'url': x, 'headline': headline, 'content': p}\n",
    "    return data"
   ]
  },
  {
   "cell_type": "code",
   "execution_count": 21,
   "id": "0186bc8c",
   "metadata": {},
   "outputs": [
    {
     "name": "stderr",
     "output_type": "stream",
     "text": [
      " 60%|▌| 3281/5477 [51:16<40"
     ]
    },
    {
     "name": "stdout",
     "output_type": "stream",
     "text": [
      "(\"Connection broken: InvalidChunkLength(got length b'', 0 bytes read)\", InvalidChunkLength(got length b'', 0 bytes read))\n"
     ]
    },
    {
     "name": "stderr",
     "output_type": "stream",
     "text": [
      "100%|█| 5477/5477 [1:25:39<\n"
     ]
    }
   ],
   "source": [
    "max_workers = 5\n",
    "\n",
    "with ThreadPoolExecutor(max_workers=max_workers) as executor:\n",
    "    futures = [executor.submit(process_url, x) for x in hrefs]\n",
    "    \n",
    "    for future in tqdm(futures, total=len(hrefs)):\n",
    "        result = future.result()\n",
    "        if result:\n",
    "            with open('umpan.jsonl', 'a',encoding='utf8') as f:\n",
    "                json.dump(result, f,ensure_ascii=False)\n",
    "                f.write('\\n')"
   ]
  },
  {
   "cell_type": "code",
   "execution_count": null,
   "id": "e5528a75",
   "metadata": {},
   "outputs": [],
   "source": []
  }
 ],
 "metadata": {
  "kernelspec": {
   "display_name": "Python 3 (ipykernel)",
   "language": "python",
   "name": "python3"
  },
  "language_info": {
   "codemirror_mode": {
    "name": "ipython",
    "version": 3
   },
   "file_extension": ".py",
   "mimetype": "text/x-python",
   "name": "python",
   "nbconvert_exporter": "python",
   "pygments_lexer": "ipython3",
   "version": "3.8.10"
  }
 },
 "nbformat": 4,
 "nbformat_minor": 5
}
