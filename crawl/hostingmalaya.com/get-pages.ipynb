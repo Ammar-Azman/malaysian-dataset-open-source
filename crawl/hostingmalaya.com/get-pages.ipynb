{
 "cells": [
  {
   "cell_type": "code",
   "execution_count": 1,
   "metadata": {},
   "outputs": [],
   "source": [
    "import requests\n",
    "from bs4 import BeautifulSoup\n",
    "from tqdm import tqdm\n",
    "import os\n",
    "import json\n",
    "import numpy as np\n",
    "import time\n",
    "import random\n",
    "import json\n",
    "import urllib3\n",
    "urllib3.disable_warnings(urllib3.exceptions.InsecureRequestWarning)"
   ]
  },
  {
   "cell_type": "code",
   "execution_count": 2,
   "metadata": {},
   "outputs": [],
   "source": [
    "with open('urls.json') as fopen:\n",
    "    urls = json.load(fopen)"
   ]
  },
  {
   "cell_type": "code",
   "execution_count": 3,
   "metadata": {},
   "outputs": [
    {
     "data": {
      "text/plain": [
       "140"
      ]
     },
     "execution_count": 3,
     "metadata": {},
     "output_type": "execute_result"
    }
   ],
   "source": [
    "len(urls)"
   ]
  },
  {
   "cell_type": "code",
   "execution_count": 5,
   "metadata": {},
   "outputs": [],
   "source": [
    "r = requests.get(urls[0])"
   ]
  },
  {
   "cell_type": "code",
   "execution_count": 7,
   "metadata": {},
   "outputs": [],
   "source": [
    "soup = BeautifulSoup(r.content, \"lxml\")"
   ]
  },
  {
   "cell_type": "code",
   "execution_count": 9,
   "metadata": {},
   "outputs": [
    {
     "data": {
      "text/plain": [
       "'https://hostingmalaya.com/pelan-langganan-billplz-julai-2023/'"
      ]
     },
     "execution_count": 9,
     "metadata": {},
     "output_type": "execute_result"
    }
   ],
   "source": [
    "urls[0]"
   ]
  },
  {
   "cell_type": "code",
   "execution_count": 11,
   "metadata": {},
   "outputs": [
    {
     "data": {
      "text/plain": [
       "'Pelan Langganan Billplz Julai 2023'"
      ]
     },
     "execution_count": 11,
     "metadata": {},
     "output_type": "execute_result"
    }
   ],
   "source": [
    "soup.find('h1').text"
   ]
  },
  {
   "cell_type": "code",
   "execution_count": 13,
   "metadata": {},
   "outputs": [
    {
     "data": {
      "text/plain": [
       "'\\n\\n\\n\\nBermula pada 1 Julai 2023, Billplz telah melakukan pembaharuan terhadap pelan langganan mereka seperti dibawah.\\n\\n\\n\\n\\nJika sebelum ini untuk langganan akaun basic yang percuma hanya dicas RM1 untuk setiap pembayaran transaksi FPX, namun bermulai Julai ini ianya akan meningkat kepada RM1.05 per transaksi.\\n\\n\\nBagi langganan akaun standard pula, bayaran tahunan sebanyak RM4240 dan cas pembayaran FPX meningkat sebanyak 10 sen, iaitu kepada 60sen berbanding 50 sen yang terdahulu.\\n\\n\\nMenurut email yang diberikan oleh Billplz kepada pengguna mereka, peningkatan signifikan kos operasi telah menyebabkan sukar untuk mereka kekal dengan kadar pelan pada waktu ini.\\n\\n\\nWalau bagaimana pun, Billplz mensasarkan untuk terus memberikan kualiti perkhidmatan yang terbaik untuk memastikan kemampanan Billplz untuk jangka masa yang panjang.\\n\\n\\nUntuk ketahui lebih lanjut mengenai perubahan pelan langganan Billplz ini, anda boleh layari laman web mereka disini : \\nhttps://www.billplz.com/pricing\\n.\\n\\n\\nSekiranya ada pertanyaan lanjut atau sebarang permasalahan anda boleh hubungi Billplz melalui : \\nteam@billplz.com\\n. Pihak Billplz akan cuba untuk membantu anda dalam apa jua cara sekalipun.\\n\\n\\nSehubungan dengan itu, pengguna Billplz perlulah mengemaskini kadar terbaru ini di dalam sistem yang digunakan sesuai dengan perubahan pelan langganan Billplz yang terkini untuk mengelakkan sebarang masalah pada masa akan datang.\\n\\n\\nTips Memilih Pakej Web Hosting Terbaik : \\nhttps://hostingmalaya.com/tips-memilih-pakej-web-hosting-terbaik\\n.\\n\\n\\nDapatkan Web Hosting & Game Hosting Dilengkapi DDoS Protection disini : \\nhttps://billing.hostingmalaya.com\\n.\\n\\n\\nKongsi Artikel Ini :\\nClick to share on Facebook (Opens in new window)\\nClick to share on WhatsApp (Opens in new window)\\nClick to share on Telegram (Opens in new window)\\nClick to share on Twitter (Opens in new window)\\n\\n\\n\\n\\nArtikel yang berkaitan\\n\\n\\n '"
      ]
     },
     "execution_count": 13,
     "metadata": {},
     "output_type": "execute_result"
    }
   ],
   "source": [
    "soup.find('div', {'class': 'thecontent'}).get_text(separator=\"\\n\")"
   ]
  },
  {
   "cell_type": "code",
   "execution_count": 14,
   "metadata": {},
   "outputs": [
    {
     "name": "stderr",
     "output_type": "stream",
     "text": [
      "100%|███████████████████████████████████████████████████████████████████████████████████████████████████████████| 140/140 [00:29<00:00,  4.73it/s]\n"
     ]
    }
   ],
   "source": [
    "data = []\n",
    "for url in tqdm(urls):\n",
    "    r = requests.get(url)\n",
    "    soup = BeautifulSoup(r.content, \"lxml\")\n",
    "    title = soup.find('h1').text\n",
    "    body = soup.find('div', {'class': 'thecontent'}).get_text(separator=\"\\n\")\n",
    "    data.append({\n",
    "        'url': url,\n",
    "        'title': title,\n",
    "        'body': body,\n",
    "    })"
   ]
  },
  {
   "cell_type": "code",
   "execution_count": 15,
   "metadata": {},
   "outputs": [],
   "source": [
    "with open('hostingmalaya.com.jsonl', 'w') as fopen:\n",
    "    for d in data:\n",
    "        fopen.write(f'{json.dumps(d)}\\n')"
   ]
  }
 ],
 "metadata": {
  "kernelspec": {
   "display_name": "Python 3 (ipykernel)",
   "language": "python",
   "name": "python3"
  },
  "language_info": {
   "codemirror_mode": {
    "name": "ipython",
    "version": 3
   },
   "file_extension": ".py",
   "mimetype": "text/x-python",
   "name": "python",
   "nbconvert_exporter": "python",
   "pygments_lexer": "ipython3",
   "version": "3.8.10"
  }
 },
 "nbformat": 4,
 "nbformat_minor": 4
}
