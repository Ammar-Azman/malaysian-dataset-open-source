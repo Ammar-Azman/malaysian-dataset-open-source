{
 "cells": [
  {
   "cell_type": "code",
   "execution_count": 1,
   "metadata": {},
   "outputs": [],
   "source": [
    "import requests\n",
    "from bs4 import BeautifulSoup\n",
    "from tqdm import tqdm\n",
    "import os\n",
    "import json\n",
    "import numpy as np\n",
    "import time\n",
    "import random\n",
    "import json\n",
    "import urllib3\n",
    "urllib3.disable_warnings(urllib3.exceptions.InsecureRequestWarning)"
   ]
  },
  {
   "cell_type": "code",
   "execution_count": 2,
   "metadata": {},
   "outputs": [],
   "source": [
    "url = 'https://www.realestatemy.com/blog/page/20/'\n",
    "r = requests.get(url)"
   ]
  },
  {
   "cell_type": "code",
   "execution_count": 3,
   "metadata": {},
   "outputs": [],
   "source": [
    "soup = BeautifulSoup(r.content, \"lxml\")"
   ]
  },
  {
   "cell_type": "code",
   "execution_count": 5,
   "metadata": {},
   "outputs": [
    {
     "data": {
      "text/plain": [
       "['https://www.realestatemy.com/promote-real-estate-website-infographic/',\n",
       " 'https://www.realestatemy.com/keys-success-new-real-estate-agents/',\n",
       " 'https://www.realestatemy.com/google-search-works-real-estate-malaysian-beginners-guide/',\n",
       " 'https://www.realestatemy.com/8-daily-habits-top-real-estate-agents-malaysia/']"
      ]
     },
     "execution_count": 5,
     "metadata": {},
     "output_type": "execute_result"
    }
   ],
   "source": [
    "a = soup.find_all('a', {'class': 'read'})\n",
    "a = [a_.get('href') for a_ in a]\n",
    "a"
   ]
  },
  {
   "cell_type": "code",
   "execution_count": 6,
   "metadata": {},
   "outputs": [
    {
     "name": "stderr",
     "output_type": "stream",
     "text": [
      "20it [00:08,  2.34it/s]\n"
     ]
    }
   ],
   "source": [
    "def generator():\n",
    "    while True:\n",
    "        yield\n",
    "        \n",
    "index = 1\n",
    "all_a = []\n",
    "\n",
    "for _ in tqdm(generator()):\n",
    "    url = f'https://www.realestatemy.com/blog/page/{index}/'\n",
    "    r = requests.get(url)\n",
    "    soup = BeautifulSoup(r.content, \"lxml\")\n",
    "\n",
    "    a = soup.find_all('a', {'class': 'read'})\n",
    "    a = [a_.get('href') for a_ in a]\n",
    "    \n",
    "    if not len(a):\n",
    "        break\n",
    "        \n",
    "    all_a.extend(a)\n",
    "    \n",
    "    index += 1"
   ]
  },
  {
   "cell_type": "code",
   "execution_count": 7,
   "metadata": {},
   "outputs": [
    {
     "data": {
      "text/plain": [
       "153"
      ]
     },
     "execution_count": 7,
     "metadata": {},
     "output_type": "execute_result"
    }
   ],
   "source": [
    "urls = sorted(list(set(all_a)))\n",
    "len(urls)"
   ]
  },
  {
   "cell_type": "code",
   "execution_count": 8,
   "metadata": {},
   "outputs": [
    {
     "data": {
      "text/plain": [
       "['https://www.realestatemy.com/%e9%a6%96%e6%ac%a1%e8%b4%ad%e4%b9%b0%e9%a9%ac%e6%9d%a5%e8%a5%bf%e4%ba%9a%e6%88%bf%e5%b1%8b%e7%9a%84%e6%8c%87%e5%8d%97/',\n",
       " 'https://www.realestatemy.com/10-tips-buy-property-malaysia/',\n",
       " 'https://www.realestatemy.com/15-social-media-mistakes-real-estate-agents-avoid/',\n",
       " 'https://www.realestatemy.com/3-common-problems-real-estate-negotiators/',\n",
       " 'https://www.realestatemy.com/4-database-marketing-tips-real-estate-professionals-can-use-to-make-more-sales/',\n",
       " 'https://www.realestatemy.com/4-tips-to-sell-your-property-faster-during-covid-19/',\n",
       " 'https://www.realestatemy.com/5-keys-success-new-real-estate-agents/',\n",
       " 'https://www.realestatemy.com/5-steps-to-build-your-real-estate-client-list/',\n",
       " 'https://www.realestatemy.com/5-tips-for-property-buyers-who-want-to-make-a-competitive-offer/',\n",
       " 'https://www.realestatemy.com/5-tips-on-how-to-follow-up-on-your-real-estate-clients/']"
      ]
     },
     "execution_count": 8,
     "metadata": {},
     "output_type": "execute_result"
    }
   ],
   "source": [
    "urls[:10]"
   ]
  },
  {
   "cell_type": "code",
   "execution_count": 9,
   "metadata": {},
   "outputs": [],
   "source": [
    "url = urls[0]\n",
    "r = requests.get(url)\n",
    "soup = BeautifulSoup(r.content, \"lxml\")"
   ]
  },
  {
   "cell_type": "code",
   "execution_count": 11,
   "metadata": {},
   "outputs": [
    {
     "data": {
      "text/plain": [
       "'首次购买马来西亚房屋的指南'"
      ]
     },
     "execution_count": 11,
     "metadata": {},
     "output_type": "execute_result"
    }
   ],
   "source": [
    "soup.find('h2').text.strip()"
   ]
  },
  {
   "cell_type": "code",
   "execution_count": 12,
   "metadata": {},
   "outputs": [
    {
     "data": {
      "text/plain": [
       "'购买你的第一个家可能会像走出一架飞机一样可怕。在预算范围内抢占第一名，继续租房或与父母住在一起真的很诱人。为帮助您了解流程，我们将检查购买流程之前，期间和之后的情况。\\n购买之前\\n\\xa0\\n做点功课\\n在你做任何其他事情之前，花一些时间与专家，投资者和其他购房者交谈。你会惊讶于他们能给你多少见解。不要在那里停顿。阅读马来西亚的住房市场或参加路演。了解您居住的平均房价。所有这一切现在看起来都很麻烦，但是你会感谢你以后做过的。\\n\\xa0\\n做一个列表\\n首次购房者的选择可能令人难以置信，但制作清单会带来一些清晰度。它不一定要非常逼真。想想您需要什么样的套房：传统的单户住宅，复式住宅，联排别墅或公寓？包括你所不能妥协的基本愿望。它可能是一些大的东西，如邻居或像卫生间瓷砖这样的小东西。既然你很可能是购买生命中最重要的东西，那么你应该尽可能地满足你的需求。\\n考虑一下你的储蓄有多深 \\n现在是时候变得现实并仔细审查您的财务状况了。马来西亚的首次购房者需要以冷硬现金支付5-15％的房产价格作为首付款。还有其他费用，如律师费，房地产经纪人佣金的6％政府服务税，印花税等。\\n了解你可以借多少钱\\n接下来，通过致电一些银行官员或访问您附近的分行，了解您有资格获得多少房屋贷款。马来西亚的标准是房产价格的90％，但也取决于房产类型和您的信誉。\\n\\xa0了解您实际可以负担多少\\n只是因为你有资格获得一笔贷款，让你在Ara Damansara找到一个巴厘岛风格的别墅，并不意味着你能负担得起每月付款。避免成为“房子穷人” – 这是首次购房者常犯的错误。他们拥有梦想中的房子，但没有钱留给衣服，汽油，娱乐，假期甚至食物。大多数金融专家建议您分配不超过总收入的三分之一来偿还房屋贷款。请记住，拥有房屋不仅仅是每月的贷款支付。还有其他费用，如维护费，保险费，退出租金，评估费，水电费等。\\n\\xa0\\n聘请房地产经纪人、\\n到目前为止，你都做得很好，现在是获得外部帮助的时候了。寻找一位优秀的房地产经纪人。他们可以真正帮助您减轻整个过程的压力。除了浏览谈判和文书工作外，他们还可以保护您免受在此过程中可能遇到的任何问题的影响。大多数代理商收到佣金，从卖方的收益中支付。\\n购买期间\\n寻找合适的家\\n是时候将您的背景工作付诸行动了。使用您可以使用的所有选项，包括您的房地产经纪人，在线列表和驾车寻找待售标志。作为首次购房者，寻找可以增加价值的房产，以便增加您的资产并帮助您提升房产阶梯。\\n了解您的融资方案并确保其安全\\n银行贷款不是为您的财产融资的唯一方式。了解您是否有资格获得我的第一个家庭计划，1Malaysia住房计划（PR1MA）或MyDeposit计划。搜索最低利率和最佳配套并完成申请。\\n房屋检查\\n对于没有经验的人来说，您的新家可能看起来完美无瑕。但是最安全的做法是让专业人员检查该地方的质量，安全和整体状况。最后，当你入住有关房子后，也许你才会发现许多意料之外的瑕疵和修复工作。\\n提出条件\\n您的房地产经纪人将帮助您与卖家协商报价和条款与条件。一旦您与卖方达成协议，您将获得提议书或提议书购买凭证的文件，并支付2％的订金。\\n聘请律师并完成交易或继续寻找合适的房屋\\n如果房屋检查没有发现任何严重的问题并且您与卖方达成协议，那么是时候完成交易了。这基本上意味着您需要聘请律师准备所有法律文件，并且您必须在很短的时间内签署大量的文书工作 – 通常在签署提议书或提议书购买后的2周内。\\n购买后\\n进行定期维护\\n就像汽车一样，你的房子也需要定期维护。这样可以在问题较小，易于管理且成本较低时解决问题。\\n保存应急储蓄\\n当你拥有一所房子时会出现意想不到的开支 – 比如安装新空调或修理屋顶漏水。为您的房屋启动应急基金，以便在这些费用不可避免地发生时您不会措手不及。\\n忽略房产市场\\n您房子的价值唯一重要的时刻是当您想要出售它。能够选择何时出售房屋，而不是因金融危机或工作转移而被迫出售房屋，这将决定您的投资利润有多大。\\n不要指望你的家能为你的退休提供资金\\n拥有一个房子可以成为财富的来源，但它不一定会为退休后的生活提供资金。所以最好每年可以尽你所能的去储蓄您的退休金。\\n一旦你掌握了正确的信息，购买你的第一个家的过程似乎并不那么令人生畏。您将能够更自信地管理它，并且很快就会与其他新手分享您的知识。\\n \\nGet RealestateMY’s Property Content\\n '"
      ]
     },
     "execution_count": 12,
     "metadata": {},
     "output_type": "execute_result"
    }
   ],
   "source": [
    "soup.find('div', {'class': 'article-detail'}).get_text(separator=\"\\n\")"
   ]
  },
  {
   "cell_type": "code",
   "execution_count": 13,
   "metadata": {},
   "outputs": [
    {
     "name": "stderr",
     "output_type": "stream",
     "text": [
      "100%|███████████████████████████████████████████████████████████████████████████████████████████████████████████| 153/153 [00:37<00:00,  4.07it/s]\n"
     ]
    }
   ],
   "source": [
    "data = []\n",
    "for url in tqdm(urls):\n",
    "    r = requests.get(url)\n",
    "    soup = BeautifulSoup(r.content, \"lxml\")\n",
    "    try:\n",
    "        data.append({\n",
    "            'url': url,\n",
    "            'title': soup.find('h2').text.strip(),\n",
    "            'body': soup.find('div', {'class': 'article-detail'}).get_text(separator=\"\\n\"),\n",
    "        })\n",
    "    except:\n",
    "        pass"
   ]
  },
  {
   "cell_type": "code",
   "execution_count": 14,
   "metadata": {},
   "outputs": [
    {
     "data": {
      "text/plain": [
       "{'url': 'https://www.realestatemy.com/%e9%a6%96%e6%ac%a1%e8%b4%ad%e4%b9%b0%e9%a9%ac%e6%9d%a5%e8%a5%bf%e4%ba%9a%e6%88%bf%e5%b1%8b%e7%9a%84%e6%8c%87%e5%8d%97/',\n",
       " 'title': '首次购买马来西亚房屋的指南',\n",
       " 'body': '购买你的第一个家可能会像走出一架飞机一样可怕。在预算范围内抢占第一名，继续租房或与父母住在一起真的很诱人。为帮助您了解流程，我们将检查购买流程之前，期间和之后的情况。\\n购买之前\\n\\xa0\\n做点功课\\n在你做任何其他事情之前，花一些时间与专家，投资者和其他购房者交谈。你会惊讶于他们能给你多少见解。不要在那里停顿。阅读马来西亚的住房市场或参加路演。了解您居住的平均房价。所有这一切现在看起来都很麻烦，但是你会感谢你以后做过的。\\n\\xa0\\n做一个列表\\n首次购房者的选择可能令人难以置信，但制作清单会带来一些清晰度。它不一定要非常逼真。想想您需要什么样的套房：传统的单户住宅，复式住宅，联排别墅或公寓？包括你所不能妥协的基本愿望。它可能是一些大的东西，如邻居或像卫生间瓷砖这样的小东西。既然你很可能是购买生命中最重要的东西，那么你应该尽可能地满足你的需求。\\n考虑一下你的储蓄有多深 \\n现在是时候变得现实并仔细审查您的财务状况了。马来西亚的首次购房者需要以冷硬现金支付5-15％的房产价格作为首付款。还有其他费用，如律师费，房地产经纪人佣金的6％政府服务税，印花税等。\\n了解你可以借多少钱\\n接下来，通过致电一些银行官员或访问您附近的分行，了解您有资格获得多少房屋贷款。马来西亚的标准是房产价格的90％，但也取决于房产类型和您的信誉。\\n\\xa0了解您实际可以负担多少\\n只是因为你有资格获得一笔贷款，让你在Ara Damansara找到一个巴厘岛风格的别墅，并不意味着你能负担得起每月付款。避免成为“房子穷人” – 这是首次购房者常犯的错误。他们拥有梦想中的房子，但没有钱留给衣服，汽油，娱乐，假期甚至食物。大多数金融专家建议您分配不超过总收入的三分之一来偿还房屋贷款。请记住，拥有房屋不仅仅是每月的贷款支付。还有其他费用，如维护费，保险费，退出租金，评估费，水电费等。\\n\\xa0\\n聘请房地产经纪人、\\n到目前为止，你都做得很好，现在是获得外部帮助的时候了。寻找一位优秀的房地产经纪人。他们可以真正帮助您减轻整个过程的压力。除了浏览谈判和文书工作外，他们还可以保护您免受在此过程中可能遇到的任何问题的影响。大多数代理商收到佣金，从卖方的收益中支付。\\n购买期间\\n寻找合适的家\\n是时候将您的背景工作付诸行动了。使用您可以使用的所有选项，包括您的房地产经纪人，在线列表和驾车寻找待售标志。作为首次购房者，寻找可以增加价值的房产，以便增加您的资产并帮助您提升房产阶梯。\\n了解您的融资方案并确保其安全\\n银行贷款不是为您的财产融资的唯一方式。了解您是否有资格获得我的第一个家庭计划，1Malaysia住房计划（PR1MA）或MyDeposit计划。搜索最低利率和最佳配套并完成申请。\\n房屋检查\\n对于没有经验的人来说，您的新家可能看起来完美无瑕。但是最安全的做法是让专业人员检查该地方的质量，安全和整体状况。最后，当你入住有关房子后，也许你才会发现许多意料之外的瑕疵和修复工作。\\n提出条件\\n您的房地产经纪人将帮助您与卖家协商报价和条款与条件。一旦您与卖方达成协议，您将获得提议书或提议书购买凭证的文件，并支付2％的订金。\\n聘请律师并完成交易或继续寻找合适的房屋\\n如果房屋检查没有发现任何严重的问题并且您与卖方达成协议，那么是时候完成交易了。这基本上意味着您需要聘请律师准备所有法律文件，并且您必须在很短的时间内签署大量的文书工作 – 通常在签署提议书或提议书购买后的2周内。\\n购买后\\n进行定期维护\\n就像汽车一样，你的房子也需要定期维护。这样可以在问题较小，易于管理且成本较低时解决问题。\\n保存应急储蓄\\n当你拥有一所房子时会出现意想不到的开支 – 比如安装新空调或修理屋顶漏水。为您的房屋启动应急基金，以便在这些费用不可避免地发生时您不会措手不及。\\n忽略房产市场\\n您房子的价值唯一重要的时刻是当您想要出售它。能够选择何时出售房屋，而不是因金融危机或工作转移而被迫出售房屋，这将决定您的投资利润有多大。\\n不要指望你的家能为你的退休提供资金\\n拥有一个房子可以成为财富的来源，但它不一定会为退休后的生活提供资金。所以最好每年可以尽你所能的去储蓄您的退休金。\\n一旦你掌握了正确的信息，购买你的第一个家的过程似乎并不那么令人生畏。您将能够更自信地管理它，并且很快就会与其他新手分享您的知识。\\n \\nGet RealestateMY’s Property Content\\n '}"
      ]
     },
     "execution_count": 14,
     "metadata": {},
     "output_type": "execute_result"
    }
   ],
   "source": [
    "data[0]"
   ]
  },
  {
   "cell_type": "code",
   "execution_count": 15,
   "metadata": {},
   "outputs": [],
   "source": [
    "with open('realestatemy.com.jsonl', 'w') as fopen:\n",
    "    for d in data:\n",
    "        fopen.write(f'{json.dumps(d)}\\n')"
   ]
  }
 ],
 "metadata": {
  "kernelspec": {
   "display_name": "Python 3 (ipykernel)",
   "language": "python",
   "name": "python3"
  },
  "language_info": {
   "codemirror_mode": {
    "name": "ipython",
    "version": 3
   },
   "file_extension": ".py",
   "mimetype": "text/x-python",
   "name": "python",
   "nbconvert_exporter": "python",
   "pygments_lexer": "ipython3",
   "version": "3.8.10"
  }
 },
 "nbformat": 4,
 "nbformat_minor": 4
}
