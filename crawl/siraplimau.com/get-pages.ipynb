{
 "cells": [
  {
   "cell_type": "code",
   "execution_count": 1,
   "metadata": {},
   "outputs": [],
   "source": [
    "import requests\n",
    "from bs4 import BeautifulSoup\n",
    "from tqdm import tqdm\n",
    "import os\n",
    "import json\n",
    "import numpy as np\n",
    "import time\n",
    "import random\n",
    "import json\n",
    "import urllib3\n",
    "urllib3.disable_warnings(urllib3.exceptions.InsecureRequestWarning)"
   ]
  },
  {
   "cell_type": "code",
   "execution_count": 2,
   "metadata": {},
   "outputs": [
    {
     "data": {
      "text/plain": [
       "10580"
      ]
     },
     "execution_count": 2,
     "metadata": {},
     "output_type": "execute_result"
    }
   ],
   "source": [
    "from glob import glob\n",
    "\n",
    "files = glob('url/*.json')\n",
    "urls = []\n",
    "for f in files:\n",
    "    with open(f) as fopen:\n",
    "        urls.extend(json.load(fopen))\n",
    "urls = sorted(list(set(urls)))\n",
    "len(urls)"
   ]
  },
  {
   "cell_type": "code",
   "execution_count": 3,
   "metadata": {},
   "outputs": [],
   "source": [
    "r = requests.get(urls[0])\n",
    "soup = BeautifulSoup(r.content, \"lxml\")"
   ]
  },
  {
   "cell_type": "code",
   "execution_count": 12,
   "metadata": {},
   "outputs": [
    {
     "data": {
      "text/plain": [
       "'https://siraplimau.com/1-inci-pun-boleh-lemas-ini-cara-elak-risiko-anak-lemas-dalam-bilik-air-anda-kena-tahu/'"
      ]
     },
     "execution_count": 12,
     "metadata": {},
     "output_type": "execute_result"
    }
   ],
   "source": [
    "urls[0]"
   ]
  },
  {
   "cell_type": "code",
   "execution_count": 6,
   "metadata": {},
   "outputs": [
    {
     "data": {
      "text/plain": [
       "'‘1 Inci Pun Boleh Lemas’- Ini Cara Elak Risiko Anak Lemas Dalam Bilik Air Anda Kena Tahu'"
      ]
     },
     "execution_count": 6,
     "metadata": {},
     "output_type": "execute_result"
    }
   ],
   "source": [
    "soup.find('h1').text"
   ]
  },
  {
   "cell_type": "code",
   "execution_count": 15,
   "metadata": {},
   "outputs": [
    {
     "data": {
      "text/plain": [
       "'Insiden kanak-kanak lemas di dalam bilik air bukanlah sesuatu yang asing lagi dan ia adalah satu kejadian yang sepatutnya tidak dipandang remeh oleh semua kerana melibatkan nyawa mereka.\\nBahaya jika ditinggalkan sendirian meskipun\\xa0kedalaman air hanya 1 inci atau kurang daripada 2.5cm juga boleh buatkan anak lemas. Jadi, perlu lebih berhati-hati dan menitikberatkan beberapa perkara seperti yang diulas oleh Dr Kamarul Ariffin di Facebook miliknya.\\n\\n\\n\\n\\nBaca juga:\\xa0“Sekelip Mata Dalam Baldi!”- Ibu Buat CPR Selamatkan Anak Lemas Ketika Mandi\\nINI CARA ELAK RISIKO ANAK LEMAS DALAM BILIK AIR ANDA KENA TAHU\\n\\n\\n\\n\\n\\n\\n\\n\\n\\n\\n\\nIbu bapa kena tahu hal ini. Kanak-kanak boleh lemas di dalam air walaupun kedalamannya hanya 1 inci atau kurang daripada 2.5 sentimeter.\\n\\n\\n\\n\\n\\nAda beberapa perkara kita perlu pastikan untuk elak risiko anak lemas di dalam bilik air, antaranya:\\n1. ELAK TINGGAL ANAK MANDI SENDIRIAN\\n\\nJangan tinggalkan anak mandi sendirian di dalam besen, baldi, tab mandi atau kolam berisi air walaupun untuk seketika. Jika keluar dari bilik air, bawa anak sekali.\\n2. TERDAPAT RISIKO TERGELINCIR\\nSelain lemas, kanak-kanak yang bermain di bilik air sendirian mudah tergelincir dan tersungkur kerana permukaan lantai licin. Terutamanya pada yang baru belajar berjalan.\\n3. SIMPAN BEKAS TAKUNGAN AIR\\nKosongkan dan simpan bekas takungan air di tempat yang sesuai selepas menggunakannya supaya anak tidak ambil dan mengisikannya dengan air tanpa pengawasan.\\n\\n4. TUTUP BEKAS TAKUNGAN AIR\\nAda bilik air mempunyai binaan takungan air yang kekal seperti kolah. Jika tidak boleh kosongkan, maka tutuplah ia. Mangkuk tandas jenis duduk pun elok ditutup.\\n5. TUTUP PINTU BILIK AIR\\n\\nJika tak boleh kosongkan, dan tak boleh tutup bekas takung air. Maka tutuplah pintu bilik air jika tiada sesiapa menggunakannya. Ini untuk elak anak masuk tanpa kita sedar.\\nSemoga bermanfaat! Nanti kita belajar sikit tentang CPR untuk bayi pula, ya?\\nSumber: Facebook Dr Kamarul Ariffin Nor Sadan\\n'"
      ]
     },
     "execution_count": 15,
     "metadata": {},
     "output_type": "execute_result"
    }
   ],
   "source": [
    "soup.find('div', {'itemprop':\"articleBody\"}).text"
   ]
  },
  {
   "cell_type": "code",
   "execution_count": 7,
   "metadata": {},
   "outputs": [
    {
     "data": {
      "text/plain": [
       "'https://siraplimau.com/1-inci-pun-boleh-lemas-ini-cara-elak-risiko-anak-lemas-dalam-bilik-air-anda-kena-tahu/'"
      ]
     },
     "execution_count": 7,
     "metadata": {},
     "output_type": "execute_result"
    }
   ],
   "source": [
    "urls[0]"
   ]
  },
  {
   "cell_type": "code",
   "execution_count": 10,
   "metadata": {},
   "outputs": [
    {
     "data": {
      "text/plain": [
       "[]"
      ]
     },
     "execution_count": 10,
     "metadata": {},
     "output_type": "execute_result"
    }
   ],
   "source": [
    "soup.find_all('div', {'class': 'content-main'})"
   ]
  },
  {
   "cell_type": "code",
   "execution_count": 13,
   "metadata": {},
   "outputs": [
    {
     "data": {
      "text/plain": [
       "[<p>Insiden kanak-kanak lemas di dalam bilik air bukanlah sesuatu yang asing lagi dan ia adalah satu kejadian yang sepatutnya tidak dipandang remeh oleh semua kerana melibatkan nyawa mereka.</p>,\n",
       " <p>Bahaya jika ditinggalkan sendirian meskipun kedalaman air hanya 1 inci atau kurang daripada 2.5cm juga boleh buatkan anak lemas. Jadi, perlu lebih berhati-hati dan menitikberatkan beberapa perkara seperti yang diulas oleh Dr Kamarul Ariffin di Facebook miliknya.</p>,\n",
       " <p>Baca juga: <a href=\"https://siraplimau.com/sekelip-mata-dalam-baldi-ibu-buat-cpr-selamatkan-anak-lemas-ketika-mandi/\">“Sekelip Mata Dalam Baldi!”- Ibu Buat CPR Selamatkan Anak Lemas Ketika Mandi</a></p>,\n",
       " <p><img alt=\"\" class=\"aligncenter size-full wp-image-132280\" height=\"392\" loading=\"lazy\" sizes=\"(max-width: 687px) 100vw, 687px\" src=\"https://media.siraplimau.com/2022/03/lemas.jpg\" srcset=\"https://media.siraplimau.com/2022/03/lemas-300x171.jpg 300w, https://media.siraplimau.com/2022/03/lemas.jpg 687w\" width=\"687\"/></p>,\n",
       " <p>Ibu bapa kena tahu hal ini. Kanak-kanak boleh lemas di dalam air walaupun kedalamannya hanya 1 inci atau kurang daripada 2.5 sentimeter.</p>,\n",
       " <p>Ada beberapa perkara kita perlu pastikan untuk elak risiko anak lemas di dalam bilik air, antaranya:</p>,\n",
       " <p><img alt=\"\" class=\"aligncenter size-full wp-image-132281\" height=\"480\" loading=\"lazy\" sizes=\"(max-width: 853px) 100vw, 853px\" src=\"https://media.siraplimau.com/2022/03/kids.jpg\" srcset=\"https://media.siraplimau.com/2022/03/kids-300x169.jpg 300w, https://media.siraplimau.com/2022/03/kids-768x432.jpg 768w, https://media.siraplimau.com/2022/03/kids.jpg 853w\" width=\"853\"/></p>,\n",
       " <p>Jangan tinggalkan anak mandi sendirian di dalam besen, baldi, tab mandi atau kolam berisi air walaupun untuk seketika. Jika keluar dari bilik air, bawa anak sekali.</p>,\n",
       " <p>Selain lemas, kanak-kanak yang bermain di bilik air sendirian mudah tergelincir dan tersungkur kerana permukaan lantai licin. Terutamanya pada yang baru belajar berjalan.</p>,\n",
       " <p>Kosongkan dan simpan bekas takungan air di tempat yang sesuai selepas menggunakannya supaya anak tidak ambil dan mengisikannya dengan air tanpa pengawasan.</p>,\n",
       " <p><img alt=\"\" class=\"aligncenter size-full wp-image-132282\" height=\"420\" loading=\"lazy\" sizes=\"(max-width: 725px) 100vw, 725px\" src=\"https://media.siraplimau.com/2022/03/kidss.jpg\" srcset=\"https://media.siraplimau.com/2022/03/kidss-300x174.jpg 300w, https://media.siraplimau.com/2022/03/kidss.jpg 725w\" width=\"725\"/></p>,\n",
       " <p>Ada bilik air mempunyai binaan takungan air yang kekal seperti kolah. Jika tidak boleh kosongkan, maka tutuplah ia. Mangkuk tandas jenis duduk pun elok ditutup.</p>,\n",
       " <p><img alt=\"\" class=\"aligncenter size-full wp-image-132283\" height=\"1200\" loading=\"lazy\" sizes=\"(max-width: 1200px) 100vw, 1200px\" src=\"https://media.siraplimau.com/2022/03/tutup.jpg\" srcset=\"https://media.siraplimau.com/2022/03/tutup-300x300.jpg 300w, https://media.siraplimau.com/2022/03/tutup-768x768.jpg 768w, https://media.siraplimau.com/2022/03/tutup-1024x1024.jpg 1024w, https://media.siraplimau.com/2022/03/tutup.jpg 1200w\" width=\"1200\"/></p>,\n",
       " <p>Jika tak boleh kosongkan, dan tak boleh tutup bekas takung air. Maka tutuplah pintu bilik air jika tiada sesiapa menggunakannya. Ini untuk elak anak masuk tanpa kita sedar.</p>,\n",
       " <p>Semoga bermanfaat! Nanti kita belajar sikit tentang CPR untuk bayi pula, ya?</p>,\n",
       " <p>Sumber: <a href=\"https://www.facebook.com/505988350/posts/10159818507793351/?d=n\">Facebook Dr Kamarul Ariffin Nor Sadan</a></p>,\n",
       " <p>Dimiliki oleh REV Media Group, sebahagian daripada Kumpulan Media Prima</p>,\n",
       " <p>Kalau ada banyak lebihan daging korban di rumah dan tak tahu nak masak apa,...</p>,\n",
       " <p>Hubungan seks antara suami isteri sememangnya perkara yang digalakkan kerana boleh meningkat rasa cinta...</p>,\n",
       " <p>Fenomena kepala air sering berlaku bila aliran air sungai yang kuat akibat hujan lebat...</p>,\n",
       " <p>Hakcipta Terpelihara © 2018 SirapLimau.com</p>]"
      ]
     },
     "execution_count": 13,
     "metadata": {},
     "output_type": "execute_result"
    }
   ],
   "source": [
    "soup.find_all('p')"
   ]
  },
  {
   "cell_type": "code",
   "execution_count": null,
   "metadata": {},
   "outputs": [
    {
     "name": "stderr",
     "output_type": "stream",
     "text": [
      " 61%|████████████████████████████████████████████████████▏                                 | 6423/10580 [1:09:09<39:46,  1.74it/s]"
     ]
    }
   ],
   "source": [
    "with open('data.jsonl', 'w') as fopen:\n",
    "    for url in tqdm(urls):\n",
    "        r = requests.get(url)\n",
    "        soup = BeautifulSoup(r.content, \"lxml\")\n",
    "        try:\n",
    "            title = soup.find('h1').text\n",
    "        except:\n",
    "            title = None\n",
    "        try:\n",
    "            body = soup.find('div', {'itemprop':\"articleBody\"}).text\n",
    "        except:\n",
    "            body = None\n",
    "        data = {\n",
    "            'url': url,\n",
    "            'title': title,\n",
    "            'body': body\n",
    "        }\n",
    "        fopen.write(f'{json.dumps(data)}\\n')"
   ]
  },
  {
   "cell_type": "code",
   "execution_count": null,
   "metadata": {},
   "outputs": [],
   "source": []
  }
 ],
 "metadata": {
  "kernelspec": {
   "display_name": "Python 3 (ipykernel)",
   "language": "python",
   "name": "python3"
  },
  "language_info": {
   "codemirror_mode": {
    "name": "ipython",
    "version": 3
   },
   "file_extension": ".py",
   "mimetype": "text/x-python",
   "name": "python",
   "nbconvert_exporter": "python",
   "pygments_lexer": "ipython3",
   "version": "3.8.10"
  }
 },
 "nbformat": 4,
 "nbformat_minor": 4
}
