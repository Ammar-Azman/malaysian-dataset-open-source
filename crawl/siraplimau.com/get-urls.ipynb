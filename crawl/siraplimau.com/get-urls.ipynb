{
 "cells": [
  {
   "cell_type": "code",
   "execution_count": 1,
   "metadata": {},
   "outputs": [],
   "source": [
    "import requests\n",
    "from bs4 import BeautifulSoup\n",
    "from tqdm import tqdm\n",
    "import os\n",
    "import json\n",
    "import numpy as np\n",
    "import time\n",
    "import random\n",
    "import json"
   ]
  },
  {
   "cell_type": "code",
   "execution_count": 2,
   "metadata": {},
   "outputs": [],
   "source": [
    "topics = [\n",
    "    'https://siraplimau.com/',\n",
    "    'https://siraplimau.com/40-minggu/',\n",
    "    'https://siraplimau.com/asuh/',\n",
    "    'https://siraplimau.com/famili/',\n",
    "    'https://siraplimau.com/nur/',\n",
    "    'https://siraplimau.com/dapur/',\n",
    "    'https://siraplimau.com/percutian/',\n",
    "    'https://siraplimau.com/teknologi/',\n",
    "    'https://siraplimau.com/deko-hias/',\n",
    "    'https://siraplimau.com/diy-kraf/',\n",
    "    'https://siraplimau.com/inspirasi/'\n",
    "]"
   ]
  },
  {
   "cell_type": "code",
   "execution_count": 3,
   "metadata": {},
   "outputs": [],
   "source": [
    "r = requests.get(topics[0])\n",
    "soup = BeautifulSoup(r.content, \"lxml\")"
   ]
  },
  {
   "cell_type": "code",
   "execution_count": 7,
   "metadata": {},
   "outputs": [
    {
     "data": {
      "text/plain": [
       "['Page 1 of 588']"
      ]
     },
     "execution_count": 7,
     "metadata": {},
     "output_type": "execute_result"
    }
   ],
   "source": [
    "span = soup.find('div', {'class': 'pagination'}).find_all('span')\n",
    "span = [span_.text for span_ in span if ' of ' in span_.text]\n",
    "span"
   ]
  },
  {
   "cell_type": "code",
   "execution_count": 10,
   "metadata": {},
   "outputs": [
    {
     "data": {
      "text/plain": [
       "588"
      ]
     },
     "execution_count": 10,
     "metadata": {},
     "output_type": "execute_result"
    }
   ],
   "source": [
    "int(span[0].split('of ')[1])"
   ]
  },
  {
   "cell_type": "code",
   "execution_count": 13,
   "metadata": {},
   "outputs": [
    {
     "data": {
      "text/plain": [
       "['https://siraplimau.com/penjagaan-kebersihan-faraj/',\n",
       " 'https://siraplimau.com/neelofa-dan-pu-riz-pilih-fellera-skin/',\n",
       " 'https://siraplimau.com/solat-tanpa-pakaian-dalam/',\n",
       " 'https://siraplimau.com/syarat-harta-sepencarian/',\n",
       " 'https://siraplimau.com/tips-mandi-sungai-dan-air-terjun/',\n",
       " 'https://siraplimau.com/makanan-punca-mengantuk/',\n",
       " 'https://siraplimau.com/tanda-bersalin-awal-atau-pramatang/',\n",
       " 'https://siraplimau.com/petua-cempedak-goreng/',\n",
       " 'https://siraplimau.com/allah-uji-tanda-sayang/',\n",
       " 'https://siraplimau.com/anak-susah-tidur-malam/',\n",
       " 'https://siraplimau.com/posisi-tidur-dalam-islam/',\n",
       " 'https://siraplimau.com/persediaan-bakal-pengantin/',\n",
       " 'https://siraplimau.com/punca-keguguran-kandungan/',\n",
       " 'https://siraplimau.com/khasiat-tembikai-susu/',\n",
       " 'https://siraplimau.com/tips-tidur/',\n",
       " 'https://siraplimau.com/rumah-tangga-bahagia/',\n",
       " 'https://siraplimau.com/resepi-roti-canai-simple/',\n",
       " 'https://siraplimau.com/tips-simpan-daun-herba/']"
      ]
     },
     "execution_count": 13,
     "metadata": {},
     "output_type": "execute_result"
    }
   ],
   "source": [
    "li = soup.find_all('li', {'class': 'infinite-post'})\n",
    "li = [li_.find('a').get('href') for li_ in li]\n",
    "li"
   ]
  },
  {
   "cell_type": "code",
   "execution_count": 17,
   "metadata": {},
   "outputs": [],
   "source": [
    "!rm -rf url\n",
    "!mkdir url"
   ]
  },
  {
   "cell_type": "code",
   "execution_count": null,
   "metadata": {},
   "outputs": [
    {
     "name": "stderr",
     "output_type": "stream",
     "text": [
      "100%|███████████████████████████████████████████████████████████████████████████████████████████| 588/588 [07:18<00:00,  1.34it/s]\n",
      "100%|█████████████████████████████████████████████████████████████████████████████████████████████| 39/39 [00:25<00:00,  1.52it/s]\n",
      "100%|█████████████████████████████████████████████████████████████████████████████████████████████| 65/65 [00:46<00:00,  1.40it/s]\n",
      " 66%|████████████████████████████████████████████████████████████▍                              | 190/286 [02:18<01:10,  1.35it/s]"
     ]
    }
   ],
   "source": [
    "for t in topics:\n",
    "    t_ = t.split('com/')[1].replace('/', '-')\n",
    "    r = requests.get(t)\n",
    "    soup = BeautifulSoup(r.content, \"lxml\")\n",
    "    span = soup.find('div', {'class': 'pagination'}).find_all('span')\n",
    "    span = [span_.text for span_ in span if ' of ' in span_.text]\n",
    "        \n",
    "    if len(span):\n",
    "        num_page = int(span[0].split('of ')[1])\n",
    "    else:\n",
    "        num_page = 1\n",
    "    \n",
    "    for index in tqdm(range(1, num_page + 1, 1)):\n",
    "        filename = os.path.join('url', f'{t_}-{index}.json')\n",
    "        if os.path.exists(filename):\n",
    "            continue\n",
    "        url = f'{t}page/{index}/'\n",
    "        r = requests.get(url)\n",
    "        soup = BeautifulSoup(r.content, \"lxml\")\n",
    "        \n",
    "        li = soup.find_all('li', {'class': 'infinite-post'})\n",
    "        a = [li_.find('a').get('href') for li_ in li]\n",
    "\n",
    "        with open(filename, 'w') as fopen:\n",
    "            json.dump(a, fopen)       "
   ]
  },
  {
   "cell_type": "code",
   "execution_count": null,
   "metadata": {},
   "outputs": [],
   "source": []
  }
 ],
 "metadata": {
  "kernelspec": {
   "display_name": "Python 3 (ipykernel)",
   "language": "python",
   "name": "python3"
  },
  "language_info": {
   "codemirror_mode": {
    "name": "ipython",
    "version": 3
   },
   "file_extension": ".py",
   "mimetype": "text/x-python",
   "name": "python",
   "nbconvert_exporter": "python",
   "pygments_lexer": "ipython3",
   "version": "3.8.10"
  }
 },
 "nbformat": 4,
 "nbformat_minor": 4
}
