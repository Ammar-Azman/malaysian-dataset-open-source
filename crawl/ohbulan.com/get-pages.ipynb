{
 "cells": [
  {
   "cell_type": "code",
   "execution_count": 1,
   "metadata": {},
   "outputs": [],
   "source": [
    "import requests\n",
    "from bs4 import BeautifulSoup\n",
    "from tqdm import tqdm\n",
    "import os\n",
    "import json\n",
    "import numpy as np\n",
    "import time\n",
    "import random\n",
    "import json\n",
    "import urllib3\n",
    "urllib3.disable_warnings(urllib3.exceptions.InsecureRequestWarning)"
   ]
  },
  {
   "cell_type": "code",
   "execution_count": 2,
   "metadata": {},
   "outputs": [],
   "source": [
    "cookies = {\n",
    "    '__cfruid': 'e546d73b09274bb6592d63d6a0698270c90793e0-1688640975',\n",
    "    '_cc_id': '69f8b801beef15345eb5accdea253af',\n",
    "    'panoramaId': 'be52973bf52e8223169963ad8c9d16d539387bd118431a829eb171349f762869',\n",
    "    'panoramaIdType': 'panoIndiv',\n",
    "    '_pbjs_userid_consent_data': '3524755945110770',\n",
    "    '_gid': 'GA1.2.1173872994.1688640976',\n",
    "    '_cb': 'CJom75JYChDWu8AS',\n",
    "    'PHPSESSID': 'e78ac0d6f7f73969d775f3a61d93fc89',\n",
    "    '_lr_env_src_ats': 'false',\n",
    "    'pubmatic-unifiedid': '%7B%22TDID%22%3A%2259a14f4e-9cd9-4559-947d-09f703acfc99%22%2C%22TDID_LOOKUP%22%3A%22TRUE%22%2C%22TDID_CREATED_AT%22%3A%222023-06-06T10%3A56%3A18%22%7D',\n",
    "    '_cb_svref': 'null',\n",
    "    '_lr_retry_request': 'true',\n",
    "    'trc_cookie_storage': 'taboola%2520global%253Auser-id%3Dd17cd528-3462-4d94-885f-447b3bbb14ec-tuct62a25a2',\n",
    "    '__cf_bm': 'gjyYIl_gYklLkKIz4192graVunHM2jjD50pLLVg6U8o-1688680852-0-Af8Cpj57JS3bV01/4XB+VidUa96KNjscX56++HwkVRZ0JfAqO4Gev/4K/c5iHtsx/em4VXIj2HNArDerQMUNTSVKP6Fo8dhO2HDSaGWTHQKr',\n",
    "    'panoramaId_expiry': '1689285652288',\n",
    "    '_gat_UA-4495767-4': '1',\n",
    "    '_chartbeat2': '.1688640976552.1688680852876.11.BQGMuwBqE-HDZmuYkD6AMdtDNRdqn.19',\n",
    "    '_ga': 'GA1.2.567445177.1688640976',\n",
    "    'cto_bundle': 'i4B4AV9ETnZQMjQxQmd1MHF5akFVayUyQk96R0Nra29xbm9yQ2IlMkYlMkZtNklqM0RJckJIU2tXMXFNOElydkVGaUdGMDdGa1hOYU5kY29lT3MwM2x1b1ZYYk16M3ZnJTJCdWxHWUtsMWFHWWo2VDhBZzBldDJBJTJCTG5PNmpRMGtVZEoyWjVZUnlydWVoUTBlMlJhejgzVFhWRjVZSzlkQ0pBJTNEJTNE',\n",
    "    'cto_bidid': 'Dv5efl9vVkxYTk1PbmlDS3lUd2EyRmZ5ZTFvJTJGbUtGUzJSS1RaN28ydm8wMzhxMUFScGIxeE9mNkl0Tnp5YXhYU0hJekJjb1JGbDFpUTF5UGZnRHJNNDQxQVVMVVA4JTJGaEdzVWY0TldGciUyQlhjTjZRRSUzRA',\n",
    "    '_chartbeat4': 't=Dg3-8jDAVWCdveLYsrgzz_BzWzYk&E=6&x=1161&c=7.76&y=4413&w=759',\n",
    "    '_ga_J539FW2733': 'GS1.1.1688678458.2.1.1688680858.54.0.0',\n",
    "}\n",
    "\n",
    "headers = {\n",
    "    'authority': 'ohbulan.com',\n",
    "    'accept': 'text/html,application/xhtml+xml,application/xml;q=0.9,image/avif,image/webp,image/apng,*/*;q=0.8,application/signed-exchange;v=b3;q=0.7',\n",
    "    'accept-language': 'en-MY,en;q=0.9,en-US;q=0.8,ms;q=0.7',\n",
    "    'cache-control': 'no-cache',\n",
    "    # 'cookie': '__cfruid=e546d73b09274bb6592d63d6a0698270c90793e0-1688640975; _cc_id=69f8b801beef15345eb5accdea253af; panoramaId=be52973bf52e8223169963ad8c9d16d539387bd118431a829eb171349f762869; panoramaIdType=panoIndiv; _pbjs_userid_consent_data=3524755945110770; _gid=GA1.2.1173872994.1688640976; _cb=CJom75JYChDWu8AS; PHPSESSID=e78ac0d6f7f73969d775f3a61d93fc89; _lr_env_src_ats=false; pubmatic-unifiedid=%7B%22TDID%22%3A%2259a14f4e-9cd9-4559-947d-09f703acfc99%22%2C%22TDID_LOOKUP%22%3A%22TRUE%22%2C%22TDID_CREATED_AT%22%3A%222023-06-06T10%3A56%3A18%22%7D; _cb_svref=null; _lr_retry_request=true; trc_cookie_storage=taboola%2520global%253Auser-id%3Dd17cd528-3462-4d94-885f-447b3bbb14ec-tuct62a25a2; __cf_bm=gjyYIl_gYklLkKIz4192graVunHM2jjD50pLLVg6U8o-1688680852-0-Af8Cpj57JS3bV01/4XB+VidUa96KNjscX56++HwkVRZ0JfAqO4Gev/4K/c5iHtsx/em4VXIj2HNArDerQMUNTSVKP6Fo8dhO2HDSaGWTHQKr; panoramaId_expiry=1689285652288; _gat_UA-4495767-4=1; _chartbeat2=.1688640976552.1688680852876.11.BQGMuwBqE-HDZmuYkD6AMdtDNRdqn.19; _ga=GA1.2.567445177.1688640976; cto_bundle=i4B4AV9ETnZQMjQxQmd1MHF5akFVayUyQk96R0Nra29xbm9yQ2IlMkYlMkZtNklqM0RJckJIU2tXMXFNOElydkVGaUdGMDdGa1hOYU5kY29lT3MwM2x1b1ZYYk16M3ZnJTJCdWxHWUtsMWFHWWo2VDhBZzBldDJBJTJCTG5PNmpRMGtVZEoyWjVZUnlydWVoUTBlMlJhejgzVFhWRjVZSzlkQ0pBJTNEJTNE; cto_bidid=Dv5efl9vVkxYTk1PbmlDS3lUd2EyRmZ5ZTFvJTJGbUtGUzJSS1RaN28ydm8wMzhxMUFScGIxeE9mNkl0Tnp5YXhYU0hJekJjb1JGbDFpUTF5UGZnRHJNNDQxQVVMVVA4JTJGaEdzVWY0TldGciUyQlhjTjZRRSUzRA; _chartbeat4=t=Dg3-8jDAVWCdveLYsrgzz_BzWzYk&E=6&x=1161&c=7.76&y=4413&w=759; _ga_J539FW2733=GS1.1.1688678458.2.1.1688680858.54.0.0',\n",
    "    'pragma': 'no-cache',\n",
    "    'sec-ch-ua': '\"Not.A/Brand\";v=\"8\", \"Chromium\";v=\"114\", \"Google Chrome\";v=\"114\"',\n",
    "    'sec-ch-ua-mobile': '?0',\n",
    "    'sec-ch-ua-platform': '\"macOS\"',\n",
    "    'sec-fetch-dest': 'document',\n",
    "    'sec-fetch-mode': 'navigate',\n",
    "    'sec-fetch-site': 'none',\n",
    "    'sec-fetch-user': '?1',\n",
    "    'upgrade-insecure-requests': '1',\n",
    "    'user-agent': 'Mozilla/5.0 (Macintosh; Intel Mac OS X 10_15_7) AppleWebKit/537.36 (KHTML, like Gecko) Chrome/114.0.0.0 Safari/537.36',\n",
    "}"
   ]
  },
  {
   "cell_type": "code",
   "execution_count": 3,
   "metadata": {},
   "outputs": [],
   "source": [
    "from requests_html import HTMLSession, AsyncHTMLSession\n",
    "\n",
    "async def get_html(url):\n",
    "    session = AsyncHTMLSession(verify = False)\n",
    "    result = None\n",
    "    try:\n",
    "        \n",
    "        r = await session.get(url, verify = False, timeout = 10)\n",
    "        await r.html.arender(timeout = 10)\n",
    "        \n",
    "        result = r.html.html\n",
    "    except Exception as e:\n",
    "        print(e)\n",
    "        pass\n",
    "    \n",
    "    await session.close()\n",
    "    return result"
   ]
  },
  {
   "cell_type": "code",
   "execution_count": 4,
   "metadata": {},
   "outputs": [],
   "source": [
    "with open('url.json') as fopen:\n",
    "    urls = sorted(json.load(fopen))"
   ]
  },
  {
   "cell_type": "code",
   "execution_count": 5,
   "metadata": {},
   "outputs": [
    {
     "name": "stdout",
     "output_type": "stream",
     "text": [
      "mkdir: cannot create directory ‘page’: File exists\r\n"
     ]
    }
   ],
   "source": [
    "!mkdir page"
   ]
  },
  {
   "cell_type": "code",
   "execution_count": null,
   "metadata": {},
   "outputs": [
    {
     "name": "stderr",
     "output_type": "stream",
     "text": [
      "4625it [00:00, 10522.87it/s]"
     ]
    },
    {
     "name": "stdout",
     "output_type": "stream",
     "text": [
      "'NoneType' object has no attribute 'text'\n",
      "'NoneType' object has no attribute 'text'\n"
     ]
    },
    {
     "name": "stderr",
     "output_type": "stream",
     "text": [
      "\r",
      "5678it [00:00, 6041.49it/s] "
     ]
    },
    {
     "name": "stdout",
     "output_type": "stream",
     "text": [
      "'NoneType' object has no attribute 'text'\n",
      "'NoneType' object has no attribute 'text'\n"
     ]
    },
    {
     "name": "stderr",
     "output_type": "stream",
     "text": [
      "\r",
      "7997it [00:01, 6569.13it/s]"
     ]
    },
    {
     "name": "stdout",
     "output_type": "stream",
     "text": [
      "'NoneType' object has no attribute 'text'\n",
      "'NoneType' object has no attribute 'text'\n"
     ]
    },
    {
     "name": "stderr",
     "output_type": "stream",
     "text": [
      "\r",
      "12691it [00:01, 8500.68it/s]"
     ]
    },
    {
     "name": "stdout",
     "output_type": "stream",
     "text": [
      "'NoneType' object has no attribute 'text'\n",
      "'NoneType' object has no attribute 'text'\n"
     ]
    },
    {
     "name": "stderr",
     "output_type": "stream",
     "text": [
      "29499it [3:22:47,  3.82s/it]"
     ]
    }
   ],
   "source": [
    "for no, url in tqdm(enumerate(urls)):\n",
    "    filename = os.path.join('page', f'{no}.json')\n",
    "    if os.path.exists(filename):\n",
    "        continue\n",
    "        \n",
    "    r = requests.get(url, cookies=cookies, headers=headers)\n",
    "    \n",
    "    soup = BeautifulSoup(r.content, \"lxml\")\n",
    "\n",
    "    try:\n",
    "        title = soup.find('h1', {'class': 'single-title'}).text\n",
    "    except Exception as e:\n",
    "        print(e)\n",
    "        title = None\n",
    "\n",
    "    try:\n",
    "        body = soup.find('div', {'class': 'single-archive'}).text\n",
    "    except Exception as e:\n",
    "        print(e)\n",
    "        body = None\n",
    "        \n",
    "    if body is None:\n",
    "        continue\n",
    "\n",
    "    data = {\n",
    "        'url': url,\n",
    "        'title': title,\n",
    "        'body': body,\n",
    "    }\n",
    "    with open(filename, 'w') as fopen:\n",
    "        json.dump(data, fopen)\n",
    "        \n",
    "    time.sleep(random.uniform(2.0, 4.0))"
   ]
  },
  {
   "cell_type": "code",
   "execution_count": null,
   "metadata": {},
   "outputs": [],
   "source": []
  }
 ],
 "metadata": {
  "kernelspec": {
   "display_name": "Python 3 (ipykernel)",
   "language": "python",
   "name": "python3"
  },
  "language_info": {
   "codemirror_mode": {
    "name": "ipython",
    "version": 3
   },
   "file_extension": ".py",
   "mimetype": "text/x-python",
   "name": "python",
   "nbconvert_exporter": "python",
   "pygments_lexer": "ipython3",
   "version": "3.8.10"
  }
 },
 "nbformat": 4,
 "nbformat_minor": 4
}
