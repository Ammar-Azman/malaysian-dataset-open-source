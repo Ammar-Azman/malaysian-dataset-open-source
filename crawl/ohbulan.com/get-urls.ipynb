{
 "cells": [
  {
   "cell_type": "code",
   "execution_count": 17,
   "metadata": {},
   "outputs": [],
   "source": [
    "import requests\n",
    "from bs4 import BeautifulSoup\n",
    "from tqdm import tqdm\n",
    "import os\n",
    "import json\n",
    "import numpy as np\n",
    "import time\n",
    "import random\n",
    "import json"
   ]
  },
  {
   "cell_type": "code",
   "execution_count": 32,
   "metadata": {},
   "outputs": [],
   "source": [
    "import requests\n",
    "\n",
    "cookies = {\n",
    "    '__cfruid': 'e546d73b09274bb6592d63d6a0698270c90793e0-1688640975',\n",
    "    '_cc_id': '69f8b801beef15345eb5accdea253af',\n",
    "    'panoramaId': 'be52973bf52e8223169963ad8c9d16d539387bd118431a829eb171349f762869',\n",
    "    'panoramaIdType': 'panoIndiv',\n",
    "    '_pbjs_userid_consent_data': '3524755945110770',\n",
    "    '_gid': 'GA1.2.1173872994.1688640976',\n",
    "    '_cb': 'CJom75JYChDWu8AS',\n",
    "    'PHPSESSID': 'e78ac0d6f7f73969d775f3a61d93fc89',\n",
    "    '_lr_env_src_ats': 'false',\n",
    "    'pubmatic-unifiedid': '%7B%22TDID%22%3A%2259a14f4e-9cd9-4559-947d-09f703acfc99%22%2C%22TDID_LOOKUP%22%3A%22TRUE%22%2C%22TDID_CREATED_AT%22%3A%222023-06-06T10%3A56%3A18%22%7D',\n",
    "    '_cb_svref': 'null',\n",
    "    '_lr_retry_request': 'true',\n",
    "    'trc_cookie_storage': 'taboola%2520global%253Auser-id%3Dd17cd528-3462-4d94-885f-447b3bbb14ec-tuct62a25a2',\n",
    "    '__cf_bm': 'fQIqZ4jnannIc9eeBrpWVVUkgRZfPMvCT_XJiIgyD8w-1688678487-0-AcbHxmRxIW1CRrPUK1EOygxJM6I3psMTELFoqa4trDCbA5fH+iAKb24YC1xtCDtUPAqVQNU2UykT45fNfIlm7hbD0gP2TtMwsRg12g7bhzwb',\n",
    "    'panoramaId_expiry': '1689283307925',\n",
    "    '_chartbeat2': '.1688640976552.1688678508132.11.BQGMuwBqE-HDZmuYkD6AMdtDNRdqn.5',\n",
    "    '_chartbeat5': '265|6171|%2F|https%3A%2F%2Fohbulan.com%2F%23tab-1|BkMmnRiChQceRKVZBYVd-uCGCbJP||c|BmUVn5CSoh--CRe01OyGwD1BpMk2l|ohbulan.com|',\n",
    "    '_ga_J539FW2733': 'GS1.1.1688678458.2.1.1688678508.10.0.0',\n",
    "    '_ga': 'GA1.2.567445177.1688640976',\n",
    "    'cto_bundle': 'A43uwl9ETnZQMjQxQmd1MHF5akFVayUyQk96R0FGZnBUSkozQVJHcFJHeHQ2THQzZVZIUVhESHVRUVJnR2klMkZPZVVFbkxkeldHaFk5TkZoeVVINkhXdTUwelhvdDFoNiUyRnliM245czNid2hHaEVBeXhMb0paQjlCM2NCdmtHdXBpOWhTdXlLelo1d0s5REtscFFkZFJoOE9wJTJGTlgxQSUzRCUzRA',\n",
    "    'cto_bidid': 'yQLkBV9vVkxYTk1PbmlDS3lUd2EyRmZ5ZTFvJTJGbUtGUzJSS1RaN28ydm8wMzhxMUFScGIxeE9mNkl0Tnp5YXhYU0hJekJjb1JGbDFpUTF5UGZnRHJNNDQxQVVHSGJvTk5sYkxJT2xsajB3akl0bTdVJTNE',\n",
    "}\n",
    "\n",
    "headers = {\n",
    "    'authority': 'ohbulan.com',\n",
    "    'accept': 'application/json, text/plain, */*',\n",
    "    'accept-language': 'en-MY,en;q=0.9,en-US;q=0.8,ms;q=0.7',\n",
    "    'cache-control': 'no-cache',\n",
    "    # 'cookie': '__cfruid=e546d73b09274bb6592d63d6a0698270c90793e0-1688640975; _cc_id=69f8b801beef15345eb5accdea253af; panoramaId=be52973bf52e8223169963ad8c9d16d539387bd118431a829eb171349f762869; panoramaIdType=panoIndiv; _pbjs_userid_consent_data=3524755945110770; _gid=GA1.2.1173872994.1688640976; _cb=CJom75JYChDWu8AS; PHPSESSID=e78ac0d6f7f73969d775f3a61d93fc89; _lr_env_src_ats=false; pubmatic-unifiedid=%7B%22TDID%22%3A%2259a14f4e-9cd9-4559-947d-09f703acfc99%22%2C%22TDID_LOOKUP%22%3A%22TRUE%22%2C%22TDID_CREATED_AT%22%3A%222023-06-06T10%3A56%3A18%22%7D; _cb_svref=null; _lr_retry_request=true; trc_cookie_storage=taboola%2520global%253Auser-id%3Dd17cd528-3462-4d94-885f-447b3bbb14ec-tuct62a25a2; __cf_bm=fQIqZ4jnannIc9eeBrpWVVUkgRZfPMvCT_XJiIgyD8w-1688678487-0-AcbHxmRxIW1CRrPUK1EOygxJM6I3psMTELFoqa4trDCbA5fH+iAKb24YC1xtCDtUPAqVQNU2UykT45fNfIlm7hbD0gP2TtMwsRg12g7bhzwb; panoramaId_expiry=1689283307925; _chartbeat2=.1688640976552.1688678508132.11.BQGMuwBqE-HDZmuYkD6AMdtDNRdqn.5; _chartbeat5=265|6171|%2F|https%3A%2F%2Fohbulan.com%2F%23tab-1|BkMmnRiChQceRKVZBYVd-uCGCbJP||c|BmUVn5CSoh--CRe01OyGwD1BpMk2l|ohbulan.com|; _ga_J539FW2733=GS1.1.1688678458.2.1.1688678508.10.0.0; _ga=GA1.2.567445177.1688640976; cto_bundle=A43uwl9ETnZQMjQxQmd1MHF5akFVayUyQk96R0FGZnBUSkozQVJHcFJHeHQ2THQzZVZIUVhESHVRUVJnR2klMkZPZVVFbkxkeldHaFk5TkZoeVVINkhXdTUwelhvdDFoNiUyRnliM245czNid2hHaEVBeXhMb0paQjlCM2NCdmtHdXBpOWhTdXlLelo1d0s5REtscFFkZFJoOE9wJTJGTlgxQSUzRCUzRA; cto_bidid=yQLkBV9vVkxYTk1PbmlDS3lUd2EyRmZ5ZTFvJTJGbUtGUzJSS1RaN28ydm8wMzhxMUFScGIxeE9mNkl0Tnp5YXhYU0hJekJjb1JGbDFpUTF5UGZnRHJNNDQxQVVHSGJvTk5sYkxJT2xsajB3akl0bTdVJTNE',\n",
    "    'pragma': 'no-cache',\n",
    "    'referer': 'https://ohbulan.com/kini-trending',\n",
    "    'sec-ch-ua': '\"Not.A/Brand\";v=\"8\", \"Chromium\";v=\"114\", \"Google Chrome\";v=\"114\"',\n",
    "    'sec-ch-ua-mobile': '?0',\n",
    "    'sec-ch-ua-platform': '\"macOS\"',\n",
    "    'sec-fetch-dest': 'empty',\n",
    "    'sec-fetch-mode': 'cors',\n",
    "    'sec-fetch-site': 'same-origin',\n",
    "    'user-agent': 'Mozilla/5.0 (Macintosh; Intel Mac OS X 10_15_7) AppleWebKit/537.36 (KHTML, like Gecko) Chrome/114.0.0.0 Safari/537.36',\n",
    "    'x-requested-with': 'XMLHttpRequest',\n",
    "}\n",
    "\n",
    "params = {\n",
    "    'id': '',\n",
    "    'post_id': '3',\n",
    "    'slug': 'myresipi',\n",
    "    'canonical_url': 'https://ohbulan.com/kategori/myresipi',\n",
    "    'posts_per_page': '1000',\n",
    "    'page': '0',\n",
    "    'offset': '6',\n",
    "    'post_type': 'post',\n",
    "    'repeater': 'default',\n",
    "    'seo_start_page': '1',\n",
    "    'preloaded': 'false',\n",
    "    'preloaded_amount': '0',\n",
    "    'category': 'myresipi',\n",
    "    'order': 'DESC',\n",
    "    'orderby': 'date',\n",
    "    'action': 'alm_get_posts',\n",
    "    'query_type': 'standard',\n",
    "}\n",
    "\n",
    "response = requests.get('https://ohbulan.com/wp/wp-admin/admin-ajax.php', params=params, cookies=cookies, headers=headers)"
   ]
  },
  {
   "cell_type": "code",
   "execution_count": 31,
   "metadata": {},
   "outputs": [],
   "source": [
    "topics = [\n",
    "    'kini-trending',\n",
    "    'isu-kontroversi',\n",
    "    'video-popular',\n",
    "    'lensa-insta',\n",
    "    'travelogue',\n",
    "    'myresipi'\n",
    "]"
   ]
  },
  {
   "cell_type": "code",
   "execution_count": null,
   "metadata": {},
   "outputs": [],
   "source": [
    "all_a = []"
   ]
  },
  {
   "cell_type": "code",
   "execution_count": 43,
   "metadata": {},
   "outputs": [
    {
     "name": "stdout",
     "output_type": "stream",
     "text": [
      "kini-trending\n"
     ]
    },
    {
     "name": "stderr",
     "output_type": "stream",
     "text": [
      "32it [02:28,  4.63s/it]\n"
     ]
    }
   ],
   "source": [
    "def generator():\n",
    "    while True:\n",
    "        yield\n",
    "\n",
    "for topic in ['kini-trending']:\n",
    "    print(topic)\n",
    "    index = 0\n",
    "    \n",
    "    for _ in tqdm(generator()):\n",
    "        params = {\n",
    "            'id': '',\n",
    "            'post_id': '3',\n",
    "            'slug': topic,\n",
    "            'canonical_url': f'https://ohbulan.com/kategori/{topic}',\n",
    "            'posts_per_page': '1000',\n",
    "            'page': str(index),\n",
    "            'offset': '6',\n",
    "            'post_type': 'post',\n",
    "            'repeater': 'default',\n",
    "            'seo_start_page': '1',\n",
    "            'preloaded': 'false',\n",
    "            'preloaded_amount': '0',\n",
    "            'category': topic,\n",
    "            'order': 'DESC',\n",
    "            'orderby': 'date',\n",
    "            'action': 'alm_get_posts',\n",
    "            'query_type': 'standard',\n",
    "        }\n",
    "\n",
    "        response = requests.get('https://ohbulan.com/wp/wp-admin/admin-ajax.php', params=params, cookies=cookies, headers=headers)\n",
    "        r = response.json()\n",
    "        if r['html'] is None:\n",
    "            break\n",
    "\n",
    "        soup = BeautifulSoup(r['html'], \"lxml\")\n",
    "        a = soup.find_all('a')\n",
    "        a = [a_.get('href') for a_ in a if len(a_.get('href',''))]\n",
    "        a = list(set([a_ for a_ in a if '/author/' not in a_]))\n",
    "\n",
    "        if not len(a):\n",
    "            break\n",
    "\n",
    "        all_a.extend(a)\n",
    "        index += 1"
   ]
  },
  {
   "cell_type": "code",
   "execution_count": 44,
   "metadata": {},
   "outputs": [
    {
     "data": {
      "text/plain": [
       "39572"
      ]
     },
     "execution_count": 44,
     "metadata": {},
     "output_type": "execute_result"
    }
   ],
   "source": [
    "len(all_a)"
   ]
  },
  {
   "cell_type": "code",
   "execution_count": 46,
   "metadata": {},
   "outputs": [
    {
     "data": {
      "text/plain": [
       "32094"
      ]
     },
     "execution_count": 46,
     "metadata": {},
     "output_type": "execute_result"
    }
   ],
   "source": [
    "len(set(all_a))"
   ]
  },
  {
   "cell_type": "code",
   "execution_count": 47,
   "metadata": {},
   "outputs": [],
   "source": [
    "with open('url.json', 'w') as fopen:\n",
    "    json.dump(list(set(all_a)), fopen)"
   ]
  }
 ],
 "metadata": {
  "kernelspec": {
   "display_name": "Python 3 (ipykernel)",
   "language": "python",
   "name": "python3"
  },
  "language_info": {
   "codemirror_mode": {
    "name": "ipython",
    "version": 3
   },
   "file_extension": ".py",
   "mimetype": "text/x-python",
   "name": "python",
   "nbconvert_exporter": "python",
   "pygments_lexer": "ipython3",
   "version": "3.8.10"
  }
 },
 "nbformat": 4,
 "nbformat_minor": 4
}
