{
 "cells": [
  {
   "cell_type": "code",
   "execution_count": 1,
   "metadata": {},
   "outputs": [],
   "source": [
    "import requests\n",
    "from bs4 import BeautifulSoup\n",
    "from tqdm import tqdm\n",
    "import os\n",
    "import json\n",
    "import numpy as np\n",
    "import time\n",
    "import random\n",
    "import json\n",
    "from concurrent.futures import ThreadPoolExecutor, as_completed"
   ]
  },
  {
   "cell_type": "code",
   "execution_count": 3,
   "metadata": {},
   "outputs": [],
   "source": [
    "topics = [\n",
    "    'https://www.jomgaming.my/category/berita/',\n",
    "    'https://www.jomgaming.my/category/best-baca/',\n",
    "    'https://www.jomgaming.my/category/pc/',\n",
    "    'https://www.jomgaming.my/category/konsol/',\n",
    "    'https://www.jomgaming.my/category/mobile/',\n",
    "    'https://www.jomgaming.my/category/videos/',\n",
    "    'https://www.jomgaming.my/category/press-release/',\n",
    "]"
   ]
  },
  {
   "cell_type": "code",
   "execution_count": 4,
   "metadata": {},
   "outputs": [],
   "source": [
    "r = requests.get('https://www.jomgaming.my/category/berita/page/3/')\n",
    "soup = BeautifulSoup(r.content, \"lxml\")"
   ]
  },
  {
   "cell_type": "code",
   "execution_count": 8,
   "metadata": {},
   "outputs": [
    {
     "data": {
      "text/plain": [
       "['https://www.jomgaming.my/rampage-2-universal-tour-1999-memusnahkan-bandar-kuala-lumpur-malaysia/',\n",
       " 'https://www.jomgaming.my/red-dead-redemption-versi-remastered-mungkin-akan-dilancarkan-tak-lama-lagi/',\n",
       " 'https://www.jomgaming.my/gabungan-antara-league-of-legends-apex-legends-super-smash-bros-project-loki/',\n",
       " 'https://www.jomgaming.my/5-game-yang-akan-keluar-dalam-bulan-julai-2023/',\n",
       " 'https://www.jomgaming.my/ea-sports-ramal-amerika-syarikat-juara-piala-dunia-wanita-2023/',\n",
       " 'https://www.jomgaming.my/kedai-game-baru-buka-di-ioi-city-mall-putrajaya-boleh-jual-game-2nd-hand/',\n",
       " 'https://www.jomgaming.my/kenapa-masih-nak-cuba-game-pirate-kalau-boleh-guna-steam-refund-policy/',\n",
       " 'https://www.jomgaming.my/5-game-mobile-yang-perlukan-grafik-tinggi-untuk-bermain/',\n",
       " 'https://www.jomgaming.my/starfield-pada-asalnya-pernah-dirancang-untuk-dilancarkan-secara-eksklusif-ke-playstation/',\n",
       " 'https://www.jomgaming.my/square-enix-sedang-sibuk-bangunkan-final-fantasy-16-versi-pc/',\n",
       " 'https://www.jomgaming.my/5-game-korang-boleh-main-sekarang-sementara-tunggu-starfield/',\n",
       " 'https://www.jomgaming.my/star-wars-outlaws-takkan-dilancarkan-ke-steam-atau-epic-games-store/',\n",
       " 'https://www.jomgaming.my/playstation-asia-adakan-exhibition-final-fantasy-16-di-sunway-pyramid-sehingga-2-julai/',\n",
       " 'https://www.jomgaming.my/playstation-access-controller-akan-dilancarkan-pada-6-disember-ini-pada-harga-rm449/',\n",
       " 'https://www.jomgaming.my/5-game-terbaik-dengan-grafik-seperti-buku-komik/',\n",
       " 'https://www.jomgaming.my/microsoft-sony-tandatangan-perjanjian-untuk-kekalkan-call-of-duty-dalam-playstation-selama-10-tahun/',\n",
       " 'https://www.jomgaming.my/assassins-creed-codename-red-mungkin-akan-dilancarkan-pada-2024/',\n",
       " 'https://www.jomgaming.my/5-perkara-penting-korang-kena-tahu-tentang-ea-sports-fc-24/']"
      ]
     },
     "execution_count": 8,
     "metadata": {},
     "output_type": "execute_result"
    }
   ],
   "source": [
    "a = soup.find_all('a', {'rel':\"bookmark\"})\n",
    "a = [a_.get('href') for a_ in a]\n",
    "a"
   ]
  },
  {
   "cell_type": "code",
   "execution_count": 7,
   "metadata": {},
   "outputs": [],
   "source": [
    "!rm -rf url\n",
    "!mkdir url"
   ]
  },
  {
   "cell_type": "code",
   "execution_count": 10,
   "metadata": {},
   "outputs": [
    {
     "name": "stdout",
     "output_type": "stream",
     "text": [
      "https://www.jomgaming.my/category/berita/\n"
     ]
    },
    {
     "name": "stderr",
     "output_type": "stream",
     "text": [
      "570it [30:51,  3.25s/it]\n"
     ]
    },
    {
     "name": "stdout",
     "output_type": "stream",
     "text": [
      "https://www.jomgaming.my/category/best-baca/\n"
     ]
    },
    {
     "name": "stderr",
     "output_type": "stream",
     "text": [
      "51it [02:12,  2.60s/it]\n"
     ]
    },
    {
     "name": "stdout",
     "output_type": "stream",
     "text": [
      "https://www.jomgaming.my/category/pc/\n"
     ]
    },
    {
     "name": "stderr",
     "output_type": "stream",
     "text": [
      "311it [15:17,  2.95s/it]\n"
     ]
    },
    {
     "name": "stdout",
     "output_type": "stream",
     "text": [
      "https://www.jomgaming.my/category/konsol/\n"
     ]
    },
    {
     "name": "stderr",
     "output_type": "stream",
     "text": [
      "420it [21:32,  3.08s/it]\n"
     ]
    },
    {
     "name": "stdout",
     "output_type": "stream",
     "text": [
      "https://www.jomgaming.my/category/mobile/\n"
     ]
    },
    {
     "name": "stderr",
     "output_type": "stream",
     "text": [
      "54it [02:43,  3.02s/it]\n"
     ]
    },
    {
     "name": "stdout",
     "output_type": "stream",
     "text": [
      "https://www.jomgaming.my/category/videos/\n"
     ]
    },
    {
     "name": "stderr",
     "output_type": "stream",
     "text": [
      "210it [10:03,  2.87s/it]\n"
     ]
    },
    {
     "name": "stdout",
     "output_type": "stream",
     "text": [
      "https://www.jomgaming.my/category/press-release/\n"
     ]
    },
    {
     "name": "stderr",
     "output_type": "stream",
     "text": [
      "2it [00:07,  3.96s/it]\n"
     ]
    }
   ],
   "source": [
    "def generator():\n",
    "    while True:\n",
    "        yield\n",
    "        \n",
    "for t in topics:\n",
    "    print(t)\n",
    "    t_ = t.split('my/')[1].replace('/', '-')\n",
    "    \n",
    "    index = 1\n",
    "    for _ in tqdm(generator()):\n",
    "        filename = os.path.join('url', f'{t_}-{index}.json')\n",
    "        if os.path.exists(filename):\n",
    "            index += 1\n",
    "            continue\n",
    "        \n",
    "        while True:\n",
    "            try:\n",
    "                r = requests.get(f'{t}page/{index}/')\n",
    "                break\n",
    "            except:\n",
    "                time.sleep(1.0)\n",
    "                \n",
    "        soup = BeautifulSoup(r.content, \"lxml\")\n",
    "        a = soup.find_all('a', {'rel':\"bookmark\"})\n",
    "        a = [a_.get('href') for a_ in a]\n",
    "        if not len(a):\n",
    "            break\n",
    "        \n",
    "        with open(filename, 'w') as fopen:\n",
    "            json.dump(a, fopen)\n",
    "            \n",
    "        index += 1"
   ]
  },
  {
   "cell_type": "code",
   "execution_count": null,
   "metadata": {},
   "outputs": [],
   "source": []
  }
 ],
 "metadata": {
  "kernelspec": {
   "display_name": "Python 3 (ipykernel)",
   "language": "python",
   "name": "python3"
  },
  "language_info": {
   "codemirror_mode": {
    "name": "ipython",
    "version": 3
   },
   "file_extension": ".py",
   "mimetype": "text/x-python",
   "name": "python",
   "nbconvert_exporter": "python",
   "pygments_lexer": "ipython3",
   "version": "3.8.10"
  }
 },
 "nbformat": 4,
 "nbformat_minor": 4
}
