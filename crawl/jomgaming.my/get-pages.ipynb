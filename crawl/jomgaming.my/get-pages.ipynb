{
 "cells": [
  {
   "cell_type": "code",
   "execution_count": 1,
   "metadata": {},
   "outputs": [],
   "source": [
    "import requests\n",
    "from bs4 import BeautifulSoup\n",
    "from tqdm import tqdm\n",
    "import os\n",
    "import json\n",
    "import numpy as np\n",
    "import time\n",
    "import random\n",
    "import json\n",
    "from concurrent.futures import ThreadPoolExecutor, as_completed"
   ]
  },
  {
   "cell_type": "code",
   "execution_count": 2,
   "metadata": {},
   "outputs": [
    {
     "data": {
      "text/plain": [
       "8476"
      ]
     },
     "execution_count": 2,
     "metadata": {},
     "output_type": "execute_result"
    }
   ],
   "source": [
    "from glob import glob\n",
    "\n",
    "files = glob('url/*.json')\n",
    "urls = []\n",
    "for f in files:\n",
    "    with open(f) as fopen:\n",
    "        urls.extend(json.load(fopen))\n",
    "urls = sorted(list(set(urls)))\n",
    "len(urls)"
   ]
  },
  {
   "cell_type": "code",
   "execution_count": 3,
   "metadata": {},
   "outputs": [],
   "source": [
    "# !rm -rf page\n",
    "!mkdir page"
   ]
  },
  {
   "cell_type": "code",
   "execution_count": 4,
   "metadata": {},
   "outputs": [],
   "source": [
    "r = requests.get(urls[0])\n",
    "soup = BeautifulSoup(r.content, \"lxml\")"
   ]
  },
  {
   "cell_type": "code",
   "execution_count": 5,
   "metadata": {},
   "outputs": [
    {
     "data": {
      "text/plain": [
       "'1 Daripada 4 Gamer British Mengalami Kerosakan Bernilai RM800 Setiap Tahun Kerana Hilang Sabar Semasa Gaming'"
      ]
     },
     "execution_count": 5,
     "metadata": {},
     "output_type": "execute_result"
    }
   ],
   "source": [
    "soup.find('h1').text"
   ]
  },
  {
   "cell_type": "code",
   "execution_count": 8,
   "metadata": {},
   "outputs": [
    {
     "data": {
      "text/plain": [
       "'\\nBermain video game memang memerlukan tahap kesabaran yang tinggi. Tapi pernah tak korang hilang sabar sampai merosakkan barangan berdekatan?\\nGambar hiasan. Sumber.\\nMenurut laporan Gamasutra, sebuah kajian yang dijalankan di United Kingdom telah mendedahkan bahawa 3 daripada 4 gamers British telah hilang sabar apabila bermain video game, berkelahi secara online dan malah merosakkan konsol, televisyen atau perabot. Menurut kajian tersebut, gamers yang naik marah cukup mampu untuk merosakkan jumlah barangan bernilai GBP145 (~RM799) setiap tahun.\\nSesetengah gamer mudah untuk meradang, di mana 1 daripada 4 mereka mengaku pernah merosakkan sesuatu disebabkan kekecewaan, sehingga mengalami kerosakan sebanyak GBP145. Malah, pada sesetengah situasi, mereka tiada lagi konsol untuk dimainkan selepas melepaskan kemarahan.\\nPasukan di VoucherCodesPro.co.uk menjalankan kajian itu sebagai sebahagian daripada penyelidikan tentang sikap rakyat Britain terhadap teknologi dan gaming. 2,433 rakyat Britain yang berumur 18 tahun ke atas telah mengambil bahagian, yang mana kesemuanya mengaku diri mereka sebagai ‘gamer’. Mereka telah diberikan kuiz untuk dijawab berkaitan gaming dan bagaimana ia memberi kesan kepada mood mereka.\\nBerikut adalah beberapa soalan yang diajukan dan keputusannya:\\n“Kamu pernah hilang sabar semasa bermain video game?”\\n– 74% mengakui pernah.\\n“Apakah yang selalunya membuat kamu hilang sabar?”\\n– rakan sepasukan tidak bermain seperti yang saya perlukan (31%)\\n– pemain online mensasarkan saya, tidak membenarkan saya lakukan apa yang patut saya lakukan (29%)\\n– kesilapan saya sendiri semasa dalam game (20%).\\n“Sehingga tahap ekstrem manakah kamu apabila hilang sabar?”\\n– menjerit dan memekik (37%)\\n– berkelahi dengan orang lain secara online (30%)\\n– merosakkan sesuatu dalam keadaan marah (23%)\\n“Apakah barangan yang pernah dirosakkan?”\\n– controller/keyboard (41%)\\n– headset (38%)\\n– televisyen/monitor (32%)\\n– disk game (14%)\\n– kerusi (9%)\\nApabila ditanya berapakah jumlah anggaran kerosakan yang mereka alami sepanjang 12 bulan yang lalu kerana kehilangan sabar mereka ini semasa gaming, purata yang didapati adalah GBP145.\\nAkhir sekali, mereka ditanyakan tentang apakah yang mereka lakukan selepas melepaskan kemarahan itu. Majoritinya menjawab mereka akan menutup game dan mainkan semula selepas kembali tenang (51%); rehat seketika daripada gaming sehingga beberapa hari (34%); atau pilih game lain untuk bermain (15%).\\nGambar hiasan. Sumber.\\nSememangnya video game merupakan sesuatu yang perlu dimainkan dengan seronok, dan kadang-kala ia merupakan platform untuk mengurangkan stres. Namun, pasti ada sesetengah situasi, ia boleh pula mendatangkan kemarahan, dan pada ketika itulah kita sebagai gamers harus rasional dalam melakukan sebarang tindakan.\\nJadilah gamers yang bijak.\\n\\n\\n '"
      ]
     },
     "execution_count": 8,
     "metadata": {},
     "output_type": "execute_result"
    }
   ],
   "source": [
    "soup.find('div', {'itemprop': 'articleBody'}).text"
   ]
  },
  {
   "cell_type": "code",
   "execution_count": null,
   "metadata": {},
   "outputs": [
    {
     "name": "stderr",
     "output_type": "stream",
     "text": [
      "6416it [4:13:46,  2.13s/it]"
     ]
    }
   ],
   "source": [
    "for no, url in tqdm(enumerate(urls)):\n",
    "    filename = os.path.join('page', f'{no}.json')\n",
    "    if os.path.exists(filename):\n",
    "        continue\n",
    "    \n",
    "    while True:\n",
    "        try:\n",
    "            r = requests.get(url)\n",
    "            break\n",
    "        except:\n",
    "            time.sleep(1.0)\n",
    "            \n",
    "    soup = BeautifulSoup(r.content, \"lxml\")\n",
    "\n",
    "    try:\n",
    "        title = soup.find('h1').text\n",
    "    except Exception as e:\n",
    "        title = None\n",
    "\n",
    "    try:\n",
    "        body = soup.find('div', {'itemprop': 'articleBody'}).text\n",
    "    except Exception as e:\n",
    "        body = None\n",
    "\n",
    "    data = {\n",
    "        'url': url,\n",
    "        'title': title,\n",
    "        'body': body,\n",
    "    }\n",
    "    with open(filename, 'w') as fopen:\n",
    "        json.dump(data, fopen)"
   ]
  },
  {
   "cell_type": "code",
   "execution_count": null,
   "metadata": {},
   "outputs": [],
   "source": []
  }
 ],
 "metadata": {
  "kernelspec": {
   "display_name": "Python 3 (ipykernel)",
   "language": "python",
   "name": "python3"
  },
  "language_info": {
   "codemirror_mode": {
    "name": "ipython",
    "version": 3
   },
   "file_extension": ".py",
   "mimetype": "text/x-python",
   "name": "python",
   "nbconvert_exporter": "python",
   "pygments_lexer": "ipython3",
   "version": "3.8.10"
  }
 },
 "nbformat": 4,
 "nbformat_minor": 4
}
