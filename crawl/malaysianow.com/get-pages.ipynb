{
 "cells": [
  {
   "cell_type": "code",
   "execution_count": 1,
   "metadata": {},
   "outputs": [],
   "source": [
    "import requests\n",
    "from bs4 import BeautifulSoup\n",
    "from tqdm import tqdm\n",
    "import os\n",
    "import json\n",
    "import numpy as np\n",
    "import time\n",
    "import random\n",
    "import json"
   ]
  },
  {
   "cell_type": "code",
   "execution_count": 2,
   "metadata": {},
   "outputs": [
    {
     "data": {
      "text/plain": [
       "13985"
      ]
     },
     "execution_count": 2,
     "metadata": {},
     "output_type": "execute_result"
    }
   ],
   "source": [
    "from glob import glob\n",
    "\n",
    "files = glob('url/*.json')\n",
    "urls = []\n",
    "for f in files:\n",
    "    with open(f) as fopen:\n",
    "        data = json.load(fopen)\n",
    "        articles = data['data']['articlesByCategory']['articles']['articles']\n",
    "        a = [a['url'] for a in articles]\n",
    "        urls.extend(a)\n",
    "urls = sorted(list(set(urls)))\n",
    "len(urls)"
   ]
  },
  {
   "cell_type": "code",
   "execution_count": 3,
   "metadata": {},
   "outputs": [],
   "source": [
    "r = requests.get('https://www.malaysianow.com/my/' + urls[0])\n",
    "soup = BeautifulSoup(r.content, \"lxml\")"
   ]
  },
  {
   "cell_type": "code",
   "execution_count": 4,
   "metadata": {},
   "outputs": [
    {
     "data": {
      "text/plain": [
       "'/branded-content/2023/06/22/menu-rahmah-terus-dapat-sambutan'"
      ]
     },
     "execution_count": 4,
     "metadata": {},
     "output_type": "execute_result"
    }
   ],
   "source": [
    "urls[0]"
   ]
  },
  {
   "cell_type": "code",
   "execution_count": 5,
   "metadata": {},
   "outputs": [
    {
     "data": {
      "text/plain": [
       "'Menu Rahmah terus dapat sambutan'"
      ]
     },
     "execution_count": 5,
     "metadata": {},
     "output_type": "execute_result"
    }
   ],
   "source": [
    "soup.find('h1').text"
   ]
  },
  {
   "cell_type": "code",
   "execution_count": 6,
   "metadata": {
    "scrolled": false
   },
   "outputs": [
    {
     "data": {
      "text/plain": [
       "'Hidangan Menu Rahmah yang ditawarkan pada harga RM5 sejak diperkenalkan pada akhir Januari lalu terus menerima permintaan dalam kalangan masyarakat khususnya yang ingin berjimat-cermat.\\nPelaksanaan inisiatif yang dilancarkan oleh Kementerian Perdagangan Dalam Negeri dan Kos Sara Hidup (KPDNKS) itu turut memanfaatkan peniaga apabila ia menjadi strategi pemasaran untuk menarik lebih ramai pelanggan mengunjungi restoran atau gerai makanan masing-masing.\\nMalah, konsep Menu Rahmah turut menggalakkan peniaga menggunakan kreativiti dalam menghasilkan hidangan serba seimbang pada harga mampu milik dan ini secara langsung menawarkan pelbagai pilihan kepada pelanggan untuk menikmati juadah mengikut selera mereka.\\nBercakap dengan MalaysiaNow, peniaga makanan, Zabedah Sheikh Osman berkata, hidangan Menu Rahmah yang dijual di gerainya sejak beberapa bulan lalu terus menerima sambutan sehingga hari ini, bukan sahaja dalam kalangan pelajar universiti tetapi juga pelbagai lapisan masyarakat termasuk warga emas.\\nKatanya, walaupun margin keuntungan yang diterima lebih rendah berbanding hidangan lain, ia tidak menjejaskan operasi perniagaanya, malah membantu meningkatkan kunjungan pelanggan, sekali gus menaikkan lagi nama gerai makannya.\\n\\nPemilik perniagaan Zabedah Sheikh Osman bercakap kepada MalaysiaNow di gerainya di Subang.\\n\\n“Permintaan sangat menggalakkan,” katanya yang sudah 14 tahun berniaga di medan selera Mydin USJ 1, Subang Jaya.\\n“Di sini, tawaran Menu Rahmah kami ialah Bihun Sup Ayam dan Mi Rebus Johor.”\\nSementara itu, Dani Mulyadi dari Bandar Sunway yang pertama kali menikmati hidangan Menu Rahmah, mengakui pembeliannya itu berbaloi selepas memesan Nasi Putih Ayam Kicap pada harga RM5.\\n“Sebelum ini kalau nak berjimat, ramai akan pesan Nasi Bujang, kerana harganya murah, tetapi lauk yang disediakan hanya ala kadar.\\n“Menu Rahmah menawarkan pelbagai pilihan, jadi pelanggan boleh pilih mengikut selera. Ini menjadikan ia pilihan yang lebih berbaloi,” katanya yang juga seorang chef di Shah Alam.\\n\\nDani Mulyadi bercakap kepada MalaysiaNow mengenai program Menu Rahmah.\\n\\nBagi Fitriah Lilesia Yakim, tawaran harga RM5 menjadikan Menu Rahmah sebagai tarikan utama bagi konsep hidangan tersebut.\\nBagaimanapun, katanya, disebabkan hidangan Menu Rahmah adalah berbeza cara penyediaannya, pelanggan perlu tahu restoran atau kedai mana yang mampu menawarkan hidangan yang berkualiti.\\n“Lain kedai, lain hidangannya, tetapi harga sama.\\n“Oleh itu, perlu tengok kedai dan hidangan yang ditawarkan. Ada yang sedap dan sangat berbaloi untuk dibeli dan yang tidak. Ia terpulang kepada pelanggan untuk pilih,” tambahnya.'"
      ]
     },
     "execution_count": 6,
     "metadata": {},
     "output_type": "execute_result"
    }
   ],
   "source": [
    "soup.find('div', {'id': 'content-wrap'}).text"
   ]
  },
  {
   "cell_type": "code",
   "execution_count": 7,
   "metadata": {},
   "outputs": [],
   "source": [
    "!rm -rf page\n",
    "!mkdir page"
   ]
  },
  {
   "cell_type": "code",
   "execution_count": 8,
   "metadata": {},
   "outputs": [
    {
     "name": "stderr",
     "output_type": "stream",
     "text": [
      "10401it [53:29,  4.07it/s]IOPub message rate exceeded.\n",
      "The notebook server will temporarily stop sending output\n",
      "to the client in order to avoid crashing it.\n",
      "To change this limit, set the config variable\n",
      "`--NotebookApp.iopub_msg_rate_limit`.\n",
      "\n",
      "Current values:\n",
      "NotebookApp.iopub_msg_rate_limit=1000.0 (msgs/sec)\n",
      "NotebookApp.rate_limit_window=3.0 (secs)\n",
      "\n"
     ]
    }
   ],
   "source": [
    "for no, url in tqdm(enumerate(urls)):\n",
    "    filename = os.path.join('page', f'{no}.json')\n",
    "    if os.path.exists(filename):\n",
    "        continue\n",
    "    \n",
    "    while True:\n",
    "        try:\n",
    "            r = requests.get('https://www.malaysianow.com/my' + url)\n",
    "            break\n",
    "        except:\n",
    "            time.sleep(1.0)\n",
    "    \n",
    "    soup = BeautifulSoup(r.content, \"lxml\")\n",
    "\n",
    "    try:\n",
    "        title = soup.find('h1').text\n",
    "    except Exception as e:\n",
    "        title = None\n",
    "\n",
    "    try:\n",
    "        body = soup.find('div', {'id': 'content-wrap'}).text\n",
    "    except Exception as e:\n",
    "        body = None\n",
    "\n",
    "    data = {\n",
    "        'url': url,\n",
    "        'title': title,\n",
    "        'body': body,\n",
    "    }\n",
    "    with open(filename, 'w') as fopen:\n",
    "        json.dump(data, fopen)"
   ]
  },
  {
   "cell_type": "code",
   "execution_count": null,
   "metadata": {},
   "outputs": [],
   "source": []
  }
 ],
 "metadata": {
  "kernelspec": {
   "display_name": "Python 3 (ipykernel)",
   "language": "python",
   "name": "python3"
  },
  "language_info": {
   "codemirror_mode": {
    "name": "ipython",
    "version": 3
   },
   "file_extension": ".py",
   "mimetype": "text/x-python",
   "name": "python",
   "nbconvert_exporter": "python",
   "pygments_lexer": "ipython3",
   "version": "3.8.10"
  }
 },
 "nbformat": 4,
 "nbformat_minor": 4
}
