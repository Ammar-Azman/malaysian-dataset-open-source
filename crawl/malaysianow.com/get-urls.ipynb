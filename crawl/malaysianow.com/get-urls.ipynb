{
 "cells": [
  {
   "cell_type": "code",
   "execution_count": 10,
   "metadata": {},
   "outputs": [],
   "source": [
    "import requests\n",
    "\n",
    "cookies = {\n",
    "    'mnshowlangmdl': 'true',\n",
    "    'MNOW_FED_LOCALE': 'my',\n",
    "    '_ga': 'GA1.1.10324843.1688788664',\n",
    "    '_gcl_au': '1.1.1109634645.1688788664',\n",
    "    'mnReaderTempSessionId': '7d1a80e8-014d-4451-b4c1-5886117e0287',\n",
    "    '_ga_G04R3RHQ1B': 'GS1.1.1688903275.2.1.1688903333.2.0.0',\n",
    "}\n",
    "\n",
    "headers = {\n",
    "    'authority': 'api.malaysianow.com',\n",
    "    'accept': '*/*',\n",
    "    'accept-language': 'en-MY,en;q=0.9,en-US;q=0.8,ms;q=0.7',\n",
    "    'apollo-require-preflight': 'true',\n",
    "    'cache-control': 'no-cache',\n",
    "    'content-type': 'application/json',\n",
    "    # 'cookie': 'mnshowlangmdl=true; MNOW_FED_LOCALE=my; _ga=GA1.1.10324843.1688788664; _gcl_au=1.1.1109634645.1688788664; mnReaderTempSessionId=7d1a80e8-014d-4451-b4c1-5886117e0287; _ga_G04R3RHQ1B=GS1.1.1688903275.2.1.1688903333.2.0.0',\n",
    "    'origin': 'https://www.malaysianow.com',\n",
    "    'pragma': 'no-cache',\n",
    "    'referer': 'https://www.malaysianow.com/',\n",
    "    'sec-ch-ua': '\"Not.A/Brand\";v=\"8\", \"Chromium\";v=\"114\", \"Google Chrome\";v=\"114\"',\n",
    "    'sec-ch-ua-mobile': '?0',\n",
    "    'sec-ch-ua-platform': '\"macOS\"',\n",
    "    'sec-fetch-dest': 'empty',\n",
    "    'sec-fetch-mode': 'cors',\n",
    "    'sec-fetch-site': 'same-site',\n",
    "    'user-agent': 'Mozilla/5.0 (Macintosh; Intel Mac OS X 10_15_7) AppleWebKit/537.36 (KHTML, like Gecko) Chrome/114.0.0.0 Safari/537.36',\n",
    "}"
   ]
  },
  {
   "cell_type": "code",
   "execution_count": 12,
   "metadata": {},
   "outputs": [],
   "source": [
    "categories = [\n",
    "    'news',\n",
    "    'opinion',\n",
    "    'out-there-now'\n",
    "]"
   ]
  },
  {
   "cell_type": "code",
   "execution_count": 13,
   "metadata": {},
   "outputs": [],
   "source": [
    "!mkdir url"
   ]
  },
  {
   "cell_type": "code",
   "execution_count": 33,
   "metadata": {},
   "outputs": [
    {
     "name": "stdout",
     "output_type": "stream",
     "text": [
      "news\n"
     ]
    },
    {
     "name": "stderr",
     "output_type": "stream",
     "text": [
      "100%|███████████████████████████████████████████████████████████████████████████████████████████| 992/992 [06:02<00:00,  2.73it/s]\n"
     ]
    },
    {
     "name": "stdout",
     "output_type": "stream",
     "text": [
      "opinion\n"
     ]
    },
    {
     "name": "stderr",
     "output_type": "stream",
     "text": [
      "100%|█████████████████████████████████████████████████████████████████████████████████████████████| 75/75 [00:20<00:00,  3.59it/s]\n"
     ]
    },
    {
     "name": "stdout",
     "output_type": "stream",
     "text": [
      "out-there-now\n"
     ]
    },
    {
     "name": "stderr",
     "output_type": "stream",
     "text": [
      "100%|███████████████████████████████████████████████████████████████████████████████████████████| 101/101 [00:32<00:00,  3.14it/s]\n"
     ]
    }
   ],
   "source": [
    "from tqdm import tqdm\n",
    "import json\n",
    "import os\n",
    "\n",
    "for c in categories:\n",
    "    print(c)\n",
    "    json_data = {\n",
    "        'operationName': 'ARTICLES_BY_CATEGORY',\n",
    "        'variables': {\n",
    "            'category': c,\n",
    "            'locale': 'BM',\n",
    "            'page': 1,\n",
    "        },\n",
    "        'extensions': {},\n",
    "        'query': 'query ARTICLES_BY_CATEGORY($locale: LanguageType!, $parentCategory: String, $category: String!, $page: Int) {\\n  articlesByCategory(\\n    locale: $locale\\n    parentCategory: $parentCategory\\n    category: $category\\n    page: $page\\n  ) {\\n    category {\\n      id\\n      name\\n      description\\n      slug\\n      __typename\\n    }\\n    articles {\\n      summary {\\n        totalItems\\n        fromItems\\n        toItems\\n        currentPage\\n        totalPages\\n        __typename\\n      }\\n      articles {\\n        title\\n        excerpt\\n        label {\\n          name\\n          slug\\n          __typename\\n        }\\n        featuredImage {\\n          url\\n          altText\\n          __typename\\n        }\\n        url\\n        publishedAt\\n        updatedAt\\n        __typename\\n      }\\n      __typename\\n    }\\n    mostReadArticles {\\n      title\\n      excerpt\\n      label {\\n        name\\n        slug\\n        __typename\\n      }\\n      featuredImage {\\n        url\\n        altText\\n        __typename\\n      }\\n      url\\n      publishedAt\\n      updatedAt\\n      __typename\\n    }\\n    __typename\\n  }\\n}',\n",
    "    }\n",
    "    response = requests.post('https://api.malaysianow.com/graphql', cookies=cookies, headers=headers, json=json_data)\n",
    "    r = response.json()\n",
    "    max_pages = r['data']['articlesByCategory']['articles']['summary']['totalPages']\n",
    "    \n",
    "    for i in tqdm(range(1, max_pages + 1, 1)):\n",
    "        filename = os.path.join('url', f'{c}-{i}.json')\n",
    "        if os.path.exists(filename):\n",
    "            continue\n",
    "            \n",
    "        json_data = {\n",
    "            'operationName': 'ARTICLES_BY_CATEGORY',\n",
    "            'variables': {\n",
    "                'category': c,\n",
    "                'locale': 'BM',\n",
    "                'page': i,\n",
    "            },\n",
    "            'extensions': {},\n",
    "            'query': 'query ARTICLES_BY_CATEGORY($locale: LanguageType!, $parentCategory: String, $category: String!, $page: Int) {\\n  articlesByCategory(\\n    locale: $locale\\n    parentCategory: $parentCategory\\n    category: $category\\n    page: $page\\n  ) {\\n    category {\\n      id\\n      name\\n      description\\n      slug\\n      __typename\\n    }\\n    articles {\\n      summary {\\n        totalItems\\n        fromItems\\n        toItems\\n        currentPage\\n        totalPages\\n        __typename\\n      }\\n      articles {\\n        title\\n        excerpt\\n        label {\\n          name\\n          slug\\n          __typename\\n        }\\n        featuredImage {\\n          url\\n          altText\\n          __typename\\n        }\\n        url\\n        publishedAt\\n        updatedAt\\n        __typename\\n      }\\n      __typename\\n    }\\n    mostReadArticles {\\n      title\\n      excerpt\\n      label {\\n        name\\n        slug\\n        __typename\\n      }\\n      featuredImage {\\n        url\\n        altText\\n        __typename\\n      }\\n      url\\n      publishedAt\\n      updatedAt\\n      __typename\\n    }\\n    __typename\\n  }\\n}',\n",
    "        }\n",
    "\n",
    "        response = requests.post('https://api.malaysianow.com/graphql', cookies=cookies, headers=headers, json=json_data)\n",
    "        r = response.json()\n",
    "        with open(filename, 'w') as fopen:\n",
    "            json.dump(r, fopen)"
   ]
  }
 ],
 "metadata": {
  "kernelspec": {
   "display_name": "Python 3 (ipykernel)",
   "language": "python",
   "name": "python3"
  },
  "language_info": {
   "codemirror_mode": {
    "name": "ipython",
    "version": 3
   },
   "file_extension": ".py",
   "mimetype": "text/x-python",
   "name": "python",
   "nbconvert_exporter": "python",
   "pygments_lexer": "ipython3",
   "version": "3.8.10"
  }
 },
 "nbformat": 4,
 "nbformat_minor": 4
}
