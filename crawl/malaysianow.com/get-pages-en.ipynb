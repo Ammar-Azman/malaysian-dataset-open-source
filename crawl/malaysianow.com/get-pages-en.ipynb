{
 "cells": [
  {
   "cell_type": "code",
   "execution_count": 1,
   "metadata": {},
   "outputs": [],
   "source": [
    "import requests\n",
    "from bs4 import BeautifulSoup\n",
    "from tqdm import tqdm\n",
    "import os\n",
    "import json\n",
    "import numpy as np\n",
    "import time\n",
    "import random\n",
    "import json"
   ]
  },
  {
   "cell_type": "code",
   "execution_count": 2,
   "metadata": {},
   "outputs": [
    {
     "data": {
      "text/plain": [
       "22724"
      ]
     },
     "execution_count": 2,
     "metadata": {},
     "output_type": "execute_result"
    }
   ],
   "source": [
    "from glob import glob\n",
    "\n",
    "files = glob('url-en/*.json')\n",
    "urls = []\n",
    "for f in files:\n",
    "    with open(f) as fopen:\n",
    "        data = json.load(fopen)\n",
    "        articles = data['data']['articlesByCategory']['articles']['articles']\n",
    "        a = [a['url'] for a in articles]\n",
    "        urls.extend(a)\n",
    "urls = sorted(list(set(urls)))\n",
    "len(urls)"
   ]
  },
  {
   "cell_type": "code",
   "execution_count": 3,
   "metadata": {},
   "outputs": [],
   "source": [
    "r = requests.get('https://www.malaysianow.com/en/' + urls[0])\n",
    "soup = BeautifulSoup(r.content, \"lxml\")"
   ]
  },
  {
   "cell_type": "code",
   "execution_count": 4,
   "metadata": {},
   "outputs": [
    {
     "data": {
      "text/plain": [
       "'/branded-content/2022/11/04/petty-traders-welome-mpn-call-for-extended-moratorium'"
      ]
     },
     "execution_count": 4,
     "metadata": {},
     "output_type": "execute_result"
    }
   ],
   "source": [
    "urls[0]"
   ]
  },
  {
   "cell_type": "code",
   "execution_count": 5,
   "metadata": {},
   "outputs": [
    {
     "data": {
      "text/plain": [
       "'Petty traders welome MPN call for extended moratorium'"
      ]
     },
     "execution_count": 5,
     "metadata": {},
     "output_type": "execute_result"
    }
   ],
   "source": [
    "soup.find('h1').text"
   ]
  },
  {
   "cell_type": "code",
   "execution_count": 6,
   "metadata": {
    "scrolled": false
   },
   "outputs": [
    {
     "data": {
      "text/plain": [
       "'Just outside Stadium Kuala Lumpur in Cheras, food vendors struggle to serve the crowds of customers who have come teeming to their stalls for lunch.\\xa0\\nBut Juniadi Sudirman, who sells fruits at his stall, doesn\\'t mind the rush.\\xa0\\nFor him, the circumstances when the Covid-19 pandemic first hit are still fresh in his mind.\\xa0\\nNow that the country has begun its transition to the endemic phase, with more sectors and industries allowed to reopen, Juniandi finally dares to breathe a sigh of relief.\\xa0\\nBut still, times are tough. While he has more customers to tend to today, his income has dropped by about 50% since the onset of the pandemic and the economic constraints it caused.\\xa0\\nAnd recovery for his little stall is still slow despite the country\\'s relative success in keeping the spread of infection in check.\\xa0\\nTens of thousands of traders like Juniandi in the micro, small and medium enterprise (PMKS) sector were heavily affected by the pandemic and the movement control orders (MCOs) imposed in its wake.\\xa0\\n\\nA worker serves customers their food at a stall near Jalan Tasik Permaisuri in Cheras.\\n\\nWorkers throughout the country were told to work from home, while only crucial sectors remained open throughout this time.\\xa0\\nBut while things are looking up a bit for Juniandi, Siti Alia, who sells chicken rice a short distance away, says the opposite.\\xa0\\nFor her, business income began to drop after the MCOs were lifted. \\xa0\\n\"During the MCO, we were so busy tending to all of the orders that came in because customers couldn\\'t go out to eat,\" she said.\\xa0\\n\"Now everyone can go out and eat at restaurants, so our customers are few and far in between.\"\\xa0\\nThe cash flow of PMKS operators like Alia and Juniandi had frequently featured at meetings of the National Recovery Council (MPN) where concerns were raised about the effect of such problems on the country\\'s recovery process.\\xa0\\nIt was previously reported that more than 30,000 entrepreneurs and PMKS traders were forced to close shop because of the pandemic.\\xa0\\nFor this reason, MPN secretariat CEO Sulaiman Mahbob suggested that the government and Bank Negara Malaysia consider extending the moratorium period for PMKS operators.\\xa0\\nThis was to ensure that such traders could face future uncertainties on better footing, and to increase the sector\\'s contribution to the economy.\\xa0\\nJuniandi, for one, said he was glad about the proposal.\\xa0\\n\"It would be good if they implemented this moratorium,\" he said.\\xa0\\n\"I could use the money I have to increase my sales and take my business to the next level.\"\\xa0\\nBefore this, he used to run a stall at a night market.\\xa0\\n\"But because of the pandemic, I can only afford to sell fruits at the side of the road now,\" he said.\\xa0\\nJuniandi was also among those who benefited from the special Prihatin grant issued under the Perikatan Nasional government.\\nHe said the aid had helped save his business from going under even as many of his other friends were forced to throw in the towel.\\xa0\\nAlia also welcomed the suggestion, saying she could improve the level of her business and move to a more conducive environment.\\xa0\\n\"I could use the money for monthly repayments as model\\xa0to buy a kiosk or a food truck, and expand the variety of food that I sell,\" she said.\\xa0\\n\"The money I have right now is only enough for me to pay my own family members. I can\\'t afford to employ other workers.\\xa0\\n\"A moratorium for PMKS traders like us could help a lot.\"\\xa0\\nThe MPN had previously voiced its commitment to presenting initiatives to help restore the economy and the income of local entrepreneurs.\\nThis includes its main recommendation to the government for a focus on the shortage of workers in critical sectors such as construction, plantations and tourism.'"
      ]
     },
     "execution_count": 6,
     "metadata": {},
     "output_type": "execute_result"
    }
   ],
   "source": [
    "soup.find('div', {'id': 'content-wrap'}).text"
   ]
  },
  {
   "cell_type": "code",
   "execution_count": 7,
   "metadata": {},
   "outputs": [],
   "source": [
    "!rm -rf page-en\n",
    "!mkdir page-en"
   ]
  },
  {
   "cell_type": "code",
   "execution_count": 8,
   "metadata": {},
   "outputs": [
    {
     "name": "stderr",
     "output_type": "stream",
     "text": [
      "4503it [19:01,  5.89it/s]IOPub message rate exceeded.\n",
      "The notebook server will temporarily stop sending output\n",
      "to the client in order to avoid crashing it.\n",
      "To change this limit, set the config variable\n",
      "`--NotebookApp.iopub_msg_rate_limit`.\n",
      "\n",
      "Current values:\n",
      "NotebookApp.iopub_msg_rate_limit=1000.0 (msgs/sec)\n",
      "NotebookApp.rate_limit_window=3.0 (secs)\n",
      "\n",
      "22724it [1:07:46,  5.59it/s]\n"
     ]
    }
   ],
   "source": [
    "for no, url in tqdm(enumerate(urls)):\n",
    "    filename = os.path.join('page-en', f'{no}.json')\n",
    "    if os.path.exists(filename):\n",
    "        continue\n",
    "    \n",
    "    while True:\n",
    "        try:\n",
    "            r = requests.get('https://www.malaysianow.com/en' + url)\n",
    "            break\n",
    "        except:\n",
    "            time.sleep(1.0)\n",
    "    \n",
    "    soup = BeautifulSoup(r.content, \"lxml\")\n",
    "\n",
    "    try:\n",
    "        title = soup.find('h1').text\n",
    "    except Exception as e:\n",
    "        title = None\n",
    "\n",
    "    try:\n",
    "        body = soup.find('div', {'id': 'content-wrap'}).text\n",
    "    except Exception as e:\n",
    "        body = None\n",
    "\n",
    "    data = {\n",
    "        'url': url,\n",
    "        'title': title,\n",
    "        'body': body,\n",
    "    }\n",
    "    with open(filename, 'w') as fopen:\n",
    "        json.dump(data, fopen)"
   ]
  },
  {
   "cell_type": "code",
   "execution_count": null,
   "metadata": {},
   "outputs": [],
   "source": [
    "url"
   ]
  },
  {
   "cell_type": "code",
   "execution_count": null,
   "metadata": {},
   "outputs": [],
   "source": []
  }
 ],
 "metadata": {
  "kernelspec": {
   "display_name": "Python 3 (ipykernel)",
   "language": "python",
   "name": "python3"
  },
  "language_info": {
   "codemirror_mode": {
    "name": "ipython",
    "version": 3
   },
   "file_extension": ".py",
   "mimetype": "text/x-python",
   "name": "python",
   "nbconvert_exporter": "python",
   "pygments_lexer": "ipython3",
   "version": "3.8.10"
  }
 },
 "nbformat": 4,
 "nbformat_minor": 4
}
