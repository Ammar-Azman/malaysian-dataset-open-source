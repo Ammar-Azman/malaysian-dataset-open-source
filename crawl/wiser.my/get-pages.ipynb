{
 "cells": [
  {
   "cell_type": "code",
   "execution_count": 1,
   "metadata": {},
   "outputs": [],
   "source": [
    "import requests\n",
    "from bs4 import BeautifulSoup\n",
    "from tqdm import tqdm\n",
    "import os\n",
    "import json\n",
    "import numpy as np\n",
    "import time\n",
    "import random\n",
    "import json"
   ]
  },
  {
   "cell_type": "code",
   "execution_count": 2,
   "metadata": {},
   "outputs": [
    {
     "data": {
      "text/plain": [
       "3224"
      ]
     },
     "execution_count": 2,
     "metadata": {},
     "output_type": "execute_result"
    }
   ],
   "source": [
    "from glob import glob\n",
    "\n",
    "files = glob('url/*.json')\n",
    "urls = []\n",
    "for f in files:\n",
    "    with open(f) as fopen:\n",
    "        data = json.load(fopen)['data']\n",
    "        data = [d['url'] for d in data]\n",
    "        urls.extend(data)\n",
    "urls = sorted(list(set(urls)))\n",
    "len(urls)"
   ]
  },
  {
   "cell_type": "code",
   "execution_count": null,
   "metadata": {},
   "outputs": [],
   "source": [
    "'https://wiser.my/' + urls[0]"
   ]
  },
  {
   "cell_type": "code",
   "execution_count": null,
   "metadata": {},
   "outputs": [],
   "source": [
    "r = requests.get('https://wiser.my/' + urls[0])\n",
    "soup = BeautifulSoup(r.content, \"lxml\")"
   ]
  },
  {
   "cell_type": "code",
   "execution_count": null,
   "metadata": {},
   "outputs": [],
   "source": [
    "soup.find('h1', {'class': 'text-3xl font-bold drop-shadow-xl'})"
   ]
  },
  {
   "cell_type": "code",
   "execution_count": 7,
   "metadata": {},
   "outputs": [],
   "source": [
    "import requests\n",
    "\n",
    "cookies = {\n",
    "    '_ga': 'GA1.1.1621862435.1689525830',\n",
    "    '_cc_id': '69f8b801beef15345eb5accdea253af',\n",
    "    'panoramaId_expiry': '1690171925870',\n",
    "    'panoramaId': '1211dc095c1d8b91c5624a83d00716d53938452c26a545c0166a87e03cfa958a',\n",
    "    'panoramaIdType': 'panoIndiv',\n",
    "    'cto_bundle': 'n7XXaF9HSUNyJTJGamtCJTJCQjBDNU5hZEdwUXZFanVoYjdyQkE0cGszV0ZLb2VSQ3RYT2MxQ0Y5U09WRXE1ZHRjRlR0eGVTb3E2YWVCWFk3VXlZUUUyMmRGd3FQJTJCV2k0THRMNzdqOWV3YWZKV2gwRVVJWkNzRm5BSVJkY1F2bXhpUEVVSzklMkJtdmFldllGYll4SCUyRkRnNiUyRmw5T2IySFl4UjFaUUpOVWQxNXFibGNZQzBqRFdORWEyaXl5T3ZzbyUyRldsTXI1VnpiUg',\n",
    "    'ivs_video_2630039_lastPlayed': '338244,374640',\n",
    "    'XSRF-TOKEN': 'eyJpdiI6InlkUmVKNFVWYmgycG1ENnAra01yRGc9PSIsInZhbHVlIjoiU1ZvVllJeFNSblg2VjFDbnVndzIyNFZ6d01LdEZEOUI4MTBmOGcwRmdwakcrMVF3WklJZ2FRQWtYeE80MjBRajhwbjdyTWU2dWk5YlJVUjlidTRlc0FZaWYveVplVmNrTHBPWFVjZjJSUThoaDl2cW9WN29sVXFnUHlvOWJhK3kiLCJtYWMiOiI3YWRkYzExZDZiZGU5MWNhZmIzZTkzODBkOTUxMmJkNDc2NTc3ZTc5YzkwNDRiZDNlOGQ2MmYzN2YwZmJmYWJhIiwidGFnIjoiIn0%3D',\n",
    "    'laravel_session': 'eyJpdiI6IlJrelRLTk5tL0NFMGlLcTdpWE1aRGc9PSIsInZhbHVlIjoid3dPYmtWTHRKeHYvRStjTWI0em5WSFFKQnY5SXZsZjZlZTJUYjlVU1VFR21KeFJBYlNOd29Zb2NEWCt5YnpvL2cyckRVQ25yOTJxanhHNnBGWFBMdnB4N1pNOFMrSklJVVpnditFem5KeHQ0cWRVUFNiK3l1NmhiMFowbWtUeFAiLCJtYWMiOiJjOGExNjMyMmQ4YjVlZTYzNjQ0Yzk3M2Q2YjZiMjIwMGI3Y2NiZTI1OWI3MmFlNWVlYzlkOTc1ZDkxYzEwMDNkIiwidGFnIjoiIn0%3D',\n",
    "    'NMQADTCFysP2nENv5kipSbqyOkBsEIPUdEt1w0xU': 'eyJpdiI6IlNzN1dlbEZGMVdsV3p4cXRuL1JEdHc9PSIsInZhbHVlIjoidElBZ2lGUk44cGdQaGpkMEMzd3ZpT2NoQ3dBWkp1U3QxZWUyeld0WmROcFVJRjZmNXVBWFQrWGpFbDAxUjlISmE2Zi9KVWhXQmkrZHZmMGQxQU9MaWpYUC9mM3Fnb1I0WXI0ZEZMT1N3aDhQVC9nWlA3NTN5cVhtcFUxcUV5WklsbTdWeFA5NmdTajFQa1IyUHZ2My9hc1d4ZkZNNlNRVVozdjNqTGNOcWdPc3BmVWpKS0h0NlRLZURxSXlsTy9zM2VhMzZQazFLQ0dNQS9WS25OaFdZb0pqT2IyclRXVzlPaU5pUGFjeGFUMERPMzFDMTRGY2w3dTJiTnVZOWpwUmxFQmpRSXUxMlh3MGRubkdhUlh6VWt5V3U4LzFteXFKc3A2YnMzY1BFbEVGSDNNWUJXKzNkY1lpV0VoNk5EV29aLzZqUjhuOThab1FWL29taTFqRWFJWlBjYU9vM0x1a1c0N1lvcVFPSzBGQ1ZCcGNDbng3b3VreVNpNC9rbkJUaXdDWWhaZXdTdVlkcE1UcytqVmRkNW1kblM0dVRlYStuV3VpbG9RWm5xUXZwQmRkaCtHSHVPZkU0ODV4UzFQdiIsIm1hYyI6Ijc4YTQwNDRhYjUyZWU2ZmFjMGFkZjUyYTMxMTVhNzU5YzRiZmZkOThiNWVlYTFkMDExMzhmZTRjZWIzYTJhN2EiLCJ0YWciOiIifQ%3D%3D',\n",
    "    '_ga_R444XB4W46': 'GS1.1.1689566444.2.1.1689567505.60.0.0',\n",
    "}\n",
    "\n",
    "headers = {\n",
    "    'authority': 'wiser.my',\n",
    "    'accept': '*/*',\n",
    "    'accept-language': 'en-MY,en;q=0.9,en-US;q=0.8,ms;q=0.7',\n",
    "    'cache-control': 'no-cache',\n",
    "    # 'cookie': '_ga=GA1.1.1621862435.1689525830; _cc_id=69f8b801beef15345eb5accdea253af; panoramaId_expiry=1690171925870; panoramaId=1211dc095c1d8b91c5624a83d00716d53938452c26a545c0166a87e03cfa958a; panoramaIdType=panoIndiv; cto_bundle=n7XXaF9HSUNyJTJGamtCJTJCQjBDNU5hZEdwUXZFanVoYjdyQkE0cGszV0ZLb2VSQ3RYT2MxQ0Y5U09WRXE1ZHRjRlR0eGVTb3E2YWVCWFk3VXlZUUUyMmRGd3FQJTJCV2k0THRMNzdqOWV3YWZKV2gwRVVJWkNzRm5BSVJkY1F2bXhpUEVVSzklMkJtdmFldllGYll4SCUyRkRnNiUyRmw5T2IySFl4UjFaUUpOVWQxNXFibGNZQzBqRFdORWEyaXl5T3ZzbyUyRldsTXI1VnpiUg; ivs_video_2630039_lastPlayed=338244,374640; XSRF-TOKEN=eyJpdiI6InlkUmVKNFVWYmgycG1ENnAra01yRGc9PSIsInZhbHVlIjoiU1ZvVllJeFNSblg2VjFDbnVndzIyNFZ6d01LdEZEOUI4MTBmOGcwRmdwakcrMVF3WklJZ2FRQWtYeE80MjBRajhwbjdyTWU2dWk5YlJVUjlidTRlc0FZaWYveVplVmNrTHBPWFVjZjJSUThoaDl2cW9WN29sVXFnUHlvOWJhK3kiLCJtYWMiOiI3YWRkYzExZDZiZGU5MWNhZmIzZTkzODBkOTUxMmJkNDc2NTc3ZTc5YzkwNDRiZDNlOGQ2MmYzN2YwZmJmYWJhIiwidGFnIjoiIn0%3D; laravel_session=eyJpdiI6IlJrelRLTk5tL0NFMGlLcTdpWE1aRGc9PSIsInZhbHVlIjoid3dPYmtWTHRKeHYvRStjTWI0em5WSFFKQnY5SXZsZjZlZTJUYjlVU1VFR21KeFJBYlNOd29Zb2NEWCt5YnpvL2cyckRVQ25yOTJxanhHNnBGWFBMdnB4N1pNOFMrSklJVVpnditFem5KeHQ0cWRVUFNiK3l1NmhiMFowbWtUeFAiLCJtYWMiOiJjOGExNjMyMmQ4YjVlZTYzNjQ0Yzk3M2Q2YjZiMjIwMGI3Y2NiZTI1OWI3MmFlNWVlYzlkOTc1ZDkxYzEwMDNkIiwidGFnIjoiIn0%3D; NMQADTCFysP2nENv5kipSbqyOkBsEIPUdEt1w0xU=eyJpdiI6IlNzN1dlbEZGMVdsV3p4cXRuL1JEdHc9PSIsInZhbHVlIjoidElBZ2lGUk44cGdQaGpkMEMzd3ZpT2NoQ3dBWkp1U3QxZWUyeld0WmROcFVJRjZmNXVBWFQrWGpFbDAxUjlISmE2Zi9KVWhXQmkrZHZmMGQxQU9MaWpYUC9mM3Fnb1I0WXI0ZEZMT1N3aDhQVC9nWlA3NTN5cVhtcFUxcUV5WklsbTdWeFA5NmdTajFQa1IyUHZ2My9hc1d4ZkZNNlNRVVozdjNqTGNOcWdPc3BmVWpKS0h0NlRLZURxSXlsTy9zM2VhMzZQazFLQ0dNQS9WS25OaFdZb0pqT2IyclRXVzlPaU5pUGFjeGFUMERPMzFDMTRGY2w3dTJiTnVZOWpwUmxFQmpRSXUxMlh3MGRubkdhUlh6VWt5V3U4LzFteXFKc3A2YnMzY1BFbEVGSDNNWUJXKzNkY1lpV0VoNk5EV29aLzZqUjhuOThab1FWL29taTFqRWFJWlBjYU9vM0x1a1c0N1lvcVFPSzBGQ1ZCcGNDbng3b3VreVNpNC9rbkJUaXdDWWhaZXdTdVlkcE1UcytqVmRkNW1kblM0dVRlYStuV3VpbG9RWm5xUXZwQmRkaCtHSHVPZkU0ODV4UzFQdiIsIm1hYyI6Ijc4YTQwNDRhYjUyZWU2ZmFjMGFkZjUyYTMxMTVhNzU5YzRiZmZkOThiNWVlYTFkMDExMzhmZTRjZWIzYTJhN2EiLCJ0YWciOiIifQ%3D%3D; _ga_R444XB4W46=GS1.1.1689566444.2.1.1689567505.60.0.0',\n",
    "    'pragma': 'no-cache',\n",
    "    'referer': 'https://wiser.my/10-aplikasi-permainan-mudah-alih-buatan-malaysia-yang-patut-anda-cuba',\n",
    "    'sec-ch-ua': '\"Not.A/Brand\";v=\"8\", \"Chromium\";v=\"114\", \"Google Chrome\";v=\"114\"',\n",
    "    'sec-ch-ua-mobile': '?0',\n",
    "    'sec-ch-ua-platform': '\"macOS\"',\n",
    "    'sec-fetch-dest': 'empty',\n",
    "    'sec-fetch-mode': 'cors',\n",
    "    'sec-fetch-site': 'same-origin',\n",
    "    'user-agent': 'Mozilla/5.0 (Macintosh; Intel Mac OS X 10_15_7) AppleWebKit/537.36 (KHTML, like Gecko) Chrome/114.0.0.0 Safari/537.36',\n",
    "}\n",
    "\n",
    "params = {\n",
    "    'null': '',\n",
    "}\n",
    "\n",
    "response = requests.get(\n",
    "    'https://wiser.my/api/article/10-aplikasi-permainan-mudah-alih-buatan-malaysia-yang-patut-anda-cuba',\n",
    "    params=params,\n",
    "    cookies=cookies,\n",
    "    headers=headers,\n",
    ")"
   ]
  },
  {
   "cell_type": "code",
   "execution_count": null,
   "metadata": {},
   "outputs": [],
   "source": [
    "r = response.json()"
   ]
  },
  {
   "cell_type": "code",
   "execution_count": null,
   "metadata": {},
   "outputs": [],
   "source": [
    "body = [c['value'] for c in response.json()['data']['content']]\n",
    "body"
   ]
  },
  {
   "cell_type": "code",
   "execution_count": 3,
   "metadata": {},
   "outputs": [],
   "source": [
    "!rm -rf page\n",
    "!mkdir page"
   ]
  },
  {
   "cell_type": "code",
   "execution_count": 4,
   "metadata": {},
   "outputs": [
    {
     "data": {
      "text/plain": [
       "'10-aplikasi-permainan-mudah-alih-buatan-malaysia-yang-patut-anda-cuba'"
      ]
     },
     "execution_count": 4,
     "metadata": {},
     "output_type": "execute_result"
    }
   ],
   "source": [
    "urls[0]"
   ]
  },
  {
   "cell_type": "code",
   "execution_count": 12,
   "metadata": {},
   "outputs": [
    {
     "name": "stderr",
     "output_type": "stream",
     "text": [
      "3224it [07:59,  6.72it/s]  \n"
     ]
    }
   ],
   "source": [
    "for no, url in tqdm(enumerate(urls)):\n",
    "    filename = os.path.join('page', f'{no}.json')\n",
    "    if os.path.exists(filename):\n",
    "        continue\n",
    "    \n",
    "    for _ in range(2):\n",
    "        try:\n",
    "            response = requests.get(\n",
    "                f'https://wiser.my/api/article/{url}',\n",
    "                params=params,\n",
    "                cookies=cookies,\n",
    "                headers=headers,\n",
    "            )\n",
    "            \n",
    "            break\n",
    "        except Exception as e:\n",
    "            time.sleep(1.0)\n",
    "    \n",
    "    try:\n",
    "        r = response.json()\n",
    "\n",
    "        with open(filename, 'w') as fopen:\n",
    "            json.dump(r, fopen)\n",
    "    except:\n",
    "        pass"
   ]
  },
  {
   "cell_type": "code",
   "execution_count": 10,
   "metadata": {},
   "outputs": [
    {
     "data": {
      "text/plain": [
       "<Response [500]>"
      ]
     },
     "execution_count": 10,
     "metadata": {},
     "output_type": "execute_result"
    }
   ],
   "source": [
    "response"
   ]
  },
  {
   "cell_type": "code",
   "execution_count": 11,
   "metadata": {},
   "outputs": [
    {
     "data": {
      "text/plain": [
       "'https://wiser.my/api/article/ini-adalah-5-ciri-baharu-di-youtube-yang-boleh-anda-cuba'"
      ]
     },
     "execution_count": 11,
     "metadata": {},
     "output_type": "execute_result"
    }
   ],
   "source": [
    "f'https://wiser.my/api/article/{url}'"
   ]
  },
  {
   "cell_type": "code",
   "execution_count": null,
   "metadata": {},
   "outputs": [],
   "source": []
  }
 ],
 "metadata": {
  "kernelspec": {
   "display_name": "Python 3 (ipykernel)",
   "language": "python",
   "name": "python3"
  },
  "language_info": {
   "codemirror_mode": {
    "name": "ipython",
    "version": 3
   },
   "file_extension": ".py",
   "mimetype": "text/x-python",
   "name": "python",
   "nbconvert_exporter": "python",
   "pygments_lexer": "ipython3",
   "version": "3.8.10"
  }
 },
 "nbformat": 4,
 "nbformat_minor": 4
}
