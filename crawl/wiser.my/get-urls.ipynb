{
 "cells": [
  {
   "cell_type": "code",
   "execution_count": 11,
   "metadata": {},
   "outputs": [],
   "source": [
    "import requests\n",
    "\n",
    "cookies = {\n",
    "    '_ga': 'GA1.1.1621862435.1689525830',\n",
    "    '_ga_R444XB4W46': 'GS1.1.1689566444.2.1.1689566509.60.0.0',\n",
    "    'XSRF-TOKEN': 'eyJpdiI6IjlieHhnd3BTOHRld2xORXlFMmVMM3c9PSIsInZhbHVlIjoiL2pXblB0Q3JwM2VUQkxlaWw2UFExcUlyKzN6Nmc0WjNHN2RHS2ZldG9HUEUyTGpIMWpQamVFSWp0QUJOQlF5di9GQnYrMUYrMlk0dTJ2ZmF4azBDM0xwREVvV2IrYXFpUjJ1eVNXZ0xBMDdYOG8xWkhkZW01K0gvd3hiSCtjVXYiLCJtYWMiOiIzMDg2YzdhZjY0NmJjZTRmMzk3ZDYyYjhhNjNjYmNmYTBmODkxODg5YTkwMTIxZjY4ODQ4YThmOTVkMTk3YThjIiwidGFnIjoiIn0%3D',\n",
    "    'laravel_session': 'eyJpdiI6IndmeGMzbmxRY1NwdXRkbVNTS0Jra3c9PSIsInZhbHVlIjoiRGtWSWZXd3BZWVR3QWsyVXM2MkNybmIvbXFvUTQxL2JZRDJVcnpuWkhmeElMUDRHL0h6OHJFYk03LzhRVnRNdUhvdWhweEJBT1RZdE1ZNUdpV2JTSW8zTjRFTFJTeGsxS2RaT0ljU1hCTkVLUUlvWnZJdGg4djdEVGp4UGRkbUwiLCJtYWMiOiJhNDdjYThjNDk0YjYwNzkwMmFjNTlmNzdlNmFmNzJjYmU1MDc0NWFiODJkMGNlOTFlZGViNzYxZmE5YTEyOGJmIiwidGFnIjoiIn0%3D',\n",
    "    'NMQADTCFysP2nENv5kipSbqyOkBsEIPUdEt1w0xU': 'eyJpdiI6IlowZVg1VDFZdWxPU2FVTldybzlLVUE9PSIsInZhbHVlIjoiUGUwWHMvQWp5NEVGVGtVRzFzNWlCRllaS3VtMWpSRmR1UytaWWUrZjNaOXplWm5ZVnVOQU40OWxpMWZTMm0zcXZwMjZsZTVQYzRZY2kwM2dWcGhxNEtsd1Y1dGJ3cW8xOTl1akJwckx6VjB6YmtHQmpLbnhsSlA1V2FUMC9pZmVTNlhTMUVJNDVGaGlxZ1U5YlJXM3hTbDd6WHNJYjA0ZHMvUk5SNTZpK1dPbndKU0JmVm9FcTRLYm1LcjNlNEVwWGlVMDRtMHdxRFBmNFRUR2lUa2lMNVd4Q25kUm9sRE9HdWlnL0JueUFEbTNLZ2VSVzM5MldPaVdaaWg3WkRKV0d6TjZZOWF2TmdVZ2NoT0tRZWhnU1c0dGtvWjdSTmxVRmtFY1R5ek9vUEJtVjlQNEJBZC81MGgyVFcyRXJqYStDcWhCOW9ZeTdmV2NzK0JBZzMyUDVubnpaSW9qaEZ4RDVHNFZMWStNbHpsWnExaGZ1aDFTNTgyckwzVm1qcHRaIiwibWFjIjoiYzRjM2FkMDYzMjNjOTIyZDhkNDczNjcxMWQ5ZGNlNzhlMTViZDQyMDI5ODg5YjJiZDA3MWRmMDljZTA3OTk3NiIsInRhZyI6IiJ9',\n",
    "}\n",
    "\n",
    "headers = {\n",
    "    'authority': 'wiser.my',\n",
    "    'accept': '*/*',\n",
    "    'accept-language': 'en-MY,en;q=0.9,en-US;q=0.8,ms;q=0.7',\n",
    "    'cache-control': 'no-cache',\n",
    "    # 'cookie': '_ga=GA1.1.1621862435.1689525830; _ga_R444XB4W46=GS1.1.1689566444.2.1.1689566509.60.0.0; XSRF-TOKEN=eyJpdiI6IjlieHhnd3BTOHRld2xORXlFMmVMM3c9PSIsInZhbHVlIjoiL2pXblB0Q3JwM2VUQkxlaWw2UFExcUlyKzN6Nmc0WjNHN2RHS2ZldG9HUEUyTGpIMWpQamVFSWp0QUJOQlF5di9GQnYrMUYrMlk0dTJ2ZmF4azBDM0xwREVvV2IrYXFpUjJ1eVNXZ0xBMDdYOG8xWkhkZW01K0gvd3hiSCtjVXYiLCJtYWMiOiIzMDg2YzdhZjY0NmJjZTRmMzk3ZDYyYjhhNjNjYmNmYTBmODkxODg5YTkwMTIxZjY4ODQ4YThmOTVkMTk3YThjIiwidGFnIjoiIn0%3D; laravel_session=eyJpdiI6IndmeGMzbmxRY1NwdXRkbVNTS0Jra3c9PSIsInZhbHVlIjoiRGtWSWZXd3BZWVR3QWsyVXM2MkNybmIvbXFvUTQxL2JZRDJVcnpuWkhmeElMUDRHL0h6OHJFYk03LzhRVnRNdUhvdWhweEJBT1RZdE1ZNUdpV2JTSW8zTjRFTFJTeGsxS2RaT0ljU1hCTkVLUUlvWnZJdGg4djdEVGp4UGRkbUwiLCJtYWMiOiJhNDdjYThjNDk0YjYwNzkwMmFjNTlmNzdlNmFmNzJjYmU1MDc0NWFiODJkMGNlOTFlZGViNzYxZmE5YTEyOGJmIiwidGFnIjoiIn0%3D; NMQADTCFysP2nENv5kipSbqyOkBsEIPUdEt1w0xU=eyJpdiI6IlowZVg1VDFZdWxPU2FVTldybzlLVUE9PSIsInZhbHVlIjoiUGUwWHMvQWp5NEVGVGtVRzFzNWlCRllaS3VtMWpSRmR1UytaWWUrZjNaOXplWm5ZVnVOQU40OWxpMWZTMm0zcXZwMjZsZTVQYzRZY2kwM2dWcGhxNEtsd1Y1dGJ3cW8xOTl1akJwckx6VjB6YmtHQmpLbnhsSlA1V2FUMC9pZmVTNlhTMUVJNDVGaGlxZ1U5YlJXM3hTbDd6WHNJYjA0ZHMvUk5SNTZpK1dPbndKU0JmVm9FcTRLYm1LcjNlNEVwWGlVMDRtMHdxRFBmNFRUR2lUa2lMNVd4Q25kUm9sRE9HdWlnL0JueUFEbTNLZ2VSVzM5MldPaVdaaWg3WkRKV0d6TjZZOWF2TmdVZ2NoT0tRZWhnU1c0dGtvWjdSTmxVRmtFY1R5ek9vUEJtVjlQNEJBZC81MGgyVFcyRXJqYStDcWhCOW9ZeTdmV2NzK0JBZzMyUDVubnpaSW9qaEZ4RDVHNFZMWStNbHpsWnExaGZ1aDFTNTgyckwzVm1qcHRaIiwibWFjIjoiYzRjM2FkMDYzMjNjOTIyZDhkNDczNjcxMWQ5ZGNlNzhlMTViZDQyMDI5ODg5YjJiZDA3MWRmMDljZTA3OTk3NiIsInRhZyI6IiJ9',\n",
    "    'pragma': 'no-cache',\n",
    "    'referer': 'https://wiser.my/articles/category/berita',\n",
    "    'sec-ch-ua': '\"Not.A/Brand\";v=\"8\", \"Chromium\";v=\"114\", \"Google Chrome\";v=\"114\"',\n",
    "    'sec-ch-ua-mobile': '?0',\n",
    "    'sec-ch-ua-platform': '\"macOS\"',\n",
    "    'sec-fetch-dest': 'empty',\n",
    "    'sec-fetch-mode': 'cors',\n",
    "    'sec-fetch-site': 'same-origin',\n",
    "    'user-agent': 'Mozilla/5.0 (Macintosh; Intel Mac OS X 10_15_7) AppleWebKit/537.36 (KHTML, like Gecko) Chrome/114.0.0.0 Safari/537.36',\n",
    "}\n",
    "\n",
    "params = {\n",
    "    'page': '10000',\n",
    "}\n",
    "\n",
    "response = requests.get('https://wiser.my/api/articles/category/tips gajet', params=params, cookies=cookies, headers=headers)"
   ]
  },
  {
   "cell_type": "code",
   "execution_count": 13,
   "metadata": {},
   "outputs": [
    {
     "data": {
      "text/plain": [
       "{'status': 200,\n",
       " 'success': True,\n",
       " 'data': [],\n",
       " 'pagination': {'total': 1000,\n",
       "  'offset': 1000,\n",
       "  'limit': 12,\n",
       "  'perPage': None,\n",
       "  'currentPage': 10000,\n",
       "  'lastPage': 84,\n",
       "  'time': 0.018478870391845703}}"
      ]
     },
     "execution_count": 13,
     "metadata": {},
     "output_type": "execute_result"
    }
   ],
   "source": [
    "response.json()"
   ]
  },
  {
   "cell_type": "code",
   "execution_count": 9,
   "metadata": {},
   "outputs": [],
   "source": [
    "categories = [\n",
    "    'berita',\n",
    "    'ulasan',\n",
    "    'tips gajet',\n",
    "    'trivia',\n",
    "    'sains-teknologi',\n",
    "    'promosi'\n",
    "]"
   ]
  },
  {
   "cell_type": "code",
   "execution_count": 10,
   "metadata": {},
   "outputs": [],
   "source": [
    "!mkdir url"
   ]
  },
  {
   "cell_type": "code",
   "execution_count": 16,
   "metadata": {},
   "outputs": [
    {
     "name": "stderr",
     "output_type": "stream",
     "text": [
      "85it [00:24,  3.42it/s]\n",
      "37it [00:09,  4.08it/s]\n",
      "85it [00:24,  3.50it/s]\n",
      "43it [00:11,  3.60it/s]\n",
      "12it [00:03,  3.91it/s]\n",
      "28it [00:07,  3.60it/s]\n"
     ]
    }
   ],
   "source": [
    "from tqdm import tqdm\n",
    "import os\n",
    "import json\n",
    "\n",
    "def generator():\n",
    "    while True:\n",
    "        yield\n",
    "\n",
    "for c in categories:\n",
    "    index = 0\n",
    "    for _ in tqdm(generator()):\n",
    "        filename = os.path.join('url', f'{c}-{index}.json')\n",
    "        if os.path.exists(filename):\n",
    "            index += 1\n",
    "            continue\n",
    "            \n",
    "        params = {\n",
    "            'page': str(index),\n",
    "        }\n",
    "\n",
    "        response = requests.get(f'https://wiser.my/api/articles/category/{c}', params=params, cookies=cookies, headers=headers)\n",
    "        r = response.json()\n",
    "        if not len(r['data']):\n",
    "            break\n",
    "        \n",
    "        with open(filename, 'w') as fopen:\n",
    "            json.dump(r, fopen)\n",
    "            \n",
    "        index += 1"
   ]
  },
  {
   "cell_type": "code",
   "execution_count": null,
   "metadata": {},
   "outputs": [],
   "source": []
  }
 ],
 "metadata": {
  "kernelspec": {
   "display_name": "Python 3 (ipykernel)",
   "language": "python",
   "name": "python3"
  },
  "language_info": {
   "codemirror_mode": {
    "name": "ipython",
    "version": 3
   },
   "file_extension": ".py",
   "mimetype": "text/x-python",
   "name": "python",
   "nbconvert_exporter": "python",
   "pygments_lexer": "ipython3",
   "version": "3.8.10"
  }
 },
 "nbformat": 4,
 "nbformat_minor": 4
}
