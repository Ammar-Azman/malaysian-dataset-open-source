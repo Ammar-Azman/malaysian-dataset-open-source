{
 "cells": [
  {
   "cell_type": "code",
   "execution_count": 1,
   "metadata": {},
   "outputs": [],
   "source": [
    "import requests\n",
    "from bs4 import BeautifulSoup\n",
    "from tqdm import tqdm\n",
    "import os\n",
    "import json\n",
    "import numpy as np\n",
    "import time\n",
    "import random\n",
    "import json\n",
    "from concurrent.futures import ThreadPoolExecutor, as_completed\n",
    "from datetime import datetime, timedelta\n",
    "from glob import glob"
   ]
  },
  {
   "cell_type": "code",
   "execution_count": 4,
   "metadata": {},
   "outputs": [
    {
     "data": {
      "text/plain": [
       "110"
      ]
     },
     "execution_count": 4,
     "metadata": {},
     "output_type": "execute_result"
    }
   ],
   "source": [
    "files = glob('org.my/*.html')\n",
    "len(files)"
   ]
  },
  {
   "cell_type": "code",
   "execution_count": 5,
   "metadata": {},
   "outputs": [
    {
     "name": "stderr",
     "output_type": "stream",
     "text": [
      "100%|█████████████████████████████████████████| 110/110 [00:07<00:00, 15.04it/s]\n"
     ]
    }
   ],
   "source": [
    "all_a = []\n",
    "for f in tqdm(files):\n",
    "    with open(f) as fopen:\n",
    "        data = fopen.read()\n",
    "    soup = BeautifulSoup(data, \"lxml\")\n",
    "    a = soup.find_all('a')\n",
    "    a = [a_.get('href', '') for a_ in a if a_.get('href', '').endswith('.pdf')]\n",
    "    all_a.extend(a)"
   ]
  },
  {
   "cell_type": "code",
   "execution_count": 6,
   "metadata": {},
   "outputs": [
    {
     "data": {
      "text/plain": [
       "10092"
      ]
     },
     "execution_count": 6,
     "metadata": {},
     "output_type": "execute_result"
    }
   ],
   "source": [
    "all_a = list(set(all_a))\n",
    "len(all_a)"
   ]
  },
  {
   "cell_type": "code",
   "execution_count": 7,
   "metadata": {},
   "outputs": [],
   "source": [
    "# !wget https://gist.githubusercontent.com/huseinzol05/98974ae8c6c7a65d4bc0af9f5003786a/raw/5aa5257608b61e8fcc828e99fbd070d5ca7358e3/mp.py"
   ]
  },
  {
   "cell_type": "code",
   "execution_count": 8,
   "metadata": {},
   "outputs": [],
   "source": [
    "import mp"
   ]
  },
  {
   "cell_type": "code",
   "execution_count": 9,
   "metadata": {},
   "outputs": [],
   "source": [
    "with open('all_a.json', 'w') as fopen:\n",
    "    json.dump(all_a, fopen)"
   ]
  },
  {
   "cell_type": "code",
   "execution_count": 10,
   "metadata": {},
   "outputs": [],
   "source": [
    "all_a_f = [(no, f) for no, f in enumerate(all_a)]"
   ]
  },
  {
   "cell_type": "code",
   "execution_count": 12,
   "metadata": {},
   "outputs": [],
   "source": [
    "!mkdir pdf"
   ]
  },
  {
   "cell_type": "code",
   "execution_count": 13,
   "metadata": {},
   "outputs": [],
   "source": [
    "def loop(files):\n",
    "    files, _ = files\n",
    "    for f in tqdm(files):\n",
    "        i, f = f\n",
    "        file = os.path.join('pdf', f'{i}.pdf')\n",
    "        if os.path.exists(file):\n",
    "            continue\n",
    "        \n",
    "        try:\n",
    "            r = requests.get(f, timeout = 60)\n",
    "            with open(file, 'wb') as fopen:\n",
    "                fopen.write(r.content)\n",
    "        except:\n",
    "            pass"
   ]
  },
  {
   "cell_type": "code",
   "execution_count": 14,
   "metadata": {},
   "outputs": [
    {
     "name": "stderr",
     "output_type": "stream",
     "text": [
      "100%|█████████████████████████████████████████████| 2/2 [00:01<00:00,  1.51it/s]\n"
     ]
    }
   ],
   "source": [
    "loop((all_a_f[:2], 0))"
   ]
  },
  {
   "cell_type": "code",
   "execution_count": 15,
   "metadata": {},
   "outputs": [
    {
     "name": "stderr",
     "output_type": "stream",
     "text": [
      "100%|███████████████████████████████████████| 1009/1009 [22:21<00:00,  1.33s/it]\n",
      "100%|█████████████████████████████████████████████| 2/2 [00:01<00:00,  1.42it/s]\n",
      "100%|███████████████████████████████████████| 1009/1009 [22:35<00:00,  1.34s/it]\n",
      "100%|███████████████████████████████████████| 1009/1009 [22:42<00:00,  1.35s/it]\n",
      "100%|███████████████████████████████████████| 1009/1009 [22:46<00:00,  1.35s/it]\n",
      "100%|███████████████████████████████████████| 1009/1009 [23:42<00:00,  1.41s/it]\n",
      "100%|███████████████████████████████████████| 1009/1009 [23:58<00:00,  1.43s/it]\n",
      "100%|███████████████████████████████████████| 1009/1009 [24:26<00:00,  1.45s/it]\n",
      "100%|███████████████████████████████████████| 1009/1009 [24:27<00:00,  1.45s/it]\n",
      "100%|███████████████████████████████████████| 1009/1009 [24:55<00:00,  1.48s/it]\n",
      "100%|███████████████████████████████████████| 1009/1009 [25:45<00:00,  1.53s/it]\n"
     ]
    }
   ],
   "source": [
    "mp.multiprocessing(all_a_f, loop, cores = 10, returned = False)"
   ]
  },
  {
   "cell_type": "code",
   "execution_count": 23,
   "metadata": {},
   "outputs": [
    {
     "name": "stdout",
     "output_type": "stream",
     "text": [
      "16G\tpdf\r\n"
     ]
    }
   ],
   "source": [
    "!du -hs pdf"
   ]
  }
 ],
 "metadata": {
  "kernelspec": {
   "display_name": "Python 3 (ipykernel)",
   "language": "python",
   "name": "python3"
  },
  "language_info": {
   "codemirror_mode": {
    "name": "ipython",
    "version": 3
   },
   "file_extension": ".py",
   "mimetype": "text/x-python",
   "name": "python",
   "nbconvert_exporter": "python",
   "pygments_lexer": "ipython3",
   "version": "3.8.10"
  }
 },
 "nbformat": 4,
 "nbformat_minor": 4
}
