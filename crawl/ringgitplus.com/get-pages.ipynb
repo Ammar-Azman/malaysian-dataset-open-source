{
 "cells": [
  {
   "cell_type": "code",
   "execution_count": 1,
   "metadata": {},
   "outputs": [],
   "source": [
    "import requests\n",
    "from bs4 import BeautifulSoup\n",
    "from tqdm import tqdm\n",
    "import os\n",
    "import json\n",
    "import numpy as np\n",
    "import time\n",
    "import random\n",
    "import json\n",
    "import urllib3\n",
    "urllib3.disable_warnings(urllib3.exceptions.InsecureRequestWarning)"
   ]
  },
  {
   "cell_type": "code",
   "execution_count": 2,
   "metadata": {},
   "outputs": [
    {
     "data": {
      "text/plain": [
       "5637"
      ]
     },
     "execution_count": 2,
     "metadata": {},
     "output_type": "execute_result"
    }
   ],
   "source": [
    "with open('urls.json') as fopen:\n",
    "    urls = sorted(json.load(fopen))\n",
    "    \n",
    "len(urls)"
   ]
  },
  {
   "cell_type": "code",
   "execution_count": 4,
   "metadata": {},
   "outputs": [],
   "source": [
    "r = requests.get(urls[0])\n",
    "soup = BeautifulSoup(r.content, \"lxml\")"
   ]
  },
  {
   "cell_type": "code",
   "execution_count": 9,
   "metadata": {},
   "outputs": [
    {
     "data": {
      "text/plain": [
       "'7-Eleven Malaysia Launches New My7E Loyalty App'"
      ]
     },
     "execution_count": 9,
     "metadata": {},
     "output_type": "execute_result"
    }
   ],
   "source": [
    "soup.find('div', {'class': 'stitle'}).text"
   ]
  },
  {
   "cell_type": "code",
   "execution_count": 11,
   "metadata": {},
   "outputs": [
    {
     "data": {
      "text/plain": [
       "'\\n\\n\\n\\n7-Eleven Malaysia has launched its own loyalty app called My7E. According to the 24/7 convenience store chain, users get to enjoy special rewards and exclusive discounts via this new membership app.\\n\\n\\nMy7E allows you to collect points by presenting your in-app barcode to the cashier when you make a purchase at 7-Eleven. The app also rewards members who make use of the app’s e-stamp cards, where repeat purchases from selected brands earn you various benefits. The My7E app has e-coupon deals with discounted offers that you can take advantage of as well.\\n\\n\\n\\n\\n\\n\\n\\n\\n\\n\\nFurthermore, you can link your B Infinite card and Razer Pay e-wallet to the My7E app to earn points from those rewards programmes too. The Razer Pay e-wallet can also be used to make cashless payments via the app.\\n\\n\\nCurrently, the My7E app is offering RM3 e-cash vouchers to new users who sign up for the application. Besides that, users will also get one free Slurpee for every six Slurpee drinks purchased.\\n\\n\\nWith My7E, 7 Eleven seems to be following in the footsteps of fellow convenience store Family Mart, which launched its own loyalty app called \\nMY Family Mart\\n. You can download the My7E app on \\nGoogle Play Store\\n or the \\nApp Store\\n now.\\n\\n\\n(Source: \\nLowyat.NET\\n)\\n\\n\\n\\n\\n\\n\\n\\n\\n\\n\\n\\n\\n0\\n\\n\\n0\\n\\n\\nvotes\\n\\n\\nArticle Rating\\n\\n\\n\\n\\nSHARE\\n\\n\\n\\n\\n\\n\\n\\n\\n\\n\\n \\n\\n\\n\\n\\nTAGS:\\n\\n\\n\\n\\n7-Eleven\\n\\n\\nConvenience Stores\\n\\n\\nLoyalty App\\n\\n\\nMy7E\\n\\n\\n\\n\\n\\n\\nAbout THE AUTHOR\\n\\n\\nJacie Tan\\n\\n\\n\\n\\n\\n\\n\\n\\n\\n\\n\\n\\nJacie Tan\\n\\n\\n\\n\\nSee all articles\\n\\n\\n\\n\\n\\n\\n\\n\\n\\n\\n\\n\\nComments \\n                            \\n (0)\\n\\n\\n\\n\\n\\n\\n\\n\\n\\n\\n\\n\\n \\n\\n\\n\\n\\n\\n\\n\\n\\n\\n\\n\\n\\n \\nSubscribe\\n\\n\\n\\n\\n\\n\\n\\n\\n\\n\\n\\n\\n\\n\\n\\n\\n\\n\\n\\n\\nNotify of \\n\\n\\n\\n\\n\\n\\nnew follow-up comments\\n\\n\\nnew replies to my comments\\n\\n\\n\\n\\n\\n\\n\\n\\n\\n\\n\\n\\n\\n\\n\\n\\n\\n\\n \\n\\n\\n\\n\\n\\n\\n\\n\\n\\n\\n\\n\\n\\n\\n\\n\\n\\n\\nLabel\\n\\n\\n\\n\\n\\n\\n\\n\\n\\n\\n\\n\\n\\n\\n\\n\\n\\n\\n\\n\\n\\n\\n\\n\\n\\n\\n\\n\\n\\n\\n\\n\\n\\n\\nName\\n\\n\\n\\n\\n\\n\\n\\n\\n\\n\\nEmail\\n\\n\\n\\n\\n\\n\\n\\n\\n\\n\\n\\n\\n\\n\\n\\n\\n\\n\\n\\n\\n\\n\\n\\n\\nΔ\\n \\n\\n\\n\\n\\n\\n\\n\\n\\n\\n\\n\\n\\n\\n\\n\\n\\n\\n\\n\\n\\n\\n\\n\\n\\nLabel\\n\\n\\n\\n\\n\\n\\n\\n\\n\\n\\n\\n\\n\\n\\n\\n\\n\\n\\n\\n\\n\\n\\n\\n\\n\\n\\n\\n\\n\\n\\n\\n\\n\\n\\nName\\n\\n\\n\\n\\n\\n\\n\\n\\n\\n\\nEmail\\n\\n\\n\\n\\n\\n\\n\\n\\n\\n\\n\\n\\n\\n\\n\\n\\n\\n\\n\\n\\n\\n\\n\\n\\nΔ\\n \\n\\n\\n\\n\\n\\n\\n\\n\\n\\n\\n\\n\\n\\n\\n0\\n Comments                    \\n\\n\\n\\n\\n\\n\\n\\n\\n\\n\\n\\n\\n Inline Feedbacks                    \\n\\n\\nView all comments\\n\\n\\n\\n\\n\\n\\n\\n\\n\\n\\n\\n\\n\\n\\n\\n\\n\\n\\n\\n\\n\\n\\n\\n'"
      ]
     },
     "execution_count": 11,
     "metadata": {},
     "output_type": "execute_result"
    }
   ],
   "source": [
    "soup.find('div', {'class': 'scontent portfolio__content'}).get_text(separator=\"\\n\")"
   ]
  },
  {
   "cell_type": "code",
   "execution_count": 12,
   "metadata": {},
   "outputs": [],
   "source": [
    "!mkdir page"
   ]
  },
  {
   "cell_type": "code",
   "execution_count": 13,
   "metadata": {},
   "outputs": [
    {
     "name": "stderr",
     "output_type": "stream",
     "text": [
      "5637it [1:46:32,  1.13s/it]\n"
     ]
    }
   ],
   "source": [
    "for no, url in tqdm(enumerate(urls)):\n",
    "    filename = os.path.join('page', f'{no}.json')\n",
    "    if os.path.exists(filename):\n",
    "        continue\n",
    "    \n",
    "    success = False\n",
    "    while True:\n",
    "        try:\n",
    "            r = requests.get(url)\n",
    "            success = True\n",
    "            break\n",
    "        except Exception as e:\n",
    "            if 'xceeded 30 redirects' in str(e):\n",
    "                break\n",
    "            time.sleep(1.0)\n",
    "            \n",
    "    if not success:\n",
    "        continue\n",
    "            \n",
    "    soup = BeautifulSoup(r.content, \"lxml\")\n",
    "\n",
    "    try:\n",
    "        title = soup.find('div', {'class': 'stitle'}).text\n",
    "    except Exception as e:\n",
    "        title = None\n",
    "\n",
    "    try:\n",
    "        body = soup.find('div', {'class': 'scontent portfolio__content'}).get_text(separator=\"\\n\")\n",
    "    except Exception as e:\n",
    "        body = None\n",
    "\n",
    "    data = {\n",
    "        'url': url,\n",
    "        'title': title,\n",
    "        'body': body,\n",
    "    }\n",
    "    with open(filename, 'w') as fopen:\n",
    "        json.dump(data, fopen)"
   ]
  },
  {
   "cell_type": "code",
   "execution_count": 14,
   "metadata": {},
   "outputs": [
    {
     "data": {
      "text/plain": [
       "5637"
      ]
     },
     "execution_count": 14,
     "metadata": {},
     "output_type": "execute_result"
    }
   ],
   "source": [
    "from glob import glob\n",
    "\n",
    "files = glob('page/*.json')\n",
    "len(files)"
   ]
  },
  {
   "cell_type": "code",
   "execution_count": 15,
   "metadata": {},
   "outputs": [],
   "source": [
    "with open('ringgitplus.com.jsonl', 'w') as fopen_l:\n",
    "    for f in files:\n",
    "        with open(f) as fopen:\n",
    "            d = json.load(fopen)\n",
    "        fopen_l.write(f'{json.dumps(d)}\\n')"
   ]
  }
 ],
 "metadata": {
  "kernelspec": {
   "display_name": "Python 3 (ipykernel)",
   "language": "python",
   "name": "python3"
  },
  "language_info": {
   "codemirror_mode": {
    "name": "ipython",
    "version": 3
   },
   "file_extension": ".py",
   "mimetype": "text/x-python",
   "name": "python",
   "nbconvert_exporter": "python",
   "pygments_lexer": "ipython3",
   "version": "3.8.10"
  }
 },
 "nbformat": 4,
 "nbformat_minor": 4
}
