{
 "cells": [
  {
   "cell_type": "code",
   "execution_count": 40,
   "metadata": {},
   "outputs": [],
   "source": [
    "import requests\n",
    "from bs4 import BeautifulSoup\n",
    "from tqdm import tqdm\n",
    "import os\n",
    "import json\n",
    "import numpy as np\n",
    "import time\n",
    "import random\n",
    "import json\n",
    "import pandas as pd\n",
    "from tika import parser\n",
    "from bs4.element import Comment\n",
    "from bs4 import BeautifulSoup"
   ]
  },
  {
   "cell_type": "code",
   "execution_count": 45,
   "metadata": {},
   "outputs": [],
   "source": [
    "TIKA_HOST = 'http://localhost:9998'\n",
    "\n",
    "def tag_visible(element):\n",
    "    if element.parent.name in ['style', 'script', 'head', 'title', 'meta', '[document]']:\n",
    "        return False\n",
    "    if isinstance(element, Comment):\n",
    "        return False\n",
    "    return True\n",
    "\n",
    "\n",
    "def text_from_html(body, is_html=True):\n",
    "    if is_html:\n",
    "        soup = BeautifulSoup(body, 'html.parser')\n",
    "    else:\n",
    "        soup = body\n",
    "    texts = soup.findAll(text=True)\n",
    "    visible_texts = filter(tag_visible, texts)\n",
    "    return '\\n'.join(t.strip() for t in visible_texts).strip()\n",
    "\n",
    "\n",
    "def parse_tika(string, minlen=2,):\n",
    "    raw_xml = parser.from_buffer(string, TIKA_HOST, xmlContent=True)\n",
    "    body = BeautifulSoup(raw_xml['content']).find('body')\n",
    "    t = []\n",
    "    for b in body:\n",
    "        try:\n",
    "            t_ = text_from_html(b, is_html=False)\n",
    "            if len(t_) > minlen:\n",
    "                t.append(t_)\n",
    "        except Exception as e:\n",
    "            pass\n",
    "    \n",
    "    return t"
   ]
  },
  {
   "cell_type": "code",
   "execution_count": 4,
   "metadata": {},
   "outputs": [
    {
     "data": {
      "text/plain": [
       "12127"
      ]
     },
     "execution_count": 4,
     "metadata": {},
     "output_type": "execute_result"
    }
   ],
   "source": [
    "with open('mampu.json') as fopen:\n",
    "    data = json.load(fopen)\n",
    "len(data)"
   ]
  },
  {
   "cell_type": "code",
   "execution_count": 6,
   "metadata": {},
   "outputs": [
    {
     "name": "stdout",
     "output_type": "stream",
     "text": [
      "mkdir: cannot create directory ‘data-mampu’: File exists\n",
      "5.1G\tdata-mampu\n"
     ]
    }
   ],
   "source": [
    "directory = 'data-mampu'\n",
    "!mkdir {directory}\n",
    "!du -hs {directory}"
   ]
  },
  {
   "cell_type": "code",
   "execution_count": 7,
   "metadata": {},
   "outputs": [],
   "source": [
    "files = {}\n",
    "k = 0\n",
    "for d in data:\n",
    "    for url in d['file_urls']:\n",
    "        file, ext = os.path.splitext(url)\n",
    "        if not len(ext):\n",
    "            file = f'{k}'\n",
    "        else:\n",
    "            file = f'{k}{ext}'\n",
    "        files[url] = os.path.join(directory, file)\n",
    "        k += 1"
   ]
  },
  {
   "cell_type": "code",
   "execution_count": 50,
   "metadata": {
    "scrolled": true
   },
   "outputs": [
    {
     "name": "stderr",
     "output_type": "stream",
     "text": [
      "  0%|                                        | 29/12127 [00:01<09:53, 20.37it/s]/home/husein/.local/lib/python3.8/site-packages/openpyxl/worksheet/_reader.py:312: UserWarning: Unknown extension is not supported and will be removed\n",
      "  warn(msg)\n",
      "  1%|▎                                   | 125/12127 [00:28<11:40:35,  3.50s/it]/home/husein/.local/lib/python3.8/site-packages/openpyxl/worksheet/header_footer.py:48: UserWarning: Cannot parse header or footer so it will be ignored\n",
      "  warn(\"\"\"Cannot parse header or footer so it will be ignored\"\"\")\n",
      "  4%|█▍                                     | 433/12127 [00:46<08:12, 23.75it/s]/home/husein/.local/lib/python3.8/site-packages/openpyxl/worksheet/_reader.py:312: UserWarning: Data Validation extension is not supported and will be removed\n",
      "  warn(msg)\n",
      " 18%|██████▉                               | 2208/12127 [02:57<05:44, 28.78it/s]/home/husein/.local/lib/python3.8/site-packages/openpyxl/worksheet/_reader.py:312: UserWarning: Conditional Formatting extension is not supported and will be removed\n",
      "  warn(msg)\n",
      " 95%|███████████████████████████████████▏ | 11514/12127 [19:35<00:50, 12.14it/s]/home/husein/.local/lib/python3.8/site-packages/openpyxl/reader/workbook.py:88: UserWarning: File contains an invalid specification for Sheet1. This will be removed\n",
      "  warn(msg)\n",
      "100%|█████████████████████████████████████| 12127/12127 [20:51<00:00,  9.69it/s]\n"
     ]
    }
   ],
   "source": [
    "with open('data.gov.my', 'w') as fopen_l:\n",
    "    for d in tqdm(data):\n",
    "        file_urls = {}\n",
    "        for f in d['file_urls']:\n",
    "            f_f = files[f]\n",
    "            if not os.path.exists(f_f):\n",
    "                continue\n",
    "            try:\n",
    "                if f_f.endswith('.xlsx'):\n",
    "                    t = pd.read_excel(f_f).to_csv()\n",
    "                else:\n",
    "                    with open(f_f) as fopen:\n",
    "                        t = fopen.read()\n",
    "                    if '<html' in t:\n",
    "                        t = parse_tika(t)\n",
    "                        t = '\\n'.join(t)\n",
    "                \n",
    "                file_urls[f] = t\n",
    "            except:\n",
    "                pass\n",
    "        \n",
    "        d['file_urls'] = file_urls\n",
    "        fopen_l.write(f'{json.dumps(d)}\\n')"
   ]
  },
  {
   "cell_type": "code",
   "execution_count": null,
   "metadata": {},
   "outputs": [],
   "source": []
  }
 ],
 "metadata": {
  "kernelspec": {
   "display_name": "Python 3 (ipykernel)",
   "language": "python",
   "name": "python3"
  },
  "language_info": {
   "codemirror_mode": {
    "name": "ipython",
    "version": 3
   },
   "file_extension": ".py",
   "mimetype": "text/x-python",
   "name": "python",
   "nbconvert_exporter": "python",
   "pygments_lexer": "ipython3",
   "version": "3.8.10"
  }
 },
 "nbformat": 4,
 "nbformat_minor": 4
}
