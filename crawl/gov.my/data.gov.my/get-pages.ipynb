{
 "cells": [
  {
   "cell_type": "code",
   "execution_count": 1,
   "metadata": {},
   "outputs": [],
   "source": [
    "import requests\n",
    "from bs4 import BeautifulSoup\n",
    "from tqdm import tqdm\n",
    "import os\n",
    "import json\n",
    "import numpy as np\n",
    "import time\n",
    "import random\n",
    "import json"
   ]
  },
  {
   "cell_type": "code",
   "execution_count": 2,
   "metadata": {},
   "outputs": [],
   "source": [
    "with open('url.json') as fopen:\n",
    "    urls = json.load(fopen)"
   ]
  },
  {
   "cell_type": "code",
   "execution_count": 3,
   "metadata": {},
   "outputs": [
    {
     "data": {
      "text/plain": [
       "12127"
      ]
     },
     "execution_count": 3,
     "metadata": {},
     "output_type": "execute_result"
    }
   ],
   "source": [
    "len(urls)"
   ]
  },
  {
   "cell_type": "code",
   "execution_count": 5,
   "metadata": {},
   "outputs": [],
   "source": [
    "def crawl(url):\n",
    "    r = requests.get(url)\n",
    "    soup = BeautifulSoup(r.content, \"lxml\")\n",
    "    div = soup.find('div', {'class': 'module-content'})\n",
    "    try:\n",
    "        title = div.find('h1').text.strip()\n",
    "    except:\n",
    "        title = None\n",
    "    try:\n",
    "        p = div.find_all('p')\n",
    "        p = [p_.text.strip() for p_ in p]\n",
    "    except:\n",
    "        p = None\n",
    "    \n",
    "    try:\n",
    "        files = div.find_all('div', {'class': 'dropdown'})\n",
    "        file_urls = []\n",
    "        for f in files:\n",
    "            a = f.find_all('a')\n",
    "            for a_ in a:\n",
    "                if len(a_.get('href')) > 10:\n",
    "                    file_urls.append(a_.get('href'))\n",
    "    except:\n",
    "        file_urls = None\n",
    "    \n",
    "    return {\n",
    "        'url': url,\n",
    "        'title': title,\n",
    "        'p': p,\n",
    "        'file_urls': file_urls,\n",
    "    }"
   ]
  },
  {
   "cell_type": "code",
   "execution_count": 11,
   "metadata": {},
   "outputs": [
    {
     "name": "stderr",
     "output_type": "stream",
     "text": [
      "100%|███████████████████████████████████████| 1213/1213 [12:23<00:00,  1.63it/s]\n"
     ]
    }
   ],
   "source": [
    "from concurrent.futures import ThreadPoolExecutor, as_completed\n",
    "\n",
    "max_worker = 10\n",
    "\n",
    "data = []\n",
    "for i in tqdm(range(0, len(urls), max_worker)):\n",
    "    b = urls[i: i + max_worker]\n",
    "    url = ['https://www.data.gov.my' + u for u in b]\n",
    "    \n",
    "    with ThreadPoolExecutor(max_workers=max_worker) as executor:\n",
    "        futures = {executor.submit(crawl, u): u for u in url}\n",
    "    \n",
    "    for future in as_completed(futures):\n",
    "        data.append(future.result())"
   ]
  },
  {
   "cell_type": "code",
   "execution_count": 12,
   "metadata": {},
   "outputs": [
    {
     "data": {
      "text/plain": [
       "12127"
      ]
     },
     "execution_count": 12,
     "metadata": {},
     "output_type": "execute_result"
    }
   ],
   "source": [
    "len(data)"
   ]
  },
  {
   "cell_type": "code",
   "execution_count": 13,
   "metadata": {},
   "outputs": [
    {
     "data": {
      "text/plain": [
       "{'url': 'https://www.data.gov.my/data/ms_MY/dataset/peruntukan-dan-belanja-jalan-luar-bandar-jalb',\n",
       " 'title': 'PERUNTUKAN DAN BELANJA JALAN LUAR BANDAR (JALB)',\n",
       " 'p': ['Data ini menerangkan tentang PERUNTUKAN DAN BELANJA JALAN LUAR BANDAR (JALB) sehingga 30 Jun 2018.',\n",
       "  'Jumlah Dilihat : 37',\n",
       "  'Data ini menerangkan tentang PERUNTUKAN DAN BELANJA JALAN LUAR BANDAR (JALB)...',\n",
       "  'Downloads : 8'],\n",
       " 'file_urls': ['/data/ms_MY/dataset/peruntukan-dan-belanja-jalan-luar-bandar-jalb/resource/9ac42a0e-0c3c-44f8-9e27-c967af68f363',\n",
       "  'https://www.data.gov.my/data/dataset/6bd8d44a-c0f9-409d-b15a-8b450516e392/resource/9ac42a0e-0c3c-44f8-9e27-c967af68f363/download/peruntukan-dan-belanja-jalan-luar-bandar-jalb.xlsx']}"
      ]
     },
     "execution_count": 13,
     "metadata": {},
     "output_type": "execute_result"
    }
   ],
   "source": [
    "data[0]"
   ]
  },
  {
   "cell_type": "code",
   "execution_count": 14,
   "metadata": {},
   "outputs": [],
   "source": [
    "with open('mampu.json', 'w') as fopen:\n",
    "    json.dump(data, fopen)"
   ]
  }
 ],
 "metadata": {
  "kernelspec": {
   "display_name": "Python 3 (ipykernel)",
   "language": "python",
   "name": "python3"
  },
  "language_info": {
   "codemirror_mode": {
    "name": "ipython",
    "version": 3
   },
   "file_extension": ".py",
   "mimetype": "text/x-python",
   "name": "python",
   "nbconvert_exporter": "python",
   "pygments_lexer": "ipython3",
   "version": "3.8.10"
  }
 },
 "nbformat": 4,
 "nbformat_minor": 4
}
