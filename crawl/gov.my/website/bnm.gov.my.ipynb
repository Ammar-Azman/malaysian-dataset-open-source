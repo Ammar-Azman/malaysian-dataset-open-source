{
 "cells": [
  {
   "cell_type": "code",
   "execution_count": 1,
   "metadata": {},
   "outputs": [],
   "source": [
    "import requests\n",
    "from bs4 import BeautifulSoup\n",
    "from urllib.parse import urljoin\n",
    "import urllib3\n",
    "urllib3.disable_warnings(urllib3.exceptions.InsecureRequestWarning)"
   ]
  },
  {
   "cell_type": "code",
   "execution_count": 2,
   "metadata": {},
   "outputs": [],
   "source": [
    "from requests_html import HTMLSession, AsyncHTMLSession"
   ]
  },
  {
   "cell_type": "code",
   "execution_count": 3,
   "metadata": {},
   "outputs": [],
   "source": [
    "rejected = [\n",
    "    'wa.link',\n",
    "    'mailto:',\n",
    "    't.me',\n",
    "    'tally.so',\n",
    "    'discord.gg',\n",
    "    'arxiv.org',\n",
    "    'javascript:'\n",
    "]"
   ]
  },
  {
   "cell_type": "code",
   "execution_count": 17,
   "metadata": {},
   "outputs": [],
   "source": [
    "cookies = {\n",
    "    'dtCookie': 'v_4_srv_1_sn_06257CAD9E2A461E834ADA3CDCB723E1_perc_100000_ol_0_mul_1_app-3Aea7c4b59f27d43eb_1',\n",
    "    'rxVisitor': '1688269222666VOQ7GIVMFSIK16CNTLFFJAFQQH93MOET',\n",
    "    'dtSa': '-',\n",
    "    'rxvt': '1688271023019|1688269222667',\n",
    "    'dtPC': '1$469222663_853h-vLVFAKFUAHHAVPAMGWCUKTCAASAGMDRWA-0e0',\n",
    "    'aws-waf-token': '65b45488-7434-482d-b039-724f44df240c:BgoAmOsYx00LAAAA:pmsRFk8ucGyfyI4PYIAuqhl2uoRfpTxRAf1NtVpUTh+qe+pAn/yuw3gK/irq7Mqz/UfVImsuFi7eQnddhTBm534OqvvZq5PXxVodYfs1lujuT7x42HfGWW4nlqFgwo5XChQANnEq2VM5GahtaMsK7s+IhbkJYKy8W1VGQkhHncFV8zS+JYiW11RsJYALglkx0jQtL+avpQUSzw8D8EZpMU0fY2RFMtFQh2O+iINX+Bl8dZWw5bql',\n",
    "    'COOKIE_SUPPORT': 'true',\n",
    "    'GUEST_LANGUAGE_ID': 'en_US',\n",
    "    'JSESSIONID': 'DgFFXr9Yy14ze9PHlrPhkw5Apr4YcciAwBObRMUK.liferay1',\n",
    "    'AWSALBAPP-1': '_remove_',\n",
    "    'AWSALBAPP-2': '_remove_',\n",
    "    'AWSALBAPP-3': '_remove_',\n",
    "    '_ga': 'GA1.3.1048913753.1688269229',\n",
    "    '_gid': 'GA1.3.1498947204.1688269229',\n",
    "    '_ga_QCXBYX5C31': 'GS1.3.1688269229.1.0.1688269229.60.0.0',\n",
    "    'LFR_SESSION_STATE_20106': '1688269229239',\n",
    "    'dtLatC': '1',\n",
    "    'AWSALBTG': 'YjUis/PRd+tdQlqhRji/8Pyx0dsGsTXY5RKIWoCeTy1MD8WNUL1qhLaNBkRWRiHPmXQUeXHf2od9iEgmjO4j7A5m0KGY3BnPU7ODo5EoIWGgGnBz5Nbpm9nNTvXTIy2BydT531JivZWYmnY1uK5kEzkrHzM1HXtW3x3dJQo0mLtRfyZMg68=',\n",
    "    'AWSALBAPP-0': 'AAAAAAAAAAACbQ8Cgoa9TGFqd2qTPdKf1vSXcK8bFDcmQfR6PcqlMK4rFSJ6c9l8sQbnEjD6+Bt73b/TJIQBcDLxuufaIGfhEiLE0z8yn9VOsn/U/IQ0a86wexJyzslyEni2GiqOJ0xb5w==',\n",
    "}\n",
    "\n",
    "headers = {\n",
    "    'authority': 'www.bnm.gov.my',\n",
    "    'accept': 'text/html,application/xhtml+xml,application/xml;q=0.9,image/avif,image/webp,image/apng,*/*;q=0.8,application/signed-exchange;v=b3;q=0.7',\n",
    "    'accept-language': 'en-MY,en;q=0.9,en-US;q=0.8,ms;q=0.7',\n",
    "    'cache-control': 'no-cache',\n",
    "    # 'cookie': 'dtCookie=v_4_srv_1_sn_06257CAD9E2A461E834ADA3CDCB723E1_perc_100000_ol_0_mul_1_app-3Aea7c4b59f27d43eb_1; rxVisitor=1688269222666VOQ7GIVMFSIK16CNTLFFJAFQQH93MOET; dtSa=-; rxvt=1688271023019|1688269222667; dtPC=1$469222663_853h-vLVFAKFUAHHAVPAMGWCUKTCAASAGMDRWA-0e0; aws-waf-token=65b45488-7434-482d-b039-724f44df240c:BgoAmOsYx00LAAAA:pmsRFk8ucGyfyI4PYIAuqhl2uoRfpTxRAf1NtVpUTh+qe+pAn/yuw3gK/irq7Mqz/UfVImsuFi7eQnddhTBm534OqvvZq5PXxVodYfs1lujuT7x42HfGWW4nlqFgwo5XChQANnEq2VM5GahtaMsK7s+IhbkJYKy8W1VGQkhHncFV8zS+JYiW11RsJYALglkx0jQtL+avpQUSzw8D8EZpMU0fY2RFMtFQh2O+iINX+Bl8dZWw5bql; COOKIE_SUPPORT=true; GUEST_LANGUAGE_ID=en_US; JSESSIONID=DgFFXr9Yy14ze9PHlrPhkw5Apr4YcciAwBObRMUK.liferay1; AWSALBAPP-1=_remove_; AWSALBAPP-2=_remove_; AWSALBAPP-3=_remove_; _ga=GA1.3.1048913753.1688269229; _gid=GA1.3.1498947204.1688269229; _ga_QCXBYX5C31=GS1.3.1688269229.1.0.1688269229.60.0.0; LFR_SESSION_STATE_20106=1688269229239; dtLatC=1; AWSALBTG=YjUis/PRd+tdQlqhRji/8Pyx0dsGsTXY5RKIWoCeTy1MD8WNUL1qhLaNBkRWRiHPmXQUeXHf2od9iEgmjO4j7A5m0KGY3BnPU7ODo5EoIWGgGnBz5Nbpm9nNTvXTIy2BydT531JivZWYmnY1uK5kEzkrHzM1HXtW3x3dJQo0mLtRfyZMg68=; AWSALBAPP-0=AAAAAAAAAAACbQ8Cgoa9TGFqd2qTPdKf1vSXcK8bFDcmQfR6PcqlMK4rFSJ6c9l8sQbnEjD6+Bt73b/TJIQBcDLxuufaIGfhEiLE0z8yn9VOsn/U/IQ0a86wexJyzslyEni2GiqOJ0xb5w==',\n",
    "    'pragma': 'no-cache',\n",
    "    'referer': 'https://www.bnm.gov.my/',\n",
    "    'sec-ch-ua': '\"Not.A/Brand\";v=\"8\", \"Chromium\";v=\"114\", \"Google Chrome\";v=\"114\"',\n",
    "    'sec-ch-ua-mobile': '?0',\n",
    "    'sec-ch-ua-platform': '\"macOS\"',\n",
    "    'sec-fetch-dest': 'document',\n",
    "    'sec-fetch-mode': 'navigate',\n",
    "    'sec-fetch-site': 'same-origin',\n",
    "    'sec-fetch-user': '?1',\n",
    "    'upgrade-insecure-requests': '1',\n",
    "    'user-agent': 'Mozilla/5.0 (Macintosh; Intel Mac OS X 10_15_7) AppleWebKit/537.36 (KHTML, like Gecko) Chrome/114.0.0.0 Safari/537.36',\n",
    "}"
   ]
  },
  {
   "cell_type": "code",
   "execution_count": 18,
   "metadata": {},
   "outputs": [],
   "source": [
    "async def get_html(url):\n",
    "    session = AsyncHTMLSession(verify = False)\n",
    "    result = None\n",
    "    try:\n",
    "        \n",
    "        r = await session.get(url, verify = False, timeout = 10, cookies = cookies, headers = headers)\n",
    "        await r.html.arender()\n",
    "        \n",
    "        result = r.html.html\n",
    "        print(result)\n",
    "    except Exception as e:\n",
    "        print(e)\n",
    "        pass\n",
    "    \n",
    "    await session.close()\n",
    "    return result\n",
    "\n",
    "\n",
    "def get_links(html):\n",
    "    soup = BeautifulSoup(html, 'html.parser')\n",
    "    links = []\n",
    "    for link in soup.find_all('a'):\n",
    "        links.append(link.get('href'))\n",
    "    return links"
   ]
  },
  {
   "cell_type": "code",
   "execution_count": 19,
   "metadata": {},
   "outputs": [],
   "source": [
    "import asyncio\n",
    "\n",
    "visited_pages = set(['https://www.bnm.gov.my/'])\n",
    "\n",
    "async def crawl(base_url):\n",
    "    if base_url.endswith('.pdf'):\n",
    "        return\n",
    "    \n",
    "    html = await get_html(base_url)\n",
    "    \n",
    "    if html is None:\n",
    "        return\n",
    "\n",
    "    visited_pages.add(base_url)\n",
    "    links = get_links(html)\n",
    "    for link in links:\n",
    "        try:\n",
    "            if any([r in link for r in rejected]):\n",
    "                continue\n",
    "\n",
    "            if not link.startswith('http'):\n",
    "                link = urljoin(base_url, link)\n",
    "\n",
    "            link = link.split('#')[0]\n",
    "            link = link.split('?')[0]\n",
    "\n",
    "            if link not in visited_pages:\n",
    "                visited_pages.add(link)\n",
    "        except Exception as e:\n",
    "            pass"
   ]
  },
  {
   "cell_type": "code",
   "execution_count": null,
   "metadata": {},
   "outputs": [
    {
     "name": "stdout",
     "output_type": "stream",
     "text": [
      "0 1\n"
     ]
    },
    {
     "name": "stderr",
     "output_type": "stream",
     "text": [
      "100%|█████████████████████████████████████████████| 1/1 [00:01<00:00,  1.42s/it]\n"
     ]
    },
    {
     "name": "stdout",
     "output_type": "stream",
     "text": [
      "<!DOCTYPE html><html lang=\"en\"><head>\n",
      "    <meta charset=\"utf-8\">\n",
      "    <meta name=\"viewport\" content=\"width=device-width, initial-scale=1\">\n",
      "    <title>Human Verification</title>\n",
      "    <style>\n",
      "        body {\n",
      "            font-family: \"Arial\";\n",
      "        }\n",
      "    </style>\n",
      "    <script type=\"text/javascript\">\n",
      "    window.awsWafCookieDomainList = [];\n",
      "    </script>\n",
      "    <script src=\"https://81264fbfae7c.fd32e112.ap-southeast-1.token.awswaf.com/81264fbfae7c/a81ddaf9ff40/1caaa84ffad0/challenge.js\"></script>\n",
      "</head>\n",
      "<body>\n",
      "    <div id=\"challenge-container\"></div>\n",
      "    <script type=\"text/javascript\">\n",
      "        AwsWafIntegration.checkForceRefresh().then((forceRefresh) => {\n",
      "            if (forceRefresh) {\n",
      "                AwsWafIntegration.forceRefreshToken().then(() => {\n",
      "                    window.location.reload(true);\n",
      "                });\n",
      "            } else {\n",
      "                AwsWafIntegration.getToken().then(() => {\n",
      "                    window.location.reload(true);\n",
      "                });\n",
      "            }\n",
      "        });\n",
      "    </script>\n",
      "    <noscript>\n",
      "        <h1>JavaScript is disabled</h1>\n",
      "        In order to continue, we need to verify that you're not a robot.\n",
      "        This requires JavaScript. Enable JavaScript and then reload the page.\n",
      "    </noscript>\n",
      "\n",
      "</body></html>\n",
      "1 1\n"
     ]
    },
    {
     "name": "stderr",
     "output_type": "stream",
     "text": [
      "\r",
      "  0%|                                                     | 0/1 [00:00<?, ?it/s]"
     ]
    }
   ],
   "source": [
    "from tqdm import tqdm\n",
    "\n",
    "batch_size = 10\n",
    "\n",
    "for no in range(3):\n",
    "    l = list(visited_pages)\n",
    "    print(no, len(l))\n",
    "    for i in tqdm(range(0, len(l), batch_size)):\n",
    "        b = l[i: i + batch_size]\n",
    "        await asyncio.gather(*[crawl(url) for url in b])"
   ]
  },
  {
   "cell_type": "code",
   "execution_count": null,
   "metadata": {},
   "outputs": [],
   "source": [
    "import json\n",
    "\n",
    "with open('url-moh.gov.my.json', 'w') as fopen:\n",
    "    json.dump(list(visited_pages), fopen)"
   ]
  },
  {
   "cell_type": "code",
   "execution_count": null,
   "metadata": {},
   "outputs": [],
   "source": []
  }
 ],
 "metadata": {
  "kernelspec": {
   "display_name": "Python 3 (ipykernel)",
   "language": "python",
   "name": "python3"
  },
  "language_info": {
   "codemirror_mode": {
    "name": "ipython",
    "version": 3
   },
   "file_extension": ".py",
   "mimetype": "text/x-python",
   "name": "python",
   "nbconvert_exporter": "python",
   "pygments_lexer": "ipython3",
   "version": "3.8.10"
  }
 },
 "nbformat": 4,
 "nbformat_minor": 4
}
