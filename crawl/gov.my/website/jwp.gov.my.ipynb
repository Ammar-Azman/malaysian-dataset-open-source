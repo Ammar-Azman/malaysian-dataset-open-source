{
 "cells": [
  {
   "cell_type": "code",
   "execution_count": 1,
   "metadata": {},
   "outputs": [],
   "source": [
    "import requests\n",
    "from bs4 import BeautifulSoup\n",
    "from urllib.parse import urljoin\n",
    "import urllib3\n",
    "urllib3.disable_warnings(urllib3.exceptions.InsecureRequestWarning)"
   ]
  },
  {
   "cell_type": "code",
   "execution_count": 2,
   "metadata": {},
   "outputs": [],
   "source": [
    "from requests_html import HTMLSession, AsyncHTMLSession"
   ]
  },
  {
   "cell_type": "code",
   "execution_count": 3,
   "metadata": {},
   "outputs": [],
   "source": [
    "rejected = [\n",
    "    'wa.link',\n",
    "    'mailto:',\n",
    "    't.me',\n",
    "    'tally.so',\n",
    "    'discord.gg',\n",
    "    'arxiv.org',\n",
    "    'javascript:'\n",
    "]"
   ]
  },
  {
   "cell_type": "code",
   "execution_count": 4,
   "metadata": {},
   "outputs": [],
   "source": [
    "async def get_html(url):\n",
    "    session = AsyncHTMLSession(verify = False)\n",
    "    result = None\n",
    "    try:\n",
    "        \n",
    "        r = await session.get(url, verify = False, timeout = 10)\n",
    "        await r.html.arender(timeout = 10)\n",
    "        \n",
    "        result = r.html.html\n",
    "    except Exception as e:\n",
    "        pass\n",
    "    \n",
    "    await session.close()\n",
    "    return result\n",
    "\n",
    "\n",
    "def get_links(html):\n",
    "    soup = BeautifulSoup(html, 'html.parser')\n",
    "    links = []\n",
    "    for link in soup.find_all('a'):\n",
    "        links.append(link.get('href'))\n",
    "    return links"
   ]
  },
  {
   "cell_type": "code",
   "execution_count": 6,
   "metadata": {},
   "outputs": [],
   "source": [
    "import asyncio\n",
    "\n",
    "visited_pages = set(['https://jwp.gov.my/'])\n",
    "\n",
    "async def crawl(base_url):\n",
    "    if base_url.endswith('.pdf'):\n",
    "        return\n",
    "    \n",
    "    html = await get_html(base_url)\n",
    "    \n",
    "    if html is None:\n",
    "        return\n",
    "\n",
    "    visited_pages.add(base_url)\n",
    "    links = get_links(html)\n",
    "    for link in links:\n",
    "        try:\n",
    "            if any([r in link for r in rejected]):\n",
    "                continue\n",
    "\n",
    "            if not link.startswith('http'):\n",
    "                link = urljoin(base_url, link)\n",
    "\n",
    "            link = link.split('#')[0]\n",
    "            link = link.split('?')[0]\n",
    "\n",
    "            if link not in visited_pages:\n",
    "                visited_pages.add(link)\n",
    "        except Exception as e:\n",
    "            pass"
   ]
  },
  {
   "cell_type": "code",
   "execution_count": 7,
   "metadata": {},
   "outputs": [
    {
     "name": "stdout",
     "output_type": "stream",
     "text": [
      "0 1\n"
     ]
    },
    {
     "name": "stderr",
     "output_type": "stream",
     "text": [
      "100%|█████████████████████████████████████████████| 1/1 [00:08<00:00,  8.64s/it]\n"
     ]
    },
    {
     "name": "stdout",
     "output_type": "stream",
     "text": [
      "1 91\n"
     ]
    },
    {
     "name": "stderr",
     "output_type": "stream",
     "text": [
      " 20%|████████▊                                   | 2/10 [00:17<01:11,  8.95s/it]Future exception was never retrieved\n",
      "future: <Future finished exception=NetworkError('Protocol error Target.detachFromTarget: Target closed.')>\n",
      "pyppeteer.errors.NetworkError: Protocol error Target.detachFromTarget: Target closed.\n",
      "Future exception was never retrieved\n",
      "future: <Future finished exception=NetworkError('Protocol error (Target.sendMessageToTarget): No session with given id')>\n",
      "pyppeteer.errors.NetworkError: Protocol error (Target.sendMessageToTarget): No session with given id\n",
      " 30%|█████████████▏                              | 3/10 [00:29<01:10, 10.06s/it]Future exception was never retrieved\n",
      "future: <Future finished exception=NetworkError('Protocol error Target.detachFromTarget: Target closed.')>\n",
      "pyppeteer.errors.NetworkError: Protocol error Target.detachFromTarget: Target closed.\n",
      "Future exception was never retrieved\n",
      "future: <Future finished exception=NetworkError('Protocol error (Target.sendMessageToTarget): No session with given id')>\n",
      "pyppeteer.errors.NetworkError: Protocol error (Target.sendMessageToTarget): No session with given id\n",
      "100%|███████████████████████████████████████████| 10/10 [01:22<00:00,  8.25s/it]\n"
     ]
    },
    {
     "name": "stdout",
     "output_type": "stream",
     "text": [
      "2 2786\n"
     ]
    },
    {
     "name": "stderr",
     "output_type": "stream",
     "text": [
      "  7%|██▊                                       | 19/279 [03:34<50:23, 11.63s/it]Future exception was never retrieved\n",
      "future: <Future finished exception=NetworkError('Protocol error (Target.sendMessageToTarget): No session with given id')>\n",
      "pyppeteer.errors.NetworkError: Protocol error (Target.sendMessageToTarget): No session with given id\n",
      " 12%|█████                                     | 34/279 [06:40<54:06, 13.25s/it]Future exception was never retrieved\n",
      "future: <Future finished exception=NetworkError('Protocol error (Target.sendMessageToTarget): No session with given id')>\n",
      "pyppeteer.errors.NetworkError: Protocol error (Target.sendMessageToTarget): No session with given id\n",
      " 14%|█████▋                                    | 38/279 [07:21<43:22, 10.80s/it]Future exception was never retrieved\n",
      "future: <Future finished exception=NetworkError('Protocol error (Target.sendMessageToTarget): No session with given id')>\n",
      "pyppeteer.errors.NetworkError: Protocol error (Target.sendMessageToTarget): No session with given id\n",
      " 22%|█████████▏                                | 61/279 [11:54<42:46, 11.77s/it]Future exception was never retrieved\n",
      "future: <Future finished exception=NetworkError('Protocol error (Target.sendMessageToTarget): No session with given id')>\n",
      "pyppeteer.errors.NetworkError: Protocol error (Target.sendMessageToTarget): No session with given id\n",
      " 24%|██████████                                | 67/279 [12:59<37:49, 10.71s/it]Future exception was never retrieved\n",
      "future: <Future finished exception=NetworkError('Protocol error (Target.sendMessageToTarget): No session with given id')>\n",
      "pyppeteer.errors.NetworkError: Protocol error (Target.sendMessageToTarget): No session with given id\n",
      " 29%|████████████▏                             | 81/279 [15:20<33:02, 10.01s/it]Future exception was never retrieved\n",
      "future: <Future finished exception=NetworkError('Protocol error (Target.sendMessageToTarget): No session with given id')>\n",
      "pyppeteer.errors.NetworkError: Protocol error (Target.sendMessageToTarget): No session with given id\n",
      " 34%|██████████████▏                           | 94/279 [17:47<35:59, 11.67s/it]Future exception was never retrieved\n",
      "future: <Future finished exception=NetworkError('Protocol error (Target.sendMessageToTarget): No session with given id')>\n",
      "pyppeteer.errors.NetworkError: Protocol error (Target.sendMessageToTarget): No session with given id\n",
      " 34%|██████████████▍                           | 96/279 [18:10<35:28, 11.63s/it]Future exception was never retrieved\n",
      "future: <Future finished exception=NetworkError('Protocol error (Target.sendMessageToTarget): No session with given id')>\n",
      "pyppeteer.errors.NetworkError: Protocol error (Target.sendMessageToTarget): No session with given id\n",
      " 38%|███████████████▌                         | 106/279 [20:20<38:05, 13.21s/it]Future exception was never retrieved\n",
      "future: <Future finished exception=NetworkError('Protocol error Target.detachFromTarget: Target closed.')>\n",
      "pyppeteer.errors.NetworkError: Protocol error Target.detachFromTarget: Target closed.\n",
      "Future exception was never retrieved\n",
      "future: <Future finished exception=NetworkError('Protocol error (Target.sendMessageToTarget): No session with given id')>\n",
      "pyppeteer.errors.NetworkError: Protocol error (Target.sendMessageToTarget): No session with given id\n",
      " 40%|████████████████▍                        | 112/279 [21:27<29:58, 10.77s/it]Future exception was never retrieved\n",
      "future: <Future finished exception=NetworkError('Protocol error (Target.sendMessageToTarget): No session with given id')>\n",
      "pyppeteer.errors.NetworkError: Protocol error (Target.sendMessageToTarget): No session with given id\n",
      " 47%|███████████████████▎                     | 131/279 [25:36<30:54, 12.53s/it]Future exception was never retrieved\n",
      "future: <Future finished exception=NetworkError('Protocol error Target.detachFromTarget: Target closed.')>\n",
      "pyppeteer.errors.NetworkError: Protocol error Target.detachFromTarget: Target closed.\n",
      "Future exception was never retrieved\n",
      "future: <Future finished exception=NetworkError('Protocol error (Target.sendMessageToTarget): No session with given id')>\n",
      "pyppeteer.errors.NetworkError: Protocol error (Target.sendMessageToTarget): No session with given id\n",
      " 49%|███████████████████▉                     | 136/279 [26:44<33:52, 14.22s/it]Future exception was never retrieved\n",
      "future: <Future finished exception=NetworkError('Protocol error (Target.sendMessageToTarget): No session with given id')>\n",
      "pyppeteer.errors.NetworkError: Protocol error (Target.sendMessageToTarget): No session with given id\n",
      "Future exception was never retrieved\n",
      "future: <Future finished exception=NetworkError('Protocol error (Target.sendMessageToTarget): No session with given id')>\n",
      "pyppeteer.errors.NetworkError: Protocol error (Target.sendMessageToTarget): No session with given id\n",
      "Future exception was never retrieved\n",
      "future: <Future finished exception=NetworkError('Protocol error Target.detachFromTarget: Target closed.')>\n",
      "pyppeteer.errors.NetworkError: Protocol error Target.detachFromTarget: Target closed.\n",
      "Future exception was never retrieved\n",
      "future: <Future finished exception=NetworkError('Protocol error (Target.sendMessageToTarget): No session with given id')>\n",
      "pyppeteer.errors.NetworkError: Protocol error (Target.sendMessageToTarget): No session with given id\n",
      " 50%|████████████████████▌                    | 140/279 [27:41<34:00, 14.68s/it]Future exception was never retrieved\n",
      "future: <Future finished exception=NetworkError('Protocol error (Target.sendMessageToTarget): No session with given id')>\n",
      "pyppeteer.errors.NetworkError: Protocol error (Target.sendMessageToTarget): No session with given id\n",
      " 52%|█████████████████████▎                   | 145/279 [29:02<36:15, 16.23s/it]Future exception was never retrieved\n",
      "future: <Future finished exception=NetworkError('Protocol error Target.sendMessageToTarget: Target closed.')>\n",
      "pyppeteer.errors.NetworkError: Protocol error Target.sendMessageToTarget: Target closed.\n",
      "Future exception was never retrieved\n",
      "future: <Future finished exception=NetworkError('Protocol error (Target.sendMessageToTarget): No session with given id')>\n",
      "pyppeteer.errors.NetworkError: Protocol error (Target.sendMessageToTarget): No session with given id\n",
      " 53%|█████████████████████▌                   | 147/279 [29:32<33:51, 15.39s/it]Future exception was never retrieved\n",
      "future: <Future finished exception=NetworkError('Protocol error (Target.sendMessageToTarget): No session with given id')>\n",
      "pyppeteer.errors.NetworkError: Protocol error (Target.sendMessageToTarget): No session with given id\n",
      "Future exception was never retrieved\n",
      "future: <Future finished exception=NetworkError('Protocol error (Target.sendMessageToTarget): No session with given id')>\n",
      "pyppeteer.errors.NetworkError: Protocol error (Target.sendMessageToTarget): No session with given id\n",
      " 53%|█████████████████████▉                   | 149/279 [29:53<27:39, 12.76s/it]Future exception was never retrieved\n",
      "future: <Future finished exception=NetworkError('Protocol error (Target.sendMessageToTarget): No session with given id')>\n",
      "pyppeteer.errors.NetworkError: Protocol error (Target.sendMessageToTarget): No session with given id\n",
      " 63%|█████████████████████████▋               | 175/279 [37:28<29:30, 17.03s/it]Future exception was never retrieved\n",
      "future: <Future finished exception=NetworkError('Protocol error (Target.sendMessageToTarget): No session with given id')>\n",
      "pyppeteer.errors.NetworkError: Protocol error (Target.sendMessageToTarget): No session with given id\n",
      " 69%|████████████████████████████▎            | 193/279 [41:04<16:32, 11.54s/it]Future exception was never retrieved\n",
      "future: <Future finished exception=NetworkError('Protocol error Target.detachFromTarget: Target closed.')>\n",
      "pyppeteer.errors.NetworkError: Protocol error Target.detachFromTarget: Target closed.\n",
      "Future exception was never retrieved\n",
      "future: <Future finished exception=NetworkError('Protocol error (Target.sendMessageToTarget): No session with given id')>\n",
      "pyppeteer.errors.NetworkError: Protocol error (Target.sendMessageToTarget): No session with given id\n",
      " 75%|██████████████████████████████▋          | 209/279 [44:09<13:23, 11.48s/it]Future exception was never retrieved\n",
      "future: <Future finished exception=NetworkError('Protocol error (Target.sendMessageToTarget): No session with given id')>\n",
      "pyppeteer.errors.NetworkError: Protocol error (Target.sendMessageToTarget): No session with given id\n"
     ]
    },
    {
     "name": "stderr",
     "output_type": "stream",
     "text": [
      " 80%|████████████████████████████████▌        | 222/279 [47:08<12:59, 13.67s/it]Future exception was never retrieved\n",
      "future: <Future finished exception=NetworkError('Protocol error (Target.sendMessageToTarget): No session with given id')>\n",
      "pyppeteer.errors.NetworkError: Protocol error (Target.sendMessageToTarget): No session with given id\n",
      "Future exception was never retrieved\n",
      "future: <Future finished exception=NetworkError('Protocol error (Target.sendMessageToTarget): No session with given id')>\n",
      "pyppeteer.errors.NetworkError: Protocol error (Target.sendMessageToTarget): No session with given id\n",
      " 81%|█████████████████████████████████        | 225/279 [47:48<11:29, 12.77s/it]Future exception was never retrieved\n",
      "future: <Future finished exception=NetworkError('Protocol error (Target.sendMessageToTarget): No session with given id')>\n",
      "pyppeteer.errors.NetworkError: Protocol error (Target.sendMessageToTarget): No session with given id\n",
      " 90%|████████████████████████████████████▋    | 250/279 [52:57<06:27, 13.35s/it]Future exception was never retrieved\n",
      "future: <Future finished exception=NetworkError('Protocol error (Target.sendMessageToTarget): No session with given id')>\n",
      "pyppeteer.errors.NetworkError: Protocol error (Target.sendMessageToTarget): No session with given id\n",
      " 90%|█████████████████████████████████████    | 252/279 [53:30<06:25, 14.27s/it]Future exception was never retrieved\n",
      "future: <Future finished exception=NetworkError('Protocol error (Target.sendMessageToTarget): No session with given id')>\n",
      "pyppeteer.errors.NetworkError: Protocol error (Target.sendMessageToTarget): No session with given id\n",
      " 91%|█████████████████████████████████████▏   | 253/279 [53:42<05:59, 13.82s/it]Future exception was never retrieved\n",
      "future: <Future finished exception=NetworkError('Protocol error (Target.sendMessageToTarget): No session with given id')>\n",
      "pyppeteer.errors.NetworkError: Protocol error (Target.sendMessageToTarget): No session with given id\n",
      " 95%|██████████████████████████████████████▊  | 264/279 [56:10<03:24, 13.63s/it]Future exception was never retrieved\n",
      "future: <Future finished exception=NetworkError('Protocol error (Target.sendMessageToTarget): No session with given id')>\n",
      "pyppeteer.errors.NetworkError: Protocol error (Target.sendMessageToTarget): No session with given id\n",
      " 97%|███████████████████████████████████████▊ | 271/279 [57:51<01:46, 13.36s/it]Future exception was never retrieved\n",
      "future: <Future finished exception=NetworkError('Protocol error (Target.sendMessageToTarget): No session with given id')>\n",
      "pyppeteer.errors.NetworkError: Protocol error (Target.sendMessageToTarget): No session with given id\n",
      " 99%|████████████████████████████████████████▌| 276/279 [58:52<00:36, 12.10s/it]Future exception was never retrieved\n",
      "future: <Future finished exception=NetworkError('Protocol error (Target.sendMessageToTarget): No session with given id')>\n",
      "pyppeteer.errors.NetworkError: Protocol error (Target.sendMessageToTarget): No session with given id\n",
      "Future exception was never retrieved\n",
      "future: <Future finished exception=NetworkError('Protocol error (Target.sendMessageToTarget): No session with given id')>\n",
      "pyppeteer.errors.NetworkError: Protocol error (Target.sendMessageToTarget): No session with given id\n",
      "100%|█████████████████████████████████████████| 279/279 [59:22<00:00, 12.77s/it]\n"
     ]
    }
   ],
   "source": [
    "from tqdm import tqdm\n",
    "\n",
    "batch_size = 10\n",
    "\n",
    "for no in range(3):\n",
    "    l = list(visited_pages)\n",
    "    print(no, len(l))\n",
    "    for i in tqdm(range(0, len(l), batch_size)):\n",
    "        b = l[i: i + batch_size]\n",
    "        await asyncio.gather(*[crawl(url) for url in b])"
   ]
  },
  {
   "cell_type": "code",
   "execution_count": 9,
   "metadata": {},
   "outputs": [],
   "source": [
    "import json\n",
    "\n",
    "with open('url-jwp.gov.my.json', 'w') as fopen:\n",
    "    json.dump(list(visited_pages), fopen)"
   ]
  },
  {
   "cell_type": "code",
   "execution_count": null,
   "metadata": {},
   "outputs": [],
   "source": []
  }
 ],
 "metadata": {
  "kernelspec": {
   "display_name": "Python 3 (ipykernel)",
   "language": "python",
   "name": "python3"
  },
  "language_info": {
   "codemirror_mode": {
    "name": "ipython",
    "version": 3
   },
   "file_extension": ".py",
   "mimetype": "text/x-python",
   "name": "python",
   "nbconvert_exporter": "python",
   "pygments_lexer": "ipython3",
   "version": "3.8.10"
  }
 },
 "nbformat": 4,
 "nbformat_minor": 4
}
