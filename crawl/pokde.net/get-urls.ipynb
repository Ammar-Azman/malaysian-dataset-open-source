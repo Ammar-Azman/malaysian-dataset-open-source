{
 "cells": [
  {
   "cell_type": "code",
   "execution_count": 1,
   "metadata": {},
   "outputs": [],
   "source": [
    "import requests\n",
    "from bs4 import BeautifulSoup\n",
    "from tqdm import tqdm\n",
    "import os\n",
    "import json\n",
    "import numpy as np\n",
    "import time\n",
    "import random\n",
    "import json"
   ]
  },
  {
   "cell_type": "code",
   "execution_count": 3,
   "metadata": {},
   "outputs": [],
   "source": [
    "cookies = {\n",
    "    '_gid': 'GA1.2.1651897795.1689525794',\n",
    "    'play_userId': '8c8cc14a-48fd-a2fa-3b9e-a116c8c16288',\n",
    "    'PHPSESSID': '7720bcebf7fea212e77ad898434b4dde',\n",
    "    '_ga': 'GA1.1.2000247931.1689525794',\n",
    "    '_ga_V8KPBNTFYY': 'GS1.1.1689568542.2.1.1689568580.0.0.0',\n",
    "    '_ga_LRSKER00TJ': 'GS1.1.1689568542.2.1.1689568595.7.0.0',\n",
    "}\n",
    "\n",
    "headers = {\n",
    "    'authority': 'pokde.net',\n",
    "    'accept': '*/*',\n",
    "    'accept-language': 'en-MY,en;q=0.9,en-US;q=0.8,ms;q=0.7',\n",
    "    'cache-control': 'no-cache',\n",
    "    'content-type': 'application/x-www-form-urlencoded; charset=UTF-8',\n",
    "    # 'cookie': '_gid=GA1.2.1651897795.1689525794; play_userId=8c8cc14a-48fd-a2fa-3b9e-a116c8c16288; PHPSESSID=7720bcebf7fea212e77ad898434b4dde; _ga=GA1.1.2000247931.1689525794; _ga_V8KPBNTFYY=GS1.1.1689568542.2.1.1689568580.0.0.0; _ga_LRSKER00TJ=GS1.1.1689568542.2.1.1689568595.7.0.0',\n",
    "    'origin': 'https://pokde.net',\n",
    "    'pragma': 'no-cache',\n",
    "    'referer': 'https://pokde.net/system',\n",
    "    'sec-ch-ua': '\"Not.A/Brand\";v=\"8\", \"Chromium\";v=\"114\", \"Google Chrome\";v=\"114\"',\n",
    "    'sec-ch-ua-mobile': '?0',\n",
    "    'sec-ch-ua-platform': '\"macOS\"',\n",
    "    'sec-fetch-dest': 'empty',\n",
    "    'sec-fetch-mode': 'cors',\n",
    "    'sec-fetch-site': 'same-origin',\n",
    "    'user-agent': 'Mozilla/5.0 (Macintosh; Intel Mac OS X 10_15_7) AppleWebKit/537.36 (KHTML, like Gecko) Chrome/114.0.0.0 Safari/537.36',\n",
    "    'x-requested-with': 'XMLHttpRequest',\n",
    "}\n",
    "\n",
    "data = {\n",
    "    'action': 'itajax-sort',\n",
    "    'loop': 'main',\n",
    "    'location': 'loop',\n",
    "    'layout': '',\n",
    "    'thumbnail': '1',\n",
    "    'rating': '',\n",
    "    'meta': '1',\n",
    "    'award': '',\n",
    "    'badge': '',\n",
    "    'authorship': '',\n",
    "    'icon': '1',\n",
    "    'size': '',\n",
    "    'excerpt': '',\n",
    "    'sorter': 'recent',\n",
    "    'numarticles': '1',\n",
    "    'disablecategory': '',\n",
    "    'disablereviewlabel': '',\n",
    "    'paginated': '0',\n",
    "    'currentquery[category_name]': 'system',\n",
    "}\n",
    "\n",
    "response = requests.post('https://pokde.net/wp-admin/admin-ajax.php', cookies=cookies, headers=headers, data=data)"
   ]
  },
  {
   "cell_type": "code",
   "execution_count": 4,
   "metadata": {},
   "outputs": [],
   "source": [
    "categories = [\n",
    "    'system',\n",
    "    'gadget',\n",
    "    'gaming',\n",
    "    'review',\n",
    "]"
   ]
  },
  {
   "cell_type": "code",
   "execution_count": null,
   "metadata": {},
   "outputs": [],
   "source": [
    "r = response.json()"
   ]
  },
  {
   "cell_type": "code",
   "execution_count": null,
   "metadata": {},
   "outputs": [],
   "source": [
    "soup = BeautifulSoup(r['content'], \"lxml\")"
   ]
  },
  {
   "cell_type": "code",
   "execution_count": null,
   "metadata": {},
   "outputs": [],
   "source": [
    "a = soup.find_all('a', {'class': 'loop-link'})\n",
    "a = [a_.get('href') for a_ in a]\n",
    "len(a)"
   ]
  },
  {
   "cell_type": "code",
   "execution_count": 5,
   "metadata": {},
   "outputs": [],
   "source": [
    "!rm -rf url\n",
    "!mkdir url"
   ]
  },
  {
   "cell_type": "code",
   "execution_count": 6,
   "metadata": {},
   "outputs": [
    {
     "name": "stdout",
     "output_type": "stream",
     "text": [
      "system\n"
     ]
    },
    {
     "name": "stderr",
     "output_type": "stream",
     "text": [
      "6it [00:49,  8.23s/it]\n"
     ]
    },
    {
     "name": "stdout",
     "output_type": "stream",
     "text": [
      "gadget\n"
     ]
    },
    {
     "name": "stderr",
     "output_type": "stream",
     "text": [
      "6it [00:57,  9.54s/it]\n"
     ]
    },
    {
     "name": "stdout",
     "output_type": "stream",
     "text": [
      "gaming\n"
     ]
    },
    {
     "name": "stderr",
     "output_type": "stream",
     "text": [
      "4it [00:42, 10.74s/it]\n"
     ]
    },
    {
     "name": "stdout",
     "output_type": "stream",
     "text": [
      "review\n"
     ]
    },
    {
     "name": "stderr",
     "output_type": "stream",
     "text": [
      "2it [00:13,  6.98s/it]\n"
     ]
    }
   ],
   "source": [
    "def generator():\n",
    "    while True:\n",
    "        yield\n",
    "        \n",
    "for t in categories:\n",
    "    print(t)\n",
    "    t_ = t\n",
    "    \n",
    "    index = 1\n",
    "    for _ in tqdm(generator()):\n",
    "        filename = os.path.join('url', f'{t_}-{index}.json')\n",
    "        if os.path.exists(filename):\n",
    "            index += 1\n",
    "            continue\n",
    "        \n",
    "        while True:\n",
    "            try:\n",
    "                data = {\n",
    "                    'action': 'itajax-sort',\n",
    "                    'loop': 'main',\n",
    "                    'location': 'loop',\n",
    "                    'layout': '',\n",
    "                    'thumbnail': '1',\n",
    "                    'rating': '',\n",
    "                    'meta': '1',\n",
    "                    'award': '',\n",
    "                    'badge': '',\n",
    "                    'authorship': '',\n",
    "                    'icon': '1',\n",
    "                    'size': '',\n",
    "                    'excerpt': '',\n",
    "                    'sorter': 'recent',\n",
    "                    'numarticles': '1000',\n",
    "                    'disablecategory': '',\n",
    "                    'disablereviewlabel': '',\n",
    "                    'paginated': str(index),\n",
    "                    'currentquery[category_name]': t,\n",
    "                }\n",
    "\n",
    "                response = requests.post('https://pokde.net/wp-admin/admin-ajax.php', cookies=cookies, headers=headers, data=data)\n",
    "                \n",
    "                break\n",
    "            except:\n",
    "                time.sleep(1.0)\n",
    "        \n",
    "        r = response.json()\n",
    "        soup = BeautifulSoup(r['content'], \"lxml\")\n",
    "        a = soup.find_all('a', {'class': 'loop-link'})\n",
    "        a = [a_.get('href') for a_ in a]\n",
    "        if not len(a):\n",
    "            break\n",
    "        \n",
    "        with open(filename, 'w') as fopen:\n",
    "            json.dump(a, fopen)\n",
    "            \n",
    "        index += 1"
   ]
  },
  {
   "cell_type": "code",
   "execution_count": null,
   "metadata": {},
   "outputs": [],
   "source": []
  }
 ],
 "metadata": {
  "kernelspec": {
   "display_name": "Python 3 (ipykernel)",
   "language": "python",
   "name": "python3"
  },
  "language_info": {
   "codemirror_mode": {
    "name": "ipython",
    "version": 3
   },
   "file_extension": ".py",
   "mimetype": "text/x-python",
   "name": "python",
   "nbconvert_exporter": "python",
   "pygments_lexer": "ipython3",
   "version": "3.8.10"
  }
 },
 "nbformat": 4,
 "nbformat_minor": 4
}
