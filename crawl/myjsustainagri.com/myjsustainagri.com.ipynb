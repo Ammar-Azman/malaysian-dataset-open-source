{
 "cells": [
  {
   "cell_type": "code",
   "execution_count": 1,
   "id": "1717f967",
   "metadata": {},
   "outputs": [
    {
     "name": "stderr",
     "output_type": "stream",
     "text": [
      "/home/husein/.local/lib/python3.8/site-packages/requests/__init__.py:102: RequestsDependencyWarning: urllib3 (1.26.15) or chardet (5.2.0)/charset_normalizer (2.0.7) doesn't match a supported version!\n",
      "  warnings.warn(\"urllib3 ({}) or chardet ({})/charset_normalizer ({}) doesn't match a supported \"\n"
     ]
    }
   ],
   "source": [
    "import requests\n",
    "from bs4 import BeautifulSoup"
   ]
  },
  {
   "cell_type": "code",
   "execution_count": 14,
   "id": "d86b91f2",
   "metadata": {},
   "outputs": [],
   "source": [
    "r = requests.get('https://myjsustainagri.com/home/archive/')"
   ]
  },
  {
   "cell_type": "code",
   "execution_count": 15,
   "id": "c2c24597",
   "metadata": {},
   "outputs": [
    {
     "data": {
      "text/plain": [
       "120"
      ]
     },
     "execution_count": 15,
     "metadata": {},
     "output_type": "execute_result"
    }
   ],
   "source": [
    "soup = BeautifulSoup(r.content)\n",
    "a = soup.find_all('a')\n",
    "pages = [a_.get('href') for a_ in a if '/mjsa-' in a_.get('href') or '/mjsa.' in a_.get('href')]\n",
    "pages = [a_ for a_ in pages if '/wp-content/uploads/' not in a_ and 'doi.org/' not in a_]\n",
    "pages = sorted(list(set(pages)))\n",
    "len(pages)"
   ]
  },
  {
   "cell_type": "code",
   "execution_count": 16,
   "id": "bf44b528",
   "metadata": {},
   "outputs": [
    {
     "data": {
      "text/plain": [
       "['https://myjsustainagri.com/mjsa-01-2019-28-32/',\n",
       " 'https://myjsustainagri.com/mjsa-01-2019-33-38/',\n",
       " 'https://myjsustainagri.com/mjsa-01-2019-39-43/',\n",
       " 'https://myjsustainagri.com/mjsa-01-2019-44-48/',\n",
       " 'https://myjsustainagri.com/mjsa-01-2020-01-04/',\n",
       " 'https://myjsustainagri.com/mjsa-01-2020-05-09/',\n",
       " 'https://myjsustainagri.com/mjsa-01-2020-10-15/',\n",
       " 'https://myjsustainagri.com/mjsa-01-2020-16-21/',\n",
       " 'https://myjsustainagri.com/mjsa-01-2020-22-25/',\n",
       " 'https://myjsustainagri.com/mjsa-01-2020-26-28/',\n",
       " 'https://myjsustainagri.com/mjsa-01-2020-29-33/',\n",
       " 'https://myjsustainagri.com/mjsa-01-2020-34-35/',\n",
       " 'https://myjsustainagri.com/mjsa-01-2020-36-39/',\n",
       " 'https://myjsustainagri.com/mjsa-01-2020-40-43/',\n",
       " 'https://myjsustainagri.com/mjsa-01-2021-01-05/',\n",
       " 'https://myjsustainagri.com/mjsa-01-2021-06-09/',\n",
       " 'https://myjsustainagri.com/mjsa-01-2021-10-15/',\n",
       " 'https://myjsustainagri.com/mjsa-01-2021-16-20/',\n",
       " 'https://myjsustainagri.com/mjsa-01-2021-21-23/',\n",
       " 'https://myjsustainagri.com/mjsa-01-2021-24-28/',\n",
       " 'https://myjsustainagri.com/mjsa-01-2021-29-33/',\n",
       " 'https://myjsustainagri.com/mjsa-01-2021-34-42/',\n",
       " 'https://myjsustainagri.com/mjsa-01-2021-43-50/',\n",
       " 'https://myjsustainagri.com/mjsa-01-2021-51-60/',\n",
       " 'https://myjsustainagri.com/mjsa-01-2022-01-06/',\n",
       " 'https://myjsustainagri.com/mjsa-01-2022-07-11/',\n",
       " 'https://myjsustainagri.com/mjsa-01-2022-12-16/',\n",
       " 'https://myjsustainagri.com/mjsa-01-2022-17-21/',\n",
       " 'https://myjsustainagri.com/mjsa-01-2022-22-28/',\n",
       " 'https://myjsustainagri.com/mjsa-01-2022-29-37/',\n",
       " 'https://myjsustainagri.com/mjsa-01-2022-38-43/',\n",
       " 'https://myjsustainagri.com/mjsa-01-2022-44-50/',\n",
       " 'https://myjsustainagri.com/mjsa-01-2022-51-56/',\n",
       " 'https://myjsustainagri.com/mjsa-01-2022-57-64/',\n",
       " 'https://myjsustainagri.com/mjsa-01-2022-65-71/',\n",
       " 'https://myjsustainagri.com/mjsa-01-2023-01-05/',\n",
       " 'https://myjsustainagri.com/mjsa-01-2023-06-13/',\n",
       " 'https://myjsustainagri.com/mjsa-01-2023-14-19/',\n",
       " 'https://myjsustainagri.com/mjsa-01-2023-20-24/',\n",
       " 'https://myjsustainagri.com/mjsa-01-2023-25-31/',\n",
       " 'https://myjsustainagri.com/mjsa-01-2023-32-37/',\n",
       " 'https://myjsustainagri.com/mjsa-01-2023-38-44/',\n",
       " 'https://myjsustainagri.com/mjsa-01-2023-45-51/',\n",
       " 'https://myjsustainagri.com/mjsa-01-2023-52-57/',\n",
       " 'https://myjsustainagri.com/mjsa-01-2023-58-64/',\n",
       " 'https://myjsustainagri.com/mjsa-02-2019-35-45/',\n",
       " 'https://myjsustainagri.com/mjsa-02-2019-56-59/',\n",
       " 'https://myjsustainagri.com/mjsa-02-2019-60-63/',\n",
       " 'https://myjsustainagri.com/mjsa-02-2020-44-48/',\n",
       " 'https://myjsustainagri.com/mjsa-02-2020-49-53/',\n",
       " 'https://myjsustainagri.com/mjsa-02-2020-54-58/',\n",
       " 'https://myjsustainagri.com/mjsa-02-2020-59-65/',\n",
       " 'https://myjsustainagri.com/mjsa-02-2020-66-70/',\n",
       " 'https://myjsustainagri.com/mjsa-02-2020-71-74/',\n",
       " 'https://myjsustainagri.com/mjsa-02-2020-75-80/',\n",
       " 'https://myjsustainagri.com/mjsa-02-2020-81-85/',\n",
       " 'https://myjsustainagri.com/mjsa-02-2020-86-93/',\n",
       " 'https://myjsustainagri.com/mjsa-02-2020-94-98/',\n",
       " 'https://myjsustainagri.com/mjsa-02-2021-104-110/',\n",
       " 'https://myjsustainagri.com/mjsa-02-2021-111-114/',\n",
       " 'https://myjsustainagri.com/mjsa-02-2021-115-122/',\n",
       " 'https://myjsustainagri.com/mjsa-02-2021-61-66/',\n",
       " 'https://myjsustainagri.com/mjsa-02-2021-67-76/',\n",
       " 'https://myjsustainagri.com/mjsa-02-2021-77-81/',\n",
       " 'https://myjsustainagri.com/mjsa-02-2021-82-89/',\n",
       " 'https://myjsustainagri.com/mjsa-02-2021-90-94/',\n",
       " 'https://myjsustainagri.com/mjsa-02-2021-95-98/',\n",
       " 'https://myjsustainagri.com/mjsa-02-2021-99-103/',\n",
       " 'https://myjsustainagri.com/mjsa-02-2022-101-109/',\n",
       " 'https://myjsustainagri.com/mjsa-02-2022-110-116/',\n",
       " 'https://myjsustainagri.com/mjsa-02-2022-117-123/',\n",
       " 'https://myjsustainagri.com/mjsa-02-2022-124-130/',\n",
       " 'https://myjsustainagri.com/mjsa-02-2022-131-141/',\n",
       " 'https://myjsustainagri.com/mjsa-02-2022-72-78/',\n",
       " 'https://myjsustainagri.com/mjsa-02-2022-79-80/',\n",
       " 'https://myjsustainagri.com/mjsa-02-2022-81-84/',\n",
       " 'https://myjsustainagri.com/mjsa-02-2022-85-91/',\n",
       " 'https://myjsustainagri.com/mjsa-02-2022-92-96/',\n",
       " 'https://myjsustainagri.com/mjsa-02-2022-97-100/',\n",
       " 'https://myjsustainagri.com/mjsa-02-2023-65-71/',\n",
       " 'https://myjsustainagri.com/mjsa-02-2023-72-78/',\n",
       " 'https://myjsustainagri.com/mjsa-02-2023-79-87/',\n",
       " 'https://myjsustainagri.com/mjsa-02-2023-88-97/',\n",
       " 'https://myjsustainagri.com/mjsa.01.2017.01.03/',\n",
       " 'https://myjsustainagri.com/mjsa.01.2017.04.07/',\n",
       " 'https://myjsustainagri.com/mjsa.01.2017.08.10/',\n",
       " 'https://myjsustainagri.com/mjsa.01.2017.11.14/',\n",
       " 'https://myjsustainagri.com/mjsa.01.2017.15.18/',\n",
       " 'https://myjsustainagri.com/mjsa.01.2017.19.22/',\n",
       " 'https://myjsustainagri.com/mjsa.01.2018.01.04/',\n",
       " 'https://myjsustainagri.com/mjsa.01.2018.05.06/',\n",
       " 'https://myjsustainagri.com/mjsa.01.2018.07.11/',\n",
       " 'https://myjsustainagri.com/mjsa.01.2018.12.14/',\n",
       " 'https://myjsustainagri.com/mjsa.01.2018.15.18/',\n",
       " 'https://myjsustainagri.com/mjsa.01.2018.19.28/',\n",
       " 'https://myjsustainagri.com/mjsa.01.2019.01.04/',\n",
       " 'https://myjsustainagri.com/mjsa.01.2019.05.07/',\n",
       " 'https://myjsustainagri.com/mjsa.01.2019.08.12/',\n",
       " 'https://myjsustainagri.com/mjsa.01.2019.13.19/',\n",
       " 'https://myjsustainagri.com/mjsa.01.2019.20.22/',\n",
       " 'https://myjsustainagri.com/mjsa.01.2019.23.27/',\n",
       " 'https://myjsustainagri.com/mjsa.02.2017.01/',\n",
       " 'https://myjsustainagri.com/mjsa.02.2017.02.05/',\n",
       " 'https://myjsustainagri.com/mjsa.02.2017.06.08/',\n",
       " 'https://myjsustainagri.com/mjsa.02.2017.09.11/',\n",
       " 'https://myjsustainagri.com/mjsa.02.2017.12.14/',\n",
       " 'https://myjsustainagri.com/mjsa.02.2017.15.17/',\n",
       " 'https://myjsustainagri.com/mjsa.02.2018.01.05/',\n",
       " 'https://myjsustainagri.com/mjsa.02.2018.06.08/',\n",
       " 'https://myjsustainagri.com/mjsa.02.2018.09.15/',\n",
       " 'https://myjsustainagri.com/mjsa.02.2018.16.18/',\n",
       " 'https://myjsustainagri.com/mjsa.02.2018.19.23/',\n",
       " 'https://myjsustainagri.com/mjsa.02.2018.24/',\n",
       " 'https://myjsustainagri.com/mjsa.02.2019.01.04/',\n",
       " 'https://myjsustainagri.com/mjsa.02.2019.05.15/',\n",
       " 'https://myjsustainagri.com/mjsa.02.2019.16.19/',\n",
       " 'https://myjsustainagri.com/mjsa.02.2019.20.26/',\n",
       " 'https://myjsustainagri.com/mjsa.02.2019.27.30/',\n",
       " 'https://myjsustainagri.com/mjsa.02.2019.31.34/',\n",
       " 'https://myjsustainagri.com/mjsa.02.2019.46.55/']"
      ]
     },
     "execution_count": 16,
     "metadata": {},
     "output_type": "execute_result"
    }
   ],
   "source": [
    "pages"
   ]
  },
  {
   "cell_type": "code",
   "execution_count": 19,
   "id": "838310f6",
   "metadata": {},
   "outputs": [
    {
     "name": "stderr",
     "output_type": "stream",
     "text": [
      "100%|█████████████████████████████████████████| 120/120 [01:26<00:00,  1.38it/s]\n"
     ]
    },
    {
     "data": {
      "text/plain": [
       "['https://myjsustainagri.com/download/13835/',\n",
       " 'https://myjsustainagri.com/download/13837/',\n",
       " 'https://myjsustainagri.com/download/13839/',\n",
       " 'https://myjsustainagri.com/download/13841/',\n",
       " 'https://myjsustainagri.com/download/13963/',\n",
       " 'https://myjsustainagri.com/download/14115/',\n",
       " 'https://myjsustainagri.com/download/14027/',\n",
       " 'https://myjsustainagri.com/download/13983/',\n",
       " 'https://myjsustainagri.com/download/14019/',\n",
       " 'https://myjsustainagri.com/download/13997/',\n",
       " 'https://myjsustainagri.com/download/13992/',\n",
       " 'https://myjsustainagri.com/download/14014/',\n",
       " 'https://myjsustainagri.com/download/13975/',\n",
       " 'https://myjsustainagri.com/download/14222/',\n",
       " 'https://myjsustainagri.com/download/14427/',\n",
       " 'https://myjsustainagri.com/download/14432/',\n",
       " 'https://myjsustainagri.com/download/14437/',\n",
       " 'https://myjsustainagri.com/download/14443/',\n",
       " 'https://myjsustainagri.com/download/14449/',\n",
       " 'https://myjsustainagri.com/download/14455/',\n",
       " 'https://myjsustainagri.com/download/14461/',\n",
       " 'https://myjsustainagri.com/download/14469/',\n",
       " 'https://myjsustainagri.com/download/14474/',\n",
       " 'https://myjsustainagri.com/download/14485/',\n",
       " 'https://myjsustainagri.com/download/14578/',\n",
       " 'https://myjsustainagri.com/download/14580/',\n",
       " 'https://myjsustainagri.com/download/14590/',\n",
       " 'https://myjsustainagri.com/download/14592/',\n",
       " 'https://myjsustainagri.com/download/14602/',\n",
       " 'https://myjsustainagri.com/download/14614/',\n",
       " 'https://myjsustainagri.com/download/14619/',\n",
       " 'https://myjsustainagri.com/download/14628/',\n",
       " 'https://myjsustainagri.com/download/14654/',\n",
       " 'https://myjsustainagri.com/download/14661/',\n",
       " 'https://myjsustainagri.com/download/14769/',\n",
       " 'https://myjsustainagri.com/download/14808/',\n",
       " 'https://myjsustainagri.com/download/14822/',\n",
       " 'https://myjsustainagri.com/download/14829/',\n",
       " 'https://myjsustainagri.com/download/14835/',\n",
       " 'https://myjsustainagri.com/download/14847/',\n",
       " 'https://myjsustainagri.com/download/14857/',\n",
       " 'https://myjsustainagri.com/download/14867/',\n",
       " 'https://myjsustainagri.com/download/14880/',\n",
       " 'https://myjsustainagri.com/download/14889/',\n",
       " 'https://myjsustainagri.com/download/14897/',\n",
       " 'https://myjsustainagri.com/download/13804/',\n",
       " 'https://myjsustainagri.com/download/13943/',\n",
       " 'https://myjsustainagri.com/download/13951/',\n",
       " 'https://myjsustainagri.com/download/14231/',\n",
       " 'https://myjsustainagri.com/download/14233/',\n",
       " 'https://myjsustainagri.com/download/14235/',\n",
       " 'https://myjsustainagri.com/download/14250/',\n",
       " 'https://myjsustainagri.com/download/14259/',\n",
       " 'https://myjsustainagri.com/download/14268/',\n",
       " 'https://myjsustainagri.com/download/14276/',\n",
       " 'https://myjsustainagri.com/download/14285/',\n",
       " 'https://myjsustainagri.com/download/14292/',\n",
       " 'https://myjsustainagri.com/download/14303/',\n",
       " 'https://myjsustainagri.com/download/14534/',\n",
       " 'https://myjsustainagri.com/download/14554/',\n",
       " 'https://myjsustainagri.com/download/14563/',\n",
       " 'https://myjsustainagri.com/download/14480/',\n",
       " 'https://myjsustainagri.com/download/14492/',\n",
       " 'https://myjsustainagri.com/download/14497/',\n",
       " 'https://myjsustainagri.com/download/14504/',\n",
       " 'https://myjsustainagri.com/download/14515/',\n",
       " 'https://myjsustainagri.com/download/14521/',\n",
       " 'https://myjsustainagri.com/download/14532/',\n",
       " 'https://myjsustainagri.com/download/14723/',\n",
       " 'https://myjsustainagri.com/download/14728/',\n",
       " 'https://myjsustainagri.com/download/14746/',\n",
       " 'https://myjsustainagri.com/download/14759/',\n",
       " 'https://myjsustainagri.com/download/14799/',\n",
       " 'https://myjsustainagri.com/download/14670/',\n",
       " 'https://myjsustainagri.com/download/14675/',\n",
       " 'https://myjsustainagri.com/download/14682/',\n",
       " 'https://myjsustainagri.com/download/14688/',\n",
       " 'https://myjsustainagri.com/download/14696/',\n",
       " 'https://myjsustainagri.com/download/14712/',\n",
       " 'https://myjsustainagri.com/download/14913/',\n",
       " 'https://myjsustainagri.com/download/14923/',\n",
       " 'https://myjsustainagri.com/download/14944/',\n",
       " 'https://myjsustainagri.com/download/14953/',\n",
       " 'https://myjsustainagri.com/download/13883/',\n",
       " 'https://myjsustainagri.com/download/13885/',\n",
       " 'https://myjsustainagri.com/download/13887/',\n",
       " 'https://myjsustainagri.com/download/13889/',\n",
       " 'https://myjsustainagri.com/download/13891/',\n",
       " 'https://myjsustainagri.com/download/13893/',\n",
       " 'https://myjsustainagri.com/download/13859/',\n",
       " 'https://myjsustainagri.com/download/13861/',\n",
       " 'https://myjsustainagri.com/download/13863/',\n",
       " 'https://myjsustainagri.com/download/13865/',\n",
       " 'https://myjsustainagri.com/download/13867/',\n",
       " 'https://myjsustainagri.com/download/13823/',\n",
       " 'https://myjsustainagri.com/download/13825/',\n",
       " 'https://myjsustainagri.com/download/13827/',\n",
       " 'https://myjsustainagri.com/download/13829/',\n",
       " 'https://myjsustainagri.com/download/13831/',\n",
       " 'https://myjsustainagri.com/download/13833/',\n",
       " 'https://myjsustainagri.com/download/13870/',\n",
       " 'https://myjsustainagri.com/download/13872/',\n",
       " 'https://myjsustainagri.com/download/13874/',\n",
       " 'https://myjsustainagri.com/download/13876/',\n",
       " 'https://myjsustainagri.com/download/13878/',\n",
       " 'https://myjsustainagri.com/download/13880/',\n",
       " 'https://myjsustainagri.com/download/13844/',\n",
       " 'https://myjsustainagri.com/download/13846/',\n",
       " 'https://myjsustainagri.com/download/13848/',\n",
       " 'https://myjsustainagri.com/download/13850/',\n",
       " 'https://myjsustainagri.com/download/13852/',\n",
       " 'https://myjsustainagri.com/download/13854/',\n",
       " 'https://myjsustainagri.com/download/13810/',\n",
       " 'https://myjsustainagri.com/download/13812/',\n",
       " 'https://myjsustainagri.com/download/13814/',\n",
       " 'https://myjsustainagri.com/download/13816/',\n",
       " 'https://myjsustainagri.com/download/13818/',\n",
       " 'https://myjsustainagri.com/download/13820/',\n",
       " 'https://myjsustainagri.com/download/13798/']"
      ]
     },
     "execution_count": 19,
     "metadata": {},
     "output_type": "execute_result"
    }
   ],
   "source": [
    "from tqdm import tqdm\n",
    "\n",
    "urls = []\n",
    "for p in tqdm(pages):\n",
    "    r = requests.get(p)\n",
    "    soup = BeautifulSoup(r.content)\n",
    "    a = soup.find_all('a')\n",
    "    a = [a_.get('href') for a_ in a if '/download/' in a_.get('href')]\n",
    "    urls.extend(a)\n",
    "    \n",
    "urls"
   ]
  },
  {
   "cell_type": "code",
   "execution_count": 20,
   "id": "f5052103",
   "metadata": {},
   "outputs": [
    {
     "data": {
      "text/plain": [
       "119"
      ]
     },
     "execution_count": 20,
     "metadata": {},
     "output_type": "execute_result"
    }
   ],
   "source": [
    "urls = sorted(list(set(urls)))\n",
    "len(urls)"
   ]
  },
  {
   "cell_type": "code",
   "execution_count": 21,
   "id": "c325d75d",
   "metadata": {},
   "outputs": [],
   "source": [
    "!mkdir myjsustainagri.com"
   ]
  },
  {
   "cell_type": "code",
   "execution_count": 23,
   "id": "33b97068",
   "metadata": {},
   "outputs": [
    {
     "name": "stderr",
     "output_type": "stream",
     "text": [
      "100%|█████████████████████████████████████████| 119/119 [01:45<00:00,  1.12it/s]\n"
     ]
    }
   ],
   "source": [
    "import os\n",
    "\n",
    "pdfs = urls\n",
    "for i in tqdm(range(len(pdfs))):\n",
    "    filename = os.path.join('myjsustainagri.com', f'{i}.pdf')\n",
    "    if os.path.exists(filename):\n",
    "        continue\n",
    "        \n",
    "    u = pdfs[i]\n",
    "        \n",
    "    r = requests.get(u)\n",
    "    with open(filename, 'wb') as fopen:\n",
    "        fopen.write(r.content)"
   ]
  },
  {
   "cell_type": "code",
   "execution_count": 24,
   "id": "c4eef2bd",
   "metadata": {},
   "outputs": [],
   "source": [
    "from glob import glob\n",
    "from tika import parser\n",
    "import json\n",
    "\n",
    "TIKA_HOST = 'http://localhost:9998'"
   ]
  },
  {
   "cell_type": "code",
   "execution_count": 25,
   "id": "c9022160",
   "metadata": {},
   "outputs": [
    {
     "name": "stderr",
     "output_type": "stream",
     "text": [
      "100%|█████████████████████████████████████████| 119/119 [00:06<00:00, 17.52it/s]\n"
     ]
    }
   ],
   "source": [
    "files = glob('myjsustainagri.com/*.pdf')\n",
    "\n",
    "with open('myjsustainagri.com.jsonl', 'w') as fopen:\n",
    "    for f in tqdm(files):\n",
    "        try:\n",
    "            raw_xml = parser.from_file(f, TIKA_HOST, xmlContent=True)\n",
    "            body = BeautifulSoup(raw_xml['content']).find('body')\n",
    "            t = '\\n'.join(body.findAll(text=True))\n",
    "            fopen.write(f'{json.dumps(t)}\\n')\n",
    "        except:\n",
    "            pass"
   ]
  },
  {
   "cell_type": "code",
   "execution_count": null,
   "id": "281fa328",
   "metadata": {},
   "outputs": [],
   "source": []
  }
 ],
 "metadata": {
  "kernelspec": {
   "display_name": "Python 3 (ipykernel)",
   "language": "python",
   "name": "python3"
  },
  "language_info": {
   "codemirror_mode": {
    "name": "ipython",
    "version": 3
   },
   "file_extension": ".py",
   "mimetype": "text/x-python",
   "name": "python",
   "nbconvert_exporter": "python",
   "pygments_lexer": "ipython3",
   "version": "3.8.10"
  }
 },
 "nbformat": 4,
 "nbformat_minor": 5
}
