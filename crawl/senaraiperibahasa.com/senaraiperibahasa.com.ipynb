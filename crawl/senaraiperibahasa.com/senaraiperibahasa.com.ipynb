{
 "cells": [
  {
   "cell_type": "code",
   "execution_count": 1,
   "id": "7ac253d9",
   "metadata": {},
   "outputs": [
    {
     "name": "stderr",
     "output_type": "stream",
     "text": [
      "/home/husein/.local/lib/python3.8/site-packages/requests/__init__.py:102: RequestsDependencyWarning: urllib3 (1.26.15) or chardet (5.2.0)/charset_normalizer (2.0.7) doesn't match a supported version!\n",
      "  warnings.warn(\"urllib3 ({}) or chardet ({})/charset_normalizer ({}) doesn't match a supported \"\n"
     ]
    }
   ],
   "source": [
    "from bs4 import BeautifulSoup\n",
    "from tika import parser\n",
    "from bs4.element import Comment\n",
    "import json\n",
    "\n",
    "TIKA_HOST = 'http://localhost:9998'"
   ]
  },
  {
   "cell_type": "code",
   "execution_count": 2,
   "id": "df0872b0",
   "metadata": {},
   "outputs": [],
   "source": [
    "files = [\n",
    "    'Contoh Ayat Simpulan Bahasa dan Maksud – Senarai Peribahasa.pdf',\n",
    "    'Senarai Peribahasa – Kamus Peribahasa Melayu dan Maksud.pdf',\n",
    "]"
   ]
  },
  {
   "cell_type": "code",
   "execution_count": 5,
   "id": "537c4d57",
   "metadata": {},
   "outputs": [],
   "source": [
    "with open('senaraiperibahasa.com.jsonl', 'w') as fopen:\n",
    "    for f in files:\n",
    "        raw_xml = parser.from_file(f, TIKA_HOST, xmlContent=True)\n",
    "        body = BeautifulSoup(raw_xml['content']).find('body')\n",
    "        t = '\\n'.join(body.findAll(text=True)).strip()\n",
    "        fopen.write(f'{json.dumps(t)}\\n')"
   ]
  },
  {
   "cell_type": "code",
   "execution_count": null,
   "id": "219eac5f",
   "metadata": {},
   "outputs": [],
   "source": []
  }
 ],
 "metadata": {
  "kernelspec": {
   "display_name": "Python 3 (ipykernel)",
   "language": "python",
   "name": "python3"
  },
  "language_info": {
   "codemirror_mode": {
    "name": "ipython",
    "version": 3
   },
   "file_extension": ".py",
   "mimetype": "text/x-python",
   "name": "python",
   "nbconvert_exporter": "python",
   "pygments_lexer": "ipython3",
   "version": "3.8.10"
  }
 },
 "nbformat": 4,
 "nbformat_minor": 5
}
