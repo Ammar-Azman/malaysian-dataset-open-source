{
 "cells": [
  {
   "cell_type": "code",
   "execution_count": 1,
   "metadata": {},
   "outputs": [],
   "source": [
    "import urllib3\n",
    "urllib3.disable_warnings(urllib3.exceptions.InsecureRequestWarning)"
   ]
  },
  {
   "cell_type": "code",
   "execution_count": 2,
   "metadata": {},
   "outputs": [],
   "source": [
    "import requests\n",
    "import json\n",
    "import os\n",
    "import re\n",
    "import time\n",
    "from tqdm import tqdm\n",
    "from glob import glob\n",
    "from concurrent.futures import ThreadPoolExecutor, as_completed"
   ]
  },
  {
   "cell_type": "code",
   "execution_count": 3,
   "metadata": {},
   "outputs": [],
   "source": [
    "cookies = {\n",
    "    'cookiesession1': '678B28F695C90B262BFC00B79BBD6CC1',\n",
    "    'lhc_per': 'vid|a3d85efe963899fee2b5',\n",
    "    '_gid': 'GA1.3.289911229.1685154797',\n",
    "    '_ga': 'GA1.1.2075372866.1684772919',\n",
    "    '_ga_3C534XGNC2': 'GS1.1.1685154797.4.1.1685154882.0.0.0',\n",
    "    '_ga_Q33BVTTDL1': 'GS1.1.1685154797.4.1.1685154882.0.0.0',\n",
    "    '_ga_QHEB12PC6D': 'GS1.1.1685154797.4.1.1685154882.0.0.0',\n",
    "}\n",
    "\n",
    "headers = {\n",
    "    'Accept': 'text/html,application/xhtml+xml,application/xml;q=0.9,image/avif,image/webp,image/apng,*/*;q=0.8,application/signed-exchange;v=b3;q=0.7',\n",
    "    'Accept-Language': 'en-MY,en;q=0.9,en-US;q=0.8,ms;q=0.7',\n",
    "    'Cache-Control': 'no-cache',\n",
    "    'Connection': 'keep-alive',\n",
    "    # 'Cookie': 'cookiesession1=678B28F695C90B262BFC00B79BBD6CC1; lhc_per=vid|a3d85efe963899fee2b5; _gid=GA1.3.289911229.1685154797; _ga=GA1.1.2075372866.1684772919; _ga_3C534XGNC2=GS1.1.1685154797.4.1.1685154882.0.0.0; _ga_Q33BVTTDL1=GS1.1.1685154797.4.1.1685154882.0.0.0; _ga_QHEB12PC6D=GS1.1.1685154797.4.1.1685154882.0.0.0',\n",
    "    'Pragma': 'no-cache',\n",
    "    'Sec-Fetch-Dest': 'document',\n",
    "    'Sec-Fetch-Mode': 'navigate',\n",
    "    'Sec-Fetch-Site': 'none',\n",
    "    'Sec-Fetch-User': '?1',\n",
    "    'Upgrade-Insecure-Requests': '1',\n",
    "    'User-Agent': 'Mozilla/5.0 (Macintosh; Intel Mac OS X 10_15_7) AppleWebKit/537.36 (KHTML, like Gecko) Chrome/113.0.0.0 Safari/537.36',\n",
    "    'sec-ch-ua': '\"Google Chrome\";v=\"113\", \"Chromium\";v=\"113\", \"Not-A.Brand\";v=\"24\"',\n",
    "    'sec-ch-ua-mobile': '?0',\n",
    "    'sec-ch-ua-platform': '\"macOS\"',\n",
    "}"
   ]
  },
  {
   "cell_type": "code",
   "execution_count": 4,
   "metadata": {},
   "outputs": [],
   "source": [
    "def download(url, file_name, retry = 3):\n",
    "    if os.path.exists(file_name) and os.path.getsize(file_name) > 50000:\n",
    "        return\n",
    "    with open(file_name, \"wb\") as file:\n",
    "        for k in range(retry):\n",
    "            try:\n",
    "                response = requests.get(url, verify = False, timeout = 360, cookies=cookies, headers=headers)\n",
    "                file.write(response.content)\n",
    "                return \n",
    "            except Exception as e:\n",
    "                print(k, e)\n",
    "                time.sleep(0.5)"
   ]
  },
  {
   "cell_type": "code",
   "execution_count": 5,
   "metadata": {},
   "outputs": [
    {
     "data": {
      "text/plain": [
       "1067"
      ]
     },
     "execution_count": 5,
     "metadata": {},
     "output_type": "execute_result"
    }
   ],
   "source": [
    "files = glob('pages-unimas/*.json')\n",
    "len(files)"
   ]
  },
  {
   "cell_type": "code",
   "execution_count": 6,
   "metadata": {
    "scrolled": true
   },
   "outputs": [],
   "source": [
    "pdfs = []\n",
    "for f in files:\n",
    "    with open(f) as fopen:\n",
    "        pdfs.extend(json.load(fopen))\n",
    "        \n",
    "pdfs = list(set(pdfs))"
   ]
  },
  {
   "cell_type": "code",
   "execution_count": 7,
   "metadata": {},
   "outputs": [
    {
     "name": "stderr",
     "output_type": "stream",
     "text": [
      "100%|█████████████████████████████████| 17007/17007 [00:00<00:00, 515561.17it/s]\n"
     ]
    },
    {
     "data": {
      "text/plain": [
       "16986"
      ]
     },
     "execution_count": 7,
     "metadata": {},
     "output_type": "execute_result"
    }
   ],
   "source": [
    "filtered_pdfs = []\n",
    "for p in tqdm(pdfs):\n",
    "#     if len(re.findall( r'[0-9]+(?:\\.[0-9]+){3}', p)):\n",
    "#         continue\n",
    "#     if not p.endswith('.pdf'):\n",
    "#         continue\n",
    "#     if 'ade.sagepub.com' in p:\n",
    "#         continue\n",
    "    \n",
    "#     if p.startswith('/jspui'):\n",
    "#         p = 'https://oarep.usim.edu.my' + p\n",
    "    \n",
    "    if len(re.findall( r'[0-9]+(?:\\.[0-9]+){3}', p)):\n",
    "        continue\n",
    "    if not p.endswith('.pdf'):\n",
    "        continue\n",
    "        \n",
    "    if not p.startswith('http'):\n",
    "        continue\n",
    "        \n",
    "    filtered_pdfs.append(p)\n",
    "    \n",
    "filtered_pdfs = sorted(list(set(filtered_pdfs)))\n",
    "len(filtered_pdfs)"
   ]
  },
  {
   "cell_type": "code",
   "execution_count": 8,
   "metadata": {
    "scrolled": false
   },
   "outputs": [],
   "source": [
    "# filtered_pdfs"
   ]
  },
  {
   "cell_type": "code",
   "execution_count": 9,
   "metadata": {},
   "outputs": [],
   "source": [
    "unimas = filtered_pdfs"
   ]
  },
  {
   "cell_type": "code",
   "execution_count": 10,
   "metadata": {},
   "outputs": [],
   "source": [
    "# !rm -rf usim\n",
    "!mkdir unimas"
   ]
  },
  {
   "cell_type": "code",
   "execution_count": 11,
   "metadata": {},
   "outputs": [
    {
     "name": "stderr",
     "output_type": "stream",
     "text": [
      "  0%|                                      | 3/16986 [00:07<12:04:49,  2.56s/it]"
     ]
    },
    {
     "name": "stdout",
     "output_type": "stream",
     "text": [
      "0 HTTPConnectionPool(host='annalseas.faa.ro', port=80): Max retries exceeded with url: /download/4%20Abang%20Ekhsan%20.pdf (Caused by NewConnectionError('<urllib3.connection.HTTPConnection object at 0x7fc3c899db50>: Failed to establish a new connection: [Errno -2] Name or service not known'))\n",
      "1 HTTPConnectionPool(host='annalseas.faa.ro', port=80): Max retries exceeded with url: /download/4%20Abang%20Ekhsan%20.pdf (Caused by NewConnectionError('<urllib3.connection.HTTPConnection object at 0x7fc3c899db50>: Failed to establish a new connection: [Errno -2] Name or service not known'))\n",
      "2 HTTPConnectionPool(host='annalseas.faa.ro', port=80): Max retries exceeded with url: /download/4%20Abang%20Ekhsan%20.pdf (Caused by NewConnectionError('<urllib3.connection.HTTPConnection object at 0x7fc3c899d790>: Failed to establish a new connection: [Errno -2] Name or service not known'))\n"
     ]
    },
    {
     "name": "stderr",
     "output_type": "stream",
     "text": [
      "\r",
      "  0%|                                      | 4/16986 [00:10<11:40:22,  2.47s/it]"
     ]
    },
    {
     "name": "stdout",
     "output_type": "stream",
     "text": [
      "0 HTTPConnectionPool(host='annalseas.faa.ro', port=80): Max retries exceeded with url: /download/5%20Abang%20Ekhsan%20.pdf (Caused by NewConnectionError('<urllib3.connection.HTTPConnection object at 0x7fc3c899db80>: Failed to establish a new connection: [Errno -2] Name or service not known'))\n",
      "1 HTTPConnectionPool(host='annalseas.faa.ro', port=80): Max retries exceeded with url: /download/5%20Abang%20Ekhsan%20.pdf (Caused by NewConnectionError('<urllib3.connection.HTTPConnection object at 0x7fc3c899db80>: Failed to establish a new connection: [Errno -2] Name or service not known'))\n",
      "2 HTTPConnectionPool(host='annalseas.faa.ro', port=80): Max retries exceeded with url: /download/5%20Abang%20Ekhsan%20.pdf (Caused by NewConnectionError('<urllib3.connection.HTTPConnection object at 0x7fc3c899d7c0>: Failed to establish a new connection: [Errno -2] Name or service not known'))\n"
     ]
    },
    {
     "name": "stderr",
     "output_type": "stream",
     "text": [
      "  1%|▍                                    | 224/16986 [06:12<8:37:49,  1.85s/it]"
     ]
    },
    {
     "name": "stdout",
     "output_type": "stream",
     "text": [
      "0 ('Connection aborted.', ConnectionResetError(104, 'Connection reset by peer'))\n",
      "1 ('Connection aborted.', ConnectionResetError(104, 'Connection reset by peer'))\n",
      "2 ('Connection aborted.', ConnectionResetError(104, 'Connection reset by peer'))\n"
     ]
    },
    {
     "name": "stderr",
     "output_type": "stream",
     "text": [
      "  2%|▌                                    | 265/16986 [07:38<5:42:17,  1.23s/it]"
     ]
    },
    {
     "name": "stdout",
     "output_type": "stream",
     "text": [
      "0 ('Connection aborted.', ConnectionResetError(104, 'Connection reset by peer'))\n",
      "1 ('Connection aborted.', ConnectionResetError(104, 'Connection reset by peer'))\n",
      "2 ('Connection aborted.', ConnectionResetError(104, 'Connection reset by peer'))\n"
     ]
    },
    {
     "name": "stderr",
     "output_type": "stream",
     "text": [
      "  2%|▋                                    | 302/16986 [08:53<9:32:08,  2.06s/it]"
     ]
    },
    {
     "name": "stdout",
     "output_type": "stream",
     "text": [
      "0 ('Connection aborted.', ConnectionResetError(104, 'Connection reset by peer'))\n",
      "1 ('Connection aborted.', ConnectionResetError(104, 'Connection reset by peer'))\n",
      "2 ('Connection aborted.', ConnectionResetError(104, 'Connection reset by peer'))\n"
     ]
    },
    {
     "name": "stderr",
     "output_type": "stream",
     "text": [
      "  2%|▋                                    | 316/16986 [09:19<8:34:54,  1.85s/it]"
     ]
    },
    {
     "name": "stdout",
     "output_type": "stream",
     "text": [
      "0 ('Connection aborted.', ConnectionResetError(104, 'Connection reset by peer'))\n",
      "1 ('Connection aborted.', ConnectionResetError(104, 'Connection reset by peer'))\n",
      "2 ('Connection aborted.', ConnectionResetError(104, 'Connection reset by peer'))\n"
     ]
    },
    {
     "name": "stderr",
     "output_type": "stream",
     "text": [
      "  3%|█                                    | 513/16986 [15:48<9:17:42,  2.03s/it]"
     ]
    },
    {
     "name": "stdout",
     "output_type": "stream",
     "text": [
      "0 ('Connection aborted.', ConnectionResetError(104, 'Connection reset by peer'))\n",
      "1 ('Connection aborted.', ConnectionResetError(104, 'Connection reset by peer'))\n",
      "2 ('Connection aborted.', ConnectionResetError(104, 'Connection reset by peer'))\n"
     ]
    },
    {
     "name": "stderr",
     "output_type": "stream",
     "text": [
      "  3%|█▎                                   | 576/16986 [18:07<9:20:53,  2.05s/it]"
     ]
    },
    {
     "name": "stdout",
     "output_type": "stream",
     "text": [
      "0 ('Connection aborted.', ConnectionResetError(104, 'Connection reset by peer'))\n",
      "1 ('Connection aborted.', ConnectionResetError(104, 'Connection reset by peer'))\n",
      "2 ('Connection aborted.', ConnectionResetError(104, 'Connection reset by peer'))\n"
     ]
    },
    {
     "name": "stderr",
     "output_type": "stream",
     "text": [
      "  4%|█▎                                   | 602/16986 [19:04<9:32:42,  2.10s/it]"
     ]
    },
    {
     "name": "stdout",
     "output_type": "stream",
     "text": [
      "0 ('Connection aborted.', ConnectionResetError(104, 'Connection reset by peer'))\n",
      "1 ('Connection aborted.', ConnectionResetError(104, 'Connection reset by peer'))\n",
      "2 ('Connection aborted.', ConnectionResetError(104, 'Connection reset by peer'))\n"
     ]
    },
    {
     "name": "stderr",
     "output_type": "stream",
     "text": [
      "  4%|█▎                                   | 615/16986 [19:34<9:12:40,  2.03s/it]"
     ]
    },
    {
     "name": "stdout",
     "output_type": "stream",
     "text": [
      "0 ('Connection aborted.', ConnectionResetError(104, 'Connection reset by peer'))\n",
      "1 ('Connection aborted.', ConnectionResetError(104, 'Connection reset by peer'))\n",
      "2 ('Connection aborted.', ConnectionResetError(104, 'Connection reset by peer'))\n"
     ]
    },
    {
     "name": "stderr",
     "output_type": "stream",
     "text": [
      "  4%|█▎                                   | 622/16986 [19:49<8:48:30,  1.94s/it]"
     ]
    },
    {
     "name": "stdout",
     "output_type": "stream",
     "text": [
      "0 ('Connection aborted.', ConnectionResetError(104, 'Connection reset by peer'))\n",
      "1 ('Connection aborted.', ConnectionResetError(104, 'Connection reset by peer'))\n",
      "2 ('Connection aborted.', ConnectionResetError(104, 'Connection reset by peer'))\n"
     ]
    },
    {
     "name": "stderr",
     "output_type": "stream",
     "text": [
      "  5%|█▋                                   | 781/16986 [25:34<9:29:48,  2.11s/it]"
     ]
    },
    {
     "name": "stdout",
     "output_type": "stream",
     "text": [
      "0 ('Connection aborted.', ConnectionResetError(104, 'Connection reset by peer'))\n",
      "1 ('Connection aborted.', ConnectionResetError(104, 'Connection reset by peer'))\n",
      "2 ('Connection aborted.', ConnectionResetError(104, 'Connection reset by peer'))\n"
     ]
    },
    {
     "name": "stderr",
     "output_type": "stream",
     "text": [
      "  5%|█▋                                   | 790/16986 [25:53<9:10:34,  2.04s/it]"
     ]
    },
    {
     "name": "stdout",
     "output_type": "stream",
     "text": [
      "0 ('Connection aborted.', ConnectionResetError(104, 'Connection reset by peer'))\n",
      "1 ('Connection aborted.', ConnectionResetError(104, 'Connection reset by peer'))\n",
      "2 ('Connection aborted.', ConnectionResetError(104, 'Connection reset by peer'))\n"
     ]
    },
    {
     "name": "stderr",
     "output_type": "stream",
     "text": [
      "  5%|█▉                                   | 893/16986 [29:32<7:47:32,  1.74s/it]"
     ]
    },
    {
     "name": "stdout",
     "output_type": "stream",
     "text": [
      "0 ('Connection aborted.', ConnectionResetError(104, 'Connection reset by peer'))\n",
      "1 ('Connection aborted.', ConnectionResetError(104, 'Connection reset by peer'))\n",
      "2 ('Connection aborted.', ConnectionResetError(104, 'Connection reset by peer'))\n"
     ]
    },
    {
     "name": "stderr",
     "output_type": "stream",
     "text": [
      "  6%|██▏                                 | 1013/16986 [33:01<3:16:42,  1.35it/s]"
     ]
    },
    {
     "name": "stdout",
     "output_type": "stream",
     "text": [
      "0 ('Connection aborted.', ConnectionResetError(104, 'Connection reset by peer'))\n",
      "1 ('Connection aborted.', ConnectionResetError(104, 'Connection reset by peer'))\n",
      "2 ('Connection aborted.', ConnectionResetError(104, 'Connection reset by peer'))\n"
     ]
    },
    {
     "name": "stderr",
     "output_type": "stream",
     "text": [
      "  6%|██▎                                 | 1100/16986 [34:18<4:13:19,  1.05it/s]"
     ]
    },
    {
     "name": "stdout",
     "output_type": "stream",
     "text": [
      "0 ('Connection aborted.', ConnectionResetError(104, 'Connection reset by peer'))\n",
      "1 ('Connection aborted.', ConnectionResetError(104, 'Connection reset by peer'))\n",
      "2 ('Connection aborted.', ConnectionResetError(104, 'Connection reset by peer'))\n"
     ]
    },
    {
     "name": "stderr",
     "output_type": "stream",
     "text": [
      "  7%|██▍                                 | 1166/16986 [35:16<3:37:21,  1.21it/s]"
     ]
    },
    {
     "name": "stdout",
     "output_type": "stream",
     "text": [
      "0 ('Connection aborted.', ConnectionResetError(104, 'Connection reset by peer'))\n",
      "1 ('Connection aborted.', ConnectionResetError(104, 'Connection reset by peer'))\n",
      "2 ('Connection aborted.', ConnectionResetError(104, 'Connection reset by peer'))\n"
     ]
    },
    {
     "name": "stderr",
     "output_type": "stream",
     "text": [
      "  7%|██▍                                 | 1168/16986 [35:19<4:38:28,  1.06s/it]"
     ]
    },
    {
     "name": "stdout",
     "output_type": "stream",
     "text": [
      "0 ('Connection aborted.', ConnectionResetError(104, 'Connection reset by peer'))\n",
      "1 ('Connection aborted.', ConnectionResetError(104, 'Connection reset by peer'))\n",
      "2 ('Connection aborted.', ConnectionResetError(104, 'Connection reset by peer'))\n"
     ]
    },
    {
     "name": "stderr",
     "output_type": "stream",
     "text": [
      "  7%|██▋                                 | 1270/16986 [37:05<4:16:55,  1.02it/s]"
     ]
    },
    {
     "name": "stdout",
     "output_type": "stream",
     "text": [
      "0 ('Connection aborted.', ConnectionResetError(104, 'Connection reset by peer'))\n",
      "1 ('Connection aborted.', ConnectionResetError(104, 'Connection reset by peer'))\n",
      "2 ('Connection aborted.', ConnectionResetError(104, 'Connection reset by peer'))\n"
     ]
    },
    {
     "name": "stderr",
     "output_type": "stream",
     "text": [
      "  7%|██▋                                 | 1272/16986 [37:07<4:49:19,  1.10s/it]"
     ]
    },
    {
     "name": "stdout",
     "output_type": "stream",
     "text": [
      "0 ('Connection aborted.', ConnectionResetError(104, 'Connection reset by peer'))\n",
      "1 ('Connection aborted.', ConnectionResetError(104, 'Connection reset by peer'))\n",
      "2 ('Connection aborted.', ConnectionResetError(104, 'Connection reset by peer'))\n"
     ]
    },
    {
     "name": "stderr",
     "output_type": "stream",
     "text": [
      "  8%|██▉                                 | 1370/16986 [38:35<3:15:39,  1.33it/s]"
     ]
    },
    {
     "name": "stdout",
     "output_type": "stream",
     "text": [
      "0 ('Connection aborted.', ConnectionResetError(104, 'Connection reset by peer'))\n",
      "1 ('Connection aborted.', ConnectionResetError(104, 'Connection reset by peer'))\n",
      "2 ('Connection aborted.', ConnectionResetError(104, 'Connection reset by peer'))\n"
     ]
    },
    {
     "name": "stderr",
     "output_type": "stream",
     "text": [
      "  8%|██▉                                 | 1391/16986 [38:54<3:37:20,  1.20it/s]"
     ]
    },
    {
     "name": "stdout",
     "output_type": "stream",
     "text": [
      "0 ('Connection aborted.', ConnectionResetError(104, 'Connection reset by peer'))\n",
      "1 ('Connection aborted.', ConnectionResetError(104, 'Connection reset by peer'))\n",
      "2 ('Connection aborted.', ConnectionResetError(104, 'Connection reset by peer'))\n"
     ]
    },
    {
     "name": "stderr",
     "output_type": "stream",
     "text": [
      "  9%|███                                 | 1467/16986 [40:01<3:26:41,  1.25it/s]"
     ]
    },
    {
     "name": "stdout",
     "output_type": "stream",
     "text": [
      "0 ('Connection aborted.', ConnectionResetError(104, 'Connection reset by peer'))\n",
      "1 ('Connection aborted.', ConnectionResetError(104, 'Connection reset by peer'))\n",
      "2 ('Connection aborted.', ConnectionResetError(104, 'Connection reset by peer'))\n"
     ]
    },
    {
     "name": "stderr",
     "output_type": "stream",
     "text": [
      "  9%|███▏                                | 1491/16986 [40:26<4:08:51,  1.04it/s]"
     ]
    },
    {
     "name": "stdout",
     "output_type": "stream",
     "text": [
      "0 ('Connection aborted.', ConnectionResetError(104, 'Connection reset by peer'))\n",
      "1 ('Connection aborted.', ConnectionResetError(104, 'Connection reset by peer'))\n",
      "2 ('Connection aborted.', ConnectionResetError(104, 'Connection reset by peer'))\n"
     ]
    },
    {
     "name": "stderr",
     "output_type": "stream",
     "text": [
      "  9%|███▏                                | 1496/16986 [40:31<3:22:33,  1.27it/s]"
     ]
    },
    {
     "name": "stdout",
     "output_type": "stream",
     "text": [
      "0 ('Connection aborted.', ConnectionResetError(104, 'Connection reset by peer'))\n",
      "1 ('Connection aborted.', ConnectionResetError(104, 'Connection reset by peer'))\n",
      "2 ('Connection aborted.', ConnectionResetError(104, 'Connection reset by peer'))\n"
     ]
    },
    {
     "name": "stderr",
     "output_type": "stream",
     "text": [
      "  9%|███▍                                | 1604/16986 [42:06<3:41:45,  1.16it/s]"
     ]
    },
    {
     "name": "stdout",
     "output_type": "stream",
     "text": [
      "0 ('Connection aborted.', ConnectionResetError(104, 'Connection reset by peer'))\n",
      "1 ('Connection aborted.', ConnectionResetError(104, 'Connection reset by peer'))\n",
      "2 ('Connection aborted.', ConnectionResetError(104, 'Connection reset by peer'))\n"
     ]
    },
    {
     "name": "stderr",
     "output_type": "stream",
     "text": [
      " 11%|███▉                                | 1854/16986 [45:26<3:02:06,  1.38it/s]"
     ]
    },
    {
     "name": "stdout",
     "output_type": "stream",
     "text": [
      "0 ('Connection aborted.', ConnectionResetError(104, 'Connection reset by peer'))\n",
      "1 ('Connection aborted.', ConnectionResetError(104, 'Connection reset by peer'))\n",
      "2 ('Connection aborted.', ConnectionResetError(104, 'Connection reset by peer'))\n"
     ]
    },
    {
     "name": "stderr",
     "output_type": "stream",
     "text": [
      " 11%|███▉                                | 1879/16986 [45:50<3:24:30,  1.23it/s]"
     ]
    },
    {
     "name": "stdout",
     "output_type": "stream",
     "text": [
      "0 ('Connection aborted.', ConnectionResetError(104, 'Connection reset by peer'))\n",
      "1 ('Connection aborted.', ConnectionResetError(104, 'Connection reset by peer'))\n",
      "2 ('Connection aborted.', ConnectionResetError(104, 'Connection reset by peer'))\n"
     ]
    },
    {
     "name": "stderr",
     "output_type": "stream",
     "text": [
      " 11%|████                                | 1915/16986 [46:21<3:19:44,  1.26it/s]"
     ]
    },
    {
     "name": "stdout",
     "output_type": "stream",
     "text": [
      "0 ('Connection aborted.', ConnectionResetError(104, 'Connection reset by peer'))\n",
      "1 ('Connection aborted.', ConnectionResetError(104, 'Connection reset by peer'))\n",
      "2 ('Connection aborted.', ConnectionResetError(104, 'Connection reset by peer'))\n"
     ]
    },
    {
     "name": "stderr",
     "output_type": "stream",
     "text": [
      " 12%|████▏                               | 1987/16986 [47:22<3:48:58,  1.09it/s]"
     ]
    },
    {
     "name": "stdout",
     "output_type": "stream",
     "text": [
      "0 ('Connection aborted.', ConnectionResetError(104, 'Connection reset by peer'))\n",
      "1 ('Connection aborted.', ConnectionResetError(104, 'Connection reset by peer'))\n",
      "2 ('Connection aborted.', ConnectionResetError(104, 'Connection reset by peer'))\n"
     ]
    },
    {
     "name": "stderr",
     "output_type": "stream",
     "text": [
      " 12%|████▎                               | 2009/16986 [47:41<4:16:35,  1.03s/it]"
     ]
    },
    {
     "name": "stdout",
     "output_type": "stream",
     "text": [
      "0 ('Connection aborted.', ConnectionResetError(104, 'Connection reset by peer'))\n",
      "1 ('Connection aborted.', ConnectionResetError(104, 'Connection reset by peer'))\n",
      "2 ('Connection aborted.', ConnectionResetError(104, 'Connection reset by peer'))\n"
     ]
    },
    {
     "name": "stderr",
     "output_type": "stream",
     "text": [
      " 12%|████▎                               | 2025/16986 [47:59<4:21:32,  1.05s/it]"
     ]
    },
    {
     "name": "stdout",
     "output_type": "stream",
     "text": [
      "0 ('Connection aborted.', ConnectionResetError(104, 'Connection reset by peer'))\n",
      "1 ('Connection aborted.', ConnectionResetError(104, 'Connection reset by peer'))\n",
      "2 ('Connection aborted.', ConnectionResetError(104, 'Connection reset by peer'))\n"
     ]
    },
    {
     "name": "stderr",
     "output_type": "stream",
     "text": [
      " 12%|████▎                               | 2028/16986 [48:04<5:46:20,  1.39s/it]"
     ]
    },
    {
     "name": "stdout",
     "output_type": "stream",
     "text": [
      "0 ('Connection aborted.', ConnectionResetError(104, 'Connection reset by peer'))\n",
      "1 ('Connection aborted.', ConnectionResetError(104, 'Connection reset by peer'))\n",
      "2 ('Connection aborted.', ConnectionResetError(104, 'Connection reset by peer'))\n"
     ]
    },
    {
     "name": "stderr",
     "output_type": "stream",
     "text": [
      " 12%|████▎                               | 2040/16986 [48:16<3:48:10,  1.09it/s]"
     ]
    },
    {
     "name": "stdout",
     "output_type": "stream",
     "text": [
      "0 ('Connection aborted.', ConnectionResetError(104, 'Connection reset by peer'))\n",
      "1 ('Connection aborted.', ConnectionResetError(104, 'Connection reset by peer'))\n",
      "2 ('Connection aborted.', ConnectionResetError(104, 'Connection reset by peer'))\n"
     ]
    },
    {
     "name": "stderr",
     "output_type": "stream",
     "text": [
      " 12%|████▎                               | 2055/16986 [48:29<2:45:11,  1.51it/s]"
     ]
    },
    {
     "name": "stdout",
     "output_type": "stream",
     "text": [
      "0 ('Connection aborted.', ConnectionResetError(104, 'Connection reset by peer'))\n",
      "1 ('Connection aborted.', ConnectionResetError(104, 'Connection reset by peer'))\n",
      "2 ('Connection aborted.', ConnectionResetError(104, 'Connection reset by peer'))\n"
     ]
    },
    {
     "name": "stderr",
     "output_type": "stream",
     "text": [
      " 12%|████▎                               | 2061/16986 [48:36<4:39:17,  1.12s/it]"
     ]
    },
    {
     "name": "stdout",
     "output_type": "stream",
     "text": [
      "0 ('Connection aborted.', ConnectionResetError(104, 'Connection reset by peer'))\n",
      "1 ('Connection aborted.', ConnectionResetError(104, 'Connection reset by peer'))\n",
      "2 ('Connection aborted.', ConnectionResetError(104, 'Connection reset by peer'))\n"
     ]
    },
    {
     "name": "stderr",
     "output_type": "stream",
     "text": [
      " 12%|████▍                               | 2081/16986 [48:57<3:52:28,  1.07it/s]"
     ]
    },
    {
     "name": "stdout",
     "output_type": "stream",
     "text": [
      "0 ('Connection aborted.', ConnectionResetError(104, 'Connection reset by peer'))\n",
      "1 ('Connection aborted.', ConnectionResetError(104, 'Connection reset by peer'))\n",
      "2 ('Connection aborted.', ConnectionResetError(104, 'Connection reset by peer'))\n"
     ]
    },
    {
     "name": "stderr",
     "output_type": "stream",
     "text": [
      " 12%|████▍                               | 2086/16986 [49:03<4:06:02,  1.01it/s]"
     ]
    },
    {
     "name": "stdout",
     "output_type": "stream",
     "text": [
      "0 ('Connection aborted.', ConnectionResetError(104, 'Connection reset by peer'))\n",
      "1 ('Connection aborted.', ConnectionResetError(104, 'Connection reset by peer'))\n",
      "2 ('Connection aborted.', ConnectionResetError(104, 'Connection reset by peer'))\n"
     ]
    },
    {
     "name": "stderr",
     "output_type": "stream",
     "text": [
      " 12%|████▍                               | 2100/16986 [49:15<3:06:11,  1.33it/s]"
     ]
    },
    {
     "name": "stdout",
     "output_type": "stream",
     "text": [
      "0 ('Connection aborted.', ConnectionResetError(104, 'Connection reset by peer'))\n",
      "1 ('Connection aborted.', ConnectionResetError(104, 'Connection reset by peer'))\n",
      "2 ('Connection aborted.', ConnectionResetError(104, 'Connection reset by peer'))\n"
     ]
    },
    {
     "name": "stderr",
     "output_type": "stream",
     "text": [
      " 12%|████▍                               | 2106/16986 [49:21<3:15:11,  1.27it/s]"
     ]
    },
    {
     "name": "stdout",
     "output_type": "stream",
     "text": [
      "0 ('Connection aborted.', ConnectionResetError(104, 'Connection reset by peer'))\n",
      "1 ('Connection aborted.', ConnectionResetError(104, 'Connection reset by peer'))\n",
      "2 ('Connection aborted.', ConnectionResetError(104, 'Connection reset by peer'))\n"
     ]
    },
    {
     "name": "stderr",
     "output_type": "stream",
     "text": [
      " 12%|████▍                               | 2118/16986 [49:31<2:51:18,  1.45it/s]"
     ]
    },
    {
     "name": "stdout",
     "output_type": "stream",
     "text": [
      "0 ('Connection aborted.', ConnectionResetError(104, 'Connection reset by peer'))\n",
      "1 ('Connection aborted.', ConnectionResetError(104, 'Connection reset by peer'))\n",
      "2 ('Connection aborted.', ConnectionResetError(104, 'Connection reset by peer'))\n"
     ]
    },
    {
     "name": "stderr",
     "output_type": "stream",
     "text": [
      " 13%|████▌                               | 2146/16986 [49:59<4:10:00,  1.01s/it]"
     ]
    },
    {
     "name": "stdout",
     "output_type": "stream",
     "text": [
      "0 ('Connection aborted.', ConnectionResetError(104, 'Connection reset by peer'))\n",
      "1 ('Connection aborted.', ConnectionResetError(104, 'Connection reset by peer'))\n",
      "2 ('Connection aborted.', ConnectionResetError(104, 'Connection reset by peer'))\n"
     ]
    },
    {
     "name": "stderr",
     "output_type": "stream",
     "text": [
      " 13%|████▋                               | 2184/16986 [50:35<3:32:41,  1.16it/s]"
     ]
    },
    {
     "name": "stdout",
     "output_type": "stream",
     "text": [
      "0 ('Connection aborted.', ConnectionResetError(104, 'Connection reset by peer'))\n",
      "1 ('Connection aborted.', ConnectionResetError(104, 'Connection reset by peer'))\n",
      "2 ('Connection aborted.', ConnectionResetError(104, 'Connection reset by peer'))\n"
     ]
    },
    {
     "name": "stderr",
     "output_type": "stream",
     "text": [
      " 13%|████▌                              | 2229/16986 [51:22<10:21:42,  2.53s/it]"
     ]
    },
    {
     "name": "stdout",
     "output_type": "stream",
     "text": [
      "0 ('Connection aborted.', ConnectionResetError(104, 'Connection reset by peer'))\n",
      "1 ('Connection aborted.', ConnectionResetError(104, 'Connection reset by peer'))\n",
      "2 ('Connection aborted.', ConnectionResetError(104, 'Connection reset by peer'))\n"
     ]
    },
    {
     "name": "stderr",
     "output_type": "stream",
     "text": [
      " 13%|████▊                               | 2251/16986 [51:43<3:16:12,  1.25it/s]"
     ]
    },
    {
     "name": "stdout",
     "output_type": "stream",
     "text": [
      "0 ('Connection aborted.', ConnectionResetError(104, 'Connection reset by peer'))\n",
      "1 ('Connection aborted.', ConnectionResetError(104, 'Connection reset by peer'))\n",
      "2 ('Connection aborted.', ConnectionResetError(104, 'Connection reset by peer'))\n"
     ]
    },
    {
     "name": "stderr",
     "output_type": "stream",
     "text": [
      " 13%|████▊                               | 2266/16986 [51:57<2:57:18,  1.38it/s]"
     ]
    },
    {
     "name": "stdout",
     "output_type": "stream",
     "text": [
      "0 ('Connection aborted.', ConnectionResetError(104, 'Connection reset by peer'))\n",
      "1 ('Connection aborted.', ConnectionResetError(104, 'Connection reset by peer'))\n",
      "2 ('Connection aborted.', ConnectionResetError(104, 'Connection reset by peer'))\n"
     ]
    },
    {
     "name": "stderr",
     "output_type": "stream",
     "text": [
      " 13%|████▊                               | 2272/16986 [52:04<3:33:35,  1.15it/s]"
     ]
    },
    {
     "name": "stdout",
     "output_type": "stream",
     "text": [
      "0 ('Connection aborted.', ConnectionResetError(104, 'Connection reset by peer'))\n",
      "1 ('Connection aborted.', ConnectionResetError(104, 'Connection reset by peer'))\n",
      "2 ('Connection aborted.', ConnectionResetError(104, 'Connection reset by peer'))\n"
     ]
    },
    {
     "name": "stderr",
     "output_type": "stream",
     "text": [
      " 13%|████▊                               | 2282/16986 [52:15<4:55:50,  1.21s/it]"
     ]
    },
    {
     "name": "stdout",
     "output_type": "stream",
     "text": [
      "0 ('Connection aborted.', ConnectionResetError(104, 'Connection reset by peer'))\n",
      "1 ('Connection aborted.', ConnectionResetError(104, 'Connection reset by peer'))\n",
      "2 ('Connection aborted.', ConnectionResetError(104, 'Connection reset by peer'))\n"
     ]
    },
    {
     "name": "stderr",
     "output_type": "stream",
     "text": [
      " 13%|████▊                               | 2293/16986 [52:25<3:34:12,  1.14it/s]"
     ]
    },
    {
     "name": "stdout",
     "output_type": "stream",
     "text": [
      "0 ('Connection aborted.', ConnectionResetError(104, 'Connection reset by peer'))\n",
      "1 ('Connection aborted.', ConnectionResetError(104, 'Connection reset by peer'))\n",
      "2 ('Connection aborted.', ConnectionResetError(104, 'Connection reset by peer'))\n"
     ]
    },
    {
     "name": "stderr",
     "output_type": "stream",
     "text": [
      "\r",
      " 14%|████▊                               | 2294/16986 [52:28<5:21:27,  1.31s/it]"
     ]
    },
    {
     "name": "stdout",
     "output_type": "stream",
     "text": [
      "0 ('Connection aborted.', ConnectionResetError(104, 'Connection reset by peer'))\n",
      "1 ('Connection aborted.', ConnectionResetError(104, 'Connection reset by peer'))\n",
      "2 ('Connection aborted.', ConnectionResetError(104, 'Connection reset by peer'))\n"
     ]
    },
    {
     "name": "stderr",
     "output_type": "stream",
     "text": [
      " 14%|████▉                               | 2302/16986 [52:36<3:40:33,  1.11it/s]"
     ]
    },
    {
     "name": "stdout",
     "output_type": "stream",
     "text": [
      "0 ('Connection aborted.', ConnectionResetError(104, 'Connection reset by peer'))\n",
      "1 ('Connection aborted.', ConnectionResetError(104, 'Connection reset by peer'))\n",
      "2 ('Connection aborted.', ConnectionResetError(104, 'Connection reset by peer'))\n"
     ]
    },
    {
     "name": "stderr",
     "output_type": "stream",
     "text": [
      " 14%|████▉                               | 2310/16986 [52:44<3:11:02,  1.28it/s]"
     ]
    },
    {
     "name": "stdout",
     "output_type": "stream",
     "text": [
      "0 ('Connection aborted.', ConnectionResetError(104, 'Connection reset by peer'))\n",
      "1 ('Connection aborted.', ConnectionResetError(104, 'Connection reset by peer'))\n",
      "2 ('Connection aborted.', ConnectionResetError(104, 'Connection reset by peer'))\n"
     ]
    },
    {
     "name": "stderr",
     "output_type": "stream",
     "text": [
      " 14%|████▉                               | 2326/16986 [53:02<5:06:27,  1.25s/it]"
     ]
    },
    {
     "name": "stdout",
     "output_type": "stream",
     "text": [
      "0 ('Connection aborted.', ConnectionResetError(104, 'Connection reset by peer'))\n",
      "1 ('Connection aborted.', ConnectionResetError(104, 'Connection reset by peer'))\n",
      "2 ('Connection aborted.', ConnectionResetError(104, 'Connection reset by peer'))\n"
     ]
    },
    {
     "name": "stderr",
     "output_type": "stream",
     "text": [
      " 14%|████▉                               | 2328/16986 [53:04<4:54:33,  1.21s/it]"
     ]
    },
    {
     "name": "stdout",
     "output_type": "stream",
     "text": [
      "0 ('Connection aborted.', ConnectionResetError(104, 'Connection reset by peer'))\n",
      "1 ('Connection aborted.', ConnectionResetError(104, 'Connection reset by peer'))\n",
      "2 ('Connection aborted.', ConnectionResetError(104, 'Connection reset by peer'))\n"
     ]
    },
    {
     "name": "stderr",
     "output_type": "stream",
     "text": [
      " 14%|████▉                               | 2337/16986 [53:17<4:42:23,  1.16s/it]"
     ]
    },
    {
     "name": "stdout",
     "output_type": "stream",
     "text": [
      "0 ('Connection aborted.', ConnectionResetError(104, 'Connection reset by peer'))\n",
      "1 ('Connection aborted.', ConnectionResetError(104, 'Connection reset by peer'))\n",
      "2 ('Connection aborted.', ConnectionResetError(104, 'Connection reset by peer'))\n"
     ]
    },
    {
     "name": "stderr",
     "output_type": "stream",
     "text": [
      " 14%|█████                               | 2361/16986 [53:40<4:49:23,  1.19s/it]"
     ]
    },
    {
     "name": "stdout",
     "output_type": "stream",
     "text": [
      "0 ('Connection aborted.', ConnectionResetError(104, 'Connection reset by peer'))\n",
      "1 ('Connection aborted.', ConnectionResetError(104, 'Connection reset by peer'))\n",
      "2 ('Connection aborted.', ConnectionResetError(104, 'Connection reset by peer'))\n"
     ]
    },
    {
     "name": "stderr",
     "output_type": "stream",
     "text": [
      " 15%|█████▏                              | 2476/16986 [55:25<3:36:57,  1.11it/s]"
     ]
    },
    {
     "name": "stdout",
     "output_type": "stream",
     "text": [
      "0 ('Connection aborted.', ConnectionResetError(104, 'Connection reset by peer'))\n",
      "1 ('Connection aborted.', ConnectionResetError(104, 'Connection reset by peer'))\n",
      "2 ('Connection aborted.', ConnectionResetError(104, 'Connection reset by peer'))\n"
     ]
    },
    {
     "name": "stderr",
     "output_type": "stream",
     "text": [
      " 15%|█████▎                              | 2496/16986 [55:45<3:41:20,  1.09it/s]"
     ]
    },
    {
     "name": "stdout",
     "output_type": "stream",
     "text": [
      "0 ('Connection aborted.', ConnectionResetError(104, 'Connection reset by peer'))\n",
      "1 ('Connection aborted.', ConnectionResetError(104, 'Connection reset by peer'))\n",
      "2 ('Connection aborted.', ConnectionResetError(104, 'Connection reset by peer'))\n"
     ]
    },
    {
     "name": "stderr",
     "output_type": "stream",
     "text": [
      " 15%|█████▎                              | 2512/16986 [55:58<2:43:34,  1.47it/s]"
     ]
    },
    {
     "name": "stdout",
     "output_type": "stream",
     "text": [
      "0 ('Connection aborted.', ConnectionResetError(104, 'Connection reset by peer'))\n",
      "1 ('Connection aborted.', ConnectionResetError(104, 'Connection reset by peer'))\n",
      "2 ('Connection aborted.', ConnectionResetError(104, 'Connection reset by peer'))\n"
     ]
    },
    {
     "name": "stderr",
     "output_type": "stream",
     "text": [
      " 15%|█████▎                              | 2526/16986 [56:12<3:16:18,  1.23it/s]"
     ]
    },
    {
     "name": "stdout",
     "output_type": "stream",
     "text": [
      "0 ('Connection aborted.', ConnectionResetError(104, 'Connection reset by peer'))\n",
      "1 ('Connection aborted.', ConnectionResetError(104, 'Connection reset by peer'))\n",
      "2 ('Connection aborted.', ConnectionResetError(104, 'Connection reset by peer'))\n"
     ]
    },
    {
     "name": "stderr",
     "output_type": "stream",
     "text": [
      " 15%|█████▍                              | 2570/16986 [56:54<4:11:30,  1.05s/it]"
     ]
    },
    {
     "name": "stdout",
     "output_type": "stream",
     "text": [
      "0 ('Connection aborted.', ConnectionResetError(104, 'Connection reset by peer'))\n",
      "1 ('Connection aborted.', ConnectionResetError(104, 'Connection reset by peer'))\n",
      "2 ('Connection aborted.', ConnectionResetError(104, 'Connection reset by peer'))\n"
     ]
    },
    {
     "name": "stderr",
     "output_type": "stream",
     "text": [
      " 15%|█████▍                              | 2573/16986 [56:58<4:41:10,  1.17s/it]"
     ]
    },
    {
     "name": "stdout",
     "output_type": "stream",
     "text": [
      "0 ('Connection aborted.', ConnectionResetError(104, 'Connection reset by peer'))\n",
      "1 ('Connection aborted.', ConnectionResetError(104, 'Connection reset by peer'))\n",
      "2 ('Connection aborted.', ConnectionResetError(104, 'Connection reset by peer'))\n"
     ]
    },
    {
     "name": "stderr",
     "output_type": "stream",
     "text": [
      "\r",
      " 15%|█████▍                              | 2574/16986 [57:01<6:13:06,  1.55s/it]"
     ]
    },
    {
     "name": "stdout",
     "output_type": "stream",
     "text": [
      "0 ('Connection aborted.', ConnectionResetError(104, 'Connection reset by peer'))\n",
      "1 ('Connection aborted.', ConnectionResetError(104, 'Connection reset by peer'))\n",
      "2 ('Connection aborted.', ConnectionResetError(104, 'Connection reset by peer'))\n"
     ]
    },
    {
     "name": "stderr",
     "output_type": "stream",
     "text": [
      " 15%|█████▍                              | 2592/16986 [57:17<3:04:13,  1.30it/s]"
     ]
    },
    {
     "name": "stdout",
     "output_type": "stream",
     "text": [
      "0 ('Connection aborted.', ConnectionResetError(104, 'Connection reset by peer'))\n",
      "1 ('Connection aborted.', ConnectionResetError(104, 'Connection reset by peer'))\n",
      "2 ('Connection aborted.', ConnectionResetError(104, 'Connection reset by peer'))\n"
     ]
    },
    {
     "name": "stderr",
     "output_type": "stream",
     "text": [
      "\r",
      " 15%|█████▍                              | 2593/16986 [57:20<4:53:45,  1.22s/it]"
     ]
    },
    {
     "name": "stdout",
     "output_type": "stream",
     "text": [
      "0 ('Connection aborted.', ConnectionResetError(104, 'Connection reset by peer'))\n",
      "1 ('Connection aborted.', ConnectionResetError(104, 'Connection reset by peer'))\n",
      "2 ('Connection aborted.', ConnectionResetError(104, 'Connection reset by peer'))\n"
     ]
    },
    {
     "name": "stderr",
     "output_type": "stream",
     "text": [
      " 16%|█████▋                              | 2700/16986 [59:00<4:38:07,  1.17s/it]"
     ]
    },
    {
     "name": "stdout",
     "output_type": "stream",
     "text": [
      "0 ('Connection aborted.', ConnectionResetError(104, 'Connection reset by peer'))\n",
      "1 ('Connection aborted.', ConnectionResetError(104, 'Connection reset by peer'))\n",
      "2 ('Connection aborted.', ConnectionResetError(104, 'Connection reset by peer'))\n"
     ]
    },
    {
     "name": "stderr",
     "output_type": "stream",
     "text": [
      " 16%|█████▊                              | 2728/16986 [59:24<4:36:48,  1.16s/it]"
     ]
    },
    {
     "name": "stdout",
     "output_type": "stream",
     "text": [
      "0 ('Connection aborted.', ConnectionResetError(104, 'Connection reset by peer'))\n",
      "1 ('Connection aborted.', ConnectionResetError(104, 'Connection reset by peer'))\n",
      "2 ('Connection aborted.', ConnectionResetError(104, 'Connection reset by peer'))\n"
     ]
    },
    {
     "name": "stderr",
     "output_type": "stream",
     "text": [
      " 17%|█████▋                            | 2815/16986 [1:00:41<3:18:14,  1.19it/s]"
     ]
    },
    {
     "name": "stdout",
     "output_type": "stream",
     "text": [
      "0 ('Connection aborted.', ConnectionResetError(104, 'Connection reset by peer'))\n",
      "1 ('Connection aborted.', ConnectionResetError(104, 'Connection reset by peer'))\n",
      "2 ('Connection aborted.', ConnectionResetError(104, 'Connection reset by peer'))\n"
     ]
    },
    {
     "name": "stderr",
     "output_type": "stream",
     "text": [
      " 17%|█████▋                            | 2844/16986 [1:01:09<3:38:57,  1.08it/s]"
     ]
    },
    {
     "name": "stdout",
     "output_type": "stream",
     "text": [
      "0 ('Connection aborted.', ConnectionResetError(104, 'Connection reset by peer'))\n",
      "1 ('Connection aborted.', ConnectionResetError(104, 'Connection reset by peer'))\n",
      "2 ('Connection aborted.', ConnectionResetError(104, 'Connection reset by peer'))\n"
     ]
    },
    {
     "name": "stderr",
     "output_type": "stream",
     "text": [
      " 17%|█████▊                            | 2914/16986 [1:02:08<2:40:31,  1.46it/s]"
     ]
    },
    {
     "name": "stdout",
     "output_type": "stream",
     "text": [
      "0 ('Connection aborted.', ConnectionResetError(104, 'Connection reset by peer'))\n",
      "1 ('Connection aborted.', ConnectionResetError(104, 'Connection reset by peer'))\n",
      "2 ('Connection aborted.', ConnectionResetError(104, 'Connection reset by peer'))\n"
     ]
    },
    {
     "name": "stderr",
     "output_type": "stream",
     "text": [
      " 18%|██████▏                           | 3081/16986 [1:04:40<3:10:43,  1.22it/s]"
     ]
    },
    {
     "name": "stdout",
     "output_type": "stream",
     "text": [
      "0 ('Connection aborted.', ConnectionResetError(104, 'Connection reset by peer'))\n",
      "1 ('Connection aborted.', ConnectionResetError(104, 'Connection reset by peer'))\n",
      "2 ('Connection aborted.', ConnectionResetError(104, 'Connection reset by peer'))\n"
     ]
    },
    {
     "name": "stderr",
     "output_type": "stream",
     "text": [
      " 21%|███████                           | 3556/16986 [1:11:00<3:31:18,  1.06it/s]"
     ]
    },
    {
     "name": "stdout",
     "output_type": "stream",
     "text": [
      "0 ('Connection aborted.', ConnectionResetError(104, 'Connection reset by peer'))\n",
      "1 ('Connection aborted.', ConnectionResetError(104, 'Connection reset by peer'))\n",
      "2 ('Connection aborted.', ConnectionResetError(104, 'Connection reset by peer'))\n"
     ]
    },
    {
     "name": "stderr",
     "output_type": "stream",
     "text": [
      " 21%|███████▏                          | 3573/16986 [1:11:15<3:23:26,  1.10it/s]"
     ]
    },
    {
     "name": "stdout",
     "output_type": "stream",
     "text": [
      "0 ('Connection aborted.', ConnectionResetError(104, 'Connection reset by peer'))\n",
      "1 ('Connection aborted.', ConnectionResetError(104, 'Connection reset by peer'))\n",
      "2 ('Connection aborted.', ConnectionResetError(104, 'Connection reset by peer'))\n"
     ]
    },
    {
     "name": "stderr",
     "output_type": "stream",
     "text": [
      " 21%|███████▏                          | 3615/16986 [1:11:45<3:20:43,  1.11it/s]IOPub message rate exceeded.\n",
      "The notebook server will temporarily stop sending output\n",
      "to the client in order to avoid crashing it.\n",
      "To change this limit, set the config variable\n",
      "`--NotebookApp.iopub_msg_rate_limit`.\n",
      "\n",
      "Current values:\n",
      "NotebookApp.iopub_msg_rate_limit=1000.0 (msgs/sec)\n",
      "NotebookApp.rate_limit_window=3.0 (secs)\n",
      "\n"
     ]
    },
    {
     "name": "stdout",
     "output_type": "stream",
     "text": [
      "2 ('Connection aborted.', ConnectionResetError(104, 'Connection reset by peer'))\n"
     ]
    },
    {
     "name": "stderr",
     "output_type": "stream",
     "text": [
      "\r",
      " 25%|████████▌                         | 4276/16986 [1:19:55<3:48:55,  1.08s/it]"
     ]
    },
    {
     "name": "stdout",
     "output_type": "stream",
     "text": [
      "0 ('Connection aborted.', ConnectionResetError(104, 'Connection reset by peer'))\n",
      "1 ('Connection aborted.', ConnectionResetError(104, 'Connection reset by peer'))\n",
      "2 ('Connection aborted.', ConnectionResetError(104, 'Connection reset by peer'))\n"
     ]
    },
    {
     "name": "stderr",
     "output_type": "stream",
     "text": [
      "\r",
      " 25%|████████▌                         | 4277/16986 [1:19:57<4:41:58,  1.33s/it]"
     ]
    },
    {
     "name": "stdout",
     "output_type": "stream",
     "text": [
      "0 ('Connection aborted.', ConnectionResetError(104, 'Connection reset by peer'))\n",
      "1 ('Connection aborted.', ConnectionResetError(104, 'Connection reset by peer'))\n",
      "2 ('Connection aborted.', ConnectionResetError(104, 'Connection reset by peer'))\n"
     ]
    },
    {
     "name": "stderr",
     "output_type": "stream",
     "text": [
      " 25%|████████▌                         | 4285/16986 [1:20:03<2:18:08,  1.53it/s]"
     ]
    },
    {
     "name": "stdout",
     "output_type": "stream",
     "text": [
      "0 ('Connection aborted.', ConnectionResetError(104, 'Connection reset by peer'))\n",
      "1 ('Connection aborted.', ConnectionResetError(104, 'Connection reset by peer'))\n",
      "2 ('Connection aborted.', ConnectionResetError(104, 'Connection reset by peer'))\n"
     ]
    },
    {
     "name": "stderr",
     "output_type": "stream",
     "text": [
      " 25%|████████▌                         | 4303/16986 [1:20:15<1:46:43,  1.98it/s]"
     ]
    },
    {
     "name": "stdout",
     "output_type": "stream",
     "text": [
      "0 ('Connection aborted.', ConnectionResetError(104, 'Connection reset by peer'))\n",
      "1 ('Connection aborted.', ConnectionResetError(104, 'Connection reset by peer'))\n",
      "2 ('Connection aborted.', ConnectionResetError(104, 'Connection reset by peer'))\n"
     ]
    },
    {
     "name": "stderr",
     "output_type": "stream",
     "text": [
      " 26%|████████▊                         | 4418/16986 [1:21:35<3:02:44,  1.15it/s]"
     ]
    },
    {
     "name": "stdout",
     "output_type": "stream",
     "text": [
      "0 ('Connection aborted.', ConnectionResetError(104, 'Connection reset by peer'))\n",
      "1 ('Connection aborted.', ConnectionResetError(104, 'Connection reset by peer'))\n",
      "2 ('Connection aborted.', ConnectionResetError(104, 'Connection reset by peer'))\n"
     ]
    },
    {
     "name": "stderr",
     "output_type": "stream",
     "text": [
      " 26%|████████▊                         | 4433/16986 [1:21:46<2:01:39,  1.72it/s]"
     ]
    },
    {
     "name": "stdout",
     "output_type": "stream",
     "text": [
      "0 ('Connection aborted.', ConnectionResetError(104, 'Connection reset by peer'))\n",
      "1 ('Connection aborted.', ConnectionResetError(104, 'Connection reset by peer'))\n",
      "2 ('Connection aborted.', ConnectionResetError(104, 'Connection reset by peer'))\n"
     ]
    },
    {
     "name": "stderr",
     "output_type": "stream",
     "text": [
      " 26%|████████▉                         | 4441/16986 [1:21:53<2:35:39,  1.34it/s]"
     ]
    },
    {
     "name": "stdout",
     "output_type": "stream",
     "text": [
      "0 ('Connection aborted.', ConnectionResetError(104, 'Connection reset by peer'))\n",
      "1 ('Connection aborted.', ConnectionResetError(104, 'Connection reset by peer'))\n",
      "2 ('Connection aborted.', ConnectionResetError(104, 'Connection reset by peer'))\n"
     ]
    },
    {
     "name": "stderr",
     "output_type": "stream",
     "text": [
      " 26%|████████▉                         | 4471/16986 [1:22:17<2:54:40,  1.19it/s]"
     ]
    },
    {
     "name": "stdout",
     "output_type": "stream",
     "text": [
      "0 ('Connection aborted.', ConnectionResetError(104, 'Connection reset by peer'))\n",
      "1 ('Connection aborted.', ConnectionResetError(104, 'Connection reset by peer'))\n",
      "2 ('Connection aborted.', ConnectionResetError(104, 'Connection reset by peer'))\n"
     ]
    },
    {
     "name": "stderr",
     "output_type": "stream",
     "text": [
      " 26%|████████▉                         | 4485/16986 [1:22:27<2:02:08,  1.71it/s]"
     ]
    },
    {
     "name": "stdout",
     "output_type": "stream",
     "text": [
      "0 ('Connection aborted.', ConnectionResetError(104, 'Connection reset by peer'))\n",
      "1 ('Connection aborted.', ConnectionResetError(104, 'Connection reset by peer'))\n",
      "2 ('Connection aborted.', ConnectionResetError(104, 'Connection reset by peer'))\n"
     ]
    },
    {
     "name": "stderr",
     "output_type": "stream",
     "text": [
      " 26%|████████▉                         | 4494/16986 [1:22:34<2:10:28,  1.60it/s]"
     ]
    },
    {
     "name": "stdout",
     "output_type": "stream",
     "text": [
      "0 ('Connection aborted.', ConnectionResetError(104, 'Connection reset by peer'))\n",
      "1 ('Connection aborted.', ConnectionResetError(104, 'Connection reset by peer'))\n",
      "2 ('Connection aborted.', ConnectionResetError(104, 'Connection reset by peer'))\n"
     ]
    },
    {
     "name": "stderr",
     "output_type": "stream",
     "text": [
      " 27%|█████████                         | 4533/16986 [1:23:05<2:27:41,  1.41it/s]"
     ]
    },
    {
     "name": "stdout",
     "output_type": "stream",
     "text": [
      "0 ('Connection aborted.', ConnectionResetError(104, 'Connection reset by peer'))\n",
      "1 ('Connection aborted.', ConnectionResetError(104, 'Connection reset by peer'))\n",
      "2 ('Connection aborted.', ConnectionResetError(104, 'Connection reset by peer'))\n"
     ]
    },
    {
     "name": "stderr",
     "output_type": "stream",
     "text": [
      " 27%|█████████                         | 4550/16986 [1:23:17<2:11:58,  1.57it/s]"
     ]
    },
    {
     "name": "stdout",
     "output_type": "stream",
     "text": [
      "0 ('Connection aborted.', ConnectionResetError(104, 'Connection reset by peer'))\n",
      "1 ('Connection aborted.', ConnectionResetError(104, 'Connection reset by peer'))\n",
      "2 ('Connection aborted.', ConnectionResetError(104, 'Connection reset by peer'))\n"
     ]
    },
    {
     "name": "stderr",
     "output_type": "stream",
     "text": [
      " 27%|█████████                         | 4556/16986 [1:23:22<2:22:15,  1.46it/s]"
     ]
    },
    {
     "name": "stdout",
     "output_type": "stream",
     "text": [
      "0 ('Connection aborted.', ConnectionResetError(104, 'Connection reset by peer'))\n",
      "1 ('Connection aborted.', ConnectionResetError(104, 'Connection reset by peer'))\n",
      "2 ('Connection aborted.', ConnectionResetError(104, 'Connection reset by peer'))\n"
     ]
    },
    {
     "name": "stderr",
     "output_type": "stream",
     "text": [
      " 27%|█████████▏                        | 4563/16986 [1:23:28<2:29:15,  1.39it/s]"
     ]
    },
    {
     "name": "stdout",
     "output_type": "stream",
     "text": [
      "0 ('Connection aborted.', ConnectionResetError(104, 'Connection reset by peer'))\n",
      "1 ('Connection aborted.', ConnectionResetError(104, 'Connection reset by peer'))\n",
      "2 ('Connection aborted.', ConnectionResetError(104, 'Connection reset by peer'))\n"
     ]
    },
    {
     "name": "stderr",
     "output_type": "stream",
     "text": [
      " 27%|█████████▏                        | 4565/16986 [1:23:31<3:49:17,  1.11s/it]"
     ]
    },
    {
     "name": "stdout",
     "output_type": "stream",
     "text": [
      "0 ('Connection aborted.', ConnectionResetError(104, 'Connection reset by peer'))\n",
      "1 ('Connection aborted.', ConnectionResetError(104, 'Connection reset by peer'))\n",
      "2 ('Connection aborted.', ConnectionResetError(104, 'Connection reset by peer'))\n"
     ]
    },
    {
     "name": "stderr",
     "output_type": "stream",
     "text": [
      "\r",
      " 27%|█████████▏                        | 4566/16986 [1:23:33<4:42:03,  1.36s/it]"
     ]
    },
    {
     "name": "stdout",
     "output_type": "stream",
     "text": [
      "0 ('Connection aborted.', ConnectionResetError(104, 'Connection reset by peer'))\n",
      "1 ('Connection aborted.', ConnectionResetError(104, 'Connection reset by peer'))\n",
      "2 ('Connection aborted.', ConnectionResetError(104, 'Connection reset by peer'))\n"
     ]
    },
    {
     "name": "stderr",
     "output_type": "stream",
     "text": [
      "\r",
      " 27%|█████████▏                        | 4567/16986 [1:23:35<5:18:21,  1.54s/it]"
     ]
    },
    {
     "name": "stdout",
     "output_type": "stream",
     "text": [
      "0 ('Connection aborted.', ConnectionResetError(104, 'Connection reset by peer'))\n",
      "1 ('Connection aborted.', ConnectionResetError(104, 'Connection reset by peer'))\n",
      "2 ('Connection aborted.', ConnectionResetError(104, 'Connection reset by peer'))\n"
     ]
    },
    {
     "name": "stderr",
     "output_type": "stream",
     "text": [
      "\r",
      " 27%|█████████▏                        | 4568/16986 [1:23:37<5:39:14,  1.64s/it]"
     ]
    },
    {
     "name": "stdout",
     "output_type": "stream",
     "text": [
      "0 ('Connection aborted.', ConnectionResetError(104, 'Connection reset by peer'))\n",
      "1 ('Connection aborted.', ConnectionResetError(104, 'Connection reset by peer'))\n",
      "2 ('Connection aborted.', ConnectionResetError(104, 'Connection reset by peer'))\n"
     ]
    },
    {
     "name": "stderr",
     "output_type": "stream",
     "text": [
      "\r",
      " 27%|█████████▏                        | 4569/16986 [1:23:39<6:02:29,  1.75s/it]"
     ]
    },
    {
     "name": "stdout",
     "output_type": "stream",
     "text": [
      "0 ('Connection aborted.', ConnectionResetError(104, 'Connection reset by peer'))\n",
      "1 ('Connection aborted.', ConnectionResetError(104, 'Connection reset by peer'))\n",
      "2 ('Connection aborted.', ConnectionResetError(104, 'Connection reset by peer'))\n"
     ]
    },
    {
     "name": "stderr",
     "output_type": "stream",
     "text": [
      " 27%|█████████▏                        | 4571/16986 [1:23:42<5:33:01,  1.61s/it]"
     ]
    },
    {
     "name": "stdout",
     "output_type": "stream",
     "text": [
      "0 ('Connection aborted.', ConnectionResetError(104, 'Connection reset by peer'))\n",
      "1 ('Connection aborted.', ConnectionResetError(104, 'Connection reset by peer'))\n",
      "2 ('Connection aborted.', ConnectionResetError(104, 'Connection reset by peer'))\n"
     ]
    },
    {
     "name": "stderr",
     "output_type": "stream",
     "text": [
      "\r",
      " 27%|█████████▏                        | 4572/16986 [1:23:44<6:16:56,  1.82s/it]"
     ]
    },
    {
     "name": "stdout",
     "output_type": "stream",
     "text": [
      "0 ('Connection aborted.', ConnectionResetError(104, 'Connection reset by peer'))\n",
      "1 ('Connection aborted.', ConnectionResetError(104, 'Connection reset by peer'))\n",
      "2 ('Connection aborted.', ConnectionResetError(104, 'Connection reset by peer'))\n"
     ]
    },
    {
     "name": "stderr",
     "output_type": "stream",
     "text": [
      " 27%|█████████▏                        | 4574/16986 [1:23:47<4:56:12,  1.43s/it]"
     ]
    },
    {
     "name": "stdout",
     "output_type": "stream",
     "text": [
      "0 ('Connection aborted.', ConnectionResetError(104, 'Connection reset by peer'))\n",
      "1 ('Connection aborted.', ConnectionResetError(104, 'Connection reset by peer'))\n",
      "2 ('Connection aborted.', ConnectionResetError(104, 'Connection reset by peer'))\n"
     ]
    },
    {
     "name": "stderr",
     "output_type": "stream",
     "text": [
      "\r",
      " 27%|█████████▏                        | 4575/16986 [1:23:49<5:31:18,  1.60s/it]"
     ]
    },
    {
     "name": "stdout",
     "output_type": "stream",
     "text": [
      "0 ('Connection aborted.', ConnectionResetError(104, 'Connection reset by peer'))\n",
      "1 ('Connection aborted.', ConnectionResetError(104, 'Connection reset by peer'))\n",
      "2 ('Connection aborted.', ConnectionResetError(104, 'Connection reset by peer'))\n"
     ]
    },
    {
     "name": "stderr",
     "output_type": "stream",
     "text": [
      " 27%|█████████▏                        | 4578/16986 [1:23:52<4:05:23,  1.19s/it]"
     ]
    },
    {
     "name": "stdout",
     "output_type": "stream",
     "text": [
      "0 ('Connection aborted.', ConnectionResetError(104, 'Connection reset by peer'))\n",
      "1 ('Connection aborted.', ConnectionResetError(104, 'Connection reset by peer'))\n",
      "2 ('Connection aborted.', ConnectionResetError(104, 'Connection reset by peer'))\n"
     ]
    },
    {
     "name": "stderr",
     "output_type": "stream",
     "text": [
      "\r",
      " 27%|█████████▏                        | 4579/16986 [1:23:54<4:54:37,  1.42s/it]"
     ]
    },
    {
     "name": "stdout",
     "output_type": "stream",
     "text": [
      "0 ('Connection aborted.', ConnectionResetError(104, 'Connection reset by peer'))\n",
      "1 ('Connection aborted.', ConnectionResetError(104, 'Connection reset by peer'))\n",
      "2 ('Connection aborted.', ConnectionResetError(104, 'Connection reset by peer'))\n"
     ]
    },
    {
     "name": "stderr",
     "output_type": "stream",
     "text": [
      " 27%|█████████▏                        | 4604/16986 [1:24:12<2:10:06,  1.59it/s]"
     ]
    },
    {
     "name": "stdout",
     "output_type": "stream",
     "text": [
      "0 ('Connection aborted.', ConnectionResetError(104, 'Connection reset by peer'))\n",
      "1 ('Connection aborted.', ConnectionResetError(104, 'Connection reset by peer'))\n",
      "2 ('Connection aborted.', ConnectionResetError(104, 'Connection reset by peer'))\n"
     ]
    },
    {
     "name": "stderr",
     "output_type": "stream",
     "text": [
      " 28%|█████████▎                        | 4674/16986 [1:25:03<2:09:41,  1.58it/s]"
     ]
    },
    {
     "name": "stdout",
     "output_type": "stream",
     "text": [
      "0 ('Connection aborted.', ConnectionResetError(104, 'Connection reset by peer'))\n",
      "1 ('Connection aborted.', ConnectionResetError(104, 'Connection reset by peer'))\n",
      "2 ('Connection aborted.', ConnectionResetError(104, 'Connection reset by peer'))\n"
     ]
    },
    {
     "name": "stderr",
     "output_type": "stream",
     "text": [
      "\r",
      " 28%|█████████▎                        | 4675/16986 [1:25:05<3:30:47,  1.03s/it]"
     ]
    },
    {
     "name": "stdout",
     "output_type": "stream",
     "text": [
      "0 ('Connection aborted.', ConnectionResetError(104, 'Connection reset by peer'))\n",
      "1 ('Connection aborted.', ConnectionResetError(104, 'Connection reset by peer'))\n",
      "2 ('Connection aborted.', ConnectionResetError(104, 'Connection reset by peer'))\n"
     ]
    },
    {
     "name": "stderr",
     "output_type": "stream",
     "text": [
      "\r",
      " 28%|█████████▎                        | 4676/16986 [1:25:07<4:33:14,  1.33s/it]"
     ]
    },
    {
     "name": "stdout",
     "output_type": "stream",
     "text": [
      "0 ('Connection aborted.', ConnectionResetError(104, 'Connection reset by peer'))\n",
      "1 ('Connection aborted.', ConnectionResetError(104, 'Connection reset by peer'))\n",
      "2 ('Connection aborted.', ConnectionResetError(104, 'Connection reset by peer'))\n"
     ]
    },
    {
     "name": "stderr",
     "output_type": "stream",
     "text": [
      " 28%|█████████▎                        | 4678/16986 [1:25:11<4:46:13,  1.40s/it]"
     ]
    },
    {
     "name": "stdout",
     "output_type": "stream",
     "text": [
      "0 ('Connection aborted.', ConnectionResetError(104, 'Connection reset by peer'))\n",
      "1 ('Connection aborted.', ConnectionResetError(104, 'Connection reset by peer'))\n",
      "2 ('Connection aborted.', ConnectionResetError(104, 'Connection reset by peer'))\n"
     ]
    },
    {
     "name": "stderr",
     "output_type": "stream",
     "text": [
      " 28%|█████████▍                        | 4684/16986 [1:25:16<2:34:21,  1.33it/s]"
     ]
    },
    {
     "name": "stdout",
     "output_type": "stream",
     "text": [
      "0 ('Connection aborted.', ConnectionResetError(104, 'Connection reset by peer'))\n",
      "1 ('Connection aborted.', ConnectionResetError(104, 'Connection reset by peer'))\n",
      "2 ('Connection aborted.', ConnectionResetError(104, 'Connection reset by peer'))\n"
     ]
    },
    {
     "name": "stderr",
     "output_type": "stream",
     "text": [
      " 28%|█████████▍                        | 4733/16986 [1:25:55<2:11:24,  1.55it/s]"
     ]
    },
    {
     "name": "stdout",
     "output_type": "stream",
     "text": [
      "0 ('Connection aborted.', ConnectionResetError(104, 'Connection reset by peer'))\n",
      "1 ('Connection aborted.', ConnectionResetError(104, 'Connection reset by peer'))\n",
      "2 ('Connection aborted.', ConnectionResetError(104, 'Connection reset by peer'))\n"
     ]
    },
    {
     "name": "stderr",
     "output_type": "stream",
     "text": [
      " 28%|█████████▍                        | 4745/16986 [1:26:06<2:37:20,  1.30it/s]"
     ]
    },
    {
     "name": "stdout",
     "output_type": "stream",
     "text": [
      "0 ('Connection aborted.', ConnectionResetError(104, 'Connection reset by peer'))\n",
      "1 ('Connection aborted.', ConnectionResetError(104, 'Connection reset by peer'))\n",
      "2 ('Connection aborted.', ConnectionResetError(104, 'Connection reset by peer'))\n"
     ]
    },
    {
     "name": "stderr",
     "output_type": "stream",
     "text": [
      "\r",
      " 28%|█████████▍                        | 4746/16986 [1:26:09<4:29:58,  1.32s/it]"
     ]
    },
    {
     "name": "stdout",
     "output_type": "stream",
     "text": [
      "0 ('Connection aborted.', ConnectionResetError(104, 'Connection reset by peer'))\n",
      "1 ('Connection aborted.', ConnectionResetError(104, 'Connection reset by peer'))\n",
      "2 ('Connection aborted.', ConnectionResetError(104, 'Connection reset by peer'))\n"
     ]
    },
    {
     "name": "stderr",
     "output_type": "stream",
     "text": [
      " 28%|█████████▌                        | 4754/16986 [1:26:15<2:07:07,  1.60it/s]"
     ]
    },
    {
     "name": "stdout",
     "output_type": "stream",
     "text": [
      "0 ('Connection aborted.', ConnectionResetError(104, 'Connection reset by peer'))\n",
      "1 ('Connection aborted.', ConnectionResetError(104, 'Connection reset by peer'))\n",
      "2 ('Connection aborted.', ConnectionResetError(104, 'Connection reset by peer'))\n"
     ]
    },
    {
     "name": "stderr",
     "output_type": "stream",
     "text": [
      " 28%|█████████▌                        | 4767/16986 [1:26:25<1:54:32,  1.78it/s]"
     ]
    },
    {
     "name": "stdout",
     "output_type": "stream",
     "text": [
      "0 ('Connection aborted.', ConnectionResetError(104, 'Connection reset by peer'))\n",
      "1 ('Connection aborted.', ConnectionResetError(104, 'Connection reset by peer'))\n",
      "2 ('Connection aborted.', ConnectionResetError(104, 'Connection reset by peer'))\n"
     ]
    },
    {
     "name": "stderr",
     "output_type": "stream",
     "text": [
      " 28%|█████████▌                        | 4807/16986 [1:26:56<3:20:27,  1.01it/s]"
     ]
    },
    {
     "name": "stdout",
     "output_type": "stream",
     "text": [
      "0 ('Connection aborted.', ConnectionResetError(104, 'Connection reset by peer'))\n",
      "1 ('Connection aborted.', ConnectionResetError(104, 'Connection reset by peer'))\n",
      "2 ('Connection aborted.', ConnectionResetError(104, 'Connection reset by peer'))\n"
     ]
    },
    {
     "name": "stderr",
     "output_type": "stream",
     "text": [
      " 29%|█████████▋                        | 4859/16986 [1:27:33<2:09:32,  1.56it/s]"
     ]
    },
    {
     "name": "stdout",
     "output_type": "stream",
     "text": [
      "0 ('Connection aborted.', ConnectionResetError(104, 'Connection reset by peer'))\n",
      "1 ('Connection aborted.', ConnectionResetError(104, 'Connection reset by peer'))\n",
      "2 ('Connection aborted.', ConnectionResetError(104, 'Connection reset by peer'))\n"
     ]
    },
    {
     "name": "stderr",
     "output_type": "stream",
     "text": [
      " 29%|█████████▊                        | 4879/16986 [1:27:47<2:03:18,  1.64it/s]"
     ]
    },
    {
     "name": "stdout",
     "output_type": "stream",
     "text": [
      "0 ('Connection aborted.', ConnectionResetError(104, 'Connection reset by peer'))\n",
      "1 ('Connection aborted.', ConnectionResetError(104, 'Connection reset by peer'))\n",
      "2 ('Connection aborted.', ConnectionResetError(104, 'Connection reset by peer'))\n"
     ]
    },
    {
     "name": "stderr",
     "output_type": "stream",
     "text": [
      " 29%|█████████▊                        | 4895/16986 [1:28:00<2:09:41,  1.55it/s]"
     ]
    },
    {
     "name": "stdout",
     "output_type": "stream",
     "text": [
      "0 ('Connection aborted.', ConnectionResetError(104, 'Connection reset by peer'))\n",
      "1 ('Connection aborted.', ConnectionResetError(104, 'Connection reset by peer'))\n",
      "2 ('Connection aborted.', ConnectionResetError(104, 'Connection reset by peer'))\n"
     ]
    },
    {
     "name": "stderr",
     "output_type": "stream",
     "text": [
      " 29%|█████████▊                        | 4906/16986 [1:28:10<2:18:42,  1.45it/s]"
     ]
    },
    {
     "name": "stdout",
     "output_type": "stream",
     "text": [
      "0 ('Connection aborted.', ConnectionResetError(104, 'Connection reset by peer'))\n",
      "1 ('Connection aborted.', ConnectionResetError(104, 'Connection reset by peer'))\n",
      "2 ('Connection aborted.', ConnectionResetError(104, 'Connection reset by peer'))\n"
     ]
    },
    {
     "name": "stderr",
     "output_type": "stream",
     "text": [
      " 29%|█████████▊                        | 4913/16986 [1:28:16<2:06:15,  1.59it/s]"
     ]
    },
    {
     "name": "stdout",
     "output_type": "stream",
     "text": [
      "0 ('Connection aborted.', ConnectionResetError(104, 'Connection reset by peer'))\n",
      "1 ('Connection aborted.', ConnectionResetError(104, 'Connection reset by peer'))\n",
      "2 ('Connection aborted.', ConnectionResetError(104, 'Connection reset by peer'))\n"
     ]
    },
    {
     "name": "stderr",
     "output_type": "stream",
     "text": [
      " 29%|█████████▉                        | 4947/16986 [1:28:39<2:03:34,  1.62it/s]"
     ]
    },
    {
     "name": "stdout",
     "output_type": "stream",
     "text": [
      "0 ('Connection aborted.', ConnectionResetError(104, 'Connection reset by peer'))\n",
      "1 ('Connection aborted.', ConnectionResetError(104, 'Connection reset by peer'))\n",
      "2 ('Connection aborted.', ConnectionResetError(104, 'Connection reset by peer'))\n"
     ]
    },
    {
     "name": "stderr",
     "output_type": "stream",
     "text": [
      " 29%|█████████▉                        | 4949/16986 [1:28:42<2:56:45,  1.14it/s]"
     ]
    },
    {
     "name": "stdout",
     "output_type": "stream",
     "text": [
      "0 ('Connection aborted.', ConnectionResetError(104, 'Connection reset by peer'))\n",
      "1 ('Connection aborted.', ConnectionResetError(104, 'Connection reset by peer'))\n",
      "2 ('Connection aborted.', ConnectionResetError(104, 'Connection reset by peer'))\n"
     ]
    },
    {
     "name": "stderr",
     "output_type": "stream",
     "text": [
      " 32%|██████████▊                       | 5415/16986 [1:53:59<4:16:37,  1.33s/it]"
     ]
    },
    {
     "name": "stdout",
     "output_type": "stream",
     "text": [
      "0 ('Connection aborted.', ConnectionResetError(104, 'Connection reset by peer'))\n",
      "1 ('Connection aborted.', ConnectionResetError(104, 'Connection reset by peer'))\n",
      "2 ('Connection aborted.', ConnectionResetError(104, 'Connection reset by peer'))\n"
     ]
    },
    {
     "name": "stderr",
     "output_type": "stream",
     "text": [
      " 32%|███████████                       | 5505/16986 [1:55:10<1:58:39,  1.61it/s]"
     ]
    },
    {
     "name": "stdout",
     "output_type": "stream",
     "text": [
      "0 ('Connection aborted.', ConnectionResetError(104, 'Connection reset by peer'))\n",
      "1 ('Connection aborted.', ConnectionResetError(104, 'Connection reset by peer'))\n",
      "2 ('Connection aborted.', ConnectionResetError(104, 'Connection reset by peer'))\n"
     ]
    },
    {
     "name": "stderr",
     "output_type": "stream",
     "text": [
      " 33%|██████████▋                      | 5530/16986 [1:56:01<12:07:35,  3.81s/it]"
     ]
    },
    {
     "name": "stdout",
     "output_type": "stream",
     "text": [
      "0 ('Connection aborted.', ConnectionResetError(104, 'Connection reset by peer'))\n",
      "1 ('Connection aborted.', ConnectionResetError(104, 'Connection reset by peer'))\n",
      "2 ('Connection aborted.', ConnectionResetError(104, 'Connection reset by peer'))\n"
     ]
    },
    {
     "name": "stderr",
     "output_type": "stream",
     "text": [
      " 33%|███████████▏                      | 5564/16986 [1:58:07<6:30:10,  2.05s/it]"
     ]
    },
    {
     "name": "stdout",
     "output_type": "stream",
     "text": [
      "0 ('Connection aborted.', ConnectionResetError(104, 'Connection reset by peer'))\n",
      "1 ('Connection aborted.', ConnectionResetError(104, 'Connection reset by peer'))\n",
      "2 ('Connection aborted.', ConnectionResetError(104, 'Connection reset by peer'))\n"
     ]
    },
    {
     "name": "stderr",
     "output_type": "stream",
     "text": [
      " 33%|██████████▉                      | 5659/16986 [2:01:29<14:49:16,  4.71s/it]"
     ]
    },
    {
     "name": "stdout",
     "output_type": "stream",
     "text": [
      "0 ('Connection aborted.', ConnectionResetError(104, 'Connection reset by peer'))\n",
      "1 ('Connection aborted.', ConnectionResetError(104, 'Connection reset by peer'))\n",
      "2 ('Connection aborted.', ConnectionResetError(104, 'Connection reset by peer'))\n"
     ]
    },
    {
     "name": "stderr",
     "output_type": "stream",
     "text": [
      " 33%|███████████▍                      | 5683/16986 [2:02:37<4:04:52,  1.30s/it]"
     ]
    },
    {
     "name": "stdout",
     "output_type": "stream",
     "text": [
      "0 ('Connection aborted.', ConnectionResetError(104, 'Connection reset by peer'))\n",
      "1 ('Connection aborted.', ConnectionResetError(104, 'Connection reset by peer'))\n",
      "2 ('Connection aborted.', ConnectionResetError(104, 'Connection reset by peer'))\n"
     ]
    },
    {
     "name": "stderr",
     "output_type": "stream",
     "text": [
      " 34%|███████████▏                     | 5731/16986 [2:04:59<10:17:17,  3.29s/it]"
     ]
    },
    {
     "name": "stdout",
     "output_type": "stream",
     "text": [
      "0 ('Connection aborted.', ConnectionResetError(104, 'Connection reset by peer'))\n",
      "1 ('Connection aborted.', ConnectionResetError(104, 'Connection reset by peer'))\n",
      "2 ('Connection aborted.', ConnectionResetError(104, 'Connection reset by peer'))\n"
     ]
    },
    {
     "name": "stderr",
     "output_type": "stream",
     "text": [
      " 34%|███████████▌                      | 5772/16986 [2:06:14<2:06:15,  1.48it/s]"
     ]
    },
    {
     "name": "stdout",
     "output_type": "stream",
     "text": [
      "0 ('Connection aborted.', ConnectionResetError(104, 'Connection reset by peer'))\n",
      "1 ('Connection aborted.', ConnectionResetError(104, 'Connection reset by peer'))\n",
      "2 ('Connection aborted.', ConnectionResetError(104, 'Connection reset by peer'))\n"
     ]
    },
    {
     "name": "stderr",
     "output_type": "stream",
     "text": [
      " 35%|███████████▍                     | 5877/16986 [2:14:09<15:07:11,  4.90s/it]"
     ]
    },
    {
     "name": "stdout",
     "output_type": "stream",
     "text": [
      "0 ('Connection aborted.', ConnectionResetError(104, 'Connection reset by peer'))\n",
      "1 ('Connection aborted.', ConnectionResetError(104, 'Connection reset by peer'))\n",
      "2 ('Connection aborted.', ConnectionResetError(104, 'Connection reset by peer'))\n"
     ]
    },
    {
     "name": "stderr",
     "output_type": "stream",
     "text": [
      " 35%|███████████▊                      | 5893/16986 [2:14:27<2:20:19,  1.32it/s]"
     ]
    },
    {
     "name": "stdout",
     "output_type": "stream",
     "text": [
      "0 ('Connection aborted.', ConnectionResetError(104, 'Connection reset by peer'))\n",
      "1 ('Connection aborted.', ConnectionResetError(104, 'Connection reset by peer'))\n",
      "2 ('Connection aborted.', ConnectionResetError(104, 'Connection reset by peer'))\n"
     ]
    },
    {
     "name": "stderr",
     "output_type": "stream",
     "text": [
      " 37%|████████████▏                    | 6264/16986 [2:26:45<15:02:43,  5.05s/it]"
     ]
    },
    {
     "name": "stdout",
     "output_type": "stream",
     "text": [
      "0 ('Connection aborted.', ConnectionResetError(104, 'Connection reset by peer'))\n",
      "1 ('Connection aborted.', ConnectionResetError(104, 'Connection reset by peer'))\n",
      "2 ('Connection aborted.', ConnectionResetError(104, 'Connection reset by peer'))\n"
     ]
    },
    {
     "name": "stderr",
     "output_type": "stream",
     "text": [
      "\r",
      " 37%|████████████▏                    | 6265/16986 [2:26:47<12:17:14,  4.13s/it]"
     ]
    },
    {
     "name": "stdout",
     "output_type": "stream",
     "text": [
      "0 ('Connection aborted.', ConnectionResetError(104, 'Connection reset by peer'))\n",
      "1 ('Connection aborted.', ConnectionResetError(104, 'Connection reset by peer'))\n",
      "2 ('Connection aborted.', ConnectionResetError(104, 'Connection reset by peer'))\n"
     ]
    },
    {
     "name": "stderr",
     "output_type": "stream",
     "text": [
      " 39%|█████████████                     | 6540/16986 [2:47:21<8:21:24,  2.88s/it]"
     ]
    },
    {
     "name": "stdout",
     "output_type": "stream",
     "text": [
      "0 ('Connection aborted.', ConnectionResetError(104, 'Connection reset by peer'))\n",
      "1 ('Connection aborted.', ConnectionResetError(104, 'Connection reset by peer'))\n",
      "2 ('Connection aborted.', ConnectionResetError(104, 'Connection reset by peer'))\n"
     ]
    },
    {
     "name": "stderr",
     "output_type": "stream",
     "text": [
      " 39%|█████████████                     | 6547/16986 [2:47:30<2:53:19,  1.00it/s]"
     ]
    },
    {
     "name": "stdout",
     "output_type": "stream",
     "text": [
      "0 ('Connection aborted.', ConnectionResetError(104, 'Connection reset by peer'))\n",
      "1 ('Connection aborted.', ConnectionResetError(104, 'Connection reset by peer'))\n",
      "2 ('Connection aborted.', ConnectionResetError(104, 'Connection reset by peer'))\n"
     ]
    },
    {
     "name": "stderr",
     "output_type": "stream",
     "text": [
      " 39%|████████████▊                    | 6577/16986 [2:51:00<28:14:36,  9.77s/it]"
     ]
    },
    {
     "name": "stdout",
     "output_type": "stream",
     "text": [
      "0 ('Connection aborted.', ConnectionResetError(104, 'Connection reset by peer'))\n",
      "1 ('Connection aborted.', ConnectionResetError(104, 'Connection reset by peer'))\n",
      "2 ('Connection aborted.', ConnectionResetError(104, 'Connection reset by peer'))\n"
     ]
    },
    {
     "name": "stderr",
     "output_type": "stream",
     "text": [
      "\r",
      " 39%|████████████▊                    | 6578/16986 [2:51:02<21:24:24,  7.40s/it]"
     ]
    },
    {
     "name": "stdout",
     "output_type": "stream",
     "text": [
      "0 ('Connection aborted.', ConnectionResetError(104, 'Connection reset by peer'))\n",
      "1 ('Connection aborted.', ConnectionResetError(104, 'Connection reset by peer'))\n",
      "2 ('Connection aborted.', ConnectionResetError(104, 'Connection reset by peer'))\n"
     ]
    },
    {
     "name": "stderr",
     "output_type": "stream",
     "text": [
      " 39%|█████████████▏                    | 6594/16986 [2:52:29<6:20:32,  2.20s/it]"
     ]
    },
    {
     "name": "stdout",
     "output_type": "stream",
     "text": [
      "0 ('Connection aborted.', ConnectionResetError(104, 'Connection reset by peer'))\n",
      "1 ('Connection aborted.', ConnectionResetError(104, 'Connection reset by peer'))\n",
      "2 ('Connection aborted.', ConnectionResetError(104, 'Connection reset by peer'))\n"
     ]
    },
    {
     "name": "stderr",
     "output_type": "stream",
     "text": [
      " 40%|█████████████▋                    | 6822/16986 [3:07:09<4:58:34,  1.76s/it]"
     ]
    },
    {
     "name": "stdout",
     "output_type": "stream",
     "text": [
      "0 ('Connection aborted.', ConnectionResetError(104, 'Connection reset by peer'))\n",
      "1 ('Connection aborted.', ConnectionResetError(104, 'Connection reset by peer'))\n",
      "2 ('Connection aborted.', ConnectionResetError(104, 'Connection reset by peer'))\n"
     ]
    },
    {
     "name": "stderr",
     "output_type": "stream",
     "text": [
      " 40%|█████████████▎                   | 6828/16986 [3:08:07<23:35:53,  8.36s/it]"
     ]
    },
    {
     "name": "stdout",
     "output_type": "stream",
     "text": [
      "0 ('Connection aborted.', ConnectionResetError(104, 'Connection reset by peer'))\n",
      "1 ('Connection aborted.', ConnectionResetError(104, 'Connection reset by peer'))\n",
      "2 ('Connection aborted.', ConnectionResetError(104, 'Connection reset by peer'))\n"
     ]
    },
    {
     "name": "stderr",
     "output_type": "stream",
     "text": [
      " 41%|█████████████▊                    | 6900/16986 [3:14:17<3:42:47,  1.33s/it]"
     ]
    },
    {
     "name": "stdout",
     "output_type": "stream",
     "text": [
      "0 ('Connection aborted.', ConnectionResetError(104, 'Connection reset by peer'))\n",
      "1 ('Connection aborted.', ConnectionResetError(104, 'Connection reset by peer'))\n",
      "2 ('Connection aborted.', ConnectionResetError(104, 'Connection reset by peer'))\n"
     ]
    },
    {
     "name": "stderr",
     "output_type": "stream",
     "text": [
      " 41%|█████████████▊                    | 6926/16986 [3:16:56<8:15:31,  2.96s/it]"
     ]
    },
    {
     "name": "stdout",
     "output_type": "stream",
     "text": [
      "0 ('Connection aborted.', ConnectionResetError(104, 'Connection reset by peer'))\n",
      "1 ('Connection aborted.', ConnectionResetError(104, 'Connection reset by peer'))\n",
      "2 ('Connection aborted.', ConnectionResetError(104, 'Connection reset by peer'))\n"
     ]
    },
    {
     "name": "stderr",
     "output_type": "stream",
     "text": [
      " 41%|█████████████▌                   | 6962/16986 [3:21:08<29:03:05, 10.43s/it]"
     ]
    },
    {
     "name": "stdout",
     "output_type": "stream",
     "text": [
      "0 ('Connection aborted.', ConnectionResetError(104, 'Connection reset by peer'))\n",
      "1 ('Connection aborted.', ConnectionResetError(104, 'Connection reset by peer'))\n",
      "2 ('Connection aborted.', ConnectionResetError(104, 'Connection reset by peer'))\n"
     ]
    },
    {
     "name": "stderr",
     "output_type": "stream",
     "text": [
      " 41%|█████████████▌                   | 6978/16986 [3:23:07<41:02:51, 14.77s/it]"
     ]
    },
    {
     "name": "stdout",
     "output_type": "stream",
     "text": [
      "0 ('Connection aborted.', ConnectionResetError(104, 'Connection reset by peer'))\n",
      "1 ('Connection aborted.', ConnectionResetError(104, 'Connection reset by peer'))\n",
      "2 ('Connection aborted.', ConnectionResetError(104, 'Connection reset by peer'))\n"
     ]
    },
    {
     "name": "stderr",
     "output_type": "stream",
     "text": [
      "\r",
      " 41%|█████████████▌                   | 6979/16986 [3:23:10<30:30:06, 10.97s/it]"
     ]
    },
    {
     "name": "stdout",
     "output_type": "stream",
     "text": [
      "0 ('Connection aborted.', ConnectionResetError(104, 'Connection reset by peer'))\n",
      "1 ('Connection aborted.', ConnectionResetError(104, 'Connection reset by peer'))\n",
      "2 ('Connection aborted.', ConnectionResetError(104, 'Connection reset by peer'))\n"
     ]
    },
    {
     "name": "stderr",
     "output_type": "stream",
     "text": [
      " 41%|█████████████▋                   | 7024/16986 [3:28:33<26:14:07,  9.48s/it]"
     ]
    },
    {
     "name": "stdout",
     "output_type": "stream",
     "text": [
      "0 ('Connection aborted.', ConnectionResetError(104, 'Connection reset by peer'))\n",
      "1 ('Connection aborted.', ConnectionResetError(104, 'Connection reset by peer'))\n",
      "2 ('Connection aborted.', ConnectionResetError(104, 'Connection reset by peer'))\n"
     ]
    },
    {
     "name": "stderr",
     "output_type": "stream",
     "text": [
      " 42%|██████████████▏                   | 7062/16986 [3:33:27<6:53:13,  2.50s/it]"
     ]
    },
    {
     "name": "stdout",
     "output_type": "stream",
     "text": [
      "0 ('Connection aborted.', ConnectionResetError(104, 'Connection reset by peer'))\n",
      "1 ('Connection aborted.', ConnectionResetError(104, 'Connection reset by peer'))\n",
      "2 ('Connection aborted.', ConnectionResetError(104, 'Connection reset by peer'))\n"
     ]
    },
    {
     "name": "stderr",
     "output_type": "stream",
     "text": [
      " 42%|██████████████▏                   | 7064/16986 [3:33:30<5:32:41,  2.01s/it]IOPub message rate exceeded.\n",
      "The notebook server will temporarily stop sending output\n",
      "to the client in order to avoid crashing it.\n",
      "To change this limit, set the config variable\n",
      "`--NotebookApp.iopub_msg_rate_limit`.\n",
      "\n",
      "Current values:\n",
      "NotebookApp.iopub_msg_rate_limit=1000.0 (msgs/sec)\n",
      "NotebookApp.rate_limit_window=3.0 (secs)\n",
      "\n",
      " 81%|████████████████████████████▍      | 13784/16986 [7:46:39<56:07,  1.05s/it]"
     ]
    },
    {
     "name": "stdout",
     "output_type": "stream",
     "text": [
      "0 ('Connection aborted.', ConnectionResetError(104, 'Connection reset by peer'))\n",
      "1 ('Connection aborted.', ConnectionResetError(104, 'Connection reset by peer'))\n",
      "2 ('Connection aborted.', ConnectionResetError(104, 'Connection reset by peer'))\n"
     ]
    },
    {
     "name": "stderr",
     "output_type": "stream",
     "text": [
      " 82%|███████████████████████████▏     | 13970/16986 [7:55:15<3:03:56,  3.66s/it]"
     ]
    },
    {
     "name": "stdout",
     "output_type": "stream",
     "text": [
      "0 ('Connection aborted.', ConnectionResetError(104, 'Connection reset by peer'))\n",
      "1 ('Connection aborted.', ConnectionResetError(104, 'Connection reset by peer'))\n",
      "2 ('Connection aborted.', ConnectionResetError(104, 'Connection reset by peer'))\n"
     ]
    },
    {
     "name": "stderr",
     "output_type": "stream",
     "text": [
      "\r",
      " 82%|███████████████████████████▏     | 13971/16986 [7:55:18<2:57:58,  3.54s/it]"
     ]
    },
    {
     "name": "stdout",
     "output_type": "stream",
     "text": [
      "0 ('Connection aborted.', ConnectionResetError(104, 'Connection reset by peer'))\n",
      "1 ('Connection aborted.', ConnectionResetError(104, 'Connection reset by peer'))\n",
      "2 ('Connection aborted.', ConnectionResetError(104, 'Connection reset by peer'))\n"
     ]
    },
    {
     "name": "stderr",
     "output_type": "stream",
     "text": [
      " 83%|███████████████████████████▍     | 14108/16986 [8:02:44<3:01:59,  3.79s/it]"
     ]
    },
    {
     "name": "stdout",
     "output_type": "stream",
     "text": [
      "0 ('Connection aborted.', ConnectionResetError(104, 'Connection reset by peer'))\n",
      "1 ('Connection aborted.', ConnectionResetError(104, 'Connection reset by peer'))\n",
      "2 ('Connection aborted.', ConnectionResetError(104, 'Connection reset by peer'))\n"
     ]
    },
    {
     "name": "stderr",
     "output_type": "stream",
     "text": [
      " 84%|█████████████████████████████▎     | 14221/16986 [8:06:17<48:02,  1.04s/it]"
     ]
    },
    {
     "name": "stdout",
     "output_type": "stream",
     "text": [
      "0 ('Connection aborted.', ConnectionResetError(104, 'Connection reset by peer'))\n",
      "1 ('Connection aborted.', ConnectionResetError(104, 'Connection reset by peer'))\n",
      "2 ('Connection aborted.', ConnectionResetError(104, 'Connection reset by peer'))\n"
     ]
    },
    {
     "name": "stderr",
     "output_type": "stream",
     "text": [
      "\r",
      " 84%|███████████████████████████▋     | 14222/16986 [8:06:19<1:01:34,  1.34s/it]"
     ]
    },
    {
     "name": "stdout",
     "output_type": "stream",
     "text": [
      "0 ('Connection aborted.', ConnectionResetError(104, 'Connection reset by peer'))\n",
      "1 ('Connection aborted.', ConnectionResetError(104, 'Connection reset by peer'))\n",
      "2 ('Connection aborted.', ConnectionResetError(104, 'Connection reset by peer'))\n"
     ]
    },
    {
     "name": "stderr",
     "output_type": "stream",
     "text": [
      "\r",
      " 84%|███████████████████████████▋     | 14223/16986 [8:06:22<1:17:14,  1.68s/it]"
     ]
    },
    {
     "name": "stdout",
     "output_type": "stream",
     "text": [
      "0 ('Connection aborted.', ConnectionResetError(104, 'Connection reset by peer'))\n",
      "1 ('Connection aborted.', ConnectionResetError(104, 'Connection reset by peer'))\n",
      "2 ('Connection aborted.', ConnectionResetError(104, 'Connection reset by peer'))\n"
     ]
    },
    {
     "name": "stderr",
     "output_type": "stream",
     "text": [
      "\r",
      " 84%|███████████████████████████▋     | 14224/16986 [8:06:24<1:24:55,  1.84s/it]"
     ]
    },
    {
     "name": "stdout",
     "output_type": "stream",
     "text": [
      "0 ('Connection aborted.', ConnectionResetError(104, 'Connection reset by peer'))\n",
      "1 ('Connection aborted.', ConnectionResetError(104, 'Connection reset by peer'))\n",
      "2 ('Connection aborted.', ConnectionResetError(104, 'Connection reset by peer'))\n"
     ]
    },
    {
     "name": "stderr",
     "output_type": "stream",
     "text": [
      " 84%|█████████████████████████████▍     | 14285/16986 [8:07:43<50:04,  1.11s/it]"
     ]
    },
    {
     "name": "stdout",
     "output_type": "stream",
     "text": [
      "0 ('Connection aborted.', ConnectionResetError(104, 'Connection reset by peer'))\n",
      "1 ('Connection aborted.', ConnectionResetError(104, 'Connection reset by peer'))\n",
      "2 ('Connection aborted.', ConnectionResetError(104, 'Connection reset by peer'))\n"
     ]
    },
    {
     "name": "stderr",
     "output_type": "stream",
     "text": [
      "\r",
      " 84%|███████████████████████████▊     | 14286/16986 [8:07:46<1:08:16,  1.52s/it]"
     ]
    },
    {
     "name": "stdout",
     "output_type": "stream",
     "text": [
      "0 ('Connection aborted.', ConnectionResetError(104, 'Connection reset by peer'))\n",
      "1 ('Connection aborted.', ConnectionResetError(104, 'Connection reset by peer'))\n",
      "2 ('Connection aborted.', ConnectionResetError(104, 'Connection reset by peer'))\n"
     ]
    },
    {
     "name": "stderr",
     "output_type": "stream",
     "text": [
      " 84%|███████████████████████████▊     | 14342/16986 [8:13:17<8:18:47, 11.32s/it]"
     ]
    },
    {
     "name": "stdout",
     "output_type": "stream",
     "text": [
      "0 ('Connection aborted.', ConnectionResetError(104, 'Connection reset by peer'))\n",
      "1 ('Connection aborted.', ConnectionResetError(104, 'Connection reset by peer'))\n",
      "2 ('Connection aborted.', ConnectionResetError(104, 'Connection reset by peer'))\n"
     ]
    },
    {
     "name": "stderr",
     "output_type": "stream",
     "text": [
      " 85%|███████████████████████████▉     | 14398/16986 [8:14:42<1:37:40,  2.26s/it]"
     ]
    },
    {
     "name": "stdout",
     "output_type": "stream",
     "text": [
      "0 ('Connection aborted.', ConnectionResetError(104, 'Connection reset by peer'))\n",
      "1 ('Connection aborted.', ConnectionResetError(104, 'Connection reset by peer'))\n",
      "2 ('Connection aborted.', ConnectionResetError(104, 'Connection reset by peer'))\n"
     ]
    },
    {
     "name": "stderr",
     "output_type": "stream",
     "text": [
      " 86%|████████████████████████████▎    | 14552/16986 [8:22:38<1:57:46,  2.90s/it]"
     ]
    },
    {
     "name": "stdout",
     "output_type": "stream",
     "text": [
      "0 ('Connection aborted.', ConnectionResetError(104, 'Connection reset by peer'))\n",
      "1 ('Connection aborted.', ConnectionResetError(104, 'Connection reset by peer'))\n",
      "2 ('Connection aborted.', ConnectionResetError(104, 'Connection reset by peer'))\n"
     ]
    },
    {
     "name": "stderr",
     "output_type": "stream",
     "text": [
      "\r",
      " 86%|████████████████████████████▎    | 14553/16986 [8:22:40<1:46:54,  2.64s/it]"
     ]
    },
    {
     "name": "stdout",
     "output_type": "stream",
     "text": [
      "0 ('Connection aborted.', ConnectionResetError(104, 'Connection reset by peer'))\n",
      "1 ('Connection aborted.', ConnectionResetError(104, 'Connection reset by peer'))\n",
      "2 ('Connection aborted.', ConnectionResetError(104, 'Connection reset by peer'))\n"
     ]
    },
    {
     "name": "stderr",
     "output_type": "stream",
     "text": [
      " 86%|██████████████████████████████     | 14568/16986 [8:23:19<50:53,  1.26s/it]"
     ]
    },
    {
     "name": "stdout",
     "output_type": "stream",
     "text": [
      "0 ('Connection aborted.', ConnectionResetError(104, 'Connection reset by peer'))\n",
      "1 ('Connection aborted.', ConnectionResetError(104, 'Connection reset by peer'))\n",
      "2 ('Connection aborted.', ConnectionResetError(104, 'Connection reset by peer'))\n"
     ]
    },
    {
     "name": "stderr",
     "output_type": "stream",
     "text": [
      " 86%|██████████████████████████████     | 14608/16986 [8:24:19<59:02,  1.49s/it]"
     ]
    },
    {
     "name": "stdout",
     "output_type": "stream",
     "text": [
      "0 ('Connection aborted.', ConnectionResetError(104, 'Connection reset by peer'))\n",
      "1 ('Connection aborted.', ConnectionResetError(104, 'Connection reset by peer'))\n",
      "2 ('Connection aborted.', ConnectionResetError(104, 'Connection reset by peer'))\n"
     ]
    },
    {
     "name": "stderr",
     "output_type": "stream",
     "text": [
      " 86%|██████████████████████████████▎    | 14688/16986 [8:26:45<53:07,  1.39s/it]"
     ]
    },
    {
     "name": "stdout",
     "output_type": "stream",
     "text": [
      "0 ('Connection aborted.', ConnectionResetError(104, 'Connection reset by peer'))\n",
      "1 ('Connection aborted.', ConnectionResetError(104, 'Connection reset by peer'))\n",
      "2 ('Connection aborted.', ConnectionResetError(104, 'Connection reset by peer'))\n"
     ]
    },
    {
     "name": "stderr",
     "output_type": "stream",
     "text": [
      "\r",
      " 86%|████████████████████████████▌    | 14689/16986 [8:26:47<1:02:41,  1.64s/it]"
     ]
    },
    {
     "name": "stdout",
     "output_type": "stream",
     "text": [
      "0 ('Connection aborted.', ConnectionResetError(104, 'Connection reset by peer'))\n",
      "1 ('Connection aborted.', ConnectionResetError(104, 'Connection reset by peer'))\n",
      "2 ('Connection aborted.', ConnectionResetError(104, 'Connection reset by peer'))\n"
     ]
    },
    {
     "name": "stderr",
     "output_type": "stream",
     "text": [
      " 88%|████████████████████████████▉    | 14870/16986 [8:32:14<1:20:33,  2.28s/it]"
     ]
    },
    {
     "name": "stdout",
     "output_type": "stream",
     "text": [
      "0 ('Connection aborted.', ConnectionResetError(104, 'Connection reset by peer'))\n",
      "1 ('Connection aborted.', ConnectionResetError(104, 'Connection reset by peer'))\n",
      "2 ('Connection aborted.', ConnectionResetError(104, 'Connection reset by peer'))\n"
     ]
    },
    {
     "name": "stderr",
     "output_type": "stream",
     "text": [
      "\r",
      " 88%|████████████████████████████▉    | 14871/16986 [8:32:20<1:56:00,  3.29s/it]"
     ]
    },
    {
     "name": "stdout",
     "output_type": "stream",
     "text": [
      "0 ('Connection aborted.', ConnectionResetError(104, 'Connection reset by peer'))\n",
      "1 ('Connection aborted.', ConnectionResetError(104, 'Connection reset by peer'))\n",
      "2 ('Connection aborted.', ConnectionResetError(104, 'Connection reset by peer'))\n"
     ]
    },
    {
     "name": "stderr",
     "output_type": "stream",
     "text": [
      " 88%|████████████████████████████▉    | 14885/16986 [8:33:15<2:14:43,  3.85s/it]"
     ]
    },
    {
     "name": "stdout",
     "output_type": "stream",
     "text": [
      "0 ('Connection aborted.', ConnectionResetError(104, 'Connection reset by peer'))\n",
      "1 ('Connection aborted.', ConnectionResetError(104, 'Connection reset by peer'))\n",
      "2 ('Connection aborted.', ConnectionResetError(104, 'Connection reset by peer'))\n"
     ]
    },
    {
     "name": "stderr",
     "output_type": "stream",
     "text": [
      " 88%|████████████████████████████▉    | 14927/16986 [8:35:28<2:47:35,  4.88s/it]"
     ]
    },
    {
     "name": "stdout",
     "output_type": "stream",
     "text": [
      "0 ('Connection aborted.', ConnectionResetError(104, 'Connection reset by peer'))\n",
      "1 ('Connection aborted.', ConnectionResetError(104, 'Connection reset by peer'))\n",
      "2 ('Connection aborted.', ConnectionResetError(104, 'Connection reset by peer'))\n"
     ]
    },
    {
     "name": "stderr",
     "output_type": "stream",
     "text": [
      " 88%|█████████████████████████████    | 14937/16986 [8:35:58<1:30:07,  2.64s/it]"
     ]
    },
    {
     "name": "stdout",
     "output_type": "stream",
     "text": [
      "0 ('Connection aborted.', ConnectionResetError(104, 'Connection reset by peer'))\n",
      "1 ('Connection aborted.', ConnectionResetError(104, 'Connection reset by peer'))\n",
      "2 ('Connection aborted.', ConnectionResetError(104, 'Connection reset by peer'))\n"
     ]
    },
    {
     "name": "stderr",
     "output_type": "stream",
     "text": [
      " 88%|█████████████████████████████    | 14943/16986 [8:36:15<1:38:02,  2.88s/it]"
     ]
    },
    {
     "name": "stdout",
     "output_type": "stream",
     "text": [
      "0 ('Connection aborted.', ConnectionResetError(104, 'Connection reset by peer'))\n",
      "1 ('Connection aborted.', ConnectionResetError(104, 'Connection reset by peer'))\n",
      "2 ('Connection aborted.', ConnectionResetError(104, 'Connection reset by peer'))\n"
     ]
    },
    {
     "name": "stderr",
     "output_type": "stream",
     "text": [
      " 88%|█████████████████████████████    | 14950/16986 [8:36:34<1:27:37,  2.58s/it]"
     ]
    },
    {
     "name": "stdout",
     "output_type": "stream",
     "text": [
      "0 ('Connection aborted.', ConnectionResetError(104, 'Connection reset by peer'))\n",
      "1 ('Connection aborted.', ConnectionResetError(104, 'Connection reset by peer'))\n",
      "2 ('Connection aborted.', ConnectionResetError(104, 'Connection reset by peer'))\n"
     ]
    },
    {
     "name": "stderr",
     "output_type": "stream",
     "text": [
      " 88%|█████████████████████████████    | 14957/16986 [8:36:56<1:36:50,  2.86s/it]"
     ]
    },
    {
     "name": "stdout",
     "output_type": "stream",
     "text": [
      "0 ('Connection aborted.', ConnectionResetError(104, 'Connection reset by peer'))\n",
      "1 ('Connection aborted.', ConnectionResetError(104, 'Connection reset by peer'))\n",
      "2 ('Connection aborted.', ConnectionResetError(104, 'Connection reset by peer'))\n"
     ]
    },
    {
     "name": "stderr",
     "output_type": "stream",
     "text": [
      " 88%|█████████████████████████████▏   | 14998/16986 [8:39:06<1:59:13,  3.60s/it]"
     ]
    },
    {
     "name": "stdout",
     "output_type": "stream",
     "text": [
      "0 ('Connection aborted.', ConnectionResetError(104, 'Connection reset by peer'))\n",
      "1 ('Connection aborted.', ConnectionResetError(104, 'Connection reset by peer'))\n",
      "2 ('Connection aborted.', ConnectionResetError(104, 'Connection reset by peer'))\n"
     ]
    },
    {
     "name": "stderr",
     "output_type": "stream",
     "text": [
      "\r",
      " 88%|█████████████████████████████▏   | 14999/16986 [8:39:10<1:59:48,  3.62s/it]"
     ]
    },
    {
     "name": "stdout",
     "output_type": "stream",
     "text": [
      "0 ('Connection aborted.', ConnectionResetError(104, 'Connection reset by peer'))\n",
      "1 ('Connection aborted.', ConnectionResetError(104, 'Connection reset by peer'))\n",
      "2 ('Connection aborted.', ConnectionResetError(104, 'Connection reset by peer'))\n"
     ]
    },
    {
     "name": "stderr",
     "output_type": "stream",
     "text": [
      " 88%|█████████████████████████████▏   | 15016/16986 [8:40:09<1:57:22,  3.57s/it]"
     ]
    },
    {
     "name": "stdout",
     "output_type": "stream",
     "text": [
      "0 ('Connection aborted.', ConnectionResetError(104, 'Connection reset by peer'))\n",
      "1 ('Connection aborted.', ConnectionResetError(104, 'Connection reset by peer'))\n",
      "2 ('Connection aborted.', ConnectionResetError(104, 'Connection reset by peer'))\n"
     ]
    },
    {
     "name": "stderr",
     "output_type": "stream",
     "text": [
      " 89%|█████████████████████████████▏   | 15036/16986 [8:42:14<6:56:38, 12.82s/it]"
     ]
    },
    {
     "name": "stdout",
     "output_type": "stream",
     "text": [
      "0 ('Connection aborted.', ConnectionResetError(104, 'Connection reset by peer'))\n",
      "1 ('Connection aborted.', ConnectionResetError(104, 'Connection reset by peer'))\n",
      "2 ('Connection aborted.', ConnectionResetError(104, 'Connection reset by peer'))\n"
     ]
    },
    {
     "name": "stderr",
     "output_type": "stream",
     "text": [
      "\r",
      " 89%|█████████████████████████████▏   | 15037/16986 [8:42:17<5:23:06,  9.95s/it]"
     ]
    },
    {
     "name": "stdout",
     "output_type": "stream",
     "text": [
      "0 ('Connection aborted.', ConnectionResetError(104, 'Connection reset by peer'))\n",
      "1 ('Connection aborted.', ConnectionResetError(104, 'Connection reset by peer'))\n",
      "2 ('Connection aborted.', ConnectionResetError(104, 'Connection reset by peer'))\n"
     ]
    },
    {
     "name": "stderr",
     "output_type": "stream",
     "text": [
      "\r",
      " 89%|█████████████████████████████▏   | 15038/16986 [8:42:21<4:23:24,  8.11s/it]"
     ]
    },
    {
     "name": "stdout",
     "output_type": "stream",
     "text": [
      "0 ('Connection aborted.', ConnectionResetError(104, 'Connection reset by peer'))\n",
      "1 ('Connection aborted.', ConnectionResetError(104, 'Connection reset by peer'))\n",
      "2 ('Connection aborted.', ConnectionResetError(104, 'Connection reset by peer'))\n"
     ]
    },
    {
     "name": "stderr",
     "output_type": "stream",
     "text": [
      " 89%|█████████████████████████████▎   | 15058/16986 [8:43:56<2:04:16,  3.87s/it]"
     ]
    },
    {
     "name": "stdout",
     "output_type": "stream",
     "text": [
      "0 ('Connection aborted.', ConnectionResetError(104, 'Connection reset by peer'))\n",
      "1 ('Connection aborted.', ConnectionResetError(104, 'Connection reset by peer'))\n",
      "2 ('Connection aborted.', ConnectionResetError(104, 'Connection reset by peer'))\n"
     ]
    },
    {
     "name": "stderr",
     "output_type": "stream",
     "text": [
      "\r",
      " 89%|█████████████████████████████▎   | 15059/16986 [8:44:00<2:00:17,  3.75s/it]"
     ]
    },
    {
     "name": "stdout",
     "output_type": "stream",
     "text": [
      "0 ('Connection aborted.', ConnectionResetError(104, 'Connection reset by peer'))\n",
      "1 ('Connection aborted.', ConnectionResetError(104, 'Connection reset by peer'))\n",
      "2 ('Connection aborted.', ConnectionResetError(104, 'Connection reset by peer'))\n"
     ]
    },
    {
     "name": "stderr",
     "output_type": "stream",
     "text": [
      " 89%|█████████████████████████████▎   | 15093/16986 [8:46:34<4:11:24,  7.97s/it]"
     ]
    },
    {
     "name": "stdout",
     "output_type": "stream",
     "text": [
      "0 ('Connection aborted.', ConnectionResetError(104, 'Connection reset by peer'))\n",
      "1 ('Connection aborted.', ConnectionResetError(104, 'Connection reset by peer'))\n",
      "2 ('Connection aborted.', ConnectionResetError(104, 'Connection reset by peer'))\n"
     ]
    },
    {
     "name": "stderr",
     "output_type": "stream",
     "text": [
      " 89%|█████████████████████████████▎   | 15116/16986 [8:48:06<1:30:44,  2.91s/it]"
     ]
    },
    {
     "name": "stdout",
     "output_type": "stream",
     "text": [
      "0 ('Connection aborted.', ConnectionResetError(104, 'Connection reset by peer'))\n",
      "1 ('Connection aborted.', ConnectionResetError(104, 'Connection reset by peer'))\n",
      "2 ('Connection aborted.', ConnectionResetError(104, 'Connection reset by peer'))\n"
     ]
    },
    {
     "name": "stderr",
     "output_type": "stream",
     "text": [
      "\r",
      " 89%|█████████████████████████████▎   | 15117/16986 [8:48:10<1:38:25,  3.16s/it]"
     ]
    },
    {
     "name": "stdout",
     "output_type": "stream",
     "text": [
      "0 ('Connection aborted.', ConnectionResetError(104, 'Connection reset by peer'))\n",
      "1 ('Connection aborted.', ConnectionResetError(104, 'Connection reset by peer'))\n",
      "2 ('Connection aborted.', ConnectionResetError(104, 'Connection reset by peer'))\n"
     ]
    },
    {
     "name": "stderr",
     "output_type": "stream",
     "text": [
      " 89%|█████████████████████████████▍   | 15167/16986 [8:50:52<1:21:39,  2.69s/it]"
     ]
    },
    {
     "name": "stdout",
     "output_type": "stream",
     "text": [
      "0 ('Connection aborted.', ConnectionResetError(104, 'Connection reset by peer'))\n",
      "1 ('Connection aborted.', ConnectionResetError(104, 'Connection reset by peer'))\n",
      "2 ('Connection aborted.', ConnectionResetError(104, 'Connection reset by peer'))\n"
     ]
    },
    {
     "name": "stderr",
     "output_type": "stream",
     "text": [
      " 90%|█████████████████████████████▋   | 15273/16986 [8:57:14<1:25:36,  3.00s/it]"
     ]
    },
    {
     "name": "stdout",
     "output_type": "stream",
     "text": [
      "0 ('Connection aborted.', ConnectionResetError(104, 'Connection reset by peer'))\n",
      "1 ('Connection aborted.', ConnectionResetError(104, 'Connection reset by peer'))\n",
      "2 ('Connection aborted.', ConnectionResetError(104, 'Connection reset by peer'))\n"
     ]
    },
    {
     "name": "stderr",
     "output_type": "stream",
     "text": [
      " 91%|█████████████████████████████▉   | 15405/16986 [9:05:09<1:53:38,  4.31s/it]"
     ]
    },
    {
     "name": "stdout",
     "output_type": "stream",
     "text": [
      "0 ('Connection aborted.', ConnectionResetError(104, 'Connection reset by peer'))\n",
      "1 ('Connection aborted.', ConnectionResetError(104, 'Connection reset by peer'))\n",
      "2 ('Connection aborted.', ConnectionResetError(104, 'Connection reset by peer'))\n"
     ]
    },
    {
     "name": "stderr",
     "output_type": "stream",
     "text": [
      " 91%|██████████████████████████████   | 15452/16986 [9:07:35<1:26:50,  3.40s/it]"
     ]
    },
    {
     "name": "stdout",
     "output_type": "stream",
     "text": [
      "0 ('Connection aborted.', ConnectionResetError(104, 'Connection reset by peer'))\n",
      "1 ('Connection aborted.', ConnectionResetError(104, 'Connection reset by peer'))\n",
      "2 ('Connection aborted.', ConnectionResetError(104, 'Connection reset by peer'))\n"
     ]
    },
    {
     "name": "stderr",
     "output_type": "stream",
     "text": [
      "\r",
      " 91%|██████████████████████████████   | 15453/16986 [9:07:38<1:28:20,  3.46s/it]"
     ]
    },
    {
     "name": "stdout",
     "output_type": "stream",
     "text": [
      "0 ('Connection aborted.', ConnectionResetError(104, 'Connection reset by peer'))\n",
      "1 ('Connection aborted.', ConnectionResetError(104, 'Connection reset by peer'))\n",
      "2 ('Connection aborted.', ConnectionResetError(104, 'Connection reset by peer'))\n"
     ]
    },
    {
     "name": "stderr",
     "output_type": "stream",
     "text": [
      " 91%|██████████████████████████████   | 15478/16986 [9:08:57<1:16:25,  3.04s/it]"
     ]
    },
    {
     "name": "stdout",
     "output_type": "stream",
     "text": [
      "0 ('Connection aborted.', ConnectionResetError(104, 'Connection reset by peer'))\n",
      "1 ('Connection aborted.', ConnectionResetError(104, 'Connection reset by peer'))\n",
      "2 ('Connection aborted.', ConnectionResetError(104, 'Connection reset by peer'))\n"
     ]
    },
    {
     "name": "stderr",
     "output_type": "stream",
     "text": [
      "\r",
      " 91%|██████████████████████████████   | 15479/16986 [9:09:00<1:19:53,  3.18s/it]"
     ]
    },
    {
     "name": "stdout",
     "output_type": "stream",
     "text": [
      "0 ('Connection aborted.', ConnectionResetError(104, 'Connection reset by peer'))\n",
      "1 ('Connection aborted.', ConnectionResetError(104, 'Connection reset by peer'))\n",
      "2 ('Connection aborted.', ConnectionResetError(104, 'Connection reset by peer'))\n"
     ]
    },
    {
     "name": "stderr",
     "output_type": "stream",
     "text": [
      " 91%|██████████████████████████████   | 15495/16986 [9:09:51<1:23:47,  3.37s/it]"
     ]
    },
    {
     "name": "stdout",
     "output_type": "stream",
     "text": [
      "0 ('Connection aborted.', ConnectionResetError(104, 'Connection reset by peer'))\n",
      "1 ('Connection aborted.', ConnectionResetError(104, 'Connection reset by peer'))\n",
      "2 ('Connection aborted.', ConnectionResetError(104, 'Connection reset by peer'))\n"
     ]
    },
    {
     "name": "stderr",
     "output_type": "stream",
     "text": [
      " 91%|██████████████████████████████▏  | 15538/16986 [9:12:20<1:08:34,  2.84s/it]"
     ]
    },
    {
     "name": "stdout",
     "output_type": "stream",
     "text": [
      "0 ('Connection aborted.', ConnectionResetError(104, 'Connection reset by peer'))\n",
      "1 ('Connection aborted.', ConnectionResetError(104, 'Connection reset by peer'))\n",
      "2 ('Connection aborted.', ConnectionResetError(104, 'Connection reset by peer'))\n"
     ]
    },
    {
     "name": "stderr",
     "output_type": "stream",
     "text": [
      " 92%|██████████████████████████████▏  | 15552/16986 [9:13:04<1:18:48,  3.30s/it]"
     ]
    },
    {
     "name": "stdout",
     "output_type": "stream",
     "text": [
      "0 ('Connection aborted.', ConnectionResetError(104, 'Connection reset by peer'))\n",
      "1 ('Connection aborted.', ConnectionResetError(104, 'Connection reset by peer'))\n",
      "2 ('Connection aborted.', ConnectionResetError(104, 'Connection reset by peer'))\n"
     ]
    },
    {
     "name": "stderr",
     "output_type": "stream",
     "text": [
      " 92%|██████████████████████████████▎  | 15579/16986 [9:14:27<1:04:56,  2.77s/it]"
     ]
    },
    {
     "name": "stdout",
     "output_type": "stream",
     "text": [
      "0 ('Connection aborted.', ConnectionResetError(104, 'Connection reset by peer'))\n",
      "1 ('Connection aborted.', ConnectionResetError(104, 'Connection reset by peer'))\n",
      "2 ('Connection aborted.', ConnectionResetError(104, 'Connection reset by peer'))\n"
     ]
    },
    {
     "name": "stderr",
     "output_type": "stream",
     "text": [
      " 92%|██████████████████████████████▎  | 15623/16986 [9:17:29<2:10:47,  5.76s/it]"
     ]
    },
    {
     "name": "stdout",
     "output_type": "stream",
     "text": [
      "0 ('Connection aborted.', ConnectionResetError(104, 'Connection reset by peer'))\n",
      "1 ('Connection aborted.', ConnectionResetError(104, 'Connection reset by peer'))\n",
      "2 ('Connection aborted.', ConnectionResetError(104, 'Connection reset by peer'))\n"
     ]
    },
    {
     "name": "stderr",
     "output_type": "stream",
     "text": [
      "\r",
      " 92%|██████████████████████████████▎  | 15624/16986 [9:17:32<1:54:31,  5.05s/it]"
     ]
    },
    {
     "name": "stdout",
     "output_type": "stream",
     "text": [
      "0 ('Connection aborted.', ConnectionResetError(104, 'Connection reset by peer'))\n",
      "1 ('Connection aborted.', ConnectionResetError(104, 'Connection reset by peer'))\n",
      "2 ('Connection aborted.', ConnectionResetError(104, 'Connection reset by peer'))\n"
     ]
    },
    {
     "name": "stderr",
     "output_type": "stream",
     "text": [
      " 92%|██████████████████████████████▎  | 15633/16986 [9:18:02<1:10:19,  3.12s/it]"
     ]
    },
    {
     "name": "stdout",
     "output_type": "stream",
     "text": [
      "0 ('Connection aborted.', ConnectionResetError(104, 'Connection reset by peer'))\n",
      "1 ('Connection aborted.', ConnectionResetError(104, 'Connection reset by peer'))\n",
      "2 ('Connection aborted.', ConnectionResetError(104, 'Connection reset by peer'))\n"
     ]
    },
    {
     "name": "stderr",
     "output_type": "stream",
     "text": [
      " 92%|██████████████████████████████▍  | 15674/16986 [9:20:19<3:01:20,  8.29s/it]"
     ]
    },
    {
     "name": "stdout",
     "output_type": "stream",
     "text": [
      "0 ('Connection aborted.', ConnectionResetError(104, 'Connection reset by peer'))\n",
      "1 ('Connection aborted.', ConnectionResetError(104, 'Connection reset by peer'))\n",
      "2 ('Connection aborted.', ConnectionResetError(104, 'Connection reset by peer'))\n"
     ]
    },
    {
     "name": "stderr",
     "output_type": "stream",
     "text": [
      " 93%|██████████████████████████████▌  | 15722/16986 [9:30:20<3:39:55, 10.44s/it]"
     ]
    },
    {
     "name": "stdout",
     "output_type": "stream",
     "text": [
      "0 ('Connection aborted.', ConnectionResetError(104, 'Connection reset by peer'))\n",
      "1 ('Connection aborted.', ConnectionResetError(104, 'Connection reset by peer'))\n",
      "2 ('Connection aborted.', ConnectionResetError(104, 'Connection reset by peer'))\n"
     ]
    },
    {
     "name": "stderr",
     "output_type": "stream",
     "text": [
      " 93%|██████████████████████████████▌  | 15724/16986 [9:30:27<2:24:07,  6.85s/it]"
     ]
    },
    {
     "name": "stdout",
     "output_type": "stream",
     "text": [
      "0 ('Connection aborted.', ConnectionResetError(104, 'Connection reset by peer'))\n",
      "1 ('Connection aborted.', ConnectionResetError(104, 'Connection reset by peer'))\n",
      "2 ('Connection aborted.', ConnectionResetError(104, 'Connection reset by peer'))\n"
     ]
    },
    {
     "name": "stderr",
     "output_type": "stream",
     "text": [
      " 93%|██████████████████████████████▋  | 15768/16986 [9:40:22<3:50:29, 11.35s/it]"
     ]
    },
    {
     "name": "stdout",
     "output_type": "stream",
     "text": [
      "0 ('Connection aborted.', ConnectionResetError(104, 'Connection reset by peer'))\n",
      "1 ('Connection aborted.', ConnectionResetError(104, 'Connection reset by peer'))\n",
      "2 ('Connection aborted.', ConnectionResetError(104, 'Connection reset by peer'))\n"
     ]
    },
    {
     "name": "stderr",
     "output_type": "stream",
     "text": [
      " 93%|██████████████████████████████▋  | 15780/16986 [9:41:12<1:09:47,  3.47s/it]"
     ]
    },
    {
     "name": "stdout",
     "output_type": "stream",
     "text": [
      "0 ('Connection aborted.', ConnectionResetError(104, 'Connection reset by peer'))\n",
      "1 ('Connection aborted.', ConnectionResetError(104, 'Connection reset by peer'))\n",
      "2 ('Connection aborted.', ConnectionResetError(104, 'Connection reset by peer'))\n"
     ]
    },
    {
     "name": "stderr",
     "output_type": "stream",
     "text": [
      "\r",
      " 93%|██████████████████████████████▋  | 15781/16986 [9:41:15<1:10:05,  3.49s/it]"
     ]
    },
    {
     "name": "stdout",
     "output_type": "stream",
     "text": [
      "0 ('Connection aborted.', ConnectionResetError(104, 'Connection reset by peer'))\n"
     ]
    },
    {
     "name": "stderr",
     "output_type": "stream",
     "text": [
      " 93%|██████████████████████████████▋  | 15811/16986 [9:42:48<1:04:47,  3.31s/it]"
     ]
    },
    {
     "name": "stdout",
     "output_type": "stream",
     "text": [
      "0 ('Connection aborted.', ConnectionResetError(104, 'Connection reset by peer'))\n",
      "1 ('Connection aborted.', ConnectionResetError(104, 'Connection reset by peer'))\n",
      "2 ('Connection aborted.', ConnectionResetError(104, 'Connection reset by peer'))\n"
     ]
    },
    {
     "name": "stderr",
     "output_type": "stream",
     "text": [
      "\r",
      " 93%|██████████████████████████████▋  | 15812/16986 [9:42:51<1:06:00,  3.37s/it]"
     ]
    },
    {
     "name": "stdout",
     "output_type": "stream",
     "text": [
      "0 ('Connection aborted.', ConnectionResetError(104, 'Connection reset by peer'))\n",
      "1 ('Connection aborted.', ConnectionResetError(104, 'Connection reset by peer'))\n",
      "2 ('Connection aborted.', ConnectionResetError(104, 'Connection reset by peer'))\n"
     ]
    },
    {
     "name": "stderr",
     "output_type": "stream",
     "text": [
      " 93%|██████████████████████████████▋  | 15814/16986 [9:42:59<1:13:31,  3.76s/it]"
     ]
    },
    {
     "name": "stdout",
     "output_type": "stream",
     "text": [
      "0 ('Connection aborted.', ConnectionResetError(104, 'Connection reset by peer'))\n",
      "1 ('Connection aborted.', ConnectionResetError(104, 'Connection reset by peer'))\n",
      "2 ('Connection aborted.', ConnectionResetError(104, 'Connection reset by peer'))\n"
     ]
    },
    {
     "name": "stderr",
     "output_type": "stream",
     "text": [
      "\r",
      " 93%|██████████████████████████████▋  | 15815/16986 [9:43:03<1:12:57,  3.74s/it]"
     ]
    },
    {
     "name": "stdout",
     "output_type": "stream",
     "text": [
      "0 ('Connection aborted.', ConnectionResetError(104, 'Connection reset by peer'))\n",
      "1 ('Connection aborted.', ConnectionResetError(104, 'Connection reset by peer'))\n",
      "2 ('Connection aborted.', ConnectionResetError(104, 'Connection reset by peer'))\n"
     ]
    },
    {
     "name": "stderr",
     "output_type": "stream",
     "text": [
      " 93%|████████████████████████████████▌  | 15824/16986 [9:43:29<54:37,  2.82s/it]"
     ]
    },
    {
     "name": "stdout",
     "output_type": "stream",
     "text": [
      "0 ('Connection aborted.', ConnectionResetError(104, 'Connection reset by peer'))\n",
      "1 ('Connection aborted.', ConnectionResetError(104, 'Connection reset by peer'))\n",
      "2 ('Connection aborted.', ConnectionResetError(104, 'Connection reset by peer'))\n"
     ]
    },
    {
     "name": "stderr",
     "output_type": "stream",
     "text": [
      " 93%|██████████████████████████████▋  | 15826/16986 [9:43:36<1:04:59,  3.36s/it]"
     ]
    },
    {
     "name": "stdout",
     "output_type": "stream",
     "text": [
      "0 ('Connection aborted.', ConnectionResetError(104, 'Connection reset by peer'))\n",
      "1 ('Connection aborted.', ConnectionResetError(104, 'Connection reset by peer'))\n",
      "2 ('Connection aborted.', ConnectionResetError(104, 'Connection reset by peer'))\n"
     ]
    },
    {
     "name": "stderr",
     "output_type": "stream",
     "text": [
      "\r",
      " 93%|██████████████████████████████▋  | 15827/16986 [9:43:40<1:05:05,  3.37s/it]"
     ]
    },
    {
     "name": "stdout",
     "output_type": "stream",
     "text": [
      "0 ('Connection aborted.', ConnectionResetError(104, 'Connection reset by peer'))\n",
      "1 ('Connection aborted.', ConnectionResetError(104, 'Connection reset by peer'))\n",
      "2 ('Connection aborted.', ConnectionResetError(104, 'Connection reset by peer'))\n"
     ]
    },
    {
     "name": "stderr",
     "output_type": "stream",
     "text": [
      " 93%|██████████████████████████████▊  | 15831/16986 [9:43:56<1:19:24,  4.12s/it]"
     ]
    },
    {
     "name": "stdout",
     "output_type": "stream",
     "text": [
      "0 ('Connection aborted.', ConnectionResetError(104, 'Connection reset by peer'))\n",
      "1 ('Connection aborted.', ConnectionResetError(104, 'Connection reset by peer'))\n",
      "2 ('Connection aborted.', ConnectionResetError(104, 'Connection reset by peer'))\n"
     ]
    },
    {
     "name": "stderr",
     "output_type": "stream",
     "text": [
      "\r",
      " 93%|██████████████████████████████▊  | 15832/16986 [9:43:59<1:11:05,  3.70s/it]"
     ]
    },
    {
     "name": "stdout",
     "output_type": "stream",
     "text": [
      "0 ('Connection aborted.', ConnectionResetError(104, 'Connection reset by peer'))\n",
      "1 ('Connection aborted.', ConnectionResetError(104, 'Connection reset by peer'))\n",
      "2 ('Connection aborted.', ConnectionResetError(104, 'Connection reset by peer'))\n"
     ]
    },
    {
     "name": "stderr",
     "output_type": "stream",
     "text": [
      " 94%|██████████████████████████████▉  | 15904/16986 [9:57:40<2:05:08,  6.94s/it]"
     ]
    },
    {
     "name": "stdout",
     "output_type": "stream",
     "text": [
      "0 ('Connection aborted.', ConnectionResetError(104, 'Connection reset by peer'))\n",
      "1 ('Connection aborted.', ConnectionResetError(104, 'Connection reset by peer'))\n",
      "2 ('Connection aborted.', ConnectionResetError(104, 'Connection reset by peer'))\n"
     ]
    },
    {
     "name": "stderr",
     "output_type": "stream",
     "text": [
      "\r",
      " 94%|██████████████████████████████▉  | 15905/16986 [9:57:42<1:37:55,  5.44s/it]"
     ]
    },
    {
     "name": "stdout",
     "output_type": "stream",
     "text": [
      "0 ('Connection aborted.', ConnectionResetError(104, 'Connection reset by peer'))\n",
      "1 ('Connection aborted.', ConnectionResetError(104, 'Connection reset by peer'))\n",
      "2 ('Connection aborted.', ConnectionResetError(104, 'Connection reset by peer'))\n"
     ]
    },
    {
     "name": "stderr",
     "output_type": "stream",
     "text": [
      " 94%|████████████████████████████████▊  | 15923/16986 [9:58:08<23:32,  1.33s/it]"
     ]
    },
    {
     "name": "stdout",
     "output_type": "stream",
     "text": [
      "0 ('Connection aborted.', ConnectionResetError(104, 'Connection reset by peer'))\n",
      "1 ('Connection aborted.', ConnectionResetError(104, 'Connection reset by peer'))\n",
      "2 ('Connection aborted.', ConnectionResetError(104, 'Connection reset by peer'))\n"
     ]
    },
    {
     "name": "stderr",
     "output_type": "stream",
     "text": [
      " 94%|████████████████████████████████▊  | 15941/16986 [9:58:34<12:25,  1.40it/s]"
     ]
    },
    {
     "name": "stdout",
     "output_type": "stream",
     "text": [
      "0 ('Connection aborted.', ConnectionResetError(104, 'Connection reset by peer'))\n",
      "1 ('Connection aborted.', ConnectionResetError(104, 'Connection reset by peer'))\n",
      "2 ('Connection aborted.', ConnectionResetError(104, 'Connection reset by peer'))\n"
     ]
    },
    {
     "name": "stderr",
     "output_type": "stream",
     "text": [
      " 94%|████████████████████████████████▊  | 15943/16986 [9:58:36<16:10,  1.07it/s]"
     ]
    },
    {
     "name": "stdout",
     "output_type": "stream",
     "text": [
      "0 ('Connection aborted.', ConnectionResetError(104, 'Connection reset by peer'))\n",
      "1 ('Connection aborted.', ConnectionResetError(104, 'Connection reset by peer'))\n",
      "2 ('Connection aborted.', ConnectionResetError(104, 'Connection reset by peer'))\n"
     ]
    },
    {
     "name": "stderr",
     "output_type": "stream",
     "text": [
      " 94%|█████████████████████████████████  | 16022/16986 [9:59:38<11:18,  1.42it/s]"
     ]
    },
    {
     "name": "stdout",
     "output_type": "stream",
     "text": [
      "0 ('Connection aborted.', ConnectionResetError(104, 'Connection reset by peer'))\n",
      "1 ('Connection aborted.', ConnectionResetError(104, 'Connection reset by peer'))\n",
      "2 ('Connection aborted.', ConnectionResetError(104, 'Connection reset by peer'))\n"
     ]
    },
    {
     "name": "stderr",
     "output_type": "stream",
     "text": [
      " 95%|████████████████████████████████▏ | 16065/16986 [10:00:10<12:10,  1.26it/s]"
     ]
    },
    {
     "name": "stdout",
     "output_type": "stream",
     "text": [
      "0 ('Connection aborted.', ConnectionResetError(104, 'Connection reset by peer'))\n",
      "1 ('Connection aborted.', ConnectionResetError(104, 'Connection reset by peer'))\n",
      "2 ('Connection aborted.', ConnectionResetError(104, 'Connection reset by peer'))\n"
     ]
    },
    {
     "name": "stderr",
     "output_type": "stream",
     "text": [
      " 95%|██████████████████████████████▍ | 16126/16986 [10:05:09<1:17:26,  5.40s/it]"
     ]
    },
    {
     "name": "stdout",
     "output_type": "stream",
     "text": [
      "0 ('Connection aborted.', ConnectionResetError(104, 'Connection reset by peer'))\n",
      "1 ('Connection aborted.', ConnectionResetError(104, 'Connection reset by peer'))\n",
      "2 ('Connection aborted.', ConnectionResetError(104, 'Connection reset by peer'))\n"
     ]
    },
    {
     "name": "stderr",
     "output_type": "stream",
     "text": [
      "\r",
      " 95%|██████████████████████████████▍ | 16127/16986 [10:05:11<1:02:51,  4.39s/it]"
     ]
    },
    {
     "name": "stdout",
     "output_type": "stream",
     "text": [
      "0 ('Connection aborted.', ConnectionResetError(104, 'Connection reset by peer'))\n",
      "1 ('Connection aborted.', ConnectionResetError(104, 'Connection reset by peer'))\n",
      "2 ('Connection aborted.', ConnectionResetError(104, 'Connection reset by peer'))\n"
     ]
    },
    {
     "name": "stderr",
     "output_type": "stream",
     "text": [
      "\r",
      " 95%|████████████████████████████████▎ | 16128/16986 [10:05:13<52:38,  3.68s/it]"
     ]
    },
    {
     "name": "stdout",
     "output_type": "stream",
     "text": [
      "0 ('Connection aborted.', ConnectionResetError(104, 'Connection reset by peer'))\n",
      "1 ('Connection aborted.', ConnectionResetError(104, 'Connection reset by peer'))\n",
      "2 ('Connection aborted.', ConnectionResetError(104, 'Connection reset by peer'))\n"
     ]
    },
    {
     "name": "stderr",
     "output_type": "stream",
     "text": [
      "\r",
      " 95%|████████████████████████████████▎ | 16129/16986 [10:05:15<45:19,  3.17s/it]"
     ]
    },
    {
     "name": "stdout",
     "output_type": "stream",
     "text": [
      "0 ('Connection aborted.', ConnectionResetError(104, 'Connection reset by peer'))\n",
      "1 ('Connection aborted.', ConnectionResetError(104, 'Connection reset by peer'))\n",
      "2 ('Connection aborted.', ConnectionResetError(104, 'Connection reset by peer'))\n"
     ]
    },
    {
     "name": "stderr",
     "output_type": "stream",
     "text": [
      " 95%|██████████████████████████████▍ | 16132/16986 [10:05:28<1:03:41,  4.47s/it]"
     ]
    },
    {
     "name": "stdout",
     "output_type": "stream",
     "text": [
      "0 ('Connection aborted.', ConnectionResetError(104, 'Connection reset by peer'))\n",
      "1 ('Connection aborted.', ConnectionResetError(104, 'Connection reset by peer'))\n",
      "2 ('Connection aborted.', ConnectionResetError(104, 'Connection reset by peer'))\n"
     ]
    },
    {
     "name": "stderr",
     "output_type": "stream",
     "text": [
      "\r",
      " 95%|████████████████████████████████▎ | 16133/16986 [10:05:30<52:32,  3.70s/it]"
     ]
    },
    {
     "name": "stdout",
     "output_type": "stream",
     "text": [
      "0 ('Connection aborted.', ConnectionResetError(104, 'Connection reset by peer'))\n",
      "1 ('Connection aborted.', ConnectionResetError(104, 'Connection reset by peer'))\n",
      "2 ('Connection aborted.', ConnectionResetError(104, 'Connection reset by peer'))\n"
     ]
    },
    {
     "name": "stderr",
     "output_type": "stream",
     "text": [
      "\r",
      " 95%|████████████████████████████████▎ | 16134/16986 [10:05:32<45:11,  3.18s/it]"
     ]
    },
    {
     "name": "stdout",
     "output_type": "stream",
     "text": [
      "0 ('Connection aborted.', ConnectionResetError(104, 'Connection reset by peer'))\n",
      "1 ('Connection aborted.', ConnectionResetError(104, 'Connection reset by peer'))\n",
      "2 ('Connection aborted.', ConnectionResetError(104, 'Connection reset by peer'))\n"
     ]
    },
    {
     "name": "stderr",
     "output_type": "stream",
     "text": [
      " 95%|██████████████████████████████▍ | 16149/16986 [10:06:36<1:03:53,  4.58s/it]"
     ]
    },
    {
     "name": "stdout",
     "output_type": "stream",
     "text": [
      "0 ('Connection aborted.', ConnectionResetError(104, 'Connection reset by peer'))\n",
      "1 ('Connection aborted.', ConnectionResetError(104, 'Connection reset by peer'))\n",
      "2 ('Connection aborted.', ConnectionResetError(104, 'Connection reset by peer'))\n"
     ]
    },
    {
     "name": "stderr",
     "output_type": "stream",
     "text": [
      "\r",
      " 95%|████████████████████████████████▎ | 16150/16986 [10:06:38<53:08,  3.81s/it]"
     ]
    },
    {
     "name": "stdout",
     "output_type": "stream",
     "text": [
      "0 ('Connection aborted.', ConnectionResetError(104, 'Connection reset by peer'))\n",
      "1 ('Connection aborted.', ConnectionResetError(104, 'Connection reset by peer'))\n",
      "2 ('Connection aborted.', ConnectionResetError(104, 'Connection reset by peer'))\n"
     ]
    },
    {
     "name": "stderr",
     "output_type": "stream",
     "text": [
      " 95%|██████████████████████████████▍ | 16165/16986 [10:08:02<1:37:34,  7.13s/it]"
     ]
    },
    {
     "name": "stdout",
     "output_type": "stream",
     "text": [
      "0 ('Connection aborted.', ConnectionResetError(104, 'Connection reset by peer'))\n",
      "1 ('Connection aborted.', ConnectionResetError(104, 'Connection reset by peer'))\n",
      "2 ('Connection aborted.', ConnectionResetError(104, 'Connection reset by peer'))\n"
     ]
    },
    {
     "name": "stderr",
     "output_type": "stream",
     "text": [
      " 95%|██████████████████████████████▍ | 16172/16986 [10:08:44<1:36:45,  7.13s/it]"
     ]
    },
    {
     "name": "stdout",
     "output_type": "stream",
     "text": [
      "0 ('Connection aborted.', ConnectionResetError(104, 'Connection reset by peer'))\n",
      "1 ('Connection aborted.', ConnectionResetError(104, 'Connection reset by peer'))\n",
      "2 ('Connection aborted.', ConnectionResetError(104, 'Connection reset by peer'))\n"
     ]
    },
    {
     "name": "stderr",
     "output_type": "stream",
     "text": [
      " 95%|████████████████████████████████▍ | 16186/16986 [10:08:58<11:07,  1.20it/s]"
     ]
    },
    {
     "name": "stdout",
     "output_type": "stream",
     "text": [
      "0 ('Connection aborted.', ConnectionResetError(104, 'Connection reset by peer'))\n",
      "1 ('Connection aborted.', ConnectionResetError(104, 'Connection reset by peer'))\n",
      "2 ('Connection aborted.', ConnectionResetError(104, 'Connection reset by peer'))\n"
     ]
    },
    {
     "name": "stderr",
     "output_type": "stream",
     "text": [
      " 95%|████████████████████████████████▍ | 16193/16986 [10:09:09<23:03,  1.74s/it]"
     ]
    },
    {
     "name": "stdout",
     "output_type": "stream",
     "text": [
      "0 ('Connection aborted.', ConnectionResetError(104, 'Connection reset by peer'))\n",
      "1 ('Connection aborted.', ConnectionResetError(104, 'Connection reset by peer'))\n",
      "2 ('Connection aborted.', ConnectionResetError(104, 'Connection reset by peer'))\n"
     ]
    },
    {
     "name": "stderr",
     "output_type": "stream",
     "text": [
      " 96%|████████████████████████████████▌ | 16241/16986 [10:10:20<08:52,  1.40it/s]"
     ]
    },
    {
     "name": "stdout",
     "output_type": "stream",
     "text": [
      "0 ('Connection aborted.', ConnectionResetError(104, 'Connection reset by peer'))\n",
      "1 ('Connection aborted.', ConnectionResetError(104, 'Connection reset by peer'))\n",
      "2 ('Connection aborted.', ConnectionResetError(104, 'Connection reset by peer'))\n"
     ]
    },
    {
     "name": "stderr",
     "output_type": "stream",
     "text": [
      "\r",
      " 96%|████████████████████████████████▌ | 16242/16986 [10:10:22<13:35,  1.10s/it]"
     ]
    },
    {
     "name": "stdout",
     "output_type": "stream",
     "text": [
      "0 ('Connection aborted.', ConnectionResetError(104, 'Connection reset by peer'))\n",
      "1 ('Connection aborted.', ConnectionResetError(104, 'Connection reset by peer'))\n",
      "2 ('Connection aborted.', ConnectionResetError(104, 'Connection reset by peer'))\n"
     ]
    },
    {
     "name": "stderr",
     "output_type": "stream",
     "text": [
      " 96%|██████████████████████████████▋ | 16281/16986 [10:12:20<1:23:33,  7.11s/it]"
     ]
    },
    {
     "name": "stdout",
     "output_type": "stream",
     "text": [
      "0 ('Connection aborted.', ConnectionResetError(104, 'Connection reset by peer'))\n",
      "1 ('Connection aborted.', ConnectionResetError(104, 'Connection reset by peer'))\n",
      "2 ('Connection aborted.', ConnectionResetError(104, 'Connection reset by peer'))\n"
     ]
    },
    {
     "name": "stderr",
     "output_type": "stream",
     "text": [
      " 96%|██████████████████████████████▊ | 16327/16986 [10:18:04<1:12:18,  6.58s/it]"
     ]
    },
    {
     "name": "stdout",
     "output_type": "stream",
     "text": [
      "0 ('Connection aborted.', ConnectionResetError(104, 'Connection reset by peer'))\n",
      "1 ('Connection aborted.', ConnectionResetError(104, 'Connection reset by peer'))\n",
      "2 ('Connection aborted.', ConnectionResetError(104, 'Connection reset by peer'))\n"
     ]
    },
    {
     "name": "stderr",
     "output_type": "stream",
     "text": [
      " 96%|████████████████████████████████▊ | 16380/16986 [10:20:14<10:41,  1.06s/it]"
     ]
    },
    {
     "name": "stdout",
     "output_type": "stream",
     "text": [
      "0 ('Connection aborted.', ConnectionResetError(104, 'Connection reset by peer'))\n",
      "1 ('Connection aborted.', ConnectionResetError(104, 'Connection reset by peer'))\n",
      "2 ('Connection aborted.', ConnectionResetError(104, 'Connection reset by peer'))\n"
     ]
    },
    {
     "name": "stderr",
     "output_type": "stream",
     "text": [
      " 97%|████████████████████████████████▊ | 16393/16986 [10:20:23<05:39,  1.75it/s]"
     ]
    },
    {
     "name": "stdout",
     "output_type": "stream",
     "text": [
      "0 ('Connection aborted.', ConnectionResetError(104, 'Connection reset by peer'))\n",
      "1 ('Connection aborted.', ConnectionResetError(104, 'Connection reset by peer'))\n",
      "2 ('Connection aborted.', ConnectionResetError(104, 'Connection reset by peer'))\n"
     ]
    },
    {
     "name": "stderr",
     "output_type": "stream",
     "text": [
      " 97%|█████████████████████████████████ | 16497/16986 [10:24:27<09:13,  1.13s/it]"
     ]
    },
    {
     "name": "stdout",
     "output_type": "stream",
     "text": [
      "0 ('Connection aborted.', ConnectionResetError(104, 'Connection reset by peer'))\n",
      "1 ('Connection aborted.', ConnectionResetError(104, 'Connection reset by peer'))\n",
      "2 ('Connection aborted.', ConnectionResetError(104, 'Connection reset by peer'))\n"
     ]
    },
    {
     "name": "stderr",
     "output_type": "stream",
     "text": [
      " 97%|█████████████████████████████████▏| 16558/16986 [10:26:33<09:42,  1.36s/it]"
     ]
    },
    {
     "name": "stdout",
     "output_type": "stream",
     "text": [
      "0 ('Connection aborted.', ConnectionResetError(104, 'Connection reset by peer'))\n",
      "1 ('Connection aborted.', ConnectionResetError(104, 'Connection reset by peer'))\n",
      "2 ('Connection aborted.', ConnectionResetError(104, 'Connection reset by peer'))\n"
     ]
    },
    {
     "name": "stderr",
     "output_type": "stream",
     "text": [
      " 98%|█████████████████████████████████▏| 16562/16986 [10:26:37<07:53,  1.12s/it]"
     ]
    },
    {
     "name": "stdout",
     "output_type": "stream",
     "text": [
      "0 ('Connection aborted.', ConnectionResetError(104, 'Connection reset by peer'))\n",
      "1 ('Connection aborted.', ConnectionResetError(104, 'Connection reset by peer'))\n",
      "2 ('Connection aborted.', ConnectionResetError(104, 'Connection reset by peer'))\n"
     ]
    },
    {
     "name": "stderr",
     "output_type": "stream",
     "text": [
      " 98%|█████████████████████████████████▏| 16590/16986 [10:27:15<15:32,  2.36s/it]"
     ]
    },
    {
     "name": "stdout",
     "output_type": "stream",
     "text": [
      "0 ('Connection aborted.', ConnectionResetError(104, 'Connection reset by peer'))\n",
      "1 ('Connection aborted.', ConnectionResetError(104, 'Connection reset by peer'))\n",
      "2 ('Connection aborted.', ConnectionResetError(104, 'Connection reset by peer'))\n"
     ]
    },
    {
     "name": "stderr",
     "output_type": "stream",
     "text": [
      " 98%|█████████████████████████████████▎| 16642/16986 [10:28:11<04:16,  1.34it/s]"
     ]
    },
    {
     "name": "stdout",
     "output_type": "stream",
     "text": [
      "0 ('Connection aborted.', ConnectionResetError(104, 'Connection reset by peer'))\n",
      "1 ('Connection aborted.', ConnectionResetError(104, 'Connection reset by peer'))\n",
      "2 ('Connection aborted.', ConnectionResetError(104, 'Connection reset by peer'))\n"
     ]
    },
    {
     "name": "stderr",
     "output_type": "stream",
     "text": [
      " 98%|█████████████████████████████████▎| 16672/16986 [10:28:40<04:52,  1.07it/s]"
     ]
    },
    {
     "name": "stdout",
     "output_type": "stream",
     "text": [
      "0 ('Connection aborted.', ConnectionResetError(104, 'Connection reset by peer'))\n",
      "1 ('Connection aborted.', ConnectionResetError(104, 'Connection reset by peer'))\n",
      "2 ('Connection aborted.', ConnectionResetError(104, 'Connection reset by peer'))\n"
     ]
    },
    {
     "name": "stderr",
     "output_type": "stream",
     "text": [
      " 98%|█████████████████████████████████▍| 16691/16986 [10:28:58<05:47,  1.18s/it]"
     ]
    },
    {
     "name": "stdout",
     "output_type": "stream",
     "text": [
      "0 ('Connection aborted.', ConnectionResetError(104, 'Connection reset by peer'))\n",
      "1 ('Connection aborted.', ConnectionResetError(104, 'Connection reset by peer'))\n",
      "2 ('Connection aborted.', ConnectionResetError(104, 'Connection reset by peer'))\n"
     ]
    },
    {
     "name": "stderr",
     "output_type": "stream",
     "text": [
      "\r",
      " 98%|█████████████████████████████████▍| 16692/16986 [10:28:59<06:46,  1.38s/it]"
     ]
    },
    {
     "name": "stdout",
     "output_type": "stream",
     "text": [
      "0 ('Connection aborted.', ConnectionResetError(104, 'Connection reset by peer'))\n",
      "1 ('Connection aborted.', ConnectionResetError(104, 'Connection reset by peer'))\n",
      "2 ('Connection aborted.', ConnectionResetError(104, 'Connection reset by peer'))\n"
     ]
    },
    {
     "name": "stderr",
     "output_type": "stream",
     "text": [
      "\r",
      " 98%|█████████████████████████████████▍| 16693/16986 [10:29:01<07:42,  1.58s/it]"
     ]
    },
    {
     "name": "stdout",
     "output_type": "stream",
     "text": [
      "0 ('Connection aborted.', ConnectionResetError(104, 'Connection reset by peer'))\n",
      "1 ('Connection aborted.', ConnectionResetError(104, 'Connection reset by peer'))\n",
      "2 ('Connection aborted.', ConnectionResetError(104, 'Connection reset by peer'))\n"
     ]
    },
    {
     "name": "stderr",
     "output_type": "stream",
     "text": [
      " 98%|█████████████████████████████████▍| 16695/16986 [10:29:06<09:37,  1.98s/it]"
     ]
    },
    {
     "name": "stdout",
     "output_type": "stream",
     "text": [
      "0 ('Connection aborted.', ConnectionResetError(104, 'Connection reset by peer'))\n",
      "1 ('Connection aborted.', ConnectionResetError(104, 'Connection reset by peer'))\n",
      "2 ('Connection aborted.', ConnectionResetError(104, 'Connection reset by peer'))\n"
     ]
    },
    {
     "name": "stderr",
     "output_type": "stream",
     "text": [
      "\r",
      " 98%|█████████████████████████████████▍| 16696/16986 [10:29:08<09:34,  1.98s/it]"
     ]
    },
    {
     "name": "stdout",
     "output_type": "stream",
     "text": [
      "0 ('Connection aborted.', ConnectionResetError(104, 'Connection reset by peer'))\n",
      "1 ('Connection aborted.', ConnectionResetError(104, 'Connection reset by peer'))\n",
      "2 ('Connection aborted.', ConnectionResetError(104, 'Connection reset by peer'))\n"
     ]
    },
    {
     "name": "stderr",
     "output_type": "stream",
     "text": [
      "\r",
      " 98%|█████████████████████████████████▍| 16697/16986 [10:29:10<09:31,  1.98s/it]"
     ]
    },
    {
     "name": "stdout",
     "output_type": "stream",
     "text": [
      "0 ('Connection aborted.', ConnectionResetError(104, 'Connection reset by peer'))\n",
      "1 ('Connection aborted.', ConnectionResetError(104, 'Connection reset by peer'))\n",
      "2 ('Connection aborted.', ConnectionResetError(104, 'Connection reset by peer'))\n"
     ]
    },
    {
     "name": "stderr",
     "output_type": "stream",
     "text": [
      "\r",
      " 98%|█████████████████████████████████▍| 16698/16986 [10:29:12<09:29,  1.98s/it]"
     ]
    },
    {
     "name": "stdout",
     "output_type": "stream",
     "text": [
      "0 ('Connection aborted.', ConnectionResetError(104, 'Connection reset by peer'))\n",
      "1 ('Connection aborted.', ConnectionResetError(104, 'Connection reset by peer'))\n",
      "2 ('Connection aborted.', ConnectionResetError(104, 'Connection reset by peer'))\n"
     ]
    },
    {
     "name": "stderr",
     "output_type": "stream",
     "text": [
      " 98%|█████████████████████████████████▍| 16717/16986 [10:29:26<02:57,  1.52it/s]"
     ]
    },
    {
     "name": "stdout",
     "output_type": "stream",
     "text": [
      "0 ('Connection aborted.', ConnectionResetError(104, 'Connection reset by peer'))\n",
      "1 ('Connection aborted.', ConnectionResetError(104, 'Connection reset by peer'))\n",
      "2 ('Connection aborted.', ConnectionResetError(104, 'Connection reset by peer'))\n"
     ]
    },
    {
     "name": "stderr",
     "output_type": "stream",
     "text": [
      " 98%|█████████████████████████████████▍| 16720/16986 [10:29:29<03:45,  1.18it/s]"
     ]
    },
    {
     "name": "stdout",
     "output_type": "stream",
     "text": [
      "0 ('Connection aborted.', ConnectionResetError(104, 'Connection reset by peer'))\n",
      "1 ('Connection aborted.', ConnectionResetError(104, 'Connection reset by peer'))\n",
      "2 ('Connection aborted.', ConnectionResetError(104, 'Connection reset by peer'))\n"
     ]
    },
    {
     "name": "stderr",
     "output_type": "stream",
     "text": [
      " 98%|█████████████████████████████████▍| 16730/16986 [10:29:38<02:52,  1.48it/s]"
     ]
    },
    {
     "name": "stdout",
     "output_type": "stream",
     "text": [
      "0 ('Connection aborted.', ConnectionResetError(104, 'Connection reset by peer'))\n",
      "1 ('Connection aborted.', ConnectionResetError(104, 'Connection reset by peer'))\n",
      "2 ('Connection aborted.', ConnectionResetError(104, 'Connection reset by peer'))\n"
     ]
    },
    {
     "name": "stderr",
     "output_type": "stream",
     "text": [
      " 99%|█████████████████████████████████▌| 16743/16986 [10:29:47<02:36,  1.55it/s]"
     ]
    },
    {
     "name": "stdout",
     "output_type": "stream",
     "text": [
      "0 ('Connection aborted.', ConnectionResetError(104, 'Connection reset by peer'))\n",
      "1 ('Connection aborted.', ConnectionResetError(104, 'Connection reset by peer'))\n",
      "2 ('Connection aborted.', ConnectionResetError(104, 'Connection reset by peer'))\n"
     ]
    },
    {
     "name": "stderr",
     "output_type": "stream",
     "text": [
      " 99%|█████████████████████████████████▌| 16753/16986 [10:29:55<02:50,  1.37it/s]"
     ]
    },
    {
     "name": "stdout",
     "output_type": "stream",
     "text": [
      "0 ('Connection aborted.', ConnectionResetError(104, 'Connection reset by peer'))\n",
      "1 ('Connection aborted.', ConnectionResetError(104, 'Connection reset by peer'))\n",
      "2 ('Connection aborted.', ConnectionResetError(104, 'Connection reset by peer'))\n"
     ]
    },
    {
     "name": "stderr",
     "output_type": "stream",
     "text": [
      " 99%|█████████████████████████████████▌| 16798/16986 [10:30:32<02:13,  1.41it/s]"
     ]
    },
    {
     "name": "stdout",
     "output_type": "stream",
     "text": [
      "0 ('Connection aborted.', ConnectionResetError(104, 'Connection reset by peer'))\n",
      "1 ('Connection aborted.', ConnectionResetError(104, 'Connection reset by peer'))\n",
      "2 ('Connection aborted.', ConnectionResetError(104, 'Connection reset by peer'))\n"
     ]
    },
    {
     "name": "stderr",
     "output_type": "stream",
     "text": [
      " 99%|█████████████████████████████████▋| 16804/16986 [10:30:56<14:08,  4.66s/it]"
     ]
    },
    {
     "name": "stdout",
     "output_type": "stream",
     "text": [
      "0 ('Connection aborted.', ConnectionResetError(104, 'Connection reset by peer'))\n",
      "1 ('Connection aborted.', ConnectionResetError(104, 'Connection reset by peer'))\n",
      "2 ('Connection aborted.', ConnectionResetError(104, 'Connection reset by peer'))\n"
     ]
    },
    {
     "name": "stderr",
     "output_type": "stream",
     "text": [
      "\r",
      " 99%|█████████████████████████████████▋| 16805/16986 [10:30:57<11:35,  3.84s/it]"
     ]
    },
    {
     "name": "stdout",
     "output_type": "stream",
     "text": [
      "0 ('Connection aborted.', ConnectionResetError(104, 'Connection reset by peer'))\n",
      "1 ('Connection aborted.', ConnectionResetError(104, 'Connection reset by peer'))\n",
      "2 ('Connection aborted.', ConnectionResetError(104, 'Connection reset by peer'))\n"
     ]
    },
    {
     "name": "stderr",
     "output_type": "stream",
     "text": [
      " 99%|█████████████████████████████████▋| 16821/16986 [10:32:06<07:54,  2.88s/it]"
     ]
    },
    {
     "name": "stdout",
     "output_type": "stream",
     "text": [
      "0 HTTPConnectionPool(host='kastoria.teikoz.gr', port=80): Max retries exceeded with url: /icoae2/wordpress/wp-content/uploads/2011/10/038.pdf (Caused by NewConnectionError('<urllib3.connection.HTTPConnection object at 0x7fc3abfa5a90>: Failed to establish a new connection: [Errno -5] No address associated with hostname'))\n",
      "1 HTTPConnectionPool(host='kastoria.teikoz.gr', port=80): Max retries exceeded with url: /icoae2/wordpress/wp-content/uploads/2011/10/038.pdf (Caused by NewConnectionError('<urllib3.connection.HTTPConnection object at 0x7fc3abfa52b0>: Failed to establish a new connection: [Errno -5] No address associated with hostname'))\n",
      "2 HTTPConnectionPool(host='kastoria.teikoz.gr', port=80): Max retries exceeded with url: /icoae2/wordpress/wp-content/uploads/2011/10/038.pdf (Caused by NewConnectionError('<urllib3.connection.HTTPConnection object at 0x7fc3abfa5610>: Failed to establish a new connection: [Errno -5] No address associated with hostname'))\n"
     ]
    },
    {
     "name": "stderr",
     "output_type": "stream",
     "text": [
      " 99%|█████████████████████████████████▋| 16837/16986 [10:32:40<04:22,  1.76s/it]"
     ]
    },
    {
     "name": "stdout",
     "output_type": "stream",
     "text": [
      "0 HTTPConnectionPool(host='t.upm.edu.my', port=80): Max retries exceeded with url: /dokumen/FKUSK1_Jurnal_Text_Article_3.pdf (Caused by NewConnectionError('<urllib3.connection.HTTPConnection object at 0x7fc3abfa59a0>: Failed to establish a new connection: [Errno -5] No address associated with hostname'))\n",
      "1 HTTPConnectionPool(host='t.upm.edu.my', port=80): Max retries exceeded with url: /dokumen/FKUSK1_Jurnal_Text_Article_3.pdf (Caused by NewConnectionError('<urllib3.connection.HTTPConnection object at 0x7fc3abfa5d00>: Failed to establish a new connection: [Errno -5] No address associated with hostname'))\n",
      "2 HTTPConnectionPool(host='t.upm.edu.my', port=80): Max retries exceeded with url: /dokumen/FKUSK1_Jurnal_Text_Article_3.pdf (Caused by NewConnectionError('<urllib3.connection.HTTPConnection object at 0x7fc3abfa5580>: Failed to establish a new connection: [Errno -5] No address associated with hostname'))\n"
     ]
    },
    {
     "name": "stderr",
     "output_type": "stream",
     "text": [
      "100%|█████████████████████████████████▊| 16908/16986 [10:35:37<02:43,  2.10s/it]"
     ]
    },
    {
     "name": "stdout",
     "output_type": "stream",
     "text": [
      "0 HTTPConnectionPool(host='www.atrf11.unisa.edu.au', port=80): Max retries exceeded with url: /Assets/Papers/ATRF11_0135_final.pdf (Caused by NewConnectionError('<urllib3.connection.HTTPConnection object at 0x7fc3abfd0550>: Failed to establish a new connection: [Errno -2] Name or service not known'))\n",
      "1 HTTPConnectionPool(host='www.atrf11.unisa.edu.au', port=80): Max retries exceeded with url: /Assets/Papers/ATRF11_0135_final.pdf (Caused by NewConnectionError('<urllib3.connection.HTTPConnection object at 0x7fc3abfd05e0>: Failed to establish a new connection: [Errno -2] Name or service not known'))\n",
      "2 HTTPConnectionPool(host='www.atrf11.unisa.edu.au', port=80): Max retries exceeded with url: /Assets/Papers/ATRF11_0135_final.pdf (Caused by NewConnectionError('<urllib3.connection.HTTPConnection object at 0x7fc3abfd0580>: Failed to establish a new connection: [Errno -2] Name or service not known'))\n"
     ]
    },
    {
     "name": "stderr",
     "output_type": "stream",
     "text": [
      "100%|█████████████████████████████████▊| 16910/16986 [10:35:43<03:13,  2.54s/it]"
     ]
    },
    {
     "name": "stdout",
     "output_type": "stream",
     "text": [
      "0 HTTPConnectionPool(host='www.bjrst.unimas.my', port=80): Max retries exceeded with url: /images/repository/vol3-no2-paper6.pdf (Caused by NewConnectionError('<urllib3.connection.HTTPConnection object at 0x7fc3abfd05e0>: Failed to establish a new connection: [Errno -2] Name or service not known'))\n",
      "1 HTTPConnectionPool(host='www.bjrst.unimas.my', port=80): Max retries exceeded with url: /images/repository/vol3-no2-paper6.pdf (Caused by NewConnectionError('<urllib3.connection.HTTPConnection object at 0x7fc3abfd0760>: Failed to establish a new connection: [Errno -2] Name or service not known'))\n",
      "2 HTTPConnectionPool(host='www.bjrst.unimas.my', port=80): Max retries exceeded with url: /images/repository/vol3-no2-paper6.pdf (Caused by NewConnectionError('<urllib3.connection.HTTPConnection object at 0x7fc3abfd00a0>: Failed to establish a new connection: [Errno -2] Name or service not known'))\n"
     ]
    },
    {
     "name": "stderr",
     "output_type": "stream",
     "text": [
      "100%|█████████████████████████████████▊| 16920/16986 [10:36:00<01:22,  1.25s/it]"
     ]
    },
    {
     "name": "stdout",
     "output_type": "stream",
     "text": [
      "0 ('Connection aborted.', ConnectionResetError(104, 'Connection reset by peer'))\n",
      "1 ('Connection aborted.', ConnectionResetError(104, 'Connection reset by peer'))\n",
      "2 ('Connection aborted.', ConnectionResetError(104, 'Connection reset by peer'))\n"
     ]
    },
    {
     "name": "stderr",
     "output_type": "stream",
     "text": [
      "100%|█████████████████████████████████▉| 16925/16986 [10:36:06<01:15,  1.24s/it]"
     ]
    },
    {
     "name": "stdout",
     "output_type": "stream",
     "text": [
      "0 HTTPConnectionPool(host='www.icce2010.upm.edu.my', port=80): Max retries exceeded with url: /papers/c6/full%20paper/C6FP12.pdf (Caused by NewConnectionError('<urllib3.connection.HTTPConnection object at 0x7fc3abfe3790>: Failed to establish a new connection: [Errno -2] Name or service not known'))\n",
      "1 HTTPConnectionPool(host='www.icce2010.upm.edu.my', port=80): Max retries exceeded with url: /papers/c6/full%20paper/C6FP12.pdf (Caused by NewConnectionError('<urllib3.connection.HTTPConnection object at 0x7fc3abfe3610>: Failed to establish a new connection: [Errno -2] Name or service not known'))\n",
      "2 HTTPConnectionPool(host='www.icce2010.upm.edu.my', port=80): Max retries exceeded with url: /papers/c6/full%20paper/C6FP12.pdf (Caused by NewConnectionError('<urllib3.connection.HTTPConnection object at 0x7fc3abfe3640>: Failed to establish a new connection: [Errno -2] Name or service not known'))\n"
     ]
    },
    {
     "name": "stderr",
     "output_type": "stream",
     "text": [
      "100%|█████████████████████████████████▉| 16940/16986 [10:36:27<01:01,  1.33s/it]"
     ]
    },
    {
     "name": "stdout",
     "output_type": "stream",
     "text": [
      "0 HTTPConnectionPool(host='www.kmice.cms.net.my', port=80): Max retries exceeded with url: /ProcKMICe/KMICe2010/Paper/PG32_37.pdf (Caused by NewConnectionError('<urllib3.connection.HTTPConnection object at 0x7fc3abfe36a0>: Failed to establish a new connection: [Errno -2] Name or service not known'))\n",
      "1 HTTPConnectionPool(host='www.kmice.cms.net.my', port=80): Max retries exceeded with url: /ProcKMICe/KMICe2010/Paper/PG32_37.pdf (Caused by NewConnectionError('<urllib3.connection.HTTPConnection object at 0x7fc3abfe3280>: Failed to establish a new connection: [Errno -2] Name or service not known'))\n",
      "2 HTTPConnectionPool(host='www.kmice.cms.net.my', port=80): Max retries exceeded with url: /ProcKMICe/KMICe2010/Paper/PG32_37.pdf (Caused by NewConnectionError('<urllib3.connection.HTTPConnection object at 0x7fc3abfe3c70>: Failed to establish a new connection: [Errno -2] Name or service not known'))\n"
     ]
    },
    {
     "name": "stderr",
     "output_type": "stream",
     "text": [
      "100%|█████████████████████████████████▉| 16966/16986 [10:37:09<00:41,  2.08s/it]"
     ]
    },
    {
     "name": "stdout",
     "output_type": "stream",
     "text": [
      "0 HTTPSConnectionPool(host='conference.kuis.edu.my', port=443): Max retries exceeded with url: /i-maf/images/eproceedings/2014/zakat/z05-imaf-2014.pdf (Caused by NewConnectionError('<urllib3.connection.HTTPSConnection object at 0x7fc3abfe3520>: Failed to establish a new connection: [Errno 111] Connection refused'))\n",
      "1 HTTPSConnectionPool(host='conference.kuis.edu.my', port=443): Max retries exceeded with url: /i-maf/images/eproceedings/2014/zakat/z05-imaf-2014.pdf (Caused by NewConnectionError('<urllib3.connection.HTTPSConnection object at 0x7fc3abfd0b20>: Failed to establish a new connection: [Errno 111] Connection refused'))\n",
      "2 HTTPSConnectionPool(host='conference.kuis.edu.my', port=443): Max retries exceeded with url: /i-maf/images/eproceedings/2014/zakat/z05-imaf-2014.pdf (Caused by NewConnectionError('<urllib3.connection.HTTPSConnection object at 0x7fc3abfd09d0>: Failed to establish a new connection: [Errno 111] Connection refused'))\n"
     ]
    },
    {
     "name": "stderr",
     "output_type": "stream",
     "text": [
      "100%|█████████████████████████████████▉| 16972/16986 [10:37:19<00:27,  1.93s/it]"
     ]
    },
    {
     "name": "stdout",
     "output_type": "stream",
     "text": [
      "0 HTTPSConnectionPool(host='ir.kochi-u.ac.jp', port=443): Max retries exceeded with url: /dspace/bitstream/10126/5260/1/kuro.7.1.9.pdf (Caused by NewConnectionError('<urllib3.connection.HTTPSConnection object at 0x7fc3abfa5c10>: Failed to establish a new connection: [Errno 110] Connection timed out'))\n",
      "1 HTTPSConnectionPool(host='ir.kochi-u.ac.jp', port=443): Max retries exceeded with url: /dspace/bitstream/10126/5260/1/kuro.7.1.9.pdf (Caused by NewConnectionError('<urllib3.connection.HTTPSConnection object at 0x7fc3c8903310>: Failed to establish a new connection: [Errno 110] Connection timed out'))\n",
      "2 HTTPSConnectionPool(host='ir.kochi-u.ac.jp', port=443): Max retries exceeded with url: /dspace/bitstream/10126/5260/1/kuro.7.1.9.pdf (Caused by NewConnectionError('<urllib3.connection.HTTPSConnection object at 0x7fc3abfe31c0>: Failed to establish a new connection: [Errno 110] Connection timed out'))\n"
     ]
    },
    {
     "name": "stderr",
     "output_type": "stream",
     "text": [
      "\r",
      "100%|████████████████████████████████▉| 16973/16986 [10:43:53<25:26, 117.43s/it]"
     ]
    },
    {
     "name": "stdout",
     "output_type": "stream",
     "text": [
      "0 HTTPSConnectionPool(host='ir.kochi-u.ac.jp', port=443): Max retries exceeded with url: /dspace/bitstream/10126/5426/2/8-1.71.pdf (Caused by NewConnectionError('<urllib3.connection.HTTPSConnection object at 0x7fc3c8826c10>: Failed to establish a new connection: [Errno 110] Connection timed out'))\n",
      "1 HTTPSConnectionPool(host='ir.kochi-u.ac.jp', port=443): Max retries exceeded with url: /dspace/bitstream/10126/5426/2/8-1.71.pdf (Caused by NewConnectionError('<urllib3.connection.HTTPSConnection object at 0x7fc3abffe070>: Failed to establish a new connection: [Errno 110] Connection timed out'))\n",
      "2 HTTPSConnectionPool(host='ir.kochi-u.ac.jp', port=443): Max retries exceeded with url: /dspace/bitstream/10126/5426/2/8-1.71.pdf (Caused by NewConnectionError('<urllib3.connection.HTTPSConnection object at 0x7fc3abfe34f0>: Failed to establish a new connection: [Errno 110] Connection timed out'))\n"
     ]
    },
    {
     "name": "stderr",
     "output_type": "stream",
     "text": [
      "100%|█████████████████████████████████▉| 16977/16986 [10:50:33<10:35, 70.59s/it]"
     ]
    },
    {
     "name": "stdout",
     "output_type": "stream",
     "text": [
      "0 HTTPSConnectionPool(host='my.laureate.net', port=443): Max retries exceeded with url: /Faculty/docs/Faculty%20Documents/INTI%20Conferences/Parallel%20Sessions%201/1B/1B-02-P52%20(Malaysia).pdf (Caused by NewConnectionError('<urllib3.connection.HTTPSConnection object at 0x7fc3c88f9130>: Failed to establish a new connection: [Errno -5] No address associated with hostname'))\n",
      "1 HTTPSConnectionPool(host='my.laureate.net', port=443): Max retries exceeded with url: /Faculty/docs/Faculty%20Documents/INTI%20Conferences/Parallel%20Sessions%201/1B/1B-02-P52%20(Malaysia).pdf (Caused by NewConnectionError('<urllib3.connection.HTTPSConnection object at 0x7fc3c8903250>: Failed to establish a new connection: [Errno -5] No address associated with hostname'))\n",
      "2 HTTPSConnectionPool(host='my.laureate.net', port=443): Max retries exceeded with url: /Faculty/docs/Faculty%20Documents/INTI%20Conferences/Parallel%20Sessions%201/1B/1B-02-P52%20(Malaysia).pdf (Caused by NewConnectionError('<urllib3.connection.HTTPSConnection object at 0x7fc3c8903580>: Failed to establish a new connection: [Errno -5] No address associated with hostname'))\n"
     ]
    },
    {
     "name": "stderr",
     "output_type": "stream",
     "text": [
      "100%|██████████████████████████████████| 16986/16986 [10:50:45<00:00,  2.30s/it]\n"
     ]
    }
   ],
   "source": [
    "max_worker = 1\n",
    "\n",
    "unimas = sorted(list(unimas))\n",
    "for i in tqdm(range(0, len(unimas), max_worker)):\n",
    "    urls = [(url, os.path.join('unimas', f'{i}-{no}.pdf')) for no, url in enumerate(unimas[i: i + max_worker])]\n",
    "    \n",
    "    with ThreadPoolExecutor(max_workers=max_worker) as executor:\n",
    "        futures = {executor.submit(download, url[0], url[1]): url for url in urls}\n",
    "\n",
    "        for future in as_completed(futures):\n",
    "            future.result()"
   ]
  },
  {
   "cell_type": "code",
   "execution_count": 12,
   "metadata": {},
   "outputs": [
    {
     "name": "stdout",
     "output_type": "stream",
     "text": [
      "68G\tunimas\r\n"
     ]
    }
   ],
   "source": [
    "!du -hs unimas"
   ]
  }
 ],
 "metadata": {
  "kernelspec": {
   "display_name": "Python 3 (ipykernel)",
   "language": "python",
   "name": "python3"
  },
  "language_info": {
   "codemirror_mode": {
    "name": "ipython",
    "version": 3
   },
   "file_extension": ".py",
   "mimetype": "text/x-python",
   "name": "python",
   "nbconvert_exporter": "python",
   "pygments_lexer": "ipython3",
   "version": "3.8.10"
  }
 },
 "nbformat": 4,
 "nbformat_minor": 4
}
