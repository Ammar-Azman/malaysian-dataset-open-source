{
 "cells": [
  {
   "cell_type": "code",
   "execution_count": 1,
   "metadata": {},
   "outputs": [],
   "source": [
    "import urllib3\n",
    "urllib3.disable_warnings(urllib3.exceptions.InsecureRequestWarning)"
   ]
  },
  {
   "cell_type": "code",
   "execution_count": 2,
   "metadata": {},
   "outputs": [],
   "source": [
    "import requests\n",
    "import json\n",
    "import os\n",
    "import re\n",
    "import time\n",
    "from tqdm import tqdm\n",
    "from glob import glob\n",
    "from concurrent.futures import ThreadPoolExecutor, as_completed"
   ]
  },
  {
   "cell_type": "code",
   "execution_count": 19,
   "metadata": {},
   "outputs": [],
   "source": [
    "def download(url, file_name, retry = 3):\n",
    "    if os.path.exists(file_name) and os.path.getsize(file_name) > 50000:\n",
    "        return\n",
    "    with open(file_name, \"wb\") as file:\n",
    "        for k in range(retry):\n",
    "            try:\n",
    "                response = requests.get(url, verify = False, timeout = 360)\n",
    "                file.write(response.content)\n",
    "                return\n",
    "            except Exception as e:\n",
    "                print(k, e, url)\n",
    "                time.sleep(0.5)"
   ]
  },
  {
   "cell_type": "code",
   "execution_count": 4,
   "metadata": {},
   "outputs": [
    {
     "data": {
      "text/plain": [
       "18787"
      ]
     },
     "execution_count": 4,
     "metadata": {},
     "output_type": "execute_result"
    }
   ],
   "source": [
    "files = glob('pages/*.json')\n",
    "len(files)"
   ]
  },
  {
   "cell_type": "code",
   "execution_count": 5,
   "metadata": {
    "scrolled": true
   },
   "outputs": [],
   "source": [
    "pdfs = []\n",
    "for f in files:\n",
    "    with open(f) as fopen:\n",
    "        pdfs.extend(json.load(fopen))\n",
    "        \n",
    "pdfs = list(set(pdfs))"
   ]
  },
  {
   "cell_type": "code",
   "execution_count": 6,
   "metadata": {},
   "outputs": [
    {
     "name": "stderr",
     "output_type": "stream",
     "text": [
      "100%|███████████████████████████████| 235433/235433 [00:00<00:00, 628002.20it/s]\n"
     ]
    },
    {
     "data": {
      "text/plain": [
       "235130"
      ]
     },
     "execution_count": 6,
     "metadata": {},
     "output_type": "execute_result"
    }
   ],
   "source": [
    "filtered_pdfs = []\n",
    "for p in tqdm(pdfs):\n",
    "    if len(re.findall( r'[0-9]+(?:\\.[0-9]+){3}', p)):\n",
    "        continue\n",
    "    if not p.endswith('.pdf'):\n",
    "        continue\n",
    "    if 'ade.sagepub.com' in p:\n",
    "        continue\n",
    "    filtered_pdfs.append(p)\n",
    "    \n",
    "filtered_pdfs = sorted(list(set(filtered_pdfs)))\n",
    "len(filtered_pdfs)"
   ]
  },
  {
   "cell_type": "code",
   "execution_count": 9,
   "metadata": {},
   "outputs": [
    {
     "data": {
      "text/plain": [
       "76"
      ]
     },
     "execution_count": 9,
     "metadata": {},
     "output_type": "execute_result"
    }
   ],
   "source": [
    "upm = [f for f in filtered_pdfs if 'upm.edu.my' in f]\n",
    "len(upm)"
   ]
  },
  {
   "cell_type": "code",
   "execution_count": 22,
   "metadata": {},
   "outputs": [],
   "source": [
    "!rm -rf upm\n",
    "!mkdir upm"
   ]
  },
  {
   "cell_type": "code",
   "execution_count": 23,
   "metadata": {},
   "outputs": [
    {
     "name": "stderr",
     "output_type": "stream",
     "text": [
      "100%|███████████████████████████████████████████| 76/76 [00:15<00:00,  4.77it/s]\n"
     ]
    }
   ],
   "source": [
    "max_worker = 1\n",
    "\n",
    "upm = sorted(list(upm))\n",
    "for i in tqdm(range(0, len(upm), max_worker)):\n",
    "    urls = [(url, os.path.join('upm', f'{i}-{no}.pdf')) for no, url in enumerate(upm[i: i + max_worker])]\n",
    "    \n",
    "    with ThreadPoolExecutor(max_workers=max_worker) as executor:\n",
    "        futures = {executor.submit(download, url[0], url[1]): url for url in urls}\n",
    "\n",
    "        for future in as_completed(futures):\n",
    "            future.result()"
   ]
  },
  {
   "cell_type": "code",
   "execution_count": 21,
   "metadata": {},
   "outputs": [
    {
     "name": "stdout",
     "output_type": "stream",
     "text": [
      "7.2M\tupm\r\n"
     ]
    }
   ],
   "source": [
    "!du -hs upm"
   ]
  },
  {
   "cell_type": "code",
   "execution_count": 14,
   "metadata": {},
   "outputs": [
    {
     "data": {
      "text/plain": [
       "1854"
      ]
     },
     "execution_count": 14,
     "metadata": {},
     "output_type": "execute_result"
    }
   ],
   "source": [
    "os.path.getsize('upm/16-0.pdf')"
   ]
  },
  {
   "cell_type": "code",
   "execution_count": 18,
   "metadata": {},
   "outputs": [
    {
     "name": "stdout",
     "output_type": "stream",
     "text": [
      "total 7.2M\r\n",
      "drwxr-xr-x  2 husein husein 4.0K Mei  27 10:37 .\r\n",
      "drwxr-xr-x 12 husein husein 4.0K Mei  27 16:59 ..\r\n",
      "-rw-r--r--  1 husein husein  60K Mei  27 10:37 0-0.pdf\r\n",
      "-rw-r--r--  1 husein husein 360K Mei  27 10:37 10-0.pdf\r\n",
      "-rw-r--r--  1 husein husein  60K Mei  27 10:37 1-0.pdf\r\n",
      "-rw-r--r--  1 husein husein 484K Mei  27 10:37 11-0.pdf\r\n",
      "-rw-r--r--  1 husein husein 477K Mei  27 10:37 12-0.pdf\r\n",
      "-rw-r--r--  1 husein husein 694K Mei  27 10:37 13-0.pdf\r\n",
      "-rw-r--r--  1 husein husein 604K Mei  27 10:37 14-0.pdf\r\n",
      "-rw-r--r--  1 husein husein 566K Mei  27 10:37 15-0.pdf\r\n",
      "-rw-r--r--  1 husein husein 1.9K Mei  27 16:59 16-0.pdf\r\n",
      "-rw-r--r--  1 husein husein 1.9K Mei  27 16:59 17-0.pdf\r\n",
      "-rw-r--r--  1 husein husein 1.9K Mei  27 16:59 18-0.pdf\r\n",
      "-rw-r--r--  1 husein husein 1.9K Mei  27 16:59 19-0.pdf\r\n",
      "-rw-r--r--  1 husein husein 1.9K Mei  27 16:59 20-0.pdf\r\n",
      "-rw-r--r--  1 husein husein  60K Mei  27 10:37 2-0.pdf\r\n",
      "-rw-r--r--  1 husein husein 1.9K Mei  27 16:59 21-0.pdf\r\n",
      "-rw-r--r--  1 husein husein 1.9K Mei  27 16:59 22-0.pdf\r\n",
      "-rw-r--r--  1 husein husein 1.9K Mei  27 16:59 23-0.pdf\r\n",
      "-rw-r--r--  1 husein husein 1.9K Mei  27 16:59 24-0.pdf\r\n",
      "-rw-r--r--  1 husein husein 1.9K Mei  27 16:59 25-0.pdf\r\n",
      "-rw-r--r--  1 husein husein 1.9K Mei  27 16:59 26-0.pdf\r\n",
      "-rw-r--r--  1 husein husein 1.9K Mei  27 16:59 27-0.pdf\r\n",
      "-rw-r--r--  1 husein husein 1.9K Mei  27 16:59 28-0.pdf\r\n",
      "-rw-r--r--  1 husein husein 1.9K Mei  27 16:59 29-0.pdf\r\n",
      "-rw-r--r--  1 husein husein 1.9K Mei  27 16:59 30-0.pdf\r\n",
      "-rw-r--r--  1 husein husein  60K Mei  27 10:37 3-0.pdf\r\n",
      "-rw-r--r--  1 husein husein 1.9K Mei  27 16:59 31-0.pdf\r\n",
      "-rw-r--r--  1 husein husein 1.9K Mei  27 16:59 32-0.pdf\r\n",
      "-rw-r--r--  1 husein husein 1.9K Mei  27 16:59 33-0.pdf\r\n",
      "-rw-r--r--  1 husein husein 1.9K Mei  27 16:59 34-0.pdf\r\n",
      "-rw-r--r--  1 husein husein 1.9K Mei  27 16:59 35-0.pdf\r\n",
      "-rw-r--r--  1 husein husein 1.9K Mei  27 16:59 36-0.pdf\r\n",
      "-rw-r--r--  1 husein husein 1.9K Mei  27 16:59 37-0.pdf\r\n",
      "-rw-r--r--  1 husein husein 1.9K Mei  27 16:59 38-0.pdf\r\n",
      "-rw-r--r--  1 husein husein 1.9K Mei  27 16:59 39-0.pdf\r\n",
      "-rw-r--r--  1 husein husein 1.9K Mei  27 16:59 40-0.pdf\r\n",
      "-rw-r--r--  1 husein husein 100K Mei  27 10:37 4-0.pdf\r\n",
      "-rw-r--r--  1 husein husein 1.9K Mei  27 16:59 41-0.pdf\r\n",
      "-rw-r--r--  1 husein husein 1.9K Mei  27 16:59 42-0.pdf\r\n",
      "-rw-r--r--  1 husein husein 1.9K Mei  27 16:59 43-0.pdf\r\n",
      "-rw-r--r--  1 husein husein 1.9K Mei  27 16:59 44-0.pdf\r\n",
      "-rw-r--r--  1 husein husein 1.9K Mei  27 16:59 45-0.pdf\r\n",
      "-rw-r--r--  1 husein husein 1.9K Mei  27 16:59 46-0.pdf\r\n",
      "-rw-r--r--  1 husein husein 1.9K Mei  27 16:59 47-0.pdf\r\n",
      "-rw-r--r--  1 husein husein 1.9K Mei  27 16:59 48-0.pdf\r\n",
      "-rw-r--r--  1 husein husein 1.9K Mei  27 16:59 49-0.pdf\r\n",
      "-rw-r--r--  1 husein husein 1.9K Mei  27 16:59 50-0.pdf\r\n",
      "-rw-r--r--  1 husein husein 122K Mei  27 10:37 5-0.pdf\r\n",
      "-rw-r--r--  1 husein husein 1.9K Mei  27 16:59 51-0.pdf\r\n",
      "-rw-r--r--  1 husein husein 1.9K Mei  27 16:59 52-0.pdf\r\n",
      "-rw-r--r--  1 husein husein 1.9K Mei  27 16:59 53-0.pdf\r\n",
      "-rw-r--r--  1 husein husein 1.9K Mei  27 16:59 54-0.pdf\r\n",
      "-rw-r--r--  1 husein husein 1.9K Mei  27 16:59 55-0.pdf\r\n",
      "-rw-r--r--  1 husein husein 1.9K Mei  27 16:59 56-0.pdf\r\n",
      "-rw-r--r--  1 husein husein 1.9K Mei  27 16:59 57-0.pdf\r\n",
      "-rw-r--r--  1 husein husein 1.9K Mei  27 16:59 58-0.pdf\r\n",
      "-rw-r--r--  1 husein husein 1.9K Mei  27 16:59 59-0.pdf\r\n",
      "-rw-r--r--  1 husein husein 1.9K Mei  27 16:59 60-0.pdf\r\n",
      "-rw-r--r--  1 husein husein 362K Mei  27 10:37 6-0.pdf\r\n",
      "-rw-r--r--  1 husein husein 1.9K Mei  27 16:59 61-0.pdf\r\n",
      "-rw-r--r--  1 husein husein 1.9K Mei  27 16:59 62-0.pdf\r\n",
      "-rw-r--r--  1 husein husein 1.9K Mei  27 16:59 63-0.pdf\r\n",
      "-rw-r--r--  1 husein husein 1.9K Mei  27 16:59 64-0.pdf\r\n",
      "-rw-r--r--  1 husein husein 1.9K Mei  27 16:59 65-0.pdf\r\n",
      "-rw-r--r--  1 husein husein 1.9K Mei  27 16:59 66-0.pdf\r\n",
      "-rw-r--r--  1 husein husein 1.9K Mei  27 16:59 67-0.pdf\r\n",
      "-rw-r--r--  1 husein husein 1.9K Mei  27 16:59 68-0.pdf\r\n",
      "-rw-r--r--  1 husein husein 367K Mei  27 10:37 69-0.pdf\r\n",
      "-rw-r--r--  1 husein husein 536K Mei  27 10:37 70-0.pdf\r\n",
      "-rw-r--r--  1 husein husein 334K Mei  27 10:37 7-0.pdf\r\n",
      "-rw-r--r--  1 husein husein 162K Mei  27 10:37 71-0.pdf\r\n",
      "-rw-r--r--  1 husein husein 108K Mei  27 10:37 72-0.pdf\r\n",
      "-rw-r--r--  1 husein husein 132K Mei  27 10:37 73-0.pdf\r\n",
      "-rw-r--r--  1 husein husein 258K Mei  27 10:37 74-0.pdf\r\n",
      "-rw-r--r--  1 husein husein 494K Mei  27 10:37 75-0.pdf\r\n",
      "-rw-r--r--  1 husein husein 296K Mei  27 10:37 8-0.pdf\r\n",
      "-rw-r--r--  1 husein husein 409K Mei  27 10:37 9-0.pdf\r\n"
     ]
    }
   ],
   "source": [
    "!ls -lha upm"
   ]
  },
  {
   "cell_type": "code",
   "execution_count": null,
   "metadata": {},
   "outputs": [],
   "source": []
  }
 ],
 "metadata": {
  "kernelspec": {
   "display_name": "Python 3 (ipykernel)",
   "language": "python",
   "name": "python3"
  },
  "language_info": {
   "codemirror_mode": {
    "name": "ipython",
    "version": 3
   },
   "file_extension": ".py",
   "mimetype": "text/x-python",
   "name": "python",
   "nbconvert_exporter": "python",
   "pygments_lexer": "ipython3",
   "version": "3.8.10"
  }
 },
 "nbformat": 4,
 "nbformat_minor": 4
}
