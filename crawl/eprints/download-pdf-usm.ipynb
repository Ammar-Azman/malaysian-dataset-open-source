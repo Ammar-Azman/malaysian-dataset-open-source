{
 "cells": [
  {
   "cell_type": "code",
   "execution_count": 1,
   "metadata": {},
   "outputs": [],
   "source": [
    "import urllib3\n",
    "urllib3.disable_warnings(urllib3.exceptions.InsecureRequestWarning)"
   ]
  },
  {
   "cell_type": "code",
   "execution_count": 2,
   "metadata": {},
   "outputs": [],
   "source": [
    "import requests\n",
    "import json\n",
    "import os\n",
    "import re\n",
    "import time\n",
    "from tqdm import tqdm\n",
    "from glob import glob\n",
    "from concurrent.futures import ThreadPoolExecutor, as_completed"
   ]
  },
  {
   "cell_type": "code",
   "execution_count": 3,
   "metadata": {},
   "outputs": [],
   "source": [
    "cookies = {\n",
    "    '_ga': 'GA1.2.2139615999.1684772915',\n",
    "}\n",
    "\n",
    "headers = {\n",
    "    'Accept': 'text/html,application/xhtml+xml,application/xml;q=0.9,image/avif,image/webp,image/apng,*/*;q=0.8,application/signed-exchange;v=b3;q=0.7',\n",
    "    'Accept-Language': 'en-MY,en;q=0.9,en-US;q=0.8,ms;q=0.7',\n",
    "    'Cache-Control': 'no-cache',\n",
    "    'Connection': 'keep-alive',\n",
    "    # 'Cookie': '_ga=GA1.2.2139615999.1684772915',\n",
    "    'Pragma': 'no-cache',\n",
    "    'Upgrade-Insecure-Requests': '1',\n",
    "    'User-Agent': 'Mozilla/5.0 (Macintosh; Intel Mac OS X 10_15_7) AppleWebKit/537.36 (KHTML, like Gecko) Chrome/113.0.0.0 Safari/537.36',\n",
    "}"
   ]
  },
  {
   "cell_type": "code",
   "execution_count": 4,
   "metadata": {},
   "outputs": [],
   "source": [
    "def download(url, file_name, retry = 3):\n",
    "    if os.path.exists(file_name) and os.path.getsize(file_name) > 50000:\n",
    "        return\n",
    "    with open(file_name, \"wb\") as file:\n",
    "        for k in range(retry):\n",
    "            try:\n",
    "                response = requests.get(url, verify = False, timeout = 360, cookies=cookies,\n",
    "    headers=headers,)\n",
    "                file.write(response.content)\n",
    "                return \n",
    "            except Exception as e:\n",
    "                print(k, e)\n",
    "                time.sleep(0.5)"
   ]
  },
  {
   "cell_type": "code",
   "execution_count": 5,
   "metadata": {},
   "outputs": [
    {
     "data": {
      "text/plain": [
       "18787"
      ]
     },
     "execution_count": 5,
     "metadata": {},
     "output_type": "execute_result"
    }
   ],
   "source": [
    "files = glob('pages/*.json')\n",
    "len(files)"
   ]
  },
  {
   "cell_type": "code",
   "execution_count": 6,
   "metadata": {
    "scrolled": true
   },
   "outputs": [],
   "source": [
    "pdfs = []\n",
    "for f in files:\n",
    "    with open(f) as fopen:\n",
    "        pdfs.extend(json.load(fopen))\n",
    "        \n",
    "pdfs = list(set(pdfs))"
   ]
  },
  {
   "cell_type": "code",
   "execution_count": 7,
   "metadata": {},
   "outputs": [
    {
     "name": "stderr",
     "output_type": "stream",
     "text": [
      "100%|███████████████████████████████| 235433/235433 [00:00<00:00, 639115.93it/s]\n"
     ]
    },
    {
     "data": {
      "text/plain": [
       "235130"
      ]
     },
     "execution_count": 7,
     "metadata": {},
     "output_type": "execute_result"
    }
   ],
   "source": [
    "filtered_pdfs = []\n",
    "for p in tqdm(pdfs):\n",
    "    if len(re.findall( r'[0-9]+(?:\\.[0-9]+){3}', p)):\n",
    "        continue\n",
    "    if not p.endswith('.pdf'):\n",
    "        continue\n",
    "    if 'ade.sagepub.com' in p:\n",
    "        continue\n",
    "    filtered_pdfs.append(p)\n",
    "    \n",
    "filtered_pdfs = sorted(list(set(filtered_pdfs)))\n",
    "len(filtered_pdfs)"
   ]
  },
  {
   "cell_type": "code",
   "execution_count": 8,
   "metadata": {},
   "outputs": [
    {
     "data": {
      "text/plain": [
       "35731"
      ]
     },
     "execution_count": 8,
     "metadata": {},
     "output_type": "execute_result"
    }
   ],
   "source": [
    "usm = [f for f in filtered_pdfs if 'usm.my' in f]\n",
    "len(usm)"
   ]
  },
  {
   "cell_type": "code",
   "execution_count": 9,
   "metadata": {},
   "outputs": [
    {
     "name": "stdout",
     "output_type": "stream",
     "text": [
      "mkdir: cannot create directory ‘usm’: File exists\r\n"
     ]
    }
   ],
   "source": [
    "# !rm -rf usm\n",
    "!mkdir usm"
   ]
  },
  {
   "cell_type": "code",
   "execution_count": 10,
   "metadata": {},
   "outputs": [
    {
     "name": "stderr",
     "output_type": "stream",
     "text": [
      "  2%|▊                                      | 763/35731 [00:28<19:33, 29.81it/s]"
     ]
    },
    {
     "name": "stdout",
     "output_type": "stream",
     "text": [
      "0 HTTPConnectionPool(host='eprints.usm.my', port=80): Max retries exceeded with url: /1285/1/YSF_512_-_SEJARAH_FILEM_SEPT.02.pdf (Caused by NewConnectionError('<urllib3.connection.HTTPConnection object at 0x7f57687e9820>: Failed to establish a new connection: [Errno 110] Connection timed out'))\n"
     ]
    },
    {
     "name": "stderr",
     "output_type": "stream",
     "text": [
      "  3%|█                                   | 1100/35731 [03:41<2:55:05,  3.30it/s]"
     ]
    },
    {
     "name": "stdout",
     "output_type": "stream",
     "text": [
      "0 HTTPConnectionPool(host='eprints.usm.my', port=80): Max retries exceeded with url: /13757/1/EBS_215-3_-_COMMINUTION_AND_SIZING_APR-MEI_09.pdf (Caused by NewConnectionError('<urllib3.connection.HTTPConnection object at 0x7f5768785a00>: Failed to establish a new connection: [Errno 110] Connection timed out'))\n"
     ]
    },
    {
     "name": "stderr",
     "output_type": "stream",
     "text": [
      "  3%|█                                 | 1103/35731 [05:54<188:50:55, 19.63s/it]"
     ]
    },
    {
     "name": "stdout",
     "output_type": "stream",
     "text": [
      "0 HTTPConnectionPool(host='eprints.usm.my', port=80): Max retries exceeded with url: /1376/1/VRT_221-_TEORI_REKABENTUK_OKT_04.pdf (Caused by NewConnectionError('<urllib3.connection.HTTPConnection object at 0x7f5768799040>: Failed to establish a new connection: [Errno 110] Connection timed out'))\n"
     ]
    },
    {
     "name": "stderr",
     "output_type": "stream",
     "text": [
      "  3%|█▏                                  | 1143/35731 [08:21<2:18:19,  4.17it/s]"
     ]
    },
    {
     "name": "stdout",
     "output_type": "stream",
     "text": [
      "0 HTTPConnectionPool(host='eprints.usm.my', port=80): Max retries exceeded with url: /13833/1/EEM_421_-_KAEDAH-KAEDAH_KUALITI_APR-MEI_09.pdf (Caused by NewConnectionError('<urllib3.connection.HTTPConnection object at 0x7f57687e9c40>: Failed to establish a new connection: [Errno 110] Connection timed out'))\n"
     ]
    },
    {
     "name": "stderr",
     "output_type": "stream",
     "text": [
      "  3%|█▏                                  | 1204/35731 [11:00<3:11:43,  3.00it/s]"
     ]
    },
    {
     "name": "stdout",
     "output_type": "stream",
     "text": [
      "0 HTTPConnectionPool(host='eprints.usm.my', port=80): Max retries exceeded with url: /13965/1/EAD_512-4_-_URBAN_DRAINAGE_MANAGEMENT_NOV_2008.pdf (Caused by NewConnectionError('<urllib3.connection.HTTPConnection object at 0x7f5768792ac0>: Failed to establish a new connection: [Errno 110] Connection timed out'))\n"
     ]
    },
    {
     "name": "stderr",
     "output_type": "stream",
     "text": [
      "  3%|█▏                                  | 1236/35731 [13:22<2:11:14,  4.38it/s]"
     ]
    },
    {
     "name": "stdout",
     "output_type": "stream",
     "text": [
      "0 HTTPConnectionPool(host='eprints.usm.my', port=80): Max retries exceeded with url: /14047/1/ZCT_104E-3_-_FIZIK_IV_%28FIZIK_MODEN%29_APR_2003.pdf (Caused by NewConnectionError('<urllib3.connection.HTTPConnection object at 0x7f57687a8070>: Failed to establish a new connection: [Errno 110] Connection timed out'))\n"
     ]
    },
    {
     "name": "stderr",
     "output_type": "stream",
     "text": [
      "  4%|█▎                                  | 1270/35731 [15:46<7:47:09,  1.23it/s]"
     ]
    },
    {
     "name": "stdout",
     "output_type": "stream",
     "text": [
      "0 HTTPConnectionPool(host='eprints.usm.my', port=80): Max retries exceeded with url: /1422/1/KAA_503_-_MOLECULAR_SPECTROSCOPY_OCT.03.pdf (Caused by NewConnectionError('<urllib3.connection.HTTPConnection object at 0x7f5768799ca0>: Failed to establish a new connection: [Errno 110] Connection timed out'))\n"
     ]
    },
    {
     "name": "stderr",
     "output_type": "stream",
     "text": [
      "  4%|█▎                                  | 1294/35731 [18:03<3:12:04,  2.99it/s]"
     ]
    },
    {
     "name": "stdout",
     "output_type": "stream",
     "text": [
      "0 HTTPConnectionPool(host='eprints.usm.my', port=80): Max retries exceeded with url: /14271/1/EEE512_-_ADVANCED_DIGITAL_SIGNAL_AND_IMAGE_-_NOVEMBER_2008.pdf (Caused by NewConnectionError('<urllib3.connection.HTTPConnection object at 0x7f57687e91c0>: Failed to establish a new connection: [Errno 110] Connection timed out'))\n"
     ]
    },
    {
     "name": "stderr",
     "output_type": "stream",
     "text": [
      "  4%|█▌                                  | 1528/35731 [22:28<3:46:35,  2.52it/s]"
     ]
    },
    {
     "name": "stdout",
     "output_type": "stream",
     "text": [
      "0 HTTPConnectionPool(host='eprints.usm.my', port=80): Max retries exceeded with url: /15199/1/ZGE371-3_-_POTENTIAL_FIELD_INTERPRETATION_-_NOVEMBER_2008.pdf (Caused by NewConnectionError('<urllib3.connection.HTTPConnection object at 0x7f57687a81c0>: Failed to establish a new connection: [Errno 110] Connection timed out'))\n"
     ]
    },
    {
     "name": "stderr",
     "output_type": "stream",
     "text": [
      "  4%|█▌                                  | 1541/35731 [24:44<9:49:16,  1.03s/it]"
     ]
    },
    {
     "name": "stdout",
     "output_type": "stream",
     "text": [
      "0 HTTPConnectionPool(host='eprints.usm.my', port=80): Max retries exceeded with url: /15243/1/ZGT272-3_-_INTRODUCTION_TO_OCEANOGRAPHY_-_NOVEMBER_2008.pdf (Caused by NewConnectionError('<urllib3.connection.HTTPConnection object at 0x7f57687a82e0>: Failed to establish a new connection: [Errno 110] Connection timed out'))\n"
     ]
    },
    {
     "name": "stderr",
     "output_type": "stream",
     "text": [
      "  4%|█▌                                  | 1565/35731 [27:02<2:46:13,  3.43it/s]"
     ]
    },
    {
     "name": "stdout",
     "output_type": "stream",
     "text": [
      "0 HTTPConnectionPool(host='eprints.usm.my', port=80): Max retries exceeded with url: /1533/1/KIT_350_-_OPERASI_UNIT_II_SEPT._02.pdf (Caused by NewConnectionError('<urllib3.connection.HTTPConnection object at 0x7f57687e98b0>: Failed to establish a new connection: [Errno 110] Connection timed out'))\n"
     ]
    },
    {
     "name": "stderr",
     "output_type": "stream",
     "text": [
      "  4%|█▌                                  | 1581/35731 [29:19<4:38:48,  2.04it/s]"
     ]
    },
    {
     "name": "stdout",
     "output_type": "stream",
     "text": [
      "0 HTTPConnectionPool(host='eprints.usm.my', port=80): Max retries exceeded with url: /1538/1/KOE_221_-_KIMIA_HASILAN_SEMULAJADI_SEPT._02.pdf (Caused by NewConnectionError('<urllib3.connection.HTTPConnection object at 0x7f5768785610>: Failed to establish a new connection: [Errno 110] Connection timed out'))\n"
     ]
    },
    {
     "name": "stderr",
     "output_type": "stream",
     "text": [
      "  5%|█▋                                  | 1649/35731 [32:02<4:26:20,  2.13it/s]"
     ]
    },
    {
     "name": "stdout",
     "output_type": "stream",
     "text": [
      "0 HTTPConnectionPool(host='eprints.usm.my', port=80): Max retries exceeded with url: /15606/1/PARAMETRIC_SPIRAL_AND_ITS_APPLICATION.pdf (Caused by NewConnectionError('<urllib3.connection.HTTPConnection object at 0x7f5768799c10>: Failed to establish a new connection: [Errno 110] Connection timed out'))\n"
     ]
    },
    {
     "name": "stderr",
     "output_type": "stream",
     "text": [
      "  5%|█▌                                 | 1658/35731 [34:16<24:56:00,  2.63s/it]"
     ]
    },
    {
     "name": "stdout",
     "output_type": "stream",
     "text": [
      "0 HTTPConnectionPool(host='eprints.usm.my', port=80): Max retries exceeded with url: /15637/1/PROCESSING_CHARACTERISTICS%2C_PHYSICAL.pdf (Caused by NewConnectionError('<urllib3.connection.HTTPConnection object at 0x7f57687e9f10>: Failed to establish a new connection: [Errno 110] Connection timed out'))\n"
     ]
    },
    {
     "name": "stderr",
     "output_type": "stream",
     "text": [
      "  5%|█▋                                  | 1683/35731 [36:37<2:24:13,  3.93it/s]"
     ]
    },
    {
     "name": "stdout",
     "output_type": "stream",
     "text": [
      "0 HTTPConnectionPool(host='eprints.usm.my', port=80): Max retries exceeded with url: /15757/1/THE_USE_OF_MICROFILTER_RECOVERED_PALM_OIL_MILL_EFFLUENT_%28POME%29_SLUDGE_AS_FISH_FEED_INGREDIENT.pdf (Caused by NewConnectionError('<urllib3.connection.HTTPConnection object at 0x7f57687a80a0>: Failed to establish a new connection: [Errno 110] Connection timed out'))\n"
     ]
    },
    {
     "name": "stderr",
     "output_type": "stream",
     "text": [
      "  5%|█▊                                  | 1792/35731 [39:35<6:25:02,  1.47it/s]"
     ]
    },
    {
     "name": "stdout",
     "output_type": "stream",
     "text": [
      "0 HTTPConnectionPool(host='eprints.usm.my', port=80): Max retries exceeded with url: /15992/1/JMG_211_-GEOGRAFI_MANUSI__APRIL__08.pdf (Caused by NewConnectionError('<urllib3.connection.HTTPConnection object at 0x7f57687851c0>: Failed to establish a new connection: [Errno 110] Connection timed out'))\n"
     ]
    },
    {
     "name": "stderr",
     "output_type": "stream",
     "text": [
      "  5%|█▊                                  | 1809/35731 [41:57<6:17:56,  1.50it/s]"
     ]
    },
    {
     "name": "stdout",
     "output_type": "stream",
     "text": [
      "0 HTTPConnectionPool(host='eprints.usm.my', port=80): Max retries exceeded with url: /16013/1/JMS_411_-_FALSAFAH_SEJARAH__APRIL__08.pdf (Caused by NewConnectionError('<urllib3.connection.HTTPConnection object at 0x7f5768799700>: Failed to establish a new connection: [Errno 110] Connection timed out'))\n"
     ]
    },
    {
     "name": "stderr",
     "output_type": "stream",
     "text": [
      "  5%|█▊                                 | 1815/35731 [44:11<66:56:09,  7.10s/it]"
     ]
    },
    {
     "name": "stdout",
     "output_type": "stream",
     "text": [
      "0 HTTPConnectionPool(host='eprints.usm.my', port=80): Max retries exceeded with url: /16021/1/JOW_452_-_PERHUBUNGAN_INDUSTRI_APRIL__08.pdf (Caused by NewConnectionError('<urllib3.connection.HTTPConnection object at 0x7f57687bf940>: Failed to establish a new connection: [Errno 110] Connection timed out'))\n"
     ]
    },
    {
     "name": "stderr",
     "output_type": "stream",
     "text": [
      "  6%|██                                  | 2037/35731 [47:39<2:09:25,  4.34it/s]"
     ]
    },
    {
     "name": "stdout",
     "output_type": "stream",
     "text": [
      "0 HTTPConnectionPool(host='eprints.usm.my', port=80): Max retries exceeded with url: /16855/1/JMG101_-_PENGANTAR_GEOGRAFI_FEB_MAC_2004.pdf (Caused by NewConnectionError('<urllib3.connection.HTTPConnection object at 0x7f57687991c0>: Failed to establish a new connection: [Errno 110] Connection timed out'))\n"
     ]
    },
    {
     "name": "stderr",
     "output_type": "stream",
     "text": [
      "  6%|██                                  | 2063/35731 [49:59<3:08:44,  2.97it/s]"
     ]
    },
    {
     "name": "stdout",
     "output_type": "stream",
     "text": [
      "0 HTTPConnectionPool(host='eprints.usm.my', port=80): Max retries exceeded with url: /1690/1/YKT_212_-_COMMUNICATION_AND_CULTURE_SEPT.-OCT._03.pdf (Caused by NewConnectionError('<urllib3.connection.HTTPConnection object at 0x7f57687e9f10>: Failed to establish a new connection: [Errno 110] Connection timed out'))\n"
     ]
    },
    {
     "name": "stderr",
     "output_type": "stream",
     "text": [
      "  6%|██                                  | 2090/35731 [52:21<5:33:24,  1.68it/s]"
     ]
    },
    {
     "name": "stdout",
     "output_type": "stream",
     "text": [
      "0 HTTPConnectionPool(host='eprints.usm.my', port=80): Max retries exceeded with url: /1696/1/YKT_214_-_COMMUNICATION_TECHNOLOGY_MARCH_05.pdf (Caused by NewConnectionError('<urllib3.connection.HTTPConnection object at 0x7f57687a8d60>: Failed to establish a new connection: [Errno 110] Connection timed out'))\n"
     ]
    },
    {
     "name": "stderr",
     "output_type": "stream",
     "text": [
      "  6%|██▏                                 | 2119/35731 [54:40<2:14:52,  4.15it/s]"
     ]
    },
    {
     "name": "stdout",
     "output_type": "stream",
     "text": [
      "0 HTTPConnectionPool(host='eprints.usm.my', port=80): Max retries exceeded with url: /16997/1/JTP441_-_PENGURUSAN_JUALAN_FEB_MAC_2004.pdf (Caused by NewConnectionError('<urllib3.connection.HTTPConnection object at 0x7f5768785a90>: Failed to establish a new connection: [Errno 110] Connection timed out'))\n"
     ]
    },
    {
     "name": "stderr",
     "output_type": "stream",
     "text": [
      "  6%|██▏                                 | 2165/35731 [57:07<2:28:35,  3.76it/s]"
     ]
    },
    {
     "name": "stdout",
     "output_type": "stream",
     "text": [
      "0 HTTPConnectionPool(host='eprints.usm.my', port=80): Max retries exceeded with url: /17115/1/ZCT_206-3_-_ELEKTRONIK_II_SEPT.-_OKT._2003.pdf (Caused by NewConnectionError('<urllib3.connection.HTTPConnection object at 0x7f57687998b0>: Failed to establish a new connection: [Errno 110] Connection timed out'))\n"
     ]
    },
    {
     "name": "stderr",
     "output_type": "stream",
     "text": [
      "  6%|██▏                                | 2178/35731 [59:26<20:13:53,  2.17s/it]"
     ]
    },
    {
     "name": "stdout",
     "output_type": "stream",
     "text": [
      "0 HTTPConnectionPool(host='eprints.usm.my', port=80): Max retries exceeded with url: /17151/1/MEASURING_THE_COMPETITIVENESS_OF_MALAYSIAN.pdf (Caused by NewConnectionError('<urllib3.connection.HTTPConnection object at 0x7f57687bf460>: Failed to establish a new connection: [Errno 110] Connection timed out'))\n"
     ]
    },
    {
     "name": "stderr",
     "output_type": "stream",
     "text": [
      "  7%|██▏                               | 2348/35731 [1:03:51<3:13:00,  2.88it/s]"
     ]
    },
    {
     "name": "stdout",
     "output_type": "stream",
     "text": [
      "0 HTTPConnectionPool(host='eprints.usm.my', port=80): Max retries exceeded with url: /17832/1/EAS_661-4_-_ADVANCED_STRUCTURAL_MECHANCICS_NOV_09..pdf (Caused by NewConnectionError('<urllib3.connection.HTTPConnection object at 0x7f5768799310>: Failed to establish a new connection: [Errno 110] Connection timed out'))\n"
     ]
    },
    {
     "name": "stderr",
     "output_type": "stream",
     "text": [
      "  7%|██▎                               | 2409/35731 [1:06:19<1:54:00,  4.87it/s]"
     ]
    },
    {
     "name": "stdout",
     "output_type": "stream",
     "text": [
      "0 HTTPConnectionPool(host='eprints.usm.my', port=80): Max retries exceeded with url: /17997/1/JIB419_-_ZOOFISIOLOGI_PERSEKITARAN_FEB_MAC_2004.pdf (Caused by NewConnectionError('<urllib3.connection.HTTPConnection object at 0x7f57687e9c70>: Failed to establish a new connection: [Errno 110] Connection timed out'))\n"
     ]
    },
    {
     "name": "stderr",
     "output_type": "stream",
     "text": [
      "  7%|██▎                               | 2478/35731 [1:09:22<2:26:55,  3.77it/s]"
     ]
    },
    {
     "name": "stdout",
     "output_type": "stream",
     "text": [
      "0 HTTPConnectionPool(host='eprints.usm.my', port=80): Max retries exceeded with url: /18122/1/EBB_334-3_-_METALURGI_MEKANIKAL_SEPT-OKT_03.pdf (Caused by NewConnectionError('<urllib3.connection.HTTPConnection object at 0x7f57687a80a0>: Failed to establish a new connection: [Errno 110] Connection timed out'))\n"
     ]
    },
    {
     "name": "stderr",
     "output_type": "stream",
     "text": [
      "  7%|██▍                               | 2505/35731 [1:11:49<3:04:23,  3.00it/s]"
     ]
    },
    {
     "name": "stdout",
     "output_type": "stream",
     "text": [
      "0 HTTPConnectionPool(host='eprints.usm.my', port=80): Max retries exceeded with url: /18268/1/EAK465-2_-_GEOGRAPHIC_INFORMATION_SYSTEM_NOVEMBER_2008.pdf (Caused by NewConnectionError('<urllib3.connection.HTTPConnection object at 0x7f5768785730>: Failed to establish a new connection: [Errno 110] Connection timed out'))\n"
     ]
    },
    {
     "name": "stderr",
     "output_type": "stream",
     "text": [
      "  7%|██▍                               | 2554/35731 [1:14:20<3:45:49,  2.45it/s]"
     ]
    },
    {
     "name": "stdout",
     "output_type": "stream",
     "text": [
      "0 HTTPConnectionPool(host='eprints.usm.my', port=80): Max retries exceeded with url: /1843/1/KTT_111_-_KIMIA_TAKORGANIK_I_NOV_05.pdf (Caused by NewConnectionError('<urllib3.connection.HTTPConnection object at 0x7f5768799490>: Failed to establish a new connection: [Errno 110] Connection timed out'))\n"
     ]
    },
    {
     "name": "stderr",
     "output_type": "stream",
     "text": [
      "  7%|██▍                               | 2608/35731 [1:16:51<2:16:05,  4.06it/s]"
     ]
    },
    {
     "name": "stdout",
     "output_type": "stream",
     "text": [
      "0 HTTPConnectionPool(host='eprints.usm.my', port=80): Max retries exceeded with url: /18697/1/EKC214_-_ERNERGY_BALANCE_NOVEMBER_2008.pdf (Caused by NewConnectionError('<urllib3.connection.HTTPConnection object at 0x7f57687bf430>: Failed to establish a new connection: [Errno 110] Connection timed out'))\n"
     ]
    },
    {
     "name": "stderr",
     "output_type": "stream",
     "text": [
      "  8%|██▌                               | 2715/35731 [1:19:38<2:20:50,  3.91it/s]"
     ]
    },
    {
     "name": "stdout",
     "output_type": "stream",
     "text": [
      "0 HTTPConnectionPool(host='eprints.usm.my', port=80): Max retries exceeded with url: /18899/1/EKC_212_-_FLUID_FLOW_FOR_CHEMICAL_ENGINEERING_NOV_09..pdf (Caused by NewConnectionError('<urllib3.connection.HTTPConnection object at 0x7f5768799b80>: Failed to establish a new connection: [Errno 110] Connection timed out'))\n"
     ]
    },
    {
     "name": "stderr",
     "output_type": "stream",
     "text": [
      "  8%|██▌                               | 2742/35731 [1:22:02<2:21:19,  3.89it/s]"
     ]
    },
    {
     "name": "stdout",
     "output_type": "stream",
     "text": [
      "0 HTTPConnectionPool(host='eprints.usm.my', port=80): Max retries exceeded with url: /1905/1/ZCT_317E-3_-_SOLID_STATE_PHYSICS_II_FEB.-MAC_05.pdf (Caused by NewConnectionError('<urllib3.connection.HTTPConnection object at 0x7f57687e9970>: Failed to establish a new connection: [Errno 110] Connection timed out'))\n"
     ]
    },
    {
     "name": "stderr",
     "output_type": "stream",
     "text": [
      "  8%|██▌                              | 2747/35731 [1:24:14<88:39:47,  9.68s/it]"
     ]
    },
    {
     "name": "stdout",
     "output_type": "stream",
     "text": [
      "0 HTTPConnectionPool(host='eprints.usm.my', port=80): Max retries exceeded with url: /191/1/Mangrove_Tannis_As_Corrosion_Inhibitors_In_Acidic_Medium_-_Study_Of_Flavanoid_Monomers.pdf (Caused by NewConnectionError('<urllib3.connection.HTTPConnection object at 0x7f57687a8b80>: Failed to establish a new connection: [Errno 110] Connection timed out'))\n"
     ]
    },
    {
     "name": "stderr",
     "output_type": "stream",
     "text": [
      "  8%|██▋                               | 2778/35731 [1:26:36<2:57:26,  3.10it/s]"
     ]
    },
    {
     "name": "stdout",
     "output_type": "stream",
     "text": [
      "0 HTTPConnectionPool(host='eprints.usm.my', port=80): Max retries exceeded with url: /19206/1/EPP_441-3_-_PEMBUATAN_TERSEPADU_KOMPUTER.pdf (Caused by NewConnectionError('<urllib3.connection.HTTPConnection object at 0x7f5768785d90>: Failed to establish a new connection: [Errno 110] Connection timed out'))\n"
     ]
    },
    {
     "name": "stderr",
     "output_type": "stream",
     "text": [
      "  8%|██▋                               | 2801/35731 [1:28:54<2:25:17,  3.78it/s]"
     ]
    },
    {
     "name": "stdout",
     "output_type": "stream",
     "text": [
      "0 HTTPConnectionPool(host='eprints.usm.my', port=80): Max retries exceeded with url: /2008/1/Production_Of_Cellulase_And_Xylanase_Via_Solid_State_Fermentation_And_Its_Application_In_The_Enzymatic_Deinking_Of_Laser_Printed_Waste_Papers.pdf (Caused by NewConnectionError('<urllib3.connection.HTTPConnection object at 0x7f5768799eb0>: Failed to establish a new connection: [Errno 110] Connection timed out'))\n"
     ]
    },
    {
     "name": "stderr",
     "output_type": "stream",
     "text": [
      "  8%|██▊                               | 2905/35731 [1:31:33<2:19:52,  3.91it/s]"
     ]
    },
    {
     "name": "stdout",
     "output_type": "stream",
     "text": [
      "0 HTTPConnectionPool(host='eprints.usm.my', port=80): Max retries exceeded with url: /20249/1/REG521_-_SAINS_BANGUNAN_DAN_ALAM_SEKITAR_SEPT_OKTOBER_2003.pdf (Caused by NewConnectionError('<urllib3.connection.HTTPConnection object at 0x7f57687bfee0>: Failed to establish a new connection: [Errno 110] Connection timed out'))\n"
     ]
    },
    {
     "name": "stderr",
     "output_type": "stream",
     "text": [
      "  8%|██▊                               | 2924/35731 [1:33:51<3:39:49,  2.49it/s]"
     ]
    },
    {
     "name": "stdout",
     "output_type": "stream",
     "text": [
      "0 HTTPConnectionPool(host='eprints.usm.my', port=80): Max retries exceeded with url: /2032/1/Sumber_Alternatif_Vanila.pdf (Caused by NewConnectionError('<urllib3.connection.HTTPConnection object at 0x7f5768799df0>: Failed to establish a new connection: [Errno 110] Connection timed out'))\n"
     ]
    },
    {
     "name": "stderr",
     "output_type": "stream",
     "text": [
      "  8%|██▉                               | 3022/35731 [1:37:00<3:01:40,  3.00it/s]"
     ]
    },
    {
     "name": "stdout",
     "output_type": "stream",
     "text": [
      "0 HTTPConnectionPool(host='eprints.usm.my', port=80): Max retries exceeded with url: /2092/1/EBB_406-3_PEMILIHAN_BAHAN_APRIL_07.pdf (Caused by NewConnectionError('<urllib3.connection.HTTPConnection object at 0x7f57687e99d0>: Failed to establish a new connection: [Errno 110] Connection timed out'))\n"
     ]
    },
    {
     "name": "stderr",
     "output_type": "stream",
     "text": [
      "  8%|██▊                              | 3031/35731 [1:39:13<23:03:28,  2.54s/it]"
     ]
    },
    {
     "name": "stdout",
     "output_type": "stream",
     "text": [
      "0 HTTPConnectionPool(host='eprints.usm.my', port=80): Max retries exceeded with url: /2100/1/EBB_424E-3_SEMICONDUCTOR_DEVICES_AND_OPTOELECTRONIC_OCT_04.pdf (Caused by NewConnectionError('<urllib3.connection.HTTPConnection object at 0x7f57687a80a0>: Failed to establish a new connection: [Errno 110] Connection timed out'))\n"
     ]
    },
    {
     "name": "stderr",
     "output_type": "stream",
     "text": [
      "  8%|██▊                              | 3037/35731 [1:41:25<64:29:24,  7.10s/it]"
     ]
    },
    {
     "name": "stdout",
     "output_type": "stream",
     "text": [
      "0 HTTPConnectionPool(host='eprints.usm.my', port=80): Max retries exceeded with url: /212/1/EAP_215%283%29_-_KEJURUTERAAN_BEKALAN_%26_OLAHAN_AIR_MAC_05.pdf (Caused by NewConnectionError('<urllib3.connection.HTTPConnection object at 0x7f5768785eb0>: Failed to establish a new connection: [Errno 110] Connection timed out'))\n"
     ]
    },
    {
     "name": "stderr",
     "output_type": "stream",
     "text": [
      "  9%|██▋                             | 3040/35731 [1:43:37<199:17:26, 21.95s/it]"
     ]
    },
    {
     "name": "stdout",
     "output_type": "stream",
     "text": [
      "0 HTTPConnectionPool(host='eprints.usm.my', port=80): Max retries exceeded with url: /2123/1/EBB_440-4_METALURGI_GUNAAN_MEI_05.pdf (Caused by NewConnectionError('<urllib3.connection.HTTPConnection object at 0x7f5768799eb0>: Failed to establish a new connection: [Errno 110] Connection timed out'))\n",
      "1 HTTPConnectionPool(host='eprints.usm.my', port=80): Max retries exceeded with url: /2123/1/EBB_440-4_METALURGI_GUNAAN_MEI_05.pdf (Caused by NewConnectionError('<urllib3.connection.HTTPConnection object at 0x7f5768799cd0>: Failed to establish a new connection: [Errno 110] Connection timed out'))\n"
     ]
    },
    {
     "name": "stderr",
     "output_type": "stream",
     "text": [
      "  9%|██▉                               | 3116/35731 [1:48:32<2:29:44,  3.63it/s]"
     ]
    },
    {
     "name": "stdout",
     "output_type": "stream",
     "text": [
      "0 HTTPConnectionPool(host='eprints.usm.my', port=80): Max retries exceeded with url: /21971/1/0036-611d.pdf (Caused by NewConnectionError('<urllib3.connection.HTTPConnection object at 0x7f57687ae400>: Failed to establish a new connection: [Errno 110] Connection timed out'))\n"
     ]
    },
    {
     "name": "stderr",
     "output_type": "stream",
     "text": [
      "  9%|██▉                               | 3131/35731 [1:50:49<5:02:12,  1.80it/s]"
     ]
    },
    {
     "name": "stdout",
     "output_type": "stream",
     "text": [
      "0 HTTPConnectionPool(host='eprints.usm.my', port=80): Max retries exceeded with url: /22000/1/EAL_432_-_4_%E2%80%93ADVANCED_HIGHWAY_AND_TRANSPORTATION_ENGINEERING_APRIL_MAY_2010.pdf (Caused by NewConnectionError('<urllib3.connection.HTTPConnection object at 0x7f5768799b20>: Failed to establish a new connection: [Errno 110] Connection timed out'))\n"
     ]
    },
    {
     "name": "stderr",
     "output_type": "stream",
     "text": [
      "  9%|███                               | 3254/35731 [1:53:36<2:11:52,  4.10it/s]"
     ]
    },
    {
     "name": "stdout",
     "output_type": "stream",
     "text": [
      "0 HTTPConnectionPool(host='eprints.usm.my', port=80): Max retries exceeded with url: /22351/1/IWK_306_%E2%80%93_FIBRE_AND_LIGNOCELLULOSIC_COMPOSITES_APR_MAY_2010..pdf (Caused by NewConnectionError('<urllib3.connection.HTTPConnection object at 0x7f57687e9fd0>: Failed to establish a new connection: [Errno 110] Connection timed out'))\n"
     ]
    },
    {
     "name": "stderr",
     "output_type": "stream",
     "text": [
      "  9%|███                               | 3270/35731 [1:55:52<3:17:56,  2.73it/s]"
     ]
    },
    {
     "name": "stdout",
     "output_type": "stream",
     "text": [
      "0 HTTPConnectionPool(host='eprints.usm.my', port=80): Max retries exceeded with url: /22410/1/IMK_308_%E2%80%93_FOOD_PRESERVATION_PRINCIPLES_JUNE_2010..pdf (Caused by NewConnectionError('<urllib3.connection.HTTPConnection object at 0x7f57687a8df0>: Failed to establish a new connection: [Errno 110] Connection timed out'))\n"
     ]
    },
    {
     "name": "stderr",
     "output_type": "stream",
     "text": [
      "  9%|██▉                             | 3274/35731 [1:58:03<122:51:53, 13.63s/it]"
     ]
    },
    {
     "name": "stdout",
     "output_type": "stream",
     "text": [
      "0 HTTPConnectionPool(host='eprints.usm.my', port=80): Max retries exceeded with url: /22414/1/IWK_101_%E2%80%93_PRINCIPLES_OF_COATINGS_TECHNOLOGY_JUNE_2009..pdf (Caused by NewConnectionError('<urllib3.connection.HTTPConnection object at 0x7f5768785dc0>: Failed to establish a new connection: [Errno 110] Connection timed out'))\n"
     ]
    },
    {
     "name": "stderr",
     "output_type": "stream",
     "text": [
      "  9%|███                              | 3280/35731 [2:00:16<77:07:51,  8.56s/it]"
     ]
    },
    {
     "name": "stdout",
     "output_type": "stream",
     "text": [
      "0 HTTPConnectionPool(host='eprints.usm.my', port=80): Max retries exceeded with url: /2242/1/BOI_109E-4_-_BIOSTATISTICS_%5BBIOSTATISTIK%5D.pdf (Caused by NewConnectionError('<urllib3.connection.HTTPConnection object at 0x7f5768799c70>: Failed to establish a new connection: [Errno 110] Connection timed out'))\n"
     ]
    },
    {
     "name": "stderr",
     "output_type": "stream",
     "text": [
      "  9%|███▏                              | 3309/35731 [2:02:36<3:18:43,  2.72it/s]"
     ]
    },
    {
     "name": "stdout",
     "output_type": "stream",
     "text": [
      "0 HTTPConnectionPool(host='eprints.usm.my', port=80): Max retries exceeded with url: /22491/1/EUP_3013_%E2%80%93_ENGINEERING_MANAGEMENT_NOV_2010..pdf (Caused by NewConnectionError('<urllib3.connection.HTTPConnection object at 0x7f57687bf700>: Failed to establish a new connection: [Errno 110] Connection timed out'))\n"
     ]
    },
    {
     "name": "stderr",
     "output_type": "stream",
     "text": [
      " 10%|███▎                              | 3426/35731 [2:05:17<4:35:28,  1.95it/s]"
     ]
    },
    {
     "name": "stdout",
     "output_type": "stream",
     "text": [
      "0 HTTPConnectionPool(host='eprints.usm.my', port=80): Max retries exceeded with url: /22916/1/CMT423_CMT327.pdf (Caused by NewConnectionError('<urllib3.connection.HTTPConnection object at 0x7f5768799eb0>: Failed to establish a new connection: [Errno 110] Connection timed out'))\n"
     ]
    },
    {
     "name": "stderr",
     "output_type": "stream",
     "text": [
      " 10%|███▎                              | 3491/35731 [2:07:54<3:45:35,  2.38it/s]"
     ]
    },
    {
     "name": "stdout",
     "output_type": "stream",
     "text": [
      "0 HTTPConnectionPool(host='eprints.usm.my', port=80): Max retries exceeded with url: /230/1/Docking_Of_Protein_With_Flavonoids.pdf (Caused by NewConnectionError('<urllib3.connection.HTTPConnection object at 0x7f57687e94f0>: Failed to establish a new connection: [Errno 110] Connection timed out'))\n"
     ]
    },
    {
     "name": "stderr",
     "output_type": "stream",
     "text": [
      " 10%|███▎                              | 3508/35731 [2:10:07<3:03:14,  2.93it/s]"
     ]
    },
    {
     "name": "stdout",
     "output_type": "stream",
     "text": [
      "0 HTTPConnectionPool(host='eprints.usm.my', port=80): Max retries exceeded with url: /2317/1/IWK_302_-_KEJURUTERAAN_KAYU_JUN_06.pdf (Caused by NewConnectionError('<urllib3.connection.HTTPConnection object at 0x7f57687a8550>: Failed to establish a new connection: [Errno 110] Connection timed out'))\n"
     ]
    },
    {
     "name": "stderr",
     "output_type": "stream",
     "text": [
      " 10%|███▎                             | 3589/35731 [2:12:59<12:26:10,  1.39s/it]"
     ]
    },
    {
     "name": "stdout",
     "output_type": "stream",
     "text": [
      "0 HTTPConnectionPool(host='eprints.usm.my', port=80): Max retries exceeded with url: /2363/1/KAT_347_-_KAEDAH_ELEKTROANALISIS_OKT.04.pdf (Caused by NewConnectionError('<urllib3.connection.HTTPConnection object at 0x7f5768785a30>: Failed to establish a new connection: [Errno 110] Connection timed out'))\n"
     ]
    },
    {
     "name": "stderr",
     "output_type": "stream",
     "text": [
      " 10%|███▍                              | 3674/35731 [2:15:40<2:35:32,  3.43it/s]"
     ]
    },
    {
     "name": "stdout",
     "output_type": "stream",
     "text": [
      "0 HTTPConnectionPool(host='eprints.usm.my', port=80): Max retries exceeded with url: /23970/1/EFFECTS_OF_JOB_INSECURITY_ON_JOB_SATISFACTION_ORGANIZATIONAL_COMMITMENT_AND_TURNOVER_INTENTION.pdf (Caused by NewConnectionError('<urllib3.connection.HTTPConnection object at 0x7f57687990a0>: Failed to establish a new connection: [Errno 110] Connection timed out'))\n"
     ]
    },
    {
     "name": "stderr",
     "output_type": "stream",
     "text": [
      " 11%|███▌                              | 3776/35731 [2:18:20<1:53:17,  4.70it/s]"
     ]
    },
    {
     "name": "stdout",
     "output_type": "stream",
     "text": [
      "0 HTTPConnectionPool(host='eprints.usm.my', port=80): Max retries exceeded with url: /24155/1/EBB_443.pdf (Caused by NewConnectionError('<urllib3.connection.HTTPConnection object at 0x7f57687bf9d0>: Failed to establish a new connection: [Errno 110] Connection timed out'))\n"
     ]
    },
    {
     "name": "stderr",
     "output_type": "stream",
     "text": [
      " 11%|███▋                              | 3891/35731 [2:20:55<1:47:29,  4.94it/s]"
     ]
    },
    {
     "name": "stdout",
     "output_type": "stream",
     "text": [
      "0 HTTPConnectionPool(host='eprints.usm.my', port=80): Max retries exceeded with url: /24423/1/IMK_421_%E2%80%93_Primary_Products_Technology_June_2010.pdf (Caused by NewConnectionError('<urllib3.connection.HTTPConnection object at 0x7f5768799340>: Failed to establish a new connection: [Errno 110] Connection timed out'))\n",
      "1 HTTPConnectionPool(host='eprints.usm.my', port=80): Max retries exceeded with url: /24423/1/IMK_421_%E2%80%93_Primary_Products_Technology_June_2010.pdf (Caused by NewConnectionError('<urllib3.connection.HTTPConnection object at 0x7f57687990a0>: Failed to establish a new connection: [Errno 110] Connection timed out'))\n"
     ]
    },
    {
     "name": "stderr",
     "output_type": "stream",
     "text": [
      " 11%|███▊                              | 4000/35731 [2:25:44<2:50:04,  3.11it/s]"
     ]
    },
    {
     "name": "stdout",
     "output_type": "stream",
     "text": [
      "0 HTTPConnectionPool(host='eprints.usm.my', port=80): Max retries exceeded with url: /24585/1/HLA_POLYMORPHISM_IN_MALAY_SUB_ETHNIC_GROUPS_IN_PENINSULAR_MALAYSIA.pdf (Caused by NewConnectionError('<urllib3.connection.HTTPConnection object at 0x7f57687858e0>: Failed to establish a new connection: [Errno 110] Connection timed out'))\n"
     ]
    },
    {
     "name": "stderr",
     "output_type": "stream",
     "text": [
      " 11%|███▊                              | 4039/35731 [2:28:10<1:42:17,  5.16it/s]"
     ]
    },
    {
     "name": "stdout",
     "output_type": "stream",
     "text": [
      "0 HTTPConnectionPool(host='eprints.usm.my', port=80): Max retries exceeded with url: /24708/1/IEK_213_%E2%80%93_Mass_Transfer_%26_Separation_Processes_April-May_2010.pdf (Caused by NewConnectionError('<urllib3.connection.HTTPConnection object at 0x7f57687ae400>: Failed to establish a new connection: [Errno 110] Connection timed out'))\n"
     ]
    },
    {
     "name": "stderr",
     "output_type": "stream",
     "text": [
      " 11%|███▊                              | 4054/35731 [2:30:24<4:16:26,  2.06it/s]"
     ]
    },
    {
     "name": "stdout",
     "output_type": "stream",
     "text": [
      "0 HTTPConnectionPool(host='eprints.usm.my', port=80): Max retries exceeded with url: /24725/1/IUK_303_%E2%80%93_Industrial_Waste_Management_April-May_2010.pdf (Caused by NewConnectionError('<urllib3.connection.HTTPConnection object at 0x7f57687e9e50>: Failed to establish a new connection: [Errno 110] Connection timed out'))\n"
     ]
    },
    {
     "name": "stderr",
     "output_type": "stream",
     "text": [
      " 11%|███▊                             | 4061/35731 [2:32:37<42:46:33,  4.86s/it]"
     ]
    },
    {
     "name": "stdout",
     "output_type": "stream",
     "text": [
      "0 HTTPConnectionPool(host='eprints.usm.my', port=80): Max retries exceeded with url: /24756/1/IWK_105_%E2%80%93_Bio-resource_Based_Products_April-May_2010.pdf (Caused by NewConnectionError('<urllib3.connection.HTTPConnection object at 0x7f5768799fa0>: Failed to establish a new connection: [Errno 110] Connection timed out'))\n",
      "1 HTTPConnectionPool(host='eprints.usm.my', port=80): Max retries exceeded with url: /24756/1/IWK_105_%E2%80%93_Bio-resource_Based_Products_April-May_2010.pdf (Caused by NewConnectionError('<urllib3.connection.HTTPConnection object at 0x7f57687bf220>: Failed to establish a new connection: [Errno 110] Connection timed out'))\n"
     ]
    },
    {
     "name": "stderr",
     "output_type": "stream",
     "text": [
      " 11%|███▉                              | 4109/35731 [2:37:14<3:23:46,  2.59it/s]"
     ]
    },
    {
     "name": "stdout",
     "output_type": "stream",
     "text": [
      "0 HTTPConnectionPool(host='eprints.usm.my', port=80): Max retries exceeded with url: /24902/1/bat215.pdf (Caused by NewConnectionError('<urllib3.connection.HTTPConnection object at 0x7f57687bf160>: Failed to establish a new connection: [Errno 110] Connection timed out'))\n"
     ]
    },
    {
     "name": "stderr",
     "output_type": "stream",
     "text": [
      " 12%|███▉                              | 4165/35731 [2:39:44<2:27:37,  3.56it/s]"
     ]
    },
    {
     "name": "stdout",
     "output_type": "stream",
     "text": [
      "0 HTTPConnectionPool(host='eprints.usm.my', port=80): Max retries exceeded with url: /25014/1/AMW343-_Penyelidikan_Pemasaran.pdf (Caused by NewConnectionError('<urllib3.connection.HTTPConnection object at 0x7f5768799d00>: Failed to establish a new connection: [Errno 110] Connection timed out'))\n"
     ]
    },
    {
     "name": "stderr",
     "output_type": "stream",
     "text": [
      " 12%|███▉                              | 4182/35731 [2:42:01<4:16:39,  2.05it/s]"
     ]
    },
    {
     "name": "stdout",
     "output_type": "stream",
     "text": [
      "0 HTTPConnectionPool(host='eprints.usm.my', port=80): Max retries exceeded with url: /25099/1/EKC_217_-_Mass_Transfer_Jan_2012.pdf (Caused by NewConnectionError('<urllib3.connection.HTTPConnection object at 0x7f5768785e20>: Failed to establish a new connection: [Errno 110] Connection timed out'))\n"
     ]
    },
    {
     "name": "stderr",
     "output_type": "stream",
     "text": [
      " 12%|████                              | 4209/35731 [2:44:21<3:42:07,  2.37it/s]"
     ]
    },
    {
     "name": "stdout",
     "output_type": "stream",
     "text": [
      "0 HTTPConnectionPool(host='eprints.usm.my', port=80): Max retries exceeded with url: /25136/1/BUILDING_ENGINEERING_AND_CONSTRUCTION_7.pdf (Caused by NewConnectionError('<urllib3.connection.HTTPConnection object at 0x7f57687e9d60>: Failed to establish a new connection: [Errno 110] Connection timed out'))\n"
     ]
    },
    {
     "name": "stderr",
     "output_type": "stream",
     "text": [
      " 12%|████                              | 4304/35731 [2:46:59<1:59:07,  4.40it/s]"
     ]
    },
    {
     "name": "stdout",
     "output_type": "stream",
     "text": [
      "0 HTTPConnectionPool(host='eprints.usm.my', port=80): Max retries exceeded with url: /25360/1/Antecedents_of_Empowerment%2C_Leading_to_Job_Satisfaction.pdf (Caused by NewConnectionError('<urllib3.connection.HTTPConnection object at 0x7f57687e9e80>: Failed to establish a new connection: [Errno 110] Connection timed out'))\n"
     ]
    },
    {
     "name": "stderr",
     "output_type": "stream",
     "text": [
      " 12%|████▏                             | 4375/35731 [2:49:35<4:59:51,  1.74it/s]"
     ]
    },
    {
     "name": "stdout",
     "output_type": "stream",
     "text": [
      "0 HTTPConnectionPool(host='eprints.usm.my', port=80): Max retries exceeded with url: /25434/1/EBP310.pdf (Caused by NewConnectionError('<urllib3.connection.HTTPConnection object at 0x7f57687aed90>: Failed to establish a new connection: [Errno 110] Connection timed out'))\n"
     ]
    },
    {
     "name": "stderr",
     "output_type": "stream",
     "text": [
      " 13%|████▍                             | 4622/35731 [2:53:20<2:49:56,  3.05it/s]"
     ]
    },
    {
     "name": "stdout",
     "output_type": "stream",
     "text": [
      "0 HTTPConnectionPool(host='eprints.usm.my', port=80): Max retries exceeded with url: /25696/1/THE_PERSISTENCE_OF_MALAYSIAN_UNIT_TRUSTS_PERFORMANCE_BY_USING_ODDS_RATIO_ANALYSIS.pdf (Caused by NewConnectionError('<urllib3.connection.HTTPConnection object at 0x7f57687bf640>: Failed to establish a new connection: [Errno 110] Connection timed out'))\n"
     ]
    },
    {
     "name": "stderr",
     "output_type": "stream",
     "text": [
      " 13%|████▍                             | 4657/35731 [2:55:40<1:39:33,  5.20it/s]"
     ]
    },
    {
     "name": "stdout",
     "output_type": "stream",
     "text": [
      "0 HTTPConnectionPool(host='eprints.usm.my', port=80): Max retries exceeded with url: /25788/1/EBB524.pdf (Caused by NewConnectionError('<urllib3.connection.HTTPConnection object at 0x7f5768799250>: Failed to establish a new connection: [Errno 110] Connection timed out'))\n"
     ]
    },
    {
     "name": "stderr",
     "output_type": "stream",
     "text": [
      " 13%|████▍                             | 4679/35731 [2:57:55<2:54:16,  2.97it/s]"
     ]
    },
    {
     "name": "stdout",
     "output_type": "stream",
     "text": [
      "0 HTTPConnectionPool(host='eprints.usm.my', port=80): Max retries exceeded with url: /25807/1/THE_EFFECTS_OF_ORGANIZATIONAL_EFFORTS_ON_PRODUCTIVITY_PERFORMANCE_IN_THE_GOVERNMENT_SERVICE_IN_PENANG.pdf (Caused by NewConnectionError('<urllib3.connection.HTTPConnection object at 0x7f57687854c0>: Failed to establish a new connection: [Errno 110] Connection timed out'))\n"
     ]
    },
    {
     "name": "stderr",
     "output_type": "stream",
     "text": [
      " 13%|████▌                             | 4740/35731 [3:00:24<2:31:32,  3.41it/s]"
     ]
    },
    {
     "name": "stdout",
     "output_type": "stream",
     "text": [
      "0 HTTPConnectionPool(host='eprints.usm.my', port=80): Max retries exceeded with url: /25866/1/Enhancement_Of_The_Low_Contrast_Image_Using_Fuzzy_Set_Theory.pdf (Caused by NewConnectionError('<urllib3.connection.HTTPConnection object at 0x7f57687e9c40>: Failed to establish a new connection: [Errno 110] Connection timed out'))\n",
      "1 HTTPConnectionPool(host='eprints.usm.my', port=80): Max retries exceeded with url: /25866/1/Enhancement_Of_The_Low_Contrast_Image_Using_Fuzzy_Set_Theory.pdf (Caused by NewConnectionError('<urllib3.connection.HTTPConnection object at 0x7f57687999a0>: Failed to establish a new connection: [Errno 110] Connection timed out'))\n"
     ]
    },
    {
     "name": "stderr",
     "output_type": "stream",
     "text": [
      " 13%|████▌                             | 4784/35731 [3:04:58<2:05:11,  4.12it/s]"
     ]
    },
    {
     "name": "stdout",
     "output_type": "stream",
     "text": [
      "0 HTTPConnectionPool(host='eprints.usm.my', port=80): Max retries exceeded with url: /25910/1/ESA_242-3_-_TERMODINAMIK_AEROANGKASA_MAC_2005.pdf (Caused by NewConnectionError('<urllib3.connection.HTTPConnection object at 0x7f57687bf280>: Failed to establish a new connection: [Errno 110] Connection timed out'))\n"
     ]
    },
    {
     "name": "stderr",
     "output_type": "stream",
     "text": [
      " 14%|████▌                             | 4826/35731 [3:07:20<2:31:53,  3.39it/s]"
     ]
    },
    {
     "name": "stdout",
     "output_type": "stream",
     "text": [
      "0 HTTPConnectionPool(host='eprints.usm.my', port=80): Max retries exceeded with url: /2596/1/KIT_252_-_OPERASI_UNIT_FEB-MAC_02.pdf (Caused by NewConnectionError('<urllib3.connection.HTTPConnection object at 0x7f5768739310>: Failed to establish a new connection: [Errno 110] Connection timed out'))\n"
     ]
    },
    {
     "name": "stderr",
     "output_type": "stream",
     "text": [
      " 15%|█████                             | 5310/35731 [3:12:03<2:20:44,  3.60it/s]"
     ]
    },
    {
     "name": "stdout",
     "output_type": "stream",
     "text": [
      "0 HTTPConnectionPool(host='eprints.usm.my', port=80): Max retries exceeded with url: /26716/1/EKC_574_-_Proses_Hiliran_untuk_Produk_Biokimia_dan_Farmaseutikal.pdf (Caused by NewConnectionError('<urllib3.connection.HTTPConnection object at 0x7f5768799a60>: Failed to establish a new connection: [Errno 110] Connection timed out'))\n"
     ]
    },
    {
     "name": "stderr",
     "output_type": "stream",
     "text": [
      " 15%|█████                             | 5354/35731 [3:14:27<2:37:37,  3.21it/s]"
     ]
    },
    {
     "name": "stdout",
     "output_type": "stream",
     "text": [
      "0 HTTPConnectionPool(host='eprints.usm.my', port=80): Max retries exceeded with url: /26758/1/THE_DRIVING_MECHANISM_OF_PROACTIVE.pdf (Caused by NewConnectionError('<urllib3.connection.HTTPConnection object at 0x7f5768785640>: Failed to establish a new connection: [Errno 110] Connection timed out'))\n"
     ]
    },
    {
     "name": "stderr",
     "output_type": "stream",
     "text": [
      " 15%|█████▏                            | 5393/35731 [3:16:52<3:39:13,  2.31it/s]"
     ]
    },
    {
     "name": "stdout",
     "output_type": "stream",
     "text": [
      "0 HTTPConnectionPool(host='eprints.usm.my', port=80): Max retries exceeded with url: /27007/1/BOI102-3_-_EKOLOGI_-_FEBRUERI-MAC_2002.pdf (Caused by NewConnectionError('<urllib3.connection.HTTPConnection object at 0x7f576873f100>: Failed to establish a new connection: [Errno 110] Connection timed out'))\n"
     ]
    },
    {
     "name": "stderr",
     "output_type": "stream",
     "text": [
      " 16%|█████▍                            | 5736/35731 [3:20:42<1:52:12,  4.46it/s]"
     ]
    },
    {
     "name": "stdout",
     "output_type": "stream",
     "text": [
      "0 HTTPConnectionPool(host='eprints.usm.my', port=80): Max retries exceeded with url: /27530/1/RAK345_%E2%80%93_HOUSING_STUDIES.pdf (Caused by NewConnectionError('<urllib3.connection.HTTPConnection object at 0x7f5768799f10>: Failed to establish a new connection: [Errno 110] Connection timed out'))\n"
     ]
    },
    {
     "name": "stderr",
     "output_type": "stream",
     "text": [
      " 16%|█████▌                            | 5874/35731 [3:23:48<2:12:39,  3.75it/s]"
     ]
    },
    {
     "name": "stdout",
     "output_type": "stream",
     "text": [
      "0 HTTPConnectionPool(host='eprints.usm.my', port=80): Max retries exceeded with url: /27746/1/EAS253_Teori_Struktur.pdf (Caused by NewConnectionError('<urllib3.connection.HTTPConnection object at 0x7f57687a80d0>: Failed to establish a new connection: [Errno 110] Connection timed out'))\n"
     ]
    },
    {
     "name": "stderr",
     "output_type": "stream",
     "text": [
      " 16%|█████▌                            | 5892/35731 [3:26:03<2:52:54,  2.88it/s]"
     ]
    },
    {
     "name": "stdout",
     "output_type": "stream",
     "text": [
      "0 HTTPConnectionPool(host='eprints.usm.my', port=80): Max retries exceeded with url: /27783/1/EUP_222_%28BM%29_Jurutera_Dalam_Masyarakat.pdf (Caused by NewConnectionError('<urllib3.connection.HTTPConnection object at 0x7f576873f5b0>: Failed to establish a new connection: [Errno 110] Connection timed out'))\n"
     ]
    },
    {
     "name": "stderr",
     "output_type": "stream",
     "text": [
      " 17%|█████▋                            | 5912/35731 [3:28:18<2:21:13,  3.52it/s]"
     ]
    },
    {
     "name": "stdout",
     "output_type": "stream",
     "text": [
      "0 HTTPConnectionPool(host='eprints.usm.my', port=80): Max retries exceeded with url: /27813/1/EAP_412_BI.pdf (Caused by NewConnectionError('<urllib3.connection.HTTPConnection object at 0x7f5768799220>: Failed to establish a new connection: [Errno 110] Connection timed out'))\n"
     ]
    },
    {
     "name": "stderr",
     "output_type": "stream",
     "text": [
      " 17%|█████▋                            | 5989/35731 [3:30:47<2:15:19,  3.66it/s]"
     ]
    },
    {
     "name": "stdout",
     "output_type": "stream",
     "text": [
      "0 HTTPConnectionPool(host='eprints.usm.my', port=80): Max retries exceeded with url: /27910/1/EUP_222_BI.pdf (Caused by NewConnectionError('<urllib3.connection.HTTPConnection object at 0x7f57687a8190>: Failed to establish a new connection: [Errno 110] Connection timed out'))\n"
     ]
    },
    {
     "name": "stderr",
     "output_type": "stream",
     "text": [
      " 17%|█████▊                            | 6047/35731 [3:33:13<2:00:09,  4.12it/s]"
     ]
    },
    {
     "name": "stdout",
     "output_type": "stream",
     "text": [
      "0 HTTPConnectionPool(host='eprints.usm.my', port=80): Max retries exceeded with url: /27987/1/EAK_465_%28BM%29_SISTEM_MAKLUMAT_GEOGRAFI.pdf (Caused by NewConnectionError('<urllib3.connection.HTTPConnection object at 0x7f5768799ca0>: Failed to establish a new connection: [Errno 110] Connection timed out'))\n"
     ]
    },
    {
     "name": "stderr",
     "output_type": "stream",
     "text": [
      " 18%|██████                            | 6414/35731 [3:37:35<2:58:49,  2.73it/s]"
     ]
    },
    {
     "name": "stdout",
     "output_type": "stream",
     "text": [
      "0 HTTPConnectionPool(host='eprints.usm.my', port=80): Max retries exceeded with url: /28617/1/CCS503_%E2%80%93_Pemprosesan_Dokumen_Cerdas.pdf (Caused by NewConnectionError('<urllib3.connection.HTTPConnection object at 0x7f57687e9bb0>: Failed to establish a new connection: [Errno 110] Connection timed out'))\n"
     ]
    },
    {
     "name": "stderr",
     "output_type": "stream",
     "text": [
      " 18%|██████▏                           | 6506/35731 [3:40:08<3:07:34,  2.60it/s]"
     ]
    },
    {
     "name": "stdout",
     "output_type": "stream",
     "text": [
      "0 HTTPConnectionPool(host='eprints.usm.my', port=80): Max retries exceeded with url: /28715/1/Rainfall-runoff_modelling_in_gauged_and_ungauged_urban_catchments_using_urban_stormwater_model_%28USwM%29.pdf (Caused by NewConnectionError('<urllib3.connection.HTTPConnection object at 0x7f576873fb20>: Failed to establish a new connection: [Errno 110] Connection timed out'))\n"
     ]
    },
    {
     "name": "stderr",
     "output_type": "stream",
     "text": [
      " 18%|██████                           | 6512/35731 [3:42:19<55:42:51,  6.86s/it]"
     ]
    },
    {
     "name": "stdout",
     "output_type": "stream",
     "text": [
      "0 HTTPConnectionPool(host='eprints.usm.my', port=80): Max retries exceeded with url: /28724/1/Preparation%2C_characterization_and_performance_of_tio2_based_catalytic_pellet_for_detection_of_volatile_organic_compound_under_uv_light.pdf (Caused by NewConnectionError('<urllib3.connection.HTTPConnection object at 0x7f576873f850>: Failed to establish a new connection: [Errno 110] Connection timed out'))\n"
     ]
    },
    {
     "name": "stderr",
     "output_type": "stream",
     "text": [
      " 18%|██████                           | 6523/35731 [3:44:33<12:14:46,  1.51s/it]"
     ]
    },
    {
     "name": "stdout",
     "output_type": "stream",
     "text": [
      "0 HTTPConnectionPool(host='eprints.usm.my', port=80): Max retries exceeded with url: /28735/1/Family_purchase_decision_an_examination_of_teenagers%E2%80%99_resources_and_influence_strategies.pdf (Caused by NewConnectionError('<urllib3.connection.HTTPConnection object at 0x7f57687e9e50>: Failed to establish a new connection: [Errno 110] Connection timed out'))\n"
     ]
    },
    {
     "name": "stderr",
     "output_type": "stream",
     "text": [
      " 18%|██████▏                           | 6558/35731 [3:46:51<1:06:29,  7.31it/s]"
     ]
    },
    {
     "name": "stdout",
     "output_type": "stream",
     "text": [
      "0 HTTPConnectionPool(host='eprints.usm.my', port=80): Max retries exceeded with url: /28772/1/BZT311.pdf (Caused by NewConnectionError('<urllib3.connection.HTTPConnection object at 0x7f57687a8160>: Failed to establish a new connection: [Errno 110] Connection timed out'))\n"
     ]
    },
    {
     "name": "stderr",
     "output_type": "stream",
     "text": [
      " 19%|██████▍                           | 6711/35731 [3:50:39<3:32:24,  2.28it/s]"
     ]
    },
    {
     "name": "stdout",
     "output_type": "stream",
     "text": [
      "0 HTTPConnectionPool(host='eprints.usm.my', port=80): Max retries exceeded with url: /28973/1/CHARACTERIZATION_OF_ACINETOBACTER_SP.LWC1_ISOLATED_FROM_CONTAMINATEDWATER_AND_ITS_SURVIVABILITY_UNDER.pdf (Caused by NewConnectionError('<urllib3.connection.HTTPConnection object at 0x7f5768799550>: Failed to establish a new connection: [Errno 110] Connection timed out'))\n"
     ]
    },
    {
     "name": "stderr",
     "output_type": "stream",
     "text": [
      " 19%|██████▍                           | 6737/35731 [3:52:59<3:09:04,  2.56it/s]"
     ]
    },
    {
     "name": "stdout",
     "output_type": "stream",
     "text": [
      "0 HTTPConnectionPool(host='eprints.usm.my', port=80): Max retries exceeded with url: /29010/1/EXTRACELLULAR_PECTINASE_PRODUCTION_BY_Aspergillus_niger_HFM_8_THROUGH_SOLID_SUBSTRATE_FERMENTATION_USING_POMELO_PEELS_AS_A_SUBSTRATE.pdf (Caused by NewConnectionError('<urllib3.connection.HTTPConnection object at 0x7f57687e9220>: Failed to establish a new connection: [Errno 110] Connection timed out'))\n"
     ]
    },
    {
     "name": "stderr",
     "output_type": "stream",
     "text": [
      " 19%|██████▌                           | 6885/35731 [3:56:09<4:16:51,  1.87it/s]"
     ]
    },
    {
     "name": "stdout",
     "output_type": "stream",
     "text": [
      "0 HTTPConnectionPool(host='eprints.usm.my', port=80): Max retries exceeded with url: /29157/1/Design_and_evaluation_of_multiparticulate_systems_prepared_using_sieving-spheronisation_and_extrusion-spheronisation.pdf (Caused by NewConnectionError('<urllib3.connection.HTTPConnection object at 0x7f576873f6a0>: Failed to establish a new connection: [Errno 110] Connection timed out'))\n"
     ]
    },
    {
     "name": "stderr",
     "output_type": "stream",
     "text": [
      " 19%|██████▌                           | 6919/35731 [3:58:30<2:12:22,  3.63it/s]"
     ]
    },
    {
     "name": "stdout",
     "output_type": "stream",
     "text": [
      "0 HTTPConnectionPool(host='eprints.usm.my', port=80): Max retries exceeded with url: /29229/1/Effects_Of_Leadership_Style_On_Job_Satisfaction_In_SMEs_In_Malaysia.pdf (Caused by NewConnectionError('<urllib3.connection.HTTPConnection object at 0x7f576873f2e0>: Failed to establish a new connection: [Errno 110] Connection timed out'))\n"
     ]
    },
    {
     "name": "stderr",
     "output_type": "stream",
     "text": [
      " 20%|██████▋                           | 7080/35731 [4:01:28<1:41:22,  4.71it/s]"
     ]
    },
    {
     "name": "stdout",
     "output_type": "stream",
     "text": [
      "0 HTTPConnectionPool(host='eprints.usm.my', port=80): Max retries exceeded with url: /29409/1/Logistics_strategic_orientations_and_logistics_performance.pdf (Caused by NewConnectionError('<urllib3.connection.HTTPConnection object at 0x7f57687e9b20>: Failed to establish a new connection: [Errno 110] Connection timed out'))\n"
     ]
    },
    {
     "name": "stderr",
     "output_type": "stream",
     "text": [
      " 20%|██████▊                           | 7118/35731 [4:03:49<2:36:21,  3.05it/s]"
     ]
    },
    {
     "name": "stdout",
     "output_type": "stream",
     "text": [
      "0 HTTPConnectionPool(host='eprints.usm.my', port=80): Max retries exceeded with url: /29463/1/EVIDENCE_OF_TIME-DIVERSIFICATION_IN_MALAYSIA_AN_EMPIRICAL_STUDY_ON_THE_RELATIONSHIP_BETWEEN_RETURN_AND_INVESTMENT_TIME_HORIZON.pdf (Caused by NewConnectionError('<urllib3.connection.HTTPConnection object at 0x7f57687a8490>: Failed to establish a new connection: [Errno 110] Connection timed out'))\n"
     ]
    },
    {
     "name": "stderr",
     "output_type": "stream",
     "text": [
      " 20%|██████▊                           | 7148/35731 [4:06:12<5:03:58,  1.57it/s]"
     ]
    },
    {
     "name": "stdout",
     "output_type": "stream",
     "text": [
      "0 HTTPConnectionPool(host='eprints.usm.my', port=80): Max retries exceeded with url: /29497/1/Pages%2023-29%20from%20HSSEC-2016-PROCEEDINGS-5.pdf (Caused by NewConnectionError('<urllib3.connection.HTTPConnection object at 0x7f5768799f10>: Failed to establish a new connection: [Errno 110] Connection timed out'))\n"
     ]
    },
    {
     "name": "stderr",
     "output_type": "stream",
     "text": [
      " 20%|██████▌                          | 7171/35731 [4:08:52<10:58:53,  1.38s/it]"
     ]
    },
    {
     "name": "stdout",
     "output_type": "stream",
     "text": [
      "0 HTTPConnectionPool(host='eprints.usm.my', port=80): Max retries exceeded with url: /29518/1/Azura%26Abrizah_uitm.pdf (Caused by NewConnectionError('<urllib3.connection.HTTPConnection object at 0x7f57687e98e0>: Failed to establish a new connection: [Errno 110] Connection timed out'))\n"
     ]
    },
    {
     "name": "stderr",
     "output_type": "stream",
     "text": [
      " 20%|██████▋                          | 7176/35731 [4:11:04<78:10:18,  9.86s/it]"
     ]
    },
    {
     "name": "stdout",
     "output_type": "stream",
     "text": [
      "0 HTTPConnectionPool(host='eprints.usm.my', port=80): Max retries exceeded with url: /29523/1/Zuraidah_UiTM.pdf (Caused by NewConnectionError('<urllib3.connection.HTTPConnection object at 0x7f576873f820>: Failed to establish a new connection: [Errno 110] Connection timed out'))\n"
     ]
    },
    {
     "name": "stderr",
     "output_type": "stream",
     "text": [
      " 20%|██████▋                          | 7185/35731 [4:13:19<24:26:23,  3.08s/it]"
     ]
    },
    {
     "name": "stdout",
     "output_type": "stream",
     "text": [
      "0 HTTPConnectionPool(host='eprints.usm.my', port=80): Max retries exceeded with url: /29534/1/LIT_muha_media_sosial_latest2.pdf (Caused by NewConnectionError('<urllib3.connection.HTTPConnection object at 0x7f576873f340>: Failed to establish a new connection: [Errno 110] Connection timed out'))\n"
     ]
    },
    {
     "name": "stderr",
     "output_type": "stream",
     "text": [
      " 20%|██████▋                          | 7208/35731 [4:16:12<11:02:56,  1.39s/it]"
     ]
    },
    {
     "name": "stdout",
     "output_type": "stream",
     "text": [
      "0 HTTPConnectionPool(host='eprints.usm.my', port=80): Max retries exceeded with url: /29559/1/In-vitro_cardiovascular_effects_of_gynura_procumbens_%28lour%29_and_orthosiphon_stamineus_%28benth%29.pdf (Caused by NewConnectionError('<urllib3.connection.HTTPConnection object at 0x7f57687e9b50>: Failed to establish a new connection: [Errno 110] Connection timed out'))\n"
     ]
    },
    {
     "name": "stderr",
     "output_type": "stream",
     "text": [
      " 20%|██████▊                           | 7224/35731 [4:18:30<5:18:10,  1.49it/s]"
     ]
    },
    {
     "name": "stdout",
     "output_type": "stream",
     "text": [
      "0 HTTPConnectionPool(host='eprints.usm.my', port=80): Max retries exceeded with url: /29579/1/An_Explorative_study_on_pharmaceutical_care_practice_from_the_perspective_of_pharmacists_in_Malaysia.pdf (Caused by NewConnectionError('<urllib3.connection.HTTPConnection object at 0x7f57687e9820>: Failed to establish a new connection: [Errno 110] Connection timed out'))\n"
     ]
    },
    {
     "name": "stderr",
     "output_type": "stream",
     "text": [
      " 20%|██████▉                           | 7238/35731 [4:20:50<7:17:42,  1.08it/s]"
     ]
    },
    {
     "name": "stdout",
     "output_type": "stream",
     "text": [
      "0 HTTPConnectionPool(host='eprints.usm.my', port=80): Max retries exceeded with url: /29603/1/Development_and_characterisation_of_fast_release_bioadhesive_suppository_system_containing_diclofenac_sodium.pdf (Caused by NewConnectionError('<urllib3.connection.HTTPConnection object at 0x7f57687994f0>: Failed to establish a new connection: [Errno 110] Connection timed out'))\n"
     ]
    },
    {
     "name": "stderr",
     "output_type": "stream",
     "text": [
      " 20%|██████▉                           | 7307/35731 [4:23:44<4:20:39,  1.82it/s]"
     ]
    },
    {
     "name": "stdout",
     "output_type": "stream",
     "text": [
      "0 HTTPConnectionPool(host='eprints.usm.my', port=80): Max retries exceeded with url: /29692/1/The_Effects_of__a_synbiotic_product_on_the_blood_lipid_profile_and_red_blood.pdf (Caused by NewConnectionError('<urllib3.connection.HTTPConnection object at 0x7f57687e9fa0>: Failed to establish a new connection: [Errno 110] Connection timed out'))\n"
     ]
    },
    {
     "name": "stderr",
     "output_type": "stream",
     "text": [
      " 21%|██████▉                           | 7349/35731 [4:26:15<3:59:50,  1.97it/s]"
     ]
    },
    {
     "name": "stdout",
     "output_type": "stream",
     "text": [
      "0 HTTPConnectionPool(host='eprints.usm.my', port=80): Max retries exceeded with url: /29738/1/PRODUCTION_OF_CELLULASE_AND_XYLANASE_BY_INDIGENOUS_ASPERGILLUS_NIGER_AI1_VIA_SOLID_SUBSTRATE_FERMENTATION.pdf (Caused by NewConnectionError('<urllib3.connection.HTTPConnection object at 0x7f576873f790>: Failed to establish a new connection: [Errno 110] Connection timed out'))\n"
     ]
    },
    {
     "name": "stderr",
     "output_type": "stream",
     "text": [
      "\r",
      " 21%|██████▌                         | 7350/35731 [4:28:27<315:07:42, 39.97s/it]"
     ]
    },
    {
     "name": "stdout",
     "output_type": "stream",
     "text": [
      "0 HTTPConnectionPool(host='eprints.usm.my', port=80): Max retries exceeded with url: /29739/1/Kifayah_Amar.pdf (Caused by NewConnectionError('<urllib3.connection.HTTPConnection object at 0x7f576873fb20>: Failed to establish a new connection: [Errno 110] Connection timed out'))\n"
     ]
    },
    {
     "name": "stderr",
     "output_type": "stream",
     "text": [
      " 21%|███████                           | 7382/35731 [4:30:59<4:45:02,  1.66it/s]"
     ]
    },
    {
     "name": "stdout",
     "output_type": "stream",
     "text": [
      "0 HTTPConnectionPool(host='eprints.usm.my', port=80): Max retries exceeded with url: /29777/1/Flood_hazard_and_risk_assessment_through_incorporating_gis.pdf (Caused by NewConnectionError('<urllib3.connection.HTTPConnection object at 0x7f57687e9d00>: Failed to establish a new connection: [Errno 110] Connection timed out'))\n"
     ]
    },
    {
     "name": "stderr",
     "output_type": "stream",
     "text": [
      " 21%|███████                           | 7414/35731 [4:33:31<4:34:24,  1.72it/s]"
     ]
    },
    {
     "name": "stdout",
     "output_type": "stream",
     "text": [
      "0 HTTPConnectionPool(host='eprints.usm.my', port=80): Max retries exceeded with url: /29816/1/MODULATION_TRANSFER_FUNCTION_COMPENSATION_THROUGH_A_MODIFIED_WIENER_FILTER_FOR_SPATIAL_IMAGE_QUALITY_IMPROVEMENT0000.pdf (Caused by NewConnectionError('<urllib3.connection.HTTPConnection object at 0x7f57687a82b0>: Failed to establish a new connection: [Errno 110] Connection timed out'))\n"
     ]
    },
    {
     "name": "stderr",
     "output_type": "stream",
     "text": [
      " 21%|██████▊                          | 7425/35731 [4:35:48<12:39:01,  1.61s/it]"
     ]
    },
    {
     "name": "stdout",
     "output_type": "stream",
     "text": [
      "0 HTTPConnectionPool(host='eprints.usm.my', port=80): Max retries exceeded with url: /2983/1/Document-772_Version-866_application-pdf_0.pdf (Caused by NewConnectionError('<urllib3.connection.HTTPConnection object at 0x7f57687e9b50>: Failed to establish a new connection: [Errno 110] Connection timed out'))\n"
     ]
    },
    {
     "name": "stderr",
     "output_type": "stream",
     "text": [
      " 21%|██████▊                          | 7431/35731 [4:38:06<65:15:08,  8.30s/it]"
     ]
    },
    {
     "name": "stdout",
     "output_type": "stream",
     "text": [
      "0 HTTPConnectionPool(host='eprints.usm.my', port=80): Max retries exceeded with url: /29838/1/Synthesis_and_Liquid_crystalline_properties_of_new_twin_diglycidyl_ethers_based_on_azomethine_groups_cured_by_aromatic_diamines.pdf (Caused by NewConnectionError('<urllib3.connection.HTTPConnection object at 0x7f57687a8220>: Failed to establish a new connection: [Errno 110] Connection timed out'))\n"
     ]
    },
    {
     "name": "stderr",
     "output_type": "stream",
     "text": [
      " 21%|███████                           | 7458/35731 [4:40:28<2:39:53,  2.95it/s]"
     ]
    },
    {
     "name": "stdout",
     "output_type": "stream",
     "text": [
      "0 HTTPConnectionPool(host='eprints.usm.my', port=80): Max retries exceeded with url: /2987/1/Document-773_Version-867_application-pdf_0.pdf (Caused by NewConnectionError('<urllib3.connection.HTTPConnection object at 0x7f576873fb50>: Failed to establish a new connection: [Errno 110] Connection timed out'))\n"
     ]
    },
    {
     "name": "stderr",
     "output_type": "stream",
     "text": [
      " 21%|███████▏                          | 7557/35731 [4:43:17<3:10:41,  2.46it/s]"
     ]
    },
    {
     "name": "stdout",
     "output_type": "stream",
     "text": [
      "0 HTTPConnectionPool(host='eprints.usm.my', port=80): Max retries exceeded with url: /29989/1/YUSNI_RAHMAN.pdf (Caused by NewConnectionError('<urllib3.connection.HTTPConnection object at 0x7f576873f3d0>: Failed to establish a new connection: [Errno 110] Connection timed out'))\n"
     ]
    },
    {
     "name": "stderr",
     "output_type": "stream",
     "text": [
      " 21%|███████▏                          | 7569/35731 [4:45:33<8:50:46,  1.13s/it]"
     ]
    },
    {
     "name": "stdout",
     "output_type": "stream",
     "text": [
      "0 HTTPConnectionPool(host='eprints.usm.my', port=80): Max retries exceeded with url: /3000/1/Document-830_Version-924_application-pdf_0.pdf (Caused by NewConnectionError('<urllib3.connection.HTTPConnection object at 0x7f57687a8190>: Failed to establish a new connection: [Errno 110] Connection timed out'))\n"
     ]
    },
    {
     "name": "stderr",
     "output_type": "stream",
     "text": [
      " 21%|███████▏                          | 7585/35731 [4:47:50<5:08:08,  1.52it/s]"
     ]
    },
    {
     "name": "stdout",
     "output_type": "stream",
     "text": [
      "0 HTTPConnectionPool(host='eprints.usm.my', port=80): Max retries exceeded with url: /30016/1/Bhuvanesh_Abhinesh_Rajamony.pdf (Caused by NewConnectionError('<urllib3.connection.HTTPConnection object at 0x7f5768799cd0>: Failed to establish a new connection: [Errno 110] Connection timed out'))\n"
     ]
    },
    {
     "name": "stderr",
     "output_type": "stream",
     "text": [
      " 21%|███████▎                          | 7678/35731 [4:50:48<3:17:33,  2.37it/s]"
     ]
    },
    {
     "name": "stdout",
     "output_type": "stream",
     "text": [
      "0 HTTPConnectionPool(host='eprints.usm.my', port=80): Max retries exceeded with url: /30129/1/HARZIDATUL.pdf (Caused by NewConnectionError('<urllib3.connection.HTTPConnection object at 0x7f5768799190>: Failed to establish a new connection: [Errno 110] Connection timed out'))\n"
     ]
    },
    {
     "name": "stderr",
     "output_type": "stream",
     "text": [
      " 22%|███████▎                          | 7742/35731 [4:53:28<3:13:40,  2.41it/s]"
     ]
    },
    {
     "name": "stdout",
     "output_type": "stream",
     "text": [
      "0 HTTPConnectionPool(host='eprints.usm.my', port=80): Max retries exceeded with url: /302/1/EKC_222_-_TERMODINAMIK_KEJURUTERAAN_KIMIA_MAC_05.pdf (Caused by NewConnectionError('<urllib3.connection.HTTPConnection object at 0x7f57687a8190>: Failed to establish a new connection: [Errno 110] Connection timed out'))\n"
     ]
    },
    {
     "name": "stderr",
     "output_type": "stream",
     "text": [
      " 22%|███████▍                          | 7823/35731 [4:56:14<4:23:08,  1.77it/s]"
     ]
    },
    {
     "name": "stdout",
     "output_type": "stream",
     "text": [
      "0 HTTPConnectionPool(host='eprints.usm.my', port=80): Max retries exceeded with url: /30377/1/THESIS_PhD.pdf (Caused by NewConnectionError('<urllib3.connection.HTTPConnection object at 0x7f576873fcd0>: Failed to establish a new connection: [Errno 110] Connection timed out'))\n",
      "1 HTTPConnectionPool(host='eprints.usm.my', port=80): Max retries exceeded with url: /30377/1/THESIS_PhD.pdf (Caused by NewConnectionError('<urllib3.connection.HTTPConnection object at 0x7f5768785eb0>: Failed to establish a new connection: [Errno 110] Connection timed out'))\n"
     ]
    },
    {
     "name": "stderr",
     "output_type": "stream",
     "text": [
      " 22%|███████                         | 7828/35731 [5:00:37<149:23:05, 19.27s/it]"
     ]
    },
    {
     "name": "stdout",
     "output_type": "stream",
     "text": [
      "0 HTTPConnectionPool(host='eprints.usm.my', port=80): Max retries exceeded with url: /30382/1/THESIS_content.pdf (Caused by NewConnectionError('<urllib3.connection.HTTPConnection object at 0x7f57687a8d00>: Failed to establish a new connection: [Errno 110] Connection timed out'))\n"
     ]
    },
    {
     "name": "stderr",
     "output_type": "stream",
     "text": [
      " 22%|███████▏                         | 7839/35731 [5:02:53<14:54:05,  1.92s/it]"
     ]
    },
    {
     "name": "stdout",
     "output_type": "stream",
     "text": [
      "0 HTTPConnectionPool(host='eprints.usm.my', port=80): Max retries exceeded with url: /30506/1/SITI_NUR_LIYANA_BINTI_RAMLEE.pdf (Caused by NewConnectionError('<urllib3.connection.HTTPConnection object at 0x7f57687bf130>: Failed to establish a new connection: [Errno 110] Connection timed out'))\n"
     ]
    },
    {
     "name": "stderr",
     "output_type": "stream",
     "text": [
      " 22%|███████▌                          | 7957/35731 [5:08:03<5:54:53,  1.30it/s]"
     ]
    },
    {
     "name": "stdout",
     "output_type": "stream",
     "text": [
      "0 HTTPConnectionPool(host='eprints.usm.my', port=80): Max retries exceeded with url: /30521/1/ALAA_AMIN_HASSAN_OMAR.pdf (Caused by NewConnectionError('<urllib3.connection.HTTPConnection object at 0x7f5768799a00>: Failed to establish a new connection: [Errno 110] Connection timed out'))\n"
     ]
    },
    {
     "name": "stderr",
     "output_type": "stream",
     "text": [
      " 22%|███████▌                          | 7998/35731 [5:10:31<2:51:15,  2.70it/s]"
     ]
    },
    {
     "name": "stdout",
     "output_type": "stream",
     "text": [
      "0 HTTPConnectionPool(host='eprints.usm.my', port=80): Max retries exceeded with url: /30566/1/ABBAS_MOHAMMED_SELMAN.pdf (Caused by NewConnectionError('<urllib3.connection.HTTPConnection object at 0x7f57687e9af0>: Failed to establish a new connection: [Errno 110] Connection timed out'))\n"
     ]
    },
    {
     "name": "stderr",
     "output_type": "stream",
     "text": [
      " 23%|███████▋                          | 8091/35731 [5:13:25<3:21:45,  2.28it/s]"
     ]
    },
    {
     "name": "stdout",
     "output_type": "stream",
     "text": [
      "0 HTTPConnectionPool(host='eprints.usm.my', port=80): Max retries exceeded with url: /30740/1/MOHAMAD_IZHA_ISHAK.pdf (Caused by NewConnectionError('<urllib3.connection.HTTPConnection object at 0x7f576873f550>: Failed to establish a new connection: [Errno 110] Connection timed out'))\n"
     ]
    },
    {
     "name": "stderr",
     "output_type": "stream",
     "text": [
      "\r",
      " 23%|███████▏                        | 8092/35731 [5:15:37<305:44:30, 39.82s/it]"
     ]
    },
    {
     "name": "stdout",
     "output_type": "stream",
     "text": [
      "0 HTTPConnectionPool(host='eprints.usm.my', port=80): Max retries exceeded with url: /30741/1/MOHAMED_YUSOF_BIN_RADZAK.pdf (Caused by NewConnectionError('<urllib3.connection.HTTPConnection object at 0x7f576873f6d0>: Failed to establish a new connection: [Errno 110] Connection timed out'))\n"
     ]
    },
    {
     "name": "stderr",
     "output_type": "stream",
     "text": [
      " 23%|███████▋                          | 8132/35731 [5:18:01<2:42:08,  2.84it/s]"
     ]
    },
    {
     "name": "stdout",
     "output_type": "stream",
     "text": [
      "0 HTTPConnectionPool(host='eprints.usm.my', port=80): Max retries exceeded with url: /30853/1/EEK241.pdf (Caused by NewConnectionError('<urllib3.connection.HTTPConnection object at 0x7f57687998e0>: Failed to establish a new connection: [Errno 110] Connection timed out'))\n"
     ]
    },
    {
     "name": "stderr",
     "output_type": "stream",
     "text": [
      " 23%|███████▌                         | 8141/35731 [5:20:14<20:12:15,  2.64s/it]"
     ]
    },
    {
     "name": "stdout",
     "output_type": "stream",
     "text": [
      "0 HTTPConnectionPool(host='eprints.usm.my', port=80): Max retries exceeded with url: /30950/1/EMH322_%28Dec14_Jan15%29.pdf (Caused by NewConnectionError('<urllib3.connection.HTTPConnection object at 0x7f57687a8cd0>: Failed to establish a new connection: [Errno 110] Connection timed out'))\n"
     ]
    },
    {
     "name": "stderr",
     "output_type": "stream",
     "text": [
      " 23%|███████▊                          | 8244/35731 [5:25:10<1:36:32,  4.75it/s]"
     ]
    },
    {
     "name": "stdout",
     "output_type": "stream",
     "text": [
      "0 HTTPConnectionPool(host='eprints.usm.my', port=80): Max retries exceeded with url: /31/2/hj%2Bsalleh%2B3.pdf (Caused by NewConnectionError('<urllib3.connection.HTTPConnection object at 0x7f5768799580>: Failed to establish a new connection: [Errno 110] Connection timed out'))\n"
     ]
    },
    {
     "name": "stderr",
     "output_type": "stream",
     "text": [
      " 24%|████████                          | 8522/35731 [5:29:39<2:41:47,  2.80it/s]"
     ]
    },
    {
     "name": "stdout",
     "output_type": "stream",
     "text": [
      "0 HTTPConnectionPool(host='eprints.usm.my', port=80): Max retries exceeded with url: /31323/1/Nora_Samoudi.pdf (Caused by NewConnectionError('<urllib3.connection.HTTPConnection object at 0x7f576873f550>: Failed to establish a new connection: [Errno 110] Connection timed out'))\n"
     ]
    },
    {
     "name": "stderr",
     "output_type": "stream",
     "text": [
      " 24%|████████▏                         | 8544/35731 [5:31:58<2:57:37,  2.55it/s]"
     ]
    },
    {
     "name": "stdout",
     "output_type": "stream",
     "text": [
      "0 HTTPConnectionPool(host='eprints.usm.my', port=80): Max retries exceeded with url: /31344/1/Simon_Moses_Schleimer.pdf (Caused by NewConnectionError('<urllib3.connection.HTTPConnection object at 0x7f5768799940>: Failed to establish a new connection: [Errno 110] Connection timed out'))\n"
     ]
    },
    {
     "name": "stderr",
     "output_type": "stream",
     "text": [
      " 24%|████████▏                         | 8562/35731 [5:34:16<4:07:50,  1.83it/s]"
     ]
    },
    {
     "name": "stdout",
     "output_type": "stream",
     "text": [
      "0 HTTPConnectionPool(host='eprints.usm.my', port=80): Max retries exceeded with url: /31366/1/SUJATAVANI_GUNASAGARAN.pdf (Caused by NewConnectionError('<urllib3.connection.HTTPConnection object at 0x7f57687a85e0>: Failed to establish a new connection: [Errno 110] Connection timed out'))\n"
     ]
    },
    {
     "name": "stderr",
     "output_type": "stream",
     "text": [
      " 24%|████████▎                         | 8714/35731 [5:37:33<4:04:47,  1.84it/s]"
     ]
    },
    {
     "name": "stdout",
     "output_type": "stream",
     "text": [
      "0 HTTPConnectionPool(host='eprints.usm.my', port=80): Max retries exceeded with url: /31528/1/%D8%A7%D9%84%D9%83%D8%AA%D8%A7%D8%A8%D8%A9_%D8%A7%D9%84%D8%B1%D8%A6%D9%8A%D8%B3%D9%8A.pdf (Caused by NewConnectionError('<urllib3.connection.HTTPConnection object at 0x7f57687855b0>: Failed to establish a new connection: [Errno 110] Connection timed out'))\n"
     ]
    },
    {
     "name": "stderr",
     "output_type": "stream",
     "text": [
      " 25%|████████▎                         | 8800/35731 [5:40:22<2:48:43,  2.66it/s]"
     ]
    },
    {
     "name": "stdout",
     "output_type": "stream",
     "text": [
      "0 HTTPConnectionPool(host='eprints.usm.my', port=80): Max retries exceeded with url: /31608/1/Law_Shun_Chin.pdf (Caused by NewConnectionError('<urllib3.connection.HTTPConnection object at 0x7f57687a8370>: Failed to establish a new connection: [Errno 110] Connection timed out'))\n"
     ]
    },
    {
     "name": "stderr",
     "output_type": "stream",
     "text": [
      " 25%|████████▍                         | 8851/35731 [5:42:55<3:39:22,  2.04it/s]"
     ]
    },
    {
     "name": "stdout",
     "output_type": "stream",
     "text": [
      "0 HTTPConnectionPool(host='eprints.usm.my', port=80): Max retries exceeded with url: /31655/1/LEE_SHU_CHIN_24.pdf (Caused by NewConnectionError('<urllib3.connection.HTTPConnection object at 0x7f5768799160>: Failed to establish a new connection: [Errno 110] Connection timed out'))\n"
     ]
    },
    {
     "name": "stderr",
     "output_type": "stream",
     "text": [
      " 25%|████████▍                         | 8872/35731 [5:45:16<3:16:50,  2.27it/s]"
     ]
    },
    {
     "name": "stdout",
     "output_type": "stream",
     "text": [
      "0 HTTPConnectionPool(host='eprints.usm.my', port=80): Max retries exceeded with url: /31685/1/SHAHRAM_JAHANI_24.pdf (Caused by NewConnectionError('<urllib3.connection.HTTPConnection object at 0x7f576873ff40>: Failed to establish a new connection: [Errno 110] Connection timed out'))\n"
     ]
    },
    {
     "name": "stderr",
     "output_type": "stream",
     "text": [
      " 25%|████████▌                         | 8964/35731 [5:48:10<2:53:48,  2.57it/s]"
     ]
    },
    {
     "name": "stdout",
     "output_type": "stream",
     "text": [
      "0 HTTPConnectionPool(host='eprints.usm.my', port=80): Max retries exceeded with url: /31817/1/NURUL_HUDA_BINTI_ABDUL_24%28NN%29.pdf (Caused by NewConnectionError('<urllib3.connection.HTTPConnection object at 0x7f5768799460>: Failed to establish a new connection: [Errno 110] Connection timed out'))\n"
     ]
    },
    {
     "name": "stderr",
     "output_type": "stream",
     "text": [
      " 25%|████████▌                         | 9038/35731 [5:50:55<2:04:52,  3.56it/s]"
     ]
    },
    {
     "name": "stdout",
     "output_type": "stream",
     "text": [
      "0 HTTPConnectionPool(host='eprints.usm.my', port=80): Max retries exceeded with url: /31915/1/Ayu_Amalia%2C_Filosa.pdf (Caused by NewConnectionError('<urllib3.connection.HTTPConnection object at 0x7f57687a8250>: Failed to establish a new connection: [Errno 110] Connection timed out'))\n"
     ]
    },
    {
     "name": "stderr",
     "output_type": "stream",
     "text": [
      " 25%|████████▌                         | 9061/35731 [5:53:14<3:46:35,  1.96it/s]"
     ]
    },
    {
     "name": "stdout",
     "output_type": "stream",
     "text": [
      "0 HTTPConnectionPool(host='eprints.usm.my', port=80): Max retries exceeded with url: /31940/1/Muhammad_Iqmal_Bin_Rahiman.pdf (Caused by NewConnectionError('<urllib3.connection.HTTPConnection object at 0x7f57687bf520>: Failed to establish a new connection: [Errno 110] Connection timed out'))\n"
     ]
    },
    {
     "name": "stderr",
     "output_type": "stream",
     "text": [
      " 25%|████████▋                         | 9103/35731 [5:55:42<2:57:23,  2.50it/s]"
     ]
    },
    {
     "name": "stdout",
     "output_type": "stream",
     "text": [
      "0 HTTPConnectionPool(host='eprints.usm.my', port=80): Max retries exceeded with url: /31994/1/UMAIRAH_BINTI_ABD_RANI_24%28NN%29.pdf (Caused by NewConnectionError('<urllib3.connection.HTTPConnection object at 0x7f57687a8370>: Failed to establish a new connection: [Errno 110] Connection timed out'))\n"
     ]
    },
    {
     "name": "stderr",
     "output_type": "stream",
     "text": [
      " 26%|████████▍                        | 9151/35731 [5:58:17<15:04:42,  2.04s/it]"
     ]
    },
    {
     "name": "stdout",
     "output_type": "stream",
     "text": [
      "0 HTTPConnectionPool(host='eprints.usm.my', port=80): Max retries exceeded with url: /32041/1/SHANMUGAPRIYA_PERUMAL.pdf (Caused by NewConnectionError('<urllib3.connection.HTTPConnection object at 0x7f57687999a0>: Failed to establish a new connection: [Errno 110] Connection timed out'))\n"
     ]
    },
    {
     "name": "stderr",
     "output_type": "stream",
     "text": [
      " 26%|████████▏                       | 9153/35731 [6:00:28<211:31:57, 28.65s/it]"
     ]
    },
    {
     "name": "stdout",
     "output_type": "stream",
     "text": [
      "0 HTTPConnectionPool(host='eprints.usm.my', port=80): Max retries exceeded with url: /32043/1/Suadi_Bin_Zainal.pdf (Caused by NewConnectionError('<urllib3.connection.HTTPConnection object at 0x7f576873f3a0>: Failed to establish a new connection: [Errno 110] Connection timed out'))\n"
     ]
    },
    {
     "name": "stderr",
     "output_type": "stream",
     "text": [
      " 26%|████████▊                         | 9302/35731 [6:03:41<2:49:35,  2.60it/s]"
     ]
    },
    {
     "name": "stdout",
     "output_type": "stream",
     "text": [
      "0 HTTPConnectionPool(host='eprints.usm.my', port=80): Max retries exceeded with url: /32193/1/LIM_SENG_CHEE_24%28NN%29.pdf (Caused by NewConnectionError('<urllib3.connection.HTTPConnection object at 0x7f5768799310>: Failed to establish a new connection: [Errno 110] Connection timed out'))\n"
     ]
    },
    {
     "name": "stderr",
     "output_type": "stream",
     "text": [
      " 26%|████████▊                         | 9325/35731 [6:06:03<3:44:22,  1.96it/s]"
     ]
    },
    {
     "name": "stdout",
     "output_type": "stream",
     "text": [
      "0 HTTPConnectionPool(host='eprints.usm.my', port=80): Max retries exceeded with url: /32217/1/MOHD_NASIR_SELAMAT_24%28NN%29.pdf (Caused by NewConnectionError('<urllib3.connection.HTTPConnection object at 0x7f57687a8d30>: Failed to establish a new connection: [Errno 110] Connection timed out'))\n"
     ]
    },
    {
     "name": "stderr",
     "output_type": "stream",
     "text": [
      " 27%|█████████▏                        | 9592/35731 [6:11:12<3:33:26,  2.04it/s]"
     ]
    },
    {
     "name": "stdout",
     "output_type": "stream",
     "text": [
      "0 HTTPConnectionPool(host='eprints.usm.my', port=80): Max retries exceeded with url: /32515/1/USM_News_Portal_-_USM_TO_EXPAND_EXPERT_SERVICE_IN_AUDIOLOGY_AND_SPEECH.pdf (Caused by NewConnectionError('<urllib3.connection.HTTPConnection object at 0x7f57687bf3a0>: Failed to establish a new connection: [Errno 110] Connection timed out'))\n"
     ]
    },
    {
     "name": "stderr",
     "output_type": "stream",
     "text": [
      " 27%|█████████▏                        | 9665/35731 [6:14:22<2:53:15,  2.51it/s]"
     ]
    },
    {
     "name": "stdout",
     "output_type": "stream",
     "text": [
      "0 HTTPConnectionPool(host='eprints.usm.my', port=80): Max retries exceeded with url: /32603/1/USM_News_Portal_-_USM_ESTABLISHES_COOPERATION_WITH_UNSULBA.pdf (Caused by NewConnectionError('<urllib3.connection.HTTPConnection object at 0x7f57687a81c0>: Failed to establish a new connection: [Errno 110] Connection timed out'))\n"
     ]
    },
    {
     "name": "stderr",
     "output_type": "stream",
     "text": [
      " 27%|█████████▏                        | 9690/35731 [6:16:45<5:06:48,  1.41it/s]"
     ]
    },
    {
     "name": "stdout",
     "output_type": "stream",
     "text": [
      "0 HTTPConnectionPool(host='eprints.usm.my', port=80): Max retries exceeded with url: /32632/1/DZUL71.pdf (Caused by NewConnectionError('<urllib3.connection.HTTPConnection object at 0x7f5768799400>: Failed to establish a new connection: [Errno 110] Connection timed out'))\n"
     ]
    },
    {
     "name": "stderr",
     "output_type": "stream",
     "text": [
      " 27%|████████▋                       | 9692/35731 [6:18:56<202:22:59, 27.98s/it]"
     ]
    },
    {
     "name": "stdout",
     "output_type": "stream",
     "text": [
      "0 HTTPConnectionPool(host='eprints.usm.my', port=80): Max retries exceeded with url: /32655/1/DZUL78.pdf (Caused by NewConnectionError('<urllib3.connection.HTTPConnection object at 0x7f576873f880>: Failed to establish a new connection: [Errno 110] Connection timed out'))\n"
     ]
    },
    {
     "name": "stderr",
     "output_type": "stream",
     "text": [
      " 27%|█████████▎                        | 9767/35731 [6:22:06<1:23:06,  5.21it/s]"
     ]
    },
    {
     "name": "stdout",
     "output_type": "stream",
     "text": [
      "0 HTTPConnectionPool(host='eprints.usm.my', port=80): Max retries exceeded with url: /32728/1/DZUL112.pdf (Caused by NewConnectionError('<urllib3.connection.HTTPConnection object at 0x7f57687994f0>: Failed to establish a new connection: [Errno 110] Connection timed out'))\n"
     ]
    },
    {
     "name": "stderr",
     "output_type": "stream",
     "text": [
      " 27%|█████████▎                        | 9800/35731 [6:24:30<3:28:35,  2.07it/s]"
     ]
    },
    {
     "name": "stdout",
     "output_type": "stream",
     "text": [
      "0 HTTPConnectionPool(host='eprints.usm.my', port=80): Max retries exceeded with url: /32761/1/DZUL132.pdf (Caused by NewConnectionError('<urllib3.connection.HTTPConnection object at 0x7f57687a86d0>: Failed to establish a new connection: [Errno 110] Connection timed out'))\n"
     ]
    },
    {
     "name": "stderr",
     "output_type": "stream",
     "text": [
      " 28%|█████████▍                        | 9895/35731 [6:27:13<2:46:15,  2.59it/s]"
     ]
    },
    {
     "name": "stdout",
     "output_type": "stream",
     "text": [
      "0 HTTPConnectionPool(host='eprints.usm.my', port=80): Max retries exceeded with url: /32857/1/%E2%80%9CTOWARDS_GREENER%E2%80%9D_POLITEKNIK_SEBERANG_PERAI%2C_PULAU_PINANG_2016.pdf (Caused by NewConnectionError('<urllib3.connection.HTTPConnection object at 0x7f5768785730>: Failed to establish a new connection: [Errno 110] Connection timed out'))\n"
     ]
    },
    {
     "name": "stderr",
     "output_type": "stream",
     "text": [
      " 28%|█████████▍                        | 9953/35731 [6:30:05<3:02:01,  2.36it/s]"
     ]
    },
    {
     "name": "stdout",
     "output_type": "stream",
     "text": [
      "0 HTTPConnectionPool(host='eprints.usm.my', port=80): Max retries exceeded with url: /32923/1/USM_News_Portal_-_MATRA_HELPS_PRODUCE_TALENTED%2C_SKILLED_AND_COMPETENT_FUTURE_ARCHITECTS.pdf (Caused by NewConnectionError('<urllib3.connection.HTTPConnection object at 0x7f57687a87c0>: Failed to establish a new connection: [Errno 110] Connection timed out'))\n"
     ]
    },
    {
     "name": "stderr",
     "output_type": "stream",
     "text": [
      " 28%|█████████▏                       | 9964/35731 [6:32:21<10:04:30,  1.41s/it]"
     ]
    },
    {
     "name": "stdout",
     "output_type": "stream",
     "text": [
      "0 HTTPConnectionPool(host='eprints.usm.my', port=80): Max retries exceeded with url: /32938/1/USM_News_Portal_-_YIB_TRAINING_STUDENTS_THE_ESSENTIALS_OF_SCIENCE.pdf (Caused by NewConnectionError('<urllib3.connection.HTTPConnection object at 0x7f57687995e0>: Failed to establish a new connection: [Errno 110] Connection timed out'))\n"
     ]
    },
    {
     "name": "stderr",
     "output_type": "stream",
     "text": [
      " 28%|█████████▌                        | 9988/35731 [6:34:39<2:45:23,  2.59it/s]"
     ]
    },
    {
     "name": "stdout",
     "output_type": "stream",
     "text": [
      "0 HTTPConnectionPool(host='eprints.usm.my', port=80): Max retries exceeded with url: /32964/1/USM_News_Portal_-_LIONG_MIN_TZE__USM_RECIPIENT_OF_TRSM_AWARD_2016.pdf (Caused by NewConnectionError('<urllib3.connection.HTTPConnection object at 0x7f576873ff40>: Failed to establish a new connection: [Errno 110] Connection timed out'))\n"
     ]
    },
    {
     "name": "stderr",
     "output_type": "stream",
     "text": [
      " 28%|█████████▎                       | 10051/35731 [6:37:16<1:39:36,  4.30it/s]"
     ]
    },
    {
     "name": "stdout",
     "output_type": "stream",
     "text": [
      "0 HTTPConnectionPool(host='eprints.usm.my', port=80): Max retries exceeded with url: /33031/1/National_library_of_republic_Indonesia__MUHA.pdf (Caused by NewConnectionError('<urllib3.connection.HTTPConnection object at 0x7f5768799940>: Failed to establish a new connection: [Errno 110] Connection timed out'))\n"
     ]
    },
    {
     "name": "stderr",
     "output_type": "stream",
     "text": [
      " 28%|█████████▎                       | 10095/35731 [6:39:44<2:43:01,  2.62it/s]"
     ]
    },
    {
     "name": "stdout",
     "output_type": "stream",
     "text": [
      "0 HTTPConnectionPool(host='eprints.usm.my', port=80): Max retries exceeded with url: /33079/1/DZUL237.pdf (Caused by NewConnectionError('<urllib3.connection.HTTPConnection object at 0x7f57687a85b0>: Failed to establish a new connection: [Errno 110] Connection timed out'))\n"
     ]
    },
    {
     "name": "stderr",
     "output_type": "stream",
     "text": [
      "\r",
      " 28%|████████▊                      | 10096/35731 [6:41:56<283:38:55, 39.83s/it]"
     ]
    },
    {
     "name": "stdout",
     "output_type": "stream",
     "text": [
      "0 HTTPConnectionPool(host='eprints.usm.my', port=80): Max retries exceeded with url: /3308/1/Document-917_Version-1038_application-pdf_0.pdf (Caused by NewConnectionError('<urllib3.connection.HTTPConnection object at 0x7f57687bf3d0>: Failed to establish a new connection: [Errno 110] Connection timed out'))\n"
     ]
    },
    {
     "name": "stderr",
     "output_type": "stream",
     "text": [
      " 28%|█████████                       | 10105/35731 [6:44:09<28:48:58,  4.05s/it]"
     ]
    },
    {
     "name": "stdout",
     "output_type": "stream",
     "text": [
      "0 HTTPConnectionPool(host='eprints.usm.my', port=80): Max retries exceeded with url: /33092/1/USM_News_Portal_-_TREATING_BONE_CANCER_AT_THE_EARLY_STAGE.pdf (Caused by NewConnectionError('<urllib3.connection.HTTPConnection object at 0x7f57687a8cd0>: Failed to establish a new connection: [Errno 110] Connection timed out'))\n"
     ]
    },
    {
     "name": "stderr",
     "output_type": "stream",
     "text": [
      " 28%|████████▊                      | 10107/35731 [6:46:20<211:21:27, 29.69s/it]"
     ]
    },
    {
     "name": "stdout",
     "output_type": "stream",
     "text": [
      "0 HTTPConnectionPool(host='eprints.usm.my', port=80): Max retries exceeded with url: /33094/1/DZUL242.pdf (Caused by NewConnectionError('<urllib3.connection.HTTPConnection object at 0x7f5768799340>: Failed to establish a new connection: [Errno 110] Connection timed out'))\n"
     ]
    },
    {
     "name": "stderr",
     "output_type": "stream",
     "text": [
      " 28%|████████▊                      | 10109/35731 [6:48:32<299:34:04, 42.09s/it]"
     ]
    },
    {
     "name": "stdout",
     "output_type": "stream",
     "text": [
      "0 HTTPConnectionPool(host='eprints.usm.my', port=80): Max retries exceeded with url: /33097/1/USM_News_Portal_-_USM_RESEARCHERS_DISCOVER_MOST_COMPREHENSIVE_BLUEPRINT_FOR_RUBBER_PRODUCTION.pdf (Caused by NewConnectionError('<urllib3.connection.HTTPConnection object at 0x7f576873f9a0>: Failed to establish a new connection: [Errno 110] Connection timed out'))\n"
     ]
    },
    {
     "name": "stderr",
     "output_type": "stream",
     "text": [
      " 28%|████████▊                      | 10114/35731 [6:50:45<120:52:27, 16.99s/it]"
     ]
    },
    {
     "name": "stdout",
     "output_type": "stream",
     "text": [
      "0 HTTPConnectionPool(host='eprints.usm.my', port=80): Max retries exceeded with url: /33101/1/USM_News_Portal_-_USM_TO_COLLABORATE_WITH_THE_UNIVERSITY_OF_JOS_NIGERIA.pdf (Caused by NewConnectionError('<urllib3.connection.HTTPConnection object at 0x7f57687997c0>: Failed to establish a new connection: [Errno 110] Connection timed out'))\n",
      "1 HTTPConnectionPool(host='eprints.usm.my', port=80): Max retries exceeded with url: /33101/1/USM_News_Portal_-_USM_TO_COLLABORATE_WITH_THE_UNIVERSITY_OF_JOS_NIGERIA.pdf (Caused by NewConnectionError('<urllib3.connection.HTTPConnection object at 0x7f5780202d00>: Failed to establish a new connection: [Errno 110] Connection timed out'))\n"
     ]
    },
    {
     "name": "stderr",
     "output_type": "stream",
     "text": [
      " 28%|████████▊                      | 10119/35731 [6:55:08<155:43:06, 21.89s/it]"
     ]
    },
    {
     "name": "stdout",
     "output_type": "stream",
     "text": [
      "0 HTTPConnectionPool(host='eprints.usm.my', port=80): Max retries exceeded with url: /33108/1/DZUL246.pdf (Caused by NewConnectionError('<urllib3.connection.HTTPConnection object at 0x7f576873f3a0>: Failed to establish a new connection: [Errno 110] Connection timed out'))\n"
     ]
    },
    {
     "name": "stderr",
     "output_type": "stream",
     "text": [
      " 28%|█████████▍                       | 10155/35731 [6:57:28<2:00:39,  3.53it/s]"
     ]
    },
    {
     "name": "stdout",
     "output_type": "stream",
     "text": [
      "0 HTTPConnectionPool(host='eprints.usm.my', port=80): Max retries exceeded with url: /33149/1/LAWATAN_KERJA_DARIPADA_PESERTA_IACSIT_2017.pdf (Caused by NewConnectionError('<urllib3.connection.HTTPConnection object at 0x7f57687ae640>: Failed to establish a new connection: [Errno 110] Connection timed out'))\n"
     ]
    },
    {
     "name": "stderr",
     "output_type": "stream",
     "text": [
      "\r",
      " 28%|████████▊                      | 10156/35731 [6:59:40<281:29:18, 39.62s/it]"
     ]
    },
    {
     "name": "stdout",
     "output_type": "stream",
     "text": [
      "0 HTTPConnectionPool(host='eprints.usm.my', port=80): Max retries exceeded with url: /3315/1/Document-924_Version-1045_application-pdf_0.pdf (Caused by NewConnectionError('<urllib3.connection.HTTPConnection object at 0x7f57687a8a60>: Failed to establish a new connection: [Errno 110] Connection timed out'))\n"
     ]
    },
    {
     "name": "stderr",
     "output_type": "stream",
     "text": [
      " 28%|█████████▍                       | 10172/35731 [7:01:54<3:38:06,  1.95it/s]"
     ]
    },
    {
     "name": "stdout",
     "output_type": "stream",
     "text": [
      "0 HTTPConnectionPool(host='eprints.usm.my', port=80): Max retries exceeded with url: /33165/1/USM_News_Portal_-_DIGITAL_TOOLS_TO_MAKE_ASIAN_CENTURY_A_REALITY.pdf (Caused by NewConnectionError('<urllib3.connection.HTTPConnection object at 0x7f57687e9520>: Failed to establish a new connection: [Errno 110] Connection timed out'))\n",
      "1 HTTPConnectionPool(host='eprints.usm.my', port=80): Max retries exceeded with url: /33165/1/USM_News_Portal_-_DIGITAL_TOOLS_TO_MAKE_ASIAN_CENTURY_A_REALITY.pdf (Caused by NewConnectionError('<urllib3.connection.HTTPConnection object at 0x7f5768799370>: Failed to establish a new connection: [Errno 110] Connection timed out'))\n"
     ]
    },
    {
     "name": "stderr",
     "output_type": "stream",
     "text": [
      " 28%|█████████                       | 10182/35731 [7:06:18<23:51:17,  3.36s/it]"
     ]
    },
    {
     "name": "stdout",
     "output_type": "stream",
     "text": [
      "0 HTTPConnectionPool(host='eprints.usm.my', port=80): Max retries exceeded with url: /33174/1/USM_News_Portal_-_USM_WELCOMES_COURTESY_VISIT_FROM_THAILAND_HIGHER_EDUCATION_PLANNING_NETWORK.pdf (Caused by NewConnectionError('<urllib3.connection.HTTPConnection object at 0x7f576879b6d0>: Failed to establish a new connection: [Errno 110] Connection timed out'))\n"
     ]
    },
    {
     "name": "stderr",
     "output_type": "stream",
     "text": [
      " 29%|█████████▍                       | 10202/35731 [7:08:40<6:27:10,  1.10it/s]"
     ]
    },
    {
     "name": "stdout",
     "output_type": "stream",
     "text": [
      "0 HTTPConnectionPool(host='eprints.usm.my', port=80): Max retries exceeded with url: /33193/1/DZUL254.pdf (Caused by NewConnectionError('<urllib3.connection.HTTPConnection object at 0x7f57687999a0>: Failed to establish a new connection: [Errno 110] Connection timed out'))\n"
     ]
    },
    {
     "name": "stderr",
     "output_type": "stream",
     "text": [
      " 29%|█████████▌                       | 10319/35731 [7:11:33<1:31:40,  4.62it/s]"
     ]
    },
    {
     "name": "stdout",
     "output_type": "stream",
     "text": [
      "0 HTTPConnectionPool(host='eprints.usm.my', port=80): Max retries exceeded with url: /33329/1/USM_News_Portal_-_SOM_FAIR_2016__BRIDGING_RELATIONSHIP_BETWEEN_USM_STUDENTS_AND_THE_COMMUNITY.pdf (Caused by NewConnectionError('<urllib3.connection.HTTPConnection object at 0x7f57687a8280>: Failed to establish a new connection: [Errno 110] Connection timed out'))\n"
     ]
    },
    {
     "name": "stderr",
     "output_type": "stream",
     "text": [
      " 29%|█████████▌                       | 10364/35731 [7:14:00<1:28:16,  4.79it/s]"
     ]
    },
    {
     "name": "stdout",
     "output_type": "stream",
     "text": [
      "0 HTTPConnectionPool(host='eprints.usm.my', port=80): Max retries exceeded with url: /33379/1/EEK468.pdf (Caused by NewConnectionError('<urllib3.connection.HTTPConnection object at 0x7f5768785550>: Failed to establish a new connection: [Errno 110] Connection timed out'))\n"
     ]
    },
    {
     "name": "stderr",
     "output_type": "stream",
     "text": [
      " 29%|█████████▌                       | 10391/35731 [7:16:17<1:28:22,  4.78it/s]"
     ]
    },
    {
     "name": "stdout",
     "output_type": "stream",
     "text": [
      "0 HTTPConnectionPool(host='eprints.usm.my', port=80): Max retries exceeded with url: /33409/1/DZUL321.pdf (Caused by NewConnectionError('<urllib3.connection.HTTPConnection object at 0x7f57687a8d30>: Failed to establish a new connection: [Errno 110] Connection timed out'))\n"
     ]
    },
    {
     "name": "stderr",
     "output_type": "stream",
     "text": [
      " 29%|█████████▋                       | 10477/35731 [7:18:46<1:40:18,  4.20it/s]"
     ]
    },
    {
     "name": "stdout",
     "output_type": "stream",
     "text": [
      "0 HTTPConnectionPool(host='eprints.usm.my', port=80): Max retries exceeded with url: /33509/1/DZUL367.pdf (Caused by NewConnectionError('<urllib3.connection.HTTPConnection object at 0x7f5768799760>: Failed to establish a new connection: [Errno 110] Connection timed out'))\n"
     ]
    },
    {
     "name": "stderr",
     "output_type": "stream",
     "text": [
      " 29%|█████████▋                       | 10500/35731 [7:21:06<1:39:54,  4.21it/s]"
     ]
    },
    {
     "name": "stdout",
     "output_type": "stream",
     "text": [
      "0 HTTPConnectionPool(host='eprints.usm.my', port=80): Max retries exceeded with url: /33536/1/USM_News_Portal_-_USM_STRENGTHENING_TIES_WITH_JAPANESE_UNIVERSITIES.pdf (Caused by NewConnectionError('<urllib3.connection.HTTPConnection object at 0x7f576873faf0>: Failed to establish a new connection: [Errno 110] Connection timed out'))\n"
     ]
    },
    {
     "name": "stderr",
     "output_type": "stream",
     "text": [
      " 29%|█████████▋                       | 10513/35731 [7:23:20<5:34:42,  1.26it/s]"
     ]
    },
    {
     "name": "stdout",
     "output_type": "stream",
     "text": [
      "0 HTTPConnectionPool(host='eprints.usm.my', port=80): Max retries exceeded with url: /33561/1/USM_News_Portal_-_HAPPY_CHINESE_NEW_YEAR_FROM_THE_VICE-CHANCELLOR_AND_THE_USM_TOP_MANAGEMENT.pdf (Caused by NewConnectionError('<urllib3.connection.HTTPConnection object at 0x7f5768799370>: Failed to establish a new connection: [Errno 110] Connection timed out'))\n"
     ]
    },
    {
     "name": "stderr",
     "output_type": "stream",
     "text": [
      " 30%|█████████▊                       | 10558/35731 [7:25:45<1:26:29,  4.85it/s]"
     ]
    },
    {
     "name": "stdout",
     "output_type": "stream",
     "text": [
      "0 HTTPConnectionPool(host='eprints.usm.my', port=80): Max retries exceeded with url: /3363/1/EEM_332_-_REKABENTUK_UJIKAJI_APRIL_08.pdf (Caused by NewConnectionError('<urllib3.connection.HTTPConnection object at 0x7f57687a8fd0>: Failed to establish a new connection: [Errno 110] Connection timed out'))\n"
     ]
    },
    {
     "name": "stderr",
     "output_type": "stream",
     "text": [
      " 30%|█████████▏                     | 10560/35731 [7:27:55<192:32:10, 27.54s/it]"
     ]
    },
    {
     "name": "stdout",
     "output_type": "stream",
     "text": [
      "0 HTTPConnectionPool(host='eprints.usm.my', port=80): Max retries exceeded with url: /33632/1/DZUL392.pdf (Caused by NewConnectionError('<urllib3.connection.HTTPConnection object at 0x7f57687851c0>: Failed to establish a new connection: [Errno 110] Connection timed out'))\n"
     ]
    },
    {
     "name": "stderr",
     "output_type": "stream",
     "text": [
      " 30%|█████████▊                       | 10591/35731 [7:30:14<1:30:44,  4.62it/s]"
     ]
    },
    {
     "name": "stdout",
     "output_type": "stream",
     "text": [
      "0 HTTPConnectionPool(host='eprints.usm.my', port=80): Max retries exceeded with url: /33662/1/DZUL408.pdf (Caused by NewConnectionError('<urllib3.connection.HTTPConnection object at 0x7f57687a83a0>: Failed to establish a new connection: [Errno 110] Connection timed out'))\n"
     ]
    },
    {
     "name": "stderr",
     "output_type": "stream",
     "text": [
      " 30%|█████████▊                       | 10644/35731 [7:32:40<1:19:32,  5.26it/s]"
     ]
    },
    {
     "name": "stdout",
     "output_type": "stream",
     "text": [
      "0 HTTPConnectionPool(host='eprints.usm.my', port=80): Max retries exceeded with url: /33716/1/USM_News_Portal_-_NTU_KEEN_ON_RESEARCH_COLLABORATIONS_WITH_USM.pdf (Caused by NewConnectionError('<urllib3.connection.HTTPConnection object at 0x7f5768799b20>: Failed to establish a new connection: [Errno 110] Connection timed out'))\n"
     ]
    },
    {
     "name": "stderr",
     "output_type": "stream",
     "text": [
      " 30%|█████████▊                       | 10661/35731 [7:34:54<2:39:20,  2.62it/s]"
     ]
    },
    {
     "name": "stdout",
     "output_type": "stream",
     "text": [
      "0 HTTPConnectionPool(host='eprints.usm.my', port=80): Max retries exceeded with url: /3377/1/Document-932_Version-1053_application-pdf_0.pdf (Caused by NewConnectionError('<urllib3.connection.HTTPConnection object at 0x7f576873f2e0>: Failed to establish a new connection: [Errno 110] Connection timed out'))\n"
     ]
    },
    {
     "name": "stderr",
     "output_type": "stream",
     "text": [
      " 30%|█████████▉                       | 10713/35731 [7:37:21<2:27:46,  2.82it/s]"
     ]
    },
    {
     "name": "stdout",
     "output_type": "stream",
     "text": [
      "0 HTTPConnectionPool(host='eprints.usm.my', port=80): Max retries exceeded with url: /33855/1/Panduan_Subjek_Komunikasi.pdf (Caused by NewConnectionError('<urllib3.connection.HTTPConnection object at 0x7f57687990a0>: Failed to establish a new connection: [Errno 110] Connection timed out'))\n"
     ]
    },
    {
     "name": "stderr",
     "output_type": "stream",
     "text": [
      " 30%|█████████▉                       | 10733/35731 [7:39:44<5:12:25,  1.33it/s]"
     ]
    },
    {
     "name": "stdout",
     "output_type": "stream",
     "text": [
      "0 HTTPConnectionPool(host='eprints.usm.my', port=80): Max retries exceeded with url: /33893/1/Art_3.pdf (Caused by NewConnectionError('<urllib3.connection.HTTPConnection object at 0x7f57687a8280>: Failed to establish a new connection: [Errno 110] Connection timed out'))\n"
     ]
    },
    {
     "name": "stderr",
     "output_type": "stream",
     "text": [
      " 30%|█████████▎                     | 10736/35731 [7:41:56<136:57:37, 19.73s/it]"
     ]
    },
    {
     "name": "stdout",
     "output_type": "stream",
     "text": [
      "0 HTTPConnectionPool(host='eprints.usm.my', port=80): Max retries exceeded with url: /33897/1/USM_News_Portal_-_MoA_BETWEEN_USM_AND_MALAYSIAN_NUCLEAR_AGENCY_TO_ENHANCE_STI.pdf (Caused by NewConnectionError('<urllib3.connection.HTTPConnection object at 0x7f57687bfa60>: Failed to establish a new connection: [Errno 110] Connection timed out'))\n"
     ]
    },
    {
     "name": "stderr",
     "output_type": "stream",
     "text": [
      " 30%|█████████▋                      | 10748/35731 [7:44:14<10:10:03,  1.47s/it]"
     ]
    },
    {
     "name": "stdout",
     "output_type": "stream",
     "text": [
      "0 HTTPConnectionPool(host='eprints.usm.my', port=80): Max retries exceeded with url: /33907/1/art_6_09.pdf (Caused by NewConnectionError('<urllib3.connection.HTTPConnection object at 0x7f57687a8040>: Failed to establish a new connection: [Errno 110] Connection timed out'))\n"
     ]
    },
    {
     "name": "stderr",
     "output_type": "stream",
     "text": [
      " 30%|█████████▋                      | 10752/35731 [7:46:28<99:25:27, 14.33s/it]"
     ]
    },
    {
     "name": "stdout",
     "output_type": "stream",
     "text": [
      "0 HTTPConnectionPool(host='eprints.usm.my', port=80): Max retries exceeded with url: /33911/1/USM_News_Portal_-_BE_MORE_COMPETITIVE_IN_HIGHER_EDUCATION%2C_URGED_TENGKU_MAHALEEL.pdf (Caused by NewConnectionError('<urllib3.connection.HTTPConnection object at 0x7f5768799280>: Failed to establish a new connection: [Errno 110] Connection timed out'))\n"
     ]
    },
    {
     "name": "stderr",
     "output_type": "stream",
     "text": [
      " 30%|█████████▉                       | 10780/35731 [7:48:51<4:04:58,  1.70it/s]"
     ]
    },
    {
     "name": "stdout",
     "output_type": "stream",
     "text": [
      "0 HTTPConnectionPool(host='eprints.usm.my', port=80): Max retries exceeded with url: /33952/1/USM_News_Portal_-_MALAYSIAN_AMBASSADOR_TO_INDONESIA_HELPS_PROMOTE_BILATERAL_RELATIONS_THROUGH_EDUCATION.pdf (Caused by NewConnectionError('<urllib3.connection.HTTPConnection object at 0x7f576873f100>: Failed to establish a new connection: [Errno 110] Connection timed out'))\n"
     ]
    },
    {
     "name": "stderr",
     "output_type": "stream",
     "text": [
      " 30%|██████████                       | 10836/35731 [7:51:16<1:38:26,  4.21it/s]"
     ]
    },
    {
     "name": "stdout",
     "output_type": "stream",
     "text": [
      "0 HTTPConnectionPool(host='eprints.usm.my', port=80): Max retries exceeded with url: /34028/1/USM_News_Portal_-_iCMR_%E2%80%93_BUILD_HIGH_IMPACT_RESEARCH_COLLABORATION.pdf (Caused by NewConnectionError('<urllib3.connection.HTTPConnection object at 0x7f57687994f0>: Failed to establish a new connection: [Errno 110] Connection timed out'))\n"
     ]
    },
    {
     "name": "stderr",
     "output_type": "stream",
     "text": [
      " 30%|██████████                       | 10861/35731 [7:53:32<1:28:50,  4.67it/s]"
     ]
    },
    {
     "name": "stdout",
     "output_type": "stream",
     "text": [
      "0 HTTPConnectionPool(host='eprints.usm.my', port=80): Max retries exceeded with url: /34053/1/USM_News_Portal_-_PROVEN_MARKETABILITY_SCHOOL_OF_BIOLOGICAL_SCIENCES_GRADUATES__75%25_GAIN_EMPLOYMENT_AFTER_GRADUATION.pdf (Caused by NewConnectionError('<urllib3.connection.HTTPConnection object at 0x7f57687a8ca0>: Failed to establish a new connection: [Errno 110] Connection timed out'))\n"
     ]
    },
    {
     "name": "stderr",
     "output_type": "stream",
     "text": [
      " 31%|██████████                       | 10917/35731 [7:56:48<3:41:20,  1.87it/s]"
     ]
    },
    {
     "name": "stdout",
     "output_type": "stream",
     "text": [
      "0 HTTPConnectionPool(host='eprints.usm.my', port=80): Max retries exceeded with url: /34118/1/7_USM_Siti_Fatimah_13.pdf (Caused by NewConnectionError('<urllib3.connection.HTTPConnection object at 0x7f5768785130>: Failed to establish a new connection: [Errno 110] Connection timed out'))\n"
     ]
    },
    {
     "name": "stderr",
     "output_type": "stream",
     "text": [
      " 31%|██████████                       | 10959/35731 [7:59:20<1:38:51,  4.18it/s]"
     ]
    },
    {
     "name": "stdout",
     "output_type": "stream",
     "text": [
      "0 HTTPConnectionPool(host='eprints.usm.my', port=80): Max retries exceeded with url: /34161/1/USM_News_Portal_-_USM%2C_NCIA_COLLABORATES_TO_SET_UP_COMMUNITY_INNOVATION_CENTRE.pdf (Caused by NewConnectionError('<urllib3.connection.HTTPConnection object at 0x7f57687a8eb0>: Failed to establish a new connection: [Errno 110] Connection timed out'))\n"
     ]
    },
    {
     "name": "stderr",
     "output_type": "stream",
     "text": [
      " 31%|██████████▎                      | 11165/35731 [8:03:20<1:39:11,  4.13it/s]"
     ]
    },
    {
     "name": "stdout",
     "output_type": "stream",
     "text": [
      "0 HTTPConnectionPool(host='eprints.usm.my', port=80): Max retries exceeded with url: /34358/1/USM_News_Portal_-_PROPER_TRAINING_CAN_PRODUCE_BETTER_PROJECT_MANAGEMENT%2C_SAYS_USM_VC.pdf (Caused by NewConnectionError('<urllib3.connection.HTTPConnection object at 0x7f5768799520>: Failed to establish a new connection: [Errno 110] Connection timed out'))\n"
     ]
    },
    {
     "name": "stderr",
     "output_type": "stream",
     "text": [
      " 31%|██████████                      | 11173/35731 [8:05:36<24:54:49,  3.65s/it]"
     ]
    },
    {
     "name": "stdout",
     "output_type": "stream",
     "text": [
      "0 HTTPConnectionPool(host='eprints.usm.my', port=80): Max retries exceeded with url: /34365/1/BULLETIN_9_PART_4.pdf (Caused by NewConnectionError('<urllib3.connection.HTTPConnection object at 0x7f576873fd60>: Failed to establish a new connection: [Errno 110] Connection timed out'))\n"
     ]
    },
    {
     "name": "stderr",
     "output_type": "stream",
     "text": [
      " 32%|██████████▌                      | 11475/35731 [8:09:31<2:16:31,  2.96it/s]"
     ]
    },
    {
     "name": "stdout",
     "output_type": "stream",
     "text": [
      "0 HTTPConnectionPool(host='eprints.usm.my', port=80): Max retries exceeded with url: /34689/1/W17_Pembantu_Tadbir_%28Kewangan%29_-Kertas_II.pdf (Caused by NewConnectionError('<urllib3.connection.HTTPConnection object at 0x7f5768799310>: Failed to establish a new connection: [Errno 110] Connection timed out'))\n"
     ]
    },
    {
     "name": "stderr",
     "output_type": "stream",
     "text": [
      " 33%|██████████▉                      | 11882/35731 [8:14:09<2:10:50,  3.04it/s]"
     ]
    },
    {
     "name": "stdout",
     "output_type": "stream",
     "text": [
      "0 HTTPConnectionPool(host='eprints.usm.my', port=80): Max retries exceeded with url: /35094/1/USM_News_Portal_-_KERJASAMA_USM_DAN_ITBM_MAJUKAN_INDUSTRI_TERJEMAHAN.pdf (Caused by NewConnectionError('<urllib3.connection.HTTPConnection object at 0x7f57687a86a0>: Failed to establish a new connection: [Errno 110] Connection timed out'))\n"
     ]
    },
    {
     "name": "stderr",
     "output_type": "stream",
     "text": [
      " 33%|███████████                      | 11945/35731 [8:16:36<1:50:52,  3.58it/s]"
     ]
    },
    {
     "name": "stdout",
     "output_type": "stream",
     "text": [
      "0 HTTPConnectionPool(host='eprints.usm.my', port=80): Max retries exceeded with url: /35153/1/USM_News_Portal_-_EX-SIMO_SOKONG_EARTH_HOUR.pdf (Caused by NewConnectionError('<urllib3.connection.HTTPConnection object at 0x7f5768785d30>: Failed to establish a new connection: [Errno 110] Connection timed out'))\n"
     ]
    },
    {
     "name": "stderr",
     "output_type": "stream",
     "text": [
      " 34%|███████████                      | 12024/35731 [8:19:03<1:14:25,  5.31it/s]"
     ]
    },
    {
     "name": "stdout",
     "output_type": "stream",
     "text": [
      "0 HTTPConnectionPool(host='eprints.usm.my', port=80): Max retries exceeded with url: /35236/1/USM_News_Portal_-_DELEGASI_UNIMAS_KUNJUNGI_KAMPUS_KESIHATAN_USM.pdf (Caused by NewConnectionError('<urllib3.connection.HTTPConnection object at 0x7f57687a83a0>: Failed to establish a new connection: [Errno 110] Connection timed out'))\n"
     ]
    },
    {
     "name": "stderr",
     "output_type": "stream",
     "text": [
      " 34%|███████████▏                     | 12051/35731 [8:21:20<1:18:57,  5.00it/s]"
     ]
    },
    {
     "name": "stdout",
     "output_type": "stream",
     "text": [
      "0 HTTPConnectionPool(host='eprints.usm.my', port=80): Max retries exceeded with url: /35264/1/ABD.LATIF_BIN_KASIM_K%28HK%29_%28NN24%29.pdf (Caused by NewConnectionError('<urllib3.connection.HTTPConnection object at 0x7f5768799250>: Failed to establish a new connection: [Errno 110] Connection timed out'))\n"
     ]
    },
    {
     "name": "stderr",
     "output_type": "stream",
     "text": [
      " 34%|███████████▎                     | 12194/35731 [8:24:08<2:39:56,  2.45it/s]"
     ]
    },
    {
     "name": "stdout",
     "output_type": "stream",
     "text": [
      "0 HTTPConnectionPool(host='eprints.usm.my', port=80): Max retries exceeded with url: /35435/1/USM_News_Portal_-_227_ORANG_PELAJAR_BAHARU_SARJANA_PERUBATAN_DAFTAR_DIRI.pdf (Caused by NewConnectionError('<urllib3.connection.HTTPConnection object at 0x7f576873f130>: Failed to establish a new connection: [Errno 110] Connection timed out'))\n"
     ]
    },
    {
     "name": "stderr",
     "output_type": "stream",
     "text": [
      " 34%|███████████▎                     | 12238/35731 [8:26:34<2:47:32,  2.34it/s]"
     ]
    },
    {
     "name": "stdout",
     "output_type": "stream",
     "text": [
      "0 HTTPConnectionPool(host='eprints.usm.my', port=80): Max retries exceeded with url: /35506/1/Penolong_Pegawai_Tadbir_N27KPSL_-Kertas_II_2014.pdf (Caused by NewConnectionError('<urllib3.connection.HTTPConnection object at 0x7f5768799a30>: Failed to establish a new connection: [Errno 110] Connection timed out'))\n"
     ]
    },
    {
     "name": "stderr",
     "output_type": "stream",
     "text": [
      " 35%|███████████▍                     | 12344/35731 [8:29:15<1:56:39,  3.34it/s]"
     ]
    },
    {
     "name": "stdout",
     "output_type": "stream",
     "text": [
      "0 HTTPConnectionPool(host='eprints.usm.my', port=80): Max retries exceeded with url: /35620/1/USM_News_Portal_-_HAYATI_AL-QURAN_SEPANJANG_RAMADHAN.pdf (Caused by NewConnectionError('<urllib3.connection.HTTPConnection object at 0x7f57687a8b80>: Failed to establish a new connection: [Errno 110] Connection timed out'))\n"
     ]
    },
    {
     "name": "stderr",
     "output_type": "stream",
     "text": [
      " 35%|███████████▌                     | 12514/35731 [8:32:20<2:34:46,  2.50it/s]"
     ]
    },
    {
     "name": "stdout",
     "output_type": "stream",
     "text": [
      "0 HTTPConnectionPool(host='eprints.usm.my', port=80): Max retries exceeded with url: /35807/1/USM_News_Portal_-_25_TAHUN_PP_PENGURUSAN__SASAR_SISWAZAH_HOLISTIK_DAN_MEMBANGUN_QALBU.pdf (Caused by NewConnectionError('<urllib3.connection.HTTPConnection object at 0x7f5768785610>: Failed to establish a new connection: [Errno 110] Connection timed out'))\n"
     ]
    },
    {
     "name": "stderr",
     "output_type": "stream",
     "text": [
      " 35%|███████████▌                     | 12525/35731 [8:34:32<8:17:45,  1.29s/it]"
     ]
    },
    {
     "name": "stdout",
     "output_type": "stream",
     "text": [
      "0 HTTPConnectionPool(host='eprints.usm.my', port=80): Max retries exceeded with url: /3582/1/EKC_374_-__ENVIRONMENTAL_ENGINEERING__APRIL_08.pdf (Caused by NewConnectionError('<urllib3.connection.HTTPConnection object at 0x7f57687a8c40>: Failed to establish a new connection: [Errno 110] Connection timed out'))\n"
     ]
    },
    {
     "name": "stderr",
     "output_type": "stream",
     "text": [
      " 35%|███████████▌                     | 12552/35731 [8:36:51<1:26:58,  4.44it/s]"
     ]
    },
    {
     "name": "stdout",
     "output_type": "stream",
     "text": [
      "0 HTTPConnectionPool(host='eprints.usm.my', port=80): Max retries exceeded with url: /35844/1/Tangential_film%29.pdf (Caused by NewConnectionError('<urllib3.connection.HTTPConnection object at 0x7f5768799fd0>: Failed to establish a new connection: [Errno 110] Connection timed out'))\n"
     ]
    },
    {
     "name": "stderr",
     "output_type": "stream",
     "text": [
      " 35%|███████████▌                     | 12574/35731 [8:39:12<5:31:24,  1.16it/s]"
     ]
    },
    {
     "name": "stdout",
     "output_type": "stream",
     "text": [
      "0 HTTPConnectionPool(host='eprints.usm.my', port=80): Max retries exceeded with url: /35867/1/SEARCH_Azimah_2014.pdf (Caused by NewConnectionError('<urllib3.connection.HTTPConnection object at 0x7f576873f940>: Failed to establish a new connection: [Errno 110] Connection timed out'))\n"
     ]
    },
    {
     "name": "stderr",
     "output_type": "stream",
     "text": [
      " 35%|███████████▋                     | 12601/35731 [8:41:32<1:09:10,  5.57it/s]"
     ]
    },
    {
     "name": "stdout",
     "output_type": "stream",
     "text": [
      "0 HTTPConnectionPool(host='eprints.usm.my', port=80): Max retries exceeded with url: /35899/1/USM_News_Portal_-_PALAPES_USM_CORAK_BAKAL_PEMIMPIN_BERWIBAWA_DALAM_TENTERA.pdf (Caused by NewConnectionError('<urllib3.connection.HTTPConnection object at 0x7f5768799e80>: Failed to establish a new connection: [Errno 110] Connection timed out'))\n"
     ]
    },
    {
     "name": "stderr",
     "output_type": "stream",
     "text": [
      " 35%|███████████▋                     | 12616/35731 [8:43:49<3:41:44,  1.74it/s]"
     ]
    },
    {
     "name": "stdout",
     "output_type": "stream",
     "text": [
      "0 HTTPConnectionPool(host='eprints.usm.my', port=80): Max retries exceeded with url: /35916/1/RAHAMAT_BIN_ABU_KASSIM_%28KHK%29_%28NN24%29.pdf (Caused by NewConnectionError('<urllib3.connection.HTTPConnection object at 0x7f57687a87c0>: Failed to establish a new connection: [Errno 110] Connection timed out'))\n"
     ]
    },
    {
     "name": "stderr",
     "output_type": "stream",
     "text": [
      " 35%|███████████▋                     | 12646/35731 [8:46:10<1:06:29,  5.79it/s]"
     ]
    },
    {
     "name": "stdout",
     "output_type": "stream",
     "text": [
      "0 HTTPConnectionPool(host='eprints.usm.my', port=80): Max retries exceeded with url: /3595/1/EMM_212-4_-_DYNAMICS_%26_MECHANISMS_APRIL_08.pdf (Caused by NewConnectionError('<urllib3.connection.HTTPConnection object at 0x7f57687bf340>: Failed to establish a new connection: [Errno 110] Connection timed out'))\n"
     ]
    },
    {
     "name": "stderr",
     "output_type": "stream",
     "text": [
      " 35%|███████████▎                    | 12652/35731 [8:48:23<43:46:56,  6.83s/it]IOPub message rate exceeded.\n",
      "The notebook server will temporarily stop sending output\n",
      "to the client in order to avoid crashing it.\n",
      "To change this limit, set the config variable\n",
      "`--NotebookApp.iopub_msg_rate_limit`.\n",
      "\n",
      "Current values:\n",
      "NotebookApp.iopub_msg_rate_limit=1000.0 (msgs/sec)\n",
      "NotebookApp.rate_limit_window=3.0 (secs)\n",
      "\n"
     ]
    },
    {
     "name": "stdout",
     "output_type": "stream",
     "text": [
      "0 HTTPConnectionPool(host='eprints.usm.my', port=80): Max retries exceeded with url: /43690/1/MOHAMMAD%20ALIFF%20SHAKIR%20MOHAMAD%20JAMIL%20KHIR.pdf (Caused by NewConnectionError('<urllib3.connection.HTTPConnection object at 0x7f576873b880>: Failed to establish a new connection: [Errno 110] Connection timed out'))\n"
     ]
    },
    {
     "name": "stderr",
     "output_type": "stream",
     "text": [
      " 56%|█████████████████▊              | 19892/35731 [14:53:53<1:40:34,  2.62it/s]"
     ]
    },
    {
     "name": "stdout",
     "output_type": "stream",
     "text": [
      "0 HTTPConnectionPool(host='eprints.usm.my', port=80): Max retries exceeded with url: /43717/1/NUR%20DIANA%20MOHAMAD%20YUSOB.pdf (Caused by NewConnectionError('<urllib3.connection.HTTPConnection object at 0x7f57687a88b0>: Failed to establish a new connection: [Errno 110] Connection timed out'))\n"
     ]
    },
    {
     "name": "stderr",
     "output_type": "stream",
     "text": [
      " 56%|█████████████████▊              | 19940/35731 [14:56:23<1:33:48,  2.81it/s]"
     ]
    },
    {
     "name": "stdout",
     "output_type": "stream",
     "text": [
      "0 HTTPConnectionPool(host='eprints.usm.my', port=80): Max retries exceeded with url: /43773/1/Leong%20Chung%20Sum24.pdf (Caused by NewConnectionError('<urllib3.connection.HTTPConnection object at 0x7f5768753af0>: Failed to establish a new connection: [Errno 110] Connection timed out'))\n",
      "1 HTTPConnectionPool(host='eprints.usm.my', port=80): Max retries exceeded with url: /43773/1/Leong%20Chung%20Sum24.pdf (Caused by NewConnectionError('<urllib3.connection.HTTPConnection object at 0x7f5768753df0>: Failed to establish a new connection: [Errno 110] Connection timed out'))\n"
     ]
    },
    {
     "name": "stderr",
     "output_type": "stream",
     "text": [
      " 57%|██████████████████▏             | 20375/35731 [15:06:21<1:25:51,  2.98it/s]"
     ]
    },
    {
     "name": "stdout",
     "output_type": "stream",
     "text": [
      "0 HTTPConnectionPool(host='eprints.usm.my', port=80): Max retries exceeded with url: /44282/1/Synthesis%20And%20Characterization%20Of%20Polyaniline%2C%20Graphene%20And%20Graphene%20Polyaniline%20Nanocomposites.pdf (Caused by NewConnectionError('<urllib3.connection.HTTPConnection object at 0x7f5768799190>: Failed to establish a new connection: [Errno 110] Connection timed out'))\n"
     ]
    },
    {
     "name": "stderr",
     "output_type": "stream",
     "text": [
      " 58%|██████████████████▍             | 20566/35731 [15:09:50<1:14:15,  3.40it/s]"
     ]
    },
    {
     "name": "stdout",
     "output_type": "stream",
     "text": [
      "0 HTTPConnectionPool(host='eprints.usm.my', port=80): Max retries exceeded with url: /4449/1/ESA_362-3_-_KAWALAN_PENERBANGAN_PESAWAT_FEB-MAC_04.pdf (Caused by NewConnectionError('<urllib3.connection.HTTPConnection object at 0x7f5768765b80>: Failed to establish a new connection: [Errno 110] Connection timed out'))\n"
     ]
    },
    {
     "name": "stderr",
     "output_type": "stream",
     "text": [
      " 58%|██████████████████▌             | 20709/35731 [15:12:44<1:01:44,  4.05it/s]"
     ]
    },
    {
     "name": "stdout",
     "output_type": "stream",
     "text": [
      "0 HTTPConnectionPool(host='eprints.usm.my', port=80): Max retries exceeded with url: /44633/1/PTA...Masalah%20Dalam%20Transportasi%20Neonat...2003...-24%20pages.pdf (Caused by NewConnectionError('<urllib3.connection.HTTPConnection object at 0x7f576873bf70>: Failed to establish a new connection: [Errno 110] Connection timed out'))\n"
     ]
    },
    {
     "name": "stderr",
     "output_type": "stream",
     "text": [
      " 58%|█████████████████▉             | 20716/35731 [15:14:59<20:47:08,  4.98s/it]"
     ]
    },
    {
     "name": "stdout",
     "output_type": "stream",
     "text": [
      "0 HTTPConnectionPool(host='eprints.usm.my', port=80): Max retries exceeded with url: /44640/1/MAT181%20-%20Programming%20for%20Scientific%20Applications%20June%202018%20cut.pdf (Caused by NewConnectionError('<urllib3.connection.HTTPConnection object at 0x7f5768741070>: Failed to establish a new connection: [Errno 110] Connection timed out'))\n"
     ]
    },
    {
     "name": "stderr",
     "output_type": "stream",
     "text": [
      " 58%|██████████████████▌             | 20732/35731 [15:17:16<3:01:51,  1.37it/s]"
     ]
    },
    {
     "name": "stdout",
     "output_type": "stream",
     "text": [
      "0 HTTPConnectionPool(host='eprints.usm.my', port=80): Max retries exceeded with url: /44657/1/MAT251%20-%20Introduction%20to%20Operations%20Research%20June%202018.pdf (Caused by NewConnectionError('<urllib3.connection.HTTPConnection object at 0x7f57687656d0>: Failed to establish a new connection: [Errno 110] Connection timed out'))\n"
     ]
    },
    {
     "name": "stderr",
     "output_type": "stream",
     "text": [
      " 58%|██████████████████▌             | 20781/35731 [15:19:42<1:08:36,  3.63it/s]"
     ]
    },
    {
     "name": "stdout",
     "output_type": "stream",
     "text": [
      "0 HTTPConnectionPool(host='eprints.usm.my', port=80): Max retries exceeded with url: /44708/1/MSG485%20-%20Finite%20Element%20Methods%20June%202018.pdf (Caused by NewConnectionError('<urllib3.connection.HTTPConnection object at 0x7f5768765af0>: Failed to establish a new connection: [Errno 110] Connection timed out'))\n"
     ]
    },
    {
     "name": "stderr",
     "output_type": "stream",
     "text": [
      " 58%|██████████████████▋             | 20835/35731 [15:22:14<1:27:43,  2.83it/s]"
     ]
    },
    {
     "name": "stdout",
     "output_type": "stream",
     "text": [
      "0 HTTPConnectionPool(host='eprints.usm.my', port=80): Max retries exceeded with url: /44760/2/EMH%20102%5B3%5D%20-%20Lampiran%20A%20%26%20B.pdf (Caused by NewConnectionError('<urllib3.connection.HTTPConnection object at 0x7f5768799bb0>: Failed to establish a new connection: [Errno 110] Connection timed out'))\n"
     ]
    },
    {
     "name": "stderr",
     "output_type": "stream",
     "text": [
      "\r",
      " 58%|█████████████████▍            | 20836/35731 [15:24:25<163:02:30, 39.41s/it]"
     ]
    },
    {
     "name": "stdout",
     "output_type": "stream",
     "text": [
      "0 HTTPConnectionPool(host='eprints.usm.my', port=80): Max retries exceeded with url: /44761/1/EMH%20222%20-%20FLUID%20DYNAMICS%20SEM%202%201112%5BNMY%5D%20final.pdf (Caused by NewConnectionError('<urllib3.connection.HTTPConnection object at 0x7f576873f580>: Failed to establish a new connection: [Errno 110] Connection timed out'))\n"
     ]
    },
    {
     "name": "stderr",
     "output_type": "stream",
     "text": [
      " 58%|██████████████████▋             | 20876/35731 [15:26:53<1:30:12,  2.74it/s]"
     ]
    },
    {
     "name": "stdout",
     "output_type": "stream",
     "text": [
      "0 HTTPConnectionPool(host='eprints.usm.my', port=80): Max retries exceeded with url: /44798/1/BRIDGET%20LIM%20SUK%20HAN.pdf (Caused by NewConnectionError('<urllib3.connection.HTTPConnection object at 0x7f576873ba30>: Failed to establish a new connection: [Errno 110] Connection timed out'))\n"
     ]
    },
    {
     "name": "stderr",
     "output_type": "stream",
     "text": [
      "\r",
      " 58%|█████████████████▌            | 20877/35731 [15:29:04<162:52:52, 39.48s/it]"
     ]
    },
    {
     "name": "stdout",
     "output_type": "stream",
     "text": [
      "0 HTTPConnectionPool(host='eprints.usm.my', port=80): Max retries exceeded with url: /448/1/RAK_442_-_SEJARAH_DAN_TEORI_SENI_BINA_NOV_05.pdf (Caused by NewConnectionError('<urllib3.connection.HTTPConnection object at 0x7f5768741f70>: Failed to establish a new connection: [Errno 110] Connection timed out'))\n"
     ]
    },
    {
     "name": "stderr",
     "output_type": "stream",
     "text": [
      " 58%|██████████████████▋             | 20899/35731 [15:31:23<1:44:11,  2.37it/s]"
     ]
    },
    {
     "name": "stdout",
     "output_type": "stream",
     "text": [
      "0 HTTPConnectionPool(host='eprints.usm.my', port=80): Max retries exceeded with url: /44823/1/Gender%20Role%20Conflict%20among%20Malay%20Adolescent%20Boys%20%282014%29.pdf (Caused by NewConnectionError('<urllib3.connection.HTTPConnection object at 0x7f5768753580>: Failed to establish a new connection: [Errno 110] Connection timed out'))\n"
     ]
    },
    {
     "name": "stderr",
     "output_type": "stream",
     "text": [
      " 59%|██████████████████▋             | 20920/35731 [15:33:42<1:36:49,  2.55it/s]"
     ]
    },
    {
     "name": "stdout",
     "output_type": "stream",
     "text": [
      "0 HTTPConnectionPool(host='eprints.usm.my', port=80): Max retries exceeded with url: /44843/1/MOHAMMAD%20ZAIP%20AHMAD.pdf (Caused by NewConnectionError('<urllib3.connection.HTTPConnection object at 0x7f5768765670>: Failed to establish a new connection: [Errno 110] Connection timed out'))\n"
     ]
    },
    {
     "name": "stderr",
     "output_type": "stream",
     "text": [
      " 59%|██████████████████▊             | 20962/35731 [15:36:12<1:22:55,  2.97it/s]"
     ]
    },
    {
     "name": "stdout",
     "output_type": "stream",
     "text": [
      "0 HTTPConnectionPool(host='eprints.usm.my', port=80): Max retries exceeded with url: /44882/1/OOI%20WEI%20YANG.pdf (Caused by NewConnectionError('<urllib3.connection.HTTPConnection object at 0x7f5768799610>: Failed to establish a new connection: [Errno 110] Connection timed out'))\n"
     ]
    },
    {
     "name": "stderr",
     "output_type": "stream",
     "text": [
      " 59%|█████████████████▌            | 20964/35731 [15:38:23<114:07:54, 27.82s/it]"
     ]
    },
    {
     "name": "stdout",
     "output_type": "stream",
     "text": [
      "0 HTTPConnectionPool(host='eprints.usm.my', port=80): Max retries exceeded with url: /44884/1/RABYAH%20B.%20ALI%20ANTISHA.pdf (Caused by NewConnectionError('<urllib3.connection.HTTPConnection object at 0x7f57687e9ca0>: Failed to establish a new connection: [Errno 110] Connection timed out'))\n"
     ]
    },
    {
     "name": "stderr",
     "output_type": "stream",
     "text": [
      " 59%|██████████████████▊             | 20985/35731 [15:40:43<1:57:20,  2.09it/s]"
     ]
    },
    {
     "name": "stdout",
     "output_type": "stream",
     "text": [
      "0 HTTPConnectionPool(host='eprints.usm.my', port=80): Max retries exceeded with url: /44902/1/GP...A%20Study%20To%20Develop%20In%20Vivo%20Determination%20Of%20Platelet%20Activation%20Markers%20By%20Flow%20Cytometer...2003...-OCR.pdf (Caused by NewConnectionError('<urllib3.connection.HTTPConnection object at 0x7f576873bc70>: Failed to establish a new connection: [Errno 110] Connection timed out'))\n"
     ]
    },
    {
     "name": "stderr",
     "output_type": "stream",
     "text": [
      " 59%|██████████████████▊             | 21028/35731 [15:44:46<7:08:06,  1.75s/it]"
     ]
    },
    {
     "name": "stdout",
     "output_type": "stream",
     "text": [
      "0 HTTPConnectionPool(host='eprints.usm.my', port=80): Max retries exceeded with url: /44948/1/PTA...Rosemary%20Ping%20Ding...2003...-24%20pages.pdf (Caused by NewConnectionError('<urllib3.connection.HTTPConnection object at 0x7f5768799df0>: Failed to establish a new connection: [Errno 110] Connection timed out'))\n"
     ]
    },
    {
     "name": "stderr",
     "output_type": "stream",
     "text": [
      " 59%|██████████████████▊             | 21049/35731 [15:47:34<7:47:24,  1.91s/it]"
     ]
    },
    {
     "name": "stdout",
     "output_type": "stream",
     "text": [
      "0 HTTPConnectionPool(host='eprints.usm.my', port=80): Max retries exceeded with url: /44967/1/Natural%20Composite%20Adsorbent%20Using%20Alginate%20As%20Binder%20Aid%20For%20Leachate%20Treatment.pdf (Caused by NewConnectionError('<urllib3.connection.HTTPConnection object at 0x7f57687658b0>: Failed to establish a new connection: [Errno 110] Connection timed out'))\n"
     ]
    },
    {
     "name": "stderr",
     "output_type": "stream",
     "text": [
      " 59%|██████████████████▉             | 21113/35731 [15:50:38<2:12:52,  1.83it/s]"
     ]
    },
    {
     "name": "stdout",
     "output_type": "stream",
     "text": [
      "0 HTTPConnectionPool(host='eprints.usm.my', port=80): Max retries exceeded with url: /45036/1/NUR%20SHUHAIDATUL%20SARMIZA%20ABDUL%20HALIM.pdf (Caused by NewConnectionError('<urllib3.connection.HTTPConnection object at 0x7f5768765250>: Failed to establish a new connection: [Errno 110] Connection timed out'))\n"
     ]
    },
    {
     "name": "stderr",
     "output_type": "stream",
     "text": [
      " 59%|██████████████████▉             | 21132/35731 [15:52:57<1:40:05,  2.43it/s]"
     ]
    },
    {
     "name": "stdout",
     "output_type": "stream",
     "text": [
      "0 HTTPConnectionPool(host='eprints.usm.my', port=80): Max retries exceeded with url: /45055/1/Ashuwini%20Sridaran24.pdf (Caused by NewConnectionError('<urllib3.connection.HTTPConnection object at 0x7f5768799af0>: Failed to establish a new connection: [Errno 110] Connection timed out'))\n"
     ]
    },
    {
     "name": "stderr",
     "output_type": "stream",
     "text": [
      " 59%|██████████████████▉             | 21152/35731 [15:55:17<2:23:07,  1.70it/s]"
     ]
    },
    {
     "name": "stdout",
     "output_type": "stream",
     "text": [
      "0 HTTPConnectionPool(host='eprints.usm.my', port=80): Max retries exceeded with url: /45075/1/THIVIYAA%20M.%20OTHAYA%20KUMAR.pdf (Caused by NewConnectionError('<urllib3.connection.HTTPConnection object at 0x7f5768799d60>: Failed to establish a new connection: [Errno 110] Connection timed out'))\n"
     ]
    },
    {
     "name": "stderr",
     "output_type": "stream",
     "text": [
      " 59%|██████████████████▉             | 21181/35731 [15:57:39<1:56:55,  2.07it/s]"
     ]
    },
    {
     "name": "stdout",
     "output_type": "stream",
     "text": [
      "0 HTTPConnectionPool(host='eprints.usm.my', port=80): Max retries exceeded with url: /45108/1/Linda%20Liang%20Peng%20Yaep24.pdf (Caused by NewConnectionError('<urllib3.connection.HTTPConnection object at 0x7f576873bd30>: Failed to establish a new connection: [Errno 110] Connection timed out'))\n"
     ]
    },
    {
     "name": "stderr",
     "output_type": "stream",
     "text": [
      " 59%|██████████████████▍            | 21188/35731 [15:59:54<20:22:13,  5.04s/it]"
     ]
    },
    {
     "name": "stdout",
     "output_type": "stream",
     "text": [
      "0 HTTPConnectionPool(host='eprints.usm.my', port=80): Max retries exceeded with url: /45114/1/EAH417.pdf (Caused by NewConnectionError('<urllib3.connection.HTTPConnection object at 0x7f576873bb50>: Failed to establish a new connection: [Errno 110] Connection timed out'))\n"
     ]
    },
    {
     "name": "stderr",
     "output_type": "stream",
     "text": [
      "\r",
      " 59%|█████████████████▊            | 21189/35731 [16:02:06<174:06:48, 43.10s/it]"
     ]
    },
    {
     "name": "stdout",
     "output_type": "stream",
     "text": [
      "0 HTTPConnectionPool(host='eprints.usm.my', port=80): Max retries exceeded with url: /45116/1/EAL337.pdf (Caused by NewConnectionError('<urllib3.connection.HTTPConnection object at 0x7f5768753a90>: Failed to establish a new connection: [Errno 110] Connection timed out'))\n",
      "1 HTTPConnectionPool(host='eprints.usm.my', port=80): Max retries exceeded with url: /45116/1/EAL337.pdf (Caused by NewConnectionError('<urllib3.connection.HTTPConnection object at 0x7f576875e8e0>: Failed to establish a new connection: [Errno 110] Connection timed out'))\n"
     ]
    },
    {
     "name": "stderr",
     "output_type": "stream",
     "text": [
      " 60%|███████████████████▏            | 21390/35731 [16:07:52<1:48:24,  2.20it/s]"
     ]
    },
    {
     "name": "stdout",
     "output_type": "stream",
     "text": [
      "0 HTTPConnectionPool(host='eprints.usm.my', port=80): Max retries exceeded with url: /45315/1/GP...A%20Pilot%20Study%20Of%20The%20Hosto-morphological%20And%20Loss%20Of%20Crystallites%20Form%20Human%20Mineralised%20Tissues%20Due%20To%20Daily%20Consumotion%20Of%20Everyday%20Local%20Malaysian%20Condiments...-OCR.pdf (Caused by NewConnectionError('<urllib3.connection.HTTPConnection object at 0x7f5768799cd0>: Failed to establish a new connection: [Errno 110] Connection timed out'))\n"
     ]
    },
    {
     "name": "stderr",
     "output_type": "stream",
     "text": [
      " 60%|███████████████████▏            | 21403/35731 [16:10:13<4:52:21,  1.22s/it]"
     ]
    },
    {
     "name": "stdout",
     "output_type": "stream",
     "text": [
      "0 HTTPConnectionPool(host='eprints.usm.my', port=80): Max retries exceeded with url: /45327/1/AHMED%20I.%20N.%20ALSALIBI.pdf (Caused by NewConnectionError('<urllib3.connection.HTTPConnection object at 0x7f57687990a0>: Failed to establish a new connection: [Errno 110] Connection timed out'))\n"
     ]
    },
    {
     "name": "stderr",
     "output_type": "stream",
     "text": [
      " 60%|███████████████████▎            | 21531/35731 [16:13:41<2:14:21,  1.76it/s]"
     ]
    },
    {
     "name": "stdout",
     "output_type": "stream",
     "text": [
      "0 HTTPConnectionPool(host='eprints.usm.my', port=80): Max retries exceeded with url: /45448/1/NOR%20FATIHAH%20ABDULLAH.pdf (Caused by NewConnectionError('<urllib3.connection.HTTPConnection object at 0x7f576875e400>: Failed to establish a new connection: [Errno 110] Connection timed out'))\n"
     ]
    },
    {
     "name": "stderr",
     "output_type": "stream",
     "text": [
      " 60%|███████████████████▎            | 21555/35731 [16:16:05<1:35:13,  2.48it/s]"
     ]
    },
    {
     "name": "stdout",
     "output_type": "stream",
     "text": [
      "0 HTTPConnectionPool(host='eprints.usm.my', port=80): Max retries exceeded with url: /45470/1/NURUL%20AINI%20JAAFAR.pdf (Caused by NewConnectionError('<urllib3.connection.HTTPConnection object at 0x7f576875e700>: Failed to establish a new connection: [Errno 110] Connection timed out'))\n"
     ]
    },
    {
     "name": "stderr",
     "output_type": "stream",
     "text": [
      " 60%|███████████████████▎            | 21597/35731 [16:18:35<1:53:24,  2.08it/s]"
     ]
    },
    {
     "name": "stdout",
     "output_type": "stream",
     "text": [
      "0 HTTPConnectionPool(host='eprints.usm.my', port=80): Max retries exceeded with url: /45552/1/EME452%202019%20RMN_ZMR_NFMY_Tribologi.pdf (Caused by NewConnectionError('<urllib3.connection.HTTPConnection object at 0x7f5768799130>: Failed to establish a new connection: [Errno 110] Connection timed out'))\n"
     ]
    },
    {
     "name": "stderr",
     "output_type": "stream",
     "text": [
      " 61%|███████████████████▍            | 21696/35731 [16:21:22<1:20:29,  2.91it/s]"
     ]
    },
    {
     "name": "stdout",
     "output_type": "stream",
     "text": [
      "0 HTTPConnectionPool(host='eprints.usm.my', port=80): Max retries exceeded with url: /45609/1/GP...Human%20Molar%20Dentinal%20Tubles%20And%20Its%20Odontoblast%20Process...2004...-OCR.pdf (Caused by NewConnectionError('<urllib3.connection.HTTPConnection object at 0x7f5768765610>: Failed to establish a new connection: [Errno 110] Connection timed out'))\n"
     ]
    },
    {
     "name": "stderr",
     "output_type": "stream",
     "text": [
      " 61%|██████████████████▊            | 21705/35731 [16:23:36<10:16:11,  2.64s/it]"
     ]
    },
    {
     "name": "stdout",
     "output_type": "stream",
     "text": [
      "0 HTTPConnectionPool(host='eprints.usm.my', port=80): Max retries exceeded with url: /45617/1/ART10.pdf (Caused by NewConnectionError('<urllib3.connection.HTTPConnection object at 0x7f57687a86d0>: Failed to establish a new connection: [Errno 110] Connection timed out'))\n"
     ]
    },
    {
     "name": "stderr",
     "output_type": "stream",
     "text": [
      " 61%|███████████████████▍            | 21720/35731 [16:25:55<2:50:32,  1.37it/s]"
     ]
    },
    {
     "name": "stdout",
     "output_type": "stream",
     "text": [
      "0 HTTPConnectionPool(host='eprints.usm.my', port=80): Max retries exceeded with url: /45630/1/ART15.pdf (Caused by NewConnectionError('<urllib3.connection.HTTPConnection object at 0x7f576875e100>: Failed to establish a new connection: [Errno 110] Connection timed out'))\n"
     ]
    },
    {
     "name": "stderr",
     "output_type": "stream",
     "text": [
      " 61%|███████████████████▍            | 21741/35731 [16:28:14<2:32:49,  1.53it/s]"
     ]
    },
    {
     "name": "stdout",
     "output_type": "stream",
     "text": [
      "0 HTTPConnectionPool(host='eprints.usm.my', port=80): Max retries exceeded with url: /45655/1/GP...Method%20Optimisation%20And%20Validation%20Study%20On%20Use%20Of%20Laser%20Doppler%20Flowmetry%20To%20Assess%20Microvascular%20Endorhelial%20Function...2004...-24%20pages.pdf (Caused by NewConnectionError('<urllib3.connection.HTTPConnection object at 0x7f5768753640>: Failed to establish a new connection: [Errno 110] Connection timed out'))\n"
     ]
    },
    {
     "name": "stderr",
     "output_type": "stream",
     "text": [
      " 61%|███████████████████▌            | 21843/35731 [16:31:06<1:20:38,  2.87it/s]"
     ]
    },
    {
     "name": "stdout",
     "output_type": "stream",
     "text": [
      "0 HTTPConnectionPool(host='eprints.usm.my', port=80): Max retries exceeded with url: /45756/1/Spatial%20Data%20Mining%20Model%20For%20Landfill%20Sites%20Suitability%20Mapping%20Based%20On%20Neural%20Networks%20And%20Multivariate%20Analysis.pdf (Caused by NewConnectionError('<urllib3.connection.HTTPConnection object at 0x7f57687e9fa0>: Failed to establish a new connection: [Errno 110] Connection timed out'))\n"
     ]
    },
    {
     "name": "stderr",
     "output_type": "stream",
     "text": [
      " 61%|███████████████████▌            | 21880/35731 [16:33:27<1:38:37,  2.34it/s]"
     ]
    },
    {
     "name": "stdout",
     "output_type": "stream",
     "text": [
      "0 HTTPConnectionPool(host='eprints.usm.my', port=80): Max retries exceeded with url: /45793/1/Utilization%20Of%20Electric%20Arc%20Furnace%20Steel%20Slag%20As%20Partial%20Replacement%20Of%20Raw%20Materials%20In%20Ceramic%20Tile.pdf (Caused by NewConnectionError('<urllib3.connection.HTTPConnection object at 0x7f5768765d90>: Failed to establish a new connection: [Errno 110] Connection timed out'))\n"
     ]
    },
    {
     "name": "stderr",
     "output_type": "stream",
     "text": [
      " 61%|███████████████████▋            | 21921/35731 [16:35:57<1:18:43,  2.92it/s]"
     ]
    },
    {
     "name": "stdout",
     "output_type": "stream",
     "text": [
      "0 HTTPConnectionPool(host='eprints.usm.my', port=80): Max retries exceeded with url: /45832/1/Dr.%20Arunah%20Sanggar-24%20pages.pdf (Caused by NewConnectionError('<urllib3.connection.HTTPConnection object at 0x7f576875e100>: Failed to establish a new connection: [Errno 110] Connection timed out'))\n"
     ]
    },
    {
     "name": "stderr",
     "output_type": "stream",
     "text": [
      " 61%|███████████████████▋            | 21943/35731 [16:38:22<2:14:38,  1.71it/s]"
     ]
    },
    {
     "name": "stdout",
     "output_type": "stream",
     "text": [
      "0 HTTPConnectionPool(host='eprints.usm.my', port=80): Max retries exceeded with url: /45856/1/GOVERNANCE%20IN%20INTERNATIONAL%20PADDY%20INDUSTRY%20VALUE%20CHAIN.pdf (Caused by NewConnectionError('<urllib3.connection.HTTPConnection object at 0x7f57687a8b50>: Failed to establish a new connection: [Errno 110] Connection timed out'))\n"
     ]
    },
    {
     "name": "stderr",
     "output_type": "stream",
     "text": [
      " 61%|██████████████████▍           | 21945/35731 [16:40:33<107:23:24, 28.04s/it]"
     ]
    },
    {
     "name": "stdout",
     "output_type": "stream",
     "text": [
      "0 HTTPConnectionPool(host='eprints.usm.my', port=80): Max retries exceeded with url: /45859/1/Dr.%20Chong%20Pei%20Nei-24%20pages.pdf (Caused by NewConnectionError('<urllib3.connection.HTTPConnection object at 0x7f57687996a0>: Failed to establish a new connection: [Errno 110] Connection timed out'))\n"
     ]
    },
    {
     "name": "stderr",
     "output_type": "stream",
     "text": [
      " 62%|████████████████████▉             | 21994/35731 [16:43:07<39:01,  5.87it/s]"
     ]
    },
    {
     "name": "stdout",
     "output_type": "stream",
     "text": [
      "0 HTTPConnectionPool(host='eprints.usm.my', port=80): Max retries exceeded with url: /45914/1/Penentukuran%20Jarak%20Elektronik%20Menggabungkan%20Kaedah%20Pengukuran%20Zig-Zag%20Dengan%20Pelarasan%20Kuasa%20Dua%20Terkecil.pdf (Caused by NewConnectionError('<urllib3.connection.HTTPConnection object at 0x7f5768799eb0>: Failed to establish a new connection: [Errno 110] Connection timed out'))\n",
      "1 HTTPConnectionPool(host='eprints.usm.my', port=80): Max retries exceeded with url: /45914/1/Penentukuran%20Jarak%20Elektronik%20Menggabungkan%20Kaedah%20Pengukuran%20Zig-Zag%20Dengan%20Pelarasan%20Kuasa%20Dua%20Terkecil.pdf (Caused by NewConnectionError('<urllib3.connection.HTTPConnection object at 0x7f5768753e50>: Failed to establish a new connection: [Errno 110] Connection timed out'))\n"
     ]
    },
    {
     "name": "stderr",
     "output_type": "stream",
     "text": [
      " 62%|███████████████████▋            | 22020/35731 [16:47:43<8:56:34,  2.35s/it]"
     ]
    },
    {
     "name": "stdout",
     "output_type": "stream",
     "text": [
      "0 HTTPConnectionPool(host='eprints.usm.my', port=80): Max retries exceeded with url: /45942/1/CPT115cut.pdf (Caused by NewConnectionError('<urllib3.connection.HTTPConnection object at 0x7f5768765100>: Failed to establish a new connection: [Errno 110] Connection timed out'))\n"
     ]
    },
    {
     "name": "stderr",
     "output_type": "stream",
     "text": [
      " 62%|██████████████████▍           | 22022/35731 [16:49:53<108:51:59, 28.59s/it]"
     ]
    },
    {
     "name": "stdout",
     "output_type": "stream",
     "text": [
      "0 HTTPConnectionPool(host='eprints.usm.my', port=80): Max retries exceeded with url: /45944/1/CPT212cut.pdf (Caused by NewConnectionError('<urllib3.connection.HTTPConnection object at 0x7f576875e100>: Failed to establish a new connection: [Errno 110] Connection timed out'))\n"
     ]
    },
    {
     "name": "stderr",
     "output_type": "stream",
     "text": [
      " 62%|███████████████████▋            | 22052/35731 [16:52:19<2:24:30,  1.58it/s]"
     ]
    },
    {
     "name": "stdout",
     "output_type": "stream",
     "text": [
      "0 HTTPConnectionPool(host='eprints.usm.my', port=80): Max retries exceeded with url: /45976/1/GP...The%20Utilization%20Of%20Information%20Technology%20Among%20Doctors%20In%20Kelantan%20A%20Comparative%20Cross-Sectional%20Study%20Between%20Medical%20Officers%20In%20The%20Tertiary%20Centers%20%28HKB%2CHUSM%29...2005...OCR.pdf (Caused by NewConnectionError('<urllib3.connection.HTTPConnection object at 0x7f5768741280>: Failed to establish a new connection: [Errno 110] Connection timed out'))\n"
     ]
    },
    {
     "name": "stderr",
     "output_type": "stream",
     "text": [
      " 62%|███████████████████▊            | 22068/35731 [16:54:34<1:42:06,  2.23it/s]"
     ]
    },
    {
     "name": "stdout",
     "output_type": "stream",
     "text": [
      "0 HTTPConnectionPool(host='eprints.usm.my', port=80): Max retries exceeded with url: /45993/1/CMT422cut.pdf (Caused by NewConnectionError('<urllib3.connection.HTTPConnection object at 0x7f576875ec40>: Failed to establish a new connection: [Errno 110] Connection timed out'))\n"
     ]
    },
    {
     "name": "stderr",
     "output_type": "stream",
     "text": [
      " 62%|███████████████████▊            | 22121/35731 [16:57:02<1:10:55,  3.20it/s]"
     ]
    },
    {
     "name": "stdout",
     "output_type": "stream",
     "text": [
      "0 HTTPConnectionPool(host='eprints.usm.my', port=80): Max retries exceeded with url: /46072/1/Chen%20Jian%20Jie24.pdf (Caused by NewConnectionError('<urllib3.connection.HTTPConnection object at 0x7f5768741760>: Failed to establish a new connection: [Errno 110] Connection timed out'))\n"
     ]
    },
    {
     "name": "stderr",
     "output_type": "stream",
     "text": [
      " 62%|███████████████████▊            | 22161/35731 [17:01:48<5:38:28,  1.50s/it]"
     ]
    },
    {
     "name": "stdout",
     "output_type": "stream",
     "text": [
      "0 HTTPConnectionPool(host='eprints.usm.my', port=80): Max retries exceeded with url: /46082/1/Chong%20Yee%20Joan24.pdf (Caused by NewConnectionError('<urllib3.connection.HTTPConnection object at 0x7f5768741be0>: Failed to establish a new connection: [Errno 110] Connection timed out'))\n"
     ]
    },
    {
     "name": "stderr",
     "output_type": "stream",
     "text": [
      " 62%|███████████████████▉            | 22263/35731 [17:05:10<2:06:29,  1.77it/s]"
     ]
    },
    {
     "name": "stdout",
     "output_type": "stream",
     "text": [
      "0 HTTPConnectionPool(host='eprints.usm.my', port=80): Max retries exceeded with url: /46183/1/Noor%20Adelyna%20Mohammed%20Akib24.pdf (Caused by NewConnectionError('<urllib3.connection.HTTPConnection object at 0x7f57687659a0>: Failed to establish a new connection: [Errno 110] Connection timed out'))\n"
     ]
    },
    {
     "name": "stderr",
     "output_type": "stream",
     "text": [
      " 62%|███████████████████▉            | 22308/35731 [17:07:40<1:34:29,  2.37it/s]"
     ]
    },
    {
     "name": "stdout",
     "output_type": "stream",
     "text": [
      "0 HTTPConnectionPool(host='eprints.usm.my', port=80): Max retries exceeded with url: /46225/1/EEK369.pdf (Caused by NewConnectionError('<urllib3.connection.HTTPConnection object at 0x7f576875e640>: Failed to establish a new connection: [Errno 110] Connection timed out'))\n"
     ]
    },
    {
     "name": "stderr",
     "output_type": "stream",
     "text": [
      " 62%|███████████████████▎           | 22311/35731 [17:09:52<73:22:40, 19.68s/it]"
     ]
    },
    {
     "name": "stdout",
     "output_type": "stream",
     "text": [
      "0 HTTPConnectionPool(host='eprints.usm.my', port=80): Max retries exceeded with url: /46228/1/EEK474.pdf (Caused by NewConnectionError('<urllib3.connection.HTTPConnection object at 0x7f576875efa0>: Failed to establish a new connection: [Errno 110] Connection timed out'))\n"
     ]
    },
    {
     "name": "stderr",
     "output_type": "stream",
     "text": [
      " 63%|████████████████████            | 22410/35731 [17:12:49<3:17:29,  1.12it/s]"
     ]
    },
    {
     "name": "stdout",
     "output_type": "stream",
     "text": [
      "0 HTTPConnectionPool(host='eprints.usm.my', port=80): Max retries exceeded with url: /46324/1/Yam%20Mun%20Fei_HJ.pdf (Caused by NewConnectionError('<urllib3.connection.HTTPConnection object at 0x7f5768753460>: Failed to establish a new connection: [Errno 110] Connection timed out'))\n"
     ]
    },
    {
     "name": "stderr",
     "output_type": "stream",
     "text": [
      " 63%|████████████████████            | 22451/35731 [17:15:24<1:53:51,  1.94it/s]"
     ]
    },
    {
     "name": "stdout",
     "output_type": "stream",
     "text": [
      "0 HTTPConnectionPool(host='eprints.usm.my', port=80): Max retries exceeded with url: /46364/1/GP...In%20Vivo%20Study%20Of%20A%20Locally%20Manufactured%20Hydroxyapayite%20Based%20Material%20As%20Bone%20Replacement%20Material...2005...-OCR.pdf (Caused by NewConnectionError('<urllib3.connection.HTTPConnection object at 0x7f5768741940>: Failed to establish a new connection: [Errno 110] Connection timed out'))\n"
     ]
    },
    {
     "name": "stderr",
     "output_type": "stream",
     "text": [
      " 63%|████████████████████▎           | 22628/35731 [17:18:52<1:32:25,  2.36it/s]"
     ]
    },
    {
     "name": "stdout",
     "output_type": "stream",
     "text": [
      "0 HTTPConnectionPool(host='eprints.usm.my', port=80): Max retries exceeded with url: /46538/1/ART%2022.pdf (Caused by NewConnectionError('<urllib3.connection.HTTPConnection object at 0x7f5768741280>: Failed to establish a new connection: [Errno 110] Connection timed out'))\n"
     ]
    },
    {
     "name": "stderr",
     "output_type": "stream",
     "text": [
      " 64%|████████████████████▍           | 22812/35731 [17:22:44<1:49:22,  1.97it/s]"
     ]
    },
    {
     "name": "stdout",
     "output_type": "stream",
     "text": [
      "0 HTTPConnectionPool(host='eprints.usm.my', port=80): Max retries exceeded with url: /46740/1/Friction%20Stir%20Welding%20Of%20Cryorolled%20Al%205083%20Alloy%20Optimization%20Of%20Process%20Parameters%20Using%20Taguchi%20Technique.pdf (Caused by NewConnectionError('<urllib3.connection.HTTPConnection object at 0x7f5768765c40>: Failed to establish a new connection: [Errno 110] Connection timed out'))\n"
     ]
    },
    {
     "name": "stderr",
     "output_type": "stream",
     "text": [
      " 64%|████████████████████▌           | 22910/35731 [17:25:33<1:08:42,  3.11it/s]"
     ]
    },
    {
     "name": "stdout",
     "output_type": "stream",
     "text": [
      "0 HTTPConnectionPool(host='eprints.usm.my', port=80): Max retries exceeded with url: /46849/1/Catalytic%20Co-Pyrolysis%20Of%20Sugarcane%20Bagasse%20And%20Waste%20Plastics%20Using%20Zeolite%20And%20Hydroxyapatite%20Based%20Catalyst%20For%20High%20Quality%20Pyrolysis%20Oil%20In%20A%20Fixed-Bed%20Reactor.pdf (Caused by NewConnectionError('<urllib3.connection.HTTPConnection object at 0x7f576875e370>: Failed to establish a new connection: [Errno 110] Connection timed out'))\n"
     ]
    },
    {
     "name": "stderr",
     "output_type": "stream",
     "text": [
      " 64%|███████████████████▉           | 22912/35731 [17:27:45<99:05:41, 27.83s/it]"
     ]
    },
    {
     "name": "stdout",
     "output_type": "stream",
     "text": [
      "0 HTTPConnectionPool(host='eprints.usm.my', port=80): Max retries exceeded with url: /46853/1/Autonomi%20guru%20dalam%20PBD.pdf (Caused by NewConnectionError('<urllib3.connection.HTTPConnection object at 0x7f576875e3a0>: Failed to establish a new connection: [Errno 110] Connection timed out'))\n"
     ]
    },
    {
     "name": "stderr",
     "output_type": "stream",
     "text": [
      " 64%|████████████████████▌           | 22978/35731 [17:30:16<1:33:58,  2.26it/s]"
     ]
    },
    {
     "name": "stdout",
     "output_type": "stream",
     "text": [
      "0 HTTPConnectionPool(host='eprints.usm.my', port=80): Max retries exceeded with url: /46933/1/Heat%20Transfer%20And%20Deformation%20Of%20Flexible%20Printed%20Circuit%20Board%20With%20Multi%20Ball%20Grid%20Array%20Packages.pdf (Caused by NewConnectionError('<urllib3.connection.HTTPConnection object at 0x7f576875e790>: Failed to establish a new connection: [Errno 110] Connection timed out'))\n"
     ]
    },
    {
     "name": "stderr",
     "output_type": "stream",
     "text": [
      " 64%|████████████████████▌           | 23019/35731 [17:32:44<1:50:27,  1.92it/s]"
     ]
    },
    {
     "name": "stdout",
     "output_type": "stream",
     "text": [
      "0 HTTPConnectionPool(host='eprints.usm.my', port=80): Max retries exceeded with url: /46971/1/B29%20Artis%20Budaya%20-%20Kertas%20II%20%28Teori%29%20front%20page.pdf (Caused by NewConnectionError('<urllib3.connection.HTTPConnection object at 0x7f5768741f70>: Failed to establish a new connection: [Errno 110] Connection timed out'))\n"
     ]
    },
    {
     "name": "stderr",
     "output_type": "stream",
     "text": [
      " 65%|████████████████████▋           | 23079/35731 [17:35:08<1:01:13,  3.44it/s]"
     ]
    },
    {
     "name": "stdout",
     "output_type": "stream",
     "text": [
      "0 HTTPConnectionPool(host='eprints.usm.my', port=80): Max retries exceeded with url: /47031/1/C29%20Penolong%20Pegawai%20Sains%20-%20Sains%20Fizik%20-%20Kertas%20II.pdf (Caused by NewConnectionError('<urllib3.connection.HTTPConnection object at 0x7f5768741190>: Failed to establish a new connection: [Errno 110] Connection timed out'))\n"
     ]
    },
    {
     "name": "stderr",
     "output_type": "stream",
     "text": [
      " 65%|████████████████████▋           | 23105/35731 [17:37:30<1:09:43,  3.02it/s]"
     ]
    },
    {
     "name": "stdout",
     "output_type": "stream",
     "text": [
      "0 HTTPConnectionPool(host='eprints.usm.my', port=80): Max retries exceeded with url: /47056/1/Gunasama%20Kumpulan%20A%20front%20pages.pdf (Caused by NewConnectionError('<urllib3.connection.HTTPConnection object at 0x7f5768765d30>: Failed to establish a new connection: [Errno 110] Connection timed out'))\n"
     ]
    },
    {
     "name": "stderr",
     "output_type": "stream",
     "text": [
      " 65%|██████████████████████            | 23138/35731 [17:39:47<37:15,  5.63it/s]"
     ]
    },
    {
     "name": "stdout",
     "output_type": "stream",
     "text": [
      "0 HTTPConnectionPool(host='eprints.usm.my', port=80): Max retries exceeded with url: /47087/1/C29%20Penolong%20Pegawai%20Sains%20-%20Sains%20Kimia%20-%20Kertas%20II%20%282%29.pdf (Caused by NewConnectionError('<urllib3.connection.HTTPConnection object at 0x7f576875e5b0>: Failed to establish a new connection: [Errno 110] Connection timed out'))\n"
     ]
    },
    {
     "name": "stderr",
     "output_type": "stream",
     "text": [
      " 65%|████████████████████▊           | 23217/35731 [17:42:17<1:07:06,  3.11it/s]"
     ]
    },
    {
     "name": "stdout",
     "output_type": "stream",
     "text": [
      "0 HTTPConnectionPool(host='eprints.usm.my', port=80): Max retries exceeded with url: /47172/1/ESA344%20Final%20Question%202%2C1819.pdf (Caused by NewConnectionError('<urllib3.connection.HTTPConnection object at 0x7f576875e640>: Failed to establish a new connection: [Errno 110] Connection timed out'))\n"
     ]
    },
    {
     "name": "stderr",
     "output_type": "stream",
     "text": [
      " 65%|██████████████████████            | 23247/35731 [17:44:37<53:46,  3.87it/s]"
     ]
    },
    {
     "name": "stdout",
     "output_type": "stream",
     "text": [
      "0 HTTPConnectionPool(host='eprints.usm.my', port=80): Max retries exceeded with url: /47200/1/PTA...Chot%20San%20Ngan...2005...-24%20pages.pdf (Caused by NewConnectionError('<urllib3.connection.HTTPConnection object at 0x7f5768765d90>: Failed to establish a new connection: [Errno 110] Connection timed out'))\n"
     ]
    },
    {
     "name": "stderr",
     "output_type": "stream",
     "text": [
      " 65%|██████████████████████▏           | 23274/35731 [17:46:52<32:21,  6.42it/s]"
     ]
    },
    {
     "name": "stdout",
     "output_type": "stream",
     "text": [
      "0 HTTPConnectionPool(host='eprints.usm.my', port=80): Max retries exceeded with url: /47228/1/W29%20Penolong%20Akauntan%20-%20Kertas%20II.pdf (Caused by NewConnectionError('<urllib3.connection.HTTPConnection object at 0x7f5768741130>: Failed to establish a new connection: [Errno 110] Connection timed out'))\n"
     ]
    },
    {
     "name": "stderr",
     "output_type": "stream",
     "text": [
      " 65%|██████████████████████▏           | 23304/35731 [17:49:11<31:55,  6.49it/s]"
     ]
    },
    {
     "name": "stdout",
     "output_type": "stream",
     "text": [
      "0 HTTPConnectionPool(host='eprints.usm.my', port=80): Max retries exceeded with url: /47255/1/N19%20Pembantu%20Penyediaan%20Makanan%20-%20Kertas%20II.pdf (Caused by NewConnectionError('<urllib3.connection.HTTPConnection object at 0x7f57687416a0>: Failed to establish a new connection: [Errno 110] Connection timed out'))\n"
     ]
    },
    {
     "name": "stderr",
     "output_type": "stream",
     "text": [
      " 66%|████████████████████▉           | 23406/35731 [17:51:51<1:50:08,  1.87it/s]"
     ]
    },
    {
     "name": "stdout",
     "output_type": "stream",
     "text": [
      "0 HTTPConnectionPool(host='eprints.usm.my', port=80): Max retries exceeded with url: /4735/1/Document-6966_Version-7540_application-pdf_0.pdf (Caused by NewConnectionError('<urllib3.connection.HTTPConnection object at 0x7f5768765a30>: Failed to establish a new connection: [Errno 110] Connection timed out'))\n"
     ]
    },
    {
     "name": "stderr",
     "output_type": "stream",
     "text": [
      " 66%|█████████████████████           | 23489/35731 [17:54:35<1:05:54,  3.10it/s]"
     ]
    },
    {
     "name": "stdout",
     "output_type": "stream",
     "text": [
      "0 HTTPConnectionPool(host='eprints.usm.my', port=80): Max retries exceeded with url: /47434/1/Compatibility%20And%20Degradability%20Of%20Kenaf-Filled%20Linear%20Low%20Density%20Polyethylene%20Polyvinyl%20Alcohol%20Composites.pdf (Caused by NewConnectionError('<urllib3.connection.HTTPConnection object at 0x7f576875e460>: Failed to establish a new connection: [Errno 110] Connection timed out'))\n"
     ]
    },
    {
     "name": "stderr",
     "output_type": "stream",
     "text": [
      " 66%|█████████████████████▏          | 23609/35731 [17:58:43<1:39:05,  2.04it/s]"
     ]
    },
    {
     "name": "stdout",
     "output_type": "stream",
     "text": [
      "0 HTTPConnectionPool(host='eprints.usm.my', port=80): Max retries exceeded with url: /47577/1/DR.%20RAFIDAH%20HOD-24%20pages.pdf (Caused by NewConnectionError('<urllib3.connection.HTTPConnection object at 0x7f57687656d0>: Failed to establish a new connection: [Errno 110] Connection timed out'))\n"
     ]
    },
    {
     "name": "stderr",
     "output_type": "stream",
     "text": [
      " 66%|█████████████████████▏          | 23723/35731 [18:01:55<1:10:01,  2.86it/s]"
     ]
    },
    {
     "name": "stdout",
     "output_type": "stream",
     "text": [
      "0 HTTPConnectionPool(host='eprints.usm.my', port=80): Max retries exceeded with url: /47733/1/EUP501.pdf (Caused by NewConnectionError('<urllib3.connection.HTTPConnection object at 0x7f5768765190>: Failed to establish a new connection: [Errno 110] Connection timed out'))\n"
     ]
    },
    {
     "name": "stderr",
     "output_type": "stream",
     "text": [
      " 66%|█████████████████████▎          | 23737/35731 [18:04:13<3:16:25,  1.02it/s]"
     ]
    },
    {
     "name": "stdout",
     "output_type": "stream",
     "text": [
      "0 HTTPConnectionPool(host='eprints.usm.my', port=80): Max retries exceeded with url: /4775/1/Document-7009_Version-7594_application-pdf_0.pdf (Caused by NewConnectionError('<urllib3.connection.HTTPConnection object at 0x7f5768753a00>: Failed to establish a new connection: [Errno 110] Connection timed out'))\n"
     ]
    },
    {
     "name": "stderr",
     "output_type": "stream",
     "text": [
      " 67%|█████████████████████▎          | 23762/35731 [18:06:41<1:54:31,  1.74it/s]"
     ]
    },
    {
     "name": "stdout",
     "output_type": "stream",
     "text": [
      "0 HTTPConnectionPool(host='eprints.usm.my', port=80): Max retries exceeded with url: /47813/1/Enhancement%20Of%20Landfill%20Daily%20Cover%20Performance%20By%20Using%20Mixture%20Of%20Local%20Soil%2C%20Pressmud%20And%20Empty%20Fruit%20Bunch%20In%20Minimizing%20The%20Migration%20Of%20Heavy%20Metals%20In%20Landfill.pdf (Caused by NewConnectionError('<urllib3.connection.HTTPConnection object at 0x7f5768741f40>: Failed to establish a new connection: [Errno 110] Connection timed out'))\n"
     ]
    },
    {
     "name": "stderr",
     "output_type": "stream",
     "text": [
      " 68%|█████████████████████▌          | 24144/35731 [18:15:07<1:37:16,  1.99it/s]"
     ]
    },
    {
     "name": "stdout",
     "output_type": "stream",
     "text": [
      "0 HTTPConnectionPool(host='eprints.usm.my', port=80): Max retries exceeded with url: /48167/1/MEHRI%20EBRAHIMI%20cut.pdf (Caused by NewConnectionError('<urllib3.connection.HTTPConnection object at 0x7f5768765fa0>: Failed to establish a new connection: [Errno 110] Connection timed out'))\n"
     ]
    },
    {
     "name": "stderr",
     "output_type": "stream",
     "text": [
      " 68%|█████████████████████▋          | 24153/35731 [18:17:22<8:33:07,  2.66s/it]"
     ]
    },
    {
     "name": "stdout",
     "output_type": "stream",
     "text": [
      "0 HTTPConnectionPool(host='eprints.usm.my', port=80): Max retries exceeded with url: /48177/1/ROGINI%20SIVALINGAM_HJ.pdf (Caused by NewConnectionError('<urllib3.connection.HTTPConnection object at 0x7f5768765910>: Failed to establish a new connection: [Errno 110] Connection timed out'))\n"
     ]
    },
    {
     "name": "stderr",
     "output_type": "stream",
     "text": [
      " 68%|█████████████████████▋          | 24167/35731 [18:19:42<3:47:56,  1.18s/it]"
     ]
    },
    {
     "name": "stdout",
     "output_type": "stream",
     "text": [
      "0 HTTPConnectionPool(host='eprints.usm.my', port=80): Max retries exceeded with url: /48192/1/EKARAT%20SITISAN_hj.pdf (Caused by NewConnectionError('<urllib3.connection.HTTPConnection object at 0x7f5768785fd0>: Failed to establish a new connection: [Errno 110] Connection timed out'))\n"
     ]
    },
    {
     "name": "stderr",
     "output_type": "stream",
     "text": [
      " 68%|█████████████████████▋          | 24200/35731 [18:22:08<1:56:30,  1.65it/s]"
     ]
    },
    {
     "name": "stdout",
     "output_type": "stream",
     "text": [
      "0 HTTPConnectionPool(host='eprints.usm.my', port=80): Max retries exceeded with url: /48222/1/Pages%20from%20usmthesis_Ali_19%20%2824%29.pdf (Caused by NewConnectionError('<urllib3.connection.HTTPConnection object at 0x7f5768799a60>: Failed to establish a new connection: [Errno 110] Connection timed out'))\n"
     ]
    },
    {
     "name": "stderr",
     "output_type": "stream",
     "text": [
      " 68%|███████████████████████▏          | 24424/35731 [18:25:54<43:19,  4.35it/s]"
     ]
    },
    {
     "name": "stdout",
     "output_type": "stream",
     "text": [
      "0 HTTPConnectionPool(host='eprints.usm.my', port=80): Max retries exceeded with url: /48469/1/Tool%20Condition%20Monitoring%20Of%20Drill%20Bit%20Wear%20Using%20Camera%20For%20Composite%20Assembly%20In%20Aerospace%20Manufacturing%20System.pdf (Caused by NewConnectionError('<urllib3.connection.HTTPConnection object at 0x7f57687a8e50>: Failed to establish a new connection: [Errno 110] Connection timed out'))\n"
     ]
    },
    {
     "name": "stderr",
     "output_type": "stream",
     "text": [
      " 69%|█████████████████████▉          | 24493/35731 [18:28:40<1:25:31,  2.19it/s]"
     ]
    },
    {
     "name": "stdout",
     "output_type": "stream",
     "text": [
      "0 HTTPConnectionPool(host='eprints.usm.my', port=80): Max retries exceeded with url: /48542/1/full%20thesis%20by%20KHAMINI%20cut.pdf (Caused by NewConnectionError('<urllib3.connection.HTTPConnection object at 0x7f5768741850>: Failed to establish a new connection: [Errno 110] Connection timed out'))\n"
     ]
    },
    {
     "name": "stderr",
     "output_type": "stream",
     "text": [
      " 69%|█████████████████████▎         | 24496/35731 [18:30:52<61:25:57, 19.68s/it]"
     ]
    },
    {
     "name": "stdout",
     "output_type": "stream",
     "text": [
      "0 HTTPConnectionPool(host='eprints.usm.my', port=80): Max retries exceeded with url: /48545/1/Dr.%20Siti%20Salwani%20Idris-24%20pages.pdf (Caused by NewConnectionError('<urllib3.connection.HTTPConnection object at 0x7f57687656d0>: Failed to establish a new connection: [Errno 110] Connection timed out'))\n"
     ]
    },
    {
     "name": "stderr",
     "output_type": "stream",
     "text": [
      " 69%|█████████████████████▉          | 24516/35731 [18:33:11<1:21:35,  2.29it/s]"
     ]
    },
    {
     "name": "stdout",
     "output_type": "stream",
     "text": [
      "0 HTTPConnectionPool(host='eprints.usm.my', port=80): Max retries exceeded with url: /48566/1/Kadi%20Tiong%20-%2024%20pages.pdf (Caused by NewConnectionError('<urllib3.connection.HTTPConnection object at 0x7f57687659d0>: Failed to establish a new connection: [Errno 110] Connection timed out'))\n"
     ]
    },
    {
     "name": "stderr",
     "output_type": "stream",
     "text": [
      " 69%|███████████████████████▍          | 24590/35731 [18:35:53<57:53,  3.21it/s]"
     ]
    },
    {
     "name": "stdout",
     "output_type": "stream",
     "text": [
      "0 HTTPConnectionPool(host='eprints.usm.my', port=80): Max retries exceeded with url: /48641/1/190131_LWY%20edited%20thesis-EOedit%20cut.pdf (Caused by NewConnectionError('<urllib3.connection.HTTPConnection object at 0x7f5768765220>: Failed to establish a new connection: [Errno 110] Connection timed out'))\n"
     ]
    },
    {
     "name": "stderr",
     "output_type": "stream",
     "text": [
      " 69%|███████████████████████▌          | 24759/35731 [18:39:05<33:45,  5.42it/s]"
     ]
    },
    {
     "name": "stdout",
     "output_type": "stream",
     "text": [
      "0 HTTPConnectionPool(host='eprints.usm.my', port=80): Max retries exceeded with url: /48812/1/Pages%20from%2022.N29%20Penolong%20Pegawai%20Tadbir%20-%20Kertas%20I.pdf (Caused by NewConnectionError('<urllib3.connection.HTTPConnection object at 0x7f5768741d00>: Failed to establish a new connection: [Errno 110] Connection timed out'))\n"
     ]
    },
    {
     "name": "stderr",
     "output_type": "stream",
     "text": [
      " 69%|█████████████████████▍         | 24764/35731 [18:41:16<28:59:36,  9.52s/it]"
     ]
    },
    {
     "name": "stdout",
     "output_type": "stream",
     "text": [
      "0 HTTPConnectionPool(host='eprints.usm.my', port=80): Max retries exceeded with url: /48817/1/NZ17_OP01.pdf%20done.pdf (Caused by NewConnectionError('<urllib3.connection.HTTPConnection object at 0x7f57687a8be0>: Failed to establish a new connection: [Errno 110] Connection timed out'))\n"
     ]
    },
    {
     "name": "stderr",
     "output_type": "stream",
     "text": [
      " 69%|█████████████████████▍         | 24769/35731 [18:43:28<34:04:31, 11.19s/it]"
     ]
    },
    {
     "name": "stdout",
     "output_type": "stream",
     "text": [
      "0 HTTPConnectionPool(host='eprints.usm.my', port=80): Max retries exceeded with url: /48823/1/ZH17_OP02_1.pdf%20done.pdf (Caused by NewConnectionError('<urllib3.connection.HTTPConnection object at 0x7f57687410a0>: Failed to establish a new connection: [Errno 110] Connection timed out'))\n"
     ]
    },
    {
     "name": "stderr",
     "output_type": "stream",
     "text": [
      " 69%|███████████████████████▌          | 24797/35731 [18:45:46<41:03,  4.44it/s]"
     ]
    },
    {
     "name": "stdout",
     "output_type": "stream",
     "text": [
      "0 HTTPConnectionPool(host='eprints.usm.my', port=80): Max retries exceeded with url: /48851/1/ICoSeMT%202019%20ABSTRACT%20BOOK%20125.pdf (Caused by NewConnectionError('<urllib3.connection.HTTPConnection object at 0x7f5768765580>: Failed to establish a new connection: [Errno 110] Connection timed out'))\n"
     ]
    },
    {
     "name": "stderr",
     "output_type": "stream",
     "text": [
      " 69%|██████████████████████▏         | 24813/35731 [18:48:07<3:34:20,  1.18s/it]"
     ]
    },
    {
     "name": "stdout",
     "output_type": "stream",
     "text": [
      "0 HTTPConnectionPool(host='eprints.usm.my', port=80): Max retries exceeded with url: /48867/1/ICoSeMT%202019%20ABSTRACT%20BOOK%20143.pdf (Caused by NewConnectionError('<urllib3.connection.HTTPConnection object at 0x7f5768765190>: Failed to establish a new connection: [Errno 110] Connection timed out'))\n"
     ]
    },
    {
     "name": "stderr",
     "output_type": "stream",
     "text": [
      " 70%|██████████████████████▏         | 24839/35731 [18:50:28<1:29:25,  2.03it/s]"
     ]
    },
    {
     "name": "stdout",
     "output_type": "stream",
     "text": [
      "0 HTTPConnectionPool(host='eprints.usm.my', port=80): Max retries exceeded with url: /48897/1/SITI%20FARHANAH%20BINTI%20MD%20SHAKRI-FINAL%20THESIS%20P-SKM001318%28R%29%20PWD_-24%20pages.pdf (Caused by NewConnectionError('<urllib3.connection.HTTPConnection object at 0x7f5768741ee0>: Failed to establish a new connection: [Errno 110] Connection timed out'))\n"
     ]
    },
    {
     "name": "stderr",
     "output_type": "stream",
     "text": [
      " 70%|██████████████████████▎         | 24860/35731 [18:52:48<1:22:59,  2.18it/s]"
     ]
    },
    {
     "name": "stdout",
     "output_type": "stream",
     "text": [
      "0 HTTPConnectionPool(host='eprints.usm.my', port=80): Max retries exceeded with url: /48916/1/CHE%20AZUNIE%20BINTI%20CHE%20ABDULLAH%20-%2024%20pages.pdf (Caused by NewConnectionError('<urllib3.connection.HTTPConnection object at 0x7f57687654f0>: Failed to establish a new connection: [Errno 110] Connection timed out'))\n"
     ]
    },
    {
     "name": "stderr",
     "output_type": "stream",
     "text": [
      " 70%|█████████████████████▌         | 24864/35731 [18:55:00<41:23:32, 13.71s/it]"
     ]
    },
    {
     "name": "stdout",
     "output_type": "stream",
     "text": [
      "0 HTTPConnectionPool(host='eprints.usm.my', port=80): Max retries exceeded with url: /48920/1/SITI%20NOR%20ASSYUHADA%20BINTI%20MAT%20GHANI-FINAL%20THESIS%20P-SKM000518%28R%29%20PWD_-24%20pages.pdf (Caused by NewConnectionError('<urllib3.connection.HTTPConnection object at 0x7f57687990a0>: Failed to establish a new connection: [Errno 110] Connection timed out'))\n"
     ]
    },
    {
     "name": "stderr",
     "output_type": "stream",
     "text": [
      " 70%|██████████████████████▎         | 24880/35731 [18:57:15<1:33:24,  1.94it/s]"
     ]
    },
    {
     "name": "stdout",
     "output_type": "stream",
     "text": [
      "0 HTTPConnectionPool(host='eprints.usm.my', port=80): Max retries exceeded with url: /48937/1/Journal%201.pdf (Caused by NewConnectionError('<urllib3.connection.HTTPConnection object at 0x7f5768741d60>: Failed to establish a new connection: [Errno 110] Connection timed out'))\n"
     ]
    },
    {
     "name": "stderr",
     "output_type": "stream",
     "text": [
      " 70%|███████████████████████▋          | 24930/35731 [18:59:41<41:37,  4.32it/s]"
     ]
    },
    {
     "name": "stdout",
     "output_type": "stream",
     "text": [
      "0 HTTPConnectionPool(host='eprints.usm.my', port=80): Max retries exceeded with url: /48992/1/TESIS-MALARVILI%20A_P%20MURUGASON%20%28P-SKM0049_19%29-24%20pages.pdf (Caused by NewConnectionError('<urllib3.connection.HTTPConnection object at 0x7f5768765190>: Failed to establish a new connection: [Errno 110] Connection timed out'))\n"
     ]
    },
    {
     "name": "stderr",
     "output_type": "stream",
     "text": [
      " 70%|██████████████████████▌         | 25140/35731 [19:03:02<2:03:27,  1.43it/s]"
     ]
    },
    {
     "name": "stdout",
     "output_type": "stream",
     "text": [
      "0 HTTPConnectionPool(host='eprints.usm.my', port=80): Max retries exceeded with url: /49224/1/ZCE%202754%20-%20Introduction%20to%20Astronomy%20april%202007.pdf (Caused by NewConnectionError('<urllib3.connection.HTTPConnection object at 0x7f5768741190>: Failed to establish a new connection: [Errno 110] Connection timed out'))\n"
     ]
    },
    {
     "name": "stderr",
     "output_type": "stream",
     "text": [
      " 70%|███████████████████████▉          | 25169/35731 [19:05:24<52:20,  3.36it/s]"
     ]
    },
    {
     "name": "stdout",
     "output_type": "stream",
     "text": [
      "0 HTTPConnectionPool(host='eprints.usm.my', port=80): Max retries exceeded with url: /49255/1/Pages%20from%2067.KP19%20Pembantu%20Keselamatan%20-%20Kertas%20II%20%28Teori%29.pdf (Caused by NewConnectionError('<urllib3.connection.HTTPConnection object at 0x7f5768765ee0>: Failed to establish a new connection: [Errno 110] Connection timed out'))\n"
     ]
    },
    {
     "name": "stderr",
     "output_type": "stream",
     "text": [
      " 71%|████████████████████████          | 25233/35731 [19:07:59<53:07,  3.29it/s]"
     ]
    },
    {
     "name": "stdout",
     "output_type": "stream",
     "text": [
      "0 HTTPConnectionPool(host='eprints.usm.my', port=80): Max retries exceeded with url: /49321/1/Norain%20Mohd%20Azhar.pdf (Caused by NewConnectionError('<urllib3.connection.HTTPConnection object at 0x7f5768799940>: Failed to establish a new connection: [Errno 110] Connection timed out'))\n"
     ]
    },
    {
     "name": "stderr",
     "output_type": "stream",
     "text": [
      " 71%|██████████████████████▌         | 25250/35731 [19:10:15<1:17:35,  2.25it/s]"
     ]
    },
    {
     "name": "stdout",
     "output_type": "stream",
     "text": [
      "0 HTTPConnectionPool(host='eprints.usm.my', port=80): Max retries exceeded with url: /49341/1/Pages%20from%2091.B29%20Pegawai%20Kebudayaan%20-%20Kertas%20II%20%28Teori%29.pdf (Caused by NewConnectionError('<urllib3.connection.HTTPConnection object at 0x7f5768753400>: Failed to establish a new connection: [Errno 110] Connection timed out'))\n"
     ]
    },
    {
     "name": "stderr",
     "output_type": "stream",
     "text": [
      " 71%|████████████████████████          | 25329/35731 [19:12:50<38:05,  4.55it/s]"
     ]
    },
    {
     "name": "stdout",
     "output_type": "stream",
     "text": [
      "0 HTTPConnectionPool(host='eprints.usm.my', port=80): Max retries exceeded with url: /4942/1/ACW_472_-_MANAGEMENT_ACCOUNTING_AND_CONTROL_APRIL_08.pdf (Caused by NewConnectionError('<urllib3.connection.HTTPConnection object at 0x7f5768741790>: Failed to establish a new connection: [Errno 110] Connection timed out'))\n",
      "1 HTTPConnectionPool(host='eprints.usm.my', port=80): Max retries exceeded with url: /4942/1/ACW_472_-_MANAGEMENT_ACCOUNTING_AND_CONTROL_APRIL_08.pdf (Caused by NewConnectionError('<urllib3.connection.HTTPConnection object at 0x7f57687b2fa0>: Failed to establish a new connection: [Errno 110] Connection timed out'))\n"
     ]
    },
    {
     "name": "stderr",
     "output_type": "stream",
     "text": [
      " 71%|█████████████████████▎        | 25331/35731 [19:17:13<159:45:34, 55.30s/it]"
     ]
    },
    {
     "name": "stdout",
     "output_type": "stream",
     "text": [
      "0 HTTPConnectionPool(host='eprints.usm.my', port=80): Max retries exceeded with url: /49421/1/Pages%20from%20123.CDS505.pdf (Caused by NewConnectionError('<urllib3.connection.HTTPConnection object at 0x7f57687a8c40>: Failed to establish a new connection: [Errno 110] Connection timed out'))\n"
     ]
    },
    {
     "name": "stderr",
     "output_type": "stream",
     "text": [
      " 71%|██████████████████████▋         | 25382/35731 [19:19:38<1:00:27,  2.85it/s]"
     ]
    },
    {
     "name": "stdout",
     "output_type": "stream",
     "text": [
      "0 HTTPConnectionPool(host='eprints.usm.my', port=80): Max retries exceeded with url: /49470/1/Pages%20from%20136.CPM252.pdf (Caused by NewConnectionError('<urllib3.connection.HTTPConnection object at 0x7f5768765e20>: Failed to establish a new connection: [Errno 110] Connection timed out'))\n"
     ]
    },
    {
     "name": "stderr",
     "output_type": "stream",
     "text": [
      " 71%|████████████████████████▎         | 25491/35731 [19:22:20<49:36,  3.44it/s]"
     ]
    },
    {
     "name": "stdout",
     "output_type": "stream",
     "text": [
      "0 HTTPConnectionPool(host='eprints.usm.my', port=80): Max retries exceeded with url: /49572/1/173.JTP%20401.pdf (Caused by NewConnectionError('<urllib3.connection.HTTPConnection object at 0x7f5768799850>: Failed to establish a new connection: [Errno 110] Connection timed out'))\n"
     ]
    },
    {
     "name": "stderr",
     "output_type": "stream",
     "text": [
      " 71%|████████████████████████▎         | 25511/35731 [19:24:36<53:41,  3.17it/s]"
     ]
    },
    {
     "name": "stdout",
     "output_type": "stream",
     "text": [
      "0 HTTPConnectionPool(host='eprints.usm.my', port=80): Max retries exceeded with url: /49599/1/Ahmad%20Badruridzwanullah-24%20pages.pdf (Caused by NewConnectionError('<urllib3.connection.HTTPConnection object at 0x7f576875e6a0>: Failed to establish a new connection: [Errno 110] Connection timed out'))\n"
     ]
    },
    {
     "name": "stderr",
     "output_type": "stream",
     "text": [
      " 72%|████████████████████████▌         | 25764/35731 [19:28:09<47:32,  3.49it/s]"
     ]
    },
    {
     "name": "stdout",
     "output_type": "stream",
     "text": [
      "0 HTTPConnectionPool(host='eprints.usm.my', port=80): Max retries exceeded with url: /49892/1/SUSHMA%20RAJBANSHI-FINAL%20THESIS%20P-UD000119%28R%29_-24%20pages.pdf (Caused by NewConnectionError('<urllib3.connection.HTTPConnection object at 0x7f576875e130>: Failed to establish a new connection: [Errno 110] Connection timed out'))\n"
     ]
    },
    {
     "name": "stderr",
     "output_type": "stream",
     "text": [
      " 72%|████████████████████████▌         | 25847/35731 [19:30:47<49:31,  3.33it/s]"
     ]
    },
    {
     "name": "stdout",
     "output_type": "stream",
     "text": [
      "0 HTTPConnectionPool(host='eprints.usm.my', port=80): Max retries exceeded with url: /50021/1/385.JRP%20447E.pdf (Caused by NewConnectionError('<urllib3.connection.HTTPConnection object at 0x7f57687539d0>: Failed to establish a new connection: [Errno 110] Connection timed out'))\n"
     ]
    },
    {
     "name": "stderr",
     "output_type": "stream",
     "text": [
      " 72%|███████████████████████▏        | 25900/35731 [19:33:16<1:23:35,  1.96it/s]"
     ]
    },
    {
     "name": "stdout",
     "output_type": "stream",
     "text": [
      "0 HTTPConnectionPool(host='eprints.usm.my', port=80): Max retries exceeded with url: /5008/1/Sifat-sifat_asas_dan_kualiti_kayu_sentang_%28Azadirachta_excelsa%29_pada_umur_yang_berbeza-Mohd._Tamizi_bin_Mustafa-PPKMekanik.pdf (Caused by NewConnectionError('<urllib3.connection.HTTPConnection object at 0x7f5768741520>: Failed to establish a new connection: [Errno 110] Connection timed out'))\n"
     ]
    },
    {
     "name": "stderr",
     "output_type": "stream",
     "text": [
      " 73%|████████████████████████▋         | 25949/35731 [19:35:47<58:21,  2.79it/s]"
     ]
    },
    {
     "name": "stdout",
     "output_type": "stream",
     "text": [
      "0 HTTPConnectionPool(host='eprints.usm.my', port=80): Max retries exceeded with url: /50140/1/ELENSER%20ANAK%20UNING%20-%2024%20pages.pdf (Caused by NewConnectionError('<urllib3.connection.HTTPConnection object at 0x7f576875e640>: Failed to establish a new connection: [Errno 110] Connection timed out'))\n"
     ]
    },
    {
     "name": "stderr",
     "output_type": "stream",
     "text": [
      " 73%|██████████████████████▌        | 25956/35731 [19:38:00<13:41:08,  5.04s/it]"
     ]
    },
    {
     "name": "stdout",
     "output_type": "stream",
     "text": [
      "0 HTTPConnectionPool(host='eprints.usm.my', port=80): Max retries exceeded with url: /50148/1/410.JIB%20115.pdf (Caused by NewConnectionError('<urllib3.connection.HTTPConnection object at 0x7f57687654c0>: Failed to establish a new connection: [Errno 110] Connection timed out'))\n"
     ]
    },
    {
     "name": "stderr",
     "output_type": "stream",
     "text": [
      " 73%|████████████████████████▋         | 25994/35731 [19:40:22<32:43,  4.96it/s]"
     ]
    },
    {
     "name": "stdout",
     "output_type": "stream",
     "text": [
      "0 HTTPConnectionPool(host='eprints.usm.my', port=80): Max retries exceeded with url: /5019/1/AMP_345E_-_INTERNATIONAL_MARKETING_APRIL_08.pdf (Caused by NewConnectionError('<urllib3.connection.HTTPConnection object at 0x7f57687536d0>: Failed to establish a new connection: [Errno 110] Connection timed out'))\n"
     ]
    },
    {
     "name": "stderr",
     "output_type": "stream",
     "text": [
      " 73%|████████████████████████▊         | 26041/35731 [19:42:57<31:56,  5.06it/s]"
     ]
    },
    {
     "name": "stdout",
     "output_type": "stream",
     "text": [
      "0 HTTPConnectionPool(host='eprints.usm.my', port=80): Max retries exceeded with url: /5025/1/ATW_103_-_UNDANG-UNDANG_PERNIAGAAN_JUN_08.pdf (Caused by NewConnectionError('<urllib3.connection.HTTPConnection object at 0x7f5768765cd0>: Failed to establish a new connection: [Errno 110] Connection timed out'))\n"
     ]
    },
    {
     "name": "stderr",
     "output_type": "stream",
     "text": [
      " 73%|███████████████████████▎        | 26060/35731 [19:45:13<1:10:04,  2.30it/s]"
     ]
    },
    {
     "name": "stdout",
     "output_type": "stream",
     "text": [
      "0 HTTPConnectionPool(host='eprints.usm.my', port=80): Max retries exceeded with url: /50272/1/JIB%20102%20-%20Kepelbagaian%20Haiwan.pdf (Caused by NewConnectionError('<urllib3.connection.HTTPConnection object at 0x7f5768765520>: Failed to establish a new connection: [Errno 110] Connection timed out'))\n"
     ]
    },
    {
     "name": "stderr",
     "output_type": "stream",
     "text": [
      " 73%|███████████████████████▎        | 26070/35731 [19:47:28<4:59:57,  1.86s/it]"
     ]
    },
    {
     "name": "stdout",
     "output_type": "stream",
     "text": [
      "0 HTTPConnectionPool(host='eprints.usm.my', port=80): Max retries exceeded with url: /50284/1/436.JIK%20223.pdf (Caused by NewConnectionError('<urllib3.connection.HTTPConnection object at 0x7f576873fe20>: Failed to establish a new connection: [Errno 110] Connection timed out'))\n"
     ]
    },
    {
     "name": "stderr",
     "output_type": "stream",
     "text": [
      " 73%|███████████████████████▎        | 26084/35731 [19:49:43<1:55:55,  1.39it/s]"
     ]
    },
    {
     "name": "stdout",
     "output_type": "stream",
     "text": [
      "0 HTTPConnectionPool(host='eprints.usm.my', port=80): Max retries exceeded with url: /50302/1/DR.%20ADIBAH%20HANIM%20BT.%20ISMAIL%40%20DAUD%20-%2024%20pages.pdf (Caused by NewConnectionError('<urllib3.connection.HTTPConnection object at 0x7f576875efa0>: Failed to establish a new connection: [Errno 110] Connection timed out'))\n"
     ]
    },
    {
     "name": "stderr",
     "output_type": "stream",
     "text": [
      " 73%|████████████████████████▉         | 26179/35731 [19:52:30<48:32,  3.28it/s]"
     ]
    },
    {
     "name": "stdout",
     "output_type": "stream",
     "text": [
      "0 HTTPConnectionPool(host='eprints.usm.my', port=80): Max retries exceeded with url: /50410/1/463.JIM%20417.pdf (Caused by NewConnectionError('<urllib3.connection.HTTPConnection object at 0x7f5768765fa0>: Failed to establish a new connection: [Errno 110] Connection timed out'))\n"
     ]
    },
    {
     "name": "stderr",
     "output_type": "stream",
     "text": [
      " 73%|██████████████████████▋        | 26186/35731 [19:54:45<13:12:56,  4.98s/it]"
     ]
    },
    {
     "name": "stdout",
     "output_type": "stream",
     "text": [
      "0 HTTPConnectionPool(host='eprints.usm.my', port=80): Max retries exceeded with url: /50421/1/MAI%20ABDEL%20HALEEM%20A.%20ABUSALAH-FINAL%20THESIS%20P-UD001017%28R%29%20-24%20PAGES.pdf (Caused by NewConnectionError('<urllib3.connection.HTTPConnection object at 0x7f5768753dc0>: Failed to establish a new connection: [Errno 110] Connection timed out'))\n"
     ]
    },
    {
     "name": "stderr",
     "output_type": "stream",
     "text": [
      " 73%|██████████████████████▋        | 26192/35731 [19:56:57<19:35:11,  7.39s/it]"
     ]
    },
    {
     "name": "stdout",
     "output_type": "stream",
     "text": [
      "0 HTTPConnectionPool(host='eprints.usm.my', port=80): Max retries exceeded with url: /50427/1/472.JIB%20224.pdf (Caused by NewConnectionError('<urllib3.connection.HTTPConnection object at 0x7f5768753b50>: Failed to establish a new connection: [Errno 110] Connection timed out'))\n"
     ]
    },
    {
     "name": "stderr",
     "output_type": "stream",
     "text": [
      " 73%|████████████████████████▉         | 26212/35731 [19:59:13<34:05,  4.65it/s]"
     ]
    },
    {
     "name": "stdout",
     "output_type": "stream",
     "text": [
      "0 HTTPConnectionPool(host='eprints.usm.my', port=80): Max retries exceeded with url: /50445/1/JKP%20214%20%26%20318.pdf (Caused by NewConnectionError('<urllib3.connection.HTTPConnection object at 0x7f5768765f70>: Failed to establish a new connection: [Errno 110] Connection timed out'))\n"
     ]
    },
    {
     "name": "stderr",
     "output_type": "stream",
     "text": [
      " 74%|█████████████████████████▏        | 26415/35731 [20:02:25<59:00,  2.63it/s]"
     ]
    },
    {
     "name": "stdout",
     "output_type": "stream",
     "text": [
      "0 HTTPConnectionPool(host='eprints.usm.my', port=80): Max retries exceeded with url: /50710/1/JMG%20317E%20%26%20JMG%20413E.pdf (Caused by NewConnectionError('<urllib3.connection.HTTPConnection object at 0x7f576875eac0>: Failed to establish a new connection: [Errno 110] Connection timed out'))\n"
     ]
    },
    {
     "name": "stderr",
     "output_type": "stream",
     "text": [
      " 74%|███████████████████████▋        | 26432/35731 [20:04:42<1:12:33,  2.14it/s]"
     ]
    },
    {
     "name": "stdout",
     "output_type": "stream",
     "text": [
      "0 HTTPConnectionPool(host='eprints.usm.my', port=80): Max retries exceeded with url: /50740/1/JMG%20214.pdf (Caused by NewConnectionError('<urllib3.connection.HTTPConnection object at 0x7f576875e7f0>: Failed to establish a new connection: [Errno 110] Connection timed out'))\n"
     ]
    },
    {
     "name": "stderr",
     "output_type": "stream",
     "text": [
      " 74%|███████████████████████▋        | 26496/35731 [20:07:13<1:11:18,  2.16it/s]"
     ]
    },
    {
     "name": "stdout",
     "output_type": "stream",
     "text": [
      "0 HTTPConnectionPool(host='eprints.usm.my', port=80): Max retries exceeded with url: /50805/1/JIF%20319-%20Fizik%20Pengkomputeran.pdf (Caused by NewConnectionError('<urllib3.connection.HTTPConnection object at 0x7f57687652b0>: Failed to establish a new connection: [Errno 110] Connection timed out'))\n"
     ]
    },
    {
     "name": "stderr",
     "output_type": "stream",
     "text": [
      " 74%|█████████████████████████▎        | 26571/35731 [20:09:50<45:10,  3.38it/s]"
     ]
    },
    {
     "name": "stdout",
     "output_type": "stream",
     "text": [
      "0 HTTPConnectionPool(host='eprints.usm.my', port=80): Max retries exceeded with url: /50887/1/586.JIK%20326.pdf (Caused by NewConnectionError('<urllib3.connection.HTTPConnection object at 0x7f57687a8370>: Failed to establish a new connection: [Errno 110] Connection timed out'))\n"
     ]
    },
    {
     "name": "stderr",
     "output_type": "stream",
     "text": [
      " 75%|█████████████████████████▎        | 26637/35731 [20:12:21<39:36,  3.83it/s]"
     ]
    },
    {
     "name": "stdout",
     "output_type": "stream",
     "text": [
      "0 HTTPConnectionPool(host='eprints.usm.my', port=80): Max retries exceeded with url: /50964/1/JMK%20315.pdf (Caused by NewConnectionError('<urllib3.connection.HTTPConnection object at 0x7f5768753580>: Failed to establish a new connection: [Errno 110] Connection timed out'))\n"
     ]
    },
    {
     "name": "stderr",
     "output_type": "stream",
     "text": [
      " 75%|███████████████████████▉        | 26773/35731 [20:16:38<1:11:59,  2.07it/s]"
     ]
    },
    {
     "name": "stdout",
     "output_type": "stream",
     "text": [
      "0 HTTPConnectionPool(host='eprints.usm.my', port=80): Max retries exceeded with url: /51129/1/KHAIRUNNISA%20BINTI%20ABAS%20-%2024%20pages.pdf (Caused by NewConnectionError('<urllib3.connection.HTTPConnection object at 0x7f5768765df0>: Failed to establish a new connection: [Errno 110] Connection timed out'))\n"
     ]
    },
    {
     "name": "stderr",
     "output_type": "stream",
     "text": [
      " 75%|████████████████████████        | 26896/35731 [20:19:59<1:48:46,  1.35it/s]"
     ]
    },
    {
     "name": "stdout",
     "output_type": "stream",
     "text": [
      "0 HTTPConnectionPool(host='eprints.usm.my', port=80): Max retries exceeded with url: /51362/1/SITI%20NURHUSNA%20%E2%80%98AQILAH%20BT%20HAZMAN-24%20pages.pdf (Caused by NewConnectionError('<urllib3.connection.HTTPConnection object at 0x7f576875e460>: Failed to establish a new connection: [Errno 110] Connection timed out'))\n"
     ]
    },
    {
     "name": "stderr",
     "output_type": "stream",
     "text": [
      " 76%|█████████████████████████▉        | 27203/35731 [20:24:53<54:33,  2.61it/s]"
     ]
    },
    {
     "name": "stdout",
     "output_type": "stream",
     "text": [
      "0 HTTPConnectionPool(host='eprints.usm.my', port=80): Max retries exceeded with url: /51721/1/IPK%20102-%20STRUKTUR%20POLIMER.pdf (Caused by NewConnectionError('<urllib3.connection.HTTPConnection object at 0x7f576875e460>: Failed to establish a new connection: [Errno 110] Connection timed out'))\n"
     ]
    },
    {
     "name": "stderr",
     "output_type": "stream",
     "text": [
      " 76%|███████████████████████▌       | 27207/35731 [20:27:06<33:05:56, 13.98s/it]"
     ]
    },
    {
     "name": "stdout",
     "output_type": "stream",
     "text": [
      "0 HTTPConnectionPool(host='eprints.usm.my', port=80): Max retries exceeded with url: /51725/1/IPK306-%20TEKNOLOGI%20GETAH%20II.pdf (Caused by NewConnectionError('<urllib3.connection.HTTPConnection object at 0x7f5768765370>: Failed to establish a new connection: [Errno 110] Connection timed out'))\n"
     ]
    },
    {
     "name": "stderr",
     "output_type": "stream",
     "text": [
      " 76%|█████████████████████████▉        | 27228/35731 [20:29:25<43:29,  3.26it/s]"
     ]
    },
    {
     "name": "stdout",
     "output_type": "stream",
     "text": [
      "0 HTTPConnectionPool(host='eprints.usm.my', port=80): Max retries exceeded with url: /51745/1/HPW%20102%20-%20PEMIKIRAN%20KRITIS.pdf (Caused by NewConnectionError('<urllib3.connection.HTTPConnection object at 0x7f5768765b20>: Failed to establish a new connection: [Errno 110] Connection timed out'))\n"
     ]
    },
    {
     "name": "stderr",
     "output_type": "stream",
     "text": [
      " 76%|█████████████████████████▉        | 27321/35731 [20:32:24<47:09,  2.97it/s]"
     ]
    },
    {
     "name": "stdout",
     "output_type": "stream",
     "text": [
      "0 HTTPConnectionPool(host='eprints.usm.my', port=80): Max retries exceeded with url: /51838/1/CHEW%20HONG%20LIM.pdf (Caused by NewConnectionError('<urllib3.connection.HTTPConnection object at 0x7f5768799fa0>: Failed to establish a new connection: [Errno 110] Connection timed out'))\n"
     ]
    },
    {
     "name": "stderr",
     "output_type": "stream",
     "text": [
      " 77%|██████████████████████████        | 27352/35731 [20:34:45<42:00,  3.32it/s]"
     ]
    },
    {
     "name": "stdout",
     "output_type": "stream",
     "text": [
      "0 HTTPConnectionPool(host='eprints.usm.my', port=80): Max retries exceeded with url: /51884/1/HIS%20213%20-%20SUMBER%20DAN%20PRINSIP%20PERUNDANGAN%20ISLAM.pdf (Caused by NewConnectionError('<urllib3.connection.HTTPConnection object at 0x7f5768765fa0>: Failed to establish a new connection: [Errno 110] Connection timed out'))\n"
     ]
    },
    {
     "name": "stderr",
     "output_type": "stream",
     "text": [
      " 77%|██████████████████████████        | 27379/35731 [20:37:04<42:14,  3.30it/s]"
     ]
    },
    {
     "name": "stdout",
     "output_type": "stream",
     "text": [
      "0 HTTPConnectionPool(host='eprints.usm.my', port=80): Max retries exceeded with url: /51910/1/EYU%20CHAN%20HONG.pdf (Caused by NewConnectionError('<urllib3.connection.HTTPConnection object at 0x7f576875ebe0>: Failed to establish a new connection: [Errno 110] Connection timed out'))\n"
     ]
    },
    {
     "name": "stderr",
     "output_type": "stream",
     "text": [
      " 77%|████████████████████████▌       | 27390/35731 [20:39:20<3:21:44,  1.45s/it]"
     ]
    },
    {
     "name": "stdout",
     "output_type": "stream",
     "text": [
      "0 HTTPConnectionPool(host='eprints.usm.my', port=80): Max retries exceeded with url: /51921/1/IBRAHIM%20AHMED%20-%20TESIS.pdf (Caused by NewConnectionError('<urllib3.connection.HTTPConnection object at 0x7f576875e730>: Failed to establish a new connection: [Errno 110] Connection timed out'))\n"
     ]
    },
    {
     "name": "stderr",
     "output_type": "stream",
     "text": [
      " 77%|████████████████████████▌       | 27400/35731 [20:41:34<4:30:02,  1.94s/it]"
     ]
    },
    {
     "name": "stdout",
     "output_type": "stream",
     "text": [
      "0 HTTPConnectionPool(host='eprints.usm.my', port=80): Max retries exceeded with url: /51939/1/ISMAIL%20ALHASSAN%20AUWAL%20-%20TESIS.pdf (Caused by NewConnectionError('<urllib3.connection.HTTPConnection object at 0x7f57687656d0>: Failed to establish a new connection: [Errno 110] Connection timed out'))\n"
     ]
    },
    {
     "name": "stderr",
     "output_type": "stream",
     "text": [
      " 77%|██████████████████████████        | 27433/35731 [20:43:55<33:49,  4.09it/s]"
     ]
    },
    {
     "name": "stdout",
     "output_type": "stream",
     "text": [
      "0 HTTPConnectionPool(host='eprints.usm.my', port=80): Max retries exceeded with url: /51973/1/Pages%20fromAnalisis%20Ketepatan%20Makna%20Dan%20Prosedur%20Terjemahan%20Kata%20Nama%20Khas%20Bahasa%20Cina-Bahasa%20Melayu%20Dalam%20Hikayat%20Jelajah%20Ke%20Barat.pdf (Caused by NewConnectionError('<urllib3.connection.HTTPConnection object at 0x7f5768799fa0>: Failed to establish a new connection: [Errno 110] Connection timed out'))\n"
     ]
    },
    {
     "name": "stderr",
     "output_type": "stream",
     "text": [
      " 77%|████████████████████████▌       | 27445/35731 [20:46:11<2:37:21,  1.14s/it]"
     ]
    },
    {
     "name": "stdout",
     "output_type": "stream",
     "text": [
      "0 HTTPConnectionPool(host='eprints.usm.my', port=80): Max retries exceeded with url: /51987/1/KHOO%20TERH%20JING.pdf (Caused by NewConnectionError('<urllib3.connection.HTTPConnection object at 0x7f57687a8be0>: Failed to establish a new connection: [Errno 110] Connection timed out'))\n"
     ]
    },
    {
     "name": "stderr",
     "output_type": "stream",
     "text": [
      " 77%|██████████████████████████▏       | 27520/35731 [20:48:53<48:17,  2.83it/s]"
     ]
    },
    {
     "name": "stdout",
     "output_type": "stream",
     "text": [
      "0 HTTPConnectionPool(host='eprints.usm.my', port=80): Max retries exceeded with url: /52085/1/AZHARI%20BIN%20AZAHIDI-24%20pages.pdf (Caused by NewConnectionError('<urllib3.connection.HTTPConnection object at 0x7f57687655b0>: Failed to establish a new connection: [Errno 110] Connection timed out'))\n"
     ]
    },
    {
     "name": "stderr",
     "output_type": "stream",
     "text": [
      " 77%|██████████████████████████▎       | 27592/35731 [20:51:34<50:28,  2.69it/s]"
     ]
    },
    {
     "name": "stdout",
     "output_type": "stream",
     "text": [
      "0 HTTPConnectionPool(host='eprints.usm.my', port=80): Max retries exceeded with url: /52167/1/Ahmad%20Syazwan%20Ahmad%20Nordin-24%20pages.pdf (Caused by NewConnectionError('<urllib3.connection.HTTPConnection object at 0x7f576875ea60>: Failed to establish a new connection: [Errno 110] Connection timed out'))\n"
     ]
    },
    {
     "name": "stderr",
     "output_type": "stream",
     "text": [
      " 77%|████████████████████████▋       | 27608/35731 [20:53:59<1:17:06,  1.76it/s]"
     ]
    },
    {
     "name": "stdout",
     "output_type": "stream",
     "text": [
      "0 HTTPConnectionPool(host='eprints.usm.my', port=80): Max retries exceeded with url: /52184/1/Huang%20Tze%20Ern-24%20pages.pdf (Caused by NewConnectionError('<urllib3.connection.HTTPConnection object at 0x7f5768765880>: Failed to establish a new connection: [Errno 110] Connection timed out'))\n"
     ]
    },
    {
     "name": "stderr",
     "output_type": "stream",
     "text": [
      " 77%|████████████████████████▋       | 27626/35731 [20:56:17<1:07:42,  2.00it/s]"
     ]
    },
    {
     "name": "stdout",
     "output_type": "stream",
     "text": [
      "0 HTTPConnectionPool(host='eprints.usm.my', port=80): Max retries exceeded with url: /5220/1/HGT_521_%E2%80%93_ANALISIS_LOKASI_DAN_RUANGAN_APRIL_07.pdf (Caused by NewConnectionError('<urllib3.connection.HTTPConnection object at 0x7f5768753850>: Failed to establish a new connection: [Errno 110] Connection timed out'))\n"
     ]
    },
    {
     "name": "stderr",
     "output_type": "stream",
     "text": [
      " 77%|████████████████████████▊       | 27657/35731 [20:59:14<4:39:00,  2.07s/it]"
     ]
    },
    {
     "name": "stdout",
     "output_type": "stream",
     "text": [
      "0 HTTPConnectionPool(host='eprints.usm.my', port=80): Max retries exceeded with url: /52235/1/tesis%20DNA%20Clones%20cut.pdf (Caused by NewConnectionError('<urllib3.connection.HTTPConnection object at 0x7f5768799d30>: Failed to establish a new connection: [Errno 110] Connection timed out'))\n"
     ]
    },
    {
     "name": "stderr",
     "output_type": "stream",
     "text": [
      " 77%|████████████████████████▊       | 27671/35731 [21:01:44<2:50:39,  1.27s/it]"
     ]
    },
    {
     "name": "stdout",
     "output_type": "stream",
     "text": [
      "0 HTTPConnectionPool(host='eprints.usm.my', port=80): Max retries exceeded with url: /52248/1/FADHILAH%20BINTI%20ABDUL%20RAHMAN-24%20pages.pdf (Caused by NewConnectionError('<urllib3.connection.HTTPConnection object at 0x7f5768799d00>: Failed to establish a new connection: [Errno 110] Connection timed out'))\n"
     ]
    },
    {
     "name": "stderr",
     "output_type": "stream",
     "text": [
      " 77%|████████████████████████       | 27674/35731 [21:03:55<44:10:00, 19.73s/it]"
     ]
    },
    {
     "name": "stdout",
     "output_type": "stream",
     "text": [
      "0 HTTPConnectionPool(host='eprints.usm.my', port=80): Max retries exceeded with url: /52250/1/HAFIZAH%20BINTI%20SAIM-24%20pages.pdf (Caused by NewConnectionError('<urllib3.connection.HTTPConnection object at 0x7f57687534f0>: Failed to establish a new connection: [Errno 110] Connection timed out'))\n",
      "1 HTTPConnectionPool(host='eprints.usm.my', port=80): Max retries exceeded with url: /52250/1/HAFIZAH%20BINTI%20SAIM-24%20pages.pdf (Caused by NewConnectionError('<urllib3.connection.HTTPConnection object at 0x7f5768765dc0>: Failed to establish a new connection: [Errno 110] Connection timed out'))\n"
     ]
    },
    {
     "name": "stderr",
     "output_type": "stream",
     "text": [
      " 78%|██████████████████████████▎       | 27701/35731 [21:08:26<52:22,  2.56it/s]"
     ]
    },
    {
     "name": "stdout",
     "output_type": "stream",
     "text": [
      "0 HTTPConnectionPool(host='eprints.usm.my', port=80): Max retries exceeded with url: /52288/1/MALVINDER%20KAUR%20AP%20JAMIR%20SINGH%20-%20TESIS.pdf%20cut.pdf (Caused by NewConnectionError('<urllib3.connection.HTTPConnection object at 0x7f576875ebe0>: Failed to establish a new connection: [Errno 110] Connection timed out'))\n"
     ]
    },
    {
     "name": "stderr",
     "output_type": "stream",
     "text": [
      " 78%|████████████████████████▊       | 27717/35731 [21:10:43<1:11:01,  1.88it/s]"
     ]
    },
    {
     "name": "stdout",
     "output_type": "stream",
     "text": [
      "0 HTTPConnectionPool(host='eprints.usm.my', port=80): Max retries exceeded with url: /52301/1/Brazilian%20Test%20On%20Mechanical%20Behaviors%20Of%20Anisotropic%20Rocks_Nurmaliana%20Mohd%20Khadri_B1_2017.pdf (Caused by NewConnectionError('<urllib3.connection.HTTPConnection object at 0x7f57687531f0>: Failed to establish a new connection: [Errno 110] Connection timed out'))\n"
     ]
    },
    {
     "name": "stderr",
     "output_type": "stream",
     "text": [
      " 78%|████████████████████████▉       | 27787/35731 [21:13:46<1:00:59,  2.17it/s]"
     ]
    },
    {
     "name": "stdout",
     "output_type": "stream",
     "text": [
      "0 HTTPConnectionPool(host='eprints.usm.my', port=80): Max retries exceeded with url: /52369/1/Pages%20from%20MUHAMMAD%20ZAFRAN%20BIN%20ABDUL%20HAMID.pdf (Caused by NewConnectionError('<urllib3.connection.HTTPConnection object at 0x7f5768753400>: Failed to establish a new connection: [Errno 110] Connection timed out'))\n"
     ]
    },
    {
     "name": "stderr",
     "output_type": "stream",
     "text": [
      " 78%|██████████████████████████▌       | 27909/35731 [21:17:01<55:20,  2.36it/s]"
     ]
    },
    {
     "name": "stdout",
     "output_type": "stream",
     "text": [
      "0 HTTPConnectionPool(host='eprints.usm.my', port=80): Max retries exceeded with url: /52502/1/SUN%20TUN%20-%20TESIS.pdf%20cut.pdf (Caused by NewConnectionError('<urllib3.connection.HTTPConnection object at 0x7f57687414f0>: Failed to establish a new connection: [Errno 110] Connection timed out'))\n"
     ]
    },
    {
     "name": "stderr",
     "output_type": "stream",
     "text": [
      " 78%|██████████████████████████▋       | 27985/35731 [21:19:43<43:25,  2.97it/s]"
     ]
    },
    {
     "name": "stdout",
     "output_type": "stream",
     "text": [
      "0 HTTPConnectionPool(host='eprints.usm.my', port=80): Max retries exceeded with url: /52591/1/Flow%20Field%20Measurement%20Of%20Fish%20And%20Development%20Of%20Fish%20Like%20Underwater%20Robot_Soh%20Ling%20Xin__A2_2018_MJMS.pdf (Caused by NewConnectionError('<urllib3.connection.HTTPConnection object at 0x7f5768799ac0>: Failed to establish a new connection: [Errno 110] Connection timed out'))\n"
     ]
    },
    {
     "name": "stderr",
     "output_type": "stream",
     "text": [
      " 79%|██████████████████████████▊       | 28203/35731 [21:23:19<54:12,  2.31it/s]"
     ]
    },
    {
     "name": "stdout",
     "output_type": "stream",
     "text": [
      "0 HTTPConnectionPool(host='eprints.usm.my', port=80): Max retries exceeded with url: /52833/1/DR%20SALMI%20BINTI%20MOHAMED%20SUKUR-24%20pages.pdf (Caused by NewConnectionError('<urllib3.connection.HTTPConnection object at 0x7f576875e280>: Failed to establish a new connection: [Errno 110] Connection timed out'))\n",
      "1 HTTPConnectionPool(host='eprints.usm.my', port=80): Max retries exceeded with url: /52833/1/DR%20SALMI%20BINTI%20MOHAMED%20SUKUR-24%20pages.pdf (Caused by NewConnectionError('<urllib3.connection.HTTPConnection object at 0x7f5768765850>: Failed to establish a new connection: [Errno 110] Connection timed out'))\n"
     ]
    },
    {
     "name": "stderr",
     "output_type": "stream",
     "text": [
      " 80%|███████████████████████████▏      | 28603/35731 [21:31:31<57:51,  2.05it/s]"
     ]
    },
    {
     "name": "stdout",
     "output_type": "stream",
     "text": [
      "0 HTTPConnectionPool(host='eprints.usm.my', port=80): Max retries exceeded with url: /53275/1/SATHISHA%20AP%20GOONASAKARAN%20-%20TESIS.pdf (Caused by NewConnectionError('<urllib3.connection.HTTPConnection object at 0x7f5768765370>: Failed to establish a new connection: [Errno 110] Connection timed out'))\n"
     ]
    },
    {
     "name": "stderr",
     "output_type": "stream",
     "text": [
      " 80%|███████████████████████████▏      | 28627/35731 [21:33:52<54:56,  2.15it/s]"
     ]
    },
    {
     "name": "stdout",
     "output_type": "stream",
     "text": [
      "0 HTTPConnectionPool(host='eprints.usm.my', port=80): Max retries exceeded with url: /53298/1/Thermal%20And%20Rheological%20Properties%20Of%203D%20Printed%20Polylactic%20Acid%20Plasticized%20With%20Polyethylene%20Glycol_Nor%20Fazreeniza%20Nor%20Ashikin_B1_2018.pdf (Caused by NewConnectionError('<urllib3.connection.HTTPConnection object at 0x7f5768753520>: Failed to establish a new connection: [Errno 110] Connection timed out'))\n"
     ]
    },
    {
     "name": "stderr",
     "output_type": "stream",
     "text": [
      " 80%|█████████████████████████▋      | 28637/35731 [21:36:07<4:01:34,  2.04s/it]"
     ]
    },
    {
     "name": "stdout",
     "output_type": "stream",
     "text": [
      "0 HTTPConnectionPool(host='eprints.usm.my', port=80): Max retries exceeded with url: /53307/1/Automatic%20Number%20Plate%20Recognition%20By%20Using%20Matlab_Vignes%20Kumaran_E3_2018.pdf (Caused by NewConnectionError('<urllib3.connection.HTTPConnection object at 0x7f576875e6a0>: Failed to establish a new connection: [Errno 110] Connection timed out'))\n"
     ]
    },
    {
     "name": "stderr",
     "output_type": "stream",
     "text": [
      " 80%|███████████████████████████▎      | 28667/35731 [21:38:31<46:43,  2.52it/s]"
     ]
    },
    {
     "name": "stdout",
     "output_type": "stream",
     "text": [
      "0 HTTPConnectionPool(host='eprints.usm.my', port=80): Max retries exceeded with url: /53358/1/Design%20And%20Simulation%20Of%20Resonant%20Tunneling%20Diode%20%28RTD%29%20Based%20High%20Frequency%20Monolithic%20Microwave%20Integrated%20Circuit%20%28MMIC%29_Chia%20Ying%20Ying_E3_2018.pdf (Caused by NewConnectionError('<urllib3.connection.HTTPConnection object at 0x7f57687e9c10>: Failed to establish a new connection: [Errno 110] Connection timed out'))\n"
     ]
    },
    {
     "name": "stderr",
     "output_type": "stream",
     "text": [
      " 80%|███████████████████████████▎      | 28737/35731 [21:41:11<40:13,  2.90it/s]"
     ]
    },
    {
     "name": "stdout",
     "output_type": "stream",
     "text": [
      "0 HTTPConnectionPool(host='eprints.usm.my', port=80): Max retries exceeded with url: /53456/1/EBP215.pdf (Caused by NewConnectionError('<urllib3.connection.HTTPConnection object at 0x7f57687530a0>: Failed to establish a new connection: [Errno 110] Connection timed out'))\n"
     ]
    },
    {
     "name": "stderr",
     "output_type": "stream",
     "text": [
      " 80%|███████████████████████████▎      | 28759/35731 [21:43:30<45:18,  2.57it/s]"
     ]
    },
    {
     "name": "stdout",
     "output_type": "stream",
     "text": [
      "0 HTTPConnectionPool(host='eprints.usm.my', port=80): Max retries exceeded with url: /53484/1/Embedded%20Artificial%20Intelligent%20%28AI%29%20To%20Navigate%20Cart%20Follower_Tang%20Khai%20Luen_E3_2018.pdf (Caused by NewConnectionError('<urllib3.connection.HTTPConnection object at 0x7f57687a88b0>: Failed to establish a new connection: [Errno 110] Connection timed out'))\n"
     ]
    },
    {
     "name": "stderr",
     "output_type": "stream",
     "text": [
      " 81%|████████████████████████▉      | 28771/35731 [21:47:56<28:12:39, 14.59s/it]"
     ]
    },
    {
     "name": "stdout",
     "output_type": "stream",
     "text": [
      "0 HTTPConnectionPool(host='eprints.usm.my', port=80): Max retries exceeded with url: /53490/1/Hardware%20And%20Software%20Development%20Of%20ECG%20Biometric%20System_Chia%20Pei%20Kiak_E3_2018.pdf (Caused by NewConnectionError('<urllib3.connection.HTTPConnection object at 0x7f5768753a00>: Failed to establish a new connection: [Errno 110] Connection timed out'))\n"
     ]
    },
    {
     "name": "stderr",
     "output_type": "stream",
     "text": [
      " 81%|███████████████████████████▍      | 28790/35731 [21:50:16<51:31,  2.25it/s]"
     ]
    },
    {
     "name": "stdout",
     "output_type": "stream",
     "text": [
      "0 HTTPConnectionPool(host='eprints.usm.my', port=80): Max retries exceeded with url: /53520/1/Hardware%20Software%20Partitioning%20Using%20Particle%20Swarm%20Optimization%20%28PSO%29%20In%20Image%20Processing%20Application_Tan%20Jia%20Zheng_E3_2018.pdf (Caused by NewConnectionError('<urllib3.connection.HTTPConnection object at 0x7f57687e9a90>: Failed to establish a new connection: [Errno 110] Connection timed out'))\n"
     ]
    },
    {
     "name": "stderr",
     "output_type": "stream",
     "text": [
      " 81%|████████████████████████▉      | 28793/35731 [21:52:28<37:48:43, 19.62s/it]"
     ]
    },
    {
     "name": "stdout",
     "output_type": "stream",
     "text": [
      "0 HTTPConnectionPool(host='eprints.usm.my', port=80): Max retries exceeded with url: /53528/1/Implementation%20Of%20Hardware%20Software%20Partitioning%20In%20Embedded%20System_Masyirah%20Mohd%20Nor_E3_2018.pdf (Caused by NewConnectionError('<urllib3.connection.HTTPConnection object at 0x7f5768799bb0>: Failed to establish a new connection: [Errno 110] Connection timed out'))\n"
     ]
    },
    {
     "name": "stderr",
     "output_type": "stream",
     "text": [
      " 81%|███████████████████████████▍      | 28867/35731 [21:55:18<46:13,  2.47it/s]"
     ]
    },
    {
     "name": "stdout",
     "output_type": "stream",
     "text": [
      "0 HTTPConnectionPool(host='eprints.usm.my', port=80): Max retries exceeded with url: /53600/1/Performance%20Analysis%20Of%20A%20Five%20phase%2010_Slot_4Pole%20PMSM%20For%20Electric%20Vehicle_Nur%20Syahirah%20Abdul%20Sani_E3_2018.pdf (Caused by NewConnectionError('<urllib3.connection.HTTPConnection object at 0x7f5768753e20>: Failed to establish a new connection: [Errno 110] Connection timed out'))\n",
      "1 HTTPConnectionPool(host='eprints.usm.my', port=80): Max retries exceeded with url: /53600/1/Performance%20Analysis%20Of%20A%20Five%20phase%2010_Slot_4Pole%20PMSM%20For%20Electric%20Vehicle_Nur%20Syahirah%20Abdul%20Sani_E3_2018.pdf (Caused by NewConnectionError('<urllib3.connection.HTTPConnection object at 0x7f57687655e0>: Failed to establish a new connection: [Errno 110] Connection timed out'))\n"
     ]
    },
    {
     "name": "stderr",
     "output_type": "stream",
     "text": [
      " 81%|█████████████████████████▊      | 28878/35731 [21:59:51<5:12:53,  2.74s/it]"
     ]
    },
    {
     "name": "stdout",
     "output_type": "stream",
     "text": [
      "0 HTTPConnectionPool(host='eprints.usm.my', port=80): Max retries exceeded with url: /53610/1/Raspberry%20Pi-Based%20Finger%20Vein%20Recognition%20System%20Using%20PCANet_Quek%20Ee%20Wen_E3_2018.pdf (Caused by NewConnectionError('<urllib3.connection.HTTPConnection object at 0x7f5768741d30>: Failed to establish a new connection: [Errno 110] Connection timed out'))\n"
     ]
    },
    {
     "name": "stderr",
     "output_type": "stream",
     "text": [
      " 81%|█████████████████████████      | 28880/35731 [22:02:02<55:13:38, 29.02s/it]"
     ]
    },
    {
     "name": "stdout",
     "output_type": "stream",
     "text": [
      "0 HTTPConnectionPool(host='eprints.usm.my', port=80): Max retries exceeded with url: /53612/1/Realization%20Of%20The%201D%20Local%20Binary%20Pattern%20%28LBP%29%20Algorithm%20In%20Raspberry%20Pi%20For%20Iris%20Classification%20Using%20K-NN%20Classifier_Siow%20Shien%20Loong_E3_2018.pdf (Caused by NewConnectionError('<urllib3.connection.HTTPConnection object at 0x7f5768741520>: Failed to establish a new connection: [Errno 110] Connection timed out'))\n"
     ]
    },
    {
     "name": "stderr",
     "output_type": "stream",
     "text": [
      " 81%|█████████████████████████▉      | 28892/35731 [22:04:18<2:57:14,  1.56s/it]"
     ]
    },
    {
     "name": "stdout",
     "output_type": "stream",
     "text": [
      "0 HTTPConnectionPool(host='eprints.usm.my', port=80): Max retries exceeded with url: /53623/1/Very%20High%20Frequency%20Distilled%20Water%20Antenna_Muhammad%20Anwar%20Zulkifli_E3_2018.pdf (Caused by NewConnectionError('<urllib3.connection.HTTPConnection object at 0x7f57687538e0>: Failed to establish a new connection: [Errno 110] Connection timed out'))\n"
     ]
    },
    {
     "name": "stderr",
     "output_type": "stream",
     "text": [
      " 81%|███████████████████████████▌      | 28954/35731 [22:06:53<51:42,  2.18it/s]"
     ]
    },
    {
     "name": "stdout",
     "output_type": "stream",
     "text": [
      "0 HTTPConnectionPool(host='eprints.usm.my', port=80): Max retries exceeded with url: /53702/1/Experiment%20And%20Simulation%20Reflow%20Process%20Of%20PDMS%20Material_Go%20How%20Chiang_M4_2017.pdf (Caused by NewConnectionError('<urllib3.connection.HTTPConnection object at 0x7f57687e9fa0>: Failed to establish a new connection: [Errno 110] Connection timed out'))\n"
     ]
    },
    {
     "name": "stderr",
     "output_type": "stream",
     "text": [
      " 81%|███████████████████████████▋      | 29051/35731 [22:09:47<29:20,  3.79it/s]"
     ]
    },
    {
     "name": "stdout",
     "output_type": "stream",
     "text": [
      "0 HTTPConnectionPool(host='eprints.usm.my', port=80): Max retries exceeded with url: /53838/1/EPE%20442.pdf (Caused by NewConnectionError('<urllib3.connection.HTTPConnection object at 0x7f5768799730>: Failed to establish a new connection: [Errno 110] Connection timed out'))\n"
     ]
    },
    {
     "name": "stderr",
     "output_type": "stream",
     "text": [
      " 82%|███████████████████████████▋      | 29121/35731 [22:12:23<33:04,  3.33it/s]"
     ]
    },
    {
     "name": "stdout",
     "output_type": "stream",
     "text": [
      "0 HTTPConnectionPool(host='eprints.usm.my', port=80): Max retries exceeded with url: /53921/1/10.%20EAS357%20FINAL%20EXAM.pdf (Caused by NewConnectionError('<urllib3.connection.HTTPConnection object at 0x7f57687539a0>: Failed to establish a new connection: [Errno 110] Connection timed out'))\n"
     ]
    },
    {
     "name": "stderr",
     "output_type": "stream",
     "text": [
      " 82%|███████████████████████████▊      | 29235/35731 [22:15:29<35:38,  3.04it/s]"
     ]
    },
    {
     "name": "stdout",
     "output_type": "stream",
     "text": [
      "0 HTTPConnectionPool(host='eprints.usm.my', port=80): Max retries exceeded with url: /54086/1/DR%20NABILAH%20AWANG%20%40%20ISMAIL%20-%20e.pdf (Caused by NewConnectionError('<urllib3.connection.HTTPConnection object at 0x7f57687414c0>: Failed to establish a new connection: [Errno 110] Connection timed out'))\n"
     ]
    },
    {
     "name": "stderr",
     "output_type": "stream",
     "text": [
      " 82%|██████████████████████████▏     | 29244/35731 [22:17:44<4:57:49,  2.75s/it]"
     ]
    },
    {
     "name": "stdout",
     "output_type": "stream",
     "text": [
      "0 HTTPConnectionPool(host='eprints.usm.my', port=80): Max retries exceeded with url: /54095/1/7.%20%20EAP315%20FINAL%20EXAM.pdf (Caused by NewConnectionError('<urllib3.connection.HTTPConnection object at 0x7f57687656a0>: Failed to establish a new connection: [Errno 110] Connection timed out'))\n"
     ]
    },
    {
     "name": "stderr",
     "output_type": "stream",
     "text": [
      " 82%|█████████████████████████▎     | 29247/35731 [22:19:56<36:46:39, 20.42s/it]"
     ]
    },
    {
     "name": "stdout",
     "output_type": "stream",
     "text": [
      "0 HTTPConnectionPool(host='eprints.usm.my', port=80): Max retries exceeded with url: /54098/1/8.%20%20EAL337%20FINAL%20EXAM.pdf (Caused by NewConnectionError('<urllib3.connection.HTTPConnection object at 0x7f5768799940>: Failed to establish a new connection: [Errno 110] Connection timed out'))\n"
     ]
    },
    {
     "name": "stderr",
     "output_type": "stream",
     "text": [
      " 82%|███████████████████████████▊      | 29282/35731 [22:22:21<31:52,  3.37it/s]"
     ]
    },
    {
     "name": "stdout",
     "output_type": "stream",
     "text": [
      "0 HTTPConnectionPool(host='eprints.usm.my', port=80): Max retries exceeded with url: /5414/1/Document-1659_Version-1965_application-pdf_0.pdf (Caused by NewConnectionError('<urllib3.connection.HTTPConnection object at 0x7f576873fd30>: Failed to establish a new connection: [Errno 110] Connection timed out'))\n"
     ]
    },
    {
     "name": "stderr",
     "output_type": "stream",
     "text": [
      " 82%|███████████████████████████▉      | 29398/35731 [22:26:49<33:37,  3.14it/s]"
     ]
    },
    {
     "name": "stdout",
     "output_type": "stream",
     "text": [
      "0 HTTPConnectionPool(host='eprints.usm.my', port=80): Max retries exceeded with url: /54272/1/99-100%20Pages%20from%2000001630801-18.pdf (Caused by NewConnectionError('<urllib3.connection.HTTPConnection object at 0x7f576875ee80>: Failed to establish a new connection: [Errno 110] Connection timed out'))\n"
     ]
    },
    {
     "name": "stderr",
     "output_type": "stream",
     "text": [
      " 82%|████████████████████████████      | 29463/35731 [22:29:32<48:55,  2.14it/s]"
     ]
    },
    {
     "name": "stdout",
     "output_type": "stream",
     "text": [
      "0 HTTPConnectionPool(host='eprints.usm.my', port=80): Max retries exceeded with url: /54363/1/Research%20Of%20Screw%20Expeller%20On%20Oil%20Palm%20Seed%20A%20CFD%20Study%20On%20Barrel%20Zone_Muhammad%20Aizuddin%20Mohamed_M4_2018.pdf (Caused by NewConnectionError('<urllib3.connection.HTTPConnection object at 0x7f57687538e0>: Failed to establish a new connection: [Errno 110] Connection timed out'))\n"
     ]
    },
    {
     "name": "stderr",
     "output_type": "stream",
     "text": [
      " 83%|████████████████████████████▏     | 29608/35731 [22:33:03<41:37,  2.45it/s]"
     ]
    },
    {
     "name": "stdout",
     "output_type": "stream",
     "text": [
      "0 HTTPConnectionPool(host='eprints.usm.my', port=80): Max retries exceeded with url: /54556/1/24Pages%20from%2000001624703.pdf (Caused by NewConnectionError('<urllib3.connection.HTTPConnection object at 0x7f5768741640>: Failed to establish a new connection: [Errno 110] Connection timed out'))\n"
     ]
    },
    {
     "name": "stderr",
     "output_type": "stream",
     "text": [
      " 83%|████████████████████████████▏     | 29626/35731 [22:35:24<37:37,  2.70it/s]"
     ]
    },
    {
     "name": "stdout",
     "output_type": "stream",
     "text": [
      "0 HTTPConnectionPool(host='eprints.usm.my', port=80): Max retries exceeded with url: /5459/1/HSI_243_%E2%80%93_HISTORY_OF_WEST_ASIA_APRIL_07.pdf (Caused by NewConnectionError('<urllib3.connection.HTTPConnection object at 0x7f5768765d60>: Failed to establish a new connection: [Errno 110] Connection timed out'))\n"
     ]
    },
    {
     "name": "stderr",
     "output_type": "stream",
     "text": [
      " 83%|████████████████████████████▏     | 29657/35731 [22:37:45<28:30,  3.55it/s]"
     ]
    },
    {
     "name": "stdout",
     "output_type": "stream",
     "text": [
      "0 HTTPConnectionPool(host='eprints.usm.my', port=80): Max retries exceeded with url: /54633/1/DR%20REPEAH%20SUPPIAN%20-%20e.pdf (Caused by NewConnectionError('<urllib3.connection.HTTPConnection object at 0x7f5768785070>: Failed to establish a new connection: [Errno 110] Connection timed out'))\n"
     ]
    },
    {
     "name": "stderr",
     "output_type": "stream",
     "text": [
      " 84%|████████████████████████████▍     | 29929/35731 [22:42:00<32:17,  2.99it/s]"
     ]
    },
    {
     "name": "stdout",
     "output_type": "stream",
     "text": [
      "0 HTTPConnectionPool(host='eprints.usm.my', port=80): Max retries exceeded with url: /55005/1/Reactive%20Distillation%20Simulation%20For%20Production%20Of%20Methyl%20Acetate%20Kinetic%20Model%20Parameter%20Optimization.pdf (Caused by NewConnectionError('<urllib3.connection.HTTPConnection object at 0x7f57687e9eb0>: Failed to establish a new connection: [Errno 110] Connection timed out'))\n"
     ]
    },
    {
     "name": "stderr",
     "output_type": "stream",
     "text": [
      " 84%|██████████████████████████▊     | 29987/35731 [22:44:52<1:34:10,  1.02it/s]"
     ]
    },
    {
     "name": "stdout",
     "output_type": "stream",
     "text": [
      "0 HTTPConnectionPool(host='eprints.usm.my', port=80): Max retries exceeded with url: /55075/1/AZHAR%20BIN%20AHMAD%20-Thesis.pdf (Caused by NewConnectionError('<urllib3.connection.HTTPConnection object at 0x7f576875e9a0>: Failed to establish a new connection: [Errno 110] Connection timed out'))\n"
     ]
    },
    {
     "name": "stderr",
     "output_type": "stream",
     "text": [
      " 84%|████████████████████████████▋     | 30099/35731 [22:48:12<44:42,  2.10it/s]"
     ]
    },
    {
     "name": "stdout",
     "output_type": "stream",
     "text": [
      "0 HTTPConnectionPool(host='eprints.usm.my', port=80): Max retries exceeded with url: /553/1/JMS_212_-_SEJARAH_ASIA_TENGGARA_TRADISIONAL_MAC_05.pdf (Caused by NewConnectionError('<urllib3.connection.HTTPConnection object at 0x7f5768753a30>: Failed to establish a new connection: [Errno 110] Connection timed out'))\n"
     ]
    },
    {
     "name": "stderr",
     "output_type": "stream",
     "text": [
      " 84%|████████████████████████████▋     | 30145/35731 [22:50:55<33:13,  2.80it/s]"
     ]
    },
    {
     "name": "stdout",
     "output_type": "stream",
     "text": [
      "0 HTTPConnectionPool(host='eprints.usm.my', port=80): Max retries exceeded with url: /55352/1/MUHAMMAD%20ARRASYID%20BIN%20DIN-24%20pages.pdf (Caused by NewConnectionError('<urllib3.connection.HTTPConnection object at 0x7f5768741430>: Failed to establish a new connection: [Errno 110] Connection timed out'))\n"
     ]
    },
    {
     "name": "stderr",
     "output_type": "stream",
     "text": [
      " 85%|████████████████████████████▋     | 30198/35731 [22:53:43<31:00,  2.97it/s]"
     ]
    },
    {
     "name": "stdout",
     "output_type": "stream",
     "text": [
      "0 HTTPConnectionPool(host='eprints.usm.my', port=80): Max retries exceeded with url: /55422/1/Forensic%20Sketch%20To%20Mugshot%20Matching%20Algorithm%20Based%20On%20Dynamic%20Difference%20Of%20Gaussian%20Oriented%20Gradient%20Histogram_Samsul%20Setumin.pdf (Caused by NewConnectionError('<urllib3.connection.HTTPConnection object at 0x7f5768765fd0>: Failed to establish a new connection: [Errno 110] Connection timed out'))\n"
     ]
    },
    {
     "name": "stderr",
     "output_type": "stream",
     "text": [
      " 85%|███████████████████████████     | 30222/35731 [22:56:26<7:17:29,  4.76s/it]"
     ]
    },
    {
     "name": "stdout",
     "output_type": "stream",
     "text": [
      "0 HTTPConnectionPool(host='eprints.usm.my', port=80): Max retries exceeded with url: /55456/1/Oil-From-Water%20Removal%20Under%20Low%20Gradient%20Magnetic%20Separation%20%28LGMS%29.pdf (Caused by NewConnectionError('<urllib3.connection.HTTPConnection object at 0x7f5768741280>: Failed to establish a new connection: [Errno 110] Connection timed out'))\n"
     ]
    },
    {
     "name": "stderr",
     "output_type": "stream",
     "text": [
      " 85%|██████████████████████████▏    | 30228/35731 [22:58:38<11:21:27,  7.43s/it]"
     ]
    },
    {
     "name": "stdout",
     "output_type": "stream",
     "text": [
      "0 HTTPConnectionPool(host='eprints.usm.my', port=80): Max retries exceeded with url: /55474/1/00001679781.pdf (Caused by NewConnectionError('<urllib3.connection.HTTPConnection object at 0x7f576875e280>: Failed to establish a new connection: [Errno 110] Connection timed out'))\n"
     ]
    },
    {
     "name": "stderr",
     "output_type": "stream",
     "text": [
      " 85%|███████████████████████████     | 30262/35731 [23:04:30<5:37:15,  3.70s/it]"
     ]
    },
    {
     "name": "stdout",
     "output_type": "stream",
     "text": [
      "0 HTTPConnectionPool(host='eprints.usm.my', port=80): Max retries exceeded with url: /5551/1/SOALAN-SOALAN_TAMBAHAN_DR._GRAF_HKB_112_HKB_504_APRIL_07.pdf (Caused by NewConnectionError('<urllib3.connection.HTTPConnection object at 0x7f57687538e0>: Failed to establish a new connection: [Errno 110] Connection timed out'))\n"
     ]
    },
    {
     "name": "stderr",
     "output_type": "stream",
     "text": [
      " 85%|████████████████████████████▊     | 30339/35731 [23:07:54<30:53,  2.91it/s]"
     ]
    },
    {
     "name": "stdout",
     "output_type": "stream",
     "text": [
      "0 HTTPConnectionPool(host='eprints.usm.my', port=80): Max retries exceeded with url: /55601/1/24%20Pages%20from%20Rumaisa.pdf (Caused by NewConnectionError('<urllib3.connection.HTTPConnection object at 0x7f5768741c70>: Failed to establish a new connection: [Errno 110] Connection timed out'))\n"
     ]
    },
    {
     "name": "stderr",
     "output_type": "stream",
     "text": [
      " 85%|████████████████████████████▉     | 30444/35731 [23:10:57<30:31,  2.89it/s]"
     ]
    },
    {
     "name": "stdout",
     "output_type": "stream",
     "text": [
      "0 HTTPConnectionPool(host='eprints.usm.my', port=80): Max retries exceeded with url: /55710/1/Developing%20A%20Discrete-Event%20Simulation%20Model%20For%20Semiconductor%20Supply%20Chain_Lim%20Si%20Ying.pdf (Caused by NewConnectionError('<urllib3.connection.HTTPConnection object at 0x7f5768765a00>: Failed to establish a new connection: [Errno 110] Connection timed out'))\n"
     ]
    },
    {
     "name": "stderr",
     "output_type": "stream",
     "text": [
      " 85%|█████████████████████████████     | 30490/35731 [23:13:29<38:10,  2.29it/s]"
     ]
    },
    {
     "name": "stdout",
     "output_type": "stream",
     "text": [
      "0 HTTPConnectionPool(host='eprints.usm.my', port=80): Max retries exceeded with url: /55768/1/Miniature%20Specimen%20Fracture%20Toughness%20Testing%20A%20Concise%20Review_Muhammad%20Asyraf%20Azhar.pdf (Caused by NewConnectionError('<urllib3.connection.HTTPConnection object at 0x7f5768753310>: Failed to establish a new connection: [Errno 110] Connection timed out'))\n"
     ]
    },
    {
     "name": "stderr",
     "output_type": "stream",
     "text": [
      " 86%|█████████████████████████████     | 30560/35731 [23:16:09<44:07,  1.95it/s]"
     ]
    },
    {
     "name": "stdout",
     "output_type": "stream",
     "text": [
      "0 HTTPConnectionPool(host='eprints.usm.my', port=80): Max retries exceeded with url: /55860/1/00001634704.pdf (Caused by NewConnectionError('<urllib3.connection.HTTPConnection object at 0x7f57687e9cd0>: Failed to establish a new connection: [Errno 110] Connection timed out'))\n"
     ]
    },
    {
     "name": "stderr",
     "output_type": "stream",
     "text": [
      " 86%|█████████████████████████████     | 30601/35731 [23:19:06<33:17,  2.57it/s]"
     ]
    },
    {
     "name": "stdout",
     "output_type": "stream",
     "text": [
      "0 HTTPConnectionPool(host='eprints.usm.my', port=80): Max retries exceeded with url: /55917/1/Thesis%20final%20hard%20copy%20cut.pdf (Caused by NewConnectionError('<urllib3.connection.HTTPConnection object at 0x7f576875e670>: Failed to establish a new connection: [Errno 110] Connection timed out'))\n"
     ]
    },
    {
     "name": "stderr",
     "output_type": "stream",
     "text": [
      " 86%|█████████████████████████████▏    | 30636/35731 [23:21:31<34:39,  2.45it/s]"
     ]
    },
    {
     "name": "stdout",
     "output_type": "stream",
     "text": [
      "0 HTTPConnectionPool(host='eprints.usm.my', port=80): Max retries exceeded with url: /55994/1/Development%20And%20Characterization%20Of%20Producer%20Gas%20Burner.pdf (Caused by NewConnectionError('<urllib3.connection.HTTPConnection object at 0x7f57687539a0>: Failed to establish a new connection: [Errno 110] Connection timed out'))\n"
     ]
    },
    {
     "name": "stderr",
     "output_type": "stream",
     "text": [
      " 86%|█████████████████████████████▏    | 30656/35731 [23:23:52<41:02,  2.06it/s]"
     ]
    },
    {
     "name": "stdout",
     "output_type": "stream",
     "text": [
      "0 HTTPConnectionPool(host='eprints.usm.my', port=80): Max retries exceeded with url: /56012/1/Effect%20Of%20Volume%20Fraction%20For%20Different%20Thermophysical%20Properties%20Of%20Carbon%20Nanotube%20Nanofluid.pdf (Caused by NewConnectionError('<urllib3.connection.HTTPConnection object at 0x7f5768741d30>: Failed to establish a new connection: [Errno 110] Connection timed out'))\n"
     ]
    },
    {
     "name": "stderr",
     "output_type": "stream",
     "text": [
      " 86%|█████████████████████████████▏    | 30706/35731 [23:26:48<38:04,  2.20it/s]"
     ]
    },
    {
     "name": "stdout",
     "output_type": "stream",
     "text": [
      "0 HTTPConnectionPool(host='eprints.usm.my', port=80): Max retries exceeded with url: /56085/1/Ling%20Kui%20Siang-24%20pages.pdf (Caused by NewConnectionError('<urllib3.connection.HTTPConnection object at 0x7f5768765370>: Failed to establish a new connection: [Errno 110] Connection timed out'))\n"
     ]
    },
    {
     "name": "stderr",
     "output_type": "stream",
     "text": [
      " 86%|█████████████████████████████▎    | 30790/35731 [23:29:35<20:26,  4.03it/s]"
     ]
    },
    {
     "name": "stdout",
     "output_type": "stream",
     "text": [
      "0 HTTPConnectionPool(host='eprints.usm.my', port=80): Max retries exceeded with url: /56192/1/Nur%20Aisyah%20Mishardy-24%20pages.pdf (Caused by NewConnectionError('<urllib3.connection.HTTPConnection object at 0x7f5768741400>: Failed to establish a new connection: [Errno 110] Connection timed out'))\n"
     ]
    },
    {
     "name": "stderr",
     "output_type": "stream",
     "text": [
      " 86%|███████████████████████████▌    | 30818/35731 [23:32:27<1:42:44,  1.25s/it]"
     ]
    },
    {
     "name": "stdout",
     "output_type": "stream",
     "text": [
      "0 HTTPConnectionPool(host='eprints.usm.my', port=80): Max retries exceeded with url: /56225/1/00001634704%20P.K%20final.pdf (Caused by NewConnectionError('<urllib3.connection.HTTPConnection object at 0x7f57687a8be0>: Failed to establish a new connection: [Errno 110] Connection timed out'))\n",
      "1 HTTPConnectionPool(host='eprints.usm.my', port=80): Max retries exceeded with url: /56225/1/00001634704%20P.K%20final.pdf (Caused by NewConnectionError('<urllib3.connection.HTTPConnection object at 0x7f57687e9be0>: Failed to establish a new connection: [Errno 110] Connection timed out'))\n"
     ]
    },
    {
     "name": "stderr",
     "output_type": "stream",
     "text": [
      " 86%|█████████████████████████████▎    | 30835/35731 [23:37:33<53:52,  1.51it/s]"
     ]
    },
    {
     "name": "stdout",
     "output_type": "stream",
     "text": [
      "0 HTTPConnectionPool(host='eprints.usm.my', port=80): Max retries exceeded with url: /56248/1/DR%20MUHAMAD%20YUSRI%20MUSA%20-%20e.pdf (Caused by NewConnectionError('<urllib3.connection.HTTPConnection object at 0x7f5768753c40>: Failed to establish a new connection: [Errno 110] Connection timed out'))\n"
     ]
    },
    {
     "name": "stderr",
     "output_type": "stream",
     "text": [
      " 86%|███████████████████████████▋    | 30878/35731 [23:40:49<1:29:28,  1.11s/it]"
     ]
    },
    {
     "name": "stdout",
     "output_type": "stream",
     "text": [
      "0 HTTPConnectionPool(host='eprints.usm.my', port=80): Max retries exceeded with url: /56308/1/M.%20JAKFAR%20ABDULLAH24.pdf (Caused by NewConnectionError('<urllib3.connection.HTTPConnection object at 0x7f5768741b80>: Failed to establish a new connection: [Errno 110] Connection timed out'))\n"
     ]
    },
    {
     "name": "stderr",
     "output_type": "stream",
     "text": [
      " 86%|██████████████████████████▊    | 30880/35731 [23:43:03<38:35:29, 28.64s/it]"
     ]
    },
    {
     "name": "stdout",
     "output_type": "stream",
     "text": [
      "0 HTTPConnectionPool(host='eprints.usm.my', port=80): Max retries exceeded with url: /5631/1/RMT_556_-_PENGURUSAN_%26_ORGANISASI_PROJEK_APRIL-MAY_06.pdf (Caused by NewConnectionError('<urllib3.connection.HTTPConnection object at 0x7f576873b8b0>: Failed to establish a new connection: [Errno 110] Connection timed out'))\n"
     ]
    },
    {
     "name": "stderr",
     "output_type": "stream",
     "text": [
      " 86%|█████████████████████████████▍    | 30907/35731 [23:45:25<23:10,  3.47it/s]"
     ]
    },
    {
     "name": "stdout",
     "output_type": "stream",
     "text": [
      "0 HTTPConnectionPool(host='eprints.usm.my', port=80): Max retries exceeded with url: /56354/2/Siti%20Nur%20Aisyah%20Binti%20Zaid-24%20pages.pdf (Caused by NewConnectionError('<urllib3.connection.HTTPConnection object at 0x7f5768741820>: Failed to establish a new connection: [Errno 110] Connection timed out'))\n"
     ]
    },
    {
     "name": "stderr",
     "output_type": "stream",
     "text": [
      " 87%|█████████████████████████████▍    | 30974/35731 [23:48:00<35:35,  2.23it/s]"
     ]
    },
    {
     "name": "stdout",
     "output_type": "stream",
     "text": [
      "0 HTTPConnectionPool(host='eprints.usm.my', port=80): Max retries exceeded with url: /56435/1/Electrochemical%20Characterization%20Of%20Tin%20Electrode%20In%20Synthetic%20Seawater_Amanda%20Kwok%20Si%20En.pdf (Caused by NewConnectionError('<urllib3.connection.HTTPConnection object at 0x7f5768741b80>: Failed to establish a new connection: [Errno 110] Connection timed out'))\n"
     ]
    },
    {
     "name": "stderr",
     "output_type": "stream",
     "text": [
      " 87%|███████████████████████████▋    | 30982/35731 [23:50:17<5:21:52,  4.07s/it]"
     ]
    },
    {
     "name": "stdout",
     "output_type": "stream",
     "text": [
      "0 HTTPConnectionPool(host='eprints.usm.my', port=80): Max retries exceeded with url: /5646/1/LAE_100_-_BAHASA_SEPANYOL_I___APRIL_08.pdf (Caused by NewConnectionError('<urllib3.connection.HTTPConnection object at 0x7f5768799850>: Failed to establish a new connection: [Errno 110] Connection timed out'))\n"
     ]
    },
    {
     "name": "stderr",
     "output_type": "stream",
     "text": [
      " 87%|█████████████████████████████▌    | 31132/35731 [23:54:11<43:12,  1.77it/s]"
     ]
    },
    {
     "name": "stdout",
     "output_type": "stream",
     "text": [
      "0 HTTPConnectionPool(host='eprints.usm.my', port=80): Max retries exceeded with url: /56690/1/EAL339.pdf (Caused by NewConnectionError('<urllib3.connection.HTTPConnection object at 0x7f5768753c40>: Failed to establish a new connection: [Errno 110] Connection timed out'))\n"
     ]
    },
    {
     "name": "stderr",
     "output_type": "stream",
     "text": [
      " 87%|█████████████████████████████▋    | 31152/35731 [23:56:30<35:04,  2.18it/s]"
     ]
    },
    {
     "name": "stdout",
     "output_type": "stream",
     "text": [
      "0 HTTPConnectionPool(host='eprints.usm.my', port=80): Max retries exceeded with url: /56734/1/Physical%20And%20Chemical%20Characterization%20Of%20Granitic%20Rock%20For%20Ree%20Utilization_Nurul%20Syazni%20Kamso.pdf (Caused by NewConnectionError('<urllib3.connection.HTTPConnection object at 0x7f5768741e80>: Failed to establish a new connection: [Errno 110] Connection timed out'))\n"
     ]
    },
    {
     "name": "stderr",
     "output_type": "stream",
     "text": [
      " 87%|███████████████████████████▉    | 31180/35731 [23:59:01<2:24:03,  1.90s/it]"
     ]
    },
    {
     "name": "stdout",
     "output_type": "stream",
     "text": [
      "0 HTTPConnectionPool(host='eprints.usm.my', port=80): Max retries exceeded with url: /56773/1/00001651661%20Buyung%20Sarita.pdf (Caused by NewConnectionError('<urllib3.connection.HTTPConnection object at 0x7f576873b910>: Failed to establish a new connection: [Errno 110] Connection timed out'))\n"
     ]
    },
    {
     "name": "stderr",
     "output_type": "stream",
     "text": [
      " 87%|███████████████████████████▉    | 31194/35731 [24:02:19<7:51:22,  6.23s/it]"
     ]
    },
    {
     "name": "stdout",
     "output_type": "stream",
     "text": [
      "0 HTTPConnectionPool(host='eprints.usm.my', port=80): Max retries exceeded with url: /56788/1/00001791654%20Ahmad%20Fadhlul%20Irham%20Yusoff.pdf (Caused by NewConnectionError('<urllib3.connection.HTTPConnection object at 0x7f57687418e0>: Failed to establish a new connection: [Errno 110] Connection timed out'))\n"
     ]
    },
    {
     "name": "stderr",
     "output_type": "stream",
     "text": [
      " 87%|███████████████████████████    | 31197/35731 [24:04:41<29:10:08, 23.16s/it]"
     ]
    },
    {
     "name": "stdout",
     "output_type": "stream",
     "text": [
      "0 HTTPConnectionPool(host='eprints.usm.my', port=80): Max retries exceeded with url: /56792/1/Haider%20Ali%20Hasan%20Al-%20Shammari-24%20pages.pdf (Caused by NewConnectionError('<urllib3.connection.HTTPConnection object at 0x7f57687659d0>: Failed to establish a new connection: [Errno 110] Connection timed out'))\n"
     ]
    },
    {
     "name": "stderr",
     "output_type": "stream",
     "text": [
      " 87%|█████████████████████████████▋    | 31244/35731 [24:08:50<58:09,  1.29it/s]"
     ]
    },
    {
     "name": "stdout",
     "output_type": "stream",
     "text": [
      "0 HTTPConnectionPool(host='eprints.usm.my', port=80): Max retries exceeded with url: /56871/1/Calibration%20And%20Validation%20Of%20Vissim%20Simulation%20A%20Case%20Study%20Of%20Priority%20Bus%20Lane.pdf (Caused by NewConnectionError('<urllib3.connection.HTTPConnection object at 0x7f57687992b0>: Failed to establish a new connection: [Errno 110] Connection timed out'))\n"
     ]
    },
    {
     "name": "stderr",
     "output_type": "stream",
     "text": [
      " 87%|███████████████████████████▉    | 31256/35731 [24:11:09<1:34:41,  1.27s/it]"
     ]
    },
    {
     "name": "stdout",
     "output_type": "stream",
     "text": [
      "0 HTTPConnectionPool(host='eprints.usm.my', port=80): Max retries exceeded with url: /56882/1/Processing%20Of%20Red%20Gypsum%20Using%20Hyddrocyclone_Muhamad%20Hafizuddin%20Abd%20Jabar.pdf (Caused by NewConnectionError('<urllib3.connection.HTTPConnection object at 0x7f5768753fd0>: Failed to establish a new connection: [Errno 110] Connection timed out'))\n"
     ]
    },
    {
     "name": "stderr",
     "output_type": "stream",
     "text": [
      " 88%|████████████████████████████    | 31272/35731 [24:13:34<1:06:58,  1.11it/s]"
     ]
    },
    {
     "name": "stdout",
     "output_type": "stream",
     "text": [
      "0 HTTPConnectionPool(host='eprints.usm.my', port=80): Max retries exceeded with url: /56902/1/NADZIRAH%20BINTI%20MORSAD-24%20pages.pdf (Caused by NewConnectionError('<urllib3.connection.HTTPConnection object at 0x7f5768741e80>: Failed to establish a new connection: [Errno 110] Connection timed out'))\n"
     ]
    },
    {
     "name": "stderr",
     "output_type": "stream",
     "text": [
      " 88%|█████████████████████████████▊    | 31295/35731 [24:16:44<58:02,  1.27it/s]"
     ]
    },
    {
     "name": "stdout",
     "output_type": "stream",
     "text": [
      "0 HTTPConnectionPool(host='eprints.usm.my', port=80): Max retries exceeded with url: /56929/1/A%20Study%20On%20The%20Potential%20Of%20Tin%20Recovery%20From%20Iron%20Ore%20Tailing_Muhammad%20Faris%20Zamir%20Johar.pdf (Caused by NewConnectionError('<urllib3.connection.HTTPConnection object at 0x7f576873bbb0>: Failed to establish a new connection: [Errno 110] Connection timed out'))\n"
     ]
    },
    {
     "name": "stderr",
     "output_type": "stream",
     "text": [
      " 88%|███████████████████████████▏   | 31298/35731 [24:19:00<26:03:24, 21.16s/it]"
     ]
    },
    {
     "name": "stdout",
     "output_type": "stream",
     "text": [
      "0 HTTPConnectionPool(host='eprints.usm.my', port=80): Max retries exceeded with url: /56931/1/ZOYA%20KHAN.pdf (Caused by NewConnectionError('<urllib3.connection.HTTPConnection object at 0x7f5768741c10>: Failed to establish a new connection: [Errno 110] Connection timed out'))\n"
     ]
    },
    {
     "name": "stderr",
     "output_type": "stream",
     "text": [
      " 88%|████████████████████████████▏   | 31416/35731 [24:26:14<1:01:46,  1.16it/s]"
     ]
    },
    {
     "name": "stdout",
     "output_type": "stream",
     "text": [
      "0 HTTPConnectionPool(host='eprints.usm.my', port=80): Max retries exceeded with url: /57076/1/Kajian%20Kemapanan%20Perkhidmatan%20Feri%20Di%20Pulau%20Pinang_Nurul%20%E2%80%98Ashikin%20Md%20Nasir.pdf (Caused by NewConnectionError('<urllib3.connection.HTTPConnection object at 0x7f5768799610>: Failed to establish a new connection: [Errno 110] Connection timed out'))\n"
     ]
    },
    {
     "name": "stderr",
     "output_type": "stream",
     "text": [
      " 88%|████████████████████████████▏   | 31428/35731 [24:28:36<1:38:34,  1.37s/it]"
     ]
    },
    {
     "name": "stdout",
     "output_type": "stream",
     "text": [
      "0 HTTPConnectionPool(host='eprints.usm.my', port=80): Max retries exceeded with url: /57088/1/Effect%20Of%20Surface%20Geometry%20And%20Pretension%20Level%20On%20Vibration%20Of%20Tensioned%20Membrane%20Structures.pdf (Caused by NewConnectionError('<urllib3.connection.HTTPConnection object at 0x7f576874a8b0>: Failed to establish a new connection: [Errno 110] Connection timed out'))\n"
     ]
    },
    {
     "name": "stderr",
     "output_type": "stream",
     "text": [
      " 88%|████████████████████████████▏   | 31487/35731 [24:31:54<3:07:51,  2.66s/it]"
     ]
    },
    {
     "name": "stdout",
     "output_type": "stream",
     "text": [
      "0 HTTPConnectionPool(host='eprints.usm.my', port=80): Max retries exceeded with url: /57193/1/AQMQ%20NADIRA%20BINTI%20MOHD%20YUSOF%20-%20e.pdf (Caused by NewConnectionError('<urllib3.connection.HTTPConnection object at 0x7f5768765d60>: Failed to establish a new connection: [Errno 110] Connection timed out'))\n"
     ]
    },
    {
     "name": "stderr",
     "output_type": "stream",
     "text": [
      " 88%|████████████████████████████▏   | 31498/35731 [24:34:27<3:07:56,  2.66s/it]"
     ]
    },
    {
     "name": "stdout",
     "output_type": "stream",
     "text": [
      "0 HTTPConnectionPool(host='eprints.usm.my', port=80): Max retries exceeded with url: /57204/1/Noise%20Level%20Assessment%20In%20Engineering%20Campus%20Of%20Universiti%20Sains%20Malaysia%20A%20Comparison%20Before%20And%20During%20Covid-19%20Pandemic.pdf (Caused by NewConnectionError('<urllib3.connection.HTTPConnection object at 0x7f5768741820>: Failed to establish a new connection: [Errno 110] Connection timed out'))\n"
     ]
    },
    {
     "name": "stderr",
     "output_type": "stream",
     "text": [
      " 88%|████████████████████████████▎   | 31544/35731 [24:37:36<1:37:14,  1.39s/it]"
     ]
    },
    {
     "name": "stdout",
     "output_type": "stream",
     "text": [
      "0 HTTPConnectionPool(host='eprints.usm.my', port=80): Max retries exceeded with url: /57281/1/Pollutant%20Removal%20Performances%20Of%20Tropical%20Wetland%20Plants%20In%20Treating%20Domestic%20Wastewater%20Using%20Mesocosm%20Studies.pdf (Caused by NewConnectionError('<urllib3.connection.HTTPConnection object at 0x7f5768741310>: Failed to establish a new connection: [Errno 110] Connection timed out'))\n"
     ]
    },
    {
     "name": "stderr",
     "output_type": "stream",
     "text": [
      " 88%|██████████████████████████████    | 31599/35731 [24:41:35<58:25,  1.18it/s]"
     ]
    },
    {
     "name": "stdout",
     "output_type": "stream",
     "text": [
      "0 HTTPConnectionPool(host='eprints.usm.my', port=80): Max retries exceeded with url: /57339/1/MUHAMMAD%20NAEIM%20BIN%20MOHAMAD%20ASRI-FINAL%20THESIS%20P-SKD000618%28R%29%20-24%20pages.pdf (Caused by NewConnectionError('<urllib3.connection.HTTPConnection object at 0x7f576874a400>: Failed to establish a new connection: [Errno 110] Connection timed out'))\n"
     ]
    },
    {
     "name": "stderr",
     "output_type": "stream",
     "text": [
      " 89%|████████████████████████████▎   | 31682/35731 [24:45:29<2:10:38,  1.94s/it]"
     ]
    },
    {
     "name": "stdout",
     "output_type": "stream",
     "text": [
      "0 HTTPConnectionPool(host='eprints.usm.my', port=80): Max retries exceeded with url: /57461/1/PROF%20MADYA%20ZAINUL%20AHMAD%20RAJION.pdf (Caused by NewConnectionError('<urllib3.connection.HTTPConnection object at 0x7f5768799970>: Failed to establish a new connection: [Errno 110] Connection timed out'))\n"
     ]
    },
    {
     "name": "stderr",
     "output_type": "stream",
     "text": [
      " 89%|████████████████████████████▍   | 31711/35731 [24:48:27<1:11:46,  1.07s/it]"
     ]
    },
    {
     "name": "stdout",
     "output_type": "stream",
     "text": [
      "0 HTTPConnectionPool(host='eprints.usm.my', port=80): Max retries exceeded with url: /5750/1/Document-7828_Version-8417_application-pdf_0.pdf (Caused by NewConnectionError('<urllib3.connection.HTTPConnection object at 0x7f5768799a60>: Failed to establish a new connection: [Errno 110] Connection timed out'))\n"
     ]
    },
    {
     "name": "stderr",
     "output_type": "stream",
     "text": [
      " 89%|████████████████████████████▍   | 31742/35731 [24:52:03<1:52:51,  1.70s/it]"
     ]
    },
    {
     "name": "stdout",
     "output_type": "stream",
     "text": [
      "0 HTTPConnectionPool(host='eprints.usm.my', port=80): Max retries exceeded with url: /57558/1/NURUL%20SYIMIR%20BINTI%20MD%20RIDZUAN-24%20pages.pdf (Caused by NewConnectionError('<urllib3.connection.HTTPConnection object at 0x7f576874a340>: Failed to establish a new connection: [Errno 110] Connection timed out'))\n"
     ]
    },
    {
     "name": "stderr",
     "output_type": "stream",
     "text": [
      " 89%|███████████████████████████▌   | 31744/35731 [24:54:18<32:15:53, 29.13s/it]"
     ]
    },
    {
     "name": "stdout",
     "output_type": "stream",
     "text": [
      "0 HTTPConnectionPool(host='eprints.usm.my', port=80): Max retries exceeded with url: /5756/1/BBT_211%5B3_-ALAM_TUMBUHAN_OKT_2004.pdf (Caused by NewConnectionError('<urllib3.connection.HTTPConnection object at 0x7f5768741310>: Failed to establish a new connection: [Errno 110] Connection timed out'))\n"
     ]
    },
    {
     "name": "stderr",
     "output_type": "stream",
     "text": [
      " 89%|██████████████████████████████▏   | 31777/35731 [24:56:54<29:12,  2.26it/s]"
     ]
    },
    {
     "name": "stdout",
     "output_type": "stream",
     "text": [
      "0 HTTPConnectionPool(host='eprints.usm.my', port=80): Max retries exceeded with url: /57591/1/Antena%20Pintar_Ahmad%20Khairol%20Azhani%20Khalid.pdf (Caused by NewConnectionError('<urllib3.connection.HTTPConnection object at 0x7f5768741190>: Failed to establish a new connection: [Errno 110] Connection timed out'))\n"
     ]
    },
    {
     "name": "stderr",
     "output_type": "stream",
     "text": [
      " 89%|████████████████████████████▍   | 31783/35731 [24:59:08<7:49:10,  7.13s/it]"
     ]
    },
    {
     "name": "stdout",
     "output_type": "stream",
     "text": [
      "0 HTTPConnectionPool(host='eprints.usm.my', port=80): Max retries exceeded with url: /57598/1/Syed%20Mohd%20Adli%20Syed%20Mohd%20Gawi%20-%20e.pdf (Caused by NewConnectionError('<urllib3.connection.HTTPConnection object at 0x7f576874a250>: Failed to establish a new connection: [Errno 110] Connection timed out'))\n",
      "1 HTTPConnectionPool(host='eprints.usm.my', port=80): Max retries exceeded with url: /57598/1/Syed%20Mohd%20Adli%20Syed%20Mohd%20Gawi%20-%20e.pdf (Caused by NewConnectionError('<urllib3.connection.HTTPConnection object at 0x7f57687e9cd0>: Failed to establish a new connection: [Errno 110] Connection timed out'))\n"
     ]
    },
    {
     "name": "stderr",
     "output_type": "stream",
     "text": [
      " 89%|████████████████████████████▍   | 31796/35731 [25:03:56<3:23:46,  3.11s/it]"
     ]
    },
    {
     "name": "stdout",
     "output_type": "stream",
     "text": [
      "0 HTTPConnectionPool(host='eprints.usm.my', port=80): Max retries exceeded with url: /57611/1/Design%20Of%20A%20200watts%2C%2012volts%20Output%20Voltage%20Buck-Boost%20DC-DC%20Converter%20For%20Photovaltaic%20Application_Lau%20Phooi%20San.pdf (Caused by NewConnectionError('<urllib3.connection.HTTPConnection object at 0x7f57687e9700>: Failed to establish a new connection: [Errno 110] Connection timed out'))\n"
     ]
    },
    {
     "name": "stderr",
     "output_type": "stream",
     "text": [
      " 89%|████████████████████████████▌   | 31854/35731 [25:08:16<9:02:15,  8.39s/it]"
     ]
    },
    {
     "name": "stdout",
     "output_type": "stream",
     "text": [
      "0 HTTPConnectionPool(host='eprints.usm.my', port=80): Max retries exceeded with url: /57695/1/00001765581%20Mahmood%20Ahmed%20Hassan%20Ahmed24.pdf (Caused by NewConnectionError('<urllib3.connection.HTTPConnection object at 0x7f576874a400>: Failed to establish a new connection: [Errno 110] Connection timed out'))\n"
     ]
    },
    {
     "name": "stderr",
     "output_type": "stream",
     "text": [
      " 89%|███████████████████████████▋   | 31860/35731 [25:11:34<16:28:36, 15.32s/it]"
     ]
    },
    {
     "name": "stdout",
     "output_type": "stream",
     "text": [
      "0 HTTPConnectionPool(host='eprints.usm.my', port=80): Max retries exceeded with url: /5770/1/Document-7840_Version-8429_application-pdf_0.pdf (Caused by NewConnectionError('<urllib3.connection.HTTPConnection object at 0x7f576873bd30>: Failed to establish a new connection: [Errno 110] Connection timed out'))\n"
     ]
    },
    {
     "name": "stderr",
     "output_type": "stream",
     "text": [
      " 89%|████████████████████████████▌   | 31898/35731 [25:15:27<1:00:54,  1.05it/s]"
     ]
    },
    {
     "name": "stdout",
     "output_type": "stream",
     "text": [
      "0 HTTPConnectionPool(host='eprints.usm.my', port=80): Max retries exceeded with url: /57762/1/NORLIANA%20BINTI%20GHAZALI-FINAL%20THESIS%20S-SGD000714%28R%29%20-24%20pages.pdf (Caused by NewConnectionError('<urllib3.connection.HTTPConnection object at 0x7f576873bcd0>: Failed to establish a new connection: [Errno 110] Connection timed out'))\n"
     ]
    },
    {
     "name": "stderr",
     "output_type": "stream",
     "text": [
      " 89%|███████████████████████████▋   | 31903/35731 [25:17:46<11:54:29, 11.20s/it]"
     ]
    },
    {
     "name": "stdout",
     "output_type": "stream",
     "text": [
      "0 HTTPConnectionPool(host='eprints.usm.my', port=80): Max retries exceeded with url: /57780/1/FLORANCE%20GEDUIN%20-%20e.pdf (Caused by NewConnectionError('<urllib3.connection.HTTPConnection object at 0x7f576874a400>: Failed to establish a new connection: [Errno 110] Connection timed out'))\n"
     ]
    },
    {
     "name": "stderr",
     "output_type": "stream",
     "text": [
      " 90%|████████████████████████████▋   | 31980/35731 [25:21:48<3:45:59,  3.61s/it]"
     ]
    },
    {
     "name": "stdout",
     "output_type": "stream",
     "text": [
      "0 HTTPConnectionPool(host='eprints.usm.my', port=80): Max retries exceeded with url: /57916/1/MUHAMMAD%20FIRDAUS%20BIN%20BAHARUDIN-24%20pages.pdf (Caused by NewConnectionError('<urllib3.connection.HTTPConnection object at 0x7f57687a8fd0>: Failed to establish a new connection: [Errno 110] Connection timed out'))\n"
     ]
    },
    {
     "name": "stderr",
     "output_type": "stream",
     "text": [
      " 90%|████████████████████████████▋   | 32019/35731 [25:25:32<4:22:08,  4.24s/it]"
     ]
    },
    {
     "name": "stdout",
     "output_type": "stream",
     "text": [
      "0 HTTPConnectionPool(host='eprints.usm.my', port=80): Max retries exceeded with url: /57975/1/1155-1160%20Pages%20from%2000001723485-24.pdf (Caused by NewConnectionError('<urllib3.connection.HTTPConnection object at 0x7f57687e9a90>: Failed to establish a new connection: [Errno 110] Connection timed out'))\n"
     ]
    },
    {
     "name": "stderr",
     "output_type": "stream",
     "text": [
      " 90%|████████████████████████████▋   | 32032/35731 [25:28:04<3:47:03,  3.68s/it]"
     ]
    },
    {
     "name": "stdout",
     "output_type": "stream",
     "text": [
      "0 HTTPConnectionPool(host='eprints.usm.my', port=80): Max retries exceeded with url: /57989/1/Sistem%20Pengawal%20Motor%20Tak%20Lelurus_Siti%20Nor%20Hajar%20Abd.%20Razak.pdf (Caused by NewConnectionError('<urllib3.connection.HTTPConnection object at 0x7f57687a8e80>: Failed to establish a new connection: [Errno 110] Connection timed out'))\n"
     ]
    },
    {
     "name": "stderr",
     "output_type": "stream",
     "text": [
      " 90%|███████████████████████████▊   | 32037/35731 [25:30:27<13:01:23, 12.69s/it]"
     ]
    },
    {
     "name": "stdout",
     "output_type": "stream",
     "text": [
      "0 HTTPConnectionPool(host='eprints.usm.my', port=80): Max retries exceeded with url: /57999/1/SITI%20NORSHUHADA%20BINTI%20DOLLAH%20-%20e.pdf (Caused by NewConnectionError('<urllib3.connection.HTTPConnection object at 0x7f576873baf0>: Failed to establish a new connection: [Errno 110] Connection timed out'))\n"
     ]
    },
    {
     "name": "stderr",
     "output_type": "stream",
     "text": [
      " 90%|████████████████████████████▋   | 32072/35731 [25:33:41<1:46:25,  1.75s/it]"
     ]
    },
    {
     "name": "stdout",
     "output_type": "stream",
     "text": [
      "0 HTTPConnectionPool(host='eprints.usm.my', port=80): Max retries exceeded with url: /58056/1/1257-1268%20Pages%20from%2000001723485-42.pdf (Caused by NewConnectionError('<urllib3.connection.HTTPConnection object at 0x7f576875e430>: Failed to establish a new connection: [Errno 110] Connection timed out'))\n"
     ]
    },
    {
     "name": "stderr",
     "output_type": "stream",
     "text": [
      " 90%|████████████████████████████▋   | 32082/35731 [25:36:02<2:27:42,  2.43s/it]"
     ]
    },
    {
     "name": "stdout",
     "output_type": "stream",
     "text": [
      "0 HTTPConnectionPool(host='eprints.usm.my', port=80): Max retries exceeded with url: /58071/1/Assessment%20Of%20Indoor%20Particulate%20Matter%20%28Pm2.5%29%20In%20Newly%20Renovated%20Rooms%20At%20School%20Of%20Civil%20Engineering%20Building%20%2C%20Usm.pdf (Caused by NewConnectionError('<urllib3.connection.HTTPConnection object at 0x7f576874a190>: Failed to establish a new connection: [Errno 110] Connection timed out'))\n"
     ]
    },
    {
     "name": "stderr",
     "output_type": "stream",
     "text": [
      " 90%|███████████████████████████▊   | 32084/35731 [25:38:15<29:50:23, 29.46s/it]"
     ]
    },
    {
     "name": "stdout",
     "output_type": "stream",
     "text": [
      "0 HTTPConnectionPool(host='eprints.usm.my', port=80): Max retries exceeded with url: /58076/1/NUR%20ZAKIAH%20BINTI%20KAMARUDIN-24%20pages.pdf (Caused by NewConnectionError('<urllib3.connection.HTTPConnection object at 0x7f57687992b0>: Failed to establish a new connection: [Errno 110] Connection timed out'))\n"
     ]
    },
    {
     "name": "stderr",
     "output_type": "stream",
     "text": [
      " 90%|███████████████████████████▊   | 32086/35731 [25:40:33<43:56:01, 43.39s/it]"
     ]
    },
    {
     "name": "stdout",
     "output_type": "stream",
     "text": [
      "0 HTTPConnectionPool(host='eprints.usm.my', port=80): Max retries exceeded with url: /58079/1/Biosorption%20Of%20Colour%20In%20Landfill%20Leachate%20Using%20Raw%20Hydrilla%20Sp...pdf (Caused by NewConnectionError('<urllib3.connection.HTTPConnection object at 0x7f57687e94f0>: Failed to establish a new connection: [Errno 110] Connection timed out'))\n"
     ]
    },
    {
     "name": "stderr",
     "output_type": "stream",
     "text": [
      " 90%|████████████████████████████▊   | 32120/35731 [25:43:20<1:01:26,  1.02s/it]"
     ]
    },
    {
     "name": "stdout",
     "output_type": "stream",
     "text": [
      "0 HTTPConnectionPool(host='eprints.usm.my', port=80): Max retries exceeded with url: /58132/1/DR%20TEGUH%20HARYO%20SASONGKO-Eprints.pdf (Caused by NewConnectionError('<urllib3.connection.HTTPConnection object at 0x7f576873fe20>: Failed to establish a new connection: [Errno 110] Connection timed out'))\n"
     ]
    },
    {
     "name": "stderr",
     "output_type": "stream",
     "text": [
      " 90%|████████████████████████████▊   | 32130/35731 [25:45:40<2:57:09,  2.95s/it]"
     ]
    },
    {
     "name": "stdout",
     "output_type": "stream",
     "text": [
      "0 HTTPConnectionPool(host='eprints.usm.my', port=80): Max retries exceeded with url: /58143/1/1341-1344%20Pages%20from%2000001723485-62.pdf (Caused by NewConnectionError('<urllib3.connection.HTTPConnection object at 0x7f576875e400>: Failed to establish a new connection: [Errno 110] Connection timed out'))\n"
     ]
    },
    {
     "name": "stderr",
     "output_type": "stream",
     "text": [
      " 90%|██████████████████████████████▌   | 32172/35731 [25:48:29<34:48,  1.70it/s]"
     ]
    },
    {
     "name": "stdout",
     "output_type": "stream",
     "text": [
      "0 HTTPConnectionPool(host='eprints.usm.my', port=80): Max retries exceeded with url: /58185/1/1367-1374%20Pages%20from%2000001723485-68.pdf (Caused by NewConnectionError('<urllib3.connection.HTTPConnection object at 0x7f576873b730>: Failed to establish a new connection: [Errno 110] Connection timed out'))\n"
     ]
    },
    {
     "name": "stderr",
     "output_type": "stream",
     "text": [
      " 90%|████████████████████████████▊   | 32181/35731 [25:50:53<3:24:32,  3.46s/it]"
     ]
    },
    {
     "name": "stdout",
     "output_type": "stream",
     "text": [
      "0 HTTPConnectionPool(host='eprints.usm.my', port=80): Max retries exceeded with url: /58194/1/Recovery%20Of%20Titanium%20Dioxide%20%28Tio2%29%20From%20The%20Photocatalysis%20Process.pdf (Caused by NewConnectionError('<urllib3.connection.HTTPConnection object at 0x7f576874abe0>: Failed to establish a new connection: [Errno 110] Connection timed out'))\n"
     ]
    },
    {
     "name": "stderr",
     "output_type": "stream",
     "text": [
      " 90%|███████████████████████████▉   | 32183/35731 [25:53:05<29:08:59, 29.58s/it]"
     ]
    },
    {
     "name": "stdout",
     "output_type": "stream",
     "text": [
      "0 HTTPConnectionPool(host='eprints.usm.my', port=80): Max retries exceeded with url: /58196/1/Hand%20Arm%20Vibration%20Exposure%20Of%20The%20Chainsaw%20Machine_Prakash%20Gurasekeran.pdf (Caused by NewConnectionError('<urllib3.connection.HTTPConnection object at 0x7f5768799730>: Failed to establish a new connection: [Errno 110] Connection timed out'))\n"
     ]
    },
    {
     "name": "stderr",
     "output_type": "stream",
     "text": [
      " 90%|██████████████████████████████▋   | 32217/35731 [25:56:00<26:08,  2.24it/s]"
     ]
    },
    {
     "name": "stdout",
     "output_type": "stream",
     "text": [
      "0 HTTPConnectionPool(host='eprints.usm.my', port=80): Max retries exceeded with url: /58231/1/Characterization%20Of%20Spatial%20Variability%20Of%20Soil%20Engineering%20Properties%20At%20USM%20Engineering%20Campus_Ling%20Chee%20Kiong.pdf (Caused by NewConnectionError('<urllib3.connection.HTTPConnection object at 0x7f57687e9820>: Failed to establish a new connection: [Errno 110] Connection timed out'))\n"
     ]
    },
    {
     "name": "stderr",
     "output_type": "stream",
     "text": [
      " 90%|████████████████████████████▊   | 32222/35731 [25:58:14<9:37:22,  9.87s/it]"
     ]
    },
    {
     "name": "stdout",
     "output_type": "stream",
     "text": [
      "0 HTTPConnectionPool(host='eprints.usm.my', port=80): Max retries exceeded with url: /58236/1/0043.ZGT%202693%20-%20Geofizik%20Pencarigalian%20II.pdf (Caused by NewConnectionError('<urllib3.connection.HTTPConnection object at 0x7f57687a8b80>: Failed to establish a new connection: [Errno 110] Connection timed out'))\n"
     ]
    },
    {
     "name": "stderr",
     "output_type": "stream",
     "text": [
      " 91%|██████████████████████████████▊   | 32396/35731 [26:03:42<16:32,  3.36it/s]"
     ]
    },
    {
     "name": "stdout",
     "output_type": "stream",
     "text": [
      "0 HTTPConnectionPool(host='eprints.usm.my', port=80): Max retries exceeded with url: /58495/1/MOHAMAD%20FIRDAUS%20ABDUL%20LATIFF-24%20pages.pdf (Caused by NewConnectionError('<urllib3.connection.HTTPConnection object at 0x7f576873b730>: Failed to establish a new connection: [Errno 110] Connection timed out'))\n"
     ]
    },
    {
     "name": "stderr",
     "output_type": "stream",
     "text": [
      " 91%|██████████████████████████████▉   | 32447/35731 [26:06:27<25:29,  2.15it/s]"
     ]
    },
    {
     "name": "stdout",
     "output_type": "stream",
     "text": [
      "0 HTTPConnectionPool(host='eprints.usm.my', port=80): Max retries exceeded with url: /58562/1/DR%20DORA%20NATASHA%20AMRAN-24%20pages.pdf (Caused by NewConnectionError('<urllib3.connection.HTTPConnection object at 0x7f576875e4c0>: Failed to establish a new connection: [Errno 110] Connection timed out'))\n"
     ]
    },
    {
     "name": "stderr",
     "output_type": "stream",
     "text": [
      " 91%|██████████████████████████████▉   | 32494/35731 [26:09:02<17:26,  3.09it/s]"
     ]
    },
    {
     "name": "stdout",
     "output_type": "stream",
     "text": [
      "0 HTTPConnectionPool(host='eprints.usm.my', port=80): Max retries exceeded with url: /58620/1/Comparison%20Of%20Engine%20Performance%20For%20Different%20Type%20Of%20Engines%20With%20Alternative%20Fuels%20During%20Complete%20Flight%20Trajectory.pdf (Caused by NewConnectionError('<urllib3.connection.HTTPConnection object at 0x7f576874a9a0>: Failed to establish a new connection: [Errno 110] Connection timed out'))\n"
     ]
    },
    {
     "name": "stderr",
     "output_type": "stream",
     "text": [
      " 91%|███████████████████████████████   | 32660/35731 [26:12:30<10:24,  4.92it/s]"
     ]
    },
    {
     "name": "stdout",
     "output_type": "stream",
     "text": [
      "0 HTTPConnectionPool(host='eprints.usm.my', port=80): Max retries exceeded with url: /5976/1/JKP_415_-_ORGANISASI_ANTARABANGSA_APRIL_08.pdf (Caused by NewConnectionError('<urllib3.connection.HTTPConnection object at 0x7f5768799ac0>: Failed to establish a new connection: [Errno 110] Connection timed out'))\n"
     ]
    },
    {
     "name": "stderr",
     "output_type": "stream",
     "text": [
      " 91%|███████████████████████████████   | 32673/35731 [26:14:44<37:00,  1.38it/s]"
     ]
    },
    {
     "name": "stdout",
     "output_type": "stream",
     "text": [
      "0 HTTPConnectionPool(host='eprints.usm.my', port=80): Max retries exceeded with url: /5988/1/JMK_315E_-_SELECTED_WORKS_OF_MODERN_AFRICAN_LITERATURE_APRIL_08.pdf (Caused by NewConnectionError('<urllib3.connection.HTTPConnection object at 0x7f57687e9be0>: Failed to establish a new connection: [Errno 110] Connection timed out'))\n"
     ]
    },
    {
     "name": "stderr",
     "output_type": "stream",
     "text": [
      " 92%|███████████████████████████████   | 32699/35731 [26:17:01<13:12,  3.83it/s]"
     ]
    },
    {
     "name": "stdout",
     "output_type": "stream",
     "text": [
      "0 HTTPConnectionPool(host='eprints.usm.my', port=80): Max retries exceeded with url: /602/1/JIB_212_-_EKOLOGII_MAC_05.pdf (Caused by NewConnectionError('<urllib3.connection.HTTPConnection object at 0x7f57687a8760>: Failed to establish a new connection: [Errno 110] Connection timed out'))\n"
     ]
    },
    {
     "name": "stderr",
     "output_type": "stream",
     "text": [
      " 92%|███████████████████████████████▏  | 32720/35731 [26:19:18<11:45,  4.27it/s]"
     ]
    },
    {
     "name": "stdout",
     "output_type": "stream",
     "text": [
      "0 HTTPConnectionPool(host='eprints.usm.my', port=80): Max retries exceeded with url: /604/1/JIB_214_-_ATATOMI_TUMBUHAN_MAC_05.pdf (Caused by NewConnectionError('<urllib3.connection.HTTPConnection object at 0x7f576875e910>: Failed to establish a new connection: [Errno 110] Connection timed out'))\n"
     ]
    },
    {
     "name": "stderr",
     "output_type": "stream",
     "text": [
      " 92%|████████████████████████████▍  | 32723/35731 [26:21:29<16:13:23, 19.42s/it]"
     ]
    },
    {
     "name": "stdout",
     "output_type": "stream",
     "text": [
      "0 HTTPConnectionPool(host='eprints.usm.my', port=80): Max retries exceeded with url: /6042/1/Document-12116_Version-12720_application-pdf_0.pdf (Caused by NewConnectionError('<urllib3.connection.HTTPConnection object at 0x7f576873b910>: Failed to establish a new connection: [Errno 110] Connection timed out'))\n"
     ]
    },
    {
     "name": "stderr",
     "output_type": "stream",
     "text": [
      " 92%|█████████████████████████████▎  | 32735/35731 [26:23:42<1:01:01,  1.22s/it]"
     ]
    },
    {
     "name": "stdout",
     "output_type": "stream",
     "text": [
      "0 HTTPConnectionPool(host='eprints.usm.my', port=80): Max retries exceeded with url: /6054/1/Document-8643_Version-9232_application-pdf_0.pdf (Caused by NewConnectionError('<urllib3.connection.HTTPConnection object at 0x7f576874a220>: Failed to establish a new connection: [Errno 110] Connection timed out'))\n"
     ]
    },
    {
     "name": "stderr",
     "output_type": "stream",
     "text": [
      " 92%|████████████████████████████▍  | 32738/35731 [26:25:53<16:27:48, 19.80s/it]"
     ]
    },
    {
     "name": "stdout",
     "output_type": "stream",
     "text": [
      "0 HTTPConnectionPool(host='eprints.usm.my', port=80): Max retries exceeded with url: /6057/1/Document-12124_Version-12728_application-pdf_0.pdf (Caused by NewConnectionError('<urllib3.connection.HTTPConnection object at 0x7f57687a8d90>: Failed to establish a new connection: [Errno 110] Connection timed out'))\n"
     ]
    },
    {
     "name": "stderr",
     "output_type": "stream",
     "text": [
      " 92%|████████████████████████████▍  | 32740/35731 [26:28:04<30:53:50, 37.19s/it]"
     ]
    },
    {
     "name": "stdout",
     "output_type": "stream",
     "text": [
      "0 HTTPConnectionPool(host='eprints.usm.my', port=80): Max retries exceeded with url: /6059/1/Document-8725_Version-9316_application-pdf_0.pdf (Caused by NewConnectionError('<urllib3.connection.HTTPConnection object at 0x7f57687a8cd0>: Failed to establish a new connection: [Errno 110] Connection timed out'))\n"
     ]
    },
    {
     "name": "stderr",
     "output_type": "stream",
     "text": [
      " 92%|█████████████████████████████▎  | 32747/35731 [26:30:17<6:31:58,  7.88s/it]"
     ]
    },
    {
     "name": "stdout",
     "output_type": "stream",
     "text": [
      "0 HTTPConnectionPool(host='eprints.usm.my', port=80): Max retries exceeded with url: /6066/1/Document-12129_Version-12733_application-pdf_0.pdf (Caused by NewConnectionError('<urllib3.connection.HTTPConnection object at 0x7f5768741250>: Failed to establish a new connection: [Errno 110] Connection timed out'))\n"
     ]
    },
    {
     "name": "stderr",
     "output_type": "stream",
     "text": [
      " 92%|███████████████████████████████▏  | 32766/35731 [26:32:32<14:45,  3.35it/s]"
     ]
    },
    {
     "name": "stdout",
     "output_type": "stream",
     "text": [
      "0 HTTPConnectionPool(host='eprints.usm.my', port=80): Max retries exceeded with url: /6084/1/Document-12137_Version-12741_application-pdf_0.pdf (Caused by NewConnectionError('<urllib3.connection.HTTPConnection object at 0x7f576873b790>: Failed to establish a new connection: [Errno 110] Connection timed out'))\n"
     ]
    },
    {
     "name": "stderr",
     "output_type": "stream",
     "text": [
      " 92%|███████████████████████████████▏  | 32784/35731 [26:34:47<14:20,  3.43it/s]"
     ]
    },
    {
     "name": "stdout",
     "output_type": "stream",
     "text": [
      "0 HTTPConnectionPool(host='eprints.usm.my', port=80): Max retries exceeded with url: /6116/1/JIB_416_-_FISIOLOGI_PERKEMBANGAN_TUMBUHAN_APRIL_08.pdf (Caused by NewConnectionError('<urllib3.connection.HTTPConnection object at 0x7f576875e640>: Failed to establish a new connection: [Errno 110] Connection timed out'))\n"
     ]
    },
    {
     "name": "stderr",
     "output_type": "stream",
     "text": [
      " 92%|█████████████████████████████▎  | 32789/35731 [26:37:00<7:54:50,  9.68s/it]"
     ]
    },
    {
     "name": "stdout",
     "output_type": "stream",
     "text": [
      "0 HTTPConnectionPool(host='eprints.usm.my', port=80): Max retries exceeded with url: /6138/1/Document-12180_Version-12784_application-pdf_0.pdf (Caused by NewConnectionError('<urllib3.connection.HTTPConnection object at 0x7f576874a040>: Failed to establish a new connection: [Errno 110] Connection timed out'))\n"
     ]
    },
    {
     "name": "stderr",
     "output_type": "stream",
     "text": [
      " 92%|███████████████████████████████▏  | 32809/35731 [26:39:15<20:09,  2.42it/s]"
     ]
    },
    {
     "name": "stdout",
     "output_type": "stream",
     "text": [
      "0 HTTPConnectionPool(host='eprints.usm.my', port=80): Max retries exceeded with url: /6157/1/UAW_303_-_ARKEOLOGI_ASIA_TENGGARA__APRIL_08.pdf (Caused by NewConnectionError('<urllib3.connection.HTTPConnection object at 0x7f576874a400>: Failed to establish a new connection: [Errno 110] Connection timed out'))\n"
     ]
    },
    {
     "name": "stderr",
     "output_type": "stream",
     "text": [
      " 92%|████████████████████████████▍  | 32812/35731 [26:41:28<15:56:55, 19.67s/it]"
     ]
    },
    {
     "name": "stdout",
     "output_type": "stream",
     "text": [
      "0 HTTPConnectionPool(host='eprints.usm.my', port=80): Max retries exceeded with url: /616/1/JIB_417_-_PERLAKUAN_HAIWAN_MAC_05.pdf (Caused by NewConnectionError('<urllib3.connection.HTTPConnection object at 0x7f57687e9b80>: Failed to establish a new connection: [Errno 110] Connection timed out'))\n",
      "1 HTTPConnectionPool(host='eprints.usm.my', port=80): Max retries exceeded with url: /616/1/JIB_417_-_PERLAKUAN_HAIWAN_MAC_05.pdf (Caused by NewConnectionError('<urllib3.connection.HTTPConnection object at 0x7f576874aaf0>: Failed to establish a new connection: [Errno 110] Connection timed out'))\n"
     ]
    },
    {
     "name": "stderr",
     "output_type": "stream",
     "text": [
      " 92%|███████████████████████████████▏  | 32828/35731 [26:45:53<30:21,  1.59it/s]"
     ]
    },
    {
     "name": "stdout",
     "output_type": "stream",
     "text": [
      "0 HTTPConnectionPool(host='eprints.usm.my', port=80): Max retries exceeded with url: /6174/1/Document-12190_Version-12794_application-pdf_0.pdf (Caused by NewConnectionError('<urllib3.connection.HTTPConnection object at 0x7f5768741fd0>: Failed to establish a new connection: [Errno 110] Connection timed out'))\n"
     ]
    },
    {
     "name": "stderr",
     "output_type": "stream",
     "text": [
      " 92%|███████████████████████████████▎  | 32842/35731 [26:48:07<27:20,  1.76it/s]"
     ]
    },
    {
     "name": "stdout",
     "output_type": "stream",
     "text": [
      "0 HTTPConnectionPool(host='eprints.usm.my', port=80): Max retries exceeded with url: /619/1/JIB_420_-_EKOLOGI_SUMBER_ALAM_MAC_05.pdf (Caused by NewConnectionError('<urllib3.connection.HTTPConnection object at 0x7f576873beb0>: Failed to establish a new connection: [Errno 110] Connection timed out'))\n"
     ]
    },
    {
     "name": "stderr",
     "output_type": "stream",
     "text": [
      " 92%|███████████████████████████████▎  | 32873/35731 [26:50:26<22:21,  2.13it/s]"
     ]
    },
    {
     "name": "stdout",
     "output_type": "stream",
     "text": [
      "0 HTTPConnectionPool(host='eprints.usm.my', port=80): Max retries exceeded with url: /6220/1/KAT_244_-_SEPARATION_METHODS_APRIL_08.pdf (Caused by NewConnectionError('<urllib3.connection.HTTPConnection object at 0x7f576875ee20>: Failed to establish a new connection: [Errno 110] Connection timed out'))\n"
     ]
    },
    {
     "name": "stderr",
     "output_type": "stream",
     "text": [
      " 92%|███████████████████████████████▎  | 32898/35731 [26:53:16<52:14,  1.11s/it]"
     ]
    },
    {
     "name": "stdout",
     "output_type": "stream",
     "text": [
      "0 HTTPConnectionPool(host='eprints.usm.my', port=80): Max retries exceeded with url: /6243/1/REG_363_-_PENYELIDIKAN_TAPAK__APRIL_08.pdf (Caused by NewConnectionError('<urllib3.connection.HTTPConnection object at 0x7f576874a9a0>: Failed to establish a new connection: [Errno 110] Connection timed out'))\n",
      "1 HTTPConnectionPool(host='eprints.usm.my', port=80): Max retries exceeded with url: /6243/1/REG_363_-_PENYELIDIKAN_TAPAK__APRIL_08.pdf (Caused by NewConnectionError('<urllib3.connection.HTTPConnection object at 0x7f576874a070>: Failed to establish a new connection: [Errno 110] Connection timed out'))\n"
     ]
    },
    {
     "name": "stderr",
     "output_type": "stream",
     "text": [
      " 92%|███████████████████████████████▍  | 33006/35731 [26:58:38<22:48,  1.99it/s]"
     ]
    },
    {
     "name": "stdout",
     "output_type": "stream",
     "text": [
      "0 HTTPConnectionPool(host='eprints.usm.my', port=80): Max retries exceeded with url: /6353/1/Document-12802_Version-13487_application-pdf_0.pdf (Caused by NewConnectionError('<urllib3.connection.HTTPConnection object at 0x7f57687a8370>: Failed to establish a new connection: [Errno 110] Connection timed out'))\n"
     ]
    },
    {
     "name": "stderr",
     "output_type": "stream",
     "text": [
      " 92%|███████████████████████████████▍  | 33028/35731 [27:01:01<20:57,  2.15it/s]"
     ]
    },
    {
     "name": "stdout",
     "output_type": "stream",
     "text": [
      "0 HTTPConnectionPool(host='eprints.usm.my', port=80): Max retries exceeded with url: /6382/1/Document-13239_Version-13924_application-pdf_0.pdf (Caused by NewConnectionError('<urllib3.connection.HTTPConnection object at 0x7f576873b970>: Failed to establish a new connection: [Errno 110] Connection timed out'))\n"
     ]
    },
    {
     "name": "stderr",
     "output_type": "stream",
     "text": [
      " 92%|███████████████████████████████▍  | 33044/35731 [27:05:30<33:02,  1.36it/s]"
     ]
    },
    {
     "name": "stdout",
     "output_type": "stream",
     "text": [
      "0 HTTPConnectionPool(host='eprints.usm.my', port=80): Max retries exceeded with url: /6396/1/Document-12864_Version-13549_application-pdf_0.pdf (Caused by NewConnectionError('<urllib3.connection.HTTPConnection object at 0x7f5768765220>: Failed to establish a new connection: [Errno 110] Connection timed out'))\n"
     ]
    },
    {
     "name": "stderr",
     "output_type": "stream",
     "text": [
      " 93%|███████████████████████████████▍  | 33056/35731 [27:07:44<45:28,  1.02s/it]"
     ]
    },
    {
     "name": "stdout",
     "output_type": "stream",
     "text": [
      "0 HTTPConnectionPool(host='eprints.usm.my', port=80): Max retries exceeded with url: /6407/1/Document-12820_Version-13505_application-pdf_0.pdf (Caused by NewConnectionError('<urllib3.connection.HTTPConnection object at 0x7f576873beb0>: Failed to establish a new connection: [Errno 110] Connection timed out'))\n"
     ]
    },
    {
     "name": "stderr",
     "output_type": "stream",
     "text": [
      " 93%|███████████████████████████████▌  | 33196/35731 [27:11:09<30:25,  1.39it/s]"
     ]
    },
    {
     "name": "stdout",
     "output_type": "stream",
     "text": [
      "0 HTTPConnectionPool(host='eprints.usm.my', port=80): Max retries exceeded with url: /6542/1/Document-12735_Version-13420_application-pdf_0.pdf (Caused by NewConnectionError('<urllib3.connection.HTTPConnection object at 0x7f57687411f0>: Failed to establish a new connection: [Errno 110] Connection timed out'))\n"
     ]
    },
    {
     "name": "stderr",
     "output_type": "stream",
     "text": [
      " 93%|███████████████████████████████▋  | 33263/35731 [27:13:52<15:19,  2.68it/s]"
     ]
    },
    {
     "name": "stdout",
     "output_type": "stream",
     "text": [
      "0 HTTPConnectionPool(host='eprints.usm.my', port=80): Max retries exceeded with url: /661/1/JIM_101_-_KALKULUS_MAC_05.pdf (Caused by NewConnectionError('<urllib3.connection.HTTPConnection object at 0x7f576873b8b0>: Failed to establish a new connection: [Errno 110] Connection timed out'))\n"
     ]
    },
    {
     "name": "stderr",
     "output_type": "stream",
     "text": [
      " 93%|█████████████████████████████▊  | 33269/35731 [27:16:05<4:43:22,  6.91s/it]"
     ]
    },
    {
     "name": "stdout",
     "output_type": "stream",
     "text": [
      "0 HTTPConnectionPool(host='eprints.usm.my', port=80): Max retries exceeded with url: /6615/1/PRICE_RANDOMNESS%2C_CONTRARIAN_AND_MOMENTUM_STRATEGIES_A_STUDY_OF_RETURN_PREDICTABILITY.pdf (Caused by NewConnectionError('<urllib3.connection.HTTPConnection object at 0x7f576874a490>: Failed to establish a new connection: [Errno 110] Connection timed out'))\n"
     ]
    },
    {
     "name": "stderr",
     "output_type": "stream",
     "text": [
      " 93%|█████████████████████████████▊  | 33275/35731 [27:18:21<5:29:06,  8.04s/it]"
     ]
    },
    {
     "name": "stdout",
     "output_type": "stream",
     "text": [
      "0 HTTPConnectionPool(host='eprints.usm.my', port=80): Max retries exceeded with url: /6620/1/Document-12763_Version-13448_application-pdf_0.pdf (Caused by NewConnectionError('<urllib3.connection.HTTPConnection object at 0x7f5768741910>: Failed to establish a new connection: [Errno 110] Connection timed out'))\n"
     ]
    },
    {
     "name": "stderr",
     "output_type": "stream",
     "text": [
      " 93%|███████████████████████████████▋  | 33314/35731 [27:20:47<21:56,  1.84it/s]"
     ]
    },
    {
     "name": "stdout",
     "output_type": "stream",
     "text": [
      "0 HTTPConnectionPool(host='eprints.usm.my', port=80): Max retries exceeded with url: /6659/1/Document-1830_Version-2186_application-pdf_0.pdf (Caused by NewConnectionError('<urllib3.connection.HTTPConnection object at 0x7f576873be20>: Failed to establish a new connection: [Errno 110] Connection timed out'))\n"
     ]
    },
    {
     "name": "stderr",
     "output_type": "stream",
     "text": [
      " 93%|█████████████████████████████▊  | 33318/35731 [27:22:59<9:16:43, 13.84s/it]"
     ]
    },
    {
     "name": "stdout",
     "output_type": "stream",
     "text": [
      "0 HTTPConnectionPool(host='eprints.usm.my', port=80): Max retries exceeded with url: /6663/1/Document-1831_Version-2187_application-pdf_0.pdf (Caused by NewConnectionError('<urllib3.connection.HTTPConnection object at 0x7f576875eaf0>: Failed to establish a new connection: [Errno 110] Connection timed out'))\n"
     ]
    },
    {
     "name": "stderr",
     "output_type": "stream",
     "text": [
      " 93%|█████████████████████████████▊  | 33337/35731 [27:25:45<1:35:19,  2.39s/it]"
     ]
    },
    {
     "name": "stdout",
     "output_type": "stream",
     "text": [
      "0 HTTPConnectionPool(host='eprints.usm.my', port=80): Max retries exceeded with url: /6686/1/Ferroelastic_phase_transition_in_some_phenols-amines_adducts-experimental_and_theoretical_findings_%28PPSFizik%29.pdf (Caused by NewConnectionError('<urllib3.connection.HTTPConnection object at 0x7f5768741520>: Failed to establish a new connection: [Errno 110] Connection timed out'))\n"
     ]
    },
    {
     "name": "stderr",
     "output_type": "stream",
     "text": [
      " 93%|█████████████████████████████▊  | 33348/35731 [27:28:05<1:03:18,  1.59s/it]"
     ]
    },
    {
     "name": "stdout",
     "output_type": "stream",
     "text": [
      "0 HTTPConnectionPool(host='eprints.usm.my', port=80): Max retries exceeded with url: /6699/1/Document-12827_Version-13512_application-pdf_0.pdf (Caused by NewConnectionError('<urllib3.connection.HTTPConnection object at 0x7f5768753460>: Failed to establish a new connection: [Errno 110] Connection timed out'))\n"
     ]
    },
    {
     "name": "stderr",
     "output_type": "stream",
     "text": [
      " 93%|███████████████████████████████▊  | 33384/35731 [27:30:33<22:59,  1.70it/s]"
     ]
    },
    {
     "name": "stdout",
     "output_type": "stream",
     "text": [
      "0 HTTPConnectionPool(host='eprints.usm.my', port=80): Max retries exceeded with url: /6733/1/Document-13504_Version-14190_application-pdf_0.pdf (Caused by NewConnectionError('<urllib3.connection.HTTPConnection object at 0x7f576874a520>: Failed to establish a new connection: [Errno 110] Connection timed out'))\n"
     ]
    },
    {
     "name": "stderr",
     "output_type": "stream",
     "text": [
      " 94%|███████████████████████████████▉  | 33567/35731 [27:34:17<09:10,  3.93it/s]"
     ]
    },
    {
     "name": "stdout",
     "output_type": "stream",
     "text": [
      "0 HTTPConnectionPool(host='eprints.usm.my', port=80): Max retries exceeded with url: /6937/1/Document-13172_Version-13857_application-pdf_0.pdf (Caused by NewConnectionError('<urllib3.connection.HTTPConnection object at 0x7f5768741cd0>: Failed to establish a new connection: [Errno 110] Connection timed out'))\n"
     ]
    },
    {
     "name": "stderr",
     "output_type": "stream",
     "text": [
      " 94%|████████████████████████████████  | 33695/35731 [27:37:09<11:27,  2.96it/s]"
     ]
    },
    {
     "name": "stdout",
     "output_type": "stream",
     "text": [
      "0 HTTPConnectionPool(host='eprints.usm.my', port=80): Max retries exceeded with url: /7070/1/Document-14510_Version-15197_application-pdf_0.pdf (Caused by NewConnectionError('<urllib3.connection.HTTPConnection object at 0x7f576873b6d0>: Failed to establish a new connection: [Errno 110] Connection timed out'))\n"
     ]
    },
    {
     "name": "stderr",
     "output_type": "stream",
     "text": [
      " 95%|████████████████████████████████▏ | 33816/35731 [27:40:18<08:10,  3.90it/s]"
     ]
    },
    {
     "name": "stdout",
     "output_type": "stream",
     "text": [
      "0 HTTPConnectionPool(host='eprints.usm.my', port=80): Max retries exceeded with url: /7367/1/IWK_205_-_ADITIF_%26_SIFAT_KERTAS_JUN_08.pdf (Caused by NewConnectionError('<urllib3.connection.HTTPConnection object at 0x7f5768741040>: Failed to establish a new connection: [Errno 110] Connection timed out'))\n"
     ]
    },
    {
     "name": "stderr",
     "output_type": "stream",
     "text": [
      " 95%|████████████████████████████████▎ | 33930/35731 [27:45:40<15:40,  1.91it/s]"
     ]
    },
    {
     "name": "stdout",
     "output_type": "stream",
     "text": [
      "0 HTTPConnectionPool(host='eprints.usm.my', port=80): Max retries exceeded with url: /7470/1/Chinese-Bumiputera_partnership_in_technology-based_industries_in_post_NEP_and_post_NDP_Malaysia_%28PPSKemasyarakatan%29.pdf (Caused by NewConnectionError('<urllib3.connection.HTTPConnection object at 0x7f57687536d0>: Failed to establish a new connection: [Errno 110] Connection timed out'))\n",
      "1 HTTPConnectionPool(host='eprints.usm.my', port=80): Max retries exceeded with url: /7470/1/Chinese-Bumiputera_partnership_in_technology-based_industries_in_post_NEP_and_post_NDP_Malaysia_%28PPSKemasyarakatan%29.pdf (Caused by NewConnectionError('<urllib3.connection.HTTPConnection object at 0x7f57687651f0>: Failed to establish a new connection: [Errno 110] Connection timed out'))\n"
     ]
    },
    {
     "name": "stderr",
     "output_type": "stream",
     "text": [
      " 95%|████████████████████████████████▎ | 33961/35731 [27:50:12<06:38,  4.44it/s]"
     ]
    },
    {
     "name": "stdout",
     "output_type": "stream",
     "text": [
      "0 HTTPConnectionPool(host='eprints.usm.my', port=80): Max retries exceeded with url: /7534/1/Document-14652_Version-15339_application-pdf_0.pdf (Caused by NewConnectionError('<urllib3.connection.HTTPConnection object at 0x7f5768741220>: Failed to establish a new connection: [Errno 110] Connection timed out'))\n"
     ]
    },
    {
     "name": "stderr",
     "output_type": "stream",
     "text": [
      " 95%|████████████████████████████████▎ | 33981/35731 [27:52:28<07:24,  3.93it/s]"
     ]
    },
    {
     "name": "stdout",
     "output_type": "stream",
     "text": [
      "0 HTTPConnectionPool(host='eprints.usm.my', port=80): Max retries exceeded with url: /7562/1/HGM_235_-_GEOGRAFI_PENDUDUK_DAN_SUMBER_MANUSIA__APRIL_08.pdf (Caused by NewConnectionError('<urllib3.connection.HTTPConnection object at 0x7f576873b790>: Failed to establish a new connection: [Errno 110] Connection timed out'))\n"
     ]
    },
    {
     "name": "stderr",
     "output_type": "stream",
     "text": [
      " 95%|████████████████████████████████▍ | 34027/35731 [27:54:53<06:38,  4.27it/s]"
     ]
    },
    {
     "name": "stdout",
     "output_type": "stream",
     "text": [
      "0 HTTPConnectionPool(host='eprints.usm.my', port=80): Max retries exceeded with url: /7667/1/A_New_Viscosity_Equation_for_Binary_Aqueous_Solutions_%28PPTIndustry%29.pdf (Caused by NewConnectionError('<urllib3.connection.HTTPConnection object at 0x7f576876a1f0>: Failed to establish a new connection: [Errno 110] Connection timed out'))\n"
     ]
    },
    {
     "name": "stderr",
     "output_type": "stream",
     "text": [
      " 95%|██████████████████████████████▍ | 34036/35731 [27:57:16<1:39:36,  3.53s/it]"
     ]
    },
    {
     "name": "stdout",
     "output_type": "stream",
     "text": [
      "0 HTTPConnectionPool(host='eprints.usm.my', port=80): Max retries exceeded with url: /768/1/EEE_521_-_COMPUTER_AND_DATA_COMMUNICATIONS_NETWORKS_MARCH_05.pdf (Caused by NewConnectionError('<urllib3.connection.HTTPConnection object at 0x7f5768753a60>: Failed to establish a new connection: [Errno 110] Connection timed out'))\n",
      "1 HTTPConnectionPool(host='eprints.usm.my', port=80): Max retries exceeded with url: /768/1/EEE_521_-_COMPUTER_AND_DATA_COMMUNICATIONS_NETWORKS_MARCH_05.pdf (Caused by NewConnectionError('<urllib3.connection.HTTPConnection object at 0x7f57687a81c0>: Failed to establish a new connection: [Errno 110] Connection timed out'))\n"
     ]
    },
    {
     "name": "stderr",
     "output_type": "stream",
     "text": [
      " 95%|█████████████████████████████▌ | 34039/35731 [28:01:38<18:42:49, 39.82s/it]"
     ]
    },
    {
     "name": "stdout",
     "output_type": "stream",
     "text": [
      "0 HTTPConnectionPool(host='eprints.usm.my', port=80): Max retries exceeded with url: /771/1/EEK_366_-_MESIN_ELEKTRIK_DAN_PACUAN_MAC_05.pdf (Caused by NewConnectionError('<urllib3.connection.HTTPConnection object at 0x7f576875e9a0>: Failed to establish a new connection: [Errno 110] Connection timed out'))\n"
     ]
    },
    {
     "name": "stderr",
     "output_type": "stream",
     "text": [
      " 95%|████████████████████████████████▍ | 34054/35731 [28:03:52<17:55,  1.56it/s]"
     ]
    },
    {
     "name": "stdout",
     "output_type": "stream",
     "text": [
      "0 HTTPConnectionPool(host='eprints.usm.my', port=80): Max retries exceeded with url: /7751/1/Document-16040_Version-16835_application-pdf_0.pdf (Caused by NewConnectionError('<urllib3.connection.HTTPConnection object at 0x7f576874af40>: Failed to establish a new connection: [Errno 110] Connection timed out'))\n"
     ]
    },
    {
     "name": "stderr",
     "output_type": "stream",
     "text": [
      " 95%|████████████████████████████████▍ | 34069/35731 [28:06:06<12:01,  2.30it/s]"
     ]
    },
    {
     "name": "stdout",
     "output_type": "stream",
     "text": [
      "0 HTTPConnectionPool(host='eprints.usm.my', port=80): Max retries exceeded with url: /7765/1/Document-16053_Version-16848_application-pdf_0.pdf (Caused by NewConnectionError('<urllib3.connection.HTTPConnection object at 0x7f576875eb20>: Failed to establish a new connection: [Errno 110] Connection timed out'))\n"
     ]
    },
    {
     "name": "stderr",
     "output_type": "stream",
     "text": [
      " 95%|████████████████████████████████▍ | 34093/35731 [28:08:22<05:19,  5.13it/s]"
     ]
    },
    {
     "name": "stdout",
     "output_type": "stream",
     "text": [
      "0 HTTPConnectionPool(host='eprints.usm.my', port=80): Max retries exceeded with url: /7794/1/Document-15375_Version-16168_application-pdf_0.pdf (Caused by NewConnectionError('<urllib3.connection.HTTPConnection object at 0x7f5768753340>: Failed to establish a new connection: [Errno 110] Connection timed out'))\n"
     ]
    },
    {
     "name": "stderr",
     "output_type": "stream",
     "text": [
      " 96%|████████████████████████████████▍ | 34131/35731 [28:10:59<08:20,  3.19it/s]"
     ]
    },
    {
     "name": "stdout",
     "output_type": "stream",
     "text": [
      "0 HTTPConnectionPool(host='eprints.usm.my', port=80): Max retries exceeded with url: /7846/1/DEVELOPMENT_OF_A_CATALYTIC_MEMBRANE_REACTOR_FOR_THE_PRODUCTION_OF_ETHYLENE_USING_OXIDATIVE_COUPLING_OF_METHANE_%28_OCM_%29.pdf (Caused by NewConnectionError('<urllib3.connection.HTTPConnection object at 0x7f57687a87c0>: Failed to establish a new connection: [Errno 110] Connection timed out'))\n"
     ]
    },
    {
     "name": "stderr",
     "output_type": "stream",
     "text": [
      " 96%|████████████████████████████████▌ | 34261/35731 [28:13:48<20:37,  1.19it/s]"
     ]
    },
    {
     "name": "stdout",
     "output_type": "stream",
     "text": [
      "0 HTTPConnectionPool(host='eprints.usm.my', port=80): Max retries exceeded with url: /8115/1/HET_521_-_PSYCHOLOGY_AND_SOCIOLOGY_OF_LANGUAGE_APRIL_08.pdf (Caused by NewConnectionError('<urllib3.connection.HTTPConnection object at 0x7f5768765280>: Failed to establish a new connection: [Errno 110] Connection timed out'))\n"
     ]
    },
    {
     "name": "stderr",
     "output_type": "stream",
     "text": [
      " 96%|██████████████████████████████▊ | 34425/35731 [28:32:32<1:45:05,  4.83s/it]"
     ]
    },
    {
     "name": "stdout",
     "output_type": "stream",
     "text": [
      "0 HTTPConnectionPool(host='eprints.usm.my', port=80): Max retries exceeded with url: /855/1/ESA_221E%283%29_-_MECHANICS_OF_SOLIDS_OKT_04.pdf (Caused by NewConnectionError('<urllib3.connection.HTTPConnection object at 0x7f5768753cd0>: Failed to establish a new connection: [Errno 110] Connection timed out'))\n"
     ]
    },
    {
     "name": "stderr",
     "output_type": "stream",
     "text": [
      " 96%|████████████████████████████████▊ | 34477/35731 [28:35:24<16:42,  1.25it/s]"
     ]
    },
    {
     "name": "stdout",
     "output_type": "stream",
     "text": [
      "0 HTTPConnectionPool(host='eprints.usm.my', port=80): Max retries exceeded with url: /8650/1/A_HYBRID_INTELLIGENT_SYSTEM_FOR_DATA_ANALYSIS_AND_VISUALIZATION.pdf (Caused by NewConnectionError('<urllib3.connection.HTTPConnection object at 0x7f576875ec70>: Failed to establish a new connection: [Errno 110] Connection timed out'))\n"
     ]
    },
    {
     "name": "stderr",
     "output_type": "stream",
     "text": [
      " 97%|████████████████████████████████▊ | 34523/35731 [28:37:59<07:29,  2.69it/s]"
     ]
    },
    {
     "name": "stdout",
     "output_type": "stream",
     "text": [
      "0 HTTPConnectionPool(host='eprints.usm.my', port=80): Max retries exceeded with url: /881/1/ESA_474%283%29_-_ELEMEN_REKABENTUK_HELIKOPTER_APR-MEI_06.pdf (Caused by NewConnectionError('<urllib3.connection.HTTPConnection object at 0x7f576875ebb0>: Failed to establish a new connection: [Errno 110] Connection timed out'))\n"
     ]
    },
    {
     "name": "stderr",
     "output_type": "stream",
     "text": [
      " 97%|██████████████████████████████▉ | 34529/35731 [28:40:14<2:27:10,  7.35s/it]"
     ]
    },
    {
     "name": "stdout",
     "output_type": "stream",
     "text": [
      "0 HTTPConnectionPool(host='eprints.usm.my', port=80): Max retries exceeded with url: /8856/1/AMALAN_NILAI_MURNI_DI_KALANGAN_GURU_BIMBINGAN_DAN_KAUNSELING_DALAM_PERKHIDMATAN_BIMBINGAN_DAN_KAUNSELING_SEKOLAH_MENENGAH.pdf (Caused by NewConnectionError('<urllib3.connection.HTTPConnection object at 0x7f5768799f10>: Failed to establish a new connection: [Errno 110] Connection timed out'))\n"
     ]
    },
    {
     "name": "stderr",
     "output_type": "stream",
     "text": [
      " 97%|████████████████████████████████▉ | 34567/35731 [28:42:43<08:29,  2.28it/s]"
     ]
    },
    {
     "name": "stdout",
     "output_type": "stream",
     "text": [
      "0 HTTPConnectionPool(host='eprints.usm.my', port=80): Max retries exceeded with url: /8926/1/BASIC_CHARACTERISATION_OF_OIL_PALM_SHELL.pdf (Caused by NewConnectionError('<urllib3.connection.HTTPConnection object at 0x7f5768753b50>: Failed to establish a new connection: [Errno 110] Connection timed out'))\n"
     ]
    },
    {
     "name": "stderr",
     "output_type": "stream",
     "text": [
      " 97%|████████████████████████████████▉ | 34589/35731 [28:45:03<06:27,  2.95it/s]"
     ]
    },
    {
     "name": "stdout",
     "output_type": "stream",
     "text": [
      "0 HTTPConnectionPool(host='eprints.usm.my', port=80): Max retries exceeded with url: /8954/1/ECONOMIC%2C_SOCIAL_AND_CLINICAL_EVALUATIONS_OF_DIABETES_SELF_MANAGEMENT_PROGRAM_AT_UNIVERSITI_SAINS_MALAYSIA_HEALTH_CENTER.pdf (Caused by NewConnectionError('<urllib3.connection.HTTPConnection object at 0x7f57687530d0>: Failed to establish a new connection: [Errno 110] Connection timed out'))\n"
     ]
    },
    {
     "name": "stderr",
     "output_type": "stream",
     "text": [
      " 97%|██████████████████████████████▉ | 34591/35731 [28:47:14<8:48:27, 27.81s/it]"
     ]
    },
    {
     "name": "stdout",
     "output_type": "stream",
     "text": [
      "0 HTTPConnectionPool(host='eprints.usm.my', port=80): Max retries exceeded with url: /8956/1/IMMUNOLOGICAL_STUDIES_OF_DNA.pdf (Caused by NewConnectionError('<urllib3.connection.HTTPConnection object at 0x7f57687a8b80>: Failed to establish a new connection: [Errno 110] Connection timed out'))\n"
     ]
    },
    {
     "name": "stderr",
     "output_type": "stream",
     "text": [
      " 97%|██████████████████████████████ | 34593/35731 [28:49:26<13:06:23, 41.46s/it]"
     ]
    },
    {
     "name": "stdout",
     "output_type": "stream",
     "text": [
      "0 HTTPConnectionPool(host='eprints.usm.my', port=80): Max retries exceeded with url: /8958/1/IEK_308-3_-_REKABENTUK_LOJI_PENGOLOHAN_AIR_SISA_TERJADUAL_FEB-MAC_04.pdf (Caused by NewConnectionError('<urllib3.connection.HTTPConnection object at 0x7f576873b310>: Failed to establish a new connection: [Errno 110] Connection timed out'))\n"
     ]
    },
    {
     "name": "stderr",
     "output_type": "stream",
     "text": [
      " 97%|████████████████████████████████▉ | 34668/35731 [28:54:09<34:01,  1.92s/it]"
     ]
    },
    {
     "name": "stdout",
     "output_type": "stream",
     "text": [
      "0 HTTPConnectionPool(host='eprints.usm.my', port=80): Max retries exceeded with url: /907/1/EKC_313_-_PROSES_PEMISAHAN_OKT-NOV_06.pdf (Caused by NewConnectionError('<urllib3.connection.HTTPConnection object at 0x7f576875ee20>: Failed to establish a new connection: [Errno 110] Connection timed out'))\n"
     ]
    },
    {
     "name": "stderr",
     "output_type": "stream",
     "text": [
      " 97%|█████████████████████████████████ | 34696/35731 [28:57:34<32:39,  1.89s/it]"
     ]
    },
    {
     "name": "stdout",
     "output_type": "stream",
     "text": [
      "0 HTTPConnectionPool(host='eprints.usm.my', port=80): Max retries exceeded with url: /9105/1/KESAN_PROGRAM_LATIHAN_MENGGUNAKAN_MODEL_TAKTIKAL_DENGAN_STAIL_PENGAJARAN_BERBEZA_TERHADAP_MURID_PELBAGAI_TAHAP_KEMAHIRAN_PERMAINAN_HOKI.pdf (Caused by NewConnectionError('<urllib3.connection.HTTPConnection object at 0x7f57687991f0>: Failed to establish a new connection: [Errno 110] Connection timed out'))\n"
     ]
    },
    {
     "name": "stderr",
     "output_type": "stream",
     "text": [
      " 97%|█████████████████████████████████ | 34803/35731 [29:07:33<12:12,  1.27it/s]"
     ]
    },
    {
     "name": "stdout",
     "output_type": "stream",
     "text": [
      "0 HTTPConnectionPool(host='eprints.usm.my', port=80): Max retries exceeded with url: /9392/1/A_Study_on_the_Effects_of_noise_level_cleaning_method_and_vectorization_software_on_thr_quality_of_vector_data.pdf (Caused by NewConnectionError('<urllib3.connection.HTTPConnection object at 0x7f5768753dc0>: Failed to establish a new connection: [Errno 110] Connection timed out'))\n"
     ]
    },
    {
     "name": "stderr",
     "output_type": "stream",
     "text": [
      " 98%|█████████████████████████████████▏| 34902/35731 [29:10:23<03:59,  3.46it/s]"
     ]
    },
    {
     "name": "stdout",
     "output_type": "stream",
     "text": [
      "0 HTTPConnectionPool(host='eprints.usm.my', port=80): Max retries exceeded with url: /9526/1/AMALAN_PENGURUSAN_SUMBER_MANUSIA_BERTERASKAN_KOMPETENSI_DAN_KUALITI_PERKHIDMATAN_DALAM_ORGANISASI_AWAM.pdf (Caused by NewConnectionError('<urllib3.connection.HTTPConnection object at 0x7f57687a8af0>: Failed to establish a new connection: [Errno 110] Connection timed out'))\n"
     ]
    },
    {
     "name": "stderr",
     "output_type": "stream",
     "text": [
      " 98%|█████████████████████████████████▎| 34978/35731 [29:13:12<04:52,  2.58it/s]"
     ]
    },
    {
     "name": "stdout",
     "output_type": "stream",
     "text": [
      "0 HTTPConnectionPool(host='eprints.usm.my', port=80): Max retries exceeded with url: /9650/1/IDENTIFICATION_OF_FACTORS_AFFECTING_BLOOD_PRESSURE_CONTROL_IN_PATIENTS_ADMITTED_WITH_HYPERTENSION_IN_PENANG_GENERAL_HOSPITAL.pdf (Caused by NewConnectionError('<urllib3.connection.HTTPConnection object at 0x7f5768799a60>: Failed to establish a new connection: [Errno 110] Connection timed out'))\n"
     ]
    },
    {
     "name": "stderr",
     "output_type": "stream",
     "text": [
      " 98%|█████████████████████████████████▎| 35025/35731 [29:15:47<04:16,  2.75it/s]"
     ]
    },
    {
     "name": "stdout",
     "output_type": "stream",
     "text": [
      "0 HTTPConnectionPool(host='eprints.usm.my', port=80): Max retries exceeded with url: /9697/1/EFFECT_OF_EXOGENOUS_LEPTIN_ADMINISTRATION_ON_TESTICULAR_FUNCTION_IN_ADULT_MALE_SPRAGUE_DAWLEY_RATS.pdf (Caused by NewConnectionError('<urllib3.connection.HTTPConnection object at 0x7f576875e6a0>: Failed to establish a new connection: [Errno 110] Connection timed out'))\n"
     ]
    },
    {
     "name": "stderr",
     "output_type": "stream",
     "text": [
      " 98%|█████████████████████████████████▎| 35037/35731 [29:18:08<22:36,  1.95s/it]"
     ]
    },
    {
     "name": "stdout",
     "output_type": "stream",
     "text": [
      "0 HTTPConnectionPool(host='eprints.usm.my', port=80): Max retries exceeded with url: /9720/1/METHOD_DEVELOPMENT_FOR_THE_DETERMINATION_OF_SULPHONAMIDE_RESIDUES_IN_CHICKEN_BY_LIQUID_CHROMATOGRAPHY_ION_TRAP_TANDEM_MASS_SPECTROMETRY.pdf (Caused by NewConnectionError('<urllib3.connection.HTTPConnection object at 0x7f57687a8760>: Failed to establish a new connection: [Errno 110] Connection timed out'))\n"
     ]
    },
    {
     "name": "stderr",
     "output_type": "stream",
     "text": [
      " 98%|█████████████████████████████████▎| 35058/35731 [29:20:32<07:30,  1.49it/s]"
     ]
    },
    {
     "name": "stdout",
     "output_type": "stream",
     "text": [
      "0 HTTPConnectionPool(host='eprints.usm.my', port=80): Max retries exceeded with url: /9764/1/PHOTOCATALYTICAL_REMOVAL_OF_LEAD_IONS_FROM_AQUEOUS_SOLUTION_WITH_IMMOBILIZED_TiO2_POWDER_ON_CARBON_BASED_PLASTIC_PLATE_IN_THE_PRESENCE_OF_CALCIUM_OXALATE_AND_THIOLACTIC_ACID.pdf (Caused by NewConnectionError('<urllib3.connection.HTTPConnection object at 0x7f5768753550>: Failed to establish a new connection: [Errno 110] Connection timed out'))\n"
     ]
    },
    {
     "name": "stderr",
     "output_type": "stream",
     "text": [
      " 98%|█████████████████████████████████▍| 35080/35731 [29:22:57<05:53,  1.84it/s]"
     ]
    },
    {
     "name": "stdout",
     "output_type": "stream",
     "text": [
      "0 HTTPConnectionPool(host='eprints.usm.my', port=80): Max retries exceeded with url: /981/1/EKC_111-_IMBANGAN_JISIM_APRIL__07.pdf (Caused by NewConnectionError('<urllib3.connection.HTTPConnection object at 0x7f5768753bb0>: Failed to establish a new connection: [Errno 110] Connection timed out'))\n"
     ]
    },
    {
     "name": "stderr",
     "output_type": "stream",
     "text": [
      "\r",
      " 98%|███████████████████████████████▍| 35081/35731 [29:25:08<7:11:55, 39.87s/it]"
     ]
    },
    {
     "name": "stdout",
     "output_type": "stream",
     "text": [
      "0 HTTPConnectionPool(host='eprints.usm.my', port=80): Max retries exceeded with url: /9810/1/SURFACE_LEVEL_SOLAR_ULTRAVIOLET_B_RADIATION_AT_PENANG.pdf (Caused by NewConnectionError('<urllib3.connection.HTTPConnection object at 0x7f57687a8d30>: Failed to establish a new connection: [Errno 110] Connection timed out'))\n"
     ]
    },
    {
     "name": "stderr",
     "output_type": "stream",
     "text": [
      " 98%|█████████████████████████████████▍| 35114/35731 [29:27:45<06:06,  1.68it/s]"
     ]
    },
    {
     "name": "stdout",
     "output_type": "stream",
     "text": [
      "0 HTTPConnectionPool(host='eprints.usm.my', port=80): Max retries exceeded with url: /9895/1/FOOD_PREFERENCE.pdf (Caused by NewConnectionError('<urllib3.connection.HTTPConnection object at 0x7f576874a2b0>: Failed to establish a new connection: [Errno 110] Connection timed out'))\n"
     ]
    },
    {
     "name": "stderr",
     "output_type": "stream",
     "text": [
      "\r",
      " 98%|███████████████████████████████▍| 35115/35731 [29:29:56<6:47:12, 39.66s/it]"
     ]
    },
    {
     "name": "stdout",
     "output_type": "stream",
     "text": [
      "0 HTTPConnectionPool(host='eprints.usm.my', port=80): Max retries exceeded with url: /9896/1/Free_Level_Threshold_Zone.pdf (Caused by NewConnectionError('<urllib3.connection.HTTPConnection object at 0x7f576873f1c0>: Failed to establish a new connection: [Errno 110] Connection timed out'))\n"
     ]
    },
    {
     "name": "stderr",
     "output_type": "stream",
     "text": [
      " 98%|█████████████████████████████████▍| 35135/35731 [29:32:17<04:02,  2.46it/s]"
     ]
    },
    {
     "name": "stdout",
     "output_type": "stream",
     "text": [
      "0 HTTPConnectionPool(host='eprints.usm.my', port=80): Max retries exceeded with url: /994/1/EKC_361E_-_DYNAMIC_%26_PROCESS_CONTROL_APRIL_07.pdf (Caused by NewConnectionError('<urllib3.connection.HTTPConnection object at 0x7f5768799d30>: Failed to establish a new connection: [Errno 110] Connection timed out'))\n"
     ]
    },
    {
     "name": "stderr",
     "output_type": "stream",
     "text": [
      " 98%|█████████████████████████████████▍| 35149/35731 [29:34:36<07:41,  1.26it/s]"
     ]
    },
    {
     "name": "stdout",
     "output_type": "stream",
     "text": [
      "0 HTTPConnectionPool(host='eprints.usm.my', port=80): Max retries exceeded with url: /9959/1/Thermal_Analysis_of_Solid_Waste_%28PPKMekanikal%29_2004.pdf (Caused by NewConnectionError('<urllib3.connection.HTTPConnection object at 0x7f5768765a90>: Failed to establish a new connection: [Errno 110] Connection timed out'))\n"
     ]
    },
    {
     "name": "stderr",
     "output_type": "stream",
     "text": [
      "\r",
      " 98%|███████████████████████████████▍| 35150/35731 [29:36:49<6:32:47, 40.56s/it]"
     ]
    },
    {
     "name": "stdout",
     "output_type": "stream",
     "text": [
      "0 HTTPConnectionPool(host='eprints.usm.my', port=80): Max retries exceeded with url: /996/1/EKC_374E_-_ENVIRONMENTAL_ENGINEERING_APRIL__07.pdf (Caused by NewConnectionError('<urllib3.connection.HTTPConnection object at 0x7f5768741970>: Failed to establish a new connection: [Errno 110] Connection timed out'))\n"
     ]
    },
    {
     "name": "stderr",
     "output_type": "stream",
     "text": [
      " 99%|█████████████████████████████████▌| 35329/35731 [29:39:53<04:37,  1.45it/s]"
     ]
    },
    {
     "name": "stdout",
     "output_type": "stream",
     "text": [
      "0 HTTPConnectionPool(host='journal.usm.my', port=80): Max retries exceeded with url: /journal/16-2_OA1_attenuation.pdf (Caused by NewConnectionError('<urllib3.connection.HTTPConnection object at 0x7f5768765fd0>: Failed to establish a new connection: [Errno 110] Connection timed out'))\n"
     ]
    },
    {
     "name": "stderr",
     "output_type": "stream",
     "text": [
      " 99%|█████████████████████████████████▋| 35354/35731 [29:42:10<01:07,  5.62it/s]"
     ]
    },
    {
     "name": "stdout",
     "output_type": "stream",
     "text": [
      "0 HTTPConnectionPool(host='web.usm.my', port=80): Max retries exceeded with url: /aamj/10.2.2005/AAMJ%2010-2-1.pdf (Caused by NewConnectionError('<urllib3.connection.HTTPConnection object at 0x7f576873bca0>: Failed to establish a new connection: [Errno 110] Connection timed out'))\n",
      "1 HTTPConnectionPool(host='web.usm.my', port=80): Max retries exceeded with url: /aamj/10.2.2005/AAMJ%2010-2-1.pdf (Caused by NewConnectionError('<urllib3.connection.HTTPConnection object at 0x7f576875e910>: Failed to establish a new connection: [Errno 110] Connection timed out'))\n"
     ]
    },
    {
     "name": "stderr",
     "output_type": "stream",
     "text": [
      " 99%|█████████████████████████████████▋| 35370/35731 [29:46:34<03:07,  1.93it/s]"
     ]
    },
    {
     "name": "stdout",
     "output_type": "stream",
     "text": [
      "0 HTTPConnectionPool(host='web.usm.my', port=80): Max retries exceeded with url: /aamj/11.2.2006/AAMJ%2011-2-6.pdf (Caused by NewConnectionError('<urllib3.connection.HTTPConnection object at 0x7f5768753310>: Failed to establish a new connection: [Errno 110] Connection timed out'))\n"
     ]
    },
    {
     "name": "stderr",
     "output_type": "stream",
     "text": [
      " 99%|█████████████████████████████████▋| 35434/35731 [29:49:00<02:49,  1.75it/s]"
     ]
    },
    {
     "name": "stdout",
     "output_type": "stream",
     "text": [
      "0 HTTPConnectionPool(host='web.usm.my', port=80): Max retries exceeded with url: /aamj/17.1.2012/AAMJ_17.1.4.pdf (Caused by NewConnectionError('<urllib3.connection.HTTPConnection object at 0x7f576873bcd0>: Failed to establish a new connection: [Errno 110] Connection timed out'))\n"
     ]
    },
    {
     "name": "stderr",
     "output_type": "stream",
     "text": [
      " 99%|█████████████████████████████████▊| 35494/35731 [29:51:30<01:28,  2.66it/s]"
     ]
    },
    {
     "name": "stdout",
     "output_type": "stream",
     "text": [
      "0 HTTPConnectionPool(host='web.usm.my', port=80): Max retries exceeded with url: /aamj/21012016/aamj21012016_6.pdf (Caused by NewConnectionError('<urllib3.connection.HTTPConnection object at 0x7f5768799c70>: Failed to establish a new connection: [Errno 110] Connection timed out'))\n"
     ]
    },
    {
     "name": "stderr",
     "output_type": "stream",
     "text": [
      " 99%|█████████████████████████████████▊| 35548/35731 [29:53:56<00:45,  4.00it/s]"
     ]
    },
    {
     "name": "stdout",
     "output_type": "stream",
     "text": [
      "0 HTTPConnectionPool(host='web.usm.my', port=80): Max retries exceeded with url: /jcdc/vol11_1_2006/5_Mohan%20M.%20Kumaraswamy(p.73-94).pdf (Caused by NewConnectionError('<urllib3.connection.HTTPConnection object at 0x7f576873bca0>: Failed to establish a new connection: [Errno 110] Connection timed out'))\n"
     ]
    },
    {
     "name": "stderr",
     "output_type": "stream",
     "text": [
      " 99%|█████████████████████████████████▊| 35551/35731 [29:56:08<55:49, 18.61s/it]"
     ]
    },
    {
     "name": "stdout",
     "output_type": "stream",
     "text": [
      "0 HTTPConnectionPool(host='web.usm.my', port=80): Max retries exceeded with url: /jcdc/vol11_2_2006/4_Kin%20Dorji%20(p.53-75).pdf (Caused by NewConnectionError('<urllib3.connection.HTTPConnection object at 0x7f576874a7c0>: Failed to establish a new connection: [Errno 110] Connection timed out'))\n"
     ]
    },
    {
     "name": "stderr",
     "output_type": "stream",
     "text": [
      "100%|█████████████████████████████████▊| 35570/35731 [29:58:22<00:48,  3.35it/s]"
     ]
    },
    {
     "name": "stdout",
     "output_type": "stream",
     "text": [
      "0 HTTPConnectionPool(host='web.usm.my', port=80): Max retries exceeded with url: /jcdc/vol13_2_2008/4_Florence%20Yean%20Ying%20(p.65-82).pdf (Caused by NewConnectionError('<urllib3.connection.HTTPConnection object at 0x7f5768765eb0>: Failed to establish a new connection: [Errno 110] Connection timed out'))\n"
     ]
    },
    {
     "name": "stderr",
     "output_type": "stream",
     "text": [
      "100%|█████████████████████████████████▊| 35584/35731 [30:00:36<01:49,  1.34it/s]"
     ]
    },
    {
     "name": "stdout",
     "output_type": "stream",
     "text": [
      "0 HTTPConnectionPool(host='web.usm.my', port=80): Max retries exceeded with url: /jcdc/vol15_1_2010/JCDC%20Vol%2015(1)%20ART%203%20(45-66).pdf (Caused by NewConnectionError('<urllib3.connection.HTTPConnection object at 0x7f576874a730>: Failed to establish a new connection: [Errno 110] Connection timed out'))\n"
     ]
    },
    {
     "name": "stderr",
     "output_type": "stream",
     "text": [
      "100%|█████████████████████████████████▉| 35617/35731 [30:03:01<00:37,  3.01it/s]"
     ]
    },
    {
     "name": "stdout",
     "output_type": "stream",
     "text": [
      "0 HTTPConnectionPool(host='web.usm.my', port=80): Max retries exceeded with url: /jcdc/vol17_s1_2012/Art%201_jcdc17-s1.pdf (Caused by NewConnectionError('<urllib3.connection.HTTPConnection object at 0x7f57687a8370>: Failed to establish a new connection: [Errno 110] Connection timed out'))\n"
     ]
    },
    {
     "name": "stderr",
     "output_type": "stream",
     "text": [
      "100%|█████████████████████████████████▉| 35634/35731 [30:05:17<00:43,  2.23it/s]"
     ]
    },
    {
     "name": "stdout",
     "output_type": "stream",
     "text": [
      "0 HTTPConnectionPool(host='web.usm.my', port=80): Max retries exceeded with url: /jcdc/vol19_1_2014/JCDC%2019(1)%202014-Art.%203%20(35-52).pdf (Caused by NewConnectionError('<urllib3.connection.HTTPConnection object at 0x7f5768799f10>: Failed to establish a new connection: [Errno 110] Connection timed out'))\n"
     ]
    },
    {
     "name": "stderr",
     "output_type": "stream",
     "text": [
      "100%|█████████████████████████████████▉| 35710/35731 [30:07:55<00:08,  2.35it/s]"
     ]
    },
    {
     "name": "stdout",
     "output_type": "stream",
     "text": [
      "0 HTTPConnectionPool(host='web.usm.my', port=80): Max retries exceeded with url: /journal/aamjaf/aamjaf13012017/aamjaf13012017_6.pdf (Caused by NewConnectionError('<urllib3.connection.HTTPConnection object at 0x7f576873bca0>: Failed to establish a new connection: [Errno 110] Connection timed out'))\n"
     ]
    },
    {
     "name": "stderr",
     "output_type": "stream",
     "text": [
      "100%|██████████████████████████████████| 35731/35731 [30:10:17<00:00,  3.04s/it]\n"
     ]
    }
   ],
   "source": [
    "max_worker = 1\n",
    "\n",
    "usm = sorted(list(usm))\n",
    "for i in tqdm(range(0, len(usm), max_worker)):\n",
    "    urls = [(url, os.path.join('usm', f'{i}-{no}.pdf')) for no, url in enumerate(usm[i: i + max_worker])]\n",
    "    \n",
    "    with ThreadPoolExecutor(max_workers=max_worker) as executor:\n",
    "        futures = {executor.submit(download, url[0], url[1]): url for url in urls}\n",
    "\n",
    "        for future in as_completed(futures):\n",
    "            future.result()"
   ]
  },
  {
   "cell_type": "code",
   "execution_count": null,
   "metadata": {},
   "outputs": [],
   "source": []
  }
 ],
 "metadata": {
  "kernelspec": {
   "display_name": "Python 3 (ipykernel)",
   "language": "python",
   "name": "python3"
  },
  "language_info": {
   "codemirror_mode": {
    "name": "ipython",
    "version": 3
   },
   "file_extension": ".py",
   "mimetype": "text/x-python",
   "name": "python",
   "nbconvert_exporter": "python",
   "pygments_lexer": "ipython3",
   "version": "3.8.10"
  }
 },
 "nbformat": 4,
 "nbformat_minor": 4
}
