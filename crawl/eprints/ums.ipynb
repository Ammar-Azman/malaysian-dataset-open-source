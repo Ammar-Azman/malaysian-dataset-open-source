{
 "cells": [
  {
   "cell_type": "code",
   "execution_count": 1,
   "metadata": {},
   "outputs": [],
   "source": [
    "import requests\n",
    "from bs4 import BeautifulSoup\n",
    "import os\n",
    "from tqdm import tqdm\n",
    "from glob import glob\n",
    "from datetime import datetime\n",
    "import dateparser\n",
    "from unidecode import unidecode\n",
    "from concurrent.futures import ThreadPoolExecutor, as_completed"
   ]
  },
  {
   "cell_type": "code",
   "execution_count": 16,
   "metadata": {
    "scrolled": true
   },
   "outputs": [],
   "source": [
    "cookies = {'cookiesession1': '678B28F695C90B262BFC00B79BBD6CC1',\n",
    " 'lhc_per': 'vid|a3d85efe963899fee2b5',\n",
    " '_gid': 'GA1.3.190366811.1685035962',\n",
    " '_ga_3C534XGNC2': 'GS1.1.1685035961.2.1.1685037340.0.0.0',\n",
    " '_ga_Q33BVTTDL1': 'GS1.1.1685035961.2.1.1685037340.0.0.0',\n",
    " '_gat': '1',\n",
    " '_ga_QHEB12PC6D': 'GS1.1.1685035961.2.1.1685037340.0.0.0',\n",
    " '_ga': 'GA1.1.2075372866.1684772919'}\n",
    "\n",
    "headers = {'Accept': 'text/html,application/xhtml+xml,application/xml;q=0.9,image/avif,image/webp,image/apng,*/*;q=0.8,application/signed-exchange;v=b3;q=0.7',\n",
    " 'Accept-Language': 'en-MY,en;q=0.9,en-US;q=0.8,ms;q=0.7',\n",
    " 'Cache-Control': 'no-cache',\n",
    " 'Connection': 'keep-alive',\n",
    " 'Pragma': 'no-cache',\n",
    " 'Referer': 'https://ir.uitm.edu.my/view/doclang/2017/',\n",
    " 'Sec-Fetch-Dest': 'document',\n",
    " 'Sec-Fetch-Mode': 'navigate',\n",
    " 'Sec-Fetch-Site': 'same-origin',\n",
    " 'Sec-Fetch-User': '?1',\n",
    " 'Upgrade-Insecure-Requests': '1',\n",
    " 'User-Agent': 'Mozilla/5.0 (Macintosh; Intel Mac OS X 10_15_7) AppleWebKit/537.36 (KHTML, like Gecko) Chrome/113.0.0.0 Safari/537.36',\n",
    " 'sec-ch-ua': '\"Google Chrome\";v=\"113\", \"Chromium\";v=\"113\", \"Not-A.Brand\";v=\"24\"',\n",
    " 'sec-ch-ua-mobile': '?0',\n",
    " 'sec-ch-ua-platform': '\"macOS\"'}"
   ]
  },
  {
   "cell_type": "code",
   "execution_count": 2,
   "metadata": {
    "scrolled": true
   },
   "outputs": [
    {
     "data": {
      "text/plain": [
       "[2002,\n",
       " 2003,\n",
       " 2004,\n",
       " 2005,\n",
       " 2006,\n",
       " 2007,\n",
       " 2008,\n",
       " 2009,\n",
       " 2010,\n",
       " 2011,\n",
       " 2012,\n",
       " 2013,\n",
       " 2014,\n",
       " 2015,\n",
       " 2016,\n",
       " 2017,\n",
       " 2018,\n",
       " 2019,\n",
       " 2020,\n",
       " 2021,\n",
       " 2022,\n",
       " 2023]"
      ]
     },
     "execution_count": 2,
     "metadata": {},
     "output_type": "execute_result"
    }
   ],
   "source": [
    "import datetime\n",
    "\n",
    "date1 = datetime.date(2002, 1, 1)\n",
    "date2 = datetime.date(2023, 1, 1)\n",
    "\n",
    "def daterange(date1, date2):\n",
    "    for n in range(int(date2.year) - int(date1.year)+1):\n",
    "        yield int(date1.year) + n\n",
    "\n",
    "start_dt = date1\n",
    "end_dt = date2\n",
    "dat = []\n",
    "for dt in daterange(start_dt, end_dt):\n",
    "    dat.append(dt)\n",
    "    \n",
    "dat"
   ]
  },
  {
   "cell_type": "code",
   "execution_count": 3,
   "metadata": {},
   "outputs": [],
   "source": [
    "urls = [\n",
    "    'https://eprints.ums.edu.my/view/year/2002.html',\n",
    "]"
   ]
  },
  {
   "cell_type": "code",
   "execution_count": 4,
   "metadata": {
    "scrolled": false
   },
   "outputs": [
    {
     "name": "stdout",
     "output_type": "stream",
     "text": [
      "https://eprints.ums.edu.my/view/year/2002.html\n"
     ]
    },
    {
     "name": "stderr",
     "output_type": "stream",
     "text": [
      "100%|███████████████████████████████████████████| 22/22 [00:18<00:00,  1.18it/s]\n"
     ]
    }
   ],
   "source": [
    "all_a = []\n",
    "for url in urls:\n",
    "    print(url)\n",
    "    for y in tqdm(dat):\n",
    "        splitted = url.split('year/')\n",
    "        url = splitted[0] + f'year/{y}.html'\n",
    "        r = requests.get(url)\n",
    "        soup = BeautifulSoup(r._content, \"lxml\")\n",
    "        p = soup.find_all('p')\n",
    "        a = [p_.find('a') for p_ in p]\n",
    "        a = [a_.get('href') for a_ in a if a_]\n",
    "        all_a.extend(a)"
   ]
  },
  {
   "cell_type": "code",
   "execution_count": 6,
   "metadata": {},
   "outputs": [
    {
     "data": {
      "text/plain": [
       "27168"
      ]
     },
     "execution_count": 6,
     "metadata": {},
     "output_type": "execute_result"
    }
   ],
   "source": [
    "len(all_a)"
   ]
  },
  {
   "cell_type": "code",
   "execution_count": 7,
   "metadata": {},
   "outputs": [
    {
     "data": {
      "text/plain": [
       "27168"
      ]
     },
     "execution_count": 7,
     "metadata": {},
     "output_type": "execute_result"
    }
   ],
   "source": [
    "all_a = sorted(list(set(all_a)))\n",
    "len(all_a)"
   ]
  },
  {
   "cell_type": "code",
   "execution_count": 8,
   "metadata": {},
   "outputs": [],
   "source": [
    "import json\n",
    "\n",
    "with open('all_a-ums.json', 'w') as fopen:\n",
    "    json.dump(all_a, fopen)"
   ]
  },
  {
   "cell_type": "code",
   "execution_count": 9,
   "metadata": {},
   "outputs": [
    {
     "data": {
      "text/plain": [
       "['https://eprints.ums.edu.my/id/eprint/9997/1/nc0000004634.pdf',\n",
       " 'https://eprints.ums.edu.my/9997/1.haslightboxThumbnailVersion/nc0000004634.pdf']"
      ]
     },
     "execution_count": 9,
     "metadata": {},
     "output_type": "execute_result"
    }
   ],
   "source": [
    "def get_pdf(url):\n",
    "    try:\n",
    "        r = requests.get(url, timeout = 10.0, cookies=cookies, headers=headers)\n",
    "        soup = BeautifulSoup(r._content, \"lxml\")\n",
    "        a = soup.find_all('a')\n",
    "        a = [a_.get('href') for a_ in a]\n",
    "        a = [a_ for a_ in a if a_ and '.pdf' in a_ and 'haspreview' not in a_]\n",
    "        a = list(set(a))\n",
    "        return a\n",
    "    except:\n",
    "        return None\n",
    "\n",
    "get_pdf(all_a[-3])"
   ]
  },
  {
   "cell_type": "code",
   "execution_count": 10,
   "metadata": {},
   "outputs": [],
   "source": [
    "!rm -rf pages-ums\n",
    "!mkdir pages-ums"
   ]
  },
  {
   "cell_type": "code",
   "execution_count": 17,
   "metadata": {},
   "outputs": [
    {
     "name": "stderr",
     "output_type": "stream",
     "text": [
      "100%|███████████████████████████████████████| 2717/2717 [46:20<00:00,  1.02s/it]\n"
     ]
    }
   ],
   "source": [
    "max_worker = 10\n",
    "\n",
    "all_a = sorted(all_a)\n",
    "for i in tqdm(range(0, len(all_a), max_worker)):\n",
    "    \n",
    "    filename = os.path.join('pages-ums', f'{i}.json')\n",
    "    \n",
    "    if os.path.exists(filename) and os.path.getsize(filename) > 1000:\n",
    "        continue\n",
    "    \n",
    "    pdfs = []\n",
    "    with ThreadPoolExecutor(max_workers=max_worker) as executor:\n",
    "        futures = {executor.submit(get_pdf, url): url for url in all_a[i: i + max_worker]}\n",
    "\n",
    "        for future in as_completed(futures):\n",
    "            r = future.result()\n",
    "            if r:\n",
    "                pdfs.extend(r)\n",
    "    \n",
    "    with open(filename, 'w') as fopen:\n",
    "        json.dump(pdfs, fopen)"
   ]
  }
 ],
 "metadata": {
  "kernelspec": {
   "display_name": "Python 3 (ipykernel)",
   "language": "python",
   "name": "python3"
  },
  "language_info": {
   "codemirror_mode": {
    "name": "ipython",
    "version": 3
   },
   "file_extension": ".py",
   "mimetype": "text/x-python",
   "name": "python",
   "nbconvert_exporter": "python",
   "pygments_lexer": "ipython3",
   "version": "3.8.10"
  }
 },
 "nbformat": 4,
 "nbformat_minor": 4
}
