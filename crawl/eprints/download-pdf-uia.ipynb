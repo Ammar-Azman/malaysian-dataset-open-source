{
 "cells": [
  {
   "cell_type": "code",
   "execution_count": 1,
   "metadata": {},
   "outputs": [],
   "source": [
    "import urllib3\n",
    "urllib3.disable_warnings(urllib3.exceptions.InsecureRequestWarning)"
   ]
  },
  {
   "cell_type": "code",
   "execution_count": 2,
   "metadata": {},
   "outputs": [],
   "source": [
    "import requests\n",
    "import json\n",
    "import os\n",
    "import re\n",
    "import time\n",
    "from tqdm import tqdm\n",
    "from glob import glob\n",
    "from concurrent.futures import ThreadPoolExecutor, as_completed"
   ]
  },
  {
   "cell_type": "code",
   "execution_count": 3,
   "metadata": {},
   "outputs": [],
   "source": [
    "cookies = {\n",
    "    'cookiesession1': '678B28F695C90B262BFC00B79BBD6CC1',\n",
    "    'lhc_per': 'vid|a3d85efe963899fee2b5',\n",
    "    '_gid': 'GA1.3.289911229.1685154797',\n",
    "    '_ga': 'GA1.1.2075372866.1684772919',\n",
    "    '_ga_3C534XGNC2': 'GS1.1.1685154797.4.1.1685154882.0.0.0',\n",
    "    '_ga_Q33BVTTDL1': 'GS1.1.1685154797.4.1.1685154882.0.0.0',\n",
    "    '_ga_QHEB12PC6D': 'GS1.1.1685154797.4.1.1685154882.0.0.0',\n",
    "}\n",
    "\n",
    "headers = {\n",
    "    'Accept': 'text/html,application/xhtml+xml,application/xml;q=0.9,image/avif,image/webp,image/apng,*/*;q=0.8,application/signed-exchange;v=b3;q=0.7',\n",
    "    'Accept-Language': 'en-MY,en;q=0.9,en-US;q=0.8,ms;q=0.7',\n",
    "    'Cache-Control': 'no-cache',\n",
    "    'Connection': 'keep-alive',\n",
    "    # 'Cookie': 'cookiesession1=678B28F695C90B262BFC00B79BBD6CC1; lhc_per=vid|a3d85efe963899fee2b5; _gid=GA1.3.289911229.1685154797; _ga=GA1.1.2075372866.1684772919; _ga_3C534XGNC2=GS1.1.1685154797.4.1.1685154882.0.0.0; _ga_Q33BVTTDL1=GS1.1.1685154797.4.1.1685154882.0.0.0; _ga_QHEB12PC6D=GS1.1.1685154797.4.1.1685154882.0.0.0',\n",
    "    'Pragma': 'no-cache',\n",
    "    'Sec-Fetch-Dest': 'document',\n",
    "    'Sec-Fetch-Mode': 'navigate',\n",
    "    'Sec-Fetch-Site': 'none',\n",
    "    'Sec-Fetch-User': '?1',\n",
    "    'Upgrade-Insecure-Requests': '1',\n",
    "    'User-Agent': 'Mozilla/5.0 (Macintosh; Intel Mac OS X 10_15_7) AppleWebKit/537.36 (KHTML, like Gecko) Chrome/113.0.0.0 Safari/537.36',\n",
    "    'sec-ch-ua': '\"Google Chrome\";v=\"113\", \"Chromium\";v=\"113\", \"Not-A.Brand\";v=\"24\"',\n",
    "    'sec-ch-ua-mobile': '?0',\n",
    "    'sec-ch-ua-platform': '\"macOS\"',\n",
    "}"
   ]
  },
  {
   "cell_type": "code",
   "execution_count": 5,
   "metadata": {},
   "outputs": [],
   "source": [
    "def download(url, file_name, retry = 3):\n",
    "    if 'um.edu.my' in url:\n",
    "        return\n",
    "    if os.path.exists(file_name) and os.path.getsize(file_name) > 50000:\n",
    "        return\n",
    "    with open(file_name, \"wb\") as file:\n",
    "        for k in range(retry):\n",
    "            try:\n",
    "                response = requests.get(url, verify = False, timeout = 360, cookies=cookies, headers=headers)\n",
    "                file.write(response.content)\n",
    "                return \n",
    "            except Exception as e:\n",
    "                print(k, e)\n",
    "                time.sleep(0.5)"
   ]
  },
  {
   "cell_type": "code",
   "execution_count": 6,
   "metadata": {},
   "outputs": [
    {
     "data": {
      "text/plain": [
       "5923"
      ]
     },
     "execution_count": 6,
     "metadata": {},
     "output_type": "execute_result"
    }
   ],
   "source": [
    "files = glob('pages-uia/*.json')\n",
    "len(files)"
   ]
  },
  {
   "cell_type": "code",
   "execution_count": 7,
   "metadata": {
    "scrolled": true
   },
   "outputs": [],
   "source": [
    "pdfs = []\n",
    "for f in files:\n",
    "    with open(f) as fopen:\n",
    "        pdfs.extend(json.load(fopen))\n",
    "        \n",
    "pdfs = list(set(pdfs))"
   ]
  },
  {
   "cell_type": "code",
   "execution_count": 8,
   "metadata": {},
   "outputs": [
    {
     "name": "stderr",
     "output_type": "stream",
     "text": [
      "100%|█████████████████████████████████| 87906/87906 [00:00<00:00, 348617.50it/s]\n"
     ]
    },
    {
     "data": {
      "text/plain": [
       "87736"
      ]
     },
     "execution_count": 8,
     "metadata": {},
     "output_type": "execute_result"
    }
   ],
   "source": [
    "filtered_pdfs = []\n",
    "for p in tqdm(pdfs):\n",
    "#     if len(re.findall( r'[0-9]+(?:\\.[0-9]+){3}', p)):\n",
    "#         continue\n",
    "#     if not p.endswith('.pdf'):\n",
    "#         continue\n",
    "#     if 'ade.sagepub.com' in p:\n",
    "#         continue\n",
    "    \n",
    "#     if p.startswith('/jspui'):\n",
    "#         p = 'https://oarep.usim.edu.my' + p\n",
    "    \n",
    "    if len(re.findall( r'[0-9]+(?:\\.[0-9]+){3}', p)):\n",
    "        continue\n",
    "    if not p.endswith('.pdf'):\n",
    "        continue\n",
    "        \n",
    "    if not p.startswith('http'):\n",
    "        continue\n",
    "        \n",
    "    filtered_pdfs.append(p)\n",
    "    \n",
    "filtered_pdfs = sorted(list(set(filtered_pdfs)))\n",
    "len(filtered_pdfs)"
   ]
  },
  {
   "cell_type": "code",
   "execution_count": 9,
   "metadata": {
    "scrolled": false
   },
   "outputs": [],
   "source": [
    "# filtered_pdfs"
   ]
  },
  {
   "cell_type": "code",
   "execution_count": 10,
   "metadata": {},
   "outputs": [],
   "source": [
    "uia = filtered_pdfs"
   ]
  },
  {
   "cell_type": "code",
   "execution_count": 11,
   "metadata": {},
   "outputs": [
    {
     "name": "stdout",
     "output_type": "stream",
     "text": [
      "mkdir: cannot create directory ‘uia’: File exists\r\n"
     ]
    }
   ],
   "source": [
    "# !rm -rf usim\n",
    "!mkdir uia"
   ]
  },
  {
   "cell_type": "code",
   "execution_count": 14,
   "metadata": {},
   "outputs": [
    {
     "name": "stderr",
     "output_type": "stream",
     "text": [
      "\r",
      "  0%|                                                 | 0/87736 [00:00<?, ?it/s]"
     ]
    },
    {
     "name": "stdout",
     "output_type": "stream",
     "text": [
      "0 HTTPConnectionPool(host='abqarijournal.usim.edu.my', port=80): Max retries exceeded with url: /images/Volume/Volume_13/5.%2049-58.%20ZAKAT%20PENDAPATAN%20ALTERNATIF%20CUKAI%20PENDAPATAN.pdf (Caused by NewConnectionError('<urllib3.connection.HTTPConnection object at 0x7f47aa1a1340>: Failed to establish a new connection: [Errno 110] Connection timed out'))\n",
      "0 HTTPConnectionPool(host='abqarijournal.usim.edu.my', port=80): Max retries exceeded with url: /images/Volume/Volume_13/5.%2049-58.%20ZAKAT%20PENDAPATAN%20ALTERNATIF%20CUKAI%20PENDAPATAN.pdf (Caused by NewConnectionError('<urllib3.connection.HTTPConnection object at 0x7f47aa146790>: Failed to establish a new connection: [Errno 110] Connection timed out'))\n",
      "1 HTTPConnectionPool(host='abqarijournal.usim.edu.my', port=80): Max retries exceeded with url: /images/Volume/Volume_13/5.%2049-58.%20ZAKAT%20PENDAPATAN%20ALTERNATIF%20CUKAI%20PENDAPATAN.pdf (Caused by NewConnectionError('<urllib3.connection.HTTPConnection object at 0x7f47aa155130>: Failed to establish a new connection: [Errno 110] Connection timed out'))\n",
      "1 HTTPConnectionPool(host='abqarijournal.usim.edu.my', port=80): Max retries exceeded with url: /images/Volume/Volume_13/5.%2049-58.%20ZAKAT%20PENDAPATAN%20ALTERNATIF%20CUKAI%20PENDAPATAN.pdf (Caused by NewConnectionError('<urllib3.connection.HTTPConnection object at 0x7f47aa155ac0>: Failed to establish a new connection: [Errno 110] Connection timed out'))\n",
      "2 HTTPConnectionPool(host='abqarijournal.usim.edu.my', port=80): Max retries exceeded with url: /images/Volume/Volume_13/5.%2049-58.%20ZAKAT%20PENDAPATAN%20ALTERNATIF%20CUKAI%20PENDAPATAN.pdf (Caused by NewConnectionError('<urllib3.connection.HTTPConnection object at 0x7f47a8784460>: Failed to establish a new connection: [Errno 110] Connection timed out'))\n",
      "2 HTTPConnectionPool(host='abqarijournal.usim.edu.my', port=80): Max retries exceeded with url: /images/Volume/Volume_13/5.%2049-58.%20ZAKAT%20PENDAPATAN%20ALTERNATIF%20CUKAI%20PENDAPATAN.pdf (Caused by NewConnectionError('<urllib3.connection.HTTPConnection object at 0x7f47aa155130>: Failed to establish a new connection: [Errno 110] Connection timed out'))\n"
     ]
    },
    {
     "name": "stderr",
     "output_type": "stream",
     "text": [
      "\r",
      "  0%|                                   | 2/87736 [06:32<4788:31:08, 196.49s/it]"
     ]
    },
    {
     "name": "stdout",
     "output_type": "stream",
     "text": [
      "0 HTTPConnectionPool(host='abqarijournal.usim.edu.my', port=80): Max retries exceeded with url: /images/Volume/Volume_8/Usage%20and%20Satisfaction.pdf (Caused by NewConnectionError('<urllib3.connection.HTTPConnection object at 0x7f47aa146b80>: Failed to establish a new connection: [Errno 110] Connection timed out'))\n",
      "2 HTTPConnectionPool(host='abqarijournal.usim.edu.my', port=80): Max retries exceeded with url: /images/Volume/Volume_8/Usage%20and%20Satisfaction.pdf (Caused by NewConnectionError('<urllib3.connection.HTTPConnection object at 0x7f47aa20bc10>: Failed to establish a new connection: [Errno 110] Connection timed out'))\n"
     ]
    },
    {
     "name": "stderr",
     "output_type": "stream",
     "text": [
      "\r",
      "  0%|                                   | 3/87736 [13:06<6786:07:52, 278.46s/it]"
     ]
    },
    {
     "name": "stdout",
     "output_type": "stream",
     "text": [
      "0 HTTPSConnectionPool(host='myjms.mohe.gov.my', port=443): Max retries exceeded with url: /index.php/ABRIJ/images/document/vol2no2/p27Noorain.pdf (Caused by SSLError(SSLError(1, '[SSL: DH_KEY_TOO_SMALL] dh key too small (_ssl.c:1131)')))\n",
      "1 HTTPSConnectionPool(host='myjms.mohe.gov.my', port=443): Max retries exceeded with url: /index.php/ABRIJ/images/document/vol2no2/p27Noorain.pdf (Caused by SSLError(SSLError(1, '[SSL: DH_KEY_TOO_SMALL] dh key too small (_ssl.c:1131)')))\n",
      "2 HTTPSConnectionPool(host='myjms.mohe.gov.my', port=443): Max retries exceeded with url: /index.php/ABRIJ/images/document/vol2no2/p27Noorain.pdf (Caused by SSLError(SSLError(1, '[SSL: DH_KEY_TOO_SMALL] dh key too small (_ssl.c:1131)')))\n"
     ]
    },
    {
     "name": "stderr",
     "output_type": "stream",
     "text": [
      "  0%|                                    | 8/87736 [13:13<1137:51:46, 46.69s/it]"
     ]
    },
    {
     "name": "stdout",
     "output_type": "stream",
     "text": [
      "0 HTTPConnectionPool(host='aec2012.uitm.edu.my', port=80): Max retries exceeded with url: /international/template/senarai%20AEC%20_latest.pdf (Caused by NewConnectionError('<urllib3.connection.HTTPConnection object at 0x7f47aa20b6a0>: Failed to establish a new connection: [Errno -2] Name or service not known'))\n",
      "1 HTTPConnectionPool(host='aec2012.uitm.edu.my', port=80): Max retries exceeded with url: /international/template/senarai%20AEC%20_latest.pdf (Caused by NewConnectionError('<urllib3.connection.HTTPConnection object at 0x7f47aa20b730>: Failed to establish a new connection: [Errno -2] Name or service not known'))\n",
      "2 HTTPConnectionPool(host='aec2012.uitm.edu.my', port=80): Max retries exceeded with url: /international/template/senarai%20AEC%20_latest.pdf (Caused by NewConnectionError('<urllib3.connection.HTTPConnection object at 0x7f47aa20ba00>: Failed to establish a new connection: [Errno -2] Name or service not known'))\n"
     ]
    },
    {
     "name": "stderr",
     "output_type": "stream",
     "text": [
      "  0%|                                     | 46/87736 [13:34<16:45:18,  1.45it/s]"
     ]
    },
    {
     "name": "stdout",
     "output_type": "stream",
     "text": [
      "0 HTTPConnectionPool(host='agc-wopac.agc.gov.my', port=80): Max retries exceeded with url: /e-docs/Journal/0000015021.pdf (Caused by NewConnectionError('<urllib3.connection.HTTPConnection object at 0x7f47a8793af0>: Failed to establish a new connection: [Errno 110] Connection timed out'))\n",
      "1 HTTPConnectionPool(host='agc-wopac.agc.gov.my', port=80): Max retries exceeded with url: /e-docs/Journal/0000015021.pdf (Caused by NewConnectionError('<urllib3.connection.HTTPConnection object at 0x7f47a8793a60>: Failed to establish a new connection: [Errno 110] Connection timed out'))\n",
      "2 HTTPConnectionPool(host='agc-wopac.agc.gov.my', port=80): Max retries exceeded with url: /e-docs/Journal/0000015021.pdf (Caused by NewConnectionError('<urllib3.connection.HTTPConnection object at 0x7f47a87825e0>: Failed to establish a new connection: [Errno 110] Connection timed out'))\n"
     ]
    },
    {
     "name": "stderr",
     "output_type": "stream",
     "text": [
      "  0%|                                     | 92/87736 [20:19<24:24:50,  1.00s/it]"
     ]
    },
    {
     "name": "stdout",
     "output_type": "stream",
     "text": [
      "0 HTTPConnectionPool(host='anporbangkok.anpor.net', port=80): Max retries exceeded with url: /images/banners/Abstracts%20final_2015_19.11.2015%20new.pdf (Caused by NewConnectionError('<urllib3.connection.HTTPConnection object at 0x7f47aa146640>: Failed to establish a new connection: [Errno -2] Name or service not known'))\n",
      "1 HTTPConnectionPool(host='anporbangkok.anpor.net', port=80): Max retries exceeded with url: /images/banners/Abstracts%20final_2015_19.11.2015%20new.pdf (Caused by NewConnectionError('<urllib3.connection.HTTPConnection object at 0x7f47aa1466d0>: Failed to establish a new connection: [Errno -2] Name or service not known'))\n",
      "2 HTTPConnectionPool(host='anporbangkok.anpor.net', port=80): Max retries exceeded with url: /images/banners/Abstracts%20final_2015_19.11.2015%20new.pdf (Caused by NewConnectionError('<urllib3.connection.HTTPConnection object at 0x7f47aa1466a0>: Failed to establish a new connection: [Errno -2] Name or service not known'))\n"
     ]
    },
    {
     "name": "stderr",
     "output_type": "stream",
     "text": [
      "\r",
      "  0%|                                     | 95/87736 [20:21<18:34:22,  1.31it/s]"
     ]
    },
    {
     "name": "stdout",
     "output_type": "stream",
     "text": [
      "0 HTTPConnectionPool(host='apira2010.econ.usyd.edu.au', port=80): Max retries exceeded with url: /conference_proceedings/APIRA-2010-211-Osman-Accountability-of-WAQF-management.pdf (Caused by NewConnectionError('<urllib3.connection.HTTPConnection object at 0x7f47aa146bb0>: Failed to establish a new connection: [Errno -5] No address associated with hostname'))\n",
      "1 HTTPConnectionPool(host='apira2010.econ.usyd.edu.au', port=80): Max retries exceeded with url: /conference_proceedings/APIRA-2010-211-Osman-Accountability-of-WAQF-management.pdf (Caused by NewConnectionError('<urllib3.connection.HTTPConnection object at 0x7f47aa146130>: Failed to establish a new connection: [Errno -5] No address associated with hostname'))\n",
      "2 HTTPConnectionPool(host='apira2010.econ.usyd.edu.au', port=80): Max retries exceeded with url: /conference_proceedings/APIRA-2010-211-Osman-Accountability-of-WAQF-management.pdf (Caused by NewConnectionError('<urllib3.connection.HTTPConnection object at 0x7f47aa1462e0>: Failed to establish a new connection: [Errno -5] No address associated with hostname'))\n"
     ]
    },
    {
     "name": "stderr",
     "output_type": "stream",
     "text": [
      "  0%|                                    | 104/87736 [20:23<10:24:19,  2.34it/s]"
     ]
    },
    {
     "name": "stdout",
     "output_type": "stream",
     "text": [
      "0 HTTPConnectionPool(host='app.penerbit.utm.my', port=80): Max retries exceeded with url: /OnlineEspMalaysia/19/vol_19_dec_2013_27_41.pdf (Caused by NewConnectionError('<urllib3.connection.HTTPConnection object at 0x7f47aa146df0>: Failed to establish a new connection: [Errno 110] Connection timed out'))\n",
      "1 HTTPConnectionPool(host='app.penerbit.utm.my', port=80): Max retries exceeded with url: /OnlineEspMalaysia/19/vol_19_dec_2013_27_41.pdf (Caused by NewConnectionError('<urllib3.connection.HTTPConnection object at 0x7f47aa1a1a60>: Failed to establish a new connection: [Errno 110] Connection timed out'))\n",
      "2 HTTPConnectionPool(host='app.penerbit.utm.my', port=80): Max retries exceeded with url: /OnlineEspMalaysia/19/vol_19_dec_2013_27_41.pdf (Caused by NewConnectionError('<urllib3.connection.HTTPConnection object at 0x7f47a8782ac0>: Failed to establish a new connection: [Errno 110] Connection timed out'))\n"
     ]
    },
    {
     "name": "stderr",
     "output_type": "stream",
     "text": [
      "\r",
      "  0%|                                  | 105/87736 [26:57<1244:38:34, 51.13s/it]"
     ]
    },
    {
     "name": "stdout",
     "output_type": "stream",
     "text": [
      "0 HTTPConnectionPool(host='app.penerbit.utm.my', port=80): Max retries exceeded with url: /onlinelspinternational/3_3/1_LSPIJ001_LSP_2017.pdf (Caused by NewConnectionError('<urllib3.connection.HTTPConnection object at 0x7f47aa20b430>: Failed to establish a new connection: [Errno 110] Connection timed out'))\n",
      "1 HTTPConnectionPool(host='app.penerbit.utm.my', port=80): Max retries exceeded with url: /onlinelspinternational/3_3/1_LSPIJ001_LSP_2017.pdf (Caused by NewConnectionError('<urllib3.connection.HTTPConnection object at 0x7f47aa1a1d00>: Failed to establish a new connection: [Errno 110] Connection timed out'))\n",
      "2 HTTPConnectionPool(host='app.penerbit.utm.my', port=80): Max retries exceeded with url: /onlinelspinternational/3_3/1_LSPIJ001_LSP_2017.pdf (Caused by NewConnectionError('<urllib3.connection.HTTPConnection object at 0x7f47aa1468e0>: Failed to establish a new connection: [Errno 110] Connection timed out'))\n"
     ]
    },
    {
     "name": "stderr",
     "output_type": "stream",
     "text": [
      "  0%|                                  | 108/87736 [33:33<1657:55:54, 68.11s/it]"
     ]
    },
    {
     "name": "stdout",
     "output_type": "stream",
     "text": [
      "0 HTTPConnectionPool(host='apps.mjmr.com.my', port=80): Max retries exceeded with url: /uploadedfiles/article_pdfs/90bced22-9594-4ac0-a2ae-a96903b14990.pdf (Caused by NewConnectionError('<urllib3.connection.HTTPConnection object at 0x7f47a8793670>: Failed to establish a new connection: [Errno -2] Name or service not known'))\n",
      "1 HTTPConnectionPool(host='apps.mjmr.com.my', port=80): Max retries exceeded with url: /uploadedfiles/article_pdfs/90bced22-9594-4ac0-a2ae-a96903b14990.pdf (Caused by NewConnectionError('<urllib3.connection.HTTPConnection object at 0x7f47a8793820>: Failed to establish a new connection: [Errno -2] Name or service not known'))\n",
      "2 HTTPConnectionPool(host='apps.mjmr.com.my', port=80): Max retries exceeded with url: /uploadedfiles/article_pdfs/90bced22-9594-4ac0-a2ae-a96903b14990.pdf (Caused by NewConnectionError('<urllib3.connection.HTTPConnection object at 0x7f47a87932e0>: Failed to establish a new connection: [Errno -2] Name or service not known'))\n"
     ]
    },
    {
     "name": "stderr",
     "output_type": "stream",
     "text": [
      "  0%|                                   | 114/87736 [33:37<449:50:30, 18.48s/it]"
     ]
    },
    {
     "name": "stdout",
     "output_type": "stream",
     "text": [
      "0 HTTPConnectionPool(host='asmic.akademisains.gov.my', port=80): Max retries exceeded with url: /download/journal/ASMSJ_Vol7_No1.pdf (Caused by NewConnectionError('<urllib3.connection.HTTPConnection object at 0x7f47a87937c0>: Failed to establish a new connection: [Errno 110] Connection timed out'))\n",
      "1 HTTPConnectionPool(host='asmic.akademisains.gov.my', port=80): Max retries exceeded with url: /download/journal/ASMSJ_Vol7_No1.pdf (Caused by NewConnectionError('<urllib3.connection.HTTPConnection object at 0x7f47a8782a90>: Failed to establish a new connection: [Errno 110] Connection timed out'))\n",
      "2 HTTPConnectionPool(host='asmic.akademisains.gov.my', port=80): Max retries exceeded with url: /download/journal/ASMSJ_Vol7_No1.pdf (Caused by NewConnectionError('<urllib3.connection.HTTPConnection object at 0x7f47a8782610>: Failed to establish a new connection: [Errno 110] Connection timed out'))\n"
     ]
    },
    {
     "name": "stderr",
     "output_type": "stream",
     "text": [
      "\r",
      "  0%|                                   | 127/87736 [40:10<663:57:24, 27.28s/it]"
     ]
    },
    {
     "name": "stdout",
     "output_type": "stream",
     "text": [
      "0 HTTPConnectionPool(host='asnabali2011.com', port=80): Max retries exceeded with url: /wp-content/uploads/2011/04/ASNA-2011-1st-Announcement2.pdf (Caused by NewConnectionError('<urllib3.connection.HTTPConnection object at 0x7f47aa146e20>: Failed to establish a new connection: [Errno -2] Name or service not known'))\n",
      "1 HTTPConnectionPool(host='asnabali2011.com', port=80): Max retries exceeded with url: /wp-content/uploads/2011/04/ASNA-2011-1st-Announcement2.pdf (Caused by NewConnectionError('<urllib3.connection.HTTPConnection object at 0x7f47aa146e20>: Failed to establish a new connection: [Errno -2] Name or service not known'))\n",
      "2 HTTPConnectionPool(host='asnabali2011.com', port=80): Max retries exceeded with url: /wp-content/uploads/2011/04/ASNA-2011-1st-Announcement2.pdf (Caused by NewConnectionError('<urllib3.connection.HTTPConnection object at 0x7f47aa146940>: Failed to establish a new connection: [Errno -2] Name or service not known'))\n"
     ]
    },
    {
     "name": "stderr",
     "output_type": "stream",
     "text": [
      "\r",
      "  0%|                                   | 128/87736 [40:11<616:36:36, 25.34s/it]"
     ]
    },
    {
     "name": "stdout",
     "output_type": "stream",
     "text": [
      "0 HTTPConnectionPool(host='asps2019.com', port=80): Max retries exceeded with url: /upload/document/ASPS%202019%20-%20Congress%20Book%204.1.pdf (Caused by NewConnectionError('<urllib3.connection.HTTPConnection object at 0x7f47aa1464c0>: Failed to establish a new connection: [Errno -2] Name or service not known'))\n",
      "1 HTTPConnectionPool(host='asps2019.com', port=80): Max retries exceeded with url: /upload/document/ASPS%202019%20-%20Congress%20Book%204.1.pdf (Caused by NewConnectionError('<urllib3.connection.HTTPConnection object at 0x7f47aa1464c0>: Failed to establish a new connection: [Errno -2] Name or service not known'))\n",
      "2 HTTPConnectionPool(host='asps2019.com', port=80): Max retries exceeded with url: /upload/document/ASPS%202019%20-%20Congress%20Book%204.1.pdf (Caused by NewConnectionError('<urllib3.connection.HTTPConnection object at 0x7f47aa146310>: Failed to establish a new connection: [Errno -2] Name or service not known'))\n"
     ]
    },
    {
     "name": "stderr",
     "output_type": "stream",
     "text": [
      "  0%|                                   | 139/87736 [40:16<157:59:58,  6.49s/it]"
     ]
    },
    {
     "name": "stdout",
     "output_type": "stream",
     "text": [
      "0 HTTPConnectionPool(host='bsmeicte2012.iutoic-dhaka.edu', port=80): Max retries exceeded with url: /proceedings/4th-bsme-asme-icte-2008/Final%20Papers/06%20IndustrialFluid%2006/04%20Paper-97.pdf (Caused by NewConnectionError('<urllib3.connection.HTTPConnection object at 0x7f47aa146e20>: Failed to establish a new connection: [Errno -2] Name or service not known'))\n",
      "1 HTTPConnectionPool(host='bsmeicte2012.iutoic-dhaka.edu', port=80): Max retries exceeded with url: /proceedings/4th-bsme-asme-icte-2008/Final%20Papers/06%20IndustrialFluid%2006/04%20Paper-97.pdf (Caused by NewConnectionError('<urllib3.connection.HTTPConnection object at 0x7f47a8793670>: Failed to establish a new connection: [Errno -2] Name or service not known'))\n",
      "2 HTTPConnectionPool(host='bsmeicte2012.iutoic-dhaka.edu', port=80): Max retries exceeded with url: /proceedings/4th-bsme-asme-icte-2008/Final%20Papers/06%20IndustrialFluid%2006/04%20Paper-97.pdf (Caused by NewConnectionError('<urllib3.connection.HTTPConnection object at 0x7f47a8793cd0>: Failed to establish a new connection: [Errno -2] Name or service not known'))\n"
     ]
    },
    {
     "name": "stderr",
     "output_type": "stream",
     "text": [
      "  0%|                                    | 149/87736 [40:22<62:32:15,  2.57s/it]"
     ]
    },
    {
     "name": "stdout",
     "output_type": "stream",
     "text": [
      "0 HTTPConnectionPool(host='cic.cihanuniversity.edu.iq', port=80): Max retries exceeded with url: /wp-content/uploads/2017/04/10.24086cocos17.09.pdf (Caused by NewConnectionError('<urllib3.connection.HTTPConnection object at 0x7f47a8793fd0>: Failed to establish a new connection: [Errno -2] Name or service not known'))\n",
      "1 HTTPConnectionPool(host='cic.cihanuniversity.edu.iq', port=80): Max retries exceeded with url: /wp-content/uploads/2017/04/10.24086cocos17.09.pdf (Caused by NewConnectionError('<urllib3.connection.HTTPConnection object at 0x7f47a8793640>: Failed to establish a new connection: [Errno -2] Name or service not known'))\n",
      "2 HTTPConnectionPool(host='cic.cihanuniversity.edu.iq', port=80): Max retries exceeded with url: /wp-content/uploads/2017/04/10.24086cocos17.09.pdf (Caused by NewConnectionError('<urllib3.connection.HTTPConnection object at 0x7f47a8793340>: Failed to establish a new connection: [Errno -2] Name or service not known'))\n"
     ]
    },
    {
     "name": "stderr",
     "output_type": "stream",
     "text": [
      "\r",
      "  0%|                                    | 153/87736 [40:24<42:32:27,  1.75s/it]"
     ]
    },
    {
     "name": "stdout",
     "output_type": "stream",
     "text": [
      "0 HTTPConnectionPool(host='cipa.icomos.org', port=80): Max retries exceeded with url: /text%20files/KYOTO/11.pdf (Caused by NewConnectionError('<urllib3.connection.HTTPConnection object at 0x7f47a8793e80>: Failed to establish a new connection: [Errno 110] Connection timed out'))\n",
      "1 HTTPConnectionPool(host='cipa.icomos.org', port=80): Max retries exceeded with url: /text%20files/KYOTO/11.pdf (Caused by NewConnectionError('<urllib3.connection.HTTPConnection object at 0x7f47aa20b430>: Failed to establish a new connection: [Errno 110] Connection timed out'))\n",
      "2 HTTPConnectionPool(host='cipa.icomos.org', port=80): Max retries exceeded with url: /text%20files/KYOTO/11.pdf (Caused by NewConnectionError('<urllib3.connection.HTTPConnection object at 0x7f47a87a3790>: Failed to establish a new connection: [Errno 110] Connection timed out'))\n"
     ]
    },
    {
     "name": "stderr",
     "output_type": "stream",
     "text": [
      "\r",
      "  0%|                                  | 155/87736 [46:57<1053:45:04, 43.31s/it]"
     ]
    },
    {
     "name": "stdout",
     "output_type": "stream",
     "text": [
      "0 HTTPConnectionPool(host='con.sustech.edu', port=80): Max retries exceeded with url: /public/conferences/1/schedConfs/1/program-en_US.pdf (Caused by NewConnectionError('<urllib3.connection.HTTPConnection object at 0x7f47aa20b6a0>: Failed to establish a new connection: [Errno -3] Temporary failure in name resolution'))\n",
      "1 HTTPConnectionPool(host='con.sustech.edu', port=80): Max retries exceeded with url: /public/conferences/1/schedConfs/1/program-en_US.pdf (Caused by NewConnectionError('<urllib3.connection.HTTPConnection object at 0x7f47a8782fa0>: Failed to establish a new connection: [Errno -3] Temporary failure in name resolution'))\n",
      "2 HTTPConnectionPool(host='con.sustech.edu', port=80): Max retries exceeded with url: /public/conferences/1/schedConfs/1/program-en_US.pdf (Caused by NewConnectionError('<urllib3.connection.HTTPConnection object at 0x7f47a8782670>: Failed to establish a new connection: [Errno -3] Temporary failure in name resolution'))\n"
     ]
    },
    {
     "name": "stderr",
     "output_type": "stream",
     "text": [
      "  0%|                                    | 188/87736 [47:05<68:34:01,  2.82s/it]"
     ]
    },
    {
     "name": "stdout",
     "output_type": "stream",
     "text": [
      "0 HTTPConnectionPool(host='cpanel.canajas.ca', port=80): Max retries exceeded with url: /panel/A/1%20Atif.pdf (Caused by NewConnectionError('<urllib3.connection.HTTPConnection object at 0x7f47a8782e80>: Failed to establish a new connection: [Errno -2] Name or service not known'))\n",
      "1 HTTPConnectionPool(host='cpanel.canajas.ca', port=80): Max retries exceeded with url: /panel/A/1%20Atif.pdf (Caused by NewConnectionError('<urllib3.connection.HTTPConnection object at 0x7f47a8782220>: Failed to establish a new connection: [Errno -2] Name or service not known'))\n",
      "2 HTTPConnectionPool(host='cpanel.canajas.ca', port=80): Max retries exceeded with url: /panel/A/1%20Atif.pdf (Caused by NewConnectionError('<urllib3.connection.HTTPConnection object at 0x7f47a8782a60>: Failed to establish a new connection: [Errno -2] Name or service not known'))\n"
     ]
    },
    {
     "name": "stderr",
     "output_type": "stream",
     "text": [
      "  0%|                                    | 243/87736 [47:11<11:57:45,  2.03it/s]"
     ]
    },
    {
     "name": "stdout",
     "output_type": "stream",
     "text": [
      "0 HTTPConnectionPool(host='download.xuebalib.com', port=80): Max retries exceeded with url: /xuebalib.com.10952.pdf (Caused by NewConnectionError('<urllib3.connection.HTTPConnection object at 0x7f47a8782310>: Failed to establish a new connection: [Errno -2] Name or service not known'))\n",
      "1 HTTPConnectionPool(host='download.xuebalib.com', port=80): Max retries exceeded with url: /xuebalib.com.10952.pdf (Caused by NewConnectionError('<urllib3.connection.HTTPConnection object at 0x7f47a87828b0>: Failed to establish a new connection: [Errno -2] Name or service not known'))\n",
      "2 HTTPConnectionPool(host='download.xuebalib.com', port=80): Max retries exceeded with url: /xuebalib.com.10952.pdf (Caused by NewConnectionError('<urllib3.connection.HTTPConnection object at 0x7f47a8782d60>: Failed to establish a new connection: [Errno -2] Name or service not known'))\n"
     ]
    },
    {
     "name": "stderr",
     "output_type": "stream",
     "text": [
      "\r",
      "  0%|                                    | 246/87736 [47:14<12:30:49,  1.94it/s]"
     ]
    },
    {
     "name": "stdout",
     "output_type": "stream",
     "text": [
      "0 HTTPConnectionPool(host='dspace.iua.edu.sd', port=80): Max retries exceeded with url: /bitstream/123456789/537/1/%D8%A7%D9%84%D8%A7%D8%B3%D8%B1%D8%A7%D8%A6%D9%84%D9%8A%D8%A7%D8%AA.pdf (Caused by NewConnectionError('<urllib3.connection.HTTPConnection object at 0x7f47a8782970>: Failed to establish a new connection: [Errno -3] Temporary failure in name resolution'))\n",
      "1 HTTPConnectionPool(host='dspace.iua.edu.sd', port=80): Max retries exceeded with url: /bitstream/123456789/537/1/%D8%A7%D9%84%D8%A7%D8%B3%D8%B1%D8%A7%D8%A6%D9%84%D9%8A%D8%A7%D8%AA.pdf (Caused by NewConnectionError('<urllib3.connection.HTTPConnection object at 0x7f47a8782fa0>: Failed to establish a new connection: [Errno -3] Temporary failure in name resolution'))\n",
      "2 HTTPConnectionPool(host='dspace.iua.edu.sd', port=80): Max retries exceeded with url: /bitstream/123456789/537/1/%D8%A7%D9%84%D8%A7%D8%B3%D8%B1%D8%A7%D8%A6%D9%84%D9%8A%D8%A7%D8%AA.pdf (Caused by NewConnectionError('<urllib3.connection.HTTPConnection object at 0x7f47a8782cd0>: Failed to establish a new connection: [Errno -3] Temporary failure in name resolution'))\n"
     ]
    },
    {
     "name": "stderr",
     "output_type": "stream",
     "text": [
      "  0%|                                    | 253/87736 [47:36<14:45:19,  1.65it/s]"
     ]
    },
    {
     "name": "stdout",
     "output_type": "stream",
     "text": [
      "0 HTTPConnectionPool(host='dspace.unimap.edu.my', port=80): Max retries exceeded with url: /dspace/bitstream/123456789/11016/1/Buku%20Program%20ICoHSE%202010.pdf (Caused by NewConnectionError('<urllib3.connection.HTTPConnection object at 0x7f47a8782d30>: Failed to establish a new connection: [Errno 110] Connection timed out'))\n",
      "1 HTTPConnectionPool(host='dspace.unimap.edu.my', port=80): Max retries exceeded with url: /dspace/bitstream/123456789/11016/1/Buku%20Program%20ICoHSE%202010.pdf (Caused by NewConnectionError('<urllib3.connection.HTTPConnection object at 0x7f47a8793ee0>: Failed to establish a new connection: [Errno 110] Connection timed out'))\n",
      "2 HTTPConnectionPool(host='dspace.unimap.edu.my', port=80): Max retries exceeded with url: /dspace/bitstream/123456789/11016/1/Buku%20Program%20ICoHSE%202010.pdf (Caused by NewConnectionError('<urllib3.connection.HTTPConnection object at 0x7f47a8793730>: Failed to establish a new connection: [Errno 110] Connection timed out'))\n"
     ]
    },
    {
     "name": "stderr",
     "output_type": "stream",
     "text": [
      "  0%|▏                                   | 325/87736 [54:16<39:41:04,  1.63s/it]"
     ]
    },
    {
     "name": "stdout",
     "output_type": "stream",
     "text": [
      "0 HTTPConnectionPool(host='eprints.ptar.uitm.edu.my', port=80): Max retries exceeded with url: /3121/1/SP_ASO1101.pdf (Caused by NewConnectionError('<urllib3.connection.HTTPConnection object at 0x7f47a8793250>: Failed to establish a new connection: [Errno 110] Connection timed out'))\n",
      "1 HTTPConnectionPool(host='eprints.ptar.uitm.edu.my', port=80): Max retries exceeded with url: /3121/1/SP_ASO1101.pdf (Caused by NewConnectionError('<urllib3.connection.HTTPConnection object at 0x7f47aa1a1c70>: Failed to establish a new connection: [Errno 110] Connection timed out'))\n",
      "2 HTTPConnectionPool(host='eprints.ptar.uitm.edu.my', port=80): Max retries exceeded with url: /3121/1/SP_ASO1101.pdf (Caused by NewConnectionError('<urllib3.connection.HTTPConnection object at 0x7f47a87828e0>: Failed to establish a new connection: [Errno 110] Connection timed out'))\n"
     ]
    },
    {
     "name": "stderr",
     "output_type": "stream",
     "text": [
      "  0%|▏                                | 340/87736 [1:00:34<129:54:56,  5.35s/it]"
     ]
    },
    {
     "name": "stdout",
     "output_type": "stream",
     "text": [
      "0 HTTPConnectionPool(host='esharianomics.com', port=80): Max retries exceeded with url: /wp-content/uploads/2011/04/A-Review-Of-Commodity-Murabahah-Transaction-As-Offered-By-Bursa-Malaysia_.pdf (Caused by NewConnectionError('<urllib3.connection.HTTPConnection object at 0x7f47a87ad490>: Failed to establish a new connection: [Errno -2] Name or service not known'))\n",
      "1 HTTPConnectionPool(host='esharianomics.com', port=80): Max retries exceeded with url: /wp-content/uploads/2011/04/A-Review-Of-Commodity-Murabahah-Transaction-As-Offered-By-Bursa-Malaysia_.pdf (Caused by NewConnectionError('<urllib3.connection.HTTPConnection object at 0x7f47a87ad370>: Failed to establish a new connection: [Errno -2] Name or service not known'))\n",
      "2 HTTPConnectionPool(host='esharianomics.com', port=80): Max retries exceeded with url: /wp-content/uploads/2011/04/A-Review-Of-Commodity-Murabahah-Transaction-As-Offered-By-Bursa-Malaysia_.pdf (Caused by NewConnectionError('<urllib3.connection.HTTPConnection object at 0x7f47a87ad760>: Failed to establish a new connection: [Errno -2] Name or service not known'))\n"
     ]
    },
    {
     "name": "stderr",
     "output_type": "stream",
     "text": [
      "  0%|▏                                 | 359/87736 [1:00:41<12:27:20,  1.95it/s]"
     ]
    },
    {
     "name": "stdout",
     "output_type": "stream",
     "text": [
      "0 HTTPConnectionPool(host='fst.ukm.my', port=80): Max retries exceeded with url: /ppsmfst/icms3/ICMS3%20Scientific%20Programme.pdf (Caused by NewConnectionError('<urllib3.connection.HTTPConnection object at 0x7f47a87829d0>: Failed to establish a new connection: [Errno -2] Name or service not known'))\n",
      "1 HTTPConnectionPool(host='fst.ukm.my', port=80): Max retries exceeded with url: /ppsmfst/icms3/ICMS3%20Scientific%20Programme.pdf (Caused by NewConnectionError('<urllib3.connection.HTTPConnection object at 0x7f47a8782310>: Failed to establish a new connection: [Errno -2] Name or service not known'))\n",
      "2 HTTPConnectionPool(host='fst.ukm.my', port=80): Max retries exceeded with url: /ppsmfst/icms3/ICMS3%20Scientific%20Programme.pdf (Caused by NewConnectionError('<urllib3.connection.HTTPConnection object at 0x7f47a8782fa0>: Failed to establish a new connection: [Errno -2] Name or service not known'))\n"
     ]
    },
    {
     "name": "stderr",
     "output_type": "stream",
     "text": [
      "  0%|▏                                 | 364/87736 [1:00:45<13:52:56,  1.75it/s]"
     ]
    },
    {
     "name": "stdout",
     "output_type": "stream",
     "text": [
      "0 HTTPConnectionPool(host='gbmr.ioksp.com', port=80): Max retries exceeded with url: /pdf/vol.%206%20no.%203/v6n3-7.pdf (Caused by NewConnectionError('<urllib3.connection.HTTPConnection object at 0x7f47aa1a12e0>: Failed to establish a new connection: [Errno -2] Name or service not known'))\n",
      "1 HTTPConnectionPool(host='gbmr.ioksp.com', port=80): Max retries exceeded with url: /pdf/vol.%206%20no.%203/v6n3-7.pdf (Caused by NewConnectionError('<urllib3.connection.HTTPConnection object at 0x7f47a87828e0>: Failed to establish a new connection: [Errno -2] Name or service not known'))\n",
      "2 HTTPConnectionPool(host='gbmr.ioksp.com', port=80): Max retries exceeded with url: /pdf/vol.%206%20no.%203/v6n3-7.pdf (Caused by NewConnectionError('<urllib3.connection.HTTPConnection object at 0x7f47a8782ee0>: Failed to establish a new connection: [Errno -2] Name or service not known'))\n"
     ]
    },
    {
     "name": "stderr",
     "output_type": "stream",
     "text": [
      "  0%|▏                                 | 381/87736 [1:00:56<14:49:22,  1.64it/s]"
     ]
    },
    {
     "name": "stdout",
     "output_type": "stream",
     "text": [
      "0 HTTPConnectionPool(host='gfif.ciitlahore.edu.pk', port=80): Max retries exceeded with url: /2018/downloads/GFIF2018-Proceeding.pdf (Caused by NewConnectionError('<urllib3.connection.HTTPConnection object at 0x7f47aa20b700>: Failed to establish a new connection: [Errno -2] Name or service not known'))\n",
      "1 HTTPConnectionPool(host='gfif.ciitlahore.edu.pk', port=80): Max retries exceeded with url: /2018/downloads/GFIF2018-Proceeding.pdf (Caused by NewConnectionError('<urllib3.connection.HTTPConnection object at 0x7f47aa20b9d0>: Failed to establish a new connection: [Errno -2] Name or service not known'))\n",
      "2 HTTPConnectionPool(host='gfif.ciitlahore.edu.pk', port=80): Max retries exceeded with url: /2018/downloads/GFIF2018-Proceeding.pdf (Caused by NewConnectionError('<urllib3.connection.HTTPConnection object at 0x7f47aa20b6a0>: Failed to establish a new connection: [Errno -2] Name or service not known'))\n"
     ]
    },
    {
     "name": "stderr",
     "output_type": "stream",
     "text": [
      "  0%|▏                                 | 383/87736 [1:00:59<24:48:20,  1.02s/it]"
     ]
    },
    {
     "name": "stdout",
     "output_type": "stream",
     "text": [
      "0 HTTPConnectionPool(host='groups.eortc.be', port=80): Max retries exceeded with url: /qol/sites/default/files/archives/qolg_newsletter_11.pdf (Caused by NewConnectionError('<urllib3.connection.HTTPConnection object at 0x7f47aa20bbe0>: Failed to establish a new connection: [Errno 110] Connection timed out'))\n",
      "1 HTTPConnectionPool(host='groups.eortc.be', port=80): Max retries exceeded with url: /qol/sites/default/files/archives/qolg_newsletter_11.pdf (Caused by NewConnectionError('<urllib3.connection.HTTPConnection object at 0x7f47a87a3ee0>: Failed to establish a new connection: [Errno 110] Connection timed out'))\n",
      "2 HTTPConnectionPool(host='groups.eortc.be', port=80): Max retries exceeded with url: /qol/sites/default/files/archives/qolg_newsletter_11.pdf (Caused by NewConnectionError('<urllib3.connection.HTTPConnection object at 0x7f47a87a3130>: Failed to establish a new connection: [Errno 110] Connection timed out'))\n"
     ]
    },
    {
     "name": "stderr",
     "output_type": "stream",
     "text": [
      "\r",
      "  0%|▏                               | 385/87736 [1:07:36<2237:46:48, 92.23s/it]"
     ]
    },
    {
     "name": "stdout",
     "output_type": "stream",
     "text": [
      "0 HTTPConnectionPool(host='gtia.co.in', port=80): Max retries exceeded with url: /papers/IJITS32042014.pdf (Caused by NewConnectionError('<urllib3.connection.HTTPConnection object at 0x7f47a8793880>: Failed to establish a new connection: [Errno -3] Temporary failure in name resolution'))\n",
      "1 HTTPConnectionPool(host='gtia.co.in', port=80): Max retries exceeded with url: /papers/IJITS32042014.pdf (Caused by NewConnectionError('<urllib3.connection.HTTPConnection object at 0x7f47a87a3700>: Failed to establish a new connection: [Errno -3] Temporary failure in name resolution'))\n",
      "2 HTTPConnectionPool(host='gtia.co.in', port=80): Max retries exceeded with url: /papers/IJITS32042014.pdf (Caused by NewConnectionError('<urllib3.connection.HTTPConnection object at 0x7f47a87a36d0>: Failed to establish a new connection: [Errno -3] Temporary failure in name resolution'))\n"
     ]
    },
    {
     "name": "stderr",
     "output_type": "stream",
     "text": [
      "  0%|▏                               | 388/87736 [1:07:59<1169:22:38, 48.20s/it]"
     ]
    },
    {
     "name": "stdout",
     "output_type": "stream",
     "text": [
      "0 HTTPConnectionPool(host='home.ijasca.com', port=80): Max retries exceeded with url: /data/documents/PiD_648_IJASCA_salleh_2014.pdf (Caused by NewConnectionError('<urllib3.connection.HTTPConnection object at 0x7f47a87a3f10>: Failed to establish a new connection: [Errno -2] Name or service not known'))\n",
      "1 HTTPConnectionPool(host='home.ijasca.com', port=80): Max retries exceeded with url: /data/documents/PiD_648_IJASCA_salleh_2014.pdf (Caused by NewConnectionError('<urllib3.connection.HTTPConnection object at 0x7f47a87a3970>: Failed to establish a new connection: [Errno -2] Name or service not known'))\n",
      "2 HTTPConnectionPool(host='home.ijasca.com', port=80): Max retries exceeded with url: /data/documents/PiD_648_IJASCA_salleh_2014.pdf (Caused by NewConnectionError('<urllib3.connection.HTTPConnection object at 0x7f47a87a33d0>: Failed to establish a new connection: [Errno -2] Name or service not known'))\n"
     ]
    },
    {
     "name": "stderr",
     "output_type": "stream",
     "text": [
      "  0%|▏                                 | 420/87736 [1:08:07<56:42:16,  2.34s/it]"
     ]
    },
    {
     "name": "stdout",
     "output_type": "stream",
     "text": [
      "0 HTTPConnectionPool(host='i-inova2014.usim.edu.my', port=80): Max retries exceeded with url: /files/SENARAI%20PEMENANG%20KATEGORI%20OPEN.pdf (Caused by NewConnectionError('<urllib3.connection.HTTPConnection object at 0x7f47aa1a1310>: Failed to establish a new connection: [Errno -2] Name or service not known'))\n",
      "1 HTTPConnectionPool(host='i-inova2014.usim.edu.my', port=80): Max retries exceeded with url: /files/SENARAI%20PEMENANG%20KATEGORI%20OPEN.pdf (Caused by NewConnectionError('<urllib3.connection.HTTPConnection object at 0x7f47a87a36a0>: Failed to establish a new connection: [Errno -2] Name or service not known'))\n",
      "2 HTTPConnectionPool(host='i-inova2014.usim.edu.my', port=80): Max retries exceeded with url: /files/SENARAI%20PEMENANG%20KATEGORI%20OPEN.pdf (Caused by NewConnectionError('<urllib3.connection.HTTPConnection object at 0x7f47a87a3070>: Failed to establish a new connection: [Errno -2] Name or service not known'))\n"
     ]
    },
    {
     "name": "stderr",
     "output_type": "stream",
     "text": [
      "\r",
      "  0%|▏                                 | 421/87736 [1:08:09<55:26:13,  2.29s/it]"
     ]
    },
    {
     "name": "stdout",
     "output_type": "stream",
     "text": [
      "0 ('Connection aborted.', RemoteDisconnected('Remote end closed connection without response'))\n",
      "1 ('Connection aborted.', RemoteDisconnected('Remote end closed connection without response'))\n",
      "2 ('Connection aborted.', RemoteDisconnected('Remote end closed connection without response'))\n"
     ]
    },
    {
     "name": "stderr",
     "output_type": "stream",
     "text": [
      "  1%|▏                                  | 452/87736 [1:08:19<8:15:14,  2.94it/s]"
     ]
    },
    {
     "name": "stdout",
     "output_type": "stream",
     "text": [
      "0 HTTPConnectionPool(host='icoci.cms.net.my', port=80): Max retries exceeded with url: /PROCEEDINGS/2017/Pdf_Version_Chap02e/PID45-77-83e.pdf (Caused by NewConnectionError('<urllib3.connection.HTTPConnection object at 0x7f47aa146370>: Failed to establish a new connection: [Errno -2] Name or service not known'))\n",
      "1 HTTPConnectionPool(host='icoci.cms.net.my', port=80): Max retries exceeded with url: /PROCEEDINGS/2017/Pdf_Version_Chap02e/PID45-77-83e.pdf (Caused by NewConnectionError('<urllib3.connection.HTTPConnection object at 0x7f47a87a3af0>: Failed to establish a new connection: [Errno -2] Name or service not known'))\n",
      "2 HTTPConnectionPool(host='icoci.cms.net.my', port=80): Max retries exceeded with url: /PROCEEDINGS/2017/Pdf_Version_Chap02e/PID45-77-83e.pdf (Caused by NewConnectionError('<urllib3.connection.HTTPConnection object at 0x7f47aa146670>: Failed to establish a new connection: [Errno -2] Name or service not known'))\n"
     ]
    },
    {
     "name": "stderr",
     "output_type": "stream",
     "text": [
      "\r",
      "  1%|▏                                 | 454/87736 [1:08:21<10:08:39,  2.39it/s]"
     ]
    },
    {
     "name": "stdout",
     "output_type": "stream",
     "text": [
      "0 HTTPConnectionPool(host='icoci.cms.net.my', port=80): Max retries exceeded with url: /PROCEEDINGS/2017/Pdf_Version_Chap03e/PID157-184-190e.pdf (Caused by NewConnectionError('<urllib3.connection.HTTPConnection object at 0x7f47a87a3af0>: Failed to establish a new connection: [Errno -2] Name or service not known'))\n",
      "1 HTTPConnectionPool(host='icoci.cms.net.my', port=80): Max retries exceeded with url: /PROCEEDINGS/2017/Pdf_Version_Chap03e/PID157-184-190e.pdf (Caused by NewConnectionError('<urllib3.connection.HTTPConnection object at 0x7f47aa146370>: Failed to establish a new connection: [Errno -2] Name or service not known'))\n",
      "2 HTTPConnectionPool(host='icoci.cms.net.my', port=80): Max retries exceeded with url: /PROCEEDINGS/2017/Pdf_Version_Chap03e/PID157-184-190e.pdf (Caused by NewConnectionError('<urllib3.connection.HTTPConnection object at 0x7f47a87a3a90>: Failed to establish a new connection: [Errno -2] Name or service not known'))\n"
     ]
    },
    {
     "name": "stderr",
     "output_type": "stream",
     "text": [
      "\r",
      "  1%|▏                                 | 455/87736 [1:08:23<13:14:24,  1.83it/s]"
     ]
    },
    {
     "name": "stdout",
     "output_type": "stream",
     "text": [
      "0 HTTPConnectionPool(host='icoci.cms.net.my', port=80): Max retries exceeded with url: /PROCEEDINGS/2017/Pdf_Version_Chap06e/PID194-350-355e.pdf (Caused by NewConnectionError('<urllib3.connection.HTTPConnection object at 0x7f47aa146370>: Failed to establish a new connection: [Errno -2] Name or service not known'))\n",
      "1 HTTPConnectionPool(host='icoci.cms.net.my', port=80): Max retries exceeded with url: /PROCEEDINGS/2017/Pdf_Version_Chap06e/PID194-350-355e.pdf (Caused by NewConnectionError('<urllib3.connection.HTTPConnection object at 0x7f47a87a3b20>: Failed to establish a new connection: [Errno -2] Name or service not known'))\n",
      "2 HTTPConnectionPool(host='icoci.cms.net.my', port=80): Max retries exceeded with url: /PROCEEDINGS/2017/Pdf_Version_Chap06e/PID194-350-355e.pdf (Caused by NewConnectionError('<urllib3.connection.HTTPConnection object at 0x7f47aa146ee0>: Failed to establish a new connection: [Errno -2] Name or service not known'))\n"
     ]
    },
    {
     "name": "stderr",
     "output_type": "stream",
     "text": [
      "\r",
      "  1%|▏                                 | 456/87736 [1:08:24<16:39:26,  1.46it/s]"
     ]
    },
    {
     "name": "stdout",
     "output_type": "stream",
     "text": [
      "0 HTTPConnectionPool(host='icoci.cms.net.my', port=80): Max retries exceeded with url: /PROCEEDINGS/2017/Pdf_Version_Chap07e/PID211-400-405e.pdf (Caused by NewConnectionError('<urllib3.connection.HTTPConnection object at 0x7f47a87a3b20>: Failed to establish a new connection: [Errno -2] Name or service not known'))\n",
      "1 HTTPConnectionPool(host='icoci.cms.net.my', port=80): Max retries exceeded with url: /PROCEEDINGS/2017/Pdf_Version_Chap07e/PID211-400-405e.pdf (Caused by NewConnectionError('<urllib3.connection.HTTPConnection object at 0x7f47aa146370>: Failed to establish a new connection: [Errno -2] Name or service not known'))\n",
      "2 HTTPConnectionPool(host='icoci.cms.net.my', port=80): Max retries exceeded with url: /PROCEEDINGS/2017/Pdf_Version_Chap07e/PID211-400-405e.pdf (Caused by NewConnectionError('<urllib3.connection.HTTPConnection object at 0x7f47a87a3b50>: Failed to establish a new connection: [Errno -2] Name or service not known'))\n"
     ]
    },
    {
     "name": "stderr",
     "output_type": "stream",
     "text": [
      "\r",
      "  1%|▏                                 | 457/87736 [1:08:26<20:08:54,  1.20it/s]"
     ]
    },
    {
     "name": "stdout",
     "output_type": "stream",
     "text": [
      "0 HTTPConnectionPool(host='icoci.cms.net.my', port=80): Max retries exceeded with url: /PROCEEDINGS/2017/Pdf_Version_Chap12e/PID215-583-588e.pdf (Caused by NewConnectionError('<urllib3.connection.HTTPConnection object at 0x7f47aa146370>: Failed to establish a new connection: [Errno -2] Name or service not known'))\n",
      "1 HTTPConnectionPool(host='icoci.cms.net.my', port=80): Max retries exceeded with url: /PROCEEDINGS/2017/Pdf_Version_Chap12e/PID215-583-588e.pdf (Caused by NewConnectionError('<urllib3.connection.HTTPConnection object at 0x7f47a87a3760>: Failed to establish a new connection: [Errno -2] Name or service not known'))\n",
      "2 HTTPConnectionPool(host='icoci.cms.net.my', port=80): Max retries exceeded with url: /PROCEEDINGS/2017/Pdf_Version_Chap12e/PID215-583-588e.pdf (Caused by NewConnectionError('<urllib3.connection.HTTPConnection object at 0x7f47aa146940>: Failed to establish a new connection: [Errno -2] Name or service not known'))\n"
     ]
    },
    {
     "name": "stderr",
     "output_type": "stream",
     "text": [
      "\r",
      "  1%|▏                                 | 458/87736 [1:08:27<23:39:40,  1.02it/s]"
     ]
    },
    {
     "name": "stdout",
     "output_type": "stream",
     "text": [
      "0 HTTPConnectionPool(host='icoci.cms.net.my', port=80): Max retries exceeded with url: /PROCEEDINGS/2017/Pdf_Version_Chap12e/PID91-567-576e.pdf (Caused by NewConnectionError('<urllib3.connection.HTTPConnection object at 0x7f47a87a3760>: Failed to establish a new connection: [Errno -2] Name or service not known'))\n",
      "1 HTTPConnectionPool(host='icoci.cms.net.my', port=80): Max retries exceeded with url: /PROCEEDINGS/2017/Pdf_Version_Chap12e/PID91-567-576e.pdf (Caused by NewConnectionError('<urllib3.connection.HTTPConnection object at 0x7f47aa146370>: Failed to establish a new connection: [Errno -2] Name or service not known'))\n",
      "2 HTTPConnectionPool(host='icoci.cms.net.my', port=80): Max retries exceeded with url: /PROCEEDINGS/2017/Pdf_Version_Chap12e/PID91-567-576e.pdf (Caused by NewConnectionError('<urllib3.connection.HTTPConnection object at 0x7f47a87a3eb0>: Failed to establish a new connection: [Errno -2] Name or service not known'))\n"
     ]
    },
    {
     "name": "stderr",
     "output_type": "stream",
     "text": [
      "\r",
      "  1%|▏                                 | 459/87736 [1:08:29<26:49:46,  1.11s/it]"
     ]
    },
    {
     "name": "stdout",
     "output_type": "stream",
     "text": [
      "0 HTTPConnectionPool(host='icoci.cms.net.my', port=80): Max retries exceeded with url: /PROCEEDINGS/2017/Pdf_Version_Chap15e/PID196-650-655e.pdf (Caused by NewConnectionError('<urllib3.connection.HTTPConnection object at 0x7f47aa146370>: Failed to establish a new connection: [Errno -2] Name or service not known'))\n",
      "1 HTTPConnectionPool(host='icoci.cms.net.my', port=80): Max retries exceeded with url: /PROCEEDINGS/2017/Pdf_Version_Chap15e/PID196-650-655e.pdf (Caused by NewConnectionError('<urllib3.connection.HTTPConnection object at 0x7f47a87a37f0>: Failed to establish a new connection: [Errno -2] Name or service not known'))\n",
      "2 HTTPConnectionPool(host='icoci.cms.net.my', port=80): Max retries exceeded with url: /PROCEEDINGS/2017/Pdf_Version_Chap15e/PID196-650-655e.pdf (Caused by NewConnectionError('<urllib3.connection.HTTPConnection object at 0x7f47aa146820>: Failed to establish a new connection: [Errno -2] Name or service not known'))\n"
     ]
    },
    {
     "name": "stderr",
     "output_type": "stream",
     "text": [
      "\r",
      "  1%|▏                                 | 460/87736 [1:08:31<29:36:51,  1.22s/it]"
     ]
    },
    {
     "name": "stdout",
     "output_type": "stream",
     "text": [
      "0 HTTPConnectionPool(host='icoec.my', port=80): Max retries exceeded with url: /download/icoec_2015/05_ICoEC2015_Nor%20Alina%20Ismail.pdf (Caused by NewConnectionError('<urllib3.connection.HTTPConnection object at 0x7f47a87a3a60>: Failed to establish a new connection: [Errno -2] Name or service not known'))\n",
      "1 HTTPConnectionPool(host='icoec.my', port=80): Max retries exceeded with url: /download/icoec_2015/05_ICoEC2015_Nor%20Alina%20Ismail.pdf (Caused by NewConnectionError('<urllib3.connection.HTTPConnection object at 0x7f47aa1461f0>: Failed to establish a new connection: [Errno -2] Name or service not known'))\n",
      "2 HTTPConnectionPool(host='icoec.my', port=80): Max retries exceeded with url: /download/icoec_2015/05_ICoEC2015_Nor%20Alina%20Ismail.pdf (Caused by NewConnectionError('<urllib3.connection.HTTPConnection object at 0x7f47aa1461f0>: Failed to establish a new connection: [Errno -2] Name or service not known'))\n"
     ]
    },
    {
     "name": "stderr",
     "output_type": "stream",
     "text": [
      "\r",
      "  1%|▏                                 | 461/87736 [1:08:32<31:57:16,  1.32s/it]"
     ]
    },
    {
     "name": "stdout",
     "output_type": "stream",
     "text": [
      "0 HTTPConnectionPool(host='icoec.my', port=80): Max retries exceeded with url: /download/icoec_2017/ICoEC2017_136.pdf (Caused by NewConnectionError('<urllib3.connection.HTTPConnection object at 0x7f47aa146f40>: Failed to establish a new connection: [Errno -2] Name or service not known'))\n",
      "1 HTTPConnectionPool(host='icoec.my', port=80): Max retries exceeded with url: /download/icoec_2017/ICoEC2017_136.pdf (Caused by NewConnectionError('<urllib3.connection.HTTPConnection object at 0x7f47aa1a1d00>: Failed to establish a new connection: [Errno -2] Name or service not known'))\n",
      "2 HTTPConnectionPool(host='icoec.my', port=80): Max retries exceeded with url: /download/icoec_2017/ICoEC2017_136.pdf (Caused by NewConnectionError('<urllib3.connection.HTTPConnection object at 0x7f47aa146070>: Failed to establish a new connection: [Errno -2] Name or service not known'))\n"
     ]
    },
    {
     "name": "stderr",
     "output_type": "stream",
     "text": [
      "\r",
      "  1%|▏                                 | 462/87736 [1:08:34<33:48:50,  1.39s/it]"
     ]
    },
    {
     "name": "stdout",
     "output_type": "stream",
     "text": [
      "0 HTTPConnectionPool(host='icopp.uitm.edu.my', port=80): Max retries exceeded with url: /ICOPP%20Abstract%20Book.pdf (Caused by NewConnectionError('<urllib3.connection.HTTPConnection object at 0x7f47aa1a1fd0>: Failed to establish a new connection: [Errno -2] Name or service not known'))\n",
      "1 HTTPConnectionPool(host='icopp.uitm.edu.my', port=80): Max retries exceeded with url: /ICOPP%20Abstract%20Book.pdf (Caused by NewConnectionError('<urllib3.connection.HTTPConnection object at 0x7f47aa146520>: Failed to establish a new connection: [Errno -2] Name or service not known'))\n",
      "2 HTTPConnectionPool(host='icopp.uitm.edu.my', port=80): Max retries exceeded with url: /ICOPP%20Abstract%20Book.pdf (Caused by NewConnectionError('<urllib3.connection.HTTPConnection object at 0x7f47aa1a1e80>: Failed to establish a new connection: [Errno -2] Name or service not known'))\n"
     ]
    },
    {
     "name": "stderr",
     "output_type": "stream",
     "text": [
      "\r",
      "  1%|▏                                 | 464/87736 [1:08:35<27:38:58,  1.14s/it]"
     ]
    },
    {
     "name": "stdout",
     "output_type": "stream",
     "text": [
      "0 HTTPConnectionPool(host='icopss.umk.edu.my', port=80): Max retries exceeded with url: /download/PARALLEL-SESSION-ICOPSS-2018.pdf (Caused by NewConnectionError('<urllib3.connection.HTTPConnection object at 0x7f47aa146d60>: Failed to establish a new connection: [Errno -2] Name or service not known'))\n",
      "1 HTTPConnectionPool(host='icopss.umk.edu.my', port=80): Max retries exceeded with url: /download/PARALLEL-SESSION-ICOPSS-2018.pdf (Caused by NewConnectionError('<urllib3.connection.HTTPConnection object at 0x7f47aa1a1d90>: Failed to establish a new connection: [Errno -2] Name or service not known'))\n",
      "2 HTTPConnectionPool(host='icopss.umk.edu.my', port=80): Max retries exceeded with url: /download/PARALLEL-SESSION-ICOPSS-2018.pdf (Caused by NewConnectionError('<urllib3.connection.HTTPConnection object at 0x7f47aa1465e0>: Failed to establish a new connection: [Errno -2] Name or service not known'))\n"
     ]
    },
    {
     "name": "stderr",
     "output_type": "stream",
     "text": [
      "  1%|▏                                 | 470/87736 [1:08:42<22:15:39,  1.09it/s]"
     ]
    },
    {
     "name": "stdout",
     "output_type": "stream",
     "text": [
      "0 HTTPConnectionPool(host='iebbssce2-2015.com', port=80): Max retries exceeded with url: /wp-content/uploads/2015/05/Paper-Presentation-Schedule.pdf (Caused by NewConnectionError('<urllib3.connection.HTTPConnection object at 0x7f47aa1469d0>: Failed to establish a new connection: [Errno -2] Name or service not known'))\n",
      "1 HTTPConnectionPool(host='iebbssce2-2015.com', port=80): Max retries exceeded with url: /wp-content/uploads/2015/05/Paper-Presentation-Schedule.pdf (Caused by NewConnectionError('<urllib3.connection.HTTPConnection object at 0x7f47aa1a12e0>: Failed to establish a new connection: [Errno -2] Name or service not known'))\n",
      "2 HTTPConnectionPool(host='iebbssce2-2015.com', port=80): Max retries exceeded with url: /wp-content/uploads/2015/05/Paper-Presentation-Schedule.pdf (Caused by NewConnectionError('<urllib3.connection.HTTPConnection object at 0x7f47aa146e20>: Failed to establish a new connection: [Errno -2] Name or service not known'))\n"
     ]
    },
    {
     "name": "stderr",
     "output_type": "stream",
     "text": [
      "  1%|▏                                  | 502/87736 [1:08:47<8:14:41,  2.94it/s]"
     ]
    },
    {
     "name": "stdout",
     "output_type": "stream",
     "text": [
      "0 HTTPConnectionPool(host='ifm.org.my', port=80): Max retries exceeded with url: /sites/default/files/publications/JFM2018_V39No2_20041.pdf (Caused by NewConnectionError('<urllib3.connection.HTTPConnection object at 0x7f47aa1a1a30>: Failed to establish a new connection: [Errno 110] Connection timed out'))\n",
      "1 HTTPConnectionPool(host='ifm.org.my', port=80): Max retries exceeded with url: /sites/default/files/publications/JFM2018_V39No2_20041.pdf (Caused by NewConnectionError('<urllib3.connection.HTTPConnection object at 0x7f47a8786f10>: Failed to establish a new connection: [Errno 110] Connection timed out'))\n",
      "2 HTTPConnectionPool(host='ifm.org.my', port=80): Max retries exceeded with url: /sites/default/files/publications/JFM2018_V39No2_20041.pdf (Caused by NewConnectionError('<urllib3.connection.HTTPConnection object at 0x7f47aa1a1310>: Failed to establish a new connection: [Errno 110] Connection timed out'))\n"
     ]
    },
    {
     "name": "stderr",
     "output_type": "stream",
     "text": [
      "\r",
      "  1%|▏                                | 512/87736 [1:15:19<485:18:06, 20.03s/it]"
     ]
    },
    {
     "name": "stdout",
     "output_type": "stream",
     "text": [
      "0 HTTPConnectionPool(host='ifm.org.my', port=80): Max retries exceeded with url: /sites/default/files/publications/jfm2019_Vol40No1_10008_0.pdf (Caused by NewConnectionError('<urllib3.connection.HTTPConnection object at 0x7f47aa20b340>: Failed to establish a new connection: [Errno 110] Connection timed out'))\n",
      "1 HTTPConnectionPool(host='ifm.org.my', port=80): Max retries exceeded with url: /sites/default/files/publications/jfm2019_Vol40No1_10008_0.pdf (Caused by NewConnectionError('<urllib3.connection.HTTPConnection object at 0x7f47a87a3160>: Failed to establish a new connection: [Errno 110] Connection timed out'))\n",
      "2 HTTPConnectionPool(host='ifm.org.my', port=80): Max retries exceeded with url: /sites/default/files/publications/jfm2019_Vol40No1_10008_0.pdf (Caused by NewConnectionError('<urllib3.connection.HTTPConnection object at 0x7f47a8786160>: Failed to establish a new connection: [Errno 110] Connection timed out'))\n"
     ]
    },
    {
     "name": "stderr",
     "output_type": "stream",
     "text": [
      "  1%|▏                                | 524/87736 [1:22:02<367:58:57, 15.19s/it]"
     ]
    },
    {
     "name": "stdout",
     "output_type": "stream",
     "text": [
      "0 HTTPConnectionPool(host='iidc.com.my', port=80): Max retries exceeded with url: /wp-content/uploads/2017/09/IIDC-eBook.pdf (Caused by NewConnectionError('<urllib3.connection.HTTPConnection object at 0x7f47a87a33d0>: Failed to establish a new connection: [Errno -2] Name or service not known'))\n",
      "1 HTTPConnectionPool(host='iidc.com.my', port=80): Max retries exceeded with url: /wp-content/uploads/2017/09/IIDC-eBook.pdf (Caused by NewConnectionError('<urllib3.connection.HTTPConnection object at 0x7f47a87a3760>: Failed to establish a new connection: [Errno -2] Name or service not known'))\n",
      "2 HTTPConnectionPool(host='iidc.com.my', port=80): Max retries exceeded with url: /wp-content/uploads/2017/09/IIDC-eBook.pdf (Caused by NewConnectionError('<urllib3.connection.HTTPConnection object at 0x7f47a87a3910>: Failed to establish a new connection: [Errno -2] Name or service not known'))\n"
     ]
    },
    {
     "name": "stderr",
     "output_type": "stream",
     "text": [
      "  1%|▏                                 | 532/87736 [1:22:06<89:07:58,  3.68s/it]"
     ]
    },
    {
     "name": "stdout",
     "output_type": "stream",
     "text": [
      "0 HTTPConnectionPool(host='iiumedic.com', port=80): Max retries exceeded with url: /eimj/v1/wp-content/files/Vol10No2/IMJM%20Vol%2010%20No%202%20p31-38.pdf (Caused by NewConnectionError('<urllib3.connection.HTTPConnection object at 0x7f47a87a3700>: Failed to establish a new connection: [Errno -5] No address associated with hostname'))\n",
      "1 HTTPConnectionPool(host='iiumedic.com', port=80): Max retries exceeded with url: /eimj/v1/wp-content/files/Vol10No2/IMJM%20Vol%2010%20No%202%20p31-38.pdf (Caused by NewConnectionError('<urllib3.connection.HTTPConnection object at 0x7f47a87a39a0>: Failed to establish a new connection: [Errno -5] No address associated with hostname'))\n",
      "2 HTTPConnectionPool(host='iiumedic.com', port=80): Max retries exceeded with url: /eimj/v1/wp-content/files/Vol10No2/IMJM%20Vol%2010%20No%202%20p31-38.pdf (Caused by NewConnectionError('<urllib3.connection.HTTPConnection object at 0x7f47a87a35b0>: Failed to establish a new connection: [Errno -5] No address associated with hostname'))\n"
     ]
    },
    {
     "name": "stderr",
     "output_type": "stream",
     "text": [
      "  1%|▎                                  | 867/87736 [1:22:50<7:19:47,  3.29it/s]"
     ]
    },
    {
     "name": "stdout",
     "output_type": "stream",
     "text": [
      "0 HTTPConnectionPool(host='ijmp.mums.ac.ir', port=80): Max retries exceeded with url: /article_10573_727fdf069f10be3ab4b4327471d44b3f.pdf (Caused by NewConnectionError('<urllib3.connection.HTTPConnection object at 0x7f47a87a3220>: Failed to establish a new connection: [Errno -3] Temporary failure in name resolution'))\n",
      "1 HTTPConnectionPool(host='ijmp.mums.ac.ir', port=80): Max retries exceeded with url: /article_10573_727fdf069f10be3ab4b4327471d44b3f.pdf (Caused by NewConnectionError('<urllib3.connection.HTTPConnection object at 0x7f47a87a3a30>: Failed to establish a new connection: [Errno -3] Temporary failure in name resolution'))\n",
      "2 HTTPConnectionPool(host='ijmp.mums.ac.ir', port=80): Max retries exceeded with url: /article_10573_727fdf069f10be3ab4b4327471d44b3f.pdf (Caused by NewConnectionError('<urllib3.connection.HTTPConnection object at 0x7f47a87a3040>: Failed to establish a new connection: [Errno -3] Temporary failure in name resolution'))\n"
     ]
    },
    {
     "name": "stderr",
     "output_type": "stream",
     "text": [
      "\r",
      "  1%|▎                                 | 868/87736 [1:22:56<22:05:33,  1.09it/s]"
     ]
    },
    {
     "name": "stdout",
     "output_type": "stream",
     "text": [
      "0 HTTPConnectionPool(host='ijmp.mums.ac.ir', port=80): Max retries exceeded with url: /article_11298_ab1511f31157068abec29ee39c1de828.pdf (Caused by NewConnectionError('<urllib3.connection.HTTPConnection object at 0x7f47a87a3220>: Failed to establish a new connection: [Errno -3] Temporary failure in name resolution'))\n",
      "1 HTTPConnectionPool(host='ijmp.mums.ac.ir', port=80): Max retries exceeded with url: /article_11298_ab1511f31157068abec29ee39c1de828.pdf (Caused by NewConnectionError('<urllib3.connection.HTTPConnection object at 0x7f47a87a3790>: Failed to establish a new connection: [Errno -3] Temporary failure in name resolution'))\n",
      "2 HTTPConnectionPool(host='ijmp.mums.ac.ir', port=80): Max retries exceeded with url: /article_11298_ab1511f31157068abec29ee39c1de828.pdf (Caused by NewConnectionError('<urllib3.connection.HTTPConnection object at 0x7f47a87a3b20>: Failed to establish a new connection: [Errno -3] Temporary failure in name resolution'))\n"
     ]
    },
    {
     "name": "stderr",
     "output_type": "stream",
     "text": [
      "\r",
      "  1%|▎                                | 869/87736 [1:23:27<116:32:04,  4.83s/it]"
     ]
    },
    {
     "name": "stdout",
     "output_type": "stream",
     "text": [
      "0 HTTPConnectionPool(host='ijmp.mums.ac.ir', port=80): Max retries exceeded with url: /article_8835_e62fb201582efe42733fd9b00eb1b147.pdf (Caused by NewConnectionError('<urllib3.connection.HTTPConnection object at 0x7f47a87a3820>: Failed to establish a new connection: [Errno -3] Temporary failure in name resolution'))\n",
      "1 HTTPConnectionPool(host='ijmp.mums.ac.ir', port=80): Max retries exceeded with url: /article_8835_e62fb201582efe42733fd9b00eb1b147.pdf (Caused by NewConnectionError('<urllib3.connection.HTTPConnection object at 0x7f47a87a3790>: Failed to establish a new connection: [Errno -3] Temporary failure in name resolution'))\n",
      "2 HTTPConnectionPool(host='ijmp.mums.ac.ir', port=80): Max retries exceeded with url: /article_8835_e62fb201582efe42733fd9b00eb1b147.pdf (Caused by NewConnectionError('<urllib3.connection.HTTPConnection object at 0x7f47a87a3e50>: Failed to establish a new connection: [Errno -3] Temporary failure in name resolution'))\n"
     ]
    },
    {
     "name": "stderr",
     "output_type": "stream",
     "text": [
      "\r",
      "  1%|▎                                | 870/87736 [1:23:59<216:05:27,  8.96s/it]"
     ]
    },
    {
     "name": "stdout",
     "output_type": "stream",
     "text": [
      "0 HTTPConnectionPool(host='ijmp.mums.ac.ir', port=80): Max retries exceeded with url: /article_9546_14a4845c6be4ffd83b1a2c4a21dc3d2f.pdf (Caused by NewConnectionError('<urllib3.connection.HTTPConnection object at 0x7f47a87a3340>: Failed to establish a new connection: [Errno -3] Temporary failure in name resolution'))\n",
      "1 HTTPConnectionPool(host='ijmp.mums.ac.ir', port=80): Max retries exceeded with url: /article_9546_14a4845c6be4ffd83b1a2c4a21dc3d2f.pdf (Caused by NewConnectionError('<urllib3.connection.HTTPConnection object at 0x7f47a87a3790>: Failed to establish a new connection: [Errno -3] Temporary failure in name resolution'))\n",
      "2 HTTPConnectionPool(host='ijmp.mums.ac.ir', port=80): Max retries exceeded with url: /article_9546_14a4845c6be4ffd83b1a2c4a21dc3d2f.pdf (Caused by NewConnectionError('<urllib3.connection.HTTPConnection object at 0x7f47a87a3130>: Failed to establish a new connection: [Errno -3] Temporary failure in name resolution'))\n"
     ]
    },
    {
     "name": "stderr",
     "output_type": "stream",
     "text": [
      "\r",
      "  1%|▎                                | 871/87736 [1:24:31<314:33:54, 13.04s/it]"
     ]
    },
    {
     "name": "stdout",
     "output_type": "stream",
     "text": [
      "0 HTTPConnectionPool(host='ijmp.mums.ac.ir', port=80): Max retries exceeded with url: /article_9583_f66007092045e54a4aaa22ed177ad168.pdf (Caused by NewConnectionError('<urllib3.connection.HTTPConnection object at 0x7f47a87a3be0>: Failed to establish a new connection: [Errno -3] Temporary failure in name resolution'))\n",
      "1 HTTPConnectionPool(host='ijmp.mums.ac.ir', port=80): Max retries exceeded with url: /article_9583_f66007092045e54a4aaa22ed177ad168.pdf (Caused by NewConnectionError('<urllib3.connection.HTTPConnection object at 0x7f47a87a3610>: Failed to establish a new connection: [Errno -3] Temporary failure in name resolution'))\n",
      "2 HTTPConnectionPool(host='ijmp.mums.ac.ir', port=80): Max retries exceeded with url: /article_9583_f66007092045e54a4aaa22ed177ad168.pdf (Caused by NewConnectionError('<urllib3.connection.HTTPConnection object at 0x7f47a87a3af0>: Failed to establish a new connection: [Errno -3] Temporary failure in name resolution'))\n"
     ]
    },
    {
     "name": "stderr",
     "output_type": "stream",
     "text": [
      "  1%|▎                                 | 883/87736 [1:25:04<83:27:11,  3.46s/it]"
     ]
    },
    {
     "name": "stdout",
     "output_type": "stream",
     "text": [
      "0 HTTPConnectionPool(host='ilec2013.usim.edu.my', port=80): Max retries exceeded with url: /images/presentation%20schedule%20ilec%202013.pdf (Caused by NewConnectionError('<urllib3.connection.HTTPConnection object at 0x7f47a87a3160>: Failed to establish a new connection: [Errno -2] Name or service not known'))\n",
      "1 HTTPConnectionPool(host='ilec2013.usim.edu.my', port=80): Max retries exceeded with url: /images/presentation%20schedule%20ilec%202013.pdf (Caused by NewConnectionError('<urllib3.connection.HTTPConnection object at 0x7f47a87a34c0>: Failed to establish a new connection: [Errno -2] Name or service not known'))\n",
      "2 HTTPConnectionPool(host='ilec2013.usim.edu.my', port=80): Max retries exceeded with url: /images/presentation%20schedule%20ilec%202013.pdf (Caused by NewConnectionError('<urllib3.connection.HTTPConnection object at 0x7f47a87a3760>: Failed to establish a new connection: [Errno -2] Name or service not known'))\n"
     ]
    },
    {
     "name": "stderr",
     "output_type": "stream",
     "text": [
      "\r",
      "  1%|▎                                 | 888/87736 [1:25:06<55:29:49,  2.30s/it]"
     ]
    },
    {
     "name": "stdout",
     "output_type": "stream",
     "text": [
      "0 HTTPConnectionPool(host='insipub.net', port=80): Max retries exceeded with url: /ajbas/2009/3282-3290.pdf (Caused by NewConnectionError('<urllib3.connection.HTTPConnection object at 0x7f47a87a3610>: Failed to establish a new connection: [Errno -2] Name or service not known'))\n",
      "1 HTTPConnectionPool(host='insipub.net', port=80): Max retries exceeded with url: /ajbas/2009/3282-3290.pdf (Caused by NewConnectionError('<urllib3.connection.HTTPConnection object at 0x7f47a87a3b80>: Failed to establish a new connection: [Errno -2] Name or service not known'))\n",
      "2 HTTPConnectionPool(host='insipub.net', port=80): Max retries exceeded with url: /ajbas/2009/3282-3290.pdf (Caused by NewConnectionError('<urllib3.connection.HTTPConnection object at 0x7f47a87a3eb0>: Failed to establish a new connection: [Errno -2] Name or service not known'))\n"
     ]
    },
    {
     "name": "stderr",
     "output_type": "stream",
     "text": [
      "\r",
      "  1%|▎                                 | 893/87736 [1:25:07<38:59:42,  1.62s/it]"
     ]
    },
    {
     "name": "stdout",
     "output_type": "stream",
     "text": [
      "0 HTTPConnectionPool(host='insipub.net', port=80): Max retries exceeded with url: /ajbas/2011/728-738.pdf (Caused by NewConnectionError('<urllib3.connection.HTTPConnection object at 0x7f47a87a3340>: Failed to establish a new connection: [Errno -2] Name or service not known'))\n",
      "1 HTTPConnectionPool(host='insipub.net', port=80): Max retries exceeded with url: /ajbas/2011/728-738.pdf (Caused by NewConnectionError('<urllib3.connection.HTTPConnection object at 0x7f47a87a3eb0>: Failed to establish a new connection: [Errno -2] Name or service not known'))\n",
      "2 HTTPConnectionPool(host='insipub.net', port=80): Max retries exceeded with url: /ajbas/2011/728-738.pdf (Caused by NewConnectionError('<urllib3.connection.HTTPConnection object at 0x7f47a87a3a30>: Failed to establish a new connection: [Errno -2] Name or service not known'))\n"
     ]
    },
    {
     "name": "stderr",
     "output_type": "stream",
     "text": [
      "  1%|▎                                 | 896/87736 [1:25:10<32:53:49,  1.36s/it]"
     ]
    },
    {
     "name": "stdout",
     "output_type": "stream",
     "text": [
      "0 HTTPConnectionPool(host='intra.fbme.utm.my', port=80): Max retries exceeded with url: /ICBME/images/EBOOK_ICBME_2016.pdf (Caused by NewConnectionError('<urllib3.connection.HTTPConnection object at 0x7f47a87a3340>: Failed to establish a new connection: [Errno 110] Connection timed out'))\n",
      "1 HTTPConnectionPool(host='intra.fbme.utm.my', port=80): Max retries exceeded with url: /ICBME/images/EBOOK_ICBME_2016.pdf (Caused by NewConnectionError('<urllib3.connection.HTTPConnection object at 0x7f47aa1a1520>: Failed to establish a new connection: [Errno 110] Connection timed out'))\n",
      "2 HTTPConnectionPool(host='intra.fbme.utm.my', port=80): Max retries exceeded with url: /ICBME/images/EBOOK_ICBME_2016.pdf (Caused by NewConnectionError('<urllib3.connection.HTTPConnection object at 0x7f47aa146850>: Failed to establish a new connection: [Errno 110] Connection timed out'))\n"
     ]
    },
    {
     "name": "stderr",
     "output_type": "stream",
     "text": [
      "  1%|▎                               | 898/87736 [1:31:43<1046:54:23, 43.40s/it]"
     ]
    },
    {
     "name": "stdout",
     "output_type": "stream",
     "text": [
      "0 HTTPConnectionPool(host='ir.nul.nagoya-u.ac.jp', port=80): Max retries exceeded with url: /jspui/bitstream/2237/6262/1/09.pdf (Caused by NewConnectionError('<urllib3.connection.HTTPConnection object at 0x7f47a8793730>: Failed to establish a new connection: [Errno -2] Name or service not known'))\n",
      "1 HTTPConnectionPool(host='ir.nul.nagoya-u.ac.jp', port=80): Max retries exceeded with url: /jspui/bitstream/2237/6262/1/09.pdf (Caused by NewConnectionError('<urllib3.connection.HTTPConnection object at 0x7f47a8786640>: Failed to establish a new connection: [Errno -2] Name or service not known'))\n",
      "2 HTTPConnectionPool(host='ir.nul.nagoya-u.ac.jp', port=80): Max retries exceeded with url: /jspui/bitstream/2237/6262/1/09.pdf (Caused by NewConnectionError('<urllib3.connection.HTTPConnection object at 0x7f47a8786640>: Failed to establish a new connection: [Errno -2] Name or service not known'))\n"
     ]
    },
    {
     "name": "stderr",
     "output_type": "stream",
     "text": [
      " 94%|██████████████████████████████▏ | 82842/87736 [1:32:06<00:00, 21190.05it/s]"
     ]
    },
    {
     "name": "stdout",
     "output_type": "stream",
     "text": [
      "0 HTTPConnectionPool(host='isesco.org.ma', port=80): Max retries exceeded with url: /ISESCO_Technology_Vision/NUM13/ISESCO%20Sce/SAPUTRA-OTHMAN.pdf (Caused by NewConnectionError('<urllib3.connection.HTTPConnection object at 0x7f47aa20bb80>: Failed to establish a new connection: [Errno 110] Connection timed out'))\n",
      "1 HTTPConnectionPool(host='isesco.org.ma', port=80): Max retries exceeded with url: /ISESCO_Technology_Vision/NUM13/ISESCO%20Sce/SAPUTRA-OTHMAN.pdf (Caused by NewConnectionError('<urllib3.connection.HTTPConnection object at 0x7f47a873d1f0>: Failed to establish a new connection: [Errno 110] Connection timed out'))\n",
      "2 HTTPConnectionPool(host='isesco.org.ma', port=80): Max retries exceeded with url: /ISESCO_Technology_Vision/NUM13/ISESCO%20Sce/SAPUTRA-OTHMAN.pdf (Caused by NewConnectionError('<urllib3.connection.HTTPConnection object at 0x7f47a873dd30>: Failed to establish a new connection: [Errno 110] Connection timed out'))\n"
     ]
    },
    {
     "name": "stderr",
     "output_type": "stream",
     "text": [
      " 95%|█████████████████████████████████▎ | 83373/87736 [1:38:39<05:24, 13.46it/s]"
     ]
    },
    {
     "name": "stdout",
     "output_type": "stream",
     "text": [
      "0 HTTPConnectionPool(host='islamiccenter.kau.edu.sa', port=80): Max retries exceeded with url: /7iecon/English/Englisg%20Papers/%5B21%5D%20M.Yusuf%20Saleem.pdf (Caused by NewConnectionError('<urllib3.connection.HTTPConnection object at 0x7f47aa1a1f40>: Failed to establish a new connection: [Errno -2] Name or service not known'))\n",
      "1 HTTPConnectionPool(host='islamiccenter.kau.edu.sa', port=80): Max retries exceeded with url: /7iecon/English/Englisg%20Papers/%5B21%5D%20M.Yusuf%20Saleem.pdf (Caused by NewConnectionError('<urllib3.connection.HTTPConnection object at 0x7f47aa20b910>: Failed to establish a new connection: [Errno -2] Name or service not known'))\n",
      "2 HTTPConnectionPool(host='islamiccenter.kau.edu.sa', port=80): Max retries exceeded with url: /7iecon/English/Englisg%20Papers/%5B21%5D%20M.Yusuf%20Saleem.pdf (Caused by NewConnectionError('<urllib3.connection.HTTPConnection object at 0x7f47aa1a1ac0>: Failed to establish a new connection: [Errno -2] Name or service not known'))\n",
      "0 HTTPConnectionPool(host='islamscience.org', port=80): Max retries exceeded with url: /2018/wp-content/uploads/2018/10/bildiri_ozet_kitapcigi.pdf (Caused by NewConnectionError('<urllib3.connection.HTTPConnection object at 0x7f47aa20b9d0>: Failed to establish a new connection: [Errno -2] Name or service not known'))\n",
      "1 HTTPConnectionPool(host='islamscience.org', port=80): Max retries exceeded with url: /2018/wp-content/uploads/2018/10/bildiri_ozet_kitapcigi.pdf (Caused by NewConnectionError('<urllib3.connection.HTTPConnection object at 0x7f47aa20b580>: Failed to establish a new connection: [Errno -2] Name or service not known'))\n",
      "2 HTTPConnectionPool(host='islamscience.org', port=80): Max retries exceeded with url: /2018/wp-content/uploads/2018/10/bildiri_ozet_kitapcigi.pdf (Caused by NewConnectionError('<urllib3.connection.HTTPConnection object at 0x7f47aa20b700>: Failed to establish a new connection: [Errno -2] Name or service not known'))\n"
     ]
    },
    {
     "name": "stderr",
     "output_type": "stream",
     "text": [
      " 95%|█████████████████████████████████▎ | 83384/87736 [1:39:00<05:57, 12.19it/s]"
     ]
    },
    {
     "name": "stdout",
     "output_type": "stream",
     "text": [
      "0 HTTPConnectionPool(host='jamrpublication.com', port=80): Max retries exceeded with url: /uploads/72/4059_pdf.pdf (Caused by NewConnectionError('<urllib3.connection.HTTPConnection object at 0x7f47aa1a1340>: Failed to establish a new connection: [Errno -2] Name or service not known'))\n",
      "1 HTTPConnectionPool(host='jamrpublication.com', port=80): Max retries exceeded with url: /uploads/72/4059_pdf.pdf (Caused by NewConnectionError('<urllib3.connection.HTTPConnection object at 0x7f47aa1a1c70>: Failed to establish a new connection: [Errno -2] Name or service not known'))\n",
      "2 HTTPConnectionPool(host='jamrpublication.com', port=80): Max retries exceeded with url: /uploads/72/4059_pdf.pdf (Caused by NewConnectionError('<urllib3.connection.HTTPConnection object at 0x7f47aa1a1bb0>: Failed to establish a new connection: [Errno -2] Name or service not known'))\n"
     ]
    },
    {
     "name": "stderr",
     "output_type": "stream",
     "text": [
      " 95%|█████████████████████████████████▎ | 83448/87736 [1:40:52<23:10,  3.08it/s]"
     ]
    },
    {
     "name": "stdout",
     "output_type": "stream",
     "text": [
      "0 HTTPConnectionPool(host='jknj.jknj.moh.gov.my', port=80): Max retries exceeded with url: /ejurnal/wp-content/uploads/2016/01/Jurnal-Kesihatan-Johor-Volume-10-2012.pdf (Caused by NewConnectionError('<urllib3.connection.HTTPConnection object at 0x7f47aa1a1610>: Failed to establish a new connection: [Errno 110] Connection timed out'))\n",
      "1 HTTPConnectionPool(host='jknj.jknj.moh.gov.my', port=80): Max retries exceeded with url: /ejurnal/wp-content/uploads/2016/01/Jurnal-Kesihatan-Johor-Volume-10-2012.pdf (Caused by NewConnectionError('<urllib3.connection.HTTPConnection object at 0x7f47a87ac580>: Failed to establish a new connection: [Errno 110] Connection timed out'))\n",
      "2 HTTPConnectionPool(host='jknj.jknj.moh.gov.my', port=80): Max retries exceeded with url: /ejurnal/wp-content/uploads/2016/01/Jurnal-Kesihatan-Johor-Volume-10-2012.pdf (Caused by NewConnectionError('<urllib3.connection.HTTPConnection object at 0x7f47a87acee0>: Failed to establish a new connection: [Errno 110] Connection timed out'))\n"
     ]
    },
    {
     "name": "stderr",
     "output_type": "stream",
     "text": [
      "\r",
      " 95%|███████████████████████████████▍ | 83449/87736 [1:47:24<2:15:25,  1.90s/it]"
     ]
    },
    {
     "name": "stdout",
     "output_type": "stream",
     "text": [
      "0 HTTPConnectionPool(host='jmeche.com', port=80): Max retries exceeded with url: /wp-content/uploads/bsk-pdf-manager/14_SI_Vol_3_1_ID064_114.pdf (Caused by NewConnectionError('<urllib3.connection.HTTPConnection object at 0x7f47a873dd30>: Failed to establish a new connection: [Errno -2] Name or service not known'))\n",
      "1 HTTPConnectionPool(host='jmeche.com', port=80): Max retries exceeded with url: /wp-content/uploads/bsk-pdf-manager/14_SI_Vol_3_1_ID064_114.pdf (Caused by NewConnectionError('<urllib3.connection.HTTPConnection object at 0x7f47a873db80>: Failed to establish a new connection: [Errno -2] Name or service not known'))\n",
      "2 HTTPConnectionPool(host='jmeche.com', port=80): Max retries exceeded with url: /wp-content/uploads/bsk-pdf-manager/14_SI_Vol_3_1_ID064_114.pdf (Caused by NewConnectionError('<urllib3.connection.HTTPConnection object at 0x7f47a873d850>: Failed to establish a new connection: [Errno -2] Name or service not known'))\n"
     ]
    },
    {
     "name": "stderr",
     "output_type": "stream",
     "text": [
      "\r",
      " 95%|███████████████████████████████▍ | 83450/87736 [1:47:26<2:15:16,  1.89s/it]"
     ]
    },
    {
     "name": "stdout",
     "output_type": "stream",
     "text": [
      "0 HTTPConnectionPool(host='jmeche.com', port=80): Max retries exceeded with url: /wp-content/uploads/bsk-pdf-manager/18_SI_Vol_4_5_ID_262_215.pdf (Caused by NewConnectionError('<urllib3.connection.HTTPConnection object at 0x7f47a873d3d0>: Failed to establish a new connection: [Errno -2] Name or service not known'))\n",
      "1 HTTPConnectionPool(host='jmeche.com', port=80): Max retries exceeded with url: /wp-content/uploads/bsk-pdf-manager/18_SI_Vol_4_5_ID_262_215.pdf (Caused by NewConnectionError('<urllib3.connection.HTTPConnection object at 0x7f47a87ac550>: Failed to establish a new connection: [Errno -2] Name or service not known'))\n",
      "2 HTTPConnectionPool(host='jmeche.com', port=80): Max retries exceeded with url: /wp-content/uploads/bsk-pdf-manager/18_SI_Vol_4_5_ID_262_215.pdf (Caused by NewConnectionError('<urllib3.connection.HTTPConnection object at 0x7f47a87ac310>: Failed to establish a new connection: [Errno -2] Name or service not known'))\n",
      "0 HTTPConnectionPool(host='jmeche.com', port=80): Max retries exceeded with url: /wp-content/uploads/bsk-pdf-manager/6_SI_5_4_ID_235_370.pdf (Caused by NewConnectionError('<urllib3.connection.HTTPConnection object at 0x7f47a87ac460>: Failed to establish a new connection: [Errno -2] Name or service not known'))\n",
      "1 HTTPConnectionPool(host='jmeche.com', port=80): Max retries exceeded with url: /wp-content/uploads/bsk-pdf-manager/6_SI_5_4_ID_235_370.pdf (Caused by NewConnectionError('<urllib3.connection.HTTPConnection object at 0x7f47a87ac220>: Failed to establish a new connection: [Errno -2] Name or service not known'))\n",
      "2 HTTPConnectionPool(host='jmeche.com', port=80): Max retries exceeded with url: /wp-content/uploads/bsk-pdf-manager/6_SI_5_4_ID_235_370.pdf (Caused by NewConnectionError('<urllib3.connection.HTTPConnection object at 0x7f47a87acdf0>: Failed to establish a new connection: [Errno -2] Name or service not known'))\n"
     ]
    },
    {
     "name": "stderr",
     "output_type": "stream",
     "text": [
      " 95%|███████████████████████████████▍ | 83537/87736 [1:49:06<1:44:43,  1.50s/it]"
     ]
    },
    {
     "name": "stdout",
     "output_type": "stream",
     "text": [
      "0 HTTPConnectionPool(host='jsrad.org', port=80): Max retries exceeded with url: /wp-content/2015/Issue%208,%202015/8j.pdf (Caused by NewConnectionError('<urllib3.connection.HTTPConnection object at 0x7f47a87ac970>: Failed to establish a new connection: [Errno 110] Connection timed out'))\n",
      "1 HTTPConnectionPool(host='jsrad.org', port=80): Max retries exceeded with url: /wp-content/2015/Issue%208,%202015/8j.pdf (Caused by NewConnectionError('<urllib3.connection.HTTPConnection object at 0x7f47a87a3eb0>: Failed to establish a new connection: [Errno 110] Connection timed out'))\n",
      "2 HTTPConnectionPool(host='jsrad.org', port=80): Max retries exceeded with url: /wp-content/2015/Issue%208,%202015/8j.pdf (Caused by NewConnectionError('<urllib3.connection.HTTPConnection object at 0x7f47a8748850>: Failed to establish a new connection: [Errno 110] Connection timed out'))\n"
     ]
    },
    {
     "name": "stderr",
     "output_type": "stream",
     "text": [
      "\r",
      " 95%|██████████████████████████████▍ | 83542/87736 [1:55:32<19:25:24, 16.67s/it]"
     ]
    },
    {
     "name": "stdout",
     "output_type": "stream",
     "text": [
      "0 HTTPConnectionPool(host='jsrad.org', port=80): Max retries exceeded with url: /wp-content/2016/Issue%204,%202016/22jj.pdf (Caused by NewConnectionError('<urllib3.connection.HTTPConnection object at 0x7f47a87487c0>: Failed to establish a new connection: [Errno 110] Connection timed out'))\n",
      "1 HTTPConnectionPool(host='jsrad.org', port=80): Max retries exceeded with url: /wp-content/2016/Issue%204,%202016/22jj.pdf (Caused by NewConnectionError('<urllib3.connection.HTTPConnection object at 0x7f47aa146700>: Failed to establish a new connection: [Errno 110] Connection timed out'))\n",
      "2 HTTPConnectionPool(host='jsrad.org', port=80): Max retries exceeded with url: /wp-content/2016/Issue%204,%202016/22jj.pdf (Caused by NewConnectionError('<urllib3.connection.HTTPConnection object at 0x7f47aa1a1490>: Failed to establish a new connection: [Errno 110] Connection timed out'))\n"
     ]
    },
    {
     "name": "stderr",
     "output_type": "stream",
     "text": [
      "\r",
      " 95%|██████████████████████████████▍ | 83543/87736 [2:02:05<42:09:01, 36.19s/it]"
     ]
    },
    {
     "name": "stdout",
     "output_type": "stream",
     "text": [
      "0 HTTPConnectionPool(host='jsrad.org', port=80): Max retries exceeded with url: /wp-content/2016/Issue%205,%202016/1j.pdf (Caused by NewConnectionError('<urllib3.connection.HTTPConnection object at 0x7f47a87acfd0>: Failed to establish a new connection: [Errno 110] Connection timed out'))\n",
      "1 HTTPConnectionPool(host='jsrad.org', port=80): Max retries exceeded with url: /wp-content/2016/Issue%205,%202016/1j.pdf (Caused by NewConnectionError('<urllib3.connection.HTTPConnection object at 0x7f47a87acc40>: Failed to establish a new connection: [Errno 110] Connection timed out'))\n",
      "2 HTTPConnectionPool(host='jsrad.org', port=80): Max retries exceeded with url: /wp-content/2016/Issue%205,%202016/1j.pdf (Caused by NewConnectionError('<urllib3.connection.HTTPConnection object at 0x7f47a8745580>: Failed to establish a new connection: [Errno 110] Connection timed out'))\n"
     ]
    },
    {
     "name": "stderr",
     "output_type": "stream",
     "text": [
      " 95%|██████████████████████████████▍ | 83559/87736 [2:09:02<24:14:24, 20.89s/it]"
     ]
    },
    {
     "name": "stdout",
     "output_type": "stream",
     "text": [
      "0 HTTPConnectionPool(host='jurnalbahasa.dbp.my', port=80): Max retries exceeded with url: /wordpress/wp-content/uploads/2016/06/6-kesantunan.pdf (Caused by NewConnectionError('<urllib3.connection.HTTPConnection object at 0x7f47a87acca0>: Failed to establish a new connection: [Errno -2] Name or service not known'))\n",
      "1 HTTPConnectionPool(host='jurnalbahasa.dbp.my', port=80): Max retries exceeded with url: /wordpress/wp-content/uploads/2016/06/6-kesantunan.pdf (Caused by NewConnectionError('<urllib3.connection.HTTPConnection object at 0x7f47a87ac730>: Failed to establish a new connection: [Errno -2] Name or service not known'))\n",
      "2 HTTPConnectionPool(host='jurnalbahasa.dbp.my', port=80): Max retries exceeded with url: /wordpress/wp-content/uploads/2016/06/6-kesantunan.pdf (Caused by NewConnectionError('<urllib3.connection.HTTPConnection object at 0x7f47a87ac400>: Failed to establish a new connection: [Errno -2] Name or service not known'))\n"
     ]
    },
    {
     "name": "stderr",
     "output_type": "stream",
     "text": [
      "\r",
      " 95%|██████████████████████████████▍ | 83560/87736 [2:09:03<22:51:34, 19.71s/it]"
     ]
    },
    {
     "name": "stdout",
     "output_type": "stream",
     "text": [
      "0 HTTPConnectionPool(host='jurnalbahasa.dbp.my', port=80): Max retries exceeded with url: /wordpress/wp-content/uploads/2020/01/7-Hubungan-Preposisi.pdf (Caused by NewConnectionError('<urllib3.connection.HTTPConnection object at 0x7f47a87acdf0>: Failed to establish a new connection: [Errno -2] Name or service not known'))\n",
      "1 HTTPConnectionPool(host='jurnalbahasa.dbp.my', port=80): Max retries exceeded with url: /wordpress/wp-content/uploads/2020/01/7-Hubungan-Preposisi.pdf (Caused by NewConnectionError('<urllib3.connection.HTTPConnection object at 0x7f47a87ac250>: Failed to establish a new connection: [Errno -2] Name or service not known'))\n",
      "2 HTTPConnectionPool(host='jurnalbahasa.dbp.my', port=80): Max retries exceeded with url: /wordpress/wp-content/uploads/2020/01/7-Hubungan-Preposisi.pdf (Caused by NewConnectionError('<urllib3.connection.HTTPConnection object at 0x7f47a87ac130>: Failed to establish a new connection: [Errno -2] Name or service not known'))\n",
      "0 HTTPConnectionPool(host='jurnalkanun.dbp.my', port=80): Max retries exceeded with url: /wordpress/wp-content/uploads/2014/08/6-AzlinorSufian-UIA-Perumahan.pdf (Caused by NewConnectionError('<urllib3.connection.HTTPConnection object at 0x7f47a87ac940>: Failed to establish a new connection: [Errno -2] Name or service not known'))\n",
      "1 HTTPConnectionPool(host='jurnalkanun.dbp.my', port=80): Max retries exceeded with url: /wordpress/wp-content/uploads/2014/08/6-AzlinorSufian-UIA-Perumahan.pdf (Caused by NewConnectionError('<urllib3.connection.HTTPConnection object at 0x7f47a87ac5e0>: Failed to establish a new connection: [Errno -2] Name or service not known'))\n",
      "2 HTTPConnectionPool(host='jurnalkanun.dbp.my', port=80): Max retries exceeded with url: /wordpress/wp-content/uploads/2014/08/6-AzlinorSufian-UIA-Perumahan.pdf (Caused by NewConnectionError('<urllib3.connection.HTTPConnection object at 0x7f47a87ac970>: Failed to establish a new connection: [Errno -2] Name or service not known'))\n",
      "0 HTTPConnectionPool(host='jurnalkanun.dbp.my', port=80): Max retries exceeded with url: /wordpress/wp-content/uploads/2014/11/6-APKI-2013t.pdf (Caused by NewConnectionError('<urllib3.connection.HTTPConnection object at 0x7f47a87ac1c0>: Failed to establish a new connection: [Errno -2] Name or service not known'))\n",
      "1 HTTPConnectionPool(host='jurnalkanun.dbp.my', port=80): Max retries exceeded with url: /wordpress/wp-content/uploads/2014/11/6-APKI-2013t.pdf (Caused by NewConnectionError('<urllib3.connection.HTTPConnection object at 0x7f47a87ac820>: Failed to establish a new connection: [Errno -2] Name or service not known'))\n",
      "2 HTTPConnectionPool(host='jurnalkanun.dbp.my', port=80): Max retries exceeded with url: /wordpress/wp-content/uploads/2014/11/6-APKI-2013t.pdf (Caused by NewConnectionError('<urllib3.connection.HTTPConnection object at 0x7f47a87ac670>: Failed to establish a new connection: [Errno -2] Name or service not known'))\n",
      "0 HTTPConnectionPool(host='jurnalkanun.dbp.my', port=80): Max retries exceeded with url: /wordpress/wp-content/uploads/2016/02/4-Lestari.pdf (Caused by NewConnectionError('<urllib3.connection.HTTPConnection object at 0x7f47a87ac730>: Failed to establish a new connection: [Errno -2] Name or service not known'))\n",
      "1 HTTPConnectionPool(host='jurnalkanun.dbp.my', port=80): Max retries exceeded with url: /wordpress/wp-content/uploads/2016/02/4-Lestari.pdf (Caused by NewConnectionError('<urllib3.connection.HTTPConnection object at 0x7f47a87ac3d0>: Failed to establish a new connection: [Errno -2] Name or service not known'))\n",
      "2 HTTPConnectionPool(host='jurnalkanun.dbp.my', port=80): Max retries exceeded with url: /wordpress/wp-content/uploads/2016/02/4-Lestari.pdf (Caused by NewConnectionError('<urllib3.connection.HTTPConnection object at 0x7f47a87ace80>: Failed to establish a new connection: [Errno -2] Name or service not known'))\n",
      "0 HTTPConnectionPool(host='jurnalkanun.dbp.my', port=80): Max retries exceeded with url: /wordpress/wp-content/uploads/2016/02/7-Persaingan.pdf (Caused by NewConnectionError('<urllib3.connection.HTTPConnection object at 0x7f47a87acbe0>: Failed to establish a new connection: [Errno -2] Name or service not known'))\n",
      "1 HTTPConnectionPool(host='jurnalkanun.dbp.my', port=80): Max retries exceeded with url: /wordpress/wp-content/uploads/2016/02/7-Persaingan.pdf (Caused by NewConnectionError('<urllib3.connection.HTTPConnection object at 0x7f47a87ac4c0>: Failed to establish a new connection: [Errno -2] Name or service not known'))\n",
      "2 HTTPConnectionPool(host='jurnalkanun.dbp.my', port=80): Max retries exceeded with url: /wordpress/wp-content/uploads/2016/02/7-Persaingan.pdf (Caused by NewConnectionError('<urllib3.connection.HTTPConnection object at 0x7f47a87ac550>: Failed to establish a new connection: [Errno -2] Name or service not known'))\n",
      "0 HTTPConnectionPool(host='jurnalkanun.dbp.my', port=80): Max retries exceeded with url: /wordpress/wp-content/uploads/2016/06/8-Ulasan-Buku.pdf (Caused by NewConnectionError('<urllib3.connection.HTTPConnection object at 0x7f47a87ac370>: Failed to establish a new connection: [Errno -2] Name or service not known'))\n",
      "1 HTTPConnectionPool(host='jurnalkanun.dbp.my', port=80): Max retries exceeded with url: /wordpress/wp-content/uploads/2016/06/8-Ulasan-Buku.pdf (Caused by NewConnectionError('<urllib3.connection.HTTPConnection object at 0x7f47a87ac3d0>: Failed to establish a new connection: [Errno -2] Name or service not known'))\n",
      "2 HTTPConnectionPool(host='jurnalkanun.dbp.my', port=80): Max retries exceeded with url: /wordpress/wp-content/uploads/2016/06/8-Ulasan-Buku.pdf (Caused by NewConnectionError('<urllib3.connection.HTTPConnection object at 0x7f47a87acee0>: Failed to establish a new connection: [Errno -2] Name or service not known'))\n",
      "0 HTTPConnectionPool(host='jurnalkanun.dbp.my', port=80): Max retries exceeded with url: /wordpress/wp-content/uploads/2016/07/4-Maqasid.pdf (Caused by NewConnectionError('<urllib3.connection.HTTPConnection object at 0x7f47a87acd30>: Failed to establish a new connection: [Errno -2] Name or service not known'))\n",
      "1 HTTPConnectionPool(host='jurnalkanun.dbp.my', port=80): Max retries exceeded with url: /wordpress/wp-content/uploads/2016/07/4-Maqasid.pdf (Caused by NewConnectionError('<urllib3.connection.HTTPConnection object at 0x7f47a87acf70>: Failed to establish a new connection: [Errno -2] Name or service not known'))\n",
      "2 HTTPConnectionPool(host='jurnalkanun.dbp.my', port=80): Max retries exceeded with url: /wordpress/wp-content/uploads/2016/07/4-Maqasid.pdf (Caused by NewConnectionError('<urllib3.connection.HTTPConnection object at 0x7f47a87ac820>: Failed to establish a new connection: [Errno -2] Name or service not known'))\n",
      "0 HTTPConnectionPool(host='jurnalkanun.dbp.my', port=80): Max retries exceeded with url: /wordpress/wp-content/uploads/2017/02/Prinsip-hak-170117-4.16.57-PM.pdf (Caused by NewConnectionError('<urllib3.connection.HTTPConnection object at 0x7f47a87ac370>: Failed to establish a new connection: [Errno -2] Name or service not known'))\n",
      "1 HTTPConnectionPool(host='jurnalkanun.dbp.my', port=80): Max retries exceeded with url: /wordpress/wp-content/uploads/2017/02/Prinsip-hak-170117-4.16.57-PM.pdf (Caused by NewConnectionError('<urllib3.connection.HTTPConnection object at 0x7f47a87ac970>: Failed to establish a new connection: [Errno -2] Name or service not known'))\n",
      "2 HTTPConnectionPool(host='jurnalkanun.dbp.my', port=80): Max retries exceeded with url: /wordpress/wp-content/uploads/2017/02/Prinsip-hak-170117-4.16.57-PM.pdf (Caused by NewConnectionError('<urllib3.connection.HTTPConnection object at 0x7f47a87acd30>: Failed to establish a new connection: [Errno -2] Name or service not known'))\n"
     ]
    },
    {
     "name": "stderr",
     "output_type": "stream",
     "text": [
      " 95%|██████████████████████████████▍ | 83568/87736 [2:09:16<14:09:55, 12.24s/it]"
     ]
    },
    {
     "name": "stdout",
     "output_type": "stream",
     "text": [
      "0 HTTPConnectionPool(host='jurnalkanun.dbp.my', port=80): Max retries exceeded with url: /wordpress/wp-content/uploads/2017/06/6KANUN-16-JUN-2017-NSK.pdf (Caused by NewConnectionError('<urllib3.connection.HTTPConnection object at 0x7f47a87ac730>: Failed to establish a new connection: [Errno -2] Name or service not known'))\n",
      "1 HTTPConnectionPool(host='jurnalkanun.dbp.my', port=80): Max retries exceeded with url: /wordpress/wp-content/uploads/2017/06/6KANUN-16-JUN-2017-NSK.pdf (Caused by NewConnectionError('<urllib3.connection.HTTPConnection object at 0x7f47a87ac8b0>: Failed to establish a new connection: [Errno -2] Name or service not known'))\n",
      "2 HTTPConnectionPool(host='jurnalkanun.dbp.my', port=80): Max retries exceeded with url: /wordpress/wp-content/uploads/2017/06/6KANUN-16-JUN-2017-NSK.pdf (Caused by NewConnectionError('<urllib3.connection.HTTPConnection object at 0x7f47a87ac790>: Failed to establish a new connection: [Errno -2] Name or service not known'))\n"
     ]
    },
    {
     "name": "stderr",
     "output_type": "stream",
     "text": [
      "\r",
      " 95%|██████████████████████████████▍ | 83569/87736 [2:09:18<13:19:02, 11.51s/it]"
     ]
    },
    {
     "name": "stdout",
     "output_type": "stream",
     "text": [
      "0 HTTPConnectionPool(host='jurnalkanun.dbp.my', port=80): Max retries exceeded with url: /wordpress/wp-content/uploads/2017/07/1.pdf (Caused by NewConnectionError('<urllib3.connection.HTTPConnection object at 0x7f47a87ac0a0>: Failed to establish a new connection: [Errno -2] Name or service not known'))\n",
      "1 HTTPConnectionPool(host='jurnalkanun.dbp.my', port=80): Max retries exceeded with url: /wordpress/wp-content/uploads/2017/07/1.pdf (Caused by NewConnectionError('<urllib3.connection.HTTPConnection object at 0x7f47a87ac4c0>: Failed to establish a new connection: [Errno -2] Name or service not known'))\n",
      "2 HTTPConnectionPool(host='jurnalkanun.dbp.my', port=80): Max retries exceeded with url: /wordpress/wp-content/uploads/2017/07/1.pdf (Caused by NewConnectionError('<urllib3.connection.HTTPConnection object at 0x7f47a87aca00>: Failed to establish a new connection: [Errno -2] Name or service not known'))\n",
      "0 HTTPConnectionPool(host='jurnalkanun.dbp.my', port=80): Max retries exceeded with url: /wordpress/wp-content/uploads/2017/07/5.pdf (Caused by NewConnectionError('<urllib3.connection.HTTPConnection object at 0x7f47a87ac850>: Failed to establish a new connection: [Errno -2] Name or service not known'))\n",
      "1 HTTPConnectionPool(host='jurnalkanun.dbp.my', port=80): Max retries exceeded with url: /wordpress/wp-content/uploads/2017/07/5.pdf (Caused by NewConnectionError('<urllib3.connection.HTTPConnection object at 0x7f47a87ac400>: Failed to establish a new connection: [Errno -2] Name or service not known'))\n",
      "2 HTTPConnectionPool(host='jurnalkanun.dbp.my', port=80): Max retries exceeded with url: /wordpress/wp-content/uploads/2017/07/5.pdf (Caused by NewConnectionError('<urllib3.connection.HTTPConnection object at 0x7f47a87ac880>: Failed to establish a new connection: [Errno -2] Name or service not known'))\n",
      "0 HTTPConnectionPool(host='jurnalkanun.dbp.my', port=80): Max retries exceeded with url: /wordpress/wp-content/uploads/2017/08/hibah.pdf (Caused by NewConnectionError('<urllib3.connection.HTTPConnection object at 0x7f47a87ac0a0>: Failed to establish a new connection: [Errno -2] Name or service not known'))\n",
      "1 HTTPConnectionPool(host='jurnalkanun.dbp.my', port=80): Max retries exceeded with url: /wordpress/wp-content/uploads/2017/08/hibah.pdf (Caused by NewConnectionError('<urllib3.connection.HTTPConnection object at 0x7f47a87ac4c0>: Failed to establish a new connection: [Errno -2] Name or service not known'))\n",
      "2 HTTPConnectionPool(host='jurnalkanun.dbp.my', port=80): Max retries exceeded with url: /wordpress/wp-content/uploads/2017/08/hibah.pdf (Caused by NewConnectionError('<urllib3.connection.HTTPConnection object at 0x7f47a87ac4f0>: Failed to establish a new connection: [Errno -2] Name or service not known'))\n",
      "0 HTTPConnectionPool(host='jurnalkanun.dbp.my', port=80): Max retries exceeded with url: /wordpress/wp-content/uploads/2018/07/8-Ulasan-Buku..Julai_.-indd.pdf (Caused by NewConnectionError('<urllib3.connection.HTTPConnection object at 0x7f47a87ac910>: Failed to establish a new connection: [Errno -2] Name or service not known'))\n",
      "1 HTTPConnectionPool(host='jurnalkanun.dbp.my', port=80): Max retries exceeded with url: /wordpress/wp-content/uploads/2018/07/8-Ulasan-Buku..Julai_.-indd.pdf (Caused by NewConnectionError('<urllib3.connection.HTTPConnection object at 0x7f47a87ac370>: Failed to establish a new connection: [Errno -2] Name or service not known'))\n",
      "2 HTTPConnectionPool(host='jurnalkanun.dbp.my', port=80): Max retries exceeded with url: /wordpress/wp-content/uploads/2018/07/8-Ulasan-Buku..Julai_.-indd.pdf (Caused by NewConnectionError('<urllib3.connection.HTTPConnection object at 0x7f47a87ace50>: Failed to establish a new connection: [Errno -2] Name or service not known'))\n",
      "0 HTTPConnectionPool(host='jurnalkanun.dbp.my', port=80): Max retries exceeded with url: /wordpress/wp-content/uploads/2018/08/2-Qazaf-.10-Julai.pdf (Caused by NewConnectionError('<urllib3.connection.HTTPConnection object at 0x7f47a87ac790>: Failed to establish a new connection: [Errno -2] Name or service not known'))\n",
      "1 HTTPConnectionPool(host='jurnalkanun.dbp.my', port=80): Max retries exceeded with url: /wordpress/wp-content/uploads/2018/08/2-Qazaf-.10-Julai.pdf (Caused by NewConnectionError('<urllib3.connection.HTTPConnection object at 0x7f47a87ac100>: Failed to establish a new connection: [Errno -2] Name or service not known'))\n",
      "2 HTTPConnectionPool(host='jurnalkanun.dbp.my', port=80): Max retries exceeded with url: /wordpress/wp-content/uploads/2018/08/2-Qazaf-.10-Julai.pdf (Caused by NewConnectionError('<urllib3.connection.HTTPConnection object at 0x7f47a87ac3d0>: Failed to establish a new connection: [Errno -2] Name or service not known'))\n",
      "0 HTTPConnectionPool(host='jurnalkanun.dbp.my', port=80): Max retries exceeded with url: /wordpress/wp-content/uploads/2018/08/4-Tarif-Galakan-10-Julai.pdf (Caused by NewConnectionError('<urllib3.connection.HTTPConnection object at 0x7f47a87ac430>: Failed to establish a new connection: [Errno -2] Name or service not known'))\n",
      "1 HTTPConnectionPool(host='jurnalkanun.dbp.my', port=80): Max retries exceeded with url: /wordpress/wp-content/uploads/2018/08/4-Tarif-Galakan-10-Julai.pdf (Caused by NewConnectionError('<urllib3.connection.HTTPConnection object at 0x7f47a87ac4f0>: Failed to establish a new connection: [Errno -2] Name or service not known'))\n",
      "2 HTTPConnectionPool(host='jurnalkanun.dbp.my', port=80): Max retries exceeded with url: /wordpress/wp-content/uploads/2018/08/4-Tarif-Galakan-10-Julai.pdf (Caused by NewConnectionError('<urllib3.connection.HTTPConnection object at 0x7f47a87ac1c0>: Failed to establish a new connection: [Errno -2] Name or service not known'))\n",
      "0 HTTPConnectionPool(host='jurnalkanun.dbp.my', port=80): Max retries exceeded with url: /wordpress/wp-content/uploads/2018/08/6-Perkembangan-10-Julai.pdf (Caused by NewConnectionError('<urllib3.connection.HTTPConnection object at 0x7f47a87ac9d0>: Failed to establish a new connection: [Errno -2] Name or service not known'))\n",
      "1 HTTPConnectionPool(host='jurnalkanun.dbp.my', port=80): Max retries exceeded with url: /wordpress/wp-content/uploads/2018/08/6-Perkembangan-10-Julai.pdf (Caused by NewConnectionError('<urllib3.connection.HTTPConnection object at 0x7f47a87ac970>: Failed to establish a new connection: [Errno -2] Name or service not known'))\n",
      "2 HTTPConnectionPool(host='jurnalkanun.dbp.my', port=80): Max retries exceeded with url: /wordpress/wp-content/uploads/2018/08/6-Perkembangan-10-Julai.pdf (Caused by NewConnectionError('<urllib3.connection.HTTPConnection object at 0x7f47a87accd0>: Failed to establish a new connection: [Errno -2] Name or service not known'))\n",
      "0 HTTPConnectionPool(host='jurnalkanun.dbp.my', port=80): Max retries exceeded with url: /wordpress/wp-content/uploads/2019/02/9.-Ulasan-Perundangan-Januari-2019.pdf (Caused by NewConnectionError('<urllib3.connection.HTTPConnection object at 0x7f47a87acf70>: Failed to establish a new connection: [Errno -2] Name or service not known'))\n",
      "1 HTTPConnectionPool(host='jurnalkanun.dbp.my', port=80): Max retries exceeded with url: /wordpress/wp-content/uploads/2019/02/9.-Ulasan-Perundangan-Januari-2019.pdf (Caused by NewConnectionError('<urllib3.connection.HTTPConnection object at 0x7f47a87aceb0>: Failed to establish a new connection: [Errno -2] Name or service not known'))\n",
      "2 HTTPConnectionPool(host='jurnalkanun.dbp.my', port=80): Max retries exceeded with url: /wordpress/wp-content/uploads/2019/02/9.-Ulasan-Perundangan-Januari-2019.pdf (Caused by NewConnectionError('<urllib3.connection.HTTPConnection object at 0x7f47a87ac6d0>: Failed to establish a new connection: [Errno -2] Name or service not known'))\n",
      "0 HTTPConnectionPool(host='jurnalkanun.dbp.my', port=80): Max retries exceeded with url: /wordpress/wp-content/uploads/2020/08/8-Ulasan-Perundangan-PKP.pdf (Caused by NewConnectionError('<urllib3.connection.HTTPConnection object at 0x7f47a87ac370>: Failed to establish a new connection: [Errno -2] Name or service not known'))\n",
      "1 HTTPConnectionPool(host='jurnalkanun.dbp.my', port=80): Max retries exceeded with url: /wordpress/wp-content/uploads/2020/08/8-Ulasan-Perundangan-PKP.pdf (Caused by NewConnectionError('<urllib3.connection.HTTPConnection object at 0x7f47a87ac3d0>: Failed to establish a new connection: [Errno -2] Name or service not known'))\n"
     ]
    },
    {
     "name": "stdout",
     "output_type": "stream",
     "text": [
      "2 HTTPConnectionPool(host='jurnalkanun.dbp.my', port=80): Max retries exceeded with url: /wordpress/wp-content/uploads/2020/08/8-Ulasan-Perundangan-PKP.pdf (Caused by NewConnectionError('<urllib3.connection.HTTPConnection object at 0x7f47a87acca0>: Failed to establish a new connection: [Errno -2] Name or service not known'))\n",
      "0 HTTPConnectionPool(host='jurnalselangor.com.my', port=80): Max retries exceeded with url: /assets/artikel-1--understanding-deviant-teachings-and-its-features-among-muslim-youths-a-case-study-of-unikl-students-(4).pdf (Caused by NewConnectionError('<urllib3.connection.HTTPConnection object at 0x7f47a87ac100>: Failed to establish a new connection: [Errno -2] Name or service not known'))\n",
      "1 HTTPConnectionPool(host='jurnalselangor.com.my', port=80): Max retries exceeded with url: /assets/artikel-1--understanding-deviant-teachings-and-its-features-among-muslim-youths-a-case-study-of-unikl-students-(4).pdf (Caused by NewConnectionError('<urllib3.connection.HTTPConnection object at 0x7f47a87accd0>: Failed to establish a new connection: [Errno -2] Name or service not known'))\n",
      "2 HTTPConnectionPool(host='jurnalselangor.com.my', port=80): Max retries exceeded with url: /assets/artikel-1--understanding-deviant-teachings-and-its-features-among-muslim-youths-a-case-study-of-unikl-students-(4).pdf (Caused by NewConnectionError('<urllib3.connection.HTTPConnection object at 0x7f47a87acee0>: Failed to establish a new connection: [Errno -2] Name or service not known'))\n"
     ]
    },
    {
     "name": "stderr",
     "output_type": "stream",
     "text": [
      " 95%|███████████████████████████████▍ | 83586/87736 [2:10:06<7:22:33,  6.40s/it]"
     ]
    },
    {
     "name": "stdout",
     "output_type": "stream",
     "text": [
      "0 HTTPConnectionPool(host='klicels.com', port=80): Max retries exceeded with url: /wp-content/uploads/2015/10/EDU-18.pdf (Caused by NewConnectionError('<urllib3.connection.HTTPConnection object at 0x7f47a87ac790>: Failed to establish a new connection: [Errno -2] Name or service not known'))\n",
      "1 HTTPConnectionPool(host='klicels.com', port=80): Max retries exceeded with url: /wp-content/uploads/2015/10/EDU-18.pdf (Caused by NewConnectionError('<urllib3.connection.HTTPConnection object at 0x7f47a87ac5b0>: Failed to establish a new connection: [Errno -2] Name or service not known'))\n",
      "2 HTTPConnectionPool(host='klicels.com', port=80): Max retries exceeded with url: /wp-content/uploads/2015/10/EDU-18.pdf (Caused by NewConnectionError('<urllib3.connection.HTTPConnection object at 0x7f47a87ac340>: Failed to establish a new connection: [Errno -2] Name or service not known'))\n",
      "0 HTTPConnectionPool(host='klicels.com', port=80): Max retries exceeded with url: /wp-content/uploads/2015/10/SS-37.pdf (Caused by NewConnectionError('<urllib3.connection.HTTPConnection object at 0x7f47a87acd00>: Failed to establish a new connection: [Errno -2] Name or service not known'))\n",
      "1 HTTPConnectionPool(host='klicels.com', port=80): Max retries exceeded with url: /wp-content/uploads/2015/10/SS-37.pdf (Caused by NewConnectionError('<urllib3.connection.HTTPConnection object at 0x7f47a87ac6d0>: Failed to establish a new connection: [Errno -2] Name or service not known'))\n",
      "2 HTTPConnectionPool(host='klicels.com', port=80): Max retries exceeded with url: /wp-content/uploads/2015/10/SS-37.pdf (Caused by NewConnectionError('<urllib3.connection.HTTPConnection object at 0x7f47a87ac400>: Failed to establish a new connection: [Errno -2] Name or service not known'))\n",
      "0 HTTPConnectionPool(host='lecic2016.com', port=80): Max retries exceeded with url: /wp-content/uploads/CIVILIZATION.pdf (Caused by NewConnectionError('<urllib3.connection.HTTPConnection object at 0x7f47a87acf10>: Failed to establish a new connection: [Errno -2] Name or service not known'))\n",
      "1 HTTPConnectionPool(host='lecic2016.com', port=80): Max retries exceeded with url: /wp-content/uploads/CIVILIZATION.pdf (Caused by NewConnectionError('<urllib3.connection.HTTPConnection object at 0x7f47a87acf70>: Failed to establish a new connection: [Errno -2] Name or service not known'))\n",
      "2 HTTPConnectionPool(host='lecic2016.com', port=80): Max retries exceeded with url: /wp-content/uploads/CIVILIZATION.pdf (Caused by NewConnectionError('<urllib3.connection.HTTPConnection object at 0x7f47a87932b0>: Failed to establish a new connection: [Errno -2] Name or service not known'))\n"
     ]
    },
    {
     "name": "stderr",
     "output_type": "stream",
     "text": [
      " 95%|███████████████████████████████▍ | 83602/87736 [2:10:21<3:02:42,  2.65s/it]"
     ]
    },
    {
     "name": "stdout",
     "output_type": "stream",
     "text": [
      "0 HTTPConnectionPool(host='library.wfsbp.org', port=80): Max retries exceeded with url: /fileadmin/user_upload/wfsbp2009-abstracts.pdf (Caused by NewConnectionError('<urllib3.connection.HTTPConnection object at 0x7f47a87935b0>: Failed to establish a new connection: [Errno -2] Name or service not known'))\n"
     ]
    },
    {
     "name": "stderr",
     "output_type": "stream",
     "text": [
      "\r",
      " 95%|███████████████████████████████▍ | 83602/87736 [2:10:36<3:02:42,  2.65s/it]"
     ]
    },
    {
     "name": "stdout",
     "output_type": "stream",
     "text": [
      "1 HTTPConnectionPool(host='library.wfsbp.org', port=80): Max retries exceeded with url: /fileadmin/user_upload/wfsbp2009-abstracts.pdf (Caused by NewConnectionError('<urllib3.connection.HTTPConnection object at 0x7f47a87937f0>: Failed to establish a new connection: [Errno -2] Name or service not known'))\n",
      "2 HTTPConnectionPool(host='library.wfsbp.org', port=80): Max retries exceeded with url: /fileadmin/user_upload/wfsbp2009-abstracts.pdf (Caused by NewConnectionError('<urllib3.connection.HTTPConnection object at 0x7f47a87938e0>: Failed to establish a new connection: [Errno -2] Name or service not known'))\n"
     ]
    },
    {
     "name": "stderr",
     "output_type": "stream",
     "text": [
      " 95%|███████████████████████████████▍ | 83607/87736 [2:10:40<3:29:15,  3.04s/it]"
     ]
    },
    {
     "name": "stdout",
     "output_type": "stream",
     "text": [
      "0 HTTPConnectionPool(host='magicx.my', port=80): Max retries exceeded with url: /ijidm/wp-content/uploads/2013-1-1-06-juliana.pdf (Caused by NewConnectionError('<urllib3.connection.HTTPConnection object at 0x7f47a87937c0>: Failed to establish a new connection: [Errno -3] Temporary failure in name resolution'))\n",
      "1 HTTPConnectionPool(host='magicx.my', port=80): Max retries exceeded with url: /ijidm/wp-content/uploads/2013-1-1-06-juliana.pdf (Caused by NewConnectionError('<urllib3.connection.HTTPConnection object at 0x7f47a87937c0>: Failed to establish a new connection: [Errno -3] Temporary failure in name resolution'))\n",
      "2 HTTPConnectionPool(host='magicx.my', port=80): Max retries exceeded with url: /ijidm/wp-content/uploads/2013-1-1-06-juliana.pdf (Caused by NewConnectionError('<urllib3.connection.HTTPConnection object at 0x7f47a8793b80>: Failed to establish a new connection: [Errno -3] Temporary failure in name resolution'))\n",
      "0 HTTPConnectionPool(host='managementcentre.com.my', port=80): Max retries exceeded with url: /journal/files/vol1.2/Muamalat4(edSP)Ver3).pdf (Caused by NewConnectionError('<urllib3.connection.HTTPConnection object at 0x7f47a8793580>: Failed to establish a new connection: [Errno -2] Name or service not known'))\n",
      "1 HTTPConnectionPool(host='managementcentre.com.my', port=80): Max retries exceeded with url: /journal/files/vol1.2/Muamalat4(edSP)Ver3).pdf (Caused by NewConnectionError('<urllib3.connection.HTTPConnection object at 0x7f47a8793580>: Failed to establish a new connection: [Errno -2] Name or service not known'))\n",
      "2 HTTPConnectionPool(host='managementcentre.com.my', port=80): Max retries exceeded with url: /journal/files/vol1.2/Muamalat4(edSP)Ver3).pdf (Caused by NewConnectionError('<urllib3.connection.HTTPConnection object at 0x7f47a8793f40>: Failed to establish a new connection: [Errno -2] Name or service not known'))\n",
      "0 HTTPConnectionPool(host='managementcentre.com.my', port=80): Max retries exceeded with url: /journal/files/vol1.2/Performance2(edSP)Ver3.pdf (Caused by NewConnectionError('<urllib3.connection.HTTPConnection object at 0x7f47a87935b0>: Failed to establish a new connection: [Errno -2] Name or service not known'))\n",
      "1 HTTPConnectionPool(host='managementcentre.com.my', port=80): Max retries exceeded with url: /journal/files/vol1.2/Performance2(edSP)Ver3.pdf (Caused by NewConnectionError('<urllib3.connection.HTTPConnection object at 0x7f47a87935b0>: Failed to establish a new connection: [Errno -2] Name or service not known'))\n",
      "2 HTTPConnectionPool(host='managementcentre.com.my', port=80): Max retries exceeded with url: /journal/files/vol1.2/Performance2(edSP)Ver3.pdf (Caused by NewConnectionError('<urllib3.connection.HTTPConnection object at 0x7f47a8793b20>: Failed to establish a new connection: [Errno -2] Name or service not known'))\n"
     ]
    },
    {
     "name": "stderr",
     "output_type": "stream",
     "text": [
      "\r",
      " 95%|███████████████████████████████▍ | 83615/87736 [2:10:47<2:15:51,  1.98s/it]"
     ]
    },
    {
     "name": "stdout",
     "output_type": "stream",
     "text": [
      "0 HTTPConnectionPool(host='masco2016.mansa.org.my', port=80): Max retries exceeded with url: /wp-content/uploads/2015/09/MASCO2016-2-Announcement_n_program.pdf (Caused by NewConnectionError('<urllib3.connection.HTTPConnection object at 0x7f47a87935b0>: Failed to establish a new connection: [Errno -2] Name or service not known'))\n",
      "1 HTTPConnectionPool(host='masco2016.mansa.org.my', port=80): Max retries exceeded with url: /wp-content/uploads/2015/09/MASCO2016-2-Announcement_n_program.pdf (Caused by NewConnectionError('<urllib3.connection.HTTPConnection object at 0x7f47a8793be0>: Failed to establish a new connection: [Errno -2] Name or service not known'))\n",
      "2 HTTPConnectionPool(host='masco2016.mansa.org.my', port=80): Max retries exceeded with url: /wp-content/uploads/2015/09/MASCO2016-2-Announcement_n_program.pdf (Caused by NewConnectionError('<urllib3.connection.HTTPConnection object at 0x7f47a87933a0>: Failed to establish a new connection: [Errno -2] Name or service not known'))\n"
     ]
    },
    {
     "name": "stderr",
     "output_type": "stream",
     "text": [
      " 95%|███████████████████████████████▍ | 83675/87736 [2:11:48<2:05:06,  1.85s/it]"
     ]
    },
    {
     "name": "stdout",
     "output_type": "stream",
     "text": [
      "0 HTTPConnectionPool(host='mterms.tesma.org.my', port=80): Max retries exceeded with url: /wp-content/uploads/2016/11/Abstract-6th-MTERMS-2016.pdf (Caused by NewConnectionError('<urllib3.connection.HTTPConnection object at 0x7f47a8772550>: Failed to establish a new connection: [Errno -2] Name or service not known'))\n",
      "1 HTTPConnectionPool(host='mterms.tesma.org.my', port=80): Max retries exceeded with url: /wp-content/uploads/2016/11/Abstract-6th-MTERMS-2016.pdf (Caused by NewConnectionError('<urllib3.connection.HTTPConnection object at 0x7f47a8772eb0>: Failed to establish a new connection: [Errno -2] Name or service not known'))\n",
      "2 HTTPConnectionPool(host='mterms.tesma.org.my', port=80): Max retries exceeded with url: /wp-content/uploads/2016/11/Abstract-6th-MTERMS-2016.pdf (Caused by NewConnectionError('<urllib3.connection.HTTPConnection object at 0x7f47a8772ee0>: Failed to establish a new connection: [Errno -2] Name or service not known'))\n"
     ]
    },
    {
     "name": "stderr",
     "output_type": "stream",
     "text": [
      " 95%|███████████████████████████████▍ | 83686/87736 [2:12:01<1:25:40,  1.27s/it]"
     ]
    },
    {
     "name": "stdout",
     "output_type": "stream",
     "text": [
      "0 HTTPConnectionPool(host='nopr.niscair.res.in', port=80): Max retries exceeded with url: /bitstream/123456789/2469/1/IJCA%2047A%2811%29%201626-1631.pdf (Caused by NewConnectionError('<urllib3.connection.HTTPConnection object at 0x7f47a8772610>: Failed to establish a new connection: [Errno -3] Temporary failure in name resolution'))\n",
      "1 HTTPConnectionPool(host='nopr.niscair.res.in', port=80): Max retries exceeded with url: /bitstream/123456789/2469/1/IJCA%2047A%2811%29%201626-1631.pdf (Caused by NewConnectionError('<urllib3.connection.HTTPConnection object at 0x7f47a8772eb0>: Failed to establish a new connection: [Errno -3] Temporary failure in name resolution'))\n",
      "2 HTTPConnectionPool(host='nopr.niscair.res.in', port=80): Max retries exceeded with url: /bitstream/123456789/2469/1/IJCA%2047A%2811%29%201626-1631.pdf (Caused by NewConnectionError('<urllib3.connection.HTTPConnection object at 0x7f47a8748550>: Failed to establish a new connection: [Errno -3] Temporary failure in name resolution'))\n"
     ]
    },
    {
     "name": "stderr",
     "output_type": "stream",
     "text": [
      "\r",
      " 95%|███████████████████████████████▍ | 83687/87736 [2:12:07<2:44:47,  2.44s/it]"
     ]
    },
    {
     "name": "stdout",
     "output_type": "stream",
     "text": [
      "0 HTTPConnectionPool(host='nopr.niscair.res.in', port=80): Max retries exceeded with url: /bitstream/123456789/56022/1/IJEB%2059%282%29%20111-117.pdf (Caused by NewConnectionError('<urllib3.connection.HTTPConnection object at 0x7f47a8772f10>: Failed to establish a new connection: [Errno -3] Temporary failure in name resolution'))\n",
      "1 HTTPConnectionPool(host='nopr.niscair.res.in', port=80): Max retries exceeded with url: /bitstream/123456789/56022/1/IJEB%2059%282%29%20111-117.pdf (Caused by NewConnectionError('<urllib3.connection.HTTPConnection object at 0x7f47a8745d30>: Failed to establish a new connection: [Errno -3] Temporary failure in name resolution'))\n",
      "2 HTTPConnectionPool(host='nopr.niscair.res.in', port=80): Max retries exceeded with url: /bitstream/123456789/56022/1/IJEB%2059%282%29%20111-117.pdf (Caused by NewConnectionError('<urllib3.connection.HTTPConnection object at 0x7f47a8772610>: Failed to establish a new connection: [Errno -3] Temporary failure in name resolution'))\n"
     ]
    },
    {
     "name": "stderr",
     "output_type": "stream",
     "text": [
      " 95%|██████████████████████████████▌ | 83710/87736 [2:14:49<15:11:02, 13.58s/it]"
     ]
    },
    {
     "name": "stdout",
     "output_type": "stream",
     "text": [
      "0 HTTPConnectionPool(host='osscom2016.osscom.org', port=80): Max retries exceeded with url: /sites/default/files/files/IT%20Disaster%20Recovery%20and%20Business%20Continuity%20Based%20On%20VMware%20SRM%20Solution%20for%20Kuwait%20Oil%20Company.pdf (Caused by NewConnectionError('<urllib3.connection.HTTPConnection object at 0x7f47a8772190>: Failed to establish a new connection: [Errno -2] Name or service not known'))\n",
      "1 HTTPConnectionPool(host='osscom2016.osscom.org', port=80): Max retries exceeded with url: /sites/default/files/files/IT%20Disaster%20Recovery%20and%20Business%20Continuity%20Based%20On%20VMware%20SRM%20Solution%20for%20Kuwait%20Oil%20Company.pdf (Caused by NewConnectionError('<urllib3.connection.HTTPConnection object at 0x7f47c80b0e20>: Failed to establish a new connection: [Errno -2] Name or service not known'))\n",
      "2 HTTPConnectionPool(host='osscom2016.osscom.org', port=80): Max retries exceeded with url: /sites/default/files/files/IT%20Disaster%20Recovery%20and%20Business%20Continuity%20Based%20On%20VMware%20SRM%20Solution%20for%20Kuwait%20Oil%20Company.pdf (Caused by NewConnectionError('<urllib3.connection.HTTPConnection object at 0x7f47a8772e80>: Failed to establish a new connection: [Errno -2] Name or service not known'))\n"
     ]
    },
    {
     "name": "stderr",
     "output_type": "stream",
     "text": [
      " 95%|███████████████████████████████▍ | 83735/87736 [2:15:18<1:35:39,  1.43s/it]"
     ]
    },
    {
     "name": "stdout",
     "output_type": "stream",
     "text": [
      "0 HTTPConnectionPool(host='peptidessociety.asnevents.com.au', port=80): Max retries exceeded with url: /assets/APA-Society/Peptides-book25102013resized.pdf (Caused by NewConnectionError('<urllib3.connection.HTTPConnection object at 0x7f47a87725e0>: Failed to establish a new connection: [Errno -2] Name or service not known'))\n",
      "1 HTTPConnectionPool(host='peptidessociety.asnevents.com.au', port=80): Max retries exceeded with url: /assets/APA-Society/Peptides-book25102013resized.pdf (Caused by NewConnectionError('<urllib3.connection.HTTPConnection object at 0x7f47a8765850>: Failed to establish a new connection: [Errno -2] Name or service not known'))\n",
      "2 HTTPConnectionPool(host='peptidessociety.asnevents.com.au', port=80): Max retries exceeded with url: /assets/APA-Society/Peptides-book25102013resized.pdf (Caused by NewConnectionError('<urllib3.connection.HTTPConnection object at 0x7f47a8765c40>: Failed to establish a new connection: [Errno -2] Name or service not known'))\n"
     ]
    },
    {
     "name": "stderr",
     "output_type": "stream",
     "text": [
      "\r",
      " 95%|███████████████████████████████▍ | 83736/87736 [2:15:21<1:54:27,  1.72s/it]"
     ]
    },
    {
     "name": "stdout",
     "output_type": "stream",
     "text": [
      "0 HTTPConnectionPool(host='pertanika.upm.edu.my', port=80): Max retries exceeded with url: /Pertanika%20ARCHIVES/JST/2010/JST%20Vol.%2018%20(1)%20Jan.%202010%20.pdf (Caused by NewConnectionError('<urllib3.connection.HTTPConnection object at 0x7f47a8765fa0>: Failed to establish a new connection: [Errno -5] No address associated with hostname'))\n",
      "1 HTTPConnectionPool(host='pertanika.upm.edu.my', port=80): Max retries exceeded with url: /Pertanika%20ARCHIVES/JST/2010/JST%20Vol.%2018%20(1)%20Jan.%202010%20.pdf (Caused by NewConnectionError('<urllib3.connection.HTTPConnection object at 0x7f47a8765ca0>: Failed to establish a new connection: [Errno -5] No address associated with hostname'))\n",
      "2 HTTPConnectionPool(host='pertanika.upm.edu.my', port=80): Max retries exceeded with url: /Pertanika%20ARCHIVES/JST/2010/JST%20Vol.%2018%20(1)%20Jan.%202010%20.pdf (Caused by NewConnectionError('<urllib3.connection.HTTPConnection object at 0x7f47a8765b80>: Failed to establish a new connection: [Errno -5] No address associated with hostname'))\n"
     ]
    },
    {
     "name": "stderr",
     "output_type": "stream",
     "text": [
      "\r",
      " 95%|███████████████████████████████▍ | 83737/87736 [2:15:22<1:51:40,  1.68s/it]"
     ]
    },
    {
     "name": "stdout",
     "output_type": "stream",
     "text": [
      "0 HTTPConnectionPool(host='pertanika.upm.edu.my', port=80): Max retries exceeded with url: /Pertanika%20PAPERS/JSSH%20Vol.%2022%20(S)%20Dec.%202014/07%20JSSH%20Vol%2022%20(S)%20Dec%202014_pg127-140%20(JSSH-1271-2015).pdf (Caused by NewConnectionError('<urllib3.connection.HTTPConnection object at 0x7f47a8765a30>: Failed to establish a new connection: [Errno -5] No address associated with hostname'))\n",
      "1 HTTPConnectionPool(host='pertanika.upm.edu.my', port=80): Max retries exceeded with url: /Pertanika%20PAPERS/JSSH%20Vol.%2022%20(S)%20Dec.%202014/07%20JSSH%20Vol%2022%20(S)%20Dec%202014_pg127-140%20(JSSH-1271-2015).pdf (Caused by NewConnectionError('<urllib3.connection.HTTPConnection object at 0x7f47a8765c40>: Failed to establish a new connection: [Errno -5] No address associated with hostname'))\n",
      "2 HTTPConnectionPool(host='pertanika.upm.edu.my', port=80): Max retries exceeded with url: /Pertanika%20PAPERS/JSSH%20Vol.%2022%20(S)%20Dec.%202014/07%20JSSH%20Vol%2022%20(S)%20Dec%202014_pg127-140%20(JSSH-1271-2015).pdf (Caused by NewConnectionError('<urllib3.connection.HTTPConnection object at 0x7f47a8765df0>: Failed to establish a new connection: [Errno -5] No address associated with hostname'))\n"
     ]
    },
    {
     "name": "stderr",
     "output_type": "stream",
     "text": [
      "\r",
      " 95%|███████████████████████████████▍ | 83738/87736 [2:15:24<1:49:28,  1.64s/it]"
     ]
    },
    {
     "name": "stdout",
     "output_type": "stream",
     "text": [
      "0 HTTPConnectionPool(host='pertanika.upm.edu.my', port=80): Max retries exceeded with url: /Pertanika%20PAPERS/JSSH%20Vol.%2023%20(4)%20Dec.%202015/25%20JSSH%20Vol%2023%20(4)%20Dec%202015_pg1167-1178%20(JSSH%201252-2015).pdf (Caused by NewConnectionError('<urllib3.connection.HTTPConnection object at 0x7f47a8765c40>: Failed to establish a new connection: [Errno -5] No address associated with hostname'))\n",
      "1 HTTPConnectionPool(host='pertanika.upm.edu.my', port=80): Max retries exceeded with url: /Pertanika%20PAPERS/JSSH%20Vol.%2023%20(4)%20Dec.%202015/25%20JSSH%20Vol%2023%20(4)%20Dec%202015_pg1167-1178%20(JSSH%201252-2015).pdf (Caused by NewConnectionError('<urllib3.connection.HTTPConnection object at 0x7f47a8765ac0>: Failed to establish a new connection: [Errno -5] No address associated with hostname'))\n",
      "2 HTTPConnectionPool(host='pertanika.upm.edu.my', port=80): Max retries exceeded with url: /Pertanika%20PAPERS/JSSH%20Vol.%2023%20(4)%20Dec.%202015/25%20JSSH%20Vol%2023%20(4)%20Dec%202015_pg1167-1178%20(JSSH%201252-2015).pdf (Caused by NewConnectionError('<urllib3.connection.HTTPConnection object at 0x7f47a8765d60>: Failed to establish a new connection: [Errno -5] No address associated with hostname'))\n"
     ]
    },
    {
     "name": "stderr",
     "output_type": "stream",
     "text": [
      "\r",
      " 95%|███████████████████████████████▍ | 83739/87736 [2:15:26<1:47:55,  1.62s/it]"
     ]
    },
    {
     "name": "stdout",
     "output_type": "stream",
     "text": [
      "0 HTTPConnectionPool(host='pertanika.upm.edu.my', port=80): Max retries exceeded with url: /Pertanika%20PAPERS/JTAS%20Vol.%2034%20(2)%20Aug.%202011/6.pdf (Caused by NewConnectionError('<urllib3.connection.HTTPConnection object at 0x7f47a8765dc0>: Failed to establish a new connection: [Errno -5] No address associated with hostname'))\n",
      "1 HTTPConnectionPool(host='pertanika.upm.edu.my', port=80): Max retries exceeded with url: /Pertanika%20PAPERS/JTAS%20Vol.%2034%20(2)%20Aug.%202011/6.pdf (Caused by NewConnectionError('<urllib3.connection.HTTPConnection object at 0x7f47a8765520>: Failed to establish a new connection: [Errno -5] No address associated with hostname'))\n",
      "2 HTTPConnectionPool(host='pertanika.upm.edu.my', port=80): Max retries exceeded with url: /Pertanika%20PAPERS/JTAS%20Vol.%2034%20(2)%20Aug.%202011/6.pdf (Caused by NewConnectionError('<urllib3.connection.HTTPConnection object at 0x7f47a8765970>: Failed to establish a new connection: [Errno -5] No address associated with hostname'))\n"
     ]
    },
    {
     "name": "stderr",
     "output_type": "stream",
     "text": [
      " 95%|███████████████████████████████▍ | 83745/87736 [2:15:37<2:20:03,  2.11s/it]"
     ]
    },
    {
     "name": "stdout",
     "output_type": "stream",
     "text": [
      "0 HTTPConnectionPool(host='pid-fisipuinar.info', port=80): Max retries exceeded with url: /assets-back-end/dist/file/6__The_2nd_Ar-Raniry_International_Conference_On_Islamic_Studies_The_7th_International_Conference_Of_Aceh_And_Indian_Ocean_Studies.pdf (Caused by NewConnectionError('<urllib3.connection.HTTPConnection object at 0x7f47a8765d60>: Failed to establish a new connection: [Errno -2] Name or service not known'))\n",
      "1 HTTPConnectionPool(host='pid-fisipuinar.info', port=80): Max retries exceeded with url: /assets-back-end/dist/file/6__The_2nd_Ar-Raniry_International_Conference_On_Islamic_Studies_The_7th_International_Conference_Of_Aceh_And_Indian_Ocean_Studies.pdf (Caused by NewConnectionError('<urllib3.connection.HTTPConnection object at 0x7f47a8765a90>: Failed to establish a new connection: [Errno -2] Name or service not known'))\n",
      "2 HTTPConnectionPool(host='pid-fisipuinar.info', port=80): Max retries exceeded with url: /assets-back-end/dist/file/6__The_2nd_Ar-Raniry_International_Conference_On_Islamic_Studies_The_7th_International_Conference_Of_Aceh_And_Indian_Ocean_Studies.pdf (Caused by NewConnectionError('<urllib3.connection.HTTPConnection object at 0x7f47a8765e80>: Failed to establish a new connection: [Errno -2] Name or service not known'))\n"
     ]
    },
    {
     "name": "stderr",
     "output_type": "stream",
     "text": [
      " 95%|█████████████████████████████████▍ | 83760/87736 [2:15:55<49:51,  1.33it/s]"
     ]
    },
    {
     "name": "stdout",
     "output_type": "stream",
     "text": [
      "0 HTTPConnectionPool(host='proj3.sinica.edu.tw', port=80): Max retries exceeded with url: /~chem/servxx6/files/paper_13814_1326712186.pdf (Caused by NewConnectionError('<urllib3.connection.HTTPConnection object at 0x7f47a8765ee0>: Failed to establish a new connection: [Errno 110] Connection timed out'))\n",
      "1 HTTPConnectionPool(host='proj3.sinica.edu.tw', port=80): Max retries exceeded with url: /~chem/servxx6/files/paper_13814_1326712186.pdf (Caused by NewConnectionError('<urllib3.connection.HTTPConnection object at 0x7f47a86fd4c0>: Failed to establish a new connection: [Errno 110] Connection timed out'))\n",
      "2 HTTPConnectionPool(host='proj3.sinica.edu.tw', port=80): Max retries exceeded with url: /~chem/servxx6/files/paper_13814_1326712186.pdf (Caused by NewConnectionError('<urllib3.connection.HTTPConnection object at 0x7f47a870d430>: Failed to establish a new connection: [Errno 110] Connection timed out'))\n"
     ]
    },
    {
     "name": "stderr",
     "output_type": "stream",
     "text": [
      " 96%|█████████████████████████████████▍ | 83795/87736 [2:22:55<49:39,  1.32it/s]"
     ]
    },
    {
     "name": "stdout",
     "output_type": "stream",
     "text": [
      "0 HTTPConnectionPool(host='review.jpe.or.kr', port=80): Max retries exceeded with url: /On_line/admin/paper/files/JPE%206-1-3.pdf (Caused by NewConnectionError('<urllib3.connection.HTTPConnection object at 0x7f47a86fd640>: Failed to establish a new connection: [Errno -2] Name or service not known'))\n",
      "1 HTTPConnectionPool(host='review.jpe.or.kr', port=80): Max retries exceeded with url: /On_line/admin/paper/files/JPE%206-1-3.pdf (Caused by NewConnectionError('<urllib3.connection.HTTPConnection object at 0x7f47a86fd400>: Failed to establish a new connection: [Errno -2] Name or service not known'))\n",
      "2 HTTPConnectionPool(host='review.jpe.or.kr', port=80): Max retries exceeded with url: /On_line/admin/paper/files/JPE%206-1-3.pdf (Caused by NewConnectionError('<urllib3.connection.HTTPConnection object at 0x7f47a86fd850>: Failed to establish a new connection: [Errno -2] Name or service not known'))\n"
     ]
    },
    {
     "name": "stderr",
     "output_type": "stream",
     "text": [
      " 96%|███████████████████████████████▌ | 83806/87736 [2:23:12<1:42:51,  1.57s/it]"
     ]
    },
    {
     "name": "stdout",
     "output_type": "stream",
     "text": [
      "0 HTTPConnectionPool(host='saspjournals.com', port=80): Max retries exceeded with url: /wp-content/uploads/2015/08/SJEBM-28A816-828.pdf (Caused by NewConnectionError('<urllib3.connection.HTTPConnection object at 0x7f47a86fd640>: Failed to establish a new connection: [Errno -3] Temporary failure in name resolution'))\n",
      "1 HTTPConnectionPool(host='saspjournals.com', port=80): Max retries exceeded with url: /wp-content/uploads/2015/08/SJEBM-28A816-828.pdf (Caused by NewConnectionError('<urllib3.connection.HTTPConnection object at 0x7f47a86fdac0>: Failed to establish a new connection: [Errno -3] Temporary failure in name resolution'))\n",
      "2 HTTPConnectionPool(host='saspjournals.com', port=80): Max retries exceeded with url: /wp-content/uploads/2015/08/SJEBM-28A816-828.pdf (Caused by NewConnectionError('<urllib3.connection.HTTPConnection object at 0x7f47a86fd670>: Failed to establish a new connection: [Errno -3] Temporary failure in name resolution'))\n"
     ]
    },
    {
     "name": "stderr",
     "output_type": "stream",
     "text": [
      "\r",
      " 96%|███████████████████████████████▌ | 83807/87736 [2:23:15<2:04:36,  1.90s/it]"
     ]
    },
    {
     "name": "stdout",
     "output_type": "stream",
     "text": [
      "0 HTTPConnectionPool(host='saspjournals.com', port=80): Max retries exceeded with url: /wp-content/uploads/2018/02/SJEBM-51-80-88.pdf (Caused by NewConnectionError('<urllib3.connection.HTTPConnection object at 0x7f47a86fd4c0>: Failed to establish a new connection: [Errno -3] Temporary failure in name resolution'))\n",
      "1 HTTPConnectionPool(host='saspjournals.com', port=80): Max retries exceeded with url: /wp-content/uploads/2018/02/SJEBM-51-80-88.pdf (Caused by NewConnectionError('<urllib3.connection.HTTPConnection object at 0x7f47a86fd9d0>: Failed to establish a new connection: [Errno -3] Temporary failure in name resolution'))\n",
      "2 HTTPConnectionPool(host='saspjournals.com', port=80): Max retries exceeded with url: /wp-content/uploads/2018/02/SJEBM-51-80-88.pdf (Caused by NewConnectionError('<urllib3.connection.HTTPConnection object at 0x7f47a86fd6a0>: Failed to establish a new connection: [Errno -3] Temporary failure in name resolution'))\n"
     ]
    },
    {
     "name": "stderr",
     "output_type": "stream",
     "text": [
      "\r",
      " 96%|███████████████████████████████▌ | 83808/87736 [2:23:17<2:12:08,  2.02s/it]"
     ]
    },
    {
     "name": "stdout",
     "output_type": "stream",
     "text": [
      "0 HTTPConnectionPool(host='saspjournals.com', port=80): Max retries exceeded with url: /wp-content/uploads/2018/03/SJAHSS-62-447-453-c.pdf (Caused by NewConnectionError('<urllib3.connection.HTTPConnection object at 0x7f47a86fd670>: Failed to establish a new connection: [Errno -3] Temporary failure in name resolution'))\n",
      "1 HTTPConnectionPool(host='saspjournals.com', port=80): Max retries exceeded with url: /wp-content/uploads/2018/03/SJAHSS-62-447-453-c.pdf (Caused by NewConnectionError('<urllib3.connection.HTTPConnection object at 0x7f47a86fd7c0>: Failed to establish a new connection: [Errno -3] Temporary failure in name resolution'))\n",
      "2 HTTPConnectionPool(host='saspjournals.com', port=80): Max retries exceeded with url: /wp-content/uploads/2018/03/SJAHSS-62-447-453-c.pdf (Caused by NewConnectionError('<urllib3.connection.HTTPConnection object at 0x7f47a86fde50>: Failed to establish a new connection: [Errno -3] Temporary failure in name resolution'))\n"
     ]
    },
    {
     "name": "stderr",
     "output_type": "stream",
     "text": [
      "\r",
      " 96%|███████████████████████████████▌ | 83809/87736 [2:23:19<2:18:37,  2.12s/it]"
     ]
    },
    {
     "name": "stdout",
     "output_type": "stream",
     "text": [
      "0 HTTPConnectionPool(host='saspjournals.com', port=80): Max retries exceeded with url: /wp-content/uploads/2018/03/SJAHSS-62-463-480-c.pdf (Caused by NewConnectionError('<urllib3.connection.HTTPConnection object at 0x7f47a86fd6a0>: Failed to establish a new connection: [Errno -3] Temporary failure in name resolution'))\n",
      "1 HTTPConnectionPool(host='saspjournals.com', port=80): Max retries exceeded with url: /wp-content/uploads/2018/03/SJAHSS-62-463-480-c.pdf (Caused by NewConnectionError('<urllib3.connection.HTTPConnection object at 0x7f47a86fdfd0>: Failed to establish a new connection: [Errno -3] Temporary failure in name resolution'))\n",
      "2 HTTPConnectionPool(host='saspjournals.com', port=80): Max retries exceeded with url: /wp-content/uploads/2018/03/SJAHSS-62-463-480-c.pdf (Caused by NewConnectionError('<urllib3.connection.HTTPConnection object at 0x7f47a86fda00>: Failed to establish a new connection: [Errno -3] Temporary failure in name resolution'))\n"
     ]
    },
    {
     "name": "stderr",
     "output_type": "stream",
     "text": [
      "\r",
      " 96%|███████████████████████████████▌ | 83810/87736 [2:23:25<3:22:39,  3.10s/it]"
     ]
    },
    {
     "name": "stdout",
     "output_type": "stream",
     "text": [
      "0 HTTPConnectionPool(host='saspjournals.com', port=80): Max retries exceeded with url: /wp-content/uploads/2018/12/SJAHSS-611-2073-2079-c.pdf (Caused by NewConnectionError('<urllib3.connection.HTTPConnection object at 0x7f47a86fde50>: Failed to establish a new connection: [Errno -3] Temporary failure in name resolution'))\n",
      "1 HTTPConnectionPool(host='saspjournals.com', port=80): Max retries exceeded with url: /wp-content/uploads/2018/12/SJAHSS-611-2073-2079-c.pdf (Caused by NewConnectionError('<urllib3.connection.HTTPConnection object at 0x7f47a86fd730>: Failed to establish a new connection: [Errno -3] Temporary failure in name resolution'))\n",
      "2 HTTPConnectionPool(host='saspjournals.com', port=80): Max retries exceeded with url: /wp-content/uploads/2018/12/SJAHSS-611-2073-2079-c.pdf (Caused by NewConnectionError('<urllib3.connection.HTTPConnection object at 0x7f47a86fd3a0>: Failed to establish a new connection: [Errno -3] Temporary failure in name resolution'))\n"
     ]
    },
    {
     "name": "stderr",
     "output_type": "stream",
     "text": [
      "\r",
      " 96%|███████████████████████████████▌ | 83811/87736 [2:23:27<3:15:01,  2.98s/it]"
     ]
    },
    {
     "name": "stdout",
     "output_type": "stream",
     "text": [
      "0 HTTPConnectionPool(host='saspjournals.com', port=80): Max retries exceeded with url: /wp-content/uploads/2018/12/SJAHSS-612-2200-2204-c.pdf (Caused by NewConnectionError('<urllib3.connection.HTTPConnection object at 0x7f47a86fda00>: Failed to establish a new connection: [Errno -3] Temporary failure in name resolution'))\n",
      "1 HTTPConnectionPool(host='saspjournals.com', port=80): Max retries exceeded with url: /wp-content/uploads/2018/12/SJAHSS-612-2200-2204-c.pdf (Caused by NewConnectionError('<urllib3.connection.HTTPConnection object at 0x7f47a86fdd90>: Failed to establish a new connection: [Errno -3] Temporary failure in name resolution'))\n",
      "2 HTTPConnectionPool(host='saspjournals.com', port=80): Max retries exceeded with url: /wp-content/uploads/2018/12/SJAHSS-612-2200-2204-c.pdf (Caused by NewConnectionError('<urllib3.connection.HTTPConnection object at 0x7f47a86fd370>: Failed to establish a new connection: [Errno -3] Temporary failure in name resolution'))\n"
     ]
    },
    {
     "name": "stderr",
     "output_type": "stream",
     "text": [
      "\r",
      " 96%|███████████████████████████████▌ | 83812/87736 [2:23:30<3:08:30,  2.88s/it]"
     ]
    },
    {
     "name": "stdout",
     "output_type": "stream",
     "text": [
      "0 HTTPConnectionPool(host='saspjournals.com', port=80): Max retries exceeded with url: /wp-content/uploads/2018/12/SJEBM-511-1071-1080-c.pdf (Caused by NewConnectionError('<urllib3.connection.HTTPConnection object at 0x7f47a86fd6d0>: Failed to establish a new connection: [Errno -3] Temporary failure in name resolution'))\n",
      "1 HTTPConnectionPool(host='saspjournals.com', port=80): Max retries exceeded with url: /wp-content/uploads/2018/12/SJEBM-511-1071-1080-c.pdf (Caused by NewConnectionError('<urllib3.connection.HTTPConnection object at 0x7f47a86fd850>: Failed to establish a new connection: [Errno -3] Temporary failure in name resolution'))\n",
      "2 HTTPConnectionPool(host='saspjournals.com', port=80): Max retries exceeded with url: /wp-content/uploads/2018/12/SJEBM-511-1071-1080-c.pdf (Caused by NewConnectionError('<urllib3.connection.HTTPConnection object at 0x7f47a86fda60>: Failed to establish a new connection: [Errno -3] Temporary failure in name resolution'))\n"
     ]
    },
    {
     "name": "stderr",
     "output_type": "stream",
     "text": [
      "\r",
      " 96%|███████████████████████████████▌ | 83813/87736 [2:23:41<5:38:42,  5.18s/it]"
     ]
    },
    {
     "name": "stdout",
     "output_type": "stream",
     "text": [
      "0 HTTPConnectionPool(host='saspublisher.com', port=80): Max retries exceeded with url: /wp-content/uploads/2016/11/SJAMS-410A-3608-3611.pdf (Caused by NewConnectionError('<urllib3.connection.HTTPConnection object at 0x7f47a86fdeb0>: Failed to establish a new connection: [Errno -3] Temporary failure in name resolution'))\n",
      "1 HTTPConnectionPool(host='saspublisher.com', port=80): Max retries exceeded with url: /wp-content/uploads/2016/11/SJAMS-410A-3608-3611.pdf (Caused by NewConnectionError('<urllib3.connection.HTTPConnection object at 0x7f47a86fdeb0>: Failed to establish a new connection: [Errno -3] Temporary failure in name resolution'))\n",
      "2 HTTPConnectionPool(host='saspublisher.com', port=80): Max retries exceeded with url: /wp-content/uploads/2016/11/SJAMS-410A-3608-3611.pdf (Caused by NewConnectionError('<urllib3.connection.HTTPConnection object at 0x7f47a86fd3a0>: Failed to establish a new connection: [Errno -3] Temporary failure in name resolution'))\n"
     ]
    },
    {
     "name": "stderr",
     "output_type": "stream",
     "text": [
      "\r",
      " 96%|███████████████████████████████▌ | 83814/87736 [2:23:46<5:40:53,  5.22s/it]"
     ]
    },
    {
     "name": "stdout",
     "output_type": "stream",
     "text": [
      "0 HTTPConnectionPool(host='saspublisher.com', port=80): Max retries exceeded with url: /wp-content/uploads/2017/05/SJAMS-54B1319-1325.pdf (Caused by NewConnectionError('<urllib3.connection.HTTPConnection object at 0x7f47a86fdaf0>: Failed to establish a new connection: [Errno -3] Temporary failure in name resolution'))\n",
      "1 HTTPConnectionPool(host='saspublisher.com', port=80): Max retries exceeded with url: /wp-content/uploads/2017/05/SJAMS-54B1319-1325.pdf (Caused by NewConnectionError('<urllib3.connection.HTTPConnection object at 0x7f47a86fdf70>: Failed to establish a new connection: [Errno -3] Temporary failure in name resolution'))\n",
      "2 HTTPConnectionPool(host='saspublisher.com', port=80): Max retries exceeded with url: /wp-content/uploads/2017/05/SJAMS-54B1319-1325.pdf (Caused by NewConnectionError('<urllib3.connection.HTTPConnection object at 0x7f47a86fda00>: Failed to establish a new connection: [Errno -3] Temporary failure in name resolution'))\n"
     ]
    },
    {
     "name": "stderr",
     "output_type": "stream",
     "text": [
      "\r",
      " 96%|███████████████████████████████▌ | 83815/87736 [2:23:49<4:51:07,  4.45s/it]"
     ]
    },
    {
     "name": "stdout",
     "output_type": "stream",
     "text": [
      "0 HTTPConnectionPool(host='saspublisher.com', port=80): Max retries exceeded with url: /wp-content/uploads/2017/09/SJAMS-59C3693-3699.pdf (Caused by NewConnectionError('<urllib3.connection.HTTPConnection object at 0x7f47a86fd3a0>: Failed to establish a new connection: [Errno -3] Temporary failure in name resolution'))\n",
      "1 HTTPConnectionPool(host='saspublisher.com', port=80): Max retries exceeded with url: /wp-content/uploads/2017/09/SJAMS-59C3693-3699.pdf (Caused by NewConnectionError('<urllib3.connection.HTTPConnection object at 0x7f47a86fd580>: Failed to establish a new connection: [Errno -3] Temporary failure in name resolution'))\n",
      "2 HTTPConnectionPool(host='saspublisher.com', port=80): Max retries exceeded with url: /wp-content/uploads/2017/09/SJAMS-59C3693-3699.pdf (Caused by NewConnectionError('<urllib3.connection.HTTPConnection object at 0x7f47a86fda00>: Failed to establish a new connection: [Errno -3] Temporary failure in name resolution'))\n"
     ]
    },
    {
     "name": "stderr",
     "output_type": "stream",
     "text": [
      "\r",
      " 96%|███████████████████████████████▌ | 83816/87736 [2:23:54<5:09:00,  4.73s/it]"
     ]
    },
    {
     "name": "stdout",
     "output_type": "stream",
     "text": [
      "0 HTTPConnectionPool(host='saspublisher.com', port=80): Max retries exceeded with url: /wp-content/uploads/2017/10/SJAMS-510A3836-3838.pdf (Caused by NewConnectionError('<urllib3.connection.HTTPConnection object at 0x7f47a86fd730>: Failed to establish a new connection: [Errno -3] Temporary failure in name resolution'))\n",
      "1 HTTPConnectionPool(host='saspublisher.com', port=80): Max retries exceeded with url: /wp-content/uploads/2017/10/SJAMS-510A3836-3838.pdf (Caused by NewConnectionError('<urllib3.connection.HTTPConnection object at 0x7f47a86fdd90>: Failed to establish a new connection: [Errno -3] Temporary failure in name resolution'))\n",
      "2 HTTPConnectionPool(host='saspublisher.com', port=80): Max retries exceeded with url: /wp-content/uploads/2017/10/SJAMS-510A3836-3838.pdf (Caused by NewConnectionError('<urllib3.connection.HTTPConnection object at 0x7f47a86fda00>: Failed to establish a new connection: [Errno -3] Temporary failure in name resolution'))\n"
     ]
    },
    {
     "name": "stderr",
     "output_type": "stream",
     "text": [
      "\r",
      " 96%|███████████████████████████████▌ | 83817/87736 [2:23:59<5:17:30,  4.86s/it]"
     ]
    },
    {
     "name": "stdout",
     "output_type": "stream",
     "text": [
      "0 HTTPConnectionPool(host='saspublisher.com', port=80): Max retries exceeded with url: /wp-content/uploads/2018/01/SJAMS-61B-93-98-c.pdf (Caused by NewConnectionError('<urllib3.connection.HTTPConnection object at 0x7f47a86fd460>: Failed to establish a new connection: [Errno -3] Temporary failure in name resolution'))\n",
      "1 HTTPConnectionPool(host='saspublisher.com', port=80): Max retries exceeded with url: /wp-content/uploads/2018/01/SJAMS-61B-93-98-c.pdf (Caused by NewConnectionError('<urllib3.connection.HTTPConnection object at 0x7f47a86fde80>: Failed to establish a new connection: [Errno -3] Temporary failure in name resolution'))\n",
      "2 HTTPConnectionPool(host='saspublisher.com', port=80): Max retries exceeded with url: /wp-content/uploads/2018/01/SJAMS-61B-93-98-c.pdf (Caused by NewConnectionError('<urllib3.connection.HTTPConnection object at 0x7f47a86fda00>: Failed to establish a new connection: [Errno -3] Temporary failure in name resolution'))\n"
     ]
    },
    {
     "name": "stderr",
     "output_type": "stream",
     "text": [
      "\r",
      " 96%|███████████████████████████████▌ | 83818/87736 [2:24:02<4:34:59,  4.21s/it]"
     ]
    },
    {
     "name": "stdout",
     "output_type": "stream",
     "text": [
      "0 HTTPConnectionPool(host='saspublisher.com', port=80): Max retries exceeded with url: /wp-content/uploads/2018/03/SJAMS-63-1093-1101-c.pdf (Caused by NewConnectionError('<urllib3.connection.HTTPConnection object at 0x7f47a86fd7c0>: Failed to establish a new connection: [Errno -3] Temporary failure in name resolution'))\n",
      "1 HTTPConnectionPool(host='saspublisher.com', port=80): Max retries exceeded with url: /wp-content/uploads/2018/03/SJAMS-63-1093-1101-c.pdf (Caused by NewConnectionError('<urllib3.connection.HTTPConnection object at 0x7f47a86fda30>: Failed to establish a new connection: [Errno -3] Temporary failure in name resolution'))\n",
      "2 HTTPConnectionPool(host='saspublisher.com', port=80): Max retries exceeded with url: /wp-content/uploads/2018/03/SJAMS-63-1093-1101-c.pdf (Caused by NewConnectionError('<urllib3.connection.HTTPConnection object at 0x7f47a86fda00>: Failed to establish a new connection: [Errno -3] Temporary failure in name resolution'))\n"
     ]
    },
    {
     "name": "stderr",
     "output_type": "stream",
     "text": [
      " 96%|███████████████████████████████▌ | 83821/87736 [2:24:10<3:14:07,  2.97s/it]"
     ]
    },
    {
     "name": "stdout",
     "output_type": "stream",
     "text": [
      "0 HTTPConnectionPool(host='scholarsbulletin.com', port=80): Max retries exceeded with url: /wp-content/uploads/2017/10/SB-310525-528.pdf (Caused by NewConnectionError('<urllib3.connection.HTTPConnection object at 0x7f47a86fdf10>: Failed to establish a new connection: [Errno -3] Temporary failure in name resolution'))\n",
      "1 HTTPConnectionPool(host='scholarsbulletin.com', port=80): Max retries exceeded with url: /wp-content/uploads/2017/10/SB-310525-528.pdf (Caused by NewConnectionError('<urllib3.connection.HTTPConnection object at 0x7f47a86fdf10>: Failed to establish a new connection: [Errno -3] Temporary failure in name resolution'))\n",
      "2 HTTPConnectionPool(host='scholarsbulletin.com', port=80): Max retries exceeded with url: /wp-content/uploads/2017/10/SB-310525-528.pdf (Caused by NewConnectionError('<urllib3.connection.HTTPConnection object at 0x7f47a86fd820>: Failed to establish a new connection: [Errno -3] Temporary failure in name resolution'))\n"
     ]
    },
    {
     "name": "stderr",
     "output_type": "stream",
     "text": [
      " 96%|███████████████████████████████▌ | 83842/87736 [2:25:44<1:30:03,  1.39s/it]"
     ]
    },
    {
     "name": "stdout",
     "output_type": "stream",
     "text": [
      "0 HTTPConnectionPool(host='search.taylors.edu.my', port=80): Max retries exceeded with url: /documents/journals/2019-11-2/SEARCH-2019-11-2-J1-1-19.pdf (Caused by NewConnectionError('<urllib3.connection.HTTPConnection object at 0x7f47a86fdaf0>: Failed to establish a new connection: [Errno -2] Name or service not known'))\n",
      "1 HTTPConnectionPool(host='search.taylors.edu.my', port=80): Max retries exceeded with url: /documents/journals/2019-11-2/SEARCH-2019-11-2-J1-1-19.pdf (Caused by NewConnectionError('<urllib3.connection.HTTPConnection object at 0x7f47a86fd400>: Failed to establish a new connection: [Errno -2] Name or service not known'))\n",
      "2 HTTPConnectionPool(host='search.taylors.edu.my', port=80): Max retries exceeded with url: /documents/journals/2019-11-2/SEARCH-2019-11-2-J1-1-19.pdf (Caused by NewConnectionError('<urllib3.connection.HTTPConnection object at 0x7f47a86fd580>: Failed to establish a new connection: [Errno -2] Name or service not known'))\n"
     ]
    },
    {
     "name": "stderr",
     "output_type": "stream",
     "text": [
      "\r",
      " 96%|███████████████████████████████▌ | 83843/87736 [2:25:46<1:34:19,  1.45s/it]"
     ]
    },
    {
     "name": "stdout",
     "output_type": "stream",
     "text": [
      "0 HTTPConnectionPool(host='search.taylors.edu.my', port=80): Max retries exceeded with url: /documents/journals/2019-11-3/SEARCH-2019-11-3-J5-71-89.pdf (Caused by NewConnectionError('<urllib3.connection.HTTPConnection object at 0x7f47a86fd6d0>: Failed to establish a new connection: [Errno -2] Name or service not known'))\n",
      "1 HTTPConnectionPool(host='search.taylors.edu.my', port=80): Max retries exceeded with url: /documents/journals/2019-11-3/SEARCH-2019-11-3-J5-71-89.pdf (Caused by NewConnectionError('<urllib3.connection.HTTPConnection object at 0x7f47a86fd8e0>: Failed to establish a new connection: [Errno -2] Name or service not known'))\n",
      "2 HTTPConnectionPool(host='search.taylors.edu.my', port=80): Max retries exceeded with url: /documents/journals/2019-11-3/SEARCH-2019-11-3-J5-71-89.pdf (Caused by NewConnectionError('<urllib3.connection.HTTPConnection object at 0x7f47a86fd1c0>: Failed to establish a new connection: [Errno -2] Name or service not known'))\n"
     ]
    },
    {
     "name": "stderr",
     "output_type": "stream",
     "text": [
      "\r",
      " 96%|███████████████████████████████▌ | 83844/87736 [2:25:48<1:36:58,  1.50s/it]"
     ]
    },
    {
     "name": "stdout",
     "output_type": "stream",
     "text": [
      "0 HTTPConnectionPool(host='search.taylors.edu.my', port=80): Max retries exceeded with url: /documents/journals/2020-12-1/SEARCH-2020-12-1-J6-93-109.pdf (Caused by NewConnectionError('<urllib3.connection.HTTPConnection object at 0x7f47a86fd550>: Failed to establish a new connection: [Errno -2] Name or service not known'))\n",
      "1 HTTPConnectionPool(host='search.taylors.edu.my', port=80): Max retries exceeded with url: /documents/journals/2020-12-1/SEARCH-2020-12-1-J6-93-109.pdf (Caused by NewConnectionError('<urllib3.connection.HTTPConnection object at 0x7f47a86fd730>: Failed to establish a new connection: [Errno -2] Name or service not known'))\n",
      "2 HTTPConnectionPool(host='search.taylors.edu.my', port=80): Max retries exceeded with url: /documents/journals/2020-12-1/SEARCH-2020-12-1-J6-93-109.pdf (Caused by NewConnectionError('<urllib3.connection.HTTPConnection object at 0x7f47a86fddc0>: Failed to establish a new connection: [Errno -2] Name or service not known'))\n"
     ]
    },
    {
     "name": "stderr",
     "output_type": "stream",
     "text": [
      "\r",
      " 96%|███████████████████████████████▌ | 83845/87736 [2:25:49<1:38:55,  1.53s/it]"
     ]
    },
    {
     "name": "stdout",
     "output_type": "stream",
     "text": [
      "0 HTTPConnectionPool(host='seipti2018.usim.edu.my', port=80): Max retries exceeded with url: /wp-content/uploads/2019/02/e-Prosiding-SeIPTI-2018.pdf (Caused by NewConnectionError('<urllib3.connection.HTTPConnection object at 0x7f47a86fdb20>: Failed to establish a new connection: [Errno -2] Name or service not known'))\n",
      "1 HTTPConnectionPool(host='seipti2018.usim.edu.my', port=80): Max retries exceeded with url: /wp-content/uploads/2019/02/e-Prosiding-SeIPTI-2018.pdf (Caused by NewConnectionError('<urllib3.connection.HTTPConnection object at 0x7f47a86fd850>: Failed to establish a new connection: [Errno -2] Name or service not known'))\n",
      "2 HTTPConnectionPool(host='seipti2018.usim.edu.my', port=80): Max retries exceeded with url: /wp-content/uploads/2019/02/e-Prosiding-SeIPTI-2018.pdf (Caused by NewConnectionError('<urllib3.connection.HTTPConnection object at 0x7f47a86fdfa0>: Failed to establish a new connection: [Errno -2] Name or service not known'))\n"
     ]
    },
    {
     "name": "stderr",
     "output_type": "stream",
     "text": [
      "\r",
      " 96%|███████████████████████████████▌ | 83846/87736 [2:25:51<1:40:24,  1.55s/it]"
     ]
    },
    {
     "name": "stdout",
     "output_type": "stream",
     "text": [
      "0 HTTPConnectionPool(host='seminar.spaceutm.edu.my', port=80): Max retries exceeded with url: /icriis2013/download/A3_PrgBook_ParallelSession-icriis2013-1111.pdf (Caused by NewConnectionError('<urllib3.connection.HTTPConnection object at 0x7f47a86fdf70>: Failed to establish a new connection: [Errno -3] Temporary failure in name resolution'))\n",
      "1 HTTPConnectionPool(host='seminar.spaceutm.edu.my', port=80): Max retries exceeded with url: /icriis2013/download/A3_PrgBook_ParallelSession-icriis2013-1111.pdf (Caused by NewConnectionError('<urllib3.connection.HTTPConnection object at 0x7f47a86fdaf0>: Failed to establish a new connection: [Errno -3] Temporary failure in name resolution'))\n",
      "2 HTTPConnectionPool(host='seminar.spaceutm.edu.my', port=80): Max retries exceeded with url: /icriis2013/download/A3_PrgBook_ParallelSession-icriis2013-1111.pdf (Caused by NewConnectionError('<urllib3.connection.HTTPConnection object at 0x7f47a86fddc0>: Failed to establish a new connection: [Errno -3] Temporary failure in name resolution'))\n"
     ]
    },
    {
     "name": "stderr",
     "output_type": "stream",
     "text": [
      "\r",
      " 96%|███████████████████████████████▌ | 83847/87736 [2:25:56<2:46:33,  2.57s/it]"
     ]
    },
    {
     "name": "stdout",
     "output_type": "stream",
     "text": [
      "0 HTTPConnectionPool(host='seminar.spaceutm.edu.my', port=80): Max retries exceeded with url: /jisri/download/G_FinalPublished/Pub10_GroundedTheoryCaseStudy.pdf (Caused by NewConnectionError('<urllib3.connection.HTTPConnection object at 0x7f47a86fdd90>: Failed to establish a new connection: [Errno -3] Temporary failure in name resolution'))\n",
      "1 HTTPConnectionPool(host='seminar.spaceutm.edu.my', port=80): Max retries exceeded with url: /jisri/download/G_FinalPublished/Pub10_GroundedTheoryCaseStudy.pdf (Caused by NewConnectionError('<urllib3.connection.HTTPConnection object at 0x7f47a86fd730>: Failed to establish a new connection: [Errno -3] Temporary failure in name resolution'))\n",
      "2 HTTPConnectionPool(host='seminar.spaceutm.edu.my', port=80): Max retries exceeded with url: /jisri/download/G_FinalPublished/Pub10_GroundedTheoryCaseStudy.pdf (Caused by NewConnectionError('<urllib3.connection.HTTPConnection object at 0x7f47a86fdb20>: Failed to establish a new connection: [Errno -3] Temporary failure in name resolution'))\n"
     ]
    },
    {
     "name": "stderr",
     "output_type": "stream",
     "text": [
      " 96%|███████████████████████████████▌ | 83857/87736 [2:26:14<1:12:24,  1.12s/it]"
     ]
    },
    {
     "name": "stdout",
     "output_type": "stream",
     "text": [
      "0 ('Connection aborted.', ConnectionResetError(104, 'Connection reset by peer'))\n",
      "1 ('Connection aborted.', ConnectionResetError(104, 'Connection reset by peer'))\n",
      "2 ('Connection aborted.', ConnectionResetError(104, 'Connection reset by peer'))\n"
     ]
    },
    {
     "name": "stderr",
     "output_type": "stream",
     "text": [
      " 96%|█████████████████████████████████▍ | 83875/87736 [2:26:35<54:58,  1.17it/s]"
     ]
    },
    {
     "name": "stdout",
     "output_type": "stream",
     "text": [
      "0 HTTPConnectionPool(host='sparc.nfu.edu.tw', port=80): Max retries exceeded with url: /~iceti2011/download/ICETI2011_Proceedings.pdf (Caused by NewConnectionError('<urllib3.connection.HTTPConnection object at 0x7f47a86fdf70>: Failed to establish a new connection: [Errno 110] Connection timed out'))\n",
      "1 HTTPConnectionPool(host='sparc.nfu.edu.tw', port=80): Max retries exceeded with url: /~iceti2011/download/ICETI2011_Proceedings.pdf (Caused by NewConnectionError('<urllib3.connection.HTTPConnection object at 0x7f47a86fdaf0>: Failed to establish a new connection: [Errno 110] Connection timed out'))\n",
      "2 HTTPConnectionPool(host='sparc.nfu.edu.tw', port=80): Max retries exceeded with url: /~iceti2011/download/ICETI2011_Proceedings.pdf (Caused by NewConnectionError('<urllib3.connection.HTTPConnection object at 0x7f47a8765a90>: Failed to establish a new connection: [Errno 110] Connection timed out'))\n"
     ]
    },
    {
     "name": "stderr",
     "output_type": "stream",
     "text": [
      " 96%|██████████████████████████████▌ | 83879/87736 [2:33:13<44:43:17, 41.74s/it]"
     ]
    },
    {
     "name": "stdout",
     "output_type": "stream",
     "text": [
      "0 HTTPSConnectionPool(host='seat-web1.massey.ac.nz', port=443): Max retries exceeded with url: /research/centres/crisp/ivcnz/proceedings/ivcnz_25.pdf (Caused by SSLError(SSLEOFError(8, 'EOF occurred in violation of protocol (_ssl.c:1131)')))\n",
      "1 HTTPSConnectionPool(host='seat-web1.massey.ac.nz', port=443): Max retries exceeded with url: /research/centres/crisp/ivcnz/proceedings/ivcnz_25.pdf (Caused by SSLError(SSLEOFError(8, 'EOF occurred in violation of protocol (_ssl.c:1131)')))\n",
      "2 HTTPSConnectionPool(host='seat-web1.massey.ac.nz', port=443): Max retries exceeded with url: /research/centres/crisp/ivcnz/proceedings/ivcnz_25.pdf (Caused by SSLError(SSLEOFError(8, 'EOF occurred in violation of protocol (_ssl.c:1131)')))\n"
     ]
    },
    {
     "name": "stderr",
     "output_type": "stream",
     "text": [
      " 96%|███████████████████████████████▌ | 83886/87736 [2:33:29<5:42:14,  5.33s/it]"
     ]
    },
    {
     "name": "stdout",
     "output_type": "stream",
     "text": [
      "0 HTTPConnectionPool(host='thempf.org', port=80): Max retries exceeded with url: /metabomeeting/MM09/book2009.pdf (Caused by NewConnectionError('<urllib3.connection.HTTPConnection object at 0x7f47a86fd730>: Failed to establish a new connection: [Errno -3] Temporary failure in name resolution'))\n",
      "1 HTTPConnectionPool(host='thempf.org', port=80): Max retries exceeded with url: /metabomeeting/MM09/book2009.pdf (Caused by NewConnectionError('<urllib3.connection.HTTPConnection object at 0x7f47a86fd7f0>: Failed to establish a new connection: [Errno -3] Temporary failure in name resolution'))\n",
      "2 HTTPConnectionPool(host='thempf.org', port=80): Max retries exceeded with url: /metabomeeting/MM09/book2009.pdf (Caused by NewConnectionError('<urllib3.connection.HTTPConnection object at 0x7f47a86fd850>: Failed to establish a new connection: [Errno -3] Temporary failure in name resolution'))\n"
     ]
    },
    {
     "name": "stderr",
     "output_type": "stream",
     "text": [
      " 96%|███████████████████████████████▌ | 83895/87736 [2:33:42<1:26:35,  1.35s/it]"
     ]
    },
    {
     "name": "stdout",
     "output_type": "stream",
     "text": [
      "0 HTTPConnectionPool(host='tifej.uitm.edu.my', port=80): Max retries exceeded with url: /images/stories/V2I2/v2i2a7.co-movement%20of%20output%20and%20price%20in%20malaysia.pdf (Caused by NewConnectionError('<urllib3.connection.HTTPConnection object at 0x7f47a86fd2b0>: Failed to establish a new connection: [Errno -2] Name or service not known'))\n",
      "1 HTTPConnectionPool(host='tifej.uitm.edu.my', port=80): Max retries exceeded with url: /images/stories/V2I2/v2i2a7.co-movement%20of%20output%20and%20price%20in%20malaysia.pdf (Caused by NewConnectionError('<urllib3.connection.HTTPConnection object at 0x7f47a86fd4c0>: Failed to establish a new connection: [Errno -2] Name or service not known'))\n",
      "2 HTTPConnectionPool(host='tifej.uitm.edu.my', port=80): Max retries exceeded with url: /images/stories/V2I2/v2i2a7.co-movement%20of%20output%20and%20price%20in%20malaysia.pdf (Caused by NewConnectionError('<urllib3.connection.HTTPConnection object at 0x7f47a86fdb50>: Failed to establish a new connection: [Errno -2] Name or service not known'))\n"
     ]
    },
    {
     "name": "stderr",
     "output_type": "stream",
     "text": [
      "\r",
      " 96%|███████████████████████████████▌ | 83896/87736 [2:33:43<1:31:27,  1.43s/it]"
     ]
    },
    {
     "name": "stdout",
     "output_type": "stream",
     "text": [
      "0 HTTPConnectionPool(host='tifej.uitm.edu.my', port=80): Max retries exceeded with url: /images/stories/V3I1/v3i1a1.profitability%20determinants%20of.pdf (Caused by NewConnectionError('<urllib3.connection.HTTPConnection object at 0x7f47a86fdeb0>: Failed to establish a new connection: [Errno -2] Name or service not known'))\n",
      "1 HTTPConnectionPool(host='tifej.uitm.edu.my', port=80): Max retries exceeded with url: /images/stories/V3I1/v3i1a1.profitability%20determinants%20of.pdf (Caused by NewConnectionError('<urllib3.connection.HTTPConnection object at 0x7f47a86fd8e0>: Failed to establish a new connection: [Errno -2] Name or service not known'))\n",
      "2 HTTPConnectionPool(host='tifej.uitm.edu.my', port=80): Max retries exceeded with url: /images/stories/V3I1/v3i1a1.profitability%20determinants%20of.pdf (Caused by NewConnectionError('<urllib3.connection.HTTPConnection object at 0x7f47a86fd3a0>: Failed to establish a new connection: [Errno -2] Name or service not known'))\n"
     ]
    },
    {
     "name": "stderr",
     "output_type": "stream",
     "text": [
      " 96%|███████████████████████████████▌ | 83902/87736 [2:33:53<1:36:43,  1.51s/it]"
     ]
    },
    {
     "name": "stdout",
     "output_type": "stream",
     "text": [
      "0 HTTPConnectionPool(host='tr.ietejournals.org', port=80): Max retries exceeded with url: /temp/IETETechRev302120-3690409_101504.pdf (Caused by NewConnectionError('<urllib3.connection.HTTPConnection object at 0x7f47a86fdcd0>: Failed to establish a new connection: [Errno -2] Name or service not known'))\n",
      "1 HTTPConnectionPool(host='tr.ietejournals.org', port=80): Max retries exceeded with url: /temp/IETETechRev302120-3690409_101504.pdf (Caused by NewConnectionError('<urllib3.connection.HTTPConnection object at 0x7f47a86fd160>: Failed to establish a new connection: [Errno -2] Name or service not known'))\n",
      "2 HTTPConnectionPool(host='tr.ietejournals.org', port=80): Max retries exceeded with url: /temp/IETETechRev302120-3690409_101504.pdf (Caused by NewConnectionError('<urllib3.connection.HTTPConnection object at 0x7f47a86fd6a0>: Failed to establish a new connection: [Errno -2] Name or service not known'))\n"
     ]
    },
    {
     "name": "stderr",
     "output_type": "stream",
     "text": [
      " 96%|███████████████████████████████▌ | 83909/87736 [2:34:06<2:25:44,  2.28s/it]"
     ]
    },
    {
     "name": "stdout",
     "output_type": "stream",
     "text": [
      "0 HTTPConnectionPool(host='uhsb.uthm.edu.my', port=80): Max retries exceeded with url: /isasm2011/ISASM2011%20FULL%20PAPER.pdf (Caused by NewConnectionError('<urllib3.connection.HTTPConnection object at 0x7f47a86fdc70>: Failed to establish a new connection: [Errno -2] Name or service not known'))\n",
      "1 HTTPConnectionPool(host='uhsb.uthm.edu.my', port=80): Max retries exceeded with url: /isasm2011/ISASM2011%20FULL%20PAPER.pdf (Caused by NewConnectionError('<urllib3.connection.HTTPConnection object at 0x7f47a86fd0a0>: Failed to establish a new connection: [Errno -2] Name or service not known'))\n",
      "2 HTTPConnectionPool(host='uhsb.uthm.edu.my', port=80): Max retries exceeded with url: /isasm2011/ISASM2011%20FULL%20PAPER.pdf (Caused by NewConnectionError('<urllib3.connection.HTTPConnection object at 0x7f47a86fdb80>: Failed to establish a new connection: [Errno -2] Name or service not known'))\n"
     ]
    },
    {
     "name": "stderr",
     "output_type": "stream",
     "text": [
      "\r",
      " 96%|███████████████████████████████▌ | 83910/87736 [2:34:08<2:18:24,  2.17s/it]"
     ]
    },
    {
     "name": "stdout",
     "output_type": "stream",
     "text": [
      "0 HTTPConnectionPool(host='ukmsyariah.org', port=80): Max retries exceeded with url: /terbitan/wp-content/uploads/2015/09/17-Yousef-Keleibi.pdf (Caused by NewConnectionError('<urllib3.connection.HTTPConnection object at 0x7f47a86fd760>: Failed to establish a new connection: [Errno -2] Name or service not known'))\n",
      "1 HTTPConnectionPool(host='ukmsyariah.org', port=80): Max retries exceeded with url: /terbitan/wp-content/uploads/2015/09/17-Yousef-Keleibi.pdf (Caused by NewConnectionError('<urllib3.connection.HTTPConnection object at 0x7f47a86fd070>: Failed to establish a new connection: [Errno -2] Name or service not known'))\n",
      "2 HTTPConnectionPool(host='ukmsyariah.org', port=80): Max retries exceeded with url: /terbitan/wp-content/uploads/2015/09/17-Yousef-Keleibi.pdf (Caused by NewConnectionError('<urllib3.connection.HTTPConnection object at 0x7f47a86fd0d0>: Failed to establish a new connection: [Errno -2] Name or service not known'))\n"
     ]
    },
    {
     "name": "stderr",
     "output_type": "stream",
     "text": [
      "\r",
      " 96%|███████████████████████████████▌ | 83911/87736 [2:34:10<2:10:04,  2.04s/it]"
     ]
    },
    {
     "name": "stdout",
     "output_type": "stream",
     "text": [
      "0 HTTPConnectionPool(host='ukmsyariah.org', port=80): Max retries exceeded with url: /terbitan/wp-content/uploads/2015/10/Bab-06-Dr-Ahmad-Muhammad-Husni.pdf (Caused by NewConnectionError('<urllib3.connection.HTTPConnection object at 0x7f47a86fda90>: Failed to establish a new connection: [Errno -2] Name or service not known'))\n",
      "1 HTTPConnectionPool(host='ukmsyariah.org', port=80): Max retries exceeded with url: /terbitan/wp-content/uploads/2015/10/Bab-06-Dr-Ahmad-Muhammad-Husni.pdf (Caused by NewConnectionError('<urllib3.connection.HTTPConnection object at 0x7f47a86fdac0>: Failed to establish a new connection: [Errno -2] Name or service not known'))\n",
      "2 HTTPConnectionPool(host='ukmsyariah.org', port=80): Max retries exceeded with url: /terbitan/wp-content/uploads/2015/10/Bab-06-Dr-Ahmad-Muhammad-Husni.pdf (Caused by NewConnectionError('<urllib3.connection.HTTPConnection object at 0x7f47a86fd370>: Failed to establish a new connection: [Errno -2] Name or service not known'))\n"
     ]
    },
    {
     "name": "stderr",
     "output_type": "stream",
     "text": [
      "\r",
      " 96%|███████████████████████████████▌ | 83912/87736 [2:34:11<2:01:38,  1.91s/it]"
     ]
    },
    {
     "name": "stdout",
     "output_type": "stream",
     "text": [
      "0 HTTPConnectionPool(host='ukmsyariah.org', port=80): Max retries exceeded with url: /terbitan/wp-content/uploads/2015/10/Bab-08-Md-Yazid-Ahmad.pdf (Caused by NewConnectionError('<urllib3.connection.HTTPConnection object at 0x7f47a86fd0a0>: Failed to establish a new connection: [Errno -2] Name or service not known'))\n",
      "1 HTTPConnectionPool(host='ukmsyariah.org', port=80): Max retries exceeded with url: /terbitan/wp-content/uploads/2015/10/Bab-08-Md-Yazid-Ahmad.pdf (Caused by NewConnectionError('<urllib3.connection.HTTPConnection object at 0x7f47a86fdf40>: Failed to establish a new connection: [Errno -2] Name or service not known'))\n",
      "2 HTTPConnectionPool(host='ukmsyariah.org', port=80): Max retries exceeded with url: /terbitan/wp-content/uploads/2015/10/Bab-08-Md-Yazid-Ahmad.pdf (Caused by NewConnectionError('<urllib3.connection.HTTPConnection object at 0x7f47a86fd430>: Failed to establish a new connection: [Errno -2] Name or service not known'))\n"
     ]
    },
    {
     "name": "stderr",
     "output_type": "stream",
     "text": [
      "\r",
      " 96%|███████████████████████████████▌ | 83913/87736 [2:34:13<1:56:19,  1.83s/it]"
     ]
    },
    {
     "name": "stdout",
     "output_type": "stream",
     "text": [
      "0 HTTPConnectionPool(host='ukmsyariah.org', port=80): Max retries exceeded with url: /terbitan/wp-content/uploads/2015/12/03-Dr-Noor-Lizza-Mohamed-Said.pdf (Caused by NewConnectionError('<urllib3.connection.HTTPConnection object at 0x7f47a86fde80>: Failed to establish a new connection: [Errno -2] Name or service not known'))\n",
      "1 HTTPConnectionPool(host='ukmsyariah.org', port=80): Max retries exceeded with url: /terbitan/wp-content/uploads/2015/12/03-Dr-Noor-Lizza-Mohamed-Said.pdf (Caused by NewConnectionError('<urllib3.connection.HTTPConnection object at 0x7f47a86fd9d0>: Failed to establish a new connection: [Errno -2] Name or service not known'))\n",
      "2 HTTPConnectionPool(host='ukmsyariah.org', port=80): Max retries exceeded with url: /terbitan/wp-content/uploads/2015/12/03-Dr-Noor-Lizza-Mohamed-Said.pdf (Caused by NewConnectionError('<urllib3.connection.HTTPConnection object at 0x7f47a86fd4f0>: Failed to establish a new connection: [Errno -2] Name or service not known'))\n"
     ]
    },
    {
     "name": "stderr",
     "output_type": "stream",
     "text": [
      "\r",
      " 96%|███████████████████████████████▌ | 83914/87736 [2:34:15<1:51:58,  1.76s/it]"
     ]
    },
    {
     "name": "stdout",
     "output_type": "stream",
     "text": [
      "0 HTTPConnectionPool(host='ukmsyariah.org', port=80): Max retries exceeded with url: /terbitan/wp-content/uploads/2015/12/07-Dr-Ahmad-Muhammad-Husni.pdf (Caused by NewConnectionError('<urllib3.connection.HTTPConnection object at 0x7f47a8765280>: Failed to establish a new connection: [Errno -2] Name or service not known'))\n",
      "1 HTTPConnectionPool(host='ukmsyariah.org', port=80): Max retries exceeded with url: /terbitan/wp-content/uploads/2015/12/07-Dr-Ahmad-Muhammad-Husni.pdf (Caused by NewConnectionError('<urllib3.connection.HTTPConnection object at 0x7f47a86fd730>: Failed to establish a new connection: [Errno -2] Name or service not known'))\n",
      "2 HTTPConnectionPool(host='ukmsyariah.org', port=80): Max retries exceeded with url: /terbitan/wp-content/uploads/2015/12/07-Dr-Ahmad-Muhammad-Husni.pdf (Caused by NewConnectionError('<urllib3.connection.HTTPConnection object at 0x7f47a86fd8e0>: Failed to establish a new connection: [Errno -2] Name or service not known'))\n"
     ]
    },
    {
     "name": "stderr",
     "output_type": "stream",
     "text": [
      "\r",
      " 96%|███████████████████████████████▌ | 83915/87736 [2:34:16<1:49:11,  1.71s/it]"
     ]
    },
    {
     "name": "stdout",
     "output_type": "stream",
     "text": [
      "0 HTTPConnectionPool(host='ukmsyariah.org', port=80): Max retries exceeded with url: /terbitan/wp-content/uploads/2018/04/31-madihah.pdf (Caused by NewConnectionError('<urllib3.connection.HTTPConnection object at 0x7f47a8765580>: Failed to establish a new connection: [Errno -2] Name or service not known'))\n",
      "1 HTTPConnectionPool(host='ukmsyariah.org', port=80): Max retries exceeded with url: /terbitan/wp-content/uploads/2018/04/31-madihah.pdf (Caused by NewConnectionError('<urllib3.connection.HTTPConnection object at 0x7f47a86fd130>: Failed to establish a new connection: [Errno -2] Name or service not known'))\n",
      "2 HTTPConnectionPool(host='ukmsyariah.org', port=80): Max retries exceeded with url: /terbitan/wp-content/uploads/2018/04/31-madihah.pdf (Caused by NewConnectionError('<urllib3.connection.HTTPConnection object at 0x7f47a86fd4f0>: Failed to establish a new connection: [Errno -2] Name or service not known'))\n"
     ]
    },
    {
     "name": "stderr",
     "output_type": "stream",
     "text": [
      "\r",
      " 96%|███████████████████████████████▌ | 83916/87736 [2:34:18<1:47:01,  1.68s/it]"
     ]
    },
    {
     "name": "stdout",
     "output_type": "stream",
     "text": [
      "0 HTTPConnectionPool(host='ukmsyariah.org', port=80): Max retries exceeded with url: /wp-content/uploads/2015/12/43-Ahmad-Muhammad-Husni.pdf (Caused by NewConnectionError('<urllib3.connection.HTTPConnection object at 0x7f47a86fd4c0>: Failed to establish a new connection: [Errno -2] Name or service not known'))\n",
      "1 HTTPConnectionPool(host='ukmsyariah.org', port=80): Max retries exceeded with url: /wp-content/uploads/2015/12/43-Ahmad-Muhammad-Husni.pdf (Caused by NewConnectionError('<urllib3.connection.HTTPConnection object at 0x7f47a86fd130>: Failed to establish a new connection: [Errno -2] Name or service not known'))\n",
      "2 HTTPConnectionPool(host='ukmsyariah.org', port=80): Max retries exceeded with url: /wp-content/uploads/2015/12/43-Ahmad-Muhammad-Husni.pdf (Caused by NewConnectionError('<urllib3.connection.HTTPConnection object at 0x7f47a86fde80>: Failed to establish a new connection: [Errno -2] Name or service not known'))\n"
     ]
    },
    {
     "name": "stderr",
     "output_type": "stream",
     "text": [
      " 96%|███████████████████████████████▌ | 83939/87736 [2:34:51<1:49:31,  1.73s/it]"
     ]
    },
    {
     "name": "stdout",
     "output_type": "stream",
     "text": [
      "0 HTTPConnectionPool(host='usulifaqihrc.com', port=80): Max retries exceeded with url: /eprosiding/wp-content/uploads/2015/05/Prosiding-Mohd-Mahyeddin-Mohd-Salleh.pdf (Caused by NewConnectionError('<urllib3.connection.HTTPConnection object at 0x7f47a8765df0>: Failed to establish a new connection: [Errno -2] Name or service not known'))\n",
      "1 HTTPConnectionPool(host='usulifaqihrc.com', port=80): Max retries exceeded with url: /eprosiding/wp-content/uploads/2015/05/Prosiding-Mohd-Mahyeddin-Mohd-Salleh.pdf (Caused by NewConnectionError('<urllib3.connection.HTTPConnection object at 0x7f47a8765df0>: Failed to establish a new connection: [Errno -2] Name or service not known'))\n",
      "2 HTTPConnectionPool(host='usulifaqihrc.com', port=80): Max retries exceeded with url: /eprosiding/wp-content/uploads/2015/05/Prosiding-Mohd-Mahyeddin-Mohd-Salleh.pdf (Caused by NewConnectionError('<urllib3.connection.HTTPConnection object at 0x7f47a8765ca0>: Failed to establish a new connection: [Errno -2] Name or service not known'))\n"
     ]
    },
    {
     "name": "stderr",
     "output_type": "stream",
     "text": [
      " 96%|███████████████████████████████▌ | 83942/87736 [2:34:56<1:49:58,  1.74s/it]"
     ]
    },
    {
     "name": "stdout",
     "output_type": "stream",
     "text": [
      "0 HTTPConnectionPool(host='vodppl.upm.edu.my', port=80): Max retries exceeded with url: /uploads/docs/dce5634_1298966599.%20HIGH%20PERFORMANCE%20SMEs%20VIA%20CSR%20The%20Malaysian%20Perspectives.pdf (Caused by NewConnectionError('<urllib3.connection.HTTPConnection object at 0x7f47a8765d60>: Failed to establish a new connection: [Errno 110] Connection timed out'))\n",
      "1 HTTPConnectionPool(host='vodppl.upm.edu.my', port=80): Max retries exceeded with url: /uploads/docs/dce5634_1298966599.%20HIGH%20PERFORMANCE%20SMEs%20VIA%20CSR%20The%20Malaysian%20Perspectives.pdf (Caused by NewConnectionError('<urllib3.connection.HTTPConnection object at 0x7f47a8772190>: Failed to establish a new connection: [Errno 110] Connection timed out'))\n",
      "2 HTTPConnectionPool(host='vodppl.upm.edu.my', port=80): Max retries exceeded with url: /uploads/docs/dce5634_1298966599.%20HIGH%20PERFORMANCE%20SMEs%20VIA%20CSR%20The%20Malaysian%20Perspectives.pdf (Caused by NewConnectionError('<urllib3.connection.HTTPConnection object at 0x7f47a8755760>: Failed to establish a new connection: [Errno 110] Connection timed out'))\n"
     ]
    },
    {
     "name": "stderr",
     "output_type": "stream",
     "text": [
      "\r",
      " 96%|████████████████████████████▋ | 83943/87736 [2:41:28<124:29:06, 118.15s/it]"
     ]
    },
    {
     "name": "stdout",
     "output_type": "stream",
     "text": [
      "0 HTTPConnectionPool(host='waqaf.unirazak.edu.my', port=80): Max retries exceeded with url: /wp-content/uploads/2020/12/9_DR_ZURAIDA_REGULATING-CHARITABLE-ORGANIZATIONS-IN-MALAYSIA-GWC-2020-amended.pdf (Caused by NewConnectionError('<urllib3.connection.HTTPConnection object at 0x7f47a87551f0>: Failed to establish a new connection: [Errno -2] Name or service not known'))\n",
      "1 HTTPConnectionPool(host='waqaf.unirazak.edu.my', port=80): Max retries exceeded with url: /wp-content/uploads/2020/12/9_DR_ZURAIDA_REGULATING-CHARITABLE-ORGANIZATIONS-IN-MALAYSIA-GWC-2020-amended.pdf (Caused by NewConnectionError('<urllib3.connection.HTTPConnection object at 0x7f47a87552b0>: Failed to establish a new connection: [Errno -2] Name or service not known'))\n",
      "2 HTTPConnectionPool(host='waqaf.unirazak.edu.my', port=80): Max retries exceeded with url: /wp-content/uploads/2020/12/9_DR_ZURAIDA_REGULATING-CHARITABLE-ORGANIZATIONS-IN-MALAYSIA-GWC-2020-amended.pdf (Caused by NewConnectionError('<urllib3.connection.HTTPConnection object at 0x7f47a8755880>: Failed to establish a new connection: [Errno -2] Name or service not known'))\n"
     ]
    },
    {
     "name": "stderr",
     "output_type": "stream",
     "text": [
      " 96%|██████████████████████████████▌ | 83950/87736 [2:41:40<11:46:29, 11.20s/it]"
     ]
    },
    {
     "name": "stdout",
     "output_type": "stream",
     "text": [
      "0 HTTPConnectionPool(host='web.usm.my', port=80): Max retries exceeded with url: /aamj/24s12019/aamj24s12019_11.pdf (Caused by NewConnectionError('<urllib3.connection.HTTPConnection object at 0x7f47a8772130>: Failed to establish a new connection: [Errno 110] Connection timed out'))\n"
     ]
    },
    {
     "name": "stderr",
     "output_type": "stream",
     "text": [
      " 96%|███████████████████████████████▌ | 83961/87736 [2:43:57<1:44:07,  1.66s/it]"
     ]
    },
    {
     "name": "stdout",
     "output_type": "stream",
     "text": [
      "0 HTTPConnectionPool(host='web.usm.my', port=80): Max retries exceeded with url: /kajh/vol26_1_2019/kajh26012019_05.pdf (Caused by NewConnectionError('<urllib3.connection.HTTPConnection object at 0x7f47a87656a0>: Failed to establish a new connection: [Errno 110] Connection timed out'))\n"
     ]
    },
    {
     "name": "stderr",
     "output_type": "stream",
     "text": [
      " 96%|███████████████████████████████▌ | 83979/87736 [2:46:28<2:31:25,  2.42s/it]"
     ]
    },
    {
     "name": "stdout",
     "output_type": "stream",
     "text": [
      "0 HTTPConnectionPool(host='ww2.isid.org', port=80): Max retries exceeded with url: /Downloads/13th_ICID_ProgFriday.pdf (Caused by NewConnectionError('<urllib3.connection.HTTPConnection object at 0x7f47a8772fd0>: Failed to establish a new connection: [Errno -5] No address associated with hostname'))\n",
      "1 HTTPConnectionPool(host='ww2.isid.org', port=80): Max retries exceeded with url: /Downloads/13th_ICID_ProgFriday.pdf (Caused by NewConnectionError('<urllib3.connection.HTTPConnection object at 0x7f47a87727c0>: Failed to establish a new connection: [Errno -5] No address associated with hostname'))\n",
      "2 HTTPConnectionPool(host='ww2.isid.org', port=80): Max retries exceeded with url: /Downloads/13th_ICID_ProgFriday.pdf (Caused by NewConnectionError('<urllib3.connection.HTTPConnection object at 0x7f47a8772f70>: Failed to establish a new connection: [Errno -5] No address associated with hostname'))\n"
     ]
    },
    {
     "name": "stderr",
     "output_type": "stream",
     "text": [
      " 96%|███████████████████████████████▋ | 84104/87736 [2:51:18<2:55:31,  2.90s/it]"
     ]
    },
    {
     "name": "stdout",
     "output_type": "stream",
     "text": [
      "0 HTTPConnectionPool(host='www.agc.gov.my', port=80): Max retries exceeded with url: /pdf/library/jurnal/Mac_Jul2010/ShLR_April_June.pdf (Caused by NewConnectionError('<urllib3.connection.HTTPConnection object at 0x7f47a8702610>: Failed to establish a new connection: [Errno 110] Connection timed out'))\n",
      "1 HTTPConnectionPool(host='www.agc.gov.my', port=80): Max retries exceeded with url: /pdf/library/jurnal/Mac_Jul2010/ShLR_April_June.pdf (Caused by NewConnectionError('<urllib3.connection.HTTPConnection object at 0x7f47a86c8ca0>: Failed to establish a new connection: [Errno 110] Connection timed out'))\n",
      "2 HTTPConnectionPool(host='www.agc.gov.my', port=80): Max retries exceeded with url: /pdf/library/jurnal/Mac_Jul2010/ShLR_April_June.pdf (Caused by NewConnectionError('<urllib3.connection.HTTPConnection object at 0x7f47a86c8850>: Failed to establish a new connection: [Errno 110] Connection timed out'))\n"
     ]
    },
    {
     "name": "stderr",
     "output_type": "stream",
     "text": [
      " 96%|███████████████████████████████▋ | 84117/87736 [2:58:21<3:18:58,  3.30s/it]"
     ]
    },
    {
     "name": "stdout",
     "output_type": "stream",
     "text": [
      "0 HTTPConnectionPool(host='www.aiua.asia', port=80): Max retries exceeded with url: /journal/images/article/oct2015/m.kamalhassan-vol1.pdf (Caused by NewConnectionError('<urllib3.connection.HTTPConnection object at 0x7f47a86fd7f0>: Failed to establish a new connection: [Errno -2] Name or service not known'))\n",
      "1 HTTPConnectionPool(host='www.aiua.asia', port=80): Max retries exceeded with url: /journal/images/article/oct2015/m.kamalhassan-vol1.pdf (Caused by NewConnectionError('<urllib3.connection.HTTPConnection object at 0x7f47a86c81c0>: Failed to establish a new connection: [Errno -2] Name or service not known'))\n",
      "2 HTTPConnectionPool(host='www.aiua.asia', port=80): Max retries exceeded with url: /journal/images/article/oct2015/m.kamalhassan-vol1.pdf (Caused by NewConnectionError('<urllib3.connection.HTTPConnection object at 0x7f47a86c8f70>: Failed to establish a new connection: [Errno -2] Name or service not known'))\n"
     ]
    },
    {
     "name": "stderr",
     "output_type": "stream",
     "text": [
      " 96%|███████████████████████████████▋ | 84158/87736 [2:59:07<1:32:50,  1.56s/it]"
     ]
    },
    {
     "name": "stdout",
     "output_type": "stream",
     "text": [
      "0 HTTPConnectionPool(host='www.ajofai.info', port=80): Max retries exceeded with url: /Abstract/Pesticide%20and%20antibiotic%20residues%20in%20freshwater%20aquaculture%20fish%20chemical%20risk%20assessment%20from%20farm%20to%20table.pdf (Caused by NewConnectionError('<urllib3.connection.HTTPConnection object at 0x7f47a86c81c0>: Failed to establish a new connection: [Errno 110] Connection timed out'))\n",
      "1 HTTPConnectionPool(host='www.ajofai.info', port=80): Max retries exceeded with url: /Abstract/Pesticide%20and%20antibiotic%20residues%20in%20freshwater%20aquaculture%20fish%20chemical%20risk%20assessment%20from%20farm%20to%20table.pdf (Caused by NewConnectionError('<urllib3.connection.HTTPConnection object at 0x7f47a8702d30>: Failed to establish a new connection: [Errno 110] Connection timed out'))\n",
      "2 HTTPConnectionPool(host='www.ajofai.info', port=80): Max retries exceeded with url: /Abstract/Pesticide%20and%20antibiotic%20residues%20in%20freshwater%20aquaculture%20fish%20chemical%20risk%20assessment%20from%20farm%20to%20table.pdf (Caused by NewConnectionError('<urllib3.connection.HTTPConnection object at 0x7f47a8702820>: Failed to establish a new connection: [Errno 110] Connection timed out'))\n"
     ]
    },
    {
     "name": "stderr",
     "output_type": "stream",
     "text": [
      " 96%|█████████████████████████████████▌ | 84254/87736 [3:06:19<36:34,  1.59it/s]"
     ]
    },
    {
     "name": "stdout",
     "output_type": "stream",
     "text": [
      "0 HTTPConnectionPool(host='www.albabtainlibrary.org.kw', port=80): Max retries exceeded with url: /file/qatar.pdf (Caused by NewConnectionError('<urllib3.connection.HTTPConnection object at 0x7f47a87020a0>: Failed to establish a new connection: [Errno 110] Connection timed out'))\n",
      "1 HTTPConnectionPool(host='www.albabtainlibrary.org.kw', port=80): Max retries exceeded with url: /file/qatar.pdf (Caused by NewConnectionError('<urllib3.connection.HTTPConnection object at 0x7f47a8702f70>: Failed to establish a new connection: [Errno 110] Connection timed out'))\n",
      "2 HTTPConnectionPool(host='www.albabtainlibrary.org.kw', port=80): Max retries exceeded with url: /file/qatar.pdf (Caused by NewConnectionError('<urllib3.connection.HTTPConnection object at 0x7f47a86c8e20>: Failed to establish a new connection: [Errno 110] Connection timed out'))\n"
     ]
    },
    {
     "name": "stderr",
     "output_type": "stream",
     "text": [
      "\r",
      " 96%|████████████████████████████▊ | 84255/87736 [3:12:53<114:34:02, 118.48s/it]"
     ]
    },
    {
     "name": "stdout",
     "output_type": "stream",
     "text": [
      "0 HTTPConnectionPool(host='www.alhikmah.org', port=80): Max retries exceeded with url: /Pdf/vol1.pdf (Caused by NewConnectionError('<urllib3.connection.HTTPConnection object at 0x7f47a8720e80>: Failed to establish a new connection: [Errno -2] Name or service not known'))\n",
      "1 HTTPConnectionPool(host='www.alhikmah.org', port=80): Max retries exceeded with url: /Pdf/vol1.pdf (Caused by NewConnectionError('<urllib3.connection.HTTPConnection object at 0x7f47a86fd700>: Failed to establish a new connection: [Errno -2] Name or service not known'))\n",
      "2 HTTPConnectionPool(host='www.alhikmah.org', port=80): Max retries exceeded with url: /Pdf/vol1.pdf (Caused by NewConnectionError('<urllib3.connection.HTTPConnection object at 0x7f47a86fd2b0>: Failed to establish a new connection: [Errno -2] Name or service not known'))\n"
     ]
    },
    {
     "name": "stderr",
     "output_type": "stream",
     "text": [
      " 96%|███████████████████████████████▋ | 84270/87736 [3:13:22<2:24:53,  2.51s/it]"
     ]
    },
    {
     "name": "stdout",
     "output_type": "stream",
     "text": [
      "0 Exceeded 30 redirects.\n",
      "1 Exceeded 30 redirects.\n",
      "2 Exceeded 30 redirects.\n"
     ]
    },
    {
     "name": "stderr",
     "output_type": "stream",
     "text": [
      " 96%|███████████████████████████████▋ | 84370/87736 [3:16:17<1:24:07,  1.50s/it]"
     ]
    },
    {
     "name": "stdout",
     "output_type": "stream",
     "text": [
      "0 HTTPConnectionPool(host='www.asianchristianreview.org', port=80): Max retries exceeded with url: /acr_pdf/acr_pdf_0202-03_11zein.pdf (Caused by NewConnectionError('<urllib3.connection.HTTPConnection object at 0x7f47a87b1700>: Failed to establish a new connection: [Errno -2] Name or service not known'))\n",
      "1 HTTPConnectionPool(host='www.asianchristianreview.org', port=80): Max retries exceeded with url: /acr_pdf/acr_pdf_0202-03_11zein.pdf (Caused by NewConnectionError('<urllib3.connection.HTTPConnection object at 0x7f47a8666580>: Failed to establish a new connection: [Errno -2] Name or service not known'))\n",
      "2 HTTPConnectionPool(host='www.asianchristianreview.org', port=80): Max retries exceeded with url: /acr_pdf/acr_pdf_0202-03_11zein.pdf (Caused by NewConnectionError('<urllib3.connection.HTTPConnection object at 0x7f47a8666550>: Failed to establish a new connection: [Errno -2] Name or service not known'))\n"
     ]
    },
    {
     "name": "stderr",
     "output_type": "stream",
     "text": [
      " 96%|███████████████████████████████▋ | 84372/87736 [3:16:22<1:57:07,  2.09s/it]"
     ]
    },
    {
     "name": "stdout",
     "output_type": "stream",
     "text": [
      "0 HTTPConnectionPool(host='www.asiapacificorl2014.com', port=80): Max retries exceeded with url: /files/AsiaPacificORL2014_AbstractBook.pdf (Caused by NewConnectionError('<urllib3.connection.HTTPConnection object at 0x7f47a87b1c70>: Failed to establish a new connection: [Errno -2] Name or service not known'))\n",
      "1 HTTPConnectionPool(host='www.asiapacificorl2014.com', port=80): Max retries exceeded with url: /files/AsiaPacificORL2014_AbstractBook.pdf (Caused by NewConnectionError('<urllib3.connection.HTTPConnection object at 0x7f47a87b1c70>: Failed to establish a new connection: [Errno -2] Name or service not known'))\n",
      "2 HTTPConnectionPool(host='www.asiapacificorl2014.com', port=80): Max retries exceeded with url: /files/AsiaPacificORL2014_AbstractBook.pdf (Caused by NewConnectionError('<urllib3.connection.HTTPConnection object at 0x7f47a8666700>: Failed to establish a new connection: [Errno -2] Name or service not known'))\n"
     ]
    },
    {
     "name": "stderr",
     "output_type": "stream",
     "text": [
      "\r",
      " 96%|███████████████████████████████▋ | 84373/87736 [3:16:23<1:49:14,  1.95s/it]"
     ]
    },
    {
     "name": "stdout",
     "output_type": "stream",
     "text": [
      "0 ('Connection aborted.', ConnectionResetError(104, 'Connection reset by peer'))\n",
      "1 ('Connection aborted.', ConnectionResetError(104, 'Connection reset by peer'))\n",
      "2 ('Connection aborted.', ConnectionResetError(104, 'Connection reset by peer'))\n"
     ]
    },
    {
     "name": "stderr",
     "output_type": "stream",
     "text": [
      " 96%|███████████████████████████████▋ | 84380/87736 [3:16:39<2:01:45,  2.18s/it]"
     ]
    },
    {
     "name": "stdout",
     "output_type": "stream",
     "text": [
      "0 HTTPConnectionPool(host='www.bbs-icbm.org', port=80): Max retries exceeded with url: /wp-content/uploads/2017/11/ICBM-2017-Conference-Proceedings-ISBN-978-984-34-2360-3-Online-Version.pdf (Caused by NewConnectionError('<urllib3.connection.HTTPConnection object at 0x7f47a87b10a0>: Failed to establish a new connection: [Errno -2] Name or service not known'))\n",
      "1 HTTPConnectionPool(host='www.bbs-icbm.org', port=80): Max retries exceeded with url: /wp-content/uploads/2017/11/ICBM-2017-Conference-Proceedings-ISBN-978-984-34-2360-3-Online-Version.pdf (Caused by NewConnectionError('<urllib3.connection.HTTPConnection object at 0x7f47a87b15b0>: Failed to establish a new connection: [Errno -2] Name or service not known'))\n",
      "2 HTTPConnectionPool(host='www.bbs-icbm.org', port=80): Max retries exceeded with url: /wp-content/uploads/2017/11/ICBM-2017-Conference-Proceedings-ISBN-978-984-34-2360-3-Online-Version.pdf (Caused by NewConnectionError('<urllib3.connection.HTTPConnection object at 0x7f47a87b1c10>: Failed to establish a new connection: [Errno -2] Name or service not known'))\n"
     ]
    },
    {
     "name": "stderr",
     "output_type": "stream",
     "text": [
      " 96%|███████████████████████████████▋ | 84391/87736 [3:17:00<2:16:44,  2.45s/it]"
     ]
    },
    {
     "name": "stdout",
     "output_type": "stream",
     "text": [
      "0 HTTPConnectionPool(host='www.biotek.gov.my', port=80): Max retries exceeded with url: /nbs2010/program/poster/ind/abstract/C32%20Md.Zahangir%20Alam,%20UIAM.pdf (Caused by NewConnectionError('<urllib3.connection.HTTPConnection object at 0x7f47a8666310>: Failed to establish a new connection: [Errno -2] Name or service not known'))\n",
      "1 HTTPConnectionPool(host='www.biotek.gov.my', port=80): Max retries exceeded with url: /nbs2010/program/poster/ind/abstract/C32%20Md.Zahangir%20Alam,%20UIAM.pdf (Caused by NewConnectionError('<urllib3.connection.HTTPConnection object at 0x7f47a87b1f10>: Failed to establish a new connection: [Errno -2] Name or service not known'))\n",
      "2 HTTPConnectionPool(host='www.biotek.gov.my', port=80): Max retries exceeded with url: /nbs2010/program/poster/ind/abstract/C32%20Md.Zahangir%20Alam,%20UIAM.pdf (Caused by NewConnectionError('<urllib3.connection.HTTPConnection object at 0x7f47a87b13a0>: Failed to establish a new connection: [Errno -2] Name or service not known'))\n"
     ]
    },
    {
     "name": "stderr",
     "output_type": "stream",
     "text": [
      " 96%|███████████████████████████████▋ | 84396/87736 [3:17:09<1:41:38,  1.83s/it]"
     ]
    },
    {
     "name": "stdout",
     "output_type": "stream",
     "text": [
      "0 HTTPConnectionPool(host='www.bjit.iiitbd.org', port=80): Max retries exceeded with url: /wp-content/uploads/2015/04/1.-Analyzing-Muslim_Edited.pdf (Caused by NewConnectionError('<urllib3.connection.HTTPConnection object at 0x7f47a86664f0>: Failed to establish a new connection: [Errno -2] Name or service not known'))\n",
      "1 HTTPConnectionPool(host='www.bjit.iiitbd.org', port=80): Max retries exceeded with url: /wp-content/uploads/2015/04/1.-Analyzing-Muslim_Edited.pdf (Caused by NewConnectionError('<urllib3.connection.HTTPConnection object at 0x7f47a8666b20>: Failed to establish a new connection: [Errno -2] Name or service not known'))\n",
      "2 HTTPConnectionPool(host='www.bjit.iiitbd.org', port=80): Max retries exceeded with url: /wp-content/uploads/2015/04/1.-Analyzing-Muslim_Edited.pdf (Caused by NewConnectionError('<urllib3.connection.HTTPConnection object at 0x7f47a8666820>: Failed to establish a new connection: [Errno -2] Name or service not known'))\n"
     ]
    },
    {
     "name": "stderr",
     "output_type": "stream",
     "text": [
      " 96%|███████████████████████████████▋ | 84399/87736 [3:17:13<1:24:01,  1.51s/it]"
     ]
    },
    {
     "name": "stdout",
     "output_type": "stream",
     "text": [
      "0 HTTPConnectionPool(host='www.bssreview.org', port=80): Max retries exceeded with url: /volume/vol1-no11-May-2012.pdf (Caused by NewConnectionError('<urllib3.connection.HTTPConnection object at 0x7f47a8666130>: Failed to establish a new connection: [Errno -2] Name or service not known'))\n",
      "1 HTTPConnectionPool(host='www.bssreview.org', port=80): Max retries exceeded with url: /volume/vol1-no11-May-2012.pdf (Caused by NewConnectionError('<urllib3.connection.HTTPConnection object at 0x7f47a8666d00>: Failed to establish a new connection: [Errno -2] Name or service not known'))\n",
      "2 HTTPConnectionPool(host='www.bssreview.org', port=80): Max retries exceeded with url: /volume/vol1-no11-May-2012.pdf (Caused by NewConnectionError('<urllib3.connection.HTTPConnection object at 0x7f47a86664c0>: Failed to establish a new connection: [Errno -2] Name or service not known'))\n"
     ]
    },
    {
     "name": "stderr",
     "output_type": "stream",
     "text": [
      " 96%|█████████████████████████████████▋ | 84408/87736 [3:17:21<58:41,  1.06s/it]"
     ]
    },
    {
     "name": "stdout",
     "output_type": "stream",
     "text": [
      "0 HTTPConnectionPool(host='www.cas.edu.om', port=80): Max retries exceeded with url: /ckfinder/userfiles/files/Omani%20Journal%20of%20Applied%20Sciences_the%20sixth%20version.pdf (Caused by NewConnectionError('<urllib3.connection.HTTPConnection object at 0x7f47a8666e20>: Failed to establish a new connection: [Errno -2] Name or service not known'))\n",
      "1 HTTPConnectionPool(host='www.cas.edu.om', port=80): Max retries exceeded with url: /ckfinder/userfiles/files/Omani%20Journal%20of%20Applied%20Sciences_the%20sixth%20version.pdf (Caused by NewConnectionError('<urllib3.connection.HTTPConnection object at 0x7f47a8666b20>: Failed to establish a new connection: [Errno -2] Name or service not known'))\n",
      "2 HTTPConnectionPool(host='www.cas.edu.om', port=80): Max retries exceeded with url: /ckfinder/userfiles/files/Omani%20Journal%20of%20Applied%20Sciences_the%20sixth%20version.pdf (Caused by NewConnectionError('<urllib3.connection.HTTPConnection object at 0x7f47a8666640>: Failed to establish a new connection: [Errno -2] Name or service not known'))\n"
     ]
    },
    {
     "name": "stderr",
     "output_type": "stream",
     "text": [
      " 96%|███████████████████████████████▋ | 84412/87736 [3:17:40<3:20:57,  3.63s/it]"
     ]
    },
    {
     "name": "stdout",
     "output_type": "stream",
     "text": [
      "0 HTTPConnectionPool(host='www.ccs2012.org', port=80): Max retries exceeded with url: /files/2010/ccs2010_4_JCAAM--VOL-9--2011--NO--1.pdf (Caused by NewConnectionError('<urllib3.connection.HTTPConnection object at 0x7f47a8666610>: Failed to establish a new connection: [Errno -2] Name or service not known'))\n",
      "1 HTTPConnectionPool(host='www.ccs2012.org', port=80): Max retries exceeded with url: /files/2010/ccs2010_4_JCAAM--VOL-9--2011--NO--1.pdf (Caused by NewConnectionError('<urllib3.connection.HTTPConnection object at 0x7f47a8666610>: Failed to establish a new connection: [Errno -2] Name or service not known'))\n",
      "2 HTTPConnectionPool(host='www.ccs2012.org', port=80): Max retries exceeded with url: /files/2010/ccs2010_4_JCAAM--VOL-9--2011--NO--1.pdf (Caused by NewConnectionError('<urllib3.connection.HTTPConnection object at 0x7f47a8666280>: Failed to establish a new connection: [Errno -2] Name or service not known'))\n"
     ]
    },
    {
     "name": "stderr",
     "output_type": "stream",
     "text": [
      " 96%|███████████████████████████████▊ | 84417/87736 [3:17:48<1:36:28,  1.74s/it]"
     ]
    },
    {
     "name": "stdout",
     "output_type": "stream",
     "text": [
      "0 HTTPConnectionPool(host='www.cleanwas.org', port=80): Max retries exceeded with url: /user/conf_64471/files/20160823%20conference%20manual-CleanWAS%202016.pdf (Caused by NewConnectionError('<urllib3.connection.HTTPConnection object at 0x7f47a8666280>: Failed to establish a new connection: [Errno -2] Name or service not known'))\n",
      "1 HTTPConnectionPool(host='www.cleanwas.org', port=80): Max retries exceeded with url: /user/conf_64471/files/20160823%20conference%20manual-CleanWAS%202016.pdf (Caused by NewConnectionError('<urllib3.connection.HTTPConnection object at 0x7f47a87b19d0>: Failed to establish a new connection: [Errno -2] Name or service not known'))\n",
      "2 HTTPConnectionPool(host='www.cleanwas.org', port=80): Max retries exceeded with url: /user/conf_64471/files/20160823%20conference%20manual-CleanWAS%202016.pdf (Caused by NewConnectionError('<urllib3.connection.HTTPConnection object at 0x7f47a8666820>: Failed to establish a new connection: [Errno -2] Name or service not known'))\n"
     ]
    },
    {
     "name": "stderr",
     "output_type": "stream",
     "text": [
      " 96%|███████████████████████████████▊ | 84438/87736 [3:18:09<1:37:49,  1.78s/it]"
     ]
    },
    {
     "name": "stdout",
     "output_type": "stream",
     "text": [
      "0 HTTPSConnectionPool(host='www.cybersecurity.mydata', port=443): Max retries exceeded with url: /content_files/12/543.pdf (Caused by NewConnectionError('<urllib3.connection.HTTPSConnection object at 0x7f47a8666e20>: Failed to establish a new connection: [Errno -2] Name or service not known'))\n",
      "1 HTTPSConnectionPool(host='www.cybersecurity.mydata', port=443): Max retries exceeded with url: /content_files/12/543.pdf (Caused by NewConnectionError('<urllib3.connection.HTTPSConnection object at 0x7f47a86b96a0>: Failed to establish a new connection: [Errno -2] Name or service not known'))\n",
      "2 HTTPSConnectionPool(host='www.cybersecurity.mydata', port=443): Max retries exceeded with url: /content_files/12/543.pdf (Caused by NewConnectionError('<urllib3.connection.HTTPSConnection object at 0x7f47a8666e20>: Failed to establish a new connection: [Errno -2] Name or service not known'))\n"
     ]
    },
    {
     "name": "stderr",
     "output_type": "stream",
     "text": [
      " 96%|███████████████████████████████▊ | 84444/87736 [3:18:18<1:24:06,  1.53s/it]"
     ]
    },
    {
     "name": "stdout",
     "output_type": "stream",
     "text": [
      "0 HTTPConnectionPool(host='www.davidpublishing.com', port=80): Max retries exceeded with url: /davidpublishing/Upfile/11/11/2012/2012111172686321.pdf (Caused by NewConnectionError('<urllib3.connection.HTTPConnection object at 0x7f47a86667c0>: Failed to establish a new connection: [Errno 110] Connection timed out'))\n",
      "1 HTTPConnectionPool(host='www.davidpublishing.com', port=80): Max retries exceeded with url: /davidpublishing/Upfile/11/11/2012/2012111172686321.pdf (Caused by NewConnectionError('<urllib3.connection.HTTPConnection object at 0x7f47a8729d30>: Failed to establish a new connection: [Errno 110] Connection timed out'))\n",
      "2 HTTPConnectionPool(host='www.davidpublishing.com', port=80): Max retries exceeded with url: /davidpublishing/Upfile/11/11/2012/2012111172686321.pdf (Caused by NewConnectionError('<urllib3.connection.HTTPConnection object at 0x7f47a8729fa0>: Failed to establish a new connection: [Errno 110] Connection timed out'))\n"
     ]
    },
    {
     "name": "stderr",
     "output_type": "stream",
     "text": [
      "\r",
      " 96%|████████████████████████████▊ | 84445/87736 [3:24:51<108:47:43, 119.01s/it]"
     ]
    },
    {
     "name": "stdout",
     "output_type": "stream",
     "text": [
      "0 HTTPConnectionPool(host='www.davidpublishing.com', port=80): Max retries exceeded with url: /davidpublishing/Upfile/5/13/2013/2013051365574565.pdf (Caused by NewConnectionError('<urllib3.connection.HTTPConnection object at 0x7f47a8727e80>: Failed to establish a new connection: [Errno 110] Connection timed out'))\n",
      "1 HTTPConnectionPool(host='www.davidpublishing.com', port=80): Max retries exceeded with url: /davidpublishing/Upfile/5/13/2013/2013051365574565.pdf (Caused by NewConnectionError('<urllib3.connection.HTTPConnection object at 0x7f47a8667850>: Failed to establish a new connection: [Errno 110] Connection timed out'))\n",
      "2 HTTPConnectionPool(host='www.davidpublishing.com', port=80): Max retries exceeded with url: /davidpublishing/Upfile/5/13/2013/2013051365574565.pdf (Caused by NewConnectionError('<urllib3.connection.HTTPConnection object at 0x7f47a8666880>: Failed to establish a new connection: [Errno 110] Connection timed out'))\n"
     ]
    },
    {
     "name": "stderr",
     "output_type": "stream",
     "text": [
      " 96%|███████████████████████████████▊ | 84560/87736 [3:35:22<1:43:21,  1.95s/it]"
     ]
    },
    {
     "name": "stdout",
     "output_type": "stream",
     "text": [
      "0 HTTPConnectionPool(host='www.educare-ijes.com', port=80): Max retries exceeded with url: /educarefiles/File/03%20Siti.pdf (Caused by NewConnectionError('<urllib3.connection.HTTPConnection object at 0x7f47a8727a60>: Failed to establish a new connection: [Errno -2] Name or service not known'))\n",
      "1 HTTPConnectionPool(host='www.educare-ijes.com', port=80): Max retries exceeded with url: /educarefiles/File/03%20Siti.pdf (Caused by NewConnectionError('<urllib3.connection.HTTPConnection object at 0x7f47a8727a60>: Failed to establish a new connection: [Errno -2] Name or service not known'))\n",
      "2 HTTPConnectionPool(host='www.educare-ijes.com', port=80): Max retries exceeded with url: /educarefiles/File/03%20Siti.pdf (Caused by NewConnectionError('<urllib3.connection.HTTPConnection object at 0x7f47a8727a60>: Failed to establish a new connection: [Errno -2] Name or service not known'))\n"
     ]
    },
    {
     "name": "stderr",
     "output_type": "stream",
     "text": [
      "\r",
      " 96%|███████████████████████████████▊ | 84561/87736 [3:35:23<1:39:02,  1.87s/it]"
     ]
    },
    {
     "name": "stdout",
     "output_type": "stream",
     "text": [
      "0 HTTPConnectionPool(host='www.ef.untz.ba', port=80): Max retries exceeded with url: /images/Casopis/November2014/Paper4.pdf (Caused by NewConnectionError('<urllib3.connection.HTTPConnection object at 0x7f47a8727be0>: Failed to establish a new connection: [Errno 110] Connection timed out'))\n",
      "1 HTTPConnectionPool(host='www.ef.untz.ba', port=80): Max retries exceeded with url: /images/Casopis/November2014/Paper4.pdf (Caused by NewConnectionError('<urllib3.connection.HTTPConnection object at 0x7f47a8727940>: Failed to establish a new connection: [Errno 110] Connection timed out'))\n",
      "2 HTTPConnectionPool(host='www.ef.untz.ba', port=80): Max retries exceeded with url: /images/Casopis/November2014/Paper4.pdf (Caused by NewConnectionError('<urllib3.connection.HTTPConnection object at 0x7f47a8729580>: Failed to establish a new connection: [Errno 110] Connection timed out'))\n"
     ]
    },
    {
     "name": "stderr",
     "output_type": "stream",
     "text": [
      " 96%|██████████████████████████████▊ | 84563/87736 [3:42:02<74:52:46, 84.96s/it]"
     ]
    },
    {
     "name": "stdout",
     "output_type": "stream",
     "text": [
      "0 HTTPConnectionPool(host='www.ejge.com', port=80): Max retries exceeded with url: /2015/Ppr2015.0836ma.pdf (Caused by NewConnectionError('<urllib3.connection.HTTPConnection object at 0x7f47a8729a00>: Failed to establish a new connection: [Errno -2] Name or service not known'))\n",
      "1 HTTPConnectionPool(host='www.ejge.com', port=80): Max retries exceeded with url: /2015/Ppr2015.0836ma.pdf (Caused by NewConnectionError('<urllib3.connection.HTTPConnection object at 0x7f47a8729ca0>: Failed to establish a new connection: [Errno -2] Name or service not known'))\n",
      "2 HTTPConnectionPool(host='www.ejge.com', port=80): Max retries exceeded with url: /2015/Ppr2015.0836ma.pdf (Caused by NewConnectionError('<urllib3.connection.HTTPConnection object at 0x7f47a8729040>: Failed to establish a new connection: [Errno -2] Name or service not known'))\n"
     ]
    },
    {
     "name": "stderr",
     "output_type": "stream",
     "text": [
      " 96%|███████████████████████████████▊ | 84575/87736 [3:42:24<3:11:57,  3.64s/it]"
     ]
    },
    {
     "name": "stdout",
     "output_type": "stream",
     "text": [
      "0 HTTPConnectionPool(host='www.ems-malaysia.org', port=80): Max retries exceeded with url: /mjem/volume_eng/volume6/PDF%202005/2005_6_Nasir.pdf (Caused by NewConnectionError('<urllib3.connection.HTTPConnection object at 0x7f47a87293d0>: Failed to establish a new connection: [Errno -2] Name or service not known'))\n",
      "1 HTTPConnectionPool(host='www.ems-malaysia.org', port=80): Max retries exceeded with url: /mjem/volume_eng/volume6/PDF%202005/2005_6_Nasir.pdf (Caused by NewConnectionError('<urllib3.connection.HTTPConnection object at 0x7f47a8729fa0>: Failed to establish a new connection: [Errno -2] Name or service not known'))\n",
      "2 HTTPConnectionPool(host='www.ems-malaysia.org', port=80): Max retries exceeded with url: /mjem/volume_eng/volume6/PDF%202005/2005_6_Nasir.pdf (Caused by NewConnectionError('<urllib3.connection.HTTPConnection object at 0x7f47a8729dc0>: Failed to establish a new connection: [Errno -2] Name or service not known'))\n"
     ]
    },
    {
     "name": "stderr",
     "output_type": "stream",
     "text": [
      " 96%|███████████████████████████████▊ | 84580/87736 [3:42:33<1:39:30,  1.89s/it]"
     ]
    },
    {
     "name": "stdout",
     "output_type": "stream",
     "text": [
      "0 HTTPConnectionPool(host='www.epa2014.org', port=80): Max retries exceeded with url: /pdf/AbstractsBook.pdf (Caused by NewConnectionError('<urllib3.connection.HTTPConnection object at 0x7f47a8729940>: Failed to establish a new connection: [Errno -2] Name or service not known'))\n",
      "1 HTTPConnectionPool(host='www.epa2014.org', port=80): Max retries exceeded with url: /pdf/AbstractsBook.pdf (Caused by NewConnectionError('<urllib3.connection.HTTPConnection object at 0x7f47a8729fa0>: Failed to establish a new connection: [Errno -2] Name or service not known'))\n",
      "2 HTTPConnectionPool(host='www.epa2014.org', port=80): Max retries exceeded with url: /pdf/AbstractsBook.pdf (Caused by NewConnectionError('<urllib3.connection.HTTPConnection object at 0x7f47a8729370>: Failed to establish a new connection: [Errno -2] Name or service not known'))\n"
     ]
    },
    {
     "name": "stderr",
     "output_type": "stream",
     "text": [
      "\r",
      " 96%|███████████████████████████████▊ | 84581/87736 [3:42:34<1:35:32,  1.82s/it]"
     ]
    },
    {
     "name": "stdout",
     "output_type": "stream",
     "text": [
      "0 HTTPConnectionPool(host='www.epa2015.cz', port=80): Max retries exceeded with url: /abstracts/books/EPA_komplet.pdf (Caused by NewConnectionError('<urllib3.connection.HTTPConnection object at 0x7f47a8729c10>: Failed to establish a new connection: [Errno -2] Name or service not known'))\n",
      "1 HTTPConnectionPool(host='www.epa2015.cz', port=80): Max retries exceeded with url: /abstracts/books/EPA_komplet.pdf (Caused by NewConnectionError('<urllib3.connection.HTTPConnection object at 0x7f47a87295b0>: Failed to establish a new connection: [Errno -2] Name or service not known'))\n",
      "2 HTTPConnectionPool(host='www.epa2015.cz', port=80): Max retries exceeded with url: /abstracts/books/EPA_komplet.pdf (Caused by NewConnectionError('<urllib3.connection.HTTPConnection object at 0x7f47a8729c70>: Failed to establish a new connection: [Errno -2] Name or service not known'))\n"
     ]
    },
    {
     "name": "stderr",
     "output_type": "stream",
     "text": [
      " 96%|█████████████████████████████████▊ | 84619/87736 [3:43:37<45:59,  1.13it/s]"
     ]
    },
    {
     "name": "stdout",
     "output_type": "stream",
     "text": [
      "1 ('Connection aborted.', RemoteDisconnected('Remote end closed connection without response'))\n",
      "2 ('Connection aborted.', RemoteDisconnected('Remote end closed connection without response'))\n"
     ]
    },
    {
     "name": "stderr",
     "output_type": "stream",
     "text": [
      "\r",
      " 96%|████████████████████████████▉ | 84620/87736 [4:01:38<281:26:40, 325.16s/it]"
     ]
    },
    {
     "name": "stdout",
     "output_type": "stream",
     "text": [
      "0 HTTPConnectionPool(host='www.be.unsw.edu.aucf', port=80): Max retries exceeded with url: /events/papers/Attachments/Mohit.pdf (Caused by NewConnectionError('<urllib3.connection.HTTPConnection object at 0x7f47a8727fa0>: Failed to establish a new connection: [Errno -2] Name or service not known'))\n",
      "1 HTTPConnectionPool(host='www.be.unsw.edu.aucf', port=80): Max retries exceeded with url: /events/papers/Attachments/Mohit.pdf (Caused by NewConnectionError('<urllib3.connection.HTTPConnection object at 0x7f47a8727ee0>: Failed to establish a new connection: [Errno -2] Name or service not known'))\n",
      "2 HTTPConnectionPool(host='www.be.unsw.edu.aucf', port=80): Max retries exceeded with url: /events/papers/Attachments/Mohit.pdf (Caused by NewConnectionError('<urllib3.connection.HTTPConnection object at 0x7f47a8727c10>: Failed to establish a new connection: [Errno -2] Name or service not known'))\n"
     ]
    },
    {
     "name": "stderr",
     "output_type": "stream",
     "text": [
      "\r",
      " 96%|████████████████████████████▉ | 84621/87736 [4:01:41<197:37:27, 228.39s/it]"
     ]
    },
    {
     "name": "stdout",
     "output_type": "stream",
     "text": [
      "0 HTTPConnectionPool(host='www.be.unsw.edu.aucf', port=80): Max retries exceeded with url: /events/papers/Attachments/Murakami.pdf (Caused by NewConnectionError('<urllib3.connection.HTTPConnection object at 0x7f47a8727eb0>: Failed to establish a new connection: [Errno -2] Name or service not known'))\n",
      "1 HTTPConnectionPool(host='www.be.unsw.edu.aucf', port=80): Max retries exceeded with url: /events/papers/Attachments/Murakami.pdf (Caused by NewConnectionError('<urllib3.connection.HTTPConnection object at 0x7f47a87278b0>: Failed to establish a new connection: [Errno -2] Name or service not known'))\n",
      "2 HTTPConnectionPool(host='www.be.unsw.edu.aucf', port=80): Max retries exceeded with url: /events/papers/Attachments/Murakami.pdf (Caused by NewConnectionError('<urllib3.connection.HTTPConnection object at 0x7f47a8727d30>: Failed to establish a new connection: [Errno -2] Name or service not known'))\n"
     ]
    },
    {
     "name": "stderr",
     "output_type": "stream",
     "text": [
      " 96%|██████████████████████████████▊ | 84625/87736 [4:01:48<48:30:32, 56.13s/it]"
     ]
    },
    {
     "name": "stdout",
     "output_type": "stream",
     "text": [
      "0 HTTPSConnectionPool(host='unpad.ac.idupload', port=443): Max retries exceeded with url: /file/Rundown%20FRPS%20English%20Version.pdf (Caused by NewConnectionError('<urllib3.connection.HTTPSConnection object at 0x7f47a87273a0>: Failed to establish a new connection: [Errno -2] Name or service not known'))\n",
      "1 HTTPSConnectionPool(host='unpad.ac.idupload', port=443): Max retries exceeded with url: /file/Rundown%20FRPS%20English%20Version.pdf (Caused by NewConnectionError('<urllib3.connection.HTTPSConnection object at 0x7f47a8727b80>: Failed to establish a new connection: [Errno -2] Name or service not known'))\n",
      "2 HTTPSConnectionPool(host='unpad.ac.idupload', port=443): Max retries exceeded with url: /file/Rundown%20FRPS%20English%20Version.pdf (Caused by NewConnectionError('<urllib3.connection.HTTPSConnection object at 0x7f47a8727730>: Failed to establish a new connection: [Errno -2] Name or service not known'))\n"
     ]
    },
    {
     "name": "stderr",
     "output_type": "stream",
     "text": [
      " 96%|███████████████████████████████▊ | 84633/87736 [4:02:06<3:55:37,  4.56s/it]"
     ]
    },
    {
     "name": "stdout",
     "output_type": "stream",
     "text": [
      "0 HTTPConnectionPool(host='www.fs.utm.my', port=80): Max retries exceeded with url: /~ispc2014/images/stories/ispc2014/ispc2014.pdf (Caused by NewConnectionError('<urllib3.connection.HTTPConnection object at 0x7f47a86fdd00>: Failed to establish a new connection: [Errno 110] Connection timed out'))\n",
      "1 HTTPConnectionPool(host='www.fs.utm.my', port=80): Max retries exceeded with url: /~ispc2014/images/stories/ispc2014/ispc2014.pdf (Caused by NewConnectionError('<urllib3.connection.HTTPConnection object at 0x7f47a8727d30>: Failed to establish a new connection: [Errno 110] Connection timed out'))\n",
      "2 HTTPConnectionPool(host='www.fs.utm.my', port=80): Max retries exceeded with url: /~ispc2014/images/stories/ispc2014/ispc2014.pdf (Caused by NewConnectionError('<urllib3.connection.HTTPConnection object at 0x7f47a87b1c40>: Failed to establish a new connection: [Errno 110] Connection timed out'))\n"
     ]
    },
    {
     "name": "stderr",
     "output_type": "stream",
     "text": [
      "\r",
      " 96%|████████████████████████████▉ | 84634/87736 [4:08:39<104:19:20, 121.07s/it]"
     ]
    },
    {
     "name": "stdout",
     "output_type": "stream",
     "text": [
      "0 HTTPConnectionPool(host='www.fsk.ukm.my', port=80): Max retries exceeded with url: /jurnal/jilid%209%281%29%202011/Chap%206_terbitan%209.1%20%282011%29.pdf (Caused by NewConnectionError('<urllib3.connection.HTTPConnection object at 0x7f47a8729880>: Failed to establish a new connection: [Errno -2] Name or service not known'))\n",
      "1 HTTPConnectionPool(host='www.fsk.ukm.my', port=80): Max retries exceeded with url: /jurnal/jilid%209%281%29%202011/Chap%206_terbitan%209.1%20%282011%29.pdf (Caused by NewConnectionError('<urllib3.connection.HTTPConnection object at 0x7f47a8729e50>: Failed to establish a new connection: [Errno -2] Name or service not known'))\n",
      "2 HTTPConnectionPool(host='www.fsk.ukm.my', port=80): Max retries exceeded with url: /jurnal/jilid%209%281%29%202011/Chap%206_terbitan%209.1%20%282011%29.pdf (Caused by NewConnectionError('<urllib3.connection.HTTPConnection object at 0x7f47a8729970>: Failed to establish a new connection: [Errno -2] Name or service not known'))\n"
     ]
    },
    {
     "name": "stderr",
     "output_type": "stream",
     "text": [
      " 96%|██████████████████████████████▊ | 84637/87736 [4:08:44<36:36:49, 42.53s/it]"
     ]
    },
    {
     "name": "stdout",
     "output_type": "stream",
     "text": [
      "0 HTTPConnectionPool(host='www.gbmr.ioksp.com', port=80): Max retries exceeded with url: /pdf/vol.%205%20no.%202-3/4-%20Haque%20and%20Islam,%202013.pdf (Caused by NewConnectionError('<urllib3.connection.HTTPConnection object at 0x7f47a8729640>: Failed to establish a new connection: [Errno -2] Name or service not known'))\n",
      "1 HTTPConnectionPool(host='www.gbmr.ioksp.com', port=80): Max retries exceeded with url: /pdf/vol.%205%20no.%202-3/4-%20Haque%20and%20Islam,%202013.pdf (Caused by NewConnectionError('<urllib3.connection.HTTPConnection object at 0x7f47a8729e50>: Failed to establish a new connection: [Errno -2] Name or service not known'))\n",
      "2 HTTPConnectionPool(host='www.gbmr.ioksp.com', port=80): Max retries exceeded with url: /pdf/vol.%205%20no.%202-3/4-%20Haque%20and%20Islam,%202013.pdf (Caused by NewConnectionError('<urllib3.connection.HTTPConnection object at 0x7f47a87293d0>: Failed to establish a new connection: [Errno -2] Name or service not known'))\n"
     ]
    },
    {
     "name": "stderr",
     "output_type": "stream",
     "text": [
      " 96%|███████████████████████████████▊ | 84644/87736 [4:08:52<3:45:06,  4.37s/it]"
     ]
    },
    {
     "name": "stdout",
     "output_type": "stream",
     "text": [
      "0 HTTPConnectionPool(host='www.gbtm2013.org', port=80): Max retries exceeded with url: /uploadfile/201312/20131214174819600.pdf (Caused by NewConnectionError('<urllib3.connection.HTTPConnection object at 0x7f47a8729130>: Failed to establish a new connection: [Errno -2] Name or service not known'))\n",
      "1 HTTPConnectionPool(host='www.gbtm2013.org', port=80): Max retries exceeded with url: /uploadfile/201312/20131214174819600.pdf (Caused by NewConnectionError('<urllib3.connection.HTTPConnection object at 0x7f47a8729e50>: Failed to establish a new connection: [Errno -2] Name or service not known'))\n",
      "2 HTTPConnectionPool(host='www.gbtm2013.org', port=80): Max retries exceeded with url: /uploadfile/201312/20131214174819600.pdf (Caused by NewConnectionError('<urllib3.connection.HTTPConnection object at 0x7f47a8729040>: Failed to establish a new connection: [Errno -2] Name or service not known'))\n"
     ]
    },
    {
     "name": "stderr",
     "output_type": "stream",
     "text": [
      " 96%|███████████████████████████████▊ | 84646/87736 [4:08:55<2:21:03,  2.74s/it]"
     ]
    },
    {
     "name": "stdout",
     "output_type": "stream",
     "text": [
      "0 HTTPConnectionPool(host='www.gdicunja.com', port=80): Max retries exceeded with url: /wp-content/uploads/2016/06/ABSTRACT_GDIC_2016.pdf (Caused by NewConnectionError('<urllib3.connection.HTTPConnection object at 0x7f47a87293a0>: Failed to establish a new connection: [Errno -2] Name or service not known'))\n",
      "1 HTTPConnectionPool(host='www.gdicunja.com', port=80): Max retries exceeded with url: /wp-content/uploads/2016/06/ABSTRACT_GDIC_2016.pdf (Caused by NewConnectionError('<urllib3.connection.HTTPConnection object at 0x7f47a8729430>: Failed to establish a new connection: [Errno -2] Name or service not known'))\n",
      "2 HTTPConnectionPool(host='www.gdicunja.com', port=80): Max retries exceeded with url: /wp-content/uploads/2016/06/ABSTRACT_GDIC_2016.pdf (Caused by NewConnectionError('<urllib3.connection.HTTPConnection object at 0x7f47a8729880>: Failed to establish a new connection: [Errno -2] Name or service not known'))\n"
     ]
    },
    {
     "name": "stderr",
     "output_type": "stream",
     "text": [
      "\r",
      " 96%|███████████████████████████████▊ | 84647/87736 [4:08:56<2:04:49,  2.42s/it]"
     ]
    },
    {
     "name": "stdout",
     "output_type": "stream",
     "text": [
      "0 HTTPConnectionPool(host='www.gefjpapers.com', port=80): Max retries exceeded with url: /static/documents/March/2014/4.%20Moha%20Asri.pdf (Caused by NewConnectionError('<urllib3.connection.HTTPConnection object at 0x7f47a8729e50>: Failed to establish a new connection: [Errno -2] Name or service not known'))\n",
      "1 HTTPConnectionPool(host='www.gefjpapers.com', port=80): Max retries exceeded with url: /static/documents/March/2014/4.%20Moha%20Asri.pdf (Caused by NewConnectionError('<urllib3.connection.HTTPConnection object at 0x7f47a8729400>: Failed to establish a new connection: [Errno -2] Name or service not known'))\n",
      "2 HTTPConnectionPool(host='www.gefjpapers.com', port=80): Max retries exceeded with url: /static/documents/March/2014/4.%20Moha%20Asri.pdf (Caused by NewConnectionError('<urllib3.connection.HTTPConnection object at 0x7f47a8729460>: Failed to establish a new connection: [Errno -2] Name or service not known'))\n"
     ]
    },
    {
     "name": "stderr",
     "output_type": "stream",
     "text": [
      " 97%|███████████████████████████████▊ | 84666/87736 [4:09:16<1:58:45,  2.32s/it]"
     ]
    },
    {
     "name": "stdout",
     "output_type": "stream",
     "text": [
      "0 HTTPConnectionPool(host='www.globalcis.org', port=80): Max retries exceeded with url: /ijact/ppl/IJACT3598PPL.pdf (Caused by NewConnectionError('<urllib3.connection.HTTPConnection object at 0x7f47a8727d00>: Failed to establish a new connection: [Errno -3] Temporary failure in name resolution'))\n",
      "1 HTTPConnectionPool(host='www.globalcis.org', port=80): Max retries exceeded with url: /ijact/ppl/IJACT3598PPL.pdf (Caused by NewConnectionError('<urllib3.connection.HTTPConnection object at 0x7f47a8727d00>: Failed to establish a new connection: [Errno -3] Temporary failure in name resolution'))\n",
      "2 HTTPConnectionPool(host='www.globalcis.org', port=80): Max retries exceeded with url: /ijact/ppl/IJACT3598PPL.pdf (Caused by NewConnectionError('<urllib3.connection.HTTPConnection object at 0x7f47a8727e20>: Failed to establish a new connection: [Errno -3] Temporary failure in name resolution'))\n"
     ]
    },
    {
     "name": "stderr",
     "output_type": "stream",
     "text": [
      " 97%|███████████████████████████████▊ | 84694/87736 [4:10:18<2:08:39,  2.54s/it]"
     ]
    },
    {
     "name": "stdout",
     "output_type": "stream",
     "text": [
      "0 HTTPConnectionPool(host='www.hsa.edu.pk', port=80): Max retries exceeded with url: /journal/2014/june_2016.pdf (Caused by NewConnectionError('<urllib3.connection.HTTPConnection object at 0x7f47a87b1ee0>: Failed to establish a new connection: [Errno 110] Connection timed out'))\n",
      "1 HTTPConnectionPool(host='www.hsa.edu.pk', port=80): Max retries exceeded with url: /journal/2014/june_2016.pdf (Caused by NewConnectionError('<urllib3.connection.HTTPConnection object at 0x7f47a86fd3a0>: Failed to establish a new connection: [Errno 110] Connection timed out'))\n",
      "2 HTTPConnectionPool(host='www.hsa.edu.pk', port=80): Max retries exceeded with url: /journal/2014/june_2016.pdf (Caused by NewConnectionError('<urllib3.connection.HTTPConnection object at 0x7f47a86c8280>: Failed to establish a new connection: [Errno 110] Connection timed out'))\n"
     ]
    },
    {
     "name": "stderr",
     "output_type": "stream",
     "text": [
      " 97%|██████████████████████████████▉ | 84698/87736 [4:16:58<35:54:20, 42.55s/it]"
     ]
    },
    {
     "name": "stdout",
     "output_type": "stream",
     "text": [
      "0 HTTPConnectionPool(host='www.i-comeuum.com', port=80): Max retries exceeded with url: /download/icome16_schedule.pdf (Caused by NewConnectionError('<urllib3.connection.HTTPConnection object at 0x7f47a86fd880>: Failed to establish a new connection: [Errno -2] Name or service not known'))\n",
      "1 HTTPConnectionPool(host='www.i-comeuum.com', port=80): Max retries exceeded with url: /download/icome16_schedule.pdf (Caused by NewConnectionError('<urllib3.connection.HTTPConnection object at 0x7f47a86fd130>: Failed to establish a new connection: [Errno -2] Name or service not known'))\n",
      "2 HTTPConnectionPool(host='www.i-comeuum.com', port=80): Max retries exceeded with url: /download/icome16_schedule.pdf (Caused by NewConnectionError('<urllib3.connection.HTTPConnection object at 0x7f47a86fdcd0>: Failed to establish a new connection: [Errno -2] Name or service not known'))\n"
     ]
    },
    {
     "name": "stderr",
     "output_type": "stream",
     "text": [
      " 97%|███████████████████████████████▊ | 84718/87736 [4:18:18<5:03:23,  6.03s/it]"
     ]
    },
    {
     "name": "stdout",
     "output_type": "stream",
     "text": [
      "0 HTTPConnectionPool(host='www.iafastro.com', port=80): Max retries exceeded with url: /uploads/PDF/IAC2013/IAC2013_FinalProgramm_complete_Oct%287%29_low%20res.pdf (Caused by NewConnectionError('<urllib3.connection.HTTPConnection object at 0x7f47a86fd8e0>: Failed to establish a new connection: [Errno 110] Connection timed out'))\n",
      "1 HTTPConnectionPool(host='www.iafastro.com', port=80): Max retries exceeded with url: /uploads/PDF/IAC2013/IAC2013_FinalProgramm_complete_Oct%287%29_low%20res.pdf (Caused by NewConnectionError('<urllib3.connection.HTTPConnection object at 0x7f47a87552e0>: Failed to establish a new connection: [Errno 110] Connection timed out'))\n",
      "2 HTTPConnectionPool(host='www.iafastro.com', port=80): Max retries exceeded with url: /uploads/PDF/IAC2013/IAC2013_FinalProgramm_complete_Oct%287%29_low%20res.pdf (Caused by NewConnectionError('<urllib3.connection.HTTPConnection object at 0x7f47a8727d30>: Failed to establish a new connection: [Errno 110] Connection timed out'))\n"
     ]
    },
    {
     "name": "stderr",
     "output_type": "stream",
     "text": [
      " 97%|███████████████████████████████▉ | 84754/87736 [4:25:46<1:19:30,  1.60s/it]"
     ]
    },
    {
     "name": "stdout",
     "output_type": "stream",
     "text": [
      "0 HTTPConnectionPool(host='www.icme12.org', port=80): Max retries exceeded with url: /upload/upfile2/tsg/0793.pdf (Caused by NewConnectionError('<urllib3.connection.HTTPConnection object at 0x7f47a87b1370>: Failed to establish a new connection: [Errno -2] Name or service not known'))\n",
      "1 HTTPConnectionPool(host='www.icme12.org', port=80): Max retries exceeded with url: /upload/upfile2/tsg/0793.pdf (Caused by NewConnectionError('<urllib3.connection.HTTPConnection object at 0x7f47a8727460>: Failed to establish a new connection: [Errno -2] Name or service not known'))\n",
      "2 HTTPConnectionPool(host='www.icme12.org', port=80): Max retries exceeded with url: /upload/upfile2/tsg/0793.pdf (Caused by NewConnectionError('<urllib3.connection.HTTPConnection object at 0x7f47a86a3ee0>: Failed to establish a new connection: [Errno -2] Name or service not known'))\n"
     ]
    },
    {
     "name": "stderr",
     "output_type": "stream",
     "text": [
      " 97%|███████████████████████████████▉ | 84756/87736 [4:25:50<1:38:27,  1.98s/it]"
     ]
    },
    {
     "name": "stdout",
     "output_type": "stream",
     "text": [
      "0 HTTPConnectionPool(host='www.icoci.cms.net.my', port=80): Max retries exceeded with url: /icoci2019/file/PARALLEL_SESSION_SCHEDULE_2019.pdf (Caused by NewConnectionError('<urllib3.connection.HTTPConnection object at 0x7f47a8727730>: Failed to establish a new connection: [Errno -2] Name or service not known'))\n",
      "1 HTTPConnectionPool(host='www.icoci.cms.net.my', port=80): Max retries exceeded with url: /icoci2019/file/PARALLEL_SESSION_SCHEDULE_2019.pdf (Caused by NewConnectionError('<urllib3.connection.HTTPConnection object at 0x7f47a87b1c10>: Failed to establish a new connection: [Errno -2] Name or service not known'))\n",
      "2 HTTPConnectionPool(host='www.icoci.cms.net.my', port=80): Max retries exceeded with url: /icoci2019/file/PARALLEL_SESSION_SCHEDULE_2019.pdf (Caused by NewConnectionError('<urllib3.connection.HTTPConnection object at 0x7f47a87b1bb0>: Failed to establish a new connection: [Errno -2] Name or service not known'))\n"
     ]
    },
    {
     "name": "stderr",
     "output_type": "stream",
     "text": [
      "\r",
      " 97%|███████████████████████████████▉ | 84757/87736 [4:25:52<1:32:57,  1.87s/it]"
     ]
    },
    {
     "name": "stdout",
     "output_type": "stream",
     "text": [
      "0 HTTPConnectionPool(host='www.icoci.cms.net.my', port=80): Max retries exceeded with url: /proceedings/2009/papers/PID221.pdf (Caused by NewConnectionError('<urllib3.connection.HTTPConnection object at 0x7f47a87b18e0>: Failed to establish a new connection: [Errno -2] Name or service not known'))\n",
      "1 HTTPConnectionPool(host='www.icoci.cms.net.my', port=80): Max retries exceeded with url: /proceedings/2009/papers/PID221.pdf (Caused by NewConnectionError('<urllib3.connection.HTTPConnection object at 0x7f47a86fd160>: Failed to establish a new connection: [Errno -2] Name or service not known'))\n",
      "2 HTTPConnectionPool(host='www.icoci.cms.net.my', port=80): Max retries exceeded with url: /proceedings/2009/papers/PID221.pdf (Caused by NewConnectionError('<urllib3.connection.HTTPConnection object at 0x7f47a87b1310>: Failed to establish a new connection: [Errno -2] Name or service not known'))\n"
     ]
    },
    {
     "name": "stderr",
     "output_type": "stream",
     "text": [
      "\r",
      " 97%|███████████████████████████████▉ | 84758/87736 [4:25:53<1:28:53,  1.79s/it]"
     ]
    },
    {
     "name": "stdout",
     "output_type": "stream",
     "text": [
      "0 HTTPConnectionPool(host='www.icoci.cms.net.my', port=80): Max retries exceeded with url: /proceedings/2015/PDF/PID193.pdf (Caused by NewConnectionError('<urllib3.connection.HTTPConnection object at 0x7f47a86fd4f0>: Failed to establish a new connection: [Errno -2] Name or service not known'))\n",
      "1 HTTPConnectionPool(host='www.icoci.cms.net.my', port=80): Max retries exceeded with url: /proceedings/2015/PDF/PID193.pdf (Caused by NewConnectionError('<urllib3.connection.HTTPConnection object at 0x7f47a87b1ca0>: Failed to establish a new connection: [Errno -2] Name or service not known'))\n",
      "2 HTTPConnectionPool(host='www.icoci.cms.net.my', port=80): Max retries exceeded with url: /proceedings/2015/PDF/PID193.pdf (Caused by NewConnectionError('<urllib3.connection.HTTPConnection object at 0x7f47a87b1b50>: Failed to establish a new connection: [Errno -2] Name or service not known'))\n"
     ]
    },
    {
     "name": "stderr",
     "output_type": "stream",
     "text": [
      "\r",
      " 97%|███████████████████████████████▉ | 84759/87736 [4:25:55<1:26:05,  1.74s/it]"
     ]
    },
    {
     "name": "stdout",
     "output_type": "stream",
     "text": [
      "0 HTTPConnectionPool(host='www.icoci.cms.net.my', port=80): Max retries exceeded with url: /proceedings/2015/PDF/PID198.pdf (Caused by NewConnectionError('<urllib3.connection.HTTPConnection object at 0x7f47a86fda30>: Failed to establish a new connection: [Errno -2] Name or service not known'))\n",
      "1 HTTPConnectionPool(host='www.icoci.cms.net.my', port=80): Max retries exceeded with url: /proceedings/2015/PDF/PID198.pdf (Caused by NewConnectionError('<urllib3.connection.HTTPConnection object at 0x7f47a87b1370>: Failed to establish a new connection: [Errno -2] Name or service not known'))\n",
      "2 HTTPConnectionPool(host='www.icoci.cms.net.my', port=80): Max retries exceeded with url: /proceedings/2015/PDF/PID198.pdf (Caused by NewConnectionError('<urllib3.connection.HTTPConnection object at 0x7f47a87b1e50>: Failed to establish a new connection: [Errno -2] Name or service not known'))\n"
     ]
    },
    {
     "name": "stderr",
     "output_type": "stream",
     "text": [
      " 97%|███████████████████████████████▉ | 84761/87736 [4:25:57<1:09:29,  1.40s/it]"
     ]
    },
    {
     "name": "stdout",
     "output_type": "stream",
     "text": [
      "0 Exceeded 30 redirects.\n"
     ]
    },
    {
     "name": "stderr",
     "output_type": "stream",
     "text": [
      " 97%|███████████████████████████████▉ | 84909/87736 [4:30:30<1:03:44,  1.35s/it]"
     ]
    },
    {
     "name": "stdout",
     "output_type": "stream",
     "text": [
      "0 HTTPConnectionPool(host='www.iierdl.org', port=80): Max retries exceeded with url: /up_proc/pdf/21-142814742732-36.pdf (Caused by NewConnectionError('<urllib3.connection.HTTPConnection object at 0x7f47a87a3250>: Failed to establish a new connection: [Errno -2] Name or service not known'))\n",
      "1 HTTPConnectionPool(host='www.iierdl.org', port=80): Max retries exceeded with url: /up_proc/pdf/21-142814742732-36.pdf (Caused by NewConnectionError('<urllib3.connection.HTTPConnection object at 0x7f47a8727880>: Failed to establish a new connection: [Errno -2] Name or service not known'))\n",
      "2 HTTPConnectionPool(host='www.iierdl.org', port=80): Max retries exceeded with url: /up_proc/pdf/21-142814742732-36.pdf (Caused by NewConnectionError('<urllib3.connection.HTTPConnection object at 0x7f47a86fda90>: Failed to establish a new connection: [Errno -2] Name or service not known'))\n"
     ]
    },
    {
     "name": "stderr",
     "output_type": "stream",
     "text": [
      " 97%|██████████████████████████████████ | 85308/87736 [4:40:34<56:38,  1.40s/it]"
     ]
    },
    {
     "name": "stdout",
     "output_type": "stream",
     "text": [
      "0 HTTPConnectionPool(host='www.ipcbee.com', port=80): Max retries exceeded with url: /vol21/11--ICEBS2011G010.pdf (Caused by NewConnectionError('<urllib3.connection.HTTPConnection object at 0x7f47aa146430>: Failed to establish a new connection: [Errno 110] Connection timed out'))\n",
      "1 HTTPConnectionPool(host='www.ipcbee.com', port=80): Max retries exceeded with url: /vol21/11--ICEBS2011G010.pdf (Caused by NewConnectionError('<urllib3.connection.HTTPConnection object at 0x7f47a86fd2b0>: Failed to establish a new connection: [Errno 110] Connection timed out'))\n",
      "2 HTTPConnectionPool(host='www.ipcbee.com', port=80): Max retries exceeded with url: /vol21/11--ICEBS2011G010.pdf (Caused by NewConnectionError('<urllib3.connection.HTTPConnection object at 0x7f47a8755820>: Failed to establish a new connection: [Errno 110] Connection timed out'))\n"
     ]
    },
    {
     "name": "stderr",
     "output_type": "stream",
     "text": [
      "\r",
      " 97%|██████████████████████████████▏| 85309/87736 [4:47:07<80:07:28, 118.85s/it]"
     ]
    },
    {
     "name": "stdout",
     "output_type": "stream",
     "text": [
      "0 HTTPConnectionPool(host='www.ipcbee.com', port=80): Max retries exceeded with url: /vol21/25--ICEBS2011P00020.pdf (Caused by NewConnectionError('<urllib3.connection.HTTPConnection object at 0x7f47a8772e80>: Failed to establish a new connection: [Errno 110] Connection timed out'))\n",
      "1 HTTPConnectionPool(host='www.ipcbee.com', port=80): Max retries exceeded with url: /vol21/25--ICEBS2011P00020.pdf (Caused by NewConnectionError('<urllib3.connection.HTTPConnection object at 0x7f47aa1460d0>: Failed to establish a new connection: [Errno 110] Connection timed out'))\n",
      "2 HTTPConnectionPool(host='www.ipcbee.com', port=80): Max retries exceeded with url: /vol21/25--ICEBS2011P00020.pdf (Caused by NewConnectionError('<urllib3.connection.HTTPConnection object at 0x7f47a86c89a0>: Failed to establish a new connection: [Errno 110] Connection timed out'))\n"
     ]
    },
    {
     "name": "stderr",
     "output_type": "stream",
     "text": [
      "\r",
      " 97%|█████████████████████████████▏| 85310/87736 [4:53:40<135:33:32, 201.16s/it]"
     ]
    },
    {
     "name": "stdout",
     "output_type": "stream",
     "text": [
      "0 HTTPConnectionPool(host='www.ipcbee.com', port=80): Max retries exceeded with url: /vol33/020-ICEEB2012-B055.pdf (Caused by NewConnectionError('<urllib3.connection.HTTPConnection object at 0x7f47a86fd940>: Failed to establish a new connection: [Errno 110] Connection timed out'))\n",
      "1 HTTPConnectionPool(host='www.ipcbee.com', port=80): Max retries exceeded with url: /vol33/020-ICEEB2012-B055.pdf (Caused by NewConnectionError('<urllib3.connection.HTTPConnection object at 0x7f47a8666d30>: Failed to establish a new connection: [Errno 110] Connection timed out'))\n",
      "2 HTTPConnectionPool(host='www.ipcbee.com', port=80): Max retries exceeded with url: /vol33/020-ICEEB2012-B055.pdf (Caused by NewConnectionError('<urllib3.connection.HTTPConnection object at 0x7f47aa146370>: Failed to establish a new connection: [Errno 110] Connection timed out'))\n"
     ]
    },
    {
     "name": "stderr",
     "output_type": "stream",
     "text": [
      "\r",
      " 97%|█████████████████████████████▏| 85311/87736 [5:00:13<174:18:53, 258.78s/it]"
     ]
    },
    {
     "name": "stdout",
     "output_type": "stream",
     "text": [
      "0 HTTPConnectionPool(host='www.ipcbee.com', port=80): Max retries exceeded with url: /vol51/021-ICEEB2013-B10012.pdf (Caused by NewConnectionError('<urllib3.connection.HTTPConnection object at 0x7f47a8772d60>: Failed to establish a new connection: [Errno 110] Connection timed out'))\n",
      "1 HTTPConnectionPool(host='www.ipcbee.com', port=80): Max retries exceeded with url: /vol51/021-ICEEB2013-B10012.pdf (Caused by NewConnectionError('<urllib3.connection.HTTPConnection object at 0x7f47a8793f70>: Failed to establish a new connection: [Errno 110] Connection timed out'))\n",
      "2 HTTPConnectionPool(host='www.ipcbee.com', port=80): Max retries exceeded with url: /vol51/021-ICEEB2013-B10012.pdf (Caused by NewConnectionError('<urllib3.connection.HTTPConnection object at 0x7f47a86fdd60>: Failed to establish a new connection: [Errno 110] Connection timed out'))\n"
     ]
    },
    {
     "name": "stderr",
     "output_type": "stream",
     "text": [
      "\r",
      " 97%|█████████████████████████████▏| 85312/87736 [5:06:47<201:23:58, 299.11s/it]"
     ]
    },
    {
     "name": "stdout",
     "output_type": "stream",
     "text": [
      "0 HTTPConnectionPool(host='www.ipcbee.com', port=80): Max retries exceeded with url: /vol59/009-ICECB2013-C0023.pdf (Caused by NewConnectionError('<urllib3.connection.HTTPConnection object at 0x7f47aa20b340>: Failed to establish a new connection: [Errno 110] Connection timed out'))\n",
      "1 HTTPConnectionPool(host='www.ipcbee.com', port=80): Max retries exceeded with url: /vol59/009-ICECB2013-C0023.pdf (Caused by NewConnectionError('<urllib3.connection.HTTPConnection object at 0x7f47a87722e0>: Failed to establish a new connection: [Errno 110] Connection timed out'))\n",
      "2 HTTPConnectionPool(host='www.ipcbee.com', port=80): Max retries exceeded with url: /vol59/009-ICECB2013-C0023.pdf (Caused by NewConnectionError('<urllib3.connection.HTTPConnection object at 0x7f47a87016a0>: Failed to establish a new connection: [Errno 110] Connection timed out'))\n"
     ]
    },
    {
     "name": "stderr",
     "output_type": "stream",
     "text": [
      "\r",
      " 97%|█████████████████████████████▏| 85313/87736 [5:13:24<221:08:43, 328.57s/it]"
     ]
    },
    {
     "name": "stdout",
     "output_type": "stream",
     "text": [
      "0 HTTPConnectionPool(host='www.ipcbee.com', port=80): Max retries exceeded with url: /vol63/008-ICOIA2014-IA0024.pdf (Caused by NewConnectionError('<urllib3.connection.HTTPConnection object at 0x7f47a8745310>: Failed to establish a new connection: [Errno 110] Connection timed out'))\n",
      "1 HTTPConnectionPool(host='www.ipcbee.com', port=80): Max retries exceeded with url: /vol63/008-ICOIA2014-IA0024.pdf (Caused by NewConnectionError('<urllib3.connection.HTTPConnection object at 0x7f47a86fd280>: Failed to establish a new connection: [Errno 110] Connection timed out'))\n",
      "2 HTTPConnectionPool(host='www.ipcbee.com', port=80): Max retries exceeded with url: /vol63/008-ICOIA2014-IA0024.pdf (Caused by NewConnectionError('<urllib3.connection.HTTPConnection object at 0x7f47a86fda00>: Failed to establish a new connection: [Errno 110] Connection timed out'))\n"
     ]
    },
    {
     "name": "stderr",
     "output_type": "stream",
     "text": [
      "\r",
      " 97%|█████████████████████████████▏| 85314/87736 [5:19:57<234:06:10, 347.96s/it]"
     ]
    },
    {
     "name": "stdout",
     "output_type": "stream",
     "text": [
      "0 HTTPConnectionPool(host='www.ipcbee.com', port=80): Max retries exceeded with url: /vol65/012-ICFEB2014-N2008-1.pdf (Caused by NewConnectionError('<urllib3.connection.HTTPConnection object at 0x7f47a86fd670>: Failed to establish a new connection: [Errno 110] Connection timed out'))\n",
      "1 HTTPConnectionPool(host='www.ipcbee.com', port=80): Max retries exceeded with url: /vol65/012-ICFEB2014-N2008-1.pdf (Caused by NewConnectionError('<urllib3.connection.HTTPConnection object at 0x7f47a87452e0>: Failed to establish a new connection: [Errno 110] Connection timed out'))\n",
      "2 HTTPConnectionPool(host='www.ipcbee.com', port=80): Max retries exceeded with url: /vol65/012-ICFEB2014-N2008-1.pdf (Caused by NewConnectionError('<urllib3.connection.HTTPConnection object at 0x7f47aa146970>: Failed to establish a new connection: [Errno 110] Connection timed out'))\n"
     ]
    },
    {
     "name": "stderr",
     "output_type": "stream",
     "text": [
      "\r",
      " 97%|█████████████████████████████▏| 85315/87736 [5:26:30<243:08:05, 361.54s/it]"
     ]
    },
    {
     "name": "stdout",
     "output_type": "stream",
     "text": [
      "0 HTTPConnectionPool(host='www.ipcbee.com', port=80): Max retries exceeded with url: /vol75/002-ICBEM2014-ICGES%20B0001.pdf (Caused by NewConnectionError('<urllib3.connection.HTTPConnection object at 0x7f47a8772d30>: Failed to establish a new connection: [Errno 110] Connection timed out'))\n",
      "1 HTTPConnectionPool(host='www.ipcbee.com', port=80): Max retries exceeded with url: /vol75/002-ICBEM2014-ICGES%20B0001.pdf (Caused by NewConnectionError('<urllib3.connection.HTTPConnection object at 0x7f47a8605a30>: Failed to establish a new connection: [Errno 110] Connection timed out'))\n",
      "2 HTTPConnectionPool(host='www.ipcbee.com', port=80): Max retries exceeded with url: /vol75/002-ICBEM2014-ICGES%20B0001.pdf (Caused by NewConnectionError('<urllib3.connection.HTTPConnection object at 0x7f47a8666910>: Failed to establish a new connection: [Errno 110] Connection timed out'))\n"
     ]
    },
    {
     "name": "stderr",
     "output_type": "stream",
     "text": [
      "\r",
      " 97%|█████████████████████████████▏| 85316/87736 [5:33:04<249:25:21, 371.04s/it]"
     ]
    },
    {
     "name": "stdout",
     "output_type": "stream",
     "text": [
      "0 HTTPConnectionPool(host='www.ipcbee.com', port=80): Max retries exceeded with url: /vol91/rp008_ICESR2015-E3002.pdf (Caused by NewConnectionError('<urllib3.connection.HTTPConnection object at 0x7f47a8701be0>: Failed to establish a new connection: [Errno 110] Connection timed out'))\n",
      "1 HTTPConnectionPool(host='www.ipcbee.com', port=80): Max retries exceeded with url: /vol91/rp008_ICESR2015-E3002.pdf (Caused by NewConnectionError('<urllib3.connection.HTTPConnection object at 0x7f47aa146af0>: Failed to establish a new connection: [Errno 110] Connection timed out'))\n",
      "2 HTTPConnectionPool(host='www.ipcbee.com', port=80): Max retries exceeded with url: /vol91/rp008_ICESR2015-E3002.pdf (Caused by NewConnectionError('<urllib3.connection.HTTPConnection object at 0x7f47a8745820>: Failed to establish a new connection: [Errno 110] Connection timed out'))\n"
     ]
    },
    {
     "name": "stderr",
     "output_type": "stream",
     "text": [
      "\r",
      " 97%|█████████████████████████████▏| 85317/87736 [5:39:37<253:47:22, 377.69s/it]"
     ]
    },
    {
     "name": "stdout",
     "output_type": "stream",
     "text": [
      "0 HTTPConnectionPool(host='www.ipcsit.com', port=80): Max retries exceeded with url: /vol40/029-ICCET2012-T10059.pdf (Caused by NewConnectionError('<urllib3.connection.HTTPConnection object at 0x7f47a86fd460>: Failed to establish a new connection: [Errno 110] Connection timed out'))\n",
      "1 HTTPConnectionPool(host='www.ipcsit.com', port=80): Max retries exceeded with url: /vol40/029-ICCET2012-T10059.pdf (Caused by NewConnectionError('<urllib3.connection.HTTPConnection object at 0x7f47a87279a0>: Failed to establish a new connection: [Errno 110] Connection timed out'))\n",
      "2 HTTPConnectionPool(host='www.ipcsit.com', port=80): Max retries exceeded with url: /vol40/029-ICCET2012-T10059.pdf (Caused by NewConnectionError('<urllib3.connection.HTTPConnection object at 0x7f47a8755a90>: Failed to establish a new connection: [Errno 110] Connection timed out'))\n"
     ]
    },
    {
     "name": "stderr",
     "output_type": "stream",
     "text": [
      "\r",
      " 97%|█████████████████████████████▏| 85318/87736 [5:46:10<256:48:44, 382.35s/it]"
     ]
    },
    {
     "name": "stdout",
     "output_type": "stream",
     "text": [
      "0 HTTPConnectionPool(host='www.ipedr.com', port=80): Max retries exceeded with url: /vol10/108-S10091.pdf (Caused by NewConnectionError('<urllib3.connection.HTTPConnection object at 0x7f47a86fd7c0>: Failed to establish a new connection: [Errno 110] Connection timed out'))\n",
      "1 HTTPConnectionPool(host='www.ipedr.com', port=80): Max retries exceeded with url: /vol10/108-S10091.pdf (Caused by NewConnectionError('<urllib3.connection.HTTPConnection object at 0x7f47aa146880>: Failed to establish a new connection: [Errno 110] Connection timed out'))\n",
      "2 HTTPConnectionPool(host='www.ipedr.com', port=80): Max retries exceeded with url: /vol10/108-S10091.pdf (Caused by NewConnectionError('<urllib3.connection.HTTPConnection object at 0x7f47a87930d0>: Failed to establish a new connection: [Errno 110] Connection timed out'))\n"
     ]
    },
    {
     "name": "stderr",
     "output_type": "stream",
     "text": [
      "\r",
      " 97%|█████████████████████████████▏| 85319/87736 [5:52:43<258:53:40, 385.61s/it]"
     ]
    },
    {
     "name": "stdout",
     "output_type": "stream",
     "text": [
      "0 HTTPConnectionPool(host='www.ipedr.com', port=80): Max retries exceeded with url: /vol14/47-ICIMS2011S10037.pdf (Caused by NewConnectionError('<urllib3.connection.HTTPConnection object at 0x7f47a86668e0>: Failed to establish a new connection: [Errno 110] Connection timed out'))\n",
      "1 HTTPConnectionPool(host='www.ipedr.com', port=80): Max retries exceeded with url: /vol14/47-ICIMS2011S10037.pdf (Caused by NewConnectionError('<urllib3.connection.HTTPConnection object at 0x7f47aa146520>: Failed to establish a new connection: [Errno 110] Connection timed out'))\n",
      "2 HTTPConnectionPool(host='www.ipedr.com', port=80): Max retries exceeded with url: /vol14/47-ICIMS2011S10037.pdf (Caused by NewConnectionError('<urllib3.connection.HTTPConnection object at 0x7f47a87015e0>: Failed to establish a new connection: [Errno 110] Connection timed out'))\n"
     ]
    },
    {
     "name": "stderr",
     "output_type": "stream",
     "text": [
      "\r",
      " 97%|█████████████████████████████▏| 85320/87736 [5:59:17<260:19:06, 387.89s/it]"
     ]
    },
    {
     "name": "stdout",
     "output_type": "stream",
     "text": [
      "0 HTTPConnectionPool(host='www.ipedr.com', port=80): Max retries exceeded with url: /vol17/22-CHHSS%202011-H10001.pdf (Caused by NewConnectionError('<urllib3.connection.HTTPConnection object at 0x7f47c8172640>: Failed to establish a new connection: [Errno 110] Connection timed out'))\n",
      "1 HTTPConnectionPool(host='www.ipedr.com', port=80): Max retries exceeded with url: /vol17/22-CHHSS%202011-H10001.pdf (Caused by NewConnectionError('<urllib3.connection.HTTPConnection object at 0x7f47a86fd9d0>: Failed to establish a new connection: [Errno 110] Connection timed out'))\n",
      "2 HTTPConnectionPool(host='www.ipedr.com', port=80): Max retries exceeded with url: /vol17/22-CHHSS%202011-H10001.pdf (Caused by NewConnectionError('<urllib3.connection.HTTPConnection object at 0x7f47a86fdfa0>: Failed to establish a new connection: [Errno 110] Connection timed out'))\n"
     ]
    },
    {
     "name": "stderr",
     "output_type": "stream",
     "text": [
      "\r",
      " 97%|█████████████████████████████▏| 85321/87736 [6:05:50<261:16:56, 389.49s/it]"
     ]
    },
    {
     "name": "stdout",
     "output_type": "stream",
     "text": [
      "0 HTTPConnectionPool(host='www.ipedr.com', port=80): Max retries exceeded with url: /vol17/29-CHHSS%202011-H10016.pdf (Caused by NewConnectionError('<urllib3.connection.HTTPConnection object at 0x7f47a86fd0a0>: Failed to establish a new connection: [Errno 110] Connection timed out'))\n",
      "1 HTTPConnectionPool(host='www.ipedr.com', port=80): Max retries exceeded with url: /vol17/29-CHHSS%202011-H10016.pdf (Caused by NewConnectionError('<urllib3.connection.HTTPConnection object at 0x7f47a8772850>: Failed to establish a new connection: [Errno 110] Connection timed out'))\n",
      "2 HTTPConnectionPool(host='www.ipedr.com', port=80): Max retries exceeded with url: /vol17/29-CHHSS%202011-H10016.pdf (Caused by NewConnectionError('<urllib3.connection.HTTPConnection object at 0x7f47a8745880>: Failed to establish a new connection: [Errno 110] Connection timed out'))\n"
     ]
    },
    {
     "name": "stderr",
     "output_type": "stream",
     "text": [
      "\r",
      " 97%|█████████████████████████████▏| 85322/87736 [6:12:23<261:55:25, 390.61s/it]"
     ]
    },
    {
     "name": "stdout",
     "output_type": "stream",
     "text": [
      "0 HTTPConnectionPool(host='www.ipedr.com', port=80): Max retries exceeded with url: /vol17/37-CHHSS%202011-H10039.pdf (Caused by NewConnectionError('<urllib3.connection.HTTPConnection object at 0x7f47aa146370>: Failed to establish a new connection: [Errno 110] Connection timed out'))\n",
      "1 HTTPConnectionPool(host='www.ipedr.com', port=80): Max retries exceeded with url: /vol17/37-CHHSS%202011-H10039.pdf (Caused by NewConnectionError('<urllib3.connection.HTTPConnection object at 0x7f47a8793a30>: Failed to establish a new connection: [Errno 110] Connection timed out'))\n",
      "2 HTTPConnectionPool(host='www.ipedr.com', port=80): Max retries exceeded with url: /vol17/37-CHHSS%202011-H10039.pdf (Caused by NewConnectionError('<urllib3.connection.HTTPConnection object at 0x7f47a86c8700>: Failed to establish a new connection: [Errno 110] Connection timed out'))\n"
     ]
    },
    {
     "name": "stderr",
     "output_type": "stream",
     "text": [
      "\r",
      " 97%|█████████████████████████████▏| 85323/87736 [6:18:56<262:20:23, 391.39s/it]"
     ]
    },
    {
     "name": "stdout",
     "output_type": "stream",
     "text": [
      "0 HTTPConnectionPool(host='www.ipedr.com', port=80): Max retries exceeded with url: /vol17/44-CHHSS%202011-H10057.pdf (Caused by NewConnectionError('<urllib3.connection.HTTPConnection object at 0x7f47aa146700>: Failed to establish a new connection: [Errno 110] Connection timed out'))\n",
      "1 HTTPConnectionPool(host='www.ipedr.com', port=80): Max retries exceeded with url: /vol17/44-CHHSS%202011-H10057.pdf (Caused by NewConnectionError('<urllib3.connection.HTTPConnection object at 0x7f47a87452b0>: Failed to establish a new connection: [Errno 110] Connection timed out'))\n",
      "2 HTTPConnectionPool(host='www.ipedr.com', port=80): Max retries exceeded with url: /vol17/44-CHHSS%202011-H10057.pdf (Caused by NewConnectionError('<urllib3.connection.HTTPConnection object at 0x7f47c81720d0>: Failed to establish a new connection: [Errno 110] Connection timed out'))\n"
     ]
    },
    {
     "name": "stderr",
     "output_type": "stream",
     "text": [
      "\r",
      " 97%|█████████████████████████████▏| 85324/87736 [6:25:29<262:35:53, 391.94s/it]"
     ]
    },
    {
     "name": "stdout",
     "output_type": "stream",
     "text": [
      "1 HTTPConnectionPool(host='www.ipedr.com', port=80): Max retries exceeded with url: /vol22/37-ICEBM2011-MH00050.pdf (Caused by NewConnectionError('<urllib3.connection.HTTPConnection object at 0x7f47a87207c0>: Failed to establish a new connection: [Errno 110] Connection timed out'))\n",
      "2 HTTPConnectionPool(host='www.ipedr.com', port=80): Max retries exceeded with url: /vol22/37-ICEBM2011-MH00050.pdf (Caused by NewConnectionError('<urllib3.connection.HTTPConnection object at 0x7f47a8666850>: Failed to establish a new connection: [Errno 110] Connection timed out'))\n"
     ]
    },
    {
     "name": "stderr",
     "output_type": "stream",
     "text": [
      "\r",
      " 97%|█████████████████████████████▏| 85325/87736 [6:32:03<262:44:46, 392.32s/it]"
     ]
    },
    {
     "name": "stdout",
     "output_type": "stream",
     "text": [
      "0 HTTPConnectionPool(host='www.ipedr.com', port=80): Max retries exceeded with url: /vol38/012-ICEBI2012-A00021.pdf (Caused by NewConnectionError('<urllib3.connection.HTTPConnection object at 0x7f47a8745310>: Failed to establish a new connection: [Errno 110] Connection timed out'))\n",
      "1 HTTPConnectionPool(host='www.ipedr.com', port=80): Max retries exceeded with url: /vol38/012-ICEBI2012-A00021.pdf (Caused by NewConnectionError('<urllib3.connection.HTTPConnection object at 0x7f47aa146130>: Failed to establish a new connection: [Errno 110] Connection timed out'))\n",
      "2 HTTPConnectionPool(host='www.ipedr.com', port=80): Max retries exceeded with url: /vol38/012-ICEBI2012-A00021.pdf (Caused by NewConnectionError('<urllib3.connection.HTTPConnection object at 0x7f47a8727a00>: Failed to establish a new connection: [Errno 110] Connection timed out'))\n"
     ]
    },
    {
     "name": "stderr",
     "output_type": "stream",
     "text": [
      "\r",
      " 97%|█████████████████████████████▏| 85326/87736 [6:38:36<262:49:01, 392.59s/it]"
     ]
    },
    {
     "name": "stdout",
     "output_type": "stream",
     "text": [
      "0 HTTPConnectionPool(host='www.ipedr.com', port=80): Max retries exceeded with url: /vol38/031-ICEBI2012-A10046.pdf (Caused by NewConnectionError('<urllib3.connection.HTTPConnection object at 0x7f47a8793df0>: Failed to establish a new connection: [Errno 110] Connection timed out'))\n",
      "1 HTTPConnectionPool(host='www.ipedr.com', port=80): Max retries exceeded with url: /vol38/031-ICEBI2012-A10046.pdf (Caused by NewConnectionError('<urllib3.connection.HTTPConnection object at 0x7f47a8701370>: Failed to establish a new connection: [Errno 110] Connection timed out'))\n",
      "2 HTTPConnectionPool(host='www.ipedr.com', port=80): Max retries exceeded with url: /vol38/031-ICEBI2012-A10046.pdf (Caused by NewConnectionError('<urllib3.connection.HTTPConnection object at 0x7f47a86666d0>: Failed to establish a new connection: [Errno 110] Connection timed out'))\n"
     ]
    },
    {
     "name": "stderr",
     "output_type": "stream",
     "text": [
      "\r",
      " 97%|█████████████████████████████▏| 85327/87736 [6:45:09<262:50:01, 392.78s/it]"
     ]
    },
    {
     "name": "stdout",
     "output_type": "stream",
     "text": [
      "0 HTTPConnectionPool(host='www.ipedr.com', port=80): Max retries exceeded with url: /vol48/039-CHHSS2012-A10042.pdf (Caused by NewConnectionError('<urllib3.connection.HTTPConnection object at 0x7f47a86fd790>: Failed to establish a new connection: [Errno 110] Connection timed out'))\n",
      "1 HTTPConnectionPool(host='www.ipedr.com', port=80): Max retries exceeded with url: /vol48/039-CHHSS2012-A10042.pdf (Caused by NewConnectionError('<urllib3.connection.HTTPConnection object at 0x7f47a8755880>: Failed to establish a new connection: [Errno 110] Connection timed out'))\n",
      "2 HTTPConnectionPool(host='www.ipedr.com', port=80): Max retries exceeded with url: /vol48/039-CHHSS2012-A10042.pdf (Caused by NewConnectionError('<urllib3.connection.HTTPConnection object at 0x7f47a8755b80>: Failed to establish a new connection: [Errno 110] Connection timed out'))\n"
     ]
    },
    {
     "name": "stderr",
     "output_type": "stream",
     "text": [
      "\r",
      " 97%|█████████████████████████████▏| 85328/87736 [6:51:42<262:48:45, 392.91s/it]"
     ]
    },
    {
     "name": "stdout",
     "output_type": "stream",
     "text": [
      "0 HTTPConnectionPool(host='www.ipedr.com', port=80): Max retries exceeded with url: /vol5/no1/64-H00146.pdf (Caused by NewConnectionError('<urllib3.connection.HTTPConnection object at 0x7f47a87551c0>: Failed to establish a new connection: [Errno 110] Connection timed out'))\n",
      "1 HTTPConnectionPool(host='www.ipedr.com', port=80): Max retries exceeded with url: /vol5/no1/64-H00146.pdf (Caused by NewConnectionError('<urllib3.connection.HTTPConnection object at 0x7f47a86fde20>: Failed to establish a new connection: [Errno 110] Connection timed out'))\n",
      "2 HTTPConnectionPool(host='www.ipedr.com', port=80): Max retries exceeded with url: /vol5/no1/64-H00146.pdf (Caused by NewConnectionError('<urllib3.connection.HTTPConnection object at 0x7f47aa20b220>: Failed to establish a new connection: [Errno 110] Connection timed out'))\n"
     ]
    },
    {
     "name": "stderr",
     "output_type": "stream",
     "text": [
      "\r",
      " 97%|█████████████████████████████▏| 85329/87736 [6:58:15<262:45:53, 393.00s/it]"
     ]
    },
    {
     "name": "stdout",
     "output_type": "stream",
     "text": [
      "0 HTTPConnectionPool(host='www.ipedr.com', port=80): Max retries exceeded with url: /vol68/009-ICLLL2013-A00025.pdf (Caused by NewConnectionError('<urllib3.connection.HTTPConnection object at 0x7f47c8172640>: Failed to establish a new connection: [Errno 110] Connection timed out'))\n",
      "1 HTTPConnectionPool(host='www.ipedr.com', port=80): Max retries exceeded with url: /vol68/009-ICLLL2013-A00025.pdf (Caused by NewConnectionError('<urllib3.connection.HTTPConnection object at 0x7f47a87275b0>: Failed to establish a new connection: [Errno 110] Connection timed out'))\n",
      "2 HTTPConnectionPool(host='www.ipedr.com', port=80): Max retries exceeded with url: /vol68/009-ICLLL2013-A00025.pdf (Caused by NewConnectionError('<urllib3.connection.HTTPConnection object at 0x7f47aa1468e0>: Failed to establish a new connection: [Errno 110] Connection timed out'))\n"
     ]
    },
    {
     "name": "stderr",
     "output_type": "stream",
     "text": [
      "\r",
      " 97%|█████████████████████████████▏| 85330/87736 [7:04:49<262:41:55, 393.07s/it]"
     ]
    },
    {
     "name": "stdout",
     "output_type": "stream",
     "text": [
      "0 HTTPConnectionPool(host='www.ipedr.com', port=80): Max retries exceeded with url: /vol68/020-ICLLL2013-A10009.pdf (Caused by NewConnectionError('<urllib3.connection.HTTPConnection object at 0x7f47a8666130>: Failed to establish a new connection: [Errno 110] Connection timed out'))\n",
      "1 HTTPConnectionPool(host='www.ipedr.com', port=80): Max retries exceeded with url: /vol68/020-ICLLL2013-A10009.pdf (Caused by NewConnectionError('<urllib3.connection.HTTPConnection object at 0x7f47a86fd790>: Failed to establish a new connection: [Errno 110] Connection timed out'))\n",
      "2 HTTPConnectionPool(host='www.ipedr.com', port=80): Max retries exceeded with url: /vol68/020-ICLLL2013-A10009.pdf (Caused by NewConnectionError('<urllib3.connection.HTTPConnection object at 0x7f47a86fdb50>: Failed to establish a new connection: [Errno 110] Connection timed out'))\n"
     ]
    },
    {
     "name": "stderr",
     "output_type": "stream",
     "text": [
      "\r",
      " 97%|█████████████████████████████▏| 85331/87736 [7:11:22<262:37:11, 393.11s/it]"
     ]
    },
    {
     "name": "stdout",
     "output_type": "stream",
     "text": [
      "0 HTTPConnectionPool(host='www.ipedr.com', port=80): Max retries exceeded with url: /vol7/13-D00036.pdf (Caused by NewConnectionError('<urllib3.connection.HTTPConnection object at 0x7f47a8755610>: Failed to establish a new connection: [Errno 110] Connection timed out'))\n",
      "1 HTTPConnectionPool(host='www.ipedr.com', port=80): Max retries exceeded with url: /vol7/13-D00036.pdf (Caused by NewConnectionError('<urllib3.connection.HTTPConnection object at 0x7f47aa146430>: Failed to establish a new connection: [Errno 110] Connection timed out'))\n",
      "2 HTTPConnectionPool(host='www.ipedr.com', port=80): Max retries exceeded with url: /vol7/13-D00036.pdf (Caused by NewConnectionError('<urllib3.connection.HTTPConnection object at 0x7f47a8755e80>: Failed to establish a new connection: [Errno 110] Connection timed out'))\n"
     ]
    },
    {
     "name": "stderr",
     "output_type": "stream",
     "text": [
      "\r",
      " 97%|█████████████████████████████▏| 85332/87736 [7:17:55<262:31:56, 393.14s/it]"
     ]
    },
    {
     "name": "stdout",
     "output_type": "stream",
     "text": [
      "0 HTTPConnectionPool(host='www.ipedr.com', port=80): Max retries exceeded with url: /vol72/006-rp8_ICLLA%202014-G00017.pdf (Caused by NewConnectionError('<urllib3.connection.HTTPConnection object at 0x7f47aa20bb50>: Failed to establish a new connection: [Errno 110] Connection timed out'))\n",
      "1 HTTPConnectionPool(host='www.ipedr.com', port=80): Max retries exceeded with url: /vol72/006-rp8_ICLLA%202014-G00017.pdf (Caused by NewConnectionError('<urllib3.connection.HTTPConnection object at 0x7f47a86661f0>: Failed to establish a new connection: [Errno 110] Connection timed out'))\n",
      "2 HTTPConnectionPool(host='www.ipedr.com', port=80): Max retries exceeded with url: /vol72/006-rp8_ICLLA%202014-G00017.pdf (Caused by NewConnectionError('<urllib3.connection.HTTPConnection object at 0x7f47a8727af0>: Failed to establish a new connection: [Errno 110] Connection timed out'))\n"
     ]
    },
    {
     "name": "stderr",
     "output_type": "stream",
     "text": [
      "\r",
      " 97%|█████████████████████████████▏| 85333/87736 [7:24:28<262:26:13, 393.16s/it]"
     ]
    },
    {
     "name": "stdout",
     "output_type": "stream",
     "text": [
      "0 HTTPConnectionPool(host='www.ipedr.com', port=80): Max retries exceeded with url: /vol9/2-D00011.pdf (Caused by NewConnectionError('<urllib3.connection.HTTPConnection object at 0x7f47aa146c40>: Failed to establish a new connection: [Errno 110] Connection timed out'))\n",
      "1 HTTPConnectionPool(host='www.ipedr.com', port=80): Max retries exceeded with url: /vol9/2-D00011.pdf (Caused by NewConnectionError('<urllib3.connection.HTTPConnection object at 0x7f47a86660d0>: Failed to establish a new connection: [Errno 110] Connection timed out'))\n",
      "2 HTTPConnectionPool(host='www.ipedr.com', port=80): Max retries exceeded with url: /vol9/2-D00011.pdf (Caused by NewConnectionError('<urllib3.connection.HTTPConnection object at 0x7f47a8666e50>: Failed to establish a new connection: [Errno 110] Connection timed out'))\n"
     ]
    },
    {
     "name": "stderr",
     "output_type": "stream",
     "text": [
      "\r",
      " 97%|█████████████████████████████▏| 85334/87736 [7:31:02<262:20:17, 393.18s/it]"
     ]
    },
    {
     "name": "stdout",
     "output_type": "stream",
     "text": [
      "0 HTTPConnectionPool(host='www.ippbm.gov.my', port=80): Max retries exceeded with url: /images/2019/MJYS/Edisi%20Khas%20Agenda%20Sosial%20Vol%202.pdf (Caused by NewConnectionError('<urllib3.connection.HTTPConnection object at 0x7f47a86fd2e0>: Failed to establish a new connection: [Errno -3] Temporary failure in name resolution'))\n",
      "1 HTTPConnectionPool(host='www.ippbm.gov.my', port=80): Max retries exceeded with url: /images/2019/MJYS/Edisi%20Khas%20Agenda%20Sosial%20Vol%202.pdf (Caused by NewConnectionError('<urllib3.connection.HTTPConnection object at 0x7f47a86fd670>: Failed to establish a new connection: [Errno -3] Temporary failure in name resolution'))\n",
      "2 HTTPConnectionPool(host='www.ippbm.gov.my', port=80): Max retries exceeded with url: /images/2019/MJYS/Edisi%20Khas%20Agenda%20Sosial%20Vol%202.pdf (Caused by NewConnectionError('<urllib3.connection.HTTPConnection object at 0x7f47a86fd400>: Failed to establish a new connection: [Errno -3] Temporary failure in name resolution'))\n"
     ]
    },
    {
     "name": "stderr",
     "output_type": "stream",
     "text": [
      " 97%|████████████████████████████████ | 85347/87736 [7:31:37<4:31:15,  6.81s/it]"
     ]
    },
    {
     "name": "stdout",
     "output_type": "stream",
     "text": [
      "0 HTTPConnectionPool(host='www.irip.ir', port=80): Max retries exceeded with url: /userfiles/Archive/BarnameyeHamayeshhHa/2010/FinalEnglishAbstracts.pdf (Caused by NewConnectionError('<urllib3.connection.HTTPConnection object at 0x7f47a8755e80>: Failed to establish a new connection: [Errno 113] No route to host'))\n",
      "1 HTTPConnectionPool(host='www.irip.ir', port=80): Max retries exceeded with url: /userfiles/Archive/BarnameyeHamayeshhHa/2010/FinalEnglishAbstracts.pdf (Caused by NewConnectionError('<urllib3.connection.HTTPConnection object at 0x7f47a86c8550>: Failed to establish a new connection: [Errno 113] No route to host'))\n",
      "2 HTTPConnectionPool(host='www.irip.ir', port=80): Max retries exceeded with url: /userfiles/Archive/BarnameyeHamayeshhHa/2010/FinalEnglishAbstracts.pdf (Caused by NewConnectionError('<urllib3.connection.HTTPConnection object at 0x7f47a86c8310>: Failed to establish a new connection: [Errno 113] No route to host'))\n"
     ]
    },
    {
     "name": "stderr",
     "output_type": "stream",
     "text": [
      " 97%|████████████████████████████████ | 85364/87736 [7:32:13<1:31:10,  2.31s/it]"
     ]
    },
    {
     "name": "stdout",
     "output_type": "stream",
     "text": [
      "0 HTTPConnectionPool(host='www.isai2010.org', port=80): Max retries exceeded with url: /isai10.toc.pdf (Caused by NewConnectionError('<urllib3.connection.HTTPConnection object at 0x7f47a86fddf0>: Failed to establish a new connection: [Errno -2] Name or service not known'))\n",
      "1 HTTPConnectionPool(host='www.isai2010.org', port=80): Max retries exceeded with url: /isai10.toc.pdf (Caused by NewConnectionError('<urllib3.connection.HTTPConnection object at 0x7f47a86fd100>: Failed to establish a new connection: [Errno -2] Name or service not known'))\n",
      "2 HTTPConnectionPool(host='www.isai2010.org', port=80): Max retries exceeded with url: /isai10.toc.pdf (Caused by NewConnectionError('<urllib3.connection.HTTPConnection object at 0x7f47a86fd730>: Failed to establish a new connection: [Errno -2] Name or service not known'))\n"
     ]
    },
    {
     "name": "stderr",
     "output_type": "stream",
     "text": [
      "\r",
      " 97%|████████████████████████████████ | 85365/87736 [7:32:15<1:25:21,  2.16s/it]"
     ]
    },
    {
     "name": "stdout",
     "output_type": "stream",
     "text": [
      "0 HTTPConnectionPool(host='www.isap2011.org', port=80): Max retries exceeded with url: /download/program/FrP1.pdf (Caused by NewConnectionError('<urllib3.connection.HTTPConnection object at 0x7f47a86fdd00>: Failed to establish a new connection: [Errno 110] Connection timed out'))\n",
      "1 HTTPConnectionPool(host='www.isap2011.org', port=80): Max retries exceeded with url: /download/program/FrP1.pdf (Caused by NewConnectionError('<urllib3.connection.HTTPConnection object at 0x7f47a8666b80>: Failed to establish a new connection: [Errno 110] Connection timed out'))\n",
      "2 HTTPConnectionPool(host='www.isap2011.org', port=80): Max retries exceeded with url: /download/program/FrP1.pdf (Caused by NewConnectionError('<urllib3.connection.HTTPConnection object at 0x7f47aa20b610>: Failed to establish a new connection: [Errno 110] Connection timed out'))\n"
     ]
    },
    {
     "name": "stderr",
     "output_type": "stream",
     "text": [
      " 97%|███████████████████████████████▏| 85370/87736 [7:38:56<19:58:19, 30.39s/it]"
     ]
    },
    {
     "name": "stdout",
     "output_type": "stream",
     "text": [
      "0 ('Connection aborted.', RemoteDisconnected('Remote end closed connection without response'))\n",
      "1 ('Connection aborted.', RemoteDisconnected('Remote end closed connection without response'))\n",
      "2 ('Connection aborted.', RemoteDisconnected('Remote end closed connection without response'))\n"
     ]
    },
    {
     "name": "stderr",
     "output_type": "stream",
     "text": [
      "\r",
      " 97%|███████████████████████████████▏| 85371/87736 [7:39:06<15:53:11, 24.18s/it]"
     ]
    },
    {
     "name": "stdout",
     "output_type": "stream",
     "text": [
      "0 HTTPConnectionPool(host='www.isdc2018.com', port=80): Max retries exceeded with url: /images/ISDC2018-Presentation-Schedule-v.2.pdf (Caused by NewConnectionError('<urllib3.connection.HTTPConnection object at 0x7f47a87b1970>: Failed to establish a new connection: [Errno -2] Name or service not known'))\n",
      "1 HTTPConnectionPool(host='www.isdc2018.com', port=80): Max retries exceeded with url: /images/ISDC2018-Presentation-Schedule-v.2.pdf (Caused by NewConnectionError('<urllib3.connection.HTTPConnection object at 0x7f47a87b1c10>: Failed to establish a new connection: [Errno -2] Name or service not known'))\n",
      "2 HTTPConnectionPool(host='www.isdc2018.com', port=80): Max retries exceeded with url: /images/ISDC2018-Presentation-Schedule-v.2.pdf (Caused by NewConnectionError('<urllib3.connection.HTTPConnection object at 0x7f47a87b1b50>: Failed to establish a new connection: [Errno -2] Name or service not known'))\n"
     ]
    },
    {
     "name": "stderr",
     "output_type": "stream",
     "text": [
      "\r",
      " 97%|███████████████████████████████▏| 85372/87736 [7:39:08<11:27:29, 17.45s/it]"
     ]
    },
    {
     "name": "stdout",
     "output_type": "stream",
     "text": [
      "0 HTTPConnectionPool(host='www.iseas-rof.sg', port=80): Max retries exceeded with url: /sites/live.rof2016.site.gsi.sg/files/ROF%20Session%204b.pdf (Caused by NewConnectionError('<urllib3.connection.HTTPConnection object at 0x7f47a87b1ee0>: Failed to establish a new connection: [Errno -2] Name or service not known'))\n",
      "1 HTTPConnectionPool(host='www.iseas-rof.sg', port=80): Max retries exceeded with url: /sites/live.rof2016.site.gsi.sg/files/ROF%20Session%204b.pdf (Caused by NewConnectionError('<urllib3.connection.HTTPConnection object at 0x7f47a87b1d60>: Failed to establish a new connection: [Errno -2] Name or service not known'))\n",
      "2 HTTPConnectionPool(host='www.iseas-rof.sg', port=80): Max retries exceeded with url: /sites/live.rof2016.site.gsi.sg/files/ROF%20Session%204b.pdf (Caused by NewConnectionError('<urllib3.connection.HTTPConnection object at 0x7f47a87b1b20>: Failed to establish a new connection: [Errno -2] Name or service not known'))\n"
     ]
    },
    {
     "name": "stderr",
     "output_type": "stream",
     "text": [
      " 97%|███████████████████████████████▏| 85378/87736 [7:40:00<10:08:43, 15.49s/it]"
     ]
    },
    {
     "name": "stdout",
     "output_type": "stream",
     "text": [
      "0 No host specified.\n",
      "1 No host specified.\n",
      "2 No host specified.\n"
     ]
    },
    {
     "name": "stderr",
     "output_type": "stream",
     "text": [
      "\r",
      " 97%|████████████████████████████████ | 85379/87736 [7:40:07<8:27:22, 12.92s/it]"
     ]
    },
    {
     "name": "stdout",
     "output_type": "stream",
     "text": [
      "0 HTTPConnectionPool(host='www.iucnael2014.cat', port=80): Max retries exceeded with url: /wp-content/uploads/2014/07/Abdul-Haseeb-Ansari-abstract.pdf (Caused by NewConnectionError('<urllib3.connection.HTTPConnection object at 0x7f47a87b1640>: Failed to establish a new connection: [Errno -2] Name or service not known'))\n",
      "1 HTTPConnectionPool(host='www.iucnael2014.cat', port=80): Max retries exceeded with url: /wp-content/uploads/2014/07/Abdul-Haseeb-Ansari-abstract.pdf (Caused by NewConnectionError('<urllib3.connection.HTTPConnection object at 0x7f47a87b1640>: Failed to establish a new connection: [Errno -2] Name or service not known'))\n",
      "2 HTTPConnectionPool(host='www.iucnael2014.cat', port=80): Max retries exceeded with url: /wp-content/uploads/2014/07/Abdul-Haseeb-Ansari-abstract.pdf (Caused by NewConnectionError('<urllib3.connection.HTTPConnection object at 0x7f47a87b14f0>: Failed to establish a new connection: [Errno -2] Name or service not known'))\n"
     ]
    },
    {
     "name": "stderr",
     "output_type": "stream",
     "text": [
      "\r",
      " 97%|████████████████████████████████ | 85380/87736 [7:40:09<6:17:41,  9.62s/it]"
     ]
    },
    {
     "name": "stdout",
     "output_type": "stream",
     "text": [
      "0 HTTPConnectionPool(host='www.iwahq.info', port=80): Max retries exceeded with url: /contentsuite/upload/iwa/Document/Watershed%20&%20RBM%20NewsletterFebruary2010.pdf (Caused by NewConnectionError('<urllib3.connection.HTTPConnection object at 0x7f47a87b1a00>: Failed to establish a new connection: [Errno -2] Name or service not known'))\n",
      "1 HTTPConnectionPool(host='www.iwahq.info', port=80): Max retries exceeded with url: /contentsuite/upload/iwa/Document/Watershed%20&%20RBM%20NewsletterFebruary2010.pdf (Caused by NewConnectionError('<urllib3.connection.HTTPConnection object at 0x7f47a87b1b50>: Failed to establish a new connection: [Errno -2] Name or service not known'))\n",
      "2 HTTPConnectionPool(host='www.iwahq.info', port=80): Max retries exceeded with url: /contentsuite/upload/iwa/Document/Watershed%20&%20RBM%20NewsletterFebruary2010.pdf (Caused by NewConnectionError('<urllib3.connection.HTTPConnection object at 0x7f47a87b1eb0>: Failed to establish a new connection: [Errno -2] Name or service not known'))\n"
     ]
    },
    {
     "name": "stderr",
     "output_type": "stream",
     "text": [
      " 97%|████████████████████████████████▏| 85421/87736 [7:41:57<2:05:52,  3.26s/it]"
     ]
    },
    {
     "name": "stdout",
     "output_type": "stream",
     "text": [
      "0 HTTPConnectionPool(host='www.jbaar.com', port=80): Max retries exceeded with url: /pdf/Qaralleh%20et%20al2.pdf (Caused by NewConnectionError('<urllib3.connection.HTTPConnection object at 0x7f47a87b1b20>: Failed to establish a new connection: [Errno -5] No address associated with hostname'))\n",
      "1 HTTPConnectionPool(host='www.jbaar.com', port=80): Max retries exceeded with url: /pdf/Qaralleh%20et%20al2.pdf (Caused by NewConnectionError('<urllib3.connection.HTTPConnection object at 0x7f47a87b1430>: Failed to establish a new connection: [Errno -5] No address associated with hostname'))\n",
      "2 HTTPConnectionPool(host='www.jbaar.com', port=80): Max retries exceeded with url: /pdf/Qaralleh%20et%20al2.pdf (Caused by NewConnectionError('<urllib3.connection.HTTPConnection object at 0x7f47a87b1e80>: Failed to establish a new connection: [Errno -5] No address associated with hostname'))\n"
     ]
    },
    {
     "name": "stderr",
     "output_type": "stream",
     "text": [
      "\r",
      " 97%|████████████████████████████████▏| 85422/87736 [7:42:03<2:32:02,  3.94s/it]"
     ]
    },
    {
     "name": "stdout",
     "output_type": "stream",
     "text": [
      "0 HTTPConnectionPool(host='www.jbaar.com', port=80): Max retries exceeded with url: /pdf/magdi%20proof%20reading.pdf (Caused by NewConnectionError('<urllib3.connection.HTTPConnection object at 0x7f47a87b10d0>: Failed to establish a new connection: [Errno -5] No address associated with hostname'))\n",
      "1 HTTPConnectionPool(host='www.jbaar.com', port=80): Max retries exceeded with url: /pdf/magdi%20proof%20reading.pdf (Caused by NewConnectionError('<urllib3.connection.HTTPConnection object at 0x7f47a87b1460>: Failed to establish a new connection: [Errno -5] No address associated with hostname'))\n",
      "2 HTTPConnectionPool(host='www.jbaar.com', port=80): Max retries exceeded with url: /pdf/magdi%20proof%20reading.pdf (Caused by NewConnectionError('<urllib3.connection.HTTPConnection object at 0x7f47a87b1520>: Failed to establish a new connection: [Errno -5] No address associated with hostname'))\n"
     ]
    },
    {
     "name": "stderr",
     "output_type": "stream",
     "text": [
      " 97%|████████████████████████████████▏| 85477/87736 [7:44:00<1:44:34,  2.78s/it]"
     ]
    },
    {
     "name": "stdout",
     "output_type": "stream",
     "text": [
      "0 Exceeded 30 redirects.\n",
      "1 Exceeded 30 redirects.\n",
      "2 Exceeded 30 redirects.\n"
     ]
    },
    {
     "name": "stderr",
     "output_type": "stream",
     "text": [
      " 97%|████████████████████████████████▏| 85523/87736 [7:45:40<2:07:50,  3.47s/it]"
     ]
    },
    {
     "name": "stdout",
     "output_type": "stream",
     "text": [
      "0 HTTPConnectionPool(host='www.jpti.in', port=80): Max retries exceeded with url: /vol-1-1/Page%20No%208%20-14.pdf (Caused by NewConnectionError('<urllib3.connection.HTTPConnection object at 0x7f47a86e4700>: Failed to establish a new connection: [Errno -2] Name or service not known'))\n",
      "1 HTTPConnectionPool(host='www.jpti.in', port=80): Max retries exceeded with url: /vol-1-1/Page%20No%208%20-14.pdf (Caused by NewConnectionError('<urllib3.connection.HTTPConnection object at 0x7f47a86e4430>: Failed to establish a new connection: [Errno -2] Name or service not known'))\n",
      "2 HTTPConnectionPool(host='www.jpti.in', port=80): Max retries exceeded with url: /vol-1-1/Page%20No%208%20-14.pdf (Caused by NewConnectionError('<urllib3.connection.HTTPConnection object at 0x7f47a86e42b0>: Failed to establish a new connection: [Errno -2] Name or service not known'))\n"
     ]
    },
    {
     "name": "stderr",
     "output_type": "stream",
     "text": [
      " 97%|████████████████████████████████▏| 85528/87736 [7:45:50<1:12:48,  1.98s/it]"
     ]
    },
    {
     "name": "stdout",
     "output_type": "stream",
     "text": [
      "0 Exceeded 30 redirects.\n",
      "1 Exceeded 30 redirects.\n",
      "2 Exceeded 30 redirects.\n"
     ]
    },
    {
     "name": "stderr",
     "output_type": "stream",
     "text": [
      " 97%|████████████████████████████████▏| 85534/87736 [7:46:18<2:30:45,  4.11s/it]"
     ]
    },
    {
     "name": "stdout",
     "output_type": "stream",
     "text": [
      "0 HTTPConnectionPool(host='www.kcr2017.com', port=80): Max retries exceeded with url: /register/2017_spring/file/Program_Book.pdf (Caused by NewConnectionError('<urllib3.connection.HTTPConnection object at 0x7f47a86e4c70>: Failed to establish a new connection: [Errno -2] Name or service not known'))\n",
      "1 HTTPConnectionPool(host='www.kcr2017.com', port=80): Max retries exceeded with url: /register/2017_spring/file/Program_Book.pdf (Caused by NewConnectionError('<urllib3.connection.HTTPConnection object at 0x7f47a86e46d0>: Failed to establish a new connection: [Errno -2] Name or service not known'))\n",
      "2 HTTPConnectionPool(host='www.kcr2017.com', port=80): Max retries exceeded with url: /register/2017_spring/file/Program_Book.pdf (Caused by NewConnectionError('<urllib3.connection.HTTPConnection object at 0x7f47a86e4af0>: Failed to establish a new connection: [Errno -2] Name or service not known'))\n"
     ]
    },
    {
     "name": "stderr",
     "output_type": "stream",
     "text": [
      "\r",
      " 97%|████████████████████████████████▏| 85535/87736 [7:46:20<2:06:35,  3.45s/it]"
     ]
    },
    {
     "name": "stdout",
     "output_type": "stream",
     "text": [
      "0 HTTPConnectionPool(host='www.kmice.cms.net.my', port=80): Max retries exceeded with url: /ProcKMICe/KMICe2018/pdf/CR45.pdf (Caused by NewConnectionError('<urllib3.connection.HTTPConnection object at 0x7f47a86e4730>: Failed to establish a new connection: [Errno -2] Name or service not known'))\n",
      "1 HTTPConnectionPool(host='www.kmice.cms.net.my', port=80): Max retries exceeded with url: /ProcKMICe/KMICe2018/pdf/CR45.pdf (Caused by NewConnectionError('<urllib3.connection.HTTPConnection object at 0x7f47a86e40d0>: Failed to establish a new connection: [Errno -2] Name or service not known'))\n",
      "2 HTTPConnectionPool(host='www.kmice.cms.net.my', port=80): Max retries exceeded with url: /ProcKMICe/KMICe2018/pdf/CR45.pdf (Caused by NewConnectionError('<urllib3.connection.HTTPConnection object at 0x7f47a86e4ee0>: Failed to establish a new connection: [Errno -2] Name or service not known'))\n"
     ]
    },
    {
     "name": "stderr",
     "output_type": "stream",
     "text": [
      "\r",
      " 97%|████████████████████████████████▏| 85536/87736 [7:46:22<1:46:31,  2.91s/it]"
     ]
    },
    {
     "name": "stdout",
     "output_type": "stream",
     "text": [
      "0 HTTPConnectionPool(host='www.kmice.cms.net.my', port=80): Max retries exceeded with url: /ProcKMICe/KMICe2018/pdf/CR46.pdf (Caused by NewConnectionError('<urllib3.connection.HTTPConnection object at 0x7f47a86e45b0>: Failed to establish a new connection: [Errno -2] Name or service not known'))\n",
      "1 HTTPConnectionPool(host='www.kmice.cms.net.my', port=80): Max retries exceeded with url: /ProcKMICe/KMICe2018/pdf/CR46.pdf (Caused by NewConnectionError('<urllib3.connection.HTTPConnection object at 0x7f47a86e4460>: Failed to establish a new connection: [Errno -2] Name or service not known'))\n",
      "2 HTTPConnectionPool(host='www.kmice.cms.net.my', port=80): Max retries exceeded with url: /ProcKMICe/KMICe2018/pdf/CR46.pdf (Caused by NewConnectionError('<urllib3.connection.HTTPConnection object at 0x7f47a86e44f0>: Failed to establish a new connection: [Errno -2] Name or service not known'))\n"
     ]
    },
    {
     "name": "stderr",
     "output_type": "stream",
     "text": [
      "\r",
      " 97%|████████████████████████████████▏| 85537/87736 [7:46:23<1:32:31,  2.52s/it]"
     ]
    },
    {
     "name": "stdout",
     "output_type": "stream",
     "text": [
      "0 HTTPConnectionPool(host='www.kmice.cms.net.my', port=80): Max retries exceeded with url: /ProcKMICe/KMICe2018/pdf/Keynote%203.pdf (Caused by NewConnectionError('<urllib3.connection.HTTPConnection object at 0x7f47a86e4430>: Failed to establish a new connection: [Errno -2] Name or service not known'))\n",
      "1 HTTPConnectionPool(host='www.kmice.cms.net.my', port=80): Max retries exceeded with url: /ProcKMICe/KMICe2018/pdf/Keynote%203.pdf (Caused by NewConnectionError('<urllib3.connection.HTTPConnection object at 0x7f47a86e4fa0>: Failed to establish a new connection: [Errno -2] Name or service not known'))\n",
      "2 HTTPConnectionPool(host='www.kmice.cms.net.my', port=80): Max retries exceeded with url: /ProcKMICe/KMICe2018/pdf/Keynote%203.pdf (Caused by NewConnectionError('<urllib3.connection.HTTPConnection object at 0x7f47a86e4f40>: Failed to establish a new connection: [Errno -2] Name or service not known'))\n"
     ]
    },
    {
     "name": "stderr",
     "output_type": "stream",
     "text": [
      " 98%|████████████████████████████████▏| 85574/87736 [7:47:35<1:07:11,  1.86s/it]"
     ]
    },
    {
     "name": "stdout",
     "output_type": "stream",
     "text": [
      "0 HTTPConnectionPool(host='www.malseciadr.com', port=80): Max retries exceeded with url: /wp-content/uploads/2015/04/Abstracts-poster.pdf (Caused by NewConnectionError('<urllib3.connection.HTTPConnection object at 0x7f47a86e4a30>: Failed to establish a new connection: [Errno 110] Connection timed out'))\n",
      "1 HTTPConnectionPool(host='www.malseciadr.com', port=80): Max retries exceeded with url: /wp-content/uploads/2015/04/Abstracts-poster.pdf (Caused by NewConnectionError('<urllib3.connection.HTTPConnection object at 0x7f47a84ea970>: Failed to establish a new connection: [Errno 110] Connection timed out'))\n",
      "2 HTTPConnectionPool(host='www.malseciadr.com', port=80): Max retries exceeded with url: /wp-content/uploads/2015/04/Abstracts-poster.pdf (Caused by NewConnectionError('<urllib3.connection.HTTPConnection object at 0x7f47a86a0730>: Failed to establish a new connection: [Errno 110] Connection timed out'))\n"
     ]
    },
    {
     "name": "stderr",
     "output_type": "stream",
     "text": [
      " 98%|████████████████████████████████▏| 85591/87736 [7:55:28<3:30:48,  5.90s/it]"
     ]
    },
    {
     "name": "stdout",
     "output_type": "stream",
     "text": [
      "0 HTTPConnectionPool(host='www.mbalpru.com', port=80): Max retries exceeded with url: /webnew2009/pdf/article17.pdf (Caused by NewConnectionError('<urllib3.connection.HTTPConnection object at 0x7f47a86a0760>: Failed to establish a new connection: [Errno -2] Name or service not known'))\n",
      "1 HTTPConnectionPool(host='www.mbalpru.com', port=80): Max retries exceeded with url: /webnew2009/pdf/article17.pdf (Caused by NewConnectionError('<urllib3.connection.HTTPConnection object at 0x7f47a86a0760>: Failed to establish a new connection: [Errno -2] Name or service not known'))\n",
      "2 HTTPConnectionPool(host='www.mbalpru.com', port=80): Max retries exceeded with url: /webnew2009/pdf/article17.pdf (Caused by NewConnectionError('<urllib3.connection.HTTPConnection object at 0x7f47a86a0a60>: Failed to establish a new connection: [Errno -2] Name or service not known'))\n"
     ]
    },
    {
     "name": "stderr",
     "output_type": "stream",
     "text": [
      " 98%|████████████████████████████████▏| 85613/87736 [7:56:08<1:26:38,  2.45s/it]"
     ]
    },
    {
     "name": "stdout",
     "output_type": "stream",
     "text": [
      "0 HTTPConnectionPool(host='www.mfaibaf.com', port=80): Max retries exceeded with url: /images/1PhD%20COLLOQUIUM%20SESSION.pdf (Caused by NewConnectionError('<urllib3.connection.HTTPConnection object at 0x7f47a86a00a0>: Failed to establish a new connection: [Errno -2] Name or service not known'))\n",
      "1 HTTPConnectionPool(host='www.mfaibaf.com', port=80): Max retries exceeded with url: /images/1PhD%20COLLOQUIUM%20SESSION.pdf (Caused by NewConnectionError('<urllib3.connection.HTTPConnection object at 0x7f47a86a0640>: Failed to establish a new connection: [Errno -2] Name or service not known'))\n",
      "2 HTTPConnectionPool(host='www.mfaibaf.com', port=80): Max retries exceeded with url: /images/1PhD%20COLLOQUIUM%20SESSION.pdf (Caused by NewConnectionError('<urllib3.connection.HTTPConnection object at 0x7f47a84ea7c0>: Failed to establish a new connection: [Errno -2] Name or service not known'))\n"
     ]
    },
    {
     "name": "stderr",
     "output_type": "stream",
     "text": [
      "\r",
      " 98%|████████████████████████████████▏| 85614/87736 [7:56:10<1:21:36,  2.31s/it]"
     ]
    },
    {
     "name": "stdout",
     "output_type": "stream",
     "text": [
      "0 HTTPConnectionPool(host='www.mfaibaf.com', port=80): Max retries exceeded with url: /images/2PARALLEL%20SESSION.pdf (Caused by NewConnectionError('<urllib3.connection.HTTPConnection object at 0x7f47a86a0fd0>: Failed to establish a new connection: [Errno -2] Name or service not known'))\n",
      "1 HTTPConnectionPool(host='www.mfaibaf.com', port=80): Max retries exceeded with url: /images/2PARALLEL%20SESSION.pdf (Caused by NewConnectionError('<urllib3.connection.HTTPConnection object at 0x7f47a86a0f70>: Failed to establish a new connection: [Errno -2] Name or service not known'))\n",
      "2 HTTPConnectionPool(host='www.mfaibaf.com', port=80): Max retries exceeded with url: /images/2PARALLEL%20SESSION.pdf (Caused by NewConnectionError('<urllib3.connection.HTTPConnection object at 0x7f47a86e4fa0>: Failed to establish a new connection: [Errno -2] Name or service not known'))\n"
     ]
    },
    {
     "name": "stderr",
     "output_type": "stream",
     "text": [
      " 98%|██████████████████████████████████▏| 85718/87736 [8:04:41<58:57,  1.75s/it]"
     ]
    },
    {
     "name": "stdout",
     "output_type": "stream",
     "text": [
      "0 HTTPConnectionPool(host='www.mtns2012.conference.net.au', port=80): Max retries exceeded with url: /Full%20Paper/MTNS2012_0290_paper.pdf (Caused by NewConnectionError('<urllib3.connection.HTTPConnection object at 0x7f47a85aa820>: Failed to establish a new connection: [Errno -2] Name or service not known'))\n",
      "1 HTTPConnectionPool(host='www.mtns2012.conference.net.au', port=80): Max retries exceeded with url: /Full%20Paper/MTNS2012_0290_paper.pdf (Caused by NewConnectionError('<urllib3.connection.HTTPConnection object at 0x7f47a85aa820>: Failed to establish a new connection: [Errno -2] Name or service not known'))\n",
      "2 HTTPConnectionPool(host='www.mtns2012.conference.net.au', port=80): Max retries exceeded with url: /Full%20Paper/MTNS2012_0290_paper.pdf (Caused by NewConnectionError('<urllib3.connection.HTTPConnection object at 0x7f47a85aadf0>: Failed to establish a new connection: [Errno -2] Name or service not known'))\n"
     ]
    },
    {
     "name": "stderr",
     "output_type": "stream",
     "text": [
      " 98%|████████████████████████████████▏| 85734/87736 [8:05:11<1:26:57,  2.61s/it]"
     ]
    },
    {
     "name": "stdout",
     "output_type": "stream",
     "text": [
      "0 HTTPConnectionPool(host='www.natpro5.psu.ac.th', port=80): Max retries exceeded with url: /download/Final%20Full%20Proceeding%20Natpro5.pdf (Caused by NewConnectionError('<urllib3.connection.HTTPConnection object at 0x7f47a85aafa0>: Failed to establish a new connection: [Errno -2] Name or service not known'))\n",
      "1 HTTPConnectionPool(host='www.natpro5.psu.ac.th', port=80): Max retries exceeded with url: /download/Final%20Full%20Proceeding%20Natpro5.pdf (Caused by NewConnectionError('<urllib3.connection.HTTPConnection object at 0x7f47a85aa130>: Failed to establish a new connection: [Errno -2] Name or service not known'))\n",
      "2 HTTPConnectionPool(host='www.natpro5.psu.ac.th', port=80): Max retries exceeded with url: /download/Final%20Full%20Proceeding%20Natpro5.pdf (Caused by NewConnectionError('<urllib3.connection.HTTPConnection object at 0x7f47a85aa9d0>: Failed to establish a new connection: [Errno -2] Name or service not known'))\n"
     ]
    },
    {
     "name": "stderr",
     "output_type": "stream",
     "text": [
      " 98%|██████████████████████████████████▏| 85759/87736 [8:06:00<42:06,  1.28s/it]"
     ]
    },
    {
     "name": "stdout",
     "output_type": "stream",
     "text": [
      "0 HTTPConnectionPool(host='www.oceans10ieeesydney.org', port=80): Max retries exceeded with url: /userfiles/files/OCEANS10-ProgramBook.pdf (Caused by NewConnectionError('<urllib3.connection.HTTPConnection object at 0x7f47a86e4160>: Failed to establish a new connection: [Errno -2] Name or service not known'))\n",
      "1 HTTPConnectionPool(host='www.oceans10ieeesydney.org', port=80): Max retries exceeded with url: /userfiles/files/OCEANS10-ProgramBook.pdf (Caused by NewConnectionError('<urllib3.connection.HTTPConnection object at 0x7f47a86e4e20>: Failed to establish a new connection: [Errno -2] Name or service not known'))\n",
      "2 HTTPConnectionPool(host='www.oceans10ieeesydney.org', port=80): Max retries exceeded with url: /userfiles/files/OCEANS10-ProgramBook.pdf (Caused by NewConnectionError('<urllib3.connection.HTTPConnection object at 0x7f47a86e40d0>: Failed to establish a new connection: [Errno -2] Name or service not known'))\n"
     ]
    },
    {
     "name": "stderr",
     "output_type": "stream",
     "text": [
      " 98%|████████████████████████████████▎| 85780/87736 [8:06:52<1:35:54,  2.94s/it]"
     ]
    },
    {
     "name": "stdout",
     "output_type": "stream",
     "text": [
      "0 HTTPConnectionPool(host='www.onlinereview.segi.edu.my', port=80): Max retries exceeded with url: /pdf/vol8-no1-art9.pdf (Caused by NewConnectionError('<urllib3.connection.HTTPConnection object at 0x7f47a86e4280>: Failed to establish a new connection: [Errno -2] Name or service not known'))\n",
      "1 HTTPConnectionPool(host='www.onlinereview.segi.edu.my', port=80): Max retries exceeded with url: /pdf/vol8-no1-art9.pdf (Caused by NewConnectionError('<urllib3.connection.HTTPConnection object at 0x7f47a85aa550>: Failed to establish a new connection: [Errno -2] Name or service not known'))\n",
      "2 HTTPConnectionPool(host='www.onlinereview.segi.edu.my', port=80): Max retries exceeded with url: /pdf/vol8-no1-art9.pdf (Caused by NewConnectionError('<urllib3.connection.HTTPConnection object at 0x7f47a86e46d0>: Failed to establish a new connection: [Errno -2] Name or service not known'))\n"
     ]
    },
    {
     "name": "stderr",
     "output_type": "stream",
     "text": [
      " 98%|████████████████████████████████▎| 85801/87736 [8:07:36<1:32:01,  2.85s/it]"
     ]
    },
    {
     "name": "stdout",
     "output_type": "stream",
     "text": [
      "0 HTTPConnectionPool(host='www.perak.uitm.edu.my', port=80): Max retries exceeded with url: /ncitsbe2012/images/sessionv11.pdf (Caused by NewConnectionError('<urllib3.connection.HTTPConnection object at 0x7f47a86e4790>: Failed to establish a new connection: [Errno -2] Name or service not known'))\n",
      "1 HTTPConnectionPool(host='www.perak.uitm.edu.my', port=80): Max retries exceeded with url: /ncitsbe2012/images/sessionv11.pdf (Caused by NewConnectionError('<urllib3.connection.HTTPConnection object at 0x7f47a86e4130>: Failed to establish a new connection: [Errno -2] Name or service not known'))\n",
      "2 HTTPConnectionPool(host='www.perak.uitm.edu.my', port=80): Max retries exceeded with url: /ncitsbe2012/images/sessionv11.pdf (Caused by NewConnectionError('<urllib3.connection.HTTPConnection object at 0x7f47a86e4130>: Failed to establish a new connection: [Errno -2] Name or service not known'))\n"
     ]
    },
    {
     "name": "stderr",
     "output_type": "stream",
     "text": [
      "\r",
      " 98%|████████████████████████████████▎| 85802/87736 [8:07:38<1:19:58,  2.48s/it]"
     ]
    },
    {
     "name": "stdout",
     "output_type": "stream",
     "text": [
      "0 HTTPConnectionPool(host='www.perak.uitm.edu.my', port=80): Max retries exceeded with url: /ncitsbe2012/images/sessionv14.pdf (Caused by NewConnectionError('<urllib3.connection.HTTPConnection object at 0x7f47a86e4220>: Failed to establish a new connection: [Errno -2] Name or service not known'))\n",
      "1 HTTPConnectionPool(host='www.perak.uitm.edu.my', port=80): Max retries exceeded with url: /ncitsbe2012/images/sessionv14.pdf (Caused by NewConnectionError('<urllib3.connection.HTTPConnection object at 0x7f47a86e4fa0>: Failed to establish a new connection: [Errno -2] Name or service not known'))\n",
      "2 HTTPConnectionPool(host='www.perak.uitm.edu.my', port=80): Max retries exceeded with url: /ncitsbe2012/images/sessionv14.pdf (Caused by NewConnectionError('<urllib3.connection.HTTPConnection object at 0x7f47a86e4fa0>: Failed to establish a new connection: [Errno -2] Name or service not known'))\n"
     ]
    },
    {
     "name": "stderr",
     "output_type": "stream",
     "text": [
      " 98%|██████████████████████████████████▎| 85891/87736 [8:07:57<12:49,  2.40it/s]"
     ]
    },
    {
     "name": "stdout",
     "output_type": "stream",
     "text": [
      "0 HTTPConnectionPool(host='www.physics.queensu.ca', port=80): Max retries exceeded with url: /~lynann/references/research27.pdf (Caused by NewConnectionError('<urllib3.connection.HTTPConnection object at 0x7f47a86e4c70>: Failed to establish a new connection: [Errno 110] Connection timed out'))\n",
      "1 HTTPConnectionPool(host='www.physics.queensu.ca', port=80): Max retries exceeded with url: /~lynann/references/research27.pdf (Caused by NewConnectionError('<urllib3.connection.HTTPConnection object at 0x7f47a858c280>: Failed to establish a new connection: [Errno 110] Connection timed out'))\n",
      "2 HTTPConnectionPool(host='www.physics.queensu.ca', port=80): Max retries exceeded with url: /~lynann/references/research27.pdf (Caused by NewConnectionError('<urllib3.connection.HTTPConnection object at 0x7f47a85aa280>: Failed to establish a new connection: [Errno 110] Connection timed out'))\n"
     ]
    },
    {
     "name": "stderr",
     "output_type": "stream",
     "text": [
      " 98%|████████████████████████████████▎| 85935/87736 [8:16:52<1:39:51,  3.33s/it]"
     ]
    },
    {
     "name": "stdout",
     "output_type": "stream",
     "text": [
      "0 HTTPConnectionPool(host='www.regres.tesma.org.my', port=80): Max retries exceeded with url: /pdf/Program%20Book%20MTERMS2012.pdf (Caused by NewConnectionError('<urllib3.connection.HTTPConnection object at 0x7f47a858e2b0>: Failed to establish a new connection: [Errno -2] Name or service not known'))\n",
      "1 HTTPConnectionPool(host='www.regres.tesma.org.my', port=80): Max retries exceeded with url: /pdf/Program%20Book%20MTERMS2012.pdf (Caused by NewConnectionError('<urllib3.connection.HTTPConnection object at 0x7f47a858ea90>: Failed to establish a new connection: [Errno -2] Name or service not known'))\n",
      "2 HTTPConnectionPool(host='www.regres.tesma.org.my', port=80): Max retries exceeded with url: /pdf/Program%20Book%20MTERMS2012.pdf (Caused by NewConnectionError('<urllib3.connection.HTTPConnection object at 0x7f47a858ee80>: Failed to establish a new connection: [Errno -2] Name or service not known'))\n"
     ]
    },
    {
     "name": "stderr",
     "output_type": "stream",
     "text": [
      "\r",
      " 98%|████████████████████████████████▎| 85936/87736 [8:16:54<1:24:41,  2.82s/it]"
     ]
    },
    {
     "name": "stdout",
     "output_type": "stream",
     "text": [
      "0 HTTPConnectionPool(host='www.regres.tesma.org.my', port=80): Max retries exceeded with url: /pdf/RR-181114-074.pdf (Caused by NewConnectionError('<urllib3.connection.HTTPConnection object at 0x7f47a858ebe0>: Failed to establish a new connection: [Errno -2] Name or service not known'))\n",
      "1 HTTPConnectionPool(host='www.regres.tesma.org.my', port=80): Max retries exceeded with url: /pdf/RR-181114-074.pdf (Caused by NewConnectionError('<urllib3.connection.HTTPConnection object at 0x7f47a858e700>: Failed to establish a new connection: [Errno -2] Name or service not known'))\n",
      "2 HTTPConnectionPool(host='www.regres.tesma.org.my', port=80): Max retries exceeded with url: /pdf/RR-181114-074.pdf (Caused by NewConnectionError('<urllib3.connection.HTTPConnection object at 0x7f47a858ea90>: Failed to establish a new connection: [Errno -2] Name or service not known'))\n"
     ]
    },
    {
     "name": "stderr",
     "output_type": "stream",
     "text": [
      " 98%|██████████████████████████████████▎| 85943/87736 [8:17:02<39:35,  1.32s/it]"
     ]
    },
    {
     "name": "stdout",
     "output_type": "stream",
     "text": [
      "0 Exceeded 30 redirects.\n",
      "1 Exceeded 30 redirects.\n",
      "2 Exceeded 30 redirects.\n"
     ]
    },
    {
     "name": "stderr",
     "output_type": "stream",
     "text": [
      " 98%|██████████████████████████████████▎| 85980/87736 [8:18:19<49:41,  1.70s/it]"
     ]
    },
    {
     "name": "stdout",
     "output_type": "stream",
     "text": [
      "0 HTTPSConnectionPool(host='www.www.serialsjournals.com', port=443): Max retries exceeded with url: /index.php?_route_=serialjournalmanager/pdf/1486011134.pdf (Caused by NewConnectionError('<urllib3.connection.HTTPSConnection object at 0x7f47a8727310>: Failed to establish a new connection: [Errno -2] Name or service not known'))\n",
      "1 HTTPSConnectionPool(host='www.www.serialsjournals.com', port=443): Max retries exceeded with url: /index.php?_route_=serialjournalmanager/pdf/1486011134.pdf (Caused by NewConnectionError('<urllib3.connection.HTTPSConnection object at 0x7f47a8727dc0>: Failed to establish a new connection: [Errno -2] Name or service not known'))\n",
      "2 HTTPSConnectionPool(host='www.www.serialsjournals.com', port=443): Max retries exceeded with url: /index.php?_route_=serialjournalmanager/pdf/1486011134.pdf (Caused by NewConnectionError('<urllib3.connection.HTTPSConnection object at 0x7f47a87270d0>: Failed to establish a new connection: [Errno -2] Name or service not known'))\n"
     ]
    },
    {
     "name": "stderr",
     "output_type": "stream",
     "text": [
      "\r",
      " 98%|████████████████████████████████▎| 85981/87736 [8:18:22<1:04:25,  2.20s/it]"
     ]
    },
    {
     "name": "stdout",
     "output_type": "stream",
     "text": [
      "0 HTTPSConnectionPool(host='www.www.serialsjournals.com', port=443): Max retries exceeded with url: /index.php?_route_=serialjournalmanager/pdf/1503993668.pdf (Caused by NewConnectionError('<urllib3.connection.HTTPSConnection object at 0x7f47a8727dc0>: Failed to establish a new connection: [Errno -2] Name or service not known'))\n",
      "1 HTTPSConnectionPool(host='www.www.serialsjournals.com', port=443): Max retries exceeded with url: /index.php?_route_=serialjournalmanager/pdf/1503993668.pdf (Caused by NewConnectionError('<urllib3.connection.HTTPSConnection object at 0x7f47a87270d0>: Failed to establish a new connection: [Errno -2] Name or service not known'))\n",
      "2 HTTPSConnectionPool(host='www.www.serialsjournals.com', port=443): Max retries exceeded with url: /index.php?_route_=serialjournalmanager/pdf/1503993668.pdf (Caused by NewConnectionError('<urllib3.connection.HTTPSConnection object at 0x7f47a8727f70>: Failed to establish a new connection: [Errno -2] Name or service not known'))\n"
     ]
    },
    {
     "name": "stderr",
     "output_type": "stream",
     "text": [
      "\r",
      " 98%|████████████████████████████████▎| 85982/87736 [8:18:25<1:11:23,  2.44s/it]"
     ]
    },
    {
     "name": "stdout",
     "output_type": "stream",
     "text": [
      "0 HTTPConnectionPool(host='www.sersc.org', port=80): Max retries exceeded with url: /journals/IJBSBT/vol6_no3/9.pdf (Caused by NewConnectionError('<urllib3.connection.HTTPConnection object at 0x7f47a8720400>: Failed to establish a new connection: [Errno -2] Name or service not known'))\n",
      "1 HTTPConnectionPool(host='www.sersc.org', port=80): Max retries exceeded with url: /journals/IJBSBT/vol6_no3/9.pdf (Caused by NewConnectionError('<urllib3.connection.HTTPConnection object at 0x7f47a86addf0>: Failed to establish a new connection: [Errno -2] Name or service not known'))\n",
      "2 HTTPConnectionPool(host='www.sersc.org', port=80): Max retries exceeded with url: /journals/IJBSBT/vol6_no3/9.pdf (Caused by NewConnectionError('<urllib3.connection.HTTPConnection object at 0x7f47a8720400>: Failed to establish a new connection: [Errno -2] Name or service not known'))\n"
     ]
    },
    {
     "name": "stderr",
     "output_type": "stream",
     "text": [
      "\r",
      " 98%|████████████████████████████████▎| 85983/87736 [8:18:27<1:04:38,  2.21s/it]"
     ]
    },
    {
     "name": "stdout",
     "output_type": "stream",
     "text": [
      "0 HTTPConnectionPool(host='www.sersc.org', port=80): Max retries exceeded with url: /journals/IJBSBT/vol8_no3/2.pdf (Caused by NewConnectionError('<urllib3.connection.HTTPConnection object at 0x7f47a8701ee0>: Failed to establish a new connection: [Errno -2] Name or service not known'))\n",
      "1 HTTPConnectionPool(host='www.sersc.org', port=80): Max retries exceeded with url: /journals/IJBSBT/vol8_no3/2.pdf (Caused by NewConnectionError('<urllib3.connection.HTTPConnection object at 0x7f47a8720130>: Failed to establish a new connection: [Errno -2] Name or service not known'))\n",
      "2 HTTPConnectionPool(host='www.sersc.org', port=80): Max retries exceeded with url: /journals/IJBSBT/vol8_no3/2.pdf (Caused by NewConnectionError('<urllib3.connection.HTTPConnection object at 0x7f47a86ada90>: Failed to establish a new connection: [Errno -2] Name or service not known'))\n"
     ]
    },
    {
     "name": "stderr",
     "output_type": "stream",
     "text": [
      "\r",
      " 98%|██████████████████████████████████▎| 85984/87736 [8:18:29<59:15,  2.03s/it]"
     ]
    },
    {
     "name": "stdout",
     "output_type": "stream",
     "text": [
      "0 HTTPConnectionPool(host='www.sersc.org', port=80): Max retries exceeded with url: /journals/IJBSBT/vol8_no4/10.pdf (Caused by NewConnectionError('<urllib3.connection.HTTPConnection object at 0x7f47a8720070>: Failed to establish a new connection: [Errno -2] Name or service not known'))\n",
      "1 HTTPConnectionPool(host='www.sersc.org', port=80): Max retries exceeded with url: /journals/IJBSBT/vol8_no4/10.pdf (Caused by NewConnectionError('<urllib3.connection.HTTPConnection object at 0x7f47a86ad160>: Failed to establish a new connection: [Errno -2] Name or service not known'))\n",
      "2 HTTPConnectionPool(host='www.sersc.org', port=80): Max retries exceeded with url: /journals/IJBSBT/vol8_no4/10.pdf (Caused by NewConnectionError('<urllib3.connection.HTTPConnection object at 0x7f47a8720070>: Failed to establish a new connection: [Errno -2] Name or service not known'))\n"
     ]
    },
    {
     "name": "stderr",
     "output_type": "stream",
     "text": [
      "\r",
      " 98%|██████████████████████████████████▎| 85985/87736 [8:18:30<55:34,  1.90s/it]"
     ]
    },
    {
     "name": "stdout",
     "output_type": "stream",
     "text": [
      "0 HTTPConnectionPool(host='www.sersc.org', port=80): Max retries exceeded with url: /journals/IJBSBT/vol8_no5/2.pdf (Caused by NewConnectionError('<urllib3.connection.HTTPConnection object at 0x7f47a86ad070>: Failed to establish a new connection: [Errno -2] Name or service not known'))\n",
      "1 HTTPConnectionPool(host='www.sersc.org', port=80): Max retries exceeded with url: /journals/IJBSBT/vol8_no5/2.pdf (Caused by NewConnectionError('<urllib3.connection.HTTPConnection object at 0x7f47a8720df0>: Failed to establish a new connection: [Errno -2] Name or service not known'))\n",
      "2 HTTPConnectionPool(host='www.sersc.org', port=80): Max retries exceeded with url: /journals/IJBSBT/vol8_no5/2.pdf (Caused by NewConnectionError('<urllib3.connection.HTTPConnection object at 0x7f47a86ad280>: Failed to establish a new connection: [Errno -2] Name or service not known'))\n"
     ]
    },
    {
     "name": "stderr",
     "output_type": "stream",
     "text": [
      "\r",
      " 98%|██████████████████████████████████▎| 85986/87736 [8:18:32<52:46,  1.81s/it]"
     ]
    },
    {
     "name": "stdout",
     "output_type": "stream",
     "text": [
      "0 HTTPConnectionPool(host='www.sersc.org', port=80): Max retries exceeded with url: /journals/IJCA/vol7_no3/37.pdf (Caused by NewConnectionError('<urllib3.connection.HTTPConnection object at 0x7f47a8720100>: Failed to establish a new connection: [Errno -2] Name or service not known'))\n",
      "1 HTTPConnectionPool(host='www.sersc.org', port=80): Max retries exceeded with url: /journals/IJCA/vol7_no3/37.pdf (Caused by NewConnectionError('<urllib3.connection.HTTPConnection object at 0x7f47a86ad280>: Failed to establish a new connection: [Errno -2] Name or service not known'))\n",
      "2 HTTPConnectionPool(host='www.sersc.org', port=80): Max retries exceeded with url: /journals/IJCA/vol7_no3/37.pdf (Caused by NewConnectionError('<urllib3.connection.HTTPConnection object at 0x7f47a8720fa0>: Failed to establish a new connection: [Errno -2] Name or service not known'))\n"
     ]
    },
    {
     "name": "stderr",
     "output_type": "stream",
     "text": [
      "\r",
      " 98%|██████████████████████████████████▎| 85987/87736 [8:18:34<50:51,  1.74s/it]"
     ]
    },
    {
     "name": "stdout",
     "output_type": "stream",
     "text": [
      "0 HTTPConnectionPool(host='www.sersc.org', port=80): Max retries exceeded with url: /journals/IJFGCN/vol10_no10/6.pdf (Caused by NewConnectionError('<urllib3.connection.HTTPConnection object at 0x7f47a86ada90>: Failed to establish a new connection: [Errno -2] Name or service not known'))\n",
      "1 HTTPConnectionPool(host='www.sersc.org', port=80): Max retries exceeded with url: /journals/IJFGCN/vol10_no10/6.pdf (Caused by NewConnectionError('<urllib3.connection.HTTPConnection object at 0x7f47a87200d0>: Failed to establish a new connection: [Errno -2] Name or service not known'))\n",
      "2 HTTPConnectionPool(host='www.sersc.org', port=80): Max retries exceeded with url: /journals/IJFGCN/vol10_no10/6.pdf (Caused by NewConnectionError('<urllib3.connection.HTTPConnection object at 0x7f47a86ad100>: Failed to establish a new connection: [Errno -2] Name or service not known'))\n"
     ]
    },
    {
     "name": "stderr",
     "output_type": "stream",
     "text": [
      "\r",
      " 98%|██████████████████████████████████▎| 85988/87736 [8:18:35<49:33,  1.70s/it]"
     ]
    },
    {
     "name": "stdout",
     "output_type": "stream",
     "text": [
      "0 HTTPConnectionPool(host='www.sersc.org', port=80): Max retries exceeded with url: /journals/IJFGCN/vol10_no2/6.pdf (Caused by NewConnectionError('<urllib3.connection.HTTPConnection object at 0x7f47a8720400>: Failed to establish a new connection: [Errno -2] Name or service not known'))\n",
      "1 HTTPConnectionPool(host='www.sersc.org', port=80): Max retries exceeded with url: /journals/IJFGCN/vol10_no2/6.pdf (Caused by NewConnectionError('<urllib3.connection.HTTPConnection object at 0x7f47a86addf0>: Failed to establish a new connection: [Errno -2] Name or service not known'))\n",
      "2 HTTPConnectionPool(host='www.sersc.org', port=80): Max retries exceeded with url: /journals/IJFGCN/vol10_no2/6.pdf (Caused by NewConnectionError('<urllib3.connection.HTTPConnection object at 0x7f47a8720640>: Failed to establish a new connection: [Errno -2] Name or service not known'))\n"
     ]
    },
    {
     "name": "stderr",
     "output_type": "stream",
     "text": [
      "\r",
      " 98%|██████████████████████████████████▎| 85989/87736 [8:18:37<48:37,  1.67s/it]"
     ]
    },
    {
     "name": "stdout",
     "output_type": "stream",
     "text": [
      "0 HTTPConnectionPool(host='www.sersc.org', port=80): Max retries exceeded with url: /journals/IJFGCN/vol10_no3/5.pdf (Caused by NewConnectionError('<urllib3.connection.HTTPConnection object at 0x7f47a86adac0>: Failed to establish a new connection: [Errno -2] Name or service not known'))\n",
      "1 HTTPConnectionPool(host='www.sersc.org', port=80): Max retries exceeded with url: /journals/IJFGCN/vol10_no3/5.pdf (Caused by NewConnectionError('<urllib3.connection.HTTPConnection object at 0x7f47a8720100>: Failed to establish a new connection: [Errno -2] Name or service not known'))\n",
      "2 HTTPConnectionPool(host='www.sersc.org', port=80): Max retries exceeded with url: /journals/IJFGCN/vol10_no3/5.pdf (Caused by NewConnectionError('<urllib3.connection.HTTPConnection object at 0x7f47a86ad280>: Failed to establish a new connection: [Errno -2] Name or service not known'))\n"
     ]
    },
    {
     "name": "stderr",
     "output_type": "stream",
     "text": [
      "\r",
      " 98%|██████████████████████████████████▎| 85990/87736 [8:18:38<47:53,  1.65s/it]"
     ]
    },
    {
     "name": "stdout",
     "output_type": "stream",
     "text": [
      "0 HTTPConnectionPool(host='www.sersc.org', port=80): Max retries exceeded with url: /journals/IJFGCN/vol10_no3/6.pdf (Caused by NewConnectionError('<urllib3.connection.HTTPConnection object at 0x7f47a8720130>: Failed to establish a new connection: [Errno -2] Name or service not known'))\n",
      "1 HTTPConnectionPool(host='www.sersc.org', port=80): Max retries exceeded with url: /journals/IJFGCN/vol10_no3/6.pdf (Caused by NewConnectionError('<urllib3.connection.HTTPConnection object at 0x7f47a86ad160>: Failed to establish a new connection: [Errno -2] Name or service not known'))\n",
      "2 HTTPConnectionPool(host='www.sersc.org', port=80): Max retries exceeded with url: /journals/IJFGCN/vol10_no3/6.pdf (Caused by NewConnectionError('<urllib3.connection.HTTPConnection object at 0x7f47a8720070>: Failed to establish a new connection: [Errno -2] Name or service not known'))\n"
     ]
    },
    {
     "name": "stderr",
     "output_type": "stream",
     "text": [
      "\r",
      " 98%|██████████████████████████████████▎| 85991/87736 [8:18:40<47:32,  1.63s/it]"
     ]
    },
    {
     "name": "stdout",
     "output_type": "stream",
     "text": [
      "0 HTTPConnectionPool(host='www.sersc.org', port=80): Max retries exceeded with url: /journals/IJFGCN/vol10_no3/9.pdf (Caused by NewConnectionError('<urllib3.connection.HTTPConnection object at 0x7f47a86adac0>: Failed to establish a new connection: [Errno -2] Name or service not known'))\n",
      "1 HTTPConnectionPool(host='www.sersc.org', port=80): Max retries exceeded with url: /journals/IJFGCN/vol10_no3/9.pdf (Caused by NewConnectionError('<urllib3.connection.HTTPConnection object at 0x7f47a8720970>: Failed to establish a new connection: [Errno -2] Name or service not known'))\n",
      "2 HTTPConnectionPool(host='www.sersc.org', port=80): Max retries exceeded with url: /journals/IJFGCN/vol10_no3/9.pdf (Caused by NewConnectionError('<urllib3.connection.HTTPConnection object at 0x7f47a86ad100>: Failed to establish a new connection: [Errno -2] Name or service not known'))\n"
     ]
    },
    {
     "name": "stderr",
     "output_type": "stream",
     "text": [
      "\r",
      " 98%|██████████████████████████████████▎| 85992/87736 [8:18:42<47:09,  1.62s/it]"
     ]
    },
    {
     "name": "stdout",
     "output_type": "stream",
     "text": [
      "0 HTTPConnectionPool(host='www.sersc.org', port=80): Max retries exceeded with url: /journals/IJFGCN/vol10_no4/2.pdf (Caused by NewConnectionError('<urllib3.connection.HTTPConnection object at 0x7f47a8720970>: Failed to establish a new connection: [Errno -2] Name or service not known'))\n",
      "1 HTTPConnectionPool(host='www.sersc.org', port=80): Max retries exceeded with url: /journals/IJFGCN/vol10_no4/2.pdf (Caused by NewConnectionError('<urllib3.connection.HTTPConnection object at 0x7f47a86ad640>: Failed to establish a new connection: [Errno -2] Name or service not known'))\n",
      "2 HTTPConnectionPool(host='www.sersc.org', port=80): Max retries exceeded with url: /journals/IJFGCN/vol10_no4/2.pdf (Caused by NewConnectionError('<urllib3.connection.HTTPConnection object at 0x7f47a8720970>: Failed to establish a new connection: [Errno -2] Name or service not known'))\n"
     ]
    },
    {
     "name": "stderr",
     "output_type": "stream",
     "text": [
      "\r",
      " 98%|██████████████████████████████████▎| 85993/87736 [8:18:43<46:57,  1.62s/it]"
     ]
    },
    {
     "name": "stdout",
     "output_type": "stream",
     "text": [
      "0 HTTPConnectionPool(host='www.sersc.org', port=80): Max retries exceeded with url: /journals/IJFGCN/vol9_no9/2.pdf (Caused by NewConnectionError('<urllib3.connection.HTTPConnection object at 0x7f47a86addf0>: Failed to establish a new connection: [Errno -2] Name or service not known'))\n",
      "1 HTTPConnectionPool(host='www.sersc.org', port=80): Max retries exceeded with url: /journals/IJFGCN/vol9_no9/2.pdf (Caused by NewConnectionError('<urllib3.connection.HTTPConnection object at 0x7f47a8720fa0>: Failed to establish a new connection: [Errno -2] Name or service not known'))\n",
      "2 HTTPConnectionPool(host='www.sersc.org', port=80): Max retries exceeded with url: /journals/IJFGCN/vol9_no9/2.pdf (Caused by NewConnectionError('<urllib3.connection.HTTPConnection object at 0x7f47a86ada90>: Failed to establish a new connection: [Errno -2] Name or service not known'))\n"
     ]
    },
    {
     "name": "stderr",
     "output_type": "stream",
     "text": [
      "\r",
      " 98%|██████████████████████████████████▎| 85994/87736 [8:18:45<46:48,  1.61s/it]"
     ]
    },
    {
     "name": "stdout",
     "output_type": "stream",
     "text": [
      "0 HTTPConnectionPool(host='www.sersc.org', port=80): Max retries exceeded with url: /journals/IJHIT/vol9_no4_2016/24.pdf (Caused by NewConnectionError('<urllib3.connection.HTTPConnection object at 0x7f47a8720190>: Failed to establish a new connection: [Errno -2] Name or service not known'))\n",
      "1 HTTPConnectionPool(host='www.sersc.org', port=80): Max retries exceeded with url: /journals/IJHIT/vol9_no4_2016/24.pdf (Caused by NewConnectionError('<urllib3.connection.HTTPConnection object at 0x7f47a86adbb0>: Failed to establish a new connection: [Errno -2] Name or service not known'))\n",
      "2 HTTPConnectionPool(host='www.sersc.org', port=80): Max retries exceeded with url: /journals/IJHIT/vol9_no4_2016/24.pdf (Caused by NewConnectionError('<urllib3.connection.HTTPConnection object at 0x7f47a8720190>: Failed to establish a new connection: [Errno -2] Name or service not known'))\n"
     ]
    },
    {
     "name": "stderr",
     "output_type": "stream",
     "text": [
      "\r",
      " 98%|██████████████████████████████████▎| 85995/87736 [8:18:46<46:42,  1.61s/it]"
     ]
    },
    {
     "name": "stdout",
     "output_type": "stream",
     "text": [
      "0 HTTPConnectionPool(host='www.sersc.org', port=80): Max retries exceeded with url: /journals/IJHIT/vol9_no7_2016/38.pdf (Caused by NewConnectionError('<urllib3.connection.HTTPConnection object at 0x7f47a86adc40>: Failed to establish a new connection: [Errno -2] Name or service not known'))\n",
      "1 HTTPConnectionPool(host='www.sersc.org', port=80): Max retries exceeded with url: /journals/IJHIT/vol9_no7_2016/38.pdf (Caused by NewConnectionError('<urllib3.connection.HTTPConnection object at 0x7f47a8720400>: Failed to establish a new connection: [Errno -2] Name or service not known'))\n",
      "2 HTTPConnectionPool(host='www.sersc.org', port=80): Max retries exceeded with url: /journals/IJHIT/vol9_no7_2016/38.pdf (Caused by NewConnectionError('<urllib3.connection.HTTPConnection object at 0x7f47a86addf0>: Failed to establish a new connection: [Errno -2] Name or service not known'))\n"
     ]
    },
    {
     "name": "stderr",
     "output_type": "stream",
     "text": [
      "\r",
      " 98%|██████████████████████████████████▎| 85996/87736 [8:18:48<46:38,  1.61s/it]"
     ]
    },
    {
     "name": "stdout",
     "output_type": "stream",
     "text": [
      "0 HTTPConnectionPool(host='www.sersc.org', port=80): Max retries exceeded with url: /journals/IJMUE/vol11_no10_2016/24.pdf (Caused by NewConnectionError('<urllib3.connection.HTTPConnection object at 0x7f47a87200d0>: Failed to establish a new connection: [Errno -2] Name or service not known'))\n",
      "1 HTTPConnectionPool(host='www.sersc.org', port=80): Max retries exceeded with url: /journals/IJMUE/vol11_no10_2016/24.pdf (Caused by NewConnectionError('<urllib3.connection.HTTPConnection object at 0x7f47a8720130>: Failed to establish a new connection: [Errno -2] Name or service not known'))\n",
      "2 HTTPConnectionPool(host='www.sersc.org', port=80): Max retries exceeded with url: /journals/IJMUE/vol11_no10_2016/24.pdf (Caused by NewConnectionError('<urllib3.connection.HTTPConnection object at 0x7f47a8702370>: Failed to establish a new connection: [Errno -2] Name or service not known'))\n"
     ]
    },
    {
     "name": "stderr",
     "output_type": "stream",
     "text": [
      "\r",
      " 98%|██████████████████████████████████▎| 85997/87736 [8:18:50<46:31,  1.61s/it]"
     ]
    },
    {
     "name": "stdout",
     "output_type": "stream",
     "text": [
      "0 HTTPConnectionPool(host='www.sersc.org', port=80): Max retries exceeded with url: /journals/IJMUE/vol12_no2_2017/13.pdf (Caused by NewConnectionError('<urllib3.connection.HTTPConnection object at 0x7f47a86addf0>: Failed to establish a new connection: [Errno -2] Name or service not known'))\n",
      "1 HTTPConnectionPool(host='www.sersc.org', port=80): Max retries exceeded with url: /journals/IJMUE/vol12_no2_2017/13.pdf (Caused by NewConnectionError('<urllib3.connection.HTTPConnection object at 0x7f47a8720640>: Failed to establish a new connection: [Errno -2] Name or service not known'))\n",
      "2 HTTPConnectionPool(host='www.sersc.org', port=80): Max retries exceeded with url: /journals/IJMUE/vol12_no2_2017/13.pdf (Caused by NewConnectionError('<urllib3.connection.HTTPConnection object at 0x7f47a86ad160>: Failed to establish a new connection: [Errno -2] Name or service not known'))\n"
     ]
    },
    {
     "name": "stderr",
     "output_type": "stream",
     "text": [
      "\r",
      " 98%|██████████████████████████████████▎| 85998/87736 [8:18:51<46:27,  1.60s/it]"
     ]
    },
    {
     "name": "stdout",
     "output_type": "stream",
     "text": [
      "0 HTTPConnectionPool(host='www.sersc.org', port=80): Max retries exceeded with url: /journals/IJSEIA/vol10_no7_2016/10.pdf (Caused by NewConnectionError('<urllib3.connection.HTTPConnection object at 0x7f47a8720190>: Failed to establish a new connection: [Errno -2] Name or service not known'))\n",
      "1 HTTPConnectionPool(host='www.sersc.org', port=80): Max retries exceeded with url: /journals/IJSEIA/vol10_no7_2016/10.pdf (Caused by NewConnectionError('<urllib3.connection.HTTPConnection object at 0x7f47a86adeb0>: Failed to establish a new connection: [Errno -2] Name or service not known'))\n",
      "2 HTTPConnectionPool(host='www.sersc.org', port=80): Max retries exceeded with url: /journals/IJSEIA/vol10_no7_2016/10.pdf (Caused by NewConnectionError('<urllib3.connection.HTTPConnection object at 0x7f47a8720970>: Failed to establish a new connection: [Errno -2] Name or service not known'))\n"
     ]
    },
    {
     "name": "stderr",
     "output_type": "stream",
     "text": [
      "\r",
      " 98%|██████████████████████████████████▎| 85999/87736 [8:18:53<46:18,  1.60s/it]"
     ]
    },
    {
     "name": "stdout",
     "output_type": "stream",
     "text": [
      "0 HTTPConnectionPool(host='www.sersc.org', port=80): Max retries exceeded with url: /journals/IJSH/vol10_no5_2016/32.pdf (Caused by NewConnectionError('<urllib3.connection.HTTPConnection object at 0x7f47a86addf0>: Failed to establish a new connection: [Errno -2] Name or service not known'))\n",
      "1 HTTPConnectionPool(host='www.sersc.org', port=80): Max retries exceeded with url: /journals/IJSH/vol10_no5_2016/32.pdf (Caused by NewConnectionError('<urllib3.connection.HTTPConnection object at 0x7f47a8720df0>: Failed to establish a new connection: [Errno -2] Name or service not known'))\n",
      "2 HTTPConnectionPool(host='www.sersc.org', port=80): Max retries exceeded with url: /journals/IJSH/vol10_no5_2016/32.pdf (Caused by NewConnectionError('<urllib3.connection.HTTPConnection object at 0x7f47a86ad160>: Failed to establish a new connection: [Errno -2] Name or service not known'))\n"
     ]
    },
    {
     "name": "stderr",
     "output_type": "stream",
     "text": [
      "\r",
      " 98%|██████████████████████████████████▎| 86000/87736 [8:18:54<46:24,  1.60s/it]"
     ]
    },
    {
     "name": "stdout",
     "output_type": "stream",
     "text": [
      "0 HTTPConnectionPool(host='www.sersc.org', port=80): Max retries exceeded with url: /journals/IJSH/vol10_no7_2016/7.pdf (Caused by NewConnectionError('<urllib3.connection.HTTPConnection object at 0x7f47a8720640>: Failed to establish a new connection: [Errno -2] Name or service not known'))\n",
      "1 HTTPConnectionPool(host='www.sersc.org', port=80): Max retries exceeded with url: /journals/IJSH/vol10_no7_2016/7.pdf (Caused by NewConnectionError('<urllib3.connection.HTTPConnection object at 0x7f47a8765490>: Failed to establish a new connection: [Errno -2] Name or service not known'))\n",
      "2 HTTPConnectionPool(host='www.sersc.org', port=80): Max retries exceeded with url: /journals/IJSH/vol10_no7_2016/7.pdf (Caused by NewConnectionError('<urllib3.connection.HTTPConnection object at 0x7f47a8720400>: Failed to establish a new connection: [Errno -2] Name or service not known'))\n"
     ]
    },
    {
     "name": "stderr",
     "output_type": "stream",
     "text": [
      "\r",
      " 98%|██████████████████████████████████▎| 86001/87736 [8:18:56<46:17,  1.60s/it]"
     ]
    },
    {
     "name": "stdout",
     "output_type": "stream",
     "text": [
      "0 HTTPConnectionPool(host='www.sersc.org', port=80): Max retries exceeded with url: /journals/IJSH/vol10_no8_2016/31.pdf (Caused by NewConnectionError('<urllib3.connection.HTTPConnection object at 0x7f47a86ad100>: Failed to establish a new connection: [Errno -2] Name or service not known'))\n",
      "1 HTTPConnectionPool(host='www.sersc.org', port=80): Max retries exceeded with url: /journals/IJSH/vol10_no8_2016/31.pdf (Caused by NewConnectionError('<urllib3.connection.HTTPConnection object at 0x7f47a8720df0>: Failed to establish a new connection: [Errno -2] Name or service not known'))\n",
      "2 HTTPConnectionPool(host='www.sersc.org', port=80): Max retries exceeded with url: /journals/IJSH/vol10_no8_2016/31.pdf (Caused by NewConnectionError('<urllib3.connection.HTTPConnection object at 0x7f47a86adc40>: Failed to establish a new connection: [Errno -2] Name or service not known'))\n"
     ]
    },
    {
     "name": "stderr",
     "output_type": "stream",
     "text": [
      "\r",
      " 98%|██████████████████████████████████▎| 86002/87736 [8:18:58<46:16,  1.60s/it]"
     ]
    },
    {
     "name": "stdout",
     "output_type": "stream",
     "text": [
      "0 HTTPConnectionPool(host='www.sersc.org', port=80): Max retries exceeded with url: /journals/IJSIP/vol9_no10/2.pdf (Caused by NewConnectionError('<urllib3.connection.HTTPConnection object at 0x7f47a8720970>: Failed to establish a new connection: [Errno -2] Name or service not known'))\n",
      "1 HTTPConnectionPool(host='www.sersc.org', port=80): Max retries exceeded with url: /journals/IJSIP/vol9_no10/2.pdf (Caused by NewConnectionError('<urllib3.connection.HTTPConnection object at 0x7f47a86ad100>: Failed to establish a new connection: [Errno -2] Name or service not known'))\n",
      "2 HTTPConnectionPool(host='www.sersc.org', port=80): Max retries exceeded with url: /journals/IJSIP/vol9_no10/2.pdf (Caused by NewConnectionError('<urllib3.connection.HTTPConnection object at 0x7f47a8720100>: Failed to establish a new connection: [Errno -2] Name or service not known'))\n"
     ]
    },
    {
     "name": "stderr",
     "output_type": "stream",
     "text": [
      "\r",
      " 98%|██████████████████████████████████▎| 86003/87736 [8:18:59<46:22,  1.61s/it]"
     ]
    },
    {
     "name": "stdout",
     "output_type": "stream",
     "text": [
      "0 HTTPConnectionPool(host='www.sersc.org', port=80): Max retries exceeded with url: /journals/IJSIP/vol9_no8/18.pdf (Caused by NewConnectionError('<urllib3.connection.HTTPConnection object at 0x7f47a86addf0>: Failed to establish a new connection: [Errno -2] Name or service not known'))\n",
      "1 HTTPConnectionPool(host='www.sersc.org', port=80): Max retries exceeded with url: /journals/IJSIP/vol9_no8/18.pdf (Caused by NewConnectionError('<urllib3.connection.HTTPConnection object at 0x7f47a8720e50>: Failed to establish a new connection: [Errno -2] Name or service not known'))\n",
      "2 HTTPConnectionPool(host='www.sersc.org', port=80): Max retries exceeded with url: /journals/IJSIP/vol9_no8/18.pdf (Caused by NewConnectionError('<urllib3.connection.HTTPConnection object at 0x7f47a86adbb0>: Failed to establish a new connection: [Errno -2] Name or service not known'))\n"
     ]
    },
    {
     "name": "stderr",
     "output_type": "stream",
     "text": [
      "\r",
      " 98%|██████████████████████████████████▎| 86004/87736 [8:19:01<46:17,  1.60s/it]"
     ]
    },
    {
     "name": "stdout",
     "output_type": "stream",
     "text": [
      "0 HTTPConnectionPool(host='www.sersc.org', port=80): Max retries exceeded with url: /journals/IJUNESST/vol10_no2/5.pdf (Caused by NewConnectionError('<urllib3.connection.HTTPConnection object at 0x7f47a8720400>: Failed to establish a new connection: [Errno -2] Name or service not known'))\n",
      "1 HTTPConnectionPool(host='www.sersc.org', port=80): Max retries exceeded with url: /journals/IJUNESST/vol10_no2/5.pdf (Caused by NewConnectionError('<urllib3.connection.HTTPConnection object at 0x7f47a86ad400>: Failed to establish a new connection: [Errno -2] Name or service not known'))\n",
      "2 HTTPConnectionPool(host='www.sersc.org', port=80): Max retries exceeded with url: /journals/IJUNESST/vol10_no2/5.pdf (Caused by NewConnectionError('<urllib3.connection.HTTPConnection object at 0x7f47a8720fa0>: Failed to establish a new connection: [Errno -2] Name or service not known'))\n"
     ]
    },
    {
     "name": "stderr",
     "output_type": "stream",
     "text": [
      " 98%|██████████████████████████████████▎| 86046/87736 [8:20:11<56:30,  2.01s/it]"
     ]
    },
    {
     "name": "stdout",
     "output_type": "stream",
     "text": [
      "0 HTTPConnectionPool(host='www.socioint14.org', port=80): Max retries exceeded with url: /files/Socioint14_ConfProgramme2.pdf (Caused by NewConnectionError('<urllib3.connection.HTTPConnection object at 0x7f47a8793af0>: Failed to establish a new connection: [Errno -2] Name or service not known'))\n",
      "1 HTTPConnectionPool(host='www.socioint14.org', port=80): Max retries exceeded with url: /files/Socioint14_ConfProgramme2.pdf (Caused by NewConnectionError('<urllib3.connection.HTTPConnection object at 0x7f47c9192d00>: Failed to establish a new connection: [Errno -2] Name or service not known'))\n",
      "2 HTTPConnectionPool(host='www.socioint14.org', port=80): Max retries exceeded with url: /files/Socioint14_ConfProgramme2.pdf (Caused by NewConnectionError('<urllib3.connection.HTTPConnection object at 0x7f47a86a3e80>: Failed to establish a new connection: [Errno -2] Name or service not known'))\n"
     ]
    },
    {
     "name": "stderr",
     "output_type": "stream",
     "text": [
      "\r",
      " 98%|██████████████████████████████████▎| 86047/87736 [8:20:13<53:04,  1.89s/it]"
     ]
    },
    {
     "name": "stdout",
     "output_type": "stream",
     "text": [
      "0 HTTPConnectionPool(host='www.sosiohumanika-jpssk.com', port=80): Max retries exceeded with url: /sh_files/File/5.adnan.iuum.mei.2011.pdf (Caused by NewConnectionError('<urllib3.connection.HTTPConnection object at 0x7f47c9192b80>: Failed to establish a new connection: [Errno -3] Temporary failure in name resolution'))\n",
      "1 HTTPConnectionPool(host='www.sosiohumanika-jpssk.com', port=80): Max retries exceeded with url: /sh_files/File/5.adnan.iuum.mei.2011.pdf (Caused by NewConnectionError('<urllib3.connection.HTTPConnection object at 0x7f47a86add00>: Failed to establish a new connection: [Errno -3] Temporary failure in name resolution'))\n",
      "2 HTTPConnectionPool(host='www.sosiohumanika-jpssk.com', port=80): Max retries exceeded with url: /sh_files/File/5.adnan.iuum.mei.2011.pdf (Caused by NewConnectionError('<urllib3.connection.HTTPConnection object at 0x7f47c9192580>: Failed to establish a new connection: [Errno -3] Temporary failure in name resolution'))\n"
     ]
    },
    {
     "name": "stderr",
     "output_type": "stream",
     "text": [
      "\r",
      " 98%|████████████████████████████████▎| 86048/87736 [8:20:19<1:35:35,  3.40s/it]"
     ]
    },
    {
     "name": "stdout",
     "output_type": "stream",
     "text": [
      "0 HTTPConnectionPool(host='www.sosiohumanika-jpssk.com', port=80): Max retries exceeded with url: /sh_files/File/Adnan.pdf (Caused by NewConnectionError('<urllib3.connection.HTTPConnection object at 0x7f47a8793820>: Failed to establish a new connection: [Errno -3] Temporary failure in name resolution'))\n",
      "1 HTTPConnectionPool(host='www.sosiohumanika-jpssk.com', port=80): Max retries exceeded with url: /sh_files/File/Adnan.pdf (Caused by NewConnectionError('<urllib3.connection.HTTPConnection object at 0x7f47c9192d60>: Failed to establish a new connection: [Errno -3] Temporary failure in name resolution'))\n",
      "2 HTTPConnectionPool(host='www.sosiohumanika-jpssk.com', port=80): Max retries exceeded with url: /sh_files/File/Adnan.pdf (Caused by NewConnectionError('<urllib3.connection.HTTPConnection object at 0x7f47c9192700>: Failed to establish a new connection: [Errno -3] Temporary failure in name resolution'))\n"
     ]
    },
    {
     "name": "stderr",
     "output_type": "stream",
     "text": [
      " 98%|████████████████████████████████▎| 86050/87736 [8:20:48<3:43:26,  7.95s/it]"
     ]
    },
    {
     "name": "stdout",
     "output_type": "stream",
     "text": [
      "0 HTTPConnectionPool(host='www.springerlink.com', port=80): Max retries exceeded with url: /content/36l5602h1616x2k8/fulltext.pdf (Caused by NewConnectionError('<urllib3.connection.HTTPConnection object at 0x7f47c9192880>: Failed to establish a new connection: [Errno -2] Name or service not known'))\n",
      "1 HTTPConnectionPool(host='www.springerlink.com', port=80): Max retries exceeded with url: /content/36l5602h1616x2k8/fulltext.pdf (Caused by NewConnectionError('<urllib3.connection.HTTPConnection object at 0x7f47c9192940>: Failed to establish a new connection: [Errno -2] Name or service not known'))\n",
      "2 HTTPConnectionPool(host='www.springerlink.com', port=80): Max retries exceeded with url: /content/36l5602h1616x2k8/fulltext.pdf (Caused by NewConnectionError('<urllib3.connection.HTTPConnection object at 0x7f47a87028e0>: Failed to establish a new connection: [Errno -2] Name or service not known'))\n"
     ]
    },
    {
     "name": "stderr",
     "output_type": "stream",
     "text": [
      "\r",
      " 98%|████████████████████████████████▎| 86051/87736 [8:20:50<2:50:03,  6.06s/it]"
     ]
    },
    {
     "name": "stdout",
     "output_type": "stream",
     "text": [
      "0 HTTPConnectionPool(host='www.springerlink.com', port=80): Max retries exceeded with url: /content/633706w4251m092w/fulltext.pdf (Caused by NewConnectionError('<urllib3.connection.HTTPConnection object at 0x7f47c9192ac0>: Failed to establish a new connection: [Errno -2] Name or service not known'))\n",
      "1 HTTPConnectionPool(host='www.springerlink.com', port=80): Max retries exceeded with url: /content/633706w4251m092w/fulltext.pdf (Caused by NewConnectionError('<urllib3.connection.HTTPConnection object at 0x7f47c9192580>: Failed to establish a new connection: [Errno -2] Name or service not known'))\n",
      "2 HTTPConnectionPool(host='www.springerlink.com', port=80): Max retries exceeded with url: /content/633706w4251m092w/fulltext.pdf (Caused by NewConnectionError('<urllib3.connection.HTTPConnection object at 0x7f47a87028e0>: Failed to establish a new connection: [Errno -2] Name or service not known'))\n"
     ]
    },
    {
     "name": "stderr",
     "output_type": "stream",
     "text": [
      "\r",
      " 98%|████████████████████████████████▎| 86052/87736 [8:20:52<2:12:28,  4.72s/it]"
     ]
    },
    {
     "name": "stdout",
     "output_type": "stream",
     "text": [
      "0 HTTPConnectionPool(host='www.springerlink.com', port=80): Max retries exceeded with url: /content/9224l6g603215140/fulltext.pdf (Caused by NewConnectionError('<urllib3.connection.HTTPConnection object at 0x7f47c9192940>: Failed to establish a new connection: [Errno -2] Name or service not known'))\n",
      "1 HTTPConnectionPool(host='www.springerlink.com', port=80): Max retries exceeded with url: /content/9224l6g603215140/fulltext.pdf (Caused by NewConnectionError('<urllib3.connection.HTTPConnection object at 0x7f47c9192100>: Failed to establish a new connection: [Errno -2] Name or service not known'))\n",
      "2 HTTPConnectionPool(host='www.springerlink.com', port=80): Max retries exceeded with url: /content/9224l6g603215140/fulltext.pdf (Caused by NewConnectionError('<urllib3.connection.HTTPConnection object at 0x7f47a87028e0>: Failed to establish a new connection: [Errno -2] Name or service not known'))\n"
     ]
    },
    {
     "name": "stderr",
     "output_type": "stream",
     "text": [
      "\r",
      " 98%|████████████████████████████████▎| 86053/87736 [8:20:53<1:46:11,  3.79s/it]"
     ]
    },
    {
     "name": "stdout",
     "output_type": "stream",
     "text": [
      "0 HTTPConnectionPool(host='www.springerlink.com', port=80): Max retries exceeded with url: /content/eu77877543730318/fulltext.pdf (Caused by NewConnectionError('<urllib3.connection.HTTPConnection object at 0x7f47a8793820>: Failed to establish a new connection: [Errno -2] Name or service not known'))\n",
      "1 HTTPConnectionPool(host='www.springerlink.com', port=80): Max retries exceeded with url: /content/eu77877543730318/fulltext.pdf (Caused by NewConnectionError('<urllib3.connection.HTTPConnection object at 0x7f47c9192d00>: Failed to establish a new connection: [Errno -2] Name or service not known'))\n",
      "2 HTTPConnectionPool(host='www.springerlink.com', port=80): Max retries exceeded with url: /content/eu77877543730318/fulltext.pdf (Caused by NewConnectionError('<urllib3.connection.HTTPConnection object at 0x7f47c91927c0>: Failed to establish a new connection: [Errno -2] Name or service not known'))\n"
     ]
    },
    {
     "name": "stderr",
     "output_type": "stream",
     "text": [
      "\r",
      " 98%|████████████████████████████████▎| 86054/87736 [8:20:55<1:27:47,  3.13s/it]"
     ]
    },
    {
     "name": "stdout",
     "output_type": "stream",
     "text": [
      "0 HTTPConnectionPool(host='www.springerlink.com', port=80): Max retries exceeded with url: /content/k1687h1172062h53/fulltext.pdf (Caused by NewConnectionError('<urllib3.connection.HTTPConnection object at 0x7f47c9192100>: Failed to establish a new connection: [Errno -2] Name or service not known'))\n",
      "1 HTTPConnectionPool(host='www.springerlink.com', port=80): Max retries exceeded with url: /content/k1687h1172062h53/fulltext.pdf (Caused by NewConnectionError('<urllib3.connection.HTTPConnection object at 0x7f47c9192700>: Failed to establish a new connection: [Errno -2] Name or service not known'))\n",
      "2 HTTPConnectionPool(host='www.springerlink.com', port=80): Max retries exceeded with url: /content/k1687h1172062h53/fulltext.pdf (Caused by NewConnectionError('<urllib3.connection.HTTPConnection object at 0x7f47c9192f40>: Failed to establish a new connection: [Errno -2] Name or service not known'))\n"
     ]
    },
    {
     "name": "stderr",
     "output_type": "stream",
     "text": [
      "\r",
      " 98%|████████████████████████████████▎| 86055/87736 [8:20:56<1:14:51,  2.67s/it]"
     ]
    },
    {
     "name": "stdout",
     "output_type": "stream",
     "text": [
      "0 HTTPConnectionPool(host='www.springerlink.com', port=80): Max retries exceeded with url: /content/n59x57119t01004x/fulltext.pdf (Caused by NewConnectionError('<urllib3.connection.HTTPConnection object at 0x7f47a87558b0>: Failed to establish a new connection: [Errno -2] Name or service not known'))\n",
      "1 HTTPConnectionPool(host='www.springerlink.com', port=80): Max retries exceeded with url: /content/n59x57119t01004x/fulltext.pdf (Caused by NewConnectionError('<urllib3.connection.HTTPConnection object at 0x7f47a8793f10>: Failed to establish a new connection: [Errno -2] Name or service not known'))\n",
      "2 HTTPConnectionPool(host='www.springerlink.com', port=80): Max retries exceeded with url: /content/n59x57119t01004x/fulltext.pdf (Caused by NewConnectionError('<urllib3.connection.HTTPConnection object at 0x7f47a8702a60>: Failed to establish a new connection: [Errno -2] Name or service not known'))\n"
     ]
    },
    {
     "name": "stderr",
     "output_type": "stream",
     "text": [
      "\r",
      " 98%|████████████████████████████████▎| 86056/87736 [8:20:58<1:05:48,  2.35s/it]"
     ]
    },
    {
     "name": "stdout",
     "output_type": "stream",
     "text": [
      "0 HTTPConnectionPool(host='www.springerlink.com', port=80): Max retries exceeded with url: /content/nr4675j1v37k7234/fulltext.pdf (Caused by NewConnectionError('<urllib3.connection.HTTPConnection object at 0x7f47c91927c0>: Failed to establish a new connection: [Errno -2] Name or service not known'))\n",
      "1 HTTPConnectionPool(host='www.springerlink.com', port=80): Max retries exceeded with url: /content/nr4675j1v37k7234/fulltext.pdf (Caused by NewConnectionError('<urllib3.connection.HTTPConnection object at 0x7f47a8702a60>: Failed to establish a new connection: [Errno -2] Name or service not known'))\n",
      "2 HTTPConnectionPool(host='www.springerlink.com', port=80): Max retries exceeded with url: /content/nr4675j1v37k7234/fulltext.pdf (Caused by NewConnectionError('<urllib3.connection.HTTPConnection object at 0x7f47c9192940>: Failed to establish a new connection: [Errno -2] Name or service not known'))\n"
     ]
    },
    {
     "name": "stderr",
     "output_type": "stream",
     "text": [
      "\r",
      " 98%|██████████████████████████████████▎| 86057/87736 [8:21:00<59:27,  2.12s/it]"
     ]
    },
    {
     "name": "stdout",
     "output_type": "stream",
     "text": [
      "0 HTTPConnectionPool(host='www.springerlink.com', port=80): Max retries exceeded with url: /content/r220l78m33061w85/fulltext.pdf (Caused by NewConnectionError('<urllib3.connection.HTTPConnection object at 0x7f47a8702250>: Failed to establish a new connection: [Errno -2] Name or service not known'))\n",
      "1 HTTPConnectionPool(host='www.springerlink.com', port=80): Max retries exceeded with url: /content/r220l78m33061w85/fulltext.pdf (Caused by NewConnectionError('<urllib3.connection.HTTPConnection object at 0x7f47c9192c40>: Failed to establish a new connection: [Errno -2] Name or service not known'))\n",
      "2 HTTPConnectionPool(host='www.springerlink.com', port=80): Max retries exceeded with url: /content/r220l78m33061w85/fulltext.pdf (Caused by NewConnectionError('<urllib3.connection.HTTPConnection object at 0x7f47a8755e50>: Failed to establish a new connection: [Errno -2] Name or service not known'))\n"
     ]
    },
    {
     "name": "stderr",
     "output_type": "stream",
     "text": [
      "\r",
      " 98%|██████████████████████████████████▎| 86058/87736 [8:21:01<54:59,  1.97s/it]"
     ]
    },
    {
     "name": "stdout",
     "output_type": "stream",
     "text": [
      "0 HTTPConnectionPool(host='www.springerlink.com', port=80): Max retries exceeded with url: /content/r6v378m73544m822/fulltext.pdf (Caused by NewConnectionError('<urllib3.connection.HTTPConnection object at 0x7f47c9192e80>: Failed to establish a new connection: [Errno -2] Name or service not known'))\n",
      "1 HTTPConnectionPool(host='www.springerlink.com', port=80): Max retries exceeded with url: /content/r6v378m73544m822/fulltext.pdf (Caused by NewConnectionError('<urllib3.connection.HTTPConnection object at 0x7f47a87555e0>: Failed to establish a new connection: [Errno -2] Name or service not known'))\n",
      "2 HTTPConnectionPool(host='www.springerlink.com', port=80): Max retries exceeded with url: /content/r6v378m73544m822/fulltext.pdf (Caused by NewConnectionError('<urllib3.connection.HTTPConnection object at 0x7f47c9192c40>: Failed to establish a new connection: [Errno -2] Name or service not known'))\n"
     ]
    },
    {
     "name": "stderr",
     "output_type": "stream",
     "text": [
      "\r",
      " 98%|██████████████████████████████████▎| 86059/87736 [8:21:03<51:51,  1.86s/it]"
     ]
    },
    {
     "name": "stdout",
     "output_type": "stream",
     "text": [
      "0 HTTPConnectionPool(host='www.springerlink.com', port=80): Max retries exceeded with url: /content/t55212411267552n/fulltext.pdf (Caused by NewConnectionError('<urllib3.connection.HTTPConnection object at 0x7f47a8755880>: Failed to establish a new connection: [Errno -2] Name or service not known'))\n",
      "1 HTTPConnectionPool(host='www.springerlink.com', port=80): Max retries exceeded with url: /content/t55212411267552n/fulltext.pdf (Caused by NewConnectionError('<urllib3.connection.HTTPConnection object at 0x7f47a8702eb0>: Failed to establish a new connection: [Errno -2] Name or service not known'))\n",
      "2 HTTPConnectionPool(host='www.springerlink.com', port=80): Max retries exceeded with url: /content/t55212411267552n/fulltext.pdf (Caused by NewConnectionError('<urllib3.connection.HTTPConnection object at 0x7f47c9192940>: Failed to establish a new connection: [Errno -2] Name or service not known'))\n"
     ]
    },
    {
     "name": "stderr",
     "output_type": "stream",
     "text": [
      "\r",
      " 98%|██████████████████████████████████▎| 86060/87736 [8:21:04<49:43,  1.78s/it]"
     ]
    },
    {
     "name": "stdout",
     "output_type": "stream",
     "text": [
      "0 HTTPConnectionPool(host='www.springerlink.com', port=80): Max retries exceeded with url: /content/u5228j1v6147x625/fulltext.pdf (Caused by NewConnectionError('<urllib3.connection.HTTPConnection object at 0x7f47a8755940>: Failed to establish a new connection: [Errno -2] Name or service not known'))\n",
      "1 HTTPConnectionPool(host='www.springerlink.com', port=80): Max retries exceeded with url: /content/u5228j1v6147x625/fulltext.pdf (Caused by NewConnectionError('<urllib3.connection.HTTPConnection object at 0x7f47a87028e0>: Failed to establish a new connection: [Errno -2] Name or service not known'))\n",
      "2 HTTPConnectionPool(host='www.springerlink.com', port=80): Max retries exceeded with url: /content/u5228j1v6147x625/fulltext.pdf (Caused by NewConnectionError('<urllib3.connection.HTTPConnection object at 0x7f47c9192d00>: Failed to establish a new connection: [Errno -2] Name or service not known'))\n"
     ]
    },
    {
     "name": "stderr",
     "output_type": "stream",
     "text": [
      "\r",
      " 98%|██████████████████████████████████▎| 86061/87736 [8:21:06<48:19,  1.73s/it]"
     ]
    },
    {
     "name": "stdout",
     "output_type": "stream",
     "text": [
      "0 HTTPConnectionPool(host='www.springerlink.com', port=80): Max retries exceeded with url: /content/xp80qm1l2r2870l8/fulltext.pdf (Caused by NewConnectionError('<urllib3.connection.HTTPConnection object at 0x7f47a8755640>: Failed to establish a new connection: [Errno -2] Name or service not known'))\n",
      "1 HTTPConnectionPool(host='www.springerlink.com', port=80): Max retries exceeded with url: /content/xp80qm1l2r2870l8/fulltext.pdf (Caused by NewConnectionError('<urllib3.connection.HTTPConnection object at 0x7f47a8702370>: Failed to establish a new connection: [Errno -2] Name or service not known'))\n",
      "2 HTTPConnectionPool(host='www.springerlink.com', port=80): Max retries exceeded with url: /content/xp80qm1l2r2870l8/fulltext.pdf (Caused by NewConnectionError('<urllib3.connection.HTTPConnection object at 0x7f47c9192100>: Failed to establish a new connection: [Errno -2] Name or service not known'))\n"
     ]
    },
    {
     "name": "stderr",
     "output_type": "stream",
     "text": [
      "\r",
      " 98%|██████████████████████████████████▎| 86062/87736 [8:21:08<47:08,  1.69s/it]"
     ]
    },
    {
     "name": "stdout",
     "output_type": "stream",
     "text": [
      "0 HTTPConnectionPool(host='www.springerlink.com', port=80): Max retries exceeded with url: /content/y62155625444l614/fulltext.pdf (Caused by NewConnectionError('<urllib3.connection.HTTPConnection object at 0x7f47c9192c40>: Failed to establish a new connection: [Errno -2] Name or service not known'))\n",
      "1 HTTPConnectionPool(host='www.springerlink.com', port=80): Max retries exceeded with url: /content/y62155625444l614/fulltext.pdf (Caused by NewConnectionError('<urllib3.connection.HTTPConnection object at 0x7f47a8755940>: Failed to establish a new connection: [Errno -2] Name or service not known'))\n",
      "2 HTTPConnectionPool(host='www.springerlink.com', port=80): Max retries exceeded with url: /content/y62155625444l614/fulltext.pdf (Caused by NewConnectionError('<urllib3.connection.HTTPConnection object at 0x7f47a8702df0>: Failed to establish a new connection: [Errno -2] Name or service not known'))\n"
     ]
    },
    {
     "name": "stderr",
     "output_type": "stream",
     "text": [
      " 98%|██████████████████████████████████▎| 86065/87736 [8:21:11<35:31,  1.28s/it]"
     ]
    },
    {
     "name": "stdout",
     "output_type": "stream",
     "text": [
      "0 HTTPConnectionPool(host='www.sufimaizbhandari.org', port=80): Max retries exceeded with url: /3rd%20International%20Sufi%20Conference'12%20_SOUVENIR.pdf (Caused by NewConnectionError('<urllib3.connection.HTTPConnection object at 0x7f47c91924c0>: Failed to establish a new connection: [Errno -2] Name or service not known'))\n",
      "1 HTTPConnectionPool(host='www.sufimaizbhandari.org', port=80): Max retries exceeded with url: /3rd%20International%20Sufi%20Conference'12%20_SOUVENIR.pdf (Caused by NewConnectionError('<urllib3.connection.HTTPConnection object at 0x7f47a84ea8e0>: Failed to establish a new connection: [Errno -2] Name or service not known'))\n",
      "2 HTTPConnectionPool(host='www.sufimaizbhandari.org', port=80): Max retries exceeded with url: /3rd%20International%20Sufi%20Conference'12%20_SOUVENIR.pdf (Caused by NewConnectionError('<urllib3.connection.HTTPConnection object at 0x7f47aa146850>: Failed to establish a new connection: [Errno -2] Name or service not known'))\n"
     ]
    },
    {
     "name": "stderr",
     "output_type": "stream",
     "text": [
      "\r",
      " 98%|██████████████████████████████████▎| 86066/87736 [8:21:13<38:55,  1.40s/it]"
     ]
    },
    {
     "name": "stdout",
     "output_type": "stream",
     "text": [
      "0 HTTPConnectionPool(host='www.surj.usindh.edu.pk', port=80): Max retries exceeded with url: /volume_45_02/33.pdf (Caused by NewConnectionError('<urllib3.connection.HTTPConnection object at 0x7f47a87028b0>: Failed to establish a new connection: [Errno -2] Name or service not known'))\n",
      "1 HTTPConnectionPool(host='www.surj.usindh.edu.pk', port=80): Max retries exceeded with url: /volume_45_02/33.pdf (Caused by NewConnectionError('<urllib3.connection.HTTPConnection object at 0x7f47c9192940>: Failed to establish a new connection: [Errno -2] Name or service not known'))\n",
      "2 HTTPConnectionPool(host='www.surj.usindh.edu.pk', port=80): Max retries exceeded with url: /volume_45_02/33.pdf (Caused by NewConnectionError('<urllib3.connection.HTTPConnection object at 0x7f47c9192940>: Failed to establish a new connection: [Errno -2] Name or service not known'))\n"
     ]
    },
    {
     "name": "stderr",
     "output_type": "stream",
     "text": [
      " 98%|██████████████████████████████████▎| 86071/87736 [8:21:19<38:30,  1.39s/it]"
     ]
    },
    {
     "name": "stdout",
     "output_type": "stream",
     "text": [
      "0 HTTPConnectionPool(host='www.tesshi2012.org', port=80): Max retries exceeded with url: /file_download/Parallel%20Session%20Schedule.pdf (Caused by NewConnectionError('<urllib3.connection.HTTPConnection object at 0x7f47a86adcd0>: Failed to establish a new connection: [Errno -2] Name or service not known'))\n",
      "1 HTTPConnectionPool(host='www.tesshi2012.org', port=80): Max retries exceeded with url: /file_download/Parallel%20Session%20Schedule.pdf (Caused by NewConnectionError('<urllib3.connection.HTTPConnection object at 0x7f47a8702370>: Failed to establish a new connection: [Errno -2] Name or service not known'))\n",
      "2 HTTPConnectionPool(host='www.tesshi2012.org', port=80): Max retries exceeded with url: /file_download/Parallel%20Session%20Schedule.pdf (Caused by NewConnectionError('<urllib3.connection.HTTPConnection object at 0x7f47a86adca0>: Failed to establish a new connection: [Errno -2] Name or service not known'))\n"
     ]
    },
    {
     "name": "stderr",
     "output_type": "stream",
     "text": [
      " 98%|██████████████████████████████████▍| 86294/87736 [8:27:29<52:28,  2.18s/it]"
     ]
    },
    {
     "name": "stdout",
     "output_type": "stream",
     "text": [
      "0 HTTPConnectionPool(host='www.wctrs.leeds.ac.uk', port=80): Max retries exceeded with url: /wp/wp-content/uploads/abstracts/rio/general/3159.pdf (Caused by NewConnectionError('<urllib3.connection.HTTPConnection object at 0x7f47a84f6220>: Failed to establish a new connection: [Errno -2] Name or service not known'))\n",
      "1 HTTPConnectionPool(host='www.wctrs.leeds.ac.uk', port=80): Max retries exceeded with url: /wp/wp-content/uploads/abstracts/rio/general/3159.pdf (Caused by NewConnectionError('<urllib3.connection.HTTPConnection object at 0x7f47a86bee50>: Failed to establish a new connection: [Errno -2] Name or service not known'))\n",
      "2 HTTPConnectionPool(host='www.wctrs.leeds.ac.uk', port=80): Max retries exceeded with url: /wp/wp-content/uploads/abstracts/rio/general/3159.pdf (Caused by NewConnectionError('<urllib3.connection.HTTPConnection object at 0x7f47a86beee0>: Failed to establish a new connection: [Errno -2] Name or service not known'))\n"
     ]
    },
    {
     "name": "stderr",
     "output_type": "stream",
     "text": [
      " 98%|██████████████████████████████████▍| 86297/87736 [8:27:36<52:32,  2.19s/it]"
     ]
    },
    {
     "name": "stdout",
     "output_type": "stream",
     "text": [
      "0 HTTPConnectionPool(host='www.worldconferencecare.com', port=80): Max retries exceeded with url: /FINAL%20NZ%202011%20Prog.pdf (Caused by NewConnectionError('<urllib3.connection.HTTPConnection object at 0x7f47a86be400>: Failed to establish a new connection: [Errno 110] Connection timed out'))\n",
      "1 HTTPConnectionPool(host='www.worldconferencecare.com', port=80): Max retries exceeded with url: /FINAL%20NZ%202011%20Prog.pdf (Caused by NewConnectionError('<urllib3.connection.HTTPConnection object at 0x7f47a85947c0>: Failed to establish a new connection: [Errno 110] Connection timed out'))\n",
      "2 HTTPConnectionPool(host='www.worldconferencecare.com', port=80): Max retries exceeded with url: /FINAL%20NZ%202011%20Prog.pdf (Caused by NewConnectionError('<urllib3.connection.HTTPConnection object at 0x7f47a858eb50>: Failed to establish a new connection: [Errno 110] Connection timed out'))\n"
     ]
    },
    {
     "name": "stderr",
     "output_type": "stream",
     "text": [
      " 98%|████████████████████████████████▍| 86306/87736 [8:34:14<2:56:17,  7.40s/it]"
     ]
    },
    {
     "name": "stdout",
     "output_type": "stream",
     "text": [
      "0 HTTPConnectionPool(host='www.wpapsychotherapymcpm2019.com', port=80): Max retries exceeded with url: /MCPM_WPA_final_program.pdf (Caused by NewConnectionError('<urllib3.connection.HTTPConnection object at 0x7f47a8594400>: Failed to establish a new connection: [Errno -2] Name or service not known'))\n",
      "1 HTTPConnectionPool(host='www.wpapsychotherapymcpm2019.com', port=80): Max retries exceeded with url: /MCPM_WPA_final_program.pdf (Caused by NewConnectionError('<urllib3.connection.HTTPConnection object at 0x7f47a8594f70>: Failed to establish a new connection: [Errno -2] Name or service not known'))\n",
      "2 HTTPConnectionPool(host='www.wpapsychotherapymcpm2019.com', port=80): Max retries exceeded with url: /MCPM_WPA_final_program.pdf (Caused by NewConnectionError('<urllib3.connection.HTTPConnection object at 0x7f47a8594f70>: Failed to establish a new connection: [Errno -2] Name or service not known'))\n"
     ]
    },
    {
     "name": "stderr",
     "output_type": "stream",
     "text": [
      " 98%|██████████████████████████████████▍| 86351/87736 [8:35:43<46:10,  2.00s/it]"
     ]
    },
    {
     "name": "stdout",
     "output_type": "stream",
     "text": [
      "0 HTTPSConnectionPool(host='acrs2018.mrsa.gov.my', port=443): Max retries exceeded with url: /wp-content/uploads/2018/10/TS31-FP-AB354-AB378-AB468-AB575.pdf (Caused by NewConnectionError('<urllib3.connection.HTTPSConnection object at 0x7f47a8594f40>: Failed to establish a new connection: [Errno -3] Temporary failure in name resolution'))\n",
      "1 HTTPSConnectionPool(host='acrs2018.mrsa.gov.my', port=443): Max retries exceeded with url: /wp-content/uploads/2018/10/TS31-FP-AB354-AB378-AB468-AB575.pdf (Caused by NewConnectionError('<urllib3.connection.HTTPSConnection object at 0x7f47a8594c40>: Failed to establish a new connection: [Errno -3] Temporary failure in name resolution'))\n",
      "2 HTTPSConnectionPool(host='acrs2018.mrsa.gov.my', port=443): Max retries exceeded with url: /wp-content/uploads/2018/10/TS31-FP-AB354-AB378-AB468-AB575.pdf (Caused by NewConnectionError('<urllib3.connection.HTTPSConnection object at 0x7f47a8594c40>: Failed to establish a new connection: [Errno -3] Temporary failure in name resolution'))\n"
     ]
    },
    {
     "name": "stderr",
     "output_type": "stream",
     "text": [
      "\r",
      " 98%|██████████████████████████████████▍| 86352/87736 [8:35:45<46:05,  2.00s/it]"
     ]
    },
    {
     "name": "stdout",
     "output_type": "stream",
     "text": [
      "0 HTTPSConnectionPool(host='acrs2018.mrsa.gov.my', port=443): Max retries exceeded with url: /wp-content/uploads/2018/10/TS45-FP-AB520-AB625-AB511-AB078-AB602.pdf (Caused by NewConnectionError('<urllib3.connection.HTTPSConnection object at 0x7f47a8594bb0>: Failed to establish a new connection: [Errno -3] Temporary failure in name resolution'))\n",
      "1 HTTPSConnectionPool(host='acrs2018.mrsa.gov.my', port=443): Max retries exceeded with url: /wp-content/uploads/2018/10/TS45-FP-AB520-AB625-AB511-AB078-AB602.pdf (Caused by NewConnectionError('<urllib3.connection.HTTPSConnection object at 0x7f47a8594d90>: Failed to establish a new connection: [Errno -3] Temporary failure in name resolution'))\n",
      "2 HTTPSConnectionPool(host='acrs2018.mrsa.gov.my', port=443): Max retries exceeded with url: /wp-content/uploads/2018/10/TS45-FP-AB520-AB625-AB511-AB078-AB602.pdf (Caused by NewConnectionError('<urllib3.connection.HTTPSConnection object at 0x7f47a8594d90>: Failed to establish a new connection: [Errno -3] Temporary failure in name resolution'))\n"
     ]
    },
    {
     "name": "stderr",
     "output_type": "stream",
     "text": [
      " 98%|████████████████████████████████▍| 86404/87736 [8:37:49<1:06:17,  2.99s/it]"
     ]
    },
    {
     "name": "stdout",
     "output_type": "stream",
     "text": [
      "0 HTTPSConnectionPool(host='cibg.org.au', port=443): Max retries exceeded with url: /article_11896_7793071ed461642edeb22b8a4ef5e05b.pdf (Caused by NewConnectionError('<urllib3.connection.HTTPSConnection object at 0x7f47a8594f70>: Failed to establish a new connection: [Errno -3] Temporary failure in name resolution'))\n",
      "1 HTTPSConnectionPool(host='cibg.org.au', port=443): Max retries exceeded with url: /article_11896_7793071ed461642edeb22b8a4ef5e05b.pdf (Caused by NewConnectionError('<urllib3.connection.HTTPSConnection object at 0x7f47a8594fa0>: Failed to establish a new connection: [Errno -3] Temporary failure in name resolution'))\n",
      "2 HTTPSConnectionPool(host='cibg.org.au', port=443): Max retries exceeded with url: /article_11896_7793071ed461642edeb22b8a4ef5e05b.pdf (Caused by NewConnectionError('<urllib3.connection.HTTPSConnection object at 0x7f47a8594550>: Failed to establish a new connection: [Errno -3] Temporary failure in name resolution'))\n"
     ]
    },
    {
     "name": "stderr",
     "output_type": "stream",
     "text": [
      " 98%|██████████████████████████████████▍| 86408/87736 [8:37:52<29:46,  1.35s/it]"
     ]
    },
    {
     "name": "stdout",
     "output_type": "stream",
     "text": [
      "0 HTTPSConnectionPool(host='cpb-us-east-1-juc1ugur1qwqqqo4.stackpathdns.com', port=443): Max retries exceeded with url: /conferences.k-state.edu/dist/4/26/files/2015/09/80333-IPC-Abstract_Final-1hbvawr.pdf (Caused by NewConnectionError('<urllib3.connection.HTTPSConnection object at 0x7f47a8594f70>: Failed to establish a new connection: [Errno -2] Name or service not known'))\n",
      "1 HTTPSConnectionPool(host='cpb-us-east-1-juc1ugur1qwqqqo4.stackpathdns.com', port=443): Max retries exceeded with url: /conferences.k-state.edu/dist/4/26/files/2015/09/80333-IPC-Abstract_Final-1hbvawr.pdf (Caused by NewConnectionError('<urllib3.connection.HTTPSConnection object at 0x7f47a85941c0>: Failed to establish a new connection: [Errno -2] Name or service not known'))\n",
      "2 HTTPSConnectionPool(host='cpb-us-east-1-juc1ugur1qwqqqo4.stackpathdns.com', port=443): Max retries exceeded with url: /conferences.k-state.edu/dist/4/26/files/2015/09/80333-IPC-Abstract_Final-1hbvawr.pdf (Caused by NewConnectionError('<urllib3.connection.HTTPSConnection object at 0x7f47a8594e20>: Failed to establish a new connection: [Errno -2] Name or service not known'))\n"
     ]
    },
    {
     "name": "stderr",
     "output_type": "stream",
     "text": [
      " 99%|██████████████████████████████████▌| 86522/87736 [8:41:35<30:45,  1.52s/it]"
     ]
    },
    {
     "name": "stdout",
     "output_type": "stream",
     "text": [
      "0 HTTPSConnectionPool(host='ijasos.ocerintjournals.org', port=443): Max retries exceeded with url: /issue16/papers/53-35ar.pdf (Caused by NewConnectionError('<urllib3.connection.HTTPSConnection object at 0x7f47a858e4f0>: Failed to establish a new connection: [Errno 110] Connection timed out'))\n"
     ]
    },
    {
     "name": "stderr",
     "output_type": "stream",
     "text": [
      " 99%|██████████████████████████████████▌| 86537/87736 [8:44:03<25:19,  1.27s/it]"
     ]
    },
    {
     "name": "stdout",
     "output_type": "stream",
     "text": [
      "0 HTTPSConnectionPool(host='ijmp.mums.ac.ir', port=443): Max retries exceeded with url: /article_14431_c1ae8f4ccf77daa8bb4c3b0164971946.pdf (Caused by NewConnectionError('<urllib3.connection.HTTPSConnection object at 0x7f47a85aa3d0>: Failed to establish a new connection: [Errno -3] Temporary failure in name resolution'))\n",
      "1 HTTPSConnectionPool(host='ijmp.mums.ac.ir', port=443): Max retries exceeded with url: /article_14431_c1ae8f4ccf77daa8bb4c3b0164971946.pdf (Caused by NewConnectionError('<urllib3.connection.HTTPSConnection object at 0x7f47a85aa820>: Failed to establish a new connection: [Errno -3] Temporary failure in name resolution'))\n",
      "2 HTTPSConnectionPool(host='ijmp.mums.ac.ir', port=443): Max retries exceeded with url: /article_14431_c1ae8f4ccf77daa8bb4c3b0164971946.pdf (Caused by NewConnectionError('<urllib3.connection.HTTPSConnection object at 0x7f47a85aad60>: Failed to establish a new connection: [Errno -3] Temporary failure in name resolution'))\n"
     ]
    },
    {
     "name": "stderr",
     "output_type": "stream",
     "text": [
      " 99%|██████████████████████████████████▌| 86570/87736 [8:45:11<33:32,  1.73s/it]"
     ]
    },
    {
     "name": "stdout",
     "output_type": "stream",
     "text": [
      "0 HTTPSConnectionPool(host='iwbselangor.org.my', port=443): Max retries exceeded with url: /wp-content/uploads/2020/03/IWB-Kertas-Kajian-No2-Sept2019.pdf (Caused by NewConnectionError('<urllib3.connection.HTTPSConnection object at 0x7f47a87a3910>: Failed to establish a new connection: [Errno -2] Name or service not known'))\n",
      "1 HTTPSConnectionPool(host='iwbselangor.org.my', port=443): Max retries exceeded with url: /wp-content/uploads/2020/03/IWB-Kertas-Kajian-No2-Sept2019.pdf (Caused by NewConnectionError('<urllib3.connection.HTTPSConnection object at 0x7f47a858e430>: Failed to establish a new connection: [Errno -2] Name or service not known'))\n",
      "2 HTTPSConnectionPool(host='iwbselangor.org.my', port=443): Max retries exceeded with url: /wp-content/uploads/2020/03/IWB-Kertas-Kajian-No2-Sept2019.pdf (Caused by NewConnectionError('<urllib3.connection.HTTPSConnection object at 0x7f47a858e970>: Failed to establish a new connection: [Errno -2] Name or service not known'))\n"
     ]
    },
    {
     "name": "stderr",
     "output_type": "stream",
     "text": [
      " 99%|████████████████████████████████▋| 86804/87736 [9:03:36<1:11:51,  4.63s/it]"
     ]
    },
    {
     "name": "stdout",
     "output_type": "stream",
     "text": [
      "0 HTTPSConnectionPool(host='maltesas.my', port=443): Max retries exceeded with url: /msys/explore/pubs/1562832735/1562832735_Article_1564560774.pdf (Caused by NewConnectionError('<urllib3.connection.HTTPSConnection object at 0x7f47a858e550>: Failed to establish a new connection: [Errno -3] Temporary failure in name resolution'))\n",
      "1 HTTPSConnectionPool(host='maltesas.my', port=443): Max retries exceeded with url: /msys/explore/pubs/1562832735/1562832735_Article_1564560774.pdf (Caused by NewConnectionError('<urllib3.connection.HTTPSConnection object at 0x7f47a858e6a0>: Failed to establish a new connection: [Errno -3] Temporary failure in name resolution'))\n",
      "2 HTTPSConnectionPool(host='maltesas.my', port=443): Max retries exceeded with url: /msys/explore/pubs/1562832735/1562832735_Article_1564560774.pdf (Caused by NewConnectionError('<urllib3.connection.HTTPSConnection object at 0x7f47a858ec40>: Failed to establish a new connection: [Errno -3] Temporary failure in name resolution'))\n"
     ]
    },
    {
     "name": "stderr",
     "output_type": "stream",
     "text": [
      " 99%|██████████████████████████████████▋| 86901/87736 [9:05:11<22:53,  1.65s/it]"
     ]
    },
    {
     "name": "stdout",
     "output_type": "stream",
     "text": [
      "0 HTTPSConnectionPool(host='mydocs.usim.edu.my', port=443): Max retries exceeded with url: /Dokumen%20Jabatan/Bahagian%20Penerbitan/Penerbitan%20-%20Seksyen%20Multimedia/BUKU%20BP%202017/Ulum%20Islamiyyah%20Vol%2018/pecahan%20bab/8-%20ulum%20islamiyyah%2018.pdf (Caused by NewConnectionError('<urllib3.connection.HTTPSConnection object at 0x7f47a86e44f0>: Failed to establish a new connection: [Errno -2] Name or service not known'))\n",
      "1 HTTPSConnectionPool(host='mydocs.usim.edu.my', port=443): Max retries exceeded with url: /Dokumen%20Jabatan/Bahagian%20Penerbitan/Penerbitan%20-%20Seksyen%20Multimedia/BUKU%20BP%202017/Ulum%20Islamiyyah%20Vol%2018/pecahan%20bab/8-%20ulum%20islamiyyah%2018.pdf (Caused by NewConnectionError('<urllib3.connection.HTTPSConnection object at 0x7f47a86e4b80>: Failed to establish a new connection: [Errno -2] Name or service not known'))\n",
      "2 HTTPSConnectionPool(host='mydocs.usim.edu.my', port=443): Max retries exceeded with url: /Dokumen%20Jabatan/Bahagian%20Penerbitan/Penerbitan%20-%20Seksyen%20Multimedia/BUKU%20BP%202017/Ulum%20Islamiyyah%20Vol%2018/pecahan%20bab/8-%20ulum%20islamiyyah%2018.pdf (Caused by NewConnectionError('<urllib3.connection.HTTPSConnection object at 0x7f47a86e4250>: Failed to establish a new connection: [Errno -2] Name or service not known'))\n"
     ]
    },
    {
     "name": "stderr",
     "output_type": "stream",
     "text": [
      "\r",
      " 99%|██████████████████████████████████▋| 86902/87736 [9:05:13<24:11,  1.74s/it]"
     ]
    },
    {
     "name": "stdout",
     "output_type": "stream",
     "text": [
      "0 HTTPSConnectionPool(host='mydocs.usim.edu.my', port=443): Max retries exceeded with url: /Dokumen%20Jabatan/Bahagian%20Penerbitan/Penerbitan%20-%20Seksyen%20Multimedia/BUKU%20BP%202017/Ulum%20Islamiyyah%20Vol%2020/pecahan%20bab%20ulum%20vol%2020/ulum%2020%20vol%208.pdf (Caused by NewConnectionError('<urllib3.connection.HTTPSConnection object at 0x7f47a86e4ca0>: Failed to establish a new connection: [Errno -2] Name or service not known'))\n",
      "1 HTTPSConnectionPool(host='mydocs.usim.edu.my', port=443): Max retries exceeded with url: /Dokumen%20Jabatan/Bahagian%20Penerbitan/Penerbitan%20-%20Seksyen%20Multimedia/BUKU%20BP%202017/Ulum%20Islamiyyah%20Vol%2020/pecahan%20bab%20ulum%20vol%2020/ulum%2020%20vol%208.pdf (Caused by NewConnectionError('<urllib3.connection.HTTPSConnection object at 0x7f47a86e4bb0>: Failed to establish a new connection: [Errno -2] Name or service not known'))\n",
      "2 HTTPSConnectionPool(host='mydocs.usim.edu.my', port=443): Max retries exceeded with url: /Dokumen%20Jabatan/Bahagian%20Penerbitan/Penerbitan%20-%20Seksyen%20Multimedia/BUKU%20BP%202017/Ulum%20Islamiyyah%20Vol%2020/pecahan%20bab%20ulum%20vol%2020/ulum%2020%20vol%208.pdf (Caused by NewConnectionError('<urllib3.connection.HTTPSConnection object at 0x7f47a86e4fd0>: Failed to establish a new connection: [Errno -2] Name or service not known'))\n"
     ]
    },
    {
     "name": "stderr",
     "output_type": "stream",
     "text": [
      " 99%|██████████████████████████████████▋| 86908/87736 [9:05:18<09:55,  1.39it/s]"
     ]
    },
    {
     "name": "stdout",
     "output_type": "stream",
     "text": [
      "1 HTTPSConnectionPool(host='saspjournals.com', port=443): Max retries exceeded with url: /wp-content/uploads/2018/08/SJAHSS-67-1318-1327-c.pdf (Caused by NewConnectionError('<urllib3.connection.HTTPSConnection object at 0x7f47a86e41f0>: Failed to establish a new connection: [Errno -3] Temporary failure in name resolution'))\n",
      "2 HTTPSConnectionPool(host='saspjournals.com', port=443): Max retries exceeded with url: /wp-content/uploads/2018/08/SJAHSS-67-1318-1327-c.pdf (Caused by NewConnectionError('<urllib3.connection.HTTPSConnection object at 0x7f47a86e4e80>: Failed to establish a new connection: [Errno -3] Temporary failure in name resolution'))\n"
     ]
    },
    {
     "name": "stderr",
     "output_type": "stream",
     "text": [
      " 99%|██████████████████████████████████▋| 86978/87736 [9:09:33<07:19,  1.73it/s]"
     ]
    },
    {
     "name": "stdout",
     "output_type": "stream",
     "text": [
      "0 HTTPSConnectionPool(host='seanern.com', port=443): Max retries exceeded with url: /assets/images/Malaysia_11-10.pdf (Caused by NewConnectionError('<urllib3.connection.HTTPSConnection object at 0x7f47a86e4b80>: Failed to establish a new connection: [Errno -2] Name or service not known'))\n",
      "1 HTTPSConnectionPool(host='seanern.com', port=443): Max retries exceeded with url: /assets/images/Malaysia_11-10.pdf (Caused by NewConnectionError('<urllib3.connection.HTTPSConnection object at 0x7f47a86e4b80>: Failed to establish a new connection: [Errno -2] Name or service not known'))\n",
      "2 HTTPSConnectionPool(host='seanern.com', port=443): Max retries exceeded with url: /assets/images/Malaysia_11-10.pdf (Caused by NewConnectionError('<urllib3.connection.HTTPSConnection object at 0x7f47a86e48e0>: Failed to establish a new connection: [Errno -2] Name or service not known'))\n"
     ]
    },
    {
     "name": "stderr",
     "output_type": "stream",
     "text": [
      " 99%|██████████████████████████████████▋| 86985/87736 [9:09:44<21:12,  1.69s/it]"
     ]
    },
    {
     "name": "stdout",
     "output_type": "stream",
     "text": [
      "0 HTTPSConnectionPool(host='spel2.upm.edu.my', port=443): Max retries exceeded with url: /webupm/upload/dokumen/20191004083657Paper_2.pdf (Caused by NewConnectionError('<urllib3.connection.HTTPSConnection object at 0x7f47a86e4970>: Failed to establish a new connection: [Errno 111] Connection refused'))\n",
      "1 HTTPSConnectionPool(host='spel2.upm.edu.my', port=443): Max retries exceeded with url: /webupm/upload/dokumen/20191004083657Paper_2.pdf (Caused by NewConnectionError('<urllib3.connection.HTTPSConnection object at 0x7f47a86be610>: Failed to establish a new connection: [Errno 111] Connection refused'))\n",
      "2 HTTPSConnectionPool(host='spel2.upm.edu.my', port=443): Max retries exceeded with url: /webupm/upload/dokumen/20191004083657Paper_2.pdf (Caused by NewConnectionError('<urllib3.connection.HTTPSConnection object at 0x7f47c91edb80>: Failed to establish a new connection: [Errno 111] Connection refused'))\n"
     ]
    },
    {
     "name": "stderr",
     "output_type": "stream",
     "text": [
      "\r",
      " 99%|██████████████████████████████████▋| 86986/87736 [9:09:46<21:42,  1.74s/it]"
     ]
    },
    {
     "name": "stdout",
     "output_type": "stream",
     "text": [
      "0 HTTPSConnectionPool(host='spel2.upm.edu.my', port=443): Max retries exceeded with url: /webupm/upload/dokumen/20191231164004paper_6_Dec_2019.pdf (Caused by NewConnectionError('<urllib3.connection.HTTPSConnection object at 0x7f47a87a3b20>: Failed to establish a new connection: [Errno 111] Connection refused'))\n",
      "1 HTTPSConnectionPool(host='spel2.upm.edu.my', port=443): Max retries exceeded with url: /webupm/upload/dokumen/20191231164004paper_6_Dec_2019.pdf (Caused by NewConnectionError('<urllib3.connection.HTTPSConnection object at 0x7f47a86be550>: Failed to establish a new connection: [Errno 111] Connection refused'))\n",
      "2 HTTPSConnectionPool(host='spel2.upm.edu.my', port=443): Max retries exceeded with url: /webupm/upload/dokumen/20191231164004paper_6_Dec_2019.pdf (Caused by NewConnectionError('<urllib3.connection.HTTPSConnection object at 0x7f47a86beac0>: Failed to establish a new connection: [Errno 111] Connection refused'))\n"
     ]
    },
    {
     "name": "stderr",
     "output_type": "stream",
     "text": [
      " 99%|██████████████████████████████████▋| 87031/87736 [9:10:56<12:39,  1.08s/it]"
     ]
    },
    {
     "name": "stdout",
     "output_type": "stream",
     "text": [
      "0 HTTPSConnectionPool(host='umpconsultancy.com', port=443): Max retries exceeded with url: /wp/abstract%20compilation%20full.pdf (Caused by NewConnectionError('<urllib3.connection.HTTPSConnection object at 0x7f47a858e490>: Failed to establish a new connection: [Errno -2] Name or service not known'))\n",
      "1 HTTPSConnectionPool(host='umpconsultancy.com', port=443): Max retries exceeded with url: /wp/abstract%20compilation%20full.pdf (Caused by NewConnectionError('<urllib3.connection.HTTPSConnection object at 0x7f47a858ee80>: Failed to establish a new connection: [Errno -2] Name or service not known'))\n",
      "2 HTTPSConnectionPool(host='umpconsultancy.com', port=443): Max retries exceeded with url: /wp/abstract%20compilation%20full.pdf (Caused by NewConnectionError('<urllib3.connection.HTTPSConnection object at 0x7f47a858ee80>: Failed to establish a new connection: [Errno -2] Name or service not known'))\n"
     ]
    },
    {
     "name": "stderr",
     "output_type": "stream",
     "text": [
      " 99%|██████████████████████████████████▋| 87079/87736 [9:12:45<34:32,  3.15s/it]"
     ]
    },
    {
     "name": "stdout",
     "output_type": "stream",
     "text": [
      "0 HTTPSConnectionPool(host='www.asianacademicresearch.org', port=443): Max retries exceeded with url: /2015_abstract/october_md_2015/18.pdf (Caused by NewConnectionError('<urllib3.connection.HTTPSConnection object at 0x7f47a858e610>: Failed to establish a new connection: [Errno -3] Temporary failure in name resolution'))\n",
      "1 HTTPSConnectionPool(host='www.asianacademicresearch.org', port=443): Max retries exceeded with url: /2015_abstract/october_md_2015/18.pdf (Caused by NewConnectionError('<urllib3.connection.HTTPSConnection object at 0x7f47a858ec40>: Failed to establish a new connection: [Errno -3] Temporary failure in name resolution'))\n",
      "2 HTTPSConnectionPool(host='www.asianacademicresearch.org', port=443): Max retries exceeded with url: /2015_abstract/october_md_2015/18.pdf (Caused by NewConnectionError('<urllib3.connection.HTTPSConnection object at 0x7f47a858ec40>: Failed to establish a new connection: [Errno -3] Temporary failure in name resolution'))\n"
     ]
    },
    {
     "name": "stderr",
     "output_type": "stream",
     "text": [
      "\r",
      " 99%|████████████████████████████████▊| 87080/87736 [9:12:57<1:03:25,  5.80s/it]"
     ]
    },
    {
     "name": "stdout",
     "output_type": "stream",
     "text": [
      "0 HTTPSConnectionPool(host='www.asianacademicresearch.org', port=443): Max retries exceeded with url: /2017_abstract/may2017/11.pdf (Caused by NewConnectionError('<urllib3.connection.HTTPSConnection object at 0x7f47a858e250>: Failed to establish a new connection: [Errno -3] Temporary failure in name resolution'))\n",
      "1 HTTPSConnectionPool(host='www.asianacademicresearch.org', port=443): Max retries exceeded with url: /2017_abstract/may2017/11.pdf (Caused by NewConnectionError('<urllib3.connection.HTTPSConnection object at 0x7f47a858ec40>: Failed to establish a new connection: [Errno -3] Temporary failure in name resolution'))\n",
      "2 HTTPSConnectionPool(host='www.asianacademicresearch.org', port=443): Max retries exceeded with url: /2017_abstract/may2017/11.pdf (Caused by NewConnectionError('<urllib3.connection.HTTPSConnection object at 0x7f47a858ec40>: Failed to establish a new connection: [Errno -3] Temporary failure in name resolution'))\n"
     ]
    },
    {
     "name": "stderr",
     "output_type": "stream",
     "text": [
      "\r",
      " 99%|████████████████████████████████▊| 87081/87736 [9:13:11<1:28:36,  8.12s/it]"
     ]
    },
    {
     "name": "stdout",
     "output_type": "stream",
     "text": [
      "0 HTTPSConnectionPool(host='www.asianacademicresearch.org', port=443): Max retries exceeded with url: /2018_abstract/july_md_2018/6.pdf (Caused by NewConnectionError('<urllib3.connection.HTTPSConnection object at 0x7f47a86e46d0>: Failed to establish a new connection: [Errno -3] Temporary failure in name resolution'))\n",
      "1 HTTPSConnectionPool(host='www.asianacademicresearch.org', port=443): Max retries exceeded with url: /2018_abstract/july_md_2018/6.pdf (Caused by NewConnectionError('<urllib3.connection.HTTPSConnection object at 0x7f47a858eaf0>: Failed to establish a new connection: [Errno -3] Temporary failure in name resolution'))\n",
      "2 HTTPSConnectionPool(host='www.asianacademicresearch.org', port=443): Max retries exceeded with url: /2018_abstract/july_md_2018/6.pdf (Caused by NewConnectionError('<urllib3.connection.HTTPSConnection object at 0x7f47a858eaf0>: Failed to establish a new connection: [Errno -3] Temporary failure in name resolution'))\n"
     ]
    },
    {
     "name": "stderr",
     "output_type": "stream",
     "text": [
      "\r",
      " 99%|████████████████████████████████▊| 87082/87736 [9:13:19<1:29:30,  8.21s/it]"
     ]
    },
    {
     "name": "stdout",
     "output_type": "stream",
     "text": [
      "0 HTTPSConnectionPool(host='www.asianacademicresearch.org', port=443): Max retries exceeded with url: /2018_abstract/july_md_2018/7.pdf (Caused by NewConnectionError('<urllib3.connection.HTTPSConnection object at 0x7f47a858eca0>: Failed to establish a new connection: [Errno -3] Temporary failure in name resolution'))\n",
      "1 HTTPSConnectionPool(host='www.asianacademicresearch.org', port=443): Max retries exceeded with url: /2018_abstract/july_md_2018/7.pdf (Caused by NewConnectionError('<urllib3.connection.HTTPSConnection object at 0x7f47a858eaf0>: Failed to establish a new connection: [Errno -3] Temporary failure in name resolution'))\n",
      "2 HTTPSConnectionPool(host='www.asianacademicresearch.org', port=443): Max retries exceeded with url: /2018_abstract/july_md_2018/7.pdf (Caused by NewConnectionError('<urllib3.connection.HTTPSConnection object at 0x7f47a858eaf0>: Failed to establish a new connection: [Errno -3] Temporary failure in name resolution'))\n"
     ]
    },
    {
     "name": "stderr",
     "output_type": "stream",
     "text": [
      " 99%|██████████████████████████████████▊| 87150/87736 [9:16:59<37:33,  3.84s/it]"
     ]
    },
    {
     "name": "stdout",
     "output_type": "stream",
     "text": [
      "0 ('Connection aborted.', ConnectionResetError(104, 'Connection reset by peer'))\n"
     ]
    },
    {
     "name": "stderr",
     "output_type": "stream",
     "text": [
      " 99%|██████████████████████████████████▊| 87178/87736 [9:18:41<50:05,  5.39s/it]"
     ]
    },
    {
     "name": "stdout",
     "output_type": "stream",
     "text": [
      "0 HTTPSConnectionPool(host='www.iconarch.art', port=443): Max retries exceeded with url: /wp-content/uploads/2021/01/ICONARCH-IV_E-Book.pdf (Caused by NewConnectionError('<urllib3.connection.HTTPSConnection object at 0x7f47a858ed30>: Failed to establish a new connection: [Errno -2] Name or service not known'))\n",
      "1 HTTPSConnectionPool(host='www.iconarch.art', port=443): Max retries exceeded with url: /wp-content/uploads/2021/01/ICONARCH-IV_E-Book.pdf (Caused by NewConnectionError('<urllib3.connection.HTTPSConnection object at 0x7f47a866d6a0>: Failed to establish a new connection: [Errno -2] Name or service not known'))\n",
      "2 HTTPSConnectionPool(host='www.iconarch.art', port=443): Max retries exceeded with url: /wp-content/uploads/2021/01/ICONARCH-IV_E-Book.pdf (Caused by NewConnectionError('<urllib3.connection.HTTPSConnection object at 0x7f47a858e400>: Failed to establish a new connection: [Errno -2] Name or service not known'))\n"
     ]
    },
    {
     "name": "stderr",
     "output_type": "stream",
     "text": [
      " 99%|██████████████████████████████████▊| 87192/87736 [9:19:30<30:56,  3.41s/it]"
     ]
    },
    {
     "name": "stdout",
     "output_type": "stream",
     "text": [
      "0 HTTPSConnectionPool(host='www.iiardpub.org', port=443): Max retries exceeded with url: /get/JPSLR/VOL.%202%20NO.%202%202016/Ethnocentrism%20and%20ethno-political.pdf (Caused by NewConnectionError('<urllib3.connection.HTTPSConnection object at 0x7f47a84d4220>: Failed to establish a new connection: [Errno -2] Name or service not known'))\n",
      "1 HTTPSConnectionPool(host='www.iiardpub.org', port=443): Max retries exceeded with url: /get/JPSLR/VOL.%202%20NO.%202%202016/Ethnocentrism%20and%20ethno-political.pdf (Caused by NewConnectionError('<urllib3.connection.HTTPSConnection object at 0x7f47a858eac0>: Failed to establish a new connection: [Errno -2] Name or service not known'))\n",
      "2 HTTPSConnectionPool(host='www.iiardpub.org', port=443): Max retries exceeded with url: /get/JPSLR/VOL.%202%20NO.%202%202016/Ethnocentrism%20and%20ethno-political.pdf (Caused by NewConnectionError('<urllib3.connection.HTTPSConnection object at 0x7f47a84d4430>: Failed to establish a new connection: [Errno -2] Name or service not known'))\n"
     ]
    },
    {
     "name": "stderr",
     "output_type": "stream",
     "text": [
      "\r",
      " 99%|██████████████████████████████████▊| 87193/87736 [9:19:32<26:58,  2.98s/it]"
     ]
    },
    {
     "name": "stdout",
     "output_type": "stream",
     "text": [
      "0 HTTPSConnectionPool(host='www.iiardpub.org', port=443): Max retries exceeded with url: /journals/IJEBM/VOL.%202%20NO.%208%202016/Exports,%20Imports,%20Exchange%20rates.pdf (Caused by NewConnectionError('<urllib3.connection.HTTPSConnection object at 0x7f47a858e2e0>: Failed to establish a new connection: [Errno -2] Name or service not known'))\n",
      "1 HTTPSConnectionPool(host='www.iiardpub.org', port=443): Max retries exceeded with url: /journals/IJEBM/VOL.%202%20NO.%208%202016/Exports,%20Imports,%20Exchange%20rates.pdf (Caused by NewConnectionError('<urllib3.connection.HTTPSConnection object at 0x7f47a84d41f0>: Failed to establish a new connection: [Errno -2] Name or service not known'))\n",
      "2 HTTPSConnectionPool(host='www.iiardpub.org', port=443): Max retries exceeded with url: /journals/IJEBM/VOL.%202%20NO.%208%202016/Exports,%20Imports,%20Exchange%20rates.pdf (Caused by NewConnectionError('<urllib3.connection.HTTPSConnection object at 0x7f47a858eac0>: Failed to establish a new connection: [Errno -2] Name or service not known'))\n"
     ]
    },
    {
     "name": "stderr",
     "output_type": "stream",
     "text": [
      " 99%|██████████████████████████████▊| 87236/87736 [9:40:02<31:39:35, 227.95s/it]"
     ]
    },
    {
     "name": "stdout",
     "output_type": "stream",
     "text": [
      "0 HTTPSConnectionPool(host='www.ijcwed.com', port=443): Read timed out. (read timeout=360)\n",
      "1 HTTPSConnectionPool(host='www.ijcwed.com', port=443): Read timed out. (read timeout=360)\n"
     ]
    },
    {
     "name": "stderr",
     "output_type": "stream",
     "text": [
      " 99%|█████████████████████████████▊| 87238/87736 [10:02:34<57:55:29, 418.73s/it]"
     ]
    },
    {
     "name": "stdout",
     "output_type": "stream",
     "text": [
      "0 HTTPSConnectionPool(host='www.ijcwed.com', port=443): Read timed out. (read timeout=360)\n",
      "1 ('Connection aborted.', ConnectionResetError(104, 'Connection reset by peer'))\n"
     ]
    },
    {
     "name": "stderr",
     "output_type": "stream",
     "text": [
      "100%|█████████████████████████████████▉| 87436/87736 [10:40:01<10:08,  2.03s/it]"
     ]
    },
    {
     "name": "stdout",
     "output_type": "stream",
     "text": [
      "0 HTTPSConnectionPool(host='www.isesco.org.ma', port=443): Max retries exceeded with url: /ISESCO_Technology_Vision/NUM01/doc/A.K.M.%20Sadrul%20Islam.pdf (Caused by NewConnectionError('<urllib3.connection.HTTPSConnection object at 0x7f47a87a3b80>: Failed to establish a new connection: [Errno 110] Connection timed out'))\n",
      "1 HTTPSConnectionPool(host='www.isesco.org.ma', port=443): Max retries exceeded with url: /ISESCO_Technology_Vision/NUM01/doc/A.K.M.%20Sadrul%20Islam.pdf (Caused by NewConnectionError('<urllib3.connection.HTTPSConnection object at 0x7f47a86be550>: Failed to establish a new connection: [Errno 110] Connection timed out'))\n",
      "2 HTTPSConnectionPool(host='www.isesco.org.ma', port=443): Max retries exceeded with url: /ISESCO_Technology_Vision/NUM01/doc/A.K.M.%20Sadrul%20Islam.pdf (Caused by NewConnectionError('<urllib3.connection.HTTPSConnection object at 0x7f47a85940a0>: Failed to establish a new connection: [Errno 110] Connection timed out'))\n"
     ]
    },
    {
     "name": "stderr",
     "output_type": "stream",
     "text": [
      "100%|█████████████████████████████████▉| 87447/87736 [10:47:23<33:17,  6.91s/it]"
     ]
    },
    {
     "name": "stdout",
     "output_type": "stream",
     "text": [
      "0 HTTPSConnectionPool(host='www.jbete.com', port=443): Max retries exceeded with url: /wp-content/uploads/2019/01/JBETE5_8.pdf (Caused by NewConnectionError('<urllib3.connection.HTTPSConnection object at 0x7f47a87272e0>: Failed to establish a new connection: [Errno 110] Connection timed out'))\n",
      "1 HTTPSConnectionPool(host='www.jbete.com', port=443): Max retries exceeded with url: /wp-content/uploads/2019/01/JBETE5_8.pdf (Caused by NewConnectionError('<urllib3.connection.HTTPSConnection object at 0x7f47aa20b940>: Failed to establish a new connection: [Errno 110] Connection timed out'))\n",
      "2 HTTPSConnectionPool(host='www.jbete.com', port=443): Max retries exceeded with url: /wp-content/uploads/2019/01/JBETE5_8.pdf (Caused by NewConnectionError('<urllib3.connection.HTTPSConnection object at 0x7f47a8727310>: Failed to establish a new connection: [Errno 110] Connection timed out'))\n"
     ]
    },
    {
     "name": "stderr",
     "output_type": "stream",
     "text": [
      "\r",
      "100%|█████████████████████████████▉| 87448/87736 [11:00:30<19:16:54, 241.02s/it]"
     ]
    },
    {
     "name": "stdout",
     "output_type": "stream",
     "text": [
      "0 HTTPSConnectionPool(host='www.jbete.com', port=443): Max retries exceeded with url: /wp-content/uploads/2019/12/JBETE7_17.pdf (Caused by NewConnectionError('<urllib3.connection.HTTPSConnection object at 0x7f47a87a34f0>: Failed to establish a new connection: [Errno 110] Connection timed out'))\n",
      "1 HTTPSConnectionPool(host='www.jbete.com', port=443): Max retries exceeded with url: /wp-content/uploads/2019/12/JBETE7_17.pdf (Caused by NewConnectionError('<urllib3.connection.HTTPSConnection object at 0x7f47aa1a1430>: Failed to establish a new connection: [Errno 110] Connection timed out'))\n",
      "2 HTTPSConnectionPool(host='www.jbete.com', port=443): Max retries exceeded with url: /wp-content/uploads/2019/12/JBETE7_17.pdf (Caused by NewConnectionError('<urllib3.connection.HTTPSConnection object at 0x7f47a86bee20>: Failed to establish a new connection: [Errno 110] Connection timed out'))\n"
     ]
    },
    {
     "name": "stderr",
     "output_type": "stream",
     "text": [
      "100%|█████████████████████████████████▉| 87466/87736 [11:14:29<24:14,  5.39s/it]"
     ]
    },
    {
     "name": "stdout",
     "output_type": "stream",
     "text": [
      "0 HTTPSConnectionPool(host='www.journal.atmph-specialissues.org', port=443): Max retries exceeded with url: /uploads/179/7307_pdf.pdf (Caused by NewConnectionError('<urllib3.connection.HTTPSConnection object at 0x7f47a86bef10>: Failed to establish a new connection: [Errno -2] Name or service not known'))\n",
      "1 HTTPSConnectionPool(host='www.journal.atmph-specialissues.org', port=443): Max retries exceeded with url: /uploads/179/7307_pdf.pdf (Caused by NewConnectionError('<urllib3.connection.HTTPSConnection object at 0x7f47a86bee20>: Failed to establish a new connection: [Errno -2] Name or service not known'))\n",
      "2 HTTPSConnectionPool(host='www.journal.atmph-specialissues.org', port=443): Max retries exceeded with url: /uploads/179/7307_pdf.pdf (Caused by NewConnectionError('<urllib3.connection.HTTPSConnection object at 0x7f47a86bedc0>: Failed to establish a new connection: [Errno -2] Name or service not known'))\n"
     ]
    },
    {
     "name": "stderr",
     "output_type": "stream",
     "text": [
      "\r",
      "100%|█████████████████████████████████▉| 87467/87736 [11:14:31<19:07,  4.26s/it]"
     ]
    },
    {
     "name": "stdout",
     "output_type": "stream",
     "text": [
      "0 HTTPSConnectionPool(host='www.journal.atmph-specialissues.org', port=443): Max retries exceeded with url: /uploads/179/7615_pdf.pdf (Caused by NewConnectionError('<urllib3.connection.HTTPSConnection object at 0x7f47a86bed90>: Failed to establish a new connection: [Errno -2] Name or service not known'))\n",
      "1 HTTPSConnectionPool(host='www.journal.atmph-specialissues.org', port=443): Max retries exceeded with url: /uploads/179/7615_pdf.pdf (Caused by NewConnectionError('<urllib3.connection.HTTPSConnection object at 0x7f47a86beb50>: Failed to establish a new connection: [Errno -2] Name or service not known'))\n",
      "2 HTTPSConnectionPool(host='www.journal.atmph-specialissues.org', port=443): Max retries exceeded with url: /uploads/179/7615_pdf.pdf (Caused by NewConnectionError('<urllib3.connection.HTTPSConnection object at 0x7f47a86bea90>: Failed to establish a new connection: [Errno -2] Name or service not known'))\n"
     ]
    },
    {
     "name": "stderr",
     "output_type": "stream",
     "text": [
      "100%|█████████████████████████████████▉| 87484/87736 [11:15:36<21:06,  5.03s/it]"
     ]
    },
    {
     "name": "stdout",
     "output_type": "stream",
     "text": [
      "0 HTTPSConnectionPool(host='www.ki2m.my', port=443): Max retries exceeded with url: /wp-content/uploads/2022/07/e-ISBN-E-PROCEEDING-KI2M2022.pdf (Caused by NewConnectionError('<urllib3.connection.HTTPSConnection object at 0x7f47a86bea90>: Failed to establish a new connection: [Errno -2] Name or service not known'))\n",
      "1 HTTPSConnectionPool(host='www.ki2m.my', port=443): Max retries exceeded with url: /wp-content/uploads/2022/07/e-ISBN-E-PROCEEDING-KI2M2022.pdf (Caused by NewConnectionError('<urllib3.connection.HTTPSConnection object at 0x7f47a86bea90>: Failed to establish a new connection: [Errno -2] Name or service not known'))\n",
      "2 HTTPSConnectionPool(host='www.ki2m.my', port=443): Max retries exceeded with url: /wp-content/uploads/2022/07/e-ISBN-E-PROCEEDING-KI2M2022.pdf (Caused by NewConnectionError('<urllib3.connection.HTTPSConnection object at 0x7f47a86be100>: Failed to establish a new connection: [Errno -2] Name or service not known'))\n"
     ]
    },
    {
     "name": "stderr",
     "output_type": "stream",
     "text": [
      "100%|██████████████████████████████████| 87736/87736 [11:36:49<00:00,  2.10it/s]\n"
     ]
    }
   ],
   "source": [
    "max_worker = 1\n",
    "\n",
    "uia = sorted(list(uia))\n",
    "for i in tqdm(range(0, len(uia), max_worker)):\n",
    "    urls = [(url, os.path.join('uia', f'{i}-{no}.pdf')) for no, url in enumerate(uia[i: i + max_worker])]\n",
    "    \n",
    "    with ThreadPoolExecutor(max_workers=max_worker) as executor:\n",
    "        futures = {executor.submit(download, url[0], url[1]): url for url in urls}\n",
    "\n",
    "        for future in as_completed(futures):\n",
    "            future.result()"
   ]
  },
  {
   "cell_type": "code",
   "execution_count": null,
   "metadata": {},
   "outputs": [],
   "source": []
  }
 ],
 "metadata": {
  "kernelspec": {
   "display_name": "Python 3 (ipykernel)",
   "language": "python",
   "name": "python3"
  },
  "language_info": {
   "codemirror_mode": {
    "name": "ipython",
    "version": 3
   },
   "file_extension": ".py",
   "mimetype": "text/x-python",
   "name": "python",
   "nbconvert_exporter": "python",
   "pygments_lexer": "ipython3",
   "version": "3.8.10"
  }
 },
 "nbformat": 4,
 "nbformat_minor": 4
}
