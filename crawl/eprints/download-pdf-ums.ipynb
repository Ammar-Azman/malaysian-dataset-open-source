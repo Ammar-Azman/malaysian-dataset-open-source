{
 "cells": [
  {
   "cell_type": "code",
   "execution_count": 1,
   "metadata": {},
   "outputs": [],
   "source": [
    "import urllib3\n",
    "urllib3.disable_warnings(urllib3.exceptions.InsecureRequestWarning)"
   ]
  },
  {
   "cell_type": "code",
   "execution_count": 2,
   "metadata": {},
   "outputs": [],
   "source": [
    "import requests\n",
    "import json\n",
    "import os\n",
    "import re\n",
    "import time\n",
    "from tqdm import tqdm\n",
    "from glob import glob\n",
    "from concurrent.futures import ThreadPoolExecutor, as_completed"
   ]
  },
  {
   "cell_type": "code",
   "execution_count": 3,
   "metadata": {},
   "outputs": [],
   "source": [
    "cookies = {\n",
    "    'cookiesession1': '678B28F695C90B262BFC00B79BBD6CC1',\n",
    "    'lhc_per': 'vid|a3d85efe963899fee2b5',\n",
    "    '_gid': 'GA1.3.289911229.1685154797',\n",
    "    '_ga': 'GA1.1.2075372866.1684772919',\n",
    "    '_ga_3C534XGNC2': 'GS1.1.1685154797.4.1.1685154882.0.0.0',\n",
    "    '_ga_Q33BVTTDL1': 'GS1.1.1685154797.4.1.1685154882.0.0.0',\n",
    "    '_ga_QHEB12PC6D': 'GS1.1.1685154797.4.1.1685154882.0.0.0',\n",
    "}\n",
    "\n",
    "headers = {\n",
    "    'Accept': 'text/html,application/xhtml+xml,application/xml;q=0.9,image/avif,image/webp,image/apng,*/*;q=0.8,application/signed-exchange;v=b3;q=0.7',\n",
    "    'Accept-Language': 'en-MY,en;q=0.9,en-US;q=0.8,ms;q=0.7',\n",
    "    'Cache-Control': 'no-cache',\n",
    "    'Connection': 'keep-alive',\n",
    "    # 'Cookie': 'cookiesession1=678B28F695C90B262BFC00B79BBD6CC1; lhc_per=vid|a3d85efe963899fee2b5; _gid=GA1.3.289911229.1685154797; _ga=GA1.1.2075372866.1684772919; _ga_3C534XGNC2=GS1.1.1685154797.4.1.1685154882.0.0.0; _ga_Q33BVTTDL1=GS1.1.1685154797.4.1.1685154882.0.0.0; _ga_QHEB12PC6D=GS1.1.1685154797.4.1.1685154882.0.0.0',\n",
    "    'Pragma': 'no-cache',\n",
    "    'Sec-Fetch-Dest': 'document',\n",
    "    'Sec-Fetch-Mode': 'navigate',\n",
    "    'Sec-Fetch-Site': 'none',\n",
    "    'Sec-Fetch-User': '?1',\n",
    "    'Upgrade-Insecure-Requests': '1',\n",
    "    'User-Agent': 'Mozilla/5.0 (Macintosh; Intel Mac OS X 10_15_7) AppleWebKit/537.36 (KHTML, like Gecko) Chrome/113.0.0.0 Safari/537.36',\n",
    "    'sec-ch-ua': '\"Google Chrome\";v=\"113\", \"Chromium\";v=\"113\", \"Not-A.Brand\";v=\"24\"',\n",
    "    'sec-ch-ua-mobile': '?0',\n",
    "    'sec-ch-ua-platform': '\"macOS\"',\n",
    "}"
   ]
  },
  {
   "cell_type": "code",
   "execution_count": 4,
   "metadata": {},
   "outputs": [],
   "source": [
    "def download(url, file_name, retry = 3):\n",
    "    if os.path.exists(file_name) and os.path.getsize(file_name) > 50000:\n",
    "        return\n",
    "    with open(file_name, \"wb\") as file:\n",
    "        for k in range(retry):\n",
    "            try:\n",
    "                response = requests.get(url, verify = False, timeout = 360, cookies=cookies, headers=headers)\n",
    "                file.write(response.content)\n",
    "                return \n",
    "            except Exception as e:\n",
    "                print(k, e)\n",
    "                time.sleep(0.5)"
   ]
  },
  {
   "cell_type": "code",
   "execution_count": 5,
   "metadata": {},
   "outputs": [
    {
     "data": {
      "text/plain": [
       "2717"
      ]
     },
     "execution_count": 5,
     "metadata": {},
     "output_type": "execute_result"
    }
   ],
   "source": [
    "files = glob('pages-ums/*.json')\n",
    "len(files)"
   ]
  },
  {
   "cell_type": "code",
   "execution_count": 6,
   "metadata": {
    "scrolled": true
   },
   "outputs": [],
   "source": [
    "pdfs = []\n",
    "for f in files:\n",
    "    with open(f) as fopen:\n",
    "        pdfs.extend(json.load(fopen))\n",
    "        \n",
    "pdfs = list(set(pdfs))"
   ]
  },
  {
   "cell_type": "code",
   "execution_count": 7,
   "metadata": {},
   "outputs": [
    {
     "name": "stderr",
     "output_type": "stream",
     "text": [
      "100%|████████████████████████████████| 54658/54658 [00:00<00:00, 4180460.40it/s]\n"
     ]
    },
    {
     "data": {
      "text/plain": [
       "54611"
      ]
     },
     "execution_count": 7,
     "metadata": {},
     "output_type": "execute_result"
    }
   ],
   "source": [
    "filtered_pdfs = []\n",
    "for p in tqdm(pdfs):\n",
    "#     if len(re.findall( r'[0-9]+(?:\\.[0-9]+){3}', p)):\n",
    "#         continue\n",
    "#     if not p.endswith('.pdf'):\n",
    "#         continue\n",
    "#     if 'ade.sagepub.com' in p:\n",
    "#         continue\n",
    "    \n",
    "#     if p.startswith('/jspui'):\n",
    "#         p = 'https://oarep.usim.edu.my' + p\n",
    "        \n",
    "    if not p.startswith('http'):\n",
    "        continue\n",
    "        \n",
    "    filtered_pdfs.append(p)\n",
    "    \n",
    "filtered_pdfs = sorted(list(set(filtered_pdfs)))\n",
    "len(filtered_pdfs)"
   ]
  },
  {
   "cell_type": "code",
   "execution_count": 9,
   "metadata": {
    "scrolled": false
   },
   "outputs": [],
   "source": [
    "# filtered_pdfs"
   ]
  },
  {
   "cell_type": "code",
   "execution_count": 10,
   "metadata": {},
   "outputs": [],
   "source": [
    "ums = filtered_pdfs"
   ]
  },
  {
   "cell_type": "code",
   "execution_count": 11,
   "metadata": {},
   "outputs": [],
   "source": [
    "# !rm -rf usim\n",
    "!mkdir ums"
   ]
  },
  {
   "cell_type": "code",
   "execution_count": 12,
   "metadata": {},
   "outputs": [
    {
     "name": "stderr",
     "output_type": "stream",
     "text": [
      "\r",
      "  0%|                                                 | 0/54610 [00:00<?, ?it/s]"
     ]
    },
    {
     "name": "stdout",
     "output_type": "stream",
     "text": [
      "0 HTTPConnectionPool(host='ac.els-cdn.com', port=80): Max retries exceeded with url: /S0308814613000824/1-s2.0-S0308814613000824-main.pdf?_tid=d4f13cc4-df01-11e2-80fa-00000aacb35e&acdnat=1372321153_5aedaef90504b94eb1b60517305a6e93 (Caused by NewConnectionError('<urllib3.connection.HTTPConnection object at 0x7f7282405910>: Failed to establish a new connection: [Errno -2] Name or service not known'))\n",
      "1 HTTPConnectionPool(host='ac.els-cdn.com', port=80): Max retries exceeded with url: /S0308814613000824/1-s2.0-S0308814613000824-main.pdf?_tid=d4f13cc4-df01-11e2-80fa-00000aacb35e&acdnat=1372321153_5aedaef90504b94eb1b60517305a6e93 (Caused by NewConnectionError('<urllib3.connection.HTTPConnection object at 0x7f72824050a0>: Failed to establish a new connection: [Errno -2] Name or service not known'))\n",
      "2 HTTPConnectionPool(host='ac.els-cdn.com', port=80): Max retries exceeded with url: /S0308814613000824/1-s2.0-S0308814613000824-main.pdf?_tid=d4f13cc4-df01-11e2-80fa-00000aacb35e&acdnat=1372321153_5aedaef90504b94eb1b60517305a6e93 (Caused by NewConnectionError('<urllib3.connection.HTTPConnection object at 0x7f7282405700>: Failed to establish a new connection: [Errno -2] Name or service not known'))\n"
     ]
    },
    {
     "name": "stderr",
     "output_type": "stream",
     "text": [
      "\r",
      "  0%|                                      | 1/54610 [00:01<29:41:54,  1.96s/it]"
     ]
    },
    {
     "name": "stdout",
     "output_type": "stream",
     "text": [
      "0 HTTPConnectionPool(host='ac.els-cdn.com', port=80): Max retries exceeded with url: /S1877042813019563/1-s2.0-S1877042813019563-main.pdf?_tid=df987198-fdb3-11e3-9853-00000aacb35d&acdnat=1403843654_c85ba40204a0212648aca8343da73e41 (Caused by NewConnectionError('<urllib3.connection.HTTPConnection object at 0x7f7282405910>: Failed to establish a new connection: [Errno -2] Name or service not known'))\n",
      "1 HTTPConnectionPool(host='ac.els-cdn.com', port=80): Max retries exceeded with url: /S1877042813019563/1-s2.0-S1877042813019563-main.pdf?_tid=df987198-fdb3-11e3-9853-00000aacb35d&acdnat=1403843654_c85ba40204a0212648aca8343da73e41 (Caused by NewConnectionError('<urllib3.connection.HTTPConnection object at 0x7f7282405760>: Failed to establish a new connection: [Errno -2] Name or service not known'))\n",
      "2 HTTPConnectionPool(host='ac.els-cdn.com', port=80): Max retries exceeded with url: /S1877042813019563/1-s2.0-S1877042813019563-main.pdf?_tid=df987198-fdb3-11e3-9853-00000aacb35d&acdnat=1403843654_c85ba40204a0212648aca8343da73e41 (Caused by NewConnectionError('<urllib3.connection.HTTPConnection object at 0x7f72824058e0>: Failed to establish a new connection: [Errno -2] Name or service not known'))\n"
     ]
    },
    {
     "name": "stderr",
     "output_type": "stream",
     "text": [
      "  0%|                                    | 11/54610 [02:19<579:37:16, 38.22s/it]"
     ]
    },
    {
     "name": "stdout",
     "output_type": "stream",
     "text": [
      "0 HTTPConnectionPool(host='basicresearchjournals.org', port=80): Max retries exceeded with url: /education/pdf/Sulaiman.pdf (Caused by NewConnectionError('<urllib3.connection.HTTPConnection object at 0x7f728243c250>: Failed to establish a new connection: [Errno -3] Temporary failure in name resolution'))\n",
      "1 HTTPConnectionPool(host='basicresearchjournals.org', port=80): Max retries exceeded with url: /education/pdf/Sulaiman.pdf (Caused by NewConnectionError('<urllib3.connection.HTTPConnection object at 0x7f728243c250>: Failed to establish a new connection: [Errno -3] Temporary failure in name resolution'))\n",
      "2 HTTPConnectionPool(host='basicresearchjournals.org', port=80): Max retries exceeded with url: /education/pdf/Sulaiman.pdf (Caused by NewConnectionError('<urllib3.connection.HTTPConnection object at 0x7f728243c970>: Failed to establish a new connection: [Errno -3] Temporary failure in name resolution'))\n"
     ]
    },
    {
     "name": "stderr",
     "output_type": "stream",
     "text": [
      "  0%|                                     | 18/54610 [02:27<63:50:51,  4.21s/it]"
     ]
    },
    {
     "name": "stdout",
     "output_type": "stream",
     "text": [
      "0 ('Connection aborted.', RemoteDisconnected('Remote end closed connection without response'))\n",
      "1 ('Connection aborted.', RemoteDisconnected('Remote end closed connection without response'))\n",
      "2 ('Connection aborted.', RemoteDisconnected('Remote end closed connection without response'))\n"
     ]
    },
    {
     "name": "stderr",
     "output_type": "stream",
     "text": [
      "  0%|                                     | 77/54610 [09:41<29:05:03,  1.92s/it]"
     ]
    },
    {
     "name": "stdout",
     "output_type": "stream",
     "text": [
      "0 HTTPSConnectionPool(host='chemistry.unpad.ac.idisc-proceeding', port=443): Max retries exceeded with url: /2008/Pdf/PP/0648-0652%20PP090%20Rita%20Dwi%20Rahayu.pdf (Caused by NewConnectionError('<urllib3.connection.HTTPSConnection object at 0x7f72803ced60>: Failed to establish a new connection: [Errno -2] Name or service not known'))\n",
      "1 HTTPSConnectionPool(host='chemistry.unpad.ac.idisc-proceeding', port=443): Max retries exceeded with url: /2008/Pdf/PP/0648-0652%20PP090%20Rita%20Dwi%20Rahayu.pdf (Caused by NewConnectionError('<urllib3.connection.HTTPSConnection object at 0x7f72803cec40>: Failed to establish a new connection: [Errno -2] Name or service not known'))\n",
      "2 HTTPSConnectionPool(host='chemistry.unpad.ac.idisc-proceeding', port=443): Max retries exceeded with url: /2008/Pdf/PP/0648-0652%20PP090%20Rita%20Dwi%20Rahayu.pdf (Caused by NewConnectionError('<urllib3.connection.HTTPSConnection object at 0x7f72803ce430>: Failed to establish a new connection: [Errno -2] Name or service not known'))\n"
     ]
    },
    {
     "name": "stderr",
     "output_type": "stream",
     "text": [
      "  0%|                                     | 92/54610 [10:00<18:24:11,  1.22s/it]"
     ]
    },
    {
     "name": "stdout",
     "output_type": "stream",
     "text": [
      "0 HTTPConnectionPool(host='ejum.fsktm.um.edu.my', port=80): Read timed out. (read timeout=360)\n",
      "1 HTTPConnectionPool(host='ejum.fsktm.um.edu.my', port=80): Read timed out. (read timeout=360)\n",
      "2 HTTPConnectionPool(host='ejum.fsktm.um.edu.my', port=80): Read timed out. (read timeout=360)\n"
     ]
    },
    {
     "name": "stderr",
     "output_type": "stream",
     "text": [
      "\r",
      "  0%|                                  | 93/54610 [28:02<4929:25:29, 325.51s/it]"
     ]
    },
    {
     "name": "stdout",
     "output_type": "stream",
     "text": [
      "0 HTTPConnectionPool(host='ejum.fsktm.um.edu.my', port=80): Read timed out. (read timeout=360)\n",
      "1 HTTPConnectionPool(host='ejum.fsktm.um.edu.my', port=80): Read timed out. (read timeout=360)\n",
      "2 HTTPConnectionPool(host='ejum.fsktm.um.edu.my', port=80): Read timed out. (read timeout=360)\n"
     ]
    },
    {
     "name": "stderr",
     "output_type": "stream",
     "text": [
      "\r",
      "  0%|                                  | 94/54610 [46:05<8368:57:44, 552.65s/it]"
     ]
    },
    {
     "name": "stdout",
     "output_type": "stream",
     "text": [
      "0 HTTPConnectionPool(host='ejum.fsktm.um.edu.my', port=80): Read timed out. (read timeout=360)\n",
      "1 HTTPConnectionPool(host='ejum.fsktm.um.edu.my', port=80): Read timed out. (read timeout=360)\n",
      "2 HTTPConnectionPool(host='ejum.fsktm.um.edu.my', port=80): Read timed out. (read timeout=360)\n"
     ]
    },
    {
     "name": "stderr",
     "output_type": "stream",
     "text": [
      "  0%|                                 | 102/54610 [1:04:20<906:08:36, 59.85s/it]"
     ]
    },
    {
     "name": "stdout",
     "output_type": "stream",
     "text": [
      "0 HTTPConnectionPool(host='fst.ukm.my', port=80): Max retries exceeded with url: /jsm/pdf_files/SM-PDF-43-1-2014/03%20Normawaty.pdf (Caused by NewConnectionError('<urllib3.connection.HTTPConnection object at 0x7f72803ce8e0>: Failed to establish a new connection: [Errno -2] Name or service not known'))\n",
      "1 HTTPConnectionPool(host='fst.ukm.my', port=80): Max retries exceeded with url: /jsm/pdf_files/SM-PDF-43-1-2014/03%20Normawaty.pdf (Caused by NewConnectionError('<urllib3.connection.HTTPConnection object at 0x7f72803ce490>: Failed to establish a new connection: [Errno -2] Name or service not known'))\n",
      "2 HTTPConnectionPool(host='fst.ukm.my', port=80): Max retries exceeded with url: /jsm/pdf_files/SM-PDF-43-1-2014/03%20Normawaty.pdf (Caused by NewConnectionError('<urllib3.connection.HTTPConnection object at 0x7f72803ceb20>: Failed to establish a new connection: [Errno -2] Name or service not known'))\n"
     ]
    },
    {
     "name": "stderr",
     "output_type": "stream",
     "text": [
      "  0%|                                  | 115/54610 [1:04:39<27:08:28,  1.79s/it]"
     ]
    },
    {
     "name": "stdout",
     "output_type": "stream",
     "text": [
      "0 HTTPConnectionPool(host='ijafp.com', port=80): Max retries exceeded with url: /wp-content/uploads/2015/10/FR-14.pdf (Caused by NewConnectionError('<urllib3.connection.HTTPConnection object at 0x7f72803d9580>: Failed to establish a new connection: [Errno 110] Connection timed out'))\n",
      "1 HTTPConnectionPool(host='ijafp.com', port=80): Max retries exceeded with url: /wp-content/uploads/2015/10/FR-14.pdf (Caused by NewConnectionError('<urllib3.connection.HTTPConnection object at 0x7f72803cec40>: Failed to establish a new connection: [Errno 110] Connection timed out'))\n",
      "2 HTTPConnectionPool(host='ijafp.com', port=80): Max retries exceeded with url: /wp-content/uploads/2015/10/FR-14.pdf (Caused by NewConnectionError('<urllib3.connection.HTTPConnection object at 0x7f728243cac0>: Failed to establish a new connection: [Errno 110] Connection timed out'))\n"
     ]
    },
    {
     "name": "stderr",
     "output_type": "stream",
     "text": [
      "\r",
      "  0%|                               | 116/54610 [1:11:11<1798:25:03, 118.81s/it]"
     ]
    },
    {
     "name": "stdout",
     "output_type": "stream",
     "text": [
      "0 HTTPConnectionPool(host='ijafp.com', port=80): Max retries exceeded with url: /wp-content/uploads/2016/03/KLIAFP2_10.pdf (Caused by NewConnectionError('<urllib3.connection.HTTPConnection object at 0x7f72803e2850>: Failed to establish a new connection: [Errno 110] Connection timed out'))\n",
      "1 HTTPConnectionPool(host='ijafp.com', port=80): Max retries exceeded with url: /wp-content/uploads/2016/03/KLIAFP2_10.pdf (Caused by NewConnectionError('<urllib3.connection.HTTPConnection object at 0x7f7282405f70>: Failed to establish a new connection: [Errno 110] Connection timed out'))\n",
      "2 HTTPConnectionPool(host='ijafp.com', port=80): Max retries exceeded with url: /wp-content/uploads/2016/03/KLIAFP2_10.pdf (Caused by NewConnectionError('<urllib3.connection.HTTPConnection object at 0x7f728243cf10>: Failed to establish a new connection: [Errno 110] Connection timed out'))\n"
     ]
    },
    {
     "name": "stderr",
     "output_type": "stream",
     "text": [
      "\r",
      "  0%|                               | 117/54610 [1:17:44<3044:29:46, 201.13s/it]"
     ]
    },
    {
     "name": "stdout",
     "output_type": "stream",
     "text": [
      "0 HTTPConnectionPool(host='ijafp.com', port=80): Max retries exceeded with url: /wp-content/uploads/2016/06/AG-51.pdf (Caused by NewConnectionError('<urllib3.connection.HTTPConnection object at 0x7f72803ce1f0>: Failed to establish a new connection: [Errno 110] Connection timed out'))\n",
      "1 HTTPConnectionPool(host='ijafp.com', port=80): Max retries exceeded with url: /wp-content/uploads/2016/06/AG-51.pdf (Caused by NewConnectionError('<urllib3.connection.HTTPConnection object at 0x7f72803d9d60>: Failed to establish a new connection: [Errno 110] Connection timed out'))\n",
      "2 HTTPConnectionPool(host='ijafp.com', port=80): Max retries exceeded with url: /wp-content/uploads/2016/06/AG-51.pdf (Caused by NewConnectionError('<urllib3.connection.HTTPConnection object at 0x7f7282c7aeb0>: Failed to establish a new connection: [Errno 110] Connection timed out'))\n"
     ]
    },
    {
     "name": "stderr",
     "output_type": "stream",
     "text": [
      "\r",
      "  0%|                               | 118/54610 [1:24:17<3916:43:14, 258.76s/it]"
     ]
    },
    {
     "name": "stdout",
     "output_type": "stream",
     "text": [
      "0 HTTPConnectionPool(host='ijafp.com', port=80): Max retries exceeded with url: /wp-content/uploads/2017/10/FR-39.pdf (Caused by NewConnectionError('<urllib3.connection.HTTPConnection object at 0x7f7282c7afa0>: Failed to establish a new connection: [Errno 110] Connection timed out'))\n",
      "1 HTTPConnectionPool(host='ijafp.com', port=80): Max retries exceeded with url: /wp-content/uploads/2017/10/FR-39.pdf (Caused by NewConnectionError('<urllib3.connection.HTTPConnection object at 0x7f72803d9f40>: Failed to establish a new connection: [Errno 110] Connection timed out'))\n",
      "2 HTTPConnectionPool(host='ijafp.com', port=80): Max retries exceeded with url: /wp-content/uploads/2017/10/FR-39.pdf (Caused by NewConnectionError('<urllib3.connection.HTTPConnection object at 0x7f72803ce760>: Failed to establish a new connection: [Errno 110] Connection timed out'))\n"
     ]
    },
    {
     "name": "stderr",
     "output_type": "stream",
     "text": [
      "  0%|                                  | 150/54610 [1:31:57<33:42:59,  2.23s/it]"
     ]
    },
    {
     "name": "stdout",
     "output_type": "stream",
     "text": [
      "0 HTTPConnectionPool(host='ir.umk.edu.my', port=80): Max retries exceeded with url: /bitstream/123456789/1547/1/UMS%20CONFERENCE%20POCEEDINGS%20HR%2020%20OCTOBER%202020.pdf (Caused by NewConnectionError('<urllib3.connection.HTTPConnection object at 0x7f728243c8b0>: Failed to establish a new connection: [Errno -2] Name or service not known'))\n",
      "1 HTTPConnectionPool(host='ir.umk.edu.my', port=80): Max retries exceeded with url: /bitstream/123456789/1547/1/UMS%20CONFERENCE%20POCEEDINGS%20HR%2020%20OCTOBER%202020.pdf (Caused by NewConnectionError('<urllib3.connection.HTTPConnection object at 0x7f728243c8e0>: Failed to establish a new connection: [Errno -2] Name or service not known'))\n",
      "2 HTTPConnectionPool(host='ir.umk.edu.my', port=80): Max retries exceeded with url: /bitstream/123456789/1547/1/UMS%20CONFERENCE%20POCEEDINGS%20HR%2020%20OCTOBER%202020.pdf (Caused by NewConnectionError('<urllib3.connection.HTTPConnection object at 0x7f728243c8e0>: Failed to establish a new connection: [Errno -2] Name or service not known'))\n"
     ]
    },
    {
     "name": "stderr",
     "output_type": "stream",
     "text": [
      "  0%|                                  | 190/54610 [1:32:41<10:23:15,  1.46it/s]"
     ]
    },
    {
     "name": "stdout",
     "output_type": "stream",
     "text": [
      "0 HTTPConnectionPool(host='jsrad.org', port=80): Max retries exceeded with url: /wp-content/2015/Issue%2010,%202015/9j.pdf (Caused by NewConnectionError('<urllib3.connection.HTTPConnection object at 0x7f72803e2880>: Failed to establish a new connection: [Errno 110] Connection timed out'))\n",
      "1 HTTPConnectionPool(host='jsrad.org', port=80): Max retries exceeded with url: /wp-content/2015/Issue%2010,%202015/9j.pdf (Caused by NewConnectionError('<urllib3.connection.HTTPConnection object at 0x7f72803ceb50>: Failed to establish a new connection: [Errno 110] Connection timed out'))\n",
      "2 HTTPConnectionPool(host='jsrad.org', port=80): Max retries exceeded with url: /wp-content/2015/Issue%2010,%202015/9j.pdf (Caused by NewConnectionError('<urllib3.connection.HTTPConnection object at 0x7f72803d9a60>: Failed to establish a new connection: [Errno 110] Connection timed out'))\n"
     ]
    },
    {
     "name": "stderr",
     "output_type": "stream",
     "text": [
      "  0%|                                 | 199/54610 [1:39:25<117:05:18,  7.75s/it]"
     ]
    },
    {
     "name": "stdout",
     "output_type": "stream",
     "text": [
      "0 HTTPConnectionPool(host='magicx.my', port=80): Max retries exceeded with url: /ijidm/wp-content/uploads/2013-1-1-11-idyawati.pdf (Caused by NewConnectionError('<urllib3.connection.HTTPConnection object at 0x7f72803d9670>: Failed to establish a new connection: [Errno -3] Temporary failure in name resolution'))\n",
      "1 HTTPConnectionPool(host='magicx.my', port=80): Max retries exceeded with url: /ijidm/wp-content/uploads/2013-1-1-11-idyawati.pdf (Caused by NewConnectionError('<urllib3.connection.HTTPConnection object at 0x7f72803d9340>: Failed to establish a new connection: [Errno -3] Temporary failure in name resolution'))\n",
      "2 HTTPConnectionPool(host='magicx.my', port=80): Max retries exceeded with url: /ijidm/wp-content/uploads/2013-1-1-11-idyawati.pdf (Caused by NewConnectionError('<urllib3.connection.HTTPConnection object at 0x7f72803d98b0>: Failed to establish a new connection: [Errno -3] Temporary failure in name resolution'))\n"
     ]
    },
    {
     "name": "stderr",
     "output_type": "stream",
     "text": [
      "\r",
      "  0%|                                  | 200/54610 [1:39:28<93:26:35,  6.18s/it]"
     ]
    },
    {
     "name": "stdout",
     "output_type": "stream",
     "text": [
      "0 HTTPConnectionPool(host='majlis.fsktm.um.edu.my', port=80): Max retries exceeded with url: /document.aspx?FileName=395.pdf (Caused by NewConnectionError('<urllib3.connection.HTTPConnection object at 0x7f72803d9400>: Failed to establish a new connection: [Errno -2] Name or service not known'))\n",
      "1 HTTPConnectionPool(host='majlis.fsktm.um.edu.my', port=80): Max retries exceeded with url: /document.aspx?FileName=395.pdf (Caused by NewConnectionError('<urllib3.connection.HTTPConnection object at 0x7f72803d9ac0>: Failed to establish a new connection: [Errno -2] Name or service not known'))\n",
      "2 HTTPConnectionPool(host='majlis.fsktm.um.edu.my', port=80): Max retries exceeded with url: /document.aspx?FileName=395.pdf (Caused by NewConnectionError('<urllib3.connection.HTTPConnection object at 0x7f72803d9610>: Failed to establish a new connection: [Errno -2] Name or service not known'))\n"
     ]
    },
    {
     "name": "stderr",
     "output_type": "stream",
     "text": [
      "\r",
      "  0%|▏                                 | 201/54610 [1:39:29<72:53:53,  4.82s/it]"
     ]
    },
    {
     "name": "stdout",
     "output_type": "stream",
     "text": [
      "0 HTTPConnectionPool(host='malaysiangeographers.org', port=80): Max retries exceeded with url: /ijess/wp-content/uploads/2013/10/IJESS_NorcikeyonnSamuni-Nor-inaKano-Final.pdf (Caused by NewConnectionError('<urllib3.connection.HTTPConnection object at 0x7f72803d9a00>: Failed to establish a new connection: [Errno -2] Name or service not known'))\n",
      "1 HTTPConnectionPool(host='malaysiangeographers.org', port=80): Max retries exceeded with url: /ijess/wp-content/uploads/2013/10/IJESS_NorcikeyonnSamuni-Nor-inaKano-Final.pdf (Caused by NewConnectionError('<urllib3.connection.HTTPConnection object at 0x7f72803d9c10>: Failed to establish a new connection: [Errno -2] Name or service not known'))\n",
      "2 HTTPConnectionPool(host='malaysiangeographers.org', port=80): Max retries exceeded with url: /ijess/wp-content/uploads/2013/10/IJESS_NorcikeyonnSamuni-Nor-inaKano-Final.pdf (Caused by NewConnectionError('<urllib3.connection.HTTPConnection object at 0x7f72803d9850>: Failed to establish a new connection: [Errno -2] Name or service not known'))\n"
     ]
    },
    {
     "name": "stderr",
     "output_type": "stream",
     "text": [
      "\r",
      "  0%|▏                                 | 202/54610 [1:39:31<58:59:45,  3.90s/it]"
     ]
    },
    {
     "name": "stdout",
     "output_type": "stream",
     "text": [
      "0 HTTPConnectionPool(host='manis-ukm.com.my', port=80): Max retries exceeded with url: /wp-content/uploads/Publications/Competitive%20metal%20sorption%20and%20desorption%20onto%20%20Kappaphycus%20alvarezii,%20seaweed%20waste%20biomass.pdf (Caused by NewConnectionError('<urllib3.connection.HTTPConnection object at 0x7f72803d9a30>: Failed to establish a new connection: [Errno -2] Name or service not known'))\n",
      "1 HTTPConnectionPool(host='manis-ukm.com.my', port=80): Max retries exceeded with url: /wp-content/uploads/Publications/Competitive%20metal%20sorption%20and%20desorption%20onto%20%20Kappaphycus%20alvarezii,%20seaweed%20waste%20biomass.pdf (Caused by NewConnectionError('<urllib3.connection.HTTPConnection object at 0x7f72803d9c10>: Failed to establish a new connection: [Errno -2] Name or service not known'))\n",
      "2 HTTPConnectionPool(host='manis-ukm.com.my', port=80): Max retries exceeded with url: /wp-content/uploads/Publications/Competitive%20metal%20sorption%20and%20desorption%20onto%20%20Kappaphycus%20alvarezii,%20seaweed%20waste%20biomass.pdf (Caused by NewConnectionError('<urllib3.connection.HTTPConnection object at 0x7f72803d9670>: Failed to establish a new connection: [Errno -2] Name or service not known'))\n"
     ]
    },
    {
     "name": "stderr",
     "output_type": "stream",
     "text": [
      "  0%|▏                                 | 204/54610 [1:39:34<38:32:09,  2.55s/it]"
     ]
    },
    {
     "name": "stdout",
     "output_type": "stream",
     "text": [
      "0 HTTPConnectionPool(host='mjcs.fsktm.um.edu.my', port=80): Max retries exceeded with url: /document.aspx?FileName=286.pdf (Caused by NewConnectionError('<urllib3.connection.HTTPConnection object at 0x7f72803d9400>: Failed to establish a new connection: [Errno -2] Name or service not known'))\n",
      "1 HTTPConnectionPool(host='mjcs.fsktm.um.edu.my', port=80): Max retries exceeded with url: /document.aspx?FileName=286.pdf (Caused by NewConnectionError('<urllib3.connection.HTTPConnection object at 0x7f72803d97c0>: Failed to establish a new connection: [Errno -2] Name or service not known'))\n",
      "2 HTTPConnectionPool(host='mjcs.fsktm.um.edu.my', port=80): Max retries exceeded with url: /document.aspx?FileName=286.pdf (Caused by NewConnectionError('<urllib3.connection.HTTPConnection object at 0x7f72803d9a00>: Failed to establish a new connection: [Errno -2] Name or service not known'))\n"
     ]
    },
    {
     "name": "stderr",
     "output_type": "stream",
     "text": [
      "\r",
      "  0%|▏                                 | 205/54610 [1:39:35<34:32:53,  2.29s/it]"
     ]
    },
    {
     "name": "stdout",
     "output_type": "stream",
     "text": [
      "0 HTTPConnectionPool(host='mjcs.fsktm.um.edu.my', port=80): Max retries exceeded with url: /document.aspx?FileName=396.pdf (Caused by NewConnectionError('<urllib3.connection.HTTPConnection object at 0x7f72803d98b0>: Failed to establish a new connection: [Errno -2] Name or service not known'))\n",
      "1 HTTPConnectionPool(host='mjcs.fsktm.um.edu.my', port=80): Max retries exceeded with url: /document.aspx?FileName=396.pdf (Caused by NewConnectionError('<urllib3.connection.HTTPConnection object at 0x7f72803d94f0>: Failed to establish a new connection: [Errno -2] Name or service not known'))\n",
      "2 HTTPConnectionPool(host='mjcs.fsktm.um.edu.my', port=80): Max retries exceeded with url: /document.aspx?FileName=396.pdf (Caused by NewConnectionError('<urllib3.connection.HTTPConnection object at 0x7f72803d9eb0>: Failed to establish a new connection: [Errno -2] Name or service not known'))\n"
     ]
    },
    {
     "name": "stderr",
     "output_type": "stream",
     "text": [
      "  0%|▏                                 | 212/54610 [1:39:45<26:00:41,  1.72s/it]"
     ]
    },
    {
     "name": "stdout",
     "output_type": "stream",
     "text": [
      "0 HTTPConnectionPool(host='nopr.niscair.res.in', port=80): Max retries exceeded with url: /bitstream/123456789/56515/1/IJPAP%2059%283%29%20190-196.pdf (Caused by NewConnectionError('<urllib3.connection.HTTPConnection object at 0x7f72803d9070>: Failed to establish a new connection: [Errno -3] Temporary failure in name resolution'))\n",
      "1 HTTPConnectionPool(host='nopr.niscair.res.in', port=80): Max retries exceeded with url: /bitstream/123456789/56515/1/IJPAP%2059%283%29%20190-196.pdf (Caused by NewConnectionError('<urllib3.connection.HTTPConnection object at 0x7f72803d9eb0>: Failed to establish a new connection: [Errno -3] Temporary failure in name resolution'))\n",
      "2 HTTPConnectionPool(host='nopr.niscair.res.in', port=80): Max retries exceeded with url: /bitstream/123456789/56515/1/IJPAP%2059%283%29%20190-196.pdf (Caused by NewConnectionError('<urllib3.connection.HTTPConnection object at 0x7f72803d9100>: Failed to establish a new connection: [Errno -3] Temporary failure in name resolution'))\n"
     ]
    },
    {
     "name": "stderr",
     "output_type": "stream",
     "text": [
      "  0%|▏                                 | 245/54610 [1:40:39<26:03:50,  1.73s/it]"
     ]
    },
    {
     "name": "stdout",
     "output_type": "stream",
     "text": [
      "0 HTTPConnectionPool(host='sosiohumanika-jpssk.com', port=80): Max retries exceeded with url: /sh_files/File/ismail.ali.ums.novemb.2008.pdf (Caused by NewConnectionError('<urllib3.connection.HTTPConnection object at 0x7f728243cd60>: Failed to establish a new connection: [Errno -3] Temporary failure in name resolution'))\n",
      "1 HTTPConnectionPool(host='sosiohumanika-jpssk.com', port=80): Max retries exceeded with url: /sh_files/File/ismail.ali.ums.novemb.2008.pdf (Caused by NewConnectionError('<urllib3.connection.HTTPConnection object at 0x7f728243c250>: Failed to establish a new connection: [Errno -3] Temporary failure in name resolution'))\n",
      "2 HTTPConnectionPool(host='sosiohumanika-jpssk.com', port=80): Max retries exceeded with url: /sh_files/File/ismail.ali.ums.novemb.2008.pdf (Caused by NewConnectionError('<urllib3.connection.HTTPConnection object at 0x7f728243cc70>: Failed to establish a new connection: [Errno -3] Temporary failure in name resolution'))\n"
     ]
    },
    {
     "name": "stderr",
     "output_type": "stream",
     "text": [
      "\r",
      "  0%|▏                                 | 246/54610 [1:40:46<49:14:13,  3.26s/it]"
     ]
    },
    {
     "name": "stdout",
     "output_type": "stream",
     "text": [
      "0 HTTPConnectionPool(host='sosiohumanika-jpssk.com', port=80): Max retries exceeded with url: /sh_files/File/syahruddin.ums.pdf (Caused by NewConnectionError('<urllib3.connection.HTTPConnection object at 0x7f728243c7f0>: Failed to establish a new connection: [Errno -3] Temporary failure in name resolution'))\n",
      "1 HTTPConnectionPool(host='sosiohumanika-jpssk.com', port=80): Max retries exceeded with url: /sh_files/File/syahruddin.ums.pdf (Caused by NewConnectionError('<urllib3.connection.HTTPConnection object at 0x7f728243cdf0>: Failed to establish a new connection: [Errno -3] Temporary failure in name resolution'))\n",
      "2 HTTPConnectionPool(host='sosiohumanika-jpssk.com', port=80): Max retries exceeded with url: /sh_files/File/syahruddin.ums.pdf (Caused by NewConnectionError('<urllib3.connection.HTTPConnection object at 0x7f728243c250>: Failed to establish a new connection: [Errno -3] Temporary failure in name resolution'))\n"
     ]
    },
    {
     "name": "stderr",
     "output_type": "stream",
     "text": [
      "  1%|▏                                 | 335/54610 [1:41:51<19:08:30,  1.27s/it]"
     ]
    },
    {
     "name": "stdout",
     "output_type": "stream",
     "text": [
      "0 HTTPConnectionPool(host='umkeprints.umk.edu.my', port=80): Max retries exceeded with url: /540/1/Paper%202.pdf (Caused by NewConnectionError('<urllib3.connection.HTTPConnection object at 0x7f728243cd60>: Failed to establish a new connection: [Errno 111] Connection refused'))\n",
      "1 HTTPConnectionPool(host='umkeprints.umk.edu.my', port=80): Max retries exceeded with url: /540/1/Paper%202.pdf (Caused by NewConnectionError('<urllib3.connection.HTTPConnection object at 0x7f72803cea00>: Failed to establish a new connection: [Errno 111] Connection refused'))\n",
      "2 HTTPConnectionPool(host='umkeprints.umk.edu.my', port=80): Max retries exceeded with url: /540/1/Paper%202.pdf (Caused by NewConnectionError('<urllib3.connection.HTTPConnection object at 0x7f72803ce4c0>: Failed to establish a new connection: [Errno 111] Connection refused'))\n"
     ]
    },
    {
     "name": "stderr",
     "output_type": "stream",
     "text": [
      "\r",
      "  1%|▏                                 | 336/54610 [1:41:53<20:36:49,  1.37s/it]"
     ]
    },
    {
     "name": "stdout",
     "output_type": "stream",
     "text": [
      "0 HTTPConnectionPool(host='umkeprints.umk.edu.my', port=80): Max retries exceeded with url: /7560/1/Mastura%20et%20al%20SMR%20Karim%202017%5EBJB.pdf (Caused by NewConnectionError('<urllib3.connection.HTTPConnection object at 0x7f72803866d0>: Failed to establish a new connection: [Errno 111] Connection refused'))\n",
      "1 HTTPConnectionPool(host='umkeprints.umk.edu.my', port=80): Max retries exceeded with url: /7560/1/Mastura%20et%20al%20SMR%20Karim%202017%5EBJB.pdf (Caused by NewConnectionError('<urllib3.connection.HTTPConnection object at 0x7f7280386ee0>: Failed to establish a new connection: [Errno 111] Connection refused'))\n",
      "2 HTTPConnectionPool(host='umkeprints.umk.edu.my', port=80): Max retries exceeded with url: /7560/1/Mastura%20et%20al%20SMR%20Karim%202017%5EBJB.pdf (Caused by NewConnectionError('<urllib3.connection.HTTPConnection object at 0x7f72803d9f40>: Failed to establish a new connection: [Errno 111] Connection refused'))\n"
     ]
    },
    {
     "name": "stderr",
     "output_type": "stream",
     "text": [
      "\r",
      "  1%|▏                                 | 337/54610 [1:41:55<21:37:06,  1.43s/it]"
     ]
    },
    {
     "name": "stdout",
     "output_type": "stream",
     "text": [
      "0 HTTPConnectionPool(host='umrefjournal.um.edu.my', port=80): Max retries exceeded with url: /filebank/published_article/455/Asmady%20Idris-Malaysia%20Economic%20Relations%20With%20Saudi%20Arabia.pdf (Caused by NewConnectionError('<urllib3.connection.HTTPConnection object at 0x7f72803e29a0>: Failed to establish a new connection: [Errno -2] Name or service not known'))\n",
      "1 HTTPConnectionPool(host='umrefjournal.um.edu.my', port=80): Max retries exceeded with url: /filebank/published_article/455/Asmady%20Idris-Malaysia%20Economic%20Relations%20With%20Saudi%20Arabia.pdf (Caused by NewConnectionError('<urllib3.connection.HTTPConnection object at 0x7f72803e21f0>: Failed to establish a new connection: [Errno -2] Name or service not known'))\n",
      "2 HTTPConnectionPool(host='umrefjournal.um.edu.my', port=80): Max retries exceeded with url: /filebank/published_article/455/Asmady%20Idris-Malaysia%20Economic%20Relations%20With%20Saudi%20Arabia.pdf (Caused by NewConnectionError('<urllib3.connection.HTTPConnection object at 0x7f72803e29d0>: Failed to establish a new connection: [Errno -2] Name or service not known'))\n"
     ]
    },
    {
     "name": "stderr",
     "output_type": "stream",
     "text": [
      "\r",
      "  1%|▏                                 | 338/54610 [1:41:56<22:24:28,  1.49s/it]"
     ]
    },
    {
     "name": "stdout",
     "output_type": "stream",
     "text": [
      "0 HTTPConnectionPool(host='umrefjournal.um.edu.my', port=80): Max retries exceeded with url: /filebank/published_article/458/Ramli,%20Ahmad%20Mosfi%20Mohd-Malaysia-Indonesia%20Barter%20Trade-Opportunities%20and%20Challenges.pdf (Caused by NewConnectionError('<urllib3.connection.HTTPConnection object at 0x7f72803e26a0>: Failed to establish a new connection: [Errno -2] Name or service not known'))\n",
      "1 HTTPConnectionPool(host='umrefjournal.um.edu.my', port=80): Max retries exceeded with url: /filebank/published_article/458/Ramli,%20Ahmad%20Mosfi%20Mohd-Malaysia-Indonesia%20Barter%20Trade-Opportunities%20and%20Challenges.pdf (Caused by NewConnectionError('<urllib3.connection.HTTPConnection object at 0x7f72803e27c0>: Failed to establish a new connection: [Errno -2] Name or service not known'))\n",
      "2 HTTPConnectionPool(host='umrefjournal.um.edu.my', port=80): Max retries exceeded with url: /filebank/published_article/458/Ramli,%20Ahmad%20Mosfi%20Mohd-Malaysia-Indonesia%20Barter%20Trade-Opportunities%20and%20Challenges.pdf (Caused by NewConnectionError('<urllib3.connection.HTTPConnection object at 0x7f72803e29a0>: Failed to establish a new connection: [Errno -2] Name or service not known'))\n"
     ]
    },
    {
     "name": "stderr",
     "output_type": "stream",
     "text": [
      "  1%|▏                                 | 394/54610 [1:43:25<40:21:32,  2.68s/it]"
     ]
    },
    {
     "name": "stdout",
     "output_type": "stream",
     "text": [
      "0 HTTPConnectionPool(host='www.asianacademicresearch.org', port=80): Max retries exceeded with url: /2015_abstract/august2015/6.pdf (Caused by NewConnectionError('<urllib3.connection.HTTPConnection object at 0x7f72803d99a0>: Failed to establish a new connection: [Errno -3] Temporary failure in name resolution'))\n",
      "1 HTTPConnectionPool(host='www.asianacademicresearch.org', port=80): Max retries exceeded with url: /2015_abstract/august2015/6.pdf (Caused by NewConnectionError('<urllib3.connection.HTTPConnection object at 0x7f72803d99a0>: Failed to establish a new connection: [Errno -3] Temporary failure in name resolution'))\n",
      "2 HTTPConnectionPool(host='www.asianacademicresearch.org', port=80): Max retries exceeded with url: /2015_abstract/august2015/6.pdf (Caused by NewConnectionError('<urllib3.connection.HTTPConnection object at 0x7f72803d9c10>: Failed to establish a new connection: [Errno -3] Temporary failure in name resolution'))\n"
     ]
    },
    {
     "name": "stderr",
     "output_type": "stream",
     "text": [
      "  1%|▎                                 | 404/54610 [1:43:45<22:28:55,  1.49s/it]"
     ]
    },
    {
     "name": "stdout",
     "output_type": "stream",
     "text": [
      "0 HTTPSConnectionPool(host='unpad.ac.idisc-proceeding', port=443): Max retries exceeded with url: /2008/Pdf/PP/0679-0686%20PP098%20Joko%20Sulistyo_98.pdf (Caused by NewConnectionError('<urllib3.connection.HTTPSConnection object at 0x7f728243c9a0>: Failed to establish a new connection: [Errno -2] Name or service not known'))\n",
      "1 HTTPSConnectionPool(host='unpad.ac.idisc-proceeding', port=443): Max retries exceeded with url: /2008/Pdf/PP/0679-0686%20PP098%20Joko%20Sulistyo_98.pdf (Caused by NewConnectionError('<urllib3.connection.HTTPSConnection object at 0x7f728243cd60>: Failed to establish a new connection: [Errno -2] Name or service not known'))\n",
      "2 HTTPSConnectionPool(host='unpad.ac.idisc-proceeding', port=443): Max retries exceeded with url: /2008/Pdf/PP/0679-0686%20PP098%20Joko%20Sulistyo_98.pdf (Caused by NewConnectionError('<urllib3.connection.HTTPSConnection object at 0x7f728243c5b0>: Failed to establish a new connection: [Errno -2] Name or service not known'))\n"
     ]
    },
    {
     "name": "stderr",
     "output_type": "stream",
     "text": [
      "  1%|▎                                 | 414/54610 [1:44:04<25:29:20,  1.69s/it]"
     ]
    },
    {
     "name": "stdout",
     "output_type": "stream",
     "text": [
      "0 HTTPConnectionPool(host='www.ejge.com', port=80): Max retries exceeded with url: /2011/Ppr11.043/Ppr11.043ar.pdf (Caused by NewConnectionError('<urllib3.connection.HTTPConnection object at 0x7f72803e25b0>: Failed to establish a new connection: [Errno -2] Name or service not known'))\n",
      "1 HTTPConnectionPool(host='www.ejge.com', port=80): Max retries exceeded with url: /2011/Ppr11.043/Ppr11.043ar.pdf (Caused by NewConnectionError('<urllib3.connection.HTTPConnection object at 0x7f72803ce7c0>: Failed to establish a new connection: [Errno -2] Name or service not known'))\n",
      "2 HTTPConnectionPool(host='www.ejge.com', port=80): Max retries exceeded with url: /2011/Ppr11.043/Ppr11.043ar.pdf (Caused by NewConnectionError('<urllib3.connection.HTTPConnection object at 0x7f72803cefd0>: Failed to establish a new connection: [Errno -2] Name or service not known'))\n"
     ]
    },
    {
     "name": "stderr",
     "output_type": "stream",
     "text": [
      "\r",
      "  1%|▎                                 | 415/54610 [1:44:06<25:46:24,  1.71s/it]"
     ]
    },
    {
     "name": "stdout",
     "output_type": "stream",
     "text": [
      "0 HTTPConnectionPool(host='www.ejge.com', port=80): Max retries exceeded with url: /2011/Ppr11.066/Ppr11.066.pdf (Caused by NewConnectionError('<urllib3.connection.HTTPConnection object at 0x7f72803cee50>: Failed to establish a new connection: [Errno -2] Name or service not known'))\n",
      "1 HTTPConnectionPool(host='www.ejge.com', port=80): Max retries exceeded with url: /2011/Ppr11.066/Ppr11.066.pdf (Caused by NewConnectionError('<urllib3.connection.HTTPConnection object at 0x7f72803ce580>: Failed to establish a new connection: [Errno -2] Name or service not known'))\n",
      "2 HTTPConnectionPool(host='www.ejge.com', port=80): Max retries exceeded with url: /2011/Ppr11.066/Ppr11.066.pdf (Caused by NewConnectionError('<urllib3.connection.HTTPConnection object at 0x7f72803cea00>: Failed to establish a new connection: [Errno -2] Name or service not known'))\n"
     ]
    },
    {
     "name": "stderr",
     "output_type": "stream",
     "text": [
      "\r",
      "  1%|▎                                 | 416/54610 [1:44:08<25:13:05,  1.68s/it]"
     ]
    },
    {
     "name": "stdout",
     "output_type": "stream",
     "text": [
      "0 HTTPConnectionPool(host='www.ejge.com', port=80): Max retries exceeded with url: /2014/Ppr2014.782ma.pdf (Caused by NewConnectionError('<urllib3.connection.HTTPConnection object at 0x7f72803d9c40>: Failed to establish a new connection: [Errno -2] Name or service not known'))\n",
      "1 HTTPConnectionPool(host='www.ejge.com', port=80): Max retries exceeded with url: /2014/Ppr2014.782ma.pdf (Caused by NewConnectionError('<urllib3.connection.HTTPConnection object at 0x7f72803ce580>: Failed to establish a new connection: [Errno -2] Name or service not known'))\n",
      "2 HTTPConnectionPool(host='www.ejge.com', port=80): Max retries exceeded with url: /2014/Ppr2014.782ma.pdf (Caused by NewConnectionError('<urllib3.connection.HTTPConnection object at 0x7f72803cecd0>: Failed to establish a new connection: [Errno -2] Name or service not known'))\n"
     ]
    },
    {
     "name": "stderr",
     "output_type": "stream",
     "text": [
      "  1%|▎                                 | 435/54610 [1:44:34<16:09:59,  1.07s/it]"
     ]
    },
    {
     "name": "stdout",
     "output_type": "stream",
     "text": [
      "0 HTTPConnectionPool(host='www.ftb.com.hrimport', port=80): Max retries exceeded with url: /41-3-8.pdf (Caused by NewConnectionError('<urllib3.connection.HTTPConnection object at 0x7f728039de50>: Failed to establish a new connection: [Errno -2] Name or service not known'))\n",
      "1 HTTPConnectionPool(host='www.ftb.com.hrimport', port=80): Max retries exceeded with url: /41-3-8.pdf (Caused by NewConnectionError('<urllib3.connection.HTTPConnection object at 0x7f728039d0d0>: Failed to establish a new connection: [Errno -2] Name or service not known'))\n",
      "2 HTTPConnectionPool(host='www.ftb.com.hrimport', port=80): Max retries exceeded with url: /41-3-8.pdf (Caused by NewConnectionError('<urllib3.connection.HTTPConnection object at 0x7f728039d9d0>: Failed to establish a new connection: [Errno -2] Name or service not known'))\n"
     ]
    },
    {
     "name": "stderr",
     "output_type": "stream",
     "text": [
      "  1%|▎                                 | 512/54610 [1:46:08<15:17:26,  1.02s/it]"
     ]
    },
    {
     "name": "stdout",
     "output_type": "stream",
     "text": [
      "0 HTTPConnectionPool(host='www.ijcim.th.org', port=80): Max retries exceeded with url: /SpecialEditions/v16nSP3/13_fullpaper_Vianny%20Tobing_Revised.pdf (Caused by NewConnectionError('<urllib3.connection.HTTPConnection object at 0x7f72803cebe0>: Failed to establish a new connection: [Errno -3] Temporary failure in name resolution'))\n",
      "1 HTTPConnectionPool(host='www.ijcim.th.org', port=80): Max retries exceeded with url: /SpecialEditions/v16nSP3/13_fullpaper_Vianny%20Tobing_Revised.pdf (Caused by NewConnectionError('<urllib3.connection.HTTPConnection object at 0x7f72803ceac0>: Failed to establish a new connection: [Errno -3] Temporary failure in name resolution'))\n",
      "2 HTTPConnectionPool(host='www.ijcim.th.org', port=80): Max retries exceeded with url: /SpecialEditions/v16nSP3/13_fullpaper_Vianny%20Tobing_Revised.pdf (Caused by NewConnectionError('<urllib3.connection.HTTPConnection object at 0x7f72803ce130>: Failed to establish a new connection: [Errno -3] Temporary failure in name resolution'))\n"
     ]
    },
    {
     "name": "stderr",
     "output_type": "stream",
     "text": [
      "  1%|▎                                 | 516/54610 [1:46:12<14:33:12,  1.03it/s]"
     ]
    },
    {
     "name": "stdout",
     "output_type": "stream",
     "text": [
      "0 HTTPConnectionPool(host='www.ijeee.org', port=80): Max retries exceeded with url: /volums/volume6/IJEEE6PDF/Paper616.pdf (Caused by NewConnectionError('<urllib3.connection.HTTPConnection object at 0x7f72803cebe0>: Failed to establish a new connection: [Errno -3] Temporary failure in name resolution'))\n",
      "1 HTTPConnectionPool(host='www.ijeee.org', port=80): Max retries exceeded with url: /volums/volume6/IJEEE6PDF/Paper616.pdf (Caused by NewConnectionError('<urllib3.connection.HTTPConnection object at 0x7f72803ce820>: Failed to establish a new connection: [Errno -3] Temporary failure in name resolution'))\n",
      "2 HTTPConnectionPool(host='www.ijeee.org', port=80): Max retries exceeded with url: /volums/volume6/IJEEE6PDF/Paper616.pdf (Caused by NewConnectionError('<urllib3.connection.HTTPConnection object at 0x7f72803cefd0>: Failed to establish a new connection: [Errno -3] Temporary failure in name resolution'))\n"
     ]
    },
    {
     "name": "stderr",
     "output_type": "stream",
     "text": [
      "  1%|▍                                  | 610/54610 [1:47:39<7:43:21,  1.94it/s]"
     ]
    },
    {
     "name": "stdout",
     "output_type": "stream",
     "text": [
      "0 Exceeded 30 redirects.\n",
      "1 Exceeded 30 redirects.\n",
      "2 Exceeded 30 redirects.\n"
     ]
    },
    {
     "name": "stderr",
     "output_type": "stream",
     "text": [
      "  1%|▍                                 | 635/54610 [1:48:05<18:21:46,  1.22s/it]"
     ]
    },
    {
     "name": "stdout",
     "output_type": "stream",
     "text": [
      "0 HTTPConnectionPool(host='www.ikdpm.upm.edu.my', port=80): Max retries exceeded with url: /dokumen/IKDPM_Proceeding_ICNTS2015.pdf (Caused by NewConnectionError('<urllib3.connection.HTTPConnection object at 0x7f728036d520>: Failed to establish a new connection: [Errno -5] No address associated with hostname'))\n",
      "1 HTTPConnectionPool(host='www.ikdpm.upm.edu.my', port=80): Max retries exceeded with url: /dokumen/IKDPM_Proceeding_ICNTS2015.pdf (Caused by NewConnectionError('<urllib3.connection.HTTPConnection object at 0x7f728036da00>: Failed to establish a new connection: [Errno -5] No address associated with hostname'))\n",
      "2 HTTPConnectionPool(host='www.ikdpm.upm.edu.my', port=80): Max retries exceeded with url: /dokumen/IKDPM_Proceeding_ICNTS2015.pdf (Caused by NewConnectionError('<urllib3.connection.HTTPConnection object at 0x7f728036da00>: Failed to establish a new connection: [Errno -5] No address associated with hostname'))\n"
     ]
    },
    {
     "name": "stderr",
     "output_type": "stream",
     "text": [
      "  1%|▍                                 | 644/54610 [1:48:21<30:24:39,  2.03s/it]"
     ]
    },
    {
     "name": "stdout",
     "output_type": "stream",
     "text": [
      "0 HTTPConnectionPool(host='www.ipcbee.com', port=80): Max retries exceeded with url: /vol3/47-L5011.pdf (Caused by NewConnectionError('<urllib3.connection.HTTPConnection object at 0x7f728036d910>: Failed to establish a new connection: [Errno 110] Connection timed out'))\n",
      "1 HTTPConnectionPool(host='www.ipcbee.com', port=80): Max retries exceeded with url: /vol3/47-L5011.pdf (Caused by NewConnectionError('<urllib3.connection.HTTPConnection object at 0x7f72803a8880>: Failed to establish a new connection: [Errno 110] Connection timed out'))\n",
      "2 HTTPConnectionPool(host='www.ipcbee.com', port=80): Max retries exceeded with url: /vol3/47-L5011.pdf (Caused by NewConnectionError('<urllib3.connection.HTTPConnection object at 0x7f72803a8790>: Failed to establish a new connection: [Errno 110] Connection timed out'))\n"
     ]
    },
    {
     "name": "stderr",
     "output_type": "stream",
     "text": [
      "\r",
      "  1%|▎                              | 645/54610 [1:54:54<1788:58:16, 119.34s/it]"
     ]
    },
    {
     "name": "stdout",
     "output_type": "stream",
     "text": [
      "0 HTTPConnectionPool(host='www.ipedr.com', port=80): Max retries exceeded with url: /vol10/94-S10058.pdf (Caused by NewConnectionError('<urllib3.connection.HTTPConnection object at 0x7f72803a8a60>: Failed to establish a new connection: [Errno 110] Connection timed out'))\n",
      "1 HTTPConnectionPool(host='www.ipedr.com', port=80): Max retries exceeded with url: /vol10/94-S10058.pdf (Caused by NewConnectionError('<urllib3.connection.HTTPConnection object at 0x7f72803a8130>: Failed to establish a new connection: [Errno 110] Connection timed out'))\n",
      "2 HTTPConnectionPool(host='www.ipedr.com', port=80): Max retries exceeded with url: /vol10/94-S10058.pdf (Caused by NewConnectionError('<urllib3.connection.HTTPConnection object at 0x7f72802b2d90>: Failed to establish a new connection: [Errno 110] Connection timed out'))\n"
     ]
    },
    {
     "name": "stderr",
     "output_type": "stream",
     "text": [
      "\r",
      "  1%|▎                              | 646/54610 [2:01:28<3020:32:56, 201.50s/it]"
     ]
    },
    {
     "name": "stdout",
     "output_type": "stream",
     "text": [
      "0 HTTPConnectionPool(host='www.ipedr.com', port=80): Max retries exceeded with url: /vol40/029-ICPSB2012-P10034.pdf (Caused by NewConnectionError('<urllib3.connection.HTTPConnection object at 0x7f728033aa00>: Failed to establish a new connection: [Errno 110] Connection timed out'))\n",
      "1 HTTPConnectionPool(host='www.ipedr.com', port=80): Max retries exceeded with url: /vol40/029-ICPSB2012-P10034.pdf (Caused by NewConnectionError('<urllib3.connection.HTTPConnection object at 0x7f728039d1f0>: Failed to establish a new connection: [Errno 110] Connection timed out'))\n",
      "2 HTTPConnectionPool(host='www.ipedr.com', port=80): Max retries exceeded with url: /vol40/029-ICPSB2012-P10034.pdf (Caused by NewConnectionError('<urllib3.connection.HTTPConnection object at 0x7f72803b5040>: Failed to establish a new connection: [Errno 110] Connection timed out'))\n"
     ]
    },
    {
     "name": "stderr",
     "output_type": "stream",
     "text": [
      "  1%|▍                                 | 666/54610 [2:08:41<31:14:01,  2.08s/it]"
     ]
    },
    {
     "name": "stdout",
     "output_type": "stream",
     "text": [
      "0 HTTPConnectionPool(host='www.jchr.org', port=80): Max retries exceeded with url: /article_688552_4ff7698b0684713143fd79b6d947f7b7.pdf (Caused by NewConnectionError('<urllib3.connection.HTTPConnection object at 0x7f728033afd0>: Failed to establish a new connection: [Errno -3] Temporary failure in name resolution'))\n",
      "1 HTTPConnectionPool(host='www.jchr.org', port=80): Max retries exceeded with url: /article_688552_4ff7698b0684713143fd79b6d947f7b7.pdf (Caused by NewConnectionError('<urllib3.connection.HTTPConnection object at 0x7f728033a730>: Failed to establish a new connection: [Errno -3] Temporary failure in name resolution'))\n",
      "2 HTTPConnectionPool(host='www.jchr.org', port=80): Max retries exceeded with url: /article_688552_4ff7698b0684713143fd79b6d947f7b7.pdf (Caused by NewConnectionError('<urllib3.connection.HTTPConnection object at 0x7f728033a190>: Failed to establish a new connection: [Errno -3] Temporary failure in name resolution'))\n"
     ]
    },
    {
     "name": "stderr",
     "output_type": "stream",
     "text": [
      "  1%|▍                                 | 773/54610 [2:10:07<18:36:02,  1.24s/it]"
     ]
    },
    {
     "name": "stdout",
     "output_type": "stream",
     "text": [
      "0 HTTPConnectionPool(host='www.mapeki.org', port=80): Max retries exceeded with url: /wrj/wp-content/uploads/2012/02/Formation-of-SiC-Rods-in-Composites-of-SiCSiO2C-from-Carbonized-Wood-Infiltrated-with-Ethylsilicate-40.pdf (Caused by NewConnectionError('<urllib3.connection.HTTPConnection object at 0x7f728033ad00>: Failed to establish a new connection: [Errno -2] Name or service not known'))\n",
      "1 HTTPConnectionPool(host='www.mapeki.org', port=80): Max retries exceeded with url: /wrj/wp-content/uploads/2012/02/Formation-of-SiC-Rods-in-Composites-of-SiCSiO2C-from-Carbonized-Wood-Infiltrated-with-Ethylsilicate-40.pdf (Caused by NewConnectionError('<urllib3.connection.HTTPConnection object at 0x7f728033a580>: Failed to establish a new connection: [Errno -2] Name or service not known'))\n",
      "2 HTTPConnectionPool(host='www.mapeki.org', port=80): Max retries exceeded with url: /wrj/wp-content/uploads/2012/02/Formation-of-SiC-Rods-in-Composites-of-SiCSiO2C-from-Carbonized-Wood-Infiltrated-with-Ethylsilicate-40.pdf (Caused by NewConnectionError('<urllib3.connection.HTTPConnection object at 0x7f728033a550>: Failed to establish a new connection: [Errno -2] Name or service not known'))\n"
     ]
    },
    {
     "name": "stderr",
     "output_type": "stream",
     "text": [
      "  1%|▌                                 | 810/54610 [2:11:10<22:43:21,  1.52s/it]"
     ]
    },
    {
     "name": "stdout",
     "output_type": "stream",
     "text": [
      "0 HTTPSConnectionPool(host='www.questjournals.org', port=443): Max retries exceeded with url: /jmdsr/papers/vol3-issue10/F3102025.pdf (Caused by NewConnectionError('<urllib3.connection.HTTPSConnection object at 0x7f728036d580>: Failed to establish a new connection: [Errno 110] Connection timed out'))\n"
     ]
    },
    {
     "name": "stderr",
     "output_type": "stream",
     "text": [
      "\r",
      "  1%|▍                                | 811/54610 [2:14:14<825:00:09, 55.21s/it]"
     ]
    },
    {
     "name": "stdout",
     "output_type": "stream",
     "text": [
      "0 HTTPSConnectionPool(host='www.questjournals.org', port=443): Max retries exceeded with url: /jrbm/papers/vol4-issue3/C431625.pdf (Caused by NewConnectionError('<urllib3.connection.HTTPSConnection object at 0x7f72803b5e50>: Failed to establish a new connection: [Errno 110] Connection timed out'))\n"
     ]
    },
    {
     "name": "stderr",
     "output_type": "stream",
     "text": [
      "\r",
      "  1%|▍                               | 812/54610 [2:16:57<1302:17:49, 87.15s/it]"
     ]
    },
    {
     "name": "stdout",
     "output_type": "stream",
     "text": [
      "0 HTTPConnectionPool(host='www.rassweb.com', port=80): Max retries exceeded with url: /wp-content/uploads/PDF/IJMS/Vol-1/Issue-10/Paper4.pdf (Caused by NewConnectionError('<urllib3.connection.HTTPConnection object at 0x7f72802b2310>: Failed to establish a new connection: [Errno -3] Temporary failure in name resolution'))\n",
      "1 HTTPConnectionPool(host='www.rassweb.com', port=80): Max retries exceeded with url: /wp-content/uploads/PDF/IJMS/Vol-1/Issue-10/Paper4.pdf (Caused by NewConnectionError('<urllib3.connection.HTTPConnection object at 0x7f72802b2310>: Failed to establish a new connection: [Errno -3] Temporary failure in name resolution'))\n",
      "2 HTTPConnectionPool(host='www.rassweb.com', port=80): Max retries exceeded with url: /wp-content/uploads/PDF/IJMS/Vol-1/Issue-10/Paper4.pdf (Caused by NewConnectionError('<urllib3.connection.HTTPConnection object at 0x7f72802b21f0>: Failed to establish a new connection: [Errno -3] Temporary failure in name resolution'))\n"
     ]
    },
    {
     "name": "stderr",
     "output_type": "stream",
     "text": [
      "  2%|▌                                 | 832/54610 [2:17:06<11:24:13,  1.31it/s]"
     ]
    },
    {
     "name": "stdout",
     "output_type": "stream",
     "text": [
      "0 Exceeded 30 redirects.\n",
      "1 Exceeded 30 redirects.\n",
      "2 Exceeded 30 redirects.\n"
     ]
    },
    {
     "name": "stderr",
     "output_type": "stream",
     "text": [
      "  2%|▌                                 | 839/54610 [2:17:34<30:15:57,  2.03s/it]"
     ]
    },
    {
     "name": "stdout",
     "output_type": "stream",
     "text": [
      "0 HTTPSConnectionPool(host='www.www.serialsjournals.com', port=443): Max retries exceeded with url: /index.php?_route_=serialjournalmanager/pdf/1456908622.pdf (Caused by NewConnectionError('<urllib3.connection.HTTPSConnection object at 0x7f7280347760>: Failed to establish a new connection: [Errno -2] Name or service not known'))\n",
      "1 HTTPSConnectionPool(host='www.www.serialsjournals.com', port=443): Max retries exceeded with url: /index.php?_route_=serialjournalmanager/pdf/1456908622.pdf (Caused by NewConnectionError('<urllib3.connection.HTTPSConnection object at 0x7f7280347a60>: Failed to establish a new connection: [Errno -2] Name or service not known'))\n",
      "2 HTTPSConnectionPool(host='www.www.serialsjournals.com', port=443): Max retries exceeded with url: /index.php?_route_=serialjournalmanager/pdf/1456908622.pdf (Caused by NewConnectionError('<urllib3.connection.HTTPSConnection object at 0x7f7280347a90>: Failed to establish a new connection: [Errno -2] Name or service not known'))\n"
     ]
    },
    {
     "name": "stderr",
     "output_type": "stream",
     "text": [
      "  2%|▌                                 | 974/54610 [2:21:54<42:14:50,  2.84s/it]"
     ]
    },
    {
     "name": "stdout",
     "output_type": "stream",
     "text": [
      "0 ('Connection aborted.', RemoteDisconnected('Remote end closed connection without response'))\n",
      "1 ('Connection aborted.', RemoteDisconnected('Remote end closed connection without response'))\n",
      "2 ('Connection aborted.', RemoteDisconnected('Remote end closed connection without response'))\n"
     ]
    },
    {
     "name": "stderr",
     "output_type": "stream",
     "text": [
      "\r",
      "  2%|▌                              | 975/54610 [2:28:03<1675:16:28, 112.45s/it]"
     ]
    },
    {
     "name": "stdout",
     "output_type": "stream",
     "text": [
      "0 ('Connection aborted.', RemoteDisconnected('Remote end closed connection without response'))\n",
      "1 ('Connection aborted.', RemoteDisconnected('Remote end closed connection without response'))\n",
      "2 ('Connection aborted.', RemoteDisconnected('Remote end closed connection without response'))\n"
     ]
    },
    {
     "name": "stderr",
     "output_type": "stream",
     "text": [
      "  3%|▉                                 | 1450/54610 [2:40:42<8:51:50,  1.67it/s]"
     ]
    },
    {
     "name": "stdout",
     "output_type": "stream",
     "text": [
      "0 ('Connection aborted.', RemoteDisconnected('Remote end closed connection without response'))\n"
     ]
    },
    {
     "name": "stderr",
     "output_type": "stream",
     "text": [
      " 13%|████▎                             | 6849/54610 [3:34:33<7:31:49,  1.76it/s]"
     ]
    },
    {
     "name": "stdout",
     "output_type": "stream",
     "text": [
      "0 ('Connection aborted.', RemoteDisconnected('Remote end closed connection without response'))\n"
     ]
    },
    {
     "name": "stderr",
     "output_type": "stream",
     "text": [
      " 16%|█████▍                            | 8650/54610 [3:51:51<6:38:37,  1.92it/s]"
     ]
    },
    {
     "name": "stdout",
     "output_type": "stream",
     "text": [
      "0 ('Connection aborted.', RemoteDisconnected('Remote end closed connection without response'))\n"
     ]
    },
    {
     "name": "stderr",
     "output_type": "stream",
     "text": [
      " 34%|███████████▎                     | 18809/54610 [5:28:09<5:19:15,  1.87it/s]IOPub message rate exceeded.\n",
      "The notebook server will temporarily stop sending output\n",
      "to the client in order to avoid crashing it.\n",
      "To change this limit, set the config variable\n",
      "`--NotebookApp.iopub_msg_rate_limit`.\n",
      "\n",
      "Current values:\n",
      "NotebookApp.iopub_msg_rate_limit=1000.0 (msgs/sec)\n",
      "NotebookApp.rate_limit_window=3.0 (secs)\n",
      "\n",
      " 90%|████████████████████████████▊   | 49194/54610 [13:10:28<1:26:42,  1.04it/s]IOPub message rate exceeded.\n",
      "The notebook server will temporarily stop sending output\n",
      "to the client in order to avoid crashing it.\n",
      "To change this limit, set the config variable\n",
      "`--NotebookApp.iopub_msg_rate_limit`.\n",
      "\n",
      "Current values:\n",
      "NotebookApp.iopub_msg_rate_limit=1000.0 (msgs/sec)\n",
      "NotebookApp.rate_limit_window=3.0 (secs)\n",
      "\n",
      " 95%|██████████████████████████████▍ | 51990/54610 [14:07:27<1:17:07,  1.77s/it]"
     ]
    },
    {
     "name": "stdout",
     "output_type": "stream",
     "text": [
      "0 ('Connection aborted.', RemoteDisconnected('Remote end closed connection without response'))\n"
     ]
    },
    {
     "name": "stderr",
     "output_type": "stream",
     "text": [
      " 98%|█████████████████████████████████▍| 53623/54610 [14:47:59<25:03,  1.52s/it]"
     ]
    },
    {
     "name": "stdout",
     "output_type": "stream",
     "text": [
      "0 ('Connection aborted.', RemoteDisconnected('Remote end closed connection without response'))\n"
     ]
    },
    {
     "name": "stderr",
     "output_type": "stream",
     "text": [
      " 99%|█████████████████████████████████▋| 54191/54610 [15:12:32<13:55,  2.00s/it]"
     ]
    },
    {
     "name": "stdout",
     "output_type": "stream",
     "text": [
      "0 HTTPSConnectionPool(host='ijafp.com', port=443): Max retries exceeded with url: /wp-content/uploads/2016/06/PL-26.pdf (Caused by NewConnectionError('<urllib3.connection.HTTPSConnection object at 0x7f72803e6430>: Failed to establish a new connection: [Errno 110] Connection timed out'))\n",
      "1 HTTPSConnectionPool(host='ijafp.com', port=443): Max retries exceeded with url: /wp-content/uploads/2016/06/PL-26.pdf (Caused by NewConnectionError('<urllib3.connection.HTTPSConnection object at 0x7f72803e6760>: Failed to establish a new connection: [Errno 110] Connection timed out'))\n",
      "2 HTTPSConnectionPool(host='ijafp.com', port=443): Max retries exceeded with url: /wp-content/uploads/2016/06/PL-26.pdf (Caused by NewConnectionError('<urllib3.connection.HTTPSConnection object at 0x7f7282c7ae80>: Failed to establish a new connection: [Errno 110] Connection timed out'))\n"
     ]
    },
    {
     "name": "stderr",
     "output_type": "stream",
     "text": [
      "\r",
      " 99%|█████████████████████████████▊| 54192/54610 [15:19:05<13:50:43, 119.24s/it]"
     ]
    },
    {
     "name": "stdout",
     "output_type": "stream",
     "text": [
      "0 HTTPSConnectionPool(host='ijafp.com', port=443): Max retries exceeded with url: /wp-content/uploads/2019/09/KLIAFP8_082.pdf (Caused by NewConnectionError('<urllib3.connection.HTTPSConnection object at 0x7f72803ceac0>: Failed to establish a new connection: [Errno 110] Connection timed out'))\n",
      "1 HTTPSConnectionPool(host='ijafp.com', port=443): Max retries exceeded with url: /wp-content/uploads/2019/09/KLIAFP8_082.pdf (Caused by NewConnectionError('<urllib3.connection.HTTPSConnection object at 0x7f728036bf10>: Failed to establish a new connection: [Errno 110] Connection timed out'))\n",
      "2 HTTPSConnectionPool(host='ijafp.com', port=443): Max retries exceeded with url: /wp-content/uploads/2019/09/KLIAFP8_082.pdf (Caused by NewConnectionError('<urllib3.connection.HTTPSConnection object at 0x7f72802a4f70>: Failed to establish a new connection: [Errno 110] Connection timed out'))\n"
     ]
    },
    {
     "name": "stderr",
     "output_type": "stream",
     "text": [
      "\r",
      " 99%|█████████████████████████████▊| 54193/54610 [15:25:38<23:19:58, 201.44s/it]"
     ]
    },
    {
     "name": "stdout",
     "output_type": "stream",
     "text": [
      "0 HTTPSConnectionPool(host='ijafp.com', port=443): Max retries exceeded with url: /wp-content/uploads/2020/11/KLIAFP10_075.pdf (Caused by NewConnectionError('<urllib3.connection.HTTPSConnection object at 0x7f728039da60>: Failed to establish a new connection: [Errno 110] Connection timed out'))\n",
      "1 HTTPSConnectionPool(host='ijafp.com', port=443): Max retries exceeded with url: /wp-content/uploads/2020/11/KLIAFP10_075.pdf (Caused by NewConnectionError('<urllib3.connection.HTTPSConnection object at 0x7f728039d9a0>: Failed to establish a new connection: [Errno 110] Connection timed out'))\n",
      "2 HTTPSConnectionPool(host='ijafp.com', port=443): Max retries exceeded with url: /wp-content/uploads/2020/11/KLIAFP10_075.pdf (Caused by NewConnectionError('<urllib3.connection.HTTPSConnection object at 0x7f72803e63d0>: Failed to establish a new connection: [Errno 110] Connection timed out'))\n"
     ]
    },
    {
     "name": "stderr",
     "output_type": "stream",
     "text": [
      "\r",
      " 99%|█████████████████████████████▊| 54194/54610 [15:32:12<29:55:31, 258.97s/it]"
     ]
    },
    {
     "name": "stdout",
     "output_type": "stream",
     "text": [
      "0 HTTPSConnectionPool(host='ijafp.com', port=443): Max retries exceeded with url: /wp-content/uploads/2021/06/IJAFP11-052.pdf (Caused by NewConnectionError('<urllib3.connection.HTTPSConnection object at 0x7f72803ce760>: Failed to establish a new connection: [Errno 110] Connection timed out'))\n",
      "1 HTTPSConnectionPool(host='ijafp.com', port=443): Max retries exceeded with url: /wp-content/uploads/2021/06/IJAFP11-052.pdf (Caused by NewConnectionError('<urllib3.connection.HTTPSConnection object at 0x7f7280120cd0>: Failed to establish a new connection: [Errno 110] Connection timed out'))\n",
      "2 HTTPSConnectionPool(host='ijafp.com', port=443): Max retries exceeded with url: /wp-content/uploads/2021/06/IJAFP11-052.pdf (Caused by NewConnectionError('<urllib3.connection.HTTPSConnection object at 0x7f7280207b50>: Failed to establish a new connection: [Errno 110] Connection timed out'))\n"
     ]
    },
    {
     "name": "stderr",
     "output_type": "stream",
     "text": [
      "\r",
      " 99%|█████████████████████████████▊| 54195/54610 [15:38:45<34:29:45, 299.24s/it]"
     ]
    },
    {
     "name": "stdout",
     "output_type": "stream",
     "text": [
      "0 HTTPSConnectionPool(host='ijafp.com', port=443): Max retries exceeded with url: /wp-content/uploads/2021/08/IJAFP12-053.pdf (Caused by NewConnectionError('<urllib3.connection.HTTPSConnection object at 0x7f7280395190>: Failed to establish a new connection: [Errno 110] Connection timed out'))\n",
      "1 HTTPSConnectionPool(host='ijafp.com', port=443): Max retries exceeded with url: /wp-content/uploads/2021/08/IJAFP12-053.pdf (Caused by NewConnectionError('<urllib3.connection.HTTPSConnection object at 0x7f7280395820>: Failed to establish a new connection: [Errno 110] Connection timed out'))\n",
      "2 HTTPSConnectionPool(host='ijafp.com', port=443): Max retries exceeded with url: /wp-content/uploads/2021/08/IJAFP12-053.pdf (Caused by NewConnectionError('<urllib3.connection.HTTPSConnection object at 0x7f7280207b80>: Failed to establish a new connection: [Errno 110] Connection timed out'))\n"
     ]
    },
    {
     "name": "stderr",
     "output_type": "stream",
     "text": [
      " 99%|█████████████████████████████████▊| 54303/54610 [15:49:36<04:32,  1.13it/s]"
     ]
    },
    {
     "name": "stdout",
     "output_type": "stream",
     "text": [
      "0 HTTPSConnectionPool(host='migc-pgm.com', port=443): Max retries exceeded with url: /images/saintifik/program_book_MiGC14.pdf (Caused by NewConnectionError('<urllib3.connection.HTTPSConnection object at 0x7f728036d250>: Failed to establish a new connection: [Errno -2] Name or service not known'))\n",
      "1 HTTPSConnectionPool(host='migc-pgm.com', port=443): Max retries exceeded with url: /images/saintifik/program_book_MiGC14.pdf (Caused by NewConnectionError('<urllib3.connection.HTTPSConnection object at 0x7f728036d250>: Failed to establish a new connection: [Errno -2] Name or service not known'))\n",
      "2 HTTPSConnectionPool(host='migc-pgm.com', port=443): Max retries exceeded with url: /images/saintifik/program_book_MiGC14.pdf (Caused by NewConnectionError('<urllib3.connection.HTTPSConnection object at 0x7f728036d9a0>: Failed to establish a new connection: [Errno -2] Name or service not known'))\n"
     ]
    },
    {
     "name": "stderr",
     "output_type": "stream",
     "text": [
      " 99%|█████████████████████████████████▊| 54309/54610 [15:49:45<06:12,  1.24s/it]"
     ]
    },
    {
     "name": "stdout",
     "output_type": "stream",
     "text": [
      "0 HTTPSConnectionPool(host='myjurnal.mohe.gov.my', port=443): Max retries exceeded with url: /filebank/published_article/27574/7.pdf (Caused by SSLError(SSLError(1, '[SSL: DH_KEY_TOO_SMALL] dh key too small (_ssl.c:1131)')))\n",
      "1 HTTPSConnectionPool(host='myjurnal.mohe.gov.my', port=443): Max retries exceeded with url: /filebank/published_article/27574/7.pdf (Caused by SSLError(SSLError(1, '[SSL: DH_KEY_TOO_SMALL] dh key too small (_ssl.c:1131)')))\n",
      "2 HTTPSConnectionPool(host='myjurnal.mohe.gov.my', port=443): Max retries exceeded with url: /filebank/published_article/27574/7.pdf (Caused by SSLError(SSLError(1, '[SSL: DH_KEY_TOO_SMALL] dh key too small (_ssl.c:1131)')))\n"
     ]
    },
    {
     "name": "stderr",
     "output_type": "stream",
     "text": [
      "\r",
      " 99%|█████████████████████████████████▊| 54310/54610 [15:49:47<06:51,  1.37s/it]"
     ]
    },
    {
     "name": "stdout",
     "output_type": "stream",
     "text": [
      "0 HTTPSConnectionPool(host='myjurnal.mohe.gov.my', port=443): Max retries exceeded with url: /filebank/published_article/76078/5.pdf (Caused by SSLError(SSLError(1, '[SSL: DH_KEY_TOO_SMALL] dh key too small (_ssl.c:1131)')))\n",
      "1 HTTPSConnectionPool(host='myjurnal.mohe.gov.my', port=443): Max retries exceeded with url: /filebank/published_article/76078/5.pdf (Caused by SSLError(SSLError(1, '[SSL: DH_KEY_TOO_SMALL] dh key too small (_ssl.c:1131)')))\n",
      "2 HTTPSConnectionPool(host='myjurnal.mohe.gov.my', port=443): Max retries exceeded with url: /filebank/published_article/76078/5.pdf (Caused by SSLError(SSLError(1, '[SSL: DH_KEY_TOO_SMALL] dh key too small (_ssl.c:1131)')))\n"
     ]
    },
    {
     "name": "stderr",
     "output_type": "stream",
     "text": [
      "100%|█████████████████████████████████▊| 54342/54610 [15:50:45<17:49,  3.99s/it]"
     ]
    },
    {
     "name": "stdout",
     "output_type": "stream",
     "text": [
      "0 HTTPSConnectionPool(host='scientificarray.org', port=443): Max retries exceeded with url: /ijgt/wp-content/uploads/2022/04/IJGTV8A1-Wong-1.pdf (Caused by NewConnectionError('<urllib3.connection.HTTPSConnection object at 0x7f728243c760>: Failed to establish a new connection: [Errno -2] Name or service not known'))\n",
      "1 HTTPSConnectionPool(host='scientificarray.org', port=443): Max retries exceeded with url: /ijgt/wp-content/uploads/2022/04/IJGTV8A1-Wong-1.pdf (Caused by NewConnectionError('<urllib3.connection.HTTPSConnection object at 0x7f72801c4dc0>: Failed to establish a new connection: [Errno -2] Name or service not known'))\n",
      "2 HTTPSConnectionPool(host='scientificarray.org', port=443): Max retries exceeded with url: /ijgt/wp-content/uploads/2022/04/IJGTV8A1-Wong-1.pdf (Caused by NewConnectionError('<urllib3.connection.HTTPSConnection object at 0x7f728243c940>: Failed to establish a new connection: [Errno -2] Name or service not known'))\n"
     ]
    },
    {
     "name": "stderr",
     "output_type": "stream",
     "text": [
      "100%|█████████████████████████████████▉| 54580/54610 [15:57:43<00:54,  1.83s/it]"
     ]
    },
    {
     "name": "stdout",
     "output_type": "stream",
     "text": [
      "0 HTTPSConnectionPool(host='www.thaiscience.info', port=443): Max retries exceeded with url: /Journals/Article/SONG/10993068.pdf (Caused by NewConnectionError('<urllib3.connection.HTTPSConnection object at 0x7f72803ceb50>: Failed to establish a new connection: [Errno 110] Connection timed out'))\n",
      "1 HTTPSConnectionPool(host='www.thaiscience.info', port=443): Max retries exceeded with url: /Journals/Article/SONG/10993068.pdf (Caused by NewConnectionError('<urllib3.connection.HTTPSConnection object at 0x7f728036bb50>: Failed to establish a new connection: [Errno 110] Connection timed out'))\n",
      "2 HTTPSConnectionPool(host='www.thaiscience.info', port=443): Max retries exceeded with url: /Journals/Article/SONG/10993068.pdf (Caused by NewConnectionError('<urllib3.connection.HTTPSConnection object at 0x7f728036d940>: Failed to establish a new connection: [Errno 110] Connection timed out'))\n"
     ]
    },
    {
     "name": "stderr",
     "output_type": "stream",
     "text": [
      "100%|██████████████████████████████████| 54610/54610 [16:04:42<00:00,  1.06s/it]\n"
     ]
    }
   ],
   "source": [
    "max_worker = 1\n",
    "\n",
    "ums = sorted(list(ums))\n",
    "for i in tqdm(range(1, len(ums), max_worker)):\n",
    "    urls = [(url, os.path.join('ums', f'{i}-{no}.pdf')) for no, url in enumerate(ums[i: i + max_worker])]\n",
    "    \n",
    "    with ThreadPoolExecutor(max_workers=max_worker) as executor:\n",
    "        futures = {executor.submit(download, url[0], url[1]): url for url in urls}\n",
    "\n",
    "        for future in as_completed(futures):\n",
    "            future.result()"
   ]
  },
  {
   "cell_type": "code",
   "execution_count": null,
   "metadata": {},
   "outputs": [],
   "source": []
  }
 ],
 "metadata": {
  "kernelspec": {
   "display_name": "Python 3 (ipykernel)",
   "language": "python",
   "name": "python3"
  },
  "language_info": {
   "codemirror_mode": {
    "name": "ipython",
    "version": 3
   },
   "file_extension": ".py",
   "mimetype": "text/x-python",
   "name": "python",
   "nbconvert_exporter": "python",
   "pygments_lexer": "ipython3",
   "version": "3.8.10"
  }
 },
 "nbformat": 4,
 "nbformat_minor": 4
}
