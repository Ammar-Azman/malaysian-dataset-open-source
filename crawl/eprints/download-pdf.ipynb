{
 "cells": [
  {
   "cell_type": "code",
   "execution_count": 1,
   "metadata": {},
   "outputs": [],
   "source": [
    "import urllib3\n",
    "urllib3.disable_warnings(urllib3.exceptions.InsecureRequestWarning)"
   ]
  },
  {
   "cell_type": "code",
   "execution_count": 2,
   "metadata": {},
   "outputs": [],
   "source": [
    "import requests\n",
    "import json\n",
    "import os\n",
    "import re\n",
    "import time\n",
    "from tqdm import tqdm\n",
    "from glob import glob\n",
    "from concurrent.futures import ThreadPoolExecutor, as_completed"
   ]
  },
  {
   "cell_type": "code",
   "execution_count": 3,
   "metadata": {},
   "outputs": [],
   "source": [
    "def download(url, file_name, retry = 3):\n",
    "    if os.path.exists(file_name) and os.path.getsize(file_name) > 50000:\n",
    "        return\n",
    "    with open(file_name, \"wb\") as file:\n",
    "        try:\n",
    "            response = requests.get(url, verify = False, timeout = 360)\n",
    "            file.write(response.content)\n",
    "        except Exception as e:\n",
    "            print(e)"
   ]
  },
  {
   "cell_type": "code",
   "execution_count": 4,
   "metadata": {},
   "outputs": [
    {
     "data": {
      "text/plain": [
       "18787"
      ]
     },
     "execution_count": 4,
     "metadata": {},
     "output_type": "execute_result"
    }
   ],
   "source": [
    "files = glob('pages/*.json')\n",
    "len(files)"
   ]
  },
  {
   "cell_type": "code",
   "execution_count": 5,
   "metadata": {
    "scrolled": true
   },
   "outputs": [],
   "source": [
    "pdfs = []\n",
    "for f in files:\n",
    "    with open(f) as fopen:\n",
    "        pdfs.extend(json.load(fopen))\n",
    "        \n",
    "pdfs = list(set(pdfs))"
   ]
  },
  {
   "cell_type": "code",
   "execution_count": 6,
   "metadata": {},
   "outputs": [
    {
     "name": "stderr",
     "output_type": "stream",
     "text": [
      "100%|███████████████████████████████| 235433/235433 [00:00<00:00, 651633.49it/s]\n"
     ]
    },
    {
     "data": {
      "text/plain": [
       "235130"
      ]
     },
     "execution_count": 6,
     "metadata": {},
     "output_type": "execute_result"
    }
   ],
   "source": [
    "filtered_pdfs = []\n",
    "for p in tqdm(pdfs):\n",
    "    if len(re.findall( r'[0-9]+(?:\\.[0-9]+){3}', p)):\n",
    "        continue\n",
    "    if not p.endswith('.pdf'):\n",
    "        continue\n",
    "    if 'ade.sagepub.com' in p:\n",
    "        continue\n",
    "    filtered_pdfs.append(p)\n",
    "    \n",
    "filtered_pdfs = sorted(list(set(filtered_pdfs)))\n",
    "len(filtered_pdfs)"
   ]
  },
  {
   "cell_type": "code",
   "execution_count": 7,
   "metadata": {},
   "outputs": [
    {
     "data": {
      "text/plain": [
       "52433"
      ]
     },
     "execution_count": 7,
     "metadata": {},
     "output_type": "execute_result"
    }
   ],
   "source": [
    "um = [f for f in filtered_pdfs if 'um.edu.my' in f]\n",
    "len(um)"
   ]
  },
  {
   "cell_type": "code",
   "execution_count": 8,
   "metadata": {},
   "outputs": [
    {
     "data": {
      "text/plain": [
       "35731"
      ]
     },
     "execution_count": 8,
     "metadata": {},
     "output_type": "execute_result"
    }
   ],
   "source": [
    "usm = [f for f in filtered_pdfs if 'usm.my' in f]\n",
    "len(usm)"
   ]
  },
  {
   "cell_type": "code",
   "execution_count": 9,
   "metadata": {},
   "outputs": [
    {
     "data": {
      "text/plain": [
       "76"
      ]
     },
     "execution_count": 9,
     "metadata": {},
     "output_type": "execute_result"
    }
   ],
   "source": [
    "upm = [f for f in filtered_pdfs if 'upm.edu.my' in f]\n",
    "len(upm)"
   ]
  },
  {
   "cell_type": "code",
   "execution_count": 10,
   "metadata": {},
   "outputs": [
    {
     "data": {
      "text/plain": [
       "122630"
      ]
     },
     "execution_count": 10,
     "metadata": {},
     "output_type": "execute_result"
    }
   ],
   "source": [
    "uitm = [f for f in filtered_pdfs if 'uitm.edu.my' in f]\n",
    "len(uitm)"
   ]
  },
  {
   "cell_type": "code",
   "execution_count": 11,
   "metadata": {},
   "outputs": [
    {
     "data": {
      "text/plain": [
       "18101"
      ]
     },
     "execution_count": 11,
     "metadata": {},
     "output_type": "execute_result"
    }
   ],
   "source": [
    "ukm = [f for f in filtered_pdfs if 'ukm.my' in f]\n",
    "len(ukm)"
   ]
  },
  {
   "cell_type": "code",
   "execution_count": 12,
   "metadata": {},
   "outputs": [],
   "source": [
    "utar = [f for f in filtered_pdfs if 'utar.edu.my' in f]"
   ]
  },
  {
   "cell_type": "code",
   "execution_count": 13,
   "metadata": {},
   "outputs": [],
   "source": [
    "others = set(filtered_pdfs) - (set(um) | set(usm) | set(upm) | set(uitm) | set(ukm) | set(utar))"
   ]
  },
  {
   "cell_type": "code",
   "execution_count": 14,
   "metadata": {},
   "outputs": [
    {
     "name": "stdout",
     "output_type": "stream",
     "text": [
      "mkdir: cannot create directory ‘others’: File exists\r\n"
     ]
    }
   ],
   "source": [
    "# !rm -rf others\n",
    "!mkdir others"
   ]
  },
  {
   "cell_type": "code",
   "execution_count": 15,
   "metadata": {},
   "outputs": [
    {
     "name": "stderr",
     "output_type": "stream",
     "text": [
      "  0%|                                          | 1/1899 [00:00<04:25,  7.14it/s]"
     ]
    },
    {
     "name": "stdout",
     "output_type": "stream",
     "text": [
      "HTTPConnectionPool(host='administrator.asiapacific.edu', port=80): Max retries exceeded with url: /userfiles/Final%20APMR%20Journal%20Review-Vol-III.pdf (Caused by NewConnectionError('<urllib3.connection.HTTPConnection object at 0x7f5d37e68490>: Failed to establish a new connection: [Errno -2] Name or service not known'))\n"
     ]
    },
    {
     "name": "stderr",
     "output_type": "stream",
     "text": [
      "  1%|▌                                        | 26/1899 [00:02<02:23, 13.07it/s]"
     ]
    },
    {
     "name": "stdout",
     "output_type": "stream",
     "text": [
      "HTTPConnectionPool(host='ajse.kfupm.edu.sa', port=80): Max retries exceeded with url: /articles/352B20p.05.pdf (Caused by NewConnectionError('<urllib3.connection.HTTPConnection object at 0x7f5d37e5fbb0>: Failed to establish a new connection: [Errno -2] Name or service not known'))\n"
     ]
    },
    {
     "name": "stderr",
     "output_type": "stream",
     "text": [
      "  3%|█▍                                       | 64/1899 [00:17<13:37,  2.25it/s]"
     ]
    },
    {
     "name": "stdout",
     "output_type": "stream",
     "text": [
      "HTTPConnectionPool(host='cesmaa.eu', port=80): Max retries exceeded with url: /journals/jaes/files/JAES%20Spring%20XII%201(47)_2017_online.pdf (Caused by NewConnectionError('<urllib3.connection.HTTPConnection object at 0x7f5d37e68a30>: Failed to establish a new connection: [Errno -3] Temporary failure in name resolution'))\n",
      "HTTPConnectionPool(host='cesmaa.eu', port=80): Max retries exceeded with url: /journals/jaes/files/JAES_2014_Winter_short%20version.pdf (Caused by NewConnectionError('<urllib3.connection.HTTPConnection object at 0x7f5d37e1bf70>: Failed to establish a new connection: [Errno -3] Temporary failure in name resolution'))\n",
      "HTTPConnectionPool(host='coesa.ums.edu.my', port=80): Max retries exceeded with url: /rccst_2007/paper/HusnizaUUM.pdf (Caused by NewConnectionError('<urllib3.connection.HTTPConnection object at 0x7f5d37e688b0>: Failed to establish a new connection: [Errno -2] Name or service not known'))\n"
     ]
    },
    {
     "name": "stderr",
     "output_type": "stream",
     "text": [
      "  6%|██▌                                     | 120/1899 [00:47<46:53,  1.58s/it]"
     ]
    },
    {
     "name": "stdout",
     "output_type": "stream",
     "text": [
      "Exceeded 30 redirects.\n"
     ]
    },
    {
     "name": "stderr",
     "output_type": "stream",
     "text": [
      "  8%|███▏                                    | 152/1899 [01:00<19:20,  1.51it/s]"
     ]
    },
    {
     "name": "stdout",
     "output_type": "stream",
     "text": [
      "HTTPConnectionPool(host='gifre.org', port=80): Max retries exceeded with url: /library/upload/volume/7-12-Leadership-vol-4-2-gjiss.pdf (Caused by NewConnectionError('<urllib3.connection.HTTPConnection object at 0x7f5d37e1b8b0>: Failed to establish a new connection: [Errno -3] Temporary failure in name resolution'))\n"
     ]
    },
    {
     "name": "stderr",
     "output_type": "stream",
     "text": [
      "  8%|███                                  | 154/1899 [03:13<19:17:20, 39.79s/it]"
     ]
    },
    {
     "name": "stdout",
     "output_type": "stream",
     "text": [
      "HTTPConnectionPool(host='gmm.fsksm.utm.my', port=80): Max retries exceeded with url: /~cogramm/cgi-bin/2004/upload_files/abstract/449317633605827_1.pdf (Caused by NewConnectionError('<urllib3.connection.HTTPConnection object at 0x7f5d37e1b8e0>: Failed to establish a new connection: [Errno 110] Connection timed out'))\n"
     ]
    },
    {
     "name": "stderr",
     "output_type": "stream",
     "text": [
      "  9%|███▌                                    | 172/1899 [03:38<55:07,  1.92s/it]"
     ]
    },
    {
     "name": "stdout",
     "output_type": "stream",
     "text": [
      "HTTPConnectionPool(host='icoci.cms.net.my', port=80): Max retries exceeded with url: /PROCEEDINGS/2017/Pdf_Version_Chap01e/PID115-37-42e.pdf (Caused by NewConnectionError('<urllib3.connection.HTTPConnection object at 0x7f5d37e5fc70>: Failed to establish a new connection: [Errno -2] Name or service not known'))\n",
      "HTTPConnectionPool(host='icoci.cms.net.my', port=80): Max retries exceeded with url: /PROCEEDINGS/2017/Pdf_Version_Chap01e/PID143-43-48e.pdf (Caused by NewConnectionError('<urllib3.connection.HTTPConnection object at 0x7f5d37e1bd00>: Failed to establish a new connection: [Errno -2] Name or service not known'))\n",
      "HTTPConnectionPool(host='icoci.cms.net.my', port=80): Max retries exceeded with url: /PROCEEDINGS/2017/Pdf_Version_Chap01e/PID19-1-7e.pdf (Caused by NewConnectionError('<urllib3.connection.HTTPConnection object at 0x7f5d37e5f700>: Failed to establish a new connection: [Errno -2] Name or service not known'))\n",
      "HTTPConnectionPool(host='icoci.cms.net.my', port=80): Max retries exceeded with url: /PROCEEDINGS/2017/Pdf_Version_Chap01e/PID217-62-68e.pdf (Caused by NewConnectionError('<urllib3.connection.HTTPConnection object at 0x7f5d37e1bd00>: Failed to establish a new connection: [Errno -2] Name or service not known'))\n",
      "HTTPConnectionPool(host='icoci.cms.net.my', port=80): Max retries exceeded with url: /PROCEEDINGS/2017/Pdf_Version_Chap01e/PID24-8-15e.pdf (Caused by NewConnectionError('<urllib3.connection.HTTPConnection object at 0x7f5d37e5f730>: Failed to establish a new connection: [Errno -2] Name or service not known'))\n",
      "HTTPConnectionPool(host='icoci.cms.net.my', port=80): Max retries exceeded with url: /PROCEEDINGS/2017/Pdf_Version_Chap01e/PID25-16-22e.pdf (Caused by NewConnectionError('<urllib3.connection.HTTPConnection object at 0x7f5d37e1bd00>: Failed to establish a new connection: [Errno -2] Name or service not known'))\n",
      "HTTPConnectionPool(host='icoci.cms.net.my', port=80): Max retries exceeded with url: /PROCEEDINGS/2017/Pdf_Version_Chap01e/PID29-23-28e.pdf (Caused by NewConnectionError('<urllib3.connection.HTTPConnection object at 0x7f5d37e5fbb0>: Failed to establish a new connection: [Errno -2] Name or service not known'))\n"
     ]
    },
    {
     "name": "stderr",
     "output_type": "stream",
     "text": [
      "  9%|███▊                                    | 180/1899 [03:38<27:13,  1.05it/s]"
     ]
    },
    {
     "name": "stdout",
     "output_type": "stream",
     "text": [
      "HTTPConnectionPool(host='icoci.cms.net.my', port=80): Max retries exceeded with url: /PROCEEDINGS/2017/Pdf_Version_Chap01e/PID89-29-36e.pdf (Caused by NewConnectionError('<urllib3.connection.HTTPConnection object at 0x7f5d37e1bfd0>: Failed to establish a new connection: [Errno -2] Name or service not known'))\n",
      "HTTPConnectionPool(host='icoci.cms.net.my', port=80): Max retries exceeded with url: /PROCEEDINGS/2017/Pdf_Version_Chap02e/PID126-112-118e.pdf (Caused by NewConnectionError('<urllib3.connection.HTTPConnection object at 0x7f5d37e5fc40>: Failed to establish a new connection: [Errno -2] Name or service not known'))\n",
      "HTTPConnectionPool(host='icoci.cms.net.my', port=80): Max retries exceeded with url: /PROCEEDINGS/2017/Pdf_Version_Chap02e/PID139-119-125e.pdf (Caused by NewConnectionError('<urllib3.connection.HTTPConnection object at 0x7f5d37e1b790>: Failed to establish a new connection: [Errno -2] Name or service not known'))\n",
      "HTTPConnectionPool(host='icoci.cms.net.my', port=80): Max retries exceeded with url: /PROCEEDINGS/2017/Pdf_Version_Chap02e/PID155-126-131e.pdf (Caused by NewConnectionError('<urllib3.connection.HTTPConnection object at 0x7f5d37e5fbb0>: Failed to establish a new connection: [Errno -2] Name or service not known'))\n",
      "HTTPConnectionPool(host='icoci.cms.net.my', port=80): Max retries exceeded with url: /PROCEEDINGS/2017/Pdf_Version_Chap02e/PID160-132-138e.pdf (Caused by NewConnectionError('<urllib3.connection.HTTPConnection object at 0x7f5d37e1b790>: Failed to establish a new connection: [Errno -2] Name or service not known'))\n",
      "HTTPConnectionPool(host='icoci.cms.net.my', port=80): Max retries exceeded with url: /PROCEEDINGS/2017/Pdf_Version_Chap02e/PID35-69-76e.pdf (Caused by NewConnectionError('<urllib3.connection.HTTPConnection object at 0x7f5d37de8d00>: Failed to establish a new connection: [Errno -2] Name or service not known'))\n",
      "HTTPConnectionPool(host='icoci.cms.net.my', port=80): Max retries exceeded with url: /PROCEEDINGS/2017/Pdf_Version_Chap02e/PID45-77-83e.pdf (Caused by NewConnectionError('<urllib3.connection.HTTPConnection object at 0x7f5d37e1b9a0>: Failed to establish a new connection: [Errno -2] Name or service not known'))\n"
     ]
    },
    {
     "name": "stderr",
     "output_type": "stream",
     "text": [
      " 10%|███▉                                    | 188/1899 [03:38<13:42,  2.08it/s]"
     ]
    },
    {
     "name": "stdout",
     "output_type": "stream",
     "text": [
      "HTTPConnectionPool(host='icoci.cms.net.my', port=80): Max retries exceeded with url: /PROCEEDINGS/2017/Pdf_Version_Chap02e/PID74-84-90e.pdf (Caused by NewConnectionError('<urllib3.connection.HTTPConnection object at 0x7f5d37e5fc40>: Failed to establish a new connection: [Errno -2] Name or service not known'))\n",
      "HTTPConnectionPool(host='icoci.cms.net.my', port=80): Max retries exceeded with url: /PROCEEDINGS/2017/Pdf_Version_Chap02e/PID79-91-98e.pdf (Caused by NewConnectionError('<urllib3.connection.HTTPConnection object at 0x7f5d37e1b9a0>: Failed to establish a new connection: [Errno -2] Name or service not known'))\n",
      "HTTPConnectionPool(host='icoci.cms.net.my', port=80): Max retries exceeded with url: /PROCEEDINGS/2017/Pdf_Version_Chap02e/PID85-99-104e.pdf (Caused by NewConnectionError('<urllib3.connection.HTTPConnection object at 0x7f5d37e5f3d0>: Failed to establish a new connection: [Errno -2] Name or service not known'))\n",
      "HTTPConnectionPool(host='icoci.cms.net.my', port=80): Max retries exceeded with url: /PROCEEDINGS/2017/Pdf_Version_Chap02e/PID98-105-111e.pdf (Caused by NewConnectionError('<urllib3.connection.HTTPConnection object at 0x7f5d37e1b9a0>: Failed to establish a new connection: [Errno -2] Name or service not known'))\n",
      "HTTPConnectionPool(host='icoci.cms.net.my', port=80): Max retries exceeded with url: /PROCEEDINGS/2017/Pdf_Version_Chap03e/PID101-167-174e.pdf (Caused by NewConnectionError('<urllib3.connection.HTTPConnection object at 0x7f5d37e5fc40>: Failed to establish a new connection: [Errno -2] Name or service not known'))\n",
      "HTTPConnectionPool(host='icoci.cms.net.my', port=80): Max retries exceeded with url: /PROCEEDINGS/2017/Pdf_Version_Chap03e/PID11-139-145e.pdf (Caused by NewConnectionError('<urllib3.connection.HTTPConnection object at 0x7f5d37e1b9d0>: Failed to establish a new connection: [Errno -2] Name or service not known'))\n",
      "HTTPConnectionPool(host='icoci.cms.net.my', port=80): Max retries exceeded with url: /PROCEEDINGS/2017/Pdf_Version_Chap03e/PID138-175-183e.pdf (Caused by NewConnectionError('<urllib3.connection.HTTPConnection object at 0x7f5d37e5f940>: Failed to establish a new connection: [Errno -2] Name or service not known'))\n"
     ]
    },
    {
     "name": "stderr",
     "output_type": "stream",
     "text": [
      " 10%|████                                    | 195/1899 [03:38<07:28,  3.80it/s]"
     ]
    },
    {
     "name": "stdout",
     "output_type": "stream",
     "text": [
      "HTTPConnectionPool(host='icoci.cms.net.my', port=80): Max retries exceeded with url: /PROCEEDINGS/2017/Pdf_Version_Chap03e/PID157-184-190e.pdf (Caused by NewConnectionError('<urllib3.connection.HTTPConnection object at 0x7f5d37e1b9d0>: Failed to establish a new connection: [Errno -2] Name or service not known'))\n",
      "HTTPConnectionPool(host='icoci.cms.net.my', port=80): Max retries exceeded with url: /PROCEEDINGS/2017/Pdf_Version_Chap03e/PID167-191-198e.pdf (Caused by NewConnectionError('<urllib3.connection.HTTPConnection object at 0x7f5d37e5f400>: Failed to establish a new connection: [Errno -2] Name or service not known'))\n",
      "HTTPConnectionPool(host='icoci.cms.net.my', port=80): Max retries exceeded with url: /PROCEEDINGS/2017/Pdf_Version_Chap03e/PID168-199-207e.pdf (Caused by NewConnectionError('<urllib3.connection.HTTPConnection object at 0x7f5d37e1b430>: Failed to establish a new connection: [Errno -2] Name or service not known'))\n",
      "HTTPConnectionPool(host='icoci.cms.net.my', port=80): Max retries exceeded with url: /PROCEEDINGS/2017/Pdf_Version_Chap03e/PID38-153-159e.pdf (Caused by NewConnectionError('<urllib3.connection.HTTPConnection object at 0x7f5d37e5f940>: Failed to establish a new connection: [Errno -2] Name or service not known'))\n",
      "HTTPConnectionPool(host='icoci.cms.net.my', port=80): Max retries exceeded with url: /PROCEEDINGS/2017/Pdf_Version_Chap03e/PID51-160-166e.pdf (Caused by NewConnectionError('<urllib3.connection.HTTPConnection object at 0x7f5d37e1b460>: Failed to establish a new connection: [Errno -2] Name or service not known'))\n",
      "HTTPConnectionPool(host='icoci.cms.net.my', port=80): Max retries exceeded with url: /PROCEEDINGS/2017/Pdf_Version_Chap04e/PID105-235-242e.pdf (Caused by NewConnectionError('<urllib3.connection.HTTPConnection object at 0x7f5d37e5f400>: Failed to establish a new connection: [Errno -2] Name or service not known'))\n",
      "HTTPConnectionPool(host='icoci.cms.net.my', port=80): Max retries exceeded with url: /PROCEEDINGS/2017/Pdf_Version_Chap04e/PID12-208-214e.pdf (Caused by NewConnectionError('<urllib3.connection.HTTPConnection object at 0x7f5d37e1b460>: Failed to establish a new connection: [Errno -2] Name or service not known'))\n"
     ]
    },
    {
     "name": "stderr",
     "output_type": "stream",
     "text": [
      " 11%|████▎                                   | 203/1899 [03:39<03:58,  7.10it/s]"
     ]
    },
    {
     "name": "stdout",
     "output_type": "stream",
     "text": [
      "HTTPConnectionPool(host='icoci.cms.net.my', port=80): Max retries exceeded with url: /PROCEEDINGS/2017/Pdf_Version_Chap04e/PID124-250-255e.pdf (Caused by NewConnectionError('<urllib3.connection.HTTPConnection object at 0x7f5d37e5f400>: Failed to establish a new connection: [Errno -2] Name or service not known'))\n",
      "HTTPConnectionPool(host='icoci.cms.net.my', port=80): Max retries exceeded with url: /PROCEEDINGS/2017/Pdf_Version_Chap04e/PID193-256-261e.pdf (Caused by NewConnectionError('<urllib3.connection.HTTPConnection object at 0x7f5d37de8940>: Failed to establish a new connection: [Errno -2] Name or service not known'))\n",
      "HTTPConnectionPool(host='icoci.cms.net.my', port=80): Max retries exceeded with url: /PROCEEDINGS/2017/Pdf_Version_Chap04e/PID33-215-221e.pdf (Caused by NewConnectionError('<urllib3.connection.HTTPConnection object at 0x7f5d37e2a280>: Failed to establish a new connection: [Errno -2] Name or service not known'))\n",
      "HTTPConnectionPool(host='icoci.cms.net.my', port=80): Max retries exceeded with url: /PROCEEDINGS/2017/Pdf_Version_Chap04e/PID50-222-227e.pdf (Caused by NewConnectionError('<urllib3.connection.HTTPConnection object at 0x7f5d37e1bc10>: Failed to establish a new connection: [Errno -2] Name or service not known'))\n",
      "HTTPConnectionPool(host='icoci.cms.net.my', port=80): Max retries exceeded with url: /PROCEEDINGS/2017/Pdf_Version_Chap04e/PID82-228-234e.pdf (Caused by NewConnectionError('<urllib3.connection.HTTPConnection object at 0x7f5d37e2a250>: Failed to establish a new connection: [Errno -2] Name or service not known'))\n",
      "HTTPConnectionPool(host='icoci.cms.net.my', port=80): Max retries exceeded with url: /PROCEEDINGS/2017/Pdf_Version_Chap04e/pid108-243-249e.pdf (Caused by NewConnectionError('<urllib3.connection.HTTPConnection object at 0x7f5d37e1bdc0>: Failed to establish a new connection: [Errno -2] Name or service not known'))\n",
      "HTTPConnectionPool(host='icoci.cms.net.my', port=80): Max retries exceeded with url: /PROCEEDINGS/2017/Pdf_Version_Chap05e/PID127-299-304e.pdf (Caused by NewConnectionError('<urllib3.connection.HTTPConnection object at 0x7f5d37e2a280>: Failed to establish a new connection: [Errno -2] Name or service not known'))\n",
      "HTTPConnectionPool(host='icoci.cms.net.my', port=80): Max retries exceeded with url: /PROCEEDINGS/2017/Pdf_Version_Chap05e/PID13-262-267e.pdf (Caused by NewConnectionError('<urllib3.connection.HTTPConnection object at 0x7f5d37e1bee0>: Failed to establish a new connection: [Errno -2] Name or service not known'))\n"
     ]
    },
    {
     "name": "stderr",
     "output_type": "stream",
     "text": [
      " 11%|████▍                                   | 211/1899 [03:39<02:23, 11.73it/s]"
     ]
    },
    {
     "name": "stdout",
     "output_type": "stream",
     "text": [
      "HTTPConnectionPool(host='icoci.cms.net.my', port=80): Max retries exceeded with url: /PROCEEDINGS/2017/Pdf_Version_Chap05e/PID20-268-275e.pdf (Caused by NewConnectionError('<urllib3.connection.HTTPConnection object at 0x7f5d37e2a250>: Failed to establish a new connection: [Errno -2] Name or service not known'))\n",
      "HTTPConnectionPool(host='icoci.cms.net.my', port=80): Max retries exceeded with url: /PROCEEDINGS/2017/Pdf_Version_Chap05e/PID207-305-310e.pdf (Caused by NewConnectionError('<urllib3.connection.HTTPConnection object at 0x7f5d37e1b460>: Failed to establish a new connection: [Errno -2] Name or service not known'))\n",
      "HTTPConnectionPool(host='icoci.cms.net.my', port=80): Max retries exceeded with url: /PROCEEDINGS/2017/Pdf_Version_Chap05e/PID39-276-281e.pdf (Caused by NewConnectionError('<urllib3.connection.HTTPConnection object at 0x7f5d37e2a2e0>: Failed to establish a new connection: [Errno -2] Name or service not known'))\n",
      "HTTPConnectionPool(host='icoci.cms.net.my', port=80): Max retries exceeded with url: /PROCEEDINGS/2017/Pdf_Version_Chap05e/PID62-282-290e.pdf (Caused by NewConnectionError('<urllib3.connection.HTTPConnection object at 0x7f5d37e1b430>: Failed to establish a new connection: [Errno -2] Name or service not known'))\n",
      "HTTPConnectionPool(host='icoci.cms.net.my', port=80): Max retries exceeded with url: /PROCEEDINGS/2017/Pdf_Version_Chap05e/PID90-291-298e.pdf (Caused by NewConnectionError('<urllib3.connection.HTTPConnection object at 0x7f5d37e2a2e0>: Failed to establish a new connection: [Errno -2] Name or service not known'))\n",
      "HTTPConnectionPool(host='icoci.cms.net.my', port=80): Max retries exceeded with url: /PROCEEDINGS/2017/Pdf_Version_Chap06e/PID147-332-340e.pdf (Caused by NewConnectionError('<urllib3.connection.HTTPConnection object at 0x7f5d37e1bd00>: Failed to establish a new connection: [Errno -2] Name or service not known'))\n",
      "HTTPConnectionPool(host='icoci.cms.net.my', port=80): Max retries exceeded with url: /PROCEEDINGS/2017/Pdf_Version_Chap06e/PID151-341-349e.pdf (Caused by NewConnectionError('<urllib3.connection.HTTPConnection object at 0x7f5d37e2a2e0>: Failed to establish a new connection: [Errno -2] Name or service not known'))\n"
     ]
    },
    {
     "name": "stderr",
     "output_type": "stream",
     "text": [
      "\r",
      " 11%|████▌                                   | 215/1899 [03:39<01:55, 14.54it/s]"
     ]
    },
    {
     "name": "stdout",
     "output_type": "stream",
     "text": [
      "HTTPConnectionPool(host='icoci.cms.net.my', port=80): Max retries exceeded with url: /PROCEEDINGS/2017/Pdf_Version_Chap06e/PID194-350-355e.pdf (Caused by NewConnectionError('<urllib3.connection.HTTPConnection object at 0x7f5d37e1bd90>: Failed to establish a new connection: [Errno -2] Name or service not known'))\n",
      "HTTPConnectionPool(host='icoci.cms.net.my', port=80): Max retries exceeded with url: /PROCEEDINGS/2017/Pdf_Version_Chap06e/PID195-356-362e.pdf (Caused by NewConnectionError('<urllib3.connection.HTTPConnection object at 0x7f5d37e2a2e0>: Failed to establish a new connection: [Errno -2] Name or service not known'))\n",
      "HTTPConnectionPool(host='icoci.cms.net.my', port=80): Max retries exceeded with url: /PROCEEDINGS/2017/Pdf_Version_Chap06e/PID30-317-322e.pdf (Caused by NewConnectionError('<urllib3.connection.HTTPConnection object at 0x7f5d37e1b430>: Failed to establish a new connection: [Errno -2] Name or service not known'))\n",
      "HTTPConnectionPool(host='icoci.cms.net.my', port=80): Max retries exceeded with url: /PROCEEDINGS/2017/Pdf_Version_Chap06e/PID80-323-331e.pdf (Caused by NewConnectionError('<urllib3.connection.HTTPConnection object at 0x7f5d37e2a670>: Failed to establish a new connection: [Errno -2] Name or service not known'))\n",
      "HTTPConnectionPool(host='icoci.cms.net.my', port=80): Max retries exceeded with url: /PROCEEDINGS/2017/Pdf_Version_Chap07e/PID120-369-376e.pdf (Caused by NewConnectionError('<urllib3.connection.HTTPConnection object at 0x7f5d37de8a00>: Failed to establish a new connection: [Errno -2] Name or service not known'))\n",
      "HTTPConnectionPool(host='icoci.cms.net.my', port=80): Max retries exceeded with url: /PROCEEDINGS/2017/Pdf_Version_Chap07e/PID161-377-382e.pdf (Caused by NewConnectionError('<urllib3.connection.HTTPConnection object at 0x7f5d37e5fc10>: Failed to establish a new connection: [Errno -2] Name or service not known'))\n",
      "HTTPConnectionPool(host='icoci.cms.net.my', port=80): Max retries exceeded with url: /PROCEEDINGS/2017/Pdf_Version_Chap07e/PID163-383-391e.pdf (Caused by NewConnectionError('<urllib3.connection.HTTPConnection object at 0x7f5d37e1bd90>: Failed to establish a new connection: [Errno -2] Name or service not known'))\n"
     ]
    },
    {
     "name": "stderr",
     "output_type": "stream",
     "text": [
      " 12%|████▋                                   | 223/1899 [03:39<01:24, 19.84it/s]"
     ]
    },
    {
     "name": "stdout",
     "output_type": "stream",
     "text": [
      "HTTPConnectionPool(host='icoci.cms.net.my', port=80): Max retries exceeded with url: /PROCEEDINGS/2017/Pdf_Version_Chap07e/PID176-392-399e.pdf (Caused by NewConnectionError('<urllib3.connection.HTTPConnection object at 0x7f5d37e5fc10>: Failed to establish a new connection: [Errno -2] Name or service not known'))\n",
      "HTTPConnectionPool(host='icoci.cms.net.my', port=80): Max retries exceeded with url: /PROCEEDINGS/2017/Pdf_Version_Chap07e/PID211-400-405e.pdf (Caused by NewConnectionError('<urllib3.connection.HTTPConnection object at 0x7f5d37e1bd90>: Failed to establish a new connection: [Errno -2] Name or service not known'))\n",
      "HTTPConnectionPool(host='icoci.cms.net.my', port=80): Max retries exceeded with url: /PROCEEDINGS/2017/Pdf_Version_Chap07e/PID7-363-368e.pdf (Caused by NewConnectionError('<urllib3.connection.HTTPConnection object at 0x7f5d37e5fd00>: Failed to establish a new connection: [Errno -2] Name or service not known'))\n",
      "HTTPConnectionPool(host='icoci.cms.net.my', port=80): Max retries exceeded with url: /PROCEEDINGS/2017/Pdf_Version_Chap08e/PID100-418-425e.pdf (Caused by NewConnectionError('<urllib3.connection.HTTPConnection object at 0x7f5d37e1bd90>: Failed to establish a new connection: [Errno -2] Name or service not known'))\n",
      "HTTPConnectionPool(host='icoci.cms.net.my', port=80): Max retries exceeded with url: /PROCEEDINGS/2017/Pdf_Version_Chap08e/PID113-426-434e.pdf (Caused by NewConnectionError('<urllib3.connection.HTTPConnection object at 0x7f5d37e5fd00>: Failed to establish a new connection: [Errno -2] Name or service not known'))\n",
      "HTTPConnectionPool(host='icoci.cms.net.my', port=80): Max retries exceeded with url: /PROCEEDINGS/2017/Pdf_Version_Chap08e/PID150-435-442e.pdf (Caused by NewConnectionError('<urllib3.connection.HTTPConnection object at 0x7f5d37e1b460>: Failed to establish a new connection: [Errno -2] Name or service not known'))\n",
      "HTTPConnectionPool(host='icoci.cms.net.my', port=80): Max retries exceeded with url: /PROCEEDINGS/2017/Pdf_Version_Chap08e/PID17-406-411e.pdf (Caused by NewConnectionError('<urllib3.connection.HTTPConnection object at 0x7f5d37e5fd00>: Failed to establish a new connection: [Errno -2] Name or service not known'))\n"
     ]
    },
    {
     "name": "stderr",
     "output_type": "stream",
     "text": [
      " 12%|████▊                                   | 231/1899 [03:39<01:03, 26.15it/s]"
     ]
    },
    {
     "name": "stdout",
     "output_type": "stream",
     "text": [
      "HTTPConnectionPool(host='icoci.cms.net.my', port=80): Max retries exceeded with url: /PROCEEDINGS/2017/Pdf_Version_Chap08e/PID205-443-451e.pdf (Caused by NewConnectionError('<urllib3.connection.HTTPConnection object at 0x7f5d37de8ca0>: Failed to establish a new connection: [Errno -2] Name or service not known'))\n",
      "HTTPConnectionPool(host='icoci.cms.net.my', port=80): Max retries exceeded with url: /PROCEEDINGS/2017/Pdf_Version_Chap08e/PID54-412-417e.pdf (Caused by NewConnectionError('<urllib3.connection.HTTPConnection object at 0x7f5d37e5f3a0>: Failed to establish a new connection: [Errno -2] Name or service not known'))\n",
      "HTTPConnectionPool(host='icoci.cms.net.my', port=80): Max retries exceeded with url: /PROCEEDINGS/2017/Pdf_Version_Chap09e/PID122-473-479e.pdf (Caused by NewConnectionError('<urllib3.connection.HTTPConnection object at 0x7f5d37de8af0>: Failed to establish a new connection: [Errno -2] Name or service not known'))\n",
      "HTTPConnectionPool(host='icoci.cms.net.my', port=80): Max retries exceeded with url: /PROCEEDINGS/2017/Pdf_Version_Chap09e/PID41-452-460e.pdf (Caused by NewConnectionError('<urllib3.connection.HTTPConnection object at 0x7f5d37de8a90>: Failed to establish a new connection: [Errno -2] Name or service not known'))\n",
      "HTTPConnectionPool(host='icoci.cms.net.my', port=80): Max retries exceeded with url: /PROCEEDINGS/2017/Pdf_Version_Chap09e/PID52-461-466e.pdf (Caused by NewConnectionError('<urllib3.connection.HTTPConnection object at 0x7f5d37de8d00>: Failed to establish a new connection: [Errno -2] Name or service not known'))\n",
      "HTTPConnectionPool(host='icoci.cms.net.my', port=80): Max retries exceeded with url: /PROCEEDINGS/2017/Pdf_Version_Chap09e/PID99-467-472e.pdf (Caused by NewConnectionError('<urllib3.connection.HTTPConnection object at 0x7f5d37de8af0>: Failed to establish a new connection: [Errno -2] Name or service not known'))\n",
      "HTTPConnectionPool(host='icoec.my', port=80): Max retries exceeded with url: /download/icoec_2017/ICoEC2017_132.pdf (Caused by NewConnectionError('<urllib3.connection.HTTPConnection object at 0x7f5d37de8a90>: Failed to establish a new connection: [Errno -2] Name or service not known'))\n"
     ]
    },
    {
     "name": "stderr",
     "output_type": "stream",
     "text": [
      " 23%|█████████▏                              | 438/1899 [07:19<34:01,  1.40s/it]"
     ]
    },
    {
     "name": "stdout",
     "output_type": "stream",
     "text": [
      "HTTPConnectionPool(host='jsrad.org', port=80): Max retries exceeded with url: /wp-content/2016/Issue%201,%202016/11.pdf (Caused by NewConnectionError('<urllib3.connection.HTTPConnection object at 0x7f5d37def790>: Failed to establish a new connection: [Errno 110] Connection timed out'))\n"
     ]
    },
    {
     "name": "stderr",
     "output_type": "stream",
     "text": [
      "\r",
      " 23%|████████▊                             | 439/1899 [09:30<1:20:23,  3.30s/it]"
     ]
    },
    {
     "name": "stdout",
     "output_type": "stream",
     "text": [
      "HTTPConnectionPool(host='jsrad.org', port=80): Max retries exceeded with url: /wp-content/2016/Issue%201,%202016/12.pdf (Caused by NewConnectionError('<urllib3.connection.HTTPConnection object at 0x7f5d37d9a130>: Failed to establish a new connection: [Errno 110] Connection timed out'))\n"
     ]
    },
    {
     "name": "stderr",
     "output_type": "stream",
     "text": [
      "\r",
      " 23%|████████▊                             | 440/1899 [11:41<2:24:13,  5.93s/it]"
     ]
    },
    {
     "name": "stdout",
     "output_type": "stream",
     "text": [
      "HTTPConnectionPool(host='jsrad.org', port=80): Max retries exceeded with url: /wp-content/2016/Issue%201,%202016/3.pdf (Caused by NewConnectionError('<urllib3.connection.HTTPConnection object at 0x7f5d37da69a0>: Failed to establish a new connection: [Errno 110] Connection timed out'))\n"
     ]
    },
    {
     "name": "stderr",
     "output_type": "stream",
     "text": [
      "\r",
      " 23%|████████▊                             | 442/1899 [13:52<3:44:21,  9.24s/it]"
     ]
    },
    {
     "name": "stdout",
     "output_type": "stream",
     "text": [
      "HTTPConnectionPool(host='jsrad.org', port=80): Max retries exceeded with url: /wp-content/2016/Issue%201,%202016/7.pdf (Caused by NewConnectionError('<urllib3.connection.HTTPConnection object at 0x7f5d37daa6a0>: Failed to establish a new connection: [Errno 110] Connection timed out'))\n"
     ]
    },
    {
     "name": "stderr",
     "output_type": "stream",
     "text": [
      "\r",
      " 23%|████████▊                             | 443/1899 [16:03<5:36:56, 13.88s/it]"
     ]
    },
    {
     "name": "stdout",
     "output_type": "stream",
     "text": [
      "HTTPConnectionPool(host='jsrad.org', port=80): Max retries exceeded with url: /wp-content/2016/Issue%201,%202016/8.pdf (Caused by NewConnectionError('<urllib3.connection.HTTPConnection object at 0x7f5d37da6a90>: Failed to establish a new connection: [Errno 110] Connection timed out'))\n"
     ]
    },
    {
     "name": "stderr",
     "output_type": "stream",
     "text": [
      "\r",
      " 23%|████████▉                             | 444/1899 [18:14<8:03:30, 19.94s/it]"
     ]
    },
    {
     "name": "stdout",
     "output_type": "stream",
     "text": [
      "HTTPConnectionPool(host='jsrad.org', port=80): Max retries exceeded with url: /wp-content/2016/Issue%201,%202016/9.pdf (Caused by NewConnectionError('<urllib3.connection.HTTPConnection object at 0x7f5d45cee1c0>: Failed to establish a new connection: [Errno 110] Connection timed out'))\n"
     ]
    },
    {
     "name": "stderr",
     "output_type": "stream",
     "text": [
      "\r",
      " 23%|████████▋                            | 445/1899 [20:25<11:08:16, 27.58s/it]"
     ]
    },
    {
     "name": "stdout",
     "output_type": "stream",
     "text": [
      "HTTPConnectionPool(host='jsrad.org', port=80): Max retries exceeded with url: /wp-content/2016/Issue%203,%202016/3.pdf (Caused by NewConnectionError('<urllib3.connection.HTTPConnection object at 0x7f5d37d9ad60>: Failed to establish a new connection: [Errno 110] Connection timed out'))\n"
     ]
    },
    {
     "name": "stderr",
     "output_type": "stream",
     "text": [
      "\r",
      " 23%|████████▋                            | 446/1899 [22:36<14:51:52, 36.83s/it]"
     ]
    },
    {
     "name": "stdout",
     "output_type": "stream",
     "text": [
      "HTTPConnectionPool(host='jsrad.org', port=80): Max retries exceeded with url: /wp-content/2016/Issue%205,%202016/18j.pdf (Caused by NewConnectionError('<urllib3.connection.HTTPConnection object at 0x7f5d37e68730>: Failed to establish a new connection: [Errno 110] Connection timed out'))\n"
     ]
    },
    {
     "name": "stderr",
     "output_type": "stream",
     "text": [
      " 24%|█████████                             | 452/1899 [22:39<4:39:39, 11.60s/it]"
     ]
    },
    {
     "name": "stdout",
     "output_type": "stream",
     "text": [
      "HTTPConnectionPool(host='jtom.stmlportal.net', port=80): Max retries exceeded with url: /wp-content/uploads/2017/01/COLLABORATIVE-LEARNING-VIA-SHARING-SESSION-TOWARDS-ACHIEVING-TRAINING-EFFECTIVENESS-IN-NEGOTIATION-EDUCATION.pdf (Caused by NewConnectionError('<urllib3.connection.HTTPConnection object at 0x7f5d37d9a850>: Failed to establish a new connection: [Errno -2] Name or service not known'))\n",
      "HTTPConnectionPool(host='jtom.stmlportal.net', port=80): Max retries exceeded with url: /wp-content/uploads/2017/01/CORPORATE-COMMUNICATION-AND-INTERNAL-SUPPLY-CHAIN-MANAGEMENT-IN-MANUFACTURING-INDUSTRY.pdf (Caused by NewConnectionError('<urllib3.connection.HTTPConnection object at 0x7f5d37d9a9a0>: Failed to establish a new connection: [Errno -2] Name or service not known'))\n"
     ]
    },
    {
     "name": "stderr",
     "output_type": "stream",
     "text": [
      " 24%|█████████▏                            | 457/1899 [22:39<1:35:01,  3.95s/it]"
     ]
    },
    {
     "name": "stdout",
     "output_type": "stream",
     "text": [
      "HTTPConnectionPool(host='jtom.stmlportal.net', port=80): Max retries exceeded with url: /wp-content/uploads/2017/01/INVESTIGATING-THE-LINK-BETWEEN-KNOWLEDGE-SHARING-AND-INNOVATION-CAPABILITY.pdf (Caused by NewConnectionError('<urllib3.connection.HTTPConnection object at 0x7f5d37d9a880>: Failed to establish a new connection: [Errno -2] Name or service not known'))\n",
      "HTTPConnectionPool(host='jtom.stmlportal.net', port=80): Max retries exceeded with url: /wp-content/uploads/2017/01/SUCCESS-FACTORS-OF-LEAN-MANAGEMENT-IMPLEMENTATION-IN-PUBLIC-SERVICE-ORGANIZATIONS.pdf (Caused by NewConnectionError('<urllib3.connection.HTTPConnection object at 0x7f5d37d9a5b0>: Failed to establish a new connection: [Errno -2] Name or service not known'))\n"
     ]
    },
    {
     "name": "stderr",
     "output_type": "stream",
     "text": [
      "\r",
      " 24%|█████████▏                            | 459/1899 [22:39<1:05:38,  2.74s/it]"
     ]
    },
    {
     "name": "stdout",
     "output_type": "stream",
     "text": [
      "HTTPConnectionPool(host='jtom.stmlportal.net', port=80): Max retries exceeded with url: /wp-content/uploads/2017/01/TRAINING-EFFECTIVENESSS-IN-CONTINUING-PROFESSIONAL-DEVELOPMENT-PROGRAM-FOR-GENERAL-INSURANCE-AGENTS.pdf (Caused by NewConnectionError('<urllib3.connection.HTTPConnection object at 0x7f5d37d9aa60>: Failed to establish a new connection: [Errno -2] Name or service not known'))\n",
      "HTTPConnectionPool(host='jtom.stmlportal.net', port=80): Max retries exceeded with url: /wp-content/uploads/2017/05/APLIKASI-TEKNOLOGI-KELESTARIAN-HYBRID-PADA-PENGANGKUTAN-AWAM-BAS-DI-BANDAR-SATU-PENDEKATAN-DISKRIPTIF.pdf (Caused by NewConnectionError('<urllib3.connection.HTTPConnection object at 0x7f5d37d9afa0>: Failed to establish a new connection: [Errno -2] Name or service not known'))\n",
      "HTTPConnectionPool(host='jtom.stmlportal.net', port=80): Max retries exceeded with url: /wp-content/uploads/2017/05/BRIDGING-TECHNOLOGY-MANAGEMENT-WITH-DYNAMIC-CAPABILITIES-FOR-SUSTAINABLE-COMPETITIVE-ADVANTAGE.pdf (Caused by NewConnectionError('<urllib3.connection.HTTPConnection object at 0x7f5d37d9a520>: Failed to establish a new connection: [Errno -2] Name or service not known'))\n"
     ]
    },
    {
     "name": "stderr",
     "output_type": "stream",
     "text": [
      "\r",
      " 24%|█████████▋                              | 461/1899 [22:40<45:38,  1.90s/it]"
     ]
    },
    {
     "name": "stdout",
     "output_type": "stream",
     "text": [
      "HTTPConnectionPool(host='jtom.stmlportal.net', port=80): Max retries exceeded with url: /wp-content/uploads/2017/05/DEVELOPMENT-OF-TACIT-KNOWLEDGE-IN-LEAN-MANAGEMENT-IN-AN-ORGANIZATION-THE-CASE-OF-AUTOMOTIVE-INDUSTRY-IN-MALAYSIA.pdf (Caused by NewConnectionError('<urllib3.connection.HTTPConnection object at 0x7f5d37d9a700>: Failed to establish a new connection: [Errno -2] Name or service not known'))\n",
      "HTTPConnectionPool(host='jtom.stmlportal.net', port=80): Max retries exceeded with url: /wp-content/uploads/2017/05/FACTORS-INFLUENCING-INTENTION-TO-USE-E-LEARNING-BY-AGRICULTURAL-EXTENSION-AGENTS-IN-MALAYSIA.pdf (Caused by NewConnectionError('<urllib3.connection.HTTPConnection object at 0x7f5d37d9aee0>: Failed to establish a new connection: [Errno -2] Name or service not known'))\n"
     ]
    },
    {
     "name": "stderr",
     "output_type": "stream",
     "text": [
      "\r",
      " 24%|█████████▊                              | 463/1899 [22:40<32:20,  1.35s/it]"
     ]
    },
    {
     "name": "stdout",
     "output_type": "stream",
     "text": [
      "HTTPConnectionPool(host='jtom.stmlportal.net', port=80): Max retries exceeded with url: /wp-content/uploads/2017/05/GREEN-BUILDING-TOWARD-CONSTRUCTION-SUSTAINABILITY-ENERGY-EFFICIENCY-WITH-MATERIAL-AND-DESIGN-ASPECTS.pdf (Caused by NewConnectionError('<urllib3.connection.HTTPConnection object at 0x7f5d37d9ad60>: Failed to establish a new connection: [Errno -2] Name or service not known'))\n",
      "HTTPConnectionPool(host='jtom.stmlportal.net', port=80): Max retries exceeded with url: /wp-content/uploads/2017/05/HIGHWAY-MAINTENANCE-MANAGEMENT-A-REVIEW-OF-SOME-PRACTICES-IN-MALAYSIA.pdf (Caused by NewConnectionError('<urllib3.connection.HTTPConnection object at 0x7f5d37d9ac10>: Failed to establish a new connection: [Errno -2] Name or service not known'))\n"
     ]
    },
    {
     "name": "stderr",
     "output_type": "stream",
     "text": [
      "\r",
      " 24%|█████████▊                              | 465/1899 [22:40<23:17,  1.03it/s]"
     ]
    },
    {
     "name": "stdout",
     "output_type": "stream",
     "text": [
      "HTTPConnectionPool(host='jtom.stmlportal.net', port=80): Max retries exceeded with url: /wp-content/uploads/2017/05/MEASURING-ASSURANCE-OF-LEARNING-AOL-THROUGH-SIX-SIGMA-PROCESS-CAPABILITY-METHODOLOGY.pdf (Caused by NewConnectionError('<urllib3.connection.HTTPConnection object at 0x7f5d37d9a8e0>: Failed to establish a new connection: [Errno -2] Name or service not known'))\n",
      "HTTPConnectionPool(host='jtom.stmlportal.net', port=80): Max retries exceeded with url: /wp-content/uploads/2017/05/POTENTIAL-UTILISATION-OF-WOOD-RESIDUE-IN-KEDAH-A-PRELIMINARY-STUDY.pdf (Caused by NewConnectionError('<urllib3.connection.HTTPConnection object at 0x7f5d37d9aaf0>: Failed to establish a new connection: [Errno -2] Name or service not known'))\n"
     ]
    },
    {
     "name": "stderr",
     "output_type": "stream",
     "text": [
      " 25%|█████████▊                              | 468/1899 [22:40<14:36,  1.63it/s]"
     ]
    },
    {
     "name": "stdout",
     "output_type": "stream",
     "text": [
      "HTTPConnectionPool(host='jtom.stmlportal.net', port=80): Max retries exceeded with url: /wp-content/uploads/2017/05/THE-INFLUENCES-OF-GREEN-INNOVATION-ON-GREEN-ORGANIZATIONAL-PERFORMANCE-%E2%80%93-CONCEPTUAL-OVERVIEW.pdf (Caused by NewConnectionError('<urllib3.connection.HTTPConnection object at 0x7f5d37d9a130>: Failed to establish a new connection: [Errno -2] Name or service not known'))\n",
      "HTTPConnectionPool(host='jtom.stmlportal.net', port=80): Max retries exceeded with url: /wp-content/uploads/2017/09/JTOM-July-32-42.pdf (Caused by NewConnectionError('<urllib3.connection.HTTPConnection object at 0x7f5d37d9a820>: Failed to establish a new connection: [Errno -2] Name or service not known'))\n"
     ]
    },
    {
     "name": "stderr",
     "output_type": "stream",
     "text": [
      " 25%|█████████▉                              | 470/1899 [22:41<10:30,  2.26it/s]"
     ]
    },
    {
     "name": "stdout",
     "output_type": "stream",
     "text": [
      "HTTPConnectionPool(host='jurnalkanun.dbp.my', port=80): Max retries exceeded with url: /wordpress/wp-content/uploads/2014/08/6-Perlindungan-mangsa-terkini.pdf (Caused by NewConnectionError('<urllib3.connection.HTTPConnection object at 0x7f5d37d9afa0>: Failed to establish a new connection: [Errno -2] Name or service not known'))\n",
      "HTTPConnectionPool(host='jurnalkanun.dbp.my', port=80): Max retries exceeded with url: /wordpress/wp-content/uploads/2014/08/83-106-Penubuhan.pdf (Caused by NewConnectionError('<urllib3.connection.HTTPConnection object at 0x7f5d37d9a100>: Failed to establish a new connection: [Errno -2] Name or service not known'))\n"
     ]
    },
    {
     "name": "stderr",
     "output_type": "stream",
     "text": [
      " 25%|█████████▉                              | 472/1899 [22:41<07:16,  3.27it/s]"
     ]
    },
    {
     "name": "stdout",
     "output_type": "stream",
     "text": [
      "HTTPConnectionPool(host='jurnalkanun.dbp.my', port=80): Max retries exceeded with url: /wordpress/wp-content/uploads/2014/11/2-Permasalahan-PATI.pdf (Caused by NewConnectionError('<urllib3.connection.HTTPConnection object at 0x7f5d37d9af10>: Failed to establish a new connection: [Errno -2] Name or service not known'))\n",
      "HTTPConnectionPool(host='jurnalkanun.dbp.my', port=80): Max retries exceeded with url: /wordpress/wp-content/uploads/2016/06/2-Anak.pdf (Caused by NewConnectionError('<urllib3.connection.HTTPConnection object at 0x7f5d37d9afa0>: Failed to establish a new connection: [Errno -2] Name or service not known'))\n"
     ]
    },
    {
     "name": "stderr",
     "output_type": "stream",
     "text": [
      " 25%|█████████▌                            | 475/1899 [22:54<1:01:26,  2.59s/it]"
     ]
    },
    {
     "name": "stdout",
     "output_type": "stream",
     "text": [
      "HTTPConnectionPool(host='klicels.com', port=80): Max retries exceeded with url: /wp-content/uploads/2015/10/EDU-31.pdf (Caused by NewConnectionError('<urllib3.connection.HTTPConnection object at 0x7f5d37d9aaf0>: Failed to establish a new connection: [Errno -2] Name or service not known'))\n"
     ]
    },
    {
     "name": "stderr",
     "output_type": "stream",
     "text": [
      " 26%|██████████▌                             | 502/1899 [23:08<06:36,  3.53it/s]"
     ]
    },
    {
     "name": "stdout",
     "output_type": "stream",
     "text": [
      "HTTPConnectionPool(host='mjvr.dvsvri.gov.my', port=80): Max retries exceeded with url: /attachments/article/15/MJVR-V5N2-web-63-68.pdf (Caused by NewConnectionError('<urllib3.connection.HTTPConnection object at 0x7f5d36437a60>: Failed to establish a new connection: [Errno -2] Name or service not known'))\n",
      "HTTPConnectionPool(host='mjvr.dvsvri.gov.my', port=80): Max retries exceeded with url: /attachments/article/15/MJVR-V5N2-web-p47-61.pdf (Caused by NewConnectionError('<urllib3.connection.HTTPConnection object at 0x7f5d36428190>: Failed to establish a new connection: [Errno -2] Name or service not known'))\n"
     ]
    },
    {
     "name": "stderr",
     "output_type": "stream",
     "text": [
      " 28%|███████████▎                            | 539/1899 [23:18<03:16,  6.90it/s]"
     ]
    },
    {
     "name": "stdout",
     "output_type": "stream",
     "text": [
      "HTTPConnectionPool(host='netapps2015.internetworks.my', port=80): Max retries exceeded with url: /v2/docs/Proceeding%202016/70.pdf (Caused by NewConnectionError('<urllib3.connection.HTTPConnection object at 0x7f5d37dbcfa0>: Failed to establish a new connection: [Errno -2] Name or service not known'))\n",
      "HTTPConnectionPool(host='nopr.niscair.res.in', port=80): Max retries exceeded with url: /bitstream/123456789/39041/1/IJPAP%2054%2812%29%20777-786.pdf (Caused by NewConnectionError('<urllib3.connection.HTTPConnection object at 0x7f5d37d9a9d0>: Failed to establish a new connection: [Errno -3] Temporary failure in name resolution'))\n",
      "HTTPConnectionPool(host='nopr.niscair.res.in', port=80): Max retries exceeded with url: /bitstream/123456789/43551/1/IJEB%2056%282%29%20101-111.pdf (Caused by NewConnectionError('<urllib3.connection.HTTPConnection object at 0x7f5d37dbcfa0>: Failed to establish a new connection: [Errno -3] Temporary failure in name resolution'))\n"
     ]
    },
    {
     "name": "stderr",
     "output_type": "stream",
     "text": [
      "\r",
      " 29%|███████████▍                            | 544/1899 [23:29<11:46,  1.92it/s]"
     ]
    },
    {
     "name": "stdout",
     "output_type": "stream",
     "text": [
      "HTTPConnectionPool(host='nopr.niscair.res.in', port=80): Max retries exceeded with url: /bitstream/123456789/45244/1/IJPAP%2056%2810%29%20792-801.pdf (Caused by NewConnectionError('<urllib3.connection.HTTPConnection object at 0x7f5d36406e50>: Failed to establish a new connection: [Errno -3] Temporary failure in name resolution'))\n"
     ]
    },
    {
     "name": "stderr",
     "output_type": "stream",
     "text": [
      " 31%|████████████▍                           | 590/1899 [24:15<19:19,  1.13it/s]"
     ]
    },
    {
     "name": "stdout",
     "output_type": "stream",
     "text": [
      "HTTPConnectionPool(host='search.taylors.edu.my', port=80): Max retries exceeded with url: /documents/journals/2018-10-1/SEARCH-2018-10-1-J3.pdf (Caused by NewConnectionError('<urllib3.connection.HTTPConnection object at 0x7f5d363d6be0>: Failed to establish a new connection: [Errno -2] Name or service not known'))\n",
      "HTTPConnectionPool(host='search.taylors.edu.my', port=80): Max retries exceeded with url: /documents/journals/2020-12-3/SEARCH-2020-12-3-J3-37-69.pdf (Caused by NewConnectionError('<urllib3.connection.HTTPConnection object at 0x7f5d363d6a90>: Failed to establish a new connection: [Errno -2] Name or service not known'))\n"
     ]
    },
    {
     "name": "stderr",
     "output_type": "stream",
     "text": [
      "\r",
      " 31%|████████████▍                           | 591/1899 [24:16<15:52,  1.37it/s]"
     ]
    },
    {
     "name": "stdout",
     "output_type": "stream",
     "text": [
      "HTTPConnectionPool(host='search.taylors.edu.my', port=80): Max retries exceeded with url: /documents/journals/SI2020-ICOME/SI2020-ICOME.pdf (Caused by NewConnectionError('<urllib3.connection.HTTPConnection object at 0x7f5d363d6d60>: Failed to establish a new connection: [Errno -2] Name or service not known'))\n"
     ]
    },
    {
     "name": "stderr",
     "output_type": "stream",
     "text": [
      " 39%|███████████████▍                        | 734/1899 [24:21<00:29, 39.81it/s]"
     ]
    },
    {
     "name": "stdout",
     "output_type": "stream",
     "text": [
      "HTTPConnectionPool(host='ukhwahfoundation.com.my', port=80): Max retries exceeded with url: /taj/Article11-AmalanTQM.pdf (Caused by NewConnectionError('<urllib3.connection.HTTPConnection object at 0x7f5d363d68b0>: Failed to establish a new connection: [Errno -2] Name or service not known'))\n",
      "HTTPConnectionPool(host='users.volja.net', port=80): Max retries exceeded with url: /mperus/apploptkup.pdf (Caused by NewConnectionError('<urllib3.connection.HTTPConnection object at 0x7f5d363d6ca0>: Failed to establish a new connection: [Errno 111] Connection refused'))\n"
     ]
    },
    {
     "name": "stderr",
     "output_type": "stream",
     "text": [
      " 40%|███████████████▊                        | 751/1899 [24:34<03:30,  5.46it/s]"
     ]
    },
    {
     "name": "stdout",
     "output_type": "stream",
     "text": [
      "HTTPConnectionPool(host='wms-soros.mngt.waikato.ac.nz', port=80): Max retries exceeded with url: /NR/rdonlyres/ekigitceflrgnvok3qgu5fvlvg72koxaqvtt3wgcf3j3ut3oommu2x5i4va7db2wpkuhi22rvtr22k/Resource16.pdf (Caused by NewConnectionError('<urllib3.connection.HTTPConnection object at 0x7f5d363d6bb0>: Failed to establish a new connection: [Errno -2] Name or service not known'))\n"
     ]
    },
    {
     "name": "stderr",
     "output_type": "stream",
     "text": [
      " 49%|███████████████████▌                    | 928/1899 [27:03<08:43,  1.85it/s]"
     ]
    },
    {
     "name": "stdout",
     "output_type": "stream",
     "text": [
      "(\"Connection broken: InvalidChunkLength(got length b'', 0 bytes read)\", InvalidChunkLength(got length b'', 0 bytes read))\n"
     ]
    },
    {
     "name": "stderr",
     "output_type": "stream",
     "text": [
      "\r",
      " 49%|███████████████████▌                    | 929/1899 [27:03<08:57,  1.80it/s]"
     ]
    },
    {
     "name": "stdout",
     "output_type": "stream",
     "text": [
      "(\"Connection broken: InvalidChunkLength(got length b'', 0 bytes read)\", InvalidChunkLength(got length b'', 0 bytes read))\n"
     ]
    },
    {
     "name": "stderr",
     "output_type": "stream",
     "text": [
      " 49%|███████████████████▋                    | 932/1899 [27:09<18:22,  1.14s/it]"
     ]
    },
    {
     "name": "stdout",
     "output_type": "stream",
     "text": [
      "HTTPConnectionPool(host='www.asian-energy-journal.info', port=80): Max retries exceeded with url: /Abstract/Different%20methods%20of%20grading%20or%20rating%20refrigerator%20freezers.pdf (Caused by NewConnectionError('<urllib3.connection.HTTPConnection object at 0x7f5d36437340>: Failed to establish a new connection: [Errno -3] Temporary failure in name resolution'))\n"
     ]
    },
    {
     "name": "stderr",
     "output_type": "stream",
     "text": [
      "\r",
      " 49%|███████████████████▋                    | 933/1899 [27:13<33:43,  2.09s/it]"
     ]
    },
    {
     "name": "stdout",
     "output_type": "stream",
     "text": [
      "HTTPConnectionPool(host='www.asianacademicresearch.org', port=80): Max retries exceeded with url: /2017_paper/march2017/8.pdf (Caused by NewConnectionError('<urllib3.connection.HTTPConnection object at 0x7f5d36437910>: Failed to establish a new connection: [Errno -3] Temporary failure in name resolution'))\n"
     ]
    },
    {
     "name": "stderr",
     "output_type": "stream",
     "text": [
      " 49%|███████████████████▋                    | 935/1899 [27:20<40:59,  2.55s/it]"
     ]
    },
    {
     "name": "stdout",
     "output_type": "stream",
     "text": [
      "HTTPSConnectionPool(host='www.atax.unsw.edu.au', port=443): Max retries exceeded with url: /news/docs/2010/TaxAdmin_Conference_2010.pdf (Caused by SSLError(SSLError(1, '[SSL: DH_KEY_TOO_SMALL] dh key too small (_ssl.c:1131)')))\n"
     ]
    },
    {
     "name": "stderr",
     "output_type": "stream",
     "text": [
      " 51%|████████████████████▎                   | 966/1899 [27:55<17:50,  1.15s/it]"
     ]
    },
    {
     "name": "stdout",
     "output_type": "stream",
     "text": [
      "HTTPConnectionPool(host='www.cbmrsbm.com', port=80): Max retries exceeded with url: /uploads/1/9/8/7/19870781/hr1.pdf (Caused by NewConnectionError('<urllib3.connection.HTTPConnection object at 0x7f5d363c7a60>: Failed to establish a new connection: [Errno -2] Name or service not known'))\n"
     ]
    },
    {
     "name": "stderr",
     "output_type": "stream",
     "text": [
      " 59%|██████████████████████▉                | 1114/1899 [29:45<08:34,  1.52it/s]"
     ]
    },
    {
     "name": "stdout",
     "output_type": "stream",
     "text": [
      "HTTPConnectionPool(host='www.ejge.com', port=80): Max retries exceeded with url: /2014/Ppr2014.043mda.pdf (Caused by NewConnectionError('<urllib3.connection.HTTPConnection object at 0x7f5d363c75e0>: Failed to establish a new connection: [Errno -2] Name or service not known'))\n",
      "HTTPConnectionPool(host='www.ejge.com', port=80): Max retries exceeded with url: /2014/Ppr2014.764mcp.pdf (Caused by NewConnectionError('<urllib3.connection.HTTPConnection object at 0x7f5d363c7730>: Failed to establish a new connection: [Errno -2] Name or service not known'))\n"
     ]
    },
    {
     "name": "stderr",
     "output_type": "stream",
     "text": [
      " 61%|███████████████████████▋               | 1152/1899 [30:21<05:12,  2.39it/s]"
     ]
    },
    {
     "name": "stdout",
     "output_type": "stream",
     "text": [
      "HTTPConnectionPool(host='www.ftb.com.hrimport', port=80): Max retries exceeded with url: /47-1-8.pdf (Caused by NewConnectionError('<urllib3.connection.HTTPConnection object at 0x7f5d37def250>: Failed to establish a new connection: [Errno -2] Name or service not known'))\n"
     ]
    },
    {
     "name": "stderr",
     "output_type": "stream",
     "text": [
      " 61%|██████████████████████▋              | 1162/1899 [32:36<2:05:44, 10.24s/it]"
     ]
    },
    {
     "name": "stdout",
     "output_type": "stream",
     "text": [
      "('Connection aborted.', ConnectionResetError(104, 'Connection reset by peer'))\n",
      "HTTPConnectionPool(host='www.globalresearch.com.my', port=80): Max retries exceeded with url: /journal/business_v02n01/0008_abstract_PG104-116.pdf (Caused by NewConnectionError('<urllib3.connection.HTTPConnection object at 0x7f5d37de8be0>: Failed to establish a new connection: [Errno -2] Name or service not known'))\n",
      "HTTPConnectionPool(host='www.globalresearch.com.my', port=80): Max retries exceeded with url: /journal/management_v02n01n02/0013_Article_510_Final_PG184_203.pdf (Caused by NewConnectionError('<urllib3.connection.HTTPConnection object at 0x7f5d37de8c40>: Failed to establish a new connection: [Errno -2] Name or service not known'))\n",
      "HTTPConnectionPool(host='www.globalresearch.com.my', port=80): Max retries exceeded with url: /journal/management_v05n01/JoGM_January2013_V5N1.pdf (Caused by NewConnectionError('<urllib3.connection.HTTPConnection object at 0x7f5d37de8a00>: Failed to establish a new connection: [Errno -2] Name or service not known'))\n"
     ]
    },
    {
     "name": "stderr",
     "output_type": "stream",
     "text": [
      " 63%|████████████████████████▋              | 1200/1899 [33:07<08:31,  1.37it/s]"
     ]
    },
    {
     "name": "stdout",
     "output_type": "stream",
     "text": [
      "('Connection aborted.', RemoteDisconnected('Remote end closed connection without response'))\n",
      "HTTPConnectionPool(host='www.icoci.cms.net.my', port=80): Max retries exceeded with url: /proceedings/2015/PDF/PID144.pdf (Caused by NewConnectionError('<urllib3.connection.HTTPConnection object at 0x7f5d37de84f0>: Failed to establish a new connection: [Errno -2] Name or service not known'))\n",
      "HTTPConnectionPool(host='www.icoci.cms.net.my', port=80): Max retries exceeded with url: /proceedings/2015/PDF/PID148.pdf (Caused by NewConnectionError('<urllib3.connection.HTTPConnection object at 0x7f5d37dd2f40>: Failed to establish a new connection: [Errno -2] Name or service not known'))\n"
     ]
    },
    {
     "name": "stderr",
     "output_type": "stream",
     "text": [
      " 67%|█████████████████████████▉             | 1265/1899 [33:31<04:32,  2.32it/s]"
     ]
    },
    {
     "name": "stdout",
     "output_type": "stream",
     "text": [
      "HTTPConnectionPool(host='www.ijbsr.org', port=80): Max retries exceeded with url: /images/archive_articles/vol-2_no-2_2012/5.pdf (Caused by NewConnectionError('<urllib3.connection.HTTPConnection object at 0x7f5d37defa60>: Failed to establish a new connection: [Errno -2] Name or service not known'))\n"
     ]
    },
    {
     "name": "stderr",
     "output_type": "stream",
     "text": [
      " 70%|█████████████████████████▊           | 1325/1899 [36:03<3:10:27, 19.91s/it]"
     ]
    },
    {
     "name": "stdout",
     "output_type": "stream",
     "text": [
      "HTTPConnectionPool(host='www.ipcbee.com', port=80): Max retries exceeded with url: /vol28/8-ICFEE2012-F016.pdf (Caused by NewConnectionError('<urllib3.connection.HTTPConnection object at 0x7f5d37d923a0>: Failed to establish a new connection: [Errno 110] Connection timed out'))\n"
     ]
    },
    {
     "name": "stderr",
     "output_type": "stream",
     "text": [
      "\r",
      " 70%|█████████████████████████▊           | 1326/1899 [38:14<6:17:22, 39.52s/it]"
     ]
    },
    {
     "name": "stdout",
     "output_type": "stream",
     "text": [
      "HTTPConnectionPool(host='www.ipcbee.com', port=80): Max retries exceeded with url: /vol40/034--ICBLS2012-I30022.pdf (Caused by NewConnectionError('<urllib3.connection.HTTPConnection object at 0x7f5d363c7610>: Failed to establish a new connection: [Errno 110] Connection timed out'))\n"
     ]
    },
    {
     "name": "stderr",
     "output_type": "stream",
     "text": [
      "\r",
      " 70%|█████████████████████████▊           | 1327/1899 [40:25<9:12:21, 57.94s/it]"
     ]
    },
    {
     "name": "stdout",
     "output_type": "stream",
     "text": [
      "HTTPConnectionPool(host='www.ipcsit.com', port=80): Max retries exceeded with url: /vol2/32-A230.pdf (Caused by NewConnectionError('<urllib3.connection.HTTPConnection object at 0x7f5d363e5820>: Failed to establish a new connection: [Errno 110] Connection timed out'))\n"
     ]
    },
    {
     "name": "stderr",
     "output_type": "stream",
     "text": [
      "\r",
      " 70%|█████████████████████████▏          | 1328/1899 [42:36<11:46:49, 74.27s/it]"
     ]
    },
    {
     "name": "stdout",
     "output_type": "stream",
     "text": [
      "HTTPConnectionPool(host='www.ipcsit.com', port=80): Max retries exceeded with url: /vol45/026-ICIKM2012-M0062.pdf (Caused by NewConnectionError('<urllib3.connection.HTTPConnection object at 0x7f5d37e985e0>: Failed to establish a new connection: [Errno 110] Connection timed out'))\n"
     ]
    },
    {
     "name": "stderr",
     "output_type": "stream",
     "text": [
      "\r",
      " 70%|█████████████████████████▏          | 1329/1899 [44:48<13:56:04, 88.01s/it]"
     ]
    },
    {
     "name": "stdout",
     "output_type": "stream",
     "text": [
      "HTTPConnectionPool(host='www.ipedr.com', port=80): Max retries exceeded with url: /vol6/19-A10010.pdf (Caused by NewConnectionError('<urllib3.connection.HTTPConnection object at 0x7f5d37def1c0>: Failed to establish a new connection: [Errno 110] Connection timed out'))\n"
     ]
    },
    {
     "name": "stderr",
     "output_type": "stream",
     "text": [
      "\r",
      " 70%|█████████████████████████▏          | 1330/1899 [46:59<15:39:29, 99.07s/it]"
     ]
    },
    {
     "name": "stdout",
     "output_type": "stream",
     "text": [
      "HTTPConnectionPool(host='www.ipedr.com', port=80): Max retries exceeded with url: /vol76/018-ICEFR2014-F309.pdf (Caused by NewConnectionError('<urllib3.connection.HTTPConnection object at 0x7f5d37de8700>: Failed to establish a new connection: [Errno 110] Connection timed out'))\n"
     ]
    },
    {
     "name": "stderr",
     "output_type": "stream",
     "text": [
      "\r",
      " 70%|█████████████████████████▏          | 1331/1899 [47:00<11:29:49, 72.87s/it]"
     ]
    },
    {
     "name": "stdout",
     "output_type": "stream",
     "text": [
      "('Connection aborted.', RemoteDisconnected('Remote end closed connection without response'))\n"
     ]
    },
    {
     "name": "stderr",
     "output_type": "stream",
     "text": [
      " 71%|███████████████████████████▊           | 1356/1899 [49:56<38:38,  4.27s/it]"
     ]
    },
    {
     "name": "stdout",
     "output_type": "stream",
     "text": [
      "HTTPConnectionPool(host='www.jafepapers.com', port=80): Max retries exceeded with url: /uploads/2011/december/4.pdf (Caused by NewConnectionError('<urllib3.connection.HTTPConnection object at 0x7f5d37defc40>: Failed to establish a new connection: [Errno -2] Name or service not known'))\n"
     ]
    },
    {
     "name": "stderr",
     "output_type": "stream",
     "text": [
      " 72%|████████████████████████████           | 1368/1899 [50:20<13:59,  1.58s/it]"
     ]
    },
    {
     "name": "stdout",
     "output_type": "stream",
     "text": [
      "HTTPConnectionPool(host='www.jbmes.com', port=80): Max retries exceeded with url: /The%20Mediating%20Role%20of%20Balanced%20Scorecard%20between%20Perceived%20Environmental%20Uncertainty%20and%20Firm%20Performance.pdf (Caused by NewConnectionError('<urllib3.connection.HTTPConnection object at 0x7f5d37def5e0>: Failed to establish a new connection: [Errno -2] Name or service not known'))\n"
     ]
    },
    {
     "name": "stderr",
     "output_type": "stream",
     "text": [
      " 73%|████████████████████████████▍          | 1387/1899 [50:35<05:45,  1.48it/s]"
     ]
    },
    {
     "name": "stdout",
     "output_type": "stream",
     "text": [
      "HTTPConnectionPool(host='www.kmice.cms.net.my', port=80): Max retries exceeded with url: /ProcKMICe/KMICe2008/Pdf/317-322-CR141.pdf (Caused by NewConnectionError('<urllib3.connection.HTTPConnection object at 0x7f5d37def100>: Failed to establish a new connection: [Errno -2] Name or service not known'))\n",
      "HTTPConnectionPool(host='www.kmice.cms.net.my', port=80): Max retries exceeded with url: /ProcKMICe/KMICe2008/Pdf/584-588-CR222.pdf (Caused by NewConnectionError('<urllib3.connection.HTTPConnection object at 0x7f5d37def370>: Failed to establish a new connection: [Errno -2] Name or service not known'))\n"
     ]
    },
    {
     "name": "stderr",
     "output_type": "stream",
     "text": [
      " 75%|█████████████████████████████▏         | 1419/1899 [51:06<12:08,  1.52s/it]"
     ]
    },
    {
     "name": "stdout",
     "output_type": "stream",
     "text": [
      "HTTPConnectionPool(host='www.mee.chu.edu.tw', port=80): Max retries exceeded with url: /labweb/ICS2004/paper/149.pdf (Caused by NewConnectionError('<urllib3.connection.HTTPConnection object at 0x7f5d37def460>: Failed to establish a new connection: [Errno -2] Name or service not known'))\n"
     ]
    },
    {
     "name": "stderr",
     "output_type": "stream",
     "text": [
      " 81%|███████████████████████████████▍       | 1531/1899 [52:09<03:06,  1.97it/s]"
     ]
    },
    {
     "name": "stdout",
     "output_type": "stream",
     "text": [
      "HTTPConnectionPool(host='www.rassweb.com', port=80): Max retries exceeded with url: /wp-content/uploads/PDF/IJMS/Vol-3/Issue-1/Paper%205.pdf (Caused by NewConnectionError('<urllib3.connection.HTTPConnection object at 0x7f5d37defa90>: Failed to establish a new connection: [Errno -3] Temporary failure in name resolution'))\n",
      "HTTPConnectionPool(host='www.rassweb.com', port=80): Max retries exceeded with url: /wp-content/uploads/PDF/IJMS/Vol-6/Issue-11/Paper%204.pdf (Caused by NewConnectionError('<urllib3.connection.HTTPConnection object at 0x7f5d37defb20>: Failed to establish a new connection: [Errno -3] Temporary failure in name resolution'))\n"
     ]
    },
    {
     "name": "stderr",
     "output_type": "stream",
     "text": [
      " 84%|████████████████████████████████▉      | 1604/1899 [53:12<03:41,  1.33it/s]"
     ]
    },
    {
     "name": "stdout",
     "output_type": "stream",
     "text": [
      "HTTPConnectionPool(host='www.springerlink.com', port=80): Max retries exceeded with url: /content/1362172866310527/fulltext.pdf (Caused by NewConnectionError('<urllib3.connection.HTTPConnection object at 0x7f5d37df1340>: Failed to establish a new connection: [Errno -2] Name or service not known'))\n",
      "HTTPConnectionPool(host='www.springerlink.com', port=80): Max retries exceeded with url: /content/86856t60n2003w46/fulltext.pdf (Caused by NewConnectionError('<urllib3.connection.HTTPConnection object at 0x7f5d37df16d0>: Failed to establish a new connection: [Errno -2] Name or service not known'))\n"
     ]
    },
    {
     "name": "stderr",
     "output_type": "stream",
     "text": [
      "\r",
      " 85%|████████████████████████████████▉      | 1606/1899 [53:12<02:19,  2.10it/s]"
     ]
    },
    {
     "name": "stdout",
     "output_type": "stream",
     "text": [
      "HTTPConnectionPool(host='www.springerlink.com', port=80): Max retries exceeded with url: /content/b41174121x13651w/fulltext.pdf (Caused by NewConnectionError('<urllib3.connection.HTTPConnection object at 0x7f5d37df1c40>: Failed to establish a new connection: [Errno -2] Name or service not known'))\n",
      "HTTPConnectionPool(host='www.springerlink.com', port=80): Max retries exceeded with url: /content/g267t01w5r26t460/fulltext.pdf (Caused by NewConnectionError('<urllib3.connection.HTTPConnection object at 0x7f5d37df1820>: Failed to establish a new connection: [Errno -2] Name or service not known'))\n"
     ]
    },
    {
     "name": "stderr",
     "output_type": "stream",
     "text": [
      "\r",
      " 85%|███████████████████████████████▍     | 1613/1899 [55:22<1:00:56, 12.78s/it]"
     ]
    },
    {
     "name": "stdout",
     "output_type": "stream",
     "text": [
      "HTTPConnectionPool(host='www.swcorp.gov.my', port=80): Max retries exceeded with url: /docfile/penyelidikan/Sisa%20Pepejal%20dan%20Pembersihan%20Awam%20Pengurusan%20dan%20Perundangan.pdf (Caused by NewConnectionError('<urllib3.connection.HTTPConnection object at 0x7f5d37df1a60>: Failed to establish a new connection: [Errno 110] Connection timed out'))\n",
      "HTTPConnectionPool(host='www.teacher.org.cn', port=80): Max retries exceeded with url: /doc/ucedu200906/ucedu20090607.pdf (Caused by NewConnectionError('<urllib3.connection.HTTPConnection object at 0x7f5d363e5430>: Failed to establish a new connection: [Errno -2] Name or service not known'))\n"
     ]
    },
    {
     "name": "stderr",
     "output_type": "stream",
     "text": [
      " 87%|█████████████████████████████████▊     | 1645/1899 [56:31<23:44,  5.61s/it]"
     ]
    },
    {
     "name": "stdout",
     "output_type": "stream",
     "text": [
      "HTTPConnectionPool(host='www.tsb-web.org.tw', port=80): Max retries exceeded with url: /isb2007/isb2007-paper/ISB/0526.pdf (Caused by NewConnectionError('<urllib3.connection.HTTPConnection object at 0x7f5d37df1f70>: Failed to establish a new connection: [Errno -2] Name or service not known'))\n",
      "HTTPConnectionPool(host='www.tsb-web.org.tw', port=80): Max retries exceeded with url: /isb2007/isb2007-paper/ISB/0532.pdf (Caused by NewConnectionError('<urllib3.connection.HTTPConnection object at 0x7f5d37df17c0>: Failed to establish a new connection: [Errno -2] Name or service not known'))\n",
      "HTTPConnectionPool(host='www.tsb-web.org.tw', port=80): Max retries exceeded with url: /isb2007/isb2007-paper/ISB/0670.pdf (Caused by NewConnectionError('<urllib3.connection.HTTPConnection object at 0x7f5d37df1970>: Failed to establish a new connection: [Errno -2] Name or service not known'))\n"
     ]
    },
    {
     "name": "stderr",
     "output_type": "stream",
     "text": [
      " 88%|██████████████████████████████████▏    | 1665/1899 [56:55<02:01,  1.92it/s]"
     ]
    },
    {
     "name": "stdout",
     "output_type": "stream",
     "text": [
      "HTTPConnectionPool(host='www.waset.ac.nz', port=80): Max retries exceeded with url: /journals/waset/v35/v35-151.pdf (Caused by NewConnectionError('<urllib3.connection.HTTPConnection object at 0x7f5d37d92460>: Failed to establish a new connection: [Errno -3] Temporary failure in name resolution'))\n",
      "HTTPConnectionPool(host='www.waset.ac.nz', port=80): Max retries exceeded with url: /journals/waset/v57/v57-6.pdf (Caused by NewConnectionError('<urllib3.connection.HTTPConnection object at 0x7f5d37d92e80>: Failed to establish a new connection: [Errno -3] Temporary failure in name resolution'))\n"
     ]
    },
    {
     "name": "stderr",
     "output_type": "stream",
     "text": [
      " 92%|███████████████████████████████████▋   | 1740/1899 [58:11<01:32,  1.73it/s]"
     ]
    },
    {
     "name": "stdout",
     "output_type": "stream",
     "text": [
      "HTTPSConnectionPool(host='myjurnal.mohe.gov.my', port=443): Max retries exceeded with url: /filebank/published_article/115206/15.pdf (Caused by SSLError(SSLError(1, '[SSL: DH_KEY_TOO_SMALL] dh key too small (_ssl.c:1131)')))\n"
     ]
    },
    {
     "name": "stderr",
     "output_type": "stream",
     "text": [
      " 94%|████████████████████████████████████▌  | 1782/1899 [58:40<01:04,  1.82it/s]"
     ]
    },
    {
     "name": "stdout",
     "output_type": "stream",
     "text": [
      "HTTPSConnectionPool(host='www.electrochemsci.org', port=443): Max retries exceeded with url: /papers/vol10/100504183.pdf (Caused by SSLError(SSLError(1, '[SSL: UNSUPPORTED_PROTOCOL] unsupported protocol (_ssl.c:1131)')))\n"
     ]
    },
    {
     "name": "stderr",
     "output_type": "stream",
     "text": [
      " 95%|█████████████████████████████████████  | 1807/1899 [59:01<00:39,  2.31it/s]"
     ]
    },
    {
     "name": "stdout",
     "output_type": "stream",
     "text": [
      "HTTPSConnectionPool(host='www.iiardpub.org', port=443): Max retries exceeded with url: /get/JAFM/VOL.%203%20NO.%201%202017/The%20Role%20of%20Internal%20Control.pdf (Caused by NewConnectionError('<urllib3.connection.HTTPSConnection object at 0x7f5d37df16a0>: Failed to establish a new connection: [Errno -2] Name or service not known'))\n"
     ]
    },
    {
     "name": "stderr",
     "output_type": "stream",
     "text": [
      " 96%|█████████████████████████████████████▌ | 1832/1899 [59:16<00:48,  1.37it/s]"
     ]
    },
    {
     "name": "stdout",
     "output_type": "stream",
     "text": [
      "HTTPSConnectionPool(host='www.ippbm.gov.my', port=443): Max retries exceeded with url: /images/MJYS/2015/MJYS%20Vol%2013%20Dec%202015-221-237.pdf (Caused by NewConnectionError('<urllib3.connection.HTTPSConnection object at 0x7f5d37df1580>: Failed to establish a new connection: [Errno -3] Temporary failure in name resolution'))\n"
     ]
    },
    {
     "name": "stderr",
     "output_type": "stream",
     "text": [
      " 97%|███████████████████████████████████▊ | 1837/1899 [1:00:57<17:07, 16.58s/it]"
     ]
    },
    {
     "name": "stdout",
     "output_type": "stream",
     "text": [
      "(\"Connection broken: ConnectionResetError(104, 'Connection reset by peer')\", ConnectionResetError(104, 'Connection reset by peer'))\n"
     ]
    },
    {
     "name": "stderr",
     "output_type": "stream",
     "text": [
      " 98%|████████████████████████████████████▍| 1870/1899 [1:03:24<06:35, 13.64s/it]"
     ]
    },
    {
     "name": "stdout",
     "output_type": "stream",
     "text": [
      "HTTPSConnectionPool(host='www.thaiscience.info', port=443): Max retries exceeded with url: /journals/Article/Factors%20affecting%20refrigerator-freezers%20energy%20consumption.pdf (Caused by NewConnectionError('<urllib3.connection.HTTPSConnection object at 0x7f5d37df1940>: Failed to establish a new connection: [Errno 110] Connection timed out'))\n"
     ]
    },
    {
     "name": "stderr",
     "output_type": "stream",
     "text": [
      "100%|█████████████████████████████████████| 1899/1899 [1:03:25<00:00,  2.00s/it]\n"
     ]
    }
   ],
   "source": [
    "max_worker = 1\n",
    "\n",
    "others = sorted(list(others))\n",
    "for i in tqdm(range(0, len(others), max_worker)):\n",
    "    urls = [(url, os.path.join('others', f'{i}-{no}.pdf')) for no, url in enumerate(others[i: i + max_worker])]\n",
    "    \n",
    "    with ThreadPoolExecutor(max_workers=max_worker) as executor:\n",
    "        futures = {executor.submit(download, url[0], url[1]): url for url in urls}\n",
    "\n",
    "        for future in as_completed(futures):\n",
    "            future.result()"
   ]
  },
  {
   "cell_type": "code",
   "execution_count": null,
   "metadata": {},
   "outputs": [],
   "source": [
    "download(filtered_pdfs[3], os.path.join('pdf', '1.pdf'))"
   ]
  },
  {
   "cell_type": "code",
   "execution_count": null,
   "metadata": {},
   "outputs": [],
   "source": [
    "filtered_pdfs[3]"
   ]
  },
  {
   "cell_type": "code",
   "execution_count": null,
   "metadata": {},
   "outputs": [],
   "source": [
    "response = requests.get(filtered_pdfs[3], timeout = 60)"
   ]
  },
  {
   "cell_type": "code",
   "execution_count": null,
   "metadata": {},
   "outputs": [],
   "source": []
  }
 ],
 "metadata": {
  "kernelspec": {
   "display_name": "Python 3 (ipykernel)",
   "language": "python",
   "name": "python3"
  },
  "language_info": {
   "codemirror_mode": {
    "name": "ipython",
    "version": 3
   },
   "file_extension": ".py",
   "mimetype": "text/x-python",
   "name": "python",
   "nbconvert_exporter": "python",
   "pygments_lexer": "ipython3",
   "version": "3.8.10"
  }
 },
 "nbformat": 4,
 "nbformat_minor": 4
}
