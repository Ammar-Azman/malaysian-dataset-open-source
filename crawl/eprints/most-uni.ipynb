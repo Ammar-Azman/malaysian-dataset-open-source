{
 "cells": [
  {
   "cell_type": "code",
   "execution_count": 47,
   "metadata": {},
   "outputs": [],
   "source": [
    "import requests\n",
    "from bs4 import BeautifulSoup\n",
    "import os\n",
    "from tqdm import tqdm\n",
    "from glob import glob\n",
    "from datetime import datetime\n",
    "import dateparser\n",
    "from unidecode import unidecode\n",
    "from concurrent.futures import ThreadPoolExecutor, as_completed"
   ]
  },
  {
   "cell_type": "code",
   "execution_count": 68,
   "metadata": {
    "scrolled": true
   },
   "outputs": [
    {
     "data": {
      "text/plain": [
       "[2002,\n",
       " 2003,\n",
       " 2004,\n",
       " 2005,\n",
       " 2006,\n",
       " 2007,\n",
       " 2008,\n",
       " 2009,\n",
       " 2010,\n",
       " 2011,\n",
       " 2012,\n",
       " 2013,\n",
       " 2014,\n",
       " 2015,\n",
       " 2016,\n",
       " 2017,\n",
       " 2018,\n",
       " 2019,\n",
       " 2020,\n",
       " 2021,\n",
       " 2022,\n",
       " 2023]"
      ]
     },
     "execution_count": 68,
     "metadata": {},
     "output_type": "execute_result"
    }
   ],
   "source": [
    "import datetime\n",
    "\n",
    "date1 = datetime.date(2002, 1, 1)\n",
    "date2 = datetime.date(2023, 1, 1)\n",
    "\n",
    "def daterange(date1, date2):\n",
    "    for n in range(int(date2.year) - int(date1.year)+1):\n",
    "        yield int(date1.year) + n\n",
    "\n",
    "start_dt = date1\n",
    "end_dt = date2\n",
    "dat = []\n",
    "for dt in daterange(start_dt, end_dt):\n",
    "    dat.append(dt)\n",
    "    \n",
    "dat"
   ]
  },
  {
   "cell_type": "code",
   "execution_count": 69,
   "metadata": {},
   "outputs": [],
   "source": [
    "urls = [\n",
    "    'http://eprints.utm.my/id/eprint/view/year/2004.html',\n",
    "    'http://eprints.utar.edu.my/view/year/2023.html',\n",
    "    'https://eprints.um.edu.my/view/year/2021.html',\n",
    "    'http://journalarticle.ukm.my/view/year/2001.html',\n",
    "    'http://eprints.usm.my/view/year/2016.html',\n",
    "    'http://psasir.upm.edu.my/view/year/1996.html',\n",
    "    'https://repo.uum.edu.my/view/year/2002.html',\n",
    "]"
   ]
  },
  {
   "cell_type": "code",
   "execution_count": 72,
   "metadata": {
    "scrolled": false
   },
   "outputs": [
    {
     "name": "stdout",
     "output_type": "stream",
     "text": [
      "http://eprints.utm.my/id/eprint/view/year/2004.html\n"
     ]
    },
    {
     "name": "stderr",
     "output_type": "stream",
     "text": [
      "100%|███████████████████████████████████████████| 22/22 [00:04<00:00,  4.97it/s]\n"
     ]
    },
    {
     "name": "stdout",
     "output_type": "stream",
     "text": [
      "http://eprints.utar.edu.my/view/year/2023.html\n"
     ]
    },
    {
     "name": "stderr",
     "output_type": "stream",
     "text": [
      "100%|███████████████████████████████████████████| 22/22 [00:09<00:00,  2.38it/s]\n"
     ]
    },
    {
     "name": "stdout",
     "output_type": "stream",
     "text": [
      "https://eprints.um.edu.my/view/year/2021.html\n"
     ]
    },
    {
     "name": "stderr",
     "output_type": "stream",
     "text": [
      "100%|███████████████████████████████████████████| 22/22 [00:52<00:00,  2.40s/it]\n"
     ]
    },
    {
     "name": "stdout",
     "output_type": "stream",
     "text": [
      "http://journalarticle.ukm.my/view/year/2001.html\n"
     ]
    },
    {
     "name": "stderr",
     "output_type": "stream",
     "text": [
      "100%|███████████████████████████████████████████| 22/22 [00:10<00:00,  2.17it/s]\n"
     ]
    },
    {
     "name": "stdout",
     "output_type": "stream",
     "text": [
      "http://eprints.usm.my/view/year/2016.html\n"
     ]
    },
    {
     "name": "stderr",
     "output_type": "stream",
     "text": [
      "100%|███████████████████████████████████████████| 22/22 [00:09<00:00,  2.26it/s]\n"
     ]
    },
    {
     "name": "stdout",
     "output_type": "stream",
     "text": [
      "http://psasir.upm.edu.my/view/year/1996.html\n"
     ]
    },
    {
     "name": "stderr",
     "output_type": "stream",
     "text": [
      "100%|███████████████████████████████████████████| 22/22 [00:15<00:00,  1.39it/s]\n"
     ]
    },
    {
     "name": "stdout",
     "output_type": "stream",
     "text": [
      "https://repo.uum.edu.my/view/year/2002.html\n"
     ]
    },
    {
     "name": "stderr",
     "output_type": "stream",
     "text": [
      "100%|███████████████████████████████████████████| 22/22 [00:13<00:00,  1.60it/s]\n"
     ]
    }
   ],
   "source": [
    "all_a = []\n",
    "for url in urls:\n",
    "    print(url)\n",
    "    for y in tqdm(dat):\n",
    "        splitted = url.split('year/')\n",
    "        url = splitted[0] + f'year/{y}.html'\n",
    "        r = requests.get(url)\n",
    "        soup = BeautifulSoup(r._content, \"lxml\")\n",
    "        p = soup.find_all('p')\n",
    "        a = [p_.find('a') for p_ in p]\n",
    "        a = [a_.get('href') for a_ in a if a_]\n",
    "        all_a.extend(a)"
   ]
  },
  {
   "cell_type": "code",
   "execution_count": 76,
   "metadata": {},
   "outputs": [],
   "source": [
    "cookies = {\n",
    "    'cookiesession1': '678B28F695C90B262BFC00B79BBD6CC1',\n",
    "    'lhc_per': 'vid|a3d85efe963899fee2b5',\n",
    "    '_gid': 'GA1.3.190366811.1685035962',\n",
    "    '_ga_3C534XGNC2': 'GS1.1.1685035961.2.1.1685037340.0.0.0',\n",
    "    '_ga_Q33BVTTDL1': 'GS1.1.1685035961.2.1.1685037340.0.0.0',\n",
    "    '_gat': '1',\n",
    "    '_ga_QHEB12PC6D': 'GS1.1.1685035961.2.1.1685037340.0.0.0',\n",
    "    '_ga': 'GA1.1.2075372866.1684772919',\n",
    "}\n",
    "\n",
    "headers = {\n",
    "    'Accept': 'text/html,application/xhtml+xml,application/xml;q=0.9,image/avif,image/webp,image/apng,*/*;q=0.8,application/signed-exchange;v=b3;q=0.7',\n",
    "    'Accept-Language': 'en-MY,en;q=0.9,en-US;q=0.8,ms;q=0.7',\n",
    "    'Cache-Control': 'no-cache',\n",
    "    'Connection': 'keep-alive',\n",
    "    # 'Cookie': 'cookiesession1=678B28F695C90B262BFC00B79BBD6CC1; lhc_per=vid|a3d85efe963899fee2b5; _gid=GA1.3.190366811.1685035962; _ga_3C534XGNC2=GS1.1.1685035961.2.1.1685037340.0.0.0; _ga_Q33BVTTDL1=GS1.1.1685035961.2.1.1685037340.0.0.0; _gat=1; _ga_QHEB12PC6D=GS1.1.1685035961.2.1.1685037340.0.0.0; _ga=GA1.1.2075372866.1684772919',\n",
    "    'Pragma': 'no-cache',\n",
    "    'Referer': 'https://ir.uitm.edu.my/view/doclang/2017/',\n",
    "    'Sec-Fetch-Dest': 'document',\n",
    "    'Sec-Fetch-Mode': 'navigate',\n",
    "    'Sec-Fetch-Site': 'same-origin',\n",
    "    'Sec-Fetch-User': '?1',\n",
    "    'Upgrade-Insecure-Requests': '1',\n",
    "    'User-Agent': 'Mozilla/5.0 (Macintosh; Intel Mac OS X 10_15_7) AppleWebKit/537.36 (KHTML, like Gecko) Chrome/113.0.0.0 Safari/537.36',\n",
    "    'sec-ch-ua': '\"Google Chrome\";v=\"113\", \"Chromium\";v=\"113\", \"Not-A.Brand\";v=\"24\"',\n",
    "    'sec-ch-ua-mobile': '?0',\n",
    "    'sec-ch-ua-platform': '\"macOS\"',\n",
    "}"
   ]
  },
  {
   "cell_type": "code",
   "execution_count": 77,
   "metadata": {},
   "outputs": [
    {
     "name": "stderr",
     "output_type": "stream",
     "text": [
      "100%|███████████████████████████████████████████| 22/22 [00:03<00:00,  5.59it/s]\n",
      "100%|███████████████████████████████████████████| 22/22 [00:09<00:00,  2.32it/s]\n"
     ]
    }
   ],
   "source": [
    "for y in tqdm(dat):\n",
    "    url = f'https://ir.uitm.edu.my/view/doclang/{y}/ms.html'\n",
    "    r = requests.get(url, cookies=cookies, headers=headers)\n",
    "    soup = BeautifulSoup(r._content, \"lxml\")\n",
    "    p = soup.find_all('p')\n",
    "    a = [p_.find('a') for p_ in p]\n",
    "    a = [a_.get('href') for a_ in a if a_]\n",
    "    all_a.extend(a)\n",
    "    \n",
    "for y in tqdm(dat):\n",
    "    url = f'https://ir.uitm.edu.my/view/doclang/{y}/en.html'\n",
    "    r = requests.get(url, cookies=cookies, headers=headers)\n",
    "    soup = BeautifulSoup(r._content, \"lxml\")\n",
    "    p = soup.find_all('p')\n",
    "    a = [p_.find('a') for p_ in p]\n",
    "    a = [a_.get('href') for a_ in a if a_]\n",
    "    all_a.extend(a)"
   ]
  },
  {
   "cell_type": "code",
   "execution_count": 78,
   "metadata": {},
   "outputs": [
    {
     "data": {
      "text/plain": [
       "245232"
      ]
     },
     "execution_count": 78,
     "metadata": {},
     "output_type": "execute_result"
    }
   ],
   "source": [
    "len(all_a)"
   ]
  },
  {
   "cell_type": "code",
   "execution_count": 81,
   "metadata": {},
   "outputs": [
    {
     "data": {
      "text/plain": [
       "187863"
      ]
     },
     "execution_count": 81,
     "metadata": {},
     "output_type": "execute_result"
    }
   ],
   "source": [
    "all_a = sorted(list(set(all_a)))\n",
    "len(all_a)"
   ]
  },
  {
   "cell_type": "code",
   "execution_count": 82,
   "metadata": {},
   "outputs": [],
   "source": [
    "import json\n",
    "\n",
    "with open('all_a.json', 'w') as fopen:\n",
    "    json.dump(all_a, fopen)"
   ]
  },
  {
   "cell_type": "code",
   "execution_count": 99,
   "metadata": {},
   "outputs": [],
   "source": [
    "uitm = [a for a in all_a if 'uitm' in a]"
   ]
  },
  {
   "cell_type": "code",
   "execution_count": 103,
   "metadata": {},
   "outputs": [
    {
     "data": {
      "text/plain": [
       "['https://ir.uitm.edu.my/id/eprint/997/6/997.pdf',\n",
       " 'https://ir.uitm.edu.my/997/6/997.pdf']"
      ]
     },
     "execution_count": 103,
     "metadata": {},
     "output_type": "execute_result"
    }
   ],
   "source": [
    "def get_pdf(url):\n",
    "    try:\n",
    "        r = requests.get(url, timeout = 10.0, cookies=cookies, headers=headers)\n",
    "        soup = BeautifulSoup(r._content, \"lxml\")\n",
    "        a = soup.find_all('a')\n",
    "        a = [a_.get('href') for a_ in a]\n",
    "        a = [a_ for a_ in a if a_ and '.pdf' in a_ and 'haspreview' not in a_]\n",
    "        a = list(set(a))\n",
    "        return a\n",
    "    except:\n",
    "        return None\n",
    "\n",
    "get_pdf(uitm[-3])"
   ]
  },
  {
   "cell_type": "code",
   "execution_count": 104,
   "metadata": {},
   "outputs": [],
   "source": [
    "!rm -rf pages\n",
    "!mkdir pages"
   ]
  },
  {
   "cell_type": "code",
   "execution_count": 105,
   "metadata": {},
   "outputs": [
    {
     "name": "stderr",
     "output_type": "stream",
     "text": [
      "  9%|███                                 | 1620/18787 [37:24<5:02:23,  1.06s/it]encoding error : input conversion failed due to input error, bytes 0x81 0x63 0x61 0x74\n",
      "encoding error : input conversion failed due to input error, bytes 0x81 0x63 0x61 0x74\n",
      "encoding error : input conversion failed due to input error, bytes 0x81 0x63 0x61 0x74\n",
      "  9%|███                                | 1645/18787 [38:02<17:20:31,  3.64s/it]encoding error : input conversion failed due to input error, bytes 0x81 0x63 0x69 0x65\n",
      "encoding error : input conversion failed due to input error, bytes 0x81 0x63 0x69 0x65\n",
      "encoding error : input conversion failed due to input error, bytes 0x81 0x63 0x69 0x65\n",
      " 39%|█████████████▏                    | 7296/18787 [4:15:01<1:09:13,  2.77it/s]IOPub message rate exceeded.\n",
      "The notebook server will temporarily stop sending output\n",
      "to the client in order to avoid crashing it.\n",
      "To change this limit, set the config variable\n",
      "`--NotebookApp.iopub_msg_rate_limit`.\n",
      "\n",
      "Current values:\n",
      "NotebookApp.iopub_msg_rate_limit=1000.0 (msgs/sec)\n",
      "NotebookApp.rate_limit_window=3.0 (secs)\n",
      "\n",
      " 66%|█████████████████████▊           | 12403/18787 [5:12:48<2:09:44,  1.22s/it]encoding error : input conversion failed due to input error, bytes 0x81 0x66 0x2E 0x20\n",
      "encoding error : input conversion failed due to input error, bytes 0x81 0x66 0x2E 0x20\n",
      "encoding error : input conversion failed due to input error, bytes 0x81 0x66 0x2E 0x20\n",
      " 91%|███████████████████████████████▉   | 17154/18787 [6:43:07<06:24,  4.25it/s]IOPub message rate exceeded.\n",
      "The notebook server will temporarily stop sending output\n",
      "to the client in order to avoid crashing it.\n",
      "To change this limit, set the config variable\n",
      "`--NotebookApp.iopub_msg_rate_limit`.\n",
      "\n",
      "Current values:\n",
      "NotebookApp.iopub_msg_rate_limit=1000.0 (msgs/sec)\n",
      "NotebookApp.rate_limit_window=3.0 (secs)\n",
      "\n"
     ]
    }
   ],
   "source": [
    "max_worker = 10\n",
    "\n",
    "all_a = sorted(all_a)\n",
    "for i in tqdm(range(0, len(all_a), max_worker)):\n",
    "    \n",
    "    filename = os.path.join('pages', f'{i}.json')\n",
    "    \n",
    "    if os.path.exists(filename) and os.path.getsize(filename) > 1000:\n",
    "        continue\n",
    "    \n",
    "    pdfs = []\n",
    "    with ThreadPoolExecutor(max_workers=max_worker) as executor:\n",
    "        futures = {executor.submit(get_pdf, url): url for url in all_a[i: i + max_worker]}\n",
    "\n",
    "        for future in as_completed(futures):\n",
    "            r = future.result()\n",
    "            if r:\n",
    "                pdfs.extend(r)\n",
    "    \n",
    "    with open(filename, 'w') as fopen:\n",
    "        json.dump(pdfs, fopen)"
   ]
  },
  {
   "cell_type": "code",
   "execution_count": 106,
   "metadata": {},
   "outputs": [
    {
     "data": {
      "text/plain": [
       "18787"
      ]
     },
     "execution_count": 106,
     "metadata": {},
     "output_type": "execute_result"
    }
   ],
   "source": [
    "files = glob('pages/*.json')\n",
    "len(files)"
   ]
  },
  {
   "cell_type": "code",
   "execution_count": 107,
   "metadata": {},
   "outputs": [],
   "source": [
    "pdfs = []\n",
    "for f in files:\n",
    "    with open(f) as fopen:\n",
    "        pdfs.extend(json.load(fopen))"
   ]
  },
  {
   "cell_type": "code",
   "execution_count": 108,
   "metadata": {},
   "outputs": [
    {
     "data": {
      "text/plain": [
       "235614"
      ]
     },
     "execution_count": 108,
     "metadata": {},
     "output_type": "execute_result"
    }
   ],
   "source": [
    "len(pdfs)"
   ]
  },
  {
   "cell_type": "code",
   "execution_count": 110,
   "metadata": {},
   "outputs": [
    {
     "data": {
      "text/plain": [
       "'https://ir.uitm.edu.my/35876/1/35876.pdf'"
      ]
     },
     "execution_count": 110,
     "metadata": {},
     "output_type": "execute_result"
    }
   ],
   "source": [
    "pdfs"
   ]
  },
  {
   "cell_type": "code",
   "execution_count": 111,
   "metadata": {},
   "outputs": [],
   "source": []
  },
  {
   "cell_type": "code",
   "execution_count": null,
   "metadata": {},
   "outputs": [],
   "source": []
  }
 ],
 "metadata": {
  "kernelspec": {
   "display_name": "Python 3 (ipykernel)",
   "language": "python",
   "name": "python3"
  },
  "language_info": {
   "codemirror_mode": {
    "name": "ipython",
    "version": 3
   },
   "file_extension": ".py",
   "mimetype": "text/x-python",
   "name": "python",
   "nbconvert_exporter": "python",
   "pygments_lexer": "ipython3",
   "version": "3.8.10"
  }
 },
 "nbformat": 4,
 "nbformat_minor": 4
}
