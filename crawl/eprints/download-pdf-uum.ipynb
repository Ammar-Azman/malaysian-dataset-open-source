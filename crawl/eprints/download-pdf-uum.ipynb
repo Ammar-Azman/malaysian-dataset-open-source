{
 "cells": [
  {
   "cell_type": "code",
   "execution_count": 1,
   "metadata": {},
   "outputs": [],
   "source": [
    "import urllib3\n",
    "urllib3.disable_warnings(urllib3.exceptions.InsecureRequestWarning)"
   ]
  },
  {
   "cell_type": "code",
   "execution_count": 2,
   "metadata": {},
   "outputs": [],
   "source": [
    "import requests\n",
    "import json\n",
    "import os\n",
    "import re\n",
    "import time\n",
    "from tqdm import tqdm\n",
    "from glob import glob\n",
    "from concurrent.futures import ThreadPoolExecutor, as_completed"
   ]
  },
  {
   "cell_type": "code",
   "execution_count": 3,
   "metadata": {},
   "outputs": [],
   "source": [
    "cookies = {\n",
    "    'cookiesession1': '678B28F695C90B262BFC00B79BBD6CC1',\n",
    "    'lhc_per': 'vid|a3d85efe963899fee2b5',\n",
    "    '_gid': 'GA1.3.289911229.1685154797',\n",
    "    '_ga': 'GA1.1.2075372866.1684772919',\n",
    "    '_ga_3C534XGNC2': 'GS1.1.1685154797.4.1.1685154882.0.0.0',\n",
    "    '_ga_Q33BVTTDL1': 'GS1.1.1685154797.4.1.1685154882.0.0.0',\n",
    "    '_ga_QHEB12PC6D': 'GS1.1.1685154797.4.1.1685154882.0.0.0',\n",
    "}\n",
    "\n",
    "headers = {\n",
    "    'Accept': 'text/html,application/xhtml+xml,application/xml;q=0.9,image/avif,image/webp,image/apng,*/*;q=0.8,application/signed-exchange;v=b3;q=0.7',\n",
    "    'Accept-Language': 'en-MY,en;q=0.9,en-US;q=0.8,ms;q=0.7',\n",
    "    'Cache-Control': 'no-cache',\n",
    "    'Connection': 'keep-alive',\n",
    "    # 'Cookie': 'cookiesession1=678B28F695C90B262BFC00B79BBD6CC1; lhc_per=vid|a3d85efe963899fee2b5; _gid=GA1.3.289911229.1685154797; _ga=GA1.1.2075372866.1684772919; _ga_3C534XGNC2=GS1.1.1685154797.4.1.1685154882.0.0.0; _ga_Q33BVTTDL1=GS1.1.1685154797.4.1.1685154882.0.0.0; _ga_QHEB12PC6D=GS1.1.1685154797.4.1.1685154882.0.0.0',\n",
    "    'Pragma': 'no-cache',\n",
    "    'Sec-Fetch-Dest': 'document',\n",
    "    'Sec-Fetch-Mode': 'navigate',\n",
    "    'Sec-Fetch-Site': 'none',\n",
    "    'Sec-Fetch-User': '?1',\n",
    "    'Upgrade-Insecure-Requests': '1',\n",
    "    'User-Agent': 'Mozilla/5.0 (Macintosh; Intel Mac OS X 10_15_7) AppleWebKit/537.36 (KHTML, like Gecko) Chrome/113.0.0.0 Safari/537.36',\n",
    "    'sec-ch-ua': '\"Google Chrome\";v=\"113\", \"Chromium\";v=\"113\", \"Not-A.Brand\";v=\"24\"',\n",
    "    'sec-ch-ua-mobile': '?0',\n",
    "    'sec-ch-ua-platform': '\"macOS\"',\n",
    "}"
   ]
  },
  {
   "cell_type": "code",
   "execution_count": 4,
   "metadata": {},
   "outputs": [],
   "source": [
    "def download(url, file_name, retry = 3):\n",
    "    if os.path.exists(file_name) and os.path.getsize(file_name) > 50000:\n",
    "        return\n",
    "    with open(file_name, \"wb\") as file:\n",
    "        for k in range(retry):\n",
    "            try:\n",
    "                response = requests.get(url, verify = False, timeout = 360, cookies=cookies, headers=headers)\n",
    "                file.write(response.content)\n",
    "                return \n",
    "            except Exception as e:\n",
    "                print(k, e)\n",
    "                time.sleep(0.5)"
   ]
  },
  {
   "cell_type": "code",
   "execution_count": 5,
   "metadata": {},
   "outputs": [
    {
     "data": {
      "text/plain": [
       "18787"
      ]
     },
     "execution_count": 5,
     "metadata": {},
     "output_type": "execute_result"
    }
   ],
   "source": [
    "files = glob('pages/*.json')\n",
    "len(files)"
   ]
  },
  {
   "cell_type": "code",
   "execution_count": 6,
   "metadata": {
    "scrolled": true
   },
   "outputs": [],
   "source": [
    "pdfs = []\n",
    "for f in files:\n",
    "    with open(f) as fopen:\n",
    "        pdfs.extend(json.load(fopen))\n",
    "        \n",
    "pdfs = list(set(pdfs))"
   ]
  },
  {
   "cell_type": "code",
   "execution_count": 7,
   "metadata": {},
   "outputs": [
    {
     "name": "stderr",
     "output_type": "stream",
     "text": [
      "100%|███████████████████████████████| 235433/235433 [00:00<00:00, 665309.90it/s]\n"
     ]
    },
    {
     "data": {
      "text/plain": [
       "235130"
      ]
     },
     "execution_count": 7,
     "metadata": {},
     "output_type": "execute_result"
    }
   ],
   "source": [
    "filtered_pdfs = []\n",
    "for p in tqdm(pdfs):\n",
    "    if len(re.findall( r'[0-9]+(?:\\.[0-9]+){3}', p)):\n",
    "        continue\n",
    "    if not p.endswith('.pdf'):\n",
    "        continue\n",
    "    if 'ade.sagepub.com' in p:\n",
    "        continue\n",
    "    filtered_pdfs.append(p)\n",
    "    \n",
    "filtered_pdfs = sorted(list(set(filtered_pdfs)))\n",
    "len(filtered_pdfs)"
   ]
  },
  {
   "cell_type": "code",
   "execution_count": 8,
   "metadata": {},
   "outputs": [
    {
     "data": {
      "text/plain": [
       "45797"
      ]
     },
     "execution_count": 8,
     "metadata": {},
     "output_type": "execute_result"
    }
   ],
   "source": [
    "uum = [f for f in filtered_pdfs if 'uum.edu.my' in f]\n",
    "len(uum)"
   ]
  },
  {
   "cell_type": "code",
   "execution_count": 9,
   "metadata": {},
   "outputs": [],
   "source": [
    "!rm -rf uum\n",
    "!mkdir uum"
   ]
  },
  {
   "cell_type": "code",
   "execution_count": 10,
   "metadata": {},
   "outputs": [
    {
     "name": "stderr",
     "output_type": "stream",
     "text": [
      " 10%|███▍                                | 4441/45796 [28:49<4:23:44,  2.61it/s]IOPub message rate exceeded.\n",
      "The notebook server will temporarily stop sending output\n",
      "to the client in order to avoid crashing it.\n",
      "To change this limit, set the config variable\n",
      "`--NotebookApp.iopub_msg_rate_limit`.\n",
      "\n",
      "Current values:\n",
      "NotebookApp.iopub_msg_rate_limit=1000.0 (msgs/sec)\n",
      "NotebookApp.rate_limit_window=3.0 (secs)\n",
      "\n",
      "100%|███████████████████████████████████| 45796/45796 [3:37:52<00:00,  3.50it/s]\n"
     ]
    }
   ],
   "source": [
    "max_worker = 1\n",
    "\n",
    "uum = sorted(list(uum))\n",
    "for i in tqdm(range(1, len(uum), max_worker)):\n",
    "    urls = [(url, os.path.join('uum', f'{i}-{no}.pdf')) for no, url in enumerate(uum[i: i + max_worker])]\n",
    "    \n",
    "    with ThreadPoolExecutor(max_workers=max_worker) as executor:\n",
    "        futures = {executor.submit(download, url[0], url[1]): url for url in urls}\n",
    "\n",
    "        for future in as_completed(futures):\n",
    "            future.result()"
   ]
  },
  {
   "cell_type": "code",
   "execution_count": 11,
   "metadata": {},
   "outputs": [
    {
     "name": "stdout",
     "output_type": "stream",
     "text": [
      "8.7G\tuum\r\n"
     ]
    }
   ],
   "source": [
    "!du -hs uum"
   ]
  }
 ],
 "metadata": {
  "kernelspec": {
   "display_name": "Python 3 (ipykernel)",
   "language": "python",
   "name": "python3"
  },
  "language_info": {
   "codemirror_mode": {
    "name": "ipython",
    "version": 3
   },
   "file_extension": ".py",
   "mimetype": "text/x-python",
   "name": "python",
   "nbconvert_exporter": "python",
   "pygments_lexer": "ipython3",
   "version": "3.8.10"
  }
 },
 "nbformat": 4,
 "nbformat_minor": 4
}
