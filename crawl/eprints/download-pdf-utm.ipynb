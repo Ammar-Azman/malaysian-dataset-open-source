{
 "cells": [
  {
   "cell_type": "code",
   "execution_count": 1,
   "metadata": {},
   "outputs": [],
   "source": [
    "import urllib3\n",
    "urllib3.disable_warnings(urllib3.exceptions.InsecureRequestWarning)"
   ]
  },
  {
   "cell_type": "code",
   "execution_count": 2,
   "metadata": {},
   "outputs": [],
   "source": [
    "import requests\n",
    "import json\n",
    "import os\n",
    "import re\n",
    "import time\n",
    "from tqdm import tqdm\n",
    "from glob import glob\n",
    "from concurrent.futures import ThreadPoolExecutor, as_completed"
   ]
  },
  {
   "cell_type": "code",
   "execution_count": 3,
   "metadata": {},
   "outputs": [],
   "source": [
    "cookies = {\n",
    "    'cookiesession1': '678B28F695C90B262BFC00B79BBD6CC1',\n",
    "    'lhc_per': 'vid|a3d85efe963899fee2b5',\n",
    "    '_gid': 'GA1.3.289911229.1685154797',\n",
    "    '_ga': 'GA1.1.2075372866.1684772919',\n",
    "    '_ga_3C534XGNC2': 'GS1.1.1685154797.4.1.1685154882.0.0.0',\n",
    "    '_ga_Q33BVTTDL1': 'GS1.1.1685154797.4.1.1685154882.0.0.0',\n",
    "    '_ga_QHEB12PC6D': 'GS1.1.1685154797.4.1.1685154882.0.0.0',\n",
    "}\n",
    "\n",
    "headers = {\n",
    "    'Accept': 'text/html,application/xhtml+xml,application/xml;q=0.9,image/avif,image/webp,image/apng,*/*;q=0.8,application/signed-exchange;v=b3;q=0.7',\n",
    "    'Accept-Language': 'en-MY,en;q=0.9,en-US;q=0.8,ms;q=0.7',\n",
    "    'Cache-Control': 'no-cache',\n",
    "    'Connection': 'keep-alive',\n",
    "    # 'Cookie': 'cookiesession1=678B28F695C90B262BFC00B79BBD6CC1; lhc_per=vid|a3d85efe963899fee2b5; _gid=GA1.3.289911229.1685154797; _ga=GA1.1.2075372866.1684772919; _ga_3C534XGNC2=GS1.1.1685154797.4.1.1685154882.0.0.0; _ga_Q33BVTTDL1=GS1.1.1685154797.4.1.1685154882.0.0.0; _ga_QHEB12PC6D=GS1.1.1685154797.4.1.1685154882.0.0.0',\n",
    "    'Pragma': 'no-cache',\n",
    "    'Sec-Fetch-Dest': 'document',\n",
    "    'Sec-Fetch-Mode': 'navigate',\n",
    "    'Sec-Fetch-Site': 'none',\n",
    "    'Sec-Fetch-User': '?1',\n",
    "    'Upgrade-Insecure-Requests': '1',\n",
    "    'User-Agent': 'Mozilla/5.0 (Macintosh; Intel Mac OS X 10_15_7) AppleWebKit/537.36 (KHTML, like Gecko) Chrome/113.0.0.0 Safari/537.36',\n",
    "    'sec-ch-ua': '\"Google Chrome\";v=\"113\", \"Chromium\";v=\"113\", \"Not-A.Brand\";v=\"24\"',\n",
    "    'sec-ch-ua-mobile': '?0',\n",
    "    'sec-ch-ua-platform': '\"macOS\"',\n",
    "}"
   ]
  },
  {
   "cell_type": "code",
   "execution_count": 4,
   "metadata": {},
   "outputs": [],
   "source": [
    "def download(url, file_name, retry = 3):\n",
    "    if os.path.exists(file_name) and os.path.getsize(file_name) > 50000:\n",
    "        return\n",
    "    with open(file_name, \"wb\") as file:\n",
    "        for k in range(retry):\n",
    "            try:\n",
    "                response = requests.get(url, verify = False, timeout = 360, cookies=cookies, headers=headers)\n",
    "                file.write(response.content)\n",
    "                return \n",
    "            except Exception as e:\n",
    "                print(k, e)\n",
    "                time.sleep(0.5)"
   ]
  },
  {
   "cell_type": "code",
   "execution_count": 5,
   "metadata": {},
   "outputs": [
    {
     "data": {
      "text/plain": [
       "18787"
      ]
     },
     "execution_count": 5,
     "metadata": {},
     "output_type": "execute_result"
    }
   ],
   "source": [
    "files = glob('pages/*.json')\n",
    "len(files)"
   ]
  },
  {
   "cell_type": "code",
   "execution_count": 6,
   "metadata": {
    "scrolled": true
   },
   "outputs": [],
   "source": [
    "pdfs = []\n",
    "for f in files:\n",
    "    with open(f) as fopen:\n",
    "        pdfs.extend(json.load(fopen))\n",
    "        \n",
    "pdfs = list(set(pdfs))"
   ]
  },
  {
   "cell_type": "code",
   "execution_count": 7,
   "metadata": {},
   "outputs": [
    {
     "name": "stderr",
     "output_type": "stream",
     "text": [
      "100%|███████████████████████████████| 235433/235433 [00:00<00:00, 687275.59it/s]\n"
     ]
    },
    {
     "data": {
      "text/plain": [
       "235130"
      ]
     },
     "execution_count": 7,
     "metadata": {},
     "output_type": "execute_result"
    }
   ],
   "source": [
    "filtered_pdfs = []\n",
    "for p in tqdm(pdfs):\n",
    "    if len(re.findall( r'[0-9]+(?:\\.[0-9]+){3}', p)):\n",
    "        continue\n",
    "    if not p.endswith('.pdf'):\n",
    "        continue\n",
    "    if 'ade.sagepub.com' in p:\n",
    "        continue\n",
    "    filtered_pdfs.append(p)\n",
    "    \n",
    "filtered_pdfs = sorted(list(set(filtered_pdfs)))\n",
    "len(filtered_pdfs)"
   ]
  },
  {
   "cell_type": "code",
   "execution_count": 10,
   "metadata": {},
   "outputs": [
    {
     "data": {
      "text/plain": [
       "6"
      ]
     },
     "execution_count": 10,
     "metadata": {},
     "output_type": "execute_result"
    }
   ],
   "source": [
    "uum = [f for f in filtered_pdfs if 'utm.my' in f]\n",
    "len(uum)"
   ]
  },
  {
   "cell_type": "code",
   "execution_count": 11,
   "metadata": {},
   "outputs": [
    {
     "data": {
      "text/plain": [
       "['http://gmm.fsksm.utm.my/~cogramm/cgi-bin/2004/upload_files/abstract/449317633605827_1.pdf',\n",
       " 'http://web.utm.my/ipasa/images/stories/MJCE/2004/vol_16_no_2/Application%20of%20Artificial%20Neural%20Network%20Models%20for%20Predicting%20Water%20Quality%20Index.pdf',\n",
       " 'http://www.fp.utm.my/medc/journals/vol2/11.%20WHAT%20PREDICTS%20ATTITUDES%20TOWARD%20COMPUTER.pdf',\n",
       " 'http://www.fs.utm.my/matematika/images/stories/matematika/200521101.pdf',\n",
       " 'http://www.fs.utm.my/matematika/images/stories/matematika/20082423.pdf',\n",
       " 'http://www.penerbit.utm.my/onlinejournal/46/E/JT46EJUN2.pdf']"
      ]
     },
     "execution_count": 11,
     "metadata": {},
     "output_type": "execute_result"
    }
   ],
   "source": [
    "uum"
   ]
  },
  {
   "cell_type": "code",
   "execution_count": 14,
   "metadata": {},
   "outputs": [],
   "source": [
    "# !rm -rf uitm\n",
    "!mkdir uum"
   ]
  },
  {
   "cell_type": "code",
   "execution_count": null,
   "metadata": {},
   "outputs": [
    {
     "name": "stderr",
     "output_type": "stream",
     "text": [
      "  0%|                                     | 13/45796 [00:36<35:14:31,  2.77s/it]"
     ]
    }
   ],
   "source": [
    "max_worker = 1\n",
    "\n",
    "uitm = sorted(list(uum))\n",
    "for i in tqdm(range(1, len(uum), max_worker)):\n",
    "    urls = [(url, os.path.join('uum', f'{i}-{no}.pdf')) for no, url in enumerate(uitm[i: i + max_worker])]\n",
    "    \n",
    "    with ThreadPoolExecutor(max_workers=max_worker) as executor:\n",
    "        futures = {executor.submit(download, url[0], url[1]): url for url in urls}\n",
    "\n",
    "        for future in as_completed(futures):\n",
    "            future.result()"
   ]
  },
  {
   "cell_type": "code",
   "execution_count": null,
   "metadata": {},
   "outputs": [],
   "source": [
    "uitm[23191]"
   ]
  },
  {
   "cell_type": "code",
   "execution_count": null,
   "metadata": {},
   "outputs": [],
   "source": []
  }
 ],
 "metadata": {
  "kernelspec": {
   "display_name": "Python 3 (ipykernel)",
   "language": "python",
   "name": "python3"
  },
  "language_info": {
   "codemirror_mode": {
    "name": "ipython",
    "version": 3
   },
   "file_extension": ".py",
   "mimetype": "text/x-python",
   "name": "python",
   "nbconvert_exporter": "python",
   "pygments_lexer": "ipython3",
   "version": "3.8.10"
  }
 },
 "nbformat": 4,
 "nbformat_minor": 4
}
