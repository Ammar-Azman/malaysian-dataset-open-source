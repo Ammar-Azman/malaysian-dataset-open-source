{
 "cells": [
  {
   "cell_type": "code",
   "execution_count": 1,
   "metadata": {},
   "outputs": [],
   "source": [
    "import urllib3\n",
    "urllib3.disable_warnings(urllib3.exceptions.InsecureRequestWarning)"
   ]
  },
  {
   "cell_type": "code",
   "execution_count": 2,
   "metadata": {},
   "outputs": [],
   "source": [
    "import requests\n",
    "import json\n",
    "import os\n",
    "import re\n",
    "import time\n",
    "from tqdm import tqdm\n",
    "from glob import glob\n",
    "from concurrent.futures import ThreadPoolExecutor, as_completed"
   ]
  },
  {
   "cell_type": "code",
   "execution_count": 3,
   "metadata": {},
   "outputs": [],
   "source": [
    "cookies = {\n",
    "    'twk_uuid_60b5a146de99a4282a1aa730': '%7B%22uuid%22%3A%221.PUklHkPqHxtTCxog0uFm7cTNNiK4MFsGBwPt5f3jOitFjNR1FGW9u4oBywFGgIr843vL8mdXeQ1jurSjUYCc2Ebu02QB3buhB4deBhi1fj1S8senc%22%2C%22version%22%3A3%2C%22domain%22%3A%22um.edu.my%22%2C%22ts%22%3A1679020786888%7D',\n",
    "    '_ga_9F5XS8KEPF': 'GS1.1.1679020774.2.1.1679021374.0.0.0',\n",
    "    '_ga_EQVDTZTY1B': 'GS1.1.1680497726.1.0.1680497742.0.0.0',\n",
    "    '_ga': 'GA1.3.1274739283.1679018039',\n",
    "    '__utmz': '168646693.1684772685.1.1.utmcsr=google|utmccn=(organic)|utmcmd=organic|utmctr=(not%20provided)',\n",
    "    '__utma': '168646693.1274739283.1679018039.1684772685.1684917419.2',\n",
    "    '__utmc': '168646693',\n",
    "}\n",
    "\n",
    "headers = {\n",
    "    'Accept': 'text/html,application/xhtml+xml,application/xml;q=0.9,image/avif,image/webp,image/apng,*/*;q=0.8,application/signed-exchange;v=b3;q=0.7',\n",
    "    'Accept-Language': 'en-MY,en;q=0.9,en-US;q=0.8,ms;q=0.7',\n",
    "    'Cache-Control': 'no-cache',\n",
    "    'Connection': 'keep-alive',\n",
    "    # 'Cookie': 'twk_uuid_60b5a146de99a4282a1aa730=%7B%22uuid%22%3A%221.PUklHkPqHxtTCxog0uFm7cTNNiK4MFsGBwPt5f3jOitFjNR1FGW9u4oBywFGgIr843vL8mdXeQ1jurSjUYCc2Ebu02QB3buhB4deBhi1fj1S8senc%22%2C%22version%22%3A3%2C%22domain%22%3A%22um.edu.my%22%2C%22ts%22%3A1679020786888%7D; _ga_9F5XS8KEPF=GS1.1.1679020774.2.1.1679021374.0.0.0; _ga_EQVDTZTY1B=GS1.1.1680497726.1.0.1680497742.0.0.0; _ga=GA1.3.1274739283.1679018039; __utmz=168646693.1684772685.1.1.utmcsr=google|utmccn=(organic)|utmcmd=organic|utmctr=(not%20provided); __utma=168646693.1274739283.1679018039.1684772685.1684917419.2; __utmc=168646693',\n",
    "    'Pragma': 'no-cache',\n",
    "    'Referer': 'http://100.93.25.29:8888/',\n",
    "    'Sec-Fetch-Dest': 'document',\n",
    "    'Sec-Fetch-Mode': 'navigate',\n",
    "    'Sec-Fetch-Site': 'cross-site',\n",
    "    'Sec-Fetch-User': '?1',\n",
    "    'Upgrade-Insecure-Requests': '1',\n",
    "    'User-Agent': 'Mozilla/5.0 (Macintosh; Intel Mac OS X 10_15_7) AppleWebKit/537.36 (KHTML, like Gecko) Chrome/113.0.0.0 Safari/537.36',\n",
    "    'sec-ch-ua': '\"Google Chrome\";v=\"113\", \"Chromium\";v=\"113\", \"Not-A.Brand\";v=\"24\"',\n",
    "    'sec-ch-ua-mobile': '?0',\n",
    "    'sec-ch-ua-platform': '\"macOS\"',\n",
    "}"
   ]
  },
  {
   "cell_type": "code",
   "execution_count": 4,
   "metadata": {},
   "outputs": [],
   "source": [
    "def download(url, file_name, retry = 2):\n",
    "    if os.path.exists(file_name) and os.path.getsize(file_name) > 50000:\n",
    "        return\n",
    "    with open(file_name, \"wb\") as file:\n",
    "        for k in range(retry):\n",
    "            try:\n",
    "                response = requests.get(url, verify = False, timeout = 180, cookies=cookies,\n",
    "    headers=headers,)\n",
    "                file.write(response.content)\n",
    "                return \n",
    "            except Exception as e:\n",
    "                print(k, e, url)\n",
    "                time.sleep(0.5)"
   ]
  },
  {
   "cell_type": "code",
   "execution_count": 5,
   "metadata": {},
   "outputs": [
    {
     "data": {
      "text/plain": [
       "18787"
      ]
     },
     "execution_count": 5,
     "metadata": {},
     "output_type": "execute_result"
    }
   ],
   "source": [
    "files = glob('pages/*.json')\n",
    "len(files)"
   ]
  },
  {
   "cell_type": "code",
   "execution_count": 6,
   "metadata": {
    "scrolled": true
   },
   "outputs": [],
   "source": [
    "pdfs = []\n",
    "for f in files:\n",
    "    with open(f) as fopen:\n",
    "        pdfs.extend(json.load(fopen))\n",
    "        \n",
    "pdfs = list(set(pdfs))"
   ]
  },
  {
   "cell_type": "code",
   "execution_count": 7,
   "metadata": {},
   "outputs": [
    {
     "name": "stderr",
     "output_type": "stream",
     "text": [
      "100%|███████████████████████████████| 235433/235433 [00:00<00:00, 652923.92it/s]\n"
     ]
    },
    {
     "data": {
      "text/plain": [
       "235130"
      ]
     },
     "execution_count": 7,
     "metadata": {},
     "output_type": "execute_result"
    }
   ],
   "source": [
    "filtered_pdfs = []\n",
    "for p in tqdm(pdfs):\n",
    "    if len(re.findall( r'[0-9]+(?:\\.[0-9]+){3}', p)):\n",
    "        continue\n",
    "    if not p.endswith('.pdf'):\n",
    "        continue\n",
    "    if 'ade.sagepub.com' in p:\n",
    "        continue\n",
    "    filtered_pdfs.append(p)\n",
    "    \n",
    "filtered_pdfs = sorted(list(set(filtered_pdfs)))\n",
    "len(filtered_pdfs)"
   ]
  },
  {
   "cell_type": "code",
   "execution_count": 8,
   "metadata": {},
   "outputs": [
    {
     "data": {
      "text/plain": [
       "52433"
      ]
     },
     "execution_count": 8,
     "metadata": {},
     "output_type": "execute_result"
    }
   ],
   "source": [
    "um = [f for f in filtered_pdfs if 'um.edu.my' in f]\n",
    "len(um)"
   ]
  },
  {
   "cell_type": "code",
   "execution_count": 9,
   "metadata": {
    "scrolled": true
   },
   "outputs": [
    {
     "name": "stdout",
     "output_type": "stream",
     "text": [
      "mkdir: cannot create directory ‘um’: File exists\r\n"
     ]
    }
   ],
   "source": [
    "# !rm -rf pdf\n",
    "!mkdir um"
   ]
  },
  {
   "cell_type": "code",
   "execution_count": null,
   "metadata": {},
   "outputs": [
    {
     "name": "stderr",
     "output_type": "stream",
     "text": [
      "  0%|                                       | 5/52433 [00:01<3:19:39,  4.38it/s]"
     ]
    },
    {
     "name": "stdout",
     "output_type": "stream",
     "text": [
      "0 HTTPConnectionPool(host='dspace.fsktm.um.edu.my', port=80): Max retries exceeded with url: /bitstream/1812/220/1/TEL_AA.pdf (Caused by NewConnectionError('<urllib3.connection.HTTPConnection object at 0x7f0a7a0a40a0>: Failed to establish a new connection: [Errno -2] Name or service not known')) http://dspace.fsktm.um.edu.my/bitstream/1812/220/1/TEL_AA.pdf\n",
      "1 HTTPConnectionPool(host='dspace.fsktm.um.edu.my', port=80): Max retries exceeded with url: /bitstream/1812/220/1/TEL_AA.pdf (Caused by NewConnectionError('<urllib3.connection.HTTPConnection object at 0x7f0a7a0a4640>: Failed to establish a new connection: [Errno -2] Name or service not known')) http://dspace.fsktm.um.edu.my/bitstream/1812/220/1/TEL_AA.pdf\n"
     ]
    },
    {
     "name": "stderr",
     "output_type": "stream",
     "text": [
      "\r",
      "  0%|                                       | 6/52433 [00:02<8:05:13,  1.80it/s]"
     ]
    },
    {
     "name": "stdout",
     "output_type": "stream",
     "text": [
      "0 HTTPConnectionPool(host='e-journal.um.edu.my', port=80): Max retries exceeded with url: /filebank/published_article/10291/JDBE%20Vol%2016%20Issue%202016.pdf (Caused by NewConnectionError('<urllib3.connection.HTTPConnection object at 0x7f0a7a0a41f0>: Failed to establish a new connection: [Errno -2] Name or service not known')) http://e-journal.um.edu.my/filebank/published_article/10291/JDBE Vol 16 Issue 2016.pdf\n",
      "1 HTTPConnectionPool(host='e-journal.um.edu.my', port=80): Max retries exceeded with url: /filebank/published_article/10291/JDBE%20Vol%2016%20Issue%202016.pdf (Caused by NewConnectionError('<urllib3.connection.HTTPConnection object at 0x7f0a7a0a4310>: Failed to establish a new connection: [Errno -2] Name or service not known')) http://e-journal.um.edu.my/filebank/published_article/10291/JDBE Vol 16 Issue 2016.pdf\n"
     ]
    },
    {
     "name": "stderr",
     "output_type": "stream",
     "text": [
      "\r",
      "  0%|                                      | 7/52433 [00:03<10:32:52,  1.38it/s]"
     ]
    },
    {
     "name": "stdout",
     "output_type": "stream",
     "text": [
      "0 HTTPConnectionPool(host='e-journal.um.edu.my', port=80): Max retries exceeded with url: /filebank/published_article/10292/2%20JDBE%20Vol%2016%20Issue%202%202016%20Mohd%20Farizuda.pdf (Caused by NewConnectionError('<urllib3.connection.HTTPConnection object at 0x7f0a7a0a4910>: Failed to establish a new connection: [Errno -2] Name or service not known')) http://e-journal.um.edu.my/filebank/published_article/10292/2%20JDBE%20Vol%2016%20Issue%202%202016%20Mohd%20Farizuda.pdf\n",
      "1 HTTPConnectionPool(host='e-journal.um.edu.my', port=80): Max retries exceeded with url: /filebank/published_article/10292/2%20JDBE%20Vol%2016%20Issue%202%202016%20Mohd%20Farizuda.pdf (Caused by NewConnectionError('<urllib3.connection.HTTPConnection object at 0x7f0a7a08f940>: Failed to establish a new connection: [Errno -2] Name or service not known')) http://e-journal.um.edu.my/filebank/published_article/10292/2%20JDBE%20Vol%2016%20Issue%202%202016%20Mohd%20Farizuda.pdf\n"
     ]
    },
    {
     "name": "stderr",
     "output_type": "stream",
     "text": [
      "\r",
      "  0%|                                      | 8/52433 [00:04<12:05:22,  1.20it/s]"
     ]
    },
    {
     "name": "stdout",
     "output_type": "stream",
     "text": [
      "0 HTTPConnectionPool(host='e-journal.um.edu.my', port=80): Max retries exceeded with url: /filebank/published_article/10293/3%20JDBE%20Vol%2016%20Issue%202%202016%20Goh%20Hong%20Ching.pdf (Caused by NewConnectionError('<urllib3.connection.HTTPConnection object at 0x7f0a7a0a40a0>: Failed to establish a new connection: [Errno -2] Name or service not known')) http://e-journal.um.edu.my/filebank/published_article/10293/3%20JDBE%20Vol%2016%20Issue%202%202016%20Goh%20Hong%20Ching.pdf\n",
      "1 HTTPConnectionPool(host='e-journal.um.edu.my', port=80): Max retries exceeded with url: /filebank/published_article/10293/3%20JDBE%20Vol%2016%20Issue%202%202016%20Goh%20Hong%20Ching.pdf (Caused by NewConnectionError('<urllib3.connection.HTTPConnection object at 0x7f0a7a0a46d0>: Failed to establish a new connection: [Errno -2] Name or service not known')) http://e-journal.um.edu.my/filebank/published_article/10293/3%20JDBE%20Vol%2016%20Issue%202%202016%20Goh%20Hong%20Ching.pdf\n"
     ]
    },
    {
     "name": "stderr",
     "output_type": "stream",
     "text": [
      "\r",
      "  0%|                                      | 9/52433 [00:05<13:09:40,  1.11it/s]"
     ]
    },
    {
     "name": "stdout",
     "output_type": "stream",
     "text": [
      "0 HTTPConnectionPool(host='e-journal.um.edu.my', port=80): Max retries exceeded with url: /filebank/published_article/3234/Vol%204-3.pdf (Caused by NewConnectionError('<urllib3.connection.HTTPConnection object at 0x7f0a7a0a4a00>: Failed to establish a new connection: [Errno -2] Name or service not known')) http://e-journal.um.edu.my/filebank/published_article/3234/Vol%204-3.pdf\n",
      "1 HTTPConnectionPool(host='e-journal.um.edu.my', port=80): Max retries exceeded with url: /filebank/published_article/3234/Vol%204-3.pdf (Caused by NewConnectionError('<urllib3.connection.HTTPConnection object at 0x7f0a7a0a4460>: Failed to establish a new connection: [Errno -2] Name or service not known')) http://e-journal.um.edu.my/filebank/published_article/3234/Vol%204-3.pdf\n"
     ]
    },
    {
     "name": "stderr",
     "output_type": "stream",
     "text": [
      "\r",
      "  0%|                                     | 10/52433 [00:06<13:54:21,  1.05it/s]"
     ]
    },
    {
     "name": "stdout",
     "output_type": "stream",
     "text": [
      "0 HTTPConnectionPool(host='e-journal.um.edu.my', port=80): Max retries exceeded with url: /filebank/published_article/3263/Vol%201-3.pdf (Caused by NewConnectionError('<urllib3.connection.HTTPConnection object at 0x7f0a7a0a4730>: Failed to establish a new connection: [Errno -2] Name or service not known')) http://e-journal.um.edu.my/filebank/published_article/3263/Vol%201-3.pdf\n",
      "1 HTTPConnectionPool(host='e-journal.um.edu.my', port=80): Max retries exceeded with url: /filebank/published_article/3263/Vol%201-3.pdf (Caused by NewConnectionError('<urllib3.connection.HTTPConnection object at 0x7f0a7a0a43d0>: Failed to establish a new connection: [Errno -2] Name or service not known')) http://e-journal.um.edu.my/filebank/published_article/3263/Vol%201-3.pdf\n"
     ]
    },
    {
     "name": "stderr",
     "output_type": "stream",
     "text": [
      "\r",
      "  0%|                                     | 11/52433 [00:07<14:24:10,  1.01it/s]"
     ]
    },
    {
     "name": "stdout",
     "output_type": "stream",
     "text": [
      "0 HTTPConnectionPool(host='e-journal.um.edu.my', port=80): Max retries exceeded with url: /filebank/published_article/6850/Latest%20Oktober%20Bil%201.%20Isu%203-%201.pdf (Caused by NewConnectionError('<urllib3.connection.HTTPConnection object at 0x7f0a7a0a46d0>: Failed to establish a new connection: [Errno -2] Name or service not known')) http://e-journal.um.edu.my/filebank/published_article/6850/Latest%20Oktober%20Bil%201.%20Isu%203-%201.pdf\n",
      "1 HTTPConnectionPool(host='e-journal.um.edu.my', port=80): Max retries exceeded with url: /filebank/published_article/6850/Latest%20Oktober%20Bil%201.%20Isu%203-%201.pdf (Caused by NewConnectionError('<urllib3.connection.HTTPConnection object at 0x7f0a7a0a40a0>: Failed to establish a new connection: [Errno -2] Name or service not known')) http://e-journal.um.edu.my/filebank/published_article/6850/Latest%20Oktober%20Bil%201.%20Isu%203-%201.pdf\n"
     ]
    },
    {
     "name": "stderr",
     "output_type": "stream",
     "text": [
      "\r",
      "  0%|                                     | 12/52433 [00:08<14:42:47,  1.01s/it]"
     ]
    },
    {
     "name": "stdout",
     "output_type": "stream",
     "text": [
      "0 HTTPConnectionPool(host='e-journal.um.edu.my', port=80): Max retries exceeded with url: /filebank/published_article/7166/Jurnal.Usuluddin.40.2014-08.Yusmini.Counselling.pdf (Caused by NewConnectionError('<urllib3.connection.HTTPConnection object at 0x7f0a7a0a4790>: Failed to establish a new connection: [Errno -2] Name or service not known')) http://e-journal.um.edu.my/filebank/published_article/7166/Jurnal.Usuluddin.40.2014-08.Yusmini.Counselling.pdf\n",
      "1 HTTPConnectionPool(host='e-journal.um.edu.my', port=80): Max retries exceeded with url: /filebank/published_article/7166/Jurnal.Usuluddin.40.2014-08.Yusmini.Counselling.pdf (Caused by NewConnectionError('<urllib3.connection.HTTPConnection object at 0x7f0a7a0a4460>: Failed to establish a new connection: [Errno -2] Name or service not known')) http://e-journal.um.edu.my/filebank/published_article/7166/Jurnal.Usuluddin.40.2014-08.Yusmini.Counselling.pdf\n"
     ]
    },
    {
     "name": "stderr",
     "output_type": "stream",
     "text": [
      "\r",
      "  0%|                                     | 13/52433 [00:09<14:56:47,  1.03s/it]"
     ]
    },
    {
     "name": "stdout",
     "output_type": "stream",
     "text": [
      "0 HTTPConnectionPool(host='e-journal.um.edu.my', port=80): Max retries exceeded with url: /filebank/published_article/7215/Januari%20Bil%202.%20Isu%201%20-%203.pdf (Caused by NewConnectionError('<urllib3.connection.HTTPConnection object at 0x7f0a7a0a4970>: Failed to establish a new connection: [Errno -2] Name or service not known')) http://e-journal.um.edu.my/filebank/published_article/7215/Januari%20Bil%202.%20Isu%201%20-%203.pdf\n",
      "1 HTTPConnectionPool(host='e-journal.um.edu.my', port=80): Max retries exceeded with url: /filebank/published_article/7215/Januari%20Bil%202.%20Isu%201%20-%203.pdf (Caused by NewConnectionError('<urllib3.connection.HTTPConnection object at 0x7f0a7a0a4520>: Failed to establish a new connection: [Errno -2] Name or service not known')) http://e-journal.um.edu.my/filebank/published_article/7215/Januari%20Bil%202.%20Isu%201%20-%203.pdf\n"
     ]
    },
    {
     "name": "stderr",
     "output_type": "stream",
     "text": [
      "\r",
      "  0%|                                     | 14/52433 [00:10<15:05:59,  1.04s/it]"
     ]
    },
    {
     "name": "stdout",
     "output_type": "stream",
     "text": [
      "0 HTTPConnectionPool(host='e-journal.um.edu.my', port=80): Max retries exceeded with url: /filebank/published_article/7427/5%20Shamzaeffa%20and%20Moffatt.pdf (Caused by NewConnectionError('<urllib3.connection.HTTPConnection object at 0x7f0a7a0a4880>: Failed to establish a new connection: [Errno -2] Name or service not known')) http://e-journal.um.edu.my/filebank/published_article/7427/5%20Shamzaeffa%20and%20Moffatt.pdf\n",
      "1 HTTPConnectionPool(host='e-journal.um.edu.my', port=80): Max retries exceeded with url: /filebank/published_article/7427/5%20Shamzaeffa%20and%20Moffatt.pdf (Caused by NewConnectionError('<urllib3.connection.HTTPConnection object at 0x7f0a7a0a43d0>: Failed to establish a new connection: [Errno -2] Name or service not known')) http://e-journal.um.edu.my/filebank/published_article/7427/5%20Shamzaeffa%20and%20Moffatt.pdf\n"
     ]
    },
    {
     "name": "stderr",
     "output_type": "stream",
     "text": [
      "\r",
      "  0%|                                     | 15/52433 [00:11<15:13:47,  1.05s/it]"
     ]
    },
    {
     "name": "stdout",
     "output_type": "stream",
     "text": [
      "0 HTTPConnectionPool(host='e-journal.um.edu.my', port=80): Max retries exceeded with url: /filebank/published_article/9181/(page%2029-32)%20KEPIMPINAN%20TRANSFORMASIONAL.pdf (Caused by NewConnectionError('<urllib3.connection.HTTPConnection object at 0x7f0a7a0a4a90>: Failed to establish a new connection: [Errno -2] Name or service not known')) http://e-journal.um.edu.my/filebank/published_article/9181/(page%2029-32)%20KEPIMPINAN%20TRANSFORMASIONAL.pdf\n",
      "1 HTTPConnectionPool(host='e-journal.um.edu.my', port=80): Max retries exceeded with url: /filebank/published_article/9181/(page%2029-32)%20KEPIMPINAN%20TRANSFORMASIONAL.pdf (Caused by NewConnectionError('<urllib3.connection.HTTPConnection object at 0x7f0a7a0a4160>: Failed to establish a new connection: [Errno -2] Name or service not known')) http://e-journal.um.edu.my/filebank/published_article/9181/(page%2029-32)%20KEPIMPINAN%20TRANSFORMASIONAL.pdf\n"
     ]
    },
    {
     "name": "stderr",
     "output_type": "stream",
     "text": [
      "\r",
      "  0%|                                     | 16/52433 [00:12<15:21:59,  1.06s/it]"
     ]
    },
    {
     "name": "stdout",
     "output_type": "stream",
     "text": [
      "0 HTTPConnectionPool(host='e-journal.um.edu.my', port=80): Max retries exceeded with url: /filebank/published_article/9183/(page%201-13)%20AMALAN%20WASATIYYAH.pdf (Caused by NewConnectionError('<urllib3.connection.HTTPConnection object at 0x7f0a7a0a4af0>: Failed to establish a new connection: [Errno -2] Name or service not known')) http://e-journal.um.edu.my/filebank/published_article/9183/(page%201-13)%20AMALAN%20WASATIYYAH.pdf\n",
      "1 HTTPConnectionPool(host='e-journal.um.edu.my', port=80): Max retries exceeded with url: /filebank/published_article/9183/(page%201-13)%20AMALAN%20WASATIYYAH.pdf (Caused by NewConnectionError('<urllib3.connection.HTTPConnection object at 0x7f0a7a0a4670>: Failed to establish a new connection: [Errno -2] Name or service not known')) http://e-journal.um.edu.my/filebank/published_article/9183/(page%201-13)%20AMALAN%20WASATIYYAH.pdf\n"
     ]
    },
    {
     "name": "stderr",
     "output_type": "stream",
     "text": [
      "\r",
      "  0%|                                     | 17/52433 [00:14<15:22:25,  1.06s/it]"
     ]
    },
    {
     "name": "stdout",
     "output_type": "stream",
     "text": [
      "0 HTTPConnectionPool(host='e-journal.um.edu.my', port=80): Max retries exceeded with url: /filebank/published_article/9655/(page%201-14)%20KEPIMPINAN%20STRATEGIK%20DAN%20HUBUNGANNYA.pdf (Caused by NewConnectionError('<urllib3.connection.HTTPConnection object at 0x7f0a7a0a4820>: Failed to establish a new connection: [Errno -2] Name or service not known')) http://e-journal.um.edu.my/filebank/published_article/9655/(page%201-14)%20KEPIMPINAN%20STRATEGIK%20DAN%20HUBUNGANNYA.pdf\n",
      "1 HTTPConnectionPool(host='e-journal.um.edu.my', port=80): Max retries exceeded with url: /filebank/published_article/9655/(page%201-14)%20KEPIMPINAN%20STRATEGIK%20DAN%20HUBUNGANNYA.pdf (Caused by NewConnectionError('<urllib3.connection.HTTPConnection object at 0x7f0a7a0a4a60>: Failed to establish a new connection: [Errno -2] Name or service not known')) http://e-journal.um.edu.my/filebank/published_article/9655/(page%201-14)%20KEPIMPINAN%20STRATEGIK%20DAN%20HUBUNGANNYA.pdf\n"
     ]
    },
    {
     "name": "stderr",
     "output_type": "stream",
     "text": [
      "\r",
      "  0%|                                     | 18/52433 [00:15<15:24:02,  1.06s/it]"
     ]
    },
    {
     "name": "stdout",
     "output_type": "stream",
     "text": [
      "0 HTTPConnectionPool(host='ejum.fsktm.um.edu.my', port=80): Read timed out. (read timeout=180) http://ejum.fsktm.um.edu.my/article/1003.pdf\n",
      "0 HTTPConnectionPool(host='ejum.fsktm.um.edu.my', port=80): Read timed out. (read timeout=180) http://ejum.fsktm.um.edu.my/article/1053.pdf\n",
      "1 HTTPConnectionPool(host='ejum.fsktm.um.edu.my', port=80): Read timed out. (read timeout=180) http://ejum.fsktm.um.edu.my/article/1053.pdf\n"
     ]
    },
    {
     "name": "stderr",
     "output_type": "stream",
     "text": [
      "\r",
      "  0%|                                  | 20/52433 [12:17<2693:18:15, 184.99s/it]"
     ]
    },
    {
     "name": "stdout",
     "output_type": "stream",
     "text": [
      "0 HTTPConnectionPool(host='ejum.fsktm.um.edu.my', port=80): Read timed out. (read timeout=180) http://ejum.fsktm.um.edu.my/article/1058.pdf\n",
      "1 HTTPConnectionPool(host='ejum.fsktm.um.edu.my', port=80): Read timed out. (read timeout=180) http://ejum.fsktm.um.edu.my/article/1058.pdf\n"
     ]
    },
    {
     "name": "stderr",
     "output_type": "stream",
     "text": [
      "\r",
      "  0%|                                  | 21/52433 [18:19<3464:18:09, 237.95s/it]"
     ]
    },
    {
     "name": "stdout",
     "output_type": "stream",
     "text": [
      "0 HTTPConnectionPool(host='ejum.fsktm.um.edu.my', port=80): Read timed out. (read timeout=180) http://ejum.fsktm.um.edu.my/article/1059.pdf\n",
      "1 HTTPConnectionPool(host='ejum.fsktm.um.edu.my', port=80): Read timed out. (read timeout=180) http://ejum.fsktm.um.edu.my/article/1059.pdf\n"
     ]
    },
    {
     "name": "stderr",
     "output_type": "stream",
     "text": [
      "\r",
      "  0%|                                  | 22/52433 [24:20<4003:44:24, 275.01s/it]"
     ]
    },
    {
     "name": "stdout",
     "output_type": "stream",
     "text": [
      "0 HTTPConnectionPool(host='ejum.fsktm.um.edu.my', port=80): Read timed out. (read timeout=180) http://ejum.fsktm.um.edu.my/article/1062.pdf\n",
      "1 HTTPConnectionPool(host='ejum.fsktm.um.edu.my', port=80): Read timed out. (read timeout=180) http://ejum.fsktm.um.edu.my/article/1062.pdf\n"
     ]
    },
    {
     "name": "stderr",
     "output_type": "stream",
     "text": [
      "\r",
      "  0%|                                  | 23/52433 [30:22<4381:14:07, 300.94s/it]"
     ]
    },
    {
     "name": "stdout",
     "output_type": "stream",
     "text": [
      "0 HTTPConnectionPool(host='ejum.fsktm.um.edu.my', port=80): Read timed out. (read timeout=180) http://ejum.fsktm.um.edu.my/article/1097.pdf\n"
     ]
    }
   ],
   "source": [
    "max_worker = 1\n",
    "\n",
    "um = sorted(list(um))\n",
    "for i in tqdm(range(0, len(um), max_worker)):\n",
    "    urls = [(url, os.path.join('um', f'{i}-{no}.pdf')) for no, url in enumerate(um[i: i + max_worker])]\n",
    "    \n",
    "    with ThreadPoolExecutor(max_workers=max_worker) as executor:\n",
    "        futures = {executor.submit(download, url[0], url[1]): url for url in urls}\n",
    "\n",
    "        for future in as_completed(futures):\n",
    "            future.result()"
   ]
  },
  {
   "cell_type": "code",
   "execution_count": 11,
   "metadata": {},
   "outputs": [
    {
     "name": "stdout",
     "output_type": "stream",
     "text": [
      "20G\tum\r\n"
     ]
    }
   ],
   "source": [
    "!du -hs um"
   ]
  }
 ],
 "metadata": {
  "kernelspec": {
   "display_name": "Python 3 (ipykernel)",
   "language": "python",
   "name": "python3"
  },
  "language_info": {
   "codemirror_mode": {
    "name": "ipython",
    "version": 3
   },
   "file_extension": ".py",
   "mimetype": "text/x-python",
   "name": "python",
   "nbconvert_exporter": "python",
   "pygments_lexer": "ipython3",
   "version": "3.8.10"
  }
 },
 "nbformat": 4,
 "nbformat_minor": 4
}
