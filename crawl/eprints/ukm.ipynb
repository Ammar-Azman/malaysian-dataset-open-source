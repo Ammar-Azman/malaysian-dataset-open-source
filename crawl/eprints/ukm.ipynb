{
 "cells": [
  {
   "cell_type": "code",
   "execution_count": 1,
   "metadata": {},
   "outputs": [],
   "source": [
    "import requests\n",
    "from bs4 import BeautifulSoup\n",
    "import os\n",
    "from tqdm import tqdm\n",
    "from glob import glob\n",
    "from datetime import datetime\n",
    "import dateparser\n",
    "from unidecode import unidecode"
   ]
  },
  {
   "cell_type": "code",
   "execution_count": 2,
   "metadata": {},
   "outputs": [
    {
     "data": {
      "text/plain": [
       "[2009,\n",
       " 2010,\n",
       " 2011,\n",
       " 2012,\n",
       " 2013,\n",
       " 2014,\n",
       " 2015,\n",
       " 2016,\n",
       " 2017,\n",
       " 2018,\n",
       " 2019,\n",
       " 2020,\n",
       " 2021,\n",
       " 2022,\n",
       " 2023]"
      ]
     },
     "execution_count": 2,
     "metadata": {},
     "output_type": "execute_result"
    }
   ],
   "source": [
    "import datetime\n",
    "\n",
    "date1 = datetime.date(2009, 1, 1)\n",
    "date2 = datetime.date(2023, 1, 1)\n",
    "\n",
    "def daterange(date1, date2):\n",
    "    for n in range(int(date2.year) - int(date1.year)+1):\n",
    "        yield int(date1.year) + n\n",
    "\n",
    "start_dt = date1\n",
    "end_dt = date2\n",
    "dat = []\n",
    "for dt in daterange(start_dt, end_dt):\n",
    "    dat.append(dt)\n",
    "    \n",
    "dat"
   ]
  },
  {
   "cell_type": "code",
   "execution_count": 5,
   "metadata": {},
   "outputs": [
    {
     "name": "stderr",
     "output_type": "stream",
     "text": [
      "100%|███████████████████████████████████████████| 15/15 [00:06<00:00,  2.44it/s]\n"
     ]
    }
   ],
   "source": [
    "all_a = []\n",
    "for y in tqdm(dat):\n",
    "    r = requests.get(f'http://journalarticle.ukm.my/view/year/{y}.html')\n",
    "    soup = BeautifulSoup(r._content, \"lxml\")\n",
    "    p = soup.find_all('p')\n",
    "    a = [p_.find('a').get('href') for p_ in p]\n",
    "    all_a.extend(a)"
   ]
  },
  {
   "cell_type": "code",
   "execution_count": 9,
   "metadata": {},
   "outputs": [
    {
     "data": {
      "text/plain": [
       "17298"
      ]
     },
     "execution_count": 9,
     "metadata": {},
     "output_type": "execute_result"
    }
   ],
   "source": [
    "len(set(all_a))"
   ]
  },
  {
   "cell_type": "code",
   "execution_count": null,
   "metadata": {},
   "outputs": [],
   "source": [
    "with open('ukm')"
   ]
  }
 ],
 "metadata": {
  "kernelspec": {
   "display_name": "Python 3 (ipykernel)",
   "language": "python",
   "name": "python3"
  },
  "language_info": {
   "codemirror_mode": {
    "name": "ipython",
    "version": 3
   },
   "file_extension": ".py",
   "mimetype": "text/x-python",
   "name": "python",
   "nbconvert_exporter": "python",
   "pygments_lexer": "ipython3",
   "version": "3.8.10"
  }
 },
 "nbformat": 4,
 "nbformat_minor": 4
}
