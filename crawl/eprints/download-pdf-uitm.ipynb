{
 "cells": [
  {
   "cell_type": "code",
   "execution_count": 1,
   "metadata": {},
   "outputs": [],
   "source": [
    "import urllib3\n",
    "urllib3.disable_warnings(urllib3.exceptions.InsecureRequestWarning)"
   ]
  },
  {
   "cell_type": "code",
   "execution_count": 2,
   "metadata": {},
   "outputs": [],
   "source": [
    "import requests\n",
    "import json\n",
    "import os\n",
    "import re\n",
    "import time\n",
    "from tqdm import tqdm\n",
    "from glob import glob\n",
    "from concurrent.futures import ThreadPoolExecutor, as_completed"
   ]
  },
  {
   "cell_type": "code",
   "execution_count": 3,
   "metadata": {},
   "outputs": [],
   "source": [
    "cookies = {\n",
    "    'cookiesession1': '678B28F695C90B262BFC00B79BBD6CC1',\n",
    "    'lhc_per': 'vid|a3d85efe963899fee2b5',\n",
    "    '_gid': 'GA1.3.289911229.1685154797',\n",
    "    '_ga': 'GA1.1.2075372866.1684772919',\n",
    "    '_ga_3C534XGNC2': 'GS1.1.1685154797.4.1.1685154882.0.0.0',\n",
    "    '_ga_Q33BVTTDL1': 'GS1.1.1685154797.4.1.1685154882.0.0.0',\n",
    "    '_ga_QHEB12PC6D': 'GS1.1.1685154797.4.1.1685154882.0.0.0',\n",
    "}\n",
    "\n",
    "headers = {\n",
    "    'Accept': 'text/html,application/xhtml+xml,application/xml;q=0.9,image/avif,image/webp,image/apng,*/*;q=0.8,application/signed-exchange;v=b3;q=0.7',\n",
    "    'Accept-Language': 'en-MY,en;q=0.9,en-US;q=0.8,ms;q=0.7',\n",
    "    'Cache-Control': 'no-cache',\n",
    "    'Connection': 'keep-alive',\n",
    "    # 'Cookie': 'cookiesession1=678B28F695C90B262BFC00B79BBD6CC1; lhc_per=vid|a3d85efe963899fee2b5; _gid=GA1.3.289911229.1685154797; _ga=GA1.1.2075372866.1684772919; _ga_3C534XGNC2=GS1.1.1685154797.4.1.1685154882.0.0.0; _ga_Q33BVTTDL1=GS1.1.1685154797.4.1.1685154882.0.0.0; _ga_QHEB12PC6D=GS1.1.1685154797.4.1.1685154882.0.0.0',\n",
    "    'Pragma': 'no-cache',\n",
    "    'Sec-Fetch-Dest': 'document',\n",
    "    'Sec-Fetch-Mode': 'navigate',\n",
    "    'Sec-Fetch-Site': 'none',\n",
    "    'Sec-Fetch-User': '?1',\n",
    "    'Upgrade-Insecure-Requests': '1',\n",
    "    'User-Agent': 'Mozilla/5.0 (Macintosh; Intel Mac OS X 10_15_7) AppleWebKit/537.36 (KHTML, like Gecko) Chrome/113.0.0.0 Safari/537.36',\n",
    "    'sec-ch-ua': '\"Google Chrome\";v=\"113\", \"Chromium\";v=\"113\", \"Not-A.Brand\";v=\"24\"',\n",
    "    'sec-ch-ua-mobile': '?0',\n",
    "    'sec-ch-ua-platform': '\"macOS\"',\n",
    "}"
   ]
  },
  {
   "cell_type": "code",
   "execution_count": 4,
   "metadata": {},
   "outputs": [],
   "source": [
    "def download(url, file_name, retry = 3):\n",
    "    if os.path.exists(file_name) and os.path.getsize(file_name) > 50000:\n",
    "        return\n",
    "    with open(file_name, \"wb\") as file:\n",
    "        for k in range(retry):\n",
    "            try:\n",
    "                response = requests.get(url, verify = False, timeout = 360, cookies=cookies, headers=headers)\n",
    "                file.write(response.content)\n",
    "                return \n",
    "            except Exception as e:\n",
    "                print(k, e)\n",
    "                time.sleep(0.5)"
   ]
  },
  {
   "cell_type": "code",
   "execution_count": 5,
   "metadata": {},
   "outputs": [
    {
     "data": {
      "text/plain": [
       "18787"
      ]
     },
     "execution_count": 5,
     "metadata": {},
     "output_type": "execute_result"
    }
   ],
   "source": [
    "files = glob('pages/*.json')\n",
    "len(files)"
   ]
  },
  {
   "cell_type": "code",
   "execution_count": 6,
   "metadata": {
    "scrolled": true
   },
   "outputs": [],
   "source": [
    "pdfs = []\n",
    "for f in files:\n",
    "    with open(f) as fopen:\n",
    "        pdfs.extend(json.load(fopen))\n",
    "        \n",
    "pdfs = list(set(pdfs))"
   ]
  },
  {
   "cell_type": "code",
   "execution_count": 7,
   "metadata": {},
   "outputs": [
    {
     "name": "stderr",
     "output_type": "stream",
     "text": [
      "100%|███████████████████████████████| 235433/235433 [00:00<00:00, 662984.02it/s]\n"
     ]
    },
    {
     "data": {
      "text/plain": [
       "235130"
      ]
     },
     "execution_count": 7,
     "metadata": {},
     "output_type": "execute_result"
    }
   ],
   "source": [
    "filtered_pdfs = []\n",
    "for p in tqdm(pdfs):\n",
    "    if len(re.findall( r'[0-9]+(?:\\.[0-9]+){3}', p)):\n",
    "        continue\n",
    "    if not p.endswith('.pdf'):\n",
    "        continue\n",
    "    if 'ade.sagepub.com' in p:\n",
    "        continue\n",
    "    filtered_pdfs.append(p)\n",
    "    \n",
    "filtered_pdfs = sorted(list(set(filtered_pdfs)))\n",
    "len(filtered_pdfs)"
   ]
  },
  {
   "cell_type": "code",
   "execution_count": 8,
   "metadata": {},
   "outputs": [
    {
     "data": {
      "text/plain": [
       "107368"
      ]
     },
     "execution_count": 8,
     "metadata": {},
     "output_type": "execute_result"
    }
   ],
   "source": [
    "uitm = [f for f in filtered_pdfs if 'ir.uitm.edu.my' in f]\n",
    "len(uitm)"
   ]
  },
  {
   "cell_type": "code",
   "execution_count": 9,
   "metadata": {},
   "outputs": [
    {
     "name": "stdout",
     "output_type": "stream",
     "text": [
      "mkdir: cannot create directory ‘uitm’: File exists\r\n"
     ]
    }
   ],
   "source": [
    "# !rm -rf uitm\n",
    "!mkdir uitm"
   ]
  },
  {
   "cell_type": "code",
   "execution_count": null,
   "metadata": {},
   "outputs": [
    {
     "name": "stderr",
     "output_type": "stream",
     "text": [
      " 55%|███████████████████▋                | 58642/107367 [19:37<17:25, 46.61it/s]"
     ]
    },
    {
     "name": "stdout",
     "output_type": "stream",
     "text": [
      "0 ('Connection aborted.', ConnectionResetError(104, 'Connection reset by peer'))\n",
      "1 ('Connection aborted.', ConnectionResetError(104, 'Connection reset by peer'))\n",
      "2 ('Connection aborted.', ConnectionResetError(104, 'Connection reset by peer'))\n",
      "0 ('Connection aborted.', ConnectionResetError(104, 'Connection reset by peer'))\n",
      "1 ('Connection aborted.', ConnectionResetError(104, 'Connection reset by peer'))\n",
      "2 HTTPSConnectionPool(host='ir.uitm.edu.my', port=443): Max retries exceeded with url: /id/eprint/16933/2/PPb_DINIE%20AZFAR%20ZABIR%20BM%2013_5.pdf (Caused by SSLError(SSLEOFError(8, 'EOF occurred in violation of protocol (_ssl.c:1131)')))\n"
     ]
    },
    {
     "name": "stderr",
     "output_type": "stream",
     "text": [
      "\r",
      " 55%|██████████████████▌               | 58648/107367 [19:40<1:40:12,  8.10it/s]"
     ]
    },
    {
     "name": "stdout",
     "output_type": "stream",
     "text": [
      "0 HTTPSConnectionPool(host='ir.uitm.edu.my', port=443): Max retries exceeded with url: /id/eprint/16995/2/PPb_FATHIMATUZZAHRAH%20MATHAR%20BM%2011_5.pdf (Caused by SSLError(SSLEOFError(8, 'EOF occurred in violation of protocol (_ssl.c:1131)')))\n",
      "1 HTTPSConnectionPool(host='ir.uitm.edu.my', port=443): Max retries exceeded with url: /id/eprint/16995/2/PPb_FATHIMATUZZAHRAH%20MATHAR%20BM%2011_5.pdf (Caused by SSLError(SSLEOFError(8, 'EOF occurred in violation of protocol (_ssl.c:1131)')))\n",
      "2 HTTPSConnectionPool(host='ir.uitm.edu.my', port=443): Max retries exceeded with url: /id/eprint/16995/2/PPb_FATHIMATUZZAHRAH%20MATHAR%20BM%2011_5.pdf (Caused by SSLError(SSLEOFError(8, 'EOF occurred in violation of protocol (_ssl.c:1131)')))\n"
     ]
    },
    {
     "name": "stderr",
     "output_type": "stream",
     "text": [
      "\r",
      " 55%|███████████████████▋                | 58706/107367 [19:42<44:14, 18.33it/s]"
     ]
    },
    {
     "name": "stdout",
     "output_type": "stream",
     "text": [
      "0 HTTPSConnectionPool(host='ir.uitm.edu.my', port=443): Max retries exceeded with url: /id/eprint/170/1/AJ_YU%20XU-YING%20APMAJ%2006.pdf (Caused by SSLError(SSLEOFError(8, 'EOF occurred in violation of protocol (_ssl.c:1131)')))\n",
      "1 HTTPSConnectionPool(host='ir.uitm.edu.my', port=443): Max retries exceeded with url: /id/eprint/170/1/AJ_YU%20XU-YING%20APMAJ%2006.pdf (Caused by SSLError(SSLEOFError(8, 'EOF occurred in violation of protocol (_ssl.c:1131)')))\n",
      "2 HTTPSConnectionPool(host='ir.uitm.edu.my', port=443): Max retries exceeded with url: /id/eprint/170/1/AJ_YU%20XU-YING%20APMAJ%2006.pdf (Caused by SSLError(SSLEOFError(8, 'EOF occurred in violation of protocol (_ssl.c:1131)')))\n"
     ]
    },
    {
     "name": "stderr",
     "output_type": "stream",
     "text": [
      "\r",
      " 55%|██████████████████▌               | 58711/107367 [19:43<1:02:41, 12.94it/s]"
     ]
    },
    {
     "name": "stdout",
     "output_type": "stream",
     "text": [
      "0 ('Connection aborted.', ConnectionResetError(104, 'Connection reset by peer'))\n",
      "1 HTTPSConnectionPool(host='ir.uitm.edu.my', port=443): Max retries exceeded with url: /id/eprint/17013/2/PPb_FATIN%20FATIQAH%20%20ROSSLAN%20BM%2010_5.pdf (Caused by SSLError(SSLEOFError(8, 'EOF occurred in violation of protocol (_ssl.c:1131)')))\n",
      "2 HTTPSConnectionPool(host='ir.uitm.edu.my', port=443): Max retries exceeded with url: /id/eprint/17013/2/PPb_FATIN%20FATIQAH%20%20ROSSLAN%20BM%2010_5.pdf (Caused by SSLError(SSLEOFError(8, 'EOF occurred in violation of protocol (_ssl.c:1131)')))\n"
     ]
    },
    {
     "name": "stderr",
     "output_type": "stream",
     "text": [
      "\r",
      " 55%|██████████████████▌               | 58726/107367 [19:45<1:09:53, 11.60it/s]"
     ]
    },
    {
     "name": "stdout",
     "output_type": "stream",
     "text": [
      "0 ('Connection aborted.', ConnectionResetError(104, 'Connection reset by peer'))\n",
      "1 HTTPSConnectionPool(host='ir.uitm.edu.my', port=443): Max retries exceeded with url: /id/eprint/17015/1/AJ_MOHAMAD%20IRWAN%20PANDAPOTAN%20HARAHAP%20ESTEEM%2015.pdf (Caused by SSLError(SSLEOFError(8, 'EOF occurred in violation of protocol (_ssl.c:1131)')))\n",
      "2 HTTPSConnectionPool(host='ir.uitm.edu.my', port=443): Max retries exceeded with url: /id/eprint/17015/1/AJ_MOHAMAD%20IRWAN%20PANDAPOTAN%20HARAHAP%20ESTEEM%2015.pdf (Caused by SSLError(SSLEOFError(8, 'EOF occurred in violation of protocol (_ssl.c:1131)')))\n"
     ]
    },
    {
     "name": "stderr",
     "output_type": "stream",
     "text": [
      "\r",
      " 55%|██████████████████▌               | 58729/107367 [19:47<1:36:12,  8.43it/s]"
     ]
    },
    {
     "name": "stdout",
     "output_type": "stream",
     "text": [
      "0 HTTPSConnectionPool(host='ir.uitm.edu.my', port=443): Max retries exceeded with url: /id/eprint/17035/2/PPb_MUHD%20SHAH%20HAZWAN%20JAMALUDDIN%20BM%2012_5.pdf (Caused by SSLError(SSLEOFError(8, 'EOF occurred in violation of protocol (_ssl.c:1131)')))\n",
      "1 HTTPSConnectionPool(host='ir.uitm.edu.my', port=443): Max retries exceeded with url: /id/eprint/17035/2/PPb_MUHD%20SHAH%20HAZWAN%20JAMALUDDIN%20BM%2012_5.pdf (Caused by SSLError(SSLEOFError(8, 'EOF occurred in violation of protocol (_ssl.c:1131)')))\n",
      "2 HTTPSConnectionPool(host='ir.uitm.edu.my', port=443): Max retries exceeded with url: /id/eprint/17035/2/PPb_MUHD%20SHAH%20HAZWAN%20JAMALUDDIN%20BM%2012_5.pdf (Caused by SSLError(SSLEOFError(8, 'EOF occurred in violation of protocol (_ssl.c:1131)')))\n"
     ]
    },
    {
     "name": "stderr",
     "output_type": "stream",
     "text": [
      "\r",
      " 55%|██████████████████▌               | 58750/107367 [19:48<1:23:04,  9.75it/s]"
     ]
    },
    {
     "name": "stdout",
     "output_type": "stream",
     "text": [
      "0 HTTPSConnectionPool(host='ir.uitm.edu.my', port=443): Max retries exceeded with url: /id/eprint/17065/1/PPb_NOR%20MAJIDAH%20%20MAJID%20BM%2009_5.pdf (Caused by SSLError(SSLEOFError(8, 'EOF occurred in violation of protocol (_ssl.c:1131)')))\n",
      "1 ('Connection aborted.', ConnectionResetError(104, 'Connection reset by peer'))\n",
      "2 HTTPSConnectionPool(host='ir.uitm.edu.my', port=443): Max retries exceeded with url: /id/eprint/17065/1/PPb_NOR%20MAJIDAH%20%20MAJID%20BM%2009_5.pdf (Caused by SSLError(SSLEOFError(8, 'EOF occurred in violation of protocol (_ssl.c:1131)')))\n"
     ]
    },
    {
     "name": "stderr",
     "output_type": "stream",
     "text": [
      "\r",
      " 55%|██████████████████▌               | 58780/107367 [19:50<1:05:46, 12.31it/s]"
     ]
    },
    {
     "name": "stdout",
     "output_type": "stream",
     "text": [
      "0 HTTPSConnectionPool(host='ir.uitm.edu.my', port=443): Max retries exceeded with url: /id/eprint/17100/2/PPb_NUR%20AMALINA%20RAHMAN%20BM%2013_5.pdf (Caused by SSLError(SSLEOFError(8, 'EOF occurred in violation of protocol (_ssl.c:1131)')))\n",
      "1 HTTPSConnectionPool(host='ir.uitm.edu.my', port=443): Max retries exceeded with url: /id/eprint/17100/2/PPb_NUR%20AMALINA%20RAHMAN%20BM%2013_5.pdf (Caused by SSLError(SSLEOFError(8, 'EOF occurred in violation of protocol (_ssl.c:1131)')))\n",
      "2 ('Connection aborted.', ConnectionResetError(104, 'Connection reset by peer'))\n"
     ]
    },
    {
     "name": "stderr",
     "output_type": "stream",
     "text": [
      "\r",
      " 55%|███████████████████▋                | 58817/107367 [19:52<52:34, 15.39it/s]"
     ]
    },
    {
     "name": "stdout",
     "output_type": "stream",
     "text": [
      "0 HTTPSConnectionPool(host='ir.uitm.edu.my', port=443): Max retries exceeded with url: /id/eprint/17160/1/PPb_NURLINA%20KHAIRUL%20ANUAR%20BM%2013_5.pdf (Caused by SSLError(SSLEOFError(8, 'EOF occurred in violation of protocol (_ssl.c:1131)')))\n",
      "1 HTTPSConnectionPool(host='ir.uitm.edu.my', port=443): Max retries exceeded with url: /id/eprint/17160/1/PPb_NURLINA%20KHAIRUL%20ANUAR%20BM%2013_5.pdf (Caused by SSLError(SSLEOFError(8, 'EOF occurred in violation of protocol (_ssl.c:1131)')))\n",
      "2 HTTPSConnectionPool(host='ir.uitm.edu.my', port=443): Max retries exceeded with url: /id/eprint/17160/1/PPb_NURLINA%20KHAIRUL%20ANUAR%20BM%2013_5.pdf (Caused by SSLError(SSLEOFError(8, 'EOF occurred in violation of protocol (_ssl.c:1131)')))\n"
     ]
    },
    {
     "name": "stderr",
     "output_type": "stream",
     "text": [
      "\r",
      " 55%|███████████████████▋                | 58875/107367 [19:53<37:46, 21.40it/s]"
     ]
    },
    {
     "name": "stdout",
     "output_type": "stream",
     "text": [
      "0 HTTPSConnectionPool(host='ir.uitm.edu.my', port=443): Max retries exceeded with url: /id/eprint/17163/2/PPb_OLIVIA%20FRANCESCA%20%20SYLVESTER%20EMBUAS%20BM%2014_5.pdf (Caused by SSLError(SSLEOFError(8, 'EOF occurred in violation of protocol (_ssl.c:1131)')))\n",
      "1 ('Connection aborted.', ConnectionResetError(104, 'Connection reset by peer'))\n",
      "2 HTTPSConnectionPool(host='ir.uitm.edu.my', port=443): Max retries exceeded with url: /id/eprint/17163/2/PPb_OLIVIA%20FRANCESCA%20%20SYLVESTER%20EMBUAS%20BM%2014_5.pdf (Caused by SSLError(SSLEOFError(8, 'EOF occurred in violation of protocol (_ssl.c:1131)')))\n"
     ]
    },
    {
     "name": "stderr",
     "output_type": "stream",
     "text": [
      "\r",
      " 55%|███████████████████▋                | 58878/107367 [19:55<52:34, 15.37it/s]"
     ]
    },
    {
     "name": "stdout",
     "output_type": "stream",
     "text": [
      "0 HTTPSConnectionPool(host='ir.uitm.edu.my', port=443): Max retries exceeded with url: /id/eprint/17166/2/PPb_RUZLINA%20%20HUSSAIN%20BM%2013_5.pdf (Caused by SSLError(SSLEOFError(8, 'EOF occurred in violation of protocol (_ssl.c:1131)')))\n",
      "1 ('Connection aborted.', ConnectionResetError(104, 'Connection reset by peer'))\n",
      "2 HTTPSConnectionPool(host='ir.uitm.edu.my', port=443): Max retries exceeded with url: /id/eprint/17166/2/PPb_RUZLINA%20%20HUSSAIN%20BM%2013_5.pdf (Caused by SSLError(SSLEOFError(8, 'EOF occurred in violation of protocol (_ssl.c:1131)')))\n"
     ]
    },
    {
     "name": "stderr",
     "output_type": "stream",
     "text": [
      "\r",
      " 55%|██████████████████▋               | 58881/107367 [19:57<1:11:40, 11.27it/s]"
     ]
    },
    {
     "name": "stdout",
     "output_type": "stream",
     "text": [
      "0 HTTPSConnectionPool(host='ir.uitm.edu.my', port=443): Max retries exceeded with url: /id/eprint/17209/1/PPb_FAIRUS%20SABRAN%20HM%2014_5.pdf (Caused by SSLError(SSLEOFError(8, 'EOF occurred in violation of protocol (_ssl.c:1131)')))\n",
      "1 HTTPSConnectionPool(host='ir.uitm.edu.my', port=443): Max retries exceeded with url: /id/eprint/17209/1/PPb_FAIRUS%20SABRAN%20HM%2014_5.pdf (Caused by SSLError(SSLEOFError(8, 'EOF occurred in violation of protocol (_ssl.c:1131)')))\n",
      "2 ('Connection aborted.', ConnectionResetError(104, 'Connection reset by peer'))\n"
     ]
    },
    {
     "name": "stderr",
     "output_type": "stream",
     "text": [
      "\r",
      " 55%|███████████████████▊                | 58928/107367 [19:58<49:25, 16.33it/s]"
     ]
    },
    {
     "name": "stdout",
     "output_type": "stream",
     "text": [
      "0 HTTPSConnectionPool(host='ir.uitm.edu.my', port=443): Max retries exceeded with url: /id/eprint/17237/1/PPb_FATIN%20ILANI%20ISKANDAR%20OM%2013_5.pdf (Caused by SSLError(SSLEOFError(8, 'EOF occurred in violation of protocol (_ssl.c:1131)')))\n",
      "1 HTTPSConnectionPool(host='ir.uitm.edu.my', port=443): Max retries exceeded with url: /id/eprint/17237/1/PPb_FATIN%20ILANI%20ISKANDAR%20OM%2013_5.pdf (Caused by SSLError(SSLEOFError(8, 'EOF occurred in violation of protocol (_ssl.c:1131)')))\n",
      "2 HTTPSConnectionPool(host='ir.uitm.edu.my', port=443): Max retries exceeded with url: /id/eprint/17237/1/PPb_FATIN%20ILANI%20ISKANDAR%20OM%2013_5.pdf (Caused by SSLError(SSLEOFError(8, 'EOF occurred in violation of protocol (_ssl.c:1131)')))\n"
     ]
    },
    {
     "name": "stderr",
     "output_type": "stream",
     "text": [
      "\r",
      " 55%|███████████████████▊                | 58958/107367 [20:00<47:57, 16.82it/s]"
     ]
    },
    {
     "name": "stdout",
     "output_type": "stream",
     "text": [
      "0 HTTPSConnectionPool(host='ir.uitm.edu.my', port=443): Max retries exceeded with url: /id/eprint/17242/2/PPb_NOR%20HAZIRA%20SAHARI%20OM%2013_5.pdf (Caused by SSLError(SSLEOFError(8, 'EOF occurred in violation of protocol (_ssl.c:1131)')))\n",
      "1 ('Connection aborted.', ConnectionResetError(104, 'Connection reset by peer'))\n",
      "2 ('Connection aborted.', ConnectionResetError(104, 'Connection reset by peer'))\n"
     ]
    },
    {
     "name": "stderr",
     "output_type": "stream",
     "text": [
      "\r",
      " 55%|██████████████████▋               | 58964/107367 [20:02<1:02:37, 12.88it/s]"
     ]
    },
    {
     "name": "stdout",
     "output_type": "stream",
     "text": [
      "0 ('Connection aborted.', ConnectionResetError(104, 'Connection reset by peer'))\n",
      "1 HTTPSConnectionPool(host='ir.uitm.edu.my', port=443): Max retries exceeded with url: /id/eprint/17243/2/PPb_NUR%20HAYATI%20%20HASSAN%20OM%2013_5.pdf (Caused by SSLError(SSLEOFError(8, 'EOF occurred in violation of protocol (_ssl.c:1131)')))\n",
      "2 ('Connection aborted.', ConnectionResetError(104, 'Connection reset by peer'))\n",
      "0 HTTPSConnectionPool(host='ir.uitm.edu.my', port=443): Max retries exceeded with url: /id/eprint/17244/1/PPb_HAZIRAH%20%20MASROM%20BM%2015_5.pdf (Caused by SSLError(SSLEOFError(8, 'EOF occurred in violation of protocol (_ssl.c:1131)')))\n",
      "1 HTTPSConnectionPool(host='ir.uitm.edu.my', port=443): Max retries exceeded with url: /id/eprint/17244/1/PPb_HAZIRAH%20%20MASROM%20BM%2015_5.pdf (Caused by SSLError(SSLEOFError(8, 'EOF occurred in violation of protocol (_ssl.c:1131)')))\n",
      "2 HTTPSConnectionPool(host='ir.uitm.edu.my', port=443): Max retries exceeded with url: /id/eprint/17244/1/PPb_HAZIRAH%20%20MASROM%20BM%2015_5.pdf (Caused by SSLError(SSLEOFError(8, 'EOF occurred in violation of protocol (_ssl.c:1131)')))\n"
     ]
    },
    {
     "name": "stderr",
     "output_type": "stream",
     "text": [
      "\r",
      " 55%|██████████████████▋               | 58966/107367 [20:05<1:51:43,  7.22it/s]"
     ]
    },
    {
     "name": "stdout",
     "output_type": "stream",
     "text": [
      "0 ('Connection aborted.', ConnectionResetError(104, 'Connection reset by peer'))\n",
      "1 HTTPSConnectionPool(host='ir.uitm.edu.my', port=443): Max retries exceeded with url: /id/eprint/17275/1/PPb_NUR%20SYAFIRAH%20MOHD%20ZUKI%20BM%2017_5.pdf (Caused by SSLError(SSLEOFError(8, 'EOF occurred in violation of protocol (_ssl.c:1131)')))\n",
      "2 ('Connection aborted.', ConnectionResetError(104, 'Connection reset by peer'))\n"
     ]
    },
    {
     "name": "stderr",
     "output_type": "stream",
     "text": [
      "\r",
      " 55%|██████████████████▋               | 58999/107367 [20:07<1:17:42, 10.37it/s]"
     ]
    },
    {
     "name": "stdout",
     "output_type": "stream",
     "text": [
      "0 HTTPSConnectionPool(host='ir.uitm.edu.my', port=443): Max retries exceeded with url: /id/eprint/17279/2/PPb_NURDIYANA%20MOHD%20SHAH%20BM%2017_5.pdf (Caused by SSLError(SSLEOFError(8, 'EOF occurred in violation of protocol (_ssl.c:1131)')))\n",
      "1 HTTPSConnectionPool(host='ir.uitm.edu.my', port=443): Max retries exceeded with url: /id/eprint/17279/2/PPb_NURDIYANA%20MOHD%20SHAH%20BM%2017_5.pdf (Caused by SSLError(SSLEOFError(8, 'EOF occurred in violation of protocol (_ssl.c:1131)')))\n",
      "2 ('Connection aborted.', ConnectionResetError(104, 'Connection reset by peer'))\n"
     ]
    },
    {
     "name": "stderr",
     "output_type": "stream",
     "text": [
      "\r",
      " 55%|██████████████████▋               | 59003/107367 [20:08<1:37:08,  8.30it/s]"
     ]
    },
    {
     "name": "stdout",
     "output_type": "stream",
     "text": [
      "0 HTTPSConnectionPool(host='ir.uitm.edu.my', port=443): Max retries exceeded with url: /id/eprint/17290/1/PPb_NURUL%20AMALINA%20MD%20FAUZI%20BM%2017_5.pdf (Caused by SSLError(SSLEOFError(8, 'EOF occurred in violation of protocol (_ssl.c:1131)')))\n",
      "1 HTTPSConnectionPool(host='ir.uitm.edu.my', port=443): Max retries exceeded with url: /id/eprint/17290/1/PPb_NURUL%20AMALINA%20MD%20FAUZI%20BM%2017_5.pdf (Caused by SSLError(SSLEOFError(8, 'EOF occurred in violation of protocol (_ssl.c:1131)')))\n",
      "2 HTTPSConnectionPool(host='ir.uitm.edu.my', port=443): Max retries exceeded with url: /id/eprint/17290/1/PPb_NURUL%20AMALINA%20MD%20FAUZI%20BM%2017_5.pdf (Caused by SSLError(SSLEOFError(8, 'EOF occurred in violation of protocol (_ssl.c:1131)')))\n"
     ]
    },
    {
     "name": "stderr",
     "output_type": "stream",
     "text": [
      "\r",
      " 55%|██████████████████▋               | 59015/107367 [20:10<1:40:37,  8.01it/s]"
     ]
    },
    {
     "name": "stdout",
     "output_type": "stream",
     "text": [
      "0 ('Connection aborted.', ConnectionResetError(104, 'Connection reset by peer'))\n",
      "1 HTTPSConnectionPool(host='ir.uitm.edu.my', port=443): Max retries exceeded with url: /id/eprint/17346/1/LP_MAZLINA%20MOHAMAD%20MANGSOR%40MANSOOR%20RMI%2011_5.pdf (Caused by SSLError(SSLEOFError(8, 'EOF occurred in violation of protocol (_ssl.c:1131)')))\n",
      "2 ('Connection aborted.', ConnectionResetError(104, 'Connection reset by peer'))\n"
     ]
    },
    {
     "name": "stderr",
     "output_type": "stream",
     "text": [
      "\r",
      " 55%|███████████████████▊                | 59071/107367 [20:12<52:55, 15.21it/s]"
     ]
    },
    {
     "name": "stdout",
     "output_type": "stream",
     "text": [
      "0 ('Connection aborted.', ConnectionResetError(104, 'Connection reset by peer'))\n",
      "1 HTTPSConnectionPool(host='ir.uitm.edu.my', port=443): Max retries exceeded with url: /id/eprint/17414/1/PPb_MUSRAN%20USMAN%20AT%2016_5.pdf (Caused by SSLError(SSLEOFError(8, 'EOF occurred in violation of protocol (_ssl.c:1131)')))\n",
      "2 HTTPSConnectionPool(host='ir.uitm.edu.my', port=443): Max retries exceeded with url: /id/eprint/17414/1/PPb_MUSRAN%20USMAN%20AT%2016_5.pdf (Caused by SSLError(SSLEOFError(8, 'EOF occurred in violation of protocol (_ssl.c:1131)')))\n"
     ]
    },
    {
     "name": "stderr",
     "output_type": "stream",
     "text": [
      "\r",
      " 55%|███████████████████▊                | 59144/107367 [20:13<34:27, 23.32it/s]"
     ]
    },
    {
     "name": "stdout",
     "output_type": "stream",
     "text": [
      "0 ('Connection aborted.', ConnectionResetError(104, 'Connection reset by peer'))\n",
      "1 ('Connection aborted.', ConnectionResetError(104, 'Connection reset by peer'))\n",
      "2 HTTPSConnectionPool(host='ir.uitm.edu.my', port=443): Max retries exceeded with url: /id/eprint/17523/2/TM_LAYA%20MORAJAB%20HM%2010_5.pdf (Caused by SSLError(SSLEOFError(8, 'EOF occurred in violation of protocol (_ssl.c:1131)')))\n"
     ]
    },
    {
     "name": "stderr",
     "output_type": "stream",
     "text": [
      "\r",
      " 55%|███████████████████▊                | 59258/107367 [20:15<22:03, 36.36it/s]"
     ]
    },
    {
     "name": "stdout",
     "output_type": "stream",
     "text": [
      "0 HTTPSConnectionPool(host='ir.uitm.edu.my', port=443): Max retries exceeded with url: /id/eprint/17534/1/AJ_FAUZIAH%20JERAI%40JUNAIDI%20JME%2007.pdf (Caused by SSLError(SSLEOFError(8, 'EOF occurred in violation of protocol (_ssl.c:1131)')))\n",
      "1 ('Connection aborted.', ConnectionResetError(104, 'Connection reset by peer'))\n",
      "2 HTTPSConnectionPool(host='ir.uitm.edu.my', port=443): Max retries exceeded with url: /id/eprint/17534/1/AJ_FAUZIAH%20JERAI%40JUNAIDI%20JME%2007.pdf (Caused by SSLError(SSLEOFError(8, 'EOF occurred in violation of protocol (_ssl.c:1131)')))\n"
     ]
    },
    {
     "name": "stderr",
     "output_type": "stream",
     "text": [
      "\r",
      " 55%|███████████████████▊                | 59269/107367 [20:17<29:19, 27.33it/s]"
     ]
    },
    {
     "name": "stdout",
     "output_type": "stream",
     "text": [
      "0 HTTPSConnectionPool(host='ir.uitm.edu.my', port=443): Max retries exceeded with url: /id/eprint/17535/1/AJ_DARWIN%20SEBAYANG%20JME%2007.pdf (Caused by SSLError(SSLEOFError(8, 'EOF occurred in violation of protocol (_ssl.c:1131)')))\n",
      "1 ('Connection aborted.', ConnectionResetError(104, 'Connection reset by peer'))\n",
      "2 HTTPSConnectionPool(host='ir.uitm.edu.my', port=443): Max retries exceeded with url: /id/eprint/17535/1/AJ_DARWIN%20SEBAYANG%20JME%2007.pdf (Caused by SSLError(SSLEOFError(8, 'EOF occurred in violation of protocol (_ssl.c:1131)')))\n",
      "0 HTTPSConnectionPool(host='ir.uitm.edu.my', port=443): Max retries exceeded with url: /id/eprint/17536/1/AJ_MUHAMMAD%20HUSSAIN%20ISMAIL%20JME%2007.pdf (Caused by SSLError(SSLEOFError(8, 'EOF occurred in violation of protocol (_ssl.c:1131)')))\n",
      "1 ('Connection aborted.', ConnectionResetError(104, 'Connection reset by peer'))\n",
      "2 HTTPSConnectionPool(host='ir.uitm.edu.my', port=443): Max retries exceeded with url: /id/eprint/17536/1/AJ_MUHAMMAD%20HUSSAIN%20ISMAIL%20JME%2007.pdf (Caused by SSLError(SSLEOFError(8, 'EOF occurred in violation of protocol (_ssl.c:1131)')))\n",
      "0 HTTPSConnectionPool(host='ir.uitm.edu.my', port=443): Max retries exceeded with url: /id/eprint/17537/1/AJ_RAMZYZAN%20RAMLY%20JME%2007.pdf (Caused by SSLError(SSLEOFError(8, 'EOF occurred in violation of protocol (_ssl.c:1131)')))\n",
      "1 HTTPSConnectionPool(host='ir.uitm.edu.my', port=443): Max retries exceeded with url: /id/eprint/17537/1/AJ_RAMZYZAN%20RAMLY%20JME%2007.pdf (Caused by SSLError(SSLEOFError(8, 'EOF occurred in violation of protocol (_ssl.c:1131)')))\n",
      "2 ('Connection aborted.', ConnectionResetError(104, 'Connection reset by peer'))\n"
     ]
    },
    {
     "name": "stderr",
     "output_type": "stream",
     "text": [
      "\r",
      " 55%|██████████████████▊               | 59272/107367 [20:22<1:04:07, 12.50it/s]"
     ]
    },
    {
     "name": "stdout",
     "output_type": "stream",
     "text": [
      "0 HTTPSConnectionPool(host='ir.uitm.edu.my', port=443): Max retries exceeded with url: /id/eprint/17538/1/AJ_AHMED%20JAFFAR%20JME%2007.pdf (Caused by SSLError(SSLEOFError(8, 'EOF occurred in violation of protocol (_ssl.c:1131)')))\n",
      "1 ('Connection aborted.', ConnectionResetError(104, 'Connection reset by peer'))\n",
      "2 ('Connection aborted.', ConnectionResetError(104, 'Connection reset by peer'))\n"
     ]
    },
    {
     "name": "stderr",
     "output_type": "stream",
     "text": [
      "\r",
      " 55%|██████████████████▊               | 59274/107367 [20:23<1:19:24, 10.09it/s]"
     ]
    },
    {
     "name": "stdout",
     "output_type": "stream",
     "text": [
      "0 HTTPSConnectionPool(host='ir.uitm.edu.my', port=443): Max retries exceeded with url: /id/eprint/17540/1/AJ_BAMBANG%20K.%20HADI%20JME%2007.pdf (Caused by SSLError(SSLEOFError(8, 'EOF occurred in violation of protocol (_ssl.c:1131)')))\n",
      "1 ('Connection aborted.', ConnectionResetError(104, 'Connection reset by peer'))\n",
      "2 HTTPSConnectionPool(host='ir.uitm.edu.my', port=443): Max retries exceeded with url: /id/eprint/17540/1/AJ_BAMBANG%20K.%20HADI%20JME%2007.pdf (Caused by SSLError(SSLEOFError(8, 'EOF occurred in violation of protocol (_ssl.c:1131)')))\n"
     ]
    },
    {
     "name": "stderr",
     "output_type": "stream",
     "text": [
      "\r",
      " 55%|██████████████████▊               | 59276/107367 [20:25<1:39:10,  8.08it/s]"
     ]
    },
    {
     "name": "stdout",
     "output_type": "stream",
     "text": [
      "0 HTTPSConnectionPool(host='ir.uitm.edu.my', port=443): Max retries exceeded with url: /id/eprint/17559/1/AJ_AHMAD%20RAZLAN%20YUSOFF%20JME%2008.pdf (Caused by SSLError(SSLEOFError(8, 'EOF occurred in violation of protocol (_ssl.c:1131)')))\n",
      "1 ('Connection aborted.', ConnectionResetError(104, 'Connection reset by peer'))\n",
      "2 HTTPSConnectionPool(host='ir.uitm.edu.my', port=443): Max retries exceeded with url: /id/eprint/17559/1/AJ_AHMAD%20RAZLAN%20YUSOFF%20JME%2008.pdf (Caused by SSLError(SSLEOFError(8, 'EOF occurred in violation of protocol (_ssl.c:1131)')))\n"
     ]
    },
    {
     "name": "stderr",
     "output_type": "stream",
     "text": [
      "\r",
      " 55%|██████████████████▊               | 59281/107367 [20:27<1:57:06,  6.84it/s]"
     ]
    },
    {
     "name": "stdout",
     "output_type": "stream",
     "text": [
      "0 HTTPSConnectionPool(host='ir.uitm.edu.my', port=443): Max retries exceeded with url: /id/eprint/17560/1/AJ_KHAIRUR%20RIJAL%20JAMALUDIN%20JME%2008.pdf (Caused by SSLError(SSLEOFError(8, 'EOF occurred in violation of protocol (_ssl.c:1131)')))\n",
      "1 HTTPSConnectionPool(host='ir.uitm.edu.my', port=443): Max retries exceeded with url: /id/eprint/17560/1/AJ_KHAIRUR%20RIJAL%20JAMALUDIN%20JME%2008.pdf (Caused by SSLError(SSLEOFError(8, 'EOF occurred in violation of protocol (_ssl.c:1131)')))\n",
      "2 HTTPSConnectionPool(host='ir.uitm.edu.my', port=443): Max retries exceeded with url: /id/eprint/17560/1/AJ_KHAIRUR%20RIJAL%20JAMALUDIN%20JME%2008.pdf (Caused by SSLError(SSLEOFError(8, 'EOF occurred in violation of protocol (_ssl.c:1131)')))\n"
     ]
    },
    {
     "name": "stderr",
     "output_type": "stream",
     "text": [
      "\r",
      " 55%|██████████████████▊               | 59282/107367 [20:28<2:33:42,  5.21it/s]"
     ]
    },
    {
     "name": "stdout",
     "output_type": "stream",
     "text": [
      "0 HTTPSConnectionPool(host='ir.uitm.edu.my', port=443): Max retries exceeded with url: /id/eprint/17561/1/AJ_NAWAF%20H.%20SAEID%20JME%2008.pdf (Caused by SSLError(SSLEOFError(8, 'EOF occurred in violation of protocol (_ssl.c:1131)')))\n",
      "1 HTTPSConnectionPool(host='ir.uitm.edu.my', port=443): Max retries exceeded with url: /id/eprint/17561/1/AJ_NAWAF%20H.%20SAEID%20JME%2008.pdf (Caused by SSLError(SSLEOFError(8, 'EOF occurred in violation of protocol (_ssl.c:1131)')))\n",
      "2 HTTPSConnectionPool(host='ir.uitm.edu.my', port=443): Max retries exceeded with url: /id/eprint/17561/1/AJ_NAWAF%20H.%20SAEID%20JME%2008.pdf (Caused by SSLError(SSLEOFError(8, 'EOF occurred in violation of protocol (_ssl.c:1131)')))\n"
     ]
    },
    {
     "name": "stderr",
     "output_type": "stream",
     "text": [
      "\r",
      " 55%|██████████████████▊               | 59283/107367 [20:30<3:21:13,  3.98it/s]"
     ]
    },
    {
     "name": "stdout",
     "output_type": "stream",
     "text": [
      "0 HTTPSConnectionPool(host='ir.uitm.edu.my', port=443): Max retries exceeded with url: /id/eprint/17562/1/AJ_PATTHI%20HUSSAIN%20JME%2008.pdf (Caused by SSLError(SSLEOFError(8, 'EOF occurred in violation of protocol (_ssl.c:1131)')))\n",
      "1 HTTPSConnectionPool(host='ir.uitm.edu.my', port=443): Max retries exceeded with url: /id/eprint/17562/1/AJ_PATTHI%20HUSSAIN%20JME%2008.pdf (Caused by SSLError(SSLEOFError(8, 'EOF occurred in violation of protocol (_ssl.c:1131)')))\n",
      "2 ('Connection aborted.', ConnectionResetError(104, 'Connection reset by peer'))\n"
     ]
    },
    {
     "name": "stderr",
     "output_type": "stream",
     "text": [
      "\r",
      " 55%|██████████████████▊               | 59284/107367 [20:32<4:24:05,  3.03it/s]"
     ]
    },
    {
     "name": "stdout",
     "output_type": "stream",
     "text": [
      "0 HTTPSConnectionPool(host='ir.uitm.edu.my', port=443): Max retries exceeded with url: /id/eprint/17563/1/AJ_WAN%20AHMAD%20NAJMI%20WAN%20MOHAMED%20JME%2008.pdf (Caused by SSLError(SSLEOFError(8, 'EOF occurred in violation of protocol (_ssl.c:1131)')))\n",
      "1 HTTPSConnectionPool(host='ir.uitm.edu.my', port=443): Max retries exceeded with url: /id/eprint/17563/1/AJ_WAN%20AHMAD%20NAJMI%20WAN%20MOHAMED%20JME%2008.pdf (Caused by SSLError(SSLEOFError(8, 'EOF occurred in violation of protocol (_ssl.c:1131)')))\n",
      "2 HTTPSConnectionPool(host='ir.uitm.edu.my', port=443): Max retries exceeded with url: /id/eprint/17563/1/AJ_WAN%20AHMAD%20NAJMI%20WAN%20MOHAMED%20JME%2008.pdf (Caused by SSLError(SSLEOFError(8, 'EOF occurred in violation of protocol (_ssl.c:1131)')))\n"
     ]
    },
    {
     "name": "stderr",
     "output_type": "stream",
     "text": [
      "\r",
      " 55%|██████████████████▊               | 59285/107367 [20:33<5:41:44,  2.34it/s]"
     ]
    },
    {
     "name": "stdout",
     "output_type": "stream",
     "text": [
      "0 HTTPSConnectionPool(host='ir.uitm.edu.my', port=443): Max retries exceeded with url: /id/eprint/17564/1/AJ_ZULQUERNAIN%20MALLICK%20JME%2008.pdf (Caused by SSLError(SSLEOFError(8, 'EOF occurred in violation of protocol (_ssl.c:1131)')))\n",
      "1 HTTPSConnectionPool(host='ir.uitm.edu.my', port=443): Max retries exceeded with url: /id/eprint/17564/1/AJ_ZULQUERNAIN%20MALLICK%20JME%2008.pdf (Caused by SSLError(SSLEOFError(8, 'EOF occurred in violation of protocol (_ssl.c:1131)')))\n",
      "2 HTTPSConnectionPool(host='ir.uitm.edu.my', port=443): Max retries exceeded with url: /id/eprint/17564/1/AJ_ZULQUERNAIN%20MALLICK%20JME%2008.pdf (Caused by SSLError(SSLEOFError(8, 'EOF occurred in violation of protocol (_ssl.c:1131)')))\n"
     ]
    },
    {
     "name": "stderr",
     "output_type": "stream",
     "text": [
      "\r",
      " 55%|██████████████████▊               | 59286/107367 [20:35<7:16:19,  1.84it/s]"
     ]
    },
    {
     "name": "stdout",
     "output_type": "stream",
     "text": [
      "0 HTTPSConnectionPool(host='ir.uitm.edu.my', port=443): Max retries exceeded with url: /id/eprint/17565/1/AJ_AHMAD%20RASDAN%20ISMAIL%20JME%2008.pdf (Caused by SSLError(SSLEOFError(8, 'EOF occurred in violation of protocol (_ssl.c:1131)')))\n",
      "1 ('Connection aborted.', ConnectionResetError(104, 'Connection reset by peer'))\n",
      "2 ('Connection aborted.', ConnectionResetError(104, 'Connection reset by peer'))\n"
     ]
    },
    {
     "name": "stderr",
     "output_type": "stream",
     "text": [
      "\r",
      " 55%|██████████████████▊               | 59287/107367 [20:37<9:03:53,  1.47it/s]"
     ]
    },
    {
     "name": "stdout",
     "output_type": "stream",
     "text": [
      "0 HTTPSConnectionPool(host='ir.uitm.edu.my', port=443): Max retries exceeded with url: /id/eprint/17566/1/AJ_AHMED%20JAFFAR%20JME%2008.pdf (Caused by SSLError(SSLEOFError(8, 'EOF occurred in violation of protocol (_ssl.c:1131)')))\n",
      "1 ('Connection aborted.', ConnectionResetError(104, 'Connection reset by peer'))\n",
      "2 HTTPSConnectionPool(host='ir.uitm.edu.my', port=443): Max retries exceeded with url: /id/eprint/17566/1/AJ_AHMED%20JAFFAR%20JME%2008.pdf (Caused by SSLError(SSLEOFError(8, 'EOF occurred in violation of protocol (_ssl.c:1131)')))\n"
     ]
    },
    {
     "name": "stderr",
     "output_type": "stream",
     "text": [
      "\r",
      " 55%|██████████████████▏              | 59288/107367 [20:38<10:59:44,  1.21it/s]"
     ]
    },
    {
     "name": "stdout",
     "output_type": "stream",
     "text": [
      "0 HTTPSConnectionPool(host='ir.uitm.edu.my', port=443): Max retries exceeded with url: /id/eprint/17567/1/AJ_AMAN%20MOHD%20IHSAN%20MAMAT%20JME%2008.pdf (Caused by SSLError(SSLEOFError(8, 'EOF occurred in violation of protocol (_ssl.c:1131)')))\n",
      "1 ('Connection aborted.', ConnectionResetError(104, 'Connection reset by peer'))\n",
      "2 ('Connection aborted.', ConnectionResetError(104, 'Connection reset by peer'))\n"
     ]
    },
    {
     "name": "stderr",
     "output_type": "stream",
     "text": [
      "\r",
      " 55%|██████████████████▏              | 59289/107367 [20:40<12:56:55,  1.03it/s]"
     ]
    },
    {
     "name": "stdout",
     "output_type": "stream",
     "text": [
      "0 HTTPSConnectionPool(host='ir.uitm.edu.my', port=443): Max retries exceeded with url: /id/eprint/17569/1/AJ_MOHD%20A%27ZMI%20YUNUS%20JME%2008.pdf (Caused by SSLError(SSLEOFError(8, 'EOF occurred in violation of protocol (_ssl.c:1131)')))\n",
      "1 HTTPSConnectionPool(host='ir.uitm.edu.my', port=443): Max retries exceeded with url: /id/eprint/17569/1/AJ_MOHD%20A%27ZMI%20YUNUS%20JME%2008.pdf (Caused by SSLError(SSLEOFError(8, 'EOF occurred in violation of protocol (_ssl.c:1131)')))\n",
      "2 HTTPSConnectionPool(host='ir.uitm.edu.my', port=443): Max retries exceeded with url: /id/eprint/17569/1/AJ_MOHD%20A%27ZMI%20YUNUS%20JME%2008.pdf (Caused by SSLError(SSLEOFError(8, 'EOF occurred in violation of protocol (_ssl.c:1131)')))\n"
     ]
    },
    {
     "name": "stderr",
     "output_type": "stream",
     "text": [
      "\r",
      " 55%|██████████████████▏              | 59291/107367 [20:42<12:21:18,  1.08it/s]"
     ]
    },
    {
     "name": "stdout",
     "output_type": "stream",
     "text": [
      "0 ('Connection aborted.', ConnectionResetError(104, 'Connection reset by peer'))\n",
      "1 ('Connection aborted.', ConnectionResetError(104, 'Connection reset by peer'))\n",
      "2 HTTPSConnectionPool(host='ir.uitm.edu.my', port=443): Max retries exceeded with url: /id/eprint/17570/1/AJ_MUHAMAD%20NORHISHAM%20ABDUL%20RANI%20JME%2008.pdf (Caused by SSLError(SSLEOFError(8, 'EOF occurred in violation of protocol (_ssl.c:1131)')))\n"
     ]
    },
    {
     "name": "stderr",
     "output_type": "stream",
     "text": [
      "\r",
      " 55%|██████████████████▏              | 59293/107367 [20:43<11:55:35,  1.12it/s]"
     ]
    },
    {
     "name": "stdout",
     "output_type": "stream",
     "text": [
      "0 ('Connection aborted.', ConnectionResetError(104, 'Connection reset by peer'))\n",
      "1 HTTPSConnectionPool(host='ir.uitm.edu.my', port=443): Max retries exceeded with url: /id/eprint/17571/1/AJ_NORAISHAH%20OTHMAN%20JME%2008.pdf (Caused by SSLError(SSLEOFError(8, 'EOF occurred in violation of protocol (_ssl.c:1131)')))\n",
      "2 ('Connection aborted.', ConnectionResetError(104, 'Connection reset by peer'))\n"
     ]
    },
    {
     "name": "stderr",
     "output_type": "stream",
     "text": [
      "\r",
      " 55%|██████████████████▏              | 59294/107367 [20:45<13:49:13,  1.03s/it]"
     ]
    },
    {
     "name": "stdout",
     "output_type": "stream",
     "text": [
      "0 HTTPSConnectionPool(host='ir.uitm.edu.my', port=443): Max retries exceeded with url: /id/eprint/17575/1/AJ_SYIFAUL%20H.%20JME%2008.pdf (Caused by SSLError(SSLEOFError(8, 'EOF occurred in violation of protocol (_ssl.c:1131)')))\n",
      "1 HTTPSConnectionPool(host='ir.uitm.edu.my', port=443): Max retries exceeded with url: /id/eprint/17575/1/AJ_SYIFAUL%20H.%20JME%2008.pdf (Caused by SSLError(SSLEOFError(8, 'EOF occurred in violation of protocol (_ssl.c:1131)')))\n",
      "2 ('Connection aborted.', ConnectionResetError(104, 'Connection reset by peer'))\n"
     ]
    },
    {
     "name": "stderr",
     "output_type": "stream",
     "text": [
      "\r",
      " 55%|██████████████████▊               | 59298/107367 [20:47<9:34:29,  1.39it/s]"
     ]
    },
    {
     "name": "stdout",
     "output_type": "stream",
     "text": [
      "0 HTTPSConnectionPool(host='ir.uitm.edu.my', port=443): Max retries exceeded with url: /id/eprint/17578/1/AJ_MOHD%20ROZAIMAN%20AZIZ%20JME%2013.pdf (Caused by SSLError(SSLEOFError(8, 'EOF occurred in violation of protocol (_ssl.c:1131)')))\n",
      "1 ('Connection aborted.', ConnectionResetError(104, 'Connection reset by peer'))\n",
      "2 HTTPSConnectionPool(host='ir.uitm.edu.my', port=443): Max retries exceeded with url: /id/eprint/17578/1/AJ_MOHD%20ROZAIMAN%20AZIZ%20JME%2013.pdf (Caused by SSLError(SSLEOFError(8, 'EOF occurred in violation of protocol (_ssl.c:1131)')))\n"
     ]
    },
    {
     "name": "stderr",
     "output_type": "stream",
     "text": [
      "\r",
      " 55%|██████████████████▊               | 59301/107367 [20:48<8:47:42,  1.52it/s]"
     ]
    },
    {
     "name": "stdout",
     "output_type": "stream",
     "text": [
      "0 ('Connection aborted.', ConnectionResetError(104, 'Connection reset by peer'))\n",
      "1 HTTPSConnectionPool(host='ir.uitm.edu.my', port=443): Max retries exceeded with url: /id/eprint/17581/1/AJ_AMIR%20RADZI%20ABDUL%20GHANI%20JME%2011.pdf (Caused by SSLError(SSLEOFError(8, 'EOF occurred in violation of protocol (_ssl.c:1131)')))\n",
      "2 HTTPSConnectionPool(host='ir.uitm.edu.my', port=443): Max retries exceeded with url: /id/eprint/17581/1/AJ_AMIR%20RADZI%20ABDUL%20GHANI%20JME%2011.pdf (Caused by SSLError(SSLEOFError(8, 'EOF occurred in violation of protocol (_ssl.c:1131)')))\n"
     ]
    },
    {
     "name": "stderr",
     "output_type": "stream",
     "text": [
      "\r",
      " 55%|██████████████████▊               | 59305/107367 [20:50<7:30:35,  1.78it/s]"
     ]
    },
    {
     "name": "stdout",
     "output_type": "stream",
     "text": [
      "0 ('Connection aborted.', ConnectionResetError(104, 'Connection reset by peer'))\n",
      "1 HTTPSConnectionPool(host='ir.uitm.edu.my', port=443): Max retries exceeded with url: /id/eprint/17585/1/AJ_RAKESH%20SINGH%20RAJPUT%20JME%2011.pdf (Caused by SSLError(SSLEOFError(8, 'EOF occurred in violation of protocol (_ssl.c:1131)')))\n",
      "2 HTTPSConnectionPool(host='ir.uitm.edu.my', port=443): Max retries exceeded with url: /id/eprint/17585/1/AJ_RAKESH%20SINGH%20RAJPUT%20JME%2011.pdf (Caused by SSLError(SSLEOFError(8, 'EOF occurred in violation of protocol (_ssl.c:1131)')))\n"
     ]
    },
    {
     "name": "stderr",
     "output_type": "stream",
     "text": [
      "\r",
      " 55%|██████████████████▊               | 59309/107367 [20:52<6:48:19,  1.96it/s]"
     ]
    },
    {
     "name": "stdout",
     "output_type": "stream",
     "text": [
      "0 ('Connection aborted.', ConnectionResetError(104, 'Connection reset by peer'))\n",
      "1 HTTPSConnectionPool(host='ir.uitm.edu.my', port=443): Max retries exceeded with url: /id/eprint/17588/1/AJ_NOR%20HAYATI%20SAAD%20JME%2006.pdf (Caused by SSLError(SSLEOFError(8, 'EOF occurred in violation of protocol (_ssl.c:1131)')))\n",
      "2 HTTPSConnectionPool(host='ir.uitm.edu.my', port=443): Max retries exceeded with url: /id/eprint/17588/1/AJ_NOR%20HAYATI%20SAAD%20JME%2006.pdf (Caused by SSLError(SSLEOFError(8, 'EOF occurred in violation of protocol (_ssl.c:1131)')))\n"
     ]
    },
    {
     "name": "stderr",
     "output_type": "stream",
     "text": [
      "\r",
      " 55%|██████████████████▊               | 59312/107367 [20:53<6:58:35,  1.91it/s]"
     ]
    },
    {
     "name": "stdout",
     "output_type": "stream",
     "text": [
      "0 HTTPSConnectionPool(host='ir.uitm.edu.my', port=443): Max retries exceeded with url: /id/eprint/17589/1/AJ_S.%20KAMARUDDIN%20JME%2006.pdf (Caused by SSLError(SSLEOFError(8, 'EOF occurred in violation of protocol (_ssl.c:1131)')))\n",
      "1 HTTPSConnectionPool(host='ir.uitm.edu.my', port=443): Max retries exceeded with url: /id/eprint/17589/1/AJ_S.%20KAMARUDDIN%20JME%2006.pdf (Caused by SSLError(SSLEOFError(8, 'EOF occurred in violation of protocol (_ssl.c:1131)')))\n",
      "2 ('Connection aborted.', ConnectionResetError(104, 'Connection reset by peer'))\n"
     ]
    },
    {
     "name": "stderr",
     "output_type": "stream",
     "text": [
      "\r",
      " 55%|██████████████████▊               | 59313/107367 [20:55<8:46:57,  1.52it/s]"
     ]
    },
    {
     "name": "stdout",
     "output_type": "stream",
     "text": [
      "0 HTTPSConnectionPool(host='ir.uitm.edu.my', port=443): Max retries exceeded with url: /id/eprint/17591/1/AJ_SURESH%20KUMAR%20JME%2006.pdf (Caused by SSLError(SSLEOFError(8, 'EOF occurred in violation of protocol (_ssl.c:1131)')))\n",
      "1 HTTPSConnectionPool(host='ir.uitm.edu.my', port=443): Max retries exceeded with url: /id/eprint/17591/1/AJ_SURESH%20KUMAR%20JME%2006.pdf (Caused by SSLError(SSLEOFError(8, 'EOF occurred in violation of protocol (_ssl.c:1131)')))\n",
      "2 HTTPSConnectionPool(host='ir.uitm.edu.my', port=443): Max retries exceeded with url: /id/eprint/17591/1/AJ_SURESH%20KUMAR%20JME%2006.pdf (Caused by SSLError(SSLEOFError(8, 'EOF occurred in violation of protocol (_ssl.c:1131)')))\n"
     ]
    },
    {
     "name": "stderr",
     "output_type": "stream",
     "text": [
      "\r",
      " 55%|██████████████████▊               | 59316/107367 [20:57<8:17:32,  1.61it/s]"
     ]
    },
    {
     "name": "stdout",
     "output_type": "stream",
     "text": [
      "0 HTTPSConnectionPool(host='ir.uitm.edu.my', port=443): Max retries exceeded with url: /id/eprint/17614/1/AJ_POSINASETTI%20NAGESWARA%20RAO%20JME%2013.pdf (Caused by SSLError(SSLEOFError(8, 'EOF occurred in violation of protocol (_ssl.c:1131)')))\n",
      "1 HTTPSConnectionPool(host='ir.uitm.edu.my', port=443): Max retries exceeded with url: /id/eprint/17614/1/AJ_POSINASETTI%20NAGESWARA%20RAO%20JME%2013.pdf (Caused by SSLError(SSLEOFError(8, 'EOF occurred in violation of protocol (_ssl.c:1131)')))\n",
      "2 HTTPSConnectionPool(host='ir.uitm.edu.my', port=443): Max retries exceeded with url: /id/eprint/17614/1/AJ_POSINASETTI%20NAGESWARA%20RAO%20JME%2013.pdf (Caused by SSLError(SSLEOFError(8, 'EOF occurred in violation of protocol (_ssl.c:1131)')))\n"
     ]
    },
    {
     "name": "stderr",
     "output_type": "stream",
     "text": [
      "\r",
      " 55%|██████████████████▊               | 59335/107367 [20:58<2:55:38,  4.56it/s]"
     ]
    },
    {
     "name": "stdout",
     "output_type": "stream",
     "text": [
      "0 HTTPSConnectionPool(host='ir.uitm.edu.my', port=443): Max retries exceeded with url: /id/eprint/17617/2/TM_NUR%20ADIBAH%20ZAMRI%20ED%2016_5.pdf (Caused by SSLError(SSLEOFError(8, 'EOF occurred in violation of protocol (_ssl.c:1131)')))\n",
      "1 HTTPSConnectionPool(host='ir.uitm.edu.my', port=443): Max retries exceeded with url: /id/eprint/17617/2/TM_NUR%20ADIBAH%20ZAMRI%20ED%2016_5.pdf (Caused by SSLError(SSLEOFError(8, 'EOF occurred in violation of protocol (_ssl.c:1131)')))\n",
      "2 HTTPSConnectionPool(host='ir.uitm.edu.my', port=443): Max retries exceeded with url: /id/eprint/17617/2/TM_NUR%20ADIBAH%20ZAMRI%20ED%2016_5.pdf (Caused by SSLError(SSLEOFError(8, 'EOF occurred in violation of protocol (_ssl.c:1131)')))\n"
     ]
    },
    {
     "name": "stderr",
     "output_type": "stream",
     "text": [
      "\r",
      " 55%|██████████████████▊               | 59338/107367 [21:00<3:34:24,  3.73it/s]"
     ]
    },
    {
     "name": "stdout",
     "output_type": "stream",
     "text": [
      "0 HTTPSConnectionPool(host='ir.uitm.edu.my', port=443): Max retries exceeded with url: /id/eprint/17620/1/AJ_BODO%20HEIMANN%20JME%2009.pdf (Caused by SSLError(SSLEOFError(8, 'EOF occurred in violation of protocol (_ssl.c:1131)')))\n",
      "1 ('Connection aborted.', ConnectionResetError(104, 'Connection reset by peer'))\n",
      "2 HTTPSConnectionPool(host='ir.uitm.edu.my', port=443): Max retries exceeded with url: /id/eprint/17620/1/AJ_BODO%20HEIMANN%20JME%2009.pdf (Caused by SSLError(SSLEOFError(8, 'EOF occurred in violation of protocol (_ssl.c:1131)')))\n"
     ]
    },
    {
     "name": "stderr",
     "output_type": "stream",
     "text": [
      "\r",
      " 55%|██████████████████▊               | 59342/107367 [21:02<4:00:58,  3.32it/s]"
     ]
    },
    {
     "name": "stdout",
     "output_type": "stream",
     "text": [
      "0 HTTPSConnectionPool(host='ir.uitm.edu.my', port=443): Max retries exceeded with url: /id/eprint/17621/1/AJ_TIAUW%20HIONG%20GO%20JME%2009.pdf (Caused by SSLError(SSLEOFError(8, 'EOF occurred in violation of protocol (_ssl.c:1131)')))\n",
      "1 HTTPSConnectionPool(host='ir.uitm.edu.my', port=443): Max retries exceeded with url: /id/eprint/17621/1/AJ_TIAUW%20HIONG%20GO%20JME%2009.pdf (Caused by SSLError(SSLEOFError(8, 'EOF occurred in violation of protocol (_ssl.c:1131)')))\n",
      "2 HTTPSConnectionPool(host='ir.uitm.edu.my', port=443): Max retries exceeded with url: /id/eprint/17621/1/AJ_TIAUW%20HIONG%20GO%20JME%2009.pdf (Caused by SSLError(SSLEOFError(8, 'EOF occurred in violation of protocol (_ssl.c:1131)')))\n"
     ]
    },
    {
     "name": "stderr",
     "output_type": "stream",
     "text": [
      "\r",
      " 55%|██████████████████▊               | 59343/107367 [21:03<5:18:21,  2.51it/s]"
     ]
    },
    {
     "name": "stdout",
     "output_type": "stream",
     "text": [
      "0 HTTPSConnectionPool(host='ir.uitm.edu.my', port=443): Max retries exceeded with url: /id/eprint/17625/1/AJ_ANIZAH%20KALAM%20JME%2009.pdf (Caused by SSLError(SSLEOFError(8, 'EOF occurred in violation of protocol (_ssl.c:1131)')))\n",
      "1 ('Connection aborted.', ConnectionResetError(104, 'Connection reset by peer'))\n"
     ]
    },
    {
     "name": "stderr",
     "output_type": "stream",
     "text": [
      "IOPub message rate exceeded.\n",
      "The notebook server will temporarily stop sending output\n",
      "to the client in order to avoid crashing it.\n",
      "To change this limit, set the config variable\n",
      "`--NotebookApp.iopub_msg_rate_limit`.\n",
      "\n",
      "Current values:\n",
      "NotebookApp.iopub_msg_rate_limit=1000.0 (msgs/sec)\n",
      "NotebookApp.rate_limit_window=3.0 (secs)\n",
      "\n"
     ]
    },
    {
     "name": "stdout",
     "output_type": "stream",
     "text": [
      "0 ('Connection aborted.', ConnectionResetError(104, 'Connection reset by peer'))\n",
      "1 HTTPSConnectionPool(host='ir.uitm.edu.my', port=443): Max retries exceeded with url: /id/eprint/21187/1/LP_HASLINDA%20NORADZAN%20RMI%2013_5.pdf (Caused by SSLError(SSLEOFError(8, 'EOF occurred in violation of protocol (_ssl.c:1131)')))\n",
      "2 HTTPSConnectionPool(host='ir.uitm.edu.my', port=443): Max retries exceeded with url: /id/eprint/21187/1/LP_HASLINDA%20NORADZAN%20RMI%2013_5.pdf (Caused by SSLError(SSLEOFError(8, 'EOF occurred in violation of protocol (_ssl.c:1131)')))\n"
     ]
    },
    {
     "name": "stderr",
     "output_type": "stream",
     "text": [
      "\r",
      " 58%|███████████████████▏             | 62332/107367 [35:29<20:46:25,  1.66s/it]"
     ]
    },
    {
     "name": "stdout",
     "output_type": "stream",
     "text": [
      "0 HTTPSConnectionPool(host='ir.uitm.edu.my', port=443): Max retries exceeded with url: /id/eprint/21188/1/LP_MOHD%20SYAHRIL%20MOHD%20ZAN%20RMI%2012_5.pdf (Caused by SSLError(SSLEOFError(8, 'EOF occurred in violation of protocol (_ssl.c:1131)')))\n",
      "1 HTTPSConnectionPool(host='ir.uitm.edu.my', port=443): Max retries exceeded with url: /id/eprint/21188/1/LP_MOHD%20SYAHRIL%20MOHD%20ZAN%20RMI%2012_5.pdf (Caused by SSLError(SSLEOFError(8, 'EOF occurred in violation of protocol (_ssl.c:1131)')))\n",
      "2 HTTPSConnectionPool(host='ir.uitm.edu.my', port=443): Max retries exceeded with url: /id/eprint/21188/1/LP_MOHD%20SYAHRIL%20MOHD%20ZAN%20RMI%2012_5.pdf (Caused by SSLError(SSLEOFError(8, 'EOF occurred in violation of protocol (_ssl.c:1131)')))\n"
     ]
    },
    {
     "name": "stderr",
     "output_type": "stream",
     "text": [
      "\r",
      " 58%|███████████████████▏             | 62333/107367 [35:30<20:53:55,  1.67s/it]"
     ]
    },
    {
     "name": "stdout",
     "output_type": "stream",
     "text": [
      "0 ('Connection aborted.', ConnectionResetError(104, 'Connection reset by peer'))\n",
      "1 HTTPSConnectionPool(host='ir.uitm.edu.my', port=443): Max retries exceeded with url: /id/eprint/21189/1/LP_NUR%20RASHIDI%20JOHARI%20RMI%2010_5.pdf (Caused by SSLError(SSLEOFError(8, 'EOF occurred in violation of protocol (_ssl.c:1131)')))\n",
      "2 HTTPSConnectionPool(host='ir.uitm.edu.my', port=443): Max retries exceeded with url: /id/eprint/21189/1/LP_NUR%20RASHIDI%20JOHARI%20RMI%2010_5.pdf (Caused by SSLError(SSLEOFError(8, 'EOF occurred in violation of protocol (_ssl.c:1131)')))\n"
     ]
    },
    {
     "name": "stderr",
     "output_type": "stream",
     "text": [
      "\r",
      " 58%|███████████████████▏             | 62334/107367 [35:32<20:52:23,  1.67s/it]"
     ]
    },
    {
     "name": "stdout",
     "output_type": "stream",
     "text": [
      "0 ('Connection aborted.', ConnectionResetError(104, 'Connection reset by peer'))\n",
      "1 HTTPSConnectionPool(host='ir.uitm.edu.my', port=443): Max retries exceeded with url: /id/eprint/21191/1/LP_ROHASLINDA%20RAMELE%20%40%20RAMLI%20RMI%2010_5.pdf (Caused by SSLError(SSLEOFError(8, 'EOF occurred in violation of protocol (_ssl.c:1131)')))\n",
      "2 HTTPSConnectionPool(host='ir.uitm.edu.my', port=443): Max retries exceeded with url: /id/eprint/21191/1/LP_ROHASLINDA%20RAMELE%20%40%20RAMLI%20RMI%2010_5.pdf (Caused by SSLError(SSLEOFError(8, 'EOF occurred in violation of protocol (_ssl.c:1131)')))\n"
     ]
    },
    {
     "name": "stderr",
     "output_type": "stream",
     "text": [
      "\r",
      " 58%|███████████████████▏             | 62335/107367 [35:34<20:48:32,  1.66s/it]"
     ]
    },
    {
     "name": "stdout",
     "output_type": "stream",
     "text": [
      "0 HTTPSConnectionPool(host='ir.uitm.edu.my', port=443): Max retries exceeded with url: /id/eprint/21192/1/PPb_NURFADHILAH%20BASRI%20M%20BM%2008_5.pdf (Caused by SSLError(SSLEOFError(8, 'EOF occurred in violation of protocol (_ssl.c:1131)')))\n",
      "1 HTTPSConnectionPool(host='ir.uitm.edu.my', port=443): Max retries exceeded with url: /id/eprint/21192/1/PPb_NURFADHILAH%20BASRI%20M%20BM%2008_5.pdf (Caused by SSLError(SSLEOFError(8, 'EOF occurred in violation of protocol (_ssl.c:1131)')))\n",
      "2 ('Connection aborted.', ConnectionResetError(104, 'Connection reset by peer'))\n"
     ]
    },
    {
     "name": "stderr",
     "output_type": "stream",
     "text": [
      "\r",
      " 58%|███████████████████▏             | 62336/107367 [35:35<20:52:57,  1.67s/it]"
     ]
    },
    {
     "name": "stdout",
     "output_type": "stream",
     "text": [
      "0 HTTPSConnectionPool(host='ir.uitm.edu.my', port=443): Max retries exceeded with url: /id/eprint/21193/1/PPb_NURFARRAHAIN%20ABD%20MALIK%20M%20BM%2018_5.pdf (Caused by SSLError(SSLEOFError(8, 'EOF occurred in violation of protocol (_ssl.c:1131)')))\n",
      "1 HTTPSConnectionPool(host='ir.uitm.edu.my', port=443): Max retries exceeded with url: /id/eprint/21193/1/PPb_NURFARRAHAIN%20ABD%20MALIK%20M%20BM%2018_5.pdf (Caused by SSLError(SSLEOFError(8, 'EOF occurred in violation of protocol (_ssl.c:1131)')))\n",
      "2 HTTPSConnectionPool(host='ir.uitm.edu.my', port=443): Max retries exceeded with url: /id/eprint/21193/1/PPb_NURFARRAHAIN%20ABD%20MALIK%20M%20BM%2018_5.pdf (Caused by SSLError(SSLEOFError(8, 'EOF occurred in violation of protocol (_ssl.c:1131)')))\n"
     ]
    },
    {
     "name": "stderr",
     "output_type": "stream",
     "text": [
      "\r",
      " 58%|███████████████████▏             | 62337/107367 [35:37<20:53:18,  1.67s/it]"
     ]
    },
    {
     "name": "stdout",
     "output_type": "stream",
     "text": [
      "0 HTTPSConnectionPool(host='ir.uitm.edu.my', port=443): Max retries exceeded with url: /id/eprint/21194/1/PPb_NURFAZIERA%20MOHD%20YEB%20M%20BM%2018_5.pdf (Caused by SSLError(SSLEOFError(8, 'EOF occurred in violation of protocol (_ssl.c:1131)')))\n",
      "1 HTTPSConnectionPool(host='ir.uitm.edu.my', port=443): Max retries exceeded with url: /id/eprint/21194/1/PPb_NURFAZIERA%20MOHD%20YEB%20M%20BM%2018_5.pdf (Caused by SSLError(SSLEOFError(8, 'EOF occurred in violation of protocol (_ssl.c:1131)')))\n",
      "2 HTTPSConnectionPool(host='ir.uitm.edu.my', port=443): Max retries exceeded with url: /id/eprint/21194/1/PPb_NURFAZIERA%20MOHD%20YEB%20M%20BM%2018_5.pdf (Caused by SSLError(SSLEOFError(8, 'EOF occurred in violation of protocol (_ssl.c:1131)')))\n"
     ]
    },
    {
     "name": "stderr",
     "output_type": "stream",
     "text": [
      "\r",
      " 58%|███████████████████▏             | 62338/107367 [35:39<20:57:51,  1.68s/it]"
     ]
    },
    {
     "name": "stdout",
     "output_type": "stream",
     "text": [
      "0 HTTPSConnectionPool(host='ir.uitm.edu.my', port=443): Max retries exceeded with url: /id/eprint/21195/1/PPb_NURFAZLIANA%20IDRIS%20M%20BM%2018_5.pdf (Caused by SSLError(SSLEOFError(8, 'EOF occurred in violation of protocol (_ssl.c:1131)')))\n",
      "1 HTTPSConnectionPool(host='ir.uitm.edu.my', port=443): Max retries exceeded with url: /id/eprint/21195/1/PPb_NURFAZLIANA%20IDRIS%20M%20BM%2018_5.pdf (Caused by SSLError(SSLEOFError(8, 'EOF occurred in violation of protocol (_ssl.c:1131)')))\n",
      "2 HTTPSConnectionPool(host='ir.uitm.edu.my', port=443): Max retries exceeded with url: /id/eprint/21195/1/PPb_NURFAZLIANA%20IDRIS%20M%20BM%2018_5.pdf (Caused by SSLError(SSLEOFError(8, 'EOF occurred in violation of protocol (_ssl.c:1131)')))\n"
     ]
    },
    {
     "name": "stderr",
     "output_type": "stream",
     "text": [
      "\r",
      " 58%|███████████████████▏             | 62339/107367 [35:40<20:57:04,  1.68s/it]"
     ]
    },
    {
     "name": "stdout",
     "output_type": "stream",
     "text": [
      "0 ('Connection aborted.', ConnectionResetError(104, 'Connection reset by peer'))\n",
      "1 HTTPSConnectionPool(host='ir.uitm.edu.my', port=443): Max retries exceeded with url: /id/eprint/21196/1/TD_MOHD%20FAIRUL%20AFIQ%20MOHD%20ZULKEFLI%20AP_R%2018_5.pdf (Caused by SSLError(SSLEOFError(8, 'EOF occurred in violation of protocol (_ssl.c:1131)')))\n",
      "2 ('Connection aborted.', ConnectionResetError(104, 'Connection reset by peer'))\n"
     ]
    },
    {
     "name": "stderr",
     "output_type": "stream",
     "text": [
      "\r",
      " 58%|███████████████████▏             | 62340/107367 [35:42<20:48:28,  1.66s/it]"
     ]
    },
    {
     "name": "stdout",
     "output_type": "stream",
     "text": [
      "0 ('Connection aborted.', ConnectionResetError(104, 'Connection reset by peer'))\n",
      "1 HTTPSConnectionPool(host='ir.uitm.edu.my', port=443): Max retries exceeded with url: /id/eprint/21197/1/TD_MOHD%20RIDZUAN%20ROSLI%20EM%2003_5.pdf (Caused by SSLError(SSLEOFError(8, 'EOF occurred in violation of protocol (_ssl.c:1131)')))\n",
      "2 HTTPSConnectionPool(host='ir.uitm.edu.my', port=443): Max retries exceeded with url: /id/eprint/21197/1/TD_MOHD%20RIDZUAN%20ROSLI%20EM%2003_5.pdf (Caused by SSLError(SSLEOFError(8, 'EOF occurred in violation of protocol (_ssl.c:1131)')))\n"
     ]
    },
    {
     "name": "stderr",
     "output_type": "stream",
     "text": [
      "\r",
      " 58%|███████████████████▏             | 62341/107367 [35:44<20:51:46,  1.67s/it]"
     ]
    },
    {
     "name": "stdout",
     "output_type": "stream",
     "text": [
      "0 ('Connection aborted.', ConnectionResetError(104, 'Connection reset by peer'))\n",
      "1 HTTPSConnectionPool(host='ir.uitm.edu.my', port=443): Max retries exceeded with url: /id/eprint/21198/1/TD_MOHD%20SAZAMAR%20MOHAMAD%20EM%2003_5.pdf (Caused by SSLError(SSLEOFError(8, 'EOF occurred in violation of protocol (_ssl.c:1131)')))\n",
      "2 HTTPSConnectionPool(host='ir.uitm.edu.my', port=443): Max retries exceeded with url: /id/eprint/21198/1/TD_MOHD%20SAZAMAR%20MOHAMAD%20EM%2003_5.pdf (Caused by SSLError(SSLEOFError(8, 'EOF occurred in violation of protocol (_ssl.c:1131)')))\n"
     ]
    },
    {
     "name": "stderr",
     "output_type": "stream",
     "text": [
      "\r",
      " 58%|███████████████████▏             | 62342/107367 [35:45<20:48:01,  1.66s/it]"
     ]
    },
    {
     "name": "stdout",
     "output_type": "stream",
     "text": [
      "0 ('Connection aborted.', ConnectionResetError(104, 'Connection reset by peer'))\n",
      "1 ('Connection aborted.', ConnectionResetError(104, 'Connection reset by peer'))\n",
      "2 ('Connection aborted.', ConnectionResetError(104, 'Connection reset by peer'))\n"
     ]
    },
    {
     "name": "stderr",
     "output_type": "stream",
     "text": [
      "\r",
      " 58%|███████████████████▏             | 62343/107367 [35:47<20:44:18,  1.66s/it]"
     ]
    },
    {
     "name": "stdout",
     "output_type": "stream",
     "text": [
      "0 HTTPSConnectionPool(host='ir.uitm.edu.my', port=443): Max retries exceeded with url: /id/eprint/21200/1/PPb_NURRUL%20HAZIEQAH%20ROHMANAN%20M%20BM%2018_5.pdf (Caused by SSLError(SSLEOFError(8, 'EOF occurred in violation of protocol (_ssl.c:1131)')))\n",
      "1 ('Connection aborted.', ConnectionResetError(104, 'Connection reset by peer'))\n",
      "2 HTTPSConnectionPool(host='ir.uitm.edu.my', port=443): Max retries exceeded with url: /id/eprint/21200/1/PPb_NURRUL%20HAZIEQAH%20ROHMANAN%20M%20BM%2018_5.pdf (Caused by SSLError(SSLEOFError(8, 'EOF occurred in violation of protocol (_ssl.c:1131)')))\n"
     ]
    },
    {
     "name": "stderr",
     "output_type": "stream",
     "text": [
      "\r",
      " 58%|███████████████████▏             | 62344/107367 [35:49<20:45:28,  1.66s/it]"
     ]
    },
    {
     "name": "stdout",
     "output_type": "stream",
     "text": [
      "0 ('Connection aborted.', ConnectionResetError(104, 'Connection reset by peer'))\n",
      "1 ('Connection aborted.', ConnectionResetError(104, 'Connection reset by peer'))\n",
      "2 HTTPSConnectionPool(host='ir.uitm.edu.my', port=443): Max retries exceeded with url: /id/eprint/21201/1/PPb_NURSAIDA%20ALINA%20MOHAMMAD%20SAIRI%20M%20BM%2018_5.pdf (Caused by SSLError(SSLEOFError(8, 'EOF occurred in violation of protocol (_ssl.c:1131)')))\n"
     ]
    },
    {
     "name": "stderr",
     "output_type": "stream",
     "text": [
      "\r",
      " 58%|███████████████████▏             | 62345/107367 [35:50<20:44:45,  1.66s/it]"
     ]
    },
    {
     "name": "stdout",
     "output_type": "stream",
     "text": [
      "0 HTTPSConnectionPool(host='ir.uitm.edu.my', port=443): Max retries exceeded with url: /id/eprint/21202/1/PPb_NURSULIZA%20SYAIRAH%20ROSDI%20M%20BM%2017_5.pdf (Caused by SSLError(SSLEOFError(8, 'EOF occurred in violation of protocol (_ssl.c:1131)')))\n",
      "1 HTTPSConnectionPool(host='ir.uitm.edu.my', port=443): Max retries exceeded with url: /id/eprint/21202/1/PPb_NURSULIZA%20SYAIRAH%20ROSDI%20M%20BM%2017_5.pdf (Caused by SSLError(SSLEOFError(8, 'EOF occurred in violation of protocol (_ssl.c:1131)')))\n",
      "2 HTTPSConnectionPool(host='ir.uitm.edu.my', port=443): Max retries exceeded with url: /id/eprint/21202/1/PPb_NURSULIZA%20SYAIRAH%20ROSDI%20M%20BM%2017_5.pdf (Caused by SSLError(SSLEOFError(8, 'EOF occurred in violation of protocol (_ssl.c:1131)')))\n"
     ]
    },
    {
     "name": "stderr",
     "output_type": "stream",
     "text": [
      "\r",
      " 58%|███████████████████▏             | 62346/107367 [35:52<20:46:32,  1.66s/it]"
     ]
    },
    {
     "name": "stdout",
     "output_type": "stream",
     "text": [
      "0 HTTPSConnectionPool(host='ir.uitm.edu.my', port=443): Max retries exceeded with url: /id/eprint/21203/1/PPb_NURSYAFIQAH%20TAZALI%20M%20BM%2018_5.pdf (Caused by SSLError(SSLEOFError(8, 'EOF occurred in violation of protocol (_ssl.c:1131)')))\n",
      "1 ('Connection aborted.', ConnectionResetError(104, 'Connection reset by peer'))\n",
      "2 ('Connection aborted.', ConnectionResetError(104, 'Connection reset by peer'))\n"
     ]
    },
    {
     "name": "stderr",
     "output_type": "stream",
     "text": [
      "\r",
      " 58%|███████████████████▏             | 62347/107367 [35:54<20:42:59,  1.66s/it]"
     ]
    },
    {
     "name": "stdout",
     "output_type": "stream",
     "text": [
      "0 ('Connection aborted.', ConnectionResetError(104, 'Connection reset by peer'))\n",
      "1 HTTPSConnectionPool(host='ir.uitm.edu.my', port=443): Max retries exceeded with url: /id/eprint/21204/1/PPb_NURSYAMIMI%20MOHD%20ANUAR%20M%20BM%2006_5.pdf (Caused by SSLError(SSLEOFError(8, 'EOF occurred in violation of protocol (_ssl.c:1131)')))\n",
      "2 HTTPSConnectionPool(host='ir.uitm.edu.my', port=443): Max retries exceeded with url: /id/eprint/21204/1/PPb_NURSYAMIMI%20MOHD%20ANUAR%20M%20BM%2006_5.pdf (Caused by SSLError(SSLEOFError(8, 'EOF occurred in violation of protocol (_ssl.c:1131)')))\n"
     ]
    },
    {
     "name": "stderr",
     "output_type": "stream",
     "text": [
      "\r",
      " 58%|███████████████████▏             | 62348/107367 [35:55<20:47:09,  1.66s/it]"
     ]
    },
    {
     "name": "stdout",
     "output_type": "stream",
     "text": [
      "0 HTTPSConnectionPool(host='ir.uitm.edu.my', port=443): Max retries exceeded with url: /id/eprint/21205/1/PPb_NURUL%20AFIQAH%20SAKIR%20M%20BM%2018_5.pdf (Caused by SSLError(SSLEOFError(8, 'EOF occurred in violation of protocol (_ssl.c:1131)')))\n",
      "1 HTTPSConnectionPool(host='ir.uitm.edu.my', port=443): Max retries exceeded with url: /id/eprint/21205/1/PPb_NURUL%20AFIQAH%20SAKIR%20M%20BM%2018_5.pdf (Caused by SSLError(SSLEOFError(8, 'EOF occurred in violation of protocol (_ssl.c:1131)')))\n",
      "2 ('Connection aborted.', ConnectionResetError(104, 'Connection reset by peer'))\n"
     ]
    },
    {
     "name": "stderr",
     "output_type": "stream",
     "text": [
      "\r",
      " 58%|███████████████████▏             | 62349/107367 [35:57<20:50:15,  1.67s/it]"
     ]
    },
    {
     "name": "stdout",
     "output_type": "stream",
     "text": [
      "0 HTTPSConnectionPool(host='ir.uitm.edu.my', port=443): Max retries exceeded with url: /id/eprint/21206/1/PPb_NURUL%20AIN%20OTHMAN%20M%20BM%2018_5.pdf (Caused by SSLError(SSLEOFError(8, 'EOF occurred in violation of protocol (_ssl.c:1131)')))\n",
      "1 ('Connection aborted.', ConnectionResetError(104, 'Connection reset by peer'))\n",
      "2 ('Connection aborted.', ConnectionResetError(104, 'Connection reset by peer'))\n"
     ]
    },
    {
     "name": "stderr",
     "output_type": "stream",
     "text": [
      "\r",
      " 58%|███████████████████▏             | 62350/107367 [35:59<20:49:04,  1.66s/it]"
     ]
    },
    {
     "name": "stdout",
     "output_type": "stream",
     "text": [
      "0 ('Connection aborted.', ConnectionResetError(104, 'Connection reset by peer'))\n",
      "1 HTTPSConnectionPool(host='ir.uitm.edu.my', port=443): Max retries exceeded with url: /id/eprint/21207/1/PPb_WAN%20SULAIMAN%20WAN%20MOHAMAD%20EM%2004_5.pdf (Caused by SSLError(SSLEOFError(8, 'EOF occurred in violation of protocol (_ssl.c:1131)')))\n",
      "2 HTTPSConnectionPool(host='ir.uitm.edu.my', port=443): Max retries exceeded with url: /id/eprint/21207/1/PPb_WAN%20SULAIMAN%20WAN%20MOHAMAD%20EM%2004_5.pdf (Caused by SSLError(SSLEOFError(8, 'EOF occurred in violation of protocol (_ssl.c:1131)')))\n"
     ]
    },
    {
     "name": "stderr",
     "output_type": "stream",
     "text": [
      "\r",
      " 58%|███████████████████▏             | 62351/107367 [36:00<20:46:14,  1.66s/it]"
     ]
    },
    {
     "name": "stdout",
     "output_type": "stream",
     "text": [
      "0 HTTPSConnectionPool(host='ir.uitm.edu.my', port=443): Max retries exceeded with url: /id/eprint/21208/1/TD_NORAIN%20NAJIHAH%20NOR%20AZMY%20AP_R%2018_5.pdf (Caused by SSLError(SSLEOFError(8, 'EOF occurred in violation of protocol (_ssl.c:1131)')))\n",
      "1 HTTPSConnectionPool(host='ir.uitm.edu.my', port=443): Max retries exceeded with url: /id/eprint/21208/1/TD_NORAIN%20NAJIHAH%20NOR%20AZMY%20AP_R%2018_5.pdf (Caused by SSLError(SSLEOFError(8, 'EOF occurred in violation of protocol (_ssl.c:1131)')))\n",
      "2 ('Connection aborted.', ConnectionResetError(104, 'Connection reset by peer'))\n"
     ]
    },
    {
     "name": "stderr",
     "output_type": "stream",
     "text": [
      "\r",
      " 58%|███████████████████▏             | 62352/107367 [36:02<20:49:14,  1.67s/it]"
     ]
    },
    {
     "name": "stdout",
     "output_type": "stream",
     "text": [
      "0 HTTPSConnectionPool(host='ir.uitm.edu.my', port=443): Max retries exceeded with url: /id/eprint/21209/1/PPb_NURUL%20AINA%20SALLEH%20M%20BM%2018_5.pdf (Caused by SSLError(SSLEOFError(8, 'EOF occurred in violation of protocol (_ssl.c:1131)')))\n",
      "1 HTTPSConnectionPool(host='ir.uitm.edu.my', port=443): Max retries exceeded with url: /id/eprint/21209/1/PPb_NURUL%20AINA%20SALLEH%20M%20BM%2018_5.pdf (Caused by SSLError(SSLEOFError(8, 'EOF occurred in violation of protocol (_ssl.c:1131)')))\n",
      "2 HTTPSConnectionPool(host='ir.uitm.edu.my', port=443): Max retries exceeded with url: /id/eprint/21209/1/PPb_NURUL%20AINA%20SALLEH%20M%20BM%2018_5.pdf (Caused by SSLError(SSLEOFError(8, 'EOF occurred in violation of protocol (_ssl.c:1131)')))\n"
     ]
    },
    {
     "name": "stderr",
     "output_type": "stream",
     "text": [
      "\r",
      " 58%|███████████████████▏             | 62353/107367 [36:04<20:47:48,  1.66s/it]"
     ]
    },
    {
     "name": "stdout",
     "output_type": "stream",
     "text": [
      "0 ('Connection aborted.', ConnectionResetError(104, 'Connection reset by peer'))\n",
      "1 ('Connection aborted.', ConnectionResetError(104, 'Connection reset by peer'))\n",
      "2 HTTPSConnectionPool(host='ir.uitm.edu.my', port=443): Max retries exceeded with url: /id/eprint/21210/1/PPb_YUSB%20ISHAQ%20MOHAMAD%20EM%2004_5.pdf (Caused by SSLError(SSLEOFError(8, 'EOF occurred in violation of protocol (_ssl.c:1131)')))\n"
     ]
    },
    {
     "name": "stderr",
     "output_type": "stream",
     "text": [
      "\r",
      " 58%|███████████████████▏             | 62354/107367 [36:05<20:46:58,  1.66s/it]"
     ]
    },
    {
     "name": "stdout",
     "output_type": "stream",
     "text": [
      "0 HTTPSConnectionPool(host='ir.uitm.edu.my', port=443): Max retries exceeded with url: /id/eprint/21211/1/PPb_NURUL%20AISYAH%20ATAN%20M%20BM%2018_5.pdf (Caused by SSLError(SSLEOFError(8, 'EOF occurred in violation of protocol (_ssl.c:1131)')))\n",
      "1 HTTPSConnectionPool(host='ir.uitm.edu.my', port=443): Max retries exceeded with url: /id/eprint/21211/1/PPb_NURUL%20AISYAH%20ATAN%20M%20BM%2018_5.pdf (Caused by SSLError(SSLEOFError(8, 'EOF occurred in violation of protocol (_ssl.c:1131)')))\n",
      "2 HTTPSConnectionPool(host='ir.uitm.edu.my', port=443): Max retries exceeded with url: /id/eprint/21211/1/PPb_NURUL%20AISYAH%20ATAN%20M%20BM%2018_5.pdf (Caused by SSLError(SSLEOFError(8, 'EOF occurred in violation of protocol (_ssl.c:1131)')))\n"
     ]
    },
    {
     "name": "stderr",
     "output_type": "stream",
     "text": [
      "\r",
      " 58%|███████████████████▏             | 62355/107367 [36:07<20:52:44,  1.67s/it]"
     ]
    },
    {
     "name": "stdout",
     "output_type": "stream",
     "text": [
      "0 HTTPSConnectionPool(host='ir.uitm.edu.my', port=443): Max retries exceeded with url: /id/eprint/21212/1/PPd_AZIM%20MAJID%20EM%2003_5.pdf (Caused by SSLError(SSLEOFError(8, 'EOF occurred in violation of protocol (_ssl.c:1131)')))\n",
      "1 HTTPSConnectionPool(host='ir.uitm.edu.my', port=443): Max retries exceeded with url: /id/eprint/21212/1/PPd_AZIM%20MAJID%20EM%2003_5.pdf (Caused by SSLError(SSLEOFError(8, 'EOF occurred in violation of protocol (_ssl.c:1131)')))\n",
      "2 HTTPSConnectionPool(host='ir.uitm.edu.my', port=443): Max retries exceeded with url: /id/eprint/21212/1/PPd_AZIM%20MAJID%20EM%2003_5.pdf (Caused by SSLError(SSLEOFError(8, 'EOF occurred in violation of protocol (_ssl.c:1131)')))\n"
     ]
    },
    {
     "name": "stderr",
     "output_type": "stream",
     "text": [
      "\r",
      " 58%|███████████████████▏             | 62356/107367 [36:09<20:48:12,  1.66s/it]"
     ]
    },
    {
     "name": "stdout",
     "output_type": "stream",
     "text": [
      "0 HTTPSConnectionPool(host='ir.uitm.edu.my', port=443): Max retries exceeded with url: /id/eprint/21213/1/PPb_NURUL%20AMIRAH%20KHALID%20M%20BM%2018_5.pdf (Caused by SSLError(SSLEOFError(8, 'EOF occurred in violation of protocol (_ssl.c:1131)')))\n",
      "1 HTTPSConnectionPool(host='ir.uitm.edu.my', port=443): Max retries exceeded with url: /id/eprint/21213/1/PPb_NURUL%20AMIRAH%20KHALID%20M%20BM%2018_5.pdf (Caused by SSLError(SSLEOFError(8, 'EOF occurred in violation of protocol (_ssl.c:1131)')))\n",
      "2 HTTPSConnectionPool(host='ir.uitm.edu.my', port=443): Max retries exceeded with url: /id/eprint/21213/1/PPb_NURUL%20AMIRAH%20KHALID%20M%20BM%2018_5.pdf (Caused by SSLError(SSLEOFError(8, 'EOF occurred in violation of protocol (_ssl.c:1131)')))\n"
     ]
    },
    {
     "name": "stderr",
     "output_type": "stream",
     "text": [
      "\r",
      " 58%|███████████████████▏             | 62357/107367 [36:10<20:53:19,  1.67s/it]"
     ]
    },
    {
     "name": "stdout",
     "output_type": "stream",
     "text": [
      "0 ('Connection aborted.', ConnectionResetError(104, 'Connection reset by peer'))\n",
      "1 HTTPSConnectionPool(host='ir.uitm.edu.my', port=443): Max retries exceeded with url: /id/eprint/21214/1/PPb_NURUL%20ATHIRAH%20MOHAMAD%20YADI%20M%20BM%2018_5.pdf (Caused by SSLError(SSLEOFError(8, 'EOF occurred in violation of protocol (_ssl.c:1131)')))\n",
      "2 HTTPSConnectionPool(host='ir.uitm.edu.my', port=443): Max retries exceeded with url: /id/eprint/21214/1/PPb_NURUL%20ATHIRAH%20MOHAMAD%20YADI%20M%20BM%2018_5.pdf (Caused by SSLError(SSLEOFError(8, 'EOF occurred in violation of protocol (_ssl.c:1131)')))\n"
     ]
    },
    {
     "name": "stderr",
     "output_type": "stream",
     "text": [
      "\r",
      " 58%|███████████████████▏             | 62358/107367 [36:12<20:53:28,  1.67s/it]"
     ]
    },
    {
     "name": "stdout",
     "output_type": "stream",
     "text": [
      "0 ('Connection aborted.', ConnectionResetError(104, 'Connection reset by peer'))\n",
      "1 HTTPSConnectionPool(host='ir.uitm.edu.my', port=443): Max retries exceeded with url: /id/eprint/21215/1/PPb_SHUKOR%20ABD%20JALIL%20EM%2003_5.pdf (Caused by SSLError(SSLEOFError(8, 'EOF occurred in violation of protocol (_ssl.c:1131)')))\n",
      "2 HTTPSConnectionPool(host='ir.uitm.edu.my', port=443): Max retries exceeded with url: /id/eprint/21215/1/PPb_SHUKOR%20ABD%20JALIL%20EM%2003_5.pdf (Caused by SSLError(SSLEOFError(8, 'EOF occurred in violation of protocol (_ssl.c:1131)')))\n"
     ]
    },
    {
     "name": "stderr",
     "output_type": "stream",
     "text": [
      "\r",
      " 58%|███████████████████▏             | 62359/107367 [36:14<20:51:42,  1.67s/it]"
     ]
    },
    {
     "name": "stdout",
     "output_type": "stream",
     "text": [
      "0 HTTPSConnectionPool(host='ir.uitm.edu.my', port=443): Max retries exceeded with url: /id/eprint/21216/1/PPb_NURUL%20ATIKAH%20NAZRI%20M%20BM%2018_5.pdf (Caused by SSLError(SSLEOFError(8, 'EOF occurred in violation of protocol (_ssl.c:1131)')))\n",
      "1 ('Connection aborted.', ConnectionResetError(104, 'Connection reset by peer'))\n",
      "2 ('Connection aborted.', ConnectionResetError(104, 'Connection reset by peer'))\n"
     ]
    },
    {
     "name": "stderr",
     "output_type": "stream",
     "text": [
      "\r",
      " 58%|███████████████████▏             | 62360/107367 [36:15<20:54:36,  1.67s/it]"
     ]
    },
    {
     "name": "stdout",
     "output_type": "stream",
     "text": [
      "0 HTTPSConnectionPool(host='ir.uitm.edu.my', port=443): Max retries exceeded with url: /id/eprint/21217/1/PPb_NURUL%20ATIKAH%20ZAINULDIN%20M%20BM%2016_5.pdf (Caused by SSLError(SSLEOFError(8, 'EOF occurred in violation of protocol (_ssl.c:1131)')))\n",
      "1 HTTPSConnectionPool(host='ir.uitm.edu.my', port=443): Max retries exceeded with url: /id/eprint/21217/1/PPb_NURUL%20ATIKAH%20ZAINULDIN%20M%20BM%2016_5.pdf (Caused by SSLError(SSLEOFError(8, 'EOF occurred in violation of protocol (_ssl.c:1131)')))\n",
      "2 ('Connection aborted.', ConnectionResetError(104, 'Connection reset by peer'))\n"
     ]
    },
    {
     "name": "stderr",
     "output_type": "stream",
     "text": [
      "\r",
      " 58%|███████████████████▏             | 62361/107367 [36:17<20:51:02,  1.67s/it]"
     ]
    },
    {
     "name": "stdout",
     "output_type": "stream",
     "text": [
      "0 ('Connection aborted.', ConnectionResetError(104, 'Connection reset by peer'))\n",
      "1 ('Connection aborted.', ConnectionResetError(104, 'Connection reset by peer'))\n",
      "2 ('Connection aborted.', ConnectionResetError(104, 'Connection reset by peer'))\n"
     ]
    },
    {
     "name": "stderr",
     "output_type": "stream",
     "text": [
      "\r",
      " 58%|███████████████████▏             | 62362/107367 [36:19<20:52:40,  1.67s/it]"
     ]
    },
    {
     "name": "stdout",
     "output_type": "stream",
     "text": [
      "0 HTTPSConnectionPool(host='ir.uitm.edu.my', port=443): Max retries exceeded with url: /id/eprint/21219/1/PPb_NURUL%20AZIRA%20ZAINAL%20BIDIN%20M%20BM%2018_5.pdf (Caused by SSLError(SSLEOFError(8, 'EOF occurred in violation of protocol (_ssl.c:1131)')))\n",
      "1 HTTPSConnectionPool(host='ir.uitm.edu.my', port=443): Max retries exceeded with url: /id/eprint/21219/1/PPb_NURUL%20AZIRA%20ZAINAL%20BIDIN%20M%20BM%2018_5.pdf (Caused by SSLError(SSLEOFError(8, 'EOF occurred in violation of protocol (_ssl.c:1131)')))\n",
      "2 HTTPSConnectionPool(host='ir.uitm.edu.my', port=443): Max retries exceeded with url: /id/eprint/21219/1/PPb_NURUL%20AZIRA%20ZAINAL%20BIDIN%20M%20BM%2018_5.pdf (Caused by SSLError(SSLEOFError(8, 'EOF occurred in violation of protocol (_ssl.c:1131)')))\n"
     ]
    },
    {
     "name": "stderr",
     "output_type": "stream",
     "text": [
      "\r",
      " 58%|███████████████████▏             | 62363/107367 [36:20<20:50:04,  1.67s/it]"
     ]
    },
    {
     "name": "stdout",
     "output_type": "stream",
     "text": [
      "0 ('Connection aborted.', ConnectionResetError(104, 'Connection reset by peer'))\n",
      "1 HTTPSConnectionPool(host='ir.uitm.edu.my', port=443): Max retries exceeded with url: /id/eprint/21220/7/PPb_NURUL%20AZWA%20EZZUREN%20ZULKIFLI%20M%20BM%2018_5.pdf (Caused by SSLError(SSLEOFError(8, 'EOF occurred in violation of protocol (_ssl.c:1131)')))\n",
      "2 HTTPSConnectionPool(host='ir.uitm.edu.my', port=443): Max retries exceeded with url: /id/eprint/21220/7/PPb_NURUL%20AZWA%20EZZUREN%20ZULKIFLI%20M%20BM%2018_5.pdf (Caused by SSLError(SSLEOFError(8, 'EOF occurred in violation of protocol (_ssl.c:1131)')))\n"
     ]
    },
    {
     "name": "stderr",
     "output_type": "stream",
     "text": [
      "\r",
      " 58%|███████████████████▏             | 62364/107367 [36:22<20:46:25,  1.66s/it]"
     ]
    },
    {
     "name": "stdout",
     "output_type": "stream",
     "text": [
      "0 HTTPSConnectionPool(host='ir.uitm.edu.my', port=443): Max retries exceeded with url: /id/eprint/21221/1/PPb_NURUL%20FARHANA%20MOHAMED%20M%20BM%2018_5.pdf (Caused by SSLError(SSLEOFError(8, 'EOF occurred in violation of protocol (_ssl.c:1131)')))\n",
      "1 HTTPSConnectionPool(host='ir.uitm.edu.my', port=443): Max retries exceeded with url: /id/eprint/21221/1/PPb_NURUL%20FARHANA%20MOHAMED%20M%20BM%2018_5.pdf (Caused by SSLError(SSLEOFError(8, 'EOF occurred in violation of protocol (_ssl.c:1131)')))\n",
      "2 HTTPSConnectionPool(host='ir.uitm.edu.my', port=443): Max retries exceeded with url: /id/eprint/21221/1/PPb_NURUL%20FARHANA%20MOHAMED%20M%20BM%2018_5.pdf (Caused by SSLError(SSLEOFError(8, 'EOF occurred in violation of protocol (_ssl.c:1131)')))\n"
     ]
    },
    {
     "name": "stderr",
     "output_type": "stream",
     "text": [
      "\r",
      " 58%|███████████████████▏             | 62365/107367 [36:24<20:46:24,  1.66s/it]"
     ]
    },
    {
     "name": "stdout",
     "output_type": "stream",
     "text": [
      "0 HTTPSConnectionPool(host='ir.uitm.edu.my', port=443): Max retries exceeded with url: /id/eprint/21222/1/PPb_NURUL%20FATIHAH%20NOORAFUDDIN%20M%20BM%2018_5.pdf (Caused by SSLError(SSLEOFError(8, 'EOF occurred in violation of protocol (_ssl.c:1131)')))\n",
      "1 HTTPSConnectionPool(host='ir.uitm.edu.my', port=443): Max retries exceeded with url: /id/eprint/21222/1/PPb_NURUL%20FATIHAH%20NOORAFUDDIN%20M%20BM%2018_5.pdf (Caused by SSLError(SSLEOFError(8, 'EOF occurred in violation of protocol (_ssl.c:1131)')))\n",
      "2 ('Connection aborted.', ConnectionResetError(104, 'Connection reset by peer'))\n"
     ]
    },
    {
     "name": "stderr",
     "output_type": "stream",
     "text": [
      "\r",
      " 58%|███████████████████▏             | 62366/107367 [36:25<20:46:57,  1.66s/it]"
     ]
    },
    {
     "name": "stdout",
     "output_type": "stream",
     "text": [
      "0 HTTPSConnectionPool(host='ir.uitm.edu.my', port=443): Max retries exceeded with url: /id/eprint/21223/1/PPb_NURUL%20HAFIZAH%20ISHAK%20M%20BM%2015_5.pdf (Caused by SSLError(SSLEOFError(8, 'EOF occurred in violation of protocol (_ssl.c:1131)')))\n",
      "1 HTTPSConnectionPool(host='ir.uitm.edu.my', port=443): Max retries exceeded with url: /id/eprint/21223/1/PPb_NURUL%20HAFIZAH%20ISHAK%20M%20BM%2015_5.pdf (Caused by SSLError(SSLEOFError(8, 'EOF occurred in violation of protocol (_ssl.c:1131)')))\n",
      "2 HTTPSConnectionPool(host='ir.uitm.edu.my', port=443): Max retries exceeded with url: /id/eprint/21223/1/PPb_NURUL%20HAFIZAH%20ISHAK%20M%20BM%2015_5.pdf (Caused by SSLError(SSLEOFError(8, 'EOF occurred in violation of protocol (_ssl.c:1131)')))\n"
     ]
    },
    {
     "name": "stderr",
     "output_type": "stream",
     "text": [
      "\r",
      " 58%|███████████████████▏             | 62367/107367 [36:27<20:47:16,  1.66s/it]"
     ]
    },
    {
     "name": "stdout",
     "output_type": "stream",
     "text": [
      "0 HTTPSConnectionPool(host='ir.uitm.edu.my', port=443): Max retries exceeded with url: /id/eprint/21224/1/LP_ROSMAH%20ABDUL%20LATIF%20RMI%2006_5.pdf (Caused by SSLError(SSLEOFError(8, 'EOF occurred in violation of protocol (_ssl.c:1131)')))\n",
      "1 ('Connection aborted.', ConnectionResetError(104, 'Connection reset by peer'))\n",
      "2 ('Connection aborted.', ConnectionResetError(104, 'Connection reset by peer'))\n"
     ]
    },
    {
     "name": "stderr",
     "output_type": "stream",
     "text": [
      "\r",
      " 58%|███████████████████▏             | 62368/107367 [36:29<20:46:10,  1.66s/it]"
     ]
    },
    {
     "name": "stdout",
     "output_type": "stream",
     "text": [
      "0 HTTPSConnectionPool(host='ir.uitm.edu.my', port=443): Max retries exceeded with url: /id/eprint/21225/1/LP_ROSZANA%20TAPSIR%20RMI%2012_5.pdf (Caused by SSLError(SSLEOFError(8, 'EOF occurred in violation of protocol (_ssl.c:1131)')))\n",
      "1 HTTPSConnectionPool(host='ir.uitm.edu.my', port=443): Max retries exceeded with url: /id/eprint/21225/1/LP_ROSZANA%20TAPSIR%20RMI%2012_5.pdf (Caused by SSLError(SSLEOFError(8, 'EOF occurred in violation of protocol (_ssl.c:1131)')))\n",
      "2 HTTPSConnectionPool(host='ir.uitm.edu.my', port=443): Max retries exceeded with url: /id/eprint/21225/1/LP_ROSZANA%20TAPSIR%20RMI%2012_5.pdf (Caused by SSLError(SSLEOFError(8, 'EOF occurred in violation of protocol (_ssl.c:1131)')))\n"
     ]
    },
    {
     "name": "stderr",
     "output_type": "stream",
     "text": [
      "\r",
      " 58%|███████████████████▏             | 62369/107367 [36:30<20:56:16,  1.68s/it]"
     ]
    },
    {
     "name": "stdout",
     "output_type": "stream",
     "text": [
      "0 ('Connection aborted.', ConnectionResetError(104, 'Connection reset by peer'))\n",
      "1 HTTPSConnectionPool(host='ir.uitm.edu.my', port=443): Max retries exceeded with url: /id/eprint/21226/1/LP_ROZITA%20MENGEN%20RMI%2010_5.pdf (Caused by SSLError(SSLEOFError(8, 'EOF occurred in violation of protocol (_ssl.c:1131)')))\n",
      "2 HTTPSConnectionPool(host='ir.uitm.edu.my', port=443): Max retries exceeded with url: /id/eprint/21226/1/LP_ROZITA%20MENGEN%20RMI%2010_5.pdf (Caused by SSLError(SSLEOFError(8, 'EOF occurred in violation of protocol (_ssl.c:1131)')))\n"
     ]
    },
    {
     "name": "stderr",
     "output_type": "stream",
     "text": [
      "\r",
      " 58%|███████████████████▏             | 62370/107367 [36:32<20:52:22,  1.67s/it]"
     ]
    },
    {
     "name": "stdout",
     "output_type": "stream",
     "text": [
      "0 HTTPSConnectionPool(host='ir.uitm.edu.my', port=443): Max retries exceeded with url: /id/eprint/21227/1/PPb_NURUL%20MASTURAH%20MAHAYUDDIN%20M%20BM%2018_5.pdf (Caused by SSLError(SSLEOFError(8, 'EOF occurred in violation of protocol (_ssl.c:1131)')))\n",
      "1 HTTPSConnectionPool(host='ir.uitm.edu.my', port=443): Max retries exceeded with url: /id/eprint/21227/1/PPb_NURUL%20MASTURAH%20MAHAYUDDIN%20M%20BM%2018_5.pdf (Caused by SSLError(SSLEOFError(8, 'EOF occurred in violation of protocol (_ssl.c:1131)')))\n",
      "2 HTTPSConnectionPool(host='ir.uitm.edu.my', port=443): Max retries exceeded with url: /id/eprint/21227/1/PPb_NURUL%20MASTURAH%20MAHAYUDDIN%20M%20BM%2018_5.pdf (Caused by SSLError(SSLEOFError(8, 'EOF occurred in violation of protocol (_ssl.c:1131)')))\n"
     ]
    },
    {
     "name": "stderr",
     "output_type": "stream",
     "text": [
      "\r",
      " 58%|███████████████████▏             | 62371/107367 [36:34<20:51:35,  1.67s/it]"
     ]
    },
    {
     "name": "stdout",
     "output_type": "stream",
     "text": [
      "0 HTTPSConnectionPool(host='ir.uitm.edu.my', port=443): Max retries exceeded with url: /id/eprint/21228/1/LP_SARMINAH%20SAMAD%20RMI%2013_5.pdf (Caused by SSLError(SSLEOFError(8, 'EOF occurred in violation of protocol (_ssl.c:1131)')))\n",
      "1 HTTPSConnectionPool(host='ir.uitm.edu.my', port=443): Max retries exceeded with url: /id/eprint/21228/1/LP_SARMINAH%20SAMAD%20RMI%2013_5.pdf (Caused by SSLError(SSLEOFError(8, 'EOF occurred in violation of protocol (_ssl.c:1131)')))\n",
      "2 HTTPSConnectionPool(host='ir.uitm.edu.my', port=443): Max retries exceeded with url: /id/eprint/21228/1/LP_SARMINAH%20SAMAD%20RMI%2013_5.pdf (Caused by SSLError(SSLEOFError(8, 'EOF occurred in violation of protocol (_ssl.c:1131)')))\n"
     ]
    },
    {
     "name": "stderr",
     "output_type": "stream",
     "text": [
      "\r",
      " 58%|███████████████████▏             | 62372/107367 [36:35<20:47:51,  1.66s/it]"
     ]
    },
    {
     "name": "stdout",
     "output_type": "stream",
     "text": [
      "0 HTTPSConnectionPool(host='ir.uitm.edu.my', port=443): Max retries exceeded with url: /id/eprint/21229/1/LP_SUHAILA%20ALI%20RMI%2011_5.pdf (Caused by SSLError(SSLEOFError(8, 'EOF occurred in violation of protocol (_ssl.c:1131)')))\n",
      "1 ('Connection aborted.', ConnectionResetError(104, 'Connection reset by peer'))\n",
      "2 HTTPSConnectionPool(host='ir.uitm.edu.my', port=443): Max retries exceeded with url: /id/eprint/21229/1/LP_SUHAILA%20ALI%20RMI%2011_5.pdf (Caused by SSLError(SSLEOFError(8, 'EOF occurred in violation of protocol (_ssl.c:1131)')))\n"
     ]
    },
    {
     "name": "stderr",
     "output_type": "stream",
     "text": [
      "\r",
      " 58%|███████████████████▏             | 62373/107367 [36:37<20:45:03,  1.66s/it]"
     ]
    },
    {
     "name": "stdout",
     "output_type": "stream",
     "text": [
      "0 HTTPSConnectionPool(host='ir.uitm.edu.my', port=443): Max retries exceeded with url: /id/eprint/21272/1/PPb_ZUBIR%20SAYUTI%20EC%20P%2007_5.pdf (Caused by SSLError(SSLEOFError(8, 'EOF occurred in violation of protocol (_ssl.c:1131)')))\n",
      "1 HTTPSConnectionPool(host='ir.uitm.edu.my', port=443): Max retries exceeded with url: /id/eprint/21272/1/PPb_ZUBIR%20SAYUTI%20EC%20P%2007_5.pdf (Caused by SSLError(SSLEOFError(8, 'EOF occurred in violation of protocol (_ssl.c:1131)')))\n",
      "2 ('Connection aborted.', ConnectionResetError(104, 'Connection reset by peer'))\n"
     ]
    },
    {
     "name": "stderr",
     "output_type": "stream",
     "text": [
      "\r",
      " 58%|███████████████████▊              | 62405/107367 [36:39<2:00:49,  6.20it/s]"
     ]
    },
    {
     "name": "stdout",
     "output_type": "stream",
     "text": [
      "0 HTTPSConnectionPool(host='ir.uitm.edu.my', port=443): Max retries exceeded with url: /id/eprint/21275/1/PPb_RAYMI%20ARIP%20EC%20P%2007_5.pdf (Caused by SSLError(SSLEOFError(8, 'EOF occurred in violation of protocol (_ssl.c:1131)')))\n",
      "1 HTTPSConnectionPool(host='ir.uitm.edu.my', port=443): Max retries exceeded with url: /id/eprint/21275/1/PPb_RAYMI%20ARIP%20EC%20P%2007_5.pdf (Caused by SSLError(SSLEOFError(8, 'EOF occurred in violation of protocol (_ssl.c:1131)')))\n",
      "2 ('Connection aborted.', ConnectionResetError(104, 'Connection reset by peer'))\n"
     ]
    },
    {
     "name": "stderr",
     "output_type": "stream",
     "text": [
      "\r",
      " 58%|███████████████████▊              | 62408/107367 [36:40<2:33:53,  4.87it/s]"
     ]
    },
    {
     "name": "stdout",
     "output_type": "stream",
     "text": [
      "0 HTTPSConnectionPool(host='ir.uitm.edu.my', port=443): Max retries exceeded with url: /id/eprint/21635/1/PPb_KHAIRULNIZAM%20MD%20YASIN%20EC%20P%2006_5.pdf (Caused by SSLError(SSLEOFError(8, 'EOF occurred in violation of protocol (_ssl.c:1131)')))\n",
      "1 ('Connection aborted.', ConnectionResetError(104, 'Connection reset by peer'))\n",
      "2 HTTPSConnectionPool(host='ir.uitm.edu.my', port=443): Max retries exceeded with url: /id/eprint/21635/1/PPb_KHAIRULNIZAM%20MD%20YASIN%20EC%20P%2006_5.pdf (Caused by SSLError(SSLEOFError(8, 'EOF occurred in violation of protocol (_ssl.c:1131)')))\n"
     ]
    },
    {
     "name": "stderr",
     "output_type": "stream",
     "text": [
      "\r",
      " 58%|█████████████████████               | 62696/107367 [36:42<13:28, 55.25it/s]"
     ]
    },
    {
     "name": "stdout",
     "output_type": "stream",
     "text": [
      "0 HTTPSConnectionPool(host='ir.uitm.edu.my', port=443): Max retries exceeded with url: /id/eprint/21639/1/PPb_MUSTAN%20APO%20EC%20P%2006.pdf (Caused by SSLError(SSLEOFError(8, 'EOF occurred in violation of protocol (_ssl.c:1131)')))\n",
      "1 HTTPSConnectionPool(host='ir.uitm.edu.my', port=443): Max retries exceeded with url: /id/eprint/21639/1/PPb_MUSTAN%20APO%20EC%20P%2006.pdf (Caused by SSLError(SSLEOFError(8, 'EOF occurred in violation of protocol (_ssl.c:1131)')))\n",
      "2 HTTPSConnectionPool(host='ir.uitm.edu.my', port=443): Max retries exceeded with url: /id/eprint/21639/1/PPb_MUSTAN%20APO%20EC%20P%2006.pdf (Caused by SSLError(SSLEOFError(8, 'EOF occurred in violation of protocol (_ssl.c:1131)')))\n"
     ]
    },
    {
     "name": "stderr",
     "output_type": "stream",
     "text": [
      "\r",
      " 58%|█████████████████████               | 62702/107367 [36:44<18:48, 39.56it/s]"
     ]
    },
    {
     "name": "stdout",
     "output_type": "stream",
     "text": [
      "0 HTTPSConnectionPool(host='ir.uitm.edu.my', port=443): Max retries exceeded with url: /id/eprint/21652/1/PPb_NOR%20AKMAL%20TARMIZI%20EC%20P%2006_5.pdf (Caused by SSLError(SSLEOFError(8, 'EOF occurred in violation of protocol (_ssl.c:1131)')))\n",
      "1 HTTPSConnectionPool(host='ir.uitm.edu.my', port=443): Max retries exceeded with url: /id/eprint/21652/1/PPb_NOR%20AKMAL%20TARMIZI%20EC%20P%2006_5.pdf (Caused by SSLError(SSLEOFError(8, 'EOF occurred in violation of protocol (_ssl.c:1131)')))\n",
      "2 HTTPSConnectionPool(host='ir.uitm.edu.my', port=443): Max retries exceeded with url: /id/eprint/21652/1/PPb_NOR%20AKMAL%20TARMIZI%20EC%20P%2006_5.pdf (Caused by SSLError(SSLEOFError(8, 'EOF occurred in violation of protocol (_ssl.c:1131)')))\n"
     ]
    },
    {
     "name": "stderr",
     "output_type": "stream",
     "text": [
      "\r",
      " 58%|█████████████████████               | 62713/107367 [36:45<25:04, 29.68it/s]"
     ]
    },
    {
     "name": "stdout",
     "output_type": "stream",
     "text": [
      "0 HTTPSConnectionPool(host='ir.uitm.edu.my', port=443): Max retries exceeded with url: /id/eprint/21672/1/TM_MOHD%20ZULFADLI%20MOHD%20HANIB%20LW%2017_5.pdf (Caused by SSLError(SSLEOFError(8, 'EOF occurred in violation of protocol (_ssl.c:1131)')))\n",
      "1 ('Connection aborted.', ConnectionResetError(104, 'Connection reset by peer'))\n",
      "2 ('Connection aborted.', ConnectionResetError(104, 'Connection reset by peer'))\n"
     ]
    },
    {
     "name": "stderr",
     "output_type": "stream",
     "text": [
      "\r",
      " 58%|█████████████████████               | 62733/107367 [36:47<30:29, 24.40it/s]"
     ]
    },
    {
     "name": "stdout",
     "output_type": "stream",
     "text": [
      "0 HTTPSConnectionPool(host='ir.uitm.edu.my', port=443): Max retries exceeded with url: /id/eprint/21832/1/TD_NOR%20IFFAH%20MOHAMAD%20RIZAL%20M%20AD%2018_5.pdf (Caused by SSLError(SSLEOFError(8, 'EOF occurred in violation of protocol (_ssl.c:1131)')))\n",
      "1 HTTPSConnectionPool(host='ir.uitm.edu.my', port=443): Max retries exceeded with url: /id/eprint/21832/1/TD_NOR%20IFFAH%20MOHAMAD%20RIZAL%20M%20AD%2018_5.pdf (Caused by SSLError(SSLEOFError(8, 'EOF occurred in violation of protocol (_ssl.c:1131)')))\n",
      "2 ('Connection aborted.', ConnectionResetError(104, 'Connection reset by peer'))\n"
     ]
    },
    {
     "name": "stderr",
     "output_type": "stream",
     "text": [
      "\r",
      " 59%|█████████████████████               | 62872/107367 [36:49<17:35, 42.16it/s]"
     ]
    },
    {
     "name": "stdout",
     "output_type": "stream",
     "text": [
      "0 ('Connection aborted.', ConnectionResetError(104, 'Connection reset by peer'))\n",
      "1 HTTPSConnectionPool(host='ir.uitm.edu.my', port=443): Max retries exceeded with url: /id/eprint/21833/1/TD_NORRAZIN%20NOR%20RASHID%20M%20AD%2017_5.pdf (Caused by SSLError(SSLEOFError(8, 'EOF occurred in violation of protocol (_ssl.c:1131)')))\n",
      "2 HTTPSConnectionPool(host='ir.uitm.edu.my', port=443): Max retries exceeded with url: /id/eprint/21833/1/TD_NORRAZIN%20NOR%20RASHID%20M%20AD%2017_5.pdf (Caused by SSLError(SSLEOFError(8, 'EOF occurred in violation of protocol (_ssl.c:1131)')))\n"
     ]
    },
    {
     "name": "stderr",
     "output_type": "stream",
     "text": [
      "\r",
      " 59%|█████████████████████               | 62877/107367 [36:50<24:18, 30.50it/s]"
     ]
    },
    {
     "name": "stdout",
     "output_type": "stream",
     "text": [
      "0 HTTPSConnectionPool(host='ir.uitm.edu.my', port=443): Max retries exceeded with url: /id/eprint/21881/1/TD_NURULAIN%20MOHAMAD%20MUKHRI%20M%20AD%2018_5.pdf (Caused by SSLError(SSLEOFError(8, 'EOF occurred in violation of protocol (_ssl.c:1131)')))\n",
      "1 HTTPSConnectionPool(host='ir.uitm.edu.my', port=443): Max retries exceeded with url: /id/eprint/21881/1/TD_NURULAIN%20MOHAMAD%20MUKHRI%20M%20AD%2018_5.pdf (Caused by SSLError(SSLEOFError(8, 'EOF occurred in violation of protocol (_ssl.c:1131)')))\n",
      "2 HTTPSConnectionPool(host='ir.uitm.edu.my', port=443): Max retries exceeded with url: /id/eprint/21881/1/TD_NURULAIN%20MOHAMAD%20MUKHRI%20M%20AD%2018_5.pdf (Caused by SSLError(SSLEOFError(8, 'EOF occurred in violation of protocol (_ssl.c:1131)')))\n"
     ]
    },
    {
     "name": "stderr",
     "output_type": "stream",
     "text": [
      "\r",
      " 59%|█████████████████████               | 62897/107367 [36:52<29:44, 24.92it/s]"
     ]
    },
    {
     "name": "stdout",
     "output_type": "stream",
     "text": [
      "0 HTTPSConnectionPool(host='ir.uitm.edu.my', port=443): Max retries exceeded with url: /id/eprint/220/1/AJ_ZUNAIDAH%20SULONG%20MAR%2008.pdf (Caused by SSLError(SSLEOFError(8, 'EOF occurred in violation of protocol (_ssl.c:1131)')))\n",
      "1 ('Connection aborted.', ConnectionResetError(104, 'Connection reset by peer'))\n",
      "2 HTTPSConnectionPool(host='ir.uitm.edu.my', port=443): Max retries exceeded with url: /id/eprint/220/1/AJ_ZUNAIDAH%20SULONG%20MAR%2008.pdf (Caused by SSLError(SSLEOFError(8, 'EOF occurred in violation of protocol (_ssl.c:1131)')))\n"
     ]
    },
    {
     "name": "stderr",
     "output_type": "stream",
     "text": [
      "\r",
      " 59%|█████████████████████               | 62960/107367 [36:54<25:40, 28.82it/s]"
     ]
    },
    {
     "name": "stdout",
     "output_type": "stream",
     "text": [
      "0 HTTPSConnectionPool(host='ir.uitm.edu.my', port=443): Max retries exceeded with url: /id/eprint/22083/1/AJ_TAN%20CHEE%20HIAN%20MJSSR%20SR%2011.pdf (Caused by SSLError(SSLEOFError(8, 'EOF occurred in violation of protocol (_ssl.c:1131)')))\n",
      "1 ('Connection aborted.', ConnectionResetError(104, 'Connection reset by peer'))\n",
      "2 ('Connection aborted.', ConnectionResetError(104, 'Connection reset by peer'))\n"
     ]
    },
    {
     "name": "stderr",
     "output_type": "stream",
     "text": [
      "\r",
      " 59%|█████████████████████▏              | 63017/107367 [36:55<24:26, 30.23it/s]"
     ]
    },
    {
     "name": "stdout",
     "output_type": "stream",
     "text": [
      "0 ('Connection aborted.', ConnectionResetError(104, 'Connection reset by peer'))\n",
      "1 HTTPSConnectionPool(host='ir.uitm.edu.my', port=443): Max retries exceeded with url: /id/eprint/222/1/AJ_JEFFREY%20FAUX%20MAR%2008.pdf (Caused by SSLError(SSLEOFError(8, 'EOF occurred in violation of protocol (_ssl.c:1131)')))\n",
      "2 ('Connection aborted.', ConnectionResetError(104, 'Connection reset by peer'))\n"
     ]
    },
    {
     "name": "stderr",
     "output_type": "stream",
     "text": [
      "\r",
      " 59%|█████████████████████▏              | 63123/107367 [36:57<18:21, 40.15it/s]"
     ]
    },
    {
     "name": "stdout",
     "output_type": "stream",
     "text": [
      "0 HTTPSConnectionPool(host='ir.uitm.edu.my', port=443): Max retries exceeded with url: /id/eprint/22283/1/TD_NUR%20HIDAYAH%20BASRI%20HS%20B%2015_5.pdf (Caused by SSLError(SSLEOFError(8, 'EOF occurred in violation of protocol (_ssl.c:1131)')))\n",
      "1 HTTPSConnectionPool(host='ir.uitm.edu.my', port=443): Max retries exceeded with url: /id/eprint/22283/1/TD_NUR%20HIDAYAH%20BASRI%20HS%20B%2015_5.pdf (Caused by SSLError(SSLEOFError(8, 'EOF occurred in violation of protocol (_ssl.c:1131)')))\n",
      "2 HTTPSConnectionPool(host='ir.uitm.edu.my', port=443): Max retries exceeded with url: /id/eprint/22283/1/TD_NUR%20HIDAYAH%20BASRI%20HS%20B%2015_5.pdf (Caused by SSLError(SSLEOFError(8, 'EOF occurred in violation of protocol (_ssl.c:1131)')))\n"
     ]
    },
    {
     "name": "stderr",
     "output_type": "stream",
     "text": [
      "\r",
      " 59%|█████████████████████▏              | 63201/107367 [36:59<18:04, 40.72it/s]"
     ]
    },
    {
     "name": "stdout",
     "output_type": "stream",
     "text": [
      "0 HTTPSConnectionPool(host='ir.uitm.edu.my', port=443): Max retries exceeded with url: /id/eprint/22286/1/TD_NURUL%20HAZIRAH%20MOHTHAR%20HS%20B%2015_5.pdf (Caused by SSLError(SSLEOFError(8, 'EOF occurred in violation of protocol (_ssl.c:1131)')))\n",
      "1 HTTPSConnectionPool(host='ir.uitm.edu.my', port=443): Max retries exceeded with url: /id/eprint/22286/1/TD_NURUL%20HAZIRAH%20MOHTHAR%20HS%20B%2015_5.pdf (Caused by SSLError(SSLEOFError(8, 'EOF occurred in violation of protocol (_ssl.c:1131)')))\n",
      "2 HTTPSConnectionPool(host='ir.uitm.edu.my', port=443): Max retries exceeded with url: /id/eprint/22286/1/TD_NURUL%20HAZIRAH%20MOHTHAR%20HS%20B%2015_5.pdf (Caused by SSLError(SSLEOFError(8, 'EOF occurred in violation of protocol (_ssl.c:1131)')))\n"
     ]
    },
    {
     "name": "stderr",
     "output_type": "stream",
     "text": [
      "\r",
      " 59%|█████████████████████▏              | 63206/107367 [37:01<24:51, 29.61it/s]"
     ]
    },
    {
     "name": "stdout",
     "output_type": "stream",
     "text": [
      "0 HTTPSConnectionPool(host='ir.uitm.edu.my', port=443): Max retries exceeded with url: /id/eprint/22297/1/PPb_FARAH%20NASUHA%20MD%20ZAKI%20HS%2015_5.pdf (Caused by SSLError(SSLEOFError(8, 'EOF occurred in violation of protocol (_ssl.c:1131)')))\n",
      "1 ('Connection aborted.', ConnectionResetError(104, 'Connection reset by peer'))\n",
      "2 HTTPSConnectionPool(host='ir.uitm.edu.my', port=443): Max retries exceeded with url: /id/eprint/22297/1/PPb_FARAH%20NASUHA%20MD%20ZAKI%20HS%2015_5.pdf (Caused by SSLError(SSLEOFError(8, 'EOF occurred in violation of protocol (_ssl.c:1131)')))\n"
     ]
    },
    {
     "name": "stderr",
     "output_type": "stream",
     "text": [
      "\r",
      " 59%|█████████████████████▏              | 63214/107367 [37:02<32:59, 22.31it/s]"
     ]
    },
    {
     "name": "stdout",
     "output_type": "stream",
     "text": [
      "0 ('Connection aborted.', ConnectionResetError(104, 'Connection reset by peer'))\n",
      "1 HTTPSConnectionPool(host='ir.uitm.edu.my', port=443): Max retries exceeded with url: /id/eprint/223/1/AJ_AMRIZAH%20KAMALUDDIN%20MAR%2009.pdf (Caused by SSLError(SSLEOFError(8, 'EOF occurred in violation of protocol (_ssl.c:1131)')))\n",
      "2 HTTPSConnectionPool(host='ir.uitm.edu.my', port=443): Max retries exceeded with url: /id/eprint/223/1/AJ_AMRIZAH%20KAMALUDDIN%20MAR%2009.pdf (Caused by SSLError(SSLEOFError(8, 'EOF occurred in violation of protocol (_ssl.c:1131)')))\n"
     ]
    },
    {
     "name": "stderr",
     "output_type": "stream",
     "text": [
      "\r",
      " 59%|█████████████████████▏              | 63217/107367 [37:04<45:17, 16.25it/s]"
     ]
    },
    {
     "name": "stdout",
     "output_type": "stream",
     "text": [
      "0 HTTPSConnectionPool(host='ir.uitm.edu.my', port=443): Max retries exceeded with url: /id/eprint/2247/1/TD_NUR%20AMIRAH%20MOHD%20NOOR%20AZAMI%20PH%2010_5.pdf (Caused by SSLError(SSLEOFError(8, 'EOF occurred in violation of protocol (_ssl.c:1131)')))\n",
      "1 HTTPSConnectionPool(host='ir.uitm.edu.my', port=443): Max retries exceeded with url: /id/eprint/2247/1/TD_NUR%20AMIRAH%20MOHD%20NOOR%20AZAMI%20PH%2010_5.pdf (Caused by SSLError(SSLEOFError(8, 'EOF occurred in violation of protocol (_ssl.c:1131)')))\n",
      "2 ('Connection aborted.', ConnectionResetError(104, 'Connection reset by peer'))\n"
     ]
    },
    {
     "name": "stderr",
     "output_type": "stream",
     "text": [
      "\r",
      " 59%|█████████████████████▏              | 63318/107367 [37:06<24:53, 29.49it/s]"
     ]
    },
    {
     "name": "stdout",
     "output_type": "stream",
     "text": [
      "0 HTTPSConnectionPool(host='ir.uitm.edu.my', port=443): Max retries exceeded with url: /id/eprint/22538/1/22538.pdf (Caused by SSLError(SSLEOFError(8, 'EOF occurred in violation of protocol (_ssl.c:1131)')))\n",
      "1 HTTPSConnectionPool(host='ir.uitm.edu.my', port=443): Max retries exceeded with url: /id/eprint/22538/1/22538.pdf (Caused by SSLError(SSLEOFError(8, 'EOF occurred in violation of protocol (_ssl.c:1131)')))\n",
      "2 HTTPSConnectionPool(host='ir.uitm.edu.my', port=443): Max retries exceeded with url: /id/eprint/22538/1/22538.pdf (Caused by SSLError(SSLEOFError(8, 'EOF occurred in violation of protocol (_ssl.c:1131)')))\n"
     ]
    },
    {
     "name": "stderr",
     "output_type": "stream",
     "text": [
      "\r",
      " 59%|█████████████████████▏              | 63356/107367 [37:07<26:40, 27.50it/s]"
     ]
    },
    {
     "name": "stdout",
     "output_type": "stream",
     "text": [
      "0 ('Connection aborted.', ConnectionResetError(104, 'Connection reset by peer'))\n",
      "1 HTTPSConnectionPool(host='ir.uitm.edu.my', port=443): Max retries exceeded with url: /id/eprint/22546/1/22546.pdf (Caused by SSLError(SSLEOFError(8, 'EOF occurred in violation of protocol (_ssl.c:1131)')))\n",
      "2 ('Connection aborted.', ConnectionResetError(104, 'Connection reset by peer'))\n"
     ]
    },
    {
     "name": "stderr",
     "output_type": "stream",
     "text": [
      "\r",
      " 59%|█████████████████████▏              | 63364/107367 [37:09<35:20, 20.75it/s]"
     ]
    },
    {
     "name": "stdout",
     "output_type": "stream",
     "text": [
      "0 HTTPSConnectionPool(host='ir.uitm.edu.my', port=443): Max retries exceeded with url: /id/eprint/22548/1/22548.pdf (Caused by SSLError(SSLEOFError(8, 'EOF occurred in violation of protocol (_ssl.c:1131)')))\n",
      "1 HTTPSConnectionPool(host='ir.uitm.edu.my', port=443): Max retries exceeded with url: /id/eprint/22548/1/22548.pdf (Caused by SSLError(SSLEOFError(8, 'EOF occurred in violation of protocol (_ssl.c:1131)')))\n",
      "2 HTTPSConnectionPool(host='ir.uitm.edu.my', port=443): Max retries exceeded with url: /id/eprint/22548/1/22548.pdf (Caused by SSLError(SSLEOFError(8, 'EOF occurred in violation of protocol (_ssl.c:1131)')))\n",
      "0 HTTPSConnectionPool(host='ir.uitm.edu.my', port=443): Max retries exceeded with url: /id/eprint/22549/1/22549.pdf (Caused by SSLError(SSLEOFError(8, 'EOF occurred in violation of protocol (_ssl.c:1131)')))\n",
      "1 HTTPSConnectionPool(host='ir.uitm.edu.my', port=443): Max retries exceeded with url: /id/eprint/22549/1/22549.pdf (Caused by SSLError(SSLEOFError(8, 'EOF occurred in violation of protocol (_ssl.c:1131)')))\n",
      "2 HTTPSConnectionPool(host='ir.uitm.edu.my', port=443): Max retries exceeded with url: /id/eprint/22549/1/22549.pdf (Caused by SSLError(SSLEOFError(8, 'EOF occurred in violation of protocol (_ssl.c:1131)')))\n"
     ]
    },
    {
     "name": "stderr",
     "output_type": "stream",
     "text": [
      "\r",
      " 59%|████████████████████              | 63367/107367 [37:12<1:03:15, 11.59it/s]"
     ]
    },
    {
     "name": "stdout",
     "output_type": "stream",
     "text": [
      "0 HTTPSConnectionPool(host='ir.uitm.edu.my', port=443): Max retries exceeded with url: /id/eprint/22550/1/22550.pdf (Caused by SSLError(SSLEOFError(8, 'EOF occurred in violation of protocol (_ssl.c:1131)')))\n",
      "1 HTTPSConnectionPool(host='ir.uitm.edu.my', port=443): Max retries exceeded with url: /id/eprint/22550/1/22550.pdf (Caused by SSLError(SSLEOFError(8, 'EOF occurred in violation of protocol (_ssl.c:1131)')))\n",
      "2 HTTPSConnectionPool(host='ir.uitm.edu.my', port=443): Max retries exceeded with url: /id/eprint/22550/1/22550.pdf (Caused by SSLError(SSLEOFError(8, 'EOF occurred in violation of protocol (_ssl.c:1131)')))\n",
      "0 HTTPSConnectionPool(host='ir.uitm.edu.my', port=443): Max retries exceeded with url: /id/eprint/22551/1/22551.pdf (Caused by SSLError(SSLEOFError(8, 'EOF occurred in violation of protocol (_ssl.c:1131)')))\n",
      "1 ('Connection aborted.', ConnectionResetError(104, 'Connection reset by peer'))\n",
      "2 HTTPSConnectionPool(host='ir.uitm.edu.my', port=443): Max retries exceeded with url: /id/eprint/22551/1/22551.pdf (Caused by SSLError(SSLEOFError(8, 'EOF occurred in violation of protocol (_ssl.c:1131)')))\n"
     ]
    },
    {
     "name": "stderr",
     "output_type": "stream",
     "text": [
      "\r",
      " 59%|████████████████████              | 63369/107367 [37:16<1:41:23,  7.23it/s]"
     ]
    },
    {
     "name": "stdout",
     "output_type": "stream",
     "text": [
      "0 HTTPSConnectionPool(host='ir.uitm.edu.my', port=443): Max retries exceeded with url: /id/eprint/22552/1/22552.pdf (Caused by SSLError(SSLEOFError(8, 'EOF occurred in violation of protocol (_ssl.c:1131)')))\n",
      "1 ('Connection aborted.', ConnectionResetError(104, 'Connection reset by peer'))\n",
      "2 HTTPSConnectionPool(host='ir.uitm.edu.my', port=443): Max retries exceeded with url: /id/eprint/22552/1/22552.pdf (Caused by SSLError(SSLEOFError(8, 'EOF occurred in violation of protocol (_ssl.c:1131)')))\n"
     ]
    },
    {
     "name": "stderr",
     "output_type": "stream",
     "text": [
      "\r",
      " 59%|████████████████████              | 63371/107367 [37:17<2:03:53,  5.92it/s]"
     ]
    },
    {
     "name": "stdout",
     "output_type": "stream",
     "text": [
      "0 ('Connection aborted.', ConnectionResetError(104, 'Connection reset by peer'))\n",
      "1 HTTPSConnectionPool(host='ir.uitm.edu.my', port=443): Max retries exceeded with url: /id/eprint/22554/1/22554.pdf (Caused by SSLError(SSLEOFError(8, 'EOF occurred in violation of protocol (_ssl.c:1131)')))\n",
      "2 ('Connection aborted.', ConnectionResetError(104, 'Connection reset by peer'))\n"
     ]
    },
    {
     "name": "stderr",
     "output_type": "stream",
     "text": [
      "\r",
      " 59%|████████████████████              | 63372/107367 [37:19<2:37:45,  4.65it/s]"
     ]
    },
    {
     "name": "stdout",
     "output_type": "stream",
     "text": [
      "0 HTTPSConnectionPool(host='ir.uitm.edu.my', port=443): Max retries exceeded with url: /id/eprint/22555/1/22555.pdf (Caused by SSLError(SSLEOFError(8, 'EOF occurred in violation of protocol (_ssl.c:1131)')))\n",
      "1 HTTPSConnectionPool(host='ir.uitm.edu.my', port=443): Max retries exceeded with url: /id/eprint/22555/1/22555.pdf (Caused by SSLError(SSLEOFError(8, 'EOF occurred in violation of protocol (_ssl.c:1131)')))\n",
      "2 HTTPSConnectionPool(host='ir.uitm.edu.my', port=443): Max retries exceeded with url: /id/eprint/22555/1/22555.pdf (Caused by SSLError(SSLEOFError(8, 'EOF occurred in violation of protocol (_ssl.c:1131)')))\n"
     ]
    },
    {
     "name": "stderr",
     "output_type": "stream",
     "text": [
      "\r",
      " 59%|████████████████████              | 63373/107367 [37:21<3:22:58,  3.61it/s]"
     ]
    },
    {
     "name": "stdout",
     "output_type": "stream",
     "text": [
      "0 HTTPSConnectionPool(host='ir.uitm.edu.my', port=443): Max retries exceeded with url: /id/eprint/22556/1/22556.pdf (Caused by SSLError(SSLEOFError(8, 'EOF occurred in violation of protocol (_ssl.c:1131)')))\n",
      "1 HTTPSConnectionPool(host='ir.uitm.edu.my', port=443): Max retries exceeded with url: /id/eprint/22556/1/22556.pdf (Caused by SSLError(SSLEOFError(8, 'EOF occurred in violation of protocol (_ssl.c:1131)')))\n",
      "2 ('Connection aborted.', ConnectionResetError(104, 'Connection reset by peer'))\n"
     ]
    },
    {
     "name": "stderr",
     "output_type": "stream",
     "text": [
      "\r",
      " 59%|████████████████████              | 63374/107367 [37:22<4:20:31,  2.81it/s]"
     ]
    },
    {
     "name": "stdout",
     "output_type": "stream",
     "text": [
      "0 HTTPSConnectionPool(host='ir.uitm.edu.my', port=443): Max retries exceeded with url: /id/eprint/22557/1/22557.pdf (Caused by SSLError(SSLEOFError(8, 'EOF occurred in violation of protocol (_ssl.c:1131)')))\n",
      "1 HTTPSConnectionPool(host='ir.uitm.edu.my', port=443): Max retries exceeded with url: /id/eprint/22557/1/22557.pdf (Caused by SSLError(SSLEOFError(8, 'EOF occurred in violation of protocol (_ssl.c:1131)')))\n",
      "2 HTTPSConnectionPool(host='ir.uitm.edu.my', port=443): Max retries exceeded with url: /id/eprint/22557/1/22557.pdf (Caused by SSLError(SSLEOFError(8, 'EOF occurred in violation of protocol (_ssl.c:1131)')))\n"
     ]
    },
    {
     "name": "stderr",
     "output_type": "stream",
     "text": [
      "\r",
      " 59%|████████████████████              | 63375/107367 [37:24<5:32:41,  2.20it/s]"
     ]
    },
    {
     "name": "stdout",
     "output_type": "stream",
     "text": [
      "0 HTTPSConnectionPool(host='ir.uitm.edu.my', port=443): Max retries exceeded with url: /id/eprint/22558/1/22558.pdf (Caused by SSLError(SSLEOFError(8, 'EOF occurred in violation of protocol (_ssl.c:1131)')))\n",
      "1 HTTPSConnectionPool(host='ir.uitm.edu.my', port=443): Max retries exceeded with url: /id/eprint/22558/1/22558.pdf (Caused by SSLError(SSLEOFError(8, 'EOF occurred in violation of protocol (_ssl.c:1131)')))\n",
      "2 HTTPSConnectionPool(host='ir.uitm.edu.my', port=443): Max retries exceeded with url: /id/eprint/22558/1/22558.pdf (Caused by SSLError(SSLEOFError(8, 'EOF occurred in violation of protocol (_ssl.c:1131)')))\n"
     ]
    },
    {
     "name": "stderr",
     "output_type": "stream",
     "text": [
      "\r",
      " 59%|████████████████████              | 63376/107367 [37:25<6:59:40,  1.75it/s]"
     ]
    },
    {
     "name": "stdout",
     "output_type": "stream",
     "text": [
      "0 HTTPSConnectionPool(host='ir.uitm.edu.my', port=443): Max retries exceeded with url: /id/eprint/22559/1/22559.pdf (Caused by SSLError(SSLEOFError(8, 'EOF occurred in violation of protocol (_ssl.c:1131)')))\n",
      "1 ('Connection aborted.', ConnectionResetError(104, 'Connection reset by peer'))\n",
      "2 HTTPSConnectionPool(host='ir.uitm.edu.my', port=443): Max retries exceeded with url: /id/eprint/22559/1/22559.pdf (Caused by SSLError(SSLEOFError(8, 'EOF occurred in violation of protocol (_ssl.c:1131)')))\n"
     ]
    },
    {
     "name": "stderr",
     "output_type": "stream",
     "text": [
      "\r",
      " 59%|████████████████████              | 63377/107367 [37:27<8:35:52,  1.42it/s]"
     ]
    },
    {
     "name": "stdout",
     "output_type": "stream",
     "text": [
      "0 HTTPSConnectionPool(host='ir.uitm.edu.my', port=443): Max retries exceeded with url: /id/eprint/22562/1/22562.pdf (Caused by SSLError(SSLEOFError(8, 'EOF occurred in violation of protocol (_ssl.c:1131)')))\n",
      "1 ('Connection aborted.', ConnectionResetError(104, 'Connection reset by peer'))\n",
      "2 HTTPSConnectionPool(host='ir.uitm.edu.my', port=443): Max retries exceeded with url: /id/eprint/22562/1/22562.pdf (Caused by SSLError(SSLEOFError(8, 'EOF occurred in violation of protocol (_ssl.c:1131)')))\n"
     ]
    },
    {
     "name": "stderr",
     "output_type": "stream",
     "text": [
      "\r",
      " 59%|███████████████████▍             | 63378/107367 [37:29<10:19:20,  1.18it/s]"
     ]
    },
    {
     "name": "stdout",
     "output_type": "stream",
     "text": [
      "0 HTTPSConnectionPool(host='ir.uitm.edu.my', port=443): Max retries exceeded with url: /id/eprint/22563/1/22563.pdf (Caused by SSLError(SSLEOFError(8, 'EOF occurred in violation of protocol (_ssl.c:1131)')))\n",
      "1 HTTPSConnectionPool(host='ir.uitm.edu.my', port=443): Max retries exceeded with url: /id/eprint/22563/1/22563.pdf (Caused by SSLError(SSLEOFError(8, 'EOF occurred in violation of protocol (_ssl.c:1131)')))\n",
      "2 HTTPSConnectionPool(host='ir.uitm.edu.my', port=443): Max retries exceeded with url: /id/eprint/22563/1/22563.pdf (Caused by SSLError(SSLEOFError(8, 'EOF occurred in violation of protocol (_ssl.c:1131)')))\n"
     ]
    },
    {
     "name": "stderr",
     "output_type": "stream",
     "text": [
      "\r",
      " 59%|███████████████████▍             | 63379/107367 [37:30<12:04:39,  1.01it/s]"
     ]
    },
    {
     "name": "stdout",
     "output_type": "stream",
     "text": [
      "0 ('Connection aborted.', ConnectionResetError(104, 'Connection reset by peer'))\n",
      "1 ('Connection aborted.', ConnectionResetError(104, 'Connection reset by peer'))\n",
      "2 HTTPSConnectionPool(host='ir.uitm.edu.my', port=443): Max retries exceeded with url: /id/eprint/22565/1/22565.pdf (Caused by SSLError(SSLEOFError(8, 'EOF occurred in violation of protocol (_ssl.c:1131)')))\n"
     ]
    },
    {
     "name": "stderr",
     "output_type": "stream",
     "text": [
      "\r",
      " 59%|███████████████████▍             | 63380/107367 [37:32<13:43:10,  1.12s/it]"
     ]
    },
    {
     "name": "stdout",
     "output_type": "stream",
     "text": [
      "0 HTTPSConnectionPool(host='ir.uitm.edu.my', port=443): Max retries exceeded with url: /id/eprint/22566/1/22566.pdf (Caused by SSLError(SSLEOFError(8, 'EOF occurred in violation of protocol (_ssl.c:1131)')))\n",
      "1 ('Connection aborted.', ConnectionResetError(104, 'Connection reset by peer'))\n",
      "2 HTTPSConnectionPool(host='ir.uitm.edu.my', port=443): Max retries exceeded with url: /id/eprint/22566/1/22566.pdf (Caused by SSLError(SSLEOFError(8, 'EOF occurred in violation of protocol (_ssl.c:1131)')))\n"
     ]
    },
    {
     "name": "stderr",
     "output_type": "stream",
     "text": [
      "\r",
      " 59%|███████████████████▍             | 63381/107367 [37:34<15:09:00,  1.24s/it]"
     ]
    },
    {
     "name": "stdout",
     "output_type": "stream",
     "text": [
      "0 HTTPSConnectionPool(host='ir.uitm.edu.my', port=443): Max retries exceeded with url: /id/eprint/22569/1/22569.pdf (Caused by SSLError(SSLEOFError(8, 'EOF occurred in violation of protocol (_ssl.c:1131)')))\n",
      "1 HTTPSConnectionPool(host='ir.uitm.edu.my', port=443): Max retries exceeded with url: /id/eprint/22569/1/22569.pdf (Caused by SSLError(SSLEOFError(8, 'EOF occurred in violation of protocol (_ssl.c:1131)')))\n",
      "2 HTTPSConnectionPool(host='ir.uitm.edu.my', port=443): Max retries exceeded with url: /id/eprint/22569/1/22569.pdf (Caused by SSLError(SSLEOFError(8, 'EOF occurred in violation of protocol (_ssl.c:1131)')))\n"
     ]
    },
    {
     "name": "stderr",
     "output_type": "stream",
     "text": [
      "\r",
      " 59%|███████████████████▍             | 63382/107367 [37:35<16:22:30,  1.34s/it]"
     ]
    },
    {
     "name": "stdout",
     "output_type": "stream",
     "text": [
      "0 ('Connection aborted.', ConnectionResetError(104, 'Connection reset by peer'))\n",
      "1 HTTPSConnectionPool(host='ir.uitm.edu.my', port=443): Max retries exceeded with url: /id/eprint/22570/1/22570.pdf (Caused by SSLError(SSLEOFError(8, 'EOF occurred in violation of protocol (_ssl.c:1131)')))\n",
      "2 HTTPSConnectionPool(host='ir.uitm.edu.my', port=443): Max retries exceeded with url: /id/eprint/22570/1/22570.pdf (Caused by SSLError(SSLEOFError(8, 'EOF occurred in violation of protocol (_ssl.c:1131)')))\n"
     ]
    },
    {
     "name": "stderr",
     "output_type": "stream",
     "text": [
      "\r",
      " 59%|███████████████████▍             | 63383/107367 [37:37<17:23:31,  1.42s/it]"
     ]
    },
    {
     "name": "stdout",
     "output_type": "stream",
     "text": [
      "0 ('Connection aborted.', ConnectionResetError(104, 'Connection reset by peer'))\n",
      "1 HTTPSConnectionPool(host='ir.uitm.edu.my', port=443): Max retries exceeded with url: /id/eprint/22571/1/22571.pdf (Caused by SSLError(SSLEOFError(8, 'EOF occurred in violation of protocol (_ssl.c:1131)')))\n",
      "2 ('Connection aborted.', ConnectionResetError(104, 'Connection reset by peer'))\n"
     ]
    },
    {
     "name": "stderr",
     "output_type": "stream",
     "text": [
      "\r",
      " 59%|███████████████████▍             | 63384/107367 [37:39<18:08:44,  1.49s/it]"
     ]
    },
    {
     "name": "stdout",
     "output_type": "stream",
     "text": [
      "0 ('Connection aborted.', ConnectionResetError(104, 'Connection reset by peer'))\n",
      "1 HTTPSConnectionPool(host='ir.uitm.edu.my', port=443): Max retries exceeded with url: /id/eprint/22573/1/22573.pdf (Caused by SSLError(SSLEOFError(8, 'EOF occurred in violation of protocol (_ssl.c:1131)')))\n",
      "2 HTTPSConnectionPool(host='ir.uitm.edu.my', port=443): Max retries exceeded with url: /id/eprint/22573/1/22573.pdf (Caused by SSLError(SSLEOFError(8, 'EOF occurred in violation of protocol (_ssl.c:1131)')))\n"
     ]
    },
    {
     "name": "stderr",
     "output_type": "stream",
     "text": [
      "\r",
      " 59%|███████████████████▍             | 63385/107367 [37:40<18:46:59,  1.54s/it]"
     ]
    },
    {
     "name": "stdout",
     "output_type": "stream",
     "text": [
      "0 HTTPSConnectionPool(host='ir.uitm.edu.my', port=443): Max retries exceeded with url: /id/eprint/22576/1/22576.pdf (Caused by SSLError(SSLEOFError(8, 'EOF occurred in violation of protocol (_ssl.c:1131)')))\n",
      "1 HTTPSConnectionPool(host='ir.uitm.edu.my', port=443): Max retries exceeded with url: /id/eprint/22576/1/22576.pdf (Caused by SSLError(SSLEOFError(8, 'EOF occurred in violation of protocol (_ssl.c:1131)')))\n",
      "2 ('Connection aborted.', ConnectionResetError(104, 'Connection reset by peer'))\n"
     ]
    },
    {
     "name": "stderr",
     "output_type": "stream",
     "text": [
      "\r",
      " 59%|███████████████████▍             | 63386/107367 [37:42<19:15:07,  1.58s/it]"
     ]
    },
    {
     "name": "stdout",
     "output_type": "stream",
     "text": [
      "0 HTTPSConnectionPool(host='ir.uitm.edu.my', port=443): Max retries exceeded with url: /id/eprint/22578/1/22578.pdf (Caused by SSLError(SSLEOFError(8, 'EOF occurred in violation of protocol (_ssl.c:1131)')))\n",
      "1 ('Connection aborted.', ConnectionResetError(104, 'Connection reset by peer'))\n",
      "2 ('Connection aborted.', ConnectionResetError(104, 'Connection reset by peer'))\n"
     ]
    },
    {
     "name": "stderr",
     "output_type": "stream",
     "text": [
      "\r",
      " 59%|███████████████████▍             | 63388/107367 [37:44<15:08:51,  1.24s/it]"
     ]
    },
    {
     "name": "stdout",
     "output_type": "stream",
     "text": [
      "0 HTTPSConnectionPool(host='ir.uitm.edu.my', port=443): Max retries exceeded with url: /id/eprint/22579/1/22579.pdf (Caused by SSLError(SSLEOFError(8, 'EOF occurred in violation of protocol (_ssl.c:1131)')))\n",
      "1 HTTPSConnectionPool(host='ir.uitm.edu.my', port=443): Max retries exceeded with url: /id/eprint/22579/1/22579.pdf (Caused by SSLError(SSLEOFError(8, 'EOF occurred in violation of protocol (_ssl.c:1131)')))\n",
      "2 HTTPSConnectionPool(host='ir.uitm.edu.my', port=443): Max retries exceeded with url: /id/eprint/22579/1/22579.pdf (Caused by SSLError(SSLEOFError(8, 'EOF occurred in violation of protocol (_ssl.c:1131)')))\n"
     ]
    },
    {
     "name": "stderr",
     "output_type": "stream",
     "text": [
      "\r",
      " 59%|███████████████████▍             | 63389/107367 [37:45<16:22:32,  1.34s/it]"
     ]
    },
    {
     "name": "stdout",
     "output_type": "stream",
     "text": [
      "0 HTTPSConnectionPool(host='ir.uitm.edu.my', port=443): Max retries exceeded with url: /id/eprint/22580/1/22580.pdf (Caused by SSLError(SSLEOFError(8, 'EOF occurred in violation of protocol (_ssl.c:1131)')))\n",
      "1 HTTPSConnectionPool(host='ir.uitm.edu.my', port=443): Max retries exceeded with url: /id/eprint/22580/1/22580.pdf (Caused by SSLError(SSLEOFError(8, 'EOF occurred in violation of protocol (_ssl.c:1131)')))\n",
      "2 HTTPSConnectionPool(host='ir.uitm.edu.my', port=443): Max retries exceeded with url: /id/eprint/22580/1/22580.pdf (Caused by SSLError(SSLEOFError(8, 'EOF occurred in violation of protocol (_ssl.c:1131)')))\n"
     ]
    },
    {
     "name": "stderr",
     "output_type": "stream",
     "text": [
      "\r",
      " 59%|███████████████████▍             | 63390/107367 [37:47<17:22:26,  1.42s/it]"
     ]
    },
    {
     "name": "stdout",
     "output_type": "stream",
     "text": [
      "0 ('Connection aborted.', ConnectionResetError(104, 'Connection reset by peer'))\n",
      "1 HTTPSConnectionPool(host='ir.uitm.edu.my', port=443): Max retries exceeded with url: /id/eprint/22581/1/22581.pdf (Caused by SSLError(SSLEOFError(8, 'EOF occurred in violation of protocol (_ssl.c:1131)')))\n",
      "2 HTTPSConnectionPool(host='ir.uitm.edu.my', port=443): Max retries exceeded with url: /id/eprint/22581/1/22581.pdf (Caused by SSLError(SSLEOFError(8, 'EOF occurred in violation of protocol (_ssl.c:1131)')))\n"
     ]
    },
    {
     "name": "stderr",
     "output_type": "stream",
     "text": [
      "\r",
      " 59%|███████████████████▍             | 63391/107367 [37:49<18:05:54,  1.48s/it]"
     ]
    },
    {
     "name": "stdout",
     "output_type": "stream",
     "text": [
      "0 HTTPSConnectionPool(host='ir.uitm.edu.my', port=443): Max retries exceeded with url: /id/eprint/22590/1/22590.pdf (Caused by SSLError(SSLEOFError(8, 'EOF occurred in violation of protocol (_ssl.c:1131)')))\n",
      "1 HTTPSConnectionPool(host='ir.uitm.edu.my', port=443): Max retries exceeded with url: /id/eprint/22590/1/22590.pdf (Caused by SSLError(SSLEOFError(8, 'EOF occurred in violation of protocol (_ssl.c:1131)')))\n",
      "2 HTTPSConnectionPool(host='ir.uitm.edu.my', port=443): Max retries exceeded with url: /id/eprint/22590/1/22590.pdf (Caused by SSLError(SSLEOFError(8, 'EOF occurred in violation of protocol (_ssl.c:1131)')))\n"
     ]
    },
    {
     "name": "stderr",
     "output_type": "stream",
     "text": [
      "\r",
      " 59%|████████████████████              | 63400/107367 [37:50<5:50:19,  2.09it/s]"
     ]
    },
    {
     "name": "stdout",
     "output_type": "stream",
     "text": [
      "0 HTTPSConnectionPool(host='ir.uitm.edu.my', port=443): Max retries exceeded with url: /id/eprint/22594/1/22594.pdf (Caused by SSLError(SSLEOFError(8, 'EOF occurred in violation of protocol (_ssl.c:1131)')))\n",
      "1 HTTPSConnectionPool(host='ir.uitm.edu.my', port=443): Max retries exceeded with url: /id/eprint/22594/1/22594.pdf (Caused by SSLError(SSLEOFError(8, 'EOF occurred in violation of protocol (_ssl.c:1131)')))\n",
      "2 HTTPSConnectionPool(host='ir.uitm.edu.my', port=443): Max retries exceeded with url: /id/eprint/22594/1/22594.pdf (Caused by SSLError(SSLEOFError(8, 'EOF occurred in violation of protocol (_ssl.c:1131)')))\n"
     ]
    },
    {
     "name": "stderr",
     "output_type": "stream",
     "text": [
      "\r",
      " 59%|████████████████████              | 63404/107367 [37:52<5:37:07,  2.17it/s]"
     ]
    },
    {
     "name": "stdout",
     "output_type": "stream",
     "text": [
      "0 HTTPSConnectionPool(host='ir.uitm.edu.my', port=443): Max retries exceeded with url: /id/eprint/22595/1/22595.pdf (Caused by SSLError(SSLEOFError(8, 'EOF occurred in violation of protocol (_ssl.c:1131)')))\n",
      "1 HTTPSConnectionPool(host='ir.uitm.edu.my', port=443): Max retries exceeded with url: /id/eprint/22595/1/22595.pdf (Caused by SSLError(SSLEOFError(8, 'EOF occurred in violation of protocol (_ssl.c:1131)')))\n",
      "2 HTTPSConnectionPool(host='ir.uitm.edu.my', port=443): Max retries exceeded with url: /id/eprint/22595/1/22595.pdf (Caused by SSLError(SSLEOFError(8, 'EOF occurred in violation of protocol (_ssl.c:1131)')))\n"
     ]
    },
    {
     "name": "stderr",
     "output_type": "stream",
     "text": [
      "\r",
      " 59%|████████████████████              | 63405/107367 [37:54<7:10:08,  1.70it/s]"
     ]
    },
    {
     "name": "stdout",
     "output_type": "stream",
     "text": [
      "0 HTTPSConnectionPool(host='ir.uitm.edu.my', port=443): Max retries exceeded with url: /id/eprint/22596/1/22596.pdf (Caused by SSLError(SSLEOFError(8, 'EOF occurred in violation of protocol (_ssl.c:1131)')))\n",
      "1 HTTPSConnectionPool(host='ir.uitm.edu.my', port=443): Max retries exceeded with url: /id/eprint/22596/1/22596.pdf (Caused by SSLError(SSLEOFError(8, 'EOF occurred in violation of protocol (_ssl.c:1131)')))\n",
      "2 ('Connection aborted.', ConnectionResetError(104, 'Connection reset by peer'))\n"
     ]
    },
    {
     "name": "stderr",
     "output_type": "stream",
     "text": [
      "\r",
      " 59%|████████████████████              | 63406/107367 [37:55<8:53:55,  1.37it/s]"
     ]
    },
    {
     "name": "stdout",
     "output_type": "stream",
     "text": [
      "0 HTTPSConnectionPool(host='ir.uitm.edu.my', port=443): Max retries exceeded with url: /id/eprint/22598/1/22598.pdf (Caused by SSLError(SSLEOFError(8, 'EOF occurred in violation of protocol (_ssl.c:1131)')))\n",
      "1 ('Connection aborted.', ConnectionResetError(104, 'Connection reset by peer'))\n",
      "2 ('Connection aborted.', ConnectionResetError(104, 'Connection reset by peer'))\n"
     ]
    },
    {
     "name": "stderr",
     "output_type": "stream",
     "text": [
      "\r",
      " 59%|████████████████████              | 63408/107367 [37:57<9:13:36,  1.32it/s]"
     ]
    },
    {
     "name": "stdout",
     "output_type": "stream",
     "text": [
      "0 ('Connection aborted.', ConnectionResetError(104, 'Connection reset by peer'))\n",
      "1 HTTPSConnectionPool(host='ir.uitm.edu.my', port=443): Max retries exceeded with url: /id/eprint/22600/1/22600.pdf (Caused by SSLError(SSLEOFError(8, 'EOF occurred in violation of protocol (_ssl.c:1131)')))\n",
      "2 HTTPSConnectionPool(host='ir.uitm.edu.my', port=443): Max retries exceeded with url: /id/eprint/22600/1/22600.pdf (Caused by SSLError(SSLEOFError(8, 'EOF occurred in violation of protocol (_ssl.c:1131)')))\n"
     ]
    },
    {
     "name": "stderr",
     "output_type": "stream",
     "text": [
      "\r",
      " 59%|████████████████████              | 63410/107367 [37:59<9:28:19,  1.29it/s]"
     ]
    },
    {
     "name": "stdout",
     "output_type": "stream",
     "text": [
      "0 HTTPSConnectionPool(host='ir.uitm.edu.my', port=443): Max retries exceeded with url: /id/eprint/22601/1/22601.pdf (Caused by SSLError(SSLEOFError(8, 'EOF occurred in violation of protocol (_ssl.c:1131)')))\n",
      "1 ('Connection aborted.', ConnectionResetError(104, 'Connection reset by peer'))\n",
      "2 ('Connection aborted.', ConnectionResetError(104, 'Connection reset by peer'))\n"
     ]
    },
    {
     "name": "stderr",
     "output_type": "stream",
     "text": [
      "\r",
      " 59%|███████████████████▍             | 63411/107367 [38:00<11:14:50,  1.09it/s]"
     ]
    },
    {
     "name": "stdout",
     "output_type": "stream",
     "text": [
      "0 HTTPSConnectionPool(host='ir.uitm.edu.my', port=443): Max retries exceeded with url: /id/eprint/22602/1/22602.pdf (Caused by SSLError(SSLEOFError(8, 'EOF occurred in violation of protocol (_ssl.c:1131)')))\n",
      "1 HTTPSConnectionPool(host='ir.uitm.edu.my', port=443): Max retries exceeded with url: /id/eprint/22602/1/22602.pdf (Caused by SSLError(SSLEOFError(8, 'EOF occurred in violation of protocol (_ssl.c:1131)')))\n",
      "2 HTTPSConnectionPool(host='ir.uitm.edu.my', port=443): Max retries exceeded with url: /id/eprint/22602/1/22602.pdf (Caused by SSLError(SSLEOFError(8, 'EOF occurred in violation of protocol (_ssl.c:1131)')))\n"
     ]
    },
    {
     "name": "stderr",
     "output_type": "stream",
     "text": [
      "\r",
      " 59%|███████████████████▍             | 63412/107367 [38:02<13:02:27,  1.07s/it]"
     ]
    },
    {
     "name": "stdout",
     "output_type": "stream",
     "text": [
      "0 HTTPSConnectionPool(host='ir.uitm.edu.my', port=443): Max retries exceeded with url: /id/eprint/22603/1/22603.pdf (Caused by SSLError(SSLEOFError(8, 'EOF occurred in violation of protocol (_ssl.c:1131)')))\n",
      "1 HTTPSConnectionPool(host='ir.uitm.edu.my', port=443): Max retries exceeded with url: /id/eprint/22603/1/22603.pdf (Caused by SSLError(SSLEOFError(8, 'EOF occurred in violation of protocol (_ssl.c:1131)')))\n",
      "2 HTTPSConnectionPool(host='ir.uitm.edu.my', port=443): Max retries exceeded with url: /id/eprint/22603/1/22603.pdf (Caused by SSLError(SSLEOFError(8, 'EOF occurred in violation of protocol (_ssl.c:1131)')))\n"
     ]
    },
    {
     "name": "stderr",
     "output_type": "stream",
     "text": [
      "\r",
      " 59%|███████████████████▍             | 63413/107367 [38:04<14:41:25,  1.20s/it]"
     ]
    },
    {
     "name": "stdout",
     "output_type": "stream",
     "text": [
      "0 HTTPSConnectionPool(host='ir.uitm.edu.my', port=443): Max retries exceeded with url: /id/eprint/22604/1/22604.pdf (Caused by SSLError(SSLEOFError(8, 'EOF occurred in violation of protocol (_ssl.c:1131)')))\n",
      "1 HTTPSConnectionPool(host='ir.uitm.edu.my', port=443): Max retries exceeded with url: /id/eprint/22604/1/22604.pdf (Caused by SSLError(SSLEOFError(8, 'EOF occurred in violation of protocol (_ssl.c:1131)')))\n",
      "2 HTTPSConnectionPool(host='ir.uitm.edu.my', port=443): Max retries exceeded with url: /id/eprint/22604/1/22604.pdf (Caused by SSLError(SSLEOFError(8, 'EOF occurred in violation of protocol (_ssl.c:1131)')))\n"
     ]
    },
    {
     "name": "stderr",
     "output_type": "stream",
     "text": [
      "\r",
      " 59%|███████████████████▍             | 63414/107367 [38:05<16:07:41,  1.32s/it]"
     ]
    },
    {
     "name": "stdout",
     "output_type": "stream",
     "text": [
      "0 HTTPSConnectionPool(host='ir.uitm.edu.my', port=443): Max retries exceeded with url: /id/eprint/22605/1/22605.pdf (Caused by SSLError(SSLEOFError(8, 'EOF occurred in violation of protocol (_ssl.c:1131)')))\n",
      "1 HTTPSConnectionPool(host='ir.uitm.edu.my', port=443): Max retries exceeded with url: /id/eprint/22605/1/22605.pdf (Caused by SSLError(SSLEOFError(8, 'EOF occurred in violation of protocol (_ssl.c:1131)')))\n",
      "2 HTTPSConnectionPool(host='ir.uitm.edu.my', port=443): Max retries exceeded with url: /id/eprint/22605/1/22605.pdf (Caused by SSLError(SSLEOFError(8, 'EOF occurred in violation of protocol (_ssl.c:1131)')))\n"
     ]
    },
    {
     "name": "stderr",
     "output_type": "stream",
     "text": [
      "\r",
      " 59%|███████████████████▍             | 63415/107367 [38:07<17:15:50,  1.41s/it]"
     ]
    },
    {
     "name": "stdout",
     "output_type": "stream",
     "text": [
      "0 HTTPSConnectionPool(host='ir.uitm.edu.my', port=443): Max retries exceeded with url: /id/eprint/22606/1/22606.pdf (Caused by SSLError(SSLEOFError(8, 'EOF occurred in violation of protocol (_ssl.c:1131)')))\n",
      "1 HTTPSConnectionPool(host='ir.uitm.edu.my', port=443): Max retries exceeded with url: /id/eprint/22606/1/22606.pdf (Caused by SSLError(SSLEOFError(8, 'EOF occurred in violation of protocol (_ssl.c:1131)')))\n",
      "2 ('Connection aborted.', ConnectionResetError(104, 'Connection reset by peer'))\n"
     ]
    },
    {
     "name": "stderr",
     "output_type": "stream",
     "text": [
      "\r",
      " 59%|███████████████████▍             | 63416/107367 [38:09<18:02:48,  1.48s/it]"
     ]
    },
    {
     "name": "stdout",
     "output_type": "stream",
     "text": [
      "0 HTTPSConnectionPool(host='ir.uitm.edu.my', port=443): Max retries exceeded with url: /id/eprint/22607/1/22607.pdf (Caused by SSLError(SSLEOFError(8, 'EOF occurred in violation of protocol (_ssl.c:1131)')))\n",
      "1 HTTPSConnectionPool(host='ir.uitm.edu.my', port=443): Max retries exceeded with url: /id/eprint/22607/1/22607.pdf (Caused by SSLError(SSLEOFError(8, 'EOF occurred in violation of protocol (_ssl.c:1131)')))\n",
      "2 ('Connection aborted.', ConnectionResetError(104, 'Connection reset by peer'))\n"
     ]
    },
    {
     "name": "stderr",
     "output_type": "stream",
     "text": [
      "\r",
      " 59%|███████████████████▍             | 63417/107367 [38:10<18:40:31,  1.53s/it]"
     ]
    },
    {
     "name": "stdout",
     "output_type": "stream",
     "text": [
      "0 HTTPSConnectionPool(host='ir.uitm.edu.my', port=443): Max retries exceeded with url: /id/eprint/22608/1/22608.pdf (Caused by SSLError(SSLEOFError(8, 'EOF occurred in violation of protocol (_ssl.c:1131)')))\n",
      "1 HTTPSConnectionPool(host='ir.uitm.edu.my', port=443): Max retries exceeded with url: /id/eprint/22608/1/22608.pdf (Caused by SSLError(SSLEOFError(8, 'EOF occurred in violation of protocol (_ssl.c:1131)')))\n",
      "2 HTTPSConnectionPool(host='ir.uitm.edu.my', port=443): Max retries exceeded with url: /id/eprint/22608/1/22608.pdf (Caused by SSLError(SSLEOFError(8, 'EOF occurred in violation of protocol (_ssl.c:1131)')))\n"
     ]
    },
    {
     "name": "stderr",
     "output_type": "stream",
     "text": [
      "\r",
      " 59%|███████████████████▍             | 63418/107367 [38:12<19:08:17,  1.57s/it]"
     ]
    },
    {
     "name": "stdout",
     "output_type": "stream",
     "text": [
      "0 HTTPSConnectionPool(host='ir.uitm.edu.my', port=443): Max retries exceeded with url: /id/eprint/22609/1/22609.pdf (Caused by SSLError(SSLEOFError(8, 'EOF occurred in violation of protocol (_ssl.c:1131)')))\n",
      "1 HTTPSConnectionPool(host='ir.uitm.edu.my', port=443): Max retries exceeded with url: /id/eprint/22609/1/22609.pdf (Caused by SSLError(SSLEOFError(8, 'EOF occurred in violation of protocol (_ssl.c:1131)')))\n",
      "2 ('Connection aborted.', ConnectionResetError(104, 'Connection reset by peer'))\n"
     ]
    }
   ],
   "source": [
    "max_worker = 1\n",
    "\n",
    "uitm = sorted(list(uitm))\n",
    "for i in tqdm(range(1, len(uitm), max_worker)):\n",
    "    urls = [(url, os.path.join('uitm', f'{i}-{no}.pdf')) for no, url in enumerate(uitm[i: i + max_worker])]\n",
    "    \n",
    "    with ThreadPoolExecutor(max_workers=max_worker) as executor:\n",
    "        futures = {executor.submit(download, url[0], url[1]): url for url in urls}\n",
    "\n",
    "        for future in as_completed(futures):\n",
    "            future.result()"
   ]
  },
  {
   "cell_type": "code",
   "execution_count": null,
   "metadata": {},
   "outputs": [],
   "source": [
    "uitm[23191]"
   ]
  },
  {
   "cell_type": "code",
   "execution_count": 11,
   "metadata": {},
   "outputs": [
    {
     "name": "stdout",
     "output_type": "stream",
     "text": [
      "186G\tuitm\r\n"
     ]
    }
   ],
   "source": [
    "!du -hs uitm"
   ]
  },
  {
   "cell_type": "code",
   "execution_count": null,
   "metadata": {},
   "outputs": [],
   "source": []
  }
 ],
 "metadata": {
  "kernelspec": {
   "display_name": "Python 3 (ipykernel)",
   "language": "python",
   "name": "python3"
  },
  "language_info": {
   "codemirror_mode": {
    "name": "ipython",
    "version": 3
   },
   "file_extension": ".py",
   "mimetype": "text/x-python",
   "name": "python",
   "nbconvert_exporter": "python",
   "pygments_lexer": "ipython3",
   "version": "3.8.10"
  }
 },
 "nbformat": 4,
 "nbformat_minor": 4
}
