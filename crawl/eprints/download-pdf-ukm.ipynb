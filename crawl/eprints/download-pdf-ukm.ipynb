{
 "cells": [
  {
   "cell_type": "code",
   "execution_count": 1,
   "metadata": {},
   "outputs": [],
   "source": [
    "import urllib3\n",
    "urllib3.disable_warnings(urllib3.exceptions.InsecureRequestWarning)"
   ]
  },
  {
   "cell_type": "code",
   "execution_count": 2,
   "metadata": {},
   "outputs": [],
   "source": [
    "import requests\n",
    "import json\n",
    "import os\n",
    "import re\n",
    "import time\n",
    "from tqdm import tqdm\n",
    "from glob import glob\n",
    "from concurrent.futures import ThreadPoolExecutor, as_completed"
   ]
  },
  {
   "cell_type": "code",
   "execution_count": 3,
   "metadata": {},
   "outputs": [],
   "source": [
    "def download(url, file_name, retry = 3):\n",
    "    if os.path.exists(file_name) and os.path.getsize(file_name) > 50000:\n",
    "        return\n",
    "    with open(file_name, \"wb\") as file:\n",
    "        for k in range(retry):\n",
    "            try:\n",
    "                response = requests.get(url, verify = False, timeout = 360)\n",
    "                file.write(response.content)\n",
    "                return \n",
    "            except Exception as e:\n",
    "                print(k, e)\n",
    "                time.sleep(0.5)"
   ]
  },
  {
   "cell_type": "code",
   "execution_count": 4,
   "metadata": {},
   "outputs": [
    {
     "data": {
      "text/plain": [
       "18787"
      ]
     },
     "execution_count": 4,
     "metadata": {},
     "output_type": "execute_result"
    }
   ],
   "source": [
    "files = glob('pages/*.json')\n",
    "len(files)"
   ]
  },
  {
   "cell_type": "code",
   "execution_count": 5,
   "metadata": {
    "scrolled": true
   },
   "outputs": [],
   "source": [
    "pdfs = []\n",
    "for f in files:\n",
    "    with open(f) as fopen:\n",
    "        pdfs.extend(json.load(fopen))\n",
    "        \n",
    "pdfs = list(set(pdfs))"
   ]
  },
  {
   "cell_type": "code",
   "execution_count": 6,
   "metadata": {},
   "outputs": [
    {
     "name": "stderr",
     "output_type": "stream",
     "text": [
      "100%|███████████████████████████████| 235433/235433 [00:00<00:00, 677665.27it/s]\n"
     ]
    },
    {
     "data": {
      "text/plain": [
       "235130"
      ]
     },
     "execution_count": 6,
     "metadata": {},
     "output_type": "execute_result"
    }
   ],
   "source": [
    "filtered_pdfs = []\n",
    "for p in tqdm(pdfs):\n",
    "    if len(re.findall( r'[0-9]+(?:\\.[0-9]+){3}', p)):\n",
    "        continue\n",
    "    if not p.endswith('.pdf'):\n",
    "        continue\n",
    "    if 'ade.sagepub.com' in p:\n",
    "        continue\n",
    "    filtered_pdfs.append(p)\n",
    "    \n",
    "filtered_pdfs = sorted(list(set(filtered_pdfs)))\n",
    "len(filtered_pdfs)"
   ]
  },
  {
   "cell_type": "code",
   "execution_count": 7,
   "metadata": {},
   "outputs": [
    {
     "data": {
      "text/plain": [
       "18101"
      ]
     },
     "execution_count": 7,
     "metadata": {},
     "output_type": "execute_result"
    }
   ],
   "source": [
    "ukm = [f for f in filtered_pdfs if 'ukm.my' in f]\n",
    "len(ukm)"
   ]
  },
  {
   "cell_type": "code",
   "execution_count": 8,
   "metadata": {},
   "outputs": [
    {
     "name": "stdout",
     "output_type": "stream",
     "text": [
      "mkdir: cannot create directory ‘ukm’: File exists\r\n"
     ]
    }
   ],
   "source": [
    "# !rm -rf pdf\n",
    "!mkdir ukm"
   ]
  },
  {
   "cell_type": "code",
   "execution_count": 9,
   "metadata": {},
   "outputs": [
    {
     "name": "stderr",
     "output_type": "stream",
     "text": [
      " 99%|████████████████████████████████████▋| 17933/18101 [01:40<00:46,  3.59it/s]"
     ]
    },
    {
     "name": "stdout",
     "output_type": "stream",
     "text": [
      "0 HTTPConnectionPool(host='www.fsk.ukm.my', port=80): Max retries exceeded with url: /jurnal/jilid%206%282%292008/Chap%203.pdf (Caused by NewConnectionError('<urllib3.connection.HTTPConnection object at 0x7fe9b82fed30>: Failed to establish a new connection: [Errno -2] Name or service not known'))\n",
      "1 HTTPConnectionPool(host='www.fsk.ukm.my', port=80): Max retries exceeded with url: /jurnal/jilid%206%282%292008/Chap%203.pdf (Caused by NewConnectionError('<urllib3.connection.HTTPConnection object at 0x7fe9b82feb20>: Failed to establish a new connection: [Errno -2] Name or service not known'))\n",
      "2 HTTPConnectionPool(host='www.fsk.ukm.my', port=80): Max retries exceeded with url: /jurnal/jilid%206%282%292008/Chap%203.pdf (Caused by NewConnectionError('<urllib3.connection.HTTPConnection object at 0x7fe9b82fef70>: Failed to establish a new connection: [Errno -2] Name or service not known'))\n",
      "0 HTTPConnectionPool(host='www.fsk.ukm.my', port=80): Max retries exceeded with url: /jurnal/jilid%206%282%292008/Chap%204.pdf (Caused by NewConnectionError('<urllib3.connection.HTTPConnection object at 0x7fe9b82feaf0>: Failed to establish a new connection: [Errno -2] Name or service not known'))\n",
      "1 HTTPConnectionPool(host='www.fsk.ukm.my', port=80): Max retries exceeded with url: /jurnal/jilid%206%282%292008/Chap%204.pdf (Caused by NewConnectionError('<urllib3.connection.HTTPConnection object at 0x7fe9b82fe640>: Failed to establish a new connection: [Errno -2] Name or service not known'))\n",
      "2 HTTPConnectionPool(host='www.fsk.ukm.my', port=80): Max retries exceeded with url: /jurnal/jilid%206%282%292008/Chap%204.pdf (Caused by NewConnectionError('<urllib3.connection.HTTPConnection object at 0x7fe9b82fed00>: Failed to establish a new connection: [Errno -2] Name or service not known'))\n",
      "0 HTTPConnectionPool(host='www.fsk.ukm.my', port=80): Max retries exceeded with url: /jurnal/jilid%206%282%292008/Chap%205.pdf (Caused by NewConnectionError('<urllib3.connection.HTTPConnection object at 0x7fe9b82fe850>: Failed to establish a new connection: [Errno -2] Name or service not known'))\n",
      "1 HTTPConnectionPool(host='www.fsk.ukm.my', port=80): Max retries exceeded with url: /jurnal/jilid%206%282%292008/Chap%205.pdf (Caused by NewConnectionError('<urllib3.connection.HTTPConnection object at 0x7fe9b82fe790>: Failed to establish a new connection: [Errno -2] Name or service not known'))\n",
      "2 HTTPConnectionPool(host='www.fsk.ukm.my', port=80): Max retries exceeded with url: /jurnal/jilid%206%282%292008/Chap%205.pdf (Caused by NewConnectionError('<urllib3.connection.HTTPConnection object at 0x7fe9b82fef70>: Failed to establish a new connection: [Errno -2] Name or service not known'))\n",
      "0 HTTPConnectionPool(host='www.fsk.ukm.my', port=80): Max retries exceeded with url: /jurnal/jilid%206%282%292008/Chap%206.pdf (Caused by NewConnectionError('<urllib3.connection.HTTPConnection object at 0x7fe9b82fe790>: Failed to establish a new connection: [Errno -2] Name or service not known'))\n",
      "1 HTTPConnectionPool(host='www.fsk.ukm.my', port=80): Max retries exceeded with url: /jurnal/jilid%206%282%292008/Chap%206.pdf (Caused by NewConnectionError('<urllib3.connection.HTTPConnection object at 0x7fe9b82fed60>: Failed to establish a new connection: [Errno -2] Name or service not known'))\n",
      "2 HTTPConnectionPool(host='www.fsk.ukm.my', port=80): Max retries exceeded with url: /jurnal/jilid%206%282%292008/Chap%206.pdf (Caused by NewConnectionError('<urllib3.connection.HTTPConnection object at 0x7fe9b82fe670>: Failed to establish a new connection: [Errno -2] Name or service not known'))\n",
      "0 HTTPConnectionPool(host='www.fsk.ukm.my', port=80): Max retries exceeded with url: /jurnal/jilid%206%282%292008/Chap%207.pdf (Caused by NewConnectionError('<urllib3.connection.HTTPConnection object at 0x7fe9b82fec40>: Failed to establish a new connection: [Errno -2] Name or service not known'))\n",
      "1 HTTPConnectionPool(host='www.fsk.ukm.my', port=80): Max retries exceeded with url: /jurnal/jilid%206%282%292008/Chap%207.pdf (Caused by NewConnectionError('<urllib3.connection.HTTPConnection object at 0x7fe9b82feaf0>: Failed to establish a new connection: [Errno -2] Name or service not known'))\n",
      "2 HTTPConnectionPool(host='www.fsk.ukm.my', port=80): Max retries exceeded with url: /jurnal/jilid%206%282%292008/Chap%207.pdf (Caused by NewConnectionError('<urllib3.connection.HTTPConnection object at 0x7fe9b82fef70>: Failed to establish a new connection: [Errno -2] Name or service not known'))\n",
      "0 HTTPConnectionPool(host='www.fsk.ukm.my', port=80): Max retries exceeded with url: /jurnal/jilid%206%282%292008/Chap%208.pdf (Caused by NewConnectionError('<urllib3.connection.HTTPConnection object at 0x7fe9b82fe850>: Failed to establish a new connection: [Errno -2] Name or service not known'))\n",
      "1 HTTPConnectionPool(host='www.fsk.ukm.my', port=80): Max retries exceeded with url: /jurnal/jilid%206%282%292008/Chap%208.pdf (Caused by NewConnectionError('<urllib3.connection.HTTPConnection object at 0x7fe9b82fe970>: Failed to establish a new connection: [Errno -2] Name or service not known'))\n",
      "2 HTTPConnectionPool(host='www.fsk.ukm.my', port=80): Max retries exceeded with url: /jurnal/jilid%206%282%292008/Chap%208.pdf (Caused by NewConnectionError('<urllib3.connection.HTTPConnection object at 0x7fe9b82fec40>: Failed to establish a new connection: [Errno -2] Name or service not known'))\n",
      "0 HTTPConnectionPool(host='www.fsk.ukm.my', port=80): Max retries exceeded with url: /jurnal/jilid%206%282%292008/Chap%209.pdf (Caused by NewConnectionError('<urllib3.connection.HTTPConnection object at 0x7fe9b82fea60>: Failed to establish a new connection: [Errno -2] Name or service not known'))\n",
      "1 HTTPConnectionPool(host='www.fsk.ukm.my', port=80): Max retries exceeded with url: /jurnal/jilid%206%282%292008/Chap%209.pdf (Caused by NewConnectionError('<urllib3.connection.HTTPConnection object at 0x7fe9b82fe790>: Failed to establish a new connection: [Errno -2] Name or service not known'))\n",
      "2 HTTPConnectionPool(host='www.fsk.ukm.my', port=80): Max retries exceeded with url: /jurnal/jilid%206%282%292008/Chap%209.pdf (Caused by NewConnectionError('<urllib3.connection.HTTPConnection object at 0x7fe9b82fed60>: Failed to establish a new connection: [Errno -2] Name or service not known'))\n",
      "0 HTTPConnectionPool(host='www.fsk.ukm.my', port=80): Max retries exceeded with url: /jurnal/jilid%207%281%292009/Chapter1.pdf (Caused by NewConnectionError('<urllib3.connection.HTTPConnection object at 0x7fe9b82fe790>: Failed to establish a new connection: [Errno -2] Name or service not known'))\n",
      "1 HTTPConnectionPool(host='www.fsk.ukm.my', port=80): Max retries exceeded with url: /jurnal/jilid%207%281%292009/Chapter1.pdf (Caused by NewConnectionError('<urllib3.connection.HTTPConnection object at 0x7fe9b82fe670>: Failed to establish a new connection: [Errno -2] Name or service not known'))\n",
      "2 HTTPConnectionPool(host='www.fsk.ukm.my', port=80): Max retries exceeded with url: /jurnal/jilid%207%281%292009/Chapter1.pdf (Caused by NewConnectionError('<urllib3.connection.HTTPConnection object at 0x7fe9b82fefa0>: Failed to establish a new connection: [Errno -2] Name or service not known'))\n",
      "0 HTTPConnectionPool(host='www.fsk.ukm.my', port=80): Max retries exceeded with url: /jurnal/jilid%207%281%292009/Chapter2.pdf (Caused by NewConnectionError('<urllib3.connection.HTTPConnection object at 0x7fe9b82fe700>: Failed to establish a new connection: [Errno -2] Name or service not known'))\n"
     ]
    },
    {
     "name": "stderr",
     "output_type": "stream",
     "text": [
      "\r",
      " 99%|████████████████████████████████████▋| 17933/18101 [01:59<00:46,  3.59it/s]"
     ]
    },
    {
     "name": "stdout",
     "output_type": "stream",
     "text": [
      "1 HTTPConnectionPool(host='www.fsk.ukm.my', port=80): Max retries exceeded with url: /jurnal/jilid%207%281%292009/Chapter2.pdf (Caused by NewConnectionError('<urllib3.connection.HTTPConnection object at 0x7fe9b82fedc0>: Failed to establish a new connection: [Errno -2] Name or service not known'))\n",
      "2 HTTPConnectionPool(host='www.fsk.ukm.my', port=80): Max retries exceeded with url: /jurnal/jilid%207%281%292009/Chapter2.pdf (Caused by NewConnectionError('<urllib3.connection.HTTPConnection object at 0x7fe9b82feb20>: Failed to establish a new connection: [Errno -2] Name or service not known'))\n"
     ]
    },
    {
     "name": "stderr",
     "output_type": "stream",
     "text": [
      "\r",
      " 99%|████████████████████████████████████▋| 17947/18101 [02:00<01:15,  2.05it/s]"
     ]
    },
    {
     "name": "stdout",
     "output_type": "stream",
     "text": [
      "0 HTTPConnectionPool(host='www.fsk.ukm.my', port=80): Max retries exceeded with url: /jurnal/jilid%207%281%292009/Chapter3.pdf (Caused by NewConnectionError('<urllib3.connection.HTTPConnection object at 0x7fe9b82feca0>: Failed to establish a new connection: [Errno -2] Name or service not known'))\n",
      "1 HTTPConnectionPool(host='www.fsk.ukm.my', port=80): Max retries exceeded with url: /jurnal/jilid%207%281%292009/Chapter3.pdf (Caused by NewConnectionError('<urllib3.connection.HTTPConnection object at 0x7fe9b82fefa0>: Failed to establish a new connection: [Errno -2] Name or service not known'))\n",
      "2 HTTPConnectionPool(host='www.fsk.ukm.my', port=80): Max retries exceeded with url: /jurnal/jilid%207%281%292009/Chapter3.pdf (Caused by NewConnectionError('<urllib3.connection.HTTPConnection object at 0x7fe9b82fed00>: Failed to establish a new connection: [Errno -2] Name or service not known'))\n"
     ]
    },
    {
     "name": "stderr",
     "output_type": "stream",
     "text": [
      "\r",
      " 99%|████████████████████████████████████▋| 17948/18101 [02:01<01:17,  1.96it/s]"
     ]
    },
    {
     "name": "stdout",
     "output_type": "stream",
     "text": [
      "0 HTTPConnectionPool(host='www.fsk.ukm.my', port=80): Max retries exceeded with url: /jurnal/jilid%207%281%292009/Chapter4.pdf (Caused by NewConnectionError('<urllib3.connection.HTTPConnection object at 0x7fe9b82fec10>: Failed to establish a new connection: [Errno -2] Name or service not known'))\n",
      "1 HTTPConnectionPool(host='www.fsk.ukm.my', port=80): Max retries exceeded with url: /jurnal/jilid%207%281%292009/Chapter4.pdf (Caused by NewConnectionError('<urllib3.connection.HTTPConnection object at 0x7fe9b82fe790>: Failed to establish a new connection: [Errno -2] Name or service not known'))\n",
      "2 HTTPConnectionPool(host='www.fsk.ukm.my', port=80): Max retries exceeded with url: /jurnal/jilid%207%281%292009/Chapter4.pdf (Caused by NewConnectionError('<urllib3.connection.HTTPConnection object at 0x7fe9b82fecd0>: Failed to establish a new connection: [Errno -2] Name or service not known'))\n",
      "0 HTTPConnectionPool(host='www.fsk.ukm.my', port=80): Max retries exceeded with url: /jurnal/jilid%207%281%292009/Chapter5.pdf (Caused by NewConnectionError('<urllib3.connection.HTTPConnection object at 0x7fe9b82feb20>: Failed to establish a new connection: [Errno -2] Name or service not known'))\n",
      "1 HTTPConnectionPool(host='www.fsk.ukm.my', port=80): Max retries exceeded with url: /jurnal/jilid%207%281%292009/Chapter5.pdf (Caused by NewConnectionError('<urllib3.connection.HTTPConnection object at 0x7fe9b82fec40>: Failed to establish a new connection: [Errno -2] Name or service not known'))\n",
      "2 HTTPConnectionPool(host='www.fsk.ukm.my', port=80): Max retries exceeded with url: /jurnal/jilid%207%281%292009/Chapter5.pdf (Caused by NewConnectionError('<urllib3.connection.HTTPConnection object at 0x7fe9b82fec10>: Failed to establish a new connection: [Errno -2] Name or service not known'))\n",
      "0 HTTPConnectionPool(host='www.fsk.ukm.my', port=80): Max retries exceeded with url: /jurnal/jilid%207%281%292009/Chapter6.pdf (Caused by NewConnectionError('<urllib3.connection.HTTPConnection object at 0x7fe9b82fe670>: Failed to establish a new connection: [Errno -2] Name or service not known'))\n",
      "1 HTTPConnectionPool(host='www.fsk.ukm.my', port=80): Max retries exceeded with url: /jurnal/jilid%207%281%292009/Chapter6.pdf (Caused by NewConnectionError('<urllib3.connection.HTTPConnection object at 0x7fe9b82fe850>: Failed to establish a new connection: [Errno -2] Name or service not known'))\n",
      "2 HTTPConnectionPool(host='www.fsk.ukm.my', port=80): Max retries exceeded with url: /jurnal/jilid%207%281%292009/Chapter6.pdf (Caused by NewConnectionError('<urllib3.connection.HTTPConnection object at 0x7fe9b82feb20>: Failed to establish a new connection: [Errno -2] Name or service not known'))\n",
      "0 HTTPConnectionPool(host='www.fsk.ukm.my', port=80): Max retries exceeded with url: /jurnal/jilid%207%281%292009/Chapter7.pdf (Caused by NewConnectionError('<urllib3.connection.HTTPConnection object at 0x7fe9b82fefd0>: Failed to establish a new connection: [Errno -2] Name or service not known'))\n",
      "1 HTTPConnectionPool(host='www.fsk.ukm.my', port=80): Max retries exceeded with url: /jurnal/jilid%207%281%292009/Chapter7.pdf (Caused by NewConnectionError('<urllib3.connection.HTTPConnection object at 0x7fe9b82fedf0>: Failed to establish a new connection: [Errno -2] Name or service not known'))\n",
      "2 HTTPConnectionPool(host='www.fsk.ukm.my', port=80): Max retries exceeded with url: /jurnal/jilid%207%281%292009/Chapter7.pdf (Caused by NewConnectionError('<urllib3.connection.HTTPConnection object at 0x7fe9b82feee0>: Failed to establish a new connection: [Errno -2] Name or service not known'))\n",
      "0 HTTPConnectionPool(host='www.fsk.ukm.my', port=80): Max retries exceeded with url: /jurnal/jilid%207%281%292009/Chapter8.pdf (Caused by NewConnectionError('<urllib3.connection.HTTPConnection object at 0x7fe9b82fedf0>: Failed to establish a new connection: [Errno -2] Name or service not known'))\n",
      "1 HTTPConnectionPool(host='www.fsk.ukm.my', port=80): Max retries exceeded with url: /jurnal/jilid%207%281%292009/Chapter8.pdf (Caused by NewConnectionError('<urllib3.connection.HTTPConnection object at 0x7fe9b82fe250>: Failed to establish a new connection: [Errno -2] Name or service not known'))\n",
      "2 HTTPConnectionPool(host='www.fsk.ukm.my', port=80): Max retries exceeded with url: /jurnal/jilid%207%281%292009/Chapter8.pdf (Caused by NewConnectionError('<urllib3.connection.HTTPConnection object at 0x7fe9b82fed60>: Failed to establish a new connection: [Errno -2] Name or service not known'))\n",
      "0 HTTPConnectionPool(host='www.fsk.ukm.my', port=80): Max retries exceeded with url: /jurnal/jilid%207%282%292009/AHMAD%20FIRDAUS%20MOHD%20SALLEH,%20ANITA%20TALIB,%20MOHAMED%20ABDULLAH.pdf (Caused by NewConnectionError('<urllib3.connection.HTTPConnection object at 0x7fe9b82fe550>: Failed to establish a new connection: [Errno -2] Name or service not known'))\n",
      "1 HTTPConnectionPool(host='www.fsk.ukm.my', port=80): Max retries exceeded with url: /jurnal/jilid%207%282%292009/AHMAD%20FIRDAUS%20MOHD%20SALLEH,%20ANITA%20TALIB,%20MOHAMED%20ABDULLAH.pdf (Caused by NewConnectionError('<urllib3.connection.HTTPConnection object at 0x7fe9b82fea60>: Failed to establish a new connection: [Errno -2] Name or service not known'))\n",
      "2 HTTPConnectionPool(host='www.fsk.ukm.my', port=80): Max retries exceeded with url: /jurnal/jilid%207%282%292009/AHMAD%20FIRDAUS%20MOHD%20SALLEH,%20ANITA%20TALIB,%20MOHAMED%20ABDULLAH.pdf (Caused by NewConnectionError('<urllib3.connection.HTTPConnection object at 0x7fe9b82fedc0>: Failed to establish a new connection: [Errno -2] Name or service not known'))\n",
      "0 HTTPConnectionPool(host='www.fsk.ukm.my', port=80): Max retries exceeded with url: /jurnal/jilid%207%282%292009/AYIESAH%20RAMLI,%20NOR%20AZLIN%20MOHD%20NORDIN,%20ASFARINA%20ZANUDIN.pdf (Caused by NewConnectionError('<urllib3.connection.HTTPConnection object at 0x7fe9b82fecd0>: Failed to establish a new connection: [Errno -2] Name or service not known'))\n",
      "1 HTTPConnectionPool(host='www.fsk.ukm.my', port=80): Max retries exceeded with url: /jurnal/jilid%207%282%292009/AYIESAH%20RAMLI,%20NOR%20AZLIN%20MOHD%20NORDIN,%20ASFARINA%20ZANUDIN.pdf (Caused by NewConnectionError('<urllib3.connection.HTTPConnection object at 0x7fe9b82fee20>: Failed to establish a new connection: [Errno -2] Name or service not known'))\n",
      "2 HTTPConnectionPool(host='www.fsk.ukm.my', port=80): Max retries exceeded with url: /jurnal/jilid%207%282%292009/AYIESAH%20RAMLI,%20NOR%20AZLIN%20MOHD%20NORDIN,%20ASFARINA%20ZANUDIN.pdf (Caused by NewConnectionError('<urllib3.connection.HTTPConnection object at 0x7fe9b82fec10>: Failed to establish a new connection: [Errno -2] Name or service not known'))\n",
      "0 HTTPConnectionPool(host='www.fsk.ukm.my', port=80): Max retries exceeded with url: /jurnal/jilid%207%282%292009/HARTINI%20YUSOF%20&%20MOHAMED%20KAMEL%20ABD.%20GHANI.pdf (Caused by NewConnectionError('<urllib3.connection.HTTPConnection object at 0x7fe9b82fee20>: Failed to establish a new connection: [Errno -2] Name or service not known'))\n",
      "1 HTTPConnectionPool(host='www.fsk.ukm.my', port=80): Max retries exceeded with url: /jurnal/jilid%207%282%292009/HARTINI%20YUSOF%20&%20MOHAMED%20KAMEL%20ABD.%20GHANI.pdf (Caused by NewConnectionError('<urllib3.connection.HTTPConnection object at 0x7fe9b82fefa0>: Failed to establish a new connection: [Errno -2] Name or service not known'))\n",
      "2 HTTPConnectionPool(host='www.fsk.ukm.my', port=80): Max retries exceeded with url: /jurnal/jilid%207%282%292009/HARTINI%20YUSOF%20&%20MOHAMED%20KAMEL%20ABD.%20GHANI.pdf (Caused by NewConnectionError('<urllib3.connection.HTTPConnection object at 0x7fe9b82fe100>: Failed to establish a new connection: [Errno -2] Name or service not known'))\n",
      "0 HTTPConnectionPool(host='www.fsk.ukm.my', port=80): Max retries exceeded with url: /jurnal/jilid%207%282%292009/HOLLY%20KNOX%20THOMPSON%20&%20PENELOPE%20A.%20HASKING.pdf (Caused by NewConnectionError('<urllib3.connection.HTTPConnection object at 0x7fe9b82fee80>: Failed to establish a new connection: [Errno -2] Name or service not known'))\n",
      "1 HTTPConnectionPool(host='www.fsk.ukm.my', port=80): Max retries exceeded with url: /jurnal/jilid%207%282%292009/HOLLY%20KNOX%20THOMPSON%20&%20PENELOPE%20A.%20HASKING.pdf (Caused by NewConnectionError('<urllib3.connection.HTTPConnection object at 0x7fe9b82fedf0>: Failed to establish a new connection: [Errno -2] Name or service not known'))\n"
     ]
    },
    {
     "name": "stdout",
     "output_type": "stream",
     "text": [
      "2 HTTPConnectionPool(host='www.fsk.ukm.my', port=80): Max retries exceeded with url: /jurnal/jilid%207%282%292009/HOLLY%20KNOX%20THOMPSON%20&%20PENELOPE%20A.%20HASKING.pdf (Caused by NewConnectionError('<urllib3.connection.HTTPConnection object at 0x7fe9b82fec10>: Failed to establish a new connection: [Errno -2] Name or service not known'))\n",
      "0 HTTPConnectionPool(host='www.fsk.ukm.my', port=80): Max retries exceeded with url: /jurnal/jilid%207%282%292009/NOR%20AZURA%20AZMI,%20NOR%20AZLIN%20MOHD.%20NORDIN%20&%20NOR%20AZILA%20NOH.pdf (Caused by NewConnectionError('<urllib3.connection.HTTPConnection object at 0x7fe9b82fea30>: Failed to establish a new connection: [Errno -2] Name or service not known'))\n",
      "1 HTTPConnectionPool(host='www.fsk.ukm.my', port=80): Max retries exceeded with url: /jurnal/jilid%207%282%292009/NOR%20AZURA%20AZMI,%20NOR%20AZLIN%20MOHD.%20NORDIN%20&%20NOR%20AZILA%20NOH.pdf (Caused by NewConnectionError('<urllib3.connection.HTTPConnection object at 0x7fe9b82fefa0>: Failed to establish a new connection: [Errno -2] Name or service not known'))\n",
      "2 HTTPConnectionPool(host='www.fsk.ukm.my', port=80): Max retries exceeded with url: /jurnal/jilid%207%282%292009/NOR%20AZURA%20AZMI,%20NOR%20AZLIN%20MOHD.%20NORDIN%20&%20NOR%20AZILA%20NOH.pdf (Caused by NewConnectionError('<urllib3.connection.HTTPConnection object at 0x7fe9b82feca0>: Failed to establish a new connection: [Errno -2] Name or service not known'))\n",
      "0 HTTPConnectionPool(host='www.fsk.ukm.my', port=80): Max retries exceeded with url: /jurnal/jilid%207%282%292009/NORADILAH%20SAMSEH%20ABDULLAH,%20MOHAMED%20KAMEL%20ABD%20GHANI,.pdf (Caused by NewConnectionError('<urllib3.connection.HTTPConnection object at 0x7fe9b82fe100>: Failed to establish a new connection: [Errno -2] Name or service not known'))\n",
      "1 HTTPConnectionPool(host='www.fsk.ukm.my', port=80): Max retries exceeded with url: /jurnal/jilid%207%282%292009/NORADILAH%20SAMSEH%20ABDULLAH,%20MOHAMED%20KAMEL%20ABD%20GHANI,.pdf (Caused by NewConnectionError('<urllib3.connection.HTTPConnection object at 0x7fe9b82fe940>: Failed to establish a new connection: [Errno -2] Name or service not known'))\n",
      "2 HTTPConnectionPool(host='www.fsk.ukm.my', port=80): Max retries exceeded with url: /jurnal/jilid%207%282%292009/NORADILAH%20SAMSEH%20ABDULLAH,%20MOHAMED%20KAMEL%20ABD%20GHANI,.pdf (Caused by NewConnectionError('<urllib3.connection.HTTPConnection object at 0x7fe9b82fea30>: Failed to establish a new connection: [Errno -2] Name or service not known'))\n"
     ]
    },
    {
     "name": "stderr",
     "output_type": "stream",
     "text": [
      "\r",
      " 99%|████████████████████████████████████▋| 17948/18101 [02:19<01:17,  1.96it/s]"
     ]
    },
    {
     "name": "stdout",
     "output_type": "stream",
     "text": [
      "0 HTTPConnectionPool(host='www.fsk.ukm.my', port=80): Max retries exceeded with url: /jurnal/jilid%207%282%292009/NORHANI%20MOHIDIN%20&%20TEE%20LEE%20FUNG.pdf (Caused by NewConnectionError('<urllib3.connection.HTTPConnection object at 0x7fe9b82fec10>: Failed to establish a new connection: [Errno -2] Name or service not known'))\n",
      "1 HTTPConnectionPool(host='www.fsk.ukm.my', port=80): Max retries exceeded with url: /jurnal/jilid%207%282%292009/NORHANI%20MOHIDIN%20&%20TEE%20LEE%20FUNG.pdf (Caused by NewConnectionError('<urllib3.connection.HTTPConnection object at 0x7fe9b82fefd0>: Failed to establish a new connection: [Errno -2] Name or service not known'))\n",
      "2 HTTPConnectionPool(host='www.fsk.ukm.my', port=80): Max retries exceeded with url: /jurnal/jilid%207%282%292009/NORHANI%20MOHIDIN%20&%20TEE%20LEE%20FUNG.pdf (Caused by NewConnectionError('<urllib3.connection.HTTPConnection object at 0x7fe9b82feee0>: Failed to establish a new connection: [Errno -2] Name or service not known'))\n"
     ]
    },
    {
     "name": "stderr",
     "output_type": "stream",
     "text": [
      "\r",
      " 99%|████████████████████████████████████▋| 17960/18101 [02:20<01:48,  1.29it/s]"
     ]
    },
    {
     "name": "stdout",
     "output_type": "stream",
     "text": [
      "0 HTTPConnectionPool(host='www.fsk.ukm.my', port=80): Max retries exceeded with url: /jurnal/jilid%207%282%292009/SUZANA%20SHAHAR%20&%20YOW%20BEE%20CHARN.pdf (Caused by NewConnectionError('<urllib3.connection.HTTPConnection object at 0x7fe9b82feca0>: Failed to establish a new connection: [Errno -2] Name or service not known'))\n",
      "1 HTTPConnectionPool(host='www.fsk.ukm.my', port=80): Max retries exceeded with url: /jurnal/jilid%207%282%292009/SUZANA%20SHAHAR%20&%20YOW%20BEE%20CHARN.pdf (Caused by NewConnectionError('<urllib3.connection.HTTPConnection object at 0x7fe9b82fe100>: Failed to establish a new connection: [Errno -2] Name or service not known'))\n",
      "2 HTTPConnectionPool(host='www.fsk.ukm.my', port=80): Max retries exceeded with url: /jurnal/jilid%207%282%292009/SUZANA%20SHAHAR%20&%20YOW%20BEE%20CHARN.pdf (Caused by NewConnectionError('<urllib3.connection.HTTPConnection object at 0x7fe9b82fef40>: Failed to establish a new connection: [Errno -2] Name or service not known'))\n"
     ]
    },
    {
     "name": "stderr",
     "output_type": "stream",
     "text": [
      "\r",
      " 99%|████████████████████████████████████▋| 17961/18101 [02:22<01:51,  1.26it/s]"
     ]
    },
    {
     "name": "stdout",
     "output_type": "stream",
     "text": [
      "0 HTTPConnectionPool(host='www.fsk.ukm.my', port=80): Max retries exceeded with url: /jurnal/jilid%208%281%29%202010/Bab%201.pdf (Caused by NewConnectionError('<urllib3.connection.HTTPConnection object at 0x7fe9b82fe250>: Failed to establish a new connection: [Errno -2] Name or service not known'))\n",
      "1 HTTPConnectionPool(host='www.fsk.ukm.my', port=80): Max retries exceeded with url: /jurnal/jilid%208%281%29%202010/Bab%201.pdf (Caused by NewConnectionError('<urllib3.connection.HTTPConnection object at 0x7fe9b82feca0>: Failed to establish a new connection: [Errno -2] Name or service not known'))\n",
      "2 HTTPConnectionPool(host='www.fsk.ukm.my', port=80): Max retries exceeded with url: /jurnal/jilid%208%281%29%202010/Bab%201.pdf (Caused by NewConnectionError('<urllib3.connection.HTTPConnection object at 0x7fe9b82fe850>: Failed to establish a new connection: [Errno -2] Name or service not known'))\n",
      "0 HTTPConnectionPool(host='www.fsk.ukm.my', port=80): Max retries exceeded with url: /jurnal/jilid%208%281%29%202010/Bab%202.pdf (Caused by NewConnectionError('<urllib3.connection.HTTPConnection object at 0x7fe9b82fe700>: Failed to establish a new connection: [Errno -2] Name or service not known'))\n",
      "1 HTTPConnectionPool(host='www.fsk.ukm.my', port=80): Max retries exceeded with url: /jurnal/jilid%208%281%29%202010/Bab%202.pdf (Caused by NewConnectionError('<urllib3.connection.HTTPConnection object at 0x7fe9b82fe940>: Failed to establish a new connection: [Errno -2] Name or service not known'))\n",
      "2 HTTPConnectionPool(host='www.fsk.ukm.my', port=80): Max retries exceeded with url: /jurnal/jilid%208%281%29%202010/Bab%202.pdf (Caused by NewConnectionError('<urllib3.connection.HTTPConnection object at 0x7fe9b82fedf0>: Failed to establish a new connection: [Errno -2] Name or service not known'))\n",
      "0 HTTPConnectionPool(host='www.fsk.ukm.my', port=80): Max retries exceeded with url: /jurnal/jilid%208%281%29%202010/Bab%203.pdf (Caused by NewConnectionError('<urllib3.connection.HTTPConnection object at 0x7fe9b82fe850>: Failed to establish a new connection: [Errno -2] Name or service not known'))\n",
      "1 HTTPConnectionPool(host='www.fsk.ukm.my', port=80): Max retries exceeded with url: /jurnal/jilid%208%281%29%202010/Bab%203.pdf (Caused by NewConnectionError('<urllib3.connection.HTTPConnection object at 0x7fe9b82fee20>: Failed to establish a new connection: [Errno -2] Name or service not known'))\n",
      "2 HTTPConnectionPool(host='www.fsk.ukm.my', port=80): Max retries exceeded with url: /jurnal/jilid%208%281%29%202010/Bab%203.pdf (Caused by NewConnectionError('<urllib3.connection.HTTPConnection object at 0x7fe9b82fef10>: Failed to establish a new connection: [Errno -2] Name or service not known'))\n",
      "0 HTTPConnectionPool(host='www.fsk.ukm.my', port=80): Max retries exceeded with url: /jurnal/jilid%208%281%29%202010/Bab%204.pdf (Caused by NewConnectionError('<urllib3.connection.HTTPConnection object at 0x7fe9b82fec40>: Failed to establish a new connection: [Errno -2] Name or service not known'))\n",
      "1 HTTPConnectionPool(host='www.fsk.ukm.my', port=80): Max retries exceeded with url: /jurnal/jilid%208%281%29%202010/Bab%204.pdf (Caused by NewConnectionError('<urllib3.connection.HTTPConnection object at 0x7fe9b82fef70>: Failed to establish a new connection: [Errno -2] Name or service not known'))\n",
      "2 HTTPConnectionPool(host='www.fsk.ukm.my', port=80): Max retries exceeded with url: /jurnal/jilid%208%281%29%202010/Bab%204.pdf (Caused by NewConnectionError('<urllib3.connection.HTTPConnection object at 0x7fe9b82fee80>: Failed to establish a new connection: [Errno -2] Name or service not known'))\n",
      "0 HTTPConnectionPool(host='www.fsk.ukm.my', port=80): Max retries exceeded with url: /jurnal/jilid%208%281%29%202010/Bab%205.pdf (Caused by NewConnectionError('<urllib3.connection.HTTPConnection object at 0x7fe9b82fecd0>: Failed to establish a new connection: [Errno -2] Name or service not known'))\n",
      "1 HTTPConnectionPool(host='www.fsk.ukm.my', port=80): Max retries exceeded with url: /jurnal/jilid%208%281%29%202010/Bab%205.pdf (Caused by NewConnectionError('<urllib3.connection.HTTPConnection object at 0x7fe9b82fe100>: Failed to establish a new connection: [Errno -2] Name or service not known'))\n",
      "2 HTTPConnectionPool(host='www.fsk.ukm.my', port=80): Max retries exceeded with url: /jurnal/jilid%208%281%29%202010/Bab%205.pdf (Caused by NewConnectionError('<urllib3.connection.HTTPConnection object at 0x7fe9b82febe0>: Failed to establish a new connection: [Errno -2] Name or service not known'))\n",
      "0 HTTPConnectionPool(host='www.fsk.ukm.my', port=80): Max retries exceeded with url: /jurnal/jilid%208%281%29%202010/Bab%206.pdf (Caused by NewConnectionError('<urllib3.connection.HTTPConnection object at 0x7fe9b82feee0>: Failed to establish a new connection: [Errno -2] Name or service not known'))\n",
      "1 HTTPConnectionPool(host='www.fsk.ukm.my', port=80): Max retries exceeded with url: /jurnal/jilid%208%281%29%202010/Bab%206.pdf (Caused by NewConnectionError('<urllib3.connection.HTTPConnection object at 0x7fe9b82fef10>: Failed to establish a new connection: [Errno -2] Name or service not known'))\n",
      "2 HTTPConnectionPool(host='www.fsk.ukm.my', port=80): Max retries exceeded with url: /jurnal/jilid%208%281%29%202010/Bab%206.pdf (Caused by NewConnectionError('<urllib3.connection.HTTPConnection object at 0x7fe9b82febb0>: Failed to establish a new connection: [Errno -2] Name or service not known'))\n",
      "0 HTTPConnectionPool(host='www.fsk.ukm.my', port=80): Max retries exceeded with url: /jurnal/jilid%208%281%29%202010/Bab%207.pdf (Caused by NewConnectionError('<urllib3.connection.HTTPConnection object at 0x7fe9b82fec40>: Failed to establish a new connection: [Errno -2] Name or service not known'))\n",
      "1 HTTPConnectionPool(host='www.fsk.ukm.my', port=80): Max retries exceeded with url: /jurnal/jilid%208%281%29%202010/Bab%207.pdf (Caused by NewConnectionError('<urllib3.connection.HTTPConnection object at 0x7fe9b82febe0>: Failed to establish a new connection: [Errno -2] Name or service not known'))\n",
      "2 HTTPConnectionPool(host='www.fsk.ukm.my', port=80): Max retries exceeded with url: /jurnal/jilid%208%281%29%202010/Bab%207.pdf (Caused by NewConnectionError('<urllib3.connection.HTTPConnection object at 0x7fe9b82fe550>: Failed to establish a new connection: [Errno -2] Name or service not known'))\n",
      "0 HTTPConnectionPool(host='www.fsk.ukm.my', port=80): Max retries exceeded with url: /jurnal/jilid%208%281%29%202010/Bab%208.pdf (Caused by NewConnectionError('<urllib3.connection.HTTPConnection object at 0x7fe9b82fe850>: Failed to establish a new connection: [Errno -2] Name or service not known'))\n",
      "1 HTTPConnectionPool(host='www.fsk.ukm.my', port=80): Max retries exceeded with url: /jurnal/jilid%208%281%29%202010/Bab%208.pdf (Caused by NewConnectionError('<urllib3.connection.HTTPConnection object at 0x7fe9b82fee80>: Failed to establish a new connection: [Errno -2] Name or service not known'))\n",
      "2 HTTPConnectionPool(host='www.fsk.ukm.my', port=80): Max retries exceeded with url: /jurnal/jilid%208%281%29%202010/Bab%208.pdf (Caused by NewConnectionError('<urllib3.connection.HTTPConnection object at 0x7fe9b82fedc0>: Failed to establish a new connection: [Errno -2] Name or service not known'))\n",
      "0 HTTPConnectionPool(host='www.fsk.ukm.my', port=80): Max retries exceeded with url: /jurnal/jilid%208%282%29%202010/Chap%201.pdf (Caused by NewConnectionError('<urllib3.connection.HTTPConnection object at 0x7fe9b82fe250>: Failed to establish a new connection: [Errno -2] Name or service not known'))\n",
      "1 HTTPConnectionPool(host='www.fsk.ukm.my', port=80): Max retries exceeded with url: /jurnal/jilid%208%282%29%202010/Chap%201.pdf (Caused by NewConnectionError('<urllib3.connection.HTTPConnection object at 0x7fe9b82febe0>: Failed to establish a new connection: [Errno -2] Name or service not known'))\n",
      "2 HTTPConnectionPool(host='www.fsk.ukm.my', port=80): Max retries exceeded with url: /jurnal/jilid%208%282%29%202010/Chap%201.pdf (Caused by NewConnectionError('<urllib3.connection.HTTPConnection object at 0x7fe9b82fea30>: Failed to establish a new connection: [Errno -2] Name or service not known'))\n",
      "0 HTTPConnectionPool(host='www.fsk.ukm.my', port=80): Max retries exceeded with url: /jurnal/jilid%208%282%29%202010/Chap%2010.pdf (Caused by NewConnectionError('<urllib3.connection.HTTPConnection object at 0x7fe9b82febe0>: Failed to establish a new connection: [Errno -2] Name or service not known'))\n"
     ]
    },
    {
     "name": "stdout",
     "output_type": "stream",
     "text": [
      "1 HTTPConnectionPool(host='www.fsk.ukm.my', port=80): Max retries exceeded with url: /jurnal/jilid%208%282%29%202010/Chap%2010.pdf (Caused by NewConnectionError('<urllib3.connection.HTTPConnection object at 0x7fe9b82feeb0>: Failed to establish a new connection: [Errno -2] Name or service not known'))\n",
      "2 HTTPConnectionPool(host='www.fsk.ukm.my', port=80): Max retries exceeded with url: /jurnal/jilid%208%282%29%202010/Chap%2010.pdf (Caused by NewConnectionError('<urllib3.connection.HTTPConnection object at 0x7fe9b82fedc0>: Failed to establish a new connection: [Errno -2] Name or service not known'))\n",
      "0 HTTPConnectionPool(host='www.fsk.ukm.my', port=80): Max retries exceeded with url: /jurnal/jilid%208%282%29%202010/Chap%202.pdf (Caused by NewConnectionError('<urllib3.connection.HTTPConnection object at 0x7fe9b82feee0>: Failed to establish a new connection: [Errno -2] Name or service not known'))\n",
      "1 HTTPConnectionPool(host='www.fsk.ukm.my', port=80): Max retries exceeded with url: /jurnal/jilid%208%282%29%202010/Chap%202.pdf (Caused by NewConnectionError('<urllib3.connection.HTTPConnection object at 0x7fe9b82fecd0>: Failed to establish a new connection: [Errno -2] Name or service not known'))\n"
     ]
    },
    {
     "name": "stderr",
     "output_type": "stream",
     "text": [
      "\r",
      " 99%|████████████████████████████████████▋| 17961/18101 [02:39<01:51,  1.26it/s]"
     ]
    },
    {
     "name": "stdout",
     "output_type": "stream",
     "text": [
      "2 HTTPConnectionPool(host='www.fsk.ukm.my', port=80): Max retries exceeded with url: /jurnal/jilid%208%282%29%202010/Chap%202.pdf (Caused by NewConnectionError('<urllib3.connection.HTTPConnection object at 0x7fe9b82fedf0>: Failed to establish a new connection: [Errno -2] Name or service not known'))\n"
     ]
    },
    {
     "name": "stderr",
     "output_type": "stream",
     "text": [
      "\r",
      " 99%|████████████████████████████████████▋| 17972/18101 [02:40<02:14,  1.04s/it]"
     ]
    },
    {
     "name": "stdout",
     "output_type": "stream",
     "text": [
      "0 HTTPConnectionPool(host='www.fsk.ukm.my', port=80): Max retries exceeded with url: /jurnal/jilid%208%282%29%202010/Chap%203.pdf (Caused by NewConnectionError('<urllib3.connection.HTTPConnection object at 0x7fe9b82fea60>: Failed to establish a new connection: [Errno -2] Name or service not known'))\n",
      "1 HTTPConnectionPool(host='www.fsk.ukm.my', port=80): Max retries exceeded with url: /jurnal/jilid%208%282%29%202010/Chap%203.pdf (Caused by NewConnectionError('<urllib3.connection.HTTPConnection object at 0x7fe9b82febe0>: Failed to establish a new connection: [Errno -2] Name or service not known'))\n",
      "2 HTTPConnectionPool(host='www.fsk.ukm.my', port=80): Max retries exceeded with url: /jurnal/jilid%208%282%29%202010/Chap%203.pdf (Caused by NewConnectionError('<urllib3.connection.HTTPConnection object at 0x7fe9b82feaf0>: Failed to establish a new connection: [Errno -2] Name or service not known'))\n"
     ]
    },
    {
     "name": "stderr",
     "output_type": "stream",
     "text": [
      "\r",
      " 99%|████████████████████████████████████▋| 17973/18101 [02:41<02:16,  1.06s/it]"
     ]
    },
    {
     "name": "stdout",
     "output_type": "stream",
     "text": [
      "0 HTTPConnectionPool(host='www.fsk.ukm.my', port=80): Max retries exceeded with url: /jurnal/jilid%208%282%29%202010/Chap%204.pdf (Caused by NewConnectionError('<urllib3.connection.HTTPConnection object at 0x7fe9b82fefd0>: Failed to establish a new connection: [Errno -2] Name or service not known'))\n",
      "1 HTTPConnectionPool(host='www.fsk.ukm.my', port=80): Max retries exceeded with url: /jurnal/jilid%208%282%29%202010/Chap%204.pdf (Caused by NewConnectionError('<urllib3.connection.HTTPConnection object at 0x7fe9b82fed30>: Failed to establish a new connection: [Errno -2] Name or service not known'))\n",
      "2 HTTPConnectionPool(host='www.fsk.ukm.my', port=80): Max retries exceeded with url: /jurnal/jilid%208%282%29%202010/Chap%204.pdf (Caused by NewConnectionError('<urllib3.connection.HTTPConnection object at 0x7fe9b82fe9d0>: Failed to establish a new connection: [Errno -2] Name or service not known'))\n",
      "0 HTTPConnectionPool(host='www.fsk.ukm.my', port=80): Max retries exceeded with url: /jurnal/jilid%208%282%29%202010/Chap%205.pdf (Caused by NewConnectionError('<urllib3.connection.HTTPConnection object at 0x7fe9b82fe790>: Failed to establish a new connection: [Errno -2] Name or service not known'))\n",
      "1 HTTPConnectionPool(host='www.fsk.ukm.my', port=80): Max retries exceeded with url: /jurnal/jilid%208%282%29%202010/Chap%205.pdf (Caused by NewConnectionError('<urllib3.connection.HTTPConnection object at 0x7fe9b82feb20>: Failed to establish a new connection: [Errno -2] Name or service not known'))\n",
      "2 HTTPConnectionPool(host='www.fsk.ukm.my', port=80): Max retries exceeded with url: /jurnal/jilid%208%282%29%202010/Chap%205.pdf (Caused by NewConnectionError('<urllib3.connection.HTTPConnection object at 0x7fe9b82feee0>: Failed to establish a new connection: [Errno -2] Name or service not known'))\n",
      "0 HTTPConnectionPool(host='www.fsk.ukm.my', port=80): Max retries exceeded with url: /jurnal/jilid%208%282%29%202010/Chap%206.pdf (Caused by NewConnectionError('<urllib3.connection.HTTPConnection object at 0x7fe9b82feb20>: Failed to establish a new connection: [Errno -2] Name or service not known'))\n",
      "1 HTTPConnectionPool(host='www.fsk.ukm.my', port=80): Max retries exceeded with url: /jurnal/jilid%208%282%29%202010/Chap%206.pdf (Caused by NewConnectionError('<urllib3.connection.HTTPConnection object at 0x7fe9b82fed30>: Failed to establish a new connection: [Errno -2] Name or service not known'))\n",
      "2 HTTPConnectionPool(host='www.fsk.ukm.my', port=80): Max retries exceeded with url: /jurnal/jilid%208%282%29%202010/Chap%206.pdf (Caused by NewConnectionError('<urllib3.connection.HTTPConnection object at 0x7fe9b82fea30>: Failed to establish a new connection: [Errno -2] Name or service not known'))\n",
      "0 HTTPConnectionPool(host='www.fsk.ukm.my', port=80): Max retries exceeded with url: /jurnal/jilid%208%282%29%202010/Chap%207.pdf (Caused by NewConnectionError('<urllib3.connection.HTTPConnection object at 0x7fe9b82fecd0>: Failed to establish a new connection: [Errno -2] Name or service not known'))\n",
      "1 HTTPConnectionPool(host='www.fsk.ukm.my', port=80): Max retries exceeded with url: /jurnal/jilid%208%282%29%202010/Chap%207.pdf (Caused by NewConnectionError('<urllib3.connection.HTTPConnection object at 0x7fe9b82fef40>: Failed to establish a new connection: [Errno -2] Name or service not known'))\n",
      "2 HTTPConnectionPool(host='www.fsk.ukm.my', port=80): Max retries exceeded with url: /jurnal/jilid%208%282%29%202010/Chap%207.pdf (Caused by NewConnectionError('<urllib3.connection.HTTPConnection object at 0x7fe9b82fed90>: Failed to establish a new connection: [Errno -2] Name or service not known'))\n",
      "0 HTTPConnectionPool(host='www.fsk.ukm.my', port=80): Max retries exceeded with url: /jurnal/jilid%208%282%29%202010/Chap%208.pdf (Caused by NewConnectionError('<urllib3.connection.HTTPConnection object at 0x7fe9b82fefa0>: Failed to establish a new connection: [Errno -2] Name or service not known'))\n",
      "1 HTTPConnectionPool(host='www.fsk.ukm.my', port=80): Max retries exceeded with url: /jurnal/jilid%208%282%29%202010/Chap%208.pdf (Caused by NewConnectionError('<urllib3.connection.HTTPConnection object at 0x7fe9b82feb20>: Failed to establish a new connection: [Errno -2] Name or service not known'))\n",
      "2 HTTPConnectionPool(host='www.fsk.ukm.my', port=80): Max retries exceeded with url: /jurnal/jilid%208%282%29%202010/Chap%208.pdf (Caused by NewConnectionError('<urllib3.connection.HTTPConnection object at 0x7fe9b82fe670>: Failed to establish a new connection: [Errno -2] Name or service not known'))\n",
      "0 HTTPConnectionPool(host='www.fsk.ukm.my', port=80): Max retries exceeded with url: /jurnal/jilid%208%282%29%202010/Chap%209.pdf (Caused by NewConnectionError('<urllib3.connection.HTTPConnection object at 0x7fe9b82fefd0>: Failed to establish a new connection: [Errno -2] Name or service not known'))\n",
      "1 HTTPConnectionPool(host='www.fsk.ukm.my', port=80): Max retries exceeded with url: /jurnal/jilid%208%282%29%202010/Chap%209.pdf (Caused by NewConnectionError('<urllib3.connection.HTTPConnection object at 0x7fe9b82fedf0>: Failed to establish a new connection: [Errno -2] Name or service not known'))\n",
      "2 HTTPConnectionPool(host='www.fsk.ukm.my', port=80): Max retries exceeded with url: /jurnal/jilid%208%282%29%202010/Chap%209.pdf (Caused by NewConnectionError('<urllib3.connection.HTTPConnection object at 0x7fe9b82fec10>: Failed to establish a new connection: [Errno -2] Name or service not known'))\n",
      "0 HTTPConnectionPool(host='www.fsk.ukm.my', port=80): Max retries exceeded with url: /jurnal/jilid%209%281%29%202011/Chap%202_terbitan%209.1%20%282011%29.pdf (Caused by NewConnectionError('<urllib3.connection.HTTPConnection object at 0x7fe9b82fe250>: Failed to establish a new connection: [Errno -2] Name or service not known'))\n",
      "1 HTTPConnectionPool(host='www.fsk.ukm.my', port=80): Max retries exceeded with url: /jurnal/jilid%209%281%29%202011/Chap%202_terbitan%209.1%20%282011%29.pdf (Caused by NewConnectionError('<urllib3.connection.HTTPConnection object at 0x7fe9b82feeb0>: Failed to establish a new connection: [Errno -2] Name or service not known'))\n",
      "2 HTTPConnectionPool(host='www.fsk.ukm.my', port=80): Max retries exceeded with url: /jurnal/jilid%209%281%29%202011/Chap%202_terbitan%209.1%20%282011%29.pdf (Caused by NewConnectionError('<urllib3.connection.HTTPConnection object at 0x7fe9b82fecd0>: Failed to establish a new connection: [Errno -2] Name or service not known'))\n",
      "0 HTTPConnectionPool(host='www.fsk.ukm.my', port=80): Max retries exceeded with url: /jurnal/jilid%209%281%29%202011/Chap%203_terbitan%209.1%20%282011%29.pdf (Caused by NewConnectionError('<urllib3.connection.HTTPConnection object at 0x7fe9b82fedc0>: Failed to establish a new connection: [Errno -2] Name or service not known'))\n",
      "1 HTTPConnectionPool(host='www.fsk.ukm.my', port=80): Max retries exceeded with url: /jurnal/jilid%209%281%29%202011/Chap%203_terbitan%209.1%20%282011%29.pdf (Caused by NewConnectionError('<urllib3.connection.HTTPConnection object at 0x7fe9b82fedf0>: Failed to establish a new connection: [Errno -2] Name or service not known'))\n",
      "2 HTTPConnectionPool(host='www.fsk.ukm.my', port=80): Max retries exceeded with url: /jurnal/jilid%209%281%29%202011/Chap%203_terbitan%209.1%20%282011%29.pdf (Caused by NewConnectionError('<urllib3.connection.HTTPConnection object at 0x7fe9b82fe250>: Failed to establish a new connection: [Errno -2] Name or service not known'))\n",
      "0 HTTPConnectionPool(host='www.fsk.ukm.my', port=80): Max retries exceeded with url: /jurnal/jilid%209%281%29%202011/Chap%204_terbitan%209.1%20%282011%29.pdf (Caused by NewConnectionError('<urllib3.connection.HTTPConnection object at 0x7fe9b82fef70>: Failed to establish a new connection: [Errno -2] Name or service not known'))\n",
      "1 HTTPConnectionPool(host='www.fsk.ukm.my', port=80): Max retries exceeded with url: /jurnal/jilid%209%281%29%202011/Chap%204_terbitan%209.1%20%282011%29.pdf (Caused by NewConnectionError('<urllib3.connection.HTTPConnection object at 0x7fe9b82fe790>: Failed to establish a new connection: [Errno -2] Name or service not known'))\n",
      "2 HTTPConnectionPool(host='www.fsk.ukm.my', port=80): Max retries exceeded with url: /jurnal/jilid%209%281%29%202011/Chap%204_terbitan%209.1%20%282011%29.pdf (Caused by NewConnectionError('<urllib3.connection.HTTPConnection object at 0x7fe9b82fecd0>: Failed to establish a new connection: [Errno -2] Name or service not known'))\n"
     ]
    },
    {
     "name": "stderr",
     "output_type": "stream",
     "text": [
      "\r",
      " 99%|████████████████████████████████████▊| 17982/18101 [02:55<02:27,  1.24s/it]"
     ]
    },
    {
     "name": "stdout",
     "output_type": "stream",
     "text": [
      "0 HTTPConnectionPool(host='www.fsk.ukm.my', port=80): Max retries exceeded with url: /jurnal/jilid%209%281%29%202011/Chap%205_terbitan%209.1%20%282011%29.pdf (Caused by NewConnectionError('<urllib3.connection.HTTPConnection object at 0x7fe9b82fee20>: Failed to establish a new connection: [Errno -2] Name or service not known'))\n",
      "1 HTTPConnectionPool(host='www.fsk.ukm.my', port=80): Max retries exceeded with url: /jurnal/jilid%209%281%29%202011/Chap%205_terbitan%209.1%20%282011%29.pdf (Caused by NewConnectionError('<urllib3.connection.HTTPConnection object at 0x7fe9b82fef70>: Failed to establish a new connection: [Errno -2] Name or service not known'))\n",
      "2 HTTPConnectionPool(host='www.fsk.ukm.my', port=80): Max retries exceeded with url: /jurnal/jilid%209%281%29%202011/Chap%205_terbitan%209.1%20%282011%29.pdf (Caused by NewConnectionError('<urllib3.connection.HTTPConnection object at 0x7fe9b82fedf0>: Failed to establish a new connection: [Errno -2] Name or service not known'))\n"
     ]
    },
    {
     "name": "stderr",
     "output_type": "stream",
     "text": [
      "\r",
      " 99%|████████████████████████████████████▊| 17983/18101 [02:57<02:28,  1.26s/it]"
     ]
    },
    {
     "name": "stdout",
     "output_type": "stream",
     "text": [
      "0 HTTPConnectionPool(host='www.fsk.ukm.my', port=80): Max retries exceeded with url: /jurnal/jilid%209%281%29%202011/Chap%206_terbitan%209.1%20%282011%29.pdf (Caused by NewConnectionError('<urllib3.connection.HTTPConnection object at 0x7fe9b82fec40>: Failed to establish a new connection: [Errno -2] Name or service not known'))\n",
      "1 HTTPConnectionPool(host='www.fsk.ukm.my', port=80): Max retries exceeded with url: /jurnal/jilid%209%281%29%202011/Chap%206_terbitan%209.1%20%282011%29.pdf (Caused by NewConnectionError('<urllib3.connection.HTTPConnection object at 0x7fe9b82feca0>: Failed to establish a new connection: [Errno -2] Name or service not known'))\n",
      "2 HTTPConnectionPool(host='www.fsk.ukm.my', port=80): Max retries exceeded with url: /jurnal/jilid%209%281%29%202011/Chap%206_terbitan%209.1%20%282011%29.pdf (Caused by NewConnectionError('<urllib3.connection.HTTPConnection object at 0x7fe9b82fec10>: Failed to establish a new connection: [Errno -2] Name or service not known'))\n",
      "0 HTTPConnectionPool(host='www.fsk.ukm.my', port=80): Max retries exceeded with url: /jurnal/jilid%209%281%29%202011/Chap%207_terbitan%209.1%20%282011%29.pdf (Caused by NewConnectionError('<urllib3.connection.HTTPConnection object at 0x7fe9b82fe940>: Failed to establish a new connection: [Errno -2] Name or service not known'))\n",
      "1 HTTPConnectionPool(host='www.fsk.ukm.my', port=80): Max retries exceeded with url: /jurnal/jilid%209%281%29%202011/Chap%207_terbitan%209.1%20%282011%29.pdf (Caused by NewConnectionError('<urllib3.connection.HTTPConnection object at 0x7fe9b82fee80>: Failed to establish a new connection: [Errno -2] Name or service not known'))\n",
      "2 HTTPConnectionPool(host='www.fsk.ukm.my', port=80): Max retries exceeded with url: /jurnal/jilid%209%281%29%202011/Chap%207_terbitan%209.1%20%282011%29.pdf (Caused by NewConnectionError('<urllib3.connection.HTTPConnection object at 0x7fe9b82feca0>: Failed to establish a new connection: [Errno -2] Name or service not known'))\n",
      "0 HTTPConnectionPool(host='www.fsk.ukm.my', port=80): Max retries exceeded with url: /jurnal/jilid%209%281%29%202011/Chap%208_terbitan%209.1%20%282011%29.pdf (Caused by NewConnectionError('<urllib3.connection.HTTPConnection object at 0x7fe9b82fef10>: Failed to establish a new connection: [Errno -2] Name or service not known'))\n",
      "1 HTTPConnectionPool(host='www.fsk.ukm.my', port=80): Max retries exceeded with url: /jurnal/jilid%209%281%29%202011/Chap%208_terbitan%209.1%20%282011%29.pdf (Caused by NewConnectionError('<urllib3.connection.HTTPConnection object at 0x7fe9b82fedf0>: Failed to establish a new connection: [Errno -2] Name or service not known'))\n",
      "2 HTTPConnectionPool(host='www.fsk.ukm.my', port=80): Max retries exceeded with url: /jurnal/jilid%209%281%29%202011/Chap%208_terbitan%209.1%20%282011%29.pdf (Caused by NewConnectionError('<urllib3.connection.HTTPConnection object at 0x7fe9b82fee80>: Failed to establish a new connection: [Errno -2] Name or service not known'))\n"
     ]
    },
    {
     "name": "stderr",
     "output_type": "stream",
     "text": [
      " 99%|████████████████████████████████████▊| 17998/18101 [03:19<01:09,  1.48it/s]"
     ]
    },
    {
     "name": "stdout",
     "output_type": "stream",
     "text": [
      "0 ('Connection aborted.', ConnectionResetError(104, 'Connection reset by peer'))\n",
      "1 ('Connection aborted.', ConnectionResetError(104, 'Connection reset by peer'))\n",
      "2 ('Connection aborted.', ConnectionResetError(104, 'Connection reset by peer'))\n"
     ]
    },
    {
     "name": "stderr",
     "output_type": "stream",
     "text": [
      "\r",
      "100%|████████████████████████████████████▊| 18019/18101 [06:05<07:50,  5.73s/it]"
     ]
    },
    {
     "name": "stdout",
     "output_type": "stream",
     "text": [
      "0 ('Connection aborted.', ConnectionResetError(104, 'Connection reset by peer'))\n",
      "1 ('Connection aborted.', ConnectionResetError(104, 'Connection reset by peer'))\n",
      "2 ('Connection aborted.', ConnectionResetError(104, 'Connection reset by peer'))\n"
     ]
    },
    {
     "name": "stderr",
     "output_type": "stream",
     "text": [
      "\r",
      "100%|████████████████████████████████████▊| 18020/18101 [09:06<17:33, 13.00s/it]"
     ]
    },
    {
     "name": "stdout",
     "output_type": "stream",
     "text": [
      "0 ('Connection aborted.', ConnectionResetError(104, 'Connection reset by peer'))\n",
      "1 ('Connection aborted.', ConnectionResetError(104, 'Connection reset by peer'))\n"
     ]
    },
    {
     "name": "stderr",
     "output_type": "stream",
     "text": [
      "\r",
      "100%|████████████████████████████████████▊| 18021/18101 [11:07<25:22, 19.04s/it]"
     ]
    },
    {
     "name": "stdout",
     "output_type": "stream",
     "text": [
      "0 ('Connection aborted.', ConnectionResetError(104, 'Connection reset by peer'))\n",
      "1 ('Connection aborted.', ConnectionResetError(104, 'Connection reset by peer'))\n",
      "1 ('Connection aborted.', ConnectionResetError(104, 'Connection reset by peer'))\n",
      "2 ('Connection aborted.', ConnectionResetError(104, 'Connection reset by peer'))\n"
     ]
    },
    {
     "name": "stderr",
     "output_type": "stream",
     "text": [
      "\r",
      "100%|████████████████████████████████████▊| 18023/18101 [17:11<59:00, 45.40s/it]"
     ]
    },
    {
     "name": "stdout",
     "output_type": "stream",
     "text": [
      "0 ('Connection aborted.', ConnectionResetError(104, 'Connection reset by peer'))\n",
      "1 ('Connection aborted.', ConnectionResetError(104, 'Connection reset by peer'))\n",
      "2 ('Connection aborted.', ConnectionResetError(104, 'Connection reset by peer'))\n"
     ]
    },
    {
     "name": "stderr",
     "output_type": "stream",
     "text": [
      "\r",
      "100%|██████████████████████████████████▊| 18024/18101 [20:12<1:19:13, 61.73s/it]"
     ]
    },
    {
     "name": "stdout",
     "output_type": "stream",
     "text": [
      "0 ('Connection aborted.', ConnectionResetError(104, 'Connection reset by peer'))\n",
      "1 ('Connection aborted.', ConnectionResetError(104, 'Connection reset by peer'))\n",
      "2 ('Connection aborted.', ConnectionResetError(104, 'Connection reset by peer'))\n"
     ]
    },
    {
     "name": "stderr",
     "output_type": "stream",
     "text": [
      "\r",
      "100%|██████████████████████████████████▊| 18025/18101 [23:14<1:40:24, 79.27s/it]"
     ]
    },
    {
     "name": "stdout",
     "output_type": "stream",
     "text": [
      "0 ('Connection aborted.', ConnectionResetError(104, 'Connection reset by peer'))\n",
      "1 ('Connection aborted.', ConnectionResetError(104, 'Connection reset by peer'))\n",
      "2 ('Connection aborted.', ConnectionResetError(104, 'Connection reset by peer'))\n"
     ]
    },
    {
     "name": "stderr",
     "output_type": "stream",
     "text": [
      "\r",
      "100%|██████████████████████████████████▊| 18026/18101 [26:16<2:01:12, 96.97s/it]"
     ]
    },
    {
     "name": "stdout",
     "output_type": "stream",
     "text": [
      "0 ('Connection aborted.', ConnectionResetError(104, 'Connection reset by peer'))\n",
      "1 ('Connection aborted.', ConnectionResetError(104, 'Connection reset by peer'))\n"
     ]
    },
    {
     "name": "stderr",
     "output_type": "stream",
     "text": [
      "\r",
      "100%|█████████████████████████████████▊| 18027/18101 [28:17<2:05:30, 101.76s/it]"
     ]
    },
    {
     "name": "stdout",
     "output_type": "stream",
     "text": [
      "0 ('Connection aborted.', ConnectionResetError(104, 'Connection reset by peer'))\n",
      "1 ('Connection aborted.', ConnectionResetError(104, 'Connection reset by peer'))\n",
      "2 ('Connection aborted.', ConnectionResetError(104, 'Connection reset by peer'))\n"
     ]
    },
    {
     "name": "stderr",
     "output_type": "stream",
     "text": [
      "100%|████████████████████████████████████▉| 18057/18101 [31:39<04:47,  6.54s/it]"
     ]
    },
    {
     "name": "stdout",
     "output_type": "stream",
     "text": [
      "0 ('Connection aborted.', ConnectionResetError(104, 'Connection reset by peer'))\n",
      "1 ('Connection aborted.', ConnectionResetError(104, 'Connection reset by peer'))\n",
      "2 ('Connection aborted.', ConnectionResetError(104, 'Connection reset by peer'))\n"
     ]
    },
    {
     "name": "stderr",
     "output_type": "stream",
     "text": [
      "100%|█████████████████████████████████████| 18101/18101 [35:02<00:00,  8.61it/s]\n"
     ]
    }
   ],
   "source": [
    "max_worker = 1\n",
    "\n",
    "ukm = sorted(list(ukm))\n",
    "for i in tqdm(range(0, len(ukm), max_worker)):\n",
    "    urls = [(url, os.path.join('ukm', f'{i}-{no}.pdf')) for no, url in enumerate(ukm[i: i + max_worker])]\n",
    "    \n",
    "    with ThreadPoolExecutor(max_workers=max_worker) as executor:\n",
    "        futures = {executor.submit(download, url[0], url[1]): url for url in urls}\n",
    "\n",
    "        for future in as_completed(futures):\n",
    "            future.result()"
   ]
  },
  {
   "cell_type": "code",
   "execution_count": null,
   "metadata": {},
   "outputs": [],
   "source": []
  }
 ],
 "metadata": {
  "kernelspec": {
   "display_name": "Python 3 (ipykernel)",
   "language": "python",
   "name": "python3"
  },
  "language_info": {
   "codemirror_mode": {
    "name": "ipython",
    "version": 3
   },
   "file_extension": ".py",
   "mimetype": "text/x-python",
   "name": "python",
   "nbconvert_exporter": "python",
   "pygments_lexer": "ipython3",
   "version": "3.8.10"
  }
 },
 "nbformat": 4,
 "nbformat_minor": 4
}
