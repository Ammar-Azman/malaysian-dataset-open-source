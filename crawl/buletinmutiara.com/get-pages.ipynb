{
 "cells": [
  {
   "cell_type": "code",
   "execution_count": 1,
   "metadata": {},
   "outputs": [],
   "source": [
    "import requests\n",
    "from bs4 import BeautifulSoup\n",
    "from tqdm import tqdm\n",
    "import os\n",
    "import json\n",
    "import numpy as np\n",
    "import time\n",
    "import random\n",
    "import json\n",
    "import urllib3\n",
    "urllib3.disable_warnings(urllib3.exceptions.InsecureRequestWarning)"
   ]
  },
  {
   "cell_type": "code",
   "execution_count": 2,
   "metadata": {},
   "outputs": [],
   "source": [
    "cookies = {\n",
    "    '_gid': 'GA1.2.804183575.1697682605',\n",
    "    '_ga_JFL7PR2CTZ': 'GS1.1.1697686002.2.1.1697686154.0.0.0',\n",
    "    '_ga': 'GA1.2.2022623549.1697682605',\n",
    "    '_gat_gtag_UA_137532233_1': '1',\n",
    "}\n",
    "\n",
    "headers = {\n",
    "    'authority': 'www.buletinmutiara.com',\n",
    "    'accept': 'text/html,application/xhtml+xml,application/xml;q=0.9,image/avif,image/webp,image/apng,*/*;q=0.8,application/signed-exchange;v=b3;q=0.7',\n",
    "    'accept-language': 'en-MY,en;q=0.9,en-US;q=0.8,ms;q=0.7',\n",
    "    'cache-control': 'no-cache',\n",
    "    # 'cookie': '_gid=GA1.2.804183575.1697682605; _ga_JFL7PR2CTZ=GS1.1.1697686002.2.1.1697686154.0.0.0; _ga=GA1.2.2022623549.1697682605; _gat_gtag_UA_137532233_1=1',\n",
    "    'pragma': 'no-cache',\n",
    "    'referer': 'https://www.buletinmutiara.com/tm/',\n",
    "    'sec-ch-ua': '\"Chromium\";v=\"118\", \"Google Chrome\";v=\"118\", \"Not=A?Brand\";v=\"99\"',\n",
    "    'sec-ch-ua-mobile': '?0',\n",
    "    'sec-ch-ua-platform': '\"macOS\"',\n",
    "    'sec-fetch-dest': 'document',\n",
    "    'sec-fetch-mode': 'navigate',\n",
    "    'sec-fetch-site': 'same-origin',\n",
    "    'upgrade-insecure-requests': '1',\n",
    "    'user-agent': 'Mozilla/5.0 (Macintosh; Intel Mac OS X 10_15_7) AppleWebKit/537.36 (KHTML, like Gecko) Chrome/118.0.0.0 Safari/537.36',\n",
    "}"
   ]
  },
  {
   "cell_type": "code",
   "execution_count": 3,
   "metadata": {},
   "outputs": [
    {
     "data": {
      "text/plain": [
       "1548"
      ]
     },
     "execution_count": 3,
     "metadata": {},
     "output_type": "execute_result"
    }
   ],
   "source": [
    "with open('urls.json') as fopen:\n",
    "    urls = json.load(fopen)\n",
    "    \n",
    "len(urls)"
   ]
  },
  {
   "cell_type": "code",
   "execution_count": 5,
   "metadata": {},
   "outputs": [],
   "source": [
    "url = urls[0]\n",
    "r = requests.get(url, cookies = cookies, headers = headers)"
   ]
  },
  {
   "cell_type": "code",
   "execution_count": 6,
   "metadata": {},
   "outputs": [],
   "source": [
    "soup = BeautifulSoup(r.content, \"lxml\")"
   ]
  },
  {
   "cell_type": "code",
   "execution_count": 7,
   "metadata": {},
   "outputs": [
    {
     "data": {
      "text/plain": [
       "'ஃபார்லிம் வட்டாரப் பாதசாரிகள் இனி பாதுகாப்பாகச் சாலையைக் கடக்கலாம்'"
      ]
     },
     "execution_count": 7,
     "metadata": {},
     "output_type": "execute_result"
    }
   ],
   "source": [
    "soup.find('h1').text"
   ]
  },
  {
   "cell_type": "code",
   "execution_count": 10,
   "metadata": {},
   "outputs": [
    {
     "data": {
      "text/plain": [
       "'பினாங்கு மாநிலத்தின் போக்குவரத்து நெரிசல் நாளுக்கு நாள் அதிகரித்த வண்ணமாகவே உள்ளது. இதனால், பாதசாரிகள் சாலையைக் கடக்க சிரமத்தை எதிர்நோக்குகின்றனர். அவ்வகையில், பல சாலை விபத்துகள் நிகழ்ந்துள்ள ஃபார்லிம் அங்சானா சாலைக்கு அண்மையில் சாலையைக் கடக்க போக்குவரத்து விளக்குகள் அமைத்துக் கொடுக்கப்பட்டன. பாயா தெருபோங் சட்டமன்ற உறுப்பினர் மதிப்பிற்குரிய திரு யோ சூன் ஹின் அதனை அதிகாரப்பூர்வமாகத் திறந்து வைத்துப் பார்வையிட்டார்.\\n\\n\\nமாநில அரசின் நிதி ஒதுக்கீடான ரிம 95,820 செலவில் இவ்விளக்குகள் பொதுப்பணித் துறையால் அமைக்கப்பட்டது. இந்தச் சாலையில் சில மேம்பாட்டுத்திட்டங்கள், அரசு மருத்துவமனை, முனீஸ்வரர் ஆலயம் ஆகியவை வந்த பிறகு அதிக வாகனங்கள் இச்சாலையில் பயணிக்கத் தொடங்கியுள்ளன. அதோடு சாலையைக் கடக்கும் பாதசாரிகளின் எண்ணிக்கையும் பெருமளவு அதிகரித்திருப்பதால் இங்கு போக்குவரத்து விளக்குகள் அமைக்க வேண்டிய அவசியம் ஏற்பட்டதென்று பினாங்கு நகராண்மைக் கழக பொறியியல் துறை துணை இயக்குனர் திரு இராஜேந்திரன் தெரிவித்தார். பினாங்கு நகராண்மைக் கழகம் செய்த கணக்கெடுப்பின் படி இந்த அங்சானா சாலையை ஒரு மணி நேரத்திற்கு 100 பேர் கடந்து செல்கின்றனர். சாலையின் ஒரு பக்கம் 8 அடுக்குமாடி வீடுகளும் மறுபக்கம் 14 அடுக்குமாடி வீடுகளும் அமைந்துள்ளன. இக்குடியிருப்பாளர்கள் நாள்தோறும் இச்சாலையைக் கடக்க வேண்டியுள்ளதால் இனி எளிதாகவும் பாதுகாப்பாகவும் இதனைக் கடந்து செல்வார்கள் என்று திரு யோ கூறினார்.\\n\\n\\nஇச்சாலை அருகே உள்ள 2G அடுக்குமாடியில் வசிக்கும் திரு கருப்பையா முனியாண்டி அவர்கள், இப்போக்குவரத்து விளக்குகள் அமைத்த பிறகு இங்கு அடிக்கடி நிகழ்ந்து வந்த சாலை விபத்துகள் குறையும் என நம்பிக்கை தெரிவித்தார். மேலும், அதே அடுக்குமாடியின் கீழ்த் தளத்தில் மளிகைக் கடை வைத்திருக்கும் \\xa0\\xa0திரு யூ பெங் தியொங், தங்கள் கோரிக்கையைச் செவிமடுத்து பாதுகாப்பளித்திருக்கும்\\xa0 மக்கள் நலன் பேணும் மாநில அரசுக்கும், சட்டமன்ற உறுப்பினர் திரு யோவுக்கும் தம் நன்றியினைத் தெரிவித்துக் கொண்டார்.\\n\\n\\n\\xa0\\n\\n\\n\\n\\nபுதிதாய் அமைக்கப்பட்டிருக்கும் போக்குவரத்து விளக்குகளைப் பயன்படுத்தி இரு மலாய்ப் பெண்கள் சாலையைக் கடந்து செல்கிறார்கள்'"
      ]
     },
     "execution_count": 10,
     "metadata": {},
     "output_type": "execute_result"
    }
   ],
   "source": [
    "soup.find('div', {'class': 'entry-content-inner padding-left'}).get_text(separator=\"\\n\").strip()"
   ]
  },
  {
   "cell_type": "code",
   "execution_count": 11,
   "metadata": {},
   "outputs": [
    {
     "name": "stderr",
     "output_type": "stream",
     "text": [
      "100%|█████████████████████████████████████████████████████████████████████████████████████████████████████████| 1548/1548 [14:57<00:00,  1.73it/s]\n"
     ]
    }
   ],
   "source": [
    "with open('buletinmutiara.com.jsonl', 'w') as fopen:\n",
    "    for url in tqdm(urls):\n",
    "        try:\n",
    "            r = requests.get(url, cookies = cookies, headers = headers)\n",
    "            soup = BeautifulSoup(r.content, \"lxml\")\n",
    "            data = {\n",
    "                'url': url,\n",
    "                'title': soup.find('h1').text.strip(),\n",
    "                'body': soup.find('div', {'class': 'entry-content-inner padding-left'}).get_text(separator=\"\\n\").strip()\n",
    "            }\n",
    "            fopen.write(f'{json.dumps(data)}\\n')\n",
    "        except:\n",
    "            pass    "
   ]
  },
  {
   "cell_type": "code",
   "execution_count": null,
   "metadata": {},
   "outputs": [],
   "source": []
  }
 ],
 "metadata": {
  "kernelspec": {
   "display_name": "Python 3 (ipykernel)",
   "language": "python",
   "name": "python3"
  },
  "language_info": {
   "codemirror_mode": {
    "name": "ipython",
    "version": 3
   },
   "file_extension": ".py",
   "mimetype": "text/x-python",
   "name": "python",
   "nbconvert_exporter": "python",
   "pygments_lexer": "ipython3",
   "version": "3.8.10"
  }
 },
 "nbformat": 4,
 "nbformat_minor": 4
}
