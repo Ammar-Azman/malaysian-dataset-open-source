{
 "cells": [
  {
   "cell_type": "code",
   "execution_count": 1,
   "metadata": {},
   "outputs": [],
   "source": [
    "import requests\n",
    "from bs4 import BeautifulSoup\n",
    "from tqdm import tqdm\n",
    "import os\n",
    "import json\n",
    "import numpy as np\n",
    "import time\n",
    "import random\n",
    "import json\n",
    "import urllib3\n",
    "urllib3.disable_warnings(urllib3.exceptions.InsecureRequestWarning)"
   ]
  },
  {
   "cell_type": "code",
   "execution_count": 6,
   "metadata": {},
   "outputs": [],
   "source": [
    "cookies = {\n",
    "    '_gid': 'GA1.2.804183575.1697682605',\n",
    "    '_ga_JFL7PR2CTZ': 'GS1.1.1697686002.2.1.1697686154.0.0.0',\n",
    "    '_ga': 'GA1.2.2022623549.1697682605',\n",
    "    '_gat_gtag_UA_137532233_1': '1',\n",
    "}\n",
    "\n",
    "headers = {\n",
    "    'authority': 'www.buletinmutiara.com',\n",
    "    'accept': 'text/html,application/xhtml+xml,application/xml;q=0.9,image/avif,image/webp,image/apng,*/*;q=0.8,application/signed-exchange;v=b3;q=0.7',\n",
    "    'accept-language': 'en-MY,en;q=0.9,en-US;q=0.8,ms;q=0.7',\n",
    "    'cache-control': 'no-cache',\n",
    "    # 'cookie': '_gid=GA1.2.804183575.1697682605; _ga_JFL7PR2CTZ=GS1.1.1697686002.2.1.1697686154.0.0.0; _ga=GA1.2.2022623549.1697682605; _gat_gtag_UA_137532233_1=1',\n",
    "    'pragma': 'no-cache',\n",
    "    'referer': 'https://www.buletinmutiara.com/tm/',\n",
    "    'sec-ch-ua': '\"Chromium\";v=\"118\", \"Google Chrome\";v=\"118\", \"Not=A?Brand\";v=\"99\"',\n",
    "    'sec-ch-ua-mobile': '?0',\n",
    "    'sec-ch-ua-platform': '\"macOS\"',\n",
    "    'sec-fetch-dest': 'document',\n",
    "    'sec-fetch-mode': 'navigate',\n",
    "    'sec-fetch-site': 'same-origin',\n",
    "    'upgrade-insecure-requests': '1',\n",
    "    'user-agent': 'Mozilla/5.0 (Macintosh; Intel Mac OS X 10_15_7) AppleWebKit/537.36 (KHTML, like Gecko) Chrome/118.0.0.0 Safari/537.36',\n",
    "}"
   ]
  },
  {
   "cell_type": "code",
   "execution_count": 28,
   "metadata": {},
   "outputs": [
    {
     "name": "stderr",
     "output_type": "stream",
     "text": [
      "100%|███████████████████████████████████████████████████████████████████████████████████████████████████████████| 200/200 [02:28<00:00,  1.34it/s]\n"
     ]
    }
   ],
   "source": [
    "urls = []\n",
    "for i in tqdm(range(200)):\n",
    "    r = requests.get(f'https://www.buletinmutiara.com/tm/page/{i}/', cookies = cookies, headers = headers)\n",
    "    soup = BeautifulSoup(r.content, \"lxml\")\n",
    "    h3 = soup.find_all('h3', {'class': 'entry-title'})\n",
    "    urls.extend([h3_.find('a').get('href') for h3_ in h3])"
   ]
  },
  {
   "cell_type": "code",
   "execution_count": 29,
   "metadata": {},
   "outputs": [],
   "source": [
    "with open('urls.json', 'w') as fopen:\n",
    "    json.dump(sorted(set(urls)), fopen)"
   ]
  },
  {
   "cell_type": "code",
   "execution_count": null,
   "metadata": {},
   "outputs": [],
   "source": []
  }
 ],
 "metadata": {
  "kernelspec": {
   "display_name": "Python 3 (ipykernel)",
   "language": "python",
   "name": "python3"
  },
  "language_info": {
   "codemirror_mode": {
    "name": "ipython",
    "version": 3
   },
   "file_extension": ".py",
   "mimetype": "text/x-python",
   "name": "python",
   "nbconvert_exporter": "python",
   "pygments_lexer": "ipython3",
   "version": "3.8.10"
  }
 },
 "nbformat": 4,
 "nbformat_minor": 4
}
