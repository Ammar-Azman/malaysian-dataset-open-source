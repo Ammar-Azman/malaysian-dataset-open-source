{
 "cells": [
  {
   "cell_type": "code",
   "execution_count": 1,
   "metadata": {},
   "outputs": [],
   "source": [
    "from bs4 import BeautifulSoup\n",
    "import pandas as pd\n",
    "import json\n",
    "import requests\n",
    "from urllib.request import urlopen\n",
    "import urllib.request\n",
    "from datetime import datetime\n",
    "from tqdm import tqdm\n",
    "import time\n",
    "import numpy as np\n",
    "from concurrent.futures import ThreadPoolExecutor, as_completed"
   ]
  },
  {
   "cell_type": "code",
   "execution_count": 2,
   "metadata": {},
   "outputs": [],
   "source": [
    "hrefs = []\n",
    "\n",
    "links = [\"https://denaihati.com/category/islam\",\n",
    "        \"https://denaihati.com/category/isusemasa\",\n",
    "        \"https://denaihati.com/category/kisah-kehidupan\",\n",
    "        \"https://denaihati.com/category/teknologi\",\n",
    "        \"https://denaihati.com/category/travelog\",\n",
    "        \"https://denaihati.com/category/kesihatan\",\n",
    "        \"https://denaihati.com/category/hiburan\",\n",
    "        \"https://denaihati.com/category/sosial-media\",\n",
    "        \"https://denaihati.com/category/ekonomi\",\n",
    "        \"https://denaihati.com/category/blogging\"]\n",
    "\n",
    "\n",
    "headers = {'User-Agent': 'Mozilla/5.0 (Windows NT 6.1; WOW64) AppleWebKit/537.36 (KHTML, like Gecko) Chrome/56.0.2924.76 Safari/537.36'} \n"
   ]
  },
  {
   "cell_type": "code",
   "execution_count": 6,
   "metadata": {},
   "outputs": [],
   "source": [
    "def crawl(url):\n",
    "    while True:\n",
    "        try:\n",
    "            r = requests.get(url,headers = headers)\n",
    "            if r.status_code == 508:\n",
    "                print(r.status_code)\n",
    "                print('error in link, retrying... ', url)\n",
    "                time.sleep(20)\n",
    "                continue\n",
    "            break\n",
    "        except Exception as e:\n",
    "            print(e)\n",
    "            time.sleep(1.0)\n",
    "\n",
    "    soup = BeautifulSoup(r.text, \"lxml\")\n",
    "    \n",
    "    block = soup.find_all(\"h1\",attrs = {\"class\":\"elementor-heading-title\"})\n",
    "    \n",
    "    if block is None:\n",
    "        return\n",
    "\n",
    "    for link in soup.find_all(\"h1\",attrs = {\"class\":\"elementor-heading-title\"}):\n",
    "\n",
    "        href = link.find('a').get('href')\n",
    "\n",
    "        hrefs.append(href)\n",
    "    "
   ]
  },
  {
   "cell_type": "code",
   "execution_count": 7,
   "metadata": {},
   "outputs": [
    {
     "name": "stdout",
     "output_type": "stream",
     "text": [
      "https://denaihati.com/category/islam\n",
      "97\n"
     ]
    },
    {
     "name": "stderr",
     "output_type": "stream",
     "text": [
      "100%|██████████████████████████████████████████████████████████████████████████████████████████████████████████████████| 20/20 [01:58<00:00,  5.90s/it]\n"
     ]
    },
    {
     "name": "stdout",
     "output_type": "stream",
     "text": [
      "https://denaihati.com/category/isusemasa\n",
      "155\n"
     ]
    },
    {
     "name": "stderr",
     "output_type": "stream",
     "text": [
      "100%|██████████████████████████████████████████████████████████████████████████████████████████████████████████████████| 31/31 [03:24<00:00,  6.61s/it]\n"
     ]
    },
    {
     "name": "stdout",
     "output_type": "stream",
     "text": [
      "https://denaihati.com/category/kisah-kehidupan\n",
      "48\n"
     ]
    },
    {
     "name": "stderr",
     "output_type": "stream",
     "text": [
      "100%|██████████████████████████████████████████████████████████████████████████████████████████████████████████████████| 10/10 [01:04<00:00,  6.50s/it]\n"
     ]
    },
    {
     "name": "stdout",
     "output_type": "stream",
     "text": [
      "https://denaihati.com/category/teknologi\n",
      "12\n"
     ]
    },
    {
     "name": "stderr",
     "output_type": "stream",
     "text": [
      "100%|████████████████████████████████████████████████████████████████████████████████████████████████████████████████████| 3/3 [00:18<00:00,  6.11s/it]\n"
     ]
    },
    {
     "name": "stdout",
     "output_type": "stream",
     "text": [
      "https://denaihati.com/category/travelog\n",
      "22\n"
     ]
    },
    {
     "name": "stderr",
     "output_type": "stream",
     "text": [
      "100%|████████████████████████████████████████████████████████████████████████████████████████████████████████████████████| 5/5 [00:33<00:00,  6.67s/it]\n"
     ]
    },
    {
     "name": "stdout",
     "output_type": "stream",
     "text": [
      "https://denaihati.com/category/kesihatan\n",
      "10\n"
     ]
    },
    {
     "name": "stderr",
     "output_type": "stream",
     "text": [
      "100%|████████████████████████████████████████████████████████████████████████████████████████████████████████████████████| 2/2 [00:10<00:00,  5.49s/it]\n"
     ]
    },
    {
     "name": "stdout",
     "output_type": "stream",
     "text": [
      "https://denaihati.com/category/hiburan\n",
      "5\n"
     ]
    },
    {
     "name": "stderr",
     "output_type": "stream",
     "text": [
      "100%|████████████████████████████████████████████████████████████████████████████████████████████████████████████████████| 1/1 [00:05<00:00,  5.50s/it]\n"
     ]
    },
    {
     "name": "stdout",
     "output_type": "stream",
     "text": [
      "https://denaihati.com/category/sosial-media\n",
      "8\n"
     ]
    },
    {
     "name": "stderr",
     "output_type": "stream",
     "text": [
      "100%|████████████████████████████████████████████████████████████████████████████████████████████████████████████████████| 2/2 [00:08<00:00,  4.34s/it]\n"
     ]
    },
    {
     "name": "stdout",
     "output_type": "stream",
     "text": [
      "https://denaihati.com/category/ekonomi\n",
      "10\n"
     ]
    },
    {
     "name": "stderr",
     "output_type": "stream",
     "text": [
      "100%|████████████████████████████████████████████████████████████████████████████████████████████████████████████████████| 2/2 [00:11<00:00,  5.78s/it]\n"
     ]
    },
    {
     "name": "stdout",
     "output_type": "stream",
     "text": [
      "https://denaihati.com/category/blogging\n",
      "72\n"
     ]
    },
    {
     "name": "stderr",
     "output_type": "stream",
     "text": [
      "100%|██████████████████████████████████████████████████████████████████████████████████████████████████████████████████| 15/15 [01:41<00:00,  6.79s/it]\n"
     ]
    }
   ],
   "source": [
    "max_worker = 5\n",
    "hrefs = []\n",
    "\n",
    "for url in links:\n",
    "    \n",
    "    print(url)\n",
    "    r = requests.get(url,headers = headers)\n",
    "    soup = BeautifulSoup(r.content, \"html.parser\")\n",
    "    a = soup.find_all('a')\n",
    "    a = [a_.get('href') for a_ in a if a_.get('href')]\n",
    "    pgno = [a_ for a_ in a if 'page' in a_]\n",
    "    max_page = max([int(a_.split('page')[1].replace('/','')) for a_ in pgno])\n",
    "    print(max_page)\n",
    "    for i in tqdm(range(1, max_page + 1, max_worker)):\n",
    "        aranged = np.arange(i, i + max_worker)\n",
    "        urls = [f'{url}/page/{a}' for a in aranged]\n",
    "        with ThreadPoolExecutor(max_workers=max_worker) as executor:\n",
    "            futures = {executor.submit(crawl, url): url for url in urls}\n",
    "        \n",
    "        for future in as_completed(futures):\n",
    "            future.result()\n"
   ]
  },
  {
   "cell_type": "code",
   "execution_count": 9,
   "metadata": {},
   "outputs": [],
   "source": [
    "hrefs = list(set(hrefs))"
   ]
  },
  {
   "cell_type": "code",
   "execution_count": 10,
   "metadata": {},
   "outputs": [
    {
     "data": {
      "text/plain": [
       "3508"
      ]
     },
     "execution_count": 10,
     "metadata": {},
     "output_type": "execute_result"
    }
   ],
   "source": [
    "len(hrefs)"
   ]
  },
  {
   "cell_type": "code",
   "execution_count": 11,
   "metadata": {},
   "outputs": [],
   "source": [
    "with open(f'denaihati-link.json', 'a') as f:\n",
    "    json.dump(hrefs, f)"
   ]
  },
  {
   "cell_type": "code",
   "execution_count": 4,
   "metadata": {},
   "outputs": [],
   "source": [
    "with open('denaihati-link.json') as fopen:\n",
    "    hrefs = json.load(fopen)"
   ]
  },
  {
   "cell_type": "code",
   "execution_count": 6,
   "metadata": {},
   "outputs": [],
   "source": [
    "def process_url(x):\n",
    "    \n",
    "    while True:\n",
    "        try:\n",
    "            r = requests.get(x, headers=headers)\n",
    "            \n",
    "            if r.status_code == 508:\n",
    "                time.sleep(20)\n",
    "                continue\n",
    "                \n",
    "            break\n",
    "        except Exception as e:\n",
    "            print(e)\n",
    "            time.sleep(5.0)\n",
    "    \n",
    "    soup = BeautifulSoup(r.text, \"html.parser\")\n",
    "\n",
    "    try:\n",
    "        headline = soup.find('h1', class_=\"elementor-heading-title\").text\n",
    "        h = soup.find('div', attrs = {'class':\"elementor-element\"})\n",
    "        p = [p.text for p in h.find_all(['p','h1','h2','h3','h4']) if p.text and len(p.text.split()) > 5]\n",
    "    except Exception as e:\n",
    "        print('error in link:'+ x)\n",
    "        print(e)\n",
    "        return None\n",
    "\n",
    "    comment_list = soup.find('div', attrs={\"class\": \"comments-area\"})\n",
    "    comments = []\n",
    "    if comment_list:\n",
    "        c = comment_list.find_all('div', attrs={\"class\": \"comment-content\"})\n",
    "        for j in c:\n",
    "            comments.extend([c_.text for c_ in j.find_all(\"p\") if len(c_.text) > 1])\n",
    "            \n",
    "        if c is None:\n",
    "            comments = None\n",
    "\n",
    "\n",
    "    \n",
    "    data = {'url': x, 'headline': headline, 'content': p, 'comment': comments}\n",
    "    \n",
    "    return data"
   ]
  },
  {
   "cell_type": "code",
   "execution_count": 7,
   "metadata": {},
   "outputs": [
    {
     "data": {
      "text/plain": [
       "{'url': 'https://denaihati.com/12-golongan-manusia-yang-didoakan-kebaikan-oleh-malaikat',\n",
       " 'headline': '12 Golongan Manusia Yang Didoakan Kebaikan Oleh Malaikat',\n",
       " 'content': ['12 Golongan Manusia Yang Didoakan Kebaikan Oleh Malaikat',\n",
       "  'Jika artikel sebelum ini ada menceritakan mengenai 3 golongan yang didoakan keburukan oleh malaikat, kali ini saya nak senaraikan 12 golongan yang didoakan kebaikan oleh malaikat.',\n",
       "  'Baca di sini : Golongan Yang Didoakan Keburukan Oleh Malaikat, Nauzubillah',\n",
       "  'Berusahalah untuk menjadi golongan-golongan ini supaya hidup menjadi lebih harmoni dan tenang.',\n",
       "  '1) Orang yang tidur dalam keadaan bersuciRasulullah SAW bersabda, “Barangsiapa yang tidur dalam keadaan suci, maka malaikat akan bersamanya di dalam pakaiannya. Dia tidak akan bangun hingga malaikat berdoa ‘Ya Allah, ampunilah hambamu si fulan kerana tidur dalam keadaan suci”.',\n",
       "  '(Imam Ibnu Hibban meriwayatkan dari Abdullah bin Umar ra., hadits ini dishahihkan oleh Syaikh Al Albani dalam Shahih At Targhib wat Tarhib I/37)',\n",
       "  '2) Orang yang sedang duduk menunggu waktu solatRasulullah SAW bersabda, “Tidaklah salah seorang diantara kalian yang duduk menunggu solat, selama ia berada dalam keadaan suci, kecuali para malaikat akan mendoakannya ‘Ya Allah, ampunilah ia. Ya Allah sayangilah ia’”(Imam Muslim meriwayatkan dari Abu Hurairah ra., Shahih Muslim no. 469)',\n",
       "  '3) Orang-orang yang berada di saf hadapan di dalam solat berjemaahRasulullah SAW bersabda, “Sesungguhnya Allah dan para malaikat-Nya berselawat kepada (orang – orang) yang berada pada saf – saf terdepan(Imam Abu Dawud (dan Ibnu Khuzaimah) dari Barra’ bin ‘Azib ra., hadits ini dishahihkan oleh Syaikh Al Albani dalam Shahih Sunan Abi Dawud I/130)',\n",
       "  '4) Orang yang menyambung saf solat berjemaahRasulullah SAW bersabda, “Sesungguhnya Allah dan para malaikat selalu berselawat kepada orang – orang yang menyambung saf – saf”(Para Imam iaitu Ahmad, Ibnu Majah, Ibnu Khuzaimah, Ibnu Hibban dan Al Hakim meriwayatkan dari Aisyah ra., hadits ini dishahihkan oleh Syaikh Al Albani dalam Shahih At Targhib wat Tarhib I/272)',\n",
       "  '5) Para malaikat mengucapkan ‘aamiin’ ketika seorang imam selesai membaca al-FatihahRasulullah SAW bersabda, “Jika seorang Imam membaca ‘ghairil maghdhuubi ‘alaihim waladh dhaalinn’, maka ucapkanlah oleh kalian ‘aamiin’, kerana barangsiapa ucapannya itu bertepatan dengan ucapan malaikat, maka ia akan diampuni dosanya yang masa lalu”(Imam Bukhari meriwayatkan dari Abu Hurairah ra., Shahih Bukhari no. 782)',\n",
       "  '6) Orang yang duduk di tempat solatnya selepas selesai melakukan solat',\n",
       "  'Rasulullah SAW bersabda, “Para malaikat akan selalu berselawat kepada salah satu diantara kalian selama ia ada di dalam tempat solat dimana ia melakukan solat, selama ia belum batal wudhunya, (para malaikat) berkata, ‘Ya Allah ampunilah dan sayangilah ia”(Imam Ahmad meriwayatkan dari Abu Hurairah, Al Musnad no. 8106, Syaikh Ahmad Syakir menshahihkan hadits ini)',\n",
       "  '7) Orang-orang yang melakukan solat Subuh & Asar secara berjemaah',\n",
       "  'Rasulullah SAW bersabda, “Para malaikat berkumpul pada saat solat subuh lalu para malaikat ( yang menyertai hamba) pada malam hari (yang sudah bertugas malam hari hingga subuh) naik (ke langit), dan malaikat pada siang hari tetap tinggal. Kemudian mereka berkumpul lagi pada waktu solat asar dan malaikat yang ditugaskan pada siang hari (hingga solat asar) naik (ke langit) sedangkan malaikat yang bertugas pada malam hari tetap tinggal, lalu Allah bertanya kepada mereka, ‘Bagaimana kalian meninggalkan hambaku?’, mereka menjawab, ‘Kami datang sedangkan mereka sedang melakukan solat dan kami tinggalkan mereka sedangkan mereka sedang melakukan solat, maka ampunilah mereka pada hari kiamat”(Imam Ahmad meriwayatkan dari Abu Hurairah ra., Al Musnad no. 9140, hadits ini dishahihkan oleh Syaikh Ahmad Syakir)',\n",
       "  'Baca : 3 Golongan Manusia Di Padang Mahsyar',\n",
       "  '8) Orang yang mendoakan saudaranya tanpa pengetahuan orang yang didoakan',\n",
       "  'Rasulullah SAW bersabda, “Doa seorang muslim untuk saudaranya yang dilakukan tanpa pengetahuan orang yang didoakannya adalah doa yang akan dikabulkan. Pada kepalanya ada seorang malaikat yang menjadi wakil baginya, setiap kali dia berdoa untuk saudaranya dengan sebuah kebaikan, maka malaikat tersebut berkata ‘aamiin dan engkaupun mendapatkan apa yang ia dapatkan’(Diriwayatkan oleh Imam Muslim dari Ummud Darda’ ra., Shahih Muslim no. 2733)',\n",
       "  '9) Orang-orang yang berinfakRasulullah SAW bersabda, “Tidak satu hari pun dimana pagi harinya seorang hamba ada padanya kecuali 2 malaikat turun kepadanya, salah satu diantara keduanya berkata, ‘Ya Allah, berikanlah ganti bagi orang yang berinfak’. Dan lainnya berkata, ‘Ya Allah, hancurkanlah harta orang yang pelit’”',\n",
       "  '(Imam Bukhari dan Imam Muslim meriwayatkan dari Abu Hurairah ra., Shahih Bukhari no. 1442 dan Shahih Muslim no. 1010)',\n",
       "  '10) Orang yang sedang makan sahur',\n",
       "  'Rasulullah SAW bersabda, “Sesungguhnya Allah dan para malaikat-Nya berselawat kepada orang – orang yang sedang makan sahur”(Imam Ibnu Hibban dan Imam Ath Thabrani, meriwayaatkan dari Abdullah bin Umar ra., hadits ini dishahihkan oleh Syaikh Al Albani dalam Shahih At Targhiib wat Tarhiib I/519)',\n",
       "  '11) Orang yang sedang menjenguk orang sakit',\n",
       "  'Rasulullah SAW bersabda, “Tidaklah seorang mukmin menjenguk saudaranya kecuali Allah akan mengutus 70.000 malaikat untuknya yang akan berselawat kepadanya di waktu siang hingga senja \\xa0dan di waktu malam hingga shubuh”',\n",
       "  '(Imam Ahmad meriwayatkan dari ‘Ali bin Abi Thalib ra., Al Musnad no. 754, Syaikh Ahmad Syakir berkomentar, “Sanadnya shahih”)',\n",
       "  '12) Seseorang yang sedang mengajarkan kebaikan kepada orang lain',\n",
       "  'Rasulullah SAW bersabda, “Keutamaan seorang alim atas seorang ahli ibadah bagaikan keutamaanku atas seorang yang paling rendah diantara kalian. Sesungguhnya penghuni langit dan bumi, bahkan semut yang di dalam lubangnya dan bahkan ikan, semuanya berselawat kepada orang yang mengajarkan kebaikan kepada orang lain”',\n",
       "  '(Diriwayatkan oleh Imam Tirmidzi dari Abu Umamah Al Bahily ra., dishahihkan oleh Syaikh Al Albani dalam Kitab Shahih At Tirmidzi II/343)',\n",
       "  'Baca : 12 Seksaan Akibat Meninggalkan Solat',\n",
       "  'semoga kita tergolong  di kalangan orang yang sentiasa didoakan malaikat',\n",
       "  'sebab doa malaikat makhbul dan terbaik',\n",
       "  'Allahu… alangkah bahagianya hidup ini seandainya tergolong dalam golongan yang didoakan malaikat.  Tidak dapat buat semua, dapat buat sebahagian pun jadilah… semoga istiqamah dalam kebaikan.',\n",
       "  'Apa itu hari Tasyriq di bulan Zulhijjah?',\n",
       "  '10 hari pertama Bulan Zulhijjah dan keistimewaannya',\n",
       "  'Branding Gaya Storytelling – Dato Roslan Ab Hamid'],\n",
       " 'comment': ['alhamdulillah ..sangat menarik ini.',\n",
       "  'semoga kita tergolong  di kalangan orang yang sentiasa didoakan malaikat',\n",
       "  'sebab doa malaikat makhbul dan terbaik',\n",
       "  'Allahu… alangkah bahagianya hidup ini seandainya tergolong dalam golongan yang didoakan malaikat.  Tidak dapat buat semua, dapat buat sebahagian pun jadilah… semoga istiqamah dalam kebaikan.']}"
      ]
     },
     "execution_count": 7,
     "metadata": {},
     "output_type": "execute_result"
    }
   ],
   "source": [
    "process_url(\"https://denaihati.com/12-golongan-manusia-yang-didoakan-kebaikan-oleh-malaikat\")"
   ]
  },
  {
   "cell_type": "code",
   "execution_count": 8,
   "metadata": {},
   "outputs": [
    {
     "name": "stderr",
     "output_type": "stream",
     "text": [
      "100%|██████████████████████████████████████████████████████████████████████████████████████████████████████████████| 3508/3508 [21:38<00:00,  2.70it/s]\n"
     ]
    }
   ],
   "source": [
    "max_workers = 5\n",
    "\n",
    "with ThreadPoolExecutor(max_workers=max_workers) as executor:\n",
    "    futures = [executor.submit(process_url, x) for x in hrefs]\n",
    "    \n",
    "    for future in tqdm(futures, total=len(hrefs)):\n",
    "        result = future.result()\n",
    "        if result:\n",
    "            with open('denaihati.jsonl', 'a') as f:\n",
    "                json.dump(result, f)\n",
    "                f.write('\\n')"
   ]
  },
  {
   "cell_type": "code",
   "execution_count": null,
   "metadata": {},
   "outputs": [],
   "source": []
  }
 ],
 "metadata": {
  "kernelspec": {
   "display_name": "Python 3 (ipykernel)",
   "language": "python",
   "name": "python3"
  },
  "language_info": {
   "codemirror_mode": {
    "name": "ipython",
    "version": 3
   },
   "file_extension": ".py",
   "mimetype": "text/x-python",
   "name": "python",
   "nbconvert_exporter": "python",
   "pygments_lexer": "ipython3",
   "version": "3.8.10"
  },
  "vscode": {
   "interpreter": {
    "hash": "aee8b7b246df8f9039afb4144a1f6fd8d2ca17a180786b69acc140d282b71a49"
   }
  }
 },
 "nbformat": 4,
 "nbformat_minor": 2
}
