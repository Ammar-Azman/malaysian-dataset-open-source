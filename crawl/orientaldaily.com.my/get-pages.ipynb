{
 "cells": [
  {
   "cell_type": "code",
   "execution_count": 1,
   "metadata": {},
   "outputs": [],
   "source": [
    "import requests\n",
    "from bs4 import BeautifulSoup\n",
    "from tqdm import tqdm\n",
    "import os\n",
    "import json\n",
    "import numpy as np\n",
    "import time\n",
    "import random\n",
    "import json"
   ]
  },
  {
   "cell_type": "code",
   "execution_count": 42,
   "metadata": {},
   "outputs": [
    {
     "name": "stderr",
     "output_type": "stream",
     "text": [
      "100%|█████████████████████████████████| 45782/45782 [00:00<00:00, 110407.90it/s]\n"
     ]
    },
    {
     "data": {
      "text/plain": [
       "(441780, 45782)"
      ]
     },
     "execution_count": 42,
     "metadata": {},
     "output_type": "execute_result"
    }
   ],
   "source": [
    "from glob import glob\n",
    "\n",
    "files = glob('url/*.json')\n",
    "urls = []\n",
    "for f in tqdm(files):\n",
    "    with open(f) as fopen:\n",
    "        urls.extend(json.load(fopen))\n",
    "urls = sorted(list(set(urls)))\n",
    "len(urls), len(files)"
   ]
  },
  {
   "cell_type": "code",
   "execution_count": 31,
   "metadata": {},
   "outputs": [],
   "source": [
    "r = requests.get(urls[0])\n",
    "soup = BeautifulSoup(r.content, \"lxml\")"
   ]
  },
  {
   "cell_type": "code",
   "execution_count": 35,
   "metadata": {},
   "outputs": [
    {
     "data": {
      "text/plain": [
       "'https://www.orientaldaily.com.my/news/Travel/2021/07/05/422417'"
      ]
     },
     "execution_count": 35,
     "metadata": {},
     "output_type": "execute_result"
    }
   ],
   "source": [
    "urls[0]"
   ]
  },
  {
   "cell_type": "code",
   "execution_count": 34,
   "metadata": {},
   "outputs": [
    {
     "data": {
      "text/plain": [
       "'PETRA Riyaz经营标志性度假村\\u3000打造生活方式酒店品牌'"
      ]
     },
     "execution_count": 34,
     "metadata": {},
     "output_type": "execute_result"
    }
   ],
   "source": [
    "soup.find('h1').text"
   ]
  },
  {
   "cell_type": "code",
   "execution_count": 37,
   "metadata": {},
   "outputs": [
    {
     "data": {
      "text/plain": [
       "\"\\nPETRA Riyaz现今将经营一系列以生活方式为导向的酒店品牌，每个品牌都是专为小众客户群，无论是现代、高级或豪华的旅行者而打造。\\n该公司旗下品牌包括Riyaz、dash、The Pure、Altara和 Tan'Yaa。继PETRA集团完成Riyaz酒店及度假村的51.5%股份合并后，这整个酒店和度假村市值接近3亿令吉。\\nPETRA Riyaz将经营标志性度假村，包括五星级豪华酒店The Riyaz Lavanya Resort & Villas和浮罗交怡的dash度假村；布城的dash Box和的Tan'Yaa酒店；印尼巴厘岛的dash Hotel Seminyak酒店；以及位于越南岘港的Altara Suites by Riyaz。\\n\\n\\nPETRA Riyaz首席执行员拿督斯里沙欣表示，尽管疫情造成许多不确定性，但PETRA Riyaz已经在致力于扩展其各种酒店品牌。\\n\\n\\nAdvertisement\\n\\n\\n位于大马、越南和马尔代夫的新度假村，目前已处于规划阶段。而The dash Hotel KLCC 计划将于2023年初开业，该集团也将其dash品牌业务，扩展到了槟城，柔州新山和马尔代夫。\\n尽管在新冠肺炎疫情和行管令的实施下，许多酒店被迫暂时或永久关闭，PETRA集团主席兼首席执行员拿督维诺德却认为，旅游业的复苏迫在眉睫。\\n“一旦疫情得到控制，疫苗接种广泛，人们需要休息，家人会想一起去度假，公司会使用酒店重新联系同行并重振他们的愿景。我们将随时准备通过各种酒店，为每个人提供独特而难忘的体验。”\\n“更重要的是，我们希望当地旅游业能再次蓬勃发展，并提供许多依赖该行业的人士工作与收入。即便国家边界仍然可能会长时间地关闭，我们仍会尽一份力确保任何一家酒店的工作人员被不裁员。\\xa0而在这方面，政府和政府发挥著关键作用。”\\n\\n\\n 酒店\\n\\n\\n追踪东方日报社交平台\\n\\n\\n\\n\\n\\nTelegram\\n\\n\\n\\n\\n\\n\\nXiaohongshu logo - Brandlogos.net\\n\\n\\n\\n追看热门新闻资讯，请下载东方日报APP\\n\\n IOS：https://odn.my/ios\\n Google Play：https://odn.my/android\\n HUAWEI AppGallery：https://odn.my/appgallery\\n\\n\\n\\n\\n\\n\\n\\n相关新闻\\n\\n\\n【国庆日特辑】6天5夜攀爬历练\\u3000挑战大汉山\\n【国庆日特辑】未经雕琢的海上甘榜\\u3000漫步都峇岛\\n【国庆日特辑】乘森林列车\\u3000穿梭雨林偶遇风景\\n畅游双威\\u3000解锁国内各大景点美食\\n东京铁塔海贼王乐园将结业\\n韩国秋天之旅\\u3000赏枫之馀还可品尝鲜活生蚝牡蛎\\n期间限定佛入人间\\u3000京都现“观音电车”\\n澳洲新南威尔士州自助游懒人包\\n白天夜晚体验不停歇\\u3000泰国热带天堂——“苏梅岛”\\n电影《疯狂亚洲富豪》爆红\\u3000大马取景地看这里\\n\\n\\n\\n\\n\\n\\n\\n\""
      ]
     },
     "execution_count": 37,
     "metadata": {},
     "output_type": "execute_result"
    }
   ],
   "source": [
    "soup.find('div', {'itemprop':\"articleBody\"}).text"
   ]
  },
  {
   "cell_type": "code",
   "execution_count": 38,
   "metadata": {},
   "outputs": [],
   "source": [
    "def crawl(url, filename):\n",
    "    if os.path.exists(filename):\n",
    "        return [True]\n",
    "    \n",
    "    while True:\n",
    "        try:\n",
    "            r = requests.get(url)\n",
    "            break\n",
    "        except:\n",
    "            time.sleep(1.0)\n",
    "\n",
    "    soup = BeautifulSoup(r.content, \"lxml\")\n",
    "    sections = soup.find_all('section')\n",
    "    try:\n",
    "        title = soup.find('h1').text\n",
    "    except:\n",
    "        title = None\n",
    "        \n",
    "    try:\n",
    "        body = soup.find('div', {'itemprop':\"articleBody\"}).text\n",
    "    except:\n",
    "        body = None\n",
    "        \n",
    "    data = {\n",
    "        'title': title,\n",
    "        'body': body,\n",
    "        'url': url,\n",
    "    }\n",
    "\n",
    "    with open(filename, 'w') as fopen:\n",
    "        json.dump(data, fopen)"
   ]
  },
  {
   "cell_type": "code",
   "execution_count": 39,
   "metadata": {},
   "outputs": [],
   "source": [
    "!mkdir page"
   ]
  },
  {
   "cell_type": "code",
   "execution_count": 46,
   "metadata": {},
   "outputs": [
    {
     "name": "stderr",
     "output_type": "stream",
     "text": [
      " 23%|███████▊                          | 3400/14726 [1:34:52<4:46:30,  1.52s/it]IOPub message rate exceeded.\n",
      "The notebook server will temporarily stop sending output\n",
      "to the client in order to avoid crashing it.\n",
      "To change this limit, set the config variable\n",
      "`--NotebookApp.iopub_msg_rate_limit`.\n",
      "\n",
      "Current values:\n",
      "NotebookApp.iopub_msg_rate_limit=1000.0 (msgs/sec)\n",
      "NotebookApp.rate_limit_window=3.0 (secs)\n",
      "\n",
      " 61%|████████████████████▋             | 8953/14726 [4:09:03<2:28:11,  1.54s/it]IOPub message rate exceeded.\n",
      "The notebook server will temporarily stop sending output\n",
      "to the client in order to avoid crashing it.\n",
      "To change this limit, set the config variable\n",
      "`--NotebookApp.iopub_msg_rate_limit`.\n",
      "\n",
      "Current values:\n",
      "NotebookApp.iopub_msg_rate_limit=1000.0 (msgs/sec)\n",
      "NotebookApp.rate_limit_window=3.0 (secs)\n",
      "\n"
     ]
    }
   ],
   "source": [
    "from concurrent.futures import ThreadPoolExecutor, as_completed\n",
    "\n",
    "max_worker = 30\n",
    "\n",
    "for i in tqdm(range(0, len(urls), max_worker)):\n",
    "    b = urls[i: i + max_worker]\n",
    "    urls_ = [(b[k], os.path.join('page', f'{i + k}.json')) for k in range(len(b))]\n",
    "    with ThreadPoolExecutor(max_workers=max_worker) as executor:\n",
    "        futures = {executor.submit(crawl, url[0], url[1]): url for url in urls_}\n",
    "\n",
    "        for future in as_completed(futures):\n",
    "            future.result()"
   ]
  },
  {
   "cell_type": "code",
   "execution_count": null,
   "metadata": {},
   "outputs": [],
   "source": []
  }
 ],
 "metadata": {
  "kernelspec": {
   "display_name": "Python 3 (ipykernel)",
   "language": "python",
   "name": "python3"
  },
  "language_info": {
   "codemirror_mode": {
    "name": "ipython",
    "version": 3
   },
   "file_extension": ".py",
   "mimetype": "text/x-python",
   "name": "python",
   "nbconvert_exporter": "python",
   "pygments_lexer": "ipython3",
   "version": "3.8.10"
  }
 },
 "nbformat": 4,
 "nbformat_minor": 4
}
