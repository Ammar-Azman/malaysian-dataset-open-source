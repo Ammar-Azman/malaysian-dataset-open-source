{
 "cells": [
  {
   "cell_type": "code",
   "execution_count": 2,
   "metadata": {},
   "outputs": [],
   "source": [
    "import requests\n",
    "from bs4 import BeautifulSoup\n",
    "from tqdm import tqdm\n",
    "import os\n",
    "import json\n",
    "import numpy as np\n",
    "import time\n",
    "import random\n",
    "import json\n",
    "from concurrent.futures import ThreadPoolExecutor, as_completed"
   ]
  },
  {
   "cell_type": "code",
   "execution_count": 3,
   "metadata": {},
   "outputs": [],
   "source": [
    "topics = [\n",
    "    'https://www.orientaldaily.com.my/news/nation',\n",
    "    'https://www.orientaldaily.com.my/news/international',\n",
    "    'https://www.orientaldaily.com.my/news/business',\n",
    "    'https://www.orientaldaily.com.my/news/society',\n",
    "    'https://www.orientaldaily.com.my/news/local',\n",
    "    'https://www.orientaldaily.com.my/news/central',\n",
    "    'https://www.orientaldaily.com.my/news/south',\n",
    "    'https://www.orientaldaily.com.my/news/north',\n",
    "    'https://www.orientaldaily.com.my/news/perak',\n",
    "    'https://www.orientaldaily.com.my/news/east-malaysia',\n",
    "    'https://www.orientaldaily.com.my/news/east',\n",
    "    'https://www.orientaldaily.com.my/news/entertainment'\n",
    "]"
   ]
  },
  {
   "cell_type": "code",
   "execution_count": 4,
   "metadata": {},
   "outputs": [],
   "source": [
    "r = requests.get(topics[0])\n",
    "soup = BeautifulSoup(r.content, \"lxml\")"
   ]
  },
  {
   "cell_type": "code",
   "execution_count": null,
   "metadata": {},
   "outputs": [],
   "source": [
    "a = soup.find_all('a', {'class': 'link'})\n",
    "a = list(set([a_.get('href').split('?')[0] for a_ in a]))\n",
    "a"
   ]
  },
  {
   "cell_type": "code",
   "execution_count": null,
   "metadata": {},
   "outputs": [],
   "source": [
    "!mkdir url\n",
    "'https://www.orientaldaily.com.my/news/nation?page=2'"
   ]
  },
  {
   "cell_type": "code",
   "execution_count": 13,
   "metadata": {},
   "outputs": [],
   "source": [
    "def crawl(url, filename):\n",
    "    if os.path.exists(filename):\n",
    "        return [True]\n",
    "    \n",
    "    while True:\n",
    "        try:\n",
    "            r = requests.get(url)\n",
    "            break\n",
    "        except:\n",
    "            time.sleep(1.0)\n",
    "\n",
    "    soup = BeautifulSoup(r.content, \"lxml\")\n",
    "    sections = soup.find_all('section')\n",
    "    a = []\n",
    "    for s in sections:\n",
    "        try:\n",
    "            div = s.find('div', {'class': 'col-12 col-md-7 col-lg-8'})\n",
    "            div = div.find_all('div', {'class': 'news-item'})\n",
    "            a.extend([div_.find('a').get('href') for div_ in div])\n",
    "        except:\n",
    "            pass\n",
    "        \n",
    "    if len(a):\n",
    "\n",
    "        with open(filename, 'w') as fopen:\n",
    "            json.dump(a, fopen)\n",
    "        \n",
    "    return a"
   ]
  },
  {
   "cell_type": "code",
   "execution_count": null,
   "metadata": {
    "scrolled": false
   },
   "outputs": [
    {
     "name": "stdout",
     "output_type": "stream",
     "text": [
      "https://www.orientaldaily.com.my/news/nation\n"
     ]
    },
    {
     "name": "stderr",
     "output_type": "stream",
     "text": [
      " 56%|█████████████████████▊                 | 1120/2000 [01:24<03:39,  4.02it/s]"
     ]
    }
   ],
   "source": [
    "max_worker = 20\n",
    "\n",
    "def generator():\n",
    "    while True:\n",
    "        yield\n",
    "        \n",
    "for t in topics:\n",
    "    print(t)\n",
    "    t_ = t.split('my/')[1].replace('/', '-')\n",
    "    \n",
    "    for i in tqdm(range(1, 20000, max_worker)):\n",
    "        a = np.arange(i, i + max_worker)\n",
    "        urls = [(f'{t}?page={k}', os.path.join('url', f'{t_}-{k}.json')) for k in a]\n",
    "        \n",
    "        done = False\n",
    "        with ThreadPoolExecutor(max_workers=max_worker) as executor:\n",
    "            futures = {executor.submit(crawl, url[0], url[1]): url for url in urls}\n",
    "            \n",
    "            for future in as_completed(futures):\n",
    "                r = future.result()\n",
    "                if not len(r):\n",
    "                    done = True\n",
    "                    \n",
    "        if done:\n",
    "            break\n",
    "    \n",
    "#     index = 1\n",
    "#     for _ in tqdm(generator()):\n",
    "#         filename = os.path.join('url', f'{t_}-{index}.json')\n",
    "#         if os.path.exists(filename):\n",
    "#             index += 1\n",
    "#             continue\n",
    "        \n",
    "        \n",
    "            \n",
    "#         index += 1"
   ]
  },
  {
   "cell_type": "code",
   "execution_count": null,
   "metadata": {},
   "outputs": [],
   "source": [
    "r = requests.get(f'{t}?page={50000}')"
   ]
  },
  {
   "cell_type": "code",
   "execution_count": null,
   "metadata": {},
   "outputs": [],
   "source": [
    "soup = BeautifulSoup(r.content, \"lxml\")\n",
    "# a = soup.find_all('a', {'class': 'link'})"
   ]
  },
  {
   "cell_type": "code",
   "execution_count": null,
   "metadata": {},
   "outputs": [],
   "source": [
    "sections = soup.find_all('section')\n",
    "a = []\n",
    "for s in sections:\n",
    "    try:\n",
    "        div = s.find('div', {'class': 'col-12 col-md-7 col-lg-8'})\n",
    "        div = div.find_all('div', {'class': 'news-item'})\n",
    "        a.extend([div_.find('a').get('href') for div_ in div])\n",
    "    except:\n",
    "        pass\n",
    "    \n",
    "a"
   ]
  },
  {
   "cell_type": "code",
   "execution_count": null,
   "metadata": {},
   "outputs": [],
   "source": [
    "div = soup.find('div', {'class': 'col-12 col-md-7 col-lg-8'})\n",
    "div = div.find_all('div', {'class': 'news-item'})\n",
    "a = [div_.find('a').get('href') for div_ in div]\n",
    "a"
   ]
  },
  {
   "cell_type": "code",
   "execution_count": null,
   "metadata": {},
   "outputs": [],
   "source": [
    "a"
   ]
  },
  {
   "cell_type": "code",
   "execution_count": null,
   "metadata": {},
   "outputs": [],
   "source": []
  }
 ],
 "metadata": {
  "kernelspec": {
   "display_name": "Python 3 (ipykernel)",
   "language": "python",
   "name": "python3"
  },
  "language_info": {
   "codemirror_mode": {
    "name": "ipython",
    "version": 3
   },
   "file_extension": ".py",
   "mimetype": "text/x-python",
   "name": "python",
   "nbconvert_exporter": "python",
   "pygments_lexer": "ipython3",
   "version": "3.8.10"
  }
 },
 "nbformat": 4,
 "nbformat_minor": 4
}
