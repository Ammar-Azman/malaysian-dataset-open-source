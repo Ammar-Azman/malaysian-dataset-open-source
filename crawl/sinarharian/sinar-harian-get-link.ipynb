{
 "cells": [
  {
   "cell_type": "code",
   "execution_count": null,
   "id": "f6f76864",
   "metadata": {},
   "outputs": [],
   "source": [
    "from selenium import webdriver\n",
    "from selenium.webdriver.common.keys import Keys\n",
    "from selenium.webdriver.support import expected_conditions as EC\n",
    "from selenium.webdriver.common.by import By\n",
    "from selenium.webdriver.support.wait import WebDriverWait\n",
    "from selenium.webdriver.chrome.options import Options\n",
    "from selenium.common.exceptions import (\n",
    "    NoSuchElementException,\n",
    "    InvalidSessionIdException,\n",
    "    TimeoutException,\n",
    ")\n",
    "from selenium.webdriver.firefox.options import Options as FirefoxOptions\n",
    "\n",
    "# from selenium.webdriver import Chrome\n",
    "from selenium.webdriver.common.desired_capabilities import DesiredCapabilities\n",
    "import time"
   ]
  },
  {
   "cell_type": "code",
   "execution_count": null,
   "id": "8f03fa5e",
   "metadata": {},
   "outputs": [],
   "source": [
    "firefox_options = webdriver.FirefoxOptions()\n",
    "firefox_options.add_argument(\"start-maximized\")\n",
    "\n",
    "driver = webdriver.Firefox(options=firefox_options)"
   ]
  },
  {
   "cell_type": "code",
   "execution_count": null,
   "id": "741a4a63",
   "metadata": {
    "scrolled": true
   },
   "outputs": [],
   "source": [
    "keys = [\"politik\"]\n",
    "\n",
    "import os\n",
    "for key in keys:\n",
    "    url = f\"https://www.sinarharian.com.my/{key}\"\n",
    "    print(f\"crawl - {url}\")\n",
    "    driver.get(url)\n",
    "    time.sleep(10)\n",
    "    \n",
    "    n = 0\n",
    "    n_error = 0\n",
    "    while True:  \n",
    "        try:\n",
    "            articles = \"//div[@class='article-title']//a\"\n",
    "            link_articles = []\n",
    "            for item in driver.find_elements(\"xpath\", articles):\n",
    "                link_articles.append(item.get_attribute(\"href\"))\n",
    "\n",
    "            with open(f'output/sinar_harian_link_{os.path.basename(url.rstrip(\"/\"))}.txt', 'w+') as f:\n",
    "                for line in link_articles:\n",
    "                    f.write(f\"{line}\\n\")\n",
    "                \n",
    "            more = WebDriverWait(driver, 5).until(\n",
    "                    EC.element_to_be_clickable((By.CSS_SELECTOR, \"button[class='more-articles']\"))\n",
    "                )\n",
    "\n",
    "            if n > 0:\n",
    "                element_to_click = driver.find_element(\"xpath\", \".//button[@class='more-articles']\")\n",
    "                element_to_click.location_once_scrolled_into_view\n",
    "            time.sleep(2)\n",
    "            more.click()\n",
    "            #print(\"continue scroll\")\n",
    "            \n",
    "            n+=1\n",
    "        except TimeoutException:\n",
    "            break\n",
    "        except Exception as e:\n",
    "            if n_error > 20:\n",
    "                break\n",
    "                \n",
    "            if \"could not be scrolled into view\" in str(e):\n",
    "                time.sleep(5)\n",
    "                element_to_click = driver.find_element(\"xpath\", \".//button[@class='more-articles']\")\n",
    "                element_to_click.location_once_scrolled_into_view\n",
    "                time.sleep(5)\n",
    "                driver.execute_script(\"window.scrollTo(0, document.body.scrollHeight);\")\n",
    "                # print(\"error but scroll\")\n",
    "            else:\n",
    "                n_error += 1\n",
    "            continue\n"
   ]
  },
  {
   "cell_type": "code",
   "execution_count": null,
   "id": "13fb2993",
   "metadata": {},
   "outputs": [],
   "source": []
  }
 ],
 "metadata": {
  "kernelspec": {
   "display_name": "Python 3 (ipykernel)",
   "language": "python",
   "name": "python3"
  },
  "language_info": {
   "codemirror_mode": {
    "name": "ipython",
    "version": 3
   },
   "file_extension": ".py",
   "mimetype": "text/x-python",
   "name": "python",
   "nbconvert_exporter": "python",
   "pygments_lexer": "ipython3",
   "version": "3.9.16"
  }
 },
 "nbformat": 4,
 "nbformat_minor": 5
}
