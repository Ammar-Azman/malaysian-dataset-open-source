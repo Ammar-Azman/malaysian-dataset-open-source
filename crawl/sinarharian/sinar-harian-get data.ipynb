{
 "cells": [
  {
   "cell_type": "code",
   "execution_count": null,
   "id": "ab508a2f",
   "metadata": {},
   "outputs": [],
   "source": [
    "import requests\n",
    "from bs4 import BeautifulSoup\n",
    "import json\n",
    "import re\n",
    "import os\n",
    "from requests_html import HTMLSession\n",
    "session = HTMLSession()"
   ]
  },
  {
   "cell_type": "code",
   "execution_count": null,
   "id": "7229c7de",
   "metadata": {},
   "outputs": [],
   "source": [
    "def get_article(url):\n",
    "    r = session.get(url)\n",
    "    soup = BeautifulSoup(r.content, \"lxml\")\n",
    "\n",
    "\n",
    "    article_tag = soup.find(\"div\", {\"class\": \"sinarharian-article-details\"}).find(\"article\")\n",
    "\n",
    "    if article_tag:\n",
    "        article = article_tag\n",
    "\n",
    "        for div in article.find_all(\"div\", {\"class\": \"related-article-inside-body\"}):\n",
    "            div.decompose()\n",
    "    else:\n",
    "        article = None\n",
    "\n",
    "    author_name = soup.find(\"span\", {\"class\": \"author\"}).text.strip() if soup.find(\"span\", {\"class\": \"author\"}) else None\n",
    "    reading_time = (\n",
    "        soup.find(\"span\", {\"class\": \"readingTime\"}).find(\"span\", {\"id\": \"readingtime\"}).text\n",
    "    )\n",
    "    article_dt = soup.find(\"span\", {\"class\": \"timespan\"}).text if soup.find(\"span\", {\"class\": \"timespan\"}) else None\n",
    "    article_url = soup.find(\"div\", {\"id\": \"article_info\"}).get(\"data-article_url\") if soup.find(\"div\", {\"id\": \"article_info\"}) else None\n",
    "    article_title = soup.find(\"div\", {\"id\": \"article_info\"}).get(\"data-article_title\") if soup.find(\"div\", {\"id\": \"article_info\"}).get(\"data-article_title\") else None\n",
    "\n",
    "    if article:\n",
    "        article_text = article.text.strip()\n",
    "    else: \n",
    "        article_text = None\n",
    "\n",
    "    data = {\n",
    "        \"author_name\": author_name,\n",
    "        \"article_url\": article_url,\n",
    "        \"article_title\": article_title,\n",
    "        \"article_text\": article_text,\n",
    "        \"reading_time\": reading_time,\n",
    "        \"article_dt\": article_dt,\n",
    "    }\n",
    "    \n",
    "    return data\n"
   ]
  },
  {
   "cell_type": "code",
   "execution_count": null,
   "id": "f5ec6068",
   "metadata": {},
   "outputs": [],
   "source": [
    "def write_to_json(lst, fn):\n",
    "    import json\n",
    "    with open(fn, \"w+\", encoding=\"utf-8\") as file:\n",
    "        for item in lst:\n",
    "            x = json.dumps(item)\n",
    "            file.write(x + \"\\n\")"
   ]
  },
  {
   "cell_type": "code",
   "execution_count": null,
   "id": "fd1c47a0",
   "metadata": {},
   "outputs": [],
   "source": [
    "param = \"politik\"\n",
    "fn = f\"output/sinar_harian_link_{param}.txt\"\n",
    "fn_file = fn.split(\"/\")[1]\n",
    "\n",
    "with open(fn, \"r\") as link:\n",
    "    lines = link.readlines()\n",
    "    lines = [item.strip() for item in lines]\n",
    "    \n",
    "result_list = []\n",
    "\n",
    "for item in lines:\n",
    "    try:\n",
    "        data = get_article(item)\n",
    "        result_list.append(data)\n",
    "    except TimeoutError:\n",
    "        import time\n",
    "        time.sleep(10)\n",
    "        continue\n",
    "    except:\n",
    "        time.sleep(60)\n",
    "            \n",
    "    \n",
    "    write_to_json(result_list, f\"output/sinar_harian_link_{param}.json\")"
   ]
  },
  {
   "cell_type": "code",
   "execution_count": null,
   "id": "4d6c8db3",
   "metadata": {},
   "outputs": [],
   "source": [
    "result_list"
   ]
  },
  {
   "cell_type": "code",
   "execution_count": null,
   "id": "ba585200",
   "metadata": {},
   "outputs": [],
   "source": []
  }
 ],
 "metadata": {
  "kernelspec": {
   "display_name": "Python 3 (ipykernel)",
   "language": "python",
   "name": "python3"
  },
  "language_info": {
   "codemirror_mode": {
    "name": "ipython",
    "version": 3
   },
   "file_extension": ".py",
   "mimetype": "text/x-python",
   "name": "python",
   "nbconvert_exporter": "python",
   "pygments_lexer": "ipython3",
   "version": "3.9.16"
  }
 },
 "nbformat": 4,
 "nbformat_minor": 5
}
