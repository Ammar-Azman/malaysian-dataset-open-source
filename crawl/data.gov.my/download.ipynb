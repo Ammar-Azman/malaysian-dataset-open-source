{
 "cells": [
  {
   "cell_type": "code",
   "execution_count": 1,
   "metadata": {},
   "outputs": [],
   "source": [
    "import requests\n",
    "from bs4 import BeautifulSoup\n",
    "from tqdm import tqdm\n",
    "import os\n",
    "import json\n",
    "import numpy as np\n",
    "import time\n",
    "import random\n",
    "import json\n",
    "from glob import glob"
   ]
  },
  {
   "cell_type": "code",
   "execution_count": 2,
   "metadata": {},
   "outputs": [
    {
     "data": {
      "text/plain": [
       "12127"
      ]
     },
     "execution_count": 2,
     "metadata": {},
     "output_type": "execute_result"
    }
   ],
   "source": [
    "with open('mampu.json') as fopen:\n",
    "    data = json.load(fopen)\n",
    "len(data)"
   ]
  },
  {
   "cell_type": "code",
   "execution_count": 3,
   "metadata": {},
   "outputs": [
    {
     "name": "stdout",
     "output_type": "stream",
     "text": [
      "mkdir: cannot create directory ‘data-mampu’: File exists\n",
      "1.4G\tdata-mampu\n"
     ]
    }
   ],
   "source": [
    "directory = 'data-mampu'\n",
    "!mkdir {directory}\n",
    "!du -hs {directory}"
   ]
  },
  {
   "cell_type": "code",
   "execution_count": 10,
   "metadata": {},
   "outputs": [],
   "source": [
    "files = {}\n",
    "k = 0\n",
    "for d in data:\n",
    "    for url in d['file_urls']:\n",
    "        file, ext = os.path.splitext(url)\n",
    "        if not len(ext):\n",
    "            file = f'{k}'\n",
    "        else:\n",
    "            file = f'{k}{ext}'\n",
    "        files[url] = os.path.join(directory, file)\n",
    "        k += 1"
   ]
  },
  {
   "cell_type": "code",
   "execution_count": 13,
   "metadata": {},
   "outputs": [],
   "source": [
    "def crawl(url, file):\n",
    "    if os.path.exists(file):\n",
    "        return\n",
    "    \n",
    "    try:\n",
    "        if not url.startswith('http'):\n",
    "            url = 'https://www.data.gov.my' + url\n",
    "        r = requests.get(url)\n",
    "        with open(file, 'wb') as fopen:\n",
    "            fopen.write(r.content)\n",
    "    except:\n",
    "        pass"
   ]
  },
  {
   "cell_type": "code",
   "execution_count": 14,
   "metadata": {},
   "outputs": [
    {
     "data": {
      "text/plain": [
       "('/data/ms_MY/dataset/peruntukan-dan-belanja-jalan-luar-bandar-jalb/resource/9ac42a0e-0c3c-44f8-9e27-c967af68f363',\n",
       " 'data-mampu/0')"
      ]
     },
     "execution_count": 14,
     "metadata": {},
     "output_type": "execute_result"
    }
   ],
   "source": [
    "files_t = tuple(files.items())\n",
    "files_t[0]"
   ]
  },
  {
   "cell_type": "code",
   "execution_count": 15,
   "metadata": {},
   "outputs": [
    {
     "name": "stderr",
     "output_type": "stream",
     "text": [
      "100%|███████████████████████████████████████| 4973/4973 [58:29<00:00,  1.42it/s]\n"
     ]
    }
   ],
   "source": [
    "from concurrent.futures import ThreadPoolExecutor, as_completed\n",
    "\n",
    "max_worker = 10\n",
    "\n",
    "for i in tqdm(range(0, len(files_t), max_worker)):\n",
    "    b = files_t[i: i + max_worker]\n",
    "    with ThreadPoolExecutor(max_workers=max_worker) as executor:\n",
    "        futures = {executor.submit(crawl, url[0], url[1]): url for url in b}\n",
    "\n",
    "    for future in as_completed(futures):\n",
    "        future.result()"
   ]
  },
  {
   "cell_type": "code",
   "execution_count": 16,
   "metadata": {},
   "outputs": [
    {
     "name": "stdout",
     "output_type": "stream",
     "text": [
      "5.1G\tdata-mampu\r\n"
     ]
    }
   ],
   "source": [
    "!du -hs data-mampu"
   ]
  }
 ],
 "metadata": {
  "kernelspec": {
   "display_name": "Python 3 (ipykernel)",
   "language": "python",
   "name": "python3"
  },
  "language_info": {
   "codemirror_mode": {
    "name": "ipython",
    "version": 3
   },
   "file_extension": ".py",
   "mimetype": "text/x-python",
   "name": "python",
   "nbconvert_exporter": "python",
   "pygments_lexer": "ipython3",
   "version": "3.8.10"
  }
 },
 "nbformat": 4,
 "nbformat_minor": 4
}
