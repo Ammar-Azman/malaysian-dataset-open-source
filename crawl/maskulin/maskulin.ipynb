{
 "cells": [
  {
   "cell_type": "code",
   "execution_count": 5,
   "id": "b2823ccc",
   "metadata": {},
   "outputs": [],
   "source": [
    "from bs4 import BeautifulSoup\n",
    "import pandas as pd\n",
    "import json\n",
    "import requests\n",
    "from urllib.request import urlopen\n",
    "import urllib.request\n",
    "from datetime import datetime\n",
    "from tqdm import tqdm\n",
    "import time\n",
    "import numpy as np\n",
    "from concurrent.futures import ThreadPoolExecutor, as_completed"
   ]
  },
  {
   "cell_type": "code",
   "execution_count": 6,
   "id": "a793a90e",
   "metadata": {},
   "outputs": [],
   "source": [
    "categories = [\"1950\",\"1952\",\"1951\",\"1949\",\"14\",\"16\"]\n",
    "\n",
    "hrefs = []"
   ]
  },
  {
   "cell_type": "code",
   "execution_count": 7,
   "id": "7b0e3bd3",
   "metadata": {},
   "outputs": [],
   "source": [
    "import requests\n",
    "\n",
    "cookies = {\n",
    "    'quform_session_6890d6b20cacc178d9e185f756dc6ac7': 'gR4EBmsxmphsd2MzDDVvmhtU1TXS09LuxwAzDaJB',\n",
    "    '_gcl_au': '1.1.983563741.1688797272',\n",
    "    'AMCVS_43D8021954C26BE10A4C98A5%40AdobeOrg': '1',\n",
    "    '_cc_id': '3eda540b1733bbf97d5a84667177a178',\n",
    "    'izootoWpConfig': '%7B%22b_type%22:7,%22d_type%22:1,%22evt_trk%22:1,%22izooto_uid%22:%22912eaf65-6a63-414d-9ae5-9a731523d9fd%22%7D',\n",
    "    'FCNEC': '%5B%5B%22AKsRol9qwWi0al-6mdDUFEaijNd9kH92ay8kW-9zBGHomYor9_ZdD6qYrpumVFgid2D17nAvWbR8KALIYotjQN15otP2HWbet2lfCrYFuIJTgvQjLqcVXa7OelcgP0GeuSeIQRHQzhjiB1AfZ7j1fAZq5qi7LxkjVw%3D%3D%22%5D%2Cnull%2C%5B%5D%5D',\n",
    "    '_gid': 'GA1.3.137709296.1690012821',\n",
    "    'panoramaId_expiry': '1690099220931',\n",
    "    'panoramaId': '24aa7eb4ab23dee1ace84787366ea9fb927af0baabde5e68c1e8fb79cc4932a0',\n",
    "    'panoramaIdType': 'panoDevice',\n",
    "    'AMCV_43D8021954C26BE10A4C98A5%40AdobeOrg': '-1124106680%7CMCIDTS%7C19561%7CMCMID%7C57066602932326323772281113986366041566%7CMCAAMLH-1690617620%7C3%7CMCAAMB-1690617620%7C6G1ynYcLPuiQxYZrsz_pkqfLG9yMXBpb2zX5dvJdYQJzPXImdj0y%7CMCOPTOUT-1690020020s%7CNONE%7CMCSYNCS%7C1083-19568*1085-19568*1086-19568*1087-19568*1088-19568*19913-19568*83349-19568%7CMCSYNCSOP%7C411-19568%7CvVersion%7C5.2.0',\n",
    "    'uid-s': 'f483cc7-ff77-41b8-8251-8b77f9c1e153',\n",
    "    'vuukle_geo_region': '{%22country_code%22:%22MY%22%2C%22os%22:%22Mac%20OS%20X%22%2C%22device%22:%22Desktop%22%2C%22browser%22:%22Edge%22}',\n",
    "    'vsid': '67f26860-2e98-4116-bd1d-62a92b539149',\n",
    "    'trc_cookie_storage': 'taboola%2520global%253Auser-id%3Db29a0b49-49f9-40ad-902e-d26f0bb44a94-tuctbb51d1f',\n",
    "    'ivs_video_2725573_lastPlayed': '24045,50000',\n",
    "    '_dc_gtm_UA-32399978-1': '1',\n",
    "    '_gat_UA-20278225-94': '1',\n",
    "    '_ga': 'GA1.3.138662611.1688797272',\n",
    "    '_ga_TPY8FV3R5N': 'GS1.1.1690021090.5.1.1690021098.0.0.0',\n",
    "    '_ga_77NQB7YKSC': 'GS1.1.1690021090.5.1.1690021098.0.0.0',\n",
    "    '_gat_UA-32399978-1': '1',\n",
    "    '_ga_XP3XB6KEE2': 'GS1.3.1690021090.4.1.1690021113.37.0.0',\n",
    "}\n",
    "\n",
    "headers = {\n",
    "    'authority': 'www.maskulin.com.my',\n",
    "    'accept': '*/*',\n",
    "    'accept-language': 'en-US,en;q=0.9',\n",
    "    'content-type': 'application/x-www-form-urlencoded; charset=UTF-8',\n",
    "    # 'cookie': 'quform_session_6890d6b20cacc178d9e185f756dc6ac7=gR4EBmsxmphsd2MzDDVvmhtU1TXS09LuxwAzDaJB; _gcl_au=1.1.983563741.1688797272; AMCVS_43D8021954C26BE10A4C98A5%40AdobeOrg=1; _cc_id=3eda540b1733bbf97d5a84667177a178; izootoWpConfig=%7B%22b_type%22:7,%22d_type%22:1,%22evt_trk%22:1,%22izooto_uid%22:%22912eaf65-6a63-414d-9ae5-9a731523d9fd%22%7D; FCNEC=%5B%5B%22AKsRol9qwWi0al-6mdDUFEaijNd9kH92ay8kW-9zBGHomYor9_ZdD6qYrpumVFgid2D17nAvWbR8KALIYotjQN15otP2HWbet2lfCrYFuIJTgvQjLqcVXa7OelcgP0GeuSeIQRHQzhjiB1AfZ7j1fAZq5qi7LxkjVw%3D%3D%22%5D%2Cnull%2C%5B%5D%5D; _gid=GA1.3.137709296.1690012821; panoramaId_expiry=1690099220931; panoramaId=24aa7eb4ab23dee1ace84787366ea9fb927af0baabde5e68c1e8fb79cc4932a0; panoramaIdType=panoDevice; AMCV_43D8021954C26BE10A4C98A5%40AdobeOrg=-1124106680%7CMCIDTS%7C19561%7CMCMID%7C57066602932326323772281113986366041566%7CMCAAMLH-1690617620%7C3%7CMCAAMB-1690617620%7C6G1ynYcLPuiQxYZrsz_pkqfLG9yMXBpb2zX5dvJdYQJzPXImdj0y%7CMCOPTOUT-1690020020s%7CNONE%7CMCSYNCS%7C1083-19568*1085-19568*1086-19568*1087-19568*1088-19568*19913-19568*83349-19568%7CMCSYNCSOP%7C411-19568%7CvVersion%7C5.2.0; uid-s=f483cc7-ff77-41b8-8251-8b77f9c1e153; vuukle_geo_region={%22country_code%22:%22MY%22%2C%22os%22:%22Mac%20OS%20X%22%2C%22device%22:%22Desktop%22%2C%22browser%22:%22Edge%22}; vsid=67f26860-2e98-4116-bd1d-62a92b539149; trc_cookie_storage=taboola%2520global%253Auser-id%3Db29a0b49-49f9-40ad-902e-d26f0bb44a94-tuctbb51d1f; ivs_video_2725573_lastPlayed=24045,50000; _dc_gtm_UA-32399978-1=1; _gat_UA-20278225-94=1; _ga=GA1.3.138662611.1688797272; _ga_TPY8FV3R5N=GS1.1.1690021090.5.1.1690021098.0.0.0; _ga_77NQB7YKSC=GS1.1.1690021090.5.1.1690021098.0.0.0; _gat_UA-32399978-1=1; _ga_XP3XB6KEE2=GS1.3.1690021090.4.1.1690021113.37.0.0',\n",
    "    'origin': 'https://www.maskulin.com.my',\n",
    "    'referer': 'https://www.maskulin.com.my/category/gaya-hidup/',\n",
    "    'sec-ch-ua': '\"Not.A/Brand\";v=\"8\", \"Chromium\";v=\"114\", \"Microsoft Edge\";v=\"114\"',\n",
    "    'sec-ch-ua-mobile': '?0',\n",
    "    'sec-ch-ua-platform': '\"macOS\"',\n",
    "    'sec-fetch-dest': 'empty',\n",
    "    'sec-fetch-mode': 'cors',\n",
    "    'sec-fetch-site': 'same-origin',\n",
    "    'user-agent': 'Mozilla/5.0 (Macintosh; Intel Mac OS X 10_15_7) AppleWebKit/537.36 (KHTML, like Gecko) Chrome/114.0.0.0 Safari/537.36 Edg/114.0.1823.82',\n",
    "    'x-auth-token': 'NTY0ODgwNTI0MDE3NDYxODQ3MDUzMjY5NDExNjY2Njc=',\n",
    "    'x-requested-with': 'XMLHttpRequest',\n",
    "}\n",
    "\n",
    "params = {\n",
    "    'td_theme_name': 'Newspaper',\n",
    "    'v': '12.4',\n",
    "}"
   ]
  },
  {
   "cell_type": "code",
   "execution_count": 8,
   "id": "f315ad24",
   "metadata": {},
   "outputs": [],
   "source": [
    "def crawl(url,category):\n",
    "    \n",
    "        \n",
    "    data = {\n",
    "    'action': 'td_ajax_loop',\n",
    "    'loopState[sidebarPosition]': '',\n",
    "    'loopState[moduleId]': '1',\n",
    "    'loopState[currentPage]': f'{url}',\n",
    "    'loopState[atts][category_id]': f'{category}',\n",
    "    'loopState[ajax_pagination_infinite_stop]': '3',\n",
    "    'loopState[server_reply_html_data]': '',\n",
    "    }\n",
    "    \n",
    "    while True:\n",
    "        try:\n",
    "            response = requests.post('https://www.maskulin.com.my/wp-admin/admin-ajax.php', params=params, cookies=cookies, headers=headers, data=data)\n",
    "            if response.status_code == 508:\n",
    "                print(r.status_code)\n",
    "                print('error in link, retrying... ', url)\n",
    "                time.sleep(20)\n",
    "                continue\n",
    "            break\n",
    "        except Exception as e:\n",
    "            print(e)\n",
    "            time.sleep(1.0)\n",
    "    \n",
    "    try:\n",
    "        r = response.json()\n",
    "    except:\n",
    "        return\n",
    "    \n",
    "    \n",
    "    soup = BeautifulSoup(r['server_reply_html_data'], \"lxml\")\n",
    "    \n",
    "    block = soup.find_all(\"h3\",attrs = {\"class\":\"entry-title td-module-title\"})\n",
    "    \n",
    "    if block is None:\n",
    "        return\n",
    "\n",
    "    for link in soup.find_all(\"h3\",attrs = {\"class\":\"entry-title td-module-title\"}):\n",
    "\n",
    "        href = link.find('a').get('href')\n",
    "\n",
    "        hrefs.append(href)\n",
    "    "
   ]
  },
  {
   "cell_type": "code",
   "execution_count": 9,
   "id": "3184367c",
   "metadata": {
    "scrolled": true
   },
   "outputs": [
    {
     "name": "stderr",
     "output_type": "stream",
     "text": [
      "100%|██████████████████████████████████████████████████████████████████████████████████████████████████████████████████| 48/48 [01:19<00:00,  1.66s/it]\n",
      "100%|██████████████████████████████████████████████████████████████████████████████████████████████████████████████████| 58/58 [01:34<00:00,  1.62s/it]\n",
      "100%|██████████████████████████████████████████████████████████████████████████████████████████████████████████████████| 10/10 [00:16<00:00,  1.61s/it]\n",
      "100%|████████████████████████████████████████████████████████████████████████████████████████████████████████████████████| 6/6 [00:10<00:00,  1.77s/it]\n",
      "100%|██████████████████████████████████████████████████████████████████████████████████████████████████████████████████| 18/18 [00:28<00:00,  1.57s/it]\n",
      "100%|██████████████████████████████████████████████████████████████████████████████████████████████████████████████████| 14/14 [00:23<00:00,  1.65s/it]\n"
     ]
    }
   ],
   "source": [
    "max_worker = 5\n",
    "hrefs = []\n",
    "\n",
    "for index, c in enumerate(categories):\n",
    "    max_pages = ['237', '287', '50', '28','87',\"70\"]\n",
    "    max_page = int(max_pages[index])\n",
    "    \n",
    "    for i in tqdm(range(1, max_page + 1, max_worker)):\n",
    "        aranged = np.arange(i, min(i + max_worker, max_page + 1))  # Fix range issue\n",
    "        urls = [str(a) for a in aranged]  # Use the correct range of pages\n",
    "        \n",
    "        with ThreadPoolExecutor(max_workers=max_worker) as executor:\n",
    "            futures = {executor.submit(crawl, url, c): url for url in urls}\n",
    "            \n",
    "        for future in as_completed(futures):\n",
    "            future.result()"
   ]
  },
  {
   "cell_type": "code",
   "execution_count": 12,
   "id": "b0dd69c1",
   "metadata": {},
   "outputs": [
    {
     "data": {
      "text/plain": [
       "7532"
      ]
     },
     "execution_count": 12,
     "metadata": {},
     "output_type": "execute_result"
    }
   ],
   "source": [
    "len(hrefs)"
   ]
  },
  {
   "cell_type": "code",
   "execution_count": 11,
   "id": "acdd0004",
   "metadata": {},
   "outputs": [],
   "source": [
    "hrefs = list(set(hrefs))"
   ]
  },
  {
   "cell_type": "code",
   "execution_count": 13,
   "id": "ecd2a622",
   "metadata": {},
   "outputs": [],
   "source": [
    "with open('maskulin-link.json', 'a') as f:\n",
    "    json.dump(hrefs, f)"
   ]
  },
  {
   "cell_type": "code",
   "execution_count": 4,
   "id": "6a6cd382",
   "metadata": {},
   "outputs": [],
   "source": [
    "with open('maskulin-link.json') as f:\n",
    "    hrefs = json.load(f)"
   ]
  },
  {
   "cell_type": "code",
   "execution_count": 14,
   "id": "deb3e1a7",
   "metadata": {},
   "outputs": [],
   "source": [
    "def process_url(x):\n",
    "    headers = {'User-Agent': 'Mozilla/5.0 (Windows NT 6.1; WOW64) AppleWebKit/537.36 (KHTML, like Gecko) Chrome/56.0.2924.76 Safari/537.36'} # This is chrome, you can set whatever browser you like\n",
    "\n",
    "    \n",
    "    while True:\n",
    "        try:\n",
    "            r = requests.get(x, headers=headers)\n",
    "            break\n",
    "        except Exception as e:\n",
    "            print(e)\n",
    "            time.sleep(5.0)\n",
    "    \n",
    "    soup = BeautifulSoup(r.text, \"lxml\")\n",
    "\n",
    "    try:\n",
    "        headline = soup.find('h1', class_=\"entry-title\").text\n",
    "        h = soup.find('div', attrs = {\"class\":\"td-ss-main-content\"})\n",
    "        p = [p.text for p in h.find_all(\"p\") if len(p.text) > 3 and not p.find('a', href=True)]\n",
    "    except Exception as e:\n",
    "        print('error in link:'+ x)\n",
    "        print(e)\n",
    "        return\n",
    "    \n",
    "    time.sleep(2)\n",
    "\n",
    "    \n",
    "    data = {'url': x, 'headline': headline, 'content': p}\n",
    "    return data"
   ]
  },
  {
   "cell_type": "code",
   "execution_count": 15,
   "id": "0186bc8c",
   "metadata": {},
   "outputs": [
    {
     "name": "stderr",
     "output_type": "stream",
     "text": [
      "  6%|██████▋                                                                                                        | 458/7532 [04:29<55:38,  2.12it/s]"
     ]
    },
    {
     "name": "stdout",
     "output_type": "stream",
     "text": [
      "error in link:https://www.maskulin.com.my/kenali-karakter-lelaki-menerusi-4-senyuman-berbeza-ini-anda-yang-mana-satu/\n",
      "'NoneType' object has no attribute 'text'\n"
     ]
    },
    {
     "name": "stderr",
     "output_type": "stream",
     "text": [
      "  9%|█████████▌                                                                                                   | 662/7532 [06:21<1:46:45,  1.07it/s]"
     ]
    },
    {
     "name": "stdout",
     "output_type": "stream",
     "text": [
      "(\"Connection broken: InvalidChunkLength(got length b'', 0 bytes read)\", InvalidChunkLength(got length b'', 0 bytes read))\n"
     ]
    },
    {
     "name": "stderr",
     "output_type": "stream",
     "text": [
      " 12%|█████████████▍                                                                                                 | 911/7532 [08:42<57:14,  1.93it/s]"
     ]
    },
    {
     "name": "stdout",
     "output_type": "stream",
     "text": [
      "error in link:https://www.maskulin.com.my/khasiat-makan-ikan-sardin-selain-sihatkan-kulit-rupanya-boleh-dapat-otot-solid/\n",
      "'NoneType' object has no attribute 'text'\n"
     ]
    },
    {
     "name": "stderr",
     "output_type": "stream",
     "text": [
      " 13%|██████████████▏                                                                                              | 977/7532 [09:20<1:19:05,  1.38it/s]"
     ]
    },
    {
     "name": "stdout",
     "output_type": "stream",
     "text": [
      "error in link:https://www.maskulin.com.my/6-fakta-menarik-tentang-janggut-yang-kamu-perlu-tahu-no-3-tu-mesti-lelaki-suka/\n",
      "'NoneType' object has no attribute 'text'\n"
     ]
    },
    {
     "name": "stderr",
     "output_type": "stream",
     "text": [
      " 28%|█████████████████████████████▉                                                                              | 2086/7532 [19:38<1:28:14,  1.03it/s]"
     ]
    },
    {
     "name": "stdout",
     "output_type": "stream",
     "text": [
      "(\"Connection broken: InvalidChunkLength(got length b'', 0 bytes read)\", InvalidChunkLength(got length b'', 0 bytes read))\n"
     ]
    },
    {
     "name": "stderr",
     "output_type": "stream",
     "text": [
      " 29%|████████████████████████████████▏                                                                             | 2201/7532 [20:37<35:34,  2.50it/s]"
     ]
    },
    {
     "name": "stdout",
     "output_type": "stream",
     "text": [
      "error in link:https://www.maskulin.com.my/5-petua-terbaik-untuk-elak-rasa-lapar-dengan-cepat/\n",
      "'NoneType' object has no attribute 'text'\n"
     ]
    },
    {
     "name": "stderr",
     "output_type": "stream",
     "text": [
      " 43%|███████████████████████████████████████████████▌                                                              | 3254/7532 [30:10<34:10,  2.09it/s]"
     ]
    },
    {
     "name": "stdout",
     "output_type": "stream",
     "text": [
      "error in link:https://www.maskulin.com.my/dengan-modal-hanya-rm12-90-lelaki-ini-kongsi-cara-coating-lampu-kereta-agar-nampak-baru/\n",
      "'NoneType' object has no attribute 'text'\n"
     ]
    },
    {
     "name": "stderr",
     "output_type": "stream",
     "text": [
      " 44%|███████████████████████████████████████████████▉                                                              | 3280/7532 [30:23<30:52,  2.30it/s]"
     ]
    },
    {
     "name": "stdout",
     "output_type": "stream",
     "text": [
      "(\"Connection broken: InvalidChunkLength(got length b'', 0 bytes read)\", InvalidChunkLength(got length b'', 0 bytes read))\n"
     ]
    },
    {
     "name": "stderr",
     "output_type": "stream",
     "text": [
      " 72%|██████████████████████████████████████████████████████████████████████████████▋                               | 5391/7532 [49:21<10:28,  3.41it/s]"
     ]
    },
    {
     "name": "stdout",
     "output_type": "stream",
     "text": [
      "error in link:https://www.maskulin.com.my/3-rutin-harian-punca-sakit-tulang-belakang/\n",
      "'NoneType' object has no attribute 'text'\n"
     ]
    },
    {
     "name": "stderr",
     "output_type": "stream",
     "text": [
      " 82%|██████████████████████████████████████████████████████████████████████████████████████████▌                   | 6203/7532 [57:13<17:42,  1.25it/s]"
     ]
    },
    {
     "name": "stdout",
     "output_type": "stream",
     "text": [
      "error in link:https://www.maskulin.com.my/ramai-tak-tahu-mandi-lepas-makan-boleh-sebabkan-masalah-ini-serius-terkejut/\n",
      "'NoneType' object has no attribute 'text'\n"
     ]
    },
    {
     "name": "stderr",
     "output_type": "stream",
     "text": [
      "\r",
      " 82%|██████████████████████████████████████████████████████████████████████████████████████▌                  | 6206/7532 [1:00:07<10:39:46, 28.95s/it]"
     ]
    },
    {
     "name": "stdout",
     "output_type": "stream",
     "text": [
      "error in link:https://www.maskulin.com.my/bagaimana-mahu-mencari-perfume-yang-sesuai-dengan-personaliti-kamu/\n",
      "'NoneType' object has no attribute 'text'\n"
     ]
    },
    {
     "name": "stderr",
     "output_type": "stream",
     "text": [
      " 88%|██████████████████████████████████████████████████████████████████████████████████████████████▋             | 6603/7532 [1:00:57<07:30,  2.06it/s]"
     ]
    },
    {
     "name": "stdout",
     "output_type": "stream",
     "text": [
      "(\"Connection broken: InvalidChunkLength(got length b'', 0 bytes read)\", InvalidChunkLength(got length b'', 0 bytes read))\n"
     ]
    },
    {
     "name": "stderr",
     "output_type": "stream",
     "text": [
      " 90%|████████████████████████████████████████████████████████████████████████████████████████████████▊           | 6752/7532 [1:02:21<07:42,  1.69it/s]"
     ]
    },
    {
     "name": "stdout",
     "output_type": "stream",
     "text": [
      "error in link:https://www.maskulin.com.my/tip-minum-air-putih-sehari-8-gelas-sepanjang-bulan-ramadan-agar-badan-lebih-sihat/\n",
      "'NoneType' object has no attribute 'text'\n"
     ]
    },
    {
     "name": "stderr",
     "output_type": "stream",
     "text": [
      "100%|████████████████████████████████████████████████████████████████████████████████████████████████████████████| 7532/7532 [1:09:19<00:00,  1.81it/s]\n"
     ]
    }
   ],
   "source": [
    "max_workers = 10\n",
    "\n",
    "with ThreadPoolExecutor(max_workers=max_workers) as executor:\n",
    "    futures = [executor.submit(process_url, x) for x in hrefs]\n",
    "    \n",
    "    for future in tqdm(futures, total=len(hrefs)):\n",
    "        result = future.result()\n",
    "        if result:\n",
    "            with open('maskulin.jsonl', 'a',encoding='utf8') as f:\n",
    "                json.dump(result, f,ensure_ascii=False)\n",
    "                f.write('\\n')"
   ]
  },
  {
   "cell_type": "code",
   "execution_count": null,
   "id": "e5528a75",
   "metadata": {},
   "outputs": [],
   "source": []
  }
 ],
 "metadata": {
  "kernelspec": {
   "display_name": "Python 3 (ipykernel)",
   "language": "python",
   "name": "python3"
  },
  "language_info": {
   "codemirror_mode": {
    "name": "ipython",
    "version": 3
   },
   "file_extension": ".py",
   "mimetype": "text/x-python",
   "name": "python",
   "nbconvert_exporter": "python",
   "pygments_lexer": "ipython3",
   "version": "3.8.10"
  }
 },
 "nbformat": 4,
 "nbformat_minor": 5
}
