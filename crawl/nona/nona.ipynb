{
 "cells": [
  {
   "cell_type": "code",
   "execution_count": 1,
   "id": "b2823ccc",
   "metadata": {},
   "outputs": [],
   "source": [
    "from bs4 import BeautifulSoup\n",
    "import pandas as pd\n",
    "import json\n",
    "import requests\n",
    "from urllib.request import urlopen\n",
    "import urllib.request\n",
    "from datetime import datetime\n",
    "from tqdm import tqdm\n",
    "import time\n",
    "import numpy as np\n",
    "from concurrent.futures import ThreadPoolExecutor, as_completed"
   ]
  },
  {
   "cell_type": "code",
   "execution_count": 2,
   "id": "a793a90e",
   "metadata": {},
   "outputs": [],
   "source": [
    "categories = [\"8\",\"3\",\"4\",\"5\",\"6\",\"7\"]\n",
    "\n",
    "hrefs = []"
   ]
  },
  {
   "cell_type": "code",
   "execution_count": 3,
   "id": "7b0e3bd3",
   "metadata": {},
   "outputs": [],
   "source": [
    "import requests\n",
    "\n",
    "cookies = {\n",
    "    '_gcl_au': '1.1.788630558.1688209701',\n",
    "    'AMCVS_43D8021954C26BE10A4C98A5%40AdobeOrg': '1',\n",
    "    '_cc_id': '3eda540b1733bbf97d5a84667177a178',\n",
    "    'izootoWpConfig': '%7B%22b_type%22:7,%22d_type%22:1,%22evt_trk%22:1,%22izooto_uid%22:%22fed331f1-11ca-4fda-8110-e2fad83d0276%22%7D',\n",
    "    'quform_session_930d7b66e6af3073f228308517229ffe': 'G7XMaWiSCqhR7xkxxd6bKBz25pYl6CnCgjz7Ti5w',\n",
    "    '_gid': 'GA1.2.1339924846.1689839347',\n",
    "    'AMCV_43D8021954C26BE10A4C98A5%40AdobeOrg': '-1124106680%7CMCIDTS%7C19559%7CMCMID%7C13290448652716702361633700185082380886%7CMCAAMLH-1690444146%7C3%7CMCAAMB-1690444146%7C6G1ynYcLPuiQxYZrsz_pkqfLG9yMXBpb2zX5dvJdYQJzPXImdj0y%7CMCOPTOUT-1689846546s%7CNONE%7CMCSYNCS%7C1083-19566*1085-19566*1086-19566*1087-19566*1088-19566*19913-19566*83349-19566%7CMCSYNCSOP%7C411-19566%7CvVersion%7C5.2.0',\n",
    "    'panoramaId_expiry': '1689925746951',\n",
    "    'panoramaId': '24aa7eb4ab23dee1ace84787366ea9fb927af0baabde5e68c1e8fb79cc4932a0',\n",
    "    'panoramaIdType': 'panoDevice',\n",
    "    '_ga_FGBMFWFRDL': 'GS1.1.1689905835.10.1.1689905836.0.0.0',\n",
    "    '_ga_WH3KRB01J4': 'GS1.1.1689905835.10.1.1689905836.0.0.0',\n",
    "    '_ga': 'GA1.2.180221337.1688209701',\n",
    "    '_dc_gtm_UA-15820110-1': '1',\n",
    "    '_gat_UA-20278225-97': '1',\n",
    "    '_ga_J28PQB9K18': 'GS1.2.1689905836.7.0.1689905836.60.0.0',\n",
    "    'FCNEC': '%5B%5B%22AKsRol-9SptEIXYVvAMtjjJT48F8ynNR37V6iLz_wAKFKgT3PSRtH9x943Lc7Z7nxAsjlUtvkwFxaX5r5C69sKQVCpn0L_FBuzK1TX-A06lFtMFB20E_jvSgBsr3oOXUNVRfVvElh1RILINFqJbbaQgpA0sF1hU5gw%3D%3D%22%5D%2Cnull%2C%5B%5D%5D',\n",
    "}\n",
    "\n",
    "headers = {\n",
    "    'authority': 'www.nona.my',\n",
    "    'accept': '*/*',\n",
    "    'accept-language': 'en-US,en;q=0.9',\n",
    "    'content-type': 'application/x-www-form-urlencoded; charset=UTF-8',\n",
    "    # 'cookie': '_gcl_au=1.1.788630558.1688209701; AMCVS_43D8021954C26BE10A4C98A5%40AdobeOrg=1; _cc_id=3eda540b1733bbf97d5a84667177a178; izootoWpConfig=%7B%22b_type%22:7,%22d_type%22:1,%22evt_trk%22:1,%22izooto_uid%22:%22fed331f1-11ca-4fda-8110-e2fad83d0276%22%7D; quform_session_930d7b66e6af3073f228308517229ffe=G7XMaWiSCqhR7xkxxd6bKBz25pYl6CnCgjz7Ti5w; _gid=GA1.2.1339924846.1689839347; AMCV_43D8021954C26BE10A4C98A5%40AdobeOrg=-1124106680%7CMCIDTS%7C19559%7CMCMID%7C13290448652716702361633700185082380886%7CMCAAMLH-1690444146%7C3%7CMCAAMB-1690444146%7C6G1ynYcLPuiQxYZrsz_pkqfLG9yMXBpb2zX5dvJdYQJzPXImdj0y%7CMCOPTOUT-1689846546s%7CNONE%7CMCSYNCS%7C1083-19566*1085-19566*1086-19566*1087-19566*1088-19566*19913-19566*83349-19566%7CMCSYNCSOP%7C411-19566%7CvVersion%7C5.2.0; panoramaId_expiry=1689925746951; panoramaId=24aa7eb4ab23dee1ace84787366ea9fb927af0baabde5e68c1e8fb79cc4932a0; panoramaIdType=panoDevice; _ga_FGBMFWFRDL=GS1.1.1689905835.10.1.1689905836.0.0.0; _ga_WH3KRB01J4=GS1.1.1689905835.10.1.1689905836.0.0.0; _ga=GA1.2.180221337.1688209701; _dc_gtm_UA-15820110-1=1; _gat_UA-20278225-97=1; _ga_J28PQB9K18=GS1.2.1689905836.7.0.1689905836.60.0.0; FCNEC=%5B%5B%22AKsRol-9SptEIXYVvAMtjjJT48F8ynNR37V6iLz_wAKFKgT3PSRtH9x943Lc7Z7nxAsjlUtvkwFxaX5r5C69sKQVCpn0L_FBuzK1TX-A06lFtMFB20E_jvSgBsr3oOXUNVRfVvElh1RILINFqJbbaQgpA0sF1hU5gw%3D%3D%22%5D%2Cnull%2C%5B%5D%5D',\n",
    "    'origin': 'https://www.nona.my',\n",
    "    'sec-ch-ua': '\"Not.A/Brand\";v=\"8\", \"Chromium\";v=\"114\", \"Microsoft Edge\";v=\"114\"',\n",
    "    'sec-ch-ua-mobile': '?0',\n",
    "    'sec-ch-ua-platform': '\"macOS\"',\n",
    "    'sec-fetch-dest': 'empty',\n",
    "    'sec-fetch-mode': 'cors',\n",
    "    'sec-fetch-site': 'same-origin',\n",
    "    'user-agent': 'Mozilla/5.0 (Macintosh; Intel Mac OS X 10_15_7) AppleWebKit/537.36 (KHTML, like Gecko) Chrome/114.0.0.0 Safari/537.36 Edg/114.0.1823.82',\n",
    "    'x-auth-token': 'NTI3MTU5NTA0NDI5MDA3MDcyMDIzMDM4MzU2MzY0ODM=',\n",
    "    'x-requested-with': 'XMLHttpRequest',\n",
    "}\n",
    "\n",
    "params = {\n",
    "    'td_theme_name': 'Newspaper',\n",
    "    'v': '12.4',\n",
    "}\n"
   ]
  },
  {
   "cell_type": "code",
   "execution_count": 5,
   "id": "f315ad24",
   "metadata": {},
   "outputs": [],
   "source": [
    "def crawl(url,category):\n",
    "    \n",
    "        \n",
    "    data = {\n",
    "    'action': 'td_ajax_loop',\n",
    "    'loopState[sidebarPosition]': '',\n",
    "    'loopState[moduleId]': '1',\n",
    "    'loopState[currentPage]': f'{url}',\n",
    "    'loopState[atts][category_id]': f'{category}',\n",
    "    'loopState[ajax_pagination_infinite_stop]': '3',\n",
    "    'loopState[server_reply_html_data]': '',\n",
    "    }\n",
    "    \n",
    "    while True:\n",
    "        try:\n",
    "            response = requests.post('https://www.nona.my/wp-admin/admin-ajax.php', params=params, cookies=cookies, headers=headers, data=data)\n",
    "            if response.status_code == 508:\n",
    "                print(r.status_code)\n",
    "                print('error in link, retrying... ', url)\n",
    "                time.sleep(20)\n",
    "                continue\n",
    "            break\n",
    "        except Exception as e:\n",
    "            print(e)\n",
    "            time.sleep(1.0)\n",
    "    \n",
    "    try:\n",
    "        r = response.json()\n",
    "    except:\n",
    "        return\n",
    "    \n",
    "    \n",
    "    soup = BeautifulSoup(r['server_reply_html_data'], \"lxml\")\n",
    "    \n",
    "    block = soup.find_all(\"h3\",attrs = {\"class\":\"entry-title td-module-title\"})\n",
    "    \n",
    "    if block is None:\n",
    "        return\n",
    "\n",
    "    for link in soup.find_all(\"h3\",attrs = {\"class\":\"entry-title td-module-title\"}):\n",
    "\n",
    "        href = link.find('a').get('href')\n",
    "\n",
    "        hrefs.append(href)\n",
    "    "
   ]
  },
  {
   "cell_type": "code",
   "execution_count": 7,
   "id": "3184367c",
   "metadata": {
    "scrolled": true
   },
   "outputs": [
    {
     "name": "stderr",
     "output_type": "stream",
     "text": [
      "100%|██████████████████████████████████████████████████████| 86/86 [03:04<00:00,  2.14s/it]\n",
      "100%|████████████████████████████████████████████████████| 116/116 [03:06<00:00,  1.61s/it]\n",
      "100%|██████████████████████████████████████████████████████| 59/59 [01:53<00:00,  1.93s/it]\n",
      "100%|██████████████████████████████████████████████████████| 29/29 [00:49<00:00,  1.71s/it]\n",
      "100%|██████████████████████████████████████████████████████| 97/97 [03:34<00:00,  2.22s/it]\n",
      "100%|██████████████████████████████████████████████████████| 10/10 [00:18<00:00,  1.88s/it]\n"
     ]
    }
   ],
   "source": [
    "max_worker = 5\n",
    "hrefs = []\n",
    "\n",
    "for index, c in enumerate(categories):\n",
    "    max_pages = ['429', '578', '295', '141', '484', '48']\n",
    "    max_page = int(max_pages[index])\n",
    "    \n",
    "    for i in tqdm(range(1, max_page + 1, max_worker)):\n",
    "        aranged = np.arange(i, min(i + max_worker, max_page + 1))  # Fix range issue\n",
    "        urls = [str(a) for a in aranged]  # Use the correct range of pages\n",
    "        \n",
    "        with ThreadPoolExecutor(max_workers=max_worker) as executor:\n",
    "            futures = {executor.submit(crawl, url, c): url for url in urls}\n",
    "            \n",
    "        for future in as_completed(futures):\n",
    "            future.result()"
   ]
  },
  {
   "cell_type": "code",
   "execution_count": 5,
   "id": "b0dd69c1",
   "metadata": {},
   "outputs": [
    {
     "data": {
      "text/plain": [
       "9669"
      ]
     },
     "execution_count": 5,
     "metadata": {},
     "output_type": "execute_result"
    }
   ],
   "source": [
    "len(hrefs)"
   ]
  },
  {
   "cell_type": "code",
   "execution_count": 9,
   "id": "acdd0004",
   "metadata": {},
   "outputs": [],
   "source": [
    "hrefs = list(set(hrefs))"
   ]
  },
  {
   "cell_type": "code",
   "execution_count": 11,
   "id": "ecd2a622",
   "metadata": {},
   "outputs": [],
   "source": [
    "with open('nona-link.json', 'a') as f:\n",
    "    json.dump(hrefs, f)"
   ]
  },
  {
   "cell_type": "code",
   "execution_count": 4,
   "id": "6a6cd382",
   "metadata": {},
   "outputs": [],
   "source": [
    "with open('nona-link.json') as f:\n",
    "    hrefs = json.load(f)"
   ]
  },
  {
   "cell_type": "code",
   "execution_count": 7,
   "id": "deb3e1a7",
   "metadata": {},
   "outputs": [],
   "source": [
    "def process_url(x):\n",
    "    headers = {'User-Agent': 'Mozilla/5.0 (Windows NT 6.1; WOW64) AppleWebKit/537.36 (KHTML, like Gecko) Chrome/56.0.2924.76 Safari/537.36'} # This is chrome, you can set whatever browser you like\n",
    "\n",
    "    \n",
    "    while True:\n",
    "        try:\n",
    "            r = requests.get(x, headers=headers)\n",
    "            break\n",
    "        except Exception as e:\n",
    "            print(e)\n",
    "            time.sleep(5.0)\n",
    "    \n",
    "    soup = BeautifulSoup(r.text, \"lxml\")\n",
    "\n",
    "    try:\n",
    "        headline = soup.find('h1', class_=\"entry-title\").text\n",
    "        h = soup.find('div', attrs = {\"class\":\"td-ss-main-content\"})\n",
    "        p = [p.text for p in h.find_all(\"p\") if len(p.text) > 3 and not p.find('a', href=True)]\n",
    "    except Exception as e:\n",
    "        print('error in link:'+ x)\n",
    "        print(e)\n",
    "        return None\n",
    "    \n",
    "    time.sleep(4)\n",
    "\n",
    "    \n",
    "    data = {'url': x, 'headline': headline, 'content': p}\n",
    "    return data"
   ]
  },
  {
   "cell_type": "code",
   "execution_count": 8,
   "id": "0186bc8c",
   "metadata": {},
   "outputs": [
    {
     "name": "stderr",
     "output_type": "stream",
     "text": [
      "  7%|████                                                     | 687/9669 [09:39<1:50:45,  1.35it/s]"
     ]
    },
    {
     "name": "stdout",
     "output_type": "stream",
     "text": [
      "error in link:https://www.nona.my/bergelar-datin-di-usia-22-tahun-isteri-datuk-dr-azril-tetap-merendah-diri/\n",
      "'NoneType' object has no attribute 'text'\n"
     ]
    },
    {
     "name": "stderr",
     "output_type": "stream",
     "text": [
      " 17%|█████████▋                                              | 1670/9669 [58:58<5:02:49,  2.27s/it]"
     ]
    },
    {
     "name": "stdout",
     "output_type": "stream",
     "text": [
      "error in link:https://www.nona.my/tak-layan-gim-tapi-rajin-menari-kuat-berpeluh-ini-rahsia-kecantikan-nora-fatehi-tiada-diet-saya-makan-apa-saja/\n",
      "'NoneType' object has no attribute 'text'\n"
     ]
    },
    {
     "name": "stderr",
     "output_type": "stream",
     "text": [
      " 33%|█████████████████▊                                    | 3180/9669 [2:01:44<3:42:08,  2.05s/it]"
     ]
    },
    {
     "name": "stdout",
     "output_type": "stream",
     "text": [
      "error in link:https://www.nona.my/disahkan-positif-virus-covid-19-kini-pink-sembuh-daripada-wabak-merbahaya-tersebut/\n",
      "'NoneType' object has no attribute 'text'\n"
     ]
    },
    {
     "name": "stderr",
     "output_type": "stream",
     "text": [
      " 37%|████████████████████                                  | 3590/9669 [2:17:34<2:33:49,  1.52s/it]"
     ]
    },
    {
     "name": "stdout",
     "output_type": "stream",
     "text": [
      "error in link:https://www.nona.my/jenis-jenis-keguguran-yang-kaum-ibu-mesti-tahu-tengok-no-5-tu-paling-bahaya/\n",
      "'NoneType' object has no attribute 'text'\n"
     ]
    },
    {
     "name": "stderr",
     "output_type": "stream",
     "text": [
      " 47%|█████████████████████████▎                            | 4522/9669 [2:51:42<2:48:12,  1.96s/it]"
     ]
    },
    {
     "name": "stdout",
     "output_type": "stream",
     "text": [
      "error in link:https://www.nona.my/5-tahun-menanti-zuriat-yna-sakinah-berjaya-hamil-walaupun-disahkan-rahim-terbalik/\n",
      "'NoneType' object has no attribute 'text'\n"
     ]
    },
    {
     "name": "stderr",
     "output_type": "stream",
     "text": [
      " 73%|███████████████████████████████████████▏              | 7022/9669 [4:06:10<1:13:39,  1.67s/it]"
     ]
    },
    {
     "name": "stdout",
     "output_type": "stream",
     "text": [
      "error in link:https://www.nona.my/umur-50-pun-datin-seri-maria-farida-maintain-langsing-cantik-walau-hari-hari-makan-nasi/\n",
      "'NoneType' object has no attribute 'text'\n"
     ]
    },
    {
     "name": "stderr",
     "output_type": "stream",
     "text": [
      "100%|████████████████████████████████████████████████████████| 9669/9669 [5:46:29<00:00,  2.15s/it]\n"
     ]
    }
   ],
   "source": [
    "max_workers = 5\n",
    "\n",
    "with ThreadPoolExecutor(max_workers=max_workers) as executor:\n",
    "    futures = [executor.submit(process_url, x) for x in hrefs]\n",
    "    \n",
    "    for future in tqdm(futures, total=len(hrefs)):\n",
    "        result = future.result()\n",
    "        if result:\n",
    "            with open('nona-3.jsonl', 'a',encoding='utf8') as f:\n",
    "                json.dump(result, f,ensure_ascii=False)\n",
    "                f.write('\\n')"
   ]
  },
  {
   "cell_type": "code",
   "execution_count": null,
   "id": "e5528a75",
   "metadata": {},
   "outputs": [],
   "source": []
  }
 ],
 "metadata": {
  "kernelspec": {
   "display_name": "Python 3 (ipykernel)",
   "language": "python",
   "name": "python3"
  },
  "language_info": {
   "codemirror_mode": {
    "name": "ipython",
    "version": 3
   },
   "file_extension": ".py",
   "mimetype": "text/x-python",
   "name": "python",
   "nbconvert_exporter": "python",
   "pygments_lexer": "ipython3",
   "version": "3.8.10"
  }
 },
 "nbformat": 4,
 "nbformat_minor": 5
}
