{
 "cells": [
  {
   "cell_type": "code",
   "execution_count": 1,
   "metadata": {},
   "outputs": [],
   "source": [
    "import requests\n",
    "from bs4 import BeautifulSoup\n",
    "from tqdm import tqdm\n",
    "import os\n",
    "import json\n",
    "import numpy as np\n",
    "import time\n",
    "import random\n",
    "import json\n",
    "from concurrent.futures import ThreadPoolExecutor, as_completed"
   ]
  },
  {
   "cell_type": "code",
   "execution_count": 13,
   "metadata": {},
   "outputs": [
    {
     "data": {
      "text/plain": [
       "48"
      ]
     },
     "execution_count": 13,
     "metadata": {},
     "output_type": "execute_result"
    }
   ],
   "source": [
    "from glob import glob\n",
    "\n",
    "files = sorted(glob('url/*.json'))\n",
    "urls = []\n",
    "for f in files:\n",
    "    with open(f) as fopen:\n",
    "        data = json.load(fopen)\n",
    "        soup = BeautifulSoup(data['td_data'], \"lxml\")\n",
    "        a = soup.find_all('a', {'rel':\"bookmark\"})\n",
    "        a = list(set([a_.get('href') for a_ in a]))\n",
    "        urls.extend(a)\n",
    "#         urls.extend()\n",
    "urls = sorted(list(set(urls)))\n",
    "len(urls)"
   ]
  },
  {
   "cell_type": "code",
   "execution_count": 14,
   "metadata": {},
   "outputs": [
    {
     "data": {
      "text/plain": [
       "['https://techlagi.my/10-fakta-menarik-tentang-penjelajah-marikh-opportunity/',\n",
       " 'https://techlagi.my/4-dash-cam-70mai-terbaik-dan-berbaloi-untuk-dimiliki/',\n",
       " 'https://techlagi.my/5-perkara-menarik-tentang-ipad-mini-6-2021/',\n",
       " 'https://techlagi.my/acer-malaysia-sedia-bantu-membaiki-komputer-kepada-semua-mangsa-banjir/',\n",
       " 'https://techlagi.my/acer-umumkan-siri-laptop-swift-baharu-lebih-berkuasa-premium-dan-ringan/',\n",
       " 'https://techlagi.my/airpods-3-dilancarkan-dengan-rekaan-airpods-pro-tanpa-anc/',\n",
       " 'https://techlagi.my/apple-beri-sumbangan-kepada-mangsa-bencana-di-malaysia-dan-filipina/',\n",
       " 'https://techlagi.my/apple-event-9-mac-ini-apa-yang-kita-boleh-jangka/',\n",
       " 'https://techlagi.my/apple-tawar-airpods-percuma-untuk-pelajar-dengan-pembelian-mac-dan-ipad-ini-caranya/',\n",
       " 'https://techlagi.my/asus-turut-bantu-mangsa-banjir-dengan-tawaran-pemeriksaan-secara-percuma/',\n",
       " 'https://techlagi.my/cara-ubah-bunyi-notifikasi-windows-10/',\n",
       " 'https://techlagi.my/farizon-auto-menampilkan-trak-elektrik-homtruck-bakal-dijual-2024/',\n",
       " 'https://techlagi.my/huawei-p50-pocket-dilancarkan-skrin-boleh-lipat-snapdragon-888-4g-dan-tri-kamera/',\n",
       " 'https://techlagi.my/hyundai-beri-nafas-baru-kepada-grandeur-klasik-di-luar-tapi-canggih-di-dalam/',\n",
       " 'https://techlagi.my/hyundai-kona-electric-dilancarkan-di-malaysia-harga-bermula-rm150k/',\n",
       " 'https://techlagi.my/iphone-14-mungkin-hadir-tanpa-takuk-dengan-kamera-hadapan-berbentuk-pil/',\n",
       " 'https://techlagi.my/iphone-14-pro-dikatakan-hadir-dengan-kamera-berbentuk-pil-dan-tebuk-menurut-lukisan-skematik/',\n",
       " 'https://techlagi.my/iphone-se-2022-dilancarkan-5-perkara-yang-perlu-anda-tahu/',\n",
       " 'https://techlagi.my/kabel-iphone-rosak-lagi-cuba-beli-jenama-ini/',\n",
       " 'https://techlagi.my/kembara-5g-tech-lagi-di-malaysia-berdesup-perginya/',\n",
       " 'https://techlagi.my/komputer-riba-diperbuat-daripada-bahan-kitar-semula-acer-aspire-vero-dilancarkan/',\n",
       " 'https://techlagi.my/kuasa-hibrid-baharu-geely-melalui-leishen-power/',\n",
       " 'https://techlagi.my/pelancaran-oneplus-10-pro-disahkan-pada-januari-2022-menurut-pete-lau/',\n",
       " 'https://techlagi.my/pengguna-apple-dibenarkan-untuk-beli-alat-ganti-tulen-melalui-self-service-repair-kelak/',\n",
       " 'https://techlagi.my/pengguna-yoodo-kini-boleh-menikmati-volte/',\n",
       " 'https://techlagi.my/poco-x4-pro-5g-kini-rasmi-di-malaysia-apa-yang-perlu-anda-tahu/',\n",
       " 'https://techlagi.my/pra-tempah-acer-aspire-vero-national-geographic-bermula-mei-dengan-harga-rm4299/',\n",
       " 'https://techlagi.my/promosi-penulen-udara-acerpure-c2-dan-p2/',\n",
       " 'https://techlagi.my/rekaan-dan-spesifikasi-realme-gt2-pro-diperlihat/',\n",
       " 'https://techlagi.my/samsung-galaxy-s22-dan-s22-rekaan-ikonik-dengan-beberapa-penambahbaikan/',\n",
       " 'https://techlagi.my/samsung-s21-fe-5g-dilancarkan-exynos-2100-tri-kamera-4500-mah/',\n",
       " 'https://techlagi.my/samsung-s22-ultra-dilancarkan-apa-yang-menarik/',\n",
       " 'https://techlagi.my/samsung-tawar-bantuan-pembersihan-secara-percuma-dan-pemeriksaan-peranti-kepada-mangsa-banjir/',\n",
       " 'https://techlagi.my/siri-chromebook-dilancarkan-oleh-acer-untuk-pelbagai-kegunaan/',\n",
       " 'https://techlagi.my/siri-oppo-reno7-dilancarkan-di-china-dimensity-1200-max-skrin-90hz-rekaan-sisi-rata/',\n",
       " 'https://techlagi.my/siri-redmi-note-11-kini-rasmi-di-malaysia-harganya-menarik-habis/',\n",
       " 'https://techlagi.my/sony-xperia-1-iii-peranti-premium-di-jalan-yang-sepi/',\n",
       " 'https://techlagi.my/subaru-solterra-ev-pertama-subaru/',\n",
       " 'https://techlagi.my/teknologi-tokyo-2020/',\n",
       " 'https://techlagi.my/tips-beli-iphone-terpakai-secondhand-used/',\n",
       " 'https://techlagi.my/twitter-blue-lancarkan-fitur-nft-sebagai-gambar-profil-di-ios/',\n",
       " 'https://techlagi.my/ulasan-aopen-27hc5rp-monitor-gaming-murah-dan-padu/',\n",
       " 'https://techlagi.my/ulasan-illegear-raven-se-komputer-riba-jenama-tempatan-yang-kian-menyerlah/',\n",
       " 'https://techlagi.my/ulasan-xiaomi-mi-airdots-fon-telinga-nirwayar-yang-popular-dan-mampu-milik/',\n",
       " 'https://techlagi.my/ulasan-xiaomi-smart-air-purifier-4-kenapa-ia-berbaloi-untuk-dimiliki/',\n",
       " 'https://techlagi.my/xiaomi-sumbang-rm418150-kepada-mangsa-banjir-melalui-yayasan-foodbank-malaysia/',\n",
       " 'https://techlagi.my/xmowi-r1-fon-telinga-bajet-terbaharu-dari-plextone/',\n",
       " 'https://techlagi.my/yes-tawarkan-kad-sim-5g-secara-percuma-sehingga-14-febuari/']"
      ]
     },
     "execution_count": 14,
     "metadata": {},
     "output_type": "execute_result"
    }
   ],
   "source": [
    "urls"
   ]
  },
  {
   "cell_type": "code",
   "execution_count": 15,
   "metadata": {},
   "outputs": [],
   "source": [
    "r = requests.get(urls[0])\n",
    "soup = BeautifulSoup(r.content, \"lxml\")"
   ]
  },
  {
   "cell_type": "code",
   "execution_count": 17,
   "metadata": {},
   "outputs": [
    {
     "data": {
      "text/plain": [
       "'10 Fakta Menarik Tentang Penjelajah Marikh, Opportunity'"
      ]
     },
     "execution_count": 17,
     "metadata": {},
     "output_type": "execute_result"
    }
   ],
   "source": [
    "soup.find('h1').text"
   ]
  },
  {
   "cell_type": "code",
   "execution_count": 24,
   "metadata": {},
   "outputs": [
    {
     "data": {
      "text/plain": [
       "['',\n",
       " '',\n",
       " '',\n",
       " '',\n",
       " '10 Fakta Menarik Tentang Penjelajah Marikh, Opportunity',\n",
       " '17 February 2019',\n",
       " '\\nPada 13 Febuari yang lalu, kita telah kehilangan sebuah penjelajah berani bernama Opportunity, sebuah robot penjelajah yang ditugaskan untuk menjelajah planet Marikh. Dalam percubaan untuk mengejutkan Opportunity, NASA telah menghantar senarai lagu bagi mengejutkannya selepas terperangkap dalam ribut. Baca artikel ini sambil dengar playlist di bawah untuk menghayati kisah penjelajah berani ini.\\n\\n\\nSenarai lagu yang dimainkan oleh NASA untuk Oppy dari space.com\\n10 Fakta Menarik Tentang Robot ini:\\nRobot ini diberi nama Opportunity, atau nama samarannya, ‘Oppy‘. Robot ini dilancarkan ke angkasa pada 7 Julai 2003 dan mendarat di Marikh pada 25 Jan 2004.\\n\\nOpportunity juga mempunyai sebuah abang kembar bernama Spirit, yang mendarat di Marikh tiga minggu lebih awal daripada Opportunity. Spirit terputus hubungan pada 22 Mac 2010.NASA menjangkakan Opportunity hanya dapat hidup selama 90 hari, namun penjelajah kental ini berjaya berkhidmat selama 14 tahun 46 hari.Antara gambar pertama yang dihantar oleh Opportunity kepada NASA ialah pada 26 Julai 2004. Gambar yang ditangkap menggunakan kamera hadapan itu menunjukkan bayang-bayang Opportunity yang sedang bergerak menuju Kawah Endurance.\\n\\nOpportunity merupakan robot penjelajah yang telah bergerak sepanjang 45.16km, jarak yang paling panjang yang pernah dilalui oleh mana-mana robot penjelajah di Marikh atau Bulan.\\nGambar: MARS.NASA.GOV\\nAntara pencapaian terbaik Opportunity sepanjang hayatnya ialah ia menemukan bahan yang berupa seperti cecair di Kawah Endeavour yang menandakan kehidupan mungkin boleh hidup di Marikh.\\n\\nOpportunity hidup menggunakan tenaga solar. Robot ini mampu untuk berhibernasi semasa ribut Marikh melanda untuk menjimatkan kuasa.Opportunity telah menghadapi pelbagai kerosakan sepanjang hayatnya. Antaranya, kerosakan pada bahagian tayar, memori dan banyak lagi. Namun, robot ini masih mampu untuk terus berkhidmat.Pada tahun 2018, ribut besar yang melanda telah menyebabkan Opportunity terputus hubungan dengan Bumi. Pelbagai usaha dilakukan untuk mengejutkan robot ini, termasuklah menghantar lagu. Lagu terakhir yang dihantar ialah “I’ll Be Seeing You” nyanyian Billie Holiday.\\n\\nIni merupakan gambar terakhir yang dihantar oleh Opportunity pada 10 Jun, semasa robot ini tenggelam di bawah habuk pasir daripada ribut yang melanda pada tahun 2018. Mesej terakhir dari Opportunity ialah “My battery is low and it’s getting dark…”.\\n\\n\\nTerima kasih, Oppy. Berehatkan dengan tenang.\\n  Apa korang rasa?   +1   0   +1   0   +1   0   +1   0   +1   0        ',\n",
       " 'Sumber :space.com',\n",
       " 'Tag :Angkasa LepasMarikhOpportunity',\n",
       " 'Amirul HakeemTertarik dengan jargon berkaitan teknologi seperti megapiksel, gigahertz & AMOLED. Meminati semua jenis teknologi daripada telefon pintar, peti sejuk pintar dan seangkatan dengannya. Merupakan kipas susah mati kumpulan K-Pop, TWICE.',\n",
       " '',\n",
       " 'Carian',\n",
       " 'Artikel seterusnyaUlasan Xiaomi Mi AirDots – Fon Telinga Nirwayar Yang Popular Dan Mampu Milik']"
      ]
     },
     "execution_count": 24,
     "metadata": {},
     "output_type": "execute_result"
    }
   ],
   "source": [
    "div = soup.find_all('div', {'class':\"tdb-block-inner td-fix-index\"})\n",
    "div = [div_.text for div_ in div]\n",
    "div"
   ]
  },
  {
   "cell_type": "code",
   "execution_count": 26,
   "metadata": {},
   "outputs": [
    {
     "name": "stderr",
     "output_type": "stream",
     "text": [
      "100%|███████████████████████████████████████████| 48/48 [01:11<00:00,  1.49s/it]\n"
     ]
    }
   ],
   "source": [
    "with open('data.jsonl', 'w') as fopen:\n",
    "    for url in tqdm(urls):\n",
    "        r = requests.get(url)\n",
    "        soup = BeautifulSoup(r.content, \"lxml\")\n",
    "        title = soup.find('h1').text\n",
    "        div = soup.find_all('div', {'class':\"tdb-block-inner td-fix-index\"})\n",
    "        div = [div_.text for div_ in div]\n",
    "        \n",
    "        data = {\n",
    "            'url': url,\n",
    "            'title': title,\n",
    "            'div': div,\n",
    "        }\n",
    "        \n",
    "        fopen.write(f'{json.dumps(data)}\\n')"
   ]
  },
  {
   "cell_type": "code",
   "execution_count": null,
   "metadata": {},
   "outputs": [],
   "source": []
  }
 ],
 "metadata": {
  "kernelspec": {
   "display_name": "Python 3 (ipykernel)",
   "language": "python",
   "name": "python3"
  },
  "language_info": {
   "codemirror_mode": {
    "name": "ipython",
    "version": 3
   },
   "file_extension": ".py",
   "mimetype": "text/x-python",
   "name": "python",
   "nbconvert_exporter": "python",
   "pygments_lexer": "ipython3",
   "version": "3.8.10"
  }
 },
 "nbformat": 4,
 "nbformat_minor": 4
}
