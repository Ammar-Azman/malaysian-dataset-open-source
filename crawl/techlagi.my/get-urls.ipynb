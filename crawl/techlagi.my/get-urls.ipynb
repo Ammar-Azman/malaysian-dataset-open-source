{
 "cells": [
  {
   "cell_type": "code",
   "execution_count": 1,
   "metadata": {},
   "outputs": [],
   "source": [
    "import requests\n",
    "from bs4 import BeautifulSoup\n",
    "from tqdm import tqdm\n",
    "import os\n",
    "import json\n",
    "import numpy as np\n",
    "import time\n",
    "import random\n",
    "import json\n",
    "from concurrent.futures import ThreadPoolExecutor, as_completed"
   ]
  },
  {
   "cell_type": "code",
   "execution_count": 7,
   "metadata": {},
   "outputs": [],
   "source": [
    "import requests\n",
    "\n",
    "cookies = {\n",
    "    '_gid': 'GA1.2.2003139681.1689523942',\n",
    "    '_gat_gtag_UA_214139339_1': '1',\n",
    "    '_ga': 'GA1.1.920740585.1689523941',\n",
    "    '_ga_MWX6C7760R': 'GS1.1.1689523941.1.1.1689524472.0.0.0',\n",
    "    '_ga_DRXGSC72T0': 'GS1.1.1689523942.1.1.1689524472.0.0.0',\n",
    "    '_ga_R033C47QF1': 'GS1.1.1689523942.1.1.1689524472.0.0.0',\n",
    "}\n",
    "\n",
    "headers = {\n",
    "    'authority': 'techlagi.my',\n",
    "    'accept': '*/*',\n",
    "    'accept-language': 'en-MY,en;q=0.9,en-US;q=0.8,ms;q=0.7',\n",
    "    'cache-control': 'no-cache',\n",
    "    'content-type': 'application/x-www-form-urlencoded; charset=UTF-8',\n",
    "    # 'cookie': '_gid=GA1.2.2003139681.1689523942; _gat_gtag_UA_214139339_1=1; _ga=GA1.1.920740585.1689523941; _ga_MWX6C7760R=GS1.1.1689523941.1.1.1689524472.0.0.0; _ga_DRXGSC72T0=GS1.1.1689523942.1.1.1689524472.0.0.0; _ga_R033C47QF1=GS1.1.1689523942.1.1.1689524472.0.0.0',\n",
    "    'origin': 'https://techlagi.my',\n",
    "    'pragma': 'no-cache',\n",
    "    'referer': 'https://techlagi.my/berita/',\n",
    "    'sec-ch-ua': '\"Not.A/Brand\";v=\"8\", \"Chromium\";v=\"114\", \"Google Chrome\";v=\"114\"',\n",
    "    'sec-ch-ua-mobile': '?0',\n",
    "    'sec-ch-ua-platform': '\"macOS\"',\n",
    "    'sec-fetch-dest': 'empty',\n",
    "    'sec-fetch-mode': 'cors',\n",
    "    'sec-fetch-site': 'same-origin',\n",
    "    'user-agent': 'Mozilla/5.0 (Macintosh; Intel Mac OS X 10_15_7) AppleWebKit/537.36 (KHTML, like Gecko) Chrome/114.0.0.0 Safari/537.36',\n",
    "    'x-requested-with': 'XMLHttpRequest',\n",
    "}\n",
    "\n",
    "params = {\n",
    "    'td_theme_name': 'Newspaper',\n",
    "    'v': '12.4',\n",
    "}\n",
    "\n",
    "data = {\n",
    "    'action': 'td_ajax_block',\n",
    "    'td_atts': '{\"modules_on_row\":\"\",\"hide_audio\":\"yes\",\"category_id\":\"24\",\"ajax_pagination\":\"next_prev\",\"container_width\":\"eyJhbGwiOiIxMDUiLCJwaG9uZSI6IjExMSJ9\",\"all_modules_space\":\"eyJhbGwiOiI1IiwicGhvbmUiOiI2MCJ9\",\"modules_border_color\":\"#ea2092\",\"modules_divider_color\":\"#ea2092\",\"h_effect\":\"up-shadow\",\"modules_divider\":\"solid\",\"image_size\":\"td_1068x0\",\"image_height\":\"eyJhbGwiOiI1MyIsInBob25lIjoiNTUifQ==\",\"image_width\":\"eyJhbGwiOiIzMyIsInBob25lIjoiMTAwIn0=\",\"image_floated\":\"eyJhbGwiOiJmbG9hdF9sZWZ0IiwicGhvbmUiOiJub19mbG9hdCJ9\",\"video_popup\":\"\",\"meta_info_align\":\"center\",\"show_cat\":\"\",\"show_author\":\"\",\"show_com\":\"none\",\"show_review\":\"none\",\"show_excerpt\":\"none\",\"show_audio\":\"none\",\"show_btn\":\"none\",\"pag_icons_size\":\"10\",\"f_title_font_size\":\"20\",\"f_title_font_line_height\":\"1\",\"f_title_font_family\":\"820\",\"f_title_font_weight\":\"500\",\"f_meta_font_size\":\"12\",\"f_meta_font_weight\":\"700\",\"f_ex_font_size\":\"14\",\"f_ex_font_line_height\":\"1.6\",\"title_txt_hover\":\"#ea2092\",\"cat_txt\":\"#fffcfc\",\"pag_bg\":\"#ea2092\",\"pag_border\":\"#ea2092\",\"meta_margin\":\"eyJhbGwiOiItMTUiLCJwaG9uZSI6IjEifQ==\",\"meta_padding\":\"eyJhbGwiOiIwcHggMHB4IDBweCA0MHB4IiwicGhvbmUiOiIwcHggMHB4IDBweCAwcHgifQ==\",\"art_title\":\"eyJhbGwiOiIwcHggMHB4IDVweCAwcHgiLCJwaG9uZSI6IjEwcHggMHB4IDEwcHggMHB4In0=\",\"title_txt\":\"#fffcfc\",\"tdc_css\":\"eyJhbGwiOnsibWFyZ2luLXRvcCI6IjIwIiwiZGlzcGxheSI6IiJ9fQ==\",\"pag_text\":\"#fffcfc\",\"limit\":\"7\",\"modules_category\":\"above\",\"modules_category_margin\":\"eyJhbGwiOiIwcHggMHB4IDEwcHggMHB4IiwicGhvbmUiOiIwcHggMHB4IDBweCAwcHgifQ==\",\"author_photo_radius\":\"0\",\"cat_bg\":\"#ea2092\",\"cat_bg_hover\":\"#fffcfc\",\"cat_txt_hover\":\"#ea2092\",\"author_txt\":\"#767676\",\"author_txt_hover\":\"#fffcfc\",\"offset\":\"1\",\"sort\":\"\",\"block_type\":\"td_flex_block_1\",\"separator\":\"\",\"custom_title\":\"\",\"custom_url\":\"\",\"block_template_id\":\"\",\"title_tag\":\"\",\"mc1_tl\":\"\",\"mc1_title_tag\":\"\",\"mc1_el\":\"\",\"post_ids\":\"\",\"taxonomies\":\"\",\"category_ids\":\"\",\"in_all_terms\":\"\",\"tag_slug\":\"\",\"autors_id\":\"\",\"installed_post_types\":\"\",\"linked_posts\":\"\",\"favourite_only\":\"\",\"open_in_new_window\":\"\",\"show_modified_date\":\"\",\"time_ago\":\"\",\"time_ago_add_txt\":\"ago\",\"time_ago_txt_pos\":\"\",\"el_class\":\"\",\"td_query_cache\":\"\",\"td_query_cache_expiration\":\"\",\"td_ajax_filter_type\":\"\",\"td_ajax_filter_ids\":\"\",\"td_filter_default_txt\":\"All\",\"td_ajax_preloading\":\"\",\"modules_gap\":\"\",\"m_padding\":\"\",\"modules_border_size\":\"\",\"modules_border_style\":\"\",\"modules_border_radius\":\"\",\"image_alignment\":\"50\",\"image_radius\":\"\",\"hide_image\":\"\",\"show_favourites\":\"\",\"fav_size\":\"2\",\"fav_space\":\"\",\"fav_ico_color\":\"\",\"fav_ico_color_h\":\"\",\"fav_bg\":\"\",\"fav_bg_h\":\"\",\"fav_shadow_shadow_header\":\"\",\"fav_shadow_shadow_title\":\"Shadow\",\"fav_shadow_shadow_size\":\"\",\"fav_shadow_shadow_offset_horizontal\":\"\",\"fav_shadow_shadow_offset_vertical\":\"\",\"fav_shadow_shadow_spread\":\"\",\"fav_shadow_shadow_color\":\"\",\"video_icon\":\"\",\"video_rec\":\"\",\"spot_header\":\"\",\"video_rec_title\":\"\",\"video_rec_color\":\"\",\"video_rec_disable\":\"\",\"autoplay_vid\":\"yes\",\"show_vid_t\":\"block\",\"vid_t_margin\":\"\",\"vid_t_padding\":\"\",\"video_title_color\":\"\",\"video_title_color_h\":\"\",\"video_bg\":\"\",\"video_overlay\":\"\",\"vid_t_color\":\"\",\"vid_t_bg_color\":\"\",\"f_vid_title_font_header\":\"\",\"f_vid_title_font_title\":\"Video pop-up article title\",\"f_vid_title_font_settings\":\"\",\"f_vid_title_font_family\":\"\",\"f_vid_title_font_size\":\"\",\"f_vid_title_font_line_height\":\"\",\"f_vid_title_font_style\":\"\",\"f_vid_title_font_weight\":\"\",\"f_vid_title_font_transform\":\"\",\"f_vid_title_font_spacing\":\"\",\"f_vid_title_\":\"\",\"f_vid_time_font_title\":\"Video duration text\",\"f_vid_time_font_settings\":\"\",\"f_vid_time_font_family\":\"\",\"f_vid_time_font_size\":\"\",\"f_vid_time_font_line_height\":\"\",\"f_vid_time_font_style\":\"\",\"f_vid_time_font_weight\":\"\",\"f_vid_time_font_transform\":\"\",\"f_vid_time_font_spacing\":\"\",\"f_vid_time_\":\"\",\"meta_info_horiz\":\"layout-default\",\"meta_width\":\"\",\"meta_space\":\"\",\"art_btn\":\"\",\"meta_info_border_size\":\"\",\"meta_info_border_style\":\"\",\"meta_info_border_color\":\"#eaeaea\",\"meta_info_border_radius\":\"\",\"modules_category_padding\":\"\",\"modules_cat_border\":\"\",\"modules_category_radius\":\"0\",\"modules_extra_cat\":\"\",\"author_photo\":\"\",\"author_photo_size\":\"\",\"author_photo_space\":\"\",\"show_date\":\"inline-block\",\"review_space\":\"\",\"review_size\":\"2.5\",\"review_distance\":\"\",\"art_excerpt\":\"\",\"excerpt_col\":\"1\",\"excerpt_gap\":\"\",\"excerpt_middle\":\"\",\"excerpt_inline\":\"\",\"art_audio\":\"\",\"art_audio_size\":\"1.5\",\"btn_title\":\"\",\"btn_margin\":\"\",\"btn_padding\":\"\",\"btn_border_width\":\"\",\"btn_radius\":\"\",\"pag_space\":\"\",\"pag_padding\":\"\",\"pag_border_width\":\"\",\"pag_border_radius\":\"\",\"prev_tdicon\":\"\",\"next_tdicon\":\"\",\"f_header_font_header\":\"\",\"f_header_font_title\":\"Block header\",\"f_header_font_settings\":\"\",\"f_header_font_family\":\"\",\"f_header_font_size\":\"\",\"f_header_font_line_height\":\"\",\"f_header_font_style\":\"\",\"f_header_font_weight\":\"\",\"f_header_font_transform\":\"\",\"f_header_font_spacing\":\"\",\"f_header_\":\"\",\"f_ajax_font_title\":\"Ajax categories\",\"f_ajax_font_settings\":\"\",\"f_ajax_font_family\":\"\",\"f_ajax_font_size\":\"\",\"f_ajax_font_line_height\":\"\",\"f_ajax_font_style\":\"\",\"f_ajax_font_weight\":\"\",\"f_ajax_font_transform\":\"\",\"f_ajax_font_spacing\":\"\",\"f_ajax_\":\"\",\"f_more_font_title\":\"Load more button\",\"f_more_font_settings\":\"\",\"f_more_font_family\":\"\",\"f_more_font_size\":\"\",\"f_more_font_line_height\":\"\",\"f_more_font_style\":\"\",\"f_more_font_weight\":\"\",\"f_more_font_transform\":\"\",\"f_more_font_spacing\":\"\",\"f_more_\":\"\",\"f_title_font_header\":\"\",\"f_title_font_title\":\"Article title\",\"f_title_font_settings\":\"\",\"f_title_font_style\":\"\",\"f_title_font_transform\":\"\",\"f_title_font_spacing\":\"\",\"f_title_\":\"\",\"f_cat_font_title\":\"Article category tag\",\"f_cat_font_settings\":\"\",\"f_cat_font_family\":\"\",\"f_cat_font_size\":\"\",\"f_cat_font_line_height\":\"\",\"f_cat_font_style\":\"\",\"f_cat_font_weight\":\"\",\"f_cat_font_transform\":\"\",\"f_cat_font_spacing\":\"\",\"f_cat_\":\"\",\"f_meta_font_title\":\"Article meta info\",\"f_meta_font_settings\":\"\",\"f_meta_font_family\":\"\",\"f_meta_font_line_height\":\"\",\"f_meta_font_style\":\"\",\"f_meta_font_transform\":\"\",\"f_meta_font_spacing\":\"\",\"f_meta_\":\"\",\"f_ex_font_title\":\"Article excerpt\",\"f_ex_font_settings\":\"\",\"f_ex_font_family\":\"\",\"f_ex_font_style\":\"\",\"f_ex_font_weight\":\"\",\"f_ex_font_transform\":\"\",\"f_ex_font_spacing\":\"\",\"f_ex_\":\"\",\"f_btn_font_title\":\"Article read more button\",\"f_btn_font_settings\":\"\",\"f_btn_font_family\":\"\",\"f_btn_font_size\":\"\",\"f_btn_font_line_height\":\"\",\"f_btn_font_style\":\"\",\"f_btn_font_weight\":\"\",\"f_btn_font_transform\":\"\",\"f_btn_font_spacing\":\"\",\"f_btn_\":\"\",\"mix_color\":\"\",\"mix_type\":\"\",\"fe_brightness\":\"1\",\"fe_contrast\":\"1\",\"fe_saturate\":\"1\",\"mix_color_h\":\"\",\"mix_type_h\":\"\",\"fe_brightness_h\":\"1\",\"fe_contrast_h\":\"1\",\"fe_saturate_h\":\"1\",\"m_bg\":\"\",\"color_overlay\":\"\",\"shadow_shadow_header\":\"\",\"shadow_shadow_title\":\"Module Shadow\",\"shadow_shadow_size\":\"\",\"shadow_shadow_offset_horizontal\":\"\",\"shadow_shadow_offset_vertical\":\"\",\"shadow_shadow_spread\":\"\",\"shadow_shadow_color\":\"\",\"all_underline_height\":\"\",\"all_underline_color\":\"\",\"cat_border\":\"\",\"cat_border_hover\":\"\",\"meta_bg\":\"\",\"date_txt\":\"\",\"ex_txt\":\"\",\"com_bg\":\"\",\"com_txt\":\"\",\"rev_txt\":\"\",\"audio_btn_color\":\"\",\"audio_time_color\":\"\",\"audio_bar_color\":\"\",\"audio_bar_curr_color\":\"\",\"shadow_m_shadow_header\":\"\",\"shadow_m_shadow_title\":\"Meta info shadow\",\"shadow_m_shadow_size\":\"\",\"shadow_m_shadow_offset_horizontal\":\"\",\"shadow_m_shadow_offset_vertical\":\"\",\"shadow_m_shadow_spread\":\"\",\"shadow_m_shadow_color\":\"\",\"btn_bg\":\"\",\"btn_bg_hover\":\"\",\"btn_txt\":\"\",\"btn_txt_hover\":\"\",\"btn_border\":\"\",\"btn_border_hover\":\"\",\"pag_h_text\":\"\",\"pag_h_bg\":\"\",\"pag_h_border\":\"\",\"ajax_pagination_next_prev_swipe\":\"\",\"ajax_pagination_infinite_stop\":\"\",\"css\":\"\",\"td_column_number\":2,\"header_color\":\"\",\"color_preset\":\"\",\"border_top\":\"\",\"class\":\"tdi_62\",\"tdc_css_class\":\"tdi_62\",\"tdc_css_class_style\":\"tdi_62_rand_style\"}',\n",
    "    'td_block_id': 'tdi_62',\n",
    "    'td_column_number': '2',\n",
    "    'td_current_page': '1',\n",
    "    'block_type': 'td_flex_block_1',\n",
    "    'td_filter_value': '',\n",
    "    'td_user_action': '',\n",
    "    'td_magic_token': '155479cde2',\n",
    "}\n",
    "\n",
    "response = requests.post('https://techlagi.my/wp-admin/admin-ajax.php', params=params, cookies=cookies, headers=headers, data=data)"
   ]
  },
  {
   "cell_type": "code",
   "execution_count": 8,
   "metadata": {},
   "outputs": [],
   "source": [
    "r = response.json()"
   ]
  },
  {
   "cell_type": "code",
   "execution_count": 10,
   "metadata": {},
   "outputs": [],
   "source": [
    "!mkdir url"
   ]
  },
  {
   "cell_type": "code",
   "execution_count": 11,
   "metadata": {},
   "outputs": [
    {
     "name": "stderr",
     "output_type": "stream",
     "text": [
      "100%|███████████████████████████████████████████| 99/99 [02:44<00:00,  1.66s/it]\n"
     ]
    }
   ],
   "source": [
    "for i in tqdm(range(1, 100, 1)):\n",
    "    data = {\n",
    "        'action': 'td_ajax_block',\n",
    "        'td_atts': '{\"modules_on_row\":\"\",\"hide_audio\":\"yes\",\"category_id\":\"24\",\"ajax_pagination\":\"next_prev\",\"container_width\":\"eyJhbGwiOiIxMDUiLCJwaG9uZSI6IjExMSJ9\",\"all_modules_space\":\"eyJhbGwiOiI1IiwicGhvbmUiOiI2MCJ9\",\"modules_border_color\":\"#ea2092\",\"modules_divider_color\":\"#ea2092\",\"h_effect\":\"up-shadow\",\"modules_divider\":\"solid\",\"image_size\":\"td_1068x0\",\"image_height\":\"eyJhbGwiOiI1MyIsInBob25lIjoiNTUifQ==\",\"image_width\":\"eyJhbGwiOiIzMyIsInBob25lIjoiMTAwIn0=\",\"image_floated\":\"eyJhbGwiOiJmbG9hdF9sZWZ0IiwicGhvbmUiOiJub19mbG9hdCJ9\",\"video_popup\":\"\",\"meta_info_align\":\"center\",\"show_cat\":\"\",\"show_author\":\"\",\"show_com\":\"none\",\"show_review\":\"none\",\"show_excerpt\":\"none\",\"show_audio\":\"none\",\"show_btn\":\"none\",\"pag_icons_size\":\"10\",\"f_title_font_size\":\"20\",\"f_title_font_line_height\":\"1\",\"f_title_font_family\":\"820\",\"f_title_font_weight\":\"500\",\"f_meta_font_size\":\"12\",\"f_meta_font_weight\":\"700\",\"f_ex_font_size\":\"14\",\"f_ex_font_line_height\":\"1.6\",\"title_txt_hover\":\"#ea2092\",\"cat_txt\":\"#fffcfc\",\"pag_bg\":\"#ea2092\",\"pag_border\":\"#ea2092\",\"meta_margin\":\"eyJhbGwiOiItMTUiLCJwaG9uZSI6IjEifQ==\",\"meta_padding\":\"eyJhbGwiOiIwcHggMHB4IDBweCA0MHB4IiwicGhvbmUiOiIwcHggMHB4IDBweCAwcHgifQ==\",\"art_title\":\"eyJhbGwiOiIwcHggMHB4IDVweCAwcHgiLCJwaG9uZSI6IjEwcHggMHB4IDEwcHggMHB4In0=\",\"title_txt\":\"#fffcfc\",\"tdc_css\":\"eyJhbGwiOnsibWFyZ2luLXRvcCI6IjIwIiwiZGlzcGxheSI6IiJ9fQ==\",\"pag_text\":\"#fffcfc\",\"limit\":\"7\",\"modules_category\":\"above\",\"modules_category_margin\":\"eyJhbGwiOiIwcHggMHB4IDEwcHggMHB4IiwicGhvbmUiOiIwcHggMHB4IDBweCAwcHgifQ==\",\"author_photo_radius\":\"0\",\"cat_bg\":\"#ea2092\",\"cat_bg_hover\":\"#fffcfc\",\"cat_txt_hover\":\"#ea2092\",\"author_txt\":\"#767676\",\"author_txt_hover\":\"#fffcfc\",\"offset\":\"1\",\"sort\":\"\",\"block_type\":\"td_flex_block_1\",\"separator\":\"\",\"custom_title\":\"\",\"custom_url\":\"\",\"block_template_id\":\"\",\"title_tag\":\"\",\"mc1_tl\":\"\",\"mc1_title_tag\":\"\",\"mc1_el\":\"\",\"post_ids\":\"\",\"taxonomies\":\"\",\"category_ids\":\"\",\"in_all_terms\":\"\",\"tag_slug\":\"\",\"autors_id\":\"\",\"installed_post_types\":\"\",\"linked_posts\":\"\",\"favourite_only\":\"\",\"open_in_new_window\":\"\",\"show_modified_date\":\"\",\"time_ago\":\"\",\"time_ago_add_txt\":\"ago\",\"time_ago_txt_pos\":\"\",\"el_class\":\"\",\"td_query_cache\":\"\",\"td_query_cache_expiration\":\"\",\"td_ajax_filter_type\":\"\",\"td_ajax_filter_ids\":\"\",\"td_filter_default_txt\":\"All\",\"td_ajax_preloading\":\"\",\"modules_gap\":\"\",\"m_padding\":\"\",\"modules_border_size\":\"\",\"modules_border_style\":\"\",\"modules_border_radius\":\"\",\"image_alignment\":\"50\",\"image_radius\":\"\",\"hide_image\":\"\",\"show_favourites\":\"\",\"fav_size\":\"2\",\"fav_space\":\"\",\"fav_ico_color\":\"\",\"fav_ico_color_h\":\"\",\"fav_bg\":\"\",\"fav_bg_h\":\"\",\"fav_shadow_shadow_header\":\"\",\"fav_shadow_shadow_title\":\"Shadow\",\"fav_shadow_shadow_size\":\"\",\"fav_shadow_shadow_offset_horizontal\":\"\",\"fav_shadow_shadow_offset_vertical\":\"\",\"fav_shadow_shadow_spread\":\"\",\"fav_shadow_shadow_color\":\"\",\"video_icon\":\"\",\"video_rec\":\"\",\"spot_header\":\"\",\"video_rec_title\":\"\",\"video_rec_color\":\"\",\"video_rec_disable\":\"\",\"autoplay_vid\":\"yes\",\"show_vid_t\":\"block\",\"vid_t_margin\":\"\",\"vid_t_padding\":\"\",\"video_title_color\":\"\",\"video_title_color_h\":\"\",\"video_bg\":\"\",\"video_overlay\":\"\",\"vid_t_color\":\"\",\"vid_t_bg_color\":\"\",\"f_vid_title_font_header\":\"\",\"f_vid_title_font_title\":\"Video pop-up article title\",\"f_vid_title_font_settings\":\"\",\"f_vid_title_font_family\":\"\",\"f_vid_title_font_size\":\"\",\"f_vid_title_font_line_height\":\"\",\"f_vid_title_font_style\":\"\",\"f_vid_title_font_weight\":\"\",\"f_vid_title_font_transform\":\"\",\"f_vid_title_font_spacing\":\"\",\"f_vid_title_\":\"\",\"f_vid_time_font_title\":\"Video duration text\",\"f_vid_time_font_settings\":\"\",\"f_vid_time_font_family\":\"\",\"f_vid_time_font_size\":\"\",\"f_vid_time_font_line_height\":\"\",\"f_vid_time_font_style\":\"\",\"f_vid_time_font_weight\":\"\",\"f_vid_time_font_transform\":\"\",\"f_vid_time_font_spacing\":\"\",\"f_vid_time_\":\"\",\"meta_info_horiz\":\"layout-default\",\"meta_width\":\"\",\"meta_space\":\"\",\"art_btn\":\"\",\"meta_info_border_size\":\"\",\"meta_info_border_style\":\"\",\"meta_info_border_color\":\"#eaeaea\",\"meta_info_border_radius\":\"\",\"modules_category_padding\":\"\",\"modules_cat_border\":\"\",\"modules_category_radius\":\"0\",\"modules_extra_cat\":\"\",\"author_photo\":\"\",\"author_photo_size\":\"\",\"author_photo_space\":\"\",\"show_date\":\"inline-block\",\"review_space\":\"\",\"review_size\":\"2.5\",\"review_distance\":\"\",\"art_excerpt\":\"\",\"excerpt_col\":\"1\",\"excerpt_gap\":\"\",\"excerpt_middle\":\"\",\"excerpt_inline\":\"\",\"art_audio\":\"\",\"art_audio_size\":\"1.5\",\"btn_title\":\"\",\"btn_margin\":\"\",\"btn_padding\":\"\",\"btn_border_width\":\"\",\"btn_radius\":\"\",\"pag_space\":\"\",\"pag_padding\":\"\",\"pag_border_width\":\"\",\"pag_border_radius\":\"\",\"prev_tdicon\":\"\",\"next_tdicon\":\"\",\"f_header_font_header\":\"\",\"f_header_font_title\":\"Block header\",\"f_header_font_settings\":\"\",\"f_header_font_family\":\"\",\"f_header_font_size\":\"\",\"f_header_font_line_height\":\"\",\"f_header_font_style\":\"\",\"f_header_font_weight\":\"\",\"f_header_font_transform\":\"\",\"f_header_font_spacing\":\"\",\"f_header_\":\"\",\"f_ajax_font_title\":\"Ajax categories\",\"f_ajax_font_settings\":\"\",\"f_ajax_font_family\":\"\",\"f_ajax_font_size\":\"\",\"f_ajax_font_line_height\":\"\",\"f_ajax_font_style\":\"\",\"f_ajax_font_weight\":\"\",\"f_ajax_font_transform\":\"\",\"f_ajax_font_spacing\":\"\",\"f_ajax_\":\"\",\"f_more_font_title\":\"Load more button\",\"f_more_font_settings\":\"\",\"f_more_font_family\":\"\",\"f_more_font_size\":\"\",\"f_more_font_line_height\":\"\",\"f_more_font_style\":\"\",\"f_more_font_weight\":\"\",\"f_more_font_transform\":\"\",\"f_more_font_spacing\":\"\",\"f_more_\":\"\",\"f_title_font_header\":\"\",\"f_title_font_title\":\"Article title\",\"f_title_font_settings\":\"\",\"f_title_font_style\":\"\",\"f_title_font_transform\":\"\",\"f_title_font_spacing\":\"\",\"f_title_\":\"\",\"f_cat_font_title\":\"Article category tag\",\"f_cat_font_settings\":\"\",\"f_cat_font_family\":\"\",\"f_cat_font_size\":\"\",\"f_cat_font_line_height\":\"\",\"f_cat_font_style\":\"\",\"f_cat_font_weight\":\"\",\"f_cat_font_transform\":\"\",\"f_cat_font_spacing\":\"\",\"f_cat_\":\"\",\"f_meta_font_title\":\"Article meta info\",\"f_meta_font_settings\":\"\",\"f_meta_font_family\":\"\",\"f_meta_font_line_height\":\"\",\"f_meta_font_style\":\"\",\"f_meta_font_transform\":\"\",\"f_meta_font_spacing\":\"\",\"f_meta_\":\"\",\"f_ex_font_title\":\"Article excerpt\",\"f_ex_font_settings\":\"\",\"f_ex_font_family\":\"\",\"f_ex_font_style\":\"\",\"f_ex_font_weight\":\"\",\"f_ex_font_transform\":\"\",\"f_ex_font_spacing\":\"\",\"f_ex_\":\"\",\"f_btn_font_title\":\"Article read more button\",\"f_btn_font_settings\":\"\",\"f_btn_font_family\":\"\",\"f_btn_font_size\":\"\",\"f_btn_font_line_height\":\"\",\"f_btn_font_style\":\"\",\"f_btn_font_weight\":\"\",\"f_btn_font_transform\":\"\",\"f_btn_font_spacing\":\"\",\"f_btn_\":\"\",\"mix_color\":\"\",\"mix_type\":\"\",\"fe_brightness\":\"1\",\"fe_contrast\":\"1\",\"fe_saturate\":\"1\",\"mix_color_h\":\"\",\"mix_type_h\":\"\",\"fe_brightness_h\":\"1\",\"fe_contrast_h\":\"1\",\"fe_saturate_h\":\"1\",\"m_bg\":\"\",\"color_overlay\":\"\",\"shadow_shadow_header\":\"\",\"shadow_shadow_title\":\"Module Shadow\",\"shadow_shadow_size\":\"\",\"shadow_shadow_offset_horizontal\":\"\",\"shadow_shadow_offset_vertical\":\"\",\"shadow_shadow_spread\":\"\",\"shadow_shadow_color\":\"\",\"all_underline_height\":\"\",\"all_underline_color\":\"\",\"cat_border\":\"\",\"cat_border_hover\":\"\",\"meta_bg\":\"\",\"date_txt\":\"\",\"ex_txt\":\"\",\"com_bg\":\"\",\"com_txt\":\"\",\"rev_txt\":\"\",\"audio_btn_color\":\"\",\"audio_time_color\":\"\",\"audio_bar_color\":\"\",\"audio_bar_curr_color\":\"\",\"shadow_m_shadow_header\":\"\",\"shadow_m_shadow_title\":\"Meta info shadow\",\"shadow_m_shadow_size\":\"\",\"shadow_m_shadow_offset_horizontal\":\"\",\"shadow_m_shadow_offset_vertical\":\"\",\"shadow_m_shadow_spread\":\"\",\"shadow_m_shadow_color\":\"\",\"btn_bg\":\"\",\"btn_bg_hover\":\"\",\"btn_txt\":\"\",\"btn_txt_hover\":\"\",\"btn_border\":\"\",\"btn_border_hover\":\"\",\"pag_h_text\":\"\",\"pag_h_bg\":\"\",\"pag_h_border\":\"\",\"ajax_pagination_next_prev_swipe\":\"\",\"ajax_pagination_infinite_stop\":\"\",\"css\":\"\",\"td_column_number\":2,\"header_color\":\"\",\"color_preset\":\"\",\"border_top\":\"\",\"class\":\"tdi_62\",\"tdc_css_class\":\"tdi_62\",\"tdc_css_class_style\":\"tdi_62_rand_style\"}',\n",
    "        'td_block_id': 'tdi_62',\n",
    "        'td_column_number': '2',\n",
    "        'td_current_page': str(i),\n",
    "        'block_type': 'td_flex_block_1',\n",
    "        'td_filter_value': '',\n",
    "        'td_user_action': '',\n",
    "        'td_magic_token': '155479cde2',\n",
    "    }\n",
    "\n",
    "    response = requests.post('https://techlagi.my/wp-admin/admin-ajax.php', params=params, cookies=cookies, headers=headers, data=data)\n",
    "    r = response.json()\n",
    "    filename = os.path.join('url', f'{i}.json')\n",
    "    with open(filename, 'w') as fopen:\n",
    "        json.dump(r, fopen)"
   ]
  },
  {
   "cell_type": "code",
   "execution_count": 9,
   "metadata": {},
   "outputs": [
    {
     "data": {
      "text/plain": [
       "{'td_data': '',\n",
       " 'td_block_id': 'tdi_62',\n",
       " 'td_hide_prev': False,\n",
       " 'td_hide_next': True}"
      ]
     },
     "execution_count": 9,
     "metadata": {},
     "output_type": "execute_result"
    }
   ],
   "source": [
    "r"
   ]
  },
  {
   "cell_type": "code",
   "execution_count": null,
   "metadata": {},
   "outputs": [],
   "source": []
  }
 ],
 "metadata": {
  "kernelspec": {
   "display_name": "Python 3 (ipykernel)",
   "language": "python",
   "name": "python3"
  },
  "language_info": {
   "codemirror_mode": {
    "name": "ipython",
    "version": 3
   },
   "file_extension": ".py",
   "mimetype": "text/x-python",
   "name": "python",
   "nbconvert_exporter": "python",
   "pygments_lexer": "ipython3",
   "version": "3.8.10"
  }
 },
 "nbformat": 4,
 "nbformat_minor": 4
}
