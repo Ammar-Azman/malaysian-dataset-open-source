{
 "cells": [
  {
   "cell_type": "code",
   "execution_count": 1,
   "id": "0601a2e1",
   "metadata": {},
   "outputs": [],
   "source": [
    "from bs4 import BeautifulSoup\n",
    "import pandas as pd\n",
    "import json\n",
    "import requests\n",
    "from urllib.request import urlopen\n",
    "import urllib.request\n",
    "from datetime import datetime\n",
    "from tqdm import tqdm\n",
    "import time\n",
    "import numpy as np\n",
    "from concurrent.futures import ThreadPoolExecutor, as_completed"
   ]
  },
  {
   "cell_type": "code",
   "execution_count": 2,
   "id": "a64b35d8",
   "metadata": {},
   "outputs": [],
   "source": [
    "hrefs = []\n",
    "headers = {'User-Agent': 'Mozilla/5.0 (Windows NT 6.1; WOW64) AppleWebKit/537.36 (KHTML, like Gecko) Chrome/56.0.2924.76 Safari/537.36'} "
   ]
  },
  {
   "cell_type": "code",
   "execution_count": 6,
   "id": "6430a7eb",
   "metadata": {},
   "outputs": [],
   "source": [
    "def crawl(url):\n",
    "    while True:\n",
    "        try:\n",
    "            r = requests.get(url,headers = headers)\n",
    "            break\n",
    "        except Exception as e:\n",
    "            print(e)\n",
    "            time.sleep(1.0)\n",
    "\n",
    "    soup = BeautifulSoup(r.text, \"html.parser\")\n",
    "\n",
    "    div = soup.find_all('h3', attrs = {\"class\":\"elementor-post__title\"})\n",
    "    \n",
    "    if len(div) == 0:\n",
    "        return\n",
    "\n",
    "    for link in soup.find_all('h3', attrs = {\"class\":\"elementor-post__title\"}):\n",
    "\n",
    "        href = link.find('a').get('href')\n",
    "\n",
    "        hrefs.append(href)"
   ]
  },
  {
   "cell_type": "code",
   "execution_count": 7,
   "id": "f86bf347",
   "metadata": {},
   "outputs": [
    {
     "name": "stdout",
     "output_type": "stream",
     "text": [
      "https://ikram.org.my/artikel/\n",
      "373\n"
     ]
    },
    {
     "name": "stderr",
     "output_type": "stream",
     "text": [
      "100%|██████████| 75/75 [06:47<00:00,  5.43s/it]\n"
     ]
    }
   ],
   "source": [
    "max_worker = 5\n",
    "\n",
    "links = ['https://ikram.org.my/artikel/']\n",
    "\n",
    "\n",
    "for url in links:\n",
    "    \n",
    "    print(url)\n",
    "    r = requests.get(url,headers=headers)\n",
    "    soup = BeautifulSoup(r.content, \"html.parser\")\n",
    "    a = soup.find_all('a', attrs = {\"class\":\"page-numbers\"})\n",
    "    a = [a_.get('href') for a_ in a if a_.get('href')]\n",
    "    pgno = [a_ for a_ in a if 'page' in a_]\n",
    "    max_page = max([int(a_.split('page/')[1].replace('/','')) for a_ in pgno])\n",
    "    print(max_page)\n",
    "\n",
    "    \n",
    "    for i in tqdm(range(1, max_page + 1, max_worker)):\n",
    "        aranged = np.arange(i, i + max_worker)\n",
    "        urls = [f'{url}page/{a}' for a in aranged]\n",
    "        with ThreadPoolExecutor(max_workers=max_worker) as executor:\n",
    "            futures = {executor.submit(crawl, url): url for url in urls}\n",
    "        \n",
    "        for future in as_completed(futures):\n",
    "            future.result()"
   ]
  },
  {
   "cell_type": "code",
   "execution_count": 11,
   "id": "3d6f230f",
   "metadata": {},
   "outputs": [],
   "source": [
    "hrefs = list(set(hrefs))"
   ]
  },
  {
   "cell_type": "code",
   "execution_count": 12,
   "id": "5ade6d89",
   "metadata": {},
   "outputs": [
    {
     "data": {
      "text/plain": [
       "3388"
      ]
     },
     "execution_count": 12,
     "metadata": {},
     "output_type": "execute_result"
    }
   ],
   "source": [
    "len(hrefs)"
   ]
  },
  {
   "cell_type": "code",
   "execution_count": 13,
   "id": "a17a88ed",
   "metadata": {},
   "outputs": [],
   "source": [
    "with open(f'ikram-link.json', 'a') as f:\n",
    "    json.dump(hrefs, f)"
   ]
  },
  {
   "cell_type": "code",
   "execution_count": 8,
   "id": "06c2377e",
   "metadata": {},
   "outputs": [],
   "source": [
    "with open('ikram-link.json') as fopen:\n",
    "    hrefs = json.load(fopen)"
   ]
  },
  {
   "cell_type": "code",
   "execution_count": 18,
   "id": "18cd7bc8",
   "metadata": {},
   "outputs": [],
   "source": [
    "def process_url(x):\n",
    "    \n",
    "    while True:\n",
    "        try:\n",
    "            r = requests.get(x, headers=headers)\n",
    "            \n",
    "            if r.status_code == 508:\n",
    "                time.sleep(20)\n",
    "                continue\n",
    "                \n",
    "            break\n",
    "        except Exception as e:\n",
    "            print(e)\n",
    "            time.sleep(5.0)\n",
    "    \n",
    "    soup = BeautifulSoup(r.text, \"html.parser\")\n",
    "\n",
    "    try:\n",
    "        headline = soup.find('h1', class_=\"elementor-heading-title elementor-size-default\").text\n",
    "        h = soup.find('div', class_=\"elementor-widget-wrap elementor-element-populated\")\n",
    "        p = [p.text for p in h.find_all('p') if p.text and len(p.text.split()) > 5]\n",
    "    except Exception as e:\n",
    "        print('error in link:'+ x)\n",
    "        print(e)\n",
    "        return None\n",
    "\n",
    "    \n",
    "    data = {'url': x, 'headline': headline, 'content': p}\n",
    "    \n",
    "    return data"
   ]
  },
  {
   "cell_type": "code",
   "execution_count": 19,
   "id": "d5a51f88",
   "metadata": {},
   "outputs": [
    {
     "data": {
      "text/plain": [
       "{'url': 'https://ikram.org.my/kemelut-sudan/',\n",
       " 'headline': 'Rampasan kuasa Sudan: Kemelut semakin larut',\n",
       " 'content': ['Jawatankuasa penentangan Sudan menzahirkan keraguan terhadap inisiatif Pertubuhan Bangsa-Bangsa Bersatu (PBB) yang ingin mencari penyelesaian terhadap krisis politik di negara itu.',\n",
       "  '“Sebarang inisiatif yang tidak termasuk penyingkiran tentera daripada kuasa adalah tidak dialu-alukan,” kata Jurucakap jawatankuasa itu.',\n",
       "  'Masih tiada kepimpinan yang bersatu untuk jawatankuasa penentangan yang menganjurkan protes popular terhadap rampasan kuasa tentera, tetapi mereka sebulat suara menyeru kepada pemerintahan awam tanpa kerjasama dengan tentera.',\n",
       "  'Bagaimanapun, sesetengah pihak percaya bahawa peluang kejayaan inisiatif antarabangsa itu mungkin besar, memandangkan parti politik mengalu-alukannya.',\n",
       "  'Utusan PBB ke Sudan, Volker Peretz mengumumkan dalam sidang medianya Isnin lalu dengan berkata;',\n",
       "  '“Menjadi hasrat PBB bagi melancarkan dialog antara parti-parti Sudan untuk menyelesaikan krisis di negara itu, memandangkan demonstrasi yang berterusan di Khartoum dan beberapa bandar-bandar Sudan.”',\n",
       "  'Sebelumnya, negara itu telah menyaksikan keadaan politik dan ketidakstabilan keselamatan sejak rampasan kuasa yang bermula Oktober lalu dan memandangkan demonstrasi berterusan menentangnya serta menuntut pemerintahan awam.',\n",
       "  '“Saya akan memulakan perundingan individu dengan semua parti politik,” kata Peretz.',\n",
       "  'Jelasnya, beliau akan mendengar pendirian parti-parti politik mengenai cara mencapai tahap konsensus minimum serta menunjukkan keperluan untuk memulihkan keyakinan semua komponen, termasuk tentera.',\n",
       "  '“Kita perlu mewujudkan suasana politik dengan menghentikan pembunuhan, penunjuk perasaan dan membawa mereka yang terlibat ke muka pengadilan supaya perundingan berjaya,” tegasnya.',\n",
       "  'Pengumuman Peretz dibuat sebelum sesi yang dijadualkan diadakan pada hari ini oleh Majlis Keselamatan PBB bagi membincangkan situasi di Sudan.',\n",
       "  'Reaksi kuasa politik serta perkumpulan profesional berbeza-beza antara sokongan dan penolakan perundingan politik yang diumumkan oleh PBB, selain mendapat sokongan besar daripada negara Arab, Kesatuan Eropah dan Amerika Syarikat.',\n",
       "  'Akan tetapi, sambutan terhadap inisiatif PBB daripada arus sivil utama Sudan adalah hangat.',\n",
       "  '“Kita perlu mendapatkan butiran inisiatif PBB terlebih dahulu,” kata Jaafar Hassan, jurucakap Angkatan untuk Kebebasan dan Perubahan, salah satu pasukan awam utama negara itu.',\n",
       "  'Beliau bersedia untuk mengambil bahagian dalam rundingan itu, dengan syarat matlamatnya adalah untuk meneruskan proses pendemokrasian dan menghapuskan rejim rampasan kuasa.',\n",
       "  '“Tetapi kami menentangnya jika ia bertujuan untuk memberikan legitimasi kepada rejim rampasan kuasa.”',\n",
       "  'Dalam pada itu, Persatuan Profesional Sudan, satu lagi kumpulan utama berkata, ia menolak rundingan itu secara langsung.',\n",
       "  'Bagi pihaknya, Menteri Kewangan Jibril Ibrahim, yang juga ketua Pergerakan Keadilan dan Kesaksamaan, dengan bersyarat mengalu-alukan inisiatif Pertubuhan Bangsa-Bangsa Bersatu untuk memudahkan dialog antara parti-parti Sudan.',\n",
       "  '“Kami mengalu-alukan inisiatif itu, tetapi dengan syarat bahawa dialog itu adalah dialog dalaman Sudan semata-mata dan proses pemudahcaraan tidak berubah menjadi campur tangan terang-terangan dalam hal ehwal dalaman Sudan,” kata Ibrahim melalui ciapan di Twitternya.',\n",
       "  'Selain itu, Gabenor Darfur, Mani Arkoi Minawi, ketua Pergerakan Pembebasan Sudan mengalu-alukan inisiatif PBB dan menggesa Kesatuan Afrika untuk menyertainya.',\n",
       "  'Menerusi laman Facebooknya beliau berkata, “Kami mengalu-alukan inisiatif PBB untuk menggalakkan dialog antara parti-parti Sudan.”',\n",
       "  'Terdahulu, rampasan kuasa yang diketuai oleh ketua tentera, Leftenan Jeneral Abdel Fattah al-Burhan pada 25 Oktober 2021 menggagalkan perjanjian tempoh peralihan, perjanjian berdasarkan prinsip perkongsian kuasa antara tentera dan orang awam, yang sukar dicapai selepas itu setelah penggulingan bekas Presiden Omar al-Bashir pada 2019.',\n",
       "  '“Rampasan kuasa tentera bukanlah rampasan kuasa, sebaliknya matlamatnya hanya untuk membetulkan perjalanan fasa peralihan di Sudan,” tegas al-Burhan.',\n",
       "  'Dalam pada itu, pihak berkuasa berulang kali menafikan menggunakan peluru hidup terhadap penunjuk perasaan dan menegaskan bahawa berpuluh-puluh pasukan keselamatan telah cedera semasa demonstrasi.',\n",
       "  'Polis di Sudan berkata, mereka menahan 86 orang semasa demonstrasi baru-baru ini. Agensi berita rasmi Sudan menyifatkan orang yang ditangkap sebagai penunjuk perasaan.',\n",
       "  'Pada Ahad, beribu-ribu rakyat Sudan telah mengambil bahagian dalam protes untuk menyatakan kecaman mereka terhadap rampasan kuasa tentera, walaupun pihak berkuasa menutup jambatan utama yang menghubungkan Khartoum dengan bandar Omdurman dan Khartoum Utara.',\n",
       "  'Penunjuk perasaan dan persatuan perubatan mengesahkan bahawa lebih banyak kematian telah berlaku dalam demonstrasi anti-rampasan kuasa tersebut.',\n",
       "  '“Dua orang terbunuh dan berpuluh-puluh cedera,” menurut Jawatankuasa Pusat Doktor Sudan.',\n",
       "  'Protes anti-rampasan kuasa diteruskan di negara ini walaupun bekas Perdana Menteri, Abdullah Hamdok meletakkan jawatan pada 2 Januari lalu.',\n",
       "  'Hamdok telah mencapai persetujuan pada 21 November dengan tentera di mana beliau akan kembali ke jawatannya selepas menghabiskan beberapa minggu di bawah tahanan rumah selepas rampasan kuasa.',\n",
       "  '“Saya telah cuba menghalang Sudan daripada tergelincir ke arah bencana, tetapi hakikatnya negara itu kini di persimpangan berbahaya yang mengancam kewujudannya,” kata Hamdok ketika meletakkan jawatannya itu.',\n",
       "  'Hamdok telah meletakkan jawatannya dalam rampasan kuasa oleh tentera, kemudian beliau kembali ke jawatannya selepas kritikan luar dan protes besar-besaran.',\n",
       "  'Tidak lama kemudian, beliau muncul di televisyen untuk menandatangani perjanjian perkongsian kuasa baharu dengan al-Burhan, di tengah-tengah protes besar-besaran yang berterusan.',\n",
       "  'Namun, Perikatan Awam yang mencalonkan Hamdok untuk jawatan perdana menteri dua tahun lalu, enggan mengiktiraf sebarang perjanjian baharu.',\n",
       "  'Kementerian Penerangan Sudan telah mengumumkan penahanan Hamdok, sambil menambah bahawa Hamdok telah dipindahkan ke lokasi yang tidak diketahui selepas enggan mengeluarkan kenyataan menyokong rampasan kuasa tentera yang sedang berlaku.',\n",
       "  'Kementerian telah berkata sebelum ini bahawa pasukan tentera bersama yang menahan Hamdok di bawah tahanan rumah mendesaknya untuk mengeluarkan kenyataan menyokong.\\xa0',\n",
       "  'Akan tetapi, Hamdok menggesa rakyat Sudan menentang percubaan rampasan kuasa dengan cara aman dan mempertahankan revolusi mereka.',\n",
       "  'Begitu juga Persatuan Profesional Sudan yang merupakan salah satu kumpulan paling terkemuka yang mengetuai protes terhadap bekas Presiden Omar al-Bashir, menerbitkan satu catatan di laman Twitternya sambil menyeru rakyat Sudan untuk berdemonstrasi untuk menggagalkan rampasan kuasa tentera.',\n",
       "  'Penafian: Penulisan ini adalah pandangan peribadi dan tidak menggambarkan pendirian IKRAM.',\n",
       "  '3 Tahun PTI Tidak Dapat Dilangsungkan, Kini Tiba Masanya…']}"
      ]
     },
     "execution_count": 19,
     "metadata": {},
     "output_type": "execute_result"
    }
   ],
   "source": [
    "process_url(\"https://ikram.org.my/kemelut-sudan/\")"
   ]
  },
  {
   "cell_type": "code",
   "execution_count": 20,
   "id": "fe5acbfb",
   "metadata": {},
   "outputs": [
    {
     "name": "stderr",
     "output_type": "stream",
     "text": [
      "  0%|          | 10/3388 [00:08<42:23,  1.33it/s] "
     ]
    },
    {
     "name": "stdout",
     "output_type": "stream",
     "text": [
      "error in link:https://ikram.org.my/earthquake-in-nepal-ikram-extends-condolences/\n",
      "'NoneType' object has no attribute 'text'\n"
     ]
    },
    {
     "name": "stderr",
     "output_type": "stream",
     "text": [
      "100%|██████████| 3388/3388 [47:40<00:00,  1.18it/s] \n"
     ]
    }
   ],
   "source": [
    "max_workers = 3\n",
    "\n",
    "with ThreadPoolExecutor(max_workers=max_workers) as executor:\n",
    "    futures = [executor.submit(process_url, x) for x in hrefs]\n",
    "    \n",
    "    for future in tqdm(futures, total=len(hrefs)):\n",
    "        result = future.result()\n",
    "        if result:\n",
    "            with open('ikram.jsonl', 'a') as f:\n",
    "                json.dump(result, f)\n",
    "                f.write('\\n')"
   ]
  }
 ],
 "metadata": {
  "kernelspec": {
   "display_name": "Python 3 (ipykernel)",
   "language": "python",
   "name": "python3"
  },
  "language_info": {
   "codemirror_mode": {
    "name": "ipython",
    "version": 3
   },
   "file_extension": ".py",
   "mimetype": "text/x-python",
   "name": "python",
   "nbconvert_exporter": "python",
   "pygments_lexer": "ipython3",
   "version": "3.10.12"
  }
 },
 "nbformat": 4,
 "nbformat_minor": 5
}
