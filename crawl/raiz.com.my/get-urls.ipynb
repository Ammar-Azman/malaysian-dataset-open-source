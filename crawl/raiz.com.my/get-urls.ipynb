{
 "cells": [
  {
   "cell_type": "code",
   "execution_count": 1,
   "metadata": {},
   "outputs": [],
   "source": [
    "import requests\n",
    "from bs4 import BeautifulSoup\n",
    "from tqdm import tqdm\n",
    "import os\n",
    "import json\n",
    "import numpy as np\n",
    "import time\n",
    "import random\n",
    "import json\n",
    "import urllib3\n",
    "urllib3.disable_warnings(urllib3.exceptions.InsecureRequestWarning)"
   ]
  },
  {
   "cell_type": "code",
   "execution_count": 2,
   "metadata": {},
   "outputs": [],
   "source": [
    "url = 'https://raiz.com.my/blog/page/2/'\n",
    "r = requests.get(url)"
   ]
  },
  {
   "cell_type": "code",
   "execution_count": 3,
   "metadata": {},
   "outputs": [],
   "source": [
    "soup = BeautifulSoup(r.content, \"lxml\")"
   ]
  },
  {
   "cell_type": "code",
   "execution_count": 8,
   "metadata": {},
   "outputs": [
    {
     "data": {
      "text/plain": [
       "['https://raiz.com.my/blog/raiz-rewards-istimewa-cuti-sekolah/',\n",
       " 'https://raiz.com.my/blog/raiz-rewards-school-holi-yay-special/',\n",
       " 'https://raiz.com.my/blog/apa-itu-kelas-aset/',\n",
       " 'https://raiz.com.my/blog/what-is-an-asset-class/',\n",
       " 'https://raiz.com.my/blog/akaun-auto-bundar-round-up-account-akaun-pembiayaan-funding-account-apa-perbezaannya/',\n",
       " 'https://raiz.com.my/blog/hanya-dua-perkara-yang-anda-perlu-tahu-minggu-ini-minggu-berakhir-08-08-2023/',\n",
       " 'https://raiz.com.my/blog/just-two-things-you-need-to-know-this-week-weekly-ended-08-08-2023/',\n",
       " 'https://raiz.com.my/blog/5-matlamat-kewangan-untuk-ditetapkan/',\n",
       " 'https://raiz.com.my/blog/5-mitos-tentang-pelaburan/',\n",
       " 'https://raiz.com.my/blog/raiz-rewards-look-out-for-8-8/']"
      ]
     },
     "execution_count": 8,
     "metadata": {},
     "output_type": "execute_result"
    }
   ],
   "source": [
    "a = soup.find_all('span', {'class': \"headline\"})\n",
    "a = [a_.find('a') for a_ in a if a_.find('a')]\n",
    "a = [a_.get('href') for a_ in a]\n",
    "a"
   ]
  },
  {
   "cell_type": "code",
   "execution_count": 9,
   "metadata": {},
   "outputs": [
    {
     "name": "stderr",
     "output_type": "stream",
     "text": [
      "28it [00:07,  3.75it/s]\n"
     ]
    }
   ],
   "source": [
    "def generator():\n",
    "    while True:\n",
    "        yield\n",
    "        \n",
    "index = 1\n",
    "all_a = []\n",
    "\n",
    "for _ in tqdm(generator()):\n",
    "    url = f'https://raiz.com.my/blog/page/{index}/'\n",
    "    r = requests.get(url)\n",
    "    soup = BeautifulSoup(r.content, \"lxml\")\n",
    "\n",
    "    a = soup.find_all('span', {'class': \"headline\"})\n",
    "    a = [a_.find('a') for a_ in a if a_.find('a')]\n",
    "    a = [a_.get('href') for a_ in a]\n",
    "    \n",
    "    if not len(a):\n",
    "        break\n",
    "        \n",
    "    all_a.extend(a)\n",
    "    \n",
    "    index += 1"
   ]
  },
  {
   "cell_type": "code",
   "execution_count": 11,
   "metadata": {},
   "outputs": [
    {
     "data": {
      "text/plain": [
       "276"
      ]
     },
     "execution_count": 11,
     "metadata": {},
     "output_type": "execute_result"
    }
   ],
   "source": [
    "urls = sorted(list(set(all_a)))\n",
    "len(urls)"
   ]
  },
  {
   "cell_type": "code",
   "execution_count": 15,
   "metadata": {},
   "outputs": [
    {
     "data": {
      "text/plain": [
       "'https://raiz.com.my/blog/16-simple-saving-tips-for-the-new-year/'"
      ]
     },
     "execution_count": 15,
     "metadata": {},
     "output_type": "execute_result"
    }
   ],
   "source": [
    "url"
   ]
  },
  {
   "cell_type": "code",
   "execution_count": 12,
   "metadata": {},
   "outputs": [],
   "source": [
    "url = urls[0]\n",
    "r = requests.get(url)\n",
    "soup = BeautifulSoup(r.content, \"lxml\")"
   ]
  },
  {
   "cell_type": "code",
   "execution_count": 13,
   "metadata": {},
   "outputs": [
    {
     "data": {
      "text/plain": [
       "'16 Simple Saving Tips for the New Year'"
      ]
     },
     "execution_count": 13,
     "metadata": {},
     "output_type": "execute_result"
    }
   ],
   "source": [
    "soup.find('h1').text.strip()"
   ]
  },
  {
   "cell_type": "code",
   "execution_count": 16,
   "metadata": {},
   "outputs": [
    {
     "data": {
      "text/plain": [
       "'16 Simple Saving Tips for the New Year\\n\\n\\nKlik sini untuk Bahasa Melayu\\n\\n\\n\\xa0\\n\\n\\nWith the new year upon us, it’s easy to say\\xa0\\n“I will save more this year”\\n\\xa0but what you might not have brainstormed is\\xa0\\n“How can I save more this year? What are the practical ways to go about it?”\\n\\n\\nThe good news is that even small efforts can add up to big savings over time. No matter what you’re saving money for —whether it’s to reach a savings goal, pay off debt faster or\\xa0plan ahead\\xa0for a holiday or first home—these simple suggestions will help you get there faster.\\n\\n\\nWith\\xa0\\n16\\n\\xa0simple suggestions, there is\\xa0\\nsurely\\xa0\\nat least\\xa0\\none\\n\\xa0that woul\\nd suit you and will\\n\\xa0\\nhelp you stick to your goal or resolutions this year!\\n\\n\\n\\n\\n\\n\\nTreat yourself to a birthday freebie. \\nMost restaurants, if you tell them it’s your birthday, will give you a little something just for dining with them. The key is signing up\\n\\xa0to be a\\n\\xa0member\\n\\xa0early.\\n\\xa0\\n\\n\\n Raid your drawers for unused\\n gift cards.\\xa0\\nIf you probably won’t put them to good use, re-gift or sell them.\\n\\xa0\\n\\n\\nCancel unused subscriptions for\\n\\xa0magazines, gym memberships, for example.\\n\\xa0\\n\\n\\nTurn off the tap when you brush your teeth. \\nThis can save 5,000L per year, cutting down your\\xa0\\nutility\\n\\xa0bill. Also, take shorter showers.\\n\\xa0\\n\\n\\nUnplug your laptop and other appliances when\\n\\xa0you aren’t using them. Leaving your computer on all day could add up to hundreds\\xa0\\nof\\xa0\\nringgit\\n\\xa0\\nin a year.\\n\\xa0\\n\\n\\nDIY when it makes sense. \\nDoing major repairs on your own won’t save you money if you end up having to pay a pro to fix your shoddy work.\\n\\xa0\\n\\n\\nMake a list before hitting the store\\n\\xa0and\\n\\xa0stick to it\\n—and avoid grocery shopping when you’re hungry and more likely to make impulse buys.\\n\\xa0\\n\\n\\nBuy for a discount when\\n\\xa0you’re shopping for big-ticket items like furniture or appliances.\\n\\xa0\\n\\n\\nBorrow\\n. A friend may own a black-suit outfit you can wear to an upcoming event.\\n\\n\\nGet books at the library instead\\n\\xa0of purchasing your own copies.\\n\\xa0\\n\\n\\nBuy everyday items like\\n\\xa0vegetables and baby diapers\\xa0\\nin bulk.\\n\\xa0\\n\\n\\nMake your own coffee, \\nsaving you up to RM10 per drink.\\n\\xa0\\n\\n\\nCommit to bringing your lunch just\\n\\xa0one more day a week.\\n\\xa0\\n\\n\\nLook for alternative\\n\\xa0activities\\xa0\\nin your city\\n, like morning workouts in public parks\\n\\xa0\\nas opposed to subscribing to a gym membershi\\np\\n.\\n\\xa0\\n\\n\\nVolunteer. \\nIt’s a free meaningful activity and will make you feel good too.\\n\\n\\n\\n\\nFinally\\n,\\n\\n\\n\\n\\nCreate savings goals on your Raiz Account. \\nIt’s an easy way to measure your progress and make quick adjustments.\\n\\n\\n\\n\\n\\n\\nBy automating and naming your savings goal, this will help to reach your goal easier. With our Savings Goal feature, you can set a recurring investment in-line with your\\xa0\\npayday\\n. \\nRaiz \\nalso \\nallows you to customise investing daily, weekly, fortnightly or monthly.\\n\\xa0\\n\\n\\nYou can customise the goal name to keep you focused on what you are trying to achieve.\\n\\n\\n\\xa0\\n\\n\\n\\n\\nDon’t have the Raiz App?\\n\\xa0\\n\\n\\nDownload it for free in the App store:\\n\\xa0\\n\\n\\n\\n\\n\\xa0\\n\\n\\n\\xa0\\n\\n\\n\\xa0\\n\\n\\nImportant Information\\n\\xa0\\n\\n\\nThe information on this website is general advice only. This means it does not consider any person’s investment objectives, financial situation or investment needs. If you are an investor, you should consult your licensed adviser before acting on any information contained in this article to fully understand the benefits and risk associated with the Raiz product.\\n\\xa0\\n\\n\\nThe information on this website is confidential. It must not be reproduced, distributed or disclosed to any other person. The information is based on assumptions or market conditions which change without notice. This will impact the accuracy of the information.\\n\\xa0\\n\\n\\nUnder no circumstances is the information to be used by, or presented to, a person for the purposes of deciding about investing in Raiz.\\n\\xa0\\n\\n\\nThe past return performance of the Raiz product should not be relied on for deciding to invest in Raiz and is not a good predictor of future performance.\\n\\n\\nThe advertisement has not been reviewed by the SC.\\n\\n'"
      ]
     },
     "execution_count": 16,
     "metadata": {},
     "output_type": "execute_result"
    }
   ],
   "source": [
    "soup.find('div', {'class': 'btArticleBody'}).get_text(separator=\"\\n\")"
   ]
  },
  {
   "cell_type": "code",
   "execution_count": 17,
   "metadata": {},
   "outputs": [
    {
     "name": "stderr",
     "output_type": "stream",
     "text": [
      "100%|███████████████████████████████████████████████████████████████████████████████████████████████████████████| 276/276 [01:02<00:00,  4.41it/s]\n"
     ]
    }
   ],
   "source": [
    "data = []\n",
    "for url in tqdm(urls):\n",
    "    r = requests.get(url)\n",
    "    soup = BeautifulSoup(r.content, \"lxml\")\n",
    "    data.append({\n",
    "        'url': url,\n",
    "        'title': soup.find('h1').text.strip(),\n",
    "        'body': soup.find('div', {'class': 'btArticleBody'}).get_text(separator=\"\\n\"),\n",
    "    })"
   ]
  },
  {
   "cell_type": "code",
   "execution_count": 18,
   "metadata": {},
   "outputs": [
    {
     "data": {
      "text/plain": [
       "{'url': 'https://raiz.com.my/blog/16-simple-saving-tips-for-the-new-year/',\n",
       " 'title': '16 Simple Saving Tips for the New Year',\n",
       " 'body': '16 Simple Saving Tips for the New Year\\n\\n\\nKlik sini untuk Bahasa Melayu\\n\\n\\n\\xa0\\n\\n\\nWith the new year upon us, it’s easy to say\\xa0\\n“I will save more this year”\\n\\xa0but what you might not have brainstormed is\\xa0\\n“How can I save more this year? What are the practical ways to go about it?”\\n\\n\\nThe good news is that even small efforts can add up to big savings over time. No matter what you’re saving money for —whether it’s to reach a savings goal, pay off debt faster or\\xa0plan ahead\\xa0for a holiday or first home—these simple suggestions will help you get there faster.\\n\\n\\nWith\\xa0\\n16\\n\\xa0simple suggestions, there is\\xa0\\nsurely\\xa0\\nat least\\xa0\\none\\n\\xa0that woul\\nd suit you and will\\n\\xa0\\nhelp you stick to your goal or resolutions this year!\\n\\n\\n\\n\\n\\n\\nTreat yourself to a birthday freebie. \\nMost restaurants, if you tell them it’s your birthday, will give you a little something just for dining with them. The key is signing up\\n\\xa0to be a\\n\\xa0member\\n\\xa0early.\\n\\xa0\\n\\n\\n Raid your drawers for unused\\n gift cards.\\xa0\\nIf you probably won’t put them to good use, re-gift or sell them.\\n\\xa0\\n\\n\\nCancel unused subscriptions for\\n\\xa0magazines, gym memberships, for example.\\n\\xa0\\n\\n\\nTurn off the tap when you brush your teeth. \\nThis can save 5,000L per year, cutting down your\\xa0\\nutility\\n\\xa0bill. Also, take shorter showers.\\n\\xa0\\n\\n\\nUnplug your laptop and other appliances when\\n\\xa0you aren’t using them. Leaving your computer on all day could add up to hundreds\\xa0\\nof\\xa0\\nringgit\\n\\xa0\\nin a year.\\n\\xa0\\n\\n\\nDIY when it makes sense. \\nDoing major repairs on your own won’t save you money if you end up having to pay a pro to fix your shoddy work.\\n\\xa0\\n\\n\\nMake a list before hitting the store\\n\\xa0and\\n\\xa0stick to it\\n—and avoid grocery shopping when you’re hungry and more likely to make impulse buys.\\n\\xa0\\n\\n\\nBuy for a discount when\\n\\xa0you’re shopping for big-ticket items like furniture or appliances.\\n\\xa0\\n\\n\\nBorrow\\n. A friend may own a black-suit outfit you can wear to an upcoming event.\\n\\n\\nGet books at the library instead\\n\\xa0of purchasing your own copies.\\n\\xa0\\n\\n\\nBuy everyday items like\\n\\xa0vegetables and baby diapers\\xa0\\nin bulk.\\n\\xa0\\n\\n\\nMake your own coffee, \\nsaving you up to RM10 per drink.\\n\\xa0\\n\\n\\nCommit to bringing your lunch just\\n\\xa0one more day a week.\\n\\xa0\\n\\n\\nLook for alternative\\n\\xa0activities\\xa0\\nin your city\\n, like morning workouts in public parks\\n\\xa0\\nas opposed to subscribing to a gym membershi\\np\\n.\\n\\xa0\\n\\n\\nVolunteer. \\nIt’s a free meaningful activity and will make you feel good too.\\n\\n\\n\\n\\nFinally\\n,\\n\\n\\n\\n\\nCreate savings goals on your Raiz Account. \\nIt’s an easy way to measure your progress and make quick adjustments.\\n\\n\\n\\n\\n\\n\\nBy automating and naming your savings goal, this will help to reach your goal easier. With our Savings Goal feature, you can set a recurring investment in-line with your\\xa0\\npayday\\n. \\nRaiz \\nalso \\nallows you to customise investing daily, weekly, fortnightly or monthly.\\n\\xa0\\n\\n\\nYou can customise the goal name to keep you focused on what you are trying to achieve.\\n\\n\\n\\xa0\\n\\n\\n\\n\\nDon’t have the Raiz App?\\n\\xa0\\n\\n\\nDownload it for free in the App store:\\n\\xa0\\n\\n\\n\\n\\n\\xa0\\n\\n\\n\\xa0\\n\\n\\n\\xa0\\n\\n\\nImportant Information\\n\\xa0\\n\\n\\nThe information on this website is general advice only. This means it does not consider any person’s investment objectives, financial situation or investment needs. If you are an investor, you should consult your licensed adviser before acting on any information contained in this article to fully understand the benefits and risk associated with the Raiz product.\\n\\xa0\\n\\n\\nThe information on this website is confidential. It must not be reproduced, distributed or disclosed to any other person. The information is based on assumptions or market conditions which change without notice. This will impact the accuracy of the information.\\n\\xa0\\n\\n\\nUnder no circumstances is the information to be used by, or presented to, a person for the purposes of deciding about investing in Raiz.\\n\\xa0\\n\\n\\nThe past return performance of the Raiz product should not be relied on for deciding to invest in Raiz and is not a good predictor of future performance.\\n\\n\\nThe advertisement has not been reviewed by the SC.\\n\\n'}"
      ]
     },
     "execution_count": 18,
     "metadata": {},
     "output_type": "execute_result"
    }
   ],
   "source": [
    "data[0]"
   ]
  },
  {
   "cell_type": "code",
   "execution_count": 19,
   "metadata": {},
   "outputs": [],
   "source": [
    "with open('raiz.com.my.jsonl', 'w') as fopen:\n",
    "    for d in data:\n",
    "        fopen.write(f'{json.dumps(d)}\\n')"
   ]
  }
 ],
 "metadata": {
  "kernelspec": {
   "display_name": "Python 3 (ipykernel)",
   "language": "python",
   "name": "python3"
  },
  "language_info": {
   "codemirror_mode": {
    "name": "ipython",
    "version": 3
   },
   "file_extension": ".py",
   "mimetype": "text/x-python",
   "name": "python",
   "nbconvert_exporter": "python",
   "pygments_lexer": "ipython3",
   "version": "3.8.10"
  }
 },
 "nbformat": 4,
 "nbformat_minor": 4
}
