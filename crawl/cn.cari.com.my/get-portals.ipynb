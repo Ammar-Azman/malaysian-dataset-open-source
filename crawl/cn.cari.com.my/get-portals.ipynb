{
 "cells": [
  {
   "cell_type": "code",
   "execution_count": 4,
   "metadata": {},
   "outputs": [],
   "source": [
    "from glob import glob\n",
    "import json\n",
    "import requests\n",
    "from bs4 import BeautifulSoup\n",
    "from tqdm import tqdm\n",
    "from concurrent.futures import ThreadPoolExecutor, as_completed"
   ]
  },
  {
   "cell_type": "code",
   "execution_count": 57,
   "metadata": {},
   "outputs": [],
   "source": [
    "r = requests.get('https://c.cari.com.my/')"
   ]
  },
  {
   "cell_type": "code",
   "execution_count": 58,
   "metadata": {},
   "outputs": [],
   "source": [
    "soup = BeautifulSoup(r._content, \"lxml\")"
   ]
  },
  {
   "cell_type": "code",
   "execution_count": 61,
   "metadata": {},
   "outputs": [],
   "source": [
    "a = soup.find_all('a')\n",
    "a = [a_.get('href') for a_ in a]\n",
    "a = [a_ for a_ in a if a_ and a_.startswith('portal.php?mod=list&catid=')]\n",
    "a = ['https://c.cari.com.my/' + a_ for a_ in a]\n",
    "a = sorted(list(set(a)))"
   ]
  },
  {
   "cell_type": "code",
   "execution_count": 76,
   "metadata": {},
   "outputs": [],
   "source": [
    "import time\n",
    "\n",
    "def get_url(url):\n",
    "    while True:\n",
    "        try:\n",
    "            response = requests.get(url)\n",
    "            soup = BeautifulSoup(response.content, \"lxml\")\n",
    "            break\n",
    "        except Exception as e:\n",
    "            print(e)\n",
    "            time.sleep(1.0)\n",
    "    try:\n",
    "        span = soup.find_all('span')\n",
    "        max_page = [s.get('title') for s in span if '页' in s.get('title', '') and '共' in s.get('title', '')][0]\n",
    "        max_page = int(max_page.split()[1])\n",
    "    except:\n",
    "        max_page = -1\n",
    "    \n",
    "    a = soup.find_all('a')\n",
    "    a = [a_.get('href') for a_ in a if a_.get('href')]\n",
    "    a = [a_ for a_ in a if a_.startswith('portal.php?mod=view&aid=')]\n",
    "    return url, a, max_page"
   ]
  },
  {
   "cell_type": "code",
   "execution_count": 64,
   "metadata": {},
   "outputs": [],
   "source": [
    "# get_url(a[0])"
   ]
  },
  {
   "cell_type": "code",
   "execution_count": 65,
   "metadata": {},
   "outputs": [
    {
     "name": "stderr",
     "output_type": "stream",
     "text": [
      "100%|███████████████████████████████████████████| 28/28 [00:10<00:00,  2.68it/s]\n"
     ]
    }
   ],
   "source": [
    "r = []\n",
    "for a_ in tqdm(a):\n",
    "    r.append(get_url(a_))"
   ]
  },
  {
   "cell_type": "code",
   "execution_count": 66,
   "metadata": {},
   "outputs": [],
   "source": [
    "with open('portals.json', 'w') as fopen:\n",
    "    json.dump(r, fopen)"
   ]
  },
  {
   "cell_type": "code",
   "execution_count": 67,
   "metadata": {},
   "outputs": [
    {
     "data": {
      "text/plain": [
       "1474"
      ]
     },
     "execution_count": 67,
     "metadata": {},
     "output_type": "execute_result"
    }
   ],
   "source": [
    "urls = []\n",
    "for r_ in r:\n",
    "    url = r_[0]\n",
    "    for i in range(1, r_[2] + 1, 1):\n",
    "        urls.append(url + f'&page={i}')\n",
    "        \n",
    "urls = sorted(list(set(urls)))\n",
    "len(urls)"
   ]
  },
  {
   "cell_type": "code",
   "execution_count": 68,
   "metadata": {},
   "outputs": [],
   "source": [
    "def get_href(url):\n",
    "    while True:\n",
    "        try:\n",
    "            r = requests.get(url, timeout = 10.0)\n",
    "            break\n",
    "        except:\n",
    "            time.sleep(1.0)\n",
    "    return r._content.decode()"
   ]
  },
  {
   "cell_type": "code",
   "execution_count": 69,
   "metadata": {},
   "outputs": [],
   "source": [
    "!rm -rf pages\n",
    "!mkdir pages"
   ]
  },
  {
   "cell_type": "code",
   "execution_count": 70,
   "metadata": {},
   "outputs": [
    {
     "data": {
      "text/plain": [
       "['https://c.cari.com.my/portal.php?mod=list&catid=201&page=1',\n",
       " 'https://c.cari.com.my/portal.php?mod=list&catid=201&page=2',\n",
       " 'https://c.cari.com.my/portal.php?mod=list&catid=219&page=1',\n",
       " 'https://c.cari.com.my/portal.php?mod=list&catid=219&page=10',\n",
       " 'https://c.cari.com.my/portal.php?mod=list&catid=219&page=11',\n",
       " 'https://c.cari.com.my/portal.php?mod=list&catid=219&page=12',\n",
       " 'https://c.cari.com.my/portal.php?mod=list&catid=219&page=13',\n",
       " 'https://c.cari.com.my/portal.php?mod=list&catid=219&page=14',\n",
       " 'https://c.cari.com.my/portal.php?mod=list&catid=219&page=15',\n",
       " 'https://c.cari.com.my/portal.php?mod=list&catid=219&page=16']"
      ]
     },
     "execution_count": 70,
     "metadata": {},
     "output_type": "execute_result"
    }
   ],
   "source": [
    "urls[:10]"
   ]
  },
  {
   "cell_type": "code",
   "execution_count": 77,
   "metadata": {},
   "outputs": [
    {
     "name": "stderr",
     "output_type": "stream",
     "text": [
      "100%|█████████████████████████████████████████| 148/148 [01:54<00:00,  1.29it/s]\n"
     ]
    }
   ],
   "source": [
    "import os\n",
    "\n",
    "max_worker = 10\n",
    "\n",
    "for i in tqdm(range(0, len(urls), max_worker)):\n",
    "    \n",
    "    filename = os.path.join('pages', f'{i}.json')\n",
    "    if os.path.exists(filename):\n",
    "        continue\n",
    "    \n",
    "    filtered = []\n",
    "    \n",
    "    with ThreadPoolExecutor(max_workers=max_worker) as executor:\n",
    "        futures = {executor.submit(get_href, url): url for url in urls[i: i + max_worker]}\n",
    "\n",
    "        for future in as_completed(futures):\n",
    "            filtered.append(future.result())\n",
    "    \n",
    "    with open(filename, 'w') as fopen:\n",
    "        json.dump(filtered, fopen)"
   ]
  },
  {
   "cell_type": "code",
   "execution_count": 78,
   "metadata": {},
   "outputs": [],
   "source": [
    "def parse(content):\n",
    "    soup = BeautifulSoup(content, \"lxml\")\n",
    "    \n",
    "    a = soup.find_all('a')\n",
    "    a = [a_.get('href') for a_ in a if a_.get('href')]\n",
    "    a = [a_ for a_ in a if a_.startswith('portal.php?mod=view&aid=')]\n",
    "    return a"
   ]
  },
  {
   "cell_type": "code",
   "execution_count": 79,
   "metadata": {},
   "outputs": [
    {
     "data": {
      "text/plain": [
       "['portal.php?mod=view&aid=216754',\n",
       " 'portal.php?mod=view&aid=216754',\n",
       " 'portal.php?mod=view&aid=216755',\n",
       " 'portal.php?mod=view&aid=216755',\n",
       " 'portal.php?mod=view&aid=216844',\n",
       " 'portal.php?mod=view&aid=216844',\n",
       " 'portal.php?mod=view&aid=216772',\n",
       " 'portal.php?mod=view&aid=216772',\n",
       " 'portal.php?mod=view&aid=216763',\n",
       " 'portal.php?mod=view&aid=216763',\n",
       " 'portal.php?mod=view&aid=216719',\n",
       " 'portal.php?mod=view&aid=216719',\n",
       " 'portal.php?mod=view&aid=216741',\n",
       " 'portal.php?mod=view&aid=216741',\n",
       " 'portal.php?mod=view&aid=216740',\n",
       " 'portal.php?mod=view&aid=216740',\n",
       " 'portal.php?mod=view&aid=216733',\n",
       " 'portal.php?mod=view&aid=216733',\n",
       " 'portal.php?mod=view&aid=216720',\n",
       " 'portal.php?mod=view&aid=216720',\n",
       " 'portal.php?mod=view&aid=216731',\n",
       " 'portal.php?mod=view&aid=216731',\n",
       " 'portal.php?mod=view&aid=216730',\n",
       " 'portal.php?mod=view&aid=216730',\n",
       " 'portal.php?mod=view&aid=216729',\n",
       " 'portal.php?mod=view&aid=216729',\n",
       " 'portal.php?mod=view&aid=216718',\n",
       " 'portal.php?mod=view&aid=216718',\n",
       " 'portal.php?mod=view&aid=216717',\n",
       " 'portal.php?mod=view&aid=216717',\n",
       " 'portal.php?mod=view&aid=216716',\n",
       " 'portal.php?mod=view&aid=216716',\n",
       " 'portal.php?mod=view&aid=216715',\n",
       " 'portal.php?mod=view&aid=216715',\n",
       " 'portal.php?mod=view&aid=216696',\n",
       " 'portal.php?mod=view&aid=216696',\n",
       " 'portal.php?mod=view&aid=216694',\n",
       " 'portal.php?mod=view&aid=216694',\n",
       " 'portal.php?mod=view&aid=216687',\n",
       " 'portal.php?mod=view&aid=216687',\n",
       " 'portal.php?mod=view&aid=216686',\n",
       " 'portal.php?mod=view&aid=216686',\n",
       " 'portal.php?mod=view&aid=216682',\n",
       " 'portal.php?mod=view&aid=216682',\n",
       " 'portal.php?mod=view&aid=216681',\n",
       " 'portal.php?mod=view&aid=216681',\n",
       " 'portal.php?mod=view&aid=216680',\n",
       " 'portal.php?mod=view&aid=216680',\n",
       " 'portal.php?mod=view&aid=216673',\n",
       " 'portal.php?mod=view&aid=216673',\n",
       " 'portal.php?mod=view&aid=216658',\n",
       " 'portal.php?mod=view&aid=216658',\n",
       " 'portal.php?mod=view&aid=216655',\n",
       " 'portal.php?mod=view&aid=216655',\n",
       " 'portal.php?mod=view&aid=216654',\n",
       " 'portal.php?mod=view&aid=216654',\n",
       " 'portal.php?mod=view&aid=216651',\n",
       " 'portal.php?mod=view&aid=216651',\n",
       " 'portal.php?mod=view&aid=216650',\n",
       " 'portal.php?mod=view&aid=216650',\n",
       " 'portal.php?mod=view&aid=216642',\n",
       " 'portal.php?mod=view&aid=216642',\n",
       " 'portal.php?mod=view&aid=216641',\n",
       " 'portal.php?mod=view&aid=216641',\n",
       " 'portal.php?mod=view&aid=216640',\n",
       " 'portal.php?mod=view&aid=216640',\n",
       " 'portal.php?mod=view&aid=216639',\n",
       " 'portal.php?mod=view&aid=216639',\n",
       " 'portal.php?mod=view&aid=216611',\n",
       " 'portal.php?mod=view&aid=216611',\n",
       " 'portal.php?mod=view&aid=216610',\n",
       " 'portal.php?mod=view&aid=216610',\n",
       " 'portal.php?mod=view&aid=216596',\n",
       " 'portal.php?mod=view&aid=216596',\n",
       " 'portal.php?mod=view&aid=216595',\n",
       " 'portal.php?mod=view&aid=216595',\n",
       " 'portal.php?mod=view&aid=216594',\n",
       " 'portal.php?mod=view&aid=216594',\n",
       " 'portal.php?mod=view&aid=216564',\n",
       " 'portal.php?mod=view&aid=216564',\n",
       " 'portal.php?mod=view&aid=216572',\n",
       " 'portal.php?mod=view&aid=216572',\n",
       " 'portal.php?mod=view&aid=216578',\n",
       " 'portal.php?mod=view&aid=216578',\n",
       " 'portal.php?mod=view&aid=216566',\n",
       " 'portal.php?mod=view&aid=216566',\n",
       " 'portal.php?mod=view&aid=216562',\n",
       " 'portal.php?mod=view&aid=216562',\n",
       " 'portal.php?mod=view&aid=216534',\n",
       " 'portal.php?mod=view&aid=216534',\n",
       " 'portal.php?mod=view&aid=216519',\n",
       " 'portal.php?mod=view&aid=216519',\n",
       " 'portal.php?mod=view&aid=216518',\n",
       " 'portal.php?mod=view&aid=216518',\n",
       " 'portal.php?mod=view&aid=216516',\n",
       " 'portal.php?mod=view&aid=216516',\n",
       " 'portal.php?mod=view&aid=216515',\n",
       " 'portal.php?mod=view&aid=216515',\n",
       " 'portal.php?mod=view&aid=216493',\n",
       " 'portal.php?mod=view&aid=216493',\n",
       " 'portal.php?mod=view&aid=217722',\n",
       " 'portal.php?mod=view&aid=217722',\n",
       " 'portal.php?mod=view&aid=218129',\n",
       " 'portal.php?mod=view&aid=218129',\n",
       " 'portal.php?mod=view&aid=217796',\n",
       " 'portal.php?mod=view&aid=217796',\n",
       " 'portal.php?mod=view&aid=218246',\n",
       " 'portal.php?mod=view&aid=218246',\n",
       " 'portal.php?mod=view&aid=217841',\n",
       " 'portal.php?mod=view&aid=217841',\n",
       " 'portal.php?mod=view&aid=218086',\n",
       " 'portal.php?mod=view&aid=218086',\n",
       " 'portal.php?mod=view&aid=218085',\n",
       " 'portal.php?mod=view&aid=218085',\n",
       " 'portal.php?mod=view&aid=218103',\n",
       " 'portal.php?mod=view&aid=218103',\n",
       " 'portal.php?mod=view&aid=218157',\n",
       " 'portal.php?mod=view&aid=218157',\n",
       " 'portal.php?mod=view&aid=218110',\n",
       " 'portal.php?mod=view&aid=218110']"
      ]
     },
     "execution_count": 79,
     "metadata": {},
     "output_type": "execute_result"
    }
   ],
   "source": [
    "parse(filtered[0])"
   ]
  },
  {
   "cell_type": "code",
   "execution_count": 80,
   "metadata": {},
   "outputs": [
    {
     "data": {
      "text/plain": [
       "['portal.php?mod=view&aid=215909',\n",
       " 'portal.php?mod=view&aid=215909',\n",
       " 'portal.php?mod=view&aid=215911',\n",
       " 'portal.php?mod=view&aid=215911',\n",
       " 'portal.php?mod=view&aid=215910',\n",
       " 'portal.php?mod=view&aid=215910',\n",
       " 'portal.php?mod=view&aid=215907',\n",
       " 'portal.php?mod=view&aid=215907',\n",
       " 'portal.php?mod=view&aid=215902',\n",
       " 'portal.php?mod=view&aid=215902',\n",
       " 'portal.php?mod=view&aid=215901',\n",
       " 'portal.php?mod=view&aid=215901',\n",
       " 'portal.php?mod=view&aid=215900',\n",
       " 'portal.php?mod=view&aid=215900',\n",
       " 'portal.php?mod=view&aid=215899',\n",
       " 'portal.php?mod=view&aid=215899',\n",
       " 'portal.php?mod=view&aid=215898',\n",
       " 'portal.php?mod=view&aid=215898',\n",
       " 'portal.php?mod=view&aid=215871',\n",
       " 'portal.php?mod=view&aid=215871',\n",
       " 'portal.php?mod=view&aid=215872',\n",
       " 'portal.php?mod=view&aid=215872',\n",
       " 'portal.php?mod=view&aid=215865',\n",
       " 'portal.php?mod=view&aid=215865',\n",
       " 'portal.php?mod=view&aid=215862',\n",
       " 'portal.php?mod=view&aid=215862',\n",
       " 'portal.php?mod=view&aid=215861',\n",
       " 'portal.php?mod=view&aid=215861',\n",
       " 'portal.php?mod=view&aid=215864',\n",
       " 'portal.php?mod=view&aid=215864',\n",
       " 'portal.php?mod=view&aid=215863',\n",
       " 'portal.php?mod=view&aid=215863',\n",
       " 'portal.php?mod=view&aid=215831',\n",
       " 'portal.php?mod=view&aid=215831',\n",
       " 'portal.php?mod=view&aid=215830',\n",
       " 'portal.php?mod=view&aid=215830',\n",
       " 'portal.php?mod=view&aid=215824',\n",
       " 'portal.php?mod=view&aid=215824',\n",
       " 'portal.php?mod=view&aid=215787',\n",
       " 'portal.php?mod=view&aid=215787',\n",
       " 'portal.php?mod=view&aid=215792',\n",
       " 'portal.php?mod=view&aid=215792',\n",
       " 'portal.php?mod=view&aid=215759',\n",
       " 'portal.php?mod=view&aid=215759',\n",
       " 'portal.php?mod=view&aid=215755',\n",
       " 'portal.php?mod=view&aid=215755',\n",
       " 'portal.php?mod=view&aid=215773',\n",
       " 'portal.php?mod=view&aid=215773',\n",
       " 'portal.php?mod=view&aid=215758',\n",
       " 'portal.php?mod=view&aid=215758',\n",
       " 'portal.php?mod=view&aid=215750',\n",
       " 'portal.php?mod=view&aid=215750',\n",
       " 'portal.php?mod=view&aid=215749',\n",
       " 'portal.php?mod=view&aid=215749',\n",
       " 'portal.php?mod=view&aid=215748',\n",
       " 'portal.php?mod=view&aid=215748',\n",
       " 'portal.php?mod=view&aid=215747',\n",
       " 'portal.php?mod=view&aid=215747',\n",
       " 'portal.php?mod=view&aid=215713',\n",
       " 'portal.php?mod=view&aid=215713',\n",
       " 'portal.php?mod=view&aid=215725',\n",
       " 'portal.php?mod=view&aid=215725',\n",
       " 'portal.php?mod=view&aid=215712',\n",
       " 'portal.php?mod=view&aid=215712',\n",
       " 'portal.php?mod=view&aid=215711',\n",
       " 'portal.php?mod=view&aid=215711',\n",
       " 'portal.php?mod=view&aid=215702',\n",
       " 'portal.php?mod=view&aid=215702',\n",
       " 'portal.php?mod=view&aid=215701',\n",
       " 'portal.php?mod=view&aid=215701',\n",
       " 'portal.php?mod=view&aid=215700',\n",
       " 'portal.php?mod=view&aid=215700',\n",
       " 'portal.php?mod=view&aid=215704',\n",
       " 'portal.php?mod=view&aid=215704',\n",
       " 'portal.php?mod=view&aid=215703',\n",
       " 'portal.php?mod=view&aid=215703',\n",
       " 'portal.php?mod=view&aid=215662',\n",
       " 'portal.php?mod=view&aid=215662',\n",
       " 'portal.php?mod=view&aid=215660',\n",
       " 'portal.php?mod=view&aid=215660',\n",
       " 'portal.php?mod=view&aid=215657',\n",
       " 'portal.php?mod=view&aid=215657',\n",
       " 'portal.php?mod=view&aid=215655',\n",
       " 'portal.php?mod=view&aid=215655',\n",
       " 'portal.php?mod=view&aid=215651',\n",
       " 'portal.php?mod=view&aid=215651',\n",
       " 'portal.php?mod=view&aid=215652',\n",
       " 'portal.php?mod=view&aid=215652',\n",
       " 'portal.php?mod=view&aid=215656',\n",
       " 'portal.php?mod=view&aid=215656',\n",
       " 'portal.php?mod=view&aid=215622',\n",
       " 'portal.php?mod=view&aid=215622',\n",
       " 'portal.php?mod=view&aid=215620',\n",
       " 'portal.php?mod=view&aid=215620',\n",
       " 'portal.php?mod=view&aid=215621',\n",
       " 'portal.php?mod=view&aid=215621',\n",
       " 'portal.php?mod=view&aid=215616',\n",
       " 'portal.php?mod=view&aid=215616',\n",
       " 'portal.php?mod=view&aid=215579',\n",
       " 'portal.php?mod=view&aid=215579',\n",
       " 'portal.php?mod=view&aid=217722',\n",
       " 'portal.php?mod=view&aid=217722',\n",
       " 'portal.php?mod=view&aid=218129',\n",
       " 'portal.php?mod=view&aid=218129',\n",
       " 'portal.php?mod=view&aid=217796',\n",
       " 'portal.php?mod=view&aid=217796',\n",
       " 'portal.php?mod=view&aid=218246',\n",
       " 'portal.php?mod=view&aid=218246',\n",
       " 'portal.php?mod=view&aid=217841',\n",
       " 'portal.php?mod=view&aid=217841',\n",
       " 'portal.php?mod=view&aid=218086',\n",
       " 'portal.php?mod=view&aid=218086',\n",
       " 'portal.php?mod=view&aid=218085',\n",
       " 'portal.php?mod=view&aid=218085',\n",
       " 'portal.php?mod=view&aid=218103',\n",
       " 'portal.php?mod=view&aid=218103',\n",
       " 'portal.php?mod=view&aid=218157',\n",
       " 'portal.php?mod=view&aid=218157',\n",
       " 'portal.php?mod=view&aid=218110',\n",
       " 'portal.php?mod=view&aid=218110']"
      ]
     },
     "execution_count": 80,
     "metadata": {},
     "output_type": "execute_result"
    }
   ],
   "source": [
    "parse(filtered[1])"
   ]
  },
  {
   "cell_type": "code",
   "execution_count": null,
   "metadata": {},
   "outputs": [],
   "source": []
  }
 ],
 "metadata": {
  "kernelspec": {
   "display_name": "Python 3 (ipykernel)",
   "language": "python",
   "name": "python3"
  },
  "language_info": {
   "codemirror_mode": {
    "name": "ipython",
    "version": 3
   },
   "file_extension": ".py",
   "mimetype": "text/x-python",
   "name": "python",
   "nbconvert_exporter": "python",
   "pygments_lexer": "ipython3",
   "version": "3.8.10"
  }
 },
 "nbformat": 4,
 "nbformat_minor": 4
}
