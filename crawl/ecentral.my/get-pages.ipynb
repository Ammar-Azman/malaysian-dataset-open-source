{
 "cells": [
  {
   "cell_type": "code",
   "execution_count": 1,
   "metadata": {},
   "outputs": [],
   "source": [
    "import requests\n",
    "from bs4 import BeautifulSoup\n",
    "from tqdm import tqdm\n",
    "import os\n",
    "import json\n",
    "import numpy as np\n",
    "import time\n",
    "import random\n",
    "import json"
   ]
  },
  {
   "cell_type": "code",
   "execution_count": 3,
   "metadata": {},
   "outputs": [
    {
     "name": "stderr",
     "output_type": "stream",
     "text": [
      "100%|██████████████████████████████████████| 277/277 [00:00<00:00, 69728.86it/s]\n"
     ]
    },
    {
     "data": {
      "text/plain": [
       "(1933, 277)"
      ]
     },
     "execution_count": 3,
     "metadata": {},
     "output_type": "execute_result"
    }
   ],
   "source": [
    "from glob import glob\n",
    "\n",
    "files = glob('url/*.json')\n",
    "urls = []\n",
    "for f in tqdm(files):\n",
    "    with open(f) as fopen:\n",
    "        urls.extend(json.load(fopen))\n",
    "urls = sorted(list(set(urls)))\n",
    "len(urls), len(files)"
   ]
  },
  {
   "cell_type": "code",
   "execution_count": 4,
   "metadata": {},
   "outputs": [],
   "source": [
    "r = requests.get(urls[0])\n",
    "soup = BeautifulSoup(r.content, \"lxml\")"
   ]
  },
  {
   "cell_type": "code",
   "execution_count": 5,
   "metadata": {},
   "outputs": [
    {
     "data": {
      "text/plain": [
       "'1 Kaki Berapa Cm? (Semak Ukuran ft (1′) Kepada Sentimeter)'"
      ]
     },
     "execution_count": 5,
     "metadata": {},
     "output_type": "execute_result"
    }
   ],
   "source": [
    "soup.find('h1').text"
   ]
  },
  {
   "cell_type": "code",
   "execution_count": 7,
   "metadata": {},
   "outputs": [
    {
     "data": {
      "text/plain": [
       "['\\n\\n\\n\\n',\n",
       " '\\n\\n\\n\\n\\n\\n\\n\\n1 Kaki Berapa Cm? Ukuran ft Kepada sentimeter\\nMungkin anda pernah di tanya, “1 kaki bersamaan berapa sentimeter (cm)”?\\nSoalan ini mungkin mudah bagi sesetengah orang namun mungkin sukar bagi sesetengah yang lain.\\nTerdapat banyak jenis ukuran yang digunakan untuk mengukur “panjang”, termasuklah unik kaki, sentimeter, ela, inci dan banyak lagi.\\nBagi menjawap persoalan  “1 kaki berapa sentimeter (sm)” ini, jawapannya adalah 1 kaki adalah bersamaan dengan 30.48 sentimeter atau 0.3048 meter.\\n \\nIsi Kandungan \\ntunjuk\\n\\n\\n\\n \\nAsal-usul unit “kaki”\\n\\n \\nUnit metrik\\n\\n \\nPertukaran unit kaki ke cm\\n\\n \\nKalkulator online bagi ukuran dalam unit Kaki ke cm\\n\\n\\nAsal-usul unit “kaki”\\nDalam bahasa Inggeris, unit “kaki” disebut sebagai “foot” atau “feet”.\\nKaki (simbol piawai: ft) ialah unit panjang dalam sistem ukuran adat empayar British dan Amerika Syarikat. \\nSimbol perdana, ′, ialah simbol alternatif yang lazim digunakan. \\n\\n\\n\\n\\n\\n\\nDalam kedua-dua unit adat dan empayar, satu kaki terdiri daripada 12 inci, dan satu ela terdiri daripada tiga kaki.\\nDari segi sejarah, “kaki” adalah sebahagian daripada banyak sistem unit tempatan, termasuk sistem Yunani, Rom, Cina, Perancis dan Inggeris. \\nPanjangnya berbeza-beza dari negara ke negara, dari bandar ke bandar, dan kadang-kadang dari perdagangan ke perdagangan. \\nPanjangnya biasanya antara 250 mm dan 335 mm dan secara amnya, tetapi tidak selalu, dibahagikan kepada 12 inci atau 16 digit.\\nAmerika Syarikat ialah satu-satunya negara perindustrian yang menggunakan unit kaki antarabangsa berbanding meter dalam aktiviti komersial, kejuruteraan dan piawaiannya.\\nUnit “kaki” diiktiraf secara sah di United Kingdom; papan tanda jalan mesti menggunakan unit imperial (namun, jarak pada papan tanda jalan sentiasa ditanda dalam batu atau ela, bukan kaki), manakala penggunaannya meluas di kalangan orang awam British sebagai ukuran ketinggian.\\nArtikel berkaitan: Ujian Psikometrik SPA : Contoh Soalan, Jawapan & Panduan\\nUnit metrik\\nSentimeter adalah unit panjang dalam sistem metrik, yang bersamaan dengan satu-per seratus dari\\xa0meter.\\n1 sentimeter bersamaan dengan 0.39370\\xa0inci.\\n\\nPertukaran unit kaki ke cm\\nNamun, dari manakah datangnya nombor 1 kaki bersamaan 30.48 cm atau (0.3048 meter) ini?\\nPada tahun 1959 perjanjian untuk ela dan paun (antara Syarikat Amerika dan negara-negara Komanwel) ditakrifkan bahawa satu ela tepat 0.9144 meter, yang seterusnya ditakrifkan bahawa satu kaki tepat 0.3048 meter (304.8 mm).\\nMaka, untuk menukar unit kaki ke sentimeter, anda hanya perlu mendarabkan nombor tersebut dengan 30.48, misalnya:\\n10 kaki x 30.48 = 304.80  sentimeter\\nSimbol inci & kaki adalah seperti berikut:\\nInci “\\nKaki ‘\\nApabila penukaran dari 1 meter kepada kaki biasanya digenabkan menjadi 3.3 kaki. Tetapi bacaan yang tepat untuk 1 meter bersamaan dengan\\n3.28084 kaki\\n1cm=10mm\\n1 inci=2.5cm\\n1kaki=12inci\\n1meter=3.28 kaki\\nKalkulator online bagi ukuran dalam unit Kaki ke cm\\nAdakalanya anda perlu menukar dari unit kaki ke sentimeter/meter dan sebaliknya namun anda tidak mengingati bagaimana caranya.\\nCara paling mudah menukar uni adalah dengan menggunakan fungsi kalkulator online.\\nBagaimana caranya?\\nTaip sahaja di pelayar web anda “convert feet to cm” dan seumpamnya, anda akan diberikan hasil carian laman-laman web yang menyediakan kalkulator online ini.\\nSelain dua unit ini, anda juga boleh membuat pertukaran pelbagai unit lain secara dalam talian juga.\\nAntara kalkulator online yang boleh anda cuba adalah seperti berikut:\\n\\nMetric Conversions\\nUnit Converters\\nOmni Calculators\\n\\n']"
      ]
     },
     "execution_count": 7,
     "metadata": {},
     "output_type": "execute_result"
    }
   ],
   "source": [
    "div = soup.find_all('div', {'class':\"entry-content\"})\n",
    "body = [div_.text for div_ in div]\n",
    "body"
   ]
  },
  {
   "cell_type": "code",
   "execution_count": 8,
   "metadata": {},
   "outputs": [],
   "source": [
    "!rm -rf page\n",
    "!mkdir page"
   ]
  },
  {
   "cell_type": "code",
   "execution_count": 9,
   "metadata": {},
   "outputs": [
    {
     "name": "stderr",
     "output_type": "stream",
     "text": [
      "1933it [07:29,  4.30it/s]\n"
     ]
    }
   ],
   "source": [
    "for no, url in tqdm(enumerate(urls)):\n",
    "    filename = os.path.join('page', f'{no}.json')\n",
    "    if os.path.exists(filename):\n",
    "        continue\n",
    "    \n",
    "    while True:\n",
    "        try:\n",
    "            r = requests.get(url)\n",
    "            break\n",
    "        except:\n",
    "            time.sleep(1.0)\n",
    "            \n",
    "    soup = BeautifulSoup(r.content, \"lxml\")\n",
    "\n",
    "    try:\n",
    "        title = soup.find('h1').text.strip()\n",
    "    except Exception as e:\n",
    "        title = None\n",
    "\n",
    "    try:\n",
    "        div = soup.find_all('div', {'class':\"entry-content\"})\n",
    "        body = [div_.text for div_ in div]\n",
    "    except Exception as e:\n",
    "        body = None\n",
    "\n",
    "    data = {\n",
    "        'url': url,\n",
    "        'title': title,\n",
    "        'body': body,\n",
    "    }\n",
    "    with open(filename, 'w') as fopen:\n",
    "        json.dump(data, fopen)"
   ]
  },
  {
   "cell_type": "code",
   "execution_count": null,
   "metadata": {},
   "outputs": [],
   "source": []
  }
 ],
 "metadata": {
  "kernelspec": {
   "display_name": "Python 3 (ipykernel)",
   "language": "python",
   "name": "python3"
  },
  "language_info": {
   "codemirror_mode": {
    "name": "ipython",
    "version": 3
   },
   "file_extension": ".py",
   "mimetype": "text/x-python",
   "name": "python",
   "nbconvert_exporter": "python",
   "pygments_lexer": "ipython3",
   "version": "3.8.10"
  }
 },
 "nbformat": 4,
 "nbformat_minor": 4
}
