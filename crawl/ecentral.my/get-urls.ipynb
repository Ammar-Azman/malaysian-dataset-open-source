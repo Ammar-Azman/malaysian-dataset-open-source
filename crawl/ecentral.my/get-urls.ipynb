{
 "cells": [
  {
   "cell_type": "code",
   "execution_count": 1,
   "metadata": {},
   "outputs": [],
   "source": [
    "import requests\n",
    "from bs4 import BeautifulSoup\n",
    "from tqdm import tqdm\n",
    "import os\n",
    "import json\n",
    "import numpy as np\n",
    "import time\n",
    "import random\n",
    "import json\n",
    "from concurrent.futures import ThreadPoolExecutor, as_completed"
   ]
  },
  {
   "cell_type": "code",
   "execution_count": 2,
   "metadata": {},
   "outputs": [],
   "source": [
    "r = requests.get('https://ecentral.my/page/108/')\n",
    "soup = BeautifulSoup(r.content, \"lxml\")"
   ]
  },
  {
   "cell_type": "code",
   "execution_count": 3,
   "metadata": {},
   "outputs": [
    {
     "data": {
      "text/plain": [
       "['https://ecentral.my/harga-siling-baru-ayam-telur/',\n",
       " 'https://ecentral.my/cara-elak-kena-add-telegram/',\n",
       " 'https://ecentral.my/bantuan-khas-kewangan-pesara-aidilfitri-2023/',\n",
       " 'https://ecentral.my/semak-semula-keputusan-stpm/',\n",
       " 'https://ecentral.my/jom-cha-by-farm-fresh/',\n",
       " 'https://ecentral.my/empire-sushi-malaysia/',\n",
       " 'https://ecentral.my/pemerhati-pru15-spr/']"
      ]
     },
     "execution_count": 3,
     "metadata": {},
     "output_type": "execute_result"
    }
   ],
   "source": [
    "a = soup.find_all('a', {'rel':\"bookmark\"})\n",
    "a = [a_.get('href') for a_ in a]\n",
    "a"
   ]
  },
  {
   "cell_type": "code",
   "execution_count": 4,
   "metadata": {},
   "outputs": [],
   "source": [
    "!rm -rf url\n",
    "!mkdir url"
   ]
  },
  {
   "cell_type": "code",
   "execution_count": null,
   "metadata": {},
   "outputs": [
    {
     "name": "stderr",
     "output_type": "stream",
     "text": [
      " 89%|████████████████████████████████████▌    | 247/277 [01:46<00:11,  2.65it/s]"
     ]
    }
   ],
   "source": [
    "for i in tqdm(range(1, 278, 1)):\n",
    "    filename = os.path.join('url', f'{i}.json')\n",
    "    if os.path.exists(filename):\n",
    "        continue\n",
    "    r = requests.get(f'https://ecentral.my/page/{i}/')\n",
    "    soup = BeautifulSoup(r.content, \"lxml\")\n",
    "    a = soup.find_all('a', {'rel':\"bookmark\"})\n",
    "    a = [a_.get('href') for a_ in a]\n",
    "    \n",
    "    with open(filename, 'w') as fopen:\n",
    "        json.dump(a, fopen)"
   ]
  },
  {
   "cell_type": "code",
   "execution_count": null,
   "metadata": {},
   "outputs": [],
   "source": []
  }
 ],
 "metadata": {
  "kernelspec": {
   "display_name": "Python 3 (ipykernel)",
   "language": "python",
   "name": "python3"
  },
  "language_info": {
   "codemirror_mode": {
    "name": "ipython",
    "version": 3
   },
   "file_extension": ".py",
   "mimetype": "text/x-python",
   "name": "python",
   "nbconvert_exporter": "python",
   "pygments_lexer": "ipython3",
   "version": "3.8.10"
  }
 },
 "nbformat": 4,
 "nbformat_minor": 4
}
