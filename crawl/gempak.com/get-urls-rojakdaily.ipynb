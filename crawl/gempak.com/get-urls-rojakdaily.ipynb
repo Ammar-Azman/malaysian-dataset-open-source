{
 "cells": [
  {
   "cell_type": "code",
   "execution_count": 3,
   "metadata": {},
   "outputs": [],
   "source": [
    "import requests\n",
    "\n",
    "headers = {\n",
    "    'authority': 'dce-gempak-api-prd.eco.astro.com.my',\n",
    "    'accept': '*/*',\n",
    "    'accept-language': 'en-MY,en;q=0.9,en-US;q=0.8,ms;q=0.7',\n",
    "    'cache-control': 'no-cache',\n",
    "    'origin': 'https://gempak.com',\n",
    "    'pragma': 'no-cache',\n",
    "    'referer': 'https://gempak.com/rojakdaily',\n",
    "    'sec-ch-ua': '\"Not.A/Brand\";v=\"8\", \"Chromium\";v=\"114\", \"Google Chrome\";v=\"114\"',\n",
    "    'sec-ch-ua-mobile': '?0',\n",
    "    'sec-ch-ua-platform': '\"macOS\"',\n",
    "    'sec-fetch-dest': 'empty',\n",
    "    'sec-fetch-mode': 'cors',\n",
    "    'sec-fetch-site': 'cross-site',\n",
    "    'user-agent': 'Mozilla/5.0 (Macintosh; Intel Mac OS X 10_15_7) AppleWebKit/537.36 (KHTML, like Gecko) Chrome/114.0.0.0 Safari/537.36',\n",
    "}\n",
    "\n",
    "params = {\n",
    "    'siteId': '1',\n",
    "    'pillarCategoryId': '1492',\n",
    "    'language': 'en',\n",
    "    'type': 'article',\n",
    "    'pageSize': '100',\n",
    "    'pageNumber': '3',\n",
    "}\n",
    "\n",
    "response = requests.get('https://dce-gempak-api-prd.eco.astro.com.my/v1/feed', params=params, headers=headers)"
   ]
  },
  {
   "cell_type": "code",
   "execution_count": 2,
   "metadata": {},
   "outputs": [],
   "source": [
    "!mkdir url-rojakdaily"
   ]
  },
  {
   "cell_type": "code",
   "execution_count": 6,
   "metadata": {},
   "outputs": [
    {
     "name": "stderr",
     "output_type": "stream",
     "text": [
      "100it [00:14,  6.83it/s]\n"
     ]
    }
   ],
   "source": [
    "from tqdm import tqdm\n",
    "import json\n",
    "import os\n",
    "\n",
    "def generator():\n",
    "    while True:\n",
    "        yield\n",
    "\n",
    "\n",
    "index = 1\n",
    "for _ in tqdm(generator()):\n",
    "    filename = os.path.join('url-rojakdaily', f'{index}.json')\n",
    "    if os.path.exists(filename):\n",
    "        index += 1\n",
    "        continue\n",
    "        \n",
    "    params = {\n",
    "        'siteId': '1',\n",
    "        'pillarCategoryId': '1492',\n",
    "        'language': 'en',\n",
    "        'type': 'article',\n",
    "        'pageSize': '100',\n",
    "        'pageNumber': str(index),\n",
    "    }\n",
    "    \n",
    "    response = requests.get('https://dce-gempak-api-prd.eco.astro.com.my/v1/feed', params=params, headers=headers)\n",
    "    r = response.json()\n",
    "    if r['responseCode'] != 200:\n",
    "        break\n",
    "    \n",
    "    with open(filename, 'w') as fopen:\n",
    "        json.dump(r, fopen)\n",
    "    \n",
    "    index += 1"
   ]
  },
  {
   "cell_type": "code",
   "execution_count": 7,
   "metadata": {},
   "outputs": [],
   "source": [
    "import re\n",
    "\n",
    "def get_title(row):\n",
    "    title = row['title']\n",
    "    id = row['id']\n",
    "    string = re.sub('[^a-z0-9 ]+', '', title.lower())\n",
    "    string = re.sub(r'[ ]+', ' ', string).strip().replace(' ', '-')\n",
    "    return f'{string}-{id}'\n",
    "\n",
    "# get_title(r['response'][1])"
   ]
  },
  {
   "cell_type": "code",
   "execution_count": 8,
   "metadata": {},
   "outputs": [],
   "source": [
    "from glob import glob\n",
    "import json"
   ]
  },
  {
   "cell_type": "code",
   "execution_count": 9,
   "metadata": {},
   "outputs": [
    {
     "data": {
      "text/plain": [
       "100"
      ]
     },
     "execution_count": 9,
     "metadata": {},
     "output_type": "execute_result"
    }
   ],
   "source": [
    "files = glob('url-rojakdaily/*.json')\n",
    "len(files)"
   ]
  },
  {
   "cell_type": "code",
   "execution_count": 10,
   "metadata": {},
   "outputs": [],
   "source": [
    "urls = []\n",
    "for f in files:\n",
    "    with open(f) as fopen:\n",
    "        data = json.load(fopen)\n",
    "        \n",
    "    for row in data['response']:\n",
    "        urls.append('https://gempak.com/rojakdaily/entertainment/' + get_title(row))"
   ]
  },
  {
   "cell_type": "code",
   "execution_count": 11,
   "metadata": {
    "scrolled": true
   },
   "outputs": [
    {
     "data": {
      "text/plain": [
       "10000"
      ]
     },
     "execution_count": 11,
     "metadata": {},
     "output_type": "execute_result"
    }
   ],
   "source": [
    "len(set(urls))"
   ]
  },
  {
   "cell_type": "code",
   "execution_count": 12,
   "metadata": {},
   "outputs": [
    {
     "data": {
      "text/plain": [
       "'https://gempak.com/rojakdaily/entertainment/usa-menang-miss-beauty-doll-2018-maya-natasha-dari-malaysia-sekadar-top-10-63660'"
      ]
     },
     "execution_count": 12,
     "metadata": {},
     "output_type": "execute_result"
    }
   ],
   "source": [
    "urls[0]"
   ]
  },
  {
   "cell_type": "code",
   "execution_count": 13,
   "metadata": {},
   "outputs": [],
   "source": [
    "with open('url-dailyrojak.json', 'w') as fopen:\n",
    "    json.dump(list(set(urls)), fopen)"
   ]
  }
 ],
 "metadata": {
  "kernelspec": {
   "display_name": "Python 3 (ipykernel)",
   "language": "python",
   "name": "python3"
  },
  "language_info": {
   "codemirror_mode": {
    "name": "ipython",
    "version": 3
   },
   "file_extension": ".py",
   "mimetype": "text/x-python",
   "name": "python",
   "nbconvert_exporter": "python",
   "pygments_lexer": "ipython3",
   "version": "3.8.10"
  }
 },
 "nbformat": 4,
 "nbformat_minor": 4
}
