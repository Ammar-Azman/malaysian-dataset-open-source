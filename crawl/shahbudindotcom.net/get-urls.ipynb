{
 "cells": [
  {
   "cell_type": "code",
   "execution_count": 1,
   "metadata": {},
   "outputs": [],
   "source": [
    "import requests\n",
    "from bs4 import BeautifulSoup\n",
    "from tqdm import tqdm\n",
    "import os\n",
    "import json\n",
    "import numpy as np\n",
    "import time\n",
    "import random\n",
    "import json\n",
    "import urllib3\n",
    "urllib3.disable_warnings(urllib3.exceptions.InsecureRequestWarning)"
   ]
  },
  {
   "cell_type": "code",
   "execution_count": 2,
   "metadata": {},
   "outputs": [],
   "source": [
    "url = 'https://shahbudindotcom.net/page/2'\n",
    "r = requests.get(url)"
   ]
  },
  {
   "cell_type": "code",
   "execution_count": 3,
   "metadata": {},
   "outputs": [],
   "source": [
    "soup = BeautifulSoup(r.content, \"lxml\")"
   ]
  },
  {
   "cell_type": "code",
   "execution_count": 5,
   "metadata": {},
   "outputs": [
    {
     "data": {
      "text/plain": [
       "['https://shahbudindotcom.net/2023/08/26/yabeda-beduuukecewa-lagilah-geng-geng-penebuk-atap.html',\n",
       " 'https://shahbudindotcom.net/2023/08/25/tak-rasa-malukah-mahiaddin-bila-menantuny-kini-jadi-buruan-interpol-macam-mana-nak-jadi-pm-semula.html',\n",
       " 'https://shahbudindotcom.net/2023/08/24/pengundi-tiga-prk-boleh-berperanan-tutup-kes-cerita-cerita-tukar-kerajaan.html',\n",
       " 'https://shahbudindotcom.net/2023/08/23/dua-negeri-pn-tolak-guna-logo-tema-alternatif-bagi-sambut-hari-merdeka.html',\n",
       " 'https://shahbudindotcom.net/2023/08/22/tiada-ahli-parlimen-bn-berani-letak-jawatan.html',\n",
       " 'https://shahbudindotcom.net/2023/08/21/selepas-berakhir-prn-ke-mana-proklamasi-melayu.html',\n",
       " 'https://shahbudindotcom.net/2023/08/20/guna-tema-hari-kebangsaan-yang-berbeza-perbuatan-derhaka-kepada-raja.html',\n",
       " 'https://shahbudindotcom.net/2023/08/19/tunggu-pemilihan-umno-untuk-buang-zahid-hamidi-bukankah-dia-dapat-jawatan-melalui-usul-tiada-pertandingan-yang-disetujui-akar-umbi.html',\n",
       " 'https://shahbudindotcom.net/2023/08/19/sesuai-kebimbangan-nurul-izzah-aspek-komunikasi-adalah-perkara-no-1-perlu-segera-dirombak.html',\n",
       " 'https://shahbudindotcom.net/2023/08/18/gelombang-hijau-diyakini-tidak-sampai-ke-prk-di-johor.html',\n",
       " 'https://shahbudindotcom.net/2023/08/17/iktibar-keputusan-prn-anwar-tak-harus-berlengah-lagi-lakukan-perubahan-dan-rombakan.html',\n",
       " 'https://shahbudindotcom.net/2023/08/17/kami-kekal-tiga-negeri-majoriti-dua-pertiga-tak-berubah-logik-apa-suruh-saya-berhenti-anwar-tempelak-mahiaddin.html',\n",
       " 'https://shahbudindotcom.net/2023/08/16/sebagaiman-dijanji-amirudin-wajar-dikekal-terajui-selangor.html',\n",
       " 'https://shahbudindotcom.net/2023/08/15/mahiaddin-belum-boleh-tidur-lena.html',\n",
       " 'https://shahbudindotcom.net/2023/08/15/zahid-hamidi-tak-berhasrat-undur-ikrar-bina-semula-kekuatan-parti.html',\n",
       " 'https://shahbudindotcom.net/2023/08/14/mahiaddin-yang-patut-letak-jawatan-hadi-awang-lebih-berwibawa-memimpin-pn.html',\n",
       " 'https://shahbudindotcom.net/2023/08/14/kenapa-pn-pun-mahu-zahid-hamidi-diganti.html',\n",
       " 'https://shahbudindotcom.net/2023/08/13/referendum-tidak-menjadi-anwar-boleh-terus-kekal-hingga-hujung-penggal.html',\n",
       " 'https://shahbudindotcom.net/2023/08/12/pas-kelantan-akan-serah-tiga-calon-mb-kepada-hadi-awang.html',\n",
       " 'https://shahbudindotcom.net/2023/08/11/tukar-mb-tmb-kelantan-sehari-sebelum-pengundian-tunjuk-pas-cuak-dan-terdesak.html']"
      ]
     },
     "execution_count": 5,
     "metadata": {},
     "output_type": "execute_result"
    }
   ],
   "source": [
    "a = soup.find_all('article')\n",
    "a = [a_.find('a').get('href') for a_ in a]\n",
    "a"
   ]
  },
  {
   "cell_type": "code",
   "execution_count": 6,
   "metadata": {},
   "outputs": [
    {
     "name": "stderr",
     "output_type": "stream",
     "text": [
      "320it [08:57,  1.68s/it]\n"
     ]
    }
   ],
   "source": [
    "def generator():\n",
    "    while True:\n",
    "        yield\n",
    "        \n",
    "index = 1\n",
    "all_a = []\n",
    "\n",
    "for _ in tqdm(generator()):\n",
    "    url = f'https://shahbudindotcom.net/page/{index}'\n",
    "    r = requests.get(url)\n",
    "    soup = BeautifulSoup(r.content, \"lxml\")\n",
    "\n",
    "    a = soup.find_all('article')\n",
    "    a = [a_.find('a').get('href') for a_ in a]\n",
    "    \n",
    "    if not len(a):\n",
    "        break\n",
    "        \n",
    "    all_a.extend(a)\n",
    "    \n",
    "    index += 1"
   ]
  },
  {
   "cell_type": "code",
   "execution_count": 8,
   "metadata": {},
   "outputs": [
    {
     "data": {
      "text/plain": [
       "6400"
      ]
     },
     "execution_count": 8,
     "metadata": {},
     "output_type": "execute_result"
    }
   ],
   "source": [
    "urls = sorted(list(set(all_a)))\n",
    "len(urls)"
   ]
  },
  {
   "cell_type": "code",
   "execution_count": 9,
   "metadata": {},
   "outputs": [
    {
     "data": {
      "text/plain": [
       "['https://shahbudindotcom.net/2012/01/19/salam-perkenalan.html',\n",
       " 'https://shahbudindotcom.net/2012/01/19/selamat-datang-ke-rumah-saya.html',\n",
       " 'https://shahbudindotcom.net/2012/01/19/shahrizat-wajar-dibersarakan.html',\n",
       " 'https://shahbudindotcom.net/2012/01/20/adun-bn-paksa-najib-pecat-sdo-selangor.html',\n",
       " 'https://shahbudindotcom.net/2012/01/21/hishammuddin-lari-dari-sembrong-ke.html',\n",
       " 'https://shahbudindotcom.net/2012/01/21/umno-akan-jadi-dinasour.html',\n",
       " 'https://shahbudindotcom.net/2012/01/22/rosmah-boros-lagi-undi-bn-terus.html',\n",
       " 'https://shahbudindotcom.net/2012/01/23/beberapa-lagi-bekas-pemimpin-umno-akan.html',\n",
       " 'https://shahbudindotcom.net/2012/01/24/najib-sukar-tawan-selangor-calon-mb-pun.html',\n",
       " 'https://shahbudindotcom.net/2012/01/26/bagamana-umno-nak-berubah-najib-pun-tak.html']"
      ]
     },
     "execution_count": 9,
     "metadata": {},
     "output_type": "execute_result"
    }
   ],
   "source": [
    "urls[:10]"
   ]
  },
  {
   "cell_type": "code",
   "execution_count": 10,
   "metadata": {},
   "outputs": [],
   "source": [
    "url = urls[0]\n",
    "r = requests.get(url)\n",
    "soup = BeautifulSoup(r.content, \"lxml\")"
   ]
  },
  {
   "cell_type": "code",
   "execution_count": 11,
   "metadata": {},
   "outputs": [
    {
     "data": {
      "text/plain": [
       "'Salam Perkenalan'"
      ]
     },
     "execution_count": 11,
     "metadata": {},
     "output_type": "execute_result"
    }
   ],
   "source": [
    "soup.find('h1').text.strip()"
   ]
  },
  {
   "cell_type": "code",
   "execution_count": 12,
   "metadata": {},
   "outputs": [
    {
     "data": {
      "text/plain": [
       "'Selamat datang ke blog saya semoga anda berpuas hati.Blog ini akan cuba mengupas isu-isu politik semasa demi kepentingan bangsa dan negara. Isu-isu akan dikupas secara kritis, membina dan penuh tanggungjawab. Pembaca juga digalakkan berkongsi maklumat dan cerita untuk kepentingan bersama. Jika ada apa-apa yang menarik untuk dikongsi, sila email ke \\n[email\\xa0protected]\\n.\\n Semoga kita sama-sama dapat membawa negara tercinta ini ke arah yang lebih baik untuk semua orang.\\n Salam daripada saya, Shahbudin Husin.\\n \\n0\\n \\n0\\n \\nvotes\\nArticle Rating\\nKongsikan artikel ini'"
      ]
     },
     "execution_count": 12,
     "metadata": {},
     "output_type": "execute_result"
    }
   ],
   "source": [
    "soup.find('div', {'class': 'entry-content'}).get_text(separator=\"\\n\")"
   ]
  },
  {
   "cell_type": "code",
   "execution_count": 16,
   "metadata": {},
   "outputs": [
    {
     "name": "stderr",
     "output_type": "stream",
     "text": [
      "100%|███████████████████████████████████████████████████████████████████████████████████████████████████████| 6400/6400 [2:51:35<00:00,  1.61s/it]\n"
     ]
    }
   ],
   "source": [
    "data = []\n",
    "for url in tqdm(urls):\n",
    "    r = requests.get(url)\n",
    "    soup = BeautifulSoup(r.content, \"lxml\")\n",
    "    data.append({\n",
    "        'url': url,\n",
    "        'title': soup.find('h1').text.strip(),\n",
    "        'body': soup.find('div', {'class': 'entry-content'}).get_text(separator=\"\\n\"),\n",
    "    })"
   ]
  },
  {
   "cell_type": "code",
   "execution_count": 17,
   "metadata": {},
   "outputs": [
    {
     "data": {
      "text/plain": [
       "{'url': 'https://shahbudindotcom.net/2012/01/19/salam-perkenalan.html',\n",
       " 'title': 'Salam Perkenalan',\n",
       " 'body': 'Selamat datang ke blog saya semoga anda berpuas hati.Blog ini akan cuba mengupas isu-isu politik semasa demi kepentingan bangsa dan negara. Isu-isu akan dikupas secara kritis, membina dan penuh tanggungjawab. Pembaca juga digalakkan berkongsi maklumat dan cerita untuk kepentingan bersama. Jika ada apa-apa yang menarik untuk dikongsi, sila email ke \\n[email\\xa0protected]\\n.\\n Semoga kita sama-sama dapat membawa negara tercinta ini ke arah yang lebih baik untuk semua orang.\\n Salam daripada saya, Shahbudin Husin.\\n \\n0\\n \\n0\\n \\nvotes\\nArticle Rating\\nKongsikan artikel ini'}"
      ]
     },
     "execution_count": 17,
     "metadata": {},
     "output_type": "execute_result"
    }
   ],
   "source": [
    "data[0]"
   ]
  },
  {
   "cell_type": "code",
   "execution_count": 19,
   "metadata": {},
   "outputs": [],
   "source": [
    "with open('shahbudindotcom.net.jsonl', 'w') as fopen:\n",
    "    for d in data:\n",
    "        fopen.write(f'{json.dumps(d)}\\n')"
   ]
  }
 ],
 "metadata": {
  "kernelspec": {
   "display_name": "Python 3 (ipykernel)",
   "language": "python",
   "name": "python3"
  },
  "language_info": {
   "codemirror_mode": {
    "name": "ipython",
    "version": 3
   },
   "file_extension": ".py",
   "mimetype": "text/x-python",
   "name": "python",
   "nbconvert_exporter": "python",
   "pygments_lexer": "ipython3",
   "version": "3.8.10"
  }
 },
 "nbformat": 4,
 "nbformat_minor": 4
}
