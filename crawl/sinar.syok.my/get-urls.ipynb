{
 "cells": [
  {
   "cell_type": "code",
   "execution_count": 1,
   "metadata": {},
   "outputs": [],
   "source": [
    "import requests\n",
    "from bs4 import BeautifulSoup\n",
    "from tqdm import tqdm\n",
    "import os\n",
    "import json\n",
    "import numpy as np\n",
    "import time\n",
    "import random\n",
    "import json\n",
    "import urllib3\n",
    "urllib3.disable_warnings(urllib3.exceptions.InsecureRequestWarning)"
   ]
  },
  {
   "cell_type": "code",
   "execution_count": 2,
   "metadata": {},
   "outputs": [],
   "source": [
    "r = requests.get('https://sinar.syok.my/interaktif/buletin-petronas?page=2')\n",
    "soup = BeautifulSoup(r.content, \"lxml\")"
   ]
  },
  {
   "cell_type": "code",
   "execution_count": 7,
   "metadata": {},
   "outputs": [
    {
     "data": {
      "text/plain": [
       "['/interaktif/buletin-petronas/Article.aspx?node=153861',\n",
       " '/interaktif/buletin-petronas/Article.aspx?node=153861',\n",
       " '/interaktif/buletin-petronas/Article.aspx?node=153791',\n",
       " '/interaktif/buletin-petronas/Article.aspx?node=153791',\n",
       " '/interaktif/buletin-petronas/Article.aspx?node=153745',\n",
       " '/interaktif/buletin-petronas/Article.aspx?node=153745',\n",
       " '/interaktif/buletin-petronas/Article.aspx?node=153711',\n",
       " '/interaktif/buletin-petronas/Article.aspx?node=153711',\n",
       " '/interaktif/buletin-petronas/Article.aspx?node=153643',\n",
       " '/interaktif/buletin-petronas/Article.aspx?node=153643']"
      ]
     },
     "execution_count": 7,
     "metadata": {},
     "output_type": "execute_result"
    }
   ],
   "source": [
    "a = soup.find_all('a', {'data-type':\"article\"})\n",
    "a = [a_.get('href') for a_ in a]"
   ]
  },
  {
   "cell_type": "code",
   "execution_count": 6,
   "metadata": {},
   "outputs": [],
   "source": [
    "!mkdir url"
   ]
  },
  {
   "cell_type": "code",
   "execution_count": null,
   "metadata": {},
   "outputs": [
    {
     "name": "stderr",
     "output_type": "stream",
     "text": [
      "492it [01:21,  5.38it/s]"
     ]
    }
   ],
   "source": [
    "def generator():\n",
    "    while True:\n",
    "        yield\n",
    "    \n",
    "index = 1\n",
    "for _ in tqdm(generator()):\n",
    "    filename = os.path.join('url', f'{index}.json')\n",
    "    if os.path.exists(filename):\n",
    "        index += 1\n",
    "        continue\n",
    "\n",
    "    while True:\n",
    "        try:\n",
    "            r = r = requests.get(f'https://sinar.syok.my/interaktif/buletin-petronas?page={index}')\n",
    "            break\n",
    "        except:\n",
    "            time.sleep(1.0)\n",
    "\n",
    "    soup = BeautifulSoup(r.content, \"lxml\")\n",
    "    a = soup.find_all('a', {'data-type':\"article\"})\n",
    "    a = [a_.get('href') for a_ in a]\n",
    "    if not len(a):\n",
    "        break\n",
    "\n",
    "    with open(filename, 'w') as fopen:\n",
    "        json.dump(a, fopen)\n",
    "\n",
    "    index += 1"
   ]
  },
  {
   "cell_type": "code",
   "execution_count": null,
   "metadata": {},
   "outputs": [],
   "source": []
  }
 ],
 "metadata": {
  "kernelspec": {
   "display_name": "Python 3 (ipykernel)",
   "language": "python",
   "name": "python3"
  },
  "language_info": {
   "codemirror_mode": {
    "name": "ipython",
    "version": 3
   },
   "file_extension": ".py",
   "mimetype": "text/x-python",
   "name": "python",
   "nbconvert_exporter": "python",
   "pygments_lexer": "ipython3",
   "version": "3.8.10"
  }
 },
 "nbformat": 4,
 "nbformat_minor": 4
}
