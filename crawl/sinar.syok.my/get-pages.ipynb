{
 "cells": [
  {
   "cell_type": "code",
   "execution_count": 1,
   "metadata": {},
   "outputs": [],
   "source": [
    "import requests\n",
    "from bs4 import BeautifulSoup\n",
    "from tqdm import tqdm\n",
    "import os\n",
    "import json\n",
    "import numpy as np\n",
    "import time\n",
    "import random\n",
    "import json\n",
    "import urllib3\n",
    "urllib3.disable_warnings(urllib3.exceptions.InsecureRequestWarning)"
   ]
  },
  {
   "cell_type": "code",
   "execution_count": 5,
   "metadata": {},
   "outputs": [
    {
     "name": "stderr",
     "output_type": "stream",
     "text": [
      "100%|█████████████████████████████████████| 827/827 [00:00<00:00, 124943.79it/s]\n"
     ]
    },
    {
     "data": {
      "text/plain": [
       "(3074, 827)"
      ]
     },
     "execution_count": 5,
     "metadata": {},
     "output_type": "execute_result"
    }
   ],
   "source": [
    "from glob import glob\n",
    "\n",
    "files = glob('url/*.json')\n",
    "urls = []\n",
    "for f in tqdm(files):\n",
    "    with open(f) as fopen:\n",
    "        urls.extend(json.load(fopen))\n",
    "urls = sorted(list(set(urls)))\n",
    "len(urls), len(files)"
   ]
  },
  {
   "cell_type": "code",
   "execution_count": 6,
   "metadata": {},
   "outputs": [],
   "source": [
    "urls = ['https://sinar.syok.my' + u for u in urls]"
   ]
  },
  {
   "cell_type": "code",
   "execution_count": 7,
   "metadata": {},
   "outputs": [],
   "source": [
    "r = requests.get(urls[0])\n",
    "soup = BeautifulSoup(r.content, \"lxml\")"
   ]
  },
  {
   "cell_type": "code",
   "execution_count": 11,
   "metadata": {},
   "outputs": [
    {
     "data": {
      "text/plain": [
       "<h2>Vaksin COVID-19 Cukup Untuk Semua Penduduk.</h2>"
      ]
     },
     "execution_count": 11,
     "metadata": {},
     "output_type": "execute_result"
    }
   ],
   "source": [
    "div = soup.find('div', {'class': 'col-12 col-md-8 shows-content shows-content--left'})\n",
    "div.find('h2')"
   ]
  },
  {
   "cell_type": "code",
   "execution_count": 13,
   "metadata": {},
   "outputs": [
    {
     "data": {
      "text/plain": [
       "['',\n",
       " '← Back to list',\n",
       " 'Vaksin COVID-19 Cukup Untuk Semua Penduduk.',\n",
       " 'Mar 04, 2021',\n",
       " '',\n",
       " 'Kerajaan beri jaminan bekalan vaksin COVID-19 cukup untuk semua penduduk di Malaysia.\\xa0',\n",
       " 'Timbalan Menteri Sains, Teknologi dan Inovasi\\xa0berkata setakat ini, vaksin yang ditempah adalah kira-kira 108 peratus daripada jumlah penduduk.',\n",
       " '',\n",
       " 'Sementara itu, orang ramai tidak perlu daftar lagi jika sudah mendaftar menerusi aplikasi MySejahtera untuk vaksin COVID-19.',\n",
       " 'Penyelaras Program Imunisasi COVID-19 Kebangsaan berkata demikian ekoran terdapat kekeliruan mengenai proses pendaftaran menerusi aplikasi tersebut.',\n",
       " '\\xa0',\n",
       " 'Denda hingga RM50,000 menanti jika potong giliran suntikan vaksin Covid-19.',\n",
       " 'Mana-mana individu yang didapati potong giliran sebagai penerima vaksin Covid-19 berdepan denda hingga RM50,000!\\xa0',\n",
       " '',\n",
       " 'Menteri Kesihatan berkata ia termaktub dalam Ordinan Darurat Pindaan 2021 yang berkuat kuasa mulai 11 Mac ini.\\xa0',\n",
       " '\\xa0',\n",
       " '2 maut akibat runtuhan struktur tapak pembinaan lebuhraya SUKE.',\n",
       " '2 maut manakala 3 lagi cedera selepas van dinaiki dihempap runtuhan struktur tapak pembinaan Lebuh Raya Bertingkat Sungai Besi-Ulu Kelang, SUKE semalam.\\xa0',\n",
       " '',\n",
       " 'Menurut Prolintas, runtuhan struktur itu dipercayai berlaku akibat dilanggar sebuah sebuah lori treler yang membawa lebih muatan.',\n",
       " '\\xa0',\n",
       " '',\n",
       " '',\n",
       " '',\n",
       " '',\n",
       " 'Share',\n",
       " 'Tweet',\n",
       " '',\n",
       " '',\n",
       " '',\n",
       " '',\n",
       " '',\n",
       " '',\n",
       " '',\n",
       " '',\n",
       " '',\n",
       " '']"
      ]
     },
     "execution_count": 13,
     "metadata": {},
     "output_type": "execute_result"
    }
   ],
   "source": [
    "div.text.split('\\n')"
   ]
  },
  {
   "cell_type": "code",
   "execution_count": 14,
   "metadata": {},
   "outputs": [],
   "source": [
    "# !rm -rf page\n",
    "!mkdir page"
   ]
  },
  {
   "cell_type": "code",
   "execution_count": 15,
   "metadata": {},
   "outputs": [
    {
     "name": "stderr",
     "output_type": "stream",
     "text": [
      "3074it [11:32,  4.44it/s]\n"
     ]
    }
   ],
   "source": [
    "for no, url in tqdm(enumerate(urls)):\n",
    "    filename = os.path.join('page', f'{no}.json')\n",
    "    if os.path.exists(filename):\n",
    "        continue\n",
    "    \n",
    "    while True:\n",
    "        try:\n",
    "            r = requests.get(url)\n",
    "            break\n",
    "        except:\n",
    "            time.sleep(1.0)\n",
    "            \n",
    "    soup = BeautifulSoup(r.content, \"lxml\")\n",
    "    div = soup.find('div', {'class': 'col-12 col-md-8 shows-content shows-content--left'})\n",
    "\n",
    "    try:\n",
    "        title = div.find('h2').text\n",
    "    except Exception as e:\n",
    "        title = None\n",
    "\n",
    "    try:\n",
    "        body = div.text\n",
    "    except Exception as e:\n",
    "        body = None\n",
    "\n",
    "    data = {\n",
    "        'url': url,\n",
    "        'title': title,\n",
    "        'body': body,\n",
    "    }\n",
    "    with open(filename, 'w') as fopen:\n",
    "        json.dump(data, fopen)"
   ]
  },
  {
   "cell_type": "code",
   "execution_count": null,
   "metadata": {},
   "outputs": [],
   "source": []
  }
 ],
 "metadata": {
  "kernelspec": {
   "display_name": "Python 3 (ipykernel)",
   "language": "python",
   "name": "python3"
  },
  "language_info": {
   "codemirror_mode": {
    "name": "ipython",
    "version": 3
   },
   "file_extension": ".py",
   "mimetype": "text/x-python",
   "name": "python",
   "nbconvert_exporter": "python",
   "pygments_lexer": "ipython3",
   "version": "3.8.10"
  }
 },
 "nbformat": 4,
 "nbformat_minor": 4
}
