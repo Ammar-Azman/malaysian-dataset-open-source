{
 "cells": [
  {
   "cell_type": "code",
   "execution_count": 1,
   "metadata": {},
   "outputs": [],
   "source": [
    "import requests\n",
    "from bs4 import BeautifulSoup\n",
    "from tqdm import tqdm\n",
    "import os\n",
    "import json\n",
    "import numpy as np\n",
    "import time\n",
    "import random\n",
    "import json\n",
    "import urllib3\n",
    "urllib3.disable_warnings(urllib3.exceptions.InsecureRequestWarning)"
   ]
  },
  {
   "cell_type": "code",
   "execution_count": 2,
   "metadata": {},
   "outputs": [
    {
     "data": {
      "text/plain": [
       "17897"
      ]
     },
     "execution_count": 2,
     "metadata": {},
     "output_type": "execute_result"
    }
   ],
   "source": [
    "with open('urls.json') as fopen:\n",
    "    urls = json.load(fopen)\n",
    "len(urls)"
   ]
  },
  {
   "cell_type": "code",
   "execution_count": 3,
   "metadata": {},
   "outputs": [
    {
     "data": {
      "text/plain": [
       "<Response [200]>"
      ]
     },
     "execution_count": 3,
     "metadata": {},
     "output_type": "execute_result"
    }
   ],
   "source": [
    "r = requests.get(urls[0])\n",
    "r"
   ]
  },
  {
   "cell_type": "code",
   "execution_count": 4,
   "metadata": {},
   "outputs": [],
   "source": [
    "soup = BeautifulSoup(r.content, \"lxml\")"
   ]
  },
  {
   "cell_type": "code",
   "execution_count": 10,
   "metadata": {},
   "outputs": [
    {
     "data": {
      "text/plain": [
       "\"மியான்மர் ராணுவ புரட்சியால் இந்தியாவில் உளுந்து விலை 'விர்...!' \""
      ]
     },
     "execution_count": 10,
     "metadata": {},
     "output_type": "execute_result"
    }
   ],
   "source": [
    "soup.find('h4').text"
   ]
  },
  {
   "cell_type": "code",
   "execution_count": 12,
   "metadata": {},
   "outputs": [
    {
     "data": {
      "text/plain": [
       "\"மியான்மர் ராணுவ புரட்சியால் இந்தியாவில் உளுந்து விலை 'விர்...!' \\n\\n\\nகடந்த மாதம், மியான்மரில், ராணுவம் திடீரென புரட்சி நடத்தி ஆட்சியை கைப்பற்றியதை அடுத்து, அங்கு இயல்பு வாழ்க்கை பாதிக்கப்பட்டுள்ளது. வங்கிகள் மூடப்பட்டுஉள்ளன. சுங்க அதிகாரிகள் பணிக்கு வராததால், துறைமுகங்களில் சரக்குகள் தேங்கிக் கிடக்கின்றன.\\nஅசாதாரண சூழல் நிலவுவதால், பல நிறுவனங்கள் ஏற்றுமதியை நிறுத்தி வைத்துள்ளன. இதனால், மியான்மரில் இருந்து உளுந்து இறக்குமதியை பெரிதும் சார்ந்திருக்கும், இந்தியா பாதிக்கப்பட்டுள்ளது.உளுந்து உற்பத்தியில், இந்தியா, மியான்மர் ஆகிய நாடுகள் முதலிரண்டு இடங்களில் உள்ளன.\\nகடந்த, 2017 - 18ம் பயிர் பருவத்தில், இந்தியாவின் உளுந்து உற்பத்தி, 34 லட்சம் டன்னாக இருந்தது. இது, 2018 - 19ல், 20 லட்சம் டன்னாக குறைந்துள்ளது. தேவையை சமாளிக்க, இந்தியா, மியான்மரில் இருந்து, 84 சதவீத உளுந்தை இறக்குமதி செய்கிறது. அதில், 74 சதவீத உளுந்து, சென்னை துறைமுகத்தில் இறக்குமதியாகிறது.\\nஇந்நிலையில், மியான்மரில் ராணுவ ஆட்சி காரணமாக, உளுந்து வருவது தடைபட்டுள்ளதால், உள்நாட்டில் அதன் விலை கிடு கிடுவென உயர்ந்துள்ளது.சென்னையில், 1 கிலோ உளுந்து, 120 - 125 ரூபாயாக உயர்ந்து உள்ளது. இது, மும்பையில், 117 - 130 ரூபாய்; டில்லியில், 100 - 125 ரூபாய்; லக்னோவில், 145 ரூபாய் ஆக அதிகரித்துள்ளது. வரும் வாரம், விலை மேலும் அதிகரிக்கும் என, எதிர்பார்க்கப்படுகிறது.இதனால், ஓட்டல்களில், இட்லி, தோசை, வடை போன்ற, உளுந்தில் செய்யப்படும் உணவுகளின் விலையும் உயரும் என, தெரிகிறது.\\n- நமது சிறப்பு நிருபர்-\""
      ]
     },
     "execution_count": 12,
     "metadata": {},
     "output_type": "execute_result"
    }
   ],
   "source": [
    "soup.find('div', {'class': 'detail-conent'}).get_text(separator=\"\\n\").strip()"
   ]
  },
  {
   "cell_type": "code",
   "execution_count": 13,
   "metadata": {},
   "outputs": [
    {
     "name": "stderr",
     "output_type": "stream",
     "text": [
      "100%|█████████████████████████████████████████████████████████████████████████████████████████████████████| 17897/17897 [1:10:14<00:00,  4.25it/s]\n"
     ]
    }
   ],
   "source": [
    "with open('nambikkai.com.my.jsonl', 'w') as fopen:\n",
    "    for url in tqdm(urls):\n",
    "        r = requests.get(url)\n",
    "        soup = BeautifulSoup(r.content, \"lxml\")\n",
    "        data = {\n",
    "            'url': url,\n",
    "            'title': soup.find('h4').text,\n",
    "            'body': soup.find('div', {'class': 'detail-conent'}).get_text(separator=\"\\n\").strip(),\n",
    "        }\n",
    "        fopen.write(f'{json.dumps(data)}\\n')"
   ]
  }
 ],
 "metadata": {
  "kernelspec": {
   "display_name": "Python 3 (ipykernel)",
   "language": "python",
   "name": "python3"
  },
  "language_info": {
   "codemirror_mode": {
    "name": "ipython",
    "version": 3
   },
   "file_extension": ".py",
   "mimetype": "text/x-python",
   "name": "python",
   "nbconvert_exporter": "python",
   "pygments_lexer": "ipython3",
   "version": "3.8.10"
  }
 },
 "nbformat": 4,
 "nbformat_minor": 4
}
