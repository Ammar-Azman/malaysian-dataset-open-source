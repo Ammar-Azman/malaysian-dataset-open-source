{
 "cells": [
  {
   "cell_type": "code",
   "execution_count": 1,
   "metadata": {},
   "outputs": [],
   "source": [
    "import requests\n",
    "from bs4 import BeautifulSoup\n",
    "from tqdm import tqdm\n",
    "import os\n",
    "import json\n",
    "import numpy as np\n",
    "import time\n",
    "import random\n",
    "import json\n",
    "import urllib3\n",
    "urllib3.disable_warnings(urllib3.exceptions.InsecureRequestWarning)"
   ]
  },
  {
   "cell_type": "code",
   "execution_count": 2,
   "metadata": {},
   "outputs": [],
   "source": [
    "r = requests.get('https://nambikkai.com.my/more/2')"
   ]
  },
  {
   "cell_type": "code",
   "execution_count": 3,
   "metadata": {},
   "outputs": [],
   "source": [
    "soup = BeautifulSoup(r.content, \"lxml\")"
   ]
  },
  {
   "cell_type": "code",
   "execution_count": 10,
   "metadata": {
    "scrolled": true
   },
   "outputs": [
    {
     "data": {
      "text/plain": [
       "['https://nambikkai.com.my/more/10',\n",
       " 'https://nambikkai.com.my/more/11',\n",
       " 'https://nambikkai.com.my/more/2',\n",
       " 'https://nambikkai.com.my/more/2/',\n",
       " 'https://nambikkai.com.my/more/3',\n",
       " 'https://nambikkai.com.my/more/4',\n",
       " 'https://nambikkai.com.my/more/5',\n",
       " 'https://nambikkai.com.my/more/6',\n",
       " 'https://nambikkai.com.my/more/7',\n",
       " 'https://nambikkai.com.my/more/8',\n",
       " 'https://nambikkai.com.my/more/9']"
      ]
     },
     "execution_count": 10,
     "metadata": {},
     "output_type": "execute_result"
    }
   ],
   "source": [
    "a = soup.find_all('a')\n",
    "a = [a_.get('href').split('?page=')[0] for a_ in a if '/more/' in a_.get('href', '')]\n",
    "categories = sorted(set(a))\n",
    "categories"
   ]
  },
  {
   "cell_type": "code",
   "execution_count": null,
   "metadata": {},
   "outputs": [],
   "source": [
    "'https://nambikkai.com.my/more/2'"
   ]
  },
  {
   "cell_type": "code",
   "execution_count": 22,
   "metadata": {},
   "outputs": [
    {
     "name": "stderr",
     "output_type": "stream",
     "text": [
      "  0%|▍                                                                                                            | 3/834 [00:01<07:40,  1.81it/s]\n",
      "  1%|█▌                                                                                                          | 12/834 [00:05<05:47,  2.36it/s]\n",
      "100%|███████████████████████████████████████████████████████████████████████████████████████████████████████████| 834/834 [05:19<00:00,  2.61it/s]\n",
      "100%|███████████████████████████████████████████████████████████████████████████████████████████████████████████| 834/834 [05:22<00:00,  2.59it/s]\n",
      " 11%|███████████▍                                                                                                | 88/834 [00:34<04:56,  2.52it/s]\n",
      " 21%|██████████████████████▎                                                                                    | 174/834 [01:06<04:13,  2.61it/s]\n",
      " 21%|██████████████████████▎                                                                                    | 174/834 [01:07<04:16,  2.57it/s]\n",
      "  5%|█████▋                                                                                                      | 44/834 [00:15<04:42,  2.79it/s]\n",
      " 16%|█████████████████                                                                                          | 133/834 [00:45<04:00,  2.92it/s]\n",
      "  3%|██▉                                                                                                         | 23/834 [00:11<06:48,  1.99it/s]\n",
      "  1%|█▏                                                                                                           | 9/834 [00:03<05:53,  2.33it/s]\n"
     ]
    }
   ],
   "source": [
    "urls = []\n",
    "for c in categories:\n",
    "    for i in tqdm(range(0, 10000, 12)):\n",
    "        r = requests.get(c + f'/?page={i}')\n",
    "        soup = BeautifulSoup(r.content, \"lxml\")\n",
    "        div = soup.find_all('div', {'class': 'newscard'})\n",
    "        div = [div_.find('a').get('href') for div_ in div]\n",
    "        if not len(div):\n",
    "            break\n",
    "        urls.extend(div)"
   ]
  },
  {
   "cell_type": "code",
   "execution_count": 23,
   "metadata": {},
   "outputs": [
    {
     "data": {
      "text/plain": [
       "27905"
      ]
     },
     "execution_count": 23,
     "metadata": {},
     "output_type": "execute_result"
    }
   ],
   "source": [
    "len(urls)"
   ]
  },
  {
   "cell_type": "code",
   "execution_count": 24,
   "metadata": {},
   "outputs": [],
   "source": [
    "with open('urls.json', 'w') as fopen:\n",
    "    json.dump(sorted(set(urls)), fopen)"
   ]
  },
  {
   "cell_type": "code",
   "execution_count": 25,
   "metadata": {},
   "outputs": [
    {
     "data": {
      "text/plain": [
       "17897"
      ]
     },
     "execution_count": 25,
     "metadata": {},
     "output_type": "execute_result"
    }
   ],
   "source": [
    "len(set(urls))"
   ]
  }
 ],
 "metadata": {
  "kernelspec": {
   "display_name": "Python 3 (ipykernel)",
   "language": "python",
   "name": "python3"
  },
  "language_info": {
   "codemirror_mode": {
    "name": "ipython",
    "version": 3
   },
   "file_extension": ".py",
   "mimetype": "text/x-python",
   "name": "python",
   "nbconvert_exporter": "python",
   "pygments_lexer": "ipython3",
   "version": "3.8.10"
  }
 },
 "nbformat": 4,
 "nbformat_minor": 4
}
