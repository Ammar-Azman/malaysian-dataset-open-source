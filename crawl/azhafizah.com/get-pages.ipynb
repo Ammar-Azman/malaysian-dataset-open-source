{
 "cells": [
  {
   "cell_type": "code",
   "execution_count": 1,
   "metadata": {},
   "outputs": [],
   "source": [
    "import requests\n",
    "from bs4 import BeautifulSoup\n",
    "from tqdm import tqdm\n",
    "import os\n",
    "import json\n",
    "import numpy as np\n",
    "import time\n",
    "import random\n",
    "import json\n",
    "from concurrent.futures import ThreadPoolExecutor, as_completed\n",
    "from datetime import datetime, timedelta"
   ]
  },
  {
   "cell_type": "code",
   "execution_count": 2,
   "metadata": {},
   "outputs": [],
   "source": [
    "with open('azhafizah.com-urls.json') as fopen:\n",
    "    urls = sorted(json.load(fopen))"
   ]
  },
  {
   "cell_type": "code",
   "execution_count": 4,
   "metadata": {},
   "outputs": [],
   "source": [
    "r = requests.get(urls[0])\n",
    "soup = BeautifulSoup(r.content, \"lxml\")"
   ]
  },
  {
   "cell_type": "code",
   "execution_count": 10,
   "metadata": {},
   "outputs": [
    {
     "data": {
      "text/plain": [
       "'Resepi Kek Kukus Coklat Mudah'"
      ]
     },
     "execution_count": 10,
     "metadata": {},
     "output_type": "execute_result"
    }
   ],
   "source": [
    "soup.find('h1', {'class': 'post-title entry-title'}).text.strip()"
   ]
  },
  {
   "cell_type": "code",
   "execution_count": 13,
   "metadata": {},
   "outputs": [
    {
     "data": {
      "text/plain": [
       "'Sesekali teringin nak makan kek kukus coklat. Sedap betul dapat makan kek yang dikukus ni. Kek lebih moist. Boleh lah cuba resepi kek kukus coklat mudah dan ringkas bawah ni. Resepi kek coklat kukus lembab mudah dan menjadi.\\n Resepi Kek Kukus Coklat Mudah\\n Bahan-bahan A\\xa0\\n 2 cawan tepung kek blue key \\n 3/4 cawan serbuk koko \\n 1 1/2 cawan gula kasar\\xa0\\n 1sudu camca natrium bikarbonat \\n 1sudu camca serbuk penaik \\n Bahan-bahan B \\n 1 cawan susu cair \\n 3/4 minyak masak \\n 1/2 cawan air suam \\n 2 biji telur\\xa0\\n \\n \\n \\n \\n \\n \\n \\n\\xa0\\n Cara Penyediaan\\n 1. Masukkan semua bahan-bahan A kedalam satu mangkuk dan kacau rata.\\n2. Kemudian masukkan bahan-bahan B, dimulakan dengan susu cair, minyak, telur, air suam dan telur.\\n3. Oleskan loyang dengan marjerin/butter. Panaskan loyang terlebih dahulu didalam pengukus selama 5minit sebelum tuangkan adunan kek ke dalam loyang.\\n4. Setelah loyang dipanaskan. Tuangkan adunan dalam loyang dan tutup pengukus.\\nBiarkan masak selama selama 45minit. Jangan intai selama 45 minit tu ye.\\xa0\\n \\n \\n \\nUntuk pastikan kek dah masak ke belum. Selepas 45minit tu, bukak penutup dan cucuk dengan lidi. Kalau adunan tak melekat pada lidi, tandanya kek dah masak. Kalau belum, sambung lagi proses mengukus.\\nLepas masak, keluar kek dah biarkan sejuk. Lepas tu terbalikkan. Inilah dia rupa kek coklat kukus yang dah siap.\\n \\n \\n Taburkan kek dengan chocolate rice untuk lebih menarik dan lebih sedap rasa coklat tu.'"
      ]
     },
     "execution_count": 13,
     "metadata": {},
     "output_type": "execute_result"
    }
   ],
   "source": [
    "soup.find('div', {'class': 'post-body entry-content'}).get_text(separator=\"\\n\").strip()"
   ]
  },
  {
   "cell_type": "code",
   "execution_count": 14,
   "metadata": {},
   "outputs": [
    {
     "name": "stderr",
     "output_type": "stream",
     "text": [
      "100%|███████████████████████████████████████████████████████████████████████████████████████████████████████| 5400/5400 [1:28:07<00:00,  1.02it/s]\n"
     ]
    }
   ],
   "source": [
    "data = []\n",
    "for url in tqdm(urls):\n",
    "    r = requests.get(url)\n",
    "    soup = BeautifulSoup(r.content, \"lxml\")\n",
    "    title = soup.find('h1', {'class': 'post-title entry-title'}).text.strip()\n",
    "    body = soup.find('div', {'class': 'post-body entry-content'}).get_text(separator=\"\\n\").strip()\n",
    "    data.append({\n",
    "        'url': url,\n",
    "        'title': title,\n",
    "        'body': body,\n",
    "    })"
   ]
  },
  {
   "cell_type": "code",
   "execution_count": 16,
   "metadata": {},
   "outputs": [
    {
     "data": {
      "text/plain": [
       "{'url': 'https://www.azhafizah.com/2009/11/chocolate-cake-kukus.html',\n",
       " 'title': 'Resepi Kek Kukus Coklat Mudah',\n",
       " 'body': 'Sesekali teringin nak makan kek kukus coklat. Sedap betul dapat makan kek yang dikukus ni. Kek lebih moist. Boleh lah cuba resepi kek kukus coklat mudah dan ringkas bawah ni. Resepi kek coklat kukus lembab mudah dan menjadi.\\n Resepi Kek Kukus Coklat Mudah\\n Bahan-bahan A\\xa0\\n 2 cawan tepung kek blue key \\n 3/4 cawan serbuk koko \\n 1 1/2 cawan gula kasar\\xa0\\n 1sudu camca natrium bikarbonat \\n 1sudu camca serbuk penaik \\n Bahan-bahan B \\n 1 cawan susu cair \\n 3/4 minyak masak \\n 1/2 cawan air suam \\n 2 biji telur\\xa0\\n \\n \\n \\n \\n \\n \\n \\n\\xa0\\n Cara Penyediaan\\n 1. Masukkan semua bahan-bahan A kedalam satu mangkuk dan kacau rata.\\n2. Kemudian masukkan bahan-bahan B, dimulakan dengan susu cair, minyak, telur, air suam dan telur.\\n3. Oleskan loyang dengan marjerin/butter. Panaskan loyang terlebih dahulu didalam pengukus selama 5minit sebelum tuangkan adunan kek ke dalam loyang.\\n4. Setelah loyang dipanaskan. Tuangkan adunan dalam loyang dan tutup pengukus.\\nBiarkan masak selama selama 45minit. Jangan intai selama 45 minit tu ye.\\xa0\\n \\n \\n \\nUntuk pastikan kek dah masak ke belum. Selepas 45minit tu, bukak penutup dan cucuk dengan lidi. Kalau adunan tak melekat pada lidi, tandanya kek dah masak. Kalau belum, sambung lagi proses mengukus.\\nLepas masak, keluar kek dah biarkan sejuk. Lepas tu terbalikkan. Inilah dia rupa kek coklat kukus yang dah siap.\\n \\n \\n Taburkan kek dengan chocolate rice untuk lebih menarik dan lebih sedap rasa coklat tu.'}"
      ]
     },
     "execution_count": 16,
     "metadata": {},
     "output_type": "execute_result"
    }
   ],
   "source": [
    "data[0]"
   ]
  },
  {
   "cell_type": "code",
   "execution_count": 17,
   "metadata": {},
   "outputs": [],
   "source": [
    "with open('azhafizah.com.jsonl', 'w') as fopen:\n",
    "    for d in data:\n",
    "        fopen.write(f'{json.dumps(d)}\\n')"
   ]
  }
 ],
 "metadata": {
  "kernelspec": {
   "display_name": "Python 3 (ipykernel)",
   "language": "python",
   "name": "python3"
  },
  "language_info": {
   "codemirror_mode": {
    "name": "ipython",
    "version": 3
   },
   "file_extension": ".py",
   "mimetype": "text/x-python",
   "name": "python",
   "nbconvert_exporter": "python",
   "pygments_lexer": "ipython3",
   "version": "3.8.10"
  }
 },
 "nbformat": 4,
 "nbformat_minor": 4
}
