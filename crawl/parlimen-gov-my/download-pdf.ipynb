{
 "cells": [
  {
   "cell_type": "code",
   "execution_count": 10,
   "metadata": {},
   "outputs": [],
   "source": [
    "import requests\n",
    "from bs4 import BeautifulSoup\n",
    "import os\n",
    "from tqdm import tqdm\n",
    "from glob import glob"
   ]
  },
  {
   "cell_type": "code",
   "execution_count": 12,
   "metadata": {},
   "outputs": [
    {
     "data": {
      "text/plain": [
       "['Portal Rasmi Parlimen Malaysia - Jawapan Bertulis.html',\n",
       " 'Portal Rasmi Parlimen Malaysia - Jawapan Lisan.html',\n",
       " 'Portal Rasmi Parlimen Malaysia - Penyata Rasmi Kamar Khas.html',\n",
       " 'Portal Rasmi Parlimen Malaysia - Peraturan Mesyuarat.html',\n",
       " 'Portal Rasmi Parlimen Malaysia - Rang Undang-Undang.html',\n",
       " 'Portal Rasmi Parlimen Malaysia - Jawapan Waktu Pertanyaan Menteri.html',\n",
       " 'Portal Rasmi Parlimen Malaysia - Kemudahan Ahli.html',\n",
       " 'Portal Rasmi Parlimen Malaysia - Akta-akta.html',\n",
       " 'Portal Rasmi Parlimen Malaysia - Teks Penggulungan Menteri.html']"
      ]
     },
     "execution_count": 12,
     "metadata": {},
     "output_type": "execute_result"
    }
   ],
   "source": [
    "files = glob('*.html')\n",
    "files = [f for f in files if 'risalat' not in f.lower()]\n",
    "files"
   ]
  },
  {
   "cell_type": "code",
   "execution_count": 13,
   "metadata": {},
   "outputs": [],
   "source": [
    "pdfs = []\n",
    "for f in files:\n",
    "    with open(f) as fopen:\n",
    "        data = fopen.read()\n",
    "    \n",
    "    soup = BeautifulSoup(data, \"lxml\")\n",
    "    a = soup.find_all('a')\n",
    "    a = [a_ for a_ in a if 'pdf' in a_.get('href', '')]\n",
    "    pdfs.extend(a)"
   ]
  },
  {
   "cell_type": "code",
   "execution_count": 14,
   "metadata": {},
   "outputs": [
    {
     "data": {
      "text/plain": [
       "16"
      ]
     },
     "execution_count": 14,
     "metadata": {},
     "output_type": "execute_result"
    }
   ],
   "source": [
    "len(pdfs)"
   ]
  },
  {
   "cell_type": "code",
   "execution_count": 24,
   "metadata": {},
   "outputs": [],
   "source": [
    "def download(url, file_name):\n",
    "    with open(file_name, \"wb\") as file:\n",
    "        response = requests.get(url)\n",
    "        file.write(response.content)"
   ]
  },
  {
   "cell_type": "code",
   "execution_count": 26,
   "metadata": {},
   "outputs": [
    {
     "name": "stderr",
     "output_type": "stream",
     "text": [
      "100%|███████████████████████████████████████████| 16/16 [24:08<00:00, 90.52s/it]\n"
     ]
    }
   ],
   "source": [
    "for a_ in tqdm(pdfs):\n",
    "    url = a_.get('href')\n",
    "    f = os.path.split(url)[1]\n",
    "    download(url, f)"
   ]
  }
 ],
 "metadata": {
  "kernelspec": {
   "display_name": "Python 3 (ipykernel)",
   "language": "python",
   "name": "python3"
  },
  "language_info": {
   "codemirror_mode": {
    "name": "ipython",
    "version": 3
   },
   "file_extension": ".py",
   "mimetype": "text/x-python",
   "name": "python",
   "nbconvert_exporter": "python",
   "pygments_lexer": "ipython3",
   "version": "3.8.10"
  }
 },
 "nbformat": 4,
 "nbformat_minor": 4
}
