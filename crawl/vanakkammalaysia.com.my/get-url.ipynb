{
 "cells": [
  {
   "cell_type": "code",
   "execution_count": 1,
   "metadata": {},
   "outputs": [],
   "source": [
    "import requests\n",
    "from bs4 import BeautifulSoup\n",
    "from tqdm import tqdm\n",
    "import os\n",
    "import json\n",
    "import numpy as np\n",
    "import time\n",
    "import random\n",
    "import json\n",
    "import urllib3\n",
    "urllib3.disable_warnings(urllib3.exceptions.InsecureRequestWarning)"
   ]
  },
  {
   "cell_type": "code",
   "execution_count": 2,
   "metadata": {},
   "outputs": [],
   "source": [
    "categories = [\n",
    "    'https://vanakkammalaysia.com.my/category/%e0%ae%ae%e0%ae%b2%e0%af%87%e0%ae%9a%e0%ae%bf%e0%ae%af%e0%ae%be/',\n",
    "    'https://vanakkammalaysia.com.my/category/%e0%ae%87%e0%ae%a8%e0%af%8d%e0%ae%a4%e0%ae%bf%e0%ae%af%e0%ae%be/',\n",
    "    'https://vanakkammalaysia.com.my/category/%e0%ae%89%e0%ae%b2%e0%ae%95%e0%ae%ae%e0%af%8d/',\n",
    "    'https://vanakkammalaysia.com.my/category/%e0%ae%b5%e0%ae%bf%e0%ae%b3%e0%af%88%e0%ae%af%e0%ae%be%e0%ae%9f%e0%af%8d%e0%ae%9f%e0%af%81/',\n",
    "    'https://vanakkammalaysia.com.my/category/%e0%ae%9a%e0%ae%bf%e0%ae%a9%e0%ae%bf%e0%ae%ae%e0%ae%be/',\n",
    "]"
   ]
  },
  {
   "cell_type": "code",
   "execution_count": 3,
   "metadata": {},
   "outputs": [],
   "source": [
    "!rm -rf url\n",
    "!mkdir url"
   ]
  },
  {
   "cell_type": "code",
   "execution_count": 6,
   "metadata": {},
   "outputs": [
    {
     "name": "stdout",
     "output_type": "stream",
     "text": [
      "https://vanakkammalaysia.com.my/category/%e0%ae%ae%e0%ae%b2%e0%af%87%e0%ae%9a%e0%ae%bf%e0%ae%af%e0%ae%be/\n"
     ]
    },
    {
     "name": "stderr",
     "output_type": "stream",
     "text": [
      "574it [10:51,  1.13s/it]\n"
     ]
    },
    {
     "name": "stdout",
     "output_type": "stream",
     "text": [
      "https://vanakkammalaysia.com.my/category/%e0%ae%87%e0%ae%a8%e0%af%8d%e0%ae%a4%e0%ae%bf%e0%ae%af%e0%ae%be/\n"
     ]
    },
    {
     "name": "stderr",
     "output_type": "stream",
     "text": [
      "23it [00:22,  1.02it/s]\n"
     ]
    },
    {
     "name": "stdout",
     "output_type": "stream",
     "text": [
      "https://vanakkammalaysia.com.my/category/%e0%ae%89%e0%ae%b2%e0%ae%95%e0%ae%ae%e0%af%8d/\n"
     ]
    },
    {
     "name": "stderr",
     "output_type": "stream",
     "text": [
      "143it [02:39,  1.11s/it]\n"
     ]
    },
    {
     "name": "stdout",
     "output_type": "stream",
     "text": [
      "https://vanakkammalaysia.com.my/category/%e0%ae%b5%e0%ae%bf%e0%ae%b3%e0%af%88%e0%ae%af%e0%ae%be%e0%ae%9f%e0%af%8d%e0%ae%9f%e0%af%81/\n"
     ]
    },
    {
     "name": "stderr",
     "output_type": "stream",
     "text": [
      "10it [00:09,  1.06it/s]\n"
     ]
    },
    {
     "name": "stdout",
     "output_type": "stream",
     "text": [
      "https://vanakkammalaysia.com.my/category/%e0%ae%9a%e0%ae%bf%e0%ae%a9%e0%ae%bf%e0%ae%ae%e0%ae%be/\n"
     ]
    },
    {
     "name": "stderr",
     "output_type": "stream",
     "text": [
      "2it [00:01,  1.77it/s]\n"
     ]
    }
   ],
   "source": [
    "def generator():\n",
    "    while True:\n",
    "        yield\n",
    "        \n",
    "for c in categories:\n",
    "    print(c)\n",
    "    c_ = c.split('my/')[1].replace('/', '-')\n",
    "    index = 1\n",
    "    for _ in tqdm(generator()):\n",
    "        filename = os.path.join('url', f'{c_}-{index}.json')\n",
    "        if os.path.exists(filename):\n",
    "            index += 1\n",
    "            continue\n",
    "            \n",
    "        r = requests.get(f'{c}page/{index}/')\n",
    "        soup = BeautifulSoup(r.content, \"lxml\")\n",
    "        h2 = soup.find_all('h2', {'class':\"post-title\"})\n",
    "        h2 = [h2_.find('a').get('href') for h2_ in h2]\n",
    "        if not len(h2):\n",
    "            break\n",
    "            \n",
    "        with open(filename, 'w') as fopen:\n",
    "            json.dump(h2, fopen)\n",
    "            \n",
    "        index += 1"
   ]
  }
 ],
 "metadata": {
  "kernelspec": {
   "display_name": "Python 3 (ipykernel)",
   "language": "python",
   "name": "python3"
  },
  "language_info": {
   "codemirror_mode": {
    "name": "ipython",
    "version": 3
   },
   "file_extension": ".py",
   "mimetype": "text/x-python",
   "name": "python",
   "nbconvert_exporter": "python",
   "pygments_lexer": "ipython3",
   "version": "3.8.10"
  }
 },
 "nbformat": 4,
 "nbformat_minor": 4
}
