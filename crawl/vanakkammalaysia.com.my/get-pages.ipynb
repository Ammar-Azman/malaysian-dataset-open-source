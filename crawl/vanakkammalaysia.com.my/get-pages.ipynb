{
 "cells": [
  {
   "cell_type": "code",
   "execution_count": 1,
   "metadata": {},
   "outputs": [],
   "source": [
    "import requests\n",
    "from bs4 import BeautifulSoup\n",
    "from tqdm import tqdm\n",
    "import os\n",
    "import json\n",
    "import numpy as np\n",
    "import time\n",
    "import random\n",
    "import json\n",
    "import urllib3\n",
    "urllib3.disable_warnings(urllib3.exceptions.InsecureRequestWarning)"
   ]
  },
  {
   "cell_type": "code",
   "execution_count": 2,
   "metadata": {},
   "outputs": [
    {
     "data": {
      "text/plain": [
       "752"
      ]
     },
     "execution_count": 2,
     "metadata": {},
     "output_type": "execute_result"
    }
   ],
   "source": [
    "from glob import glob\n",
    "\n",
    "files = glob('url/*.json')\n",
    "len(files)"
   ]
  },
  {
   "cell_type": "code",
   "execution_count": 3,
   "metadata": {},
   "outputs": [
    {
     "data": {
      "text/plain": [
       "7365"
      ]
     },
     "execution_count": 3,
     "metadata": {},
     "output_type": "execute_result"
    }
   ],
   "source": [
    "urls = []\n",
    "for f in files:\n",
    "    with open(f) as fopen:\n",
    "        urls.extend(json.load(fopen))\n",
    "        \n",
    "urls = sorted(set(urls))\n",
    "len(urls)"
   ]
  },
  {
   "cell_type": "code",
   "execution_count": 4,
   "metadata": {},
   "outputs": [],
   "source": [
    "r = requests.get(urls[0])"
   ]
  },
  {
   "cell_type": "code",
   "execution_count": 5,
   "metadata": {},
   "outputs": [],
   "source": [
    "soup = BeautifulSoup(r.content, \"lxml\")"
   ]
  },
  {
   "cell_type": "code",
   "execution_count": 7,
   "metadata": {},
   "outputs": [
    {
     "data": {
      "text/plain": [
       "'அகண்ட  அலைவரிசை சேவையை வழங்கும்  நிறுவனங்கள்   செப்டம்பர் மாதத்திலிருந்து  கட்டணத்தை  குறைக்கும்படி வலியுறுத்து'"
      ]
     },
     "execution_count": 7,
     "metadata": {},
     "output_type": "execute_result"
    }
   ],
   "source": [
    "soup.find('h1').text.strip()"
   ]
  },
  {
   "cell_type": "code",
   "execution_count": 8,
   "metadata": {},
   "outputs": [
    {
     "data": {
      "text/plain": [
       "'https://vanakkammalaysia.com.my/%e0%ae%85%e0%ae%95%e0%ae%a3%e0%af%8d%e0%ae%9f-%e0%ae%85%e0%ae%b2%e0%af%88%e0%ae%b5%e0%ae%b0%e0%ae%bf%e0%ae%9a%e0%af%88-%e0%ae%9a%e0%af%87%e0%ae%b5%e0%af%88%e0%ae%af%e0%af%88-%e0%ae%b5%e0%ae%b4/'"
      ]
     },
     "execution_count": 8,
     "metadata": {},
     "output_type": "execute_result"
    }
   ],
   "source": [
    "urls[0]"
   ]
  },
  {
   "cell_type": "code",
   "execution_count": 10,
   "metadata": {},
   "outputs": [
    {
     "data": {
      "text/plain": [
       "'கோலாலம்பூர், ஆக 7 – அகண்ட அலைவரிசை சேவைகளை வழங்கும் நிறுவனங்கள் எதிர்வரும் செம்டம்பர் மாதம் முதல் இணைய சேவைக்கான கட்டணத்தை குறைகும்படி கேட்டுக்கொள்ளப்பட்டனர். MSAP எனப்படும் தரமான விலைக்கு ஏற்ப இந்த நடவடிக்கை எடுக்கப்பட வேண்டும் என தொடர்பு மற்றும் இலக்கவியல் அமைச்சர் Fahmi Fadzil தெரிவித்தார். பொதுமக்கள் சிறந்த இணையச் சேவையை பெறும்பொருட்டு குறைந்த கட்டண அடிப்படையில் இணையச் சேவையை வழங்குவதற்கான முயற்சிகளை அரசாங்கம் மேற்கொண்டுள்ளதாக அவர் கூறினார்.\\n\\n\\nமுன்பு 10 ரிங்கிட் கட்டணமாக விற்கப்பட்ட இணையச்சேவைக்கான கார்டுகள் தற்போது 5 ரிங்கிட்டுக்கும் கிடைப்பதை Fahmi Fadzil சுட்டிக்காட்டினார். இதனிடையே அரசாங்கம் கடுமையாக எச்சரிக்கை விடுத்திருந்தும் தேர்தல் பிரச்சாரத்தின்போது இன்னமும் சில தரப்பினர் மூன்று ஆர் எனப்படும் இனம், சமயம் மற்றும் ஆட்சியாளர்கள் விவகாரம் குறித்து கேள்வி எழுப்பிவருவது குறித்து Fahmi Fadzil ஏமாற்றம் தெரிவித்தார். தொடர்பு அமைச்சர் என்ற முறையில் இது தொடர்பாக தாம் எச்சரித்தபோதிலும் பலர் இந்த விவகாரத்தில் அலட்சியமாக இருப்பதாக அவர் தெரிவித்தார்.\\n\\n\\n\\n\\n\\n\\n Tags\\nFahmi\\n \\nHarga Internet Lebih Murah\\n \\nMenjelang September'"
      ]
     },
     "execution_count": 10,
     "metadata": {},
     "output_type": "execute_result"
    }
   ],
   "source": [
    "soup.find('div', {'class': 'entry-content entry clearfix'}).get_text(separator=\"\\n\").strip()"
   ]
  },
  {
   "cell_type": "code",
   "execution_count": 11,
   "metadata": {},
   "outputs": [],
   "source": [
    "!mkdir page"
   ]
  },
  {
   "cell_type": "code",
   "execution_count": 12,
   "metadata": {},
   "outputs": [
    {
     "name": "stderr",
     "output_type": "stream",
     "text": [
      "100%|███████████████████████████████████████████████████████████████████████████████████████████████████████| 7365/7365 [2:10:32<00:00,  1.06s/it]\n"
     ]
    }
   ],
   "source": [
    "for i in tqdm(range(len(urls))):\n",
    "    filename = os.path.join('page', f'{i}.json')\n",
    "    if os.path.exists(filename):\n",
    "        continue\n",
    "        \n",
    "    url = urls[i]\n",
    "    r = requests.get(url)\n",
    "    soup = BeautifulSoup(r.content, \"lxml\")\n",
    "    data = {\n",
    "        'url': url,\n",
    "        'title': soup.find('h1').text.strip(),\n",
    "        'body': soup.find('div', {'class': 'entry-content entry clearfix'}).get_text(separator=\"\\n\").strip()\n",
    "    }\n",
    "    with open(filename, 'w') as fopen:\n",
    "        json.dump(data, fopen)"
   ]
  },
  {
   "cell_type": "code",
   "execution_count": 13,
   "metadata": {},
   "outputs": [
    {
     "data": {
      "text/plain": [
       "7365"
      ]
     },
     "execution_count": 13,
     "metadata": {},
     "output_type": "execute_result"
    }
   ],
   "source": [
    "from glob import glob\n",
    "files = glob('page/*')\n",
    "len(files)"
   ]
  },
  {
   "cell_type": "code",
   "execution_count": 14,
   "metadata": {},
   "outputs": [],
   "source": [
    "with open('vanakkammalaysia.com.my.jsonl', 'w') as fopen_l:\n",
    "    for f in files:\n",
    "        with open(f) as fopen:\n",
    "            data = json.load(fopen)\n",
    "            fopen_l.write(f'{json.dumps(data)}\\n')"
   ]
  }
 ],
 "metadata": {
  "kernelspec": {
   "display_name": "Python 3 (ipykernel)",
   "language": "python",
   "name": "python3"
  },
  "language_info": {
   "codemirror_mode": {
    "name": "ipython",
    "version": 3
   },
   "file_extension": ".py",
   "mimetype": "text/x-python",
   "name": "python",
   "nbconvert_exporter": "python",
   "pygments_lexer": "ipython3",
   "version": "3.8.10"
  }
 },
 "nbformat": 4,
 "nbformat_minor": 4
}
