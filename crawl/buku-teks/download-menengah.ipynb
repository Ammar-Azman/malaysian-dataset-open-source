{
 "cells": [
  {
   "cell_type": "code",
   "execution_count": 1,
   "metadata": {},
   "outputs": [],
   "source": [
    "import requests\n",
    "from bs4 import BeautifulSoup"
   ]
  },
  {
   "cell_type": "code",
   "execution_count": 2,
   "metadata": {},
   "outputs": [],
   "source": [
    "r = requests.get('https://www.ipendidikan.my/koleksi-buku-teks-digital-asas-kssm.html')"
   ]
  },
  {
   "cell_type": "code",
   "execution_count": 4,
   "metadata": {},
   "outputs": [],
   "source": [
    "soup = BeautifulSoup(r.content, \"lxml\")"
   ]
  },
  {
   "cell_type": "code",
   "execution_count": 10,
   "metadata": {},
   "outputs": [
    {
     "data": {
      "text/plain": [
       "['https://drive.google.com/drive/folders/1C3BA9pAOqp_juXOLmsOu9f5bgES2yWUA?usp=sharing',\n",
       " 'https://drive.google.com/drive/folders/1HyvbIR6e3SdpEQlrM_p0QtAB7xzP-ttH?usp=sharing',\n",
       " 'https://drive.google.com/drive/folders/1YkOq_4j4682dmegL1MOia8AoXZm8qb84?usp=sharing',\n",
       " 'https://drive.google.com/file/d/1sMSAn_HvVphFCFgcIywphzYmC-cludY-/view?usp=sharing',\n",
       " 'https://drive.google.com/open?id=1-BlvMwKLuyQe9_t3lgBOld9N3j93lXtp',\n",
       " 'https://drive.google.com/open?id=1-qrmeAY558VYQ6fpqv6uTThM7keV_giG',\n",
       " 'https://drive.google.com/open?id=10O3O90NRLWTfNq_XUV4t0ZjLGOCftiPi',\n",
       " 'https://drive.google.com/open?id=10lNfO9OVpN_BVWV1fyh_16lrb35ca6VE',\n",
       " 'https://drive.google.com/open?id=11DGADlbX8e7mwMoVP3eoI4QguaXKXLXw',\n",
       " 'https://drive.google.com/open?id=11JXPDvvQoMzLUZw870CnAMS1Xklju83j',\n",
       " 'https://drive.google.com/open?id=11W-YPILoGpJkT55YPHxuqtGFtLermf-h',\n",
       " 'https://drive.google.com/open?id=12Oq0cnACz7SwO_RGltpgLAKCQwQ-aH0Y',\n",
       " 'https://drive.google.com/open?id=13Dr4Lxt4ps34op32Y587pPTUiQECyNiz',\n",
       " 'https://drive.google.com/open?id=13uSE7O7drUOdIq9YTs9Wa1Wxd4A1oVmF',\n",
       " 'https://drive.google.com/open?id=13vTWZCOMYcXkjeECvk81s37jfuBWTP-r',\n",
       " 'https://drive.google.com/open?id=15huo0WaLxKHSN66nz-qEwK75Y0lZeMD-',\n",
       " 'https://drive.google.com/open?id=15nN5_JnoaDxSUjawf0XpVH_O8S-gCNy2',\n",
       " 'https://drive.google.com/open?id=17Wv-GlitHg2dQV7hE8kdFx-jv0zPQ0lm',\n",
       " 'https://drive.google.com/open?id=1A0f-3wvi_ociaX1ebVI6k0SsS3wMEC4Q',\n",
       " 'https://drive.google.com/open?id=1BxIGs-WGU6jGrV70u8Nht2CXEQebQqfP',\n",
       " 'https://drive.google.com/open?id=1C8D6tNaZC3sblL-ShYoKUDS9_KfqRCEg',\n",
       " 'https://drive.google.com/open?id=1CEf2ojDmZRjJacfei7MkE4geRkou3ORq',\n",
       " 'https://drive.google.com/open?id=1D5ML5XtW-qkjjXS8Zsz7gWqshHYazANR',\n",
       " 'https://drive.google.com/open?id=1DookWsZckUDgydtwXEy2ggbx2oY1vXgr',\n",
       " 'https://drive.google.com/open?id=1EnwNKu8mXq_tKF_1Dpfu3kSTPAtopXpM',\n",
       " 'https://drive.google.com/open?id=1EoySnkIknjbB_Ut9Cxlo5doTuDQDVE8A',\n",
       " 'https://drive.google.com/open?id=1FIWM48VpT6kM1MyIqNUJ8vbNNOCttqgF',\n",
       " 'https://drive.google.com/open?id=1GAzQrocu0Nw2zb0hH8CWZzUbcdFyReAl',\n",
       " 'https://drive.google.com/open?id=1HHUn5IsbDcX9AloyLj-CHxmS4Z7DTdAs',\n",
       " 'https://drive.google.com/open?id=1HuVR17X9NTrCqPD_V0dPds7uPpmb-MgI',\n",
       " 'https://drive.google.com/open?id=1IBLWPUwVjZd1rbewhuGk_XvVh547_AH-',\n",
       " 'https://drive.google.com/open?id=1IJYfe897wL2jAiYNPeS7oLJiBwpR8KsI',\n",
       " 'https://drive.google.com/open?id=1IgET3RgdQLhGWsTwn8Sbn9kA89uQb1Ma',\n",
       " 'https://drive.google.com/open?id=1IyQ01edaxQcXvz2d3sNb4fZpy5JIJxLI',\n",
       " 'https://drive.google.com/open?id=1JAQkEDWYtCUAq2fiQlfatQXjn1sf1kFo',\n",
       " 'https://drive.google.com/open?id=1JNwU1zv6qGcfUj8HKVTC5X1HOXnyFfG9',\n",
       " 'https://drive.google.com/open?id=1L-K-MnUreW_NGhAkjsczXE97MoyTLRK4',\n",
       " 'https://drive.google.com/open?id=1L33LNazDNqU_rHe4kVyHPeyB3O41qN--',\n",
       " 'https://drive.google.com/open?id=1LWOmpraOXgooATq78DQSQ0PH57VcY4OA',\n",
       " 'https://drive.google.com/open?id=1Mn6mjZ5KJXeXnG8xVqlLqNDMXqyThD9Z',\n",
       " 'https://drive.google.com/open?id=1NK0Z00CGYMYHIJcK5iXZFxaI0Lt79-TL',\n",
       " 'https://drive.google.com/open?id=1R15ZPLScnZdZoeym1PhECPLIdyazrL91',\n",
       " 'https://drive.google.com/open?id=1ReUUoDGAkL4x3JLb1qRbulIJf5CCX5A-',\n",
       " 'https://drive.google.com/open?id=1SOzs_JPniExd0YPtYvTE0DQ26OuVG64Q',\n",
       " 'https://drive.google.com/open?id=1SVpWSlvqBTLdPBuLYJLYajd2SWP0Pj4-',\n",
       " 'https://drive.google.com/open?id=1TxfdQzRXZfYhYAieqnaNaAkhm6tILAm-',\n",
       " 'https://drive.google.com/open?id=1V9t2_KLnmHpkUFogezbA_gjZD0wR2mfU',\n",
       " 'https://drive.google.com/open?id=1VGd--hJa_QqA9_L_YYLFQ3zOPjDjHh8o',\n",
       " 'https://drive.google.com/open?id=1VrcHMWcgg418CF4fcbGiNVrzcH6I6QpY',\n",
       " 'https://drive.google.com/open?id=1VsyA9Xlr0Fef0bZ8WdIAaw0BKx4nHhFn',\n",
       " 'https://drive.google.com/open?id=1W58-NZq8zXz_NPVvLAu95DKlB2PFHCOd',\n",
       " 'https://drive.google.com/open?id=1W9zFw9uCBFmTQkQ27f1V6XdJWcErDLwq',\n",
       " 'https://drive.google.com/open?id=1Xi88m8NKL-imRdhDwzWE9lAD5SEBrOpB',\n",
       " 'https://drive.google.com/open?id=1YSm4jrjDfe6_Y4qAJqZADXrcAA6YCFMX',\n",
       " 'https://drive.google.com/open?id=1Z4F7AmpcBBdH_E2qQYMlUtPZHnDHsFph',\n",
       " 'https://drive.google.com/open?id=1Z9idqiv-FaS5bUJJF4EK6oqu5hXaAhLL',\n",
       " 'https://drive.google.com/open?id=1Z_KtZR42Mnbt4qPN9DTer5sjHxTEMGUr',\n",
       " 'https://drive.google.com/open?id=1ZhE-1k7UnJdFe1QTGAC5zHGspN0d1v7j',\n",
       " 'https://drive.google.com/open?id=1_V4xakjw79_jxKy4G4HRPBoWPn2M4a9x',\n",
       " 'https://drive.google.com/open?id=1aaj6giN4hm0-LqBfWDgw80V-iSglGQqr',\n",
       " 'https://drive.google.com/open?id=1arOamibDf7YvQBOKj8FFn5VTdifKr9cr',\n",
       " 'https://drive.google.com/open?id=1cN4481noTLv4iRWUxTJs6J-NMOA1Qm6s',\n",
       " 'https://drive.google.com/open?id=1dIU065v7fsfF4KthPQ08tV8G6Oo91MXf',\n",
       " 'https://drive.google.com/open?id=1e-62CQyIWZxpjJspNFRZIy_OwiMM8yxk',\n",
       " 'https://drive.google.com/open?id=1erN-OgzBUmi4jCAB-JgCpfXI5T73GZCB',\n",
       " 'https://drive.google.com/open?id=1fBWzfGoRTsFSgrHs0ZfpvKw-3zdVxO8c',\n",
       " 'https://drive.google.com/open?id=1ffcFnckY4iVQblDU89JMCi9OvJMpdEg6',\n",
       " 'https://drive.google.com/open?id=1ffoKCCAz-ztirj-1AWQ4A3tH7NXXfhSf',\n",
       " 'https://drive.google.com/open?id=1g8rIrCu1x0QGVn-Yb4dNgPQSgF7WOXdS',\n",
       " 'https://drive.google.com/open?id=1ilNGFcYagxdckPwyjXSZ6WpkXiOGHbs8',\n",
       " 'https://drive.google.com/open?id=1jDUAbNL8mqhTgQ9645Alr5PGZycYQkt_',\n",
       " 'https://drive.google.com/open?id=1jb4EpQ0nmYt7VO-E1Z4UNg_ZZ-TmxhSM',\n",
       " 'https://drive.google.com/open?id=1jcR7nqpZnz-oMEMrmSkifbaxGejH3Ms5',\n",
       " 'https://drive.google.com/open?id=1jn1DZRasGuw2HFzEy5HGh9_LV1TzjGsy',\n",
       " 'https://drive.google.com/open?id=1k-n_cwkAvq0_hAG9jXoG9YQSK9G2Y_el',\n",
       " 'https://drive.google.com/open?id=1kuy2azQ8RFrLb42vhK2cwAAadrtqdJzR',\n",
       " 'https://drive.google.com/open?id=1lW7Ih6urkTC5GLWrFBM9UeDqDCjofmUS',\n",
       " 'https://drive.google.com/open?id=1lzdWfc8GSiBlwFIh6n6R9SMvV9Lk5ouI',\n",
       " 'https://drive.google.com/open?id=1muBzzr6_qEFVU6tnv_PZhWKYgDdiA5_f',\n",
       " 'https://drive.google.com/open?id=1nPlLK1IRP2li7megdVhXqRvVear71NvL',\n",
       " 'https://drive.google.com/open?id=1oO98bZaNNoo7zxAIx1Uio1wLCTbDgN2e',\n",
       " 'https://drive.google.com/open?id=1oUxmGyz1SJUgWQC4VUYNG1JafzOyj17r',\n",
       " 'https://drive.google.com/open?id=1ojWlZuGhBGTPq0v8uHH3eZOlMrvk92Lk',\n",
       " 'https://drive.google.com/open?id=1oyFtz15NrER7wpnk_lRWaI26wPweOyG-',\n",
       " 'https://drive.google.com/open?id=1p-2gMDzqUgkLKGG4FqHW4og0nDTWgMaN',\n",
       " 'https://drive.google.com/open?id=1rRvWbytqwtQ3J26MN30aQiT0eiJ0ZeA8',\n",
       " 'https://drive.google.com/open?id=1rzJSd4QWAqSkreb8-3NCqUtRzzQBHoiM',\n",
       " 'https://drive.google.com/open?id=1rzcVWkly8tZEZHGEwzWjWlOeaKEzhQ7z',\n",
       " 'https://drive.google.com/open?id=1sCk-utSO13AfTK7iKZCEHukBnNkRwoOB',\n",
       " 'https://drive.google.com/open?id=1sSzd5cYyEaIAqrL3fBa9u_RI5PiFbHP6',\n",
       " 'https://drive.google.com/open?id=1shxum_U0zSRSwcQwK81-gMu0AolaFW3D',\n",
       " 'https://drive.google.com/open?id=1t9Nq8dJpI9WQVQc6u2FHYXY0RVmf7fus',\n",
       " 'https://drive.google.com/open?id=1uBBDJOgqyKjvq9mEIh3gRVgWn5-FdDmW',\n",
       " 'https://drive.google.com/open?id=1vJ3JhccRFRZ0XtUVzEjzSmUa5Ji-POay',\n",
       " 'https://drive.google.com/open?id=1wNKkBrPf-idVHpJHqNCY3Ui4gaaZ2Ydr',\n",
       " 'https://drive.google.com/open?id=1xxxCPx-SndV-bI-RHPVR6jwmHKM1lVZ5',\n",
       " 'https://drive.google.com/open?id=1z-Ic0lX0XOV1ZWiXJ8xQIKWFseSImCBe',\n",
       " 'https://drive.google.com/open?id=1zstVNL9T4fNPoK5WrjVtk7ysBQs8Tihu']"
      ]
     },
     "execution_count": 10,
     "metadata": {},
     "output_type": "execute_result"
    }
   ],
   "source": [
    "a = soup.find_all('a')\n",
    "a = [a_.get('href') for a_ in a if 'drive.google' in a_.get('href')]\n",
    "a = sorted(list(set(a)))\n",
    "a"
   ]
  },
  {
   "cell_type": "code",
   "execution_count": 19,
   "metadata": {},
   "outputs": [
    {
     "name": "stderr",
     "output_type": "stream",
     "text": [
      "  3%|███▎                                                                                                        | 3/98 [02:58<1:32:49, 58.63s/it]\n",
      " \tCannot retrieve the public link of the file. You may need to change\n",
      "\tthe permission to 'Anyone with the link', or have had many accesses. \n",
      "\n",
      "You may still be able to access the file from the browser:\n",
      "\n",
      "\t https://drive.google.com/uc?id=https://drive.google.com/file/d/1sMSAn_HvVphFCFgcIywphzYmC-cludY-/view?usp=sharing \n",
      "\n",
      "  4%|████▍                                                                                                         | 4/98 [02:58<55:48, 35.63s/it]"
     ]
    },
    {
     "name": "stdout",
     "output_type": "stream",
     "text": [
      "Access denied with the following error:\n"
     ]
    },
    {
     "name": "stderr",
     "output_type": "stream",
     "text": [
      "100%|█████████████████████████████████████████████████████████████████████████████████████████████████████████████| 98/98 [34:25<00:00, 21.08s/it]\n"
     ]
    }
   ],
   "source": [
    "import gdown\n",
    "from tqdm import tqdm\n",
    "\n",
    "for url in tqdm(a):\n",
    "    if 'drive/folders' in url:\n",
    "        gdown.download_folder(url, quiet=True, use_cookies=False)\n",
    "    else:\n",
    "        id = url.split('id=')[-1]\n",
    "        gdown.download(id=id, quiet=True)"
   ]
  }
 ],
 "metadata": {
  "kernelspec": {
   "display_name": "Python 3 (ipykernel)",
   "language": "python",
   "name": "python3"
  },
  "language_info": {
   "codemirror_mode": {
    "name": "ipython",
    "version": 3
   },
   "file_extension": ".py",
   "mimetype": "text/x-python",
   "name": "python",
   "nbconvert_exporter": "python",
   "pygments_lexer": "ipython3",
   "version": "3.8.10"
  }
 },
 "nbformat": 4,
 "nbformat_minor": 4
}
