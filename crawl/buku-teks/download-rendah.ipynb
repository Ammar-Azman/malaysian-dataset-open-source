{
 "cells": [
  {
   "cell_type": "code",
   "execution_count": 1,
   "metadata": {},
   "outputs": [],
   "source": [
    "import requests\n",
    "from bs4 import BeautifulSoup"
   ]
  },
  {
   "cell_type": "code",
   "execution_count": 2,
   "metadata": {},
   "outputs": [],
   "source": [
    "r = requests.get('https://www.ipendidikan.my/buku-teks-digital-kssr-tahun-1-hingga-6.html')"
   ]
  },
  {
   "cell_type": "code",
   "execution_count": 3,
   "metadata": {},
   "outputs": [],
   "source": [
    "soup = BeautifulSoup(r.content, \"lxml\")"
   ]
  },
  {
   "cell_type": "code",
   "execution_count": 4,
   "metadata": {
    "scrolled": true
   },
   "outputs": [
    {
     "data": {
      "text/plain": [
       "['https://drive.google.com/file/d/1-jJnWMw3XkF88bxfLtn8_uaJ9MwdBxiQ/view',\n",
       " 'https://drive.google.com/file/d/10MlQWNuxkUO7UYTMg3srni67JSkxLg39/view',\n",
       " 'https://drive.google.com/file/d/11Urjs7oPZ2SlqgmQTRN7Kc-RDUG9swOT/view',\n",
       " 'https://drive.google.com/file/d/13hCiWz0YT8PYNBl9zLNMki08c75coXfh/view',\n",
       " 'https://drive.google.com/file/d/140J3JUp6J0leg9SgvN8S7Qx1FcAdcv69/view',\n",
       " 'https://drive.google.com/file/d/14MJ7fWb2H_yfHbM2bDnMufYDvVL2TcV0/view',\n",
       " 'https://drive.google.com/file/d/14_05gs9kjWglw1zPyaijpsLccp49yTKa/view',\n",
       " 'https://drive.google.com/file/d/1576r_xPP5WRKjYdxg3MOPBvXDgLjvbP8/view',\n",
       " 'https://drive.google.com/file/d/17RiPjmKDNxW9tGZ2JVz-ZChJligztxws/view',\n",
       " 'https://drive.google.com/file/d/17lfVkCTYNXvsbDpOeiTO8npdcj5xfVRs/view',\n",
       " 'https://drive.google.com/file/d/18W1wr6nKMpD1jofDQS6v-PwlNXpGi3N4/view',\n",
       " 'https://drive.google.com/file/d/18f8xq_dBYhbcJ6NyEDJ3CqofTe6-h6wl/view',\n",
       " 'https://drive.google.com/file/d/196bvi7eppyNAs4-5wy2oHF4oWNI2aJZc/view',\n",
       " 'https://drive.google.com/file/d/19_pYsnKSVOJgY0w5i8HCHCBt8tZ05GP2/view',\n",
       " 'https://drive.google.com/file/d/1B3kfCiG3C6gZ9j0XjPxC85tM-WcnWv4E/view',\n",
       " 'https://drive.google.com/file/d/1BG5jW72TsYH2VyAwg9ADOvYxHgx_ZUsB/view',\n",
       " 'https://drive.google.com/file/d/1B_sq-HU85qIMV_TYN6ofE7h3njJAzLaA/view',\n",
       " 'https://drive.google.com/file/d/1DJyBLKvQ2nFEnpDzw35KL4Sp4fENl__R/view',\n",
       " 'https://drive.google.com/file/d/1DY7ZAcg9q3UQheNpg-HkntESCKTK5taY/view',\n",
       " 'https://drive.google.com/file/d/1Dgc9ZctfA4snaLXnpPW7AI7A-kSLTD5Q/view',\n",
       " 'https://drive.google.com/file/d/1E53Ur24j4CDzQ8LpQk_-NznX-TgX4dHK/view',\n",
       " 'https://drive.google.com/file/d/1EVmmfNBshC6JZrDndpKlbn85D4TX_fjC/view',\n",
       " 'https://drive.google.com/file/d/1Es3Zv8MCmm4H1z1r3iWIUv-rMSVKW0Uy/view',\n",
       " 'https://drive.google.com/file/d/1GAd2aTb_9kSAwB-dqD0TCLsqjj5HsVVF/view',\n",
       " 'https://drive.google.com/file/d/1H4JnvQJXpfLWG3R3LG6I9Zdon3MCdpg3/view',\n",
       " 'https://drive.google.com/file/d/1H4eD2gqZpDYqylHIslaw-EDtiJ_8J985/view',\n",
       " 'https://drive.google.com/file/d/1IOhvyMVCKyYBz1BbhKJYf97Pj-kBpvad/view',\n",
       " 'https://drive.google.com/file/d/1J61gWKI0IfnR5Jvo96MdM-vRwkRRSKqK/view',\n",
       " 'https://drive.google.com/file/d/1K6VVFDGL-JwKAw9DAHzCyfxl_QZ2G1JQ/view',\n",
       " 'https://drive.google.com/file/d/1L0SJh4omVujtRFeU34BH_CqIlfXVD3Xp/view',\n",
       " 'https://drive.google.com/file/d/1MSIETMPzlMwxCVRtq4GRiJNEysyHPD4B/view',\n",
       " 'https://drive.google.com/file/d/1Od4UV0RUb3bYAOIjRolCWbRvxYFXLhx5/view',\n",
       " 'https://drive.google.com/file/d/1PAK6UCJmjHYt46Vl3BQTcdEzlEEuVrvM/view',\n",
       " 'https://drive.google.com/file/d/1QrX62SNKljGPik3NkBycxOgzzhgEVSKQ/view',\n",
       " 'https://drive.google.com/file/d/1S-bcrA0KhmSklikyyLAp0zvlIeXFXeCg/view',\n",
       " 'https://drive.google.com/file/d/1SRzkFwtsxfNSIIvkrmYBWYOPwNXOHvQD/view',\n",
       " 'https://drive.google.com/file/d/1SUwVSy9t4xhnEIIk4eOLtbkihwNz8WD1/view',\n",
       " 'https://drive.google.com/file/d/1SeWbhaBJe3lja8w2HI2JRkuuWRB1NYZH/view',\n",
       " 'https://drive.google.com/file/d/1SgPGmU9M882RChU-pLVzdXicZEAE8k8D/view',\n",
       " 'https://drive.google.com/file/d/1SlbEVn0kTbDN8l7vsWcF_4g0xBbCZRr0/view',\n",
       " 'https://drive.google.com/file/d/1SpZ1Qu0UwO_lhK2YNehrTAFCbycA98pw/view',\n",
       " 'https://drive.google.com/file/d/1Tef9Kpgxxaa9uMDiyhkyJ_1RRagLp-or/view',\n",
       " 'https://drive.google.com/file/d/1ThypIDDj9qyGhYxJN7e4TiCR54RaJ37m/view',\n",
       " 'https://drive.google.com/file/d/1UWqP0yqwSrHRFZH01Sc0ab97U_IVcebD/view',\n",
       " 'https://drive.google.com/file/d/1UtuuncfRiEJN4Uuy4PyLOz0WwYybNPkL/view',\n",
       " 'https://drive.google.com/file/d/1Wd4BF21XC0spaXwq-ShDCEcNFAsKgOHY/view',\n",
       " 'https://drive.google.com/file/d/1X1v7-TtDvwDJ-GClD5CwpubEyxuMG6mt/view',\n",
       " 'https://drive.google.com/file/d/1XG_eVnWY3EK0y3k3niKjdd-M6pNO4A_B/view',\n",
       " 'https://drive.google.com/file/d/1XKc6saoFHWjUxCokk5SwoD7cuwwsfp4i/view',\n",
       " 'https://drive.google.com/file/d/1XKwFXB2Y5r0l4oAJb_xeqnDej_GRJFRJ/view',\n",
       " 'https://drive.google.com/file/d/1XYZ-gi4BWUQPoGNC9yGvSxVh2b2ntKjo/view',\n",
       " 'https://drive.google.com/file/d/1YJb5MtJSRWotXJj9gP8fYcgShrLy7L7M/view',\n",
       " 'https://drive.google.com/file/d/1Ynj_Q60QnpPFX2gUFrWXQz4DXJeOTOwb/view',\n",
       " 'https://drive.google.com/file/d/1ZJUzeedQieEJfv3U7osHB_Jk-OZJAA8m/view',\n",
       " 'https://drive.google.com/file/d/1ZzcytJXfyWZZuKwaGPbGagjSD42MZM7u/view',\n",
       " 'https://drive.google.com/file/d/1_js1SsV4EKXiwXlfWw6IdEWLSTNN-naJ/view',\n",
       " 'https://drive.google.com/file/d/1afnV4am0dQjmo5WJPlS6aY65wneMl_tN/view',\n",
       " 'https://drive.google.com/file/d/1b1PMr_FQVZxY-HtyxDMadelHl31tE-xN/view',\n",
       " 'https://drive.google.com/file/d/1b2xLGu7xB_J7rAq26rPuL99awNaRK_tv/view',\n",
       " 'https://drive.google.com/file/d/1bMTswC-WdN5UD-XyrGqYTPy34bN1ryYM/view',\n",
       " 'https://drive.google.com/file/d/1bfFsEXX0XyGjD8JCc0CQQSmHr96GKnWU/view',\n",
       " 'https://drive.google.com/file/d/1cai1tmc2O1O4S0ecrsCA8ztti1mBRra6/view',\n",
       " 'https://drive.google.com/file/d/1jTv5TQdFXFswbYbflPo619Ge9C8MmAq-/view',\n",
       " 'https://drive.google.com/file/d/1jbq62pHc1unl2bJxo2O-7Ucl-Fs6riZ0/view',\n",
       " 'https://drive.google.com/file/d/1l451l3ipI_s8TA1LqTNLzXrPgTsYKTJ1/view',\n",
       " 'https://drive.google.com/file/d/1lEk7TUJyXtyOnrvMjz8n66nDMNAmuON_/view',\n",
       " 'https://drive.google.com/file/d/1lbI18qIQ0mNqfz-WcCLNaFgEFiR7VpkH/view',\n",
       " 'https://drive.google.com/file/d/1mru9DrnAV5W34BlTkQMIk2SAYvUQBh_N/view',\n",
       " 'https://drive.google.com/file/d/1n_gaPT7H06b3muVRDO7StM0yC2OgSPZH/view',\n",
       " 'https://drive.google.com/file/d/1njaw-HIAZCyC_OuqtOuQLN4HgXRcOfRN/view',\n",
       " 'https://drive.google.com/file/d/1nzrY9H4F0I_fzdw3LQmMLTdKpzogHYha/view',\n",
       " 'https://drive.google.com/file/d/1oM6LZtueFqKVptpT5HWbSiKRdotuCoAK/view',\n",
       " 'https://drive.google.com/file/d/1oPDGNGmiUygwD-dfSxdo7wbDB3DthBrW/view',\n",
       " 'https://drive.google.com/file/d/1oeUEgkZMgMtgH1EKLMzSRauU0nug8Wbs/view',\n",
       " 'https://drive.google.com/file/d/1ozI3HJYvf-fIRC-SLNkpEJx_FJ3mj_Qm/view',\n",
       " 'https://drive.google.com/file/d/1ph-XBnXfTvi-S55-qRUVfseEV-k646ly/view',\n",
       " 'https://drive.google.com/file/d/1qyp6a2MXZ5GwBLIYsluX8HhB0yJ3RhOm/view',\n",
       " 'https://drive.google.com/file/d/1t-bj_qWtR_5460g1EMbz9hxwF3Ryk1GZ/view',\n",
       " 'https://drive.google.com/file/d/1t8U0r_mKk9s3juwrHDG4W3Z4iOcuGwPY/view',\n",
       " 'https://drive.google.com/file/d/1tM9zM_xZcLU8drVZvEjM_QDyGm1UnWaH/view',\n",
       " 'https://drive.google.com/file/d/1tYxotOdvrSyqWA6W2XTEQaAACf-GJ1sX/view',\n",
       " 'https://drive.google.com/file/d/1toyIW5vOv_CoGnRbORmmDg9eQkZhcl_4/view',\n",
       " 'https://drive.google.com/file/d/1v1LtPNtaS4saDthpevT-nmjffKeHFfBm/view',\n",
       " 'https://drive.google.com/file/d/1v5gMKFlf_4_2oVY3-vlL6oz17S2PW0WE/view',\n",
       " 'https://drive.google.com/file/d/1vhA9lOgYdBOsLxqWnUo8wlcgLLxYeiU6/view',\n",
       " 'https://drive.google.com/file/d/1vpmC4XJM9W5RaIGIP4jxrcFJWzGaHvS3/view',\n",
       " 'https://drive.google.com/file/d/1vu_-gCkmxvUSb1gotyPnq-TzpnAf7v7G/view',\n",
       " 'https://drive.google.com/file/d/1wc88YILrWnMbE4l9HCjxcsgsWuNeYaMZ/view',\n",
       " 'https://drive.google.com/file/d/1woMJg9-vlHdl7_EQhCxTym8_Kv16xv77/view',\n",
       " 'https://drive.google.com/file/d/1xTnp0zSX5B_9VOreAgRhGoSSXjtXdCc4/view',\n",
       " 'https://drive.google.com/file/d/1xW3EbDtc9YRzQpUzAc4WAKPrKBWW_oGa/view',\n",
       " 'https://drive.google.com/file/d/1y2um56C75fhMGtAf1kdclxSKKnjaxjhf/view',\n",
       " 'https://drive.google.com/file/d/1y8cLZqQCcLzf6wuyczq1lPp_F3xKwtUl/view',\n",
       " 'https://drive.google.com/file/d/1yqCGmp1GlvLl5STyYFK5dsLeNFD8-M0z/view',\n",
       " 'https://drive.google.com/file/d/1zM_kvAesv4v-NwdFlkoph_Efu2GVay95/view',\n",
       " 'https://drive.google.com/file/d/1zq_QudoQux56_AABgWd-E__s61OyyKwB/view']"
      ]
     },
     "execution_count": 4,
     "metadata": {},
     "output_type": "execute_result"
    }
   ],
   "source": [
    "a = soup.find_all('a')\n",
    "a = [a_.get('href') for a_ in a if 'drive.google' in a_.get('href')]\n",
    "a = sorted(list(set(a)))\n",
    "a"
   ]
  },
  {
   "cell_type": "code",
   "execution_count": 7,
   "metadata": {},
   "outputs": [
    {
     "name": "stderr",
     "output_type": "stream",
     "text": [
      "Downloading...\n",
      "From: https://drive.google.com/uc?id=1zq_QudoQux56_AABgWd-E__s61OyyKwB\n",
      "To: /home/husein/ssd3/buku-teks/Tahun 5 BI.pdf\n",
      "100%|████████████████████████████████████████████████████████████████████████████████████████████████████████| 38.3M/38.3M [00:05<00:00, 7.05MB/s]\n"
     ]
    },
    {
     "data": {
      "text/plain": [
       "'Tahun 5 BI.pdf'"
      ]
     },
     "execution_count": 7,
     "metadata": {},
     "output_type": "execute_result"
    }
   ],
   "source": [
    "import gdown\n",
    "\n",
    "gdown.download(id = '1zq_QudoQux56_AABgWd-E__s61OyyKwB')"
   ]
  },
  {
   "cell_type": "code",
   "execution_count": 11,
   "metadata": {},
   "outputs": [
    {
     "name": "stderr",
     "output_type": "stream",
     "text": [
      "100%|█████████████████████████████████████████████████████████████████████████████████████████████████████████████| 96/96 [27:36<00:00, 17.26s/it]\n"
     ]
    }
   ],
   "source": [
    "import gdown\n",
    "from tqdm import tqdm\n",
    "\n",
    "for url in tqdm(a):\n",
    "    if 'drive/folders' in url:\n",
    "        gdown.download_folder(url, quiet=True, use_cookies=False)\n",
    "    else:\n",
    "        id = url.split('/d/')[1].split('/view')[0]\n",
    "        gdown.download(id=id, quiet=True)"
   ]
  },
  {
   "cell_type": "code",
   "execution_count": null,
   "metadata": {},
   "outputs": [],
   "source": []
  }
 ],
 "metadata": {
  "kernelspec": {
   "display_name": "Python 3 (ipykernel)",
   "language": "python",
   "name": "python3"
  },
  "language_info": {
   "codemirror_mode": {
    "name": "ipython",
    "version": 3
   },
   "file_extension": ".py",
   "mimetype": "text/x-python",
   "name": "python",
   "nbconvert_exporter": "python",
   "pygments_lexer": "ipython3",
   "version": "3.8.10"
  }
 },
 "nbformat": 4,
 "nbformat_minor": 4
}
