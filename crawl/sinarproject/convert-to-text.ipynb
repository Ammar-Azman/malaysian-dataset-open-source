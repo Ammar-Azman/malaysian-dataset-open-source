{
 "cells": [
  {
   "cell_type": "code",
   "execution_count": 3,
   "metadata": {},
   "outputs": [],
   "source": [
    "import requests\n",
    "from bs4 import BeautifulSoup\n",
    "from tqdm import tqdm\n",
    "import os\n",
    "import json\n",
    "import numpy as np\n",
    "import time\n",
    "import random\n",
    "import json\n",
    "from concurrent.futures import ThreadPoolExecutor, as_completed\n",
    "from datetime import datetime, timedelta\n",
    "from tika import parser\n",
    "from bs4.element import Comment\n",
    "from bs4 import BeautifulSoup\n",
    "from glob import glob"
   ]
  },
  {
   "cell_type": "code",
   "execution_count": 4,
   "metadata": {},
   "outputs": [],
   "source": [
    "TIKA_HOST = 'http://localhost:9998'\n",
    "\n",
    "def tag_visible(element):\n",
    "    if element.parent.name in ['style', 'script', 'head', 'title', 'meta', '[document]']:\n",
    "        return False\n",
    "    if isinstance(element, Comment):\n",
    "        return False\n",
    "    return True\n",
    "\n",
    "\n",
    "def text_from_html(body, is_html=True):\n",
    "    if is_html:\n",
    "        soup = BeautifulSoup(body, 'html.parser')\n",
    "    else:\n",
    "        soup = body\n",
    "    texts = soup.findAll(text=True)\n",
    "    visible_texts = filter(tag_visible, texts)\n",
    "    return '\\n'.join(t.strip() for t in visible_texts).strip()\n",
    "\n",
    "\n",
    "def parse_tika(file, minlen=2):\n",
    "    raw_xml = parser.from_file(file, TIKA_HOST, xmlContent=True)\n",
    "    body = BeautifulSoup(raw_xml['content']).find('body')\n",
    "    t = []\n",
    "    for b in body:\n",
    "        try:\n",
    "            t_ = text_from_html(b, is_html=False)\n",
    "            if len(t_) > minlen:\n",
    "                t.append(t_)\n",
    "        except Exception as e:\n",
    "            pass\n",
    "    \n",
    "    return t"
   ]
  },
  {
   "cell_type": "code",
   "execution_count": 6,
   "metadata": {},
   "outputs": [
    {
     "data": {
      "text/plain": [
       "1277"
      ]
     },
     "execution_count": 6,
     "metadata": {},
     "output_type": "execute_result"
    }
   ],
   "source": [
    "files = glob('govdocs/*')\n",
    "len(files)"
   ]
  },
  {
   "cell_type": "code",
   "execution_count": 8,
   "metadata": {},
   "outputs": [
    {
     "name": "stderr",
     "output_type": "stream",
     "text": [
      "100%|███████████████████████████████████████| 1277/1277 [03:50<00:00,  5.54it/s]\n"
     ]
    }
   ],
   "source": [
    "with open('govdocs.jsonl', 'w') as fopen:\n",
    "    for f in tqdm(files):\n",
    "        t = '\\n'.join(parse_tika(f))\n",
    "        data = {\n",
    "            'file': f,\n",
    "            'text': t,\n",
    "        }\n",
    "        fopen.write(f'{json.dumps(data)}\\n')"
   ]
  },
  {
   "cell_type": "code",
   "execution_count": null,
   "metadata": {},
   "outputs": [],
   "source": []
  }
 ],
 "metadata": {
  "kernelspec": {
   "display_name": "Python 3 (ipykernel)",
   "language": "python",
   "name": "python3"
  },
  "language_info": {
   "codemirror_mode": {
    "name": "ipython",
    "version": 3
   },
   "file_extension": ".py",
   "mimetype": "text/x-python",
   "name": "python",
   "nbconvert_exporter": "python",
   "pygments_lexer": "ipython3",
   "version": "3.8.10"
  }
 },
 "nbformat": 4,
 "nbformat_minor": 4
}
