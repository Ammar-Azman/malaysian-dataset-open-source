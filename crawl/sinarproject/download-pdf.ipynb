{
 "cells": [
  {
   "cell_type": "code",
   "execution_count": 8,
   "metadata": {},
   "outputs": [],
   "source": [
    "import requests\n",
    "from bs4 import BeautifulSoup\n",
    "from tqdm import tqdm\n",
    "import os\n",
    "import json\n",
    "import numpy as np\n",
    "import time\n",
    "import random\n",
    "import json\n",
    "from concurrent.futures import ThreadPoolExecutor, as_completed\n",
    "from datetime import datetime, timedelta"
   ]
  },
  {
   "cell_type": "code",
   "execution_count": 4,
   "metadata": {},
   "outputs": [],
   "source": [
    "headers = {\n",
    "    'Content-Type': 'application/json'\n",
    "}"
   ]
  },
  {
   "cell_type": "code",
   "execution_count": 22,
   "metadata": {},
   "outputs": [
    {
     "name": "stderr",
     "output_type": "stream",
     "text": [
      "100%|███████████████████████████████████████████████████████████████████████████████████████████████████████████| 130/130 [02:10<00:00,  1.01s/it]\n"
     ]
    }
   ],
   "source": [
    "all_a = []\n",
    "for i in tqdm(range(0, 1300, 10)):\n",
    "    r = requests.get(f'https://govdocs.sinarproject.org/@@search?SearchableText=&sort_on=relevance&b_start:int={i}',\n",
    "                headers = headers)\n",
    "    soup = BeautifulSoup(r.content, \"lxml\")\n",
    "    a = soup.find_all('a', {'class': 'state-'})\n",
    "    a = [a_.get('href') for a_ in a]\n",
    "    all_a.extend(a)"
   ]
  },
  {
   "cell_type": "code",
   "execution_count": 24,
   "metadata": {},
   "outputs": [
    {
     "data": {
      "text/plain": [
       "1277"
      ]
     },
     "execution_count": 24,
     "metadata": {},
     "output_type": "execute_result"
    }
   ],
   "source": [
    "urls = sorted(list(set(all_a)))\n",
    "len(urls)"
   ]
  },
  {
   "cell_type": "code",
   "execution_count": 25,
   "metadata": {},
   "outputs": [
    {
     "data": {
      "text/plain": [
       "'https://govdocs.sinarproject.org/documents/attorney-generals-chambers/federal-government-gazette/pub_20110426_notis-kepada-pihak-ketiga-natrah-othman.pdf/view'"
      ]
     },
     "execution_count": 25,
     "metadata": {},
     "output_type": "execute_result"
    }
   ],
   "source": [
    "urls[0]"
   ]
  },
  {
   "cell_type": "code",
   "execution_count": 26,
   "metadata": {},
   "outputs": [],
   "source": [
    "!mkdir govdocs"
   ]
  },
  {
   "cell_type": "code",
   "execution_count": 30,
   "metadata": {},
   "outputs": [
    {
     "name": "stderr",
     "output_type": "stream",
     "text": [
      "100%|███████████████████████████████████████████████████████████████████████████████████████████████████████| 1277/1277 [1:00:42<00:00,  2.85s/it]\n"
     ]
    }
   ],
   "source": [
    "for i in tqdm(range(len(urls))):\n",
    "    url = urls[i]\n",
    "    url = url.replace('/view', '')\n",
    "    r = requests.get(url)\n",
    "    file = os.path.join('govdocs', f'{i}.pdf')\n",
    "    with open(file, 'wb') as fopen:\n",
    "        fopen.write(r.content)"
   ]
  }
 ],
 "metadata": {
  "kernelspec": {
   "display_name": "Python 3 (ipykernel)",
   "language": "python",
   "name": "python3"
  },
  "language_info": {
   "codemirror_mode": {
    "name": "ipython",
    "version": 3
   },
   "file_extension": ".py",
   "mimetype": "text/x-python",
   "name": "python",
   "nbconvert_exporter": "python",
   "pygments_lexer": "ipython3",
   "version": "3.8.10"
  }
 },
 "nbformat": 4,
 "nbformat_minor": 4
}
