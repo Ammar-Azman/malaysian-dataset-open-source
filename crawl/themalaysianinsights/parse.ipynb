{
 "cells": [
  {
   "cell_type": "code",
   "execution_count": 24,
   "metadata": {},
   "outputs": [],
   "source": [
    "from glob import glob\n",
    "from tqdm import tqdm\n",
    "import json"
   ]
  },
  {
   "cell_type": "code",
   "execution_count": 25,
   "metadata": {},
   "outputs": [
    {
     "data": {
      "text/plain": [
       "281760"
      ]
     },
     "execution_count": 25,
     "metadata": {},
     "output_type": "execute_result"
    }
   ],
   "source": [
    "files = sorted(glob('page/*.json'))\n",
    "len(files)"
   ]
  },
  {
   "cell_type": "code",
   "execution_count": 26,
   "metadata": {},
   "outputs": [
    {
     "name": "stdout",
     "output_type": "stream",
     "text": [
      "1.2G\tpage\r\n"
     ]
    }
   ],
   "source": [
    "!du -hs page"
   ]
  },
  {
   "cell_type": "code",
   "execution_count": 27,
   "metadata": {},
   "outputs": [
    {
     "name": "stderr",
     "output_type": "stream",
     "text": [
      "100%|████████████████████████████████| 281760/281760 [00:03<00:00, 78958.42it/s]\n"
     ]
    }
   ],
   "source": [
    "with open('themalaysianinsights.jsonl', 'w') as fopen_l:\n",
    "    for f in tqdm(files):\n",
    "        with open(f) as fopen:\n",
    "            data = json.load(fopen)\n",
    "        \n",
    "        if not len(data):\n",
    "            continue\n",
    "        \n",
    "        fopen_l.write(f'{json.dumps(data)}\\n')"
   ]
  },
  {
   "cell_type": "code",
   "execution_count": 28,
   "metadata": {},
   "outputs": [
    {
     "name": "stdout",
     "output_type": "stream",
     "text": [
      "{\"url\": \"https://www.themalaysianinsight.com/bahasa/s/409343\", \"title\": \"Presiden Venezuela, Colombia bertemu\", \"p\": [\"PRESIDEN Venezuela dan Colombia bertemu semalam, pertemuan pertama dalam tempoh beberapa tahun setelah kedua-dua negara Amerika Latin yang berjiran itu menambahbaik hubungan mereka dan menggalakkan kerjasama ekonomi dan perdagangan, lapor Xinhua.\", \"Semasa lawatan Presiden Colombia Gustavo Petro ke ibu kota Caracas \\u2013 kali pertama ketua negara Colombia itu melawat Venezuela sejak 2016 \\u2013 beliau mengadakan perbincangan dengan rakan sejawatannya Nicolas Maduro.\", \"Maduro menyambut kedatangan Petro di istana presiden Miraflores dan diberi penghormatan dan dilayan dengan muzik tradisional Colombia.\", \"Venezuela memutuskan hubungan diplomatik dengan Colombia pada 2019 selepas kerajaan Presiden Colombia ketika itu Ivan Duque mengiktiraf ketua pembangkang Juan Guaido sebagai pemangku presiden Venezuela.\", \"Selepas Petro menggantikan Duque beliau memberi isyarat mengenai peralihan dalam dasar luar terhadap Venezuela dan Caracas menyatakan kesediaannya untuk memulihkan hubungan.\", \"Kedua-dua negara memulihkan hubungan diplomatik penuh pada akhir Ogos membuka semula lintasan sempadan dan menghantar duta masing-masing.\\u00a0\\u2013 Bernama, 2 November, 2022.\"]}\r\n"
     ]
    }
   ],
   "source": [
    "!tail -n 1 themalaysianinsights.jsonl"
   ]
  },
  {
   "cell_type": "code",
   "execution_count": null,
   "metadata": {},
   "outputs": [],
   "source": []
  }
 ],
 "metadata": {
  "kernelspec": {
   "display_name": "Python 3 (ipykernel)",
   "language": "python",
   "name": "python3"
  },
  "language_info": {
   "codemirror_mode": {
    "name": "ipython",
    "version": 3
   },
   "file_extension": ".py",
   "mimetype": "text/x-python",
   "name": "python",
   "nbconvert_exporter": "python",
   "pygments_lexer": "ipython3",
   "version": "3.8.10"
  }
 },
 "nbformat": 4,
 "nbformat_minor": 4
}
