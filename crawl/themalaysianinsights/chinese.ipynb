{
 "cells": [
  {
   "cell_type": "code",
   "execution_count": 4,
   "metadata": {},
   "outputs": [],
   "source": [
    "import requests\n",
    "from bs4 import BeautifulSoup\n",
    "from tqdm import tqdm\n",
    "import os\n",
    "import json\n",
    "import numpy as np\n",
    "import time\n",
    "import random\n",
    "import json"
   ]
  },
  {
   "cell_type": "code",
   "execution_count": 5,
   "metadata": {},
   "outputs": [],
   "source": [
    "r = requests.get('https://www.themalaysianinsight.com/chinese')"
   ]
  },
  {
   "cell_type": "code",
   "execution_count": 6,
   "metadata": {},
   "outputs": [],
   "source": [
    "soup = BeautifulSoup(r.content, \"lxml\")\n",
    "a = soup.find_all('a')\n",
    "a = [a_.get('href') for a_ in a if a_.get('href')]"
   ]
  },
  {
   "cell_type": "code",
   "execution_count": 7,
   "metadata": {
    "scrolled": true
   },
   "outputs": [
    {
     "data": {
      "text/plain": [
       "['https://www.themalaysianinsight.com/chinese/c/most-read',\n",
       " 'https://www.themalaysianinsight.com/chinese/c/notices',\n",
       " 'https://www.themalaysianinsight.com/chinese/c/other-news',\n",
       " 'https://www.themalaysianinsight.com/chinese/c/pictures',\n",
       " 'https://www.themalaysianinsight.com/chinese/c/editorial',\n",
       " 'https://www.themalaysianinsight.com/chinese/c/your-insight',\n",
       " 'https://www.themalaysianinsight.com/chinese/c/voices',\n",
       " 'https://www.themalaysianinsight.com/chinese/c/videos',\n",
       " 'https://www.themalaysianinsight.com/chinese/c/news']"
      ]
     },
     "execution_count": 7,
     "metadata": {},
     "output_type": "execute_result"
    }
   ],
   "source": [
    "topics = list(set([a_ for a_ in a if 'https://www.themalaysianinsight.com/chinese/c' in a_]))\n",
    "topics"
   ]
  },
  {
   "cell_type": "code",
   "execution_count": 9,
   "metadata": {},
   "outputs": [
    {
     "data": {
      "text/plain": [
       "'chinese-c-most-read'"
      ]
     },
     "execution_count": 9,
     "metadata": {},
     "output_type": "execute_result"
    }
   ],
   "source": [
    "topic_c = '-'.join(topics[0].split('/')[-3:])\n",
    "topic_c"
   ]
  },
  {
   "cell_type": "code",
   "execution_count": 15,
   "metadata": {},
   "outputs": [],
   "source": [
    "def crawl(url, filename):\n",
    "    if os.path.exists(filename):\n",
    "        return True\n",
    "    while True:\n",
    "        try:\n",
    "            r = requests.get(url)\n",
    "            break\n",
    "        except:\n",
    "            time.sleep(1.0)\n",
    "    soup = BeautifulSoup(r.content, \"lxml\")\n",
    "    divs = soup.find_all('div', {'class': 'story'})\n",
    "    urls = []\n",
    "    for div in divs:\n",
    "        a = div.find_all('a')\n",
    "        a = [a_.get('href') for a_ in a if a_.get('href')]\n",
    "        a = list(set([a_ for a_ in a if 'https://www.themalaysianinsight.com/' in a_]))\n",
    "        urls.extend(a)\n",
    "    with open(filename, 'w') as fopen:\n",
    "        json.dump(urls, fopen)\n",
    "    return len(urls) > 0"
   ]
  },
  {
   "cell_type": "code",
   "execution_count": 16,
   "metadata": {},
   "outputs": [
    {
     "name": "stdout",
     "output_type": "stream",
     "text": [
      "mkdir: cannot create directory ‘url’: File exists\r\n"
     ]
    }
   ],
   "source": [
    "directory = 'url'\n",
    "!mkdir {directory}"
   ]
  },
  {
   "cell_type": "code",
   "execution_count": null,
   "metadata": {},
   "outputs": [
    {
     "name": "stdout",
     "output_type": "stream",
     "text": [
      "chinese-c-notices\n"
     ]
    },
    {
     "name": "stderr",
     "output_type": "stream",
     "text": [
      "  0%|                                                 | 0/10000 [00:20<?, ?it/s]\n"
     ]
    },
    {
     "name": "stdout",
     "output_type": "stream",
     "text": [
      "chinese-c-other-news\n"
     ]
    },
    {
     "name": "stderr",
     "output_type": "stream",
     "text": [
      "  0%|                                     | 12/10000 [03:08<43:32:12, 15.69s/it]\n"
     ]
    },
    {
     "name": "stdout",
     "output_type": "stream",
     "text": [
      "chinese-c-pictures\n"
     ]
    },
    {
     "name": "stderr",
     "output_type": "stream",
     "text": [
      "  0%|                                       | 2/10000 [00:01<1:32:02,  1.81it/s]\n"
     ]
    },
    {
     "name": "stdout",
     "output_type": "stream",
     "text": [
      "chinese-c-editorial\n"
     ]
    },
    {
     "name": "stderr",
     "output_type": "stream",
     "text": [
      "  0%|                                      | 2/10000 [00:43<59:58:32, 21.60s/it]\n"
     ]
    },
    {
     "name": "stdout",
     "output_type": "stream",
     "text": [
      "chinese-c-your-insight\n"
     ]
    },
    {
     "name": "stderr",
     "output_type": "stream",
     "text": [
      "  0%|                                      | 1/10000 [00:29<81:08:04, 29.21s/it]\n"
     ]
    },
    {
     "name": "stdout",
     "output_type": "stream",
     "text": [
      "chinese-c-voices\n"
     ]
    },
    {
     "name": "stderr",
     "output_type": "stream",
     "text": [
      "  2%|▊                                 | 227/10000 [1:11:31<18:23:28,  6.77s/it]"
     ]
    }
   ],
   "source": [
    "from concurrent.futures import ThreadPoolExecutor, as_completed\n",
    "\n",
    "max_worker = 10\n",
    "\n",
    "for topic in topics:\n",
    "    if 'most-read' in topic:\n",
    "        continue\n",
    "    topic_c = '-'.join(topic.split('/')[-3:])\n",
    "    print(topic_c)\n",
    "    done = False\n",
    "    for i in tqdm(range(0, 100000, max_worker)):\n",
    "        aranged = np.arange(i, i + max_worker)\n",
    "        urls = [(f'{topic}?page={a}', \n",
    "                 os.path.join(directory, f'{topic_c}-{a}.json')) for a in aranged]\n",
    "        with ThreadPoolExecutor(max_workers=max_worker) as executor:\n",
    "            futures = {executor.submit(crawl, url[0], url[1]): url for url in urls}\n",
    "        \n",
    "        \n",
    "        for future in as_completed(futures):\n",
    "            if not future.result():\n",
    "                done = True\n",
    "        \n",
    "        if done:\n",
    "            break"
   ]
  },
  {
   "cell_type": "code",
   "execution_count": null,
   "metadata": {},
   "outputs": [],
   "source": []
  }
 ],
 "metadata": {
  "kernelspec": {
   "display_name": "Python 3 (ipykernel)",
   "language": "python",
   "name": "python3"
  },
  "language_info": {
   "codemirror_mode": {
    "name": "ipython",
    "version": 3
   },
   "file_extension": ".py",
   "mimetype": "text/x-python",
   "name": "python",
   "nbconvert_exporter": "python",
   "pygments_lexer": "ipython3",
   "version": "3.8.10"
  }
 },
 "nbformat": 4,
 "nbformat_minor": 4
}
