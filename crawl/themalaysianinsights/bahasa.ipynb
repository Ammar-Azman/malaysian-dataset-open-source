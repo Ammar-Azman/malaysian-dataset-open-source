{
 "cells": [
  {
   "cell_type": "code",
   "execution_count": 5,
   "metadata": {},
   "outputs": [],
   "source": [
    "import requests\n",
    "from bs4 import BeautifulSoup\n",
    "from tqdm import tqdm\n",
    "import os\n",
    "import json\n",
    "import numpy as np\n",
    "import time\n",
    "import random\n",
    "import json"
   ]
  },
  {
   "cell_type": "code",
   "execution_count": 3,
   "metadata": {},
   "outputs": [],
   "source": [
    "r = requests.get('https://www.themalaysianinsight.com/bahasa')"
   ]
  },
  {
   "cell_type": "code",
   "execution_count": 8,
   "metadata": {},
   "outputs": [],
   "source": [
    "soup = BeautifulSoup(r.content, \"lxml\")\n",
    "a = soup.find_all('a')\n",
    "a = [a_.get('href') for a_ in a if a_.get('href')]"
   ]
  },
  {
   "cell_type": "code",
   "execution_count": 13,
   "metadata": {
    "scrolled": true
   },
   "outputs": [
    {
     "data": {
      "text/plain": [
       "['https://www.themalaysianinsight.com/bahasa/c/other-news',\n",
       " 'https://www.themalaysianinsight.com/bahasa/c/editorial',\n",
       " 'https://www.themalaysianinsight.com/bahasa/c/voices',\n",
       " 'https://www.themalaysianinsight.com/bahasa/c/news',\n",
       " 'https://www.themalaysianinsight.com/bahasa/c/pictures',\n",
       " 'https://www.themalaysianinsight.com/bahasa/c/notices',\n",
       " 'https://www.themalaysianinsight.com/bahasa/c/your-insight',\n",
       " 'https://www.themalaysianinsight.com/bahasa/c/videos',\n",
       " 'https://www.themalaysianinsight.com/bahasa/c/most-read']"
      ]
     },
     "execution_count": 13,
     "metadata": {},
     "output_type": "execute_result"
    }
   ],
   "source": [
    "topics = list(set([a_ for a_ in a if 'https://www.themalaysianinsight.com/bahasa/c' in a_]))\n",
    "topics"
   ]
  },
  {
   "cell_type": "code",
   "execution_count": 69,
   "metadata": {},
   "outputs": [],
   "source": [
    "topic_c = '-'.join(topics[0].split('/')[-3:])"
   ]
  },
  {
   "cell_type": "code",
   "execution_count": 74,
   "metadata": {},
   "outputs": [],
   "source": [
    "def crawl(url, filename):\n",
    "    if os.path.exists(filename):\n",
    "        return True\n",
    "    r = requests.get(url)\n",
    "    soup = BeautifulSoup(r.content, \"lxml\")\n",
    "    divs = soup.find_all('div', {'class': 'story'})\n",
    "    urls = []\n",
    "    for div in divs:\n",
    "        a = div.find_all('a')\n",
    "        a = [a_.get('href') for a_ in a if a_.get('href')]\n",
    "        a = list(set([a_ for a_ in a if 'https://www.themalaysianinsight.com/' in a_]))\n",
    "        urls.extend(a)\n",
    "    with open(filename, 'w') as fopen:\n",
    "        json.dump(urls, fopen)\n",
    "    return len(urls) > 0"
   ]
  },
  {
   "cell_type": "code",
   "execution_count": 71,
   "metadata": {},
   "outputs": [],
   "source": [
    "directory = 'url'\n",
    "!mkdir {directory}"
   ]
  },
  {
   "cell_type": "code",
   "execution_count": 82,
   "metadata": {},
   "outputs": [
    {
     "name": "stdout",
     "output_type": "stream",
     "text": [
      "bahasa-c-other-news\n"
     ]
    },
    {
     "name": "stderr",
     "output_type": "stream",
     "text": [
      "  1%|▌                                      | 131/10000 [00:29<36:28,  4.51it/s]\n"
     ]
    },
    {
     "name": "stdout",
     "output_type": "stream",
     "text": [
      "bahasa-c-editorial\n"
     ]
    },
    {
     "name": "stderr",
     "output_type": "stream",
     "text": [
      "  0%|                                      | 2/10000 [00:22<31:28:45, 11.33s/it]\n"
     ]
    },
    {
     "name": "stdout",
     "output_type": "stream",
     "text": [
      "bahasa-c-voices\n"
     ]
    },
    {
     "name": "stderr",
     "output_type": "stream",
     "text": [
      "  0%|                                      | 5/10000 [00:22<12:40:19,  4.56s/it]\n"
     ]
    },
    {
     "name": "stdout",
     "output_type": "stream",
     "text": [
      "bahasa-c-news\n"
     ]
    },
    {
     "name": "stderr",
     "output_type": "stream",
     "text": [
      "  4%|█▏                                | 359/10000 [1:10:24<31:30:39, 11.77s/it]\n"
     ]
    },
    {
     "name": "stdout",
     "output_type": "stream",
     "text": [
      "bahasa-c-pictures\n"
     ]
    },
    {
     "name": "stderr",
     "output_type": "stream",
     "text": [
      "  0%|                                       | 5/10000 [00:02<1:17:16,  2.16it/s]\n"
     ]
    },
    {
     "name": "stdout",
     "output_type": "stream",
     "text": [
      "bahasa-c-notices\n"
     ]
    },
    {
     "name": "stderr",
     "output_type": "stream",
     "text": [
      "  0%|                                                 | 0/10000 [00:21<?, ?it/s]\n"
     ]
    },
    {
     "name": "stdout",
     "output_type": "stream",
     "text": [
      "bahasa-c-your-insight\n"
     ]
    },
    {
     "name": "stderr",
     "output_type": "stream",
     "text": [
      "  0%|                                     | 10/10000 [01:41<28:09:02, 10.14s/it]\n"
     ]
    },
    {
     "name": "stdout",
     "output_type": "stream",
     "text": [
      "bahasa-c-videos\n"
     ]
    },
    {
     "name": "stderr",
     "output_type": "stream",
     "text": [
      "  0%|                                      | 32/10000 [00:15<1:20:31,  2.06it/s]\n"
     ]
    }
   ],
   "source": [
    "from concurrent.futures import ThreadPoolExecutor, as_completed\n",
    "\n",
    "max_worker = 10\n",
    "\n",
    "for topic in topics:\n",
    "    if 'most-read' in topic:\n",
    "        continue\n",
    "    topic_c = '-'.join(topic.split('/')[-3:])\n",
    "    print(topic_c)\n",
    "    done = False\n",
    "    for i in tqdm(range(0, 100000, max_worker)):\n",
    "        aranged = np.arange(i, i + max_worker)\n",
    "        urls = [(f'{topic}?page={a}', \n",
    "                 os.path.join(directory, f'{topic_c}-{a}.json')) for a in aranged]\n",
    "        with ThreadPoolExecutor(max_workers=max_worker) as executor:\n",
    "            futures = {executor.submit(crawl, url[0], url[1]): url for url in urls}\n",
    "        \n",
    "        \n",
    "        for future in as_completed(futures):\n",
    "            if not future.result():\n",
    "                done = True\n",
    "        \n",
    "        if done:\n",
    "            break"
   ]
  },
  {
   "cell_type": "code",
   "execution_count": null,
   "metadata": {},
   "outputs": [],
   "source": []
  }
 ],
 "metadata": {
  "kernelspec": {
   "display_name": "Python 3 (ipykernel)",
   "language": "python",
   "name": "python3"
  },
  "language_info": {
   "codemirror_mode": {
    "name": "ipython",
    "version": 3
   },
   "file_extension": ".py",
   "mimetype": "text/x-python",
   "name": "python",
   "nbconvert_exporter": "python",
   "pygments_lexer": "ipython3",
   "version": "3.8.10"
  }
 },
 "nbformat": 4,
 "nbformat_minor": 4
}
