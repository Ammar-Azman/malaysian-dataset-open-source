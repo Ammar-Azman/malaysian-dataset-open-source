{
 "cells": [
  {
   "cell_type": "code",
   "execution_count": 1,
   "metadata": {},
   "outputs": [],
   "source": [
    "import requests\n",
    "from bs4 import BeautifulSoup\n",
    "from tqdm import tqdm\n",
    "import os\n",
    "import json\n",
    "import numpy as np\n",
    "import time\n",
    "import random\n",
    "import json\n",
    "import urllib3\n",
    "urllib3.disable_warnings(urllib3.exceptions.InsecureRequestWarning)"
   ]
  },
  {
   "cell_type": "code",
   "execution_count": 5,
   "metadata": {},
   "outputs": [],
   "source": [
    "url = 'https://www.blogtipskerjaya.net/page/1/'\n",
    "r = requests.get(url)"
   ]
  },
  {
   "cell_type": "code",
   "execution_count": 6,
   "metadata": {},
   "outputs": [],
   "source": [
    "soup = BeautifulSoup(r.content, \"lxml\")"
   ]
  },
  {
   "cell_type": "code",
   "execution_count": 7,
   "metadata": {},
   "outputs": [
    {
     "data": {
      "text/plain": [
       "['https://www.blogtipskerjaya.net/contoh-soalan-spier-pegawai-penguatkuasa-kp41/',\n",
       " 'https://www.blogtipskerjaya.net/contoh-soalan-spier-pembantu-penguatkuasa-kp19/',\n",
       " 'https://www.blogtipskerjaya.net/contoh-soalan-ujian-psikometrik-pembantu-penerangan-s19/',\n",
       " 'https://www.blogtipskerjaya.net/contoh-soalan-spier-pegawai-imigresen-kp19/',\n",
       " 'https://www.blogtipskerjaya.net/contoh-soalan-ujian-psikometrik-pembantu-penguasa-kastam-wk19/',\n",
       " 'https://www.blogtipskerjaya.net/contoh-soalan-ujian-psikometrik-penolong-pegawai-pembangunan-masyarakat-s29/',\n",
       " 'https://www.blogtipskerjaya.net/contoh-soalan-ujian-psikometrik-penolong-pegawai-tadbir-n29-rekod-perubatan/',\n",
       " 'https://www.blogtipskerjaya.net/contoh-soalan-ujian-psikometrik-pembantu-penerbitan-n19/',\n",
       " 'https://www.blogtipskerjaya.net/contoh-soalan-ujian-psikometrik-penguasa-kastam-wk41/',\n",
       " 'https://www.blogtipskerjaya.net/contoh-soalan-spier-polis/']"
      ]
     },
     "execution_count": 7,
     "metadata": {},
     "output_type": "execute_result"
    }
   ],
   "source": [
    "a = soup.find_all('article')\n",
    "a = [a_.find('a').get('href') for a_ in a]\n",
    "a"
   ]
  },
  {
   "cell_type": "code",
   "execution_count": 8,
   "metadata": {},
   "outputs": [
    {
     "name": "stderr",
     "output_type": "stream",
     "text": [
      "546it [02:30,  3.63it/s]\n"
     ]
    },
    {
     "ename": "KeyboardInterrupt",
     "evalue": "",
     "output_type": "error",
     "traceback": [
      "\u001b[0;31m---------------------------------------------------------------------------\u001b[0m",
      "\u001b[0;31mKeyboardInterrupt\u001b[0m                         Traceback (most recent call last)",
      "\u001b[0;32m/tmp/ipykernel_3495486/3997290462.py\u001b[0m in \u001b[0;36m<module>\u001b[0;34m\u001b[0m\n\u001b[1;32m      8\u001b[0m \u001b[0;32mfor\u001b[0m \u001b[0m_\u001b[0m \u001b[0;32min\u001b[0m \u001b[0mtqdm\u001b[0m\u001b[0;34m(\u001b[0m\u001b[0mgenerator\u001b[0m\u001b[0;34m(\u001b[0m\u001b[0;34m)\u001b[0m\u001b[0;34m)\u001b[0m\u001b[0;34m:\u001b[0m\u001b[0;34m\u001b[0m\u001b[0;34m\u001b[0m\u001b[0m\n\u001b[1;32m      9\u001b[0m     \u001b[0murl\u001b[0m \u001b[0;34m=\u001b[0m \u001b[0;34mf'https://www.blogtipskerjaya.net/page/{index}/'\u001b[0m\u001b[0;34m\u001b[0m\u001b[0;34m\u001b[0m\u001b[0m\n\u001b[0;32m---> 10\u001b[0;31m     \u001b[0mr\u001b[0m \u001b[0;34m=\u001b[0m \u001b[0mrequests\u001b[0m\u001b[0;34m.\u001b[0m\u001b[0mget\u001b[0m\u001b[0;34m(\u001b[0m\u001b[0murl\u001b[0m\u001b[0;34m)\u001b[0m\u001b[0;34m\u001b[0m\u001b[0;34m\u001b[0m\u001b[0m\n\u001b[0m\u001b[1;32m     11\u001b[0m     \u001b[0msoup\u001b[0m \u001b[0;34m=\u001b[0m \u001b[0mBeautifulSoup\u001b[0m\u001b[0;34m(\u001b[0m\u001b[0mr\u001b[0m\u001b[0;34m.\u001b[0m\u001b[0mcontent\u001b[0m\u001b[0;34m,\u001b[0m \u001b[0;34m\"lxml\"\u001b[0m\u001b[0;34m)\u001b[0m\u001b[0;34m\u001b[0m\u001b[0;34m\u001b[0m\u001b[0m\n\u001b[1;32m     12\u001b[0m \u001b[0;34m\u001b[0m\u001b[0m\n",
      "\u001b[0;32m~/.local/lib/python3.8/site-packages/requests/api.py\u001b[0m in \u001b[0;36mget\u001b[0;34m(url, params, **kwargs)\u001b[0m\n\u001b[1;32m     73\u001b[0m     \"\"\"\n\u001b[1;32m     74\u001b[0m \u001b[0;34m\u001b[0m\u001b[0m\n\u001b[0;32m---> 75\u001b[0;31m     \u001b[0;32mreturn\u001b[0m \u001b[0mrequest\u001b[0m\u001b[0;34m(\u001b[0m\u001b[0;34m'get'\u001b[0m\u001b[0;34m,\u001b[0m \u001b[0murl\u001b[0m\u001b[0;34m,\u001b[0m \u001b[0mparams\u001b[0m\u001b[0;34m=\u001b[0m\u001b[0mparams\u001b[0m\u001b[0;34m,\u001b[0m \u001b[0;34m**\u001b[0m\u001b[0mkwargs\u001b[0m\u001b[0;34m)\u001b[0m\u001b[0;34m\u001b[0m\u001b[0;34m\u001b[0m\u001b[0m\n\u001b[0m\u001b[1;32m     76\u001b[0m \u001b[0;34m\u001b[0m\u001b[0m\n\u001b[1;32m     77\u001b[0m \u001b[0;34m\u001b[0m\u001b[0m\n",
      "\u001b[0;32m~/.local/lib/python3.8/site-packages/requests/api.py\u001b[0m in \u001b[0;36mrequest\u001b[0;34m(method, url, **kwargs)\u001b[0m\n\u001b[1;32m     59\u001b[0m     \u001b[0;31m# cases, and look like a memory leak in others.\u001b[0m\u001b[0;34m\u001b[0m\u001b[0;34m\u001b[0m\u001b[0;34m\u001b[0m\u001b[0m\n\u001b[1;32m     60\u001b[0m     \u001b[0;32mwith\u001b[0m \u001b[0msessions\u001b[0m\u001b[0;34m.\u001b[0m\u001b[0mSession\u001b[0m\u001b[0;34m(\u001b[0m\u001b[0;34m)\u001b[0m \u001b[0;32mas\u001b[0m \u001b[0msession\u001b[0m\u001b[0;34m:\u001b[0m\u001b[0;34m\u001b[0m\u001b[0;34m\u001b[0m\u001b[0m\n\u001b[0;32m---> 61\u001b[0;31m         \u001b[0;32mreturn\u001b[0m \u001b[0msession\u001b[0m\u001b[0;34m.\u001b[0m\u001b[0mrequest\u001b[0m\u001b[0;34m(\u001b[0m\u001b[0mmethod\u001b[0m\u001b[0;34m=\u001b[0m\u001b[0mmethod\u001b[0m\u001b[0;34m,\u001b[0m \u001b[0murl\u001b[0m\u001b[0;34m=\u001b[0m\u001b[0murl\u001b[0m\u001b[0;34m,\u001b[0m \u001b[0;34m**\u001b[0m\u001b[0mkwargs\u001b[0m\u001b[0;34m)\u001b[0m\u001b[0;34m\u001b[0m\u001b[0;34m\u001b[0m\u001b[0m\n\u001b[0m\u001b[1;32m     62\u001b[0m \u001b[0;34m\u001b[0m\u001b[0m\n\u001b[1;32m     63\u001b[0m \u001b[0;34m\u001b[0m\u001b[0m\n",
      "\u001b[0;32m~/.local/lib/python3.8/site-packages/requests/sessions.py\u001b[0m in \u001b[0;36mrequest\u001b[0;34m(self, method, url, params, data, headers, cookies, files, auth, timeout, allow_redirects, proxies, hooks, stream, verify, cert, json)\u001b[0m\n\u001b[1;32m    527\u001b[0m         }\n\u001b[1;32m    528\u001b[0m         \u001b[0msend_kwargs\u001b[0m\u001b[0;34m.\u001b[0m\u001b[0mupdate\u001b[0m\u001b[0;34m(\u001b[0m\u001b[0msettings\u001b[0m\u001b[0;34m)\u001b[0m\u001b[0;34m\u001b[0m\u001b[0;34m\u001b[0m\u001b[0m\n\u001b[0;32m--> 529\u001b[0;31m         \u001b[0mresp\u001b[0m \u001b[0;34m=\u001b[0m \u001b[0mself\u001b[0m\u001b[0;34m.\u001b[0m\u001b[0msend\u001b[0m\u001b[0;34m(\u001b[0m\u001b[0mprep\u001b[0m\u001b[0;34m,\u001b[0m \u001b[0;34m**\u001b[0m\u001b[0msend_kwargs\u001b[0m\u001b[0;34m)\u001b[0m\u001b[0;34m\u001b[0m\u001b[0;34m\u001b[0m\u001b[0m\n\u001b[0m\u001b[1;32m    530\u001b[0m \u001b[0;34m\u001b[0m\u001b[0m\n\u001b[1;32m    531\u001b[0m         \u001b[0;32mreturn\u001b[0m \u001b[0mresp\u001b[0m\u001b[0;34m\u001b[0m\u001b[0;34m\u001b[0m\u001b[0m\n",
      "\u001b[0;32m~/.local/lib/python3.8/site-packages/requests/sessions.py\u001b[0m in \u001b[0;36msend\u001b[0;34m(self, request, **kwargs)\u001b[0m\n\u001b[1;32m    643\u001b[0m \u001b[0;34m\u001b[0m\u001b[0m\n\u001b[1;32m    644\u001b[0m         \u001b[0;31m# Send the request\u001b[0m\u001b[0;34m\u001b[0m\u001b[0;34m\u001b[0m\u001b[0;34m\u001b[0m\u001b[0m\n\u001b[0;32m--> 645\u001b[0;31m         \u001b[0mr\u001b[0m \u001b[0;34m=\u001b[0m \u001b[0madapter\u001b[0m\u001b[0;34m.\u001b[0m\u001b[0msend\u001b[0m\u001b[0;34m(\u001b[0m\u001b[0mrequest\u001b[0m\u001b[0;34m,\u001b[0m \u001b[0;34m**\u001b[0m\u001b[0mkwargs\u001b[0m\u001b[0;34m)\u001b[0m\u001b[0;34m\u001b[0m\u001b[0;34m\u001b[0m\u001b[0m\n\u001b[0m\u001b[1;32m    646\u001b[0m \u001b[0;34m\u001b[0m\u001b[0m\n\u001b[1;32m    647\u001b[0m         \u001b[0;31m# Total elapsed time of the request (approximately)\u001b[0m\u001b[0;34m\u001b[0m\u001b[0;34m\u001b[0m\u001b[0;34m\u001b[0m\u001b[0m\n",
      "\u001b[0;32m~/.local/lib/python3.8/site-packages/requests/adapters.py\u001b[0m in \u001b[0;36msend\u001b[0;34m(self, request, stream, timeout, verify, cert, proxies)\u001b[0m\n\u001b[1;32m    438\u001b[0m         \u001b[0;32mtry\u001b[0m\u001b[0;34m:\u001b[0m\u001b[0;34m\u001b[0m\u001b[0;34m\u001b[0m\u001b[0m\n\u001b[1;32m    439\u001b[0m             \u001b[0;32mif\u001b[0m \u001b[0;32mnot\u001b[0m \u001b[0mchunked\u001b[0m\u001b[0;34m:\u001b[0m\u001b[0;34m\u001b[0m\u001b[0;34m\u001b[0m\u001b[0m\n\u001b[0;32m--> 440\u001b[0;31m                 resp = conn.urlopen(\n\u001b[0m\u001b[1;32m    441\u001b[0m                     \u001b[0mmethod\u001b[0m\u001b[0;34m=\u001b[0m\u001b[0mrequest\u001b[0m\u001b[0;34m.\u001b[0m\u001b[0mmethod\u001b[0m\u001b[0;34m,\u001b[0m\u001b[0;34m\u001b[0m\u001b[0;34m\u001b[0m\u001b[0m\n\u001b[1;32m    442\u001b[0m                     \u001b[0murl\u001b[0m\u001b[0;34m=\u001b[0m\u001b[0murl\u001b[0m\u001b[0;34m,\u001b[0m\u001b[0;34m\u001b[0m\u001b[0;34m\u001b[0m\u001b[0m\n",
      "\u001b[0;32m~/.local/lib/python3.8/site-packages/urllib3/connectionpool.py\u001b[0m in \u001b[0;36murlopen\u001b[0;34m(self, method, url, body, headers, retries, redirect, assert_same_host, timeout, pool_timeout, release_conn, chunked, body_pos, **response_kw)\u001b[0m\n\u001b[1;32m    701\u001b[0m \u001b[0;34m\u001b[0m\u001b[0m\n\u001b[1;32m    702\u001b[0m             \u001b[0;31m# Make the request on the httplib connection object.\u001b[0m\u001b[0;34m\u001b[0m\u001b[0;34m\u001b[0m\u001b[0;34m\u001b[0m\u001b[0m\n\u001b[0;32m--> 703\u001b[0;31m             httplib_response = self._make_request(\n\u001b[0m\u001b[1;32m    704\u001b[0m                 \u001b[0mconn\u001b[0m\u001b[0;34m,\u001b[0m\u001b[0;34m\u001b[0m\u001b[0;34m\u001b[0m\u001b[0m\n\u001b[1;32m    705\u001b[0m                 \u001b[0mmethod\u001b[0m\u001b[0;34m,\u001b[0m\u001b[0;34m\u001b[0m\u001b[0;34m\u001b[0m\u001b[0m\n",
      "\u001b[0;32m~/.local/lib/python3.8/site-packages/urllib3/connectionpool.py\u001b[0m in \u001b[0;36m_make_request\u001b[0;34m(self, conn, method, url, timeout, chunked, **httplib_request_kw)\u001b[0m\n\u001b[1;32m    384\u001b[0m         \u001b[0;31m# Trigger any extra validation we need to do.\u001b[0m\u001b[0;34m\u001b[0m\u001b[0;34m\u001b[0m\u001b[0;34m\u001b[0m\u001b[0m\n\u001b[1;32m    385\u001b[0m         \u001b[0;32mtry\u001b[0m\u001b[0;34m:\u001b[0m\u001b[0;34m\u001b[0m\u001b[0;34m\u001b[0m\u001b[0m\n\u001b[0;32m--> 386\u001b[0;31m             \u001b[0mself\u001b[0m\u001b[0;34m.\u001b[0m\u001b[0m_validate_conn\u001b[0m\u001b[0;34m(\u001b[0m\u001b[0mconn\u001b[0m\u001b[0;34m)\u001b[0m\u001b[0;34m\u001b[0m\u001b[0;34m\u001b[0m\u001b[0m\n\u001b[0m\u001b[1;32m    387\u001b[0m         \u001b[0;32mexcept\u001b[0m \u001b[0;34m(\u001b[0m\u001b[0mSocketTimeout\u001b[0m\u001b[0;34m,\u001b[0m \u001b[0mBaseSSLError\u001b[0m\u001b[0;34m)\u001b[0m \u001b[0;32mas\u001b[0m \u001b[0me\u001b[0m\u001b[0;34m:\u001b[0m\u001b[0;34m\u001b[0m\u001b[0;34m\u001b[0m\u001b[0m\n\u001b[1;32m    388\u001b[0m             \u001b[0;31m# Py2 raises this as a BaseSSLError, Py3 raises it as socket timeout.\u001b[0m\u001b[0;34m\u001b[0m\u001b[0;34m\u001b[0m\u001b[0;34m\u001b[0m\u001b[0m\n",
      "\u001b[0;32m~/.local/lib/python3.8/site-packages/urllib3/connectionpool.py\u001b[0m in \u001b[0;36m_validate_conn\u001b[0;34m(self, conn)\u001b[0m\n\u001b[1;32m   1040\u001b[0m         \u001b[0;31m# Force connect early to allow us to validate the connection.\u001b[0m\u001b[0;34m\u001b[0m\u001b[0;34m\u001b[0m\u001b[0;34m\u001b[0m\u001b[0m\n\u001b[1;32m   1041\u001b[0m         \u001b[0;32mif\u001b[0m \u001b[0;32mnot\u001b[0m \u001b[0mgetattr\u001b[0m\u001b[0;34m(\u001b[0m\u001b[0mconn\u001b[0m\u001b[0;34m,\u001b[0m \u001b[0;34m\"sock\"\u001b[0m\u001b[0;34m,\u001b[0m \u001b[0;32mNone\u001b[0m\u001b[0;34m)\u001b[0m\u001b[0;34m:\u001b[0m  \u001b[0;31m# AppEngine might not have  `.sock`\u001b[0m\u001b[0;34m\u001b[0m\u001b[0;34m\u001b[0m\u001b[0m\n\u001b[0;32m-> 1042\u001b[0;31m             \u001b[0mconn\u001b[0m\u001b[0;34m.\u001b[0m\u001b[0mconnect\u001b[0m\u001b[0;34m(\u001b[0m\u001b[0;34m)\u001b[0m\u001b[0;34m\u001b[0m\u001b[0;34m\u001b[0m\u001b[0m\n\u001b[0m\u001b[1;32m   1043\u001b[0m \u001b[0;34m\u001b[0m\u001b[0m\n\u001b[1;32m   1044\u001b[0m         \u001b[0;32mif\u001b[0m \u001b[0;32mnot\u001b[0m \u001b[0mconn\u001b[0m\u001b[0;34m.\u001b[0m\u001b[0mis_verified\u001b[0m\u001b[0;34m:\u001b[0m\u001b[0;34m\u001b[0m\u001b[0;34m\u001b[0m\u001b[0m\n",
      "\u001b[0;32m~/.local/lib/python3.8/site-packages/urllib3/connection.py\u001b[0m in \u001b[0;36mconnect\u001b[0;34m(self)\u001b[0m\n\u001b[1;32m    361\u001b[0m     \u001b[0;32mdef\u001b[0m \u001b[0mconnect\u001b[0m\u001b[0;34m(\u001b[0m\u001b[0mself\u001b[0m\u001b[0;34m)\u001b[0m\u001b[0;34m:\u001b[0m\u001b[0;34m\u001b[0m\u001b[0;34m\u001b[0m\u001b[0m\n\u001b[1;32m    362\u001b[0m         \u001b[0;31m# Add certificate verification\u001b[0m\u001b[0;34m\u001b[0m\u001b[0;34m\u001b[0m\u001b[0;34m\u001b[0m\u001b[0m\n\u001b[0;32m--> 363\u001b[0;31m         \u001b[0mself\u001b[0m\u001b[0;34m.\u001b[0m\u001b[0msock\u001b[0m \u001b[0;34m=\u001b[0m \u001b[0mconn\u001b[0m \u001b[0;34m=\u001b[0m \u001b[0mself\u001b[0m\u001b[0;34m.\u001b[0m\u001b[0m_new_conn\u001b[0m\u001b[0;34m(\u001b[0m\u001b[0;34m)\u001b[0m\u001b[0;34m\u001b[0m\u001b[0;34m\u001b[0m\u001b[0m\n\u001b[0m\u001b[1;32m    364\u001b[0m         \u001b[0mhostname\u001b[0m \u001b[0;34m=\u001b[0m \u001b[0mself\u001b[0m\u001b[0;34m.\u001b[0m\u001b[0mhost\u001b[0m\u001b[0;34m\u001b[0m\u001b[0;34m\u001b[0m\u001b[0m\n\u001b[1;32m    365\u001b[0m         \u001b[0mtls_in_tls\u001b[0m \u001b[0;34m=\u001b[0m \u001b[0;32mFalse\u001b[0m\u001b[0;34m\u001b[0m\u001b[0;34m\u001b[0m\u001b[0m\n",
      "\u001b[0;32m~/.local/lib/python3.8/site-packages/urllib3/connection.py\u001b[0m in \u001b[0;36m_new_conn\u001b[0;34m(self)\u001b[0m\n\u001b[1;32m    172\u001b[0m \u001b[0;34m\u001b[0m\u001b[0m\n\u001b[1;32m    173\u001b[0m         \u001b[0;32mtry\u001b[0m\u001b[0;34m:\u001b[0m\u001b[0;34m\u001b[0m\u001b[0;34m\u001b[0m\u001b[0m\n\u001b[0;32m--> 174\u001b[0;31m             conn = connection.create_connection(\n\u001b[0m\u001b[1;32m    175\u001b[0m                 \u001b[0;34m(\u001b[0m\u001b[0mself\u001b[0m\u001b[0;34m.\u001b[0m\u001b[0m_dns_host\u001b[0m\u001b[0;34m,\u001b[0m \u001b[0mself\u001b[0m\u001b[0;34m.\u001b[0m\u001b[0mport\u001b[0m\u001b[0;34m)\u001b[0m\u001b[0;34m,\u001b[0m \u001b[0mself\u001b[0m\u001b[0;34m.\u001b[0m\u001b[0mtimeout\u001b[0m\u001b[0;34m,\u001b[0m \u001b[0;34m**\u001b[0m\u001b[0mextra_kw\u001b[0m\u001b[0;34m\u001b[0m\u001b[0;34m\u001b[0m\u001b[0m\n\u001b[1;32m    176\u001b[0m             )\n",
      "\u001b[0;32m~/.local/lib/python3.8/site-packages/urllib3/util/connection.py\u001b[0m in \u001b[0;36mcreate_connection\u001b[0;34m(address, timeout, source_address, socket_options)\u001b[0m\n\u001b[1;32m     83\u001b[0m             \u001b[0;32mif\u001b[0m \u001b[0msource_address\u001b[0m\u001b[0;34m:\u001b[0m\u001b[0;34m\u001b[0m\u001b[0;34m\u001b[0m\u001b[0m\n\u001b[1;32m     84\u001b[0m                 \u001b[0msock\u001b[0m\u001b[0;34m.\u001b[0m\u001b[0mbind\u001b[0m\u001b[0;34m(\u001b[0m\u001b[0msource_address\u001b[0m\u001b[0;34m)\u001b[0m\u001b[0;34m\u001b[0m\u001b[0;34m\u001b[0m\u001b[0m\n\u001b[0;32m---> 85\u001b[0;31m             \u001b[0msock\u001b[0m\u001b[0;34m.\u001b[0m\u001b[0mconnect\u001b[0m\u001b[0;34m(\u001b[0m\u001b[0msa\u001b[0m\u001b[0;34m)\u001b[0m\u001b[0;34m\u001b[0m\u001b[0;34m\u001b[0m\u001b[0m\n\u001b[0m\u001b[1;32m     86\u001b[0m             \u001b[0;32mreturn\u001b[0m \u001b[0msock\u001b[0m\u001b[0;34m\u001b[0m\u001b[0;34m\u001b[0m\u001b[0m\n\u001b[1;32m     87\u001b[0m \u001b[0;34m\u001b[0m\u001b[0m\n",
      "\u001b[0;31mKeyboardInterrupt\u001b[0m: "
     ]
    }
   ],
   "source": [
    "def generator():\n",
    "    while True:\n",
    "        yield\n",
    "        \n",
    "index = 1\n",
    "all_a = []\n",
    "\n",
    "for _ in tqdm(generator()):\n",
    "    url = f'https://www.blogtipskerjaya.net/page/{index}/'\n",
    "    r = requests.get(url)\n",
    "    soup = BeautifulSoup(r.content, \"lxml\")\n",
    "\n",
    "    a = soup.find_all('article')\n",
    "    a = [a_.find('a').get('href') for a_ in a]\n",
    "    \n",
    "    if not len(a):\n",
    "        break\n",
    "        \n",
    "    all_a.extend(a)\n",
    "    \n",
    "    index += 1"
   ]
  },
  {
   "cell_type": "code",
   "execution_count": 9,
   "metadata": {},
   "outputs": [
    {
     "data": {
      "text/plain": [
       "341"
      ]
     },
     "execution_count": 9,
     "metadata": {},
     "output_type": "execute_result"
    }
   ],
   "source": [
    "urls = sorted(list(set(all_a)))\n",
    "len(urls)"
   ]
  },
  {
   "cell_type": "code",
   "execution_count": 10,
   "metadata": {},
   "outputs": [
    {
     "data": {
      "text/plain": [
       "['https://www.blogtipskerjaya.net/14-tanda-konflik-di-tempat-kerja/',\n",
       " 'https://www.blogtipskerjaya.net/15-contoh-soalan-seksyen-a-exam-online-ptd-2017/',\n",
       " 'https://www.blogtipskerjaya.net/2-perkara-penting-dalam-temuduga-kerja-swasta/',\n",
       " 'https://www.blogtipskerjaya.net/3-jenis-konflik-di-tempat-kerja/',\n",
       " 'https://www.blogtipskerjaya.net/3-petua-simple-mencari-pekerjaan/',\n",
       " 'https://www.blogtipskerjaya.net/3-tips-asas-menghadiri-temuduga-kerja/',\n",
       " 'https://www.blogtipskerjaya.net/4-tips-lulus-exam-penolong-pegawai-teknologi-maklumat-f29/',\n",
       " 'https://www.blogtipskerjaya.net/44-faktor-kegagalan-dalam-temuduga-kerja/',\n",
       " 'https://www.blogtipskerjaya.net/5-contoh-soalan-exam-online-akauntan-wa41/',\n",
       " 'https://www.blogtipskerjaya.net/5-panduan-menulis-resume-killer/',\n",
       " 'https://www.blogtipskerjaya.net/6-contoh-soalan-dan-jawapan-padu-dalam-temuduga-kerja/',\n",
       " 'https://www.blogtipskerjaya.net/7-persiapan-wajib-sebelum-tarikh/',\n",
       " 'https://www.blogtipskerjaya.net/7-punca-tekanan-kerja/',\n",
       " 'https://www.blogtipskerjaya.net/7-sebab-utama-calon-gagal-temuduga-di/',\n",
       " 'https://www.blogtipskerjaya.net/7-senarai-semak-sebelum-hadir/',\n",
       " 'https://www.blogtipskerjaya.net/8-punca-stress-di-tempat-kerja/',\n",
       " 'https://www.blogtipskerjaya.net/alamat-penuh-pusat-temuduga-spa-di/',\n",
       " 'https://www.blogtipskerjaya.net/antara-masalah-ekonomi-dan-pekerjaan/',\n",
       " 'https://www.blogtipskerjaya.net/apa-dikehendaki-majikan-dari-sesi/',\n",
       " 'https://www.blogtipskerjaya.net/apa-patut-dilakukan-sebelum-hadir/',\n",
       " 'https://www.blogtipskerjaya.net/apa-perkara-yang-mempengaruhi/',\n",
       " 'https://www.blogtipskerjaya.net/apakah-objektif-dan-matlamat-utama-sesi/',\n",
       " 'https://www.blogtipskerjaya.net/apakah-peranan-dan-tugas-seorang/',\n",
       " 'https://www.blogtipskerjaya.net/apakah-senarai-tugas-penolong-pegawai-farmasi-gred-u29/',\n",
       " 'https://www.blogtipskerjaya.net/apakah-tugas-seorang-juruteknologi/',\n",
       " 'https://www.blogtipskerjaya.net/bagaimana-kalau-tidak-dapat-hadir/',\n",
       " 'https://www.blogtipskerjaya.net/bagaimana-menjadi-warga-kerja-cemerlang/',\n",
       " 'https://www.blogtipskerjaya.net/bagaimana-menulis-resume-yang-mantap/',\n",
       " 'https://www.blogtipskerjaya.net/bahagian-pengambilan-khas-separa/',\n",
       " 'https://www.blogtipskerjaya.net/bahasa-inggeris-dan-temuduga/',\n",
       " 'https://www.blogtipskerjaya.net/beberapa-isu-alam-sekitar-untuk-exam/',\n",
       " 'https://www.blogtipskerjaya.net/bidang-pengkhususan-peluang-kerjaya/',\n",
       " 'https://www.blogtipskerjaya.net/bidang-tugas-seorang-pegawai-tadbir-dan/',\n",
       " 'https://www.blogtipskerjaya.net/blog-tips-kerjaya-semakan-online-dan/',\n",
       " 'https://www.blogtipskerjaya.net/borang-spa8i-semakan-status-pendaftaran-dan-permohonan/',\n",
       " 'https://www.blogtipskerjaya.net/cara-mandi-wajib-haid-yang-benar-menurut-islam/',\n",
       " 'https://www.blogtipskerjaya.net/cara-memohon-e-pengambilan-pdrm/',\n",
       " 'https://www.blogtipskerjaya.net/cara-memohon-jawatan-jururawat/',\n",
       " 'https://www.blogtipskerjaya.net/cara-mengatasi-konflik-di-tempat-kerja/',\n",
       " 'https://www.blogtipskerjaya.net/cara-menyemak-permohonan-dan-temuduga-e/',\n",
       " 'https://www.blogtipskerjaya.net/cara-reset-password-mystr/',\n",
       " 'https://www.blogtipskerjaya.net/cara-semakan-tuntutan-mysalam/',\n",
       " 'https://www.blogtipskerjaya.net/cara-solat-perempuan-dan-bacaan/',\n",
       " 'https://www.blogtipskerjaya.net/ciri-ciri-jururawat-profesional/',\n",
       " 'https://www.blogtipskerjaya.net/contoh-email-permohonan-kerja/',\n",
       " 'https://www.blogtipskerjaya.net/contoh-pengiraan-zakat-pendapatan/',\n",
       " 'https://www.blogtipskerjaya.net/contoh-soalan-dan-jawapan-peperiksaan-pegawai-arkib-s41/',\n",
       " 'https://www.blogtipskerjaya.net/contoh-soalan-exam-online-pembantu-pembedahan-pergigian-u19/',\n",
       " 'https://www.blogtipskerjaya.net/contoh-soalan-exam-pegawai-psikologi-gred-s41/',\n",
       " 'https://www.blogtipskerjaya.net/contoh-soalan-matematik-pegawai-tadbir-diplomatik-m41/',\n",
       " 'https://www.blogtipskerjaya.net/contoh-soalan-matematik-pembantu-tadbir-n19/',\n",
       " 'https://www.blogtipskerjaya.net/contoh-soalan-pegawai-khidmat-pelanggan-n19-spa-jpa/',\n",
       " 'https://www.blogtipskerjaya.net/contoh-soalan-pengetahuan-am-spa-psee/',\n",
       " 'https://www.blogtipskerjaya.net/contoh-soalan-peperiksaan-online-pembantu-kesihatan-awam-pka-u19/',\n",
       " 'https://www.blogtipskerjaya.net/contoh-soalan-peperiksaan-pegawai-arkib-s41-spa-jpa/',\n",
       " 'https://www.blogtipskerjaya.net/contoh-soalan-peperiksaan-pegawai-sains-c41-spa-jpa/',\n",
       " 'https://www.blogtipskerjaya.net/contoh-soalan-peperiksaan-pembantu-antidadah/',\n",
       " 'https://www.blogtipskerjaya.net/contoh-soalan-peperiksaan-pembantu-laut/',\n",
       " 'https://www.blogtipskerjaya.net/contoh-soalan-peperiksaan-pembantu-pemuliharaan-s19-spa-jpa/',\n",
       " 'https://www.blogtipskerjaya.net/contoh-soalan-peperiksaan-pembantu-tadbir-kewangan-w19-spa-jpa/',\n",
       " 'https://www.blogtipskerjaya.net/contoh-soalan-peperiksaan-pembantu-tadbir-n19/',\n",
       " 'https://www.blogtipskerjaya.net/contoh-soalan-peperiksaan-penolong-juruukur-ja29-spa-jpa/',\n",
       " 'https://www.blogtipskerjaya.net/contoh-soalan-peperiksaan-penolong-pegawai-penyelidik-q29-spa-jpa/',\n",
       " 'https://www.blogtipskerjaya.net/contoh-soalan-peperiksaan-penolong-pegawai-sains-c29-spa-jpa/',\n",
       " 'https://www.blogtipskerjaya.net/contoh-soalan-peperiksaan-penolong-pegawai-tadbir-n29-pdf/',\n",
       " 'https://www.blogtipskerjaya.net/contoh-soalan-peperiksaan-penolong-pegawai-teknologi-maklumat-f29/',\n",
       " 'https://www.blogtipskerjaya.net/contoh-soalan-ptd-m41-daya/',\n",
       " 'https://www.blogtipskerjaya.net/contoh-soalan-spa-online-daya-menyelesaikan-masalah/',\n",
       " 'https://www.blogtipskerjaya.net/contoh-soalan-spa-online-kefahaman-bahasa-inggeris/',\n",
       " 'https://www.blogtipskerjaya.net/contoh-soalan-spier-pegawai-imigresen-kp19/',\n",
       " 'https://www.blogtipskerjaya.net/contoh-soalan-spier-pegawai-penguatkuasa-kp41/',\n",
       " 'https://www.blogtipskerjaya.net/contoh-soalan-spier-pembantu-antidadah-s19/',\n",
       " 'https://www.blogtipskerjaya.net/contoh-soalan-spier-pembantu-penguatkuasa-kp19/',\n",
       " 'https://www.blogtipskerjaya.net/contoh-soalan-spier-penolong-pegawai-penguat-kuasa-kp29/',\n",
       " 'https://www.blogtipskerjaya.net/contoh-soalan-spier-polis/',\n",
       " 'https://www.blogtipskerjaya.net/contoh-soalan-ujian-psikometrik-ahli-muzik/',\n",
       " 'https://www.blogtipskerjaya.net/contoh-soalan-ujian-psikometrik-akauntan-wa41/',\n",
       " 'https://www.blogtipskerjaya.net/contoh-soalan-ujian-psikometrik-arkitek-j41/',\n",
       " 'https://www.blogtipskerjaya.net/contoh-soalan-ujian-psikometrik-bentara-parlimen-n11/',\n",
       " 'https://www.blogtipskerjaya.net/contoh-soalan-ujian-psikometrik-juruaudit-w41/',\n",
       " 'https://www.blogtipskerjaya.net/contoh-soalan-ujian-psikometrik-jurubahasa-la19/',\n",
       " 'https://www.blogtipskerjaya.net/contoh-soalan-ujian-psikometrik-jurufotografi-b19-b29/',\n",
       " 'https://www.blogtipskerjaya.net/contoh-soalan-ujian-psikometrik-jurugeospatial-j41/',\n",
       " 'https://www.blogtipskerjaya.net/contoh-soalan-ujian-psikometrik-jurusolek-b19/',\n",
       " 'https://www.blogtipskerjaya.net/contoh-soalan-ujian-psikometrik-juruteknik-komputer-ft19/',\n",
       " 'https://www.blogtipskerjaya.net/contoh-soalan-ujian-psikometrik-jurutera-gred-j41/',\n",
       " 'https://www.blogtipskerjaya.net/contoh-soalan-ujian-psikometrik-juruukur-j41/',\n",
       " 'https://www.blogtipskerjaya.net/contoh-soalan-ujian-psikometrik-kurator-s41/',\n",
       " 'https://www.blogtipskerjaya.net/contoh-soalan-ujian-psikometrik-pdrm/',\n",
       " 'https://www.blogtipskerjaya.net/contoh-soalan-ujian-psikometrik-pegawai-antidadah-s41/',\n",
       " 'https://www.blogtipskerjaya.net/contoh-soalan-ujian-psikometrik-pegawai-arkib-s41/',\n",
       " 'https://www.blogtipskerjaya.net/contoh-soalan-ujian-psikometrik-pegawai-belia-dan-sukan-s41/',\n",
       " 'https://www.blogtipskerjaya.net/contoh-soalan-ujian-psikometrik-pegawai-dietetik-u41/',\n",
       " 'https://www.blogtipskerjaya.net/contoh-soalan-ujian-psikometrik-pegawai-farmasi-uf41/',\n",
       " 'https://www.blogtipskerjaya.net/contoh-soalan-ujian-psikometrik-pegawai-geosains-c41/',\n",
       " 'https://www.blogtipskerjaya.net/contoh-soalan-ujian-psikometrik-pegawai-hal-ehwal-islam-s41/',\n",
       " 'https://www.blogtipskerjaya.net/contoh-soalan-ujian-psikometrik-pegawai-hidupan-liar-g41/',\n",
       " 'https://www.blogtipskerjaya.net/contoh-soalan-ujian-psikometrik-pegawai-kawalan-alam-sekitar-c41/',\n",
       " 'https://www.blogtipskerjaya.net/contoh-soalan-ujian-psikometrik-pegawai-kesihatan-persekitaran-u41/',\n",
       " 'https://www.blogtipskerjaya.net/contoh-soalan-ujian-psikometrik-pegawai-latihan-vokasional-dv41/',\n",
       " 'https://www.blogtipskerjaya.net/contoh-soalan-ujian-psikometrik-pegawai-laut-al41/',\n",
       " 'https://www.blogtipskerjaya.net/contoh-soalan-ujian-psikometrik-pegawai-meteorologi-c41/',\n",
       " 'https://www.blogtipskerjaya.net/contoh-soalan-ujian-psikometrik-pegawai-optometri-u41/',\n",
       " 'https://www.blogtipskerjaya.net/contoh-soalan-ujian-psikometrik-pegawai-pembangunan-masyarakat-s41/',\n",
       " 'https://www.blogtipskerjaya.net/contoh-soalan-ujian-psikometrik-pegawai-pemulihan-perubatan-u41/',\n",
       " 'https://www.blogtipskerjaya.net/contoh-soalan-ujian-psikometrik-pegawai-pendaftaran-kp41/',\n",
       " 'https://www.blogtipskerjaya.net/contoh-soalan-ujian-psikometrik-pegawai-penerangan-s41/',\n",
       " 'https://www.blogtipskerjaya.net/contoh-soalan-ujian-psikometrik-pegawai-penguat-kuasa-kp41/',\n",
       " 'https://www.blogtipskerjaya.net/contoh-soalan-ujian-psikometrik-pegawai-penilaian-w41/',\n",
       " 'https://www.blogtipskerjaya.net/contoh-soalan-ujian-psikometrik-pegawai-penjara-ka19/',\n",
       " 'https://www.blogtipskerjaya.net/contoh-soalan-ujian-psikometrik-pegawai-penyelidik-q41/',\n",
       " 'https://www.blogtipskerjaya.net/contoh-soalan-ujian-psikometrik-pegawai-perhubungan-perusahaan-s41/',\n",
       " 'https://www.blogtipskerjaya.net/contoh-soalan-ujian-psikometrik-pegawai-perikanan-g41/',\n",
       " 'https://www.blogtipskerjaya.net/contoh-soalan-ujian-psikometrik-pegawai-pertahanan-awam-kp41/',\n",
       " 'https://www.blogtipskerjaya.net/contoh-soalan-ujian-psikometrik-pegawai-perubatan-ud43/',\n",
       " 'https://www.blogtipskerjaya.net/contoh-soalan-ujian-psikometrik-pegawai-psikologi-s41/',\n",
       " 'https://www.blogtipskerjaya.net/contoh-soalan-ujian-psikometrik-pegawai-sains-c41/',\n",
       " 'https://www.blogtipskerjaya.net/contoh-soalan-ujian-psikometrik-pegawai-syariah-ls41/',\n",
       " 'https://www.blogtipskerjaya.net/contoh-soalan-ujian-psikometrik-pegawai-tadbir-dan-diplomatik-m41/',\n",
       " 'https://www.blogtipskerjaya.net/contoh-soalan-ujian-psikometrik-pegawai-teknologi-makanan-c41/',\n",
       " 'https://www.blogtipskerjaya.net/contoh-soalan-ujian-psikometrik-pegawai-teknologi-maklumat-f41/',\n",
       " 'https://www.blogtipskerjaya.net/contoh-soalan-ujian-psikometrik-pegawai-undang-undang-l41/',\n",
       " 'https://www.blogtipskerjaya.net/contoh-soalan-ujian-psikometrik-pegawai-veterinar-gv41/',\n",
       " 'https://www.blogtipskerjaya.net/contoh-soalan-ujian-psikometrik-pembantu-arkib-s19/',\n",
       " 'https://www.blogtipskerjaya.net/contoh-soalan-ujian-psikometrik-pembantu-hal-ehwal-islam-s19/',\n",
       " 'https://www.blogtipskerjaya.net/contoh-soalan-ujian-psikometrik-pembantu-hidupan-liar-g11/',\n",
       " 'https://www.blogtipskerjaya.net/contoh-soalan-ujian-psikometrik-pembantu-keselamatan-kp19/',\n",
       " 'https://www.blogtipskerjaya.net/contoh-soalan-ujian-psikometrik-pembantu-laut-a19/',\n",
       " 'https://www.blogtipskerjaya.net/contoh-soalan-ujian-psikometrik-pembantu-makmal-c19/',\n",
       " 'https://www.blogtipskerjaya.net/contoh-soalan-ujian-psikometrik-pembantu-muzium-s19/',\n",
       " 'https://www.blogtipskerjaya.net/contoh-soalan-ujian-psikometrik-pembantu-pegawai-latihan-e19/',\n",
       " 'https://www.blogtipskerjaya.net/contoh-soalan-ujian-psikometrik-pembantu-pegawai-latihan-vokasional-dv19/',\n",
       " 'https://www.blogtipskerjaya.net/contoh-soalan-ujian-psikometrik-pembantu-pemuliharaan-s19/',\n",
       " 'https://www.blogtipskerjaya.net/contoh-soalan-ujian-psikometrik-pembantu-penerangan-s19/',\n",
       " 'https://www.blogtipskerjaya.net/contoh-soalan-ujian-psikometrik-pembantu-penerbitan-n19/',\n",
       " 'https://www.blogtipskerjaya.net/contoh-soalan-ujian-psikometrik-pembantu-penguasa-kastam-wk19/',\n",
       " 'https://www.blogtipskerjaya.net/contoh-soalan-ujian-psikometrik-pembantu-penguatkuasa-kp19/',\n",
       " 'https://www.blogtipskerjaya.net/contoh-soalan-ujian-psikometrik-pembantu-penilaian-w19/',\n",
       " 'https://www.blogtipskerjaya.net/contoh-soalan-ujian-psikometrik-pembantu-penyediaan-makanan-n19/',\n",
       " 'https://www.blogtipskerjaya.net/contoh-soalan-ujian-psikometrik-pembantu-perangkaan-e19/',\n",
       " 'https://www.blogtipskerjaya.net/contoh-soalan-ujian-psikometrik-pembantu-perawatan-kesihatan-u11/',\n",
       " 'https://www.blogtipskerjaya.net/contoh-soalan-ujian-psikometrik-pembantu-perikanan-g19/',\n",
       " 'https://www.blogtipskerjaya.net/contoh-soalan-ujian-psikometrik-pembantu-pertahanan-awam-kp19/',\n",
       " 'https://www.blogtipskerjaya.net/contoh-soalan-ujian-psikometrik-pembantu-pustakawan-s19/',\n",
       " 'https://www.blogtipskerjaya.net/contoh-soalan-ujian-psikometrik-pembantu-tadbir-undang-undang-l19/',\n",
       " 'https://www.blogtipskerjaya.net/contoh-soalan-ujian-psikometrik-pembantu-veterinar-g19/',\n",
       " 'https://www.blogtipskerjaya.net/contoh-soalan-ujian-psikometrik-pemelihara-hutan-g41/',\n",
       " 'https://www.blogtipskerjaya.net/contoh-soalan-ujian-psikometrik-pemeriksa-kereta-motor-ab19/',\n",
       " 'https://www.blogtipskerjaya.net/contoh-soalan-ujian-psikometrik-pemeriksa-kilang-dan-jentera-j41/',\n",
       " 'https://www.blogtipskerjaya.net/contoh-soalan-ujian-psikometrik-penerbit-rancangan-b19-b29-b41/',\n",
       " 'https://www.blogtipskerjaya.net/contoh-soalan-ujian-psikometrik-pengajar-gred-u41/',\n",
       " 'https://www.blogtipskerjaya.net/contoh-soalan-ujian-psikometrik-pengawal-keselamatan-kp11/',\n",
       " 'https://www.blogtipskerjaya.net/contoh-soalan-ujian-psikometrik-pengawas-hutan-g19/',\n",
       " 'https://www.blogtipskerjaya.net/contoh-soalan-ujian-psikometrik-penguasa-bomba-kb41/',\n",
       " 'https://www.blogtipskerjaya.net/contoh-soalan-ujian-psikometrik-penguasa-kastam-wk41/',\n",
       " 'https://www.blogtipskerjaya.net/contoh-soalan-ujian-psikometrik-penjaga-jentera-elektrik-j19/',\n",
       " 'https://www.blogtipskerjaya.net/contoh-soalan-ujian-psikometrik-penolong-juruaudit-w29/',\n",
       " 'https://www.blogtipskerjaya.net/contoh-soalan-ujian-psikometrik-penolong-jurutera-ja29/',\n",
       " 'https://www.blogtipskerjaya.net/contoh-soalan-ujian-psikometrik-penolong-juruukur-bahan-ja29/',\n",
       " 'https://www.blogtipskerjaya.net/contoh-soalan-ujian-psikometrik-penolong-pegawai-antidadah-s29/',\n",
       " 'https://www.blogtipskerjaya.net/contoh-soalan-ujian-psikometrik-penolong-pegawai-arkib-s29/',\n",
       " 'https://www.blogtipskerjaya.net/contoh-soalan-ujian-psikometrik-penolong-pegawai-belia-dan-sukan-s29/',\n",
       " 'https://www.blogtipskerjaya.net/contoh-soalan-ujian-psikometrik-penolong-pegawai-hidupan-liar-g29/',\n",
       " 'https://www.blogtipskerjaya.net/contoh-soalan-ujian-psikometrik-penolong-pegawai-kawalan-alam-sekitar-c29/',\n",
       " 'https://www.blogtipskerjaya.net/contoh-soalan-ujian-psikometrik-penolong-pegawai-keselamatan-kp29/',\n",
       " 'https://www.blogtipskerjaya.net/contoh-soalan-ujian-psikometrik-penolong-pegawai-latihan-e29/',\n",
       " 'https://www.blogtipskerjaya.net/contoh-soalan-ujian-psikometrik-penolong-pegawai-laut-a29/',\n",
       " 'https://www.blogtipskerjaya.net/contoh-soalan-ujian-psikometrik-penolong-pegawai-meteorologi-c29/',\n",
       " 'https://www.blogtipskerjaya.net/contoh-soalan-ujian-psikometrik-penolong-pegawai-pembangunan-masyarakat-s29/',\n",
       " 'https://www.blogtipskerjaya.net/contoh-soalan-ujian-psikometrik-penolong-pegawai-penerangan-s29/',\n",
       " 'https://www.blogtipskerjaya.net/contoh-soalan-ujian-psikometrik-penolong-pegawai-penyediaan-makanan-c29/',\n",
       " 'https://www.blogtipskerjaya.net/contoh-soalan-ujian-psikometrik-penolong-pegawai-penyelidik-q29/',\n",
       " 'https://www.blogtipskerjaya.net/contoh-soalan-ujian-psikometrik-penolong-pegawai-pertanian-g29/',\n",
       " 'https://www.blogtipskerjaya.net/contoh-soalan-ujian-psikometrik-penolong-pegawai-psikologi-s29/',\n",
       " 'https://www.blogtipskerjaya.net/contoh-soalan-ujian-psikometrik-penolong-pegawai-sains-c29/',\n",
       " 'https://www.blogtipskerjaya.net/contoh-soalan-ujian-psikometrik-penolong-pegawai-siasatan-p29/',\n",
       " 'https://www.blogtipskerjaya.net/contoh-soalan-ujian-psikometrik-penolong-pegawai-tadbir-n29-rekod-perubatan/',\n",
       " 'https://www.blogtipskerjaya.net/contoh-soalan-ujian-psikometrik-penolong-pegawai-tanah-nt29/',\n",
       " 'https://www.blogtipskerjaya.net/contoh-soalan-ujian-psikometrik-penolong-pemeriksa-kilang-dan-jentera-ja29/',\n",
       " 'https://www.blogtipskerjaya.net/contoh-soalan-ujian-psikometrik-penolong-penguasa-bomba-kb29/',\n",
       " 'https://www.blogtipskerjaya.net/contoh-soalan-ujian-psikometrik-penolong-pengurus-asrama-n29/',\n",
       " 'https://www.blogtipskerjaya.net/contoh-soalan-ujian-psikometrik-penolong-pustakawan-s29/',\n",
       " 'https://www.blogtipskerjaya.net/contoh-soalan-ujian-psikometrik-penyelia-asrama-n19/',\n",
       " 'https://www.blogtipskerjaya.net/contoh-soalan-ujian-psikometrik-pereka-b19-b29-b41/',\n",
       " 'https://www.blogtipskerjaya.net/contoh-soalan-ujian-psikometrik-pustakawan-s41/',\n",
       " 'https://www.blogtipskerjaya.net/deskripsi-tugas-dan-penempatan-pegawai-pembangunan-masyarakat-s41/',\n",
       " 'https://www.blogtipskerjaya.net/dipanggil-exam-pegawai-eksekutif-lhdnm/',\n",
       " 'https://www.blogtipskerjaya.net/direktori-lengkap-senarai-241-agensi-kerajaan/',\n",
       " 'https://www.blogtipskerjaya.net/diskripsi-tugas-pegawai-pemulihan/',\n",
       " 'https://www.blogtipskerjaya.net/exam-pegawai-eksekutif-41-lhdn-5-faktor-utama-gagal/',\n",
       " 'https://www.blogtipskerjaya.net/faedah-manfaat-dan-imbuhan-bekerja-di/',\n",
       " 'https://www.blogtipskerjaya.net/frequently-asked-interview-questions/',\n",
       " 'https://www.blogtipskerjaya.net/gaji-pokok-elaun-khas-dan-kemudahan/',\n",
       " 'https://www.blogtipskerjaya.net/hak-hak-pekerja-yang-diberhentikan/',\n",
       " 'https://www.blogtipskerjaya.net/how-to-interview-interview-session/',\n",
       " 'https://www.blogtipskerjaya.net/ingatan-tulus-ikhlas/',\n",
       " 'https://www.blogtipskerjaya.net/jadual-pembayaran-gaji-kakitangan-kerajaan/',\n",
       " 'https://www.blogtipskerjaya.net/jadual-pembayaran-pencen-pesara-kerajaan/',\n",
       " 'https://www.blogtipskerjaya.net/jadual-pembayaran-perkeso/',\n",
       " 'https://www.blogtipskerjaya.net/jadual-temuduga-spa-separa-perubatan/',\n",
       " 'https://www.blogtipskerjaya.net/jenis-jenis-cuti-perkhidmatan-awam/',\n",
       " 'https://www.blogtipskerjaya.net/jualan-pakej-lulus-ptd-gred-m41-ditutup/',\n",
       " 'https://www.blogtipskerjaya.net/kadar-gaji-minimum-di-malaysia/',\n",
       " 'https://www.blogtipskerjaya.net/kadar-gaji-minimum-untuk-sektor-swasta/',\n",
       " 'https://www.blogtipskerjaya.net/kaedah-pemarkahan-am-interview-atau/',\n",
       " 'https://www.blogtipskerjaya.net/kenaikan-pangkat-secara-time-based/',\n",
       " 'https://www.blogtipskerjaya.net/kerjaya-sebagai-juruaudio-visual-gred/',\n",
       " 'https://www.blogtipskerjaya.net/kerjaya-sebagai-jururawat-pergigian/',\n",
       " 'https://www.blogtipskerjaya.net/khusus-bagi-calon-spa-berbangsa-india/',\n",
       " 'https://www.blogtipskerjaya.net/kisah-ali-dan-ujian-psikometrik/',\n",
       " 'https://www.blogtipskerjaya.net/lack-of-soft-skills-hindering-grads/',\n",
       " 'https://www.blogtipskerjaya.net/makluman-khas-untuk-calon-penguasa-kastam-w41-sahaja/',\n",
       " 'https://www.blogtipskerjaya.net/masalah-bahasa-inggeris-dalam-temuduga/',\n",
       " 'https://www.blogtipskerjaya.net/nota-rujukan-exam-ptd-sesi-mei-2012/',\n",
       " 'https://www.blogtipskerjaya.net/panduan-exam-ptd-huraian-seksyen/',\n",
       " 'https://www.blogtipskerjaya.net/panduan-khas-pemohon-spa8i-berbangsa/',\n",
       " 'https://www.blogtipskerjaya.net/panduan-menghadiri-temuduga-kerja/',\n",
       " 'https://www.blogtipskerjaya.net/panduan-menjadi-jururawat-masyarakat/',\n",
       " 'https://www.blogtipskerjaya.net/panduan-peperiksaan-penolong-akauntan/',\n",
       " 'https://www.blogtipskerjaya.net/panduan-peperiksaan-penolong-pegawai-kawalan-trafik-udara-a29/',\n",
       " 'https://www.blogtipskerjaya.net/panduan-peperiksaan-penolong-pegawai-teknologi-maklumat-f29/',\n",
       " 'https://www.blogtipskerjaya.net/panduan-temuduga-jururawat-pelatih-u29/',\n",
       " 'https://www.blogtipskerjaya.net/panduan-temuduga-juruteknik-j17/',\n",
       " 'https://www.blogtipskerjaya.net/panduan-temuduga-pembantu-akauntan-w17/',\n",
       " 'https://www.blogtipskerjaya.net/panduan-temuduga-pembantu-kesatria-s17/',\n",
       " 'https://www.blogtipskerjaya.net/panduan-temuduga-pembantu-laut-gred-a17/',\n",
       " 'https://www.blogtipskerjaya.net/panduan-temuduga-pembantu-meteorologi/',\n",
       " 'https://www.blogtipskerjaya.net/panduan-temuduga-pembantu-pembangunan/',\n",
       " 'https://www.blogtipskerjaya.net/panduan-temuduga-pembantu-pendaftaran/',\n",
       " 'https://www.blogtipskerjaya.net/panduan-temuduga-pembantu-perangkaan-e17/',\n",
       " 'https://www.blogtipskerjaya.net/panduan-temuduga-pembantu-setiausaha-pejabat-n17/',\n",
       " 'https://www.blogtipskerjaya.net/panduan-temuduga-pembantu-tadbir/',\n",
       " 'https://www.blogtipskerjaya.net/panduan-temuduga-penguasa-kastam-w41/',\n",
       " 'https://www.blogtipskerjaya.net/panduan-temuduga-penolong-juruaudit-w27/',\n",
       " 'https://www.blogtipskerjaya.net/panduan-temuduga-penolong-juruukur-ja29/',\n",
       " 'https://www.blogtipskerjaya.net/panduan-temuduga-penolong-pegawai-arkib-s27/',\n",
       " 'https://www.blogtipskerjaya.net/panduan-temuduga-penolong-pegawai-penguatkuasa-n27/',\n",
       " 'https://www.blogtipskerjaya.net/panduan-temuduga-penolong-pegawai-perikanan-g27/',\n",
       " 'https://www.blogtipskerjaya.net/panduan-temuduga-penolong-pegawai-teknologi-makanan-c27/',\n",
       " 'https://www.blogtipskerjaya.net/panduan-temuduga-penolong-pegawai-undang-undang-l29/',\n",
       " 'https://www.blogtipskerjaya.net/panduan-temuduga-penolong-penguasa-kastam-w27/',\n",
       " 'https://www.blogtipskerjaya.net/panduan-temuduga-penolong-penguasa/',\n",
       " 'https://www.blogtipskerjaya.net/panduan-temuduga-penyelia-asrama-gred-n17/',\n",
       " 'https://www.blogtipskerjaya.net/panduan-temuduga-untuk-pegawai-sains/',\n",
       " 'https://www.blogtipskerjaya.net/pelajari-kemahiran-rahsia-dapat-kerja/',\n",
       " 'https://www.blogtipskerjaya.net/pelantikan-kontrak-bagi-juruawat/',\n",
       " 'https://www.blogtipskerjaya.net/peluang-kenaikan-pangkat-jururawat-di/',\n",
       " 'https://www.blogtipskerjaya.net/pembantu-kesihatan-awam-u17-syarat-dan/',\n",
       " 'https://www.blogtipskerjaya.net/pemikiran-terhadap-perkerjaan/',\n",
       " 'https://www.blogtipskerjaya.net/pendaftaran-muet-2023-online-bagi-sesi-1-2-dan-3/',\n",
       " 'https://www.blogtipskerjaya.net/penganggur-di-malaysia/',\n",
       " 'https://www.blogtipskerjaya.net/penggunaan-bahasa-inggeris-di-dalam/',\n",
       " 'https://www.blogtipskerjaya.net/penjadualan-temu-duga-spa-untuk-bulan-september-oktober-2017/',\n",
       " 'https://www.blogtipskerjaya.net/peperiksaan-spa-kini-secara-online/',\n",
       " 'https://www.blogtipskerjaya.net/peranan-jtk-dalam-membantu-pekerja/',\n",
       " 'https://www.blogtipskerjaya.net/perkhidmatan-perubatan-sekunder-tertiar/',\n",
       " 'https://www.blogtipskerjaya.net/persatuan-majikan-dakwa-graduan-pilih/',\n",
       " 'https://www.blogtipskerjaya.net/pertanyaan-aduan-pendapat-dan-kritikan/',\n",
       " 'https://www.blogtipskerjaya.net/perubahan-format-terkini-exam-ptd-2019/',\n",
       " 'https://www.blogtipskerjaya.net/pesanan-buat-insan-bergelar-pekerja/',\n",
       " 'https://www.blogtipskerjaya.net/petua-hilangkan-batuk-dan-gatal-tekak-dengan-cepat/',\n",
       " 'https://www.blogtipskerjaya.net/rujukan-exam-online-juruaudit-w41-syikin/',\n",
       " 'https://www.blogtipskerjaya.net/rujukan-peperiksaan-online-pegawai-kawalan-trafik-udara-a41-a29/',\n",
       " 'https://www.blogtipskerjaya.net/sejarah-kejururawatan-di-malaysia/',\n",
       " 'https://www.blogtipskerjaya.net/semak-nama-blacklist-bank-negara-online/',\n",
       " 'https://www.blogtipskerjaya.net/semakan-daftar-mengundi/',\n",
       " 'https://www.blogtipskerjaya.net/semakan-keputusan-ujian-psikometrik-spa/',\n",
       " 'https://www.blogtipskerjaya.net/semakan-maidam/',\n",
       " 'https://www.blogtipskerjaya.net/semakan-temuduga-separa-perubatan-sesi-julai-2016/',\n",
       " 'https://www.blogtipskerjaya.net/senarai-alamat-jabatan-negeri-selangor/',\n",
       " 'https://www.blogtipskerjaya.net/senarai-kolej-kejururawatan-seluruh/',\n",
       " 'https://www.blogtipskerjaya.net/senarai-negeri-di-malaysia/',\n",
       " 'https://www.blogtipskerjaya.net/senarai-sam-dan-samt-di-negeri-selangor/',\n",
       " 'https://www.blogtipskerjaya.net/senarai-tugas-penolong-pegawai-perubatan-u29/',\n",
       " 'https://www.blogtipskerjaya.net/senarai-universiti-awam-di-malaysia/',\n",
       " 'https://www.blogtipskerjaya.net/sesi-mei-2012-semakan-online/',\n",
       " 'https://www.blogtipskerjaya.net/siapakah-pengasas-bidang-kejururawatan/',\n",
       " 'https://www.blogtipskerjaya.net/sikap-positif-dalam-bekerja/',\n",
       " 'https://www.blogtipskerjaya.net/sistem-pengambilan-jawatan-kosong-spa/',\n",
       " 'https://www.blogtipskerjaya.net/skop-perkhidmatan-primer-jururawat/',\n",
       " 'https://www.blogtipskerjaya.net/soalan-daya-menyelesaikan-masalah-akauntan-wa41/',\n",
       " 'https://www.blogtipskerjaya.net/soalan-daya-menyelesaikan-masalah-jurutera-j41/',\n",
       " 'https://www.blogtipskerjaya.net/soalan-daya-menyelesaikan-masalah-laskar-kelas-ii-maritim-t1/',\n",
       " 'https://www.blogtipskerjaya.net/soalan-daya-menyelesaikan-masalah-pegawai-penjara-ka19/',\n",
       " 'https://www.blogtipskerjaya.net/soalan-daya-menyelesaikan-masalah-pegawai-tadbir-n41-rekod-perubatan/',\n",
       " 'https://www.blogtipskerjaya.net/soalan-daya-menyelesaikan-masalah-pelukis-pelan-seni-bina-ja19/',\n",
       " 'https://www.blogtipskerjaya.net/soalan-daya-menyelesaikan-masalah-pembantu-arkib-s19/',\n",
       " 'https://www.blogtipskerjaya.net/soalan-daya-menyelesaikan-masalah-pembantu-awam-h11/',\n",
       " 'https://www.blogtipskerjaya.net/soalan-daya-menyelesaikan-masalah-pembantu-keselamatan-kp19/',\n",
       " 'https://www.blogtipskerjaya.net/soalan-daya-menyelesaikan-masalah-pembantu-makmal-c19/',\n",
       " 'https://www.blogtipskerjaya.net/soalan-daya-menyelesaikan-masalah-pembantu-muzium-s19/',\n",
       " 'https://www.blogtipskerjaya.net/soalan-daya-menyelesaikan-masalah-pembantu-operasi-n11/',\n",
       " 'https://www.blogtipskerjaya.net/soalan-daya-menyelesaikan-masalah-pembantu-penguasa-kastam-wk19/',\n",
       " 'https://www.blogtipskerjaya.net/soalan-daya-menyelesaikan-masalah-pembantu-pertahanan-awam-kp19/',\n",
       " 'https://www.blogtipskerjaya.net/soalan-daya-menyelesaikan-masalah-penguasa-bomba-kb41/',\n",
       " 'https://www.blogtipskerjaya.net/soalan-daya-menyelesaikan-masalah-penolong-jurutera-ja29/',\n",
       " 'https://www.blogtipskerjaya.net/soalan-daya-menyelesaikan-masalah-penolong-pegawai-penguatkuasa-kp29/',\n",
       " 'https://www.blogtipskerjaya.net/soalan-daya-menyelesaikan-masalah-penolong-pegawai-perhubungan-perusahaan-s29/',\n",
       " 'https://www.blogtipskerjaya.net/soalan-daya-menyelesaikan-masalah-penolong-penguasa-bomba-kb29/',\n",
       " 'https://www.blogtipskerjaya.net/soalan-lazim-mengenai-borang-spa9/',\n",
       " 'https://www.blogtipskerjaya.net/soalan-psikometrik-pegawai-perancang-bandar-dan-desa-j41/',\n",
       " 'https://www.blogtipskerjaya.net/soalan-sering-ditanya-dalam-temuduga/',\n",
       " 'https://www.blogtipskerjaya.net/soalan-temuduga-juruteknik-komputer-ft19/',\n",
       " 'https://www.blogtipskerjaya.net/soalan-temuduga-jurutera-gred-j41-awam/',\n",
       " 'https://www.blogtipskerjaya.net/soalan-temuduga-pegawai-meteorologi-c41/',\n",
       " 'https://www.blogtipskerjaya.net/soalan-temuduga-pegawai-penguatkuasa-kp41/',\n",
       " 'https://www.blogtipskerjaya.net/soalan-temuduga-pembantu-hidupan-liar-g19/',\n",
       " 'https://www.blogtipskerjaya.net/soalan-temuduga-pembantu-perawatan-kesihatan-u11/',\n",
       " 'https://www.blogtipskerjaya.net/soalan-temuduga-penolong-pegawai-sains-c29/',\n",
       " 'https://www.blogtipskerjaya.net/soalan-temuduga-penolong-pengurus-asrama-n29/',\n",
       " 'https://www.blogtipskerjaya.net/soalan-temuduga-perangkawan-e41/',\n",
       " 'https://www.blogtipskerjaya.net/spat-semakan-status-permohonan/',\n",
       " 'https://www.blogtipskerjaya.net/spesifikasi-dan-klasifikasi-perkhidmatan-awam-di-malaysia/',\n",
       " 'https://www.blogtipskerjaya.net/statistik-pengangguran-di-malaysia/',\n",
       " 'https://www.blogtipskerjaya.net/strategi-rahsia-menjawab-soalan/',\n",
       " 'https://www.blogtipskerjaya.net/sudah-live-rujukan-exam-online-pegawai-eksekutif-41-lhdn/',\n",
       " 'https://www.blogtipskerjaya.net/syarat-lantikan-jururawat-u29-dan-u41/',\n",
       " 'https://www.blogtipskerjaya.net/tarikh-bayaran-pencen-veteran-atm/',\n",
       " 'https://www.blogtipskerjaya.net/temuduga-pembantu-makmal-gred-c17/',\n",
       " 'https://www.blogtipskerjaya.net/temuduga-pembantu-perpustakaan-gred-s17/',\n",
       " 'https://www.blogtipskerjaya.net/temuduga-pembantu-tadbir-kewangan-w17/',\n",
       " 'https://www.blogtipskerjaya.net/temuduga-pemeriksa-kereta-motor-a17/',\n",
       " 'https://www.blogtipskerjaya.net/temuduga-penolong-pegawai-antidadah-s27/',\n",
       " 'https://www.blogtipskerjaya.net/temuduga-spa-skema-jawapan-dan-contoh/',\n",
       " 'https://www.blogtipskerjaya.net/temuduga-swasta-apa-patut-dilakukan-sebelum-hadir/',\n",
       " 'https://www.blogtipskerjaya.net/temuduga-swasta-persediaan-dan-latihan/',\n",
       " 'https://www.blogtipskerjaya.net/tips-exam-online-pegawai-teknologi-maklumat-gred-f41/',\n",
       " 'https://www.blogtipskerjaya.net/tips-mengawal-emosi-semasa-temu-duga/',\n",
       " 'https://www.blogtipskerjaya.net/tips-penjagaan-kereta-warna-hitam/',\n",
       " 'https://www.blogtipskerjaya.net/tips-resume-yang-pasti-memikat-bakal/',\n",
       " 'https://www.blogtipskerjaya.net/tutorial-cara-cara-menduduki-peperiksaan-online-spa/',\n",
       " 'https://www.blogtipskerjaya.net/ujian-psikometrik-pegawai-tadbir-n41-rekod-perubatan/',\n",
       " 'https://www.blogtipskerjaya.net/ujian-psikometrik-pembantu-awam-gred-h11/',\n",
       " 'https://www.blogtipskerjaya.net/ujian-psikometrik-pembantu-setiausaha-pejabat-n19/',\n",
       " 'https://www.blogtipskerjaya.net/ujian-psikometrik-penolong-pegawai-perancang-bandar-dan-desa-ja29/',\n",
       " 'https://www.blogtipskerjaya.net/ujian-psikometrik-penolong-pegawai-perikanan-g29/',\n",
       " 'https://www.blogtipskerjaya.net/ujian-psikometrik-penolong-pegawai-teknologi-makanan-c29/',\n",
       " 'https://www.blogtipskerjaya.net/ujian-psikometrik-penolong-pegawai-veterinar-g29/',\n",
       " 'https://www.blogtipskerjaya.net/ujian-sahsiah-minat-penolong-pegawai-teknologi-maklumat-f29/',\n",
       " 'https://www.blogtipskerjaya.net/what-is-interview/',\n",
       " 'https://www.blogtipskerjaya.net/worker-how-to-increase-personal/']"
      ]
     },
     "execution_count": 10,
     "metadata": {},
     "output_type": "execute_result"
    }
   ],
   "source": [
    "urls"
   ]
  },
  {
   "cell_type": "code",
   "execution_count": 11,
   "metadata": {},
   "outputs": [],
   "source": [
    "url = urls[0]\n",
    "r = requests.get(url)\n",
    "soup = BeautifulSoup(r.content, \"lxml\")"
   ]
  },
  {
   "cell_type": "code",
   "execution_count": 12,
   "metadata": {},
   "outputs": [
    {
     "data": {
      "text/plain": [
       "'14 Tanda Konflik Di Tempat Kerja'"
      ]
     },
     "execution_count": 12,
     "metadata": {},
     "output_type": "execute_result"
    }
   ],
   "source": [
    "soup.find('h1').text.strip()"
   ]
  },
  {
   "cell_type": "code",
   "execution_count": 14,
   "metadata": {},
   "outputs": [
    {
     "data": {
      "text/plain": [
       "'Konflik sering berlaku di tempat kerja. Hal ini perlu ditangani dengan bijaksana agar tidak menjejaskan prestasi dan pengeluaran syarikat atau pencapaian jabatan. Elakkan 14 tanda konflik di tempat kerja ini.\\nSebagai majikan atau sebagai rakan sekerja, sila perhatikan dan ambil langkah pencegahan atau baikpulih dengan kadar segera.\\nBaca : \\nHak-hak pekerja yang diberhentikan\\nBerikut adalah 14 tanda yang boleh diperhatikan yang menunjukkan kewujudan konflik di tempat kerja anda.\\nSikap tidak bekerjasama\\nPercanggahan personaliti\\nPerbezaan matlamat\\nMatlamat yang tidak cukup penjelasannya\\nKemahiran berbincang secara terbuka\\nRendah kemahiran mendengar\\nPenggunaan bahasa yang rendah\\nPeranan yang bersesuaian\\nMengabai perintah\\nKurang keterbukaan\\nKurang kerjasama\\nPerbezaan pendapat tentang cara kerja\\nKekaburan kawasan tanggungjawab persendirian\\nKekurangan maklumat berguna\\nBaca juga : \\nKenaikan pangkat secara time-based sektor awam\\nAntara punca konflik secara umumnya adalah :\\nKeperluan\\npersepsi\\nkuasa\\nnilai\\nperasaan dan emosi\\nSebagai peringatan bersama, jika kerana tanda konflik di tempat kerja anda sudah kelihatan. Suka kami mengingatkan mengenai beberapa perkara yang boleh mencetuskan konflik di tempat kerja seperti yang dijelaskan secara ringkas di bawah agar anda boleh mencari cara segera menyelesaikannya.\\nBaca seterusnya : \\nfaedah dan imbuhan kerja sebagai penjawat awam\\nPunca konflik di tempat kerja\\nperebutan sumber\\nDalam sesebuah organisasi seperti syarikat atau pejabat atau jabatan atau agensi, persaingan sumber yang terhad akan mterjadi. Misalnya merebut peluang untuk jawatan, kewangan, keperluan pejabat untuk memenuhi keperluan masing-masing.\\npersandaran tugas\\nSeterusnya, persandaran tugas yang memelukan kerjasama di antara dua atau lebih pihak untuk menyelesaikan sesuatu tugasan atau amanah. Ketidaksefahaman dalam komunikasi misalnya akan menjadikan hasil kerja tidak\\xa0 efektif dan kurang bermutu.\\nketidakjelasan tugas dan tanggungjawab\\nSatu lagi yang ingin kami ingatkan kepada ketua jabatan atau majikan, mengenai ketidakjelasan tanggungjawab dan kuasa.\\xa0 Apabila orang bawahan atau pekerja tidak jelas atau samar dengan kerjanya dan mengharapkan orang lain menyelesaikan tugasan tersebut. Ini biasanya walaupun tidak semestinya didorong oleh penyalahgunaan kuasa orang atasan yang mengamalkan pilih kasih dan ini juga akan mencetuskan konflik di tempat kerja.\\nLebih lanjut, anda boleh baca tulisan awal kami mengenai \\n3 konflik di tempat kerja\\n.'"
      ]
     },
     "execution_count": 14,
     "metadata": {},
     "output_type": "execute_result"
    }
   ],
   "source": [
    "soup.find('div', {'class': 'entry-content'}).get_text(separator=\"\\n\")"
   ]
  },
  {
   "cell_type": "code",
   "execution_count": 15,
   "metadata": {},
   "outputs": [
    {
     "name": "stderr",
     "output_type": "stream",
     "text": [
      "100%|███████████████████████████████████████████████████████████████████████████████████████████████████████████| 341/341 [01:46<00:00,  3.21it/s]\n"
     ]
    }
   ],
   "source": [
    "data = []\n",
    "for url in tqdm(urls):\n",
    "    r = requests.get(url)\n",
    "    soup = BeautifulSoup(r.content, \"lxml\")\n",
    "    data.append({\n",
    "        'url': url,\n",
    "        'title': soup.find('h1').text.strip(),\n",
    "        'body': soup.find('div', {'class': 'entry-content'}).get_text(separator=\"\\n\"),\n",
    "    })"
   ]
  },
  {
   "cell_type": "code",
   "execution_count": 18,
   "metadata": {},
   "outputs": [
    {
     "data": {
      "text/plain": [
       "341"
      ]
     },
     "execution_count": 18,
     "metadata": {},
     "output_type": "execute_result"
    }
   ],
   "source": [
    "len(data)"
   ]
  },
  {
   "cell_type": "code",
   "execution_count": 17,
   "metadata": {},
   "outputs": [],
   "source": [
    "with open('blogtipskerjaya.net.jsonl', 'w') as fopen:\n",
    "    for d in data:\n",
    "        fopen.write(f'{json.dumps(d)}\\n')"
   ]
  }
 ],
 "metadata": {
  "kernelspec": {
   "display_name": "Python 3 (ipykernel)",
   "language": "python",
   "name": "python3"
  },
  "language_info": {
   "codemirror_mode": {
    "name": "ipython",
    "version": 3
   },
   "file_extension": ".py",
   "mimetype": "text/x-python",
   "name": "python",
   "nbconvert_exporter": "python",
   "pygments_lexer": "ipython3",
   "version": "3.8.10"
  }
 },
 "nbformat": 4,
 "nbformat_minor": 4
}
