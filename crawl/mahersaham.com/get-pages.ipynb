{
 "cells": [
  {
   "cell_type": "code",
   "execution_count": 1,
   "metadata": {},
   "outputs": [],
   "source": [
    "import requests\n",
    "from bs4 import BeautifulSoup\n",
    "from tqdm import tqdm\n",
    "import os\n",
    "import json\n",
    "import numpy as np\n",
    "import time\n",
    "import random\n",
    "import json\n",
    "import urllib3\n",
    "urllib3.disable_warnings(urllib3.exceptions.InsecureRequestWarning)"
   ]
  },
  {
   "cell_type": "code",
   "execution_count": 15,
   "metadata": {},
   "outputs": [],
   "source": [
    "with open('urls.json') as fopen:\n",
    "    urls = sorted(list(set(json.load(fopen))))"
   ]
  },
  {
   "cell_type": "code",
   "execution_count": 16,
   "metadata": {
    "scrolled": true
   },
   "outputs": [
    {
     "data": {
      "text/plain": [
       "638"
      ]
     },
     "execution_count": 16,
     "metadata": {},
     "output_type": "execute_result"
    }
   ],
   "source": [
    "len(urls)"
   ]
  },
  {
   "cell_type": "code",
   "execution_count": 8,
   "metadata": {},
   "outputs": [],
   "source": [
    "cookies = {\n",
    "    '_ga': 'GA1.1.1818920424.1694149414',\n",
    "    '_ga_55W9ZZ5QM4': 'GS1.1.1694151923.2.1.1694152277.60.0.0',\n",
    "}\n",
    "\n",
    "headers = {\n",
    "    'authority': 'www.mahersaham.com',\n",
    "    'accept': 'text/html,application/xhtml+xml,application/xml;q=0.9,image/avif,image/webp,image/apng,*/*;q=0.8,application/signed-exchange;v=b3;q=0.7',\n",
    "    'accept-language': 'en-MY,en;q=0.9,en-US;q=0.8,ms;q=0.7',\n",
    "    'cache-control': 'no-cache',\n",
    "    # 'cookie': '_ga=GA1.1.1818920424.1694149414; _ga_55W9ZZ5QM4=GS1.1.1694151923.2.1.1694152277.60.0.0',\n",
    "    'pragma': 'no-cache',\n",
    "    'sec-ch-ua': '\"Chromium\";v=\"116\", \"Not)A;Brand\";v=\"24\", \"Google Chrome\";v=\"116\"',\n",
    "    'sec-ch-ua-mobile': '?0',\n",
    "    'sec-ch-ua-platform': '\"macOS\"',\n",
    "    'sec-fetch-dest': 'document',\n",
    "    'sec-fetch-mode': 'navigate',\n",
    "    'sec-fetch-site': 'none',\n",
    "    'sec-fetch-user': '?1',\n",
    "    'upgrade-insecure-requests': '1',\n",
    "    'user-agent': 'Mozilla/5.0 (Macintosh; Intel Mac OS X 10_15_7) AppleWebKit/537.36 (KHTML, like Gecko) Chrome/116.0.0.0 Safari/537.36',\n",
    "}"
   ]
  },
  {
   "cell_type": "code",
   "execution_count": 9,
   "metadata": {},
   "outputs": [],
   "source": [
    "r = requests.get(urls[0], cookies=cookies, headers=headers)\n",
    "soup = BeautifulSoup(r.content, \"lxml\")"
   ]
  },
  {
   "cell_type": "code",
   "execution_count": 13,
   "metadata": {},
   "outputs": [
    {
     "data": {
      "text/plain": [
       "'Company Announcements : Pengumuman Penting Syarikat Kepada Shareholder'"
      ]
     },
     "execution_count": 13,
     "metadata": {},
     "output_type": "execute_result"
    }
   ],
   "source": [
    "soup.find('h1').text"
   ]
  },
  {
   "cell_type": "code",
   "execution_count": 11,
   "metadata": {},
   "outputs": [
    {
     "data": {
      "text/plain": [
       "<div class=\"entry-content single-content\">\n",
       "<p>Baru-baru ini saya berpeluang untuk menilai kembali prestasi portfolio saya dan berasa gembira bahawa salah satu kaunter yang saya laburkan telahpun mencapai keuntungan lebih kurang 82-85% dalam masa setahun berbanding modal yang saya laburkan.</p>\n",
       "<p>Diingatkan juga bahawa jika hanya dikira dari ‘entry price’ pertama kali saya melabur dalam kaunter tersebut, tanpa membuat sebarang penambahan modal (average up atau average down), saya boleh dikira sudahpun mencapai keuntungan 105-110%, pada hari saya menilai kembali prestasi portfolio tersebut.</p>\n",
       "<p>Saya perasan bahawa syarikat tersebut ada menjalankan satu corporate exercise baru-baru ini. Jadi saya mengambil kesempatan untuk berkongsi sedikit maklumat kepada semua berkaitan corporate exercise dan company announcement.</p>\n",
       "<h2>Apa Itu Corporate Exercise?</h2>\n",
       "<p>Corporate exercise juga dikenali sebagai corporate action di sesetengah tempat.</p>\n",
       "<p>Corporate exercise secara mudahnya merujuk kepada sebarang aktiviti syarikat yang akan memberi kesan secara langsung kepada saham syarikat itu samada pertambahan atau pengurangan jumlah unit saham.</p>\n",
       "<p>Antara contoh corporate action adalah share split, share consolidation, warrant, merger and acquisition.</p>\n",
       "<h2>Company Announcements</h2>\n",
       "<p>Apabila sesebuah syarikat hendak melaksanakan sesuatu corporate exercise, segala announcement atau progress perlulah diumumkan kepada public (spesifik: kepada shareholder atau bakal pelabur).</p>\n",
       "<p>Pengumuman tersebut boleh diakses dengan mudah pada website bursamalaysia.com pada bahagian company announcements.</p>\n",
       "<h2>Langkah Mudah Monitor Pengumuman Berkaitan Saham Anda</h2>\n",
       "<ol>\n",
       "<li>Klik link senarai <a href=\"http://www.bursamalaysia.com/market/listed-companies/company-announcements/\" rel=\"noopener\" target=\"_blank\">pengumuman Bursa Malaysia di sini</a>.</li>\n",
       "<li>Pilih syarikat yang anda hendak kaji atau monitor. Tekan butang submit.<img alt=\"\" class=\"alignnone size-full wp-image-31534\" decoding=\"async\" height=\"966\" sizes=\"(max-width: 1810px) 100vw, 1810px\" src=\"http://www.mahersaham.com/wp-content/uploads/2018/07/company-announcements.jpg\" srcset=\"https://www.mahersaham.com/wp-content/uploads/2018/07/company-announcements.jpg 1810w, https://www.mahersaham.com/wp-content/uploads/2018/07/company-announcements-300x160.jpg 300w, https://www.mahersaham.com/wp-content/uploads/2018/07/company-announcements-768x410.jpg 768w, https://www.mahersaham.com/wp-content/uploads/2018/07/company-announcements-1024x547.jpg 1024w, https://www.mahersaham.com/wp-content/uploads/2018/07/company-announcements-1080x576.jpg 1080w\" width=\"1810\"/></li>\n",
       "<li> Anda boleh selak satu persatu page yang ada, dan anda juga boleh filter mengikut category yang ada.</li>\n",
       "<li>Baca dan cuba fahami segala announcement yang ada di Bursa Malaysia.</li>\n",
       "</ol>\n",
       "<p>Walaubagaimanapun, tak ramai yang akan cuba untuk meluangkan masa membaca dan memahami apa yang diumumkan oleh syarikat-syarikat yang ada.</p>\n",
       "<p>Keadaan ini sebenarnya mewujudkan satu market yang belum effisien sepenuhnya dan memberikan peluang kepada ‘smart trader/investor’ untuk menghasilkan keuntungan.</p>\n",
       "<p>Mereka cuba mencari arbitrage untuk mendapatkan keuntungan yang pasti (baca: hampir pasti) dalam saham.</p>\n",
       "<p>‘Market Efficiency’ juga adalah salah satu perkara yang perlu diketahui oleh para pelabur/pedagang (trader/investor) jika mahu meningkatkan level mereka ke tahap yang lebih tinggi.</p>\n",
       "<h2>Kesimpulan</h2>\n",
       "<p>Keuntungan dalam saham tidak datang dengan mudah, biarpun tidak mustahil.</p>\n",
       "<p>Jika kita masih mengharapkan keuntungan mudah tanpa kita sendiri meningkatkan ilmu pengetahuan kita, kita pasti akan menemui jalan buntu dan tidak akan berjaya untung dengan konsisten dalam saham.</p>\n",
       "<h2>Topik Akan Datang</h2>\n",
       "<ol>\n",
       "<li>Market Efficiency</li>\n",
       "<li>Apa itu ‘arbitrage’</li>\n",
       "<li>Corporate action dan jenis-jenis</li>\n",
       "</ol>\n",
       "<h2>Berminat untuk mengetahui lebih lanjut berkaitan pelaburan saham di Bursa Malaysia?</h2>\n",
       "<p><a href=\"https://mahersaham.onpay.my/order/form/ebookasas/artikelmahersaham\">Download Ebook Saham PERCUMA</a></p>\n",
       "<h4>Nak jual beli saham tetapi belum ada akaun CDS?</h4>\n",
       "<p>Apa lagi, jom <a href=\"https://mahersaham.onpay.my/order/form/cds/artikelmahersaham\">daftar akaun CDS</a> bersama Mahersaham dan anda boleh <em>join</em> kelas khas untuk klien Mahersaham.</p>\n",
       "</div>"
      ]
     },
     "execution_count": 11,
     "metadata": {},
     "output_type": "execute_result"
    }
   ],
   "source": [
    "soup.find('div', {'class': 'entry-content single-content'})"
   ]
  },
  {
   "cell_type": "code",
   "execution_count": 17,
   "metadata": {},
   "outputs": [
    {
     "name": "stderr",
     "output_type": "stream",
     "text": [
      "100%|███████████████████████████████████████████████████████████████████████████████████████████████████████████| 638/638 [10:49<00:00,  1.02s/it]\n"
     ]
    }
   ],
   "source": [
    "data = []\n",
    "for url in tqdm(urls):\n",
    "    r = requests.get(url, cookies=cookies, headers=headers)\n",
    "    soup = BeautifulSoup(r.content, \"lxml\")\n",
    "    title = soup.find('h1').text\n",
    "    body = soup.find('div', {'class': 'entry-content single-content'})\n",
    "    data.append({\n",
    "        'url': url,\n",
    "        'title': title,\n",
    "        'body': body,\n",
    "    })"
   ]
  },
  {
   "cell_type": "code",
   "execution_count": 20,
   "metadata": {},
   "outputs": [],
   "source": [
    "with open('mahersaham.com.jsonl', 'w') as fopen:\n",
    "    for d in data:\n",
    "        d['body'] = d['body'].get_text(separator=\"\\n\")\n",
    "        fopen.write(f'{json.dumps(d)}\\n')"
   ]
  },
  {
   "cell_type": "code",
   "execution_count": null,
   "metadata": {},
   "outputs": [],
   "source": []
  }
 ],
 "metadata": {
  "kernelspec": {
   "display_name": "Python 3 (ipykernel)",
   "language": "python",
   "name": "python3"
  },
  "language_info": {
   "codemirror_mode": {
    "name": "ipython",
    "version": 3
   },
   "file_extension": ".py",
   "mimetype": "text/x-python",
   "name": "python",
   "nbconvert_exporter": "python",
   "pygments_lexer": "ipython3",
   "version": "3.8.10"
  }
 },
 "nbformat": 4,
 "nbformat_minor": 4
}
