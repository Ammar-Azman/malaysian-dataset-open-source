{
 "cells": [
  {
   "cell_type": "code",
   "execution_count": 1,
   "metadata": {},
   "outputs": [],
   "source": [
    "import requests\n",
    "from bs4 import BeautifulSoup\n",
    "from tqdm import tqdm\n",
    "import os\n",
    "import json\n",
    "import numpy as np\n",
    "import time\n",
    "import random\n",
    "import json"
   ]
  },
  {
   "cell_type": "code",
   "execution_count": 2,
   "metadata": {},
   "outputs": [],
   "source": [
    "topics = [\n",
    "    'https://ohmedia.my/category/trending/',\n",
    "    'https://ohmedia.my/category/ohartis/',\n",
    "    'https://ohmedia.my/category/ohtidak/',\n",
    "    'https://ohmedia.my/category/ohtech/',\n",
    "    'https://ohmedia.my/category/ohplus/'\n",
    "]"
   ]
  },
  {
   "cell_type": "code",
   "execution_count": 4,
   "metadata": {},
   "outputs": [],
   "source": [
    "r = requests.get('https://ohmedia.my/category/trending/page/3/')\n",
    "soup = BeautifulSoup(r.content, \"lxml\")"
   ]
  },
  {
   "cell_type": "code",
   "execution_count": 7,
   "metadata": {},
   "outputs": [
    {
     "data": {
      "text/plain": [
       "['https://ohmedia.my/trending/saksi-nafi-haqiem-stopa-diangkut-sebab-berlumba-hanya-jadi-penonton/',\n",
       " 'https://ohmedia.my/trending/video-iye-haram-akak-tahu-wanita-minum-minuman-tak-halal-dalam-live-tarik-perhatian-umum/',\n",
       " 'https://ohmedia.my/trending/anak-saya-memang-kuat-bergurau-bapa-murid-kena-kurung-cikgu-dalam-penjara-minta-maaf/',\n",
       " 'https://ohmedia.my/trending/sah-tukar-lokasi-peminat-teruja-konsert-ikon-world-tour-take-off-beralih-ke-axiata-arena/',\n",
       " 'https://ohmedia.my/trending/individu-dedah-ada-influencer-bertudung-terkenal-buka-tudung-dan-pakai-seksi-nampak-lurah/',\n",
       " 'https://ohmedia.my/trending/saya-harap-lepas-ni-tak-ada-orang-sebut-nama-arwah-babah-alya-iman-terkilan-dikaitkan-dengan-azmil-mustapha/',\n",
       " 'https://ohmedia.my/trending/mizz-nina-kongsi-momen-mesra-bersama-suami-raih-perhatian-netizen/',\n",
       " 'https://ohmedia.my/trending/ingatkan-homeless-caprice-sindir-mondy-tatu-ketika-buat-live-bersama-keluarga-tersayang/',\n",
       " 'https://ohmedia.my/trending/siap-tulis-pasal-akhirat-abang-arwah-siti-sarah-selar-netizen-makin-lama-makin-merapu/',\n",
       " 'https://ohmedia.my/trending/inspektor-sheila-diikat-jamin-rm5000-rupanya-dah-7-tahun-berkhidmat/',\n",
       " 'https://ohmedia.my/trending/sharifah-sakinah-dah-ada-teman-lelaki-mat-salleh/',\n",
       " 'https://ohmedia.my/trending/yusof-haslam-tidak-kisah-puteri-sarah-bertemu-dengan-lelaki-lain/']"
      ]
     },
     "execution_count": 7,
     "metadata": {},
     "output_type": "execute_result"
    }
   ],
   "source": [
    "div = soup.find_all('div', {'class': 'mvp-main-blog-text left relative'})\n",
    "a = [div_.find('a').get('href') for div_ in div]\n",
    "a"
   ]
  },
  {
   "cell_type": "code",
   "execution_count": 10,
   "metadata": {},
   "outputs": [],
   "source": [
    "!rm -rf url\n",
    "!mkdir url"
   ]
  },
  {
   "cell_type": "code",
   "execution_count": 11,
   "metadata": {},
   "outputs": [
    {
     "name": "stdout",
     "output_type": "stream",
     "text": [
      "https://ohmedia.my/category/trending/\n"
     ]
    },
    {
     "name": "stderr",
     "output_type": "stream",
     "text": [
      "485it [08:32,  1.06s/it]\n"
     ]
    },
    {
     "name": "stdout",
     "output_type": "stream",
     "text": [
      "https://ohmedia.my/category/ohartis/\n"
     ]
    },
    {
     "name": "stderr",
     "output_type": "stream",
     "text": [
      "294it [05:01,  1.03s/it]\n"
     ]
    },
    {
     "name": "stdout",
     "output_type": "stream",
     "text": [
      "https://ohmedia.my/category/ohtidak/\n"
     ]
    },
    {
     "name": "stderr",
     "output_type": "stream",
     "text": [
      "30it [00:22,  1.31it/s]\n"
     ]
    },
    {
     "name": "stdout",
     "output_type": "stream",
     "text": [
      "https://ohmedia.my/category/ohtech/\n"
     ]
    },
    {
     "name": "stderr",
     "output_type": "stream",
     "text": [
      "30it [00:27,  1.07it/s]\n"
     ]
    },
    {
     "name": "stdout",
     "output_type": "stream",
     "text": [
      "https://ohmedia.my/category/ohplus/\n"
     ]
    },
    {
     "name": "stderr",
     "output_type": "stream",
     "text": [
      "17it [00:15,  1.12it/s]\n"
     ]
    }
   ],
   "source": [
    "def generator():\n",
    "    while True:\n",
    "        yield\n",
    "\n",
    "for t in topics:\n",
    "    print(t)\n",
    "    t_ = t.split('my/')[1].replace('/', '-')\n",
    "    index = 1\n",
    "    \n",
    "    for _ in tqdm(generator()):\n",
    "        filename = os.path.join('url', f'{t_}-{index}.json')\n",
    "        if os.path.exists(filename):\n",
    "            index += 1\n",
    "            continue\n",
    "            \n",
    "        url = f'{t}page/{index}/'\n",
    "        r = requests.get(url)\n",
    "        soup = BeautifulSoup(r.content, \"lxml\")\n",
    "        \n",
    "        div = soup.find_all('div', {'class': 'mvp-main-blog-text left relative'})\n",
    "        a = [div_.find('a').get('href') for div_ in div]\n",
    "        \n",
    "        if not len(a):\n",
    "            break\n",
    "\n",
    "        with open(filename, 'w') as fopen:\n",
    "            json.dump(a, fopen)    \n",
    "        \n",
    "        index += 1"
   ]
  },
  {
   "cell_type": "code",
   "execution_count": null,
   "metadata": {},
   "outputs": [],
   "source": []
  }
 ],
 "metadata": {
  "kernelspec": {
   "display_name": "Python 3 (ipykernel)",
   "language": "python",
   "name": "python3"
  },
  "language_info": {
   "codemirror_mode": {
    "name": "ipython",
    "version": 3
   },
   "file_extension": ".py",
   "mimetype": "text/x-python",
   "name": "python",
   "nbconvert_exporter": "python",
   "pygments_lexer": "ipython3",
   "version": "3.8.10"
  }
 },
 "nbformat": 4,
 "nbformat_minor": 4
}
