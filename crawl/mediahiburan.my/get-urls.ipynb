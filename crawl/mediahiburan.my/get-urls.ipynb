{
 "cells": [
  {
   "cell_type": "code",
   "execution_count": 8,
   "metadata": {},
   "outputs": [],
   "source": [
    "import requests\n",
    "\n",
    "cookies = {\n",
    "    'quform_session_c4baf8c243000edb039b8c8dfd8a10f3': '3K9u9NMo41bQ6j7ptxobtDzWTahnFI1srmdtxRZr',\n",
    "    '_gcl_au': '1.1.1035580197.1688788533',\n",
    "    'AMCVS_43D8021954C26BE10A4C98A5%40AdobeOrg': '1',\n",
    "    'AMCV_43D8021954C26BE10A4C98A5%40AdobeOrg': '-1124106680%7CMCIDTS%7C19547%7CMCMID%7C77063981112743802002338319813505974300%7CMCAAMLH-1689393333%7C3%7CMCAAMB-1689393333%7CRKhpRz8krg2tLO6pguXWp5olkAcUniQYPHaMWWgdJ3xzPWQmdj0y%7CMCOPTOUT-1688795733s%7CNONE%7CvVersion%7C5.2.0',\n",
    "    '_gid': 'GA1.2.1627722211.1688788534',\n",
    "    '_cc_id': '69f8b801beef15345eb5accdea253af',\n",
    "    'panoramaId_expiry': '1689393334087',\n",
    "    'panoramaId': '1211dc095c1d8b91c5624a83d00716d53938452c26a545c0166a87e03cfa958a',\n",
    "    'panoramaIdType': 'panoIndiv',\n",
    "    'izootoWpConfig': '%7B%22b_type%22:1,%22d_type%22:1,%22evt_trk%22:1,%22izooto_uid%22:%224c9d8909-2804-4c9a-8f48-b36b92b82b35%22%7D',\n",
    "    '_dc_gtm_UA-24623326-1': '1',\n",
    "    '_gat_UA-20278225-95': '1',\n",
    "    '_clck': '1xqgrbs|2|fd5|0|1284',\n",
    "    '_gat_UA-24623326-1': '1',\n",
    "    '_ga': 'GA1.2.1541674923.1688788534',\n",
    "    '_clsk': 'b80usr|1688865674634|2|1|s.clarity.ms/collect',\n",
    "    '_ga_336YG3H9GK': 'GS1.1.1688865652.2.1.1688865675.0.0.0',\n",
    "    '_ga_P1Q2M75QD6': 'GS1.2.1688865652.2.1.1688865675.37.0.0',\n",
    "    'FCNEC': '%5B%5B%22AKsRol9vGG4jSCNXnsMUBipvlUpkb1SffnMYqWu9KFaVasGNybYUVb2hDJ_1W1Zghz7rGqXE6uXace9LJDEZj9K6axeg82Utn03yodmkbs8Mhf-rusuwBGpv6EFRKZ_N7LE5OK6d23HIs1z1wx8M8qa24Sjyobc9_Q%3D%3D%22%5D%2Cnull%2C%5B%5D%5D',\n",
    "    'cto_bundle': 'SC8ob19JUGdiJTJGc2xicVNvdm91REFjVFV5WGdBVDJiVmhTZUwzMlg1QU9XcjJkRWNERng1eCUyQmk4NFNPdERXU3F5aVhqWGJsaHglMkZyZUhaZyUyQkQlMkJRVDV0Y2xZRXZsTGpHZE81WEJJV0ttNGslMkY4dnRxT2RleUliTUFPNm93YTlaNjd0dTRZJTJCVTRTS05YWEF2VVVNNXFpclg0MEVjNVA1Y0RhMGU0OXlaSGdGZU0lMkZha1lIUkcyVW8wQnV1JTJCNHNob3p6Q1hpS0VHNHFtaWloeSUyQjR2V2FTQnklMkJTSVB0QSUzRCUzRA',\n",
    "    '_ga_NBKQ2BZP8P': 'GS1.1.1688865652.2.1.1688865689.0.0.0',\n",
    "}\n",
    "\n",
    "headers = {\n",
    "    'authority': 'www.mediahiburan.my',\n",
    "    'accept': '*/*',\n",
    "    'accept-language': 'en-MY,en;q=0.9,en-US;q=0.8,ms;q=0.7',\n",
    "    'cache-control': 'no-cache',\n",
    "    'content-type': 'application/x-www-form-urlencoded; charset=UTF-8',\n",
    "    # 'cookie': 'quform_session_c4baf8c243000edb039b8c8dfd8a10f3=3K9u9NMo41bQ6j7ptxobtDzWTahnFI1srmdtxRZr; _gcl_au=1.1.1035580197.1688788533; AMCVS_43D8021954C26BE10A4C98A5%40AdobeOrg=1; AMCV_43D8021954C26BE10A4C98A5%40AdobeOrg=-1124106680%7CMCIDTS%7C19547%7CMCMID%7C77063981112743802002338319813505974300%7CMCAAMLH-1689393333%7C3%7CMCAAMB-1689393333%7CRKhpRz8krg2tLO6pguXWp5olkAcUniQYPHaMWWgdJ3xzPWQmdj0y%7CMCOPTOUT-1688795733s%7CNONE%7CvVersion%7C5.2.0; _gid=GA1.2.1627722211.1688788534; _cc_id=69f8b801beef15345eb5accdea253af; panoramaId_expiry=1689393334087; panoramaId=1211dc095c1d8b91c5624a83d00716d53938452c26a545c0166a87e03cfa958a; panoramaIdType=panoIndiv; izootoWpConfig=%7B%22b_type%22:1,%22d_type%22:1,%22evt_trk%22:1,%22izooto_uid%22:%224c9d8909-2804-4c9a-8f48-b36b92b82b35%22%7D; _dc_gtm_UA-24623326-1=1; _gat_UA-20278225-95=1; _clck=1xqgrbs|2|fd5|0|1284; _gat_UA-24623326-1=1; _ga=GA1.2.1541674923.1688788534; _clsk=b80usr|1688865674634|2|1|s.clarity.ms/collect; _ga_336YG3H9GK=GS1.1.1688865652.2.1.1688865675.0.0.0; _ga_P1Q2M75QD6=GS1.2.1688865652.2.1.1688865675.37.0.0; FCNEC=%5B%5B%22AKsRol9vGG4jSCNXnsMUBipvlUpkb1SffnMYqWu9KFaVasGNybYUVb2hDJ_1W1Zghz7rGqXE6uXace9LJDEZj9K6axeg82Utn03yodmkbs8Mhf-rusuwBGpv6EFRKZ_N7LE5OK6d23HIs1z1wx8M8qa24Sjyobc9_Q%3D%3D%22%5D%2Cnull%2C%5B%5D%5D; cto_bundle=SC8ob19JUGdiJTJGc2xicVNvdm91REFjVFV5WGdBVDJiVmhTZUwzMlg1QU9XcjJkRWNERng1eCUyQmk4NFNPdERXU3F5aVhqWGJsaHglMkZyZUhaZyUyQkQlMkJRVDV0Y2xZRXZsTGpHZE81WEJJV0ttNGslMkY4dnRxT2RleUliTUFPNm93YTlaNjd0dTRZJTJCVTRTS05YWEF2VVVNNXFpclg0MEVjNVA1Y0RhMGU0OXlaSGdGZU0lMkZha1lIUkcyVW8wQnV1JTJCNHNob3p6Q1hpS0VHNHFtaWloeSUyQjR2V2FTQnklMkJTSVB0QSUzRCUzRA; _ga_NBKQ2BZP8P=GS1.1.1688865652.2.1.1688865689.0.0.0',\n",
    "    'origin': 'https://www.mediahiburan.my',\n",
    "    'pragma': 'no-cache',\n",
    "    'referer': 'https://www.mediahiburan.my/category/terkini/',\n",
    "    'sec-ch-ua': '\"Not.A/Brand\";v=\"8\", \"Chromium\";v=\"114\", \"Google Chrome\";v=\"114\"',\n",
    "    'sec-ch-ua-mobile': '?0',\n",
    "    'sec-ch-ua-platform': '\"macOS\"',\n",
    "    'sec-fetch-dest': 'empty',\n",
    "    'sec-fetch-mode': 'cors',\n",
    "    'sec-fetch-site': 'same-origin',\n",
    "    'user-agent': 'Mozilla/5.0 (Macintosh; Intel Mac OS X 10_15_7) AppleWebKit/537.36 (KHTML, like Gecko) Chrome/114.0.0.0 Safari/537.36',\n",
    "    'x-auth-token': 'MDMwODgyNTU1MTI2Nzk3NzM5Mzg4MzQyNTI4ODkzMjU=',\n",
    "    'x-requested-with': 'XMLHttpRequest',\n",
    "}\n",
    "\n",
    "params = {\n",
    "    'td_theme_name': 'Newspaper',\n",
    "    'v': '12.4',\n",
    "}\n"
   ]
  },
  {
   "cell_type": "code",
   "execution_count": null,
   "metadata": {},
   "outputs": [],
   "source": [
    "'loopState[atts][category_id]': ,"
   ]
  },
  {
   "cell_type": "code",
   "execution_count": 22,
   "metadata": {},
   "outputs": [],
   "source": []
  },
  {
   "cell_type": "code",
   "execution_count": 19,
   "metadata": {},
   "outputs": [],
   "source": [
    "data = {\n",
    "    'action': 'td_ajax_loop',\n",
    "    'loopState[sidebarPosition]': '',\n",
    "    'loopState[moduleId]': '1',\n",
    "    'loopState[currentPage]': '10000',\n",
    "    'loopState[max_num_pages]': '10000',\n",
    "    'loopState[atts][category_id]': '2279',\n",
    "    'loopState[ajax_pagination_infinite_stop]': '3',\n",
    "    'loopState[server_reply_html_data]': '',\n",
    "}\n",
    "\n",
    "response = requests.post(\n",
    "    'https://www.mediahiburan.my/wp-admin/admin-ajax.php',\n",
    "    params=params,\n",
    "    cookies=cookies,\n",
    "    headers=headers,\n",
    "    data=data,\n",
    ")"
   ]
  },
  {
   "cell_type": "code",
   "execution_count": 20,
   "metadata": {},
   "outputs": [],
   "source": [
    "r = response.json()"
   ]
  },
  {
   "cell_type": "code",
   "execution_count": 21,
   "metadata": {},
   "outputs": [
    {
     "data": {
      "text/plain": [
       "{'sidebarPosition': '',\n",
       " 'moduleId': '1',\n",
       " 'currentPage': '10000',\n",
       " 'max_num_pages': '10000',\n",
       " 'atts': {'category_id': '2279'},\n",
       " 'ajax_pagination_infinite_stop': '3',\n",
       " 'server_reply_html_data': ''}"
      ]
     },
     "execution_count": 21,
     "metadata": {},
     "output_type": "execute_result"
    }
   ],
   "source": [
    "r"
   ]
  },
  {
   "cell_type": "code",
   "execution_count": 23,
   "metadata": {},
   "outputs": [],
   "source": [
    "!mkdir url "
   ]
  },
  {
   "cell_type": "code",
   "execution_count": 26,
   "metadata": {},
   "outputs": [
    {
     "name": "stdout",
     "output_type": "stream",
     "text": [
      "terkini\n"
     ]
    },
    {
     "name": "stderr",
     "output_type": "stream",
     "text": [
      "1612it [00:21, 75.33it/s]  \n"
     ]
    },
    {
     "name": "stdout",
     "output_type": "stream",
     "text": [
      "mhglobal\n"
     ]
    },
    {
     "name": "stderr",
     "output_type": "stream",
     "text": [
      "38it [00:18,  2.03it/s]\n"
     ]
    },
    {
     "name": "stdout",
     "output_type": "stream",
     "text": [
      "mhtrivia\n"
     ]
    },
    {
     "name": "stderr",
     "output_type": "stream",
     "text": [
      "7it [00:04,  1.72it/s]\n"
     ]
    },
    {
     "name": "stdout",
     "output_type": "stream",
     "text": [
      "mhootd\n"
     ]
    },
    {
     "name": "stderr",
     "output_type": "stream",
     "text": [
      "4it [00:02,  1.87it/s]\n"
     ]
    },
    {
     "name": "stdout",
     "output_type": "stream",
     "text": [
      "mhwayang\n"
     ]
    },
    {
     "name": "stderr",
     "output_type": "stream",
     "text": [
      "7it [00:03,  1.90it/s]\n"
     ]
    }
   ],
   "source": [
    "from tqdm import tqdm\n",
    "import json\n",
    "import os\n",
    "\n",
    "def generator():\n",
    "    while True:\n",
    "        yield\n",
    "        \n",
    "categories = {\n",
    "    'terkini': '2279',\n",
    "    'mhglobal': '2281',\n",
    "    'mhtrivia': '2280',\n",
    "    'mhootd': '2282',\n",
    "    'mhwayang': '2283'\n",
    "}\n",
    "\n",
    "for k, v in categories.items():\n",
    "    print(k)\n",
    "    \n",
    "    index = 0\n",
    "    for _ in tqdm(generator()):\n",
    "        filename = os.path.join('url', f'{k}-{index}.json')\n",
    "        if os.path.exists(filename):\n",
    "            index += 1\n",
    "            continue\n",
    "\n",
    "        data = {\n",
    "            'action': 'td_ajax_loop',\n",
    "            'loopState[sidebarPosition]': '',\n",
    "            'loopState[moduleId]': '1',\n",
    "            'loopState[currentPage]': str(index),\n",
    "            'loopState[max_num_pages]': '16110',\n",
    "            'loopState[atts][category_id]': v,\n",
    "            'loopState[ajax_pagination_infinite_stop]': '3',\n",
    "            'loopState[server_reply_html_data]': '',\n",
    "        }\n",
    "\n",
    "        response = requests.post(\n",
    "            'https://www.mediahiburan.my/wp-admin/admin-ajax.php',\n",
    "            params=params,\n",
    "            cookies=cookies,\n",
    "            headers=headers,\n",
    "            data=data,\n",
    "        )\n",
    "        r = response.json()\n",
    "        if not len(r['server_reply_html_data']):\n",
    "            break\n",
    "        \n",
    "        with open(filename, 'w') as fopen:\n",
    "            json.dump(r, fopen)\n",
    "            \n",
    "        index += 1"
   ]
  },
  {
   "cell_type": "code",
   "execution_count": null,
   "metadata": {},
   "outputs": [],
   "source": []
  }
 ],
 "metadata": {
  "kernelspec": {
   "display_name": "Python 3 (ipykernel)",
   "language": "python",
   "name": "python3"
  },
  "language_info": {
   "codemirror_mode": {
    "name": "ipython",
    "version": 3
   },
   "file_extension": ".py",
   "mimetype": "text/x-python",
   "name": "python",
   "nbconvert_exporter": "python",
   "pygments_lexer": "ipython3",
   "version": "3.8.10"
  }
 },
 "nbformat": 4,
 "nbformat_minor": 4
}
