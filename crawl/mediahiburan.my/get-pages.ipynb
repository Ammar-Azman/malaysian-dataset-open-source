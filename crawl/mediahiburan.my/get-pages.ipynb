{
 "cells": [
  {
   "cell_type": "code",
   "execution_count": 1,
   "metadata": {},
   "outputs": [],
   "source": [
    "import requests\n",
    "from bs4 import BeautifulSoup\n",
    "from tqdm import tqdm\n",
    "import os\n",
    "import json\n",
    "import numpy as np\n",
    "import time\n",
    "import random\n",
    "import json"
   ]
  },
  {
   "cell_type": "code",
   "execution_count": 12,
   "metadata": {},
   "outputs": [],
   "source": [
    "from glob import glob\n",
    "\n",
    "files = glob('url/*.json')\n",
    "urls = []\n",
    "for f in files:\n",
    "    with open(f) as fopen:\n",
    "        data = json.load(fopen)\n",
    "        soup = BeautifulSoup(data['server_reply_html_data'], \"lxml\")\n",
    "        a = soup.find_all('a', {'class': 'td-image-wrap'})\n",
    "        a = [a_.get('href') for a_ in a]\n",
    "        urls.extend(a)"
   ]
  },
  {
   "cell_type": "code",
   "execution_count": 13,
   "metadata": {},
   "outputs": [
    {
     "data": {
      "text/plain": [
       "16149"
      ]
     },
     "execution_count": 13,
     "metadata": {},
     "output_type": "execute_result"
    }
   ],
   "source": [
    "urls = sorted(list(set(urls)))\n",
    "len(urls)"
   ]
  },
  {
   "cell_type": "code",
   "execution_count": 14,
   "metadata": {},
   "outputs": [],
   "source": [
    "!mkdir page"
   ]
  },
  {
   "cell_type": "code",
   "execution_count": 30,
   "metadata": {},
   "outputs": [],
   "source": [
    "r = requests.get(urls[1])\n",
    "soup = BeautifulSoup(r.content, \"lxml\")"
   ]
  },
  {
   "cell_type": "code",
   "execution_count": 31,
   "metadata": {},
   "outputs": [
    {
     "data": {
      "text/plain": [
       "'“1% Atau 0.01% Pun Dah Memadai,” – Karya Kerap Diulang Tayang Ketika PKP, Amerul Affendi Harap Pemain Industri Peka Isu Kontrak & Royalti'"
      ]
     },
     "execution_count": 31,
     "metadata": {},
     "output_type": "execute_result"
    }
   ],
   "source": [
    "soup.find('h1').text"
   ]
  },
  {
   "cell_type": "code",
   "execution_count": 32,
   "metadata": {},
   "outputs": [
    {
     "data": {
      "text/plain": [
       "'Pelakon Amerul Affendi memilih untuk tidak menjadikan lakonan sebagai kerjaya utamanya dan mahu beri fokus juga terhadap bidang pertanian dan penternakan di kampung.\\nMenurut Amerul, keputusan tersebut harus dibuat memandangkan situasi industri lakonan masa kini seakan-akan tidak memihak kepadanya.\\n\\n\\n\\n\\nMalah, dia juga meluahkan rasa kesal terhadap sikap segelintir pemain industri yang disifatkan lebih mementingkan populariti di media sosial berbanding ilmu dan bakat yang dimiliki oleh seseorang pelakon itu.\\n“Isu melibatkan followers ini, mula saya suarakan pada dua tahun lepas. Sejujurnya saya memang agak terasa. Saya rasa seperti apa guna saya belajar di Akedemi Seni Kebangsaan (ASK) dahulu selama tiga tahun, berhabis masa dan duit tetapi bila nak keluar bekerja yang dinilai adalah jumlah followers.\\n“Kerana itulah saya ambil keputusan untuk tidak menjadikan lakonan ini kerjaya utama sebaliknya hanya sebagai hobi. Disebabkan itu saya pulang ke kampung untuk mengusahakan bidang pertanian dan penternakkan.\\nIKLAN\\n\\n\\n\\n\\n“Kemudian, bila saya dah ambil keputusan tersebut, saya tak bergantung harap lagi pada kerjaya lakonan untuk menjana pendapatan,” katanya kepada MH.\\nAmerul berkata sedemikian dalam satu temu ramahnya bersama MH, baru-baru ini.\\n \\nMalah, bintang berusia 35 tahun ini turut menyifatkan segelintir penggiat seni di negara ini dilihat seperti masih lagi tidak belajar daripada kesilapan lalu terutamanya dalam soal royalti dan kelompangan kontrak.\\nIKLAN\\n\\n\\n\\n\\n\\n“Sewaktu tempoh PKP lalu, ramai pemain industri yang mula sedar cara kerja kita sebelum ini tak berapa betul. Stesen tv kerap ulang tayang karya-karya kita tapi kita tidak dapat apa-apa pun.\\n“Ramai sebenarnya yang sedar mengenai situasi ini. Malah, ada juga yang mempersoal peranan yang dimainkan stesen tv dalam membantu orang-orang industri yang tengah susah pada ketika itu.\\n“Sekarang ini, kita kena lihat balik terma-terma kontrak kita selama ini. Bila kita dah fight mengenai isu ini dan ada producer berjaya dapatkan ‘intellectual properties’ tetapi masalah lain pula timbul apabila produser-produser ini pula bersikap seperti stesen tv.\\n“Mereka tak nak bayar royalti. Sekurang-kurangnya bagilah sedikit atas usaha dan penat lelah mereka. Satu peratus atau 0.01 peratus pun dah memadai untuk penggiat seni ini dapat meneruskan kelangsungan hidup lebih-lebih lagi ketika musim pandemik ini,” ujarnya lagi.\\nIKLAN\\n\\n\\n\\n\\nDalam perkembangan lain, Amerul kini sedang sibuk mempromosikan filem terbarunya yang berjudul Prebet Sapu.\\n \\nPrebet Sapu menceritakan mengenai kisah kepayahan dua orang anak muda untuk mengubah nasib hidup mereka di ibukota, Kuala Lumpur.\\n\\n\\n\\nSelain Amirul, filem ini juga turut dibintangi oleh pelakon, Mei Fen Lim.\\n Untuk berita terkini hiburan dalam dan luar negara. Jangan lupa ikuti kami di Telegram rasmi Media Hiburan. Klik di sini.\\n\\n\\n\\n'"
      ]
     },
     "execution_count": 32,
     "metadata": {},
     "output_type": "execute_result"
    }
   ],
   "source": [
    "soup.find_all('div', {'class': 'bialty-container'})[2].text"
   ]
  },
  {
   "cell_type": "code",
   "execution_count": 33,
   "metadata": {},
   "outputs": [
    {
     "name": "stderr",
     "output_type": "stream",
     "text": [
      "16040it [5:15:03,  1.13s/it]IOPub message rate exceeded.\n",
      "The notebook server will temporarily stop sending output\n",
      "to the client in order to avoid crashing it.\n",
      "To change this limit, set the config variable\n",
      "`--NotebookApp.iopub_msg_rate_limit`.\n",
      "\n",
      "Current values:\n",
      "NotebookApp.iopub_msg_rate_limit=1000.0 (msgs/sec)\n",
      "NotebookApp.rate_limit_window=3.0 (secs)\n",
      "\n"
     ]
    }
   ],
   "source": [
    "for no, url in tqdm(enumerate(urls)):\n",
    "    filename = os.path.join('page', f'{no}.json')\n",
    "    if os.path.exists(filename):\n",
    "        continue\n",
    "    \n",
    "    while True:\n",
    "        try:\n",
    "            r = requests.get(url)\n",
    "            break\n",
    "        except:\n",
    "            time.sleep(1.0)\n",
    "    soup = BeautifulSoup(r.content, \"lxml\")\n",
    "\n",
    "    try:\n",
    "        title = soup.find('h1').text\n",
    "    except Exception as e:\n",
    "        title = None\n",
    "\n",
    "    try:\n",
    "        body = soup.find_all('div', {'class': 'bialty-container'})[2].text\n",
    "    except Exception as e:\n",
    "        body = None\n",
    "\n",
    "    data = {\n",
    "        'url': url,\n",
    "        'title': title,\n",
    "        'body': body,\n",
    "    }\n",
    "    with open(filename, 'w') as fopen:\n",
    "        json.dump(data, fopen)"
   ]
  },
  {
   "cell_type": "code",
   "execution_count": null,
   "metadata": {},
   "outputs": [],
   "source": []
  }
 ],
 "metadata": {
  "kernelspec": {
   "display_name": "Python 3 (ipykernel)",
   "language": "python",
   "name": "python3"
  },
  "language_info": {
   "codemirror_mode": {
    "name": "ipython",
    "version": 3
   },
   "file_extension": ".py",
   "mimetype": "text/x-python",
   "name": "python",
   "nbconvert_exporter": "python",
   "pygments_lexer": "ipython3",
   "version": "3.8.10"
  }
 },
 "nbformat": 4,
 "nbformat_minor": 4
}
