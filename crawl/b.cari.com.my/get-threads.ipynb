{
 "cells": [
  {
   "cell_type": "code",
   "execution_count": 1,
   "metadata": {},
   "outputs": [],
   "source": [
    "import requests\n",
    "import numpy as np\n",
    "from bs4 import BeautifulSoup\n",
    "from tqdm import tqdm\n",
    "from concurrent.futures import ThreadPoolExecutor, as_completed\n",
    "from glob import glob\n",
    "from tqdm import tqdm\n",
    "import time\n",
    "import json\n",
    "import os\n",
    "import gc"
   ]
  },
  {
   "cell_type": "code",
   "execution_count": 2,
   "metadata": {},
   "outputs": [
    {
     "data": {
      "text/plain": [
       "90"
      ]
     },
     "execution_count": 2,
     "metadata": {},
     "output_type": "execute_result"
    }
   ],
   "source": [
    "files = glob('forums/*.json')\n",
    "len(files)"
   ]
  },
  {
   "cell_type": "code",
   "execution_count": 3,
   "metadata": {},
   "outputs": [
    {
     "data": {
      "text/plain": [
       "431658"
      ]
     },
     "execution_count": 3,
     "metadata": {},
     "output_type": "execute_result"
    }
   ],
   "source": [
    "forums = []\n",
    "for f in files:\n",
    "    with open(f) as fopen:\n",
    "        forums.extend(json.load(fopen))\n",
    "        \n",
    "forums = sorted(list(set(forums)))\n",
    "len(forums)"
   ]
  },
  {
   "cell_type": "code",
   "execution_count": 5,
   "metadata": {},
   "outputs": [],
   "source": [
    "def get_url(url, topic):\n",
    "    while True:\n",
    "        try:\n",
    "            r = requests.get(url, timeout = 10.0)\n",
    "            break\n",
    "        except Exception as e:\n",
    "            time.sleep(1.0)\n",
    "    soup = BeautifulSoup(r.content, \"lxml\")\n",
    "    a = soup.find_all('a')\n",
    "    a = [a_.get('href') for a_ in a if a_.get('href')]\n",
    "    a = [a_ for a_ in a if topic in a_ and '&page=' in a_]\n",
    "    [a_.split('&extra=page%3D1&page=')[-1] for a_ in a]\n",
    "    max_page = []\n",
    "    for a_ in a:\n",
    "        try:\n",
    "            max_page.append(int(a_.split('&extra=page%3D1&page=')[-1]))\n",
    "        except:\n",
    "            pass\n",
    "\n",
    "    try:\n",
    "        max_page = max(max_page)\n",
    "    except:\n",
    "        max_page = -1\n",
    "    td = soup.find_all('td', {'class': 't_f'})\n",
    "    td = [str(t) for t in td]\n",
    "    return url, td, max_page"
   ]
  },
  {
   "cell_type": "code",
   "execution_count": 6,
   "metadata": {},
   "outputs": [],
   "source": [
    "!rm -rf threads\n",
    "!mkdir threads"
   ]
  },
  {
   "cell_type": "code",
   "execution_count": 9,
   "metadata": {},
   "outputs": [
    {
     "name": "stderr",
     "output_type": "stream",
     "text": [
      " 56%|██████████████████▌              | 12108/21583 [1:12:18<2:17:38,  1.15it/s]IOPub message rate exceeded.\n",
      "The notebook server will temporarily stop sending output\n",
      "to the client in order to avoid crashing it.\n",
      "To change this limit, set the config variable\n",
      "`--NotebookApp.iopub_msg_rate_limit`.\n",
      "\n",
      "Current values:\n",
      "NotebookApp.iopub_msg_rate_limit=1000.0 (msgs/sec)\n",
      "NotebookApp.rate_limit_window=3.0 (secs)\n",
      "\n",
      "100%|███████████████████████████████████| 21583/21583 [4:34:07<00:00,  1.31it/s]\n"
     ]
    }
   ],
   "source": [
    "max_worker = 20\n",
    "\n",
    "for i in tqdm(range(0, len(forums), max_worker)):\n",
    "    \n",
    "    filename = os.path.join('threads', f'{i}.json')\n",
    "    if os.path.exists(filename):\n",
    "        continue\n",
    "        \n",
    "    gc.collect()\n",
    "        \n",
    "    topics = [('https://b.cari.com.my/' + topic, topic) for topic in forums[i: i + max_worker]]\n",
    "    \n",
    "    data = []    \n",
    "    with ThreadPoolExecutor(max_workers=max_worker) as executor:\n",
    "        futures = {executor.submit(get_url, url[0], url[1]): url for url in topics}\n",
    "\n",
    "        for future in as_completed(futures):\n",
    "            try:\n",
    "                data.append(future.result())\n",
    "            except:\n",
    "                pass\n",
    "                \n",
    "    with open(filename, 'w') as fopen:\n",
    "        json.dump(data, fopen)\n",
    "        \n",
    "    try:\n",
    "        del data\n",
    "        del futures\n",
    "    except:\n",
    "        pass"
   ]
  }
 ],
 "metadata": {
  "kernelspec": {
   "display_name": "Python 3 (ipykernel)",
   "language": "python",
   "name": "python3"
  },
  "language_info": {
   "codemirror_mode": {
    "name": "ipython",
    "version": 3
   },
   "file_extension": ".py",
   "mimetype": "text/x-python",
   "name": "python",
   "nbconvert_exporter": "python",
   "pygments_lexer": "ipython3",
   "version": "3.8.10"
  }
 },
 "nbformat": 4,
 "nbformat_minor": 4
}
