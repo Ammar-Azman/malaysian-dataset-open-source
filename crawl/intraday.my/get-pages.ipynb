{
 "cells": [
  {
   "cell_type": "code",
   "execution_count": 1,
   "metadata": {},
   "outputs": [],
   "source": [
    "import requests\n",
    "from bs4 import BeautifulSoup\n",
    "from tqdm import tqdm\n",
    "import os\n",
    "import json\n",
    "import numpy as np\n",
    "import time\n",
    "import random\n",
    "import json"
   ]
  },
  {
   "cell_type": "code",
   "execution_count": 2,
   "metadata": {},
   "outputs": [
    {
     "name": "stderr",
     "output_type": "stream",
     "text": [
      "100%|█████████████████████████████████████| 1108/1108 [00:00<00:00, 6906.75it/s]\n"
     ]
    },
    {
     "data": {
      "text/plain": [
       "(11076, 1108)"
      ]
     },
     "execution_count": 2,
     "metadata": {},
     "output_type": "execute_result"
    }
   ],
   "source": [
    "from glob import glob\n",
    "\n",
    "files = glob('url/*.json')\n",
    "urls = []\n",
    "for f in tqdm(files):\n",
    "    with open(f) as fopen:\n",
    "        urls.extend(json.load(fopen))\n",
    "urls = sorted(list(set(urls)))\n",
    "len(urls), len(files)"
   ]
  },
  {
   "cell_type": "code",
   "execution_count": 3,
   "metadata": {},
   "outputs": [],
   "source": [
    "r = requests.get(urls[0])\n",
    "soup = BeautifulSoup(r.content, \"lxml\")"
   ]
  },
  {
   "cell_type": "code",
   "execution_count": 4,
   "metadata": {},
   "outputs": [
    {
     "data": {
      "text/plain": [
       "'\\n¥158.000 Penghalang GBP/JPY Untuk Melonjak Lebih Garang\\n'"
      ]
     },
     "execution_count": 4,
     "metadata": {},
     "output_type": "execute_result"
    }
   ],
   "source": [
    "soup.find('h1').text"
   ]
  },
  {
   "cell_type": "code",
   "execution_count": 5,
   "metadata": {},
   "outputs": [
    {
     "data": {
      "text/plain": [
       "'\\nBukan masanya lagi untuk matawang Yen terus merekodkan pengukuhan apabila kembali menyusut untuk berlegar-legar semula di paras terendah April 2019 setelah pamer peningkatan gah minggu lalu.\\nYen kekal lemah susulan jangkaan bahawa Bank of Japan (BOJ) masih komited untuk mengekalkan kadar polisi meskipun kebanyakan bank pusat sudah mula merencana untuk melaksanakan langkah ‘tapering’.\\nTampaknya matawang Pound mengambil lagi peluang untuk lebih mengukuh berbanding Yen walaupun masih menghadapi tekanan daripada kenyataan Pesuruhjaya Eropah Internal Market, Thierry Breton.\\nMelihat kepada carta harga pasangan matawang GBP/JPY, pergerakan harga dilihat telah pun mencanak melebihi 100 pips daripada paras rintangan 156.000 untuk menyangkal trend bearish pada sebelum ini.\\nLonjakan harga itu juga nampaknya terus kembali menguji zon SBR (support become resistance) 158.000 sebelum menyusut semula pada penghujung sesi sehingga disambung ke sesi dagangan hari ini (Rabu).\\nSekiranya matawang Yen sekali lagi memberi kejutan untuk kembali mengukuh, paras rintangan minggu lalu pada 156.000 dijangka bakal diuji sebelum pelabur menilai reaksi pergerakan pada paras tersebut.\\n Zon RBS (resistance become support) 155.000 dijangkakan bakal dicecah andai kata penurunan harga berjaya meneruskan rentak penurunan yang lebih jelas sehingga menembusi paras rintangan itu.\\nJikalau trend bullish yang dipersembahkan pada kali ini berjaya dikekalkan, tidak mustahil untuk harga terus melonjak semula serta mencapai zon SBR 158.000 dan menguji paras tertinggi sekitar 158.300.\\nLantunan yang lebih agresif akan memperlihatkan harga mencuba untuk merekod paras ketinggian 5 tahun yang terbaharu dan berkemungkinan akan mampu untuk menuju ke zon rintangan pada 160.000.\\nLihat gambar carta pasangan matawang GBP/JPY di bawah untuk rujukan analisis teknikal anda.\\n\\nCarta yang dipaparkan di atas menggunakan platform SaracenMarkets, buka akaun trading anda di SaracenMarkets hari ini. – KLIK DI SINI – MULA TRADE SEKARANG '"
      ]
     },
     "execution_count": 5,
     "metadata": {},
     "output_type": "execute_result"
    }
   ],
   "source": [
    "soup.find('div', {'class':\"entry-content\"}).text"
   ]
  },
  {
   "cell_type": "code",
   "execution_count": 6,
   "metadata": {},
   "outputs": [],
   "source": [
    "!mkdir page"
   ]
  },
  {
   "cell_type": "code",
   "execution_count": 7,
   "metadata": {},
   "outputs": [
    {
     "name": "stderr",
     "output_type": "stream",
     "text": [
      "6146it [48:17,  2.45it/s]IOPub message rate exceeded.\n",
      "The notebook server will temporarily stop sending output\n",
      "to the client in order to avoid crashing it.\n",
      "To change this limit, set the config variable\n",
      "`--NotebookApp.iopub_msg_rate_limit`.\n",
      "\n",
      "Current values:\n",
      "NotebookApp.iopub_msg_rate_limit=1000.0 (msgs/sec)\n",
      "NotebookApp.rate_limit_window=3.0 (secs)\n",
      "\n"
     ]
    }
   ],
   "source": [
    "for no, url in tqdm(enumerate(urls)):\n",
    "    filename = os.path.join('page', f'{no}.json')\n",
    "    if os.path.exists(filename):\n",
    "        continue\n",
    "    \n",
    "    while True:\n",
    "        try:\n",
    "            r = requests.get(url)\n",
    "            break\n",
    "        except:\n",
    "            time.sleep(1.0)\n",
    "            \n",
    "    soup = BeautifulSoup(r.content, \"lxml\")\n",
    "\n",
    "    try:\n",
    "        title = soup.find('h1').text.strip()\n",
    "    except Exception as e:\n",
    "        title = None\n",
    "\n",
    "    try:\n",
    "        body = soup.find('div', {'class':\"entry-content\"}).text\n",
    "    except Exception as e:\n",
    "        body = None\n",
    "\n",
    "    data = {\n",
    "        'url': url,\n",
    "        'title': title,\n",
    "        'body': body,\n",
    "    }\n",
    "    with open(filename, 'w') as fopen:\n",
    "        json.dump(data, fopen)"
   ]
  },
  {
   "cell_type": "code",
   "execution_count": null,
   "metadata": {},
   "outputs": [],
   "source": []
  }
 ],
 "metadata": {
  "kernelspec": {
   "display_name": "Python 3 (ipykernel)",
   "language": "python",
   "name": "python3"
  },
  "language_info": {
   "codemirror_mode": {
    "name": "ipython",
    "version": 3
   },
   "file_extension": ".py",
   "mimetype": "text/x-python",
   "name": "python",
   "nbconvert_exporter": "python",
   "pygments_lexer": "ipython3",
   "version": "3.8.10"
  }
 },
 "nbformat": 4,
 "nbformat_minor": 4
}
