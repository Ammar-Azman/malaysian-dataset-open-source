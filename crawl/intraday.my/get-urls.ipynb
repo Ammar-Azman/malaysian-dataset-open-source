{
 "cells": [
  {
   "cell_type": "code",
   "execution_count": 1,
   "metadata": {},
   "outputs": [],
   "source": [
    "import requests\n",
    "from bs4 import BeautifulSoup\n",
    "from tqdm import tqdm\n",
    "import os\n",
    "import json\n",
    "import numpy as np\n",
    "import time\n",
    "import random\n",
    "import json\n",
    "import urllib3\n",
    "urllib3.disable_warnings(urllib3.exceptions.InsecureRequestWarning)"
   ]
  },
  {
   "cell_type": "code",
   "execution_count": 2,
   "metadata": {},
   "outputs": [],
   "source": [
    "topics = [\n",
    "    'https://intraday.my/category/forex/',\n",
    "    'https://intraday.my/category/pasaran/',\n",
    "    'https://intraday.my/category/nft/',\n",
    "    'https://intraday.my/category/kripto/',\n",
    "    'https://intraday.my/category/asas-kripto/',\n",
    "    'https://intraday.my/category/saham-lokal/',\n",
    "    'https://intraday.my/category/saham-global/',\n",
    "    'https://intraday.my/category/isu-semasa/',\n",
    "    'https://intraday.my/category/biz/',\n",
    "    'https://intraday.my/category/artikel-umum/'\n",
    "]"
   ]
  },
  {
   "cell_type": "code",
   "execution_count": 3,
   "metadata": {},
   "outputs": [],
   "source": [
    "!rm -rf url\n",
    "!mkdir url"
   ]
  },
  {
   "cell_type": "code",
   "execution_count": 4,
   "metadata": {},
   "outputs": [],
   "source": [
    "r = requests.get(topics[0])\n",
    "soup = BeautifulSoup(r.content, \"lxml\")"
   ]
  },
  {
   "cell_type": "code",
   "execution_count": 14,
   "metadata": {
    "scrolled": true
   },
   "outputs": [
    {
     "data": {
      "text/plain": [
       "['https://intraday.my/analisis-gold-tempias-cpi-as-emas-terpacak-tembus-1950/',\n",
       " 'https://intraday.my/boc-nekad-teruskan-hike-rates-ini-terjadi-pada-carta-usd-cad/',\n",
       " 'https://intraday.my/gbp-usd-panjat-lagi-100-pips-sebab-cpi-as-semalam/',\n",
       " 'https://intraday.my/penangan-cpi-as-eur-usd-capai-paras-tertinggi-sejak-april-2022/',\n",
       " 'https://intraday.my/tindakan-the-fed-semakin-membuahkan-hasil-inflasi-bulan-jun-semakin-perlahan/',\n",
       " 'https://intraday.my/analisis-gold-kalau-harga-teruskan-lonjakan-paras-1950-bakal-dicapai/',\n",
       " 'https://intraday.my/rbnz-kekal-kadar-faedah-5-50-ini-kesan-pada-carta-nzd-usd/',\n",
       " 'https://intraday.my/gbp-usd-canak-lagi-ke-paras-paling-tinggi-15-bulan/',\n",
       " 'https://intraday.my/walaupun-euro-suram-eur-usd-tetap-rekodkan-ketinggian-terbaru-9-minggu/',\n",
       " 'https://intraday.my/usd-dah-berhenti-turun/']"
      ]
     },
     "execution_count": 14,
     "metadata": {},
     "output_type": "execute_result"
    }
   ],
   "source": [
    "div = soup.find('div', {'class': 'listing listing-grid listing-grid-1 clearfix columns-2'})\n",
    "a = div.find_all('a', {'class': 'post-title post-url'})\n",
    "a = [a_.get('href') for a_ in a]\n",
    "a"
   ]
  },
  {
   "cell_type": "code",
   "execution_count": null,
   "metadata": {},
   "outputs": [
    {
     "name": "stderr",
     "output_type": "stream",
     "text": [
      "914it [12:08,  1.00s/it]"
     ]
    }
   ],
   "source": [
    "def generator():\n",
    "    while True:\n",
    "        yield\n",
    "\n",
    "for t in topics:\n",
    "    t_ = t.split('my/')[1].replace('/', '-')\n",
    "    index = 1\n",
    "    \n",
    "    for _ in tqdm(generator()):\n",
    "        filename = os.path.join('url', f'{t_}-{index}.json')\n",
    "        if os.path.exists(filename):\n",
    "            continue\n",
    "            \n",
    "        url = f'{t}page/{index}'\n",
    "        r = requests.get(url)\n",
    "        soup = BeautifulSoup(r.content, \"lxml\")\n",
    "        div = soup.find_all('div', {'class': 'infinite-post'})\n",
    "        div = soup.find('div', {'class': 'listing listing-grid listing-grid-1 clearfix columns-2'})\n",
    "        a = div.find_all('a', {'class': 'post-title post-url'})\n",
    "        a = [a_.get('href') for a_ in a]\n",
    "        \n",
    "        if not len(a):\n",
    "            break\n",
    "        \n",
    "        with open(filename, 'w') as fopen:\n",
    "            json.dump(a, fopen)\n",
    "        \n",
    "        index += 1"
   ]
  },
  {
   "cell_type": "code",
   "execution_count": null,
   "metadata": {},
   "outputs": [],
   "source": []
  }
 ],
 "metadata": {
  "kernelspec": {
   "display_name": "Python 3 (ipykernel)",
   "language": "python",
   "name": "python3"
  },
  "language_info": {
   "codemirror_mode": {
    "name": "ipython",
    "version": 3
   },
   "file_extension": ".py",
   "mimetype": "text/x-python",
   "name": "python",
   "nbconvert_exporter": "python",
   "pygments_lexer": "ipython3",
   "version": "3.8.10"
  }
 },
 "nbformat": 4,
 "nbformat_minor": 4
}
