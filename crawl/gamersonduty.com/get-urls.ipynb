{
 "cells": [
  {
   "cell_type": "code",
   "execution_count": 6,
   "metadata": {},
   "outputs": [],
   "source": [
    "import requests\n",
    "\n",
    "cookies = {\n",
    "    '_ga': 'GA1.1.1662882226.1689526395',\n",
    "    'XSRF-TOKEN': 'eyJpdiI6ImhscE9UeGtJb3JiRjJlMFJVeDBTc2c9PSIsInZhbHVlIjoiaUh5TndqQUpJeEFXaHNRd0FQMFpmTHdMYW85cVdlWVJrK2NNWEJLUGRaZGE2OFUzS2NjL3BGUTZpdTJFckhZRUJkRzdEUWVDdXREejdrYXRjc25DcmUyVkI2NjhlaVNDUGhwZ2pJOUE4WjV0Q2lUYldEck9DU0FHdnFndUZVRnciLCJtYWMiOiIxMzM1NjRhNDY1ZTlkYzAzNzIxN2Q5YjFhOGVjNGI4YWIzOGJmY2M4YjNmMTM3MzJmZjQ5MTM2MmJkNjZjNjI2In0%3D',\n",
    "    'laravel_session': 'eyJpdiI6InVPdmJxSnB2eTRXMVdERi9UY0FjYmc9PSIsInZhbHVlIjoiT3RHNTQ0V2hWU1VMLzBPaC9QWXNKdGh5L3ZvNDF5c0crZ1M2dHd5bVhlMnRBWGlBYlE5U25CNmR3RUpDb1FGNzAxZWY3eFA3RUtvYWt6dGd3alJVWGExZXF4cDVETUlCYnRPNmk4YnpOejdDVlBCWDBIZ2lCbFMvTU0vZWJuTmciLCJtYWMiOiJlMjVkMTg3Y2RiNmM0NWM4ZjhkYTE2MTFlNjY0NmM5ZWZkNzg2YWYyZTM4ZGFjMGEzMTFiOGRhYWJkZTY4ZDVjIn0%3D',\n",
    "    '_ga_2PNH7J538F': 'GS1.1.1689767833.2.1.1689767885.0.0.0',\n",
    "}\n",
    "\n",
    "headers = {\n",
    "    'Accept': 'application/json',\n",
    "    'Accept-Language': 'en-MY,en;q=0.9,en-US;q=0.8,ms;q=0.7',\n",
    "    'Cache-Control': 'no-cache',\n",
    "    'Connection': 'keep-alive',\n",
    "    # 'Cookie': '_ga=GA1.1.1662882226.1689526395; XSRF-TOKEN=eyJpdiI6ImhscE9UeGtJb3JiRjJlMFJVeDBTc2c9PSIsInZhbHVlIjoiaUh5TndqQUpJeEFXaHNRd0FQMFpmTHdMYW85cVdlWVJrK2NNWEJLUGRaZGE2OFUzS2NjL3BGUTZpdTJFckhZRUJkRzdEUWVDdXREejdrYXRjc25DcmUyVkI2NjhlaVNDUGhwZ2pJOUE4WjV0Q2lUYldEck9DU0FHdnFndUZVRnciLCJtYWMiOiIxMzM1NjRhNDY1ZTlkYzAzNzIxN2Q5YjFhOGVjNGI4YWIzOGJmY2M4YjNmMTM3MzJmZjQ5MTM2MmJkNjZjNjI2In0%3D; laravel_session=eyJpdiI6InVPdmJxSnB2eTRXMVdERi9UY0FjYmc9PSIsInZhbHVlIjoiT3RHNTQ0V2hWU1VMLzBPaC9QWXNKdGh5L3ZvNDF5c0crZ1M2dHd5bVhlMnRBWGlBYlE5U25CNmR3RUpDb1FGNzAxZWY3eFA3RUtvYWt6dGd3alJVWGExZXF4cDVETUlCYnRPNmk4YnpOejdDVlBCWDBIZ2lCbFMvTU0vZWJuTmciLCJtYWMiOiJlMjVkMTg3Y2RiNmM0NWM4ZjhkYTE2MTFlNjY0NmM5ZWZkNzg2YWYyZTM4ZGFjMGEzMTFiOGRhYWJkZTY4ZDVjIn0%3D; _ga_2PNH7J538F=GS1.1.1689767833.2.1.1689767885.0.0.0',\n",
    "    'Pragma': 'no-cache',\n",
    "    'Referer': 'https://gamersonduty.com/news',\n",
    "    'Sec-Fetch-Dest': 'empty',\n",
    "    'Sec-Fetch-Mode': 'cors',\n",
    "    'Sec-Fetch-Site': 'same-origin',\n",
    "    'User-Agent': 'Mozilla/5.0 (Macintosh; Intel Mac OS X 10_15_7) AppleWebKit/537.36 (KHTML, like Gecko) Chrome/114.0.0.0 Safari/537.36',\n",
    "    'X-Requested-With': 'XMLHttpRequest',\n",
    "    'X-XSRF-TOKEN': 'eyJpdiI6ImhscE9UeGtJb3JiRjJlMFJVeDBTc2c9PSIsInZhbHVlIjoiaUh5TndqQUpJeEFXaHNRd0FQMFpmTHdMYW85cVdlWVJrK2NNWEJLUGRaZGE2OFUzS2NjL3BGUTZpdTJFckhZRUJkRzdEUWVDdXREejdrYXRjc25DcmUyVkI2NjhlaVNDUGhwZ2pJOUE4WjV0Q2lUYldEck9DU0FHdnFndUZVRnciLCJtYWMiOiIxMzM1NjRhNDY1ZTlkYzAzNzIxN2Q5YjFhOGVjNGI4YWIzOGJmY2M4YjNmMTM3MzJmZjQ5MTM2MmJkNjZjNjI2In0=',\n",
    "    'sec-ch-ua': '\"Not.A/Brand\";v=\"8\", \"Chromium\";v=\"114\", \"Google Chrome\";v=\"114\"',\n",
    "    'sec-ch-ua-mobile': '?0',\n",
    "    'sec-ch-ua-platform': '\"macOS\"',\n",
    "}\n",
    "\n"
   ]
  },
  {
   "cell_type": "code",
   "execution_count": 11,
   "metadata": {},
   "outputs": [],
   "source": [
    "from tqdm import tqdm\n",
    "import os\n",
    "import json"
   ]
  },
  {
   "cell_type": "code",
   "execution_count": 15,
   "metadata": {},
   "outputs": [],
   "source": [
    "!rm -rf url\n",
    "!mkdir url"
   ]
  },
  {
   "cell_type": "code",
   "execution_count": 16,
   "metadata": {},
   "outputs": [
    {
     "name": "stderr",
     "output_type": "stream",
     "text": [
      "83it [00:38,  2.15it/s]\n"
     ]
    }
   ],
   "source": [
    "def generator():\n",
    "    while True:\n",
    "        yield\n",
    "        \n",
    "index = 1\n",
    "for _ in tqdm(generator()):\n",
    "    filename = os.path.join('url', f'{index}.json')\n",
    "    if os.path.exists(filename):\n",
    "        index += 1\n",
    "        continue\n",
    "\n",
    "    params = {\n",
    "        'page': str(index),\n",
    "    }\n",
    "\n",
    "    response = requests.get('https://gamersonduty.com/spa/blog', params=params, cookies=cookies, headers=headers)\n",
    "    r = response.json()\n",
    "    if not len(r['data']):\n",
    "        break\n",
    "    \n",
    "    with open(filename, 'w') as fopen:\n",
    "        json.dump(r, fopen)\n",
    "\n",
    "    index += 1"
   ]
  },
  {
   "cell_type": "code",
   "execution_count": null,
   "metadata": {},
   "outputs": [],
   "source": []
  }
 ],
 "metadata": {
  "kernelspec": {
   "display_name": "Python 3 (ipykernel)",
   "language": "python",
   "name": "python3"
  },
  "language_info": {
   "codemirror_mode": {
    "name": "ipython",
    "version": 3
   },
   "file_extension": ".py",
   "mimetype": "text/x-python",
   "name": "python",
   "nbconvert_exporter": "python",
   "pygments_lexer": "ipython3",
   "version": "3.8.10"
  }
 },
 "nbformat": 4,
 "nbformat_minor": 4
}
