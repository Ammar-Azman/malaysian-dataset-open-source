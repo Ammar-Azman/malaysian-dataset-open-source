{
 "cells": [
  {
   "cell_type": "code",
   "execution_count": 1,
   "metadata": {},
   "outputs": [],
   "source": [
    "from glob import glob\n",
    "import json"
   ]
  },
  {
   "cell_type": "code",
   "execution_count": 13,
   "metadata": {},
   "outputs": [],
   "source": [
    "files = glob('url/*.json')\n",
    "\n",
    "with open('data.jsonl', 'w') as fopen_l:\n",
    "    for f in files:\n",
    "        with open(f) as fopen:\n",
    "            data = json.load(fopen)\n",
    "\n",
    "        for d in data['data']:\n",
    "            data_ = {\n",
    "                'title': d['title'],\n",
    "                'body': d['content'],\n",
    "                'url': 'https://gamersonduty.com/news/' + d['permalink'],\n",
    "            }\n",
    "            fopen_l.write(f'{json.dumps(data_)}\\n')"
   ]
  },
  {
   "cell_type": "code",
   "execution_count": 15,
   "metadata": {},
   "outputs": [
    {
     "name": "stdout",
     "output_type": "stream",
     "text": [
      "{\"title\": \"Zombies Esport Hacking PMPL Arabia!\", \"body\": \"<p>Musim PUBG Mobile Pro League (PMPL) kini sedang berlangsung di negara Arab. Ini merupakan PMPL musim pertama yang diadakan di negara ini. Sebanyak 20 pasukan yang bertanding dalam PMPL Arabia musim 1. Hadiah terkumpul untuk kejohanan ini adalah sebanyak USD 95,000 (RM380,000). Namun begitu, terdapat isu yang berlaku dalam PMPL Arabia musim ini.</p><figure class=\\\"image\\\"><img src=\\\"https://gamers.sgp1.digitaloceanspaces.com/368/conversions/31593-9baaf2c911271a936981af6c7d790fc8-medium.jpg\\\"></figure><p>Setelah 2 minggu PMPL berlangsung, salah seorang ahli pasukan Zombies Esport didapati bersalah kerana telah melakukan <i>hacking</i> dalam perlawanan. Hal ini dikesan apabila terdapat <i>moment</i> yang dipersoalkan seperti <i>gun spray </i>yang sangat tepat walaupun dari jarak yang jauh dan boleh mengetahui pergerakan pihak lawan. Disebabkan itu, Zombies Esports terpaksa dikeluarkan daripada PMPL Arabia musim 1.</p><figure class=\\\"image\\\"><img src=\\\"https://gamers.sgp1.digitaloceanspaces.com/369/conversions/PMPL-Arabia-2-medium.jpg\\\"></figure><p>Seperti yang semua tahu, melakukan <i>hacking/cheating</i> dalam <i>game</i> merupakan satu kesalahan yang besar. Oleh itu, individu yang melakukan <i>hacking</i> tersebut akan dikenakan tindakan dimana dia tidak boleh bermain mana-mana kejohanan untuk selamanya. Untuk ahli pasukan yang lain, mereka akan disiasat bagi mendapatkan maklumat.\\u00a0</p><figure class=\\\"image\\\"><img src=\\\"https://gamers.sgp1.digitaloceanspaces.com/370/conversions/Zombies-Esports-medium.jpg\\\"></figure><p>Kesimpulannya, korang semua mainlah <i>game</i> dengan usaha dan bakat sendiri. Jauhkan diri daripada melakukan <i>hacking/cheating</i>. Untuk maklumat lebih lanjut tentang berita ini, sila ke <a href=\\\"https://dotesports.com/news/zombies-esports-disqualified-from-pmpl-arabia-after-player-gets-caught-using-hacks\\\">dotesports.com</a>.</p><p>SUMBER: <a href=\\\"https://dotesports.com/news/zombies-esports-disqualified-from-pmpl-arabia-after-player-gets-caught-using-hacks\\\">dotesports.com</a></p>\", \"url\": \"https://gamersonduty.com/news/zombies-esport-hacking-pmpl-arabia\"}\r\n"
     ]
    }
   ],
   "source": [
    "!head -n 1 data.jsonl"
   ]
  },
  {
   "cell_type": "code",
   "execution_count": null,
   "metadata": {},
   "outputs": [],
   "source": []
  }
 ],
 "metadata": {
  "kernelspec": {
   "display_name": "Python 3 (ipykernel)",
   "language": "python",
   "name": "python3"
  },
  "language_info": {
   "codemirror_mode": {
    "name": "ipython",
    "version": 3
   },
   "file_extension": ".py",
   "mimetype": "text/x-python",
   "name": "python",
   "nbconvert_exporter": "python",
   "pygments_lexer": "ipython3",
   "version": "3.8.10"
  }
 },
 "nbformat": 4,
 "nbformat_minor": 4
}
