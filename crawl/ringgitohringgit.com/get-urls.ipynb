{
 "cells": [
  {
   "cell_type": "code",
   "execution_count": null,
   "metadata": {},
   "outputs": [],
   "source": [
    "'https://ringgitohringgit.com/page/46/'"
   ]
  },
  {
   "cell_type": "code",
   "execution_count": 1,
   "metadata": {},
   "outputs": [],
   "source": [
    "import requests\n",
    "from bs4 import BeautifulSoup\n",
    "from tqdm import tqdm\n",
    "import os\n",
    "import json\n",
    "import numpy as np\n",
    "import time\n",
    "import random\n",
    "import json\n",
    "import urllib3\n",
    "urllib3.disable_warnings(urllib3.exceptions.InsecureRequestWarning)"
   ]
  },
  {
   "cell_type": "code",
   "execution_count": 4,
   "metadata": {},
   "outputs": [],
   "source": [
    "cookies = {\n",
    "    '_gid': 'GA1.2.64530169.1694153464',\n",
    "    'pys_session_limit': 'true',\n",
    "    'pys_start_session': 'true',\n",
    "    '_clck': '1spuik|2|feu|0|1346',\n",
    "    'pys_first_visit': 'true',\n",
    "    'pysTrafficSource': 'google.com',\n",
    "    'pys_landing_page': 'https://ringgitohringgit.com/',\n",
    "    'last_pysTrafficSource': 'google.com',\n",
    "    'last_pys_landing_page': 'https://ringgitohringgit.com/',\n",
    "    '_ga_MQ3CWMW25R': 'GS1.1.1694153463.1.1.1694153946.60.0.0',\n",
    "    '_ga': 'GA1.1.33912944.1694153464',\n",
    "    '_clsk': '1nptv31|1694155199983|3|1|v.clarity.ms/collect',\n",
    "}\n",
    "\n",
    "headers = {\n",
    "    'authority': 'ringgitohringgit.com',\n",
    "    'accept': 'text/html,application/xhtml+xml,application/xml;q=0.9,image/avif,image/webp,image/apng,*/*;q=0.8,application/signed-exchange;v=b3;q=0.7',\n",
    "    'accept-language': 'en-MY,en;q=0.9,en-US;q=0.8,ms;q=0.7',\n",
    "    'cache-control': 'no-cache',\n",
    "    # 'cookie': '_gid=GA1.2.64530169.1694153464; pys_session_limit=true; pys_start_session=true; _clck=1spuik|2|feu|0|1346; pys_first_visit=true; pysTrafficSource=google.com; pys_landing_page=https://ringgitohringgit.com/; last_pysTrafficSource=google.com; last_pys_landing_page=https://ringgitohringgit.com/; _ga_MQ3CWMW25R=GS1.1.1694153463.1.1.1694153946.60.0.0; _ga=GA1.1.33912944.1694153464; _clsk=1nptv31|1694155199983|3|1|v.clarity.ms/collect',\n",
    "    'pragma': 'no-cache',\n",
    "    'referer': 'https://www.google.com/',\n",
    "    'sec-ch-ua': '\"Chromium\";v=\"116\", \"Not)A;Brand\";v=\"24\", \"Google Chrome\";v=\"116\"',\n",
    "    'sec-ch-ua-mobile': '?0',\n",
    "    'sec-ch-ua-platform': '\"macOS\"',\n",
    "    'sec-fetch-dest': 'document',\n",
    "    'sec-fetch-mode': 'navigate',\n",
    "    'sec-fetch-site': 'cross-site',\n",
    "    'sec-fetch-user': '?1',\n",
    "    'upgrade-insecure-requests': '1',\n",
    "    'user-agent': 'Mozilla/5.0 (Macintosh; Intel Mac OS X 10_15_7) AppleWebKit/537.36 (KHTML, like Gecko) Chrome/116.0.0.0 Safari/537.36',\n",
    "}\n"
   ]
  },
  {
   "cell_type": "code",
   "execution_count": 9,
   "metadata": {},
   "outputs": [
    {
     "name": "stderr",
     "output_type": "stream",
     "text": [
      "100%|█████████████████████████████████████████████████████████████████████████████████████████████████████████████| 46/46 [01:17<00:00,  1.68s/it]\n"
     ]
    }
   ],
   "source": [
    "all_a = []\n",
    "for i in tqdm(range(1, 47, 1)):\n",
    "    url = f'https://ringgitohringgit.com/page/{i}/'\n",
    "    r = requests.get(url, cookies = cookies, headers = headers)\n",
    "    soup = BeautifulSoup(r.content, \"lxml\")\n",
    "    h2 = soup.find_all('h2', {'class': 'entry-title'})\n",
    "    a = [h2_.find('a').get('href') for h2_ in h2]\n",
    "    all_a.extend(a)"
   ]
  },
  {
   "cell_type": "code",
   "execution_count": 10,
   "metadata": {},
   "outputs": [],
   "source": [
    "with open('urls.json', 'w') as fopen:\n",
    "    json.dump(list(set(all_a)), fopen)"
   ]
  },
  {
   "cell_type": "code",
   "execution_count": 13,
   "metadata": {},
   "outputs": [],
   "source": [
    "urls = sorted(list(set(all_a)))"
   ]
  },
  {
   "cell_type": "code",
   "execution_count": 21,
   "metadata": {},
   "outputs": [
    {
     "name": "stderr",
     "output_type": "stream",
     "text": [
      "100%|███████████████████████████████████████████████████████████████████████████████████████████████████████████| 547/547 [13:35<00:00,  1.49s/it]\n"
     ]
    }
   ],
   "source": [
    "data = []\n",
    "for url in tqdm(urls):\n",
    "    r = requests.get(url, cookies = cookies, headers = headers)\n",
    "    soup = BeautifulSoup(r.content, \"lxml\")\n",
    "    data.append({\n",
    "        'url': url,\n",
    "        'title': soup.find('h1').text,\n",
    "        'body': soup.find('div', {'id': 'bsf_rt_marker'}).get_text(separator=\"\\n\"),\n",
    "    })"
   ]
  },
  {
   "cell_type": "code",
   "execution_count": 22,
   "metadata": {},
   "outputs": [],
   "source": [
    "with open('ringgitohringgit.com.jsonl', 'w') as fopen:\n",
    "    for d in data:\n",
    "        fopen.write(f'{json.dumps(d)}\\n')"
   ]
  }
 ],
 "metadata": {
  "kernelspec": {
   "display_name": "Python 3 (ipykernel)",
   "language": "python",
   "name": "python3"
  },
  "language_info": {
   "codemirror_mode": {
    "name": "ipython",
    "version": 3
   },
   "file_extension": ".py",
   "mimetype": "text/x-python",
   "name": "python",
   "nbconvert_exporter": "python",
   "pygments_lexer": "ipython3",
   "version": "3.8.10"
  }
 },
 "nbformat": 4,
 "nbformat_minor": 4
}
