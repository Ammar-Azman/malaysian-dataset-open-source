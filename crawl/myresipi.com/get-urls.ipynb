{
 "cells": [
  {
   "cell_type": "code",
   "execution_count": 1,
   "metadata": {},
   "outputs": [],
   "source": [
    "import requests\n",
    "from bs4 import BeautifulSoup\n",
    "from tqdm import tqdm\n",
    "import os\n",
    "import json\n",
    "import numpy as np\n",
    "import time\n",
    "import random\n",
    "import json"
   ]
  },
  {
   "cell_type": "code",
   "execution_count": 3,
   "metadata": {},
   "outputs": [],
   "source": [
    "r = requests.get('https://myresipi.com/category/dapur-tempur/')\n",
    "soup = BeautifulSoup(r.content, \"lxml\")"
   ]
  },
  {
   "cell_type": "code",
   "execution_count": 6,
   "metadata": {},
   "outputs": [],
   "source": [
    "a = soup.find_all('a', {'class': 'fusion-bottombar-highlight'})\n",
    "a = [a_.get('href') for a_ in a if len(a_.get('href', ''))]"
   ]
  },
  {
   "cell_type": "code",
   "execution_count": 8,
   "metadata": {},
   "outputs": [],
   "source": [
    "topics = [\n",
    "    'https://myresipi.com/artikel/',\n",
    "    'https://myresipi.com/category/artikel/tips-petua/',\n",
    "    'https://myresipi.com/category/artikel/infomasi/',\n",
    "    'https://myresipi.com/category/artikel/kesihatan/',\n",
    "    'https://myresipi.com/category/resipi/',\n",
    "    'https://myresipi.com/category/dapur-tempur/'\n",
    "]"
   ]
  },
  {
   "cell_type": "code",
   "execution_count": 42,
   "metadata": {},
   "outputs": [],
   "source": [
    "!rm -rf url\n",
    "!mkdir url"
   ]
  },
  {
   "cell_type": "code",
   "execution_count": 43,
   "metadata": {},
   "outputs": [
    {
     "name": "stderr",
     "output_type": "stream",
     "text": [
      "100%|█████████████████████████████████████████| 149/149 [01:26<00:00,  1.71it/s]\n",
      " 12%|█████                                     | 18/149 [00:33<04:01,  1.84s/it]\n",
      " 15%|██████▍                                   | 23/149 [00:42<03:50,  1.83s/it]\n",
      "  1%|▌                                          | 2/149 [00:04<05:30,  2.25s/it]\n",
      " 32%|█████████████▏                            | 47/149 [01:23<03:01,  1.78s/it]\n",
      "  1%|▎                                          | 1/149 [00:03<07:35,  3.07s/it]\n"
     ]
    }
   ],
   "source": [
    "for t in topics:\n",
    "    t_ = t.split('com/')[1].replace('/', '-')\n",
    "    for index in tqdm(range(1, 150, 1)):\n",
    "        filename = os.path.join('url', f'{t_}-{index}.json')\n",
    "        if os.path.exists(filename):\n",
    "            continue\n",
    "            \n",
    "        url = f'{t}page/{index}'\n",
    "        r = requests.get(url)\n",
    "        soup = BeautifulSoup(r.content, \"lxml\")\n",
    "        articles = soup.find_all('article')\n",
    "        a = [a.find('a').get('href') for a in articles]\n",
    "        if not len(a):\n",
    "            break\n",
    "        \n",
    "        with open(filename, 'w') as fopen:\n",
    "            json.dump(a, fopen)"
   ]
  },
  {
   "cell_type": "code",
   "execution_count": 45,
   "metadata": {},
   "outputs": [
    {
     "data": {
      "text/plain": [
       "[]"
      ]
     },
     "execution_count": 45,
     "metadata": {},
     "output_type": "execute_result"
    }
   ],
   "source": [
    "soup.find_all('article')"
   ]
  },
  {
   "cell_type": "code",
   "execution_count": null,
   "metadata": {},
   "outputs": [],
   "source": []
  }
 ],
 "metadata": {
  "kernelspec": {
   "display_name": "Python 3 (ipykernel)",
   "language": "python",
   "name": "python3"
  },
  "language_info": {
   "codemirror_mode": {
    "name": "ipython",
    "version": 3
   },
   "file_extension": ".py",
   "mimetype": "text/x-python",
   "name": "python",
   "nbconvert_exporter": "python",
   "pygments_lexer": "ipython3",
   "version": "3.8.10"
  }
 },
 "nbformat": 4,
 "nbformat_minor": 4
}
