{
 "cells": [
  {
   "cell_type": "code",
   "execution_count": 1,
   "metadata": {},
   "outputs": [],
   "source": [
    "import requests\n",
    "from bs4 import BeautifulSoup\n",
    "from tqdm import tqdm\n",
    "import os\n",
    "import json\n",
    "import numpy as np\n",
    "import time\n",
    "import random\n",
    "import json\n",
    "import urllib3\n",
    "urllib3.disable_warnings(urllib3.exceptions.InsecureRequestWarning)"
   ]
  },
  {
   "cell_type": "code",
   "execution_count": 2,
   "metadata": {},
   "outputs": [],
   "source": [
    "url = 'https://akuislam.com/'\n",
    "r = requests.get(url)"
   ]
  },
  {
   "cell_type": "code",
   "execution_count": 3,
   "metadata": {},
   "outputs": [],
   "source": [
    "soup = BeautifulSoup(r.content, \"lxml\")"
   ]
  },
  {
   "cell_type": "code",
   "execution_count": 4,
   "metadata": {},
   "outputs": [
    {
     "data": {
      "text/plain": [
       "['https://akuislam.com/panduan/ihram-haji-umrah/',\n",
       " 'https://akuislam.com/panduan/bacaan-ayat-ruqyah/',\n",
       " 'https://akuislam.com/panduan/tawaf-sunat/',\n",
       " 'https://akuislam.com/panduan/tahalul-umrah/',\n",
       " 'https://akuislam.com/panduan/tawaf-wada/']"
      ]
     },
     "execution_count": 4,
     "metadata": {},
     "output_type": "execute_result"
    }
   ],
   "source": [
    "h2 = soup.find_all('h2', {'class': 'entry-title'})\n",
    "a = [a_.find('a').get('href') for a_ in h2]\n",
    "a"
   ]
  },
  {
   "cell_type": "code",
   "execution_count": 5,
   "metadata": {},
   "outputs": [
    {
     "name": "stderr",
     "output_type": "stream",
     "text": [
      "100%|█████████████████████████████████████████| 217/217 [00:34<00:00,  6.36it/s]\n"
     ]
    }
   ],
   "source": [
    "all_a = []\n",
    "for i in tqdm(range(1, 218, 1)):\n",
    "    url = f'https://akuislam.com/page/{i}/'\n",
    "    r = requests.get(url)\n",
    "    soup = BeautifulSoup(r.content, \"lxml\")\n",
    "    h2 = soup.find_all('h2', {'class': 'entry-title'})\n",
    "    a = [a_.find('a').get('href') for a_ in h2]\n",
    "    all_a.extend(a)"
   ]
  },
  {
   "cell_type": "code",
   "execution_count": 6,
   "metadata": {},
   "outputs": [
    {
     "data": {
      "text/plain": [
       "147"
      ]
     },
     "execution_count": 6,
     "metadata": {},
     "output_type": "execute_result"
    }
   ],
   "source": [
    "all_a = sorted(list(set(all_a)))\n",
    "len(all_a)"
   ]
  },
  {
   "cell_type": "code",
   "execution_count": 7,
   "metadata": {},
   "outputs": [
    {
     "data": {
      "text/plain": [
       "'https://akuislam.com/blog/contest-aku-islam/aku-dia-dah-putus/'"
      ]
     },
     "execution_count": 7,
     "metadata": {},
     "output_type": "execute_result"
    }
   ],
   "source": [
    "all_a[0]"
   ]
  },
  {
   "cell_type": "code",
   "execution_count": 8,
   "metadata": {},
   "outputs": [],
   "source": [
    "r = requests.get(all_a[0])\n",
    "soup = BeautifulSoup(r.content, \"lxml\")"
   ]
  },
  {
   "cell_type": "code",
   "execution_count": 12,
   "metadata": {},
   "outputs": [
    {
     "data": {
      "text/plain": [
       "'Aku & Dia Dah Putus…'"
      ]
     },
     "execution_count": 12,
     "metadata": {},
     "output_type": "execute_result"
    }
   ],
   "source": [
    "soup.find('h1').text"
   ]
  },
  {
   "cell_type": "code",
   "execution_count": 10,
   "metadata": {},
   "outputs": [
    {
     "data": {
      "text/plain": [
       "'\\n\\nputus\\n\\n\\nAssalamualaikum\\n\\n\\n“Aku dan dia dah putus…”\\n\\n\\n“Kenapa?”\\n\\n\\n“Aku dah x sayangkan dia. Pelik bukan. Tiba-tiba saja perasaan tu hilang”\\n\\n\\n“Kau pasti dengan keputusan kau. Kau x kesiankan dia? Dia sayang kau…”\\n\\n\\n“Kesian la jugak. Tapi bila aku fikir balik. L\\nagi kesian kalau aku teruskan. Aku dah x mampu\\n…”\\n\\n\\n“Buatlah apa yang kau rasa terbaik….”\\n\\n\\n\\n\\nselepas setahun.\\n\\n\\n“Aku geram. Dia tipu aku. Lepas setahun baru aku tahu…”\\n\\n\\n“Kenapa? Apa yang dah jadi…?”\\n\\n\\n“Dia ada ramai perempuan belakang aku. Dia tipu aku. Aku rasa pedih. Terlalu pedih…”\\n\\n\\n“Kenapa kau pedih. Kan perasaan kau dekat dia dah lama hilang”\\n\\n\\n“Entah. Mungkin rasa dikhianati. Tak dihargai. Mungkin kalau aku sayang dia. Sekarang aku dah longlai. Separuh mati aku terluka.\\xa0 rabak. koyak. patah….”\\n\\n\\n“Lupakanlah. Jangan bebani hati fikiran diri kau dengan benda dah lepas ni… Tidurlah dah lewat…”\\n\\n\\n“Aku tak boleh stop. Mata aku x boleh nak lelap . Kecewa aku menggunung. Otak aku overtime….”\\n\\n\\n.\\n\\n\\nbeberapa bulan kemudian\\n\\n\\n“Aku selalu tertanya-tanya kenapa perasaan aku pada dia boleh hilang. Sekelip mata.”\\n\\n\\n“kau ada jawapan?”\\n\\n\\n…senyum\\n ” ada…mudah.”\\n\\n\\n“Apa dia?”\\n\\n\\n“Bila aku pandang semua benda yang jadi tu ada hikmah. Aku mula\\n refleksi balik \\nsegala apa yang aku dah buat. Apa yang jadi dalam hidup aku. Dan aku dapat jawapan. Kau nak tahu?”\\n\\n\\n“Kongsi lah…”\\n\\n\\n“Allah sayang aku. Dia taknak aku setia pada orang yang x hargai aku. Dia benarkan aku tahu kebenaran setelah setahun. Mungkin masa tu baru kekuatan aku cukup untuk menampung kekecewaan aku. Dan aku fikir-fikir balik, Allah beri yang terbaik untuk aku. Sedangkan banyak benda yang aku lalai. Hubungan aku dengan Allah aku terabai.”\\n\\n\\n“Maksud kau?”\\n\\n\\n“Aku banyak berfikir. Refleksi balik segalanya. Cari jawapan pada soalan-soalan aku. Aku kadang-kadang lalai dalam mengingati Allah. Leka dengan cinta lelaki. Aku dah bazirkan masa,duit untuk cinta lelaki. Aku dah sedar aku sepatutnya fokus cinta kepada Pencipta. Nak tahu sesuatu?”\\n\\n\\n“Teruskan aku dengar…”\\n\\n\\n“Aku pernah tanya kenapa aku jumpa lelaki yang salah. Sekarang aku rasa aku tahu kenapa. Aku belum cukup baik. Dan aku kena betulkan diri aku untuk dapat yang terbaik. Rasa cinta itu memang anugerah daripada Allah. Tapi kita manusia ni lebih menghargai rasa cinta itu daripada Si Pemberi.\\n\\n\\nKakak sepupu aku pernah cakap bila kita couple susah nak kawal bukan…Rindulah sayanglah then\\n gaduh sampai emo seminggu\\n. Lepas itu mula nak pegang-pegang tangan, bergambar rapat-rapat…Sebab tu,lebih baik mencegah daripada mengubati bukan…”\\n\\n\\n“So sekarang?”\\n\\n\\n“Aku tengah berjuang.menjadi lebih baik.doakan. Selangkah. Dua langkah… Aku sedang berlari. Mendekati Pencipta…”\\n\\n\\n“Lelaki? Cinta?”\\n\\n\\n“Hanya yang Halal. Janji Allah itu pasti.”\\n\\n\\n“Kau yakin sekarang? Rasa lebih baik?”\\n\\n\\n“Alhamdulillah. Semua jawapan-jawapan yang aku cari membawa aku pada Allah.aku nampak cahaya melambai-lambai dari jauh. Cahaya itu yang buat aku bangun. Dan ketenangan itu milik aku. Sungguh,\\n hikmah \\nitu kalau dicari gali manisnya tiada berpenghujung. Aku khilaf. Sebab aku tahu Allah sentiasa ada, cuma manusia yang mencipta jarak.\\n\\n\\nItu kata-kata yang aku rasa sesuai dengan situasi aku. Mungkin dulu aku nak dekat dengan Dia bila nak sesuatu atau sedih kecewa saja. Tapi sekarang aku dah sedar, faham tanggungjawab aku. Allah buktikan lagi sayang Dia pada aku dengan adanya perasaan ini. Syukur :) “\\n\\n\\np/s :\\xa0 Semoga bermanfaat :)\\n\\n\\n.\\n\\n\\nMANUSIA : BODOH: tak belajar dari pengalaman sendiri dan tak belajar dari pengalaman orang lain\\n\\n\\nPANDAI: belajar dari pengalaman sendiri tapi\\xa0 tak belajar dari pengalaman orang lain\\n\\n\\nBIJAK: belajar dari pengalaman sendiri dan pengalaman orang lain….\\n\\n\\nKongsikan artikel ini:\\nClick to share on Facebook (Opens in new window)\\nClick to share on Twitter (Opens in new window)\\nClick to share on Telegram (Opens in new window)\\nClick to share on WhatsApp (Opens in new window)\\nClick to share on Pinterest (Opens in new window)\\n\\n\\n\\n\\nArtikel Berkaitan:\\n\\n\\n\\n'"
      ]
     },
     "execution_count": 10,
     "metadata": {},
     "output_type": "execute_result"
    }
   ],
   "source": [
    "soup.find('div', {'class': 'entry-content'}).get_text(separator=\"\\n\")"
   ]
  },
  {
   "cell_type": "code",
   "execution_count": 13,
   "metadata": {},
   "outputs": [
    {
     "name": "stderr",
     "output_type": "stream",
     "text": [
      "100%|█████████████████████████████████████████| 147/147 [00:20<00:00,  7.21it/s]\n"
     ]
    }
   ],
   "source": [
    "with open('akuislam.com.jsonl', 'w') as fopen:\n",
    "    for a in tqdm(all_a):\n",
    "        try:\n",
    "            r = requests.get(a)\n",
    "            soup = BeautifulSoup(r.content, \"lxml\")\n",
    "            data = {\n",
    "                'url': a,\n",
    "                'title': soup.find('h1').text,\n",
    "                'body': soup.find('div', {'class': 'entry-content'}).get_text(separator=\"\\n\"),\n",
    "            }\n",
    "            fopen.write(f'{json.dumps(data)}\\n')\n",
    "        except:\n",
    "            pass"
   ]
  },
  {
   "cell_type": "code",
   "execution_count": null,
   "metadata": {},
   "outputs": [],
   "source": []
  }
 ],
 "metadata": {
  "kernelspec": {
   "display_name": "Python 3 (ipykernel)",
   "language": "python",
   "name": "python3"
  },
  "language_info": {
   "codemirror_mode": {
    "name": "ipython",
    "version": 3
   },
   "file_extension": ".py",
   "mimetype": "text/x-python",
   "name": "python",
   "nbconvert_exporter": "python",
   "pygments_lexer": "ipython3",
   "version": "3.8.10"
  }
 },
 "nbformat": 4,
 "nbformat_minor": 4
}
