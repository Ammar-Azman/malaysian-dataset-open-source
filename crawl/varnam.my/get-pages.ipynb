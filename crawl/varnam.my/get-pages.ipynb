{
 "cells": [
  {
   "cell_type": "code",
   "execution_count": 1,
   "metadata": {},
   "outputs": [],
   "source": [
    "import requests\n",
    "from bs4 import BeautifulSoup\n",
    "from tqdm import tqdm\n",
    "import os\n",
    "import json\n",
    "import numpy as np\n",
    "import time\n",
    "import random\n",
    "import json"
   ]
  },
  {
   "cell_type": "code",
   "execution_count": 2,
   "metadata": {},
   "outputs": [
    {
     "data": {
      "text/plain": [
       "3836"
      ]
     },
     "execution_count": 2,
     "metadata": {},
     "output_type": "execute_result"
    }
   ],
   "source": [
    "from glob import glob\n",
    "\n",
    "files = glob('url/*.json')\n",
    "urls = []\n",
    "for f in files:\n",
    "    with open(f) as fopen:\n",
    "        urls.extend(json.load(fopen))\n",
    "urls = sorted(list(set(urls)))\n",
    "len(urls)"
   ]
  },
  {
   "cell_type": "code",
   "execution_count": 3,
   "metadata": {},
   "outputs": [],
   "source": [
    "!mkdir page"
   ]
  },
  {
   "cell_type": "code",
   "execution_count": 5,
   "metadata": {},
   "outputs": [],
   "source": [
    "r = requests.get(urls[0])\n",
    "soup = BeautifulSoup(r.content, \"lxml\")"
   ]
  },
  {
   "cell_type": "code",
   "execution_count": 6,
   "metadata": {},
   "outputs": [
    {
     "data": {
      "text/plain": [
       "'https://varnam.my/10004/game-over-review/'"
      ]
     },
     "execution_count": 6,
     "metadata": {},
     "output_type": "execute_result"
    }
   ],
   "source": [
    "urls[0]"
   ]
  },
  {
   "cell_type": "code",
   "execution_count": 9,
   "metadata": {},
   "outputs": [
    {
     "data": {
      "text/plain": [
       "'Game Over Review: A Unique and Wholly Original Psychological Thriller'"
      ]
     },
     "execution_count": 9,
     "metadata": {},
     "output_type": "execute_result"
    }
   ],
   "source": [
    "soup.find('h1').text"
   ]
  },
  {
   "cell_type": "code",
   "execution_count": 11,
   "metadata": {},
   "outputs": [
    {
     "data": {
      "text/plain": [
       "'\\nGame Over will most likely not be seen as the best film of 2019, come the end of the year. It will probably also not be seen as the best Tamil film of 2019. But I’m willing to bet a large sum in Vegas that it will stand as the most unique, especially in Indian cinema. The beauty of this Ashwin Saravanan film is that it’s rather difficult to even classify its genre. It’s a thriller, of course. But what kind? It opens in a frightful found footage-esque manner. We see everything through the lens of a voyeur in black and white. He watches over a young girl from across the road, then breaks into her house and brutally murders her. \\nYou get the sense that he’s no ordinary killer. He’s the kind of psycho that takes his time with his kills and savours every moment like a food critic with a chocolate souffle. He ties up the girl, chops of her head and as our stomach goes queasy, kicks her head into a goalpost before burning her body. If you walked in without watching the trailer, at this point you might wonder if this is a police procedural.\\n\\nhttps://www.youtube.com/watch?v=JUswBxwJvaQVideo can’t be loaded because JavaScript is disabled: Game Over – Tamil Trailer (https://www.youtube.com/watch?v=JUswBxwJvaQ)\\n\\nThose of us who watched the trailer, know that it’s not the case. There’s a short time skip and we meet Taapsee Pannu’s character Swapna, whose name, a gamer and a game developer who appears to be an introvert and prefers working from home. She stays alone with her caretaker in a house guarded by a security guard, CCTVs and an alarm system. ‘Chekhov’s Gun’ tells us that the ruthless killer will return, this time to attack Swapna. Yes, Game Over is the kinda single location claustrophobic thriller… or at least it morphs into that eventually. \\nWith these scenes, Ashwin Saravanan proves himself to be a highly competent director of tension and escalating thrills. He knows how to build tension and make good use of small spaces. You root for Swapna but feel her fear. A scene where Swapna waits and calls out to her caretaker who has gone outside is brilliant. The kind that makes a single second feel like an hour as you hope mercilessly that she’s alright. And there’s also frightfully brilliant shot involving a swing and a woman that will forever be ingrained in my memory. \\nBut… there’s more. \\nGame Over is also a drama about suicide and overcoming past trauma. As a writer, Ashwin Saravanan knows how to pen a delicious mystery. Questions start popping into our mind and answers are only given periodically. Why did Swapna have an anxiety attack when she walked into a dark room? Why won’t she meet her parents or let them visit? And how does all of it relate to the prologue?\\n\\nSwapna’s psychiatrist informs her that she’s experiencing something called ‘anniversary reaction’. We later learn that she’s a rape victim and that horrid incident has caused her to be fearful of the world, understandably so. Another layer of intrigue is added. The climactic thrilling sequence where she tries to overcome the masked serial killer doubles as a fight to reclaim her individuality. It’s not just an uphill fight against a “bad guy” but a laboured battle against (cruel) MEN. The killer(s) identity remain anonymous. It doesn’t matter who they are. They represent misogyny and perhaps a patriarchal system that needs to be broken and shattered. \\nSwapna was assaulted during a New Year’s Eve party. Her parents blame her for it. The fight against these faceless men is also a strong middle finger to society — A pushback against the people who intentionally or unintentionally keep patriarchy firmly rooted. Game Over is a feminist film! (I’m reminded of another film starring Taapsee Ponnu, Pink which was also a firm slap in the face to patriarchy.) Swapna is an independent, forward-thinking woman. Swapna’s caretaker is a warm-hearted and caring woman. The artistic tattooist is a woman — the film has a number of tattooed women; another breaking of conventions. There’s a woman who says not today to cancer and her strong and unbending mother. Swapna’s parents who victim-blamed are also faceless and nameless, whose voices we only hear in the background.\\nWait! There’s more.\\n\\nWithout revealing much, I will say while the first two acts are grounded in reality, the last act unravels like logic-defying video games. Realism morphs into fantasy. But it still works, really well. In fact, it works on two separate levels. You can take everything at face value and still have a great time or you can ponder upon the sudden shift in direction. You can ponder upon the lead character’s name, Swapna which translates to “dreamlike” and wonder if Ashwin Saravanan is a fan of Darren Aronofsky (Mother, Requiem for a Dream). What if everything in the third act is simply happening in her head. After all, overcoming past traumas is more a mental game than a physical one. \\nThe beauty of Ashwin’s screenplay and direction is that he weaves all of it, the different subplots, themes and subgenres wonderfully into a 100 minutes compelling picture. There’s also the wonderful editing by Richard Kevin, who also cut sewed the stylistically edited Kolaigaran. Game Over is entertaining, thrilling and empowering with a lead actress that is performing on top of her game from start to finish. \\nFollow us on Instagram, Facebook or Telegram for more updates and breaking news.\\xa0\\nFiled Under Game Overtaapsee pannu\\n'"
      ]
     },
     "execution_count": 11,
     "metadata": {},
     "output_type": "execute_result"
    }
   ],
   "source": [
    "soup.find('div', {'class':\"content-inner\"}).text"
   ]
  },
  {
   "cell_type": "code",
   "execution_count": 12,
   "metadata": {},
   "outputs": [
    {
     "name": "stderr",
     "output_type": "stream",
     "text": [
      "3836it [2:24:23,  2.26s/it]\n"
     ]
    }
   ],
   "source": [
    "for no, url in tqdm(enumerate(urls)):\n",
    "    filename = os.path.join('page', f'{no}.json')\n",
    "    if os.path.exists(filename):\n",
    "        continue\n",
    "    \n",
    "    while True:\n",
    "        try:\n",
    "            r = requests.get(url)\n",
    "            break\n",
    "        except:\n",
    "            time.sleep(1.0)\n",
    "            \n",
    "    soup = BeautifulSoup(r.content, \"lxml\")\n",
    "\n",
    "    try:\n",
    "        title = soup.find('h1').text\n",
    "    except Exception as e:\n",
    "        title = None\n",
    "\n",
    "    try:\n",
    "        body = soup.find('div', {'class':\"content-inner\"}).text\n",
    "    except Exception as e:\n",
    "        body = None\n",
    "\n",
    "    data = {\n",
    "        'url': url,\n",
    "        'title': title,\n",
    "        'body': body,\n",
    "    }\n",
    "    with open(filename, 'w') as fopen:\n",
    "        json.dump(data, fopen)"
   ]
  },
  {
   "cell_type": "code",
   "execution_count": null,
   "metadata": {},
   "outputs": [],
   "source": []
  }
 ],
 "metadata": {
  "kernelspec": {
   "display_name": "Python 3 (ipykernel)",
   "language": "python",
   "name": "python3"
  },
  "language_info": {
   "codemirror_mode": {
    "name": "ipython",
    "version": 3
   },
   "file_extension": ".py",
   "mimetype": "text/x-python",
   "name": "python",
   "nbconvert_exporter": "python",
   "pygments_lexer": "ipython3",
   "version": "3.8.10"
  }
 },
 "nbformat": 4,
 "nbformat_minor": 4
}
