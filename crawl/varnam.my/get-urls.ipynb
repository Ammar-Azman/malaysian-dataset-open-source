{
 "cells": [
  {
   "cell_type": "code",
   "execution_count": 1,
   "metadata": {},
   "outputs": [],
   "source": [
    "import requests\n",
    "from bs4 import BeautifulSoup\n",
    "from tqdm import tqdm\n",
    "import os\n",
    "import json\n",
    "import numpy as np\n",
    "import time\n",
    "import random\n",
    "import json"
   ]
  },
  {
   "cell_type": "code",
   "execution_count": 2,
   "metadata": {},
   "outputs": [],
   "source": [
    "topics = [\n",
    "    'https://varnam.my/news/',\n",
    "    'https://varnam.my/celebrity/',\n",
    "    'https://varnam.my/reviews/',\n",
    "    'https://varnam.my/featured/',\n",
    "    'https://varnam.my/music/',\n",
    "    'https://varnam.my/trailers/',\n",
    "    'https://varnam.my/culture/'\n",
    "]"
   ]
  },
  {
   "cell_type": "code",
   "execution_count": 3,
   "metadata": {},
   "outputs": [],
   "source": [
    "r = requests.get(topics[0])\n",
    "soup = BeautifulSoup(r.content, \"lxml\")"
   ]
  },
  {
   "cell_type": "code",
   "execution_count": 4,
   "metadata": {},
   "outputs": [
    {
     "data": {
      "text/plain": [
       "143"
      ]
     },
     "execution_count": 4,
     "metadata": {},
     "output_type": "execute_result"
    }
   ],
   "source": [
    "a = soup.find_all('a', {'class': 'page_number'})\n",
    "nums = []\n",
    "for a_ in a:\n",
    "    try:\n",
    "        nums.append(int(a_.text))\n",
    "    except:\n",
    "        pass\n",
    "    \n",
    "max(nums)"
   ]
  },
  {
   "cell_type": "code",
   "execution_count": 6,
   "metadata": {},
   "outputs": [
    {
     "data": {
      "text/plain": [
       "['https://varnam.my/78610/tan-sri-gnanalingam-the-founder-and-chairman-of-westports-holdings-passes-away-at-78/',\n",
       " 'https://varnam.my/78436/isro-is-all-set-to-launch-chandrayaan-3-on-july-14th/',\n",
       " 'https://varnam.my/77965/audio-launch-update-for-superstar-rajinikanths-jailer/',\n",
       " 'https://varnam.my/77745/habibs-exquisite-jewellry-exhibition-shines-bright-at-ioi-city-mall/',\n",
       " 'https://varnam.my/77546/tamil-school-student-abused-by-teacher/',\n",
       " 'https://varnam.my/77535/gardenia-kl-survey-discusses-correlation-of-unhappy-childhood-with-adult-mental-wellness/',\n",
       " 'https://varnam.my/77388/sjk-t-masai-marks-their-entry-in-the-malaysia-book-of-records/',\n",
       " 'https://varnam.my/77510/dersenish-aresandiran-appointed-as-chief-commercial-officer-of-malaysia-airlines/',\n",
       " 'https://varnam.my/77419/the-youngest-to-release-a-tamil-single-in-youtube-thanisya-rethina-naidu-has-successfully-engraved-her-name-in-malaysia-book-of-records/',\n",
       " 'https://varnam.my/77354/director-atlees-first-fathers-day-celebration/',\n",
       " 'https://varnam.my/77255/ministry-of-education-confirms-that-almost-30-000-candidates-did-not-turn-up-for-spm-exam/',\n",
       " 'https://varnam.my/77258/master-of-photography-eric-peris-shares-his-life-of-photography/',\n",
       " 'https://varnam.my/74191/ms-gold-a-new-venture-by-dato-abdul-malik-opens-its-doors-in-masjid-india-from-1st-april-2023/',\n",
       " 'https://varnam.my/78238/yash-of-kgf-fame-is-coming-to-malaysia-to-grace-the-opening-of-the-second-store-of-ms-gold-on-8th-july-2023/',\n",
       " 'https://varnam.my/37011/xavier-get-to-know-the-man-behind-savage-comments/',\n",
       " 'https://varnam.my/event/kacheri-arambam-d-imman-live-in-kl/',\n",
       " 'https://varnam.my/event/yuvan-shankar-raja-live-in-kl-2023-high-on-u1/']"
      ]
     },
     "execution_count": 6,
     "metadata": {},
     "output_type": "execute_result"
    }
   ],
   "source": [
    "a = soup.find_all('article', {'class': 'jeg_post'})\n",
    "a = [a_.find('a').get('href') for a_ in a]\n",
    "a"
   ]
  },
  {
   "cell_type": "code",
   "execution_count": 7,
   "metadata": {},
   "outputs": [],
   "source": [
    "!mkdir url"
   ]
  },
  {
   "cell_type": "code",
   "execution_count": 8,
   "metadata": {},
   "outputs": [
    {
     "name": "stdout",
     "output_type": "stream",
     "text": [
      "https://varnam.my/news/\n"
     ]
    },
    {
     "name": "stderr",
     "output_type": "stream",
     "text": [
      "100%|█████████████████████████████████████████| 143/143 [26:27<00:00, 11.10s/it]\n"
     ]
    },
    {
     "name": "stdout",
     "output_type": "stream",
     "text": [
      "https://varnam.my/celebrity/\n"
     ]
    },
    {
     "name": "stderr",
     "output_type": "stream",
     "text": [
      "100%|███████████████████████████████████████████| 73/73 [11:56<00:00,  9.81s/it]\n"
     ]
    },
    {
     "name": "stdout",
     "output_type": "stream",
     "text": [
      "https://varnam.my/reviews/\n"
     ]
    },
    {
     "name": "stderr",
     "output_type": "stream",
     "text": [
      "100%|███████████████████████████████████████████| 13/13 [02:04<00:00,  9.57s/it]\n"
     ]
    },
    {
     "name": "stdout",
     "output_type": "stream",
     "text": [
      "https://varnam.my/featured/\n"
     ]
    },
    {
     "name": "stderr",
     "output_type": "stream",
     "text": [
      "100%|███████████████████████████████████████████| 48/48 [07:10<00:00,  8.98s/it]\n"
     ]
    },
    {
     "name": "stdout",
     "output_type": "stream",
     "text": [
      "https://varnam.my/music/\n"
     ]
    },
    {
     "name": "stderr",
     "output_type": "stream",
     "text": [
      "100%|███████████████████████████████████████████| 41/41 [06:09<00:00,  9.01s/it]\n"
     ]
    },
    {
     "name": "stdout",
     "output_type": "stream",
     "text": [
      "https://varnam.my/trailers/\n"
     ]
    },
    {
     "name": "stderr",
     "output_type": "stream",
     "text": [
      "100%|███████████████████████████████████████████| 12/12 [01:47<00:00,  8.98s/it]\n"
     ]
    },
    {
     "name": "stdout",
     "output_type": "stream",
     "text": [
      "https://varnam.my/culture/\n"
     ]
    },
    {
     "name": "stderr",
     "output_type": "stream",
     "text": [
      "100%|███████████████████████████████████████████| 28/28 [03:38<00:00,  7.82s/it]\n"
     ]
    }
   ],
   "source": [
    "for t in topics:\n",
    "    print(t)\n",
    "    t_ = t.split('my/')[1].replace('/', '-')\n",
    "    \n",
    "    r = requests.get(t)\n",
    "    soup = BeautifulSoup(r.content, \"lxml\")\n",
    "    a = soup.find_all('a', {'class': 'page_number'})\n",
    "    nums = []\n",
    "    for a_ in a:\n",
    "        try:\n",
    "            nums.append(int(a_.text))\n",
    "        except:\n",
    "            pass\n",
    "    \n",
    "    if len(nums):\n",
    "        max_page = max(nums)\n",
    "    else:\n",
    "        max_page = 1\n",
    "    \n",
    "    for index in tqdm(range(1, max_page + 1, 1)):\n",
    "        filename = os.path.join('url', f'{t_}-{index}.json')\n",
    "        if os.path.exists(filename):\n",
    "            index += 1\n",
    "            continue\n",
    "        \n",
    "        r = requests.get(f'{t}page/{index}/')\n",
    "        soup = BeautifulSoup(r.content, \"lxml\")\n",
    "        a = soup.find_all('article', {'class': 'jeg_post'})\n",
    "        a = [a_.find('a').get('href') for a_ in a]\n",
    "        \n",
    "        with open(filename, 'w') as fopen:\n",
    "            json.dump(a, fopen)\n",
    "            \n",
    "        index += 1"
   ]
  },
  {
   "cell_type": "code",
   "execution_count": null,
   "metadata": {},
   "outputs": [],
   "source": []
  }
 ],
 "metadata": {
  "kernelspec": {
   "display_name": "Python 3 (ipykernel)",
   "language": "python",
   "name": "python3"
  },
  "language_info": {
   "codemirror_mode": {
    "name": "ipython",
    "version": 3
   },
   "file_extension": ".py",
   "mimetype": "text/x-python",
   "name": "python",
   "nbconvert_exporter": "python",
   "pygments_lexer": "ipython3",
   "version": "3.8.10"
  }
 },
 "nbformat": 4,
 "nbformat_minor": 4
}
