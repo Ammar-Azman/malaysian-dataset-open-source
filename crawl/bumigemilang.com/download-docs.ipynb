{
 "cells": [
  {
   "cell_type": "code",
   "execution_count": 1,
   "metadata": {},
   "outputs": [
    {
     "data": {
      "text/plain": [
       "18199"
      ]
     },
     "execution_count": 1,
     "metadata": {},
     "output_type": "execute_result"
    }
   ],
   "source": [
    "import json\n",
    "\n",
    "with open('bumigemilang-pdf.json') as fopen:\n",
    "    urls = json.load(fopen)\n",
    "    \n",
    "urls = [u for u in urls if u.endswith('pdf') or 'drive.google.com' in u]\n",
    "len(urls)"
   ]
  },
  {
   "cell_type": "code",
   "execution_count": 2,
   "metadata": {},
   "outputs": [],
   "source": [
    "import gdown\n",
    "import requests\n",
    "from tqdm import tqdm\n",
    "import os"
   ]
  },
  {
   "cell_type": "code",
   "execution_count": 3,
   "metadata": {},
   "outputs": [
    {
     "name": "stdout",
     "output_type": "stream",
     "text": [
      "mkdir: cannot create directory ‘pdf’: File exists\r\n"
     ]
    }
   ],
   "source": [
    "!mkdir pdf"
   ]
  },
  {
   "cell_type": "code",
   "execution_count": null,
   "metadata": {},
   "outputs": [],
   "source": [
    "for url in tqdm(urls):\n",
    "    try:\n",
    "        if 'drive.google.com' in url:\n",
    "            if 'drive/folders' in url:\n",
    "                gdown.download_folder(url, quiet=True, use_cookies=False)\n",
    "            else:\n",
    "                id = url.split('/d/')[1].split('/view')[0]\n",
    "                gdown.download(id=id, quiet=True)\n",
    "        else:\n",
    "            filename = os.path.split(url)[1]\n",
    "            filename = os.path.join('pdf', filename)\n",
    "            with open(filename, 'wb') as fopen:\n",
    "                fopen.write(requests.get(url).content)\n",
    "    except Exception as e:\n",
    "        print(e)"
   ]
  },
  {
   "cell_type": "code",
   "execution_count": null,
   "metadata": {},
   "outputs": [],
   "source": []
  }
 ],
 "metadata": {
  "kernelspec": {
   "display_name": "Python 3 (ipykernel)",
   "language": "python",
   "name": "python3"
  },
  "language_info": {
   "codemirror_mode": {
    "name": "ipython",
    "version": 3
   },
   "file_extension": ".py",
   "mimetype": "text/x-python",
   "name": "python",
   "nbconvert_exporter": "python",
   "pygments_lexer": "ipython3",
   "version": "3.8.10"
  }
 },
 "nbformat": 4,
 "nbformat_minor": 4
}
