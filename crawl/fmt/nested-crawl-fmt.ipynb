{
 "cells": [
  {
   "cell_type": "code",
   "execution_count": 1,
   "metadata": {},
   "outputs": [],
   "source": [
    "import requests\n",
    "import json\n",
    "from tqdm import tqdm\n",
    "from glob import glob\n",
    "from bs4 import BeautifulSoup"
   ]
  },
  {
   "cell_type": "code",
   "execution_count": 2,
   "metadata": {
    "scrolled": true
   },
   "outputs": [
    {
     "name": "stderr",
     "output_type": "stream",
     "text": [
      "100%|█████████████████████████████████████████████████████████████████████████████████████████| 24/24 [00:57<00:00,  2.40s/it]\n"
     ]
    }
   ],
   "source": [
    "urls = set()\n",
    "\n",
    "files = glob('fmt-*.json')\n",
    "for f in tqdm(files):\n",
    "    with open(f) as fopen:\n",
    "        data = json.load(fopen)\n",
    "    \n",
    "    for d in data:\n",
    "        soup = BeautifulSoup(d['server_reply_html_data'], 'lxml')\n",
    "        a = soup.find_all('a', {'class': 'td-image-wrap'})\n",
    "        a = {a_.get('href') for a_ in a}\n",
    "        urls |= a"
   ]
  },
  {
   "cell_type": "code",
   "execution_count": 3,
   "metadata": {},
   "outputs": [],
   "source": [
    "# !wget https://gist.githubusercontent.com/huseinzol05/98974ae8c6c7a65d4bc0af9f5003786a/raw/5aa5257608b61e8fcc828e99fbd070d5ca7358e3/mp.py"
   ]
  },
  {
   "cell_type": "code",
   "execution_count": 4,
   "metadata": {},
   "outputs": [],
   "source": [
    "urls = list(urls)"
   ]
  },
  {
   "cell_type": "code",
   "execution_count": 5,
   "metadata": {},
   "outputs": [
    {
     "data": {
      "text/plain": [
       "254434"
      ]
     },
     "execution_count": 5,
     "metadata": {},
     "output_type": "execute_result"
    }
   ],
   "source": [
    "len(urls)"
   ]
  },
  {
   "cell_type": "code",
   "execution_count": 6,
   "metadata": {},
   "outputs": [],
   "source": [
    "# soup = BeautifulSoup(data[0]['server_reply_html_data'], 'lxml')\n",
    "# soup.find_all('a', {'class': 'td-image-wrap'})"
   ]
  },
  {
   "cell_type": "code",
   "execution_count": 7,
   "metadata": {},
   "outputs": [],
   "source": [
    "cookies = {\n",
    "    'fbase_reset_status': 'true',\n",
    "    'video_count_wp': '0',\n",
    "    'world_count_wp': '0',\n",
    "    'bulk_subscribe_wp': 'false',\n",
    "    'video_subscribe_wp': 'false',\n",
    "    'nation_subscribe_wp': 'false',\n",
    "    'opinion_subscribe_wp': 'false',\n",
    "    'world_subscribe_wp': 'false',\n",
    "    'sport_subscribe_wp': 'false',\n",
    "    'berita_subscribe_wp': 'false',\n",
    "    'lifestyle_subscribe_wp': 'false',\n",
    "    'business_subscribe_wp': 'false',\n",
    "    '_ga': 'GA1.2.881359853.1673230084',\n",
    "    '_gid': 'GA1.2.38520233.1673230084',\n",
    "    '_cb': 'CVXw6kBqCC6VBIjphG',\n",
    "    'trc_cookie_storage': 'taboola%2520global%253Auser-id%3Dd17cd528-3462-4d94-885f-447b3bbb14ec-tuct62a25a2',\n",
    "    'fpestid': '6NBuKu1TK4arw44WzUIf_4UQeuHUI0FFCpMg3PH_B_g2juqTzq6-BXXJ7h8_7pk4UTrO-A',\n",
    "    '_cc_id': '69f8b801beef15345eb5accdea253af',\n",
    "    'panoramaId_expiry': '1673834885399',\n",
    "    'panoramaId': 'e3eb778e2ce60a1a553efb8ff33e16d539381e0debcb4df3c90a9fe806f0bead',\n",
    "    'nation_count_wp': '2',\n",
    "    'berita_count_wp': '11',\n",
    "    'opinion_count_wp': '10',\n",
    "    'business_count_wp': '2',\n",
    "    'sport_count_wp': '4',\n",
    "    '__cf_bm': 'ssPm8VJduTndEajQ.CQOHnvHa8bBsu9.yg7XFwMAREk-1673237032-0-ASZNtJvk4YcpkWKtF7yLSwwLqISRSbNLSmL7Al3omEa3wjS/g5k/YhuiD3A/yFlSD9jOMYLc8muth2sd4+Ou23G8f6E2Iz/WvrJq/dn8IpHwkcnUjPnyPzYoOV3Ladb9JsEiurbjc7BpuL4oc1yUBQsmtECqu8/Ab/Xp7vPnTvwcE+UJzwwsH4X3JdYrvxQftA==',\n",
    "    'lifestyle_count_wp': '13',\n",
    "    '_gat_gtag_UA_13201505_2': '1',\n",
    "    '_chartbeat2': '.1613587063601.1673237600728.0000000000000001.baKBRDDENzDCxvYricLpA5fp2uT.1',\n",
    "    '_cb_svref': 'null',\n",
    "    'lotame_domain_check': 'freemalaysiatoday.com',\n",
    "}\n",
    "\n",
    "headers = {\n",
    "    'authority': 'www.freemalaysiatoday.com',\n",
    "    'accept': 'text/html,application/xhtml+xml,application/xml;q=0.9,image/avif,image/webp,image/apng,*/*;q=0.8,application/signed-exchange;v=b3;q=0.9',\n",
    "    'accept-language': 'en-MY,en;q=0.9,en-US;q=0.8,ms;q=0.7',\n",
    "    'cache-control': 'no-cache',\n",
    "    # 'cookie': 'fbase_reset_status=true; video_count_wp=0; world_count_wp=0; bulk_subscribe_wp=false; video_subscribe_wp=false; nation_subscribe_wp=false; opinion_subscribe_wp=false; world_subscribe_wp=false; sport_subscribe_wp=false; berita_subscribe_wp=false; lifestyle_subscribe_wp=false; business_subscribe_wp=false; _ga=GA1.2.881359853.1673230084; _gid=GA1.2.38520233.1673230084; _cb=CVXw6kBqCC6VBIjphG; trc_cookie_storage=taboola%2520global%253Auser-id%3Dd17cd528-3462-4d94-885f-447b3bbb14ec-tuct62a25a2; fpestid=6NBuKu1TK4arw44WzUIf_4UQeuHUI0FFCpMg3PH_B_g2juqTzq6-BXXJ7h8_7pk4UTrO-A; _cc_id=69f8b801beef15345eb5accdea253af; panoramaId_expiry=1673834885399; panoramaId=e3eb778e2ce60a1a553efb8ff33e16d539381e0debcb4df3c90a9fe806f0bead; nation_count_wp=2; berita_count_wp=11; opinion_count_wp=10; business_count_wp=2; sport_count_wp=4; __cf_bm=ssPm8VJduTndEajQ.CQOHnvHa8bBsu9.yg7XFwMAREk-1673237032-0-ASZNtJvk4YcpkWKtF7yLSwwLqISRSbNLSmL7Al3omEa3wjS/g5k/YhuiD3A/yFlSD9jOMYLc8muth2sd4+Ou23G8f6E2Iz/WvrJq/dn8IpHwkcnUjPnyPzYoOV3Ladb9JsEiurbjc7BpuL4oc1yUBQsmtECqu8/Ab/Xp7vPnTvwcE+UJzwwsH4X3JdYrvxQftA==; lifestyle_count_wp=13; _gat_gtag_UA_13201505_2=1; _chartbeat2=.1613587063601.1673237600728.0000000000000001.baKBRDDENzDCxvYricLpA5fp2uT.1; _cb_svref=null; lotame_domain_check=freemalaysiatoday.com',\n",
    "    'pragma': 'no-cache',\n",
    "    'sec-ch-ua': '\"Not?A_Brand\";v=\"8\", \"Chromium\";v=\"108\", \"Google Chrome\";v=\"108\"',\n",
    "    'sec-ch-ua-mobile': '?0',\n",
    "    'sec-ch-ua-platform': '\"macOS\"',\n",
    "    'sec-fetch-dest': 'document',\n",
    "    'sec-fetch-mode': 'navigate',\n",
    "    'sec-fetch-site': 'same-origin',\n",
    "    'sec-fetch-user': '?1',\n",
    "    'upgrade-insecure-requests': '1',\n",
    "    'user-agent': 'Mozilla/5.0 (Macintosh; Intel Mac OS X 10_15_7) AppleWebKit/537.36 (KHTML, like Gecko) Chrome/108.0.0.0 Safari/537.36',\n",
    "}"
   ]
  },
  {
   "cell_type": "code",
   "execution_count": 8,
   "metadata": {},
   "outputs": [],
   "source": [
    "import time\n",
    "\n",
    "def loop(urls):\n",
    "    urls, index = urls\n",
    "    with open(f'fmt-{index}.jsonl', 'w') as fopen:\n",
    "        for url in tqdm(urls):\n",
    "            for _ in range(5):\n",
    "                try:\n",
    "                    response = requests.get(\n",
    "                        url,\n",
    "                        cookies=cookies,\n",
    "                        headers=headers,\n",
    "                        timeout=10,\n",
    "                    )\n",
    "                    d = {\n",
    "                        'url': url,\n",
    "                        'content': response._content.decode(),\n",
    "                    }\n",
    "                    fopen.write(f'{json.dumps(d)}\\n')\n",
    "                    break\n",
    "                except Exception as e:\n",
    "                    pass\n",
    "\n",
    "                time.sleep(0.2)"
   ]
  },
  {
   "cell_type": "code",
   "execution_count": 9,
   "metadata": {},
   "outputs": [],
   "source": [
    "import mp"
   ]
  },
  {
   "cell_type": "code",
   "execution_count": 11,
   "metadata": {
    "scrolled": true
   },
   "outputs": [
    {
     "name": "stderr",
     "output_type": "stream",
     "text": [
      " 10%|███████▊                                                                       | 3142/31804 [1:32:59<13:30:11,  1.70s/it]IOPub message rate exceeded.\n",
      "The notebook server will temporarily stop sending output\n",
      "to the client in order to avoid crashing it.\n",
      "To change this limit, set the config variable\n",
      "`--NotebookApp.iopub_msg_rate_limit`.\n",
      "\n",
      "Current values:\n",
      "NotebookApp.iopub_msg_rate_limit=1000.0 (msgs/sec)\n",
      "NotebookApp.rate_limit_window=3.0 (secs)\n",
      "\n",
      " 26%|████████████████████▌                                                          | 8272/31804 [4:06:16<12:27:50,  1.91s/it]IOPub message rate exceeded.\n",
      "The notebook server will temporarily stop sending output\n",
      "to the client in order to avoid crashing it.\n",
      "To change this limit, set the config variable\n",
      "`--NotebookApp.iopub_msg_rate_limit`.\n",
      "\n",
      "Current values:\n",
      "NotebookApp.iopub_msg_rate_limit=1000.0 (msgs/sec)\n",
      "NotebookApp.rate_limit_window=3.0 (secs)\n",
      "\n",
      " 29%|███████████████████████                                                         | 9191/31804 [4:35:08<8:41:20,  1.38s/it]IOPub message rate exceeded.\n",
      "The notebook server will temporarily stop sending output\n",
      "to the client in order to avoid crashing it.\n",
      "To change this limit, set the config variable\n",
      "`--NotebookApp.iopub_msg_rate_limit`.\n",
      "\n",
      "Current values:\n",
      "NotebookApp.iopub_msg_rate_limit=1000.0 (msgs/sec)\n",
      "NotebookApp.rate_limit_window=3.0 (secs)\n",
      "\n",
      " 39%|██████████████████████████████▌                                                | 12316/31804 [6:09:23<8:51:35,  1.64s/it]IOPub message rate exceeded.\n",
      "The notebook server will temporarily stop sending output\n",
      "to the client in order to avoid crashing it.\n",
      "To change this limit, set the config variable\n",
      "`--NotebookApp.iopub_msg_rate_limit`.\n",
      "\n",
      "Current values:\n",
      "NotebookApp.iopub_msg_rate_limit=1000.0 (msgs/sec)\n",
      "NotebookApp.rate_limit_window=3.0 (secs)\n",
      "\n",
      " 44%|██████████████████████████████████▌                                            | 13900/31804 [6:54:03<7:40:49,  1.54s/it]IOPub message rate exceeded.\n",
      "The notebook server will temporarily stop sending output\n",
      "to the client in order to avoid crashing it.\n",
      "To change this limit, set the config variable\n",
      "`--NotebookApp.iopub_msg_rate_limit`.\n",
      "\n",
      "Current values:\n",
      "NotebookApp.iopub_msg_rate_limit=1000.0 (msgs/sec)\n",
      "NotebookApp.rate_limit_window=3.0 (secs)\n",
      "\n",
      " 57%|█████████████████████████████████████████████                                  | 18163/31804 [8:59:24<7:07:06,  1.88s/it]IOPub message rate exceeded.\n",
      "The notebook server will temporarily stop sending output\n",
      "to the client in order to avoid crashing it.\n",
      "To change this limit, set the config variable\n",
      "`--NotebookApp.iopub_msg_rate_limit`.\n",
      "\n",
      "Current values:\n",
      "NotebookApp.iopub_msg_rate_limit=1000.0 (msgs/sec)\n",
      "NotebookApp.rate_limit_window=3.0 (secs)\n",
      "\n",
      " 69%|█████████████████████████████████████████████████████▋                        | 21899/31804 [10:46:42<4:31:26,  1.64s/it]IOPub message rate exceeded.\n",
      "The notebook server will temporarily stop sending output\n",
      "to the client in order to avoid crashing it.\n",
      "To change this limit, set the config variable\n",
      "`--NotebookApp.iopub_msg_rate_limit`.\n",
      "\n",
      "Current values:\n",
      "NotebookApp.iopub_msg_rate_limit=1000.0 (msgs/sec)\n",
      "NotebookApp.rate_limit_window=3.0 (secs)\n",
      "\n"
     ]
    }
   ],
   "source": [
    "a = mp.multiprocessing(urls, loop, cores = 8, returned = False)"
   ]
  }
 ],
 "metadata": {
  "kernelspec": {
   "display_name": "Python 3 (ipykernel)",
   "language": "python",
   "name": "python3"
  },
  "language_info": {
   "codemirror_mode": {
    "name": "ipython",
    "version": 3
   },
   "file_extension": ".py",
   "mimetype": "text/x-python",
   "name": "python",
   "nbconvert_exporter": "python",
   "pygments_lexer": "ipython3",
   "version": "3.8.10"
  }
 },
 "nbformat": 4,
 "nbformat_minor": 4
}
