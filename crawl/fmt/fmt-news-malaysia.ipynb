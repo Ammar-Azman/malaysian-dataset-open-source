{
 "cells": [
  {
   "cell_type": "code",
   "execution_count": 2,
   "metadata": {},
   "outputs": [],
   "source": [
    "import requests\n",
    "import json\n",
    "from bs4 import BeautifulSoup\n",
    "from tqdm import tqdm\n",
    "\n",
    "cookies = {\n",
    "    'fbase_reset_status': 'true',\n",
    "    'video_count_wp': '0',\n",
    "    'nation_count_wp': '0',\n",
    "    'world_count_wp': '0',\n",
    "    'sport_count_wp': '0',\n",
    "    'lifestyle_count_wp': '0',\n",
    "    'business_count_wp': '0',\n",
    "    'bulk_subscribe_wp': 'false',\n",
    "    'video_subscribe_wp': 'false',\n",
    "    'nation_subscribe_wp': 'false',\n",
    "    'opinion_subscribe_wp': 'false',\n",
    "    'world_subscribe_wp': 'false',\n",
    "    'sport_subscribe_wp': 'false',\n",
    "    'berita_subscribe_wp': 'false',\n",
    "    'lifestyle_subscribe_wp': 'false',\n",
    "    'business_subscribe_wp': 'false',\n",
    "    'opinion_count_wp': '1',\n",
    "    '_ga': 'GA1.2.881359853.1673230084',\n",
    "    '_gid': 'GA1.2.38520233.1673230084',\n",
    "    '_cb': 'CVXw6kBqCC6VBIjphG',\n",
    "    '_cb_svref': 'https%3A%2F%2Fwww.google.com%2F',\n",
    "    '__cf_bm': 'lnrJcMBmlYnnZmNV_lYs18Du1adF53DVXyv8nZLweQg-1673230084-0-AdnRv7rW2be4OdnUOdM3i/sOc0soLa9n4O0TL9nJ8zzTQrRjizJlr4c41v3aWOPBlaCtCAL2DMnkxUW46b89c/LGyEg3VnYi0j6pDtnOi8qmTdwvtz7YgdnlnTuo2a5v6Ra3uTonyOanVs9UFDU/HCcTnQptqoNw/I4GknjGDMbGoqcmazWhVDpI6YrVLt+x7g==',\n",
    "    'trc_cookie_storage': 'taboola%2520global%253Auser-id%3Dd17cd528-3462-4d94-885f-447b3bbb14ec-tuct62a25a2',\n",
    "    'fpestid': '6NBuKu1TK4arw44WzUIf_4UQeuHUI0FFCpMg3PH_B_g2juqTzq6-BXXJ7h8_7pk4UTrO-A',\n",
    "    '_cc_id': '69f8b801beef15345eb5accdea253af',\n",
    "    'panoramaId_expiry': '1673834885399',\n",
    "    'panoramaId': 'e3eb778e2ce60a1a553efb8ff33e16d539381e0debcb4df3c90a9fe806f0bead',\n",
    "    '_gat_gtag_UA_13201505_2': '1',\n",
    "    'lotame_domain_check': 'freemalaysiatoday.com',\n",
    "    '_chartbeat5': '',\n",
    "    'berita_count_wp': '5',\n",
    "    '_chartbeat2': '.1613587063601.1673230164365.0000000000000001.gH0OcDSM7oxDqzXQ-CwL4iwC_NQfY.6',\n",
    "}\n",
    "\n",
    "headers = {\n",
    "    'authority': 'www.freemalaysiatoday.com',\n",
    "    'accept': '*/*',\n",
    "    'accept-language': 'en-MY,en;q=0.9,en-US;q=0.8,ms;q=0.7',\n",
    "    'cache-control': 'no-cache',\n",
    "    'content-type': 'application/x-www-form-urlencoded; charset=UTF-8',\n",
    "    # 'cookie': 'fbase_reset_status=true; video_count_wp=0; nation_count_wp=0; world_count_wp=0; sport_count_wp=0; lifestyle_count_wp=0; business_count_wp=0; bulk_subscribe_wp=false; video_subscribe_wp=false; nation_subscribe_wp=false; opinion_subscribe_wp=false; world_subscribe_wp=false; sport_subscribe_wp=false; berita_subscribe_wp=false; lifestyle_subscribe_wp=false; business_subscribe_wp=false; opinion_count_wp=1; _ga=GA1.2.881359853.1673230084; _gid=GA1.2.38520233.1673230084; _cb=CVXw6kBqCC6VBIjphG; _cb_svref=https%3A%2F%2Fwww.google.com%2F; __cf_bm=lnrJcMBmlYnnZmNV_lYs18Du1adF53DVXyv8nZLweQg-1673230084-0-AdnRv7rW2be4OdnUOdM3i/sOc0soLa9n4O0TL9nJ8zzTQrRjizJlr4c41v3aWOPBlaCtCAL2DMnkxUW46b89c/LGyEg3VnYi0j6pDtnOi8qmTdwvtz7YgdnlnTuo2a5v6Ra3uTonyOanVs9UFDU/HCcTnQptqoNw/I4GknjGDMbGoqcmazWhVDpI6YrVLt+x7g==; trc_cookie_storage=taboola%2520global%253Auser-id%3Dd17cd528-3462-4d94-885f-447b3bbb14ec-tuct62a25a2; fpestid=6NBuKu1TK4arw44WzUIf_4UQeuHUI0FFCpMg3PH_B_g2juqTzq6-BXXJ7h8_7pk4UTrO-A; _cc_id=69f8b801beef15345eb5accdea253af; panoramaId_expiry=1673834885399; panoramaId=e3eb778e2ce60a1a553efb8ff33e16d539381e0debcb4df3c90a9fe806f0bead; _gat_gtag_UA_13201505_2=1; lotame_domain_check=freemalaysiatoday.com; _chartbeat5=; berita_count_wp=5; _chartbeat2=.1613587063601.1673230164365.0000000000000001.gH0OcDSM7oxDqzXQ-CwL4iwC_NQfY.6',\n",
    "    'origin': 'https://www.freemalaysiatoday.com',\n",
    "    'pragma': 'no-cache',\n",
    "    'referer': 'https://www.freemalaysiatoday.com/category/category/bahasa/tempatan/',\n",
    "    'sec-ch-ua': '\"Not?A_Brand\";v=\"8\", \"Chromium\";v=\"108\", \"Google Chrome\";v=\"108\"',\n",
    "    'sec-ch-ua-mobile': '?0',\n",
    "    'sec-ch-ua-platform': '\"macOS\"',\n",
    "    'sec-fetch-dest': 'empty',\n",
    "    'sec-fetch-mode': 'cors',\n",
    "    'sec-fetch-site': 'same-origin',\n",
    "    'user-agent': 'Mozilla/5.0 (Macintosh; Intel Mac OS X 10_15_7) AppleWebKit/537.36 (KHTML, like Gecko) Chrome/108.0.0.0 Safari/537.36',\n",
    "    'x-requested-with': 'XMLHttpRequest',\n",
    "}\n",
    "\n",
    "params = {\n",
    "    'td_theme_name': 'Newspaper',\n",
    "    'v': '9.8',\n",
    "}"
   ]
  },
  {
   "cell_type": "code",
   "execution_count": 3,
   "metadata": {},
   "outputs": [],
   "source": [
    "def generator():\n",
    "    while True:\n",
    "        yield"
   ]
  },
  {
   "cell_type": "code",
   "execution_count": 10,
   "metadata": {},
   "outputs": [
    {
     "name": "stderr",
     "output_type": "stream",
     "text": [
      "4685it [2:28:33,  1.90s/it]\n"
     ]
    }
   ],
   "source": [
    "index = 1\n",
    "results = []\n",
    "for _ in tqdm(generator()):\n",
    "    data = {\n",
    "        'action': 'td_ajax_loop',\n",
    "        'loopState[sidebarPosition]': '',\n",
    "        'loopState[moduleId]': '2',\n",
    "        'loopState[currentPage]': str(index),\n",
    "        'loopState[max_num_pages]': '4684',\n",
    "        'loopState[atts][category_id]': '1',\n",
    "        'loopState[atts][offset]': '5',\n",
    "        'loopState[ajax_pagination_infinite_stop]': '3',\n",
    "        'loopState[server_reply_html_data]': '',\n",
    "    }\n",
    "\n",
    "    response = requests.post(\n",
    "        'https://www.freemalaysiatoday.com/wp-admin/admin-ajax.php',\n",
    "        params=params,\n",
    "        cookies=cookies,\n",
    "        headers=headers,\n",
    "        data=data,\n",
    "    )\n",
    "    r = response.json()\n",
    "    if len(r['server_reply_html_data']) < 10:\n",
    "        break\n",
    "    \n",
    "    index += 1\n",
    "    results.append(r)"
   ]
  },
  {
   "cell_type": "code",
   "execution_count": null,
   "metadata": {},
   "outputs": [],
   "source": [
    "with open('fmt-news-malaysia.json', 'w') as fopen:\n",
    "    json.dump(results, fopen)"
   ]
  },
  {
   "cell_type": "code",
   "execution_count": null,
   "metadata": {},
   "outputs": [],
   "source": []
  }
 ],
 "metadata": {
  "kernelspec": {
   "display_name": "Python 3 (ipykernel)",
   "language": "python",
   "name": "python3"
  },
  "language_info": {
   "codemirror_mode": {
    "name": "ipython",
    "version": 3
   },
   "file_extension": ".py",
   "mimetype": "text/x-python",
   "name": "python",
   "nbconvert_exporter": "python",
   "pygments_lexer": "ipython3",
   "version": "3.8.10"
  }
 },
 "nbformat": 4,
 "nbformat_minor": 4
}
