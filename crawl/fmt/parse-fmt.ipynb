{
 "cells": [
  {
   "cell_type": "code",
   "execution_count": 1,
   "metadata": {},
   "outputs": [],
   "source": [
    "import requests\n",
    "import json\n",
    "from tqdm import tqdm\n",
    "from glob import glob\n",
    "from bs4 import BeautifulSoup\n",
    "import mp"
   ]
  },
  {
   "cell_type": "code",
   "execution_count": 2,
   "metadata": {
    "scrolled": true
   },
   "outputs": [
    {
     "data": {
      "text/plain": [
       "['fmt-8.jsonl',\n",
       " 'fmt-3.jsonl',\n",
       " 'fmt-1.jsonl',\n",
       " 'fmt-5.jsonl',\n",
       " 'fmt-9.jsonl',\n",
       " 'fmt-0.jsonl',\n",
       " 'fmt-6.jsonl',\n",
       " 'fmt-7.jsonl',\n",
       " 'fmt-4.jsonl',\n",
       " 'fmt-2.jsonl']"
      ]
     },
     "execution_count": 2,
     "metadata": {},
     "output_type": "execute_result"
    }
   ],
   "source": [
    "files = glob('fmt-*.jsonl')\n",
    "files"
   ]
  },
  {
   "cell_type": "code",
   "execution_count": 3,
   "metadata": {},
   "outputs": [],
   "source": [
    "def loop(files):\n",
    "    files, _ = files\n",
    "    results = []\n",
    "\n",
    "    for f in files:\n",
    "        with open(f) as fopen:\n",
    "            for l in tqdm(fopen):\n",
    "                data = json.loads(l)\n",
    "                url = data['url']\n",
    "                soup = BeautifulSoup(data['content'], 'lxml')\n",
    "                title = soup.find_all('h1')[0].text\n",
    "                p = [p.text for p in soup.find_all('p')]\n",
    "                try:\n",
    "                    ul = soup.find_all('ul', {'class': 'td-tags td-post-small-box clearfix'})\n",
    "                    tags = [li.text for li in ul[0].find_all('li')[1:]]\n",
    "                except:\n",
    "                    tags = []\n",
    "                try:\n",
    "                    by = soup.find_all('div', {'class': 'td-post-author-name'})[0].text\n",
    "                    by = by.replace('By ', '').replace('-  ', '').strip()\n",
    "                except:\n",
    "                    by = None\n",
    "                d = {\n",
    "                    'url': url,\n",
    "                    'title': title,\n",
    "                    'p': p,\n",
    "                    'tags': tags,\n",
    "                    'by': by,\n",
    "                }\n",
    "                results.append(d)\n",
    "    \n",
    "    return results"
   ]
  },
  {
   "cell_type": "code",
   "execution_count": 4,
   "metadata": {},
   "outputs": [
    {
     "name": "stderr",
     "output_type": "stream",
     "text": [
      "2it [00:00, 57.57it/s]\n"
     ]
    },
    {
     "data": {
      "text/plain": [
       "[{'url': 'https://www.freemalaysiatoday.com/category/nation/2019/08/02/johor-sultan-says-intervened-in-arms-procurement-to-stop-absurd-pricing/',\n",
       "  'title': 'Johor sultan says intervened in arms procurement to stop absurd pricing',\n",
       "  'p': ['PETALING JAYA: Johor ruler Sultan Ibrahim Sultan Iskandar says he will not hesitate to intervene if irregularities are found in the operations of the Special Forces Regiment, of which he is colonel commandant.',\n",
       "   'Speaking at the regiment’s 54th anniversary parade at Camp Iskandar in Mersing today, Sultan Ibrahim highlighted what he called a lack of control and scrutiny in equipment procurement.',\n",
       "   'He gave the example of a company which he said had charged RM5 million for the supply of a Rigid Riding Craft, calling the price exorbitant and unacceptable.',\n",
       "   '“When I discovered this, I immediately intervened and sourced for a better quality boat at cheaper cost, thereby making a saving for the government,” he said according to a Facebook post on his official account.',\n",
       "   'Sultan Ibrahim added that he is “not interested in just being a figurehead”.',\n",
       "   '“I want to protect the good name of the regiment, and will intervene, especially if I see obvious and blatant irregularities.”',\n",
       "   'He said many retired generals had been hired as middlemen by companies and were submitting “ridiculous prices” for the supply of military equipment.',\n",
       "   '“You are under no obligation to accept their quotations,” he added. “It must be carefully checked and scrutinised.”',\n",
       "   'As colonel commandant, he said, he was responsible for getting involved to stop “unscrupulous agents” from making “millions of ringgit in commissions from the sale of unsuitable and pricy military goods to the regiment”.',\n",
       "   'The luxurious condominium will incorporate contemporary lifestyle elements, including innovative design features for post pandemic living. ',\n",
       "   'Malaysians, especially first-time voters, relied on the portal to retrieve all election-related content and updates.',\n",
       "   'From Ipoh to Selangor, Melaka and Muar, these coffee houses serve a good brew.  ',\n",
       "   'De Centrum City can cultivate its potential to become an intellectual and a future-proof city.',\n",
       "   'BiO-LiFE offers a range of products that promote good eye health so that you are able to lead a fulfilling life.'],\n",
       "  'tags': ['Johor Sultan',\n",
       "   'military equipment',\n",
       "   'Special Forces Regiment',\n",
       "   'Sultan Ibrahim Sultan Iskandar'],\n",
       "  'by': 'FMT Reporters'},\n",
       " {'url': 'https://www.freemalaysiatoday.com/category/bahasa/2019/04/09/polis-tiada-tangkapan-berhubung-kain-rentang-provokasi/',\n",
       "  'title': 'Polis: Tiada tangkapan berhubung kain rentang provokasi',\n",
       "  'p': ['SEREMBAN: Tiada sebarang tangkapan dibuat setakat ini berkaitan isu pemasangan kain rentang provokasi yang mengandungi ungkapan berunsur perkauman semasa kempen pilihan raya kecil (PRK) DUN Rantau.',\n",
       "   'Pegawai Perhubungan Media Polis Diraja Malaysia (PDRM) bagi PRK DUN Rantau, Ahmad Jamaludin berkata pihaknya setakat ini hanya mengambil keterangan daripada saksi terlibat.',\n",
       "   '“Kita terima 1 laporan yang dibuat oleh ‘pihak terganggu’ dengan keadaan itu manakala 3 laporan diterima bagi menafikan penglibatan dalam hal itu,” katanya kepada pemberita selepas meninjau proses pengundian awal di Balai Polis Rantau, hari ini.',\n",
       "   'Kempen PRK DUN Rantau sebelum ini dicemari dengan tindakan pihak tidak bertanggungjawab memasang kain rentang yang mengandungi ayat berbentuk provokasi terhadap calon Pakatan Harapan, Dr S Streram.',\n",
       "   'Sementara itu beliau berkata setakat semalam, pihaknya menerima 73 laporan dan membuka 15 kertas siasatan di bawah Akta Pilihan Raya 1954 dan Kanun Keseksaan sepanjang kempen PRK berlangsung, namun tiada kesalahan serius dilaporkan berlaku.',\n",
       "   '“Manakala 238 permit ceramah diterima dan diluluskan setakat ini,” katanya.',\n",
       "   'Mengenai hari pengundian pada Sabtu ini, beliau berkata sebanyak 1,100 pegawai dan anggota dari seluruh negeri akan ditugaskan di semua pusat mengundi dan penjumlahan undi bagi memastikan tiada sebarang insiden tidak dingini berlaku.',\n",
       "   'Beliau turut menasihati pengundi turun awal pada hari pengundian bagi mengelakkan kesesakan lalu lintas, selain meminta penyokong tidak melakukan sebarang provokasi pada hari berkenaan.',\n",
       "   'Proses pengundian awal bermula 8 pagi ini di 2 pusat pengundian masing-masing di Pangkalan Udara (PU) Sendayan dan Balai Polis Rantau.',\n",
       "   'Ia membabitkan seramai 74 anggota tentera dan pasangan yang akan membuat pengundian di PU Sendayan serta 36 anggota polis di Balai Polis Rantau.',\n",
       "   'PRK itu menyaksikan pertembungan 4 penjuru membabitkan calon Pakatan Harapan Dr S Streram, calon Barisan Nasional iaitu bekas Menteri Besar Negeri Sembilan Mohamad Hasan serta 2 calon Bebas iaitu suri rumah R Malarvizhi dan bekas pensyarah Mohd Nor Yassin.',\n",
       "   'Ia diadakan berikutan keputusan Mahkamah Persekutuan menolak petisyen difailkan Mohamad, yang juga penyandang DUN Rantau selama 3 penggal untuk mengetepikan keputusan Mahkamah Pilihan Raya Seremban pada 16 Nov tahun lalu, yang mengisytiharkan kemenangan beliau bagi kerusi berkenaan pada PRU14 terbatal dan tidak sah.',\n",
       "   'caption: (kain rentang provokasi stori sebelum ni)',\n",
       "   'The luxurious condominium will incorporate contemporary lifestyle elements, including innovative design features for post pandemic living. ',\n",
       "   'Malaysians, especially first-time voters, relied on the portal to retrieve all election-related content and updates.',\n",
       "   'From Ipoh to Selangor, Melaka and Muar, these coffee houses serve a good brew.  ',\n",
       "   'De Centrum City can cultivate its potential to become an intellectual and a future-proof city.',\n",
       "   'BiO-LiFE offers a range of products that promote good eye health so that you are able to lead a fulfilling life.'],\n",
       "  'tags': ['kain rentang provokasi', 'Polis', 'PRK', 'Rantau'],\n",
       "  'by': 'Bernama'}]"
      ]
     },
     "execution_count": 4,
     "metadata": {},
     "output_type": "execute_result"
    }
   ],
   "source": [
    "loop((files[:1],0))"
   ]
  },
  {
   "cell_type": "code",
   "execution_count": 5,
   "metadata": {},
   "outputs": [
    {
     "name": "stderr",
     "output_type": "stream",
     "text": [
      "1it [00:00,  8.13it/s]\n",
      "2it [00:00, 14.77it/s]\n",
      "31803it [20:09, 26.30it/s]\n",
      "31804it [20:12, 26.22it/s]\n",
      "31804it [20:13, 26.21it/s]\n",
      "31804it [20:14, 26.19it/s]\n",
      "31804it [20:15, 26.18it/s]\n",
      "31804it [20:24, 25.97it/s]\n",
      "31804it [20:24, 25.97it/s]\n",
      "31804it [20:30, 25.84it/s]\n"
     ]
    }
   ],
   "source": [
    "results = mp.multiprocessing(files, loop, cores = len(files))"
   ]
  },
  {
   "cell_type": "code",
   "execution_count": 6,
   "metadata": {},
   "outputs": [
    {
     "data": {
      "text/plain": [
       "254434"
      ]
     },
     "execution_count": 6,
     "metadata": {},
     "output_type": "execute_result"
    }
   ],
   "source": [
    "len(results)"
   ]
  },
  {
   "cell_type": "code",
   "execution_count": 7,
   "metadata": {},
   "outputs": [],
   "source": [
    "with open('parsed-fmt.jsonl', 'w') as fopen:\n",
    "    for r in results:\n",
    "        fopen.write(f'{json.dumps(r)}\\n')"
   ]
  },
  {
   "cell_type": "code",
   "execution_count": 8,
   "metadata": {},
   "outputs": [
    {
     "name": "stdout",
     "output_type": "stream",
     "text": [
      "{\"url\": \"https://www.freemalaysiatoday.com/category/nation/2019/08/02/johor-sultan-says-intervened-in-arms-procurement-to-stop-absurd-pricing/\", \"title\": \"Johor sultan says intervened in arms procurement to stop absurd pricing\", \"p\": [\"PETALING JAYA: Johor ruler Sultan Ibrahim Sultan Iskandar says he will not hesitate to intervene if irregularities are found in the operations of the Special Forces Regiment, of which he is colonel commandant.\", \"Speaking at the regiment\\u2019s 54th anniversary parade at Camp Iskandar in Mersing today, Sultan Ibrahim highlighted what he called a lack of control and scrutiny in equipment procurement.\", \"He gave the example of a company which he said had charged RM5 million for the supply of a Rigid Riding Craft, calling the price exorbitant and unacceptable.\", \"\\u201cWhen I discovered this, I immediately intervened and sourced for a better quality boat at cheaper cost, thereby making a saving for the government,\\u201d he said according to a Facebook post on his official account.\", \"Sultan Ibrahim added that he is \\u201cnot interested in just being a figurehead\\u201d.\", \"\\u201cI want to protect the good name of the regiment, and will intervene, especially if I see obvious and blatant irregularities.\\u201d\", \"He said many retired generals had been hired as middlemen by companies and were submitting \\u201cridiculous prices\\u201d for the supply of military equipment.\", \"\\u201cYou are under no obligation to accept their quotations,\\u201d he added. \\u201cIt must be carefully checked and scrutinised.\\u201d\", \"As colonel commandant, he said, he was responsible for getting involved to stop \\u201cunscrupulous agents\\u201d from making \\u201cmillions of ringgit in commissions from the sale of unsuitable and pricy military goods to the regiment\\u201d.\", \"The luxurious condominium will incorporate contemporary lifestyle elements, including innovative design features for post pandemic living. \", \"Malaysians, especially first-time voters, relied on the portal to retrieve all election-related content and updates.\", \"From Ipoh to Selangor, Melaka and Muar, these coffee houses serve a good brew.  \", \"De Centrum City can cultivate its potential to become an intellectual and a future-proof city.\", \"BiO-LiFE offers a range of products that promote good eye health so that you are able to lead a fulfilling life.\"], \"tags\": [\"Johor Sultan\", \"military equipment\", \"Special Forces Regiment\", \"Sultan Ibrahim Sultan Iskandar\"], \"by\": \"FMT Reporters\"}\r\n"
     ]
    }
   ],
   "source": [
    "!head -n 1 parsed-fmt.jsonl"
   ]
  },
  {
   "cell_type": "code",
   "execution_count": null,
   "metadata": {},
   "outputs": [],
   "source": []
  }
 ],
 "metadata": {
  "kernelspec": {
   "display_name": "Python 3 (ipykernel)",
   "language": "python",
   "name": "python3"
  },
  "language_info": {
   "codemirror_mode": {
    "name": "ipython",
    "version": 3
   },
   "file_extension": ".py",
   "mimetype": "text/x-python",
   "name": "python",
   "nbconvert_exporter": "python",
   "pygments_lexer": "ipython3",
   "version": "3.8.10"
  }
 },
 "nbformat": 4,
 "nbformat_minor": 4
}
