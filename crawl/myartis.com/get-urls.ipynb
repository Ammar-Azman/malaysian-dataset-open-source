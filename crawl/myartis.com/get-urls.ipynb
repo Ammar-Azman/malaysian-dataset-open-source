{
 "cells": [
  {
   "cell_type": "code",
   "execution_count": 1,
   "metadata": {},
   "outputs": [],
   "source": [
    "import requests\n",
    "from bs4 import BeautifulSoup\n",
    "from tqdm import tqdm\n",
    "import os\n",
    "import json\n",
    "import numpy as np\n",
    "import time\n",
    "import random\n",
    "import json"
   ]
  },
  {
   "cell_type": "code",
   "execution_count": 12,
   "metadata": {},
   "outputs": [],
   "source": [
    "r = requests.get('http://www.myartis.com/search?updated-max=2023-07-08T12:06:00%2B08:00&max-results=70000',\n",
    "                verify = False)\n",
    "soup = BeautifulSoup(r.content, \"lxml\")"
   ]
  },
  {
   "cell_type": "code",
   "execution_count": 10,
   "metadata": {},
   "outputs": [],
   "source": [
    "!mkdir url"
   ]
  },
  {
   "cell_type": "code",
   "execution_count": 9,
   "metadata": {
    "scrolled": true
   },
   "outputs": [
    {
     "data": {
      "text/plain": [
       "['http://www.myartis.com/2023/07/caprice-cari-lelaki-gelar-isterinya.html',\n",
       " 'http://www.myartis.com/2023/07/tidak-waras-ketika-kejadian-layak.html',\n",
       " 'http://www.myartis.com/2023/07/mawar-rashid-teruja-bertentang-mata.html',\n",
       " 'http://www.myartis.com/2023/07/bila-maryam-mahu-besarkan-rina-sebagai.html',\n",
       " 'http://www.myartis.com/2023/07/ali-puteh-dakwa-isteri-terima-ugutan.html',\n",
       " 'http://www.myartis.com/2023/07/fazura-dedah-fattah-amin-cuba-disondol.html',\n",
       " 'http://www.myartis.com/2023/07/isu-bertepuk-tangan-dengan-lelaki-hawa.html',\n",
       " 'http://www.myartis.com/2023/07/gagal-bayar-hutang-fouziah-gous.html',\n",
       " 'http://www.myartis.com/2023/07/dia-sangat-berlagak-jumpa-saya-di.html',\n",
       " 'http://www.myartis.com/2023/07/pakaian-crop-top-fasha-sandha-jadi.html',\n",
       " 'http://www.myartis.com/2023/07/kes-puteri-sarah-ira-kazar-selesai.html',\n",
       " 'http://www.myartis.com/2023/07/terima-pengiktirafan-darjah-pjn-yang.html',\n",
       " 'http://www.myartis.com/2023/07/saya-menyesali-tindakan-saya-john.html',\n",
       " 'http://www.myartis.com/2023/07/demi-anak-faizal-hussein-tolak-tawaran.html',\n",
       " 'http://www.myartis.com/2023/07/nonny-tampil-berhijab-semula-mila.html',\n",
       " 'http://www.myartis.com/2023/07/akhirnya-shuib-bersemuka-dengan.html',\n",
       " 'http://www.myartis.com/2023/07/foto-noor-nabila-cium-mulut-anak-terima.html',\n",
       " 'http://www.myartis.com/2023/07/berhutang-puluhan-juta-aliff-syukri.html',\n",
       " 'http://www.myartis.com/2022/10/jualan-terbaik-produk.html',\n",
       " 'http://www.myartis.com/2023/07/ditegur-lagi-kali-ini-hawa-rizwana.html',\n",
       " 'http://www.myartis.com/2023/07/bila-abu-sufyan-rasa-diri-tak-layak.html',\n",
       " 'http://www.myartis.com/2023/03/resepi-ramadan.html',\n",
       " 'http://www.myartis.com/2023/07/shuib-dihubungi-pemfitnah-kurang-24-jam.html',\n",
       " 'http://www.myartis.com/2023/07/dia-tak-pernah-minta-bukan-bukan-izzue.html',\n",
       " 'http://www.myartis.com/2023/07/tidak-hadir-kes-nombor-viral-suami.html',\n",
       " 'http://www.myartis.com/2023/07/tunggu-kenyataan-peguam-saya-shuib-nak.html',\n",
       " 'http://www.myartis.com/2023/07/rupanya-beginilah-apa-dirasakan-oleh.html',\n",
       " 'http://www.myartis.com/2023/07/pereka-fesyen-razman-kena-tahan-ccu.html',\n",
       " 'http://www.myartis.com/2023/07/al-fatihah-ibu-engku-emran-kembali-ke.html',\n",
       " 'http://www.myartis.com/2023/07/air-mata-jadi-saksi-rinduku-brrbalas.html',\n",
       " 'http://www.myartis.com/2023/07/mula-tunjuk-perkembangan-positif-mat.html',\n",
       " 'http://www.myartis.com/2023/07/jep-sepahtu-oh-saya-tak-dijemput.html',\n",
       " 'http://www.myartis.com/2023/07/masih-menghitung-hari-untuk-menyambut.html',\n",
       " 'http://www.myartis.com/2023/07/bila-fizz-fairuz-korban-7-ekor-lembu.html',\n",
       " 'http://www.myartis.com/2023/07/demi-bantu-keluarga-mila-jirin-sanggup.html',\n",
       " 'http://www.myartis.com/2023/07/rancang-nak-tunai-umrah-bersama-tak.html',\n",
       " 'http://www.myartis.com/2023/07/diberhentikan-secara-tidak-sah-sebelum.html']"
      ]
     },
     "execution_count": 9,
     "metadata": {},
     "output_type": "execute_result"
    }
   ],
   "source": [
    "h3 = soup.find_all('h3', {'class': 'post-title entry-title'})\n",
    "a = [h3_.find('a').get('href') for h3_ in h3]\n",
    "a"
   ]
  },
  {
   "cell_type": "code",
   "execution_count": 16,
   "metadata": {},
   "outputs": [
    {
     "name": "stderr",
     "output_type": "stream",
     "text": [
      "473it [08:46,  1.11s/it]\n"
     ]
    },
    {
     "ename": "AttributeError",
     "evalue": "'NoneType' object has no attribute 'get'",
     "output_type": "error",
     "traceback": [
      "\u001b[0;31m---------------------------------------------------------------------------\u001b[0m",
      "\u001b[0;31mAttributeError\u001b[0m                            Traceback (most recent call last)",
      "\u001b[0;32m/tmp/ipykernel_2879384/2727731392.py\u001b[0m in \u001b[0;36m<module>\u001b[0;34m\u001b[0m\n\u001b[1;32m      9\u001b[0m     \u001b[0msoup\u001b[0m \u001b[0;34m=\u001b[0m \u001b[0mBeautifulSoup\u001b[0m\u001b[0;34m(\u001b[0m\u001b[0mr\u001b[0m\u001b[0;34m.\u001b[0m\u001b[0mcontent\u001b[0m\u001b[0;34m,\u001b[0m \u001b[0;34m\"lxml\"\u001b[0m\u001b[0;34m)\u001b[0m\u001b[0;34m\u001b[0m\u001b[0;34m\u001b[0m\u001b[0m\n\u001b[1;32m     10\u001b[0m     \u001b[0mh3\u001b[0m \u001b[0;34m=\u001b[0m \u001b[0msoup\u001b[0m\u001b[0;34m.\u001b[0m\u001b[0mfind_all\u001b[0m\u001b[0;34m(\u001b[0m\u001b[0;34m'h3'\u001b[0m\u001b[0;34m,\u001b[0m \u001b[0;34m{\u001b[0m\u001b[0;34m'class'\u001b[0m\u001b[0;34m:\u001b[0m \u001b[0;34m'post-title entry-title'\u001b[0m\u001b[0;34m}\u001b[0m\u001b[0;34m)\u001b[0m\u001b[0;34m\u001b[0m\u001b[0;34m\u001b[0m\u001b[0m\n\u001b[0;32m---> 11\u001b[0;31m     \u001b[0ma\u001b[0m \u001b[0;34m=\u001b[0m \u001b[0;34m[\u001b[0m\u001b[0mh3_\u001b[0m\u001b[0;34m.\u001b[0m\u001b[0mfind\u001b[0m\u001b[0;34m(\u001b[0m\u001b[0;34m'a'\u001b[0m\u001b[0;34m)\u001b[0m\u001b[0;34m.\u001b[0m\u001b[0mget\u001b[0m\u001b[0;34m(\u001b[0m\u001b[0;34m'href'\u001b[0m\u001b[0;34m)\u001b[0m \u001b[0;32mfor\u001b[0m \u001b[0mh3_\u001b[0m \u001b[0;32min\u001b[0m \u001b[0mh3\u001b[0m\u001b[0;34m]\u001b[0m\u001b[0;34m\u001b[0m\u001b[0;34m\u001b[0m\u001b[0m\n\u001b[0m\u001b[1;32m     12\u001b[0m \u001b[0;34m\u001b[0m\u001b[0m\n\u001b[1;32m     13\u001b[0m     \u001b[0;32mwith\u001b[0m \u001b[0mopen\u001b[0m\u001b[0;34m(\u001b[0m\u001b[0;34mf'url/{index}.json'\u001b[0m\u001b[0;34m,\u001b[0m \u001b[0;34m'w'\u001b[0m\u001b[0;34m)\u001b[0m \u001b[0;32mas\u001b[0m \u001b[0mfopen\u001b[0m\u001b[0;34m:\u001b[0m\u001b[0;34m\u001b[0m\u001b[0;34m\u001b[0m\u001b[0m\n",
      "\u001b[0;32m/tmp/ipykernel_2879384/2727731392.py\u001b[0m in \u001b[0;36m<listcomp>\u001b[0;34m(.0)\u001b[0m\n\u001b[1;32m      9\u001b[0m     \u001b[0msoup\u001b[0m \u001b[0;34m=\u001b[0m \u001b[0mBeautifulSoup\u001b[0m\u001b[0;34m(\u001b[0m\u001b[0mr\u001b[0m\u001b[0;34m.\u001b[0m\u001b[0mcontent\u001b[0m\u001b[0;34m,\u001b[0m \u001b[0;34m\"lxml\"\u001b[0m\u001b[0;34m)\u001b[0m\u001b[0;34m\u001b[0m\u001b[0;34m\u001b[0m\u001b[0m\n\u001b[1;32m     10\u001b[0m     \u001b[0mh3\u001b[0m \u001b[0;34m=\u001b[0m \u001b[0msoup\u001b[0m\u001b[0;34m.\u001b[0m\u001b[0mfind_all\u001b[0m\u001b[0;34m(\u001b[0m\u001b[0;34m'h3'\u001b[0m\u001b[0;34m,\u001b[0m \u001b[0;34m{\u001b[0m\u001b[0;34m'class'\u001b[0m\u001b[0;34m:\u001b[0m \u001b[0;34m'post-title entry-title'\u001b[0m\u001b[0;34m}\u001b[0m\u001b[0;34m)\u001b[0m\u001b[0;34m\u001b[0m\u001b[0;34m\u001b[0m\u001b[0m\n\u001b[0;32m---> 11\u001b[0;31m     \u001b[0ma\u001b[0m \u001b[0;34m=\u001b[0m \u001b[0;34m[\u001b[0m\u001b[0mh3_\u001b[0m\u001b[0;34m.\u001b[0m\u001b[0mfind\u001b[0m\u001b[0;34m(\u001b[0m\u001b[0;34m'a'\u001b[0m\u001b[0;34m)\u001b[0m\u001b[0;34m.\u001b[0m\u001b[0mget\u001b[0m\u001b[0;34m(\u001b[0m\u001b[0;34m'href'\u001b[0m\u001b[0;34m)\u001b[0m \u001b[0;32mfor\u001b[0m \u001b[0mh3_\u001b[0m \u001b[0;32min\u001b[0m \u001b[0mh3\u001b[0m\u001b[0;34m]\u001b[0m\u001b[0;34m\u001b[0m\u001b[0;34m\u001b[0m\u001b[0m\n\u001b[0m\u001b[1;32m     12\u001b[0m \u001b[0;34m\u001b[0m\u001b[0m\n\u001b[1;32m     13\u001b[0m     \u001b[0;32mwith\u001b[0m \u001b[0mopen\u001b[0m\u001b[0;34m(\u001b[0m\u001b[0;34mf'url/{index}.json'\u001b[0m\u001b[0;34m,\u001b[0m \u001b[0;34m'w'\u001b[0m\u001b[0;34m)\u001b[0m \u001b[0;32mas\u001b[0m \u001b[0mfopen\u001b[0m\u001b[0;34m:\u001b[0m\u001b[0;34m\u001b[0m\u001b[0;34m\u001b[0m\u001b[0m\n",
      "\u001b[0;31mAttributeError\u001b[0m: 'NoneType' object has no attribute 'get'"
     ]
    }
   ],
   "source": [
    "def generator():\n",
    "    while True:\n",
    "        yield\n",
    "        \n",
    "index = 0\n",
    "url = 'http://www.myartis.com/search?updated-max=2023-07-08T12:06:00%2B08:00&max-results=70000'\n",
    "for _ in tqdm(generator()):\n",
    "    r = requests.get(url, verify = False)\n",
    "    soup = BeautifulSoup(r.content, \"lxml\")\n",
    "    h3 = soup.find_all('h3', {'class': 'post-title entry-title'})\n",
    "    a = [h3_.find('a').get('href') for h3_ in h3]\n",
    "    \n",
    "    with open(f'url/{index}.json', 'w') as fopen:\n",
    "        json.dump(a, fopen)\n",
    "    \n",
    "    url = soup.find('a', {'class': 'blog-pager-older-link'}).get('href')\n",
    "    index += 1"
   ]
  },
  {
   "cell_type": "code",
   "execution_count": null,
   "metadata": {},
   "outputs": [],
   "source": []
  }
 ],
 "metadata": {
  "kernelspec": {
   "display_name": "Python 3 (ipykernel)",
   "language": "python",
   "name": "python3"
  },
  "language_info": {
   "codemirror_mode": {
    "name": "ipython",
    "version": 3
   },
   "file_extension": ".py",
   "mimetype": "text/x-python",
   "name": "python",
   "nbconvert_exporter": "python",
   "pygments_lexer": "ipython3",
   "version": "3.8.10"
  }
 },
 "nbformat": 4,
 "nbformat_minor": 4
}
