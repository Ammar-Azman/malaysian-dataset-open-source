{
 "cells": [
  {
   "cell_type": "code",
   "execution_count": 1,
   "metadata": {},
   "outputs": [],
   "source": [
    "import requests\n",
    "from bs4 import BeautifulSoup\n",
    "from tqdm import tqdm\n",
    "import os\n",
    "import json\n",
    "import numpy as np\n",
    "import time\n",
    "import random\n",
    "import json"
   ]
  },
  {
   "cell_type": "code",
   "execution_count": 2,
   "metadata": {},
   "outputs": [
    {
     "data": {
      "text/plain": [
       "22492"
      ]
     },
     "execution_count": 2,
     "metadata": {},
     "output_type": "execute_result"
    }
   ],
   "source": [
    "from glob import glob\n",
    "\n",
    "files = glob('url/*.json')\n",
    "urls = []\n",
    "for f in files:\n",
    "    with open(f) as fopen:\n",
    "        urls.extend(json.load(fopen))\n",
    "urls = sorted(list(set(urls)))\n",
    "len(urls)"
   ]
  },
  {
   "cell_type": "code",
   "execution_count": 3,
   "metadata": {},
   "outputs": [],
   "source": [
    "!mkdir page"
   ]
  },
  {
   "cell_type": "code",
   "execution_count": 4,
   "metadata": {},
   "outputs": [],
   "source": [
    "r = requests.get(urls[0])\n",
    "soup = BeautifulSoup(r.content, \"lxml\")"
   ]
  },
  {
   "cell_type": "code",
   "execution_count": 7,
   "metadata": {},
   "outputs": [
    {
     "data": {
      "text/plain": [
       "'\\nLAGI AKSI FASHA DAN JEJAI\\n'"
      ]
     },
     "execution_count": 7,
     "metadata": {},
     "output_type": "execute_result"
    }
   ],
   "source": [
    "soup.find('h3', {'class': 'post-title entry-title'}).text"
   ]
  },
  {
   "cell_type": "code",
   "execution_count": 8,
   "metadata": {},
   "outputs": [
    {
     "data": {
      "text/plain": [
       "'\\nAksi berdua mereka dalam merdeka millennium endurance race... Mungkin teman tapi mesra agaknya!!(\\\\__/)(=\\'.\\'=)(\")_(\")myartis 2009\\n\\n'"
      ]
     },
     "execution_count": 8,
     "metadata": {},
     "output_type": "execute_result"
    }
   ],
   "source": [
    "soup.find('div', {'class': 'post-body entry-content'}).text"
   ]
  },
  {
   "cell_type": "code",
   "execution_count": null,
   "metadata": {},
   "outputs": [
    {
     "name": "stderr",
     "output_type": "stream",
     "text": [
      "6560it [55:18,  1.96it/s]IOPub message rate exceeded.\n",
      "The notebook server will temporarily stop sending output\n",
      "to the client in order to avoid crashing it.\n",
      "To change this limit, set the config variable\n",
      "`--NotebookApp.iopub_msg_rate_limit`.\n",
      "\n",
      "Current values:\n",
      "NotebookApp.iopub_msg_rate_limit=1000.0 (msgs/sec)\n",
      "NotebookApp.rate_limit_window=3.0 (secs)\n",
      "\n",
      "14440it [2:01:52,  1.99it/s]"
     ]
    }
   ],
   "source": [
    "for no, url in tqdm(enumerate(urls)):\n",
    "    filename = os.path.join('page', f'{no}.json')\n",
    "    if os.path.exists(filename):\n",
    "        continue\n",
    "    \n",
    "    while True:\n",
    "        try:\n",
    "            r = requests.get(url)\n",
    "            break\n",
    "        except:\n",
    "            time.sleep(1.0)\n",
    "            \n",
    "    soup = BeautifulSoup(r.content, \"lxml\")\n",
    "\n",
    "    try:\n",
    "        title = soup.find('h3', {'class': 'post-title entry-title'}).text\n",
    "    except Exception as e:\n",
    "        title = None\n",
    "\n",
    "    try:\n",
    "        body = soup.find('div', {'class': 'post-body entry-content'}).text\n",
    "    except Exception as e:\n",
    "        body = None\n",
    "\n",
    "    data = {\n",
    "        'url': url,\n",
    "        'title': title,\n",
    "        'body': body,\n",
    "    }\n",
    "    with open(filename, 'w') as fopen:\n",
    "        json.dump(data, fopen)"
   ]
  },
  {
   "cell_type": "code",
   "execution_count": null,
   "metadata": {},
   "outputs": [],
   "source": []
  }
 ],
 "metadata": {
  "kernelspec": {
   "display_name": "Python 3 (ipykernel)",
   "language": "python",
   "name": "python3"
  },
  "language_info": {
   "codemirror_mode": {
    "name": "ipython",
    "version": 3
   },
   "file_extension": ".py",
   "mimetype": "text/x-python",
   "name": "python",
   "nbconvert_exporter": "python",
   "pygments_lexer": "ipython3",
   "version": "3.8.10"
  }
 },
 "nbformat": 4,
 "nbformat_minor": 4
}
