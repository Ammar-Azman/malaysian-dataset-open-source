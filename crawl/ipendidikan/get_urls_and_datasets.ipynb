{
 "cells": [
  {
   "cell_type": "code",
   "execution_count": 142,
   "metadata": {},
   "outputs": [],
   "source": [
    "import requests\n",
    "from bs4 import BeautifulSoup\n",
    "from tqdm import tqdm\n",
    "import os\n",
    "import json\n",
    "import numpy as np\n",
    "import time\n",
    "import random\n",
    "import json\n",
    "import urllib3\n",
    "urllib3.disable_warnings(urllib3.exceptions.InsecureRequestWarning)"
   ]
  },
  {
   "cell_type": "code",
   "execution_count": 143,
   "metadata": {},
   "outputs": [],
   "source": [
    "url = 'https://www.ipendidikan.my/page/3'\n",
    "r = requests.get(url)"
   ]
  },
  {
   "cell_type": "code",
   "execution_count": 144,
   "metadata": {},
   "outputs": [],
   "source": [
    "soup = BeautifulSoup(r.content, \"lxml\")\n"
   ]
  },
  {
   "cell_type": "code",
   "execution_count": 145,
   "metadata": {},
   "outputs": [
    {
     "data": {
      "text/plain": [
       "['https://www.ipendidikan.my/tarikh-mula-persekolahan.html',\n",
       " 'https://www.ipendidikan.my/permohonan-mrsm-tingkatan-1.html',\n",
       " 'https://www.ipendidikan.my/tadika-islam-maiwp.html',\n",
       " 'https://www.ipendidikan.my/ranking-sekolah-terbaik-sbp-mrsm.html',\n",
       " 'https://www.ipendidikan.my/jadual-peperiksaan-spmu-spm-ulangan.html',\n",
       " 'https://www.ipendidikan.my/jadual-peperiksaan-stam-sijil-tinggi-agama.html',\n",
       " 'https://www.ipendidikan.my/jadual-waktu-peperiksaan-upkk-kafa.html',\n",
       " 'https://www.ipendidikan.my/takwim-peperiksaan-dan-pentaksiran-awam.html',\n",
       " 'https://www.ipendidikan.my/spdpr-kpm.html',\n",
       " 'https://www.ipendidikan.my/rukun-negara.html',\n",
       " 'https://www.ipendidikan.my/senarai-biasiswa.html']"
      ]
     },
     "execution_count": 145,
     "metadata": {},
     "output_type": "execute_result"
    }
   ],
   "source": [
    "a = soup.find_all('li', 'post-item')\n",
    "a = [a_.find('a').get('href') for a_ in a]\n",
    "a\n"
   ]
  },
  {
   "cell_type": "code",
   "execution_count": 149,
   "metadata": {},
   "outputs": [
    {
     "name": "stdout",
     "output_type": "stream",
     "text": [
      "0\n",
      "1\n",
      "2\n",
      "3\n",
      "4\n",
      "5\n",
      "6\n",
      "7\n",
      "8\n",
      "9\n",
      "10\n",
      "11\n",
      "12\n",
      "13\n",
      "14\n",
      "15\n",
      "16\n",
      "17\n"
     ]
    }
   ],
   "source": [
    "index = 1\n",
    "all_a = []\n",
    "\n",
    "# Only have 17 pages\n",
    "for i in range(18):\n",
    "    print(i)\n",
    "    url = f'https://www.ipendidikan.my/page/{i}/'\n",
    "    r = requests.get(url)\n",
    "    soup = BeautifulSoup(r.content, \"lxml\")\n",
    "    a = soup.find_all('li', 'post-item')\n",
    "    a = [a_.find('a').get('href') for a_ in a]\n",
    "    all_a.extend(a)\n",
    "    "
   ]
  },
  {
   "cell_type": "code",
   "execution_count": 153,
   "metadata": {},
   "outputs": [
    {
     "name": "stdout",
     "output_type": "stream",
     "text": [
      "58\n",
      "['https://www.ipendidikan.my/apdm.html', 'https://www.ipendidikan.my/cara-kira-pointer-stpm.html', 'https://www.ipendidikan.my/cara-mengira-patah-perkataan-karangan.html', 'https://www.ipendidikan.my/cara-mudah-menghafal.html', 'https://www.ipendidikan.my/contoh-surat-tidak-hadir-ke-sekolah.html', 'https://www.ipendidikan.my/doa-menghadapi-peperiksaan.html', 'https://www.ipendidikan.my/e-semakan-keputusan-peperiksaan-mrsm.html', 'https://www.ipendidikan.my/format-baharu-instrumen-stam.html', 'https://www.ipendidikan.my/format-baharu-spm.html', 'https://www.ipendidikan.my/format-kertas-bahasa-melayu-spm-terkini.html', 'https://www.ipendidikan.my/format-kertas-sejarah-spm-terkini.html', 'https://www.ipendidikan.my/gred-markah-peperiksaan-upsr-pt3-dan-spm.html', 'https://www.ipendidikan.my/jadual-karnival-jom-masuk-ipt-u.html', 'https://www.ipendidikan.my/jadual-peperiksaan-spmu-spm-ulangan.html', 'https://www.ipendidikan.my/jadual-peperiksaan-stam-sijil-tinggi-agama.html', 'https://www.ipendidikan.my/jadual-waktu-peperiksaan-spm.html', 'https://www.ipendidikan.my/jadual-waktu-peperiksaan-upkk-kafa.html', 'https://www.ipendidikan.my/jenis-pendahuluan-dalam-penulisan-karangan.html', 'https://www.ipendidikan.my/jmti-institut-teknikal-jepun-malaysia.html', 'https://www.ipendidikan.my/kesalahan-lazim-karangan-bm.html', 'https://www.ipendidikan.my/login-google-classroom.html', 'https://www.ipendidikan.my/login-saps-nkra-analisis-peperiksaan.html', 'https://www.ipendidikan.my/menulis-karangan-bahasa-inggeris.html', 'https://www.ipendidikan.my/pendaftaran-calon-persendirian-spm-spmu.html', 'https://www.ipendidikan.my/peribahasa-melayu.html', 'https://www.ipendidikan.my/permohonan-bantuan-kewangan-kpm.html', 'https://www.ipendidikan.my/permohonan-biasiswa-bank-rakyat.html', 'https://www.ipendidikan.my/permohonan-biasiswa-sukan-kpm.html', 'https://www.ipendidikan.my/permohonan-diploma-keselamatan-kesihatan-pekerjaan.html', 'https://www.ipendidikan.my/permohonan-ijazah-sarjana-muda-pendidikan.html', 'https://www.ipendidikan.my/permohonan-mrsm-tingkatan-1.html', 'https://www.ipendidikan.my/permohonan-program-asasi-kolej-mara.html', 'https://www.ipendidikan.my/permohonan-upu-online.html', 'https://www.ipendidikan.my/politeknik-dan-kursus.html', 'https://www.ipendidikan.my/program-asasi.html', 'https://www.ipendidikan.my/program-diploma-asasi-uitm.html', 'https://www.ipendidikan.my/ranking-sekolah-terbaik-sbp-mrsm.html', 'https://www.ipendidikan.my/rukun-negara.html', 'https://www.ipendidikan.my/saps-ibu-bapa-keputusan-peperiksaan.html', 'https://www.ipendidikan.my/semakan-bppt-kad-debit-pelajar-online.html', 'https://www.ipendidikan.my/semakan-ipg-pismp.html', 'https://www.ipendidikan.my/semakan-keputusan-matrikulasi-online.html', 'https://www.ipendidikan.my/semakan-keputusan-pt3-online-sms.html', 'https://www.ipendidikan.my/semakan-keputusan-spm-online-mobile.html', 'https://www.ipendidikan.my/semakan-keputusan-stam.html', 'https://www.ipendidikan.my/semakan-ukcg.html', 'https://www.ipendidikan.my/senarai-biasiswa.html', 'https://www.ipendidikan.my/soalan-percubaan-spm-trial.html', 'https://www.ipendidikan.my/soalan-ujian-medsi.html', 'https://www.ipendidikan.my/spdpr-kpm.html', 'https://www.ipendidikan.my/surat-rasmi.html', 'https://www.ipendidikan.my/tadika-islam-maiwp.html', 'https://www.ipendidikan.my/takwim-peperiksaan-dan-pentaksiran-awam.html', 'https://www.ipendidikan.my/takwim-tarikh-kemasukan-markah-saps.html', 'https://www.ipendidikan.my/tarikh-mula-persekolahan.html', 'https://www.ipendidikan.my/tarikh-semakan-keputusan-upsr-online-sms.html', 'https://www.ipendidikan.my/tema-hari-guru-huraian-definisi.html', 'https://www.ipendidikan.my/tips-temuduga-program-pendidikan.html']\n"
     ]
    }
   ],
   "source": [
    "urls = sorted(list(set(all_a)))\n",
    "print(len(urls))\n"
   ]
  },
  {
   "cell_type": "code",
   "execution_count": 158,
   "metadata": {},
   "outputs": [],
   "source": [
    "with open('urls.json', 'w') as fopen:\n",
    "    json.dump(urls, fopen)"
   ]
  },
  {
   "cell_type": "code",
   "execution_count": 159,
   "metadata": {},
   "outputs": [
    {
     "name": "stderr",
     "output_type": "stream",
     "text": [
      "100%|██████████| 58/58 [00:04<00:00, 14.30it/s]\n"
     ]
    }
   ],
   "source": [
    "data = []\n",
    "for url in tqdm(urls):\n",
    "    r = requests.get(url)\n",
    "    soup = BeautifulSoup(r.text, \"lxml\")\n",
    "    li = [li.text for li in soup.find_all(\"li\") if li.get('class') is None]\n",
    "    p = [p.text for p in soup.find_all(\"p\") if len(p.text.split()) >= 100]\n",
    "    data.append({'li': li, 'p': p})"
   ]
  },
  {
   "cell_type": "code",
   "execution_count": 163,
   "metadata": {},
   "outputs": [
    {
     "name": "stderr",
     "output_type": "stream",
     "text": [
      "  3%|▎         | 2/58 [00:00<00:04, 12.37it/s]"
     ]
    },
    {
     "name": "stdout",
     "output_type": "stream",
     "text": [
      "['APDM KPM Aplikasi Pangkalan Data Murid Online']\n",
      "['Cara Pengiraan Pointer STPM Baharu']\n",
      "['Cara Mengira Berapa Patah Perkataan Dalam Karangan BM']\n"
     ]
    },
    {
     "name": "stderr",
     "output_type": "stream",
     "text": [
      " 10%|█         | 6/58 [00:00<00:03, 14.41it/s]"
     ]
    },
    {
     "name": "stdout",
     "output_type": "stream",
     "text": [
      "['Cara Mudah Menghafal Dengan Mudah Dan Cepat']\n",
      "['Contoh Surat Tidak Hadir Ke Sekolah (Sakit & Alasan Lain)']\n",
      "['Doa Ketika Menghadapi Peperiksaan Dan Doa Mudah Belajar']\n"
     ]
    },
    {
     "name": "stderr",
     "output_type": "stream",
     "text": [
      " 14%|█▍        | 8/58 [00:00<00:03, 13.93it/s]"
     ]
    },
    {
     "name": "stdout",
     "output_type": "stream",
     "text": [
      "['Semak Keputusan Ujian & Peperiksaan MRSM Online (e-Semakan)']\n",
      "['Format Baharu Instrumen STAM 2020']\n",
      "['Format Baharu SPM 2021 (Sijil Pelajaran Malaysia)']\n",
      "['Format Kertas Bahasa Melayu SPM Terkini 2021 (1103)']\n"
     ]
    },
    {
     "name": "stderr",
     "output_type": "stream",
     "text": [
      " 21%|██        | 12/58 [00:00<00:03, 14.03it/s]"
     ]
    },
    {
     "name": "stdout",
     "output_type": "stream",
     "text": [
      "['Format Kertas Sejarah SPM Terkini 2021 (1249)']\n",
      "['Gred Markah Peperiksaan UPSR, PT3 dan SPM']\n",
      "['Jadual Karnival Pendidikan Tinggi Negara 2024 (Jom Masuk U)']\n",
      "['Jadual Peperiksaan SPMU 2024 (SPM Ulangan)']\n"
     ]
    },
    {
     "name": "stderr",
     "output_type": "stream",
     "text": [
      " 28%|██▊       | 16/58 [00:01<00:02, 14.59it/s]"
     ]
    },
    {
     "name": "stdout",
     "output_type": "stream",
     "text": [
      "['Jadual Waktu Peperiksaan STAM 2023 Exam Date']\n",
      "['Jadual Waktu Peperiksaan SPM 2023']\n",
      "['Jadual Waktu Peperiksaan UPKK 2023 KAFA']\n",
      "['Jenis-Jenis Pengenalan Dalam Penulisan Karangan']\n"
     ]
    },
    {
     "name": "stderr",
     "output_type": "stream",
     "text": [
      " 34%|███▍      | 20/58 [00:01<00:02, 14.80it/s]"
     ]
    },
    {
     "name": "stdout",
     "output_type": "stream",
     "text": [
      "['Syarat Kemasukan JMTI & Kursus Institut Teknikal Jepun Malaysia']\n",
      "['Kesalahan Bahasa Yang Lazim Dalam Penulisan Karangan Bahasa Melayu (BM)']\n",
      "['Login Google Classroom (GC) KPM & Cara Sign In Murid/ Guru']\n",
      "['Login SAPS NKRA Analisis Keputusan Peperiksaan']\n"
     ]
    },
    {
     "name": "stderr",
     "output_type": "stream",
     "text": [
      " 41%|████▏     | 24/58 [00:01<00:02, 15.46it/s]"
     ]
    },
    {
     "name": "stdout",
     "output_type": "stream",
     "text": [
      "['Tips Menulis Karangan Bahasa Inggeris']\n",
      "['Pendaftaran Calon Persendirian 2023 SPM & SPM Ulangan (SPMU)']\n",
      "['Koleksi Peribahasa Melayu Dan Simpulan Bahasa & Maksud']\n",
      "['Permohonan Bantuan Kewangan KPM 2020 Golongan Berpendapatan Rendah & OKU']\n"
     ]
    },
    {
     "name": "stderr",
     "output_type": "stream",
     "text": [
      " 48%|████▊     | 28/58 [00:01<00:01, 15.04it/s]"
     ]
    },
    {
     "name": "stdout",
     "output_type": "stream",
     "text": [
      "['Borang Permohonan Biasiswa Yayasan Bank Rakyat 2020 Online']\n",
      "['Permohonan Hadiah Skim Biasiswa Sukan KPM 2020']\n",
      "['Permohonan Diploma in Occupational Safety And Health (DOSH) 2020 Online']\n"
     ]
    },
    {
     "name": "stderr",
     "output_type": "stream",
     "text": [
      " 55%|█████▌    | 32/58 [00:02<00:01, 14.98it/s]"
     ]
    },
    {
     "name": "stdout",
     "output_type": "stream",
     "text": [
      "['Permohonan Biasiswa Ijazah Sarjana Muda Pendidikan ISMP 2024 Online']\n",
      "['Permohonan MRSM 2024 Tingkatan 1 & 4 Online']\n",
      "['Permohonan Program Asasi Kolej MARA 2024 Online']\n",
      "['Permohonan UPU Online 2024/2025 Kemasukan Ke UA Politeknik ILKA']\n"
     ]
    },
    {
     "name": "stderr",
     "output_type": "stream",
     "text": [
      " 62%|██████▏   | 36/58 [00:02<00:01, 12.56it/s]"
     ]
    },
    {
     "name": "stdout",
     "output_type": "stream",
     "text": [
      "['Senarai Politeknik Seluruh Malaysia Dan Kursus Yang Ditawarkan']\n",
      "['Senarai Program Asasi Yang Ditawarkan Di UA/ IPTA']\n",
      "['Senarai Program Diploma Dan Asasi UiTM']\n"
     ]
    },
    {
     "name": "stderr",
     "output_type": "stream",
     "text": [
      " 69%|██████▉   | 40/58 [00:02<00:01, 13.13it/s]"
     ]
    },
    {
     "name": "stdout",
     "output_type": "stream",
     "text": [
      "['Senarai Ranking SBP Dan MRSM Sekolah Terbaik SPM 2022']\n",
      "['Maksud Prinsip Rukun Negara & Kepentingan']\n",
      "['SAPS Ibu Bapa 2024 Semak Keputusan Peperiksaan SK/ SMK']\n",
      "['Semakan BPPT Kad Debit Pelajar 2019 Secara Online']\n"
     ]
    },
    {
     "name": "stderr",
     "output_type": "stream",
     "text": [
      " 76%|███████▌  | 44/58 [00:03<00:00, 14.75it/s]"
     ]
    },
    {
     "name": "stdout",
     "output_type": "stream",
     "text": [
      "['Semakan Keputusan IPG 2024 Online Calon Guru PISMP Lulusan SPM']\n",
      "['Semakan Keputusan Matrikulasi 2024-2025 Online (Tawaran & Rayuan)']\n",
      "['Semakan Keputusan PT3 2019 Secara Online dan SMS']\n",
      "['Semakan Keputusan SPM 2022 SMS Dan Aplikasi Online']\n"
     ]
    },
    {
     "name": "stderr",
     "output_type": "stream",
     "text": [
      " 79%|███████▉  | 46/58 [00:03<00:00, 15.10it/s]"
     ]
    },
    {
     "name": "stdout",
     "output_type": "stream",
     "text": [
      "['Semakan Keputusan STAM 2023 Online & SMS (Check Result)']\n",
      "['Semakan UKCG 2024 Online (Ujian Kelayakan Calon Guru PISMP)']\n",
      "['Senarai Biasiswa Terkini 2021 (Lepasan SPM/ STPM)']\n"
     ]
    },
    {
     "name": "stderr",
     "output_type": "stream",
     "text": [
      " 86%|████████▌ | 50/58 [00:03<00:00, 14.13it/s]"
     ]
    },
    {
     "name": "stdout",
     "output_type": "stream",
     "text": [
      "['Soalan Percubaan SPM 2020/ 2019 Dan Skema Jawapan (Trial Papers)']\n",
      "['Contoh Soalan Ujian MEdSI Dan Tips Untuk Menjawab']\n",
      "['Login SPdPR KPM & Panduan Pendaftaran Kelas PdPR']\n",
      "['Contoh Surat Rasmi : Format Dan “Template” Terkini Yang Betul']\n"
     ]
    },
    {
     "name": "stderr",
     "output_type": "stream",
     "text": [
      " 93%|█████████▎| 54/58 [00:03<00:00, 15.43it/s]"
     ]
    },
    {
     "name": "stdout",
     "output_type": "stream",
     "text": [
      "['Permohonan Tadika Islam MAIWP 2022 Online (Borang Pendaftaran)']\n",
      "['Tarikh Peperiksaan Awam 2023 UPSR PT3 SPM STAM PAV SPMU']\n",
      "['Takwim Tarikh Kemasukan Markah SAPS 2021 (Peperiksaan Dalaman)']\n",
      "['Tarikh Buka Sekolah 2024 KPM (Kumpulan A & B)']\n"
     ]
    },
    {
     "name": "stderr",
     "output_type": "stream",
     "text": [
      "100%|██████████| 58/58 [00:04<00:00, 14.32it/s]"
     ]
    },
    {
     "name": "stdout",
     "output_type": "stream",
     "text": [
      "['Semakan Keputusan UPSR 2019 Online Dan SMS']\n",
      "['Tema Hari Guru 2023 Guru Insani Pemangkin Generasi Madani']\n",
      "['Tips Menduduki Temuduga Program Pendidikan']\n"
     ]
    },
    {
     "name": "stderr",
     "output_type": "stream",
     "text": [
      "\n"
     ]
    }
   ],
   "source": [
    "data = []\n",
    "for url in tqdm(urls):\n",
    "    r = requests.get(url)\n",
    "    soup = BeautifulSoup(r.text, \"lxml\")\n",
    "    li = [li.text for li in soup.find_all(\"li\") if li.get('class') is None]\n",
    "    p = [p.text for p in soup.find_all(\"p\") if len(p.text.split()) >= 100]\n",
    "    h1 = [h1.text for h1 in soup.find_all(\"h1\")]\n",
    "    images = [img.get('src') for img in soup.find_all(\"img\")]\n",
    "    data.append({'title': h1,'li': li, 'p': p, 'images': images})"
   ]
  },
  {
   "cell_type": "code",
   "execution_count": 164,
   "metadata": {},
   "outputs": [],
   "source": [
    "with open('ipendidikan.jsonl', 'w') as fopen:\n",
    "    json.dump(data, fopen)"
   ]
  },
  {
   "cell_type": "code",
   "execution_count": 165,
   "metadata": {},
   "outputs": [
    {
     "name": "stdout",
     "output_type": "stream",
     "text": [
      "58\n"
     ]
    }
   ],
   "source": [
    "print(len(data))"
   ]
  },
  {
   "cell_type": "code",
   "execution_count": null,
   "metadata": {},
   "outputs": [],
   "source": []
  }
 ],
 "metadata": {
  "kernelspec": {
   "display_name": ".venv",
   "language": "python",
   "name": "python3"
  },
  "language_info": {
   "codemirror_mode": {
    "name": "ipython",
    "version": 3
   },
   "file_extension": ".py",
   "mimetype": "text/x-python",
   "name": "python",
   "nbconvert_exporter": "python",
   "pygments_lexer": "ipython3",
   "version": "3.11.4"
  }
 },
 "nbformat": 4,
 "nbformat_minor": 2
}
