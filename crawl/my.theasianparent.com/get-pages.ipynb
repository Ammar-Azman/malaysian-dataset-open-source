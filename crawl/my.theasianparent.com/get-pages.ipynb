{
 "cells": [
  {
   "cell_type": "code",
   "execution_count": 1,
   "metadata": {},
   "outputs": [],
   "source": [
    "import requests\n",
    "from bs4 import BeautifulSoup\n",
    "from tqdm import tqdm\n",
    "import os\n",
    "import json\n",
    "import numpy as np\n",
    "import time\n",
    "import random\n",
    "import json\n",
    "import urllib3\n",
    "urllib3.disable_warnings(urllib3.exceptions.InsecureRequestWarning)"
   ]
  },
  {
   "cell_type": "code",
   "execution_count": 20,
   "metadata": {},
   "outputs": [
    {
     "data": {
      "text/plain": [
       "1023"
      ]
     },
     "execution_count": 20,
     "metadata": {},
     "output_type": "execute_result"
    }
   ],
   "source": [
    "from glob import glob\n",
    "\n",
    "files = glob('url/*.json')\n",
    "urls = []\n",
    "for f in files:\n",
    "    with open(f) as fopen:\n",
    "        data = json.load(fopen)\n",
    "        data = [d['link'] for d in data['data']['resource_articles']]\n",
    "        urls.extend(data)\n",
    "urls = sorted(list(set(urls)))\n",
    "len(urls)"
   ]
  },
  {
   "cell_type": "code",
   "execution_count": 21,
   "metadata": {},
   "outputs": [],
   "source": [
    "r = requests.get(urls[0])\n",
    "soup = BeautifulSoup(r.content, \"lxml\")"
   ]
  },
  {
   "cell_type": "code",
   "execution_count": 24,
   "metadata": {
    "scrolled": false
   },
   "outputs": [
    {
     "data": {
      "text/plain": [
       "'1 or 2 centimetres dilated - what exactly does it mean?'"
      ]
     },
     "execution_count": 24,
     "metadata": {},
     "output_type": "execute_result"
    }
   ],
   "source": [
    "soup.find('h1').text"
   ]
  },
  {
   "cell_type": "code",
   "execution_count": 27,
   "metadata": {},
   "outputs": [
    {
     "data": {
      "text/plain": [
       "'As you reach your ninth month of pregnancy in your final trimester, your doctor\\xa0will give you an internal exam to check\\xa0your cervix for any early signs of labour (e.g. if you’re dilated) and during this check-up she will also see if your \\nbaby’s head is engaged\\n.\\n\\n\\nAfter\\xa0confirming whether your cervix has dilated (opened up) and effaced (thinned out) and if it has started\\xa0to soften and move to the front of the vagina, she\\xa0might be able to\\xa0give you an estimate date as to\\xa0when you can expect to deliver.\\n\\n\\nBut how dilated do you have to be and what does it mean if you are 1cm dilated?\\n\\n\\nCervix dilation\\n\\n\\nIf you touch the tip of your nose, that is pretty similar to how your cervix feels before labour.\\n\\n\\nNormally it will also be slightly firm and closed, so as to protect your growing baby from the outside world.\\n\\n\\nBut as your body prepares for labour, y\\nour cervix will get very soft, \\nstart to dilate and\\xa0\\nalso thins out (otherwise known as cervical effacement).\\n\\n\\nSo before your baby can make her grand debut, your cervix must be completely dilated and thinned out.\\n\\n\\nCervical effacement\\n\\n\\nNot only does your cervix have to be open all the way, but it also needs to thin out completely for your baby to be born.\\n\\n\\nAs your labour progresses, your hard and long cervix will gradually thin out over time.\\n\\n\\nCervical effacement is measured in percentage, so when your cervix is 100% effaced, that’s when it is thin enough (paper thin, in fact!) for your bub to easily pass through.\\n\\n\\n\\n\\nBe patient, because your cervix can be dilated for weeks before you even go into labour\\n\\n\\n\\n\\nIs it a sign that you’re going into labour?\\n\\n\\nYou might think that being at least 1cm dilated means that you’ll be giving birth some time soon, but this is not usually the case.\\n\\n\\nCervix dilation does not indicate when exactly you will go into labour or how fast your\\n\\xa0labour will be — in fact,\\n\\xa0you can even be dilated by a few centimetres for a few weeks before going into labour!\\n\\n\\nHowever, even if your cervix is still completely closed, you could possibly go into labour the very same day, because every woman’s body is different and each pregnancy is unique.\\n\\n\\n\\n\\nWhen your cervix is 10cm dilated, it is the same size as a bagel!\\n\\n\\n\\n\\n1cm to 10cm dilated\\n\\n\\nWhen you go into labour, your cervix will stretch from 0cm to be fully dilated at 10cm.\\n\\n\\nA vaginal exam will determine your cervix dilation and is measured by how many finger widths can fit into the opening of your cervix.\\n\\n\\nIf the tip of one finger can fit, this means that your cervix is 1cm dilated; if two finger tips can fit, that means it is 2cm.\\n\\n\\nAfter which, the distance the two fingers can stretch apart will indicate further cervix dilation.\\n\\n\\nBut what exactly happens at 1cm, all the way up to 10cm?\\n\\n\\n1cm dilated\\n\\n\\nYour cervix is the size of a single Cheerio and you can have your \\nhospital bag\\n on standby because your body is getting ready to give birth.\\n\\n\\n4cm dilated\\n\\n\\nBy now, your cervix is about the same size as a Ritz cracker — but i\\nf this is your first pregnancy, it might take you a little longer to\\xa0go through the early stages of labour.\\n\\n\\n7cm dilated\\n\\n\\nWould you believe that your cervix is now around the same diameter as a soda can?\\n\\n\\n“\\nActive labour\\n” would have started by now, causing your cervix to dilate faster, so your contractions will be stronger, longer, more regular and painful!\\n\\n\\n10cm dilated\\n\\n\\nOnce you are 10cm dilated, your cervix is considered fully open and is the same size as a bagel!\\nPartner Stories\\nMenjadi ibu bapa\\nIbu-Ibu, Ini Cara Untuk Kembali Yakin Dengan Diri Sendiri Selepas Pembedahan C-Section! Tiada Lagi Parut Ketara\\nGaya Hidup\\nTips untuk Tingkatkan Sistem Pertahanan Badan Sekeluarga. Ambillah Susu - Sumber Protein Berkualiti Tinggi!\\nKeibubapaan\\nBaki Tali Pusat Bayi Ada 5 Masalah Ini? Parents, Ini Yang Anda Perlu Lakukan Untuk Bayi Anda\\nKehamilan\\n8 produk kehamilan anda harus miliki dari Maternity Exchange!\\n\\n\\nYou might even be told to prepare yourself to start pushing as soon as your cervix has completely effaced.\\n\\n\\n\\n\\nSome women suggest that it helps to visualise your cervix opening up like a flower in bloom\\n\\n\\n\\n\\nHow to get your cervix dilated\\n\\n\\nAlthough it’s probably best to just let your body do it’s own thing naturally, there are a few steps you can take to encourage your cervix to dilate a bit faster:\\n\\n\\nPositive visualisation\\n\\n\\nIt’s good to stay calm, think positively and visualise your cervix opening up as you repeat the following affirming message to yourself:\\n\\n\\n“My cervix is opening, like a flower. \\nMy pelvis is flexible and open.\\xa0\\nMy muscles are warm, heavy, and totally relaxed.”\\n\\n\\nWarm shower\\n\\n\\nBy taking a nice warm shower, it will help your tense muscles to relax and can ease tension as your body prepares itself for labour.\\n\\n\\nYou can also choose to soak for a while in a warm bath, but just make sure that someone is there to help you get in and out of the tub.\\n\\n\\nGentle massage\\n\\n\\nAsk your partner to give you a gentle massage, as this is another way to help you relax, which is beneficial to the whole process of cervical dilation.\\n\\n\\nYou can sit down or lie on your side in a comfortable position and play some soft music in the background to further add to the relaxing mood.\\n\\n\\nHave sex\\n\\n\\nSince your partner is already giving you massage anyway, you might want to try having sexual intercourse, as the\\xa0\\nhormones found in semen (prostaglandins) can actually help your cervix to dilate and efface!\\n\\n\\nAfter you have an orgasm or stimulate your nipples, your body will release \\noxytocin\\n, which is another hormone that helps to encourage cervical dilation.\\n\\n\\nLong, slow strides\\n\\n\\nGoing up and down some stairs by taking long and slow strides can also help with cervix dilation.\\n\\n\\nBy walking wider and slower than normal, this causes your cervix to stretch and eventually dilate.\\n\\n\\nEmpty your bladder\\n\\n\\nA full bladder could inhibit contractions so there will be less pressure on your cervix, which in turn will result in a slower dilation.\\n\\n\\nSo although it’s good to stay hydrated, remember to urinate regularly to help speed things along!\\n\\n\\nLight exercise\\n\\n\\nYou don’t have to go to a Zumba class or have an intense workout in an attempt to jiggle your baby out — by walking around as much as you can, your bub will gradually move down into your birth canal, thanks to all your body movement and gravity.\\n\\n\\nThe pressure from your little one’s\\n\\xa0head pressing down on your cervix may also help with dilation and effacement, which can also trigger contractions that further encourage dilation.\\xa0\\n\\n\\nTake it easy\\n\\n\\nDon’t let the numbers worry you and try not to get too hung up over how dilated you are.\\n\\n\\nThere is a possibility that even if y\\nou are having a lot of contractions, you may not even be dilated yet — or although you may not be having that many contractions yet, your cervix could already be dilating!\\n\\n\\nJust let your body do it’s own thing and try to stay as calm and relaxed as you can to prepare yourself for delivery that’s probably just around the corner.\\n\\n\\n\\xa0\\n\\n\\nDo you have any other tips for mums anxiously waiting for their labour to start? Let us know by commenting below.\\n\\n\\nGot a parenting concern? Read articles or ask away and get instant answers on our app. Download \\n theAsianparent Community\\n on \\niOS\\n or \\nAndroid\\n now!'"
      ]
     },
     "execution_count": 27,
     "metadata": {},
     "output_type": "execute_result"
    }
   ],
   "source": [
    "soup.find('section', {'id':\"blogContentId\"}).get_text(separator=\"\\n\")"
   ]
  },
  {
   "cell_type": "code",
   "execution_count": 28,
   "metadata": {},
   "outputs": [],
   "source": [
    "!rm -rf page\n",
    "!mkdir page"
   ]
  },
  {
   "cell_type": "code",
   "execution_count": 29,
   "metadata": {},
   "outputs": [
    {
     "name": "stderr",
     "output_type": "stream",
     "text": [
      "1023it [37:10,  2.18s/it]\n"
     ]
    }
   ],
   "source": [
    "for no, url in tqdm(enumerate(urls)):\n",
    "    filename = os.path.join('page', f'{no}.json')\n",
    "    if os.path.exists(filename):\n",
    "        continue\n",
    "    \n",
    "    while True:\n",
    "        try:\n",
    "            r = requests.get(url)\n",
    "            break\n",
    "        except:\n",
    "            time.sleep(1.0)\n",
    "            \n",
    "    soup = BeautifulSoup(r.content, \"lxml\")\n",
    "    \n",
    "    try:\n",
    "        title = soup.find('h1').text\n",
    "    except:\n",
    "        title = None\n",
    "    \n",
    "    try:\n",
    "        body = soup.find('section', {'id':\"blogContentId\"}).get_text(separator=\"\\n\")\n",
    "    except:\n",
    "        body = None\n",
    "\n",
    "    data = {\n",
    "        'url': url,\n",
    "        'title': title,\n",
    "        'body': body,\n",
    "    }\n",
    "    with open(filename, 'w') as fopen:\n",
    "        json.dump(data, fopen)"
   ]
  },
  {
   "cell_type": "code",
   "execution_count": null,
   "metadata": {},
   "outputs": [],
   "source": []
  }
 ],
 "metadata": {
  "kernelspec": {
   "display_name": "Python 3 (ipykernel)",
   "language": "python",
   "name": "python3"
  },
  "language_info": {
   "codemirror_mode": {
    "name": "ipython",
    "version": 3
   },
   "file_extension": ".py",
   "mimetype": "text/x-python",
   "name": "python",
   "nbconvert_exporter": "python",
   "pygments_lexer": "ipython3",
   "version": "3.8.10"
  }
 },
 "nbformat": 4,
 "nbformat_minor": 4
}
