{
 "cells": [
  {
   "cell_type": "code",
   "execution_count": 1,
   "metadata": {},
   "outputs": [],
   "source": [
    "import requests\n",
    "import numpy as np\n",
    "from bs4 import BeautifulSoup\n",
    "from tqdm import tqdm\n",
    "from concurrent.futures import ThreadPoolExecutor, as_completed\n",
    "from glob import glob\n",
    "from tqdm import tqdm\n",
    "import time\n",
    "import json\n",
    "import os\n",
    "import gc"
   ]
  },
  {
   "cell_type": "code",
   "execution_count": 2,
   "metadata": {},
   "outputs": [
    {
     "data": {
      "text/plain": [
       "9"
      ]
     },
     "execution_count": 2,
     "metadata": {},
     "output_type": "execute_result"
    }
   ],
   "source": [
    "files = glob('forums/*.json')\n",
    "len(files)"
   ]
  },
  {
   "cell_type": "code",
   "execution_count": 3,
   "metadata": {},
   "outputs": [
    {
     "data": {
      "text/plain": [
       "3279"
      ]
     },
     "execution_count": 3,
     "metadata": {},
     "output_type": "execute_result"
    }
   ],
   "source": [
    "forums = []\n",
    "for f in files:\n",
    "    with open(f) as fopen:\n",
    "        forums.extend(json.load(fopen))\n",
    "        \n",
    "forums = sorted(list(set(forums)))\n",
    "len(forums)"
   ]
  },
  {
   "cell_type": "code",
   "execution_count": 8,
   "metadata": {},
   "outputs": [
    {
     "data": {
      "text/plain": [
       "'/threads/%E2%9C%88-trip-reviews-airlines-aircaft-types-youve-flown-with-opinions-discussions.1907524'"
      ]
     },
     "execution_count": 8,
     "metadata": {},
     "output_type": "execute_result"
    }
   ],
   "source": [
    "forums[1]"
   ]
  },
  {
   "cell_type": "code",
   "execution_count": 9,
   "metadata": {},
   "outputs": [],
   "source": [
    "url = 'https://www.skyscrapercity.com' + forums[1]\n",
    "r = requests.get(url, timeout = 5.0)\n",
    "soup = BeautifulSoup(r.content, \"lxml\")"
   ]
  },
  {
   "cell_type": "code",
   "execution_count": 10,
   "metadata": {},
   "outputs": [
    {
     "data": {
      "text/plain": [
       "'https://www.skyscrapercity.com/threads/%E2%9C%88-trip-reviews-airlines-aircaft-types-youve-flown-with-opinions-discussions.1907524'"
      ]
     },
     "execution_count": 10,
     "metadata": {},
     "output_type": "execute_result"
    }
   ],
   "source": [
    "url"
   ]
  },
  {
   "cell_type": "code",
   "execution_count": 14,
   "metadata": {},
   "outputs": [
    {
     "data": {
      "text/plain": [
       "[1, 2, 3, 6, 1, 2, 3, 6]"
      ]
     },
     "execution_count": 14,
     "metadata": {},
     "output_type": "execute_result"
    }
   ],
   "source": [
    "li = soup.find_all('li', {'class': 'pageNav-page'})\n",
    "max_page = []\n",
    "for a_ in li:\n",
    "    try:\n",
    "        max_page.append(int(a_.text))\n",
    "    except:\n",
    "        pass\n",
    "max_page"
   ]
  },
  {
   "cell_type": "code",
   "execution_count": 18,
   "metadata": {},
   "outputs": [],
   "source": [
    "td = soup.find_all('div', {'class': 'bbWrapper'})\n",
    "td = [td_.text.strip() for td_ in td]\n",
    "td = [td_ for td_ in td if len(td_)]"
   ]
  },
  {
   "cell_type": "code",
   "execution_count": 20,
   "metadata": {},
   "outputs": [],
   "source": [
    "def get_url(url):\n",
    "    while True:\n",
    "        try:\n",
    "            r = requests.get(url, timeout = 5.0)\n",
    "            break\n",
    "        except:\n",
    "            time.sleep(1.0)\n",
    "    soup = BeautifulSoup(r.content, \"lxml\")\n",
    "    li = soup.find_all('li', {'class': 'pageNav-page'})\n",
    "    max_page = []\n",
    "    for a_ in li:\n",
    "        try:\n",
    "            max_page.append(int(a_.text))\n",
    "        except:\n",
    "            pass\n",
    "\n",
    "    try:\n",
    "        max_page = max(max_page)\n",
    "    except:\n",
    "        max_page = -1\n",
    "    td = soup.find_all('div', {'class': 'bbWrapper'})\n",
    "    td = [td_.text.strip() for td_ in td]\n",
    "    td = [td_ for td_ in td if len(td_)]\n",
    "    return url, td, max_page"
   ]
  },
  {
   "cell_type": "code",
   "execution_count": 21,
   "metadata": {},
   "outputs": [
    {
     "data": {
      "text/plain": [
       "('https://www.skyscrapercity.com/threads/%E2%9C%88-trip-reviews-airlines-aircaft-types-youve-flown-with-opinions-discussions.1907524',\n",
       " [\"Not really sure if this is the right place to start the thread or there is a similar thread already. If it isn't, mods please advice and move it to the correct location or remove completely.\\n\\nOkay, so I thought we should have a thread to discuss about other carriers and their services (since Malaysian airlines have their dedicated threads here already), the aircraft typing of those airlines and your thoughts, and maybe your trip reports (it'd be nice to have them in one place instead of having them in different threads).\\n\\nI guess I will start with my first trip report video here:\\n\\nhttps://www.youtube.com/watch?v=c3xCW75mZUk\",\n",
       "  '^^\\n\\nVery nice trip review - keep it coming lor !!!',\n",
       "  'I\\'ve posted part of this in the Rayani Air thread but this is the report of the full trip.\\n\\nLink to trip report\\n\\n\\n\\nRttlnSnK said:\\n\\n\\n\\nThis is my second trip report on here, and another one on Malaysia Airlines business class via MHUpgrade. My english is not that good so sorry for any grammatical issues. For the outbound, I chose to fly on Malaysia\\'s newest airline, Rayani Air, which is fully Shariah compliant if that is important to some. I was actually looking to go to Penang again but had noticed some really low fares to Kota Kinabalu which had swayed my desicion. The flight to BKI (Malaysia\\'s second busiest airport) takes around 2 h 30 mins to travel across the South China Sea. So, here we go!\\n\\nRayani Air\\nRN130\\nKUL-BKI\\nBoeing 737-4H6\\n9M-RKA\\nEconomy Class\\nSeat 15A\\n27th February 2016\\nSTD: 1245\\nSTA: 1520\\n\\n\\n\\n\\n\\n\\n\\n\\n\\n\\nI arrived at KLIA2 about 3 hours before departure to find the check in counters closed.\\n\\n\\n\\n\\n\\n\\n\\n\\n\\nEntrance to KLIA2\\n\\n\\n\\n\\n\\n\\n\\n\\n\\nKLIA2 Departure Board\\n\\nA check of the FIDS shows that my flight is still not open for check in. At least it is still not cancelled. Rayani has a tendency to cancel flights if the load is too low or the aircraft has gone to tech. Teething problems for a new airline, especially one with only 2 used ex-MH 734. \\n\\n2 hours 45 mins prior to departure the agents showed up and a short line has formed at the counters. RN uses row S counters at the far left of the KLIA2 check in hall. Online checkin is still not available on this new airline. \\n\\n\\n\\n\\n\\n\\n\\n\\n\\nRayani Air Check In Counters\\n\\nI have read before that the window seats behind the emergency exit row has extra legroom, which is what the agent has assigned to me. Unfortunately the agent is not well versed on the layout of the plane. As a result, the row assigned was one row behind the one I want. Well, request the seats using the proper seat number next time then. As there are still 2 hours till departure, I took a train to the main KLIA terminal to do some planespotting.\\n\\n\\n\\n\\n\\n\\n\\n\\n\\nKLIA main terminal\\n\\n\\n\\n\\n\\n\\n\\n\\n\\nPlanespotting at KLIA\\n\\n\\n\\n\\n\\n\\n\\n\\n\\nMalaysia 737 taxiing\\n\\n\\n\\n\\n\\n\\n\\n\\n\\nQuiet traffic at KUL\\n\\nAs seen in the images, KUL is quite empty at this time.\\n\\n\\n\\n\\n\\n\\n\\n\\n\\nMalaysia A330 and ANA 787 at Satellite Terminal\\n\\n\\n\\n\\n\\n\\n\\n\\n\\nThe now retired Malaysia Airlines 777\\n\\nOn the way back, I spotted a dash of green among the sea of red and\\nwhite. The 734 has arrived from KCH. Pretty neat looking livery too although they just pained the MH\\'s red cheatline and engine green. It is parked between an OD 738 and an AK A320.\\n\\n\\n\\n\\n\\n\\n\\n\\n\\nRayani 737, Malindo 737 and AirAsia A320\\n\\nQuite happy to know that my flight is not delayed.\\nGate J13 is quite a trek from the departure hall, requiring a 15 minutes long walk. \\n\\n\\n\\n\\n\\n\\n\\n\\n\\nDomestic Departure Hall of KLIA2\\n\\nBoarding was called 20 minutes to departure but I waited until the gate holding area to be almost empty before boarding, trying to snap more pictures of this unique looking jet. Unfortunately the windows arrangement of KLIA2 did not allow photos from nicer angles to be taken. 9M-RKA was an ex-Malaysia Airlines bird delivered in 1992 as 9M-MMK. It was retired in 2014 before being acquired by Rayani Air. \\n\\n\\n\\n\\n\\n\\n\\n\\n\\nRayani Air 737\\n\\n\\n\\n\\n\\n\\n\\n\\n\\nRayani Air 737\\n\\n\\n\\n\\n\\n\\n\\n\\n\\nBoarding Process\\n\\n\\n\\n\\n\\n\\n\\n\\n\\nClose up of 9M-RKA\\'s nose\\n\\n\\n\\n\\n\\n\\n\\n\\n\\nFuselage and Engine View\\n\\nThe interior is nicely maintained and clean, albeit a bit dated. The seats are identical to those used by MH before they retired the 734s. The cabin is basically a time capsule of MH\\'s 734. Seat pitch is quite generous, more than the 738 used by MH today and comparable to Malindo\\'s 737. The load is quite healthy in Y, but none of the J seats are taken. I suppose they are not established enough to have people willing to pay for J. Seat 14A, the seat that I originally wanted has extra legroom since the row in front consists of only 2 seats. Its compatriot 14F across the aisle also has the additional legroom.\\n\\n\\n\\n\\n\\n\\n\\n\\n\\nBusiness Class Cabin\\n\\n\\n\\n\\n\\n\\n\\n\\n\\nBusiness Class Seats\\n\\n\\n\\n\\n\\n\\n\\n\\n\\nView on Boarding\\n\\n\\n\\n\\n\\n\\n\\n\\n\\nLegroom\\n\\nAn islamic prayer is done by the FA during taxi. The brakes on this 734 made a loud grumbling noise whenever the pilot applied the brakes. \\nThe taxi at KUL takes a really long time. We were behind an AK A320 waiting to takeoff and was held at the runway for 2 flights to land. \\n\\nVideo of takeoff:\\nRayani Air 737-4H6 takeoff KUL-BKI - YouTube\\n\\n\\n\\n\\n\\n\\n\\n\\n\\nView from Seat 15A\\n\\n20 minutes after takeoff a snackbox was served. It contained a muffin, blueberry syrup and a small pack of nuts. My tray table has some stains which was not cleaned properly. \\n\\n\\n\\n\\n\\n\\n\\n\\n\\nCommencement of snack service\\n\\n\\n\\n\\n\\n\\n\\n\\n\\nSnack box\\n\\n\\n\\n\\n\\n\\n\\n\\n\\nContents of snack box\\n\\nThe BOB cart was then rolled out after another 20 minutes. Apparently they are not a full service airline as they claim on their website, which was kind of odd.\\n\\nI did try the nasi lemak (MYR12, USD3) with a can of Sprite (MYR5, USD1.25), which tasted decent. The nasi lemak is identical to those found on Malaysia\\'s ETS express train service, just that it costs twice as much.\\n\\n\\n\\n\\n\\n\\n\\n\\n\\nNasi Lemak and Sprite\\n\\nThe FAs are inexperienced but they did try their best to serve the passengers. They did always maintain a smiling face which is much\\nappreciated.\\n\\n\\n\\n\\n\\n\\n\\n\\n\\nObligatory Lavatory Shot\\n\\n\\n\\n\\n\\n\\n\\n\\n\\nLavatory Shot No.2\\n\\nI relocated to the last row of the plane at the end of the flight\\nafter a lavatory visit and a brief chat with the crew about the new\\nairline.\\n\\n\\n\\n\\n\\n\\n\\n\\n\\nCabin shot\\n\\n\\n\\n\\n\\n\\n\\n\\n\\nOverhead Panel\\n\\nSales of merchandise commenced with 30 minutes left to landing. They already had an impressive collection of merchandise for such a new airline including a model plane.\\n\\n\\n\\n\\n\\n\\n\\n\\n\\nMerchandise Cart\\n\\n\\n\\n\\n\\n\\n\\n\\n\\nPassing by Labuan Island (LBU)\\n\\n\\n\\n\\n\\n\\n\\n\\n\\nView on final approach\\n\\nThe flight arrived at the gate on schedule, marking the end of a relatively pleasant flight on this new airline. There is nothing much to complain about, besides the dirty tray table.\\n\\n\\n\\n\\n\\n\\n\\n\\n\\nCabin on disembarkation\\n\\n\\n\\n\\n\\n\\n\\n\\n\\n9M-RKA at BKI. It will do a BKI-KCH-BKI rotation before returning to KUL.\\n\\nIf they can sort out their scheduling and flight cancellation woes, Rayani Air will provide decent competition in Malaysia\\'s ever growing aviation scene. As first impressions go, this is a good one. Now, to something more exciting...\\n\\nMalaysia Airlines\\nMH2617\\nKUL-BKI\\nBoeing 737-8H6\\n9M-MSD\\nBusiness Class\\nSeat 1A\\n28th February 2016\\nSTD: 2200\\nSTA: 0025+1\\n\\nA day later, it is time to end this short trip to Kota Kinablu. I took the last bus (7:15pm) to the airport for my 10pm flight. Check in for business class is deserted. I was processed by a indifferent agent. Not a very good start to the whole business class experience.\\n\\n\\n\\n\\n\\n\\n\\n\\n\\nBKI Departure Drop-off\\n\\n\\n\\n\\n\\n\\n\\n\\n\\nBKI, also known as KKIA (Kota Kinabalu International Airport)\\n\\n\\n\\n\\n\\n\\n\\n\\n\\nCheck-in area\\n\\n\\n\\n\\n\\n\\n\\n\\n\\nBusiness Class Counters\\n\\n\\n\\n\\n\\n\\n\\n\\n\\nBKI Domestic Airside\\n\\nI passed by the gate assigned to my flight and saw the plane that will take me back to Kuala Lumpur, 9M-MSD, a 2.9 year old 737-8H6 with the gorgeous Sky Interior and IFE. I was quite pleased that the flight is not operated by the leased, non BSI planes.\\n\\n\\n\\n\\n\\n\\n\\n\\n\\n9M-MSD\\n\\nThe MAS Domestic Golden Lounge is located at the far end of the terminal, near the gates to the regional turboprop flights. It is located beside the Plaza Premium Priority Pass Lounge. \\n\\n\\n\\n\\n\\n\\n\\n\\n\\nDomestic Lounges\\n\\n\\n\\n\\n\\n\\n\\n\\n\\nGolden Lounge Entrance\\n\\nUpon entering the lounge, I was checked in by a friendly agent. The lounge has various type of seats. It is about the same size as the domestic lounge at KUL which I had reviewed before. However, the decor is much nicer. The lounge is quite empty throughout my stay, with only a handful of people inside.\\n\\n\\n\\n\\n\\n\\n\\n\\n\\nLounge Entrance\\n\\n\\n\\n\\n\\n\\n\\n\\n\\nA330 Model\\n\\n\\n\\n\\n\\n\\n\\n\\n\\nLounge Seating\\n\\n\\n\\n\\n\\n\\n\\n\\n\\nLounge Seating\\n\\n\\n\\n\\n\\n\\n\\n\\n\\nLounge Dining Area\\n\\n\\n\\n\\n\\n\\n\\n\\n\\nTarmac Views. The runway is visible when the sun is up.\\n\\n\\n\\n\\n\\n\\n\\n\\n\\nLounge Seating with Tarmac Views\\n\\nIndeed, the whole terminal is deserted as my flight is one of the last ones out from BKI. I took a shower before settling down at the dining area. The single shower room is surprisingly nice, better than the one at KUL. The shower room is located within the male washroom.\\n\\n\\n\\n\\n\\n\\n\\n\\n\\nWashroom Entrance\\n\\n\\n\\n\\n\\n\\n\\n\\n\\nShower Room\\n\\n\\n\\n\\n\\n\\n\\n\\n\\nShower Room\\n\\nThe food spread is a small buffet with only a small choice of mains: steamed white rice with Kapitan chicken, sweet and sour fish and poached vegetables. The food tastes acceptable, but in a bland way. I also had a latte, which is not very good, and some sandwiches. No alcohol is served in the lounge, as is on any domestic Malaysia Airlines flights.\\n\\n\\n\\n\\n\\n\\n\\n\\n\\nLounge Drinks Selection\\n\\n\\n\\n\\n\\n\\n\\n\\n\\nFood Spread\\n\\n\\n\\n\\n\\n\\n\\n\\n\\nHot mains\\n\\n\\n\\n\\n\\n\\n\\n\\n\\nSnacks and Fruits\\n\\n\\n\\n\\n\\n\\n\\n\\n\\nCoffee Bar\\n\\n\\n\\n\\n\\n\\n\\n\\n\\nSteamed Rice with Kapitan Chicken, Sweet and Sour Fish and Poached Vegetables\\n\\n\\n\\n\\n\\n\\n\\n\\n\\nLatte with Soup Noodles\\n\\n\\n\\n\\n\\n\\n\\n\\n\\nSandwiches and Mango Juice\\n\\nI left the lounge 30 minutes before departure, only to see that boarding is already well underway. The whole gate area is almost empty. I was one of the last ones onboard.\\n\\n\\n\\n\\n\\n\\n\\n\\n\\n\"Priority\" Boarding\\n\\n\\n\\n\\n\\n\\n\\n\\n\\n9M-MSD ready to depart\\n\\n\\n\\n\\n\\n\\n\\n\\n\\nFuse and Engine\\n\\nThe business cabin has a total of 16 seats in 2-2 arrangement. Pitch is about 42 inches, quite decent for a short flight. The cabin does look phenomenal at night. A pillow and blanket is placed on every seat. \\n\\n\\n\\n\\n\\n\\n\\n\\n\\nCabin on boarding\\n\\n\\n\\n\\n\\n\\n\\n\\n\\nMalaysia 737 Business Class Cabin\\n\\n\\n\\n\\n\\n\\n\\n\\n\\nMalaysia 737 Business Class Cabin\\n\\n\\n\\n\\n\\n\\n\\n\\n\\nMalaysia 737 Business Class Cabin\\n\\n\\n\\n\\n\\n\\n\\n\\n\\nMy seat\\n\\nI had pre assigned seat 1A which sounded good in theory. However, it is not a very good seat as the legroom isn\\'t much improved over the other rows, the IFE screen is at a weird angle, and there are virtually nowhere to store any personal belongings.\\n\\n\\n\\n\\n\\n\\n\\n\\n\\nLegroom shot\\n\\n\\n\\n\\n\\n\\n\\n\\n\\nPillow and Blanket\\n\\n\\n\\n\\n\\n\\n\\n\\n\\nRow 1 seat with legrest up\\n\\n\\n\\n\\n\\n\\n\\n\\n\\nPower outlet and USB port\\n\\n\\n\\n\\n\\n\\n\\n\\n\\nOverhead panel with gasper vents\\n\\nThe load today is very light, just 4 of the 16 seats are taken. The business cabin is served by the Inflight supervisor and another attendant. The crew on this flight is very good. A drink (juices or water) is served on the ground with a hot towel. I chose their \"signature\" pink guava juice.\\n\\n\\n\\n\\n\\n\\n\\n\\n\\nPink Guava Juice and hot towel\\n\\nThe door is closed several minutes before schedule. The taxi to the runway is very quick as the airport is not very big.\\n\\n\\n\\n\\n\\n\\n\\n\\n\\nCabin with lights dimmed\\n\\nThe IFE system is decent, but the headphones are atrocious. Unfortunately, the airshow is broken on my flight.\\n\\n\\n\\n\\n\\n\\n\\n\\n\\nIFE screen\\n\\n\\n\\n\\n\\n\\n\\n\\n\\nHeadphones\\n\\n10 minutes after takeoff the cabin lights are turned backed on. A drink is first served. I chose the Pulled tea, which was excellent as usual. Do note that MH doesn\\'t serve alcoholic drinks on all flights below 3 hours. It was served with 2 packs peanuts. \\n\\n\\n\\n\\n\\n\\n\\n\\n\\nTeh Tarik with prepacked nuts\\n\\nA supper consisting 2 scones, a finger sandwich and a small plate of fruit is served with a glass of water. No menu is provided for this flight. The scones tasted decent albeit a tad dry but the sandwich is not very good. The whole service is served in one tray but with proper china and metal ware. I was quite disappointed that a full meal service is not provided. A later chat with the FAs confirmed that a full meal is served if the flight is at a more suitable time. Something to look forward to in my future travels, then.\\n\\n\\n\\n\\n\\n\\n\\n\\n\\nThe supper service with scones, sandwiches and fruits\\n\\nAs I was finishing the supper, the FA appeared from behind the curtain and plopped down a hot dish with a chicken pie, egg pie and a kebab. The items were quite dry and not very good, to be frank. I was also quite full from the scones and the food consumed in the lounge so the dish was not finished.\\n\\n\\n\\n\\n\\n\\n\\n\\n\\nSecond course\\n\\n\\n\\n\\n\\n\\n\\n\\n\\nPost service water with peanuts\\n\\n\\n\\n\\n\\n\\n\\n\\n\\nCabin during cruise\\n\\n\\n\\n\\n\\n\\n\\n\\n\\nSeat 1A fully reclined\\n\\n\\n\\n\\n\\n\\n\\n\\n\\nMalaysia 737 Business Class Toiletries\\n\\n\\n\\n\\n\\n\\n\\n\\n\\nLavatory shot\\n\\nI actually spent a large portion of the flight chatting with the crews and gained quite some insight on the restructured Malaysia Airlines.\\nSeeing my enthusiasm, the FA gifted me a bag of the pre packaged nuts which was well appreciated. I guess this is the kind of personal touch that is crucial in providing long lasting memories for the passengers. Well done to the crew.\\n\\n\\n\\n\\n\\n\\n\\n\\n\\nLounging while watching something on the IFE\\n\\n\\n\\n\\n\\n\\n\\n\\n\\nThe bag of nuts\\n\\nI switched to the last row of the cabin before descent. I find it to be nicer compared to the first row, with better window views, less claustrophobic, an IFE screen within the line of sight of a normal human, and more spots to store small bags. The lights are turned backed on while a hot towel is passed out before landing. The lighting effects of the Sky Interior causes the cabin to look unbelievably cool. I really liked the blue theme of the Malaysia 737.\\n\\n\\n\\n\\n\\n\\n\\n\\n\\nDistribution of hot towel\\n\\n\\n\\n\\n\\n\\n\\n\\n\\nHot towel\\n\\n\\n\\n\\n\\n\\n\\n\\n\\nSeat 4F\\n\\nThe flight arrived at KUL at 0013, several minutes before schedule. We are one of the last flights to arrive at KLIA of the day. Almost every gate is occupied in the terminal, which would make a good photo from the viewing gallery. Unfortunately the viewing area is closed during the midnight.\\n\\n\\n\\n\\n\\n\\n\\n\\n\\nTouchdown at KLIA\\n\\n\\n\\n\\n\\n\\n\\n\\n\\nParked at the gate\\n\\n\\n\\n\\n\\n\\n\\n\\n\\nFinal look at my seat\\n\\n\\n\\n\\n\\n\\n\\n\\n\\nDeserted KLIA domestic concourse\\n\\nAll in all, this is a very pleasant flight in business class for a domestic sector. The FAs, seats and the service are all good, maybe lacking a slight bit of polish (menus, more proactive service). I\\'ve heard that MH crews are very inconsistent so that is one aspect to look out for. Still, for the price I paid I was very pleased on the whole experience.\\n\\nClick to expand...\\n\\nMy previous trip report: MH KUL-PEN J Class',\n",
       "  'You should put it into a spoiler tag',\n",
       "  'Airlines that Ive flown with\\n\\n1. Malaysia Airlines\\n2. Air Asia\\n3. Thai Airways\\n4. KLM\\n5. Air China\\n6. China Southern \\n7. China Eastern\\n8. Air China\\n9. Cathay pacific\\n10. Dragonair\\n11. Singapore Airlines\\n12. TAM Brazilian\\n13. Webjet\\n14. Icelandair\\n15. Lufthansa\\n16. British Airways\\n17. Malev Hungarian\\n18. Vueling\\n19. Spanair\\n20. Wizz Air\\n21. Emirates\\n22 Qatar\\n23 Qantas\\n24 Jestar\\n25 Air New Zealand\\n26 Malindo\\n27 Vietnam Airlines\\n28 Hong Kong Airlines\\n29 Xiamen Airlines\\n30 WestJet\\n31 Alaska Airlines\\n32 United \\n33 Northwest\\n34 Mandala Airlines\\n35 Eva Air\\n36 Sri Lankan \\n37 Tiger Airways\\n38 Germanwings \\n\\nAircraft that I have flown before\\nAirbus A319 \\nAirbus A320\\nAirbus A321\\nAirbus A330\\nAirbus A380\\n\\nBoeing 727\\nBoeing 737\\nBoeing 747\\nBoeing 757\\nBoeing 767\\nBoeing 777\\nBoeing 787',\n",
       "  \"^^ wow, I can see you're a really seasoned traveller.\\n\\nAs for me, airlines I've flown with were:\\n1. Malaysia Airlines\\n2. Singapore Airlines\\n3. Royal Brunei Airlines\\n4. MASWings\\n5. AirAsia\\n6. AirAsia X\\n7. Qantas\\n8. Xiamen Airlines\\n9. Ryanair\\n10. Easyjet\\n11. British Airways\\n12. Tiger Airways\\n13. Monarch Airlines\\n14. Silk Air\\n15. Aegen Airlines\\n16. Olympic Air\\n\\nAircraft I've flown with:\\nAirbus A319 (-100)\\nAirbus A320 (-200)\\nAirbus A321 (-200)\\nAirbus A330 (-300, -200)\\nAirbus A380 (-800)\\n\\nBoeing 737 (-400, -500, -800)\\nBoeing 777 (-200ER, -300ER)\\nBoeing 787 (-900)\\n\\nFokker F50\\nATR 72 (-500, -600)\",\n",
       "  'Air NZ service was pretty decent according to my friend trip from SG Changi to Auckland.',\n",
       "  \"Thought I'd chip in here:\\nAirlines I've flown on:\\nMalaysia Airlines,\\nAir Asia\\nAir Asia X\\nSingapore Airlines\\nBritish Airways\\nFlybe\\n\\nAircraft types:\\nAirbus A330-300\\nAirbus A330-200\\nAirbus A320-200\\nBoeing 737-400\\nBoeing 737-800\\nBoeing 777-200ER\\nBoeing 747-400\\nFokker 50 (Pelangi Air)\\nAirbus A380\\nBombardier Dash 8 Q400\",\n",
       "  'Züruckbleiben bitte\\n\\nhttps://quirkytransitandtravels.wordpress.com/\\n\\nQuick info on transit in Ireland: https://quirkytransitandtravels.wordpress.com/irish-transport-information/',\n",
       "  'MH001 Dec 2016\\n\\nMy trip report of MH001 from December 2016. Spoiler function did not work for me I\\'m afraid.\\n\\nI just got back from a tour of Edinburgh-Manchester-Liverpool, so I\\'ll try to write a trip report on Flybe.\\n\\n\\n\\nJonBlack95 said:\\n\\n\\n\\nChristmas in the West for university students would mean empty halls, and for us in the UK, exams exams exams. So it was with a bit of a reluctance that I agreed to the purchasing of a flight home (back in August) over the Christmas holidays.\\n\\nOn the other hand, I was somewhat looking forward to it since I have actually never flown MH longhaul, and the furthest I\\'ve been on MH is Shanghai and Melbourne, though oddly enough I\\'ve flown on virtually all of MH\\'s jet fleet (minus the A333) with such short domestic and regional routes. Also, ever since MAB started operations I was curious to see whether the MH experience had changed in any way.\\n\\nBA 1419 BHD-LHR\\nMy trip started at Belfast City Airport. It\\'s a very convenient airport located only 10mins from the city centre, 20mins away from the student halls by cab, and has quite the variety of flights. It is a major base for Flybe which means it also has flights to other parts of the UK like Inverness (Scotland), Liverpool etc. Other airlines that have a major presence here are Aer Lingus (which flies to LHR, LGW), British Airways (LHR), and also KLM Cityhopper plus Easyjet (IIRC).\\n\\nThe airport terminal building is small, and the drop off point was slightly to the left of the terminal, whereas pickups were around the same point and slightly up ahead. Quite confusing when described like that but that\\'s the best they could do with a limited space.\\n\\nA very amusing advertisement, seeing as I\\'m an LLB student as well:\\n\\n\\n\\n\\n\\n\\n\\n\\n\\nI had already managed to check-in online since 2 days ago, hence I only needed to do a bag drop. The MH check-in however, was quite disappointing. Due to a server error on their part I could only check-in 6 hours after the opening of the online check-in, meaning that the seats I wanted on the Upper Deck were gone by then.\\n\\nCheckin hall of BHD. The blackstripes are the flickering of the light frequency.\\n\\n\\n\\n\\n\\n\\n\\n\\n\\nAfter a 20 minute wait I managed to drop my bags within 10minutes, and from then it was a short trip through security (take off your shoes!), and then I was airside.\\n\\nAer Lingus had 2 A319s on the tarmac. This was one of them, named Conaed:\\n\\n\\n\\n\\n\\n\\n\\n\\n\\nAlso next to the Aer Lingus babybuses was PH-VKA. KLM\\'s first ever Fokker 70 which was quite a nice catch I suppose:\\n\\n\\n\\n\\n\\n\\n\\n\\n\\nA 1 hour wait later, my BA A320, reg G-EUUL landed and disgorged its passengers. Moments later it was our turn to board flight 1419 to LHR.\\n\\nThere is only 1 jetbridge at BHD and BA is the only user:\\n\\n\\n\\n\\n\\n\\n\\n\\n\\nIt was quite a light load for this flight, I think the plane was only 50% full since most of the seats behind me was empty. The light load meant that we pushed back and took off on time.\\n\\nTakeoff video. No idea what that scratchy sound is:\\n\\n\\n\\n\\n\\nThe short runway meant a short roll and soon we were at our cruising attitude. Having had 3 flights of BA, I can say that I\\'m quite a fan of them (on shorthops at least) due to their consistent service. On my previous morning flight to Belfast we were served a hot breakfast meal so I was expecting a meal of some sort for this evening flight.\\n\\nInstead, they gave out snacks--a choice of crisps, biscuits, or nuts.\\n\\nI chose Biscuits and got a very nice surprise.\\n\\n\\n\\n\\n\\n\\n\\n\\n\\n\\nI think it\\'s already obvious that I love shortbreads so when they came back for a second round, well...no surprises here:\\n\\n\\n\\n\\n\\n\\n\\n\\n\\nThe cabin during the flight:\\n\\n\\n\\n\\n\\n\\n\\n\\n\\nHaving 2 empty seats next to me meant that I could stretch out and lean against the wall, granting me a quick doze. When I woke up, we were already descending into LHR. Later on when I checked FR24, I found out that we were actually in a holding pattern 20mins before final approach, which explained why I got really confused judging the turns. I\\'m an avgeek so I usually try to guesstimate the approach path and landing runways.\\n\\nSomewhere over parts of London (no idea where):\\n\\n\\n\\n\\n\\n\\n\\n\\n\\nCloser and closer to the ground:\\n\\n\\n\\n\\n\\n\\n\\n\\n\\nLanding. Scratchy sound again:\\n\\n\\n\\n\\n\\nWe taxied to a remote gate at the T5 complex, deboarded by stairs and got into a bus which dropped us at the main T5 building.\\n\\n\\n\\n\\n\\n\\n\\n\\n\\n\\nHere\\'s a bus:\\n\\n\\n\\n\\n\\n\\n\\n\\n\\nMy Seat 17A:\\n\\n\\n\\n\\n\\n\\n\\n\\n\\nBA 777 on the other side:\\n\\n\\n\\n\\n\\n\\n\\n\\n\\nAs MH pushed forward our departure time by 30mins, I was left with only 2 hours to connect, and having experienced transit in LHR at its morning worst I had no time to lose.\\n\\nMH 001 LHR-KUL\\nInter-terminal connections airside at LHR is handled by a very purple Flight Connections Bus at 15mins interval (I think).\\n\\n\\n\\n\\n\\n\\n\\n\\n\\nThe ride to T4 took 15 minutes, and I stepped into the security check area ready to face a huge crowd....\\n\\n...Only to face an empty hall. Throughout the transit experience there was absolutely no queue. Within minutes I was airside at T4.\\n\\nT4 looks like Subang Parade:\\n\\n\\n\\n\\n\\n\\n\\n\\n\\nReflections didn\\'t make for a good spotting environment, but I did catch an Indian bird:\\n\\n\\n\\n\\n\\n\\n\\n\\n\\n\\nI also took a visit to the View Heathrow spotting box. It only has good views of movement at T4 and a/c landing at the adjacent runway, but only if you go during the day:\\n\\nArik Air A332\\n\\n\\n\\n\\n\\n\\n\\n\\n\\nAir Malta A320 and Saudia B77W:\\n\\n\\n\\n\\n\\n\\n\\n\\n\\nThe runway. iPhone camera won\\'t focus at night:\\n\\n\\n\\n\\n\\n\\n\\n\\n\\nA \"go to gate\" notification soon flashed up for my flight, and so I left the box. Note that in T4 the gate number will only be shown close to boarding time if you\\'re unlucky.\\n\\nThe dugong..and me:\\n\\n\\n\\n\\n\\n\\n\\n\\n\\nBoarding soon commenced, and being seated at the back of the plane meant that I got onboard first ahead of the other Y passengers. They board by row you see.\\n\\nAzerbaijan Airlines 787 next door:\\n\\n\\n\\n\\n\\n\\n\\n\\n\\nDue to something with the ground catering, we left 30mins past our scheduled departure time. Funnily enough the original departure time as given months ago was 10pm, and the new departure time was 930pm, but we still left at 10pm anyway.\\n\\nWe taxied to the runway and tookoff. This is where I found out that iPhone cameras don\\'t like focusing in the dark.\\n\\nA very blurry takeoff:\\n\\n\\n\\n\\n\\nBanking past LHR:\\n\\n\\n\\n\\n\\n\\n\\n\\n\\nYou know you\\'re over Britain when you see the clouds:\\n\\n\\n\\n\\n\\n\\n\\n\\n\\nAround an hour and a half after we reached cruising altitude, dinner was served. There was a choice of Chicken tikka masala or some beef thingamajig. I chose the chicken.\\n\\nAlso the microwave dinners I eat sometimes:\\n\\n\\n\\n\\n\\n\\n\\n\\n\\nI was quite satisfied with the quality of the food. The sauce was well flavoured, the cake provided was good too. The only hitch was that I somehow forgot to drink the provided water. No worries. I still had mine.\\n\\nAfter the mess was cleared, we were asked to close the window shades and the cabin lights were dimmed.\\n\\nSleeping on airplanes is what I dread the most despite my love of flying. After only an hour of sleep I jerked awake and spent the next 2 hours hovering in the realm between sleep and wake. Eventually I gave up and browsed the IFE, being disappointed by the selection and finally settling on The Iron Lady. I\\'m no fan of Thatcher but Meryl Streep gives a fantastic performance. I recommend it.\\n\\nGiving up again on sleeping, I decided to do some studying instead. That did the trick, and I managed to fall asleep. The power of Equity :lol:\\n\\nThe bright screen remained noticeable in the dark despite the crew\\'s best efforts to cover it:\\n\\n\\n\\n\\n\\n\\n\\n\\n\\nA quick look out the window over Saudi airspace before I hit the sack proper:\\n\\n\\n\\n\\n\\n\\n\\n\\n\\nI managed to catch maybe 3-4 hours of sleep before waking up again. At this point everything was a blur, and I honestly can\\'t remember what did I do except for reading a few articles (law stuff) and peering out the window into the daylight.\\n\\n\\n\\n\\n\\n\\n\\n\\n\\n\\nThe window frames are huge but not the window themselves:\\n\\n\\n\\n\\n\\n\\n\\n\\n\\nBreakfast/Lunch/Dinner (honestly idk with the timing) was served over India. I had the Nasi Lemak with sambal udang:\\n\\n\\n\\n\\n\\n\\n\\n\\n\\n\\nThe meal wasn\\'t very satisfying as a whole. While the nasi lemak was fine, the accompanied items like this odd capsicum salad thing was downright weird, while this cream cake was...half cream half cake. A completely different experience from the previous meal.\\n\\nSoon we were over the Peninsular, where we had to deal with quite some clouds:\\n\\nI believe this is a storm cloud of some sort. Cumulonimbus?\\n\\n\\n\\n\\n\\n\\n\\n\\n\\nMore and more clouds as we descended:\\n\\n\\n\\n\\n\\n\\n\\n\\n\\nWe then did a right turn somewhere over Negeri Sembilan, and approached Runway 32R....\\n\\n\\n\\n\\n\\n\\n\\n\\n\\n\\n\\n\\n\\n\\n\\n\\n\\n\\n\\n...where we landed firmly:\\n\\n\\n\\n\\n\\nFrom there onwards it was a quick taxi to the gate, and then a pleasant walk through KUL.\\n\\nBonus birds:\\n\\nBA 787-9:\\n\\n\\n\\n\\n\\n\\n\\n\\n\\nAnd as always, it\\'s very nice to see a MH 772, in this case the grand old 9M-MRA:\\n\\n\\n\\n\\n\\n\\n\\n\\n\\nThoughts\\nWill I fly MH again in the future if I had a choice? I would definitely consider them. Their flagship product doesn\\'t shine, and it felt just like a routine flight with them to a regional destination. The seats were alright, but only just. It lacked some padding but other than that the legroom was sufficient.\\n\\nThe food on the other hand, could do with some improvements. I don\\'t know if they cater at LHR or if it was catered at KUL earlier, but the salad choices could do with some tweaking. Seriously. Bell Peppers with raw carrots are weird.\\n\\nOther than that it was a pleasant enough flight, and I\\'d rate it on par with BA\\'s KUL-LHR service which I had flown in September (and had the old seats and IFE).\\n\\nAlso, I hope MH can fix its website soon. I\\'m flying them back to LHR in a week and a half\\'s time and I would like the quiet of the Upper Deck.\\n\\nBA domestic, on the other hand, was simple and to the point. It was like Air Asia with frills and aerobridges and it did get the job done. I\\'d like to think that BA sends their A320s on high domestic-regional rotations, and that MH could do away with Business in their 737s. However, as someone has pointed out on SSC before, the 737s do destinations like HKG, and the expectation of comfort is higher in Asia. Though MH could probably consider relegating some birds to domestic duty with higher density seating. Do we really need business in domestic??\\n\\nExtra to note: the tail camera wasn\\'t activated for both takeoff and landing. Is this standard MH A380 procedure?\\n\\nThanks for reading!\\n\\nEDIT: Plugin error changed \"clouds\" to \"butts\". You may laugh.\\n\\nClick to expand...',\n",
       "  'Züruckbleiben bitte\\n\\nhttps://quirkytransitandtravels.wordpress.com/\\n\\nQuick info on transit in Ireland: https://quirkytransitandtravels.wordpress.com/irish-transport-information/',\n",
       "  \"AusJpnKorNzTwn911130 said:\\n\\n\\n\\nAir NZ service was pretty decent according to my friend trip from SG Changi to Auckland.\\n\\nClick to expand...\\n\\nIve never flown them long haul. However generally when you fly western carriers it depends on your luck. Sometimes you may up with a 20 plus year old 747 with no IFE or if u r lucky enough to get on their new planes you will get audio video on demand on all seats. That's why Lufthansa and air france cannot compete with emirates on their KL route. Their planes are old and Emirates offer AVOD on almost all their aircraft\",\n",
       "  'Just finished uploading it. My second trip report here:',\n",
       "  \"^^\\n\\nCan't use the link or is it just me ???\",\n",
       "  \"hmmm... I've edited it, it loads fine now, at least it is on my laptop\",\n",
       "  '^^\\n\\nThanks & cheers mate !!! :cheers:',\n",
       "  \"Flybe trip report\\n\\nHi folks, here's a wee trip report i wrote about the 2 short flights I had last month on Flybe. Its comparable to Air Asia, only not as red and the planes are smaller.\\nhttps://quirkytransitandtravels.wordpress.com/2016/04/26/flybe-to-britain-and-back/\",\n",
       "  'Züruckbleiben bitte\\n\\nhttps://quirkytransitandtravels.wordpress.com/\\n\\nQuick info on transit in Ireland: https://quirkytransitandtravels.wordpress.com/irish-transport-information/',\n",
       "  \"Hello Folks,\\n\\nHow to post a picture in this thread, always failed to do so.\\n\\nBTW, nice to have something nice to share.......it started way back in the early year 2K, I didn't realised that my desk needs to travel a lot, flown on:\\n\\n1. Malaysia Airlines (MH tetap dihatiku)\\n2. AirAsia (last resort)\\n3. Firefly\\n4. MASWing\\n\\n5. Garuda Indonesia\\n6. South African Airways\\n7. Singapore Airlines\\n8. Thai Airways\\n9. Vietnam Airlines\\n10. All Nippon Airways\\n11. British Airways\\n12. Royal Brunei\\n13. Emirates\\n14. Northwest Airlines (merged with Delta)\\n15. Alaska Airlines\\n16. US Airways\\n17. United Airlines\\n18. China Southern Airlines\\n19. Silkair\\n20. LOT Polish Airlines\\n21. Eurowings\\n22. KLM Royal Dutch Airlines\\n23. KLM Cityhooper\\n24. Srivijaya Airlines\\n25. Air Canada\\n26. Air Vanuatu\\n27. Alliance Airlines\\n\\nAircraft\\n\\nA319\\nA320\\nA321\\nA310\\nA330\\n\\nB737-200\\nB737-400\\nB737-800\\nB737-900\\nB757\\nB767\\nB777\\nB747-400\\n\\nMD11\\n\\nEmbraer175\\nFokker50\\nFokker100\\nTwin Otter DHC-6\\nATR72-500\\nCRJ200\",\n",
       "  '****ANCHORING GROWTH ON PEOPLE****',\n",
       "  \"BorneanWingz said:\\n\\n\\n\\nJust finished uploading it. My second trip report here:\\n\\n\\n\\n\\n\\n\\nClick to expand...\\n\\nWhat kind of congee do they serve for the breakfast BorneanWingz ???\\n\\nI've enjoyed the one on CX and will give BA a try this May as I still haven't fly with their B787-9.\",\n",
       "  \"asd5139 said:\\n\\n\\n\\nWhat kind of congee do they serve for the breakfast BorneanWingz ???\\n\\nI've enjoyed the one on CX and will give BA a try this May as I still haven't fly with their B787-9.\\n\\nClick to expand...\\n\\nI was travelling alone, and nobody around me had congee during that time, so I'm not able to comment on that.\\nI have never travelled with CX, need to put that on my list.\",\n",
       "  \"BorneanWingz said:\\n\\n\\n\\nI was travelling alone, and nobody around me had congee during that time, so I'm not able to comment on that.\\nI have never travelled with CX, need to put that on my list.\\n\\nClick to expand...\\n\\nNo worries, I ll give them a try anyways. I did fly with CX last time because they still operate the B747-400 on the HKG-LHR route though it is quite a long detour for me before reaching PEN. I m guessing they did retire the 747 already and run the route fully with B777-300er. \\n\\nCX in general is very good airline though I think they serve better food on their regional than their intercontinental route.\",\n",
       "  'This is my third flight report from KUL-MYY.'],\n",
       " 6)"
      ]
     },
     "execution_count": 21,
     "metadata": {},
     "output_type": "execute_result"
    }
   ],
   "source": [
    "get_url('https://www.skyscrapercity.com' + forums[1])"
   ]
  },
  {
   "cell_type": "code",
   "execution_count": 22,
   "metadata": {},
   "outputs": [],
   "source": [
    "!mkdir threads"
   ]
  },
  {
   "cell_type": "code",
   "execution_count": 23,
   "metadata": {},
   "outputs": [
    {
     "name": "stderr",
     "output_type": "stream",
     "text": [
      "100%|███████████████████████████████████████████████████████████████████████████████████████████| 164/164 [04:59<00:00,  1.82s/it]\n"
     ]
    }
   ],
   "source": [
    "max_worker = 20\n",
    "\n",
    "for i in tqdm(range(0, len(forums), max_worker)):\n",
    "    \n",
    "    filename = os.path.join('threads', f'{i}.json')\n",
    "    if os.path.exists(filename):\n",
    "        continue\n",
    "        \n",
    "    gc.collect()\n",
    "        \n",
    "    topics = [('https://www.skyscrapercity.com' + topic,) for topic in forums[i: i + max_worker]]\n",
    "    \n",
    "    data = []    \n",
    "    with ThreadPoolExecutor(max_workers=max_worker) as executor:\n",
    "        futures = {executor.submit(get_url, url[0]): url for url in topics}\n",
    "\n",
    "        for future in as_completed(futures):\n",
    "            data.append(future.result())\n",
    "                \n",
    "    with open(filename, 'w') as fopen:\n",
    "        json.dump(data, fopen)\n",
    "        \n",
    "    try:\n",
    "        del data\n",
    "        del futures\n",
    "    except:\n",
    "        pass"
   ]
  },
  {
   "cell_type": "code",
   "execution_count": null,
   "metadata": {},
   "outputs": [],
   "source": []
  }
 ],
 "metadata": {
  "kernelspec": {
   "display_name": "Python 3 (ipykernel)",
   "language": "python",
   "name": "python3"
  },
  "language_info": {
   "codemirror_mode": {
    "name": "ipython",
    "version": 3
   },
   "file_extension": ".py",
   "mimetype": "text/x-python",
   "name": "python",
   "nbconvert_exporter": "python",
   "pygments_lexer": "ipython3",
   "version": "3.8.10"
  }
 },
 "nbformat": 4,
 "nbformat_minor": 4
}
