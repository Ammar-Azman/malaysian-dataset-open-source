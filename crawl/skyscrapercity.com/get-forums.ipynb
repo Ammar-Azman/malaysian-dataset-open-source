{
 "cells": [
  {
   "cell_type": "code",
   "execution_count": 1,
   "metadata": {},
   "outputs": [],
   "source": [
    "import requests\n",
    "import numpy as np\n",
    "from bs4 import BeautifulSoup\n",
    "from tqdm import tqdm\n",
    "from concurrent.futures import ThreadPoolExecutor, as_completed\n",
    "from glob import glob\n",
    "from tqdm import tqdm\n",
    "import time\n",
    "import json\n",
    "import os\n",
    "import gc"
   ]
  },
  {
   "cell_type": "code",
   "execution_count": 2,
   "metadata": {},
   "outputs": [],
   "source": [
    "url = 'https://www.skyscrapercity.com/forums/forum-pencakar-langit-malaysia.164/'"
   ]
  },
  {
   "cell_type": "code",
   "execution_count": 3,
   "metadata": {},
   "outputs": [],
   "source": [
    "r = requests.get(url)\n",
    "soup = BeautifulSoup(r.content, \"lxml\")"
   ]
  },
  {
   "cell_type": "code",
   "execution_count": 10,
   "metadata": {},
   "outputs": [],
   "source": [
    "forums = [\n",
    "    'https://www.skyscrapercity.com/forums/countdown-to-2030.332/',\n",
    "    'https://www.skyscrapercity.com/forums/skyscrapers-buildings.363/',\n",
    "    'https://www.skyscrapercity.com/forums/mixed-developments.1664/',\n",
    "    'https://www.skyscrapercity.com/forums/cityscapes.1493/',\n",
    "    'https://www.skyscrapercity.com/forums/pangsapuri.606/',\n",
    "    'https://www.skyscrapercity.com/forums/urban.364/',\n",
    "    'https://www.skyscrapercity.com/forums/architecture.669/',\n",
    "    'https://www.skyscrapercity.com/forums/low-rise.925/',\n",
    "    'https://www.skyscrapercity.com/forums/pengangkutan.926/'\n",
    "]"
   ]
  },
  {
   "cell_type": "code",
   "execution_count": null,
   "metadata": {},
   "outputs": [],
   "source": [
    "https://www.skyscrapercity.com/forums/countdown-to-2030.332/page-11"
   ]
  },
  {
   "cell_type": "code",
   "execution_count": 23,
   "metadata": {},
   "outputs": [
    {
     "data": {
      "text/plain": [
       "'forums/countdown-to-2030.332/'"
      ]
     },
     "execution_count": 23,
     "metadata": {},
     "output_type": "execute_result"
    }
   ],
   "source": [
    "forum.split('com/')[1]"
   ]
  },
  {
   "cell_type": "code",
   "execution_count": 28,
   "metadata": {},
   "outputs": [],
   "source": [
    "forum = forums[0].split('com/')[1]\n",
    "r = requests.get(forums[0])\n",
    "soup = BeautifulSoup(r.content, \"lxml\")\n",
    "a = soup.find_all('a')\n",
    "a = [a_.get('href') for a_ in a if a_.get('href')]\n",
    "a = [a_ for a_ in a if forum in a_ and '/page-' in a_]\n",
    "max_page = []\n",
    "for a_ in a:\n",
    "    try:\n",
    "        max_page.append(int(a_.split('/page-')[-1]))\n",
    "    except:\n",
    "        pass\n",
    "\n",
    "if len(max_page):\n",
    "    max_page = max(max_page)\n",
    "else:\n",
    "    max_page = -1"
   ]
  },
  {
   "cell_type": "code",
   "execution_count": 29,
   "metadata": {},
   "outputs": [
    {
     "data": {
      "text/plain": [
       "11"
      ]
     },
     "execution_count": 29,
     "metadata": {},
     "output_type": "execute_result"
    }
   ],
   "source": [
    "max_page"
   ]
  },
  {
   "cell_type": "code",
   "execution_count": 33,
   "metadata": {},
   "outputs": [
    {
     "data": {
      "text/plain": [
       "['/threads/bandar-cassia-batu-kawan-penang-u-c.1854698',\n",
       " '/threads/tun-razak-exchange-kuala-lumpur-jln-tun-razak.1135763',\n",
       " '/threads/kuching-isthmus-development-general-news-updates.973986',\n",
       " '/threads/vanke-kl-serani-row-redevelopment-kuala-lumpur-jalan-raja-chulan-pro.2073073',\n",
       " '/threads/seri-tanjung-pinang-gurney-bay-penang.552100',\n",
       " '/threads/ncer-northern-corridor-economic-region-penang-kedah-perlis-sime-darby.495680',\n",
       " '/threads/armani-hartajaya-bb-kuala-lumpur-jalan-raja-chulan-prep.2071347',\n",
       " '/threads/penang-international-commercial-city-penang-bayan-baru.1973689',\n",
       " '/threads/klang-valley-shopping-malls-proposals-news-updates.1498603',\n",
       " '/threads/merdeka-118-kuala-lumpur-changkat-stadium-city-centre.956606',\n",
       " '/threads/tropicana-windcity-genting-highlands.2230624',\n",
       " '/threads/kwasa-damansara-city-centre-selangor-sg-buloh.1522715',\n",
       " '/threads/sarawak-corridor-of-renewable-energy-score.581188',\n",
       " '/threads/edition-hotel-klcc-kuala-lumpur-persiaran-stonor-pro.1604589',\n",
       " '/threads/cyberjaya-new-proposals-projects-only.1322265',\n",
       " '/threads/coronation-square-iskandar-johor-iibd.1853619',\n",
       " '/threads/kuala-lumpur-sports-city-kuala-lumpur-bukit-jalil.1829606',\n",
       " '/threads/penang-construction-projects-general-thread.336214',\n",
       " '/threads/malacca-construction-projects-general-thread.112129',\n",
       " '/threads/ampang-park-redevelopment-kuala-lumpur-jalan-ampang.2053308',\n",
       " '/threads/w-city-oug-kuala-lumpur-overseas-union-garden.1560557',\n",
       " '/threads/lot-l-l1-m-n-east-gate-kuala-lumpur-klcc-145-fl.1479312',\n",
       " '/threads/the-east-coast-development-corridor-kelantan-terengganu-east-pahang-petronas.496495',\n",
       " '/threads/fairmont-raffles-klcc-lot-185-lot-167-k-lot-176-kuala-lumpur-klcc.1131385',\n",
       " '/threads/iskandar-puteri-formerly-nusajaya-johor-iskandar-malaysia-news-updates-discussion.354490',\n",
       " '/threads/lot-2000-berjaya-times-square-kuala-lumpur-jalan-imbi-prep.549484',\n",
       " '/threads/tnb-headquarters-complex-kuala-lumpur-jalan-bangsar.546100',\n",
       " '/threads/putrajaya-proposals-projects-construction-updates.1216571',\n",
       " '/threads/giant-kj-redevelopment-petaling-jaya-kelana-jaya.2397059',\n",
       " '/threads/countdown-to-spv-2030.67701',\n",
       " '/threads/iskandar-development-region-johor-southern-johor-general-news-updates.475583',\n",
       " '/threads/sabah-development-corridor.549538',\n",
       " '/threads/kl-metropolis-kuala-lumpur-jalan-duta-u-c.1001931',\n",
       " '/threads/penang-south-islands-penang-prep.2170474',\n",
       " '/threads/ampang-park-hotel-luxury-residences-kuala-lumpur-jalan-ampang-pro.179382',\n",
       " '/threads/genting-skyworlds-pahang-genting-highlands.1648273',\n",
       " '/threads/oxley-towers-kuala-lumpur-jalan-ampang-klcc-u-c.1653010',\n",
       " '/threads/medini-iskandar-malaysia-johor-iskandar-puteri-iskandar-development-region-general-news-updates.864036',\n",
       " '/threads/mytown-cochrane-ikea-cheras-kuala-lumpur-jalan-cochrane-u-c.1505223',\n",
       " '/threads/8-conlay-kempinski-hotel-residences-kuala-lumpur-jalan-conlay.1136711',\n",
       " '/threads/dayabumi-complex-redevelopement-kuala-lumpur-jalan-sultan-hishamuddin.1172141',\n",
       " '/threads/tnb-corporate-towers-kuala-lumpur-jalan-pantai-baru.1795822',\n",
       " '/threads/putrajaya-sentral-putrajaya-presint-7-putrajaya.2392686',\n",
       " '/threads/impression-city-melaka-melaka-kota-laksamana-u-c.1698013',\n",
       " '/threads/felcra-tower-semarak-residence-semarak20-kuala-lumpur-jalan-semarak.1435762',\n",
       " '/threads/bukit-bintang-city-centre-previously-pudu-prison-kuala-lumpur-jalan-pudu.104953',\n",
       " '/threads/kuala-lumpur-list-of-under-construction-general-thread.102116']"
      ]
     },
     "execution_count": 33,
     "metadata": {},
     "output_type": "execute_result"
    }
   ],
   "source": [
    "a = soup.find_all('a')\n",
    "a = [a_.get('href') for a_ in a if a_.get('href')]\n",
    "a = [a_ for a_ in a if '/threads/' in a_]\n",
    "a = list(set(['/'.join(a_.split('/')[:3]) for a_ in a]))\n",
    "a"
   ]
  },
  {
   "cell_type": "code",
   "execution_count": 34,
   "metadata": {},
   "outputs": [
    {
     "data": {
      "text/plain": [
       "(['/threads/bandar-cassia-batu-kawan-penang-u-c.1854698',\n",
       "  '/threads/tun-razak-exchange-kuala-lumpur-jln-tun-razak.1135763',\n",
       "  '/threads/kuching-isthmus-development-general-news-updates.973986',\n",
       "  '/threads/vanke-kl-serani-row-redevelopment-kuala-lumpur-jalan-raja-chulan-pro.2073073',\n",
       "  '/threads/seri-tanjung-pinang-gurney-bay-penang.552100',\n",
       "  '/threads/ncer-northern-corridor-economic-region-penang-kedah-perlis-sime-darby.495680',\n",
       "  '/threads/armani-hartajaya-bb-kuala-lumpur-jalan-raja-chulan-prep.2071347',\n",
       "  '/threads/penang-international-commercial-city-penang-bayan-baru.1973689',\n",
       "  '/threads/klang-valley-shopping-malls-proposals-news-updates.1498603',\n",
       "  '/threads/merdeka-118-kuala-lumpur-changkat-stadium-city-centre.956606',\n",
       "  '/threads/tropicana-windcity-genting-highlands.2230624',\n",
       "  '/threads/kwasa-damansara-city-centre-selangor-sg-buloh.1522715',\n",
       "  '/threads/sarawak-corridor-of-renewable-energy-score.581188',\n",
       "  '/threads/edition-hotel-klcc-kuala-lumpur-persiaran-stonor-pro.1604589',\n",
       "  '/threads/cyberjaya-new-proposals-projects-only.1322265',\n",
       "  '/threads/coronation-square-iskandar-johor-iibd.1853619',\n",
       "  '/threads/kuala-lumpur-sports-city-kuala-lumpur-bukit-jalil.1829606',\n",
       "  '/threads/penang-construction-projects-general-thread.336214',\n",
       "  '/threads/malacca-construction-projects-general-thread.112129',\n",
       "  '/threads/ampang-park-redevelopment-kuala-lumpur-jalan-ampang.2053308',\n",
       "  '/threads/w-city-oug-kuala-lumpur-overseas-union-garden.1560557',\n",
       "  '/threads/lot-l-l1-m-n-east-gate-kuala-lumpur-klcc-145-fl.1479312',\n",
       "  '/threads/the-east-coast-development-corridor-kelantan-terengganu-east-pahang-petronas.496495',\n",
       "  '/threads/fairmont-raffles-klcc-lot-185-lot-167-k-lot-176-kuala-lumpur-klcc.1131385',\n",
       "  '/threads/iskandar-puteri-formerly-nusajaya-johor-iskandar-malaysia-news-updates-discussion.354490',\n",
       "  '/threads/lot-2000-berjaya-times-square-kuala-lumpur-jalan-imbi-prep.549484',\n",
       "  '/threads/tnb-headquarters-complex-kuala-lumpur-jalan-bangsar.546100',\n",
       "  '/threads/putrajaya-proposals-projects-construction-updates.1216571',\n",
       "  '/threads/giant-kj-redevelopment-petaling-jaya-kelana-jaya.2397059',\n",
       "  '/threads/countdown-to-spv-2030.67701',\n",
       "  '/threads/iskandar-development-region-johor-southern-johor-general-news-updates.475583',\n",
       "  '/threads/sabah-development-corridor.549538',\n",
       "  '/threads/kl-metropolis-kuala-lumpur-jalan-duta-u-c.1001931',\n",
       "  '/threads/penang-south-islands-penang-prep.2170474',\n",
       "  '/threads/ampang-park-hotel-luxury-residences-kuala-lumpur-jalan-ampang-pro.179382',\n",
       "  '/threads/genting-skyworlds-pahang-genting-highlands.1648273',\n",
       "  '/threads/oxley-towers-kuala-lumpur-jalan-ampang-klcc-u-c.1653010',\n",
       "  '/threads/medini-iskandar-malaysia-johor-iskandar-puteri-iskandar-development-region-general-news-updates.864036',\n",
       "  '/threads/mytown-cochrane-ikea-cheras-kuala-lumpur-jalan-cochrane-u-c.1505223',\n",
       "  '/threads/8-conlay-kempinski-hotel-residences-kuala-lumpur-jalan-conlay.1136711',\n",
       "  '/threads/dayabumi-complex-redevelopement-kuala-lumpur-jalan-sultan-hishamuddin.1172141',\n",
       "  '/threads/tnb-corporate-towers-kuala-lumpur-jalan-pantai-baru.1795822',\n",
       "  '/threads/putrajaya-sentral-putrajaya-presint-7-putrajaya.2392686',\n",
       "  '/threads/impression-city-melaka-melaka-kota-laksamana-u-c.1698013',\n",
       "  '/threads/felcra-tower-semarak-residence-semarak20-kuala-lumpur-jalan-semarak.1435762',\n",
       "  '/threads/bukit-bintang-city-centre-previously-pudu-prison-kuala-lumpur-jalan-pudu.104953',\n",
       "  '/threads/kuala-lumpur-list-of-under-construction-general-thread.102116'],\n",
       " 11)"
      ]
     },
     "execution_count": 34,
     "metadata": {},
     "output_type": "execute_result"
    }
   ],
   "source": [
    "def get_href(url, forum):\n",
    "    forum = forum.split('com/')[1]\n",
    "    while True:\n",
    "        try:\n",
    "            r = requests.get(url, timeout = 5.0)\n",
    "            break\n",
    "        except:\n",
    "            time.sleep(1.0)\n",
    "    soup = BeautifulSoup(r.content, \"lxml\")\n",
    "    a = soup.find_all('a')\n",
    "    a = [a_.get('href') for a_ in a if a_.get('href')]\n",
    "    a = [a_ for a_ in a if forum in a_ and '/page-' in a_]\n",
    "    max_page = []\n",
    "    for a_ in a:\n",
    "        try:\n",
    "            max_page.append(int(a_.split('/page-')[-1]))\n",
    "        except:\n",
    "            pass\n",
    "\n",
    "    if len(max_page):\n",
    "        max_page = max(max_page)\n",
    "    else:\n",
    "        max_page = -1\n",
    "    \n",
    "    a = soup.find_all('a')\n",
    "    a = [a_.get('href') for a_ in a if a_.get('href')]\n",
    "    a = [a_ for a_ in a if '/threads/' in a_]\n",
    "    a = list(set(['/'.join(a_.split('/')[:3]) for a_ in a]))\n",
    "        \n",
    "    return a, max_page\n",
    "\n",
    "filtered, max_page = get_href(forums[0], forums[0])\n",
    "filtered, max_page"
   ]
  },
  {
   "cell_type": "code",
   "execution_count": 35,
   "metadata": {},
   "outputs": [],
   "source": [
    "!mkdir forums"
   ]
  },
  {
   "cell_type": "code",
   "execution_count": 36,
   "metadata": {},
   "outputs": [
    {
     "data": {
      "text/plain": [
       "'https://www.skyscrapercity.com/forums/countdown-to-2030.332/'"
      ]
     },
     "execution_count": 36,
     "metadata": {},
     "output_type": "execute_result"
    }
   ],
   "source": [
    "forums[0]"
   ]
  },
  {
   "cell_type": "code",
   "execution_count": null,
   "metadata": {},
   "outputs": [],
   "source": [
    "'https://www.skyscrapercity.com/forums/countdown-to-2030.332/page-2'"
   ]
  },
  {
   "cell_type": "code",
   "execution_count": null,
   "metadata": {},
   "outputs": [
    {
     "name": "stderr",
     "output_type": "stream",
     "text": [
      "  0%|                                                                                                       | 0/9 [00:00<?, ?it/s]\n",
      "  0%|                                                                                                       | 0/1 [00:00<?, ?it/s]\u001b[A\n",
      "100%|███████████████████████████████████████████████████████████████████████████████████████████████| 1/1 [00:01<00:00,  1.38s/it]\u001b[A\n",
      " 11%|██████████▌                                                                                    | 1/9 [00:01<00:15,  1.98s/it]\n",
      "  0%|                                                                                                       | 0/1 [00:00<?, ?it/s]\u001b[A\n",
      "100%|███████████████████████████████████████████████████████████████████████████████████████████████| 1/1 [00:02<00:00,  2.35s/it]\u001b[A\n",
      " 22%|█████████████████████                                                                          | 2/9 [00:04<00:17,  2.53s/it]\n",
      "  0%|                                                                                                       | 0/1 [00:00<?, ?it/s]\u001b[A\n",
      "100%|███████████████████████████████████████████████████████████████████████████████████████████████| 1/1 [00:01<00:00,  1.86s/it]\u001b[A\n",
      " 33%|███████████████████████████████▋                                                               | 3/9 [00:07<00:14,  2.49s/it]\n",
      "  0%|                                                                                                       | 0/1 [00:00<?, ?it/s]\u001b[A\n",
      "100%|███████████████████████████████████████████████████████████████████████████████████████████████| 1/1 [00:01<00:00,  1.66s/it]\u001b[A\n",
      " 44%|██████████████████████████████████████████▏                                                    | 4/9 [00:09<00:11,  2.39s/it]\n",
      "  0%|                                                                                                       | 0/1 [00:00<?, ?it/s]\u001b[A\n",
      "100%|███████████████████████████████████████████████████████████████████████████████████████████████| 1/1 [00:01<00:00,  1.63s/it]\u001b[A\n",
      " 56%|████████████████████████████████████████████████████▊                                          | 5/9 [00:12<00:09,  2.42s/it]\n",
      "  0%|                                                                                                       | 0/1 [00:00<?, ?it/s]\u001b[A\n",
      "100%|███████████████████████████████████████████████████████████████████████████████████████████████| 1/1 [00:02<00:00,  2.33s/it]\u001b[A\n",
      " 67%|███████████████████████████████████████████████████████████████▎                               | 6/9 [00:15<00:07,  2.62s/it]\n",
      "  0%|                                                                                                       | 0/1 [00:00<?, ?it/s]\u001b[A\n",
      "100%|███████████████████████████████████████████████████████████████████████████████████████████████| 1/1 [00:01<00:00,  1.91s/it]\u001b[A\n",
      " 78%|█████████████████████████████████████████████████████████████████████████▉                     | 7/9 [00:17<00:05,  2.58s/it]\n",
      "  0%|                                                                                                       | 0/1 [00:00<?, ?it/s]\u001b[A\n",
      "100%|███████████████████████████████████████████████████████████████████████████████████████████████| 1/1 [00:01<00:00,  1.63s/it]\u001b[A\n",
      " 89%|████████████████████████████████████████████████████████████████████████████████████▍          | 8/9 [00:19<00:02,  2.46s/it]\n",
      "  0%|                                                                                                       | 0/1 [00:00<?, ?it/s]\u001b[A"
     ]
    }
   ],
   "source": [
    "max_worker = 30\n",
    "\n",
    "forums = sorted(forums)\n",
    "for i in tqdm(range(len(forums))):\n",
    "    filename = os.path.join('forums', f'{i}.json')\n",
    "    if os.path.exists(filename):\n",
    "        continue\n",
    "        \n",
    "    forum = forums[i]\n",
    "    url = forum\n",
    "    filtered, max_page = get_href(url, forum)\n",
    "    for i in tqdm(range(2, max_page + 1, max_worker)):\n",
    "        aranged = np.arange(i, i + max_worker)\n",
    "        urls = [(f'{url}page-{a}', forum) for a in aranged]\n",
    "        \n",
    "        with ThreadPoolExecutor(max_workers=max_worker) as executor:\n",
    "            futures = {executor.submit(get_href, url[0], url[1]): url for url in urls}\n",
    "\n",
    "            for future in as_completed(futures):\n",
    "                filtered.extend(future.result()[0])\n",
    "                \n",
    "    with open(filename, 'w') as fopen:\n",
    "        json.dump(filtered, fopen)"
   ]
  },
  {
   "cell_type": "code",
   "execution_count": null,
   "metadata": {},
   "outputs": [],
   "source": []
  }
 ],
 "metadata": {
  "kernelspec": {
   "display_name": "Python 3 (ipykernel)",
   "language": "python",
   "name": "python3"
  },
  "language_info": {
   "codemirror_mode": {
    "name": "ipython",
    "version": 3
   },
   "file_extension": ".py",
   "mimetype": "text/x-python",
   "name": "python",
   "nbconvert_exporter": "python",
   "pygments_lexer": "ipython3",
   "version": "3.8.10"
  }
 },
 "nbformat": 4,
 "nbformat_minor": 4
}
