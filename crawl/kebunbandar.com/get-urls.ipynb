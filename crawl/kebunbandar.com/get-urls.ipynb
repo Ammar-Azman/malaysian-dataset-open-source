{
 "cells": [
  {
   "cell_type": "code",
   "execution_count": 1,
   "metadata": {},
   "outputs": [],
   "source": [
    "import requests\n",
    "from bs4 import BeautifulSoup\n",
    "from tqdm import tqdm\n",
    "import os\n",
    "import json\n",
    "import numpy as np\n",
    "import time\n",
    "import random\n",
    "import json\n",
    "import urllib3\n",
    "urllib3.disable_warnings(urllib3.exceptions.InsecureRequestWarning)"
   ]
  },
  {
   "cell_type": "code",
   "execution_count": 2,
   "metadata": {},
   "outputs": [],
   "source": [
    "url = 'https://kebunbandar.com/blog/page/2/'\n",
    "r = requests.get(url)"
   ]
  },
  {
   "cell_type": "code",
   "execution_count": 3,
   "metadata": {},
   "outputs": [],
   "source": [
    "soup = BeautifulSoup(r.content, \"lxml\")"
   ]
  },
  {
   "cell_type": "code",
   "execution_count": 4,
   "metadata": {},
   "outputs": [
    {
     "data": {
      "text/plain": [
       "['https://kebunbandar.com/tanam-sayur-dalam-pasu/',\n",
       " 'https://kebunbandar.com/baja-npk/',\n",
       " 'https://kebunbandar.com/perangkap-lalat-buah/',\n",
       " 'https://kebunbandar.com/tanam-mangga/',\n",
       " 'https://kebunbandar.com/tanam-tembikai-susu/',\n",
       " 'https://kebunbandar.com/tanam-pokok-tin/']"
      ]
     },
     "execution_count": 4,
     "metadata": {},
     "output_type": "execute_result"
    }
   ],
   "source": [
    "a = soup.find_all('article')\n",
    "a = [a_.find('a').get('href') for a_ in a]\n",
    "a"
   ]
  },
  {
   "cell_type": "code",
   "execution_count": 5,
   "metadata": {},
   "outputs": [
    {
     "name": "stderr",
     "output_type": "stream",
     "text": [
      "17it [00:16,  1.02it/s]\n"
     ]
    }
   ],
   "source": [
    "def generator():\n",
    "    while True:\n",
    "        yield\n",
    "        \n",
    "index = 1\n",
    "all_a = []\n",
    "\n",
    "for _ in tqdm(generator()):\n",
    "    url = f'https://kebunbandar.com/blog/page/{index}/'\n",
    "    r = requests.get(url)\n",
    "    soup = BeautifulSoup(r.content, \"lxml\")\n",
    "\n",
    "    a = soup.find_all('article')\n",
    "    a = [a_.find('a').get('href') for a_ in a]\n",
    "    \n",
    "    if not len(a):\n",
    "        break\n",
    "        \n",
    "    all_a.extend(a)\n",
    "    \n",
    "    index += 1"
   ]
  },
  {
   "cell_type": "code",
   "execution_count": 6,
   "metadata": {},
   "outputs": [
    {
     "data": {
      "text/plain": [
       "100"
      ]
     },
     "execution_count": 6,
     "metadata": {},
     "output_type": "execute_result"
    }
   ],
   "source": [
    "urls = sorted(list(set(all_a)))\n",
    "len(urls)"
   ]
  },
  {
   "cell_type": "code",
   "execution_count": 7,
   "metadata": {},
   "outputs": [],
   "source": [
    "url = urls[0]\n",
    "r = requests.get(url)\n",
    "soup = BeautifulSoup(r.content, \"lxml\")"
   ]
  },
  {
   "cell_type": "code",
   "execution_count": 8,
   "metadata": {},
   "outputs": [
    {
     "data": {
      "text/plain": [
       "'10 Alatan Berkebun Wajib Ada Untuk Pekebun Bandar'"
      ]
     },
     "execution_count": 8,
     "metadata": {},
     "output_type": "execute_result"
    }
   ],
   "source": [
    "soup.find('h1').text.strip()"
   ]
  },
  {
   "cell_type": "code",
   "execution_count": 10,
   "metadata": {},
   "outputs": [
    {
     "data": {
      "text/plain": [
       "'\\n\\nAktiviti berkebun menjadi hobi bagi sesetengah rakyat Malaysia. Terutama yang sudah berumur. Sama seperti hobi-hobi lain, berkebun memerlukan alatan yang sesuai. Yelah, hobi memancing tentunya perlukan pancing. Hobi bermain golf tentunya memerlukan kayu golf. Berkebun pula tidak tersekat hanya kepada pasu dan biji benih.\\n\\n\\nJika kita pergi singgah sebentar di kedai pertanian, kita mungkin terpengaruh untuk membeli pelbagai alatan berkebun yang dijual. Namun tidak semua yang kita lihat di kedai pertanian itu sesuai untuk pekebun rumah seperti kita.\\n\\n\\nPengalaman saya berkebun membolehkan saya menyenaraikan alat-alat yang wajib ada di kebun kita. Tidak kiralah kebun kita itu hanya sekangkang kera mahupun seluas lebih daripada kangkang kera.\\n\\n\\n1. Sudip tangan\\n\\n\\nSudip tangan\\n🛒 amat sesuai untuk penanaman pokok kecil seperti herba dan sayur. Ia juga sesuai untuk penanaman dalam pasu, membuang rumpai, dan mencampurkan tanah untuk pasu. Jika anda mempunyai wang lebih, seeloknya belilah sudip tangan keluli tahan karat. Ia tahan lasak dan selalunya mempunyai tempat pemegang yang selesa. \\n\\n\\nSudip tangan membantu kita mengorek tanah dan menggaul. Penting beli yang berkualiti.\\n\\n\\n2. Penggembur tangan\\n\\n\\nPenggembur tangan\\n🛒 seperti namanya berfungsi untuk menggembur tanah dan membuang rumpai. Tanah perlu digembur secara berkala agar tidak padat. Ini kerana tanah yang padat mengganggu pengairan air dan kemasukan oksigen bagi keperluan akar. Penggembur tangan jenis besi tahan karat amat sesuai digunakan kerana tahan lama dan sesuai untuk mengorek tanah yang keras.\\n\\n\\nBagi yang menanam dalam pasu, penggembur tangan akan memudahkan kerja untuk menggembur tanah di dalam pasu.\\n\\n\\n3. Gunting pangkas / Sekateur (\\nsecateurs\\n)\\n\\n\\nGunting pangkas digunakan untuk mencantas dan membuang ranting mati, membentuk rupa pokok, dan menuai tanaman. Sepasang sekateur boleh menjadi mahal mengikut jenis dan kualiti. Cari sekateur yang boleh dileraikan untuk kemudahan pembasuhan dan pengasahan. Pastikan juga ia selesa dengan pegangan tangan anda kerana anda akan kerap kali menggunakannya untuk mencantas di kebun anda. Jika anda ingin membaca lebih lanjut berkaitan ini, saya sarankan baca \\nAlat Berkebun – Gunting Pangkas\\n.\\n\\n\\nAnda boleh dapatkan \\ngunting pangkas berkualiti di sini\\n🛒.\\n\\n\\nGunting pangkas berkualiti akan memudahkan kerja kita di kebun.\\n\\n\\n4. Pisau cantuman tunas\\n\\n\\n\\xa0\\nPisau cantuman\\n🛒 digunakan untuk membuat cantuman dan menuai tanaman sebagai ganti kepada gunting pangkas.\\n Saya suka gunakan pisau cantuman yang sedikit lekuk di hadapannya agar mudah untuk saya buat cantuman.\\n\\n\\nPisau cantuman berkualiti akan memudahkan kita membuat kerja cantuman.\\n\\n\\n5. Pencungkil rumpai / Tajak keri\\n\\n\\nRumpai adalah tumbuhan yang tumbuh di tempat ia tidak dikehendaki. Kebanyakan rumput adalah kategori rumpai. Rumput yang tumbuh biasanya mempunyai akar yang dalam. Oleh itu untuk mencabut rumput paling bagus menggunakan \\npencungkil rumpai\\n🛒. Apa yang saya suka adalah kebolehan mencucuk sehingga ke akar umbi rumpai. Memang di awal banyak kerja kita. Tetapi nanti bila sudah selesai, kita akan nampak berkurang rumpai tumbuh.\\n\\n\\nAlat cabut rumput ini memudahkan kita bagi mengawal rumpai di kebun.\\n\\n\\nSelain daripada pencungkil rumpai ini, anda boleh gunakan tajak keri. \\nTajak keri\\n🛒 ini ibarat sabit tetapi dengan fungsi yang lebih bagus. Tajak keri ini ada pelbagai rupa. Saya paling suka seperti di dalam gambar. Hujung yang tajam boleh saya gunakan untuk memotong rumput yang ada. Saya hanya perlu mengaut rumput di atas tanah. Sambil itu boleh mencangkul menggunakan tajak keri ini.\\n\\n\\nTajak keri yang tajam hujungnya mudah untuk memotong rumput.\\n\\n\\n6. Penyiram (watering can/pot)\\n\\n\\nAir adalah antara nadi dalam berkebun. Jika tiada air, maka matilah pokok kita nanti. Walaupun kita ada hos untuk menyiram di rumah, saya tak nafikan bahawa kepentingan ada tong siram.\\n\\n\\nAntaranya adalah mudah untuk kita membuat campuran baja foliar untuk penyiraman. Ciri yang paling saya suka pada tong siram adalah kepala siram yang halus dan mempunyai senggat untuk isipadu. Hal ini akan memudahkan saya untuk mengukur air dan membuat bancuhan baja bersama air biasa.\\n\\n\\nTong siram\\n🛒 seperti dalam gambar ini paling bagus. Siraman halus dan sesuai untuk tanaman dalam pasu.\\n\\n\\nCara menyiram yang betul jika menggunakan tong penyiram begini.\\n\\n\\n7. Cangkul\\n\\n\\nSetiap pekebun wajib ada cangkul! Memang ada yang berkata pada zaman ini mesin menguasai semuanya, tetapi itu untuk skala besar. Bagi skala kecil bagi pekebun di rumah, cangkul penting untuk menggembur, merata dan memecahkan tanah, membuat batas, membuang rumpai, dan membuat lubang untuk tanam anak pokok.\\n\\n\\nSaya mengajar \\ncara pemasangan mata cangkul dengan batangnya sekali, klik sini untuk belajar\\n.\\n\\n\\n\\n\\nAnda boleh \\nbeli cangkul di sini\\n🛒.\\n\\n\\n8. Pencakar, penggembur atau Cangkul tiga mata\\n\\n\\nSelepas mencangkul, kita perlu juga menggembur tanah. Penggunaan cangkul tiga mata atau penggembur amat sesuai selepas kawasan penanam dibentuk dengan cangkul.\\n\\n\\nAnda boleh \\nbeli penggembur di sini\\n🛒.\\n\\n\\n\\n\\n9. Topi kebun\\n\\n\\nTopi kebun boleh jadi topi jerami atau topi kepala. Ia mengikut kesesuaian orang. Pentingnya topi kebun bagi melindungi kepala dari terik panas matahari dan memudahkan kerja.\\n\\n\\nTerdapat pelbagai rekabentuk topi. Dan yang paling bagus adalah topi yang besar dan menutup penuh kepala kita seperti dalam gambar. Memang nampak rimas awalnya, tetapi anda akan hargai \\ntopi kebun\\n🛒 begini apabila panas terik matahari mula naik.\\n\\n\\nPenting untuk kita memakai topi semasa berkebun.\\n\\n\\n10. Sarung tangan\\n\\n\\nAktviti berkebun melibatkan penggunaan kita. Sebelum ini saya kurang memakai sarung tangan dalam aktiviti berkebun. Saya dapati tangan saya menjadi kasar. Selain itu saya dapat rasakan tangan saya panas sebaik sahaja selesai melaksanakan aktivti berkebun.\\n\\n\\nBila saya cek, rupanya sebab tapak tangan saya terdedah dengan permukaan yang kasar. Hal ini menyebabkan tapak tangan saya sakit.\\n\\n\\nSejak itu saya mula memakan sarung tangan. Berdasarkan pengalaman saya, sarung tangan kain adalah yang paling sesuai. Terutama yang tebal. Lagi bagus jika di bahagian tapak tangan sarung itu ada disalut dengan getah.\\n\\n\\nPerkara ini akan memudahkan aktiviti berkebun seperti menggaul tanah dan mencabut rumpai. Serius kena ada sepasang.\\n\\n\\nSaya sarankan beli yang berkualiti untuk tahan lama. Sebaik sahaja selesai berkebun, elok terus basuh dan jemur sarungan tangan. Jangan biarkan tanah melekat di sarung tangan.\\n\\n\\nAnd boleh \\nbeli sarungan tangan kebun berkualiti di sini\\n🛒.\\n\\n\\nSarung tangan yang berkualiti penting dalam memberi keselesaan untuk kita berkebun.\\n\\n\\nItulah 10 alat berkebun yang wajib kita ada apabila mula berkebun. Jika tiada, pasti rasa tidak lengkap untuk kita berkebun.\\n\\n\\n\\n\\nhttps://www.youtube.com/watch?v=ByvcBVTWJLs\\nVideo can’t be loaded because JavaScript is disabled: \\nAlatan Berkebun Wajib ada di Rumah (https://www.youtube.com/watch?v=ByvcBVTWJLs)\\n\\n\\n[Video] Tonton penerangan saya tentang alat berkebun dan fungsinya.\\n\\n\\nNota: \\nDengan anda membuat \\npembelian melalui pautan diberikan\\n, saya akan \\nmendapat sedikit komisien \\ndaripada Shopee. Hal ini akan membantu saya untuk terus \\nmenyediakan lebih banyak konten berkualiti \\ndi website saya ini.\\n\\n\\n\\n'"
      ]
     },
     "execution_count": 10,
     "metadata": {},
     "output_type": "execute_result"
    }
   ],
   "source": [
    "soup.find('div', {'itemprop':\"articleBody\"}).get_text(separator=\"\\n\")"
   ]
  },
  {
   "cell_type": "code",
   "execution_count": 11,
   "metadata": {},
   "outputs": [
    {
     "name": "stderr",
     "output_type": "stream",
     "text": [
      "100%|███████████████████████████████████████████████████████████████████████████████████████████████████████████| 100/100 [02:35<00:00,  1.55s/it]\n"
     ]
    }
   ],
   "source": [
    "data = []\n",
    "for url in tqdm(urls):\n",
    "    r = requests.get(url)\n",
    "    soup = BeautifulSoup(r.content, \"lxml\")\n",
    "    data.append({\n",
    "        'url': url,\n",
    "        'title': soup.find('h1').text.strip(),\n",
    "        'body': soup.find('div', {'itemprop':\"articleBody\"}).get_text(separator=\"\\n\"),\n",
    "    })"
   ]
  },
  {
   "cell_type": "code",
   "execution_count": 12,
   "metadata": {},
   "outputs": [],
   "source": [
    "with open('kebunbandar.com.jsonl', 'w') as fopen:\n",
    "    for d in data:\n",
    "        fopen.write(f'{json.dumps(d)}\\n')"
   ]
  },
  {
   "cell_type": "code",
   "execution_count": null,
   "metadata": {},
   "outputs": [],
   "source": []
  }
 ],
 "metadata": {
  "kernelspec": {
   "display_name": "Python 3 (ipykernel)",
   "language": "python",
   "name": "python3"
  },
  "language_info": {
   "codemirror_mode": {
    "name": "ipython",
    "version": 3
   },
   "file_extension": ".py",
   "mimetype": "text/x-python",
   "name": "python",
   "nbconvert_exporter": "python",
   "pygments_lexer": "ipython3",
   "version": "3.8.10"
  }
 },
 "nbformat": 4,
 "nbformat_minor": 4
}
