{
 "cells": [
  {
   "cell_type": "code",
   "execution_count": 10,
   "metadata": {},
   "outputs": [],
   "source": [
    "import requests\n",
    "from bs4 import BeautifulSoup\n",
    "from urllib.parse import urljoin\n",
    "import pandas as pd\n",
    "\n",
    "base_url = 'https://open.dosm.gov.my'"
   ]
  },
  {
   "cell_type": "code",
   "execution_count": 16,
   "metadata": {},
   "outputs": [],
   "source": [
    "r = requests.get('https://open.dosm.gov.my/data-catalogue')"
   ]
  },
  {
   "cell_type": "code",
   "execution_count": 17,
   "metadata": {},
   "outputs": [
    {
     "data": {
      "text/plain": [
       "(264,\n",
       " 'https://open.dosm.gov.my/data-catalogue/dosm-public-economy_fuelprice_3')"
      ]
     },
     "execution_count": 17,
     "metadata": {},
     "output_type": "execute_result"
    }
   ],
   "source": [
    "soup = BeautifulSoup(r.content)\n",
    "data = soup.find_all('a', {'class': 'text-primary underline hover:no-underline'})\n",
    "urls = [urljoin(base_url, d.get('href')) for d in data]\n",
    "len(urls), urls[0]"
   ]
  },
  {
   "cell_type": "code",
   "execution_count": 90,
   "metadata": {},
   "outputs": [
    {
     "data": {
      "text/plain": [
       "'https://open.dosm.gov.my/data-catalogue/dosm-public-healthcare_covid-cases_5'"
      ]
     },
     "execution_count": 90,
     "metadata": {},
     "output_type": "execute_result"
    }
   ],
   "source": [
    "url"
   ]
  },
  {
   "cell_type": "code",
   "execution_count": 18,
   "metadata": {},
   "outputs": [],
   "source": [
    "import sqlite3\n",
    "\n",
    "connection = sqlite3.connect('opendosm.db')"
   ]
  },
  {
   "cell_type": "code",
   "execution_count": 127,
   "metadata": {},
   "outputs": [
    {
     "name": "stderr",
     "output_type": "stream",
     "text": [
      "100%|██████████████████████████████████████████████████████████████████████████████████████████████████| 264/264 [03:56<00:00,  1.12it/s]\n"
     ]
    }
   ],
   "source": [
    "from tqdm import tqdm\n",
    "directory = 'csv'\n",
    "\n",
    "os.makedirs(directory, exist_ok = True)\n",
    "\n",
    "maps = {}\n",
    "for url in tqdm(urls):\n",
    "    r_ = requests.get(url)\n",
    "    name = url.split('/')[-1]\n",
    "    name = name.replace('-', ' ').replace('_', ' ').split()\n",
    "    name = ''.join([n.title() for n in name])\n",
    "    \n",
    "    soup = BeautifulSoup(r_.content)\n",
    "    csv_url = [a.get('href') for a in soup.find_all('a') if a.get('href').endswith('csv')][0]\n",
    "    script_tag = soup.find('script', {'id': '__NEXT_DATA__'})\n",
    "    data = json.loads(str(script_tag).split('\">')[1].split('</script>')[0])\n",
    "    explanation = data['props']['pageProps']['explanation']\n",
    "    metadata = data['props']['pageProps']['metadata']\n",
    "    df = pd.read_csv(csv_url)\n",
    "    df.to_sql(name=name, con=connection, if_exists = 'replace')\n",
    "    \n",
    "    filename = f'{name}.csv'\n",
    "    df.to_csv(os.path.join(directory, filename), index = False)\n",
    "    maps[url] = {'explanation': explanation, 'metadata': metadata, 'filename': filename}"
   ]
  },
  {
   "cell_type": "code",
   "execution_count": 128,
   "metadata": {},
   "outputs": [],
   "source": [
    "with open('opendosm.json', 'w') as fopen:\n",
    "    json.dump(maps, fopen)"
   ]
  }
 ],
 "metadata": {
  "kernelspec": {
   "display_name": "Python 3 (ipykernel)",
   "language": "python",
   "name": "python3"
  },
  "language_info": {
   "codemirror_mode": {
    "name": "ipython",
    "version": 3
   },
   "file_extension": ".py",
   "mimetype": "text/x-python",
   "name": "python",
   "nbconvert_exporter": "python",
   "pygments_lexer": "ipython3",
   "version": "3.8.10"
  }
 },
 "nbformat": 4,
 "nbformat_minor": 4
}
