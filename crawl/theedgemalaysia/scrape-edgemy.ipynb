{
 "cells": [
  {
   "cell_type": "code",
   "execution_count": 1,
   "metadata": {},
   "outputs": [],
   "source": [
    "import pandas as pd\n",
    "import numpy as np\n",
    "import json\n",
    "\n",
    "import time\n",
    "from tqdm.notebook import tqdm\n",
    "from concurrent.futures import ThreadPoolExecutor, as_completed"
   ]
  },
  {
   "cell_type": "markdown",
   "metadata": {},
   "source": [
    "### 1.0 Scraping **The Edge Malaysia**"
   ]
  },
  {
   "cell_type": "markdown",
   "metadata": {},
   "source": [
    "For [The Edge Malaysia](https://theedgemalaysia.com/), each of their articles seem to have a unique ID, e.g., \"https://theedgemalaysia.com/node/677590\". Hence, since we won't be able to do this by month, page no., etc., we'll use a **brute force** approach that tests every combination of numbers, such that we'll only scrape from a valid url."
   ]
  },
  {
   "cell_type": "code",
   "execution_count": 2,
   "metadata": {},
   "outputs": [],
   "source": [
    "headers = {\n",
    "        \"User-Agent\": \"Mozilla/5.0 (Windows NT 10.0; Win64; x64; rv:98.0) Gecko/20100101 Firefox/98.0\",\n",
    "        \"Accept\": \"text/html,application/xhtml+xml,application/xml;q=0.9,image/avif,image/webp,*/*;q=0.8\",\n",
    "        \"Accept-Language\": \"en-US,en;q=0.5\",\n",
    "        \"Accept-Encoding\": \"gzip, deflate\",\n",
    "        \"Connection\": \"keep-alive\",\n",
    "        \"Upgrade-Insecure-Requests\": \"1\",\n",
    "        \"Sec-Fetch-Dest\": \"document\",\n",
    "        \"Sec-Fetch-Mode\": \"navigate\",\n",
    "        \"Sec-Fetch-Site\": \"none\",\n",
    "        \"Sec-Fetch-User\": \"?1\",\n",
    "        \"Cache-Control\": \"max-age=0\",\n",
    "    }"
   ]
  },
  {
   "cell_type": "code",
   "execution_count": 3,
   "metadata": {},
   "outputs": [],
   "source": [
    "# function to get text and metadata from url\n",
    "def process_url(x):\n",
    "    while True:\n",
    "        webpage = f'https://theedgemalaysia.com/node/{x}'\n",
    "        try:\n",
    "            r = requests.get(webpage, headers=headers)\n",
    "            break\n",
    "        except Exception as e:\n",
    "            time.sleep(5.0)\n",
    "    \n",
    "    soup = BeautifulSoup(r.text, \"lxml\")\n",
    "\n",
    "    try:\n",
    "        headline = soup.find('title').text\n",
    "        h = soup.find('div', class_=\"news-detail_newsTextDataWrap__PkAu5\") \n",
    "        content_list = [p.text for p in h.find_all(\"p\")]\n",
    "        content_str = ' '.join(content_list)\n",
    "        if 'English version' in content_str:\n",
    "            language = 'Mandarin'\n",
    "        else:\n",
    "            language = 'English'\n",
    "\n",
    "    except Exception as e:\n",
    "        return None\n",
    "\n",
    "    data = {'url': f'https://theedgemalaysia.com/node/{x}', \n",
    "            'headline': headline,\n",
    "            'language': language,\n",
    "            'content': content_str}\n",
    "\n",
    "    return data"
   ]
  },
  {
   "cell_type": "code",
   "execution_count": 4,
   "metadata": {},
   "outputs": [],
   "source": [
    "np.random.seed(10082023)\n",
    "batch1 = [str(x) for x in np.random.randint(0, 100000, size=20000)]\n",
    "batch2 = [str(x) for x in np.random.randint(100001, 200000, size=20000)]\n",
    "batch3 = [str(x) for x in np.random.randint(200001, 300000, size=20000)]\n",
    "batch4 = [str(x) for x in np.random.randint(300001, 400000, size=20000)]\n",
    "batch5 = [str(x) for x in np.random.randint(400001, 500000, size=20000)]\n",
    "batch6 = [str(x) for x in np.random.randint(500001, 600000, size=20000)]\n",
    "batch7 = [str(x) for x in np.random.randint(600001, 700000, size=20000)]\n",
    "\n",
    "# let's just try batch1 first.\n",
    "batches = [batch2, batch3, batch4]"
   ]
  },
  {
   "cell_type": "code",
   "execution_count": 5,
   "metadata": {},
   "outputs": [
    {
     "data": {
      "application/vnd.jupyter.widget-view+json": {
       "model_id": "8945d26da5d944789d2f617387b3978a",
       "version_major": 2,
       "version_minor": 0
      },
      "text/plain": [
       "  0%|          | 0/20000 [00:00<?, ?it/s]"
      ]
     },
     "metadata": {},
     "output_type": "display_data"
    }
   ],
   "source": [
    "# consolidate links and get texts\n",
    "max_workers = 30\n",
    "\n",
    "for i, urls in enumerate(batches):\n",
    "\n",
    "    with ThreadPoolExecutor(max_workers=max_workers) as executor:\n",
    "        futures = [executor.submit(process_url, x) for x in urls]\n",
    "\n",
    "        for future in tqdm(futures, total=len(urls)):\n",
    "            result = future.result()\n",
    "            if result:\n",
    "                with open(f'theedgemalaysia--complete-batch-{i+2}.jsonl', 'a') as f:\n",
    "                    json.dump(result, f)\n",
    "                    f.write('\\n')"
   ]
  },
  {
   "cell_type": "markdown",
   "metadata": {},
   "source": [
    "### 2.0 Final checks"
   ]
  },
  {
   "cell_type": "code",
   "execution_count": 6,
   "metadata": {},
   "outputs": [
    {
     "name": "stdout",
     "output_type": "stream",
     "text": [
      "No. of articles: 19902\n",
      "                                      url  \\\n",
      "0  https://theedgemalaysia.com/node/33730   \n",
      "1  https://theedgemalaysia.com/node/71781   \n",
      "2  https://theedgemalaysia.com/node/20831   \n",
      "\n",
      "                                            headline language  \\\n",
      "0     Corporate: Tough times ahead for steel players  English   \n",
      "1  IIA urges mandatory adoption of internal audit...  English   \n",
      "2                                  Privatisation 2.0  English   \n",
      "\n",
      "                                             content  \n",
      "0  Higher raw material costs and uncertainties ov...  \n",
      "1  KUALA LUMPUR: The Institute of Internal Audito...  \n",
      "2  ONE of the policy objectives desired to be ach...  \n"
     ]
    }
   ],
   "source": [
    "test1 = pd.read_json('theedgemalaysia--complete-batch-1.jsonl', lines=True)\n",
    "print(f'No. of articles in batch 1: {len(test1)}')\n",
    "print(test1.head(3))"
   ]
  }
 ],
 "metadata": {
  "kernelspec": {
   "display_name": "base",
   "language": "python",
   "name": "python3"
  },
  "language_info": {
   "codemirror_mode": {
    "name": "ipython",
    "version": 3
   },
   "file_extension": ".py",
   "mimetype": "text/x-python",
   "name": "python",
   "nbconvert_exporter": "python",
   "pygments_lexer": "ipython3",
   "version": "3.9.12"
  },
  "orig_nbformat": 4
 },
 "nbformat": 4,
 "nbformat_minor": 2
}
