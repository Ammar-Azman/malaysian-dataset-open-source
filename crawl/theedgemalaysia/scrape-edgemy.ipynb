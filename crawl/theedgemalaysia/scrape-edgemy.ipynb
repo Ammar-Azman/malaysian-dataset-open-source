{
 "cells": [
  {
   "cell_type": "code",
   "execution_count": 54,
   "metadata": {},
   "outputs": [],
   "source": [
    "from bs4 import BeautifulSoup\n",
    "import pandas as pd\n",
    "import json\n",
    "import requests\n",
    "from tqdm import tqdm\n",
    "import time\n",
    "from concurrent.futures import ThreadPoolExecutor, as_completed\n",
    "import numpy as np"
   ]
  },
  {
   "cell_type": "markdown",
   "metadata": {},
   "source": [
    "For [The Edge Malaysia](https://theedgemalaysia.com/), each of their pages seem to have a unique ID, e.g., \"https://theedgemalaysia.com/node/677590\". Hence, since we won't be able to do this by month, page no., etc., we'll use a **brute force** approach that tests every combination of numbers, such that we'll only scrape from a valid url."
   ]
  },
  {
   "cell_type": "code",
   "execution_count": 55,
   "metadata": {},
   "outputs": [],
   "source": [
    "headers = {'User-Agent': 'Mozilla/5.0 (Windows NT 6.1; WOW64) AppleWebKit/537.36 (KHTML, like Gecko) Chrome/56.0.2924.76 Safari/537.36'} "
   ]
  },
  {
   "cell_type": "code",
   "execution_count": 70,
   "metadata": {},
   "outputs": [],
   "source": [
    "# function to get text and metadata from url\n",
    "def process_url(x):\n",
    "    while True:\n",
    "        try:\n",
    "            r = requests.get(f'https://theedgemalaysia.com/node/{x}', headers=headers)\n",
    "            break\n",
    "        except Exception as e:\n",
    "            print(e)\n",
    "            time.sleep(5.0)\n",
    "    \n",
    "    soup = BeautifulSoup(r.text, \"lxml\")\n",
    "\n",
    "    try:\n",
    "        headline = soup.find('title').text\n",
    "\n",
    "        date_published = soup.find('div', class_=\"PrimayHeader_dateInfo__iVkzt\").text\n",
    "\n",
    "        h = soup.find('div', class_=\"news-detail_newsTextDataWrap__PkAu5\") \n",
    "        content_list = [p.text for p in h.find_all(\"p\")]\n",
    "        content_str = ' '.join(content_list)\n",
    "        if 'English version' in content_str: # I'm too lazy to find the language tag\n",
    "            language = 'Mandarin'\n",
    "        else:\n",
    "            language = 'English'\n",
    "        # ok_links += 1\n",
    "\n",
    "    except Exception as e:\n",
    "        return None\n",
    "\n",
    "    data = {'url': f'https://theedgemalaysia.com/node/{x}', \n",
    "            'headline': headline,\n",
    "            'date_published': date_published,\n",
    "            'language': language,\n",
    "            'content': content_str}\n",
    "    return data"
   ]
  },
  {
   "cell_type": "code",
   "execution_count": 25,
   "metadata": {},
   "outputs": [],
   "source": [
    "batch1 = [str(x).zfill(6) for x in np.arange(0, 100000, 1)]\n",
    "batch2 = [str(x).zfill(6) for x in np.arange(100001, 200000, 1)]\n",
    "batch3 = [str(x).zfill(6) for x in np.arange(200001, 300000, 1)]\n",
    "batch4 = [str(x).zfill(6) for x in np.arange(300001, 400000, 1)]\n",
    "batch5 = [str(x).zfill(6) for x in np.arange(400001, 500000, 1)]\n",
    "batch6 = [str(x).zfill(6) for x in np.arange(500001, 600000, 1)]\n",
    "batch7 = [str(x).zfill(6) for x in np.arange(600001, 700000, 1)]\n",
    "batch8 = [str(x).zfill(6) for x in np.arange(700001, 800000, 1)]\n",
    "\n",
    "# let's just try batch6 & batch7 first.\n",
    "batches_part1 = [batch6, batch7]"
   ]
  },
  {
   "cell_type": "code",
   "execution_count": 161,
   "metadata": {},
   "outputs": [
    {
     "name": "stderr",
     "output_type": "stream",
     "text": [
      "  0%|          | 34/100000 [00:04<3:41:34,  7.52it/s]\n"
     ]
    }
   ],
   "source": [
    "# consolidate links and get texts\n",
    "max_workers = 5\n",
    "ok_links = 0\n",
    "\n",
    "for i, urls in enumerate(batches):\n",
    "\n",
    "    with ThreadPoolExecutor(max_workers=max_workers) as executor:\n",
    "        futures = [executor.submit(process_url, x) for x in urls]\n",
    "        \n",
    "        for future in tqdm(futures, total=len(urls)):\n",
    "            result = future.result()\n",
    "            if result:\n",
    "                with open(f'theedgemalaysia-batch-{i+1}-{ok_links}pages.jsonl', 'a') as f:\n",
    "                    json.dump(result, f)\n",
    "                    f.write('\\n')"
   ]
  }
 ],
 "metadata": {
  "kernelspec": {
   "display_name": "base",
   "language": "python",
   "name": "python3"
  },
  "language_info": {
   "codemirror_mode": {
    "name": "ipython",
    "version": 3
   },
   "file_extension": ".py",
   "mimetype": "text/x-python",
   "name": "python",
   "nbconvert_exporter": "python",
   "pygments_lexer": "ipython3",
   "version": "3.9.12"
  },
  "orig_nbformat": 4
 },
 "nbformat": 4,
 "nbformat_minor": 2
}
