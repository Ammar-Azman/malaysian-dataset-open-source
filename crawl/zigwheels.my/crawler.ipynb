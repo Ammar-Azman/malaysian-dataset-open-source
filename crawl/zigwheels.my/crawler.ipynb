{
 "cells": [
  {
   "cell_type": "code",
   "execution_count": null,
   "id": "bf0f6391",
   "metadata": {},
   "outputs": [],
   "source": [
    "import json\n",
    "import re\n",
    "import os\n",
    "import requests\n",
    "import time\n",
    "import itertools\n",
    "from tqdm import tqdm\n",
    "from bs4 import BeautifulSoup\n",
    "from requests_html import HTMLSession\n",
    "from concurrent.futures import ThreadPoolExecutor\n",
    "session = HTMLSession()"
   ]
  },
  {
   "cell_type": "code",
   "execution_count": null,
   "id": "655ebff2",
   "metadata": {},
   "outputs": [],
   "source": [
    "def write_to_json(lst, fn, type_=None):\n",
    "    import json\n",
    "\n",
    "    with open(fn, \"a\") as file:\n",
    "        for x in lst:\n",
    "            if type_ == \"json\":\n",
    "                x = json.dumps(x, ensure_ascii=False)\n",
    "            else:\n",
    "                x = str(x)\n",
    "\n",
    "            file.write(x + \"\\n\")"
   ]
  },
  {
   "cell_type": "markdown",
   "id": "c8f19581",
   "metadata": {},
   "source": [
    "# get model ids"
   ]
  },
  {
   "cell_type": "code",
   "execution_count": null,
   "id": "2bed91b9",
   "metadata": {},
   "outputs": [],
   "source": [
    "max_workers = 20\n",
    "vehicle = \"cars\"\n",
    "category = \"best\"\n",
    "\n",
    "def get_model_link(page):\n",
    "    url = f\"https://www.zigwheels.my/{category}-{vehicle}?businessUnit={vehicle}&page={page}\"\n",
    "\n",
    "    r = session.get(url)\n",
    "    soup = BeautifulSoup(r.content, \"lxml\")\n",
    "\n",
    "    models_div = soup.find_all(\n",
    "        \"div\", class_=\"splide__list\", attrs={\"data-model-url\": True}\n",
    "    )\n",
    "    model_ids = [int(div.get(\"data-modelid\")) for div in models_div]\n",
    "    write_to_json(model_ids, f\"{os.getcwd()}/output/zigwheels-{category}-{vehicle}-model-ids.txt\")\n",
    "\n",
    "\n",
    "url = f\"https://www.zigwheels.my/{category}-{vehicle}?businessUnit={vehicle}&page=1\"\n",
    "r = session.get(url)\n",
    "soup = BeautifulSoup(r.content, \"lxml\")\n",
    "page_count = soup.find(\"input\", {\"name\": \"pageCount\"}).get(\"value\")\n",
    "\n",
    "pages = list(range(1, int(page_count) + 1))\n",
    "with ThreadPoolExecutor(max_workers=max_workers) as executor:\n",
    "    futures = [executor.submit(get_model_link, x) for x in pages]\n",
    "\n",
    "    for future in tqdm(futures, total=len(pages)):\n",
    "        result = future.result()"
   ]
  },
  {
   "cell_type": "markdown",
   "id": "ebda4b71",
   "metadata": {},
   "source": [
    "# get image"
   ]
  },
  {
   "cell_type": "code",
   "execution_count": null,
   "id": "a3dc8ec4",
   "metadata": {},
   "outputs": [],
   "source": [
    "import os\n",
    "import requests\n",
    "\n",
    "with open(f\"{os.getcwd()}/output/zigwheels-{category}-{vehicle}-model-ids.txt\", \"r\") as file:\n",
    "    values = file.read().splitlines()\n",
    "val = \",\".join(values)\n",
    "\n",
    "\n",
    "r = requests.get(\n",
    "    f\"https://www.zigwheels.my/listing/get-images?businessUnit={vehicle}&modelIds={val}&imageType=2\"\n",
    ")\n",
    "for key, value in r.json().items():\n",
    "    for val in value:\n",
    "        data = {\"img_url\": val[\"url\"], \"img_title\": val[\"title\"], \"model_id\": key}\n",
    "        write_to_json(\n",
    "            [data], f\"{os.getcwd()}/output/zigwheels-{category}-{vehicle}-img.json\", type_=\"json\"\n",
    "        )"
   ]
  }
 ],
 "metadata": {
  "kernelspec": {
   "display_name": "Python 3 (ipykernel)",
   "language": "python",
   "name": "python3"
  },
  "language_info": {
   "codemirror_mode": {
    "name": "ipython",
    "version": 3
   },
   "file_extension": ".py",
   "mimetype": "text/x-python",
   "name": "python",
   "nbconvert_exporter": "python",
   "pygments_lexer": "ipython3",
   "version": "3.11.6"
  }
 },
 "nbformat": 4,
 "nbformat_minor": 5
}
