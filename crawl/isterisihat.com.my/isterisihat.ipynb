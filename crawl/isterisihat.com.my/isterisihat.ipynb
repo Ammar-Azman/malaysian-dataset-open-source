{
 "cells": [
  {
   "cell_type": "code",
   "execution_count": 1,
   "metadata": {},
   "outputs": [],
   "source": [
    "import requests\n",
    "from bs4 import BeautifulSoup\n",
    "from tqdm import tqdm\n",
    "import os\n",
    "import json\n",
    "import numpy as np\n",
    "import time\n",
    "import random\n",
    "import json\n",
    "import urllib3\n",
    "urllib3.disable_warnings(urllib3.exceptions.InsecureRequestWarning)"
   ]
  },
  {
   "cell_type": "code",
   "execution_count": 2,
   "metadata": {},
   "outputs": [],
   "source": [
    "url = 'https://isterisihat.com.my/blog/amp/page/5/'\n",
    "r = requests.get(url)"
   ]
  },
  {
   "cell_type": "code",
   "execution_count": 3,
   "metadata": {},
   "outputs": [],
   "source": [
    "soup = BeautifulSoup(r.content, \"lxml\")"
   ]
  },
  {
   "cell_type": "code",
   "execution_count": 4,
   "metadata": {},
   "outputs": [
    {
     "data": {
      "text/plain": [
       "['https://isterisihat.com.my/niat-mandi-wajib-haid/amp/',\n",
       " 'https://isterisihat.com.my/peranakan-jatuh/amp/',\n",
       " 'https://isterisihat.com.my/cara-pecah-dara-malam-pertama/amp/',\n",
       " 'https://isterisihat.com.my/apa-itu-pcos/amp/',\n",
       " 'https://isterisihat.com.my/cara-hilangkan-senggugut/amp/',\n",
       " 'https://isterisihat.com.my/kentut-faraj/amp/',\n",
       " 'https://isterisihat.com.my/tanda-awal-hamil/amp/',\n",
       " 'https://isterisihat.com.my/persediaan-bersalin/amp/',\n",
       " 'https://isterisihat.com.my/tanda-bersalin/amp/',\n",
       " 'https://isterisihat.com.my/fibroid/amp/']"
      ]
     },
     "execution_count": 4,
     "metadata": {},
     "output_type": "execute_result"
    }
   ],
   "source": [
    "h2 = soup.find_all('h2', {'class': 'loop-title'})\n",
    "a = [a_.find('a').get('href') for a_ in h2]\n",
    "a"
   ]
  },
  {
   "cell_type": "code",
   "execution_count": 5,
   "metadata": {},
   "outputs": [
    {
     "name": "stderr",
     "output_type": "stream",
     "text": [
      "7it [00:01,  3.58it/s]\n"
     ]
    }
   ],
   "source": [
    "def generator():\n",
    "    while True:\n",
    "        yield\n",
    "        \n",
    "index = 1\n",
    "all_a = []\n",
    "\n",
    "for _ in tqdm(generator()):\n",
    "    url = f'https://isterisihat.com.my/blog/amp/page/{index}/'\n",
    "    r = requests.get(url)\n",
    "    soup = BeautifulSoup(r.content, \"lxml\")\n",
    "\n",
    "    h2 = soup.find_all('h2', {'class': 'loop-title'})\n",
    "    a = [a_.find('a').get('href') for a_ in h2]\n",
    "    \n",
    "    if not len(a):\n",
    "        break\n",
    "        \n",
    "    all_a.extend(a)\n",
    "    \n",
    "    index += 1"
   ]
  },
  {
   "cell_type": "code",
   "execution_count": 7,
   "metadata": {},
   "outputs": [
    {
     "data": {
      "text/plain": [
       "68"
      ]
     },
     "execution_count": 7,
     "metadata": {},
     "output_type": "execute_result"
    }
   ],
   "source": [
    "all_a = sorted(list(set(all_a)))\n",
    "len(all_a)"
   ]
  },
  {
   "cell_type": "code",
   "execution_count": 9,
   "metadata": {},
   "outputs": [
    {
     "data": {
      "text/plain": [
       "'https://isterisihat.com.my/air-mani-wanita/amp/'"
      ]
     },
     "execution_count": 9,
     "metadata": {},
     "output_type": "execute_result"
    }
   ],
   "source": [
    "all_a[0]"
   ]
  },
  {
   "cell_type": "code",
   "execution_count": 8,
   "metadata": {},
   "outputs": [],
   "source": [
    "r = requests.get(all_a[0])\n",
    "soup = BeautifulSoup(r.content, \"lxml\")"
   ]
  },
  {
   "cell_type": "code",
   "execution_count": 12,
   "metadata": {},
   "outputs": [
    {
     "name": "stderr",
     "output_type": "stream",
     "text": [
      "100%|███████████████████████████████████████████| 68/68 [00:08<00:00,  7.88it/s]\n"
     ]
    }
   ],
   "source": [
    "with open('isterisihat.jsonl', 'w') as fopen:\n",
    "    for a in tqdm(all_a):\n",
    "        try:\n",
    "            r = requests.get(a)\n",
    "            soup = BeautifulSoup(r.content, \"lxml\")\n",
    "            data = {\n",
    "                'url': a,\n",
    "                'title': soup.find('h1').text.strip(),\n",
    "                'body': soup.find('div', {'class': 'et_pb_text_inner'}).get_text(separator=\"\\n\"),\n",
    "            }\n",
    "            fopen.write(f'{json.dumps(data)}\\n')\n",
    "        except:\n",
    "            pass"
   ]
  }
 ],
 "metadata": {
  "kernelspec": {
   "display_name": "Python 3 (ipykernel)",
   "language": "python",
   "name": "python3"
  },
  "language_info": {
   "codemirror_mode": {
    "name": "ipython",
    "version": 3
   },
   "file_extension": ".py",
   "mimetype": "text/x-python",
   "name": "python",
   "nbconvert_exporter": "python",
   "pygments_lexer": "ipython3",
   "version": "3.8.10"
  }
 },
 "nbformat": 4,
 "nbformat_minor": 4
}
