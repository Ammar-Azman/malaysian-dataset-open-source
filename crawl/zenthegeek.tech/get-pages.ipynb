{
 "cells": [
  {
   "cell_type": "code",
   "execution_count": 2,
   "metadata": {},
   "outputs": [],
   "source": [
    "import requests\n",
    "from bs4 import BeautifulSoup\n",
    "from tqdm import tqdm\n",
    "import os\n",
    "import json\n",
    "import numpy as np\n",
    "import time\n",
    "import random\n",
    "import json"
   ]
  },
  {
   "cell_type": "code",
   "execution_count": 3,
   "metadata": {},
   "outputs": [],
   "source": [
    "with open('url.json') as fopen:\n",
    "    urls = json.load(fopen)"
   ]
  },
  {
   "cell_type": "code",
   "execution_count": 10,
   "metadata": {},
   "outputs": [
    {
     "name": "stderr",
     "output_type": "stream",
     "text": [
      "100%|█████████████████████████████████████████| 328/328 [01:07<00:00,  4.89it/s]\n"
     ]
    }
   ],
   "source": [
    "data = []\n",
    "for url in tqdm(urls):\n",
    "    r = requests.get(url)\n",
    "    soup = BeautifulSoup(r.content, \"lxml\")\n",
    "    try:\n",
    "        title = soup.find('h1').text\n",
    "    except:\n",
    "        title = None\n",
    "    try:\n",
    "        p = soup.find_all('p')\n",
    "        p = [p_.text for p_ in p]\n",
    "    except:\n",
    "        p = None\n",
    "    data.append({\n",
    "        'url': url,\n",
    "        'title': title,\n",
    "        'p': p,\n",
    "    })"
   ]
  },
  {
   "cell_type": "code",
   "execution_count": 11,
   "metadata": {},
   "outputs": [],
   "source": [
    "with open('data.json', 'w') as fopen:\n",
    "    json.dump(data, fopen)"
   ]
  },
  {
   "cell_type": "code",
   "execution_count": 12,
   "metadata": {},
   "outputs": [
    {
     "data": {
      "text/plain": [
       "{'url': 'https://zenthegeek.tech/2023/lgtrio-bonanza-2023-sale-brations-begin-from-tvs-to-puricare/',\n",
       " 'title': 'LGTrio Bonanza 2023 Sale-brations Begin; From TV’s To Puricare!',\n",
       " 'p': ['“As one of the leaders in the consumer electronics market, LG Electronics Malaysia always strives to prioritise our customers’ needs and we are committed to enriching their lives. We would like to extend a new year of positivity and double up on spreading the joy by delivering innovative and ground-breaking products at the best prices, leading a better life for our consumers,”Justin Choi, the Managing Director of LG Electronics Malaysia.',\n",
       "  'As the Chinese (Lunar) New Year approaches, LG Electronics Malaysia (LG) is ringing in more prosperity and ‘Ong’ with rebates in Touch ‘N Go eWallet Credits or GrabGifts up to RM2,500 with the purchase of selected LG products across authorised dealers nationwide. The Sale-bration begins now until 12 February 2023!',\n",
       "  'Add more colours to your New Year as the LG Trio Bonanza Sale-brations also provides consumers with the choice to Mix & Match 2 or more selected home entertainment, home appliances, as well as the LG PuriCare™ water and air purifiers for extra rebate up to RM400. Angpau packets aren’t the only gifts you’ll be getting this year as twenty lucky customers can get their hands on Lee Zii Jia’s autographed bag with racket in a Lucky Draw, while three lucky winners will stand a chance to win a trip to Seoul worth RM10,000.',\n",
       "  '',\n",
       "  'Customers are eligible to redeem eWallet credits/ e-vouchers on a first-come-first-serve basis, starting from now – 12th February 2023. All eligible entries must be submitted via https://www.lg.com/my/promotions/lgrewards within the due date of 12th March 2023.']}"
      ]
     },
     "execution_count": 12,
     "metadata": {},
     "output_type": "execute_result"
    }
   ],
   "source": [
    "data[-1]"
   ]
  },
  {
   "cell_type": "code",
   "execution_count": null,
   "metadata": {},
   "outputs": [],
   "source": []
  }
 ],
 "metadata": {
  "kernelspec": {
   "display_name": "Python 3 (ipykernel)",
   "language": "python",
   "name": "python3"
  },
  "language_info": {
   "codemirror_mode": {
    "name": "ipython",
    "version": 3
   },
   "file_extension": ".py",
   "mimetype": "text/x-python",
   "name": "python",
   "nbconvert_exporter": "python",
   "pygments_lexer": "ipython3",
   "version": "3.8.10"
  }
 },
 "nbformat": 4,
 "nbformat_minor": 4
}
