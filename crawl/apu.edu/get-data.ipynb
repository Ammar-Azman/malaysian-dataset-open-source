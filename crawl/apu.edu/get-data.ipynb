{
 "cells": [
  {
   "cell_type": "code",
   "execution_count": 5,
   "id": "6b2e3885",
   "metadata": {},
   "outputs": [],
   "source": [
    "import requests\n",
    "from bs4 import BeautifulSoup\n",
    "from tqdm.asyncio import tqdm\n",
    "import asyncio\n",
    "import json\n",
    "import requests"
   ]
  },
  {
   "cell_type": "code",
   "execution_count": 6,
   "id": "746756ce",
   "metadata": {},
   "outputs": [
    {
     "name": "stdout",
     "output_type": "stream",
     "text": [
      "418\n"
     ]
    }
   ],
   "source": [
    "url = \"https://www.apu.edu.my/sitemap.xml\"\n",
    "response = requests.get(url)\n",
    "soup = BeautifulSoup(response.content, \"xml\")\n",
    "\n",
    "locs = soup.find_all('loc')\n",
    "urls = [loc.get_text() for loc in locs]\n",
    "\n",
    "print(len(urls))"
   ]
  },
  {
   "cell_type": "code",
   "execution_count": 7,
   "id": "9bbea199",
   "metadata": {},
   "outputs": [],
   "source": [
    "ignore = [\"http://www.apu.edu.my/china\", \"http://www.apu.edu.my/our-courses-chi\"]\n",
    "dataset = []\n",
    "\n",
    "async def crawl(url):\n",
    "    response = requests.get(url)\n",
    "    soup = BeautifulSoup(response.content, \"lxml\")\n",
    "    title = soup.find('h1', {'id': 'page-title'})\n",
    "    if url in ignore or title == None or title.text.strip() == \"Access denied\":\n",
    "        return\n",
    "    data = {\n",
    "        'url': url,\n",
    "        'title': title.text.strip(),\n",
    "        'body': soup.find('div', {'class': 'content-middle'}).get_text(separator=\"\\n\"),\n",
    "    }\n",
    "    dataset.append(data)\n",
    "\n",
    "async def main():\n",
    "    flist = [crawl(url) for url in urls]\n",
    "    for f in tqdm(flist):\n",
    "        await f"
   ]
  },
  {
   "cell_type": "code",
   "execution_count": 8,
   "id": "4c60a4a6",
   "metadata": {},
   "outputs": [
    {
     "name": "stderr",
     "output_type": "stream",
     "text": [
      "100%|███████████████████████████████████████████████████████████████████████████████████████████████████| 418/418 [01:47<00:00,  3.89it/s]\n"
     ]
    }
   ],
   "source": [
    "await main()\n",
    "\n",
    "with open('apu.edu.jsonl', 'w') as file:\n",
    "    for entry in dataset:\n",
    "        json.dump(entry, file)\n",
    "        file.write('\\n')"
   ]
  },
  {
   "cell_type": "code",
   "execution_count": null,
   "id": "e10407ff",
   "metadata": {},
   "outputs": [],
   "source": []
  }
 ],
 "metadata": {
  "kernelspec": {
   "display_name": "Python 3 (ipykernel)",
   "language": "python",
   "name": "python3"
  },
  "language_info": {
   "codemirror_mode": {
    "name": "ipython",
    "version": 3
   },
   "file_extension": ".py",
   "mimetype": "text/x-python",
   "name": "python",
   "nbconvert_exporter": "python",
   "pygments_lexer": "ipython3",
   "version": "3.9.7"
  }
 },
 "nbformat": 4,
 "nbformat_minor": 5
}
