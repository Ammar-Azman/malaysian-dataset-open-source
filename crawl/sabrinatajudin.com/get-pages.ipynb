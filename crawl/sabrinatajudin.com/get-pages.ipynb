{
 "cells": [
  {
   "cell_type": "code",
   "execution_count": 1,
   "metadata": {},
   "outputs": [],
   "source": [
    "import requests\n",
    "from bs4 import BeautifulSoup\n",
    "from tqdm import tqdm\n",
    "import os\n",
    "import json\n",
    "import numpy as np\n",
    "import time\n",
    "import random\n",
    "import json"
   ]
  },
  {
   "cell_type": "code",
   "execution_count": 2,
   "metadata": {},
   "outputs": [
    {
     "data": {
      "text/plain": [
       "1047"
      ]
     },
     "execution_count": 2,
     "metadata": {},
     "output_type": "execute_result"
    }
   ],
   "source": [
    "with open('url-sabrinatajudin.json') as fopen:\n",
    "    urls = json.load(fopen)\n",
    "    \n",
    "len(urls)"
   ]
  },
  {
   "cell_type": "code",
   "execution_count": 3,
   "metadata": {},
   "outputs": [
    {
     "data": {
      "text/plain": [
       "'http://www.sabrinatajudin.com/2017/09/mamonde-brightening-cover-cushion-line.html'"
      ]
     },
     "execution_count": 3,
     "metadata": {},
     "output_type": "execute_result"
    }
   ],
   "source": [
    "urls[0]"
   ]
  },
  {
   "cell_type": "code",
   "execution_count": 4,
   "metadata": {},
   "outputs": [],
   "source": [
    "r = requests.get(urls[0])\n",
    "soup = BeautifulSoup(r.content, \"lxml\")"
   ]
  },
  {
   "cell_type": "code",
   "execution_count": 8,
   "metadata": {},
   "outputs": [
    {
     "data": {
      "text/plain": [
       "\"\\n\\n\\n\\nIt is all about flowers when it comes to Mamonde. A well knows Korean brand that has a wide range of flower inspired products. The latest one is these Brightening\\xa0Cover Cushion Line. In this line, it is inspired by the properties of Peach Flower and Narcissus plant. Did you know that in the spring, Peach Flowers measured about 3 cm in diameter and has five petals? It has a light pink to purplish\\xa0color and seen blooming in solitary or in a pair of short branches.\\xa0\\n\\n\\n\\nIn this line it is categorized in two type, Brightening Cover Powder Cushion & Brightening Cover Watery Cushion. Both are made with a different finish and skin type. Specially made to give your skin a tone up skin and coverage with a bright, moist and smooth looking complexion.\\n\\n\\n\\nMamonde Brightening Cover Powder Cushion - It s formulated using Peach Flower. This is best for people who have oily prone skin. It has a semi matte finish and the coverage is awesome! It has 2 shades to choose from, 21N & 21C. 21N Medium Beige has a light beige tone while 21C is a Medium Peach tone,\\xa0perfect for people who have light to medium skin tone. As this is perfect for people who have oily skin, it has a matte finish and keep the oil in control and give your skin a healthy dewy finish without looking oily. Each retails for RM90.00\\n\\n\\n\\nMamonde Brightening Cover Powder Cushion - It is specially\\xa0designed for a light fitting natural cover with supple and glow finish for people who have dry skin. As it names, watery - it provides hydration to the skin and won't leave your skin looking patchy. The coverage is pretty good too. With is Narcissus extract, this won't leave your skin feels dry and tight. It comes in 2 shades too, 21C Medium Peach and 21N Medium Beige. But I find that the shade looks different from the Powder type. It looks much fairer but compares to the coverage, Powder type are more of a true color finish while this is sheerer which will provide true to skin finish. This also retails for RM90.00 each.\\n\\n\\n\\n\\n\\nFrom top/left to bottom/right: 21N Medium Beige (Powdery), 21C Medium Peach (Powdery), 21C Medium Peach (Watery), 21N Medium Beige (Watery).\\n\\n\\n\\nThe Mamonde Brightening Cover Cushion Line can be purchased through Mamonde Beauty counters at AEON 1 Utama PJ, Aeon Mid Valley Megamall KL, AEON Bukit Indah JB, AEON Tebrau City JB, AEON Queensbay Mall Penang, Parkson Gurney Plaza Penang & Parkson Suria KLCC. More info go to :Facebook -\\xa0https://www.facebook.com/Mamonde.MY/Instagram -\\xa0https://www.instagram.com/mamondemalaysia/Website -\\xa0http://www.mamondegarden.my/\\n\\nSHARE:\\n\\n\\n\\n\\n\\n\\n\\n\\nLabels: \\nBeauty\\n,\\nMakeup\\n,\\nMamonde\\n\\n\\n\""
      ]
     },
     "execution_count": 8,
     "metadata": {},
     "output_type": "execute_result"
    }
   ],
   "source": [
    "soup.find('div', {'class': 'post-body'}).text"
   ]
  },
  {
   "cell_type": "code",
   "execution_count": 11,
   "metadata": {},
   "outputs": [
    {
     "name": "stderr",
     "output_type": "stream",
     "text": [
      "100%|███████████████████████████████████████| 1047/1047 [12:33<00:00,  1.39it/s]\n"
     ]
    }
   ],
   "source": [
    "with open('data-sabrinatajudin.jsonl', 'w') as fopen:\n",
    "    for url in tqdm(urls):\n",
    "        r = requests.get(url)\n",
    "        soup = BeautifulSoup(r.content, \"lxml\")\n",
    "        try:\n",
    "            t = soup.find('div', {'class': 'post-body'}).text\n",
    "        except:\n",
    "            t = None\n",
    "        data = {\n",
    "            'url': url,\n",
    "            'text': t,\n",
    "        }\n",
    "        fopen.write(f'{json.dumps(data)}\\n')"
   ]
  },
  {
   "cell_type": "code",
   "execution_count": null,
   "metadata": {},
   "outputs": [],
   "source": []
  }
 ],
 "metadata": {
  "kernelspec": {
   "display_name": "Python 3 (ipykernel)",
   "language": "python",
   "name": "python3"
  },
  "language_info": {
   "codemirror_mode": {
    "name": "ipython",
    "version": 3
   },
   "file_extension": ".py",
   "mimetype": "text/x-python",
   "name": "python",
   "nbconvert_exporter": "python",
   "pygments_lexer": "ipython3",
   "version": "3.8.10"
  }
 },
 "nbformat": 4,
 "nbformat_minor": 4
}
