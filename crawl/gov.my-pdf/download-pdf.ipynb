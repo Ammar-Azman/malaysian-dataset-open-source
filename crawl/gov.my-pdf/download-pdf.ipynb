{
 "cells": [
  {
   "cell_type": "code",
   "execution_count": 2,
   "metadata": {},
   "outputs": [],
   "source": [
    "import requests\n",
    "from bs4 import BeautifulSoup\n",
    "from tqdm import tqdm\n",
    "import os\n",
    "import json\n",
    "import numpy as np\n",
    "import time\n",
    "import random\n",
    "import json\n",
    "from concurrent.futures import ThreadPoolExecutor, as_completed\n",
    "from datetime import datetime, timedelta\n",
    "from glob import glob"
   ]
  },
  {
   "cell_type": "code",
   "execution_count": 3,
   "metadata": {},
   "outputs": [
    {
     "data": {
      "text/plain": [
       "242"
      ]
     },
     "execution_count": 3,
     "metadata": {},
     "output_type": "execute_result"
    }
   ],
   "source": [
    "files = glob('gov.my/*.html')\n",
    "len(files)"
   ]
  },
  {
   "cell_type": "code",
   "execution_count": 10,
   "metadata": {},
   "outputs": [
    {
     "name": "stderr",
     "output_type": "stream",
     "text": [
      "100%|█████████████████████████████████████████| 242/242 [00:37<00:00,  6.42it/s]\n"
     ]
    }
   ],
   "source": [
    "all_a = []\n",
    "for f in tqdm(files):\n",
    "    with open(f) as fopen:\n",
    "        data = fopen.read()\n",
    "    soup = BeautifulSoup(data, \"lxml\")\n",
    "    a = soup.find_all('a')\n",
    "    a = [a_.get('href', '') for a_ in a if a_.get('href', '').endswith('.pdf')]\n",
    "    all_a.extend(a)"
   ]
  },
  {
   "cell_type": "code",
   "execution_count": 12,
   "metadata": {},
   "outputs": [
    {
     "data": {
      "text/plain": [
       "39748"
      ]
     },
     "execution_count": 12,
     "metadata": {},
     "output_type": "execute_result"
    }
   ],
   "source": [
    "all_a = list(set(all_a))\n",
    "len(all_a)"
   ]
  },
  {
   "cell_type": "code",
   "execution_count": 14,
   "metadata": {},
   "outputs": [],
   "source": [
    "# !wget https://gist.githubusercontent.com/huseinzol05/98974ae8c6c7a65d4bc0af9f5003786a/raw/5aa5257608b61e8fcc828e99fbd070d5ca7358e3/mp.py"
   ]
  },
  {
   "cell_type": "code",
   "execution_count": 15,
   "metadata": {},
   "outputs": [],
   "source": [
    "import mp"
   ]
  },
  {
   "cell_type": "code",
   "execution_count": 16,
   "metadata": {},
   "outputs": [],
   "source": [
    "with open('all_a.json', 'w') as fopen:\n",
    "    json.dump(all_a, fopen)"
   ]
  },
  {
   "cell_type": "code",
   "execution_count": 17,
   "metadata": {},
   "outputs": [],
   "source": [
    "all_a_f = [(no, f) for no, f in enumerate(all_a)]"
   ]
  },
  {
   "cell_type": "code",
   "execution_count": 18,
   "metadata": {},
   "outputs": [],
   "source": [
    "!mkdir pdf"
   ]
  },
  {
   "cell_type": "code",
   "execution_count": 21,
   "metadata": {},
   "outputs": [],
   "source": [
    "def loop(files):\n",
    "    files, _ = files\n",
    "    for f in tqdm(files):\n",
    "        i, f = f\n",
    "        file = os.path.join('pdf', f'{i}.pdf')\n",
    "        if os.path.exists(file):\n",
    "            continue\n",
    "        \n",
    "        try:\n",
    "            r = requests.get(f, timeout = 60)\n",
    "            with open(file, 'wb') as fopen:\n",
    "                fopen.write(r.content)\n",
    "        except:\n",
    "            pass"
   ]
  },
  {
   "cell_type": "code",
   "execution_count": 22,
   "metadata": {},
   "outputs": [
    {
     "name": "stderr",
     "output_type": "stream",
     "text": [
      "100%|██████████████████████████████████████████| 2/2 [00:00<00:00, 34807.50it/s]\n"
     ]
    }
   ],
   "source": [
    "loop((all_a_f[:2], 0))"
   ]
  },
  {
   "cell_type": "code",
   "execution_count": 24,
   "metadata": {},
   "outputs": [
    {
     "name": "stderr",
     "output_type": "stream",
     "text": [
      "100%|█████████████████████████████████████| 3974/3974 [1:25:52<00:00,  1.30s/it]\n",
      "100%|█████████████████████████████████████████████| 8/8 [00:02<00:00,  3.56it/s]\n",
      "100%|█████████████████████████████████████| 3974/3974 [1:26:33<00:00,  1.31s/it]\n",
      "100%|█████████████████████████████████████| 3974/3974 [1:27:14<00:00,  1.32s/it]\n",
      "100%|█████████████████████████████████████| 3974/3974 [1:28:12<00:00,  1.33s/it]\n",
      "100%|█████████████████████████████████████| 3974/3974 [1:35:40<00:00,  1.44s/it]\n",
      "100%|█████████████████████████████████████| 3974/3974 [1:37:58<00:00,  1.48s/it]\n",
      "100%|█████████████████████████████████████| 3974/3974 [1:41:08<00:00,  1.53s/it]\n",
      "100%|█████████████████████████████████████| 3974/3974 [1:44:53<00:00,  1.58s/it]\n",
      "100%|█████████████████████████████████████| 3974/3974 [1:45:47<00:00,  1.60s/it]\n",
      "100%|█████████████████████████████████████| 3974/3974 [1:46:01<00:00,  1.60s/it]\n"
     ]
    }
   ],
   "source": [
    "mp.multiprocessing(all_a_f, loop, cores = 10, returned = False)"
   ]
  },
  {
   "cell_type": "code",
   "execution_count": null,
   "metadata": {},
   "outputs": [],
   "source": []
  }
 ],
 "metadata": {
  "kernelspec": {
   "display_name": "Python 3 (ipykernel)",
   "language": "python",
   "name": "python3"
  },
  "language_info": {
   "codemirror_mode": {
    "name": "ipython",
    "version": 3
   },
   "file_extension": ".py",
   "mimetype": "text/x-python",
   "name": "python",
   "nbconvert_exporter": "python",
   "pygments_lexer": "ipython3",
   "version": "3.8.10"
  }
 },
 "nbformat": 4,
 "nbformat_minor": 4
}
