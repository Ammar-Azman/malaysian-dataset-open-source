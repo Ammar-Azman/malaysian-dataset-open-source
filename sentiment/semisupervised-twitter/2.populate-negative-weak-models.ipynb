{
 "cells": [
  {
   "cell_type": "code",
   "execution_count": 1,
   "metadata": {},
   "outputs": [],
   "source": [
    "import malaya"
   ]
  },
  {
   "cell_type": "code",
   "execution_count": 2,
   "metadata": {},
   "outputs": [
    {
     "name": "stdout",
     "output_type": "stream",
     "text": [
      "WARNING:tensorflow:From /home/husein/.local/lib/python3.6/site-packages/malaya/_utils/_utils.py:68: The name tf.gfile.GFile is deprecated. Please use tf.io.gfile.GFile instead.\n",
      "\n",
      "WARNING:tensorflow:From /home/husein/.local/lib/python3.6/site-packages/malaya/_utils/_utils.py:69: The name tf.GraphDef is deprecated. Please use tf.compat.v1.GraphDef instead.\n",
      "\n",
      "WARNING:tensorflow:From /home/husein/.local/lib/python3.6/site-packages/malaya/_utils/_utils.py:64: The name tf.InteractiveSession is deprecated. Please use tf.compat.v1.InteractiveSession instead.\n",
      "\n"
     ]
    }
   ],
   "source": [
    "bert = malaya.sentiment.transformer(model = 'bert')\n",
    "xlnet = malaya.sentiment.transformer(model = 'xlnet')\n",
    "albert = malaya.sentiment.transformer(model = 'albert')"
   ]
  },
  {
   "cell_type": "code",
   "execution_count": 10,
   "metadata": {},
   "outputs": [],
   "source": [
    "import numpy as np\n",
    "import json"
   ]
  },
  {
   "cell_type": "code",
   "execution_count": 4,
   "metadata": {},
   "outputs": [
    {
     "data": {
      "text/plain": [
       "3103071"
      ]
     },
     "execution_count": 4,
     "metadata": {},
     "output_type": "execute_result"
    }
   ],
   "source": [
    "with open('ns.json') as fopen:\n",
    "    ns = json.load(fopen)\n",
    "    \n",
    "len(ns)"
   ]
  },
  {
   "cell_type": "code",
   "execution_count": null,
   "metadata": {},
   "outputs": [
    {
     "name": "stderr",
     "output_type": "stream",
     "text": [
      "  3%|▎         | 848/24243 [07:53<3:35:03,  1.81it/s]"
     ]
    }
   ],
   "source": [
    "from tqdm import tqdm\n",
    "\n",
    "batch_size = 128\n",
    "\n",
    "results = []\n",
    "for i in tqdm(range(0, len(ns), batch_size)):\n",
    "    index = min(i + batch_size, len(ns))\n",
    "    batch = ns[i: index]\n",
    "    bert_r = bert.predict_batch(batch,get_proba = True,add_neutral=False)\n",
    "    xlnet_r = xlnet.predict_batch(batch,get_proba = True,add_neutral=False)\n",
    "    albert_r = albert.predict_batch(batch,get_proba = True,add_neutral=False)\n",
    "    bert_r = np.array([list(r.values()) for r in bert_r])\n",
    "    xlnet_r = np.array([list(r.values()) for r in xlnet_r])\n",
    "    albert_r = np.array([list(r.values()) for r in albert_r])\n",
    "    results.append((bert_r + xlnet_r + albert_r) / 3)"
   ]
  },
  {
   "cell_type": "code",
   "execution_count": 27,
   "metadata": {},
   "outputs": [
    {
     "data": {
      "text/plain": [
       "(384, 2)"
      ]
     },
     "execution_count": 27,
     "metadata": {},
     "output_type": "execute_result"
    }
   ],
   "source": [
    "results = np.concatenate(results, axis = 0)\n",
    "results.shape"
   ]
  },
  {
   "cell_type": "code",
   "execution_count": 31,
   "metadata": {},
   "outputs": [],
   "source": [
    "Y = [0] * (results.shape[0] - 1) + [1]"
   ]
  },
  {
   "cell_type": "code",
   "execution_count": 32,
   "metadata": {},
   "outputs": [
    {
     "data": {
      "text/plain": [
       "((384, 2), (384,))"
      ]
     },
     "execution_count": 32,
     "metadata": {},
     "output_type": "execute_result"
    }
   ],
   "source": [
    "numpy_array_of_noisy_labels = np.array(Y)\n",
    "results.shape, numpy_array_of_noisy_labels.shape "
   ]
  },
  {
   "cell_type": "code",
   "execution_count": 33,
   "metadata": {},
   "outputs": [],
   "source": [
    "from cleanlab.pruning import get_noise_indices\n",
    "\n",
    "ordered_label_errors = get_noise_indices(\n",
    "    s = numpy_array_of_noisy_labels,\n",
    "    psx = results,\n",
    "    sorted_index_method='normalized_margin',\n",
    " )"
   ]
  },
  {
   "cell_type": "code",
   "execution_count": 41,
   "metadata": {},
   "outputs": [
    {
     "name": "stdout",
     "output_type": "stream",
     "text": [
      "@Poconggg Cong ko lu usil banget si? Jangan suka ngintilin rakyat misskuin aja napa: (\n",
      "\"Awak dah curi hati saya.. Kalau tak suka . Jangan simpan,. PULANGKAN. BALIK.\" https://t.co/ylgcsin9kU\n",
      "Aku dh penat nk hadap,  suka hati kau la\n",
      "@hasmi_bakhtiar pakk..masalah timteng sebaiknya di pelajari dulu...kenapa saudi nggak suka dengan yaman karna udah https://t.co/QeJvaGmfVd\n",
      "@Widino @gemblongmanis_ dan pas banget kmrn saya dengerin pembicaraan diantara desakan org2 yg antusias naik mrt, m https://t.co/gcIRrZsnr3\n",
      "Tak sempurna, tapi syukur atas segalanya https://t.co/NWn8mooVUd\n",
      "[Update] Badak LNG meraih juara II Stand Desain Terbaik pada ajang Kaltim Fair 2019. Terima kasih atas kunjungannya https://t.co/xhn7F1Kl7C\n",
      "Syukur itu adlh menggunakan nikmat Allah sesuai hikmah penciptaanNya. Agama hadir untuk membantu kita memahami hikm https://t.co/IxWLoPkTKn\n",
      "\"Dalam bilik senyum je, tapi kat bawah muka sombong nak mati\" -atiqqah \n",
      "Di daerah seluas 20jt Ha atau 1,5 X P. Jawa, kami bermitra bantu Indonesia lestarikan habitat yg sehat untuk kehidu https://t.co/8wOjIXxh54\n",
      "Kunjungan Hormat ke atas Timbalan Menteri Belia dan Sukan, YB Steven Sim Chee Keong oleh Malaysia Christian Youth A https://t.co/4DTzwhGlBc\n",
      "DAN di jelaskan pula perkara di atas ni mengikut Seksyen 17 Enakmen Undang-Undang Keluarga Islam Negeri Pahang Tahun 2005:\n",
      "Teringat ayah cakap \"crita melayu macam ni la, nak tunjuk yang islam ni ganas, pastu macam mana orang nak tertarik https://t.co/8U6J4GTIZQ\n",
      "Selamat pagi..!! . Kobarkan semangatmu kawan..!!. Kita menangkan Indonesia, Kalahkan Dominasi Cina Komunis..!! https://t.co/s4WVA8h0Se\n",
      "Proses penamaan calon berjalan lancar tanpa sebarang insiden: SPR. . . Sertai Telegram Channel Kami https://t.co/hA87n7QlpT\n",
      "Comel arrr.... Xkan nak bela balik..  @ Universiti Teknologi Malaysia (UTM) https://t.co/XCq9p4QveB\n",
      "Ini bisa di ukur dari seberapa bersyukurnya kita dalam menjalani hidup. ^^. Semakin banyak bersyukur semakin banyak https://t.co/dpJaGNpAHU\n",
      "@BLINKmf Cuma bisa senyum tapi sambil minta tabung oksigen ke panitia buat napas. \n",
      "Bagus.. Partai yg Tolak Perpu Ormas &amp; Partai yg dukung HTI Banding Harus Oposisi...agar Rakyat Tau!!. . Kecuali Partai https://t.co/5iGBQEZ7hk\n",
      "Akan lebih baik jika Prabowo Subianto kali ini mengakui kekalahannya. Bagus bagi demokrasi, tanah air dan dirinya s https://t.co/1ukOzvk4Mr\n",
      "@hwantasticbabe Alhamdullilah. akhirnya DEBUTTT JG KAKKKK. HARAPAN AKU SEDERHANAAAA. SEMOGAAAA SEHAT SELALUUUUUU. LANGG https://t.co/ha7iF5z35H\n",
      "@rlthingy iya yg rambut pendek kaya pemeran utama gicu. lanjut gilaa ini bagus banget\n",
      "Untung bersih UMW Holdings naik kepada RM86.5 juta pada suku pertama. . https://t.co/fh4NULq7C2 https://t.co/lA2UhuSA5u\n",
      "Wahhhh, nak oergi mana2 xperlu risau sebab dapat bag free boleh letak barang makeup dan sebagainya. . . FREE FREE FRE https://t.co/fxbcpruobn\n",
      "SobaTani, sebagai upaya meningkatkan generasi petani, Kementan membuat terobosan dengan mengubah Sekolah Tinggi Pen https://t.co/TcLiyibcfH\n",
      "Penat otak , dapat bantal tarik selimut nikmat yakmat \n",
      "Ilmu mempercepat anda sampai ke tujuan, agama menunjukkan ke mana tujuan anda. Ilmu hiasan lahir, iman hiasan batin https://t.co/p5kS3ATHsb\n",
      "(Clip 1)Percutian yang menarik haruslah dipadankan dengan tempat rare dan istimewa! Berlatar belakangkan Gunung Santubong dan berhadapan dengan Laut China Selatan oh indahnya dunia.. . Jom follow instagram kami : https://t.co/a7jUKjdfmH https://t.co/ibLlUjKtUe\n",
      "@MurtadhaOne @makLambeTurah Alhamdulillah prabowo lolos piala Dunia\n",
      "RT JPenerangan: Jabatan Alam Sekitar (JAS) melakukan 172 pemeriksaan ke atas premis (kilang) kimia dan yang mengend https://t.co/o67udiIfqf\n",
      "Ning Ita Bantu Gerobak Dagang untuk Keluarga Isman https://t.co/UJWagRnSUl https://t.co/ESr8cSrrrj\n",
      "Inilah peserta babak delapan besar Piala Dunia wanita. #FIFAWWC. . #NOR v  #ENG . #FRA v #USA. #ITA v #NED. #GER v #SWE https://t.co/vKy8RE1vTe\n",
      "Kalah dari Everton, MU Didesak Jual Nemanja Matic https://t.co/QWjXWCB8uq\n",
      "Jelajah Warisan - Mengenali warisan-warisan kampung di bandar yang masih mengamalkan aktiviti gotong-royong beramai https://t.co/h2RE9rGB4F\n",
      "Jadi, jangan lepaskan peluang anda dengan menyertai pertandingan OPEN BUSKING  . . SAVE THE DATE: . .  24 April 2019 https://t.co/CgT25e8DQs\n",
      "Alhamdulillah, buku terbaru saya, #hijaberjikaitulahjalanmu sudah selesai dicetak.. . @grasindo_id https://t.co/5qoXJlXNtA\n",
      "(cont.) kopi hitam tanpa gula atau cold brew saat ia menginginkan sesuatu yang lebih ringan.. . \"Selamat malam, Hyera https://t.co/TYPmElCCe1\n",
      "@AbdulRa59949591 @GOTHSIX Selamat Siang Bpk Abdul Rahman. Mohon maaf atas keluhan yang dialami, mohon informasi kro https://t.co/rwbkSSDosy\n",
      "Saya menyokong sepenuhnya pendirian YAB Perdana Menteri. Ya lah, demi kerusi empuk gaji elaun puluhan ribu, saya sa https://t.co/0NG7wDMoom\n",
      "@NursenjaAri @wisono_ Poto propil km kayak angen kacang\n",
      "Rakyat Malaysia raih tempat ketiga pertandingan Mrs World 2019. . https://t.co/H9pYcW1oSi https://t.co/lTi4hlucJN\n",
      "Ini pertama kali saya tengok Malaysia main, pertama kali saya tengok @harimaumalaya7 secara dekat. Tapi silap patut https://t.co/DPsshGyKZ0\n",
      "Tze Liang, Yi Wei raih pingat gangsa https://t.co/FWTdOX33VC\n",
      "Misalnya, saat ini PTFI hanya mengekspor dan menghasilkan konsentrat, melalui pembangunan smelter, produk yang diha https://t.co/706ZD4ppIn\n",
      "postingiklan Yuk diorder Lingerie, Sleepwear, Baju Muslim, Atasan, Dress, Celana, Rok, dll. 7D1347DD / WA 083872031 https://t.co/BK29mBySLE\n",
      "@mohmahfudmd @ZulfirmanG @KPU_ID @RamliRizal @msaid_didu Dengan semua kecurangan demi kecurangan yang viral di medi https://t.co/5MDcthMUmw\n",
      "Terimakasih sudah menyalurkan perasaan dengan tulisan ini @briankhrisna https://t.co/tLwoxTup4Z\n",
      "it supposed to be we spend our time as much as we can sebab lepasni tak tahu lagi bila kita akan jumpa. tapi end up kita macam ni. redha\n",
      "@TlARA___ Gua mau jualan saham KAI aja deh\n",
      "@krthingy anak anak liar. teknologi budaya baru. dapat 7. enam hari\n",
      "Penguasaan 51% saham PT. Freeport Indonesia (PTFI) merupakan salah satu prestasi yang telah diperjuangkan oleh Pemerintah Indonesia\n",
      "Sosok bersahaja dan rendah hati, Ustadz Imam Sujius, beliau Caleg DPRD Provinsi dari Partai PKS, No Urut 1, ingat s https://t.co/bkhQEe8ZdN\n",
      "@AdwinWidanta kang pegang tangan you, you pulak yang geli kang\n",
      "Masjid Hidayatullah Pasuruan Jawa Timur mendapat penjagaan Banser, setelah sebelumnya terjadi perselisihan antar go https://t.co/chpdHg9dYl\n",
      "@womanfeeds Tergantung merk, tapi kemaren aku ke optik melawai nemu yang kanan atas ada yang paketan frame+lensa 25 https://t.co/Q8wCnRg8Ln\n",
      "Dua Cara Barcelona Curi Neymar dari PSG https://t.co/WYEbmqdgdh https://t.co/EMbUXOLaL3\n",
      "Strategi Bulog Jaga Stabilitas Pangan Jelang Idulfitri 2019 https://t.co/rXGcISgo07 https://t.co/sPh1OZND1d\n",
      "@PejuangHashtag Buka puasa ngemilnya Pepaya . Pepaya dipetik di kebun Bu Anya . Cukup sekian pantun dari Saya . Semoga https://t.co/LBYnrTLFc1\n",
      "@_muzzemAdnan &amp; jimat duit iftar di mesjid leggo!!!\n",
      "Pertanyaannya sederhana, jika kami memang dukung Prabowo ngapain selama kampanye kemarin capek2 dukung Jokowi sampa https://t.co/AlbiWwqWmj\n",
      "kafir terbaik https://t.co/rRxvfZXTQP\n",
      "Minggu 30 Juni 2019. Pemeriksaan ulang komoditi benih gurame 20.000ekor/18kg/1koli yg akan dilalulintaskan domestik https://t.co/b5KaIgdABQ\n",
      "Allah SWT berfirman : Tidak ada paksaan dalam (menganut) agama (Islam), sesungguhnya telah jelas (perbedaan) antara https://t.co/20XUDP7DRJ\n",
      "Kekasih bayangan.\n",
      "Rais Yatim mahu jumpa 4 ahli akademik isu Statut Rom\n",
      "@ReflyHZ Sebagai manusia.. memang kita adalah gudang kesalahan.. Mungkin kita tidak benar. Tapi fakta bisa dijadika https://t.co/uY6KsOsSMq\n",
      "ia diampuni kerana perbuatannya itu.Riwayat al-Bukhari dan Muslim. . Kisah ini mengajarkan kita bahawa ikhlas itu ma https://t.co/WBC84bhAB4\n",
      "+ banyak.. . Sesekali ia mengintip ke layarberharap mungkin Jaehyuk telah membalas pesannya. Yang ditunggu-tunggu pu https://t.co/iHxUP0lTsC\n",
      "Selamat Hari Kesiapsiagaan Bencana Tahun 2019 . #siapuntukselamat #pmisiapbantu . . @PMIJawaTengah @pkl_bpbd beritape https://t.co/bXOL6R7Jjd\n",
      "Bagi peniaga online yang menggunakan iPhone sebagai fon untuk interaksi dengan pembeli ketahui la anda da boleh do https://t.co/0Xy4TGeVRt\n",
      "Tajikistan itu salah satu negara pecahan Uni Soviet berbatasan sama Afganistan, Uzbekistan (dua lagi lupa) uniknya https://t.co/3ngmSZwUqH\n",
      "ugh tolonglah lelaki yang senyum miang dengan perempuan ni fikir perempuan suka ka kamu buat camtu. creepy as fuck macam aku mau maki ja kau\n",
      "@MyNameIsDC @wardayun @dewimaysaa @BakaShiroKuma @HeruPurnomo001 @Aisyah69352605 @cumarachel Pengecut itu namanya. https://t.co/Tm8Ehz1TMz\n",
      "\".......Tahun ini, Jawa Tengah membuat gebrakan agar batik Jawa Tengah dapat didesain oleh desainer-desainer terken https://t.co/HlL1til1b0\n",
      "Rundingan bina ECRL oleh kerajaan sebelum ini tidak telus tanpa sebarang kajian terperinci mengenainya - Tun Dr M https://t.co/Kyd1vajlR9\n",
      "Oklah tata segan pula\n",
      "(cont) tidak menggunakan mobil, bisa-bisa sang dara akan berpikiran yang tidak-tidak. Keep low profile Aaron.. . Sang https://t.co/akkgGyUlvb\n",
      "Kemerdekaan adalah, nasi dimakan lalu menjadi TAI!!! . *Wijithukul*\n",
      "30 biji =rm15. 50 biji=rm25. . Serdang area dan sekitar.... Mohon retweet rezeki mak saya https://t.co/0iYVbZ9Uof\n",
      "Dari semua sudut pasti kalah, kecuali ilmu agama. https://t.co/yRZFytdNJs\n",
      "Sedari awal lahirnya agama ini, senantiasa mengendapankan akal untuk memecahkan masalah\n",
      "@GrumpyIsMeh Rawat lah rambut mu. Botak sih ngk, risih iya. Rambut mu ketebalan, vit atau mineral ngk merata. Yg ngk dapat rontok.\n",
      "Menurut sy DPR RI harus menolak ini, atau gunakan hak interpelasi apa maksud dari perpres yg mengembalikan lagi dwi https://t.co/yoLynzjP8J\n",
      "Next level ini mamak\n",
      "Jangan cakap semua sebab bukan semua yg minat tu atas sebab nak hilangkan masalah\n",
      "@ASapardan @DivHumas_Polri @saididu tua Bangka Anjing\n",
      "Krisis perlembagaan kedua bermula balik dgn orang sama dgn @chedetofficial https://t.co/NQRc9f2Fip\n",
      "@Wariman_ Carilah pasangan yang enggak pernah menggantungkan kebahagiaannya , kehidupannya kepadamu. Cari yang eman https://t.co/GlZs7Wv36S\n",
      "@LempengMilo Terok benar neh...\n",
      "7 . . Walau apa pon yang terjadi dalam hidup ni, jangan pernah mengalah. Ingat, perjalanan hidup kita masih lagi pan https://t.co/o0lWlYOmIw\n",
      "Siaran Media YB Menteri Kewangan guanenglim Berkenaan Lanjutan Tempoh Pengecualian Duti Setem Bagi Pembelian Rumah https://t.co/gBIw6J6qit\n",
      "@MemeComicIndo Untung udah ketrima di kedokteran buah\n",
      "Memiliki sedikit iman lebih berharga dari pada memiliki segudang emas! #TweetDSAP\n",
      "@ahmadmaslan naung tu tak subur,kena tebang pokok yang menaung tu dulu baru subur semua\n",
      "@jokowi Bangga manfaat \"DILAN\" perputaran uang yg mendukung pertumbuhan ekonomi mikro-makro,mengurangi pengangguran https://t.co/QY8FeBNrxc\n",
      "umur gw beda jauh ama dia, gw 23 sedangkan dia 34. pas awal gw kenalan, dia bilang kalo dia minder dgn jabatan dan https://t.co/qQJOkIF05o\n",
      "HNW Ajak Masyarakat Lanjutkan Perjuangan Ulama Lewat Pemilu https://t.co/wZg4L8rb7j\n",
      "@J_Bianconero Nikmat HDI (index kesejahteraan negara/masy) terjun bebas? Ekonomi mandek? Hutang LN ga kebayar? Nikm https://t.co/0R2PqRtsTM\n",
      "Hmmm poor you  sokay setiap yang berlaku ada hikmahnya. Be strong insyaAllah everything will be alright \n",
      "Sexy Killers. Sebelum nonton ini tujuan gua adalah dapet kepastian untuk memilih salah satu pemimpin yang paling pa https://t.co/HDgcFK2i3x\n",
      "Anugerah lapar terindah.. Terhitung sejak pukul 06.15 sampai 11.10 WIB, sudah makan 3 porsi nasi, 1 gelas susu, 2 bu https://t.co/tQaF6Uumnz\n",
      "@tanya2rl Chatime, koi, share tea, coco doangg\n",
      "Masih berada dibawah langit yang sama tapi kangennya luar biasa, padahal bertegur sapa juga tak seberapa. Aneh ini rasa\n",
      "Siapa yang kedekut tu sila munculkan diri andaaaa https://t.co/Cj6x3APOxZ\n",
      "TADI AK LG NYETRIKA BAJU BATIKNYA AYAH AK TBTB KEPIKIRAN SEUNGWOO MAKE BAJU BATIK TRS DATENG KE KONDANGAN GT AKSHSJAJS apaansih\n",
      "9 Mei  Satu tahun Pakatan Harapan : Terus usaha penuhi janji. . PM, Tun Dr. Mahathir bin Mohamad menegaskan, Empat p https://t.co/vQw1vszv5j\n",
      "Mentaliti kapitalis hedonis. Takde langsung fikir tentang pembangunan jati diri belia, jahanam anak bangsa.. . Akhirn https://t.co/CmJEHqm6GX\n",
      "Minyak Sempat Uji $63 per barrel, setelah 4 Kapal Di Serang https://t.co/HHIYqwgw11 #Gold #Stock #Forex\n",
      "SECEBIS INFO. mike Dean telah melayangkan kad merah yang ke-100 beliau pada perlawanan WOL vs MNU #CFC #Info #Legend https://t.co/Pc1QnU8N7v\n",
      "@Ridwanals Gabole nyalahin cinta dong. Km, buku dan menulis juga bukannya karna cinta? Semua masalah porsi aj~ coba https://t.co/Z3cbByhbNI\n",
      "@novianasz_ kalo divideonya tetep chiko mb karna katanya \"hilang ruang buat cinta yg lain\", kalo kisah nyata saya sih tai kucing :)\n",
      "Tun Dr Mahathir bin Mohamad: STATUT ROM: KEADILAN UNTUK MANGSA MH 17 - Sign the Petition! https://t.co/MRmHRDL2j0 via @Change\n",
      "Dari sejuta harapan, hanya satu yang menjanjikan, berjuang untuk orang yang sangat dicintai _ pw1:21\n",
      "Sumpah aku gatau harus ketawa atau nangis \n",
      "@akungajelasya PIXY Lip Cream no 2 (Party Red) beberapa bulan lalu beli harganya sih masih 36k sekian, gatau deh kalau sekarang\n",
      "Makin lama main takut nak nikah. Allah.  Semoga yg dtg nanti lelaki yg baik baik. https://t.co/J3doPfc8pP\n",
      "@psuedonymoux Masuknya ke gosip, karena datang dari mulut ke mulut. Apakah berlebihan sanksi sosial yang diterima i https://t.co/SY1lh8UpnK\n",
      "DALAM WAKTU BERSAMAAN GUS NUR JADI TERSANGKA PENCEMARAN NAMA BAIK DI 2 KOTA . . Berkas kasus dugaan pencemaran nama b https://t.co/W5axH6ovWX\n",
      "Keadaan yg semakin membuat rakyat menginginkan perubahan menuju Indonesia yg lebih baek..harapan rakyat hanya https://t.co/aGNxDplLDG\n",
      "@Furqan_ishak @syamimnaim_ Fukon kasi tips pujok marka please\n",
      "AMD Memperlihatkan Teknologi 7nm Mereka Melalui CPU AMD Ryzen 3000 Dan Kad Grafik AMD NaviRX5700 https://t.co/ftSIP0iBud\n",
      "JAKARTA AQUARIUM Promo Women Days Out - Diskon 35% untuk tiket Masuk* berlaku setiap hari Senin-Jumat selama bulan https://t.co/0HVy8qGtXk\n",
      "Okay Im gonna leave this here. @daliafarhana punya cover tak pernah mengecewakan.  https://t.co/3o3cjqvSQH\n",
      "Aku kelewat senang berteman dengan orang-orang miskin yang nggak pernah berpikir kalau 'miskin' adalah nasib buruk bagi manusia.\n",
      "Sang puan mengangguk-anggukan kepalanya sambil mencatat penjelasan Professor.. .    \"Hanya digunakan jika ada keadaan https://t.co/cb6ifOego8\n",
      "@guanlincu Iyakan ada ada aja kita potong rambut mikir2 dia main potong aja\n",
      "Saya faham dan akan turut merasakan yang sama, jikalau berada ditempat isteri. Ingat, satu benda sampai bila2. Ta https://t.co/vb02HIqgV4\n",
      "Dan bagi para buzzer Budi Karya yg meng-ulang narasi BOTOL tiket murah akan berdampak pada keselamatan penerbangan https://t.co/fsAvlseYqj\n",
      "@NurmanSulaiman1 @RamliRizal @rockygerung KETIKA  ULAMA DATANG MENGETUK PINTU ISTANA, APALAGI INGIN TINGGAL DI ISTA https://t.co/k9hwwHreDo\n",
      "@daydrexam Kenzy memutar bola matanya malas. Ia beranjak dari kamar menuju dapur. Lalu, mengambil mangkuk cumi bala https://t.co/pUim6AIJCq\n",
      "seneng sih ditanyain soal makanan indonesia tapi permintaannya dibawa ke tokyo makin aneh-aneh. dari alpuket, pepaya, sekarang?. . rambutan.\n",
      "Kemenangan Datuk Seri Utama Mohamad Hj Hasan di Rantau suatu mesej bahawa PH telah ditolak oleh pengundi yang meras https://t.co/cgSLdOYHkI\n",
      "@cypherptbts @IPGMalaysia_ Yes!menaruh harapan sangat\n",
      "Najib, Rosmah dan tiga anak bantah pihak ketiga tuntut harta disita polis https://t.co/YJkpDOubYC via @malaysiagazette\n",
      "@__shashashy__ apa perlu aku putar ulang kejadian saat kita liat chatime? engga kan. https://t.co/pdolA8Tnjv\n",
      "tadi pagi naik 1719 panas bgt ga ada kipas ga ada ac, sekarang naik 1741 ada kipas tapi panas jg keretanya:( berasa https://t.co/STkZEfrOso\n",
      "@nurevanatasya Takde angin masakan pokok bergoyang.\n",
      "@Adit_ghodit Hi mohon maaf saat ini belum ada informasi terkait hak siar EPL untuk musim 2019/2020. Selalu update u https://t.co/ewvyDOpkHE\n",
      "Tadi lepas habis program masa sesi bergambar ada sorang budak ppuan ni tegur . \" Kak iman unisza kan? \". \" Aikkk kenal mana\". Jeng jeng jeng\n",
      "@ParisIchad Benda boleh kalah, buat ape menang...\n",
      "@invisibluee Dadah\n",
      "Aku hadir karna aku ingin menyelamatkan kamu.\n",
      "Moga Aidilfitri ni kan menjadi titik pemula kita menghilang sifat membenci orang dalam diri atas sebab-sebab remeh. https://t.co/S4CzHIo2n5\n",
      "kondisi psikologis setiap orang beda2. tergantung depresi nya sampe tahap apa. sebagai yang pernah mengalami, membu https://t.co/QuWJSWdQOp\n",
      "@rdn_Fahmi @askmenfess fitnah mi,segini wangi ge\n",
      "Berarti selama ini dari mana asal pembiayaan surau? Pak Dinas bertanya.. . Ya semuanya ditanggung sendiri. tutur https://t.co/sVQi1jTAzb\n",
      "YANG NIAT NYARI FOLOWERS GAUSAH FOLOW ANJING KALAU MAU UNFOLL SINI LO NGENTOT BERASA ANAK SULTAN LU\n",
      "Malas nyer nak keje nari \n"
     ]
    }
   ],
   "source": [
    "emotions = ['anger', 'fear', 'happy', 'love', 'sadness', 'surprise']\n",
    "\n",
    "for i in ordered_label_errors:\n",
    "    if np.argmax(results[i]) == 1:\n",
    "        print(ns[i].replace('\\n', '. '))"
   ]
  }
 ],
 "metadata": {
  "kernelspec": {
   "display_name": "Python 3",
   "language": "python",
   "name": "python3"
  },
  "language_info": {
   "codemirror_mode": {
    "name": "ipython",
    "version": 3
   },
   "file_extension": ".py",
   "mimetype": "text/x-python",
   "name": "python",
   "nbconvert_exporter": "python",
   "pygments_lexer": "ipython3",
   "version": "3.6.8"
  }
 },
 "nbformat": 4,
 "nbformat_minor": 2
}
