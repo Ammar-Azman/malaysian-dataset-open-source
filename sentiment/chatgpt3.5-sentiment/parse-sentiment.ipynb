{
 "cells": [
  {
   "cell_type": "code",
   "execution_count": 11,
   "id": "124a0f34",
   "metadata": {},
   "outputs": [],
   "source": [
    "# !wget https://huggingface.co/datasets/mesolitica/chatgpt-explain-sentiment/resolve/main/explain-sentiment.json"
   ]
  },
  {
   "cell_type": "code",
   "execution_count": 2,
   "id": "daa53584",
   "metadata": {},
   "outputs": [],
   "source": [
    "import json"
   ]
  },
  {
   "cell_type": "code",
   "execution_count": 3,
   "id": "edef6eb3",
   "metadata": {},
   "outputs": [],
   "source": [
    "with open('explain-sentiment.json') as fopen:\n",
    "    data = json.load(fopen)"
   ]
  },
  {
   "cell_type": "code",
   "execution_count": 4,
   "id": "faf0627b",
   "metadata": {
    "scrolled": false
   },
   "outputs": [
    {
     "data": {
      "text/plain": [
       "168004"
      ]
     },
     "execution_count": 4,
     "metadata": {},
     "output_type": "execute_result"
    }
   ],
   "source": [
    "len(data)"
   ]
  },
  {
   "cell_type": "code",
   "execution_count": 13,
   "id": "f9dd0165",
   "metadata": {},
   "outputs": [],
   "source": [
    "with open('sentiment.jsonl', 'w') as fopen:\n",
    "    for d in data:\n",
    "        try:\n",
    "            e = json.loads(d[1])\n",
    "        except:\n",
    "            continue\n",
    "\n",
    "        e['text'] = d[0].strip()\n",
    "        fopen.write(f'{json.dumps(e)}\\n')"
   ]
  },
  {
   "cell_type": "code",
   "execution_count": null,
   "id": "8014749b",
   "metadata": {},
   "outputs": [],
   "source": []
  }
 ],
 "metadata": {
  "kernelspec": {
   "display_name": "Python 3 (ipykernel)",
   "language": "python",
   "name": "python3"
  },
  "language_info": {
   "codemirror_mode": {
    "name": "ipython",
    "version": 3
   },
   "file_extension": ".py",
   "mimetype": "text/x-python",
   "name": "python",
   "nbconvert_exporter": "python",
   "pygments_lexer": "ipython3",
   "version": "3.8.10"
  }
 },
 "nbformat": 4,
 "nbformat_minor": 5
}
