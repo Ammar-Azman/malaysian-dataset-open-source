{
 "cells": [
  {
   "cell_type": "code",
   "execution_count": 9,
   "metadata": {},
   "outputs": [],
   "source": [
    "# !wget https://f000.backblazeb2.com/file/malay-dataset/sentiment/semisupervised/train-set.json"
   ]
  },
  {
   "cell_type": "code",
   "execution_count": 2,
   "metadata": {},
   "outputs": [],
   "source": [
    "import json"
   ]
  },
  {
   "cell_type": "code",
   "execution_count": 16,
   "metadata": {},
   "outputs": [],
   "source": [
    "filename = 'train-set.json'"
   ]
  },
  {
   "cell_type": "code",
   "execution_count": 19,
   "metadata": {},
   "outputs": [],
   "source": [
    "with open(filename) as fopen:\n",
    "    data = json.load(fopen)['train_X']"
   ]
  },
  {
   "cell_type": "code",
   "execution_count": 8,
   "metadata": {},
   "outputs": [
    {
     "data": {
      "text/plain": [
       "167004"
      ]
     },
     "execution_count": 8,
     "metadata": {},
     "output_type": "execute_result"
    }
   ],
   "source": [
    "len(data['train_X'])"
   ]
  },
  {
   "cell_type": "code",
   "execution_count": 10,
   "metadata": {},
   "outputs": [],
   "source": [
    "import openai\n",
    "import json\n",
    "from concurrent.futures import ThreadPoolExecutor, as_completed\n",
    "from tqdm import tqdm\n",
    "import os\n",
    "from tenacity import (\n",
    "    retry,\n",
    "    stop_after_attempt,\n",
    "    wait_random_exponential,\n",
    ")"
   ]
  },
  {
   "cell_type": "code",
   "execution_count": 11,
   "metadata": {},
   "outputs": [],
   "source": [
    "openai.api_key = ''"
   ]
  },
  {
   "cell_type": "code",
   "execution_count": 31,
   "metadata": {},
   "outputs": [],
   "source": [
    "@retry(wait=wait_random_exponential(min=1, max=60), stop=stop_after_attempt(3))\n",
    "def translate_text(value):\n",
    "    t = f\"\"\"\n",
    "text `{value}`, categorize the text with label ['negative', 'positive', 'neutral'] and explain, return as JSON key {{'sentiment', 'explain_en', 'explain_ms'}}\n",
    "    \"\"\"\n",
    "    response = openai.ChatCompletion.create(\n",
    "        model=\"gpt-3.5-turbo\",\n",
    "        messages=[\n",
    "                {\"role\": \"user\", \"content\": t},\n",
    "            ],\n",
    "        max_tokens=1500,\n",
    "        temperature=0.1,\n",
    "        )\n",
    "    return response.choices[0][\"message\"][\"content\"].strip()"
   ]
  },
  {
   "cell_type": "code",
   "execution_count": 32,
   "metadata": {},
   "outputs": [],
   "source": [
    "def translate(data):\n",
    "    return (data, translate_text(data))"
   ]
  },
  {
   "cell_type": "code",
   "execution_count": 35,
   "metadata": {},
   "outputs": [
    {
     "name": "stderr",
     "output_type": "stream",
     "text": [
      "Translating: 100%|██████████████████████████| 1000/1000 [01:08<00:00, 14.63it/s]\n",
      "Translating: 100%|██████████████████████████| 1000/1000 [01:10<00:00, 14.09it/s]\n",
      "Translating: 100%|██████████████████████████| 1000/1000 [01:08<00:00, 14.50it/s]\n",
      "Translating: 100%|██████████████████████████| 1000/1000 [01:10<00:00, 14.21it/s]\n",
      "Translating: 100%|██████████████████████████| 1000/1000 [01:14<00:00, 13.46it/s]\n",
      "Translating: 100%|██████████████████████████| 1000/1000 [01:16<00:00, 13.05it/s]\n",
      "Translating: 100%|██████████████████████████| 1000/1000 [01:14<00:00, 13.39it/s]\n",
      "Translating: 100%|██████████████████████████| 1000/1000 [01:12<00:00, 13.74it/s]\n",
      "Translating: 100%|██████████████████████████| 1000/1000 [01:10<00:00, 14.13it/s]\n",
      "Translating: 100%|██████████████████████████| 1000/1000 [01:10<00:00, 14.12it/s]\n",
      "Translating: 100%|██████████████████████████| 1000/1000 [01:13<00:00, 13.55it/s]\n",
      "Translating: 100%|██████████████████████████| 1000/1000 [01:09<00:00, 14.33it/s]\n",
      "Translating: 100%|██████████████████████████| 1000/1000 [01:11<00:00, 13.94it/s]\n",
      "Translating: 100%|██████████████████████████| 1000/1000 [01:08<00:00, 14.52it/s]\n",
      "Translating: 100%|██████████████████████████| 1000/1000 [01:11<00:00, 14.07it/s]\n",
      "Translating: 100%|██████████████████████████| 1000/1000 [01:09<00:00, 14.46it/s]\n",
      "Translating: 100%|██████████████████████████| 1000/1000 [01:10<00:00, 14.13it/s]\n",
      "Translating: 100%|██████████████████████████| 1000/1000 [01:06<00:00, 15.02it/s]\n",
      "Translating: 100%|██████████████████████████| 1000/1000 [01:11<00:00, 14.06it/s]\n",
      "Translating: 100%|██████████████████████████| 1000/1000 [01:06<00:00, 14.94it/s]\n",
      "Translating: 100%|██████████████████████████| 1000/1000 [01:08<00:00, 14.63it/s]\n",
      "Translating: 100%|██████████████████████████| 1000/1000 [01:05<00:00, 15.25it/s]\n",
      "Translating: 100%|██████████████████████████| 1000/1000 [01:07<00:00, 14.74it/s]\n",
      "Translating: 100%|██████████████████████████| 1000/1000 [06:15<00:00,  2.66it/s]\n",
      "Translating: 100%|██████████████████████████| 1000/1000 [06:13<00:00,  2.67it/s]\n",
      "Translating: 100%|██████████████████████████| 1000/1000 [05:59<00:00,  2.78it/s]\n",
      "Translating: 100%|██████████████████████████| 1000/1000 [01:06<00:00, 15.14it/s]\n",
      "Translating: 100%|██████████████████████████| 1000/1000 [01:10<00:00, 14.11it/s]\n",
      "Translating: 100%|██████████████████████████| 1000/1000 [05:38<00:00,  2.96it/s]\n",
      "Translating: 100%|██████████████████████████| 1000/1000 [01:06<00:00, 15.04it/s]\n",
      "Translating: 100%|██████████████████████████| 1000/1000 [01:06<00:00, 14.94it/s]\n",
      "Translating: 100%|██████████████████████████| 1000/1000 [01:05<00:00, 15.34it/s]\n",
      "Translating: 100%|██████████████████████████| 1000/1000 [01:07<00:00, 14.72it/s]\n",
      "Translating: 100%|██████████████████████████| 1000/1000 [01:07<00:00, 14.72it/s]\n",
      "Translating: 100%|██████████████████████████| 1000/1000 [10:49<00:00,  1.54it/s]\n",
      "Translating: 100%|██████████████████████████| 1000/1000 [01:01<00:00, 16.14it/s]\n",
      "Translating: 100%|██████████████████████████| 1000/1000 [01:05<00:00, 15.29it/s]\n",
      "Translating: 100%|██████████████████████████| 1000/1000 [01:04<00:00, 15.47it/s]\n",
      "Translating: 100%|██████████████████████████| 1000/1000 [01:07<00:00, 14.87it/s]\n",
      "Translating: 100%|██████████████████████████| 1000/1000 [01:10<00:00, 14.11it/s]\n",
      "Translating: 100%|██████████████████████████| 1000/1000 [01:06<00:00, 15.00it/s]\n",
      "Translating: 100%|██████████████████████████| 1000/1000 [01:05<00:00, 15.38it/s]\n",
      "Translating: 100%|██████████████████████████| 1000/1000 [01:06<00:00, 15.05it/s]\n",
      "Translating: 100%|██████████████████████████| 1000/1000 [01:02<00:00, 15.91it/s]\n",
      "Translating: 100%|██████████████████████████| 1000/1000 [01:06<00:00, 15.05it/s]\n",
      "Translating: 100%|██████████████████████████| 1000/1000 [01:03<00:00, 15.63it/s]\n",
      "Translating: 100%|██████████████████████████| 1000/1000 [01:10<00:00, 14.10it/s]\n",
      "Translating: 100%|██████████████████████████| 1000/1000 [01:03<00:00, 15.67it/s]\n",
      "Translating: 100%|██████████████████████████| 1000/1000 [01:05<00:00, 15.32it/s]\n",
      "Translating: 100%|██████████████████████████| 1000/1000 [01:05<00:00, 15.32it/s]\n",
      "Translating: 100%|██████████████████████████| 1000/1000 [01:07<00:00, 14.77it/s]\n",
      "Translating: 100%|██████████████████████████| 1000/1000 [01:03<00:00, 15.81it/s]\n",
      "Translating: 100%|██████████████████████████| 1000/1000 [01:05<00:00, 15.38it/s]\n",
      "Translating: 100%|██████████████████████████| 1000/1000 [01:06<00:00, 14.96it/s]\n",
      "Translating: 100%|██████████████████████████| 1000/1000 [01:05<00:00, 15.16it/s]\n",
      "Translating: 100%|██████████████████████████| 1000/1000 [01:07<00:00, 14.92it/s]\n",
      "Translating: 100%|██████████████████████████| 1000/1000 [01:03<00:00, 15.66it/s]\n",
      "Translating: 100%|██████████████████████████| 1000/1000 [01:04<00:00, 15.57it/s]\n",
      "Translating: 100%|██████████████████████████| 1000/1000 [01:03<00:00, 15.84it/s]\n",
      "Translating: 100%|██████████████████████████| 1000/1000 [01:03<00:00, 15.74it/s]\n",
      "Translating: 100%|██████████████████████████| 1000/1000 [01:05<00:00, 15.25it/s]\n",
      "Translating: 100%|██████████████████████████| 1000/1000 [01:04<00:00, 15.50it/s]\n",
      "Translating: 100%|██████████████████████████| 1000/1000 [01:02<00:00, 15.96it/s]\n",
      "Translating: 100%|██████████████████████████| 1000/1000 [01:07<00:00, 14.89it/s]\n",
      "Translating: 100%|██████████████████████████| 1000/1000 [01:02<00:00, 15.99it/s]\n",
      "Translating: 100%|██████████████████████████| 1000/1000 [01:05<00:00, 15.15it/s]\n",
      "Translating: 100%|██████████████████████████| 1000/1000 [01:04<00:00, 15.60it/s]\n",
      "Translating: 100%|██████████████████████████| 1000/1000 [01:11<00:00, 13.94it/s]\n",
      "Translating: 100%|██████████████████████████| 1000/1000 [01:04<00:00, 15.41it/s]\n",
      "Translating: 100%|██████████████████████████| 1000/1000 [01:07<00:00, 14.92it/s]\n",
      "Translating: 100%|██████████████████████████| 1000/1000 [01:03<00:00, 15.65it/s]\n",
      "Translating: 100%|██████████████████████████| 1000/1000 [01:06<00:00, 15.14it/s]\n",
      "Translating: 100%|██████████████████████████| 1000/1000 [01:04<00:00, 15.54it/s]\n",
      "Translating: 100%|██████████████████████████| 1000/1000 [01:03<00:00, 15.83it/s]\n",
      "Translating: 100%|██████████████████████████| 1000/1000 [01:03<00:00, 15.63it/s]\n",
      "Translating: 100%|██████████████████████████| 1000/1000 [01:03<00:00, 15.66it/s]\n",
      "Translating: 100%|██████████████████████████| 1000/1000 [01:04<00:00, 15.40it/s]\n",
      "Translating: 100%|██████████████████████████| 1000/1000 [01:02<00:00, 15.94it/s]\n",
      "Translating: 100%|██████████████████████████| 1000/1000 [01:10<00:00, 14.25it/s]\n",
      "Translating: 100%|██████████████████████████| 1000/1000 [01:04<00:00, 15.54it/s]\n",
      "Translating: 100%|██████████████████████████| 1000/1000 [01:04<00:00, 15.44it/s]\n",
      "Translating: 100%|██████████████████████████| 1000/1000 [01:05<00:00, 15.17it/s]\n",
      "Translating: 100%|██████████████████████████| 1000/1000 [01:04<00:00, 15.46it/s]\n",
      "Translating: 100%|██████████████████████████| 1000/1000 [01:03<00:00, 15.74it/s]\n",
      "Translating: 100%|██████████████████████████| 1000/1000 [01:05<00:00, 15.26it/s]\n",
      "Translating: 100%|██████████████████████████| 1000/1000 [01:06<00:00, 15.12it/s]\n",
      "Translating: 100%|██████████████████████████| 1000/1000 [01:05<00:00, 15.30it/s]\n",
      "Translating: 100%|██████████████████████████| 1000/1000 [01:02<00:00, 15.89it/s]\n",
      "Translating: 100%|██████████████████████████| 1000/1000 [01:04<00:00, 15.44it/s]\n",
      "Translating: 100%|██████████████████████████| 1000/1000 [01:05<00:00, 15.26it/s]\n",
      "Translating: 100%|██████████████████████████| 1000/1000 [01:00<00:00, 16.58it/s]\n",
      "Translating: 100%|██████████████████████████| 1000/1000 [01:02<00:00, 16.10it/s]\n",
      "Translating: 100%|██████████████████████████| 1000/1000 [00:57<00:00, 17.46it/s]\n",
      "Translating: 100%|██████████████████████████| 1000/1000 [00:59<00:00, 16.76it/s]\n",
      "Translating: 100%|██████████████████████████| 1000/1000 [01:02<00:00, 15.94it/s]\n",
      "Translating: 100%|██████████████████████████| 1000/1000 [01:00<00:00, 16.54it/s]\n",
      "Translating: 100%|██████████████████████████| 1000/1000 [01:00<00:00, 16.53it/s]\n",
      "Translating: 100%|██████████████████████████| 1000/1000 [01:01<00:00, 16.37it/s]\n",
      "Translating: 100%|██████████████████████████| 1000/1000 [01:00<00:00, 16.61it/s]\n",
      "Translating: 100%|██████████████████████████| 1000/1000 [01:00<00:00, 16.51it/s]\n",
      "Translating: 100%|██████████████████████████| 1000/1000 [00:58<00:00, 17.01it/s]\n",
      "Translating: 100%|██████████████████████████| 1000/1000 [01:02<00:00, 15.92it/s]\n",
      "Translating: 100%|██████████████████████████| 1000/1000 [00:59<00:00, 16.94it/s]\n",
      "Translating: 100%|██████████████████████████| 1000/1000 [01:00<00:00, 16.57it/s]\n",
      "Translating: 100%|██████████████████████████| 1000/1000 [01:00<00:00, 16.54it/s]\n",
      "Translating: 100%|██████████████████████████| 1000/1000 [01:01<00:00, 16.33it/s]\n",
      "Translating: 100%|██████████████████████████| 1000/1000 [01:03<00:00, 15.73it/s]\n",
      "Translating: 100%|██████████████████████████| 1000/1000 [01:07<00:00, 14.89it/s]\n",
      "Translating: 100%|██████████████████████████| 1000/1000 [01:03<00:00, 15.81it/s]\n",
      "Translating: 100%|██████████████████████████| 1000/1000 [01:02<00:00, 15.90it/s]\n",
      "Translating: 100%|██████████████████████████| 1000/1000 [01:00<00:00, 16.59it/s]\n",
      "Translating:  83%|██████████████████████▍    | 832/1000 [00:49<00:11, 14.95it/s]IOPub message rate exceeded.\n",
      "The notebook server will temporarily stop sending output\n",
      "to the client in order to avoid crashing it.\n",
      "To change this limit, set the config variable\n",
      "`--NotebookApp.iopub_msg_rate_limit`.\n",
      "\n",
      "Current values:\n",
      "NotebookApp.iopub_msg_rate_limit=1000.0 (msgs/sec)\n",
      "NotebookApp.rate_limit_window=3.0 (secs)\n",
      "\n"
     ]
    }
   ],
   "source": [
    "MAX_PARALLEL_REQUESTS = 100\n",
    "CHUNK_SIZE = 1000\n",
    "start = 10\n",
    "end = len(data)\n",
    "# Translate the data in chunks of 1000 items\n",
    "for i in range(start, end, CHUNK_SIZE):\n",
    "    start = i\n",
    "    end = i + CHUNK_SIZE\n",
    "    \n",
    "    new_filename = f'{filename}_{start}_to_{end}.json'\n",
    "    if os.path.exists(new_filename):\n",
    "        continue\n",
    "\n",
    "    translated_data = []\n",
    "    data_new = data[start:end]\n",
    "\n",
    "    with ThreadPoolExecutor(max_workers=MAX_PARALLEL_REQUESTS) as executor:\n",
    "        futures = {executor.submit(translate, item): item for item in data_new}\n",
    "\n",
    "        for future in tqdm(as_completed(futures), total=len(futures), desc=\"Translating\"):\n",
    "            translated_data.append(future.result())\n",
    "\n",
    "    \n",
    "    with open(new_filename, 'w') as f:\n",
    "        json.dump(translated_data, f, ensure_ascii=False, indent=4)"
   ]
  },
  {
   "cell_type": "code",
   "execution_count": 36,
   "metadata": {},
   "outputs": [],
   "source": [
    "from glob import glob\n",
    "\n",
    "data = []\n",
    "for f in glob('train-set.json_*.json'):\n",
    "    with open(f) as fopen:\n",
    "        data.extend(json.load(fopen))"
   ]
  },
  {
   "cell_type": "code",
   "execution_count": 37,
   "metadata": {},
   "outputs": [
    {
     "data": {
      "text/plain": [
       "[['Terimakasih ya',\n",
       "  '{\\n    \"sentiment\": \"positive\",\\n    \"explain_en\": \"The text is categorized as positive because it expresses gratitude or thankfulness.\",\\n    \"explain_ms\": \"Teks ini dikategorikan sebagai positif karena mengungkapkan rasa terima kasih atau syukur.\"\\n}'],\n",
       " ['Enjin klik trus scroll ini yu',\n",
       "  '{\\n    \"sentiment\": \"neutral\",\\n    \"explain_en\": \"The text is neutral as it does not express any positive or negative sentiment.\",\\n    \"explain_ms\": \"Teks ini adalah neutral kerana ia tidak mengungkapkan sebarang sentimen positif atau negatif.\"\\n}'],\n",
       " ['Karya tangan anak bangsa sekarang patut diacungi jempol apalagi produknya yang yang bagus, banggalah kita memakai k',\n",
       "  '{\\n    \"sentiment\": \"positive\",\\n    \"explain_en\": \"The text is positive because it praises the quality of products made by Indonesian people and encourages people to be proud of using them.\",\\n    \"explain_ms\": \"Teks ini positif karena memuji kualitas produk yang dibuat oleh orang Indonesia dan mendorong orang untuk bangga menggunakannya.\"\\n}'],\n",
       " ['BABUN PUNYA AMZAR. TAK RETI HORMAT ORANG KEEEEEE???!!!!',\n",
       "  '{\\n    \"sentiment\": \"negative\",\\n    \"explain_en\": \"The text is negative because it contains an angry tone and disrespectful language towards someone named Amzar.\",\\n    \"explain_ms\": \"Teks ini negatif kerana mengandungi nada marah dan bahasa yang tidak sopan terhadap seseorang yang bernama Amzar.\"\\n}'],\n",
       " ['kau tak payah bagi data ni pukimak!! wahai pu',\n",
       "  '{\\n    \"sentiment\": \"negative\",\\n    \"explain_en\": \"The text is negative because it contains vulgar language and shows anger or frustration towards the recipient.\",\\n    \"explain_ms\": \"Teks ini negatif kerana mengandungi bahasa kesat dan menunjukkan kemarahan atau kekecewaan terhadap penerima.\"\\n}'],\n",
       " ['Mau nikah ni biasanya',\n",
       "  '{\\n    \"sentiment\": \"neutral\",\\n    \"explain_en\": \"The text is neutral as it does not express a clear positive or negative sentiment towards getting married.\",\\n    \"explain_ms\": \"Teks ini adalah neutral kerana ia tidak mengungkapkan sentimen positif atau negatif yang jelas terhadap perkahwinan.\"\\n}'],\n",
       " ['Awak ada personal issue dengan Klang ke?',\n",
       "  '{\\n    \"sentiment\": \"neutral\",\\n    \"explain_en\": \"The text is neutral as it does not express any strong positive or negative emotion towards the subject of Klang.\",\\n    \"explain_ms\": \"Teks ini adalah neutral kerana ia tidak mengungkapkan emosi positif atau negatif yang kuat terhadap subjek Klang.\"\\n}'],\n",
       " ['Batu bersurat kuala berang tahun 1303.',\n",
       "  '{\\n    \"sentiment\": \"neutral\",\\n    \"explain_en\": \"The text is neutral as it simply states a historical fact without expressing any positive or negative emotions.\",\\n    \"explain_ms\": \"Teks ini adalah neutral kerana ia hanya menyatakan fakta sejarah tanpa mengungkapkan emosi positif atau negatif.\"\\n}'],\n",
       " ['Dah tak tahu nak buat apa dengan info ni.',\n",
       "  '{\\n    \"sentiment\": \"negative\",\\n    \"explain_en\": \"The text expresses a negative sentiment as the person is unsure of what to do with the given information.\",\\n    \"explain_ms\": \"Teks ini mengungkapkan sentimen negatif kerana orang tersebut tidak pasti apa yang perlu dilakukan dengan maklumat yang diberikan.\"\\n}'],\n",
       " ['hati hati ya semua. Kami .I anti main sentimen politik buka aib. Jual maruah manusia....I alert semua',\n",
       "  '{\\n    \"sentiment\": \"negative\",\\n    \"explain_en\": \"The text is categorized as negative because it warns against engaging in political sentiment and selling out human dignity.\",\\n    \"explain_ms\": \"Teks ini dikategorikan sebagai negatif kerana ia memperingatkan agar tidak terlibat dalam sentimen politik dan menjual martabat manusia.\"\\n}']]"
      ]
     },
     "execution_count": 37,
     "metadata": {},
     "output_type": "execute_result"
    }
   ],
   "source": [
    "data[:10]"
   ]
  },
  {
   "cell_type": "code",
   "execution_count": 39,
   "metadata": {},
   "outputs": [],
   "source": [
    "with open('explain-sentiment.json', 'w') as fopen:\n",
    "    json.dump(data, fopen)"
   ]
  }
 ],
 "metadata": {
  "kernelspec": {
   "display_name": "Python 3 (ipykernel)",
   "language": "python",
   "name": "python3"
  },
  "language_info": {
   "codemirror_mode": {
    "name": "ipython",
    "version": 3
   },
   "file_extension": ".py",
   "mimetype": "text/x-python",
   "name": "python",
   "nbconvert_exporter": "python",
   "pygments_lexer": "ipython3",
   "version": "3.8.10"
  }
 },
 "nbformat": 4,
 "nbformat_minor": 4
}
