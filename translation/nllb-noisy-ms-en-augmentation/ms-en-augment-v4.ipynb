{
 "cells": [
  {
   "cell_type": "code",
   "execution_count": 1,
   "metadata": {},
   "outputs": [],
   "source": [
    "import os\n",
    "\n",
    "os.environ['CUDA_VISIBLE_DEVICES'] = ''"
   ]
  },
  {
   "cell_type": "code",
   "execution_count": 2,
   "metadata": {},
   "outputs": [],
   "source": [
    "# !wget https://raw.githubusercontent.com/huseinzol05/malay-dataset/master/normalization/en-lexicon/en-social-media-lexicon.json"
   ]
  },
  {
   "cell_type": "code",
   "execution_count": 16,
   "metadata": {},
   "outputs": [],
   "source": [
    "# files = [\n",
    "#     'kedah.py',\n",
    "#     'kelantan.py',\n",
    "#     'kelantan_v2.py',\n",
    "#     'melaka.py',\n",
    "#     'negeri_sembilan.py',\n",
    "#     'pahang.py',\n",
    "#     'perak.py',\n",
    "#     'sabah.py',\n",
    "#     'johor.py',\n",
    "# ]\n",
    "# url = 'https://raw.githubusercontent.com/huseinzol05/malay-dataset/master/dictionary/dialect'\n",
    "\n",
    "# for f in files:\n",
    "#     print(f)\n",
    "#     if os.path.exists(f):\n",
    "#         continue\n",
    "#     os.system(f'wget {url}/{f}')"
   ]
  },
  {
   "cell_type": "code",
   "execution_count": 18,
   "metadata": {},
   "outputs": [],
   "source": [
    "import kedah\n",
    "import kelantan_v2\n",
    "import kelantan\n",
    "import melaka\n",
    "import negeri_sembilan\n",
    "import pahang\n",
    "import perak\n",
    "import sabah\n",
    "import johor"
   ]
  },
  {
   "cell_type": "code",
   "execution_count": 19,
   "metadata": {},
   "outputs": [],
   "source": [
    "from malaya.text.rules import rules_normalizer, rules_compound_normalizer\n",
    "from malaya.text.normalization import _is_number_regex\n",
    "from collections import defaultdict\n",
    "import re\n",
    "import random\n",
    "import json"
   ]
  },
  {
   "cell_type": "code",
   "execution_count": 20,
   "metadata": {},
   "outputs": [
    {
     "data": {
      "text/plain": [
       "True"
      ]
     },
     "execution_count": 20,
     "metadata": {},
     "output_type": "execute_result"
    }
   ],
   "source": [
    "import enchant\n",
    "d = enchant.Dict(\"en_US\")\n",
    "d.check(\"Hello\")"
   ]
  },
  {
   "cell_type": "code",
   "execution_count": 21,
   "metadata": {},
   "outputs": [],
   "source": [
    "with open('en-social-media-lexicon.json') as fopen:\n",
    "    en_lexicon = json.load(fopen)"
   ]
  },
  {
   "cell_type": "code",
   "execution_count": 22,
   "metadata": {},
   "outputs": [],
   "source": [
    "rev_rules_compound_normalizer = defaultdict(list)\n",
    "for k, v in rules_compound_normalizer.items():\n",
    "    rev_rules_compound_normalizer[v].append(k)\n",
    "    \n",
    "rev_rules_normalizer = defaultdict(list)\n",
    "for k, v in rules_normalizer.items():\n",
    "    rev_rules_normalizer[v].append(k)\n",
    "    \n",
    "rules_compound_normalizer_regex = (\n",
    "    '(?:' + '|'.join(list(rev_rules_compound_normalizer.keys())) + ')'\n",
    ")"
   ]
  },
  {
   "cell_type": "code",
   "execution_count": 23,
   "metadata": {},
   "outputs": [],
   "source": [
    "kedah_compound_normalizer = defaultdict(list)\n",
    "kedah_normalizer = defaultdict(list)\n",
    "for k, v in kedah.dictionary.items():\n",
    "    for v_ in v:\n",
    "        if len(v_.split()) > 1:\n",
    "            kedah_compound_normalizer[v_].append(k)\n",
    "        else:\n",
    "            kedah_normalizer[v_].append(k)\n",
    "            \n",
    "kedah_compound_normalizer_regex = (\n",
    "    '(?:' + '|'.join(list(kedah_compound_normalizer.keys())) + ')'\n",
    ")"
   ]
  },
  {
   "cell_type": "code",
   "execution_count": 24,
   "metadata": {},
   "outputs": [],
   "source": [
    "kelantan_compound_normalizer = defaultdict(list)\n",
    "kelantan_normalizer = defaultdict(list)\n",
    "for k, v in kelantan.dictionary.items():\n",
    "    for v_ in v:\n",
    "        if len(v_.split()) > 1:\n",
    "            kelantan_compound_normalizer[v_].append(k)\n",
    "        else:\n",
    "            kelantan_normalizer[v_].append(k)\n",
    "            \n",
    "for k, v in kelantan_v2.dictionary.items():\n",
    "    for v_ in v:\n",
    "        if len(v_.split()) > 1:\n",
    "            kelantan_compound_normalizer[v_].append(k)\n",
    "        else:\n",
    "            kelantan_normalizer[v_].append(k)\n",
    "            \n",
    "kelantan_compound_normalizer_regex = (\n",
    "    '(?:' + '|'.join(list(kelantan_compound_normalizer.keys())) + ')'\n",
    ")\n"
   ]
  },
  {
   "cell_type": "code",
   "execution_count": 25,
   "metadata": {},
   "outputs": [],
   "source": [
    "melaka_compound_normalizer = defaultdict(list)\n",
    "melaka_normalizer = defaultdict(list)\n",
    "for k, v in melaka.dictionary.items():\n",
    "    for v_ in v:\n",
    "        if len(v_.split()) > 1:\n",
    "            melaka_compound_normalizer[v_].append(k)\n",
    "        else:\n",
    "            melaka_normalizer[v_].append(k)\n",
    "            \n",
    "melaka_compound_normalizer_regex = (\n",
    "    '(?:' + '|'.join(list(melaka_compound_normalizer.keys())) + ')'\n",
    ")"
   ]
  },
  {
   "cell_type": "code",
   "execution_count": 26,
   "metadata": {},
   "outputs": [],
   "source": [
    "negeri_sembilan_compound_normalizer = defaultdict(list)\n",
    "negeri_sembilan_normalizer = defaultdict(list)\n",
    "for k, v in negeri_sembilan.dictionary.items():\n",
    "    for v_ in v:\n",
    "        if len(v_.split()) > 1:\n",
    "            negeri_sembilan_compound_normalizer[v_].append(k)\n",
    "        else:\n",
    "            negeri_sembilan_normalizer[v_].append(k)\n",
    "            \n",
    "negeri_sembilan_compound_normalizer_regex = (\n",
    "    '(?:' + '|'.join(list(negeri_sembilan_compound_normalizer.keys())) + ')'\n",
    ")"
   ]
  },
  {
   "cell_type": "code",
   "execution_count": 27,
   "metadata": {},
   "outputs": [],
   "source": [
    "pahang_compound_normalizer = defaultdict(list)\n",
    "pahang_normalizer = defaultdict(list)\n",
    "for k, v in pahang.dictionary.items():\n",
    "    for v_ in v:\n",
    "        if len(v_.split()) > 1:\n",
    "            pahang_compound_normalizer[v_].append(k)\n",
    "        else:\n",
    "            pahang_normalizer[v_].append(k)\n",
    "            \n",
    "pahang_compound_normalizer_regex = (\n",
    "    '(?:' + '|'.join(list(pahang_compound_normalizer.keys())) + ')'\n",
    ")"
   ]
  },
  {
   "cell_type": "code",
   "execution_count": 28,
   "metadata": {},
   "outputs": [],
   "source": [
    "perak_compound_normalizer = defaultdict(list)\n",
    "perak_normalizer = defaultdict(list)\n",
    "for k, v in perak.dictionary.items():\n",
    "    for v_ in v:\n",
    "        if len(v_.split()) > 1:\n",
    "            perak_compound_normalizer[v_].append(k)\n",
    "        else:\n",
    "            perak_normalizer[v_].append(k)\n",
    "            \n",
    "perak_compound_normalizer_regex = (\n",
    "    '(?:' + '|'.join(list(perak_compound_normalizer.keys())) + ')'\n",
    ")"
   ]
  },
  {
   "cell_type": "code",
   "execution_count": 29,
   "metadata": {},
   "outputs": [],
   "source": [
    "sabah_compound_normalizer = defaultdict(list)\n",
    "sabah_normalizer = defaultdict(list)\n",
    "for k, v in sabah.dictionary.items():\n",
    "    for v_ in v:\n",
    "        if len(v_.split()) > 1:\n",
    "            sabah_compound_normalizer[v_].append(k)\n",
    "        else:\n",
    "            sabah_normalizer[v_].append(k)\n",
    "            \n",
    "sabah_compound_normalizer_regex = (\n",
    "    '(?:' + '|'.join(list(sabah_compound_normalizer.keys())) + ')'\n",
    ")"
   ]
  },
  {
   "cell_type": "code",
   "execution_count": 30,
   "metadata": {},
   "outputs": [],
   "source": [
    "johor_compound_normalizer = defaultdict(list)\n",
    "johor_normalizer = defaultdict(list)\n",
    "for k, v in johor.dictionary.items():\n",
    "    for v_ in v:\n",
    "        if len(v_.split()) > 1:\n",
    "            johor_compound_normalizer[v_].append(k)\n",
    "        else:\n",
    "            johor_normalizer[v_].append(k)\n",
    "            \n",
    "johor_compound_normalizer_regex = (\n",
    "    '(?:' + '|'.join(list(johor_compound_normalizer.keys())) + ')'\n",
    ")"
   ]
  },
  {
   "cell_type": "code",
   "execution_count": 31,
   "metadata": {},
   "outputs": [],
   "source": [
    "dialects = [\n",
    "    (kedah_compound_normalizer, kedah_normalizer, kedah_compound_normalizer_regex),\n",
    "    (kelantan_compound_normalizer, kelantan_normalizer, kelantan_compound_normalizer_regex),\n",
    "    (melaka_compound_normalizer, melaka_normalizer, melaka_compound_normalizer_regex),\n",
    "    (negeri_sembilan_compound_normalizer, negeri_sembilan_normalizer, negeri_sembilan_compound_normalizer_regex),\n",
    "    (pahang_compound_normalizer, pahang_normalizer, pahang_compound_normalizer_regex),\n",
    "    (perak_compound_normalizer, perak_normalizer, perak_compound_normalizer_regex),\n",
    "    (sabah_compound_normalizer, sabah_normalizer, sabah_compound_normalizer_regex),\n",
    "    (johor_compound_normalizer, johor_normalizer, johor_compound_normalizer_regex),\n",
    "]"
   ]
  },
  {
   "cell_type": "code",
   "execution_count": 35,
   "metadata": {},
   "outputs": [],
   "source": [
    "# def _replace_compound(string, \n",
    "#                       rules_regex = rules_compound_normalizer_regex, \n",
    "#                       rules = rev_rules_compound_normalizer):\n",
    "#     results = re.findall(rules_regex, string, flags=re.IGNORECASE\n",
    "#     )\n",
    "#     for r in results:\n",
    "#         try:\n",
    "#             string = string.replace(r, random.choice(rules[r.lower()]))\n",
    "#         except:\n",
    "#             pass\n",
    "#     return string\n",
    "\n",
    "def _replace_compound(string, rules = rev_rules_compound_normalizer):\n",
    "    for k in list(rules.keys()):\n",
    "        results = [(m.start(0), m.end(0)) for m in re.finditer(k, string, flags=re.IGNORECASE)]\n",
    "        for r in results:\n",
    "            sub = string[r[0]: r[1]]\n",
    "            try:\n",
    "                replaced = random.choice(rules[sub.lower()])\n",
    "                if replaced:\n",
    "                    if r[1] < len(string) and string[r[1]] != ' ':\n",
    "                        continue\n",
    "                    if r[0] - 1 > len(string) and string[r[0] - 1] != ' ':\n",
    "                        continue\n",
    "\n",
    "                    sub = case_of(sub)(replaced)\n",
    "                    string = string[:r[0]] + sub + string[r[1]:]\n",
    "            except:\n",
    "                pass\n",
    "    return string"
   ]
  },
  {
   "cell_type": "code",
   "execution_count": 36,
   "metadata": {},
   "outputs": [
    {
     "data": {
      "text/plain": [
       "'of cos tidak'"
      ]
     },
     "execution_count": 36,
     "metadata": {},
     "output_type": "execute_result"
    }
   ],
   "source": [
    "_replace_compound('sudah tentu tidak')"
   ]
  },
  {
   "cell_type": "code",
   "execution_count": 37,
   "metadata": {},
   "outputs": [
    {
     "data": {
      "text/plain": [
       "('', ',', 'counters')"
      ]
     },
     "execution_count": 37,
     "metadata": {},
     "output_type": "execute_result"
    }
   ],
   "source": [
    "PUNCTUATION = '!\"#$%&\\'()*+,./:;<=>?@[\\]^_`{|}~'\n",
    "\n",
    "def case_of(text):\n",
    "    return (\n",
    "        str.upper\n",
    "        if text.isupper()\n",
    "        else str.lower\n",
    "        if text.islower()\n",
    "        else str.title\n",
    "        if text.istitle()\n",
    "        else str\n",
    "    )\n",
    "\n",
    "def strip_punct(word):\n",
    "    left = []\n",
    "    right = []\n",
    "    i = 0\n",
    "    while i < len(word):\n",
    "        if word[i] in PUNCTUATION:\n",
    "            left.append(word[i])\n",
    "            i += 1\n",
    "        else:\n",
    "            break\n",
    "    i = len(word) - 1\n",
    "    while i > 0:\n",
    "        if word[i] in PUNCTUATION:\n",
    "            right.append(word[i])\n",
    "            i -= 1\n",
    "        else:\n",
    "            break\n",
    "    left = ''.join(left)\n",
    "    right = ''.join(right[::-1])\n",
    "    if len(right):\n",
    "        word_ = word[:-len(right)]\n",
    "    else:\n",
    "        word_ = word\n",
    "    word_ = word_[len(left):]\n",
    "    return left, right, word_\n",
    "\n",
    "\n",
    "def replace_shortword(word, rules = rev_rules_normalizer):\n",
    "    left, right, word_ = strip_punct(word)\n",
    "    word_ = word_[len(left):]\n",
    "    lower_word_ = word_.lower()\n",
    "    if lower_word_ in rules:\n",
    "        word_ = case_of(word_)(random.choice(rules[lower_word_]))\n",
    "        word_ = f'{left}{word_}{right}'\n",
    "        return word_\n",
    "    else:\n",
    "        return word\n",
    "    \n",
    "strip_punct('counters,')"
   ]
  },
  {
   "cell_type": "code",
   "execution_count": 38,
   "metadata": {},
   "outputs": [
    {
     "data": {
      "text/plain": [
       "['i', 'bingiiittzz', 'cuaantik\"']"
      ]
     },
     "execution_count": 38,
     "metadata": {},
     "output_type": "execute_result"
    }
   ],
   "source": [
    "string = 'saya sangat cantik\"'\n",
    "[replace_shortword(word) for word in string.split()]"
   ]
  },
  {
   "cell_type": "code",
   "execution_count": 39,
   "metadata": {},
   "outputs": [],
   "source": [
    "import json\n",
    "\n",
    "with open('/home/husein/translation/alignment.alignment') as fopen:\n",
    "    for i in fopen:\n",
    "        data = json.loads(i)\n",
    "        break"
   ]
  },
  {
   "cell_type": "code",
   "execution_count": 40,
   "metadata": {},
   "outputs": [
    {
     "data": {
      "text/plain": [
       "'Aku akan perangi mereka sehinggalah mereka menjadi seperti kita (iaitu menjadi orang Islam).'"
      ]
     },
     "execution_count": 40,
     "metadata": {},
     "output_type": "execute_result"
    }
   ],
   "source": [
    "data['right'][0]"
   ]
  },
  {
   "cell_type": "code",
   "execution_count": 41,
   "metadata": {
    "scrolled": true
   },
   "outputs": [
    {
     "data": {
      "text/plain": [
       "['Alu',\n",
       " 'akn',\n",
       " 'perangi',\n",
       " 'mrekaa',\n",
       " 'sehinggalah',\n",
       " 'mrekaaaa',\n",
       " 'menjdi',\n",
       " 'sprti',\n",
       " 'kta',\n",
       " '(iaitu',\n",
       " 'mnjadi',\n",
       " 'org',\n",
       " 'Islam).']"
      ]
     },
     "execution_count": 41,
     "metadata": {},
     "output_type": "execute_result"
    }
   ],
   "source": [
    "[replace_shortword(word) for word in data['right'][0].split()]"
   ]
  },
  {
   "cell_type": "code",
   "execution_count": 42,
   "metadata": {},
   "outputs": [
    {
     "data": {
      "text/plain": [
       "'kemudahan, main kejar, taram ja'"
      ]
     },
     "execution_count": 42,
     "metadata": {},
     "output_type": "execute_result"
    }
   ],
   "source": [
    "_replace_compound('kemudahan, main kejar, bedal ja', rules = kedah_compound_normalizer)"
   ]
  },
  {
   "cell_type": "code",
   "execution_count": 43,
   "metadata": {},
   "outputs": [],
   "source": [
    "def replace_words_punct(left_word, right_word):\n",
    "    left_left, left_right, left_word = strip_punct(left_word)\n",
    "    right_left, right_right, right_word = strip_punct(right_word)\n",
    "    return f'{left_left}{right_word}{left_right}'\n",
    "\n",
    "def random_replace_alignment(left, right, alignment, min_replace = 2, max_replace = 7):\n",
    "    splitted_left = left.split()\n",
    "    splitted_right = right.split()\n",
    "    \n",
    "    selected_alignment = []\n",
    "    for s in alignment:\n",
    "        l = s[0]\n",
    "        r = s[1]\n",
    "        if _is_number_regex(splitted_left[l].replace(',', '').replace('.', '')) or _is_number_regex(splitted_right[r].replace(',', '').replace('.', '')):\n",
    "            continue\n",
    "        elif splitted_left[l].isupper() or splitted_right[r].isupper():\n",
    "            continue\n",
    "        elif splitted_left[l].istitle() or splitted_right[r].istitle():\n",
    "            continue\n",
    "        elif splitted_left[l] == splitted_right[r]:\n",
    "            continue\n",
    "        elif splitted_right[r].lower() in ['the', 'a', 'an', 'it', 'is', 'are']:\n",
    "            continue\n",
    "        else:\n",
    "            selected_alignment.append((l, r))\n",
    "    \n",
    "    count_replace = random.randint(min_replace, min(max_replace, len(selected_alignment)))\n",
    "    \n",
    "    selected = random.sample(selected_alignment, count_replace)\n",
    "    for s in selected:\n",
    "        splitted_left[s[0]] = replace_words_punct(splitted_left[s[0]], splitted_right[s[1]])\n",
    "    \n",
    "    return ' '.join(splitted_left)"
   ]
  },
  {
   "cell_type": "code",
   "execution_count": 46,
   "metadata": {},
   "outputs": [],
   "source": [
    "import copy\n",
    "\n",
    "consonants = 'bcdfghjklmnpqrstvwxyz'\n",
    "\n",
    "def augment(left, p_replace_shortword = 0.7, p_socialmedia = 0.85, p_vowel_alternate = 0.8, p_replace_en_shortword = 0.3):\n",
    "    \n",
    "    compound_rules_, rules_, rules_regex_ = random.choice(dialects)\n",
    "    left = _replace_compound(left, rules = copy.deepcopy(rev_rules_compound_normalizer))\n",
    "    left = _replace_compound(left, rules = copy.deepcopy(compound_rules_))\n",
    "    #left = _replace_compound(left, rules_regex = rules_regex_, rules = compound_rules_)\n",
    "    left = [replace_shortword(word, rules = en_lexicon) if random.random() > p_replace_en_shortword else word for word in left.split()]\n",
    "    left = [replace_shortword(word, rules = rules_) for word in left]\n",
    "    left = [(replace_shortword(word), False) if random.random() > p_replace_shortword else (word, True) for word in left]\n",
    "    left_ = []\n",
    "    for l in left:\n",
    "        if _is_number_regex(l[0].replace(',', '').replace('.', '')):\n",
    "            left_.append(l[0])\n",
    "            continue\n",
    "        if l[0].isupper():\n",
    "            left_.append(l[0])\n",
    "            continue\n",
    "        if l[0].istitle():\n",
    "            left_.append(l[0])\n",
    "            continue\n",
    "        if d.check(l[0]):\n",
    "            left_.append(l[0])\n",
    "            continue\n",
    "        \n",
    "        if l[1]:\n",
    "            \n",
    "            if random.random() > p_socialmedia:\n",
    "                try:\n",
    "                    r = malaya.augmentation.socialmedia_form(l[0])\n",
    "                except:\n",
    "                    r = [l[0]]\n",
    "                if len(r):\n",
    "                    s = random.choice(r)\n",
    "                else:\n",
    "                    s = l[0]\n",
    "            else:\n",
    "                s = l[0]\n",
    "                \n",
    "            if random.random() > p_vowel_alternate:\n",
    "                try:\n",
    "                    s = malaya.augmentation.vowel_alternate(s)\n",
    "                except:\n",
    "                    pass\n",
    "                try:\n",
    "                    if random.random() and s[-1] == 'a' and s[-2] in consonants:\n",
    "                        s = s[:-1] + 'e'\n",
    "                except:\n",
    "                    pass\n",
    "        else:\n",
    "            s = l[0]\n",
    "        \n",
    "        left_.append(case_of(l[0])(s))\n",
    "    return ' '.join(left_)"
   ]
  },
  {
   "cell_type": "code",
   "execution_count": 55,
   "metadata": {},
   "outputs": [
    {
     "data": {
      "text/plain": [
       "'Surah Maryam ayat 15: \"Salam sejahtera untuknya (Nabi Yahya) pada hari dia dilahirkan.\"'"
      ]
     },
     "execution_count": 55,
     "metadata": {},
     "output_type": "execute_result"
    }
   ],
   "source": [
    "alignment = [[i[1], i[0]] for i in data['forward'][1]]\n",
    "left = data['right'][1]\n",
    "right = data['left'][1]\n",
    "augment(left)"
   ]
  },
  {
   "cell_type": "code",
   "execution_count": 56,
   "metadata": {},
   "outputs": [
    {
     "name": "stderr",
     "output_type": "stream",
     "text": [
      "736635it [5:06:37, 40.04it/s]\n"
     ]
    }
   ],
   "source": [
    "from tqdm import tqdm\n",
    "\n",
    "with open('ms-en-augment-v4.jsonl', 'w') as fwrite:\n",
    "    with open('/home/husein/translation/alignment.alignment') as fopen:\n",
    "        for i in tqdm(fopen):\n",
    "            try:\n",
    "                data = json.loads(i)\n",
    "                result = []\n",
    "                for k in range(len(data['right'])):\n",
    "                    alignment = [[i[1], i[0]] for i in data['forward'][k]]\n",
    "                    left = data['right'][k]\n",
    "                    right = data['left'][k]\n",
    "                    try:\n",
    "                        augmented = augment(left)\n",
    "                        result.append({'left': left, 'right': right, 'augmented': augmented})\n",
    "                    except:\n",
    "                        pass\n",
    "                fwrite.write(f'{json.dumps(result)}\\n')\n",
    "            except:\n",
    "                pass"
   ]
  },
  {
   "cell_type": "code",
   "execution_count": null,
   "metadata": {},
   "outputs": [],
   "source": []
  }
 ],
 "metadata": {
  "kernelspec": {
   "display_name": "Python 3 (ipykernel)",
   "language": "python",
   "name": "python3"
  },
  "language_info": {
   "codemirror_mode": {
    "name": "ipython",
    "version": 3
   },
   "file_extension": ".py",
   "mimetype": "text/x-python",
   "name": "python",
   "nbconvert_exporter": "python",
   "pygments_lexer": "ipython3",
   "version": "3.8.10"
  }
 },
 "nbformat": 4,
 "nbformat_minor": 4
}
