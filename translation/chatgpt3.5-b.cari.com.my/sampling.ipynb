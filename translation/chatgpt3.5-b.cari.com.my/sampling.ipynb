{
 "cells": [
  {
   "cell_type": "code",
   "execution_count": 2,
   "metadata": {},
   "outputs": [
    {
     "name": "stdout",
     "output_type": "stream",
     "text": [
      "\"\\r\\nsebab badan kekar solid & well groomed je... other than that macam bebudak hip hop biasa-biasa je pun wajah & penampilan dia.... oklah sikit daripada MK gigi mentos tu.. \"\r\n",
      "\"\\r\\nRumah Bush di Texas dibakar\\n\\r\\nHOUSTAN 28 Dis. \"\r\n",
      "\"\\nBudak Boys\\nslot Iris TV3\\r\\nIsnin - Khamis, 6.30 petang\\n\\n\\n\\r\\nNantikan drama bertajuk Budak Boys yang akan mengisi slot Iris TV3. Drama bersiri terbitan A Aida Production Sdn Bhd diarahkan oleh Bade Hj Azmi. Antara pelakon yang membintangi adalah Nafiz Muaz, Ashraf Muslim, Nafiez Zaidi, Naim Shamshol, Eyra Hazali, Jaja Iliyes\\u00a0\\u00a0dan ramai lagi. Akan mula disiarkan pada 30 Januari 2018, setiap hari Isnin hingga Khamis jam 6.30 petang di TV3.\\n\\r\\nJUDUL : BUDAK BOYS\\r\\nJUMLAH EPISOD : 20 episod\\r\\nTARIKH TAYANGAN : 30 Januari 2018\\r\\nWAKTU SIARAN : Isnin-Khamis, 6,30 petang\\r\\nSIARAN TV : Slot Iris TV3\\r\\nPENGARAH : Bade Hj Azmi\\r\\nTERBITAN : A Aida Production Sdn Bhd\\r\\nPELAKON : Nafiz Muaz, Ashraf Muslim, Nafiez Zaidi, Naim Shamshol, Aman Suwardi, Eyra Hazali, Jaja Iliyes, Shuhanti Hanafiah\\n\\nWATAK PELAKON \\r\\nNafiz Muaz sebagai Hakim \\r\\nAshraf Muslim sebagai Mejar Faisham \\r\\nNafiez Zaidi sebagai Arif \\r\\nEyra Hazali sebagai Mastura\\r\\nJaja Iliyes sebagai Adilla\\n\\nSINOPSIS BUDAK BOYS\\r\\nKisah kehidupan pelajar-pelajar Maktab Tentera Diraja?\\n\\nGAMBAR PELAKON\\n\\n\\n\"\r\n",
      "\"\\r\\na'kum..\\n\\r\\nsebelum tu sorry ekk kalu thread ni dah ada sebelum ni..\\r\\ndah puas aku cari ..tapi tak jumpa..\\n\\r\\nmasalah aku spt berikut..\\n\\r\\naku nak buat network kat umah aku ni..\\r\\naku ada line streamyx..\\r\\ndan aku dah beli 802.11 wireless broadband router..\\r\\naku ikut instruction yang diberikan tapi tak berjaya..\\r\\ntak tau la kenaper..\\n\\r\\nso sesapa yang expert tu pls la tolong..\\n\\r\\nkalu bleh tu ..ajar step by step apa yang perlu aku lakukan..\\r\\ntrima kasih in advance utk sapa2 yang bantu tu..\\r\\nthank you\"\r\n",
      "\"\\r\\ni wish kan faz berlakon drama ala-ala Dr. House tu, kan best. sebenarnya watak Dr. House dan team diagnosticians tu telah berjaya mempengaruhi ramai anak muda untuk menceburi cabang kedoktoran sebagai diagnostician termasuklah kat malaysia ni. even drama CSI pun banyak influenced generasi muda untuk menceburi bidang sebagai profiler ( to be honest, kalau lah masa iols sekolah ada citer CSI tu, mahu iols pun ambik course untuk jadi profiler). hehehe...kenapalah takde drama2 macam ni ya. macam citer Bones as medical examiner yang bedah mayat kan, iols pernah jumpa kot medical examiner wanita dulu di hospital seremban yang kerja sheols sebijik macam bones tu. sheols siap pesan kat iols - sentiasa pakai barang kemas yang ada tulis nama kita atau kalau rajin jahit kat dalam baju nama kita supaya di kemudian hari senang nak detect kita siapa kalaulah terjadi kemalangan ngeri ke apa ke kan (minta dijauhkan tuhan).\\n\\r\\nanyway, kalau nak kata kita takde pakar2 tu, ada dan boleh dijadikan reference kan. production house kenalah invest and do a really good medical or crime drama based on these real people, our own people. and iols imagine fazzy yang lead all these dramas...heavennya!\\n\"\r\n",
      "\"\\r\\nMaka i kenallah lelaki bujang ni \\n\\r\\nB - lelaki 30 an keje biasa2 je.. \\n\\r\\nmemang hensem pada mata i la..mata korang xtau la pulak ahax..sebab dia badan fit.sedap la badan mcm tu bukan jenis muscle ketul2 tu ...hitam tapi sweet belesung pipit. Hensem antara semua lelaki yg i penah kenal rapat termasuk masa zaman anak dara dulu..\\r\\nMula2 ragu jugak .. sbb xkan la aku ni jackpot .. bujang tp hensem yg mmg i xsangka dia boleh suka kan i..\\n\\r\\nKita kalau org suka kita kita boleh rasa kan..cara dia nak asyik contact kita..tanya khabar dsb ..walaupun askar tu pon tanya khabar hari2 tp xpenah call i cuma penah video call sekali je, once i nak dia beterus terang mmg hilang terus dia dari radar.. askar i xberapa ada hati sgt tp dgn lelaki B mmg i suka dia tp xletak harapan tinggi..\\n\\r\\nBezanya B ni duduk same negeri dgn i jadi peluang kami selalu keluar bersama dia n anak i tu tinggi..\\n\\r\\nJadiknya seperti di sangka memang dia confess dah dia suka i dan paksa i jumpa mak ayah dia..\\n\\r\\nAgain kalau orang yg tanya i kenapa cepat sangat i terima lelaki i punya jawapan.asalkan i takde buat maksiat dan asalkan dia tak mengambil kesempatan kat i i is ok.. bukan i tak penah jadi muda kan..becinta bagai nak rak .. konon cinta sejati ..buat benda tak baik end up putus .. \\n\\r\\nCuma skrg dah belajar dr kesilapan i tak letak harapan yg tinggi dah ..xjadi kang kecewa sendiri..\\n\\r\\nBab cari lelaki yg baik pulak ofkos semua org nak yg baik ..cuma pd prinsip i pempuan yg baik utk lelaki yg baik..jadi kita kena baik dulu..allah akan bg yg baik utk kita insyaallah..\\n\\r\\nCuba tengok berapa banyak rumah tangga yg sebelum kawen dia dah pilih betol2 ..becinta betahun2 ..lepas kawen nampak perangai sebenar..mula jadi biawak.mula jadi pemarah..mula jadi kaki perempuan..\\n\\r\\nJadi pada i bab tu kita doa je pada allah moga allah bg lelaki yg baik utk kita dan kita sendiri usaha jadi baik..\\n\\r\\nY bother i cepat sangt nak terima org..sbb i sejenis sayang diri sendiri..i pilih nak bahagia .. ada org tak leh move on smpi xnak kawen2 sedangkan pasangan dia bahagia je dgn org lain..\\n\\r\\nOk setakat ni baru kat level 2 .. dlm proses nak jumpa mak dia walau i cakap i segan dia dah yakinkan i..berkali2 dah dia ajak tp i ni bukan pandai ambil hati org tua pon..tp i cuba la sbb dia pon yakinkan i takpe nanti wayang je depan mak dia konon rajin .. belakang mak dia lantak la sy nak buat mcm mana pon dia cakap..\\n\\r\\nTak sangka ye bila kita ubah mindset kita allah bagi ikut sangkaan hambanya..walaupun belum kawen lg pon at least i dah kawan lelaki hensem pada mata i yg mana i rasa mcm i tak sesuai pulak dgn dia..\\n\\r\\nI mmg suka dia tp i xnak letak harapan tinggi pada mana2 lelaki dah ..selagi belum kawen i consider sebagai peringkat saringan .. \\n\\r\\nplus i tanya sorang forumer tu lepas di dikecewakan ditinggalkan hilang dari radar mcm i mcm mana dia betemu dgn husband sekarang ..dia cakap mmg dia akan follow up terus laki tu.. apa jadi next dlm hubungan dia..mksdnya dia xnak dah lelaki yg tak serius , dia yg follow up supaya ada next step dlm hubungan alhamdulillah dia dah kawen pon..\\n\\r\\nItu yg i buat ..lepas dia tanya i suka dia or tak i terus je jawab kalau i jawab i suka apa next step u? Dia jawab jumpa mak ayah dia dulu kalau diorg on terus kita kawen..\\n\\r\\nDia kata insyaallah mak ayah dia ok sbb abg dia pon ada yg kawen dgn janda anak ramai tua 11 tahun pulak tu..\\n\\r\\nJd korang pon boleh tukar doa korang..mintak yg apa yg korang nak..cuma in realiti tak semuanya perfect ye..mcm i budak ni ngaku kewangan dia biasa2 je .. i faham sebab tu bukan kriteria pertama i..xsemua org sempurna kan..bila kita matang kita dah jadi realistik ..xde dah berangan2 nak yg ada honda..nak yg keje mamcam bagus je..muka korea je.. tak boleh dah berangan konon nanti dia akan usahakan utk carik duit .. sampai satu peringkat matang kita akan fikir yg realistik n logik berbanding emosi..\\n\\n\\r\\nJadi setakat tu lah..boleh jadi ada lelaki C kalau tak jadi dgn B ni boleh jadi B itu lah jodoh i..so nampak tak hati i dah tak suka letak harapan tinggi dah.?. serah pada jdoh je..\\n\\n\"\r\n",
      "\"\\r\\nIntan ni kaya eh or parent yg kaya. Iol mcm nmpk dia dok kondo kat area pavilion. Umah pun ala2 aparthotel je\"\r\n",
      "\"\\r\\nsusah sangat ko paste la gambar laptop ko.\\r\\npayah nak cark driver kalau tak tau model apa\"\r\n",
      "\"\\r\\nDulu masa iols kecik2. Masjid tempat my childhood home pon ada 2 imam. So solat jemaah akan buat 2x. Geng imam 1 berimamkan imam 1. Geng 2 berimamkan imam 2. Lama juga bercekau. Fast forward few years, ada 2 masjid dah dlm jarak tak sampai 100m\"\r\n",
      "\"\\r\\nhari tu tengok kat VS mahal kemain..\\n\"\r\n"
     ]
    }
   ],
   "source": [
    "!head -n 10 everything.jsonl"
   ]
  },
  {
   "cell_type": "code",
   "execution_count": 3,
   "metadata": {},
   "outputs": [],
   "source": [
    "import re\n",
    "\n",
    "def reject(string):\n",
    "    if len(string) < 20:\n",
    "        return True\n",
    "    \n",
    "    if len(string) > 1000:\n",
    "        return True\n",
    "    \n",
    "    s = string.lower()\n",
    "    s = re.sub('[^A-Za-z ]+', ' ', s)\n",
    "    s = re.sub(r'[ ]+', ' ', s).strip()\n",
    "    \n",
    "    if (len(s) / len(string)) > 0.7:\n",
    "        return False\n",
    "    \n",
    "    return False\n",
    "\n",
    "def replace_multiple(input_string, pattern =r\"\\s{2,}\", replace = '  '):\n",
    "    return re.sub(pattern, replace, input_string)\n",
    "\n",
    "def replace(string):\n",
    "    string = replace_multiple(string.replace('…', '.'))\n",
    "    string = replace_multiple(string, pattern = r\"\\.{2,}\", replace = '..')\n",
    "    string = replace_multiple(string, pattern = r\"\\={2,}\", replace = '==')\n",
    "    string = replace_multiple(string, pattern = r\"\\~{2,}\", replace = '~~')\n",
    "    return string\n",
    "\n",
    "def process(string):\n",
    "    string = string.strip()\n",
    "    splitted = string.split('\\n')\n",
    "    s = splitted[0].strip()\n",
    "    if s.endswith(' PM') or s.endswith(' AM'):\n",
    "        string = '\\r\\n'.join(splitted[1:])\n",
    "    \n",
    "    return replace(string)"
   ]
  },
  {
   "cell_type": "code",
   "execution_count": 6,
   "metadata": {},
   "outputs": [
    {
     "name": "stderr",
     "output_type": "stream",
     "text": [
      "2308802it [00:32, 70766.88it/s]\n"
     ]
    }
   ],
   "source": [
    "import json\n",
    "from tqdm import tqdm\n",
    "\n",
    "r = []\n",
    "with open('everything.jsonl') as fopen:\n",
    "    for l in tqdm(fopen):\n",
    "        data = json.loads(l).strip()\n",
    "        if reject(data):\n",
    "            continue\n",
    "            \n",
    "        r.append(process(data))\n",
    "        if len(r) == 2e6:\n",
    "            break"
   ]
  },
  {
   "cell_type": "code",
   "execution_count": 7,
   "metadata": {},
   "outputs": [],
   "source": [
    "filename = 'sample.json'\n",
    "\n",
    "with open(filename, 'w') as fopen:\n",
    "    json.dump(r, fopen)"
   ]
  },
  {
   "cell_type": "code",
   "execution_count": null,
   "metadata": {},
   "outputs": [],
   "source": []
  }
 ],
 "metadata": {
  "kernelspec": {
   "display_name": "Python 3 (ipykernel)",
   "language": "python",
   "name": "python3"
  },
  "language_info": {
   "codemirror_mode": {
    "name": "ipython",
    "version": 3
   },
   "file_extension": ".py",
   "mimetype": "text/x-python",
   "name": "python",
   "nbconvert_exporter": "python",
   "pygments_lexer": "ipython3",
   "version": "3.8.10"
  }
 },
 "nbformat": 4,
 "nbformat_minor": 4
}
