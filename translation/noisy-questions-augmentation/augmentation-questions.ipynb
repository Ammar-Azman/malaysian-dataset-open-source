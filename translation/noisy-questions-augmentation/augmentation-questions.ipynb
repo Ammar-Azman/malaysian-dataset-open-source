{
 "cells": [
  {
   "cell_type": "code",
   "execution_count": 1,
   "id": "cf45e0b4",
   "metadata": {},
   "outputs": [],
   "source": [
    "import enchant\n",
    "d = enchant.Dict(\"en_US\")"
   ]
  },
  {
   "cell_type": "code",
   "execution_count": 2,
   "id": "89f54674",
   "metadata": {},
   "outputs": [
    {
     "data": {
      "text/plain": [
       "True"
      ]
     },
     "execution_count": 2,
     "metadata": {},
     "output_type": "execute_result"
    }
   ],
   "source": [
    "d.check(\"Hello\")"
   ]
  },
  {
   "cell_type": "code",
   "execution_count": 3,
   "id": "8f6260db",
   "metadata": {},
   "outputs": [],
   "source": [
    "import os"
   ]
  },
  {
   "cell_type": "code",
   "execution_count": 4,
   "id": "5705909e",
   "metadata": {},
   "outputs": [],
   "source": [
    "# negeri = [\n",
    "#     'johor',\n",
    "#     'kedah',\n",
    "#     'kelantan',\n",
    "#     'kelantan_v2',\n",
    "#     'melaka',\n",
    "#     'negeri_sembilan',\n",
    "#     'pahang',\n",
    "#     'perak',\n",
    "#     'sabah'\n",
    "# ]\n",
    "\n",
    "# for n in negeri:\n",
    "#     os.system(f'wget https://raw.githubusercontent.com/mesolitica/malaysian-dataset/master/dictionary/dialect/{n}.py')"
   ]
  },
  {
   "cell_type": "code",
   "execution_count": 5,
   "id": "a853939b",
   "metadata": {},
   "outputs": [],
   "source": [
    "# !wget https://raw.githubusercontent.com/huseinzol05/malay-dataset/master/normalization/en-lexicon/en-social-media-lexicon.json"
   ]
  },
  {
   "cell_type": "code",
   "execution_count": 6,
   "id": "aa3ccf0d",
   "metadata": {},
   "outputs": [],
   "source": [
    "import kedah\n",
    "import kelantan_v2\n",
    "import kelantan\n",
    "import melaka\n",
    "import negeri_sembilan\n",
    "import pahang\n",
    "import perak\n",
    "import sabah"
   ]
  },
  {
   "cell_type": "code",
   "execution_count": 7,
   "id": "94a2dcb8",
   "metadata": {},
   "outputs": [],
   "source": [
    "import os\n",
    "\n",
    "os.environ['CUDA_VISIBLE_DEVICES'] = ''"
   ]
  },
  {
   "cell_type": "code",
   "execution_count": 8,
   "id": "7123fa70",
   "metadata": {},
   "outputs": [
    {
     "data": {
      "text/plain": [
       "1712963"
      ]
     },
     "execution_count": 8,
     "metadata": {},
     "output_type": "execute_result"
    }
   ],
   "source": [
    "from glob import glob\n",
    "import json\n",
    "\n",
    "files = glob('prepared-questions.texts*.splitted.requested')\n",
    "mapping = {}\n",
    "for f in files:\n",
    "    with open(f) as fopen:\n",
    "        for l in fopen:\n",
    "            l = json.loads(l)\n",
    "            mapping[l['src']] = l['r']\n",
    "\n",
    "len(mapping)"
   ]
  },
  {
   "cell_type": "code",
   "execution_count": 9,
   "id": "13773ee1",
   "metadata": {},
   "outputs": [
    {
     "data": {
      "text/plain": [
       "(1712881, 1712881)"
      ]
     },
     "execution_count": 9,
     "metadata": {},
     "output_type": "execute_result"
    }
   ],
   "source": [
    "left, right = [], []\n",
    "for k, v in mapping.items():\n",
    "    if len(set(v.split())) < (len(set(k.split())) / 2):\n",
    "        continue\n",
    "    left.append(k)\n",
    "    right.append(v)\n",
    "len(left), len(right)"
   ]
  },
  {
   "cell_type": "code",
   "execution_count": 10,
   "id": "318c83d1",
   "metadata": {},
   "outputs": [
    {
     "name": "stderr",
     "output_type": "stream",
     "text": [
      "/home/husein/.local/lib/python3.8/site-packages/requests/__init__.py:102: RequestsDependencyWarning: urllib3 (1.26.15) or chardet (5.2.0)/charset_normalizer (2.0.7) doesn't match a supported version!\n",
      "  warnings.warn(\"urllib3 ({}) or chardet ({})/charset_normalizer ({}) doesn't match a supported \"\n",
      "/home/husein/.local/lib/python3.8/site-packages/bitsandbytes/cextension.py:34: UserWarning: The installed version of bitsandbytes was compiled without GPU support. 8-bit optimizers, 8-bit multiplication, and GPU quantization are unavailable.\n",
      "  warn(\"The installed version of bitsandbytes was compiled without GPU support. \"\n"
     ]
    },
    {
     "name": "stdout",
     "output_type": "stream",
     "text": [
      "/home/husein/.local/lib/python3.8/site-packages/bitsandbytes/libbitsandbytes_cpu.so: undefined symbol: cadam32bit_grad_fp32\n"
     ]
    },
    {
     "name": "stderr",
     "output_type": "stream",
     "text": [
      "/home/husein/dev/malaya/malaya/tokenizer.py:214: FutureWarning: Possible nested set at position 3397\n",
      "  self.tok = re.compile(r'({})'.format('|'.join(pipeline)))\n",
      "/home/husein/dev/malaya/malaya/tokenizer.py:214: FutureWarning: Possible nested set at position 3927\n",
      "  self.tok = re.compile(r'({})'.format('|'.join(pipeline)))\n"
     ]
    }
   ],
   "source": [
    "from malaya.text.rules import rules_normalizer, rules_compound_normalizer\n",
    "from malaya.text.normalization import _is_number_regex\n",
    "from collections import defaultdict\n",
    "import re\n",
    "import random\n",
    "import json\n",
    "import malaya"
   ]
  },
  {
   "cell_type": "code",
   "execution_count": 11,
   "id": "3808da61",
   "metadata": {},
   "outputs": [],
   "source": [
    "with open('en-social-media-lexicon.json') as fopen:\n",
    "    en_lexicon = json.load(fopen)"
   ]
  },
  {
   "cell_type": "code",
   "execution_count": 12,
   "id": "e09a07e4",
   "metadata": {},
   "outputs": [],
   "source": [
    "rev_rules_compound_normalizer = defaultdict(list)\n",
    "for k, v in rules_compound_normalizer.items():\n",
    "    k = k.replace('b . i', 'bi').replace('b . m', 'bm')\n",
    "    rev_rules_compound_normalizer[v].append(k)\n",
    "    \n",
    "rev_rules_normalizer = defaultdict(list)\n",
    "for k, v in rules_normalizer.items():\n",
    "    rev_rules_normalizer[v].append(k)\n",
    "    \n",
    "rules_compound_normalizer_regex = (\n",
    "    '(?:' + '|'.join(list(rev_rules_compound_normalizer.keys())) + ')'\n",
    ")"
   ]
  },
  {
   "cell_type": "code",
   "execution_count": 13,
   "id": "aa704351",
   "metadata": {},
   "outputs": [],
   "source": [
    "kedah_compound_normalizer = defaultdict(list)\n",
    "kedah_normalizer = defaultdict(list)\n",
    "for k, v in kedah.dictionary.items():\n",
    "    for v_ in v:\n",
    "        if len(v_.split()) > 1:\n",
    "            kedah_compound_normalizer[v_].append(k)\n",
    "        else:\n",
    "            kedah_normalizer[v_].append(k)\n",
    "            \n",
    "kedah_compound_normalizer_regex = (\n",
    "    '(?:' + '|'.join(list(kedah_compound_normalizer.keys())) + ')'\n",
    ")"
   ]
  },
  {
   "cell_type": "code",
   "execution_count": 14,
   "id": "9ac52307",
   "metadata": {},
   "outputs": [],
   "source": [
    "kelantan_compound_normalizer = defaultdict(list)\n",
    "kelantan_normalizer = defaultdict(list)\n",
    "for k, v in kelantan.dictionary.items():\n",
    "    for v_ in v:\n",
    "        if len(v_.split()) > 1:\n",
    "            kelantan_compound_normalizer[v_].append(k)\n",
    "        else:\n",
    "            kelantan_normalizer[v_].append(k)\n",
    "            \n",
    "for k, v in kelantan_v2.dictionary.items():\n",
    "    for v_ in v:\n",
    "        if len(v_.split()) > 1:\n",
    "            kelantan_compound_normalizer[v_].append(k)\n",
    "        else:\n",
    "            kelantan_normalizer[v_].append(k)\n",
    "            \n",
    "kelantan_compound_normalizer_regex = (\n",
    "    '(?:' + '|'.join(list(kelantan_compound_normalizer.keys())) + ')'\n",
    ")"
   ]
  },
  {
   "cell_type": "code",
   "execution_count": 15,
   "id": "a888eb1e",
   "metadata": {},
   "outputs": [],
   "source": [
    "melaka_compound_normalizer = defaultdict(list)\n",
    "melaka_normalizer = defaultdict(list)\n",
    "for k, v in melaka.dictionary.items():\n",
    "    for v_ in v:\n",
    "        if len(v_.split()) > 1:\n",
    "            melaka_compound_normalizer[v_].append(k)\n",
    "        else:\n",
    "            melaka_normalizer[v_].append(k)\n",
    "            \n",
    "melaka_compound_normalizer_regex = (\n",
    "    '(?:' + '|'.join(list(melaka_compound_normalizer.keys())) + ')'\n",
    ")"
   ]
  },
  {
   "cell_type": "code",
   "execution_count": 16,
   "id": "d55d4e3d",
   "metadata": {},
   "outputs": [],
   "source": [
    "negeri_sembilan_compound_normalizer = defaultdict(list)\n",
    "negeri_sembilan_normalizer = defaultdict(list)\n",
    "for k, v in negeri_sembilan.dictionary.items():\n",
    "    for v_ in v:\n",
    "        if len(v_.split()) > 1:\n",
    "            negeri_sembilan_compound_normalizer[v_].append(k)\n",
    "        else:\n",
    "            negeri_sembilan_normalizer[v_].append(k)\n",
    "            \n",
    "negeri_sembilan_compound_normalizer_regex = (\n",
    "    '(?:' + '|'.join(list(negeri_sembilan_compound_normalizer.keys())) + ')'\n",
    ")"
   ]
  },
  {
   "cell_type": "code",
   "execution_count": 17,
   "id": "339246ab",
   "metadata": {},
   "outputs": [],
   "source": [
    "pahang_compound_normalizer = defaultdict(list)\n",
    "pahang_normalizer = defaultdict(list)\n",
    "for k, v in pahang.dictionary.items():\n",
    "    for v_ in v:\n",
    "        if len(v_.split()) > 1:\n",
    "            pahang_compound_normalizer[v_].append(k)\n",
    "        else:\n",
    "            pahang_normalizer[v_].append(k)\n",
    "            \n",
    "pahang_compound_normalizer_regex = (\n",
    "    '(?:' + '|'.join(list(pahang_compound_normalizer.keys())) + ')'\n",
    ")"
   ]
  },
  {
   "cell_type": "code",
   "execution_count": 18,
   "id": "c07c48b9",
   "metadata": {},
   "outputs": [],
   "source": [
    "perak_compound_normalizer = defaultdict(list)\n",
    "perak_normalizer = defaultdict(list)\n",
    "for k, v in perak.dictionary.items():\n",
    "    for v_ in v:\n",
    "        if len(v_.split()) > 1:\n",
    "            perak_compound_normalizer[v_].append(k)\n",
    "        else:\n",
    "            perak_normalizer[v_].append(k)\n",
    "            \n",
    "perak_compound_normalizer_regex = (\n",
    "    '(?:' + '|'.join(list(perak_compound_normalizer.keys())) + ')'\n",
    ")"
   ]
  },
  {
   "cell_type": "code",
   "execution_count": 19,
   "id": "754723f9",
   "metadata": {},
   "outputs": [],
   "source": [
    "sabah_compound_normalizer = defaultdict(list)\n",
    "sabah_normalizer = defaultdict(list)\n",
    "for k, v in sabah.dictionary.items():\n",
    "    for v_ in v:\n",
    "        if len(v_.split()) > 1:\n",
    "            sabah_compound_normalizer[v_].append(k)\n",
    "        else:\n",
    "            sabah_normalizer[v_].append(k)\n",
    "            \n",
    "sabah_compound_normalizer_regex = (\n",
    "    '(?:' + '|'.join(list(sabah_compound_normalizer.keys())) + ')'\n",
    ")"
   ]
  },
  {
   "cell_type": "code",
   "execution_count": 20,
   "id": "eb7d6fdc",
   "metadata": {},
   "outputs": [],
   "source": [
    "dialects = [\n",
    "    (kedah_compound_normalizer, kedah_normalizer, kedah_compound_normalizer_regex),\n",
    "    (kelantan_compound_normalizer, kelantan_normalizer, kelantan_compound_normalizer_regex),\n",
    "    (melaka_compound_normalizer, melaka_normalizer, melaka_compound_normalizer_regex),\n",
    "    (negeri_sembilan_compound_normalizer, negeri_sembilan_normalizer, negeri_sembilan_compound_normalizer_regex),\n",
    "    (pahang_compound_normalizer, pahang_normalizer, pahang_compound_normalizer_regex),\n",
    "    (perak_compound_normalizer, perak_normalizer, perak_compound_normalizer_regex),\n",
    "    (sabah_compound_normalizer, sabah_normalizer, sabah_compound_normalizer_regex),\n",
    "]"
   ]
  },
  {
   "cell_type": "code",
   "execution_count": 109,
   "id": "be6478e3",
   "metadata": {},
   "outputs": [
    {
     "data": {
      "text/plain": [
       "('', ',', 'counters')"
      ]
     },
     "execution_count": 109,
     "metadata": {},
     "output_type": "execute_result"
    }
   ],
   "source": [
    "PUNCTUATION = '!\"#$%&\\'()*+,./:;<=>?@[\\]^_`{|}~'\n",
    "QUOTE = '\\'\"'\n",
    "BRACKET = '{}()[]'\n",
    "\n",
    "def case_of(text):\n",
    "    return (\n",
    "        str.upper\n",
    "        if text.isupper()\n",
    "        else str.lower\n",
    "        if text.islower()\n",
    "        else str.title\n",
    "        if text.istitle()\n",
    "        else str\n",
    "    )\n",
    "\n",
    "def strip_punct(word):\n",
    "    left = []\n",
    "    right = []\n",
    "    i = 0\n",
    "    while i < len(word):\n",
    "        if word[i] in PUNCTUATION:\n",
    "            left.append(word[i])\n",
    "            i += 1\n",
    "        else:\n",
    "            break\n",
    "    i = len(word) - 1\n",
    "    while i > 0:\n",
    "        if word[i] in PUNCTUATION:\n",
    "            right.append(word[i])\n",
    "            i -= 1\n",
    "        else:\n",
    "            break\n",
    "    left = ''.join(left)\n",
    "    right = ''.join(right[::-1])\n",
    "    if len(right):\n",
    "        word_ = word[:-len(right)]\n",
    "    else:\n",
    "        word_ = word\n",
    "    word_ = word_[len(left):]\n",
    "    return left, right, word_\n",
    "\n",
    "\n",
    "def replace_shortword(word, rules = rev_rules_normalizer):\n",
    "    if word[0] in QUOTE or word[-1] in QUOTE:\n",
    "        return word\n",
    "    if word[0] in BRACKET or word[-1] in BRACKET:\n",
    "        return word\n",
    "    left, right, word_ = strip_punct(word)\n",
    "    word_ = word_[len(left):]\n",
    "    lower_word_ = word_.lower()\n",
    "    if lower_word_ in rules:\n",
    "        word_ = case_of(word_)(random.choice(rules[lower_word_]))\n",
    "        word_ = f'{left}{word_}{right}'\n",
    "        return word_\n",
    "    else:\n",
    "        return word\n",
    "    \n",
    "strip_punct('counters,')"
   ]
  },
  {
   "cell_type": "code",
   "execution_count": 110,
   "id": "ff9465a4",
   "metadata": {},
   "outputs": [],
   "source": [
    "def _replace_compound(string, rules = rev_rules_compound_normalizer):\n",
    "    for k in list(rules.keys()):\n",
    "        results = [(m.start(0), m.end(0)) for m in re.finditer(k, string, flags=re.IGNORECASE)]\n",
    "        for r in results:\n",
    "            sub = string[r[0]: r[1]]\n",
    "            try:\n",
    "                replaced = random.choice(rules[sub.lower()])\n",
    "                if replaced:\n",
    "                    if r[1] < len(string) and string[r[1]] != ' ':\n",
    "                        continue\n",
    "                    if r[0] - 1 > len(string) and string[r[0] - 1] != ' ':\n",
    "                        continue\n",
    "\n",
    "                    sub = case_of(sub)(replaced)\n",
    "                    string = string[:r[0]] + sub + string[r[1]:]\n",
    "            except:\n",
    "                pass\n",
    "    return string"
   ]
  },
  {
   "cell_type": "code",
   "execution_count": 70,
   "id": "4987113a",
   "metadata": {},
   "outputs": [
    {
     "data": {
      "text/plain": [
       "'kemudahan, main kejar, taram ja'"
      ]
     },
     "execution_count": 70,
     "metadata": {},
     "output_type": "execute_result"
    }
   ],
   "source": [
    "_replace_compound('kemudahan, main kejar, bedal ja', rules = kedah_compound_normalizer)"
   ]
  },
  {
   "cell_type": "code",
   "execution_count": 72,
   "id": "757bc0c3",
   "metadata": {},
   "outputs": [
    {
     "data": {
      "text/plain": [
       "['sayaa', 'sanggat', 'cantix\"']"
      ]
     },
     "execution_count": 72,
     "metadata": {},
     "output_type": "execute_result"
    }
   ],
   "source": [
    "string = 'saya sangat cantik\"'\n",
    "[replace_shortword(word) for word in string.split()]"
   ]
  },
  {
   "cell_type": "code",
   "execution_count": 73,
   "id": "ab5b24fc",
   "metadata": {},
   "outputs": [],
   "source": [
    "def replace_words_punct(left_word, right_word):\n",
    "    left_left, left_right, left_word = strip_punct(left_word)\n",
    "    right_left, right_right, right_word = strip_punct(right_word)\n",
    "    return f'{left_left}{right_word}{left_right}'\n",
    "\n",
    "def random_replace_alignment(left, right, alignment, min_replace = 2, max_replace = 7):\n",
    "    splitted_left = left.split()\n",
    "    splitted_right = right.split()\n",
    "    \n",
    "    selected_alignment = []\n",
    "    for s in alignment:\n",
    "        l = s[0]\n",
    "        r = s[1]\n",
    "        if _is_number_regex(splitted_left[l].replace(',', '').replace('.', '')) or _is_number_regex(splitted_right[r].replace(',', '').replace('.', '')):\n",
    "            continue\n",
    "        elif splitted_left[l].isupper() or splitted_right[r].isupper():\n",
    "            continue\n",
    "        elif splitted_left[l] == splitted_right[r]:\n",
    "            continue\n",
    "        elif splitted_right[r].lower() in ['the', 'a', 'an', 'it', 'is', 'are']:\n",
    "            continue\n",
    "        else:\n",
    "            selected_alignment.append((l, r))\n",
    "    \n",
    "    count_replace = random.randint(min_replace, min(max_replace, len(selected_alignment)))\n",
    "    \n",
    "    selected = random.sample(selected_alignment, count_replace)\n",
    "    for s in selected:\n",
    "        splitted_left[s[0]] = replace_words_punct(splitted_left[s[0]], splitted_right[s[1]])\n",
    "    \n",
    "    return ' '.join(splitted_left)"
   ]
  },
  {
   "cell_type": "code",
   "execution_count": 74,
   "id": "6cce1b73",
   "metadata": {},
   "outputs": [
    {
     "data": {
      "text/plain": [
       "['Saye', 'Sayak']"
      ]
     },
     "execution_count": 74,
     "metadata": {},
     "output_type": "execute_result"
    }
   ],
   "source": [
    "malaya.augmentation.rules.socialmedia_form('Saya')"
   ]
  },
  {
   "cell_type": "code",
   "execution_count": 75,
   "id": "5a13a14e",
   "metadata": {},
   "outputs": [],
   "source": [
    "import copy"
   ]
  },
  {
   "cell_type": "code",
   "execution_count": 127,
   "id": "ba0d8a95",
   "metadata": {},
   "outputs": [],
   "source": [
    "consonants = 'bcdfghjklmnpqrstvwxyz'\n",
    "\n",
    "def augment(left, p_replace_shortword = 0.7, p_socialmedia = 0.85, p_vowel_alternate = 0.8, p_replace_en_shortword = 0.3):\n",
    "    \n",
    "    compound_rules_, rules_, rules_regex_ = random.choice(dialects)\n",
    "    left = _replace_compound(left, rules = copy.deepcopy(rev_rules_compound_normalizer))\n",
    "    left = _replace_compound(left, rules = copy.deepcopy(compound_rules_))\n",
    "    #left = _replace_compound(left, rules_regex = rules_regex_, rules = compound_rules_)\n",
    "    left = [replace_shortword(word, rules = en_lexicon) if random.random() > p_replace_en_shortword else word for word in left.split()]\n",
    "    left = [replace_shortword(word, rules = rules_) for word in left]\n",
    "    left = [(replace_shortword(word), False) if random.random() > p_replace_shortword else (word, True) for word in left]\n",
    "    left_ = []\n",
    "    for l in left:\n",
    "        if _is_number_regex(l[0].replace(',', '').replace('.', '')):\n",
    "            left_.append(l[0])\n",
    "            continue\n",
    "        if l[0].isupper():\n",
    "            left_.append(l[0])\n",
    "            continue\n",
    "        if l[0].istitle():\n",
    "            left_.append(l[0])\n",
    "            continue\n",
    "        if d.check(l[0]):\n",
    "            left_.append(l[0])\n",
    "            continue\n",
    "        \n",
    "        if l[1]:\n",
    "            if random.random() > p_socialmedia:\n",
    "                try:\n",
    "                    r = malaya.augmentation.socialmedia_form(l[0])\n",
    "                except:\n",
    "                    r = [l[0]]\n",
    "                if len(r):\n",
    "                    s = random.choice(r)\n",
    "                else:\n",
    "                    s = l[0]\n",
    "            else:\n",
    "                s = l[0]\n",
    "                \n",
    "            if random.random() > p_vowel_alternate:\n",
    "                try:\n",
    "                    s = malaya.augmentation.vowel_alternate(s)\n",
    "                except:\n",
    "                    pass\n",
    "                try:\n",
    "                    if random.random() and s[-1] == 'a' and s[-2] in consonants:\n",
    "                        s = s[:-1] + 'e'\n",
    "                except:\n",
    "                    pass\n",
    "        else:\n",
    "            s = l[0]\n",
    "        \n",
    "        left_.append(case_of(l[0])(s))\n",
    "    return ' '.join(left_)"
   ]
  },
  {
   "cell_type": "code",
   "execution_count": 128,
   "id": "0078f135",
   "metadata": {},
   "outputs": [
    {
     "data": {
      "text/plain": [
       "\"Apa perbezaan antara kate sendi nama 'di' dan 'ke' dalam konteks ayat bahase Melayu?\""
      ]
     },
     "execution_count": 128,
     "metadata": {},
     "output_type": "execute_result"
    }
   ],
   "source": [
    "augment(\"Apa perbezaan antara kata sendi nama 'di' dan 'ke' dalam konteks ayat bahasa Melayu?\")"
   ]
  },
  {
   "cell_type": "code",
   "execution_count": 129,
   "id": "4960eede",
   "metadata": {},
   "outputs": [
    {
     "data": {
      "text/plain": [
       "'Eden ingin tahu ape itu \"Kecerdasan Buatan\" (AI)?'"
      ]
     },
     "execution_count": 129,
     "metadata": {},
     "output_type": "execute_result"
    }
   ],
   "source": [
    "augment('Saya ingin tahu apa itu \"Kecerdasan Buatan\" (AI)?')"
   ]
  },
  {
   "cell_type": "code",
   "execution_count": 121,
   "id": "4913949e",
   "metadata": {},
   "outputs": [],
   "source": [
    "from tqdm import tqdm\n",
    "import traceback\n",
    "\n",
    "def loop(rows):\n",
    "    rows, _ = rows\n",
    "    new_left, original = [], []\n",
    "    for i in tqdm(range(len(rows))):\n",
    "        left, right = rows[i][0], rows[i][1]\n",
    "        if len(left.split()) > 100:\n",
    "            continue\n",
    "        l = []\n",
    "        for _ in range(3):\n",
    "            try:\n",
    "                new_left_ = augment(left)\n",
    "                if new_left_ != left:\n",
    "                    l.append(new_left_)\n",
    "                    \n",
    "            except Exception as e:\n",
    "                print(traceback.format_exc())\n",
    "        \n",
    "        if len(l):\n",
    "            new_left.append(l)\n",
    "            original.append(left)\n",
    "    return [[new_left, original]]"
   ]
  },
  {
   "cell_type": "code",
   "execution_count": 122,
   "id": "e71a09f2",
   "metadata": {},
   "outputs": [],
   "source": [
    "# !wget https://gist.githubusercontent.com/huseinzol05/98974ae8c6c7a65d4bc0af9f5003786a/raw/2e06e71ef7349a57bc58cc9913ae6bae1f9f8447/mp.py"
   ]
  },
  {
   "cell_type": "code",
   "execution_count": 123,
   "id": "45b81b1c",
   "metadata": {},
   "outputs": [],
   "source": [
    "import mp"
   ]
  },
  {
   "cell_type": "code",
   "execution_count": 133,
   "id": "a886dfdd",
   "metadata": {
    "scrolled": true
   },
   "outputs": [
    {
     "name": "stderr",
     "output_type": "stream",
     "text": [
      "100%|██████████████████████████████████████████████████████████████████████████████████████████| 171288/171288 [17:06<00:00, 166.82it/s]\n",
      "100%|█████████████████████████████████████████████████████████████████████████████████████████████████████| 1/1 [00:00<00:00, 86.52it/s]\n",
      "100%|██████████████████████████████████████████████████████████████████████████████████████████| 171288/171288 [17:11<00:00, 166.04it/s]\n",
      "100%|██████████████████████████████████████████████████████████████████████████████████████████| 171288/171288 [17:11<00:00, 166.09it/s]\n",
      "100%|██████████████████████████████████████████████████████████████████████████████████████████| 171288/171288 [17:08<00:00, 166.52it/s]\n",
      "100%|██████████████████████████████████████████████████████████████████████████████████████████| 171288/171288 [17:16<00:00, 165.18it/s]\n",
      "100%|██████████████████████████████████████████████████████████████████████████████████████████| 171288/171288 [17:16<00:00, 165.26it/s]\n",
      "100%|██████████████████████████████████████████████████████████████████████████████████████████| 171288/171288 [17:12<00:00, 165.82it/s]\n",
      "100%|██████████████████████████████████████████████████████████████████████████████████████████| 171288/171288 [17:18<00:00, 164.99it/s]\n",
      "100%|██████████████████████████████████████████████████████████████████████████████████████████| 171288/171288 [17:15<00:00, 165.42it/s]\n",
      "100%|██████████████████████████████████████████████████████████████████████████████████████████| 171288/171288 [17:22<00:00, 164.38it/s]\n"
     ]
    }
   ],
   "source": [
    "r = mp.multiprocessing(list(zip(left, right)), loop, cores = 10)"
   ]
  },
  {
   "cell_type": "code",
   "execution_count": 143,
   "id": "c54b981f",
   "metadata": {},
   "outputs": [
    {
     "data": {
      "text/plain": [
       "(1689426, 1689426)"
      ]
     },
     "execution_count": 143,
     "metadata": {},
     "output_type": "execute_result"
    }
   ],
   "source": [
    "original, augmentation = [], []\n",
    "for i in range(len(r)):\n",
    "    for k in range(len(r[i][0])):\n",
    "        original.append(r[i][1][k])\n",
    "        augmentation.append(r[i][0][k])\n",
    "len(original), len(augmentation)"
   ]
  },
  {
   "cell_type": "code",
   "execution_count": 144,
   "id": "36b4b96f",
   "metadata": {},
   "outputs": [
    {
     "data": {
      "text/plain": [
       "'Bagaimana kita boleh melibatkan masyarakat dalam usaha menangani pandangan ekstremis NGO-NGO ini?'"
      ]
     },
     "execution_count": 144,
     "metadata": {},
     "output_type": "execute_result"
    }
   ],
   "source": [
    "original[0]"
   ]
  },
  {
   "cell_type": "code",
   "execution_count": 145,
   "id": "4d35c77a",
   "metadata": {},
   "outputs": [
    {
     "data": {
      "text/plain": [
       "['Dah Guane kite boleh melibatkan masyarakay dalam usahe menangani pandangan ekstremis NGO-NGO ini?',\n",
       " 'Dah Guane kite boleh melibatkan masyarakat dalam qekah menangani pandangan ekstremis NGO-NGO nie?',\n",
       " 'Dah Guane qta reti melibatkan masyarakay dlam usahe menangani pandangan ekstremis NGO-NGO ini?']"
      ]
     },
     "execution_count": 145,
     "metadata": {},
     "output_type": "execute_result"
    }
   ],
   "source": [
    "augmentation[0]"
   ]
  },
  {
   "cell_type": "code",
   "execution_count": 146,
   "id": "75a08f67",
   "metadata": {},
   "outputs": [],
   "source": [
    "with open('augmentation-questions.jsonl', 'w') as fopen:\n",
    "    for i in range(len(original)):\n",
    "        d = {\n",
    "            'question': original[i],\n",
    "            'augmentation': augmentation[i]\n",
    "        }\n",
    "        fopen.write(f'{json.dumps(d)}\\n')"
   ]
  },
  {
   "cell_type": "code",
   "execution_count": 147,
   "id": "442b92e2",
   "metadata": {},
   "outputs": [
    {
     "name": "stdout",
     "output_type": "stream",
     "text": [
      "1689426 augmentation-questions.jsonl\r\n"
     ]
    }
   ],
   "source": [
    "!wc -l augmentation-questions.jsonl"
   ]
  },
  {
   "cell_type": "code",
   "execution_count": 148,
   "id": "2e0e6460",
   "metadata": {},
   "outputs": [
    {
     "name": "stdout",
     "output_type": "stream",
     "text": [
      "-rw-r--r-- 1 husein husein 776M Feb  24 12:58 augmentation-questions.jsonl\r\n"
     ]
    }
   ],
   "source": [
    "!ls -lh augmentation-questions.jsonl"
   ]
  },
  {
   "cell_type": "code",
   "execution_count": 149,
   "id": "b2365ffd",
   "metadata": {},
   "outputs": [],
   "source": [
    "from huggingface_hub import HfApi\n",
    "api = HfApi()"
   ]
  },
  {
   "cell_type": "code",
   "execution_count": 150,
   "id": "c75538eb",
   "metadata": {},
   "outputs": [
    {
     "data": {
      "application/vnd.jupyter.widget-view+json": {
       "model_id": "fd3de933abfe4d5bae7c093de9bb38e7",
       "version_major": 2,
       "version_minor": 0
      },
      "text/plain": [
       "augmentation-questions.jsonl:   0%|          | 0.00/813M [00:00<?, ?B/s]"
      ]
     },
     "metadata": {},
     "output_type": "display_data"
    },
    {
     "data": {
      "text/plain": [
       "CommitInfo(commit_url='https://huggingface.co/datasets/mesolitica/noisy-augmentation/commit/7c6e8b6938829b23f53f3b3313300bee0a0b55c5', commit_message='Upload augmentation-questions.jsonl with huggingface_hub', commit_description='', oid='7c6e8b6938829b23f53f3b3313300bee0a0b55c5', pr_url=None, pr_revision=None, pr_num=None)"
      ]
     },
     "execution_count": 150,
     "metadata": {},
     "output_type": "execute_result"
    }
   ],
   "source": [
    "api.upload_file(\n",
    "    path_or_fileobj='augmentation-questions.jsonl',\n",
    "    path_in_repo='augmentation-questions.jsonl',\n",
    "    repo_id='mesolitica/noisy-augmentation',\n",
    "    repo_type='dataset',\n",
    ")"
   ]
  }
 ],
 "metadata": {
  "kernelspec": {
   "display_name": "Python 3 (ipykernel)",
   "language": "python",
   "name": "python3"
  },
  "language_info": {
   "codemirror_mode": {
    "name": "ipython",
    "version": 3
   },
   "file_extension": ".py",
   "mimetype": "text/x-python",
   "name": "python",
   "nbconvert_exporter": "python",
   "pygments_lexer": "ipython3",
   "version": "3.8.10"
  }
 },
 "nbformat": 4,
 "nbformat_minor": 5
}
