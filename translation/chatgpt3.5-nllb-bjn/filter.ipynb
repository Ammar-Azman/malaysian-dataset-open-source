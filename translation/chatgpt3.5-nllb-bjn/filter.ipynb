{
 "cells": [
  {
   "cell_type": "code",
   "execution_count": 1,
   "metadata": {},
   "outputs": [
    {
     "data": {
      "text/plain": [
       "['combined.jsonl09.splitted.requested',\n",
       " 'combined.jsonl00.splitted.requested',\n",
       " 'combined.jsonl17.splitted.requested',\n",
       " 'combined.jsonl20.splitted.requested',\n",
       " 'combined.jsonl18.splitted.requested',\n",
       " 'combined.jsonl16.splitted.requested',\n",
       " 'combined.jsonl10.splitted.requested',\n",
       " 'combined.jsonl14.splitted.requested',\n",
       " 'combined.jsonl19.splitted.requested',\n",
       " 'combined.jsonl05.splitted.requested',\n",
       " 'combined.jsonl02.splitted.requested',\n",
       " 'combined.jsonl03.splitted.requested',\n",
       " 'combined.jsonl11.splitted.requested',\n",
       " 'combined.jsonl01.splitted.requested',\n",
       " 'combined.jsonl13.splitted.requested',\n",
       " 'combined.jsonl08.splitted.requested',\n",
       " 'combined.jsonl15.splitted.requested',\n",
       " 'combined.jsonl04.splitted.requested',\n",
       " 'combined.jsonl12.splitted.requested',\n",
       " 'combined.jsonl07.splitted.requested',\n",
       " 'combined.jsonl06.splitted.requested']"
      ]
     },
     "execution_count": 1,
     "metadata": {},
     "output_type": "execute_result"
    }
   ],
   "source": [
    "import json\n",
    "from glob import glob\n",
    "\n",
    "files = glob('*.requested')\n",
    "files"
   ]
  },
  {
   "cell_type": "code",
   "execution_count": 2,
   "metadata": {},
   "outputs": [
    {
     "name": "stdout",
     "output_type": "stream",
     "text": [
      "{\"src\": [\"Salapeh baraja salamo ampek tahun, baliau mamutuihan untuak kalua dari Thawalib, samantaro program pandidikan di sakolah tasabuik dirancang salamo tujuah tahun.\", \"Selama sepuluh tahun terakhir, dia telah mengajar untuk memperbaiki pendidikan di Thawalib, sementara program pendidikan di sekolah-sekolah setempat dirancang selama tujuh tahun.\"], \"r\": {\"result\": \"Sejak sepuluh tahun lalu, beliau telah mengajar untuk meningkatkan pendidikan di Thawalib, manakala program pendidikan di sekolah tempatan direka selama tujuh tahun.\", \"pronunciation\": \"undefined\", \"from\": {}}}\r\n",
      "{\"src\": [\"gan, nanya donk kalo cari bubble dome crystal gt dmn ya? ada toko rekomen ato online? bole dibisikin sama tempat ahli yg bisa masang Kyanya di toko ijo ada yg jual gan, kalo tempat masang ane kurang tau.\", \"\\\"Encik, boleh tanya di mana saya boleh mencari Bubble Dome Crystal? Adakah kedai yang disyorkan atau dalam talian? Bolehkah anda beritahu saya di mana saya boleh mendapatkan bantuan daripada pakar untuk memasangnya? Saya dengar ada yang dijual di Toko Ijo, tetapi saya tidak pasti di mana untuk memasangnya.\\\"\"], \"r\": {\"result\": \"\\\"Puan, boleh saya bertanya di mana saya boleh mencari Bubble Dome Crystal? Adakah terdapat kedai yang disyorkan atau dalam talian? Bolehkah puan beritahu saya di mana saya boleh mendapatkan bantuan daripada pakar untuk memasangnya? Saya dengar ia dijual di Toko Ijo, tetapi saya Saya tidak pasti di mana untuk memasangnya.\\\"\", \"pronunciation\": \"undefined\", \"from\": {}}}\r\n"
     ]
    }
   ],
   "source": [
    "!head -n 2 combined.jsonl14.splitted.requested"
   ]
  },
  {
   "cell_type": "code",
   "execution_count": 11,
   "metadata": {},
   "outputs": [
    {
     "name": "stderr",
     "output_type": "stream",
     "text": [
      "100%|███████████████████████████████████████████| 21/21 [00:08<00:00,  2.44it/s]\n"
     ]
    }
   ],
   "source": [
    "from tqdm import tqdm\n",
    "\n",
    "filtered = []\n",
    "\n",
    "for f in tqdm(files):\n",
    "\n",
    "    with open(f) as fopen:\n",
    "        for l in fopen:\n",
    "            l = json.loads(l)\n",
    "            try:\n",
    "                k = l['r']['result']\n",
    "\n",
    "                if 'saya tidak dapat menterjemah teks' in k.lower():\n",
    "                    continue\n",
    "                if 'saya tidak boleh menterjemah kandungan yang tidak sesuai' in k.lower():\n",
    "                    continue\n",
    "                if 'saya tidak boleh menterjemah teks' in k.lower():\n",
    "                    continue\n",
    "                if 'teks yang diberikan tidak mempunyai makna' in k.lower():\n",
    "                    continue\n",
    "                if 'teks yang disediakan tidak boleh diterjemahkan' in k.lower():\n",
    "                    continue\n",
    "                if 'teks yang diberikan tidak masuk akal' in k.lower():\n",
    "                    continue\n",
    "                if 'teks yang diberikan nampaknya tidak' in k.lower():\n",
    "                    continue\n",
    "                if 'teks yang diberikan tidak mempunyai maksud' in k.lower():\n",
    "                    continue\n",
    "                if 'teks yang diberikan bukan dalam mana-mana bahasa' in k.lower():\n",
    "                    continue\n",
    "                if 'teks ini tidak boleh diterjemahkan' in k.lower():\n",
    "                    continue\n",
    "                if 'saya tidak dapat menterjemah frasa' in k.lower():\n",
    "                    continue\n",
    "                if 'teks yang disediakan bukan' in k.lower():\n",
    "                    continue\n",
    "                if 'teks yang diberikan tidak jelas' in k.lower():\n",
    "                    continue\n",
    "                if 'teks yang diberikan tidak' in k.lower():\n",
    "                    continue\n",
    "                if 'terjemahan teks kepada' in k.lower():\n",
    "                    continue\n",
    "                if 'saya tidak boleh menterjemah bahasa' in k.lower():\n",
    "                    continue\n",
    "                if 'model bahasa AI' in k:\n",
    "                    continue\n",
    "                if 'bahasa melayu standard' in k.lower():\n",
    "                    continue\n",
    "                if 'teks yang diberikan bukan dalam bahasa' in k.lower():\n",
    "                    continue\n",
    "                if 'teks yang anda berikan bukan' in k.lower():\n",
    "                    continue\n",
    "                if 'teks yang disediakan tidak' in k.lower():\n",
    "                    continue\n",
    "                if 'teks yang diberikan bukan' in k.lower():\n",
    "                    continue\n",
    "                if 'saya tidak dapat menterjemah' in k.lower():\n",
    "                    continue\n",
    "                if 'berikan konteks yang lebih' in k.lower():\n",
    "                    continue\n",
    "                if 'tetapi teks yang diberikan' in k.lower():\n",
    "                    continue\n",
    "\n",
    "                filtered.append(l)\n",
    "            except:\n",
    "                pass"
   ]
  },
  {
   "cell_type": "code",
   "execution_count": 12,
   "metadata": {},
   "outputs": [
    {
     "data": {
      "text/plain": [
       "958405"
      ]
     },
     "execution_count": 12,
     "metadata": {},
     "output_type": "execute_result"
    }
   ],
   "source": [
    "len(filtered)"
   ]
  },
  {
   "cell_type": "code",
   "execution_count": 13,
   "metadata": {},
   "outputs": [
    {
     "data": {
      "text/plain": [
       "{'src': ['ga pegel tuh ngayuhnya', '\"Gatal pegal tuh mengayuhnya.\"'],\n",
       " 'r': {'result': '\"Sakit untuk mengayuhnya.\"',\n",
       "  'pronunciation': 'undefined',\n",
       "  'from': {}}}"
      ]
     },
     "execution_count": 13,
     "metadata": {},
     "output_type": "execute_result"
    }
   ],
   "source": [
    "filtered[0]"
   ]
  },
  {
   "cell_type": "code",
   "execution_count": 15,
   "metadata": {},
   "outputs": [],
   "source": [
    "with open('filtered-nllb.json', 'w') as fopen:\n",
    "    json.dump(filtered, fopen)"
   ]
  }
 ],
 "metadata": {
  "kernelspec": {
   "display_name": "Python 3 (ipykernel)",
   "language": "python",
   "name": "python3"
  },
  "language_info": {
   "codemirror_mode": {
    "name": "ipython",
    "version": 3
   },
   "file_extension": ".py",
   "mimetype": "text/x-python",
   "name": "python",
   "nbconvert_exporter": "python",
   "pygments_lexer": "ipython3",
   "version": "3.8.10"
  }
 },
 "nbformat": 4,
 "nbformat_minor": 4
}
