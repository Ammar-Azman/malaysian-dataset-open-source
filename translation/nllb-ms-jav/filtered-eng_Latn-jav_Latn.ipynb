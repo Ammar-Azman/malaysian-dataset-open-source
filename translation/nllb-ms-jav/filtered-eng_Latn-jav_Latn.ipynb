{
 "cells": [
  {
   "cell_type": "code",
   "execution_count": 28,
   "metadata": {
    "scrolled": true
   },
   "outputs": [
    {
     "name": "stderr",
     "output_type": "stream",
     "text": [
      "8293609it [00:27, 305629.69it/s]\n"
     ]
    }
   ],
   "source": [
    "from tqdm import tqdm\n",
    "import json\n",
    "\n",
    "with open('filtered-eng_Latn-jav_Latn', 'w') as fopen_l:\n",
    "    with open('eng_Latn-jav_Latn') as fopen:\n",
    "        for row in tqdm(fopen):\n",
    "            splitted = row.split('\\t')\n",
    "            if float(splitted[2]) >= 1.06:\n",
    "                if len(splitted[0].split()) < 256 and len(splitted[1].split()) < 256:\n",
    "                    fopen_l.write(f'{json.dumps(splitted[:2])}\\n')\n",
    "            else:\n",
    "                break\n",
    "        \n",
    "#         if len(x) == 10:\n",
    "#             break"
   ]
  },
  {
   "cell_type": "code",
   "execution_count": 3,
   "metadata": {},
   "outputs": [],
   "source": [
    "!split -l 500000 -d --additional-suffix=.splitted filtered-eng_Latn-jav_Latn filtered-eng_Latn-jav_Latn"
   ]
  }
 ],
 "metadata": {
  "kernelspec": {
   "display_name": "Python 3 (ipykernel)",
   "language": "python",
   "name": "python3"
  },
  "language_info": {
   "codemirror_mode": {
    "name": "ipython",
    "version": 3
   },
   "file_extension": ".py",
   "mimetype": "text/x-python",
   "name": "python",
   "nbconvert_exporter": "python",
   "pygments_lexer": "ipython3",
   "version": "3.8.10"
  }
 },
 "nbformat": 4,
 "nbformat_minor": 4
}
