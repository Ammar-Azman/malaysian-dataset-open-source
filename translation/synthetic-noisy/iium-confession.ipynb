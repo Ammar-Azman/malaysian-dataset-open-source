{
 "cells": [
  {
   "cell_type": "code",
   "execution_count": 1,
   "id": "fae59627",
   "metadata": {},
   "outputs": [],
   "source": [
    "# !wget https://huggingface.co/datasets/mesolitica/chatgpt-noisy-translation-iium-confession/resolve/main/processed-iium-confession.jsonl"
   ]
  },
  {
   "cell_type": "code",
   "execution_count": 2,
   "id": "bfffbc74",
   "metadata": {},
   "outputs": [],
   "source": [
    "import os\n",
    "\n",
    "os.environ['CUDA_VISIBLE_DEVICES'] = '1'"
   ]
  },
  {
   "cell_type": "code",
   "execution_count": 3,
   "id": "e396a6a9",
   "metadata": {},
   "outputs": [
    {
     "name": "stderr",
     "output_type": "stream",
     "text": [
      "/home/husein/.local/lib/python3.8/site-packages/requests/__init__.py:102: RequestsDependencyWarning: urllib3 (1.26.15) or chardet (5.2.0)/charset_normalizer (2.0.7) doesn't match a supported version!\n",
      "  warnings.warn(\"urllib3 ({}) or chardet ({})/charset_normalizer ({}) doesn't match a supported \"\n",
      "Special tokens have been added in the vocabulary, make sure the associated word embeddings are fine-tuned or trained.\n"
     ]
    }
   ],
   "source": [
    "from transformers import T5ForConditionalGeneration, AutoTokenizer\n",
    "\n",
    "tokenizer = AutoTokenizer.from_pretrained(\n",
    "    'mesolitica/translation-t5-small-standard-bahasa-cased-v2',\n",
    "    use_fast=False\n",
    ")\n",
    "model = T5ForConditionalGeneration.from_pretrained(\n",
    "    'mesolitica/translation-t5-small-standard-bahasa-cased-v2'\n",
    ")\n",
    "all_special_ids = [0, 1, 2]"
   ]
  },
  {
   "cell_type": "code",
   "execution_count": 4,
   "id": "de941b3a",
   "metadata": {},
   "outputs": [],
   "source": [
    "_ = model.cuda()"
   ]
  },
  {
   "cell_type": "code",
   "execution_count": 1,
   "id": "e6ff103b",
   "metadata": {},
   "outputs": [],
   "source": [
    "import json\n",
    "import re\n",
    "import torch\n",
    "from tqdm import tqdm\n",
    "\n",
    "def clean(string):\n",
    "    string = re.sub(\n",
    "        'http\\\\S+|www.\\\\S+',\n",
    "        '',\n",
    "        ' '.join(\n",
    "            [\n",
    "                word\n",
    "                for word in string.split()\n",
    "                if word.find('#') < 0 and word.find('@') < 0\n",
    "            ]\n",
    "        ),\n",
    "    )\n",
    "    return string"
   ]
  },
  {
   "cell_type": "code",
   "execution_count": 2,
   "id": "deab818d",
   "metadata": {
    "scrolled": true
   },
   "outputs": [
    {
     "name": "stderr",
     "output_type": "stream",
     "text": [
      "333758it [00:03, 101393.92it/s]\n"
     ]
    }
   ],
   "source": [
    "ls = []\n",
    "with open('processed-iium-confession.jsonl') as fopen:\n",
    "    for l in tqdm(fopen):\n",
    "        l = json.loads(l)\n",
    "        l['cleaned'] = clean(l['left'])\n",
    "        ls.append(l)"
   ]
  },
  {
   "cell_type": "code",
   "execution_count": 7,
   "id": "2fa115b1",
   "metadata": {
    "scrolled": false
   },
   "outputs": [
    {
     "data": {
      "text/plain": [
       "{'left': 'Assalamualaikum dan salam sejahtera. Hai geng. J is back. Sihat semua? Family sihat? Aku doakan semua sihat-sihat belaka. Terima kasih support aku. Aku cuma nak cerita kisah aku dan kawan-kawan aku. Kerja di ladang ni dah lama di anak tirikan oleh masyarakat. Sedih juga aku. Kami duduk hutan sawit ni tak kacau orang pun. Tapi pandangan masyarakat tu, hurmmm... Entahla.',\n",
       " 'en': \"Assalamualaikum and greetings. Hey guys, J is back. Are you all well? Is your family well? I pray that everyone is in good health. Thank you for your support. I just want to share my story and my friends' story. We have been working in this plantation for a long time and have been neglected by the community. It's sad. We live in this oil palm forest and don't bother anyone. But the community's perception, well... I don't know.\",\n",
       " 'ms': 'Assalamualaikum dan salam sejahtera. Hai geng. J kembali. Semua sihat? Keluarga sihat? Saya berdoa agar semua sihat-sihat belaka. Terima kasih atas sokongan anda. Saya hanya ingin berkongsi kisah saya dan kisah rakan-rakan saya. Kami telah bekerja di ladang ini untuk waktu yang lama dan telah diabaikan oleh masyarakat. Sedih juga. Kami tinggal di hutan sawit ini dan tidak mengganggu sesiapa pun. Tetapi pandangan masyarakat, hurmmm... Entahlah.',\n",
       " 'cleaned': 'Assalamualaikum dan salam sejahtera. Hai geng. J is back. Sihat semua? Family sihat? Aku doakan semua sihat-sihat belaka. Terima kasih support aku. Aku cuma nak cerita kisah aku dan kawan-kawan aku. Kerja di ladang ni dah lama di anak tirikan oleh masyarakat. Sedih juga aku. Kami duduk hutan sawit ni tak kacau orang pun. Tapi pandangan masyarakat tu, hurmmm... Entahla.'}"
      ]
     },
     "execution_count": 7,
     "metadata": {},
     "output_type": "execute_result"
    }
   ],
   "source": [
    "ls[0]"
   ]
  },
  {
   "cell_type": "code",
   "execution_count": 8,
   "id": "c793ca42",
   "metadata": {},
   "outputs": [],
   "source": [
    "# %%time\n",
    "\n",
    "# s = 'Dalam hujan lebat some more'\n",
    "# input_ids = tokenizer.encode(f'terjemah ke pasar Melayu: {s}', return_tensors = 'pt')\n",
    "# outputs = model.generate(input_ids.cuda(), max_length = 100, do_sample=True,\n",
    "#     top_k=50,\n",
    "#     top_p=0.95,\n",
    "#     num_return_sequences=5, temperature = 1.0, output_scores = True, return_dict_in_generate = True)\n",
    "# seqs = []\n",
    "# for o in outputs.sequences:\n",
    "#     o = tokenizer.decode([i for i in o if i not in all_special_ids], \n",
    "#                          spaces_between_special_tokens = False)\n",
    "#     seqs.append(o)\n",
    "# seqs"
   ]
  },
  {
   "cell_type": "code",
   "execution_count": 9,
   "id": "4b9c90fb",
   "metadata": {},
   "outputs": [
    {
     "name": "stdout",
     "output_type": "stream",
     "text": [
      "mkdir: cannot create directory ‘iium-confessions-predict’: File exists\r\n"
     ]
    }
   ],
   "source": [
    "# !rm -rf iium-confessions-predict\n",
    "!mkdir iium-confessions-predict"
   ]
  },
  {
   "cell_type": "code",
   "execution_count": 10,
   "id": "3d454e8c",
   "metadata": {},
   "outputs": [],
   "source": [
    "pairs = {\n",
    "    'en': 'Manglish',\n",
    "    'ms': 'pasar Melayu'\n",
    "}"
   ]
  },
  {
   "cell_type": "code",
   "execution_count": null,
   "id": "ebfcf29b",
   "metadata": {},
   "outputs": [
    {
     "name": "stderr",
     "output_type": "stream",
     "text": [
      " 41%|██████████████████████████████████▊                                                  | 136934/333758 [37:53:25<44:19:27,  1.23it/s]IOPub message rate exceeded.\n",
      "The notebook server will temporarily stop sending output\n",
      "to the client in order to avoid crashing it.\n",
      "To change this limit, set the config variable\n",
      "`--NotebookApp.iopub_msg_rate_limit`.\n",
      "\n",
      "Current values:\n",
      "NotebookApp.iopub_msg_rate_limit=1000.0 (msgs/sec)\n",
      "NotebookApp.rate_limit_window=3.0 (secs)\n",
      "\n",
      " 45%|█████████████████████████████████████▍                                              | 148768/333758 [43:26:21<124:55:03,  2.43s/it]IOPub message rate exceeded.\n",
      "The notebook server will temporarily stop sending output\n",
      "to the client in order to avoid crashing it.\n",
      "To change this limit, set the config variable\n",
      "`--NotebookApp.iopub_msg_rate_limit`.\n",
      "\n",
      "Current values:\n",
      "NotebookApp.iopub_msg_rate_limit=1000.0 (msgs/sec)\n",
      "NotebookApp.rate_limit_window=3.0 (secs)\n",
      "\n",
      " 45%|██████████████████████████████████████▍                                              | 150844/333758 [44:21:32<42:51:39,  1.19it/s]"
     ]
    }
   ],
   "source": [
    "for i in tqdm(range(len(ls))):\n",
    "    filename = os.path.join('iium-confessions-predict', f'{i}.json')\n",
    "    if os.path.exists(filename):\n",
    "        continue\n",
    "        \n",
    "    results = {'original': ls[i]}\n",
    "        \n",
    "    for lang, prefix in pairs.items():\n",
    "    \n",
    "        if ls[i][lang] and len(ls[i][lang]) > 5:\n",
    "            s = ls[i][lang]\n",
    "            input_ids = tokenizer.encode(f'terjemah ke {prefix}: {s}', return_tensors = 'pt')\n",
    "            outputs = model.generate(input_ids.cuda(), max_length = 512, do_sample=True,\n",
    "                top_k=50,\n",
    "                top_p=0.95,\n",
    "                num_return_sequences=5, temperature = 0.7, output_scores = True, return_dict_in_generate = True)\n",
    "            logits = torch.stack(outputs.scores, dim=1)\n",
    "            score = logits.max(dim = -1).values.mean(dim = -1).detach().cpu().numpy().tolist()\n",
    "            seqs = []\n",
    "            for o in outputs.sequences:\n",
    "                o = tokenizer.decode([i for i in o if i not in all_special_ids], \n",
    "                                     spaces_between_special_tokens = False)\n",
    "                seqs.append(o)\n",
    "            \n",
    "            results[lang] = {\n",
    "                'score': score,\n",
    "                'sequences': seqs\n",
    "            }\n",
    "        \n",
    "    with open(filename, 'w') as fopen:\n",
    "        json.dump(results, fopen)"
   ]
  },
  {
   "cell_type": "code",
   "execution_count": 3,
   "id": "c09ec2aa",
   "metadata": {},
   "outputs": [],
   "source": [
    "from glob import glob\n",
    "import json"
   ]
  },
  {
   "cell_type": "code",
   "execution_count": 4,
   "id": "5f1c7012",
   "metadata": {},
   "outputs": [
    {
     "data": {
      "text/plain": [
       "150849"
      ]
     },
     "execution_count": 4,
     "metadata": {},
     "output_type": "execute_result"
    }
   ],
   "source": [
    "files = glob('iium-confessions-predict/*.json')\n",
    "len(files)"
   ]
  },
  {
   "cell_type": "code",
   "execution_count": 6,
   "id": "a51cc37d",
   "metadata": {},
   "outputs": [
    {
     "name": "stderr",
     "output_type": "stream",
     "text": [
      "100%|████████████████████████████████████████████████████████████████████████████████████████| 150849/150849 [00:08<00:00, 17970.56it/s]\n"
     ]
    }
   ],
   "source": [
    "predicted = []\n",
    "for f in tqdm(files):\n",
    "    try:\n",
    "        with open(f) as fopen:\n",
    "            l = json.load(fopen)\n",
    "        predicted.append(l)\n",
    "    except:\n",
    "        pass"
   ]
  },
  {
   "cell_type": "code",
   "execution_count": 7,
   "id": "b4f9cc2b",
   "metadata": {},
   "outputs": [
    {
     "data": {
      "text/plain": [
       "{'original': {'left': 'Second, baca Al-quran, mathurat and such things. Kalau tiba tiba terasa nafsu tu naik, cepat cepat ambik wudhu and grab Al-quran. Baca terjemahan dia sekali.',\n",
       "  'en': 'Second, read the Quran, mathurat and other similar things. If suddenly you feel your desires rising, quickly perform ablution and grab the Quran. Read its translation once.',\n",
       "  'ms': 'Kedua, bacalah Al-Quran, mathurat dan perkara-perkara yang serupa. Jika tiba-tiba anda merasa nafsu anda meningkat, segera lakukan wuduk dan ambil Al-Quran. Baca terjemahannya sekali.',\n",
       "  'cleaned': 'Second, baca Al-quran, mathurat and such things. Kalau tiba tiba terasa nafsu tu naik, cepat cepat ambik wudhu and grab Al-quran. Baca terjemahan dia sekali.'},\n",
       " 'en': {'score': [24.915721893310547,\n",
       "   27.981647491455078,\n",
       "   27.686424255371094,\n",
       "   27.345184326171875,\n",
       "   26.930335998535156],\n",
       "  'sequences': ['second lah baca quran mathurat bc bc bc bc bc bc bc bc bc bc bc bc',\n",
       "   'kedua baca quran mathurat dan lain lain kalau tiba tiba rasa nafsu naik cepat wuduk dan rampas quran baca sekali',\n",
       "   'kedua baca quran maqimurat mcm lain kalau tiba tiba rasa nafsu naik cepat wuduk lg msk quran baca translate sekali',\n",
       "   'second baca quran mathurat dan lain lain kalo tiba tiba mu riak nafsu kau sakan cepat wuduk mu smpai quran tu baca sekali',\n",
       "   'kedua baca quran mathurat dan lain lain tau kalo tiba tiba rasa keinginan naik cepat wudhu dpt quran baca terjemah sekali']},\n",
       " 'ms': {'score': [30.954580307006836,\n",
       "   32.54220199584961,\n",
       "   32.97703552246094,\n",
       "   32.10887145996094,\n",
       "   33.370567321777344],\n",
       "  'sequences': ['Kedua, bacalah Al-Quran, mathurat dan perkara yang serupa. Jika tiba2 rasa nafsu meningkat, cepat2 wuduk dan ambil Al-Quran. Baca translate sekali.',\n",
       "   'Kedua, bacalah Al-Quran, mathurat dan benda-benda yang serupa. Kalau tiba-tiba rasa nafsu tu naik, segera wuduk dan ambil Al-Quran. Baca terjemahan sekali.',\n",
       "   '2. Baca lah Al-Quran, mathurat dan perkara2 yang serupa. Bila tiba2 rasa nafsu tu makin meningkat, terus wuduk dan ambik Al-Quran. Baca sintaks sekali.',\n",
       "   'Kedua, baca Al-Quran, mathurat dan benda-benda yang serupa. Kalau tiba-tiba rasa nafsu makin meningkat, sambung wuduk ambil Al-Quran. Baca translate sekali.',\n",
       "   'Second, baca la Al Quran, mathurat dan benda2 yang sama. Kalau tiba2 rasa nafsu kau bertambah, terus wuduk dan ambik Al-Quran. Baca translate sekali.']}}"
      ]
     },
     "execution_count": 7,
     "metadata": {},
     "output_type": "execute_result"
    }
   ],
   "source": [
    "predicted[0]"
   ]
  },
  {
   "cell_type": "code",
   "execution_count": 8,
   "id": "63f1e0e8",
   "metadata": {},
   "outputs": [
    {
     "name": "stderr",
     "output_type": "stream",
     "text": [
      "100%|████████████████████████████████████████████████████████████████████████████████████████| 150846/150846 [00:01<00:00, 77151.93it/s]\n"
     ]
    }
   ],
   "source": [
    "with open('noisy-augmentation-iium-confession.jsonl', 'w') as fopen:\n",
    "    for p in tqdm(predicted):\n",
    "        fopen.write(f'{json.dumps(p)}\\n')"
   ]
  },
  {
   "cell_type": "code",
   "execution_count": 9,
   "id": "a226cb27",
   "metadata": {},
   "outputs": [
    {
     "name": "stderr",
     "output_type": "stream",
     "text": [
      "/home/husein/.local/lib/python3.8/site-packages/requests/__init__.py:102: RequestsDependencyWarning: urllib3 (1.26.15) or chardet (5.2.0)/charset_normalizer (2.0.7) doesn't match a supported version!\n",
      "  warnings.warn(\"urllib3 ({}) or chardet ({})/charset_normalizer ({}) doesn't match a supported \"\n"
     ]
    },
    {
     "data": {
      "application/vnd.jupyter.widget-view+json": {
       "model_id": "56119a0f883c4ffcadbfd8f66cc0d11b",
       "version_major": 2,
       "version_minor": 0
      },
      "text/plain": [
       "noisy-augmentation-iium-confession.jsonl:   0%|          | 0.00/579M [00:00<?, ?B/s]"
      ]
     },
     "metadata": {},
     "output_type": "display_data"
    },
    {
     "data": {
      "text/plain": [
       "CommitInfo(commit_url='https://huggingface.co/datasets/mesolitica/noisy-augmentation/commit/4d4fefc23e479f466673f47726eb3d1565f5888f', commit_message='Upload noisy-augmentation-iium-confession.jsonl with huggingface_hub', commit_description='', oid='4d4fefc23e479f466673f47726eb3d1565f5888f', pr_url=None, pr_revision=None, pr_num=None)"
      ]
     },
     "execution_count": 9,
     "metadata": {},
     "output_type": "execute_result"
    }
   ],
   "source": [
    "from huggingface_hub import HfApi\n",
    "api = HfApi()\n",
    "api.upload_file(\n",
    "    path_or_fileobj='noisy-augmentation-iium-confession.jsonl',\n",
    "    path_in_repo='noisy-augmentation-iium-confession.jsonl',\n",
    "    repo_id='mesolitica/noisy-augmentation',\n",
    "    repo_type='dataset',\n",
    ")"
   ]
  },
  {
   "cell_type": "code",
   "execution_count": 10,
   "id": "ded0d0ee",
   "metadata": {},
   "outputs": [],
   "source": [
    "ranged = range(len(ls))"
   ]
  },
  {
   "cell_type": "code",
   "execution_count": 11,
   "id": "80c223e5",
   "metadata": {},
   "outputs": [
    {
     "data": {
      "text/plain": [
       "0.18"
      ]
     },
     "execution_count": 11,
     "metadata": {},
     "output_type": "execute_result"
    }
   ],
   "source": [
    "def overlap(string1, string2):\n",
    "    l = set([w for w in clean(string1).split() if len(w) > 2])\n",
    "    r = set([w for w in clean(string2).split() if len(w) > 2])\n",
    "    return len(l & r) / len(l)\n",
    "\n",
    "overlap(ls[0]['left'], ls[1]['left'])"
   ]
  },
  {
   "cell_type": "code",
   "execution_count": 12,
   "id": "6ff8eaa7",
   "metadata": {},
   "outputs": [
    {
     "data": {
      "text/plain": [
       "['Saya dapati masyarakat Melayu di Malaysia pada hari ini, sukar ataupun tidak mahu menerima hakikat tentang asal-usul warna kulit mereka sendiri.',\n",
       " 'Jadi aku kunyah slow2 sambil rasa2 sikit apabenda makanan yang aku kunyah tu. Wehh tiba2 benda tu aku rasa macam lain macam wehh. Rasa dia pelik sangat2 and sumpah aku tak pernah rasa makanan sepelik tu. Aku pun dah tak hirau dah kawan2 aku tengah makan dengan selera ke apa time tu. Aku terus keluarkan balik semua isi dalam mulut aku tu. Tak cukup dengan tu, aku ambik air pastu kumur2 aku ludah je dalam tray tu (budak asrama memang makan nasi dalam tray). Masa tu kawan2 aku semua tak tahu cerita, and diorang marah gila kat aku sebab aku buat macam tu. Yelah, siapa tak marah kan, kau tengah syok makan tapi ada orang buat aksi jijik depan kau. Aku pun cakap kat diorang, aku rasa aku terkunyah benda pelik. Sekali bila aku kuis2 balik makanan yang aku kelurkan tadi, memang aku terkejut tengok sebab rupa dia macam tebuan. Bila aku belek2 lagi, ye memang sah tebuan sebab nampak dia punya belang2 oren tu. Terus aku menangis gila2 weh! Kawan2 aku yang geli pun keluarkan balik nasi dalam mulut diorang.',\n",
       " 'Seolah-olah saya tidak berseorangan dalam perubahan diri ini. Sebab saya ada awak. Awak motivate saya untuk berubah. Tapi awak, kenapa awak lain sekarang? Mana pergi awak yang dulu? Kenapa awak lebih banyak kisah benda-benda lagho? Kenapa pakaian awak tak macam dulu? Kenapa tudung awak tak labuh macam dulu?',\n",
       " 'Dia selalu manjakan mak ayah dia. Boleh pimpin tangan mak dia pergi pasar. Tak pernah lupa bagi duit untuk mak ayah dia.',\n",
       " 'Semua bermula waktu sekolah menengah dulu. Ada sorang perempuan yang comel, pengawas pusat sumber. Muka cerah, pakai spek, skema dan pendiam juga.']"
      ]
     },
     "execution_count": 12,
     "metadata": {},
     "output_type": "execute_result"
    }
   ],
   "source": [
    "import random\n",
    "\n",
    "sampled = random.sample(ranged, 100)\n",
    "negs = []\n",
    "for s in sampled:\n",
    "    overlapped = overlap(ls[0]['ms'], ls[s]['ms'])\n",
    "    if overlapped < 0.05:\n",
    "        negs.append(ls[s]['left'])\n",
    "    if len(negs) >= 5:\n",
    "        break\n",
    "        \n",
    "negs"
   ]
  },
  {
   "cell_type": "code",
   "execution_count": 14,
   "id": "7ce4f1c7",
   "metadata": {},
   "outputs": [
    {
     "data": {
      "text/plain": [
       "'Assalamualaikum dan salam sejahtera. Hai geng. J kembali. Semua sihat? Keluarga sihat? Saya berdoa agar semua sihat-sihat belaka. Terima kasih atas sokongan anda. Saya hanya ingin berkongsi kisah saya dan kisah rakan-rakan saya. Kami telah bekerja di ladang ini untuk waktu yang lama dan telah diabaikan oleh masyarakat. Sedih juga. Kami tinggal di hutan sawit ini dan tidak mengganggu sesiapa pun. Tetapi pandangan masyarakat, hurmmm... Entahlah.'"
      ]
     },
     "execution_count": 14,
     "metadata": {},
     "output_type": "execute_result"
    }
   ],
   "source": [
    "ls[0]['ms']"
   ]
  },
  {
   "cell_type": "code",
   "execution_count": 15,
   "id": "28943c0f",
   "metadata": {},
   "outputs": [],
   "source": [
    "!rm -rf mining-iium-confession\n",
    "!mkdir mining-iium-confession"
   ]
  },
  {
   "cell_type": "code",
   "execution_count": 20,
   "id": "4b0b232f",
   "metadata": {},
   "outputs": [],
   "source": [
    "import os\n",
    "\n",
    "def loop(rows):\n",
    "    rows, index = rows\n",
    "    for i in tqdm(range(len(rows))):\n",
    "        filename = os.path.join('mining-iium-confession', f'{i}-{index}.json')\n",
    "        if os.path.exists(filename):\n",
    "            continue\n",
    "        \n",
    "        sampled = random.sample(ranged, 100)\n",
    "        negs = []\n",
    "        for s in sampled:\n",
    "            try:\n",
    "                overlapped = overlap(rows[i]['original']['ms'], ls[s]['ms'])\n",
    "            except:\n",
    "                continue\n",
    "            if overlapped < 0.05:\n",
    "                negs.append(ls[s]['left'])\n",
    "            if len(negs) >= 5:\n",
    "                break\n",
    "                \n",
    "        en = rows[i]['original']['en']\n",
    "        ms = rows[i]['original']['ms']\n",
    "        \n",
    "        en_augmentation = []\n",
    "        try:\n",
    "            for no, score in enumerate(rows[i]['en']['score']):\n",
    "                if score > 30:\n",
    "                    en_augmentation.append(rows[i]['en']['sequences'][no])\n",
    "            en_augmentation = list(set(en_augmentation))\n",
    "        except:\n",
    "            pass\n",
    "        \n",
    "        ms_augmentation = []\n",
    "        try:\n",
    "            for no, score in enumerate(rows[i]['ms']['score']):\n",
    "                if score > 30:\n",
    "                    ms_augmentation.append(rows[i]['ms']['sequences'][no])\n",
    "            ms_augmentation = list(set(ms_augmentation))\n",
    "        except:\n",
    "            pass\n",
    "        \n",
    "        try:\n",
    "            d = {\n",
    "                'negs': negs,\n",
    "                'pos': list(set([en, ms] + en_augmentation + ms_augmentation)),\n",
    "                'query': rows[i]['original']['left'],\n",
    "            }\n",
    "\n",
    "            with open(filename, 'w') as fopen:\n",
    "                json.dump(d, fopen)\n",
    "        except:\n",
    "            pass"
   ]
  },
  {
   "cell_type": "code",
   "execution_count": 21,
   "id": "54f9ea3b",
   "metadata": {},
   "outputs": [
    {
     "name": "stderr",
     "output_type": "stream",
     "text": [
      "100%|███████████████████████████████████████████████████████████████████████████████████████████| 1000/1000 [00:00<00:00, 531260.80it/s]\n"
     ]
    }
   ],
   "source": [
    "loop((predicted[:1000],0))"
   ]
  },
  {
   "cell_type": "code",
   "execution_count": 18,
   "id": "b3e2ae96",
   "metadata": {},
   "outputs": [],
   "source": [
    "import mp"
   ]
  },
  {
   "cell_type": "code",
   "execution_count": 22,
   "id": "af0aa422",
   "metadata": {},
   "outputs": [
    {
     "name": "stderr",
     "output_type": "stream",
     "text": [
      "100%|███████████████████████████████████████████████████████████████████████████████████████████| 15084/15084 [00:06<00:00, 2465.51it/s]\n",
      "100%|███████████████████████████████████████████████████████████████████████████████████████████| 15084/15084 [00:02<00:00, 5914.77it/s]\n",
      "100%|██████████████████████████████████████████████████████████████████████████████████████████████████| 6/6 [00:00<00:00, 65879.12it/s]\n",
      "100%|███████████████████████████████████████████████████████████████████████████████████████████| 15084/15084 [00:09<00:00, 1513.10it/s]\n",
      "100%|███████████████████████████████████████████████████████████████████████████████████████████| 15084/15084 [00:07<00:00, 2139.75it/s]\n",
      "100%|███████████████████████████████████████████████████████████████████████████████████████████| 15084/15084 [00:10<00:00, 1471.85it/s]\n",
      "100%|███████████████████████████████████████████████████████████████████████████████████████████| 15084/15084 [00:08<00:00, 1868.40it/s]\n",
      "100%|███████████████████████████████████████████████████████████████████████████████████████████| 15084/15084 [00:07<00:00, 1920.49it/s]\n",
      "100%|███████████████████████████████████████████████████████████████████████████████████████████| 15084/15084 [00:13<00:00, 1126.97it/s]\n",
      "100%|███████████████████████████████████████████████████████████████████████████████████████████| 15084/15084 [00:14<00:00, 1047.79it/s]\n",
      "100%|████████████████████████████████████████████████████████████████████████████████████████████| 15084/15084 [00:15<00:00, 972.85it/s]\n"
     ]
    }
   ],
   "source": [
    "mp.multiprocessing(predicted, loop, cores = 10, returned = False)"
   ]
  },
  {
   "cell_type": "code",
   "execution_count": 23,
   "id": "622fbda8",
   "metadata": {},
   "outputs": [
    {
     "data": {
      "text/plain": [
       "150827"
      ]
     },
     "execution_count": 23,
     "metadata": {},
     "output_type": "execute_result"
    }
   ],
   "source": [
    "files = glob('mining-iium-confession/*.json')\n",
    "len(files)"
   ]
  },
  {
   "cell_type": "code",
   "execution_count": 24,
   "id": "e16982da",
   "metadata": {},
   "outputs": [
    {
     "name": "stderr",
     "output_type": "stream",
     "text": [
      "100%|████████████████████████████████████████████████████████████████████████████████████████| 150827/150827 [00:03<00:00, 48484.74it/s]\n"
     ]
    }
   ],
   "source": [
    "with open('mining-iium-confession.jsonl', 'w') as fopen_l:\n",
    "    for f in tqdm(files):\n",
    "        try:\n",
    "            with open(f) as fopen:\n",
    "                data = json.load(fopen)\n",
    "            fopen_l.write(f'{json.dumps(data)}\\n')\n",
    "            fopen_l.flush()\n",
    "        except:\n",
    "            pass"
   ]
  },
  {
   "cell_type": "code",
   "execution_count": 25,
   "id": "9e3faaf9",
   "metadata": {},
   "outputs": [
    {
     "data": {
      "application/vnd.jupyter.widget-view+json": {
       "model_id": "7d5693c9d927478d9e07e9963c7007c7",
       "version_major": 2,
       "version_minor": 0
      },
      "text/plain": [
       "mining-iium-confession.jsonl:   0%|          | 0.00/541M [00:00<?, ?B/s]"
      ]
     },
     "metadata": {},
     "output_type": "display_data"
    },
    {
     "data": {
      "text/plain": [
       "CommitInfo(commit_url='https://huggingface.co/datasets/mesolitica/title-context-pair/commit/0db19fe37f6f479adcb5b7902cfc590ba6af6922', commit_message='Upload mining-iium-confession.jsonl with huggingface_hub', commit_description='', oid='0db19fe37f6f479adcb5b7902cfc590ba6af6922', pr_url=None, pr_revision=None, pr_num=None)"
      ]
     },
     "execution_count": 25,
     "metadata": {},
     "output_type": "execute_result"
    }
   ],
   "source": [
    "from huggingface_hub import HfApi\n",
    "api = HfApi()\n",
    "api.upload_file(\n",
    "    path_or_fileobj='mining-iium-confession.jsonl',\n",
    "    path_in_repo='mining-iium-confession.jsonl',\n",
    "    repo_id='mesolitica/title-context-pair',\n",
    "    repo_type='dataset',\n",
    ")"
   ]
  },
  {
   "cell_type": "code",
   "execution_count": null,
   "id": "c996cf19",
   "metadata": {},
   "outputs": [],
   "source": []
  }
 ],
 "metadata": {
  "kernelspec": {
   "display_name": "Python 3 (ipykernel)",
   "language": "python",
   "name": "python3"
  },
  "language_info": {
   "codemirror_mode": {
    "name": "ipython",
    "version": 3
   },
   "file_extension": ".py",
   "mimetype": "text/x-python",
   "name": "python",
   "nbconvert_exporter": "python",
   "pygments_lexer": "ipython3",
   "version": "3.8.10"
  }
 },
 "nbformat": 4,
 "nbformat_minor": 5
}
