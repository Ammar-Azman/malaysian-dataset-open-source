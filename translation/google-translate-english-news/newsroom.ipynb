{
 "cells": [
  {
   "cell_type": "code",
   "execution_count": 1,
   "metadata": {},
   "outputs": [],
   "source": [
    "# !wget http://groups.di.unipi.it/~gulli/newsspace200.xml.bz\n",
    "# !bzip2 -d newsspace200.xml.bz"
   ]
  },
  {
   "cell_type": "code",
   "execution_count": 2,
   "metadata": {},
   "outputs": [],
   "source": [
    "# !wget http://lil.nlp.cornell.edu/resources/newsroom/r8625bda324/newsroom-release.tar\n",
    "# !gzip -d release/train.jsonl.gz\n",
    "# !gzip -d release/test.jsonl.gz\n",
    "# !gzip -d release/dev.jsonl.gz"
   ]
  },
  {
   "cell_type": "code",
   "execution_count": 3,
   "metadata": {},
   "outputs": [
    {
     "data": {
      "text/plain": [
       "['release/train.jsonl', 'release/dev.jsonl', 'release/test.jsonl']"
      ]
     },
     "execution_count": 3,
     "metadata": {},
     "output_type": "execute_result"
    }
   ],
   "source": [
    "from glob import glob\n",
    "\n",
    "files = glob('release/*.jsonl')\n",
    "files"
   ]
  },
  {
   "cell_type": "code",
   "execution_count": 4,
   "metadata": {},
   "outputs": [
    {
     "data": {
      "text/plain": [
       "108838"
      ]
     },
     "execution_count": 4,
     "metadata": {},
     "output_type": "execute_result"
    }
   ],
   "source": [
    "with open('release/dev.jsonl') as fopen:\n",
    "    data = fopen.read().split('\\n')\n",
    "    \n",
    "len(data)"
   ]
  },
  {
   "cell_type": "code",
   "execution_count": 5,
   "metadata": {
    "scrolled": true
   },
   "outputs": [
    {
     "data": {
      "text/plain": [
       "{'url': 'http://www.nydailynews.com/archives/news/1995/10/17/1995-10-17_new_yorkers__only_regret_was.html',\n",
       " 'archive': 'http://web.archive.org/web/20110210093603id_/http://www.nydailynews.com:80/archives/news/1995/10/17/1995-10-17_new_yorkers__only_regret_was.html',\n",
       " 'title': \"NEW YORKERS' ONLY REGRET WAS STAYING HOME\",\n",
       " 'date': '20110210093603',\n",
       " 'text': 'This story was reported by: NICK CHARLES, AUSTIN EVANS FENNER AND SAMSON MULUGETA It was written by: KAREN HUNTER\\n\\nTuesday, October 17th 1995, 4:20AM\\n\\nAs many black men marched on Washington yesterday, some New Yorkers spoke of their pride in the event and their disappointment in not being there, too.\\n\\n\"I felt like the only black person working,\" said Roderick Vinson, 38, of Harlem. \"That feeling made me sick to my stomach. I couldn\\'t believe I missed one of the important events of my life.\"\\n\\nWinston Ford, 50, had to work, too. He makes his living selling incense and body oils in Brooklyn.\\n\\n\"I didn\\'t have the finances to make the trip,\" he said. \"But my heart and soul is with them in Washington.\"\\n\\nFor HIV-positive Sheldon Julius of Harlem, the Million Man March was a wakeup call. Long an absentee father, he called his 15-year-old son Sunday night and for the first time ever told him that he loved him. \"The calling of the march made me realize my responsibility,\" he said.\\n\\nBut some other black New Yorkers said they had no use for march organizer Louis Farrakhan and made no apologies for missing the rally.\\n\\n\"Farrakhan\\'s wrong,\" said Allen Washington, 61, a retired Triborough Bridge and Tunnel Authority worker. \"Whites and blacks need each other. If we worked together, we\\'d be a great nation.\"\\n\\n\"Louis Farrakhan shouldn\\'t be at the march because of the remarks he has made about Jews and whites,\" agreed Brooklyn construction worker Cyril Peter, 35. \"As long as he\\'s there, there will be a negative effect.\"\\n\\nCharles Williams, 45, an East Elmhurst, Queens, graphics worker, decided that the event was hollow. \"There is no agenda,\" he said. \"It isn\\'t about jobs or housing, it\\'s just about a paper platform.\"\\n\\nStill, drug counselor Jeanette Morgan was bursting with hope and pride as she sipped coffee in a Queens diner and thought about her brothers, sons and grandsons marching in Washington.\\n\\n\"I am so emotional about this day, I can barely talk about it,\" Morgan said. \"When the men return, I hope they go to their brothers at a street corner and offer to help.\"\\n\\nOn one Harlem corner yesterday, college student Mike Carr stood shaking his head as he watched a man idly nurse a 40-ounce beer in a bag.\\n\\n\"It\\'s a shame,\" said Carr. \"These are the brothers who could have used the march the most.\"',\n",
       " 'summary': 'As many black men marched on Washington yesterday, some New Yorkers spoke of their pride in the event and their disappointment in not being there, too. \"I felt like the only black person working,\"said Roderick Vinson, 38, of Harlem. \"That feeling made me sick to my stomach. I couldn\\'t believe I missed one of the important events of my life.\"Winston Ford, 50, had to work, too. He makes his living selling',\n",
       " 'compression': 6.1529411765,\n",
       " 'coverage': 0.9764705882,\n",
       " 'density': 24.6,\n",
       " 'compression_bin': 'low',\n",
       " 'coverage_bin': 'high',\n",
       " 'density_bin': 'extractive'}"
      ]
     },
     "execution_count": 5,
     "metadata": {},
     "output_type": "execute_result"
    }
   ],
   "source": [
    "import json\n",
    "\n",
    "d = json.loads(data[2])\n",
    "d"
   ]
  },
  {
   "cell_type": "code",
   "execution_count": 6,
   "metadata": {},
   "outputs": [],
   "source": [
    "# !python3 -m spacy download en_core_web_sm\n",
    "# import spacy\n",
    "# nlp = spacy.load('en_core_web_sm')"
   ]
  },
  {
   "cell_type": "code",
   "execution_count": 16,
   "metadata": {},
   "outputs": [],
   "source": [
    "import re\n",
    "from unidecode import unidecode\n",
    "\n",
    "alphabets = '([A-Za-z])'\n",
    "prefixes = (\n",
    "    '(Mr|St|Mrs|Ms|Dr|Prof|Capt|Cpt|Lt|Mt|Puan|puan|Tuan|tuan|sir|Sir)[.]'\n",
    ")\n",
    "suffixes = '(Inc|Ltd|Jr|Sr|Co|Mo)'\n",
    "starters = '(Mr|Mrs|Ms|Dr|He\\s|She\\s|It\\s|They\\s|Their\\s|Our\\s|We\\s|But\\s|However\\s|That\\s|This\\s|Wherever|Dia|Mereka|Tetapi|Kita|Itu|Ini|Dan|Kami|Beliau|Seri|Datuk|Dato|Datin|Tuan|Puan)'\n",
    "acronyms = '([A-Z][.][A-Z][.](?:[A-Z][.])?)'\n",
    "websites = '[.](com|net|org|io|gov|me|edu|my)'\n",
    "another_websites = '(www|http|https)[.]'\n",
    "digits = '([0-9])'\n",
    "before_digits = '([Nn]o|[Nn]ombor|[Nn]umber)'\n",
    "month = '([Jj]an(?:uari)?|[Ff]eb(?:ruari)?|[Mm]a(?:c)?|[Aa]pr(?:il)?|Mei|[Jj]u(?:n)?|[Jj]ula(?:i)?|[Aa]ug(?:ust)?|[Ss]ept?(?:ember)?|[Oo]kt(?:ober)?|[Nn]ov(?:ember)?|[Dd]is(?:ember)?)'\n",
    "\n",
    "\n",
    "def split_into_sentences(text, minimum_length = 10):\n",
    "    text = text.replace('\\x97', '\\n')\n",
    "    text = '. '.join([s for s in text.split('\\n') if len(s)])\n",
    "    text = text + '.'\n",
    "    text = unidecode(text)\n",
    "    text = ' ' + text + '  '\n",
    "    text = text.replace('\\n', ' ')\n",
    "    text = re.sub(prefixes, '\\\\1<prd>', text)\n",
    "    text = re.sub(websites, '<prd>\\\\1', text)\n",
    "    text = re.sub(another_websites, '\\\\1<prd>', text)\n",
    "    text = re.sub('[,][.]+', '<prd>', text)\n",
    "    if '...' in text:\n",
    "        text = text.replace('...', '<prd><prd><prd>')\n",
    "    if 'Ph.D' in text:\n",
    "        text = text.replace('Ph.D.', 'Ph<prd>D<prd>')\n",
    "    text = re.sub('[.]\\s*[,]', '<prd>,', text)\n",
    "    text = re.sub(before_digits + '[.]\\s*' + digits, '\\\\1<prd>\\\\2', text)\n",
    "    text = re.sub(month + '[.]\\s*' + digits, '\\\\1<prd>\\\\2', text)\n",
    "    text = re.sub('\\s' + alphabets + '[.][ ]+', ' \\\\1<prd> ', text)\n",
    "    text = re.sub(acronyms + ' ' + starters, '\\\\1<stop> \\\\2', text)\n",
    "    text = re.sub(\n",
    "        alphabets + '[.]' + alphabets + '[.]' + alphabets + '[.]',\n",
    "        '\\\\1<prd>\\\\2<prd>\\\\3<prd>',\n",
    "        text,\n",
    "    )\n",
    "    text = re.sub(\n",
    "        alphabets + '[.]' + alphabets + '[.]', '\\\\1<prd>\\\\2<prd>', text\n",
    "    )\n",
    "    text = re.sub(' ' + suffixes + '[.][ ]+' + starters, ' \\\\1<stop> \\\\2', text)\n",
    "    text = re.sub(' ' + suffixes + '[.]', ' \\\\1<prd>', text)\n",
    "    text = re.sub(' ' + alphabets + '[.]', ' \\\\1<prd>', text)\n",
    "    text = re.sub(digits + '[.]' + digits, '\\\\1<prd>\\\\2', text)\n",
    "    if '”' in text:\n",
    "        text = text.replace('.”', '”.')\n",
    "    if '\"' in text:\n",
    "        text = text.replace('.\"', '\".')\n",
    "    if '!' in text:\n",
    "        text = text.replace('!\"', '\"!')\n",
    "    if '?' in text:\n",
    "        text = text.replace('?\"', '\"?')\n",
    "    text = text.replace('.', '.<stop>')\n",
    "    text = text.replace('?', '?<stop>')\n",
    "    text = text.replace('!', '!<stop>')\n",
    "    text = text.replace('<prd>', '.')\n",
    "    sentences = text.split('<stop>')\n",
    "    sentences = sentences[:-1]\n",
    "    sentences = [s.strip() for s in sentences if len(s) > minimum_length]\n",
    "    return sentences"
   ]
  },
  {
   "cell_type": "code",
   "execution_count": 8,
   "metadata": {},
   "outputs": [],
   "source": [
    "def split(story, highlights, cap = 1000):\n",
    "    a, s_ = [], ''\n",
    "    for s in story:\n",
    "        if len(s_ + ' ' + s) >= cap:\n",
    "            a.append(s_.strip())\n",
    "            s_ = ''\n",
    "        else:\n",
    "            s_ = s_ + ' ' + s\n",
    "    if len(s_):\n",
    "        a.append(s_.strip())\n",
    "    a.append('[SUMMARY]: ' + highlights)\n",
    "    return a"
   ]
  },
  {
   "cell_type": "code",
   "execution_count": 9,
   "metadata": {},
   "outputs": [
    {
     "name": "stdout",
     "output_type": "stream",
     "text": [
      "CPU times: user 4.69 ms, sys: 586 µs, total: 5.28 ms\n",
      "Wall time: 5.23 ms\n"
     ]
    }
   ],
   "source": [
    "%%time\n",
    "d = json.loads(data[7])\n",
    "r = split(split_into_sentences(d['text']), d['summary'])"
   ]
  },
  {
   "cell_type": "code",
   "execution_count": 10,
   "metadata": {},
   "outputs": [
    {
     "data": {
      "text/plain": [
       "([\" Reporter: Brice stimon is now serving a seven-year sentence after he terrorized soraida, posting fake profiles of her on escort websites and worse, posting a sex tape of the two of them. To this day. Reporter: Brice stimon is now serving a seven-year sentence after he terrorized soraida, posting fake profiles of her on escort websites and worse, posting a sex tape of the two of them. To this day, she says she has no idea how he recorded them. She never saw a camera or a phone to capture them. I have no idea he had ever taken this. And he forwarded this to over 3,000 people. Reporter: And this was video of the two of you -- of me and him having sex, yes. Reporter: And that video spread faster than she could have imagined. Multiple porn sites. But what was worse was the family and the friends who authorities say were sent links to it by the manss soraida met on that plane. Could you believe this was happening to you? No, I didn't believe.\",\n",
       "  ' Reporter: But it was. But it was. Reporter: And there was that one last surprise for soraida. Apparently he was married. Reporter: You have met the wife? Reporter: Nor had we, until just this week when \"20/20\" sat down with bruce stimon\\'s wife of 22 years, mrs. Kathleen simon. He had been weaving a web of lies and deceit with me for many, many months. That\\'s what hurt the most. Reporter: She and her husband have a 13-year-old son. She\\'s a school librarian, now a single mom raising that son all alone, back in their small new hampshire town. Authorities have been watching her husband across two states and she is talking about the case now because she says no one has paid any attention to the terror he inflicted on his own family. I think throughout this whole thing, it really has never been apparent that bruce had a family. There was never any indication that he was a married man with a child. We\\'re victims, too.',\n",
       "  \" Nor did she know what was about to unfold on that fateful night that authorities were waiting for him. Bruce didn't come home. He said he was going on an appointment in massachusetts and that he might stop at his mother's house. Reporter: He left that night in his cared all would drive more than eight hours, all the way from new hampshire to soraida's apartment outside washington. As the case unfolded, his long-time wife was horrified. The things he did to her took hours and hours of plotting and planning and very devious, very ugly and when you involve somebody's child, I mean -- it's the lowest thing you can do. It's just despikable. Reporter: After learning of her husband's arrest and betrayal, kathleen demanded a divorce. And that's when he began using some of the same tricks to orize her, too. He shut off the utilities going into our house. He took over facebook, ebay, paypal. I thought I was safe because he was in prison.\",\n",
       "  \" Reporter: And she would soon be left with yet another unwanted surprise. 50,000 in bills for all of those trips and all of those gifts left at soraida's front door. The flowers, the chocolates, the lingerie. And when she realized that, even her friends were asking this. When was the last time you spend $50,000 on you? I just can't imagine. I don't know what would be going through his mind to spend that kind of money. She was a virtual stranger. Reporter: A stranger who fell for him on that flight. I think he appeared to have money, pretended to have money and she went for it and she found crazy. Reporter: She found crazy. And it's still haunting her tonight. Are you still afraid? I think that I'm afraid that he's going to pay someone to kill me. Reporter: Tonight, that sex tape can still be found online. Authorities say once a video like that is posted in multiple places, it can be nearly impossible to take down.\",\n",
       "  \" He was using the technology to destroy a person's life. Reporter: He was destroying your life? He did. Reporter: And soraida's daughter pam knows that awful tape of her mother is still out there. The video was my mom, so, everyone was convinced that it was my mom. Reporter: What he has done to your life? He -- he destroyed part of me. I will never see men the same. Reporter: A daughter, now watching her mother trying to rebuild their lives. When you see her fighting this, what do you think? You just can't give up. My mom didn't give up and I'm so proud of her and I love her so much. Reporter: And when her mother who had been listening to the interview heard that -- that nightmare, finally over. I love you, mom. Reporter: All of it, after that very first flight when it seemed love was in the air. Will you ever look at people on the plane the same way again? I will never give them my number again, that's for sure. I learned my lesson. Reporter: It all began with that number.\",\n",
       "  '[SUMMARY]: Part 2: Hicks says she never knew her boyfriend turned harasser was also married.'],\n",
       " 178)"
      ]
     },
     "execution_count": 10,
     "metadata": {},
     "output_type": "execute_result"
    }
   ],
   "source": [
    "r, len(r[0].split())"
   ]
  },
  {
   "cell_type": "code",
   "execution_count": 11,
   "metadata": {},
   "outputs": [
    {
     "name": "stderr",
     "output_type": "stream",
     "text": [
      "100%|██████████| 995042/995042 [39:11<00:00, 423.10it/s]  \n",
      "100%|██████████| 108838/108838 [04:09<00:00, 436.57it/s]\n",
      "100%|██████████| 108863/108863 [04:16<00:00, 423.62it/s]\n"
     ]
    }
   ],
   "source": [
    "from tqdm import tqdm\n",
    "\n",
    "x = []\n",
    "\n",
    "for file in files:\n",
    "    with open(file) as fopen:\n",
    "        data = fopen.read().split('\\n')\n",
    "        \n",
    "    for i in tqdm(range(len(data))):\n",
    "        try:\n",
    "            d = json.loads(data[i])\n",
    "            r = split(split_into_sentences(d['text']), d['summary'])\n",
    "            x.append(r)\n",
    "        except:\n",
    "            pass"
   ]
  },
  {
   "cell_type": "code",
   "execution_count": 12,
   "metadata": {},
   "outputs": [],
   "source": [
    "with open('newsroom.json', 'w') as fopen:\n",
    "    json.dump(x, fopen)"
   ]
  },
  {
   "cell_type": "code",
   "execution_count": 14,
   "metadata": {},
   "outputs": [
    {
     "data": {
      "text/plain": [
       "[\" Digital money pioneer PayPal is on the prowl. Since eBay Inc. bought the Internet payment upstart for $1.5 billion in 2002, PayPal has grown at a heady clip, reeling in 71.6 million account holders who pumped $6.2 billion through its money-transfer system during the first quarter this year. The company claims twice as many accounts as Bank of America and recently surpassed Discover, too. Yet PayPal's identity remains virtually inseparable from eBay, the auction market where it greases the wheels of commerce between strangers by letting them zap money to any e-mail address. Three-quarters of the goods and services swapped on eBay's U.S. site are paid for with PayPal, and auctions account for a large share of PayPal's $233 million in quarterly revenue. EBay hopes that will change this year as PayPal rolls out a major marketing campaign to tout new payment services to larger merchants selling from sites independent of eBay.\",\n",
       " ' \"We feel confident that PayPal can become the online wallet for an entire global generation of Internet shoppers,\\'\\' eBay chief executive Meg Whitman said in a recent conference call with analysts. Yet some analysts remain skeptical that PayPal can become more than a niche player, servicing mostly auctions and tiny Internet merchants. They say PayPal\\'s early advantages could dwindle as it moves into mainstream commerce, where buyers and sellers are accustomed to dealing directly with banks and credit card giants Visa and MasterCard. A key test will come in June when PayPal introduces a suite of new services for merchants, including software to help them reduce the risk of online payment fraud, to integrate PayPal more tightly with their own Web sites, to customize check-out and offer other customer services. PayPal already handles payments for a few large merchants, including the Napster and iTunes music stores, auction rival Overstock.com and electronics retailer TigerDirect.',\n",
       " ' Yet the jury is still out on whether PayPal can create a truly global currency, one as linked in people\\'s minds with Internet payments as, say, American Express is with travel. \"It\\'s not easy to create a new global payment brand,\" said Jim Bruene, editor of the Online Banking Report newsletter. \"If it was, PayPal would have already done it\". PayPal\\'s system piggybacks on existing credit card and bank accounts, which customers can link to their PayPal accounts when they register. To send money, a buyer logs into PayPal and enters the recipient\\'s e-mail address and amount they want to send. PayPal deposits the funds into the recipient\\'s PayPal account and takes it from any source the senders choose -- their PayPal account balance, credit or debit account, or bank account. Last year, PayPal also added a line-of-credit option provided by GE Consumer Finance. While most recipients pay fees, all PayPal transfers are free to buyers. PayPal spawned many rivals after it launched in 1999.',\n",
       " ' Just this week, Yahoo finished shuttering the last of its PayDirect money-transfer accounts, which it jointly offered with HSBC before deciding to close last November.',\n",
       " '[SUMMARY]: Digital money pioneer PayPal is on the prowl. Since eBay Inc. bought the Internet payment upstart for $1.5 billion in 2002, PayPal has grown at a heady clip, reeling in 71.6 million account holders who pumped $6.2 billion through its money-transfer system during the first quarter this year. The...']"
      ]
     },
     "execution_count": 14,
     "metadata": {},
     "output_type": "execute_result"
    }
   ],
   "source": [
    "x[-1]"
   ]
  },
  {
   "cell_type": "code",
   "execution_count": 23,
   "metadata": {},
   "outputs": [],
   "source": [
    "texts, index = [], 0\n",
    "while len(texts) < 1500000:\n",
    "    texts.extend(x[index][:-1])\n",
    "    index += 1"
   ]
  },
  {
   "cell_type": "code",
   "execution_count": 24,
   "metadata": {},
   "outputs": [],
   "source": [
    "batch_size = 100000\n",
    "\n",
    "for i in range(0, len(texts), batch_size):\n",
    "    b = texts[i: i + batch_size]\n",
    "    with open(f'dataset-{i}.json', 'w') as fopen:\n",
    "        json.dump(b, fopen)"
   ]
  }
 ],
 "metadata": {
  "kernelspec": {
   "display_name": "Python 3",
   "language": "python",
   "name": "python3"
  },
  "language_info": {
   "codemirror_mode": {
    "name": "ipython",
    "version": 3
   },
   "file_extension": ".py",
   "mimetype": "text/x-python",
   "name": "python",
   "nbconvert_exporter": "python",
   "pygments_lexer": "ipython3",
   "version": "3.6.8"
  }
 },
 "nbformat": 4,
 "nbformat_minor": 2
}
