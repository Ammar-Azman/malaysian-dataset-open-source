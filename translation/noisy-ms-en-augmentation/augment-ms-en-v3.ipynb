{
 "cells": [
  {
   "cell_type": "code",
   "execution_count": 1,
   "id": "83b8fdcb",
   "metadata": {},
   "outputs": [],
   "source": [
    "# !wget https://f000.backblazeb2.com/file/malay-dataset/train-ms-en.tar.gz\n",
    "# !tar -zxf train-ms-en.tar.gz\n",
    "# !rm train-ms-en.tar.gz"
   ]
  },
  {
   "cell_type": "code",
   "execution_count": 2,
   "id": "4229a494",
   "metadata": {},
   "outputs": [],
   "source": [
    "# !pip3 install pyenchant"
   ]
  },
  {
   "cell_type": "code",
   "execution_count": 3,
   "id": "56b79e1f",
   "metadata": {},
   "outputs": [],
   "source": [
    "import enchant\n",
    "d = enchant.Dict(\"en_US\")"
   ]
  },
  {
   "cell_type": "code",
   "execution_count": 4,
   "id": "6c6f423b",
   "metadata": {},
   "outputs": [
    {
     "data": {
      "text/plain": [
       "True"
      ]
     },
     "execution_count": 4,
     "metadata": {},
     "output_type": "execute_result"
    }
   ],
   "source": [
    "d.check(\"Hello\")"
   ]
  },
  {
   "cell_type": "code",
   "execution_count": 5,
   "id": "115c2ac1",
   "metadata": {},
   "outputs": [],
   "source": [
    "# !wget https://raw.githubusercontent.com/huseinzol05/malay-dataset/master/normalization/en-lexicon/en-social-media-lexicon.json"
   ]
  },
  {
   "cell_type": "code",
   "execution_count": 6,
   "id": "51eb22f4",
   "metadata": {},
   "outputs": [],
   "source": [
    "import os\n",
    "\n",
    "os.environ['CUDA_VISIBLE_DEVICES'] = ''"
   ]
  },
  {
   "cell_type": "code",
   "execution_count": 7,
   "id": "fe86564f",
   "metadata": {},
   "outputs": [
    {
     "name": "stdout",
     "output_type": "stream",
     "text": [
      "total 890M\r\n",
      "drwxr-xr-x  2 ubuntu ubuntu 4.0K Jun  26  2020 .\r\n",
      "drwxr-xr-x 30 ubuntu ubuntu 4.0K Jul   4 21:57 ..\r\n",
      "-rw-r--r--  1 ubuntu ubuntu 471M Jun  27  2020 left.txt\r\n",
      "-rw-r--r--  1 ubuntu ubuntu 420M Jun  27  2020 right.txt\r\n"
     ]
    }
   ],
   "source": [
    "!ls -lha train"
   ]
  },
  {
   "cell_type": "code",
   "execution_count": 8,
   "id": "d0741e9c",
   "metadata": {},
   "outputs": [],
   "source": [
    "with open('train/left.txt') as fopen:\n",
    "    left = fopen.read().split('\\n')\n",
    "    \n",
    "with open('train/right.txt') as fopen:\n",
    "    right = fopen.read().split('\\n')"
   ]
  },
  {
   "cell_type": "code",
   "execution_count": 9,
   "id": "042d9bf2",
   "metadata": {},
   "outputs": [
    {
     "data": {
      "text/plain": [
       "('He said it was ridiculous for Apandi to state that investigations conducted by law enforcement agencies here had revealed that there was no evidence to show 1MDB money had been misappropriated.',\n",
       " 'He said it was ridiculous for Apandi to state that investigations conducted by law enforcement agencies here had revealed that there was no evidence to show 1MDB money had been misappropriated.')"
      ]
     },
     "execution_count": 9,
     "metadata": {},
     "output_type": "execute_result"
    }
   ],
   "source": [
    "left[7106], right[7106]"
   ]
  },
  {
   "cell_type": "code",
   "execution_count": 10,
   "id": "762dce3c",
   "metadata": {},
   "outputs": [
    {
     "data": {
      "text/plain": [
       "(3712555, 3712555)"
      ]
     },
     "execution_count": 10,
     "metadata": {},
     "output_type": "execute_result"
    }
   ],
   "source": [
    "len(left), len(right)"
   ]
  },
  {
   "cell_type": "code",
   "execution_count": 11,
   "id": "9272db3f",
   "metadata": {},
   "outputs": [
    {
     "name": "stderr",
     "output_type": "stream",
     "text": [
      "/home/ubuntu/.local/lib/python3.8/site-packages/tensorflow_addons/utils/ensure_tf_install.py:53: UserWarning: Tensorflow Addons supports using Python ops for all Tensorflow versions above or equal to 2.3.0 and strictly below 2.5.0 (nightly versions are not supported). \n",
      " The versions of TensorFlow you are currently using is 2.6.0 and is not supported. \n",
      "Some things might work, some things might not.\n",
      "If you were to encounter a bug, do not file an issue.\n",
      "If you want to make sure you're using a tested and supported configuration, either change the TensorFlow version or the TensorFlow Addons's version. \n",
      "You can find the compatibility matrix in TensorFlow Addon's readme:\n",
      "https://github.com/tensorflow/addons\n",
      "  warnings.warn(\n",
      "/home/ubuntu/.local/lib/python3.8/site-packages/tensorflow_addons/utils/resource_loader.py:72: UserWarning: You are currently using TensorFlow 2.6.0 and trying to load a custom op (custom_ops/seq2seq/_beam_search_ops.so).\n",
      "TensorFlow Addons has compiled its custom ops against TensorFlow 2.4.0, and there are no compatibility guarantees between the two versions. \n",
      "This means that you might get segfaults when loading the custom op, or other kind of low-level errors.\n",
      " If you do, do not file an issue on Github. This is a known limitation.\n",
      "\n",
      "It might help you to fallback to pure Python ops with TF_ADDONS_PY_OPS . To do that, see https://github.com/tensorflow/addons#gpucpu-custom-ops \n",
      "\n",
      "You can also change the TensorFlow version installed on your system. You would need a TensorFlow version equal to or above 2.4.0 and strictly below 2.5.0.\n",
      " Note that nightly versions of TensorFlow, as well as non-pip TensorFlow like `conda install tensorflow` or compiled from source are not supported.\n",
      "\n",
      "The last solution is to find the TensorFlow Addons version that has custom ops compatible with the TensorFlow installed on your system. To do that, refer to the readme: https://github.com/tensorflow/addons\n",
      "  warnings.warn(\n",
      "/home/ubuntu/.local/lib/python3.8/site-packages/malaya_boilerplate/frozen_graph.py:35: UserWarning: Cannot import beam_search_ops from Tensorflow Addons, ['malaya.jawi_rumi.deep_model', 'malaya.phoneme.deep_model', 'malaya.rumi_jawi.deep_model', 'malaya.stem.deep_model'] will not available to use, make sure Tensorflow Addons version >= 0.12.0\n",
      "  warnings.warn(\n"
     ]
    }
   ],
   "source": [
    "import malaya"
   ]
  },
  {
   "cell_type": "code",
   "execution_count": 12,
   "id": "1aa318d2",
   "metadata": {},
   "outputs": [],
   "source": [
    "from malaya.text.rules import rules_normalizer, rules_compound_normalizer\n",
    "from malaya.text.normalization import _is_number_regex\n",
    "from collections import defaultdict\n",
    "import re\n",
    "import random\n",
    "import json"
   ]
  },
  {
   "cell_type": "code",
   "execution_count": 13,
   "id": "3ff9548f",
   "metadata": {},
   "outputs": [],
   "source": [
    "with open('en-social-media-lexicon.json') as fopen:\n",
    "    en_lexicon = json.load(fopen)"
   ]
  },
  {
   "cell_type": "code",
   "execution_count": 14,
   "id": "c907e8cc",
   "metadata": {},
   "outputs": [],
   "source": [
    "rev_rules_compound_normalizer = defaultdict(list)\n",
    "for k, v in rules_compound_normalizer.items():\n",
    "    rev_rules_compound_normalizer[v].append(k)"
   ]
  },
  {
   "cell_type": "code",
   "execution_count": 15,
   "id": "5696ddb3",
   "metadata": {},
   "outputs": [],
   "source": [
    "rev_rules_normalizer = defaultdict(list)\n",
    "for k, v in rules_normalizer.items():\n",
    "    rev_rules_normalizer[v].append(k)"
   ]
  },
  {
   "cell_type": "code",
   "execution_count": 16,
   "id": "8fa63d10",
   "metadata": {},
   "outputs": [],
   "source": [
    "rules_compound_normalizer_regex = (\n",
    "    '(?:' + '|'.join(list(rev_rules_compound_normalizer.keys())) + ')'\n",
    ")"
   ]
  },
  {
   "cell_type": "code",
   "execution_count": 17,
   "id": "504d5d44",
   "metadata": {},
   "outputs": [],
   "source": [
    "def _replace_compound(string):\n",
    "    results = re.findall(\n",
    "        rules_compound_normalizer_regex, string, flags=re.IGNORECASE\n",
    "    )\n",
    "    for r in results:\n",
    "        string = string.replace(r, random.choice(rev_rules_compound_normalizer[r.lower()]))\n",
    "    return string"
   ]
  },
  {
   "cell_type": "code",
   "execution_count": 18,
   "id": "1e9d5b40",
   "metadata": {},
   "outputs": [
    {
     "data": {
      "text/plain": [
       "'of cos tidak'"
      ]
     },
     "execution_count": 18,
     "metadata": {},
     "output_type": "execute_result"
    }
   ],
   "source": [
    "_replace_compound('sudah tentu tidak')"
   ]
  },
  {
   "cell_type": "code",
   "execution_count": 19,
   "id": "de2c63c8",
   "metadata": {},
   "outputs": [
    {
     "data": {
      "text/plain": [
       "('', ',', 'counters')"
      ]
     },
     "execution_count": 19,
     "metadata": {},
     "output_type": "execute_result"
    }
   ],
   "source": [
    "PUNCTUATION = '!\"#$%&\\'()*+,./:;<=>?@[\\]^_`{|}~'\n",
    "\n",
    "def case_of(text):\n",
    "    return (\n",
    "        str.upper\n",
    "        if text.isupper()\n",
    "        else str.lower\n",
    "        if text.islower()\n",
    "        else str.title\n",
    "        if text.istitle()\n",
    "        else str\n",
    "    )\n",
    "\n",
    "def strip_punct(word):\n",
    "    left = []\n",
    "    right = []\n",
    "    i = 0\n",
    "    while i < len(word):\n",
    "        if word[i] in PUNCTUATION:\n",
    "            left.append(word[i])\n",
    "            i += 1\n",
    "        else:\n",
    "            break\n",
    "    i = len(word) - 1\n",
    "    while i > 0:\n",
    "        if word[i] in PUNCTUATION:\n",
    "            right.append(word[i])\n",
    "            i -= 1\n",
    "        else:\n",
    "            break\n",
    "    left = ''.join(left)\n",
    "    right = ''.join(right[::-1])\n",
    "    if len(right):\n",
    "        word_ = word[:-len(right)]\n",
    "    else:\n",
    "        word_ = word\n",
    "    word_ = word_[len(left):]\n",
    "    return left, right, word_\n",
    "\n",
    "\n",
    "def replace_shortword(word, rules = rev_rules_normalizer):\n",
    "    left, right, word_ = strip_punct(word)\n",
    "    word_ = word_[len(left):]\n",
    "    lower_word_ = word_.lower()\n",
    "    if lower_word_ in rules:\n",
    "        word_ = case_of(word_)(random.choice(rules[lower_word_]))\n",
    "        word_ = f'{left}{word_}{right}'\n",
    "        return word_\n",
    "    else:\n",
    "        return word\n",
    "    \n",
    "strip_punct('counters,')"
   ]
  },
  {
   "cell_type": "code",
   "execution_count": 20,
   "id": "1553ebb4",
   "metadata": {},
   "outputs": [
    {
     "data": {
      "text/plain": [
       "['ana', 'bagaatt', 'cuaaantikk\"']"
      ]
     },
     "execution_count": 20,
     "metadata": {},
     "output_type": "execute_result"
    }
   ],
   "source": [
    "string = 'saya sangat cantik\"'\n",
    "[replace_shortword(word) for word in string.split()]"
   ]
  },
  {
   "cell_type": "code",
   "execution_count": 21,
   "id": "7e390d3a",
   "metadata": {},
   "outputs": [
    {
     "data": {
      "text/plain": [
       "['\"Pembangkang',\n",
       " 'hnya',\n",
       " 'brani',\n",
       " 'cakap',\n",
       " 'big,',\n",
       " 'seolah-olah',\n",
       " 'indah',\n",
       " 'rupa',\n",
       " 'drpada',\n",
       " 'brita,\"',\n",
       " 'ktny.']"
      ]
     },
     "execution_count": 21,
     "metadata": {},
     "output_type": "execute_result"
    }
   ],
   "source": [
    "[replace_shortword(word) for word in left[1].split()]"
   ]
  },
  {
   "cell_type": "code",
   "execution_count": 22,
   "id": "4c6cfd63",
   "metadata": {},
   "outputs": [
    {
     "data": {
      "text/plain": [
       "['do', 'uuu', 'likee', 'chicken']"
      ]
     },
     "execution_count": 22,
     "metadata": {},
     "output_type": "execute_result"
    }
   ],
   "source": [
    "[replace_shortword(word, rules = en_lexicon) for word in 'do you like chicken'.split()]"
   ]
  },
  {
   "cell_type": "code",
   "execution_count": 23,
   "id": "bbb25de0",
   "metadata": {},
   "outputs": [],
   "source": [
    "def replace_words_punct(left_word, right_word):\n",
    "    left_left, left_right, left_word = strip_punct(left_word)\n",
    "    right_left, right_right, right_word = strip_punct(right_word)\n",
    "    return f'{left_left}{right_word}{left_right}'\n",
    "\n",
    "def random_replace_alignment(left, right, alignment, min_replace = 2, max_replace = 7):\n",
    "    splitted_left = left.split()\n",
    "    splitted_right = right.split()\n",
    "    \n",
    "    selected_alignment = []\n",
    "    for s in alignment:\n",
    "        l = s[0]\n",
    "        r = s[1]\n",
    "        if _is_number_regex(splitted_left[l].replace(',', '').replace('.', '')) or _is_number_regex(splitted_right[r].replace(',', '').replace('.', '')):\n",
    "            continue\n",
    "        elif splitted_left[l].isupper() or splitted_right[r].isupper():\n",
    "            continue\n",
    "        elif splitted_left[l] == splitted_right[r]:\n",
    "            continue\n",
    "        elif splitted_right[r].lower() in ['the', 'a', 'an', 'it', 'is', 'are']:\n",
    "            continue\n",
    "        else:\n",
    "            selected_alignment.append((l, r))\n",
    "    \n",
    "    count_replace = random.randint(min_replace, min(max_replace, len(selected_alignment)))\n",
    "    \n",
    "    selected = random.sample(selected_alignment, count_replace)\n",
    "    for s in selected:\n",
    "        splitted_left[s[0]] = replace_words_punct(splitted_left[s[0]], splitted_right[s[1]])\n",
    "    \n",
    "    return ' '.join(splitted_left)"
   ]
  },
  {
   "cell_type": "code",
   "execution_count": 24,
   "id": "af94bb51",
   "metadata": {},
   "outputs": [],
   "source": [
    "# random replace alignment\n",
    "# random replace compound\n",
    "# random replace word"
   ]
  },
  {
   "cell_type": "code",
   "execution_count": 25,
   "id": "c8806c09",
   "metadata": {
    "scrolled": true
   },
   "outputs": [
    {
     "data": {
      "text/plain": [
       "0.36992398912618685"
      ]
     },
     "execution_count": 25,
     "metadata": {},
     "output_type": "execute_result"
    }
   ],
   "source": [
    "random.random()"
   ]
  },
  {
   "cell_type": "code",
   "execution_count": 26,
   "id": "376f52ab",
   "metadata": {},
   "outputs": [
    {
     "data": {
      "text/plain": [
       "['saye', 'sayak']"
      ]
     },
     "execution_count": 26,
     "metadata": {},
     "output_type": "execute_result"
    }
   ],
   "source": [
    "malaya.augmentation.socialmedia_form('Saya')"
   ]
  },
  {
   "cell_type": "code",
   "execution_count": 27,
   "id": "8bd1b357",
   "metadata": {},
   "outputs": [
    {
     "data": {
      "text/plain": [
       "'sya'"
      ]
     },
     "execution_count": 27,
     "metadata": {},
     "output_type": "execute_result"
    }
   ],
   "source": [
    "malaya.augmentation.vowel_alternate('saya')"
   ]
  },
  {
   "cell_type": "code",
   "execution_count": 28,
   "id": "66a630f8",
   "metadata": {
    "scrolled": true
   },
   "outputs": [
    {
     "data": {
      "text/plain": [
       "True"
      ]
     },
     "execution_count": 28,
     "metadata": {},
     "output_type": "execute_result"
    }
   ],
   "source": [
    "d.check(\"Hello\")"
   ]
  },
  {
   "cell_type": "code",
   "execution_count": 46,
   "id": "a737928b",
   "metadata": {},
   "outputs": [],
   "source": [
    "consonants = 'bcdfghjklmnpqrstvwxyz'\n",
    "\n",
    "def augment(left, p_replace_shortword = 0.7, p_socialmedia = 0.85, p_vowel_alternate = 0.5, p_replace_en_shortword = 0.3):\n",
    "    \n",
    "    left = _replace_compound(left)\n",
    "    left = [replace_shortword(word, rules = en_lexicon) if random.random() > p_replace_en_shortword else word for word in left.split()]\n",
    "    left = [(replace_shortword(word), False) if random.random() > p_replace_shortword else (word, True) for word in left]\n",
    "    left_ = []\n",
    "    for l in left:\n",
    "        if _is_number_regex(l[0].replace(',', '').replace('.', '')):\n",
    "            left_.append(l[0])\n",
    "            continue\n",
    "        if l[0].isupper():\n",
    "            left_.append(l[0])\n",
    "            continue\n",
    "        if l[0].istitle():\n",
    "            left_.append(l[0])\n",
    "            continue\n",
    "        if d.check(l[0]):\n",
    "            left_.append(l[0])\n",
    "            continue\n",
    "        \n",
    "        if l[1]:\n",
    "            if random.random() > p_socialmedia:\n",
    "                r = malaya.augmentation.socialmedia_form(l[0])\n",
    "                if len(r):\n",
    "                    s = random.choice(r)\n",
    "                else:\n",
    "                    s = l[0]\n",
    "            else:\n",
    "                s = l[0]\n",
    "            if random.random() > p_vowel_alternate:\n",
    "                s = malaya.augmentation.vowel_alternate(s)\n",
    "                if random.random() and s[-1] == 'a' and s[-2] in consonants:\n",
    "                    s = s[:-1] + 'e'\n",
    "        else:\n",
    "            s = l[0]\n",
    "        left_.append(case_of(l[0])(s))\n",
    "    return ' '.join(left_)"
   ]
  },
  {
   "cell_type": "code",
   "execution_count": 47,
   "id": "9d7739c2",
   "metadata": {},
   "outputs": [
    {
     "data": {
      "text/plain": [
       "'Terminal 1 KKIA dilengkapi kemudahan 64 kaunter daftar masuk, 12 aero brdg slain mampu menampung 3,200 penumpang deep stu time.'"
      ]
     },
     "execution_count": 47,
     "metadata": {},
     "output_type": "execute_result"
    }
   ],
   "source": [
    "augment(left[0])"
   ]
  },
  {
   "cell_type": "code",
   "execution_count": 31,
   "id": "238197f4",
   "metadata": {},
   "outputs": [
    {
     "name": "stderr",
     "output_type": "stream",
     "text": [
      "Warning : `load_model` does not return WordVectorModel or SupervisedModel any more, but a `FastText` object which is very similar.\n"
     ]
    }
   ],
   "source": [
    "fast_text = malaya.language_detection.fasttext()"
   ]
  },
  {
   "cell_type": "code",
   "execution_count": 32,
   "id": "4fbe3c28",
   "metadata": {
    "scrolled": true
   },
   "outputs": [
    {
     "data": {
      "text/plain": [
       "['eng', 'eng', 'malay']"
      ]
     },
     "execution_count": 32,
     "metadata": {},
     "output_type": "execute_result"
    }
   ],
   "source": [
    "fast_text.predict([left[7106], right[7106], 'saya suka'])"
   ]
  },
  {
   "cell_type": "code",
   "execution_count": 33,
   "id": "54556d5f",
   "metadata": {},
   "outputs": [
    {
     "data": {
      "text/plain": [
       "'Terminal 1 KKIA dlengkapi kemudahan 64 kaunter daftar masuk, 12 aero brdg selain mampu menmpng 3,200 pnumpng dlam stu mase'"
      ]
     },
     "execution_count": 33,
     "metadata": {},
     "output_type": "execute_result"
    }
   ],
   "source": [
    "augment(left[0])"
   ]
  },
  {
   "cell_type": "code",
   "execution_count": 34,
   "id": "1f0cfd6a",
   "metadata": {},
   "outputs": [],
   "source": [
    "from tqdm import tqdm\n",
    "\n",
    "def loop(rows):\n",
    "    rows, _ = rows\n",
    "    new_left, new_right = [], []\n",
    "    for i in tqdm(range(len(rows))):\n",
    "        left, right = rows[i][0], rows[i][1]\n",
    "        if len(left.split()) > 100 or len(right.split()) > 100:\n",
    "            continue\n",
    "        langs = fast_text.predict([left, right])\n",
    "        if langs[0] == 'eng':\n",
    "            continue\n",
    "        if langs[1] == 'malay':\n",
    "            continue\n",
    "        try:\n",
    "            new_left_ = augment(left)\n",
    "            if new_left_ != left:\n",
    "                new_left.append(new_left_)\n",
    "                new_right.append(right)\n",
    "        except Exception as e:\n",
    "            pass\n",
    "    return [[new_left, new_right]]"
   ]
  },
  {
   "cell_type": "code",
   "execution_count": 48,
   "id": "60ea1dfb",
   "metadata": {},
   "outputs": [
    {
     "name": "stderr",
     "output_type": "stream",
     "text": [
      "100%|███████████████████████████████████████████████████████████████████████████████████████████████████████████████| 20/20 [00:00<00:00, 3089.61it/s]\n"
     ]
    },
    {
     "data": {
      "text/plain": [
       "[[['Terminal 1 KKIA dlngkapi kmudhn 64 kaunter daftar in, 12 aero bridge selain mmpu menampung 3,200 passengers dlm satk mase',\n",
       "   '\"Pembangkang hny brani cakap besar, seolah-olah indah rupe daripade brita,\" katanya.',\n",
       "   'Salah atu fakta yang paling kot adalh org Arab brniagk tuk hamba abdi di Afrika, meningkatkan pnyebarn dan dominasi budaya Arab.',\n",
       "   'Macam mn dengan JoonPyo?',\n",
       "   'Bogazkoy, Amasya Bogazkoy, Amasya merupakan sbuah kawasan yang trltk d Turki.',\n",
       "   'Beliau dianggp sebagai ahli falsafa yang paling agung pernah dilahirkan dlam sejarah Islam.',\n",
       "   'Dan bacakanlah whai Muhammad) d dlam Kitab (Al-Quran) inik perihal Nabi Ibrahim; sesungguhnyak adalh ia seorang yng amat bner, lagi menjdi Nabi.',\n",
       "   'Tersedia scare nasional mellui dua layanan stlt di negara itu Star Choice, pde saluran 276 dn Bell TV pda slurn 828.',\n",
       "   'Pelapis baru pn dh so lma juga termasuk Kaj Teh.',\n",
       "   'Pda masa nie, jmaah menteri Dr Mahathir hnya mempunyai 13 anggte sedangkan ada beberapa portfolio penting termasuk Menteri Luar yanckh masi kosong selain tiade timbalan menteri dinamakn.',\n",
       "   'Misalnya, karne faktor e-banking n pstnye perkembangan sistm pembayrn 30 persen ps pkrjaan pde stp bank diprediksi akan hilang dlm beberapa taun mendatng',\n",
       "   'Yang menjadi isu pkk pda hri inik bukan sebab orang tk sedar tentanh perubahn iklm (kecuali puak-puak climate change denier), tapi lbi kepd soal pembahagian tanggungjawab.',\n",
       "   '\"Jadi jke diorang hndak memboikot, ia bukan pmboikotan secare menyeluruh krena EU menyedari hakikat bhawk tahap kbrgntungan hampa trhadp minyak sawit kita adlh tnggi',\n",
       "   'Hirminiya Hirminiya merupakan sbuah jawatankuasa pembangnn kg yang terltak di Nepal.',\n",
       "   'Malah Mohamad Sazali ughaa berharap lbh bnyk company korporat deep bdng komunikasik dan perkhdmtan awam lain tampil membantu glngn yng mempunyai msle pendengrn',\n",
       "   'Bagaimana pn, Sai tlh membelot dan menyelamatkan Naruto.',\n",
       "   'Melalui kjian penerbitan n perundingan, Prof. Ghauth telah dinaikkan kpade Profesor Madya pada 1989 dan Profesor pade 1992.',\n",
       "   'Buku panduan prang PLA mmperngatkan para tentara bahwe pencakar langit n formasi btuan akan memiliki tali baje yg dgantung dik antara mereka tuk menjrt elikpter',\n",
       "   'Aurora berpunca dri elektrn yang mempunyai tenge 1-15 keV, iaitu tenaga yang dprlhi elektron yang melalui bze upaya 1,000-15,000 volt.',\n",
       "   'Nova Ves (Daerah Prague-Timur) Nova Ves mrupkan sbuah kmpng dan kawsan prbandaran yng trletak di wlayh Prague-Timur, wilayah Bohemia Tengaj, Republik Czech.'],\n",
       "  ['Terminal 1 KKIA is equipped with 64 check-in counters, 12 aero bridges and can accommodate 3,200 passengers at a time.',\n",
       "   '\"The opposition just dares to say, it looks good on the news,\" he said.',\n",
       "   'One of the most likely facts is that Arabs trade for slaves in Africa, increasing the spread and dominance of Arab culture.',\n",
       "   'What about JoonPyo?',\n",
       "   'Bogazkoy, Amasya Bogazkoy, Amasya is a region located in Turkey.',\n",
       "   'He is considered the greatest philosopher ever born in Islamic history.',\n",
       "   'And mention in the Scripture Abraham. He was a man of truth, a prophet.',\n",
       "   'Available nationally via two satellite services in the country Star Choice, on channel 276 and Bell TV on channel 828.',\n",
       "   'The new coatings are also old fashioned including Brother Teh.',\n",
       "   'To date, the ministerial cabinet Dr Mahathir has only 13 members while some important portfolios including the Foreign Minister are still vacant and no deputy ministers have been named.',\n",
       "   'For example, due to the e-banking factor and the rapid growth of the payment system, 30 per cent of jobs in each bank are expected to disappear in the coming years.',\n",
       "   'The main issue today is not because people are unaware of climate change (except for climate change deniers), but rather about the issue of responsibility.',\n",
       "   '\"So if they want to boycott, it\\'s not a total boycott because the EU recognizes the fact that their level of dependence on our palm oil is high.',\n",
       "   'Hirminiya Hirminiya is a village development committee located in Nepal.',\n",
       "   'Mohamad Sazali also hopes that more corporate companies in the field of communications and other public services will come forward to help people with hearing problems.',\n",
       "   'However, Sai has betrayed and saved Naruto.',\n",
       "   'Through research, publications and consultations, Prof. Ghauth was promoted to Associate Professor in 1989 and Professor in 1992.',\n",
       "   'The PLA war guide warned the soldiers that skyscrapers and rock formations would have steel ropes hanging between them to trap helicopters.',\n",
       "   'Aurora is made up of electrons with 1-15 keV of energy, which is the energy obtained by electrons with a difference of 1,000-15,000 volts.',\n",
       "   'Nova Ves (Prague-Eastern District) Nova Ves is a village and municipality located in the Prague-Eastern region of Central Bohemia, Czech Republic.']]]"
      ]
     },
     "execution_count": 48,
     "metadata": {},
     "output_type": "execute_result"
    }
   ],
   "source": [
    "loop((list(zip(left[:20], right[:20])),0))"
   ]
  },
  {
   "cell_type": "code",
   "execution_count": 36,
   "id": "5bbc0ded",
   "metadata": {},
   "outputs": [],
   "source": [
    "# !wget https://gist.githubusercontent.com/huseinzol05/98974ae8c6c7a65d4bc0af9f5003786a/raw/5aa5257608b61e8fcc828e99fbd070d5ca7358e3/mp.py"
   ]
  },
  {
   "cell_type": "code",
   "execution_count": 37,
   "id": "e76ab739",
   "metadata": {},
   "outputs": [],
   "source": [
    "import mp"
   ]
  },
  {
   "cell_type": "code",
   "execution_count": 49,
   "id": "96c1ebec",
   "metadata": {
    "scrolled": false
   },
   "outputs": [
    {
     "name": "stderr",
     "output_type": "stream",
     "text": [
      "100%|███████████████████████████████████████████████████████████████████████████████████████████████████████| 125025/125025 [00:42<00:00, 2919.35it/s]\n",
      "100%|███████████████████████████████████████████████████████████████████████████████████████████████████████| 125025/125025 [00:42<00:00, 2908.75it/s]\n",
      "100%|███████████████████████████████████████████████████████████████████████████████████████████████████████| 125025/125025 [00:42<00:00, 2907.57it/s]\n",
      "100%|███████████████████████████████████████████████████████████████████████████████████████████████████████| 125025/125025 [00:43<00:00, 2905.66it/s]\n"
     ]
    }
   ],
   "source": [
    "r = mp.multiprocessing(list(zip(left[1300000:1800100], right[1300000:1800100])), loop, cores = 4)"
   ]
  },
  {
   "cell_type": "code",
   "execution_count": 50,
   "id": "b81c279a",
   "metadata": {},
   "outputs": [
    {
     "name": "stdout",
     "output_type": "stream",
     "text": [
      "0 104981\n",
      "1 104919\n",
      "2 104857\n",
      "3 104993\n"
     ]
    }
   ],
   "source": [
    "en, ms = [], []\n",
    "for i in range(len(r)):\n",
    "    print(i, len(r[i][0]))\n",
    "    ms.extend(r[i][0])\n",
    "    en.extend(r[i][1])"
   ]
  },
  {
   "cell_type": "code",
   "execution_count": 51,
   "id": "7ba25ecd",
   "metadata": {
    "scrolled": false
   },
   "outputs": [
    {
     "data": {
      "text/plain": [
       "(419750, 419750)"
      ]
     },
     "execution_count": 51,
     "metadata": {},
     "output_type": "execute_result"
    }
   ],
   "source": [
    "len(ms), len(en)"
   ]
  },
  {
   "cell_type": "code",
   "execution_count": 52,
   "id": "cb3ddc75",
   "metadata": {},
   "outputs": [
    {
     "data": {
      "text/plain": [
       "['Beliau berkata, kbanyakn ngare mju sperti di Eropah, Amerika Utara dan Japan juga ngggk terlepas berdepan risiko rasuah dlam service air.',\n",
       " 'Ia mngurs beberapak pertandngn yang paling terkenal adl Piala FA.',\n",
       " 'Suwit berkata, hasil siasatan awal menunjukkan sekumpulan enam hngga tujuh penyerang menaiki dua kenderaan n memakai pakaian seragam tentera menyerbu rumh trbe 4 petang waktu temptn srte menahan ksemua penghninye',\n",
       " 'Jelas Mohamad, pandangan dn jugak dasar yg dilemparkan ithu patut dikecam.',\n",
       " '\"Maklumat skim ini bolh didapati dengan mudah melalui laman web myslm d ktny dalm kenytaan dhi Putrajaya hari ini',\n",
       " 'tanpe benar bnr mengatakannya.',\n",
       " 'Lapangan Terbang Antarabangsa Gen Heriberto Jara Lapangan Terbang Antarabangsa Gen Heriberto Jara adlh sebua lapangan terbng yang terletak di bandr Veracruz, Mexico.',\n",
       " 'Filem laknan Kendrick paling berjaya pada 2012 ialah sbuah filem mzkl komedi \"Pitch Perfect\" (2012), yanckh berdasarkan scr longgar drii bku bukan cerekak \"Pitch Perfect: Tha Quest 4 Collegiate A Cappella Glory\".',\n",
       " 'Terdapat 7 buah desa di dalam daerah kcmtan Malin Deman.',\n",
       " 'Dalam pd ithu, Mohd Shafie berkate beliau akan ensure semua agnsik trmsuk sukarelwan menyediakan keperluan ktika mnghadapi bencane alam khususnye banjr']"
      ]
     },
     "execution_count": 52,
     "metadata": {},
     "output_type": "execute_result"
    }
   ],
   "source": [
    "ms[-10:]"
   ]
  },
  {
   "cell_type": "code",
   "execution_count": 53,
   "id": "acb82c28",
   "metadata": {},
   "outputs": [
    {
     "data": {
      "text/plain": [
       "['He said most developed countries such as Europe, North America and Japan did not miss the risk of corruption in water services.',\n",
       " 'It manages several competitions, most notably the FA Cup.',\n",
       " 'Sutang said preliminary investigations showed a group of six to seven attackers boarding two vehicles and wearing military uniforms raided the house at 4pm local time and detained all of its occupants.',\n",
       " \"It is clear that Mohamad's views and policies should be criticized.\",\n",
       " '\"Information on the scheme is readily available through the website MySalam, he said in a statement in Putrajaya today.',\n",
       " 'without really saying it.',\n",
       " 'Gen Heriberto Jara International Airport Gen Heriberto Jara International Airport is an airport located in the city of Veracruz, Mexico.',\n",
       " 'Kendrick\\'s most successful movie in 2012 was the comedy musical \"Pitch Perfect\" (2012), based loosely on the non-fiction book \"Pitch Perfect: The Quest for Collegiate A Cappella Glory\".',\n",
       " 'There are 7 villages in the district of Malin Deman.',\n",
       " 'Meanwhile, Mohd Shafie said he would ensure that all agencies including volunteers provided the necessary resources in the face of natural disasters especially floods.']"
      ]
     },
     "execution_count": 53,
     "metadata": {},
     "output_type": "execute_result"
    }
   ],
   "source": [
    "en[-10:]"
   ]
  },
  {
   "cell_type": "code",
   "execution_count": 54,
   "id": "138bd69e",
   "metadata": {},
   "outputs": [],
   "source": [
    "import json\n",
    "\n",
    "with open('augmented-ms-en-v3.json', 'w') as fopen:\n",
    "    json.dump({'en': en, 'ms': ms}, fopen)"
   ]
  },
  {
   "cell_type": "code",
   "execution_count": 55,
   "id": "9125f6af",
   "metadata": {},
   "outputs": [],
   "source": [
    "with open('augmented-ms-en-v3.json') as fopen:\n",
    "    data = json.load(fopen)"
   ]
  },
  {
   "cell_type": "code",
   "execution_count": null,
   "id": "b7a827c9",
   "metadata": {},
   "outputs": [],
   "source": []
  }
 ],
 "metadata": {
  "kernelspec": {
   "display_name": "Python 3 (ipykernel)",
   "language": "python",
   "name": "python3"
  },
  "language_info": {
   "codemirror_mode": {
    "name": "ipython",
    "version": 3
   },
   "file_extension": ".py",
   "mimetype": "text/x-python",
   "name": "python",
   "nbconvert_exporter": "python",
   "pygments_lexer": "ipython3",
   "version": "3.8.10"
  }
 },
 "nbformat": 4,
 "nbformat_minor": 5
}
