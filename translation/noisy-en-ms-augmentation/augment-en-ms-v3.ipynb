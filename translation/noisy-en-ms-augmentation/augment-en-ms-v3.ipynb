{
 "cells": [
  {
   "cell_type": "code",
   "execution_count": 1,
   "id": "f1996cf8",
   "metadata": {},
   "outputs": [],
   "source": [
    "import os\n",
    "\n",
    "os.environ['CUDA_VISIBLE_DEVICES'] = ''"
   ]
  },
  {
   "cell_type": "code",
   "execution_count": 2,
   "id": "2b77d8be",
   "metadata": {},
   "outputs": [],
   "source": [
    "with open('train-en/left.txt') as fopen:\n",
    "    left = fopen.read().split('\\n')\n",
    "    \n",
    "with open('train-en/right.txt') as fopen:\n",
    "    right = fopen.read().split('\\n')"
   ]
  },
  {
   "cell_type": "code",
   "execution_count": 3,
   "id": "afded02d",
   "metadata": {},
   "outputs": [
    {
     "name": "stderr",
     "output_type": "stream",
     "text": [
      "/home/ubuntu/.local/lib/python3.8/site-packages/tensorflow_addons/utils/ensure_tf_install.py:53: UserWarning: Tensorflow Addons supports using Python ops for all Tensorflow versions above or equal to 2.3.0 and strictly below 2.5.0 (nightly versions are not supported). \n",
      " The versions of TensorFlow you are currently using is 2.6.0 and is not supported. \n",
      "Some things might work, some things might not.\n",
      "If you were to encounter a bug, do not file an issue.\n",
      "If you want to make sure you're using a tested and supported configuration, either change the TensorFlow version or the TensorFlow Addons's version. \n",
      "You can find the compatibility matrix in TensorFlow Addon's readme:\n",
      "https://github.com/tensorflow/addons\n",
      "  warnings.warn(\n",
      "/home/ubuntu/.local/lib/python3.8/site-packages/tensorflow_addons/utils/resource_loader.py:72: UserWarning: You are currently using TensorFlow 2.6.0 and trying to load a custom op (custom_ops/seq2seq/_beam_search_ops.so).\n",
      "TensorFlow Addons has compiled its custom ops against TensorFlow 2.4.0, and there are no compatibility guarantees between the two versions. \n",
      "This means that you might get segfaults when loading the custom op, or other kind of low-level errors.\n",
      " If you do, do not file an issue on Github. This is a known limitation.\n",
      "\n",
      "It might help you to fallback to pure Python ops with TF_ADDONS_PY_OPS . To do that, see https://github.com/tensorflow/addons#gpucpu-custom-ops \n",
      "\n",
      "You can also change the TensorFlow version installed on your system. You would need a TensorFlow version equal to or above 2.4.0 and strictly below 2.5.0.\n",
      " Note that nightly versions of TensorFlow, as well as non-pip TensorFlow like `conda install tensorflow` or compiled from source are not supported.\n",
      "\n",
      "The last solution is to find the TensorFlow Addons version that has custom ops compatible with the TensorFlow installed on your system. To do that, refer to the readme: https://github.com/tensorflow/addons\n",
      "  warnings.warn(\n",
      "/home/ubuntu/.local/lib/python3.8/site-packages/malaya_boilerplate/frozen_graph.py:35: UserWarning: Cannot import beam_search_ops from Tensorflow Addons, ['malaya.jawi_rumi.deep_model', 'malaya.phoneme.deep_model', 'malaya.rumi_jawi.deep_model', 'malaya.stem.deep_model'] will not available to use, make sure Tensorflow Addons version >= 0.12.0\n",
      "  warnings.warn(\n"
     ]
    }
   ],
   "source": [
    "import malaya"
   ]
  },
  {
   "cell_type": "code",
   "execution_count": 7,
   "id": "2f9a7a65",
   "metadata": {},
   "outputs": [],
   "source": [
    "from malaya.text.rules import rules_normalizer, rules_compound_normalizer\n",
    "from malaya.text.normalization import _is_number_regex\n",
    "from malaya.text.function import replace_punct\n",
    "from collections import defaultdict\n",
    "import re\n",
    "import random\n",
    "import json"
   ]
  },
  {
   "cell_type": "code",
   "execution_count": 5,
   "id": "bef53ba8",
   "metadata": {},
   "outputs": [],
   "source": [
    "PUNCTUATION = '!\"#$%&\\'()*+,./:;<=>?@[\\]^_`{|}~'\n",
    "\n",
    "def case_of(text):\n",
    "    return (\n",
    "        str.upper\n",
    "        if text.isupper()\n",
    "        else str.lower\n",
    "        if text.islower()\n",
    "        else str.title\n",
    "        if text.istitle()\n",
    "        else str\n",
    "    )\n",
    "\n",
    "def strip_punct(word):\n",
    "    left = []\n",
    "    right = []\n",
    "    i = 0\n",
    "    while i < len(word):\n",
    "        if word[i] in PUNCTUATION:\n",
    "            left.append(word[i])\n",
    "            i += 1\n",
    "        else:\n",
    "            break\n",
    "    i = len(word) - 1\n",
    "    while i > 0:\n",
    "        if word[i] in PUNCTUATION:\n",
    "            right.append(word[i])\n",
    "            i -= 1\n",
    "        else:\n",
    "            break\n",
    "    left = ''.join(left)\n",
    "    right = ''.join(right[::-1])\n",
    "    if len(right):\n",
    "        word_ = word[:-len(right)]\n",
    "    else:\n",
    "        word_ = word\n",
    "    word_ = word_[len(left):]\n",
    "    return left, right, word_"
   ]
  },
  {
   "cell_type": "code",
   "execution_count": 13,
   "id": "ba6408fc",
   "metadata": {},
   "outputs": [],
   "source": [
    "def replace_words_punct(left_word, right_word):\n",
    "    left_left, left_right, left_word = strip_punct(left_word)\n",
    "    right_left, right_right, right_word = strip_punct(right_word)\n",
    "    return f'{left_left}{right_word}{left_right}'\n",
    "\n",
    "def random_replace_alignment(left, right, alignment, min_replace = 5, max_replace = 15):\n",
    "    splitted_left = left.split()\n",
    "    splitted_right = right.split()\n",
    "    \n",
    "    selected_alignment = []\n",
    "    for s in alignment:\n",
    "        l = s[0]\n",
    "        r = s[1]\n",
    "        try:\n",
    "            if _is_number_regex(splitted_left[l].replace(',', '').replace('.', '')) or _is_number_regex(splitted_right[r].replace(',', '').replace('.', '')):\n",
    "                continue\n",
    "            elif splitted_left[l].isupper() or splitted_right[r].isupper():\n",
    "                continue\n",
    "            elif splitted_left[l] == splitted_right[r]:\n",
    "                continue\n",
    "            elif splitted_left[r].lower() in ['the', 'a', 'an', 'it', 'is', 'are']:\n",
    "                continue\n",
    "            else:\n",
    "                selected_alignment.append((l, r))\n",
    "        except:\n",
    "            pass\n",
    "    \n",
    "    try:\n",
    "        count_replace = random.randint(min_replace, min(max_replace, len(selected_alignment)))\n",
    "        selected = random.sample(selected_alignment, count_replace)\n",
    "        for s in selected:\n",
    "            splitted_left[s[0]] = replace_words_punct(splitted_left[s[0]], splitted_right[s[1]])\n",
    "\n",
    "        return ' '.join(splitted_left)\n",
    "    \n",
    "    except:\n",
    "        return ' '.join(splitted_left)"
   ]
  },
  {
   "cell_type": "code",
   "execution_count": 8,
   "id": "b3fc00d3",
   "metadata": {},
   "outputs": [],
   "source": [
    "eflomal = malaya.alignment.en_ms.eflomal(preprocessing_func=replace_punct)"
   ]
  },
  {
   "cell_type": "code",
   "execution_count": 14,
   "id": "2be89ee3",
   "metadata": {},
   "outputs": [
    {
     "name": "stdout",
     "output_type": "stream",
     "text": [
      "CPU times: user 6.78 ms, sys: 20 ms, total: 26.8 ms\n",
      "Wall time: 128 ms\n"
     ]
    }
   ],
   "source": [
    "%%time\n",
    "\n",
    "alignment = eflomal.align(left[7106:7107], right[7106:7107])['forward'][0]"
   ]
  },
  {
   "cell_type": "code",
   "execution_count": 15,
   "id": "cb320cc0",
   "metadata": {},
   "outputs": [
    {
     "data": {
      "text/plain": [
       "'The goal is bagi make sure pihak people yang menerima itu land adalah mereka ones who benar-benar deserve it.'"
      ]
     },
     "execution_count": 15,
     "metadata": {},
     "output_type": "execute_result"
    }
   ],
   "source": [
    "random_replace_alignment(left[7106], right[7106], alignment)"
   ]
  },
  {
   "cell_type": "code",
   "execution_count": 16,
   "id": "beea4e01",
   "metadata": {},
   "outputs": [
    {
     "name": "stderr",
     "output_type": "stream",
     "text": [
      "Warning : `load_model` does not return WordVectorModel or SupervisedModel any more, but a `FastText` object which is very similar.\n"
     ]
    },
    {
     "data": {
      "text/plain": [
       "['eng', 'malay', 'malay']"
      ]
     },
     "execution_count": 16,
     "metadata": {},
     "output_type": "execute_result"
    }
   ],
   "source": [
    "fast_text = malaya.language_detection.fasttext()\n",
    "fast_text.predict([left[7106], right[7106], 'saya suka'])"
   ]
  },
  {
   "cell_type": "code",
   "execution_count": 17,
   "id": "3fc5aef9",
   "metadata": {},
   "outputs": [],
   "source": [
    "import copy"
   ]
  },
  {
   "cell_type": "code",
   "execution_count": 22,
   "id": "968eb736",
   "metadata": {},
   "outputs": [],
   "source": [
    "consonants = 'bcdfghjklmnpqrstvwxyz'\n",
    "\n",
    "def augment(left, right):\n",
    "    \n",
    "    alignment = eflomal.align([left], [right])['forward'][0]\n",
    "    left = random_replace_alignment(left, right, alignment)\n",
    "    \n",
    "    return left"
   ]
  },
  {
   "cell_type": "code",
   "execution_count": 23,
   "id": "c9e63ccf",
   "metadata": {},
   "outputs": [
    {
     "data": {
      "text/plain": [
       "'Hung Ga Hung Ga, Hung Kuen, or Hung Ga Kuen is yang type of selatan Chinese bela arts associated with Chinese officer Wong Fei Hung who once menguasai and mengajar this art.'"
      ]
     },
     "execution_count": 23,
     "metadata": {},
     "output_type": "execute_result"
    }
   ],
   "source": [
    "augment(left[7105], right[7105])"
   ]
  },
  {
   "cell_type": "code",
   "execution_count": 24,
   "id": "a35855f9",
   "metadata": {},
   "outputs": [],
   "source": [
    "from tqdm import tqdm\n",
    "import traceback\n",
    "\n",
    "def loop(rows):\n",
    "    rows, _ = rows\n",
    "    new_left, new_right, original = [], [], []\n",
    "    for i in tqdm(range(len(rows))):\n",
    "        left, right = rows[i][0], rows[i][1]\n",
    "        if len(left.split()) > 100 or len(right.split()) > 100:\n",
    "            continue\n",
    "        langs = fast_text.predict([left, right])\n",
    "        if langs[0] == 'malay':\n",
    "            continue\n",
    "        if langs[1] in ['eng', 'ind']:\n",
    "            continue\n",
    "        try:\n",
    "            new_left_ = augment(left, right)\n",
    "            if new_left_ != left:\n",
    "                new_left.append(new_left_)\n",
    "                new_right.append(right)\n",
    "                original.append(left)\n",
    "        except Exception as e:\n",
    "            print(traceback.format_exc())\n",
    "    return [[new_left, new_right]]"
   ]
  },
  {
   "cell_type": "code",
   "execution_count": null,
   "id": "1bc3ffd6",
   "metadata": {},
   "outputs": [
    {
     "name": "stderr",
     "output_type": "stream",
     "text": [
      " 17%|██████████████▎                                                                      | 33542/200000 [1:55:51<6:00:17,  7.70it/s]IOPub message rate exceeded.\n",
      "The notebook server will temporarily stop sending output\n",
      "to the client in order to avoid crashing it.\n",
      "To change this limit, set the config variable\n",
      "`--NotebookApp.iopub_msg_rate_limit`.\n",
      "\n",
      "Current values:\n",
      "NotebookApp.iopub_msg_rate_limit=1000.0 (msgs/sec)\n",
      "NotebookApp.rate_limit_window=3.0 (secs)\n",
      "\n",
      " 29%|████████████████████████▎                                                            | 57352/200000 [3:25:15<6:34:37,  6.02it/s]IOPub message rate exceeded.\n",
      "The notebook server will temporarily stop sending output\n",
      "to the client in order to avoid crashing it.\n",
      "To change this limit, set the config variable\n",
      "`--NotebookApp.iopub_msg_rate_limit`.\n",
      "\n",
      "Current values:\n",
      "NotebookApp.iopub_msg_rate_limit=1000.0 (msgs/sec)\n",
      "NotebookApp.rate_limit_window=3.0 (secs)\n",
      "\n",
      " 40%|██████████████████████████████████▎                                                  | 80782/200000 [4:58:49<7:57:11,  4.16it/s]IOPub message rate exceeded.\n",
      "The notebook server will temporarily stop sending output\n",
      "to the client in order to avoid crashing it.\n",
      "To change this limit, set the config variable\n",
      "`--NotebookApp.iopub_msg_rate_limit`.\n",
      "\n",
      "Current values:\n",
      "NotebookApp.iopub_msg_rate_limit=1000.0 (msgs/sec)\n",
      "NotebookApp.rate_limit_window=3.0 (secs)\n",
      "\n",
      " 52%|███████████████████████████████████████████▊                                        | 104381/200000 [6:38:40<6:45:01,  3.93it/s]IOPub message rate exceeded.\n",
      "The notebook server will temporarily stop sending output\n",
      "to the client in order to avoid crashing it.\n",
      "To change this limit, set the config variable\n",
      "`--NotebookApp.iopub_msg_rate_limit`.\n",
      "\n",
      "Current values:\n",
      "NotebookApp.iopub_msg_rate_limit=1000.0 (msgs/sec)\n",
      "NotebookApp.rate_limit_window=3.0 (secs)\n",
      "\n",
      " 64%|█████████████████████████████████████████████████████▌                              | 127386/200000 [8:22:43<6:49:27,  2.96it/s]IOPub message rate exceeded.\n",
      "The notebook server will temporarily stop sending output\n",
      "to the client in order to avoid crashing it.\n",
      "To change this limit, set the config variable\n",
      "`--NotebookApp.iopub_msg_rate_limit`.\n",
      "\n",
      "Current values:\n",
      "NotebookApp.iopub_msg_rate_limit=1000.0 (msgs/sec)\n",
      "NotebookApp.rate_limit_window=3.0 (secs)\n",
      "\n",
      " 75%|██████████████████████████████████████████████████████████████▍                    | 150468/200000 [10:10:20<4:27:24,  3.09it/s]IOPub message rate exceeded.\n",
      "The notebook server will temporarily stop sending output\n",
      "to the client in order to avoid crashing it.\n",
      "To change this limit, set the config variable\n",
      "`--NotebookApp.iopub_msg_rate_limit`.\n",
      "\n",
      "Current values:\n",
      "NotebookApp.iopub_msg_rate_limit=1000.0 (msgs/sec)\n",
      "NotebookApp.rate_limit_window=3.0 (secs)\n",
      "\n",
      " 78%|████████████████████████████████████████████████████████████████▉                  | 156592/200000 [10:38:13<3:08:43,  3.83it/s]IOPub message rate exceeded.\n",
      "The notebook server will temporarily stop sending output\n",
      "to the client in order to avoid crashing it.\n",
      "To change this limit, set the config variable\n",
      "`--NotebookApp.iopub_msg_rate_limit`.\n",
      "\n",
      "Current values:\n",
      "NotebookApp.iopub_msg_rate_limit=1000.0 (msgs/sec)\n",
      "NotebookApp.rate_limit_window=3.0 (secs)\n",
      "\n",
      " 89%|█████████████████████████████████████████████████████████████████████████▉         | 178077/200000 [12:19:25<2:18:58,  2.63it/s]"
     ]
    }
   ],
   "source": [
    "r = loop((list(zip(left[2300000:2500000], right[2300000:2500000])),0))"
   ]
  },
  {
   "cell_type": "code",
   "execution_count": null,
   "id": "9f784781",
   "metadata": {},
   "outputs": [],
   "source": [
    "en, ms = [], []\n",
    "for i in range(len(r)):\n",
    "    print(i, len(r[i][0]))\n",
    "    en.extend(r[i][0])\n",
    "    ms.extend(r[i][1])"
   ]
  },
  {
   "cell_type": "code",
   "execution_count": 30,
   "id": "7541802f",
   "metadata": {
    "scrolled": true
   },
   "outputs": [
    {
     "data": {
      "text/plain": [
       "['\"Hampir kesemua 130 pelajar mengalami simptom yang muntah dan sesak ini nafas belajar di kelas three or four.',\n",
       " 'Pengangkutan is mudah tetapi sangat berkesan.',\n",
       " 'Culinary (Kulinologi(r) is a mix between the disiplin ilmu food science dan kulinari seni.',\n",
       " 'Indonesia sebenarnya mempunyai three potensial lokasi, namely Sentul, Palembang, dan Lombok.',\n",
       " 'Liptovske Sliace Liptovske Sliace is a kampung dan kawasan located di the Ruzomberok district wilayah Zilina, Slovakia.',\n",
       " 'Apa tidaknya, these kedua-dua popular selebriti are among the big-name air penghibur.',\n",
       " 'I harap this ini not dijadikan big issue, \"besar katanya.',\n",
       " 'Both suspek used a metal bowl biasa used untuk cendol minuman to conceal yang estimated dadah bernilai RM900,000 before sending it ke proses courier company for delivery.',\n",
       " '\"Bagaimanapun, itu ship berjaya to diri selepas berita mengenai the minyak spill was disebarkan melalui the massa media,\" he said.',\n",
       " 'Namun, a few hari kemudian the dokter declined karena pertimbangan keamanan concerns.']"
      ]
     },
     "execution_count": 30,
     "metadata": {},
     "output_type": "execute_result"
    }
   ],
   "source": [
    "en[:10]"
   ]
  },
  {
   "cell_type": "code",
   "execution_count": 31,
   "id": "c0a4d6e8",
   "metadata": {},
   "outputs": [
    {
     "data": {
      "text/plain": [
       "['\"Hampir kesemua 130 pelajar yang mengalami simptom muntah dan sesak nafas ini belajar di kelas sama ada tingkat tiga atau empat.',\n",
       " 'Pengangkutan adalah mudah tetapi sangat berkesan.',\n",
       " 'Kulinologi(r) adalah campuran antara disiplin ilmu makanan dan seni kulinari.',\n",
       " 'Indonesia sebenarnya mempunyai tiga lokasi potensial, yakni Sentul, Palembang, dan Lombok.',\n",
       " 'Liptovske Sliace Liptovske Sliace merupakan sebuah kampung dan kawasan perbandaran yang terletak di daerah Ruzomberok, wilayah Zilina, Slovakia.',\n",
       " 'Apa tidaknya, kedua-dua selebriti popular ini antara penghibur tanah air yang berprofil besar.',\n",
       " 'Saya harap ini tak dijadikan isu besar,\" katanya.',\n",
       " 'Kedua-dua suspek disyaki menggunakan mangkuk besi yang biasa digunakan untuk minuman cendol bagi menyembunyikan dadah yang dianggarkan bernilai RM900,000 sebelum menghantarnya ke syarikat kurier terba proses penghantaran.',\n",
       " '\"Bagaimanapun kapal itu berjaya melarikan diri selepas berita mengenai pembuangan minyak disebarkan melalui media massa,\" katanya.',\n",
       " 'Namun, beberapa hari kemudian dokter menolak karena pertimbangan keamanan.']"
      ]
     },
     "execution_count": 31,
     "metadata": {},
     "output_type": "execute_result"
    }
   ],
   "source": [
    "ms[:10]"
   ]
  },
  {
   "cell_type": "code",
   "execution_count": null,
   "id": "bab4c4ae",
   "metadata": {},
   "outputs": [],
   "source": [
    "import json\n",
    "\n",
    "with open('augmented-en-ms-v3-part2.json', 'w') as fopen:\n",
    "    json.dump({'en': en, 'ms': ms}, fopen)"
   ]
  },
  {
   "cell_type": "code",
   "execution_count": null,
   "id": "5d7c8b40",
   "metadata": {},
   "outputs": [],
   "source": []
  }
 ],
 "metadata": {
  "kernelspec": {
   "display_name": "Python 3 (ipykernel)",
   "language": "python",
   "name": "python3"
  },
  "language_info": {
   "codemirror_mode": {
    "name": "ipython",
    "version": 3
   },
   "file_extension": ".py",
   "mimetype": "text/x-python",
   "name": "python",
   "nbconvert_exporter": "python",
   "pygments_lexer": "ipython3",
   "version": "3.8.10"
  }
 },
 "nbformat": 4,
 "nbformat_minor": 5
}
