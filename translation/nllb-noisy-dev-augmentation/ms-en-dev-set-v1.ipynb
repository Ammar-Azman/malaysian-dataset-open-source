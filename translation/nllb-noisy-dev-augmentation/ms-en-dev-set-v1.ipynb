{
 "cells": [
  {
   "cell_type": "code",
   "execution_count": 1,
   "id": "51eb22f4",
   "metadata": {},
   "outputs": [],
   "source": [
    "import os\n",
    "\n",
    "os.environ['CUDA_VISIBLE_DEVICES'] = ''"
   ]
  },
  {
   "cell_type": "code",
   "execution_count": 2,
   "id": "d0741e9c",
   "metadata": {},
   "outputs": [],
   "source": [
    "with open('/home/husein/translation/zsm_Latn.dev') as fopen:\n",
    "    left = fopen.read().split('\\n')\n",
    "    \n",
    "with open('/home/husein/translation/eng_Latn.dev') as fopen:\n",
    "    right = fopen.read().split('\\n')"
   ]
  },
  {
   "cell_type": "code",
   "execution_count": 3,
   "id": "042d9bf2",
   "metadata": {},
   "outputs": [
    {
     "data": {
      "text/plain": [
       "('Pada hari Isnin, Saintis daripada Sekolah Perubatan Universiti Stamford mengumumkan penemuan alat diagnostik baru yang boleh mengasingkan sel-sel mengikut jenis: cip kecil yang boleh dicetak yang boleh dihasilakn menggunakan pencetak standard inkjet untuk kira-kira satu sen A.S setiap satu.',\n",
       " 'On Monday, scientists from the Stanford University School of Medicine announced the invention of a new diagnostic tool that can sort cells by type: a tiny printable chip that can be manufactured using standard inkjet printers for possibly about one U.S. cent each.')"
      ]
     },
     "execution_count": 3,
     "metadata": {},
     "output_type": "execute_result"
    }
   ],
   "source": [
    "left[0], right[0]"
   ]
  },
  {
   "cell_type": "code",
   "execution_count": 4,
   "id": "762dce3c",
   "metadata": {},
   "outputs": [
    {
     "data": {
      "text/plain": [
       "(998, 998)"
      ]
     },
     "execution_count": 4,
     "metadata": {},
     "output_type": "execute_result"
    }
   ],
   "source": [
    "len(left), len(right)"
   ]
  },
  {
   "cell_type": "code",
   "execution_count": 5,
   "id": "9272db3f",
   "metadata": {},
   "outputs": [
    {
     "name": "stderr",
     "output_type": "stream",
     "text": [
      "/home/husein/.local/lib/python3.8/site-packages/malaya/tokenizer.py:202: FutureWarning: Possible nested set at position 3361\n",
      "  self.tok = re.compile(r'({})'.format('|'.join(pipeline)))\n",
      "/home/husein/.local/lib/python3.8/site-packages/malaya/tokenizer.py:202: FutureWarning: Possible nested set at position 3879\n",
      "  self.tok = re.compile(r'({})'.format('|'.join(pipeline)))\n"
     ]
    }
   ],
   "source": [
    "import malaya"
   ]
  },
  {
   "cell_type": "code",
   "execution_count": 6,
   "id": "b977c25b",
   "metadata": {},
   "outputs": [],
   "source": [
    "eflomal = malaya.alignment.ms_en.eflomal()"
   ]
  },
  {
   "cell_type": "code",
   "execution_count": 7,
   "id": "1fac6c69",
   "metadata": {},
   "outputs": [
    {
     "name": "stdout",
     "output_type": "stream",
     "text": [
      "CPU times: user 7.78 ms, sys: 27.9 ms, total: 35.7 ms\n",
      "Wall time: 324 ms\n"
     ]
    },
    {
     "data": {
      "text/plain": [
       "{'forward': [[(0, 0),\n",
       "   (2, 1),\n",
       "   (3, 2),\n",
       "   (4, 3),\n",
       "   (1, 4),\n",
       "   (8, 5),\n",
       "   (7, 6),\n",
       "   (5, 7),\n",
       "   (7, 8),\n",
       "   (6, 9),\n",
       "   (9, 10),\n",
       "   (10, 11),\n",
       "   (10, 12),\n",
       "   (11, 14),\n",
       "   (13, 15),\n",
       "   (12, 16),\n",
       "   (11, 17),\n",
       "   (14, 18),\n",
       "   (15, 19),\n",
       "   (16, 20),\n",
       "   (17, 21),\n",
       "   (18, 22),\n",
       "   (19, 23),\n",
       "   (22, 24),\n",
       "   (21, 25),\n",
       "   (24, 26),\n",
       "   (20, 27),\n",
       "   (25, 28),\n",
       "   (23, 29),\n",
       "   (26, 30),\n",
       "   (27, 31),\n",
       "   (28, 32),\n",
       "   (30, 33),\n",
       "   (31, 34),\n",
       "   (29, 35),\n",
       "   (32, 36),\n",
       "   (33, 38),\n",
       "   (34, 39),\n",
       "   (36, 40),\n",
       "   (35, 41),\n",
       "   (37, 42)]],\n",
       " 'reverse': [[(0, 4),\n",
       "   (1, 0),\n",
       "   (2, 1),\n",
       "   (3, 2),\n",
       "   (4, 3),\n",
       "   (5, 7),\n",
       "   (6, 9),\n",
       "   (7, 8),\n",
       "   (9, 10),\n",
       "   (10, 13),\n",
       "   (11, 14),\n",
       "   (12, 16),\n",
       "   (13, 15),\n",
       "   (14, 18),\n",
       "   (15, 19),\n",
       "   (16, 20),\n",
       "   (17, 21),\n",
       "   (18, 22),\n",
       "   (19, 23),\n",
       "   (20, 27),\n",
       "   (21, 25),\n",
       "   (22, 24),\n",
       "   (23, 29),\n",
       "   (24, 26),\n",
       "   (25, 28),\n",
       "   (26, 30),\n",
       "   (27, 31),\n",
       "   (28, 32),\n",
       "   (29, 35),\n",
       "   (30, 33),\n",
       "   (31, 34),\n",
       "   (32, 36),\n",
       "   (33, 38),\n",
       "   (34, 39),\n",
       "   (35, 41),\n",
       "   (36, 40),\n",
       "   (37, 42),\n",
       "   (38, 42)]]}"
      ]
     },
     "execution_count": 7,
     "metadata": {},
     "output_type": "execute_result"
    }
   ],
   "source": [
    "%%time\n",
    "\n",
    "eflomal.align(left[:1], right[:1])"
   ]
  },
  {
   "cell_type": "code",
   "execution_count": 8,
   "id": "1aa318d2",
   "metadata": {},
   "outputs": [],
   "source": [
    "from malaya.text.rules import rules_normalizer, rules_compound_normalizer\n",
    "from malaya.text.normalization import _is_number_regex\n",
    "from collections import defaultdict\n",
    "import re\n",
    "import random"
   ]
  },
  {
   "cell_type": "code",
   "execution_count": 9,
   "id": "c907e8cc",
   "metadata": {},
   "outputs": [],
   "source": [
    "rev_rules_compound_normalizer = defaultdict(list)\n",
    "for k, v in rules_compound_normalizer.items():\n",
    "    rev_rules_compound_normalizer[v].append(k)"
   ]
  },
  {
   "cell_type": "code",
   "execution_count": 10,
   "id": "5696ddb3",
   "metadata": {},
   "outputs": [],
   "source": [
    "rev_rules_normalizer = defaultdict(list)\n",
    "for k, v in rules_normalizer.items():\n",
    "    rev_rules_normalizer[v].append(k)"
   ]
  },
  {
   "cell_type": "code",
   "execution_count": 11,
   "id": "8fa63d10",
   "metadata": {},
   "outputs": [],
   "source": [
    "rules_compound_normalizer_regex = (\n",
    "    '(?:' + '|'.join(list(rev_rules_compound_normalizer.keys())) + ')'\n",
    ")"
   ]
  },
  {
   "cell_type": "code",
   "execution_count": 12,
   "id": "504d5d44",
   "metadata": {},
   "outputs": [],
   "source": [
    "# def _replace_compound(string, \n",
    "#                       rules_regex = rules_compound_normalizer_regex, \n",
    "#                       rules = rev_rules_compound_normalizer):\n",
    "#     results = re.findall(rules_regex, string, flags=re.IGNORECASE\n",
    "#     )\n",
    "#     for r in results:\n",
    "#         try:\n",
    "#             string = string.replace(r, random.choice(rules[r.lower()]))\n",
    "#         except:\n",
    "#             pass\n",
    "#     return string\n",
    "\n",
    "def _replace_compound(string, rules = rev_rules_compound_normalizer):\n",
    "    for k in list(rules.keys()):\n",
    "        results = [(m.start(0), m.end(0)) for m in re.finditer(k, string, flags=re.IGNORECASE)]\n",
    "        for r in results:\n",
    "            sub = string[r[0]: r[1]]\n",
    "            try:\n",
    "                replaced = random.choice(rules[sub.lower()])\n",
    "                if replaced:\n",
    "                    if r[1] < len(string) and string[r[1]] != ' ':\n",
    "                        continue\n",
    "                    if r[0] - 1 > len(string) and string[r[0] - 1] != ' ':\n",
    "                        continue\n",
    "\n",
    "                    sub = case_of(sub)(replaced)\n",
    "                    string = string[:r[0]] + sub + string[r[1]:]\n",
    "            except:\n",
    "                pass\n",
    "    return string"
   ]
  },
  {
   "cell_type": "code",
   "execution_count": 13,
   "id": "de2c63c8",
   "metadata": {},
   "outputs": [
    {
     "data": {
      "text/plain": [
       "('', ',', 'counters')"
      ]
     },
     "execution_count": 13,
     "metadata": {},
     "output_type": "execute_result"
    }
   ],
   "source": [
    "PUNCTUATION = '!\"#$%&\\'()*+,./:;<=>?@[\\]^_`{|}~'\n",
    "\n",
    "def case_of(text):\n",
    "    return (\n",
    "        str.upper\n",
    "        if text.isupper()\n",
    "        else str.lower\n",
    "        if text.islower()\n",
    "        else str.title\n",
    "        if text.istitle()\n",
    "        else str\n",
    "    )\n",
    "\n",
    "def strip_punct(word):\n",
    "    left = []\n",
    "    right = []\n",
    "    i = 0\n",
    "    while i < len(word):\n",
    "        if word[i] in PUNCTUATION:\n",
    "            left.append(word[i])\n",
    "            i += 1\n",
    "        else:\n",
    "            break\n",
    "    i = len(word) - 1\n",
    "    while i > 0:\n",
    "        if word[i] in PUNCTUATION:\n",
    "            right.append(word[i])\n",
    "            i -= 1\n",
    "        else:\n",
    "            break\n",
    "    left = ''.join(left)\n",
    "    right = ''.join(right[::-1])\n",
    "    if len(right):\n",
    "        word_ = word[:-len(right)]\n",
    "    else:\n",
    "        word_ = word\n",
    "    word_ = word_[len(left):]\n",
    "    return left, right, word_\n",
    "\n",
    "\n",
    "def replace_shortword(word):\n",
    "    left, right, word_ = strip_punct(word)\n",
    "    word_ = word_[len(left):]\n",
    "    lower_word_ = word_.lower()\n",
    "    if lower_word_ in rev_rules_normalizer:\n",
    "        word_ = case_of(word_)(random.choice(rev_rules_normalizer[lower_word_]))\n",
    "        word_ = f'{left}{word_}{right}'\n",
    "        return word_\n",
    "    else:\n",
    "        return word\n",
    "    \n",
    "strip_punct('counters,')"
   ]
  },
  {
   "cell_type": "code",
   "execution_count": 14,
   "id": "1553ebb4",
   "metadata": {},
   "outputs": [
    {
     "data": {
      "text/plain": [
       "['gw', 'bngeet', 'cuantik\"']"
      ]
     },
     "execution_count": 14,
     "metadata": {},
     "output_type": "execute_result"
    }
   ],
   "source": [
    "string = 'saya sangat cantik\"'\n",
    "[replace_shortword(word) for word in string.split()]"
   ]
  },
  {
   "cell_type": "code",
   "execution_count": 15,
   "id": "7e390d3a",
   "metadata": {},
   "outputs": [
    {
     "data": {
      "text/plain": [
       "['Penyelidik',\n",
       " 'utama',\n",
       " 'mengatakan',\n",
       " 'bahawa',\n",
       " 'ia',\n",
       " 'mgkn',\n",
       " 'menghasilkan',\n",
       " 'pengesanan',\n",
       " 'awl',\n",
       " 'kanser,',\n",
       " 'tuberkulosis,',\n",
       " 'HIV',\n",
       " '&',\n",
       " 'malaria',\n",
       " 'kpada',\n",
       " 'pesakit',\n",
       " 'kat',\n",
       " 'negara-negara',\n",
       " 'berpendapatan',\n",
       " 'low,',\n",
       " 'kat',\n",
       " 'manoi',\n",
       " 'kadar',\n",
       " 'kemandirian',\n",
       " 'untk',\n",
       " 'penyakit',\n",
       " 'sperti',\n",
       " 'kanser',\n",
       " 'payu',\n",
       " 'dara',\n",
       " 'ialah',\n",
       " 'separuh',\n",
       " 'drpd',\n",
       " 'd',\n",
       " 'negara-negara',\n",
       " 'yg',\n",
       " 'lbih',\n",
       " 'kya.']"
      ]
     },
     "execution_count": 15,
     "metadata": {},
     "output_type": "execute_result"
    }
   ],
   "source": [
    "[replace_shortword(word) for word in left[1].split()]"
   ]
  },
  {
   "cell_type": "code",
   "execution_count": 16,
   "id": "bbb25de0",
   "metadata": {},
   "outputs": [],
   "source": [
    "def replace_words_punct(left_word, right_word):\n",
    "    left_left, left_right, left_word = strip_punct(left_word)\n",
    "    right_left, right_right, right_word = strip_punct(right_word)\n",
    "    return f'{left_left}{right_word}{left_right}'\n",
    "\n",
    "def random_replace_alignment(left, right, alignment, min_replace = 2, max_replace = 7):\n",
    "    splitted_left = left.split()\n",
    "    splitted_right = right.split()\n",
    "    \n",
    "    selected_alignment = []\n",
    "    for s in alignment:\n",
    "        l = s[0]\n",
    "        r = s[1]\n",
    "        if _is_number_regex(splitted_left[l].replace(',', '').replace('.', '')) or _is_number_regex(splitted_right[r].replace(',', '').replace('.', '')):\n",
    "            continue\n",
    "        elif splitted_left[l].isupper() or splitted_right[r].isupper():\n",
    "            continue\n",
    "        elif splitted_left[l] == splitted_right[r]:\n",
    "            continue\n",
    "        elif splitted_right[r].lower() in ['the', 'a', 'an', 'it', 'is', 'are']:\n",
    "            continue\n",
    "        else:\n",
    "            selected_alignment.append((l, r))\n",
    "    \n",
    "    count_replace = random.randint(min_replace, min(max_replace, len(selected_alignment)))\n",
    "    \n",
    "    selected = random.sample(selected_alignment, count_replace)\n",
    "    for s in selected:\n",
    "        splitted_left[s[0]] = replace_words_punct(splitted_left[s[0]], splitted_right[s[1]])\n",
    "    \n",
    "    return ' '.join(splitted_left)"
   ]
  },
  {
   "cell_type": "code",
   "execution_count": 17,
   "id": "af94bb51",
   "metadata": {},
   "outputs": [],
   "source": [
    "# random replace alignment\n",
    "# random replace compound\n",
    "# random replace word"
   ]
  },
  {
   "cell_type": "code",
   "execution_count": 18,
   "id": "c8806c09",
   "metadata": {
    "scrolled": false
   },
   "outputs": [
    {
     "data": {
      "text/plain": [
       "0.911006102501975"
      ]
     },
     "execution_count": 18,
     "metadata": {},
     "output_type": "execute_result"
    }
   ],
   "source": [
    "random.random()"
   ]
  },
  {
   "cell_type": "code",
   "execution_count": 19,
   "id": "a737928b",
   "metadata": {},
   "outputs": [],
   "source": [
    "import copy\n",
    "\n",
    "def augment(left, right, p_replace_alignment = 0.4, p_replace_shortword = 0.7):\n",
    "    if random.random() > p_replace_alignment:\n",
    "        alignment = eflomal.align([left], [right])['forward'][0]\n",
    "        left = random_replace_alignment(left, right, alignment)\n",
    "    \n",
    "    left = _replace_compound(left, rules = copy.deepcopy(rev_rules_compound_normalizer))\n",
    "    left = ' '.join([replace_shortword(word) if random.random() > p_replace_shortword else word for word in left.split()])\n",
    "    return left"
   ]
  },
  {
   "cell_type": "code",
   "execution_count": 20,
   "id": "238197f4",
   "metadata": {},
   "outputs": [
    {
     "name": "stderr",
     "output_type": "stream",
     "text": [
      "Warning : `load_model` does not return WordVectorModel or SupervisedModel any more, but a `FastText` object which is very similar.\n"
     ]
    }
   ],
   "source": [
    "fast_text = malaya.language_detection.fasttext()"
   ]
  },
  {
   "cell_type": "code",
   "execution_count": 21,
   "id": "1f0cfd6a",
   "metadata": {},
   "outputs": [
    {
     "name": "stderr",
     "output_type": "stream",
     "text": [
      "100%|████████████████████████████████████████████████████████████████████████████████████████████████████| 998/998 [02:01<00:00,  8.19it/s]\n"
     ]
    }
   ],
   "source": [
    "from tqdm import tqdm\n",
    "\n",
    "new_left, new_right = [], []\n",
    "for i in tqdm(range(len(left))):\n",
    "    if len(left[i].split()) > 100 or len(right[i].split()) > 100:\n",
    "        continue\n",
    "    langs = fast_text.predict([left[i], right[i]])\n",
    "    if langs[0] == 'eng':\n",
    "        continue\n",
    "    if langs[1] == 'malay':\n",
    "        continue\n",
    "    try:\n",
    "        new_left_ = augment(left[i], right[i])\n",
    "        if new_left_ != left[i]:\n",
    "            new_left.append(new_left_)\n",
    "            new_right.append(right[i])\n",
    "    except Exception as e:\n",
    "        pass"
   ]
  },
  {
   "cell_type": "code",
   "execution_count": 23,
   "id": "32d5b317",
   "metadata": {},
   "outputs": [
    {
     "data": {
      "text/plain": [
       "953"
      ]
     },
     "execution_count": 23,
     "metadata": {},
     "output_type": "execute_result"
    }
   ],
   "source": [
    "len(new_left)"
   ]
  },
  {
   "cell_type": "code",
   "execution_count": 24,
   "id": "566c80fa",
   "metadata": {},
   "outputs": [
    {
     "data": {
      "text/plain": [
       "953"
      ]
     },
     "execution_count": 24,
     "metadata": {},
     "output_type": "execute_result"
    }
   ],
   "source": [
    "len(new_right)"
   ]
  },
  {
   "cell_type": "code",
   "execution_count": 28,
   "id": "a47d3a4e",
   "metadata": {},
   "outputs": [],
   "source": [
    "import json\n",
    "\n",
    "with open('augmented-eng_Latn-zsm_Latn-noisy-ms-en-dev-set-v1.json', 'w') as fopen:\n",
    "    json.dump({'en': new_right, 'ms': new_left}, fopen)"
   ]
  },
  {
   "cell_type": "code",
   "execution_count": null,
   "metadata": {},
   "outputs": [],
   "source": []
  }
 ],
 "metadata": {
  "kernelspec": {
   "display_name": "Python 3 (ipykernel)",
   "language": "python",
   "name": "python3"
  },
  "language_info": {
   "codemirror_mode": {
    "name": "ipython",
    "version": 3
   },
   "file_extension": ".py",
   "mimetype": "text/x-python",
   "name": "python",
   "nbconvert_exporter": "python",
   "pygments_lexer": "ipython3",
   "version": "3.8.10"
  }
 },
 "nbformat": 4,
 "nbformat_minor": 5
}
