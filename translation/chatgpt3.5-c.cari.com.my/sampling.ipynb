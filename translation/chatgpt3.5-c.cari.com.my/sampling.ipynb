{
 "cells": [
  {
   "cell_type": "code",
   "execution_count": 2,
   "metadata": {},
   "outputs": [],
   "source": [
    "# !wget https://huggingface.co/datasets/mesolitica/crawl-c-cari-com-my/resolve/main/everything.jsonl"
   ]
  },
  {
   "cell_type": "code",
   "execution_count": 3,
   "metadata": {},
   "outputs": [],
   "source": [
    "!rm everything.jsonl"
   ]
  },
  {
   "cell_type": "code",
   "execution_count": 4,
   "metadata": {
    "scrolled": true
   },
   "outputs": [
    {
     "name": "stdout",
     "output_type": "stream",
     "text": [
      "\"\\n\\u91cd\\u7532\\u9738\\u738b \\u53d1\\u8868\\u4e8e 20-8-2018 11:34 PM\\r\\n\\u4e0d\\u8981PUSING\\u3002\\u3002\\u3002\\u6765\\u8bb2\\u3002\\u3002\\u3002\\u8fd9\\u8ba1\\u5212\\u8c01\\u5f00\\u59cb\\uff0c\\u8c01\\u7b7e\\u7684\\uff1f\\n\\r\\n\\u662f\\u4e0d\\u662f\\u5ed6\\u4e2d\\u83b1\\uff1f\\n\\u4ed6\\u90fd\\u4e0d\\u6562\\u8bb2\\uff0c\\u73b0\\u5728\\u5bb3\\u6015\\u54af\\u3002\\u56e0\\u4e3a\\u6709\\u79c1\\u4eba\\u516c\\u53f8\\u6ca1\\u4e864\\u4ebf\\u6765\\u8d44\\u52a9\\u72d7\\u7cae\\u3002\\n\"\r\n",
      "\"\\n\\u770bviolin or piano\\u7684\\u8c31\\uff1f\\uff1f \\u57fa\\u672c\\u770b\\u4e50\\u8c31\\u7684\\u8bdd\\u53ef\\u4ee5\\u70b9\\u8fd9\\u91cc\\u53bb---\\u300b \\u866b\\u866b\\u300e\\u4e50\\u7406\\u77e5\\u8bc6\\u4ea4\\u6d41\\u300f\\r\\n\\u90a3\\u91cc\\u53ef\\u80fd\\u6709\\u4f60\\u60f3\\u8981\\u7684\\u54a8\\u8be2\\uff5e\\n\\n\"\r\n",
      "\"\\njasonhanjhno@b \\u53d1\\u8868\\u4e8e 28-9-2013 10:23 AM \\r\\n\\u9760\\u8fd1imbi\\n\\u5982\\u679c\\u4e0bimbi\\u7ad9\\uff0c\\u8d70\\u8def\\u4f1a\\u5f88\\u4e45\\u624d\\u80fd\\u5230\\u5417\\uff1f \\u5927\\u6982\\u51e0\\u4e45\\uff1f\\n\"\r\n"
     ]
    }
   ],
   "source": [
    "!head -n 3 /home/husein/ssd3/c-cari-com-my/everything.jsonl"
   ]
  },
  {
   "cell_type": "code",
   "execution_count": 76,
   "metadata": {},
   "outputs": [],
   "source": [
    "import re\n",
    "\n",
    "def reject(string):\n",
    "    if len(string) < 20:\n",
    "        return True\n",
    "    \n",
    "    if len(string) > 1000:\n",
    "        return True\n",
    "    \n",
    "    s = string.lower()\n",
    "    s = re.sub('[^A-Za-z ]+', ' ', s)\n",
    "    s = re.sub(r'[ ]+', ' ', s).strip()\n",
    "    \n",
    "    if (len(s) / len(string)) > 0.7:\n",
    "        return False\n",
    "    \n",
    "    return False\n",
    "\n",
    "def replace_multiple(input_string, pattern =r\"\\s{2,}\", replace = '  '):\n",
    "    return re.sub(pattern, replace, input_string)\n",
    "\n",
    "def replace(string):\n",
    "    string = replace_multiple(string.replace('…', '.'))\n",
    "    string = replace_multiple(string, pattern = r\"\\.{2,}\", replace = '..')\n",
    "    string = replace_multiple(string, pattern = r\"\\={2,}\", replace = '==')\n",
    "    string = replace_multiple(string, pattern = r\"\\~{2,}\", replace = '~~')\n",
    "    return string\n",
    "\n",
    "def process(string):\n",
    "    string = string.strip()\n",
    "    splitted = string.split('\\n')\n",
    "    s = splitted[0].strip()\n",
    "    if s.endswith(' PM') or s.endswith(' AM'):\n",
    "        string = '\\r\\n'.join(splitted[1:])\n",
    "    \n",
    "    return replace(string)"
   ]
  },
  {
   "cell_type": "code",
   "execution_count": 77,
   "metadata": {},
   "outputs": [
    {
     "name": "stderr",
     "output_type": "stream",
     "text": [
      "2702840it [00:34, 78306.57it/s]\n"
     ]
    }
   ],
   "source": [
    "import json\n",
    "from tqdm import tqdm\n",
    "\n",
    "r = []\n",
    "with open('/home/husein/ssd3/c-cari-com-my/everything.jsonl') as fopen:\n",
    "    for l in tqdm(fopen):\n",
    "        data = json.loads(l).strip()\n",
    "        if reject(data):\n",
    "            continue\n",
    "            \n",
    "        r.append(process(data))\n",
    "        if len(r) == 2e6:\n",
    "            break"
   ]
  },
  {
   "cell_type": "code",
   "execution_count": 78,
   "metadata": {
    "scrolled": true
   },
   "outputs": [
    {
     "data": {
      "text/plain": [
       "2000000"
      ]
     },
     "execution_count": 78,
     "metadata": {},
     "output_type": "execute_result"
    }
   ],
   "source": [
    "len(r)"
   ]
  },
  {
   "cell_type": "code",
   "execution_count": 79,
   "metadata": {
    "scrolled": true
   },
   "outputs": [
    {
     "data": {
      "text/plain": [
       "['不要PUSING。。。来讲。。。这计划谁开始，谁签的？  是不是廖中莱？  他都不敢讲，现在害怕咯。因为有私人公司没了4亿来资助狗粮。',\n",
       " '看violin or piano的谱？？ 基本看乐谱的话可以点这里去---》 虫虫『乐理知识交流』  那里可能有你想要的咨询～',\n",
       " '靠近imbi  如果下imbi站，走路会很久才能到吗？ 大概几久？',\n",
       " 'hibiscs大红花下午直飙22仙,收在1.89。不知是否有好消息。  上面所研究的就先放着等t4后,相信会再起。  因为买量忽然大增,应该是大咖在玩。他们应该会再推高来出票的。',\n",
       " '通常漂亮的容易被潛規則..當她遇到時才會想起前男友的警告吧  或者根本不在意也說不定']"
      ]
     },
     "execution_count": 79,
     "metadata": {},
     "output_type": "execute_result"
    }
   ],
   "source": [
    "r[:5]"
   ]
  },
  {
   "cell_type": "code",
   "execution_count": 80,
   "metadata": {},
   "outputs": [],
   "source": [
    "import numpy as np"
   ]
  },
  {
   "cell_type": "code",
   "execution_count": 82,
   "metadata": {},
   "outputs": [
    {
     "data": {
      "text/plain": [
       "1000"
      ]
     },
     "execution_count": 82,
     "metadata": {},
     "output_type": "execute_result"
    }
   ],
   "source": [
    "lens = [len(r_) for r_ in r]\n",
    "max(lens)"
   ]
  },
  {
   "cell_type": "code",
   "execution_count": 83,
   "metadata": {},
   "outputs": [
    {
     "data": {
      "text/plain": [
       "'1.半夜睡覺時，是否聽到樓上經常傳來彈珠落地的聲音？那是因為有「東西」的眼珠掉在了地上。或許家住頂層的朋友有時也能碰到這樣的聲音，千萬不要以為這是有小孩在半夜三更玩彈珠，這是一種死亡的召喚。  2.你是否遇到過這樣的現象:在你勞累了一天後覺得非常疲倦，回家倒頭就睡。可是睡到一半時大腦突然醒來，聽得見家人在說話，四肢卻麻木不能動彈，想喊也喊不出來。其實這是你自身靈魂和肉體分離的表現，非要有人把你拍醒或喊醒，否則你就這樣植物人似的「睡」過去了，千萬不要以為這是夢魘。  3.外出時你是否經常靈光閃現，覺得這個地方這個場景在夢中似曾出現過，卻無法確定或回憶不起來到底什麼時候來過這個地方？那是因為某種原因你的靈魂曾經在你沒有察覺或睡夢中的時候遊歷、經歷了這塊地方這個場景，千萬不要以為你做夢夢見過這個場景。  4.家裡有出生不久的嬰兒的朋友，你是否發現自己的孩子在沒人看管的時候無緣無故自己笑出聲或哭出來？那是因為有「人」在逗他玩，此時應該立刻親自抱起孩子，很多能夠通靈的靈媒介質小時候都有這樣的經歷，並且沒有及時處理，造成長大後能看見許多常人看不見的東西。千萬不要以為孩子是在自己逗自己玩。  5.許多在農村走過夜路的朋友，你是否有過這樣的經歷：深更半夜當你經過河流的時候，是否經常能聽到「撲通」一聲，彷彿是有動物跳入水中的聲音？很可能有人在這條河裡自盡過，你聽到的聲音是瞬間場景的重演，千萬不要以為是水獺干的。  6.一大群人在屋裡高談闊論，嬉笑怒罵的時候，有時大家會突然停下來，一屋子人鴉雀無聲。有種說法是這時天上有天使經過；也有種說法是，這時地獄裡有人下油鍋了..千萬不要以為大家都沒話說了，因為你隨便拉一個現場的朋友，他肚子裡還有說不完的玩笑呢!!  7.不知道大家是不是有這樣的經歷：照鏡子時間長了，會發現鏡子裡的自己很陌生；同樣，你長時間盯著一個常用字看，會發現你彷彿不認識這個字了。那是因為現實生活中有兩個「你」存在，只有在一個人精神分裂時，別人才會發現另一個「你」，千萬別以為這是偶然的現象。  8.在寂靜無聲的時候，你把石英手錶放在耳邊，秒針的「嚓嚓」聲令你切實體會到時間的流逝。但是，有時候突然間，你會聽不到「嚓嚓」聲，過一會又能聽到了，為什麼？那是因為在你聽不到秒針走動的時候，出現了常人看不見、聽不到、摸不著的第四維空間——時間維。千萬不要以為你的手錶停了或者你的聽力有問題。'"
      ]
     },
     "execution_count": 83,
     "metadata": {},
     "output_type": "execute_result"
    }
   ],
   "source": [
    "r[np.argmax(lens)]"
   ]
  },
  {
   "cell_type": "code",
   "execution_count": 84,
   "metadata": {},
   "outputs": [],
   "source": [
    "with open('sample.json', 'w') as fopen:\n",
    "    json.dump(r, fopen)"
   ]
  }
 ],
 "metadata": {
  "kernelspec": {
   "display_name": "Python 3 (ipykernel)",
   "language": "python",
   "name": "python3"
  },
  "language_info": {
   "codemirror_mode": {
    "name": "ipython",
    "version": 3
   },
   "file_extension": ".py",
   "mimetype": "text/x-python",
   "name": "python",
   "nbconvert_exporter": "python",
   "pygments_lexer": "ipython3",
   "version": "3.8.10"
  }
 },
 "nbformat": 4,
 "nbformat_minor": 4
}
