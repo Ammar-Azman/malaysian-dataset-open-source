{
 "cells": [
  {
   "cell_type": "code",
   "execution_count": 1,
   "metadata": {},
   "outputs": [],
   "source": [
    "import os\n",
    "\n",
    "os.environ['CUDA_VISIBLE_DEVICES'] = ''"
   ]
  },
  {
   "cell_type": "code",
   "execution_count": 2,
   "metadata": {},
   "outputs": [],
   "source": [
    "import json\n",
    "\n",
    "comments = []\n",
    "posts = []\n",
    "for f in ['najib-razak.json', 'anwar-ibrahim.json', 'sanusi.json', 'pakatan-harapan.json',\n",
    "         'rafizi-ramli.json', 'mymgag.json', 'Ayahanda-Abdul-Rani-Kulup-1753773051575006.json',\n",
    "         'groups-1483603055330698.json', 'groups-392252305221999.json', 'groups-1098480360644592.json',\n",
    "         'groups-2025865557592801.json']:\n",
    "    with open(f) as fopen:\n",
    "        data = json.load(fopen)\n",
    "    \n",
    "    for r in data:\n",
    "        if 'groups-' not in f:\n",
    "            posts.append(r['post_text'])\n",
    "        for c in r['comments_full']:\n",
    "            t = c['comment_text']\n",
    "            if 1 < len(t.split()) < 300:\n",
    "                comments.append(t)\n",
    "            for c_ in c['replies']:\n",
    "                t = c_['comment_text']\n",
    "                if 1 < len(t.split()) < 300:\n",
    "                    comments.append(t)"
   ]
  },
  {
   "cell_type": "code",
   "execution_count": 3,
   "metadata": {
    "scrolled": true
   },
   "outputs": [
    {
     "data": {
      "text/plain": [
       "(1255, 263917)"
      ]
     },
     "execution_count": 3,
     "metadata": {},
     "output_type": "execute_result"
    }
   ],
   "source": [
    "len(posts), len(comments)"
   ]
  },
  {
   "cell_type": "code",
   "execution_count": 4,
   "metadata": {},
   "outputs": [
    {
     "data": {
      "text/plain": [
       "199590"
      ]
     },
     "execution_count": 4,
     "metadata": {},
     "output_type": "execute_result"
    }
   ],
   "source": [
    "comments = list(set(comments))\n",
    "len(comments)"
   ]
  },
  {
   "cell_type": "code",
   "execution_count": 5,
   "metadata": {},
   "outputs": [],
   "source": [
    "import malaya\n",
    "from malaya.text.function import maxlen_slide"
   ]
  },
  {
   "cell_type": "code",
   "execution_count": 6,
   "metadata": {},
   "outputs": [],
   "source": [
    "import re\n",
    "\n",
    "def fix_spacing_punct(string):\n",
    "    string = string.replace(' , ', ', ').replace(' !', '!').replace(' . ', '. ').replace('( ', '(') \\\n",
    "    .replace(' )', ')')\n",
    "    return re.sub(r'[ ]+', ' ', string).strip()"
   ]
  },
  {
   "cell_type": "code",
   "execution_count": 7,
   "metadata": {},
   "outputs": [
    {
     "data": {
      "text/plain": [
       "'Mohd Aquil Mohd Yusof sabar cho..pru 16 kita sapu bersih..'"
      ]
     },
     "execution_count": 7,
     "metadata": {},
     "output_type": "execute_result"
    }
   ],
   "source": [
    "comments[0]"
   ]
  },
  {
   "cell_type": "code",
   "execution_count": 8,
   "metadata": {},
   "outputs": [],
   "source": [
    "normalizer = malaya.normalize.normalizer(date = False)"
   ]
  },
  {
   "cell_type": "code",
   "execution_count": 9,
   "metadata": {},
   "outputs": [],
   "source": [
    "segmenter = malaya.segmentation.huggingface()\n",
    "segmenter_func = lambda x: segmenter.generate([x], max_length = 256)[0]"
   ]
  },
  {
   "cell_type": "code",
   "execution_count": 10,
   "metadata": {
    "scrolled": false
   },
   "outputs": [
    {
     "data": {
      "text/plain": [
       "'Denga kata YB rebah bing marin, semoga YB xdak apa2 yg jadi laa,'"
      ]
     },
     "execution_count": 10,
     "metadata": {},
     "output_type": "execute_result"
    }
   ],
   "source": [
    "from unidecode import unidecode\n",
    "\n",
    "unidecode('Denga kata YB rebah bing marin, semoga YB xdak apa² yg jadi laa,')"
   ]
  },
  {
   "cell_type": "code",
   "execution_count": 11,
   "metadata": {},
   "outputs": [],
   "source": [
    "t = 'Tahniah Pm.10'\n",
    "t = unidecode(t)"
   ]
  },
  {
   "cell_type": "code",
   "execution_count": 12,
   "metadata": {},
   "outputs": [
    {
     "data": {
      "text/plain": [
       "['Tahniah', 'Pm', '.', '10']"
      ]
     },
     "execution_count": 12,
     "metadata": {},
     "output_type": "execute_result"
    }
   ],
   "source": [
    "normalizer._tokenizer(t)"
   ]
  },
  {
   "cell_type": "code",
   "execution_count": 13,
   "metadata": {},
   "outputs": [
    {
     "data": {
      "text/plain": [
       "'Tahniah Pm . 10'"
      ]
     },
     "execution_count": 13,
     "metadata": {},
     "output_type": "execute_result"
    }
   ],
   "source": [
    "normalizer.normalize(\n",
    "            t, normalize_hingga = False, normalize_cardinal = False,\n",
    "            normalize_ordinal = False, normalize_pada_hari_bulan = False,\n",
    "            normalize_fraction = False, normalize_money = False, normalize_date = False,\n",
    "            normalize_time = False, normalize_ic = False,\n",
    "            normalize_units = False,\n",
    "            normalize_url = False, normalize_percent=False, normalize_telephone = False,\n",
    "            segmenter = segmenter_func,\n",
    "            not_a_word_threshold = 1e-9,\n",
    "        )['normalize']"
   ]
  },
  {
   "cell_type": "code",
   "execution_count": 15,
   "metadata": {},
   "outputs": [
    {
     "name": "stderr",
     "output_type": "stream",
     "text": [
      "100%|███████████████████████████████████████████████████████████████████████████████| 199590/199590 [02:09<00:00, 1535.37it/s]\n"
     ]
    }
   ],
   "source": [
    "from tqdm import tqdm\n",
    "\n",
    "results = []\n",
    "already_in = set()\n",
    "for t in tqdm(comments):\n",
    "\n",
    "    if t.lower() in already_in:\n",
    "        continue\n",
    "\n",
    "    if not len(t):\n",
    "        continue\n",
    "        \n",
    "    t = unidecode(t)\n",
    "\n",
    "    try:\n",
    "        normalized = normalizer.normalize(\n",
    "            t, normalize_hingga = False, normalize_cardinal = False,\n",
    "            normalize_ordinal = False, normalize_pada_hari_bulan = False,\n",
    "            normalize_fraction = False, normalize_money = False, normalize_date = False,\n",
    "            normalize_time = False, normalize_ic = False,\n",
    "            normalize_units = False,\n",
    "            normalize_url = False, normalize_percent=False, normalize_telephone = False,\n",
    "            normalize_elongated = True,\n",
    "            not_a_word_threshold = 1e-9,\n",
    "        )['normalize']\n",
    "\n",
    "        normalized = fix_spacing_punct(normalized)\n",
    "\n",
    "        already_in.add(t.lower())\n",
    "    except Exception as e:\n",
    "        print(e)\n",
    "        print(t)\n",
    "        \n",
    "        normalized = t\n",
    "    \n",
    "    results.append({'original': t, 'text': normalized})"
   ]
  },
  {
   "cell_type": "code",
   "execution_count": 16,
   "metadata": {},
   "outputs": [
    {
     "data": {
      "text/plain": [
       "195971"
      ]
     },
     "execution_count": 16,
     "metadata": {},
     "output_type": "execute_result"
    }
   ],
   "source": [
    "len(results)"
   ]
  },
  {
   "cell_type": "code",
   "execution_count": 17,
   "metadata": {
    "scrolled": true
   },
   "outputs": [
    {
     "data": {
      "text/plain": [
       "[{'original': 'Fully support PH\\nRakyat hidup\\nKita boleh ',\n",
       "  'text': 'Fully support PAKATAN HARAPAN Rakyat hidup Kita boleh'},\n",
       " {'original': 'Sprm pun bagi masa utk berkempen..tapi\\nawai dah kayuh.....',\n",
       "  'text': 'Sprm pun bagi masa untuk berkempen. tetapi awai dah kayuh. .. . .'},\n",
       " {'original': 'Kena pujuk vs kena heret ', 'text': 'Kena pujuk vs kena heret'},\n",
       " {'original': 'Bos Getah aamiin aamiin', 'text': 'Bos Getah aamiin aamiin'},\n",
       " {'original': 'aku berani jamin dengan live pru15 bawah 50K ni, ramai pengundi dah berubah',\n",
       "  'text': 'aku berani jamin dengan live pru15 bawah 50K ini, ramai pengundi dah berubah'},\n",
       " {'original': 'Bertahan guys! Walau beratur panjang ia berbaloi, klu X nnt menyesal 5 tahun',\n",
       "  'text': 'Bertahan guys! Walau beratur panjang ia berbaloi, kalau Tak nanti menyesal 5 tahun'},\n",
       " {'original': 'Lu tanya sama lu punya atok..sejarah ini batu pahat',\n",
       "  'text': 'Kamu tanya sama kamu punya atok. . sejarah ini batu pahat'},\n",
       " {'original': 'Adus Affandy mcm ktinggalan sda ku bos',\n",
       "  'text': 'Adus Affandy macam ktinggalan sda ku bos'},\n",
       " {'original': 'Nak sejahtera macam mana kalau masalah ayaq tak dapat selesai sampai ke sudah... Dekat seminggu dah ayaq di Ambangan Height, Sungai Petani ni tak da.. Tolong la dahulukan keperluan yang sepatutnya utk rakyat Kedah kalau nak terus memerintah.. Tolong serahkan pengurusan air kedah kepada orang yang betul2 amanah dalam kerja.. Kerja buat kita semua akan disoal kelak..',\n",
       "  'text': 'Nak sejahtera macam mana kalau masalah ayaq tidak dapat selesai sampai ke sudah. .. Dekat seminggu dah ayaq di Ambangan Height, Sungai Petani ini tidak dah. . Tolong lah dahulukan keperluan yang sepatutnya untuk rakyat Kedah kalau nak terus memerintah. . Tolong serahkan pengurusan air kedah kepada orang yang betul-betul amanah dalam kerja. . Kerja buat kita semua akan disoal kelak. .'},\n",
       " {'original': 'Kami akur dan patuh segala keputusan pucuk pimpinan  Btw jentera pemuda Pas dlm mode standby !!',\n",
       "  'text': 'Kami akur dan patuh segala keputusan pucuk pimpinan Dengan Cara Itu jentera pemuda Pas dalam mode standby!!'},\n",
       " {'original': 'Rainee Lee Shu Han', 'text': 'Rainee Lee Shu Han'},\n",
       " {'original': 'Hynx Hani hye~', 'text': 'Hynx Hani hya ~'},\n",
       " {'original': 'Dsai adik.beradik.di\\na.kaya.lepas dia jadi TPM. Hang tau apa. Mai2 penang',\n",
       "  'text': 'Dsai adik.beradik.di a.kaya.lepas dia jadi TPM. Hang tahu apa. Mai2 penang'},\n",
       " {'original': 'terbaik pidato lantang tegas',\n",
       "  'text': 'terbaik pidato lantang tegas'},\n",
       " {'original': 'Mohd Najib semoga sakit Ulser dsnr dipindahkn kpd sedara manusia yg sombong dn dengki sesama manusia X Ada perasaan belasikhsan sesama manusia yg sdg sakit',\n",
       "  'text': 'Mohd Najib semoga sakit Ulser datuk seri najib razak dipindahkn kepada sedara manusia yang sombong dan dengki sesama manusia Tak Ada perasaan belasikhsan sesama manusia yang sedang sakit'},\n",
       " {'original': 'Mahanom Mohammad ', 'text': 'Mahanom Mohammad'},\n",
       " {'original': 'Itu baru satu RR bukak hahaha',\n",
       "  'text': 'Itu baru satu RR buka haha'},\n",
       " {'original': \"Wa'alaikumsalam\\nDS..\\nSemoga DS didlm perlindungan ALLAH..\\nAamiin Allahumma Aamiin\",\n",
       "  'text': \"Wa' alaikumsalam DS. . Semoga DS didlm perlindungan ALLAH. . Aamiin Allahumma Aamiin\"},\n",
       " {'original': 'Zul Mohd Zul', 'text': 'Zul Mohd Zul'},\n",
       " {'original': 'bak kate mat sabu... DAP DAP DAP DAP DAP DAP DAP DAP DAP......',\n",
       "  'text': 'bak kate mat sabu. .. DAP DAP DAP DAP DAP DAP DAP DAP DAP. .. .. .'},\n",
       " {'original': 'Masuk lagi macai BN PN! Bagi view naik 10k! ',\n",
       "  'text': 'Masuk lagi macai BARISAN NASIONAL PERIKATAN NASIONAL! Bagi view naik 10k!'},\n",
       " {'original': 'Askum datuk sri..kami rindu datuk sri...datuk Sri yg terbaik di hati rakyat Malaysia',\n",
       "  'text': 'Askum datuk sri. kami rindu datuk sri. . datuk Sri yang terbaik di hati rakyat Malaysia'},\n",
       " {'original': 'Puteri Pilihanmu boleh cyg....cantik view blkang.... UP!!!!UP!!!!! ',\n",
       "  'text': 'Puteri Pilihanmu boleh cyg. .. cantik view belakang. .. . NAIK!!!! NAIK!!!!!'},\n",
       " {'original': 'Bagan serai tanda tanda awal nama nama besar akan berkubur',\n",
       "  'text': 'Bagan serai tanda tanda awal nama nama besar akan berkubur'},\n",
       " {'original': 'Mohd Amirul Radzuan\\nBakal buat, setiap Jumaat ke?',\n",
       "  'text': 'Mohd Amirul Radzuan Bakal buat, setiap Jumaat ke ?'},\n",
       " {'original': 'Well the calling from Trukey, DSAI pro english',\n",
       "  'text': 'Maklumlah the calling from Trukey, DSAI pro english'},\n",
       " {'original': 'Jika kita ade 10 org mcm Rafizi Ramli kita bleh tawan dunia',\n",
       "  'text': 'Jika kita ada 10 orang macam Rafizi Ramli kita boleh tawan dunia'},\n",
       " {'original': 'Sengsara 22bulan', 'text': 'Sengsara 22bulan'},\n",
       " {'original': 'Isi lah lain.. ni bg HR je kan',\n",
       "  'text': 'Isi lah lain. . ini bagi HARI sahaja kan'},\n",
       " {'original': 'Kiteeeeee tipuuuu', 'text': 'Kiteeeeee tipu'},\n",
       " {'original': 'Setiap tempat DSAI disambut hebat! ',\n",
       "  'text': 'Setiap tempat DSAI disambut hebat!'},\n",
       " {'original': 'Agak2 Peluang PH Kali Ni Brp %. ?\\nBN kali ni nmpk betul2 Confident',\n",
       "  'text': 'Agak2 Peluang PAKATAN HARAPAN Kali Ini Brp %. ? BARISAN NASIONAL kali ini nampak betul-betul Confident'},\n",
       " {'original': 'Kmaey Koo there is an admin who takes care of his fb page..may be monitored by his daughter',\n",
       "  'text': 'Kmaey Koo there is an admin who takes care of his facebook page. may jadi monitored dengan his daughter'},\n",
       " {'original': 'Ayam mogok tk mahu bertelor',\n",
       "  'text': 'Ayam mogok tak mahu bertelor'},\n",
       " {'original': 'Pilih merah Pilih PAKATAN HARAPAN ',\n",
       "  'text': 'Pilih merah Pilih PAKATAN HARAPAN'},\n",
       " {'original': 'PN bersih??!!!??\\n\\nPeja lost at tambun.. sedia lah..\\nNo wonder saat akhir PN meeting uturn nak masuk kerajaan Perpaduan.\\nTapi kerajaan PM10 dah cakap, SPRM dan Makamah akan bebas tanpa kira siapa.\\nDan sekarang plan nak back door lagi seperti ramalan ustaz Zawawi.',\n",
       "  'text': 'PN bersih ? ?!!! ? ? Peja lost pada tambun. . sedia lah. . No wonder saat akhir PN meeting uturn nak masuk kerajaan Perpaduan. Tetapi kerajaan PM10 dah cakap, SPRM dan Makamah akan bebas tanpa kira siapa. Dan sekarang plan nak back door lagi seperti ramalan ustaz Zawawi .'},\n",
       " {'original': 'Niii nak Ceramah keee nak meluahkan perasaan... Banyakan bersabar wak... Waalahualam...',\n",
       "  'text': 'Niii nak Ceramah kee nak meluahkan perasaan. .. Banyakan bersabar wak. .. Waalahualam. . .'},\n",
       " {'original': 'Ini baru betul Kabinet', 'text': 'Ini baru betul Kabinet'},\n",
       " {'original': 'Abdul Rani Kulup Fans Official masuk PAS la ayh kurang2 kalah pon ad org undi..xd la dapat telur ayam',\n",
       "  'text': 'Abdul Rani Kulup Fan Official masuk PAS lah ayh kurang-kurang kalah pun ad orang undi. tak di lah dapat telur ayam'},\n",
       " {'original': 'Pelawak ph ke ni', 'text': 'Pelawak pakatan harapan ke ini'},\n",
       " {'original': 'Umno ada dlam krajaan msa 600 billion ',\n",
       "  'text': 'Umno ada dalam krajaan masa 600 billion'},\n",
       " {'original': 'BN TERBAIK ', 'text': 'BARISAN NASIONAL TERBAIK'},\n",
       " {'original': 'Tak pernah lg rafizi memfitnah dan di kenakan saman sbb memfitnah... apa yg diberitahu adelah perkara yg betul... sila jawap laaa siapa yg berkenaan',\n",
       "  'text': 'Tidak pernah lagi rafizi memfitnah dan di kenakan saman sebab memfitnah. .. apa yang diberitahu adelah perkara yang betul. .. sila jawap lah siapa yang berkenaan'},\n",
       " {'original': 'bagi rafizi plak..masa singkat dah ni',\n",
       "  'text': 'bagi rafizi pula. masa singkat dah ini'},\n",
       " {'original': 'Dahlan Khalib kesian kat macai yang buat tak nampak sebab buta',\n",
       "  'text': 'Dahlan Khalib kesian kat macai yang buat tidak nampak sebab buta'},\n",
       " {'original': 'Rafizi ohhhh rafizi...\\n\\nkamu ada reputasi buruk sebenarnya.\\n\\nkamu fitnah Almarhum TSKI. Fitnah ini kamu bawa ke hadapan Almarhum TGNA supaya PAS tarik sokongan kpd TSKI. Kamu mahu kerusi MB dikosongkan. TGNA tolak \"bukti\" yg kamu kemukakan. PAS kekal menyokong TSKI sbg MB. PKR pecat TSKI semata2 mahukan Wan Azizah jadi MB.\\n\\nkamu sokong kezaliman Anwar terhadap TSKI.\\n\\nSekarang kamu FITNAH pula Timb Presiden kami UTITM?\\n\\nUTITM dah jawab,. sila lapor SPRM beserta bukti.\\n\\nmentang2 kamu tahu rakyat Malaysia baca tajuk shj, kamu ambil kesempatan nak memperbodohkan rakyat??',\n",
       "  'text': 'Rafizi oh rafizi. .. kamu ada reputasi buruk sebenarnya. kamu fitnah Almarhum TSKI. Fitnah ini kamu bawa ke hadapan Almarhum TGNA supaya PAS tarik sokongan kepada TSKI. Kamu mahu kerusi MB dikosongkan. TGNA tolak \" bukti \" yang kamu kemukakan. PAS kekal menyokong TSKI sebagai MB. PKR pecat TSKI semata-semata mahukan Wan Azizah jadi MB. kamu sokong kezaliman Anwar terhadap TSKI. Sekarang kamu FITNAH pula Timb Presiden kami UTITM ? UTITM dah jawab,. sila lapor SPRM beserta bukti. mentang-mentang kamu tahu rakyat Malaysia baca tajuk shj, kamu ambil kesempatan nak memperbodohkan rakyat ? ?'},\n",
       " {'original': 'Ada tak soal selidik sampai di kawasan pendalaman. Soal selidik hanya di bandaraya memang pun pengundi tegar. Di bandaraya walaupun majority 100k tapi masih dikira 1 kerusi',\n",
       "  'text': 'Ada tidak soal selidik sampai di kawasan pendalaman. Soal selidik hanya di bandaraya memang pun pengundi tegar. Di bandaraya walaupun majority 100k tetapi masih dikira 1 kerusi'},\n",
       " {'original': 'Technicain must into the sound system',\n",
       "  'text': 'Technicain must into the sound system'},\n",
       " {'original': \"Irone Ikhwan Ikhmal ostat yg tak betul. Agama tu betul dah, ada garis panduan dan do and don't.\",\n",
       "  'text': 'Irone Ikhwan Ikhmal ostat yang tidak betul. Agama itu betul dah, ada garis panduan dan do and do not .'},\n",
       " {'original': 'Sangkutttt. Aura melimpah sgt  adoiii',\n",
       "  'text': 'Sangkutttt. Aura melimpah sangat aduh'},\n",
       " {'original': 'first time dengar Adam berucap..saya bagi 10/10..bagus ucapan dia',\n",
       "  'text': 'first time dengar Adam berucap. saya bagi 10 / 10. bagus ucapan dia'},\n",
       " {'original': 'Bagus ceritanya', 'text': 'Bagus ceritanya'},\n",
       " {'original': 'Muhamad Hanif xpayah bang..baik bayar Kat zoo dpt nengok panda..semengah\\nsikit...comel pon comel..nengok Dak lop nie..ngeri tdo malam',\n",
       "  'text': 'Muhamad Hanif tak payah bang. baik bayar Di zoo dapat menengok panda. . semengah sikit. . comel pun comel. menengok Indak lop ini. ngeri tdo malam'},\n",
       " {'original': 'Congrats Gombak well deserved win.. serve that frog to your face Azmin',\n",
       "  'text': 'Congrats Gombak well deserved win. . serve that frog kepada your face Azmin'},\n",
       " {'original': 'Mohd Zamri woiii koyak ka nk bodo kan org jenis xreti berkawan ngn org hang ni sat g tunjuk kat mak paknhang komen aku ni ngadu kat depa',\n",
       "  'text': 'Mohd Zamri woi koyak ke nak bodoh kan orang jenis tak reti berkawan dengan orang hang ini sat pergi tunjuk kat mak paknhang komen aku ini mengadu kat depa'},\n",
       " {'original': 'Pemimpin bn/ pn cuma tahu buat biznes sakau duit jer',\n",
       "  'text': 'Pemimpin barisan nasional / pn cuma tahu buat biznes sakau duit sahaja'},\n",
       " {'original': 'Declare je yang. Sbb x DECLRE satu Hal kena denda x submit form.kesalahan PERTAMA 200',\n",
       "  'text': 'Declare sahaja yang. Sebab tak DECLRE satu Hal kena denda tak submit form. kesalahan PERTAMA 200'},\n",
       " {'original': 'Mantap 30K', 'text': 'Mantap 30K'},\n",
       " {'original': 'sudah jatuh lagi mau jadi balik tolak dia',\n",
       "  'text': 'sudah jatuh lagi mahu jadi balik tolak dia'},\n",
       " {'original': 'JDT bagi Rolls-Royce tak',\n",
       "  'text': 'JDT bagi Rolls-Royce tidak'},\n",
       " {'original': 'Simpan resit Zakat\\nByr pd Pusat Zakat ye..bukan niat Zakat tp xde resit\\nNnti LHDN marah xde bukti',\n",
       "  'text': 'Simpan resit Zakat Bayar pada Pusat Zakat ya. bukan niat Zakat tetapi tidak ada resit Nanti LHDN marah tidak ada bukti'},\n",
       " {'original': 'Dsai perdana menteri kita.. Penyamun 2 semua bn mic mca, pn pas kna masa dlm penjara',\n",
       "  'text': 'Dsai perdana menteri kita. . Penyamun 2 semua barisan nasional mic mca, pn pas kna masa dalam penjara'},\n",
       " {'original': 'Shahyizat Aziz ...\\nBukan tumpuan ye... tapi CACIAN!!!',\n",
       "  'text': 'Shahyizat Aziz. .. Bukan tumpuan ya. .. tetapi CACIAN!!!'},\n",
       " {'original': 'Ameira Kamal ..', 'text': 'Ameira Kamal. .'},\n",
       " {'original': 'Nazlan Mohamad mlm nak tdo da bayang2 kot dpt tahu ',\n",
       "  'text': 'Nazlan Mohamad mlm nak tdo dah bayang-bayang mungkin dapat tahu'},\n",
       " {'original': '22 bulan la Bossku Rosmah masuk penjara',\n",
       "  'text': '22 bulan lah Bossku Rosmah masuk penjara'},\n",
       " {'original': 'anjing dap ', 'text': 'anjing dap'},\n",
       " {'original': 'Follower milestone\\nWellington Sabang',\n",
       "  'text': 'Follower milestone Wellington Sabang'},\n",
       " {'original': 'Mohd Hafiz Kamari korang lagi sembang... dulu dari kami kauorg jilat tahi dap...',\n",
       "  'text': 'Mohd Hafiz Kamari kamu semua lagi sembang. .. dahulu dari kami kauorg jilat tahi dap. . .'},\n",
       " {'original': 'YDPA #Agung atau #PM atau pemimpin Amno tentukan tarikh pilihan raya umum akan datang?\\nPM dan Agung senyap tetapi pemimpin Amno mengumumkan tarikh pilihan raya akan datang, jika mereka akan melakukan ini maka mengapa kita memerlukan Agung dan PM?\\nAmno derhaka pada Istana Negara',\n",
       "  'text': 'YDPA #Agung atau #PM atau pemimpin Amno tentukan tarikh pilihan raya umum akan datang ? PM dan Agung senyap tetapi pemimpin Amno mengumumkan tarikh pilihan raya akan datang, jika mereka akan melakukan ini maka mengapa kita memerlukan Agung dan PM ? Amno derhaka pada Istana Negara'},\n",
       " {'original': 'Dapat email besday', 'text': 'Dapat email besday'},\n",
       " {'original': 'Kent chin kuat', 'text': 'Kent chin kuat'},\n",
       " {'original': 'Kantoi pula aq ', 'text': 'Terbongkar Rahsia pula aku'},\n",
       " {'original': 'Cina Kelantan masok pas 30tahun ok ja',\n",
       "  'text': 'Cina Kelantan masok pas 30tahun ok sahaja'},\n",
       " {'original': 'Saya bangga sakau BN dh minat ceramah PH',\n",
       "  'text': 'Saya bangga sakau BARISAN NASIONAL dah minat ceramah PAKATAN HARAPAN'},\n",
       " {'original': 'ramai sbb ramai artis mlm ni haha',\n",
       "  'text': 'ramai sebab ramai artis mlm ini haha'},\n",
       " {'original': 'KWSP bukan penyelesaian yang bijak. Itu tabungan persaraan tuan puan.',\n",
       "  'text': 'KWSP bukan penyelesaian yang bijak. Itu tabungan persaraan tuan puan .'},\n",
       " {'original': 'Penalti anda, keutamaan mereka.',\n",
       "  'text': 'Penalti anda, keutamaan mereka .'},\n",
       " {'original': 'dokumen macam ni, mana2 orang boleh je buat.. dia just klik Microsoft Word, taip, print screen, share online..',\n",
       "  'text': 'dokumen macam ini, mana-mana orang boleh sahaja buat. . dia just klik Microsoft Word, taip, print screen, share online. .'},\n",
       " {'original': 'Alhamdulillah ', 'text': 'Alhamdulillah'},\n",
       " {'original': 'Mrhunter Mrslayer', 'text': 'Mrhunter Mrslayer'},\n",
       " {'original': 'Shahizul Shahimi ada jugak..sampai pdg serai noohhh..welcome',\n",
       "  'text': 'Shahizul Shahimi ada juga. sampai pdg serai noohh. . welcome'},\n",
       " {'original': 'w - Dan\\ndh - apabila\\nlkwkb - bintang-bintang\\nntthrt - jatuh bertaburan',\n",
       "  'text': 'w - Dan dah - apabila lkwkb - bintang-bintang ntthrt - jatuh bertaburan'},\n",
       " {'original': 'Hebat 11k', 'text': 'Hebat 11k'},\n",
       " {'original': 'Mudah sahaja\\n\\nBuat la akaun tiap bulan duit keluar dn.masuk\\nSya pon trader juga.\\n\\nCara saya begini\\n\\n1) buka akaun berasingan. Akaun khas ntuk terima Income dri trade.\\nWithdraw la bnyak kali takpe\\n\\n2) tetap kan tarikh terima gaji.\\nDari akaun income hasil trade tadi sebulan sekali msok dlm akaun peribadi sebagai Ambilan gaji.\\n\\nSupaya statement cantek. Sebulan sekali msok akaun kta ntuk belanja.\\n\\n3) buat laporan akaun biasa sahaja\\nDuit masuk\\nDuit keluar.\\n\\nPrint kan simpan dlm fail.\\n\\n4) bayar zakat dahulu 2.5%\\n\\n5) bayar Tax secara PCB. Potongan cukai berkala. Maksudnya . Income tu kta bayar tax tiap bulan.jdi takpayah bayar tahunan. Beban pon ringan\\n. Hasil bayar tax tadi buat pengecualian cukai . \\n\\nBegitu sahaja',\n",
       "  'text': 'Mudah sahaja Buat lah akaun tiap bulan duit keluar dn.masuk Saya pun trader juga. Cara saya begini 1) buka akaun berasingan. Akaun khas untuk terima Income dari trade. Withdraw lah banyak kali tidak mengapa 2) tetap kan tarikh terima gaji. Dari akaun income hasil trade tadi sebulan sekali msok dalam akaun peribadi sebagai Ambilan gaji. Supaya statement cantek. Sebulan sekali msok akaun kita untuk belanja. 3) buat laporan akaun biasa sahaja Duit masuk Duit keluar. Print kan simpan dalam fail. 4) bayar zakat dahulu 2.5% 5) bayar Tax secara PCB. Potongan cukai berkala. Maksudnya. Income itu kita bayar tax tiap bulan.jdi takpayah bayar tahunan. Beban pun ringan. Hasil bayar tax tadi buat pengecualian cukai. Begitu sahaja'},\n",
       " {'original': 'Maharaja lawak bila ni', 'text': 'Maharaja lawak bila ini'},\n",
       " {'original': 'Terbaikkk rafizi..pandan', 'text': 'Terbaikkk rafizi. pandan'},\n",
       " {'original': 'BN GPS', 'text': 'BARISAN NASIONAL GPS'},\n",
       " {'original': 'Sy pun geng 2hb..lejar msih 2020',\n",
       "  'text': 'Sy pun geng 2hb. lejar masih 2020'},\n",
       " {'original': 'Hariz Othman setuju sangat2',\n",
       "  'text': 'Hariz Othman setuju sangat-sangat'},\n",
       " {'original': 'Macai dgn walaun beratur dpn sekali nak ambil 30 hinggit tu..',\n",
       "  'text': 'Macai dengan walaun beratur dpn sekali nak ambil 30 hinggit itu. .'},\n",
       " {'original': 'Ikut PRN Sabah, PKR bakal dapat kosong',\n",
       "  'text': 'Ikut PRN Sabah, PKR bakal dapat kosong'},\n",
       " {'original': 'hanya yg berani berkata benar',\n",
       "  'text': 'hanya yang berani berkata benar'},\n",
       " {'original': 'Kiki Mia ya stuju Itachi Uchiha',\n",
       "  'text': 'Kiki Mia ya setuju Itachi Uchiha'},\n",
       " {'original': 'Esok tak ada hujan lebat kerana kita boleh',\n",
       "  'text': 'Esok tidak ada hujan lebat kerana kita boleh'},\n",
       " {'original': 'Punah harapan Kanda', 'text': 'Punah harapan Kanda'},\n",
       " {'original': 'Maaf setiawangsa xmau dah ph...tiada ape2 perubahan yg berlaku dkt setiawangsa',\n",
       "  'text': 'Maaf Setiawangsa tak mahu dah pakatan harapan. . tiada ape-ape perubahan yang berlaku dekat Setiawangsa'},\n",
       " {'original': 'Dia nak perbicaraan yang adil dan telus... Itu saja...',\n",
       "  'text': 'Dia nak perbicaraan yang adil dan telus. .. Itu sahaja. . .'},\n",
       " {'original': 'Kesian askar', 'text': 'Kesian askar'},\n",
       " {'original': 'KENCING apa lagi tu Fizi ',\n",
       "  'text': 'KENCING apa lagi itu Fizi'}]"
      ]
     },
     "execution_count": 17,
     "metadata": {},
     "output_type": "execute_result"
    }
   ],
   "source": [
    "results[-100:]"
   ]
  },
  {
   "cell_type": "code",
   "execution_count": 18,
   "metadata": {},
   "outputs": [],
   "source": [
    "with open('facebook-data-v2.jsonl', 'w') as fopen:\n",
    "    for r in results:\n",
    "        fopen.write(f'{json.dumps(r)}\\n')"
   ]
  },
  {
   "cell_type": "code",
   "execution_count": 19,
   "metadata": {},
   "outputs": [],
   "source": [
    "!split -l 50000 -d --additional-suffix=.splitted facebook-data-v2.jsonl facebook-data-v2.jsonl"
   ]
  }
 ],
 "metadata": {
  "kernelspec": {
   "display_name": "Python 3 (ipykernel)",
   "language": "python",
   "name": "python3"
  },
  "language_info": {
   "codemirror_mode": {
    "name": "ipython",
    "version": 3
   },
   "file_extension": ".py",
   "mimetype": "text/x-python",
   "name": "python",
   "nbconvert_exporter": "python",
   "pygments_lexer": "ipython3",
   "version": "3.8.10"
  }
 },
 "nbformat": 4,
 "nbformat_minor": 4
}
