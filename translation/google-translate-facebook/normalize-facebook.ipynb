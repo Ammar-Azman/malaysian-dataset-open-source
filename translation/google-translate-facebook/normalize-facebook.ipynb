{
 "cells": [
  {
   "cell_type": "code",
   "execution_count": 1,
   "metadata": {},
   "outputs": [],
   "source": [
    "import os\n",
    "\n",
    "os.environ['CUDA_VISIBLE_DEVICES'] = ''"
   ]
  },
  {
   "cell_type": "code",
   "execution_count": 2,
   "metadata": {},
   "outputs": [],
   "source": [
    "import json\n",
    "\n",
    "comments = []\n",
    "posts = []\n",
    "for f in ['najib-razak.json', 'anwar-ibrahim.json', 'sanusi.json', 'pakatan-harapan.json',\n",
    "         'rafizi-ramli.json', 'mymgag.json', 'Ayahanda-Abdul-Rani-Kulup-1753773051575006.json',\n",
    "         'groups-1483603055330698.json', 'groups-392252305221999.json', 'groups-1098480360644592.json',\n",
    "         'groups-2025865557592801.json']:\n",
    "    with open(f) as fopen:\n",
    "        data = json.load(fopen)\n",
    "    \n",
    "    for r in data:\n",
    "        if 'groups-' not in f:\n",
    "            posts.append(r['post_text'])\n",
    "        for c in r['comments_full']:\n",
    "            t = c['comment_text']\n",
    "            if 1 < len(t.split()) < 300:\n",
    "                comments.append(t)\n",
    "            for c_ in c['replies']:\n",
    "                t = c_['comment_text']\n",
    "                if 1 < len(t.split()) < 300:\n",
    "                    comments.append(t)"
   ]
  },
  {
   "cell_type": "code",
   "execution_count": 3,
   "metadata": {
    "scrolled": true
   },
   "outputs": [
    {
     "data": {
      "text/plain": [
       "(1255, 263917)"
      ]
     },
     "execution_count": 3,
     "metadata": {},
     "output_type": "execute_result"
    }
   ],
   "source": [
    "len(posts), len(comments)"
   ]
  },
  {
   "cell_type": "code",
   "execution_count": 4,
   "metadata": {},
   "outputs": [
    {
     "data": {
      "text/plain": [
       "199590"
      ]
     },
     "execution_count": 4,
     "metadata": {},
     "output_type": "execute_result"
    }
   ],
   "source": [
    "comments = list(set(comments))\n",
    "len(comments)"
   ]
  },
  {
   "cell_type": "code",
   "execution_count": 5,
   "metadata": {},
   "outputs": [],
   "source": [
    "import malaya\n",
    "from malaya.text.function import maxlen_slide"
   ]
  },
  {
   "cell_type": "code",
   "execution_count": 6,
   "metadata": {},
   "outputs": [],
   "source": [
    "lm = malaya.language_model.kenlm(model = 'bahasa-wiki-news')"
   ]
  },
  {
   "cell_type": "code",
   "execution_count": 7,
   "metadata": {},
   "outputs": [
    {
     "name": "stderr",
     "output_type": "stream",
     "text": [
      "2022-12-09 15:27:34.053144: I tensorflow/core/platform/cpu_feature_guard.cc:142] This TensorFlow binary is optimized with oneAPI Deep Neural Network Library (oneDNN) to use the following CPU instructions in performance-critical operations:  AVX2 FMA\n",
      "To enable them in other operations, rebuild TensorFlow with the appropriate compiler flags.\n",
      "2022-12-09 15:27:34.057547: E tensorflow/stream_executor/cuda/cuda_driver.cc:271] failed call to cuInit: CUDA_ERROR_NO_DEVICE: no CUDA-capable device is detected\n",
      "2022-12-09 15:27:34.057566: I tensorflow/stream_executor/cuda/cuda_diagnostics.cc:169] retrieving CUDA diagnostic information for host: husein-MS-7D31\n",
      "2022-12-09 15:27:34.057569: I tensorflow/stream_executor/cuda/cuda_diagnostics.cc:176] hostname: husein-MS-7D31\n",
      "2022-12-09 15:27:34.057641: I tensorflow/stream_executor/cuda/cuda_diagnostics.cc:200] libcuda reported version is: Not found: was unable to find libcuda.so DSO loaded into this program\n",
      "2022-12-09 15:27:34.057662: I tensorflow/stream_executor/cuda/cuda_diagnostics.cc:204] kernel reported version is: 470.161.3\n"
     ]
    }
   ],
   "source": [
    "stemmer = malaya.stem.deep_model(model = 'noisy')"
   ]
  },
  {
   "cell_type": "code",
   "execution_count": 8,
   "metadata": {},
   "outputs": [],
   "source": [
    "corrector = malaya.spelling_correction.probability.load(language_model = lm, replace_augmentation = True,\n",
    "                                                       stemmer = stemmer, maxlen = 12, minlen = 2)"
   ]
  },
  {
   "cell_type": "code",
   "execution_count": 9,
   "metadata": {},
   "outputs": [],
   "source": [
    "import re\n",
    "\n",
    "def fix_spacing_punct(string):\n",
    "    string = string.replace(' , ', ', ').replace(' !', '!').replace(' . ', '. ').replace('( ', '(') \\\n",
    "    .replace(' )', ')')\n",
    "    return re.sub(r'[ ]+', ' ', string).strip()"
   ]
  },
  {
   "cell_type": "code",
   "execution_count": 10,
   "metadata": {},
   "outputs": [
    {
     "data": {
      "text/plain": [
       "'Kalau UMNOBN Berkuasa , petrol tentu tak da subsidi....'"
      ]
     },
     "execution_count": 10,
     "metadata": {},
     "output_type": "execute_result"
    }
   ],
   "source": [
    "comments[0]"
   ]
  },
  {
   "cell_type": "code",
   "execution_count": 11,
   "metadata": {},
   "outputs": [],
   "source": [
    "normalizer = malaya.normalize.normalizer(corrector, stemmer, date = False)"
   ]
  },
  {
   "cell_type": "code",
   "execution_count": 12,
   "metadata": {},
   "outputs": [],
   "source": [
    "segmenter = malaya.segmentation.huggingface()\n",
    "segmenter_func = lambda x: segmenter.generate([x], max_length = 256)[0]"
   ]
  },
  {
   "cell_type": "code",
   "execution_count": 13,
   "metadata": {},
   "outputs": [],
   "source": [
    "text_scorer = lambda x: lm.score(x)"
   ]
  },
  {
   "cell_type": "code",
   "execution_count": 14,
   "metadata": {
    "scrolled": false
   },
   "outputs": [
    {
     "data": {
      "text/plain": [
       "'Denga kata YB rebah bing marin, semoga YB xdak apa2 yg jadi laa,'"
      ]
     },
     "execution_count": 14,
     "metadata": {},
     "output_type": "execute_result"
    }
   ],
   "source": [
    "from unidecode import unidecode\n",
    "\n",
    "unidecode('Denga kata YB rebah bing marin, semoga YB xdak apa² yg jadi laa,')"
   ]
  },
  {
   "cell_type": "code",
   "execution_count": 15,
   "metadata": {},
   "outputs": [],
   "source": [
    "t = 'Tahniah Pm.10'\n",
    "t = unidecode(t)"
   ]
  },
  {
   "cell_type": "code",
   "execution_count": 16,
   "metadata": {},
   "outputs": [
    {
     "data": {
      "text/plain": [
       "['Tahniah', 'Pm', '.', '10']"
      ]
     },
     "execution_count": 16,
     "metadata": {},
     "output_type": "execute_result"
    }
   ],
   "source": [
    "normalizer._tokenizer(t)"
   ]
  },
  {
   "cell_type": "code",
   "execution_count": 17,
   "metadata": {},
   "outputs": [
    {
     "data": {
      "text/plain": [
       "'Tahniah Pm . 10'"
      ]
     },
     "execution_count": 17,
     "metadata": {},
     "output_type": "execute_result"
    }
   ],
   "source": [
    "normalizer.normalize(\n",
    "            t, normalize_hingga = False, normalize_cardinal = False,\n",
    "            normalize_ordinal = False, normalize_pada_hari_bulan = False,\n",
    "            normalize_fraction = False, normalize_money = False, normalize_date = False,\n",
    "            normalize_time = False, normalize_ic = False,\n",
    "            normalize_units = False,\n",
    "            normalize_url = False, normalize_percent=False, normalize_telephone = False,\n",
    "            segmenter = segmenter_func,\n",
    "            not_a_word_threshold = 1e-9,\n",
    "        )['normalize']"
   ]
  },
  {
   "cell_type": "code",
   "execution_count": 18,
   "metadata": {},
   "outputs": [],
   "source": [
    "# true_case = malaya.true_case.huggingface()"
   ]
  },
  {
   "cell_type": "code",
   "execution_count": 19,
   "metadata": {},
   "outputs": [],
   "source": [
    "# t_ = true_case.generate([t], max_length = 512)[0]\n",
    "# t_"
   ]
  },
  {
   "cell_type": "code",
   "execution_count": 20,
   "metadata": {},
   "outputs": [
    {
     "name": "stderr",
     "output_type": "stream",
     "text": [
      "100%|███████████████████████████████████| 199590/199590 [51:14<00:00, 64.91it/s]\n"
     ]
    }
   ],
   "source": [
    "from tqdm import tqdm\n",
    "\n",
    "results = []\n",
    "already_in = set()\n",
    "for t in tqdm(comments):\n",
    "\n",
    "    if t.lower() in already_in:\n",
    "        continue\n",
    "\n",
    "    if not len(t):\n",
    "        continue\n",
    "        \n",
    "    t = unidecode(t)\n",
    "\n",
    "    try:\n",
    "        normalized = normalizer.normalize(\n",
    "            t, normalize_hingga = False, normalize_cardinal = False,\n",
    "            normalize_ordinal = False, normalize_pada_hari_bulan = False,\n",
    "            normalize_fraction = False, normalize_money = False, normalize_date = False,\n",
    "            normalize_time = False, normalize_ic = False,\n",
    "            normalize_units = False,\n",
    "            normalize_url = False, normalize_percent=False, normalize_telephone = False,\n",
    "            text_scorer = text_scorer, normalize_elongated = True,\n",
    "            not_a_word_threshold = 1e-9,\n",
    "        )['normalize']\n",
    "\n",
    "        normalized = fix_spacing_punct(normalized)\n",
    "\n",
    "        \n",
    "        already_in.add(t.lower())\n",
    "    except Exception as e:\n",
    "        print(e)\n",
    "        print(t)\n",
    "        \n",
    "        normalized = t\n",
    "    \n",
    "    results.append({'original': t, 'text': normalized})"
   ]
  },
  {
   "cell_type": "code",
   "execution_count": 21,
   "metadata": {},
   "outputs": [
    {
     "data": {
      "text/plain": [
       "195959"
      ]
     },
     "execution_count": 21,
     "metadata": {},
     "output_type": "execute_result"
    }
   ],
   "source": [
    "len(results)"
   ]
  },
  {
   "cell_type": "code",
   "execution_count": 22,
   "metadata": {
    "scrolled": true
   },
   "outputs": [
    {
     "data": {
      "text/plain": [
       "[{'original': 'Syukur alhamdulillah.\\n\\nBEST. Terbaik.\\n\\nTakbir!!!!!!!!!\\n!',\n",
       "  'text': 'Syukur alhamdulillah. Best. terbaik. takbir!!!!!!!!!!'},\n",
       " {'original': 'Diabolis Interium mancacai dap',\n",
       "  'text': 'Diabolis Interium mancacai dap'},\n",
       " {'original': 'Kita sama2 sokong pemimpin yang adil, jujur, tidak rasuah dan pandai mentadbir',\n",
       "  'text': 'Kita sama-sama sokong pemimpin yang adil, jujur, tidak rasuah dan pandai mentadbir'},\n",
       " {'original': 'Penjelasan mcm ni, walaun xfaham lg xtau la',\n",
       "  'text': 'Penjelasan macam ini, walapun tak faham lagi tak tahu lah'},\n",
       " {'original': 'Semoga dipermudahkan..\\nterbaik',\n",
       "  'text': 'Semoga dipermudahkan. . terbaik'},\n",
       " {'original': 'Satu keluarga', 'text': 'Satu keluarga'},\n",
       " {'original': 'Nak terkencing hjn2 ni',\n",
       "  'text': 'Nak terkencing hujan-hujan ini'},\n",
       " {'original': 'Salute rafizi', 'text': 'Sanjung rafizi'},\n",
       " {'original': 'Sound good thank you', 'text': 'Sound good thank you'},\n",
       " {'original': 'Terbaik terus bw perubahan',\n",
       "  'text': 'terbaik terus bawa perubahan'},\n",
       " {'original': 'Rakyat sedang menunggu ketibaan pm ke 10. Terbaik dsai',\n",
       "  'text': 'Rakyat sedang menunggu ketibaan am ke 10. terbaik usai'},\n",
       " {'original': 'Biar la yb. Bnda dh selesai. Kta fokus khidmat kpd rakyat plak naa. Belum rezeki kita lagi. Bgi pluang depa buat kerja dlu. Klau ada yg tak kena, kita hentam berjemaah.. Jgn lupa. Kta pon ada amanah di kerusi2 yg kita menang.. Jdi, laksanakan amanah sebaik2 nya. Ada rezeki pru dpn kta tawan satu malaysia..',\n",
       "  'text': 'Biar lah yubi Bunda dah selesai. Kita fokus khidmat kepada rakyat pula naa. belum rezeki kita lagi. Bagi peluang depa buat kerja dahulu. Kalau ada yang tidak kena, kita hentam berjemaah. . Jangan lupa. Kita pun ada amanah di kerusi-kerusi yang kita menang. . Jadi, laksanakan amanah sebaik-baik nya. ada rezeki pru depan kita tawan satu malaysia. .'},\n",
       " {'original': 'Dasar kecing berdiri beramai',\n",
       "  'text': 'Dasar kencing berdiri bersamai'},\n",
       " {'original': 'Reza Majid tak fikir cheras. Haha. Cheras KL pun ada, Cheras selangor pun ade. Border die pakai jalan raya je kat area bukit anggerik. Sama dengan ampang. Hahah',\n",
       "  'text': 'Reza Majid tidak fikir cheras. haha. Cheras KUALA LUMPUR pun ada, Cheras Selangor pun ada. Border die pakai jalan raya sahaja kat area bukit anggerik. sama dengan ampang. haha'},\n",
       " {'original': 'X da gambar la', 'text': 'Tak dah gambar lah'},\n",
       " {'original': 'Kita boleh!!!...kinc\\ning rkyt lgi ',\n",
       "  'text': 'Kita boleh!!!. .. kini ing rakyat lagi'},\n",
       " {'original': 'Adriana Shirlin', 'text': 'Adriana Shirlin'},\n",
       " {'original': '#JanjiTakMenyamu\\nn', 'text': '#JanjiTakMenyamu dan'},\n",
       " {'original': 'Waalaikumussala\\nm. Mana abg mat sabu',\n",
       "  'text': 'Waalaikumussala am. mana abang mat satu'},\n",
       " {'original': 'Terbaik Rafizi... hidup barisan nasional',\n",
       "  'text': 'Terbaik Rafizi. .. hidup barisan nasional'},\n",
       " {'original': 'Kedah terbaik dlm pimpinan pas..track rekod zero rasuah..',\n",
       "  'text': 'Kedah terbaik dalam pimpinan pas. track rekod zero rasuah. .'},\n",
       " {'original': 'Najib boleh bertanding kat dlm penjara UTK jadi ketua banduan ',\n",
       "  'text': 'Najib boleh bertanding kat dalam penjara UNTUK jadi ketua banduan'},\n",
       " {'original': 'Muda joint PH..Ape hal bro???',\n",
       "  'text': 'Muda joint PAKATAN HARAPAN. . Apa hal abang ? ? ?'},\n",
       " {'original': 'Fizie Joe otw...', 'text': 'Fizie Joe taw. . .'},\n",
       " {'original': 'kereta boleh byar 500,mak ayah 100 saja kaa??tu hidup susah.pakai koboi tanah mcm aku ni,tkkalut,iswa\\nra saja..',\n",
       "  'text': 'kereta boleh bayar 500, mak ayah 100 sahaja kak ? ? itu hidup susah.pakai koboi tanah macam aku ini, tkkalut, siswa ia sahaja. .'},\n",
       " {'original': 'Ni yg ustaz wadi kata pemimpin perlu ada iman dan cekap mentadbir. Tahniah dato seri',\n",
       "  'text': 'Ini yang ustaz wadi kata pemimpin perlu ada iman dan cekap mentadbir. tahniah dato seri'},\n",
       " {'original': 'Anta di mana', 'text': 'Anta di mana'},\n",
       " {'original': 'Tunjuk la bape ramai yg tngok ceramah tu..mcm xramai jer',\n",
       "  'text': 'Tunjuk lah bawa perasaan ramai yang tengok ceramah itu. macam tak ramai sahaja'},\n",
       " {'original': 'ADA YANG TAK FAHAM BAHAS KEBANGSAAN KE SEHINGGA TERPAKSA MENGGUNAKAN BAHASA MANDRIN?     ',\n",
       "  'text': 'Ada YANG TIDAK faham Bahas Kebangsaan KE sehingga terpaksa menggunakan bahasa Mandrin ?'},\n",
       " {'original': 'Ayuh masyarakat padang Serai,UNDI PH untuk kesejahteraan masyarat padang serai',\n",
       "  'text': 'Ayuh masyarakat padang Serai, undi PAKATAN HARAPAN untuk kesejahteraan masyarat padang serai'},\n",
       " {'original': 'RAKYAT B40 MASIH MENGHARAPKAN\\n\\nKWSP',\n",
       "  'text': 'Rakyat B40 masih mengharapkan KWSP'},\n",
       " {'original': 'Abdul Mutolib Md Khir bina premis perniagaan dgn kadar sewa yg murah utk pastikan kadar harga jualan yg murah urk daya tarikan pelancung.... Klau tak.. ke danok la jawabya',\n",
       "  'text': 'Abdul Mutolib Md Khir bina premis perniagaan dengan kadar sewa yang murah untuk pastikan kadar harga jualan yang murah utk daya tarikan pelancung. .. . Kalau tidak. . ke donk lah jawabya'},\n",
       " {'original': 'Ahmad Fahmi kan...ha2\\nCaci maki fitnah..',\n",
       "  'text': 'Ahmad Fahmi kan. .. ia-ia caci maki fitnah. .'},\n",
       " {'original': 'Mohd Sabar Mat Pun bkn kaleng2 dato Nusi',\n",
       "  'text': 'Mohd sabar Mat pun bukan kaleng-kaleng dato Nusi'},\n",
       " {'original': 'Send me the vid ', 'text': 'Send me the vil'},\n",
       " {'original': 'X lena tido mlm nnt mmber tu',\n",
       "  'text': 'Tak lena tidur malam nanti miber itu'},\n",
       " {'original': 'Keong Lee yang tu aq x nk ambik tahu yang aq setuju buat pkp tutup sempadan aq setuju',\n",
       "  'text': 'Keong Lee yang itu aku tak nak ambil tahu yang aku setuju buat pikap tutup sempadan aku setuju'},\n",
       " {'original': 'Oi lewat woii', 'text': 'Oi lewat woi'},\n",
       " {'original': '*PENIPUANPH/\\nDAP/Bersatu/PKR/\\nPejuang.\\n1. Hapus tol\\n= tipu\\n2. Hapus ptptn = tipu\\n3. Hapus AES = tipu\\n4. GST 6% jadi SST 16%\\n5. Minyak Rm1.50 = tipu\\n6. Kurangkan kos hidup = tipu\\n7. Turn harga barang = tipu\\n8. Turn harga kereta = tipu\\n9. Hapus hutang peneroka Felda = tipu\\n10. Tiada lantikan politik dalam GLC dan sektor awam = tipu.\\n11. Pendidikan percuma = tipu\\n12. Tiada lantikan politik jadi duta = tipu\\n13. Harga telur naik\\n14. Tutup Lynas = tipu\\n15. Lantikan Pesuruhjaya SPRM oleh parlimen =tipu\\n16. Pisahkan Pejabat Pendakwaraya\\ndrp Pejabat Peguam Negara = tipu\\n17. BRIM orang bujang diturun drp RM450 kpd RM100\\n18. 1 juta peluang pekerjaan = tipu\\n19. Gaji minimun RM1500 = tipu\\n20. Beri Rm150 pada semua warga emas = Tipu\\n21. Siaran percuma bola sepak liga perdana\\ninggeris = tipu\\n22. 1 juta rumah mampu milik = tipu\\n23. Beri Rm500 pada anak muda yang berkahwin= tipu\\n24. Menambah 10 ribu bas ke seluruh negara =tipu\\n25. Batal cai renew lesen motor = tipu\\n26. 200 ribu peluang kerja di sabah & serawak =tipu\\n27. Rakyat disuruh minum sesudu minyak sawit.\\n28. Projek kereta terbang mcm kartun.\\n29. Matawang malaysia jatuh.\\n30. Hutang negara meningkat\\n31. Hutang peneroka hapus 50 % =kencing.',\n",
       "  'text': '* PENIPUANPH / DAP / Bersatu / PKR / pejuang. 1. hapus tol = tipu 2. hapus ptptn = tipu 3. hapus AES = tipu 4. GST 6% jadi SST 16% 5. minyak Rm1. 50 = tipu 6. kurangkan kos hidup = tipu 7. turn harga barang = tipu 8. turn harga kereta = tipu 9. hapus hutang peneroka FELDA = tipu 10. tiada lantikan politik dalam GLC dan sektor awam = tipu. 11. pendidikan percuma = tipu 12. tiada lantikan politik jadi duta = tipu 13. harga telur naik 14. Tutup Lynas = tipu 15. lantikan Pesuruhjaya SPRM oleh parlimen = tipu 16. pisahkan Pejabat Pendakwaraya dri Pejabat Peguam Negara = tipu 17. brim orang bujang diturun dri RM450 kepada RM100 18. 1 juta peluang pekerjaan = tipu 19. gaji minimun RM1500 = tipu 20. beri Rm150 pada semua warga emas = tipu 21. siaran percuma bola sepak liga perdana inggeris = tipu 22. 1 juta rumah mampu milik = tipu 23. beri Rm500 pada anak muda yang berkahwin = tipu 24. menambah 10 ribu bas ke seluruh negara = tipu 25. batal cai renew lesen motor = tipu 26. 200 ribu peluang kerja di sabah & serawak = tipu 27. rakyat disuruh minum sesudu minyak sawit. 28. projek kereta terbang macam kartun. 29. matawang malaysia jatuh. 30. hutang negara meningkat 31. hutang peneroka hapus 50 % = kencing .'},\n",
       " {'original': 'Tuan Mahamada Al Mahadaya, saya minta izin untuk share Hikayat ini.',\n",
       "  'text': 'Tuan Mahamada la Mahadaya, saya meminta izin untuk share hikayat ini .'},\n",
       " {'original': 'Firdaus Hakimi.. Tunggu je lah bila pengadil rujuk pd VAR balik.. ',\n",
       "  'text': 'Firdaus Hakimi. . tunggu sahaja lah bila pengadil rujuk pada har balik. .'},\n",
       " {'original': 'Mcm anuat n lapiji la', 'text': 'Macam anuiti dan lapiji lah'},\n",
       " {'original': 'Terbaikkk guaner batalkan projek air Kelantan(BAKU).\\n.kata nak tolong Orang Melayu macam Kat Baling tu',\n",
       "  'text': 'Terbaikkk genere batalkan projek air Kelantan (baku). . kata nak tolong orang Melayu macam Di Baling itu'},\n",
       " {'original': 'Ahmad Zulqurnain Ghazalli terhibur dapat dosa peri',\n",
       "  'text': 'Ahmad Zulqurnain Ghazalli terhibur dapat dosa peri'},\n",
       " {'original': 'Achik Ji DSAI terbaik', 'text': 'Achik Ji DSAI terbaik'},\n",
       " {'original': 'mai bukit besaq sekali dato.pas tak nah kalah kat bukit besaq.',\n",
       "  'text': 'datang bukit besar sekali dato.pas tidak nah kalah kat bukit besar .'},\n",
       " {'original': 'Ayuh JKOM. Wooff wofff', 'text': 'Ayuh JKOM. Wooff worf'},\n",
       " {'original': 'Stadium baru bile start buat ni yb....x sabar rasanya nak tengok kecanggihanya. Harap2 jgn sembang politaik je. Xkan yb nak kencing rakayat kedah kannnn',\n",
       "  'text': 'Stadium baru bile start buat ini yubi. .. tak sabar rasanya nak tengok kecanggihanya. Harap2 jangan sembang politaik sahaja. Xkan yang bahagia nak kencing rakayat kedah kan'},\n",
       " {'original': 'Nape mb pulun sgt..hat dulu2 relek je..tenang2 je..tu pun org duk tk puas Hati semacam..kata mcm2 Kat mb..tk kena belaka..heran pun ada pelik puna ada',\n",
       "  'text': 'Kenapa mi pulun sangat. hat dahulu-dahulu relek sahaja. . tenang-tenang sahaja. itu pun orang asyik tak puas hati semacam. kata macam-macam Di mi. tak kena belaka. hairan pun ada pelik puna ada'},\n",
       " {'original': 'Terbaik rafizi dan ph',\n",
       "  'text': 'Terbaik rafizi dan pakatan harapan'},\n",
       " {'original': 'Izzan Hadzir serius la', 'text': 'Izzan Hadzir serius lah'},\n",
       " {'original': 'Pm10 dah sampai', 'text': 'PM10 dah sampai'},\n",
       " {'original': 'Jngn teriak..sembang\\ncukup larr',\n",
       "  'text': 'Jangan teriak. . sembang cukup luar'},\n",
       " {'original': 'Wan Othman hahahaha yg menyalak tu ko bro... Bende ni dah isu Pon tp ko je tgh meratib zikir najib2...',\n",
       "  'text': 'Wan Othman haha yang menyalak itu kamu abang. .. Bende ini dah isu Pun tetapi kamu sahaja tengah meratib zikir najib-najib. . .'},\n",
       " {'original': 'menteri ekonomi paling terbaik dlam dunia hoi ya hoi prinsip dah bungkus ikat tepi piji oi',\n",
       "  'text': 'menteri ekonomi paling terbaik dalam dunia hoi ya hoi prinsip dah bungkus ikat tepi biji di'},\n",
       " {'original': 'Undiku untuk DSAI sebagai PM....solid....',\n",
       "  'text': 'Undiku untuk DSAI sebagai PM. .. solid. .. .'},\n",
       " {'original': 'cari dedok mung ni', 'text': 'cari dedak mung ini'},\n",
       " {'original': 'Congratulations\\nPH.... Long awaited news is finally here. Congratulations\\nto DSAI.. continue to run the race and bring our country to the next level.. we want to be better than Singapore..',\n",
       "  'text': 'Congratulations PAKATAN HARAPAN. .. . long awaited news si finally here. Congratulations kepada DSAI. . continue kepada run the race and bring our country kepada the next level. . ke want kepada jadi better than Singapore. .'},\n",
       " {'original': 'kadang nak jadi ketua keluarga pun makan masa nak bentuk keluarga  apa tah lagi nak jadi ketua negara . masih ada masa lagi ni nak kaji parti mana yang okay .',\n",
       "  'text': 'kadang nak jadi ketua keluarga pun makan masa nak bentuk keluarga apa tak lagi nak jadi ketua negara. masih ada masa lagi ini nak kaji parti mana yang kaya .'},\n",
       " {'original': 'Cerdik rakyat Malaysia ', 'text': 'Cerdik rakyat Malaysia'},\n",
       " {'original': 'Kesimpulannya LHDN BABI', 'text': 'Kesimpulannya LHDN KHINZIR'},\n",
       " {'original': 'RJ Hari \"KITA BOLEH MENIPU\"\\n\\n#TOLAKPHANCING',\n",
       "  'text': 'RJ hari \" kita boleh menipu \" #TOLAKPHANCING'},\n",
       " {'original': 'Muhammad Iszam manusia bangsat...baik mampus lagi elok kau ni, xde benda baik nak ckp baik diam bodoh',\n",
       "  'text': 'Muhammad Iszam manusia bangsat. . baik mampus lagi elok kamu ini, tidak ada benda baik nak cukup baik diam bodoh'},\n",
       " {'original': 'Kesian kementerian..pe\\nrtahanan',\n",
       "  'text': 'Kesian kementerian. ke atahanan'},\n",
       " {'original': 'Bangsa bajau/\\nbangsa sama ( rumpun melayu) dulu...bermati matian menentang penjajah...mula di lupakan dalam sejarah.malaysi\\na...dan para intelektual sejarah ramai yg tidak mengkaji kewujudan bangsa ini dalam malaysia .',\n",
       "  'text': 'Bangsa bajau / bangsa sama (rumpun melayu) dahulu. .. bermati matian menentang penjajah. . mula di lupakan dalam sejarah. malaysi la. . dan para intelektual sejarah ramai yang tidak mengkaji kewujudan bangsa ini dalam malaysia .'},\n",
       " {'original': 'Kiff Wazif ..Samun kpala otak ko sama spt mana hukuman mahkamah kangaroo.......\\n..',\n",
       "  'text': 'Kiff Wazif. . samun kepala otak kamu sama seperti mana hukuman mahkamah kangaroo. .. .. .. . .'},\n",
       " {'original': 'Acumalaka ', 'text': 'Acumalaka'},\n",
       " {'original': 'Sbb kt pd dia tahu org dh tolak dia .hahhaa',\n",
       "  'text': 'Sebab di pada dia tahu orang dah tolak dia. haha'},\n",
       " {'original': 'Yer samada transaksi tunai/bank kena ada proof payment/PV',\n",
       "  'text': 'yer samada transaksi tunai / bank kena ada proof payment / PV'},\n",
       " {'original': 'In shaa Allah PM dari perak\\nYDPA dari perak',\n",
       "  'text': 'In sha Allah PM dari perak YDPA dari perak'},\n",
       " {'original': 'sangat bermanafaat', 'text': 'sangat bermanafaat'},\n",
       " {'original': 'Sedih dok Msia dah berkurun lama tapi tak reti cakap melayu. Lepas tu nak kata jaga hak orang melayu.',\n",
       "  'text': 'Sedih dok Malaysia dah berkurun lama tetapi tidak reti cakap melayu. lepas itu nak kata jaga hak orang melayu .'},\n",
       " {'original': 'Atos ST\\nPenat dok diam2. Tak payah nk menyebuk. Lepas ni akan ramai yng sblah sana jd kluster mahkamah. Malam ni boleh tengok sapa yang naik kapal terbang yng pertama.',\n",
       "  'text': 'atos St penat dok diam-diam. Tidak payah nak menyebuk. lepas ini akan ramai yang sebelah sana jadi kluster mahkamah. malam ini boleh tengok siapa yang naik kapal terbang yang pertama .'},\n",
       " {'original': 'Amanat timbalan president, terbaik...',\n",
       "  'text': 'Amanat timbalan president, terbaik. . .'},\n",
       " {'original': 'Bela tahu kucing KO...bela ke bala...selagi DAP hanat ada dalam tu, selagi itu PH tak akan jadi PM..puak2 cina suka lah, sebab dapat tipu Melayu melalui PH,tapi pada hakikatnya yg bodoh dan bengong sahaja yg sokong PH DAP hanat tu ..jadi BG org Islam haram undi atau sokong PH DAP laknatullah..',\n",
       "  'text': 'Bela tahu kucing KAMU. . bela ke bala. . selagi DAP jahanam ada dalam itu, selagi itu PAKATAN HARAPAN tidak akan jadi PM. . puak-puak cina suka lah, sebab dapat tipu Melayu melalui PAKATAN HARAPAN, tetapi pada hakikatnya yang bodoh dan bengong sahaja yang sokong PAKATAN HARAPAN DAP jahanam itu. . jadi BAGI orang Islam haram undi atau sokong PAKATAN HARAPAN DAP laknatullah. .'},\n",
       " {'original': 'Pakatan Harapan DSAI PM10 ,,',\n",
       "  'text': 'Pakatan Harapan DSAI PM10, ,'},\n",
       " {'original': 'In syaaAllah Malaysia lebih baik di pimpin DSAi',\n",
       "  'text': 'In syaaallah Malaysia lebih baik di pimpin DSAI'},\n",
       " {'original': 'Zahid tak patut dapat', 'text': 'Zahid tidak patut dapat'},\n",
       " {'original': 'majukan Kedah MB', 'text': 'majukan Kedah MB'},\n",
       " {'original': 'InsyaAllah DSAI menang di Tambun... PM10 kita',\n",
       "  'text': 'Insyaallah DSAI menang di Tambun. .. PM10 kita'},\n",
       " {'original': 'Buat kawan kawan cina.....dengar\\nnasihat saya ......pH Tak dpt satukan hati Kita ....percayalah .....dia org ckp jer ......',\n",
       "  'text': 'Buat kawan kawan cina. .. . dengar nasihat saya. .. .. . pakatan harapan Tidak dapat satukan hati kita. .. . percayalah. .. .. dia orang cukup sahaja. .. .. .'},\n",
       " {'original': 'Brother..\\nAudio amat teruk',\n",
       "  'text': 'Brother. . audio amat teruk'},\n",
       " {'original': 'Gagah Perkasa\\nAhli bait di kira dari belah Siti Fathimah manakala saidina Ali adalah sepupu nabi yang mewarisi nabi sekiranya nabi tiada anak laki2.',\n",
       "  'text': 'Gagah Perkasa ahli bait di kira dari belah Siti Fathimah manakala saidina Ali adalah sepupu nabi yang mewarisi nabi sekiranya nabi tiada anak lelaki-lelaki .'},\n",
       " {'original': 'Geedue\\nIslam adalah salah satu produk freemason yang berjaya di doktrinkan ke seluruh dunia.\\n\\nNabi sudah bersabda bahawa di akhir zaman agamaNya adalah asing kerana sudah di hilangkan oleh musuh2 tuhan (freemason).',\n",
       "  'text': 'Geedue Islam adalah salah satu produk freemason yang berjaya di doktrinkan ke seluruh dunia. Nabi sudah bersabda bahawa di akhir zaman agamaNya adalah asing kerana sudah di hilangkan oleh musuh-musuh tuhan (freemason) .'},\n",
       " {'original': 'Quality & Profesional Best YB',\n",
       "  'text': 'Kualiti & Profesional Best YANG BAHAGIA'},\n",
       " {'original': 'Ieda Hakimin haha.. Cara cmie pnya cita pkai koyak teruih nie... Bak kta UAI, back home early... Hahaha',\n",
       "  'text': 'Ieda Hakimin haha. . cara cuma punya cita pakai koyak tekuih ini. .. bak kita UAI, back home early. .. haha'},\n",
       " {'original': 'Tak bagi nafkah katanya tu yg dia kawin lain',\n",
       "  'text': 'Tidak bagi nafkah katanya itu yang dia kawan lain'},\n",
       " {'original': 'Paling penting keluar undi awal',\n",
       "  'text': 'Paling penting keluar undi awal'},\n",
       " {'original': 'Mat sabu terbaik', 'text': 'Mat satu terbaik'},\n",
       " {'original': 'Shah alam hadir ..', 'text': 'shah alam hadir. .'},\n",
       " {'original': 'Jgn koyak ngn soalan', 'text': 'Jangan koyak dengan soalan'},\n",
       " {'original': 'Mohd Asbahani Che Rus KOYAKKKKKK ORG TU TKDE APA2 PON KOYAKKK LAGIII HAHAHAHAHAHAHAH\\nHAHAAHAHAHA',\n",
       "  'text': 'Mohd Asbahani Che Rus KOYAKKKKKK ORANG ITU TIADA apa-apa PUN KOYAKKK LAGIII haha haha'},\n",
       " {'original': 'RR terbaik ', 'text': 'RR terbaik'},\n",
       " {'original': 'Sri gading update', 'text': 'Sri gading update'},\n",
       " {'original': 'Relaks ye cai...tahan telinga sikit..',\n",
       "  'text': 'relaks ya cai. . tahan telinga sikit. .'},\n",
       " {'original': 'Muhammad Iszam seemed like his legend has ended',\n",
       "  'text': 'Muhammad Iszam semedo like his legend has ended'},\n",
       " {'original': 'Itu perkara biasa jer, Bila dah menang mulut terkunci kerana supaya diberi ganjaran atas kemenangan, walau apa yang kerajaan tetap tidak untung untuk raayat, awat hang ingat orang lain Tak boleh buat.',\n",
       "  'text': 'Itu perkara biasa sahaja, bila dah menang mulut terkunci kerana supaya diberi ganjaran atas kemenangan, walau apa yang kerajaan tetap tidak untung untuk rakyat, awat hang ingat orang lain Tidak boleh buat .'},\n",
       " {'original': 'PM 10\\nDSAI', 'text': 'PM 10 DSAI'},\n",
       " {'original': 'Allah dah atur sebaik baik nya, menang kalah kita redha jela. Hidup harus diteruskan',\n",
       "  'text': 'Allah dah atur sebaik baik nya, menang kalah kita redha sahaja lah. hidup harus diteruskan'},\n",
       " {'original': 'Pundekkk ...', 'text': 'Pundekkk. . .'}]"
      ]
     },
     "execution_count": 22,
     "metadata": {},
     "output_type": "execute_result"
    }
   ],
   "source": [
    "results[-100:]"
   ]
  },
  {
   "cell_type": "code",
   "execution_count": 23,
   "metadata": {},
   "outputs": [
    {
     "data": {
      "text/plain": [
       "1902"
      ]
     },
     "execution_count": 23,
     "metadata": {},
     "output_type": "execute_result"
    }
   ],
   "source": [
    "postss = []\n",
    "for p in posts:\n",
    "    postss.extend(malaya.text.function.maxlen_slide(p, maxlen = 64))\n",
    "    \n",
    "len(postss)"
   ]
  },
  {
   "cell_type": "code",
   "execution_count": 24,
   "metadata": {},
   "outputs": [],
   "source": [
    "with open('facebook-data.jsonl', 'w') as fopen:\n",
    "    for r in results:\n",
    "        fopen.write(f'{json.dumps(r)}\\n')\n",
    "    \n",
    "    for p in postss:\n",
    "        d = {'text': p}\n",
    "        fopen.write(f'{json.dumps(d)}\\n')"
   ]
  },
  {
   "cell_type": "code",
   "execution_count": 25,
   "metadata": {},
   "outputs": [],
   "source": [
    "!split -l 50000 -d --additional-suffix=.splitted facebook-data.jsonl facebook-data.jsonl"
   ]
  }
 ],
 "metadata": {
  "kernelspec": {
   "display_name": "Python 3 (ipykernel)",
   "language": "python",
   "name": "python3"
  },
  "language_info": {
   "codemirror_mode": {
    "name": "ipython",
    "version": 3
   },
   "file_extension": ".py",
   "mimetype": "text/x-python",
   "name": "python",
   "nbconvert_exporter": "python",
   "pygments_lexer": "ipython3",
   "version": "3.8.10"
  }
 },
 "nbformat": 4,
 "nbformat_minor": 4
}
