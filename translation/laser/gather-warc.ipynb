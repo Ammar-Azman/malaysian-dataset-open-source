{
 "cells": [
  {
   "cell_type": "code",
   "execution_count": 1,
   "id": "6ca69882",
   "metadata": {},
   "outputs": [],
   "source": [
    "# !sudo apt install redis-server\n",
    "# !pip3 install redis"
   ]
  },
  {
   "cell_type": "code",
   "execution_count": 2,
   "id": "5b19ae35",
   "metadata": {},
   "outputs": [
    {
     "data": {
      "text/plain": [
       "110"
      ]
     },
     "execution_count": 2,
     "metadata": {},
     "output_type": "execute_result"
    }
   ],
   "source": [
    "from glob import glob\n",
    "from collections import defaultdict\n",
    "from tqdm import tqdm\n",
    "\n",
    "files = sorted(glob('splitted/*.split'))\n",
    "len(files)"
   ]
  },
  {
   "cell_type": "code",
   "execution_count": 3,
   "id": "925bb75d",
   "metadata": {},
   "outputs": [],
   "source": [
    "warcs = defaultdict(set)"
   ]
  },
  {
   "cell_type": "code",
   "execution_count": 4,
   "id": "199d210d",
   "metadata": {},
   "outputs": [
    {
     "name": "stderr",
     "output_type": "stream",
     "text": [
      "100%|██████████████████████████████████████████████████████████████████████████████████████████████| 110/110 [02:54<00:00,  1.59s/it]\n"
     ]
    }
   ],
   "source": [
    "for f in tqdm(files):\n",
    "    with open(f) as fopen:\n",
    "        for line in fopen:\n",
    "            d = line.rstrip()\n",
    "            splitted = d.split()\n",
    "            combined = f'{splitted[1]}-{splitted[3]}'\n",
    "            warcs[splitted[0]].add(combined)"
   ]
  },
  {
   "cell_type": "code",
   "execution_count": 5,
   "id": "5b4a0346",
   "metadata": {},
   "outputs": [
    {
     "data": {
      "text/plain": [
       "3102612"
      ]
     },
     "execution_count": 5,
     "metadata": {},
     "output_type": "execute_result"
    }
   ],
   "source": [
    "len(warcs)"
   ]
  },
  {
   "cell_type": "code",
   "execution_count": 6,
   "id": "f49a7758",
   "metadata": {},
   "outputs": [],
   "source": [
    "for k in warcs:\n",
    "    warcs[k] = list(warcs[k])"
   ]
  },
  {
   "cell_type": "code",
   "execution_count": 7,
   "id": "a22584b6",
   "metadata": {},
   "outputs": [],
   "source": [
    "warcs_list = []\n",
    "for k, v in warcs.items():\n",
    "    warcs_list.append({'k': k, 'v': v})"
   ]
  },
  {
   "cell_type": "code",
   "execution_count": 8,
   "id": "5edb1fba",
   "metadata": {},
   "outputs": [
    {
     "data": {
      "text/plain": [
       "{'k': 'crawl-data/CC-MAIN-2018-05/segments/1516084890394.46/wet/CC-MAIN-20180121080507-20180121100507-00117.warc.wet.gz',\n",
       " 'v': ['sha1:OOMU2DI2WCNTPWKVETQXCI765W5YAVGR-71',\n",
       "  'sha1:3WIFJK4PSXMMB3K3TMRVIHAZQ6T3ABPH-158',\n",
       "  'sha1:OXGN23ZNWRHL5RYSMBSNHZKPU6YON3RQ-66',\n",
       "  'sha1:X6L6ZXLL3TD4YANCGXZFNMMWB6Y27FSS-30',\n",
       "  'sha1:A7A24L3367EOT4WMTZ2BOYFGAPXIVDW3-420',\n",
       "  'sha1:EPSSTQ77QAXVXRPLLRAJVP4RFJ27JX5D-60',\n",
       "  'sha1:NM3R5Y5PTEONZTB3TUA6U5HRCBJDO7VA-221',\n",
       "  'sha1:ZSWC7WXIH5MU3BYCPKL7HLLPOXMUQEAY-185',\n",
       "  'sha1:5CGBXLXPZ6YOZFOTAAOKYURZA7YXSR2D-83',\n",
       "  'sha1:7V62M6KQQY3YVMUADGMLNV2MK3UUJJRA-169',\n",
       "  'sha1:EPSSTQ77QAXVXRPLLRAJVP4RFJ27JX5D-16',\n",
       "  'sha1:CRJXG6FHIEEY7KZT6KBRHHEJGH7DQC6F-75',\n",
       "  'sha1:UVHJ3DFV4AGCVPEPQI76EFMRISNGLU46-19',\n",
       "  'sha1:5CGBXLXPZ6YOZFOTAAOKYURZA7YXSR2D-36',\n",
       "  'sha1:ZSWC7WXIH5MU3BYCPKL7HLLPOXMUQEAY-196',\n",
       "  'sha1:5EBBTPCQ6A57CV32FD6HVNA6VOKJJ2VO-36',\n",
       "  'sha1:6IYP55KLOLRH54KPVVHU37VJMTCHHIKS-59',\n",
       "  'sha1:ZSWC7WXIH5MU3BYCPKL7HLLPOXMUQEAY-65',\n",
       "  'sha1:OOHP4JN5A7EV2FNOY7OVJ6FG4EH7WEKR-48',\n",
       "  'sha1:ZSWC7WXIH5MU3BYCPKL7HLLPOXMUQEAY-184',\n",
       "  'sha1:ZSWC7WXIH5MU3BYCPKL7HLLPOXMUQEAY-235',\n",
       "  'sha1:WTMHEKQL3LOLT7SBRKMKKZ5JIDXQQM33-20',\n",
       "  'sha1:BUPKPDOB4O4FJX75FUZIUVKF2B5ODVTO-20',\n",
       "  'sha1:A7A24L3367EOT4WMTZ2BOYFGAPXIVDW3-1082',\n",
       "  'sha1:A7A24L3367EOT4WMTZ2BOYFGAPXIVDW3-764',\n",
       "  'sha1:5CGBXLXPZ6YOZFOTAAOKYURZA7YXSR2D-32',\n",
       "  'sha1:5CGBXLXPZ6YOZFOTAAOKYURZA7YXSR2D-16',\n",
       "  'sha1:56JFXFEB2KBB7PUBUF3QSMYMFU56CZT4-77',\n",
       "  'sha1:IJV5BNR5HQ6CPQMKPABRVIAWC6RLTIIC-19']}"
      ]
     },
     "execution_count": 8,
     "metadata": {},
     "output_type": "execute_result"
    }
   ],
   "source": [
    "warcs_list[0]"
   ]
  },
  {
   "cell_type": "code",
   "execution_count": 9,
   "id": "94643da0",
   "metadata": {
    "scrolled": true
   },
   "outputs": [],
   "source": [
    "import json\n",
    "\n",
    "with open('warcs-eng_Latn-zsm_Latn.jsonl', 'w') as fopen:\n",
    "    for i in range(len(warcs_list)):\n",
    "        fopen.write(json.dumps(warcs_list[i]) + '\\n')"
   ]
  }
 ],
 "metadata": {
  "kernelspec": {
   "display_name": "Python 3 (ipykernel)",
   "language": "python",
   "name": "python3"
  },
  "language_info": {
   "codemirror_mode": {
    "name": "ipython",
    "version": 3
   },
   "file_extension": ".py",
   "mimetype": "text/x-python",
   "name": "python",
   "nbconvert_exporter": "python",
   "pygments_lexer": "ipython3",
   "version": "3.8.10"
  }
 },
 "nbformat": 4,
 "nbformat_minor": 5
}
