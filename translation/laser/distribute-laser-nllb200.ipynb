{
 "cells": [
  {
   "cell_type": "code",
   "execution_count": 67,
   "id": "b899f396",
   "metadata": {},
   "outputs": [],
   "source": [
    "# !sudo apt install redis-server\n",
    "# !pip3 install redis"
   ]
  },
  {
   "cell_type": "code",
   "execution_count": 48,
   "id": "f3d98736",
   "metadata": {},
   "outputs": [
    {
     "data": {
      "text/plain": [
       "110"
      ]
     },
     "execution_count": 48,
     "metadata": {},
     "output_type": "execute_result"
    }
   ],
   "source": [
    "from glob import glob\n",
    "from collections import defaultdict\n",
    "from tqdm import tqdm\n",
    "\n",
    "files = sorted(glob('splitted/*.split'))\n",
    "len(files)"
   ]
  },
  {
   "cell_type": "code",
   "execution_count": 50,
   "id": "867391de",
   "metadata": {},
   "outputs": [],
   "source": [
    "warcs = defaultdict(set)"
   ]
  },
  {
   "cell_type": "code",
   "execution_count": 51,
   "id": "d4d3815b",
   "metadata": {},
   "outputs": [
    {
     "name": "stderr",
     "output_type": "stream",
     "text": [
      "100%|██████████████████████████████████████████████████████████████████████████████████████████████████| 1/1 [00:01<00:00,  1.40s/it]\n"
     ]
    }
   ],
   "source": [
    "for f in tqdm(files[:1]):\n",
    "    with open(f) as fopen:\n",
    "        for line in fopen:\n",
    "            d = line.rstrip()\n",
    "            splitted = d.split()\n",
    "            combined = f'{splitted[1]}-{splitted[3]}'\n",
    "            warcs[splitted[0]].add(combined)"
   ]
  },
  {
   "cell_type": "code",
   "execution_count": 52,
   "id": "9e19ccd2",
   "metadata": {},
   "outputs": [],
   "source": [
    "for k in warcs:\n",
    "    warcs[k] = list(warcs[k])"
   ]
  },
  {
   "cell_type": "code",
   "execution_count": 55,
   "id": "558737f9",
   "metadata": {},
   "outputs": [],
   "source": [
    "warcs_list = []\n",
    "for k, v in warcs.items():\n",
    "    warcs_list.append({'k': k, 'v': v})"
   ]
  },
  {
   "cell_type": "code",
   "execution_count": 60,
   "id": "10b77bce",
   "metadata": {},
   "outputs": [
    {
     "data": {
      "text/plain": [
       "{'k': 'crawl-data/CC-MAIN-2018-05/segments/1516084890394.46/wet/CC-MAIN-20180121080507-20180121100507-00117.warc.wet.gz',\n",
       " 'v': ['sha1:A7A24L3367EOT4WMTZ2BOYFGAPXIVDW3-764']}"
      ]
     },
     "execution_count": 60,
     "metadata": {},
     "output_type": "execute_result"
    }
   ],
   "source": [
    "warcs_list[0]"
   ]
  },
  {
   "cell_type": "code",
   "execution_count": 59,
   "id": "fce32654",
   "metadata": {
    "scrolled": true
   },
   "outputs": [],
   "source": [
    "import json\n",
    "\n",
    "with open('warcs-eng_Latn-zsm_Latn.jsonl', 'w') as fopen:\n",
    "    for i in range(len(warcs_list)):\n",
    "        fopen.write(json.dumps(warcs_list[i]) + '\\n')"
   ]
  },
  {
   "cell_type": "code",
   "execution_count": 72,
   "id": "faeb7ee4",
   "metadata": {},
   "outputs": [],
   "source": [
    "import tempfile\n",
    "import requests\n",
    "import warc\n",
    "import redis\n",
    "from unidecode import unidecode\n",
    "from tqdm import tqdm\n",
    "\n",
    "def loop(files):\n",
    "    files, _ = files\n",
    "    db = redis.Redis(host='localhost', port=6379, db=0)\n",
    "    for f in tqdm(files):\n",
    "        k = f['k']\n",
    "        v = f['v']\n",
    "        digest = {i.split('-')[0]: i.split('-')[1] for i in v}\n",
    "        with tempfile.NamedTemporaryFile(suffix = '.warc.wet.gz') as tmpfile:\n",
    "            url = f'http://data.commoncrawl.org/{k}'\n",
    "            r = requests.get(url)\n",
    "            tmpfile.write(r.content)\n",
    "            f = warc.open(tmpfile.name)\n",
    "            for record in f:\n",
    "                if 'warc-block-digest' in record.header and record.header['warc-block-digest'] in digest:\n",
    "                    r = record.payload.read()\n",
    "                    sha = record.header['warc-block-digest']\n",
    "                    line_num = int(digest[sha])\n",
    "                    lines = unidecode(r.decode().split('\\n')[line_num])\n",
    "                    key = f'{k}-{sha}-{line_num}'\n",
    "                    db.set(key, lines)\n",
    "    db.close()"
   ]
  },
  {
   "cell_type": "code",
   "execution_count": 78,
   "id": "1863601f",
   "metadata": {},
   "outputs": [],
   "source": [
    "import mp"
   ]
  },
  {
   "cell_type": "code",
   "execution_count": null,
   "id": "49a5459a",
   "metadata": {},
   "outputs": [
    {
     "name": "stderr",
     "output_type": "stream",
     "text": [
      "  0%|                                                                                          | 1/53300 [01:02<930:00:45, 62.82s/it]"
     ]
    }
   ],
   "source": [
    "mp.multiprocessing(warcs_list, loop, cores = 10, returned = False)"
   ]
  },
  {
   "cell_type": "code",
   "execution_count": 73,
   "id": "d2aaa7a0",
   "metadata": {},
   "outputs": [
    {
     "name": "stderr",
     "output_type": "stream",
     "text": [
      "100%|██████████████████████████████████████████████████████████████████████████████████████████████████| 2/2 [00:25<00:00, 12.93s/it]\n"
     ]
    }
   ],
   "source": [
    "loop((warcs_list[:2], 0))"
   ]
  },
  {
   "cell_type": "code",
   "execution_count": 74,
   "id": "916a4654",
   "metadata": {},
   "outputs": [],
   "source": [
    "db = redis.Redis(host='localhost', port=6379, db=0)"
   ]
  },
  {
   "cell_type": "code",
   "execution_count": 81,
   "id": "1f21544d",
   "metadata": {},
   "outputs": [
    {
     "data": {
      "text/plain": [
       "14"
      ]
     },
     "execution_count": 81,
     "metadata": {},
     "output_type": "execute_result"
    }
   ],
   "source": [
    "len(db.keys())"
   ]
  },
  {
   "cell_type": "code",
   "execution_count": 82,
   "id": "0dfac553",
   "metadata": {},
   "outputs": [],
   "source": [
    "with open(files[0]) as fopen:\n",
    "    data = fopen.read().split('\\n')"
   ]
  },
  {
   "cell_type": "code",
   "execution_count": 95,
   "id": "fe7ddf98",
   "metadata": {},
   "outputs": [],
   "source": [
    "splitted = data[4].split()\n",
    "key = f'{splitted[0]}-{splitted[1]}-{splitted[3]}'"
   ]
  },
  {
   "cell_type": "code",
   "execution_count": 94,
   "id": "ab30bd0d",
   "metadata": {},
   "outputs": [
    {
     "data": {
      "text/plain": [
       "b'a thousand disbelievers because the disbelievers are a people who do not have'"
      ]
     },
     "execution_count": 94,
     "metadata": {},
     "output_type": "execute_result"
    }
   ],
   "source": [
    "db.get(key)"
   ]
  },
  {
   "cell_type": "code",
   "execution_count": 96,
   "id": "9df522f1",
   "metadata": {},
   "outputs": [],
   "source": [
    "db.get(key)"
   ]
  },
  {
   "cell_type": "code",
   "execution_count": null,
   "id": "01f0c1fb",
   "metadata": {},
   "outputs": [],
   "source": []
  }
 ],
 "metadata": {
  "kernelspec": {
   "display_name": "Python 3 (ipykernel)",
   "language": "python",
   "name": "python3"
  },
  "language_info": {
   "codemirror_mode": {
    "name": "ipython",
    "version": 3
   },
   "file_extension": ".py",
   "mimetype": "text/x-python",
   "name": "python",
   "nbconvert_exporter": "python",
   "pygments_lexer": "ipython3",
   "version": "3.8.10"
  }
 },
 "nbformat": 4,
 "nbformat_minor": 5
}
