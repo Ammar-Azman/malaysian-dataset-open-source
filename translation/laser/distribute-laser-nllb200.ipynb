{
 "cells": [
  {
   "cell_type": "code",
   "execution_count": 1,
   "id": "ffd3d10f",
   "metadata": {},
   "outputs": [],
   "source": [
    "# !sudo apt install redis-server\n",
    "# !pip3 install redis"
   ]
  },
  {
   "cell_type": "code",
   "execution_count": 2,
   "id": "63d5fffc",
   "metadata": {},
   "outputs": [
    {
     "data": {
      "text/plain": [
       "110"
      ]
     },
     "execution_count": 2,
     "metadata": {},
     "output_type": "execute_result"
    }
   ],
   "source": [
    "from glob import glob\n",
    "from collections import defaultdict\n",
    "from tqdm import tqdm\n",
    "\n",
    "files = sorted(glob('splitted/*.split'))\n",
    "len(files)"
   ]
  },
  {
   "cell_type": "code",
   "execution_count": 3,
   "id": "4c2fa70a",
   "metadata": {},
   "outputs": [],
   "source": [
    "warcs = defaultdict(set)"
   ]
  },
  {
   "cell_type": "code",
   "execution_count": 4,
   "id": "1272d7ee",
   "metadata": {},
   "outputs": [
    {
     "name": "stderr",
     "output_type": "stream",
     "text": [
      "100%|██████████████████████████████████████████████████████████████████████████████████████████████████| 1/1 [00:01<00:00,  1.40s/it]\n"
     ]
    }
   ],
   "source": [
    "for f in tqdm(files[:1]):\n",
    "    with open(f) as fopen:\n",
    "        for line in fopen:\n",
    "            d = line.rstrip()\n",
    "            splitted = d.split()\n",
    "            combined = f'{splitted[1]}-{splitted[3]}'\n",
    "            warcs[splitted[0]].add(combined)"
   ]
  },
  {
   "cell_type": "code",
   "execution_count": 5,
   "id": "476f5166",
   "metadata": {},
   "outputs": [],
   "source": [
    "for k in warcs:\n",
    "    warcs[k] = list(warcs[k])"
   ]
  },
  {
   "cell_type": "code",
   "execution_count": 6,
   "id": "6eb2a52a",
   "metadata": {},
   "outputs": [],
   "source": [
    "warcs_list = []\n",
    "for k, v in warcs.items():\n",
    "    warcs_list.append({'k': k, 'v': v})"
   ]
  },
  {
   "cell_type": "code",
   "execution_count": 7,
   "id": "241ad014",
   "metadata": {},
   "outputs": [
    {
     "data": {
      "text/plain": [
       "{'k': 'crawl-data/CC-MAIN-2018-05/segments/1516084890394.46/wet/CC-MAIN-20180121080507-20180121100507-00117.warc.wet.gz',\n",
       " 'v': ['sha1:A7A24L3367EOT4WMTZ2BOYFGAPXIVDW3-764']}"
      ]
     },
     "execution_count": 7,
     "metadata": {},
     "output_type": "execute_result"
    }
   ],
   "source": [
    "warcs_list[0]"
   ]
  },
  {
   "cell_type": "code",
   "execution_count": 59,
   "id": "492b0c33",
   "metadata": {
    "scrolled": true
   },
   "outputs": [],
   "source": [
    "import json\n",
    "\n",
    "with open('warcs-eng_Latn-zsm_Latn.jsonl', 'w') as fopen:\n",
    "    for i in range(len(warcs_list)):\n",
    "        fopen.write(json.dumps(warcs_list[i]) + '\\n')"
   ]
  },
  {
   "cell_type": "code",
   "execution_count": 24,
   "id": "b8986a1d",
   "metadata": {},
   "outputs": [],
   "source": [
    "import tempfile\n",
    "import requests\n",
    "import warc\n",
    "import redis\n",
    "from unidecode import unidecode\n",
    "from tqdm import tqdm\n",
    "\n",
    "def loop(files):\n",
    "    files, _ = files\n",
    "    db = redis.Redis(host='localhost', port=6379, db=0)\n",
    "    for f in tqdm(files):\n",
    "        k = f['k']\n",
    "        v = f['v']\n",
    "        \n",
    "        if db.get(k):\n",
    "            continue\n",
    "            \n",
    "        digest = {i.split('-')[0]: i.split('-')[1] for i in v}\n",
    "        with tempfile.NamedTemporaryFile(suffix = '.warc.wet.gz') as tmpfile:\n",
    "            url = f'http://data.commoncrawl.org/{k}'\n",
    "            r = requests.get(url)\n",
    "            tmpfile.write(r.content)\n",
    "            f = warc.open(tmpfile.name)\n",
    "            for record in f:\n",
    "                if 'warc-block-digest' in record.header and record.header['warc-block-digest'] in digest:\n",
    "                    r = record.payload.read()\n",
    "                    sha = record.header['warc-block-digest']\n",
    "                    line_num = int(digest[sha])\n",
    "                    lines = unidecode(r.decode().split('\\n')[line_num])\n",
    "                    key = f'{k}-{sha}-{line_num}'\n",
    "                    db.set(key, lines)\n",
    "        \n",
    "        db.set(k, 'true')\n",
    "        \n",
    "    db.close()"
   ]
  },
  {
   "cell_type": "code",
   "execution_count": 25,
   "id": "0500e277",
   "metadata": {},
   "outputs": [],
   "source": [
    "import mp"
   ]
  },
  {
   "cell_type": "code",
   "execution_count": null,
   "id": "8ab29a80",
   "metadata": {},
   "outputs": [
    {
     "name": "stderr",
     "output_type": "stream",
     "text": [
      "  0%|                                                                                          | 1/35533 [00:38<384:06:03, 38.92s/it]"
     ]
    }
   ],
   "source": [
    "mp.multiprocessing(warcs_list, loop, cores = 15, returned = False)"
   ]
  },
  {
   "cell_type": "code",
   "execution_count": 73,
   "id": "3fbbcb9c",
   "metadata": {},
   "outputs": [
    {
     "name": "stderr",
     "output_type": "stream",
     "text": [
      "100%|██████████████████████████████████████████████████████████████████████████████████████████████████| 2/2 [00:25<00:00, 12.93s/it]\n"
     ]
    }
   ],
   "source": [
    "loop((warcs_list[:2], 0))"
   ]
  },
  {
   "cell_type": "code",
   "execution_count": 11,
   "id": "971ad47c",
   "metadata": {},
   "outputs": [],
   "source": [
    "db = redis.Redis(host='localhost', port=6379, db=0)"
   ]
  },
  {
   "cell_type": "code",
   "execution_count": 23,
   "id": "dbe4a1fc",
   "metadata": {},
   "outputs": [],
   "source": [
    "db.get('1')"
   ]
  },
  {
   "cell_type": "code",
   "execution_count": 21,
   "id": "6c415b28",
   "metadata": {},
   "outputs": [],
   "source": [
    "keys = db.keys()"
   ]
  },
  {
   "cell_type": "code",
   "execution_count": null,
   "id": "45493377",
   "metadata": {},
   "outputs": [],
   "source": []
  },
  {
   "cell_type": "code",
   "execution_count": 13,
   "id": "2f0c0ee4",
   "metadata": {},
   "outputs": [
    {
     "data": {
      "text/plain": [
       "95"
      ]
     },
     "execution_count": 13,
     "metadata": {},
     "output_type": "execute_result"
    }
   ],
   "source": [
    "len(db.keys())"
   ]
  },
  {
   "cell_type": "code",
   "execution_count": 16,
   "id": "30274e2d",
   "metadata": {},
   "outputs": [],
   "source": [
    "with open(files[0]) as fopen:\n",
    "    data = fopen.read().split('\\n')"
   ]
  },
  {
   "cell_type": "code",
   "execution_count": 19,
   "id": "3996d8e2",
   "metadata": {},
   "outputs": [],
   "source": [
    "splitted = data[3].split()\n",
    "key = f'{splitted[0]}-{splitted[1]}-{splitted[3]}'"
   ]
  },
  {
   "cell_type": "code",
   "execution_count": 20,
   "id": "623daf1f",
   "metadata": {},
   "outputs": [
    {
     "data": {
      "text/plain": [
       "b'a thousand disbelievers because the disbelievers are a people who do not have'"
      ]
     },
     "execution_count": 20,
     "metadata": {},
     "output_type": "execute_result"
    }
   ],
   "source": [
    "db.get(key)"
   ]
  },
  {
   "cell_type": "code",
   "execution_count": 18,
   "id": "0bddbcde",
   "metadata": {},
   "outputs": [],
   "source": [
    "db.get(key)"
   ]
  },
  {
   "cell_type": "code",
   "execution_count": null,
   "id": "5c149447",
   "metadata": {},
   "outputs": [],
   "source": []
  }
 ],
 "metadata": {
  "kernelspec": {
   "display_name": "Python 3 (ipykernel)",
   "language": "python",
   "name": "python3"
  },
  "language_info": {
   "codemirror_mode": {
    "name": "ipython",
    "version": 3
   },
   "file_extension": ".py",
   "mimetype": "text/x-python",
   "name": "python",
   "nbconvert_exporter": "python",
   "pygments_lexer": "ipython3",
   "version": "3.8.10"
  }
 },
 "nbformat": 4,
 "nbformat_minor": 5
}
