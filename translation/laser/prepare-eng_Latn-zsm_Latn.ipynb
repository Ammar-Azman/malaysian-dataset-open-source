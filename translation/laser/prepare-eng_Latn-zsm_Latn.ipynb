{
 "cells": [
  {
   "cell_type": "code",
   "execution_count": 27,
   "metadata": {},
   "outputs": [
    {
     "name": "stderr",
     "output_type": "stream",
     "text": [
      "11786273it [00:09, 1206790.05it/s]\n"
     ]
    }
   ],
   "source": [
    "from tqdm import tqdm\n",
    "\n",
    "x = []\n",
    "with open('eng_Latn-zsm_Latn') as fopen:\n",
    "    for row in tqdm(fopen):\n",
    "        if float(row.split('\\t')[2]) >= 1.07:\n",
    "            x.append(row)\n",
    "        else:\n",
    "            break\n",
    "        \n",
    "#         if len(x) == 10:\n",
    "#             break"
   ]
  },
  {
   "cell_type": "code",
   "execution_count": 33,
   "metadata": {},
   "outputs": [
    {
     "data": {
      "text/plain": [
       "11786273"
      ]
     },
     "execution_count": 33,
     "metadata": {},
     "output_type": "execute_result"
    }
   ],
   "source": [
    "len(x)"
   ]
  },
  {
   "cell_type": "code",
   "execution_count": 34,
   "metadata": {},
   "outputs": [
    {
     "data": {
      "text/plain": [
       "['the human rights violations inflicted by the Zionists on mostly',\n",
       " 'kezaliman yang tidak berperikemanusiaan tentera-tentera zionis terutamanya',\n",
       " '1.07',\n",
       " '1.0',\n",
       " '0.99984',\n",
       " 'crawl-data/CC-MAIN-2017-30/segments/1500549425352.73/wet/CC-MAIN-20170725182354-20170725202354-00212.warc.wet.gz',\n",
       " 'http://www.vho.org/aaargh/fran/actu/actu01/actu0105.html',\n",
       " 'crawl-data/CC-MAIN-2019-47/segments/1573496668772.53/wet/CC-MAIN-20191116231644-20191117015644-00254.warc.wet.gz',\n",
       " 'https://id.scribd.com/doc/17351295/Bersama-Memerangi-Keganasan\\n']"
      ]
     },
     "execution_count": 34,
     "metadata": {},
     "output_type": "execute_result"
    }
   ],
   "source": [
    "x[-1].split('\\t')"
   ]
  },
  {
   "cell_type": "code",
   "execution_count": 32,
   "metadata": {},
   "outputs": [
    {
     "name": "stderr",
     "output_type": "stream",
     "text": [
      "100%|██████████████████████████████████████████████████████████████████████████████| 11786273/11786273 [00:07<00:00, 1653845.79it/s]\n"
     ]
    }
   ],
   "source": [
    "left, right = [], []\n",
    "for x_ in tqdm(x):\n",
    "    splitted = x_.split('\\t')\n",
    "    if len(splitted[0]) and len(splitted[1]):\n",
    "        left.append(splitted[0])\n",
    "        right.append(splitted[1])"
   ]
  },
  {
   "cell_type": "code",
   "execution_count": 35,
   "metadata": {},
   "outputs": [
    {
     "data": {
      "text/plain": [
       "(11786273, 11786273)"
      ]
     },
     "execution_count": 35,
     "metadata": {},
     "output_type": "execute_result"
    }
   ],
   "source": [
    "len(left), len(right)"
   ]
  },
  {
   "cell_type": "code",
   "execution_count": 36,
   "metadata": {},
   "outputs": [
    {
     "name": "stderr",
     "output_type": "stream",
     "text": [
      "100%|██████████████████████████████████████████████████████████████████████████████| 11786273/11786273 [00:02<00:00, 4816007.29it/s]\n"
     ]
    }
   ],
   "source": [
    "with open('eng_Latn-zsm_Latn.left', 'w') as fopen:\n",
    "    for l in tqdm(left):\n",
    "        fopen.write(f'{l}\\n')"
   ]
  },
  {
   "cell_type": "code",
   "execution_count": 37,
   "metadata": {},
   "outputs": [
    {
     "name": "stdout",
     "output_type": "stream",
     "text": [
      "You'd be better off sitting on a little folding stool.\r\n",
      "You're guaranteed to fall in love with at least one of these items.\r\n",
      "also to satisfy his own desires.\"\r\n",
      "hand in marriage, but I declined.\r\n",
      "hidden dangers in the future.\r\n",
      "print of which is so very small, it forces you to open your eyes,\r\n",
      "resolution, in the secret of my heart, that I would\r\n",
      "that the light travels in two ways.\r\n",
      "the King Edward)\r\n",
      "the human rights violations inflicted by the Zionists on mostly\r\n"
     ]
    }
   ],
   "source": [
    "!tail -n 10 eng_Latn-zsm_Latn.left"
   ]
  },
  {
   "cell_type": "code",
   "execution_count": 38,
   "metadata": {},
   "outputs": [
    {
     "name": "stderr",
     "output_type": "stream",
     "text": [
      "100%|██████████████████████████████████████████████████████████████████████████████| 11786273/11786273 [00:02<00:00, 3997966.86it/s]\n"
     ]
    }
   ],
   "source": [
    "with open('eng_Latn-zsm_Latn.right', 'w') as fopen:\n",
    "    for l in tqdm(right):\n",
    "        fopen.write(f'{l}\\n')"
   ]
  },
  {
   "cell_type": "code",
   "execution_count": 39,
   "metadata": {},
   "outputs": [
    {
     "name": "stdout",
     "output_type": "stream",
     "text": [
      "Adalah lebih bagus sekiranya korang sedang duduk diatas kerusi beroda yang boleh berpusing.\r\n",
      "Pertaruhan bahawa anda jatuh cinta dengan sekurang-kurangnya salah satu gaya rambut ini?\r\n",
      "Dia juga berhak mewujudkan impiannya sendiri.\"\r\n",
      "orang ajak kahwin, saya tolak.\r\n",
      "Bahaya yang tersembunyi dalam tempoh tersebut\r\n",
      "Engkau telah diberi anugerah besar untuk membersihkan pintu-pintu penglihatan,\r\n",
      "coretan dari rahsia hatiku: Andai ku boleh\r\n",
      "cahaya dalam dua cara.\r\n",
      " (Sebelah SK King Edward)\r\n",
      "kezaliman yang tidak berperikemanusiaan tentera-tentera zionis terutamanya\r\n"
     ]
    }
   ],
   "source": [
    "!tail -n 10 eng_Latn-zsm_Latn.right"
   ]
  }
 ],
 "metadata": {
  "kernelspec": {
   "display_name": "Python 3 (ipykernel)",
   "language": "python",
   "name": "python3"
  },
  "language_info": {
   "codemirror_mode": {
    "name": "ipython",
    "version": 3
   },
   "file_extension": ".py",
   "mimetype": "text/x-python",
   "name": "python",
   "nbconvert_exporter": "python",
   "pygments_lexer": "ipython3",
   "version": "3.8.10"
  }
 },
 "nbformat": 4,
 "nbformat_minor": 4
}
