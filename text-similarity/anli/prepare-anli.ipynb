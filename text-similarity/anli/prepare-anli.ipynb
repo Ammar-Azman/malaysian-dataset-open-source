{
 "cells": [
  {
   "cell_type": "code",
   "execution_count": 2,
   "metadata": {},
   "outputs": [],
   "source": [
    "# !unzip nli_fever.zip"
   ]
  },
  {
   "cell_type": "code",
   "execution_count": 4,
   "metadata": {},
   "outputs": [],
   "source": [
    "# !wget https://huggingface.co/datasets/alisawuffles/WANLI/resolve/refs%2Fconvert%2Fparquet/default/train/0000.parquet -O wanli-train.parquet\n",
    "# !wget https://huggingface.co/datasets/alisawuffles/WANLI/resolve/refs%2Fconvert%2Fparquet/default/test/0000.parquet -O wanli-test.parquet"
   ]
  },
  {
   "cell_type": "code",
   "execution_count": 7,
   "metadata": {},
   "outputs": [],
   "source": [
    "# !wget https://huggingface.co/datasets/anli/resolve/refs%2Fconvert%2Fparquet/plain_text/train_r3/0000.parquet -O anli-train.parquet\n",
    "# !wget https://huggingface.co/datasets/anli/resolve/refs%2Fconvert%2Fparquet/plain_text/test_r3/0000.parquet -O anli-test.parquet"
   ]
  },
  {
   "cell_type": "code",
   "execution_count": 15,
   "metadata": {},
   "outputs": [
    {
     "data": {
      "text/html": [
       "<div>\n",
       "<style scoped>\n",
       "    .dataframe tbody tr th:only-of-type {\n",
       "        vertical-align: middle;\n",
       "    }\n",
       "\n",
       "    .dataframe tbody tr th {\n",
       "        vertical-align: top;\n",
       "    }\n",
       "\n",
       "    .dataframe thead th {\n",
       "        text-align: right;\n",
       "    }\n",
       "</style>\n",
       "<table border=\"1\" class=\"dataframe\">\n",
       "  <thead>\n",
       "    <tr style=\"text-align: right;\">\n",
       "      <th></th>\n",
       "      <th>uid</th>\n",
       "      <th>premise</th>\n",
       "      <th>hypothesis</th>\n",
       "      <th>label</th>\n",
       "      <th>reason</th>\n",
       "    </tr>\n",
       "  </thead>\n",
       "  <tbody>\n",
       "    <tr>\n",
       "      <th>0</th>\n",
       "      <td>2093cfb3-a15f-4282-81e3-0cb793ffd0d7</td>\n",
       "      <td>TOKYO, Dec 18 (Reuters) - Japan’s Shionogi &amp; C...</td>\n",
       "      <td>The article was written on December 18th.</td>\n",
       "      <td>0</td>\n",
       "      <td>TOKYO, Dec 18 (Reuters) is when the article wa...</td>\n",
       "    </tr>\n",
       "    <tr>\n",
       "      <th>1</th>\n",
       "      <td>d7331d13-1b3b-4423-a3b2-8ac71951b64f</td>\n",
       "      <td>Tallahassee Mayor and Democratic gubernatorial...</td>\n",
       "      <td>Gillum was on TV urging residents to stay out ...</td>\n",
       "      <td>0</td>\n",
       "      <td>This is corrected because he blanketed the nat...</td>\n",
       "    </tr>\n",
       "    <tr>\n",
       "      <th>2</th>\n",
       "      <td>cc9edb93-10f2-4987-8ae4-165a4fa9806e</td>\n",
       "      <td>MELBOURNE will look to avoid stumbling against...</td>\n",
       "      <td>Carlton beat Melbourne in 2016 and will attemp...</td>\n",
       "      <td>0</td>\n",
       "      <td>In a game, one team always tries to beat the o...</td>\n",
       "    </tr>\n",
       "    <tr>\n",
       "      <th>3</th>\n",
       "      <td>6be3c17c-04e4-44a4-a669-92812f003c7e</td>\n",
       "      <td>by Ted Raymond, Newstalk 580 CFRA A stretch of...</td>\n",
       "      <td>The road was closed for more than two hours af...</td>\n",
       "      <td>0</td>\n",
       "      <td>The road was closed from 12:00 to 6:30. I thin...</td>\n",
       "    </tr>\n",
       "    <tr>\n",
       "      <th>4</th>\n",
       "      <td>4c126bd1-2fda-4266-81a2-80ae5e3df18d</td>\n",
       "      <td>Drivers are reporting heavy traffic on the nor...</td>\n",
       "      <td>Its advisible to slow down</td>\n",
       "      <td>0</td>\n",
       "      <td>speed has been reduced</td>\n",
       "    </tr>\n",
       "  </tbody>\n",
       "</table>\n",
       "</div>"
      ],
      "text/plain": [
       "                                    uid  \\\n",
       "0  2093cfb3-a15f-4282-81e3-0cb793ffd0d7   \n",
       "1  d7331d13-1b3b-4423-a3b2-8ac71951b64f   \n",
       "2  cc9edb93-10f2-4987-8ae4-165a4fa9806e   \n",
       "3  6be3c17c-04e4-44a4-a669-92812f003c7e   \n",
       "4  4c126bd1-2fda-4266-81a2-80ae5e3df18d   \n",
       "\n",
       "                                             premise  \\\n",
       "0  TOKYO, Dec 18 (Reuters) - Japan’s Shionogi & C...   \n",
       "1  Tallahassee Mayor and Democratic gubernatorial...   \n",
       "2  MELBOURNE will look to avoid stumbling against...   \n",
       "3  by Ted Raymond, Newstalk 580 CFRA A stretch of...   \n",
       "4  Drivers are reporting heavy traffic on the nor...   \n",
       "\n",
       "                                          hypothesis  label  \\\n",
       "0          The article was written on December 18th.      0   \n",
       "1  Gillum was on TV urging residents to stay out ...      0   \n",
       "2  Carlton beat Melbourne in 2016 and will attemp...      0   \n",
       "3  The road was closed for more than two hours af...      0   \n",
       "4                         Its advisible to slow down      0   \n",
       "\n",
       "                                              reason  \n",
       "0  TOKYO, Dec 18 (Reuters) is when the article wa...  \n",
       "1  This is corrected because he blanketed the nat...  \n",
       "2  In a game, one team always tries to beat the o...  \n",
       "3  The road was closed from 12:00 to 6:30. I thin...  \n",
       "4                             speed has been reduced  "
      ]
     },
     "execution_count": 15,
     "metadata": {},
     "output_type": "execute_result"
    }
   ],
   "source": [
    "import pandas as pd\n",
    "\n",
    "df = pd.read_parquet('anli-train.parquet')\n",
    "df.head()"
   ]
  },
  {
   "cell_type": "code",
   "execution_count": 18,
   "metadata": {},
   "outputs": [
    {
     "data": {
      "text/plain": [
       "105628"
      ]
     },
     "execution_count": 18,
     "metadata": {},
     "output_type": "execute_result"
    }
   ],
   "source": [
    "texts = df['premise'].tolist() + df['hypothesis'].tolist()\n",
    "texts = [t for t in texts if len(t)]\n",
    "texts = list(set(texts))\n",
    "len(texts)"
   ]
  },
  {
   "cell_type": "code",
   "execution_count": 19,
   "metadata": {},
   "outputs": [],
   "source": [
    "with open('anli.jsonl', 'w') as fopen:\n",
    "    for t in texts:\n",
    "        fopen.write(f'{json.dumps(t)}\\n')"
   ]
  },
  {
   "cell_type": "code",
   "execution_count": 20,
   "metadata": {},
   "outputs": [],
   "source": [
    "!split -l 20000 -d --additional-suffix=.splitted anli.jsonl anli.jsonl"
   ]
  },
  {
   "cell_type": "code",
   "execution_count": null,
   "metadata": {},
   "outputs": [],
   "source": []
  }
 ],
 "metadata": {
  "kernelspec": {
   "display_name": "Python 3 (ipykernel)",
   "language": "python",
   "name": "python3"
  },
  "language_info": {
   "codemirror_mode": {
    "name": "ipython",
    "version": 3
   },
   "file_extension": ".py",
   "mimetype": "text/x-python",
   "name": "python",
   "nbconvert_exporter": "python",
   "pygments_lexer": "ipython3",
   "version": "3.8.10"
  }
 },
 "nbformat": 4,
 "nbformat_minor": 4
}
