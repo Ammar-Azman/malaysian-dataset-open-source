{
 "cells": [
  {
   "cell_type": "code",
   "execution_count": 1,
   "metadata": {},
   "outputs": [],
   "source": [
    "import os\n",
    "\n",
    "os.environ['CUDA_VISIBLE_DEVICES'] = ''"
   ]
  },
  {
   "cell_type": "code",
   "execution_count": 2,
   "metadata": {},
   "outputs": [],
   "source": [
    "# !rm multinli_1.0.zip"
   ]
  },
  {
   "cell_type": "code",
   "execution_count": 3,
   "metadata": {},
   "outputs": [
    {
     "data": {
      "text/plain": [
       "['multinli_1.0/multinli_1.0_dev_matched.jsonl',\n",
       " 'multinli_1.0/multinli_1.0_dev_mismatched.jsonl',\n",
       " 'multinli_1.0/multinli_1.0_train.jsonl']"
      ]
     },
     "execution_count": 3,
     "metadata": {},
     "output_type": "execute_result"
    }
   ],
   "source": [
    "from glob import glob\n",
    "\n",
    "files = sorted(glob('multinli_1.0/*.jsonl'))\n",
    "files"
   ]
  },
  {
   "cell_type": "code",
   "execution_count": 4,
   "metadata": {},
   "outputs": [
    {
     "data": {
      "text/plain": [
       "10000"
      ]
     },
     "execution_count": 4,
     "metadata": {},
     "output_type": "execute_result"
    }
   ],
   "source": [
    "import json\n",
    "\n",
    "data = []\n",
    "with open(files[0]) as fopen:\n",
    "    for l in fopen:\n",
    "        data.append(json.loads(l))\n",
    "\n",
    "len(data)"
   ]
  },
  {
   "cell_type": "code",
   "execution_count": 5,
   "metadata": {},
   "outputs": [
    {
     "data": {
      "text/plain": [
       "{'annotator_labels': ['neutral',\n",
       "  'entailment',\n",
       "  'neutral',\n",
       "  'neutral',\n",
       "  'neutral'],\n",
       " 'genre': 'slate',\n",
       " 'gold_label': 'neutral',\n",
       " 'pairID': '63735n',\n",
       " 'promptID': '63735',\n",
       " 'sentence1': 'The new rights are nice enough',\n",
       " 'sentence1_binary_parse': '( ( The ( new rights ) ) ( are ( nice enough ) ) )',\n",
       " 'sentence1_parse': '(ROOT (S (NP (DT The) (JJ new) (NNS rights)) (VP (VBP are) (ADJP (JJ nice) (RB enough)))))',\n",
       " 'sentence2': 'Everyone really likes the newest benefits ',\n",
       " 'sentence2_binary_parse': '( Everyone ( really ( likes ( the ( newest benefits ) ) ) ) )',\n",
       " 'sentence2_parse': '(ROOT (S (NP (NN Everyone)) (VP (ADVP (RB really)) (VBZ likes) (NP (DT the) (JJS newest) (NNS benefits)))))'}"
      ]
     },
     "execution_count": 5,
     "metadata": {},
     "output_type": "execute_result"
    }
   ],
   "source": [
    "data[0]"
   ]
  },
  {
   "cell_type": "code",
   "execution_count": 6,
   "metadata": {},
   "outputs": [],
   "source": [
    "from transformers import T5Tokenizer, T5ForConditionalGeneration\n",
    "\n",
    "tokenizer = T5Tokenizer.from_pretrained('mesolitica/finetune-translation-t5-small-standard-bahasa-cased')\n",
    "model = T5ForConditionalGeneration.from_pretrained('mesolitica/finetune-translation-t5-small-standard-bahasa-cased')"
   ]
  },
  {
   "cell_type": "code",
   "execution_count": 8,
   "metadata": {},
   "outputs": [
    {
     "name": "stdout",
     "output_type": "stream",
     "text": [
      "CPU times: user 482 ms, sys: 0 ns, total: 482 ms\n",
      "Wall time: 62.1 ms\n"
     ]
    }
   ],
   "source": [
    "%%time\n",
    "\n",
    "batch = [data[0]['sentence1'], data[0]['sentence2']]\n",
    "t = ['terjemah Inggeris ke Melayu: ' + b for b in batch]\n",
    "inputs = tokenizer(t, return_tensors=\"pt\", padding = True)\n",
    "translated_tokens = model.generate(**inputs, max_length=500)\n",
    "decoded = tokenizer.batch_decode(translated_tokens, skip_special_tokens=True)"
   ]
  },
  {
   "cell_type": "code",
   "execution_count": 9,
   "metadata": {},
   "outputs": [
    {
     "name": "stderr",
     "output_type": "stream",
     "text": [
      "100%|██████████████████████████████████████████████████████████████████████████████████████████| 10000/10000 [38:59<00:00,  4.27it/s]\n"
     ]
    }
   ],
   "source": [
    "from tqdm import tqdm\n",
    "\n",
    "with open('translated-mnli-dev_matched.jsonl', 'w') as fopenl:\n",
    "    for d in tqdm(data):\n",
    "        batch = [d['sentence1'], d['sentence2']]\n",
    "        t = ['terjemah Inggeris ke Melayu: ' + b for b in batch]\n",
    "        inputs = tokenizer(t, return_tensors=\"pt\", padding = True)\n",
    "        translated_tokens = model.generate(**inputs, max_length=500)\n",
    "        decoded = tokenizer.batch_decode(translated_tokens, skip_special_tokens=True)\n",
    "        \n",
    "        d['translate'] = decoded\n",
    "        fopenl.write(f'{json.dumps(d)}\\n')"
   ]
  },
  {
   "cell_type": "code",
   "execution_count": null,
   "metadata": {},
   "outputs": [],
   "source": []
  }
 ],
 "metadata": {
  "kernelspec": {
   "display_name": "Python 3 (ipykernel)",
   "language": "python",
   "name": "python3"
  },
  "language_info": {
   "codemirror_mode": {
    "name": "ipython",
    "version": 3
   },
   "file_extension": ".py",
   "mimetype": "text/x-python",
   "name": "python",
   "nbconvert_exporter": "python",
   "pygments_lexer": "ipython3",
   "version": "3.8.10"
  }
 },
 "nbformat": 4,
 "nbformat_minor": 4
}
