{
 "cells": [
  {
   "cell_type": "code",
   "execution_count": 1,
   "metadata": {},
   "outputs": [],
   "source": [
    "import os\n",
    "\n",
    "os.environ['CUDA_VISIBLE_DEVICES'] = ''"
   ]
  },
  {
   "cell_type": "code",
   "execution_count": 2,
   "metadata": {},
   "outputs": [],
   "source": [
    "# !rm multinli_1.0.zip"
   ]
  },
  {
   "cell_type": "code",
   "execution_count": 3,
   "metadata": {},
   "outputs": [
    {
     "data": {
      "text/plain": [
       "['multinli_1.0/multinli_1.0_dev_matched.jsonl',\n",
       " 'multinli_1.0/multinli_1.0_dev_mismatched.jsonl',\n",
       " 'multinli_1.0/multinli_1.0_train.jsonl']"
      ]
     },
     "execution_count": 3,
     "metadata": {},
     "output_type": "execute_result"
    }
   ],
   "source": [
    "from glob import glob\n",
    "\n",
    "files = sorted(glob('multinli_1.0/*.jsonl'))\n",
    "files"
   ]
  },
  {
   "cell_type": "code",
   "execution_count": 4,
   "metadata": {},
   "outputs": [
    {
     "data": {
      "text/plain": [
       "10000"
      ]
     },
     "execution_count": 4,
     "metadata": {},
     "output_type": "execute_result"
    }
   ],
   "source": [
    "import json\n",
    "\n",
    "data = []\n",
    "with open(files[1]) as fopen:\n",
    "    for l in fopen:\n",
    "        data.append(json.loads(l))\n",
    "\n",
    "len(data)"
   ]
  },
  {
   "cell_type": "code",
   "execution_count": 5,
   "metadata": {},
   "outputs": [
    {
     "data": {
      "text/plain": [
       "{'annotator_labels': ['contradiction',\n",
       "  'contradiction',\n",
       "  'contradiction',\n",
       "  'contradiction',\n",
       "  'contradiction'],\n",
       " 'genre': 'letters',\n",
       " 'gold_label': 'contradiction',\n",
       " 'pairID': '75290c',\n",
       " 'promptID': '75290',\n",
       " 'sentence1': 'Your contribution helped make it possible for us to provide our students with a quality education.',\n",
       " 'sentence1_binary_parse': '( ( Your contribution ) ( ( helped ( make ( it ( possible ( for ( us ( to ( ( provide ( our students ) ) ( with ( a ( quality education ) ) ) ) ) ) ) ) ) ) ) . ) )',\n",
       " 'sentence1_parse': '(ROOT (S (NP (PRP$ Your) (NN contribution)) (VP (VBD helped) (VP (VB make) (S (NP (PRP it)) (ADJP (JJ possible)) (SBAR (IN for) (S (NP (PRP us)) (VP (TO to) (VP (VB provide) (NP (PRP$ our) (NNS students)) (PP (IN with) (NP (DT a) (NN quality) (NN education)))))))))) (. .)))',\n",
       " 'sentence2': \"Your contributions were of no help with our students' education.\",\n",
       " 'sentence2_binary_parse': \"( ( Your contributions ) ( ( were ( of ( ( no help ) ( with ( ( our ( students ' ) ) education ) ) ) ) ) . ) )\",\n",
       " 'sentence2_parse': \"(ROOT (S (NP (PRP$ Your) (NNS contributions)) (VP (VBD were) (PP (IN of) (NP (NP (DT no) (NN help)) (PP (IN with) (NP (NP (PRP$ our) (NNS students) (POS ')) (NN education)))))) (. .)))\"}"
      ]
     },
     "execution_count": 5,
     "metadata": {},
     "output_type": "execute_result"
    }
   ],
   "source": [
    "data[0]"
   ]
  },
  {
   "cell_type": "code",
   "execution_count": 6,
   "metadata": {},
   "outputs": [],
   "source": [
    "from transformers import T5Tokenizer, T5ForConditionalGeneration\n",
    "\n",
    "tokenizer = T5Tokenizer.from_pretrained('mesolitica/finetune-translation-t5-small-standard-bahasa-cased')\n",
    "model = T5ForConditionalGeneration.from_pretrained('mesolitica/finetune-translation-t5-small-standard-bahasa-cased')"
   ]
  },
  {
   "cell_type": "code",
   "execution_count": 7,
   "metadata": {},
   "outputs": [
    {
     "name": "stdout",
     "output_type": "stream",
     "text": [
      "CPU times: user 2.12 s, sys: 1.19 s, total: 3.3 s\n",
      "Wall time: 1.67 s\n"
     ]
    }
   ],
   "source": [
    "%%time\n",
    "\n",
    "batch = [data[0]['sentence1'], data[0]['sentence2']]\n",
    "t = ['terjemah Inggeris ke Melayu: ' + b for b in batch]\n",
    "inputs = tokenizer(t, return_tensors=\"pt\", padding = True)\n",
    "translated_tokens = model.generate(**inputs, max_length=500)\n",
    "decoded = tokenizer.batch_decode(translated_tokens, skip_special_tokens=True)"
   ]
  },
  {
   "cell_type": "code",
   "execution_count": 8,
   "metadata": {},
   "outputs": [
    {
     "name": "stderr",
     "output_type": "stream",
     "text": [
      "100%|██████████████████████████████████████████████████████████████████████████████████████████| 10000/10000 [37:09<00:00,  4.49it/s]\n"
     ]
    }
   ],
   "source": [
    "from tqdm import tqdm\n",
    "\n",
    "with open('translated-mnli-dev_mismatched.jsonl', 'w') as fopenl:\n",
    "    for d in tqdm(data):\n",
    "        batch = [d['sentence1'], d['sentence2']]\n",
    "        t = ['terjemah Inggeris ke Melayu: ' + b for b in batch]\n",
    "        inputs = tokenizer(t, return_tensors=\"pt\", padding = True)\n",
    "        translated_tokens = model.generate(**inputs, max_length=500)\n",
    "        decoded = tokenizer.batch_decode(translated_tokens, skip_special_tokens=True)\n",
    "        \n",
    "        d['translate'] = decoded\n",
    "        fopenl.write(f'{json.dumps(d)}\\n')"
   ]
  }
 ],
 "metadata": {
  "kernelspec": {
   "display_name": "Python 3 (ipykernel)",
   "language": "python",
   "name": "python3"
  },
  "language_info": {
   "codemirror_mode": {
    "name": "ipython",
    "version": 3
   },
   "file_extension": ".py",
   "mimetype": "text/x-python",
   "name": "python",
   "nbconvert_exporter": "python",
   "pygments_lexer": "ipython3",
   "version": "3.8.10"
  }
 },
 "nbformat": 4,
 "nbformat_minor": 4
}
