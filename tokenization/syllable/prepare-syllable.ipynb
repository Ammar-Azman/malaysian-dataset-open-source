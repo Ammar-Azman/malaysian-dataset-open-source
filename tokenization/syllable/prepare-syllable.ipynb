{
 "cells": [
  {
   "cell_type": "code",
   "execution_count": 121,
   "metadata": {},
   "outputs": [],
   "source": [
    "# !wget https://huggingface.co/datasets/mesolitica/dbp/resolve/main/dbp-v7.json\n",
    "# !wget https://huggingface.co/datasets/mesolitica/dbp/resolve/main/dbp-v6.json\n",
    "# !wget https://huggingface.co/datasets/mesolitica/dbp/resolve/main/dbp-v5.json\n",
    "# !wget https://huggingface.co/datasets/mesolitica/dbp/resolve/main/dbp-v4.json\n",
    "# !wget https://huggingface.co/datasets/mesolitica/dbp/resolve/main/dbp-v3.json\n",
    "# !wget https://huggingface.co/datasets/mesolitica/dbp/resolve/main/dbp-v2.json\n",
    "# !wget https://huggingface.co/datasets/mesolitica/dbp/resolve/main/dbp.zip\n",
    "# !unzip dbp.zip\n",
    "# !rm dbp.zip"
   ]
  },
  {
   "cell_type": "code",
   "execution_count": 2,
   "metadata": {},
   "outputs": [
    {
     "name": "stderr",
     "output_type": "stream",
     "text": [
      "/home/husein/dev/malaya/malaya/tokenizer.py:202: FutureWarning: Possible nested set at position 3361\n",
      "  self.tok = re.compile(r'({})'.format('|'.join(pipeline)))\n",
      "/home/husein/dev/malaya/malaya/tokenizer.py:202: FutureWarning: Possible nested set at position 3879\n",
      "  self.tok = re.compile(r'({})'.format('|'.join(pipeline)))\n"
     ]
    }
   ],
   "source": [
    "from malaya.supervised.settings import jawi_right\n",
    "from unidecode import unidecode\n",
    "\n",
    "PUNCTUATION = '!\"#$%&\\'()*+,./:;<=>?@[\\]^_`{|}~-، '\n",
    "NUMBERS = '1234567890'"
   ]
  },
  {
   "cell_type": "code",
   "execution_count": 3,
   "metadata": {},
   "outputs": [],
   "source": [
    "jawi = list(jawi_right.keys())\n",
    "jawi = [c for c in jawi if str(c) not in PUNCTUATION and str(c) not in NUMBERS and len(c)]\n",
    "jawi = set(jawi)"
   ]
  },
  {
   "cell_type": "code",
   "execution_count": 4,
   "metadata": {},
   "outputs": [
    {
     "data": {
      "text/plain": [
       "{0: 0,\n",
       " 1: 1,\n",
       " 2: 2,\n",
       " 3: 3,\n",
       " ' ': 4,\n",
       " '!': 5,\n",
       " '\"': 6,\n",
       " '-': 7,\n",
       " '.': 8,\n",
       " ':': 9,\n",
       " ';': 10,\n",
       " '،': 11,\n",
       " '؟': 12,\n",
       " 'ء': 13,\n",
       " 'آ': 14,\n",
       " 'أ': 15,\n",
       " 'ؤ': 16,\n",
       " 'إ': 17,\n",
       " 'ئ': 18,\n",
       " 'ا': 19,\n",
       " 'ب': 20,\n",
       " 'ة': 21,\n",
       " 'ت': 22,\n",
       " 'ث': 23,\n",
       " 'ج': 24,\n",
       " 'ح': 25,\n",
       " 'خ': 26,\n",
       " 'د': 27,\n",
       " 'ذ': 28,\n",
       " 'ر': 29,\n",
       " 'ز': 30,\n",
       " 'س': 31,\n",
       " 'ش': 32,\n",
       " 'ص': 33,\n",
       " 'ض': 34,\n",
       " 'ط': 35,\n",
       " 'ظ': 36,\n",
       " 'ع': 37,\n",
       " 'غ': 38,\n",
       " 'ف': 39,\n",
       " 'ق': 40,\n",
       " 'ك': 41,\n",
       " 'ل': 42,\n",
       " 'م': 43,\n",
       " 'ن': 44,\n",
       " 'ه': 45,\n",
       " 'و': 46,\n",
       " 'ى': 47,\n",
       " 'ي': 48,\n",
       " 'ّ': 49,\n",
       " 'ٓ': 50,\n",
       " '٠': 51,\n",
       " '١': 52,\n",
       " '٢': 53,\n",
       " '٣': 54,\n",
       " '٤': 55,\n",
       " '٥': 56,\n",
       " '٦': 57,\n",
       " '٧': 58,\n",
       " '٨': 59,\n",
       " '٩': 60,\n",
       " 'چ': 61,\n",
       " 'ڠ': 62,\n",
       " 'ڤ': 63,\n",
       " 'ڬ': 64,\n",
       " 'ڽ': 65,\n",
       " 'ۏ': 66,\n",
       " '﴾': 67,\n",
       " '﴿': 68}"
      ]
     },
     "execution_count": 4,
     "metadata": {},
     "output_type": "execute_result"
    }
   ],
   "source": [
    "jawi_right"
   ]
  },
  {
   "cell_type": "code",
   "execution_count": 122,
   "metadata": {},
   "outputs": [
    {
     "data": {
      "text/plain": [
       "41412"
      ]
     },
     "execution_count": 122,
     "metadata": {},
     "output_type": "execute_result"
    }
   ],
   "source": [
    "import json\n",
    "\n",
    "with open('dbp-v2.json') as fopen:\n",
    "    data = json.load(fopen)\n",
    "    \n",
    "len(data)"
   ]
  },
  {
   "cell_type": "code",
   "execution_count": 123,
   "metadata": {},
   "outputs": [
    {
     "data": {
      "text/plain": [
       "78670"
      ]
     },
     "execution_count": 123,
     "metadata": {},
     "output_type": "execute_result"
    }
   ],
   "source": [
    "from glob import glob\n",
    "from tqdm import tqdm\n",
    "import os\n",
    "\n",
    "dbps = glob('dbp/*.json')\n",
    "len(dbps)"
   ]
  },
  {
   "cell_type": "code",
   "execution_count": 124,
   "metadata": {},
   "outputs": [
    {
     "data": {
      "text/plain": [
       "41412"
      ]
     },
     "execution_count": 124,
     "metadata": {},
     "output_type": "execute_result"
    }
   ],
   "source": [
    "for f in dbps:\n",
    "    with open(f) as fopen:\n",
    "        v = json.load(fopen)\n",
    "    k = os.path.split(dbps[0])[1].replace('.json', '')\n",
    "    data[k] = v\n",
    "    \n",
    "len(data)"
   ]
  },
  {
   "cell_type": "code",
   "execution_count": 125,
   "metadata": {},
   "outputs": [
    {
     "data": {
      "text/plain": [
       "53882"
      ]
     },
     "execution_count": 125,
     "metadata": {},
     "output_type": "execute_result"
    }
   ],
   "source": [
    "with open('dbp-v3.json') as fopen:\n",
    "    data_ = json.load(fopen)\n",
    "    \n",
    "for k, v in data_.items():\n",
    "    data[k] = v\n",
    "    \n",
    "len(data)"
   ]
  },
  {
   "cell_type": "code",
   "execution_count": 126,
   "metadata": {},
   "outputs": [
    {
     "data": {
      "text/plain": [
       "58139"
      ]
     },
     "execution_count": 126,
     "metadata": {},
     "output_type": "execute_result"
    }
   ],
   "source": [
    "with open('dbp-v4.json') as fopen:\n",
    "    data_ = json.load(fopen)\n",
    "    \n",
    "for k, v in data_.items():\n",
    "    data[k] = v\n",
    "    \n",
    "len(data)"
   ]
  },
  {
   "cell_type": "code",
   "execution_count": 127,
   "metadata": {},
   "outputs": [
    {
     "data": {
      "text/plain": [
       "58692"
      ]
     },
     "execution_count": 127,
     "metadata": {},
     "output_type": "execute_result"
    }
   ],
   "source": [
    "with open('dbp-v5.json') as fopen:\n",
    "    data_ = json.load(fopen)\n",
    "    \n",
    "for k, v in data_.items():\n",
    "    data[k] = v\n",
    "    \n",
    "len(data)"
   ]
  },
  {
   "cell_type": "code",
   "execution_count": 128,
   "metadata": {},
   "outputs": [
    {
     "data": {
      "text/plain": [
       "58713"
      ]
     },
     "execution_count": 128,
     "metadata": {},
     "output_type": "execute_result"
    }
   ],
   "source": [
    "with open('dbp-v6.json') as fopen:\n",
    "    data_ = json.load(fopen)\n",
    "    \n",
    "for k, v in data_.items():\n",
    "    data[k] = v\n",
    "    \n",
    "len(data)"
   ]
  },
  {
   "cell_type": "code",
   "execution_count": 129,
   "metadata": {},
   "outputs": [
    {
     "data": {
      "text/plain": [
       "58717"
      ]
     },
     "execution_count": 129,
     "metadata": {},
     "output_type": "execute_result"
    }
   ],
   "source": [
    "with open('dbp-v7.json') as fopen:\n",
    "    data_ = json.load(fopen)\n",
    "    \n",
    "for k, v in data_.items():\n",
    "    data[k] = v\n",
    "    \n",
    "len(data)"
   ]
  },
  {
   "cell_type": "code",
   "execution_count": 130,
   "metadata": {},
   "outputs": [
    {
     "data": {
      "text/plain": [
       "{'definisi': ['[a.gung]  |  اݢوڠDefinisi : 1. (paling) besar, terutama: balai ~; layar ~; tiang ~; 2. yg tertinggi: pemerintah ~; 3. teristimewa, terkemuka, terutama: Allahyarham Tun Abdul Razak seorang pemimpin yg ~; Allahyarham P. Ramlee seniman ~ Malaysia; tamu ~; 4. yg terbuka kpd dan utk dihadiri oleh semua ahli (bkn mesyuarat, persidangan, dsb): persidangan ~ UMNO; mesyuarat ~ Kesatuan Sekerja DBP; mengagungkan menjadikan (menganggap dsb) agung, membesarkan, memuliakan, me\\xadninggikan: al-Quran ~ ilmu pengetahuan dan memuliakan ahli ilmu; mengagung-agungkan selalu (sering kali) mengagungkan, sangat mengagungkan; keagungan kebesaran, kemuliaan, keting\\xadgian: ~ Abdullah sbg pengarang terletak pd konsepsinya yg moden; keagungan kebesaran, kemuliaan, keting\\xadgian: ~ Abdullah sbg pengarang terletak pd konsepsinya yg moden; pengagungan perbuatan dsb mengagungkan: antara yg menghalang perkembangan pesat bahasa Melayu ialah kekurangan bahan rujuk\\xad\\xadan dlm bahasa itu dan ~ bahasa Inggeris.\\xa0(Kamus Dewan Edisi Keempat)',\n",
       "  '[a.gung]  |  اݢوڠDefinisi : teragung, teragung-agung ter\\xadhan\\xadtuk (kepala, buah-buahan); ragung.\\xa0(Kamus Dewan Edisi Keempat)',\n",
       "  '[a.gung]  |  اݢوڠDefinisi : 1 tertinggi: Allah yg Maha ~. 2 besar: tiang ~; layar ~. mengagungkan menganggap agung; memuliakan; meluhurkan: Sbg rakyat yg setia, kita mesti ~ bahasa Melayu. keagungan keadaan agung; kemuliaan; keluhuran: ~ kerajaan Melayu Melaka telah mencapai kemuncaknya pd zaman pemerintahan Sultan Mansur Syah.\\xa0(Kamus Pelajar Edisi Kedua)'],\n",
       " 'tesaurus': None}"
      ]
     },
     "execution_count": 130,
     "metadata": {},
     "output_type": "execute_result"
    }
   ],
   "source": [
    "data['agung']"
   ]
  },
  {
   "cell_type": "code",
   "execution_count": 131,
   "metadata": {},
   "outputs": [
    {
     "data": {
      "text/plain": [
       "58717"
      ]
     },
     "execution_count": 131,
     "metadata": {},
     "output_type": "execute_result"
    }
   ],
   "source": [
    "len(data.keys())"
   ]
  },
  {
   "cell_type": "code",
   "execution_count": 132,
   "metadata": {},
   "outputs": [
    {
     "data": {
      "text/plain": [
       "39562"
      ]
     },
     "execution_count": 132,
     "metadata": {},
     "output_type": "execute_result"
    }
   ],
   "source": [
    "keys = []\n",
    "for k, v in data.items():\n",
    "    if len(v['definisi']):\n",
    "        for d in v['definisi']:\n",
    "            if d[0] == '[' and len(set(d) & jawi):\n",
    "                keys.append(k)\n",
    "keys = list(set(keys))\n",
    "len(keys)"
   ]
  },
  {
   "cell_type": "code",
   "execution_count": 133,
   "metadata": {},
   "outputs": [],
   "source": [
    "with open('dbp-keys.json', 'w') as fopen:\n",
    "    json.dump(list(data.keys()), fopen)"
   ]
  },
  {
   "cell_type": "code",
   "execution_count": 134,
   "metadata": {},
   "outputs": [
    {
     "data": {
      "text/plain": [
       "{'O'}"
      ]
     },
     "execution_count": 134,
     "metadata": {},
     "output_type": "execute_result"
    }
   ],
   "source": [
    "set('raji').symmetric_difference(set('raj.Oi'.replace('.', '')))"
   ]
  },
  {
   "cell_type": "code",
   "execution_count": 135,
   "metadata": {},
   "outputs": [
    {
     "data": {
      "text/plain": [
       "{'O'}"
      ]
     },
     "execution_count": 135,
     "metadata": {},
     "output_type": "execute_result"
    }
   ],
   "source": [
    "set('pen.daO.wah'.replace('.', '')) - set('pendakwah')"
   ]
  },
  {
   "cell_type": "code",
   "execution_count": 136,
   "metadata": {},
   "outputs": [
    {
     "data": {
      "text/plain": [
       "((False, 'bi.Oa.dat'), (True, 'som.pek'))"
      ]
     },
     "execution_count": 136,
     "metadata": {},
     "output_type": "execute_result"
    }
   ],
   "source": [
    "def replace_same_length(l, r):\n",
    "    l = l.replace('-', '')\n",
    "    if len(l) != len(r.replace('.', '')):\n",
    "        return False, r\n",
    "    \n",
    "    index = {}\n",
    "    i = 0\n",
    "    for no, c in enumerate(r):\n",
    "        if c not in '.O':\n",
    "            index[no] = i\n",
    "            i += 1\n",
    "    index = {v: k for k, v in index.items()}\n",
    "    \n",
    "    r = list(r)\n",
    "    \n",
    "    for no, c in enumerate(l):\n",
    "        if c != r[index[no]]:\n",
    "            r[index[no]] = c\n",
    "            \n",
    "    return True, ''.join(r)\n",
    "\n",
    "replace_same_length('biadat', 'bi.Oa.dat'), replace_same_length('sompek', 'som.pe/')"
   ]
  },
  {
   "cell_type": "code",
   "execution_count": 137,
   "metadata": {},
   "outputs": [],
   "source": [
    "syllable = []\n",
    "for k in keys:\n",
    "    d = unidecode(data[k]['definisi'][0].split('|')[0].strip()[1:-1])\n",
    "    if ']' in d:\n",
    "        d = d.split(']')[0]\n",
    "    d = d.strip().replace('O', '')\n",
    "    k = k.strip()\n",
    "    if d.replace('.', '') != k:\n",
    "        # print(k, d, set(k).symmetric_difference(set(d.replace('.', ''))))\n",
    "        pass\n",
    "        \n",
    "    if len(k.replace('-', '')) != len(d.replace('.', '')):\n",
    "        # print(k, d)\n",
    "        continue\n",
    "    else:\n",
    "        pass\n",
    "        # continue\n",
    "        \n",
    "#     if 'nyuar' in k:\n",
    "#         print(k, d)\n",
    "    \n",
    "    d_ = replace_same_length(k, d)\n",
    "    if d_[0]:\n",
    "        syllable.append((k, d_[1]))"
   ]
  },
  {
   "cell_type": "code",
   "execution_count": 138,
   "metadata": {},
   "outputs": [
    {
     "data": {
      "text/plain": [
       "39031"
      ]
     },
     "execution_count": 138,
     "metadata": {},
     "output_type": "execute_result"
    }
   ],
   "source": [
    "len(syllable)"
   ]
  },
  {
   "cell_type": "code",
   "execution_count": 139,
   "metadata": {
    "scrolled": true
   },
   "outputs": [
    {
     "data": {
      "text/plain": [
       "[('panggu', 'pang.gu'),\n",
       " ('kerabit', 'ke.ra.bit'),\n",
       " ('berkurik', 'ber.ku.rik'),\n",
       " ('menjunam', 'men.ju.nam'),\n",
       " ('mendedahkan', 'men.de.dah.kan'),\n",
       " ('gocoh', 'go.coh'),\n",
       " ('kiasan', 'kia.san'),\n",
       " ('selektif', 'se.lek.tif'),\n",
       " ('penolok', 'pe.no.lok'),\n",
       " ('alinan', 'a.li.nan'),\n",
       " ('menyelumur', 'me.nye.lu.mur'),\n",
       " ('memencak-mencak', 'me.men.cak.men.cak'),\n",
       " ('penggergajian', 'peng.ger.ga.jian'),\n",
       " ('gangsar', 'gang.sar'),\n",
       " ('etnomuzikologi', 'et.no.mu.zi.ko.lo.gi'),\n",
       " ('kereputan', 'ke.re.pu.tan'),\n",
       " ('merebaskan', 'me.re.bas.kan'),\n",
       " ('terjual', 'ter.jual'),\n",
       " ('peletak', 'pe.le.tak'),\n",
       " ('asas', 'a.sas'),\n",
       " ('anai-anai', 'a.nai.a.nai'),\n",
       " ('tersagang', 'ter.sa.gang'),\n",
       " ('mengubar', 'me.ngu.bar'),\n",
       " ('perokok', 'pe.ro.kok'),\n",
       " ('bergapaian', 'ber.ga.paian'),\n",
       " ('berpadan', 'ber.pa.dan'),\n",
       " ('lasykar', 'lasy.kar'),\n",
       " ('optometri', 'op.to.me.tri'),\n",
       " ('merantai', 'me.ran.tai'),\n",
       " ('bahas', 'ba.has'),\n",
       " ('menyuguhi', 'me.nyu.gu.hi'),\n",
       " ('taifah', 'ta.i.fah'),\n",
       " ('sanjung', 'san.jung'),\n",
       " ('bersela-sela', 'ber.se.la.se.la'),\n",
       " ('melibatkan', 'me.li.bat.kan'),\n",
       " ('beria-ria', 'be.ria.ria'),\n",
       " ('berkeluarga', 'ber.ke.luar.ga'),\n",
       " ('gelepur', 'ge.le.pur'),\n",
       " ('leban', 'le.ban'),\n",
       " ('mengistinbatkan', 'me.ngis.tin.bat.kan'),\n",
       " ('simuntus', 'si.mun.tus'),\n",
       " ('balai', 'ba.lai'),\n",
       " ('bertuhan', 'ber.tu.han'),\n",
       " ('pensisteman', 'pen.sis.te.man'),\n",
       " ('komunal', 'ko.mu.nal'),\n",
       " ('memusatkan', 'me.mu.sat.kan'),\n",
       " ('melebam', 'me.le.bam'),\n",
       " ('astrokimia', 'as.tro.ki.mia'),\n",
       " ('desis', 'de.sis'),\n",
       " ('aromatik', 'a.ro.ma.tik'),\n",
       " ('perkerangan', 'per.ke.ra.ngan'),\n",
       " ('memparadam', 'mem.pa.ra.dam'),\n",
       " ('meremang', 'me.re.mang'),\n",
       " ('neraca', 'ne.ra.ca'),\n",
       " ('berpremiskan', 'ber.pre.mis.kan'),\n",
       " ('terhad', 'ter.had'),\n",
       " ('jelmaan', 'jel.ma.an'),\n",
       " ('sigap', 'si.gap'),\n",
       " ('kebejatan', 'ke.be.ja.tan'),\n",
       " ('ayum', 'a.yum'),\n",
       " ('pelonjakan', 'pe.lon.ja.kan'),\n",
       " ('kontra', 'kon.tra'),\n",
       " ('tertonggeng', 'ter.tong.geng'),\n",
       " ('biskop', 'bis.kop'),\n",
       " ('simpul', 'sim.pul'),\n",
       " ('bermuram', 'ber.mu.ram'),\n",
       " ('selampai', 'se.lam.pai'),\n",
       " ('panoramik', 'pa.no.ra.mik'),\n",
       " ('mempergosokkan', 'mem.per.go.sok.kan'),\n",
       " ('membelit', 'mem.be.lit'),\n",
       " ('terberancai', 'ter.be.ran.cai'),\n",
       " ('kemunasabahan', 'ke.mu.na.sa.ba.han'),\n",
       " ('daku', 'da.ku'),\n",
       " ('kayu', 'ka.yu'),\n",
       " ('kemalangan', 'ke.ma.la.ngan'),\n",
       " ('payuk', 'pa.yuk'),\n",
       " ('simbat', 'sim.bat'),\n",
       " ('bangkai', 'bang.kai'),\n",
       " ('pengantarabangsaan', 'pe.ngan.ta.ra.bang.sa.an'),\n",
       " ('rekonstruksi', 're.kon.struk.si'),\n",
       " ('kegentingan', 'ke.gen.ti.ngan'),\n",
       " ('monarki', 'mo.nar.ki'),\n",
       " ('atur-atur', 'a.tur.a.tur'),\n",
       " ('akademik', 'a.ka.de.mik'),\n",
       " ('nenering', 'ne.ne.ring'),\n",
       " ('berjerumat', 'ber.je.ru.mat'),\n",
       " ('lemper', 'lem.per'),\n",
       " ('penjebakan', 'pen.je.ba.kan'),\n",
       " ('senu', 'se.nu'),\n",
       " ('berpesta', 'ber.pes.ta'),\n",
       " ('penilik', 'pe.ni.lik'),\n",
       " ('haru-biru', 'ha.ru.bi.ru'),\n",
       " ('poswesel', 'pos.we.sel'),\n",
       " ('terusi', 'te.ru.si'),\n",
       " ('penstabil', 'pen.sta.bil'),\n",
       " ('handasah', 'han.da.sah'),\n",
       " ('mempertunggang', 'mem.per.tung.gang'),\n",
       " ('memuslimkan', 'me.mus.lim.kan'),\n",
       " ('abstraksi', 'ab.strak.si'),\n",
       " ('enjut', 'en.jut')]"
      ]
     },
     "execution_count": 139,
     "metadata": {},
     "output_type": "execute_result"
    }
   ],
   "source": [
    "syllable[-100:]"
   ]
  },
  {
   "cell_type": "code",
   "execution_count": 144,
   "metadata": {},
   "outputs": [],
   "source": [
    "combined = []\n",
    "for s in syllable:\n",
    "    combined.extend(list(s))"
   ]
  },
  {
   "cell_type": "code",
   "execution_count": 145,
   "metadata": {},
   "outputs": [],
   "source": [
    "with open('text.txt', 'w') as fopen:\n",
    "    fopen.write('\\n'.join(combined))"
   ]
  },
  {
   "cell_type": "code",
   "execution_count": 146,
   "metadata": {},
   "outputs": [],
   "source": [
    "import youtokentome as yttm"
   ]
  },
  {
   "cell_type": "code",
   "execution_count": 148,
   "metadata": {},
   "outputs": [
    {
     "name": "stderr",
     "output_type": "stream",
     "text": [
      "Training parameters\n",
      "  input: text.txt\n",
      "  model: syllable.model\n",
      "  vocab_size: 1000\n",
      "  n_threads: 8\n",
      "  character_coverage: 1\n",
      "  pad: 0\n",
      "  unk: 2\n",
      "  bos: 3\n",
      "  eos: 1\n",
      "\n",
      "reading file...\n",
      "learning bpe...\n",
      "number of unique characters in the training data: 28\n",
      "number of deleted characters: 0\n",
      "number of unique characters left: 28\n",
      "model saved to: syllable.model\n"
     ]
    }
   ],
   "source": [
    "syllable_bpe = yttm.BPE.train(data='text.txt', vocab_size=1000, model='syllable.model',\n",
    "              pad_id=0, unk_id=2, bos_id=3, eos_id=1)"
   ]
  },
  {
   "cell_type": "code",
   "execution_count": 149,
   "metadata": {},
   "outputs": [],
   "source": [
    "from sklearn.model_selection import train_test_split"
   ]
  },
  {
   "cell_type": "code",
   "execution_count": 150,
   "metadata": {},
   "outputs": [
    {
     "data": {
      "text/plain": [
       "(37079, 1952)"
      ]
     },
     "execution_count": 150,
     "metadata": {},
     "output_type": "execute_result"
    }
   ],
   "source": [
    "train, test = train_test_split(syllable, test_size = 0.05)\n",
    "len(train), len(test)"
   ]
  },
  {
   "cell_type": "code",
   "execution_count": 151,
   "metadata": {},
   "outputs": [],
   "source": [
    "with open('train-syllable.json', 'w') as fopen:\n",
    "    json.dump(train, fopen)"
   ]
  },
  {
   "cell_type": "code",
   "execution_count": 152,
   "metadata": {},
   "outputs": [],
   "source": [
    "with open('test-syllable.json', 'w') as fopen:\n",
    "    json.dump(test, fopen)"
   ]
  },
  {
   "cell_type": "code",
   "execution_count": null,
   "metadata": {},
   "outputs": [],
   "source": []
  }
 ],
 "metadata": {
  "kernelspec": {
   "display_name": "Python 3 (ipykernel)",
   "language": "python",
   "name": "python3"
  },
  "language_info": {
   "codemirror_mode": {
    "name": "ipython",
    "version": 3
   },
   "file_extension": ".py",
   "mimetype": "text/x-python",
   "name": "python",
   "nbconvert_exporter": "python",
   "pygments_lexer": "ipython3",
   "version": "3.8.10"
  }
 },
 "nbformat": 4,
 "nbformat_minor": 4
}
