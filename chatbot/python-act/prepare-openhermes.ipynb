{
 "cells": [
  {
   "cell_type": "code",
   "execution_count": 4,
   "id": "f0f6dc69",
   "metadata": {},
   "outputs": [],
   "source": [
    "import json\n",
    "\n",
    "with open('openhermes2_5.json') as fopen:\n",
    "    d = json.load(fopen)"
   ]
  },
  {
   "cell_type": "code",
   "execution_count": 8,
   "id": "84e537a9",
   "metadata": {},
   "outputs": [],
   "source": [
    "filtered = []\n",
    "for d_ in d:\n",
    "    if '```python' in d_['conversations'][-1]['value']:\n",
    "        filtered.append(d_)"
   ]
  },
  {
   "cell_type": "code",
   "execution_count": 11,
   "id": "21012081",
   "metadata": {},
   "outputs": [
    {
     "data": {
      "text/plain": [
       "82027"
      ]
     },
     "execution_count": 11,
     "metadata": {},
     "output_type": "execute_result"
    }
   ],
   "source": [
    "len(filtered)"
   ]
  },
  {
   "cell_type": "code",
   "execution_count": 12,
   "id": "f1c1fc1a",
   "metadata": {},
   "outputs": [],
   "source": [
    "with open('prepared-openhermes.json', 'w') as fopen:\n",
    "    json.dump(filtered, fopen)"
   ]
  },
  {
   "cell_type": "code",
   "execution_count": null,
   "id": "3f6af92f",
   "metadata": {},
   "outputs": [],
   "source": [
    "\"generated sequences ['<s> Hello. Ini siapa ya? Apa khabar? Nama saya Kamarul. Saya sedang menggunakan peralatan yang disenaraik an dalam pertanyaan untuk menjalankan beberapa tugas dan saya ingin terus bekerja dengan baik sehingga saya menggunakan peranti an saya dengan tepat. [/INST] Selamat sejahtera! Saya gembira dapat membantu anda. Saya sentiasa dengan ini untuk membantu anda dengan sebarang soalan yang anda ada. Jangan teragak-agak untuk bertanya! </s>'] in 1.2768537998199463 seconds\""
   ]
  },
  {
   "cell_type": "code",
   "execution_count": null,
   "id": "e1b7fe03",
   "metadata": {},
   "outputs": [],
   "source": []
  }
 ],
 "metadata": {
  "kernelspec": {
   "display_name": "Python 3 (ipykernel)",
   "language": "python",
   "name": "python3"
  },
  "language_info": {
   "codemirror_mode": {
    "name": "ipython",
    "version": 3
   },
   "file_extension": ".py",
   "mimetype": "text/x-python",
   "name": "python",
   "nbconvert_exporter": "python",
   "pygments_lexer": "ipython3",
   "version": "3.8.10"
  }
 },
 "nbformat": 4,
 "nbformat_minor": 5
}
