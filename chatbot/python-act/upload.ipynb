{
 "cells": [
  {
   "cell_type": "code",
   "execution_count": 1,
   "id": "fdb12bab",
   "metadata": {},
   "outputs": [],
   "source": [
    "from glob import glob\n",
    "import json"
   ]
  },
  {
   "cell_type": "code",
   "execution_count": 2,
   "id": "1a8a01aa",
   "metadata": {},
   "outputs": [
    {
     "data": {
      "text/plain": [
       "1110"
      ]
     },
     "execution_count": 2,
     "metadata": {},
     "output_type": "execute_result"
    }
   ],
   "source": [
    "files = glob('code-feedback/*.json')\n",
    "len(files)"
   ]
  },
  {
   "cell_type": "code",
   "execution_count": 9,
   "id": "c42811d2",
   "metadata": {},
   "outputs": [],
   "source": [
    "with open('python-code-feedback.jsonl', 'w') as fopen_l:\n",
    "    for f in files:\n",
    "        with open(f) as fopen:\n",
    "            data = json.load(fopen)\n",
    "        \n",
    "        if data['result'] is None:\n",
    "            continue\n",
    "        if len(data['result']) == 3:\n",
    "            continue\n",
    "        if len(data['result']) == 12:\n",
    "            continue\n",
    "        fopen_l.write(f'{json.dumps(data)}\\n')"
   ]
  },
  {
   "cell_type": "code",
   "execution_count": 10,
   "id": "75823e4d",
   "metadata": {},
   "outputs": [
    {
     "name": "stdout",
     "output_type": "stream",
     "text": [
      "774 python-code-feedback.jsonl\r\n"
     ]
    }
   ],
   "source": [
    "!wc -l python-code-feedback.jsonl"
   ]
  },
  {
   "cell_type": "code",
   "execution_count": 12,
   "id": "ccf0ba02",
   "metadata": {},
   "outputs": [],
   "source": [
    "from huggingface_hub import HfApi\n",
    "api = HfApi()"
   ]
  },
  {
   "cell_type": "code",
   "execution_count": 13,
   "id": "9b002582",
   "metadata": {},
   "outputs": [
    {
     "data": {
      "application/vnd.jupyter.widget-view+json": {
       "model_id": "879a192cbd90419e87c07e666ba6e0fe",
       "version_major": 2,
       "version_minor": 0
      },
      "text/plain": [
       "python-code-feedback.jsonl:   0%|          | 0.00/13.0M [00:00<?, ?B/s]"
      ]
     },
     "metadata": {},
     "output_type": "display_data"
    },
    {
     "data": {
      "text/plain": [
       "CommitInfo(commit_url='https://huggingface.co/datasets/mesolitica/python-act/commit/8ee02ed64ac405480f561132a10049c4b55046d4', commit_message='Upload python-code-feedback.jsonl with huggingface_hub', commit_description='', oid='8ee02ed64ac405480f561132a10049c4b55046d4', pr_url=None, pr_revision=None, pr_num=None)"
      ]
     },
     "execution_count": 13,
     "metadata": {},
     "output_type": "execute_result"
    }
   ],
   "source": [
    "api.upload_file(\n",
    "    path_or_fileobj='python-code-feedback.jsonl',\n",
    "    path_in_repo='python-code-feedback.jsonl',\n",
    "    repo_id='mesolitica/python-act',\n",
    "    repo_type='dataset',\n",
    ")"
   ]
  },
  {
   "cell_type": "code",
   "execution_count": null,
   "id": "cb176aab",
   "metadata": {},
   "outputs": [],
   "source": []
  }
 ],
 "metadata": {
  "kernelspec": {
   "display_name": "Python 3 (ipykernel)",
   "language": "python",
   "name": "python3"
  },
  "language_info": {
   "codemirror_mode": {
    "name": "ipython",
    "version": 3
   },
   "file_extension": ".py",
   "mimetype": "text/x-python",
   "name": "python",
   "nbconvert_exporter": "python",
   "pygments_lexer": "ipython3",
   "version": "3.8.10"
  }
 },
 "nbformat": 4,
 "nbformat_minor": 5
}
