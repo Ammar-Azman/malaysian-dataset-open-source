{
 "cells": [
  {
   "cell_type": "code",
   "execution_count": 1,
   "id": "ff734fb1",
   "metadata": {},
   "outputs": [],
   "source": [
    "from agent import ClientJupyterKernel, Agent, Generator"
   ]
  },
  {
   "cell_type": "code",
   "execution_count": 2,
   "id": "f8f4d7b1",
   "metadata": {},
   "outputs": [],
   "source": [
    "jupyter_kernel_url = 'http://localhost:8081/execute'\n",
    "openai_base_url = 'http://localhost:8005/v1'\n",
    "model_name = 'xingyaoww/CodeActAgent-Mistral-7b-v0.1'\n",
    "\n",
    "generator = Generator(model_name, openai_base_url)\n",
    "\n"
   ]
  },
  {
   "cell_type": "code",
   "execution_count": 4,
   "id": "7f780e02",
   "metadata": {},
   "outputs": [
    {
     "name": "stdout",
     "output_type": "stream",
     "text": [
      "--------------------\n",
      "\u001b[1m\u001b[31mSYSTEM\u001b[0m\n",
      "\u001b[31mA chat between a curious user and an artificial intelligence assistant. The assistant gives helpful, detailed, and polite answers to the user's questions.\n",
      "The assistant can interact with an interactive Python (Jupyter Notebook) environment and receive the corresponding output when needed. The code should be enclosed using \"<execute>\" tag, for example: <execute> print(\"Hello World!\") </execute>.\n",
      "The assistant should attempt fewer things at a time instead of putting too much code in one <execute> block. The assistant can install packages through PIP by <execute> !pip install [package needed] </execute> and should always import packages and define variables before starting to use them.\n",
      "The assistant should stop <execute> and provide an answer when they have already obtained the answer from the execution result. Whenever possible, execute the code for the user using <execute> instead of providing it.\n",
      "The assistant's response should be concise, but do express their thoughts.\n",
      "\u001b[0m\n"
     ]
    }
   ],
   "source": [
    "CONV_ID = 'demo-5'\n",
    "code_executor = ClientJupyterKernel(jupyter_kernel_url, CONV_ID)\n",
    "agent = Agent(generator, code_executor, conv_id=CONV_ID)"
   ]
  },
  {
   "cell_type": "code",
   "execution_count": 5,
   "id": "943c4573",
   "metadata": {},
   "outputs": [
    {
     "name": "stdout",
     "output_type": "stream",
     "text": [
      "--------------------\n",
      "\u001b[1m\u001b[32mUSER\u001b[0m\n",
      "\u001b[32mA dataset of individuals' personality types and their corresponding text responses is given. The personality types are determined by the Myers-Briggs Type Indicator (MBTI), a popular psychometric tool used to determine how people prefer to perceive the world and make decisions. The MBTI types consist of 16 different combinations of four dichotomies: Extraversion/Introversion, Sensing/Intuition, Thinking/Feeling, and Judging/Perceiving. The dataset contains a column for the MBTI types and another column for the text responses. Your task is to create a machine learning model that predicts an individual's MBTI type based on their text response. The solution should involve the following steps: 1. Preprocessing the text data, including cleaning, tokenization, stemming, and stopword removal. 2. Transforming the text data into a suitable format for machine learning, such as a term-frequency matrix or a TF-IDF matrix. 3. Training and evaluating a machine learning model that predicts the MBTI type based on the processed text data. 4. Creating a function to classify a new text input based on the trained model. To facilitate evaluation, the dataset has been pre-processed, split into training and testing sets, and pickled. Additionally, the pre-processed text data and the TF-IDF matrix have been pre-computed and pickled as well. **[Dataset]** The dataset is provided in two CSV files: `mbti_1.csv` and `mbti_exp.csv`. The `mbti_1.csv` file contains the raw text data and the corresponding MBTI types. The `mbti_exp.csv` file contains explanations for each MBTI type. The raw text data contains two columns: `type` and `posts`. * `type`: The MBTI type of the individual. * `posts`: The text response of the individual. The explanations for each MBTI type contain four columns: `Type`, `Explain_EI`, `Explain_NS`, `Explain_TF`, and `Explain_JP`. * `Type`: The MBTI type. * `Explain_EI`: The explanation for the Extraversion/Introversion dichotomy. * `Explain_NS`: The explanation for the Sensing/Intuition dichotomy. * `Explain_TF`: The explanation for the Thinking/Feeling dichotomy. * `Explain_JP`: The explanation for the Judging/Perceiving dichotomy.\u001b[0m\n",
      "--------------------\n",
      "\u001b[1m\u001b[34mASSISTANT\u001b[0m\n",
      "\u001b[34mTo solve this problem, we will follow the steps mentioned in the prompt.\n",
      "\n",
      "1. Preprocessing the text data:\n",
      "* Load the `mbti_1.csv` dataset and preprocess the text data by performing cleaning, tokenization, stemming, and stopword removal.\n",
      "* Import necessary libraries:\n",
      "```python\n",
      "import pandas as pd\n",
      "import re\n",
      "from nltk.corpus import stopwords\n",
      "from nltk.stem import PorterStemmer\n",
      "```\n",
      "* Load the dataset and preprocess the text data:\n",
      "```python\n",
      "df = pd.read_csv(\"mbti_1.csv\")\n",
      "\n",
      "# Clean text data\n",
      "df[\"posts\"] = df[\"posts\"].apply(lambda x: re.sub(r\"\\W\", \" \", x))\n",
      "\n",
      "# Tokenize text data\n",
      "df[\"posts\"] = df[\"posts\"].apply(lambda x: x.split(\" \"))\n",
      "\n",
      "# Stem text data\n",
      "stemmer = PorterStemmer()\n",
      "df[\"posts\"] = df[\"posts\"].apply(lambda x: [stemmer.stem(word) for word in x])\n",
      "\n",
      "# Remove stopwords\n",
      "stop_words = set(stopwords.words(\"english\"))\n",
      "df[\"posts\"] = df[\"posts\"].apply(lambda x: [word for word in x if word not in stop_words])\n",
      "```\n",
      "2. Transforming the text data into a suitable format:\n",
      "* Convert the preprocessed text data into a term-frequency matrix.\n",
      "```python\n",
      "from scipy.sparse import lil_matrix\n",
      "\n",
      "def term_frequency_matrix(text_data, n_terms):\n",
      "    # Initialize term-frequency matrix\n",
      "    tf_matrix = lil_matrix((n_terms, len(df)), dtype=int)\n",
      "\n",
      "    # Iterate through text data and update term-frequency matrix\n",
      "    for i, post in enumerate(df[\"posts\"]):\n",
      "        for j, term in enumerate(post):\n",
      "            tf_matrix[j, i] = tf_matrix[j, i] + 1\n",
      "\n",
      "    # Return term-frequency matrix\n",
      "    return tf_matrix.tocsr()\n",
      "\n",
      "n_terms = 5000\n",
      "tf_matrix = term_frequency_matrix(df[\"posts\"].values, n_terms)\n",
      "```\n",
      "3. Training and evaluating a machine learning model:\n",
      "* Use the `tf_matrix` and the MBTI types as features and labels, respectively, to train a machine learning model.\n",
      "* Split the dataset into training and testing sets.\n",
      "```python\n",
      "from sklearn.model_selection import train_test_split\n",
      "\n",
      "X_train, X_test, y_train, y_test = train_test_split(\n",
      "    tf_matrix.data, df[\"type\"], test_size=0.2, random_state=42\n",
      ")\n",
      "```\n",
      "* Train a Random Forest classifier and evaluate its performance.\n",
      "```python\n",
      "from sklearn.ensemble import RandomForestClassifier\n",
      "from sklearn.metrics import accuracy_score, classification_report\n",
      "\n",
      "model = RandomForestClassifier(n_estimators=100, random_state=42)\n",
      "model.fit(X_train, y_train)\n",
      "\n",
      "y_pred = model.predict(X_test)\n",
      "print(\"Accuracy:\", accuracy_score(y_test, y_pred))\n",
      "print(\"Classification Report:\")\n",
      "print(classification_report(y_test, y_pred))\n",
      "```\n",
      "4. Creating a function to classify a new text input:\n",
      "* Define a function to classify a new text input based on the trained model.\n",
      "```python\n",
      "def predict_mbti(text, model=model, tf_matrix=tf_matrix):\n",
      "    # Preprocess text data\n",
      "    text = preprocess_text(text)\n",
      "    text_features = tf_matrix.data[text]\n",
      "\n",
      "    # Classify text data\n",
      "    mbti_pred = model.predict(text_features.reshape(1, -1))\n",
      "\n",
      "    # Return predicted MBTI type\n",
      "    return mbti_pred[0]\n",
      "```\n",
      "* Example usage:\n",
      "```python\n",
      "new_text = \"I love going out and meeting new people.\"\n",
      "predicted_mbti = predict_mbti(new_text)\n",
      "print(\"Predicted MBTI:\", predicted_mbti)\n",
      "```\n",
      "This function can be used to predict the MBTI type of new text inputs. Note that this is a simple example and may not perform optimally. For better results, you\u001b[0m\n"
     ]
    }
   ],
   "source": [
    "r = agent.run_prompt(\"A dataset of individuals' personality types and their corresponding text responses is given. The personality types are determined by the Myers-Briggs Type Indicator (MBTI), a popular psychometric tool used to determine how people prefer to perceive the world and make decisions. The MBTI types consist of 16 different combinations of four dichotomies: Extraversion/Introversion, Sensing/Intuition, Thinking/Feeling, and Judging/Perceiving. The dataset contains a column for the MBTI types and another column for the text responses. Your task is to create a machine learning model that predicts an individual's MBTI type based on their text response. The solution should involve the following steps: 1. Preprocessing the text data, including cleaning, tokenization, stemming, and stopword removal. 2. Transforming the text data into a suitable format for machine learning, such as a term-frequency matrix or a TF-IDF matrix. 3. Training and evaluating a machine learning model that predicts the MBTI type based on the processed text data. 4. Creating a function to classify a new text input based on the trained model. To facilitate evaluation, the dataset has been pre-processed, split into training and testing sets, and pickled. Additionally, the pre-processed text data and the TF-IDF matrix have been pre-computed and pickled as well. **[Dataset]** The dataset is provided in two CSV files: `mbti_1.csv` and `mbti_exp.csv`. The `mbti_1.csv` file contains the raw text data and the corresponding MBTI types. The `mbti_exp.csv` file contains explanations for each MBTI type. The raw text data contains two columns: `type` and `posts`. * `type`: The MBTI type of the individual. * `posts`: The text response of the individual. The explanations for each MBTI type contain four columns: `Type`, `Explain_EI`, `Explain_NS`, `Explain_TF`, and `Explain_JP`. * `Type`: The MBTI type. * `Explain_EI`: The explanation for the Extraversion/Introversion dichotomy. * `Explain_NS`: The explanation for the Sensing/Intuition dichotomy. * `Explain_TF`: The explanation for the Thinking/Feeling dichotomy. * `Explain_JP`: The explanation for the Judging/Perceiving dichotomy.\")"
   ]
  },
  {
   "cell_type": "code",
   "execution_count": 9,
   "id": "5eeb340e",
   "metadata": {},
   "outputs": [
    {
     "data": {
      "text/plain": [
       "<Response [500]>"
      ]
     },
     "execution_count": 9,
     "metadata": {},
     "output_type": "execute_result"
    }
   ],
   "source": [
    "agent.code_executor.shutdown()"
   ]
  },
  {
   "cell_type": "code",
   "execution_count": 10,
   "id": "81e8e2f4",
   "metadata": {},
   "outputs": [
    {
     "name": "stdout",
     "output_type": "stream",
     "text": [
      "CONTAINER ID   IMAGE                     COMMAND                  CREATED       STATUS       PORTS                                       NAMES\r\n",
      "8a6dbed97c3b   vllm/vllm-openai:latest   \"python3 -m vllm.ent…\"   3 hours ago   Up 3 hours   0.0.0.0:8005->8000/tcp, :::8005->8000/tcp   python-act\r\n"
     ]
    }
   ],
   "source": [
    "!docker container ls"
   ]
  },
  {
   "cell_type": "code",
   "execution_count": 19,
   "id": "d25c199b",
   "metadata": {},
   "outputs": [
    {
     "name": "stdout",
     "output_type": "stream",
     "text": [
      "system A chat between a curious user and an artificial intelligence assistant. The assistant gives helpful, detailed, and polite answers to the user's questions.\n",
      "The assistant can interact with an interactive Python (Jupyter Notebook) environment and receive the corresponding output when needed. The code should be enclosed using \"<execute>\" tag, for example: <execute> print(\"Hello World!\") </execute>.\n",
      "The assistant should attempt fewer things at a time instead of putting too much code in one <execute> block. The assistant can install packages through PIP by <execute> !pip install [package needed] </execute> and should always import packages and define variables before starting to use them.\n",
      "The assistant should stop <execute> and provide an answer when they have already obtained the answer from the execution result. Whenever possible, execute the code for the user using <execute> instead of providing it.\n",
      "The assistant's response should be concise, but do express their thoughts.\n",
      " True\n",
      "------\n",
      "user Write a Python function that uses a regular expression to identify and return sequences containing only uppercase letters and digits from a given string. If there is an erroneous sequence (one that includes lowercase letters or special characters), your program should identify it and throw an error message. As a condition, program must cater sequences which have minimum length of 3 and should not validate sequences which are purely numeric or purely alphabetic.\n",
      "\n",
      "Provide a piece of erroneous code below to help kick-start your solution:\n",
      "\n",
      "```python\n",
      "import re\n",
      "\n",
      "def reg_ex_func(input_str):\n",
      "    pattern = re.compile('^[A-Z0-9]+$')\n",
      "    if pattern.match(input_str):\n",
      "        return True\n",
      "    else:\n",
      "        return False\n",
      "\n",
      "print(reg_ex_func('AB12'))  # Expected output: True\n",
      "print(reg_ex_func('abc'))   # Expected output: False, but this throws no Error\n",
      "```\n",
      "\n",
      "Please debug and refine the function and add the requested features. False\n",
      "------\n",
      "assistant To satisfy the given conditions, I need to modify the regular expression pattern and add some checks. Here's the updated function:\n",
      "\n",
      "```python\n",
      "import re\n",
      "\n",
      "def reg_ex_func(input_str):\n",
      "    pattern = re.compile('^[A-Z0-9]{3,}$')\n",
      "    if pattern.match(input_str):\n",
      "        return True\n",
      "    else:\n",
      "        raise ValueError(\"Error: Invalid sequence detected.\")\n",
      "\n",
      "print(reg_ex_func('AB12'))  # Expected output: True\n",
      "print(reg_ex_func('abc'))   # Expected output: raises ValueError\n",
      "```\n",
      "\n",
      "I made the following changes:\n",
      "\n",
      "1. Updated the regular expression pattern to `^[A-Z0-9]{3,}$`, which means a sequence of 3 or more uppercase letters or digits must be present.\n",
      "2. Added a `raise ValueError` statement inside the `else` block to raise an error when an erroneous sequence is detected.\n",
      "\n",
      "Now the function should work as expected. \n",
      " False\n",
      "------\n"
     ]
    }
   ],
   "source": [
    "import json\n",
    "\n",
    "with open('code-feedback/9.json') as fopen:\n",
    "    for r in json.load(fopen)['result']:\n",
    "        print(r['role'], r['content'], '<execute>' in r['content'])\n",
    "        print('------')"
   ]
  },
  {
   "cell_type": "code",
   "execution_count": 23,
   "id": "72ad09e6",
   "metadata": {},
   "outputs": [
    {
     "name": "stdout",
     "output_type": "stream",
     "text": [
      "CONTAINER ID   IMAGE                        COMMAND                  CREATED              STATUS                                     PORTS                                         NAMES\r\n",
      "438a878f1d4e   xingyaoww/codeact-executor   \"tini -g -- jupyter …\"   1 second ago         Up Less than a second (health: starting)   0.0.0.0:41321->8888/tcp, :::41321->8888/tcp   conv-code-feedback-176-0\r\n",
      "719af9bf9f06   xingyaoww/codeact-executor   \"tini -g -- jupyter …\"   3 seconds ago        Up 2 seconds (health: starting)            0.0.0.0:45661->8888/tcp, :::45661->8888/tcp   conv-code-feedback-211-0\r\n",
      "977f4d4e594f   xingyaoww/codeact-executor   \"tini -g -- jupyter …\"   4 seconds ago        Up 3 seconds (health: starting)            0.0.0.0:54905->8888/tcp, :::54905->8888/tcp   conv-code-feedback-217-0\r\n",
      "8c625e9026a1   xingyaoww/codeact-executor   \"tini -g -- jupyter …\"   8 seconds ago        Up 7 seconds (health: starting)            0.0.0.0:38363->8888/tcp, :::38363->8888/tcp   conv-code-feedback-208-1\r\n",
      "c9bf62fce45c   xingyaoww/codeact-executor   \"tini -g -- jupyter …\"   9 seconds ago        Up 9 seconds (health: starting)            0.0.0.0:50609->8888/tcp, :::50609->8888/tcp   conv-code-feedback-134-1\r\n",
      "c2b7034cb977   xingyaoww/codeact-executor   \"tini -g -- jupyter …\"   10 seconds ago       Up 10 seconds (health: starting)           0.0.0.0:49461->8888/tcp, :::49461->8888/tcp   conv-code-feedback-207-1\r\n",
      "fd86f889c850   xingyaoww/codeact-executor   \"tini -g -- jupyter …\"   12 seconds ago       Up 11 seconds (health: starting)           0.0.0.0:46195->8888/tcp, :::46195->8888/tcp   conv-code-feedback-124-1\r\n",
      "7fcdc510e3fa   xingyaoww/codeact-executor   \"tini -g -- jupyter …\"   13 seconds ago       Up 12 seconds (health: starting)           0.0.0.0:35759->8888/tcp, :::35759->8888/tcp   conv-code-feedback-200-1\r\n",
      "f691712e7225   xingyaoww/codeact-executor   \"tini -g -- jupyter …\"   14 seconds ago       Up 13 seconds (health: starting)           0.0.0.0:53985->8888/tcp, :::53985->8888/tcp   conv-code-feedback-146-1\r\n",
      "066f0f7f6980   xingyaoww/codeact-executor   \"tini -g -- jupyter …\"   15 seconds ago       Up 15 seconds (health: starting)           0.0.0.0:43967->8888/tcp, :::43967->8888/tcp   conv-code-feedback-189-1\r\n",
      "11f80ed3925b   xingyaoww/codeact-executor   \"tini -g -- jupyter …\"   17 seconds ago       Up 16 seconds (unhealthy)                  0.0.0.0:34143->8888/tcp, :::34143->8888/tcp   conv-code-feedback-206-1\r\n",
      "a6072ba9cca2   xingyaoww/codeact-executor   \"tini -g -- jupyter …\"   18 seconds ago       Up 17 seconds (unhealthy)                  0.0.0.0:46199->8888/tcp, :::46199->8888/tcp   conv-code-feedback-199-1\r\n",
      "7fe8c965dade   xingyaoww/codeact-executor   \"tini -g -- jupyter …\"   19 seconds ago       Up 18 seconds (unhealthy)                  0.0.0.0:48943->8888/tcp, :::48943->8888/tcp   conv-code-feedback-196-1\r\n",
      "9fe79df60302   xingyaoww/codeact-executor   \"tini -g -- jupyter …\"   20 seconds ago       Up 20 seconds (unhealthy)                  0.0.0.0:60397->8888/tcp, :::60397->8888/tcp   conv-code-feedback-150-1\r\n",
      "97c31371126f   xingyaoww/codeact-executor   \"tini -g -- jupyter …\"   56 seconds ago       Up 56 seconds (unhealthy)                  0.0.0.0:32965->8888/tcp, :::32965->8888/tcp   conv-code-feedback-131-1\r\n",
      "0fd2aef1367c   xingyaoww/codeact-executor   \"tini -g -- jupyter …\"   About a minute ago   Up About a minute (unhealthy)              0.0.0.0:53733->8888/tcp, :::53733->8888/tcp   conv-code-feedback-203-0\r\n",
      "66337421bbe2   xingyaoww/codeact-executor   \"tini -g -- jupyter …\"   About a minute ago   Up About a minute (unhealthy)              0.0.0.0:60123->8888/tcp, :::60123->8888/tcp   conv-code-feedback-172-0\r\n",
      "76a98ee0b247   xingyaoww/codeact-executor   \"tini -g -- jupyter …\"   About a minute ago   Up About a minute (unhealthy)              0.0.0.0:41457->8888/tcp, :::41457->8888/tcp   conv-code-feedback-187-0\r\n",
      "751168befc83   xingyaoww/codeact-executor   \"tini -g -- jupyter …\"   About a minute ago   Up About a minute (unhealthy)              0.0.0.0:46189->8888/tcp, :::46189->8888/tcp   conv-code-feedback-75-0\r\n",
      "d05a7a4cf4e8   xingyaoww/codeact-executor   \"tini -g -- jupyter …\"   About a minute ago   Up About a minute (unhealthy)              0.0.0.0:32879->8888/tcp, :::32879->8888/tcp   conv-code-feedback-182-0\r\n",
      "3483bcd0564d   xingyaoww/codeact-executor   \"tini -g -- jupyter …\"   About a minute ago   Up About a minute (unhealthy)              0.0.0.0:56199->8888/tcp, :::56199->8888/tcp   conv-code-feedback-209-0\r\n",
      "1c0d6dc775b9   xingyaoww/codeact-executor   \"tini -g -- jupyter …\"   About a minute ago   Up About a minute (unhealthy)              0.0.0.0:58063->8888/tcp, :::58063->8888/tcp   conv-code-feedback-204-0\r\n",
      "6113f2b6e96f   xingyaoww/codeact-executor   \"tini -g -- jupyter …\"   About a minute ago   Up About a minute (unhealthy)              0.0.0.0:55205->8888/tcp, :::55205->8888/tcp   conv-code-feedback-144-0\r\n",
      "c842e9109da6   xingyaoww/codeact-executor   \"tini -g -- jupyter …\"   About a minute ago   Up About a minute (unhealthy)              0.0.0.0:41423->8888/tcp, :::41423->8888/tcp   conv-code-feedback-113-0\r\n",
      "b4306d50c4b5   xingyaoww/codeact-executor   \"tini -g -- jupyter …\"   About a minute ago   Up About a minute (unhealthy)              0.0.0.0:39085->8888/tcp, :::39085->8888/tcp   conv-code-feedback-185-0\r\n",
      "f3b2684f7058   xingyaoww/codeact-executor   \"tini -g -- jupyter …\"   2 minutes ago        Up 2 minutes (unhealthy)                   0.0.0.0:36579->8888/tcp, :::36579->8888/tcp   conv-code-feedback-212-0\r\n",
      "4c4ea162ba69   xingyaoww/codeact-executor   \"tini -g -- jupyter …\"   2 minutes ago        Up 2 minutes (unhealthy)                   0.0.0.0:58015->8888/tcp, :::58015->8888/tcp   conv-code-feedback-120-0\r\n",
      "c41d68e9b63c   xingyaoww/codeact-executor   \"tini -g -- jupyter …\"   2 minutes ago        Up 2 minutes (unhealthy)                   0.0.0.0:35595->8888/tcp, :::35595->8888/tcp   conv-code-feedback-202-0\r\n",
      "9402fab31d7c   xingyaoww/codeact-executor   \"tini -g -- jupyter …\"   2 minutes ago        Up 2 minutes (unhealthy)                   0.0.0.0:45189->8888/tcp, :::45189->8888/tcp   conv-code-feedback-215-0\r\n",
      "5e7f1fb4f495   xingyaoww/codeact-executor   \"tini -g -- jupyter …\"   2 minutes ago        Up 2 minutes (unhealthy)                   0.0.0.0:58123->8888/tcp, :::58123->8888/tcp   conv-code-feedback-170-0\r\n",
      "0a192c1061c9   xingyaoww/codeact-executor   \"tini -g -- jupyter …\"   2 minutes ago        Up 2 minutes (unhealthy)                   0.0.0.0:38583->8888/tcp, :::38583->8888/tcp   conv-code-feedback-219-0\r\n",
      "badda03273c9   xingyaoww/codeact-executor   \"tini -g -- jupyter …\"   2 minutes ago        Up 2 minutes (unhealthy)                   0.0.0.0:45777->8888/tcp, :::45777->8888/tcp   conv-code-feedback-213-0\r\n",
      "423af4619c4a   xingyaoww/codeact-executor   \"tini -g -- jupyter …\"   2 minutes ago        Up 2 minutes (unhealthy)                   0.0.0.0:39551->8888/tcp, :::39551->8888/tcp   conv-code-feedback-173-0\r\n",
      "a645a75ab730   xingyaoww/codeact-executor   \"tini -g -- jupyter …\"   2 minutes ago        Up 2 minutes (unhealthy)                   0.0.0.0:50361->8888/tcp, :::50361->8888/tcp   conv-code-feedback-216-0\r\n",
      "40a38631346f   xingyaoww/codeact-executor   \"tini -g -- jupyter …\"   2 minutes ago        Up 2 minutes (unhealthy)                   0.0.0.0:49803->8888/tcp, :::49803->8888/tcp   conv-code-feedback-147-0\r\n",
      "9c067f099509   xingyaoww/codeact-executor   \"tini -g -- jupyter …\"   2 minutes ago        Up 2 minutes (unhealthy)                   0.0.0.0:50543->8888/tcp, :::50543->8888/tcp   conv-code-feedback-168-0\r\n",
      "372505652e05   xingyaoww/codeact-executor   \"tini -g -- jupyter …\"   2 minutes ago        Up 2 minutes (unhealthy)                   0.0.0.0:54719->8888/tcp, :::54719->8888/tcp   conv-code-feedback-205-0\r\n",
      "839402eca7d7   xingyaoww/codeact-executor   \"tini -g -- jupyter …\"   2 minutes ago        Up 2 minutes (unhealthy)                   0.0.0.0:32773->8888/tcp, :::32773->8888/tcp   conv-code-feedback-175-0\r\n",
      "4d2a4913a413   xingyaoww/codeact-executor   \"tini -g -- jupyter …\"   2 minutes ago        Up 2 minutes (unhealthy)                   0.0.0.0:54969->8888/tcp, :::54969->8888/tcp   conv-code-feedback-193-0\r\n",
      "759b1118b838   xingyaoww/codeact-executor   \"tini -g -- jupyter …\"   2 minutes ago        Up 2 minutes (unhealthy)                   0.0.0.0:33153->8888/tcp, :::33153->8888/tcp   conv-code-feedback-218-0\r\n",
      "51fea069c033   xingyaoww/codeact-executor   \"tini -g -- jupyter …\"   2 minutes ago        Up 2 minutes (unhealthy)                   0.0.0.0:59343->8888/tcp, :::59343->8888/tcp   conv-code-feedback-131-0\r\n",
      "8a6dbed97c3b   vllm/vllm-openai:latest      \"python3 -m vllm.ent…\"   3 hours ago          Up 3 hours                                 0.0.0.0:8005->8000/tcp, :::8005->8000/tcp     python-act\r\n"
     ]
    }
   ],
   "source": [
    "!docker container ls"
   ]
  },
  {
   "cell_type": "code",
   "execution_count": null,
   "id": "81c0102f",
   "metadata": {},
   "outputs": [],
   "source": []
  }
 ],
 "metadata": {
  "kernelspec": {
   "display_name": "Python 3 (ipykernel)",
   "language": "python",
   "name": "python3"
  },
  "language_info": {
   "codemirror_mode": {
    "name": "ipython",
    "version": 3
   },
   "file_extension": ".py",
   "mimetype": "text/x-python",
   "name": "python",
   "nbconvert_exporter": "python",
   "pygments_lexer": "ipython3",
   "version": "3.8.10"
  }
 },
 "nbformat": 4,
 "nbformat_minor": 5
}
