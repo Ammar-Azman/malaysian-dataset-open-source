{
 "cells": [
  {
   "cell_type": "code",
   "execution_count": null,
   "id": "9cd56161",
   "metadata": {},
   "outputs": [],
   "source": [
    "# !wget https://huggingface.co/datasets/mesolitica/mixtral-magicoder/resolve/main/data/python-00000-of-00001.jsonl\n",
    "# !wget https://huggingface.co/datasets/mesolitica/mixtral-magicoder/resolve/main/data/pythonanalytics-00000-of-00001.jsonl"
   ]
  },
  {
   "cell_type": "code",
   "execution_count": null,
   "id": "b7fcf952",
   "metadata": {},
   "outputs": [],
   "source": [
    "# !wget https://huggingface.co/datasets/m-a-p/Code-Feedback/resolve/main/Code-Feedback.jsonl\n",
    "# !wget https://huggingface.co/datasets/teknium/OpenHermes-2.5/resolve/main/openhermes2_5.json"
   ]
  },
  {
   "cell_type": "code",
   "execution_count": null,
   "id": "613a9248",
   "metadata": {},
   "outputs": [],
   "source": [
    "import json\n",
    "\n",
    "filtered = []\n",
    "with open('Code-Feedback.jsonl') as fopen:\n",
    "    for l in fopen:\n",
    "        l = json.loads(l)\n",
    "        if '```python' in l['messages'][1]['content']:\n",
    "            filtered.append(l)"
   ]
  },
  {
   "cell_type": "code",
   "execution_count": null,
   "id": "895f959a",
   "metadata": {},
   "outputs": [],
   "source": [
    "len(filtered)"
   ]
  },
  {
   "cell_type": "code",
   "execution_count": null,
   "id": "84ffa120",
   "metadata": {},
   "outputs": [],
   "source": [
    "!mkdir code-feedback"
   ]
  },
  {
   "cell_type": "code",
   "execution_count": null,
   "id": "c6b824ad",
   "metadata": {},
   "outputs": [],
   "source": [
    "from agent import ClientJupyterKernel, Agent, Generator\n",
    "import os\n",
    "\n",
    "def answer(q, i):\n",
    "    filename = f'code-feedback/{i}.json'\n",
    "    if os.path.exists(filename):\n",
    "        return\n",
    "    \n",
    "    jupyter_kernel_url = 'http://localhost:8081/execute'\n",
    "    openai_base_url = 'http://localhost:8005/v1'\n",
    "    model_name = 'xingyaoww/CodeActAgent-Mistral-7b-v0.1'\n",
    "\n",
    "    generator = Generator(model_name, openai_base_url)\n",
    "    prompt = q['messages'][0]['content']\n",
    "    \n",
    "    r = None\n",
    "    agent = None\n",
    "    for k in range(2):\n",
    "        try:\n",
    "            CONV_ID = f'code-feedback-{i}-{k}'\n",
    "            code_executor = ClientJupyterKernel(jupyter_kernel_url, CONV_ID)\n",
    "            agent = Agent(generator, code_executor, conv_id=CONV_ID, silent = True)\n",
    "            r = agent.run_prompt(prompt, n_max_executions = 10)\n",
    "            agent.code_executor.shutdown()\n",
    "            if '<execute>' in r[2]['content']:\n",
    "                break\n",
    "        except Exception as e:\n",
    "            print(e)\n",
    "            if agent is not None:\n",
    "                agent.code_executor.shutdown()\n",
    "            pass\n",
    "    with open(filename, 'w') as fopen:\n",
    "        json.dump({'original': q, 'result': r}, fopen)"
   ]
  },
  {
   "cell_type": "code",
   "execution_count": null,
   "id": "72fe4463",
   "metadata": {},
   "outputs": [],
   "source": [
    "def consumer(queue, name):\n",
    "    while True:\n",
    "        if queue.qsize() == 0:\n",
    "            break\n",
    "        item = queue.get()\n",
    "        answer(*item)\n",
    "    print(f'consumer {name} done')"
   ]
  },
  {
   "cell_type": "code",
   "execution_count": null,
   "id": "37c26bc2",
   "metadata": {},
   "outputs": [],
   "source": [
    "urls = [(q, no) for no, q in enumerate(filtered)]"
   ]
  },
  {
   "cell_type": "code",
   "execution_count": 1,
   "id": "1884ca5b",
   "metadata": {},
   "outputs": [
    {
     "name": "stdout",
     "output_type": "stream",
     "text": [
      "faca0f92897f\n",
      "7c4f7131bc81\n",
      "80dc2731c940\n",
      "903e1ea55487\n",
      "5cd53641194a\n",
      "4cbf14fc1249\n",
      "9172607366b1\n",
      "746153eed34c\n",
      "5aa6cc423cc5\n",
      "7376802b494f\n",
      "b151d96e88e6\n",
      "00f490a2ffab\n",
      "8125c237def7\n",
      "e7c844b8d513\n",
      "ba67b4dedaf8\n",
      "2b9759fbe484\n",
      "8db02ee12a89\n",
      "8a7be2aa6447\n",
      "8fe9a98b299a\n",
      "01a5bf3b8980\n",
      "7a58d5a81908\n",
      "3bcaf523c405\n",
      "d900e9de2490\n",
      "55ecc18fcb0a\n",
      "a71c71beb9d7\n",
      "c0fd2377f706\n",
      "99fa3b988bff\n",
      "3638bf4135dc\n",
      "aaf6692ea87a\n",
      "faca22476acc\n",
      "02279d62a55e\n",
      "6c106115db05\n",
      "cf3ab8fed1be\n",
      "90b9f2a34f5e\n",
      "4435f905c213\n",
      "f90d0f8a94dc\n",
      "99cdafa4efa7\n",
      "a0cbec9391ad\n",
      "8f856c563641\n",
      "888e895858d3\n",
      "44186ebb4b63\n",
      "e09f920a7304\n",
      "30b582db8365\n",
      "a7a40a711691\n",
      "366cbd2c13e8\n",
      "feee3aedb3c8\n",
      "3cdb8b98e44e\n",
      "1426d0cbaa84\n",
      "024c9b463127\n",
      "0d8f13589954\n",
      "e5b4ac517bf5\n",
      "1a46eead8a8e\n",
      "dfeb52a620f2\n",
      "05b58422d128\n",
      "08004c42befb\n",
      "ba3b6f9f00f2\n",
      "a33255844f8b\n",
      "2018db66102d\n",
      "fa8ed6f9e40b\n",
      "c0075f5152b2\n",
      "0fbef30c9704\n",
      "f23c898d57e0\n",
      "27178a5ebae1\n",
      "13e86e4fbcbc\n",
      "327dde3e0aac\n",
      "ece3d0eae855\n",
      "73541548d5c8\n",
      "65beea7f7f3a\n",
      "4a012f592388\n",
      "710ce7cb8245\n",
      "33b13db52b45\n",
      "158e2079b2f5\n",
      "ccdfbb769596\n",
      "95f628c70147\n",
      "04321f8112b9\n",
      "3f726fbbc894\n",
      "4d13dbcafef5\n",
      "76aea515e468\n",
      "5366b7ffef10\n",
      "364c5d22ad25\n",
      "a17959a9d0de\n",
      "7346cefb5406\n",
      "142129f938ed\n",
      "65b4a656461b\n",
      "25deac17e5af\n",
      "72499e90dc81\n",
      "852960909af0\n",
      "c3618b769b6e\n",
      "0e2bd2e2573a\n",
      "895bf8b468e3\n",
      "b630b6bf16ee\n",
      "8c063a8a4fb3\n",
      "f33c2b621ad7\n",
      "737b741e1c40\n",
      "7afe0fc5ac23\n",
      "23feb68983c1\n",
      "c990d7716166\n",
      "23136d2f6c84\n",
      "9f55cf35e28b\n",
      "e042cb0c9c42\n",
      "ff7f4070c319\n",
      "60d5d9d50d86\n",
      "d400576aa51b\n",
      "c31a19c7da96\n",
      "e0205c7219d9\n",
      "95d4424069f5\n",
      "71b957da2552\n",
      "18ceb3f3a161\n",
      "59e546cb23f7\n",
      "895eb630f145\n",
      "41050e1aca1a\n",
      "6dd5c532c266\n",
      "65298c2b1741\n",
      "1ff3e66d9859\n",
      "2d765f7688ea\n",
      "11179198e71a\n",
      "0741939160a6\n",
      "9ca956dcbd23\n",
      "f5e534027c39\n",
      "6c9ae3009f64\n",
      "2ad090594b6b\n",
      "390ec226729a\n",
      "bb92503cf8be\n",
      "b9e7a6ab24d7\n",
      "9e2fb8ef9092\n"
     ]
    }
   ],
   "source": [
    "!docker rm $(docker ps -a -q --filter=\"name=conv-code-feedback*\") -f"
   ]
  },
  {
   "cell_type": "code",
   "execution_count": null,
   "id": "d445b177",
   "metadata": {},
   "outputs": [],
   "source": [
    "# !rm code-feedback/210.json\n",
    "answer(*urls[2])"
   ]
  },
  {
   "cell_type": "code",
   "execution_count": null,
   "id": "a7f55087",
   "metadata": {},
   "outputs": [],
   "source": [
    "# !rm code-feedback/*.json"
   ]
  },
  {
   "cell_type": "code",
   "execution_count": null,
   "id": "be9b3686",
   "metadata": {},
   "outputs": [],
   "source": [
    "# with open('code-feedback/78.json') as fopen:\n",
    "#     for r in json.load(fopen)['result']:\n",
    "#         print(r)"
   ]
  },
  {
   "cell_type": "code",
   "execution_count": null,
   "id": "f8a72a88",
   "metadata": {},
   "outputs": [],
   "source": [
    "from threading import Thread\n",
    "from queue import Queue\n",
    "from tqdm import tqdm\n",
    "\n",
    "queue = Queue()\n",
    "for u in urls:\n",
    "    queue.put(u)\n",
    "    \n",
    "ori_size = queue.qsize()"
   ]
  },
  {
   "cell_type": "code",
   "execution_count": null,
   "id": "6180b93b",
   "metadata": {},
   "outputs": [],
   "source": [
    "max_worker = 50\n",
    "consumers = [Thread(target=consumer, args=(queue,i)) for i in range(max_worker)]\n",
    "for i in range(len(consumers)):\n",
    "    consumers[i].start()\n",
    "    \n",
    "pbar = tqdm(total=ori_size)\n",
    "last_size = 0\n",
    "while True:\n",
    "    size = queue.qsize()\n",
    "    if size == 0:\n",
    "        break\n",
    "    left = ori_size - size\n",
    "    minus = left - last_size\n",
    "    if minus > 0:\n",
    "        pbar.update(minus)\n",
    "        last_size += minus\n",
    "\n",
    "pbar.close()"
   ]
  },
  {
   "cell_type": "code",
   "execution_count": null,
   "id": "9ff59afb",
   "metadata": {},
   "outputs": [],
   "source": []
  }
 ],
 "metadata": {
  "kernelspec": {
   "display_name": "Python 3 (ipykernel)",
   "language": "python",
   "name": "python3"
  },
  "language_info": {
   "codemirror_mode": {
    "name": "ipython",
    "version": 3
   },
   "file_extension": ".py",
   "mimetype": "text/x-python",
   "name": "python",
   "nbconvert_exporter": "python",
   "pygments_lexer": "ipython3",
   "version": "3.8.10"
  }
 },
 "nbformat": 4,
 "nbformat_minor": 5
}
