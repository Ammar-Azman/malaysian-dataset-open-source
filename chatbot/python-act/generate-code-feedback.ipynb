{
 "cells": [
  {
   "cell_type": "code",
   "execution_count": 2,
   "id": "41078b08",
   "metadata": {},
   "outputs": [],
   "source": [
    "# !wget https://huggingface.co/datasets/mesolitica/mixtral-magicoder/resolve/main/data/python-00000-of-00001.jsonl\n",
    "# !wget https://huggingface.co/datasets/mesolitica/mixtral-magicoder/resolve/main/data/pythonanalytics-00000-of-00001.jsonl"
   ]
  },
  {
   "cell_type": "code",
   "execution_count": 3,
   "id": "7a151716",
   "metadata": {},
   "outputs": [],
   "source": [
    "# !wget https://huggingface.co/datasets/m-a-p/Code-Feedback/resolve/main/Code-Feedback.jsonl\n",
    "# !wget https://huggingface.co/datasets/teknium/OpenHermes-2.5/resolve/main/openhermes2_5.json"
   ]
  },
  {
   "cell_type": "code",
   "execution_count": 4,
   "id": "f34a4fab",
   "metadata": {},
   "outputs": [],
   "source": [
    "import json\n",
    "\n",
    "filtered = []\n",
    "with open('Code-Feedback.jsonl') as fopen:\n",
    "    for l in fopen:\n",
    "        l = json.loads(l)\n",
    "        if '```python' in l['messages'][1]['content']:\n",
    "            filtered.append(l)"
   ]
  },
  {
   "cell_type": "code",
   "execution_count": 5,
   "id": "42b602fc",
   "metadata": {},
   "outputs": [
    {
     "data": {
      "text/plain": [
       "40808"
      ]
     },
     "execution_count": 5,
     "metadata": {},
     "output_type": "execute_result"
    }
   ],
   "source": [
    "len(filtered)"
   ]
  },
  {
   "cell_type": "code",
   "execution_count": 6,
   "id": "0a397376",
   "metadata": {},
   "outputs": [
    {
     "name": "stdout",
     "output_type": "stream",
     "text": [
      "mkdir: cannot create directory ‘code-feedback’: File exists\r\n"
     ]
    }
   ],
   "source": [
    "!mkdir code-feedback"
   ]
  },
  {
   "cell_type": "code",
   "execution_count": 7,
   "id": "5df60f68",
   "metadata": {},
   "outputs": [],
   "source": [
    "from agent import ClientJupyterKernel, Agent, Generator\n",
    "import os\n",
    "\n",
    "def answer(q, i):\n",
    "    filename = f'code-feedback/{i}.json'\n",
    "    if os.path.exists(filename):\n",
    "        return\n",
    "    \n",
    "    jupyter_kernel_url = 'http://localhost:8081/execute'\n",
    "    openai_base_url = 'http://localhost:8005/v1'\n",
    "    model_name = 'xingyaoww/CodeActAgent-Mistral-7b-v0.1'\n",
    "\n",
    "    generator = Generator(model_name, openai_base_url)\n",
    "    prompt = q['messages'][0]['content']\n",
    "    \n",
    "    r = None\n",
    "    agent = None\n",
    "    for k in range(2):\n",
    "        try:\n",
    "            CONV_ID = f'code-feedback-{i}-{k}'\n",
    "            code_executor = ClientJupyterKernel(jupyter_kernel_url, CONV_ID)\n",
    "            agent = Agent(generator, code_executor, conv_id=CONV_ID, silent = True)\n",
    "            r = agent.run_prompt(prompt, n_max_executions = 10)\n",
    "            agent.code_executor.shutdown()\n",
    "            if '<execute>' in r[2]['content']:\n",
    "                break\n",
    "        except Exception as e:\n",
    "            print(e)\n",
    "            if agent is not None:\n",
    "                agent.code_executor.shutdown()\n",
    "            pass\n",
    "    with open(filename, 'w') as fopen:\n",
    "        json.dump({'original': q, 'result': r}, fopen)"
   ]
  },
  {
   "cell_type": "code",
   "execution_count": 8,
   "id": "2761af00",
   "metadata": {},
   "outputs": [],
   "source": [
    "def consumer(queue, name):\n",
    "    while True:\n",
    "        if queue.qsize() == 0:\n",
    "            break\n",
    "        item = queue.get()\n",
    "        answer(*item)\n",
    "    print(f'consumer {name} done')"
   ]
  },
  {
   "cell_type": "code",
   "execution_count": 9,
   "id": "03c8ce56",
   "metadata": {},
   "outputs": [],
   "source": [
    "urls = [(q, no) for no, q in enumerate(filtered)]"
   ]
  },
  {
   "cell_type": "code",
   "execution_count": 11,
   "id": "3fd3dc65",
   "metadata": {},
   "outputs": [
    {
     "name": "stdout",
     "output_type": "stream",
     "text": [
      "\"docker rm\" requires at least 1 argument.\r\n",
      "See 'docker rm --help'.\r\n",
      "\r\n",
      "Usage:  docker rm [OPTIONS] CONTAINER [CONTAINER...]\r\n",
      "\r\n",
      "Remove one or more containers\r\n"
     ]
    }
   ],
   "source": [
    "!docker rm $(docker ps -a -q --filter=\"name=conv-code-feedback*\") -f"
   ]
  },
  {
   "cell_type": "code",
   "execution_count": 12,
   "id": "7a64f003",
   "metadata": {},
   "outputs": [],
   "source": [
    "# !rm code-feedback/210.json\n",
    "answer(*urls[2])"
   ]
  },
  {
   "cell_type": "code",
   "execution_count": 13,
   "id": "65e41ad7",
   "metadata": {},
   "outputs": [],
   "source": [
    "# !rm code-feedback/*.json"
   ]
  },
  {
   "cell_type": "code",
   "execution_count": 14,
   "id": "9d3cd142",
   "metadata": {},
   "outputs": [],
   "source": [
    "# with open('code-feedback/78.json') as fopen:\n",
    "#     for r in json.load(fopen)['result']:\n",
    "#         print(r)"
   ]
  },
  {
   "cell_type": "code",
   "execution_count": 15,
   "id": "2b01bcf3",
   "metadata": {},
   "outputs": [],
   "source": [
    "from threading import Thread\n",
    "from queue import Queue\n",
    "from tqdm import tqdm\n",
    "\n",
    "queue = Queue()\n",
    "for u in urls:\n",
    "    queue.put(u)\n",
    "    \n",
    "ori_size = queue.qsize()"
   ]
  },
  {
   "cell_type": "code",
   "execution_count": null,
   "id": "1d44506b",
   "metadata": {},
   "outputs": [
    {
     "name": "stderr",
     "output_type": "stream",
     "text": [
      "\r",
      "  0%|                                                                                                                          | 0/40808 [00:00<?, ?it/s]"
     ]
    },
    {
     "name": "stdout",
     "output_type": "stream",
     "text": [
      "Expecting value: line 1 column 1 (char 0)Expecting value: line 1 column 1 (char 0)\n",
      "\n",
      "Expecting value: line 1 column 1 (char 0)Expecting value: line 1 column 1 (char 0)\n",
      "\n",
      "Expecting value: line 1 column 1 (char 0)\n",
      "Expecting value: line 1 column 1 (char 0)Expecting value: line 1 column 1 (char 0)\n",
      "\n",
      "Expecting value: line 1 column 1 (char 0)\n",
      "Expecting value: line 1 column 1 (char 0)\n",
      "New kernel created for conversation code-feedback-1157-0\n",
      "New kernel created for conversation code-feedback-1136-0\n",
      "New kernel created for conversation code-feedback-1123-0\n",
      "New kernel created for conversation code-feedback-1143-0\n",
      "New kernel created for conversation code-feedback-1142-0\n",
      "New kernel created for conversation code-feedback-1117-0\n",
      "New kernel created for conversation code-feedback-1115-0\n",
      "New kernel created for conversation code-feedback-1100-0\n",
      "New kernel created for conversation code-feedback-1155-0\n",
      "New kernel created for conversation code-feedback-1118-0\n",
      "New kernel created for conversation code-feedback-1134-0\n",
      "New kernel created for conversation code-feedback-1057-0\n",
      "New kernel created for conversation code-feedback-1081-0\n",
      "New kernel created for conversation code-feedback-1138-0\n",
      "New kernel created for conversation code-feedback-1000-0\n",
      "New kernel created for conversation code-feedback-1148-0\n",
      "Expecting value: line 1 column 1 (char 0)\n",
      "Expecting value: line 1 column 1 (char 0)\n",
      "Expecting value: line 1 column 1 (char 0)\n",
      "New kernel created for conversation code-feedback-1159-0New kernel created for conversation code-feedback-1120-0\n",
      "Expecting value: line 1 column 1 (char 0)\n",
      "\n",
      "New kernel created for conversation code-feedback-1133-0\n",
      "New kernel created for conversation code-feedback-1150-0\n",
      "New kernel created for conversation code-feedback-1124-0\n",
      "New kernel created for conversation code-feedback-1079-1New kernel created for conversation code-feedback-1130-1\n",
      "\n",
      "New kernel created for conversation code-feedback-1110-1\n"
     ]
    },
    {
     "name": "stderr",
     "output_type": "stream",
     "text": [
      "  3%|███                                                                                                          | 1163/40808 [02:42<1:36:41,  6.83it/s]"
     ]
    },
    {
     "name": "stdout",
     "output_type": "stream",
     "text": [
      "New kernel created for conversation code-feedback-1140-1New kernel created for conversation code-feedback-1147-1\n",
      "New kernel created for conversation code-feedback-1137-1\n",
      "\n"
     ]
    },
    {
     "name": "stderr",
     "output_type": "stream",
     "text": [
      "\r",
      "  3%|███                                                                                                          | 1165/40808 [02:45<1:39:43,  6.63it/s]"
     ]
    },
    {
     "name": "stdout",
     "output_type": "stream",
     "text": [
      "New kernel created for conversation code-feedback-1146-1\n",
      "New kernel created for conversation code-feedback-1122-1\n",
      "New kernel created for conversation code-feedback-1144-1\n"
     ]
    },
    {
     "name": "stderr",
     "output_type": "stream",
     "text": [
      "\r",
      "  3%|███                                                                                                          | 1169/40808 [02:47<1:42:42,  6.43it/s]"
     ]
    },
    {
     "name": "stdout",
     "output_type": "stream",
     "text": [
      "New kernel created for conversation code-feedback-1145-1\n"
     ]
    },
    {
     "name": "stderr",
     "output_type": "stream",
     "text": [
      "\r",
      "  3%|███▏                                                                                                         | 1170/40808 [02:50<1:48:14,  6.10it/s]"
     ]
    },
    {
     "name": "stdout",
     "output_type": "stream",
     "text": [
      "New kernel created for conversation code-feedback-1131-1New kernel created for conversation code-feedback-1141-1\n",
      "\n",
      "New kernel created for conversation code-feedback-1152-1\n"
     ]
    },
    {
     "name": "stderr",
     "output_type": "stream",
     "text": [
      "\r",
      "  3%|███▏                                                                                                         | 1174/40808 [02:51<1:50:49,  5.96it/s]"
     ]
    },
    {
     "name": "stdout",
     "output_type": "stream",
     "text": [
      "New kernel created for conversation code-feedback-1156-1\n"
     ]
    },
    {
     "name": "stderr",
     "output_type": "stream",
     "text": [
      "  3%|███▏                                                                                                         | 1185/40808 [03:40<5:45:10,  1.91it/s]"
     ]
    },
    {
     "name": "stdout",
     "output_type": "stream",
     "text": [
      "New kernel created for conversation code-feedback-1128-1\n",
      "New kernel created for conversation code-feedback-1160-0\n"
     ]
    },
    {
     "name": "stderr",
     "output_type": "stream",
     "text": [
      "\r",
      "  3%|███▏                                                                                                         | 1186/40808 [03:52<8:57:14,  1.23it/s]"
     ]
    },
    {
     "name": "stdout",
     "output_type": "stream",
     "text": [
      "New kernel created for conversation code-feedback-1171-0\n",
      "New kernel created for conversation code-feedback-1163-0New kernel created for conversation code-feedback-1173-0\n",
      "New kernel created for conversation code-feedback-1170-0\n",
      "New kernel created for conversation code-feedback-1166-0\n",
      "New kernel created for conversation code-feedback-1165-0\n",
      "New kernel created for conversation code-feedback-1172-0New kernel created for conversation code-feedback-1174-0\n",
      "\n",
      "\n"
     ]
    },
    {
     "name": "stderr",
     "output_type": "stream",
     "text": [
      "\r",
      "  3%|███▏                                                                                                         | 1193/40808 [03:58<9:05:50,  1.21it/s]"
     ]
    },
    {
     "name": "stdout",
     "output_type": "stream",
     "text": [
      "New kernel created for conversation code-feedback-1164-0New kernel created for conversation code-feedback-1168-0\n",
      "\n",
      "New kernel created for conversation code-feedback-1161-1New kernel created for conversation code-feedback-1181-0\n",
      "\n"
     ]
    }
   ],
   "source": [
    "max_worker = 50\n",
    "consumers = [Thread(target=consumer, args=(queue,i)) for i in range(max_worker)]\n",
    "for i in range(len(consumers)):\n",
    "    consumers[i].start()\n",
    "    \n",
    "pbar = tqdm(total=ori_size)\n",
    "last_size = 0\n",
    "while True:\n",
    "    size = queue.qsize()\n",
    "    if size == 0:\n",
    "        break\n",
    "    left = ori_size - size\n",
    "    minus = left - last_size\n",
    "    if minus > 0:\n",
    "        pbar.update(minus)\n",
    "        last_size += minus\n",
    "\n",
    "pbar.close()"
   ]
  },
  {
   "cell_type": "code",
   "execution_count": null,
   "id": "c5e674ea",
   "metadata": {},
   "outputs": [],
   "source": []
  }
 ],
 "metadata": {
  "kernelspec": {
   "display_name": "Python 3 (ipykernel)",
   "language": "python",
   "name": "python3"
  },
  "language_info": {
   "codemirror_mode": {
    "name": "ipython",
    "version": 3
   },
   "file_extension": ".py",
   "mimetype": "text/x-python",
   "name": "python",
   "nbconvert_exporter": "python",
   "pygments_lexer": "ipython3",
   "version": "3.8.10"
  }
 },
 "nbformat": 4,
 "nbformat_minor": 5
}
