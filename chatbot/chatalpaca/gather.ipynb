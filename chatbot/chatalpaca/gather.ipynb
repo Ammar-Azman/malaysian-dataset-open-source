{
 "cells": [
  {
   "cell_type": "code",
   "execution_count": 1,
   "metadata": {},
   "outputs": [
    {
     "data": {
      "text/plain": [
       "['texts.jsonl05.splitted.requested',\n",
       " 'texts.jsonl02.splitted.requested',\n",
       " 'texts.jsonl08.splitted.requested',\n",
       " 'texts.jsonl06.splitted.requested',\n",
       " 'texts.jsonl04.splitted.requested',\n",
       " 'texts.jsonl03.splitted.requested',\n",
       " 'texts.jsonl01.splitted.requested',\n",
       " 'texts.jsonl07.splitted.requested',\n",
       " 'texts.jsonl00.splitted.requested']"
      ]
     },
     "execution_count": 1,
     "metadata": {},
     "output_type": "execute_result"
    }
   ],
   "source": [
    "import json\n",
    "from glob import glob\n",
    "\n",
    "files = glob('texts.jsonl*.splitted.requested')\n",
    "files"
   ]
  },
  {
   "cell_type": "code",
   "execution_count": 7,
   "metadata": {},
   "outputs": [],
   "source": [
    "mapping = {}\n",
    "for f in files:\n",
    "    with open(f) as fopen:\n",
    "        for l in fopen:\n",
    "            l = json.loads(l)\n",
    "            mapping[l['src']] = l['r']['result']"
   ]
  },
  {
   "cell_type": "code",
   "execution_count": 8,
   "metadata": {},
   "outputs": [
    {
     "data": {
      "text/plain": [
       "152630"
      ]
     },
     "execution_count": 8,
     "metadata": {},
     "output_type": "execute_result"
    }
   ],
   "source": [
    "len(mapping)"
   ]
  },
  {
   "cell_type": "code",
   "execution_count": 9,
   "metadata": {},
   "outputs": [],
   "source": [
    "data = []\n",
    "with open('chatalpaca-20k.json') as fopen:\n",
    "    for l in fopen:\n",
    "        data.append(json.loads(l))"
   ]
  },
  {
   "cell_type": "code",
   "execution_count": 10,
   "metadata": {},
   "outputs": [
    {
     "data": {
      "text/plain": [
       "{'id': '0',\n",
       " 'conversations': [{'from': 'human',\n",
       "   'value': 'Find the product of the numbers: 5 and 8'},\n",
       "  {'from': 'gpt', 'value': 'The product of 5 and 8 is 40.'},\n",
       "  {'from': 'human', 'value': 'What is the sum of the numbers 6 and 12?'},\n",
       "  {'from': 'gpt', 'value': 'The sum of the numbers 6 and 12 is 18.'},\n",
       "  {'from': 'human', 'value': 'Can you tell me the quotient of 20 and 5?'},\n",
       "  {'from': 'gpt', 'value': 'Yes, the quotient of 20 and 5 is 4.'},\n",
       "  {'from': 'human', 'value': 'What is the difference between 25 and 13?'},\n",
       "  {'from': 'gpt', 'value': 'The difference between 25 and 13 is 12.'},\n",
       "  {'from': 'human', 'value': 'What is the square of 9?'},\n",
       "  {'from': 'gpt', 'value': 'The square of 9 is 81.'},\n",
       "  {'from': 'human', 'value': 'What is the cube of 6?'},\n",
       "  {'from': 'gpt', 'value': 'The cube of 6 is 216.'}]}"
      ]
     },
     "execution_count": 10,
     "metadata": {},
     "output_type": "execute_result"
    }
   ],
   "source": [
    "data[0]"
   ]
  },
  {
   "cell_type": "code",
   "execution_count": 17,
   "metadata": {},
   "outputs": [],
   "source": [
    "for i in range(len(data)):\n",
    "    for k in range(len(data[i]['conversations'])):\n",
    "        data[i]['conversations'][k]['value_ms'] = mapping.get(data[i]['conversations'][k]['value'])"
   ]
  },
  {
   "cell_type": "code",
   "execution_count": 18,
   "metadata": {
    "scrolled": false
   },
   "outputs": [
    {
     "data": {
      "text/plain": [
       "[{'from': 'human',\n",
       "  'value': 'Summarize a movie series in 2-3 sentences: Harry Potter series',\n",
       "  'value_ms': 'Ringkaskan siri filem dalam 2-3 ayat: Siri Harry Potter'},\n",
       " {'from': 'gpt',\n",
       "  'value': 'The Harry Potter series follows the magical adventures of young wizard Harry Potter, who embarks on a journey to save the world from the powers of dark magic. He is joined by his loyal friends Ron and Hermione as they explore the secrets of Hogwarts. Along their quest, they also must face powerful adversaries, such as the infamous Voldemort.',\n",
       "  'value_ms': 'Siri Harry Potter mengikuti pengembaraan ajaib ahli sihir muda Harry Potter, yang memulakan perjalanan untuk menyelamatkan dunia daripada kuasa sihir gelap. Dia disertai oleh rakan setianya Ron dan Hermione semasa mereka meneroka rahsia Hogwarts. Sepanjang pencarian mereka, mereka juga mesti menghadapi musuh yang kuat, seperti Voldemort yang terkenal.'},\n",
       " {'from': 'human',\n",
       "  'value': 'Can you remind me who played the role of Harry Potter in the movies?',\n",
       "  'value_ms': 'Bolehkah anda ingatkan saya siapa yang memainkan watak Harry Potter dalam filem?'},\n",
       " {'from': 'gpt',\n",
       "  'value': 'Daniel Radcliffe played the role of Harry Potter in the Harry Potter movie series.',\n",
       "  'value_ms': 'Daniel Radcliffe memainkan watak Harry Potter dalam siri filem Harry Potter.'},\n",
       " {'from': 'human',\n",
       "  'value': 'Can you also tell me who played Ron Weasley and Hermione Granger?',\n",
       "  'value_ms': 'Bolehkah anda juga memberitahu saya siapa yang memainkan Ron Weasley dan Hermione Granger?'},\n",
       " {'from': 'gpt',\n",
       "  'value': 'Yes, Rupert Grint played the role of Ron Weasley and Emma Watson played the role of Hermione Granger in the Harry Potter movie series.',\n",
       "  'value_ms': 'Ya, Rupert Grint melakonkan watak Ron Weasley dan Emma Watson melakonkan watak Hermione Granger dalam siri filem Harry Potter.'},\n",
       " {'from': 'human',\n",
       "  'value': 'Great, thanks for letting me know. How many movies are in the Harry Potter series?',\n",
       "  'value_ms': 'Hebat, terima kasih kerana memberitahu saya. Berapakah bilangan filem dalam siri Harry Potter?'},\n",
       " {'from': 'gpt',\n",
       "  'value': 'There are a total of eight movies in the Harry Potter series.',\n",
       "  'value_ms': 'Terdapat sejumlah lapan filem dalam siri Harry Potter.'},\n",
       " {'from': 'human',\n",
       "  'value': 'Can you tell me which is the longest Harry Potter movie in terms of running time?',\n",
       "  'value_ms': 'Bolehkah anda beritahu saya filem Harry Potter yang paling lama dari segi masa tayangan?'},\n",
       " {'from': 'gpt',\n",
       "  'value': 'The longest Harry Potter movie in terms of running time is Harry Potter and the Deathly Hallows – Part 2, with a runtime of 2 hours and 10 minutes.',\n",
       "  'value_ms': 'Filem Harry Potter terpanjang dari segi masa tayangan ialah Harry Potter and the Deathly Hallows – Part 2, dengan tayangan selama 2 jam 10 minit.'}]"
      ]
     },
     "execution_count": 18,
     "metadata": {},
     "output_type": "execute_result"
    }
   ],
   "source": [
    "data[i]['conversations']"
   ]
  },
  {
   "cell_type": "code",
   "execution_count": 23,
   "metadata": {},
   "outputs": [],
   "source": [
    "break_at = [\n",
    "    'help.openai.com',\n",
    "]"
   ]
  },
  {
   "cell_type": "code",
   "execution_count": 27,
   "metadata": {},
   "outputs": [
    {
     "name": "stderr",
     "output_type": "stream",
     "text": [
      "100%|███████████████████████████████████████████████████████████████████████████████████████████████████| 20000/20000 [00:00<00:00, 139917.40it/s]\n"
     ]
    }
   ],
   "source": [
    "from tqdm import tqdm\n",
    "\n",
    "all_texts = []\n",
    "for i in tqdm(range(len(data))):\n",
    "    texts = []\n",
    "    for c in data[i]['conversations']:\n",
    "        if c['from'] == 'human':\n",
    "            t = '<manusia>: '\n",
    "            n = c['value_ms']\n",
    "            \n",
    "            if n is None:\n",
    "                break\n",
    "            n = n.strip()\n",
    "            if not len(n):\n",
    "                break\n",
    "            t += n\n",
    "        else:\n",
    "            if c['value_ms'] is None:\n",
    "                break\n",
    "            if any([b in c['value_ms'].lower() for b in break_at]):\n",
    "                print(c['value_ms'], '\\n-----\\n')\n",
    "                break\n",
    "            n = c['value_ms']\n",
    "            if n is None:\n",
    "                break\n",
    "            if not len(n):\n",
    "                break\n",
    "            n = n.strip()\n",
    "            t = '<bot>: ' + n\n",
    "        texts.append(t)\n",
    "    if len(texts) % 2 != 0:\n",
    "        texts = texts[:-1]\n",
    "    if not len(texts):\n",
    "        continue\n",
    "    while len(texts) and texts[-1].startswith('<manusia>'):\n",
    "        texts = texts[:-1]\n",
    "    if not len(texts):\n",
    "        continue\n",
    "    if not texts[0].startswith('<manusia>'):\n",
    "        continue\n",
    "    all_texts.append('\\n'.join(texts))"
   ]
  },
  {
   "cell_type": "code",
   "execution_count": 28,
   "metadata": {},
   "outputs": [
    {
     "data": {
      "text/plain": [
       "17642"
      ]
     },
     "execution_count": 28,
     "metadata": {},
     "output_type": "execute_result"
    }
   ],
   "source": [
    "len(all_texts)"
   ]
  },
  {
   "cell_type": "code",
   "execution_count": 29,
   "metadata": {},
   "outputs": [
    {
     "data": {
      "text/plain": [
       "'<manusia>: Cari hasil darab nombor: 5 dan 8\\n<bot>: Hasil darab 5 dan 8 ialah 40.\\n<manusia>: Apakah hasil tambah nombor 6 dan 12?\\n<bot>: Jumlah nombor 6 dan 12 ialah 18.\\n<manusia>: Bolehkah anda beritahu saya hasil bagi 20 dan 5?\\n<bot>: Ya, hasil bagi 20 dan 5 ialah 4.\\n<manusia>: Apakah perbezaan antara 25 dan 13?\\n<bot>: Perbezaan antara 25 dan 13 ialah 12.\\n<manusia>: Apakah kuasa dua bagi 9?\\n<bot>: Kuasa dua bagi 9 ialah 81.\\n<manusia>: Apakah kubus 6?\\n<bot>: Kubus 6 ialah 216.'"
      ]
     },
     "execution_count": 29,
     "metadata": {},
     "output_type": "execute_result"
    }
   ],
   "source": [
    "all_texts[0]"
   ]
  },
  {
   "cell_type": "code",
   "execution_count": 30,
   "metadata": {},
   "outputs": [],
   "source": [
    "with open('chatalpaca_texts.jsonl', 'w') as fopen:\n",
    "    for t in all_texts:\n",
    "        fopen.write(f'{json.dumps(t)}\\n')"
   ]
  }
 ],
 "metadata": {
  "kernelspec": {
   "display_name": "Python 3 (ipykernel)",
   "language": "python",
   "name": "python3"
  },
  "language_info": {
   "codemirror_mode": {
    "name": "ipython",
    "version": 3
   },
   "file_extension": ".py",
   "mimetype": "text/x-python",
   "name": "python",
   "nbconvert_exporter": "python",
   "pygments_lexer": "ipython3",
   "version": "3.8.10"
  }
 },
 "nbformat": 4,
 "nbformat_minor": 4
}
