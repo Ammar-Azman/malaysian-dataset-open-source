{
 "cells": [
  {
   "cell_type": "code",
   "execution_count": 1,
   "metadata": {},
   "outputs": [],
   "source": [
    "# !wget https://github.com/cascip/ChatAlpaca/raw/main/data/chatalpaca-20k.json"
   ]
  },
  {
   "cell_type": "code",
   "execution_count": 2,
   "metadata": {},
   "outputs": [],
   "source": [
    "import json"
   ]
  },
  {
   "cell_type": "code",
   "execution_count": 3,
   "metadata": {},
   "outputs": [
    {
     "name": "stdout",
     "output_type": "stream",
     "text": [
      "{\"id\": \"0\", \"conversations\": [{\"from\": \"human\", \"value\": \"Find the product of the numbers: 5 and 8\"}, {\"from\": \"gpt\", \"value\": \"The product of 5 and 8 is 40.\"}, {\"from\": \"human\", \"value\": \"What is the sum of the numbers 6 and 12?\"}, {\"from\": \"gpt\", \"value\": \"The sum of the numbers 6 and 12 is 18.\"}, {\"from\": \"human\", \"value\": \"Can you tell me the quotient of 20 and 5?\"}, {\"from\": \"gpt\", \"value\": \"Yes, the quotient of 20 and 5 is 4.\"}, {\"from\": \"human\", \"value\": \"What is the difference between 25 and 13?\"}, {\"from\": \"gpt\", \"value\": \"The difference between 25 and 13 is 12.\"}, {\"from\": \"human\", \"value\": \"What is the square of 9?\"}, {\"from\": \"gpt\", \"value\": \"The square of 9 is 81.\"}, {\"from\": \"human\", \"value\": \"What is the cube of 6?\"}, {\"from\": \"gpt\", \"value\": \"The cube of 6 is 216.\"}]}\r\n"
     ]
    }
   ],
   "source": [
    "!head -n 1 chatalpaca-20k.json"
   ]
  },
  {
   "cell_type": "code",
   "execution_count": 4,
   "metadata": {},
   "outputs": [],
   "source": [
    "data = []\n",
    "with open('chatalpaca-20k.json') as fopen:\n",
    "    for l in fopen:\n",
    "        data.append(json.loads(l))"
   ]
  },
  {
   "cell_type": "code",
   "execution_count": 5,
   "metadata": {},
   "outputs": [
    {
     "data": {
      "text/plain": [
       "20000"
      ]
     },
     "execution_count": 5,
     "metadata": {},
     "output_type": "execute_result"
    }
   ],
   "source": [
    "len(data)"
   ]
  },
  {
   "cell_type": "code",
   "execution_count": 6,
   "metadata": {},
   "outputs": [],
   "source": [
    "texts = []\n",
    "for d in data:\n",
    "    for d_ in d['conversations']:\n",
    "        texts.append(d_['value'])"
   ]
  },
  {
   "cell_type": "code",
   "execution_count": 7,
   "metadata": {
    "scrolled": true
   },
   "outputs": [
    {
     "data": {
      "text/plain": [
       "172986"
      ]
     },
     "execution_count": 7,
     "metadata": {},
     "output_type": "execute_result"
    }
   ],
   "source": [
    "len(texts)"
   ]
  },
  {
   "cell_type": "code",
   "execution_count": 9,
   "metadata": {},
   "outputs": [
    {
     "name": "stdout",
     "output_type": "stream",
     "text": [
      "rm: cannot remove 'texts.jsonl': No such file or directory\r\n"
     ]
    }
   ],
   "source": [
    "!rm texts.jsonl\n",
    "!rm texts.jsonl*.splitted.*"
   ]
  },
  {
   "cell_type": "code",
   "execution_count": 10,
   "metadata": {},
   "outputs": [],
   "source": [
    "with open('texts.jsonl', 'w') as fopen:\n",
    "    for t in texts:\n",
    "        fopen.write(f'{json.dumps(t)}\\n')"
   ]
  },
  {
   "cell_type": "code",
   "execution_count": 11,
   "metadata": {},
   "outputs": [],
   "source": [
    "!split -l 20000 -d --additional-suffix=.splitted texts.jsonl texts.jsonl"
   ]
  },
  {
   "cell_type": "code",
   "execution_count": null,
   "metadata": {},
   "outputs": [],
   "source": []
  }
 ],
 "metadata": {
  "kernelspec": {
   "display_name": "Python 3 (ipykernel)",
   "language": "python",
   "name": "python3"
  },
  "language_info": {
   "codemirror_mode": {
    "name": "ipython",
    "version": 3
   },
   "file_extension": ".py",
   "mimetype": "text/x-python",
   "name": "python",
   "nbconvert_exporter": "python",
   "pygments_lexer": "ipython3",
   "version": "3.8.10"
  }
 },
 "nbformat": 4,
 "nbformat_minor": 4
}
