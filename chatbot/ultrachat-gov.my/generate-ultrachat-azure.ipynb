{
 "cells": [
  {
   "cell_type": "code",
   "execution_count": 1,
   "id": "a656026b",
   "metadata": {},
   "outputs": [
    {
     "name": "stderr",
     "output_type": "stream",
     "text": [
      "/home/husein/3.9/lib/python3.9/site-packages/tqdm/auto.py:21: TqdmWarning: IProgress not found. Please update jupyter and ipywidgets. See https://ipywidgets.readthedocs.io/en/stable/user_install.html\n",
      "  from .autonotebook import tqdm as notebook_tqdm\n",
      "/home/husein/3.9/lib/python3.9/site-packages/malaya/tokenizer.py:214: FutureWarning: Possible nested set at position 3397\n",
      "  self.tok = re.compile(r'({})'.format('|'.join(pipeline)))\n",
      "/home/husein/3.9/lib/python3.9/site-packages/malaya/tokenizer.py:214: FutureWarning: Possible nested set at position 3927\n",
      "  self.tok = re.compile(r'({})'.format('|'.join(pipeline)))\n"
     ]
    }
   ],
   "source": [
    "import openai\n",
    "import instructor\n",
    "import json\n",
    "import os\n",
    "import malaya\n",
    "from pydantic import BaseModel, Field\n",
    "from bs4 import BeautifulSoup\n",
    "from concurrent.futures import ThreadPoolExecutor, as_completed\n",
    "from unidecode import unidecode\n",
    "import re\n",
    "import random\n",
    "\n",
    "minimum_len = 15\n",
    "\n",
    "def simple_cleaning(string):\n",
    "    return re.sub(r'[ ]+', ' ', unidecode(string).replace('\\n', ' ').replace('--', ' ').replace('/', ' ')).strip()"
   ]
  },
  {
   "cell_type": "code",
   "execution_count": 2,
   "id": "19099d71",
   "metadata": {},
   "outputs": [],
   "source": [
    "openai.api_type = 'azure'\n",
    "openai.api_base = 'https://nous.openai.azure.com/'\n",
    "openai.api_version = '2023-07-01-preview'\n",
    "openai.api_key = ''\n",
    "engine = 'nous-16k'"
   ]
  },
  {
   "cell_type": "code",
   "execution_count": 3,
   "id": "ccf95259",
   "metadata": {},
   "outputs": [],
   "source": [
    "def predict(messages):\n",
    "    try:\n",
    "        response = openai.ChatCompletion.create(\n",
    "            engine=engine,\n",
    "            messages=messages,\n",
    "            temperature=1.0,\n",
    "            max_tokens=1024,\n",
    "            top_p=1.0\n",
    "        )\n",
    "        return response.choices[0]['message']['content']\n",
    "    except Exception as e:\n",
    "        print(e)\n",
    "        return None"
   ]
  },
  {
   "cell_type": "code",
   "execution_count": 4,
   "id": "643b1ddf",
   "metadata": {},
   "outputs": [],
   "source": [
    "system = 'Above is a conversation between a user and an intelligent assistant. You suppose to simulate conversation between the user and the assistant. Bear in mind your major request is to ask the assistant to generate some material. So you can ask the assistant either to make it more detailed, add more related information, or any other request to improve the generated material. Be creative and diverse in your request. Make the response short and the language casual.'\n",
    "system_malay = 'Above is a conversation between a user and an intelligent assistant. You suppose to simulate conversation between the user and the assistant in malay language. Bear in mind your major request is to ask the assistant to generate some material. So you can ask the assistant either to make it more detailed, add more related information, or any other request to improve the generated material. Be creative and diverse in your request. Make the response short and the language casual.'\n",
    "next_step = 'Above is a conversation between a user and an intelligent assistant. Now suppose you are the user, generate response according to the generated material to continue the conversation.'"
   ]
  },
  {
   "cell_type": "code",
   "execution_count": 5,
   "id": "a15dfd6f",
   "metadata": {},
   "outputs": [
    {
     "name": "stdout",
     "output_type": "stream",
     "text": [
      "mkdir: cannot create directory ‘ultrachat’: File exists\r\n"
     ]
    }
   ],
   "source": [
    "!mkdir ultrachat"
   ]
  },
  {
   "cell_type": "code",
   "execution_count": 6,
   "id": "d314931f",
   "metadata": {},
   "outputs": [],
   "source": [
    "def ultrachat(row, n = 1):\n",
    "    results = [\n",
    "        {'role': 'context', 'content': row['paragraph']},\n",
    "        {'role': 'user', 'content': row['question']},\n",
    "    ]\n",
    "    initial = f\"\"\"\n",
    "    {row['paragraph']}\n",
    "\n",
    "    {row['question']}\n",
    "    \"\"\".strip()\n",
    "    messages = [\n",
    "        {'role': 'system', 'content': system_malay},\n",
    "        {'role': 'user', 'content': initial},\n",
    "    ]\n",
    "    r = predict(messages)\n",
    "    results.append({\n",
    "        'role': 'assistant', 'content': r,\n",
    "    })\n",
    "    messages.append({\n",
    "        'role': 'assistant', 'content': r,\n",
    "    })\n",
    "    \n",
    "    for _ in range(n):\n",
    "    \n",
    "        messages_temp = messages + [\n",
    "            {'role': 'user', 'content': 'Now suppose you are the user, say something to continue the conversation based on given context. Make the response short and the language casual'}\n",
    "        ]\n",
    "        r2 = predict(messages_temp)\n",
    "        if r2 is None:\n",
    "            break\n",
    "\n",
    "        results.append({\n",
    "            'role': 'user', 'content': r2,\n",
    "        })\n",
    "        messages.append({\n",
    "            'role': 'user', 'content': r2,\n",
    "        })\n",
    "\n",
    "        r = predict(messages)\n",
    "        if r is None:\n",
    "            break\n",
    "        results.append({\n",
    "            'role': 'assistant', 'content': r,\n",
    "        })\n",
    "        messages.append({\n",
    "            'role': 'assistant', 'content': r,\n",
    "        })\n",
    "    \n",
    "    return results"
   ]
  },
  {
   "cell_type": "code",
   "execution_count": 7,
   "id": "504dda2f",
   "metadata": {},
   "outputs": [
    {
     "data": {
      "text/plain": [
       "10128"
      ]
     },
     "execution_count": 7,
     "metadata": {},
     "output_type": "execute_result"
    }
   ],
   "source": [
    "from glob import glob\n",
    "\n",
    "files = sorted(glob('question/*.json'))\n",
    "len(files)"
   ]
  },
  {
   "cell_type": "code",
   "execution_count": 8,
   "id": "f627087d",
   "metadata": {},
   "outputs": [],
   "source": [
    "def generate(f):\n",
    "    index = int(os.path.split(f)[1].replace('.json', ''))\n",
    "    filename = f'ultrachat/{index}.json'\n",
    "    if os.path.exists(filename):\n",
    "        return\n",
    "        \n",
    "    with open(f) as fopen:\n",
    "        data = json.load(fopen)\n",
    "    \n",
    "    if len(data['paragraph'].split()) < 100:\n",
    "        return\n",
    "    \n",
    "    r = ultrachat(data, n = random.randint(2, 5))\n",
    "    with open(filename, 'w') as fopen:\n",
    "        json.dump(r, fopen)"
   ]
  },
  {
   "cell_type": "code",
   "execution_count": 10,
   "id": "b93714ea",
   "metadata": {},
   "outputs": [],
   "source": [
    "generate(files[-3])"
   ]
  },
  {
   "cell_type": "code",
   "execution_count": 12,
   "id": "59644a20",
   "metadata": {},
   "outputs": [
    {
     "data": {
      "text/plain": [
       "[{'role': 'context',\n",
       "  'content': '30% Nil 8418.29 - - Other: 300 - - - Not exceeding 350 l capacity u 30% Nil 900 - - - Other u 30% Nil 8418.30 - Freezers of the chest type, not exceeding 800 l capacity: 200 - - Not exceeding 200 l capacity u 30% Nil 900 - - Other u 30% Nil 8418.40 - Freezers of the upright type, not exceeding 900 l capacity: 200 - - Not exceeding 200 l capacity u 30% Nil 900 - - Other u 30% Nil 8418.50 000 - Other furniture (chests, cabinets, display counter, show-cases and the like) for storage and display, incorporating refrigerating or freezing equipment u 30% Nil - Other refrigerating or freezing equipment; heat pumps: 8418.61 000 - - Heats pumps other than air conditioning machines of heading 84.15 u 30% Nil 8418.69 000 - - Other kg 30% Nil P.U. (A) 275 542 RATE OF DUTY Heading / subheading Description Unit of Quantity Import Export (1) (2) (3) (4) (5) - Parts: 8418.91 000 - - Furniture designed to receive refrigerating or freezing equipment kg 30% Nil 8418.99 - - Other: 300 - - - Evaporators and condensers kg 30% Nil 900 - - - Other kg 30% Nil 84.19 Machinery, plant or laboratory equipment, whether or not electrically heated (excluding furnaces, ovens and other equipment of heading 85.14), for the treatment of materials by a process involving a change of temperature such as heating, cooking, roasting, distilling, rectifying, sterilising, pasteurising, steaming, drying, evaporating, vaporising, condensing or cooling, other than machinery or plant of a kind used for domestic purposes; instantaneous or storage water heaters, non-electric. - Instantaneous or storage water heaters, non-electric: 8419.11 - - Instantaneous gas water heaters: 100 - - - Household type u 30% Nil 900 - - - Other u Nil Nil 8419.19 - - Other: 100 - - - Household type u 30% Nil 900 - - - Other u Nil Nil 8419.20 000 - Medical, surgical or laboratory sterilisers u Nil Nil - Dryers: 8419.31 000 - - For agricultural products u Nil Nil 8419.32 000 - - For wood, paper pulp, paper or paperboard u Nil Nil 8419.39 000 - - Other u Nil Nil 8419.40 000 - Distilling or rectifying plant u Nil Nil 8419.50 - Heat exchange units: 100 - - Cooling towers u 25% Nil 900 - - Other u Nil Nil 8419.60 000 - Machinery for liquefying air or other gases u Nil Nil - Other machinery, plant and equipment: 8419.81 000 - - For making hot drinks or for cooking or heating food u Nil Nil P.U. (A) 275 543 RATE OF DUTY Heading / subheading Description Unit of Quantity Import Export (1) (2) (3) (4) (5) 8419.89 000 - - Other kg Nil Nil 8419.90 - Parts: 100 - - Casings for cooling towers kg 25% Nil - - Household type: 410 - - - Instantaneous gas water heaters kg 30% Nil 490 - - - Other kg Nil Nil 900 - - Other kg Nil Nil 84.20 Calendaring or other rolling machines, other than for metals or glass, and cylinders therefor. 8420.10 000 - Calendaring or other rolling machines u Nil Nil - Parts: 8420.91 000 - - Cylinders kg Nil Nil 8420.99 000 - - Other kg Nil Nil 84.21 Centrifuges, including centrifugal dryers; filtering or purifying machinery and apparatus, for liquids or gases. - Centrifuges, including centrifugal dryers: 8421.11 000 - - Cream separators u Nil Nil 8421.12 000 - - Clothes-dryers u Nil Nil 8421.19 000 - - Other u Nil Nil - Filtering or purifying machinery and apparatus for liquids: 8421.21 000 - - For filtering or purifying water u Nil Nil 8421.22 000 - - For filtering or purifying beverages other than water u Nil Nil 8421.23 - - Oil or petrol-filters for internal combustion engines: 100 - - - Oil filter u 25% Nil 900 - - - Other u Nil Nil 8421.29 - - Other: 300 - - - For household spin driers (clothes driers) u Nil Nil - - - Of a kind suitable for medical, surgical or laboratory use: 410 - - - - Haemodialysis or peritoneal machine u Nil Nil'},\n",
       " {'role': 'user',\n",
       "  'content': 'What is the duty rate for household spin driers (clothes driers) under heading 8421.29?'},\n",
       " {'role': 'assistant',\n",
       "  'content': 'Duty rate for household spin driers (clothes driers) under heading 8421.29 is Nil.'},\n",
       " {'role': 'user',\n",
       "  'content': 'Okay, thanks for providing that information. Can you also tell me the duty rate for oil filters under heading 8421.23?'},\n",
       " {'role': 'assistant',\n",
       "  'content': 'The duty rate for oil filters under heading 8421.23 is 25%.'},\n",
       " {'role': 'user',\n",
       "  'content': \"Wow, I didn't realize there were different duty rates for specific items. This information is really helpful for me. Is there anything else you can tell me about the duty rates for other products?\"},\n",
       " {'role': 'assistant',\n",
       "  'content': 'Certainly! Duty rates can vary depending on the specific product and its classification under the Harmonized System (HS) codes. If you provide me with the specific HS codes or product descriptions, I can provide you with the corresponding duty rates and any other relevant information. Feel free to let me know what products you would like to inquire about.'},\n",
       " {'role': 'user',\n",
       "  'content': 'Sedikit terkejut ada kadar duti yang berbeza-beza untuk setiap produk. Memang menarik jugalah informasi ini untuk saya. Apa lagi yang boleh anda kongsikan tentang kadar duti untuk produk lain?'},\n",
       " {'role': 'assistant',\n",
       "  'content': 'Tentunya! Kadar duti boleh berbeza-beza bergantung kepada produk tertentu dan pengelasan di bawah kod Sistem Harmoni (HS). Jika anda berikan kepada saya kod HS yang khusus atau penerangan produk, saya boleh memberikan kadar duti yang berkaitan dan sebarang maklumat lain yang relevan. Jangan ragu untuk memberitahu saya produk apa yang anda ingin tanyakan.'}]"
      ]
     },
     "execution_count": 12,
     "metadata": {},
     "output_type": "execute_result"
    }
   ],
   "source": [
    "with open('ultrachat/9997.json') as fopen:\n",
    "    data = json.load(fopen)\n",
    "    \n",
    "data"
   ]
  },
  {
   "cell_type": "code",
   "execution_count": null,
   "id": "bb010ed3",
   "metadata": {},
   "outputs": [
    {
     "name": "stderr",
     "output_type": "stream",
     "text": [
      " 11%|████▏                                | 569/5064 [17:13<42:38:30, 34.15s/it]"
     ]
    },
    {
     "name": "stdout",
     "output_type": "stream",
     "text": [
      "'content'\n"
     ]
    },
    {
     "name": "stderr",
     "output_type": "stream",
     "text": [
      " 20%|██████▊                            | 994/5064 [3:38:21<32:48:10, 29.01s/it]"
     ]
    },
    {
     "name": "stdout",
     "output_type": "stream",
     "text": [
      "'content'\n"
     ]
    },
    {
     "name": "stderr",
     "output_type": "stream",
     "text": [
      " 22%|██████▉                         | 1093/5064 [4:33:11<219:24:55, 198.92s/it]"
     ]
    },
    {
     "name": "stdout",
     "output_type": "stream",
     "text": [
      "Request timed out: HTTPSConnectionPool(host='nous.openai.azure.com', port=443): Read timed out. (read timeout=600)\n"
     ]
    },
    {
     "name": "stderr",
     "output_type": "stream",
     "text": [
      " 23%|███████▉                          | 1176/5064 [5:13:19<31:48:33, 29.45s/it]"
     ]
    },
    {
     "name": "stdout",
     "output_type": "stream",
     "text": [
      "'content'\n",
      "Invalid value for 'content': expected a string, got null.\n"
     ]
    },
    {
     "name": "stderr",
     "output_type": "stream",
     "text": [
      " 27%|████████▋                       | 1368/5064 [6:52:02<205:01:02, 199.69s/it]"
     ]
    },
    {
     "name": "stdout",
     "output_type": "stream",
     "text": [
      "Request timed out: HTTPSConnectionPool(host='nous.openai.azure.com', port=443): Read timed out. (read timeout=600)\n"
     ]
    },
    {
     "name": "stderr",
     "output_type": "stream",
     "text": [
      " 31%|█████████▊                      | 1560/5064 [8:32:42<160:27:47, 164.86s/it]"
     ]
    },
    {
     "name": "stdout",
     "output_type": "stream",
     "text": [
      "Request timed out: HTTPSConnectionPool(host='nous.openai.azure.com', port=443): Read timed out. (read timeout=600)\n"
     ]
    },
    {
     "name": "stderr",
     "output_type": "stream",
     "text": [
      " 32%|██████████▊                       | 1618/5064 [9:00:23<24:51:56, 25.98s/it]"
     ]
    },
    {
     "name": "stdout",
     "output_type": "stream",
     "text": [
      "'content'\n"
     ]
    },
    {
     "name": "stderr",
     "output_type": "stream",
     "text": [
      " 35%|███████████▍                     | 1750/5064 [10:00:17<21:48:51, 23.70s/it]"
     ]
    },
    {
     "name": "stdout",
     "output_type": "stream",
     "text": [
      "Error communicating with OpenAI: ('Connection aborted.', ConnectionResetError(104, 'Connection reset by peer'))\n"
     ]
    },
    {
     "name": "stderr",
     "output_type": "stream",
     "text": [
      " 36%|███████████▊                     | 1804/5064 [10:26:17<22:51:39, 25.25s/it]"
     ]
    }
   ],
   "source": [
    "from tqdm import tqdm\n",
    "\n",
    "max_worker = 2\n",
    "for i in tqdm(range(0, len(files), max_worker)):\n",
    "    b = files[i: i + max_worker]\n",
    "    \n",
    "    with ThreadPoolExecutor(max_workers=max_worker) as executor:\n",
    "        futures = {executor.submit(generate, f): f for f in b}\n",
    "\n",
    "        for future in as_completed(futures):\n",
    "            future.result()"
   ]
  },
  {
   "cell_type": "code",
   "execution_count": null,
   "id": "b39f4a17",
   "metadata": {},
   "outputs": [],
   "source": [
    "with open('ultrachat/0.json') as fopen:\n",
    "    data = json.load(fopen)"
   ]
  },
  {
   "cell_type": "code",
   "execution_count": null,
   "id": "4c9aa29e",
   "metadata": {},
   "outputs": [],
   "source": [
    "data"
   ]
  },
  {
   "cell_type": "code",
   "execution_count": null,
   "id": "fc130084",
   "metadata": {},
   "outputs": [],
   "source": []
  }
 ],
 "metadata": {
  "kernelspec": {
   "display_name": "3.9",
   "language": "python",
   "name": "3.9"
  },
  "language_info": {
   "codemirror_mode": {
    "name": "ipython",
    "version": 3
   },
   "file_extension": ".py",
   "mimetype": "text/x-python",
   "name": "python",
   "nbconvert_exporter": "python",
   "pygments_lexer": "ipython3",
   "version": "3.9.16"
  }
 },
 "nbformat": 4,
 "nbformat_minor": 5
}
