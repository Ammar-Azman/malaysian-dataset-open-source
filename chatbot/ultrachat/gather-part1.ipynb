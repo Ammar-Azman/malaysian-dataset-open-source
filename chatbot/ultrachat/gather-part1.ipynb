{
 "cells": [
  {
   "cell_type": "code",
   "execution_count": 1,
   "metadata": {},
   "outputs": [],
   "source": [
    "from glob import glob\n",
    "import json"
   ]
  },
  {
   "cell_type": "code",
   "execution_count": 2,
   "metadata": {},
   "outputs": [
    {
     "data": {
      "text/plain": [
       "['texts_1.jsonl03.splitted.requested',\n",
       " 'texts_1.jsonl05.splitted.requested',\n",
       " 'texts_1.jsonl02.splitted.requested',\n",
       " 'texts_1.jsonl04.splitted.requested',\n",
       " 'texts_1.jsonl07.splitted.requested',\n",
       " 'texts_1.jsonl09.splitted.requested',\n",
       " 'texts_1.jsonl14.splitted.requested',\n",
       " 'texts_1.jsonl06.splitted.requested',\n",
       " 'texts_1.jsonl08.splitted.requested',\n",
       " 'texts_1.jsonl11.splitted.requested',\n",
       " 'texts_1.jsonl00.splitted.requested',\n",
       " 'texts_1.jsonl01.splitted.requested',\n",
       " 'texts_1.jsonl10.splitted.requested',\n",
       " 'texts_1.jsonl13.splitted.requested',\n",
       " 'texts_1.jsonl12.splitted.requested']"
      ]
     },
     "execution_count": 2,
     "metadata": {},
     "output_type": "execute_result"
    }
   ],
   "source": [
    "files = glob('texts_1.jsonl*.splitted.requested')\n",
    "files"
   ]
  },
  {
   "cell_type": "code",
   "execution_count": 3,
   "metadata": {},
   "outputs": [
    {
     "data": {
      "text/plain": [
       "1498359"
      ]
     },
     "execution_count": 3,
     "metadata": {},
     "output_type": "execute_result"
    }
   ],
   "source": [
    "mapping = {}\n",
    "for f in files:\n",
    "    with open(f) as fopen:\n",
    "        for l in fopen:\n",
    "            l = json.loads(l)\n",
    "            if 'Source text\\nclear\\nLook up details' in l['r']['result']:\n",
    "                continue\n",
    "            if 'clear\\nLook up details' in l['r']['result']:\n",
    "                continue\n",
    "            if l['r']['result'].startswith('Source text\\n'):\n",
    "                continue\n",
    "            mapping[l['src']] = l['r']['result']\n",
    "            \n",
    "len(mapping)"
   ]
  },
  {
   "cell_type": "code",
   "execution_count": 4,
   "metadata": {},
   "outputs": [],
   "source": [
    "all_data = []\n",
    "with open('train_1.jsonl') as fopen:\n",
    "    for l in fopen:\n",
    "        l = json.loads(l)\n",
    "        data = []\n",
    "        for d_ in l['data']:\n",
    "            data.append({\n",
    "                'value': d_,\n",
    "                'value_ms': mapping.get(d_)\n",
    "            })\n",
    "        all_data.append(data)"
   ]
  },
  {
   "cell_type": "code",
   "execution_count": 5,
   "metadata": {},
   "outputs": [
    {
     "data": {
      "text/plain": [
       "[{'value': 'How do different translations of biblical epistles impact their reception and meaning, and what are some notable differences between various translations?',\n",
       "  'value_ms': 'Bagaimanakah terjemahan surat alkitabiah yang berbeza mempengaruhi penerimaan dan maknanya, dan apakah beberapa perbezaan ketara antara pelbagai terjemahan?'},\n",
       " {'value': 'Different translations of biblical epistles can have a significant impact on their reception and meaning because the choice of words, idioms, and grammar can influence the understanding of the message conveyed by the original text. Translators have to cope with linguistic, cultural, and theological challenges that require them to make judgments and decisions that might affect the accuracy, clarity, and readability of the text. Thus, the quality of a translation depends on the translator\\'s expertise, methodology, and purpose, as well as the intended audience\\'s needs and expectations.\\n\\nSome notable differences between various translations of biblical epistles include the use of formal or informal language, archaic or modern vocabulary, literal or dynamic equivalence, and sectarian or ecumenical bias. For instance, the King James Version (KJV) of the Bible, which was published in the early 17th century, is known for its rich and poetic language that reflects the stylistic conventions of the Elizabethan era. Although the KJV has influenced English literature and religious discourse for centuries, it can also be challenging for modern readers to understand because of its use of unfamiliar words and expressions, such as \"thou,\" \"thee,\" and \"hath.\"\\n\\nIn contrast, modern translations such as the New International Version (NIV) and the English Standard Version (ESV) aim to balance accuracy and readability by adopting a more contemporary style that appeals to a wider audience. These translations often use simpler vocabulary, shorter sentences, and more idiomatic expressions to convey the meaning of the original text, but they may also sacrifice some of the nuances and cultural references that the original audience would have understood.\\n\\nAnother aspect that can impact the reception and meaning of biblical epistles is the theological or denominational bias of translations. Some translations may highlight certain interpretations or doctrines that are specific to a particular tradition or community, while others may aim for a more ecumenical or neutral approach that allows for different perspectives and debates. For example, in some translations of Paul\\'s epistles, the Greek word \"dikaiosune\" (usually translated as \"righteousness\") is rendered as \"justification\" to emphasize the idea of salvation by faith alone, while other translations use \"rectitude\" or \"rightness\" to capture a broader sense of ethical behavior.\\n\\nTherefore, it is essential to consider multiple translations and versions of biblical epistles when studying their meaning and significance, and to be aware of the strengths and limitations of each translation in relation to the historical, linguistic, and theological context.',\n",
       "  'value_ms': 'Terjemahan surat-surat alkitabiah yang berbeza boleh memberi kesan yang ketara terhadap penerimaan dan maknanya kerana pilihan perkataan, simpulan bahasa, dan tatabahasa boleh mempengaruhi pemahaman mesej yang disampaikan oleh teks asal. Penterjemah perlu menghadapi cabaran linguistik, budaya dan teologi yang memerlukan mereka membuat pertimbangan dan keputusan yang mungkin menjejaskan ketepatan, kejelasan dan kebolehbacaan teks. Oleh itu, kualiti terjemahan bergantung kepada kepakaran, metodologi, dan tujuan penterjemah, serta keperluan dan jangkaan khalayak yang dimaksudkan.\\n\\nBeberapa perbezaan ketara antara pelbagai terjemahan surat alkitab termasuk penggunaan bahasa formal atau tidak formal, perbendaharaan kata kuno atau moden, kesetaraan literal atau dinamik, dan berat sebelah sektarian atau ekumenikal. Contohnya, Bible Versi King James (KJV), yang diterbitkan pada awal abad ke-17, terkenal dengan bahasa yang kaya dan puitis yang mencerminkan konvensyen gaya era Elizabeth. Walaupun KJV telah mempengaruhi kesusasteraan Inggeris dan wacana agama selama berabad-abad, ia juga boleh mencabar bagi pembaca moden untuk memahami kerana penggunaan perkataan dan ungkapan yang tidak dikenali, seperti \"engkau,\" \"engkau,\" dan \"hath.\"\\n\\nSebaliknya, terjemahan moden seperti New International Version (NIV) dan English Standard Version (ESV) bertujuan untuk mengimbangi ketepatan dan kebolehbacaan dengan menggunakan gaya yang lebih kontemporari yang menarik minat khalayak yang lebih luas. Terjemahan ini selalunya menggunakan perbendaharaan kata yang lebih ringkas, ayat yang lebih pendek dan lebih banyak ungkapan idiomatik untuk menyampaikan maksud teks asal, tetapi terjemahan ini juga mungkin mengorbankan beberapa nuansa dan rujukan budaya yang akan difahami oleh khalayak asal.\\n\\nSatu lagi aspek yang boleh memberi kesan kepada penerimaan dan makna surat-surat alkitabiah ialah kecenderungan teologi atau denominasi terjemahan. Sesetengah terjemahan mungkin menyerlahkan tafsiran atau doktrin tertentu yang khusus kepada tradisi atau komuniti tertentu, manakala terjemahan lain mungkin bertujuan untuk pendekatan yang lebih ekumenikal atau neutral yang membolehkan perspektif dan perbahasan yang berbeza. Sebagai contoh, dalam beberapa terjemahan surat-surat Paulus, perkataan Yunani \"dikaiosune\" (biasanya diterjemahkan sebagai \"kebenaran\") diterjemahkan sebagai \"pembenaran\" untuk menekankan idea keselamatan melalui iman sahaja, manakala terjemahan lain menggunakan \"kebenaran\" atau \"kebenaran\". \"untuk menangkap rasa tingkah laku beretika yang lebih luas.\\n\\nOleh itu, adalah penting untuk mempertimbangkan pelbagai terjemahan dan versi surat alkitabiah semasa mengkaji makna dan kepentingannya, dan untuk menyedari kekuatan dan batasan setiap terjemahan berhubung dengan konteks sejarah, linguistik dan teologi.'},\n",
       " {'value': \"It's fascinating how much of an impact translators can have on the meaning of biblical epistles. Do you have any recommendations for the most accurate translation?\",\n",
       "  'value_ms': 'Sungguh menarik betapa besar kesan yang boleh diberikan oleh penterjemah terhadap makna surat alkitabiah. Adakah anda mempunyai sebarang cadangan untuk terjemahan yang paling tepat?'},\n",
       " {'value': 'As an AI language model, I am programmed to remain neutral and impartial, and cannot make a recommendation in favor of any particular translation of biblical epistles as the notion of accuracy depends on the criteria and methods used to evaluate a translation. Therefore, the choice of a translation depends on various factors such as the purpose, audience, expertise, and preferences of the reader or interpreter. It may also be helpful to compare different translations and versions to identify similarities and differences in vocabulary, grammar, syntax, and meaning, as well as consult reliable commentaries or scholarly sources that provide contextual, historical, and cultural insights into the original text.',\n",
       "  'value_ms': 'Sebagai model bahasa AI, saya diprogramkan untuk kekal neutral dan tidak berat sebelah, dan tidak boleh membuat cadangan yang memihak kepada mana-mana terjemahan tertentu surat alkitab kerana tanggapan ketepatan bergantung pada kriteria dan kaedah yang digunakan untuk menilai terjemahan. Oleh itu, pilihan terjemahan bergantung kepada pelbagai faktor seperti tujuan, khalayak, kepakaran, dan keutamaan pembaca atau jurubahasa. Ia juga boleh membantu untuk membandingkan terjemahan dan versi yang berbeza untuk mengenal pasti persamaan dan perbezaan dalam perbendaharaan kata, tatabahasa, sintaksis dan makna, serta merujuk ulasan yang boleh dipercayai atau sumber ilmiah yang memberikan pandangan kontekstual, sejarah dan budaya ke dalam teks asal.'},\n",
       " {'value': 'I see, I guess it makes sense to consider different translations and evaluate them based on my own criteria. But what do you think about the idea that some translations may be intentionally biased towards a certain interpretation or agenda?',\n",
       "  'value_ms': 'Saya faham, saya rasa masuk akal untuk mempertimbangkan terjemahan yang berbeza dan menilainya berdasarkan kriteria saya sendiri. Tetapi apakah pendapat anda tentang idea bahawa sesetengah terjemahan mungkin sengaja berat sebelah terhadap tafsiran atau agenda tertentu?'},\n",
       " {'value': \"As an AI language model, I cannot have personal opinions or beliefs. However, it is widely known that some translations of biblical epistles can be influenced by the translator's theological, denominational, or ideological perspectives, which can lead to intentional or unintentional biases in the translation. In some cases, translations may reflect certain religious or political agendas that prioritize certain doctrines or values over others, or interpret the text in a particular way to reinforce a specific worldview or belief system. Therefore, it is important to take into account the translator's background and context, as well as to compare and evaluate translations based on multiple criteria such as accuracy, readability, faithfulness, and objectivity. By doing so, readers can better understand and appreciate the nuances and complexities of the original text and avoid potential misunderstandings or misinterpretations.\",\n",
       "  'value_ms': 'Sebagai model bahasa AI, saya tidak boleh mempunyai pendapat atau kepercayaan peribadi. Walau bagaimanapun, diketahui secara meluas bahawa sesetengah terjemahan surat alkitab boleh dipengaruhi oleh perspektif teologi, denominasi, atau ideologi penterjemah, yang boleh membawa kepada berat sebelah yang disengajakan atau tidak disengajakan dalam terjemahan. Dalam sesetengah kes, terjemahan mungkin mencerminkan agenda agama atau politik tertentu yang mengutamakan doktrin atau nilai tertentu berbanding yang lain, atau mentafsir teks dengan cara tertentu untuk mengukuhkan pandangan dunia atau sistem kepercayaan tertentu. Oleh itu, adalah penting untuk mengambil kira latar belakang dan konteks penterjemah, serta membandingkan dan menilai terjemahan berdasarkan pelbagai kriteria seperti ketepatan, kebolehbacaan, kesetiaan dan objektiviti. Dengan berbuat demikian, pembaca boleh lebih memahami dan menghayati nuansa dan kerumitan teks asal dan mengelakkan kemungkinan salah faham atau salah tafsir.'},\n",
       " {'value': 'Do you think it could be helpful to learn the original language of the biblical epistles to better understand their meaning?',\n",
       "  'value_ms': 'Adakah anda fikir ia boleh membantu untuk mempelajari bahasa asal surat-surat alkitabiah untuk lebih memahami maksudnya?'},\n",
       " {'value': \"As an AI language model, I can say that learning the original language of the biblical epistles can be beneficial in deepening one's understanding and appreciation of the text because it allows the reader to access the original words, idioms, and grammatical structures that may not be fully captured in translations. For example, the New Testament epistles were mostly written in Greek, and thus, understanding the Greek language can help readers to analyze the nuances and connotations of the original words, and to explore the cultural and historical context in which the texts were produced. Additionally, learning a language can also help individuals to engage more directly with the culture, traditions, and values of the people who used that language, and foster a more empathetic and nuanced understanding of their perspective. However, learning a new language can be time-consuming and challenging, and may not be feasible for everyone. Therefore, reading multiple translations or consulting reliable commentaries or scholars who have expertise in the original language can also be helpful in understanding the biblical epistles.\",\n",
       "  'value_ms': 'Sebagai model bahasa AI, saya boleh mengatakan bahawa mempelajari bahasa asal surat-surat alkitabiah boleh memberi manfaat dalam memperdalam pemahaman dan penghayatan seseorang terhadap teks kerana ia membolehkan pembaca mengakses perkataan asal, simpulan bahasa dan struktur tatabahasa yang mungkin tidak sesuai. ditangkap sepenuhnya dalam terjemahan. Sebagai contoh, surat-surat Perjanjian Baru kebanyakannya ditulis dalam bahasa Yunani, dan oleh itu, pemahaman bahasa Yunani boleh membantu pembaca menganalisis nuansa dan konotasi perkataan asal, dan untuk meneroka konteks budaya dan sejarah di mana teks itu dihasilkan. Selain itu, pembelajaran bahasa juga boleh membantu individu untuk melibatkan diri secara lebih langsung dengan budaya, tradisi dan nilai orang yang menggunakan bahasa itu, serta memupuk pemahaman yang lebih empati dan bernuansa tentang perspektif mereka. Walau bagaimanapun, mempelajari bahasa baharu boleh memakan masa dan mencabar, dan mungkin tidak boleh dilaksanakan untuk semua orang. Oleh itu, membaca pelbagai terjemahan atau merujuk kepada ulasan atau sarjana yang boleh dipercayai yang mempunyai kepakaran dalam bahasa asal juga boleh membantu dalam memahami surat-surat alkitabiah.'}]"
      ]
     },
     "execution_count": 5,
     "metadata": {},
     "output_type": "execute_result"
    }
   ],
   "source": [
    "all_data[0]"
   ]
  },
  {
   "cell_type": "code",
   "execution_count": 6,
   "metadata": {},
   "outputs": [],
   "source": [
    "with open('train_1.jsonl.translated', 'w') as fopen:\n",
    "    for d in all_data:\n",
    "        fopen.write(f'{json.dumps(d)}\\n')"
   ]
  },
  {
   "cell_type": "code",
   "execution_count": 7,
   "metadata": {},
   "outputs": [],
   "source": [
    "inside = []\n",
    "with open('train_1.jsonl.translated') as fopen:\n",
    "    for l in fopen:\n",
    "        if 'model bahasa' in l or 'openai' in l:\n",
    "            inside.append(l)\n",
    "            if len(inside) >= 10:\n",
    "                break"
   ]
  },
  {
   "cell_type": "code",
   "execution_count": 8,
   "metadata": {},
   "outputs": [],
   "source": [
    "break_at = [\n",
    "    'help.openai.com',\n",
    "    'openai'\n",
    "]"
   ]
  },
  {
   "cell_type": "code",
   "execution_count": 9,
   "metadata": {},
   "outputs": [
    {
     "name": "stderr",
     "output_type": "stream",
     "text": [
      "100%|████████████████████████████████| 150000/150000 [00:03<00:00, 47559.11it/s]\n"
     ]
    }
   ],
   "source": [
    "from tqdm import tqdm\n",
    "\n",
    "all_texts = []\n",
    "for i in tqdm(range(len(all_data))):\n",
    "    texts = []\n",
    "    for no, d in enumerate(all_data[i]):\n",
    "        if d['value_ms'] is None:\n",
    "            break\n",
    "        if no % 2 == 0:\n",
    "            t = '<manusia>: '\n",
    "        else:\n",
    "            t = '<bot>: '\n",
    "        \n",
    "        if any([b in d['value_ms'].lower() for b in break_at]):\n",
    "            print(c['value_ms'], '\\n-----\\n')\n",
    "            break\n",
    "        \n",
    "        n = d['value_ms']\n",
    "        n = n.strip()\n",
    "        if len(n) < 3:\n",
    "            break\n",
    "        t = t + n\n",
    "        texts.append(t)\n",
    "\n",
    "    if len(texts) % 2 != 0:\n",
    "        texts = texts[:-1]\n",
    "    if not len(texts):\n",
    "        continue\n",
    "    while len(texts) and texts[-1].startswith('<manusia>'):\n",
    "        texts = texts[:-1]\n",
    "    if not len(texts):\n",
    "        continue\n",
    "    if not texts[0].startswith('<manusia>'):\n",
    "        continue\n",
    "    all_texts.append('\\n'.join(texts))"
   ]
  },
  {
   "cell_type": "code",
   "execution_count": 10,
   "metadata": {},
   "outputs": [
    {
     "data": {
      "text/plain": [
       "149992"
      ]
     },
     "execution_count": 10,
     "metadata": {},
     "output_type": "execute_result"
    }
   ],
   "source": [
    "len(all_texts)"
   ]
  },
  {
   "cell_type": "code",
   "execution_count": 11,
   "metadata": {},
   "outputs": [
    {
     "data": {
      "text/plain": [
       "'<manusia>: Bagaimanakah terjemahan surat alkitabiah yang berbeza mempengaruhi penerimaan dan maknanya, dan apakah beberapa perbezaan ketara antara pelbagai terjemahan?\\n<bot>: Terjemahan surat-surat alkitabiah yang berbeza boleh memberi kesan yang ketara terhadap penerimaan dan maknanya kerana pilihan perkataan, simpulan bahasa, dan tatabahasa boleh mempengaruhi pemahaman mesej yang disampaikan oleh teks asal. Penterjemah perlu menghadapi cabaran linguistik, budaya dan teologi yang memerlukan mereka membuat pertimbangan dan keputusan yang mungkin menjejaskan ketepatan, kejelasan dan kebolehbacaan teks. Oleh itu, kualiti terjemahan bergantung kepada kepakaran, metodologi, dan tujuan penterjemah, serta keperluan dan jangkaan khalayak yang dimaksudkan.\\n\\nBeberapa perbezaan ketara antara pelbagai terjemahan surat alkitab termasuk penggunaan bahasa formal atau tidak formal, perbendaharaan kata kuno atau moden, kesetaraan literal atau dinamik, dan berat sebelah sektarian atau ekumenikal. Contohnya, Bible Versi King James (KJV), yang diterbitkan pada awal abad ke-17, terkenal dengan bahasa yang kaya dan puitis yang mencerminkan konvensyen gaya era Elizabeth. Walaupun KJV telah mempengaruhi kesusasteraan Inggeris dan wacana agama selama berabad-abad, ia juga boleh mencabar bagi pembaca moden untuk memahami kerana penggunaan perkataan dan ungkapan yang tidak dikenali, seperti \"engkau,\" \"engkau,\" dan \"hath.\"\\n\\nSebaliknya, terjemahan moden seperti New International Version (NIV) dan English Standard Version (ESV) bertujuan untuk mengimbangi ketepatan dan kebolehbacaan dengan menggunakan gaya yang lebih kontemporari yang menarik minat khalayak yang lebih luas. Terjemahan ini selalunya menggunakan perbendaharaan kata yang lebih ringkas, ayat yang lebih pendek dan lebih banyak ungkapan idiomatik untuk menyampaikan maksud teks asal, tetapi terjemahan ini juga mungkin mengorbankan beberapa nuansa dan rujukan budaya yang akan difahami oleh khalayak asal.\\n\\nSatu lagi aspek yang boleh memberi kesan kepada penerimaan dan makna surat-surat alkitabiah ialah kecenderungan teologi atau denominasi terjemahan. Sesetengah terjemahan mungkin menyerlahkan tafsiran atau doktrin tertentu yang khusus kepada tradisi atau komuniti tertentu, manakala terjemahan lain mungkin bertujuan untuk pendekatan yang lebih ekumenikal atau neutral yang membolehkan perspektif dan perbahasan yang berbeza. Sebagai contoh, dalam beberapa terjemahan surat-surat Paulus, perkataan Yunani \"dikaiosune\" (biasanya diterjemahkan sebagai \"kebenaran\") diterjemahkan sebagai \"pembenaran\" untuk menekankan idea keselamatan melalui iman sahaja, manakala terjemahan lain menggunakan \"kebenaran\" atau \"kebenaran\". \"untuk menangkap rasa tingkah laku beretika yang lebih luas.\\n\\nOleh itu, adalah penting untuk mempertimbangkan pelbagai terjemahan dan versi surat alkitabiah semasa mengkaji makna dan kepentingannya, dan untuk menyedari kekuatan dan batasan setiap terjemahan berhubung dengan konteks sejarah, linguistik dan teologi.\\n<manusia>: Sungguh menarik betapa besar kesan yang boleh diberikan oleh penterjemah terhadap makna surat alkitabiah. Adakah anda mempunyai sebarang cadangan untuk terjemahan yang paling tepat?\\n<bot>: Sebagai model bahasa AI, saya diprogramkan untuk kekal neutral dan tidak berat sebelah, dan tidak boleh membuat cadangan yang memihak kepada mana-mana terjemahan tertentu surat alkitab kerana tanggapan ketepatan bergantung pada kriteria dan kaedah yang digunakan untuk menilai terjemahan. Oleh itu, pilihan terjemahan bergantung kepada pelbagai faktor seperti tujuan, khalayak, kepakaran, dan keutamaan pembaca atau jurubahasa. Ia juga boleh membantu untuk membandingkan terjemahan dan versi yang berbeza untuk mengenal pasti persamaan dan perbezaan dalam perbendaharaan kata, tatabahasa, sintaksis dan makna, serta merujuk ulasan yang boleh dipercayai atau sumber ilmiah yang memberikan pandangan kontekstual, sejarah dan budaya ke dalam teks asal.\\n<manusia>: Saya faham, saya rasa masuk akal untuk mempertimbangkan terjemahan yang berbeza dan menilainya berdasarkan kriteria saya sendiri. Tetapi apakah pendapat anda tentang idea bahawa sesetengah terjemahan mungkin sengaja berat sebelah terhadap tafsiran atau agenda tertentu?\\n<bot>: Sebagai model bahasa AI, saya tidak boleh mempunyai pendapat atau kepercayaan peribadi. Walau bagaimanapun, diketahui secara meluas bahawa sesetengah terjemahan surat alkitab boleh dipengaruhi oleh perspektif teologi, denominasi, atau ideologi penterjemah, yang boleh membawa kepada berat sebelah yang disengajakan atau tidak disengajakan dalam terjemahan. Dalam sesetengah kes, terjemahan mungkin mencerminkan agenda agama atau politik tertentu yang mengutamakan doktrin atau nilai tertentu berbanding yang lain, atau mentafsir teks dengan cara tertentu untuk mengukuhkan pandangan dunia atau sistem kepercayaan tertentu. Oleh itu, adalah penting untuk mengambil kira latar belakang dan konteks penterjemah, serta membandingkan dan menilai terjemahan berdasarkan pelbagai kriteria seperti ketepatan, kebolehbacaan, kesetiaan dan objektiviti. Dengan berbuat demikian, pembaca boleh lebih memahami dan menghayati nuansa dan kerumitan teks asal dan mengelakkan kemungkinan salah faham atau salah tafsir.\\n<manusia>: Adakah anda fikir ia boleh membantu untuk mempelajari bahasa asal surat-surat alkitabiah untuk lebih memahami maksudnya?\\n<bot>: Sebagai model bahasa AI, saya boleh mengatakan bahawa mempelajari bahasa asal surat-surat alkitabiah boleh memberi manfaat dalam memperdalam pemahaman dan penghayatan seseorang terhadap teks kerana ia membolehkan pembaca mengakses perkataan asal, simpulan bahasa dan struktur tatabahasa yang mungkin tidak sesuai. ditangkap sepenuhnya dalam terjemahan. Sebagai contoh, surat-surat Perjanjian Baru kebanyakannya ditulis dalam bahasa Yunani, dan oleh itu, pemahaman bahasa Yunani boleh membantu pembaca menganalisis nuansa dan konotasi perkataan asal, dan untuk meneroka konteks budaya dan sejarah di mana teks itu dihasilkan. Selain itu, pembelajaran bahasa juga boleh membantu individu untuk melibatkan diri secara lebih langsung dengan budaya, tradisi dan nilai orang yang menggunakan bahasa itu, serta memupuk pemahaman yang lebih empati dan bernuansa tentang perspektif mereka. Walau bagaimanapun, mempelajari bahasa baharu boleh memakan masa dan mencabar, dan mungkin tidak boleh dilaksanakan untuk semua orang. Oleh itu, membaca pelbagai terjemahan atau merujuk kepada ulasan atau sarjana yang boleh dipercayai yang mempunyai kepakaran dalam bahasa asal juga boleh membantu dalam memahami surat-surat alkitabiah.'"
      ]
     },
     "execution_count": 11,
     "metadata": {},
     "output_type": "execute_result"
    }
   ],
   "source": [
    "all_texts[0]"
   ]
  },
  {
   "cell_type": "code",
   "execution_count": 12,
   "metadata": {},
   "outputs": [],
   "source": [
    "for t in all_texts:\n",
    "    splitted = t.split('<manusia>:')\n",
    "    if '<bot>:' not in splitted[-1]:\n",
    "        print(t)\n",
    "        break"
   ]
  },
  {
   "cell_type": "code",
   "execution_count": 13,
   "metadata": {},
   "outputs": [],
   "source": [
    "with open('part1_texts.jsonl', 'w') as fopen:\n",
    "    for t in all_texts:\n",
    "        fopen.write(f'{json.dumps(t)}\\n')"
   ]
  }
 ],
 "metadata": {
  "kernelspec": {
   "display_name": "Python 3 (ipykernel)",
   "language": "python",
   "name": "python3"
  },
  "language_info": {
   "codemirror_mode": {
    "name": "ipython",
    "version": 3
   },
   "file_extension": ".py",
   "mimetype": "text/x-python",
   "name": "python",
   "nbconvert_exporter": "python",
   "pygments_lexer": "ipython3",
   "version": "3.8.10"
  }
 },
 "nbformat": 4,
 "nbformat_minor": 4
}
