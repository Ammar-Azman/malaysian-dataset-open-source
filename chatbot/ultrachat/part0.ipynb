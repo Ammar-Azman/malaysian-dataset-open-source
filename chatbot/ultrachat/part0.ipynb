{
 "cells": [
  {
   "cell_type": "code",
   "execution_count": 1,
   "metadata": {},
   "outputs": [
    {
     "name": "stderr",
     "output_type": "stream",
     "text": [
      "150000it [00:02, 54301.28it/s]\n"
     ]
    }
   ],
   "source": [
    "import json\n",
    "from tqdm import tqdm\n",
    "\n",
    "data = []\n",
    "with open('train_0.jsonl') as fopen:\n",
    "    for l in tqdm(fopen):\n",
    "        data.append(json.loads(l))"
   ]
  },
  {
   "cell_type": "code",
   "execution_count": 3,
   "metadata": {},
   "outputs": [
    {
     "data": {
      "text/plain": [
       "1499762"
      ]
     },
     "execution_count": 3,
     "metadata": {},
     "output_type": "execute_result"
    }
   ],
   "source": [
    "texts = []\n",
    "for d in data:\n",
    "    texts.extend(d['data'])\n",
    "    \n",
    "len(texts)"
   ]
  },
  {
   "cell_type": "code",
   "execution_count": 4,
   "metadata": {},
   "outputs": [],
   "source": [
    "with open('texts_0.jsonl', 'w') as fopen:\n",
    "    for t in texts:\n",
    "        fopen.write(f'{json.dumps(t)}\\n')"
   ]
  },
  {
   "cell_type": "code",
   "execution_count": 5,
   "metadata": {},
   "outputs": [],
   "source": [
    "!split -l 100000 -d --additional-suffix=.splitted texts_0.jsonl texts_0.jsonl"
   ]
  },
  {
   "cell_type": "code",
   "execution_count": 6,
   "metadata": {},
   "outputs": [
    {
     "name": "stdout",
     "output_type": "stream",
     "text": [
      "\"How can cross training benefit groups like runners, swimmers, or weightlifters?\"\r\n",
      "\"Cross training can benefit groups like runners, swimmers, or weightlifters in the following ways:\\n\\n1. Reduces the risk of injury: Cross training involves different types of exercises that work different muscle groups. This reduces the risk of overuse injuries that may result from repetitive use of the same muscles.\\n\\n2. Improves overall fitness: Cross training helps improve overall fitness levels by maintaining a balance of strength, endurance, flexibility, and cardiovascular fitness.\\n\\n3. Breaks monotony: Cross training adds variety to your fitness routine by introducing new exercises, which can help you stay motivated and avoid boredom that often comes with doing the same exercises repeatedly.\\n\\n4. Increases strength: Cross training helps in building strength by incorporating exercises that target different muscle groups. This helps you build strength in areas that may be underdeveloped.\\n\\n5. Enhances performance: Cross training allows you to work on different aspects of fitness that are essential for your sport or activity. For example, a runner can benefit from strength training as it helps build stronger muscles and improves running economy.\\n\\nOverall, cross training offers numerous benefits to athletes and fitness enthusiasts. By incorporating other forms of exercise into their routine, individuals can improve their overall fitness, reduce the risk of injury, and enhance their performance.\"\r\n",
      "\"That makes sense. I've been wanting to improve my running time, but I never thought about incorporating strength training. Do you have any recommendations for specific exercises?\"\r\n",
      "\"Sure, here are some strength training exercises that can benefit runners:\\n\\n1. Squats: Squats target the glutes, quadriceps, and hamstrings. They help improve lower-body strength, power, and stability, making them an excellent exercise for runners.\\n\\n2. Lunges: Lunges target the same muscles as squats but also work the hip flexors and help improve balance.\\n\\n3. Deadlifts: Deadlifts are a compound exercise that targets the glutes, hamstrings, and lower back. They improve lower body strength, power, and stability.\\n\\n4. Plyometric exercises: Plyometric exercises such as jump squats, box jumps, or single-leg hops can help improve explosive power, which is crucial for sprinting.\\n\\n5. Calf raises: Calf raises target the calves and help improve running economy by strengthening the muscles that propel you forward.\\n\\nIt's important to remember to start with lighter weights and proper form to avoid injury. I recommend consulting with a personal trainer or coach for guidance on proper form and technique.\"\r\n",
      "\"Hmm, I'm not really a fan of weightlifting though. Can I incorporate other forms of exercise into my routine to improve my running time?\"\r\n",
      "\"Yes, absolutely! In addition to strength training, there are many other types of exercises that can help improve running performance without involving weightlifting. Here are some examples:\\n\\n1. Plyometric exercises: Plyometric exercises like jump squats, box jumps or single-leg jumps improve explosive power which can make your runs more efficient.\\n\\n2. Hill training: Hill training is a great way to improve your overall stamina, strength, and speed.\\n\\n3. Circuit training: Circuit training is a full-body workout that can help build endurance, strength, and agility. You can include exercises like push-ups, lunges, burpees, and jump ropes to make the circuit more challenging.\\n\\n4. Yoga: Yoga can help improve running performance by increasing flexibility, strength, and balance. It's also a great way to reduce stress and stay focused.\\n\\n5. Swimming or cycling: Swimming or cycling are low-impact exercises that provide a great cardiovascular workout, which can help improve endurance and fitness.\\n\\nRemember to always listen to your body and give yourself adequate rest and recovery time between workouts. Mix up your workouts to keep things interesting and challenge your body in new ways.\"\r\n",
      "\"Are there any particular physical benefits to mindful walking, such as improved posture or increased physical fitness?\"\r\n",
      "\"Yes, there are physical benefits to mindful walking, such as improved posture, increased physical fitness, and better balance. Mindful walking can also help relieve tension in the body, reduce stress, and improve flexibility. It can also improve circulation and help with weight management. By tuning into the body, mindful walking can also help individuals identify and address any imbalances or discomfort, leading to a healthier and more aligned body.\"\r\n",
      "\"That sounds great! Can you give me some tips on how to incorporate mindful walking into my daily routine?\"\r\n",
      "\"Sure, here are some tips on how to incorporate mindful walking into your daily routine:\\n\\n1. Choose a quiet and peaceful environment for your walk. This could be a park, a quiet neighborhood, or even a garden.\\n\\n2. Start by tuning into your breath and becoming aware of your surroundings. Take deep and slow breaths in and out.\\n\\n3. Pay attention to the sensations in your body as you walk. Notice the movement of your feet, the weight shifting from one leg to the other, and the movement of your arms.\\n\\n4. Focus your attention on your surroundings. Notice the colors, smells, and sounds around you. Engage your senses fully and take everything in.\\n\\n5. Be present and let go of any thoughts or worries that may arise. Bring your attention back to the present moment and continue to observe your surroundings as you walk.\\n\\n6. Try to maintain a slow and steady pace. This will help you stay present and focused on your walk.\\n\\n7. Set an intention for your walk, such as gratitude or compassion. This will help you stay focused and centered during your practice.\\n\\nBy incorporating mindful walking into your daily routine, you can experience many physical and mental benefits. Enjoy your walk!\"\r\n"
     ]
    }
   ],
   "source": [
    "!head -n 10 texts_0.jsonl00.splitted"
   ]
  },
  {
   "cell_type": "code",
   "execution_count": null,
   "metadata": {},
   "outputs": [],
   "source": []
  }
 ],
 "metadata": {
  "kernelspec": {
   "display_name": "Python 3 (ipykernel)",
   "language": "python",
   "name": "python3"
  },
  "language_info": {
   "codemirror_mode": {
    "name": "ipython",
    "version": 3
   },
   "file_extension": ".py",
   "mimetype": "text/x-python",
   "name": "python",
   "nbconvert_exporter": "python",
   "pygments_lexer": "ipython3",
   "version": "3.8.10"
  }
 },
 "nbformat": 4,
 "nbformat_minor": 4
}
