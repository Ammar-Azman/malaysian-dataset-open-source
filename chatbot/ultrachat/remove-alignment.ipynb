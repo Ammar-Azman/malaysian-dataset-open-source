{
 "cells": [
  {
   "cell_type": "code",
   "execution_count": 1,
   "id": "c0293148",
   "metadata": {},
   "outputs": [],
   "source": [
    "import re\n",
    "import json\n",
    "from glob import glob\n",
    "from tqdm import tqdm\n",
    "import random\n",
    "from unidecode import unidecode"
   ]
  },
  {
   "cell_type": "code",
   "execution_count": 2,
   "id": "86214042",
   "metadata": {},
   "outputs": [],
   "source": [
    "break_at = [\n",
    "    'help.openai.com',\n",
    "    'openai',\n",
    "    'cannot have personal opinions',\n",
    "    's an ai language model',\n",
    "    \"i'm sorry\",\n",
    "    'many factors',\n",
    "    'lgbt',\n",
    "    'lesbian',\n",
    "    'gender-neutral',\n",
    "    'remain neutral',\n",
    "    'without bias',\n",
    "    'and neutral',\n",
    "    'more inclusive',\n",
    "    'neutrality',\n",
    "    'non-bias',\n",
    "    'discrimination',\n",
    "    'avoid any forms of discrimination',\n",
    "    'regardless of their gender',\n",
    "    'inclusive and tolerant environment',\n",
    "    'have personal views',\n",
    "    'sexual orientation should be a top priority',\n",
    "    's an objective ai',\n",
    "    'avoid any forms of prejudice or hate',\n",
    "    'regardless of their personal',\n",
    "    'you understand this direction',\n",
    "    'tolerant environment within ai',\n",
    "    'cannot express my',\n",
    "    'requires more context',\n",
    "    'personal opinion',\n",
    "    'have updated information',\n",
    "    \"don't have personal experiences\",\n",
    "    'there is no information',\n",
    "    'tidak mempunyai akses kepada data atau maklumat',\n",
    "    '10 april 2021',\n",
    "    'ebagai model bahasa AI',\n",
    "    'ebagai model bahasa ai',\n",
    "    'model bahasa AI',\n",
    "    'model bahasa ai',\n",
    "    'bahasa ai',\n",
    "    'ebagai model bahasa'\n",
    "    'hat makes sense',\n",
    "    'have access to data or information',\n",
    "    'have access to the data or information',\n",
    "    'hanya mempunyai akses kepada maklumat umum',\n",
    "    'hanya boleh memberikan maklumat umum',\n",
    "    'maklumat umum',\n",
    "    'have personal preferences',\n",
    "    'not have personal experiences',\n",
    "    'not capable of having subjective opinions'\n",
    "]"
   ]
  },
  {
   "cell_type": "code",
   "execution_count": 3,
   "id": "8f42417c",
   "metadata": {},
   "outputs": [
    {
     "data": {
      "text/plain": [
       "['train_0.jsonl.translated',\n",
       " 'train_7.jsonl.translated',\n",
       " 'train_4.jsonl.translated',\n",
       " 'train_9.jsonl.translated',\n",
       " 'train_6.jsonl.translated',\n",
       " 'train_1.jsonl.translated',\n",
       " 'train_8.jsonl.translated',\n",
       " 'train_3.jsonl.translated',\n",
       " 'train_5.jsonl.translated']"
      ]
     },
     "execution_count": 3,
     "metadata": {},
     "output_type": "execute_result"
    }
   ],
   "source": [
    "files = glob('train_*.jsonl.translated')\n",
    "files"
   ]
  },
  {
   "cell_type": "code",
   "execution_count": 4,
   "id": "6452ab77",
   "metadata": {},
   "outputs": [],
   "source": [
    "# for f in files:\n",
    "#     with open(f) as fopen:\n",
    "#         for l in fopen:\n",
    "#             l = json.loads(l)\n",
    "#             for l_ in l:\n",
    "#                 if 'maklumat umum' in l_['value_ms']:\n",
    "#                     print(l_)\n",
    "                    "
   ]
  },
  {
   "cell_type": "code",
   "execution_count": 11,
   "id": "853f4221",
   "metadata": {
    "scrolled": true
   },
   "outputs": [
    {
     "name": "stderr",
     "output_type": "stream",
     "text": [
      "100%|█████████████████████████████████| 150000/150000 [01:15<00:00, 1997.47it/s]\n",
      "100%|█████████████████████████████████| 149999/149999 [02:25<00:00, 1033.32it/s]\n",
      "100%|██████████████████████████████████| 149999/149999 [02:41<00:00, 926.47it/s]\n",
      "100%|█████████████████████████████████| 118349/118349 [01:46<00:00, 1106.44it/s]\n",
      "100%|██████████████████████████████████| 150000/150000 [02:39<00:00, 938.90it/s]\n",
      "100%|█████████████████████████████████| 150000/150000 [01:14<00:00, 2013.49it/s]\n",
      "100%|█████████████████████████████████| 150000/150000 [02:12<00:00, 1130.05it/s]\n",
      "100%|█████████████████████████████████| 149999/149999 [02:11<00:00, 1142.14it/s]\n",
      "100%|██████████████████████████████████| 150000/150000 [02:39<00:00, 941.15it/s]\n"
     ]
    }
   ],
   "source": [
    "for f in files:\n",
    "\n",
    "    all_data = []\n",
    "    with open(f) as fopen:\n",
    "        for l in fopen:\n",
    "            l = json.loads(l)\n",
    "            all_data.append(l)\n",
    "    \n",
    "    all_texts = []\n",
    "    for i in tqdm(range(len(all_data))):\n",
    "        texts = []\n",
    "        for no, d in enumerate(all_data[i]):\n",
    "\n",
    "            if no % 2 == 0:\n",
    "                t = '<manusia>: '\n",
    "                if random.random() > 0.5:\n",
    "                    c = 'value'\n",
    "                else:\n",
    "                    c = 'value_ms'\n",
    "            else:\n",
    "                c = 'value_ms'\n",
    "                t = '<bot>: '\n",
    "\n",
    "            if d[c] is None:\n",
    "                break\n",
    "                \n",
    "            if no < (len(all_data[i]) - 1):\n",
    "                next_text = all_data[i][no + 1].get('value') or ''\n",
    "                next_text_ms = all_data[i][no + 1].get('value_ms') or ''\n",
    "            else:\n",
    "                next_text = ''\n",
    "                next_text_ms = ''\n",
    "\n",
    "            current_text = d.get('value') or ''\n",
    "            current_text_ms = d.get('value_ms') or ''\n",
    "            previous_text = all_data[i][no - 1].get('value') or ''\n",
    "            previous_text_ms = all_data[i][no - 1].get('value_ms') or ''\n",
    "\n",
    "            # remove alignments    \n",
    "            if no % 2 == 0 and (any([b in current_text.lower() for b in break_at]) or any([b in next_text.lower() for b in break_at])):\n",
    "                break\n",
    "            if no % 2 != 0 and (any([b in current_text.lower() for b in break_at]) or any([b in previous_text.lower() for b in break_at])):\n",
    "                break\n",
    "                \n",
    "            # remove alignments    \n",
    "            if no % 2 == 0 and (any([b in current_text_ms.lower() for b in break_at]) or any([b in next_text_ms.lower() for b in break_at])):\n",
    "                # print(current_text_ms, break_at, [b for b in break_at if b in current_text_ms.lower()])\n",
    "                break\n",
    "            if no % 2 != 0 and (any([b in current_text_ms.lower() for b in break_at]) or any([b in previous_text_ms.lower() for b in break_at])):\n",
    "                break\n",
    "\n",
    "            n = d[c]\n",
    "            n = n.strip()\n",
    "            if len(n) < 3:\n",
    "                break\n",
    "                \n",
    "            hypens = re.findall('\\w+ -\\w+', n)\n",
    "            for h in hypens:\n",
    "                splitted = h.split('-')\n",
    "                if len(splitted) != 2:\n",
    "                    continue\n",
    "                splitted = [s.strip() for s in splitted]\n",
    "                splitted = '-'.join(splitted)\n",
    "                n = n.replace(h, splitted)\n",
    "                \n",
    "#             if len(hypens):\n",
    "#                 print(hypens, n)\n",
    "                \n",
    "            t = t + n\n",
    "            texts.append(t)\n",
    "\n",
    "        if len(texts) % 2 != 0:\n",
    "            texts = texts[:-1]\n",
    "        if not len(texts):\n",
    "            continue\n",
    "        while len(texts) and texts[-1].startswith('<manusia>'):\n",
    "            texts = texts[:-1]\n",
    "        if not len(texts):\n",
    "            continue\n",
    "        if not texts[0].startswith('<manusia>'):\n",
    "            continue\n",
    "        all_texts.append('\\n'.join(texts))\n",
    "    \n",
    "    with open(f'{f}.malay.no-alignment', 'w') as fopen:\n",
    "        for t in all_texts:\n",
    "            fopen.write(f'{json.dumps(t)}\\n')"
   ]
  },
  {
   "cell_type": "code",
   "execution_count": 13,
   "id": "e09dc06a",
   "metadata": {},
   "outputs": [],
   "source": [
    "from huggingface_hub import HfApi\n",
    "\n",
    "api = HfApi()"
   ]
  },
  {
   "cell_type": "code",
   "execution_count": null,
   "id": "82efeae6",
   "metadata": {},
   "outputs": [
    {
     "name": "stdout",
     "output_type": "stream",
     "text": [
      "train_6.jsonl.translated.malay.no-alignment\n"
     ]
    },
    {
     "data": {
      "application/vnd.jupyter.widget-view+json": {
       "model_id": "379fa9cf0bcb4e2f84d207c894e78152",
       "version_major": 2,
       "version_minor": 0
      },
      "text/plain": [
       "train_6.jsonl.translated.malay.no-alignment:   0%|          | 0.00/824M [00:00<?, ?B/s]"
      ]
     },
     "metadata": {},
     "output_type": "display_data"
    }
   ],
   "source": [
    "for f in glob('train_*.jsonl.translated.malay.no-alignment'):\n",
    "    print(f)\n",
    "    \n",
    "    api.upload_file(\n",
    "        path_or_fileobj=f,\n",
    "        path_in_repo=f,\n",
    "        repo_id='mesolitica/google-translate-ultrachat',\n",
    "        repo_type='dataset',\n",
    "    )"
   ]
  },
  {
   "cell_type": "code",
   "execution_count": null,
   "id": "62afc780",
   "metadata": {},
   "outputs": [],
   "source": []
  }
 ],
 "metadata": {
  "kernelspec": {
   "display_name": "Python 3 (ipykernel)",
   "language": "python",
   "name": "python3"
  },
  "language_info": {
   "codemirror_mode": {
    "name": "ipython",
    "version": 3
   },
   "file_extension": ".py",
   "mimetype": "text/x-python",
   "name": "python",
   "nbconvert_exporter": "python",
   "pygments_lexer": "ipython3",
   "version": "3.8.10"
  }
 },
 "nbformat": 4,
 "nbformat_minor": 5
}
