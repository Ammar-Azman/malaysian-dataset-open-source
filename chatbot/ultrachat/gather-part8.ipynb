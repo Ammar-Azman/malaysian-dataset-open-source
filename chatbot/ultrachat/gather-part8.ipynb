{
 "cells": [
  {
   "cell_type": "code",
   "execution_count": 2,
   "metadata": {},
   "outputs": [],
   "source": [
    "from glob import glob\n",
    "import json"
   ]
  },
  {
   "cell_type": "code",
   "execution_count": 3,
   "metadata": {},
   "outputs": [
    {
     "data": {
      "text/plain": [
       "['texts_8.jsonl01.splitted.requested',\n",
       " 'texts_8.jsonl00.splitted.requested',\n",
       " 'texts_8.jsonl07.splitted.requested',\n",
       " 'texts_8.jsonl08.splitted.requested',\n",
       " 'texts_8.jsonl03.splitted.requested',\n",
       " 'texts_8.jsonl06.splitted.requested',\n",
       " 'texts_8.jsonl02.splitted.requested',\n",
       " 'texts_8.jsonl04.splitted.requested',\n",
       " 'texts_8.jsonl05.splitted.requested']"
      ]
     },
     "execution_count": 3,
     "metadata": {},
     "output_type": "execute_result"
    }
   ],
   "source": [
    "files = glob('texts_8.jsonl*.splitted.requested')\n",
    "files"
   ]
  },
  {
   "cell_type": "code",
   "execution_count": 4,
   "metadata": {},
   "outputs": [
    {
     "data": {
      "text/plain": [
       "888074"
      ]
     },
     "execution_count": 4,
     "metadata": {},
     "output_type": "execute_result"
    }
   ],
   "source": [
    "mapping = {}\n",
    "for f in files:\n",
    "    with open(f) as fopen:\n",
    "        for l in fopen:\n",
    "            l = json.loads(l)\n",
    "            if 'Source text\\nclear\\nLook up details' in l['r']['result']:\n",
    "                continue\n",
    "            if 'clear\\nLook up details' in l['r']['result']:\n",
    "                continue\n",
    "            if l['r']['result'].startswith('Source text\\n'):\n",
    "                continue\n",
    "                \n",
    "            mapping[l['src']] = l['r']['result']\n",
    "            \n",
    "len(mapping)"
   ]
  },
  {
   "cell_type": "code",
   "execution_count": 5,
   "metadata": {},
   "outputs": [],
   "source": [
    "all_data = []\n",
    "with open('train_8.jsonl') as fopen:\n",
    "    for l in fopen:\n",
    "        l = json.loads(l)\n",
    "        data = []\n",
    "        for d_ in l['data']:\n",
    "            data.append({\n",
    "                'value': d_,\n",
    "                'value_ms': mapping.get(d_)\n",
    "            })\n",
    "        all_data.append(data)"
   ]
  },
  {
   "cell_type": "code",
   "execution_count": 6,
   "metadata": {},
   "outputs": [
    {
     "data": {
      "text/plain": [
       "[{'value': 'March 13th saw the launch of “I Will Save You,” poems and drawings by students from all over Martha’s Vineyard.\\nAll of the artwork and poems in the book were created by students from different schools around the island. The book was edited by Fan Ogilvie, educator and poet, and Richard Skidmore, Gay Head Lighthouse Keeper and poet. The book launched March 13, 2015 at Pathways in Chilmark with a poetry reading by the poets featured in the book.\\nBooks will be available for purchase at island bookstores for $20 and proceeds benefit the Save the Gay Head Lighthouse project. Special thanks to Pathways Projects Institutes, Marianne Goldberg, James Weiss, Susan Stevens, Bob Moore, Amy Reece, Christine Ferrone, Todd Derry, and all the students who shared their art to help save the Light! Can you provide a summary of the \"I Will Save You\" book launch, including who edited the book and where it was launched?',\n",
       "  'value_ms': '13 Mac menyaksikan pelancaran \"Saya Akan Menyelamatkan Anda,\" puisi dan lukisan oleh pelajar dari seluruh Martha\\'s Vineyard.\\nSemua karya seni dan puisi dalam buku itu dicipta oleh pelajar dari sekolah yang berbeza di sekitar pulau itu. Buku itu disunting oleh Fan Ogilvie, pendidik dan penyair, dan Richard Skidmore, Penjaga Rumah Api Gay Head dan penyair. Buku itu dilancarkan pada 13 Mac 2015 di Pathways in Chilmark dengan bacaan puisi oleh penyair yang dipaparkan dalam buku itu.\\nBuku-buku akan tersedia untuk pembelian di kedai buku pulau dengan harga $20 dan hasil keuntungan projek Save the Gay Head Lighthouse. Terima kasih khas kepada Pathways Projects Institutes, Marianne Goldberg, James Weiss, Susan Stevens, Bob Moore, Amy Reece, Christine Ferrone, Todd Derry, dan semua pelajar yang berkongsi seni mereka untuk membantu menyelamatkan Cahaya! Bolehkah anda memberikan ringkasan pelancaran buku \"I Will Save You\", termasuk siapa yang mengedit buku itu dan di mana ia dilancarkan?'},\n",
       " {'value': '\"I Will Save You\" is a book of poems and drawings created by students from various schools on Martha\\'s Vineyard. The book, edited by Fan Ogilvie and Richard Skidmore, was launched on March 13th at Pathways in Chilmark with a poetry reading by the featured poets. Copies of the book can be purchased at island bookstores for $20, with all proceeds going toward the Save the Gay Head Lighthouse project. The launch was made possible thanks to the Pathways Projects Institutes and various individuals who contributed to the event.',\n",
       "  'value_ms': '\"I Will Save You\" ialah buku puisi dan lukisan yang dicipta oleh pelajar dari pelbagai sekolah di Martha\\'s Vineyard. Buku itu, disunting oleh Fan Ogilvie dan Richard Skidmore, telah dilancarkan pada 13 Mac di Pathways in Chilmark dengan bacaan puisi oleh penyair yang diketengahkan. Salinan buku itu boleh dibeli di kedai buku pulau dengan harga $20, dengan semua hasil akan digunakan untuk projek Save the Gay Head Lighthouse. Pelancaran ini dijayakan terima kasih kepada Institut Projek Pathways dan pelbagai individu yang menyumbang kepada acara tersebut.'},\n",
       " {'value': 'Can you provide more information on the Save the Gay Head Lighthouse project? How can I donate to the cause?',\n",
       "  'value_ms': 'Bolehkah anda memberikan maklumat lanjut tentang projek Rumah Api Selamatkan Ketua Gay? Bagaimanakah saya boleh menderma untuk tujuan itu?'},\n",
       " {'value': \"The Save the Gay Head Lighthouse project aims to protect and preserve the historic Gay Head Lighthouse on Martha's Vineyard, which is threatened by coastal erosion. The project is managed by the Martha's Vineyard Museum, which has launched fundraising and awareness campaigns to support the restoration and relocation of the lighthouse. You can donate to the Save the Gay Head Lighthouse project on the Martha's Vineyard Museum's website, where you can also find more information about the project and its progress.\",\n",
       "  'value_ms': \"Projek Rumah Api Save the Gay Head bertujuan untuk melindungi dan memelihara Rumah Api Gay Head yang bersejarah di Martha's Vineyard, yang diancam oleh hakisan pantai. Projek ini diuruskan oleh Muzium Ladang Anggur Martha, yang telah melancarkan kempen pengumpulan dana dan kesedaran untuk menyokong pemulihan dan penempatan semula rumah api itu. Anda boleh menderma kepada projek Save the Gay Head Lighthouse di tapak web Martha's Vineyard Museum, di mana anda juga boleh mendapatkan lebih banyak maklumat tentang projek dan kemajuannya.\"}]"
      ]
     },
     "execution_count": 6,
     "metadata": {},
     "output_type": "execute_result"
    }
   ],
   "source": [
    "all_data[0]"
   ]
  },
  {
   "cell_type": "code",
   "execution_count": 7,
   "metadata": {},
   "outputs": [],
   "source": [
    "with open('train_8.jsonl.translated', 'w') as fopen:\n",
    "    for d in all_data:\n",
    "        fopen.write(f'{json.dumps(d)}\\n')"
   ]
  },
  {
   "cell_type": "code",
   "execution_count": 8,
   "metadata": {},
   "outputs": [],
   "source": [
    "inside = []\n",
    "with open('train_8.jsonl.translated') as fopen:\n",
    "    for l in fopen:\n",
    "        if 'model bahasa' in l:\n",
    "            inside.append(l)\n",
    "            if len(inside) >= 10:\n",
    "                break"
   ]
  },
  {
   "cell_type": "code",
   "execution_count": 9,
   "metadata": {},
   "outputs": [],
   "source": [
    "break_at = [\n",
    "    'help.openai.com',\n",
    "]"
   ]
  },
  {
   "cell_type": "code",
   "execution_count": 10,
   "metadata": {},
   "outputs": [
    {
     "name": "stderr",
     "output_type": "stream",
     "text": [
      "100%|███████████████████████████████| 150000/150000 [00:01<00:00, 111876.87it/s]\n"
     ]
    }
   ],
   "source": [
    "from tqdm import tqdm\n",
    "\n",
    "all_texts = []\n",
    "for i in tqdm(range(len(all_data))):\n",
    "    texts = []\n",
    "    for no, d in enumerate(all_data[i]):\n",
    "        if d['value_ms'] is None:\n",
    "            break\n",
    "        if no % 2 == 0:\n",
    "            t = '<manusia>: '\n",
    "        else:\n",
    "            t = '<bot>: '\n",
    "        \n",
    "        if any([b in d['value_ms'].lower() for b in break_at]):\n",
    "            print(c['value_ms'], '\\n-----\\n')\n",
    "            break\n",
    "        \n",
    "        n = d['value_ms']\n",
    "        n = n.strip()\n",
    "        if len(n) < 3:\n",
    "            break\n",
    "        t = t + n\n",
    "        texts.append(t)\n",
    "\n",
    "    if len(texts) % 2 != 0:\n",
    "        texts = texts[:-1]\n",
    "    if not len(texts):\n",
    "        continue\n",
    "    while len(texts) and texts[-1].startswith('<manusia>'):\n",
    "        texts = texts[:-1]\n",
    "    if not len(texts):\n",
    "        continue\n",
    "    if not texts[0].startswith('<manusia>'):\n",
    "        continue\n",
    "    all_texts.append('\\n'.join(texts))"
   ]
  },
  {
   "cell_type": "code",
   "execution_count": 11,
   "metadata": {},
   "outputs": [
    {
     "data": {
      "text/plain": [
       "139392"
      ]
     },
     "execution_count": 11,
     "metadata": {},
     "output_type": "execute_result"
    }
   ],
   "source": [
    "len(all_texts)"
   ]
  },
  {
   "cell_type": "code",
   "execution_count": 12,
   "metadata": {},
   "outputs": [],
   "source": [
    "for t in all_texts:\n",
    "    splitted = t.split('<manusia>:')\n",
    "    if '<bot>:' not in splitted[-1]:\n",
    "        print(t)\n",
    "        break"
   ]
  },
  {
   "cell_type": "code",
   "execution_count": 13,
   "metadata": {},
   "outputs": [],
   "source": [
    "with open('part8_texts.jsonl', 'w') as fopen:\n",
    "    for t in all_texts:\n",
    "        fopen.write(f'{json.dumps(t)}\\n')"
   ]
  }
 ],
 "metadata": {
  "kernelspec": {
   "display_name": "Python 3 (ipykernel)",
   "language": "python",
   "name": "python3"
  },
  "language_info": {
   "codemirror_mode": {
    "name": "ipython",
    "version": 3
   },
   "file_extension": ".py",
   "mimetype": "text/x-python",
   "name": "python",
   "nbconvert_exporter": "python",
   "pygments_lexer": "ipython3",
   "version": "3.8.10"
  }
 },
 "nbformat": 4,
 "nbformat_minor": 4
}
