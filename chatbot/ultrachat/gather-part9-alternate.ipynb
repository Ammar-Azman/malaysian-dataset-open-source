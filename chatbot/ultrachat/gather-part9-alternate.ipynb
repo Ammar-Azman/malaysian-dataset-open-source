{
 "cells": [
  {
   "cell_type": "code",
   "execution_count": 1,
   "metadata": {},
   "outputs": [],
   "source": [
    "from glob import glob\n",
    "import json"
   ]
  },
  {
   "cell_type": "code",
   "execution_count": 2,
   "metadata": {},
   "outputs": [
    {
     "data": {
      "text/plain": [
       "['texts.jsonl05.splitted.requested',\n",
       " 'texts.jsonl02.splitted.requested',\n",
       " 'texts.jsonl06.splitted.requested',\n",
       " 'texts.jsonl04.splitted.requested',\n",
       " 'texts.jsonl03.splitted.requested',\n",
       " 'texts.jsonl01.splitted.requested',\n",
       " 'texts.jsonl07.splitted.requested',\n",
       " 'texts.jsonl00.splitted.requested']"
      ]
     },
     "execution_count": 2,
     "metadata": {},
     "output_type": "execute_result"
    }
   ],
   "source": [
    "files = glob('texts.jsonl*.splitted.requested')\n",
    "files"
   ]
  },
  {
   "cell_type": "code",
   "execution_count": 3,
   "metadata": {},
   "outputs": [
    {
     "data": {
      "text/plain": [
       "701888"
      ]
     },
     "execution_count": 3,
     "metadata": {},
     "output_type": "execute_result"
    }
   ],
   "source": [
    "mapping = {}\n",
    "for f in files:\n",
    "    with open(f) as fopen:\n",
    "        for l in fopen:\n",
    "            l = json.loads(l)\n",
    "            if 'Source text\\nclear\\nLook up details' in l['r']['result']:\n",
    "                continue\n",
    "            if 'clear\\nLook up details' in l['r']['result']:\n",
    "                continue\n",
    "            if l['r']['result'].startswith('Source text\\n'):\n",
    "                continue\n",
    "                \n",
    "            mapping[l['src']] = l['r']['result']\n",
    "            \n",
    "len(mapping)"
   ]
  },
  {
   "cell_type": "code",
   "execution_count": 4,
   "metadata": {},
   "outputs": [],
   "source": [
    "all_data = []\n",
    "with open('train_9.jsonl') as fopen:\n",
    "    for l in fopen:\n",
    "        l = json.loads(l)\n",
    "        data = []\n",
    "        for d_ in l['data']:\n",
    "            data.append({\n",
    "                'value': d_,\n",
    "                'value_ms': mapping.get(d_)\n",
    "            })\n",
    "        all_data.append(data)"
   ]
  },
  {
   "cell_type": "code",
   "execution_count": 5,
   "metadata": {},
   "outputs": [
    {
     "data": {
      "text/plain": [
       "[{'value': 'Could you paraphrase and summarize the given text material? Answer according to: They cut you really deep.\\nThe place where anything can occur.\\nWhat right do they have to tell me what to do?\\nOnes they can’t even see.\\nFor they are what they are.\\nIntelligence comes with deep processing power.\\nSo there is good amongst the bad.\\nFor the way that I am.\\nSomeone to live with, sleep with and be intimate with.\\nAnd my need for peace and quiet.\\nAnd fall when I’m sad.\\nIt’s the only chance we’ll get.',\n",
       "  'value_ms': 'Bolehkah anda menghuraikan dan meringkaskan bahan teks yang diberikan? Jawapan mengikut: Mereka memotong anda dengan sangat dalam.\\nTempat di mana apa-apa boleh berlaku.\\nApa hak mereka untuk memberitahu saya apa yang perlu dilakukan?\\nYang mereka tidak dapat lihat.\\nKerana mereka adalah apa adanya.\\nKepintaran datang dengan kuasa pemprosesan yang mendalam.\\nJadi ada kebaikan di antara yang buruk.\\nUntuk cara saya.\\nSeseorang untuk tinggal bersama, tidur dengan dan menjadi intim.\\nDan keperluan saya untuk kedamaian dan ketenangan.\\nDan jatuh apabila saya sedih.\\nIa satu-satunya peluang yang kita akan dapat.'},\n",
       " {'value': \"Paraphrase: The location is unpredictable and there are those who try to control our actions even though they lack understanding. Intelligence requires significant cognitive effort and there are both positive and negative traits in individuals. The desire for companionship and tranquility, as well as experiencing emotional lows, are all natural human needs. We should take advantage of the opportunities presented to us, as they may not come again.\\n\\nSummary: The text essentially speaks about various aspects of the human experience, including the unpredictable nature of life, the limitations of others' understanding of us, the role of intelligence in human behavior, the existence of both positive and negative traits in individuals, and the importance of companionship, tranquility, and emotional expression. The author urges readers to take advantage of the opportunities presented to them.\",\n",
       "  'value_ms': 'Parafrasa: Lokasi tidak dapat diramalkan dan ada pihak yang cuba mengawal tindakan kita walaupun kurang pemahaman. Kecerdasan memerlukan usaha kognitif yang ketara dan terdapat kedua-dua sifat positif dan negatif dalam individu. Keinginan untuk persahabatan dan ketenangan, serta mengalami emosi yang rendah, adalah semua keperluan semula jadi manusia. Kita harus memanfaatkan peluang yang diberikan kepada kita, kerana ia mungkin tidak akan datang lagi.\\n\\nRingkasan: Teks pada dasarnya bercakap tentang pelbagai aspek pengalaman manusia, termasuk sifat kehidupan yang tidak dapat diramalkan, batasan pemahaman orang lain tentang kita, peranan kecerdasan dalam tingkah laku manusia, kewujudan kedua-dua sifat positif dan negatif dalam individu, dan kepentingan persahabatan, ketenangan, dan ekspresi emosi. Penulis menyeru para pembaca untuk memanfaatkan peluang yang diberikan kepada mereka.'},\n",
       " {'value': 'Hey, could you help me summarize the main points of the text in a simple bullet point format? That way, I can easily remember and retain the information.',\n",
       "  'value_ms': 'Hei, bolehkah anda membantu saya meringkaskan perkara utama teks dalam format titik tumpu ringkas? Dengan cara itu, saya boleh mengingati dan mengekalkan maklumat dengan mudah.'},\n",
       " {'value': \"Sure, here are the main points of the text in a bullet point format:\\n\\n- The location of life is unpredictable.\\n- Others may try to control us even if they don't understand us.\\n- Intelligence requires deep cognitive processing.\\n- There are both positive and negative traits in individuals.\\n- Humans have a natural need for companionship and tranquility.\\n- It is normal to experience emotional lows.\\n- We should take advantage of opportunities when presented.\",\n",
       "  'value_ms': 'Sudah tentu, berikut ialah perkara utama teks dalam format titik tumpu:\\n\\n- Lokasi kehidupan tidak dapat diramalkan.\\n- Orang lain mungkin cuba mengawal kita walaupun mereka tidak memahami kita.\\n- Kecerdasan memerlukan pemprosesan kognitif yang mendalam.\\n- Terdapat sifat positif dan negatif dalam diri individu.\\n- Manusia mempunyai keperluan semula jadi untuk persahabatan dan ketenangan.\\n- Adalah perkara biasa untuk mengalami emosi yang rendah.\\n- Kita harus memanfaatkan peluang apabila dibentangkan.'},\n",
       " {'value': 'Can you please suggest ways on how I can improve my cognitive processing power?',\n",
       "  'value_ms': 'Bolehkah anda mencadangkan cara bagaimana saya boleh meningkatkan kuasa pemprosesan kognitif saya?'},\n",
       " {'value': 'Certainly! Here are some ways you can improve your cognitive processing power:\\n\\n1. Engage in regular exercise to improve blood flow and oxygen to the brain. 2. Get enough sleep each night, as this allows the brain to consolidate memories and recharge. 3. Try new things that challenge your brain, such as learning a new language or skill. 4. Practice focusing your attention for prolonged periods of time, for example, by reading without distraction. 5. Eat a balanced diet that includes nutrient-dense foods like fruits, vegetables, and whole grains. 6. Practice mindfulness techniques to improve attention, memory, and cognitive flexibility. 7. Reduce stress through relaxation techniques, like deep breathing exercise or meditation. 8. Engage in social activities and hobbies to keep your mind active and engaged. 9. Consider cognitive training programs specifically designed to improve cognitive processing power. 10. Avoid unhealthy habits, such as smoking or excessive alcohol consumption, as these can damage cognitive function over time.',\n",
       "  'value_ms': 'Sudah tentu! Berikut ialah beberapa cara anda boleh meningkatkan kuasa pemprosesan kognitif anda:\\n\\n1. Lakukan senaman yang kerap untuk melancarkan aliran darah dan oksigen ke otak. 2. Dapatkan tidur yang cukup setiap malam, kerana ini membolehkan otak menyatukan ingatan dan mengisi semula. 3. Cuba perkara baharu yang mencabar otak anda, seperti mempelajari bahasa atau kemahiran baharu. 4. Berlatih menumpukan perhatian anda untuk jangka masa yang lama, contohnya, dengan membaca tanpa gangguan. 5. Makan diet seimbang yang termasuk makanan padat nutrien seperti buah-buahan, sayur-sayuran dan bijirin penuh. 6. Amalkan teknik kesedaran untuk meningkatkan perhatian, ingatan, dan fleksibiliti kognitif. 7. Kurangkan tekanan melalui teknik relaksasi, seperti senaman pernafasan dalam atau meditasi. 8. Libatkan diri dalam aktiviti sosial dan hobi untuk memastikan minda anda aktif dan terlibat. 9. Pertimbangkan program latihan kognitif yang direka khusus untuk meningkatkan kuasa pemprosesan kognitif. 10. Elakkan tabiat yang tidak sihat, seperti merokok atau pengambilan alkohol yang berlebihan, kerana ini boleh merosakkan fungsi kognitif dari semasa ke semasa.'}]"
      ]
     },
     "execution_count": 5,
     "metadata": {},
     "output_type": "execute_result"
    }
   ],
   "source": [
    "all_data[0]"
   ]
  },
  {
   "cell_type": "code",
   "execution_count": 6,
   "metadata": {},
   "outputs": [],
   "source": [
    "break_at = [\n",
    "    'help.openai.com',\n",
    "]"
   ]
  },
  {
   "cell_type": "code",
   "execution_count": 16,
   "metadata": {},
   "outputs": [
    {
     "name": "stderr",
     "output_type": "stream",
     "text": [
      "100%|███████████████████████████████| 118349/118349 [00:01<00:00, 113918.92it/s]\n"
     ]
    }
   ],
   "source": [
    "from tqdm import tqdm\n",
    "import random\n",
    "\n",
    "all_texts = []\n",
    "for i in tqdm(range(len(all_data))):\n",
    "    texts = []\n",
    "    for no, d in enumerate(all_data[i]):\n",
    "        \n",
    "        if no % 2 == 0:\n",
    "            t = '<manusia>: '\n",
    "            if random.random() > 0.5:\n",
    "                c = 'value'\n",
    "            else:\n",
    "                c = 'value_ms'\n",
    "        else:\n",
    "            t = '<bot>: '\n",
    "                \n",
    "        if d[c] is None:\n",
    "            break\n",
    "        \n",
    "        if any([b in d[c].lower() for b in break_at]):\n",
    "            print(c[c], '\\n-----\\n')\n",
    "            break\n",
    "        \n",
    "        n = d[c]\n",
    "        n = n.strip()\n",
    "        if len(n) < 3:\n",
    "            break\n",
    "        t = t + n\n",
    "        texts.append(t)\n",
    "\n",
    "    if len(texts) % 2 != 0:\n",
    "        texts = texts[:-1]\n",
    "    if not len(texts):\n",
    "        continue\n",
    "    while len(texts) and texts[-1].startswith('<manusia>'):\n",
    "        texts = texts[:-1]\n",
    "    if not len(texts):\n",
    "        continue\n",
    "    if not texts[0].startswith('<manusia>'):\n",
    "        continue\n",
    "    all_texts.append('\\n'.join(texts))"
   ]
  },
  {
   "cell_type": "code",
   "execution_count": 17,
   "metadata": {},
   "outputs": [
    {
     "data": {
      "text/plain": [
       "114361"
      ]
     },
     "execution_count": 17,
     "metadata": {},
     "output_type": "execute_result"
    }
   ],
   "source": [
    "len(all_texts)"
   ]
  },
  {
   "cell_type": "code",
   "execution_count": 18,
   "metadata": {},
   "outputs": [
    {
     "data": {
      "text/plain": [
       "\"<manusia>: Bolehkah anda menghuraikan dan meringkaskan bahan teks yang diberikan? Jawapan mengikut: Mereka memotong anda dengan sangat dalam.\\nTempat di mana apa-apa boleh berlaku.\\nApa hak mereka untuk memberitahu saya apa yang perlu dilakukan?\\nYang mereka tidak dapat lihat.\\nKerana mereka adalah apa adanya.\\nKepintaran datang dengan kuasa pemprosesan yang mendalam.\\nJadi ada kebaikan di antara yang buruk.\\nUntuk cara saya.\\nSeseorang untuk tinggal bersama, tidur dengan dan menjadi intim.\\nDan keperluan saya untuk kedamaian dan ketenangan.\\nDan jatuh apabila saya sedih.\\nIa satu-satunya peluang yang kita akan dapat.\\n<bot>: Parafrasa: Lokasi tidak dapat diramalkan dan ada pihak yang cuba mengawal tindakan kita walaupun kurang pemahaman. Kecerdasan memerlukan usaha kognitif yang ketara dan terdapat kedua-dua sifat positif dan negatif dalam individu. Keinginan untuk persahabatan dan ketenangan, serta mengalami emosi yang rendah, adalah semua keperluan semula jadi manusia. Kita harus memanfaatkan peluang yang diberikan kepada kita, kerana ia mungkin tidak akan datang lagi.\\n\\nRingkasan: Teks pada dasarnya bercakap tentang pelbagai aspek pengalaman manusia, termasuk sifat kehidupan yang tidak dapat diramalkan, batasan pemahaman orang lain tentang kita, peranan kecerdasan dalam tingkah laku manusia, kewujudan kedua-dua sifat positif dan negatif dalam individu, dan kepentingan persahabatan, ketenangan, dan ekspresi emosi. Penulis menyeru para pembaca untuk memanfaatkan peluang yang diberikan kepada mereka.\\n<manusia>: Hey, could you help me summarize the main points of the text in a simple bullet point format? That way, I can easily remember and retain the information.\\n<bot>: Sure, here are the main points of the text in a bullet point format:\\n\\n- The location of life is unpredictable.\\n- Others may try to control us even if they don't understand us.\\n- Intelligence requires deep cognitive processing.\\n- There are both positive and negative traits in individuals.\\n- Humans have a natural need for companionship and tranquility.\\n- It is normal to experience emotional lows.\\n- We should take advantage of opportunities when presented.\\n<manusia>: Bolehkah anda mencadangkan cara bagaimana saya boleh meningkatkan kuasa pemprosesan kognitif saya?\\n<bot>: Sudah tentu! Berikut ialah beberapa cara anda boleh meningkatkan kuasa pemprosesan kognitif anda:\\n\\n1. Lakukan senaman yang kerap untuk melancarkan aliran darah dan oksigen ke otak. 2. Dapatkan tidur yang cukup setiap malam, kerana ini membolehkan otak menyatukan ingatan dan mengisi semula. 3. Cuba perkara baharu yang mencabar otak anda, seperti mempelajari bahasa atau kemahiran baharu. 4. Berlatih menumpukan perhatian anda untuk jangka masa yang lama, contohnya, dengan membaca tanpa gangguan. 5. Makan diet seimbang yang termasuk makanan padat nutrien seperti buah-buahan, sayur-sayuran dan bijirin penuh. 6. Amalkan teknik kesedaran untuk meningkatkan perhatian, ingatan, dan fleksibiliti kognitif. 7. Kurangkan tekanan melalui teknik relaksasi, seperti senaman pernafasan dalam atau meditasi. 8. Libatkan diri dalam aktiviti sosial dan hobi untuk memastikan minda anda aktif dan terlibat. 9. Pertimbangkan program latihan kognitif yang direka khusus untuk meningkatkan kuasa pemprosesan kognitif. 10. Elakkan tabiat yang tidak sihat, seperti merokok atau pengambilan alkohol yang berlebihan, kerana ini boleh merosakkan fungsi kognitif dari semasa ke semasa.\""
      ]
     },
     "execution_count": 18,
     "metadata": {},
     "output_type": "execute_result"
    }
   ],
   "source": [
    "all_texts[0]"
   ]
  },
  {
   "cell_type": "code",
   "execution_count": 19,
   "metadata": {},
   "outputs": [],
   "source": [
    "for t in all_texts:\n",
    "    splitted = t.split('<manusia>:')\n",
    "    if '<bot>:' not in splitted[-1]:\n",
    "        print(t)\n",
    "        break"
   ]
  },
  {
   "cell_type": "code",
   "execution_count": 20,
   "metadata": {},
   "outputs": [],
   "source": [
    "with open('part9-alternate_texts.jsonl', 'w') as fopen:\n",
    "    for t in all_texts:\n",
    "        fopen.write(f'{json.dumps(t)}\\n')"
   ]
  }
 ],
 "metadata": {
  "kernelspec": {
   "display_name": "Python 3 (ipykernel)",
   "language": "python",
   "name": "python3"
  },
  "language_info": {
   "codemirror_mode": {
    "name": "ipython",
    "version": 3
   },
   "file_extension": ".py",
   "mimetype": "text/x-python",
   "name": "python",
   "nbconvert_exporter": "python",
   "pygments_lexer": "ipython3",
   "version": "3.8.10"
  }
 },
 "nbformat": 4,
 "nbformat_minor": 4
}
