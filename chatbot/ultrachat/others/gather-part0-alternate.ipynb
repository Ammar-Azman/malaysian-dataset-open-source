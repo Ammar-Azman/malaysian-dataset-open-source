{
 "cells": [
  {
   "cell_type": "code",
   "execution_count": 1,
   "metadata": {},
   "outputs": [],
   "source": [
    "from glob import glob\n",
    "import json"
   ]
  },
  {
   "cell_type": "code",
   "execution_count": 2,
   "metadata": {},
   "outputs": [
    {
     "data": {
      "text/plain": [
       "['texts_0.jsonl08.splitted.requested',\n",
       " 'texts_0.jsonl02.splitted.requested',\n",
       " 'texts_0.jsonl09.splitted.requested',\n",
       " 'texts_0.jsonl10.splitted.requested',\n",
       " 'texts_0.jsonl03.splitted.requested',\n",
       " 'texts_0.jsonl07.splitted.requested',\n",
       " 'texts_0.jsonl05.splitted.requested',\n",
       " 'texts_0.jsonl14.splitted.requested',\n",
       " 'texts_0.jsonl12.splitted.requested',\n",
       " 'texts_0.jsonl13.splitted.requested',\n",
       " 'texts_0.jsonl06.splitted.requested',\n",
       " 'texts_0.jsonl01.splitted.requested',\n",
       " 'texts_0.jsonl04.splitted.requested',\n",
       " 'texts_0.jsonl00.splitted.requested',\n",
       " 'texts_0.jsonl11.splitted.requested']"
      ]
     },
     "execution_count": 2,
     "metadata": {},
     "output_type": "execute_result"
    }
   ],
   "source": [
    "files = glob('texts_0.jsonl*.splitted.requested')\n",
    "files"
   ]
  },
  {
   "cell_type": "code",
   "execution_count": 3,
   "metadata": {},
   "outputs": [
    {
     "data": {
      "text/plain": [
       "1498726"
      ]
     },
     "execution_count": 3,
     "metadata": {},
     "output_type": "execute_result"
    }
   ],
   "source": [
    "mapping = {}\n",
    "for f in files:\n",
    "    with open(f) as fopen:\n",
    "        for l in fopen:\n",
    "            l = json.loads(l)\n",
    "            if 'Source text\\nclear\\nLook up details' in l['r']['result']:\n",
    "                continue\n",
    "            if 'clear\\nLook up details' in l['r']['result']:\n",
    "                continue\n",
    "            if l['r']['result'].startswith('Source text\\n'):\n",
    "                continue\n",
    "            mapping[l['src']] = l['r']['result']\n",
    "            \n",
    "len(mapping)"
   ]
  },
  {
   "cell_type": "code",
   "execution_count": 4,
   "metadata": {},
   "outputs": [],
   "source": [
    "all_data = []\n",
    "with open('train_0.jsonl') as fopen:\n",
    "    for l in fopen:\n",
    "        l = json.loads(l)\n",
    "        data = []\n",
    "        for d_ in l['data']:\n",
    "            data.append({\n",
    "                'value': d_,\n",
    "                'value_ms': mapping.get(d_)\n",
    "            })\n",
    "        all_data.append(data)"
   ]
  },
  {
   "cell_type": "code",
   "execution_count": 5,
   "metadata": {},
   "outputs": [
    {
     "data": {
      "text/plain": [
       "[{'value': 'How can cross training benefit groups like runners, swimmers, or weightlifters?',\n",
       "  'value_ms': 'Bagaimanakah latihan silang boleh memberi manfaat kepada kumpulan seperti pelari, perenang atau atlet angkat berat?'},\n",
       " {'value': 'Cross training can benefit groups like runners, swimmers, or weightlifters in the following ways:\\n\\n1. Reduces the risk of injury: Cross training involves different types of exercises that work different muscle groups. This reduces the risk of overuse injuries that may result from repetitive use of the same muscles.\\n\\n2. Improves overall fitness: Cross training helps improve overall fitness levels by maintaining a balance of strength, endurance, flexibility, and cardiovascular fitness.\\n\\n3. Breaks monotony: Cross training adds variety to your fitness routine by introducing new exercises, which can help you stay motivated and avoid boredom that often comes with doing the same exercises repeatedly.\\n\\n4. Increases strength: Cross training helps in building strength by incorporating exercises that target different muscle groups. This helps you build strength in areas that may be underdeveloped.\\n\\n5. Enhances performance: Cross training allows you to work on different aspects of fitness that are essential for your sport or activity. For example, a runner can benefit from strength training as it helps build stronger muscles and improves running economy.\\n\\nOverall, cross training offers numerous benefits to athletes and fitness enthusiasts. By incorporating other forms of exercise into their routine, individuals can improve their overall fitness, reduce the risk of injury, and enhance their performance.',\n",
       "  'value_ms': 'Latihan silang boleh memanfaatkan kumpulan seperti pelari, perenang atau atlet angkat berat dengan cara berikut:\\n\\n1. Mengurangkan risiko kecederaan: Latihan silang melibatkan pelbagai jenis latihan yang melatih kumpulan otot yang berbeza. Ini mengurangkan risiko kecederaan berlebihan yang mungkin disebabkan oleh penggunaan berulang otot yang sama.\\n\\n2. Meningkatkan kecergasan keseluruhan: Latihan silang membantu meningkatkan tahap kecergasan keseluruhan dengan mengekalkan keseimbangan kekuatan, daya tahan, fleksibiliti dan kecergasan kardiovaskular.\\n\\n3. Memecahkan kebosanan: Latihan silang menambah kelainan pada rutin kecergasan anda dengan memperkenalkan senaman baharu, yang boleh membantu anda kekal bermotivasi dan mengelakkan kebosanan yang sering datang dengan melakukan senaman yang sama berulang kali.\\n\\n4. Meningkatkan kekuatan: Latihan silang membantu dalam membina kekuatan dengan menggabungkan latihan yang menyasarkan kumpulan otot yang berbeza. Ini membantu anda membina kekuatan di kawasan yang mungkin kurang dibangunkan.\\n\\n5. Meningkatkan prestasi: Latihan silang membolehkan anda mengusahakan pelbagai aspek kecergasan yang penting untuk sukan atau aktiviti anda. Sebagai contoh, pelari boleh mendapat manfaat daripada latihan kekuatan kerana ia membantu membina otot yang lebih kuat dan meningkatkan ekonomi larian.\\n\\nSecara keseluruhan, latihan silang menawarkan banyak faedah kepada atlet dan peminat kecergasan. Dengan memasukkan bentuk senaman lain ke dalam rutin mereka, individu boleh meningkatkan kecergasan keseluruhan mereka, mengurangkan risiko kecederaan dan meningkatkan prestasi mereka.'},\n",
       " {'value': \"That makes sense. I've been wanting to improve my running time, but I never thought about incorporating strength training. Do you have any recommendations for specific exercises?\",\n",
       "  'value_ms': 'Yang masuk akal. Saya telah mahu meningkatkan masa larian saya, tetapi saya tidak pernah terfikir untuk menggabungkan latihan kekuatan. Adakah anda mempunyai sebarang cadangan untuk latihan tertentu?'},\n",
       " {'value': \"Sure, here are some strength training exercises that can benefit runners:\\n\\n1. Squats: Squats target the glutes, quadriceps, and hamstrings. They help improve lower-body strength, power, and stability, making them an excellent exercise for runners.\\n\\n2. Lunges: Lunges target the same muscles as squats but also work the hip flexors and help improve balance.\\n\\n3. Deadlifts: Deadlifts are a compound exercise that targets the glutes, hamstrings, and lower back. They improve lower body strength, power, and stability.\\n\\n4. Plyometric exercises: Plyometric exercises such as jump squats, box jumps, or single-leg hops can help improve explosive power, which is crucial for sprinting.\\n\\n5. Calf raises: Calf raises target the calves and help improve running economy by strengthening the muscles that propel you forward.\\n\\nIt's important to remember to start with lighter weights and proper form to avoid injury. I recommend consulting with a personal trainer or coach for guidance on proper form and technique.\",\n",
       "  'value_ms': 'Sudah tentu, berikut adalah beberapa latihan latihan kekuatan yang boleh memberi manfaat kepada pelari:\\n\\n1. Squats: Squats menyasarkan glutes, quadriceps, dan hamstrings. Mereka membantu meningkatkan kekuatan, kuasa dan kestabilan bahagian bawah badan, menjadikannya latihan yang sangat baik untuk pelari.\\n\\n2. Lunges: Lunges menyasarkan otot yang sama seperti squats tetapi juga menggerakkan fleksor pinggul dan membantu meningkatkan keseimbangan.\\n\\n3. Deadlifts: Deadlifts ialah senaman kompaun yang menyasarkan glutes, hamstrings, dan bahagian bawah belakang. Mereka meningkatkan kekuatan, kuasa dan kestabilan badan yang lebih rendah.\\n\\n4. Latihan pliometrik: Latihan pliometrik seperti lompat jongkong, lompat kotak atau lompat kaki tunggal boleh membantu meningkatkan kuasa letupan, yang penting untuk lari pecut.\\n\\n5. Caf raise: Calf raise menyasarkan betis dan membantu meningkatkan ekonomi larian dengan menguatkan otot yang mendorong anda ke hadapan.\\n\\nAdalah penting untuk diingat untuk bermula dengan pemberat yang lebih ringan dan bentuk yang betul untuk mengelakkan kecederaan. Saya mengesyorkan berunding dengan jurulatih peribadi atau jurulatih untuk bimbingan tentang bentuk dan teknik yang betul.'},\n",
       " {'value': \"Hmm, I'm not really a fan of weightlifting though. Can I incorporate other forms of exercise into my routine to improve my running time?\",\n",
       "  'value_ms': 'Hmm, saya sebenarnya bukan peminat angkat berat. Bolehkah saya memasukkan bentuk senaman lain ke dalam rutin saya untuk meningkatkan masa larian saya?'},\n",
       " {'value': \"Yes, absolutely! In addition to strength training, there are many other types of exercises that can help improve running performance without involving weightlifting. Here are some examples:\\n\\n1. Plyometric exercises: Plyometric exercises like jump squats, box jumps or single-leg jumps improve explosive power which can make your runs more efficient.\\n\\n2. Hill training: Hill training is a great way to improve your overall stamina, strength, and speed.\\n\\n3. Circuit training: Circuit training is a full-body workout that can help build endurance, strength, and agility. You can include exercises like push-ups, lunges, burpees, and jump ropes to make the circuit more challenging.\\n\\n4. Yoga: Yoga can help improve running performance by increasing flexibility, strength, and balance. It's also a great way to reduce stress and stay focused.\\n\\n5. Swimming or cycling: Swimming or cycling are low-impact exercises that provide a great cardiovascular workout, which can help improve endurance and fitness.\\n\\nRemember to always listen to your body and give yourself adequate rest and recovery time between workouts. Mix up your workouts to keep things interesting and challenge your body in new ways.\",\n",
       "  'value_ms': 'Ya, benar-benar! Selain latihan kekuatan, terdapat banyak lagi jenis senaman yang boleh membantu meningkatkan prestasi larian tanpa melibatkan angkat berat. Berikut adalah beberapa contoh:\\n\\n1. Latihan pliometrik: Latihan pliometrik seperti lompat mencangkung, lompat kotak atau lompat satu kaki meningkatkan kuasa letupan yang boleh menjadikan larian anda lebih cekap.\\n\\n2. Latihan bukit: Latihan bukit ialah cara terbaik untuk meningkatkan stamina, kekuatan dan kelajuan keseluruhan anda.\\n\\n3. Latihan litar: Latihan litar ialah senaman seluruh badan yang boleh membantu membina daya tahan, kekuatan dan ketangkasan. Anda boleh memasukkan latihan seperti tekan tubi, lunges, burpees dan lompat tali untuk menjadikan litar lebih mencabar.\\n\\n4. Yoga: Yoga boleh membantu meningkatkan prestasi larian dengan meningkatkan fleksibiliti, kekuatan dan keseimbangan. Ia juga merupakan cara terbaik untuk mengurangkan tekanan dan kekal fokus.\\n\\n5. Berenang atau berbasikal: Berenang atau berbasikal ialah senaman berimpak rendah yang menyediakan senaman kardiovaskular yang hebat, yang boleh membantu meningkatkan daya tahan dan kecergasan.\\n\\nIngat untuk sentiasa mendengar badan anda dan berikan diri anda rehat dan masa pemulihan yang mencukupi antara latihan. Campurkan senaman anda untuk memastikan perkara menarik dan mencabar badan anda dengan cara baharu.'}]"
      ]
     },
     "execution_count": 5,
     "metadata": {},
     "output_type": "execute_result"
    }
   ],
   "source": [
    "all_data[0]"
   ]
  },
  {
   "cell_type": "code",
   "execution_count": 6,
   "metadata": {},
   "outputs": [],
   "source": [
    "inside = []\n",
    "with open('train_0.jsonl.translated') as fopen:\n",
    "    for l in fopen:\n",
    "        if 'model bahasa' in l or 'openai' in l:\n",
    "            inside.append(l)\n",
    "            if len(inside) >= 10:\n",
    "                break"
   ]
  },
  {
   "cell_type": "code",
   "execution_count": 7,
   "metadata": {},
   "outputs": [],
   "source": [
    "break_at = [\n",
    "    'help.openai.com',\n",
    "    'openai'\n",
    "]"
   ]
  },
  {
   "cell_type": "code",
   "execution_count": 8,
   "metadata": {},
   "outputs": [
    {
     "name": "stderr",
     "output_type": "stream",
     "text": [
      "100%|████████████████████████████████| 150000/150000 [00:03<00:00, 45961.72it/s]\n"
     ]
    }
   ],
   "source": [
    "from tqdm import tqdm\n",
    "import random\n",
    "\n",
    "all_texts = []\n",
    "for i in tqdm(range(len(all_data))):\n",
    "    texts = []\n",
    "    for no, d in enumerate(all_data[i]):\n",
    "        \n",
    "        if no % 2 == 0:\n",
    "            t = '<manusia>: '\n",
    "            if random.random() > 0.5:\n",
    "                c = 'value'\n",
    "            else:\n",
    "                c = 'value_ms'\n",
    "        else:\n",
    "            t = '<bot>: '\n",
    "                \n",
    "        if d[c] is None:\n",
    "            break\n",
    "        \n",
    "        if any([b in d[c].lower() for b in break_at]):\n",
    "            print(c[c], '\\n-----\\n')\n",
    "            break\n",
    "        \n",
    "        n = d[c]\n",
    "        n = n.strip()\n",
    "        if len(n) < 3:\n",
    "            break\n",
    "        t = t + n\n",
    "        texts.append(t)\n",
    "\n",
    "    if len(texts) % 2 != 0:\n",
    "        texts = texts[:-1]\n",
    "    if not len(texts):\n",
    "        continue\n",
    "    while len(texts) and texts[-1].startswith('<manusia>'):\n",
    "        texts = texts[:-1]\n",
    "    if not len(texts):\n",
    "        continue\n",
    "    if not texts[0].startswith('<manusia>'):\n",
    "        continue\n",
    "    all_texts.append('\\n'.join(texts))"
   ]
  },
  {
   "cell_type": "code",
   "execution_count": 9,
   "metadata": {},
   "outputs": [
    {
     "data": {
      "text/plain": [
       "149994"
      ]
     },
     "execution_count": 9,
     "metadata": {},
     "output_type": "execute_result"
    }
   ],
   "source": [
    "len(all_texts)"
   ]
  },
  {
   "cell_type": "code",
   "execution_count": 10,
   "metadata": {},
   "outputs": [
    {
     "data": {
      "text/plain": [
       "\"<manusia>: How can cross training benefit groups like runners, swimmers, or weightlifters?\\n<bot>: Cross training can benefit groups like runners, swimmers, or weightlifters in the following ways:\\n\\n1. Reduces the risk of injury: Cross training involves different types of exercises that work different muscle groups. This reduces the risk of overuse injuries that may result from repetitive use of the same muscles.\\n\\n2. Improves overall fitness: Cross training helps improve overall fitness levels by maintaining a balance of strength, endurance, flexibility, and cardiovascular fitness.\\n\\n3. Breaks monotony: Cross training adds variety to your fitness routine by introducing new exercises, which can help you stay motivated and avoid boredom that often comes with doing the same exercises repeatedly.\\n\\n4. Increases strength: Cross training helps in building strength by incorporating exercises that target different muscle groups. This helps you build strength in areas that may be underdeveloped.\\n\\n5. Enhances performance: Cross training allows you to work on different aspects of fitness that are essential for your sport or activity. For example, a runner can benefit from strength training as it helps build stronger muscles and improves running economy.\\n\\nOverall, cross training offers numerous benefits to athletes and fitness enthusiasts. By incorporating other forms of exercise into their routine, individuals can improve their overall fitness, reduce the risk of injury, and enhance their performance.\\n<manusia>: Yang masuk akal. Saya telah mahu meningkatkan masa larian saya, tetapi saya tidak pernah terfikir untuk menggabungkan latihan kekuatan. Adakah anda mempunyai sebarang cadangan untuk latihan tertentu?\\n<bot>: Sudah tentu, berikut adalah beberapa latihan latihan kekuatan yang boleh memberi manfaat kepada pelari:\\n\\n1. Squats: Squats menyasarkan glutes, quadriceps, dan hamstrings. Mereka membantu meningkatkan kekuatan, kuasa dan kestabilan bahagian bawah badan, menjadikannya latihan yang sangat baik untuk pelari.\\n\\n2. Lunges: Lunges menyasarkan otot yang sama seperti squats tetapi juga menggerakkan fleksor pinggul dan membantu meningkatkan keseimbangan.\\n\\n3. Deadlifts: Deadlifts ialah senaman kompaun yang menyasarkan glutes, hamstrings, dan bahagian bawah belakang. Mereka meningkatkan kekuatan, kuasa dan kestabilan badan yang lebih rendah.\\n\\n4. Latihan pliometrik: Latihan pliometrik seperti lompat jongkong, lompat kotak atau lompat kaki tunggal boleh membantu meningkatkan kuasa letupan, yang penting untuk lari pecut.\\n\\n5. Caf raise: Calf raise menyasarkan betis dan membantu meningkatkan ekonomi larian dengan menguatkan otot yang mendorong anda ke hadapan.\\n\\nAdalah penting untuk diingat untuk bermula dengan pemberat yang lebih ringan dan bentuk yang betul untuk mengelakkan kecederaan. Saya mengesyorkan berunding dengan jurulatih peribadi atau jurulatih untuk bimbingan tentang bentuk dan teknik yang betul.\\n<manusia>: Hmm, I'm not really a fan of weightlifting though. Can I incorporate other forms of exercise into my routine to improve my running time?\\n<bot>: Yes, absolutely! In addition to strength training, there are many other types of exercises that can help improve running performance without involving weightlifting. Here are some examples:\\n\\n1. Plyometric exercises: Plyometric exercises like jump squats, box jumps or single-leg jumps improve explosive power which can make your runs more efficient.\\n\\n2. Hill training: Hill training is a great way to improve your overall stamina, strength, and speed.\\n\\n3. Circuit training: Circuit training is a full-body workout that can help build endurance, strength, and agility. You can include exercises like push-ups, lunges, burpees, and jump ropes to make the circuit more challenging.\\n\\n4. Yoga: Yoga can help improve running performance by increasing flexibility, strength, and balance. It's also a great way to reduce stress and stay focused.\\n\\n5. Swimming or cycling: Swimming or cycling are low-impact exercises that provide a great cardiovascular workout, which can help improve endurance and fitness.\\n\\nRemember to always listen to your body and give yourself adequate rest and recovery time between workouts. Mix up your workouts to keep things interesting and challenge your body in new ways.\""
      ]
     },
     "execution_count": 10,
     "metadata": {},
     "output_type": "execute_result"
    }
   ],
   "source": [
    "all_texts[0]"
   ]
  },
  {
   "cell_type": "code",
   "execution_count": 11,
   "metadata": {},
   "outputs": [],
   "source": [
    "for t in all_texts:\n",
    "    splitted = t.split('<manusia>:')\n",
    "    if '<bot>:' not in splitted[-1]:\n",
    "        print(t)\n",
    "        break"
   ]
  },
  {
   "cell_type": "code",
   "execution_count": 12,
   "metadata": {},
   "outputs": [],
   "source": [
    "with open('part0-alternate_texts.jsonl', 'w') as fopen:\n",
    "    for t in all_texts:\n",
    "        fopen.write(f'{json.dumps(t)}\\n')"
   ]
  }
 ],
 "metadata": {
  "kernelspec": {
   "display_name": "Python 3 (ipykernel)",
   "language": "python",
   "name": "python3"
  },
  "language_info": {
   "codemirror_mode": {
    "name": "ipython",
    "version": 3
   },
   "file_extension": ".py",
   "mimetype": "text/x-python",
   "name": "python",
   "nbconvert_exporter": "python",
   "pygments_lexer": "ipython3",
   "version": "3.8.10"
  }
 },
 "nbformat": 4,
 "nbformat_minor": 4
}
