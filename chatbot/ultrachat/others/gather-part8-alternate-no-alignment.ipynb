{
 "cells": [
  {
   "cell_type": "code",
   "execution_count": 1,
   "metadata": {},
   "outputs": [],
   "source": [
    "from glob import glob\n",
    "import json"
   ]
  },
  {
   "cell_type": "code",
   "execution_count": 2,
   "metadata": {},
   "outputs": [
    {
     "data": {
      "text/plain": [
       "['texts_8.jsonl01.splitted.requested',\n",
       " 'texts_8.jsonl00.splitted.requested',\n",
       " 'texts_8.jsonl07.splitted.requested',\n",
       " 'texts_8.jsonl08.splitted.requested',\n",
       " 'texts_8.jsonl03.splitted.requested',\n",
       " 'texts_8.jsonl06.splitted.requested',\n",
       " 'texts_8.jsonl02.splitted.requested',\n",
       " 'texts_8.jsonl04.splitted.requested',\n",
       " 'texts_8.jsonl05.splitted.requested']"
      ]
     },
     "execution_count": 2,
     "metadata": {},
     "output_type": "execute_result"
    }
   ],
   "source": [
    "files = glob('texts_8.jsonl*.splitted.requested')\n",
    "files"
   ]
  },
  {
   "cell_type": "code",
   "execution_count": 3,
   "metadata": {},
   "outputs": [
    {
     "data": {
      "text/plain": [
       "888074"
      ]
     },
     "execution_count": 3,
     "metadata": {},
     "output_type": "execute_result"
    }
   ],
   "source": [
    "mapping = {}\n",
    "for f in files:\n",
    "    with open(f) as fopen:\n",
    "        for l in fopen:\n",
    "            l = json.loads(l)\n",
    "            if 'Source text\\nclear\\nLook up details' in l['r']['result']:\n",
    "                continue\n",
    "            if 'clear\\nLook up details' in l['r']['result']:\n",
    "                continue\n",
    "            if l['r']['result'].startswith('Source text\\n'):\n",
    "                continue\n",
    "                \n",
    "            mapping[l['src']] = l['r']['result']\n",
    "            \n",
    "len(mapping)"
   ]
  },
  {
   "cell_type": "code",
   "execution_count": 4,
   "metadata": {},
   "outputs": [],
   "source": [
    "all_data = []\n",
    "with open('train_8.jsonl') as fopen:\n",
    "    for l in fopen:\n",
    "        l = json.loads(l)\n",
    "        data = []\n",
    "        for d_ in l['data']:\n",
    "            data.append({\n",
    "                'value': d_,\n",
    "                'value_ms': mapping.get(d_)\n",
    "            })\n",
    "        all_data.append(data)"
   ]
  },
  {
   "cell_type": "code",
   "execution_count": 5,
   "metadata": {
    "scrolled": true
   },
   "outputs": [
    {
     "data": {
      "text/plain": [
       "[{'value': 'March 13th saw the launch of “I Will Save You,” poems and drawings by students from all over Martha’s Vineyard.\\nAll of the artwork and poems in the book were created by students from different schools around the island. The book was edited by Fan Ogilvie, educator and poet, and Richard Skidmore, Gay Head Lighthouse Keeper and poet. The book launched March 13, 2015 at Pathways in Chilmark with a poetry reading by the poets featured in the book.\\nBooks will be available for purchase at island bookstores for $20 and proceeds benefit the Save the Gay Head Lighthouse project. Special thanks to Pathways Projects Institutes, Marianne Goldberg, James Weiss, Susan Stevens, Bob Moore, Amy Reece, Christine Ferrone, Todd Derry, and all the students who shared their art to help save the Light! Can you provide a summary of the \"I Will Save You\" book launch, including who edited the book and where it was launched?',\n",
       "  'value_ms': '13 Mac menyaksikan pelancaran \"Saya Akan Menyelamatkan Anda,\" puisi dan lukisan oleh pelajar dari seluruh Martha\\'s Vineyard.\\nSemua karya seni dan puisi dalam buku itu dicipta oleh pelajar dari sekolah yang berbeza di sekitar pulau itu. Buku itu disunting oleh Fan Ogilvie, pendidik dan penyair, dan Richard Skidmore, Penjaga Rumah Api Gay Head dan penyair. Buku itu dilancarkan pada 13 Mac 2015 di Pathways in Chilmark dengan bacaan puisi oleh penyair yang dipaparkan dalam buku itu.\\nBuku-buku akan tersedia untuk pembelian di kedai buku pulau dengan harga $20 dan hasil keuntungan projek Save the Gay Head Lighthouse. Terima kasih khas kepada Pathways Projects Institutes, Marianne Goldberg, James Weiss, Susan Stevens, Bob Moore, Amy Reece, Christine Ferrone, Todd Derry, dan semua pelajar yang berkongsi seni mereka untuk membantu menyelamatkan Cahaya! Bolehkah anda memberikan ringkasan pelancaran buku \"I Will Save You\", termasuk siapa yang mengedit buku itu dan di mana ia dilancarkan?'},\n",
       " {'value': '\"I Will Save You\" is a book of poems and drawings created by students from various schools on Martha\\'s Vineyard. The book, edited by Fan Ogilvie and Richard Skidmore, was launched on March 13th at Pathways in Chilmark with a poetry reading by the featured poets. Copies of the book can be purchased at island bookstores for $20, with all proceeds going toward the Save the Gay Head Lighthouse project. The launch was made possible thanks to the Pathways Projects Institutes and various individuals who contributed to the event.',\n",
       "  'value_ms': '\"I Will Save You\" ialah buku puisi dan lukisan yang dicipta oleh pelajar dari pelbagai sekolah di Martha\\'s Vineyard. Buku itu, disunting oleh Fan Ogilvie dan Richard Skidmore, telah dilancarkan pada 13 Mac di Pathways in Chilmark dengan bacaan puisi oleh penyair yang diketengahkan. Salinan buku itu boleh dibeli di kedai buku pulau dengan harga $20, dengan semua hasil akan digunakan untuk projek Save the Gay Head Lighthouse. Pelancaran ini dijayakan terima kasih kepada Institut Projek Pathways dan pelbagai individu yang menyumbang kepada acara tersebut.'},\n",
       " {'value': 'Can you provide more information on the Save the Gay Head Lighthouse project? How can I donate to the cause?',\n",
       "  'value_ms': 'Bolehkah anda memberikan maklumat lanjut tentang projek Rumah Api Selamatkan Ketua Gay? Bagaimanakah saya boleh menderma untuk tujuan itu?'},\n",
       " {'value': \"The Save the Gay Head Lighthouse project aims to protect and preserve the historic Gay Head Lighthouse on Martha's Vineyard, which is threatened by coastal erosion. The project is managed by the Martha's Vineyard Museum, which has launched fundraising and awareness campaigns to support the restoration and relocation of the lighthouse. You can donate to the Save the Gay Head Lighthouse project on the Martha's Vineyard Museum's website, where you can also find more information about the project and its progress.\",\n",
       "  'value_ms': \"Projek Rumah Api Save the Gay Head bertujuan untuk melindungi dan memelihara Rumah Api Gay Head yang bersejarah di Martha's Vineyard, yang diancam oleh hakisan pantai. Projek ini diuruskan oleh Muzium Ladang Anggur Martha, yang telah melancarkan kempen pengumpulan dana dan kesedaran untuk menyokong pemulihan dan penempatan semula rumah api itu. Anda boleh menderma kepada projek Save the Gay Head Lighthouse di tapak web Martha's Vineyard Museum, di mana anda juga boleh mendapatkan lebih banyak maklumat tentang projek dan kemajuannya.\"}]"
      ]
     },
     "execution_count": 5,
     "metadata": {},
     "output_type": "execute_result"
    }
   ],
   "source": [
    "all_data[0]"
   ]
  },
  {
   "cell_type": "code",
   "execution_count": 6,
   "metadata": {},
   "outputs": [],
   "source": [
    "from tqdm import tqdm\n",
    "import random"
   ]
  },
  {
   "cell_type": "code",
   "execution_count": 7,
   "metadata": {},
   "outputs": [],
   "source": [
    "break_at = [\n",
    "    'help.openai.com',\n",
    "    'openai',\n",
    "    'cannot have personal opinions',\n",
    "    's an ai language model',\n",
    "    \"i'm sorry\",\n",
    "    'many factors',\n",
    "    'gay',\n",
    "    'lgbt',\n",
    "    'lesbian',\n",
    "    'gender-neutral',\n",
    "    'remain neutral',\n",
    "    'without bias',\n",
    "    'and neutral',\n",
    "    'more inclusive',\n",
    "    'neutrality',\n",
    "    'non-bias',\n",
    "    'discrimination',\n",
    "    'avoid any forms of discrimination',\n",
    "    'regardless of their gender',\n",
    "    'inclusive and tolerant environment',\n",
    "    'have personal views',\n",
    "    'sexual orientation should be a top priority',\n",
    "    's an objective ai',\n",
    "    'avoid any forms of prejudice or hate',\n",
    "    'regardless of their personal',\n",
    "    'you understand this direction',\n",
    "    'tolerant environment within ai',\n",
    "    'cannot express my',\n",
    "    'requires more context'\n",
    "]"
   ]
  },
  {
   "cell_type": "code",
   "execution_count": 8,
   "metadata": {},
   "outputs": [],
   "source": [
    "# for i in tqdm(range(len(all_data))):\n",
    "#     for no, d in enumerate(all_data[i]):\n",
    "#         if 'requires more context' in d['value'].lower():\n",
    "#             print(d['value'])\n",
    "#             break"
   ]
  },
  {
   "cell_type": "code",
   "execution_count": 9,
   "metadata": {},
   "outputs": [
    {
     "name": "stderr",
     "output_type": "stream",
     "text": [
      "100%|█████████████████████████████████| 150000/150000 [00:22<00:00, 6530.47it/s]\n"
     ]
    }
   ],
   "source": [
    "from tqdm import tqdm\n",
    "import random\n",
    "\n",
    "all_texts = []\n",
    "for i in tqdm(range(len(all_data))):\n",
    "    texts = []\n",
    "    for no, d in enumerate(all_data[i]):\n",
    "        \n",
    "        if no % 2 == 0:\n",
    "            t = '<manusia>: '\n",
    "            if random.random() > 0.5:\n",
    "                c = 'value'\n",
    "            else:\n",
    "                c = 'value_ms'\n",
    "        else:\n",
    "            t = '<bot>: '\n",
    "                \n",
    "        if d[c] is None:\n",
    "            break\n",
    "        \n",
    "        if any([b in d['value'].lower() for b in break_at]):\n",
    "            # print(d[c], '\\n-----\\n')\n",
    "            break\n",
    "        \n",
    "        n = d[c]\n",
    "        n = n.strip()\n",
    "        if len(n) < 3:\n",
    "            break\n",
    "        t = t + n\n",
    "        texts.append(t)\n",
    "\n",
    "    if len(texts) % 2 != 0:\n",
    "        texts = texts[:-1]\n",
    "    if not len(texts):\n",
    "        continue\n",
    "    while len(texts) and texts[-1].startswith('<manusia>'):\n",
    "        texts = texts[:-1]\n",
    "    if not len(texts):\n",
    "        continue\n",
    "    if not texts[0].startswith('<manusia>'):\n",
    "        continue\n",
    "    all_texts.append('\\n'.join(texts))"
   ]
  },
  {
   "cell_type": "code",
   "execution_count": 10,
   "metadata": {},
   "outputs": [
    {
     "data": {
      "text/plain": [
       "139550"
      ]
     },
     "execution_count": 10,
     "metadata": {},
     "output_type": "execute_result"
    }
   ],
   "source": [
    "len(all_texts)"
   ]
  },
  {
   "cell_type": "code",
   "execution_count": 11,
   "metadata": {},
   "outputs": [
    {
     "data": {
      "text/plain": [
       "'<manusia>: Pameran perdagangan perubatan terbesar di dunia menawarkan peluang unik untuk menerokai inovasi terkini, mendengar penceramah yang memberi inspirasi dan menikmati rangkaian berkualiti tinggi.\\nLebih 4500 peserta pameran dan 120,000 pelawat dari 120 negara dijangka berkumpul di Messe Dusseldorf pada 16-19 November 2015 untuk acara medtech tahunan. MEDICA dibahagikan kepada tema yang berbeza; elektroperubatan/teknologi perubatan, teknologi maklumat dan komunikasi, fisioterapi/peralatan ortopedik, barang pakai buang/komoditi dan barangan pengguna, peralatan makmal/diagnostik dan kumpulan sasaran pelawat. Pelawat juga boleh menggunakan sistem Siapa Siapa yang baharu, di mana mereka boleh mencari mengikut kriteria dan mencari rakan kongsi hubungan dengan mudah.\\nMulai tahun ini dan seterusnya, MEDICA di Dusseldorf telah diadakan selari dengan COMPAMED, pameran perdagangan antarabangsa untuk pembekal industri teknologi perubatan. Di sini tumpuan diberikan kepada segala-galanya daripada bahan baharu, komponen, produk utama, pembungkusan dan perkhidmatan, seperti pengendalian alat ganti, sehinggalah untuk melengkapkan pembuatan tersuai. Gabungan pameran ini mewakili keseluruhan rantaian proses dan rangkaian penuh produk, peranti dan instrumen perubatan. Selain itu, Persidangan Pendidikan MEDICA menawarkan topik seperti pembedahan dan teknik operasi baharu, pengimejan, endoskopi dan intervensi, geriatrik, perubatan pemakanan dan penjagaan paliatif.\\nPersidangan selari lain ialah Persidangan Persatuan Hospital Jerman, Persidangan Hospital Eropah, Perubatan MEDICA + persidangan Sukan, persidangan Fisio MEDICA dan Persidangan Antarabangsa mengenai Perubatan Bencana dan Ketenteraan. Bolehkah anda memberikan lebih banyak maklumat tentang COMPAMED, pameran perdagangan untuk pembekal industri teknologi perubatan yang diadakan selari dengan MEDICA? Apakah fokus utama dan produk yang dipamerkan?\\n<bot>: COMPAMED ialah pameran perdagangan antarabangsa yang memfokuskan kepada pembekal industri teknologi perubatan. Tumpuan utama acara ini adalah untuk mempamerkan bahan baharu, komponen, produk utama, pembungkusan dan perkhidmatan seperti pengendalian alat ganti sehingga selesai untuk menyiapkan pembuatan tersuai. Produk yang dipamerkan pada acara ini termasuk komponen dan bahan perubatan, mikroteknologi, nanoteknologi, perkhidmatan pembuatan elektronik, peralatan pembuatan, bahan dan penyelesaian pembungkusan, dan banyak lagi. Acara ini melengkapkan pameran perdagangan MEDICA, yang memfokuskan pada peranti dan instrumen perubatan, dan bersama-sama mereka mewakili keseluruhan rantaian proses industri perubatan.\\n<manusia>: Can you tell me more about the MEDICA Education Conference? What specific topics were covered in the conference and who were the speakers?\\n<bot>: MEDICA Education Conference is an annual event that is held during the MEDICA trade fair. It aims to bring together medical professionals, researchers, scientists, and other experts to discuss the latest developments and trends in various medical fields. The conference covers a wide range of topics related to medicine such as surgery, imaging, endoscopy, interventions, geriatrics, nutritional medicine, palliative care, and more.\\n\\nThe speakers at the conference are experts in their respective fields and are selected through a rigorous review process. Some of the notable speakers at the 2015 conference included Prof. Dr. med. Matthias Gaida, who spoke on arthroscopic techniques in sports medicine, and Prof. Dr. med. Andreas Zumach, who discussed the latest advancements in the field of interventional radiology.\\n\\nOther speakers and topics covered in the conference included Prof. Dr. med. Joachim W. Thüroff\\'s presentation on laparoscopic procedures in urology, Dr. rer. nat. Markus O. Heller’s talk on MRI imaging techniques, and PD Dr. med. Uwe Zeymer’s discussion on the management of acute coronary syndrome.\\n\\nOverall, the MEDICA Education Conference provides a platform for medical professionals to exchange knowledge, share experiences, and learn about the latest advancements in the medical field.\\n<manusia>: Can you provide me with more information on the visitor target groups at MEDICA? What were the different categories and how were they defined?\\n<bot>: MEDICA is primarily intended for professionals in the medical industry, and the visitors are divided into different target groups. The main categories include:\\n\\n1. Medical practitioners: This group includes physicians, surgeons, dentists, and other medical professionals who are interested in the latest advancements and technologies in the medical field. They come to the fair to learn about new medical devices, tools, and techniques that can improve patient care.\\n\\n2. Hospital managers and administrators: This group includes hospital CEOs, medical directors, administrators, and other healthcare professionals who are responsible for managing hospitals and clinics. They are interested in solutions and technologies that can help reduce costs and improve patient outcomes.\\n\\n3. Researchers and scientists: This group includes researchers, scientists, and academics who work in the medical field. They come to the fair to learn about the latest research and developments in their respective fields.\\n\\n4. Distributors and dealers: This group includes distributors, dealers, and wholesalers who are interested in buying and selling medical equipment and devices. They are looking for new products and technologies that they can sell to medical facilities and healthcare providers.\\n\\n5. Medical students: This group includes medical students who are interested in learning about the latest technologies and advancements in the medical field. They come to the fair to network with professionals and explore potential career opportunities.\\n\\n6. Government officials and policymakers: This group includes government officials, policymakers, and regulators who are responsible for shaping healthcare policies and regulations. They come to the fair to learn about new technologies and solutions that can improve healthcare delivery in their respective countries.\\n\\nOverall, the visitor target groups at MEDICA are well-defined and cover a wide range of professionals and interests in the medical industry.\\n<manusia>: Can you provide me with more details about the new \"Who is Who\" system that visitors could use at MEDICA? How does it work and what are the benefits of using it?\\n<bot>: The \"Who is Who\" system is a networking tool that was introduced at MEDICA to help visitors easily find and connect with other attendees. It works by allowing visitors to search for potential contacts based on their criteria, such as their job title, field of interest, or company. Once they find the relevant contact information, they can send a message or set up a meeting with them directly through the platform.\\n\\nThe benefits of using the \"Who is Who\" system are many. For starters, it offers a more efficient way to network and connect with other attendees at the event. Visitors can quickly and easily find potential contacts who share their interests or work in the same field, and they can use the platform to set up one-on-one meetings or group discussions.\\n\\nIn addition to providing an easy-to-use networking tool, the \"Who is Who\" system also helps visitors get the most out of their time at the MEDICA trade fair. With so many exhibitors and attendees to choose from, it can be challenging to know where to focus one\\'s attention. The platform helps visitors identify and prioritize the most promising opportunities for their particular interests and needs, ensuring that they make the most of their time at the event.'"
      ]
     },
     "execution_count": 11,
     "metadata": {},
     "output_type": "execute_result"
    }
   ],
   "source": [
    "all_texts[-2]"
   ]
  },
  {
   "cell_type": "code",
   "execution_count": 12,
   "metadata": {},
   "outputs": [],
   "source": [
    "for t in all_texts:\n",
    "    splitted = t.split('<manusia>:')\n",
    "    if '<bot>:' not in splitted[-1]:\n",
    "        print(t)\n",
    "        break"
   ]
  },
  {
   "cell_type": "code",
   "execution_count": 13,
   "metadata": {},
   "outputs": [],
   "source": [
    "with open('part8-alternate-no-alignment_texts.jsonl', 'w') as fopen:\n",
    "    for t in all_texts:\n",
    "        fopen.write(f'{json.dumps(t)}\\n')"
   ]
  },
  {
   "cell_type": "code",
   "execution_count": null,
   "metadata": {},
   "outputs": [],
   "source": []
  }
 ],
 "metadata": {
  "kernelspec": {
   "display_name": "Python 3 (ipykernel)",
   "language": "python",
   "name": "python3"
  },
  "language_info": {
   "codemirror_mode": {
    "name": "ipython",
    "version": 3
   },
   "file_extension": ".py",
   "mimetype": "text/x-python",
   "name": "python",
   "nbconvert_exporter": "python",
   "pygments_lexer": "ipython3",
   "version": "3.8.10"
  }
 },
 "nbformat": 4,
 "nbformat_minor": 4
}
