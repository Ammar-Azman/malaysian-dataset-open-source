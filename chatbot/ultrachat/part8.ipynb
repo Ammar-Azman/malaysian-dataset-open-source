{
 "cells": [
  {
   "cell_type": "code",
   "execution_count": 1,
   "metadata": {},
   "outputs": [
    {
     "name": "stderr",
     "output_type": "stream",
     "text": [
      "150000it [00:02, 60936.59it/s]\n"
     ]
    }
   ],
   "source": [
    "import json\n",
    "from tqdm import tqdm\n",
    "\n",
    "data = []\n",
    "with open('train_8.jsonl') as fopen:\n",
    "    for l in tqdm(fopen):\n",
    "        data.append(json.loads(l))"
   ]
  },
  {
   "cell_type": "code",
   "execution_count": 2,
   "metadata": {},
   "outputs": [
    {
     "data": {
      "text/plain": [
       "899152"
      ]
     },
     "execution_count": 2,
     "metadata": {},
     "output_type": "execute_result"
    }
   ],
   "source": [
    "texts = []\n",
    "for d in data:\n",
    "    texts.extend(d['data'])\n",
    "    \n",
    "len(texts)"
   ]
  },
  {
   "cell_type": "code",
   "execution_count": 3,
   "metadata": {},
   "outputs": [],
   "source": [
    "with open('texts_8.jsonl', 'w') as fopen:\n",
    "    for t in texts:\n",
    "        fopen.write(f'{json.dumps(t)}\\n')"
   ]
  },
  {
   "cell_type": "code",
   "execution_count": 4,
   "metadata": {},
   "outputs": [],
   "source": [
    "!split -l 100000 -d --additional-suffix=.splitted texts_8.jsonl texts_8.jsonl"
   ]
  },
  {
   "cell_type": "code",
   "execution_count": 5,
   "metadata": {},
   "outputs": [
    {
     "name": "stdout",
     "output_type": "stream",
     "text": [
      "\"March 13th saw the launch of \\u201cI Will Save You,\\u201d poems and drawings by students from all over Martha\\u2019s Vineyard.\\nAll of the artwork and poems in the book were created by students from different schools around the island. The book was edited by Fan Ogilvie, educator and poet, and Richard Skidmore, Gay Head Lighthouse Keeper and poet. The book launched March 13, 2015 at Pathways in Chilmark with a poetry reading by the poets featured in the book.\\nBooks will be available for purchase at island bookstores for $20 and proceeds benefit the Save the Gay Head Lighthouse project. Special thanks to Pathways Projects Institutes, Marianne Goldberg, James Weiss, Susan Stevens, Bob Moore, Amy Reece, Christine Ferrone, Todd Derry, and all the students who shared their art to help save the Light! Can you provide a summary of the \\\"I Will Save You\\\" book launch, including who edited the book and where it was launched?\"\r\n",
      "\"\\\"I Will Save You\\\" is a book of poems and drawings created by students from various schools on Martha's Vineyard. The book, edited by Fan Ogilvie and Richard Skidmore, was launched on March 13th at Pathways in Chilmark with a poetry reading by the featured poets. Copies of the book can be purchased at island bookstores for $20, with all proceeds going toward the Save the Gay Head Lighthouse project. The launch was made possible thanks to the Pathways Projects Institutes and various individuals who contributed to the event.\"\r\n",
      "\"Can you provide more information on the Save the Gay Head Lighthouse project? How can I donate to the cause?\"\r\n",
      "\"The Save the Gay Head Lighthouse project aims to protect and preserve the historic Gay Head Lighthouse on Martha's Vineyard, which is threatened by coastal erosion. The project is managed by the Martha's Vineyard Museum, which has launched fundraising and awareness campaigns to support the restoration and relocation of the lighthouse. You can donate to the Save the Gay Head Lighthouse project on the Martha's Vineyard Museum's website, where you can also find more information about the project and its progress.\"\r\n",
      "\"SEOUL Brock McGinn Jersey , Feb. 25 (Xinhua) -- Free trade agreement (FTA) between China and South Korea would give both countries an opportunity to jointly create and develop advanced industries as demand for high- quality products would rise before the bilateral free trade pact is completely implemented.\\nChina and South Korea initialed the bilateral pact Wednesday, about three months after the two sides concluded negotiations on it. The two countries began talks on the deal in May 2012.\\nSouth Korea's trade ministry said it aimed to officially sign the deal with China within the first half of this year and implement it as rapidly as possible by getting approval from the parliament. The deal, now written only in English, will be translated into native languages of the two countries before it is officially signed.\\nThe ministry said the country would use the FTA with China as new growth engine as the pact would allow South Korea to make inroads into China. It said the Chinese economy expands more than 7 percent each year.\\n\\\"China is turning from the world's factory to the world's ( consumer) market. Chinese consumers want high value-added products based on state-of-the-art technologies Sebastian Aho Jersey , not products simply assembled with parts,\\\" Han Jae-Jin, senior research fellow at the Hyundai Research Institute, said in a telephone interview.\\n\\\"(South) Korea-China FTA should act as a chance for both countries to strengthen cooperation in developing high value-added industries to meet such demand. (South) Korea should come up with how to create and develop high value-added industries during the 20-year grace period Justin Williams Jersey ,\\\" said Han.\\nUnder the accord, South Korea will eliminate tariffs on 92 percent of all products from China within 20 years after the FTA implementation in return for China abolishing tariffs on 91 percent of all South Korean goods.\\nThe 20-year grace period came as Beijing and Seoul shared a view that it needs time before completely opening markets to minimize possible damages to the industries of both countries.\\nChina and South Korea have changed their trade focus from low value-added industries to advanced sectors, but both sides need more advancement in each industry structure. By jointly developing high value-added industries during the grace period, the FTA would become a win-win solution for the two nations Jordan Staal Jersey , the researcher said.\\nAccording to data from the Korea International Trade Association (KITA), trade product between China and South Korea has changed from low value-added to high value-added ones.\\nIn 1992, when the two countries forged diplomatic ties, steel plate was South Korea's largest export product to China with the former's annual export of steels to the latter amounting to 420 million U.S. dollars. It was followed by synthetic resins with 300 million dollars in exports.\\nIn 2013 Noah Hanifin Jersey , semiconductor was South Korea's largest export product in trade with China. South Korea exported chips worth 21.67 billion dollars to China, accounting for about 15 percent of the former's total shipments to the latter, the KITA data showed. It was trailed by flat screens and sensors worth 18.56 billion dollars of exports.\\nStatistics from the Export-Import Bank of Korea show that from 1992 to 2013, direct investment of South Korean companies in China 's electric Jeff Skinner T-Shirts , electronic and chip industries surged about 190 times from 17 million dollars to 3.1 billion dollars. During the same period, direct investment in China's auto and auto parts sectors jumped from 6.3 million dollars to 476.4 million dollars.\\nTechnology cooperation has increased. Joint research projects between the two countries rose from 39 in 2005 to 186 in 2011, according to the Hyundai Research Institute.\\nTrade between China and South Korea kept rising from 6.4 billion dollars in 1992 to 228.9 billion dollars in 2013. China has been South Korea's biggest trading partner since 2004.\\nNo one who is rational can ignore the possibility of the powers of the subconscious mind, hypnosis and subliminal hypnois is if it is real or fake?? The straight forward response is a unquestionable yes.. To gather and employ this power can be more difficult for some men and women compared to others dependant upon the issue at hand Justin Faulk T-Shirts , the individual participating, and a variety of subfactors related to these criteria. Subconscious mind power is seen in use with such behaviour alterations as weight loss using subliminals and hypnosis. There are however many types of attitude plus habits and even physical changes of which seem to be directly correlated with this subconscious mind power.\\nSome still bring up the query is Hypnosis, Subliminals, and the manipulation of the subconscious mind a legitimate practice or is it fake? Fights still take place frequently about this. Of course Jeff Skinner Hoodie , this certainy is due to the misconceptions of distinct facts of the principles of hypnosis that have gained almost a stranglehold on the imagination of many people. Too many people are of the mind that once an individual has been induced as a result of hypnosis into a trance like state, that individual can not be woken and will also be in this way for the rest of life. This yet again is really a delusion, because the state of hypnosis may be broken with the instructions from the hypnotherapist at any point of time throughout the treatment.\\nIn discussion about the power of the subconscious mind there has to be the realization that there is no such thing as good or bad or the concept of right or wrong. The subconscious mind deals with what it experiences through your conscious mind and what we internalize in both feelings and thinking. Can you summarize the benefits of a free trade agreement between China and South Korea, particularly in terms of creating and developing high value-added industries?\"\r\n",
      "\"The free trade agreement between China and South Korea provides an opportunity to jointly create and develop advanced industries. As demand for high-quality products increases, the pact will allow South Korea to make inroads into China's expanding market. The 20-year grace period included in the agreement gives both countries the chance to develop high value-added industries together. Trade product between China and South Korea has changed from low value-added to high value-added ones over time, and technology cooperation has increased. Ultimately, the FTA is a win-win solution for both nations.\"\r\n",
      "\"Can you provide more specific examples of high value-added industries that could be jointly created and developed by China and South Korea under the free trade agreement?\"\r\n",
      "\"There are several high value-added industries that could be jointly created and developed by China and South Korea under the free trade agreement. For instance, the FTA could encourage the development of industries in the semiconductor, display panel, and sensors sectors, where South Korea has a strong technological advantage. Moreover, China's growing middle class has a rising demand for high-quality products based on state-of-the-art technologies. The FTA could also create opportunities for collaboration in industries such as biotechnology, renewable energy, and advanced manufacturing. By working together, both countries could leverage their respective strengths to develop innovative products and gain a competitive advantage in global markets.\"\r\n",
      "\"Can you provide more information on the 20-year grace period included in the free trade agreement between China and South Korea?\"\r\n",
      "\"The 20-year grace period included in the free trade agreement between China and South Korea refers to the timeline for tariff elimination on certain goods traded between the two countries. According to the agreement, South Korea will eliminate tariffs on 92% of all products imported from China within 20 years after the FTA implementation, while China will abolish tariffs on 91% of all South Korean goods over the same period. The 20-year grace period was designed to give both countries time before completely opening their markets, allowing them to minimize any possible negative impacts on their respective industries. This gradual approach to tariff elimination will help create a more stable and predictable environment for trade between the two nations in the long run, while also encouraging the joint development of advanced industries during the grace period.\"\r\n"
     ]
    }
   ],
   "source": [
    "!head -n 10 texts_8.jsonl00.splitted"
   ]
  }
 ],
 "metadata": {
  "kernelspec": {
   "display_name": "Python 3 (ipykernel)",
   "language": "python",
   "name": "python3"
  },
  "language_info": {
   "codemirror_mode": {
    "name": "ipython",
    "version": 3
   },
   "file_extension": ".py",
   "mimetype": "text/x-python",
   "name": "python",
   "nbconvert_exporter": "python",
   "pygments_lexer": "ipython3",
   "version": "3.8.10"
  }
 },
 "nbformat": 4,
 "nbformat_minor": 4
}
