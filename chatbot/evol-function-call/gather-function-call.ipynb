{
 "cells": [
  {
   "cell_type": "code",
   "execution_count": 1,
   "id": "2eac2dee",
   "metadata": {},
   "outputs": [],
   "source": [
    "from glob import glob\n",
    "import json"
   ]
  },
  {
   "cell_type": "code",
   "execution_count": 2,
   "id": "ee3c7565",
   "metadata": {},
   "outputs": [
    {
     "data": {
      "text/plain": [
       "62401"
      ]
     },
     "execution_count": 2,
     "metadata": {},
     "output_type": "execute_result"
    }
   ],
   "source": [
    "files = sorted(glob('function-call/*.json'), key = lambda x: int(x.split('/')[-1].replace('.json', '')))\n",
    "len(files)"
   ]
  },
  {
   "cell_type": "code",
   "execution_count": 3,
   "id": "979e37eb",
   "metadata": {
    "scrolled": true
   },
   "outputs": [
    {
     "name": "stdout",
     "output_type": "stream",
     "text": [
      "e_loop invalid syntax (<string>, line 81) {'function_call': '{\\n \"name\": \"create_invoice\",\\n \"description\": \"Membuat invois untuk pelanggan\",\\n \"parameters\": {\\n \"type\": \"objek\",\\n\\n\"properties\": {\\n\\n\"customer_name\": {\\n\\n\"type\": \"string\",\\n\\n\"description\": \"Nama pelanggan\"\\n\\n},\\n\\n\"items\": {\\n\\n\"type\": \"array\",\\n\\n\"items\": {\\n\\n\"type\": \"objek\",\\n\\n\"properties\": {\\n\\n\"name\": {\\n\\n\"type\": \"string\",\\n\\n\"description\": \"Nama item\"\\n\\n},\\n\\n\"quantity\": {\\n\\n\"type\": \"integer\",\\n\\n\"description\": \"Kuantiti item\"\\n\\n},\\n\\n\"price\": {\\n\\n\"type\": \"number\",\\n\\n\"description\": \"Harga item\"\\n\\n}\\n\\n},\\n\\n\"required\": [\\n\\n\"name\",\\n\\n\"quantity\",\\n\\n\"price\"\\n\\n]\\n\\n}\\n\\n}\\n\\n},\\n\\n\"required\": [\\n\\n\"customer_name\",\\n\\n\"items\"\\n\\n]\\n\\n}\\n\\n}\\n\\n{\\n\\n\"name\": \"calculate_distance\",\\n\\n\"description\": \"Mengira jarak antara dua lokasi\",\\n\\n\"parameters\": {\\n\\n\"type\": \"objek\",\\n\\n\"properties\": {\\n\\n\"origin\": {\\n\\n\"type\": \"string\",\\n\\n\"description\": \"Lokasi permulaan\"\\n\\n},\\n\\n\"destination\": {\\n\\n\"type\": \"string\",\\n\\n\"description\": \"Lokasi destinasi\"\\n\\n}\\n\\n},\\n\\n\"required\": [\\n\\n\"origin\",\\n\\n\"destination\"\\n\\n]\\n\\n}\\n\\n}', 'conversations': [{'role': 'user', 'content': 'Saya perlu membuat invois untuk pelanggan bernama John Doe. Dia membeli 2 laptop seharga $1000 setiap satu dan 3 tetikus seharga $20 setiap satu.'}, {'role': 'assistant', 'content': '<functioncall> {\"name\": \"create_invoice\", \"arguments\": \\'{\\n \"customer_name\": \"John Doe\",\\n \"items\": [\\n {\"name\": \"laptop\", \"quantity\": 2, \"price\": 1000},\\n {\"name\": \"mouse\", \"quantity\": 3, \"price\": 20}\\n ]\\n}\\'}'}]}\n",
      "e_loop invalid syntax (<string>, line 69) {'function_call': '{\\n \"name\": \"create_reservation\",\\n \"description\": \"Membuat tempahan untuk penginapan\",\\n \"parameters\": {\\n \"type\": \"objek\",\\n\\n\"properties\": {\\n\\n\"guest_name\": {\\n\\n\"type\": \"string\",\\n\\n\"description\": \"Nama tetamu\"\\n\\n},\\n\\n\"check_in\": {\\n\\n\"type\": \"string\",\\n\\n\"description\": \"Tarikh daftar masuk\"\\n\\n},\\n\\n\"check_out\": {\\n\\n\"type\": \"string\",\\n\\n\"description\": \"Tarikh daftar keluar\"\\n\\n},\\n\\n\"room_type\": {\\n\\n\"type\": \"string\",\\n\\n\"description\": \"Jenis bilik\"\\n\\n},\\n\\n\"number_of_guests\": {\\n\\n\"type\": \"integer\",\\n\\n\"description\": \"Bilangan tetamu\"\\n\\n}\\n\\n},\\n\\n\"required\": [\\n\\n\"guest_name\",\\n\\n\"check_in\",\\n\\n\"check_out\",\\n\\n\"room_type\",\\n\\n\"number_of_guests\"\\n\\n]\\n\\n}\\n\\n}\\n\\n{\\n\\n\"name\": \"book_flight\",\\n\\n\"description\": \"Membuat tempahan untuk penerbangan\",\\n\\n\"parameters\": {\\n\\n\"type\": \"objek\",\\n\\n\"properties\": {\\n\\n\"departure\": {\\n\\n\"type\": \"string\",\\n\\n\"description\": \"Lokasi berlepas\"\\n\\n},\\n\\n\"destination\": {\\n\\n\"type\": \"string\",\\n\\n\"description\": \"Destinasi\"\\n\\n},\\n\\n\"departure_date\": {\\n\\n\"type\": \"string\",\\n\\n\"description\": \"Tarikh berlepas\"\\n\\n},\\n\\n\"return_date\": {\\n\\n\"type\": \"string\",\\n\\n\"description\": \"Tarikh pulang\"\\n\\n},\\n\\n\"passenger_count\": {\\n\\n\"type\": \"integer\",\\n\\n\"description\": \"Bilangan penumpang\"\\n\\n}\\n\\n},\\n\\n\"required\": [\\n\\n\"departure\",\\n\\n\"destination\",\\n\\n\"departure_date\",\\n\\n\"return_date\",\\n\\n\"passenger_count\"\\n\\n]\\n\\n}\\n\\n}\\n\\n', 'conversations': [{'role': 'user', 'content': 'Saya ingin membuat tempahan penginapan untuk 2 hari, untuk 2 orang dewasa dan 1 kanak-kanak di Bilik Deluxe.'}, {'role': 'assistant', 'content': '<functioncall> {\"name\": \"create_reservation\", \"arguments\": \\n{\\n\"guest_name\": \"John Doe\",\\n\"check_in\": \"2023-08-10\",\\n\"check_out\": \"2023-08-12\",\\n\"room_type\": \"Deluxe\",\\n\"number_of_guests\": 2\\n}\\n}'}]}\n",
      "e_loop invalid syntax (<string>, line 81) {'function_call': '{\\n \"name\": \"create_invoice\",\\n \"description\": \"Membuat invois untuk pelanggan\",\\n \"parameters\": {\\n \"type\": \"objek\",\\n\\n\"properties\": {\\n\\n\"customer_name\": {\\n\\n\"type\": \"string\",\\n\\n\"description\": \"Nama pelanggan\"\\n\\n},\\n\\n\"items\": {\\n\\n\"type\": \"array\",\\n\\n\"items\": {\\n\\n\"type\": \"objek\",\\n\\n\"properties\": {\\n\\n\"name\": {\\n\\n\"type\": \"string\",\\n\\n\"description\": \"Nama item\"\\n\\n},\\n\\n\"quantity\": {\\n\\n\"type\": \"integer\",\\n\\n\"description\": \"Kuantiti item\"\\n\\n},\\n\\n\"price\": {\\n\\n\"type\": \"number\",\\n\\n\"description\": \"Harga item\"\\n\\n}\\n\\n},\\n\\n\"required\": [\\n\\n\"name\",\\n\\n\"quantity\",\\n\\n\"price\"\\n\\n]\\n\\n}\\n\\n}\\n\\n},\\n\\n\"required\": [\\n\\n\"customer_name\",\\n\\n\"items\"\\n\\n]\\n\\n}\\n\\n}\\n\\n{\\n\\n\"name\": \"calculate_distance\",\\n\\n\"description\": \"Mengira jarak antara dua lokasi\",\\n\\n\"parameters\": {\\n\\n\"type\": \"objek\",\\n\\n\"properties\": {\\n\\n\"origin\": {\\n\\n\"type\": \"string\",\\n\\n\"description\": \"Lokasi permulaan\"\\n\\n},\\n\\n\"destination\": {\\n\\n\"type\": \"string\",\\n\\n\"description\": \"Lokasi destinasi\"\\n\\n}\\n\\n},\\n\\n\"required\": [\\n\\n\"origin\",\\n\\n\"destination\"\\n\\n]\\n\\n}\\n\\n}', 'conversations': [{'role': 'user', 'content': 'Saya perlu membuat invois untuk pelanggan bernama John Doe. Dia membeli 2 laptop seharga $1000 setiap satu dan 3 tetikus seharga $20 setiap satu.'}, {'role': 'assistant', 'content': '<functioncall> {\"name\": \"create_invoice\", \"arguments\": \\'{\\n \"customer_name\": \"John Doe\",\\n \"items\": [\\n {\"name\": \"laptop\", \"quantity\": 2, \"price\": 1000},\\n {\"name\": \"mouse\", \"quantity\": 3, \"price\": 20}\\n ]\\n}\\''}]}\n",
      "e_loop 'ellipsis' object is not iterable {'function_call': '...', 'conversations': [{'role': 'user', 'content': 'Bantu saya menyediakan e-mel yang mesra alam'}]}\n",
      "e_loop object of type 'NoneType' has no len() {'function_call': '{\\n \"name\": \"search_news\",\\n \"description\": \"Mencari artikel berita berdasarkan kata kunci\",\\n \"parameters\": {\\n \"type\": \"objek\",\\n \"properties\": {\\n \"keywords\": {\\n \"type\": \"array\",\\n \"items\": {\\n \"type\": \"string\"\\n },\\n \"description\": \"Kata kunci untuk mencari artikel berita\"\\n }\\n },\\n \"diperlukan\": [\\n \"keywords\"\\n ]\\n }\\n}', 'percakapan': [{'peranan': 'pengguna', 'kandungan': 'Saya ingin tahu tentang berita terkini mengenai perubahan iklim.'}, {'peranan': 'assistant', 'kandungan': '<functioncall> {\"name\": \"search_news\", \"arguments\": \\'{\"keywords\": [\"perubahan iklim\"]}\\'}'}, {'peranan': 'pengguna', 'kandungan': 'Itu menarik. Bolehkah anda mencari beberapa berita mengenai tenaga boleh baharu juga?'}, {'peranan': 'assistant', 'kandungan': '<functioncall> {\"name\": \"search_news\", \"arguments\": \\'{\"keywords\": [\"tenaga boleh baharu\"]}\\'}'}]}\n",
      "e_loop invalid syntax (<string>, line 49) {'function_call': '{\\n \"name\": \"convert_currency\",\\n \"description\": \"Tukar mata wang dari satu unit ke unit lain\",\\n \"parameters\": {\\n \"type\": \"objek\",\\n\\n \"properties\": {\\n\\n \"amount\": {\\n\\n \"type\": \"nombor\",\\n\\n \"description\": \"Jumlah mata wang untuk ditukar\"\\n\\n },\\n\\n \"from_currency\": {\\n\\n \"type\": \"string\",\\n\\n \"description\": \"Mata wang untuk ditukar dari\"\\n\\n },\\n\\n \"to_currency\": {\\n\\n \"type\": \"string\",\\n\\n \"description\": \"Mata wang untuk ditukar kepada\"\\n\\n }\\n\\n },\\n\\n \"required\": [\\n\\n \"amount\",\\n\\n \"from_currency\",\\n\\n \"to_currency\"\\n\\n ]\\n\\n }\\n\\n}\\n\\n{\\n \"name\": \"search_jobs\",\\n\\n \"description\": \"Mencari senarai pekerjaan berdasarkan kata kunci\",\\n\\n \"parameters\": {\\n\\n \"type\": \"objek\",\\n\\n \"properties\": {\\n\\n \"keywords\": {\\n\\n \"type\": \"array\",\\n\\n \"items\": {\\n\\n \"type\": \"string\"\\n\\n },\\n\\n \"description\": \"Kata kunci untuk dicari\"\\n\\n }\\n\\n },\\n\\n \"required\": [\\n\\n \"keywords\"\\n\\n ]\\n\\n }\\n\\n}', 'conversations': [{'role': 'user', 'content': 'Hi, saya perlu menukar 1000 USD kepada Euro. Bolehkah anda membantu saya dengan itu?'}, {'role': 'assistant', 'content': '<functioncall> {\"name\": \"convert_currency\", \"arguments\": \\'{\"amount\": 1000, \"from_currency\": \"USD\", \"to_currency\": \"EUR\"}\\'}'}]}\n",
      "e_loop invalid syntax (<string>, line 55) {'function_call': '{\\n \"name\": \"order_food\",\\n \"description\": \"Buat pesanan makanan dari restoran kegemaran anda\",\\n \"parameters\": {\\n \"type\": \"objek\",\\n\\n \"properties\": {\\n\\n \"food_items\": {\\n\\n \"type\": \"array\",\\n\\n \"items\": {\\n\\n \"type\": \"string\"\\n\\n },\\n\\n \"description\": \"Senarai makanan yang ingin dipesan\"\\n\\n },\\n\\n \"delivery_address\": {\\n\\n \"type\": \"string\",\\n\\n \"description\": \"Alamat penghantaran makanan\"\\n\\n },\\n\\n \"contact_number\": {\\n\\n \"type\": \"string\",\\n\\n \"description\": \"Nombor telefon untuk dihubungi\"\\n\\n }\\n\\n },\\n\\n \"required\": [\\n\\n \"food_items\",\\n\\n \"delivery_address\",\\n\\n \"contact_number\"\\n\\n ]\\n\\n }\\n\\n}\\n\\n{\\n \"name\": \"book_ticket\",\\n\\n \"description\": \"Tempah tiket untuk aktiviti rekreasi atau percutian\",\\n\\n \"parameters\": {\\n\\n \"type\": \"objek\",\\n\\n \"properties\": {\\n\\n \"activity_name\": {\\n\\n \"type\": \"string\",\\n\\n \"description\": \"Nama aktiviti yang ingin tempah tiket\"\\n\\n },\\n\\n \"date\": {\\n\\n \"type\": \"string\",\\n\\n \"description\": \"Tarikh untuk aktiviti\"\\n\\n },\\n\\n \"number_of_tickets\": {\\n\\n \"type\": \"nombor\",\\n\\n \"description\": \"Bilangan tiket yang ingin tempah\"\\n\\n }\\n\\n },\\n\\n \"required\": [\\n\\n \"activity_name\",\\n\\n \"date\",\\n\\n \"number_of_tickets\"\\n\\n ]\\n\\n }\\n\\n}', 'conversations': [{'role': 'user', 'content': 'Selamat petang, saya ingin membuat pesanan makanan untuk berbuka puasa. Boleh tolong saya? Terima kasih.'}, {'role': 'assistant', 'content': '<functioncall> {\"name\": \"order_food\", \"arguments\": \\'{\"food_items\": [\"Nasi Briyani\", \"Satay\", \"Ais Kacang\"], \"delivery_address\": \"123, Jalan Raja Muda\", \"contact_number\": \"012-3456789\"}\\'}'}]}\n",
      "e_loop invalid syntax (<string>, line 59) {'function_call': '{\\n \"name\": \"bina_rumah\",\\n \"description\": \"Rekabentuk dan bina rumah mengikut citarasa pelanggan\",\\n \"parameters\": {\\n \"type\": \"objek\",\\n\\n \"properties\": {\\n\\n \"jenis_rumah\": {\\n\\n \"type\": \"string\",\\n\\n \"description\": \"Jenis rumah yang diingini\"\\n\\n },\\n\\n \"saiz_rumah\": {\\n\\n \"type\": \"nombor\",\\n\\n \"description\": \"Saiz rumah yang dikehendaki\"\\n\\n },\\n\\n \"bil_bilik\": {\\n\\n \"type\": \"nombor\",\\n\\n \"description\": \"Bilangan bilik yang diingini\"\\n\\n },\\n\\n \"lokasi\": {\\n\\n \"type\": \"string\",\\n\\n \"description\": \"Lokasi pembinaan rumah\"\\n\\n }\\n\\n },\\n\\n \"required\": [\\n\\n \"jenis_rumah\",\\n\\n \"saiz_rumah\",\\n\\n \"bil_bilik\",\\n\\n \"lokasi\"\\n\\n ]\\n\\n }\\n\\n}\\n\\n{\\n \"name\": \"dapatkan_harga\",\\n\\n \"description\": \"Dapatkan harga untuk perkhidmatan tertentu\",\\n\\n \"parameters\": {\\n\\n \"type\": \"objek\",\\n\\n \"properties\": {\\n\\n \"perkhidmatan\": {\\n\\n \"type\": \"string\",\\n\\n \"description\": \"Jenis perkhidmatan yang diingini\"\\n\\n },\\n\\n \"lokasi\": {\\n\\n \"type\": \"string\",\\n\\n \"description\": \"Lokasi untuk perkhidmatan\"\\n\\n }\\n\\n },\\n\\n \"required\": [\\n\\n \"perkhidmatan\",\\n\\n \"lokasi\"\\n\\n ]\\n\\n }\\n\\n}', 'conversations': [{'role': 'user', 'content': 'Assalamualaikum, saya berminat untuk membina sebuah rumah baru. Berapa harga untuk rekabentuk dan pembinaan rumah sebegini?'}, {'role': 'assistant', 'content': '...'}]}\n",
      "e_loop invalid syntax (<string>, line 49) {'function_call': '{\\n \"name\": \"calculate_shipping_cost\",\\n \"description\": \"Kira kos penghantaran untuk pesanan tertentu\",\\n \"parameters\": {\\n \"type\": \"objek\",\\n\\n \"properties\": {\\n\\n \"item_weight\": {\\n\\n \"type\": \"nombor\",\\n\\n \"description\": \"Berat item dalam kilogram\"\\n\\n },\\n\\n \"destination\": {\\n\\n \"type\": \"string\",\\n\\n \"description\": \"Destinasi penghantaran\"\\n\\n },\\n\\n \"shipping_method\": {\\n\\n \"type\": \"string\",\\n\\n \"description\": \"Kaedah penghantaran (udara/darat/laut)\"\\n\\n }\\n\\n },\\n\\n \"required\": [\\n\\n \"item_weight\",\\n\\n \"destination\",\\n\\n \"shipping_method\"\\n\\n ]\\n\\n }\\n\\n}\\n\\n{\\n \"name\": \"book_hotel\",\\n\\n \"description\": \"Tempah penginapan di hotel berdasarkan kriteria tertentu\",\\n\\n \"parameters\": {\\n\\n \"type\": \"objek\",\\n\\n \"properties\": {\\n\\n \"check_in_date\": {\\n\\n \"type\": \"string\",\\n\\n \"format\": \"tarikh\",\\n\\n \"description\": \"Tarikh daftar masuk\"\\n\\n },\\n\\n \"check_out_date\": {\\n\\n \"type\": \"string\",\\n\\n \"format\": \"tarikh\",\\n\\n \"description\": \"Tarikh daftar keluar\"\\n\\n },\\n\\n \"location\": {\\n\\n \"type\": \"string\",\\n\\n \"description\": \"Lokasi hotel\"\\n\\n }\\n\\n },\\n\\n \"required\": [\\n\\n \"check_in_date\",\\n\\n \"check_out_date\",\\n\\n \"location\"\\n\\n ]\\n\\n }\\n\\n}', 'conversations': [{'role': 'user', 'content': 'Hai, saya ingin mengira kos penghantaran untuk sebuah bungkusan yang beratnya 5 kg ke Singapura melalui kaedah udara.'}, {'role': 'assistant', 'content': '<functioncall> {'}, {'role': 'user', 'content': 'Selamat petang, saya ingin menempah penginapan di hotel untuk tarikh 12 Disember hingga 15 Disember di Kuala Lumpur.'}, {'role': 'assistant', 'content': '<functioncall> {'}]}\n",
      "e_loop object of type 'NoneType' has no len() {'function_call': '{\\n \"name\": \"analyze_sentiment\",\\n \"description\": \"Menganalisis sentimen teks yang diberikan\",\\n \"parameters\": {\\n \"type\": \"objek\",\\n \"properties\": {\\n \"teks\": {\\n \"type\": \"string\",\\n \"description\": \"Teks untuk dianalisis\"\\n }\\n },\\n \"diperlukan\": [\\n \"teks\"\\n ]\\n }\\n}', 'percakapan': [{'peranan': 'pengguna', 'kandungan': 'Bolehkah anda menganalisis sentimen teks ini untuk saya? \"Saya berasa sangat gembira hari ini kerana saya mendapat kenaikan pangkat di tempat kerja.\"'}, {'peranan': 'asisten', 'kandungan': '<panggilanfungsi> {\"nama\": \"analyze_sentiment\", \"argumen\": \\'{\"teks\": \"Saya berasa sangat gembira hari ini kerana saya mendapat kenaikan pangkat di tempat kerja.\"}\\'}'}, {'peranan': 'pengguna', 'kandungan': 'Bagaimana pula dengan ini? \"Saya sangat kesal kerana saya kehilangan dompet saya.\"'}, {'peranan': 'asisten', 'kandungan': '<panggilanfungsi> {\"nama\": \"analyze_sentiment\", \"argumen\": \\'{\"teks\": \"Saya sangat kesal kerana saya kehilangan dompet saya.\"}\\'}'}, {'peranan': 'pengguna', 'kandungan': 'Dan ini? \"Saya tidak pasti bagaimana perasaan saya tentang tawaran kerja baru.\"'}, {'peranan': 'asisten', 'kandungan': '<panggilanfungsi> {\"nama\": \"analyze_sentiment\", \"argumen\": \\'{\"teks\": \"Saya tidak pasti bagaimana perasaan saya tentang tawaran kerja baru.\"}\\'}'}]}\n",
      "e_loop object of type 'NoneType' has no len() {'function_call': '{\\n    \"name\": \"calculate_area\",\\n    \"description\": \"Kira luas bagi bentuk yang diberikan\",\\n    \"parameters\": {\\n        \"type\": \"object\",\\n        \"properties\": {\\n            \"shape\": {\\n                \"type\": \"string\",\\n                \"description\": \"Bentuk untuk mengira luas\"\\n            },\\n            \"dimensions\": {\\n                \"type\": \"object\",\\n                \"properties\": {}\\n            }\\n        },\\n        \"required\": [\\n            \"shape\",\\n            \"dimensions\"\\n        ]\\n    }\\n}\\n\\n{\\n    \"name\": \"get_traffic_info\",\\n    \"description\": \"Dapatkan maklumat trafik masa nyata\",\\n    \"parameters\": {\\n        \"type\": \"object\",\\n        \"properties\": {\\n            \"location\": {\\n                \"type\": \"string\",\\n                \"description\": \"Lokasi untuk mendapatkan maklumat trafik\"\\n            }\\n        },\\n        \"required\": [\\n            \"location\"\\n        ]\\n    }\\n}'}\n",
      "e_loop object of type 'NoneType' has no len() {'function_call': '{\\n \"name\": \"create_calendar_event\",\\n \"description\": \"Mencipta acara kalendar baru\",\\n \"parameters\": {\\n \"type\": \"object\",\\n \"properties\": {\\n \"event_name\": {\\n \"type\": \"string\",\\n \"description\": \"Nama acara\"\\n },\\n \"date\": {\\n \"type\": \"string\",\\n \"description\": \"Tarikh acara\"\\n },\\n \"start_time\": {\\n \"type\": \"string\",\\n \"description\": \"Masa mula acara\"\\n },\\n \"end_time\": {\\n \"type\": \"string\",\\n \"description\": \"Masa tamat acara\"\\n }\\n },\\n \"required\": [\\n \"event_name\",\\n \"date\",\\n \"start_time\",\\n \"end_time\"\\n ]\\n }\\n}\\n\\n{\\n \"name\": \"analyze_image\",\\n \"description\": \"Menganalisis gambar dan mengekstrak maklumat\",\\n \"parameters\": {\\n \"type\": \"object\",\\n \"properties\": {\\n \"image_url\": {\\n \"type\": \"string\",\\n \"description\": \"URL gambar yang akan dianalisis\"\\n },\\n \"features\": {\\n \"type\": \"array\",\\n \"items\": {\\n \"type\": \"string\"\\n },\\n \"description\": \"Ciri-ciri yang ingin diekstrak dari gambar (contohnya objek, wajah, teks)\"\\n }\\n },\\n \"required\": [\\n \"image_url\",\\n \"features\"\\n ]\\n }\\n}'}\n",
      "e_loop object of type 'NoneType' has no len() {'function_call': '{\\n    \"name\": \"create_todo\",\\n    \"description\": \"Membuat item todo baru\",\\n    \"parameters\": {\\n        \"type\": \"object\",\\n        \"properties\": {\\n            \"task\": {\\n                \"type\": \"string\",\\n                \"description\": \"Deskripsi tugas\"\\n            },\\n            \"due_date\": {\\n                \"type\": \"string\",\\n                \"format\": \"date\",\\n                \"description\": \"Batas waktu tugas\"\\n            }\\n        },\\n        \"required\": [\\n            \"task\",\\n            \"due_date\"\\n        ]\\n    }\\n}\\n\\n{\\n    \"name\": \"get_definition\",\\n    \"description\": \"Mendapatkan definisi sebuah kata\",\\n    \"parameters\": {\\n        \"type\": \"object\",\\n        \"properties\": {\\n            \"word\": {\\n                \"type\": \"string\",\\n                \"description\": \"Kata yang akan didapatkan definisinya\"\\n            }\\n        },\\n        \"required\": [\\n            \"word\"\\n        ]\\n    }\\n}'}\n",
      "e_loop object of type 'NoneType' has no len() {'function_call': '{\\n \"name\": \"send_email\",\\n \"description\": \"Hantar emel\",\\n \"parameters\": {\\n \"type\": \"object\",\\n \"properties\": {\\n \"penerima\": {\\n \"type\": \"string\",\\n \"description\": \"Alamat emel penerima\"\\n },\\n \"subjek\": {\\n \"type\": \"string\",\\n \"description\": \"Subjek emel\"\\n },\\n \"kandungan\": {\\n \"type\": \"string\",\\n \"description\": \"Kandungan emel\"\\n }\\n },\\n \"required\": [\\n \"penerima\",\\n \"subjek\",\\n \"kandungan\"\\n ]\\n }\\n}\\n\\n{\\n \"name\": \"terjemah_teks\",\\n \"description\": \"Terjemah teks dari satu bahasa ke bahasa lain\",\\n \"parameters\": {\\n \"type\": \"object\",\\n \"properties\": {\\n \"teks\": {\\n \"type\": \"string\",\\n \"description\": \"Teks yang ingin diterjemah\"\\n },\\n \"bahasa_sumber\": {\\n \"type\": \"string\",\\n \"description\": \"Bahasa sumber teks\"\\n },\\n \"bahasa_sasaran\": {\\n \"type\": \"string\",\\n \"description\": \"Bahasa sasaran terjemahan\"\\n }\\n },\\n \"required\": [\\n \"teks\",\\n \"bahasa_sumber\",\\n \"bahasa_sasaran\"\\n ]\\n }\\n}'}\n",
      "e_loop object of type 'NoneType' has no len() {'function_call': '{\\n \"name\": \"get_time\",\\n \"description\": \"Dapatkan masa semasa\",\\n \"parameters\": {\\n \"type\": \"object\",\\n \"properties\": {},\\n \"required\": []\\n }\\n}\\n\\n{\\n \"name\": \"analyze_image\",\\n \"description\": \"Analisis kandungan imej\",\\n \"parameters\": {\\n \"type\": \"object\",\\n \"properties\": {\\n \"image_url\": {\\n \"type\": \"string\",\\n \"description\": \"URL imej untuk dianalisis\"\\n }\\n },\\n \"required\": [\\n \"image_url\"\\n ]\\n }\\n}'}\n",
      "e_loop object of type 'NoneType' has no len() {'function_call': '{\\n \"name\": \"get_definition\",\\n \"description\": \"Dapatkan definisi sesuatu perkataan\",\\n \"parameters\": {\\n \"type\": \"object\",\\n \"properties\": {\\n \"word\": {\\n \"type\": \"string\",\\n \"description\": \"Perkataan untuk mendapatkan definisi\"\\n }\\n }\\n }\\n}'}\n",
      "e_loop object of type 'NoneType' has no len() {'function_call': '{\\n \"name\": \"calculate_loan_payment\",\\n \"description\": \"Kira bayaran bulanan pinjaman\",\\n \"parameters\": {\\n \"type\": \"object\",\\n \"properties\": {\\n \"loan_amount\": {\\n \"type\": \"number\",\\n \"description\": \"Jumlah pinjaman\"\\n },\\n \"interest_rate\": {\\n \"type\": \"number\",\\n \"description\": \"Kadar faedah tahunan\"\\n },\\n \"loan_term\": {\\n \"type\": \"integer\",\\n \"description\": \"Tempoh pinjaman dalam bulan\"\\n }\\n },\\n \"required\": [\\n \"loan_amount\",\\n \"interest_rate\",\\n \"loan_term\"\\n ]\\n }\\n}\\n\\n{\\n \"name\": \"create_todo\",\\n \"description\": \"Cipta item todo baru\",\\n \"parameters\": {\\n \"type\": \"object\",\\n \"properties\": {\\n \"task\": {\\n \"type\": \"string\",\\n \"description\": \"Tugas yang perlu dilakukan\"\\n },\\n \"due_date\": {\\n \"type\": \"string\",\\n \"description\": \"Tarikh akhir tugas\"\\n },\\n \"priority\": {\\n \"type\": \"string\",\\n \"enum\": [\\n \"rendah\",\\n \"sederhana\",\\n \"tinggi\"\\n ],\\n \"description\": \"Tahap keutamaan tugas\"\\n }\\n },\\n \"required\": [\\n \"task\",\\n \"due_date\",\\n \"priority\"\\n ]\\n }\\n}'}\n",
      "e_loop object of type 'NoneType' has no len() {'function_call': '{\\n    \"name\": \"create_survey\",\\n    \"description\": \"Membuat survei dengan pertanyaan yang ditentukan\",\\n    \"parameters\": {\\n        \"type\": \"object\",\\n        \"properties\": {\\n            \"title\": {\\n                \"type\": \"string\",\\n                \"description\": \"Judul survei\"\\n            },\\n            \"questions\": {\\n                \"type\": \"array\",\\n                \"items\": {\\n                    \"type\": \"object\",\\n                    \"properties\": {\\n                        \"question\": {\\n                            \"type\": \"string\",\\n                            \"description\": \"Pertanyaan yang akan ditanyakan\"\\n                        },\\n                        \"options\": {\\n                            \"type\": \"array\",\\n                            \"items\": {\\n                                \"type\": \"string\"\\n                            },\\n                            \"description\": \"Opsi untuk pertanyaan\"\\n                        }\\n                    },\\n                    \"required\": [\\n                        \"question\",\\n                        \"options\"\\n                    ]\\n                }\\n            }\\n        },\\n        \"required\": [\\n            \"title\",\\n            \"questions\"\\n        ]\\n    }\\n}\\n\\n{\\n    \"name\": \"calculate_triangle_area\",\\n    \"description\": \"Menghitung luas segitiga\",\\n    \"parameters\": {\\n        \"type\": \"object\",\\n        \"properties\": {\\n            \"base\": {\\n                \"type\": \"number\",\\n                \"description\": \"Panjang alas segitiga\"\\n            },\\n            \"height\": {\\n                \"type\": \"number\",\\n                \"description\": \"Tinggi segitiga\"\\n            }\\n        },\\n        \"required\": [\\n            \"base\",\\n            \"height\"\\n        ]\\n    }\\n}'}\n",
      "e_loop object of type 'NoneType' has no len() {'function_call': '{\\n \"name\": \"calculate_age\",\\n \"description\": \"Kira umur berdasarkan tarikh lahir\",\\n \"parameters\": {\\n \"type\": \"object\",\\n \"properties\": {\\n \"birthdate\": {\\n \"type\": \"string\",\\n \"description\": \"Tarikh lahir individu (YYYY-MM-DD)\"\\n }\\n },\\n \"required\": [\\n \"birthdate\"\\n ]\\n }\\n}\\n\\n{\\n \"name\": \"calculate_bmi\",\\n \"description\": \"Kira Indeks Jisim Badan (BMI) berdasarkan berat dan tinggi\",\\n \"parameters\": {\\n \"type\": \"object\",\\n \"properties\": {\\n \"weight\": {\\n \"type\": \"number\",\\n \"description\": \"Berat individu dalam kilogram\"\\n },\\n \"height\": {\\n \"type\": \"number\",\\n \"description\": \"Tinggi individu dalam meter\"\\n }\\n },\\n \"required\": [\\n \"weight\",\\n \"height\"\\n ]\\n }\\n}'}\n",
      "e_loop object of type 'NoneType' has no len() {'function_call': '{\\n    \"name\": \"generate_random_number\",\\n    \"description\": \"Menghasilkan nombor rawak dalam julat yang ditentukan\",\\n    \"parameters\": {\\n        \"type\": \"object\",\\n        \"properties\": {\\n            \"min\": {\\n                \"type\": \"integer\",\\n                \"description\": \"Nilai minimum julat\"\\n            },\\n            \"max\": {\\n                \"type\": \"integer\",\\n                \"description\": \"Nilai maksimum julat\"\\n            }\\n        },\\n        \"required\": [\\n            \"min\",\\n            \"max\"\\n        ]\\n    }\\n}\\n\\n{\\n    \"name\": \"calculate_discount\",\\n    \"description\": \"Mengira harga dengan diskaun\",\\n    \"parameters\": {\\n        \"type\": \"object\",\\n        \"properties\": {\\n            \"original_price\": {\\n                \"type\": \"number\",\\n                \"description\": \"Harga asal barang\"\\n            },\\n            \"discount_percent\": {\\n                \"type\": \"number\",\\n                \"description\": \"Peratusan diskaun\"\\n            }\\n        },\\n        \"required\": [\\n            \"original_price\",\\n            \"discount_percent\"\\n        ]\\n    }\\n}'}\n",
      "e_loop object of type 'NoneType' has no len() {'function_call': '{\\n \"name\": \"calculate_discount\",\\n \"description\": \"Kira harga dengan diskaun\",\\n \"parameters\": {\\n \"type\": \"object\",\\n \"properties\": {\\n \"original_price\": {\\n \"type\": \"number\",\\n \"description\": \"Harga asal barangan\"\\n },\\n \"discount_percentage\": {\\n \"type\": \"number\",\\n \"description\": \"Peratusan diskaun\"\\n }\\n },\\n \"required\": [\\n \"original_price\",\\n \"discount_percentage\"\\n ]\\n }\\n}\\n\\n{\\n \"name\": \"create_todo\",\\n \"description\": \"Cipta item baru dalam senarai kerja\",\\n \"parameters\": {\\n \"type\": \"object\",\\n \"properties\": {\\n \"title\": {\\n \"type\": \"string\",\\n \"description\": \"Tajuk item dalam senarai kerja\"\\n },\\n \"due_date\": {\\n \"type\": \"string\",\\n \"format\": \"date\",\\n \"description\": \"Tarikh akhir item dalam senarai kerja\"\\n }\\n },\\n \"required\": [\\n \"title\",\\n \"due_date\"\\n ]\\n }\\n}'}\n",
      "e_loop object of type 'NoneType' has no len() {'function_call': '{\\n \"name\": \"analyze_image\",\\n \"description\": \"Menganalisis kandungan imej\",\\n \"parameters\": {\\n \"type\": \"object\",\\n \"properties\": {\\n \"image_url\": {\\n \"type\": \"string\",\\n \"format\": \"url\",\\n \"description\": \"URL imej\"\\n }\\n },\\n \"required\": [\\n \"image_url\"\\n ]\\n }\\n}\\n\\n{\\n \"name\": \"calculate_tip\",\\n \"description\": \"Mengira jumlah tip berdasarkan jumlah bil dan peratus tip\",\\n \"parameters\": {\\n \"type\": \"object\",\\n \"properties\": {\\n \"bill_total\": {\\n \"type\": \"number\",\\n \"description\": \"Jumlah keseluruhan bil\"\\n },\\n \"tip_percentage\": {\\n \"type\": \"number\",\\n \"description\": \"Peratus tip\"\\n }\\n },\\n \"required\": [\\n \"bill_total\",\\n \"tip_percentage\"\\n ]\\n }\\n}'}\n",
      "e_loop object of type 'NoneType' has no len() {'function_call': '{\\n \"name\": \"send_email\",\\n \"description\": \"Hantar emel\",\\n \"parameters\": {\\n \"type\": \"objek\",\\n \"properties\": {\\n \"penerima\": {\\n \"type\": \"string\",\\n \"description\": \"Alamat emel penerima\"\\n },\\n \"subjek\": {\\n \"type\": \"string\",\\n \"description\": \"Subjek emel\"\\n },\\n \"mesej\": {\\n \"type\": \"string\",\\n \"description\": \"Kandungan emel\"\\n }\\n },\\n \"required\": [\\n \"penerima\",\\n \"subjek\",\\n \"mesej\"\\n ]\\n }\\n}\\n\\n{\\n \"name\": \"mainkan_muzik\",\\n \"description\": \"Mainkan muzik\",\\n \"parameters\": {\\n \"type\": \"objek\",\\n \"properties\": {\\n \"lagu\": {\\n \"type\": \"string\",\\n \"description\": \"Nama lagu\"\\n },\\n \"artis\": {\\n \"type\": \"string\",\\n \"description\": \"Nama artis\"\\n }\\n },\\n \"required\": [\\n \"lagu\",\\n \"artis\"\\n ]\\n }\\n}'}\n"
     ]
    }
   ],
   "source": [
    "def check_function(s):\n",
    "    name = s.get('name', s.get('nama'))\n",
    "    if name is None:\n",
    "        return\n",
    "    if 'parameters' not in s:\n",
    "        return\n",
    "    if 'properties' not in s['parameters']:\n",
    "        return\n",
    "\n",
    "    properties = set(s['parameters']['properties'])\n",
    "\n",
    "    success = False\n",
    "    required = s['parameters'].get('required', s['parameters'].get('diperlukan'))\n",
    "    if required:\n",
    "        required = set(required)\n",
    "        if len(required & properties) == len(required):\n",
    "            success = True\n",
    "    else:\n",
    "        success = True\n",
    "    \n",
    "    if success:\n",
    "        return name, properties\n",
    "    \n",
    "def check_functions(function_calls):\n",
    "    functions = {}\n",
    "\n",
    "    if isinstance(function_calls, dict):\n",
    "        o = check_function(data['e']['function_call'])\n",
    "        if o is not None:\n",
    "            functions[o[0]] = o[1]\n",
    "\n",
    "    elif isinstance(function_calls, str):\n",
    "\n",
    "        try:\n",
    "            for s in function_calls.split('\\n\\n'):\n",
    "                try:\n",
    "                    s = eval(s)\n",
    "                except:\n",
    "                    continue\n",
    "\n",
    "                o = check_function(s)\n",
    "                if o is not None:\n",
    "                    functions[o[0]] = o[1]\n",
    "        except:\n",
    "            s = eval(function_calls)\n",
    "            if isinstance(s, dict):\n",
    "                s = [s]\n",
    "            for s_ in s:\n",
    "                o = check_function(s_)\n",
    "                if o is not None:\n",
    "                    functions[o[0]] = o[1]\n",
    "                \n",
    "    return functions\n",
    "    \n",
    "rejected = []\n",
    "with open('function-calls.jsonl', 'w') as fopen_l:\n",
    "    for f in files:\n",
    "        try:\n",
    "            with open(f) as fopen:\n",
    "                data = json.load(fopen)\n",
    "\n",
    "            rs = [data['e']]\n",
    "            rs.extend(data['rs'])\n",
    "\n",
    "            for r in rs:\n",
    "\n",
    "                try:\n",
    "                    function_calls = r['function_call']\n",
    "                    functions = check_functions(function_calls)\n",
    "\n",
    "                    if not len(functions):\n",
    "                        continue\n",
    "                    \n",
    "                    conversations = r.get('conversations', r.get('perbualan'))\n",
    "                    if len(conversations) % 2 != 0:\n",
    "                        conversations = conversations[:-1]\n",
    "\n",
    "                    pairs = []\n",
    "                    for i in range(0, len(conversations), 2):\n",
    "                        try:\n",
    "                            splitted = conversations[i + 1].get('content', conversations[i + 1].get('kandungan'))\n",
    "                            if splitted is None:\n",
    "                                continue\n",
    "                            if '> ' in splitted:\n",
    "                                splitted = splitted.split('> ')\n",
    "                                splitted = splitted[1]\n",
    "                            \n",
    "                            splitted = splitted.replace('true', 'True').replace('false', 'False')\n",
    "                            \n",
    "                            failed = True\n",
    "                            try:\n",
    "                                splitted = eval(splitted)\n",
    "                                failed = False\n",
    "                            except:\n",
    "                                pass\n",
    "                            \n",
    "                            if failed:\n",
    "                                try:\n",
    "                                    splitted = eval(splitted + '}')\n",
    "                                    failed = False\n",
    "                                except:\n",
    "                                    pass\n",
    "                            \n",
    "                            if failed:\n",
    "                                try:\n",
    "                                    splitted = eval(splitted.replace(\"'{\", '{') + '}')\n",
    "                                except:\n",
    "                                    continue\n",
    "                                    \n",
    "                            # print('spllitted', splitted, splitted['name'])\n",
    "                            \n",
    "                            name = splitted.get('name', splitted.get('nama'))\n",
    "                            arguments = splitted.get('arguments', splitted.get('argument', splitted.get('argumen')))\n",
    "                            if arguments is None:\n",
    "                                arguments = splitted.get('hujah', splitted.get('hujahan'))\n",
    "                            if arguments is None:\n",
    "                                arguments = splitted.get('arahan', splitted.get('parameter'))\n",
    "                            \n",
    "                            if name not in functions:\n",
    "                                continue\n",
    "                                \n",
    "                            if isinstance(arguments, str):\n",
    "                                arguments = eval(arguments)\n",
    "                                \n",
    "                            arguments_keys = set(arguments.keys())\n",
    "                            if len(functions[name] & arguments_keys) == len(arguments_keys):\n",
    "                                splitted['arguments'] = arguments\n",
    "                                c = [\n",
    "                                    {\n",
    "                                        'role': 'user',\n",
    "                                        'content': conversations[i]['content'],\n",
    "                                    },\n",
    "                                    {\n",
    "                                        'role': 'assistant',\n",
    "                                        'content': f'<functioncall> {str(splitted)}'\n",
    "                                    }\n",
    "                                    ]\n",
    "                                pairs.extend(c)\n",
    "\n",
    "                        except Exception as e_splitted:\n",
    "                            # print('e_splitted', e_splitted, conversations[i + 1], splitted)\n",
    "                            pass\n",
    "\n",
    "                    if function_calls and len(pairs):\n",
    "                        d = {\n",
    "                            'function_call': function_calls,\n",
    "                            'conversations': pairs,\n",
    "                        }\n",
    "                        fopen_l.write(f'{json.dumps(d)}\\n')\n",
    "                        fopen_l.flush()\n",
    "                except Exception as e_loop:\n",
    "                    print('e_loop', e_loop, r)\n",
    "                    rejected.append((e_loop, r))\n",
    "\n",
    "        except Exception as e:\n",
    "            print(e, data)"
   ]
  },
  {
   "cell_type": "code",
   "execution_count": 4,
   "id": "6c8bf027",
   "metadata": {},
   "outputs": [
    {
     "name": "stdout",
     "output_type": "stream",
     "text": [
      "179450 function-calls.jsonl\r\n"
     ]
    }
   ],
   "source": [
    "!wc -l function-calls.jsonl"
   ]
  },
  {
   "cell_type": "code",
   "execution_count": 5,
   "id": "9d613278",
   "metadata": {},
   "outputs": [],
   "source": [
    "ls = []\n",
    "with open('function-calls.jsonl') as fopen:\n",
    "    for l in fopen:\n",
    "        ls.append(json.loads(l))\n",
    "        if len(ls) > 10:\n",
    "            break"
   ]
  },
  {
   "cell_type": "code",
   "execution_count": null,
   "id": "79a6eb79",
   "metadata": {},
   "outputs": [
    {
     "name": "stderr",
     "output_type": "stream",
     "text": [
      "/home/husein/.local/lib/python3.8/site-packages/requests/__init__.py:102: RequestsDependencyWarning: urllib3 (1.26.15) or chardet (5.2.0)/charset_normalizer (2.0.7) doesn't match a supported version!\n",
      "  warnings.warn(\"urllib3 ({}) or chardet ({})/charset_normalizer ({}) doesn't match a supported \"\n"
     ]
    },
    {
     "data": {
      "application/vnd.jupyter.widget-view+json": {
       "model_id": "eb8772f02b424dc4a5652b199200ac4c",
       "version_major": 2,
       "version_minor": 0
      },
      "text/plain": [
       "function-calls.jsonl:   0%|          | 0.00/200M [00:00<?, ?B/s]"
      ]
     },
     "metadata": {},
     "output_type": "display_data"
    }
   ],
   "source": [
    "from huggingface_hub import HfApi\n",
    "api = HfApi()\n",
    "api.upload_file(\n",
    "    path_or_fileobj='function-calls.jsonl',\n",
    "    path_in_repo='function-calls.jsonl',\n",
    "    repo_id='mesolitica/chatgpt-malay-function-call',\n",
    "    repo_type='dataset',\n",
    ")"
   ]
  },
  {
   "cell_type": "code",
   "execution_count": null,
   "id": "eea74967",
   "metadata": {},
   "outputs": [],
   "source": []
  }
 ],
 "metadata": {
  "kernelspec": {
   "display_name": "Python 3 (ipykernel)",
   "language": "python",
   "name": "python3"
  },
  "language_info": {
   "codemirror_mode": {
    "name": "ipython",
    "version": 3
   },
   "file_extension": ".py",
   "mimetype": "text/x-python",
   "name": "python",
   "nbconvert_exporter": "python",
   "pygments_lexer": "ipython3",
   "version": "3.8.10"
  }
 },
 "nbformat": 4,
 "nbformat_minor": 5
}
