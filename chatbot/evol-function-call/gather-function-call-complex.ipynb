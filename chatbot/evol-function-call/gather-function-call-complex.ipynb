{
 "cells": [
  {
   "cell_type": "code",
   "execution_count": 1,
   "id": "2eac2dee",
   "metadata": {},
   "outputs": [],
   "source": [
    "from glob import glob\n",
    "import json"
   ]
  },
  {
   "cell_type": "code",
   "execution_count": 2,
   "id": "ee3c7565",
   "metadata": {},
   "outputs": [
    {
     "data": {
      "text/plain": [
       "49069"
      ]
     },
     "execution_count": 2,
     "metadata": {},
     "output_type": "execute_result"
    }
   ],
   "source": [
    "files = sorted(glob('function-call-complex*/*.json'), key = lambda x: int(x.split('/')[-1].replace('.json', '')))\n",
    "len(files)"
   ]
  },
  {
   "cell_type": "code",
   "execution_count": 3,
   "id": "979e37eb",
   "metadata": {
    "scrolled": true
   },
   "outputs": [
    {
     "name": "stdout",
     "output_type": "stream",
     "text": [
      "e_loop 'str' object has no attribute 'get' {'function_call': '\"HantarPesan\"', 'conversations': [{'role': 'user', 'content': 'Hantar pesanan untuk dua piza vegetarian dan sebotol air mineral'}, {'role': 'assistant', 'content': \"<functioncall> {'name': 'HantarPesan', 'arguments': {'pesanan': [{'jenis': 'vegetarian', 'jumlah': 2}, {'jenis': 'air mineral', 'jumlah': 1}]}}\"}]}\n",
      "e_loop 'str' object has no attribute 'get' {'function_call': '\"Achchi Nulu Bowe Kow\"', 'conversations': [{'role': 'user', 'content': 'Apa sudah jadi kat Seri Kembangan? Kenapa jalan sesak sangat?'}, {'role': 'assistant', 'content': '<functioncall> {\"name\": \"Achchi Nulu Bowe Kow\", \"arguments\": {\"triplets\": [{\"subject\": \"Seri Kembangan\", \"predicate\": \"tersumbat\", \"object\": \"jalan\"}, {\"subject\": \"jalan\", \"predicate\": \"sebabkan\", \"object\": \"sesak\"}]}}'}]}\n",
      "e_loop 'str' object has no attribute 'get' {'function_call': '\"{name: \\\\\"KunciGanda\\\\\", description: \\\\\"gabung semua inti \\'KunciGanda\\' dengan segala parameter yang diperlukan dalam jenis yang betul\\\\\", parameters: {$defs: {Pasangan: {properties: {subjek: {type: string}, predikat: {type: string}, objek: {type: string}}, required: [subjek, predikat, objek], type: object}}, properties: {pasangan: {items: {$ref: \\\\\"#/$defs/Pasangan\\\\\"}, type: array}}, required: [pasangan], type: object}}\"', 'conversations': [{'role': 'user', 'content': 'Gantung teka-teki di hujung ruang legar, berikrar menyingkap rahsia kuil tersembunyi'}, {'role': 'assistant', 'content': \"<functioncall> {'name': 'KunciGanda', 'arguments': {'pasangan': [{'subjek': 'Gantung teka-teki', 'predikat': 'di', 'objek': 'hujung ruang legar'}, {'subjek': 'Gantung teka-teki', 'predikat': 'berikrar', 'objek': 'menyingkap rahsia kuil tersembunyi'}]}}\"}]}\n",
      "e_loop 'str' object has no attribute 'get' {'function_call': '\"SenaraiBuku\"', 'conversations': [{'role': 'user', 'content': 'Berikan senarai buku terkini mengenai pengurusan stres di tempat kerja.'}, {'role': 'assistant', 'content': \"<functioncall> {'name': 'SenaraiBuku', 'arguments': {'tajuk': 'Pengurusan Stres Di Tempat Kerja', 'kriteria': ['terkini', 'pengurusan', 'stres', 'tempat kerja']}}\"}]}\n",
      "e_loop 'str' object has no attribute 'get' {'function_call': '\"KGT\"', 'conversations': [{'role': 'user', 'content': 'Aku berasa lapar, mahu makan ayam goreng'}, {'role': 'assistant', 'content': '<functioncall> {\"name\": \"KGT\", \"arguments\": {\"triplets\": [{\"subject\": \"Aku\", \"predicate\": \"mahu\", \"object\": \"makan ayam goreng\"}]}}'}]}\n",
      "e_loop 'str' object has no attribute 'get' {'function_call': '\"Tidak tetak pasifik\"', 'conversations': [{'role': 'user', 'content': 'Dua ekor kucing jalanan menjadi sahabat rapat di kedai mamak'}, {'role': 'assistant', 'content': \"<functioncall> {'name': 'Tidak tetak pasifik', 'arguments': {'peristiwa': [{'subjek': 'Dua ekor kucing jalanan', 'predikat': 'menjadi', 'objek': 'sahabat rapat'}, {'subjek': 'kucing jalanan', 'predikat': 'di', 'objek': 'kedai mamak'}]}}\"}]}\n",
      "e_loop 'str' object has no attribute 'get' {'function_call': '\"{\\\\\"name\\\\\": \\\\\"Mengekstrak\\\\\", \\\\\"description\\\\\": \\\\\"Dapatkan hasil \\'Mengekstrak\\' dengan semua parameter yang diperlukan dengan jenis yang betul\\\\\", \\\\\"parameters\\\\\": {\\\\\"$defs\\\\\": {\\\\\"Triplet\\\\\": {\\\\\"properties\\\\\": {\\\\\"subjek\\\\\": {\\\\\"type\\\\\": \\\\\"string\\\\\"}, \\\\\"predikat\\\\\": {\\\\\"type\\\\\": \\\\\"string\\\\\"}, \\\\\"objek\\\\\": {\\\\\"type\\\\\": \\\\\"string\\\\\"}}, \\\\\"required\\\\\": [\\\\\"subjek\\\\\", \\\\\"predikat\\\\\", \\\\\"objek\\\\\"], \\\\\"type\\\\\": \\\\\"object\\\\\"}}, \\\\\"properties\\\\\": {\\\\\"triplets\\\\\": {\\\\\"items\\\\\": {\\\\\"$ref\\\\\": \\\\\"#/$defs/Triplet\\\\\"}, \\\\\"type\\\\\": \\\\\"array\\\\\"}}, \\\\\"required\\\\\": [\\\\\"triplets\\\\\"], \\\\\"type\\\\\": \\\\\"object\\\\\"}}\"', 'conversations': [{'role': 'user', 'content': 'Sarapan pagi saya hari ini: nasi lemak dengan sambal pedas, telur mata kerbau dan kopi o'}]}\n",
      "e_loop 'str' object has no attribute 'get' {'function_call': '\"{\\\\\"name\\\\\": \\\\\"Misi\\\\\", \\\\\"description\\\\\": \\\\\"takrifkan fungsi `Misi` dengan semua parameter yang diperlukan dengan jenis yang betul\\\\\", \\\\\"parameters\\\\\": {\\\\\"$defs\\\\\": {\\\\\"TigaPati\\\\\": {\\\\\"properties\\\\\": {\\\\\"subyek\\\\\": {\\\\\"type\\\\\": \\\\\"string\\\\\"}, \\\\\"predikat\\\\\": {\\\\\"type\\\\\": \\\\\"string\\\\\"}, \\\\\"objek\\\\\": {\\\\\"type\\\\\": \\\\\"string\\\\\"}}, \\\\\"required\\\\\": [\\\\\"subyek\\\\\", \\\\\"predikat\\\\\", \\\\\"objek\\\\\"], \\\\\"type\\\\\": \\\\\"object\\\\\"}}, \\\\\"properties\\\\\": {\\\\\"tigapati\\\\\": {\\\\\"items\\\\\": {\\\\\"$ref\\\\\": \\\\\"#/$defs/TigaPati\\\\\"}, \\\\\"type\\\\\": \\\\\"array\\\\\"}}, \\\\\"required\\\\\": [\\\\\"tigapati\\\\\"], \\\\\"type\\\\\": \\\\\"object\\\\\"}}\"', 'conversations': [{'role': 'user', 'content': 'Berjaya mendapatkan kontrak pembinaan pusat beli-belah terbesar di Kuala Lumpur, proyek ini melibatkan projek pembangunan setinggi 50 tingkat'}, {'role': 'assistant', 'content': \"<functioncall> {\\\\'name\\\\': \\\\'Misi\\\\', \\\\'arguments\\\\': {\\\\'tigapati\\\\': [{\\\\'subyek\\\\': \\\\'Berjaya\\\\', \\\\'predikat\\\\': \\\\'mendapatkan\\\\', \\\\'objek\\\\': \\\\'kontrak pembinaan\\\\'}, {\\\\'subyek\\\\': \\\\'kontrak pembinaan\\\\', \\\\'predikat\\\\': \\\\'terbesar di\\\\', \\\\'objek\\\\': \\\\'Kuala Lumpur\\\\'}, {\\\\'subyek\\\\': \\\\'proyek ini\\\\', \\\\'predikat\\\\': \\\\'melibatkan\\\\', \\\\'objek\\\\': \\\\'projek pembangunan\\\\'}, {\\\\'subyek\\\\': \\\\'projek pembangunan\\\\', \\\\'predikat\\\\': \\\\'setinggi\\\\', \\\\'objek\\\\': \\\\'50 tingkat\\\\'}]}}\"}, {'role': 'user', 'content': 'Tidak dapat melaksanakan tugas pemasangan paip kritikal pada masa yang ditetapkan, telah mengecewakan pelanggan terbesar di negara ini'}, {'role': 'assistant', 'content': \"<functioncall> {\\\\'name\\\\': \\\\'Misi\\\\', \\\\'arguments\\\\': {\\\\'tigapati\\\\': [{\\\\'subyek\\\\': \\\\'Tidak dapat\\\\', \\\\'predikat\\\\': \\\\'melaksanakan\\\\', \\\\'objek\\\\': \\\\'tugas pemasangan\\\\'}, {\\\\'subyek\\\\': \\\\'tugas pemasangan\\\\', \\\\'predikat\\\\': \\\\'pada masa\\\\', \\\\'objek\\\\': \\\\'yang ditetapkan\\\\'}, {\\\\'subyek\\\\': \\\\'yang\\\\', \\\\'predikat\\\\': \\\\'telah\\\\', \\\\'objek\\\\': \\\\'mengecewakan\\\\'}, {\\\\'subyek\\\\': \\\\'mengecewakan\\\\', \\\\'predikat\\\\': \\\\'pelanggan terbesar di\\\\', \\\\'objek\\\\': \\\\'negara ini\\\\'}]}}\"}]}\n",
      "e_loop 'str' object has no attribute 'get' {'function_call': '\"KG yang dikenali sebagai pengekstrak kumpulan, yang mengambil kumpulan objek dan pengubah (dalam bentuk string) dan menghasilkan kumpulan hasil yang berkaitan dengannya. Semua parameter yang diperlukan mesti disertakan dengan jenis yang betul.\"', 'conversations': [{'role': 'user', 'content': 'Beli perabot dari tempat pembuatan terkenal di Jepun, selesa dan tahan lama.'}, {'role': 'assistant', 'content': \"<functioncall> {'name': 'KG', 'arguments': {'triplets': [{'subject': 'Beli', 'predicate': 'dari', 'object': 'tempat pembuatan terkenal di Jepun'}, {'subject': 'Beli', 'predicate': 'adalah', 'object': 'selesa'}, {'subject': 'Beli', 'predicate': 'adalah', 'object': 'tahan lama'}]}}\"}]}\n",
      "e_loop 'str' object has no attribute 'get' {'function_call': '\"{name: \\'RM\\', description: \\'mengira harga barang dengan harga dan kuantiti yang betul\\', parameters: {type: \\'object\\', properties: {item: {type: \\'string\\'}, price: {type: \\'number\\'}, quantity: {type: \\'number\\'}}, required: [\\'item\\', \\'price\\', \\'quantity\\']}}\"', 'conversations': [{'role': 'user', 'content': 'Berapa harganya untuk 3 keping nasi lemak dengan harga RM2.50 setiap keping?'}, {'role': 'assistant', 'content': \"<functioncall> {'name': 'RM', 'arguments': {'item': 'nasi lemak', 'price': 2.50, 'quantity': 3}}\"}]}\n",
      "e_loop 'str' object has no attribute 'get' {'function_call': '\"{\\\\\"name\\\\\": \\\\\"Muzik\\\\\", \\\\\"description\\\\\": \\\\\"hasilkan \\'Muzik\\' dengan semua argumen yang diperlukan dalam format yang betul\\\\\", \\\\\"parameters\\\\\": {\\\\\"$defs\\\\\": {\\\\\"Song\\\\\": {\\\\\"properties\\\\\": {\\\\\"title\\\\\": {\\\\\"type\\\\\": \\\\\"string\\\\\"}, \\\\\"artist\\\\\": {\\\\\"type\\\\\": \\\\\"string\\\\\"}, \\\\\"genre\\\\\": {\\\\\"type\\\\\": \\\\\"string\\\\\"}}, \\\\\"required\\\\\": [\\\\\"title\\\\\", \\\\\"artist\\\\\"], \\\\\"type\\\\\": \\\\\"object\\\\\"}}, \\\\\"properties\\\\\": {\\\\\"songs\\\\\": {\\\\\"items\\\\\": {\\\\\"$ref\\\\\": \\\\\"#/$defs/Song\\\\\"}, \\\\\"type\\\\\": \\\\\"array\\\\\"}}, \\\\\"required\\\\\": [\\\\\"songs\\\\\"], \\\\\"type\\\\\": \\\\\"object\\\\\"}}\"', 'conversations': [{'role': 'user', 'content': \"Lagu-lagu yang popular adalah 'Senja', 'Biarlah Rahsia' dan 'Dari Jauh Ku Pohon Maaf'\"}, {'role': 'assistant', 'content': \"<functioncall> {'name': 'Muzik', 'arguments': {'songs': [{'title': 'Senja', 'artist': 'Hujan', 'genre': 'Rock'}, {'title': 'Biarlah Rahsia', 'artist': 'Atilia', 'genre': 'Pop'}, {'title': 'Dari Jauh Ku Pohon Maaf', 'artist': 'M.Nasir', 'genre': 'Folk'}]}}\"}]}\n",
      "e_loop 'str' object has no attribute 'get' {'function_call': '\"KerjakanMasalahDenganBijak\"', 'conversations': [{'role': 'user', 'content': 'Kira-kira berapa banyak pusingan jam untuk menyelesaikan masalah ini?'}, {'role': 'assistant', 'content': \"<functioncall> {'name': 'KerjakanMasalahDenganBijak', 'arguments': {'masalah': {'jenis': 'matematik', 'kadar_kejayaan': 'tinggi', 'pusingan_jam': '6'}}}\"}]}\n",
      "e_loop 'str' object has no attribute 'get' {'function_call': '\"{\\'name\\': \\'KG\\', \\'description\\': \\'ekstrak dengan betul `KG` dengan semua parameter yang diperlukan dengan jenis yang betul\\', \\'parameters\\': {\\'$defs\\': {\\'Triplet\\': {\\'properties\\': {\\'subject\\': {\\'type\\': \\'string\\'}, \\'predicate\\': {\\'type\\': \\'string\\'}, \\'object\\': {\\'type\\': \\'string\\'}}, \\'required\\': [\\'subject\\', \\'predicate\\', \\'object\\'], \\'type\\': \\'object\\'}}, \\'properties\\': {\\'triplets\\': {\\'items\\': {\\'$ref\\': \\'#/$defs/Triplet\\'}, \\'type\\': \\'array\\'}}, \\'required\\': [\\'triplets\\'], \\'type\\': \\'object\\'}}\"', 'conversations': [{'role': 'user', 'content': 'Jaring alam semesta dengan baik, matlamat dicapai dalam seluruh rencana pembangunan digital negara'}, {'role': 'assistant', 'content': \"<functioncall> {'name': 'KG', 'arguments': {'triplets': [{'subject': 'Jaring alam semesta', 'predicate': 'mencapai', 'object': 'matlamat'}, {'subject': 'matlamat', 'predicate': 'dalam', 'object': 'seluruh rencana pembangunan digital negara'}, {'subject': 'Jaring alam semesta', 'predicate': 'adalah', 'object': 'rencana pembangunan digital negara'}]}}\"}]}\n",
      "e_loop 'str' object has no attribute 'get' {'function_call': '\"{\\\\\"name\\\\\": \\\\\"BESAR\\\\\", \\\\\"description\\\\\": \\\\\"menghasilkan perbandingan yang teliti menggunakan fungsi `BESAR` dengan semua parameter yang diperlukan dan jenis yang betul\\\\\", \\\\\"parameters\\\\\": {\\\\\"$defs\\\\\": {\\\\\"DuaPilihan\\\\\": {\\\\\"properties\\\\\": {\\\\\"pilihanA\\\\\": {\\\\\"type\\\\\": \\\\\"string\\\\\"}, \\\\\"pilihanB\\\\\": {\\\\\"type\\\\\": \\\\\"string\\\\\"}}, \\\\\"required\\\\\": [\\\\\"pilihanA\\\\\", \\\\\"pilihanB\\\\\"], \\\\\"type\\\\\": \\\\\"object\\\\\"}}, \\\\\"properties\\\\\": {\\\\\"pilihan\\\\\": {\\\\\"$ref\\\\\": \\\\\"#/$defs/DuaPilihan\\\\\"}}, \\\\\"required\\\\\": [\\\\\"pilihan\\\\\"], \\\\\"type\\\\\": \\\\\"object\\\\\"}\"', 'conversations': [{'role': 'user', 'content': 'Rosak jadual kerja saya, kena ulang alik dari Tampin ke Jasin beberapa kali'}, {'role': 'assistant', 'content': \"<functioncall> {'name': 'BESAR', 'arguments': {'pilihan': {'pilihanA': 'Rosak', 'pilihanB': 'jadual kerja saya'}}}\"}]}\n",
      "e_loop 'str' object has no attribute 'get' {'function_call': '\"Kaunter\"', 'conversations': [{'role': 'user', 'content': 'Kamal ingin membeli sandwich ayam di KFC dan kemudian balik ke rumahnya.'}, {'role': 'assistant', 'content': \"<functioncall> {'name': 'Kaunter', 'arguments': {'pesanan': [{'menu': 'sandwich ayam', 'restoran': 'KFC'}, {'tindakan': 'balik', 'lokasi': 'rumah'}]}}\"}]}\n",
      "e_loop 'str' object has no attribute 'get' {'function_call': '\"Pembinaan_kendiri\"', 'conversations': [{'role': 'user', 'content': 'Rancang pertunjukan oleh pelakon tempatan dan khidmat sokongan penuh daripada pihak berkuasa.'}, {'role': 'assistant', 'content': \"<functioncall> {'name': 'Pembinaan_kendiri', 'arguments': {'triplets': [{'subject': 'Rancang pertunjukan', 'predicate': 'dengan', 'object': 'pelakon tempatan'}, {'subject': 'Rancang pertunjukan', 'predicate': 'dengan', 'object': 'khidmat sokongan'}, {'subject': 'khidmat sokongan', 'predicate': 'daripada', 'object': 'pihak berkuasa'}]}}\"}]}\n",
      "e_loop 'str' object has no attribute 'get' {'function_call': '\"Gardu Elektrik\"', 'conversations': [{'role': 'user', 'content': 'Mahu pasang lampu baru di dalam rumah saya.'}, {'role': 'assistant', 'content': '<functioncall> {\"name\": \"Gardu Elektrik\", \"arguments\": {\"perkara\": \"pasang lampu\", \"lokasi\": \"dalam rumah saya\"}}'}]}\n",
      "e_loop 'str' object has no attribute 'get' {'function_call': '\"{\\\\\"name\\\\\": \\\\\"PNP\\\\\", \\\\\"description\\\\\": \\\\\"hasilkan bahan kimia PNP dengan parameter yang tepat dan jenis yang betul\\\\\", \\\\\"parameters\\\\\": {\\\\\"$defs\\\\\": {\\\\\"Chemical\\\\\": {\\\\\"properties\\\\\": {\\\\\"compound\\\\\": {\\\\\"type\\\\\": \\\\\"string\\\\\"}, \\\\\"formula\\\\\": {\\\\\"type\\\\\": \\\\\"string\\\\\"}}, \\\\\"required\\\\\": [\\\\\"compound\\\\\", \\\\\"formula\\\\\"], \\\\\"type\\\\\": \\\\\"object\\\\\"}}, \\\\\"properties\\\\\": {\\\\\"chemicals\\\\\": {\\\\\"items\\\\\": {\\\\\"$ref\\\\\": \\\\\"#/$defs/Chemical\\\\\"}, \\\\\"type\\\\\": \\\\\"array\\\\\"}}, \\\\\"required\\\\\": [\\\\\"chemicals\\\\\"], \\\\\"type\\\\\": \\\\\"object\\\\\"}\"', 'conversations': [{'role': 'user', 'content': 'Saya ingin hasilkan bahan kimia PNP yang stabil dan boleh digunakan sebagai bahan api'}, {'role': 'assistant', 'content': \"<functioncall> {'name': 'PNP', 'arguments': {'chemicals': [{'compound': 'PNP', 'formula': 'C7H7N3O9'}]}}\"}]}\n",
      "e_loop 'str' object has no attribute 'get' {'function_call': '\"DPLR\"', 'conversations': [{'role': 'user', 'content': 'Kerjasama rapat di antara syarikat dan pertubuhan alam sekitar membuahkan hasil yang menakjubkan'}, {'role': 'assistant', 'content': '<functioncall> {\"name\": \"DPLR\", \"arguments\": {\"triplets\": [{\"subject\": \"Kerjasama rapat\", \"predicate\": \"mencapai\", \"object\": \"hasil yang menakjubkan\"}, {\"subject\": \"Kerjasama rapat\", \"predicate\": \"diantara\", \"object\": \"syarikat dan pertubuhan alam sekitar\"}]}}'}]}\n",
      "e_loop 'str' object has no attribute 'get' {'function_call': '\"kg--kutu-gigi\"', 'conversations': [{'role': 'user', 'content': 'Jika kita gunakan sains kutu gigi, boleh tak sebarkan dengan mudah?'}, {'role': 'assistant', 'content': '<functioncall> {\"name\": \"kg--kutu-gigi\", \"arguments\": {\"zigzags\": [{\"pengarang\": \"kita\", \"pembolehubah\": \"sains kutu gigi\", \"penggalak\": \"sebarkan dengan mudah\"}]}}'}]}\n",
      "e_loop 'str' object has no attribute 'get' {'function_call': '\"TarikhUlang\"', 'conversations': [{'role': 'user', 'content': 'Datuk kahwin kepada kakitangan sendiri, majoriti sokong langkahnya'}, {'role': 'assistant', 'content': \"<functioncall> {'name': 'TarikhUlang', 'arguments': {'peristiwa': {'tarikh': '2023-09-15', 'keterangan': 'perkahwinan Datuk dengan kakitangan sendiri', 'lokasi': 'Istana Melaka'}}}\"}]}\n",
      "e_loop 'str' object has no attribute 'get' {'function_call': '\"Wjkhfpwi\", \"ljnpoahf Jwjbdoq\"\\n', 'conversations': [{'role': 'user', 'content': 'Buat panggilan fungsi yang penuh dengan parameter yang sangat rumit'}, {'role': 'assistant', 'content': '<functioncall> {\"nama\": \"Wjkhfpwi\", \"arguments\": {\"perkara\": [{\"kata kunci\": \"rumit\", \"predikat\": \"sangat\", \"objek\": \"parameter\"}, {\"kata kunci\": \"panggilan\", \"predikat\": \"dengan\", \"objek\": \"fungsi\"}]}}'}]}\n",
      "e_loop 'str' object has no attribute 'get' {'function_call': '\"HUKUM_HARTA_KARUN\"', 'conversations': [{'role': 'user', 'content': 'Harta karun langka ini mesti dilindungi dari pencuri yang rakus.'}, {'role': 'assistant', 'content': \"<functioncall> {'name': 'HUKUM_HARTA_KARUN', 'arguments': {'temuan': {'lokasi': 'pulau terpencil', 'pencari': 'penyelidik hartanah', 'jenis': 'langka'}, 'perlindungan': 'ketat'}}\"}]}\n",
      "e_loop 'str' object has no attribute 'get' {'function_call': '\"{\\\\\"name\\\\\": \\\\\"OperasiMasa\\\\\", \\\\\"description\\\\\": \\\\\"jalankan fungsi `OperasiMasa` dengan parameter masukan yang betul\\\\\", \\\\\"parameters\\\\\": {\\\\\"properties\\\\\": {\\\\\"time\\\\\": {\\\\\"type\\\\\": \\\\\"string\\\\\"}, \\\\\"activity\\\\\": {\\\\\"type\\\\\": \\\\\"string\\\\\"}}, \\\\\"required\\\\\": [\\\\\"time\\\\\", \\\\\"activity\\\\\"], \\\\\"type\\\\\": \\\\\"object\\\\\"}}\"', 'conversations': [{'role': 'user', 'content': 'Sambungkan tunas hingga rumpun padi bunting tergelak-gelak di pinggir sawah'}, {'role': 'assistant', 'content': \"<functioncall> {'name': 'OperasiMasa', 'arguments': {'time': 'petang', 'activity': 'sambungkan tunas hingga rumpun padi bunting tergelak-gelak di pinggir sawah'}}\"}]}\n",
      "e_loop 'str' object has no attribute 'get' {'function_call': '\"Translating to Malay the key contents without altering the JSON format\"', 'conversations': [{'role': 'user', 'content': 'Dari kedai hingga ke perusahaan besar, pembangkang diserap di segenap peringkat'}]}\n",
      "e_loop 'str' object has no attribute 'get' {'function_call': '\"Jasa menerjemah iklan McDonald\\'s ke dalam Bahasa Melayu dengan betul menggunakan semua parameter yang diperlukan dengan jenis yang betul, serta menambahkan niat baik.\"', 'conversations': [{'role': 'user', 'content': \"Saya perlu iklan McDonald's diterjemahkan ke dalam Bahasa Melayu dengan sempurna.\"}, {'role': 'assistant', 'content': '<functioncall> {\"name\": \"JasaMenerjemah\", \"arguments\": {\"dokumen\": \"Iklan McDonald\\'s\", \"bahasa_asal\": \"English\", \"bahasa_tujuan\": \"Bahasa Melayu\"}}'}]}\n",
      "e_loop 'str' object has no attribute 'get' {'function_call': '\"Kesimpulannya\"', 'conversations': [{'role': 'user', 'content': 'Aku dan kawan-kawan makan roti bakar, minum teh tarik, dan main carrom petang tadi.'}, {'role': 'assistant', 'content': \"<functioncall> {'nama': 'Kesimpulannya', 'argumen': {'aktiviti': 'makan roti bakar, minum teh tarik, dan main carrom petang tadi'}}\"}]}\n",
      "e_loop 'str' object has no attribute 'get' {'function_call': '\"DFTG\"', 'conversations': [{'role': 'user', 'content': 'Kumpulan pemilik mencari cara untuk meningkatkan produktiviti kilang.'}, {'role': 'assistant', 'content': \"<functioncall> {'name': 'DFTG', 'arguments': {'pencarian': 'menggunakan teknologi', 'keterangan': 'untuk mencapai peningkatan produktiviti di kilang'}}\"}]}\n",
      "e_loop 'str' object has no attribute 'get' {'function_call': '\"{name: \\'Undang\\', description: \\'jalankan Undang dengan semua parameter yang diperlukan dengan jenis yang betul\\', parameters: {$defs: {Pasangan: {properties: {suami: {type: string}, isteri: {type: string}}, required: [suami, isteri], type: object}}, properties: {pasangan: {items: {$ref: \\'#/$defs/Pasangan\\'}, type: array}}, required: [pasangan], type: object}}\"', 'conversations': [{'role': 'user', 'content': 'Sepasang suami isteri bercerai di meja hijau. isteri marah dan cakar muka suami.'}, {'role': 'assistant', 'content': \"<functioncall> {'name': 'Undang', 'arguments': {'pasangan': [{'suami': 'Sepasang', 'isteri': 'isteri'}, {'suami': 'isteri', 'isteri': 'bercerai'}, {'suami': 'isteri', 'isteri': 'marah'}, {'suami': 'isteri', 'isteri': 'cakar muka'}]}}\"}]}\n",
      "e_loop 'str' object has no attribute 'get' {'function_call': '\"KONGSI_MAKANAN\"', 'conversations': [{'role': 'user', 'content': 'Apa resepi ayam masak kicap paling sedap?'}, {'role': 'assistant', 'content': \"<functioncall> {'name': 'KONGSI_MAKANAN', 'arguments': {'resepi': 'ayam masak kicap', 'kesedapan': 'paling', 'info_tambahan': '...'}}\"}]}\n",
      "e_loop 'str' object has no attribute 'get' {'function_call': '\"{\\\\\"name\\\\\": \\\\\"EK\\\\\", \\\\\"description\\\\\": \\\\\"hasilkan fungsi yang tepat EK dengan semua parameter yang diperlukan dengan jenis yang betul\\\\\", \\\\\"parameters\\\\\": {\\\\\"$defs\\\\\": {\\\\\"Triplet\\\\\": {\\\\\"properties\\\\\": {\\\\\"subject\\\\\": {\\\\\"type\\\\\": \\\\\"string\\\\\"}, \\\\\"predicate\\\\\": {\\\\\"type\\\\\": \\\\\"string\\\\\"}, \\\\\"object\\\\\": {\\\\\"type\\\\\": \\\\\"string\\\\\"}}, \\\\\"required\\\\\": [\\\\\"subject\\\\\", \\\\\"predicate\\\\\", \\\\\"object\\\\\"], \\\\\"type\\\\\": \\\\\"object\\\\\"}}, \\\\\"properties\\\\\": {\\\\\"triplets\\\\\": {\\\\\"items\\\\\": {\\\\\"$ref\\\\\": \\\\\"#/$defs/Triplet\\\\\"}, \\\\\"type\\\\\": \\\\\"array\\\\\"}}, \\\\\"required\\\\\": [\\\\\"triplets\\\\\"], \\\\\"type\\\\\": \\\\\"object\\\\\"}}\"', 'conversations': [{'role': 'user', 'content': 'Pendekatan membangun hubungan baik antara rakan sekerja dengan bos harus diutamakan.'}, {'role': 'assistant', 'content': '<EK> {\\\\\"name\\\\\": \\\\\"EK\\\\\", \\\\\"arguments\\\\\": {\\\\\"triplets\\\\\": [{\\\\\"subject\\\\\": \\\\\"Pendekatan membangun\\\\\", \\\\\"predicate\\\\\": \\\\\"harus diutamakan\\\\\", \\\\\"object\\\\\": \\\\\"hubungan baik\\\\\"}, {\\\\\"subject\\\\\": \\\\\"hubungan baik\\\\\", \\\\\"predicate\\\\\": \\\\\"antara\\\\\", \\\\\"object\\\\\": \\\\\"rakan sekerja\\\\\"}, {\\\\\"subject\\\\\": \\\\\"rakan sekerja\\\\\", \\\\\"predicate\\\\\": \\\\\"dengan\\\\\", \\\\\"object\\\\\": \\\\\"bos\\\\\"}]}}'}]}\n",
      "e_loop 'str' object has no attribute 'get' {'function_call': '\"MuatTurunLamanWeb\"', 'conversations': [{'role': 'user', 'content': 'Saya nak dapatkan resipi nasi lemak yang sedap, dah lama tak makan nasi lemak.'}, {'role': 'assistant', 'content': \"<functioncall> {'nama': 'MuatTurunLamanWeb', 'parameter': {'link': 'https://www.resipinasi.com', 'keywords': ['resipi', 'nasi lemak', 'sedap']}}\"}]}\n",
      "e_loop 'str' object has no attribute 'get' {'function_call': '\"Konstruktor\",\"aplikasi industri makanan\",\"menggunakan kaedah penjanaan kod tertinggi untuk memastikan integriti data dan prestasi sistem yang optimum\",\"pakej\"', 'conversations': [{'role': 'user', 'content': 'Aplikasi industri makanan memerlukan penambahbaikan terhadap pengurusan inventori dan proses penghantaran.'}, {'role': 'assistant', 'content': \"<functioncall> {'name': 'Konstruktor', 'arguments': {'pakej': 'aplikasi industri makanan', 'tugasan': 'penambahbaikan', 'fokus': 'pengurusan inventori dan proses penghantaran'}}\"}]}\n",
      "e_loop 'str' object has no attribute 'get' {'function_call': '\"PelangganBiasa\"', 'conversations': [{'role': 'user', 'content': 'Saya mahu memesan dua bungkus nasi lemak dan satu teh tarik tambah kurang manis'}, {'role': 'assistant', 'content': '<functioncall> {\"name\": \"PelangganBiasa\", \"arguments\": {\"pesanan\": [{\"jenisMakanan\": \"nasi lemak\", \"kuantiti\": 2}, {\"jenisMakanan\": \"teh tarik tambah kurang manis\", \"kuantiti\": 1}]}}'}, {'role': 'user', 'content': 'Tolong semak tempahan saya untuk penerbangan ke Kota Kinabalu esok'}, {'role': 'assistant', 'content': '<functioncall> {\"name\": \"PelangganBiasa\", \"arguments\": {\"tempahan\": {\"tujuanPenerbangan\": \"Kota Kinabalu\", \"tarikh\": \"esok\"}}}'}, {'role': 'user', 'content': 'Beritahu pemaju untuk menambah sebuah unit pangsapuri dua bilik tambah satu tempat letak kereta'}, {'role': 'assistant', 'content': '<functioncall> {\"name\": \"PelangganBiasa\", \"arguments\": {\"permintaan\": {\"unit\": \"pangsapuri dua bilik\", \"tambahan\": {\"jenis\": \"tempat letak kereta\", \"kuantiti\": 1}}}'}, {'role': 'user', 'content': 'Saya perlukan rundingan undang-undang untuk menghadapi kes jenayah yang saya alami'}, {'role': 'assistant', 'content': '<functioncall> {\"name\": \"PelangganBiasa\", \"arguments\": {\"rundingan\": \"undang-undang\", \"kes\": \"jenayah\"}'}, {'role': 'user', 'content': 'Adakah anda boleh bantu saya membeli hadiah harijadi untuk abang saya yang suka sukan?'}, {'role': 'assistant', 'content': '<functioncall> {\"name\": \"PelangganBiasa\", \"arguments\": {\"hadiah\": \"harijadi untuk abang\", \"pilihanSukan\": \"pilihan sendiri\"}'}, {'role': 'user', 'content': 'Sila buat tempahan untuk menjemput tamu ke majlis perkahwinan saya bulan hadapan'}, {'role': 'assistant', 'content': '<functioncall> {\"name\": \"PelangganBiasa\", \"arguments\": {\"tempahan\": {\"acara\": \"majlis perkahwinan\", \"tarikh\": \"bulan hadapan\"}}'}, {'role': 'user', 'content': 'Saya ingin melaporkan kehilangan dokumen perjalanan saya semasa dalam perjalanan ke Sabah minggu lalu'}, {'role': 'assistant', 'content': '<functioncall> {\"name\": \"PelangganBiasa\", \"arguments\": {\"laporan\": \"kehilangan dokumen perjalanan\", \"tempat\": \"Sabah\", \"tarikh\": \"minggu lalu\"}'}]}\n",
      "e_loop 'str' object has no attribute 'get' {'function_call': '\"Pelanggan\"', 'conversations': [{'role': 'user', 'content': 'Selamat pagi, saya nak tempah nasi lemak satu bungkus'}, {'role': 'assistant', 'content': \"<functioncall> {'name': 'Pelanggan', 'arguments': {'pesanan': 'nasi lemak satu bungkus'}}\"}]}\n",
      "e_loop 'str' object has no attribute 'get' {'function_call': '\"wujudkan panggilan ke fungsi dengan semua butiran parameter yang betul dan jenis yang betul\"', 'conversations': [{'role': 'user', 'content': 'Sushi tempura yang aku makan itu sungguh enak.'}, {'role': 'assistant', 'content': '<functioncall> {\"nama\": \"makanSushi\", \"hujah\": {\"pikiran\": [{\"subjek\": \"aku\", \"predikat\": \"memakan\", \"objek\": \"sushi tempura\"}, {\"subjek\": \"sushi tempura\", \"predikat\": \"sangat\", \"objek\": \"enak\"}]}}'}]}\n",
      "e_loop 'str' object has no attribute 'get' {'function_call': '\"DiKTatör\"', 'conversations': [{'role': 'user', 'content': 'Presiden pertama Malaysia, Tunku Abdul Rahman, mengisytiharkan kemerdekaan pada 31 Ogos 1957'}, {'role': 'assistant', 'content': \"<functioncall> {'nama': 'DiKTatör', 'argumen': {'triplets': [{'subjek': 'Presiden pertama Malaysia', 'predikat': 'mengisytiharkan', 'objek': 'kemerdekaan'}, {'subjek': 'Tunku Abdul Rahman', 'predikat': 'mengisytiharkan', 'objek': 'kemerdekaan'}, {'subjek': 'kemerdekaan', 'predikat': 'pada', 'objek': '31 Ogos 1957'}]}}\"}]}\n"
     ]
    }
   ],
   "source": [
    "def check_function(s):\n",
    "    name = s.get('name', s.get('nama'))\n",
    "    if name is None:\n",
    "        return\n",
    "    if 'parameters' not in s:\n",
    "        return\n",
    "    if 'properties' not in s['parameters']:\n",
    "        return\n",
    "\n",
    "    properties = set(s['parameters']['properties'])\n",
    "\n",
    "    success = False\n",
    "    required = s['parameters'].get('required', s['parameters'].get('diperlukan'))\n",
    "    if required:\n",
    "        required = set(required)\n",
    "        if len(required & properties) == len(required):\n",
    "            success = True\n",
    "    else:\n",
    "        success = True\n",
    "    \n",
    "    if success:\n",
    "        return name, properties\n",
    "    \n",
    "def check_functions(function_calls):\n",
    "    functions = {}\n",
    "\n",
    "    if isinstance(function_calls, dict):\n",
    "        o = check_function(data['e']['function_call'])\n",
    "        if o is not None:\n",
    "            functions[o[0]] = o[1]\n",
    "\n",
    "    elif isinstance(function_calls, str):\n",
    "\n",
    "        try:\n",
    "            for s in function_calls.split('\\n\\n'):\n",
    "                try:\n",
    "                    s = eval(s)\n",
    "                except:\n",
    "                    continue\n",
    "\n",
    "                o = check_function(s)\n",
    "                if o is not None:\n",
    "                    functions[o[0]] = o[1]\n",
    "        except:\n",
    "            s = eval(function_calls)\n",
    "            if isinstance(s, dict):\n",
    "                s = [s]\n",
    "            for s_ in s:\n",
    "                o = check_function(s_)\n",
    "                if o is not None:\n",
    "                    functions[o[0]] = o[1]\n",
    "                \n",
    "    return functions\n",
    "    \n",
    "rejected = []\n",
    "with open('function-calls-complex.jsonl', 'w') as fopen_l:\n",
    "    for f in files:\n",
    "        try:\n",
    "            with open(f) as fopen:\n",
    "                data = json.load(fopen)\n",
    "\n",
    "            rs = [data]\n",
    "\n",
    "            for r in rs:\n",
    "\n",
    "                try:\n",
    "                    function_calls = r['function_call']\n",
    "                    functions = check_functions(function_calls)\n",
    "\n",
    "                    if not len(functions):\n",
    "                        continue\n",
    "                    \n",
    "                    conversations = r.get('conversations', r.get('perbualan'))\n",
    "                    if len(conversations) % 2 != 0:\n",
    "                        conversations = conversations[:-1]\n",
    "\n",
    "                    pairs = []\n",
    "                    for i in range(0, len(conversations), 2):\n",
    "                        try:\n",
    "                            splitted = conversations[i + 1].get('content', conversations[i + 1].get('kandungan'))\n",
    "                            if splitted is None:\n",
    "                                continue\n",
    "                            if '> ' in splitted:\n",
    "                                splitted = splitted.split('> ')\n",
    "                                splitted = splitted[1]\n",
    "                            \n",
    "                            splitted = splitted.replace('true', 'True').replace('false', 'False')\n",
    "                            \n",
    "                            failed = True\n",
    "                            try:\n",
    "                                splitted = eval(splitted)\n",
    "                                failed = False\n",
    "                            except:\n",
    "                                pass\n",
    "                            \n",
    "                            if failed:\n",
    "                                try:\n",
    "                                    splitted = eval(splitted + '}')\n",
    "                                    failed = False\n",
    "                                except:\n",
    "                                    pass\n",
    "                            \n",
    "                            if failed:\n",
    "                                try:\n",
    "                                    splitted = eval(splitted.replace(\"'{\", '{') + '}')\n",
    "                                except:\n",
    "                                    continue\n",
    "                                    \n",
    "                            # print('spllitted', splitted, splitted['name'])\n",
    "                            \n",
    "                            name = splitted.get('name', splitted.get('nama'))\n",
    "                            arguments = splitted.get('arguments', splitted.get('argument', splitted.get('argumen')))\n",
    "                            if arguments is None:\n",
    "                                arguments = splitted.get('hujah', splitted.get('hujahan'))\n",
    "                            if arguments is None:\n",
    "                                arguments = splitted.get('arahan', splitted.get('parameter'))\n",
    "                            \n",
    "                            if name not in functions:\n",
    "                                continue\n",
    "                                \n",
    "                            if isinstance(arguments, str):\n",
    "                                arguments = eval(arguments)\n",
    "                                \n",
    "                            arguments_keys = set(arguments.keys())\n",
    "                            if len(functions[name] & arguments_keys) == len(arguments_keys):\n",
    "                                splitted['arguments'] = arguments\n",
    "                                c = [\n",
    "                                    {\n",
    "                                        'role': 'user',\n",
    "                                        'content': conversations[i]['content'],\n",
    "                                    },\n",
    "                                    {\n",
    "                                        'role': 'assistant',\n",
    "                                        'content': f'<functioncall> {str(splitted)}'\n",
    "                                    }\n",
    "                                    ]\n",
    "                                pairs.extend(c)\n",
    "\n",
    "                        except Exception as e_splitted:\n",
    "                            # print('e_splitted', e_splitted, conversations[i + 1], splitted)\n",
    "                            pass\n",
    "\n",
    "                    if function_calls and len(pairs):\n",
    "                        d = {\n",
    "                            'function_call': function_calls,\n",
    "                            'conversations': pairs,\n",
    "                        }\n",
    "                        fopen_l.write(f'{json.dumps(d)}\\n')\n",
    "                        fopen_l.flush()\n",
    "                except Exception as e_loop:\n",
    "                    print('e_loop', e_loop, r)\n",
    "                    rejected.append((e_loop, r))\n",
    "\n",
    "        except Exception as e:\n",
    "            print(e, data)"
   ]
  },
  {
   "cell_type": "code",
   "execution_count": 4,
   "id": "6c8bf027",
   "metadata": {},
   "outputs": [
    {
     "name": "stdout",
     "output_type": "stream",
     "text": [
      "24986 function-calls-complex.jsonl\r\n"
     ]
    }
   ],
   "source": [
    "!wc -l function-calls-complex.jsonl"
   ]
  },
  {
   "cell_type": "code",
   "execution_count": 5,
   "id": "9d613278",
   "metadata": {},
   "outputs": [],
   "source": [
    "ls = []\n",
    "with open('function-calls-complex.jsonl') as fopen:\n",
    "    for l in fopen:\n",
    "        ls.append(json.loads(l))\n",
    "        if len(ls) > 100:\n",
    "            break"
   ]
  },
  {
   "cell_type": "code",
   "execution_count": 6,
   "id": "8921bbf9",
   "metadata": {},
   "outputs": [
    {
     "data": {
      "text/plain": [
       "{'function_call': '{\"name\": \"HR\",\"description\": \"berikan maklum balas menggunakan kaedah `HR` dengan semua parameter yang diperlukan dengan jenis yang betul\",\"parameters\": {\"$defs\": {\"Data\": {\"properties\": {\"pegawai\": {\"type\": \"string\"}, \"maklumat\": {\"type\": \"string\"}}, \"required\": [\"pegawai\", \"maklumat\"], \"type\": \"object\"}}, \"properties\": {\"feedbacks\": {\"items\": {\"$ref\": \"#/$defs/Data\"}, \"type\": \"array\"}}, \"required\": [\"feedbacks\"], \"type\": \"object\"}}',\n",
       " 'conversations': [{'role': 'user',\n",
       "   'content': 'Pegawai yang melakukan kesalahan melaporkan diri kepada ketua bahagian HR.'},\n",
       "  {'role': 'assistant',\n",
       "   'content': \"<functioncall> {'name': 'HR', 'arguments': {'feedbacks': [{'pegawai': 'Pegawai', 'maklumat': 'melakukan kesalahan'}, {'pegawai': 'Pegawai', 'maklumat': 'laporkan diri kepada ketua bahagian HR'}]}}\"}]}"
      ]
     },
     "execution_count": 6,
     "metadata": {},
     "output_type": "execute_result"
    }
   ],
   "source": [
    "ls[-1]"
   ]
  },
  {
   "cell_type": "code",
   "execution_count": 7,
   "id": "80826134",
   "metadata": {},
   "outputs": [
    {
     "name": "stderr",
     "output_type": "stream",
     "text": [
      "/home/husein/.local/lib/python3.8/site-packages/requests/__init__.py:102: RequestsDependencyWarning: urllib3 (1.26.15) or chardet (5.2.0)/charset_normalizer (2.0.7) doesn't match a supported version!\n",
      "  warnings.warn(\"urllib3 ({}) or chardet ({})/charset_normalizer ({}) doesn't match a supported \"\n"
     ]
    },
    {
     "data": {
      "application/vnd.jupyter.widget-view+json": {
       "model_id": "481641c5cd6f44839fe55c631defbadf",
       "version_major": 2,
       "version_minor": 0
      },
      "text/plain": [
       "function-calls-complex.jsonl:   0%|          | 0.00/27.8M [00:00<?, ?B/s]"
      ]
     },
     "metadata": {},
     "output_type": "display_data"
    },
    {
     "data": {
      "text/plain": [
       "'https://huggingface.co/datasets/mesolitica/chatgpt-malay-function-call/blob/main/function-calls-complex.jsonl'"
      ]
     },
     "execution_count": 7,
     "metadata": {},
     "output_type": "execute_result"
    }
   ],
   "source": [
    "from huggingface_hub import HfApi\n",
    "api = HfApi()\n",
    "api.upload_file(\n",
    "    path_or_fileobj='function-calls-complex.jsonl',\n",
    "    path_in_repo='function-calls-complex.jsonl',\n",
    "    repo_id='mesolitica/chatgpt-malay-function-call',\n",
    "    repo_type='dataset',\n",
    ")"
   ]
  },
  {
   "cell_type": "code",
   "execution_count": null,
   "id": "ca1fe379",
   "metadata": {},
   "outputs": [],
   "source": []
  }
 ],
 "metadata": {
  "kernelspec": {
   "display_name": "Python 3 (ipykernel)",
   "language": "python",
   "name": "python3"
  },
  "language_info": {
   "codemirror_mode": {
    "name": "ipython",
    "version": 3
   },
   "file_extension": ".py",
   "mimetype": "text/x-python",
   "name": "python",
   "nbconvert_exporter": "python",
   "pygments_lexer": "ipython3",
   "version": "3.8.10"
  }
 },
 "nbformat": 4,
 "nbformat_minor": 5
}
