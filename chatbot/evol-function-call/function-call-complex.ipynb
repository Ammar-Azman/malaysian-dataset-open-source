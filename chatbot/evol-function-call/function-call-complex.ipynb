{
 "cells": [
  {
   "cell_type": "code",
   "execution_count": 1,
   "id": "024caaae",
   "metadata": {},
   "outputs": [
    {
     "name": "stderr",
     "output_type": "stream",
     "text": [
      "/home/husein/3.9/lib/python3.9/site-packages/tqdm/auto.py:21: TqdmWarning: IProgress not found. Please update jupyter and ipywidgets. See https://ipywidgets.readthedocs.io/en/stable/user_install.html\n",
      "  from .autonotebook import tqdm as notebook_tqdm\n",
      "/home/husein/3.9/lib/python3.9/site-packages/malaya/tokenizer.py:214: FutureWarning: Possible nested set at position 3397\n",
      "  self.tok = re.compile(r'({})'.format('|'.join(pipeline)))\n",
      "/home/husein/3.9/lib/python3.9/site-packages/malaya/tokenizer.py:214: FutureWarning: Possible nested set at position 3927\n",
      "  self.tok = re.compile(r'({})'.format('|'.join(pipeline)))\n"
     ]
    }
   ],
   "source": [
    "import pandas as pd\n",
    "import openai\n",
    "import instructor\n",
    "import json\n",
    "import os\n",
    "import malaya\n",
    "from pydantic import BaseModel, Field\n",
    "from typing import List\n",
    "from bs4 import BeautifulSoup\n",
    "from concurrent.futures import ThreadPoolExecutor, as_completed\n",
    "from unidecode import unidecode\n",
    "import re\n",
    "import random\n",
    "\n",
    "minimum_len = 15\n",
    "\n",
    "def simple_cleaning(string):\n",
    "    return re.sub(r'[ ]+', ' ', unidecode(string).replace('\\n', ' ').replace('--', ' ').replace('/', ' ')).strip()"
   ]
  },
  {
   "cell_type": "code",
   "execution_count": 2,
   "id": "189d4043",
   "metadata": {},
   "outputs": [],
   "source": [
    "instructor.patch()"
   ]
  },
  {
   "cell_type": "code",
   "execution_count": 3,
   "id": "b5dd51cd",
   "metadata": {},
   "outputs": [],
   "source": [
    "class ConversationObject(BaseModel):\n",
    "    role: str\n",
    "    content: str = Field('...', description = 'if the role is `assistant`, it must convert user content into function parameter format `<functioncall> {\"name\", \"arguments\"}`')\n",
    "        \n",
    "class JsonObject(BaseModel):\n",
    "    function_call: str\n",
    "    conversations: List[ConversationObject]"
   ]
  },
  {
   "cell_type": "code",
   "execution_count": 4,
   "id": "a6dd02ae",
   "metadata": {},
   "outputs": [],
   "source": [
    "openai.api_type = \"azure\"\n",
    "openai.api_base = \"https://husein-ai10-aiservices-2093329748.openai.azure.com/\"\n",
    "openai.api_version = \"2023-07-01-preview\"\n",
    "openai.api_key = \"\"\n",
    "\n",
    "engine = 'gpt-35-turbo'"
   ]
  },
  {
   "cell_type": "code",
   "execution_count": 5,
   "id": "75bdfcde",
   "metadata": {},
   "outputs": [],
   "source": [
    "def predict(prompt, max_tokens = 1024):\n",
    "    messages=[\n",
    "        {\"role\": \"user\", \"content\": prompt},\n",
    "       \n",
    "    ]\n",
    "    try:\n",
    "        response = openai.ChatCompletion.create(\n",
    "        engine=engine,\n",
    "        messages=messages,\n",
    "        temperature=1.0,\n",
    "        max_tokens=max_tokens,\n",
    "        top_p=0.95,\n",
    "        frequency_penalty=0,\n",
    "        presence_penalty=0,\n",
    "        stop=None\n",
    "        )\n",
    "        return response\n",
    "    except Exception as e:\n",
    "        print(e)\n",
    "        return None\n",
    "    \n",
    "def predict_instruct(text):\n",
    "    r = openai.ChatCompletion.create(\n",
    "        engine=engine,\n",
    "        response_model=JsonObject,\n",
    "        messages=[\n",
    "            {\"role\": \"user\", \"content\": text},\n",
    "        ],\n",
    "        temperature=1.0,\n",
    "        max_tokens=1024,\n",
    "        top_p=0.95,\n",
    "        frequency_penalty=0,\n",
    "        presence_penalty=0,\n",
    "        stop=None\n",
    "    )\n",
    "    return r"
   ]
  },
  {
   "cell_type": "code",
   "execution_count": 6,
   "id": "8b598614",
   "metadata": {},
   "outputs": [],
   "source": [
    "function_call = {\n",
    "        'name': 'UpdateRoles',\n",
    "        'description': 'Fungsi ini mengemas kini peranan pengguna. Ia menerima pelbagai objek. Setiap objek hendaklah memasukkan nama peranan, alamat e-mel dan tindakan yang menentukan sama ada peranan itu perlu ditambah atau dialih keluar.',\n",
    "        'parameters': {\n",
    "            'type': 'object',\n",
    "            'properties': {\n",
    "                'role_users': {\n",
    "                    'type': 'array',\n",
    "                    'items': {\n",
    "                        'type': 'object',\n",
    "                        'properties': {\n",
    "                            'rolename': {\n",
    "                                'type': 'string',\n",
    "                                'enum': ['role1','role2','admin'],\n",
    "                                'description': 'Nama peranan yang akan dikemas kini.',\n",
    "                            },\n",
    "                            'email': {\n",
    "                                'type': 'string',\n",
    "                                'description': 'Alamat e-mel pengguna yang peranannya sedang dikemas kini.',\n",
    "                            },\n",
    "                            'action': {\n",
    "                                'type': 'string',\n",
    "                                'enum': ['tambah', 'buang'],\n",
    "                                'description': \"dia bertindak untuk dilakukan. 'tambah' untuk memberikan peranan kepada pengguna, 'buang' untuk mengeluarkan peranan daripada pengguna.\",\n",
    "                            },\n",
    "                        },\n",
    "                        'required': ['rolename', 'email', 'action'],\n",
    "                    },\n",
    "                }\n",
    "            },\n",
    "            'required': ['role_users'],\n",
    "        },\n",
    "    }\n",
    "\n",
    "a = '{\\n' + \\\n",
    "'  \"role_users\": [\\n' + \\\n",
    "'    {\\n' + \\\n",
    "'      \"rolename\": \"role1\",\\n' + \\\n",
    "'      \"email\": \"test@email\",\\n' + \\\n",
    "'      \"action\": \"tambah\"\\n' + \\\n",
    "'    },\\n' + \\\n",
    "'    {\\n' + \\\n",
    "'      \"rolename\": \"admin\",\\n' + \\\n",
    "'      \"email\": \"mike@email\",\\n' + \\\n",
    "'      \"action\": \"buang\"\\n' + \\\n",
    "'    }\\n' + \\\n",
    "'  ]\\n' + \\\n",
    "'}'"
   ]
  },
  {
   "cell_type": "code",
   "execution_count": 7,
   "id": "00fb91c5",
   "metadata": {},
   "outputs": [],
   "source": [
    "f = str({'name': 'UpdateRoles', 'arguments': json.dumps(json.loads(a))})\n",
    "\n",
    "s = \"\"\"\n",
    "saya ada 2 orang kena edit,\n",
    "1. tambah role1, email test@email\n",
    "2. buang admin, email mike@email\n",
    "\"\"\"\n",
    "\n",
    "conversations = [\n",
    "    {\n",
    "        'role': 'user',\n",
    "        'content': s.strip()\n",
    "    },\n",
    "    {\n",
    "        'role': 'assistant',\n",
    "        'content': f'<functioncall> {f}'\n",
    "    }\n",
    "]\n",
    "\n",
    "e = {\n",
    "    'function_call': json.dumps(function_call),\n",
    "    'conversations': conversations,\n",
    "}\n",
    "text = f\"\"\"Generate complex Malay function call prompts inspired by the given example. If translation is challenging, use Malaysian terms for variety. Maintain the JSON format, altering only key contents. Follow instructions precisely, avoiding randomness.\n",
    "\n",
    "Code snippet for inspiration:\n",
    "```\n",
    "{e}\n",
    "```\n",
    "\"\"\"\n",
    "r = predict_instruct(text)"
   ]
  },
  {
   "cell_type": "code",
   "execution_count": 8,
   "id": "fb2768f0",
   "metadata": {},
   "outputs": [
    {
     "name": "stdout",
     "output_type": "stream",
     "text": [
      "mkdir: cannot create directory ‘function-call-complex’: File exists\r\n"
     ]
    }
   ],
   "source": [
    "!mkdir function-call-complex"
   ]
  },
  {
   "cell_type": "code",
   "execution_count": 9,
   "id": "56654408",
   "metadata": {},
   "outputs": [
    {
     "name": "stderr",
     "output_type": "stream",
     "text": [
      "/tmp/ipykernel_6494/3582938815.py:1: PydanticDeprecatedSince20: The `dict` method is deprecated; use `model_dump` instead. Deprecated in Pydantic V2.0 to be removed in V3.0. See Pydantic V2 Migration Guide at https://errors.pydantic.dev/2.4/migration/\n",
      "  r.dict()\n"
     ]
    },
    {
     "data": {
      "text/plain": [
       "{'function_call': '{\"name\":\"GeneratePayment\",\"description\":\"Fungsi ini mencipta bayaran untuk perkhidmatan. Ia menerima maklumat perkhidmatan dan butiran bayaran. Butiran-butiran tersebut hendaklah memasukkan jenis perkhidmatan, jumlah bayaran, dan tarikh bayaran.\",\"parameters\":{\"type\":\"object\",\"properties\":{\"service_details\":{\"type\":\"object\",\"properties\":{\"service_type\":{\"type\":\"string\",\"enum\":[\"servis1\",\"servis2\",\"servis3\"],\"description\":\"Jenis perkhidmatan yang ingin dibayar.\"},\"payment_amount\":{\"type\":\"number\",\"description\":\"Jumlah bayaran yang perlu dibuat.\"},\"payment_date\":{\"type\":\"string\",\"format\":\"date\",\"description\":\"Tarikh bayaran yang ditetapkan.\"},\"required\":[\"service_type\",\"payment_amount\",\"payment_date\"]}}},\"required\":[\"service_details\"]}}',\n",
       " 'conversations': [{'role': 'user',\n",
       "   'content': 'Saya perlu cipta bayaran untuk:\\n1. servis1, bayaran RM200, tarikh 2023-12-31\\n2. servis2, bayaran RM150, tarikh 2023-11-15'},\n",
       "  {'role': 'assistant',\n",
       "   'content': '<functioncall> {\"name\":\"GeneratePayment\",\"arguments\":\"{\\\\\"service_details\\\\\": {\\\\\"service_type\\\\\": \\\\\"servis1\\\\\", \\\\\"payment_amount\\\\\": 200, \\\\\"payment_date\\\\\": \\\\\"2023-12-31\\\\\"}},{\\\\\"service_details\\\\\": {\\\\\"service_type\\\\\": \\\\\"servis2\\\\\", \\\\\"payment_amount\\\\\": 150, \\\\\"payment_date\\\\\": \\\\\"2023-11-15\\\\\"}}\"}'}]}"
      ]
     },
     "execution_count": 9,
     "metadata": {},
     "output_type": "execute_result"
    }
   ],
   "source": [
    "r.dict()"
   ]
  },
  {
   "cell_type": "code",
   "execution_count": null,
   "id": "7742e4d0",
   "metadata": {},
   "outputs": [
    {
     "name": "stderr",
     "output_type": "stream",
     "text": [
      "  0%|                                                                                                                   | 0/20000 [00:00<?, ?it/s]/tmp/ipykernel_6494/3863016856.py:11: PydanticDeprecatedSince20: The `dict` method is deprecated; use `model_dump` instead. Deprecated in Pydantic V2.0 to be removed in V3.0. See Pydantic V2 Migration Guide at https://errors.pydantic.dev/2.4/migration/\n",
      "  json.dump(r.dict(), fopen)\n",
      " 43%|█████████████████████████████████████████████▏                                                          | 8693/20000 [12:33<17:48, 10.59it/s]"
     ]
    }
   ],
   "source": [
    "from tqdm import tqdm\n",
    "\n",
    "for i in tqdm(range(20000)):\n",
    "    filename = f'function-call-complex/{i}.json'\n",
    "    if os.path.exists(filename):\n",
    "        continue\n",
    "    \n",
    "    try:\n",
    "        r = predict_instruct(text)\n",
    "        with open(filename, 'w') as fopen:\n",
    "            json.dump(r.dict(), fopen)\n",
    "    except:\n",
    "        pass"
   ]
  },
  {
   "cell_type": "code",
   "execution_count": null,
   "id": "7c986238",
   "metadata": {},
   "outputs": [],
   "source": []
  }
 ],
 "metadata": {
  "kernelspec": {
   "display_name": "3.9",
   "language": "python",
   "name": "3.9"
  },
  "language_info": {
   "codemirror_mode": {
    "name": "ipython",
    "version": 3
   },
   "file_extension": ".py",
   "mimetype": "text/x-python",
   "name": "python",
   "nbconvert_exporter": "python",
   "pygments_lexer": "ipython3",
   "version": "3.9.16"
  }
 },
 "nbformat": 4,
 "nbformat_minor": 5
}
