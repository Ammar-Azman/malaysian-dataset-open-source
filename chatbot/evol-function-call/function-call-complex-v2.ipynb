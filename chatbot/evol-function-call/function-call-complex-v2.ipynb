{
 "cells": [
  {
   "cell_type": "code",
   "execution_count": 1,
   "id": "024caaae",
   "metadata": {},
   "outputs": [
    {
     "name": "stderr",
     "output_type": "stream",
     "text": [
      "/home/husein/3.9/lib/python3.9/site-packages/tqdm/auto.py:21: TqdmWarning: IProgress not found. Please update jupyter and ipywidgets. See https://ipywidgets.readthedocs.io/en/stable/user_install.html\n",
      "  from .autonotebook import tqdm as notebook_tqdm\n",
      "/home/husein/3.9/lib/python3.9/site-packages/malaya/tokenizer.py:214: FutureWarning: Possible nested set at position 3397\n",
      "  self.tok = re.compile(r'({})'.format('|'.join(pipeline)))\n",
      "/home/husein/3.9/lib/python3.9/site-packages/malaya/tokenizer.py:214: FutureWarning: Possible nested set at position 3927\n",
      "  self.tok = re.compile(r'({})'.format('|'.join(pipeline)))\n"
     ]
    }
   ],
   "source": [
    "import pandas as pd\n",
    "import openai\n",
    "import instructor\n",
    "import json\n",
    "import os\n",
    "import malaya\n",
    "from pydantic import BaseModel, Field\n",
    "from typing import List\n",
    "from bs4 import BeautifulSoup\n",
    "from concurrent.futures import ThreadPoolExecutor, as_completed\n",
    "from unidecode import unidecode\n",
    "import re\n",
    "import random\n",
    "\n",
    "minimum_len = 15\n",
    "\n",
    "def simple_cleaning(string):\n",
    "    return re.sub(r'[ ]+', ' ', unidecode(string).replace('\\n', ' ').replace('--', ' ').replace('/', ' ')).strip()"
   ]
  },
  {
   "cell_type": "code",
   "execution_count": 2,
   "id": "189d4043",
   "metadata": {},
   "outputs": [],
   "source": [
    "instructor.patch()"
   ]
  },
  {
   "cell_type": "code",
   "execution_count": 3,
   "id": "b5dd51cd",
   "metadata": {},
   "outputs": [],
   "source": [
    "class ConversationObject(BaseModel):\n",
    "    role: str\n",
    "    content: str = Field('...', description = 'if the role is `assistant`, it must convert user content into function parameter format `<functioncall> {\"name\", \"arguments\"}`')\n",
    "        \n",
    "class JsonObject(BaseModel):\n",
    "    function_call: str\n",
    "    conversations: List[ConversationObject]"
   ]
  },
  {
   "cell_type": "code",
   "execution_count": 4,
   "id": "a6dd02ae",
   "metadata": {},
   "outputs": [],
   "source": [
    "openai.api_type = \"azure\"\n",
    "openai.api_base = \"https://husein-ai5-aiservices1787699516.openai.azure.com/\"\n",
    "openai.api_version = \"2023-07-01-preview\"\n",
    "openai.api_key = ''\n",
    "engine = 'gpt-35-turbo'"
   ]
  },
  {
   "cell_type": "code",
   "execution_count": 5,
   "id": "75bdfcde",
   "metadata": {},
   "outputs": [],
   "source": [
    "def predict(prompt, max_tokens = 1024):\n",
    "    messages=[\n",
    "        {\"role\": \"user\", \"content\": prompt},\n",
    "       \n",
    "    ]\n",
    "    try:\n",
    "        response = openai.ChatCompletion.create(\n",
    "        engine=engine,\n",
    "        messages=messages,\n",
    "        temperature=1.0,\n",
    "        max_tokens=max_tokens,\n",
    "        top_p=0.95,\n",
    "        frequency_penalty=0,\n",
    "        presence_penalty=0,\n",
    "        stop=None\n",
    "        )\n",
    "        return response\n",
    "    except Exception as e:\n",
    "        print(e)\n",
    "        return None\n",
    "    \n",
    "def predict_instruct(text):\n",
    "    r = openai.ChatCompletion.create(\n",
    "        engine=engine,\n",
    "        response_model=JsonObject,\n",
    "        messages=[\n",
    "            {\"role\": \"user\", \"content\": text},\n",
    "        ],\n",
    "        temperature=1.0,\n",
    "        max_tokens=1024,\n",
    "        top_p=0.95,\n",
    "        frequency_penalty=0,\n",
    "        presence_penalty=0,\n",
    "        stop=None\n",
    "    )\n",
    "    return r"
   ]
  },
  {
   "cell_type": "code",
   "execution_count": 6,
   "id": "824b7320",
   "metadata": {},
   "outputs": [],
   "source": [
    "function_call = {\n",
    "    \"name\": \"KG\",\n",
    "    \"description\": \"ekstrak dengan betul `KG` dengan semua parameter yang diperlukan dengan jenis yang betul\",\n",
    "    \"parameters\": {\n",
    "        \"$defs\": {\n",
    "            \"Triplet\": {\n",
    "                \"properties\": {\n",
    "                    \"subject\": {\n",
    "                        \"type\": \"string\"\n",
    "                    },\n",
    "                    \"predicate\": {\n",
    "                        \"type\": \"string\"\n",
    "                    },\n",
    "                    \"object\": {\n",
    "                        \"type\": \"string\"\n",
    "                    }\n",
    "                },\n",
    "                \"required\": [\n",
    "                    \"subject\",\n",
    "                    \"predicate\",\n",
    "                    \"object\"\n",
    "                ],\n",
    "                \"type\": \"object\"\n",
    "            }\n",
    "        },\n",
    "        \"properties\": {\n",
    "            \"triplets\": {\n",
    "                \"items\": {\n",
    "                    \"$ref\": \"#/$defs/Triplet\"\n",
    "                },\n",
    "                \"type\": \"array\"\n",
    "            }\n",
    "        },\n",
    "        \"required\": [\n",
    "            \"triplets\"\n",
    "        ],\n",
    "        \"type\": \"object\"\n",
    "    }\n",
    "}\n",
    "\n",
    "assistant = eval(\n",
    "\"\"\"\n",
    "{\"name\": \"KG\", \"arguments\": {\"triplets\": [{\"subject\": \"Padah\", \"predicate\": \"mempunyai\", \"object\": \"hubungan sulit\"}, {\"subject\": \"hubungan sulit\", \"predicate\": \"dengan\", \"object\": \"pekerja sendiri\"}, {\"subject\": \"Padah\", \"predicate\": \"dipecat\", \"object\": \"CEO McDonald's\"}]}}\n",
    "\"\"\"\n",
    ")\n",
    "assistant = '<functioncall> ' + str(assistant)"
   ]
  },
  {
   "cell_type": "code",
   "execution_count": 7,
   "id": "11dd3585",
   "metadata": {},
   "outputs": [],
   "source": [
    "conversations = [\n",
    "    {\n",
    "        'role': 'user',\n",
    "        'content': \"Padah jalin hubungan sulit dengan pekerja sendiri, CEO McDonald's dipecat serta merta\"\n",
    "    },\n",
    "    {\n",
    "        'role': 'assistant',\n",
    "        'content': assistant,\n",
    "    }\n",
    "]\n",
    "\n",
    "e = {\n",
    "    'function_call': json.dumps(function_call),\n",
    "    'conversations': conversations,\n",
    "}\n",
    "text = f\"\"\"Generate complex Malay function call prompts inspired by the given example. If translation is challenging, use Malaysian terms for variety. Maintain the JSON format, altering only key contents. Follow instructions precisely, avoiding randomness.\n",
    "\n",
    "Code snippet for inspiration:\n",
    "```\n",
    "{e}\n",
    "```\n",
    "\"\"\""
   ]
  },
  {
   "cell_type": "code",
   "execution_count": 8,
   "id": "5565c60b",
   "metadata": {},
   "outputs": [
    {
     "name": "stderr",
     "output_type": "stream",
     "text": [
      "/tmp/ipykernel_9570/2280122559.py:2: PydanticDeprecatedSince20: The `dict` method is deprecated; use `model_dump` instead. Deprecated in Pydantic V2.0 to be removed in V3.0. See Pydantic V2 Migration Guide at https://errors.pydantic.dev/2.4/migration/\n",
      "  r.dict()\n"
     ]
    },
    {
     "data": {
      "text/plain": [
       "{'function_call': '{\"name\":\"KG\",\"description\":\"ekstrak dengan betul `KG` dengan semua parameter yang diperlukan dengan jenis yang betul\",\"parameters\":{\"$defs\":{\"Triplet\":{\"properties\":{\"subject\":{\"type\":\"string\"},\"predicate\":{\"type\":\"string\"},\"object\":{\"type\":\"string\"}},\"required\":[\"subject\",\"predicate\",\"object\"],\"type\":\"object\"}},\"properties\":{\"triplets\":{\"items\":{\"$ref\":\"#/$defs/Triplet\"},\"type\":\"array\"},\"required\":[\"triplets\"],\"type\":\"object\"}}',\n",
       " 'conversations': [{'role': 'user',\n",
       "   'content': 'Jadikanlah musim panas ini terasa lebih sejuk dengan meminum jus mango di tepi pantai yang indah ini'},\n",
       "  {'role': 'assistant', 'content': '...'}]}"
      ]
     },
     "execution_count": 8,
     "metadata": {},
     "output_type": "execute_result"
    }
   ],
   "source": [
    "r = predict_instruct(text)\n",
    "r.dict()"
   ]
  },
  {
   "cell_type": "code",
   "execution_count": 9,
   "id": "36f78b11",
   "metadata": {},
   "outputs": [
    {
     "name": "stdout",
     "output_type": "stream",
     "text": [
      "mkdir: cannot create directory ‘function-call-complex-v2’: File exists\r\n"
     ]
    }
   ],
   "source": [
    "!mkdir function-call-complex-v2"
   ]
  },
  {
   "cell_type": "code",
   "execution_count": null,
   "id": "ada560a1",
   "metadata": {},
   "outputs": [
    {
     "name": "stderr",
     "output_type": "stream",
     "text": [
      "  0%|                                                                                                                   | 0/20000 [00:00<?, ?it/s]/tmp/ipykernel_9570/3318933309.py:11: PydanticDeprecatedSince20: The `dict` method is deprecated; use `model_dump` instead. Deprecated in Pydantic V2.0 to be removed in V3.0. See Pydantic V2 Migration Guide at https://errors.pydantic.dev/2.4/migration/\n",
      "  json.dump(r.dict(), fopen)\n",
      " 41%|██████████████████████████████████████████▌                                                             | 8177/20000 [09:57<14:41, 13.41it/s]"
     ]
    }
   ],
   "source": [
    "from tqdm import tqdm\n",
    "\n",
    "for i in tqdm(range(20000)):\n",
    "    filename = f'function-call-complex-v2/{i}.json'\n",
    "    if os.path.exists(filename):\n",
    "        continue\n",
    "    \n",
    "    try:\n",
    "        r = predict_instruct(text)\n",
    "        with open(filename, 'w') as fopen:\n",
    "            json.dump(r.dict(), fopen)\n",
    "    except:\n",
    "        pass"
   ]
  },
  {
   "cell_type": "code",
   "execution_count": null,
   "id": "ec87ee47",
   "metadata": {},
   "outputs": [],
   "source": []
  }
 ],
 "metadata": {
  "kernelspec": {
   "display_name": "3.9",
   "language": "python",
   "name": "3.9"
  },
  "language_info": {
   "codemirror_mode": {
    "name": "ipython",
    "version": 3
   },
   "file_extension": ".py",
   "mimetype": "text/x-python",
   "name": "python",
   "nbconvert_exporter": "python",
   "pygments_lexer": "ipython3",
   "version": "3.9.16"
  }
 },
 "nbformat": 4,
 "nbformat_minor": 5
}
