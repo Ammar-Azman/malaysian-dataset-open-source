{
 "cells": [
  {
   "cell_type": "code",
   "execution_count": 25,
   "metadata": {},
   "outputs": [],
   "source": [
    "# !wget https://huggingface.co/datasets/TokenBender/code_instructions_122k_alpaca_style/resolve/main/code_instructions_120k.json"
   ]
  },
  {
   "cell_type": "code",
   "execution_count": 2,
   "metadata": {},
   "outputs": [],
   "source": [
    "import json\n",
    "\n",
    "with open('code_instructions_120k.json') as fopen:\n",
    "    data = json.load(fopen)"
   ]
  },
  {
   "cell_type": "code",
   "execution_count": 15,
   "metadata": {},
   "outputs": [],
   "source": [
    "texts = []\n",
    "for d in data:\n",
    "    string = f\"\"\"\n",
    "{d['instruction']}\n",
    "\n",
    "input,\n",
    "```\n",
    "{d['input']}\n",
    "```\n",
    "\n",
    "answer,\n",
    "```\n",
    "{d['output']}\n",
    "```\n",
    "    \"\"\".strip()\n",
    "    texts.append(string)"
   ]
  },
  {
   "cell_type": "code",
   "execution_count": 17,
   "metadata": {},
   "outputs": [
    {
     "data": {
      "text/plain": [
       "121957"
      ]
     },
     "execution_count": 17,
     "metadata": {},
     "output_type": "execute_result"
    }
   ],
   "source": [
    "texts = list(set(texts))\n",
    "len(texts)"
   ]
  },
  {
   "cell_type": "code",
   "execution_count": 18,
   "metadata": {},
   "outputs": [],
   "source": [
    "with open('code_instructions_120k.jsonl', 'w') as fopen:\n",
    "    for d in texts:\n",
    "        fopen.write(f'{json.dumps(d)}\\n')"
   ]
  },
  {
   "cell_type": "code",
   "execution_count": 2,
   "metadata": {},
   "outputs": [
    {
     "name": "stdout",
     "output_type": "stream",
     "text": [
      "{\"src\": \"Generate a Java program to calculate the Fibonacci series.\\n\\ninput,\\n```\\nNone\\n```\\n\\nanswer,\\n```\\nclass Fibonacci {\\n\\n    public static int fib(int n) {\\n        if (n <= 1)\\n            return n;\\n\\n        return fib(n-1) + fib(n-2);\\n    }\\n\\n    public static void main (String args[]) {\\n        int n = 10;\\n        System.out.print(\\\"Fibonacci sequence of \\\" + n + \\\": \\\");\\n        for (int i = 0; i < n; i++) {\\n            System.out.print(fib(i) + \\\" \\\");\\n        }\\n        System.out.println();\\n    }\\n}\\n```\", \"r\": \"Hasilkan program Java untuk mengira siri Fibonacci.\\n\\ninput,\\n```\\nNone\\n```\\n\\nanswer,\\n```\\nclass Fibonacci {\\n\\n    public static int fib(int n) {\\n        if (n <= 1)\\n            return n;\\n\\n        return fib(n-1) + fib(n-2);\\n    }\\n\\n    public static void main (String args[]) {\\n        int n = 10;\\n        System.out.print(\\\"Rangkaian Fibonacci \\\" + n + \\\": \\\");\\n        for (int i = 0; i < n; i++) {\\n            System.out.print(fib(i) + \\\" \\\");\\n        }\\n        System.out.println();\\n    }\\n}\\n```\"}\r\n",
      "{\"src\": \"Write a function to encrypt a given text with a key.\\n\\ninput,\\n```\\nText: \\\"Hello World\\\", Key: \\\"key\\\"\\n```\\n\\nanswer,\\n```\\ndef encrypt(text, key):\\n    encrypted = \\\"\\\"\\n    for i in range(len(text)):\\n        encrypted += chr(ord(text[i]) ^ ord(key[i % len(key)]))\\n    return encrypted\\n```\", \"r\": \"Tulis fungsi untuk menyulitkan teks yang diberikan dengan kunci.\\n\\ninput,\\n```\\nTeks: \\\"Hello World\\\", Key: \\\"key\\\"\\n```\\n\\njawapan,\\n```\\ndef encrypt(text, key):\\n    encrypted = \\\"\\\"\\n    for i in range(len(text)):\\n        encrypted += chr(ord(text[i])  ord(key[i % len(key)]))\\n    return encrypted\\n```\"}\r\n",
      "{\"src\": \"Create a basic HTML page for a blog from a given design mockup.\\n\\ninput,\\n```\\n<img src=\\u201dmockup.jpg\\u201d >\\n```\\n\\nanswer,\\n```\\n<!doctype html>\\n<html>\\n<head>\\n <title>My Blog</title>\\n <style>\\n  body {\\n   font-family: 'Arial', sans-serif;\\n  }\\n  .post {\\n   border: 1px solid #ccc;\\n   padding: 10px;\\n  }\\n  .title {\\n   font-size: 18px;\\n   font-weight: bold;\\n  }\\n  .content {\\n   font-size: 16px;\\n  }\\n  .date {\\n   font-size: 10px;\\n  }\\n </style>\\n</head>\\n<body>\\n <div class=\\\"post\\\">\\n  <div class=\\\"title\\\">My First Post</div>\\n  <div class=\\\"content\\\">\\n   This is the content of my first post.\\n  </div>\\n   <div class=\\\"date\\\">October 1, 2019</div>\\n </div>\\n</body>\\n</html>\\n```\", \"r\": \"Cipta halaman HTML asas untuk blog dari mockup reka bentuk yang diberikan.\\n\\ninput,\\n```\\n<img src=mockup.jpg >\\n```\\n\\nanswer,\\n```\\n<!doctype html>\\n<html>\\n<head>\\n <title>Blog Saya</title>\\n <style>\\n  body {\\n   font-family: 'Arial', sans-serif;\\n  }\\n .post {\\n   border: 1px solid #ccc;\\n   padding: 10px;\\n  }\\n .title {\\n   font-size: 18px;\\n   font-weight: bold;\\n  }\\n .content {\\n   font-size: 16px;\\n  }\\n .date {\\n   font-size: 10px;\\n  }\\n </style>\\n</head>\\n<body>\\n <div class=\\\"post\\\">\\n  <div class=\\\"title\\\">Tubuhan Pertama Saya</div>\\n  <div class=\\\"content\\\">\\n   Ini adalah kandungan pos pertama saya.\\n  </div>\\n   <div class=\\\"date\\\">1 Oktober 2019</div>\\n </div>\\n</body>\\n</html>\\n```\"}\r\n",
      "{\"src\": \"Rewrite the following Javascript code to be more efficient.\\n\\ninput,\\n```\\nfunction sum(numbers) {\\n let result = 0\\n for (let i = 0; i < numbers.length; i++) {\\n result += numbers[i]\\n }\\n return result\\n}\\n```\\n\\nanswer,\\n```\\nfunction sum(numbers) {\\n let result = 0;\\n numbers.forEach(n => result += n);\\n return result;\\n}\\n```\", \"r\": \"Tulis semula kod Javascript berikut untuk lebih cekap.\\n\\ninput,\\n```\\nfunction sum(numbers) {\\n let result = 0\\n for (let i = 0; i < numbers.length; i++) {\\n result += numbers[i]\\n }\\n return result\\n}\\n```\\n\\nanswer,\\n```\\nfunction sum(numbers) {\\n let result = 0;\\n numbers.forEach(n => result += n);\\n return result;\\n}\\n```\"}\r\n",
      "{\"src\": \"Create a function that takes in an array and returns it in sorted order.\\n\\ninput,\\n```\\n[3, 1, 7, 5, 0, 8]\\n```\\n\\nanswer,\\n```\\ndef sort_array(arr):\\n    \\\"\\\"\\\"\\n    Sorts an array in ascending order.\\n\\n    Parameters:\\n    arr (list): the input array\\n\\n    Returns:\\n    list: sorted array\\n    \\\"\\\"\\\"\\n    \\n    # iterate over the array\\n    for i in range(len(arr)):\\n        # find the minimum element in the array\\n        min_idx = i\\n        for j in range(i+1, len(arr)):\\n            if arr[j] < arr[min_idx]:\\n                min_idx = j\\n\\n        # swap the elements\\n        arr[min_idx], arr[i] = arr[i], arr[min_idx]\\n    \\n    return arr\\n```\", \"r\": \"Cipta fungsi yang mengambil dalam array dan mengembalikannya dalam urutan yang diatur.\\n\\ninput,\\n```\\n[3, 1, 7, 5, 0, 8]\\n```\\n\\nanswer,\\n```\\ndef sort_array(arr):\\n    \\\"\\\"\\\"\\n    Mengurutkan array dalam urutan menaik.\\n\\n    Parameters:\\n    arr (list): the input array\\n\\n    Returns:\\n    list: sorted array\\n    \\\"\\\"\\\"\\n    \\n    # mengulangi array\\n    for i in range(len(arr)):\\n        # mencari elemen minimum dalam array\\n        min_idx = i\\n        for j in range(i+1, len(arr)):\\n            if arr[j] < arr[min_idx]:\\n                min_idx = j\\n\\n        # menukar elemen\\n        arr[min_idx], arr[i] = arr[i], arr[min_idx]\\n    \\n    return arr\\n```\"}\r\n",
      "{\"src\": \"Build a regression model in R to predict the number of people visiting a mall on a Sunday.\\n\\ninput,\\n```\\n\\n```\\n\\nanswer,\\n```\\n# import libraries\\nlibrary(tidyverse)\\nlibrary(caret)\\n\\n# load the dataset\\ndf <- read.csv('mall_visitors.csv')\\n\\n# create the model matrix\\nmodel_matrix <- model.matrix(~., data = df) \\n\\n# set the train and test sets\\nset.seed(123)\\ntrain_index = createDataPartition(df$visitors_sunday, p = 0.75, list = FALSE)\\ntrain_set <- df[train_index, ]\\ntest_set <- df[-train_index, ]\\n\\n# fit the model\\nset.seed(123)\\nmodel_fit <- train(visitors_sunday ~., data = train_set, method = 'lm')\\n\\n# make predictions\\ntest_pred <- predict(model_fit, newdata = test_set)\\n\\n# get performance metrics\\nconfusionMatrix(test_set$visitors_sunday, test_pred)\\n```\", \"r\": \"Bina model regresi dalam R untuk meramalkan bilangan orang yang melawat pusat membeli-belah pada hari Ahad.\\n\\ninput,\\n```\\n\\n```\\n\\nanswer,\\n```\\n# import libraries\\nlibrary(tidyverse)\\nlibrary(caret)\\n\\n# muatkan dataset\\ndf <- read.csv('mall_visitors.csv')\\n\\n# cipta matriks model\\nmodel_matrix <- model.matrix(., data = df) \\n\\n# tetapkan set kereta api dan ujian\\nset.seed(123)\\ntrain_index = createDataPartition(df$visitors_sunday, p = 0.75, list = FALSE)\\ntrain_set <- df[train_index, ]\\ntest_set <- df[-train_index, ]\\n\\n# muatkan model\\nset.seed(123)\\nmodel_fit <- train(visitors_sunday., data = train_set, method = 'lm')\\n\\n# buat ramalan\\ntest_pred <- predict(model_fit, newdata = test_set)\\n\\n# dapatkan metrik prestasi\\nconfusionMatrix(test_set$visitors_sunday, test_pred)\\n```\"}\r\n",
      "{\"src\": \"Design a function to find the longest common subsequence between two sequences.\\n\\ninput,\\n```\\n\\\"abcde\\\" and \\\"ace\\\"\\n```\\n\\nanswer,\\n```\\ndef lcs(x, y):\\n    m = len(x)\\n    n = len(y)\\n     \\n    L = [[0]*(n+1) for _ in range(m+1)]\\n \\n    for i in range(m+1):\\n        for j in range(n+1):\\n            if i == 0 or j == 0:\\n                L[i][j] = 0\\n            elif x[i-1] == y[j-1]:\\n                L[i][j] = L[i-1][j-1] + 1\\n            else:\\n                L[i][j] = max(L[i-1][j], L[i][j-1]) \\n \\n    index = L[m][n]\\n \\n    lcs = [\\\"\\\"] * (index+1) \\n    lcs[index] = \\\"\\\" \\n \\n    i = m\\n    j = n\\n    while i > 0 and j > 0: \\n        if x[i-1] == y[j-1]: \\n            lcs[index-1] = x[i-1]\\n            i-=1\\n            j-=1\\n            index-=1\\n        elif L[i-1][j] > L[i][j-1]: \\n            i-=1\\n        else: \\n            j-=1\\n \\n    return \\\"\\\".join(lcs)\\n\\nx = \\\"abcde\\\"\\ny = \\\"ace\\\"\\n\\nprint(lcs(x, y))\\n```\", \"r\": \"Reka bentuk fungsi untuk mencari subsekuensi biasa terpanjang antara dua urutan.\\n\\ninput,\\n```\\n\\\"abcde\\\" dan \\\"ace\\\"\\n```\\n\\nanswer,\\n```\\ndef lcs(x, y):\\n    m = len(x)\\n    n = len(y)\\n     \\n    L = [[0]*(n+1) for _ in range(m+1)]\\n \\n    for i in range(m+1):\\n        for j in range(n+1):\\n            if i == 0 or j == 0:\\n                L[i][j] = 0\\n            elif x[i-1] == y[j-1]:\\n                L[i][j] = L[i-1][j-1] + 1\\n            else:\\n                L[i][j] = max(L[i-1][j], L[i][j-1]) \\n \\n    index = L[m][n]\\n \\n    lcs = [\\\"\\\"] * (index+1) \\n    lcs[index] = \\\"\\\" \\n \\n    i = m\\n    j = n\\n    while i > 0 and j > 0: \\n        if x[i-1] == y[j-1]: \\n            lcs[index-1] = x[i-1]\\n            i-=1\\n            j-=1\\n            index-=1\\n        elif L[i-1][j] > L[i][j-1]: \\n            i-=1\\n        else: \\n            j-=1\\n \\n    return \\\"\\\".join(lcs)\\n\\nx = \\\"abcde\\\"\\ny = \\\"ace\\\"\\n\\nprint(lcs(x, y))\\n```\"}\r\n",
      "{\"src\": \"Correct the syntax error of this for loop in C.\\n\\ninput,\\n```\\nfor(int i = 0; i > 10; i++)\\n    printf(i);\\n```\\n\\nanswer,\\n```\\nfor(int i = 0; i < 10; i++)\\n    printf(\\\"%d\\\", i);\\n```\", \"r\": \"Betulkan ralat sintaks bagi gelung for ini dalam C.\\n\\ninput,\\n```\\nfor(int i = 0; i > 10; i++)\\n    printf(i);\\n```\\n\\nanswer,\\n```\\nfor(int i = 0; i < 10; i++)\\n    printf(\\\"%d\\\", i);\\n```\"}\r\n",
      "{\"src\": \"Create a basic HTML page to register for an online course. The form should have the student's name, email address, course name, and a checkbox to accept the terms and conditions.\\n\\ninput,\\n```\\nNot applicable\\n```\\n\\nanswer,\\n```\\n<html>\\n <head> \\n <title>Online Course Registration</title>\\n </head>\\n <body>\\n <h1>Online Course Registration</h1>\\n <form action=\\\"/register\\\" method=\\\"post\\\">\\n Name: <input type=\\\"text\\\" name=\\\"name\\\" required><br><br>\\n Email: <input type=\\\"email\\\" name=\\\"email\\\" required><br><br>\\n Course Name: <input type=\\\"text\\\" name=\\\"courseName\\\" required><br><br>\\n <input type=\\\"checkbox\\\" name=\\\"agree\\\" value=\\\"agree\\\" required>I agree to the Terms and Conditions<br><br>\\n <input type=\\\"submit\\\" value=\\\"Register\\\">\\n </form>\\n </body>\\n</html>\\n```\", \"r\": \"Cipta halaman HTML asas untuk mendaftar kursus dalam talian. Borang sepatutnya mempunyai nama pelajar, alamat e-mel, nama kursus, dan kotak semak untuk menerima terma dan syarat.\\n\\ninput,\\n```\\nTidak terpakai\\n```\\n\\nanswer,\\n```\\n<html>\\n <head> \\n <title>Pendaftaran Kursus Dalam Talian</title>\\n </head>\\n <body>\\n <h1>Pendaftaran Kursus Dalam Talian</h1>\\n <form action=\\\"/register\\\" method=\\\"post\\\">\\n Name: <input type=\\\"text\\\" name=\\\"name\\\" required><br><br>\\n Email: <input type=\\\"email\\\" name=\\\"email\\\" required><br><br>\\n Course Name: <input type=\\\"text\\\" name=\\\"courseName\\\" required><br><br>\\n <input type=\\\"checkbox\\\" name=\\\"agree\\\" value=\\\"agree\\\" required>Saya bersetuju dengan Syarat dan Syarat<br><br>\\n <input type=\\\"submit\\\" value=\\\"Register\\\">\\n </form>\\n </body>\\n</html>\\n```\"}\r\n",
      "{\"src\": \"Run performance evaluation on a neural network model and optimize the model accordingly.\\n\\ninput,\\n```\\n\\n```\\n\\nanswer,\\n```\\n# Evaluate the model\\nscores = model.evaluate(X_test, y_test, verbose=0)\\nprint(\\\"Accuracy: %.2f%%\\\" % (scores[1]*100))\\n\\n# Optimize the model\\noptimizer = keras.optimizers.Adam(learning_rate=0.001, epsilon=1e-7)\\nmodel.compile(optimizer=optimizer,\\n              loss=keras.losses.BinaryCrossentropy(),\\n              metrics=['accuracy'])\\n```\", \"r\": \"Jalankan penilaian prestasi pada model rangkaian saraf dan optimumkan model mengikut keperluan.\\n\\ninput,\\n```\\n\\n```\\n\\nanswer,\\n```\\n# Nilai model\\nscores = model.evaluate(X_test, y_test, verbose=0)\\nprint(\\\"Ketepatan: %.2f%%\\\" % (scores[1]*100))\\n\\n# Optimumkan model\\noptimizer = keras.optimizers.Adam(learning_rate=0.001, epsilon=1e-7)\\nmodel.compile(optimizer=optimizer,\\n              loss=keras.losses.BinaryCrossentropy(),\\n              metrics=['ketepatan'])\\n```\"}\r\n"
     ]
    }
   ],
   "source": [
    "!head -n 10 code_instructions_120k.jsonl.requested"
   ]
  },
  {
   "cell_type": "code",
   "execution_count": null,
   "metadata": {},
   "outputs": [],
   "source": []
  }
 ],
 "metadata": {
  "kernelspec": {
   "display_name": "Python 3 (ipykernel)",
   "language": "python",
   "name": "python3"
  },
  "language_info": {
   "codemirror_mode": {
    "name": "ipython",
    "version": 3
   },
   "file_extension": ".py",
   "mimetype": "text/x-python",
   "name": "python",
   "nbconvert_exporter": "python",
   "pygments_lexer": "ipython3",
   "version": "3.8.10"
  }
 },
 "nbformat": 4,
 "nbformat_minor": 4
}
