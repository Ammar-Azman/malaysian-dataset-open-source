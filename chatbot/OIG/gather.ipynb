{
 "cells": [
  {
   "cell_type": "code",
   "execution_count": 1,
   "metadata": {},
   "outputs": [
    {
     "data": {
      "text/plain": [
       "['unified_abstract_infill.jsonl00.splitted.requested',\n",
       " 'unified_abstract_infill.jsonl01.splitted.requested',\n",
       " 'unified_abstract_infill.jsonl02.splitted.requested',\n",
       " 'unified_abstract_infill.jsonl03.splitted.requested',\n",
       " 'unified_abstract_infill.jsonl04.splitted.requested']"
      ]
     },
     "execution_count": 1,
     "metadata": {},
     "output_type": "execute_result"
    }
   ],
   "source": [
    "from glob import glob\n",
    "from tqdm import tqdm\n",
    "import json\n",
    "\n",
    "files = glob('unified_abstract_infill.jsonl*.splitted.requested')\n",
    "files"
   ]
  },
  {
   "cell_type": "code",
   "execution_count": 2,
   "metadata": {},
   "outputs": [],
   "source": [
    "data = []\n",
    "with open(files[0]) as fopen:\n",
    "    for l in fopen:\n",
    "        data.append(json.loads(l))\n",
    "        if len(data) == 10:\n",
    "            break"
   ]
  },
  {
   "cell_type": "code",
   "execution_count": 8,
   "metadata": {},
   "outputs": [],
   "source": [
    "splitted = data[0]['r']['result'].split('<bot>:')\n",
    "pairs = []\n",
    "for i in range(len(splitted) - 1):\n",
    "    if i == 0:\n",
    "        human = splitted[i].replace('<manusia>:', '')\n",
    "    else:\n",
    "        human = splitted[i].split('<manusia>:')[1]\n",
    "    bot = splitted[i + 1].split('<manusia>:')[0]\n",
    "    pairs.append((human.strip(), bot.strip()))"
   ]
  },
  {
   "cell_type": "code",
   "execution_count": 9,
   "metadata": {},
   "outputs": [
    {
     "data": {
      "text/plain": [
       "[('Tulis saya artikel tentang imigresen Czech, Perang Dunia I, membincangkan secara terperinci sekitar 40,000, Gran La Plata dalam satu perenggan. Akhiri dengan ayat tentang orang Czech, Buenos Aires.',\n",
       "  'Imigrasi Czech ke Argentina bermula semasa Perang Dunia I dan dibahagikan dalam empat tempoh. Dianggarkan kira-kira 40,000 orang Czech tiba di Argentina antara masa itu dan 1970. Argentina mempunyai komuniti Czech terbesar. Orang Czech menetap terutamanya di Buenos Aires, Gran La Plata, Rosario dan Chaco.'),\n",
       " ('Bilakah orang Czech menetap di Argentina?',\n",
       "  'Czech di Argentina Imigresen Czech di Argentina bermula semasa Perang Dunia 1 dan ia berpecah dalam empat tempoh.'),\n",
       " ('Apa yang menyebabkan perpecahan?',\n",
       "  'Dianggarkan kira-kira 40,000 orang Czech tiba ke Argentina sehingga 1970.'),\n",
       " ('teruskan', 'Argentina mempunyai komuniti Czech terbesar di Amerika Latin.'),\n",
       " ('Di manakah majoriti menetap?',\n",
       "  'Orang Czech menetap terutamanya di Buenos Aires, Gran La Plata, Rosario dan Chaco.'),\n",
       " ('Tempoh apa yang mereka selesaikan?',\n",
       "  'Terdapat empat tempoh imigresen Czech di Argentina.'),\n",
       " ('Apa yang menyebabkan ini?',\n",
       "  'Yang pertama adalah sebelum Perang Dunia 1, yang kedua dari 1920 hingga 1930, yang ketiga semasa Perang Dunia 2 dan yang keempat, yang paling kecil dalam perkadaran penghijrahan, semasa 1990. Semasa dua yang pertama Dalam tempoh tertentu, kumpulan imigresen terutamanya disepadukan oleh pekerja dan petani yang didorong oleh sebab ekonomi.')]"
      ]
     },
     "execution_count": 9,
     "metadata": {},
     "output_type": "execute_result"
    }
   ],
   "source": [
    "pairs"
   ]
  },
  {
   "cell_type": "code",
   "execution_count": 60,
   "metadata": {},
   "outputs": [
    {
     "name": "stderr",
     "output_type": "stream",
     "text": [
      "46939it [00:01, 34482.10it/s]\n",
      "46787it [00:01, 35675.55it/s]\n",
      "46877it [00:01, 38200.17it/s]\n",
      "46896it [00:01, 31573.25it/s]\n",
      "30137it [00:00, 40790.18it/s]\n"
     ]
    }
   ],
   "source": [
    "with open('unified_abstract_infill.translated.jsonl', 'w') as fopen_l:\n",
    "    for f in files:\n",
    "        with open(f) as fopen:\n",
    "            for l in tqdm(fopen):\n",
    "                data = json.loads(l)\n",
    "                fopen_l.write(f'{json.dumps(data)}\\n')"
   ]
  },
  {
   "cell_type": "code",
   "execution_count": 61,
   "metadata": {},
   "outputs": [
    {
     "data": {
      "text/plain": [
       "['unified_chip2.jsonl02.splitted.requested',\n",
       " 'unified_chip2.jsonl01.splitted.requested',\n",
       " 'unified_chip2.jsonl03.splitted.requested',\n",
       " 'unified_chip2.jsonl04.splitted.requested',\n",
       " 'unified_chip2.jsonl00.splitted.requested']"
      ]
     },
     "execution_count": 61,
     "metadata": {},
     "output_type": "execute_result"
    }
   ],
   "source": [
    "files = glob('unified_chip2.jsonl*.splitted.requested')\n",
    "files"
   ]
  },
  {
   "cell_type": "code",
   "execution_count": 62,
   "metadata": {},
   "outputs": [
    {
     "name": "stderr",
     "output_type": "stream",
     "text": [
      "50000it [00:00, 129186.84it/s]\n",
      "50000it [00:00, 125751.76it/s]\n",
      "50000it [00:00, 130041.91it/s]\n",
      "10289it [00:00, 130076.03it/s]\n",
      "50000it [00:00, 130056.26it/s]\n"
     ]
    }
   ],
   "source": [
    "with open('unified_chip2.translated.jsonl', 'w') as fopen_l:\n",
    "    for f in files:\n",
    "        with open(f) as fopen:\n",
    "            for l in tqdm(fopen):\n",
    "                data = json.loads(l)\n",
    "                fopen_l.write(f'{json.dumps(data)}\\n')"
   ]
  },
  {
   "cell_type": "code",
   "execution_count": 63,
   "metadata": {},
   "outputs": [
    {
     "name": "stdout",
     "output_type": "stream",
     "text": [
      "{\"src\": {\"text\": \"<human>: Of the 20 available cars for rent, 12 are automatic cars, 4 are manual cars, and the rest are semi-automatic. What percentage of the cars are semi-automatic?\\n<bot>: How many cars are automatic or manual? ** 12 + 4 = <<12+4=16>>16 cars are either automatic or manual.\\nHow many cars are semi-automatic? ** So, 20 - 16 = <<20-16=4>>4 cars are semi-automatic.\\nWhat percentage of the cars are semi-automatic? ** Therefore, the percentage of semi-automatic cars is 4/20 x 100% = 20%.\\n#### 20\", \"metadata\": {\"source\": \"unified_chip2\"}}, \"r\": {\"result\": \"<manusia>: Daripada 20 kereta yang tersedia untuk disewa, 12 adalah kereta automatik, 4 adalah kereta manual dan selebihnya adalah separa automatik. Berapakah peratusan kereta separa automatik?\\n<bot>: Berapakah bilangan kereta automatik atau manual? ** 12 + 4 = <<12+4=16>>16 kereta sama ada automatik atau manual.\\nBerapakah bilangan kereta separa automatik? ** Jadi, 20 - 16 = <<20-16=4>>4 kereta adalah separa automatik.\\nBerapakah peratusan kereta separa automatik? ** Oleh itu, peratusan kereta separa automatik ialah 4/20 x 100% = 20%.\\n#### 20\", \"pronunciation\": \"undefined\", \"from\": {}}}\r\n",
      "{\"src\": {\"text\": \"<human>: Is it possible to make my own e-cigarette?\\n<bot>: Yes, it is possible to make your own e-cigarette. You will need a few basic supplies such as a battery, a coil, and some liquid nicotine or e-liquid. You can also purchase pre-made e-cigarettes online if you prefer.\", \"metadata\": {\"source\": \"unified_chip2\"}}, \"r\": {\"result\": \"<manusia>: Adakah mungkin untuk membuat e-rokok saya sendiri?\\n<bot>: Ya, adalah mungkin untuk membuat e-rokok anda sendiri. Anda memerlukan beberapa bekalan asas seperti bateri, gegelung dan beberapa cecair nikotin atau e-cecair. Anda juga boleh membeli e-rokok pra-buat dalam talian jika anda mahu.\", \"pronunciation\": \"undefined\", \"from\": {}}}\r\n"
     ]
    }
   ],
   "source": [
    "!head -n 2 unified_chip2.translated.jsonl"
   ]
  },
  {
   "cell_type": "code",
   "execution_count": 11,
   "metadata": {},
   "outputs": [
    {
     "name": "stdout",
     "output_type": "stream",
     "text": [
      "a b\n"
     ]
    }
   ],
   "source": [
    "for input, output in zip(['a'], ['b']):\n",
    "    print(input, output)"
   ]
  },
  {
   "cell_type": "code",
   "execution_count": null,
   "metadata": {},
   "outputs": [],
   "source": []
  }
 ],
 "metadata": {
  "kernelspec": {
   "display_name": "Python 3 (ipykernel)",
   "language": "python",
   "name": "python3"
  },
  "language_info": {
   "codemirror_mode": {
    "name": "ipython",
    "version": 3
   },
   "file_extension": ".py",
   "mimetype": "text/x-python",
   "name": "python",
   "nbconvert_exporter": "python",
   "pygments_lexer": "ipython3",
   "version": "3.8.10"
  }
 },
 "nbformat": 4,
 "nbformat_minor": 4
}
