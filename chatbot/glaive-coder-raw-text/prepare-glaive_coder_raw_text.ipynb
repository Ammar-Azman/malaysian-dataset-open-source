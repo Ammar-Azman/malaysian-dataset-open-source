{
 "cells": [
  {
   "cell_type": "code",
   "execution_count": 1,
   "metadata": {},
   "outputs": [],
   "source": [
    "# !wget https://huggingface.co/datasets/TokenBender/glaive_coder_raw_text/resolve/main/glaive_dataset_recreated.parquet"
   ]
  },
  {
   "cell_type": "code",
   "execution_count": 2,
   "metadata": {},
   "outputs": [
    {
     "data": {
      "text/html": [
       "<div>\n",
       "<style scoped>\n",
       "    .dataframe tbody tr th:only-of-type {\n",
       "        vertical-align: middle;\n",
       "    }\n",
       "\n",
       "    .dataframe tbody tr th {\n",
       "        vertical-align: top;\n",
       "    }\n",
       "\n",
       "    .dataframe thead th {\n",
       "        text-align: right;\n",
       "    }\n",
       "</style>\n",
       "<table border=\"1\" class=\"dataframe\">\n",
       "  <thead>\n",
       "    <tr style=\"text-align: right;\">\n",
       "      <th></th>\n",
       "      <th>instruction</th>\n",
       "      <th>input</th>\n",
       "      <th>output</th>\n",
       "      <th>text</th>\n",
       "    </tr>\n",
       "  </thead>\n",
       "  <tbody>\n",
       "    <tr>\n",
       "      <th>0</th>\n",
       "      <td>How can I output bold text in Bash? I have a B...</td>\n",
       "      <td></td>\n",
       "      <td>Yes, you can format the output text in Bash to...</td>\n",
       "      <td>### Instruction: How can I output bold text in...</td>\n",
       "    </tr>\n",
       "    <tr>\n",
       "      <th>1</th>\n",
       "      <td>How can I install Python 3 on an AWS EC2 insta...</td>\n",
       "      <td></td>\n",
       "      <td>To install Python 3 on an AWS EC2 instance, yo...</td>\n",
       "      <td>### Instruction: How can I install Python 3 on...</td>\n",
       "    </tr>\n",
       "    <tr>\n",
       "      <th>2</th>\n",
       "      <td>How can I format the elapsed time from seconds...</td>\n",
       "      <td></td>\n",
       "      <td>You can achieve the desired time format using ...</td>\n",
       "      <td>### Instruction: How can I format the elapsed ...</td>\n",
       "    </tr>\n",
       "    <tr>\n",
       "      <th>3</th>\n",
       "      <td>I am trying to create a matrix of random numbe...</td>\n",
       "      <td></td>\n",
       "      <td>Your current implementation is actually quite ...</td>\n",
       "      <td>### Instruction: I am trying to create a matri...</td>\n",
       "    </tr>\n",
       "    <tr>\n",
       "      <th>4</th>\n",
       "      <td>I am learning Python and have noticed extensiv...</td>\n",
       "      <td></td>\n",
       "      <td>The use of 'self' in Python is quite different...</td>\n",
       "      <td>### Instruction: I am learning Python and have...</td>\n",
       "    </tr>\n",
       "  </tbody>\n",
       "</table>\n",
       "</div>"
      ],
      "text/plain": [
       "                                         instruction input  \\\n",
       "0  How can I output bold text in Bash? I have a B...         \n",
       "1  How can I install Python 3 on an AWS EC2 insta...         \n",
       "2  How can I format the elapsed time from seconds...         \n",
       "3  I am trying to create a matrix of random numbe...         \n",
       "4  I am learning Python and have noticed extensiv...         \n",
       "\n",
       "                                              output  \\\n",
       "0  Yes, you can format the output text in Bash to...   \n",
       "1  To install Python 3 on an AWS EC2 instance, yo...   \n",
       "2  You can achieve the desired time format using ...   \n",
       "3  Your current implementation is actually quite ...   \n",
       "4  The use of 'self' in Python is quite different...   \n",
       "\n",
       "                                                text  \n",
       "0  ### Instruction: How can I output bold text in...  \n",
       "1  ### Instruction: How can I install Python 3 on...  \n",
       "2  ### Instruction: How can I format the elapsed ...  \n",
       "3  ### Instruction: I am trying to create a matri...  \n",
       "4  ### Instruction: I am learning Python and have...  "
      ]
     },
     "execution_count": 2,
     "metadata": {},
     "output_type": "execute_result"
    }
   ],
   "source": [
    "import pandas as pd\n",
    "import json\n",
    "\n",
    "df = pd.read_parquet('glaive_dataset_recreated.parquet')\n",
    "df.head()"
   ]
  },
  {
   "cell_type": "code",
   "execution_count": 3,
   "metadata": {},
   "outputs": [
    {
     "data": {
      "text/plain": [
       "272218"
      ]
     },
     "execution_count": 3,
     "metadata": {},
     "output_type": "execute_result"
    }
   ],
   "source": [
    "texts = []\n",
    "for i in range(len(df)):\n",
    "    texts.extend([df['instruction'].iloc[i], df['output'].iloc[i]])\n",
    "    \n",
    "len(texts)"
   ]
  },
  {
   "cell_type": "code",
   "execution_count": 4,
   "metadata": {},
   "outputs": [
    {
     "data": {
      "text/plain": [
       "271672"
      ]
     },
     "execution_count": 4,
     "metadata": {},
     "output_type": "execute_result"
    }
   ],
   "source": [
    "texts = list(set(texts))\n",
    "len(texts)"
   ]
  },
  {
   "cell_type": "code",
   "execution_count": 5,
   "metadata": {},
   "outputs": [],
   "source": [
    "with open('glaive_coder_raw_text.jsonl', 'w') as fopen:\n",
    "    for d in texts:\n",
    "        fopen.write(f'{json.dumps(d)}\\n')"
   ]
  },
  {
   "cell_type": "code",
   "execution_count": 6,
   "metadata": {},
   "outputs": [
    {
     "name": "stdout",
     "output_type": "stream",
     "text": [
      "{\"src\": \"I've been experimenting with bound and unbound methods in Python, and I'm having trouble understanding the behavior of the `id()` function when applied to these methods. Specifically, I have a class `C` with a method `foo`. When I call `id()` on `C.foo` and on an instance `cobj.foo`, I get the same id. However, when I assign these to variables `a` and `b` and then call `id()`, I get different ids. Why is this? Aren't `C.foo` and `cobj.foo` different objects? What is the difference between the id of a bound method and an unbound method?\\n\\n```python\\nClass C(object):\\n    def foo(self):\\n        pass\\n\\ncobj = C()\\n\\nprint id(C.foo)    #1\\nprint id(cobj.foo) #2\\n\\na = C.foo\\nb = cobj.foo\\n\\nprint id(a)        #3\\nprint id(b)        #4\\n```\\n\\nOutput:\\n\\n```python\\n5671672\\n5671672\\n5671672\\n5669368\\n``` The difference you're seeing is due to the way Python handles bound and unbound methods.\\n\\nIn Python, a function becomes a bound method when it is accessed through an instance of a class. It is an unbound method when it is accessed through the class itself. When a method is bound, it automatically receives the instance as its first argument (typically named `self`).\\n\\n`C.foo` is an unbound method and `cobj.foo` is a bound method. When you access `cobj.foo`, Python creates a temporary bound method object which is then passed to `id()`. However, this temporary object is not kept around and a new one may be created the next time you access `cobj.foo`. That is why `id(cobj.foo)` and `id(a)` produce the same id.\\n\\nWhen you assign `cobj.foo` to `b`, Python creates a new bound method object which persists as long as `b` exists. This object is different from the temporary one created earlier, so `id(b)` produces a different id.\\n\\nHere's the code:\\n\\n```python\\nclass C(object):\\n    def foo(self):\\n        pass\\n\\ncobj = C()\\n\\nprint(id(C.foo))    # Unbound method\\nprint(id(cobj.foo)) # Temporary bound method\\n\\na = C.foo\\nb = cobj.foo\\n\\nprint(id(a))        # Unbound method (same as first)\\nprint(id(b))        # Persistent bound method (different from second)\\n```\\n\\nThe output will typically show the same id for the first three calls (unbound method, temporary bound method, unbound method) and a different id for the last call (persistent bound method).\", \"r\": \"Saya telah bereksperimen dengan kaedah yang diikat dan tidak terikat dalam Python, dan saya mengalami masalah untuk memahami tingkah laku fungsi `id()` apabila digunakan pada kaedah-kaedah ini. Secara khusus, saya mempunyai kelas `C` dengan kaedah `foo`. Apabila saya memanggil `id()` pada `C.foo` dan pada contoh `cobj.foo`, saya mendapat id yang sama. Walau bagaimanapun, apabila saya menetapkan ini kepada pembolehubah `a` dan `b` dan kemudian memanggil `id()`, saya mendapat id yang berbeza. Mengapa ini? Bukankah `C.foo` dan `cobj.foo` objek yang berbeza? Apakah perbezaan antara id kaedah yang diikat dan kaedah yang tidak terikat?\\n\\n```python\\nClass C(object):\\n    def foo(self):\\n        pass\\n\\ncobj = C()\\n\\nprint id(C.foo)    #1\\nprint id(cobj.foo) #2\\n\\na = C.foo\\nb = cobj.foo\\n\\nprint id(a)        #3\\nprint id(b)        #4\\n```\\n\\nOutput:\\n\\n```python\\n5671672\\n5671672\\n5671672\\n5669368\\n``` Perbezaan yang anda lihat adalah disebabkan oleh cara Python mengendalikan kaedah yang diikat dan tidak terikat.\\n\\nDalam Python, fungsi menjadi kaedah yang diikat apabila ia diakses melalui contoh kelas. Ia adalah kaedah yang tidak terikat apabila ia diakses melalui kelas itu sendiri. Apabila kaedah diikat, ia secara automatik menerima contoh sebagai argumen pertamanya (biasanya dinamakan `self`).\\n\\n`C.foo` adalah kaedah yang tidak terikat dan `cobj.foo` adalah kaedah yang diikat. Apabila anda mengakses `cobj.foo`, Python mencipta objek kaedah yang diikat sementara yang kemudian dipindahkan ke `id()`. Walau bagaimanapun, objek sementara ini tidak disimpan dan yang baru mungkin dicipta pada kali seterusnya anda mengakses `cobj.foo`. Itulah sebabnya `id(cobj.foo)` dan `id(a)` menghasilkan id yang sama.\\n\\nApabila anda menetapkan `cobj.foo` kepada `b`, Python mencipta objek kaedah yang diikat baru yang berterusan selagi `b` wujud. Objek ini berbeza daripada yang sementara yang dicipta lebih awal, jadi `id(b)` menghasilkan id yang berbeza.\\n\\nBerikut adalah kod:\\n\\n```python\\nclass C(object):\\n    def foo(self):\\n        pass\\n\\ncobj = C()\\n\\nprint(id(C.foo))    # Kaedah yang tidak diikat\\nprint(id(cobj.foo)) # Kaedah yang diikat sementara\\n\\na = C.foo\\nb = cobj.foo\\n\\nprint(id(a))        # Kaedah yang tidak diikat (sama seperti dahulu)\\nprint(id(b))        # Kaedah terikat yang konsisten (berbeza dari kedua)\\n```\\n\\nOutput biasanya akan menunjukkan id yang sama untuk tiga panggilan pertama (kaedah yang tidak terikat, kaedah terikat sementara, kaedah yang tidak terikat) dan id yang berbeza untuk panggilan terakhir (kaedah terikat konsisten).\"}\r\n"
     ]
    }
   ],
   "source": [
    "!head -n 1 glaive_coder_raw_text.jsonl.requested"
   ]
  },
  {
   "cell_type": "code",
   "execution_count": 7,
   "metadata": {},
   "outputs": [],
   "source": [
    "!split -l 100000 -d --additional-suffix=.splitted glaive_coder_raw_text.jsonl glaive_coder_raw_text.jsonl"
   ]
  }
 ],
 "metadata": {
  "kernelspec": {
   "display_name": "Python 3 (ipykernel)",
   "language": "python",
   "name": "python3"
  },
  "language_info": {
   "codemirror_mode": {
    "name": "ipython",
    "version": 3
   },
   "file_extension": ".py",
   "mimetype": "text/x-python",
   "name": "python",
   "nbconvert_exporter": "python",
   "pygments_lexer": "ipython3",
   "version": "3.8.10"
  }
 },
 "nbformat": 4,
 "nbformat_minor": 4
}
