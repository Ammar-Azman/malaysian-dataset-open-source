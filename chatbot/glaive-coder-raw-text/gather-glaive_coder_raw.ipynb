{
 "cells": [
  {
   "cell_type": "code",
   "execution_count": 1,
   "metadata": {},
   "outputs": [],
   "source": [
    "# !wget https://huggingface.co/datasets/TokenBender/glaive_coder_raw_text/resolve/main/glaive_dataset_recreated.parquet"
   ]
  },
  {
   "cell_type": "code",
   "execution_count": 2,
   "metadata": {},
   "outputs": [
    {
     "data": {
      "text/html": [
       "<div>\n",
       "<style scoped>\n",
       "    .dataframe tbody tr th:only-of-type {\n",
       "        vertical-align: middle;\n",
       "    }\n",
       "\n",
       "    .dataframe tbody tr th {\n",
       "        vertical-align: top;\n",
       "    }\n",
       "\n",
       "    .dataframe thead th {\n",
       "        text-align: right;\n",
       "    }\n",
       "</style>\n",
       "<table border=\"1\" class=\"dataframe\">\n",
       "  <thead>\n",
       "    <tr style=\"text-align: right;\">\n",
       "      <th></th>\n",
       "      <th>instruction</th>\n",
       "      <th>input</th>\n",
       "      <th>output</th>\n",
       "      <th>text</th>\n",
       "    </tr>\n",
       "  </thead>\n",
       "  <tbody>\n",
       "    <tr>\n",
       "      <th>0</th>\n",
       "      <td>How can I output bold text in Bash? I have a B...</td>\n",
       "      <td></td>\n",
       "      <td>Yes, you can format the output text in Bash to...</td>\n",
       "      <td>### Instruction: How can I output bold text in...</td>\n",
       "    </tr>\n",
       "    <tr>\n",
       "      <th>1</th>\n",
       "      <td>How can I install Python 3 on an AWS EC2 insta...</td>\n",
       "      <td></td>\n",
       "      <td>To install Python 3 on an AWS EC2 instance, yo...</td>\n",
       "      <td>### Instruction: How can I install Python 3 on...</td>\n",
       "    </tr>\n",
       "    <tr>\n",
       "      <th>2</th>\n",
       "      <td>How can I format the elapsed time from seconds...</td>\n",
       "      <td></td>\n",
       "      <td>You can achieve the desired time format using ...</td>\n",
       "      <td>### Instruction: How can I format the elapsed ...</td>\n",
       "    </tr>\n",
       "    <tr>\n",
       "      <th>3</th>\n",
       "      <td>I am trying to create a matrix of random numbe...</td>\n",
       "      <td></td>\n",
       "      <td>Your current implementation is actually quite ...</td>\n",
       "      <td>### Instruction: I am trying to create a matri...</td>\n",
       "    </tr>\n",
       "    <tr>\n",
       "      <th>4</th>\n",
       "      <td>I am learning Python and have noticed extensiv...</td>\n",
       "      <td></td>\n",
       "      <td>The use of 'self' in Python is quite different...</td>\n",
       "      <td>### Instruction: I am learning Python and have...</td>\n",
       "    </tr>\n",
       "  </tbody>\n",
       "</table>\n",
       "</div>"
      ],
      "text/plain": [
       "                                         instruction input  \\\n",
       "0  How can I output bold text in Bash? I have a B...         \n",
       "1  How can I install Python 3 on an AWS EC2 insta...         \n",
       "2  How can I format the elapsed time from seconds...         \n",
       "3  I am trying to create a matrix of random numbe...         \n",
       "4  I am learning Python and have noticed extensiv...         \n",
       "\n",
       "                                              output  \\\n",
       "0  Yes, you can format the output text in Bash to...   \n",
       "1  To install Python 3 on an AWS EC2 instance, yo...   \n",
       "2  You can achieve the desired time format using ...   \n",
       "3  Your current implementation is actually quite ...   \n",
       "4  The use of 'self' in Python is quite different...   \n",
       "\n",
       "                                                text  \n",
       "0  ### Instruction: How can I output bold text in...  \n",
       "1  ### Instruction: How can I install Python 3 on...  \n",
       "2  ### Instruction: How can I format the elapsed ...  \n",
       "3  ### Instruction: I am trying to create a matri...  \n",
       "4  ### Instruction: I am learning Python and have...  "
      ]
     },
     "execution_count": 2,
     "metadata": {},
     "output_type": "execute_result"
    }
   ],
   "source": [
    "import pandas as pd\n",
    "import json\n",
    "\n",
    "df = pd.read_parquet('glaive_dataset_recreated.parquet')\n",
    "df.head()"
   ]
  },
  {
   "cell_type": "code",
   "execution_count": 10,
   "metadata": {},
   "outputs": [
    {
     "data": {
      "text/plain": [
       "271656"
      ]
     },
     "execution_count": 10,
     "metadata": {},
     "output_type": "execute_result"
    }
   ],
   "source": [
    "from glob import glob\n",
    "\n",
    "files = glob('glaive_coder_raw_text.jsonl*.splitted.requested')\n",
    "files\n",
    "\n",
    "mapping = {}\n",
    "for f in files:\n",
    "    with open(f) as fopen:\n",
    "        for l in fopen:\n",
    "            l = json.loads(l)\n",
    "            mapping[l['src']] = l['r']\n",
    "len(mapping)"
   ]
  },
  {
   "cell_type": "code",
   "execution_count": 11,
   "metadata": {},
   "outputs": [
    {
     "data": {
      "text/plain": [
       "{'instruction': 'How can I output bold text in Bash? I have a Bash script that prints some text to the screen using the `echo \"Some Text\"` command. Is there a way I can format the text to make it bold?',\n",
       " 'input': '',\n",
       " 'output': 'Yes, you can format the output text in Bash to make it bold. Bash allows you to use special escape sequences for text decoration. To make some text bold in bash, you would use the escape sequence `\\\\033[1m`, and to reset the formatting, you would use `\\\\033[0m`. \\n\\nHere\\'s how you can update your `echo` statement to print bold text:\\n\\n```bash\\necho -e \"\\\\033[1mSome Text\\\\033[0m\"\\n```\\n\\nIn this code:\\n\\n- The `-e` option of `echo` allows the interpretation of backslash escapes.\\n- The `\\\\033[1m` sequence sets the text to be bold.\\n- The `Some Text` part is the actual text that will be printed in bold.\\n- The `\\\\033[0m` sequence resets the text formatting to the default, so anything printed afterwards will be in the default format.\\n\\nRemember that these escape sequences may not work in all terminals and circumstances, but they should work in most common situations.',\n",
       " 'text': '### Instruction: How can I output bold text in Bash? I have a Bash script that prints some text to the screen using the `echo \"Some Text\"` command. Is there a way I can format the text to make it bold?\\n ### Response: Yes, you can format the output text in Bash to make it bold. Bash allows you to use special escape sequences for text decoration. To make some text bold in bash, you would use the escape sequence `\\\\033[1m`, and to reset the formatting, you would use `\\\\033[0m`. \\n\\nHere\\'s how you can update your `echo` statement to print bold text:\\n\\n```bash\\necho -e \"\\\\033[1mSome Text\\\\033[0m\"\\n```\\n\\nIn this code:\\n\\n- The `-e` option of `echo` allows the interpretation of backslash escapes.\\n- The `\\\\033[1m` sequence sets the text to be bold.\\n- The `Some Text` part is the actual text that will be printed in bold.\\n- The `\\\\033[0m` sequence resets the text formatting to the default, so anything printed afterwards will be in the default format.\\n\\nRemember that these escape sequences may not work in all terminals and circumstances, but they should work in most common situations.\\n'}"
      ]
     },
     "execution_count": 11,
     "metadata": {},
     "output_type": "execute_result"
    }
   ],
   "source": [
    "df.iloc[0].to_dict()"
   ]
  },
  {
   "cell_type": "code",
   "execution_count": null,
   "metadata": {},
   "outputs": [],
   "source": [
    "with open('glaive_dataset_recreated.translated.jsonl', 'w') as fopen:\n",
    "    for i in range(len(df)):\n",
    "        row = df.iloc[i].to_dict()\n",
    "        row['instruction_ms'] = mapping.get(row['instruction'])\n",
    "        row['output_ms'] = mapping.get(row['output'])\n",
    "        fopen.write(f'{json.dumps(row)}\\n')"
   ]
  }
 ],
 "metadata": {
  "kernelspec": {
   "display_name": "Python 3 (ipykernel)",
   "language": "python",
   "name": "python3"
  },
  "language_info": {
   "codemirror_mode": {
    "name": "ipython",
    "version": 3
   },
   "file_extension": ".py",
   "mimetype": "text/x-python",
   "name": "python",
   "nbconvert_exporter": "python",
   "pygments_lexer": "ipython3",
   "version": "3.8.10"
  }
 },
 "nbformat": 4,
 "nbformat_minor": 4
}
