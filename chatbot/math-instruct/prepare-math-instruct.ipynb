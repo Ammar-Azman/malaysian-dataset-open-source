{
 "cells": [
  {
   "cell_type": "code",
   "execution_count": 2,
   "metadata": {},
   "outputs": [],
   "source": [
    "# !wget https://huggingface.co/datasets/TIGER-Lab/MathInstruct/resolve/main/MathInstruct.json"
   ]
  },
  {
   "cell_type": "code",
   "execution_count": 3,
   "metadata": {},
   "outputs": [
    {
     "name": "stdout",
     "output_type": "stream",
     "text": [
      "1310201 MathInstruct.json\r\n"
     ]
    }
   ],
   "source": [
    "!wc -l MathInstruct.json"
   ]
  },
  {
   "cell_type": "code",
   "execution_count": 5,
   "metadata": {},
   "outputs": [],
   "source": [
    "import json\n",
    "\n",
    "with open('MathInstruct.json') as fopen:\n",
    "    data = json.load(fopen)"
   ]
  },
  {
   "cell_type": "code",
   "execution_count": 6,
   "metadata": {},
   "outputs": [
    {
     "data": {
      "text/plain": [
       "262040"
      ]
     },
     "execution_count": 6,
     "metadata": {},
     "output_type": "execute_result"
    }
   ],
   "source": [
    "len(data)"
   ]
  },
  {
   "cell_type": "code",
   "execution_count": 8,
   "metadata": {},
   "outputs": [],
   "source": [
    "with open('math-instruct.jsonl', 'w') as fopen:\n",
    "    for d in data:\n",
    "        s = f\"{d['instruction']}. {d['output']}\"\n",
    "        fopen.write(f'{json.dumps(s)}\\n')"
   ]
  },
  {
   "cell_type": "code",
   "execution_count": 9,
   "metadata": {},
   "outputs": [
    {
     "name": "stdout",
     "output_type": "stream",
     "text": [
      "\"The distance between two stars is 6.52 \\u00d7 10^5 light years. What is the distance between the two stars in parsecs? (1 parsec = 3.26 light years)\\nAnswer Choices: (A) 2 \\u00d7 10^5 (B) 4 \\u00d7 10^6 (C) 5 \\u00d7 10^7 (D) 7 \\u00d7 10^7 (E) 9 \\u00d7 10^8. Let's think about the multi-choice question.\\n6.52 \\u00d7 10^5 ly / (3.26 ly/parsec) = 2 x 10^5 persec\\nThe answer is A.\"\r\n"
     ]
    }
   ],
   "source": [
    "!head -n 1 math-instruct.jsonl"
   ]
  },
  {
   "cell_type": "code",
   "execution_count": 10,
   "metadata": {},
   "outputs": [
    {
     "name": "stdout",
     "output_type": "stream",
     "text": [
      "262040 math-instruct.jsonl\r\n"
     ]
    }
   ],
   "source": [
    "!wc -l math-instruct.jsonl"
   ]
  },
  {
   "cell_type": "code",
   "execution_count": 11,
   "metadata": {},
   "outputs": [],
   "source": [
    "!split -l 50000 -d --additional-suffix=.splitted math-instruct.jsonl math-instruct.jsonl"
   ]
  },
  {
   "cell_type": "code",
   "execution_count": null,
   "metadata": {},
   "outputs": [],
   "source": []
  }
 ],
 "metadata": {
  "kernelspec": {
   "display_name": "Python 3 (ipykernel)",
   "language": "python",
   "name": "python3"
  },
  "language_info": {
   "codemirror_mode": {
    "name": "ipython",
    "version": 3
   },
   "file_extension": ".py",
   "mimetype": "text/x-python",
   "name": "python",
   "nbconvert_exporter": "python",
   "pygments_lexer": "ipython3",
   "version": "3.8.10"
  }
 },
 "nbformat": 4,
 "nbformat_minor": 4
}
