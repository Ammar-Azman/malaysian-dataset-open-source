{
 "cells": [
  {
   "cell_type": "code",
   "execution_count": 1,
   "id": "cc8c3163",
   "metadata": {},
   "outputs": [],
   "source": [
    "from glob import glob\n",
    "from tqdm import tqdm\n",
    "import json\n",
    "import re"
   ]
  },
  {
   "cell_type": "code",
   "execution_count": 2,
   "id": "23040e0f",
   "metadata": {},
   "outputs": [],
   "source": [
    "rejected_words = [\n",
    "    'kebutuhan',\n",
    "    'berbeda',\n",
    "    'bahwa',\n",
    "    'Kode',\n",
    "    'kode',\n",
    "    'nomor',\n",
    "    'RMXX,XXX',\n",
    "    'kompleksitas',\n",
    "    'listrik',\n",
    "    'jawaban',\n",
    "    'teknis',\n",
    "    'berkualitas',\n",
    "    'mencoba',\n",
    "    'kampanye',\n",
    "    'komunitas',\n",
    "    'stabilitas',\n",
    "    'Stabilitas',\n",
    "    'metode',\n",
    "    'pria',\n",
    "    'butuh',\n",
    "    'jadwal',\n",
    "    'kasus',\n",
    "    'otomatis',\n",
    "    'populer',\n",
    "    'bisnis',\n",
    "    'probabilitas',\n",
    "    'rusak',\n",
    "    'kapasitas',\n",
    "    'rutinitas'\n",
    "]\n",
    "rejected_words = set(rejected_words)\n",
    "\n",
    "def check_indon(string):\n",
    "    string = re.sub('[^A-Za-z ]+', ' ', string)\n",
    "    return len(set(string.split()) & rejected_words) > 0"
   ]
  },
  {
   "cell_type": "code",
   "execution_count": 3,
   "id": "c86d699f",
   "metadata": {},
   "outputs": [
    {
     "data": {
      "text/plain": [
       "41659"
      ]
     },
     "execution_count": 3,
     "metadata": {},
     "output_type": "execute_result"
    }
   ],
   "source": [
    "files = sorted(glob('evol-codealpaca-v1-chatgpt4/*.json'), key = lambda x: int(x.split('/')[-1].replace('.json', '')))\n",
    "len(files)"
   ]
  },
  {
   "cell_type": "code",
   "execution_count": 4,
   "id": "fb82b991",
   "metadata": {},
   "outputs": [
    {
     "name": "stderr",
     "output_type": "stream",
     "text": [
      "/home/husein/.local/lib/python3.8/site-packages/requests/__init__.py:102: RequestsDependencyWarning: urllib3 (1.26.15) or chardet (5.2.0)/charset_normalizer (2.0.7) doesn't match a supported version!\n",
      "  warnings.warn(\"urllib3 ({}) or chardet ({})/charset_normalizer ({}) doesn't match a supported \"\n"
     ]
    }
   ],
   "source": [
    "import tiktoken\n",
    "enc = tiktoken.get_encoding(\"cl100k_base\")"
   ]
  },
  {
   "cell_type": "code",
   "execution_count": 5,
   "id": "b4406189",
   "metadata": {},
   "outputs": [],
   "source": [
    "rejected_instructions = [\n",
    "    'tidak dapat melakukan penulisan semula', \n",
    "    'maaf', \n",
    "    'not able to fulfill your request',\n",
    "    'saya tidak dapat membantu',\n",
    "    'dengan permintaan itu',\n",
    "    'feel free to ask',\n",
    "    'saya tidak bisa',\n",
    "]"
   ]
  },
  {
   "cell_type": "code",
   "execution_count": 6,
   "id": "78f743a6",
   "metadata": {},
   "outputs": [
    {
     "name": "stderr",
     "output_type": "stream",
     "text": [
      "100%|████████████████████████████████████████████████████████████████████████████████████████████████████| 41659/41659 [00:00<00:00, 53085.44it/s]\n"
     ]
    }
   ],
   "source": [
    "count, indon_count = 0, 0\n",
    "\n",
    "indon_texts = []\n",
    "for f in tqdm(files):\n",
    "    try:\n",
    "        with open(f) as fopen:\n",
    "            data = json.load(fopen)\n",
    "    except:\n",
    "        continue\n",
    "\n",
    "    if data['output'] is None:\n",
    "        continue\n",
    "        \n",
    "    if any([r in data['instruction'].lower() for r in rejected_instructions]):\n",
    "        continue\n",
    "\n",
    "    indon_texts.append(data['instruction'])\n",
    "    indon_texts.append(data['output'])\n",
    "\n",
    "    count += 1"
   ]
  },
  {
   "cell_type": "code",
   "execution_count": 7,
   "id": "f92201b8",
   "metadata": {},
   "outputs": [
    {
     "data": {
      "text/plain": [
       "83026"
      ]
     },
     "execution_count": 7,
     "metadata": {},
     "output_type": "execute_result"
    }
   ],
   "source": [
    "len(indon_texts)"
   ]
  },
  {
   "cell_type": "code",
   "execution_count": 8,
   "id": "1a8c2316",
   "metadata": {},
   "outputs": [
    {
     "name": "stdout",
     "output_type": "stream",
     "text": [
      "Untuk mengubah skrip ini, kita Akkan menggunakan konsep pengulangan 'while' dan memastikan index tidak melebihi panjang senarai. Juga, kita harus memastikan skrip kita menangani senarai kosong dengan betul. \n",
      "\n",
      "Berikut adalah cara mengubahnya:\n",
      "\n",
      "```python\n",
      "  # Menetapkan senarai integer\n",
      "  arr = [1, 2, 3, 4]\n",
      "\n",
      "  # Tentukan panjang senarai\n",
      "  n = len(arr)\n",
      "\n",
      "  # Pastikan senarai tidak kosong\n",
      "  if n > 0:\n",
      "    i = 0\n",
      "    # Melalui senarai dan keluarkan setiap elemen individu\n",
      "    while i < n:\n",
      "        print(arr[i])\n",
      "        i += 1\n",
      "  else:\n",
      "    print(\"Senarai adalah kosong.\")\n",
      "```\n",
      "\n",
      "Dalam skrip ini, sebelum kita mulai mengulang, kita memeriksa apakah `n`, yang merupakan panjang senarai, lebih besar dari 0. Jika tidak (yang berarti senarai kosong), kita mencetak pesan yang sesuai. \n",
      "\n",
      "Kemudian, kami menggunakan pengulangan 'while' untuk mengulang selama indeks `i` kurang dari panjang `n` senarai. Selama setiap iterasi, kita mencetak elemen senarai dan tambahkan 1 ke indeks, sehingga kita dapat bergerak ke elemen berikutnya pada iterasi berikutnya. \n",
      "\n",
      "Ini akan mencegah terjadinya kesalahan index, karena kita tidak akan pernah mencoba mengakses indeks yang melebihi batas senarai.\n"
     ]
    }
   ],
   "source": [
    "print(indon_texts[1])"
   ]
  },
  {
   "cell_type": "code",
   "execution_count": 9,
   "id": "3d5234ee",
   "metadata": {},
   "outputs": [],
   "source": [
    "with open('codealpaca-v1-chatgpt4.texts', 'w') as fopen:\n",
    "    for t in set(indon_texts):\n",
    "        fopen.write(f'{json.dumps(t)}\\n')"
   ]
  },
  {
   "cell_type": "code",
   "execution_count": 11,
   "id": "21fad4c7",
   "metadata": {},
   "outputs": [
    {
     "data": {
      "text/plain": [
       "83007"
      ]
     },
     "execution_count": 11,
     "metadata": {},
     "output_type": "execute_result"
    }
   ],
   "source": [
    "len(set(indon_texts))"
   ]
  },
  {
   "cell_type": "code",
   "execution_count": 13,
   "id": "21cd8ab1",
   "metadata": {},
   "outputs": [],
   "source": [
    "!cp codealpaca-v1-chatgpt4.texts ~/ssd3/ctranslate2"
   ]
  },
  {
   "cell_type": "code",
   "execution_count": 45,
   "id": "bc720ede",
   "metadata": {},
   "outputs": [
    {
     "data": {
      "text/plain": [
       "211739"
      ]
     },
     "execution_count": 45,
     "metadata": {},
     "output_type": "execute_result"
    }
   ],
   "source": [
    "mapping = {}\n",
    "with open('/home/husein/ssd3/ctranslate2/code-instructions.texts.requested') as fopen:\n",
    "    for l in fopen:\n",
    "        l = json.loads(l)\n",
    "        mapping[l['src']] = l['r']\n",
    "        \n",
    "len(mapping)"
   ]
  },
  {
   "cell_type": "code",
   "execution_count": 10,
   "id": "2edaea07",
   "metadata": {},
   "outputs": [
    {
     "name": "stderr",
     "output_type": "stream",
     "text": [
      "100%|████████████████████████████████████████████████████████████████████████████████████████████████████| 34822/34822 [00:03<00:00, 10038.21it/s]\n"
     ]
    }
   ],
   "source": [
    "rejected = 0\n",
    "\n",
    "with open('synthetic-codealpaca-v1-chatgpt4.jsonl', 'w') as fopen_l:\n",
    "    for f in tqdm(files):\n",
    "        try:\n",
    "            with open(f) as fopen:\n",
    "                data = json.load(fopen)\n",
    "        except:\n",
    "            continue\n",
    "            \n",
    "        if data['output'] is None:\n",
    "            continue\n",
    "        \n",
    "        \n",
    "        indon_ins = False\n",
    "        if check_indon(data['instruction']):\n",
    "            indon_ins = True\n",
    "        \n",
    "        indon_output = False\n",
    "        if check_indon(data['output']):\n",
    "            indon_output = True\n",
    "        \n",
    "        rejected_ins = False\n",
    "            \n",
    "        if any([r in data['instruction'].lower() for r in rejected_instructions]):\n",
    "            rejected_ins = True\n",
    "        \n",
    "        rejected_output = False\n",
    "            \n",
    "        if rejected_ins or rejected_output:\n",
    "            rejected += 1\n",
    "            \n",
    "        data['indon_ins'] = indon_ins\n",
    "        data['indon_output'] = indon_output\n",
    "        data['rejected_ins'] = rejected_ins\n",
    "        data['rejected_output'] = rejected_output\n",
    "        \n",
    "        fopen_l.write(f'{json.dumps(data)}\\n')\n",
    "        count += 1"
   ]
  },
  {
   "cell_type": "code",
   "execution_count": null,
   "id": "4d5a55bd",
   "metadata": {},
   "outputs": [],
   "source": [
    "from huggingface_hub import HfApi\n",
    "api = HfApi()\n",
    "api.upload_file(\n",
    "    path_or_fileobj='ultrachat-glaive_coder_raw_text.jsonl',\n",
    "    path_in_repo='ultrachat-glaive_coder_raw_text.jsonl',\n",
    "    repo_id='mesolitica/chatgpt4-code-instruct',\n",
    "    repo_type='dataset',\n",
    ")"
   ]
  }
 ],
 "metadata": {
  "kernelspec": {
   "display_name": "Python 3 (ipykernel)",
   "language": "python",
   "name": "python3"
  },
  "language_info": {
   "codemirror_mode": {
    "name": "ipython",
    "version": 3
   },
   "file_extension": ".py",
   "mimetype": "text/x-python",
   "name": "python",
   "nbconvert_exporter": "python",
   "pygments_lexer": "ipython3",
   "version": "3.8.10"
  }
 },
 "nbformat": 4,
 "nbformat_minor": 5
}
