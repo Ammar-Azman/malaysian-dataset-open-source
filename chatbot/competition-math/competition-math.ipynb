{
 "cells": [
  {
   "cell_type": "code",
   "execution_count": 9,
   "metadata": {},
   "outputs": [],
   "source": [
    "# !wget https://huggingface.co/datasets/competition_math/resolve/main/data/MATH.zip\n",
    "# !unzip MATH.zip"
   ]
  },
  {
   "cell_type": "code",
   "execution_count": 6,
   "metadata": {},
   "outputs": [
    {
     "data": {
      "text/plain": [
       "12500"
      ]
     },
     "execution_count": 6,
     "metadata": {},
     "output_type": "execute_result"
    }
   ],
   "source": [
    "from glob import glob\n",
    "import json\n",
    "\n",
    "files = glob('MATH/**/*.json', recursive = True)\n",
    "len(files)"
   ]
  },
  {
   "cell_type": "code",
   "execution_count": 7,
   "metadata": {},
   "outputs": [],
   "source": [
    "with open(files[0]) as fopen:\n",
    "    data = json.load(fopen)"
   ]
  },
  {
   "cell_type": "code",
   "execution_count": 10,
   "metadata": {},
   "outputs": [],
   "source": [
    "with open('competition-math.jsonl', 'w') as fopen_l:\n",
    "    for f in files:\n",
    "        with open(f) as fopen:\n",
    "            data = json.load(fopen)\n",
    "        string = f\"{data['problem']} {data['solution']}\"\n",
    "        fopen_l.write(f'{json.dumps(string)}\\n')"
   ]
  },
  {
   "cell_type": "code",
   "execution_count": 11,
   "metadata": {
    "scrolled": true
   },
   "outputs": [
    {
     "name": "stdout",
     "output_type": "stream",
     "text": [
      "\"In a certain ellipse, the center is at $(-3,1),$ one focus is at $(-3,0),$ and one endpoint of a semi-major axis is at $(-3,3).$  Find the semi-minor axis of the ellipse. The distance between the center and the focus $(-3,0)$ is $c = 1.$  Also, the semi-major axis is the distance between the center and the endpoint of the semi-major axis, which is $a = 2.$  Then the semi-minor axis is $b = \\\\sqrt{a^2 - c^2} = \\\\boxed{\\\\sqrt{3}}.$\"\r\n"
     ]
    }
   ],
   "source": [
    "!head -n 1 competition-math.jsonl"
   ]
  },
  {
   "cell_type": "code",
   "execution_count": 12,
   "metadata": {},
   "outputs": [
    {
     "name": "stdout",
     "output_type": "stream",
     "text": [
      "12500 competition-math.jsonl\r\n"
     ]
    }
   ],
   "source": [
    "!wc -l competition-math.jsonl"
   ]
  },
  {
   "cell_type": "code",
   "execution_count": 13,
   "metadata": {},
   "outputs": [],
   "source": [
    "!split -l 5000 -d --additional-suffix=.splitted competition-math.jsonl competition-math.jsonl"
   ]
  },
  {
   "cell_type": "code",
   "execution_count": null,
   "metadata": {},
   "outputs": [],
   "source": []
  }
 ],
 "metadata": {
  "kernelspec": {
   "display_name": "Python 3 (ipykernel)",
   "language": "python",
   "name": "python3"
  },
  "language_info": {
   "codemirror_mode": {
    "name": "ipython",
    "version": 3
   },
   "file_extension": ".py",
   "mimetype": "text/x-python",
   "name": "python",
   "nbconvert_exporter": "python",
   "pygments_lexer": "ipython3",
   "version": "3.8.10"
  }
 },
 "nbformat": 4,
 "nbformat_minor": 4
}
