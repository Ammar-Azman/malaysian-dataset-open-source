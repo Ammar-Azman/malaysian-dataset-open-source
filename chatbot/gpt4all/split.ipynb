{
 "cells": [
  {
   "cell_type": "code",
   "execution_count": 1,
   "metadata": {},
   "outputs": [],
   "source": [
    "import json\n",
    "\n",
    "with open('translated-gpt4all.json') as fopen:\n",
    "    gpt4all = json.load(fopen)"
   ]
  },
  {
   "cell_type": "code",
   "execution_count": 2,
   "metadata": {},
   "outputs": [],
   "source": [
    "data = []\n",
    "for d in gpt4all:\n",
    "    if 'prompt' not in d or 'response' not in d:\n",
    "        continue\n",
    "    if not len(d['prompt']):\n",
    "        continue\n",
    "    if not len(d['response']):\n",
    "        continue\n",
    "    data.append(d)"
   ]
  },
  {
   "cell_type": "code",
   "execution_count": null,
   "metadata": {},
   "outputs": [],
   "source": [
    "len(data)"
   ]
  },
  {
   "cell_type": "code",
   "execution_count": null,
   "metadata": {},
   "outputs": [],
   "source": [
    "data[0]"
   ]
  },
  {
   "cell_type": "code",
   "execution_count": null,
   "metadata": {},
   "outputs": [],
   "source": [
    "with open('gpt4all.jsonl', 'w') as fopen:\n",
    "    for d in data:\n",
    "        fopen.write(f'{json.dumps(d)}\\n')"
   ]
  },
  {
   "cell_type": "code",
   "execution_count": null,
   "metadata": {},
   "outputs": [],
   "source": [
    "data[:10]"
   ]
  },
  {
   "cell_type": "code",
   "execution_count": null,
   "metadata": {},
   "outputs": [],
   "source": [
    "!split -l 20000 -d --additional-suffix=.splitted gpt4all.jsonl gpt4all.jsonl"
   ]
  },
  {
   "cell_type": "code",
   "execution_count": null,
   "metadata": {},
   "outputs": [],
   "source": [
    "!head -n 2 gpt4all.jsonl00.splitted"
   ]
  },
  {
   "cell_type": "code",
   "execution_count": null,
   "metadata": {},
   "outputs": [],
   "source": [
    "import json\n",
    "\n",
    "with open('gpt4all.jsonl00.splitted') as fopen:\n",
    "    for l in fopen:\n",
    "        l = json.loads(l)\n",
    "        break"
   ]
  },
  {
   "cell_type": "code",
   "execution_count": null,
   "metadata": {},
   "outputs": [],
   "source": [
    "l['prompt']"
   ]
  },
  {
   "cell_type": "code",
   "execution_count": null,
   "metadata": {},
   "outputs": [],
   "source": [
    "l['response']"
   ]
  },
  {
   "cell_type": "code",
   "execution_count": null,
   "metadata": {
    "scrolled": true
   },
   "outputs": [],
   "source": [
    "len(data)"
   ]
  },
  {
   "cell_type": "code",
   "execution_count": 3,
   "metadata": {},
   "outputs": [],
   "source": [
    "html_tags = [\n",
    "    '<html>',\n",
    "    '<p>',\n",
    "    '</a>',\n",
    "    '<pre>',\n",
    "    '<code>',\n",
    "    '<body>',\n",
    "    '<div>',\n",
    "]"
   ]
  },
  {
   "cell_type": "code",
   "execution_count": 4,
   "metadata": {},
   "outputs": [],
   "source": [
    "f = []\n",
    "for d in data:\n",
    "    if (\n",
    "        '`' not in d['prompt'][0] and\n",
    "        '`' not in d['response'][0] and\n",
    "        len(d['prompt'][0]) < 4000 and\n",
    "        len(d['response'][0]) < 4000 and\n",
    "        all([t not in d['prompt'][0] for t in html_tags]) and\n",
    "        all([t not in d['response'][0] for t in html_tags])\n",
    "    ):\n",
    "        f.append(d)"
   ]
  },
  {
   "cell_type": "code",
   "execution_count": null,
   "metadata": {},
   "outputs": [],
   "source": [
    "!wc -l gpt4all.jsonl00.splitted"
   ]
  },
  {
   "cell_type": "code",
   "execution_count": null,
   "metadata": {},
   "outputs": [],
   "source": [
    "!wc -l gpt4all.jsonl00.splitted.requested"
   ]
  },
  {
   "cell_type": "code",
   "execution_count": null,
   "metadata": {},
   "outputs": [],
   "source": [
    "!tail -n 5 gpt4all.jsonl00.splitted.requested"
   ]
  },
  {
   "cell_type": "code",
   "execution_count": 5,
   "metadata": {},
   "outputs": [],
   "source": [
    "f = []\n",
    "for d in data:\n",
    "    if (\n",
    "        ('`' in d['prompt'][0] or\n",
    "        '`' in d['response'][0]) and\n",
    "        len(d['prompt'][0]) < 4000 and\n",
    "        len(d['response'][0]) < 4000\n",
    "    ):\n",
    "        f.append(d)"
   ]
  },
  {
   "cell_type": "code",
   "execution_count": 12,
   "metadata": {},
   "outputs": [],
   "source": [
    "with open('translated-gpt4all-code.json', 'w') as fopen:\n",
    "    json.dump(f, fopen)"
   ]
  }
 ],
 "metadata": {
  "kernelspec": {
   "display_name": "Python 3 (ipykernel)",
   "language": "python",
   "name": "python3"
  },
  "language_info": {
   "codemirror_mode": {
    "name": "ipython",
    "version": 3
   },
   "file_extension": ".py",
   "mimetype": "text/x-python",
   "name": "python",
   "nbconvert_exporter": "python",
   "pygments_lexer": "ipython3",
   "version": "3.8.10"
  }
 },
 "nbformat": 4,
 "nbformat_minor": 4
}
