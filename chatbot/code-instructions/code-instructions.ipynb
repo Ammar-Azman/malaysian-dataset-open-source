{
 "cells": [
  {
   "cell_type": "code",
   "execution_count": 1,
   "metadata": {},
   "outputs": [],
   "source": [
    "# !wget https://github.com/teknium1/GPTeacher/raw/main/Codegen/codegen-instruct.json\n",
    "# !wget https://huggingface.co/datasets/sahil2801/code_instructions_120k/resolve/main/code_instructions_120k.json"
   ]
  },
  {
   "cell_type": "code",
   "execution_count": 1,
   "metadata": {},
   "outputs": [],
   "source": [
    "import json"
   ]
  },
  {
   "cell_type": "code",
   "execution_count": 2,
   "metadata": {},
   "outputs": [],
   "source": [
    "with open('codegen-instruct.json') as fopen:\n",
    "    data = json.load(fopen)"
   ]
  },
  {
   "cell_type": "code",
   "execution_count": 3,
   "metadata": {},
   "outputs": [
    {
     "data": {
      "text/plain": [
       "4535"
      ]
     },
     "execution_count": 3,
     "metadata": {},
     "output_type": "execute_result"
    }
   ],
   "source": [
    "len(data)"
   ]
  },
  {
   "cell_type": "code",
   "execution_count": 4,
   "metadata": {},
   "outputs": [],
   "source": [
    "with open('code_instructions_120k.json') as fopen:\n",
    "    data = json.load(fopen)"
   ]
  },
  {
   "cell_type": "code",
   "execution_count": 5,
   "metadata": {},
   "outputs": [
    {
     "data": {
      "text/plain": [
       "121959"
      ]
     },
     "execution_count": 5,
     "metadata": {},
     "output_type": "execute_result"
    }
   ],
   "source": [
    "len(data)"
   ]
  },
  {
   "cell_type": "code",
   "execution_count": 6,
   "metadata": {},
   "outputs": [
    {
     "data": {
      "text/plain": [
       "[{'instruction': 'Create a function to calculate the sum of a sequence of integers.',\n",
       "  'input': '[1, 2, 3, 4, 5]',\n",
       "  'output': '# Python code\\ndef sum_sequence(sequence):\\n  sum = 0\\n  for num in sequence:\\n    sum += num\\n  return sum'},\n",
       " {'instruction': 'Develop a function that will add two strings',\n",
       "  'input': 'str1 = \"Hello \"\\nstr2 = \"world\"',\n",
       "  'output': 'def add_strings(str1, str2):\\n    \"\"\"This function takes two strings and returns the sum of them.\"\"\"\\n    return str1 + str2\\n\\nstr1 = \"Hello \"\\nstr2 = \"world\"\\nsum_of_strings = add_strings(str1, str2)'},\n",
       " {'instruction': 'Design a data structure in C++ to store information of a grocery store inventory.',\n",
       "  'input': '',\n",
       "  'output': '#include <map>\\n#include <string>\\n\\nclass GroceryStoreInventory {\\nprivate:\\n    std::map<std::string, int> items;\\npublic:\\n    void addItems(std::string item, int quantity) {\\n        items[item] = quantity;\\n    }\\n    int getQuantity(std::string item) {\\n        if (items.find(item) != items.end()) {\\n            return items[item];\\n        }\\n        return 0;\\n    }\\n};'},\n",
       " {'instruction': 'Implement a sorting algorithm to sort a given array.',\n",
       "  'input': '[3, 1, 4, 5, 9, 0]',\n",
       "  'output': 'def bubble_sort(arr):\\n    n = len(arr)\\n \\n    # Traverse through all array elements\\n    for i in range(n):\\n \\n        # Last i elements are already in place\\n        for j in range(0, n-i-1):\\n \\n            # traverse the array from 0 to n-i-1\\n            # Swap if the element found is greater\\n            # than the next element\\n            if arr[j] > arr[j+1] :\\n                arr[j], arr[j+1] = arr[j+1], arr[j]\\n \\n# Driver code to test above\\narr = [3, 1, 4, 5, 9, 0]\\n \\nbubble_sort(arr)\\n \\nprint (\"Sorted array is:\")\\nfor i in range(len(arr)):\\n    print (\"%d\" %arr[i]),'},\n",
       " {'instruction': 'Design a Swift application for tracking expenses. The app should have a view for creating new expenses, and a view for displaying all expenses in a table view.',\n",
       "  'input': 'Not applicable',\n",
       "  'output': 'import UIKit\\n\\nclass ExpenseViewController: UIViewController { \\n // MARK: - Variables\\n var expenses = [Expense]() \\n \\n @IBOutlet weak var tableView: UITableView! \\n \\n // MARK: - UIViewController\\n override func viewDidLoad() {\\n super.viewDidLoad()\\n \\n tableView.dataSource = self \\n tableView.delegate = self \\n setUpNavigationBar() \\n } \\n \\n // MARK: - Private Functions \\n func setUpNavigationBar() { \\n let addButton = UIBarButtonItem(barButtonSystemItem: .add, target: self, action: #selector(addButtonTapped)) \\n navigationItem.setRightBarButton(addButton, animated: true) \\n } \\n \\n @objc func addButtonTapped() { \\n let expenseDetailViewController = ExpenseDetailViewController() \\n expenseDetailViewController.delegate = self \\n present(expenseDetailViewController, animated: true, completion: nil)\\n } \\n}\\n\\nextension ExpenseViewController: UITableViewDataSource { \\n func tableView(_ tableView: UITableView, numberOfRowsInSection section: Int) -> Int { \\n return expenses.count \\n } \\n \\n func tableView(_ tableView: UITableView, cellForRowAt indexPath: IndexPath) -> UITableViewCell {\\n let cell = tableView.dequeueReusableCell(withIdentifier: \"expenseCell\", for: indexPath) \\n let expense = expenses[indexPath.row] \\n cell.textLabel?.text = expense.name \\n cell.detailTextLabel?.text = expense.ammount \\n return cell \\n } \\n}\\n\\nextension ExpenseViewController: UITableViewDelegate { \\n func tableView(_ tableView: UITableView, didSelectRowAt indexPath: IndexPath) { \\n \\n } \\n}\\n\\nextension ExpenseViewController: ExpenseDetailViewControllerDelegate { \\n func expenseDetailViewController(_ controller: ExpenseDetailViewController, didCreateExpense expense: Expense) { \\n  expenses.append(expense) \\n  tableView.reloadData() \\n } \\n}'}]"
      ]
     },
     "execution_count": 6,
     "metadata": {},
     "output_type": "execute_result"
    }
   ],
   "source": [
    "data[:5]"
   ]
  },
  {
   "cell_type": "code",
   "execution_count": 7,
   "metadata": {},
   "outputs": [],
   "source": [
    "with open('code_instructions.jsonl', 'w') as fopen:\n",
    "    for d in data:\n",
    "        fopen.write(f'{json.dumps(d)}\\n')"
   ]
  },
  {
   "cell_type": "code",
   "execution_count": 8,
   "metadata": {},
   "outputs": [],
   "source": [
    "!split -l 50000 -d --additional-suffix=.splitted code_instructions.jsonl code_instructions.jsonl"
   ]
  }
 ],
 "metadata": {
  "kernelspec": {
   "display_name": "Python 3 (ipykernel)",
   "language": "python",
   "name": "python3"
  },
  "language_info": {
   "codemirror_mode": {
    "name": "ipython",
    "version": 3
   },
   "file_extension": ".py",
   "mimetype": "text/x-python",
   "name": "python",
   "nbconvert_exporter": "python",
   "pygments_lexer": "ipython3",
   "version": "3.8.10"
  }
 },
 "nbformat": 4,
 "nbformat_minor": 4
}
