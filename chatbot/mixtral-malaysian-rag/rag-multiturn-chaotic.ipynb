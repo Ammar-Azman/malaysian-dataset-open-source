{
 "cells": [
  {
   "cell_type": "code",
   "execution_count": 1,
   "id": "a2dddc89",
   "metadata": {
    "scrolled": true
   },
   "outputs": [
    {
     "data": {
      "text/plain": [
       "229"
      ]
     },
     "execution_count": 1,
     "metadata": {},
     "output_type": "execute_result"
    }
   ],
   "source": [
    "from glob import glob\n",
    "from tqdm import tqdm\n",
    "import json\n",
    "import os\n",
    "from sklearn.feature_extraction.text import CountVectorizer\n",
    "from sklearn.metrics.pairwise import cosine_similarity\n",
    "import numpy as np\n",
    "import random\n",
    "\n",
    "files = sorted(glob('/home/husein/ssd3/online-articles-partition/*.tokenized'))\n",
    "len(files)"
   ]
  },
  {
   "cell_type": "code",
   "execution_count": 2,
   "id": "209a9123",
   "metadata": {},
   "outputs": [],
   "source": [
    "extra = ['/home/ubuntu/dedup-text-dataset/wikipedia-2023-10-01.jsonl',\n",
    " '/home/ubuntu/dedup-text-dataset/wikipedia-20230901.en.filtered.jsonl',\n",
    " '/home/ubuntu/dedup-text-dataset/dictionary.jsonl',\n",
    " '/home/ubuntu/dedup-text-dataset/dewanbahasa-jdbp.jsonl',\n",
    " '/home/ubuntu/dedup-text-dataset/dialect.jsonl',\n",
    " '/home/ubuntu/dedup-text-dataset/kamusbm.jsonl',\n",
    " '/home/ubuntu/dedup-text-dataset/wiktionary-bahasa.jsonl',\n",
    " '/home/ubuntu/dedup-text-dataset/hansard.jsonl',\n",
    " '/home/ubuntu/dedup-text-dataset/lom.agc.gov.my.jsonl',\n",
    " '/home/ubuntu/dedup-text-dataset/parlimen-gov.jsonl',\n",
    " '/home/ubuntu/dedup-text-dataset/gov.my.jsonl',\n",
    " '/home/ubuntu/dedup-text-dataset/edu.my.jsonl'\n",
    "]\n",
    "# for f in extra:\n",
    "#     f = os.path.split(f)[1]\n",
    "#     url = f'https://huggingface.co/datasets/malaysia-ai/online-articles-partition/resolve/main/{f}.tokenized'\n",
    "#     os.system(f'wget {url}')"
   ]
  },
  {
   "cell_type": "code",
   "execution_count": 3,
   "id": "14852336",
   "metadata": {},
   "outputs": [
    {
     "data": {
      "text/plain": [
       "17"
      ]
     },
     "execution_count": 3,
     "metadata": {},
     "output_type": "execute_result"
    }
   ],
   "source": [
    "selected = [\n",
    "    'e-penerbitan.jsonl.tokenized',\n",
    "    'fintechnews.my.jsonl.tokenized',\n",
    "    'maukerja.my.jsonl.tokenized',\n",
    "    'ekonomirakyat.com.jsonl.tokenized',\n",
    "    'asklegal.jsonl.tokenized'\n",
    "]\n",
    "files = [f for f in files if any([s in f for s in selected])]\n",
    "\n",
    "for f in extra:\n",
    "    f = os.path.split(f)[1]\n",
    "    files.append(f'{f}.tokenized')\n",
    "    \n",
    "len(files)"
   ]
  },
  {
   "cell_type": "code",
   "execution_count": 4,
   "id": "1c35dfab",
   "metadata": {},
   "outputs": [
    {
     "name": "stderr",
     "output_type": "stream",
     "text": [
      "/home/husein/.local/lib/python3.8/site-packages/requests/__init__.py:102: RequestsDependencyWarning: urllib3 (1.26.15) or chardet (5.2.0)/charset_normalizer (2.0.7) doesn't match a supported version!\n",
      "  warnings.warn(\"urllib3 ({}) or chardet ({})/charset_normalizer ({}) doesn't match a supported \"\n"
     ]
    }
   ],
   "source": [
    "from concurrent.futures import ThreadPoolExecutor, as_completed\n",
    "from huggingface_hub import InferenceClient\n",
    "\n",
    "generate_kwargs = dict(\n",
    "    temperature=1.0,\n",
    "    max_new_tokens=4096,\n",
    "    top_p=0.95,\n",
    "    top_k=50,\n",
    "    repetition_penalty=1.0,\n",
    "    do_sample=True,\n",
    ")\n",
    "\n",
    "client = InferenceClient(\n",
    "    '', timeout = 50\n",
    ")\n",
    "\n",
    "\n",
    "def format_prompt(message, history):\n",
    "  prompt = \"<s>\"\n",
    "  for user_prompt, bot_response in history:\n",
    "    prompt += f\"[INST] {user_prompt} [/INST]\"\n",
    "    prompt += f\" {bot_response}</s> \"\n",
    "  prompt += f\"[INST] {message} [/INST]\"\n",
    "  return prompt\n",
    "\n",
    "def format_user(history):\n",
    "    prompt = \"<s>\"\n",
    "    for user_prompt, bot_response in history:\n",
    "        prompt += f\"[INST] {user_prompt} [/INST]\"\n",
    "        prompt += f\" {bot_response}</s> \"\n",
    "    prompt += f\"[INST]\"\n",
    "    return prompt"
   ]
  },
  {
   "cell_type": "code",
   "execution_count": 5,
   "id": "f1209d58",
   "metadata": {},
   "outputs": [
    {
     "name": "stderr",
     "output_type": "stream",
     "text": [
      "100%|██████████████████████████████████████████████████████████████████████████████████████████████████████████████| 17/17 [00:06<00:00,  2.75it/s]\n"
     ]
    },
    {
     "data": {
      "text/plain": [
       "531164"
      ]
     },
     "execution_count": 5,
     "metadata": {},
     "output_type": "execute_result"
    }
   ],
   "source": [
    "partitions = []\n",
    "total = 0\n",
    "for f in tqdm(files):\n",
    "    total = 0\n",
    "    filename = os.path.split(f)[1].replace('.tokenized', '')\n",
    "    with open(f) as fopen:\n",
    "        for l in fopen:\n",
    "            l = json.loads(l)\n",
    "            partitions.append((l, filename))\n",
    "            total += 1\n",
    "    \n",
    "len(partitions)"
   ]
  },
  {
   "cell_type": "code",
   "execution_count": 6,
   "id": "23d273da",
   "metadata": {},
   "outputs": [
    {
     "data": {
      "text/plain": [
       "2018"
      ]
     },
     "execution_count": 6,
     "metadata": {},
     "output_type": "execute_result"
    }
   ],
   "source": [
    "with open('random-reply-user.json') as fopen:\n",
    "    random_user = json.load(fopen)\n",
    "    \n",
    "with open('stupid-random-reply-user.json') as fopen:\n",
    "    stupid_random_user = json.load(fopen)\n",
    "    \n",
    "disagree = [\n",
    "    'hi', 'hi hi', 'saya nak tanya soalan boleh', 'hello'\n",
    "    'bullshit', 'u are lying', 'tipu la ko', 'penipu', 'tipu lah sial', 'ko tipu', 'aku tak caye',\n",
    "    'wtf tipu', 'ye ke ko ni, tipu lah', 'tipu sial', 'bodoh salah', 'tak betul la sial',\n",
    "    'tak betul', 'salah', 'ko pasti ke ni', 'tipu tipu tipu',\n",
    "]\n",
    "\n",
    "with open('disagree.json') as fopen:\n",
    "    disagree.extend(json.load(fopen)[:1000])\n",
    "    \n",
    "with open('doubt.json') as fopen:\n",
    "    disagree.extend(json.load(fopen)[:1000])\n",
    "    \n",
    "disagree = [d for d in disagree if len(d) > 2]\n",
    "len(disagree)"
   ]
  },
  {
   "cell_type": "code",
   "execution_count": 7,
   "id": "bf627138",
   "metadata": {},
   "outputs": [
    {
     "data": {
      "text/plain": [
       "605702"
      ]
     },
     "execution_count": 7,
     "metadata": {},
     "output_type": "execute_result"
    }
   ],
   "source": [
    "with open('malay-instructions.json') as fopen:\n",
    "    malay_instructions = json.load(fopen)\n",
    "    \n",
    "len(malay_instructions)"
   ]
  },
  {
   "cell_type": "code",
   "execution_count": 9,
   "id": "6eaeb9e3",
   "metadata": {
    "scrolled": true
   },
   "outputs": [
    {
     "name": "stdout",
     "output_type": "stream",
     "text": [
      "mkdir: cannot create directory ‘rag-multiturn-chaotic’: File exists\r\n"
     ]
    }
   ],
   "source": [
    "!mkdir rag-multiturn-chaotic"
   ]
  },
  {
   "cell_type": "code",
   "execution_count": 10,
   "id": "09d9bc0f",
   "metadata": {},
   "outputs": [],
   "source": [
    "# q = partitions[0]"
   ]
  },
  {
   "cell_type": "code",
   "execution_count": 11,
   "id": "1521343b",
   "metadata": {},
   "outputs": [],
   "source": [
    "# prompt = f'{q[0]}\\n\\ngenerate questions based on context above'\n",
    "# formatted_prompt = format_prompt(prompt, [])\n",
    "\n",
    "# while True:\n",
    "#     try:\n",
    "#         stream = client.text_generation(formatted_prompt, **generate_kwargs, stream=False, details=True, return_full_text=False)\n",
    "#         output = stream.generated_text\n",
    "#         break\n",
    "#     except:\n",
    "#         pass\n",
    "\n",
    "# splitted = output.strip().split('\\n')\n",
    "# splitted = [s for s in splitted if '.' if s and '?' in s]\n",
    "# splitted = ['.'.join(s.split('.')[1:]).strip() for s in splitted]\n",
    "# splitted = [s for s in splitted if len(s) > 3]\n",
    "# splitted = [s[1:] if s[0] == '\"' else s for s in splitted]\n",
    "# questions = [s[:-1] if s[-1] == '\"' else s for s in splitted]\n",
    "# questions = [s for s in questions if len(s) > 20]"
   ]
  },
  {
   "cell_type": "code",
   "execution_count": 12,
   "id": "489f79ff",
   "metadata": {},
   "outputs": [],
   "source": [
    "# history = []\n",
    "# for _ in range(random.randint(2, 5)):\n",
    "#     choice = random.randint(0, 5)\n",
    "#     if choice in [0,1]:\n",
    "#         rq = random.choice(random_user)\n",
    "#     elif choice in [2]:\n",
    "#         rq = random.choice(disagree)\n",
    "#     elif choice in [3]:\n",
    "#         rq = random.choice(stupid_random_user)\n",
    "#     else:\n",
    "#         rq = random.choice(questions)\n",
    "#     u = f\"\"\"\n",
    "# knowledge base is below.\n",
    "# ---------------------\n",
    "# {q[0]}\n",
    "# ---------------------\n",
    "# Given the knowledge base and not prior knowledge, respond user question.\n",
    "# Question: {rq}\n",
    "# \"\"\"\n",
    "#     formatted_prompt = format_prompt(u, history)\n",
    "#     while True:\n",
    "#         try:\n",
    "#             stream = client.text_generation(formatted_prompt, **generate_kwargs, stream=False, details=True, return_full_text=False)\n",
    "#             a = stream.generated_text.strip()\n",
    "#             break\n",
    "#         except Exception as e:\n",
    "#             # print(e)\n",
    "#             pass\n",
    "\n",
    "#     history.append((rq, a))\n",
    "    \n",
    "# history"
   ]
  },
  {
   "cell_type": "code",
   "execution_count": 26,
   "id": "70bbf65d",
   "metadata": {},
   "outputs": [],
   "source": [
    "def answer(q, i):\n",
    "    filename = f'rag-multiturn-chaotic/{i}.json'\n",
    "    if os.path.exists(filename):\n",
    "        return\n",
    "    \n",
    "    prompt = f'{q[0]}\\n\\ngenerate questions based on context above'\n",
    "    formatted_prompt = format_prompt(prompt, [])\n",
    "    \n",
    "    while True:\n",
    "        try:\n",
    "            stream = client.text_generation(formatted_prompt, **generate_kwargs, stream=False, details=True, return_full_text=False)\n",
    "            output = stream.generated_text\n",
    "            break\n",
    "        except:\n",
    "            pass\n",
    "    \n",
    "    splitted = output.strip().split('\\n')\n",
    "    splitted = [s for s in splitted if '.' if s and '?' in s]\n",
    "    splitted = ['.'.join(s.split('.')[1:]).strip() for s in splitted]\n",
    "    splitted = [s for s in splitted if len(s) > 3]\n",
    "    splitted = [s[1:] if s[0] == '\"' else s for s in splitted]\n",
    "    questions = [s[:-1] if s[-1] == '\"' else s for s in splitted]\n",
    "    questions = [s for s in questions if len(s) > 20]\n",
    "    \n",
    "    if not len(questions):\n",
    "        with open(filename, 'w') as fopen:\n",
    "            json.dump(False, fopen)\n",
    "        return\n",
    "    \n",
    "    history = []\n",
    "    for _ in range(random.randint(2, 4)):\n",
    "        choice = random.randint(0, 7)\n",
    "        if choice in [0]:\n",
    "            rq = random.choice(random_user)\n",
    "        elif choice in [1]:\n",
    "            rq = random.choice(disagree)\n",
    "        elif choice in [2]:\n",
    "            rq = random.choice(stupid_random_user)\n",
    "        elif choice in [3]:\n",
    "            rq = random.choice(malay_instructions)\n",
    "        else:\n",
    "            rq = random.choice(questions)\n",
    "            \n",
    "        u = f\"\"\"\n",
    "knowledge base is below.\n",
    "---------------------\n",
    "{q[0]}\n",
    "---------------------\n",
    "Given the knowledge base and not prior knowledge, respond user question.\n",
    "Question: {rq}\n",
    "\"\"\"\n",
    "        formatted_prompt = format_prompt(u.strip(), history)\n",
    "        while True:\n",
    "            try:\n",
    "                stream = client.text_generation(formatted_prompt, **generate_kwargs, stream=False, details=True, return_full_text=False)\n",
    "                a = stream.generated_text.strip()\n",
    "                break\n",
    "            except Exception as e:\n",
    "                # print(e)\n",
    "                pass\n",
    "\n",
    "        history.append((rq, a))\n",
    "    \n",
    "    d = {\n",
    "        'filename': q[1],\n",
    "        'context': q[0],\n",
    "        'questions': questions,\n",
    "        'multiturn': history\n",
    "    }\n",
    "    \n",
    "    with open(filename, 'w') as fopen:\n",
    "        json.dump(d, fopen)"
   ]
  },
  {
   "cell_type": "code",
   "execution_count": 27,
   "id": "d0aa6fc0",
   "metadata": {},
   "outputs": [],
   "source": [
    "answer(partitions[0], 0)"
   ]
  },
  {
   "cell_type": "code",
   "execution_count": 28,
   "id": "84f8e1d5",
   "metadata": {},
   "outputs": [],
   "source": [
    "with open('rag-multiturn-chaotic/0.json') as fopen:\n",
    "    d = json.load(fopen)"
   ]
  },
  {
   "cell_type": "code",
   "execution_count": 16,
   "id": "b9ce7ef5",
   "metadata": {},
   "outputs": [
    {
     "data": {
      "text/plain": [
       "[['Can fish ride bicycles?',\n",
       "  \"Based on the information provided in the knowledge base, there is no mention of fish being able to ride bicycles. In fact, the knowledge base focuses on information related to Allianz's referral program and Budget 2022's initiatives. Therefore, I can confidently say that fish cannot ride bicycles.\"],\n",
       " ['Why does Malaysia still have such strict internet regulations, when other countries are embracing the digital age and promoting freedom of information?',\n",
       "  'Malaysia\\'s internet regulations are governed by the Communications and Multimedia Act (CMA) 1998, which includes provisions for content regulation and restrictions on \"indecent, obscene, false, menacing or offensive\" content. The Malaysian Communications and Multimedia Commission (MCMC) is responsible for enforcing these regulations. While other countries may have more relaxed regulations, Malaysia\\'s stance is based on its unique societal norms, cultural values, and legal frameworks. Malaysia has been taking steps towards digital transformation and promoting freedom of information, such as the formation of the Malaysia Digital Economy Corporation (MDEC) and initiatives like the National Fiberisation and Connectivity Plan (NFCP). However, the government also aims to maintain a balance between promoting the digital economy and ensuring that online content remains within acceptable bounds, as outlined by the CMA and other relevant laws.']]"
      ]
     },
     "execution_count": 16,
     "metadata": {},
     "output_type": "execute_result"
    }
   ],
   "source": [
    "d['multiturn']"
   ]
  },
  {
   "cell_type": "code",
   "execution_count": 17,
   "id": "a75724c9",
   "metadata": {},
   "outputs": [],
   "source": [
    "def consumer(queue, name):\n",
    "    while True:\n",
    "        if queue.qsize() == 0:\n",
    "            break\n",
    "        item = queue.get()\n",
    "        answer(*item)\n",
    "    print(f'consumer {name} done')"
   ]
  },
  {
   "cell_type": "code",
   "execution_count": 18,
   "id": "c291f694",
   "metadata": {},
   "outputs": [],
   "source": [
    "from threading import Thread\n",
    "from queue import Queue\n",
    "\n",
    "queue = Queue()\n",
    "urls = [(q, no) for no, q in enumerate(partitions)]\n",
    "for u in urls:\n",
    "    queue.put(u)\n",
    "    \n",
    "ori_size = queue.qsize()"
   ]
  },
  {
   "cell_type": "code",
   "execution_count": null,
   "id": "6fbac668",
   "metadata": {},
   "outputs": [
    {
     "name": "stderr",
     "output_type": "stream",
     "text": [
      " 62%|███████████████████████████████████████████████████████████▉                                    | 331526/531164 [11:10:12<29:43:50,  1.87it/s]"
     ]
    }
   ],
   "source": [
    "max_worker = 600\n",
    "consumers = [Thread(target=consumer, args=(queue,i)) for i in range(max_worker)]\n",
    "for i in range(len(consumers)):\n",
    "    consumers[i].start()\n",
    "    \n",
    "pbar = tqdm(total=ori_size)\n",
    "last_size = 0\n",
    "while True:\n",
    "    size = queue.qsize()\n",
    "    if size == 0:\n",
    "        break\n",
    "    left = ori_size - size\n",
    "    minus = left - last_size\n",
    "    if minus > 0:\n",
    "        pbar.update(minus)\n",
    "        last_size += minus\n",
    "\n",
    "pbar.close()"
   ]
  },
  {
   "cell_type": "code",
   "execution_count": 3,
   "id": "c8572645",
   "metadata": {},
   "outputs": [],
   "source": [
    "files = glob('rag-multiturn-chaotic/*.json')"
   ]
  },
  {
   "cell_type": "code",
   "execution_count": 10,
   "id": "96113234",
   "metadata": {},
   "outputs": [
    {
     "name": "stderr",
     "output_type": "stream",
     "text": [
      "100%|█████████████████████████████████████████████████████████████████████████████████████████| 331082/331082 [00:08<00:00, 40173.15it/s]\n"
     ]
    },
    {
     "data": {
      "text/plain": [
       "1596554"
      ]
     },
     "execution_count": 10,
     "metadata": {},
     "output_type": "execute_result"
    }
   ],
   "source": [
    "all_texts = set()\n",
    "for f in tqdm(files):\n",
    "    with open(f) as fopen:\n",
    "        data = json.load(fopen)\n",
    "    if not data:\n",
    "        continue\n",
    "    for d in data['multiturn']:\n",
    "        all_texts |= set(d)\n",
    "len(all_texts)"
   ]
  },
  {
   "cell_type": "code",
   "execution_count": 11,
   "id": "cd366d3c",
   "metadata": {},
   "outputs": [],
   "source": [
    "with open('rag-multiturn-chaotic.texts', 'w') as fopen:\n",
    "    for t in all_texts:\n",
    "        if not len(t):\n",
    "            continue\n",
    "        fopen.write(f'{json.dumps(t)}\\n')"
   ]
  },
  {
   "cell_type": "code",
   "execution_count": 13,
   "id": "ad20aaba",
   "metadata": {},
   "outputs": [],
   "source": [
    "!cp rag-multiturn-chaotic.texts ../translation"
   ]
  },
  {
   "cell_type": "code",
   "execution_count": 14,
   "id": "ea2da0d1",
   "metadata": {},
   "outputs": [
    {
     "data": {
      "text/plain": [
       "1381323"
      ]
     },
     "execution_count": 14,
     "metadata": {},
     "output_type": "execute_result"
    }
   ],
   "source": [
    "import re\n",
    "\n",
    "mapping = {}\n",
    "for f in glob('/home/husein/ssd3/translation/rag-multiturn-chaotic.texts*.splitted.requested'):\n",
    "    with open(f) as fopen:\n",
    "        for l in fopen:\n",
    "            l = json.loads(l)\n",
    "            if 'Source text\\nclear\\nLook up details' in l['r']['result']:\n",
    "                continue\n",
    "            if 'clear\\nLook up details' in l['r']['result']:\n",
    "                continue\n",
    "            if l['r']['result'].startswith('Source text\\n'):\n",
    "                continue\n",
    "\n",
    "            n = l['r']['result']\n",
    "            hypens = re.findall('\\w+ -\\w+', n)\n",
    "            for h in hypens:\n",
    "                splitted = h.split('-')\n",
    "                if len(splitted) != 2:\n",
    "                    continue\n",
    "                splitted = [s.strip() for s in splitted]\n",
    "                splitted = '-'.join(splitted)\n",
    "                n = n.replace(h, splitted)\n",
    "            mapping[l['src']] = n\n",
    "            \n",
    "len(mapping)"
   ]
  },
  {
   "cell_type": "code",
   "execution_count": 15,
   "id": "2192d9a8",
   "metadata": {},
   "outputs": [
    {
     "name": "stderr",
     "output_type": "stream",
     "text": [
      "100%|██████████████████████████████████████████████████████████████████████████████████████████| 331082/331082 [01:31<00:00, 3633.69it/s]\n"
     ]
    }
   ],
   "source": [
    "with open('rag-multiturn-chaotic.jsonl', 'w') as fopen_l:\n",
    "    for f in tqdm(files):\n",
    "        try:\n",
    "            with open(f) as fopen:\n",
    "                data = json.load(fopen)\n",
    "        except:\n",
    "            continue\n",
    "            \n",
    "        if not data:\n",
    "            continue\n",
    "            \n",
    "        chat = []\n",
    "        for d in data['multiturn']:\n",
    "            chat.extend([\n",
    "                {'role': 'user', 'content': d[0], 'content_ms': mapping.get(d[0])},\n",
    "                {'role': 'assistant', 'content': d[1], 'content_ms': mapping.get(d[1])}\n",
    "            ])\n",
    "\n",
    "        d = {\n",
    "            'filename': data['filename'],\n",
    "            'chat': chat,\n",
    "            'context': data['context'],\n",
    "            'questions': data['questions']\n",
    "        }\n",
    "        fopen_l.write(f'{json.dumps(d)}\\n')"
   ]
  },
  {
   "cell_type": "code",
   "execution_count": 16,
   "id": "8795d929",
   "metadata": {},
   "outputs": [
    {
     "name": "stdout",
     "output_type": "stream",
     "text": [
      "{\"filename\": \"wikipedia-20230901.en.filtered.jsonl\", \"chat\": [{\"role\": \"user\", \"content\": \"Why have some analysts suggested that the Malaysian government's anti-corruption efforts have been selective and politically motivated, and what implications does this have for the rule of law and democratic governance in the country?\", \"content_ms\": \"Mengapakah beberapa penganalisis mencadangkan bahawa usaha pencegahan rasuah kerajaan Malaysia adalah secara terpilih dan bermotifkan politik, dan apakah implikasinya terhadap kedaulatan undang-undang dan tadbir urus demokrasi di negara ini?\"}, {\"role\": \"assistant\", \"content\": \"I'm sorry for any inconvenience, but the provided knowledge base does not contain any information about the Malaysian government's anti-corruption efforts, or the rule of law and democratic governance in Malaysia. Therefore, I am unable to respond to this question without additional information. However, I can provide information on these topics in general if that would be helpful.\\n\\nIn general, selective and politically motivated anti-corruption efforts can undermine the rule of law and democratic governance in a country. The rule of law requires that laws be applied fairly and consistently, without regard to political considerations. If the government is perceived to be targeting certain individuals or groups for political reasons, this can erode public trust in the fairness and impartiality of the legal system.\\n\\nFurthermore, democratic governance depends on transparency, accountability, and participation. Selective anti-corruption efforts can undermine these principles by creating an uneven playing field, where some individuals or groups are favored over others. This can stifle competition, discourage investment, and hinder economic development. It can also lead to social unrest and political instability, as citizens become disillusioned with the democratic process and lose faith in their leaders.\\n\\nTherefore, it is important for governments to ensure that their anti-corruption efforts are transparent, fair, and non-discriminatory, in order to uphold the rule of law and promote democratic governance. This can help to build public trust, promote economic development, and foster a stable and inclusive society.\", \"content_ms\": \"Saya memohon maaf atas sebarang kesulitan, tetapi pangkalan pengetahuan yang disediakan tidak mengandungi sebarang maklumat tentang usaha pencegahan rasuah kerajaan Malaysia, atau kedaulatan undang-undang dan tadbir urus demokrasi di Malaysia. Oleh itu, saya tidak dapat menjawab soalan ini tanpa maklumat tambahan. Walau bagaimanapun, saya boleh memberikan maklumat tentang topik ini secara umum jika ia akan membantu.\\n\\nSecara umumnya, usaha pencegahan rasuah yang terpilih dan bermotifkan politik boleh menjejaskan kedaulatan undang-undang dan tadbir urus demokrasi dalam sesebuah negara. Kedaulatan undang-undang memerlukan undang-undang digunakan secara adil dan konsisten, tanpa mengambil kira pertimbangan politik. Jika kerajaan dilihat menyasarkan individu atau kumpulan tertentu atas sebab politik, ini boleh menghakis kepercayaan orang ramai terhadap keadilan dan kesaksamaan sistem perundangan.\\n\\nTambahan pula, tadbir urus demokrasi bergantung kepada ketelusan, akauntabiliti dan penyertaan. Usaha pencegahan rasuah yang terpilih boleh menjejaskan prinsip ini dengan mewujudkan medan permainan yang tidak sekata, di mana sesetengah individu atau kumpulan diutamakan berbanding yang lain. Ini boleh menyekat persaingan, tidak menggalakkan pelaburan, dan menghalang pembangunan ekonomi. Ia juga boleh membawa kepada pergolakan sosial dan ketidakstabilan politik, kerana rakyat menjadi kecewa dengan proses demokrasi dan hilang kepercayaan kepada pemimpin mereka.\\n\\nOleh itu, adalah penting bagi kerajaan untuk memastikan usaha pencegahan rasuah mereka telus, adil dan tidak diskriminasi, bagi menegakkan kedaulatan undang-undang dan menggalakkan tadbir urus demokrasi. Ini boleh membantu membina kepercayaan orang ramai, menggalakkan pembangunan ekonomi, dan memupuk masyarakat yang stabil dan inklusif.\"}, {\"role\": \"user\", \"content\": \"When and why did the Jharkhand movement start, and who were the prominent leaders involved in it?\", \"content_ms\": \"Adakah anda rasa orang yang berbahasa Melayu malas belajar bahasa Inggeris?\"}, {\"role\": \"assistant\", \"content\": \"The Jharkhand movement started in the late 19th and early 20th centuries as a series of revolts and rebellions against the British East India Company's subjugation, colonization, and imposition of taxes in the Chota Nagpur Plateau region of present-day Jharkhand state. The local people, including the Santhals, Mundas, Cheros, Kharwars, and other tribal groups, rose up against the British in a series of revolts and rebellions, such as the Chuar revolt, the Bhumij rebellion, and the Santhal rebellion, among others. These movements were primarily driven by opposition to the imposition of taxes, the loss of land and resources, and the erosion of traditional ways of life.\\n\\nThe movement for a separate Jharkhand state gained momentum in the 20th century, particularly after India's independence in 1947. In 1928, the Unnati Samaj, the political wing of the Christian Tribals Association, demanded a separate tribal state in eastern India. In 1955, the Jharkhand Party, led by Jaipal Singh Munda, submitted a memorandum to the States Reorganization Commission for a separate Jharkhand state comprising the tribal area of South Bihar, but it was rejected. The demand for a separate state continued to be raised by various groups, including the Jharkhand Mukti Morcha and the All Jharkhand Students Union, throughout the second half of the 20th century.\\n\\nProminent leaders involved in the Jharkhand movement include Jaipal Singh Munda, Ram Narayan Singh, Binod Bihari Mahato, Shibu Soren, A. K. Roy, Nirmal Mahto, Ram Ratan Ram, Atal Bihari Vajpayee, Lal Krishna Advani, Murli Manohar Joshi, Inder Singh Namdhari, Samresh Singh, and Rudra Pratap Sarangi, among others. The movement was marked by periods of intense activism and violence, as well as periods of relative calm and negotiation with the government.\\n\\nIn 1994, the Jharkhand Area Autonomous Council bill was passed in Bihar's legislative assembly, which provided limited internal autonomy to the region. However, the demand for a separate state continued to be pursued, and Jharkhand was eventually carved out of Bihar as a separate state in 2000.\", \"content_ms\": null}], \"context\": \", Gadi Palganj and Ledo Gadi. The princely states in the Chota Nagpur Plateau came within the sphere of influence of the Maratha Empire, but they became tributary states of British East India Company as a result of the Anglo-Maratha Wars and became known as Chota Nagpur Tributary States. Subjugation, colonization and imposition of taxes by the British East India Company resulted in spontaneous resistance from the local people. The first revolt against the British East India Company was the first Chuar revolt led by Jagannath Singh, zamindar of Ghatsila in 1766 and Dhal revolt led by Raja Jagannath Dhal, King of Dhalbhum in 1767. In 1769, Raghunath Mahato revolted against the British East India Company (EIC). In 1771, the revolt against the landlords and the British government was led by Tilka Majhi, a Paharia leader in Rajmahal Hills. Soon after in 1779, the Bhumij tribes again rose in arms against the British rule in Manbhum, called the Chuar Rebellion. In 1807, the Oraons in Barway murdered their landlord from Srinagar. The Munda tribe rose in revolt in 1811 and 1813. Bakhtar Say and Mundal Singh, two landowners, fought against the British East India Company in 1812. The Hos in Singhbhum revolted in 1820 and a Kol revolt occurred in 1832. Also in 1832 the Bhumijs revolted again against the British, this time under the leadership of Ganga Narayan Singh, known as the Bhumij Rebellion. During the 19th century, large numbers of santals from Manbhum, Hazaribagh, Midnapore were settled by British in Damin-i-koh to cultivate the land and generate revenue. But the Santal revolted against tax imposition. The Santhal rebellion broke out in 1855 under the leadership of two brothers Sidhu and Kanhu. Later the British renamed it as Santal Pargana. Thakur Vishwanath Shahdeo and Pandey Ganpat Rai rebelled against the British East India Company in the 1857 rebellion. In the Battle of Chatra, conflict took place between the rebels and the East India company. Tikait Umrao Singh, Sheikh Bhikhari, Nadir Ali and Jai Mangal Singh played pivotal role in the Indian Rebellion of 1857. The brothers Nilambar and Pitambar were chiefs of Bhogta clan of the Kharwar tribe who held ancestral jagirs with many Chero Jagirdars and led revolt against the British East India company. After the Indian Rebellion of 1857, the rule of the British East India Company was transferred to the Crown in the person of Queen Victoria, who, in 1876, was proclaimed Empress of India. The Cheros and Kharwars again rebelled against the British in 1882 but the attack was repulsed. Then Birsa Munda revolt, broke out in 1895 and lasted until 1900. The revolt though mainly concentrated in the Munda belt of Khunti, Tamar, Sarwada and Bandgaon. In October 1905, the exercise of British influence over the predominantly Hindi-speaking states of Chang Bhakar, Jashpur, Koriya, Surguja, and Udaipur was transferred from the Bengal government to that of the Central Provinces, while the two Oriya-speaking states of Gangpur and Bonai were attached to the Orissa Tributary States, leaving only Kharsawan and Saraikela answerable to the Bengal governor. In 1936, all nine states were transferred to the Eastern States Agency, the officials of which came under the direct authority of the Governor-General of India, rather than under that of any provinces. In March 1940, the INC 53rd Session occurred under the presidency of Maulana Abul Qalam Azad at Jhanda Chowk, Ramgarh now Ramgarh Cantonment. Mahatma Gandhi, Jawaharlal Nehru, Sardar Patel, Rajendra Prasad, Sarojini Naidu, Khan Abdul Ghaffar Khan, Acharya J.B. Kripalani, Industrialist Jamnalal Bajaj and other great leaders of the Indian freedom movement attended the Ramgarh Session. Mahatma Gandhi also opened the khadi and village Industries Exhibition at Ramgarh. At that time, under the leadership of Netajee Subhas Chandra Bose a conference against Samjhauta was also completed. In Ramgarh, Subhas Chandra Bose was seen as president of the All India Forward Block and M. N. Roy was seen as leader of the Radical democratic party. Post Independence After Indian independence in 1947, the rulers of many states chose to accede to the Dominion of India. Changbhakar, Jashpur, Koriya, Surguja and Udaipur later became part of the state of Madhya Pradesh, but Gangpur and Bonai became part of the state of Orissa and Kharsawan and Saraikela became part of the state of Bihar. In 1928, a separate state was demanded by Unnati Samaj, the political wing of the Christian Tribals Association, which submitted a memorandum to the Simon Commission to constitute a tribal state in eastern India. Prominent leaders like Jaipal Singh Munda and Ram Narayan Singh also demanded a separate state. In 1955, the Jharkhand Party, led by Jaipal Singh Munda, submitted a memorandum to the States Reorganization Commission for a separate Jharkhand state comprising the tribal area of South Bihar, but it was rejected because there were many languages, no link language in the region, tribals were in the minority, Hindustani was the majority language, and it risked adverse effect on the economy of Bihar. Later the Sadan people, the native various caste/non-tribal groups, also joined the movement for a separate state. In 1972, Binod Bihari Mahato, Shibu Soren and A. K. Roy founded Jharkhand Mukti Morcha. Nirmal Mahto founded the All Jharkhand Students Union. They led the movement for a separate state of Jharkhand. The Jharkhand coordination committee (JCC), consisting of Ram Dayal Munda, B. P. Keshri, Binod Bihari Mahato, Santosh Rana and Suraj Singh Besra started a new initiative and tried to coordinate between different parties. Keshri sent a memorandum to form Jharkhand state in 1988. The Jharkhand co-ordination committee was then led by Congress General Secretary Ram Ratan Ram, who urged Rajiv Gandhi to pay attention to the issue at hand. In July 1988, the Bharatiya Janata party led by Atal Bihari Vajpayee, Lal Krishna Advani, and Murli Manohar Joshi decided to demand a separate state, Vanachal, comprising the forest region of South Bihar in Jamshedpur. Inder Singh Namdhari, Samresh Singh, and Rudra Pratap Sarangi were the leaders of the Vanachal movement. They organised several rallies to form a separate state. The central government formed a committee on the Jharkhand matter in 1989. It stressed the need for greater allocation of development funds for the area. There was a provision for limited internal autonomy in the hill area of Assam. Other tribal areas were covered by the fifth schedule of the constitution. Chotanagpur and Santal Pargana development boards were constituted under the chairmanship of the then chief minister of Bihar under the provision of the fifth schedule in 1972. This failed to achieve the desired result. Jharkhand Mukti Morcha wanted more representation and the All Jharkhand Students Union was against it. Due to differences these parties broke away from each other. The All Jharkhand Students Union introduced elements of violence in the movement and called for a boycott of election while Jharkhand Mukti Morcha opposed this. The Jharkhand Area Autonomous Council bill passed in Bihar's legislative assembly in December 1994. The Jharkhand Area Autonomous Council were given responsibility for forty areas including agriculture, rural health, public work, public health and minerals. The council has power to recommend legislation to the Assembly through the state government and to frame bylaws and regulations. In 1998, when the separate state movement was falling apart, Justice Lal Ping\", \"questions\": [\"What were the factors that led to the subjugation of the Chota Nagpur Tributary States and the subsequent resistance from the local people?\", \"Who were the leaders of the first Chuar revolt, Dhal revolt, and Raghunath Mahato's rebellion against the British East India Company?\", \"What was the impact of the British colonization and imposition of taxes on the Santal tribes, leading to the Santal rebellion in 1855?\", \"Who were the leaders of the Indian Rebellion of 1857 from the Chota Nagpur Tributary States?\", \"When and why did the Jharkhand movement start, and who were the prominent leaders involved in it?\", \"What was the demand of the Unnati Samaj in their memorandum to the Simon Commission in 1928 regarding a separate state for the tribals in eastern India?\", \"Why was the Jharkhand Party's memorandum to the States Reorganization Commission in 1955 rejected for a separate Jharkhand state?\", \"Who were the leaders of the Vanachal movement in the 1980s, and what was their demand?\", \"What was the role of the Jharkhand Mukti Morcha and the All Jharkhand Students Union in the movement for a separate Jharkhand state?\", \"What was the Jharkhand Area Autonomous Council bill, and how did it impact the movement for a separate state?\", \"Who was Justice Lal Ping and what was his role in the Jharkhand movement?\", \"What is the current status of the movement for a separate Jharkhand state?\"]}\r\n"
     ]
    }
   ],
   "source": [
    "!head -n 1 rag-multiturn-chaotic.jsonl"
   ]
  },
  {
   "cell_type": "code",
   "execution_count": null,
   "id": "c3f4bd69",
   "metadata": {},
   "outputs": [
    {
     "name": "stderr",
     "output_type": "stream",
     "text": [
      "/home/husein/.local/lib/python3.8/site-packages/requests/__init__.py:102: RequestsDependencyWarning: urllib3 (1.26.15) or chardet (5.2.0)/charset_normalizer (2.0.7) doesn't match a supported version!\n",
      "  warnings.warn(\"urllib3 ({}) or chardet ({})/charset_normalizer ({}) doesn't match a supported \"\n"
     ]
    },
    {
     "data": {
      "application/vnd.jupyter.widget-view+json": {
       "model_id": "8d11ee3cb7504537999f471a6ed23bd7",
       "version_major": 2,
       "version_minor": 0
      },
      "text/plain": [
       "rag-multiturn-chaotic.jsonl:   0%|          | 0.00/4.24G [00:00<?, ?B/s]"
      ]
     },
     "metadata": {},
     "output_type": "display_data"
    }
   ],
   "source": [
    "from huggingface_hub import HfApi\n",
    "api = HfApi()\n",
    "api.upload_file(\n",
    "    path_or_fileobj='rag-multiturn-chaotic.jsonl',\n",
    "    path_in_repo='mrag-multiturn-chaotic.jsonl',\n",
    "    repo_id='mesolitica/mixtral-malaysian-rag',\n",
    "    repo_type='dataset',\n",
    ")"
   ]
  },
  {
   "cell_type": "code",
   "execution_count": null,
   "id": "c307c8d7",
   "metadata": {},
   "outputs": [],
   "source": []
  }
 ],
 "metadata": {
  "kernelspec": {
   "display_name": "Python 3 (ipykernel)",
   "language": "python",
   "name": "python3"
  },
  "language_info": {
   "codemirror_mode": {
    "name": "ipython",
    "version": 3
   },
   "file_extension": ".py",
   "mimetype": "text/x-python",
   "name": "python",
   "nbconvert_exporter": "python",
   "pygments_lexer": "ipython3",
   "version": "3.8.10"
  }
 },
 "nbformat": 4,
 "nbformat_minor": 5
}
