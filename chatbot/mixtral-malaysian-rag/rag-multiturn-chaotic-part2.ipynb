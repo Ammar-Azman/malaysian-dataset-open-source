{
 "cells": [
  {
   "cell_type": "code",
   "execution_count": 1,
   "id": "a2dddc89",
   "metadata": {
    "scrolled": true
   },
   "outputs": [],
   "source": [
    "from glob import glob\n",
    "from tqdm import tqdm\n",
    "import json\n",
    "import os\n",
    "from sklearn.feature_extraction.text import CountVectorizer\n",
    "from sklearn.metrics.pairwise import cosine_similarity\n",
    "import numpy as np\n",
    "import random"
   ]
  },
  {
   "cell_type": "code",
   "execution_count": 2,
   "id": "209a9123",
   "metadata": {},
   "outputs": [],
   "source": [
    "extra = [\n",
    " '/home/ubuntu/dedup-text-dataset/gov.my.jsonl',\n",
    " '/home/ubuntu/dedup-text-dataset/edu.my.jsonl'\n",
    "]\n",
    "# for f in extra:\n",
    "#     f = os.path.split(f)[1]\n",
    "#     url = f'https://huggingface.co/datasets/malaysia-ai/online-articles-partition/resolve/main/{f}.tokenized'\n",
    "#     os.system(f'wget {url}')"
   ]
  },
  {
   "cell_type": "code",
   "execution_count": 3,
   "id": "14852336",
   "metadata": {},
   "outputs": [
    {
     "data": {
      "text/plain": [
       "2"
      ]
     },
     "execution_count": 3,
     "metadata": {},
     "output_type": "execute_result"
    }
   ],
   "source": [
    "files = []\n",
    "\n",
    "for f in extra:\n",
    "    f = os.path.split(f)[1]\n",
    "    files.append(f'{f}.tokenized')\n",
    "    \n",
    "len(files)"
   ]
  },
  {
   "cell_type": "code",
   "execution_count": 4,
   "id": "1c35dfab",
   "metadata": {},
   "outputs": [
    {
     "name": "stderr",
     "output_type": "stream",
     "text": [
      "/home/husein/.local/lib/python3.8/site-packages/requests/__init__.py:102: RequestsDependencyWarning: urllib3 (1.26.15) or chardet (5.2.0)/charset_normalizer (2.0.7) doesn't match a supported version!\n",
      "  warnings.warn(\"urllib3 ({}) or chardet ({})/charset_normalizer ({}) doesn't match a supported \"\n"
     ]
    }
   ],
   "source": [
    "from concurrent.futures import ThreadPoolExecutor, as_completed\n",
    "from huggingface_hub import InferenceClient\n",
    "\n",
    "generate_kwargs = dict(\n",
    "    temperature=1.0,\n",
    "    max_new_tokens=4096,\n",
    "    top_p=0.95,\n",
    "    top_k=50,\n",
    "    repetition_penalty=1.0,\n",
    "    do_sample=True,\n",
    ")\n",
    "\n",
    "client = InferenceClient(\n",
    "    'https://mixtral.us-west-2.mesolitica.com/', timeout = 50\n",
    ")\n",
    "\n",
    "\n",
    "def format_prompt(message, history):\n",
    "  prompt = \"<s>\"\n",
    "  for user_prompt, bot_response in history:\n",
    "    prompt += f\"[INST] {user_prompt} [/INST]\"\n",
    "    prompt += f\" {bot_response}</s> \"\n",
    "  prompt += f\"[INST] {message} [/INST]\"\n",
    "  return prompt\n",
    "\n",
    "def format_user(history):\n",
    "    prompt = \"<s>\"\n",
    "    for user_prompt, bot_response in history:\n",
    "        prompt += f\"[INST] {user_prompt} [/INST]\"\n",
    "        prompt += f\" {bot_response}</s> \"\n",
    "    prompt += f\"[INST]\"\n",
    "    return prompt"
   ]
  },
  {
   "cell_type": "code",
   "execution_count": 5,
   "id": "f1209d58",
   "metadata": {},
   "outputs": [
    {
     "name": "stderr",
     "output_type": "stream",
     "text": [
      "100%|██████████████████████████████████████████████████████████████████████████████████████████████████████| 2/2 [00:02<00:00,  1.21s/it]\n"
     ]
    },
    {
     "data": {
      "text/plain": [
       "198955"
      ]
     },
     "execution_count": 5,
     "metadata": {},
     "output_type": "execute_result"
    }
   ],
   "source": [
    "partitions = []\n",
    "total = 0\n",
    "for f in tqdm(files):\n",
    "    total = 0\n",
    "    filename = os.path.split(f)[1].replace('.tokenized', '')\n",
    "    with open(f) as fopen:\n",
    "        for l in fopen:\n",
    "            l = json.loads(l)\n",
    "            partitions.append((l, filename))\n",
    "            total += 1\n",
    "    \n",
    "len(partitions)"
   ]
  },
  {
   "cell_type": "code",
   "execution_count": 6,
   "id": "23d273da",
   "metadata": {},
   "outputs": [
    {
     "data": {
      "text/plain": [
       "2018"
      ]
     },
     "execution_count": 6,
     "metadata": {},
     "output_type": "execute_result"
    }
   ],
   "source": [
    "with open('random-reply-user.json') as fopen:\n",
    "    random_user = json.load(fopen)\n",
    "    \n",
    "with open('stupid-random-reply-user.json') as fopen:\n",
    "    stupid_random_user = json.load(fopen)\n",
    "    \n",
    "disagree = [\n",
    "    'hi', 'hi hi', 'saya nak tanya soalan boleh', 'hello'\n",
    "    'bullshit', 'u are lying', 'tipu la ko', 'penipu', 'tipu lah sial', 'ko tipu', 'aku tak caye',\n",
    "    'wtf tipu', 'ye ke ko ni, tipu lah', 'tipu sial', 'bodoh salah', 'tak betul la sial',\n",
    "    'tak betul', 'salah', 'ko pasti ke ni', 'tipu tipu tipu',\n",
    "]\n",
    "\n",
    "with open('disagree.json') as fopen:\n",
    "    disagree.extend(json.load(fopen)[:1000])\n",
    "    \n",
    "with open('doubt.json') as fopen:\n",
    "    disagree.extend(json.load(fopen)[:1000])\n",
    "    \n",
    "disagree = [d for d in disagree if len(d) > 2]\n",
    "len(disagree)"
   ]
  },
  {
   "cell_type": "code",
   "execution_count": 7,
   "id": "bf627138",
   "metadata": {},
   "outputs": [
    {
     "data": {
      "text/plain": [
       "605702"
      ]
     },
     "execution_count": 7,
     "metadata": {},
     "output_type": "execute_result"
    }
   ],
   "source": [
    "with open('malay-instructions.json') as fopen:\n",
    "    malay_instructions = json.load(fopen)\n",
    "    \n",
    "len(malay_instructions)"
   ]
  },
  {
   "cell_type": "code",
   "execution_count": 8,
   "id": "6eaeb9e3",
   "metadata": {
    "scrolled": true
   },
   "outputs": [
    {
     "name": "stdout",
     "output_type": "stream",
     "text": [
      "mkdir: cannot create directory ‘rag-multiturn-chaotic-part2’: File exists\r\n"
     ]
    }
   ],
   "source": [
    "!mkdir rag-multiturn-chaotic-part2"
   ]
  },
  {
   "cell_type": "code",
   "execution_count": 9,
   "id": "09d9bc0f",
   "metadata": {},
   "outputs": [],
   "source": [
    "# q = partitions[0]"
   ]
  },
  {
   "cell_type": "code",
   "execution_count": 10,
   "id": "1521343b",
   "metadata": {},
   "outputs": [],
   "source": [
    "# prompt = f'{q[0]}\\n\\ngenerate questions based on context above'\n",
    "# formatted_prompt = format_prompt(prompt, [])\n",
    "\n",
    "# while True:\n",
    "#     try:\n",
    "#         stream = client.text_generation(formatted_prompt, **generate_kwargs, stream=False, details=True, return_full_text=False)\n",
    "#         output = stream.generated_text\n",
    "#         break\n",
    "#     except:\n",
    "#         pass\n",
    "\n",
    "# splitted = output.strip().split('\\n')\n",
    "# splitted = [s for s in splitted if '.' if s and '?' in s]\n",
    "# splitted = ['.'.join(s.split('.')[1:]).strip() for s in splitted]\n",
    "# splitted = [s for s in splitted if len(s) > 3]\n",
    "# splitted = [s[1:] if s[0] == '\"' else s for s in splitted]\n",
    "# questions = [s[:-1] if s[-1] == '\"' else s for s in splitted]\n",
    "# questions = [s for s in questions if len(s) > 20]"
   ]
  },
  {
   "cell_type": "code",
   "execution_count": 11,
   "id": "489f79ff",
   "metadata": {},
   "outputs": [],
   "source": [
    "# history = []\n",
    "# for _ in range(random.randint(2, 5)):\n",
    "#     choice = random.randint(0, 5)\n",
    "#     if choice in [0,1]:\n",
    "#         rq = random.choice(random_user)\n",
    "#     elif choice in [2]:\n",
    "#         rq = random.choice(disagree)\n",
    "#     elif choice in [3]:\n",
    "#         rq = random.choice(stupid_random_user)\n",
    "#     else:\n",
    "#         rq = random.choice(questions)\n",
    "#     u = f\"\"\"\n",
    "# knowledge base is below.\n",
    "# ---------------------\n",
    "# {q[0]}\n",
    "# ---------------------\n",
    "# Given the knowledge base and not prior knowledge, respond user question.\n",
    "# Question: {rq}\n",
    "# \"\"\"\n",
    "#     formatted_prompt = format_prompt(u, history)\n",
    "#     while True:\n",
    "#         try:\n",
    "#             stream = client.text_generation(formatted_prompt, **generate_kwargs, stream=False, details=True, return_full_text=False)\n",
    "#             a = stream.generated_text.strip()\n",
    "#             break\n",
    "#         except Exception as e:\n",
    "#             # print(e)\n",
    "#             pass\n",
    "\n",
    "#     history.append((rq, a))\n",
    "    \n",
    "# history"
   ]
  },
  {
   "cell_type": "code",
   "execution_count": 12,
   "id": "70bbf65d",
   "metadata": {},
   "outputs": [],
   "source": [
    "def answer(q, i):\n",
    "    filename = f'rag-multiturn-chaotic-part2/{i}.json'\n",
    "    if os.path.exists(filename):\n",
    "        return\n",
    "    \n",
    "    prompt = f'{q[0]}\\n\\ngenerate questions based on context above'\n",
    "    formatted_prompt = format_prompt(prompt, [])\n",
    "    \n",
    "    while True:\n",
    "        try:\n",
    "            stream = client.text_generation(formatted_prompt, **generate_kwargs, stream=False, details=True, return_full_text=False)\n",
    "            output = stream.generated_text\n",
    "            break\n",
    "        except:\n",
    "            pass\n",
    "    \n",
    "    splitted = output.strip().split('\\n')\n",
    "    splitted = [s for s in splitted if '.' if s and '?' in s]\n",
    "    splitted = ['.'.join(s.split('.')[1:]).strip() for s in splitted]\n",
    "    splitted = [s for s in splitted if len(s) > 3]\n",
    "    splitted = [s[1:] if s[0] == '\"' else s for s in splitted]\n",
    "    questions = [s[:-1] if s[-1] == '\"' else s for s in splitted]\n",
    "    questions = [s for s in questions if len(s) > 20]\n",
    "    \n",
    "    if not len(questions):\n",
    "        with open(filename, 'w') as fopen:\n",
    "            json.dump(False, fopen)\n",
    "        return\n",
    "    \n",
    "    history = []\n",
    "    questions_set = set(questions)\n",
    "    selected_q = set()\n",
    "    for _ in range(random.randint(2, 5)):\n",
    "        if len(list(questions_set - selected_q)) == 0:\n",
    "            break\n",
    "        choice = random.randint(0, 10)\n",
    "        if choice in [0]:\n",
    "            rq = random.choice(random_user)\n",
    "        elif choice in [1]:\n",
    "            rq = random.choice(disagree)\n",
    "        elif choice in [2]:\n",
    "            rq = random.choice(stupid_random_user)\n",
    "        elif choice in [3]:\n",
    "            rq = random.choice(malay_instructions)\n",
    "        else:\n",
    "            rq = random.choice(list(questions_set - selected_q))\n",
    "            selected_q.add(rq)\n",
    "            \n",
    "        u = f\"\"\"\n",
    "knowledge base is below.\n",
    "---------------------\n",
    "{q[0]}\n",
    "---------------------\n",
    "Given the knowledge base and not prior knowledge, respond user question.\n",
    "Question: {rq}\n",
    "\"\"\"\n",
    "        formatted_prompt = format_prompt(u.strip(), history)\n",
    "        while True:\n",
    "            try:\n",
    "                stream = client.text_generation(formatted_prompt, **generate_kwargs, stream=False, details=True, return_full_text=False)\n",
    "                a = stream.generated_text.strip()\n",
    "                break\n",
    "            except Exception as e:\n",
    "                # print(e)\n",
    "                pass\n",
    "\n",
    "        history.append((rq, a))\n",
    "    \n",
    "    d = {\n",
    "        'filename': q[1],\n",
    "        'context': q[0],\n",
    "        'questions': questions,\n",
    "        'multiturn': history\n",
    "    }\n",
    "    \n",
    "    with open(filename, 'w') as fopen:\n",
    "        json.dump(d, fopen)"
   ]
  },
  {
   "cell_type": "code",
   "execution_count": 13,
   "id": "d0aa6fc0",
   "metadata": {},
   "outputs": [],
   "source": [
    "answer(partitions[1], 1)"
   ]
  },
  {
   "cell_type": "code",
   "execution_count": 14,
   "id": "84f8e1d5",
   "metadata": {},
   "outputs": [],
   "source": [
    "with open('rag-multiturn-chaotic-part2/1.json') as fopen:\n",
    "    d = json.load(fopen)"
   ]
  },
  {
   "cell_type": "code",
   "execution_count": 15,
   "id": "b9ce7ef5",
   "metadata": {},
   "outputs": [
    {
     "data": {
      "text/plain": [
       "[['What form should be used for the application of the Tambang Mengunjungi Wilayah Asal?',\n",
       "  'Based on the knowledge base provided, the form to be used for the application of the Tambang Mengunjungi Wilayah Asal is Lampiran A, Pekeliling Perkhidmatan ini. It is mentioned in point m of the knowledge base that the application for using the facility should be made using the form in Lampiran A.'],\n",
       " ['And how much does a duck weigh?',\n",
       "  'I\\'m sorry for any confusion, but the provided knowledge base does not contain any information about the weight of a duck. The knowledge base consists of a policy regarding the use of a facility called \"Tambang Mengunjungi Wilayah Asal\" by certain government employees, as well as instructions for using a web-based dashboard for strategic planning. If you have any questions related to this topic, I would be happy to try to answer them.']]"
      ]
     },
     "execution_count": 15,
     "metadata": {},
     "output_type": "execute_result"
    }
   ],
   "source": [
    "d['multiturn']"
   ]
  },
  {
   "cell_type": "code",
   "execution_count": 16,
   "id": "a75724c9",
   "metadata": {},
   "outputs": [],
   "source": [
    "def consumer(queue, name):\n",
    "    while True:\n",
    "        if queue.qsize() == 0:\n",
    "            break\n",
    "        item = queue.get()\n",
    "        answer(*item)\n",
    "    print(f'consumer {name} done')"
   ]
  },
  {
   "cell_type": "code",
   "execution_count": 17,
   "id": "c291f694",
   "metadata": {},
   "outputs": [],
   "source": [
    "from threading import Thread\n",
    "from queue import Queue\n",
    "\n",
    "queue = Queue()\n",
    "urls = [(q, no) for no, q in enumerate(partitions)]\n",
    "for u in urls:\n",
    "    queue.put(u)\n",
    "    \n",
    "ori_size = queue.qsize()"
   ]
  },
  {
   "cell_type": "code",
   "execution_count": null,
   "id": "6fbac668",
   "metadata": {},
   "outputs": [
    {
     "name": "stderr",
     "output_type": "stream",
     "text": [
      " 87%|███████████████████████████████████████████████████████████████████████████▋           | 173124/198955 [12:12:36<3:49:28,  1.88it/s]"
     ]
    }
   ],
   "source": [
    "max_worker = 600\n",
    "consumers = [Thread(target=consumer, args=(queue,i)) for i in range(max_worker)]\n",
    "for i in range(len(consumers)):\n",
    "    consumers[i].start()\n",
    "    \n",
    "pbar = tqdm(total=ori_size)\n",
    "last_size = 0\n",
    "while True:\n",
    "    size = queue.qsize()\n",
    "    if size == 0:\n",
    "        break\n",
    "    left = ori_size - size\n",
    "    minus = left - last_size\n",
    "    if minus > 0:\n",
    "        pbar.update(minus)\n",
    "        last_size += minus\n",
    "\n",
    "pbar.close()"
   ]
  },
  {
   "cell_type": "code",
   "execution_count": 2,
   "id": "c8572645",
   "metadata": {},
   "outputs": [],
   "source": [
    "files = glob('rag-multiturn-chaotic-part2/*.json')"
   ]
  },
  {
   "cell_type": "code",
   "execution_count": 3,
   "id": "0b6df8d6",
   "metadata": {},
   "outputs": [
    {
     "name": "stderr",
     "output_type": "stream",
     "text": [
      "100%|██████████████████████████████████████████████████████████████████████████████████████████| 172542/172542 [00:33<00:00, 5211.98it/s]\n"
     ]
    },
    {
     "data": {
      "text/plain": [
       "1076592"
      ]
     },
     "execution_count": 3,
     "metadata": {},
     "output_type": "execute_result"
    }
   ],
   "source": [
    "all_texts = set()\n",
    "for f in tqdm(files):\n",
    "    with open(f) as fopen:\n",
    "        data = json.load(fopen)\n",
    "    if not data:\n",
    "        continue\n",
    "    for d in data['multiturn']:\n",
    "        all_texts |= set(d)\n",
    "len(all_texts)"
   ]
  },
  {
   "cell_type": "code",
   "execution_count": 4,
   "id": "1ea03f90",
   "metadata": {},
   "outputs": [],
   "source": [
    "with open('rag-multiturn-chaotic-part2.texts', 'w') as fopen:\n",
    "    for t in all_texts:\n",
    "        if not len(t):\n",
    "            continue\n",
    "        fopen.write(f'{json.dumps(t)}\\n')"
   ]
  },
  {
   "cell_type": "code",
   "execution_count": 5,
   "id": "76331b06",
   "metadata": {},
   "outputs": [],
   "source": [
    "!cp rag-multiturn-chaotic-part2.texts ../translation"
   ]
  },
  {
   "cell_type": "code",
   "execution_count": 6,
   "id": "394b4d2c",
   "metadata": {},
   "outputs": [
    {
     "data": {
      "text/plain": [
       "1076533"
      ]
     },
     "execution_count": 6,
     "metadata": {},
     "output_type": "execute_result"
    }
   ],
   "source": [
    "import re\n",
    "\n",
    "mapping = {}\n",
    "for f in glob('/home/husein/ssd3/translation/rag-multiturn-chaotic-part2.texts*.splitted.requested'):\n",
    "    with open(f) as fopen:\n",
    "        for l in fopen:\n",
    "            l = json.loads(l)\n",
    "            if 'Source text\\nclear\\nLook up details' in l['r']['result']:\n",
    "                continue\n",
    "            if 'clear\\nLook up details' in l['r']['result']:\n",
    "                continue\n",
    "            if l['r']['result'].startswith('Source text\\n'):\n",
    "                continue\n",
    "\n",
    "            n = l['r']['result']\n",
    "            hypens = re.findall('\\w+ -\\w+', n)\n",
    "            for h in hypens:\n",
    "                splitted = h.split('-')\n",
    "                if len(splitted) != 2:\n",
    "                    continue\n",
    "                splitted = [s.strip() for s in splitted]\n",
    "                splitted = '-'.join(splitted)\n",
    "                n = n.replace(h, splitted)\n",
    "            mapping[l['src']] = n\n",
    "            \n",
    "len(mapping)"
   ]
  },
  {
   "cell_type": "code",
   "execution_count": 15,
   "id": "6e4c9941",
   "metadata": {},
   "outputs": [
    {
     "name": "stderr",
     "output_type": "stream",
     "text": [
      "100%|██████████████████████████████████████████████████████████████████████████████████████████| 172542/172542 [00:49<00:00, 3512.13it/s]\n"
     ]
    }
   ],
   "source": [
    "with open('rag-multiturn-chaotic-part2.jsonl', 'w') as fopen_l:\n",
    "    for f in tqdm(files):\n",
    "        try:\n",
    "            with open(f) as fopen:\n",
    "                data = json.load(fopen)\n",
    "        except:\n",
    "            continue\n",
    "            \n",
    "        if not data:\n",
    "            continue\n",
    "            \n",
    "        chat = []\n",
    "        for d in data['multiturn']:\n",
    "            chat.extend([\n",
    "                {'role': 'user', 'content': d[0], 'content_ms': mapping.get(d[0])},\n",
    "                {'role': 'assistant', 'content': d[1], 'content_ms': mapping.get(d[1])}\n",
    "            ])\n",
    "\n",
    "        d = {\n",
    "            'filename': data['filename'],\n",
    "            'chat': chat,\n",
    "            'context': data['context'],\n",
    "            'questions': data['questions']\n",
    "        }\n",
    "        fopen_l.write(f'{json.dumps(d)}\\n')"
   ]
  },
  {
   "cell_type": "code",
   "execution_count": 16,
   "id": "496f6330",
   "metadata": {},
   "outputs": [
    {
     "name": "stdout",
     "output_type": "stream",
     "text": [
      "{\"filename\": \"gov.my.jsonl\", \"chat\": [{\"role\": \"user\", \"content\": \"Are you as sure as a horse's hind leg?\", \"content_ms\": \"Adakah anda pasti seperti kaki belakang kuda?\"}, {\"role\": \"assistant\", \"content\": \"I'm afraid I don't understand the reference to a horse's hind leg in relation to my ability to provide accurate information. However, I can assure you that I will provide information based solely on the knowledge base you've given me and to the best of my ability, I will provide accurate and relevant responses. I don't have feelings, beliefs, or personal knowledge, I am a machine learning model that generate text based on the input data.\", \"content_ms\": \"Saya takut saya tidak memahami rujukan kepada kaki belakang kuda berkaitan dengan keupayaan saya untuk memberikan maklumat yang tepat. Walau bagaimanapun, saya boleh memberi jaminan kepada anda bahawa saya akan memberikan maklumat hanya berdasarkan pangkalan pengetahuan yang anda berikan kepada saya dan setakat kemampuan saya, saya akan memberikan respons yang tepat dan relevan. Saya tidak mempunyai perasaan, kepercayaan atau pengetahuan peribadi, saya ialah model pembelajaran mesin yang menjana teks berdasarkan data input.\"}, {\"role\": \"user\", \"content\": \"When does the order come into force?\", \"content_ms\": \"Bilakah perintah itu mula berkuat kuasa?\"}, {\"role\": \"assistant\", \"content\": \"Based on the knowledge base provided, the Environmental Quality (Prescribed Premises) (Scheduled Wastes Treatment and Disposal Facilities) Order 1989 comes into force on the 1st of May, 1989.\", \"content_ms\": \"Berdasarkan pangkalan pengetahuan yang disediakan, Perintah Kualiti Alam Sekeliling (Premis Ditetapkan) (Kemudahan Rawatan dan Pelupusan Sisa Terjadual) 1989 berkuat kuasa pada 1 Mei 1989.\"}, {\"role\": \"user\", \"content\": \"How does the order impact businesses and individuals in Malaysia?\", \"content_ms\": \"Bagaimanakah pesanan itu memberi kesan kepada perniagaan dan individu di Malaysia?\"}, {\"role\": \"assistant\", \"content\": \"Based on the knowledge base provided, the Environmental Quality (Prescribed Premises) (Scheduled Wastes Treatment and Disposal Facilities) Order 1989, which comes into force on the 1st of May, 1989 in Malaysia, is a subsidiary legislation under the Environmental Quality Act 1974 [Act 127]. This order sets forth the regulations for prescribed premises and scheduled wastes treatment and disposal facilities in Malaysia. The aim of this order is to control and manage the generation, treatment, storage, and disposal of scheduled wastes in a manner that protects the environment and human health.\\n\\nTherefore, businesses and individuals in Malaysia that generate, handle, or dispose of scheduled wastes, as defined in the order, will be impacted by these regulations. They will be required to comply with the standards and requirements set forth in the order, such as proper treatment, storage, and disposal of scheduled wastes, and obtaining the necessary permits and approvals from the relevant authorities. Non-compliance with the regulations can result in penalties, such as fines and/or imprisonment. It is important for businesses and individuals in Malaysia to be aware of and understand the requirements of this order, and to take appropriate measures to ensure compliance.\", \"content_ms\": \"Berdasarkan pangkalan pengetahuan yang disediakan, Perintah Kualiti Alam Sekeliling (Premis Ditetapkan) (Kemudahan Rawatan dan Pelupusan Sisa Terjadual) 1989, yang berkuat kuasa pada 1 Mei, 1989 di Malaysia, adalah perundangan subsidiari di bawah Akta Kualiti Alam Sekitar 1974 [ Akta 127]. Perintah ini menetapkan peraturan untuk premis yang ditetapkan dan kemudahan rawatan dan pelupusan sisa terjadual di Malaysia. Matlamat perintah ini adalah untuk mengawal dan mengurus penjanaan, rawatan, penyimpanan dan pelupusan sisa terjadual dengan cara yang melindungi alam sekitar dan kesihatan manusia.\\n\\nOleh itu, perniagaan dan individu di Malaysia yang menjana, mengendalikan atau membuang sisa terjadual, seperti yang dinyatakan dalam perintah itu, akan terjejas oleh peraturan ini. Mereka akan dikehendaki mematuhi piawaian dan keperluan yang ditetapkan dalam perintah itu, seperti rawatan yang betul, penyimpanan, dan pelupusan sisa terjadual, dan mendapatkan permit dan kelulusan yang diperlukan daripada pihak berkuasa yang berkaitan. Ketidakpatuhan terhadap peraturan boleh mengakibatkan penalti, seperti denda dan/atau penjara. Adalah penting bagi perniagaan dan individu di Malaysia untuk menyedari dan memahami keperluan perintah ini, dan mengambil langkah yang sesuai untuk memastikan pematuhan.\"}, {\"role\": \"user\", \"content\": \"What are the potential consequences for non-compliance with the order?\", \"content_ms\": \"Apakah akibat yang berpotensi untuk ketidakpatuhan terhadap perintah itu?\"}, {\"role\": \"assistant\", \"content\": \"Based on the knowledge base provided, the Environmental Quality (Prescribed Premises) (Scheduled Wastes Treatment and Disposal Facilities) Order 1989 is a subsidiary legislation under the Environmental Quality Act 1974 in Malaysia. The order sets forth the regulations for prescribed premises and scheduled wastes treatment and disposal facilities in Malaysia.\\n\\nNon-compliance with the regulations set forth in the order can result in penalties, such as fines and/or imprisonment. The exact penalties for non-compliance are not specified in the order, but are likely defined in the Environmental Quality Act 1974.\\n\\nIt's important to note that I'm a language model, and my knowledge cut off is 2021, I don't have real-time access to any laws, regulations or any other legal information. It is always recommended to consult the legal text or consult with a legal professional to get the most accurate and up-to-date information about the potential consequences of non-compliance with any specific regulation.\", \"content_ms\": \"Berdasarkan pangkalan pengetahuan yang disediakan, Perintah Kualiti Alam Sekeliling (Premis Ditetapkan) (Kemudahan Rawatan dan Pelupusan Sisa Terjadual) 1989 adalah perundangan subsidiari di bawah Akta Kualiti Alam Sekeliling 1974 di Malaysia. Perintah itu menetapkan peraturan untuk premis yang ditetapkan dan kemudahan rawatan dan pelupusan sisa terjadual di Malaysia.\\n\\nKetidakpatuhan terhadap peraturan yang ditetapkan dalam perintah itu boleh mengakibatkan penalti, seperti denda dan/atau penjara. Penalti yang tepat bagi ketidakpatuhan tidak dinyatakan dalam perintah itu, tetapi mungkin ditakrifkan dalam Akta Kualiti Alam Sekeliling 1974.\\n\\nAdalah penting untuk ambil perhatian bahawa saya adalah model bahasa, dan pengetahuan saya terputus ialah 2021, saya tidak mempunyai akses masa nyata kepada mana-mana undang-undang, peraturan atau sebarang maklumat undang-undang lain. Ia sentiasa disyorkan untuk merujuk teks undang-undang atau berunding dengan profesional undang-undang untuk mendapatkan maklumat yang paling tepat dan terkini tentang kemungkinan akibat ketidakpatuhan terhadap mana-mana peraturan tertentu.\"}, {\"role\": \"user\", \"content\": \"How does the order contribute to Malaysia's overall environmental quality and sustainability efforts?\", \"content_ms\": \"Bagaimanakah perintah itu menyumbang kepada usaha kualiti alam sekitar dan kemampanan keseluruhan Malaysia?\"}, {\"role\": \"assistant\", \"content\": \"Based on the provided knowledge base, the Environmental Quality (Prescribed Premises) (Scheduled Wastes Treatment and Disposal Facilities) Order 1989 is a subsidiary legislation under the Environmental Quality Act 1974 in Malaysia. The order sets forth the regulations for prescribed premises and scheduled wastes treatment and disposal facilities in Malaysia, which aim to control and manage the generation, treatment, storage, and disposal of scheduled wastes in a manner that protects the environment and human health. By establishing standards and requirements for the proper handling and disposal of scheduled wastes, the order helps to prevent pollution, protect the environment, and promote sustainability. This order is one of the regulations put in place by the Malaysian government to control and manage the waste generated by different industries and businesses, in order to achieve a good environmental quality and a sustainable development.\\n\\nAdditionally, The Environmental Quality Act 1974 is a primary legislation that provides the legal framework for environmental protection, conservation and management in Malaysia, which aim to protect and improve the quality of the environment, and to provide for the prevention, abatement and control of pollution and environmental degradation. The order contributes to Malaysia's overall environmental quality and sustainability efforts by setting specific regulations that must be followed, thus ensuring a better and more effective enforcement of the general objectives of the act.\\n\\nHowever, I'd like to point out again that my knowledge cut off is 2021 and I am a machine learning model, and my response is based on the provided knowledge base, and I do not have real-time access to any laws, regulations or any other legal information. It is always recommended to consult the legal text or consult with a legal professional to get the most accurate and up-to-date information about the impact of the order on Malaysia's overall environmental quality and sustainability efforts.\", \"content_ms\": \"Berdasarkan pangkalan pengetahuan yang disediakan, Perintah Kualiti Alam Sekeliling (Premis Ditetapkan) (Kemudahan Rawatan dan Pelupusan Sisa Terjadual) 1989 ialah perundangan subsidiari di bawah Akta Kualiti Alam Sekeliling 1974 di Malaysia. Perintah itu menetapkan peraturan untuk premis yang ditetapkan dan kemudahan rawatan dan pelupusan sisa terjadual di Malaysia, yang bertujuan untuk mengawal dan mengurus penjanaan, rawatan, penyimpanan, dan pelupusan sisa terjadual dengan cara yang melindungi alam sekitar dan kesihatan manusia. Dengan mewujudkan piawaian dan keperluan untuk pengendalian dan pelupusan sisa terjadual yang betul, perintah itu membantu mencegah pencemaran, melindungi alam sekitar dan menggalakkan kemampanan. Perintah ini adalah salah satu peraturan yang ditetapkan oleh kerajaan Malaysia untuk mengawal dan mengurus sisa yang dihasilkan oleh industri dan perniagaan yang berbeza, untuk mencapai kualiti alam sekitar yang baik dan pembangunan yang mampan.\\n\\nDi samping itu, Akta Kualiti Alam Sekeliling 1974 ialah perundangan utama yang menyediakan rangka kerja perundangan untuk perlindungan, pemuliharaan dan pengurusan alam sekitar di Malaysia, yang bertujuan untuk melindungi dan meningkatkan kualiti alam sekitar, dan untuk memperuntukkan pencegahan, pengurangan dan kawalan pencemaran. dan kemerosotan alam sekitar. Perintah itu menyumbang kepada keseluruhan usaha kualiti alam sekitar dan kemampanan Malaysia dengan menetapkan peraturan khusus yang mesti dipatuhi, sekali gus memastikan penguatkuasaan yang lebih baik dan berkesan terhadap objektif am akta tersebut.\\n\\nWalau bagaimanapun, saya ingin menegaskan sekali lagi bahawa pengetahuan saya terputus ialah 2021 dan saya adalah model pembelajaran mesin, dan respons saya adalah berdasarkan pangkalan pengetahuan yang disediakan, dan saya tidak mempunyai akses masa nyata kepada mana-mana undang-undang, peraturan. atau sebarang maklumat undang-undang lain. Ia sentiasa disyorkan untuk merujuk teks undang-undang atau berunding dengan profesional undang-undang untuk mendapatkan maklumat yang paling tepat dan terkini tentang kesan perintah itu terhadap keseluruhan usaha kualiti alam sekitar dan kelestarian Malaysia.\"}], \"context\": \"and Chen, J (2013). Integration of high-resolution physical and genetic map reveals differential recombination frequency between chromosomes and the genome assembling quality in cucumber. PLOS ONE 8(5): e62676. Madon, M; Arulandoo, X; Sritharan, K; Nordiana, H M N; Muhammad Azwan, Z and Zaki, N M (2018). Short communication: Genomic constitution of oil palm interspecific hybrid crosses monitored by genomic in situ hybridization (GISH). J. Oil Palm Res. Vol. 30(2): 338-344. Madon, M; Clyde, M M and Cheah, S C (1999). Application of genomic in situ hybridization (GISH) on Elaeis hybrids. J. Oil Palm Res. Vol. (Special Issue): 74-80. Madon, M; Heslop-Harrison, J S; Schwarzacher, T; Mohd Rafdi, M H and Clyde, M M (2005). Cytological analysis of oil palm pollen mother cells (PMC). J. Oil Palm Res. Vol. 17: 176-180. Maluszynska, J and Hasterok, R (2005). Identification of individual chromosomes and parental genomes in Brassica juncea using GISH and FISH. Cyto. and Genome Res. 109: 310-314. Meunier, J (1987). Prospects of E. oleifera x E. guineensis interspecific hybrids. IRHO results. Proc. of ISOPB/PORIM Workshop on Prospects of Interspecific Hybrids (Soh, A C and Rajanaidu, N eds.). p. 11-15. Murphy, S P and Bass, H W (2012). Genetics and cytology of meiotic chromosome behavior in plants. Plant Cytogenetics, Plant Genetics and Genomics: Crops and Models 4 (Bass, H W and Birchler, J A eds.). 345 pp. DOI:10.1007/978-0-387-70869-0_8. Nair, P K K (1969). The thesis of pollen based plant research. J. Palynol., 5(1): 49-50. Nordiana, H M N; Muhammad Azwan, Z; Arulandoo, X; Sritharan, K and Madon, M (2016). Development of meiotic pachytene chromosomes preparation technique in oil palm interspecific hybrid and backcross (BC2), Transactions of Persatuan Genetik Malaysia Vol. 3. Genetics Society of Malaysia. p. 143-146. Phillips, D; Wnetrzak, J; Nibau, C; Barakate, A; Ramsay, L; Wright, F; Higgins, J D, Perry, R M and Jenkins, G (2013). Quantitative high resolution mapping of HvMLH3 foci in barley pachytene nuclei reveals a strong distal bias and weak interference. J. Exp. Bot., 64(8): 2139-2154. DOI:10.1093/jxb/ert079. Rahimah, A B; Cheah, S C and Singh, R (2006). Freeze-drying of oil palm (Elaeis guineensis) leaf and its effect on the quality of extractable DNA. J. Oil Palm Res. Vol. 18: 296-304. Rajanaidu, N; Chin, C W and Jalani, B S (1995). Performance of Elaeis oleifera (Surinam) x E. guineensis hybrids. ISOPB International Seminar. Barranquilla, Colombia. Rasheed, A A; Perveen, A; Abid, R and Qaiser, M (2016). Pollen morphology of the subfamily Arecoideae Griff. (family-Arecaceae) from Pakistan and Kashmir. Pak. J. Bot., 48(3): 1051-1060. Ravi Kumar, C and Nair, P K K (1986). Inheritance of exine ornamentation and pollen shape in the interspecific tetraploid hybrids of Gloriosa. Can. J. Bot., 64: 3134-3140. Rhee, H K; Cho, H R and Kim, K S (2005). Comparison of pollen morphology in interspecific hybrid lilies after in vitro chromosome doubling. Proc. of the IXth International Symposium on Flower Bulbs. Acta Hot., 673: 639-643. Schubert, I; Fransz, P F; Fuchs, J and De Jong, J H (2001). Chromosome painting in plants. Methods in Cell Science, 23(1-3): 57-69. Schwarzacher, T and Heslop-Harrison, J S (2000). Practical in situ hybridization. BIOS Scientific Publishers Ltd, Abindgdon, United Kingdom. 250 pp. Schwarzacher, T; Anamthawat-Jonsson, K and Harrison, G E (1992). Genomic in situ hybridization to identify alien chromosomes and chromosome segments in wheat. Theor. Appl. Genet., 84: 778-786. Singh, R; Ong-Abdullah, M; Low, E T L; Manaf, M A A; Rosli, R; Rajanaidu, N; Ooi, L C L; Ooi, S E; Chan, K-L; Ab Halim, M A; Azizi, N; Jayanthi, N; Bacher, B; Lakey, N; Steven, W S; He, D; Hogan, M; Budiman, M A; Lee, E K; Desalle, R; Kudma, D; Goicoechea, J L; Wing, R A; Wilson, R K; Fulton, R S; Ordway, J M; 11 OIL PALM MALE MEIOSIS PROFILING: FROM FIELD OBSERVATION TO CYTOGENETICS ANALYSIS Martienssen, R A and Sambanthamurthi, R (2013). Oil palm genome sequence reveals divergence of interfertile species in Old and New worlds. Nature, 500: 335-339. Thomas, P T and Thomas, H (1973). Annual Report of the Welsh Plant Breeding Station for 1973. Aberystwyth, Cambrian News. 85 pp. Zhong, X B; De Jong, J H and Zabel, P (1996). Preparation of tomato meiotic pachytene and mitotic metaphase chromosomes suitable for fluorescence in situ hybridization (FISH). Chromosome Res., 4: 24-28. FEDERAL SUBSIDIARY LEGISLATION ENVIRONMENTAL QUALITY ACT 1974 [ACT 127] P.U.(A) 140/89 ENVIRONMENTAL QUALITY (PRESCRIBED PREMISES) (SCHEDULED WASTES TREATMENT AND DISPOSAL FACILITIES) ORDER 1989 Incorporating latest amendments - P.U.(A) 252/2006 Publication : 27th April 1989 Date of coming into operation : 1st May 1989 ARRANGEMENT OF ORDERS Preamble Order 1. Citation and commencement. Order 2. Interpretation. Order 3. Prescribed premises. LIST OF AMENDMENTS. Preamble IN exercise of the powers conferred by section 18 of the Environmental Quality Act 1974 [Act 127], the Minister, after consultation with the Environmental Quality Council, makes the following order : Order 1. Citation and commencement. This order may be cited as the Environmental Quality (Prescribed Premises) (Scheduled Wastes Treatment and Disposal Facilities) Order 1989 and shall come into force on the 1st May 1989.\", \"questions\": [\"What is the purpose of the Environmental Quality Act 1974 and the Environmental Quality (Prescribed Premises) (Scheduled Wastes Treatment and Disposal Facilities) Order 1989?\", \"What is the role of the Minister and the Environmental Quality Council in creating the order?\", \"What premises are prescribed in the order?\", \"When does the order come into force?\", \"How are terms in the order defined in Order 2?\", \"What is the significance of the amendments listed in the LIST OF AMENDMENTS section?\", \"What other federal subsidiary legislation relates to environmental quality in Malaysia?\", \"How does the Environmental Quality Act 1974 relate to other environmental legislation in Malaysia?\", \"How does the order fit into the broader context of environmental regulations in Malaysia?\", \"How does the order compare to similar regulations in other countries?\", \"How is compliance with the order enforced?\", \"What are the potential consequences for non-compliance with the order?\", \"Are there any notable court cases or legal precedents related to the order?\", \"How does the order impact businesses and individuals in Malaysia?\", \"How does the order contribute to Malaysia's overall environmental quality and sustainability efforts?\"]}\r\n"
     ]
    }
   ],
   "source": [
    "!head -n 1 rag-multiturn-chaotic-part2.jsonl"
   ]
  },
  {
   "cell_type": "code",
   "execution_count": null,
   "id": "5f58cc8a",
   "metadata": {},
   "outputs": [
    {
     "name": "stderr",
     "output_type": "stream",
     "text": [
      "/home/husein/.local/lib/python3.8/site-packages/requests/__init__.py:102: RequestsDependencyWarning: urllib3 (1.26.15) or chardet (5.2.0)/charset_normalizer (2.0.7) doesn't match a supported version!\n",
      "  warnings.warn(\"urllib3 ({}) or chardet ({})/charset_normalizer ({}) doesn't match a supported \"\n"
     ]
    },
    {
     "data": {
      "application/vnd.jupyter.widget-view+json": {
       "model_id": "347916fdd99f40c8afdb3612fc8d4a69",
       "version_major": 2,
       "version_minor": 0
      },
      "text/plain": [
       "rag-multiturn-chaotic-part2.jsonl:   0%|          | 0.00/2.45G [00:00<?, ?B/s]"
      ]
     },
     "metadata": {},
     "output_type": "display_data"
    }
   ],
   "source": [
    "from huggingface_hub import HfApi\n",
    "api = HfApi()\n",
    "api.upload_file(\n",
    "    path_or_fileobj='rag-multiturn-chaotic-part2.jsonl',\n",
    "    path_in_repo='mrag-multiturn-chaotic-part2.jsonl',\n",
    "    repo_id='mesolitica/mixtral-malaysian-rag',\n",
    "    repo_type='dataset',\n",
    ")"
   ]
  },
  {
   "cell_type": "code",
   "execution_count": null,
   "id": "dea86df6",
   "metadata": {},
   "outputs": [],
   "source": []
  }
 ],
 "metadata": {
  "kernelspec": {
   "display_name": "Python 3 (ipykernel)",
   "language": "python",
   "name": "python3"
  },
  "language_info": {
   "codemirror_mode": {
    "name": "ipython",
    "version": 3
   },
   "file_extension": ".py",
   "mimetype": "text/x-python",
   "name": "python",
   "nbconvert_exporter": "python",
   "pygments_lexer": "ipython3",
   "version": "3.8.10"
  }
 },
 "nbformat": 4,
 "nbformat_minor": 5
}
