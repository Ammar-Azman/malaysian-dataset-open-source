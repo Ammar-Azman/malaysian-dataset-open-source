{
 "cells": [
  {
   "cell_type": "code",
   "execution_count": 2,
   "id": "5bfe23e8",
   "metadata": {},
   "outputs": [],
   "source": [
    "# !pip3 install transformers msgspec"
   ]
  },
  {
   "cell_type": "code",
   "execution_count": 3,
   "id": "0ad79387",
   "metadata": {},
   "outputs": [],
   "source": [
    "from glob import glob\n",
    "from tqdm import tqdm\n",
    "import json\n",
    "import os\n",
    "import numpy as np\n",
    "from transformers import AutoTokenizer\n",
    "from tqdm import tqdm\n",
    "import msgspec\n",
    "import json\n",
    "import re\n",
    "\n",
    "http_errors = [\n",
    "        \"400 Bad Request\", \"401 Unauthorized\", \"402 Payment Required\", \"403 Forbidden\", \"404 Not Found\",\n",
    "        \"405 Method Not Allowed\", \"406 Not Acceptable\", \"407 Proxy Authentication Required\", \"408 Request Timeout\",\n",
    "        \"409 Conflict\", \"410 Gone\", \"411 Length Required\", \"412 Precondition Failed\", \"413 Payload Too Large\",\n",
    "        \"414 URI Too Long\", \"415 Unsupported Media Type\", \"416 Range Not Satisfiable\", \"417 Expectation Failed\",\n",
    "        \"418 I'm a teapot\", \"421 Misdirected Request\", \"422 Unprocessable Entity\", \"423 Locked\", \"424 Failed Dependency\",\n",
    "        \"425 Too Early\", \"426 Upgrade Required\", \"428 Precondition Required\", \"429 Too Many Requests\",\n",
    "        \"431 Request Header Fields Too Large\", \"451 Unavailable For Legal Reasons\", \"500 Internal Server Error\",\n",
    "        \"501 Not Implemented\", \"502 Bad Gateway\", \"503 Service Unavailable\", \"504 Gateway Timeout\",\n",
    "        \"505 HTTP Version Not Supported\", \"506 Variant Also Negotiates\", \"507 Insufficient Storage\",\n",
    "        \"508 Loop Detected\", \"510 Not Extended\", \"511 Network Authentication Required\"\n",
    "    ]"
   ]
  },
  {
   "cell_type": "code",
   "execution_count": 4,
   "id": "2128386d",
   "metadata": {},
   "outputs": [],
   "source": [
    "rejected = [\n",
    "    'Internal Server Error',\n",
    "    '__NOEDITSECTION__',\n",
    "    'enter your username and password',\n",
    "    'forgotten your password',\n",
    "    'cookies enabled',\n",
    "    'enable JavaScript in your browser.',\n",
    "    'The page cannot be displayed',\n",
    "    'site or edit the error_page',\n",
    "    'Request unsuccessful',\n",
    "]\n",
    "\n",
    "rejected.extend(http_errors)\n",
    "\n",
    "def replace_multiple(input_string, pattern =r\"\\s{6,}\", replace = '   '):\n",
    "    return re.sub(pattern, replace, input_string)\n",
    "\n",
    "def replace(string):\n",
    "    string = replace_multiple(string.replace('…', '.'))\n",
    "    string = replace_multiple(string, pattern = r\"\\.{6,}\", replace = '...')\n",
    "    return string\n",
    "\n",
    "def reject(string):\n",
    "    if any([r in string for r in rejected]):\n",
    "        return True\n",
    "    return False"
   ]
  },
  {
   "cell_type": "code",
   "execution_count": 5,
   "id": "d008f063",
   "metadata": {},
   "outputs": [],
   "source": [
    "def partition(text, size = 500):\n",
    "    splitted = text.split()\n",
    "    return [' '.join(splitted[i: i + size]) for i in range(0, len(splitted), size)]"
   ]
  },
  {
   "cell_type": "code",
   "execution_count": 6,
   "id": "dad491dc",
   "metadata": {},
   "outputs": [
    {
     "data": {
      "text/plain": [
       "274"
      ]
     },
     "execution_count": 6,
     "metadata": {},
     "output_type": "execute_result"
    }
   ],
   "source": [
    "files = glob('/home/ubuntu/dedup-text-dataset/*.jsonl')\n",
    "len(files)"
   ]
  },
  {
   "cell_type": "code",
   "execution_count": 7,
   "id": "d118a98e",
   "metadata": {},
   "outputs": [],
   "source": [
    "wiki = [\n",
    "    'wikipedia-2023-10-01.jsonl',\n",
    "    'wikipedia-20230901.en.filtered.jsonl',\n",
    "]\n",
    "language_related = [\n",
    "    'dictionary.jsonl',\n",
    "    'dewanbahasa-jdbp.jsonl',\n",
    "    'dialect.jsonl',\n",
    "    'kamusbm.jsonl',\n",
    "    'wiktionary-bahasa.jsonl',\n",
    "]\n",
    "gov_related = [\n",
    "    'hansard.jsonl',\n",
    "    'lom.agc.gov.my.jsonl',\n",
    "    'parlimen-gov.jsonl',\n",
    "    'gov.my.jsonl',\n",
    "    'edu.my.jsonl',\n",
    "]"
   ]
  },
  {
   "cell_type": "code",
   "execution_count": 8,
   "id": "0ba364f4",
   "metadata": {},
   "outputs": [
    {
     "data": {
      "text/plain": [
       "['/home/ubuntu/dedup-text-dataset/wikipedia-2023-10-01.jsonl',\n",
       " '/home/ubuntu/dedup-text-dataset/wikipedia-20230901.en.filtered.jsonl',\n",
       " '/home/ubuntu/dedup-text-dataset/dictionary.jsonl',\n",
       " '/home/ubuntu/dedup-text-dataset/dewanbahasa-jdbp.jsonl',\n",
       " '/home/ubuntu/dedup-text-dataset/dialect.jsonl',\n",
       " '/home/ubuntu/dedup-text-dataset/kamusbm.jsonl',\n",
       " '/home/ubuntu/dedup-text-dataset/wiktionary-bahasa.jsonl',\n",
       " '/home/ubuntu/dedup-text-dataset/hansard.jsonl',\n",
       " '/home/ubuntu/dedup-text-dataset/lom.agc.gov.my.jsonl',\n",
       " '/home/ubuntu/dedup-text-dataset/parlimen-gov.jsonl',\n",
       " '/home/ubuntu/dedup-text-dataset/gov.my.jsonl',\n",
       " '/home/ubuntu/dedup-text-dataset/edu.my.jsonl']"
      ]
     },
     "execution_count": 8,
     "metadata": {},
     "output_type": "execute_result"
    }
   ],
   "source": [
    "files = wiki + language_related + gov_related\n",
    "files = [os.path.join('/home/ubuntu/dedup-text-dataset', f) for f in files]\n",
    "files"
   ]
  },
  {
   "cell_type": "code",
   "execution_count": 17,
   "id": "27130a2b",
   "metadata": {},
   "outputs": [],
   "source": [
    "block_size = 2048\n",
    "\n",
    "def partition(text, size = 500):\n",
    "    splitted = text.split()\n",
    "    return [' '.join(splitted[i: i + size]) for i in range(0, len(splitted), size)]\n",
    "\n",
    "def read_dataset(tokenizer, train_file, block_size = block_size):\n",
    "    temp = []\n",
    "    \n",
    "    with open(f'{train_file}.tokenized', 'w') as fopen_l:\n",
    "        with open(train_file) as fopen:\n",
    "            for l in tqdm(fopen):\n",
    "                try:\n",
    "                    l = msgspec.json.decode(l)\n",
    "                except:\n",
    "                    pass\n",
    "                partitioned = partition(l)\n",
    "                for p in partitioned:\n",
    "                    tokenized = tokenizer(p)['input_ids']\n",
    "                    temp.extend(tokenized)\n",
    "                    while len(temp) >= block_size:\n",
    "                        block = temp[:block_size]\n",
    "                        temp = temp[block_size:]\n",
    "                        if len(block) == block_size:\n",
    "                            s = tokenizer.decode(block)\n",
    "                            fopen_l.write(f'{json.dumps(s)}\\n')\n",
    "                            fopen_l.flush()\n",
    "                        \n",
    "def loop(files):\n",
    "    files, _ = files\n",
    "    tokenizer = AutoTokenizer.from_pretrained(\n",
    "        'mistralai/Mixtral-8x7B-Instruct-v0.1',\n",
    "    )\n",
    "    tokenizer.add_bos_token = False\n",
    "    tokenizer.add_eos_token = False\n",
    "    for f in files:\n",
    "        read_dataset(tokenizer, f)"
   ]
  },
  {
   "cell_type": "code",
   "execution_count": 18,
   "id": "dc092975",
   "metadata": {},
   "outputs": [],
   "source": [
    "# !wget https://gist.githubusercontent.com/huseinzol05/98974ae8c6c7a65d4bc0af9f5003786a/raw/2e06e71ef7349a57bc58cc9913ae6bae1f9f8447/mp.py"
   ]
  },
  {
   "cell_type": "code",
   "execution_count": 19,
   "id": "2dfea9e7",
   "metadata": {},
   "outputs": [
    {
     "data": {
      "text/plain": [
       "12"
      ]
     },
     "execution_count": 19,
     "metadata": {},
     "output_type": "execute_result"
    }
   ],
   "source": [
    "len(files)"
   ]
  },
  {
   "cell_type": "code",
   "execution_count": 20,
   "id": "9381d751",
   "metadata": {
    "scrolled": true
   },
   "outputs": [
    {
     "name": "stderr",
     "output_type": "stream",
     "text": [
      "66it [00:00, 1682.46it/s]\n",
      "34192it [00:18, 1845.32it/s]\n",
      "4577it [00:35, 127.73it/s]s]\n",
      "1359it [00:49, 27.57it/s]s] \n",
      "54712it [01:03, 855.29it/s] \n",
      "24096it [01:11, 335.85it/s]\n",
      "438316it [11:05, 658.75it/s] \n",
      "56459it [13:04, 71.97it/s] \n",
      "21590it [15:36, 23.06it/s]s]\n",
      "1687it [16:07,  1.74it/s]/s]\n",
      "140932it [18:58, 123.79it/s]\n",
      "30055it [21:50, 22.93it/s]\n"
     ]
    }
   ],
   "source": [
    "import mp\n",
    "mp.multiprocessing(files, loop, cores = len(files), returned = False)"
   ]
  },
  {
   "cell_type": "code",
   "execution_count": 21,
   "id": "4f56b770",
   "metadata": {},
   "outputs": [],
   "source": [
    "# !git clone https://huggingface.co/datasets/malaysia-ai/online-articles-partition\n",
    "!cp dedup-text-dataset/*.tokenized online-articles-partition"
   ]
  },
  {
   "cell_type": "code",
   "execution_count": 23,
   "id": "baf3fab5",
   "metadata": {},
   "outputs": [],
   "source": [
    "from huggingface_hub import HfApi\n",
    "api = HfApi()"
   ]
  },
  {
   "cell_type": "code",
   "execution_count": 27,
   "id": "21a9f2c6",
   "metadata": {},
   "outputs": [
    {
     "data": {
      "application/vnd.jupyter.widget-view+json": {
       "model_id": "823f77b1e3bb447bbd3e18923b98b17c",
       "version_major": 2,
       "version_minor": 0
      },
      "text/plain": [
       "wikipedia-2023-10-01.jsonl.tokenized:   0%|          | 0.00/289M [00:00<?, ?B/s]"
      ]
     },
     "metadata": {},
     "output_type": "display_data"
    },
    {
     "data": {
      "application/vnd.jupyter.widget-view+json": {
       "model_id": "5b630cbdcc4b462ba2b2c5ed0967cc10",
       "version_major": 2,
       "version_minor": 0
      },
      "text/plain": [
       "wikipedia-20230901.en.filtered.jsonl.tokenized:   0%|          | 0.00/483M [00:00<?, ?B/s]"
      ]
     },
     "metadata": {},
     "output_type": "display_data"
    },
    {
     "data": {
      "application/vnd.jupyter.widget-view+json": {
       "model_id": "59816d95c4b44eedb3dcc458ef6a7cd3",
       "version_major": 2,
       "version_minor": 0
      },
      "text/plain": [
       "dictionary.jsonl.tokenized:   0%|          | 0.00/26.7M [00:00<?, ?B/s]"
      ]
     },
     "metadata": {},
     "output_type": "display_data"
    },
    {
     "data": {
      "application/vnd.jupyter.widget-view+json": {
       "model_id": "3a9d3130e0384de984cc16ac5b87dbf7",
       "version_major": 2,
       "version_minor": 0
      },
      "text/plain": [
       "dewanbahasa-jdbp.jsonl.tokenized:   0%|          | 0.00/16.9M [00:00<?, ?B/s]"
      ]
     },
     "metadata": {},
     "output_type": "display_data"
    },
    {
     "data": {
      "application/vnd.jupyter.widget-view+json": {
       "model_id": "2c4f3bc2d10b4840ab08a11ae51bf82e",
       "version_major": 2,
       "version_minor": 0
      },
      "text/plain": [
       "dialect.jsonl.tokenized:   0%|          | 0.00/14.3k [00:00<?, ?B/s]"
      ]
     },
     "metadata": {},
     "output_type": "display_data"
    },
    {
     "data": {
      "application/vnd.jupyter.widget-view+json": {
       "model_id": "83ed110cc2484f5797322f1d643f121c",
       "version_major": 2,
       "version_minor": 0
      },
      "text/plain": [
       "kamusbm.jsonl.tokenized:   0%|          | 0.00/7.65M [00:00<?, ?B/s]"
      ]
     },
     "metadata": {},
     "output_type": "display_data"
    },
    {
     "data": {
      "application/vnd.jupyter.widget-view+json": {
       "model_id": "e94ab5f89027418b9b73fc1d51d84518",
       "version_major": 2,
       "version_minor": 0
      },
      "text/plain": [
       "wiktionary-bahasa.jsonl.tokenized:   0%|          | 0.00/38.6M [00:00<?, ?B/s]"
      ]
     },
     "metadata": {},
     "output_type": "display_data"
    },
    {
     "data": {
      "application/vnd.jupyter.widget-view+json": {
       "model_id": "4eaa9789e15c4adda540072a5e08bf49",
       "version_major": 2,
       "version_minor": 0
      },
      "text/plain": [
       "hansard.jsonl.tokenized:   0%|          | 0.00/506M [00:00<?, ?B/s]"
      ]
     },
     "metadata": {},
     "output_type": "display_data"
    },
    {
     "data": {
      "application/vnd.jupyter.widget-view+json": {
       "model_id": "a50b0395331d45378c6c50065b7a5024",
       "version_major": 2,
       "version_minor": 0
      },
      "text/plain": [
       "lom.agc.gov.my.jsonl.tokenized:   0%|          | 0.00/22.9M [00:00<?, ?B/s]"
      ]
     },
     "metadata": {},
     "output_type": "display_data"
    },
    {
     "data": {
      "application/vnd.jupyter.widget-view+json": {
       "model_id": "5e3b5cd727654e08ab493d41599e4538",
       "version_major": 2,
       "version_minor": 0
      },
      "text/plain": [
       "parlimen-gov.jsonl.tokenized:   0%|          | 0.00/411M [00:00<?, ?B/s]"
      ]
     },
     "metadata": {},
     "output_type": "display_data"
    },
    {
     "data": {
      "application/vnd.jupyter.widget-view+json": {
       "model_id": "de4a466268ab4136870043faf78a3061",
       "version_major": 2,
       "version_minor": 0
      },
      "text/plain": [
       "gov.my.jsonl.tokenized:   0%|          | 0.00/627M [00:00<?, ?B/s]"
      ]
     },
     "metadata": {},
     "output_type": "display_data"
    },
    {
     "data": {
      "application/vnd.jupyter.widget-view+json": {
       "model_id": "9daa8a5f6b504ab0851f86acdf0826b9",
       "version_major": 2,
       "version_minor": 0
      },
      "text/plain": [
       "edu.my.jsonl.tokenized:   0%|          | 0.00/497M [00:00<?, ?B/s]"
      ]
     },
     "metadata": {},
     "output_type": "display_data"
    }
   ],
   "source": [
    "for f in files:\n",
    "    f = f'{f}.tokenized'\n",
    "    if not os.path.exists(f):\n",
    "        continue\n",
    "    \n",
    "    api.upload_file(\n",
    "        path_or_fileobj=f,\n",
    "        path_in_repo=os.path.split(f)[1],\n",
    "        repo_id='malaysia-ai/online-articles-partition',\n",
    "        repo_type='dataset',\n",
    "    )"
   ]
  }
 ],
 "metadata": {
  "kernelspec": {
   "display_name": "Python 3 (ipykernel)",
   "language": "python",
   "name": "python3"
  },
  "language_info": {
   "codemirror_mode": {
    "name": "ipython",
    "version": 3
   },
   "file_extension": ".py",
   "mimetype": "text/x-python",
   "name": "python",
   "nbconvert_exporter": "python",
   "pygments_lexer": "ipython3",
   "version": "3.10.12"
  }
 },
 "nbformat": 4,
 "nbformat_minor": 5
}
