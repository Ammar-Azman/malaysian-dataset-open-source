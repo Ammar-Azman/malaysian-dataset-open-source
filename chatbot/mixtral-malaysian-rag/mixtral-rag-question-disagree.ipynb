{
 "cells": [
  {
   "cell_type": "code",
   "execution_count": 1,
   "id": "6e7c0c0b",
   "metadata": {},
   "outputs": [
    {
     "name": "stderr",
     "output_type": "stream",
     "text": [
      "/home/husein/.local/lib/python3.8/site-packages/requests/__init__.py:102: RequestsDependencyWarning: urllib3 (1.26.15) or chardet (5.2.0)/charset_normalizer (2.0.7) doesn't match a supported version!\n",
      "  warnings.warn(\"urllib3 ({}) or chardet ({})/charset_normalizer ({}) doesn't match a supported \"\n"
     ]
    }
   ],
   "source": [
    "from huggingface_hub import InferenceClient\n",
    "from tqdm import tqdm\n",
    "import os\n",
    "import json\n",
    "import random"
   ]
  },
  {
   "cell_type": "code",
   "execution_count": 2,
   "id": "015d5686",
   "metadata": {},
   "outputs": [],
   "source": [
    "from concurrent.futures import ThreadPoolExecutor, as_completed\n",
    "\n",
    "generate_kwargs = dict(\n",
    "    temperature=1.0,\n",
    "    max_new_tokens=4096,\n",
    "    top_p=0.95,\n",
    "    repetition_penalty=1.0,\n",
    "    do_sample=True,\n",
    ")"
   ]
  },
  {
   "cell_type": "code",
   "execution_count": 3,
   "id": "02d76e8f",
   "metadata": {},
   "outputs": [],
   "source": [
    "client = InferenceClient(\n",
    "    \"\", timeout = 40\n",
    ")\n",
    "\n",
    "\n",
    "def format_prompt(message, history):\n",
    "  prompt = \"<s>\"\n",
    "  for user_prompt, bot_response in history:\n",
    "    prompt += f\"[INST] {user_prompt} [/INST]\"\n",
    "    prompt += f\" {bot_response}</s> \"\n",
    "  prompt += f\"[INST] {message} [/INST]\"\n",
    "  return prompt\n",
    "\n",
    "def format_user(history):\n",
    "    prompt = \"<s>\"\n",
    "    for user_prompt, bot_response in history:\n",
    "        prompt += f\"[INST] {user_prompt} [/INST]\"\n",
    "        prompt += f\" {bot_response}</s> \"\n",
    "    prompt += f\"[INST]\"\n",
    "    return prompt"
   ]
  },
  {
   "cell_type": "code",
   "execution_count": 4,
   "id": "d683744f",
   "metadata": {},
   "outputs": [
    {
     "data": {
      "text/plain": [
       "6915"
      ]
     },
     "execution_count": 4,
     "metadata": {},
     "output_type": "execute_result"
    }
   ],
   "source": [
    "disagree = [\n",
    "    'bullshit', 'u are lying', 'tipu la ko', 'penipu', 'tipu lah sial', 'ko tipu', 'aku tak caye',\n",
    "    'wtf tipu', 'ye ke ko ni, tipu lah', 'tipu sial', 'bodoh salah', 'tak betul la sial',\n",
    "    'tak betul', 'salah', 'ko pasti ke ni', 'tipu tipu tipu',\n",
    "]\n",
    "\n",
    "with open('disagree.json') as fopen:\n",
    "    disagree.extend(json.load(fopen)[:3000])\n",
    "    \n",
    "with open('doubt.json') as fopen:\n",
    "    disagree.extend(json.load(fopen))\n",
    "    \n",
    "disagree = [d for d in disagree if len(d) > 5]\n",
    "len(disagree)"
   ]
  },
  {
   "cell_type": "code",
   "execution_count": 5,
   "id": "58e43549",
   "metadata": {},
   "outputs": [
    {
     "data": {
      "text/plain": [
       "'Are you as sure as the fact that the universe has a parallel universe?'"
      ]
     },
     "execution_count": 5,
     "metadata": {},
     "output_type": "execute_result"
    }
   ],
   "source": [
    "random.choice(disagree)"
   ]
  },
  {
   "cell_type": "code",
   "execution_count": 3,
   "id": "acc8b247",
   "metadata": {},
   "outputs": [
    {
     "data": {
      "text/plain": [
       "97149"
      ]
     },
     "execution_count": 3,
     "metadata": {},
     "output_type": "execute_result"
    }
   ],
   "source": [
    "from glob import glob\n",
    "\n",
    "files = sorted(glob('mixtral-disagree-conversation/*.json'))\n",
    "len(files)"
   ]
  },
  {
   "cell_type": "code",
   "execution_count": 7,
   "id": "d0f4b450",
   "metadata": {},
   "outputs": [
    {
     "data": {
      "text/plain": [
       "857656"
      ]
     },
     "execution_count": 7,
     "metadata": {},
     "output_type": "execute_result"
    }
   ],
   "source": [
    "prompts = []\n",
    "for f in files:\n",
    "    with open(f) as fopen:\n",
    "        data = json.load(fopen)\n",
    "    questions = []\n",
    "    splitted = data[1].strip().split('\\n')\n",
    "    splitted = [s for s in splitted if '.' if s and '?' in s]\n",
    "    splitted = ['.'.join(s.split('.')[1:]).strip() for s in splitted]\n",
    "    splitted = [s for s in splitted if len(s) > 3]\n",
    "    splitted = [s[1:] if s[0] == '\"' else s for s in splitted]\n",
    "    splitted = [s[:-1] if s[-1] == '\"' else s for s in splitted]\n",
    "    splitted = [s.strip() for s in splitted]\n",
    "    questions = [s for s in questions if len(s) > 10]\n",
    "    questions = sorted(list(set(questions)))\n",
    "    questions.extend(splitted)\n",
    "    p = [(data[0], q) for q in questions]\n",
    "    prompts.extend(p)\n",
    "\n",
    "len(prompts)"
   ]
  },
  {
   "cell_type": "code",
   "execution_count": 8,
   "id": "a02b57a7",
   "metadata": {
    "scrolled": true
   },
   "outputs": [
    {
     "data": {
      "text/plain": [
       "('Ingat lagi dengan permainan The Sim yang menarik minat ramai pemain diluar sana suatu ketika dahulu? Kini, pembuatnya kembali dengan judul permainan yang baru – Spore. Spore dijangka dikeluarkan pada 7 September 2008 di mana para peminat juga boleh memuat turun permainan ini dari laman Electronic Arts pada 7 September.\\n\\n\\nAntaramuka Permainan Spore\\n\\nMelalui Spore, pemain boleh mengawal evolusi sesuatu spesis daripada permulaannya – unisel, pembesarannya, dan sehingga ia menjadi suatu makhluk yang berkebolehan dan sosial. Sekiranya anda sambung bermain selepas itu, anda boleh mengawal spesis anda sehingga berjaya ke angkasa lepas, disamping dapat berhubung dengan spesis lain dalam galaksi.\\n\\nPermainan ini dipecahkan kepada beberapa fasa, dimana disetiap fasa, cara permainan itu berubah-ubah. Sekiranya ketika bermain, spesis anda diserang atau dihancurkan sekali gus, anda akan kembali bermain pada level anda sebelum dihancurkan, atau di fasa sebelum dihancurkan.\\n\\n\\nAntaramuka Permainan Spore\\n\\nAntara fasa yang terdapat dalam permainan Spore ini ialah Cell, Creature, Tribal, Civilization, dan akhir sekali Space. Permainan akan dimulakan dalam bentuk 2D pada fasa cell dan akan menjadi 3D apabila masuk fasa seterusnya.\\n\\nSelain daripada itu, para pengguna juga boleh memuat-naik video perkembangan spesis mereka terus kedalam YouTube, dimana para pemain boleh memperlihatkan spesis mereka kepada yang lain.',\n",
       " 'What kind of game is Spore, and what can players control in it?')"
      ]
     },
     "execution_count": 8,
     "metadata": {},
     "output_type": "execute_result"
    }
   ],
   "source": [
    "prompts[0]"
   ]
  },
  {
   "cell_type": "code",
   "execution_count": 9,
   "id": "c9b1cd39",
   "metadata": {},
   "outputs": [
    {
     "data": {
      "text/plain": [
       "381055"
      ]
     },
     "execution_count": 9,
     "metadata": {},
     "output_type": "execute_result"
    }
   ],
   "source": [
    "from collections import defaultdict\n",
    "\n",
    "filtered = []\n",
    "processed = defaultdict(int)\n",
    "for p in prompts:\n",
    "    if processed[p[0]] > 3:\n",
    "        continue\n",
    "    \n",
    "    filtered.append(p)\n",
    "    processed[p[0]] += 1\n",
    "    \n",
    "len(filtered)"
   ]
  },
  {
   "cell_type": "code",
   "execution_count": null,
   "id": "3372164f",
   "metadata": {},
   "outputs": [],
   "source": [
    "!mkdir mixtral-rag-question-disagree\n",
    "# !rm mixtral-rag-question-disagree/*.json"
   ]
  },
  {
   "cell_type": "code",
   "execution_count": null,
   "id": "28859633",
   "metadata": {},
   "outputs": [],
   "source": [
    "def answer(q, i):\n",
    "    filename = f'mixtral-rag-question-disagree/{i}.json'\n",
    "    if os.path.exists(filename):\n",
    "        return\n",
    "    \n",
    "    question = f'{q[0]}\\n{q[1]}'\n",
    "    formatted_prompt = format_prompt(question, [])\n",
    "    while True:\n",
    "        try:\n",
    "            stream = client.text_generation(formatted_prompt, **generate_kwargs, stream=False, details=True, return_full_text=False)\n",
    "            answer = stream.generated_text.strip()\n",
    "            break\n",
    "        except:\n",
    "            pass     \n",
    "    \n",
    "    \n",
    "    history = [(question, answer)]\n",
    "\n",
    "    for _ in range(random.randint(1, 3)):\n",
    "        u = random.choice(disagree)\n",
    "        formatted_prompt = format_prompt(u, history)\n",
    "        while True:\n",
    "            try:\n",
    "                stream = client.text_generation(formatted_prompt, **generate_kwargs, stream=False, details=True, return_full_text=False)\n",
    "                a = stream.generated_text.strip()\n",
    "                break\n",
    "            except Exception as e:\n",
    "                pass\n",
    "            \n",
    "        history.append((u, a))\n",
    "    \n",
    "    with open(filename, 'w') as fopen:\n",
    "        json.dump(history, fopen)"
   ]
  },
  {
   "cell_type": "code",
   "execution_count": null,
   "id": "37c9340f",
   "metadata": {},
   "outputs": [],
   "source": [
    "answer(prompts[0], 0)"
   ]
  },
  {
   "cell_type": "code",
   "execution_count": null,
   "id": "caa41b7e",
   "metadata": {},
   "outputs": [],
   "source": [
    "def consumer(queue, name):\n",
    "    while True:\n",
    "        if queue.qsize() == 0:\n",
    "            break\n",
    "        item = queue.get()\n",
    "        answer(*item)\n",
    "    print(f'consumer {name} done')"
   ]
  },
  {
   "cell_type": "code",
   "execution_count": null,
   "id": "2c986ef2",
   "metadata": {},
   "outputs": [],
   "source": [
    "from threading import Thread\n",
    "from queue import Queue\n",
    "\n",
    "queue = Queue()\n",
    "urls = [(q, no) for no, q in enumerate(filtered)]\n",
    "for u in urls:\n",
    "    queue.put(u)\n",
    "    \n",
    "ori_size = queue.qsize()"
   ]
  },
  {
   "cell_type": "code",
   "execution_count": null,
   "id": "f6e32240",
   "metadata": {},
   "outputs": [],
   "source": [
    "max_worker = 100\n",
    "consumers = [Thread(target=consumer, args=(queue,i)) for i in range(max_worker)]\n",
    "for i in range(len(consumers)):\n",
    "    consumers[i].start()\n",
    "    \n",
    "pbar = tqdm(total=ori_size)\n",
    "last_size = 0\n",
    "while True:\n",
    "    size = queue.qsize()\n",
    "    if size == 0:\n",
    "        break\n",
    "    left = ori_size - size\n",
    "    minus = left - last_size\n",
    "    if minus > 0:\n",
    "        pbar.update(minus)\n",
    "        last_size += minus\n",
    "\n",
    "pbar.close()"
   ]
  },
  {
   "cell_type": "code",
   "execution_count": null,
   "id": "2d5383b8",
   "metadata": {},
   "outputs": [],
   "source": [
    "for i in range(len(consumers)):\n",
    "    consumers[i].join()"
   ]
  },
  {
   "cell_type": "code",
   "execution_count": 8,
   "id": "0dee90ca",
   "metadata": {},
   "outputs": [
    {
     "data": {
      "text/plain": [
       "339627"
      ]
     },
     "execution_count": 8,
     "metadata": {},
     "output_type": "execute_result"
    }
   ],
   "source": [
    "from glob import glob\n",
    "\n",
    "files = sorted(glob('mixtral-rag-question-disagree/*.json'))\n",
    "len(files)"
   ]
  },
  {
   "cell_type": "code",
   "execution_count": 19,
   "id": "1856182e",
   "metadata": {},
   "outputs": [
    {
     "name": "stderr",
     "output_type": "stream",
     "text": [
      "100%|█████████████████████████████████| 339627/339627 [00:35<00:00, 9694.15it/s]\n"
     ]
    },
    {
     "data": {
      "text/plain": [
       "1696183"
      ]
     },
     "execution_count": 19,
     "metadata": {},
     "output_type": "execute_result"
    }
   ],
   "source": [
    "all_texts = []\n",
    "for f in tqdm(files):\n",
    "    with open(f) as fopen:\n",
    "        data = json.load(fopen)\n",
    "        \n",
    "    all_texts.append(data[0][1])\n",
    "        \n",
    "    for d in data[1:]:\n",
    "        all_texts.extend(d)\n",
    "    \n",
    "len(all_texts)"
   ]
  },
  {
   "cell_type": "code",
   "execution_count": 23,
   "id": "6eebd147",
   "metadata": {},
   "outputs": [],
   "source": [
    "with open('mixtral-rag-question-disagree.texts', 'w') as fopen:\n",
    "    for t in set(all_texts):\n",
    "        if not len(t):\n",
    "            continue\n",
    "        fopen.write(f'{json.dumps(t)}\\n')"
   ]
  },
  {
   "cell_type": "code",
   "execution_count": 24,
   "id": "bd37ea17",
   "metadata": {},
   "outputs": [
    {
     "name": "stdout",
     "output_type": "stream",
     "text": [
      "1027655 mixtral-rag-question-disagree.texts\r\n"
     ]
    }
   ],
   "source": [
    "!wc -l mixtral-rag-question-disagree.texts"
   ]
  },
  {
   "cell_type": "code",
   "execution_count": 25,
   "id": "5db4fb9d",
   "metadata": {},
   "outputs": [],
   "source": [
    "!cp mixtral-rag-question-disagree.texts ../translation"
   ]
  },
  {
   "cell_type": "code",
   "execution_count": 12,
   "id": "787f6cd5",
   "metadata": {},
   "outputs": [
    {
     "data": {
      "text/plain": [
       "1027455"
      ]
     },
     "execution_count": 12,
     "metadata": {},
     "output_type": "execute_result"
    }
   ],
   "source": [
    "import re\n",
    "\n",
    "mapping = {}\n",
    "for f in glob('/home/husein/ssd3/translation/mixtral-rag-question-disagree.texts*.splitted.requested'):\n",
    "    with open(f) as fopen:\n",
    "        for l in fopen:\n",
    "            l = json.loads(l)\n",
    "            if 'Source text\\nclear\\nLook up details' in l['r']['result']:\n",
    "                continue\n",
    "            if 'clear\\nLook up details' in l['r']['result']:\n",
    "                continue\n",
    "            if l['r']['result'].startswith('Source text\\n'):\n",
    "                continue\n",
    "\n",
    "            n = l['r']['result']\n",
    "            hypens = re.findall('\\w+ -\\w+', n)\n",
    "            for h in hypens:\n",
    "                splitted = h.split('-')\n",
    "                if len(splitted) != 2:\n",
    "                    continue\n",
    "                splitted = [s.strip() for s in splitted]\n",
    "                splitted = '-'.join(splitted)\n",
    "                n = n.replace(h, splitted)\n",
    "            mapping[l['src']] = n\n",
    "            \n",
    "len(mapping)"
   ]
  },
  {
   "cell_type": "code",
   "execution_count": 34,
   "id": "31f5be6a",
   "metadata": {},
   "outputs": [
    {
     "name": "stderr",
     "output_type": "stream",
     "text": [
      "100%|█████████████████████████████████████████████████████████████████████████████████████████| 339627/339627 [00:26<00:00, 12626.24it/s]\n"
     ]
    }
   ],
   "source": [
    "with open('mixtral-rag-question-disagree.jsonl', 'w') as fopen_l:\n",
    "    for f in tqdm(files):\n",
    "        with open(f) as fopen:\n",
    "            data = json.load(fopen)\n",
    "        splitted = data[0][0].split('\\n')\n",
    "        context = '\\n'.join(splitted[:-1])\n",
    "        q = splitted[-1]\n",
    "        a = data[0][1]\n",
    "        chat = [\n",
    "            {'role': 'user', 'content': q, 'content_ms': mapping.get(q)},\n",
    "            {'role': 'assistant', 'content': a, 'content_ms': mapping.get(a)}\n",
    "        ]\n",
    "        for d in data[1:]:\n",
    "            chat.extend([\n",
    "                {'role': 'user', 'content': d[0], 'content_ms': mapping.get(d[0])},\n",
    "                {'role': 'assistant', 'content': d[1], 'content_ms': mapping.get(d[1])}\n",
    "            ])\n",
    "        d = {\n",
    "            'context': context,\n",
    "            'chat': chat\n",
    "        }\n",
    "        fopen_l.write(f'{json.dumps(d)}\\n')"
   ]
  },
  {
   "cell_type": "code",
   "execution_count": 35,
   "id": "43900fa3",
   "metadata": {},
   "outputs": [
    {
     "name": "stdout",
     "output_type": "stream",
     "text": [
      "{\"context\": \"Mazda US has just issued a recall involving 227,814 units of the Mazda3 and Mazda6 over the possibility of a parking brake failure. We reached out to\\u00a0Bermaz Motor (official Mazda distributor in Malaysia) and are pleased to say that Malaysian models are not affected at all.\\nAccording to \\nNational Highway Traffic Safety Administrations (NHTSA)\\n, the parking brake on the affected models have defective seals at the rear brake calliper protective boot which can result in water and debris entering the actuator shaft. This will cause corrosion over time and potentially cause the shaft to be stuck in the brake calliper body. \\u00a0\\nIn extreme cases, the defected part will \\ndecrease the parking brake force\\n or to cause brake drag (brakes are engaged even when pedals are not applied) while driving. This poses a safety risk as the \\nvehicle may move by itself\\n if parked on a slope, even if the parking brake is engaged.\\nThe models affected by the recall are Mazda6 assembled in Hofu Plant, Japan between 2014 to 2015 and Mazda3 manufactured between 2014 to 2016 at Mazda\\u2019s Mexico plant. Only those equipped with the lever-type manual handbrake are affected.\\nAll owners are currently in the process of being notified for repair works, with charges fully borne by Mazda US.\\nOnce again, vehicles sold in Malaysia are \\nnot affected\\n by the parking brake recall but certain models are involved in the Takata airbag recall. Full list of the affected vehicles can be found \\nhere\\n.\", \"chat\": [{\"role\": \"user\", \"content\": \"What measures are being taken to notify the owners of the affected vehicles in the US?\", \"content_ms\": null}, {\"role\": \"assistant\", \"content\": \"Mazda US is in the process of notifying owners of the affected Mazda3 and Mazda6 vehicles regarding the parking brake recall. The notification process typically involves contacting owners by mail, using their most recent address on file. The notification letter will include important information about the recall, such as the affected vehicle model and production dates, the issue with the parking brake, and the potential risks associated with the defect.\\n\\nThe letter will also instruct owners to take their vehicles to an authorized Mazda dealership for inspection and repair. The repair work will be done free of charge to the owners, as Mazda US will bear the costs associated with the recall.\\n\\nTo ensure that all affected vehicle owners receive the notification, Mazda US will cross-check their contact information with various databases, including the NHTSA's recall database and state motor vehicle registration databases. This will help ensure that the recall notices are sent to the current owners of the affected vehicles.\\n\\nAdditionally, Mazda US may also use other communication channels, such as email, text messages, or phone calls, to reach out to owners and encourage them to get their vehicles repaired as soon as possible. The company may also use social media and other online platforms to spread awareness about the recall and its potential risks.\\n\\nIt is important for owners of the affected vehicles to take the recall notice seriously and to schedule the necessary repairs as soon as possible. Ignoring a recall notice can increase the risk of accidents and injuries, and can also lead to additional damage to the vehicle.\", \"content_ms\": \"Mazda US sedang dalam proses memaklumkan pemilik kenderaan Mazda3 dan Mazda6 yang terjejas mengenai penarikan semula brek letak kereta. Proses pemberitahuan biasanya melibatkan menghubungi pemilik melalui mel, menggunakan alamat terbaharu mereka dalam fail. Surat pemberitahuan itu akan memasukkan maklumat penting tentang penarikan balik, seperti model kenderaan yang terjejas dan tarikh pengeluaran, isu dengan brek letak kereta dan potensi risiko yang berkaitan dengan kecacatan itu.\\n\\nSurat itu juga akan mengarahkan pemilik membawa kenderaan mereka ke pengedar Mazda yang sah untuk pemeriksaan dan pembaikan. Kerja pembaikan akan dilakukan secara percuma kepada pemilik, kerana Mazda US akan menanggung kos yang berkaitan dengan penarikan balik.\\n\\nUntuk memastikan semua pemilik kenderaan yang terjejas menerima pemberitahuan itu, Mazda US akan menyemak silang maklumat hubungan mereka dengan pelbagai pangkalan data, termasuk pangkalan data panggil balik NHTSA dan pangkalan data pendaftaran kenderaan bermotor negeri. Ini akan membantu memastikan bahawa notis penarikan balik dihantar kepada pemilik semasa kenderaan yang terjejas.\\n\\nSelain itu, Mazda US juga boleh menggunakan saluran komunikasi lain, seperti e-mel, mesej teks atau panggilan telefon, untuk menghubungi pemilik dan menggalakkan mereka membaiki kenderaan mereka secepat mungkin. Syarikat itu juga mungkin menggunakan media sosial dan platform dalam talian lain untuk menyebarkan kesedaran tentang penarikan balik dan potensi risikonya.\\n\\nAdalah penting bagi pemilik kenderaan yang terjejas untuk mengambil serius notis penarikan semula dan menjadualkan pembaikan yang diperlukan secepat mungkin. Mengabaikan notis penarikan balik boleh meningkatkan risiko kemalangan dan kecederaan, dan juga boleh menyebabkan kerosakan tambahan pada kenderaan.\"}, {\"role\": \"user\", \"content\": \"Are you as sure as the sun is hot?\", \"content_ms\": \"Adakah anda pasti seperti matahari yang panas?\"}, {\"role\": \"assistant\", \"content\": \"I apologize if my previous response gave the impression that I was providing a 100% certainty. While I strive to provide accurate and helpful information, I cannot guarantee absolute certainty in my responses.\\n\\nBased on the information available to me, I can say with high confidence that Mazda US has initiated a recall for certain Mazda3 and Mazda6 vehicles due to a potential issue with the parking brake system, and that they are in the process of notifying affected owners. However, I cannot provide a guarantee that every single affected owner has been notified or that all necessary repairs will be completed without any issues.\\n\\nIt is always a good practice for vehicle owners to stay informed about recalls and to take necessary actions as soon as possible. They can check for recalls and safety information related to their vehicles on NHTSA's website (<https://www.nhtsa.gov/>) or contact their local Mazda dealership for more information.\", \"content_ms\": \"Saya memohon maaf jika jawapan saya sebelum ini memberi gambaran bahawa saya memberikan kepastian 100%. Walaupun saya berusaha untuk memberikan maklumat yang tepat dan berguna, saya tidak dapat menjamin kepastian mutlak dalam respons saya.\\n\\nBerdasarkan maklumat yang tersedia kepada saya, saya boleh katakan dengan penuh keyakinan bahawa Mazda US telah memulakan panggilan balik untuk kenderaan Mazda3 dan Mazda6 tertentu disebabkan masalah yang berpotensi dengan sistem brek letak kereta, dan bahawa mereka sedang dalam proses memaklumkan pemilik yang terjejas. Walau bagaimanapun, saya tidak dapat memberikan jaminan bahawa setiap pemilik yang terjejas telah dimaklumkan atau semua pembaikan yang diperlukan akan diselesaikan tanpa sebarang masalah.\\n\\nIa sentiasa menjadi amalan yang baik bagi pemilik kenderaan untuk sentiasa dimaklumkan tentang panggilan balik dan mengambil tindakan yang perlu secepat mungkin. Mereka boleh menyemak panggilan balik dan maklumat keselamatan yang berkaitan dengan kenderaan mereka di tapak web NHTSA (<https://www.nhtsa.gov/>) atau menghubungi pengedar Mazda tempatan mereka untuk mendapatkan maklumat lanjut.\"}]}\r\n"
     ]
    }
   ],
   "source": [
    "!tail -n 1 mixtral-rag-question-disagree.jsonl"
   ]
  },
  {
   "cell_type": "code",
   "execution_count": 36,
   "id": "cff9548b",
   "metadata": {},
   "outputs": [
    {
     "data": {
      "application/vnd.jupyter.widget-view+json": {
       "model_id": "623ebef495ab40d1b0edfe701eb05067",
       "version_major": 2,
       "version_minor": 0
      },
      "text/plain": [
       "mixtral-malaysian-disagree.jsonl:   0%|          | 0.00/1.72G [00:00<?, ?B/s]"
      ]
     },
     "metadata": {},
     "output_type": "display_data"
    },
    {
     "data": {
      "text/plain": [
       "'https://huggingface.co/datasets/mesolitica/mixtral-malaysian-rag/blob/main/mixtral-malaysian-disagree.jsonl'"
      ]
     },
     "execution_count": 36,
     "metadata": {},
     "output_type": "execute_result"
    }
   ],
   "source": [
    "from huggingface_hub import HfApi\n",
    "api = HfApi()\n",
    "api.upload_file(\n",
    "    path_or_fileobj='mixtral-malaysian-disagree.jsonl',\n",
    "    path_in_repo='mixtral-malaysian-disagree.jsonl',\n",
    "    repo_id='mesolitica/mixtral-malaysian-rag',\n",
    "    repo_type='dataset',\n",
    ")"
   ]
  },
  {
   "cell_type": "code",
   "execution_count": null,
   "id": "636db58f",
   "metadata": {},
   "outputs": [],
   "source": []
  }
 ],
 "metadata": {
  "kernelspec": {
   "display_name": "Python 3 (ipykernel)",
   "language": "python",
   "name": "python3"
  },
  "language_info": {
   "codemirror_mode": {
    "name": "ipython",
    "version": 3
   },
   "file_extension": ".py",
   "mimetype": "text/x-python",
   "name": "python",
   "nbconvert_exporter": "python",
   "pygments_lexer": "ipython3",
   "version": "3.8.10"
  }
 },
 "nbformat": 4,
 "nbformat_minor": 5
}
