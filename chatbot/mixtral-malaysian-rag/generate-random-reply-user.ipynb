{
 "cells": [
  {
   "cell_type": "code",
   "execution_count": 1,
   "id": "232c5f39",
   "metadata": {},
   "outputs": [
    {
     "data": {
      "text/plain": [
       "60450"
      ]
     },
     "execution_count": 1,
     "metadata": {},
     "output_type": "execute_result"
    }
   ],
   "source": [
    "from glob import glob\n",
    "import json\n",
    "from tqdm import tqdm\n",
    "\n",
    "files = glob('mixtral-conversation-v3/*.json')\n",
    "files = sorted(files, key = lambda x: int(x.split('/')[-1].replace('.json', '')))\n",
    "        \n",
    "len(files)"
   ]
  },
  {
   "cell_type": "code",
   "execution_count": 2,
   "id": "5f4641f0",
   "metadata": {},
   "outputs": [
    {
     "data": {
      "text/plain": [
       "60387"
      ]
     },
     "execution_count": 2,
     "metadata": {},
     "output_type": "execute_result"
    }
   ],
   "source": [
    "questions = []\n",
    "for f in files:\n",
    "    with open(f) as fopen:\n",
    "        data = json.load(fopen)\n",
    "    questions.append(data)\n",
    "    \n",
    "questions = [s for s in questions if len(s) > 40]\n",
    "questions = sorted(list(set(questions)))\n",
    "len(questions)"
   ]
  },
  {
   "cell_type": "code",
   "execution_count": 3,
   "id": "08029013",
   "metadata": {},
   "outputs": [
    {
     "name": "stderr",
     "output_type": "stream",
     "text": [
      "100%|████████████████████████████████████████████████████████████████████████████████████████████████████| 60387/60387 [00:00<00:00, 196835.20it/s]\n"
     ]
    }
   ],
   "source": [
    "users = []\n",
    "for no in tqdm(range(len(questions))):\n",
    "    q = questions[no]\n",
    "    conversation = []\n",
    "    try:\n",
    "        splitted = q.strip().split('Human:')\n",
    "        if 'Chatbot:' not in splitted[-1]:\n",
    "            pass\n",
    "#             print(data)\n",
    "#             break\n",
    "        \n",
    "        if 'User:' in q:\n",
    "            u = 'User:'\n",
    "        else:\n",
    "            u = 'Human:'\n",
    "\n",
    "        splitted = q.strip().split(u)\n",
    "        for i in range(1, len(splitted), 1):\n",
    "            split = splitted[i].split('\\nChatbot: ')\n",
    "            if len(split) == 1:\n",
    "                break\n",
    "            \n",
    "            if len(split) > 2:\n",
    "                a = '\\n'.join(split[1:]).strip()\n",
    "                user = split[0].strip()\n",
    "                # user = user.replace('Chatbot:', 'Chatbot,')\n",
    "                # print(no, splitted[i], user, a)\n",
    "            else:\n",
    "                user = split[0].strip()\n",
    "                a = split[1].strip()\n",
    "            \n",
    "            if '!' not in user and '.' not in user and ',' not in user and user.endswith('?'):\n",
    "                users.append(user)\n",
    "            \n",
    "    except Exception as e:\n",
    "        print(e, q)\n",
    "        \n",
    "        pass\n",
    "    \n",
    "users = list(set(users))"
   ]
  },
  {
   "cell_type": "code",
   "execution_count": 4,
   "id": "81c1b707",
   "metadata": {},
   "outputs": [
    {
     "data": {
      "text/plain": [
       "13382"
      ]
     },
     "execution_count": 4,
     "metadata": {},
     "output_type": "execute_result"
    }
   ],
   "source": [
    "len(users)"
   ]
  },
  {
   "cell_type": "code",
   "execution_count": 6,
   "id": "484d649a",
   "metadata": {},
   "outputs": [
    {
     "data": {
      "text/plain": [
       "57798"
      ]
     },
     "execution_count": 6,
     "metadata": {},
     "output_type": "execute_result"
    }
   ],
   "source": [
    "files = glob('mixtral-conversation-v2/*.json')\n",
    "files = sorted(files, key = lambda x: int(x.split('/')[-1].replace('.json', '')))\n",
    "questions = []\n",
    "for f in files:\n",
    "    with open(f) as fopen:\n",
    "        data = json.load(fopen)\n",
    "    questions.append(data)\n",
    "    \n",
    "questions = [s for s in questions if len(s) > 40]\n",
    "questions = sorted(list(set(questions)))\n",
    "len(questions)"
   ]
  },
  {
   "cell_type": "code",
   "execution_count": 7,
   "id": "8a26c781",
   "metadata": {},
   "outputs": [
    {
     "name": "stderr",
     "output_type": "stream",
     "text": [
      "100%|████████████████████████████████████████████████████████████████████████████████████████████████████| 57798/57798 [00:00<00:00, 167811.07it/s]\n"
     ]
    }
   ],
   "source": [
    "for no in tqdm(range(len(questions))):\n",
    "    q = questions[no]\n",
    "    conversation = []\n",
    "    try:\n",
    "        splitted = q.strip().split('Human:')\n",
    "        if 'Chatbot:' not in splitted[-1]:\n",
    "            pass\n",
    "#             print(data)\n",
    "#             break\n",
    "        \n",
    "        if 'User:' in q:\n",
    "            u = 'User:'\n",
    "        else:\n",
    "            u = 'Human:'\n",
    "\n",
    "        splitted = q.strip().split(u)\n",
    "        for i in range(1, len(splitted), 1):\n",
    "            split = splitted[i].split('\\nChatbot: ')\n",
    "            if len(split) == 1:\n",
    "                break\n",
    "            \n",
    "            if len(split) > 2:\n",
    "                a = '\\n'.join(split[1:]).strip()\n",
    "                user = split[0].strip()\n",
    "                # user = user.replace('Chatbot:', 'Chatbot,')\n",
    "                # print(no, splitted[i], user, a)\n",
    "            else:\n",
    "                user = split[0].strip()\n",
    "                a = split[1].strip()\n",
    "            \n",
    "            users.append(user)\n",
    "            \n",
    "    except Exception as e:\n",
    "        print(e, q)\n",
    "        \n",
    "        pass\n",
    "    \n",
    "users = list(set(users))"
   ]
  },
  {
   "cell_type": "code",
   "execution_count": 8,
   "id": "0be8a35f",
   "metadata": {},
   "outputs": [
    {
     "data": {
      "text/plain": [
       "25891"
      ]
     },
     "execution_count": 8,
     "metadata": {},
     "output_type": "execute_result"
    }
   ],
   "source": [
    "len(users)"
   ]
  },
  {
   "cell_type": "code",
   "execution_count": 10,
   "id": "2fd0b5c5",
   "metadata": {},
   "outputs": [],
   "source": [
    "with open('random-reply-user.json', 'w') as fopen:\n",
    "    json.dump(list(set(users)), fopen)"
   ]
  },
  {
   "cell_type": "code",
   "execution_count": null,
   "id": "a7f56382",
   "metadata": {},
   "outputs": [],
   "source": []
  }
 ],
 "metadata": {
  "kernelspec": {
   "display_name": "Python 3 (ipykernel)",
   "language": "python",
   "name": "python3"
  },
  "language_info": {
   "codemirror_mode": {
    "name": "ipython",
    "version": 3
   },
   "file_extension": ".py",
   "mimetype": "text/x-python",
   "name": "python",
   "nbconvert_exporter": "python",
   "pygments_lexer": "ipython3",
   "version": "3.8.10"
  }
 },
 "nbformat": 4,
 "nbformat_minor": 5
}
