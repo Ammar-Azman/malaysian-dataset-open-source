{
 "cells": [
  {
   "cell_type": "code",
   "execution_count": 1,
   "id": "958660bb",
   "metadata": {},
   "outputs": [],
   "source": [
    "import json\n",
    "from transformers import AutoModelForCausalLM, AutoTokenizer\n",
    "from tqdm import tqdm\n",
    "import torch"
   ]
  },
  {
   "cell_type": "code",
   "execution_count": 2,
   "id": "8294611a",
   "metadata": {},
   "outputs": [
    {
     "data": {
      "application/vnd.jupyter.widget-view+json": {
       "model_id": "63a12a5f491e4688bc94bd8a3ff33ef0",
       "version_major": 2,
       "version_minor": 0
      },
      "text/plain": [
       "Loading checkpoint shards:   0%|          | 0/3 [00:00<?, ?it/s]"
      ]
     },
     "metadata": {},
     "output_type": "display_data"
    }
   ],
   "source": [
    "tokenizer = AutoTokenizer.from_pretrained('mistralai/Mistral-7B-Instruct-v0.2')\n",
    "model = AutoModelForCausalLM.from_pretrained('mistralai/Mistral-7B-Instruct-v0.2',torch_dtype = torch.float16\n",
    ")"
   ]
  },
  {
   "cell_type": "code",
   "execution_count": 3,
   "id": "9b175845",
   "metadata": {},
   "outputs": [
    {
     "data": {
      "text/plain": [
       "MistralForCausalLM(\n",
       "  (model): MistralModel(\n",
       "    (embed_tokens): Embedding(32000, 4096)\n",
       "    (layers): ModuleList(\n",
       "      (0-31): 32 x MistralDecoderLayer(\n",
       "        (self_attn): MistralSdpaAttention(\n",
       "          (q_proj): Linear(in_features=4096, out_features=4096, bias=False)\n",
       "          (k_proj): Linear(in_features=4096, out_features=1024, bias=False)\n",
       "          (v_proj): Linear(in_features=4096, out_features=1024, bias=False)\n",
       "          (o_proj): Linear(in_features=4096, out_features=4096, bias=False)\n",
       "          (rotary_emb): MistralRotaryEmbedding()\n",
       "        )\n",
       "        (mlp): MistralMLP(\n",
       "          (gate_proj): Linear(in_features=4096, out_features=14336, bias=False)\n",
       "          (up_proj): Linear(in_features=4096, out_features=14336, bias=False)\n",
       "          (down_proj): Linear(in_features=14336, out_features=4096, bias=False)\n",
       "          (act_fn): SiLU()\n",
       "        )\n",
       "        (input_layernorm): MistralRMSNorm()\n",
       "        (post_attention_layernorm): MistralRMSNorm()\n",
       "      )\n",
       "    )\n",
       "    (norm): MistralRMSNorm()\n",
       "  )\n",
       "  (lm_head): Linear(in_features=4096, out_features=32000, bias=False)\n",
       ")"
      ]
     },
     "execution_count": 3,
     "metadata": {},
     "output_type": "execute_result"
    }
   ],
   "source": [
    "model.cuda()"
   ]
  },
  {
   "cell_type": "code",
   "execution_count": 4,
   "id": "5d480ee4",
   "metadata": {},
   "outputs": [],
   "source": [
    "data = []\n",
    "\n",
    "with open('dataset/motomalaysia-chat.json') as fopen:\n",
    "    data = json.load(fopen)"
   ]
  },
  {
   "cell_type": "code",
   "execution_count": 5,
   "id": "9aeff4d4",
   "metadata": {},
   "outputs": [],
   "source": [
    "unique_conversations = []\n",
    "conversation_set = set()\n",
    "\n",
    "for data_ in data:\n",
    "    conversations = data_['conversations'][1]['content']\n",
    "    if conversations not in conversation_set:\n",
    "        unique_conversations.append(data_)\n",
    "        conversation_set.add(conversations)"
   ]
  },
  {
   "cell_type": "code",
   "execution_count": 6,
   "id": "c8ef4e5c",
   "metadata": {},
   "outputs": [],
   "source": [
    "def parse_mistral_chat(messages, function_call = None):\n",
    "\n",
    "    user_query = messages[-1]['content']\n",
    "\n",
    "    users, assistants = [], []\n",
    "    for q in messages[:-1]:\n",
    "        if q['role'] == 'user':\n",
    "            users.append(q['content'])\n",
    "        elif q['role'] == 'assistant':\n",
    "            assistants.append(q['content'])\n",
    "\n",
    "    texts = ['<s>']\n",
    "    \n",
    "    for u, a in zip(users, assistants):\n",
    "        texts.append(f'[INST] {u.strip()} [/INST] {a.strip()}</s>')\n",
    "\n",
    "    texts.append(f'[INST] {user_query.strip()} [/INST]')\n",
    "    prompt = ''.join(texts).strip()\n",
    "    return prompt"
   ]
  },
  {
   "cell_type": "code",
   "execution_count": 7,
   "id": "55b91d8a",
   "metadata": {},
   "outputs": [],
   "source": [
    "tokenizer.pad_token = tokenizer.unk_token"
   ]
  },
  {
   "cell_type": "code",
   "execution_count": 8,
   "id": "7f135227",
   "metadata": {},
   "outputs": [],
   "source": [
    "def predict(prompt):\n",
    "    inputs = tokenizer(prompt, return_tensors='pt', add_special_tokens=False,padding=True).to('cuda')\n",
    "    generate_kwargs = dict(\n",
    "        inputs,\n",
    "        max_new_tokens=1024,\n",
    "        top_p=0.95,\n",
    "        top_k=50,\n",
    "        temperature=0.3,\n",
    "        do_sample=True,\n",
    "        num_beams=1,\n",
    "    )\n",
    "    response = model.generate(**generate_kwargs).to('cpu')\n",
    "    return response"
   ]
  },
  {
   "cell_type": "code",
   "execution_count": 10,
   "id": "a9a50757",
   "metadata": {
    "scrolled": true
   },
   "outputs": [
    {
     "name": "stderr",
     "output_type": "stream",
     "text": [
      "  0%|          | 0/112 [00:00<?, ?it/s]Setting `pad_token_id` to `eos_token_id`:2 for open-end generation.\n",
      "  1%|          | 1/112 [00:02<05:31,  2.99s/it]Setting `pad_token_id` to `eos_token_id`:2 for open-end generation.\n",
      "  2%|▏         | 2/112 [00:06<05:50,  3.19s/it]Setting `pad_token_id` to `eos_token_id`:2 for open-end generation.\n",
      "  3%|▎         | 3/112 [00:15<11:06,  6.12s/it]Setting `pad_token_id` to `eos_token_id`:2 for open-end generation.\n",
      "  4%|▎         | 4/112 [00:19<09:01,  5.02s/it]Setting `pad_token_id` to `eos_token_id`:2 for open-end generation.\n",
      "  4%|▍         | 5/112 [00:22<07:50,  4.40s/it]Setting `pad_token_id` to `eos_token_id`:2 for open-end generation.\n",
      "  5%|▌         | 6/112 [00:26<07:34,  4.29s/it]Setting `pad_token_id` to `eos_token_id`:2 for open-end generation.\n",
      "  6%|▋         | 7/112 [00:29<06:37,  3.78s/it]Setting `pad_token_id` to `eos_token_id`:2 for open-end generation.\n",
      "  7%|▋         | 8/112 [00:31<05:49,  3.36s/it]Setting `pad_token_id` to `eos_token_id`:2 for open-end generation.\n",
      "  8%|▊         | 9/112 [00:35<05:46,  3.36s/it]Setting `pad_token_id` to `eos_token_id`:2 for open-end generation.\n",
      "  9%|▉         | 10/112 [00:38<05:50,  3.43s/it]Setting `pad_token_id` to `eos_token_id`:2 for open-end generation.\n",
      " 10%|▉         | 11/112 [00:41<05:15,  3.12s/it]Setting `pad_token_id` to `eos_token_id`:2 for open-end generation.\n",
      " 11%|█         | 12/112 [00:44<05:27,  3.27s/it]Setting `pad_token_id` to `eos_token_id`:2 for open-end generation.\n",
      " 12%|█▏        | 13/112 [00:47<05:08,  3.12s/it]Setting `pad_token_id` to `eos_token_id`:2 for open-end generation.\n",
      " 12%|█▎        | 14/112 [00:51<05:17,  3.24s/it]Setting `pad_token_id` to `eos_token_id`:2 for open-end generation.\n",
      " 13%|█▎        | 15/112 [00:54<05:26,  3.37s/it]Setting `pad_token_id` to `eos_token_id`:2 for open-end generation.\n",
      " 14%|█▍        | 16/112 [00:57<05:02,  3.15s/it]Setting `pad_token_id` to `eos_token_id`:2 for open-end generation.\n",
      " 15%|█▌        | 17/112 [00:59<04:40,  2.95s/it]Setting `pad_token_id` to `eos_token_id`:2 for open-end generation.\n",
      " 16%|█▌        | 18/112 [01:03<04:44,  3.02s/it]Setting `pad_token_id` to `eos_token_id`:2 for open-end generation.\n",
      " 17%|█▋        | 19/112 [01:06<04:54,  3.17s/it]Setting `pad_token_id` to `eos_token_id`:2 for open-end generation.\n",
      " 18%|█▊        | 20/112 [01:09<04:39,  3.04s/it]Setting `pad_token_id` to `eos_token_id`:2 for open-end generation.\n",
      " 19%|█▉        | 21/112 [01:13<04:55,  3.25s/it]Setting `pad_token_id` to `eos_token_id`:2 for open-end generation.\n",
      " 20%|█▉        | 22/112 [01:17<05:27,  3.64s/it]Setting `pad_token_id` to `eos_token_id`:2 for open-end generation.\n",
      " 21%|██        | 23/112 [01:21<05:27,  3.69s/it]Setting `pad_token_id` to `eos_token_id`:2 for open-end generation.\n",
      " 21%|██▏       | 24/112 [01:25<05:33,  3.79s/it]Setting `pad_token_id` to `eos_token_id`:2 for open-end generation.\n",
      " 22%|██▏       | 25/112 [01:30<05:57,  4.11s/it]Setting `pad_token_id` to `eos_token_id`:2 for open-end generation.\n",
      " 23%|██▎       | 26/112 [01:33<05:36,  3.92s/it]Setting `pad_token_id` to `eos_token_id`:2 for open-end generation.\n",
      " 24%|██▍       | 27/112 [01:37<05:31,  3.90s/it]Setting `pad_token_id` to `eos_token_id`:2 for open-end generation.\n",
      " 25%|██▌       | 28/112 [01:40<05:05,  3.64s/it]Setting `pad_token_id` to `eos_token_id`:2 for open-end generation.\n",
      " 26%|██▌       | 29/112 [01:44<04:59,  3.60s/it]Setting `pad_token_id` to `eos_token_id`:2 for open-end generation.\n",
      " 27%|██▋       | 30/112 [01:46<04:31,  3.31s/it]Setting `pad_token_id` to `eos_token_id`:2 for open-end generation.\n",
      " 28%|██▊       | 31/112 [01:49<04:11,  3.10s/it]Setting `pad_token_id` to `eos_token_id`:2 for open-end generation.\n",
      " 29%|██▊       | 32/112 [01:51<03:53,  2.92s/it]Setting `pad_token_id` to `eos_token_id`:2 for open-end generation.\n",
      " 29%|██▉       | 33/112 [01:54<03:46,  2.87s/it]Setting `pad_token_id` to `eos_token_id`:2 for open-end generation.\n",
      " 30%|███       | 34/112 [01:57<03:36,  2.78s/it]Setting `pad_token_id` to `eos_token_id`:2 for open-end generation.\n",
      " 31%|███▏      | 35/112 [02:00<03:49,  2.98s/it]Setting `pad_token_id` to `eos_token_id`:2 for open-end generation.\n",
      " 32%|███▏      | 36/112 [02:04<04:10,  3.30s/it]Setting `pad_token_id` to `eos_token_id`:2 for open-end generation.\n",
      " 33%|███▎      | 37/112 [02:08<04:22,  3.51s/it]Setting `pad_token_id` to `eos_token_id`:2 for open-end generation.\n",
      " 34%|███▍      | 38/112 [02:13<04:41,  3.80s/it]Setting `pad_token_id` to `eos_token_id`:2 for open-end generation.\n",
      " 35%|███▍      | 39/112 [02:16<04:31,  3.72s/it]Setting `pad_token_id` to `eos_token_id`:2 for open-end generation.\n",
      " 36%|███▌      | 40/112 [02:21<04:56,  4.11s/it]Setting `pad_token_id` to `eos_token_id`:2 for open-end generation.\n",
      " 37%|███▋      | 41/112 [02:24<04:24,  3.73s/it]Setting `pad_token_id` to `eos_token_id`:2 for open-end generation.\n",
      " 38%|███▊      | 42/112 [02:29<04:35,  3.94s/it]Setting `pad_token_id` to `eos_token_id`:2 for open-end generation.\n",
      " 38%|███▊      | 43/112 [02:33<04:50,  4.22s/it]Setting `pad_token_id` to `eos_token_id`:2 for open-end generation.\n",
      " 39%|███▉      | 44/112 [02:41<05:56,  5.25s/it]Setting `pad_token_id` to `eos_token_id`:2 for open-end generation.\n",
      " 40%|████      | 45/112 [02:45<05:30,  4.94s/it]Setting `pad_token_id` to `eos_token_id`:2 for open-end generation.\n",
      " 41%|████      | 46/112 [02:48<04:41,  4.27s/it]Setting `pad_token_id` to `eos_token_id`:2 for open-end generation.\n",
      " 42%|████▏     | 47/112 [02:52<04:38,  4.28s/it]Setting `pad_token_id` to `eos_token_id`:2 for open-end generation.\n",
      " 43%|████▎     | 48/112 [02:56<04:17,  4.02s/it]Setting `pad_token_id` to `eos_token_id`:2 for open-end generation.\n",
      " 44%|████▍     | 49/112 [02:59<03:56,  3.76s/it]Setting `pad_token_id` to `eos_token_id`:2 for open-end generation.\n",
      " 45%|████▍     | 50/112 [03:02<03:36,  3.49s/it]Setting `pad_token_id` to `eos_token_id`:2 for open-end generation.\n",
      " 46%|████▌     | 51/112 [03:06<03:46,  3.71s/it]Setting `pad_token_id` to `eos_token_id`:2 for open-end generation.\n",
      " 46%|████▋     | 52/112 [03:09<03:24,  3.42s/it]Setting `pad_token_id` to `eos_token_id`:2 for open-end generation.\n",
      " 47%|████▋     | 53/112 [03:11<02:57,  3.01s/it]Setting `pad_token_id` to `eos_token_id`:2 for open-end generation.\n",
      " 48%|████▊     | 54/112 [03:13<02:47,  2.88s/it]Setting `pad_token_id` to `eos_token_id`:2 for open-end generation.\n",
      " 49%|████▉     | 55/112 [03:16<02:36,  2.75s/it]Setting `pad_token_id` to `eos_token_id`:2 for open-end generation.\n",
      " 50%|█████     | 56/112 [03:18<02:31,  2.71s/it]Setting `pad_token_id` to `eos_token_id`:2 for open-end generation.\n",
      " 51%|█████     | 57/112 [03:22<02:40,  2.92s/it]Setting `pad_token_id` to `eos_token_id`:2 for open-end generation.\n",
      " 52%|█████▏    | 58/112 [03:25<02:46,  3.08s/it]Setting `pad_token_id` to `eos_token_id`:2 for open-end generation.\n",
      " 53%|█████▎    | 59/112 [03:29<02:50,  3.21s/it]Setting `pad_token_id` to `eos_token_id`:2 for open-end generation.\n",
      " 54%|█████▎    | 60/112 [03:32<02:39,  3.08s/it]Setting `pad_token_id` to `eos_token_id`:2 for open-end generation.\n",
      " 54%|█████▍    | 61/112 [03:35<02:45,  3.25s/it]Setting `pad_token_id` to `eos_token_id`:2 for open-end generation.\n",
      " 55%|█████▌    | 62/112 [03:38<02:34,  3.10s/it]Setting `pad_token_id` to `eos_token_id`:2 for open-end generation.\n",
      " 56%|█████▋    | 63/112 [03:42<02:51,  3.50s/it]Setting `pad_token_id` to `eos_token_id`:2 for open-end generation.\n",
      " 57%|█████▋    | 64/112 [03:46<02:54,  3.63s/it]Setting `pad_token_id` to `eos_token_id`:2 for open-end generation.\n",
      " 58%|█████▊    | 65/112 [03:50<02:53,  3.69s/it]Setting `pad_token_id` to `eos_token_id`:2 for open-end generation.\n",
      " 59%|█████▉    | 66/112 [03:54<02:58,  3.89s/it]Setting `pad_token_id` to `eos_token_id`:2 for open-end generation.\n",
      " 60%|█████▉    | 67/112 [03:57<02:43,  3.62s/it]Setting `pad_token_id` to `eos_token_id`:2 for open-end generation.\n",
      " 61%|██████    | 68/112 [04:00<02:31,  3.44s/it]Setting `pad_token_id` to `eos_token_id`:2 for open-end generation.\n",
      " 62%|██████▏   | 69/112 [04:03<02:17,  3.20s/it]Setting `pad_token_id` to `eos_token_id`:2 for open-end generation.\n",
      " 62%|██████▎   | 70/112 [04:08<02:29,  3.56s/it]Setting `pad_token_id` to `eos_token_id`:2 for open-end generation.\n",
      " 63%|██████▎   | 71/112 [04:11<02:24,  3.53s/it]Setting `pad_token_id` to `eos_token_id`:2 for open-end generation.\n",
      " 64%|██████▍   | 72/112 [04:14<02:20,  3.51s/it]Setting `pad_token_id` to `eos_token_id`:2 for open-end generation.\n",
      " 65%|██████▌   | 73/112 [04:19<02:30,  3.86s/it]Setting `pad_token_id` to `eos_token_id`:2 for open-end generation.\n",
      " 66%|██████▌   | 74/112 [04:23<02:26,  3.86s/it]Setting `pad_token_id` to `eos_token_id`:2 for open-end generation.\n",
      " 67%|██████▋   | 75/112 [04:26<02:13,  3.62s/it]Setting `pad_token_id` to `eos_token_id`:2 for open-end generation.\n",
      " 68%|██████▊   | 76/112 [04:28<01:57,  3.25s/it]Setting `pad_token_id` to `eos_token_id`:2 for open-end generation.\n",
      " 69%|██████▉   | 77/112 [04:31<01:44,  2.99s/it]Setting `pad_token_id` to `eos_token_id`:2 for open-end generation.\n",
      " 70%|██████▉   | 78/112 [04:34<01:47,  3.16s/it]Setting `pad_token_id` to `eos_token_id`:2 for open-end generation.\n",
      " 71%|███████   | 79/112 [04:37<01:43,  3.14s/it]Setting `pad_token_id` to `eos_token_id`:2 for open-end generation.\n",
      " 71%|███████▏  | 80/112 [04:40<01:34,  2.96s/it]Setting `pad_token_id` to `eos_token_id`:2 for open-end generation.\n",
      " 72%|███████▏  | 81/112 [04:44<01:44,  3.35s/it]Setting `pad_token_id` to `eos_token_id`:2 for open-end generation.\n",
      " 73%|███████▎  | 82/112 [04:48<01:45,  3.51s/it]Setting `pad_token_id` to `eos_token_id`:2 for open-end generation.\n",
      " 74%|███████▍  | 83/112 [04:52<01:41,  3.51s/it]Setting `pad_token_id` to `eos_token_id`:2 for open-end generation.\n",
      " 75%|███████▌  | 84/112 [04:56<01:44,  3.73s/it]Setting `pad_token_id` to `eos_token_id`:2 for open-end generation.\n",
      " 76%|███████▌  | 85/112 [04:58<01:28,  3.27s/it]Setting `pad_token_id` to `eos_token_id`:2 for open-end generation.\n",
      " 77%|███████▋  | 86/112 [05:01<01:18,  3.03s/it]Setting `pad_token_id` to `eos_token_id`:2 for open-end generation.\n",
      " 78%|███████▊  | 87/112 [05:04<01:19,  3.16s/it]Setting `pad_token_id` to `eos_token_id`:2 for open-end generation.\n",
      " 79%|███████▊  | 88/112 [05:08<01:18,  3.25s/it]Setting `pad_token_id` to `eos_token_id`:2 for open-end generation.\n",
      " 79%|███████▉  | 89/112 [05:11<01:13,  3.19s/it]Setting `pad_token_id` to `eos_token_id`:2 for open-end generation.\n",
      " 80%|████████  | 90/112 [05:15<01:21,  3.71s/it]Setting `pad_token_id` to `eos_token_id`:2 for open-end generation.\n",
      " 81%|████████▏ | 91/112 [05:19<01:14,  3.54s/it]Setting `pad_token_id` to `eos_token_id`:2 for open-end generation.\n",
      " 82%|████████▏ | 92/112 [05:23<01:13,  3.69s/it]Setting `pad_token_id` to `eos_token_id`:2 for open-end generation.\n",
      " 83%|████████▎ | 93/112 [05:27<01:13,  3.88s/it]Setting `pad_token_id` to `eos_token_id`:2 for open-end generation.\n",
      " 84%|████████▍ | 94/112 [05:30<01:02,  3.47s/it]Setting `pad_token_id` to `eos_token_id`:2 for open-end generation.\n",
      " 85%|████████▍ | 95/112 [05:34<01:03,  3.72s/it]Setting `pad_token_id` to `eos_token_id`:2 for open-end generation.\n",
      " 86%|████████▌ | 96/112 [05:38<01:02,  3.93s/it]Setting `pad_token_id` to `eos_token_id`:2 for open-end generation.\n",
      " 87%|████████▋ | 97/112 [05:41<00:55,  3.68s/it]Setting `pad_token_id` to `eos_token_id`:2 for open-end generation.\n",
      " 88%|████████▊ | 98/112 [05:45<00:51,  3.65s/it]Setting `pad_token_id` to `eos_token_id`:2 for open-end generation.\n",
      " 88%|████████▊ | 99/112 [05:49<00:47,  3.68s/it]Setting `pad_token_id` to `eos_token_id`:2 for open-end generation.\n",
      " 89%|████████▉ | 100/112 [05:54<00:48,  4.04s/it]Setting `pad_token_id` to `eos_token_id`:2 for open-end generation.\n",
      " 90%|█████████ | 101/112 [05:58<00:44,  4.03s/it]Setting `pad_token_id` to `eos_token_id`:2 for open-end generation.\n",
      " 91%|█████████ | 102/112 [06:02<00:41,  4.16s/it]Setting `pad_token_id` to `eos_token_id`:2 for open-end generation.\n",
      " 92%|█████████▏| 103/112 [06:05<00:33,  3.76s/it]Setting `pad_token_id` to `eos_token_id`:2 for open-end generation.\n",
      " 93%|█████████▎| 104/112 [06:08<00:27,  3.44s/it]Setting `pad_token_id` to `eos_token_id`:2 for open-end generation.\n",
      " 94%|█████████▍| 105/112 [06:11<00:23,  3.32s/it]Setting `pad_token_id` to `eos_token_id`:2 for open-end generation.\n",
      " 95%|█████████▍| 106/112 [06:14<00:20,  3.50s/it]Setting `pad_token_id` to `eos_token_id`:2 for open-end generation.\n",
      " 96%|█████████▌| 107/112 [06:18<00:17,  3.47s/it]Setting `pad_token_id` to `eos_token_id`:2 for open-end generation.\n",
      " 96%|█████████▋| 108/112 [06:21<00:13,  3.28s/it]Setting `pad_token_id` to `eos_token_id`:2 for open-end generation.\n",
      " 97%|█████████▋| 109/112 [06:23<00:09,  3.09s/it]Setting `pad_token_id` to `eos_token_id`:2 for open-end generation.\n",
      " 98%|█████████▊| 110/112 [06:27<00:06,  3.35s/it]Setting `pad_token_id` to `eos_token_id`:2 for open-end generation.\n",
      " 99%|█████████▉| 111/112 [06:31<00:03,  3.53s/it]\n"
     ]
    },
    {
     "ename": "IndexError",
     "evalue": "list index out of range",
     "output_type": "error",
     "traceback": [
      "\u001b[0;31m---------------------------------------------------------------------------\u001b[0m",
      "\u001b[0;31mIndexError\u001b[0m                                Traceback (most recent call last)",
      "Cell \u001b[0;32mIn[10], line 10\u001b[0m\n\u001b[1;32m      7\u001b[0m \u001b[38;5;28;01mfor\u001b[39;00m i \u001b[38;5;129;01min\u001b[39;00m \u001b[38;5;28mrange\u001b[39m(x, x \u001b[38;5;241m+\u001b[39m \u001b[38;5;241m2\u001b[39m):\n\u001b[1;32m      9\u001b[0m     picture_1 \u001b[38;5;241m=\u001b[39m unique_conversations[i][\u001b[38;5;124m\"\u001b[39m\u001b[38;5;124mconversations\u001b[39m\u001b[38;5;124m\"\u001b[39m][\u001b[38;5;241m1\u001b[39m][\u001b[38;5;124m'\u001b[39m\u001b[38;5;124mcontent\u001b[39m\u001b[38;5;124m'\u001b[39m]\n\u001b[0;32m---> 10\u001b[0m     picture_2 \u001b[38;5;241m=\u001b[39m \u001b[43munique_conversations\u001b[49m\u001b[43m[\u001b[49m\u001b[43mi\u001b[49m\u001b[43m \u001b[49m\u001b[38;5;241;43m+\u001b[39;49m\u001b[43m \u001b[49m\u001b[38;5;241;43m1\u001b[39;49m\u001b[43m]\u001b[49m[\u001b[38;5;124m\"\u001b[39m\u001b[38;5;124mconversations\u001b[39m\u001b[38;5;124m\"\u001b[39m][\u001b[38;5;241m1\u001b[39m][\u001b[38;5;124m'\u001b[39m\u001b[38;5;124mcontent\u001b[39m\u001b[38;5;124m'\u001b[39m]    \n\u001b[1;32m     12\u001b[0m     messages \u001b[38;5;241m=\u001b[39m [{\u001b[38;5;124m'\u001b[39m\u001b[38;5;124mrole\u001b[39m\u001b[38;5;124m'\u001b[39m: \u001b[38;5;124m'\u001b[39m\u001b[38;5;124muser\u001b[39m\u001b[38;5;124m'\u001b[39m,\n\u001b[1;32m     13\u001b[0m                   \u001b[38;5;124m'\u001b[39m\u001b[38;5;124mcontent\u001b[39m\u001b[38;5;124m'\u001b[39m: \u001b[38;5;124mf\u001b[39m\u001b[38;5;124m\"\"\"\u001b[39m\n\u001b[1;32m     14\u001b[0m \u001b[38;5;124m                  Picture 1: \u001b[39m\u001b[38;5;132;01m{\u001b[39;00mpicture_1\u001b[38;5;132;01m}\u001b[39;00m\u001b[38;5;124m \u001b[39m\n\u001b[1;32m     15\u001b[0m \u001b[38;5;124m                  Picture 2: \u001b[39m\u001b[38;5;132;01m{\u001b[39;00mpicture_2\u001b[38;5;132;01m}\u001b[39;00m\n\u001b[1;32m     16\u001b[0m \u001b[38;5;124m                  What is related between picture 1 and picture 2.\u001b[39m\u001b[38;5;124m\"\"\"\u001b[39m}]\n\u001b[1;32m     18\u001b[0m     prompt\u001b[38;5;241m.\u001b[39mappend(parse_mistral_chat(messages))\n",
      "\u001b[0;31mIndexError\u001b[0m: list index out of range"
     ]
    }
   ],
   "source": [
    "prompt_list = []\n",
    "\n",
    "for x in tqdm(range(0, len(unique_conversations), 2)):\n",
    "    \n",
    "    prompt = []\n",
    "    \n",
    "    for i in range(x, x + 2):\n",
    "        \n",
    "        picture_1 = unique_conversations[i][\"conversations\"][1]['content']\n",
    "        picture_2 = unique_conversations[i + 1][\"conversations\"][1]['content']    \n",
    "\n",
    "        messages = [{'role': 'user',\n",
    "                      'content': f\"\"\"\n",
    "                      Picture 1: {picture_1} \n",
    "                      Picture 2: {picture_2}\n",
    "                      What is related between picture 1 and picture 2.\"\"\"}]\n",
    "        \n",
    "        prompt.append(parse_mistral_chat(messages))\n",
    "\n",
    "    response = predict(prompt)\n",
    "\n",
    "    for i in range(len(prompt)):\n",
    "        decoded_response = tokenizer.decode(response[i],skip_special_tokens=True)\n",
    "        \n",
    "        conversations = [\n",
    "            {\"role\": \"user\", \"content\": \"<image><image>What is related between picture 1 and picture 2?\"},\n",
    "            {\"role\": \"assistant\", \"content\": decoded_response.split('[/INST]')[1]}\n",
    "        ]\n",
    "        \n",
    "        data_input = {\"image\": [unique_conversations[x + i]['image'], unique_conversations[x + i + 1]['image']],\n",
    "                      \n",
    "                      \"conversations\": conversations}\n",
    "        \n",
    "        with open('moto-multiimage-chat.jsonl', 'a') as fopen:\n",
    "            json.dump(data_input, fopen)\n",
    "            fopen.write('\\n')"
   ]
  },
  {
   "cell_type": "code",
   "execution_count": 13,
   "id": "2c839b62",
   "metadata": {},
   "outputs": [],
   "source": [
    "moto = []\n",
    "\n",
    "with open('moto-multiimage-chat.jsonl') as fopen:\n",
    "    \n",
    "    for x in fopen:\n",
    "        moto.append(json.loads(x))"
   ]
  },
  {
   "cell_type": "code",
   "execution_count": 16,
   "id": "dd6e2def",
   "metadata": {
    "scrolled": false
   },
   "outputs": [
    {
     "data": {
      "text/plain": [
       "222"
      ]
     },
     "execution_count": 16,
     "metadata": {},
     "output_type": "execute_result"
    }
   ],
   "source": [
    "len(moto)"
   ]
  },
  {
   "cell_type": "code",
   "execution_count": 21,
   "id": "386a2502",
   "metadata": {},
   "outputs": [
    {
     "data": {
      "text/plain": [
       "[{'image': ['pic/Suzuki GSX-S1000GT (2022)_0.jpg',\n",
       "   'pic/Suzuki Burgman 400 (2021)_0.jpg'],\n",
       "  'conversations': [{'role': 'user',\n",
       "    'content': '<image><image>What is related between picture 1 and picture 2?'},\n",
       "   {'role': 'assistant',\n",
       "    'content': ' Both picture 1 and picture 2 feature motorcycles manufactured by Suzuki. The first picture shows the Suzuki GSX-S1000GT (2022), which is a sports bike model. The second picture shows the Suzuki Burgman 400 (2021), which is a scooter model.\\n\\nAlthough they are different types of motorcycles, they are related in that they are both produced by the same manufacturer, Suzuki.'}]},\n",
       " {'image': ['pic/Suzuki Burgman 400 (2021)_0.jpg',\n",
       "   'pic/Suzuki Katana (2021)_0.jpg'],\n",
       "  'conversations': [{'role': 'user',\n",
       "    'content': '<image><image>What is related between picture 1 and picture 2?'},\n",
       "   {'role': 'assistant',\n",
       "    'content': ' Both picture 1 and picture 2 feature motorcycles manufactured by Suzuki. The Suzuki Burgman 400 is a scooter, while the Suzuki Katana is a standard motorcycle. Despite being different types of motorcycles, they share the commonality of being produced by the same manufacturer, Suzuki.'}]},\n",
       " {'image': ['pic/Suzuki Katana (2021)_0.jpg',\n",
       "   'pic/Suzuki Hayabusa (2021)_0.jpg'],\n",
       "  'conversations': [{'role': 'user',\n",
       "    'content': '<image><image>What is related between picture 1 and picture 2?'},\n",
       "   {'role': 'assistant',\n",
       "    'content': ' Both picture 1 and picture 2 feature motorcycles manufactured by Suzuki. The Suzuki Katana is depicted in picture 1, while picture 2 shows the Suzuki Hayabusa. Although they are different models, they share the common factor of being produced by the same manufacturer.'}]},\n",
       " {'image': ['pic/Suzuki Hayabusa (2021)_0.jpg',\n",
       "   'pic/Suzuki GSX-R1000 (2021)_0.jpg'],\n",
       "  'conversations': [{'role': 'user',\n",
       "    'content': '<image><image>What is related between picture 1 and picture 2?'},\n",
       "   {'role': 'assistant',\n",
       "    'content': \" Both picture 1 and picture 2 show motorcycles produced by Suzuki. Specifically, picture 1 is of the Suzuki Hayabusa (2021 model), and picture 2 is of the Suzuki GSX-R1000 (2021 model). They are related in that they are both high-performance motorcycles manufactured by the same company. While they have some differences in design and features, they share the Suzuki brand and represent the company's commitment to producing high-quality, powerful motorcycles.\"}]},\n",
       " {'image': ['pic/Suzuki GSX-R1000 (2021)_0.jpg',\n",
       "   'pic/Modenas Karisma 125S (2022)_0.jpg'],\n",
       "  'conversations': [{'role': 'user',\n",
       "    'content': '<image><image>What is related between picture 1 and picture 2?'},\n",
       "   {'role': 'assistant',\n",
       "    'content': ' The Suzuki GSX-R1000 (2021) and Modenas Karisma 125S (2022) are related in the sense that they are both motorcycles. However, there are significant differences between the two:\\n\\n1. Make and Model: The Suzuki GSX-R1000 is a sports bike manufactured by Suzuki, while the Modenas Karisma 125S is a commuter bike manufactured by Modenas, a Malaysian motorcycle company.\\n2. Engine Capacity: The Suzuki GSX-R1000 has a larger engine capacity of 999cc, while the Modenas Karisma 125S has a smaller engine capacity of 124.7cc.\\n3. Power and Performance: The Suzuki GSX-R1000 produces around 197 horsepower, making it a high-performance motorcycle. In contrast, the Modenas Karisma 125S produces around 12 horsepower, making it a more modest commuter bike.\\n4. Price: The Suzuki GSX-R1000 is a high-end sports bike with a significantly higher price tag than the Modenas Karisma 125S, which is a more affordable commuter bike.\\n5. Purpose: The Suzuki GSX-R1000 is designed for high-performance riding and racing, while the Modenas Karisma 125S is designed for everyday commuting and city riding.'}]},\n",
       " {'image': ['pic/Modenas Karisma 125S (2022)_0.jpg',\n",
       "   'pic/Suzuki V-Strom 1050XT (2021)_0.jpg'],\n",
       "  'conversations': [{'role': 'user',\n",
       "    'content': '<image><image>What is related between picture 1 and picture 2?'},\n",
       "   {'role': 'assistant',\n",
       "    'content': ' Both picture 1 and picture 2 feature motorcycles. The Modenas Karisma 125S (Picture 1) is a motorcycle produced by Modenas in Malaysia, specifically a 125cc sports bike. The Suzuki V-Strom 1050XT (Picture 2) is a motorcycle produced by Suzuki, specifically an adventure touring bike with a 1050cc engine.\\n\\nThe relationship between the two pictures is that they both depict motorcycles, but they are different models and cater to different riding styles and preferences. The Modenas Karisma 125S is a smaller, more agile bike suitable for city riding and shorter trips, while the Suzuki V-Strom 1050XT is a larger, more powerful bike designed for long-distance touring and off-road adventures.'}]},\n",
       " {'image': ['pic/Suzuki V-Strom 1050XT (2021)_0.jpg',\n",
       "   'pic/Suzuki V-Strom 650XT (2021)_0.jpg'],\n",
       "  'conversations': [{'role': 'user',\n",
       "    'content': '<image><image>What is related between picture 1 and picture 2?'},\n",
       "   {'role': 'assistant',\n",
       "    'content': ' Both picture 1 and picture 2 show motorcycles from the same manufacturer, Suzuki, and both belong to the V-Strom series. The difference between them is the model and displacement: picture 1 is of the Suzuki V-Strom 1050XT (2021), which has a larger engine displacement of 1050cc, while picture 2 is of the Suzuki V-Strom 650XT (2021), which has a smaller engine displacement of 650cc.'}]},\n",
       " {'image': ['pic/Suzuki V-Strom 650XT (2021)_0.jpg',\n",
       "   'pic/Suzuki GSX-S750 (2021)_0.jpg'],\n",
       "  'conversations': [{'role': 'user',\n",
       "    'content': '<image><image>What is related between picture 1 and picture 2?'},\n",
       "   {'role': 'assistant',\n",
       "    'content': ' Both picture 1 and picture 2 show motorcycles manufactured by Suzuki. The Suzuki V-Strom 650XT (picture 1) and the Suzuki GSX-S750 (picture 2) are different models from the same manufacturer. They share some commonalities such as the Suzuki brand, but they have distinct features and are designed for different riding styles. The V-Strom 650XT is an adventure touring bike, while the GSX-S750 is a sporty standard bike.'}]}]"
      ]
     },
     "execution_count": 21,
     "metadata": {},
     "output_type": "execute_result"
    }
   ],
   "source": [
    "moto[0:8]"
   ]
  },
  {
   "cell_type": "code",
   "execution_count": 22,
   "id": "324bc6d8",
   "metadata": {},
   "outputs": [],
   "source": [
    "from huggingface_hub import notebook_login"
   ]
  },
  {
   "cell_type": "code",
   "execution_count": 23,
   "id": "da21f709",
   "metadata": {},
   "outputs": [
    {
     "data": {
      "application/vnd.jupyter.widget-view+json": {
       "model_id": "0a904860699a4ee7ae925a3b2eead67a",
       "version_major": 2,
       "version_minor": 0
      },
      "text/plain": [
       "VBox(children=(HTML(value='<center> <img\\nsrc=https://huggingface.co/front/assets/huggingface_logo-noborder.sv…"
      ]
     },
     "metadata": {},
     "output_type": "display_data"
    }
   ],
   "source": [
    "notebook_login()"
   ]
  },
  {
   "cell_type": "code",
   "execution_count": 27,
   "id": "e8e7c627",
   "metadata": {},
   "outputs": [
    {
     "data": {
      "text/plain": [
       "CommitInfo(commit_url='https://huggingface.co/datasets/malaysia-ai/motomalaysia.com-multiturn/commit/1269bd08ea63c341d04911af43ae6b57b21b89c8', commit_message='Upload moto-multiimage-chat.jsonl with huggingface_hub', commit_description='', oid='1269bd08ea63c341d04911af43ae6b57b21b89c8', pr_url=None, pr_revision=None, pr_num=None)"
      ]
     },
     "execution_count": 27,
     "metadata": {},
     "output_type": "execute_result"
    }
   ],
   "source": [
    "from huggingface_hub import HfApi\n",
    "api = HfApi()\n",
    "api.upload_file(\n",
    "    path_or_fileobj=\"moto-multiimage-chat.jsonl\",\n",
    "    path_in_repo = \"moto-multiimage-chat.jsonl\",\n",
    "    repo_id=\"malaysia-ai/motomalaysia.com-multiturn\",\n",
    "    repo_type=\"dataset\",\n",
    ")"
   ]
  },
  {
   "cell_type": "code",
   "execution_count": 5,
   "id": "17935bd3",
   "metadata": {},
   "outputs": [],
   "source": [
    "import json \n",
    "\n",
    "data = []\n",
    "\n",
    "with open('mixtral_audio_instruction_multiaudio.jsonl') as fopen:\n",
    "    \n",
    "    for x in fopen:\n",
    "    \n",
    "        data.append(json.loads(x))"
   ]
  },
  {
   "cell_type": "code",
   "execution_count": 6,
   "id": "30c47829",
   "metadata": {},
   "outputs": [
    {
     "data": {
      "text/plain": [
       "{'filename': ['output-audio/3-3095-4.mp3', 'output-audio/3-2622-40.mp3'],\n",
       " 'context': [{'context_audio_1': 'Dan kat sini dia ada tulis masa dan juga speed. Yang ni kita nak kisar dulu bahan-bahan yang kita dah letak tadi. Untuk ini kita tak perlu nak tukar apa-apa pun. Just tekan je terus button tu dan kita kisar semua bahan-bahan tadi. Okey jom kita tengok kat dalam dia. Okey ni lah hasil dia. Bawang-bawang yang dah dikisar tadi. Tapi kalau nak lagi halus kita boleh ulang semula langkah tadi untuk dikisar sekali lagi. Okey kat sini dia ada tulis scrap down. Maksudnya kita perlu jatuhkan'},\n",
       "  {'context_audio_2': 'ke kanan, kiri ke kanan tapi still tak jumpa permukaan atas sampailah aku nampak ada air yang berkucak kat atas kepala aku waktu tu dia macam ada pecikan air lah dan aku pun jenguhkan kepala dalam keadaan yang tak tak apa ni tak nampak sangat kabur and aku nampak aku waktu tu macam pemandangan tu macam kena block tau air kan aku macam aku tengok macam tu kat atas bila aku tengok kat atas aku nampak ada tangan yang tengah'}],\n",
       " 'conversations': [{'role': 'user',\n",
       "   'content': '<audio><audio>What is related between audio 1 and audio 2?'},\n",
       "  {'role': 'assistant',\n",
       "   'content': ' It is difficult to determine a direct relationship between Audio 1 and Audio 2 without additional context. However, there are some possible connections based on the given texts.\\n\\nIn Audio 1, the speaker is describing the process of blending or grinding ingredients using a machine. The speaker mentions that they do not need to change anything and can simply press the button to blend all the ingredients together. The speaker also mentions that they can redo the process if they want the ingredients to be blended more finely.\\n\\nIn Audio 2, the speaker is describing a visual experience where they see water on the surface and feel like they are looking at a blocked view or a hand in front of them. The speaker also mentions feeling like they are looking at something from above and seeing a hand.\\n\\nOne possible connection between the two audios could be that the speaker in Audio 1 is describing the process of making a food or drink item, and the speaker in Audio 2 is describing a moment of confusion or disorientation while observing the blended ingredients. Alternatively, the two audios could be unrelated. Without more context, it is difficult to say for certain.'}]}"
      ]
     },
     "execution_count": 6,
     "metadata": {},
     "output_type": "execute_result"
    }
   ],
   "source": [
    "data[0]"
   ]
  }
 ],
 "metadata": {
  "kernelspec": {
   "display_name": "Python 3 (ipykernel)",
   "language": "python",
   "name": "python3"
  },
  "language_info": {
   "codemirror_mode": {
    "name": "ipython",
    "version": 3
   },
   "file_extension": ".py",
   "mimetype": "text/x-python",
   "name": "python",
   "nbconvert_exporter": "python",
   "pygments_lexer": "ipython3",
   "version": "3.10.12"
  }
 },
 "nbformat": 4,
 "nbformat_minor": 5
}
