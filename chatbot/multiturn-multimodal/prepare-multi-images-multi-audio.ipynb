{
 "cells": [
  {
   "cell_type": "code",
   "execution_count": 1,
   "id": "6185b2e8",
   "metadata": {},
   "outputs": [],
   "source": [
    "import json\n",
    "from pprint import pprint\n",
    "from transformers import AutoModelForCausalLM, AutoTokenizer\n",
    "from tqdm import tqdm\n",
    "import torch\n",
    "import random"
   ]
  },
  {
   "cell_type": "code",
   "execution_count": 2,
   "id": "c205f856",
   "metadata": {},
   "outputs": [],
   "source": [
    "tokenizer = AutoTokenizer.from_pretrained('mistralai/Mistral-7B-Instruct-v0.2')\n",
    "model = AutoModelForCausalLM.from_pretrained(\n",
    "    'mistralai/Mistral-7B-Instruct-v0.2',\n",
    "    use_flash_attention_2 = True,\n",
    "    torch_dtype = torch.float16\n",
    ")\n",
    "tokenizer.pad_token = tokenizer.eos_token\n",
    "model.cuda()"
   ]
  },
  {
   "cell_type": "markdown",
   "id": "48e25827",
   "metadata": {},
   "source": [
    "### Audio"
   ]
  },
  {
   "cell_type": "code",
   "execution_count": 3,
   "id": "708c40d6",
   "metadata": {},
   "outputs": [],
   "source": [
    "data = []\n",
    "\n",
    "with open('mixtral-audio-instruction.jsonl') as fopen:\n",
    "    for x in fopen:\n",
    "        data.append(json.loads(x))"
   ]
  },
  {
   "cell_type": "code",
   "execution_count": 4,
   "id": "8f7a9667",
   "metadata": {},
   "outputs": [
    {
     "data": {
      "text/plain": [
       "59404"
      ]
     },
     "execution_count": 4,
     "metadata": {},
     "output_type": "execute_result"
    }
   ],
   "source": [
    "unique_conversations = []\n",
    "conversation_set = set()\n",
    "\n",
    "for data_ in data:\n",
    "\n",
    "    conversations = data_['context']\n",
    "    if conversations not in conversation_set:\n",
    "        unique_conversations.append(data_)\n",
    "        conversation_set.add(conversations)\n",
    "        \n",
    "len(unique_conversations)"
   ]
  },
  {
   "cell_type": "markdown",
   "id": "f54b8104",
   "metadata": {},
   "source": [
    "### Image"
   ]
  },
  {
   "cell_type": "code",
   "execution_count": 5,
   "id": "0a7b4915",
   "metadata": {},
   "outputs": [
    {
     "data": {
      "text/plain": [
       "558128"
      ]
     },
     "execution_count": 5,
     "metadata": {},
     "output_type": "execute_result"
    }
   ],
   "source": [
    "image = []\n",
    "\n",
    "with open('dataset/llava/blip_laion_cc_sbu_558k.translated.jsonl') as fopen:\n",
    "    for x in fopen:\n",
    "        image.append(json.loads(x))\n",
    "        \n",
    "len(image)"
   ]
  },
  {
   "cell_type": "code",
   "execution_count": 6,
   "id": "c02e3c84",
   "metadata": {},
   "outputs": [
    {
     "data": {
      "text/plain": [
       "{'id': '004539375',\n",
       " 'image': '00453/004539375.jpg',\n",
       " 'conversations': [{'from': 'human',\n",
       "   'value': 'Render a clear and concise summary of the photo.\\n<image>',\n",
       "   'value_ms': 'Render ringkasan foto yang jelas dan ringkas.\\n<imej>'},\n",
       "  {'from': 'gpt',\n",
       "   'value': 'select luxury furniture 3 - inch gel memory foam mattress topper',\n",
       "   'value_ms': 'pilih perabot mewah 3 inci memori gel buih tilam topper'}]}"
      ]
     },
     "execution_count": 6,
     "metadata": {},
     "output_type": "execute_result"
    }
   ],
   "source": [
    "image[0]"
   ]
  },
  {
   "cell_type": "code",
   "execution_count": 20,
   "id": "f6962beb",
   "metadata": {},
   "outputs": [],
   "source": [
    "batch_size = 100\n",
    "prompt_list = []\n",
    "selected_audio = set()\n",
    "selected_image = set()\n",
    "\n",
    "with open('llava-audio-chat-template.jsonl', 'w') as fopen:\n",
    "    for x in tqdm(range(0, 100000, batch_size)):\n",
    "        \n",
    "        audios = []\n",
    "        images = []\n",
    "        prompts = []\n",
    "        for _ in range(batch_size):\n",
    "            audio_id = random.choice(list(set(range(len(unique_conversations))) - selected_audio))\n",
    "            image_id =random.choice(list(set(range(len(image))) - selected_image))\n",
    "\n",
    "            selected_audio.add(audio_id)\n",
    "            selected_image.add(image_id)\n",
    "\n",
    "            audio_context = unique_conversations[audio_id]['context']\n",
    "            image_context = image[image_id]['conversations'][1]['value']\n",
    "\n",
    "\n",
    "            messages = [{'role': 'user',\n",
    "                              'content': f\"\"\"\n",
    "            Audio 1: {audio_context} \n",
    "            Picture 1: {image_context}\n",
    "            What is related between audio 1 and picture 1.\"\"\"}]\n",
    "\n",
    "            prompt = tokenizer.apply_chat_template(messages, tokenize = False)\n",
    "            prompts.append(prompt)\n",
    "            audios.append((unique_conversations[audio_id]['context'], unique_conversations[audio_id]['filename']))\n",
    "            images.append((image[image_id]['conversations'][1]['value'], image[image_id]['image']))\n",
    "            \n",
    "            \n",
    "        d = {\n",
    "            'prompts': prompts,\n",
    "            'audios': audios,\n",
    "            'images': images,\n",
    "        }\n",
    "        fopen.write(f'{json.dumps(d)}\\n')"
   ]
  },
  {
   "cell_type": "code",
   "execution_count": null,
   "id": "e7c8eb48",
   "metadata": {},
   "outputs": [],
   "source": []
  }
 ],
 "metadata": {
  "kernelspec": {
   "display_name": "Python 3 (ipykernel)",
   "language": "python",
   "name": "python3"
  },
  "language_info": {
   "codemirror_mode": {
    "name": "ipython",
    "version": 3
   },
   "file_extension": ".py",
   "mimetype": "text/x-python",
   "name": "python",
   "nbconvert_exporter": "python",
   "pygments_lexer": "ipython3",
   "version": "3.10.12"
  }
 },
 "nbformat": 4,
 "nbformat_minor": 5
}
