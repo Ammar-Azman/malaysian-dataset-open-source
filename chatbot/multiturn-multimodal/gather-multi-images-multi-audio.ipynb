{
 "cells": [
  {
   "cell_type": "code",
   "execution_count": 1,
   "id": "3d9da76b",
   "metadata": {},
   "outputs": [],
   "source": [
    "import json\n",
    "from tqdm import tqdm\n",
    "from glob import glob\n",
    "import os"
   ]
  },
  {
   "cell_type": "code",
   "execution_count": 15,
   "id": "f64ab1a3",
   "metadata": {},
   "outputs": [],
   "source": [
    "data = []\n",
    "with open('llava-audio-chat-template.jsonl') as fopen:\n",
    "    for l in fopen:\n",
    "        data.append(json.loads(l))"
   ]
  },
  {
   "cell_type": "code",
   "execution_count": 16,
   "id": "ad6e25b5",
   "metadata": {},
   "outputs": [
    {
     "name": "stderr",
     "output_type": "stream",
     "text": [
      "100%|██████████| 594/594 [00:00<00:00, 933.26it/s]\n"
     ]
    }
   ],
   "source": [
    "with open('synthetic-multi-images-multi-audio-relationship.jsonl', 'w') as fopen_l:\n",
    "    for i in tqdm(range(len(data))):\n",
    "        filename = os.path.join('llava-audio', f'{i}.json')\n",
    "        if not os.path.exists(filename):\n",
    "            continue\n",
    "        with open(filename) as fopen:\n",
    "            d = json.load(fopen)\n",
    "        \n",
    "        for k, d_ in enumerate(d):\n",
    "            d_ = {\n",
    "                'filename': [data[i]['audios'][k][1], data[i]['images'][k][1]],\n",
    "                'filename_description': [data[i]['audios'][k][0], data[i]['images'][k][0]],\n",
    "                'instruction': 'What is related between audio 1 and picture 1',\n",
    "                'answer': d_.split('[/INST]')[1].strip()\n",
    "            }\n",
    "            fopen_l.write(f'{json.dumps(d_)}\\n')"
   ]
  },
  {
   "cell_type": "code",
   "execution_count": 17,
   "id": "7c701710",
   "metadata": {},
   "outputs": [],
   "source": [
    "from huggingface_hub import HfApi\n",
    "api = HfApi()"
   ]
  },
  {
   "cell_type": "code",
   "execution_count": 18,
   "id": "3a913610",
   "metadata": {
    "scrolled": true
   },
   "outputs": [
    {
     "data": {
      "application/vnd.jupyter.widget-view+json": {
       "model_id": "076edce22fb949418244e9e325e04b95",
       "version_major": 2,
       "version_minor": 0
      },
      "text/plain": [
       "synthetic-multi-images-multi-audio-relationship.jsonl:   0%|          | 0.00/67.6M [00:00<?, ?B/s]"
      ]
     },
     "metadata": {},
     "output_type": "display_data"
    },
    {
     "data": {
      "text/plain": [
       "CommitInfo(commit_url='https://huggingface.co/datasets/mesolitica/synthetic-multiturn-multimodal/commit/a5d8f2cae49ed280308681d40df84f0f2272686a', commit_message='Upload synthetic-multi-images-multi-audio-relationship.jsonl with huggingface_hub', commit_description='', oid='a5d8f2cae49ed280308681d40df84f0f2272686a', pr_url=None, pr_revision=None, pr_num=None)"
      ]
     },
     "execution_count": 18,
     "metadata": {},
     "output_type": "execute_result"
    }
   ],
   "source": [
    "api.upload_file(\n",
    "    path_or_fileobj='synthetic-multi-images-multi-audio-relationship.jsonl',\n",
    "    path_in_repo='synthetic-multi-images-multi-audio-relationship.jsonl',\n",
    "    repo_id='mesolitica/synthetic-multiturn-multimodal',\n",
    "    repo_type='dataset',\n",
    ")"
   ]
  }
 ],
 "metadata": {
  "kernelspec": {
   "display_name": "Python 3 (ipykernel)",
   "language": "python",
   "name": "python3"
  },
  "language_info": {
   "codemirror_mode": {
    "name": "ipython",
    "version": 3
   },
   "file_extension": ".py",
   "mimetype": "text/x-python",
   "name": "python",
   "nbconvert_exporter": "python",
   "pygments_lexer": "ipython3",
   "version": "3.10.12"
  }
 },
 "nbformat": 4,
 "nbformat_minor": 5
}
