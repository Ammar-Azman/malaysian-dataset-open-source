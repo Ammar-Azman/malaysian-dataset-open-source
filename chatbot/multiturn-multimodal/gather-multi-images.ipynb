{
 "cells": [
  {
   "cell_type": "code",
   "execution_count": 1,
   "id": "3d9da76b",
   "metadata": {},
   "outputs": [],
   "source": [
    "import json\n",
    "from tqdm import tqdm\n",
    "from glob import glob\n",
    "import os"
   ]
  },
  {
   "cell_type": "code",
   "execution_count": 2,
   "id": "f64ab1a3",
   "metadata": {},
   "outputs": [],
   "source": [
    "data = []\n",
    "with open('llava-multi-images-template.jsonl') as fopen:\n",
    "    for l in fopen:\n",
    "        data.append(json.loads(l))"
   ]
  },
  {
   "cell_type": "code",
   "execution_count": 3,
   "id": "ad6e25b5",
   "metadata": {},
   "outputs": [
    {
     "name": "stderr",
     "output_type": "stream",
     "text": [
      "100%|██████████| 1000/1000 [00:00<00:00, 1200.47it/s]\n"
     ]
    }
   ],
   "source": [
    "with open('synthetic-multi-images-relationship.jsonl', 'w') as fopen_l:\n",
    "    for i in tqdm(range(len(data))):\n",
    "        filename = os.path.join('llava-multi', f'{i}.json')\n",
    "        if not os.path.exists(filename):\n",
    "            continue\n",
    "        with open(filename) as fopen:\n",
    "            d = json.load(fopen)\n",
    "        \n",
    "        for k, d_ in enumerate(d):\n",
    "            d_ = {\n",
    "                'filename': [data[i]['images0'][k][1], data[i]['images1'][k][1]],\n",
    "                'filename_description': [data[i]['images0'][k][0], data[i]['images1'][k][0]],\n",
    "                'instruction': 'What is related between picture 1 and picture 2',\n",
    "                'answer': d_.split('[/INST]')[1].strip()\n",
    "            }\n",
    "            fopen_l.write(f'{json.dumps(d_)}\\n')"
   ]
  },
  {
   "cell_type": "code",
   "execution_count": 4,
   "id": "7c701710",
   "metadata": {},
   "outputs": [],
   "source": [
    "from huggingface_hub import HfApi\n",
    "api = HfApi()"
   ]
  },
  {
   "cell_type": "code",
   "execution_count": 5,
   "id": "3a913610",
   "metadata": {},
   "outputs": [
    {
     "data": {
      "application/vnd.jupyter.widget-view+json": {
       "model_id": "a0641c4e3e7b41e4b12ab1a33b0a2d25",
       "version_major": 2,
       "version_minor": 0
      },
      "text/plain": [
       "synthetic-multi-images-relationship.jsonl:   0%|          | 0.00/63.8M [00:00<?, ?B/s]"
      ]
     },
     "metadata": {},
     "output_type": "display_data"
    },
    {
     "data": {
      "text/plain": [
       "CommitInfo(commit_url='https://huggingface.co/datasets/mesolitica/synthetic-multiturn-multimodal/commit/89c058e5bc8aef1a1db83b9e2b45b6a86b7a7ba5', commit_message='Upload synthetic-multi-images-relationship.jsonl with huggingface_hub', commit_description='', oid='89c058e5bc8aef1a1db83b9e2b45b6a86b7a7ba5', pr_url=None, pr_revision=None, pr_num=None)"
      ]
     },
     "execution_count": 5,
     "metadata": {},
     "output_type": "execute_result"
    }
   ],
   "source": [
    "api.upload_file(\n",
    "    path_or_fileobj='synthetic-multi-images-relationship.jsonl',\n",
    "    path_in_repo='synthetic-multi-images-relationship.jsonl',\n",
    "    repo_id='mesolitica/synthetic-multiturn-multimodal',\n",
    "    repo_type='dataset',\n",
    ")"
   ]
  }
 ],
 "metadata": {
  "kernelspec": {
   "display_name": "Python 3 (ipykernel)",
   "language": "python",
   "name": "python3"
  },
  "language_info": {
   "codemirror_mode": {
    "name": "ipython",
    "version": 3
   },
   "file_extension": ".py",
   "mimetype": "text/x-python",
   "name": "python",
   "nbconvert_exporter": "python",
   "pygments_lexer": "ipython3",
   "version": "3.10.12"
  }
 },
 "nbformat": 4,
 "nbformat_minor": 5
}
