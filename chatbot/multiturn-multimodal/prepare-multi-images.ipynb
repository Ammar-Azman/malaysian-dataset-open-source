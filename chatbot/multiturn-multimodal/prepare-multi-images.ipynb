{
 "cells": [
  {
   "cell_type": "code",
   "execution_count": 1,
   "id": "6185b2e8",
   "metadata": {},
   "outputs": [],
   "source": [
    "import json\n",
    "from pprint import pprint\n",
    "from transformers import AutoModelForCausalLM, AutoTokenizer\n",
    "from tqdm import tqdm\n",
    "import torch\n",
    "import random"
   ]
  },
  {
   "cell_type": "code",
   "execution_count": 2,
   "id": "c205f856",
   "metadata": {},
   "outputs": [],
   "source": [
    "tokenizer = AutoTokenizer.from_pretrained('mistralai/Mistral-7B-Instruct-v0.2')\n",
    "# model = AutoModelForCausalLM.from_pretrained(\n",
    "#     'mistralai/Mistral-7B-Instruct-v0.2',\n",
    "#     use_flash_attention_2 = True,\n",
    "#     torch_dtype = torch.float16\n",
    "# )\n",
    "# tokenizer.pad_token = tokenizer.eos_token\n",
    "# model.cuda()"
   ]
  },
  {
   "cell_type": "markdown",
   "id": "f54b8104",
   "metadata": {},
   "source": [
    "### Image"
   ]
  },
  {
   "cell_type": "code",
   "execution_count": 3,
   "id": "0a7b4915",
   "metadata": {},
   "outputs": [
    {
     "data": {
      "text/plain": [
       "558128"
      ]
     },
     "execution_count": 3,
     "metadata": {},
     "output_type": "execute_result"
    }
   ],
   "source": [
    "image = []\n",
    "\n",
    "with open('dataset/llava/blip_laion_cc_sbu_558k.translated.jsonl') as fopen:\n",
    "    for x in fopen:\n",
    "        image.append(json.loads(x))\n",
    "        \n",
    "len(image)"
   ]
  },
  {
   "cell_type": "code",
   "execution_count": 4,
   "id": "62c4a199",
   "metadata": {
    "scrolled": true
   },
   "outputs": [
    {
     "data": {
      "text/plain": [
       "{'id': '004539375',\n",
       " 'image': '00453/004539375.jpg',\n",
       " 'conversations': [{'from': 'human',\n",
       "   'value': 'Render a clear and concise summary of the photo.\\n<image>',\n",
       "   'value_ms': 'Render ringkasan foto yang jelas dan ringkas.\\n<imej>'},\n",
       "  {'from': 'gpt',\n",
       "   'value': 'select luxury furniture 3 - inch gel memory foam mattress topper',\n",
       "   'value_ms': 'pilih perabot mewah 3 inci memori gel buih tilam topper'}]}"
      ]
     },
     "execution_count": 4,
     "metadata": {},
     "output_type": "execute_result"
    }
   ],
   "source": [
    "image[0]"
   ]
  },
  {
   "cell_type": "code",
   "execution_count": 8,
   "id": "78229721",
   "metadata": {},
   "outputs": [
    {
     "name": "stderr",
     "output_type": "stream",
     "text": [
      "100%|██████████| 1000/1000 [1:26:33<00:00,  5.19s/it]\n"
     ]
    }
   ],
   "source": [
    "batch_size = 100\n",
    "prompt_list = []\n",
    "selected_image = set()\n",
    "\n",
    "with open('llava-multi-images-template.jsonl', 'w') as fopen:\n",
    "    for x in tqdm(range(0, 100000, batch_size)):\n",
    "        \n",
    "        prompts = []\n",
    "        images0 = []\n",
    "        images1 = []\n",
    "        for _ in range(batch_size):\n",
    "            image_ids = random.sample(list(set(range(len(image))) - selected_image), 2)\n",
    "            selected_image |= set(image_ids)\n",
    "\n",
    "            messages = [{'role': 'user',\n",
    "                              'content': f\"\"\"\n",
    "            Picture 1: {image[image_ids[0]]['conversations'][1]['value']} \n",
    "            Picture 2: {image[image_ids[1]]['conversations'][1]['value']}\n",
    "            What is related between picture 1 and picture 2.\"\"\"}]\n",
    "\n",
    "            prompt = tokenizer.apply_chat_template(messages, tokenize = False)\n",
    "            prompts.append(prompt)\n",
    "            images0.append((image[image_ids[0]]['conversations'][1]['value'], image[image_ids[0]]['image']))\n",
    "            images1.append((image[image_ids[1]]['conversations'][1]['value'], image[image_ids[1]]['image']))\n",
    "            \n",
    "        d = {\n",
    "            'prompts': prompts,\n",
    "            'images0': images0,\n",
    "            'images1': images1,\n",
    "        }\n",
    "        fopen.write(f'{json.dumps(d)}\\n')"
   ]
  }
 ],
 "metadata": {
  "kernelspec": {
   "display_name": "Python 3 (ipykernel)",
   "language": "python",
   "name": "python3"
  },
  "language_info": {
   "codemirror_mode": {
    "name": "ipython",
    "version": 3
   },
   "file_extension": ".py",
   "mimetype": "text/x-python",
   "name": "python",
   "nbconvert_exporter": "python",
   "pygments_lexer": "ipython3",
   "version": "3.10.12"
  }
 },
 "nbformat": 4,
 "nbformat_minor": 5
}
