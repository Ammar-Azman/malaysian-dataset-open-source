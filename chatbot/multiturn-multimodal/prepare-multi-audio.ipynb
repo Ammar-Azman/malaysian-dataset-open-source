{
 "cells": [
  {
   "cell_type": "code",
   "execution_count": 1,
   "id": "6185b2e8",
   "metadata": {},
   "outputs": [],
   "source": [
    "import json\n",
    "from pprint import pprint\n",
    "from transformers import AutoModelForCausalLM, AutoTokenizer\n",
    "from tqdm import tqdm\n",
    "import torch\n",
    "import random"
   ]
  },
  {
   "cell_type": "code",
   "execution_count": 2,
   "id": "c205f856",
   "metadata": {},
   "outputs": [],
   "source": [
    "tokenizer = AutoTokenizer.from_pretrained('mistralai/Mistral-7B-Instruct-v0.2')\n",
    "# model = AutoModelForCausalLM.from_pretrained(\n",
    "#     'mistralai/Mistral-7B-Instruct-v0.2',\n",
    "#     use_flash_attention_2 = True,\n",
    "#     torch_dtype = torch.float16\n",
    "# )\n",
    "# tokenizer.pad_token = tokenizer.eos_token\n",
    "# model.cuda()"
   ]
  },
  {
   "cell_type": "markdown",
   "id": "48e25827",
   "metadata": {},
   "source": [
    "### Audio"
   ]
  },
  {
   "cell_type": "code",
   "execution_count": 3,
   "id": "708c40d6",
   "metadata": {},
   "outputs": [],
   "source": [
    "data = []\n",
    "\n",
    "with open('mixtral-audio-instruction.jsonl') as fopen:\n",
    "    for x in fopen:\n",
    "        data.append(json.loads(x))"
   ]
  },
  {
   "cell_type": "code",
   "execution_count": 4,
   "id": "8f7a9667",
   "metadata": {},
   "outputs": [
    {
     "data": {
      "text/plain": [
       "59404"
      ]
     },
     "execution_count": 4,
     "metadata": {},
     "output_type": "execute_result"
    }
   ],
   "source": [
    "unique_conversations = []\n",
    "conversation_set = set()\n",
    "\n",
    "for data_ in data:\n",
    "\n",
    "    conversations = data_['context']\n",
    "    if conversations not in conversation_set:\n",
    "        unique_conversations.append(data_)\n",
    "        conversation_set.add(conversations)\n",
    "        \n",
    "len(unique_conversations)"
   ]
  },
  {
   "cell_type": "code",
   "execution_count": 6,
   "id": "a0256c6f",
   "metadata": {},
   "outputs": [
    {
     "data": {
      "text/plain": [
       "'output-audio/1-0-0.mp3'"
      ]
     },
     "execution_count": 6,
     "metadata": {},
     "output_type": "execute_result"
    }
   ],
   "source": [
    "unique_conversations[0]['filename']"
   ]
  },
  {
   "cell_type": "code",
   "execution_count": 10,
   "id": "f6962beb",
   "metadata": {},
   "outputs": [],
   "source": [
    "batch_size = 100\n",
    "prompt_list = []\n",
    "selected_audio = set()\n",
    "\n",
    "with open('multi-audio-chat-template.jsonl', 'w') as fopen:\n",
    "    for x in tqdm(range(0, 100000, batch_size)):\n",
    "        \n",
    "        prompts = []\n",
    "        audio0 = []\n",
    "        audio1 = []\n",
    "        for _ in range(batch_size):\n",
    "            audio_ids = random.sample(list(set(range(len(unique_conversations))) - selected_audio), 2)\n",
    "            selected_audio |= set(audio_ids)\n",
    "            \n",
    "            messages = [{'role': 'user',\n",
    "                              'content': f\"\"\"\n",
    "            Audio 1: {unique_conversations[audio_ids[0]]['context']} \n",
    "            Audio 2: {unique_conversations[audio_ids[1]]['context']}\n",
    "            What is related between audio 1 and audio 2.\"\"\"}]\n",
    "\n",
    "            prompt = tokenizer.apply_chat_template(messages, tokenize = False)\n",
    "            prompts.append(prompt)\n",
    "            audio0.append((unique_conversations[audio_ids[0]]['context'],\n",
    "                          unique_conversations[audio_ids[0]]['filename']))\n",
    "            audio1.append((unique_conversations[audio_ids[1]]['context'], \n",
    "                           unique_conversations[audio_ids[1]]['filename']))\n",
    "            \n",
    "            \n",
    "        d = {\n",
    "            'prompts': prompts,\n",
    "            'audio0': audio0,\n",
    "            'audio1': audio1,\n",
    "        }\n",
    "        fopen.write(f'{json.dumps(d)}\\n')"
   ]
  },
  {
   "cell_type": "code",
   "execution_count": null,
   "id": "37b9d57e",
   "metadata": {},
   "outputs": [],
   "source": []
  }
 ],
 "metadata": {
  "kernelspec": {
   "display_name": "Python 3 (ipykernel)",
   "language": "python",
   "name": "python3"
  },
  "language_info": {
   "codemirror_mode": {
    "name": "ipython",
    "version": 3
   },
   "file_extension": ".py",
   "mimetype": "text/x-python",
   "name": "python",
   "nbconvert_exporter": "python",
   "pygments_lexer": "ipython3",
   "version": "3.10.12"
  }
 },
 "nbformat": 4,
 "nbformat_minor": 5
}
