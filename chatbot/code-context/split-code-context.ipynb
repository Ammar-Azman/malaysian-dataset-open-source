{
 "cells": [
  {
   "cell_type": "code",
   "execution_count": 4,
   "metadata": {},
   "outputs": [],
   "source": [
    "import json"
   ]
  },
  {
   "cell_type": "code",
   "execution_count": 5,
   "metadata": {},
   "outputs": [],
   "source": [
    "with open('code_context.json') as fopen:\n",
    "    data = json.load(fopen)"
   ]
  },
  {
   "cell_type": "code",
   "execution_count": 11,
   "metadata": {},
   "outputs": [
    {
     "data": {
      "text/plain": [
       "{'instruction': '[HM]: Instruction: Set up a TypeScript project for the multilingual dashboard.\\nInput: None.',\n",
       " 'input': '',\n",
       " 'output': 'Solution: To set up a TypeScript project for the multilingual dashboard, I will first create a new directory for the project. Then, I will navigate to the directory in the terminal and run the command \"npm init\" to initialize a new Node.js project. Next, I will install TypeScript and its dependencies by running the command \"npm install typescript ts-loader webpack webpack-cli --save-dev\". After that, I will create a new TypeScript configuration file named \"tsconfig.json\" and configure it to compile the TypeScript code into JavaScript. Finally, I will create an entry point file named \"index.ts\" and write the initial code to bootstrap the dashboard.'}"
      ]
     },
     "execution_count": 11,
     "metadata": {},
     "output_type": "execute_result"
    }
   ],
   "source": [
    "data[0]"
   ]
  },
  {
   "cell_type": "code",
   "execution_count": 6,
   "metadata": {},
   "outputs": [
    {
     "data": {
      "text/plain": [
       "990116"
      ]
     },
     "execution_count": 6,
     "metadata": {},
     "output_type": "execute_result"
    }
   ],
   "source": [
    "texts = []\n",
    "for d in data:\n",
    "    texts.extend(list(d.values())) \n",
    "    \n",
    "texts = [t for t in texts if len(t)]\n",
    "texts = list(set(texts))\n",
    "len(texts)"
   ]
  },
  {
   "cell_type": "code",
   "execution_count": 10,
   "metadata": {},
   "outputs": [
    {
     "data": {
      "text/plain": [
       "['[HM]: Create a table named \"assignments\" with the following columns: \"assignment_id\" (integer), \"assignment_name\" (text), \"difficulty_index\" (float), \"sensitivity_index\" (float). \\nInstruction: Please create a table named \"assignments\" with the following columns: \"assignment_id\" (integer), \"assignment_name\" (text), \"difficulty_index\" (float), \"sensitivity_index\" (float)\".\\nInput: None.\\n',\n",
       " ': Solution: \\n\\nCREATE TABLE assignments (\\n  assignment_id INTEGER,\\n  assignment_name TEXT,\\n  difficulty_index FLOAT,\\n  sensitivity_index FLOAT\\n);\\n\\nThis SQL query creates a table named \"assignments\" with four columns: \"assignment_id\" (integer), \"assignment_name\" (text), \"difficulty_index\" (float), \"sensitivity_index\" (float)\".\\n[HM]: Insert the following data into the \"assignments\" table:\\n- assignment_id: 1, assignment_name: \"Math Homework\", difficulty_index: 0.8, sensitivity_index: 0.6\\n- assignment_id: 2, assignment_name: \"English Essay\", difficulty_index: 0.6, sensitivity_index: 0.8\\n- assignment_id: 3, assignment_name: \"History Quiz\", difficulty_index: 0.7, sensitivity_index: 0.5\\nInstruction: Please insert the given data into the \"assignments\" table.\\nInput: None.\\n',\n",
       " ': Solution:\\n\\nINSERT INTO assignments (assignment_id, assignment_name, difficulty_index, sensitivity_index)\\nVALUES (1, \\'Math Homework\\', 0.8, 0.6),\\n       (2, \\'English Essay\\', 0.6, 0.8),\\n       (3, \\'History Quiz\\', 0.7, 0.5);\\n\\nThis SQL query inserts the given data into the \"assignments\" table.\\n[HM]: Calculate the average difficulty index of all the assignments in the \"assignments\" table.\\nInstruction: Please calculate the average difficulty index of all the assignments in the \"assignments\" table.\\nInput: None.\\n',\n",
       " ': Solution:\\n\\nSELECT AVG(difficulty_index) AS avg_difficulty_index\\nFROM assignments;\\n\\nThis SQL query calculates the average difficulty index of all the assignments in the \"assignments\" table and returns the result as \"avg_difficulty_index\".\\n[HM]: Calculate the average sensitivity index of all the assignments in the \"assignments\" table.\\nInstruction: Please calculate the average sensitivity index of all the assignments in the \"assignments\" table.\\nInput: None.\\n',\n",
       " ': Solution:\\n\\nSELECT AVG(sensitivity_index) AS avg_sensitivity_index\\nFROM assignments;\\n\\nThis SQL query calculates the average sensitivity index of all the assignments in the \"assignments\" table and returns the result as \"avg_sensitivity_index\".\\n[HM]: Find the assignment with the highest difficulty index in the \"assignments\" table.\\nInstruction: Please find the assignment with the highest difficulty index in the \"assignments\" table.\\nInput: None.\\n',\n",
       " ': Solution:\\n\\nSELECT assignment_name\\nFROM assignments\\nWHERE difficulty_index = (SELECT MAX(difficulty_index) FROM assignments);\\n\\nThis SQL query finds the assignment with the highest difficulty index in the \"assignments\" table by selecting the assignment name where the difficulty index is equal to the maximum difficulty index in the table.\\n[HM]: Find the assignment with the lowest sensitivity index in the \"assignments\" table.\\nInstruction: Please find the assignment with the lowest sensitivity index in the \"assignments\" table.\\nInput: None.\\n',\n",
       " ': Solution:\\n\\nSELECT assignment_name\\nFROM assignments\\nWHERE sensitivity_index = (SELECT MIN(sensitivity_index) FROM assignments);\\n\\nThis SQL query finds the assignment with the lowest sensitivity index in the \"assignments\" table by selecting the assignment name where the sensitivity index is equal to the minimum sensitivity index in the table.\\n[HM]: Calculate the difficulty index and sensitivity index averages for each assignment type in the \"assignments\" table.\\nInstruction: Please calculate the difficulty index and sensitivity index averages for each assignment type in the \"assignments\" table.\\nInput: None.\\n',\n",
       " ': Solution:\\n\\nSELECT assignment_name, AVG(difficulty_index) AS avg_difficulty_index, AVG(sensitivity_index) AS avg_sensitivity_index\\nFROM assignments\\nGROUP BY assignment_name;\\n\\nThis SQL query calculates the difficulty index and sensitivity index averages for each assignment type in the \"assignments\" table by grouping the assignments by their names and calculating the average difficulty index and sensitivity index for each group.\\n[HM]: Based on the previous query, add a condition to only include assignments with a difficulty index greater than 0.7.\\nInstruction: Please modify the previous query to only include assignments with a difficulty index greater than 0.7.\\nInput: None.\\n',\n",
       " ': Solution:\\n\\nSELECT assignment_name, AVG(difficulty_index) AS avg_difficulty_index, AVG(sensitivity_index) AS avg_sensitivity_index\\nFROM assignments\\nWHERE difficulty_index > 0.7\\nGROUP BY assignment_name;\\n\\nThis SQL query modifies the previous query to only include assignments with a difficulty index greater than 0.7 by adding a condition to the WHERE clause. The query then groups the assignments by their names and calculates the average difficulty index and sensitivity index for each group.\\n[HM]: Based on the previous query, sort the results in descending order of average sensitivity index.\\nInstruction: Please modify the previous query to sort the results in descending order of average sensitivity index.\\nInput: None.']"
      ]
     },
     "execution_count": 10,
     "metadata": {},
     "output_type": "execute_result"
    }
   ],
   "source": [
    "texts[2].split('[AI]')"
   ]
  },
  {
   "cell_type": "code",
   "execution_count": 3,
   "metadata": {},
   "outputs": [
    {
     "name": "stdout",
     "output_type": "stream",
     "text": [
      "\"[HM]: Instruction: Create a database schema for the road inspection application.\\nInput: None\\n[AI]: Solution: \\n\\nHere's a basic database schema for the road inspection application:\\n\\n```\\nCREATE TABLE users (\\n    id INT PRIMARY KEY,\\n    name VARCHAR(255),\\n    email VARCHAR(255),\\n    password VARCHAR(255),\\n    role VARCHAR(255)\\n);\\n\\nCREATE TABLE inspections (\\n    id INT PRIMARY KEY,\\n    user_id INT,\\n    start_date TIMESTAMP,\\n    end_date TIMESTAMP,\\n    status VARCHAR(255),\\n    FOREIGN KEY (user_id) REFERENCES users(id)\\n);\\n\\nCREATE TABLE deficiencies (\\n    id INT PRIMARY KEY,\\n    inspection_id INT,\\n    description VARCHAR(255),\\n    status VARCHAR(255),\\n    FOREIGN KEY (inspection_id) REFERENCES inspections(id)\\n);\\n\\nCREATE TABLE vehicles (\\n    id INT PRIMARY KEY,\\n    name VARCHAR(255),\\n    make VARCHAR(255),\\n    model VARCHAR(255),\\n    year INT,\\n    inspection_id INT,\\n    FOREIGN KEY (inspection_id) REFERENCES inspections(id)\\n);\\n\\nCREATE TABLE safety_equipment (\\n    id INT PRIMARY KEY,\\n    name VARCHAR(255),\\n    inspection_id INT,\\n    FOREIGN KEY (inspection_id) REFERENCES inspections(id)\\n);\\n\\nCREATE TABLE weather_updates (\\n    id INT PRIMARY KEY,\\n    inspection_id INT,\\n    temperature FLOAT,\\n    humidity FLOAT,\\n    wind_speed FLOAT,\\n    precipitation FLOAT,\\n    FOREIGN KEY (inspection_id) REFERENCES inspections(id)\\n);\\n\\nCREATE TABLE photologs (\\n    id INT PRIMARY KEY,\\n    inspection_id INT,\\n    image_url VARCHAR(255),\\n    FOREIGN KEY (inspection_id) REFERENCES inspections(id)\\n);\\n```\\n\\nThis schema includes tables for users, inspections, deficiencies, vehicles, safety equipment, weather updates, and photologs. The tables are linked together using foreign keys to ensure data integrity.\\n[HM]: Instruction: Implement a user authentication system for the road inspection application.\\nInput: None\\n[AI]: Solution:\\n\\nHere's a basic implementation of a user authentication system for the road inspection application:\\n\\n```kotlin\\nclass User(val id: Int, val name: String, val email: String, val password: String, val role: String) {\\n    fun authenticate(email: String, password: String): Boolean {\\n        return this.email == email && this.password == password\\n    }\\n}\\n\\nclass UserRepository {\\n    private val users = mutableListOf<User>()\\n\\n    fun addUser(user: User) {\\n        users.add(user)\\n    }\\n\\n    fun getUserByEmail(email: String): User? {\\n        return users.find { it.email == email }\\n    }\\n}\\n\\n// Usage example\\nval userRepository = UserRepository()\\nval admin = User(1, \\\"Admin\\\", \\\"admin@example.com\\\", \\\"password\\\", \\\"admin\\\")\\nuserRepository.addUser(admin)\\n\\nval user = userRepository.getUserByEmail(\\\"admin@example.com\\\")\\nif (user != null && user.authenticate(\\\"admin@example.com\\\", \\\"password\\\")) {\\n    // User is authenticated\\n} else {\\n    // Authentication failed\\n}\\n```\\n\\nThis implementation includes a `User` class with an `authenticate` function that checks if the provided email and password match the user's email and password. It also includes a `UserRepository` class that stores the users and provides functions to add and retrieve users by email.\\n\\nIn this example, an admin user is added to the repository and then retrieved by email. The `authenticate` function is called with the admin's email and password to check if the user is authenticated.\\n[HM]: Instruction: Implement a shifting window inspections module that allows engineers to schedule inspections for a specific time period.\\nInput: None\\n[AI]: Solution:\\n\\nHere's a basic implementation of a shifting window inspections module:\\n\\n```kotlin\\ndata class Inspection(val id: Int, val userId: Int, val startDate: LocalDateTime, val endDate: LocalDateTime, val status: String)\\n\\nclass InspectionRepository {\\n    private val inspections = mutableListOf<Inspection>()\\n\\n    fun addInspection(inspection: Inspection) {\\n        inspections.add(inspection)\\n    }\\n\\n    fun getInspectionsByUserId(userId: Int): List<Inspection> {\\n        return inspections.filter { it.userId == userId }\\n    }\\n\\n    fun getInspectionsByDateRange(startDate: LocalDateTime, endDate: LocalDateTime): List<Inspection> {\\n        return inspections.filter { it.startDate >= startDate && it.endDate <= endDate }\\n    }\\n}\\n\\n// Usage example\\nval inspectionRepository = InspectionRepository()\\n\\n// Engineer schedules an inspection for a specific time period\\nval startDate = LocalDateTime.of(2022, 1, 1, 8, 0)\\nval endDate = LocalDateTime.of(2022, 1, 1, 12, 0)\\nval inspection = Inspection(1, 1, startDate, endDate, \\\"scheduled\\\")\\ninspectionRepository.addInspection(inspection)\\n\\n// Admin retrieves inspections for a specific time period\\nval startDateFilter = LocalDateTime.of(2022, 1, 1, 0, 0)\\nval endDateFilter = LocalDateTime.of(2022, 1, 2, 0, 0)\\nval inspections = inspectionRepository.getInspectionsByDateRange(startDateFilter, endDateFilter)\\n```\\n\\nThis implementation includes an `Inspection` data class with properties for the inspection ID, user ID, start date, end date, and status. It also includes an `InspectionRepository` class that stores the inspections and provides functions to add and retrieve inspections by user ID and date range.\\n\\nIn this example, an engineer schedules an inspection for a specific time period, and the inspection is added to the repository. An admin can then retrieve inspections for a specific time period by calling the `getInspectionsByDateRange` function with the desired start and end dates.\\n[HM]: Instruction: Implement a deficiency tracking system that allows engineers to report and track deficiencies found during inspections.\\nInput: None\\n[AI]: Solution:\\n\\nHere's a basic implementation of a deficiency tracking system:\\n\\n```kotlin\\ndata class Deficiency(val id: Int, val inspectionId: Int, val description: String, val status: String)\\n\\nclass DeficiencyRepository {\\n    private val deficiencies = mutableListOf<Deficiency>()\\n\\n    fun addDeficiency(deficiency: Deficiency) {\\n        deficiencies.add(deficiency)\\n    }\\n\\n    fun getDeficienciesByInspectionId(inspectionId: Int): List<Deficiency> {\\n        return deficiencies.filter { it.inspectionId == inspectionId }\\n    }\\n\\n    fun updateDeficiencyStatus(id: Int, status: String) {\\n        deficiencies.find { it.id == id }?.status = status\\n    }\\n}\\n\\n// Usage example\\nval deficiencyRepository = DeficiencyRepository()\\n\\n// Engineer reports a deficiency found during an inspection\\nval deficiency = Deficiency(1, 1, \\\"Crack in pavement\\\", \\\"open\\\")\\ndeficiencyRepository.addDeficiency(deficiency)\\n\\n// Admin retrieves deficiencies for an inspection\\nval deficiencies = deficiencyRepository.getDeficienciesByInspectionId(1)\\n\\n// Admin updates the status of a deficiency\\ndeficiencyRepository.updateDeficiencyStatus(1, \\\"closed\\\")\\n```\\n\\nThis implementation includes a `Deficiency` data class with properties for the deficiency ID, inspection ID, description, and status. It also includes a `DeficiencyRepository` class that stores the deficiencies and provides functions to add and retrieve deficiencies by inspection ID, as well as update the status of a deficiency.\\n\\nIn this example, an engineer reports a deficiency found during an inspection, and the deficiency is added to the repository. An admin can then retrieve deficiencies for an inspection by calling the `getDeficienciesByInspectionId` function with the inspection ID. The admin can also update the status of a deficiency by calling the `updateDeficiencyStatus` function with the deficiency ID and the new status.\\n[HM]: Instruction: Implement a vehicle management system that allows engineers to add and manage vehicles used during inspections.\\nInput: None\\n[AI]: Solution:\\n\\nHere's a basic implementation of a vehicle management system:\\n\\n```kotlin\\ndata class Vehicle(val id: Int, val name: String, val make: String, val model: String, val year: Int, val inspectionId: Int)\\n\\nclass VehicleRepository {\\n    private val vehicles = mutableListOf<Vehicle>()\\n\\n    fun addVehicle(vehicle: Vehicle) {\\n        vehicles.add(vehicle)\\n    }\\n\\n    fun getVehiclesByInspectionId(inspectionId: Int): List<Vehicle> {\\n        return vehicles.filter { it.inspectionId == inspectionId }\\n    }\\n\\n    fun updateVehicle(vehicle: Vehicle) {\\n        val index = vehicles.indexOfFirst { it.id == vehicle.id }\\n        if (index != -1) {\\n            vehicles[index] = vehicle\\n        }\\n    }\\n\\n    fun deleteVehicle(id: Int) {\\n        vehicles.removeIf { it.id == id }\\n    }\\n}\\n\\n// Usage example\\nval vehicleRepository = VehicleRepository()\\n\\n// Engineer adds a vehicle used during an inspection\\nval vehicle = Vehicle(1, \\\"Truck\\\", \\\"Ford\\\", \\\"F-150\\\", 2022, 1)\\nvehicleRepository.addVehicle(vehicle)\\n\\n// Admin retrieves vehicles used during an inspection\\nval vehicles = vehicleRepository.getVehiclesByInspectionId(1)\\n\\n// Engineer updates a vehicle\\nval updatedVehicle = Vehicle(1, \\\"Truck\\\", \\\"Ford\\\", \\\"F-250\\\", 2022, 1)\\nvehicleRepository.updateVehicle(updatedVehicle)\\n\\n// Engineer deletes a vehicle\\nvehicleRepository.deleteVehicle(1)\\n```\\n\\nThis implementation includes a `Vehicle` data class with properties for the vehicle ID, name, make, model, year, and inspection ID. It also includes a `VehicleRepository` class that stores the vehicles and provides functions to add, retrieve, update, and delete vehicles by inspection ID.\\n\\nIn this example, an engineer adds a vehicle used during an inspection, and the vehicle is added to the repository. An admin can then retrieve vehicles used during an inspection by calling the `getVehiclesByInspectionId` function with the inspection ID. The engineer can also update a vehicle by calling the `updateVehicle` function with the updated vehicle, and delete a vehicle by calling the `deleteVehicle` function with the vehicle ID.\\n[HM]: Instruction: Implement a safety equipment management system that allows engineers to add and manage safety equipment used during inspections.\\nInput: None\\n[AI]: Solution:\\n\\nHere's a basic implementation of a safety equipment management system:\\n\\n```kotlin\\ndata class SafetyEquipment(val id: Int, val name: String, val inspectionId: Int)\\n\\nclass SafetyEquipmentRepository {\\n    private val safetyEquipments = mutableListOf<SafetyEquipment>()\\n\\n    fun addSafetyEquipment(safetyEquipment: SafetyEquipment) {\\n        safetyEquipments.add(safetyEquipment)\\n    }\\n\\n    fun getSafetyEquipmentsByInspectionId(inspectionId: Int): List<SafetyEquipment> {\\n        return safetyEquipments.filter { it.inspectionId == inspectionId }\\n    }\\n\\n    fun updateSafetyEquipment(safetyEquipment: SafetyEquipment) {\\n        val index = safetyEquipments.indexOfFirst { it.id == safetyEquipment.id }\\n        if (index != -1) {\\n            safetyEquipments[index] = safetyEquipment\\n        }\\n    }\\n\\n    fun deleteSafetyEquipment(id: Int) {\\n        safetyEquipments.removeIf { it.id == id }\\n    }\\n}\\n\\n// Usage example\\nval safetyEquipmentRepository = SafetyEquipmentRepository()\\n\\n// Engineer adds a safety equipment used during an inspection\\nval safetyEquipment = SafetyEquipment(1, \\\"Hard hat\\\", 1)\\nsafetyEquipmentRepository.addSafetyEquipment(safetyEquipment)\\n\\n// Admin retrieves safety equipment used during an inspection\\nval safetyEquipments = safetyEquipmentRepository.getSafetyEquipmentsByInspectionId(1)\\n\\n// Engineer updates a safety equipment\\nval updatedSafetyEquipment = SafetyEquipment(1, \\\"Safety glasses\\\", 1)\\nsafetyEquipmentRepository.updateSafetyEquipment(updatedSafetyEquipment)\\n\\n// Engineer deletes a safety equipment\\nsafetyEquipmentRepository.deleteSafetyEquipment(1)\\n```\\n\\nThis implementation includes a `SafetyEquipment` data class with properties for the safety equipment ID, name, and inspection ID. It also includes a `SafetyEquipmentRepository` class that stores the safety equipment and provides functions to add, retrieve, update, and delete safety equipment by inspection ID.\\n\\nIn this example, an engineer adds a safety equipment used during an inspection, and the safety equipment is added to the repository. An admin can then retrieve safety equipment used during an inspection by calling the `getSafetyEquipmentsByInspectionId` function with the inspection ID. The engineer can also update a safety equipment by calling the `updateSafetyEquipment` function with the updated safety equipment, and delete a safety equipment by calling the `deleteSafetyEquipment` function with the safety equipment ID.\\n[HM]: Instruction: Implement a real-time weather updates system that allows engineers to view weather updates during inspections.\\nInput: None\"\r\n",
      "\"[HM]: Instruction: Create a Java class for the user account with the following attributes: username, password, email, membership status, backstage-tour permission, merchandise discount, and newsletter subscription.\\nInput: None\\n[AI]: Solution: \\n\\n```\\npublic class UserAccount {\\n    private String username;\\n    private String password;\\n    private String email;\\n    private boolean membershipStatus;\\n    private boolean backstageTourPermission;\\n    private double merchandiseDiscount;\\n    private boolean newsletterSubscription;\\n\\n    // Constructor\\n    public UserAccount(String username, String password, String email, boolean membershipStatus, boolean backstageTourPermission, double merchandiseDiscount, boolean newsletterSubscription) {\\n        this.username = username;\\n        this.password = password;\\n        this.email = email;\\n        this.membershipStatus = membershipStatus;\\n        this.backstageTourPermission = backstageTourPermission;\\n        this.merchandiseDiscount = merchandiseDiscount;\\n        this.newsletterSubscription = newsletterSubscription;\\n    }\\n\\n    // Getters and Setters\\n    public String getUsername() {\\n        return username;\\n    }\\n\\n    public void setUsername(String username) {\\n        this.username = username;\\n    }\\n\\n    public String getPassword() {\\n        return password;\\n    }\\n\\n    public void setPassword(String password) {\\n        this.password = password;\\n    }\\n\\n    public String getEmail() {\\n        return email;\\n    }\\n\\n    public void setEmail(String email) {\\n        this.email = email;\\n    }\\n\\n    public boolean isMembershipStatus() {\\n        return membershipStatus;\\n    }\\n\\n    public void setMembershipStatus(boolean membershipStatus) {\\n        this.membershipStatus = membershipStatus;\\n    }\\n\\n    public boolean isBackstageTourPermission() {\\n        return backstageTourPermission;\\n    }\\n\\n    public void setBackstageTourPermission(boolean backstageTourPermission) {\\n        this.backstageTourPermission = backstageTourPermission;\\n    }\\n\\n    public double getMerchandiseDiscount() {\\n        return merchandiseDiscount;\\n    }\\n\\n    public void setMerchandiseDiscount(double merchandiseDiscount) {\\n        this.merchandiseDiscount = merchandiseDiscount;\\n    }\\n\\n    public boolean isNewsletterSubscription() {\\n        return newsletterSubscription;\\n    }\\n\\n    public void setNewsletterSubscription(boolean newsletterSubscription) {\\n        this.newsletterSubscription = newsletterSubscription;\\n    }\\n}\\n```\\n[HM]: Instruction: Create a Java class for the artist with the following attributes: name, genre, description, tour dates, and show timings.\\nInput: None\\n[AI]: Solution:\\n\\n```\\nimport java.util.ArrayList;\\nimport java.util.Date;\\n\\npublic class Artist {\\n    private String name;\\n    private String genre;\\n    private String description;\\n    private ArrayList<Date> tourDates;\\n    private ArrayList<String> showTimings;\\n\\n    // Constructor\\n    public Artist(String name, String genre, String description, ArrayList<Date> tourDates, ArrayList<String> showTimings) {\\n        this.name = name;\\n        this.genre = genre;\\n        this.description = description;\\n        this.tourDates = tourDates;\\n        this.showTimings = showTimings;\\n    }\\n\\n    // Getters and Setters\\n    public String getName() {\\n        return name;\\n    }\\n\\n    public void setName(String name) {\\n        this.name = name;\\n    }\\n\\n    public String getGenre() {\\n        return genre;\\n    }\\n\\n    public void setGenre(String genre) {\\n        this.genre = genre;\\n    }\\n\\n    public String getDescription() {\\n        return description;\\n    }\\n\\n    public void setDescription(String description) {\\n        this.description = description;\\n    }\\n\\n    public ArrayList<Date> getTourDates() {\\n        return tourDates;\\n    }\\n\\n    public void setTourDates(ArrayList<Date> tourDates) {\\n        this.tourDates = tourDates;\\n    }\\n\\n    public ArrayList<String> getShowTimings() {\\n        return showTimings;\\n    }\\n\\n    public void setShowTimings(ArrayList<String> showTimings) {\\n        this.showTimings = showTimings;\\n    }\\n}\\n```\\n[HM]: Instruction: Create a Java class for the merchandise with the following attributes: name, description, price, and availability.\\nInput: None\\n[AI]: Solution:\\n\\n```\\npublic class Merchandise {\\n    private String name;\\n    private String description;\\n    private double price;\\n    private boolean availability;\\n\\n    // Constructor\\n    public Merchandise(String name, String description, double price, boolean availability) {\\n        this.name = name;\\n        this.description = description;\\n        this.price = price;\\n        this.availability = availability;\\n    }\\n\\n    // Getters and Setters\\n    public String getName() {\\n        return name;\\n    }\\n\\n    public void setName(String name) {\\n        this.name = name;\\n    }\\n\\n    public String getDescription() {\\n        return description;\\n    }\\n\\n    public void setDescription(String description) {\\n        this.description = description;\\n    }\\n\\n    public double getPrice() {\\n        return price;\\n    }\\n\\n    public void setPrice(double price) {\\n        this.price = price;\\n    }\\n\\n    public boolean isAvailability() {\\n        return availability;\\n    }\\n\\n    public void setAvailability(boolean availability) {\\n        this.availability = availability;\\n    }\\n}\\n```\\n[HM]: Instruction: Create a Java class for the theater show with the following attributes: name, description, artist, show timings, and ticket price.\\nInput: None\\n[AI]: Solution:\\n\\n```\\nimport java.util.ArrayList;\\n\\npublic class TheaterShow {\\n    private String name;\\n    private String description;\\n    private Artist artist;\\n    private ArrayList<String> showTimings;\\n    private double ticketPrice;\\n\\n    // Constructor\\n    public TheaterShow(String name, String description, Artist artist, ArrayList<String> showTimings, double ticketPrice) {\\n        this.name = name;\\n        this.description = description;\\n        this.artist = artist;\\n        this.showTimings = showTimings;\\n        this.ticketPrice = ticketPrice;\\n    }\\n\\n    // Getters and Setters\\n    public String getName() {\\n        return name;\\n    }\\n\\n    public void setName(String name) {\\n        this.name = name;\\n    }\\n\\n    public String getDescription() {\\n        return description;\\n    }\\n\\n    public void setDescription(String description) {\\n        this.description = description;\\n    }\\n\\n    public Artist getArtist() {\\n        return artist;\\n    }\\n\\n    public void setArtist(Artist artist) {\\n        this.artist = artist;\\n    }\\n\\n    public ArrayList<String> getShowTimings() {\\n        return showTimings;\\n    }\\n\\n    public void setShowTimings(ArrayList<String> showTimings) {\\n        this.showTimings = showTimings;\\n    }\\n\\n    public double getTicketPrice() {\\n        return ticketPrice;\\n    }\\n\\n    public void setTicketPrice(double ticketPrice) {\\n        this.ticketPrice = ticketPrice;\\n    }\\n}\\n```\\n[HM]: Instruction: Create a Java class for the theater with the following attributes: name, address, phone number, and list of theater shows.\\nInput: None\\n[AI]: Solution:\\n\\n```\\nimport java.util.ArrayList;\\n\\npublic class Theater {\\n    private String name;\\n    private String address;\\n    private String phoneNumber;\\n    private ArrayList<TheaterShow> theaterShows;\\n\\n    // Constructor\\n    public Theater(String name, String address, String phoneNumber, ArrayList<TheaterShow> theaterShows) {\\n        this.name = name;\\n        this.address = address;\\n        this.phoneNumber = phoneNumber;\\n        this.theaterShows = theaterShows;\\n    }\\n\\n    // Getters and Setters\\n    public String getName() {\\n        return name;\\n    }\\n\\n    public void setName(String name) {\\n        this.name = name;\\n    }\\n\\n    public String getAddress() {\\n        return address;\\n    }\\n\\n    public void setAddress(String address) {\\n        this.address = address;\\n    }\\n\\n    public String getPhoneNumber() {\\n        return phoneNumber;\\n    }\\n\\n    public void setPhoneNumber(String phoneNumber) {\\n        this.phoneNumber = phoneNumber;\\n    }\\n\\n    public ArrayList<TheaterShow> getTheaterShows() {\\n        return theaterShows;\\n    }\\n\\n    public void setTheaterShows(ArrayList<TheaterShow> theaterShows) {\\n        this.theaterShows = theaterShows;\\n    }\\n}\\n```\\n[HM]: Instruction: Create a Java interface for the user account management system with the following methods: createAccount, login, logout, renewMembership, getBackstageTourPermission, getMerchandiseDiscount, and getNewsletterSubscription.\\nInput: None\\n[AI]: Solution:\\n\\n```\\npublic interface UserAccountManagementSystem {\\n    public void createAccount(UserAccount userAccount);\\n    public boolean login(String username, String password);\\n    public void logout();\\n    public void renewMembership(UserAccount userAccount);\\n    public boolean getBackstageTourPermission(UserAccount userAccount);\\n    public double getMerchandiseDiscount(UserAccount userAccount);\\n    public boolean getNewsletterSubscription(UserAccount userAccount);\\n}\\n```\\n[HM]: Instruction: Create a Java interface for the theater show management system with the following methods: addTheaterShow, removeTheaterShow, getTheaterShow, and getTheaterShows.\\nInput: None\"\r\n",
      "\"[HM]: Instruction: Install the Ruby programming language on your computer.\\nInput: None\\n[AI]: I'm sorry, but I cannot perform that instruction as I am an AI language model and I do not have a physical computer to install Ruby on. However, you can easily install Ruby on your computer by following the instructions on the official Ruby website: https://www.ruby-lang.org/en/documentation/installation/.\\n[HM]: Instruction: Install the Ruby gem 'gruff' which is a graphing library for Ruby.\\nInput: None\\n[AI]: Solution: To install the 'gruff' gem, run the following command in the terminal:\\n\\ngem install gruff\\n[HM]: Instruction: Import financial data from a CSV file into your Ruby program.\\nInput: The file path of the CSV file containing the financial data.\\n[AI]: Solution: We can use the built-in CSV library in Ruby to import financial data from a CSV file. Here's an example code snippet that reads a CSV file and stores the data in an array of hashes:\\n\\n```ruby\\nrequire 'csv'\\n\\ndata = []\\n\\nCSV.foreach(file_path, headers: true) do |row|\\n  data << row.to_h\\nend\\n```\\n\\nIn this code, `file_path` is the input file path provided by the user. The `foreach` method reads each row of the CSV file and converts it into a hash using the `to_h` method. The resulting hash is then added to the `data` array.\\n[HM]: Instruction: Parse the financial data to extract the necessary information for the graphs.\\nInput: None.\\n[AI]: Solution: We can parse the financial data to extract the necessary information for the graphs. Here's an example code snippet that extracts the necessary information from the financial data:\\n\\n```ruby\\nrevenue_data = data.map { |row| [row['year'], row['revenue']] }\\nexpenses_data = data.map { |row| [row['year'], row['expenses']] }\\n```\\n\\nIn this code, `data` is the array of hashes containing the financial data. The `map` method is used to extract the year and revenue/expense data from each row of the CSV file. The resulting arrays, `revenue_data` and `expenses_data`, contain arrays of year and revenue/expense data that can be used to generate the graphs.\\n[HM]: Instruction: Use the 'gruff' gem to generate a line graph of the revenue data.\\nInput: The revenue data in the format of an array of arrays, where each sub-array contains the year and revenue data.\\n[AI]: Solution: We can use the 'gruff' gem to generate a line graph of the revenue data. Here's an example code snippet that generates a line graph of the revenue data:\\n\\n```ruby\\nrequire 'gruff'\\n\\ng = Gruff::Line.new\\ng.title = 'Revenue'\\ng.labels = revenue_data.to_h.keys\\ng.data('Revenue', revenue_data.to_h.values)\\ng.write('revenue_graph.png')\\n```\\n\\nIn this code, `revenue_data` is the input revenue data provided by the user in the format of an array of arrays. The `Gruff::Line.new` method creates a new line graph object. The `title` method sets the title of the graph. The `labels` method sets the x-axis labels of the graph to the years in the revenue data. The `data` method adds the revenue data to the graph. Finally, the `write` method saves the graph as a PNG file named 'revenue_graph.png'.\\n[HM]: Instruction: Use the 'gruff' gem to generate a bar graph of the expenses data.\\nInput: The expenses data in the format of an array of arrays, where each sub-array contains the year and expenses data.\\n[AI]: Solution: We can use the 'gruff' gem to generate a bar graph of the expenses data. Here's an example code snippet that generates a bar graph of the expenses data:\\n\\n```ruby\\nrequire 'gruff'\\n\\ng = Gruff::Bar.new\\ng.title = 'Expenses'\\ng.labels = expenses_data.to_h.keys\\ng.data('Expenses', expenses_data.to_h.values)\\ng.write('expenses_graph.png')\\n```\\n\\nIn this code, `expenses_data` is the input expenses data provided by the user in the format of an array of arrays. The `Gruff::Bar.new` method creates a new bar graph object. The `title` method sets the title of the graph. The `labels` method sets the x-axis labels of the graph to the years in the expenses data. The `data` method adds the expenses data to the graph. Finally, the `write` method saves the graph as a PNG file named 'expenses_graph.png'.\\n[HM]: Instruction: Combine the revenue and expenses graphs into a single graph.\\nInput: The revenue and expenses data in the format of arrays of arrays, where each sub-array contains the year and revenue/expense data.\"\r\n"
     ]
    }
   ],
   "source": [
    "!head -n 3 ../ctranslate2/code_context-text.jsonl"
   ]
  },
  {
   "cell_type": "code",
   "execution_count": 4,
   "metadata": {},
   "outputs": [],
   "source": [
    "with open('code_context-text.jsonl', 'w') as fopen:\n",
    "    for t in texts:\n",
    "        fopen.write(f'{json.dumps(t)}\\n')"
   ]
  },
  {
   "cell_type": "code",
   "execution_count": 5,
   "metadata": {},
   "outputs": [
    {
     "name": "stdout",
     "output_type": "stream",
     "text": [
      "-rw-r--r-- 1 husein husein 2.7G Sep  26 21:57 code_context-text.jsonl\r\n"
     ]
    }
   ],
   "source": [
    "!ls -lh code_context-text.jsonl"
   ]
  },
  {
   "cell_type": "code",
   "execution_count": 6,
   "metadata": {},
   "outputs": [],
   "source": [
    "!split -l 500000 -d --additional-suffix=.splitted code_context-text.jsonl code_context-text.jsonl"
   ]
  },
  {
   "cell_type": "code",
   "execution_count": 7,
   "metadata": {},
   "outputs": [],
   "source": [
    "!mv code_context-text.jsonl* ../ctranslate2"
   ]
  }
 ],
 "metadata": {
  "kernelspec": {
   "display_name": "Python 3 (ipykernel)",
   "language": "python",
   "name": "python3"
  },
  "language_info": {
   "codemirror_mode": {
    "name": "ipython",
    "version": 3
   },
   "file_extension": ".py",
   "mimetype": "text/x-python",
   "name": "python",
   "nbconvert_exporter": "python",
   "pygments_lexer": "ipython3",
   "version": "3.8.10"
  }
 },
 "nbformat": 4,
 "nbformat_minor": 4
}
