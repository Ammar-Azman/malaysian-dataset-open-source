{
 "cells": [
  {
   "cell_type": "code",
   "execution_count": 15,
   "metadata": {},
   "outputs": [
    {
     "data": {
      "text/plain": [
       "['/home/husein/ssd3/ctranslate2/code_context-text.jsonl00.splitted.requested',\n",
       " '/home/husein/ssd3/ctranslate2/code_context-text.jsonl01.splitted.requested']"
      ]
     },
     "execution_count": 15,
     "metadata": {},
     "output_type": "execute_result"
    }
   ],
   "source": [
    "import json\n",
    "from tqdm import tqdm\n",
    "from glob import glob\n",
    "\n",
    "files = glob('/home/husein/ssd3/ctranslate2/*.requested')\n",
    "files"
   ]
  },
  {
   "cell_type": "code",
   "execution_count": 13,
   "metadata": {},
   "outputs": [
    {
     "data": {
      "text/plain": [
       "897221"
      ]
     },
     "execution_count": 13,
     "metadata": {},
     "output_type": "execute_result"
    }
   ],
   "source": [
    "mapping = {}\n",
    "for f in files:\n",
    "    with open(f) as fopen:\n",
    "        for l in fopen:\n",
    "            l = json.loads(l)\n",
    "            mapping[l['src']] = l['r']\n",
    "            \n",
    "len(mapping)"
   ]
  },
  {
   "cell_type": "code",
   "execution_count": 2,
   "metadata": {},
   "outputs": [],
   "source": [
    "with open('code_context.json') as fopen:\n",
    "    data = json.load(fopen)"
   ]
  },
  {
   "cell_type": "code",
   "execution_count": 18,
   "metadata": {},
   "outputs": [
    {
     "name": "stderr",
     "output_type": "stream",
     "text": [
      "100%|████████████████████████████████| 507803/507803 [00:12<00:00, 40512.47it/s]\n"
     ]
    }
   ],
   "source": [
    "with open('code_context.jsonl.t5.translated', 'w') as fopen:\n",
    "    for d in tqdm(data):\n",
    "        keys = list(d.keys())\n",
    "        for k in keys:\n",
    "            d[k + '_ms'] = mapping.get(d[k])\n",
    "        fopen.write(f'{json.dumps(d)}\\n')"
   ]
  },
  {
   "cell_type": "code",
   "execution_count": 19,
   "metadata": {},
   "outputs": [
    {
     "name": "stdout",
     "output_type": "stream",
     "text": [
      "{\"instruction\": \"[HM]: Instruction: Set up a TypeScript project for the multilingual dashboard.\\nInput: None.\", \"input\": \"\", \"output\": \"Solution: To set up a TypeScript project for the multilingual dashboard, I will first create a new directory for the project. Then, I will navigate to the directory in the terminal and run the command \\\"npm init\\\" to initialize a new Node.js project. Next, I will install TypeScript and its dependencies by running the command \\\"npm install typescript ts-loader webpack webpack-cli --save-dev\\\". After that, I will create a new TypeScript configuration file named \\\"tsconfig.json\\\" and configure it to compile the TypeScript code into JavaScript. Finally, I will create an entry point file named \\\"index.ts\\\" and write the initial code to bootstrap the dashboard.\", \"instruction_ms\": \"[HM]: Arahan: Sediakan projek TypeScript untuk papan pemuka berbilang bahasa.\\nInput: Tiada.\", \"input_ms\": null, \"output_ms\": \"Penyelesaian: Untuk menyediakan projek TypeScript untuk papan pemuka pelbagai bahasa, saya akan membuat direktori baru untuk projek terlebih dahulu. Kemudian, saya akan menavigasi ke direktori di terminal dan menjalankan arahan \\\"npm init\\\" untuk menginisialisasi projek Node.js baru. Seterusnya, saya akan memasang TypeScript dan kebergantungannya dengan menjalankan arahan \\\"npm install typescript ts-loader webpack webpack-cli --save-dev\\\". Selepas itu, saya akan membuat fail konfigurasi TypeScript baru bernama \\\"tsconfig.json\\\" dan mengkonfigurkannya untuk mengkompilasi kod TypeScript ke dalam JavaScript. Akhirnya, saya akan membuat fail titik masuk bernama \\\"index.ts\\\" dan menulis kod awal untuk bootstrap papan pemuka.\", \"instruction_ms_ms\": null}\r\n",
      "{\"instruction\": \"[HM]: Instruction: Set up a TypeScript project for the multilingual dashboard.\\nInput: None.\\n[AI]: Solution: To set up a TypeScript project for the multilingual dashboard, I will first create a new directory for the project. Then, I will navigate to the directory in the terminal and run the command \\\"npm init\\\" to initialize a new Node.js project. Next, I will install TypeScript and its dependencies by running the command \\\"npm install typescript ts-loader webpack webpack-cli --save-dev\\\". After that, I will create a new TypeScript configuration file named \\\"tsconfig.json\\\" and configure it to compile the TypeScript code into JavaScript. Finally, I will create an entry point file named \\\"index.ts\\\" and write the initial code to bootstrap the dashboard.\\n[HM]: Instruction: Install and configure a web framework for the TypeScript project.\\nInput: None.\", \"input\": \"\", \"output\": \"Solution: To install and configure a web framework for the TypeScript project, I will use Express.js which is a popular web framework for Node.js. I will install it using npm by running the command \\\"npm install express @types/express\\\". Next, I will create a new file named \\\"server.ts\\\" and write the code to configure and start the Express.js server. This includes setting up middleware, defining routes, and starting the server on a specified port. Finally, I will update the \\\"webpack.config.js\\\" file to bundle the server code into a single JavaScript file.\", \"instruction_ms\": \"[HM]: Arahan: Sediakan projek TypeScript untuk papan pemuka berbilang bahasa.\\nInput: Tiada.\\n[AI]: Penyelesaian: Untuk menyediakan projek TypeScript untuk papan pemuka berbilang bahasa, saya akan mencipta direktori baharu untuk projek terlebih dahulu. Kemudian, saya akan menavigasi ke direktori di terminal dan menjalankan arahan \\\"npm init\\\" untuk menginisialisasi projek Node.js baharu. Seterusnya, saya akan memasang TypeScript dan kebergantungannya dengan menjalankan arahan \\\"npm install typescript ts-loader webpack webpack-cli --save-dev\\\". Selepas itu, saya akan membuat fail konfigurasi TypeScript baharu bernama \\\"tsconfig.json\\\" dan mengkonfigurkannya untuk mengkompilkan kod TypeScript ke dalam JavaScript. Akhir sekali, saya akan membuat fail titik masuk bernama \\\"index.ts\\\" dan menulis kod awal untuk memerangkap papan pemuka.\\n[HM]: Arahan: Pasang dan konfigurasikan rangka kerja web untuk projek TypeScript.\\nInput: Tiada.\", \"input_ms\": null, \"output_ms\": \"Penyelesaian: Untuk memasang dan mengkonfigurasi kerangka web untuk projek TypeScript, saya akan menggunakan Express.js yang merupakan kerangka web yang popular untuk Node.js. Saya akan memasangnya menggunakan npm dengan menjalankan arahan \\\"npm install express @types/express\\\". Seterusnya, saya akan membuat fail baru bernama \\\"server.ts\\\" dan menulis kod untuk mengkonfigurasi dan memulakan pelayan Express.js. Ini termasuk menetapkan middleware, menentukan laluan, dan memulakan pelayan pada port yang ditentukan. Akhirnya, saya akan mengemas kini fail \\\"webpack.config.js\\\" untuk menggabungkan kod pelayan ke dalam satu fail JavaScript.\"}\r\n"
     ]
    }
   ],
   "source": [
    "!head -n 2 code_context.jsonl.t5.translated"
   ]
  },
  {
   "cell_type": "code",
   "execution_count": null,
   "metadata": {},
   "outputs": [],
   "source": []
  }
 ],
 "metadata": {
  "kernelspec": {
   "display_name": "Python 3 (ipykernel)",
   "language": "python",
   "name": "python3"
  },
  "language_info": {
   "codemirror_mode": {
    "name": "ipython",
    "version": 3
   },
   "file_extension": ".py",
   "mimetype": "text/x-python",
   "name": "python",
   "nbconvert_exporter": "python",
   "pygments_lexer": "ipython3",
   "version": "3.8.10"
  }
 },
 "nbformat": 4,
 "nbformat_minor": 4
}
