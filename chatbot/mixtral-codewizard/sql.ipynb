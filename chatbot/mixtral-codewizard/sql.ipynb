{
 "cells": [
  {
   "cell_type": "code",
   "execution_count": 1,
   "id": "1b5925f1",
   "metadata": {},
   "outputs": [],
   "source": [
    "# !wget https://huggingface.co/datasets/malaysia-ai/starcoderdata-sample/resolve/main/sql.jsonl"
   ]
  },
  {
   "cell_type": "code",
   "execution_count": 2,
   "id": "8dbdc708",
   "metadata": {},
   "outputs": [
    {
     "name": "stderr",
     "output_type": "stream",
     "text": [
      "/home/husein/.local/lib/python3.8/site-packages/requests/__init__.py:102: RequestsDependencyWarning: urllib3 (1.26.15) or chardet (5.2.0)/charset_normalizer (2.0.7) doesn't match a supported version!\n",
      "  warnings.warn(\"urllib3 ({}) or chardet ({})/charset_normalizer ({}) doesn't match a supported \"\n"
     ]
    }
   ],
   "source": [
    "from huggingface_hub import InferenceClient\n",
    "from tqdm import tqdm\n",
    "import os\n",
    "import json\n",
    "from glob import glob"
   ]
  },
  {
   "cell_type": "code",
   "execution_count": 3,
   "id": "dffb61fb",
   "metadata": {},
   "outputs": [
    {
     "name": "stderr",
     "output_type": "stream",
     "text": [
      "220628it [00:59, 3682.70it/s]\n"
     ]
    },
    {
     "data": {
      "text/plain": [
       "200001"
      ]
     },
     "execution_count": 3,
     "metadata": {},
     "output_type": "execute_result"
    }
   ],
   "source": [
    "ls = []\n",
    "\n",
    "with open('sql.jsonl') as fopen:\n",
    "    for l in tqdm(fopen):\n",
    "        try:\n",
    "            l = json.loads(l)\n",
    "            if len(l['content'].split()) > 5e3:\n",
    "                continue\n",
    "            ls.append(l['content'])\n",
    "            if len(ls) > 200000:\n",
    "                break\n",
    "        except:\n",
    "            pass\n",
    "len(ls)"
   ]
  },
  {
   "cell_type": "code",
   "execution_count": 4,
   "id": "b256678d",
   "metadata": {},
   "outputs": [],
   "source": [
    "client = InferenceClient(\n",
    "    \"\", timeout = 120\n",
    ")\n",
    "\n",
    "\n",
    "def format_prompt(message, history):\n",
    "  prompt = \"<s>\"\n",
    "  for user_prompt, bot_response in history:\n",
    "    prompt += f\"[INST] {user_prompt} [/INST]\"\n",
    "    prompt += f\" {bot_response}</s> \"\n",
    "  prompt += f\"[INST] {message} [/INST]\"\n",
    "  return prompt\n",
    "\n",
    "def format_user(history):\n",
    "    prompt = \"<s>\"\n",
    "    for user_prompt, bot_response in history:\n",
    "        prompt += f\"[INST] {user_prompt} [/INST]\"\n",
    "        prompt += f\" {bot_response}</s> \"\n",
    "    prompt += f\"[INST]\"\n",
    "    return prompt"
   ]
  },
  {
   "cell_type": "code",
   "execution_count": 5,
   "id": "a041c62a",
   "metadata": {},
   "outputs": [],
   "source": [
    "generate_kwargs = dict(\n",
    "    temperature=1.0,\n",
    "    max_new_tokens=5120,\n",
    "    top_p=0.95,\n",
    "    repetition_penalty=1.0,\n",
    "    do_sample=True,\n",
    ")"
   ]
  },
  {
   "cell_type": "code",
   "execution_count": 6,
   "id": "bf50ad32",
   "metadata": {},
   "outputs": [
    {
     "name": "stdout",
     "output_type": "stream",
     "text": [
      "mkdir: cannot create directory ‘mixtral-sql’: File exists\r\n"
     ]
    }
   ],
   "source": [
    "!mkdir mixtral-sql\n",
    "# !rm -rf mixtral-sql/*.json"
   ]
  },
  {
   "cell_type": "code",
   "execution_count": 7,
   "id": "9225ba6b",
   "metadata": {},
   "outputs": [],
   "source": [
    "def answer(q, i):\n",
    "    filename = f'mixtral-sql/{i}.json'\n",
    "    if os.path.exists(filename):\n",
    "        return\n",
    "    \n",
    "    while True:\n",
    "    # for _ in range(5):\n",
    "        try:\n",
    "            \n",
    "            prompt = f\"\"\"\n",
    "Please gain inspiration from the following random code snippet to create a high-quality SQL problem. Present your output in two distinct sections: [Problem Description] and [Solution].\n",
    "\n",
    "SQL snippet for inspiration:\n",
    "```\n",
    "{q}\n",
    "```\n",
    "\n",
    "Guidelines for each section:\n",
    "\n",
    "1. [Problem Description]: This should be **completely self-contained**, providing all the contextual information one needs to understand and solve the problem. Assume common programming knowledge, but ensure that any specific context, variables, or code snippets pertinent to this problem are explicitly included.\n",
    "\n",
    "2. [Solution]: Offer a comprehensive, **correct** solution that accurately addresses the [Problem Description] you provided.\n",
    "\"\"\".strip()\n",
    "            formatted_prompt = format_prompt(prompt, [])\n",
    "            stream = client.text_generation(formatted_prompt, **generate_kwargs, stream=False, details=True, return_full_text=False)\n",
    "            output = stream.generated_text\n",
    "            with open(filename, 'w') as fopen:\n",
    "                json.dump(output, fopen)\n",
    "            break\n",
    "        except Exception as e:\n",
    "            if 'tokens + `max_new_tokens`' in str(e):\n",
    "                with open(filename, 'w') as fopen:\n",
    "                    json.dump(False, fopen)\n",
    "                break\n",
    "            pass"
   ]
  },
  {
   "cell_type": "code",
   "execution_count": 8,
   "id": "b6c282de",
   "metadata": {},
   "outputs": [],
   "source": [
    "def consumer(queue, name):\n",
    "    while True:\n",
    "        if queue.qsize() == 0:\n",
    "            break\n",
    "        item = queue.get()\n",
    "        answer(*item)\n",
    "    print(f'consumer {name} done')"
   ]
  },
  {
   "cell_type": "code",
   "execution_count": 9,
   "id": "9b5eba3e",
   "metadata": {},
   "outputs": [],
   "source": [
    "from threading import Thread\n",
    "from queue import Queue\n",
    "\n",
    "queue = Queue()\n",
    "questions = ls\n",
    "urls = [(q, no) for no, q in enumerate(questions)]\n",
    "for u in urls:\n",
    "    queue.put(u)\n",
    "    \n",
    "ori_size = queue.qsize()"
   ]
  },
  {
   "cell_type": "code",
   "execution_count": 10,
   "id": "0cbef3fd",
   "metadata": {},
   "outputs": [],
   "source": [
    "answer(*urls[1])"
   ]
  },
  {
   "cell_type": "code",
   "execution_count": 11,
   "id": "37d73de3",
   "metadata": {},
   "outputs": [
    {
     "name": "stdout",
     "output_type": "stream",
     "text": [
      " **[Problem Description]**\n",
      "\n",
      "A financial company has been storing financial data in a SQL database using the stored procedure `[EST].[Proc_yjbb_Ins]`. This procedure has been used to insert records for the stock with the code '603566' at various cutoff dates. The relevant columns for each record include:\n",
      "\n",
      "- `Code` (varchar): The stock code.\n",
      "- `CutoffDate` (datetime): The cutoff date for the financial data.\n",
      "- `EPS` (decimal): Earnings per share.\n",
      "- `EPSDeduct` (decimal): EPS deduct.\n",
      "- `Revenue` (decimal): Revenue.\n",
      "- `RevenueYoy` (decimal): Revenue year-over-year change.\n",
      "- `RevenueQoq` (decimal): Revenue quarter-over-quarter change.\n",
      "- `Profit` (decimal): Profit.\n",
      "- `ProfitYoy` (decimal): Profit year-over-year change.\n",
      "- `ProfiltQoq` (decimal): Profit quarter-over-quarter change.\n",
      "- `NAVPerUnit` (decimal): Net asset value per share.\n",
      "- `ROE` (decimal): Return on equity.\n",
      "- `CashPerUnit` (decimal): Cash per share.\n",
      "- `GrossProfitRate` (decimal): Gross profit rate.\n",
      "- `Distribution` (varchar): Distribution information.\n",
      "- `DividenRate` (decimal): Dividend rate.\n",
      "- `AnnounceDate` (datetime): Announce date for the financial data.\n",
      "\n",
      "Your task is to write a SQL query to find the quarter in which the stock had the highest revenue growth (quarter-over-quarter) and return the `CutoffDate` and the `RevenueQoq` for that quarter. If there are multiple quarters with the same highest revenue growth, return all of them.\n",
      "\n",
      "**[Solution]**\n",
      "\n",
      "To find the quarter with the highest revenue growth (quarter-over-quarter) for the stock with the code '603566', you can use the following SQL query:\n",
      "\n",
      "```sql\n",
      "WITH RevenueQoQ_ Changes AS (\n",
      "  SELECT\n",
      "      Code,\n",
      "      YEAR(CutoffDate) AS Year,\n",
      "      DATEPART(QUARTER, CutoffDate) AS Quarter,\n",
      "      RevenueQoq,\n",
      "      ROW_NUMBER() OVER (PARTITION BY YEAR(CutoffDate), DATEPART(QUARTER, CutoffDate) ORDER BY RevenueQoq DESC) AS rn\n",
      "  FROM\n",
      "      [EST].[your_table_name]\n",
      "  WHERE\n",
      "      Code = '603566'\n",
      "),\n",
      "Highest_RevenueQoQ AS (\n",
      "  SELECT\n",
      "      Year,\n",
      "      Quarter,\n",
      "      RevenueQoq\n",
      "  FROM\n",
      "      RevenueQoQ_Changes\n",
      "  WHERE\n",
      "      rn = 1\n",
      ")\n",
      "SELECT\n",
      "    h.Year,\n",
      "    h.Quarter,\n",
      "    t.RevenueQoq\n",
      "FROM\n",
      "    Highest_RevenueQoQ h\n",
      "JOIN\n",
      "    RevenueQoQ_Changes t ON h.Year = t.Year AND h.Quarter = t.Quarter\n",
      "ORDER BY\n",
      "    h.Year, h.Quarter;\n",
      "```\n",
      "\n",
      "Replace `[your_table_name]` with the actual name of the table in your database. This query calculates the quarter-over-quarter revenue changes, identifies the quarters with the highest revenue growth, and returns their `CutoffDate` and the `RevenueQoq` for those quarters.\n"
     ]
    }
   ],
   "source": [
    "with open('mixtral-sql/1.json') as fopen:\n",
    "    print(json.loads(fopen.read()))"
   ]
  },
  {
   "cell_type": "code",
   "execution_count": null,
   "id": "6475dd0d",
   "metadata": {},
   "outputs": [
    {
     "name": "stderr",
     "output_type": "stream",
     "text": [
      " 24%|████████████████████████▍                                                                           | 48961/200001 [31:59<50:58:27,  1.21s/it]"
     ]
    }
   ],
   "source": [
    "max_worker = 50\n",
    "consumers = [Thread(target=consumer, args=(queue,i)) for i in range(max_worker)]\n",
    "for i in range(len(consumers)):\n",
    "    consumers[i].start()\n",
    "    \n",
    "pbar = tqdm(total=ori_size)\n",
    "last_size = 0\n",
    "while True:\n",
    "    size = queue.qsize()\n",
    "    if size == 0:\n",
    "        break\n",
    "    left = ori_size - size\n",
    "    minus = left - last_size\n",
    "    if minus > 0:\n",
    "        pbar.update(minus)\n",
    "        last_size += minus\n",
    "\n",
    "pbar.close()"
   ]
  },
  {
   "cell_type": "code",
   "execution_count": null,
   "id": "960ae3d7",
   "metadata": {},
   "outputs": [],
   "source": []
  }
 ],
 "metadata": {
  "kernelspec": {
   "display_name": "Python 3 (ipykernel)",
   "language": "python",
   "name": "python3"
  },
  "language_info": {
   "codemirror_mode": {
    "name": "ipython",
    "version": 3
   },
   "file_extension": ".py",
   "mimetype": "text/x-python",
   "name": "python",
   "nbconvert_exporter": "python",
   "pygments_lexer": "ipython3",
   "version": "3.8.10"
  }
 },
 "nbformat": 4,
 "nbformat_minor": 5
}
