{
 "cells": [
  {
   "cell_type": "code",
   "execution_count": 1,
   "id": "83af63dd",
   "metadata": {},
   "outputs": [
    {
     "name": "stderr",
     "output_type": "stream",
     "text": [
      "/home/ubuntu/.local/lib/python3.10/site-packages/datasets/load.py:2479: FutureWarning: 'use_auth_token' was deprecated in favor of 'token' in version 2.14.0 and will be removed in 3.0.0.\n",
      "You can remove this warning by passing 'token=<use_auth_token>' instead.\n",
      "  warnings.warn(\n"
     ]
    }
   ],
   "source": [
    "from datasets import load_dataset\n",
    "\n",
    "dataset = load_dataset(\n",
    "    \"bigcode/the-stack-dedup\",\n",
    "    split = 'train', \n",
    "    data_dir=\"data/dockerfile\", \n",
    "    streaming = True,\n",
    "    use_auth_token = ''\n",
    ")"
   ]
  },
  {
   "cell_type": "code",
   "execution_count": 2,
   "id": "7d822268",
   "metadata": {},
   "outputs": [
    {
     "name": "stderr",
     "output_type": "stream",
     "text": [
      "127741it [01:45, 1215.53it/s]\n"
     ]
    }
   ],
   "source": [
    "from tqdm import tqdm\n",
    "import json\n",
    "\n",
    "index = 0\n",
    "with open('dockerfile.jsonl', 'w') as fopen:\n",
    "    for sample in tqdm(iter(dataset)):\n",
    "        if len(sample['content'].split()) >= 20:\n",
    "            fopen.write(f'{json.dumps(sample)}\\n')\n",
    "            index += 1\n",
    "            if index >= 100000:\n",
    "                break"
   ]
  },
  {
   "cell_type": "code",
   "execution_count": 3,
   "id": "a361b92a",
   "metadata": {},
   "outputs": [
    {
     "name": "stdout",
     "output_type": "stream",
     "text": [
      "{\"hexsha\": \"413a0545c86d02a649cafc7f54f5421bfea3dcaa\", \"size\": 1451, \"ext\": null, \"lang\": \"Dockerfile\", \"max_stars_repo_path\": \"cmd/hub/Dockerfile\", \"max_stars_repo_name\": \"PPACI/hub\", \"max_stars_repo_head_hexsha\": \"987b20d0798c001524118c68f95de7bd2a208efe\", \"max_stars_repo_licenses\": [\"Apache-2.0\"], \"max_stars_count\": null, \"max_stars_repo_stars_event_min_datetime\": null, \"max_stars_repo_stars_event_max_datetime\": null, \"max_issues_repo_path\": \"cmd/hub/Dockerfile\", \"max_issues_repo_name\": \"PPACI/hub\", \"max_issues_repo_head_hexsha\": \"987b20d0798c001524118c68f95de7bd2a208efe\", \"max_issues_repo_licenses\": [\"Apache-2.0\"], \"max_issues_count\": null, \"max_issues_repo_issues_event_min_datetime\": null, \"max_issues_repo_issues_event_max_datetime\": null, \"max_forks_repo_path\": \"cmd/hub/Dockerfile\", \"max_forks_repo_name\": \"PPACI/hub\", \"max_forks_repo_head_hexsha\": \"987b20d0798c001524118c68f95de7bd2a208efe\", \"max_forks_repo_licenses\": [\"Apache-2.0\"], \"max_forks_count\": null, \"max_forks_repo_forks_event_min_datetime\": null, \"max_forks_repo_forks_event_max_datetime\": null, \"content\": \"# Build backend\\nFROM golang:1.16-alpine3.14 AS backend-builder\\nWORKDIR /go/src/github.com/artifacthub/hub\\nCOPY go.* ./\\nCOPY cmd/hub cmd/hub\\nCOPY internal internal\\nRUN cd cmd/hub && CGO_ENABLED=0 GOOS=linux GOARCH=amd64 go build -o /hub .\\n\\n# Build frontend\\nFROM node:14-alpine3.14 AS frontend-builder\\nRUN apk --no-cache add jq\\nWORKDIR /web\\nCOPY web .\\nENV NODE_OPTIONS=--max_old_space_size=4096\\nRUN yarn install\\nRUN yarn build\\n# Generate a yarn.lock version that does not contain the dev dependencies\\nRUN cp -R /web/node_modules /web/package.json /web/yarn.lock /tmp\\nRUN cd /tmp && cat package.json | jq 'del(.devDependencies)' > tmp && mv tmp package.json\\nRUN cd /tmp && yarn install\\n\\n# Build widget\\nFROM node:14-alpine3.14 AS widget-builder\\nWORKDIR /widget\\nCOPY widget .\\nENV NODE_OPTIONS=--max_old_space_size=4096\\nRUN yarn install\\nRUN yarn build\\n\\n# Build docs\\nFROM klakegg/hugo:0.78.2 AS docs-builder\\nWORKDIR /\\nCOPY scripts scripts\\nCOPY docs docs\\nRUN scripts/prepare-docs.sh\\nRUN cd docs/www && hugo\\n\\n# Final stage\\nFROM alpine:3.14\\nRUN apk --no-cache add ca-certificates && addgroup -S hub && adduser -S hub -G hub\\nUSER hub\\nWORKDIR /home/hub\\nCOPY --from=backend-builder /hub ./\\nCOPY --from=frontend-builder /web/build ./web\\nCOPY --from=frontend-builder /tmp/yarn.lock ./web\\nCOPY --from=widget-builder /widget/build ./widget\\nCOPY --from=docs-builder /web/build/docs ./web/docs\\nCOPY --from=docs-builder /docs/api ./web/docs/api\\nCMD [\\\"./hub\\\"]\\nEXPOSE 8000\\n\", \"avg_line_length\": 28.4509803922, \"max_line_length\": 89, \"alphanum_fraction\": 0.7512060648}\r\n",
      "{\"hexsha\": \"5f888c891bc309241c97a4a64afb5d59035c87a4\", \"size\": 525, \"ext\": null, \"lang\": \"Dockerfile\", \"max_stars_repo_path\": \"docker-image-run-py/Dockerfile\", \"max_stars_repo_name\": \"duwhop/relate\", \"max_stars_repo_head_hexsha\": \"568bf6868fbc980e78e74fa29f84d10be2f8c94d\", \"max_stars_repo_licenses\": [\"Unlicense\"], \"max_stars_count\": null, \"max_stars_repo_stars_event_min_datetime\": null, \"max_stars_repo_stars_event_max_datetime\": null, \"max_issues_repo_path\": \"docker-image-run-py/Dockerfile\", \"max_issues_repo_name\": \"duwhop/relate\", \"max_issues_repo_head_hexsha\": \"568bf6868fbc980e78e74fa29f84d10be2f8c94d\", \"max_issues_repo_licenses\": [\"Unlicense\"], \"max_issues_count\": null, \"max_issues_repo_issues_event_min_datetime\": null, \"max_issues_repo_issues_event_max_datetime\": null, \"max_forks_repo_path\": \"docker-image-run-py/Dockerfile\", \"max_forks_repo_name\": \"duwhop/relate\", \"max_forks_repo_head_hexsha\": \"568bf6868fbc980e78e74fa29f84d10be2f8c94d\", \"max_forks_repo_licenses\": [\"Unlicense\"], \"max_forks_count\": null, \"max_forks_repo_forks_event_min_datetime\": null, \"max_forks_repo_forks_event_max_datetime\": null, \"content\": \"FROM inducer/debian-i386\\nMAINTAINER Andreas Kloeckner <inform@tiker.net>\\nEXPOSE 9941\\nRUN useradd runpy\\n\\nRUN mkdir -p /opt/runpy\\nADD runpy /opt/runpy/\\nADD runpy_backend.py /opt/runpy/\\n\\nRUN apt-get update\\nRUN apt-get -y -o APT::Install-Recommends=0 -o APT::Install-Suggests=0 install python3-scipy python3-pip python3-matplotlib python3-pillow graphviz python3-pandas python3-sympy\\n\\nRUN sed -i s/TkAgg/Agg/ /etc/matplotlibrc\\nRUN echo \\\"savefig.dpi : 80\\\" >> /etc/matplotlibrc\\nRUN echo \\\"savefig.bbox : tight\\\" >> /etc/matplotlibrc\\n\", \"avg_line_length\": 32.8125, \"max_line_length\": 176, \"alphanum_fraction\": 0.7752380952}\r\n",
      "{\"hexsha\": \"d169e385ef6352477ddf471e190b8ed0b752dd6c\", \"size\": 385, \"ext\": null, \"lang\": \"Dockerfile\", \"max_stars_repo_path\": \"examples/docker/Dockerfile\", \"max_stars_repo_name\": \"iantivey/probr\", \"max_stars_repo_head_hexsha\": \"5acc3ce9c744746c31b45e7d734ac5098544165c\", \"max_stars_repo_licenses\": [\"Apache-2.0\"], \"max_stars_count\": null, \"max_stars_repo_stars_event_min_datetime\": null, \"max_stars_repo_stars_event_max_datetime\": null, \"max_issues_repo_path\": \"examples/docker/Dockerfile\", \"max_issues_repo_name\": \"iantivey/probr\", \"max_issues_repo_head_hexsha\": \"5acc3ce9c744746c31b45e7d734ac5098544165c\", \"max_issues_repo_licenses\": [\"Apache-2.0\"], \"max_issues_count\": 1, \"max_issues_repo_issues_event_min_datetime\": \"2021-01-29T21:14:32.000Z\", \"max_issues_repo_issues_event_max_datetime\": \"2021-01-29T21:14:32.000Z\", \"max_forks_repo_path\": \"examples/docker/Dockerfile\", \"max_forks_repo_name\": \"iantivey/probr\", \"max_forks_repo_head_hexsha\": \"5acc3ce9c744746c31b45e7d734ac5098544165c\", \"max_forks_repo_licenses\": [\"Apache-2.0\"], \"max_forks_count\": null, \"max_forks_repo_forks_event_min_datetime\": null, \"max_forks_repo_forks_event_max_datetime\": null, \"content\": \"FROM golang:1.14.4-alpine AS probr-build\\nWORKDIR /probr\\nCOPY . .\\nRUN go get github.com/markbates/pkger/cmd/pkger\\nRUN pkger\\nRUN go build -o probr cmd/main.go\\n\\nFROM node:alpine\\nCOPY internal/view /probr/internal/view\\nWORKDIR /probr/internal/view\\nRUN npm ci\\n\\nWORKDIR /probr\\nCOPY --from=probr-build /probr .\\nCOPY /examples/docker/. .\\nRUN chmod +x *.sh\\n\\nENTRYPOINT [\\\"/probr/entrypoint.sh\\\"]\\n\", \"avg_line_length\": 20.2631578947, \"max_line_length\": 47, \"alphanum_fraction\": 0.7532467532}\r\n"
     ]
    }
   ],
   "source": [
    "!head -n 3 dockerfile.jsonl"
   ]
  },
  {
   "cell_type": "code",
   "execution_count": 4,
   "id": "5ec5305a",
   "metadata": {},
   "outputs": [],
   "source": [
    "from huggingface_hub import HfApi\n",
    "api = HfApi()"
   ]
  },
  {
   "cell_type": "code",
   "execution_count": 5,
   "id": "d0f33fcb",
   "metadata": {},
   "outputs": [
    {
     "data": {
      "application/vnd.jupyter.widget-view+json": {
       "model_id": "c787f1b7ec034da9b74dbccb2e3acd14",
       "version_major": 2,
       "version_minor": 0
      },
      "text/plain": [
       "dockerfile.jsonl:   0%|          | 0.00/222M [00:00<?, ?B/s]"
      ]
     },
     "metadata": {},
     "output_type": "display_data"
    },
    {
     "data": {
      "text/plain": [
       "CommitInfo(commit_url='https://huggingface.co/datasets/malaysia-ai/starcoderdata-sample/commit/95b2d126b90a8d0a4460d85e3a597c42a9a30b07', commit_message='Upload dockerfile.jsonl with huggingface_hub', commit_description='', oid='95b2d126b90a8d0a4460d85e3a597c42a9a30b07', pr_url=None, pr_revision=None, pr_num=None)"
      ]
     },
     "execution_count": 5,
     "metadata": {},
     "output_type": "execute_result"
    }
   ],
   "source": [
    "api.upload_file(\n",
    "    path_or_fileobj='dockerfile.jsonl',\n",
    "    path_in_repo='dockerfile.jsonl',\n",
    "    repo_id='malaysia-ai/starcoderdata-sample',\n",
    "    repo_type='dataset',\n",
    ")"
   ]
  },
  {
   "cell_type": "code",
   "execution_count": null,
   "id": "fa79b84f",
   "metadata": {},
   "outputs": [],
   "source": []
  }
 ],
 "metadata": {
  "kernelspec": {
   "display_name": "Python 3 (ipykernel)",
   "language": "python",
   "name": "python3"
  },
  "language_info": {
   "codemirror_mode": {
    "name": "ipython",
    "version": 3
   },
   "file_extension": ".py",
   "mimetype": "text/x-python",
   "name": "python",
   "nbconvert_exporter": "python",
   "pygments_lexer": "ipython3",
   "version": "3.10.12"
  }
 },
 "nbformat": 4,
 "nbformat_minor": 5
}
