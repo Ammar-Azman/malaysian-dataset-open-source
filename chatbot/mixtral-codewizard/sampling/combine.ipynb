{
 "cells": [
  {
   "cell_type": "code",
   "execution_count": 3,
   "id": "e9d5b6aa",
   "metadata": {},
   "outputs": [
    {
     "data": {
      "text/plain": [
       "['filtered-data-analytics-0',\n",
       " 'filtered-data-analytics-1',\n",
       " 'filtered-data-analytics-2',\n",
       " 'filtered-data-analytics-3',\n",
       " 'filtered-data-analytics-4',\n",
       " 'filtered-data-analytics-5',\n",
       " 'filtered-data-analytics-6']"
      ]
     },
     "execution_count": 3,
     "metadata": {},
     "output_type": "execute_result"
    }
   ],
   "source": [
    "from glob import glob\n",
    "\n",
    "folders = glob('filtered-data-analytics-*')\n",
    "folders = sorted([f for f in folders if '.' not in f])\n",
    "folders"
   ]
  },
  {
   "cell_type": "code",
   "execution_count": 4,
   "id": "0eb10e7c",
   "metadata": {},
   "outputs": [],
   "source": [
    "import json"
   ]
  },
  {
   "cell_type": "code",
   "execution_count": 6,
   "id": "c0258538",
   "metadata": {},
   "outputs": [
    {
     "name": "stdout",
     "output_type": "stream",
     "text": [
      "filtered-data-analytics-0\n",
      "filtered-data-analytics-1\n",
      "filtered-data-analytics-2\n",
      "filtered-data-analytics-3\n",
      "filtered-data-analytics-4\n",
      "filtered-data-analytics-5\n",
      "filtered-data-analytics-6\n"
     ]
    }
   ],
   "source": [
    "for folder in folders:\n",
    "    print(folder)\n",
    "    with open(f'processed-{folder}.jsonl', 'w') as fopen_l:\n",
    "        for f in glob(f'{folder}/*.json'):\n",
    "            with open(f) as fopen:\n",
    "                data = json.load(fopen)\n",
    "                fopen_l.write(f'{json.dumps(data)}\\n')"
   ]
  },
  {
   "cell_type": "code",
   "execution_count": 8,
   "id": "8285e791",
   "metadata": {},
   "outputs": [
    {
     "data": {
      "text/plain": [
       "['processed-filtered-data-analytics-4.jsonl',\n",
       " 'processed-filtered-data-analytics-0.jsonl',\n",
       " 'processed-filtered-data-analytics-5.jsonl',\n",
       " 'processed-filtered-data-analytics-2.jsonl',\n",
       " 'processed-filtered-data-analytics-6.jsonl',\n",
       " 'processed-filtered-data-analytics-3.jsonl',\n",
       " 'processed-filtered-data-analytics-1.jsonl']"
      ]
     },
     "execution_count": 8,
     "metadata": {},
     "output_type": "execute_result"
    }
   ],
   "source": [
    "glob('processed-*.jsonl')"
   ]
  },
  {
   "cell_type": "code",
   "execution_count": 9,
   "id": "c99425c9",
   "metadata": {},
   "outputs": [
    {
     "name": "stdout",
     "output_type": "stream",
     "text": [
      "processed-filtered-data-analytics-4.jsonl\n",
      "processed-filtered-data-analytics-0.jsonl\n",
      "processed-filtered-data-analytics-5.jsonl\n",
      "processed-filtered-data-analytics-2.jsonl\n",
      "processed-filtered-data-analytics-6.jsonl\n",
      "processed-filtered-data-analytics-3.jsonl\n",
      "processed-filtered-data-analytics-1.jsonl\n"
     ]
    }
   ],
   "source": [
    "from huggingface_hub import HfApi\n",
    "api = HfApi()\n",
    "\n",
    "for f in glob('processed-*.jsonl'):\n",
    "    print(f)\n",
    "    api.upload_file(\n",
    "        path_or_fileobj=f,\n",
    "        path_in_repo=f,\n",
    "        repo_id='mesolitica/mixtral-python-data-analytics',\n",
    "        repo_type='dataset',\n",
    "    )"
   ]
  }
 ],
 "metadata": {
  "kernelspec": {
   "display_name": "Python 3 (ipykernel)",
   "language": "python",
   "name": "python3"
  },
  "language_info": {
   "codemirror_mode": {
    "name": "ipython",
    "version": 3
   },
   "file_extension": ".py",
   "mimetype": "text/x-python",
   "name": "python",
   "nbconvert_exporter": "python",
   "pygments_lexer": "ipython3",
   "version": "3.10.12"
  }
 },
 "nbformat": 4,
 "nbformat_minor": 5
}
