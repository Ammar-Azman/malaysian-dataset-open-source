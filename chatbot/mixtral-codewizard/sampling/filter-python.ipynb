{
 "cells": [
  {
   "cell_type": "code",
   "execution_count": 1,
   "id": "1ab1e5ce",
   "metadata": {},
   "outputs": [
    {
     "data": {
      "application/vnd.jupyter.widget-view+json": {
       "model_id": "8f60d045e347497b9b5cc9932343a5bd",
       "version_major": 2,
       "version_minor": 0
      },
      "text/plain": [
       "Resolving data files:   0%|          | 0/144 [00:00<?, ?it/s]"
      ]
     },
     "metadata": {},
     "output_type": "display_data"
    }
   ],
   "source": [
    "from datasets import load_dataset\n",
    "\n",
    "dataset = load_dataset(\"bigcode/the-stack-dedup\",split = 'train', data_dir=\"data/python\")"
   ]
  },
  {
   "cell_type": "code",
   "execution_count": 2,
   "id": "144acddc",
   "metadata": {},
   "outputs": [],
   "source": [
    "acceptable = [\n",
    "    'pandas',\n",
    "    'sklearn',\n",
    "    'matplotlib',\n",
    "    'plotly'\n",
    "]"
   ]
  },
  {
   "cell_type": "code",
   "execution_count": 3,
   "id": "3e6eebb0",
   "metadata": {},
   "outputs": [],
   "source": [
    "from huggingface_hub import InferenceClient\n",
    "from tqdm import tqdm\n",
    "import os\n",
    "import json"
   ]
  },
  {
   "cell_type": "code",
   "execution_count": 6,
   "id": "dbfac37b",
   "metadata": {
    "scrolled": false
   },
   "outputs": [
    {
     "name": "stderr",
     "output_type": "stream",
     "text": [
      "12962249it [1:03:00, 3429.10it/s]\n"
     ]
    }
   ],
   "source": [
    "with open('data-analytics.jsonl', 'w') as fopen:\n",
    "    for sample in tqdm(iter(dataset)):\n",
    "        if any([a in sample[\"content\"] for a in acceptable]):\n",
    "            fopen.write(f'{json.dumps(sample)}\\n')"
   ]
  },
  {
   "cell_type": "code",
   "execution_count": 7,
   "id": "3e8192c3",
   "metadata": {
    "scrolled": true
   },
   "outputs": [
    {
     "name": "stdout",
     "output_type": "stream",
     "text": [
      "1228880 data-analytics.jsonl\r\n"
     ]
    }
   ],
   "source": [
    "!wc -l data-analytics.jsonl"
   ]
  },
  {
   "cell_type": "code",
   "execution_count": 8,
   "id": "d178e0fc",
   "metadata": {},
   "outputs": [],
   "source": [
    "split_by = 100000\n",
    "\n",
    "!mkdir partitions-data-analytics"
   ]
  },
  {
   "cell_type": "code",
   "execution_count": 9,
   "id": "9b8747bc",
   "metadata": {},
   "outputs": [
    {
     "name": "stderr",
     "output_type": "stream",
     "text": [
      "1228880it [00:42, 28707.93it/s]\n"
     ]
    }
   ],
   "source": [
    "index = 0\n",
    "count = 0\n",
    "a = open(f'partitions-data-analytics/{index}.jsonl', 'w')\n",
    "\n",
    "with open('data-analytics.jsonl') as fopen:\n",
    "    for l in tqdm(fopen):\n",
    "        a.write(l)\n",
    "        a.flush()\n",
    "        count += 1\n",
    "        if count >= split_by:\n",
    "            a.close()\n",
    "            index += 1\n",
    "            count = 0\n",
    "            a = open(f'partitions-data-analytics/{index}.jsonl', 'w')\n",
    "            \n",
    "a.close()"
   ]
  },
  {
   "cell_type": "code",
   "execution_count": 10,
   "id": "2c797c4e",
   "metadata": {},
   "outputs": [],
   "source": [
    "# !wget https://gist.githubusercontent.com/huseinzol05/98974ae8c6c7a65d4bc0af9f5003786a/raw/5aa5257608b61e8fcc828e99fbd070d5ca7358e3/mp.py"
   ]
  },
  {
   "cell_type": "code",
   "execution_count": 14,
   "id": "e8ba5bcc",
   "metadata": {},
   "outputs": [],
   "source": [
    "from transformers import AutoTokenizer\n",
    "\n",
    "tokenizer = AutoTokenizer.from_pretrained('mistralai/Mixtral-8x7B-Instruct-v0.1')"
   ]
  },
  {
   "cell_type": "code",
   "execution_count": 15,
   "id": "2ddfa0b3",
   "metadata": {},
   "outputs": [],
   "source": [
    "def loop(files):\n",
    "    files, index = files\n",
    "    tokenizer = AutoTokenizer.from_pretrained('mistralai/Mixtral-8x7B-Instruct-v0.1')\n",
    "    with open(f'filtered-data-analytics-{index}.jsonl', 'w') as fopen_l:\n",
    "        for f in files:\n",
    "            with open(f) as fopen:\n",
    "                for l in tqdm(fopen):\n",
    "                    l = json.loads(l)\n",
    "                    if len(tokenizer(l['content'])['input_ids']) > 5000:\n",
    "                        continue\n",
    "\n",
    "                    fopen_l.write(f'{json.dumps(l)}\\n')"
   ]
  },
  {
   "cell_type": "code",
   "execution_count": 16,
   "id": "a23b355c",
   "metadata": {},
   "outputs": [
    {
     "data": {
      "text/plain": [
       "['partitions-data-analytics/0.jsonl',\n",
       " 'partitions-data-analytics/1.jsonl',\n",
       " 'partitions-data-analytics/2.jsonl',\n",
       " 'partitions-data-analytics/3.jsonl',\n",
       " 'partitions-data-analytics/4.jsonl',\n",
       " 'partitions-data-analytics/5.jsonl',\n",
       " 'partitions-data-analytics/6.jsonl',\n",
       " 'partitions-data-analytics/7.jsonl',\n",
       " 'partitions-data-analytics/8.jsonl',\n",
       " 'partitions-data-analytics/9.jsonl',\n",
       " 'partitions-data-analytics/10.jsonl',\n",
       " 'partitions-data-analytics/11.jsonl',\n",
       " 'partitions-data-analytics/12.jsonl']"
      ]
     },
     "execution_count": 16,
     "metadata": {},
     "output_type": "execute_result"
    }
   ],
   "source": [
    "from glob import glob\n",
    "\n",
    "files = sorted(glob('partitions-data-analytics/*.jsonl'), key = lambda x: int(x.split('/')[-1].replace('.jsonl', '')))\n",
    "files"
   ]
  },
  {
   "cell_type": "code",
   "execution_count": 17,
   "id": "f94ad3fe",
   "metadata": {
    "scrolled": true
   },
   "outputs": [
    {
     "name": "stderr",
     "output_type": "stream",
     "text": [
      "100000it [24:19, 68.50it/s]\n",
      "100000it [24:51, 67.05it/s]\n",
      "100000it [25:58, 64.15it/s] \n",
      "100000it [26:45, 62.30it/s]\n",
      "100000it [26:56, 61.87it/s]\n",
      "100000it [26:59, 61.76it/s]\n",
      "100000it [27:00, 61.71it/s]\n",
      "100000it [27:04, 61.54it/s]\n",
      "100000it [27:05, 61.51it/s]\n",
      "100000it [27:24, 60.79it/s]\n",
      "100000it [27:34, 60.42it/s]\n",
      "100000it [29:04, 57.32it/s]\n",
      "28880it [06:25, 74.86it/s] \n"
     ]
    }
   ],
   "source": [
    "import mp\n",
    "mp.multiprocessing(files, loop, cores = min(len(files), 12), returned = False)"
   ]
  },
  {
   "cell_type": "code",
   "execution_count": 20,
   "id": "0d74a7d3",
   "metadata": {
    "scrolled": true
   },
   "outputs": [
    {
     "name": "stdout",
     "output_type": "stream",
     "text": [
      "-rw-r--r-- 1 ubuntu ubuntu 492M Dec 31 07:34 filtered-data-analytics-0.jsonl\r\n",
      "-rw-r--r-- 1 ubuntu ubuntu 493M Dec 31 07:34 filtered-data-analytics-1.jsonl\r\n",
      "-rw-r--r-- 1 ubuntu ubuntu 494M Dec 31 07:34 filtered-data-analytics-10.jsonl\r\n",
      "-rw-r--r-- 1 ubuntu ubuntu 493M Dec 31 07:33 filtered-data-analytics-11.jsonl\r\n",
      "-rw-r--r-- 1 ubuntu ubuntu 142M Dec 31 07:37 filtered-data-analytics-12.jsonl\r\n",
      "-rw-r--r-- 1 ubuntu ubuntu 494M Dec 31 07:31 filtered-data-analytics-2.jsonl\r\n",
      "-rw-r--r-- 1 ubuntu ubuntu 494M Dec 31 07:34 filtered-data-analytics-3.jsonl\r\n",
      "-rw-r--r-- 1 ubuntu ubuntu 494M Dec 31 07:33 filtered-data-analytics-4.jsonl\r\n",
      "-rw-r--r-- 1 ubuntu ubuntu 493M Dec 31 07:34 filtered-data-analytics-5.jsonl\r\n",
      "-rw-r--r-- 1 ubuntu ubuntu 495M Dec 31 07:31 filtered-data-analytics-6.jsonl\r\n",
      "-rw-r--r-- 1 ubuntu ubuntu 495M Dec 31 07:36 filtered-data-analytics-7.jsonl\r\n",
      "-rw-r--r-- 1 ubuntu ubuntu 491M Dec 31 07:34 filtered-data-analytics-8.jsonl\r\n",
      "-rw-r--r-- 1 ubuntu ubuntu 495M Dec 31 07:33 filtered-data-analytics-9.jsonl\r\n"
     ]
    }
   ],
   "source": [
    "!ls -lh filtered-data-analytics-*.jsonl"
   ]
  },
  {
   "cell_type": "code",
   "execution_count": 23,
   "id": "6cb9c3ad",
   "metadata": {},
   "outputs": [],
   "source": [
    "from huggingface_hub import HfApi\n",
    "api = HfApi()"
   ]
  },
  {
   "cell_type": "code",
   "execution_count": null,
   "id": "f7438f80",
   "metadata": {},
   "outputs": [
    {
     "name": "stdout",
     "output_type": "stream",
     "text": [
      "filtered-data-analytics-0.jsonl\n"
     ]
    },
    {
     "data": {
      "application/vnd.jupyter.widget-view+json": {
       "model_id": "ba66865066824710b7c0023023d6d2eb",
       "version_major": 2,
       "version_minor": 0
      },
      "text/plain": [
       "filtered-data-analytics-0.jsonl:   0%|          | 0.00/516M [00:00<?, ?B/s]"
      ]
     },
     "metadata": {},
     "output_type": "display_data"
    }
   ],
   "source": [
    "for f in glob('filtered-data-analytics-*.jsonl'):\n",
    "    print(f)\n",
    "    api.upload_file(\n",
    "        path_or_fileobj=f,\n",
    "        path_in_repo=f,\n",
    "        repo_id='mesolitica/mixtral-python-data-analytics-instructions',\n",
    "        repo_type='dataset',\n",
    "    )"
   ]
  },
  {
   "cell_type": "code",
   "execution_count": null,
   "id": "bb09285f",
   "metadata": {},
   "outputs": [],
   "source": [
    "\n",
    "\n"
   ]
  }
 ],
 "metadata": {
  "kernelspec": {
   "display_name": "Python 3 (ipykernel)",
   "language": "python",
   "name": "python3"
  },
  "language_info": {
   "codemirror_mode": {
    "name": "ipython",
    "version": 3
   },
   "file_extension": ".py",
   "mimetype": "text/x-python",
   "name": "python",
   "nbconvert_exporter": "python",
   "pygments_lexer": "ipython3",
   "version": "3.10.12"
  }
 },
 "nbformat": 4,
 "nbformat_minor": 5
}
