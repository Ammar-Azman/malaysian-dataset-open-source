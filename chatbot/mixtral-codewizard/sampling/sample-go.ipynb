{
 "cells": [
  {
   "cell_type": "code",
   "execution_count": 3,
   "id": "bbe7bd77",
   "metadata": {},
   "outputs": [
    {
     "name": "stderr",
     "output_type": "stream",
     "text": [
      "/home/ubuntu/.local/lib/python3.10/site-packages/datasets/load.py:2479: FutureWarning: 'use_auth_token' was deprecated in favor of 'token' in version 2.14.0 and will be removed in 3.0.0.\n",
      "You can remove this warning by passing 'token=<use_auth_token>' instead.\n",
      "  warnings.warn(\n"
     ]
    },
    {
     "data": {
      "application/vnd.jupyter.widget-view+json": {
       "model_id": "94fe0983f1a7479a9441c3ea6df96674",
       "version_major": 2,
       "version_minor": 0
      },
      "text/plain": [
       "Resolving data files:   0%|          | 0/57 [00:00<?, ?it/s]"
      ]
     },
     "metadata": {},
     "output_type": "display_data"
    }
   ],
   "source": [
    "from datasets import load_dataset\n",
    "\n",
    "dataset = load_dataset(\n",
    "    \"bigcode/the-stack-dedup\",\n",
    "    split = 'train', \n",
    "    data_dir=\"data/go\", \n",
    "    streaming = True,\n",
    "    use_auth_token = ''\n",
    ")"
   ]
  },
  {
   "cell_type": "code",
   "execution_count": 4,
   "id": "ded9704b",
   "metadata": {},
   "outputs": [
    {
     "name": "stderr",
     "output_type": "stream",
     "text": [
      "161024it [04:59, 537.61it/s] \n"
     ]
    }
   ],
   "source": [
    "from tqdm import tqdm\n",
    "import json\n",
    "\n",
    "index = 0\n",
    "with open('go.jsonl', 'w') as fopen:\n",
    "    for sample in tqdm(iter(dataset)):\n",
    "        if len(sample['content'].split()) >= 150:\n",
    "            fopen.write(f'{json.dumps(sample)}\\n')\n",
    "            index += 1\n",
    "            if index >= 100000:\n",
    "                break"
   ]
  },
  {
   "cell_type": "code",
   "execution_count": 6,
   "id": "020670e8",
   "metadata": {},
   "outputs": [
    {
     "name": "stdout",
     "output_type": "stream",
     "text": [
      "{\"hexsha\": \"049f1acf66c077e7e24e339d5109551e711c1e22\", \"size\": 10672, \"ext\": \"go\", \"lang\": \"Go\", \"max_stars_repo_path\": \"cmd/serve/webdav/webdav.go\", \"max_stars_repo_name\": \"13steinj/rclone\", \"max_stars_repo_head_hexsha\": \"f8d56bebafeef5c6ddd75fb973bb76fc62019ec6\", \"max_stars_repo_licenses\": [\"MIT\"], \"max_stars_count\": 18, \"max_stars_repo_stars_event_min_datetime\": \"2020-06-08T19:43:13.000Z\", \"max_stars_repo_stars_event_max_datetime\": \"2022-01-05T06:40:02.000Z\", \"max_issues_repo_path\": \"cmd/serve/webdav/webdav.go\", \"max_issues_repo_name\": \"13steinj/rclone\", \"max_issues_repo_head_hexsha\": \"f8d56bebafeef5c6ddd75fb973bb76fc62019ec6\", \"max_issues_repo_licenses\": [\"MIT\"], \"max_issues_count\": 4, \"max_issues_repo_issues_event_min_datetime\": \"2020-04-27T09:31:54.000Z\", \"max_issues_repo_issues_event_max_datetime\": \"2022-03-02T09:13:02.000Z\", \"max_forks_repo_path\": \"cmd/serve/webdav/webdav.go\", \"max_forks_repo_name\": \"13steinj/rclone\", \"max_forks_repo_head_hexsha\": \"f8d56bebafeef5c6ddd75fb973bb76fc62019ec6\", \"max_forks_repo_licenses\": [\"MIT\"], \"max_forks_count\": 7, \"max_forks_repo_forks_event_min_datetime\": \"2020-06-22T05:52:05.000Z\", \"max_forks_repo_forks_event_max_datetime\": \"2021-12-24T17:13:30.000Z\", \"content\": \"// Package webdav implements a WebDAV server backed by rclone VFS\\npackage webdav\\n\\nimport (\\n\\t\\\"context\\\"\\n\\t\\\"net/http\\\"\\n\\t\\\"os\\\"\\n\\t\\\"strings\\\"\\n\\t\\\"time\\\"\\n\\n\\t\\\"github.com/rclone/rclone/cmd\\\"\\n\\t\\\"github.com/rclone/rclone/cmd/serve/httplib\\\"\\n\\t\\\"github.com/rclone/rclone/cmd/serve/httplib/httpflags\\\"\\n\\t\\\"github.com/rclone/rclone/cmd/serve/httplib/serve\\\"\\n\\t\\\"github.com/rclone/rclone/cmd/serve/proxy\\\"\\n\\t\\\"github.com/rclone/rclone/cmd/serve/proxy/proxyflags\\\"\\n\\t\\\"github.com/rclone/rclone/fs\\\"\\n\\t\\\"github.com/rclone/rclone/fs/config/flags\\\"\\n\\t\\\"github.com/rclone/rclone/fs/hash\\\"\\n\\t\\\"github.com/rclone/rclone/lib/errors\\\"\\n\\t\\\"github.com/rclone/rclone/vfs\\\"\\n\\t\\\"github.com/rclone/rclone/vfs/vfsflags\\\"\\n\\t\\\"github.com/spf13/cobra\\\"\\n\\t\\\"golang.org/x/net/webdav\\\"\\n)\\n\\nvar (\\n\\thashName      string\\n\\thashType      = hash.None\\n\\tdisableGETDir = false\\n)\\n\\nfunc init() {\\n\\tflagSet := Command.Flags()\\n\\thttpflags.AddFlags(flagSet)\\n\\tvfsflags.AddFlags(flagSet)\\n\\tproxyflags.AddFlags(flagSet)\\n\\tflags.StringVarP(flagSet, &hashName, \\\"etag-hash\\\", \\\"\\\", \\\"\\\", \\\"Which hash to use for the ETag, or auto or blank for off\\\")\\n\\tflags.BoolVarP(flagSet, &disableGETDir, \\\"disable-dir-list\\\", \\\"\\\", false, \\\"Disable HTML directory list on GET request for a directory\\\")\\n}\\n\\n// Command definition for cobra\\nvar Command = &cobra.Command{\\n\\tUse:   \\\"webdav remote:path\\\",\\n\\tShort: `Serve remote:path over webdav.`,\\n\\tLong: `\\nrclone serve webdav implements a basic webdav server to serve the\\nremote over HTTP via the webdav protocol. This can be viewed with a\\nwebdav client, through a web browser, or you can make a remote of\\ntype webdav to read and write it.\\n\\n### Webdav options\\n\\n#### --etag-hash \\n\\nThis controls the ETag header.  Without this flag the ETag will be\\nbased on the ModTime and Size of the object.\\n\\nIf this flag is set to \\\"auto\\\" then rclone will choose the first\\nsupported hash on the backend or you can use a named hash such as\\n\\\"MD5\\\" or \\\"SHA-1\\\".\\n\\nUse \\\"rclone hashsum\\\" to see the full list.\\n\\n` + httplib.Help + vfs.Help + proxy.Help,\\n\\tRunE: func(command *cobra.Command, args []string) error {\\n\\t\\tvar f fs.Fs\\n\\t\\tif proxyflags.Opt.AuthProxy == \\\"\\\" {\\n\\t\\t\\tcmd.CheckArgs(1, 1, command, args)\\n\\t\\t\\tf = cmd.NewFsSrc(args)\\n\\t\\t} else {\\n\\t\\t\\tcmd.CheckArgs(0, 0, command, args)\\n\\t\\t}\\n\\t\\thashType = hash.None\\n\\t\\tif hashName == \\\"auto\\\" {\\n\\t\\t\\thashType = f.Hashes().GetOne()\\n\\t\\t} else if hashName != \\\"\\\" {\\n\\t\\t\\terr := hashType.Set(hashName)\\n\\t\\t\\tif err != nil {\\n\\t\\t\\t\\treturn err\\n\\t\\t\\t}\\n\\t\\t}\\n\\t\\tif hashType != hash.None {\\n\\t\\t\\tfs.Debugf(f, \\\"Using hash %v for ETag\\\", hashType)\\n\\t\\t}\\n\\t\\tcmd.Run(false, false, command, func() error {\\n\\t\\t\\ts := newWebDAV(context.Background(), f, &httpflags.Opt)\\n\\t\\t\\terr := s.serve()\\n\\t\\t\\tif err != nil {\\n\\t\\t\\t\\treturn err\\n\\t\\t\\t}\\n\\t\\t\\ts.Wait()\\n\\t\\t\\treturn nil\\n\\t\\t})\\n\\t\\treturn nil\\n\\t},\\n}\\n\\n// WebDAV is a webdav.FileSystem interface\\n//\\n// A FileSystem implements access to a collection of named files. The elements\\n// in a file path are separated by slash ('/', U+002F) characters, regardless\\n// of host operating system convention.\\n//\\n// Each method has the same semantics as the os package's function of the same\\n// name.\\n//\\n// Note that the os.Rename documentation says that \\\"OS-specific restrictions\\n// might apply\\\". In particular, whether or not renaming a file or directory\\n// overwriting another existing file or directory is an error is OS-dependent.\\ntype WebDAV struct {\\n\\t*httplib.Server\\n\\tf             fs.Fs\\n\\t_vfs          *vfs.VFS // don't use directly, use getVFS\\n\\twebdavhandler *webdav.Handler\\n\\tproxy         *proxy.Proxy\\n\\tctx           context.Context // for global config\\n}\\n\\n// check interface\\nvar _ webdav.FileSystem = (*WebDAV)(nil)\\n\\n// Make a new WebDAV to serve the remote\\nfunc newWebDAV(ctx context.Context, f fs.Fs, opt *httplib.Options) *WebDAV {\\n\\tw := &WebDAV{\\n\\t\\tf:   f,\\n\\t\\tctx: ctx,\\n\\t}\\n\\tif proxyflags.Opt.AuthProxy != \\\"\\\" {\\n\\t\\tw.proxy = proxy.New(ctx, &proxyflags.Opt)\\n\\t\\t// override auth\\n\\t\\tcopyOpt := *opt\\n\\t\\tcopyOpt.Auth = w.auth\\n\\t\\topt = &copyOpt\\n\\t} else {\\n\\t\\tw._vfs = vfs.New(f, &vfsflags.Opt)\\n\\t}\\n\\tw.Server = httplib.NewServer(http.HandlerFunc(w.handler), opt)\\n\\twebdavHandler := &webdav.Handler{\\n\\t\\tPrefix:     w.Server.Opt.BaseURL,\\n\\t\\tFileSystem: w,\\n\\t\\tLockSystem: webdav.NewMemLS(),\\n\\t\\tLogger:     w.logRequest, // FIXME\\n\\t}\\n\\tw.webdavhandler = webdavHandler\\n\\treturn w\\n}\\n\\n// Gets the VFS in use for this request\\nfunc (w *WebDAV) getVFS(ctx context.Context) (VFS *vfs.VFS, err error) {\\n\\tif w._vfs != nil {\\n\\t\\treturn w._vfs, nil\\n\\t}\\n\\tvalue := ctx.Value(httplib.ContextAuthKey)\\n\\tif value == nil {\\n\\t\\treturn nil, errors.New(\\\"no VFS found in context\\\")\\n\\t}\\n\\tVFS, ok := value.(*vfs.VFS)\\n\\tif !ok {\\n\\t\\treturn nil, errors.Errorf(\\\"context value is not VFS: %#v\\\", value)\\n\\t}\\n\\treturn VFS, nil\\n}\\n\\n// auth does proxy authorization\\nfunc (w *WebDAV) auth(user, pass string) (value interface{}, err error) {\\n\\tVFS, _, err := w.proxy.Call(user, pass, false)\\n\\tif err != nil {\\n\\t\\treturn nil, err\\n\\t}\\n\\treturn VFS, err\\n}\\n\\nfunc (w *WebDAV) handler(rw http.ResponseWriter, r *http.Request) {\\n\\turlPath, ok := w.Path(rw, r)\\n\\tif !ok {\\n\\t\\treturn\\n\\t}\\n\\tisDir := strings.HasSuffix(urlPath, \\\"/\\\")\\n\\tremote := strings.Trim(urlPath, \\\"/\\\")\\n\\tif !disableGETDir && (r.Method == \\\"GET\\\" || r.Method == \\\"HEAD\\\") && isDir {\\n\\t\\tw.serveDir(rw, r, remote)\\n\\t\\treturn\\n\\t}\\n\\tw.webdavhandler.ServeHTTP(rw, r)\\n}\\n\\n// serveDir serves a directory index at dirRemote\\n// This is similar to serveDir in serve http.\\nfunc (w *WebDAV) serveDir(rw http.ResponseWriter, r *http.Request, dirRemote string) {\\n\\tVFS, err := w.getVFS(r.Context())\\n\\tif err != nil {\\n\\t\\thttp.Error(rw, \\\"Root directory not found\\\", http.StatusNotFound)\\n\\t\\tfs.Errorf(nil, \\\"Failed to serve directory: %v\\\", err)\\n\\t\\treturn\\n\\t}\\n\\t// List the directory\\n\\tnode, err := VFS.Stat(dirRemote)\\n\\tif err == vfs.ENOENT {\\n\\t\\thttp.Error(rw, \\\"Directory not found\\\", http.StatusNotFound)\\n\\t\\treturn\\n\\t} else if err != nil {\\n\\t\\tserve.Error(dirRemote, rw, \\\"Failed to list directory\\\", err)\\n\\t\\treturn\\n\\t}\\n\\tif !node.IsDir() {\\n\\t\\thttp.Error(rw, \\\"Not a directory\\\", http.StatusNotFound)\\n\\t\\treturn\\n\\t}\\n\\tdir := node.(*vfs.Dir)\\n\\tdirEntries, err := dir.ReadDirAll()\\n\\n\\tif err != nil {\\n\\t\\tserve.Error(dirRemote, rw, \\\"Failed to list directory\\\", err)\\n\\t\\treturn\\n\\t}\\n\\n\\t// Make the entries for display\\n\\tdirectory := serve.NewDirectory(dirRemote, w.HTMLTemplate)\\n\\tfor _, node := range dirEntries {\\n\\t\\tif vfsflags.Opt.NoModTime {\\n\\t\\t\\tdirectory.AddHTMLEntry(node.Path(), node.IsDir(), node.Size(), time.Time{})\\n\\t\\t} else {\\n\\t\\t\\tdirectory.AddHTMLEntry(node.Path(), node.IsDir(), node.Size(), node.ModTime().UTC())\\n\\t\\t}\\n\\t}\\n\\n\\tsortParm := r.URL.Query().Get(\\\"sort\\\")\\n\\torderParm := r.URL.Query().Get(\\\"order\\\")\\n\\tdirectory.ProcessQueryParams(sortParm, orderParm)\\n\\n\\tdirectory.Serve(rw, r)\\n}\\n\\n// serve runs the http server in the background.\\n//\\n// Use s.Close() and s.Wait() to shutdown server\\nfunc (w *WebDAV) serve() error {\\n\\terr := w.Serve()\\n\\tif err != nil {\\n\\t\\treturn err\\n\\t}\\n\\tfs.Logf(w.f, \\\"WebDav Server started on %s\\\", w.URL())\\n\\treturn nil\\n}\\n\\n// logRequest is called by the webdav module on every request\\nfunc (w *WebDAV) logRequest(r *http.Request, err error) {\\n\\tfs.Infof(r.URL.Path, \\\"%s from %s\\\", r.Method, r.RemoteAddr)\\n}\\n\\n// Mkdir creates a directory\\nfunc (w *WebDAV) Mkdir(ctx context.Context, name string, perm os.FileMode) (err error) {\\n\\t// defer log.Trace(name, \\\"perm=%v\\\", perm)(\\\"err = %v\\\", &err)\\n\\tVFS, err := w.getVFS(ctx)\\n\\tif err != nil {\\n\\t\\treturn err\\n\\t}\\n\\tdir, leaf, err := VFS.StatParent(name)\\n\\tif err != nil {\\n\\t\\treturn err\\n\\t}\\n\\t_, err = dir.Mkdir(leaf)\\n\\treturn err\\n}\\n\\n// OpenFile opens a file or a directory\\nfunc (w *WebDAV) OpenFile(ctx context.Context, name string, flags int, perm os.FileMode) (file webdav.File, err error) {\\n\\t// defer log.Trace(name, \\\"flags=%v, perm=%v\\\", flags, perm)(\\\"err = %v\\\", &err)\\n\\tVFS, err := w.getVFS(ctx)\\n\\tif err != nil {\\n\\t\\treturn nil, err\\n\\t}\\n\\tf, err := VFS.OpenFile(name, flags, perm)\\n\\tif err != nil {\\n\\t\\treturn nil, err\\n\\t}\\n\\treturn Handle{f}, nil\\n}\\n\\n// RemoveAll removes a file or a directory and its contents\\nfunc (w *WebDAV) RemoveAll(ctx context.Context, name string) (err error) {\\n\\t// defer log.Trace(name, \\\"\\\")(\\\"err = %v\\\", &err)\\n\\tVFS, err := w.getVFS(ctx)\\n\\tif err != nil {\\n\\t\\treturn err\\n\\t}\\n\\tnode, err := VFS.Stat(name)\\n\\tif err != nil {\\n\\t\\treturn err\\n\\t}\\n\\terr = node.RemoveAll()\\n\\tif err != nil {\\n\\t\\treturn err\\n\\t}\\n\\treturn nil\\n}\\n\\n// Rename a file or a directory\\nfunc (w *WebDAV) Rename(ctx context.Context, oldName, newName string) (err error) {\\n\\t// defer log.Trace(oldName, \\\"newName=%q\\\", newName)(\\\"err = %v\\\", &err)\\n\\tVFS, err := w.getVFS(ctx)\\n\\tif err != nil {\\n\\t\\treturn err\\n\\t}\\n\\treturn VFS.Rename(oldName, newName)\\n}\\n\\n// Stat returns info about the file or directory\\nfunc (w *WebDAV) Stat(ctx context.Context, name string) (fi os.FileInfo, err error) {\\n\\t// defer log.Trace(name, \\\"\\\")(\\\"fi=%+v, err = %v\\\", &fi, &err)\\n\\tVFS, err := w.getVFS(ctx)\\n\\tif err != nil {\\n\\t\\treturn nil, err\\n\\t}\\n\\tfi, err = VFS.Stat(name)\\n\\tif err != nil {\\n\\t\\treturn nil, err\\n\\t}\\n\\treturn FileInfo{fi}, nil\\n}\\n\\n// Handle represents an open file\\ntype Handle struct {\\n\\tvfs.Handle\\n}\\n\\n// Readdir reads directory entries from the handle\\nfunc (h Handle) Readdir(count int) (fis []os.FileInfo, err error) {\\n\\tfis, err = h.Handle.Readdir(count)\\n\\tif err != nil {\\n\\t\\treturn nil, err\\n\\t}\\n\\t// Wrap each FileInfo\\n\\tfor i := range fis {\\n\\t\\tfis[i] = FileInfo{fis[i]}\\n\\t}\\n\\treturn fis, nil\\n}\\n\\n// Stat the handle\\nfunc (h Handle) Stat() (fi os.FileInfo, err error) {\\n\\tfi, err = h.Handle.Stat()\\n\\tif err != nil {\\n\\t\\treturn nil, err\\n\\t}\\n\\treturn FileInfo{fi}, nil\\n}\\n\\n// FileInfo represents info about a file satisfying os.FileInfo and\\n// also some additional interfaces for webdav for ETag and ContentType\\ntype FileInfo struct {\\n\\tos.FileInfo\\n}\\n\\n// ETag returns an ETag for the FileInfo\\nfunc (fi FileInfo) ETag(ctx context.Context) (etag string, err error) {\\n\\t// defer log.Trace(fi, \\\"\\\")(\\\"etag=%q, err=%v\\\", &etag, &err)\\n\\tif hashType == hash.None {\\n\\t\\treturn \\\"\\\", webdav.ErrNotImplemented\\n\\t}\\n\\tnode, ok := (fi.FileInfo).(vfs.Node)\\n\\tif !ok {\\n\\t\\tfs.Errorf(fi, \\\"Expecting vfs.Node, got %T\\\", fi.FileInfo)\\n\\t\\treturn \\\"\\\", webdav.ErrNotImplemented\\n\\t}\\n\\tentry := node.DirEntry()\\n\\to, ok := entry.(fs.Object)\\n\\tif !ok {\\n\\t\\treturn \\\"\\\", webdav.ErrNotImplemented\\n\\t}\\n\\thash, err := o.Hash(ctx, hashType)\\n\\tif err != nil || hash == \\\"\\\" {\\n\\t\\treturn \\\"\\\", webdav.ErrNotImplemented\\n\\t}\\n\\treturn `\\\"` + hash + `\\\"`, nil\\n}\\n\\n// ContentType returns a content type for the FileInfo\\nfunc (fi FileInfo) ContentType(ctx context.Context) (contentType string, err error) {\\n\\t// defer log.Trace(fi, \\\"\\\")(\\\"etag=%q, err=%v\\\", &contentType, &err)\\n\\tnode, ok := (fi.FileInfo).(vfs.Node)\\n\\tif !ok {\\n\\t\\tfs.Errorf(fi, \\\"Expecting vfs.Node, got %T\\\", fi.FileInfo)\\n\\t\\treturn \\\"application/octet-stream\\\", nil\\n\\t}\\n\\tentry := node.DirEntry()\\n\\tswitch x := entry.(type) {\\n\\tcase fs.Object:\\n\\t\\treturn fs.MimeType(ctx, x), nil\\n\\tcase fs.Directory:\\n\\t\\treturn \\\"inode/directory\\\", nil\\n\\t}\\n\\tfs.Errorf(fi, \\\"Expecting fs.Object or fs.Directory, got %T\\\", entry)\\n\\treturn \\\"application/octet-stream\\\", nil\\n}\\n\", \"avg_line_length\": 26.8816120907, \"max_line_length\": 133, \"alphanum_fraction\": 0.6726011994}\r\n"
     ]
    }
   ],
   "source": [
    "!head -n 1 go.jsonl"
   ]
  },
  {
   "cell_type": "code",
   "execution_count": 7,
   "id": "5f5d9d5d",
   "metadata": {},
   "outputs": [],
   "source": [
    "from huggingface_hub import HfApi\n",
    "api = HfApi()"
   ]
  },
  {
   "cell_type": "code",
   "execution_count": 8,
   "id": "6097be89",
   "metadata": {},
   "outputs": [
    {
     "data": {
      "application/vnd.jupyter.widget-view+json": {
       "model_id": "19d34e08d9cc49cfa1e29026ec8824e1",
       "version_major": 2,
       "version_minor": 0
      },
      "text/plain": [
       "go.jsonl:   0%|          | 0.00/1.02G [00:00<?, ?B/s]"
      ]
     },
     "metadata": {},
     "output_type": "display_data"
    },
    {
     "data": {
      "text/plain": [
       "CommitInfo(commit_url='https://huggingface.co/datasets/malaysia-ai/starcoderdata-sample/commit/5e49b0d87ef38838b51e9f99db9550d2c76ffaf0', commit_message='Upload go.jsonl with huggingface_hub', commit_description='', oid='5e49b0d87ef38838b51e9f99db9550d2c76ffaf0', pr_url=None, pr_revision=None, pr_num=None)"
      ]
     },
     "execution_count": 8,
     "metadata": {},
     "output_type": "execute_result"
    }
   ],
   "source": [
    "api.upload_file(\n",
    "    path_or_fileobj='go.jsonl',\n",
    "    path_in_repo='go.jsonl',\n",
    "    repo_id='malaysia-ai/starcoderdata-sample',\n",
    "    repo_type='dataset',\n",
    ")"
   ]
  }
 ],
 "metadata": {
  "kernelspec": {
   "display_name": "Python 3 (ipykernel)",
   "language": "python",
   "name": "python3"
  },
  "language_info": {
   "codemirror_mode": {
    "name": "ipython",
    "version": 3
   },
   "file_extension": ".py",
   "mimetype": "text/x-python",
   "name": "python",
   "nbconvert_exporter": "python",
   "pygments_lexer": "ipython3",
   "version": "3.10.12"
  }
 },
 "nbformat": 4,
 "nbformat_minor": 5
}
