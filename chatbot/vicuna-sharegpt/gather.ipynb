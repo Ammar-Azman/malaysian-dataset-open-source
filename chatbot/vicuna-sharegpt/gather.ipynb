{
 "cells": [
  {
   "cell_type": "code",
   "execution_count": 9,
   "metadata": {},
   "outputs": [
    {
     "data": {
      "text/plain": [
       "['texts.jsonl05.splitted.requested',\n",
       " 'texts.jsonl02.splitted.requested',\n",
       " 'texts.jsonl08.splitted.requested',\n",
       " 'texts.jsonl06.splitted.requested',\n",
       " 'texts.jsonl04.splitted.requested',\n",
       " 'texts.jsonl03.splitted.requested',\n",
       " 'texts.jsonl01.splitted.requested',\n",
       " 'texts.jsonl09.splitted.requested',\n",
       " 'texts.jsonl07.splitted.requested',\n",
       " 'texts.jsonl00.splitted.requested']"
      ]
     },
     "execution_count": 9,
     "metadata": {},
     "output_type": "execute_result"
    }
   ],
   "source": [
    "import json\n",
    "from tqdm import tqdm\n",
    "from glob import glob\n",
    "\n",
    "files = glob('texts.jsonl*.splitted.requested')\n",
    "files"
   ]
  },
  {
   "cell_type": "code",
   "execution_count": 10,
   "metadata": {},
   "outputs": [
    {
     "name": "stderr",
     "output_type": "stream",
     "text": [
      "19594it [00:00, 183210.71it/s]\n",
      "19537it [00:00, 192374.69it/s]\n",
      "19540it [00:00, 184412.72it/s]\n",
      "19833it [00:00, 187271.51it/s]\n",
      "19392it [00:00, 181848.14it/s]\n",
      "19197it [00:00, 178778.04it/s]\n",
      "19413it [00:00, 177143.53it/s]\n",
      "19478it [00:00, 141260.11it/s]\n",
      "19566it [00:00, 127531.50it/s]\n",
      "19418it [00:00, 135291.59it/s]\n"
     ]
    }
   ],
   "source": [
    "mapping = {}\n",
    "for f in files:\n",
    "    with open(f) as fopen:\n",
    "        for l in tqdm(fopen):\n",
    "            data = json.loads(l)\n",
    "            mapping[data['src']] = data['r']['result']"
   ]
  },
  {
   "cell_type": "code",
   "execution_count": 11,
   "metadata": {},
   "outputs": [
    {
     "data": {
      "text/plain": [
       "163043"
      ]
     },
     "execution_count": 11,
     "metadata": {},
     "output_type": "execute_result"
    }
   ],
   "source": [
    "len(mapping)"
   ]
  },
  {
   "cell_type": "code",
   "execution_count": 12,
   "metadata": {},
   "outputs": [],
   "source": [
    "with open('ShareGPT_V3_unfiltered_cleaned_split_no_imsorry.json') as fopen:\n",
    "    data = json.load(fopen)"
   ]
  },
  {
   "cell_type": "code",
   "execution_count": 13,
   "metadata": {},
   "outputs": [
    {
     "data": {
      "text/plain": [
       "94145"
      ]
     },
     "execution_count": 13,
     "metadata": {},
     "output_type": "execute_result"
    }
   ],
   "source": [
    "len(data)"
   ]
  },
  {
   "cell_type": "code",
   "execution_count": 20,
   "metadata": {},
   "outputs": [],
   "source": [
    "for i in range(len(data)):\n",
    "    for k in range(len(data[i]['conversations'])):\n",
    "        ms = mapping.get(data[i]['conversations'][k]['value'])\n",
    "        data[i]['conversations'][k]['value_ms'] = ms"
   ]
  },
  {
   "cell_type": "code",
   "execution_count": 22,
   "metadata": {},
   "outputs": [
    {
     "data": {
      "text/plain": [
       "{'id': 'i6IyJda_0',\n",
       " 'conversations': [{'from': 'human',\n",
       "   'value': 'How to tell if a customer segment is well segmented? In 3 bullet points.',\n",
       "   'value_ms': 'Bagaimana untuk mengetahui sama ada segmen pelanggan dibahagikan dengan baik? Dalam 3 mata peluru.'},\n",
       "  {'from': 'gpt',\n",
       "   'value': '1. Homogeneity: The segment should consist of customers who share similar characteristics and behaviors.\\n2. Distinctiveness: The segment should be different from other segments in terms of their characteristics and behaviors.\\n3. Stability: The segment should remain relatively stable over time and not change drastically. The characteristics and behaviors of customers within the segment should not change significantly.',\n",
       "   'value_ms': '1. Kehomogenan: Segmen harus terdiri daripada pelanggan yang berkongsi ciri dan tingkah laku yang serupa.\\n2. Keistimewaan: Segmen harus berbeza daripada segmen lain dari segi ciri dan tingkah lakunya.\\n3. Kestabilan: Segmen harus kekal stabil dari semasa ke semasa dan tidak berubah secara drastik. Ciri-ciri dan tingkah laku pelanggan dalam segmen tidak boleh berubah dengan ketara.'}]}"
      ]
     },
     "execution_count": 22,
     "metadata": {},
     "output_type": "execute_result"
    }
   ],
   "source": [
    "data[1]"
   ]
  },
  {
   "cell_type": "code",
   "execution_count": 23,
   "metadata": {},
   "outputs": [],
   "source": [
    "with open('gather.jsonl', 'w') as fopen:\n",
    "    for d in data:\n",
    "        fopen.write(f'{json.dumps(d)}\\n')"
   ]
  }
 ],
 "metadata": {
  "kernelspec": {
   "display_name": "Python 3 (ipykernel)",
   "language": "python",
   "name": "python3"
  },
  "language_info": {
   "codemirror_mode": {
    "name": "ipython",
    "version": 3
   },
   "file_extension": ".py",
   "mimetype": "text/x-python",
   "name": "python",
   "nbconvert_exporter": "python",
   "pygments_lexer": "ipython3",
   "version": "3.8.10"
  }
 },
 "nbformat": 4,
 "nbformat_minor": 4
}
