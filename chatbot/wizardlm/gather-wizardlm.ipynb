{
 "cells": [
  {
   "cell_type": "code",
   "execution_count": 1,
   "metadata": {},
   "outputs": [],
   "source": [
    "import json\n",
    "\n",
    "with open('WizardLM_evol_instruct_V2_143k.json') as fopen:\n",
    "    data = json.load(fopen)"
   ]
  },
  {
   "cell_type": "code",
   "execution_count": 7,
   "metadata": {},
   "outputs": [
    {
     "data": {
      "text/plain": [
       "283535"
      ]
     },
     "execution_count": 7,
     "metadata": {},
     "output_type": "execute_result"
    }
   ],
   "source": [
    "mapping = {}\n",
    "with open('wizardlm.jsonl.requested') as fopen:\n",
    "    for l in fopen:\n",
    "        l = json.loads(l)\n",
    "        mapping[l['src']] = l['r']\n",
    "        \n",
    "len(mapping)"
   ]
  },
  {
   "cell_type": "code",
   "execution_count": 15,
   "metadata": {},
   "outputs": [],
   "source": [
    "with open('WizardLM_evol_instruct_V2_143k.translated.jsonl', 'w') as fopen:\n",
    "    for d in data:\n",
    "        for i in range(len(d['conversations'])):\n",
    "            d['conversations'][i]['value_ms'] = mapping.get(d['conversations'][i]['value'])\n",
    "        fopen.write(f'{json.dumps(d)}\\n')"
   ]
  },
  {
   "cell_type": "code",
   "execution_count": 16,
   "metadata": {},
   "outputs": [
    {
     "name": "stdout",
     "output_type": "stream",
     "text": [
      "143000 WizardLM_evol_instruct_V2_143k.translated.jsonl\r\n"
     ]
    }
   ],
   "source": [
    "!wc -l WizardLM_evol_instruct_V2_143k.translated.jsonl"
   ]
  },
  {
   "cell_type": "code",
   "execution_count": 17,
   "metadata": {},
   "outputs": [
    {
     "name": "stdout",
     "output_type": "stream",
     "text": [
      "-rw-r--r-- 1 husein husein 683M Okt  18 09:11 WizardLM_evol_instruct_V2_143k.translated.jsonl\r\n"
     ]
    }
   ],
   "source": [
    "!ls -lh WizardLM_evol_instruct_V2_143k.translated.jsonl"
   ]
  }
 ],
 "metadata": {
  "kernelspec": {
   "display_name": "Python 3 (ipykernel)",
   "language": "python",
   "name": "python3"
  },
  "language_info": {
   "codemirror_mode": {
    "name": "ipython",
    "version": 3
   },
   "file_extension": ".py",
   "mimetype": "text/x-python",
   "name": "python",
   "nbconvert_exporter": "python",
   "pygments_lexer": "ipython3",
   "version": "3.8.10"
  }
 },
 "nbformat": 4,
 "nbformat_minor": 4
}
