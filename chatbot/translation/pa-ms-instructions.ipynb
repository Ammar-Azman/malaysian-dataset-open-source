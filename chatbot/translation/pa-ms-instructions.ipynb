{
 "cells": [
  {
   "cell_type": "code",
   "execution_count": 1,
   "id": "60a56b84",
   "metadata": {},
   "outputs": [],
   "source": [
    "from glob import glob\n",
    "import json"
   ]
  },
  {
   "cell_type": "code",
   "execution_count": 4,
   "id": "eac14494",
   "metadata": {
    "scrolled": true
   },
   "outputs": [
    {
     "data": {
      "text/plain": [
       "['/home/husein/ssd3/google-translate-ms-pa/ms.txt00.splitted.pa.requested',\n",
       " '/home/husein/ssd3/google-translate-ms-pa/ms.txt07.splitted.pa.requested',\n",
       " '/home/husein/ssd3/google-translate-ms-pa/ms.txt02.splitted.pa.requested',\n",
       " '/home/husein/ssd3/google-translate-ms-pa/ms.txt04.splitted.pa.requested',\n",
       " '/home/husein/ssd3/google-translate-ms-pa/ms.txt05.splitted.pa.requested',\n",
       " '/home/husein/ssd3/google-translate-ms-pa/ms.txt06.splitted.pa.requested',\n",
       " '/home/husein/ssd3/google-translate-ms-pa/ms.txt03.splitted.pa.requested',\n",
       " '/home/husein/ssd3/google-translate-ms-pa/ms.txt01.splitted.pa.requested']"
      ]
     },
     "execution_count": 4,
     "metadata": {},
     "output_type": "execute_result"
    }
   ],
   "source": [
    "files = glob('/home/husein/ssd3/google-translate-ms-pa/*.requested')\n",
    "files"
   ]
  },
  {
   "cell_type": "code",
   "execution_count": 8,
   "id": "74b5f9c9",
   "metadata": {},
   "outputs": [],
   "source": [
    "template = [\n",
    "    'teks: {teks}\\nterjemah ke standard malay',\n",
    "    'teks: {teks}\\nterjemah ke melayu baku',\n",
    "    '`{teks}` terjemah ke malay',\n",
    "    'terjemah ke bahasa melayu `{teks}`',\n",
    "]"
   ]
  },
  {
   "cell_type": "code",
   "execution_count": 18,
   "id": "0960df5a",
   "metadata": {},
   "outputs": [],
   "source": [
    "import json\n",
    "import random\n",
    "\n",
    "with open('pa-ms-instructions.jsonl', 'w') as fopen_l:\n",
    "    for f in files:\n",
    "        with open(f) as fopen:\n",
    "            for l in fopen:\n",
    "                try:\n",
    "                    l = json.loads(l)\n",
    "                except:\n",
    "                    continue\n",
    "                ms = l['src']\n",
    "                r = l['r']['result']\n",
    "                if not len(ms):\n",
    "                    continue\n",
    "                if not len(r):\n",
    "                    continue\n",
    "                left = random.choice(template).format(teks = r)\n",
    "                d = {\n",
    "                    'prompt_input': None,\n",
    "                    'input': left,\n",
    "                    'output': ms\n",
    "                }\n",
    "                fopen_l.write(f'{json.dumps(d)}\\n')\n",
    "                fopen_l.flush()"
   ]
  },
  {
   "cell_type": "code",
   "execution_count": 20,
   "id": "f51835c2",
   "metadata": {},
   "outputs": [
    {
     "name": "stderr",
     "output_type": "stream",
     "text": [
      "/home/husein/.local/lib/python3.8/site-packages/requests/__init__.py:102: RequestsDependencyWarning: urllib3 (1.26.15) or chardet (5.2.0)/charset_normalizer (2.0.7) doesn't match a supported version!\n",
      "  warnings.warn(\"urllib3 ({}) or chardet ({})/charset_normalizer ({}) doesn't match a supported \"\n"
     ]
    },
    {
     "data": {
      "application/vnd.jupyter.widget-view+json": {
       "model_id": "e454fc5c96224c8fbb50a9eb67ee297c",
       "version_major": 2,
       "version_minor": 0
      },
      "text/plain": [
       "pa-ms-instructions.jsonl:   0%|          | 0.00/627M [00:00<?, ?B/s]"
      ]
     },
     "metadata": {},
     "output_type": "display_data"
    },
    {
     "data": {
      "text/plain": [
       "'https://huggingface.co/datasets/mesolitica/standard-malay-translation-instructions/blob/main/pa-ms-instructions.jsonl'"
      ]
     },
     "execution_count": 20,
     "metadata": {},
     "output_type": "execute_result"
    }
   ],
   "source": [
    "from huggingface_hub import HfApi\n",
    "api = HfApi()\n",
    "api.upload_file(\n",
    "    path_or_fileobj='pa-ms-instructions.jsonl',\n",
    "    path_in_repo='pa-ms-instructions.jsonl',\n",
    "    repo_id='mesolitica/standard-malay-translation-instructions',\n",
    "    repo_type='dataset',\n",
    ")"
   ]
  },
  {
   "cell_type": "code",
   "execution_count": null,
   "id": "9ec105f0",
   "metadata": {},
   "outputs": [],
   "source": []
  }
 ],
 "metadata": {
  "kernelspec": {
   "display_name": "Python 3 (ipykernel)",
   "language": "python",
   "name": "python3"
  },
  "language_info": {
   "codemirror_mode": {
    "name": "ipython",
    "version": 3
   },
   "file_extension": ".py",
   "mimetype": "text/x-python",
   "name": "python",
   "nbconvert_exporter": "python",
   "pygments_lexer": "ipython3",
   "version": "3.8.10"
  }
 },
 "nbformat": 4,
 "nbformat_minor": 5
}
