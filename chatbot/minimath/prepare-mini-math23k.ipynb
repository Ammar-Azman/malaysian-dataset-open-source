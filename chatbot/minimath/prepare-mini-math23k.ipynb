{
 "cells": [
  {
   "cell_type": "code",
   "execution_count": 6,
   "metadata": {},
   "outputs": [],
   "source": [
    "# !wget https://huggingface.co/datasets/aloobun/mini-math23k-v1/resolve/main/filtered_output.jsonl"
   ]
  },
  {
   "cell_type": "code",
   "execution_count": 25,
   "metadata": {},
   "outputs": [],
   "source": [
    "import json\n",
    "\n",
    "with open('mini-math23k.jsonl', 'w') as fopen_l:\n",
    "    with open('filtered_output.jsonl') as fopen:\n",
    "        for l in fopen:\n",
    "            l = json.loads(l)\n",
    "            l = l['text'].replace('### Instruction:', '').replace('### Response:', '').strip()\n",
    "            if not len(l):\n",
    "                continue\n",
    "            fopen_l.write(f\"{json.dumps(l)}\\n\")"
   ]
  },
  {
   "cell_type": "code",
   "execution_count": 26,
   "metadata": {},
   "outputs": [
    {
     "name": "stdout",
     "output_type": "stream",
     "text": [
      "22918 mini-math23k.jsonl\r\n"
     ]
    }
   ],
   "source": [
    "!wc -l mini-math23k.jsonl"
   ]
  },
  {
   "cell_type": "code",
   "execution_count": 27,
   "metadata": {},
   "outputs": [
    {
     "name": "stdout",
     "output_type": "stream",
     "text": [
      "\"If $0.8= \\\\frac{y}{186+x}$, find the smallest value of $x$, if $x$ and $y$ are positive integers. I notice that this equation involves fractions and decimals, so I want to clear the fractions and decimals by multiplying both sides by a suitable common multiple.\\nI see that 0.8 is the same as $\\\\frac{8}{10}$, so I can rewrite the equation as $\\\\frac{8}{10}=\\\\frac{y}{186+x}$.\\nTo clear the fractions, I can multiply both sides by the product of the denominators, which is $10(186+x)$.\\nThis gives me $8(186+x)=10y$.\\nTo clear the decimals, I can divide both sides by 10, which gives me $4(186+x)=5y$.\\nNow I have a simpler equation that relates $x$ and $y$ as integers.\\nI want to find the smallest value of $x$, so I want to minimize $186+x$.\\nThis means I want to make $186+x$ a multiple of 5, since 5 is the coefficient of $y$.\\nThe smallest multiple of 5 that is greater than or equal to 186 is 190.\\nSo I can set $186+x=190$, which implies that $x=4$.\\nThis is the smallest value of $x$ that makes the equation true for some positive integer $y$.\\nI can check that $x=4$ works by plugging it back into the original equation and solving for $y$.\\nIf $x=4$, then $\\\\frac{8}{10}=\\\\frac{y}{190}$, which implies that $y=\\\\frac{8}{10}\\\\times 190=152$.\\nThis is a positive integer, so $x=4$ and $y=152$ are valid solutions.\"\r\n"
     ]
    }
   ],
   "source": [
    "!head -n 1 mini-math23k.jsonl"
   ]
  },
  {
   "cell_type": "code",
   "execution_count": null,
   "metadata": {},
   "outputs": [],
   "source": []
  }
 ],
 "metadata": {
  "kernelspec": {
   "display_name": "Python 3 (ipykernel)",
   "language": "python",
   "name": "python3"
  },
  "language_info": {
   "codemirror_mode": {
    "name": "ipython",
    "version": 3
   },
   "file_extension": ".py",
   "mimetype": "text/x-python",
   "name": "python",
   "nbconvert_exporter": "python",
   "pygments_lexer": "ipython3",
   "version": "3.8.10"
  }
 },
 "nbformat": 4,
 "nbformat_minor": 4
}
