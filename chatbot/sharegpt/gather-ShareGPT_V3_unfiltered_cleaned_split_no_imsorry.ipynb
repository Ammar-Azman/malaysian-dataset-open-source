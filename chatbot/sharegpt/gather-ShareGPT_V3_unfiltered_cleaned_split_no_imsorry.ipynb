{
 "cells": [
  {
   "cell_type": "code",
   "execution_count": 1,
   "metadata": {},
   "outputs": [
    {
     "data": {
      "text/plain": [
       "['texts.jsonl05.splitted.requested',\n",
       " 'texts.jsonl02.splitted.requested',\n",
       " 'texts.jsonl08.splitted.requested',\n",
       " 'texts.jsonl12.splitted.requested',\n",
       " 'texts.jsonl06.splitted.requested',\n",
       " 'texts.jsonl04.splitted.requested',\n",
       " 'texts.jsonl03.splitted.requested',\n",
       " 'texts.jsonl01.splitted.requested',\n",
       " 'texts.jsonl11.splitted.requested',\n",
       " 'texts.jsonl09.splitted.requested',\n",
       " 'texts.jsonl07.splitted.requested',\n",
       " 'texts.jsonl10.splitted.requested',\n",
       " 'texts.jsonl00.splitted.requested']"
      ]
     },
     "execution_count": 1,
     "metadata": {},
     "output_type": "execute_result"
    }
   ],
   "source": [
    "import json\n",
    "from tqdm import tqdm\n",
    "from glob import glob\n",
    "\n",
    "files = glob('texts.jsonl*.splitted.requested')\n",
    "files"
   ]
  },
  {
   "cell_type": "code",
   "execution_count": 2,
   "metadata": {},
   "outputs": [
    {
     "name": "stderr",
     "output_type": "stream",
     "text": [
      "49407it [00:00, 190973.99it/s]\n",
      "49414it [00:00, 188500.59it/s]\n",
      "49243it [00:00, 187266.97it/s]\n",
      "7150it [00:00, 184855.38it/s]\n",
      "49216it [00:00, 188018.19it/s]\n",
      "49203it [00:00, 182634.11it/s]\n",
      "49376it [00:00, 189360.38it/s]\n",
      "49375it [00:00, 190527.75it/s]\n",
      "49342it [00:00, 191722.43it/s]\n",
      "49068it [00:00, 190802.19it/s]\n",
      "49285it [00:00, 181282.52it/s]\n",
      "49284it [00:00, 192428.32it/s]\n",
      "49280it [00:00, 185732.26it/s]\n"
     ]
    }
   ],
   "source": [
    "mapping = {}\n",
    "for f in files:\n",
    "    with open(f) as fopen:\n",
    "        for l in tqdm(fopen):\n",
    "            data = json.loads(l)\n",
    "            mapping[data['src']] = data['r']['result']"
   ]
  },
  {
   "cell_type": "code",
   "execution_count": 3,
   "metadata": {},
   "outputs": [
    {
     "data": {
      "text/plain": [
       "435056"
      ]
     },
     "execution_count": 3,
     "metadata": {},
     "output_type": "execute_result"
    }
   ],
   "source": [
    "len(mapping)"
   ]
  },
  {
   "cell_type": "code",
   "execution_count": 4,
   "metadata": {},
   "outputs": [],
   "source": [
    "with open('ShareGPT_V3_unfiltered_cleaned_split_no_imsorry.json') as fopen:\n",
    "    data = json.load(fopen)"
   ]
  },
  {
   "cell_type": "code",
   "execution_count": 5,
   "metadata": {},
   "outputs": [
    {
     "data": {
      "text/plain": [
       "94145"
      ]
     },
     "execution_count": 5,
     "metadata": {},
     "output_type": "execute_result"
    }
   ],
   "source": [
    "len(data)"
   ]
  },
  {
   "cell_type": "code",
   "execution_count": 6,
   "metadata": {},
   "outputs": [],
   "source": [
    "for i in range(len(data)):\n",
    "    for k in range(len(data[i]['conversations'])):\n",
    "        ms = mapping.get(data[i]['conversations'][k]['value'])\n",
    "        data[i]['conversations'][k]['value_ms'] = ms"
   ]
  },
  {
   "cell_type": "code",
   "execution_count": 7,
   "metadata": {},
   "outputs": [
    {
     "data": {
      "text/plain": [
       "{'id': 'i6IyJda_0',\n",
       " 'conversations': [{'from': 'human',\n",
       "   'value': 'How to tell if a customer segment is well segmented? In 3 bullet points.',\n",
       "   'value_ms': 'Bagaimana untuk mengetahui sama ada segmen pelanggan dibahagikan dengan baik? Dalam 3 mata peluru.'},\n",
       "  {'from': 'gpt',\n",
       "   'value': '1. Homogeneity: The segment should consist of customers who share similar characteristics and behaviors.\\n2. Distinctiveness: The segment should be different from other segments in terms of their characteristics and behaviors.\\n3. Stability: The segment should remain relatively stable over time and not change drastically. The characteristics and behaviors of customers within the segment should not change significantly.',\n",
       "   'value_ms': '1. Kehomogenan: Segmen harus terdiri daripada pelanggan yang berkongsi ciri dan tingkah laku yang serupa.\\n2. Keistimewaan: Segmen harus berbeza daripada segmen lain dari segi ciri dan tingkah lakunya.\\n3. Kestabilan: Segmen harus kekal stabil dari semasa ke semasa dan tidak berubah secara drastik. Ciri-ciri dan tingkah laku pelanggan dalam segmen tidak boleh berubah dengan ketara.'}]}"
      ]
     },
     "execution_count": 7,
     "metadata": {},
     "output_type": "execute_result"
    }
   ],
   "source": [
    "data[1]"
   ]
  },
  {
   "cell_type": "code",
   "execution_count": 8,
   "metadata": {},
   "outputs": [],
   "source": [
    "with open('gather.jsonl', 'w') as fopen:\n",
    "    for d in data:\n",
    "        fopen.write(f'{json.dumps(d)}\\n')"
   ]
  },
  {
   "cell_type": "code",
   "execution_count": 9,
   "metadata": {
    "scrolled": true
   },
   "outputs": [
    {
     "data": {
      "text/plain": [
       "{'from': 'human',\n",
       " 'value': \"Summarize the main ideas of Jeff Walker's Product Launch Formula into bullet points as it pertains to a growth marketing agency implementing these strategies and tactics for their clients...\",\n",
       " 'value_ms': 'Ringkaskan idea-idea utama Formula Pelancaran Produk Jeff Walker ke dalam mata asas kerana ia berkaitan dengan agensi pemasaran pertumbuhan yang melaksanakan strategi dan taktik ini untuk pelanggan mereka...'}"
      ]
     },
     "execution_count": 9,
     "metadata": {},
     "output_type": "execute_result"
    }
   ],
   "source": [
    "data[0]['conversations'][0]"
   ]
  },
  {
   "cell_type": "code",
   "execution_count": 8,
   "metadata": {},
   "outputs": [],
   "source": [
    "import random"
   ]
  },
  {
   "cell_type": "code",
   "execution_count": 9,
   "metadata": {},
   "outputs": [],
   "source": [
    "break_at = [\n",
    "    'help.openai.com',\n",
    "]"
   ]
  },
  {
   "cell_type": "code",
   "execution_count": 34,
   "metadata": {},
   "outputs": [
    {
     "name": "stderr",
     "output_type": "stream",
     "text": [
      "100%|█████████████████████████████████| 94145/94145 [00:00<00:00, 168025.17it/s]\n"
     ]
    }
   ],
   "source": [
    "all_texts = []\n",
    "for i in tqdm(range(len(data))):\n",
    "    texts = []\n",
    "    for c in data[i]['conversations']:\n",
    "        if c['from'] == 'human':\n",
    "            t = '<manusia>: '\n",
    "            t += c['value_ms'] if random.random() < 0.6 and c['value_ms'] else c['value']\n",
    "        else:\n",
    "            if c['value_ms'] is None:\n",
    "                break\n",
    "            if any([b in c['value_ms'].lower() for b in break_at]):\n",
    "                print(c['value_ms'], '\\n-----\\n')\n",
    "                break\n",
    "            t = '<bot>: ' + c['value_ms']\n",
    "        texts.append(t)\n",
    "    if len(texts) % 2 != 0:\n",
    "        texts = texts[:-1]\n",
    "    if not len(texts):\n",
    "        continue\n",
    "    while len(texts) and texts[-1].startswith('<manusia>'):\n",
    "        texts = texts[:-1]\n",
    "    if not len(texts):\n",
    "        continue\n",
    "    if not texts[0].startswith('<manusia>'):\n",
    "        continue\n",
    "    all_texts.append('\\n'.join(texts))"
   ]
  },
  {
   "cell_type": "code",
   "execution_count": 35,
   "metadata": {
    "scrolled": true
   },
   "outputs": [
    {
     "data": {
      "text/plain": [
       "46633"
      ]
     },
     "execution_count": 35,
     "metadata": {},
     "output_type": "execute_result"
    }
   ],
   "source": [
    "len(all_texts)"
   ]
  },
  {
   "cell_type": "code",
   "execution_count": 39,
   "metadata": {},
   "outputs": [],
   "source": [
    "for t in all_texts:\n",
    "    splitted = t.split('<manusia>:')\n",
    "    if '<bot>:' not in splitted[-1]:\n",
    "        print(t)\n",
    "        break"
   ]
  },
  {
   "cell_type": "code",
   "execution_count": 38,
   "metadata": {},
   "outputs": [],
   "source": [
    "with open('gather-ShareGPT_V3_unfiltered_cleaned_split_no_imsorry_texts.jsonl', 'w') as fopen:\n",
    "    for t in all_texts:\n",
    "        fopen.write(f'{json.dumps(t)}\\n')"
   ]
  }
 ],
 "metadata": {
  "kernelspec": {
   "display_name": "Python 3 (ipykernel)",
   "language": "python",
   "name": "python3"
  },
  "language_info": {
   "codemirror_mode": {
    "name": "ipython",
    "version": 3
   },
   "file_extension": ".py",
   "mimetype": "text/x-python",
   "name": "python",
   "nbconvert_exporter": "python",
   "pygments_lexer": "ipython3",
   "version": "3.8.10"
  }
 },
 "nbformat": 4,
 "nbformat_minor": 4
}
