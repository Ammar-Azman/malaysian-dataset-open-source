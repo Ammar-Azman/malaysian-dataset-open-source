{
 "cells": [
  {
   "cell_type": "code",
   "execution_count": 2,
   "metadata": {},
   "outputs": [
    {
     "data": {
      "text/plain": [
       "['texts-v2.jsonl03.splitted.requested',\n",
       " 'texts-v2.jsonl09.splitted.requested',\n",
       " 'texts-v2.jsonl02.splitted.requested',\n",
       " 'texts-v2.jsonl01.splitted.requested',\n",
       " 'texts-v2.jsonl06.splitted.requested',\n",
       " 'texts-v2.jsonl12.splitted.requested',\n",
       " 'texts-v2.jsonl08.splitted.requested',\n",
       " 'texts-v2.jsonl10.splitted.requested',\n",
       " 'texts-v2.jsonl11.splitted.requested',\n",
       " 'texts-v2.jsonl00.splitted.requested',\n",
       " 'texts-v2.jsonl07.splitted.requested',\n",
       " 'texts-v2.jsonl05.splitted.requested',\n",
       " 'texts-v2.jsonl04.splitted.requested']"
      ]
     },
     "execution_count": 2,
     "metadata": {},
     "output_type": "execute_result"
    }
   ],
   "source": [
    "import json\n",
    "from tqdm import tqdm\n",
    "from glob import glob\n",
    "\n",
    "files = glob('texts-v2.jsonl*.splitted.requested')\n",
    "files"
   ]
  },
  {
   "cell_type": "code",
   "execution_count": 3,
   "metadata": {},
   "outputs": [
    {
     "name": "stderr",
     "output_type": "stream",
     "text": [
      "49369it [00:00, 191498.79it/s]\n",
      "49047it [00:00, 196574.00it/s]\n",
      "49406it [00:00, 192223.08it/s]\n",
      "49381it [00:00, 189506.39it/s]\n",
      "49271it [00:00, 183975.08it/s]\n",
      "12056it [00:00, 184354.93it/s]\n",
      "49237it [00:00, 188995.45it/s]\n",
      "49331it [00:00, 190445.05it/s]\n",
      "49302it [00:00, 188916.46it/s]\n",
      "49286it [00:00, 183191.37it/s]\n",
      "98361it [00:00, 193292.48it/s]\n",
      "49412it [00:00, 193498.01it/s]\n",
      "49207it [00:00, 190945.63it/s]\n"
     ]
    }
   ],
   "source": [
    "mapping = {}\n",
    "for f in files:\n",
    "    with open(f) as fopen:\n",
    "        for l in tqdm(fopen):\n",
    "            data = json.loads(l)\n",
    "            mapping[data['src']] = data['r']['result']"
   ]
  },
  {
   "cell_type": "code",
   "execution_count": 4,
   "metadata": {},
   "outputs": [
    {
     "data": {
      "text/plain": [
       "438724"
      ]
     },
     "execution_count": 4,
     "metadata": {},
     "output_type": "execute_result"
    }
   ],
   "source": [
    "len(mapping)"
   ]
  },
  {
   "cell_type": "code",
   "execution_count": 8,
   "metadata": {},
   "outputs": [],
   "source": [
    "       \n",
    "with open('ShareGPT_V3_unfiltered_cleaned_split.json') as fopen:\n",
    "    data = json.load(fopen)"
   ]
  },
  {
   "cell_type": "code",
   "execution_count": 9,
   "metadata": {},
   "outputs": [
    {
     "data": {
      "text/plain": [
       "94145"
      ]
     },
     "execution_count": 9,
     "metadata": {},
     "output_type": "execute_result"
    }
   ],
   "source": [
    "len(data)"
   ]
  },
  {
   "cell_type": "code",
   "execution_count": 13,
   "metadata": {},
   "outputs": [],
   "source": [
    "for i in range(len(data)):\n",
    "    for k in range(len(data[i]['conversations'])):\n",
    "        ms = mapping.get(data[i]['conversations'][k]['value'])\n",
    "        data[i]['conversations'][k]['value_ms'] = ms"
   ]
  },
  {
   "cell_type": "code",
   "execution_count": 14,
   "metadata": {},
   "outputs": [],
   "source": [
    "with open('gather-ShareGPT_V3_unfiltered_cleaned_split.jsonl', 'w') as fopen:\n",
    "    for d in data:\n",
    "        fopen.write(f'{json.dumps(d)}\\n')"
   ]
  },
  {
   "cell_type": "code",
   "execution_count": 15,
   "metadata": {},
   "outputs": [],
   "source": [
    "import random"
   ]
  },
  {
   "cell_type": "code",
   "execution_count": 16,
   "metadata": {},
   "outputs": [],
   "source": [
    "from bs4 import BeautifulSoup"
   ]
  },
  {
   "cell_type": "code",
   "execution_count": 18,
   "metadata": {},
   "outputs": [
    {
     "data": {
      "text/plain": [
       "\"Summarize the main ideas of Jeff Walker's Product Launch Formula into bullet points as it pertains to a growth marketing agency implementing these strategies and tactics for their clients...\""
      ]
     },
     "execution_count": 18,
     "metadata": {},
     "output_type": "execute_result"
    }
   ],
   "source": [
    "BeautifulSoup(data[0]['conversations'][0]['value']).get_text(separator=\"\\n\")"
   ]
  },
  {
   "cell_type": "code",
   "execution_count": 11,
   "metadata": {},
   "outputs": [
    {
     "name": "stderr",
     "output_type": "stream",
     "text": [
      "100%|███████████████████████████████████████████████████████████████████████████████████████████████████| 50496/50496 [00:00<00:00, 113583.96it/s]\n"
     ]
    }
   ],
   "source": [
    "all_texts = []\n",
    "for i in tqdm(range(len(data))):\n",
    "    texts = []\n",
    "    for c in data[i]['conversations']:\n",
    "        if c['user'] == 'human':\n",
    "            t = '<manusia>: '\n",
    "            t += c['text_ms'] if random.random() < 0.6 and c['text_ms'] else c['text']\n",
    "        else:\n",
    "            if c['text_ms'] is None:\n",
    "                break\n",
    "            t = '<bot>: ' + c['text_ms']\n",
    "        texts.append(t)\n",
    "    if len(texts) % 2 != 0:\n",
    "        texts = texts[:-1]\n",
    "    if not len(texts):\n",
    "        continue\n",
    "    if not texts[0].startswith('<manusia>'):\n",
    "        continue\n",
    "    all_texts.append('\\n'.join(texts))"
   ]
  },
  {
   "cell_type": "code",
   "execution_count": 12,
   "metadata": {
    "scrolled": true
   },
   "outputs": [
    {
     "data": {
      "text/plain": [
       "42130"
      ]
     },
     "execution_count": 12,
     "metadata": {},
     "output_type": "execute_result"
    }
   ],
   "source": [
    "len(all_texts)"
   ]
  },
  {
   "cell_type": "code",
   "execution_count": 13,
   "metadata": {},
   "outputs": [],
   "source": [
    "with open('theblackcat102-all_texts.jsonl', 'w') as fopen:\n",
    "    for t in all_texts:\n",
    "        fopen.write(f'{json.dumps(t)}\\n')"
   ]
  }
 ],
 "metadata": {
  "kernelspec": {
   "display_name": "Python 3 (ipykernel)",
   "language": "python",
   "name": "python3"
  },
  "language_info": {
   "codemirror_mode": {
    "name": "ipython",
    "version": 3
   },
   "file_extension": ".py",
   "mimetype": "text/x-python",
   "name": "python",
   "nbconvert_exporter": "python",
   "pygments_lexer": "ipython3",
   "version": "3.8.10"
  }
 },
 "nbformat": 4,
 "nbformat_minor": 4
}
