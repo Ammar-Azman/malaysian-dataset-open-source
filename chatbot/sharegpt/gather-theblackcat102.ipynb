{
 "cells": [
  {
   "cell_type": "code",
   "execution_count": 1,
   "metadata": {},
   "outputs": [
    {
     "data": {
      "text/plain": [
       "['texts-theblackcat102.jsonl14.splitted.requested',\n",
       " 'texts-theblackcat102.jsonl07.splitted.requested',\n",
       " 'texts-theblackcat102.jsonl06.splitted.requested',\n",
       " 'texts-theblackcat102.jsonl04.splitted.requested',\n",
       " 'texts-theblackcat102.jsonl05.splitted.requested',\n",
       " 'texts-theblackcat102.jsonl09.splitted.requested',\n",
       " 'texts-theblackcat102.jsonl08.splitted.requested',\n",
       " 'texts-theblackcat102.jsonl11.splitted.requested',\n",
       " 'texts-theblackcat102.jsonl13.splitted.requested',\n",
       " 'texts-theblackcat102.jsonl03.splitted.requested',\n",
       " 'texts-theblackcat102.jsonl00.splitted.requested',\n",
       " 'texts-theblackcat102.jsonl12.splitted.requested',\n",
       " 'texts-theblackcat102.jsonl10.splitted.requested',\n",
       " 'texts-theblackcat102.jsonl01.splitted.requested',\n",
       " 'texts-theblackcat102.jsonl02.splitted.requested']"
      ]
     },
     "execution_count": 1,
     "metadata": {},
     "output_type": "execute_result"
    }
   ],
   "source": [
    "import json\n",
    "from tqdm import tqdm\n",
    "from glob import glob\n",
    "\n",
    "files = glob('texts-theblackcat102.jsonl*.splitted.requested')\n",
    "files"
   ]
  },
  {
   "cell_type": "code",
   "execution_count": 2,
   "metadata": {},
   "outputs": [
    {
     "name": "stderr",
     "output_type": "stream",
     "text": [
      "6660it [00:00, 187461.85it/s]\n",
      "49552it [00:00, 168582.82it/s]\n",
      "49495it [00:00, 183057.49it/s]\n",
      "49453it [00:00, 193316.36it/s]\n",
      "49334it [00:00, 178867.19it/s]\n",
      "49492it [00:00, 193561.90it/s]\n",
      "49415it [00:00, 190552.38it/s]\n",
      "49419it [00:00, 171449.06it/s]\n",
      "49488it [00:00, 183943.32it/s]\n",
      "49328it [00:00, 180516.33it/s]\n",
      "49467it [00:00, 184126.99it/s]\n",
      "49545it [00:00, 196316.39it/s]\n",
      "49474it [00:00, 194017.78it/s]\n",
      "49464it [00:00, 181768.93it/s]\n",
      "49500it [00:00, 189680.70it/s]\n"
     ]
    }
   ],
   "source": [
    "mapping = {}\n",
    "for f in files:\n",
    "    with open(f) as fopen:\n",
    "        for l in tqdm(fopen):\n",
    "            data = json.loads(l)\n",
    "            mapping[data['src']] = data['r']['result']"
   ]
  },
  {
   "cell_type": "code",
   "execution_count": 3,
   "metadata": {},
   "outputs": [
    {
     "data": {
      "text/plain": [
       "506044"
      ]
     },
     "execution_count": 3,
     "metadata": {},
     "output_type": "execute_result"
    }
   ],
   "source": [
    "len(mapping)"
   ]
  },
  {
   "cell_type": "code",
   "execution_count": 4,
   "metadata": {},
   "outputs": [],
   "source": [
    "data = []\n",
    "with open('train.jsonl') as fopen:\n",
    "    for l in fopen:\n",
    "        data.append(json.loads(l))"
   ]
  },
  {
   "cell_type": "code",
   "execution_count": 5,
   "metadata": {},
   "outputs": [
    {
     "data": {
      "text/plain": [
       "50496"
      ]
     },
     "execution_count": 5,
     "metadata": {},
     "output_type": "execute_result"
    }
   ],
   "source": [
    "len(data)"
   ]
  },
  {
   "cell_type": "code",
   "execution_count": 6,
   "metadata": {},
   "outputs": [],
   "source": [
    "for i in range(len(data)):\n",
    "    for k in range(len(data[i]['conversations'])):\n",
    "        ms = mapping.get(data[i]['conversations'][k]['text'])\n",
    "        data[i]['conversations'][k]['text_ms'] = ms"
   ]
  },
  {
   "cell_type": "code",
   "execution_count": 7,
   "metadata": {},
   "outputs": [],
   "source": [
    "with open('gather-theblackcat102.jsonl', 'w') as fopen:\n",
    "    for d in data:\n",
    "        fopen.write(f'{json.dumps(d)}\\n')"
   ]
  },
  {
   "cell_type": "code",
   "execution_count": 7,
   "metadata": {},
   "outputs": [],
   "source": [
    "import random"
   ]
  },
  {
   "cell_type": "code",
   "execution_count": 9,
   "metadata": {},
   "outputs": [],
   "source": [
    "break_at = [\n",
    "    'help.openai.com',\n",
    "]"
   ]
  },
  {
   "cell_type": "code",
   "execution_count": 19,
   "metadata": {},
   "outputs": [
    {
     "name": "stderr",
     "output_type": "stream",
     "text": [
      " 32%|██████████▉                       | 16228/50496 [00:00<00:00, 79150.32it/s]"
     ]
    },
    {
     "name": "stdout",
     "output_type": "stream",
     "text": [
      "Ralat berlaku. Jika isu ini berterusan, sila hubungi kami melalui pusat bantuan kami di help.openai.com.\n",
      "\n",
      "Ralat berlaku. Jika isu ini berterusan, sila hubungi kami melalui pusat bantuan kami di help.openai.com.\n",
      "\n",
      "Ralat berlaku. Jika isu ini berterusan, sila hubungi kami melalui pusat bantuan kami di help.openai.com. \n",
      "-----\n",
      "\n",
      "Ralat berlaku. Jika isu ini berterusan, sila hubungi kami melalui pusat bantuan kami di help.openai.com. \n",
      "-----\n",
      "\n",
      "Ralat berlaku. Jika isu ini berterusan, sila hubungi kami melalui pusat bantuan kami di help.openai.com. \n",
      "-----\n",
      "\n",
      "Pelayan mengalami ralat semasa memproses permintaan anda. Maaf tentang itu! Anda boleh mencuba semula permintaan anda atau hubungi kami melalui pusat bantuan kami di help.openai.com jika ralat berterusan. \n",
      "-----\n",
      "\n",
      "Pelayan mengalami ralat semasa memproses permintaan anda. Maaf tentang itu! Anda boleh mencuba semula permintaan anda atau hubungi kami melalui pusat bantuan kami di help.openai.com jika ralat berterusan. \n",
      "-----\n",
      "\n",
      "Model itu pada masa ini terlalu sarat dengan permintaan lain. Anda boleh mencuba semula permintaan anda atau hubungi kami melalui pusat bantuan kami di help.openai.com jika ralat berterusan. (Sila sertakan ID permintaan 48392fadd323c505d7efc95e68a9b46d dalam mesej anda.) \n",
      "-----\n",
      "\n",
      "Ralat berlaku. Jika isu ini berterusan, sila hubungi kami melalui pusat bantuan kami di help.openai.com. \n",
      "-----\n",
      "\n",
      "Ralat berlaku. Jika isu ini berterusan, sila hubungi kami melalui pusat bantuan kami di help.openai.com.\n",
      "\n",
      "Ralat berlaku. Jika isu ini berterusan, sila hubungi kami melalui pusat bantuan kami di help.openai.com. \n",
      "-----\n",
      "\n",
      "Anda meminta model yang tidak serasi dengan enjin ini. Sila hubungi kami melalui pusat bantuan kami di help.openai.com untuk pertanyaan lanjut. \n",
      "-----\n",
      "\n",
      "Ralat berlaku. Jika isu ini berterusan, sila hubungi kami melalui pusat bantuan kami di help.openai.com. \n",
      "-----\n",
      "\n",
      "Pelayan mengalami ralat semasa memproses permintaan anda. Maaf tentang itu! Anda boleh mencuba semula permintaan anda atau hubungi kami melalui pusat bantuan kami di help.openai.com jika ralat berterusan. \n",
      "-----\n",
      "\n",
      "Ralat berlaku. Jika isu ini berterusan, sila hubungi kami melalui pusat bantuan kami di help.openai.com. \n",
      "-----\n",
      "\n",
      "Ralat berlaku. Jika isu ini berterusan, sila hubungi kami melalui pusat bantuan kami di help.openai.com. \n",
      "-----\n",
      "\n",
      "Ralat berlaku. Jika isu ini berterusan, sila hubungi kami melalui pusat bantuan kami di help.openai.com. \n",
      "-----\n",
      "\n",
      "Ralat berlaku. Jika isu ini berterusan, sila hubungi kami melalui pusat bantuan kami di help.openai.com. \n",
      "-----\n",
      "\n",
      "Model itu pada masa ini terlalu sarat dengan permintaan lain. Anda boleh mencuba semula permintaan anda atau hubungi kami melalui pusat bantuan kami di help.openai.com jika ralat berterusan. (Sila sertakan ID permintaan 3c12bb49b2666a09d9287a528d8dc35f dalam mesej anda.) \n",
      "-----\n",
      "\n",
      "Ralat berlaku. Jika isu ini berterusan, sila hubungi kami melalui pusat bantuan kami di help.openai.com. \n",
      "-----\n",
      "\n"
     ]
    },
    {
     "name": "stderr",
     "output_type": "stream",
     "text": [
      " 66%|██████████████████████▍           | 33248/50496 [00:00<00:00, 83359.37it/s]"
     ]
    },
    {
     "name": "stdout",
     "output_type": "stream",
     "text": [
      "Ralat berlaku. Jika isu ini berterusan, sila hubungi kami melalui pusat bantuan kami di help.openai.com. \n",
      "-----\n",
      "\n",
      "Anda meminta model yang tidak serasi dengan enjin ini. Sila hubungi kami melalui pusat bantuan kami di help.openai.com untuk pertanyaan lanjut. \n",
      "-----\n",
      "\n",
      "Ralat berlaku. Jika isu ini berterusan, sila hubungi kami melalui pusat bantuan kami di help.openai.com. \n",
      "-----\n",
      "\n",
      "Ralat berlaku. Jika isu ini berterusan, sila hubungi kami melalui pusat bantuan kami di help.openai.com. \n",
      "-----\n",
      "\n",
      "Ralat berlaku. Jika isu ini berterusan, sila hubungi kami melalui pusat bantuan kami di help.openai.com. \n",
      "-----\n",
      "\n",
      "Ralat berlaku. Jika isu ini berterusan, sila hubungi kami melalui pusat bantuan kami di help.openai.com. \n",
      "-----\n",
      "\n",
      "Ralat berlaku. Jika isu ini berterusan, sila hubungi kami melalui pusat bantuan kami di help.openai.com. \n",
      "-----\n",
      "\n",
      "Ralat berlaku. Jika isu ini berterusan, sila hubungi kami melalui pusat bantuan kami di help.openai.com. \n",
      "-----\n",
      "\n"
     ]
    },
    {
     "name": "stderr",
     "output_type": "stream",
     "text": [
      "100%|██████████████████████████████████| 50496/50496 [00:00<00:00, 82728.25it/s]"
     ]
    },
    {
     "name": "stdout",
     "output_type": "stream",
     "text": [
      "Ralat berlaku. Jika isu ini berterusan, sila hubungi kami melalui pusat bantuan kami di help.openai.com. \n",
      "-----\n",
      "\n",
      "Ralat berlaku. Jika isu ini berterusan, sila hubungi kami melalui pusat bantuan kami di help.openai.com.\n",
      "\n",
      "Ralat berlaku. Jika isu ini berterusan, sila hubungi kami melalui pusat bantuan kami di help.openai.com. \n",
      "-----\n",
      "\n",
      "Ralat berlaku. Jika isu ini berterusan, sila hubungi kami melalui pusat bantuan kami di help.openai.com. \n",
      "-----\n",
      "\n",
      "Ralat berlaku. Jika isu ini berterusan, sila hubungi kami melalui pusat bantuan kami di help.openai.com. \n",
      "-----\n",
      "\n"
     ]
    },
    {
     "name": "stderr",
     "output_type": "stream",
     "text": [
      "\n"
     ]
    }
   ],
   "source": [
    "all_texts = []\n",
    "for i in tqdm(range(len(data))):\n",
    "    texts = []\n",
    "    for c in data[i]['conversations']:\n",
    "        if c['user'] == 'human':\n",
    "            t = '<manusia>: '\n",
    "            t += c['text_ms'] if random.random() < 0.6 and c['text_ms'] else c['text']\n",
    "        else:\n",
    "            if c['text_ms'] is None:\n",
    "                break\n",
    "            if any([b in c['text_ms'].lower() for b in break_at]):\n",
    "                print(c['text_ms'], '\\n-----\\n')\n",
    "                break\n",
    "            t = '<bot>: ' + c['text_ms']\n",
    "        texts.append(t)\n",
    "    if len(texts) % 2 != 0:\n",
    "        texts = texts[:-1]\n",
    "    if not len(texts):\n",
    "        continue\n",
    "    while len(texts) and texts[-1].startswith('<manusia>'):\n",
    "        texts = texts[:-1]\n",
    "    if not len(texts):\n",
    "        continue\n",
    "    if not texts[0].startswith('<manusia>'):\n",
    "        continue\n",
    "    all_texts.append('\\n'.join(texts))"
   ]
  },
  {
   "cell_type": "code",
   "execution_count": 20,
   "metadata": {
    "scrolled": true
   },
   "outputs": [
    {
     "data": {
      "text/plain": [
       "42124"
      ]
     },
     "execution_count": 20,
     "metadata": {},
     "output_type": "execute_result"
    }
   ],
   "source": [
    "len(all_texts)"
   ]
  },
  {
   "cell_type": "code",
   "execution_count": 29,
   "metadata": {},
   "outputs": [
    {
     "data": {
      "text/plain": [
       "True"
      ]
     },
     "execution_count": 29,
     "metadata": {},
     "output_type": "execute_result"
    }
   ],
   "source": [
    "'<bot>:' in all_texts[0].split('<manusia>:')[-1]"
   ]
  },
  {
   "cell_type": "code",
   "execution_count": 30,
   "metadata": {},
   "outputs": [],
   "source": [
    "for t in all_texts:\n",
    "    splitted = t.split('<manusia>:')\n",
    "    if '<bot>:' not in splitted[-1]:\n",
    "        print(t)\n",
    "        break"
   ]
  },
  {
   "cell_type": "code",
   "execution_count": 23,
   "metadata": {},
   "outputs": [],
   "source": [
    "with open('theblackcat102-all_texts.jsonl', 'w') as fopen:\n",
    "    for t in all_texts:\n",
    "        fopen.write(f'{json.dumps(t)}\\n')"
   ]
  }
 ],
 "metadata": {
  "kernelspec": {
   "display_name": "Python 3 (ipykernel)",
   "language": "python",
   "name": "python3"
  },
  "language_info": {
   "codemirror_mode": {
    "name": "ipython",
    "version": 3
   },
   "file_extension": ".py",
   "mimetype": "text/x-python",
   "name": "python",
   "nbconvert_exporter": "python",
   "pygments_lexer": "ipython3",
   "version": "3.8.10"
  }
 },
 "nbformat": 4,
 "nbformat_minor": 4
}
