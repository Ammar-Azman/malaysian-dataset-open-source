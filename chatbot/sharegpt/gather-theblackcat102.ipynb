{
 "cells": [
  {
   "cell_type": "code",
   "execution_count": 1,
   "metadata": {},
   "outputs": [
    {
     "data": {
      "text/plain": [
       "['texts-theblackcat102.jsonl07.splitted.requested',\n",
       " 'texts-theblackcat102.jsonl06.splitted.requested',\n",
       " 'texts-theblackcat102.jsonl04.splitted.requested',\n",
       " 'texts-theblackcat102.jsonl05.splitted.requested',\n",
       " 'texts-theblackcat102.jsonl09.splitted.requested',\n",
       " 'texts-theblackcat102.jsonl08.splitted.requested',\n",
       " 'texts-theblackcat102.jsonl03.splitted.requested',\n",
       " 'texts-theblackcat102.jsonl00.splitted.requested',\n",
       " 'texts-theblackcat102.jsonl01.splitted.requested',\n",
       " 'texts-theblackcat102.jsonl02.splitted.requested']"
      ]
     },
     "execution_count": 1,
     "metadata": {},
     "output_type": "execute_result"
    }
   ],
   "source": [
    "import json\n",
    "from tqdm import tqdm\n",
    "from glob import glob\n",
    "\n",
    "files = glob('texts-theblackcat102.jsonl*.splitted.requested')\n",
    "files"
   ]
  },
  {
   "cell_type": "code",
   "execution_count": 3,
   "metadata": {},
   "outputs": [
    {
     "name": "stderr",
     "output_type": "stream",
     "text": [
      "43689it [00:00, 129273.33it/s]\n",
      "42997it [00:00, 175983.72it/s]\n",
      "43511it [00:00, 181184.95it/s]\n",
      "43855it [00:00, 182062.68it/s]\n",
      "43692it [00:00, 146429.25it/s]\n",
      "44009it [00:00, 174850.41it/s]\n",
      "43597it [00:00, 174077.72it/s]\n",
      "43263it [00:00, 177637.37it/s]\n",
      "42995it [00:00, 124379.58it/s]\n",
      "43013it [00:00, 178624.43it/s]\n"
     ]
    }
   ],
   "source": [
    "mapping = {}\n",
    "for f in files:\n",
    "    with open(f) as fopen:\n",
    "        for l in tqdm(fopen):\n",
    "            data = json.loads(l)\n",
    "            mapping[data['src']] = data['r']['result']"
   ]
  },
  {
   "cell_type": "code",
   "execution_count": 4,
   "metadata": {},
   "outputs": [
    {
     "data": {
      "text/plain": [
       "342471"
      ]
     },
     "execution_count": 4,
     "metadata": {},
     "output_type": "execute_result"
    }
   ],
   "source": [
    "len(mapping)"
   ]
  },
  {
   "cell_type": "code",
   "execution_count": 5,
   "metadata": {},
   "outputs": [],
   "source": [
    "data = []\n",
    "with open('train.jsonl') as fopen:\n",
    "    for l in fopen:\n",
    "        data.append(json.loads(l))"
   ]
  },
  {
   "cell_type": "code",
   "execution_count": 6,
   "metadata": {},
   "outputs": [
    {
     "data": {
      "text/plain": [
       "50496"
      ]
     },
     "execution_count": 6,
     "metadata": {},
     "output_type": "execute_result"
    }
   ],
   "source": [
    "len(data)"
   ]
  },
  {
   "cell_type": "code",
   "execution_count": 8,
   "metadata": {},
   "outputs": [],
   "source": [
    "for i in range(len(data)):\n",
    "    for k in range(len(data[i]['conversations'])):\n",
    "        ms = mapping.get(data[i]['conversations'][k]['text'])\n",
    "        data[i]['conversations'][k]['text_ms'] = ms"
   ]
  },
  {
   "cell_type": "code",
   "execution_count": 9,
   "metadata": {},
   "outputs": [
    {
     "data": {
      "text/plain": [
       "{'conversations': [{'user': 'human',\n",
       "   'text': 'Web search results:\\n\\n[1] \"Whatever the reason, starting a membership organization can brighten, serve, or elevate your community. In this guide, we will share six simple steps to get your idea off the ground. Step 1: Define Your Club. Step 2: Create Your Club Structure. Step 3: Organize Your Leadership. Step 4: Figure Out Your Finances.\"\\nSource: https://www.springly.org/en-us/blog/how-to-start-a-members-only-club/\\n\\n[2] \"A successful membership club is one that can offer its members experiences, content, and/or rewards they wont find elsewhere. But getting to this point requires a few key steps—so start taking notes. 1. Decide what kind of club you want to create. The first step in starting a membership club is identifying its purpose and mission.\"\\nSource: https://membershipworks.com/how-to-start-a-membership-club/\\n\\n[3] \"1. Air Amsterdam. AIR opened its doors in Amsterdam in 2010, which is famous for having a vibrant nightlife in all of Netherlands. Moreover, the club has also stated their exceptional need to uphold the important values of tolerance, diversity, creativity, quality, and freedom in this club.\"\\nSource: https://www.nightflow.com/vip-clubs-in-amsterdam/\\n\\n[4] \"The club fosters a non-corporate atmosphere  to preserve this relaxed environment, members should refrain from wearing overtly corporate attire (such as ill-fitting suits  ties)  talking jargon whilst shifting paradigms. Also, to protect the relaxed atmosphere members are to be mindful  courteous of others when taking calls.\"\\nSource: https://adamand.co/en/become-a-member/\\n\\n[5] \"Members must be proposed by at least one club member or endorsed by the club admissions committee. Private or company membership is available too. On admission, a one-off fee of €10,000 is due ...\"\\nSource: https://www.businessinsider.com/europes-most-exclusive-private-members-clubs-2017-10?op=1\\n\\n[6] \"This article explores the basics of starting a private members club, including: The basic structure of a club; Legal formalities; Guidance on the rules for membership; How to manage your club. What is a private members club and why would you want to start one? A private members club is an association dedicated to a particular interest or activity.\"\\nSource: https://burlingtonslegal.com/insight/how-do-you-set-up-a-private-members-club-all-you-need-to-know/\\n\\n[7] \"Amenities in this ultra-exclusive club include five-star restaurants, cinemas, beauty and grooming parlors, office spaces, and private services. All applications can be submitted through the website. If considered, membership requires $2000 annual fee and acceptance by two existing members. ELECTRIC HOUSE LONDON\"\\nSource: https://www.globalglam.com/exclusive-memberships/\\n\\n[8] \"How to become a member: You need to own a property in the area around the clubs grounds, which cost between 1.5m - £18m. Rumoured members: Bill Gates, Justin Timberlake, Jessica Biel, Eric Schmidt (Google), Gisele Bundchen, Ben Affleck, Jennifer Garner. Wait time: Unknown - memberships are limited to 864 households.\"\\nSource: https://thesuccessfulfounder.com/private-members-clubs-the-most-exclusive-and-expensive/\\n\\n[9] \"How to join: Finally, a club without a waiting list. Salon access starts at $695 per year, while private rooms clock in at $3,250 for a group of four. You dont need to become a member; however, annual members do receive preferred rates and special benefits like valet, car detailing, and flexible cancellations.\"\\nSource: https://www.shondaland.com/inspire/a38975410/anna-delvey-exclusive-clubs/\\n\\n[10] \"12 best clubs in Amsterdam. So, youre on the hunt for the best clubs in Amsterdam — where the music is booming and the dancefloor is jumping. Well, youre in luck, because weve compiled a list of the best clubs the Dutch capital has to offer. Amsterdam is known worldwide for its epic nights out.\"\\nSource: https://dutchreview.com/culture/12-best-clubs-in-amsterdam/\\n\\n\\nCurrent date: 17/01/2023\\nInstructions: Using the provided web search results, write a comprehensive reply to the given prompt. Make sure to cite results using [[number](URL)] notation after the reference. If the provided search results refer to multiple subjects with the same name, write separate answers for each subject.\\nPrompt: how to start a members only exclusive club in amsterdam',\n",
       "   'text_ms': 'Hasil carian web:\\n\\n[1] \"Walau apa pun alasannya, memulakan organisasi keahlian boleh mencerahkan, berkhidmat atau meningkatkan komuniti anda. Dalam panduan ini, kami akan berkongsi enam langkah mudah untuk mengeluarkan idea anda. Langkah 1: Tentukan Kelab Anda. Langkah 2: Cipta Struktur Kelab Anda. Langkah 3: Susun Kepimpinan Anda. Langkah 4: Fikirkan Kewangan Anda.\"\\nSumber: https://www.springly.org/en-us/blog/how-to-start-a-members-only-club/\\n\\n[2] \"Kelab keahlian yang berjaya ialah kelab yang boleh menawarkan ahlinya pengalaman, kandungan dan/atau ganjaran yang tidak akan mereka temui di tempat lain. Tetapi untuk sampai ke tahap ini memerlukan beberapa langkah penting—jadi mula mencatat. 1. Tentukan jenis kelab yang anda ingin wujudkan. Langkah pertama dalam memulakan kelab keahlian ialah mengenal pasti tujuan dan misinya.\"\\nSumber: https://membershipworks.com/how-to-start-a-membership-club/\\n\\n[3] \"1. Air Amsterdam. AIR membuka pintunya di Amsterdam pada tahun 2010, yang terkenal dengan kehidupan malam yang meriah di seluruh Belanda. Selain itu, kelab itu juga telah menyatakan keperluan luar biasa mereka untuk menegakkan nilai-nilai penting toleransi, kepelbagaian , kreativiti, kualiti dan kebebasan dalam kelab ini.\"\\nSumber: https://www.nightflow.com/vip-clubs-in-amsterdam/\\n\\n[4] \"Kelab ini memupuk suasana bukan korporat untuk mengekalkan persekitaran santai ini, ahli harus mengelak daripada memakai pakaian korporat secara terang-terangan (seperti tali leher sut yang tidak sesuai) bercakap jargon sambil mengubah paradigma. Selain itu, untuk melindungi suasana santai ahli perlu berwaspada terhadap orang lain apabila menerima panggilan.\"\\nSumber: https://adamand.co/en/become-a-member/\\n\\n[5] \"Ahli mesti dicadangkan oleh sekurang-kurangnya seorang ahli kelab atau disahkan oleh jawatankuasa kemasukan kelab. Keahlian persendirian atau syarikat juga tersedia. Semasa kemasukan, yuran sekali sahaja sebanyak €10,000 perlu dibayar ...\"\\nSumber: https://www.businessinsider.com/europes-most-exclusive-private-members-clubs-2017-10?op=1\\n\\n[6] \"Artikel ini meneroka asas-asas memulakan kelab ahli persendirian, termasuk: Struktur asas kelab; Formaliti undang-undang; Panduan mengenai peraturan untuk keahlian; Cara menguruskan kelab anda. Apakah itu kelab ahli persendirian dan mengapa anda mahu memulakannya? Kelab ahli persendirian ialah persatuan yang didedikasikan untuk minat atau aktiviti tertentu.\"\\nSumber: https://burlingtonslegal.com/insight/how-do-you-set-up-a-private-members-club-all-you-need-to-know/\\n\\n[7] \"Kemudahan dalam kelab ultra-eksklusif ini termasuk restoran lima bintang, pawagam, salon kecantikan dan dandanan, ruang pejabat dan perkhidmatan persendirian. Semua permohonan boleh dikemukakan melalui laman web. Jika dipertimbangkan, keahlian memerlukan yuran tahunan dan penerimaan $2000 oleh dua ahli sedia ada. RUMAH ELEKTRIK LONDON\"\\nSumber: https://www.globalglam.com/exclusive-memberships/\\n\\n[8] \"Cara menjadi ahli: Anda perlu memiliki hartanah di kawasan sekitar kawasan kelab, yang berharga antara 1.5m - £18m. Ahli yang dikhabarkan: Bill Gates, Justin Timberlake, Jessica Biel, Eric Schmidt (Google) , Gisele Bundchen, Ben Affleck, Jennifer Garner. Masa menunggu: Tidak diketahui - keahlian terhad kepada 864 isi rumah.\"\\nSumber: https://thesuccessfulfounder.com/private-members-clubs-the-most-exclusive-and-expensive/\\n\\n[9] \"Cara menyertai: Akhirnya, kelab tanpa senarai menunggu. Akses salon bermula pada $695 setahun, manakala bilik persendirian berharga $3,250 untuk sekumpulan empat orang. Anda tidak perlu menjadi ahli; namun, ahli tahunan menerima kadar pilihan dan faedah istimewa seperti valet, perincian kereta dan pembatalan yang fleksibel.\"\\nSumber: https://www.shondaland.com/inspire/a38975410/anna-delvey-exclusive-clubs/\\n\\n[10] \"12 kelab terbaik di Amsterdam. Jadi, anda sedang memburu kelab terbaik di Amsterdam — di mana muzik berkembang pesat dan lantai tarian melonjak. Nah, anda beruntung, kerana kami telah menyusun senarai kelab terbaik Ibu kota Belanda yang ditawarkan. Amsterdam terkenal di seluruh dunia untuk malam-malam epiknya.\"\\nSumber: https://dutchreview.com/culture/12-best-clubs-in-amsterdam/\\n\\n\\nTarikh semasa: 17/01/2023\\nArahan: Menggunakan hasil carian web yang disediakan, tulis jawapan komprehensif kepada gesaan yang diberikan. Pastikan anda memetik hasil menggunakan notasi [[number](URL)] selepas rujukan. Jika hasil carian yang diberikan merujuk kepada berbilang subjek dengan nama yang sama, tulis jawapan berasingan untuk setiap subjek.\\nPrompt: bagaimana untuk memulakan kelab eksklusif ahli sahaja di amsterdam'},\n",
       "  {'user': 'gpt',\n",
       "   'text': \"report on the process of starting a private membership club, including the steps to take and considerations to keep in mind.\\n\\nStarting a private membership club can be a great way to bring like-minded individuals together and offer them unique experiences and benefits. The process of starting a club involves several key steps, including defining the club's purpose and mission, creating a structure and leadership team, and figuring out the club's finances.\\n\\nStep 1: Define Your Club: The first step in starting a membership club is identifying its purpose and mission. This will help you determine what kind of club you want to create and what kind of members you are looking to attract. It's important to have a clear idea of what you want your club to be and what it will offer to its members.\\n\\nStep 2: Create Your Club Structure: Once you have a clear idea of what your club is, you need to create a structure for it. This includes deciding on the type of club (e.g. social, sport, cultural), setting up a leadership team, and establishing rules and regulations for the club.\\n\\nStep 3: Organize Your Leadership: The next step is to organize your leadership team. This includes identifying key roles within the club such as President, Secretary, and Treasurer, and recruiting individuals to fill these roles.\\n\\nStep 4: Figure Out Your Finances: Another important step is figuring out the club's finances. This includes setting a budget, determining membership fees, and finding ways to generate revenue.\\n\\nIt's important to keep in mind that starting a private membership club may involve legal formalities such as registering the club as a legal entity and obtaining any necessary permits or licenses. It's also important to have clear rules for membership, such as how to apply, how to be accepted or rejected, and how to maintain membership.\\n\\nAdditionally, the membership fee, the type of benefits or services offered, the membership criteria and the acceptance process, the number of members allowed, the location and the atmosphere of the club are all important factors to consider when creating a private membership club. It's also important to be mindful of how to manage your club and make sure that your members are happy and satisfied with their experience.\\n\\n\",\n",
       "   'text_ms': 'melaporkan tentang proses memulakan kelab keahlian persendirian, termasuk langkah-langkah yang perlu diambil dan pertimbangan yang perlu diingat.\\n\\nMemulakan kelab keahlian persendirian boleh menjadi cara terbaik untuk menyatukan individu yang berfikiran sama dan menawarkan pengalaman dan faedah unik kepada mereka. Proses memulakan kelab melibatkan beberapa langkah utama, termasuk menentukan tujuan dan misi kelab, mewujudkan struktur dan pasukan kepimpinan, dan memikirkan kewangan kelab.\\n\\nLangkah 1: Tentukan Kelab Anda: Langkah pertama dalam memulakan kelab keahlian ialah mengenal pasti tujuan dan misinya. Ini akan membantu anda menentukan jenis kelab yang anda ingin buat dan jenis ahli yang anda ingin tarik. Adalah penting untuk mempunyai idea yang jelas tentang apa yang anda inginkan kelab anda dan perkara yang akan ditawarkan kepada ahlinya.\\n\\nLangkah 2: Buat Struktur Kelab Anda: Sebaik sahaja anda mempunyai idea yang jelas tentang kelab anda, anda perlu mencipta struktur untuknya. Ini termasuk menentukan jenis kelab (cth. sosial, sukan, budaya), menubuhkan pasukan kepimpinan, dan mewujudkan peraturan dan peraturan untuk kelab.\\n\\nLangkah 3: Susun Kepimpinan Anda: Langkah seterusnya ialah mengatur pasukan kepimpinan anda. Ini termasuk mengenal pasti peranan penting dalam kelab seperti Presiden, Setiausaha, dan Bendahari, dan merekrut individu untuk mengisi peranan ini.\\n\\nLangkah 4: Tentukan Kewangan Anda: Satu lagi langkah penting ialah memikirkan kewangan kelab. Ini termasuk menetapkan belanjawan, menentukan yuran keahlian dan mencari cara untuk menjana hasil.\\n\\nAdalah penting untuk diingat bahawa memulakan kelab keahlian persendirian mungkin melibatkan formaliti undang-undang seperti mendaftarkan kelab sebagai entiti sah dan mendapatkan sebarang permit atau lesen yang diperlukan. Ia juga penting untuk mempunyai peraturan yang jelas untuk keahlian, seperti cara memohon, cara diterima atau ditolak dan cara mengekalkan keahlian.\\n\\nSelain itu, yuran keahlian, jenis faedah atau perkhidmatan yang ditawarkan, kriteria keahlian dan proses penerimaan, bilangan ahli yang dibenarkan, lokasi dan suasana kelab adalah semua faktor penting untuk dipertimbangkan semasa mewujudkan kelab keahlian persendirian. Ia juga penting untuk mengambil kira cara mengurus kelab anda dan pastikan ahli anda gembira dan berpuas hati dengan pengalaman mereka.'},\n",
       "  {'user': 'human',\n",
       "   'text': 'Continue writing please',\n",
       "   'text_ms': 'Tolong teruskan menulis'},\n",
       "  {'user': 'gpt',\n",
       "   'text': \"Another important factor to consider when starting a private membership club is the type of amenities and services that will be offered to members. Many clubs offer a variety of amenities such as five-star restaurants, cinemas, beauty and grooming parlors, office spaces, and private services. These amenities can help attract new members and keep existing members engaged and satisfied.\\n\\nAnother important aspect to consider is the membership criteria. Some clubs require members to own property in a specific area, while others may have a minimum income requirement. Some clubs have waiting lists while others have no waiting list. It's important to think about what criteria will be used to accept or reject members, and how this will be communicated to potential members.\\n\\nWhen it comes to the location of the club, it's important to consider the atmosphere and ambiance. Some clubs are located in more upscale areas and are known for their luxury and exclusivity, while others may be located in more casual or laid-back areas. The atmosphere of the club can have a significant impact on the member experience, so it's important to think about what kind of atmosphere you want to create and how this will be achieved.\\n\\nFinally, it's important to think about how you will market your club and attract new members. This can include using social media and other digital marketing tactics, as well as traditional marketing methods such as print ads and billboards. It's also important to have a clear and consistent message that communicates the club's value proposition and appeals to potential members.\\n\\nIn conclusion, starting a private membership club can be a great way to bring like-minded individuals together and offer them unique experiences and benefits. The process of starting a club involves several key steps, including defining the club's purpose and mission, creating a structure and leadership team, figuring out the club's finances, and adhering to legal formalities. Other important considerations include the type of amenities offered, membership criteria, location and atmosphere, and marketing strategy. With proper planning and execution, a private membership club can be a successful and rewarding venture.\\n\\n\",\n",
       "   'text_ms': 'Satu lagi faktor penting untuk dipertimbangkan semasa memulakan kelab keahlian persendirian ialah jenis kemudahan dan perkhidmatan yang akan ditawarkan kepada ahli. Banyak kelab menawarkan pelbagai kemudahan seperti restoran lima bintang, pawagam, salon kecantikan dan dandanan, ruang pejabat dan perkhidmatan persendirian. Kemudahan ini boleh membantu menarik ahli baharu dan memastikan ahli sedia ada terlibat dan berpuas hati.\\n\\nSatu lagi aspek penting untuk dipertimbangkan ialah kriteria keahlian. Sesetengah kelab memerlukan ahli untuk memiliki harta di kawasan tertentu, sementara yang lain mungkin mempunyai keperluan pendapatan minimum. Sesetengah kelab mempunyai senarai menunggu manakala yang lain tidak mempunyai senarai menunggu. Adalah penting untuk memikirkan kriteria yang akan digunakan untuk menerima atau menolak ahli, dan cara perkara ini akan disampaikan kepada bakal ahli.\\n\\nApabila bercakap tentang lokasi kelab, adalah penting untuk mengambil kira suasana dan suasana. Sesetengah kelab terletak di kawasan yang lebih mewah dan terkenal dengan kemewahan dan eksklusiviti mereka, manakala yang lain mungkin terletak di kawasan yang lebih kasual atau santai. Suasana kelab boleh memberi impak yang ketara kepada pengalaman ahli, jadi adalah penting untuk memikirkan tentang jenis suasana yang ingin anda wujudkan dan bagaimana ini akan dicapai.\\n\\nAkhir sekali, adalah penting untuk memikirkan bagaimana anda akan memasarkan kelab anda dan menarik ahli baharu. Ini boleh termasuk menggunakan media sosial dan taktik pemasaran digital lain, serta kaedah pemasaran tradisional seperti iklan cetak dan papan iklan. Ia juga penting untuk mempunyai mesej yang jelas dan konsisten yang menyampaikan cadangan nilai kelab dan menarik kepada bakal ahli.\\n\\nKesimpulannya, memulakan kelab keahlian persendirian boleh menjadi cara terbaik untuk menyatukan individu yang berfikiran sama dan menawarkan pengalaman dan faedah unik kepada mereka. Proses memulakan kelab melibatkan beberapa langkah utama, termasuk mentakrifkan tujuan dan misi kelab, mewujudkan struktur dan pasukan kepimpinan, memikirkan kewangan kelab, dan mematuhi formaliti undang-undang. Pertimbangan penting lain termasuk jenis kemudahan yang ditawarkan, kriteria keahlian, lokasi dan suasana serta strategi pemasaran. Dengan perancangan dan pelaksanaan yang betul, kelab keahlian persendirian boleh menjadi usaha yang berjaya dan bermanfaat.'}],\n",
       " 'id': 'w1hGtyw',\n",
       " 'lang': 'en'}"
      ]
     },
     "execution_count": 9,
     "metadata": {},
     "output_type": "execute_result"
    }
   ],
   "source": [
    "data[1]"
   ]
  },
  {
   "cell_type": "code",
   "execution_count": 10,
   "metadata": {},
   "outputs": [],
   "source": [
    "with open('gather-theblackcat102.jsonl', 'w') as fopen:\n",
    "    for d in data:\n",
    "        fopen.write(f'{json.dumps(d)}\\n')"
   ]
  },
  {
   "cell_type": "code",
   "execution_count": 10,
   "metadata": {},
   "outputs": [],
   "source": [
    "import random"
   ]
  },
  {
   "cell_type": "code",
   "execution_count": 11,
   "metadata": {},
   "outputs": [
    {
     "name": "stderr",
     "output_type": "stream",
     "text": [
      "100%|█████████████████████████████████| 94145/94145 [00:00<00:00, 276610.25it/s]\n"
     ]
    }
   ],
   "source": [
    "all_texts = []\n",
    "for i in tqdm(range(len(data))):\n",
    "    texts = []\n",
    "    for c in data[i]['conversations']:\n",
    "        if c['from'] == 'human':\n",
    "            t = '<manusia>: '\n",
    "            t += c['value_ms'] if random.random() < 0.6 and c['value_ms'] else c['value']\n",
    "        else:\n",
    "            if c['value_ms'] is None:\n",
    "                break\n",
    "            t = '<bot>: ' + c['value_ms']\n",
    "        texts.append(t)\n",
    "    if len(texts) % 2 != 0:\n",
    "        texts = texts[:-1]\n",
    "    if not len(texts):\n",
    "        continue\n",
    "    if not texts[0].startswith('<manusia>'):\n",
    "        continue\n",
    "    all_texts.append('\\n'.join(texts))"
   ]
  },
  {
   "cell_type": "code",
   "execution_count": 12,
   "metadata": {},
   "outputs": [
    {
     "data": {
      "text/plain": [
       "46657"
      ]
     },
     "execution_count": 12,
     "metadata": {},
     "output_type": "execute_result"
    }
   ],
   "source": [
    "len(all_texts)"
   ]
  },
  {
   "cell_type": "code",
   "execution_count": 13,
   "metadata": {},
   "outputs": [],
   "source": [
    "with open('vicuna-all_texts.jsonl', 'w') as fopen:\n",
    "    for t in all_texts:\n",
    "        fopen.write(f'{json.dumps(t)}\\n')"
   ]
  }
 ],
 "metadata": {
  "kernelspec": {
   "display_name": "Python 3 (ipykernel)",
   "language": "python",
   "name": "python3"
  },
  "language_info": {
   "codemirror_mode": {
    "name": "ipython",
    "version": 3
   },
   "file_extension": ".py",
   "mimetype": "text/x-python",
   "name": "python",
   "nbconvert_exporter": "python",
   "pygments_lexer": "ipython3",
   "version": "3.8.10"
  }
 },
 "nbformat": 4,
 "nbformat_minor": 4
}
