{
 "cells": [
  {
   "cell_type": "code",
   "execution_count": 10,
   "id": "50cad693",
   "metadata": {},
   "outputs": [],
   "source": [
    "from glob import glob\n",
    "import pandas as pd\n",
    "from tqdm import tqdm"
   ]
  },
  {
   "cell_type": "code",
   "execution_count": 19,
   "id": "190b2d59",
   "metadata": {
    "scrolled": true
   },
   "outputs": [
    {
     "data": {
      "text/plain": [
       "['data/train_sft-00002-of-00003-ee46ed25cfae92c6.parquet',\n",
       " 'data/train_sft-00001-of-00003-0a1804bcb6ae68c6.parquet',\n",
       " 'data/test_sft-00000-of-00001-f7dfac4afe5b93f4.parquet',\n",
       " 'data/train_sft-00000-of-00003-a3ecf92756993583.parquet']"
      ]
     },
     "execution_count": 19,
     "metadata": {},
     "output_type": "execute_result"
    }
   ],
   "source": [
    "files = glob('data/*sft*.parquet')\n",
    "files"
   ]
  },
  {
   "cell_type": "code",
   "execution_count": 20,
   "id": "ed21349b",
   "metadata": {},
   "outputs": [
    {
     "name": "stderr",
     "output_type": "stream",
     "text": [
      "100%|███████████████████████████████████████████████████████████████████████████████████████████████████| 69288/69288 [00:00<00:00, 214925.17it/s]\n",
      "100%|███████████████████████████████████████████████████████████████████████████████████████████████████| 69288/69288 [00:00<00:00, 235316.12it/s]\n",
      "100%|███████████████████████████████████████████████████████████████████████████████████████████████████| 23110/23110 [00:00<00:00, 197961.71it/s]\n",
      "100%|███████████████████████████████████████████████████████████████████████████████████████████████████| 69289/69289 [00:00<00:00, 250172.71it/s]\n"
     ]
    },
    {
     "data": {
      "text/plain": [
       "1461472"
      ]
     },
     "execution_count": 20,
     "metadata": {},
     "output_type": "execute_result"
    }
   ],
   "source": [
    "texts = []\n",
    "for f in files:\n",
    "    df = pd.read_parquet(f)\n",
    "    for i in tqdm(range(len(df))):\n",
    "        row = df['messages'].iloc[i]\n",
    "        for k in range(len(row)):\n",
    "            texts.append(row[k]['content'])\n",
    "            \n",
    "texts = list(set(texts))\n",
    "len(texts) "
   ]
  },
  {
   "cell_type": "code",
   "execution_count": 21,
   "id": "9a0bc46c",
   "metadata": {},
   "outputs": [],
   "source": [
    "import json\n",
    "\n",
    "with open('texts.jsonl', 'w') as fopen:\n",
    "    for t in texts:\n",
    "        fopen.write(f'{json.dumps(t)}\\n')"
   ]
  },
  {
   "cell_type": "code",
   "execution_count": 24,
   "id": "4a23452f",
   "metadata": {},
   "outputs": [],
   "source": [
    "!split -l 100000 -d --additional-suffix=.splitted texts.jsonl texts.jsonl"
   ]
  },
  {
   "cell_type": "code",
   "execution_count": 23,
   "id": "caab63b2",
   "metadata": {},
   "outputs": [],
   "source": [
    "!cp ../ultrachat/r.py ."
   ]
  }
 ],
 "metadata": {
  "kernelspec": {
   "display_name": "Python 3 (ipykernel)",
   "language": "python",
   "name": "python3"
  },
  "language_info": {
   "codemirror_mode": {
    "name": "ipython",
    "version": 3
   },
   "file_extension": ".py",
   "mimetype": "text/x-python",
   "name": "python",
   "nbconvert_exporter": "python",
   "pygments_lexer": "ipython3",
   "version": "3.8.10"
  }
 },
 "nbformat": 4,
 "nbformat_minor": 5
}
