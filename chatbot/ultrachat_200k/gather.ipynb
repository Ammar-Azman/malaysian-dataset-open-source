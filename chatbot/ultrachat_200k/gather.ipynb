{
 "cells": [
  {
   "cell_type": "code",
   "execution_count": 20,
   "id": "714dc627",
   "metadata": {},
   "outputs": [],
   "source": [
    "from glob import glob\n",
    "from tqdm import tqdm\n",
    "import pandas as pd\n",
    "import json\n",
    "import os"
   ]
  },
  {
   "cell_type": "code",
   "execution_count": 2,
   "id": "a3fb2340",
   "metadata": {},
   "outputs": [
    {
     "data": {
      "text/plain": [
       "['data/train_sft-00002-of-00003-ee46ed25cfae92c6.parquet',\n",
       " 'data/train_sft-00001-of-00003-0a1804bcb6ae68c6.parquet',\n",
       " 'data/test_sft-00000-of-00001-f7dfac4afe5b93f4.parquet',\n",
       " 'data/train_sft-00000-of-00003-a3ecf92756993583.parquet']"
      ]
     },
     "execution_count": 2,
     "metadata": {},
     "output_type": "execute_result"
    }
   ],
   "source": [
    "files = glob('data/*sft*.parquet')\n",
    "files"
   ]
  },
  {
   "cell_type": "code",
   "execution_count": 9,
   "id": "72c62e2b",
   "metadata": {},
   "outputs": [
    {
     "data": {
      "text/plain": [
       "1443861"
      ]
     },
     "execution_count": 9,
     "metadata": {},
     "output_type": "execute_result"
    }
   ],
   "source": [
    "mapping = {}\n",
    "for f in glob('texts.jsonl*.splitted.requested'):\n",
    "    with open(f) as fopen:\n",
    "        for l in fopen:\n",
    "            try:\n",
    "                l = json.loads(l)\n",
    "\n",
    "                if 'Source text\\nclear\\nLook up details' in l['r']['result']:\n",
    "                    continue\n",
    "                if 'clear\\nLook up details' in l['r']['result']:\n",
    "                    continue\n",
    "                if l['r']['result'].startswith('Source text\\n'):\n",
    "                    continue\n",
    "\n",
    "                mapping[l['src']] = l['r']['result']\n",
    "            except:\n",
    "                pass\n",
    "len(mapping)"
   ]
  },
  {
   "cell_type": "code",
   "execution_count": 24,
   "id": "ca9253fb",
   "metadata": {},
   "outputs": [
    {
     "name": "stderr",
     "output_type": "stream",
     "text": [
      "100%|██████████████████████████████████| 69288/69288 [00:02<00:00, 25552.32it/s]\n",
      "100%|██████████████████████████████████| 69288/69288 [00:02<00:00, 26694.45it/s]\n",
      "100%|██████████████████████████████████| 23110/23110 [00:00<00:00, 26195.68it/s]\n",
      "100%|██████████████████████████████████| 69289/69289 [00:02<00:00, 27895.34it/s]\n"
     ]
    }
   ],
   "source": [
    "for f in files:\n",
    "    df = pd.read_parquet(f)\n",
    "    f = os.path.split(f)[1].replace('.parquet', '.jsonl')\n",
    "    with open(f, 'w') as fopen:\n",
    "        for i in tqdm(range(len(df))):\n",
    "            row = df['messages'].iloc[i].tolist()\n",
    "            for k in range(len(row)):\n",
    "                row[k]['content_ms'] = mapping.get(row[k]['content'])\n",
    "            \n",
    "            fopen.write(f'{json.dumps(row)}\\n')"
   ]
  }
 ],
 "metadata": {
  "kernelspec": {
   "display_name": "Python 3 (ipykernel)",
   "language": "python",
   "name": "python3"
  },
  "language_info": {
   "codemirror_mode": {
    "name": "ipython",
    "version": 3
   },
   "file_extension": ".py",
   "mimetype": "text/x-python",
   "name": "python",
   "nbconvert_exporter": "python",
   "pygments_lexer": "ipython3",
   "version": "3.8.10"
  }
 },
 "nbformat": 4,
 "nbformat_minor": 5
}
