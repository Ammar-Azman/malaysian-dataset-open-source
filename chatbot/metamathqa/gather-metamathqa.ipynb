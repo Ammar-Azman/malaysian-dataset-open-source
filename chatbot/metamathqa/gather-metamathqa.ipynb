{
 "cells": [
  {
   "cell_type": "code",
   "execution_count": 1,
   "metadata": {},
   "outputs": [],
   "source": [
    "# !wget https://huggingface.co/datasets/meta-math/MetaMathQA/resolve/main/MetaMathQA-395K.json"
   ]
  },
  {
   "cell_type": "code",
   "execution_count": 2,
   "metadata": {},
   "outputs": [],
   "source": [
    "import json\n",
    "\n",
    "with open('MetaMathQA-395K.json') as fopen:\n",
    "    data = json.load(fopen)"
   ]
  },
  {
   "cell_type": "code",
   "execution_count": 3,
   "metadata": {},
   "outputs": [
    {
     "data": {
      "text/plain": [
       "395000"
      ]
     },
     "execution_count": 3,
     "metadata": {},
     "output_type": "execute_result"
    }
   ],
   "source": [
    "len(data)"
   ]
  },
  {
   "cell_type": "code",
   "execution_count": 6,
   "metadata": {},
   "outputs": [
    {
     "data": {
      "text/plain": [
       "529168"
      ]
     },
     "execution_count": 6,
     "metadata": {},
     "output_type": "execute_result"
    }
   ],
   "source": [
    "from glob import glob\n",
    "\n",
    "files = glob('metamathqa.jsonl*.splitted.requested')\n",
    "mapping = {}\n",
    "for f in files:\n",
    "    with open(f) as fopen:\n",
    "        for l in fopen:\n",
    "            l = json.loads(l)\n",
    "            mapping[l['src']] = l['r']['result']\n",
    "len(mapping)"
   ]
  },
  {
   "cell_type": "code",
   "execution_count": 8,
   "metadata": {},
   "outputs": [],
   "source": [
    "with open('metamathqa.jsonl', 'w') as fopen:\n",
    "    for d in data:\n",
    "        d['query_ms'] = mapping.get(d['query'])\n",
    "        d['response_ms'] = mapping.get(d['response'])\n",
    "        fopen.write(f'{json.dumps(d)}\\n')"
   ]
  },
  {
   "cell_type": "code",
   "execution_count": 9,
   "metadata": {},
   "outputs": [
    {
     "data": {
      "text/plain": [
       "{'query': 'If Daniel practices basketball for 15 minutes each day during the school week and twice as long each day on the weekend, what is the total number of minutes he practices during a whole week?',\n",
       " 'response': '\\n\\nDuring the school week, Daniel practices for 15 minutes each day, so he practices 15 minutes x 5 days = 75 minutes in total.\\n\\nOn the weekend, he practices twice as long each day, so he practices 15 minutes x 2 = 30 minutes each day.\\n\\nTherefore, on the weekend, he practices for 30 minutes x 2 days = 60 minutes in total.\\n\\nIn total, during the whole week, Daniel practices for 75 minutes + 60 minutes = 135 minutes.\\n\\n#### 135\\nThe answer is: 135',\n",
       " 'type': 'GSM_Rephrased',\n",
       " 'query_ms': 'Jika Daniel berlatih bola keranjang selama 15 minit setiap hari semasa minggu persekolahan dan dua kali lebih lama setiap hari pada hujung minggu, berapakah jumlah minit yang dia berlatih sepanjang minggu?',\n",
       " 'response_ms': 'Semasa minggu persekolahan, Daniel berlatih selama 15 minit setiap hari, jadi dia berlatih 15 minit x 5 hari = 75 minit kesemuanya.\\n\\nPada hujung minggu, dia berlatih dua kali lebih lama setiap hari, jadi dia berlatih 15 minit x 2 = 30 minit setiap hari.\\n\\nOleh itu, pada hujung minggu, beliau berlatih selama 30 minit x 2 hari = 60 minit kesemuanya.\\n\\nSecara keseluruhan, sepanjang minggu, Daniel berlatih selama 75 minit + 60 minit = 135 minit.\\n\\n#### 135\\nJawapannya ialah: 135'}"
      ]
     },
     "execution_count": 9,
     "metadata": {},
     "output_type": "execute_result"
    }
   ],
   "source": [
    "d"
   ]
  }
 ],
 "metadata": {
  "kernelspec": {
   "display_name": "Python 3 (ipykernel)",
   "language": "python",
   "name": "python3"
  },
  "language_info": {
   "codemirror_mode": {
    "name": "ipython",
    "version": 3
   },
   "file_extension": ".py",
   "mimetype": "text/x-python",
   "name": "python",
   "nbconvert_exporter": "python",
   "pygments_lexer": "ipython3",
   "version": "3.8.10"
  }
 },
 "nbformat": 4,
 "nbformat_minor": 4
}
