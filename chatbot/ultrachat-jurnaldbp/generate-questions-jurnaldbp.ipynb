{
 "cells": [
  {
   "cell_type": "code",
   "execution_count": 1,
   "id": "37427739",
   "metadata": {},
   "outputs": [
    {
     "name": "stderr",
     "output_type": "stream",
     "text": [
      "/home/husein/.local/lib/python3.8/site-packages/requests/__init__.py:102: RequestsDependencyWarning: urllib3 (1.26.15) or chardet (5.2.0)/charset_normalizer (2.0.7) doesn't match a supported version!\n",
      "  warnings.warn(\"urllib3 ({}) or chardet ({})/charset_normalizer ({}) doesn't match a supported \"\n",
      "/home/husein/dev/malaya/malaya/tokenizer.py:214: FutureWarning: Possible nested set at position 3397\n",
      "  self.tok = re.compile(r'({})'.format('|'.join(pipeline)))\n",
      "/home/husein/dev/malaya/malaya/tokenizer.py:214: FutureWarning: Possible nested set at position 3927\n",
      "  self.tok = re.compile(r'({})'.format('|'.join(pipeline)))\n"
     ]
    }
   ],
   "source": [
    "import openai\n",
    "import instructor\n",
    "import json\n",
    "import os\n",
    "import malaya\n",
    "from pydantic import BaseModel, Field\n",
    "from bs4 import BeautifulSoup\n",
    "from concurrent.futures import ThreadPoolExecutor, as_completed\n",
    "from unidecode import unidecode\n",
    "import re\n",
    "\n",
    "minimum_len = 15\n",
    "\n",
    "def simple_cleaning(string):\n",
    "    return re.sub(r'[ ]+', ' ', unidecode(string).replace('\\n', ' ').replace('--', ' ').replace('/', ' ')).strip()"
   ]
  },
  {
   "cell_type": "code",
   "execution_count": 2,
   "id": "dec8bc8a",
   "metadata": {},
   "outputs": [],
   "source": [
    "openai.api_type = 'azure'\n",
    "openai.api_base = 'https://nous.openai.azure.com/'\n",
    "openai.api_version = '2023-07-01-preview'\n",
    "openai.api_key = ''"
   ]
  },
  {
   "cell_type": "code",
   "execution_count": 3,
   "id": "ac6f5d47",
   "metadata": {},
   "outputs": [],
   "source": [
    "engine = 'nous'"
   ]
  },
  {
   "cell_type": "code",
   "execution_count": 4,
   "id": "b53354d9",
   "metadata": {},
   "outputs": [],
   "source": [
    "def predict(text):\n",
    "    try:\n",
    "        messages = [\n",
    "            {\"role\": \"user\", \"content\": text},\n",
    "        ]\n",
    "        response = openai.ChatCompletion.create(\n",
    "            engine=engine,\n",
    "            messages=messages,\n",
    "            temperature=0.7,\n",
    "            max_tokens=1024,\n",
    "            top_p=0.95,\n",
    "        )\n",
    "        return response.choices[0]['message']['content']\n",
    "    except Exception as e:\n",
    "        print(e)\n",
    "        return None"
   ]
  },
  {
   "cell_type": "code",
   "execution_count": 5,
   "id": "b5020de2",
   "metadata": {},
   "outputs": [
    {
     "data": {
      "text/plain": [
       "6676"
      ]
     },
     "execution_count": 5,
     "metadata": {},
     "output_type": "execute_result"
    }
   ],
   "source": [
    "data = []\n",
    "with open('paragraph-jurnaldbp.jsonl') as fopen:\n",
    "    for l in fopen:\n",
    "        data.append({\n",
    "            'paragraph': json.loads(l)\n",
    "        })\n",
    "        \n",
    "len(data)"
   ]
  },
  {
   "cell_type": "code",
   "execution_count": 6,
   "id": "a6a47abf",
   "metadata": {},
   "outputs": [
    {
     "data": {
      "text/plain": [
       "{'paragraph': '288                      KANUN     [DISEMBER 2014][ULASAN BUKU]ULASAN BUKU Mohd Bakri IshakUndang-undang dan Pengurusan Sisa Industri di Malaysia dan Eropah, 2013.180 halaman, ISBN9789834610135Pengulas: Shamsuddin Suhor                 sudin@ukm.edu.myFakulti Undang-undang,Universiti Kebangsaan Malaysia,43650 Bangi, Selangor Darul Ehsan, MALAYSIA.Buku ini mengandungi 12 bab yang memperkatakan pelbagai perkara berkaitan dengan sisa industri.  Setiap bab dilihat mampu berdiri dengan sendiri bagi menceritakan sesuatu yang berkaitan dengan sisa, sama ada sisa dari sudut falsafah seperti yang dijelaskan dalam Bab 2, atau sisa industri dari sudut perundangan yang melibatkan Bab 3, 4, 5 dan 6, atau pengurusan sisa industri melalui pendekatan bukan perundangan seperti dalam Bab 9, 10, dan 11.  Seterusnya buku ini membincangkan kes yang menyentuh isu pencemaran alam sekitar secara umum dan/atau yang khusus mengenai sisa industri yang telah diputuskan oleh mahkamah di negara ini seperti yang dibincangkan dalam Bab 7 dan 8 buku ini.  Penulis dalam Bab 12, membuat sedikit ulasan ringkas dan padat tentang peruntukan Dasar Alam Sekitar Negara yang telah diluluskan oleh kerajaan bagi menyokong keperluan dan kepentingan kewujudan perundangan alam sekitar di negara ini.Terdapat tiga perkara utama yang dibincangkan oleh penulis dalam buku ini, iaitu pertama, memahami falsafah alam sekitar secara umum; kedua, peruntukan undang-undang alam sekitar; dan ketiga, pengurusan persekitaran dan alam sekeliling.  Ketiga-tiga perkara ini kemudiannya diarahkan kepada satu isu sahaja, iaitu sisa. Dalam pelbagai maksud sisa yang terdapat dalam peristilahan alam sekitar ini, sisa yang dimaksudkan dalam perbincangan buku ini ialah sisa industri. Penulis kemudiannya membawa pembaca untuk melihat perkembangan yang berlaku di luar negara dengan membuat perbandingan antara Malaysia dengan Eropah, iaitu  cara atau kaedah sisa ini diuruskan dari sudut perundangan dan bukan perundangan.  Tajuk buku ini Undang-undang dan Pengurusan Sisa Industri di Malaysia dan Eropah membawa maklumat yang berkisar tentang pengurusan sisa industri di Malaysia dan Eropah yang menyentuh dari sudut perundangan semata-mata.25 KANUN (2) 289Undang-undang dan Pengurusan Sisa Industri di Malaysia dan EropahShamsuddin SuhorBuku ini menyentuh erti alam sekitar dan falsafah di sebalik pentingnya perlindungan terhadap alam sekitar.  Penerangan tentang aspek ini dibuat secara ringkas dengan membawa masuk soal nilai (instrumental, inheren dan intrinsik) dan soal etika (etika alam sekitar, antroposentrik, biosentrik dan ekosentrik). Cara ini memudahkan pembaca mendapat sedikit gambaran tentang falsafah alam sekitar tanpa merujuk tulisan asal bidang berkenaan oleh penulis seperti Edwin W.Tucker (1992), James Connelly dan Graham Smith (1995), Passmore (1974), Hargrove (1989) atau Van Dee Veer (1979). Semua pandangan penulis tersebut dimuatkan dalam Bab 2.  Turut dimasukkan secara ringkas tiga tradisi moral alam sekitar, iaitu pengawasan (stewardship), utilitarianisme dan pemaknaan kehidupan atau penghormatan kepada kehidupan.  Penerangan dalam bahagian ini terlalu ringkas dan ada kemungkinan menimbulkan tanda tanya kepada pembaca maksud yang cuba hendak disampaikan oleh penulis.  Walau bagaimanapun Bab 2 bahagian falsafah alam sekitar ini membawa pembaca memahami kepentingan alam sekitar dari sudut falsafahnya secara umum.Topik tentang sisa, sisa buangan dan atau sisa industri terdapat dalam Bab 3.  Penulis memberikan takrif umum dan spesifik kepada ungkapan tersebut berdasarkan peruntukan undang-undang bertulis yang terpakai di negara ini dan juga perundangan di luar negara di samping penjelasan yang dibuat oleh penulis buku bidang berkenaan seperti Neil Hawke (1995), Stuart Bell dan McGillivary (2001), dan John Garbut (1995). Penjelasan yang dibuat secara terperinci oleh penulis dengan merujuk buku-buku dan himpunan penulis luar yang ramai membolehkan pembaca memahami dan membezakan setiap satu ungkapan berkenaan.  Hal ini sangat membantu pembaca untuk memahami erti sisa dalam erti kata yang luas.Sisa dan bukan sisa dikenal pasti melalui penjenisan atau pengkategorian yang dibuat melalui tafsiran undang-undang.  Sisa atau buangan yang terhasil atau yang dijana oleh industri perlu diuruskan sebaik mungkin sama ada mengikut amalan biasa yang terbaik atau peruntukan undang-undang yang dibuat mengenai pengurusannya. Buku ini melalui Bab 3 menceritakan pengurusan sisa industri dilakukan berdasarkan lima garis panduan, iaitu pengelakan (prevention), kitar semula dan guna semula, pengoptimum dan pelupusan akhir, pengangkutan dan tindakan pemulihan. Salah satu sisa industri yang turut dibincangkan agak panjang lebar dalam buku ini adalah yang berkaitan dengan sisa peralatan elektrik dan elektronik.  Perkara ini telah diketengahkan oleh penulis kerana sisa peralatan elektrik dan elektronik tidak disebut dalam perundangan di Malaysia secara khusus.  Bab 10 buku ini telah memberikan suatu gambaran umum pengurusan sisa berkenaan apabila penulis menyentuh perbincangannya mengenai dasar Kesatuan Eropah (EC) berkaitan sisa berkenaan dalam Directive 2002/96 EC of the European Parliament and of the Council on Waste Electrical and 290                      KANUN     [DISEMBER 2014]Electronic Equipment (WEEE)(Brussels, 27 January 2003) sebagai suatu makluman penting kepada pembaca.Semua urusan pengendalian sisa sama ada sisa buangan atau sisa industri kini dibuat berdasarkan undang-undang sedia ada dan hal ini dijelaskan oleh penulis dengan melihat amalan di Malaysia yang dibincangkan dalam Bab 4 dan 5.   Perundangan berkaitan dengan alam sekitar dan kawalan pencemaran disenaraikan oleh penulis dan dibuat ulasan mengenainya dengan jelas seperti Akta Kualiti Alam Sekeliling 1975, Akta Kerajaan Tempatan 1979 serta undang-undang kecil atau peraturan-peraturan yang dibuat di bawah Akta berkenaan.  Beberapa buah industri turut dikenal pasti seperti kilang kelapa sawit dan kilang getah yang terlibat dalam pelepasan buangan mempunyai peruntukan undang-undangnya tersendiri yang terikat di bawah Akta Kualiti Alam Sekeliling 1975 yang mengawal setiap aktivitinya.  Memandangkan buku ini bersifat perbandingan, penulis membawa masuk amalan pengurusan sisa industri di Eropah seperti United Kingdom dan Sepanyol, dan turut serta dimasukkan ialah Amerika Syarikat.  Penulis juga merujuk undang-undang bertulis yang terdapat di negara berkenaan seperti Control of Pollution Act 1974 dan Environmental Protection Act 1990 (United Kingdom), The Comprehensive Environmental Response, Compensation and Liability Act 1980 (Amerika Syarikat) serta piawaian dan peraturan berkaitan pengurusan sisa industri dan perse'}"
      ]
     },
     "execution_count": 6,
     "metadata": {},
     "output_type": "execute_result"
    }
   ],
   "source": [
    "data[0]"
   ]
  },
  {
   "cell_type": "code",
   "execution_count": 7,
   "id": "a12e45c9",
   "metadata": {},
   "outputs": [],
   "source": [
    "!mkdir question-jurnaldbp"
   ]
  },
  {
   "cell_type": "code",
   "execution_count": 8,
   "id": "12bd1d59",
   "metadata": {},
   "outputs": [],
   "source": [
    "def generate(filename, l):\n",
    "    if os.path.exists(filename):\n",
    "        return\n",
    "    \n",
    "    s = f\"\"\"\n",
    "{l['paragraph']}\n",
    "\n",
    "generate a question related to the context\n",
    "\"\"\"\n",
    "    s = s.strip()\n",
    "    r = predict(s)\n",
    "    l['question'] = r\n",
    "\n",
    "    with open(filename, 'w') as fopen:\n",
    "        json.dump(l, fopen)"
   ]
  },
  {
   "cell_type": "code",
   "execution_count": 9,
   "id": "92ea4aac",
   "metadata": {},
   "outputs": [],
   "source": [
    "generate('question-jurnaldbp/0.json', data[0])"
   ]
  },
  {
   "cell_type": "code",
   "execution_count": 11,
   "id": "832ffcde",
   "metadata": {},
   "outputs": [
    {
     "name": "stderr",
     "output_type": "stream",
     "text": [
      "  6%|██                                    | 184/3338 [04:49<1:21:08,  1.54s/it]"
     ]
    },
    {
     "name": "stdout",
     "output_type": "stream",
     "text": [
      "The response was filtered due to the prompt triggering Azure OpenAI's content management policy. Please modify your prompt and retry. To learn more about our content filtering policies please read our documentation: https://go.microsoft.com/fwlink/?linkid=2198766\n"
     ]
    },
    {
     "name": "stderr",
     "output_type": "stream",
     "text": [
      "  7%|██▋                                   | 241/3338 [06:18<1:20:35,  1.56s/it]"
     ]
    },
    {
     "name": "stdout",
     "output_type": "stream",
     "text": [
      "The response was filtered due to the prompt triggering Azure OpenAI's content management policy. Please modify your prompt and retry. To learn more about our content filtering policies please read our documentation: https://go.microsoft.com/fwlink/?linkid=2198766\n"
     ]
    },
    {
     "name": "stderr",
     "output_type": "stream",
     "text": [
      "  9%|███▏                                  | 285/3338 [07:30<1:19:37,  1.56s/it]"
     ]
    },
    {
     "name": "stdout",
     "output_type": "stream",
     "text": [
      "The response was filtered due to the prompt triggering Azure OpenAI's content management policy. Please modify your prompt and retry. To learn more about our content filtering policies please read our documentation: https://go.microsoft.com/fwlink/?linkid=2198766\n"
     ]
    },
    {
     "name": "stderr",
     "output_type": "stream",
     "text": [
      " 16%|██████▏                               | 541/3338 [14:17<1:15:08,  1.61s/it]"
     ]
    },
    {
     "name": "stdout",
     "output_type": "stream",
     "text": [
      "The response was filtered due to the prompt triggering Azure OpenAI's content management policy. Please modify your prompt and retry. To learn more about our content filtering policies please read our documentation: https://go.microsoft.com/fwlink/?linkid=2198766\n"
     ]
    },
    {
     "name": "stderr",
     "output_type": "stream",
     "text": [
      " 16%|██████▏                               | 549/3338 [14:29<1:12:16,  1.55s/it]"
     ]
    },
    {
     "name": "stdout",
     "output_type": "stream",
     "text": [
      "The response was filtered due to the prompt triggering Azure OpenAI's content management policy. Please modify your prompt and retry. To learn more about our content filtering policies please read our documentation: https://go.microsoft.com/fwlink/?linkid=2198766\n"
     ]
    },
    {
     "name": "stderr",
     "output_type": "stream",
     "text": [
      " 17%|██████▎                               | 554/3338 [14:38<1:16:41,  1.65s/it]"
     ]
    },
    {
     "name": "stdout",
     "output_type": "stream",
     "text": [
      "The response was filtered due to the prompt triggering Azure OpenAI's content management policy. Please modify your prompt and retry. To learn more about our content filtering policies please read our documentation: https://go.microsoft.com/fwlink/?linkid=2198766\n"
     ]
    },
    {
     "name": "stderr",
     "output_type": "stream",
     "text": [
      " 18%|██████▋                               | 590/3338 [15:34<1:11:14,  1.56s/it]"
     ]
    },
    {
     "name": "stdout",
     "output_type": "stream",
     "text": [
      "'content'\n"
     ]
    },
    {
     "name": "stderr",
     "output_type": "stream",
     "text": [
      " 18%|██████▉                               | 608/3338 [16:03<1:14:15,  1.63s/it]"
     ]
    },
    {
     "name": "stdout",
     "output_type": "stream",
     "text": [
      "The response was filtered due to the prompt triggering Azure OpenAI's content management policy. Please modify your prompt and retry. To learn more about our content filtering policies please read our documentation: https://go.microsoft.com/fwlink/?linkid=2198766\n"
     ]
    },
    {
     "name": "stderr",
     "output_type": "stream",
     "text": [
      " 21%|███████▉                              | 693/3338 [18:21<1:08:22,  1.55s/it]"
     ]
    },
    {
     "name": "stdout",
     "output_type": "stream",
     "text": [
      "The response was filtered due to the prompt triggering Azure OpenAI's content management policy. Please modify your prompt and retry. To learn more about our content filtering policies please read our documentation: https://go.microsoft.com/fwlink/?linkid=2198766\n"
     ]
    },
    {
     "name": "stderr",
     "output_type": "stream",
     "text": [
      " 31%|███████████▎                         | 1019/3338 [27:02<1:01:18,  1.59s/it]"
     ]
    },
    {
     "name": "stdout",
     "output_type": "stream",
     "text": [
      "The response was filtered due to the prompt triggering Azure OpenAI's content management policy. Please modify your prompt and retry. To learn more about our content filtering policies please read our documentation: https://go.microsoft.com/fwlink/?linkid=2198766\n"
     ]
    },
    {
     "name": "stderr",
     "output_type": "stream",
     "text": [
      " 34%|█████████████▏                         | 1133/3338 [30:03<56:49,  1.55s/it]"
     ]
    },
    {
     "name": "stdout",
     "output_type": "stream",
     "text": [
      "The response was filtered due to the prompt triggering Azure OpenAI's content management policy. Please modify your prompt and retry. To learn more about our content filtering policies please read our documentation: https://go.microsoft.com/fwlink/?linkid=2198766\n"
     ]
    },
    {
     "name": "stderr",
     "output_type": "stream",
     "text": [
      " 38%|██████████████▋                        | 1252/3338 [33:11<54:58,  1.58s/it]"
     ]
    },
    {
     "name": "stdout",
     "output_type": "stream",
     "text": [
      "The response was filtered due to the prompt triggering Azure OpenAI's content management policy. Please modify your prompt and retry. To learn more about our content filtering policies please read our documentation: https://go.microsoft.com/fwlink/?linkid=2198766\n"
     ]
    },
    {
     "name": "stderr",
     "output_type": "stream",
     "text": [
      " 42%|████████████████▏                      | 1387/3338 [36:49<52:36,  1.62s/it]"
     ]
    },
    {
     "name": "stdout",
     "output_type": "stream",
     "text": [
      "The response was filtered due to the prompt triggering Azure OpenAI's content management policy. Please modify your prompt and retry. To learn more about our content filtering policies please read our documentation: https://go.microsoft.com/fwlink/?linkid=2198766\n"
     ]
    },
    {
     "name": "stderr",
     "output_type": "stream",
     "text": [
      " 47%|██████████████████▎                    | 1565/3338 [41:31<44:11,  1.50s/it]"
     ]
    },
    {
     "name": "stdout",
     "output_type": "stream",
     "text": [
      "The response was filtered due to the prompt triggering Azure OpenAI's content management policy. Please modify your prompt and retry. To learn more about our content filtering policies please read our documentation: https://go.microsoft.com/fwlink/?linkid=2198766\n"
     ]
    },
    {
     "name": "stderr",
     "output_type": "stream",
     "text": [
      " 47%|██████████████████▎                    | 1569/3338 [41:37<44:15,  1.50s/it]"
     ]
    },
    {
     "name": "stdout",
     "output_type": "stream",
     "text": [
      "Error communicating with OpenAI: ('Connection aborted.', ConnectionResetError(104, 'Connection reset by peer'))\n"
     ]
    },
    {
     "name": "stderr",
     "output_type": "stream",
     "text": [
      " 55%|█████████████████████▍                 | 1839/3338 [48:39<37:30,  1.50s/it]"
     ]
    },
    {
     "name": "stdout",
     "output_type": "stream",
     "text": [
      "The response was filtered due to the prompt triggering Azure OpenAI's content management policy. Please modify your prompt and retry. To learn more about our content filtering policies please read our documentation: https://go.microsoft.com/fwlink/?linkid=2198766\n"
     ]
    },
    {
     "name": "stderr",
     "output_type": "stream",
     "text": [
      " 56%|█████████████████████▉                 | 1874/3338 [49:36<40:23,  1.66s/it]"
     ]
    },
    {
     "name": "stdout",
     "output_type": "stream",
     "text": [
      "'content'\n",
      "The response was filtered due to the prompt triggering Azure OpenAI's content management policy. Please modify your prompt and retry. To learn more about our content filtering policies please read our documentation: https://go.microsoft.com/fwlink/?linkid=2198766\n"
     ]
    },
    {
     "name": "stderr",
     "output_type": "stream",
     "text": [
      " 56%|█████████████████████▉                 | 1876/3338 [49:39<38:55,  1.60s/it]"
     ]
    },
    {
     "name": "stdout",
     "output_type": "stream",
     "text": [
      "'content'\n"
     ]
    },
    {
     "name": "stderr",
     "output_type": "stream",
     "text": [
      " 62%|████████████████████████               | 2061/3338 [54:34<34:01,  1.60s/it]"
     ]
    },
    {
     "name": "stdout",
     "output_type": "stream",
     "text": [
      "'content'\n"
     ]
    },
    {
     "name": "stderr",
     "output_type": "stream",
     "text": [
      " 70%|█████████████████████████▊           | 2328/3338 [1:01:57<25:15,  1.50s/it]"
     ]
    },
    {
     "name": "stdout",
     "output_type": "stream",
     "text": [
      "The response was filtered due to the prompt triggering Azure OpenAI's content management policy. Please modify your prompt and retry. To learn more about our content filtering policies please read our documentation: https://go.microsoft.com/fwlink/?linkid=2198766\n"
     ]
    },
    {
     "name": "stderr",
     "output_type": "stream",
     "text": [
      " 71%|██████████████████████████▍          | 2380/3338 [1:03:17<23:46,  1.49s/it]"
     ]
    },
    {
     "name": "stdout",
     "output_type": "stream",
     "text": [
      "'content'\n"
     ]
    },
    {
     "name": "stderr",
     "output_type": "stream",
     "text": [
      " 82%|██████████████████████████████▎      | 2736/3338 [1:13:23<16:25,  1.64s/it]"
     ]
    },
    {
     "name": "stdout",
     "output_type": "stream",
     "text": [
      "The response was filtered due to the prompt triggering Azure OpenAI's content management policy. Please modify your prompt and retry. To learn more about our content filtering policies please read our documentation: https://go.microsoft.com/fwlink/?linkid=2198766\n"
     ]
    },
    {
     "name": "stderr",
     "output_type": "stream",
     "text": [
      " 83%|██████████████████████████████▋      | 2768/3338 [1:14:15<15:43,  1.65s/it]"
     ]
    },
    {
     "name": "stdout",
     "output_type": "stream",
     "text": [
      "The response was filtered due to the prompt triggering Azure OpenAI's content management policy. Please modify your prompt and retry. To learn more about our content filtering policies please read our documentation: https://go.microsoft.com/fwlink/?linkid=2198766\n"
     ]
    },
    {
     "name": "stderr",
     "output_type": "stream",
     "text": [
      " 86%|███████████████████████████████▊     | 2874/3338 [1:17:12<12:18,  1.59s/it]"
     ]
    },
    {
     "name": "stdout",
     "output_type": "stream",
     "text": [
      "The response was filtered due to the prompt triggering Azure OpenAI's content management policy. Please modify your prompt and retry. To learn more about our content filtering policies please read our documentation: https://go.microsoft.com/fwlink/?linkid=2198766\n"
     ]
    },
    {
     "name": "stderr",
     "output_type": "stream",
     "text": [
      " 87%|████████████████████████████████     | 2892/3338 [1:17:44<14:08,  1.90s/it]"
     ]
    },
    {
     "name": "stdout",
     "output_type": "stream",
     "text": [
      "The response was filtered due to the prompt triggering Azure OpenAI's content management policy. Please modify your prompt and retry. To learn more about our content filtering policies please read our documentation: https://go.microsoft.com/fwlink/?linkid=2198766\n"
     ]
    },
    {
     "name": "stderr",
     "output_type": "stream",
     "text": [
      " 87%|████████████████████████████████▎    | 2917/3338 [1:18:27<10:46,  1.54s/it]"
     ]
    },
    {
     "name": "stdout",
     "output_type": "stream",
     "text": [
      "The response was filtered due to the prompt triggering Azure OpenAI's content management policy. Please modify your prompt and retry. To learn more about our content filtering policies please read our documentation: https://go.microsoft.com/fwlink/?linkid=2198766\n",
      "The response was filtered due to the prompt triggering Azure OpenAI's content management policy. Please modify your prompt and retry. To learn more about our content filtering policies please read our documentation: https://go.microsoft.com/fwlink/?linkid=2198766\n"
     ]
    },
    {
     "name": "stderr",
     "output_type": "stream",
     "text": [
      " 93%|██████████████████████████████████▎  | 3095/3338 [1:24:07<06:42,  1.66s/it]"
     ]
    },
    {
     "name": "stdout",
     "output_type": "stream",
     "text": [
      "The response was filtered due to the prompt triggering Azure OpenAI's content management policy. Please modify your prompt and retry. To learn more about our content filtering policies please read our documentation: https://go.microsoft.com/fwlink/?linkid=2198766\n"
     ]
    },
    {
     "name": "stderr",
     "output_type": "stream",
     "text": [
      " 93%|██████████████████████████████████▍  | 3102/3338 [1:24:20<07:56,  2.02s/it]"
     ]
    },
    {
     "name": "stdout",
     "output_type": "stream",
     "text": [
      "The response was filtered due to the prompt triggering Azure OpenAI's content management policy. Please modify your prompt and retry. To learn more about our content filtering policies please read our documentation: https://go.microsoft.com/fwlink/?linkid=2198766\n"
     ]
    },
    {
     "name": "stderr",
     "output_type": "stream",
     "text": [
      " 96%|███████████████████████████████████▌ | 3204/3338 [1:27:45<03:31,  1.58s/it]"
     ]
    },
    {
     "name": "stdout",
     "output_type": "stream",
     "text": [
      "The response was filtered due to the prompt triggering Azure OpenAI's content management policy. Please modify your prompt and retry. To learn more about our content filtering policies please read our documentation: https://go.microsoft.com/fwlink/?linkid=2198766\n"
     ]
    },
    {
     "name": "stderr",
     "output_type": "stream",
     "text": [
      " 97%|███████████████████████████████████▊ | 3231/3338 [1:28:28<02:47,  1.57s/it]"
     ]
    },
    {
     "name": "stdout",
     "output_type": "stream",
     "text": [
      "The response was filtered due to the prompt triggering Azure OpenAI's content management policy. Please modify your prompt and retry. To learn more about our content filtering policies please read our documentation: https://go.microsoft.com/fwlink/?linkid=2198766\n"
     ]
    },
    {
     "name": "stderr",
     "output_type": "stream",
     "text": [
      " 98%|████████████████████████████████████▎| 3277/3338 [1:29:47<01:40,  1.64s/it]"
     ]
    },
    {
     "name": "stdout",
     "output_type": "stream",
     "text": [
      "The response was filtered due to the prompt triggering Azure OpenAI's content management policy. Please modify your prompt and retry. To learn more about our content filtering policies please read our documentation: https://go.microsoft.com/fwlink/?linkid=2198766\n"
     ]
    },
    {
     "name": "stderr",
     "output_type": "stream",
     "text": [
      " 98%|████████████████████████████████████▎| 3278/3338 [1:29:49<01:47,  1.79s/it]"
     ]
    },
    {
     "name": "stdout",
     "output_type": "stream",
     "text": [
      "The response was filtered due to the prompt triggering Azure OpenAI's content management policy. Please modify your prompt and retry. To learn more about our content filtering policies please read our documentation: https://go.microsoft.com/fwlink/?linkid=2198766\n"
     ]
    },
    {
     "name": "stderr",
     "output_type": "stream",
     "text": [
      " 99%|████████████████████████████████████▋| 3308/3338 [1:30:44<00:52,  1.76s/it]"
     ]
    },
    {
     "name": "stdout",
     "output_type": "stream",
     "text": [
      "The response was filtered due to the prompt triggering Azure OpenAI's content management policy. Please modify your prompt and retry. To learn more about our content filtering policies please read our documentation: https://go.microsoft.com/fwlink/?linkid=2198766\n"
     ]
    },
    {
     "name": "stderr",
     "output_type": "stream",
     "text": [
      "100%|█████████████████████████████████████| 3338/3338 [1:31:32<00:00,  1.65s/it]\n"
     ]
    }
   ],
   "source": [
    "from tqdm import tqdm\n",
    "\n",
    "max_worker = 2\n",
    "for i in tqdm(range(0, len(data), max_worker)):\n",
    "    b = data[i: i + max_worker]\n",
    "    filenames = [(os.path.join('question-jurnaldbp', f'{i + k}.json'), l) for k, l in enumerate(b)]\n",
    "    with ThreadPoolExecutor(max_workers=max_worker) as executor:\n",
    "        futures = {executor.submit(generate, *f): f for f in filenames}\n",
    "\n",
    "        for future in as_completed(futures):\n",
    "            future.result()"
   ]
  },
  {
   "cell_type": "code",
   "execution_count": null,
   "id": "30bbfd94",
   "metadata": {},
   "outputs": [],
   "source": []
  }
 ],
 "metadata": {
  "kernelspec": {
   "display_name": "Python 3 (ipykernel)",
   "language": "python",
   "name": "python3"
  },
  "language_info": {
   "codemirror_mode": {
    "name": "ipython",
    "version": 3
   },
   "file_extension": ".py",
   "mimetype": "text/x-python",
   "name": "python",
   "nbconvert_exporter": "python",
   "pygments_lexer": "ipython3",
   "version": "3.8.10"
  }
 },
 "nbformat": 4,
 "nbformat_minor": 5
}
