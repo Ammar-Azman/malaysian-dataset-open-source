{
 "cells": [
  {
   "cell_type": "code",
   "execution_count": 1,
   "id": "a56af552",
   "metadata": {},
   "outputs": [
    {
     "name": "stderr",
     "output_type": "stream",
     "text": [
      "/home/husein/.local/lib/python3.8/site-packages/requests/__init__.py:102: RequestsDependencyWarning: urllib3 (1.26.15) or chardet (5.2.0)/charset_normalizer (2.0.7) doesn't match a supported version!\n",
      "  warnings.warn(\"urllib3 ({}) or chardet ({})/charset_normalizer ({}) doesn't match a supported \"\n"
     ]
    }
   ],
   "source": [
    "import tiktoken\n",
    "enc = tiktoken.get_encoding(\"cl100k_base\")"
   ]
  },
  {
   "cell_type": "code",
   "execution_count": 2,
   "id": "30495872",
   "metadata": {},
   "outputs": [],
   "source": [
    "import json\n",
    "\n",
    "data = []\n",
    "with open('/home/husein/ssd3/crossref/melayu-pdf.jsonl') as fopen:\n",
    "    for l in fopen:\n",
    "        l = json.loads(l)\n",
    "        data.append(l)"
   ]
  },
  {
   "cell_type": "code",
   "execution_count": 7,
   "id": "5f859870",
   "metadata": {},
   "outputs": [],
   "source": [
    "def partition(s, n = 2000):\n",
    "    encoded = enc.encode(s)\n",
    "    splitted = [encoded[i: i + n] for i in range(0, len(encoded), n)]\n",
    "    return [enc.decode(s) for s in splitted[:-1]]"
   ]
  },
  {
   "cell_type": "code",
   "execution_count": 8,
   "id": "26fdf731",
   "metadata": {},
   "outputs": [
    {
     "name": "stderr",
     "output_type": "stream",
     "text": [
      "100%|██████████████████████████████████████| 1506/1506 [00:08<00:00, 172.19it/s]\n"
     ]
    }
   ],
   "source": [
    "from tqdm import tqdm\n",
    "\n",
    "partitions = []\n",
    "for d in tqdm(data):\n",
    "    partitions.extend(partition(d))"
   ]
  },
  {
   "cell_type": "code",
   "execution_count": 9,
   "id": "f54b06f5",
   "metadata": {},
   "outputs": [
    {
     "data": {
      "text/plain": [
       "10025"
      ]
     },
     "execution_count": 9,
     "metadata": {},
     "output_type": "execute_result"
    }
   ],
   "source": [
    "len(partitions)"
   ]
  },
  {
   "cell_type": "code",
   "execution_count": 10,
   "id": "26d5ce4b",
   "metadata": {},
   "outputs": [],
   "source": [
    "with open('paragraph-crossref-melayu.jsonl', 'w') as fopen:\n",
    "    for t in partitions:\n",
    "        fopen.write(f'{json.dumps(t)}\\n')"
   ]
  }
 ],
 "metadata": {
  "kernelspec": {
   "display_name": "Python 3 (ipykernel)",
   "language": "python",
   "name": "python3"
  },
  "language_info": {
   "codemirror_mode": {
    "name": "ipython",
    "version": 3
   },
   "file_extension": ".py",
   "mimetype": "text/x-python",
   "name": "python",
   "nbconvert_exporter": "python",
   "pygments_lexer": "ipython3",
   "version": "3.8.10"
  }
 },
 "nbformat": 4,
 "nbformat_minor": 5
}
