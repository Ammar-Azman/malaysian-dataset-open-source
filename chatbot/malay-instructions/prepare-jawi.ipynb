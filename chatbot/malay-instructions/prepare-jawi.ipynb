{
 "cells": [
  {
   "cell_type": "code",
   "execution_count": 3,
   "metadata": {},
   "outputs": [],
   "source": [
    "# !git lfs clone https://huggingface.co/datasets/mesolitica/rumi-jawi"
   ]
  },
  {
   "cell_type": "code",
   "execution_count": 5,
   "metadata": {},
   "outputs": [],
   "source": [
    "import json\n",
    "from tqdm import tqdm\n",
    "from glob import glob"
   ]
  },
  {
   "cell_type": "code",
   "execution_count": 6,
   "metadata": {},
   "outputs": [
    {
     "data": {
      "text/plain": [
       "['/home/husein/ssd3/rumi-jawi/wiki-rumi-jawi-2.jsonl',\n",
       " '/home/husein/ssd3/rumi-jawi/wiki-rumi-jawi-8.jsonl',\n",
       " '/home/husein/ssd3/rumi-jawi/wiki-rumi-jawi-5.jsonl',\n",
       " '/home/husein/ssd3/rumi-jawi/wiki-rumi-jawi-7.jsonl',\n",
       " '/home/husein/ssd3/rumi-jawi/wiki-rumi-jawi-1.jsonl',\n",
       " '/home/husein/ssd3/rumi-jawi/wiki-rumi-jawi-4.jsonl',\n",
       " '/home/husein/ssd3/rumi-jawi/wiki-rumi-jawi-6.jsonl',\n",
       " '/home/husein/ssd3/rumi-jawi/wiki-rumi-jawi-9.jsonl',\n",
       " '/home/husein/ssd3/rumi-jawi/wiki-rumi-jawi-3.jsonl',\n",
       " '/home/husein/ssd3/rumi-jawi/wiki-rumi-jawi-0.jsonl']"
      ]
     },
     "execution_count": 6,
     "metadata": {},
     "output_type": "execute_result"
    }
   ],
   "source": [
    "files = glob('/home/husein/ssd3/rumi-jawi/*.jsonl')\n",
    "files"
   ]
  },
  {
   "cell_type": "code",
   "execution_count": 9,
   "metadata": {},
   "outputs": [
    {
     "name": "stderr",
     "output_type": "stream",
     "text": [
      "57397it [00:00, 63744.57it/s]\n",
      "85026it [00:01, 50757.83it/s]\n",
      "43071it [00:00, 91760.47it/s] \n",
      "78598it [00:01, 58471.48it/s]\n",
      "77597it [00:01, 49288.88it/s]\n",
      "43453it [00:00, 89498.27it/s]\n",
      "48400it [00:00, 69936.45it/s]\n",
      "99016it [00:02, 39544.85it/s]\n",
      "65661it [00:00, 65774.10it/s]\n",
      "151578it [00:03, 47246.39it/s]\n"
     ]
    }
   ],
   "source": [
    "with open('rumi-jawi.jsonl', 'w') as fopen_l:\n",
    "    for f in files:\n",
    "        with open(f) as fopen:\n",
    "            for l in tqdm(fopen):\n",
    "                l = json.loads(l)\n",
    "                data = {\n",
    "                    'prompt_input': None,\n",
    "                    'input': 'tukar ke jawi: ' + l['malay'].strip(),\n",
    "                    'output': l['jawi'].strip()\n",
    "                }\n",
    "                fopen_l.write(f'{json.dumps(data)}\\n')"
   ]
  },
  {
   "cell_type": "code",
   "execution_count": 12,
   "metadata": {},
   "outputs": [
    {
     "name": "stderr",
     "output_type": "stream",
     "text": [
      "57397it [00:00, 79058.00it/s]\n",
      "85026it [00:01, 47951.14it/s]\n",
      "43071it [00:00, 94897.06it/s] \n",
      "78598it [00:01, 54236.76it/s]\n",
      "77597it [00:01, 42443.95it/s]\n",
      "43453it [00:00, 62177.45it/s]\n",
      "48400it [00:00, 95579.03it/s] \n",
      "99016it [00:01, 49619.83it/s]\n",
      "65661it [00:01, 52566.69it/s]\n",
      "151578it [00:03, 47489.26it/s]\n"
     ]
    }
   ],
   "source": [
    "with open('jawi-rumi.jsonl', 'w') as fopen_l:\n",
    "    for f in files:\n",
    "        with open(f) as fopen:\n",
    "            for l in tqdm(fopen):\n",
    "                l = json.loads(l)\n",
    "                data = {\n",
    "                    'prompt_input': None,\n",
    "                    'input': 'tukar ke rumi: ' + l['jawi'].strip(),\n",
    "                    'output': l['malay'].strip()\n",
    "                }\n",
    "                fopen_l.write(f'{json.dumps(data)}\\n')"
   ]
  }
 ],
 "metadata": {
  "kernelspec": {
   "display_name": "Python 3 (ipykernel)",
   "language": "python",
   "name": "python3"
  },
  "language_info": {
   "codemirror_mode": {
    "name": "ipython",
    "version": 3
   },
   "file_extension": ".py",
   "mimetype": "text/x-python",
   "name": "python",
   "nbconvert_exporter": "python",
   "pygments_lexer": "ipython3",
   "version": "3.8.10"
  }
 },
 "nbformat": 4,
 "nbformat_minor": 4
}
