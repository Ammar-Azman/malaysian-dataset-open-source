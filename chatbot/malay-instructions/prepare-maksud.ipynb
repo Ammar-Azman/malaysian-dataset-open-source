{
 "cells": [
  {
   "cell_type": "code",
   "execution_count": 1,
   "id": "a88ef7b0",
   "metadata": {},
   "outputs": [],
   "source": [
    "# !wget https://huggingface.co/datasets/aisyahhrazak/crawl-maksudperibahasa/resolve/main/maksudperibahasa.jsonl\n",
    "# !wget https://huggingface.co/datasets/mesolitica/dbp/resolve/main/dbp.zip\n",
    "# !unzip dbp.zip -d dbp"
   ]
  },
  {
   "cell_type": "code",
   "execution_count": 2,
   "id": "92625e73",
   "metadata": {},
   "outputs": [],
   "source": [
    "from glob import glob\n",
    "import json\n",
    "import os"
   ]
  },
  {
   "cell_type": "code",
   "execution_count": 3,
   "id": "5a9217d7",
   "metadata": {},
   "outputs": [],
   "source": [
    "instructions = []"
   ]
  },
  {
   "cell_type": "code",
   "execution_count": 4,
   "id": "08fc228b",
   "metadata": {},
   "outputs": [],
   "source": [
    "files = glob('dbp/dbp/*.json')\n",
    "for f in files:\n",
    "    with open(f) as fopen:\n",
    "        data = json.load(fopen)\n",
    "    if not len(data['definisi']):\n",
    "        continue\n",
    "    t = data['definisi'][0].replace('\\xa0', '\\n').replace('\\xad', '').replace('Definisi', '\\nDefinisi')\n",
    "    d = {\n",
    "        'prompt_input': None,\n",
    "        'input': 'definisi: ' + os.path.split(f)[-1].replace('.json', '').strip(),\n",
    "        'output': t.strip()\n",
    "    }\n",
    "    instructions.append(d)"
   ]
  },
  {
   "cell_type": "code",
   "execution_count": 5,
   "id": "08a8fb02",
   "metadata": {},
   "outputs": [],
   "source": [
    "with open('maksudperibahasa.jsonl') as fopen:\n",
    "    for l in fopen:\n",
    "        l = json.loads(l)\n",
    "        d = {\n",
    "            'prompt_input': None,\n",
    "            'input': 'maksud peribahasa: ' + l['peribahasa'].strip(),\n",
    "            'output': l['maksud'].strip()\n",
    "        }\n",
    "        instructions.append(d)"
   ]
  },
  {
   "cell_type": "code",
   "execution_count": 6,
   "id": "9fbe3173",
   "metadata": {},
   "outputs": [],
   "source": [
    "with open('maksud.jsonl', 'w') as fopen_l:\n",
    "    for d in instructions:\n",
    "        fopen_l.write(f'{json.dumps(d)}\\n')"
   ]
  }
 ],
 "metadata": {
  "kernelspec": {
   "display_name": "Python 3 (ipykernel)",
   "language": "python",
   "name": "python3"
  },
  "language_info": {
   "codemirror_mode": {
    "name": "ipython",
    "version": 3
   },
   "file_extension": ".py",
   "mimetype": "text/x-python",
   "name": "python",
   "nbconvert_exporter": "python",
   "pygments_lexer": "ipython3",
   "version": "3.8.10"
  }
 },
 "nbformat": 4,
 "nbformat_minor": 5
}
