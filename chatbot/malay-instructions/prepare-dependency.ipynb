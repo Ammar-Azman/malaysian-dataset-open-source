{
 "cells": [
  {
   "cell_type": "code",
   "execution_count": 1,
   "metadata": {},
   "outputs": [],
   "source": [
    "# !wget https://f000.backblazeb2.com/file/malay-dataset/parsing/indonesia-conll/Indonesian/id-common_crawl-000.conllu.jsonl"
   ]
  },
  {
   "cell_type": "code",
   "execution_count": 2,
   "metadata": {},
   "outputs": [
    {
     "name": "stdout",
     "output_type": "stream",
     "text": [
      "[\"# text = Hotel di dekat Cadogan Hall\\n\", \"1\\tHotel\\t_\\tNOUN\\t_\\t_\\t0\\troot\\t_\\t_\\n\", \"2\\tdi\\t_\\tADP\\t_\\t_\\t4\\tcase\\t_\\t_\\n\", \"3\\tdekat\\t_\\tADJ\\t_\\t_\\t4\\tamod\\t_\\t_\\n\", \"4\\tCadogan\\t_\\tPROPN\\t_\\t_\\t1\\tnmod\\t_\\t_\\n\", \"5\\tHall\\t_\\tPROPN\\t_\\t_\\t4\\tflat\\t_\\t_\\n\"]\r\n",
      "[\"# text = Ini bisa menjadi masalah hardware atau masalah perangkat lunak.\\n\", \"1\\tIni\\t_\\tDET\\t_\\t_\\t3\\tnsubj\\t_\\t_\\n\", \"2\\tbisa\\t_\\tADV\\t_\\t_\\t3\\tadvmod\\t_\\t_\\n\", \"3\\tmenjadi\\t_\\tVERB\\t_\\t_\\t0\\troot\\t_\\t_\\n\", \"4\\tmasalah\\t_\\tNOUN\\t_\\t_\\t3\\tobj\\t_\\t_\\n\", \"5\\thardware\\t_\\tNOUN\\t_\\t_\\t4\\tcompound\\t_\\t_\\n\", \"6\\tatau\\t_\\tCCONJ\\t_\\t_\\t7\\tcc\\t_\\t_\\n\", \"7\\tmasalah\\t_\\tNOUN\\t_\\t_\\t4\\tconj\\t_\\t_\\n\", \"8\\tperangkat\\t_\\tNOUN\\t_\\t_\\t7\\tcompound\\t_\\t_\\n\", \"9\\tlunak\\t_\\tADJ\\t_\\t_\\t8\\tamod\\t_\\tSpaceAfter=No\\n\", \"10\\t.\\t_\\tPUNCT\\t_\\t_\\t3\\tpunct\\t_\\t_\\n\"]\r\n"
     ]
    }
   ],
   "source": [
    "!head -n 2 id-common_crawl-000.conllu.jsonl"
   ]
  },
  {
   "cell_type": "code",
   "execution_count": 3,
   "metadata": {},
   "outputs": [
    {
     "name": "stderr",
     "output_type": "stream",
     "text": [
      "853816it [00:09, 86542.25it/s]\n"
     ]
    }
   ],
   "source": [
    "import json\n",
    "from tqdm import tqdm\n",
    "\n",
    "with open('dependency.jsonl', 'w') as fopen_l:\n",
    "    with open('id-common_crawl-000.conllu.jsonl') as fopen:\n",
    "        for l in tqdm(fopen):\n",
    "            l = json.loads(l)\n",
    "            t = l[0].split('text = ')[1].strip()\n",
    "            r = l[1:]\n",
    "            data = {\n",
    "                'prompt_input': None,\n",
    "                'input': 'dependency parsing: ' + t,\n",
    "                'output': '\\n'.join(r)\n",
    "            }\n",
    "            fopen_l.write(f'{json.dumps(data)}\\n')"
   ]
  }
 ],
 "metadata": {
  "kernelspec": {
   "display_name": "Python 3 (ipykernel)",
   "language": "python",
   "name": "python3"
  },
  "language_info": {
   "codemirror_mode": {
    "name": "ipython",
    "version": 3
   },
   "file_extension": ".py",
   "mimetype": "text/x-python",
   "name": "python",
   "nbconvert_exporter": "python",
   "pygments_lexer": "ipython3",
   "version": "3.8.10"
  }
 },
 "nbformat": 4,
 "nbformat_minor": 4
}
