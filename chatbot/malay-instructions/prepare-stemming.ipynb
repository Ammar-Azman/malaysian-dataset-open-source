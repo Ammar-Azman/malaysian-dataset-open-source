{
 "cells": [
  {
   "cell_type": "code",
   "execution_count": 2,
   "id": "05b3c639",
   "metadata": {},
   "outputs": [],
   "source": [
    "# !wget https://huggingface.co/datasets/mesolitica/stemming/resolve/main/train_noisy_stem.json\n",
    "# !wget https://huggingface.co/datasets/mesolitica/stemming/resolve/main/train_stem.json"
   ]
  },
  {
   "cell_type": "code",
   "execution_count": 13,
   "id": "ca260b0e",
   "metadata": {},
   "outputs": [],
   "source": [
    "import json\n",
    "\n",
    "instructions = []"
   ]
  },
  {
   "cell_type": "code",
   "execution_count": 14,
   "id": "57935bcf",
   "metadata": {},
   "outputs": [],
   "source": [
    "with open('train_noisy_stem.json') as fopen:\n",
    "    data = json.load(fopen)\n",
    "\n",
    "for i in range(len(data['X'])):\n",
    "    d = {\n",
    "        'prompt_input': None,\n",
    "        'input': 'kata akar: ' + data['X'][i].strip(),\n",
    "        'output': data['Y'][i].strip()\n",
    "    }\n",
    "    instructions.append(d)"
   ]
  },
  {
   "cell_type": "code",
   "execution_count": 15,
   "id": "d8483b2c",
   "metadata": {},
   "outputs": [],
   "source": [
    "with open('train_stem.json') as fopen:\n",
    "    data = json.load(fopen)\n",
    "\n",
    "for i in range(len(data['X'])):\n",
    "    d = {\n",
    "        'prompt_input': None,\n",
    "        'input': 'kata akar: ' + data['X'][i].strip(),\n",
    "        'output': data['Y'][i].strip()\n",
    "    }\n",
    "    instructions.append(d)"
   ]
  },
  {
   "cell_type": "code",
   "execution_count": 16,
   "id": "17b97375",
   "metadata": {},
   "outputs": [
    {
     "data": {
      "text/plain": [
       "2936931"
      ]
     },
     "execution_count": 16,
     "metadata": {},
     "output_type": "execute_result"
    }
   ],
   "source": [
    "len(instructions)"
   ]
  },
  {
   "cell_type": "code",
   "execution_count": 17,
   "id": "67c97955",
   "metadata": {},
   "outputs": [
    {
     "data": {
      "text/plain": [
       "{'prompt_input': None, 'input': 'kata akar: tilangana', 'output': 'tilangana'}"
      ]
     },
     "execution_count": 17,
     "metadata": {},
     "output_type": "execute_result"
    }
   ],
   "source": [
    "instructions[-1]"
   ]
  },
  {
   "cell_type": "code",
   "execution_count": 18,
   "id": "e22e6292",
   "metadata": {},
   "outputs": [],
   "source": [
    "with open('stem.jsonl', 'w') as fopen_l:\n",
    "    for d in instructions:\n",
    "        fopen_l.write(f'{json.dumps(d)}\\n')"
   ]
  }
 ],
 "metadata": {
  "kernelspec": {
   "display_name": "Python 3 (ipykernel)",
   "language": "python",
   "name": "python3"
  },
  "language_info": {
   "codemirror_mode": {
    "name": "ipython",
    "version": 3
   },
   "file_extension": ".py",
   "mimetype": "text/x-python",
   "name": "python",
   "nbconvert_exporter": "python",
   "pygments_lexer": "ipython3",
   "version": "3.8.10"
  }
 },
 "nbformat": 4,
 "nbformat_minor": 5
}
