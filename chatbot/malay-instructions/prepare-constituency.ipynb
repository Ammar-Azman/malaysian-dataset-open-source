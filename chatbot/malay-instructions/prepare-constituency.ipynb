{
 "cells": [
  {
   "cell_type": "code",
   "execution_count": 5,
   "metadata": {},
   "outputs": [],
   "source": [
    "# !wget https://raw.githubusercontent.com/huseinzol05/malaya/master/session/constituency/src/trees_newline.py\n",
    "# !wget https://github.com/aisingapore/seacorenlp-data/raw/main/id/constituency/train.txt\n",
    "# !wget https://github.com/aisingapore/seacorenlp-data/raw/main/id/constituency/dev.txt\n",
    "# !wget https://github.com/aisingapore/seacorenlp-data/raw/main/id/constituency/test.txt"
   ]
  },
  {
   "cell_type": "code",
   "execution_count": 6,
   "metadata": {},
   "outputs": [],
   "source": [
    "BERT_TOKEN_MAPPING = {\n",
    "    \"-LRB-\": \"(\",\n",
    "    \"-RRB-\": \")\",\n",
    "    \"-LCB-\": \"{\",\n",
    "    \"-RCB-\": \"}\",\n",
    "    \"-LSB-\": \"[\",\n",
    "    \"-RSB-\": \"]\",\n",
    "    \"``\": '\"',\n",
    "    \"''\": '\"',\n",
    "    \"`\": \"'\",\n",
    "    '«': '\"',\n",
    "    '»': '\"',\n",
    "    '‘': \"'\",\n",
    "    '’': \"'\",\n",
    "    '“': '\"',\n",
    "    '”': '\"',\n",
    "    '„': '\"',\n",
    "    '‹': \"'\",\n",
    "    '›': \"'\",\n",
    "    \"\\u2013\": \"--\", # en dash\n",
    "    \"\\u2014\": \"--\", # em dash\n",
    "    }\n",
    "\n",
    "def process_word(word):\n",
    "    word = word.replace('\\\\/', '/').replace('\\\\*', '*')\n",
    "    # Mid-token punctuation occurs in biomedical text\n",
    "    word = word.replace('-LSB-', '[').replace('-RSB-', ']')\n",
    "    word = word.replace('-LRB-', '(').replace('-RRB-', ')')\n",
    "    if word == \"n't\" and cleaned_words:\n",
    "        cleaned_words[-1] = cleaned_words[-1] + \"n\"\n",
    "        word = \"'t\"\n",
    "    return word"
   ]
  },
  {
   "cell_type": "code",
   "execution_count": 7,
   "metadata": {},
   "outputs": [],
   "source": [
    "import trees_newline as trees\n",
    "\n",
    "train_treebank = trees.load_trees('train.txt')\n",
    "train_parse = [tree.convert() for tree in train_treebank]"
   ]
  },
  {
   "cell_type": "code",
   "execution_count": 8,
   "metadata": {
    "scrolled": true
   },
   "outputs": [
    {
     "data": {
      "text/plain": [
       "['Setelah',\n",
       " 'uji',\n",
       " 'coba',\n",
       " 'itu',\n",
       " ',',\n",
       " 'Ketua',\n",
       " 'Umum',\n",
       " 'PSSI',\n",
       " 'Nurdin',\n",
       " 'Halid',\n",
       " 'meminta',\n",
       " 'Badan',\n",
       " 'Tim',\n",
       " 'Nasional',\n",
       " 'mengevaluasi',\n",
       " 'Riedl',\n",
       " 'karena',\n",
       " 'dinilai',\n",
       " 'tak',\n",
       " 'memberi',\n",
       " 'kemajuan',\n",
       " 'nyata',\n",
       " 'bagi',\n",
       " 'tim',\n",
       " '.']"
      ]
     },
     "execution_count": 8,
     "metadata": {},
     "output_type": "execute_result"
    }
   ],
   "source": [
    "tree = train_parse[0]\n",
    "[process_word(leaf.word) for leaf in tree.leaves()]"
   ]
  },
  {
   "cell_type": "code",
   "execution_count": 12,
   "metadata": {},
   "outputs": [],
   "source": [
    "from glob import glob\n",
    "\n",
    "punct = ',.?!:;'\n",
    "\n",
    "prepare = []\n",
    "\n",
    "for f in glob('*.txt'):\n",
    "    with open(f) as fopen:\n",
    "        train = list(filter(None, fopen.read().split('\\n')))\n",
    "\n",
    "\n",
    "    for t in train:\n",
    "        try:\n",
    "            tree = trees.tree_from_str(t).convert()\n",
    "            words = ' '.join([process_word(leaf.word) for leaf in tree.leaves()])\n",
    "            for p in punct:\n",
    "                words = words.replace(f' {p} ', f'{p} ')\n",
    "            prepare.append((words, t))\n",
    "        except Exception as e:\n",
    "            pass"
   ]
  },
  {
   "cell_type": "code",
   "execution_count": 14,
   "metadata": {},
   "outputs": [
    {
     "data": {
      "text/plain": [
       "('Di pertengahan perjalanan mereka digantikan oleh kelompok Kapten Widyo Kirono Kusumowidjojo, yang menerbangkan pesawat sampai Amsterdam .',\n",
       " '(S (PP (PPO Di) (NP (NNO pertengahan) (NNO perjalanan))) (NP (PRN mereka)) (VP (VBP digantikan) (PP (PPO oleh) (NP (NP (NNO kelompok) (NNO Kapten) (NNP Widyo) (NNP Kirono) (NNP Kusumowidjojo)) (PUN ,) (RPN (PRR yang) (VP (VBT menerbangkan) (NP (NNO pesawat)) (PP (PPO sampai) (NNP Amsterdam))))))) (PUN .))')"
      ]
     },
     "execution_count": 14,
     "metadata": {},
     "output_type": "execute_result"
    }
   ],
   "source": [
    "prepare[-1]"
   ]
  },
  {
   "cell_type": "code",
   "execution_count": 15,
   "metadata": {},
   "outputs": [],
   "source": [
    "import json\n",
    "\n",
    "with open('constituency.jsonl', 'w') as fopen:\n",
    "    for t in prepare:\n",
    "        \n",
    "        data = {\n",
    "            'prompt_input': None,\n",
    "            'input': 'constituency parsing: ' + t[0],\n",
    "            'output': t[1],\n",
    "        }\n",
    "        fopen.write(f'{json.dumps(data)}\\n')"
   ]
  },
  {
   "cell_type": "code",
   "execution_count": null,
   "metadata": {},
   "outputs": [],
   "source": []
  }
 ],
 "metadata": {
  "kernelspec": {
   "display_name": "Python 3 (ipykernel)",
   "language": "python",
   "name": "python3"
  },
  "language_info": {
   "codemirror_mode": {
    "name": "ipython",
    "version": 3
   },
   "file_extension": ".py",
   "mimetype": "text/x-python",
   "name": "python",
   "nbconvert_exporter": "python",
   "pygments_lexer": "ipython3",
   "version": "3.8.10"
  }
 },
 "nbformat": 4,
 "nbformat_minor": 4
}
