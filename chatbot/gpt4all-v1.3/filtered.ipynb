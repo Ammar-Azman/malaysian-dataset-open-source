{
 "cells": [
  {
   "cell_type": "code",
   "execution_count": 1,
   "metadata": {},
   "outputs": [
    {
     "data": {
      "text/plain": [
       "['gpt4all-filtered-noncode.jsonl02.splitted.requested',\n",
       " 'gpt4all-filtered-noncode.jsonl14.splitted.requested',\n",
       " 'gpt4all-filtered-noncode.jsonl04.splitted.requested',\n",
       " 'gpt4all-filtered-noncode.jsonl10.splitted.requested',\n",
       " 'gpt4all-filtered-noncode.jsonl03.splitted.requested',\n",
       " 'gpt4all-filtered-noncode.jsonl11.splitted.requested',\n",
       " 'gpt4all-filtered-noncode.jsonl12.splitted.requested',\n",
       " 'gpt4all-filtered-noncode.jsonl19.splitted.requested',\n",
       " 'gpt4all-filtered-noncode.jsonl22.splitted.requested',\n",
       " 'gpt4all-filtered-noncode.jsonl20.splitted.requested',\n",
       " 'gpt4all-filtered-noncode.jsonl07.splitted.requested',\n",
       " 'gpt4all-filtered-noncode.jsonl09.splitted.requested',\n",
       " 'gpt4all-filtered-noncode.jsonl21.splitted.requested',\n",
       " 'gpt4all-filtered-noncode.jsonl18.splitted.requested',\n",
       " 'gpt4all-filtered-noncode.jsonl08.splitted.requested',\n",
       " 'gpt4all-filtered-noncode.jsonl00.splitted.requested',\n",
       " 'gpt4all-filtered-noncode.jsonl17.splitted.requested',\n",
       " 'gpt4all-filtered-noncode.jsonl16.splitted.requested',\n",
       " 'gpt4all-filtered-noncode.jsonl05.splitted.requested',\n",
       " 'gpt4all-filtered-noncode.jsonl01.splitted.requested',\n",
       " 'gpt4all-filtered-noncode.jsonl13.splitted.requested',\n",
       " 'gpt4all-filtered-noncode.jsonl15.splitted.requested',\n",
       " 'gpt4all-filtered-noncode.jsonl06.splitted.requested']"
      ]
     },
     "execution_count": 1,
     "metadata": {},
     "output_type": "execute_result"
    }
   ],
   "source": [
    "import json\n",
    "from glob import glob\n",
    "\n",
    "files = glob('gpt4all-filtered-noncode.jsonl*.splitted.requested')\n",
    "files"
   ]
  },
  {
   "cell_type": "code",
   "execution_count": 7,
   "metadata": {},
   "outputs": [],
   "source": [
    "with open('translated-gpt4all-filtered-noncode.jsonl', 'w') as fopen_l:\n",
    "    for f in files:\n",
    "        with open(f) as fopen:\n",
    "            for l in fopen:\n",
    "                l = json.loads(l)\n",
    "                if l['r'][1] is None:\n",
    "                    continue\n",
    "                fopen_l.write(f'{json.dumps(l)}\\n')"
   ]
  }
 ],
 "metadata": {
  "kernelspec": {
   "display_name": "Python 3 (ipykernel)",
   "language": "python",
   "name": "python3"
  },
  "language_info": {
   "codemirror_mode": {
    "name": "ipython",
    "version": 3
   },
   "file_extension": ".py",
   "mimetype": "text/x-python",
   "name": "python",
   "nbconvert_exporter": "python",
   "pygments_lexer": "ipython3",
   "version": "3.8.10"
  }
 },
 "nbformat": 4,
 "nbformat_minor": 4
}
