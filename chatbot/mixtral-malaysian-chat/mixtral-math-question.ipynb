{
 "cells": [
  {
   "cell_type": "code",
   "execution_count": 1,
   "id": "03975148",
   "metadata": {},
   "outputs": [
    {
     "name": "stderr",
     "output_type": "stream",
     "text": [
      "/home/husein/.local/lib/python3.8/site-packages/requests/__init__.py:102: RequestsDependencyWarning: urllib3 (1.26.15) or chardet (5.2.0)/charset_normalizer (2.0.7) doesn't match a supported version!\n",
      "  warnings.warn(\"urllib3 ({}) or chardet ({})/charset_normalizer ({}) doesn't match a supported \"\n"
     ]
    }
   ],
   "source": [
    "from huggingface_hub import InferenceClient\n",
    "from tqdm import tqdm\n",
    "import os\n",
    "import json"
   ]
  },
  {
   "cell_type": "code",
   "execution_count": 2,
   "id": "398a8dd3",
   "metadata": {},
   "outputs": [],
   "source": [
    "from concurrent.futures import ThreadPoolExecutor, as_completed\n",
    "\n",
    "generate_kwargs = dict(\n",
    "    temperature=1.0,\n",
    "    max_new_tokens=2048,\n",
    "    top_p=0.95,\n",
    "    repetition_penalty=1.0,\n",
    "    do_sample=True,\n",
    ")"
   ]
  },
  {
   "cell_type": "code",
   "execution_count": 3,
   "id": "d0d8a44e",
   "metadata": {},
   "outputs": [],
   "source": [
    "client = InferenceClient(\n",
    "    \"\"\n",
    ")\n",
    "\n",
    "\n",
    "def format_prompt(message, history):\n",
    "  prompt = \"<s>\"\n",
    "  for user_prompt, bot_response in history:\n",
    "    prompt += f\"[INST] {user_prompt} [/INST]\"\n",
    "    prompt += f\" {bot_response}</s> \"\n",
    "  prompt += f\"[INST] {message} [/INST]\"\n",
    "  return prompt"
   ]
  },
  {
   "cell_type": "code",
   "execution_count": 4,
   "id": "69b71f25",
   "metadata": {},
   "outputs": [
    {
     "name": "stdout",
     "output_type": "stream",
     "text": [
      "mkdir: cannot create directory ‘mixtral-math’: File exists\r\n"
     ]
    }
   ],
   "source": [
    "!mkdir mixtral-math\n",
    "# !rm mixtral-factual-wrong-v2/*.json"
   ]
  },
  {
   "cell_type": "code",
   "execution_count": 5,
   "id": "75ff3081",
   "metadata": {},
   "outputs": [],
   "source": [
    "# prompt = 'generate more factual wrong questions ONLY, like, why kangaroo in malaysia, can expand beyond animals'\n",
    "# formatted_prompt = format_prompt(prompt, [])\n",
    "# stream = client.text_generation(formatted_prompt, **generate_kwargs, stream=False, details=True, return_full_text=False)\n",
    "# output = stream.generated_text\n",
    "# output"
   ]
  },
  {
   "cell_type": "code",
   "execution_count": 6,
   "id": "23a59d55",
   "metadata": {},
   "outputs": [
    {
     "data": {
      "text/plain": [
       "' Sure, here are some math questions:\\n\\n1. If a rectangle has a length of 12 units and a width of 8 units, what is its area?\\n2. Solve for x in the equation: 3x - 7 = 22\\n3. What is the value of cos(30°)?\\n4. If a function f(x) is defined as f(x) = 2x + 3, what is the value of f(5)?\\n5. What is the sum of the first 100 natural numbers?\\n6. Simplify the expression: (4x^3 \\\\* y^2) / (2x \\\\* y)\\n7. Solve the equation: |2x - 3| = 7\\n8. What is the slope of the line passing through the points (2, 3) and (5, 7)?\\n9. What is the area of a triangle with a base of 6 units and a height of 8 units?\\n10. If a circle has a radius of 5 units, what is its circumference?'"
      ]
     },
     "execution_count": 6,
     "metadata": {},
     "output_type": "execute_result"
    }
   ],
   "source": [
    "prompt = 'generate more math questions ONLY'\n",
    "formatted_prompt = format_prompt(prompt, [])\n",
    "stream = client.text_generation(formatted_prompt, **generate_kwargs, stream=False, details=True, return_full_text=False)\n",
    "output = stream.generated_text\n",
    "output"
   ]
  },
  {
   "cell_type": "code",
   "execution_count": 10,
   "id": "66b1a7bb",
   "metadata": {},
   "outputs": [],
   "source": [
    "def answer(q, i):\n",
    "    filename = f'mixtral-math/{i}.json'\n",
    "    if os.path.exists(filename):\n",
    "        return\n",
    "    \n",
    "    while True:\n",
    "        try:\n",
    "            prompt = q\n",
    "            formatted_prompt = format_prompt(prompt, [])\n",
    "            stream = client.text_generation(formatted_prompt, **generate_kwargs, stream=False, details=True, return_full_text=False)\n",
    "            output = stream.generated_text\n",
    "            with open(filename, 'w') as fopen:\n",
    "                json.dump(output, fopen)\n",
    "            break\n",
    "        except:\n",
    "            pass"
   ]
  },
  {
   "cell_type": "code",
   "execution_count": 11,
   "id": "6c2aa811",
   "metadata": {},
   "outputs": [],
   "source": [
    "prompts = ['generate more math questions ONLY'] * 5000"
   ]
  },
  {
   "cell_type": "code",
   "execution_count": 12,
   "id": "08fa0ccc",
   "metadata": {},
   "outputs": [
    {
     "data": {
      "text/plain": [
       "5000"
      ]
     },
     "execution_count": 12,
     "metadata": {},
     "output_type": "execute_result"
    }
   ],
   "source": [
    "len(prompts)"
   ]
  },
  {
   "cell_type": "code",
   "execution_count": 13,
   "id": "f6308660",
   "metadata": {},
   "outputs": [
    {
     "name": "stderr",
     "output_type": "stream",
     "text": [
      "100%|███████████████████████████████████████| 100/100 [1:41:57<00:00, 61.17s/it]\n"
     ]
    }
   ],
   "source": [
    "max_worker = 50\n",
    "\n",
    "questions = prompts\n",
    "for i in tqdm(range(0, len(questions), max_worker)):\n",
    "    urls_ = [(q, no + i) for no, q in enumerate(questions[i: i + max_worker])]\n",
    "    \n",
    "    with ThreadPoolExecutor(max_workers=max_worker) as executor:\n",
    "        futures = {executor.submit(answer, url[0], url[1]): url for url in urls_}\n",
    "\n",
    "        for future in as_completed(futures):\n",
    "            future.result()"
   ]
  },
  {
   "cell_type": "code",
   "execution_count": 14,
   "id": "3c9a0687",
   "metadata": {},
   "outputs": [
    {
     "data": {
      "text/plain": [
       "5000"
      ]
     },
     "execution_count": 14,
     "metadata": {},
     "output_type": "execute_result"
    }
   ],
   "source": [
    "from glob import glob\n",
    "\n",
    "files = glob('mixtral-math/*.json')\n",
    "files = sorted(files, key = lambda x: int(x.split('/')[-1].replace('.json', '')))\n",
    "        \n",
    "len(files)"
   ]
  },
  {
   "cell_type": "code",
   "execution_count": 15,
   "id": "506b453a",
   "metadata": {},
   "outputs": [
    {
     "data": {
      "text/plain": [
       "8833"
      ]
     },
     "execution_count": 15,
     "metadata": {},
     "output_type": "execute_result"
    }
   ],
   "source": [
    "import json\n",
    "\n",
    "questions = []\n",
    "for f in files:\n",
    "    with open(f) as fopen:\n",
    "        data = json.load(fopen)\n",
    "    splitted = data.strip().split('\\n')\n",
    "    splitted = [s for s in splitted if '.' if s and '?' in s]\n",
    "    splitted = ['.'.join(s.split('.')[1:]).strip() for s in splitted]\n",
    "    splitted = [s for s in splitted if len(s) > 3]\n",
    "    splitted = [s[1:] if s[0] == '\"' else s for s in splitted]\n",
    "    splitted = [s[:-1] if s[-1] == '\"' else s for s in splitted]\n",
    "    splitted = [s.strip() for s in splitted]\n",
    "    questions.extend(splitted)\n",
    "    \n",
    "questions = sorted(list(set(questions)))\n",
    "len(questions)"
   ]
  },
  {
   "cell_type": "code",
   "execution_count": 16,
   "id": "b671800a",
   "metadata": {},
   "outputs": [
    {
     "data": {
      "text/plain": [
       "['99 + 256.32, how much is 299.99 + 256.32?',\n",
       " 'A 12-foot ladder leans against a wall so that the foot of the ladder is 4 feet from the wall. How high does the ladder reach?',\n",
       " 'A 12-meter long ladder is leaning against a wall. If the foot of the ladder is 3 meters away from the wall, how high does the ladder reach up the wall?',\n",
       " 'A 12-ounce can of soda contains 39 grams of sugar. How much sugar is in a 2-liter bottle of soda, which contains 67.2 ounces?',\n",
       " 'A 12-ounce can of soda has a height of 7 inches and a base diameter of 2.5 inches. What is the surface area of the can?',\n",
       " 'A and B are two points on a number line, with A at -4 and B at 10. What is the distance between A and B?',\n",
       " 'A bag contains 10 marbles: 3 are green, 4 are blue, and the rest are red. How many marbles are red?',\n",
       " 'A bag contains 10 red marbles and 15 blue marbles. What is the probability of drawing a red marble from the bag?',\n",
       " 'A bag contains 10 red marbles and 15 blue marbles. What is the probability of drawing a red marble?',\n",
       " 'A bag contains 10 red marbles, 15 blue marbles, and 5 green marbles. What is the probability of drawing a red marble from the bag?',\n",
       " 'A bag contains 12 red balls and 15 blue balls. What is the probability of drawing a red ball?',\n",
       " 'A bag contains 12 red balls and 18 blue balls. What is the probability of drawing a red ball from the bag?',\n",
       " 'A bag contains 12 red balls and 18 blue balls. What is the probability of drawing a red ball?',\n",
       " 'A bag contains 12 red balls and 8 blue balls. What is the probability of drawing a red ball?',\n",
       " 'A bag contains 12 red marbles and 18 blue marbles. What is the probability of drawing a red marble from the bag?',\n",
       " 'A bag contains 12 red marbles and 18 blue marbles. What is the probability of drawing a red marble?',\n",
       " 'A bag contains 12 red marbles and 5 blue marbles. What is the probability of drawing a red marble from the bag?',\n",
       " 'A bag contains 12 red marbles, 16 blue marbles, and 8 green marbles. What is the probability of drawing a red marble from the bag?',\n",
       " 'A bag contains 15 red marbles and 20 blue marbles. What is the probability of drawing a red marble from the bag?',\n",
       " 'A bag contains 3 red balls, 4 blue balls, and 5 green balls. What is the probability of drawing a red ball?',\n",
       " 'A bag contains 4 blue, 6 white, and 5 red marbles. What is the probability of drawing a blue marble?',\n",
       " 'A bag contains 4 red balls and 6 blue balls. What is the probability of drawing a red ball?',\n",
       " 'A bag contains 4 red balls, 5 blue balls, and 3 green balls. What is the probability of drawing a red ball?',\n",
       " 'A bag contains 4 red balls, 6 blue balls, and 5 green balls. If a ball is drawn at random from the bag, what is the probability that it is not a red ball?',\n",
       " 'A bag contains 4 red balls, 6 blue balls, and 5 green balls. What is the probability of drawing a red ball?',\n",
       " 'A bag contains 4 red balls, 6 blue balls, and 5 green balls. What is the probability of drawing a red or a blue ball?',\n",
       " 'A bag contains 4 red balls, 6 blue balls, and 7 green balls. What is the probability of drawing a red ball from the bag?',\n",
       " 'A bag contains 4 red marbles, 6 blue marbles, and 5 green marbles. If a marble is chosen at random, what is the probability that it is not red?',\n",
       " 'A bag contains 4 red marbles, 6 blue marbles, and 5 green marbles. What is the probability of drawing a red marble?',\n",
       " 'A bag contains 4 red, 5 blue, and 6 green marbles. What is the probability of drawing a red marble?',\n",
       " 'A bag contains 4 red, 6 blue, and 2 green marbles. If a marble is drawn at random, what is the probability of it being red?',\n",
       " 'A bag contains 5 red balls and 7 blue balls. If a ball is drawn at random from the bag, what is the probability that it is red?',\n",
       " 'A bag contains 5 red balls and 7 blue balls. What is the probability of drawing a red ball from the bag?',\n",
       " 'A bag contains 5 red balls and 7 blue balls. What is the probability of drawing a red ball?',\n",
       " 'A bag contains 5 red balls and 8 blue balls. What is the probability of drawing a red ball?',\n",
       " 'A bag contains 5 red balls, 3 blue balls, and 2 green balls. If a ball is drawn at random, what is the probability it is not red?',\n",
       " 'A bag contains 5 red balls, 7 blue balls, and 3 green balls. If a ball is drawn at random, what is the probability that it is not a green ball?',\n",
       " 'A bag contains 5 red balls, 7 blue balls, and 3 green balls. If a ball is randomly selected from the bag, what is the probability of selecting a red ball?',\n",
       " 'A bag contains 5 red balls, 7 blue balls, and 3 green balls. What is the probability of drawing a red ball from the bag?',\n",
       " 'A bag contains 5 red balls, 8 blue balls, and 2 green balls. What is the probability of drawing a red ball from the bag?',\n",
       " 'A bag contains 5 red marbles and 3 blue marbles. What is the probability of drawing a red marble?',\n",
       " 'A bag contains 5 red marbles and 7 blue marbles. What is the probability of drawing a red marble?',\n",
       " 'A bag contains 5 red marbles, 3 blue marbles, and 4 green marbles. What is the probability of drawing a red marble?',\n",
       " 'A bag contains 5 red marbles, 7 blue marbles, and 3 green marbles. What is the probability of drawing a red marble from the bag?',\n",
       " 'A bag contains 5 red marbles, 7 blue marbles, and 3 green marbles. What is the probability of drawing a red marble?',\n",
       " 'A bag contains 5 red marbles, 8 blue marbles, and 2 green marbles. What is the probability of drawing a red marble from the bag?',\n",
       " 'A bag contains 5 red marbles, 8 blue marbles, and 7 green marbles. What is the probability of drawing a red marble from the bag?',\n",
       " 'A bag contains 5 red marbles, 8 blue marbles, and 7 green marbles. What is the probability of drawing a red marble?',\n",
       " 'A bag contains 6 red balls and 4 blue balls. If a ball is drawn at random, what is the probability that it is red?',\n",
       " 'A bag contains 6 red balls and 4 blue balls. What is the probability of drawing a red ball?',\n",
       " 'A bag contains 6 red balls and 8 blue balls. What is the probability of drawing a red ball?',\n",
       " 'A bag contains 6 red balls, 8 blue balls, and 4 green balls. What is the probability of drawing a red ball?',\n",
       " 'A bag contains 6 red marbles and 4 blue marbles. What is the probability of drawing a red marble?',\n",
       " 'A bag contains 6 red marbles, 8 blue marbles, and 4 green marbles. If a marble is drawn at random, what is the probability that it is not blue?',\n",
       " 'A bag contains 6 red marbles, 8 blue marbles, and 4 green marbles. What is the probability of drawing a red marble from the bag?',\n",
       " 'A bag contains 7 red balls and 3 blue balls. If a ball is drawn at random, what is the probability of drawing a red ball?',\n",
       " 'A bag contains 7 red balls and 3 blue balls. What is the probability of drawing a red ball?',\n",
       " 'A bag contains 7 red balls and 4 blue balls. What is the probability of drawing a red ball?',\n",
       " 'A bag contains 7 red balls and 5 blue balls. What is the probability of drawing a red ball?',\n",
       " 'A bag contains 7 red balls, 5 blue balls, and 3 green balls. What is the probability of drawing a red ball from the bag?',\n",
       " 'A bag contains 7 red marbles and 3 blue marbles. What is the probability of drawing a red marble?',\n",
       " 'A bag contains 8 marbles, 3 of which are blue. What is the probability of drawing a blue marble?',\n",
       " 'A bag contains 8 red balls and 10 blue balls. What is the probability of drawing a red ball?',\n",
       " 'A bag contains 8 red balls and 12 blue balls. What is the probability of drawing a red ball?',\n",
       " 'A bag contains 8 white balls and 12 black balls. What is the probability of picking a white ball?',\n",
       " 'A bag of apples contains 8 red apples and 6 green apples. What fraction of the apples are red?',\n",
       " 'A bag of apples costs $5 and each apple costs $0.25. How many apples are in the bag?',\n",
       " 'A bag of apples weighs 10 pounds. If 2/5 of the bag is filled with apples, how many pounds of apples are in the bag?',\n",
       " 'A bag of apples weighs 3 pounds. If you have 8 bags, how much do all the bags weigh in total?',\n",
       " 'A bag of apples weighs 4 pounds. If an apple weighs 0.25 pounds, how many apples are in the bag?',\n",
       " 'A bag of candies contains 25 candies. If each candy costs $0.10, how much does the bag cost in total?',\n",
       " 'A bag of flour weighs 5 pounds. If a recipe calls for 3 cups of flour and 1 cup of flour weighs 4.5 ounces, how many pounds does the recipe call for?',\n",
       " 'A bag of marbles contains 30 marbles. If 7 marbles are removed, how many marbles are left in the bag?',\n",
       " 'A baker baked 10 trays of cookies, with 12 cookies on each tray. How many cookies did the baker bake in total?',\n",
       " 'A baker baked 100 cookies and packed them in boxes that hold 12 cookies each. How many boxes did the baker use?',\n",
       " 'A baker baked 12 dozen cookies. How many cookies did the baker bake in all?',\n",
       " 'A baker baked 12 dozen muffins for a fundraiser. How many muffins did she bake in total?',\n",
       " 'A baker baked 12 dozen muffins for a fundraiser. If she sells each muffin for $1.50, how much money will she make?',\n",
       " 'A baker baked 12 dozen muffins for a school bake sale. If each student buys 2 muffins, how many students can the baker serve?',\n",
       " 'A baker baked 12 dozen muffins. How many muffins did he bake in total?',\n",
       " 'A baker baked 12 dozen muffins. How many muffins did she bake in total?',\n",
       " 'A baker baked 12 dozen muffins. How many muffins did the baker bake in total?',\n",
       " 'A baker baked 12 dozen muffins. If she packs them in boxes that hold 6 dozen, how many boxes will she need?',\n",
       " 'A baker baked 12 trays of cookies, and each tray holds 24 cookies. How many cookies did the baker bake in total?',\n",
       " 'A baker baked 120 cookies and placed them in boxes that hold 10 cookies each. How many boxes did the baker use?',\n",
       " 'A baker baked 120 cookies and wants to package them in bags that can hold 10 cookies each. How many bags does the baker need?',\n",
       " 'A baker baked 120 cookies and wants to package them in bags that can hold 10 cookies each. How many bags will the baker need?',\n",
       " 'A baker baked 120 cookies and wants to package them in bags that hold 10 cookies each. How many bags will the baker need?',\n",
       " 'A baker baked 120 cookies in 4 hours. How many cookies can the baker bake in 1 hour?',\n",
       " 'A baker baked 120 cookies. He packed them in boxes, with 10 cookies in each box. How many boxes of cookies did he use?',\n",
       " 'A baker baked 120 cookies. If she packs them in boxes that hold 10 cookies each, how many boxes will she need?',\n",
       " 'A baker baked 120 muffins and 180 cookies. If she packaged them in boxes that can hold 12 muffins or 20 cookies each, how many boxes did she use in total?',\n",
       " 'A baker baked 120 muffins and 180 cookies. If she wants to package them in bags with an equal number of muffins and cookies, what is the greatest number of bags she can use?',\n",
       " 'A baker baked 120 muffins and 180 cookies. If she wants to package them in boxes with an equal number of muffins and cookies in each box, what is the greatest number of boxes she can use?',\n",
       " 'A baker baked 120 muffins and 180 cookies. If she wants to package them in equal-sized boxes, what is the greatest number of muffins and cookies she can put in each box?',\n",
       " 'A baker baked 120 muffins and 180 cupcakes. Each muffin requires 1/4 cup of batter, and each cupcake requires 1/6 cup of batter. How many cups of batter did the baker use in total?',\n",
       " 'A baker baked 120 muffins and 180 cupcakes. How many muffins and cupcakes did he bake in total?',\n",
       " 'A baker baked 120 muffins and 180 cupcakes. How many treats did he bake in total?',\n",
       " 'A baker baked 120 muffins and 180 cupcakes. If he packaged them in boxes that can hold 12 muffins or 18 cupcakes each, how many boxes did he use in total?',\n",
       " 'A baker baked 120 muffins and 180 cupcakes. If he wants to package them in boxes so that each box contains an equal number of muffins and cupcakes, what is the greatest number of boxes he can use?']"
      ]
     },
     "execution_count": 16,
     "metadata": {},
     "output_type": "execute_result"
    }
   ],
   "source": [
    "questions[:100]"
   ]
  },
  {
   "cell_type": "code",
   "execution_count": 17,
   "id": "4a3449cb",
   "metadata": {},
   "outputs": [],
   "source": [
    "!mkdir answer-mixtral-math-question"
   ]
  },
  {
   "cell_type": "code",
   "execution_count": 18,
   "id": "14e927e9",
   "metadata": {},
   "outputs": [],
   "source": [
    "def answer(q, i):\n",
    "    filename = f'answer-mixtral-math-question/{i}.json'\n",
    "    if os.path.exists(filename):\n",
    "        return\n",
    "    \n",
    "    while True:\n",
    "        try:\n",
    "            prompt = q\n",
    "            formatted_prompt = format_prompt(prompt, [])\n",
    "            stream = client.text_generation(formatted_prompt, **generate_kwargs, stream=False, details=True, return_full_text=False)\n",
    "            output = stream.generated_text\n",
    "            with open(filename, 'w') as fopen:\n",
    "                json.dump(output, fopen)\n",
    "            break\n",
    "        except:\n",
    "            pass"
   ]
  },
  {
   "cell_type": "code",
   "execution_count": 19,
   "id": "c37cdcdb",
   "metadata": {},
   "outputs": [
    {
     "name": "stderr",
     "output_type": "stream",
     "text": [
      "100%|███████████████████████████████████████| 177/177 [1:06:57<00:00, 22.70s/it]\n"
     ]
    }
   ],
   "source": [
    "max_worker = 50\n",
    "\n",
    "for i in tqdm(range(0, len(questions), max_worker)):\n",
    "    urls_ = [(q, no + i) for no, q in enumerate(questions[i: i + max_worker])]\n",
    "    \n",
    "    with ThreadPoolExecutor(max_workers=max_worker) as executor:\n",
    "        futures = {executor.submit(answer, url[0], url[1]): url for url in urls_}\n",
    "\n",
    "        for future in as_completed(futures):\n",
    "            future.result()"
   ]
  },
  {
   "cell_type": "code",
   "execution_count": 20,
   "id": "eed49af7",
   "metadata": {},
   "outputs": [
    {
     "name": "stderr",
     "output_type": "stream",
     "text": [
      "100%|███████████████████████████████████| 8833/8833 [00:00<00:00, 104839.20it/s]\n"
     ]
    },
    {
     "data": {
      "text/plain": [
       "17666"
      ]
     },
     "execution_count": 20,
     "metadata": {},
     "output_type": "execute_result"
    }
   ],
   "source": [
    "data = []\n",
    "for f in tqdm(glob('answer-mixtral-math-question/*.json')):\n",
    "    with open(f) as fopen:\n",
    "        data.append(json.load(fopen).strip())\n",
    "        \n",
    "data.extend(questions)\n",
    "len(data)"
   ]
  },
  {
   "cell_type": "code",
   "execution_count": 22,
   "id": "3a44e2c7",
   "metadata": {},
   "outputs": [],
   "source": [
    "with open('answer-mixtral-math-question.texts', 'w') as fopen:\n",
    "    for t in set(data):\n",
    "        fopen.write(f'{json.dumps(t)}\\n')"
   ]
  },
  {
   "cell_type": "code",
   "execution_count": 23,
   "id": "0e044a74",
   "metadata": {},
   "outputs": [],
   "source": [
    "!cp answer-mixtral-math-question.texts ../translation"
   ]
  },
  {
   "cell_type": "code",
   "execution_count": 51,
   "id": "3c1602ac",
   "metadata": {},
   "outputs": [
    {
     "data": {
      "text/plain": [
       "17531"
      ]
     },
     "execution_count": 51,
     "metadata": {},
     "output_type": "execute_result"
    }
   ],
   "source": [
    "import re\n",
    "\n",
    "mapping = {}\n",
    "for f in glob('/home/husein/ssd3/translation/answer-mixtral-math-question.texts*.splitted.requested'):\n",
    "    with open(f) as fopen:\n",
    "        for l in fopen:\n",
    "            l = json.loads(l)\n",
    "            if 'Source text\\nclear\\nLook up details' in l['r']['result']:\n",
    "                continue\n",
    "            if 'clear\\nLook up details' in l['r']['result']:\n",
    "                continue\n",
    "            if l['r']['result'].startswith('Source text\\n'):\n",
    "                continue\n",
    "\n",
    "            n = l['r']['result']\n",
    "            hypens = re.findall('\\w+ -\\w+', n)\n",
    "            for h in hypens:\n",
    "                splitted = h.split('-')\n",
    "                if len(splitted) != 2:\n",
    "                    continue\n",
    "                splitted = [s.strip() for s in splitted]\n",
    "                splitted = '-'.join(splitted)\n",
    "                n = n.replace(h, splitted)\n",
    "            mapping[l['src']] = n\n",
    "len(mapping)"
   ]
  },
  {
   "cell_type": "code",
   "execution_count": 47,
   "id": "e5cd73c8",
   "metadata": {},
   "outputs": [],
   "source": [
    "with open('mixtral-math.jsonl', 'w') as fopen_l:\n",
    "    for no, q in enumerate(questions):\n",
    "        filename = f'answer-mixtral-math-question/{no}.json'\n",
    "        if not os.path.exists(filename):\n",
    "            continue\n",
    "\n",
    "        with open(filename) as fopen:\n",
    "            a = json.load(fopen).strip()\n",
    "            \n",
    "        if a.count('?') > 0:\n",
    "            continue\n",
    "            \n",
    "        d = {\n",
    "            'question': q,\n",
    "            'question_ms': mapping.get(q),\n",
    "            'answer': a,\n",
    "            'answer_ms': mapping.get(a)\n",
    "        }\n",
    "        fopen_l.write(f'{json.dumps(d)}\\n')"
   ]
  },
  {
   "cell_type": "code",
   "execution_count": 48,
   "id": "13f4a2b7",
   "metadata": {
    "scrolled": true
   },
   "outputs": [
    {
     "name": "stdout",
     "output_type": "stream",
     "text": [
      "{\"question\": \"99 + 256.32, how much is 299.99 + 256.32?\", \"question_ms\": \"99 + 256.32, berapakah 299.99 + 256.32?\", \"answer\": \"The sum of 99 and 256.32 is 355.32.\\n\\nThe sum of 299.99 and 256.32 is 556.31.\\n\\nTo find the sum of 99 and 256.32, you simply add the two numbers together:\\n\\n99 + 256.32 = 355.32\\n\\nTo find the sum of 299.99 and 256.32, you can add the two numbers in the same way:\\n\\n299.99 + 256.32 = 556.31\\n\\nI hope this helps! If you have any other questions, just let me know.\", \"answer_ms\": \"Jumlah 99 dan 256.32 ialah 355.32.\\n\\nJumlah 299.99 dan 256.32 ialah 556.31.\\n\\nUntuk mencari jumlah 99 dan 256.32, anda hanya menambah dua nombor bersama-sama:\\n\\n99 + 256.32 = 355.32\\n\\nUntuk mencari jumlah 299.99 dan 256.32, anda boleh menambah dua nombor dengan cara yang sama:\\n\\n299.99 + 256.32 = 556.31\\n\\nSaya harap ini dapat membantu! Jika anda mempunyai sebarang soalan lain, beritahu saya.\"}\r\n",
      "{\"question\": \"A 12-foot ladder leans against a wall so that the foot of the ladder is 4 feet from the wall. How high does the ladder reach?\", \"question_ms\": \"Tangga sepanjang 12 kaki disandarkan pada dinding supaya kaki tangga itu berada 4 kaki dari dinding. Berapa tinggi tangga itu dicapai?\", \"answer\": \"The ladder reaches a height of 11.31 feet.\\n\\nHere's the reasoning:\\n\\n1. This is a right triangle problem, where the ladder acts as the hypotenuse, the distance from the wall to the ladder's foot is the adjacent side, and the height reached by the ladder is the opposite side.\\n2. We can use the Pythagorean theorem to solve for the height: a^2 + b^2 = c^2, where a and b are the legs of the triangle, and c is the hypotenuse.\\n3. In this case, a = 4 feet (distance from the wall), and c = 12 feet (length of the ladder).\\n4. First, we need to find the square of both a and c: a^2 = 16, and c^2 = 144.\\n5. Now, we can find the square of the opposite side (b^2) by subtracting a^2 from c^2: b^2 = c^2 - a^2 = 144 - 16 = 128.\\n6. Finally, we take the square root of b^2 to find the height reached by the ladder: b = \\u221a128 \\u2248 11.31 feet.\\n\\nTherefore, the ladder reaches a height of approximately 11.31 feet.\", \"answer_ms\": \"Tangga mencapai ketinggian 11.31 kaki.\\n\\nInilah alasannya:\\n\\n1. Ini adalah masalah segi tiga tegak, di mana tangga bertindak sebagai hipotenus, jarak dari dinding ke kaki tangga adalah sebelah bersebelahan, dan ketinggian yang dicapai oleh tangga adalah sebelah bertentangan.\\n2. Kita boleh menggunakan teorem Pythagoras untuk menyelesaikan ketinggian: a^2 + b^2 = c^2, dengan a dan b ialah kaki segi tiga, dan c ialah hipotenus.\\n3. Dalam kes ini, a = 4 kaki (jarak dari dinding), dan c = 12 kaki (panjang tangga).\\n4. Pertama, kita perlu mencari kuasa dua a dan c: a^2 = 16, dan c^2 = 144.\\n5. Sekarang, kita boleh mencari segi empat sama sisi bertentangan (b^2) dengan menolak a^2 daripada c^2: b^2 = c^2 - a^2 = 144 - 16 = 128.\\n6. Akhir sekali, kita ambil punca kuasa dua b^2 untuk mencari ketinggian yang dicapai oleh tangga: b = \\u221a128 \\u2248 11.31 kaki.\\n\\nOleh itu, tangga mencapai ketinggian lebih kurang 11.31 kaki.\"}\r\n",
      "{\"question\": \"A 12-meter long ladder is leaning against a wall. If the foot of the ladder is 3 meters away from the wall, how high does the ladder reach up the wall?\", \"question_ms\": \"Sebuah tangga sepanjang 12 meter bersandar pada dinding. Jika kaki tangga itu berada 3 meter dari dinding, berapa tinggikah tangga itu mencecah dinding?\", \"answer\": \"The ladder reaches 11 meters up the wall.\\n\\nHere's the reasoning:\\n\\n1. We can use the Pythagorean theorem to solve this problem since a right triangle is formed by the ladder, the ground, and the wall.\\n2. The Pythagorean theorem states that in a right triangle, the square of the length of the hypotenuse (the side opposite the right angle) is equal to the sum of the squares of the lengths of the other two sides.\\n3. In our case, the ladder (12 meters) represents the hypotenuse, the vertical distance reached on the wall (let's call it \\\"a\\\") is one side of the triangle, and the distance from the wall to the foot of the ladder (3 meters) is the other side.\\n4. So, we have a\\u00b2 + 3\\u00b2 = 12\\u00b2.\\n5. Simplifying, we get a\\u00b2 = 144 - 9 = 135.\\n6. Taking the square root of both sides, we find that a = \\u221a135 \\u2248 11.61 meters.\\n7. However, since the ladder is only able to reach whole numbers of meters, we round down to the nearest whole number, which is 11 meters.\", \"answer_ms\": \"Tangga mencecah 11 meter di atas dinding.\\n\\nInilah alasannya:\\n\\n1. Kita boleh menggunakan teorem Pythagoras untuk menyelesaikan masalah ini kerana segi tiga tegak dibentuk oleh tangga, tanah dan dinding.\\n2. Teorem Pythagoras menyatakan bahawa dalam segi tiga tepat, kuasa dua panjang hipotenus (sisi bertentangan dengan sudut tegak) adalah sama dengan hasil tambah kuasa dua panjang dua sisi yang lain.\\n3. Dalam kes kita, tangga (12 meter) mewakili hipotenus, jarak menegak yang dicapai pada dinding (mari kita panggil \\\"a\\\") ialah satu sisi segitiga, dan jarak dari dinding ke kaki tangga (3 meter) adalah sisi lain.\\n4. Jadi, kita mempunyai a\\u00b2 + 3\\u00b2 = 12\\u00b2.\\n5. Memudahkan, kita mendapat a\\u00b2 = 144 - 9 = 135.\\n6. Mengambil punca kuasa dua kedua-dua belah, kita dapati bahawa a = \\u221a135 \\u2248 11.61 meter.\\n7. Walau bagaimanapun, oleh kerana tangga itu hanya mampu mencapai nombor bulat meter, kita bundarkan ke bawah kepada nombor bulat terdekat, iaitu 11 meter.\"}\r\n"
     ]
    }
   ],
   "source": [
    "!head -n 3 mixtral-math.jsonl"
   ]
  },
  {
   "cell_type": "code",
   "execution_count": 49,
   "id": "a183c461",
   "metadata": {},
   "outputs": [
    {
     "data": {
      "application/vnd.jupyter.widget-view+json": {
       "model_id": "38b74a86980046b5995c999e6151b503",
       "version_major": 2,
       "version_minor": 0
      },
      "text/plain": [
       "mixtral-math.jsonl:   0%|          | 0.00/11.4M [00:00<?, ?B/s]"
      ]
     },
     "metadata": {},
     "output_type": "display_data"
    },
    {
     "data": {
      "text/plain": [
       "'https://huggingface.co/datasets/mesolitica/mixtral-malaysian-general-qa/blob/main/mixtral-math.jsonl'"
      ]
     },
     "execution_count": 49,
     "metadata": {},
     "output_type": "execute_result"
    }
   ],
   "source": [
    "from huggingface_hub import HfApi\n",
    "api = HfApi()\n",
    "api.upload_file(\n",
    "    path_or_fileobj='mixtral-math.jsonl',\n",
    "    path_in_repo='mixtral-math.jsonl',\n",
    "    repo_id='mesolitica/mixtral-malaysian-general-qa',\n",
    "    repo_type='dataset',\n",
    ")"
   ]
  },
  {
   "cell_type": "code",
   "execution_count": null,
   "id": "8a28c4e0",
   "metadata": {},
   "outputs": [],
   "source": []
  }
 ],
 "metadata": {
  "kernelspec": {
   "display_name": "Python 3 (ipykernel)",
   "language": "python",
   "name": "python3"
  },
  "language_info": {
   "codemirror_mode": {
    "name": "ipython",
    "version": 3
   },
   "file_extension": ".py",
   "mimetype": "text/x-python",
   "name": "python",
   "nbconvert_exporter": "python",
   "pygments_lexer": "ipython3",
   "version": "3.8.10"
  }
 },
 "nbformat": 4,
 "nbformat_minor": 5
}
