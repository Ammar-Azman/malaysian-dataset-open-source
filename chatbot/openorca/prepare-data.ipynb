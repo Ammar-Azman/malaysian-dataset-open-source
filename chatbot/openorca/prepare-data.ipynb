{
 "cells": [
  {
   "cell_type": "code",
   "execution_count": 1,
   "metadata": {},
   "outputs": [],
   "source": [
    "import pandas as pd"
   ]
  },
  {
   "cell_type": "code",
   "execution_count": 2,
   "metadata": {},
   "outputs": [],
   "source": [
    "df = pd.read_parquet('1M-GPT4-Augmented.parquet')"
   ]
  },
  {
   "cell_type": "code",
   "execution_count": 3,
   "metadata": {},
   "outputs": [
    {
     "data": {
      "text/plain": [
       "(994896, 4)"
      ]
     },
     "execution_count": 3,
     "metadata": {},
     "output_type": "execute_result"
    }
   ],
   "source": [
    "df.shape"
   ]
  },
  {
   "cell_type": "code",
   "execution_count": 4,
   "metadata": {},
   "outputs": [
    {
     "data": {
      "text/html": [
       "<div>\n",
       "<style scoped>\n",
       "    .dataframe tbody tr th:only-of-type {\n",
       "        vertical-align: middle;\n",
       "    }\n",
       "\n",
       "    .dataframe tbody tr th {\n",
       "        vertical-align: top;\n",
       "    }\n",
       "\n",
       "    .dataframe thead th {\n",
       "        text-align: right;\n",
       "    }\n",
       "</style>\n",
       "<table border=\"1\" class=\"dataframe\">\n",
       "  <thead>\n",
       "    <tr style=\"text-align: right;\">\n",
       "      <th></th>\n",
       "      <th>id</th>\n",
       "      <th>system_prompt</th>\n",
       "      <th>question</th>\n",
       "      <th>response</th>\n",
       "    </tr>\n",
       "  </thead>\n",
       "  <tbody>\n",
       "    <tr>\n",
       "      <th>0</th>\n",
       "      <td>niv.242684</td>\n",
       "      <td></td>\n",
       "      <td>You will be given a definition of a task first...</td>\n",
       "      <td>[\\n  [\"AFC Ajax (amateurs)\", \"has ground\", \"Sp...</td>\n",
       "    </tr>\n",
       "    <tr>\n",
       "      <th>1</th>\n",
       "      <td>flan.564327</td>\n",
       "      <td>You are an AI assistant. You will be given a t...</td>\n",
       "      <td>Generate an approximately fifteen-word sentenc...</td>\n",
       "      <td>Midsummer House is a moderately priced Chinese...</td>\n",
       "    </tr>\n",
       "    <tr>\n",
       "      <th>2</th>\n",
       "      <td>flan.1875913</td>\n",
       "      <td>You are a helpful assistant, who always provid...</td>\n",
       "      <td>What happens next in this paragraph?\\n\\nShe th...</td>\n",
       "      <td>C. She then dips the needle in ink and using t...</td>\n",
       "    </tr>\n",
       "    <tr>\n",
       "      <th>3</th>\n",
       "      <td>t0.408370</td>\n",
       "      <td>You are an AI assistant. You will be given a t...</td>\n",
       "      <td>Please answer the following question: I want t...</td>\n",
       "      <td>Based on the passage, discuss the primary moti...</td>\n",
       "    </tr>\n",
       "    <tr>\n",
       "      <th>4</th>\n",
       "      <td>cot.86217</td>\n",
       "      <td>You are an AI assistant that helps people find...</td>\n",
       "      <td>James runs a TV show and there are 5 main char...</td>\n",
       "      <td>James pays the minor characters $15,000 each e...</td>\n",
       "    </tr>\n",
       "  </tbody>\n",
       "</table>\n",
       "</div>"
      ],
      "text/plain": [
       "             id                                      system_prompt  \\\n",
       "0    niv.242684                                                      \n",
       "1   flan.564327  You are an AI assistant. You will be given a t...   \n",
       "2  flan.1875913  You are a helpful assistant, who always provid...   \n",
       "3     t0.408370  You are an AI assistant. You will be given a t...   \n",
       "4     cot.86217  You are an AI assistant that helps people find...   \n",
       "\n",
       "                                            question  \\\n",
       "0  You will be given a definition of a task first...   \n",
       "1  Generate an approximately fifteen-word sentenc...   \n",
       "2  What happens next in this paragraph?\\n\\nShe th...   \n",
       "3  Please answer the following question: I want t...   \n",
       "4  James runs a TV show and there are 5 main char...   \n",
       "\n",
       "                                            response  \n",
       "0  [\\n  [\"AFC Ajax (amateurs)\", \"has ground\", \"Sp...  \n",
       "1  Midsummer House is a moderately priced Chinese...  \n",
       "2  C. She then dips the needle in ink and using t...  \n",
       "3  Based on the passage, discuss the primary moti...  \n",
       "4  James pays the minor characters $15,000 each e...  "
      ]
     },
     "execution_count": 4,
     "metadata": {},
     "output_type": "execute_result"
    }
   ],
   "source": [
    "df.head(5)"
   ]
  },
  {
   "cell_type": "code",
   "execution_count": 8,
   "metadata": {},
   "outputs": [],
   "source": [
    "prompts = set(df['system_prompt'].tolist())\n",
    "questions = set(df['question'].tolist())\n",
    "responses = set(df['response'].tolist())"
   ]
  },
  {
   "cell_type": "code",
   "execution_count": 9,
   "metadata": {},
   "outputs": [
    {
     "data": {
      "text/plain": [
       "(17, 863571, 911340)"
      ]
     },
     "execution_count": 9,
     "metadata": {},
     "output_type": "execute_result"
    }
   ],
   "source": [
    "len(prompts), len(questions), len(responses)"
   ]
  },
  {
   "cell_type": "code",
   "execution_count": 13,
   "metadata": {},
   "outputs": [],
   "source": [
    "combined = prompts | questions | responses"
   ]
  },
  {
   "cell_type": "code",
   "execution_count": 19,
   "metadata": {},
   "outputs": [
    {
     "name": "stderr",
     "output_type": "stream",
     "text": [
      "2023-08-05 15:09:10.575640: I tensorflow/core/platform/cpu_feature_guard.cc:193] This TensorFlow binary is optimized with oneAPI Deep Neural Network Library (oneDNN) to use the following CPU instructions in performance-critical operations:  AVX2 AVX_VNNI FMA\n",
      "To enable them in other operations, rebuild TensorFlow with the appropriate compiler flags.\n",
      "2023-08-05 15:09:10.768899: I tensorflow/core/util/port.cc:104] oneDNN custom operations are on. You may see slightly different numerical results due to floating-point round-off errors from different computation orders. To turn them off, set the environment variable `TF_ENABLE_ONEDNN_OPTS=0`.\n",
      "2023-08-05 15:09:12.387529: W tensorflow/compiler/xla/stream_executor/platform/default/dso_loader.cc:64] Could not load dynamic library 'libnvinfer.so.7'; dlerror: libnvinfer.so.7: cannot open shared object file: No such file or directory\n",
      "2023-08-05 15:09:12.387568: W tensorflow/compiler/xla/stream_executor/platform/default/dso_loader.cc:64] Could not load dynamic library 'libnvinfer_plugin.so.7'; dlerror: libnvinfer_plugin.so.7: cannot open shared object file: No such file or directory\n",
      "2023-08-05 15:09:12.387573: W tensorflow/compiler/tf2tensorrt/utils/py_utils.cc:38] TF-TRT Warning: Cannot dlopen some TensorRT libraries. If you would like to use Nvidia GPU with TensorRT, please make sure the missing libraries mentioned above are installed properly.\n",
      "/home/husein/.local/lib/python3.8/site-packages/tensorflow_addons/utils/ensure_tf_install.py:53: UserWarning: Tensorflow Addons supports using Python ops for all Tensorflow versions above or equal to 2.4.0 and strictly below 2.7.0 (nightly versions are not supported). \n",
      " The versions of TensorFlow you are currently using is 2.11.0 and is not supported. \n",
      "Some things might work, some things might not.\n",
      "If you were to encounter a bug, do not file an issue.\n",
      "If you want to make sure you're using a tested and supported configuration, either change the TensorFlow version or the TensorFlow Addons's version. \n",
      "You can find the compatibility matrix in TensorFlow Addon's readme:\n",
      "https://github.com/tensorflow/addons\n",
      "  warnings.warn(\n",
      "/home/husein/.local/lib/python3.8/site-packages/tensorflow_addons/utils/resource_loader.py:78: UserWarning: You are currently using TensorFlow 2.11.0 and trying to load a custom op (custom_ops/seq2seq/_beam_search_ops.so).\n",
      "TensorFlow Addons has compiled its custom ops against TensorFlow 2.6.0, and there are no compatibility guarantees between the two versions. \n",
      "This means that you might get segfaults when loading the custom op, or other kind of low-level errors.\n",
      " If you do, do not file an issue on Github. This is a known limitation.\n",
      "\n",
      "It might help you to fallback to pure Python ops by setting environment variable `TF_ADDONS_PY_OPS=1` or using `tfa.options.disable_custom_kernel()` in your code. To do that, see https://github.com/tensorflow/addons#gpucpu-custom-ops \n",
      "\n",
      "You can also change the TensorFlow version installed on your system. You would need a TensorFlow version equal to or above 2.6.0 and strictly below 2.7.0.\n",
      " Note that nightly versions of TensorFlow, as well as non-pip TensorFlow like `conda install tensorflow` or compiled from source are not supported.\n",
      "\n",
      "The last solution is to find the TensorFlow Addons version that has custom ops compatible with the TensorFlow installed on your system. To do that, refer to the readme: https://github.com/tensorflow/addons\n",
      "  warnings.warn(\n",
      "Cannot import beam_search_ops from Tensorflow Addons, ['malaya.jawi_rumi.deep_model', 'malaya.phoneme.deep_model', 'malaya.rumi_jawi.deep_model', 'malaya.stem.deep_model'] will not available to use, make sure Tensorflow Addons version >= 0.12.0\n",
      "check compatible Tensorflow version with Tensorflow Addons at https://github.com/tensorflow/addons/releases\n",
      "Warning : `load_model` does not return WordVectorModel or SupervisedModel any more, but a `FastText` object which is very similar.\n"
     ]
    }
   ],
   "source": [
    "import malaya\n",
    "\n",
    "language_detection = malaya.language_detection.fasttext(model = 'mesolitica/fasttext-language-detection-v2')"
   ]
  },
  {
   "cell_type": "code",
   "execution_count": 14,
   "metadata": {},
   "outputs": [],
   "source": [
    "import json\n",
    "\n",
    "with open('combine.jsonl', 'w') as fopen:\n",
    "    for l in combined:\n",
    "        if len(l):\n",
    "            fopen.write(f'{json.dumps(l)}\\n')"
   ]
  },
  {
   "cell_type": "code",
   "execution_count": 15,
   "metadata": {
    "scrolled": true
   },
   "outputs": [
    {
     "name": "stdout",
     "output_type": "stream",
     "text": [
      "-rw-r--r-- 1 husein husein 1.5G Ogos  5 14:38 combine.jsonl\r\n"
     ]
    }
   ],
   "source": [
    "!ls -lh combine.jsonl"
   ]
  },
  {
   "cell_type": "code",
   "execution_count": null,
   "metadata": {},
   "outputs": [],
   "source": [
    "!"
   ]
  },
  {
   "cell_type": "code",
   "execution_count": 18,
   "metadata": {},
   "outputs": [
    {
     "name": "stdout",
     "output_type": "stream",
     "text": [
      "\"1. The statement is about women and menstruation.\\n2. Menstruation is a natural physiological process that women experience.\\n3. The sentence says \\\"Women begin Menstruation at a certain age frame.\\\"\\n4. The start of menstruation, called menarche, usually occurs within a general age range, typically between 9 and 16 years old.\\n5. The statement accurately reflects that women begin menstruating within a certain age frame.\\n\\nConclusion: The sentence is factually correct, so the answer is \\\"yes.\\\"\"\r\n",
      "\"By JENNIFER C. KERR    WASHINGTON (AP) -- Federal regulators approved new rules Thursday aimed at making high-speed Internet available to more Americans...\\nWhat is this text about?\"\r\n",
      "\"Drittens war es bedauerlich, dass keine Mehrheit daf\\u00fcr gefunden werden konnte, klarzustellen, dass es m\\u00f6glich sein sollte, Schutzmechanismen f\\u00fcr Minderheiten zu haben: 190 Stimmen daf\\u00fcr und 287 dagegen.\\n\\nGerman:\\n\\nSchritt 1. Identifiziere die wichtigen Elemente des englischen Textes\\nDer englische Text besagt, dass es ungl\\u00fccklich war, dass keine Mehrheit daf\\u00fcr zustande kam, zu erkl\\u00e4ren, dass Schutzmechanismen f\\u00fcr Minderheiten m\\u00f6glich sein sollten, und gibt die Abstimmungszahlen an (190 daf\\u00fcr, 287 dagegen).\\n\\nSchritt 2. \\u00dcbersetze die Elemente ins Deutsche\\n- Thirdly: Drittens\\n- it was unfortunate: es war bedauerlich\\n- that a majority could not be raised: dass keine Mehrheit daf\\u00fcr gefunden werden konnte\\n- to clearly state: klarzustellen\\n- that it should be possible: dass es m\\u00f6glich sein sollte\\n- to have protection mechanisms for minorities: Schutzmechanismen f\\u00fcr Minderheiten zu haben\\n- 190 votes for and 287 against: 190 Stimmen daf\\u00fcr und 287 dagegen\\n\\nSchritt 3. Setze die \\u00fcbersetzten Elemente in einen zusammenh\\u00e4ngenden Satz zusammen\\n\\\"Drittens war es bedauerlich, dass keine Mehrheit daf\\u00fcr gefunden werden konnte, klarzustellen, dass es m\\u00f6glich sein sollte, Schutzmechanismen f\\u00fcr Minderheiten zu haben: 190 Stimmen daf\\u00fcr und 287 dagegen.\\\"\\n\\nDiese \\u00dcbersetzung kommuniziert die Informationen aus dem englischen Text genau und verwendet die grammatikalisch korrekten deutschen \\u00c4quivalente.\"\r\n",
      "\"Combine facts and answer this: Which entertainment group released a mixtape which was made by a member of the Lox?\\nA:\"\r\n",
      "\"Q: In this task, you are given product reviews about dvds. The goal is to classify the review as \\\"POS\\\" if the overall sentiment of the review is positive(the reviewer is satisfied) or as \\\"NEG\\\" if the overall sentiment of the review is negative(the reviewer is not satisfied).\\na so-so movie adapted from a not-so-good novel . this is strictly a dvd production not good for the big screen. a very mediocre screenplay originated from a meidocre novel by one of the once-upon-a-time greatest novelists. sam elliot was a very bad casting choice, he's way too old for this action movie, he looked so tired to move around in almost all the locations. and the on and on flash-backs were the worst and the oldest directing and editing technique to be used in this bad movie. the cia and the cia operatives also looked so lame, so stupid and so unconvincing, they're just a bunch of wimps. the connection between cia and that bosnian mass murderer was also too contrite to be convinced easily. a brainless screenplay worse than the original bad novel.\\nA:\"\r\n"
     ]
    }
   ],
   "source": [
    "!head -n 5 combine.jsonl"
   ]
  },
  {
   "cell_type": "code",
   "execution_count": 20,
   "metadata": {},
   "outputs": [],
   "source": [
    "!split -l 100000 -d --additional-suffix=.splitted combine.jsonl combine.jsonl"
   ]
  }
 ],
 "metadata": {
  "kernelspec": {
   "display_name": "Python 3 (ipykernel)",
   "language": "python",
   "name": "python3"
  },
  "language_info": {
   "codemirror_mode": {
    "name": "ipython",
    "version": 3
   },
   "file_extension": ".py",
   "mimetype": "text/x-python",
   "name": "python",
   "nbconvert_exporter": "python",
   "pygments_lexer": "ipython3",
   "version": "3.8.10"
  }
 },
 "nbformat": 4,
 "nbformat_minor": 4
}
