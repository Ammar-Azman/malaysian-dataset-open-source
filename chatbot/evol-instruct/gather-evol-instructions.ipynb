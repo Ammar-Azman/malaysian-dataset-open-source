{
 "cells": [
  {
   "cell_type": "code",
   "execution_count": 7,
   "id": "cc8c3163",
   "metadata": {},
   "outputs": [],
   "source": [
    "from glob import glob\n",
    "from tqdm import tqdm\n",
    "import json\n",
    "import re"
   ]
  },
  {
   "cell_type": "code",
   "execution_count": 36,
   "id": "fb5b916a",
   "metadata": {},
   "outputs": [
    {
     "name": "stderr",
     "output_type": "stream",
     "text": [
      "/home/husein/.local/lib/python3.8/site-packages/requests/__init__.py:102: RequestsDependencyWarning: urllib3 (1.26.15) or chardet (5.2.0)/charset_normalizer (2.0.7) doesn't match a supported version!\n",
      "  warnings.warn(\"urllib3 ({}) or chardet ({})/charset_normalizer ({}) doesn't match a supported \"\n"
     ]
    }
   ],
   "source": [
    "import tiktoken\n",
    "enc = tiktoken.get_encoding(\"cl100k_base\")"
   ]
  },
  {
   "cell_type": "code",
   "execution_count": 8,
   "id": "23040e0f",
   "metadata": {},
   "outputs": [],
   "source": [
    "rejected_words = [\n",
    "    'kebutuhan',\n",
    "    'berbeda',\n",
    "    'bahwa',\n",
    "    'Kode',\n",
    "    'kode',\n",
    "    'nomor',\n",
    "    'RMXX,XXX',\n",
    "    'kompleksitas',\n",
    "    'listrik',\n",
    "    'jawaban',\n",
    "    'teknis',\n",
    "    'berkualitas',\n",
    "    'mencoba',\n",
    "    'kampanye',\n",
    "    'komunitas',\n",
    "    'stabilitas',\n",
    "    'Stabilitas',\n",
    "    'metode',\n",
    "    'pria',\n",
    "    'butuh',\n",
    "    'jadwal',\n",
    "    'kasus',\n",
    "    'otomatis',\n",
    "    'populer',\n",
    "    'bisnis',\n",
    "    'probabilitas',\n",
    "    'rusak',\n",
    "    'kapasitas',\n",
    "    'rutinitas'\n",
    "]\n",
    "rejected_words = set(rejected_words)\n",
    "\n",
    "def check_indon(string):\n",
    "    string = re.sub('[^A-Za-z ]+', ' ', string)\n",
    "    return len(set(string.split()) & rejected_words) > 0"
   ]
  },
  {
   "cell_type": "code",
   "execution_count": 15,
   "id": "c86d699f",
   "metadata": {},
   "outputs": [
    {
     "data": {
      "text/plain": [
       "110635"
      ]
     },
     "execution_count": 15,
     "metadata": {},
     "output_type": "execute_result"
    }
   ],
   "source": [
    "files = sorted(glob('evol-instructs/*.json'), key = lambda x: int(x.split('/')[-1].replace('.json', '')))\n",
    "len(files)"
   ]
  },
  {
   "cell_type": "code",
   "execution_count": 16,
   "id": "262985af",
   "metadata": {},
   "outputs": [
    {
     "data": {
      "text/plain": [
       "{'instruction': 'Sementara anda meneruskan penyelidikan mendalam topik ini, pertimbangkan untuk membangunkan siri pertanyaan yang berkait antara satu sama lain, akhirnya membawa kepada pemahaman menyeluruh tentang konsep yang ada. Setiap pertanyaan perlu memerlukan tahap pemikiran yang lebih tinggi dan pemahaman tentang maklumat yang disajikan, mencabar anda untuk menjelajahi dengan lebih mendalam tentang kompleksiti subjek yang dibincangkan. Matlamat utama adalah mencapai tahap pemahaman yang membolehkan anda untuk mengaplikasikan pengetahuan ke dalam situasi dunia nyata dan membuat keputusan yang informatif berdasarkan maklumat yang diberikan.',\n",
       " 'output': 'Tentu, saya faham. Anda mencadangkan untuk membina siri pertanyaan yang berkait antara satu sama lain untuk memahami konsep secara menyeluruh. Setiap pertanyaan perlu menggalakkan pemikiran tinggi dan pemahaman yang mendalam tentang maklumat yang disajikan, supaya saya dapat menjelajahi subjek dengan lebih mendalam. Matlamat utama adalah mencapai tahap pemahaman yang membolehkan saya untuk mengaplikasikan pengetahuan ke dalam situasi dunia nyata dan membuat keputusan yang informatif berdasarkan maklumat yang diberikan. Terima kasih atas panduan ini. Saya akan berusaha membangunkan siri pertanyaan yang pantas bagi mencapai matlamat yang telah anda nyatakan.'}"
      ]
     },
     "execution_count": 16,
     "metadata": {},
     "output_type": "execute_result"
    }
   ],
   "source": [
    "with open(files[-2]) as fopen:\n",
    "    data = json.load(fopen)\n",
    "data"
   ]
  },
  {
   "cell_type": "code",
   "execution_count": 17,
   "id": "cd6a7e59",
   "metadata": {
    "scrolled": true
   },
   "outputs": [
    {
     "name": "stdout",
     "output_type": "stream",
     "text": [
      "Sementara anda meneruskan penyelidikan mendalam topik ini, pertimbangkan untuk membangunkan siri pertanyaan yang berkait antara satu sama lain, akhirnya membawa kepada pemahaman menyeluruh tentang konsep yang ada. Setiap pertanyaan perlu memerlukan tahap pemikiran yang lebih tinggi dan pemahaman tentang maklumat yang disajikan, mencabar anda untuk menjelajahi dengan lebih mendalam tentang kompleksiti subjek yang dibincangkan. Matlamat utama adalah mencapai tahap pemahaman yang membolehkan anda untuk mengaplikasikan pengetahuan ke dalam situasi dunia nyata dan membuat keputusan yang informatif berdasarkan maklumat yang diberikan.\n"
     ]
    }
   ],
   "source": [
    "print(data['instruction'])"
   ]
  },
  {
   "cell_type": "code",
   "execution_count": 26,
   "id": "418c7cb3",
   "metadata": {},
   "outputs": [],
   "source": [
    "rejected_instructions = [\n",
    "    'tidak dapat melakukan penulisan semula', \n",
    "    'maaf', \n",
    "    'not able to fulfill your request',\n",
    "    'saya tidak dapat membantu',\n",
    "    'dengan permintaan itu',\n",
    "    'feel free to ask',\n",
    "    'saya tidak bisa',\n",
    "]"
   ]
  },
  {
   "cell_type": "code",
   "execution_count": 29,
   "id": "78f743a6",
   "metadata": {},
   "outputs": [
    {
     "name": "stderr",
     "output_type": "stream",
     "text": [
      "100%|████████████████████████████████| 110635/110635 [00:03<00:00, 35271.74it/s]\n"
     ]
    }
   ],
   "source": [
    "count, indon_count = 0, 0\n",
    "\n",
    "indon_texts = []\n",
    "for f in tqdm(files):\n",
    "    try:\n",
    "        with open(f) as fopen:\n",
    "            data = json.load(fopen)\n",
    "    except:\n",
    "        continue\n",
    "\n",
    "    if data['output'] is None:\n",
    "        continue\n",
    "        \n",
    "    if any([r in data['instruction'].lower() for r in rejected_instructions]):\n",
    "        continue\n",
    "\n",
    "    indon_texts.append(data['instruction'])\n",
    "    indon_texts.append(data['output'])\n",
    "\n",
    "    count += 1"
   ]
  },
  {
   "cell_type": "code",
   "execution_count": 30,
   "id": "f92201b8",
   "metadata": {},
   "outputs": [
    {
     "data": {
      "text/plain": [
       "180332"
      ]
     },
     "execution_count": 30,
     "metadata": {},
     "output_type": "execute_result"
    }
   ],
   "source": [
    "len(indon_texts)"
   ]
  },
  {
   "cell_type": "code",
   "execution_count": 31,
   "id": "3d5234ee",
   "metadata": {},
   "outputs": [],
   "source": [
    "with open('evol-instructions.texts', 'w') as fopen:\n",
    "    for t in set(indon_texts):\n",
    "        fopen.write(f'{json.dumps(t)}\\n')"
   ]
  },
  {
   "cell_type": "code",
   "execution_count": 33,
   "id": "21cd8ab1",
   "metadata": {},
   "outputs": [],
   "source": [
    "!cp evol-instructions.texts ~/ssd3/ctranslate2"
   ]
  },
  {
   "cell_type": "code",
   "execution_count": 34,
   "id": "bc720ede",
   "metadata": {},
   "outputs": [
    {
     "data": {
      "text/plain": [
       "178663"
      ]
     },
     "execution_count": 34,
     "metadata": {},
     "output_type": "execute_result"
    }
   ],
   "source": [
    "mapping = {}\n",
    "with open('/home/husein/ssd3/ctranslate2/evol-instructions.texts.requested') as fopen:\n",
    "    for l in fopen:\n",
    "        l = json.loads(l)\n",
    "        mapping[l['src']] = l['r']\n",
    "        \n",
    "len(mapping)"
   ]
  },
  {
   "cell_type": "code",
   "execution_count": 41,
   "id": "2edaea07",
   "metadata": {},
   "outputs": [
    {
     "name": "stderr",
     "output_type": "stream",
     "text": [
      "100%|█████████████████████████████████| 110635/110635 [00:26<00:00, 4134.73it/s]\n"
     ]
    }
   ],
   "source": [
    "rejected = 0\n",
    "\n",
    "with open('synthetic-evol-instructions.jsonl', 'w') as fopen_l:\n",
    "    for f in tqdm(files):\n",
    "        try:\n",
    "            with open(f) as fopen:\n",
    "                data = json.load(fopen)\n",
    "        except:\n",
    "            continue\n",
    "            \n",
    "        if data['output'] is None:\n",
    "            continue\n",
    "        \n",
    "        output_ms = mapping.get(data['output'])\n",
    "        instruction_ms = mapping.get(data['instruction'])\n",
    "        \n",
    "        indon_ins = False\n",
    "        if check_indon(data['instruction']):\n",
    "            indon_ins = True\n",
    "        \n",
    "        indon_output = False\n",
    "        if check_indon(data['output']):\n",
    "            indon_output = True\n",
    "        \n",
    "        rejected_ins = False\n",
    "        if 1024 <= len(enc.encode(data['instruction'])) <= 1025:\n",
    "            rejected_ins = True\n",
    "            \n",
    "        if any([r in data['instruction'].lower() for r in rejected_instructions]):\n",
    "            rejected_ins = True\n",
    "        \n",
    "        rejected_output = False\n",
    "        if 1024 <= len(enc.encode(data['output'])) <= 1025:\n",
    "            rejected_output = True\n",
    "            \n",
    "        if rejected_ins or rejected_output:\n",
    "            rejected += 1\n",
    "            \n",
    "        data['indon_ins'] = indon_ins\n",
    "        data['indon_output'] = indon_output\n",
    "        data['instruction_ms'] = instruction_ms\n",
    "        data['output_ms'] = output_ms\n",
    "        data['rejected_ins'] = rejected_ins\n",
    "        data['rejected_output'] = rejected_output\n",
    "        \n",
    "        fopen_l.write(f'{json.dumps(data)}\\n')\n",
    "        count += 1"
   ]
  },
  {
   "cell_type": "code",
   "execution_count": 42,
   "id": "20f1a03a",
   "metadata": {},
   "outputs": [
    {
     "name": "stdout",
     "output_type": "stream",
     "text": [
      "104286 synthetic-evol-instructions.jsonl\r\n"
     ]
    }
   ],
   "source": [
    "!wc -l synthetic-evol-instructions.jsonl"
   ]
  },
  {
   "cell_type": "code",
   "execution_count": null,
   "id": "f537220a",
   "metadata": {},
   "outputs": [],
   "source": []
  }
 ],
 "metadata": {
  "kernelspec": {
   "display_name": "Python 3 (ipykernel)",
   "language": "python",
   "name": "python3"
  },
  "language_info": {
   "codemirror_mode": {
    "name": "ipython",
    "version": 3
   },
   "file_extension": ".py",
   "mimetype": "text/x-python",
   "name": "python",
   "nbconvert_exporter": "python",
   "pygments_lexer": "ipython3",
   "version": "3.8.10"
  }
 },
 "nbformat": 4,
 "nbformat_minor": 5
}
