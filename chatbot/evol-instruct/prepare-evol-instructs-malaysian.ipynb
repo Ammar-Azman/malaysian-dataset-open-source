{
 "cells": [
  {
   "cell_type": "code",
   "execution_count": 1,
   "id": "d6694dd3",
   "metadata": {},
   "outputs": [],
   "source": [
    "# !wget https://huggingface.co/datasets/WizardLM/WizardLM_evol_instruct_V2_196k/resolve/main/WizardLM_evol_instruct_V2_143k.json"
   ]
  },
  {
   "cell_type": "code",
   "execution_count": 2,
   "id": "1fb41f7e",
   "metadata": {},
   "outputs": [],
   "source": [
    "# !wget https://huggingface.co/datasets/mesolitica/chatgpt4-malaysian-general-qa/resolve/main/malaysian-general-qa.jsonl\n",
    "# !wget https://huggingface.co/datasets/mesolitica/chatgpt4-malaysian-general-qa/resolve/main/malaysian-general-qa-v2.jsonl"
   ]
  },
  {
   "cell_type": "code",
   "execution_count": 3,
   "id": "e159ba5d",
   "metadata": {
    "scrolled": true
   },
   "outputs": [
    {
     "name": "stderr",
     "output_type": "stream",
     "text": [
      "/home/husein/.local/lib/python3.8/site-packages/requests/__init__.py:102: RequestsDependencyWarning: urllib3 (1.26.15) or chardet (5.2.0)/charset_normalizer (2.0.7) doesn't match a supported version!\n",
      "  warnings.warn(\"urllib3 ({}) or chardet ({})/charset_normalizer ({}) doesn't match a supported \"\n",
      "/home/husein/dev/malaya/malaya/tokenizer.py:214: FutureWarning: Possible nested set at position 3397\n",
      "  self.tok = re.compile(r'({})'.format('|'.join(pipeline)))\n",
      "/home/husein/dev/malaya/malaya/tokenizer.py:214: FutureWarning: Possible nested set at position 3927\n",
      "  self.tok = re.compile(r'({})'.format('|'.join(pipeline)))\n"
     ]
    }
   ],
   "source": [
    "import openai\n",
    "import instructor\n",
    "import json\n",
    "import os\n",
    "import malaya\n",
    "from pydantic import BaseModel, Field\n",
    "from bs4 import BeautifulSoup\n",
    "from concurrent.futures import ThreadPoolExecutor, as_completed\n",
    "from unidecode import unidecode\n",
    "import re\n",
    "import random\n",
    "\n",
    "minimum_len = 15\n",
    "\n",
    "def simple_cleaning(string):\n",
    "    return re.sub(r'[ ]+', ' ', unidecode(string).replace('\\n', ' ').replace('--', ' ').replace('/', ' ')).strip()"
   ]
  },
  {
   "cell_type": "code",
   "execution_count": 4,
   "id": "7804afdb",
   "metadata": {},
   "outputs": [],
   "source": [
    "openai.api_type = \"azure\"\n",
    "openai.api_base = \"https://husein-ai9-aiservices1611641965.openai.azure.com/\"\n",
    "openai.api_version = \"2023-07-01-preview\"\n",
    "openai.api_key = ''\n",
    "\n",
    "engine = 'gpt-35-turbo'"
   ]
  },
  {
   "cell_type": "code",
   "execution_count": 5,
   "id": "890c5601",
   "metadata": {},
   "outputs": [
    {
     "data": {
      "text/plain": [
       "25690"
      ]
     },
     "execution_count": 5,
     "metadata": {},
     "output_type": "execute_result"
    }
   ],
   "source": [
    "instructions = []\n",
    "for f in ['malaysian-general-qa.jsonl', 'malaysian-general-qa-v2.jsonl']:\n",
    "    with open(f) as fopen:\n",
    "        for l in fopen:\n",
    "            l = json.loads(l)\n",
    "            instructions.append(l['question'])\n",
    "       \n",
    "instructions = instructions[::-1]\n",
    "len(instructions)"
   ]
  },
  {
   "cell_type": "code",
   "execution_count": 6,
   "id": "1c57cf5c",
   "metadata": {},
   "outputs": [
    {
     "data": {
      "text/plain": [
       "'Terdapat berapa buah daerah di Negeri Sembilan dan apakah nama-nama daerah tersebut?'"
      ]
     },
     "execution_count": 6,
     "metadata": {},
     "output_type": "execute_result"
    }
   ],
   "source": [
    "instructions[0]"
   ]
  },
  {
   "cell_type": "code",
   "execution_count": 7,
   "id": "323e5b97",
   "metadata": {},
   "outputs": [],
   "source": [
    "def predict(prompt, max_tokens = 1024):\n",
    "    messages=[\n",
    "        {\"role\": \"system\", \"content\": \"You are a helpful assistant.\"},\n",
    "        {\"role\": \"user\", \"content\": prompt},\n",
    "       \n",
    "    ]\n",
    "    try:\n",
    "        response = openai.ChatCompletion.create(\n",
    "            engine=engine,\n",
    "            messages=messages,\n",
    "            temperature=1.0,\n",
    "            max_tokens=max_tokens,\n",
    "            top_p=1.0\n",
    "        )\n",
    "        return response.choices[0]['message']['content']\n",
    "    except Exception as e:\n",
    "        print(e)\n",
    "        return None"
   ]
  },
  {
   "cell_type": "code",
   "execution_count": 8,
   "id": "2984642e",
   "metadata": {},
   "outputs": [],
   "source": [
    "from depth_v2 import createConstraintsPrompt, createDeepenPrompt, createConcretizingPrompt, createReasoningPrompt\n",
    "from breadth_v2 import createBreadthPrompt"
   ]
  },
  {
   "cell_type": "code",
   "execution_count": 9,
   "id": "7d0e9074",
   "metadata": {},
   "outputs": [
    {
     "name": "stdout",
     "output_type": "stream",
     "text": [
      "mkdir: cannot create directory ‘evol-instructs-v2’: File exists\r\n"
     ]
    }
   ],
   "source": [
    "!mkdir evol-instructs-v2\n",
    "# !rm evol-instructs-v2/*"
   ]
  },
  {
   "cell_type": "code",
   "execution_count": 10,
   "id": "23a9d0d0",
   "metadata": {},
   "outputs": [],
   "source": [
    "def generate(instruction, index):\n",
    "    filename = f'evol-instructs-v2/{index}.json'\n",
    "    if os.path.exists(filename):\n",
    "        return\n",
    "    \n",
    "    try:\n",
    "        evol_prompts = []\n",
    "        evol_prompts.append(createConstraintsPrompt(instruction))\n",
    "        evol_prompts.append(createDeepenPrompt(instruction))\n",
    "        evol_prompts.append(createConcretizingPrompt(instruction))\n",
    "        evol_prompts.append(createReasoningPrompt(instruction))\n",
    "        evol_prompts.append(createBreadthPrompt(instruction))\n",
    "\n",
    "        selected_evol_prompt = random.choice(evol_prompts)\n",
    "        ins = predict(selected_evol_prompt)\n",
    "        answer = predict(ins + ', jawab dalam bahasa melayu', max_tokens = 2048)\n",
    "        d = {\"instruction\":ins,\"output\":answer}\n",
    "        with open(filename, 'w') as fopen:\n",
    "            json.dump(d, fopen)\n",
    "    except Exception as e:\n",
    "        print(e)\n",
    "        pass"
   ]
  },
  {
   "cell_type": "code",
   "execution_count": 11,
   "id": "9cfd2194",
   "metadata": {},
   "outputs": [],
   "source": [
    "generate(instructions[2], 2)"
   ]
  },
  {
   "cell_type": "code",
   "execution_count": 12,
   "id": "af9861ff",
   "metadata": {},
   "outputs": [
    {
     "data": {
      "text/plain": [
       "'Siapakah yang merupakan ketua menteri di Putrajaya pada masa kini?'"
      ]
     },
     "execution_count": 12,
     "metadata": {},
     "output_type": "execute_result"
    }
   ],
   "source": [
    "instructions[2]"
   ]
  },
  {
   "cell_type": "code",
   "execution_count": 13,
   "id": "36dcacc4",
   "metadata": {},
   "outputs": [
    {
     "name": "stderr",
     "output_type": "stream",
     "text": [
      "100%|█████████████████████████████████████| 6422/6422 [5:20:10<00:00,  2.99s/it]\n"
     ]
    }
   ],
   "source": [
    "from tqdm import tqdm\n",
    "\n",
    "max_worker = 1\n",
    "for i in tqdm(range((len(instructions) // 4) * 0, (len(instructions) // 4) * 1, max_worker)):\n",
    "    b = instructions[i: i + max_worker]\n",
    "    b = [(ins, i + no) for no, ins in enumerate(b)]\n",
    "    \n",
    "    with ThreadPoolExecutor(max_workers=max_worker) as executor:\n",
    "        futures = {executor.submit(generate, f[0], f[1]): f for f in b}\n",
    "\n",
    "        for future in as_completed(futures):\n",
    "            future.result()"
   ]
  },
  {
   "cell_type": "code",
   "execution_count": null,
   "id": "8bd349c3",
   "metadata": {},
   "outputs": [],
   "source": []
  }
 ],
 "metadata": {
  "kernelspec": {
   "display_name": "Python 3 (ipykernel)",
   "language": "python",
   "name": "python3"
  },
  "language_info": {
   "codemirror_mode": {
    "name": "ipython",
    "version": 3
   },
   "file_extension": ".py",
   "mimetype": "text/x-python",
   "name": "python",
   "nbconvert_exporter": "python",
   "pygments_lexer": "ipython3",
   "version": "3.8.10"
  }
 },
 "nbformat": 4,
 "nbformat_minor": 5
}
