{
 "cells": [
  {
   "cell_type": "code",
   "execution_count": 31,
   "id": "cc8c3163",
   "metadata": {},
   "outputs": [],
   "source": [
    "from glob import glob\n",
    "from tqdm import tqdm\n",
    "import json\n",
    "import re"
   ]
  },
  {
   "cell_type": "code",
   "execution_count": 32,
   "id": "23040e0f",
   "metadata": {},
   "outputs": [],
   "source": [
    "rejected_words = [\n",
    "    'kebutuhan',\n",
    "    'berbeda',\n",
    "    'bahwa',\n",
    "    'Kode',\n",
    "    'kode',\n",
    "    'nomor',\n",
    "    'RMXX,XXX',\n",
    "    'kompleksitas',\n",
    "    'listrik',\n",
    "    'jawaban',\n",
    "    'teknis',\n",
    "    'berkualitas',\n",
    "    'mencoba',\n",
    "    'kampanye',\n",
    "    'komunitas',\n",
    "    'stabilitas',\n",
    "    'Stabilitas',\n",
    "    'metode',\n",
    "    'pria',\n",
    "    'butuh',\n",
    "    'jadwal',\n",
    "    'kasus',\n",
    "    'otomatis',\n",
    "    'populer',\n",
    "    'bisnis',\n",
    "    'probabilitas',\n",
    "    'rusak',\n",
    "    'kapasitas',\n",
    "    'rutinitas'\n",
    "]\n",
    "rejected_words = set(rejected_words)\n",
    "\n",
    "def check_indon(string):\n",
    "    string = re.sub('[^A-Za-z ]+', ' ', string)\n",
    "    return len(set(string.split()) & rejected_words) > 0"
   ]
  },
  {
   "cell_type": "code",
   "execution_count": 34,
   "id": "c86d699f",
   "metadata": {},
   "outputs": [
    {
     "data": {
      "text/plain": [
       "112329"
      ]
     },
     "execution_count": 34,
     "metadata": {},
     "output_type": "execute_result"
    }
   ],
   "source": [
    "files = sorted(glob('code-instructions/*.json'), key = lambda x: int(x.split('/')[-1].replace('.json', '')))\n",
    "len(files)"
   ]
  },
  {
   "cell_type": "code",
   "execution_count": 35,
   "id": "fb82b991",
   "metadata": {},
   "outputs": [],
   "source": [
    "import tiktoken\n",
    "enc = tiktoken.get_encoding(\"cl100k_base\")"
   ]
  },
  {
   "cell_type": "code",
   "execution_count": 38,
   "id": "b4406189",
   "metadata": {},
   "outputs": [],
   "source": [
    "rejected_instructions = [\n",
    "    'tidak dapat melakukan penulisan semula', \n",
    "    'maaf', \n",
    "    'not able to fulfill your request',\n",
    "    'saya tidak dapat membantu',\n",
    "    'dengan permintaan itu',\n",
    "    'feel free to ask',\n",
    "    'saya tidak bisa',\n",
    "]"
   ]
  },
  {
   "cell_type": "code",
   "execution_count": 39,
   "id": "78f743a6",
   "metadata": {},
   "outputs": [
    {
     "name": "stderr",
     "output_type": "stream",
     "text": [
      "100%|█████████████████████████████████| 112329/112329 [00:13<00:00, 8535.17it/s]\n"
     ]
    }
   ],
   "source": [
    "count, indon_count = 0, 0\n",
    "\n",
    "indon_texts = []\n",
    "for f in tqdm(files):\n",
    "    try:\n",
    "        with open(f) as fopen:\n",
    "            data = json.load(fopen)\n",
    "    except:\n",
    "        continue\n",
    "\n",
    "    if data['output'] is None:\n",
    "        continue\n",
    "        \n",
    "    if any([r in data['instruction'].lower() for r in rejected_instructions]):\n",
    "        continue\n",
    "\n",
    "    indon_texts.append(data['instruction'])\n",
    "    indon_texts.append(data['output'])\n",
    "\n",
    "    count += 1"
   ]
  },
  {
   "cell_type": "code",
   "execution_count": 40,
   "id": "f92201b8",
   "metadata": {},
   "outputs": [
    {
     "data": {
      "text/plain": [
       "212658"
      ]
     },
     "execution_count": 40,
     "metadata": {},
     "output_type": "execute_result"
    }
   ],
   "source": [
    "len(indon_texts)"
   ]
  },
  {
   "cell_type": "code",
   "execution_count": 41,
   "id": "1a8c2316",
   "metadata": {},
   "outputs": [
    {
     "name": "stdout",
     "output_type": "stream",
     "text": [
      "Untuk menggantikan ayat \"Tom tiba awal ke majlis\" dengan menggunakan koma keduanya dan kata hubung dalam kod Go, dapat menggunakan frasa \"Tom, yang juga tiba awal, ke majlis\".\n"
     ]
    }
   ],
   "source": [
    "print(indon_texts[1])"
   ]
  },
  {
   "cell_type": "code",
   "execution_count": 42,
   "id": "3d5234ee",
   "metadata": {},
   "outputs": [],
   "source": [
    "with open('code-instructions.texts', 'w') as fopen:\n",
    "    for t in set(indon_texts):\n",
    "        fopen.write(f'{json.dumps(t)}\\n')"
   ]
  },
  {
   "cell_type": "code",
   "execution_count": 43,
   "id": "21cd8ab1",
   "metadata": {},
   "outputs": [],
   "source": [
    "!cp code-instructions.texts ~/ssd3/ctranslate2"
   ]
  },
  {
   "cell_type": "code",
   "execution_count": 45,
   "id": "bc720ede",
   "metadata": {},
   "outputs": [
    {
     "data": {
      "text/plain": [
       "211739"
      ]
     },
     "execution_count": 45,
     "metadata": {},
     "output_type": "execute_result"
    }
   ],
   "source": [
    "mapping = {}\n",
    "with open('/home/husein/ssd3/ctranslate2/code-instructions.texts.requested') as fopen:\n",
    "    for l in fopen:\n",
    "        l = json.loads(l)\n",
    "        mapping[l['src']] = l['r']\n",
    "        \n",
    "len(mapping)"
   ]
  },
  {
   "cell_type": "code",
   "execution_count": 46,
   "id": "2edaea07",
   "metadata": {},
   "outputs": [
    {
     "name": "stderr",
     "output_type": "stream",
     "text": [
      "100%|█████████████████████████████████| 112329/112329 [00:49<00:00, 2254.05it/s]\n"
     ]
    }
   ],
   "source": [
    "rejected = 0\n",
    "\n",
    "with open('synthetic-code-instructions.jsonl', 'w') as fopen_l:\n",
    "    for f in tqdm(files):\n",
    "        try:\n",
    "            with open(f) as fopen:\n",
    "                data = json.load(fopen)\n",
    "        except:\n",
    "            continue\n",
    "            \n",
    "        if data['output'] is None:\n",
    "            continue\n",
    "        \n",
    "        output_ms = mapping.get(data['output'])\n",
    "        instruction_ms = mapping.get(data['instruction'])\n",
    "        \n",
    "        indon_ins = False\n",
    "        if check_indon(data['instruction']):\n",
    "            indon_ins = True\n",
    "        \n",
    "        indon_output = False\n",
    "        if check_indon(data['output']):\n",
    "            indon_output = True\n",
    "        \n",
    "        rejected_ins = False\n",
    "        if 1024 <= len(enc.encode(data['instruction'])) <= 1025:\n",
    "            rejected_ins = True\n",
    "            \n",
    "        if any([r in data['instruction'].lower() for r in rejected_instructions]):\n",
    "            rejected_ins = True\n",
    "        \n",
    "        rejected_output = False\n",
    "        if 1024 <= len(enc.encode(data['output'])) <= 1025:\n",
    "            rejected_output = True\n",
    "            \n",
    "        if rejected_ins or rejected_output:\n",
    "            rejected += 1\n",
    "            \n",
    "        data['indon_ins'] = indon_ins\n",
    "        data['indon_output'] = indon_output\n",
    "        data['instruction_ms'] = instruction_ms\n",
    "        data['output_ms'] = output_ms\n",
    "        data['rejected_ins'] = rejected_ins\n",
    "        data['rejected_output'] = rejected_output\n",
    "        \n",
    "        fopen_l.write(f'{json.dumps(data)}\\n')\n",
    "        count += 1"
   ]
  }
 ],
 "metadata": {
  "kernelspec": {
   "display_name": "Python 3 (ipykernel)",
   "language": "python",
   "name": "python3"
  },
  "language_info": {
   "codemirror_mode": {
    "name": "ipython",
    "version": 3
   },
   "file_extension": ".py",
   "mimetype": "text/x-python",
   "name": "python",
   "nbconvert_exporter": "python",
   "pygments_lexer": "ipython3",
   "version": "3.8.10"
  }
 },
 "nbformat": 4,
 "nbformat_minor": 5
}
