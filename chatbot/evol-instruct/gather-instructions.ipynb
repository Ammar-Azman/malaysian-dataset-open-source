{
 "cells": [
  {
   "cell_type": "code",
   "execution_count": 1,
   "id": "cc8c3163",
   "metadata": {},
   "outputs": [],
   "source": [
    "from glob import glob\n",
    "from tqdm import tqdm\n",
    "import json\n",
    "import re"
   ]
  },
  {
   "cell_type": "code",
   "execution_count": 2,
   "id": "c184585d",
   "metadata": {},
   "outputs": [
    {
     "name": "stderr",
     "output_type": "stream",
     "text": [
      "/home/husein/.local/lib/python3.8/site-packages/requests/__init__.py:102: RequestsDependencyWarning: urllib3 (1.26.15) or chardet (5.2.0)/charset_normalizer (2.0.7) doesn't match a supported version!\n",
      "  warnings.warn(\"urllib3 ({}) or chardet ({})/charset_normalizer ({}) doesn't match a supported \"\n"
     ]
    }
   ],
   "source": [
    "import tiktoken\n",
    "enc = tiktoken.get_encoding(\"cl100k_base\")"
   ]
  },
  {
   "cell_type": "code",
   "execution_count": 3,
   "id": "23040e0f",
   "metadata": {},
   "outputs": [],
   "source": [
    "rejected_words = [\n",
    "    'kebutuhan',\n",
    "    'berbeda',\n",
    "    'bahwa',\n",
    "    'Kode',\n",
    "    'kode',\n",
    "    'nomor',\n",
    "    'RMXX,XXX',\n",
    "    'kompleksitas',\n",
    "    'listrik',\n",
    "    'jawaban',\n",
    "    'teknis',\n",
    "    'berkualitas',\n",
    "    'mencoba',\n",
    "    'kampanye',\n",
    "    'komunitas',\n",
    "    'stabilitas',\n",
    "    'Stabilitas',\n",
    "    'metode',\n",
    "    'pria',\n",
    "    'butuh',\n",
    "    'jadwal',\n",
    "    'kasus',\n",
    "    'otomatis',\n",
    "    'populer',\n",
    "    'bisnis',\n",
    "    'probabilitas',\n",
    "    'rusak',\n",
    "    'kapasitas',\n",
    "    'rutinitas'\n",
    "]\n",
    "rejected_words = set(rejected_words)\n",
    "\n",
    "def check_indon(string):\n",
    "    string = re.sub('[^A-Za-z ]+', ' ', string)\n",
    "    return len(set(string.split()) & rejected_words) > 0"
   ]
  },
  {
   "cell_type": "code",
   "execution_count": 4,
   "id": "c86d699f",
   "metadata": {},
   "outputs": [
    {
     "data": {
      "text/plain": [
       "51748"
      ]
     },
     "execution_count": 4,
     "metadata": {},
     "output_type": "execute_result"
    }
   ],
   "source": [
    "files = sorted(glob('output/*.json'), key = lambda x: int(x.split('/')[-1].replace('.json', '')))\n",
    "len(files)"
   ]
  },
  {
   "cell_type": "code",
   "execution_count": 5,
   "id": "6d3f6d02",
   "metadata": {},
   "outputs": [],
   "source": [
    "rejected_instructions = [\n",
    "    'tidak dapat melakukan penulisan semula', \n",
    "    'maaf', \n",
    "    'not able to fulfill your request',\n",
    "    'saya tidak dapat membantu',\n",
    "    'dengan permintaan itu',\n",
    "    'feel free to ask',\n",
    "    'saya tidak bisa',\n",
    "]"
   ]
  },
  {
   "cell_type": "code",
   "execution_count": 6,
   "id": "78f743a6",
   "metadata": {},
   "outputs": [
    {
     "name": "stderr",
     "output_type": "stream",
     "text": [
      "100%|██████████████████████████████████| 51748/51748 [00:01<00:00, 27034.02it/s]\n"
     ]
    }
   ],
   "source": [
    "count, indon_count = 0, 0\n",
    "\n",
    "indon_texts = []\n",
    "for f in tqdm(files):\n",
    "    with open(f) as fopen:\n",
    "        data = json.load(fopen)\n",
    "\n",
    "    if data['output'] is None:\n",
    "        continue\n",
    "        \n",
    "    if any([r in data['instruction'].lower() for r in rejected_instructions]):\n",
    "        continue\n",
    "\n",
    "    set_ins = set(data['instruction'].split())\n",
    "    set_output = set(data['output'].split())\n",
    "\n",
    "    indon_texts.append(data['instruction'])\n",
    "    indon_texts.append(data['output'])\n",
    "\n",
    "    count += 1"
   ]
  },
  {
   "cell_type": "code",
   "execution_count": 7,
   "id": "f92201b8",
   "metadata": {},
   "outputs": [
    {
     "data": {
      "text/plain": [
       "103227"
      ]
     },
     "execution_count": 7,
     "metadata": {},
     "output_type": "execute_result"
    }
   ],
   "source": [
    "indon_texts = set(indon_texts)\n",
    "indon_texts = [t for t in indon_texts if len(t)]\n",
    "len(indon_texts)"
   ]
  },
  {
   "cell_type": "code",
   "execution_count": 61,
   "id": "3d5234ee",
   "metadata": {},
   "outputs": [],
   "source": [
    "with open('instructions-indon.texts', 'w') as fopen:\n",
    "    for t in indon_texts:\n",
    "        fopen.write(f'{json.dumps(t)}\\n')"
   ]
  },
  {
   "cell_type": "code",
   "execution_count": 62,
   "id": "21cd8ab1",
   "metadata": {},
   "outputs": [],
   "source": [
    "!cp instructions-indon.texts ~/ssd3/ctranslate2"
   ]
  },
  {
   "cell_type": "code",
   "execution_count": 10,
   "id": "bc720ede",
   "metadata": {
    "scrolled": true
   },
   "outputs": [
    {
     "data": {
      "text/plain": [
       "103226"
      ]
     },
     "execution_count": 10,
     "metadata": {},
     "output_type": "execute_result"
    }
   ],
   "source": [
    "mapping = {}\n",
    "with open('/home/husein/ssd3/ctranslate2/instructions-indon.texts.requested') as fopen:\n",
    "    for l in fopen:\n",
    "        try:\n",
    "            l = json.loads(l)\n",
    "            mapping[l['src']] = l['r']\n",
    "        except:\n",
    "            pass\n",
    "        \n",
    "len(mapping)"
   ]
  },
  {
   "cell_type": "code",
   "execution_count": 14,
   "id": "2edaea07",
   "metadata": {},
   "outputs": [
    {
     "name": "stderr",
     "output_type": "stream",
     "text": [
      "100%|███████████████████████████████████| 51748/51748 [00:11<00:00, 4630.27it/s]\n"
     ]
    }
   ],
   "source": [
    "rejected = 0\n",
    "\n",
    "with open('synthetic-alpaca_data_cleaned.jsonl', 'w') as fopen_l:\n",
    "    for f in tqdm(files):\n",
    "        with open(f) as fopen:\n",
    "            data = json.load(fopen)\n",
    "            \n",
    "        if data['output'] is None:\n",
    "            continue\n",
    "        \n",
    "        output_ms = mapping.get(data['output'])\n",
    "        instruction_ms = mapping.get(data['instruction'])\n",
    "        \n",
    "        indon_ins = False\n",
    "        if check_indon(data['instruction']):\n",
    "            indon_ins = True\n",
    "        \n",
    "        indon_output = False\n",
    "        if check_indon(data['output']):\n",
    "            indon_output = True\n",
    "        \n",
    "        rejected_ins = False\n",
    "        if 1024 <= len(enc.encode(data['instruction'])) <= 1025:\n",
    "            rejected_ins = True\n",
    "        \n",
    "        rejected_output = False\n",
    "        if 1024 <= len(enc.encode(data['output'])) <= 1025:\n",
    "            rejected_output = True\n",
    "            \n",
    "        if rejected_ins or rejected_output:\n",
    "            print(data)\n",
    "            rejected += 1\n",
    "            \n",
    "        data['indon_ins'] = indon_ins\n",
    "        data['indon_output'] = indon_output\n",
    "        data['instruction_ms'] = instruction_ms\n",
    "        data['output_ms'] = output_ms\n",
    "        data['rejected_ins'] = rejected_ins\n",
    "        data['rejected_output'] = rejected_output\n",
    "        \n",
    "        fopen_l.write(f'{json.dumps(data)}\\n')\n",
    "        count += 1"
   ]
  },
  {
   "cell_type": "code",
   "execution_count": 15,
   "id": "9a6db6b9",
   "metadata": {},
   "outputs": [
    {
     "name": "stdout",
     "output_type": "stream",
     "text": [
      "{\"instruction\": \"Beri tiga petua untuk menjaga kesihatan yang sepadan di negara Malaysia.\", \"output\": \"Tiga petua untuk menjaga kesihatan yang sepadan di negara Malaysia adalah:\\n1. Makan makanan yang seimbang dan berkhasiat: Berusaha untuk mengamalkan pemakanan yang seimbang dengan menggabungkan semua kumpulan makanan seperti bijirin, sayur-sayuran, buah-buahan, protein dan lemak yang sihat. Hindari makanan yang tinggi gula, garam, dan lemak tepu. Pastikan bahawa makanan yang diambil adalah segar dan bersih.\\n2. Budayakan senaman secara berkala: Amalkan senaman secara teratur seperti berjalan kaki, berlari, berenang, atau mengikuti kelas senaman. Senaman dapat membantu mengurangkan risiko penyakit jantung, diabetes, obesiti, dan meningkatkan kesihatan mental dan fizikal. Pastikan anda mendapatkan cahaya matahari yang mencukupi untuk memperoleh vitamin D yang penting bagi kesihatan tulang.\\n3. Amalkan gaya hidup sihat: Hindari merokok dan minum alkohol. Jarakkan diri dari aktiviti yang berisiko seperti penggunaan dadah terlarang. Pastikan tidur yang mencukupi untuk pemulihan tubuh dan minda yang optimum. Perhatikan kesihatan mental dengan melakukan aktiviti yang menyenangkan seperti meditasi, mengurus stres dan mencari sokongan sosial daripada keluarga atau rakan sejawat.\\n\\nTindakan ini boleh membantu meningkatkan kesihatan dan kualiti hidup anda di negara Malaysia.\", \"indon_ins\": false, \"indon_output\": false, \"instruction_ms\": \"Berikan tiga petua untuk menjaga kesihatan yang sesuai di negara Malaysia.\", \"output_ms\": \"Tiga petua untuk menjaga kesihatan yang sepadan di Malaysia ialah:\\n1. Makan makanan yang seimbang dan berkhasiat: Cuba mengamalkan pemakanan yang seimbang dengan menggabungkan semua kumpulan makanan seperti bijirin, sayur-sayuran, buah-buahan, protein dan lemak yang sihat. Elakkan makanan yang tinggi gula, garam, dan lemak tepu. Pastikan makanan yang diambil adalah segar dan bersih.\\n2. Budayakan senaman secara berkala: Amalkan senaman secara teratur seperti berjalan kaki, berlari, berenang, atau mengikuti kelas senaman. Senaman boleh membantu mengurangkan risiko penyakit jantung, diabetes, obesiti, dan meningkatkan kesihatan mental dan fizikal. Pastikan anda mendapat cahaya matahari yang mencukupi untuk mendapatkan vitamin D yang penting untuk kesihatan tulang.\\n3. Amalkan gaya hidup sihat: Elakkan merokok dan minum alkohol. Jauhi aktiviti yang berisiko seperti penggunaan dadah terlarang. Pastikan tidur yang mencukupi untuk pemulihan badan dan minda yang optimum. Perhatikan kesihatan mental dengan melakukan aktiviti yang menyenangkan seperti meditasi, menguruskan tekanan dan mencari sokongan sosial daripada keluarga atau rakan sejawat.\\n\\nTindakan ini boleh membantu meningkatkan kesihatan dan kualiti hidup anda di Malaysia.\", \"rejected_ins\": false, \"rejected_output\": false}\r\n"
     ]
    }
   ],
   "source": [
    "!head -n 1 synthetic-alpaca_data_cleaned.jsonl"
   ]
  }
 ],
 "metadata": {
  "kernelspec": {
   "display_name": "Python 3 (ipykernel)",
   "language": "python",
   "name": "python3"
  },
  "language_info": {
   "codemirror_mode": {
    "name": "ipython",
    "version": 3
   },
   "file_extension": ".py",
   "mimetype": "text/x-python",
   "name": "python",
   "nbconvert_exporter": "python",
   "pygments_lexer": "ipython3",
   "version": "3.8.10"
  }
 },
 "nbformat": 4,
 "nbformat_minor": 5
}
