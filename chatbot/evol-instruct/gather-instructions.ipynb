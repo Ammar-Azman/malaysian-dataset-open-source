{
 "cells": [
  {
   "cell_type": "code",
   "execution_count": 90,
   "id": "cc8c3163",
   "metadata": {},
   "outputs": [],
   "source": [
    "from glob import glob\n",
    "from tqdm import tqdm\n",
    "import json"
   ]
  },
  {
   "cell_type": "code",
   "execution_count": 91,
   "id": "23040e0f",
   "metadata": {},
   "outputs": [],
   "source": [
    "rejected_words = [\n",
    "    'kebutuhan',\n",
    "    'berbeda',\n",
    "    'bahwa',\n",
    "    'Kode',\n",
    "    'kode',\n",
    "    'nomor',\n",
    "    'RMXX,XXX',\n",
    "    'kompleksitas',\n",
    "    'listrik'\n",
    "]\n",
    "rejected_words = set(rejected_words)"
   ]
  },
  {
   "cell_type": "code",
   "execution_count": 92,
   "id": "c86d699f",
   "metadata": {},
   "outputs": [
    {
     "data": {
      "text/plain": [
       "51714"
      ]
     },
     "execution_count": 92,
     "metadata": {},
     "output_type": "execute_result"
    }
   ],
   "source": [
    "files = sorted(glob('output/*.json'), key = lambda x: int(x.split('/')[-1].replace('.json', '')))\n",
    "len(files)"
   ]
  },
  {
   "cell_type": "code",
   "execution_count": 95,
   "id": "78f743a6",
   "metadata": {},
   "outputs": [
    {
     "name": "stderr",
     "output_type": "stream",
     "text": [
      "100%|██████████████████████████████████| 51714/51714 [00:01<00:00, 37496.60it/s]\n"
     ]
    }
   ],
   "source": [
    "count, indon_count = 0, 0\n",
    "\n",
    "indon_texts = []\n",
    "for f in tqdm(files):\n",
    "    with open(f) as fopen:\n",
    "        data = json.load(fopen)\n",
    "\n",
    "    if data['output'] is None:\n",
    "        continue\n",
    "\n",
    "    set_ins = set(data['instruction'].split())\n",
    "    set_output = set(data['output'].split())\n",
    "\n",
    "    if len(set_ins & rejected_words) or len(set_output & rejected_words):\n",
    "        indon_texts.extend([data['instruction'], data['output']])\n",
    "\n",
    "    count += 1"
   ]
  },
  {
   "cell_type": "code",
   "execution_count": 96,
   "id": "4c1bc7d3",
   "metadata": {},
   "outputs": [
    {
     "data": {
      "text/plain": [
       "0.0"
      ]
     },
     "execution_count": 96,
     "metadata": {},
     "output_type": "execute_result"
    }
   ],
   "source": [
    "indon_count / count"
   ]
  },
  {
   "cell_type": "code",
   "execution_count": 97,
   "id": "f92201b8",
   "metadata": {},
   "outputs": [
    {
     "data": {
      "text/plain": [
       "9748"
      ]
     },
     "execution_count": 97,
     "metadata": {},
     "output_type": "execute_result"
    }
   ],
   "source": [
    "len(indon_texts)"
   ]
  },
  {
   "cell_type": "code",
   "execution_count": 98,
   "id": "3e7a26b0",
   "metadata": {},
   "outputs": [
    {
     "data": {
      "text/plain": [
       "9748"
      ]
     },
     "execution_count": 98,
     "metadata": {},
     "output_type": "execute_result"
    }
   ],
   "source": [
    "len(set(indon_texts))"
   ]
  },
  {
   "cell_type": "code",
   "execution_count": 99,
   "id": "3d5234ee",
   "metadata": {},
   "outputs": [],
   "source": [
    "with open('instructions-indon.texts', 'w') as fopen:\n",
    "    for t in set(indon_texts):\n",
    "        fopen.write(f'{json.dumps(t)}\\n')"
   ]
  },
  {
   "cell_type": "code",
   "execution_count": 100,
   "id": "21cd8ab1",
   "metadata": {},
   "outputs": [],
   "source": [
    "!cp instructions-indon.texts ~/ssd3/ctranslate2"
   ]
  },
  {
   "cell_type": "code",
   "execution_count": 101,
   "id": "bc720ede",
   "metadata": {},
   "outputs": [
    {
     "data": {
      "text/plain": [
       "9748"
      ]
     },
     "execution_count": 101,
     "metadata": {},
     "output_type": "execute_result"
    }
   ],
   "source": [
    "mapping = {}\n",
    "with open('/home/husein/ssd3/ctranslate2/instructions-indon.texts.requested') as fopen:\n",
    "    for l in fopen:\n",
    "        l = json.loads(l)\n",
    "        mapping[l['src']] = l['r']\n",
    "        \n",
    "len(mapping)"
   ]
  },
  {
   "cell_type": "code",
   "execution_count": 104,
   "id": "2edaea07",
   "metadata": {},
   "outputs": [
    {
     "name": "stderr",
     "output_type": "stream",
     "text": [
      "100%|██████████████████████████████████| 51714/51714 [00:01<00:00, 32588.10it/s]\n"
     ]
    }
   ],
   "source": [
    "count, indon_count = 0, 0\n",
    "\n",
    "with open('augmented-alpaca_data_cleaned.jsonl', 'w') as fopen_l:\n",
    "    for f in tqdm(files):\n",
    "        with open(f) as fopen:\n",
    "            data = json.load(fopen)\n",
    "            \n",
    "        if data['output'] is None:\n",
    "            continue\n",
    "        \n",
    "        set_ins = set(data['instruction'].split())\n",
    "        set_output = set(data['output'].split())\n",
    "        \n",
    "        if len(set_ins & rejected_words) or len(set_output & rejected_words):\n",
    "            indon = True\n",
    "            indon_count += 1\n",
    "            data['instruction_ms'] = mapping[data['instruction']]\n",
    "            data['output_ms'] = mapping[data['output']]\n",
    "        else:\n",
    "            indon = False\n",
    "            data['instruction_ms'] = None\n",
    "            data['output_ms'] = None\n",
    "        \n",
    "        data['indon'] = indon\n",
    "        \n",
    "        fopen_l.write(f'{json.dumps(data)}\\n')\n",
    "        count += 1"
   ]
  },
  {
   "cell_type": "code",
   "execution_count": null,
   "id": "20f1a03a",
   "metadata": {},
   "outputs": [],
   "source": []
  }
 ],
 "metadata": {
  "kernelspec": {
   "display_name": "Python 3 (ipykernel)",
   "language": "python",
   "name": "python3"
  },
  "language_info": {
   "codemirror_mode": {
    "name": "ipython",
    "version": 3
   },
   "file_extension": ".py",
   "mimetype": "text/x-python",
   "name": "python",
   "nbconvert_exporter": "python",
   "pygments_lexer": "ipython3",
   "version": "3.8.10"
  }
 },
 "nbformat": 4,
 "nbformat_minor": 5
}
