{
 "cells": [
  {
   "cell_type": "code",
   "execution_count": 1,
   "id": "056dce71",
   "metadata": {},
   "outputs": [
    {
     "name": "stderr",
     "output_type": "stream",
     "text": [
      "/home/husein/dev/malaya/malaya/tokenizer.py:214: FutureWarning: Possible nested set at position 3397\n",
      "  self.tok = re.compile(r'({})'.format('|'.join(pipeline)))\n",
      "/home/husein/dev/malaya/malaya/tokenizer.py:214: FutureWarning: Possible nested set at position 3927\n",
      "  self.tok = re.compile(r'({})'.format('|'.join(pipeline)))\n"
     ]
    }
   ],
   "source": [
    "import json\n",
    "import malaya\n",
    "from bs4 import BeautifulSoup\n",
    "from glob import glob\n",
    "from tqdm import tqdm\n",
    "import random"
   ]
  },
  {
   "cell_type": "code",
   "execution_count": 2,
   "id": "028cbd4f",
   "metadata": {},
   "outputs": [],
   "source": [
    "def partition(s, n = 700):\n",
    "    splitted = s.split()\n",
    "    return [' '.join(splitted[i: i + n]) for i in range(0, len(splitted), n)]"
   ]
  },
  {
   "cell_type": "code",
   "execution_count": 3,
   "id": "f9262572",
   "metadata": {},
   "outputs": [
    {
     "name": "stdout",
     "output_type": "stream",
     "text": [
      "\"JPA(S)2265/13L Jld.13( 107 )   Siri No.   KERAJAAN MALAYSIA\\n\\n\\n\\nPEKELILING PERKHIDMATAN BILANGAN 22 TAHUN 2008\\n\\n\\n\\nKEMUDAHAN TAMBANG MENGUNJUNGI WILAYAH ASAL  \\nBAGI PEGAWAI YANG BERTUKAR WILAYAH   TUJUAN\\n\\n\\n\\n1.     Pekeliling Perkhidmatan ini bertujuan melaksanakan keputusan Kerajaan\\n\\nberkaitan kemudahan Tambang Mengunjungi Wilayah Asal bagi pegawai\\n\\nPerkhidmatan Awam yang bertukar wilayah.\\n\\n\\n\\nLATAR BELAKANG\\n\\n\\n\\n2. Tambang Mengunjungi Wilayah Asal disediakan kepada pegawai\\n\\nPerkhidmatan Awam yang bertukar wilayah sebagai suatu kemudahan untuk\\n\\nmembolehkan pegawai dan ahli keluarganya mengunjungi wilayah asal. Kemudahan\\n\\nini telah dilaksanakan melalui Pekeliling Perkhidmatan Bilangan 6 Tahun 1987,\\n\\nPekeliling Perkhidmatan Bilangan 7 Tahun 1997, Surat Pekeliling Perkhidmatan\\n\\nBilangan 6 Tahun 2006 dan surat edaran JPA(S)63/75/2/(SV61) bertarikh 12\\n\\nOktober 2000.\\n\\n1\\nTAFSIRAN\\n\\n\\n\\n3. Dalam Pekeliling Perkhidmatan ini, melainkan jika konteksnya menghendaki\\n\\nmakna yang lain:\\n\\n\\n\\na. \\u201cbandar utama\\u201d bermaksud:\\n\\ni. Labuan bagi Wilayah Labuan; \\n \\nii. Kuching, Sibu, Bintulu atau Miri bagi Wilayah Sarawak; dan  \\n \\niii. Kota Kinabalu, Sandakan, Lahad Datu atau Tawau bagi\\n\\nWilayah Sabah.\\n\\n\\n\\nb. \\u201cibu negeri wilayah asal\\u201d bermaksud Kuala Lumpur, Putrajaya atau\\n\\nibu negeri bagi negeri-negeri di Wilayah Semenanjung Malaysia;\\n\\n\\n\\nc. \\u201ckeluarga pegawai\\u201d bermaksud isteri atau suami dan anak-anak\\n\\npegawai di bawah umur 21 tahun yang masih dalam tanggungan\\n\\npegawai, termasuk anak tiri dan anak angkat yang diambil mengikut\\n\\nundang-undang. Bagi anak yang daif disebabkan oleh kelemahan otak\\n\\natau jasmani, had umur di atas tidak terpakai;\\n\\n\\n\\nd. \\u201cwilayah asal\\u201d bermaksud:\\n\\n\\n\\ni. wilayah kelahiran ibu bapa pegawai sekiranya ibu dan bapa\\n\\npegawai lahir di wilayah yang sama;\\n\\n\\n\\nii. sekiranya ibu bapa pegawai dilahirkan di wilayah yang\\n\\nberbeza, pegawai boleh memilih sama ada wilayah kelahiran\\n\\nibu atau wilayah kelahiran bapa sebagai wilayah asalnya;\\n\\n\\n\\niii. bagi pegawai yang ibu bapanya memperolehi taraf penduduk\\n\\ntetap atau warganegara Malaysia, wilayah asal mereka adalah\\n\\n2\\nmerujuk kepada wilayah tempat tinggal ibu bapa pegawai\\n\\nberkenaan ketika mereka memperolehi Kad Pengenalan\\n\\nBertaraf Penduduk Tetap atau Sijil Warganegara Malaysia;\\n\\ndan\\n\\n\\n\\niv. sekiranya terdapat kes-kes lain selain yang dijelaskan di\\n\\nperenggan (i), (ii) dan (iii) di atas, pegawai bolehlah merujuk\\n\\nkepada Bahagian Saraan, Jabatan Perkhidmatan Awam untuk\\n\\ndipertimbangkan.\\n\\n\\n\\ne. \\u201cwilayah\\u201d bermaksud Semenanjung Malaysia, Sabah, Sarawak atau\\n\\nLabuan; dan\\n\\nf. \\u201cpegawai yang bertukar wilayah\\u201d bermaksud pegawai yang\\n\\nberkhidmat di wilayah selain dari wilayah asalnya.\\n\\nPELAKSANAAN\\n\\n\\n\\n4.   Pelaksanaan kemudahan Tambang Mengunjungi Wilayah Asal adalah seperti\\n\\nberikut:\\n\\n\\n\\na. pegawai hendaklah mengisytiharkan wilayah asalnya tertakluk\\n\\nkepada sekali pengisytiharan dalam tempoh perkhidmatan dan\\n\\ndicatatkan dalam Buku Perkhidmatan pegawai;\\n\\n\\n\\nb. tambang perjalanan pergi dan balik disediakan dari tempat tinggal\\n\\npegawai di wilayah berkhidmat ke ibu negeri wilayah asal atau\\n\\nbandar utama di wilayah asal;\\n\\n\\n\\nc. kadar tambang adalah meliputi keseluruhan kos tambang\\n\\npengangkutan  termasuk tambang kapal terbang yang merangkumi\\n\\nharga tiket penerbangan, cukai lapangan terbang, insurans\\n\\n3\\npenumpang dan surcaj bahan api. Perbelanjaan lain seperti\\n\\npenginapan, makan dan sebagainya adalah tanggungan pegawai\\n\\nsendiri;\\n\\nd. menggunakan perkhidmatan kapal terbang yang disediakan oleh\\n\\nSistem Penerbangan Malaysia (MAS) atau syarikat penerbangan lain\\n\\nyang diluluskan oleh Kerajaan dari semasa ke semasa;\\n\\ne. isteri atau suami pegawai boleh disediakan tambang mengikut\\n\\nkelayakan pegawai manakala tambang bagi anak pegawai adalah\\n\\nKelas Ekonomi;\\n\\nf. kemudahan ini diberi sekali dalam tempoh satu tahun perkhidmatan\\n\\npegawai di wilayah penempatan. Kemudahan Tambang Mengunjungi\\n\\nWilayah Asal yang tidak digunakan dalam tempoh tersebut akan\\n\\nluput dan tidak boleh dibawa ke tahun hadapan;\\n\\ng. pegawai hendaklah berkhidmat selama 6 bulan terlebih dahulu di\\n\\nwilayah penempatan bagi membolehkan pegawai menggunakan\\n\\nkemudahan ini pada kali pertama. Tempoh 6 bulan berkenaan\\n\\nbermula dari tarikh lapor diri pegawai di wilayah penempatan.\\n\\nKelayakan untuk kali kedua dan seterusnya ialah pada bila-bila masa\\n\\ndalam tahun berikutnya selepas tarikh lapor diri pegawai di wilayah\\n\\npenempatan;\\n\\nh. tempoh pegawai bercuti tanpa gaji atau separuh gaji tidak boleh\\n\\ndiambil kira untuk menentukan kelayakan kemudahan ini. Tempoh\\n\\ncuti tersebut hendaklah ditambah kepada tempoh perkhidmatan\\n\\npegawai untuk menentukan kelayakan kemudahan seterusnya;\\n\\ni. bagi pegawai dan isteri atau suami yang kedua-duanya bertukar\\n\\nwilayah, hanya seorang sahaja layak menggunakan kemudahan\\n\\nTambang Mengunjungi Wilayah Asal untuk membawa keluarga\\n\\nmengunjungi wilayah asal dalam sesuatu tahun manakala suami atau\\n\\n4\\nisterinya boleh menggunakan kemudahan tambang tersebut atas kadar\\n\\nbujang mengikut kelayakan yang ditetapkan dalam tempoh yang\\n\\nsama;\\n\\n\\n\\nj. pegawai yang menggunakan Elaun Balik Kampung yang\\n\\ndiperuntukkan kepada Pegawai Perkhidmatan Pendidikan dan\\n\\npegawai lain dalam Kumpulan Sokongan yang bertukar wilayah dan\\n\\nberkhidmat di sekolah pedalaman tidak layak menggunakan\\n\\nkemudahan Tambang Mengunjungi Wilayah Asal. Walau\\n\\nbagaimanapun, isteri atau suami pegawai boleh menggunakan\\n\\nkemudahan Tambang Mengunjungi Wilayah Asal atas kadar bujang\\n\\ndalam tempoh yang sama;\\n\\nk. bagi isteri atau suami atau anak-anak yang tidak mengikut pegawai\\n\\nbertukar wilayah dibenarkan menggunakan tambang ini untuk\\n\\nmelawat pegawai;\\n\\nl. pegawai yang belum berkahwin yang balik ke wilayah asalnya\\n\\ndengan menggunakan kemudahan Tambang Mengunjungi Wilayah\\n\\nAsal atau atas pembiayaan sendiri untuk berkahwin, boleh disediakan\\n\\ntambang perjalanan untuk membawa isteri atau suaminya ke wilayah\\n\\npenempatan pegawai;\\n\\nm. permohonan untuk menggunakan kemudahan tambang ini hendaklah\\n\\nmenggunakan borang seperti di Lampiran A, Pekeliling\\n\\nPerkhidmatan ini; dan\\n\\nn. Ketua Jabatan hendaklah memastikan penggunaan kemudahan\\n\\ntambang ini dicatatkan dalam Buku Perkhidmatan Pegawai.\\n\\nPEMBATALAN\\n\\n\\n\\n5. Dengan berkuatkuasanya Pekeliling Perkhidmatan ini, perenggan 3(b) dan 5\\n\\nPekeliling Perkhidmatan Bilangan 6 Tahun 1987, Pekeliling Perkhidmatan Bilangan\\n\\n5\\n7 Tahun 1997, Surat Pekeliling Perkhidmatan Bilangan 6 Tahun 2006 dan surat\\n\\nedaran JPA(S)63/75/2/(SV61) bertarikh 12 Oktober 2000 adalah dibatalkan.\\n\\n\\n\\nTARIKH KUAT KUASA\\n\\n\\n\\n6. Pekeliling Perkhidmatan ini berkuat kuasa mulai 1 Januari 2009.\\n\\n\\n\\nPEMAKAIAN\\n\\n\\n\\n7.  Tertakluk kepada penerimaannya oleh pihak berkuasa masing-masing,\\n\\nPekeliling Perkhidmatan ini pada keseluruhannya dipanjangkan kepada semua\\n\\nPerkhidmatan Negeri, Pihak Berkuasa Berkanun dan Pihak Berkuasa Tempatan.   \\u201cBERKHIDMAT UNTUK NEGARA\\u201d\\n\\n(TAN SRI ISMAIL ADAM) \\nKetua Pengarah Perkhidmatan Awam \\nMalaysia   JABATAN PERKHIDMATAN AWAM \\nMALAYSIA \\nPUTRAJAYA \\n16   Disember 2008   Semua Ketua Setiausaha Kementerian\\n\\nSemua Ketua Jabatan Persekutuan\\n\\nSemua Y.B. Setiausaha Kerajaan Negeri\\n\\nSemua Pihak Berkuasa Berkanun\\n\\nSemua Pihak Berkuasa Tempatan\\n\\n\\n\\n6\\n1\\n\\nLAMPIRAN A   BORANG PERMOHONAN KEMUDAHAN  \\nTAMBANG MENGUNJUNGI WILAYAH ASAL\\n\\n(Pekeliling Perkhidmatan Bilangan 22 Tahun 2008)\\n\\n\\n\\n(Sila gunakan lampiran jika ruangan ini tidak mencukupi)   A.\\n\\nBUTIR DIRI PEGAWAI\\n\\n1. Nama  ::  ...  \\n2. Gred / Pangkat   ::  ...  \\n3. Alamat Rumah    ::  ...   ...   ...  \\n4. Wilayah Asal ::  ...  \\n5. Ibu Negeri Wilayah Asal/ Bandar Utama  :: ...  \\n6. Tarikh Lapor Diri Di Wilayah Baru  :: ...  \\n7. Tarikh Terakhir Kemudahan Digunakan  :: ...  \\n8. Tarikh Kemudahan Diperlukan  :: ...  \\n9. Tambang Untuk Ahli Keluarga ::\\n\\nNama   Umur   Hubungan\\n\\ni. ...    ...    ...\\n\\nii. ...    ...    ...\\n\\niii. ...    ...    ...\\n\\niv. ...    ...    ...\\n\\nv. ...    ...    ...\\n\\nvi. ...    ...    ...\\nB. PERMOHONAN PEGAWAI   (sila tanda \\u221a di ruangan yang berkaitan)\\n\\nSaya memohon menggunakan kemudahan Tambang Mengunjungi Wilayah \\nAsal untuk:\\n\\ni. diri sendiri ke *ibu negeri wilayah asal/bandar utama\\n\\n\\n\\nii. diri dan *isteri/suami/anak ke *ibu negeri wilayah asal/bandar utama\\n\\niii. *isteri/suami/anak dari *ibu negeri wilayah asal/bandar utama untuk \\nmelawat saya\\n\\nC. PENGAKUAN PEGAWAI\\n\\nSaya mengesahkan bahawa segala maklumat yang diberikan di atas adalah \\nbenar.\\n\\nTandatangan Pegawai : ...   Tarikh   : ...\\n\\nKEGUNAAN PEJABAT\\n\\n*LULUS / TIDAK LULUS   Tandatangan Ketua Jabatan : ...\\n\\nNama    : ...\\n\\nJawatan   : ...\\n\\nTarikh    : ...\\n\\n\\n\\n* Potong mana yang tidak berkenaan\\n\\n\\n\\n2\\nPEKELILING PERKHIDMATAN BILANGAN 22 TAHUN 2008\\n\\n\\nKetua Pengarah Perkhidmatan Awam\\n\\nJABATAN PERKHIDMATAN AWAM\"\r\n"
     ]
    }
   ],
   "source": [
    "!head -n 1 gov.my.jsonl"
   ]
  },
  {
   "cell_type": "code",
   "execution_count": 5,
   "id": "3c818193",
   "metadata": {},
   "outputs": [],
   "source": [
    "with open('paragraph.jsonl', 'w') as fopen_l:\n",
    "    with open('gov.my.jsonl') as fopen:\n",
    "        for l in fopen:\n",
    "            l = json.loads(l)\n",
    "            if not len(l.strip()):\n",
    "                continue\n",
    "                \n",
    "            for p in partition(l):\n",
    "                if not len(p):\n",
    "                    continue\n",
    "                    \n",
    "                if len(p.split()) < 300:\n",
    "                    continue\n",
    "                \n",
    "                d_ = {\n",
    "                    'paragraph': p,\n",
    "                }\n",
    "                fopen_l.write(f'{json.dumps(d_)}\\n')\n",
    "                fopen_l.flush()"
   ]
  },
  {
   "cell_type": "code",
   "execution_count": null,
   "id": "e131fe65",
   "metadata": {},
   "outputs": [],
   "source": []
  }
 ],
 "metadata": {
  "kernelspec": {
   "display_name": "Python 3 (ipykernel)",
   "language": "python",
   "name": "python3"
  },
  "language_info": {
   "codemirror_mode": {
    "name": "ipython",
    "version": 3
   },
   "file_extension": ".py",
   "mimetype": "text/x-python",
   "name": "python",
   "nbconvert_exporter": "python",
   "pygments_lexer": "ipython3",
   "version": "3.8.10"
  }
 },
 "nbformat": 4,
 "nbformat_minor": 5
}
