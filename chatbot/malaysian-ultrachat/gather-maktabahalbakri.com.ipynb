{
 "cells": [
  {
   "cell_type": "code",
   "execution_count": 1,
   "id": "0819a578",
   "metadata": {},
   "outputs": [
    {
     "data": {
      "text/plain": [
       "3350"
      ]
     },
     "execution_count": 1,
     "metadata": {},
     "output_type": "execute_result"
    }
   ],
   "source": [
    "from glob import glob\n",
    "import json\n",
    "import os\n",
    "\n",
    "files = glob('ultrachat-maktabahalbakri.com/*.json')\n",
    "files = sorted(files, key = lambda x: os.path.getmtime(x))\n",
    "len(files)"
   ]
  },
  {
   "cell_type": "code",
   "execution_count": 2,
   "id": "e18e0781",
   "metadata": {},
   "outputs": [],
   "source": [
    "import re\n",
    "\n",
    "rejected_words = [\n",
    "    'kebutuhan',\n",
    "    'berbeda',\n",
    "    'bahwa',\n",
    "    'Kode',\n",
    "    'kode',\n",
    "    'nomor',\n",
    "    'RMXX,XXX',\n",
    "    'kompleksitas',\n",
    "    'listrik',\n",
    "    'jawaban',\n",
    "    'teknis',\n",
    "    'berkualitas',\n",
    "    'mencoba',\n",
    "    'kampanye',\n",
    "    'komunitas',\n",
    "    'stabilitas',\n",
    "    'Stabilitas',\n",
    "    'metode',\n",
    "    'pria',\n",
    "    'butuh',\n",
    "    'jadwal',\n",
    "    'kasus',\n",
    "    'otomatis',\n",
    "    'populer',\n",
    "    'bisnis',\n",
    "    'probabilitas',\n",
    "    'rusak',\n",
    "    'kapasitas',\n",
    "    'rutinitas'\n",
    "]\n",
    "rejected_words = set(rejected_words)\n",
    "\n",
    "def check_indon(string):\n",
    "    string = re.sub('[^A-Za-z ]+', ' ', string)\n",
    "    return len(set(string.split()) & rejected_words) > 0"
   ]
  },
  {
   "cell_type": "code",
   "execution_count": 3,
   "id": "11199aed",
   "metadata": {},
   "outputs": [
    {
     "data": {
      "text/plain": [
       "26718"
      ]
     },
     "execution_count": 3,
     "metadata": {},
     "output_type": "execute_result"
    }
   ],
   "source": [
    "texts = []\n",
    "for f in files:\n",
    "    try:\n",
    "        with open(f) as fopen:\n",
    "            data = json.load(fopen)[1:]\n",
    "        for d in data:\n",
    "            try:\n",
    "                texts.append(d['content'])\n",
    "            except:\n",
    "                pass\n",
    "    except:\n",
    "        pass\n",
    "        \n",
    "texts = [t for t in texts if t]\n",
    "texts = [t for t in texts if len(t)]\n",
    "texts = list(set(texts))\n",
    "len(texts)"
   ]
  },
  {
   "cell_type": "code",
   "execution_count": 6,
   "id": "1218d8eb",
   "metadata": {},
   "outputs": [],
   "source": [
    "with open('maktabahalbakri.com.texts', 'w') as fopen:\n",
    "    for t in texts:\n",
    "        fopen.write(f'{json.dumps(t)}\\n')"
   ]
  },
  {
   "cell_type": "code",
   "execution_count": 7,
   "id": "7f820a1d",
   "metadata": {},
   "outputs": [],
   "source": [
    "!cp maktabahalbakri.com.texts ~/ssd3/ctranslate2"
   ]
  },
  {
   "cell_type": "code",
   "execution_count": 8,
   "id": "2709a1f8",
   "metadata": {},
   "outputs": [
    {
     "data": {
      "text/plain": [
       "26718"
      ]
     },
     "execution_count": 8,
     "metadata": {},
     "output_type": "execute_result"
    }
   ],
   "source": [
    "mapping = {}\n",
    "with open('/home/husein/ssd3/ctranslate2/maktabahalbakri.com.texts.requested') as fopen:\n",
    "    for l in fopen:\n",
    "        l = json.loads(l)\n",
    "        mapping[l['src']] = l['r']\n",
    "            \n",
    "len(mapping)"
   ]
  },
  {
   "cell_type": "code",
   "execution_count": 9,
   "id": "08c8d112",
   "metadata": {},
   "outputs": [],
   "source": [
    "with open('ultrachat-maktabahalbakri.com.jsonl', 'w') as fopen_l:\n",
    "    for f in files:\n",
    "        try:\n",
    "            with open(f) as fopen:\n",
    "                data = json.load(fopen)\n",
    "        except:\n",
    "            continue\n",
    "        if not data:\n",
    "            continue\n",
    "        for i in range(0, len(data), 1):\n",
    "            data[i]['content_ms'] = mapping.get(data[i]['content'])\n",
    "            indon = False\n",
    "            if data[i]['content'] and check_indon(data[i]['content']):\n",
    "                indon = True\n",
    "            data[i]['indon'] = indon\n",
    "        fopen_l.write(f'{json.dumps(data)}\\n')"
   ]
  },
  {
   "cell_type": "code",
   "execution_count": 10,
   "id": "f75897b5",
   "metadata": {},
   "outputs": [
    {
     "data": {
      "text/plain": [
       "[{'role': 'context',\n",
       "  'content': 'Soalan:\\nAssalamualaikum Dato’ Seri. Boleh ceritakan tentang sahabat Rasulullah SAW yang bernama Qa’qa’?\\nJawapan:\\nAlhamdulillah, segala puji bagi Allah SWT, selawat dan salam kepada Junjungan Besar Nabi Muhammad SAW, isteri dan ahli keluarga Baginda, para sahabat Baginda serta orang-orang yang mengikuti jejak langkah Baginda sehingga Hari Kiamat.\\nNama penuh beliau ialah Qa’qa ibnu Amr al-Tamimi, seorang penyair Arab terkemuka. Dikatakan beliau seorang sahabat Nabi SAW. Justeru, terdapat banyal rujukan yang memasukkannya dalam kalangan sahabat antaranya kitab \\nMu’jam al-Sahabah \\noleh Ibn Qani’ 2/367, \\nal-Istia’b \\noleh Ibn Abu Barr 3/1283, Ibn al-Athir dalam \\nUsdu al-Ghabah\\n 4/109 dan Ibnu Hajar dalam \\nal-Isobah\\n \\n5/342.\\nBeliau termasuk pemimpin pasukan berkuda dan pahlawan Arab di masa Jahiliyah dan masa Islam. Beliau adalah saudara Ashim bin Amr al-Tamimi, seorang penyair dan penunggang kuda yang handal.\\nQa’qa’ pernah mengatakan, “Rasulullah pernah bertanya kepada saya,“ Apa yang telah kamu siapkan untuk berjihad?”\\nAku menjawab: “Taat kepada Allah dan Rasul-Nya serta seekor kuda,” jawab saya. “Itu merupakan persiapan yang paling maksimum,” kata beliau.\\nAbu Bakar pernah mengatakan, “Suara kuat Qa’qa’ di hadapan para askar lebih baik dari 1000 askar.”\\nKhalid bin al-Walid pernah meminta bala bantuan kepada Abu Bakar saat mengepung kota Al-Hirah. Kemudian Abu Bakar mengutus Qa’qa’ bin Amr sambil berkata, “Tidak ada satu pasukan musuh pun yang akan mengalahkan orang seperti dia.”\\nDia bergabung bersama pasukan Ali bin Abi Talib dalam perang Siffin dan perang Al-Jamal. Beliau menetap di Kufah dan ikut dalam perang Al-Yarmuk dan perang Al-Qadisiyah. Ia pernah berhasil membebaskan Damsyik, Mesir, dan sebahagian besar wilayah Parsi.\\nDalam perang Al-Yarmuk, Khalid bin Walid menyuruh Qa’qa’ dan Ikrimah untuk mengobarkan api perang untuk memulakan pertempuran. Beliau adalah salah satu di antara empat orang yang diutus Umar bin Khattab untuk membantu pasukan yang dipimpin Amr ibnu Ash di Mesir.\\nPada ketika itu, Amr bin Ash meminta bala bantuan untuk membebaskan wilayah Mesir. Dalam surat yang ditulis oleh Khalifah Umar kepada Amr bin Ash tertulis, “Aku utus kepadamu beberapa orang askar.” Di tangan mereka, wilayah Mesir akhirnya berhasil dibebaskan.\\nDalam perang Al-Qadisiyah, iring-iringan gajah Parsi mengganggu pasukan berkuda kaum Muslimin. Kuda yang ditunggangi lari kerana takut dengan gajah.\\nQa’qa’ menyusun taktik untuk menghadapinya. Ia mendatangkan beberapa ekor unta dan menghiasinya dengan kain bulu biri-biri tebal dan kulit, lalu dipasang berguk, sehingga satu ekor unta dapat menutupi satu askar dan seekor kuda.\\nUnta yang dihiasi itu mirip dengan gajah. askar yang menunggangi unta itu meloncat ke pasukan berkuda musuh, lalu membunuhnya. Kuda yang ditunggangi musuh takut terhadap unta yang dihiasi tersebut. Pasukan muslim yang lain juga mengikuti taktik yang digunakan Qa’qa’ dan akhirnya taktik inilah yang juga menjadi salah satu faktor yang menyebabkan pasukan kaum muslimin meraih kemenangan dalam pertempuran ini.\\nDalam perang Al-Qadisiyah, Qa’qa’ berhasil membunuh Rustam, panglima perang tentara Parsi. Umar bin Khattab pernah menulis sepucuk surat kepada Sa’ad bin Abi Waqas. Dalam surat itu, Umar bertanya, “Siapa pasukan berkuda yang paling hebat dalam perang Al-Qadisiyah?”\\nSa’ad membalas surat tersebut dan berkata, “Aku tidak melihat askar yang sehebat Qa’qa’ bin Amr. Dalam satu hari, ia menyerang musuh sebanyak tiga puluh kali. Dalam setiap serangan, ia berhasil membunuh satu askar musuh.” (Lihat \\nal-Isobah\\n, 5/343)\\nIa juga berhasil merampas pedang milik Hercules, Maharaja Rom; perisai milik Bahram, Raja Parsi dan pedang milik Na’mam.\\nDalam pelbagai pertempuran, ia seringkali memakai pedang milik Hercules dan perisai milik Kisra sebagai perhiasan.\\nDalam pembebasan Al-Madain, Sa’ad bin Abi Waqqash berdoa memohon keselamatan dan pertolongan dari Allah. Sa’ad adalah salah satu sahabat Nabi SAW yang doanya dikabulkan Allah. Dalam perang ini, tidak ada pasukan muslim pun gugur. Hanya ada satu pasukan yang terjatuh dari kuda tunggangannya, iaitu Qa’qa’ bin Amr.\\nDalam pertempuran Jahula, Sa’ad bin Abi Waqqash menugaskan Qa’qa’ di garis depan pasukan atas arahan daripada Khalifah Umar bin Al-Khattab. Dalam pertempuran di Nahrawan, pasukan Parsi berhasil mengepung pasukan garis belakang kaum muslimin.\\nSaat itu, Nu’mam bin Muqarrin menyuruh Qa’qa’ untuk menerapkan strategi bersama ini diterapkan Qa’qa’ dengan cermat. Ia memanah pasukan Parsi, lalu mundur ke belakang. Pasukan Parsi mengejarnya, lalu ia mundur. Pasukan Parsi terus mengejarnya.\\nIa menampakkan bahawa dirinya lari kerana kejaran mereka sampai akhirnya seluruh pasukan Parsi turut mengejarnya. Setelah itu, baru pasukan kaum muslimin menyerang mereka.\\nPada akhir perang Nahrawan, Qa’qa’ melihat Fairuzan, panglima Pasukan Parsi, lari ke puncak bukit. Qa’qa’ mengekorinya dari belakang. Kerana jalan di bukit sukar dilalui, Fairuzan turun dari haiwan tunggangannya. Qa’qa’ pun turun dari tunggangannya dan mengejar Fairuzan hingga akhirnya ia berhasil membunuhnya.\\nAli bin Abi Talib pernah mengutusnya untuk menemui Thalhah dan Zubair dalam perang Al-Jamal. Mereka akhirnya berdamai setelah mendengar apa yang disampaikan oleh Qa’qa’.\\nBerakhirnya masa kekhalifahan Hasan bin Ali, dan beralihnya kekhalifan ke tangan Mu’awiyah bin Abu Sufyan, Al-Qa’qa’ bin Amr memutuskan untuk mengundurkan diri dan pindah ke wilayah Mesir, hingga ia wafat pada tahun 40 H. Ada pendapat menyatakan beliau meninggal dunia pada tahun 41 H. \\nWallahu a’lam.\\nKami akhiri dengan doa:\\nرَبَّنَا اغْفِرْ لَنَا وَلِإِخْوَانِنَا الَّذِينَ سَبَقُونَا بِالْإِيمَانِ وَلَا تَجْعَلْ فِي قُلُوبِنَا غِلًّا لِّلَّذِينَ آمَنُوا رَبَّنَا إِنَّكَ رَءُوفٌ رَّحِيمٌ\\nMaksudnya: \\n“Wahai Tuhan Kami! Ampunkanlah dosa kami dan dosa saudara-saudara kami yang mendahului kami dalam iman, dan janganlah Engkau jadikan dalam hati kami perasaan hasad dengki dan dendam terhadap orang-orang yang beriman. Wahai Tuhan kami! Sesungguhnya Engkau Amat Melimpah Belas kasihan dan RahmatMu.”\\nSurah al-Hasyr (10)\\nBertarikh: 2 Oktober 2023 bersamaan 17 Rabiulawwal 1445',\n",
       "  'content_ms': None,\n",
       "  'indon': False},\n",
       " {'role': 'user',\n",
       "  'content': 'Apakah peranan utama Qa’qa’ dalam peperangan yang dilakukan oleh kaum Muslimin?',\n",
       "  'content_ms': 'Apakah peranan utama Qaqa dalam peperangan yang dilakukan oleh umat Islam?',\n",
       "  'indon': False},\n",
       " {'role': 'assistant',\n",
       "  'content': 'Qa’qa’ memainkan peranan penting dalam peperangan yang dilakukan oleh kaum Muslimin. Beliau adalah seorang pemimpin pasukan berkuda dan pahlawan yang sangat berani. Qa’qa’ terlibat dalam pertempuran seperti perang Siffin, perang Al-Jamal, perang Al-Yarmuk, perang Al-Qadisiyah, dan banyak lagi. Beliau juga memiliki strategi yang cerdik dalam peperangan, seperti menghias unta dengan cara yang menyerupai gajah Parsi untuk mengganggu pasukan berkuda musuh. Qa’qa’ juga dikenali sebagai pejuang yang hebat, menjadikannya salah satu sahabat Nabi yang paling berjaya dalam meraih kemenangan dalam pertempuran.',\n",
       "  'content_ms': 'Qaqa memainkan peranan penting dalam peperangan yang dilakukan oleh orang Islam. Beliau adalah seorang pemimpin tentera berkuda dan wira yang sangat berani. Qaqa terlibat dalam pertempuran seperti perang Siffin, perang Al-Jamal, perang Al-Yarmuk, perang Al-Qadisiyah, dan banyak lagi. Beliau juga mempunyai strategi yang bijak dalam peperangan, seperti menghiasi unta dengan cara yang menyerupai gajah Parsi untuk mengganggu tentera berkuda musuh. Qaqa juga dikenali sebagai pejuang yang hebat, menjadikannya salah seorang sahabat Nabi yang paling berjaya dalam memenangi pertempuran.',\n",
       "  'indon': False},\n",
       " {'role': 'user',\n",
       "  'content': 'Maaf ya, saya tak begitu memahami dengan jelas tentang peranan Qa’qa’ dalam peperangan itu. Bagaimana pula hukum-hukum dalam fiqh Islam? Adakah ada yang berkaitan dengan peperangan dan taktik peperangan seperti yang dilakukan oleh Qa’qa’? Lebih lanjut, adakah terdapat penjelasan mengenai hukum memanah musuh dari belakang seperti yang dilakukan oleh Qa’qa’ dalam perang Nahrawan?',\n",
       "  'content_ms': 'Maaf, saya tidak begitu memahami dengan jelas tentang peranan Qaqa dalam peperangan itu. Bagaimana pula dengan hukum dalam fiqh Islam? Adakah terdapat apa-apa yang berkaitan dengan peperangan dan taktik peperangan seperti yang dilakukan oleh Qaqa? Tambahan pula, adakah penjelasan tentang hukum memanah musuh dari belakang seperti yang dilakukan oleh Qaqa dalam peperangan Nahrawan?',\n",
       "  'indon': False},\n",
       " {'role': 'assistant',\n",
       "  'content': 'Dalam fiqh Islam, terdapat prinsip-prinsip dan hukum-hukum yang berkaitan dengan peperangan dan taktik peperangan. Dalam Islam, perang hanya boleh dilakukan dalam keadaan yang benar-benar diperlukan, seperti dalam mempertahankan diri atau membebaskan tanah yang diduduki secara zalim. Perang harus dilakukan dengan adil dan proporsional, tanpa menimbulkan kekejaman yang tidak perlu.\\n\\nAdapun mengenai taktik peperangan seperti yang dilakukan oleh Qa’qa’, perlu diingat bahwa hukum peperangan dalam Islam melarang penggunaan tipu muslihat dan pengkhianatan. Namun, dalam beberapa situasi, penyamaran atau taktik tertentu dapat digunakan dengan syarat tidak melanggar prinsip-prinsip Islam, seperti membunuh secara sembarangan atau menganiaya penduduk sipil.\\n\\nMengenai hukum memanah musuh dari belakang seperti yang dilakukan oleh Qa’qa’ dalam perang Nahrawan, ini termasuk dalam bentuk penyerangan dari belakang, yang dalam fiqh peperangan Islam dikenal sebagai \"ghazwul gharkad\". Dalam situasi ini, tindakan tersebut diperbolehkan jika dilakukan untuk tujuan membantu pasukan Muslim dan dalam rangka mempertahankan diri. Namun, pada umumnya, hukum Islam menganjurkan pasukan Muslim untuk bertempur secara terbuka dan berani menghadapi musuhnya.\\n\\nNamun, perlu dicatat bahwa dalam konteks peperangan modern, di mana peraturan-peraturan dan konvensi internasional berlaku, taktik semacam itu dapat dianggap sebagai pelanggaran hukum perang. Oleh karena itu, penting untuk memahami konteks peraturan hukum perang yang berlaku saat ini dalam melihat taktik peperangan.',\n",
       "  'content_ms': 'Dalam fiqh Islam, terdapat prinsip dan undang-undang yang berkaitan dengan peperangan dan taktik peperangan. Dalam Islam, peperangan hanya boleh dilakukan dalam keadaan yang benar-benar diperlukan, seperti dalam mempertahankan diri atau membebaskan tanah yang diduduki secara zalim. Perang mesti dilakukan dengan adil dan berkadar, tanpa menimbulkan kekejaman yang tidak perlu.\\n\\nMengenai taktik peperangan seperti yang dilakukan oleh Qaqa, perlu diingat bahawa undang-undang peperangan dalam Islam melarang penggunaan tipu muslihat dan pengkhianatan. Walau bagaimanapun, dalam beberapa situasi, penyamaran atau taktik tertentu boleh digunakan dengan syarat tidak melanggar prinsip Islam, seperti membunuh secara sembarangan atau menganiaya penduduk awam.\\n\\nMengenai undang-undang memanah musuh dari belakang seperti yang dilakukan oleh Qaqa dalam perang Nahrawan, ini termasuk dalam bentuk serangan dari belakang, yang dalam fiqh peperangan Islam dikenali sebagai \"ghazwul gharkad\". Dalam situasi ini, tindakan itu dibenarkan jika dilakukan untuk tujuan membantu tentera Islam dan dalam mempertahankan diri. Walau bagaimanapun, secara amnya, undang-undang Islam menggalakkan tentera Islam untuk bertempur secara terbuka dan berani menghadapi musuhnya.\\n\\nWalau bagaimanapun, perlu diingatkan bahawa dalam konteks peperangan moden, di mana peraturan dan konvensyen antarabangsa berlaku, taktik sedemikian boleh dianggap sebagai pelanggaran undang-undang perang. Oleh itu, adalah penting untuk memahami konteks peraturan undang-undang perang yang berlaku pada masa ini dalam melihat taktik peperangan.',\n",
       "  'indon': True},\n",
       " {'role': 'user',\n",
       "  'content': 'Maaf ye, saya masih tidak jelas tentang hukum-hukum dalam fiqh Islam mengenai peperangan dan taktik yang boleh digunakan. Adakah ada sumber yang boleh saya rujuk atau penjelasan yang lebih terperinci untuk mendapatkan pemahaman yang lebih baik?',\n",
       "  'content_ms': 'Maaf, saya masih tidak jelas tentang undang-undang dalam fiqh Islam mengenai peperangan dan taktik yang boleh digunakan. Adakah terdapat sumber yang boleh saya rujuk atau penjelasan yang lebih terperinci untuk mendapatkan pemahaman yang lebih baik?',\n",
       "  'indon': False},\n",
       " {'role': 'assistant',\n",
       "  'content': 'Tentu, saya faham bahawa pemahaman mengenai hukum-hukum dalam fiqh Islam mengenai peperangan dan taktiknya adalah subjek yang kompleks. Untuk mendapatkan pemahaman yang lebih mendalam dan terperinci, saya mengesyorkan beberapa sumber yang boleh anda rujuk:\\n\\n1. Kitab \"Al-War wa Al-Jihad\" oleh Dr. Yusuf al-Qaradawi: Buku ini menyediakan penjelasan terperinci mengenai hukum-hukum dalam peperangan dan taktiknya dalam Islam. Anda boleh merujuk kepada kitab ini untuk mendapatkan perspektif yang lebih terperinci.\\n\\n2. Mufti Sheikh Ravil Gaynutdin: Sheikh Ravil Gaynutdin merupakan ulama dan mufti yang berpengaruh. Beliau telah menyampaikan pandangan dan penjelasan tentang hukum-hukum peperangan dan taktik yang berkaitan dengannya dalam Islam. Anda boleh mencari ceramah dan penulisan beliau bagi mendapatkan pemahaman yang lebih luas.\\n\\n3. Bertanya kepada ulama tempatan: Anda juga boleh mendapatkan penjelasan yang lebih terperinci dengan bertanya kepada ulama tempatan yang mempunyai pengetahuan mendalam dalam fiqh Islam. Mereka boleh memberikan penjelasan yang lebih khusus mengenai hukum peperangan dan taktik yang boleh digunakan.\\n\\nDengan merujuk kepada sumber-sumber ini, anda dapat memperdalam pemahaman anda mengenai hukum-hukum peperangan dalam Islam dan taktik yang diperbolehkan. Ingatlah, sentiasa penting untuk merujuk kepada ulama dan sumber yang dipercayai untuk mendapatkan kefahaman yang lebih baik dalam hal-hal yang kompleks seperti ini.',\n",
       "  'content_ms': 'Sudah tentu, saya faham bahawa pemahaman tentang hukum dalam fiqh Islam tentang peperangan dan taktiknya adalah subjek yang kompleks. Untuk mendapatkan pemahaman yang lebih mendalam dan terperinci, saya mengesyorkan beberapa sumber yang boleh anda rujuk:\\n\\n1. Kitab \"Al-War wa Al-Jihad\" oleh Dr. Yusuf al-Qaradawi: Buku ini menyediakan penjelasan terperinci tentang hukum dalam peperangan dan taktiknya dalam Islam. Anda boleh merujuk kepada kitab ini untuk mendapatkan perspektif yang lebih terperinci.\\n\\n2. Mufti Sheikh Ravil Gaynutdin: Sheikh Ravil Gaynutdin adalah ulama dan mufti yang berpengaruh. Beliau telah menyampaikan pandangan dan penjelasan tentang hukum peperangan dan taktik yang berkaitan dengannya dalam Islam. Anda boleh mencari ceramah dan penulisannya untuk mendapatkan pemahaman yang lebih luas.\\n\\n3. Bertanya kepada ulama tempatan: Anda juga boleh mendapatkan penjelasan yang lebih terperinci dengan bertanya kepada ulama tempatan yang mempunyai pengetahuan mendalam dalam fiqh Islam. Mereka boleh memberikan penjelasan yang lebih khusus tentang hukum peperangan dan taktik yang boleh digunakan.\\n\\nDengan merujuk kepada sumber-sumber ini, anda boleh mendalami pemahaman anda tentang hukum peperangan dalam Islam dan taktik yang dibenarkan. Ingatlah, sentiasa penting untuk merujuk kepada ulama dan sumber yang dipercayai untuk mendapatkan pemahaman yang lebih baik dalam perkara yang kompleks seperti ini.',\n",
       "  'indon': False}]"
      ]
     },
     "execution_count": 10,
     "metadata": {},
     "output_type": "execute_result"
    }
   ],
   "source": [
    "data"
   ]
  },
  {
   "cell_type": "code",
   "execution_count": null,
   "id": "85e7f922",
   "metadata": {},
   "outputs": [],
   "source": []
  }
 ],
 "metadata": {
  "kernelspec": {
   "display_name": "Python 3 (ipykernel)",
   "language": "python",
   "name": "python3"
  },
  "language_info": {
   "codemirror_mode": {
    "name": "ipython",
    "version": 3
   },
   "file_extension": ".py",
   "mimetype": "text/x-python",
   "name": "python",
   "nbconvert_exporter": "python",
   "pygments_lexer": "ipython3",
   "version": "3.8.10"
  }
 },
 "nbformat": 4,
 "nbformat_minor": 5
}
