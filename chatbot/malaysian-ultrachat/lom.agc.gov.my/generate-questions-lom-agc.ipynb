{
 "cells": [
  {
   "cell_type": "code",
   "execution_count": 1,
   "id": "37427739",
   "metadata": {},
   "outputs": [
    {
     "name": "stderr",
     "output_type": "stream",
     "text": [
      "/home/husein/dev/malaya/malaya/tokenizer.py:214: FutureWarning: Possible nested set at position 3397\n",
      "  self.tok = re.compile(r'({})'.format('|'.join(pipeline)))\n",
      "/home/husein/dev/malaya/malaya/tokenizer.py:214: FutureWarning: Possible nested set at position 3927\n",
      "  self.tok = re.compile(r'({})'.format('|'.join(pipeline)))\n"
     ]
    }
   ],
   "source": [
    "import openai\n",
    "import instructor\n",
    "import json\n",
    "import os\n",
    "import malaya\n",
    "from pydantic import BaseModel, Field\n",
    "from bs4 import BeautifulSoup\n",
    "from concurrent.futures import ThreadPoolExecutor, as_completed\n",
    "from unidecode import unidecode\n",
    "import re\n",
    "\n",
    "minimum_len = 15\n",
    "\n",
    "def simple_cleaning(string):\n",
    "    return re.sub(r'[ ]+', ' ', unidecode(string).replace('\\n', ' ').replace('--', ' ').replace('/', ' ')).strip()"
   ]
  },
  {
   "cell_type": "code",
   "execution_count": 2,
   "id": "dec8bc8a",
   "metadata": {},
   "outputs": [],
   "source": [
    "openai.api_type = 'azure'\n",
    "openai.api_base = 'https://nous.openai.azure.com/'\n",
    "openai.api_version = '2023-07-01-preview'\n",
    "openai.api_key = ''"
   ]
  },
  {
   "cell_type": "code",
   "execution_count": 3,
   "id": "ac6f5d47",
   "metadata": {},
   "outputs": [],
   "source": [
    "engine = 'nous'"
   ]
  },
  {
   "cell_type": "code",
   "execution_count": 4,
   "id": "b53354d9",
   "metadata": {},
   "outputs": [],
   "source": [
    "def predict(text):\n",
    "    try:\n",
    "        messages = [\n",
    "            {\"role\": \"user\", \"content\": text},\n",
    "        ]\n",
    "        response = openai.ChatCompletion.create(\n",
    "            engine=engine,\n",
    "            messages=messages,\n",
    "            temperature=0.7,\n",
    "            max_tokens=1024,\n",
    "            top_p=0.95,\n",
    "        )\n",
    "        return response.choices[0]['message']['content']\n",
    "    except Exception as e:\n",
    "        print(e)\n",
    "        return None"
   ]
  },
  {
   "cell_type": "code",
   "execution_count": 11,
   "id": "b5020de2",
   "metadata": {},
   "outputs": [
    {
     "data": {
      "text/plain": [
       "8320"
      ]
     },
     "execution_count": 11,
     "metadata": {},
     "output_type": "execute_result"
    }
   ],
   "source": [
    "data = []\n",
    "with open('paragraph-lom.agc.jsonl') as fopen:\n",
    "    for l in fopen:\n",
    "        data.append({\n",
    "            'paragraph': json.loads(l)\n",
    "        })\n",
    "        \n",
    "len(data)"
   ]
  },
  {
   "cell_type": "code",
   "execution_count": 12,
   "id": "a6a47abf",
   "metadata": {},
   "outputs": [
    {
     "data": {
      "text/plain": [
       "{'paragraph': '17 Oktober 2014 \\n17 October 2014\\n\\nP.U. (A) 279   WARTA KERAJAAN PERSEKUTUAN\\n\\nFEDERAL GOVERNMENT \\nGAZETTE   PERINTAH KAWALAN BEKALAN \\n(BARANG-BARANG KAWALAN) (NO. 5) 2014\\n\\n\\n\\nCONTROL OF SUPPLIES \\n(CONTROLLED ARTICLES) (NO. 5) ORDER 2014   DISIARKAN OLEH/ \\nPUBLISHED BY\\n\\nJABATAN PEGUAM NEGARA/ \\nATTORNEY GENERAL’S CHAMBERSP.U. (A) 279\\n\\n2\\n\\nAKTA KAWALAN BEKALAN 1961\\n\\nPERINTAH KAWALAN BEKALAN (BARANG-BARANG KAWALAN) (NO. 5) 2014   PADA menjalankan kuasa yang diberikan oleh seksyen 5 Akta Kawalan Bekalan 1961\\n\\n[Akta 122], Menteri membuat perintah yang berikut:\\n\\n\\n\\nNama\\n\\n1. Perintah ini bolehlah dinamakan Perintah Kawalan Bekalan\\n\\n(Barang-Barang Kawalan) (No. 5) 2014.\\n\\n\\n\\nBarang-barang kawalan\\n\\n2. Barang-barang yang dinyatakan dalam Jadual diisytiharkan sebagai\\n\\nbarang-barang kawalan bagi tempoh dari 18 Oktober 2014 hingga 27 Oktober 2014.\\n\\n\\n\\nJADUAL\\n\\nBARANG-BARANG KAWALAN\\n\\n\\n\\n1. Daging kambing tempatan bertulang\\n\\n2. Daging kambing biri-biri import bertulang\\n\\n3. Daging kambing biri-biri import tanpa tulang (tidak termasuk paha)\\n\\n4. Daging paha kambing biri-biri import bertulang\\n\\n5. Tomato\\n\\n6. Kacang dal (Australia)\\n\\nDibuat 16 Oktober 2014 \\n[KPDN(PGK)(S)0.5001/4 Jld. 8; PN(PU2)188/VII]\\n\\n\\n\\nDATO’ SRI HASAN BIN MALEK \\nMenteri Perdagangan Dalam Negeri,\\n\\nKoperasi dan KepenggunaanP.U. (A) 279\\n\\n3\\n\\nCONTROL OF SUPPLIES ACT 1961\\n\\nCONTROL OF SUPPLIES (CONTROLLED ARTICLES) (NO. 5) ORDER 2014\\n\\n\\n\\nIN exercise of the powers conferred by section 5 of the Control of Supplies Act 1961\\n\\n[Act 122], the Minister makes the following order:\\n\\n\\n\\nCitation\\n\\n1. This order may be cited as the Control of Supplies (Controlled Articles)\\n\\n(No. 5) Order 2014.\\n\\n\\n\\nControlled articles\\n\\n2. The articles specified in the Schedule are declared to be controlled articles for\\n\\nthe period from 18 October 2014 to 27 October 2014.\\n\\n\\n\\nSCHEDULE\\n\\nCONTROLLED ARTICLES\\n\\n\\n\\n1. Local bone-in mutton\\n\\n2. Imported bone-in mutton\\n\\n3. Imported boneless mutton (not including leg)\\n\\n4. Imported bone-in mutton leg\\n\\n5. Tomato\\n\\n6. Dal (Australia)\\n\\nMade 16 October 2014 \\n[KPDN(PGK)(S)0.5001/4 Jld. 8; PN(PU2)188/VII]\\n\\n\\n\\nDATO’ SRI HASAN BIN MALEK \\nMinister of Domestic Trade,\\n\\nCo-operatives and Consumerism'}"
      ]
     },
     "execution_count": 12,
     "metadata": {},
     "output_type": "execute_result"
    }
   ],
   "source": [
    "data[0]"
   ]
  },
  {
   "cell_type": "code",
   "execution_count": 13,
   "id": "a12e45c9",
   "metadata": {},
   "outputs": [
    {
     "name": "stdout",
     "output_type": "stream",
     "text": [
      "mkdir: cannot create directory ‘question-lom-agc’: File exists\r\n"
     ]
    }
   ],
   "source": [
    "!mkdir question-lom-agc"
   ]
  },
  {
   "cell_type": "code",
   "execution_count": 14,
   "id": "12bd1d59",
   "metadata": {},
   "outputs": [],
   "source": [
    "def generate(filename, l):\n",
    "    if os.path.exists(filename):\n",
    "        return\n",
    "    \n",
    "    s = f\"\"\"\n",
    "{l['paragraph']}\n",
    "\n",
    "generate a question related to the context\n",
    "\"\"\"\n",
    "    s = s.strip()\n",
    "    r = predict(s)\n",
    "    l['question'] = r\n",
    "\n",
    "    with open(filename, 'w') as fopen:\n",
    "        json.dump(l, fopen)"
   ]
  },
  {
   "cell_type": "code",
   "execution_count": 15,
   "id": "92ea4aac",
   "metadata": {},
   "outputs": [],
   "source": [
    "generate('question-lom-agc/0.json', data[0])"
   ]
  },
  {
   "cell_type": "code",
   "execution_count": 17,
   "id": "832ffcde",
   "metadata": {},
   "outputs": [
    {
     "name": "stderr",
     "output_type": "stream",
     "text": [
      "  5%|██                                    | 227/4160 [05:59<1:32:48,  1.42s/it]"
     ]
    },
    {
     "name": "stdout",
     "output_type": "stream",
     "text": [
      "The response was filtered due to the prompt triggering Azure OpenAI's content management policy. Please modify your prompt and retry. To learn more about our content filtering policies please read our documentation: https://go.microsoft.com/fwlink/?linkid=2198766\n"
     ]
    },
    {
     "name": "stderr",
     "output_type": "stream",
     "text": [
      "  6%|██▏                                   | 236/4160 [06:12<1:35:09,  1.46s/it]"
     ]
    },
    {
     "name": "stdout",
     "output_type": "stream",
     "text": [
      "The response was filtered due to the prompt triggering Azure OpenAI's content management policy. Please modify your prompt and retry. To learn more about our content filtering policies please read our documentation: https://go.microsoft.com/fwlink/?linkid=2198766\n"
     ]
    },
    {
     "name": "stderr",
     "output_type": "stream",
     "text": [
      " 17%|██████▌                               | 723/4160 [19:06<1:27:42,  1.53s/it]"
     ]
    },
    {
     "name": "stdout",
     "output_type": "stream",
     "text": [
      "The response was filtered due to the prompt triggering Azure OpenAI's content management policy. Please modify your prompt and retry. To learn more about our content filtering policies please read our documentation: https://go.microsoft.com/fwlink/?linkid=2198766\n"
     ]
    },
    {
     "name": "stderr",
     "output_type": "stream",
     "text": [
      " 29%|██████████▋                          | 1205/4160 [31:54<1:07:50,  1.38s/it]"
     ]
    },
    {
     "name": "stdout",
     "output_type": "stream",
     "text": [
      "The response was filtered due to the prompt triggering Azure OpenAI's content management policy. Please modify your prompt and retry. To learn more about our content filtering policies please read our documentation: https://go.microsoft.com/fwlink/?linkid=2198766\n"
     ]
    },
    {
     "name": "stderr",
     "output_type": "stream",
     "text": [
      " 29%|██████████▋                          | 1208/4160 [31:58<1:08:01,  1.38s/it]"
     ]
    },
    {
     "name": "stdout",
     "output_type": "stream",
     "text": [
      "The response was filtered due to the prompt triggering Azure OpenAI's content management policy. Please modify your prompt and retry. To learn more about our content filtering policies please read our documentation: https://go.microsoft.com/fwlink/?linkid=2198766\n"
     ]
    },
    {
     "name": "stderr",
     "output_type": "stream",
     "text": [
      " 29%|██████████▊                          | 1209/4160 [31:59<1:07:15,  1.37s/it]"
     ]
    },
    {
     "name": "stdout",
     "output_type": "stream",
     "text": [
      "The response was filtered due to the prompt triggering Azure OpenAI's content management policy. Please modify your prompt and retry. To learn more about our content filtering policies please read our documentation: https://go.microsoft.com/fwlink/?linkid=2198766\n"
     ]
    },
    {
     "name": "stderr",
     "output_type": "stream",
     "text": [
      " 67%|████████████████████████▋            | 2777/4160 [1:13:28<33:21,  1.45s/it]"
     ]
    },
    {
     "name": "stdout",
     "output_type": "stream",
     "text": [
      "'content'\n"
     ]
    },
    {
     "name": "stderr",
     "output_type": "stream",
     "text": [
      " 78%|█████████████████████████████        | 3262/4160 [1:26:08<22:12,  1.48s/it]"
     ]
    },
    {
     "name": "stdout",
     "output_type": "stream",
     "text": [
      "'content'\n"
     ]
    },
    {
     "name": "stderr",
     "output_type": "stream",
     "text": [
      " 89%|████████████████████████████████▉    | 3697/4160 [1:37:33<11:37,  1.51s/it]"
     ]
    },
    {
     "name": "stdout",
     "output_type": "stream",
     "text": [
      "The response was filtered due to the prompt triggering Azure OpenAI's content management policy. Please modify your prompt and retry. To learn more about our content filtering policies please read our documentation: https://go.microsoft.com/fwlink/?linkid=2198766\n"
     ]
    },
    {
     "name": "stderr",
     "output_type": "stream",
     "text": [
      " 98%|████████████████████████████████████▎| 4077/4160 [1:47:07<02:14,  1.62s/it]"
     ]
    },
    {
     "name": "stdout",
     "output_type": "stream",
     "text": [
      "The response was filtered due to the prompt triggering Azure OpenAI's content management policy. Please modify your prompt and retry. To learn more about our content filtering policies please read our documentation: https://go.microsoft.com/fwlink/?linkid=2198766\n"
     ]
    },
    {
     "name": "stderr",
     "output_type": "stream",
     "text": [
      "100%|█████████████████████████████████████| 4160/4160 [1:49:17<00:00,  1.58s/it]\n"
     ]
    }
   ],
   "source": [
    "from tqdm import tqdm\n",
    "\n",
    "max_worker = 2\n",
    "for i in tqdm(range(0, len(data), max_worker)):\n",
    "    b = data[i: i + max_worker]\n",
    "    filenames = [(os.path.join('question-lom-agc', f'{i + k}.json'), l) for k, l in enumerate(b)]\n",
    "    with ThreadPoolExecutor(max_workers=max_worker) as executor:\n",
    "        futures = {executor.submit(generate, *f): f for f in filenames}\n",
    "\n",
    "        for future in as_completed(futures):\n",
    "            future.result()"
   ]
  },
  {
   "cell_type": "code",
   "execution_count": null,
   "id": "1a5d4882",
   "metadata": {},
   "outputs": [],
   "source": []
  }
 ],
 "metadata": {
  "kernelspec": {
   "display_name": "Python 3 (ipykernel)",
   "language": "python",
   "name": "python3"
  },
  "language_info": {
   "codemirror_mode": {
    "name": "ipython",
    "version": 3
   },
   "file_extension": ".py",
   "mimetype": "text/x-python",
   "name": "python",
   "nbconvert_exporter": "python",
   "pygments_lexer": "ipython3",
   "version": "3.8.10"
  }
 },
 "nbformat": 4,
 "nbformat_minor": 5
}
