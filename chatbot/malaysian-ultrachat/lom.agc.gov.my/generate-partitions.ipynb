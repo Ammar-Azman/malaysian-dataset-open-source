{
 "cells": [
  {
   "cell_type": "code",
   "execution_count": 2,
   "id": "de6c4502",
   "metadata": {},
   "outputs": [],
   "source": [
    "# !wget https://huggingface.co/datasets/malaysia-ai/dedup-text-dataset/resolve/main/lom.agc.gov.my.jsonl"
   ]
  },
  {
   "cell_type": "code",
   "execution_count": 13,
   "id": "a56af552",
   "metadata": {},
   "outputs": [],
   "source": [
    "import tiktoken\n",
    "enc = tiktoken.get_encoding(\"cl100k_base\")"
   ]
  },
  {
   "cell_type": "code",
   "execution_count": 3,
   "id": "30495872",
   "metadata": {},
   "outputs": [],
   "source": [
    "import json\n",
    "\n",
    "data = []\n",
    "with open('lom.agc.gov.my.jsonl') as fopen:\n",
    "    for l in fopen:\n",
    "        l = json.loads(l)\n",
    "        data.append(l)"
   ]
  },
  {
   "cell_type": "code",
   "execution_count": 17,
   "id": "5f859870",
   "metadata": {},
   "outputs": [],
   "source": [
    "def partition(s, n = 1000):\n",
    "    encoded = enc.encode(s)\n",
    "    splitted = [encoded[i: i + n] for i in range(0, len(encoded), n)]\n",
    "    return [enc.decode(s) for s in splitted]"
   ]
  },
  {
   "cell_type": "code",
   "execution_count": 19,
   "id": "26fdf731",
   "metadata": {},
   "outputs": [
    {
     "name": "stderr",
     "output_type": "stream",
     "text": [
      "100%|██████████████████████████████████████| 1359/1359 [00:03<00:00, 413.46it/s]\n"
     ]
    }
   ],
   "source": [
    "from tqdm import tqdm\n",
    "\n",
    "partitions = []\n",
    "for d in tqdm(data):\n",
    "    partitions.extend(partition(d))"
   ]
  },
  {
   "cell_type": "code",
   "execution_count": 20,
   "id": "f54b06f5",
   "metadata": {},
   "outputs": [
    {
     "data": {
      "text/plain": [
       "8320"
      ]
     },
     "execution_count": 20,
     "metadata": {},
     "output_type": "execute_result"
    }
   ],
   "source": [
    "len(partitions)"
   ]
  },
  {
   "cell_type": "code",
   "execution_count": 22,
   "id": "26d5ce4b",
   "metadata": {},
   "outputs": [],
   "source": [
    "with open('paragraph-lom.agc.jsonl', 'w') as fopen:\n",
    "    for t in partitions:\n",
    "        fopen.write(f'{json.dumps(t)}\\n')"
   ]
  }
 ],
 "metadata": {
  "kernelspec": {
   "display_name": "Python 3 (ipykernel)",
   "language": "python",
   "name": "python3"
  },
  "language_info": {
   "codemirror_mode": {
    "name": "ipython",
    "version": 3
   },
   "file_extension": ".py",
   "mimetype": "text/x-python",
   "name": "python",
   "nbconvert_exporter": "python",
   "pygments_lexer": "ipython3",
   "version": "3.8.10"
  }
 },
 "nbformat": 4,
 "nbformat_minor": 5
}
