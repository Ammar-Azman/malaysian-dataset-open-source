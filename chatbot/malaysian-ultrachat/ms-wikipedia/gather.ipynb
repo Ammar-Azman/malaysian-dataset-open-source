{
 "cells": [
  {
   "cell_type": "code",
   "execution_count": 1,
   "id": "96ad46e8",
   "metadata": {},
   "outputs": [
    {
     "data": {
      "text/plain": [
       "4408"
      ]
     },
     "execution_count": 1,
     "metadata": {},
     "output_type": "execute_result"
    }
   ],
   "source": [
    "from glob import glob\n",
    "import json\n",
    "import os\n",
    "\n",
    "files = glob('ultrachat-wikipedia/*.json')\n",
    "files = sorted(files, key = lambda x: os.path.getmtime(x))\n",
    "len(files)"
   ]
  },
  {
   "cell_type": "code",
   "execution_count": 2,
   "id": "0b7754e3",
   "metadata": {},
   "outputs": [
    {
     "data": {
      "text/plain": [
       "33992"
      ]
     },
     "execution_count": 2,
     "metadata": {},
     "output_type": "execute_result"
    }
   ],
   "source": [
    "texts = []\n",
    "for f in files:\n",
    "    with open(f) as fopen:\n",
    "        data = json.load(fopen)[1:]\n",
    "    for d in data:\n",
    "        texts.append(d['content'])\n",
    "        \n",
    "texts = [t for t in texts if t]\n",
    "texts = [t for t in texts if len(t)]\n",
    "texts = list(set(texts))\n",
    "len(texts)"
   ]
  },
  {
   "cell_type": "code",
   "execution_count": 4,
   "id": "dc157323",
   "metadata": {},
   "outputs": [],
   "source": [
    "with open('wikipedia.ultrachat.texts', 'w') as fopen:\n",
    "    for t in texts:\n",
    "        fopen.write(f'{json.dumps(t)}\\n')"
   ]
  },
  {
   "cell_type": "code",
   "execution_count": 5,
   "id": "62e2000f",
   "metadata": {},
   "outputs": [],
   "source": [
    "!cp wikipedia.ultrachat.texts ~/ssd3/ctranslate2"
   ]
  },
  {
   "cell_type": "code",
   "execution_count": 6,
   "id": "0141c6d0",
   "metadata": {},
   "outputs": [
    {
     "name": "stdout",
     "output_type": "stream",
     "text": [
      "/home/husein/ssd3/ctranslate2/wikipedia.ultrachat.texts\r\n",
      "/home/husein/ssd3/ctranslate2/wikipedia.ultrachat.texts.pickle\r\n",
      "/home/husein/ssd3/ctranslate2/wikipedia.ultrachat.texts.requested\r\n"
     ]
    }
   ],
   "source": [
    "!ls ~/ssd3/ctranslate2/wikipedia.ultrachat.texts*"
   ]
  },
  {
   "cell_type": "code",
   "execution_count": 7,
   "id": "262afca0",
   "metadata": {},
   "outputs": [
    {
     "data": {
      "text/plain": [
       "33992"
      ]
     },
     "execution_count": 7,
     "metadata": {},
     "output_type": "execute_result"
    }
   ],
   "source": [
    "mapping = {}\n",
    "with open('/home/husein/ssd3/ctranslate2/wikipedia.ultrachat.texts.requested') as fopen:\n",
    "    for l in fopen:\n",
    "        l = json.loads(l)\n",
    "        mapping[l['src']] = l['r']\n",
    "        \n",
    "len(mapping)"
   ]
  },
  {
   "cell_type": "code",
   "execution_count": 8,
   "id": "67d38f54",
   "metadata": {},
   "outputs": [],
   "source": [
    "with open('ultrachat-ms-wikipedia.jsonl', 'w') as fopen_l:\n",
    "    for f in files:\n",
    "        with open(f) as fopen:\n",
    "            data = json.load(fopen)\n",
    "        for i in range(0, len(data), 1):\n",
    "            data[i]['content_ms'] = mapping.get(data[i]['content'])\n",
    "        fopen_l.write(f'{json.dumps(data)}\\n')"
   ]
  }
 ],
 "metadata": {
  "kernelspec": {
   "display_name": "Python 3 (ipykernel)",
   "language": "python",
   "name": "python3"
  },
  "language_info": {
   "codemirror_mode": {
    "name": "ipython",
    "version": 3
   },
   "file_extension": ".py",
   "mimetype": "text/x-python",
   "name": "python",
   "nbconvert_exporter": "python",
   "pygments_lexer": "ipython3",
   "version": "3.8.10"
  }
 },
 "nbformat": 4,
 "nbformat_minor": 5
}
