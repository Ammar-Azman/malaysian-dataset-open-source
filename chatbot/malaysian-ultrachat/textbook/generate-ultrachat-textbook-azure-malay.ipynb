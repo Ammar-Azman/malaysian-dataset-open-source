{
 "cells": [
  {
   "cell_type": "code",
   "execution_count": 1,
   "id": "a656026b",
   "metadata": {},
   "outputs": [
    {
     "name": "stderr",
     "output_type": "stream",
     "text": [
      "/home/husein/3.9/lib/python3.9/site-packages/tqdm/auto.py:21: TqdmWarning: IProgress not found. Please update jupyter and ipywidgets. See https://ipywidgets.readthedocs.io/en/stable/user_install.html\n",
      "  from .autonotebook import tqdm as notebook_tqdm\n",
      "/home/husein/3.9/lib/python3.9/site-packages/malaya/tokenizer.py:214: FutureWarning: Possible nested set at position 3397\n",
      "  self.tok = re.compile(r'({})'.format('|'.join(pipeline)))\n",
      "/home/husein/3.9/lib/python3.9/site-packages/malaya/tokenizer.py:214: FutureWarning: Possible nested set at position 3927\n",
      "  self.tok = re.compile(r'({})'.format('|'.join(pipeline)))\n"
     ]
    }
   ],
   "source": [
    "import openai\n",
    "import instructor\n",
    "import json\n",
    "import os\n",
    "import malaya\n",
    "from pydantic import BaseModel, Field\n",
    "from bs4 import BeautifulSoup\n",
    "from concurrent.futures import ThreadPoolExecutor, as_completed\n",
    "from unidecode import unidecode\n",
    "import re\n",
    "import random\n",
    "\n",
    "minimum_len = 15\n",
    "\n",
    "def simple_cleaning(string):\n",
    "    return re.sub(r'[ ]+', ' ', unidecode(string).replace('\\n', ' ').replace('--', ' ').replace('/', ' ')).strip()"
   ]
  },
  {
   "cell_type": "code",
   "execution_count": 2,
   "id": "19099d71",
   "metadata": {},
   "outputs": [],
   "source": [
    "openai.api_type = \"azure\"\n",
    "openai.api_base = \"https://husein-ai5-aiservices1787699516.openai.azure.com/\"\n",
    "openai.api_version = \"2023-07-01-preview\"\n",
    "openai.api_key = ''\n",
    "engine = 'gpt-35-turbo-16k'"
   ]
  },
  {
   "cell_type": "code",
   "execution_count": 3,
   "id": "ccf95259",
   "metadata": {},
   "outputs": [],
   "source": [
    "def predict(messages):\n",
    "    try:\n",
    "        response = openai.ChatCompletion.create(\n",
    "            engine=engine,\n",
    "            messages=messages,\n",
    "            temperature=1.0,\n",
    "            max_tokens=1024,\n",
    "            top_p=1.0\n",
    "        )\n",
    "        return response.choices[0]['message']['content']\n",
    "    except Exception as e:\n",
    "        print(e)\n",
    "        return None"
   ]
  },
  {
   "cell_type": "code",
   "execution_count": 4,
   "id": "643b1ddf",
   "metadata": {},
   "outputs": [],
   "source": [
    "system = 'Above is a conversation between a user and an intelligent assistant. You suppose to simulate conversation between the user and the assistant. Bear in mind your major request is to ask the assistant to generate some material. So you can ask the assistant either to make it more detailed, add more related information, or any other request to improve the generated material. Be creative and diverse in your request. Make the response short and the language casual.'\n",
    "system_malay = 'Above is a conversation between a user and an intelligent assistant. You suppose to simulate conversation between the user and the assistant in malay language. Bear in mind your major request is to ask the assistant to generate some material. So you can ask the assistant either to make it more detailed, add more related information, or any other request to improve the generated material. Be creative and diverse in your request. Make the response short and the language casual.'\n",
    "next_step = 'Above is a conversation between a user and an intelligent assistant. Now suppose you are the user, generate response according to the generated material to continue the conversation.'"
   ]
  },
  {
   "cell_type": "code",
   "execution_count": 5,
   "id": "a15dfd6f",
   "metadata": {},
   "outputs": [
    {
     "name": "stdout",
     "output_type": "stream",
     "text": [
      "mkdir: cannot create directory ‘ultrachat-textbook’: File exists\r\n"
     ]
    }
   ],
   "source": [
    "!mkdir ultrachat-textbook\n",
    "# !rm ultrachat-textbook/*.json"
   ]
  },
  {
   "cell_type": "code",
   "execution_count": 6,
   "id": "d314931f",
   "metadata": {},
   "outputs": [],
   "source": [
    "def ultrachat(row, n = 1):\n",
    "    if row['question'].lower().startswith('soalan:'):\n",
    "        question = row['question'].split(':')[1:]\n",
    "        question = ':'.join(question).strip()\n",
    "    else:\n",
    "        question = row['question']\n",
    "        \n",
    "    results = [\n",
    "        {'role': 'context', 'content': row['paragraph']},\n",
    "        {'role': 'user', 'content': question},\n",
    "    ]\n",
    "    if row['question'] is None:\n",
    "        return\n",
    "    \n",
    "    initial = f\"\"\"\n",
    "    {row['paragraph']}\n",
    "\n",
    "    {row['question']}\n",
    "    \"\"\".strip()\n",
    "    messages = [\n",
    "        {'role': 'system', 'content': system_malay},\n",
    "        {'role': 'user', 'content': initial + ', jawab dalam bahasa melayu'},\n",
    "    ]\n",
    "    r = predict(messages)\n",
    "    results.append({\n",
    "        'role': 'assistant', 'content': r,\n",
    "    })\n",
    "    messages.append({\n",
    "        'role': 'assistant', 'content': r,\n",
    "    })\n",
    "    \n",
    "    for _ in range(n):\n",
    "    \n",
    "        messages_temp = messages + [\n",
    "            {'role': 'user', 'content': 'Now suppose you are the user and you dont really understand, so say something in malay to continue the conversation based on given context.'}\n",
    "        ]\n",
    "        r2 = predict(messages_temp)\n",
    "        if r2 is None:\n",
    "            break\n",
    "\n",
    "        results.append({\n",
    "            'role': 'user', 'content': r2,\n",
    "        })\n",
    "        messages.append({\n",
    "            'role': 'user', 'content': r2 + ', jawab dalam bahasa melayu',\n",
    "        })\n",
    "\n",
    "        r = predict(messages)\n",
    "        if r is None:\n",
    "            break\n",
    "        results.append({\n",
    "            'role': 'assistant', 'content': r,\n",
    "        })\n",
    "        messages.append({\n",
    "            'role': 'assistant', 'content': r,\n",
    "        })\n",
    "    \n",
    "    return results"
   ]
  },
  {
   "cell_type": "code",
   "execution_count": 7,
   "id": "504dda2f",
   "metadata": {},
   "outputs": [
    {
     "data": {
      "text/plain": [
       "49855"
      ]
     },
     "execution_count": 7,
     "metadata": {},
     "output_type": "execute_result"
    }
   ],
   "source": [
    "from glob import glob\n",
    "\n",
    "files = sorted(glob('question-textbooks/*.json'))\n",
    "len(files)"
   ]
  },
  {
   "cell_type": "code",
   "execution_count": 8,
   "id": "f627087d",
   "metadata": {},
   "outputs": [],
   "source": [
    "def generate(f):\n",
    "    index = int(os.path.split(f)[1].replace('.json', ''))\n",
    "    filename = f'ultrachat-textbook/{index}.json'\n",
    "    if os.path.exists(filename):\n",
    "        return\n",
    "        \n",
    "    with open(f) as fopen:\n",
    "        data = json.load(fopen)\n",
    "    \n",
    "    try:\n",
    "        r = ultrachat(data, n = random.randint(1, 5))\n",
    "        with open(filename, 'w') as fopen:\n",
    "            json.dump(r, fopen)\n",
    "    except:\n",
    "        pass"
   ]
  },
  {
   "cell_type": "code",
   "execution_count": 9,
   "id": "b93714ea",
   "metadata": {},
   "outputs": [],
   "source": [
    "generate(files[0])"
   ]
  },
  {
   "cell_type": "code",
   "execution_count": 10,
   "id": "446ae2e8",
   "metadata": {},
   "outputs": [],
   "source": [
    "# !ls ultrachat-textbook"
   ]
  },
  {
   "cell_type": "code",
   "execution_count": 11,
   "id": "59644a20",
   "metadata": {},
   "outputs": [
    {
     "data": {
      "text/plain": [
       "[{'role': 'context',\n",
       "  'content': '\\n\\n# Computational Cognitive Science: A Comprehensive Guide\":\\n\\n\\n\\n## Foreward\\n\\n\\n\\nIn the rapidly evolving field of cognitive science, the intersection of computation and cognition has emerged as a critical area of study. This book, \"Computational Cognitive Science: A Comprehensive Guide\", aims to provide a thorough exploration of this fascinating discipline, offering a deep dive into the theories, methodologies, and applications that define it.\\n\\n\\n\\nThe book is structured to provide a comprehensive understanding of the computational approach to cognitive science, starting with the fundamental concepts and gradually progressing to more complex theories and models. It is designed to cater to a wide audience, from students beginning their journey in cognitive science to seasoned researchers seeking a comprehensive reference.\\n\\n\\n\\nThe book begins with an exploration of artificial intuition, a concept that has gained significant attention in recent years. It delves into the intricacies of how machines can be designed to mimic human intuition, a capability that has profound implications for fields ranging from artificial intelligence to psychology.\\n\\n\\n\\nThe exploration of concept learning forms a significant part of this book. We delve into rule-based theories, which have their roots in cognitive psychology and early computer models of learning. These theories, as exemplified by the radiologist example, demonstrate how decisions can be made based on specific properties, offering a unique perspective on how learning can be structured.\\n\\n\\n\\nThe book also explores the prototype view of concept learning, which posits that people abstract out the central tendency of the examples they experience and use this as a basis for their categorization decisions. This theory provides a contrasting perspective to rule-based theories, offering a different lens through which to view the process of learning.\\n\\n\\n\\nThroughout the book, we strive to provide a balanced view, presenting each theory and model in its context, discussing its strengths and weaknesses, and highlighting its implications for the broader field of cognitive science. We also draw connections to other disciplines, demonstrating the interdisciplinary nature of computational cognitive science.\\n\\n\\n\\nIn writing this book, we have endeavored to make the complex field of computational cognitive science accessible and engaging. We hope that it serves as a valuable resource for anyone interested in understanding the computational underpinnings of cognition, and inspires further exploration and research in this exciting field.\\n\\n\\n\\n## Chapter 1: Introduction and Organizational Meeting\\n\\n\\n\\n### Introduction\\n\\n\\n\\nWelcome to the fascinating world of Computational Cognitive Science. This introductory chapter serves as a stepping stone into the vast and complex field that combines the principles of computer science, cognitive psychology, artificial intelligence, and neuroscience. \\n\\n\\n\\nComputational Cognitive Science is a multidisciplinary field that uses computational methods and theories to understand and explain cognitive phenomena. It is a field that is constantly evolving, with new theories and models being developed to better understand the human mind and its processes. \\n\\n\\n\\nIn this chapter, we will set the stage for the rest of the book by providing an overview of the field, its history, and its relevance in today\\'s world. We will also discuss the organization of the book, outlining the topics that will be covered in each chapter. This will help you navigate through the book and understand how each chapter builds upon the previous one.\\n\\n\\n\\nWe will also introduce some of the key concepts and terminologies used in Computational Cognitive Science. This will provide a foundation for the more advanced topics that will be covered in the later chapters. \\n\\n\\n\\nThis chapter is designed to be an organizational meeting, a place where we set the agenda for the rest of the journey. It is here that we will lay the groundwork for the exploration of the computational models of cognitive processes, the methodologies used in the field, and the applications of Computational Cognitive Science in various domains.\\n\\n\\n\\nSo, let\\'s embark on this exciting journey together, exploring the intricate workings of the human mind through the lens of computational models. Welcome to Chapter 1: Introduction and Organizational Meeting.\\n\\n\\n\\n### Section: 1.1 Course Overview\\n\\n\\n\\nComputational Cognitive Science is an interdisciplinary field that combines elements of computer science, cognitive psychology, artificial intelligence, and neuroscience. It seeks to understand and explain cognitive phenomena using computational methods and theories. This course will provide a comprehensive overview of the field, its history, and its relevance in today\\'s world.\\n\\n\\n\\n#### Subsection: 1.1.1 Course Structure\\n\\n\\n\\nThe course is structured into several chapters, each focusing on a different aspect of Computational Cognitive Science. The chapters are designed to build upon each other, starting with the basics and gradually moving towards more advanced topics. \\n\\n\\n\\nThe first chapter, which you are currently reading, serves as an introduction to the field and provides an overview of the course. Subsequent chapters will delve into specific topics such as computational models of cognitive processes, methodologies used in the field, and applications of Computational Cognitive Science in various domains.\\n\\n\\n\\n#### Subsection: 1.1.2 Key Concepts and Terminologies\\n\\n\\n\\nThroughout the course, we will introduce and use a variety of key concepts and terminologies related to Computational Cognitive Science. These include, but are not limited to, terms such as \\'computational model\\', \\'cognitive process\\', \\'artificial intelligence\\', and \\'neuroscience\\'. A solid understanding of these terms is crucial for grasping the more advanced topics covered in the later chapters.\\n\\n\\n\\n#### Subsection: 1.1.3 Course Goals\\n\\n\\n\\nThe primary goal of this course is to provide a comprehensive understanding of Computational Cognitive Science. By the end of the course, you should be able to:\\n\\n\\n\\n1. Understand the principles and theories of Computational Cognitive Science.\\n\\n2. Apply computational methods to understand and explain cognitive phenomena.\\n\\n3. Understand the relevance and applications of Computational Cognitive Science in various domains.\\n\\n\\n\\nWe hope that this course will not only provide you with a solid foundation in Computational Cognitive Science but also inspire you to explore this fascinating field further. Let\\'s embark on this exciting journey together!\\n\\n\\n\\n### Section: 1.2 Administrative details\\n\\n\\n\\n#### Subsection: 1.2.1 Course Administration\\n\\n\\n\\nThe administration of this course is handled by the Administrative Division (AD). The AD is responsible for personnel, property, and record administration. They ensure that all course materials are properly distributed and that all records are accurately maintained. \\n\\n\\n\\n#### Subsection: 1.2.2 Course Materials\\n\\n\\n\\nAll course materials, including lecture notes, assignments, and additional readings, will be made available on the course website. It is the responsibility of the students to regularly check the website for updates and to download and review the materials in a timely manner.\\n\\n\\n\\n#### Subsection: 1.2.3 Course Schedule\\n\\n\\n\\nThe course is structured into several chapters, each focusing on a different aspect of Computational Cognitive Science. The chapters are designed to build upon each other, starting with the basics and gradually moving towards more advanced topics. A detailed course schedule, including the dates for each chapter, will be provided at the beginning of the course.\\n\\n\\n\\n#### Subsection: 1.2.4 Grading\\n\\n\\n\\nThe grading for this course will be based on a combination of assignments, quizzes, a mid-term exam, and a final exam. The specific weightage of each component will be as follows:\\n\\n\\n\\n- Assignments: 30%\\n\\n- Quizzes: 20%\\n\\n- Mid-term Exam: 25%\\n\\n- Final Exam: 25%\\n\\n\\n\\n#### Subsection: 1.2.5 Office Hours\\n\\n\\n\\nOffice hours will be held weekly, providing students with the opportunity to discuss course material, ask questions, and seek clarification on any topics they are struggling with. The specific schedule for office hours will be announced at the start of the course.\\n\\n\\n\\n#### Subsection: 1.'},\n",
       " {'role': 'user',\n",
       "  'content': 'Apa yang dimaksudkan dengan Sains Kognitif Berkomputasi dan mengapa ia penting dalam dunia moden?'},\n",
       " {'role': 'assistant',\n",
       "  'content': 'Jawapan: Sains Kognitif Berkomputasi adalah bidang interdisiplin yang menggabungkan elemen sains komputer, psikologi kognitif, kecerdasan buatan, dan neurosains. Ia bertujuan untuk memahami dan menjelaskan fenomena kognitif menggunakan kaedah dan teori komputasi. Bidang ini terus berkembang, dengan teori dan model baru yang dibangunkan untuk memahami minda manusia dan prosesnya dengan lebih baik.\\n\\nSains Kognitif Berkomputasi penting dalam dunia moden kerana ia memberikan wawasan mendalam tentang bagaimana minda manusia berfungsi dan bagaimana pengkomputeran boleh membantu kita memahaminya dengan lebih baik. Ia mempunyai pelbagai aplikasi dalam bidang kecerdasan buatan, robotik, pembelajaran mesin, pengenalan ucapan, dan banyak lagi. Dengan memahami proses kognitif secara mendalam, kita dapat mencipta algoritma dan model komputasi yang dapat meniru keupayaan kognitif manusia, membawa kepada perkembangan teknologi yang lebih canggih dan aplikasi yang lebih bermanfaat.'},\n",
       " {'role': 'user',\n",
       "  'content': 'Maaf, bolehkah saya minta penjelasan yang lebih terperinci mengenai bagaimana Sains Kognitif Berkomputasi dapat membantu dalam bidang kecerdasan buatan dan robotik? Saya ingin memahami lebih lanjut tentang hubungan antara komputasi dan minda manusia.'},\n",
       " {'role': 'assistant',\n",
       "  'content': 'Tentu! Sains Kognitif Berkomputasi memiliki peranan penting dalam bidang kecerdasan buatan dan robotik. Melalui penerapan konsep dan teori dari sains kognitif ke dalam sistem komputasi, kita dapat mengembangkan kecerdasan buatan dan robot yang memiliki kemampuan yang lebih mirip dengan manusia. \\n\\nDalam kecerdasan buatan, sains kognitif berkomputasi membantu dalam merancang dan mengembangkan algoritma dan model komputasi yang dapat meniru kemampuan kognitif manusia seperti pengenalan objek, pemahaman bahasa, dan pengambilan keputusan. Dengan memahami bagaimana manusia memproses dan menerjemahkan informasi, kita dapat mengembangkan sistem yang dapat bekerja dengan lebih efisien dan cerdas dalam memahami dan berinteraksi dengan dunia di sekitarnya.\\n\\nDalam bidang robotik, sains kognitif berkomputasi dapat membantu dalam mengembangkan robot yang mampu berinteraksi dan berkomunikasi dengan manusia secara lebih alami. Melalui pemodelan proses kognitif manusia, robot dapat memahami dan merespons perintah manusia dengan lebih baik. Contohnya, dengan memahami bagaimana manusia belajar dan memahami dunia melalui pengelompokkan konsep, kita dapat mengembangkan robot yang dapat mengenali dan mengategorikan objek dengan baik.\\n\\nIntegrasi antara komputasi dan sains kognitif juga membantu dalam pengembangan sistem pembelajaran mesin yang lebih adaptif dan cerdas. Dalam pembelajaran mesin, kita dapat menggunakan prinsip-prinsip sains kognitif untuk merancang algoritma yang mampu belajar dari pengalaman dan memperbaiki kinerjanya seiring waktu, mirip dengan bagaimana manusia belajar.\\n\\nSecara keseluruhan, Sains Kognitif Berkomputasi memberikan wawasan dan kerangka kerja yang diperlukan untuk mengembangkan sistem kecerdasan buatan dan robotik yang lebih mirip dengan kemampuan kognitif manusia. Dengan memahami dan menerapkan konsep-konsep sains kognitif, kita dapat meningkatkan kinerja sistem komputasi dalam memahami, berinteraksi, dan mengambil keputusan seperti manusia.'},\n",
       " {'role': 'user',\n",
       "  'content': 'Tuan pengguna, terima kasih kerana penjelasan yang terperinci. Saya rasa agak terkejut dengan kompleksiti hubungan antara komputasi dan minda manusia. Mungkin saya boleh meminta beberapa contoh konkrit tentang bagaimana kecerdasan buatan dan robotik telah dimajukan dengan menggunakan kaedah sains kognitif berkomputasi?'},\n",
       " {'role': 'assistant',\n",
       "  'content': 'Tentu! Berikut adalah beberapa contoh konkrit tentang bagaimana kecerdasan buatan dan robotik telah dimajukan dengan menggunakan kaedah sains kognitif berkomputasi:\\n\\n1. Sistem pengenalan wajah: Dengan menggunakan kaedah sains kognitif, para ilmuwan telah mengembangkan sistem pengenalan wajah yang mampu mendeteksi dan mengenali wajah manusia dengan akurasi yang tinggi. Sistem ini menggunakan model komputasi yang mengikuti cara otak manusia memproses dan mengidentifikasi wajah. Hal ini membantu dalam aplikasi seperti keamanan, pengenalan emosi, dan pengenalan wajah untuk mengautentikasi pengguna.\\n\\n2. Robot sosial: Dalam robot sosial, sains kognitif berkomputasi digunakan untuk mengembangkan robot yang mampu berinteraksi dan berkomunikasi dengan manusia secara alami. Robot ini dapat membaca ekspresi wajah, mengenali suara dan bahasa manusia, serta merespons secara real-time dengan menggunakan model komputasi yang mirip dengan proses kognitif manusia. Robot sosial semakin digunakan dalam sektor perhotelan, perawatan kesehatan, dan pendidikan.\\n\\n3. Pemrosesan bahasa alami: Penerapan sains kognitif berkomputasi dalam pemrosesan bahasa alami telah membantu meningkatkan kecerdasan buatan dalam memahami dan menghasilkan bahasa manusia. Sistem pemrosesan bahasa alami yang kompleks dapat mengenali dan memahami kalimat yang kompleks, melakukan terjemahan otomatis, dan menghasilkan respon yang relevan berdasarkan pemahaman konteks. Contohnya, asisten virtual seperti Siri, Alexa, dan Google Assistant menggunakan teknologi pemrosesan bahasa alami yang didasarkan pada sains kognitif.\\n\\n4. Kendaraan otonom: Dalam pengembangan kendaraan otonom, sains kognitif berkomputasi membantu dalam mengembangkan sistem yang dapat mengenali dan merespons situasi di jalan dengan kemampuan seperti manusia. Kendaraan otonom menggunakan teknologi penginderaan, pemrosesan gambar, dan pemrosesan data dengan model komputasi yang terinspirasi oleh proses kognitif manusia. Hal ini memungkinkan kendaraan otonom untuk mengenali objek, mengambil keputusan, dan mengemudi secara aman dan efisien.\\n\\nDalam kesemua contoh tersebut, penggabungan antara komputasi dan sains kognitif memainkan peranan penting dalam meningkatkan kecerdasan buatan dan robotik. Dengan menerapkan kaedah dan teori sains kognitif ke dalam sistem komputasi, kita dapat menciptakan sistem yang memahami, berinteraksi, dan mengambil keputusan dengan lebih mirip dengan cara manusia melakukannya.'},\n",
       " {'role': 'user',\n",
       "  'content': 'Maafkan saya, tetapi saya masih agak terkeliru dengan penjelasan tersebut. Bolehkah anda memberikan contoh yang lebih mudah atau memberikan penjelasan dengan bahasa yang lebih ringkas? Saya ingin lebih memahami hubungan antara komputasi dan minda manusia dalam konteks kecerdasan buatan dan robotik.'},\n",
       " {'role': 'assistant',\n",
       "  'content': 'Tidak mengapa. Dalam konteks kecerdasan buatan dan robotik, hubungan antara komputasi dan minda manusia dapat dijelaskan seperti ini: \\n\\nKomputasi merujuk kepada pemrosesan maklumat menggunakan komputer dan algoritma. Minda manusia, di sisi lain, merujuk kepada bagaimana otak manusia berfungsi dan memproses maklumat. \\n\\nDalam mengembangkan kecerdasan buatan dan robotik, para penyelidik menggunakan konsep-konsep dan teori sains kognitif untuk merancang sistem komputasi yang mirip dengan cara otak manusia bekerja. Ini melibatkan seperti mengenali objek, memahami bahasa manusia, dan membuat keputusan berdasarkan konteks. \\n\\nContohnya, dengan menggunakan sains kognitif, pereka sistem kecerdasan buatan dapat mengembangkan algoritma dan model komputasi yang boleh mengenali dan memahami wajah manusia dengan baik. Ini berguna dalam aplikasi pengenalan wajah untuk tujuan keamanan atau pengenalan emosi.\\n\\nDalam robotik, sains kognitif berkomputasi membantu dalam merancang robot yang boleh berinteraksi dan berkomunikasi dengan manusia secara lebih alami. Robot ini menggunakan model komputasi yang meniru pemrosesan kognitif manusia untuk membaca ekspresi wajah, mengenali suara manusia, dan merespons perintah manusia dengan baik.\\n\\nRingkasnya, komputasi dalam kecerdasan buatan dan robotik melibatkan penggunaan teknologi untuk memproses maklumat, dan sains kognitif membantu kita dalam memahami dan meniru cara kerja otak manusia. Dengan menggunakan pendekatan ini, kita dapat mengembangkan sistem komputasi yang lebih cerdas dan mirip dengan kemampuan kognitif manusia.'},\n",
       " {'role': 'user',\n",
       "  'content': 'Maaf ya, mungkin saya masih agak keliru dengan penjelasannya. Bolehkah Anda menerangkan dengan kata-kata yang lebih mudah? Saya ingin benar-benar memahami bagaimana komputasi dan minda manusia berhubungan dalam kecerdasan buatan dan robotik. Terima kasih.'},\n",
       " {'role': 'assistant',\n",
       "  'content': 'Tidak masalah. Komputasi dalam kecerdasan buatan dan robotik berkaitan dengan cara komputer memproses informasi dan membuat keputusan. Minda manusia, åt the long player of any, adalah tentang cara otak manusia memproses informasi dan mengambil keputusan.\\n\\nDalam kecerdasan buatan dan robotik, sains kognitif digunakan untuk mempelajari dan memahami bagaimana otak manusia bekerja. Para ilmuwan menggunakan pengetahuan ini untuk merancang komputer dan robot yang dapat berpikir dan bertindak seperti manusia.\\n\\nContohnya, dengan menerapkan sains kognitif, kita dapat menciptakan sistem komputer yang dapat mengenali wajah manusia dan memahami bahasa manusia. Ini membuatnya lebih mudah untuk menggunakan teknologi seperti pengenalan wajah pada sistem pengamanan atau sistem pemrosesan bahasa alami pada asisten digital.\\n\\nDalam robotik, sains kognitif membantu kita merancang robot yang dapat berinteraksi dengan manusia seperti manusia. Robot ini dapat memahami perintah manusia, merespons ekspresi wajah manusia, dan berkomunikasi secara alami. Ini memungkinkan robot untuk digunakan dalam berbagai aplikasi, seperti perawatan kesehatan atau pendidikan.\\n\\nIntinya, komputasi bekerja dengan menerapkan prinsip-prinsip dan pengetahuan yang kita peroleh dari mempelajari otak manusia. Dengan menggunakan sains kognitif, kita dapat menciptakan komputer dan robot yang dapat berpikir dan bertindak secara mirip dengan manusia. Semoga ini membantu Anda memahami hubungan antara komputasi dan minda manusia dalam konteks kecerdasan buatan dan robotik.'},\n",
       " {'role': 'user',\n",
       "  'content': 'Maaf ya, saya masih agak buntu dengan penjelasannya. Bolehkah Anda menerangkan dengan contoh yang lebih sederhana atau memberikan analogi untuk membantu saya memahami? Terima kasih atas kesabaran Anda.'},\n",
       " {'role': 'assistant',\n",
       "  'content': 'Tentu! Saya akan memberikan contoh sederhana untuk membantu Anda memahami hubungan antara komputasi dan minda manusia dalam kecerdasan buatan dan robotik.\\n\\nBayangkan Anda sedang berada di dapur dan ingin membuat secangkir teh. Anda membutuhkan komputer untuk membantu Anda dalam proses ini. Komputer adalah perwakilan dari komputasi dalam konteks ini.\\n\\nKomputer tersebut dapat melakukan beberapa tugas, seperti memonitor suhu air, menghitung waktu yang diperlukan untuk merebus air, dan memberi tahu Anda kapan air siap untuk diseduh teh. Ini adalah kemampuan komputasi yang membantu Anda dalam proses.\\n\\nNamun, sebagai manusia, Anda juga memiliki otak yang memainkan peranan penting dalam membuat teh. Otak Anda memproses informasi, seperti melihat air mendidih, mendengar ketukan teko, dan mengingat resep teh yang harus Anda ikuti. Otak Anda juga membantu Anda membuat keputusan, misalnya, Anda memutuskan waktu yang tepat untuk menyeduh teh.\\n\\nDalam hal ini, otak manusia adalah perwakilan dari minda manusia. Minda manusia menggabungkan proses pikiran, pemrosesan informasi, dan pengambilan keputusan. Komputasi dalam kecerdasan buatan dan robotik berusaha untuk meniru dan mendekati kemampuan pikiran, pemrosesan informasi, dan pengambilan keputusan seperti yang terdapat dalam minda manusia.\\n\\nJadi, dalam konteks kecerdasan buatan dan robotik, komputasi digunakan untuk membuat komputer dan robot yang dapat meniru kemampuan pikiran dan pemrosesan informasi manusia, dan mengambil keputusan dengan cara yang lebih mirip dengan manusia.\\n\\nSemoga contoh ini membantu Anda memahami hubungan antara komputasi dan minda manusia dalam konteks kecerdasan buatan dan robotik. Jangan ragu untuk mengajukan pertanyaan lebih lanjut jika ada yang membingungkan!'}]"
      ]
     },
     "execution_count": 11,
     "metadata": {},
     "output_type": "execute_result"
    }
   ],
   "source": [
    "with open('ultrachat-textbook/0.json') as fopen:\n",
    "    data = json.load(fopen)\n",
    "    \n",
    "data"
   ]
  },
  {
   "cell_type": "code",
   "execution_count": 12,
   "id": "bb010ed3",
   "metadata": {},
   "outputs": [
    {
     "name": "stderr",
     "output_type": "stream",
     "text": [
      "100%|█████████████████████████████████████| 2770/2770 [9:44:00<00:00, 12.65s/it]\n"
     ]
    }
   ],
   "source": [
    "from tqdm import tqdm\n",
    "\n",
    "max_worker = 3\n",
    "for i in tqdm(range((len(files) // 6) * 0, (len(files) // 6) * 1, max_worker)):\n",
    "    b = files[i: i + max_worker]\n",
    "    \n",
    "    with ThreadPoolExecutor(max_workers=max_worker) as executor:\n",
    "        futures = {executor.submit(generate, f): f for f in b}\n",
    "\n",
    "        for future in as_completed(futures):\n",
    "            future.result()"
   ]
  },
  {
   "cell_type": "code",
   "execution_count": null,
   "id": "ef537045",
   "metadata": {},
   "outputs": [],
   "source": []
  }
 ],
 "metadata": {
  "kernelspec": {
   "display_name": "3.9",
   "language": "python",
   "name": "3.9"
  },
  "language_info": {
   "codemirror_mode": {
    "name": "ipython",
    "version": 3
   },
   "file_extension": ".py",
   "mimetype": "text/x-python",
   "name": "python",
   "nbconvert_exporter": "python",
   "pygments_lexer": "ipython3",
   "version": "3.9.16"
  }
 },
 "nbformat": 4,
 "nbformat_minor": 5
}
