{
 "cells": [
  {
   "cell_type": "code",
   "execution_count": 16,
   "id": "608c2e8c",
   "metadata": {},
   "outputs": [],
   "source": [
    "# !wget https://huggingface.co/datasets/mesolitica/crawl-my-website/resolve/main/buku-teks.jsonl\n",
    "# !wget https://huggingface.co/datasets/open-phi/textbooks/resolve/main/data/train-00000-of-00001-b513d9e388d56453.parquet"
   ]
  },
  {
   "cell_type": "code",
   "execution_count": 19,
   "id": "ccc5ab6d",
   "metadata": {},
   "outputs": [
    {
     "name": "stderr",
     "output_type": "stream",
     "text": [
      "/home/husein/.local/lib/python3.8/site-packages/requests/__init__.py:102: RequestsDependencyWarning: urllib3 (1.26.15) or chardet (5.2.0)/charset_normalizer (2.0.7) doesn't match a supported version!\n",
      "  warnings.warn(\"urllib3 ({}) or chardet ({})/charset_normalizer ({}) doesn't match a supported \"\n"
     ]
    }
   ],
   "source": [
    "import tiktoken\n",
    "enc = tiktoken.get_encoding(\"cl100k_base\")"
   ]
  },
  {
   "cell_type": "code",
   "execution_count": 17,
   "id": "ad0f3a17",
   "metadata": {},
   "outputs": [
    {
     "data": {
      "text/html": [
       "<div>\n",
       "<style scoped>\n",
       "    .dataframe tbody tr th:only-of-type {\n",
       "        vertical-align: middle;\n",
       "    }\n",
       "\n",
       "    .dataframe tbody tr th {\n",
       "        vertical-align: top;\n",
       "    }\n",
       "\n",
       "    .dataframe thead th {\n",
       "        text-align: right;\n",
       "    }\n",
       "</style>\n",
       "<table border=\"1\" class=\"dataframe\">\n",
       "  <thead>\n",
       "    <tr style=\"text-align: right;\">\n",
       "      <th></th>\n",
       "      <th>topic</th>\n",
       "      <th>model</th>\n",
       "      <th>concepts</th>\n",
       "      <th>outline</th>\n",
       "      <th>markdown</th>\n",
       "      <th>field</th>\n",
       "      <th>subfield</th>\n",
       "      <th>rag</th>\n",
       "    </tr>\n",
       "  </thead>\n",
       "  <tbody>\n",
       "    <tr>\n",
       "      <th>0</th>\n",
       "      <td>Computational Cognitive Science.</td>\n",
       "      <td>gpt-4-0613</td>\n",
       "      <td>[]</td>\n",
       "      <td># Table of Contents\\n- [Computational Cognitiv...</td>\n",
       "      <td>\\n\\n# Computational Cognitive Science: A Compr...</td>\n",
       "      <td>systems_engineering</td>\n",
       "      <td>computational_science_and_engineering</td>\n",
       "      <td>WIKI</td>\n",
       "    </tr>\n",
       "    <tr>\n",
       "      <th>1</th>\n",
       "      <td>Multi-Scale System Design.</td>\n",
       "      <td>gpt-3.5-turbo-instruct</td>\n",
       "      <td>[]</td>\n",
       "      <td># Table of Contents\\n- [Multi-Scale System Des...</td>\n",
       "      <td>\\n\\n# Multi-Scale System Design: A Comprehensi...</td>\n",
       "      <td>mechanical_engineering</td>\n",
       "      <td>mechanical_design</td>\n",
       "      <td>WIKI</td>\n",
       "    </tr>\n",
       "    <tr>\n",
       "      <th>2</th>\n",
       "      <td>Introduction to Modeling and Simulation.</td>\n",
       "      <td>gpt-3.5-turbo-instruct</td>\n",
       "      <td>[]</td>\n",
       "      <td># Table of Contents\\n- [Introduction to Modeli...</td>\n",
       "      <td>\\n\\n# Introduction to Modeling and Simulation:...</td>\n",
       "      <td>systems_engineering</td>\n",
       "      <td>computational_modeling_and_simulation</td>\n",
       "      <td>N/A</td>\n",
       "    </tr>\n",
       "    <tr>\n",
       "      <th>3</th>\n",
       "      <td>Human Supervisory Control of Automated Systems.</td>\n",
       "      <td>gpt-3.5-turbo-instruct</td>\n",
       "      <td>[]</td>\n",
       "      <td># Table of Contents\\n- [Human Supervisory Cont...</td>\n",
       "      <td>\\n\\n# Human Supervisory Control of Automated S...</td>\n",
       "      <td>aerospace_engineering</td>\n",
       "      <td>guidance_and_control_systems</td>\n",
       "      <td>WIKI</td>\n",
       "    </tr>\n",
       "    <tr>\n",
       "      <th>4</th>\n",
       "      <td>Numerical Computation for Mechanical Engineers.</td>\n",
       "      <td>gpt-3.5-turbo-instruct</td>\n",
       "      <td>[]</td>\n",
       "      <td># Table of Contents\\n- [Comprehensive Guide to...</td>\n",
       "      <td>\\n\\n# Comprehensive Guide to Numerical Computa...</td>\n",
       "      <td>systems_engineering</td>\n",
       "      <td>numerical_simulation</td>\n",
       "      <td>WIKI</td>\n",
       "    </tr>\n",
       "  </tbody>\n",
       "</table>\n",
       "</div>"
      ],
      "text/plain": [
       "                                             topic                   model  \\\n",
       "0                 Computational Cognitive Science.              gpt-4-0613   \n",
       "1                       Multi-Scale System Design.  gpt-3.5-turbo-instruct   \n",
       "2         Introduction to Modeling and Simulation.  gpt-3.5-turbo-instruct   \n",
       "3  Human Supervisory Control of Automated Systems.  gpt-3.5-turbo-instruct   \n",
       "4  Numerical Computation for Mechanical Engineers.  gpt-3.5-turbo-instruct   \n",
       "\n",
       "  concepts                                            outline  \\\n",
       "0       []  # Table of Contents\\n- [Computational Cognitiv...   \n",
       "1       []  # Table of Contents\\n- [Multi-Scale System Des...   \n",
       "2       []  # Table of Contents\\n- [Introduction to Modeli...   \n",
       "3       []  # Table of Contents\\n- [Human Supervisory Cont...   \n",
       "4       []  # Table of Contents\\n- [Comprehensive Guide to...   \n",
       "\n",
       "                                            markdown                   field  \\\n",
       "0  \\n\\n# Computational Cognitive Science: A Compr...     systems_engineering   \n",
       "1  \\n\\n# Multi-Scale System Design: A Comprehensi...  mechanical_engineering   \n",
       "2  \\n\\n# Introduction to Modeling and Simulation:...     systems_engineering   \n",
       "3  \\n\\n# Human Supervisory Control of Automated S...   aerospace_engineering   \n",
       "4  \\n\\n# Comprehensive Guide to Numerical Computa...     systems_engineering   \n",
       "\n",
       "                                subfield   rag  \n",
       "0  computational_science_and_engineering  WIKI  \n",
       "1                      mechanical_design  WIKI  \n",
       "2  computational_modeling_and_simulation   N/A  \n",
       "3           guidance_and_control_systems  WIKI  \n",
       "4                   numerical_simulation  WIKI  "
      ]
     },
     "execution_count": 17,
     "metadata": {},
     "output_type": "execute_result"
    }
   ],
   "source": [
    "import pandas as pd\n",
    "\n",
    "df = pd.read_parquet('train-00000-of-00001-b513d9e388d56453.parquet')\n",
    "df.head()"
   ]
  },
  {
   "cell_type": "code",
   "execution_count": 20,
   "id": "18251ec9",
   "metadata": {},
   "outputs": [],
   "source": [
    "def partition(s, n = 1500):\n",
    "    encoded = enc.encode(s)\n",
    "    splitted = [encoded[i: i + n] for i in range(0, len(encoded), n)]\n",
    "    return [enc.decode(s) for s in splitted if len(s) > 500]"
   ]
  },
  {
   "cell_type": "code",
   "execution_count": 21,
   "id": "75c1caf7",
   "metadata": {},
   "outputs": [],
   "source": [
    "data = df['markdown'].tolist()"
   ]
  },
  {
   "cell_type": "code",
   "execution_count": 22,
   "id": "2351420e",
   "metadata": {},
   "outputs": [
    {
     "name": "stderr",
     "output_type": "stream",
     "text": [
      "100%|███████████████████████████████████████| 1795/1795 [00:31<00:00, 57.51it/s]\n"
     ]
    }
   ],
   "source": [
    "from tqdm import tqdm\n",
    "\n",
    "partitions = []\n",
    "for d in tqdm(data):\n",
    "    partitions.extend(partition(d))"
   ]
  },
  {
   "cell_type": "code",
   "execution_count": 23,
   "id": "4db59ba7",
   "metadata": {
    "scrolled": true
   },
   "outputs": [
    {
     "data": {
      "text/plain": [
       "49855"
      ]
     },
     "execution_count": 23,
     "metadata": {},
     "output_type": "execute_result"
    }
   ],
   "source": [
    "len(partitions)"
   ]
  },
  {
   "cell_type": "code",
   "execution_count": 25,
   "id": "c7903530",
   "metadata": {
    "scrolled": true
   },
   "outputs": [
    {
     "data": {
      "text/plain": [
       "'\\n\\n# Computational Cognitive Science: A Comprehensive Guide\":\\n\\n\\n\\n## Foreward\\n\\n\\n\\nIn the rapidly evolving field of cognitive science, the intersection of computation and cognition has emerged as a critical area of study. This book, \"Computational Cognitive Science: A Comprehensive Guide\", aims to provide a thorough exploration of this fascinating discipline, offering a deep dive into the theories, methodologies, and applications that define it.\\n\\n\\n\\nThe book is structured to provide a comprehensive understanding of the computational approach to cognitive science, starting with the fundamental concepts and gradually progressing to more complex theories and models. It is designed to cater to a wide audience, from students beginning their journey in cognitive science to seasoned researchers seeking a comprehensive reference.\\n\\n\\n\\nThe book begins with an exploration of artificial intuition, a concept that has gained significant attention in recent years. It delves into the intricacies of how machines can be designed to mimic human intuition, a capability that has profound implications for fields ranging from artificial intelligence to psychology.\\n\\n\\n\\nThe exploration of concept learning forms a significant part of this book. We delve into rule-based theories, which have their roots in cognitive psychology and early computer models of learning. These theories, as exemplified by the radiologist example, demonstrate how decisions can be made based on specific properties, offering a unique perspective on how learning can be structured.\\n\\n\\n\\nThe book also explores the prototype view of concept learning, which posits that people abstract out the central tendency of the examples they experience and use this as a basis for their categorization decisions. This theory provides a contrasting perspective to rule-based theories, offering a different lens through which to view the process of learning.\\n\\n\\n\\nThroughout the book, we strive to provide a balanced view, presenting each theory and model in its context, discussing its strengths and weaknesses, and highlighting its implications for the broader field of cognitive science. We also draw connections to other disciplines, demonstrating the interdisciplinary nature of computational cognitive science.\\n\\n\\n\\nIn writing this book, we have endeavored to make the complex field of computational cognitive science accessible and engaging. We hope that it serves as a valuable resource for anyone interested in understanding the computational underpinnings of cognition, and inspires further exploration and research in this exciting field.\\n\\n\\n\\n## Chapter 1: Introduction and Organizational Meeting\\n\\n\\n\\n### Introduction\\n\\n\\n\\nWelcome to the fascinating world of Computational Cognitive Science. This introductory chapter serves as a stepping stone into the vast and complex field that combines the principles of computer science, cognitive psychology, artificial intelligence, and neuroscience. \\n\\n\\n\\nComputational Cognitive Science is a multidisciplinary field that uses computational methods and theories to understand and explain cognitive phenomena. It is a field that is constantly evolving, with new theories and models being developed to better understand the human mind and its processes. \\n\\n\\n\\nIn this chapter, we will set the stage for the rest of the book by providing an overview of the field, its history, and its relevance in today\\'s world. We will also discuss the organization of the book, outlining the topics that will be covered in each chapter. This will help you navigate through the book and understand how each chapter builds upon the previous one.\\n\\n\\n\\nWe will also introduce some of the key concepts and terminologies used in Computational Cognitive Science. This will provide a foundation for the more advanced topics that will be covered in the later chapters. \\n\\n\\n\\nThis chapter is designed to be an organizational meeting, a place where we set the agenda for the rest of the journey. It is here that we will lay the groundwork for the exploration of the computational models of cognitive processes, the methodologies used in the field, and the applications of Computational Cognitive Science in various domains.\\n\\n\\n\\nSo, let\\'s embark on this exciting journey together, exploring the intricate workings of the human mind through the lens of computational models. Welcome to Chapter 1: Introduction and Organizational Meeting.\\n\\n\\n\\n### Section: 1.1 Course Overview\\n\\n\\n\\nComputational Cognitive Science is an interdisciplinary field that combines elements of computer science, cognitive psychology, artificial intelligence, and neuroscience. It seeks to understand and explain cognitive phenomena using computational methods and theories. This course will provide a comprehensive overview of the field, its history, and its relevance in today\\'s world.\\n\\n\\n\\n#### Subsection: 1.1.1 Course Structure\\n\\n\\n\\nThe course is structured into several chapters, each focusing on a different aspect of Computational Cognitive Science. The chapters are designed to build upon each other, starting with the basics and gradually moving towards more advanced topics. \\n\\n\\n\\nThe first chapter, which you are currently reading, serves as an introduction to the field and provides an overview of the course. Subsequent chapters will delve into specific topics such as computational models of cognitive processes, methodologies used in the field, and applications of Computational Cognitive Science in various domains.\\n\\n\\n\\n#### Subsection: 1.1.2 Key Concepts and Terminologies\\n\\n\\n\\nThroughout the course, we will introduce and use a variety of key concepts and terminologies related to Computational Cognitive Science. These include, but are not limited to, terms such as \\'computational model\\', \\'cognitive process\\', \\'artificial intelligence\\', and \\'neuroscience\\'. A solid understanding of these terms is crucial for grasping the more advanced topics covered in the later chapters.\\n\\n\\n\\n#### Subsection: 1.1.3 Course Goals\\n\\n\\n\\nThe primary goal of this course is to provide a comprehensive understanding of Computational Cognitive Science. By the end of the course, you should be able to:\\n\\n\\n\\n1. Understand the principles and theories of Computational Cognitive Science.\\n\\n2. Apply computational methods to understand and explain cognitive phenomena.\\n\\n3. Understand the relevance and applications of Computational Cognitive Science in various domains.\\n\\n\\n\\nWe hope that this course will not only provide you with a solid foundation in Computational Cognitive Science but also inspire you to explore this fascinating field further. Let\\'s embark on this exciting journey together!\\n\\n\\n\\n### Section: 1.2 Administrative details\\n\\n\\n\\n#### Subsection: 1.2.1 Course Administration\\n\\n\\n\\nThe administration of this course is handled by the Administrative Division (AD). The AD is responsible for personnel, property, and record administration. They ensure that all course materials are properly distributed and that all records are accurately maintained. \\n\\n\\n\\n#### Subsection: 1.2.2 Course Materials\\n\\n\\n\\nAll course materials, including lecture notes, assignments, and additional readings, will be made available on the course website. It is the responsibility of the students to regularly check the website for updates and to download and review the materials in a timely manner.\\n\\n\\n\\n#### Subsection: 1.2.3 Course Schedule\\n\\n\\n\\nThe course is structured into several chapters, each focusing on a different aspect of Computational Cognitive Science. The chapters are designed to build upon each other, starting with the basics and gradually moving towards more advanced topics. A detailed course schedule, including the dates for each chapter, will be provided at the beginning of the course.\\n\\n\\n\\n#### Subsection: 1.2.4 Grading\\n\\n\\n\\nThe grading for this course will be based on a combination of assignments, quizzes, a mid-term exam, and a final exam. The specific weightage of each component will be as follows:\\n\\n\\n\\n- Assignments: 30%\\n\\n- Quizzes: 20%\\n\\n- Mid-term Exam: 25%\\n\\n- Final Exam: 25%\\n\\n\\n\\n#### Subsection: 1.2.5 Office Hours\\n\\n\\n\\nOffice hours will be held weekly, providing students with the opportunity to discuss course material, ask questions, and seek clarification on any topics they are struggling with. The specific schedule for office hours will be announced at the start of the course.\\n\\n\\n\\n#### Subsection: 1.'"
      ]
     },
     "execution_count": 25,
     "metadata": {},
     "output_type": "execute_result"
    }
   ],
   "source": [
    "partitions[0]"
   ]
  },
  {
   "cell_type": "code",
   "execution_count": 24,
   "id": "82fd8513",
   "metadata": {},
   "outputs": [],
   "source": [
    "with open('paragraph-textbooks.jsonl', 'w') as fopen:\n",
    "    for t in partitions:\n",
    "        fopen.write(f'{json.dumps(t)}\\n')"
   ]
  }
 ],
 "metadata": {
  "kernelspec": {
   "display_name": "Python 3 (ipykernel)",
   "language": "python",
   "name": "python3"
  },
  "language_info": {
   "codemirror_mode": {
    "name": "ipython",
    "version": 3
   },
   "file_extension": ".py",
   "mimetype": "text/x-python",
   "name": "python",
   "nbconvert_exporter": "python",
   "pygments_lexer": "ipython3",
   "version": "3.8.10"
  }
 },
 "nbformat": 4,
 "nbformat_minor": 5
}
