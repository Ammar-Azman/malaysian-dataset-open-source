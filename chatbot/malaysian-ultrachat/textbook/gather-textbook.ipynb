{
 "cells": [
  {
   "cell_type": "code",
   "execution_count": 2,
   "id": "0819a578",
   "metadata": {},
   "outputs": [
    {
     "data": {
      "text/plain": [
       "49842"
      ]
     },
     "execution_count": 2,
     "metadata": {},
     "output_type": "execute_result"
    }
   ],
   "source": [
    "from glob import glob\n",
    "import json\n",
    "import os\n",
    "\n",
    "files = glob('ultrachat-textbook/*.json')\n",
    "files = sorted(files, key = lambda x: os.path.getmtime(x))\n",
    "len(files)"
   ]
  },
  {
   "cell_type": "code",
   "execution_count": 3,
   "id": "e18e0781",
   "metadata": {},
   "outputs": [],
   "source": [
    "import re\n",
    "\n",
    "rejected_words = [\n",
    "    'kebutuhan',\n",
    "    'berbeda',\n",
    "    'bahwa',\n",
    "    'Kode',\n",
    "    'kode',\n",
    "    'nomor',\n",
    "    'RMXX,XXX',\n",
    "    'kompleksitas',\n",
    "    'listrik',\n",
    "    'jawaban',\n",
    "    'teknis',\n",
    "    'berkualitas',\n",
    "    'mencoba',\n",
    "    'kampanye',\n",
    "    'komunitas',\n",
    "    'stabilitas',\n",
    "    'Stabilitas',\n",
    "    'metode',\n",
    "    'pria',\n",
    "    'butuh',\n",
    "    'jadwal',\n",
    "    'kasus',\n",
    "    'otomatis',\n",
    "    'populer',\n",
    "    'bisnis',\n",
    "    'probabilitas',\n",
    "    'rusak',\n",
    "    'kapasitas',\n",
    "    'rutinitas'\n",
    "]\n",
    "rejected_words = set(rejected_words)\n",
    "\n",
    "def check_indon(string):\n",
    "    string = re.sub('[^A-Za-z ]+', ' ', string)\n",
    "    return len(set(string.split()) & rejected_words) > 0"
   ]
  },
  {
   "cell_type": "code",
   "execution_count": 4,
   "id": "11199aed",
   "metadata": {},
   "outputs": [
    {
     "data": {
      "text/plain": [
       "398576"
      ]
     },
     "execution_count": 4,
     "metadata": {},
     "output_type": "execute_result"
    }
   ],
   "source": [
    "texts = []\n",
    "for f in files:\n",
    "    try:\n",
    "        with open(f) as fopen:\n",
    "            data = json.load(fopen)[1:]\n",
    "        for d in data:\n",
    "            try:\n",
    "                texts.append(d['content'])\n",
    "            except:\n",
    "                pass\n",
    "    except:\n",
    "        pass\n",
    "        \n",
    "texts = [t for t in texts if t]\n",
    "texts = [t for t in texts if len(t)]\n",
    "texts = list(set(texts))\n",
    "len(texts)"
   ]
  },
  {
   "cell_type": "code",
   "execution_count": 5,
   "id": "1218d8eb",
   "metadata": {},
   "outputs": [],
   "source": [
    "with open('textbooks.texts', 'w') as fopen:\n",
    "    for t in texts:\n",
    "        fopen.write(f'{json.dumps(t)}\\n')"
   ]
  },
  {
   "cell_type": "code",
   "execution_count": 5,
   "id": "7f820a1d",
   "metadata": {},
   "outputs": [],
   "source": [
    "!cp textbooks.texts ~/ssd3/ctranslate2"
   ]
  },
  {
   "cell_type": "code",
   "execution_count": 6,
   "id": "2709a1f8",
   "metadata": {},
   "outputs": [
    {
     "data": {
      "text/plain": [
       "398575"
      ]
     },
     "execution_count": 6,
     "metadata": {},
     "output_type": "execute_result"
    }
   ],
   "source": [
    "mapping = {}\n",
    "with open('/home/husein/ssd3/ctranslate2/textbooks.texts.requested') as fopen:\n",
    "    for l in fopen:\n",
    "        l = json.loads(l)\n",
    "        mapping[l['src']] = l['r']\n",
    "            \n",
    "len(mapping)"
   ]
  },
  {
   "cell_type": "code",
   "execution_count": 7,
   "id": "08c8d112",
   "metadata": {},
   "outputs": [],
   "source": [
    "with open('ultrachat-textbooks.jsonl', 'w') as fopen_l:\n",
    "    for f in files:\n",
    "        try:\n",
    "            with open(f) as fopen:\n",
    "                data = json.load(fopen)\n",
    "        except:\n",
    "            continue\n",
    "        if not data:\n",
    "            continue\n",
    "        for i in range(0, len(data), 1):\n",
    "            data[i]['content_ms'] = mapping.get(data[i]['content'])\n",
    "            indon = False\n",
    "            if data[i]['content'] and check_indon(data[i]['content']):\n",
    "                indon = True\n",
    "            data[i]['indon'] = indon\n",
    "        fopen_l.write(f'{json.dumps(data)}\\n')"
   ]
  },
  {
   "cell_type": "code",
   "execution_count": 8,
   "id": "85e7f922",
   "metadata": {},
   "outputs": [
    {
     "data": {
      "text/plain": [
       "[{'role': 'context',\n",
       "  'content': ' memory, attention, and reasoning. As such, language is closely intertwined with cognition, and the two influence each other in many ways.\\n\\n\\n\\nOne of the primary functions of language is to represent and communicate our thoughts and experiences. Through language, we can express our ideas and emotions, and we can also understand and interpret the thoughts and experiences of others. This ability to represent and communicate our mental states is crucial for social interaction and the development of social cognition.\\n\\n\\n\\nMoreover, language also plays a crucial role in shaping our thoughts and perceptions. The Sapir-Whorf hypothesis suggests that the language we speak influences the way we think and perceive the world around us. For example, speakers of different languages may have different concepts and categories for colors, which can affect how they perceive and remember colors. This hypothesis has been a topic of debate among researchers, but recent studies have provided evidence for the influence of language on cognition.\\n\\n\\n\\n#### 18.2.2: Computational Models of Language and Cognition\\n\\n\\n\\nComputational models have been instrumental in advancing our understanding of the relationship between language and cognition. These models use mathematical and computational techniques to simulate and explain cognitive processes involved in language acquisition, production, and comprehension.\\n\\n\\n\\nOne prominent computational model is the Modular Online Growth and Use of Language (MOGUL) model, which proposes that language is a modular system that interacts with other cognitive systems, such as perception and memory. According to this model, language acquisition involves the gradual construction of linguistic knowledge through exposure to language input and the use of this knowledge in language production and comprehension.\\n\\n\\n\\nAnother influential model is the Connectionist Model of Language Processing (CMLP), which uses artificial neural networks to simulate the cognitive processes involved in language. This model has been successful in explaining various aspects of language, such as word recognition, sentence processing, and language acquisition.\\n\\n\\n\\n#### 18.2.3: Future Directions\\n\\n\\n\\nThe study of language and cognition is a rapidly evolving field, and there are still many unanswered questions and debates surrounding this topic. Future research could focus on further exploring the relationship between language and cognition, as well as developing more sophisticated computational models to simulate and explain these complex processes.\\n\\n\\n\\nIn conclusion, language and cognition are closely intertwined, and their relationship has been a topic of interest for researchers in various fields. Through the use of computational models, we have made significant strides in understanding this complex relationship, but there is still much to be explored and discovered in this fascinating area of study.\\n\\n\\n\\n\\n\\n# Computational Cognitive Science: A Comprehensive Guide\\n\\n\\n\\n## Chapter 18: Language\\n\\n\\n\\n### Section 18.3: Language Disorders\\n\\n\\n\\nLanguage disorders are a group of conditions that affect an individual\\'s ability to understand, produce, or use language. These disorders can be developmental, meaning they are present from birth, or acquired, resulting from brain injury or disease. In this section, we will focus on acquired language disorders, specifically aphasia.\\n\\n\\n\\n#### 18.3a: Aphasia\\n\\n\\n\\nAphasia is a language disorder that results from damage to the language centers of the brain, typically in the left hemisphere. This damage can be caused by a stroke, traumatic brain injury, or other neurological conditions. Individuals with aphasia may have difficulty understanding and producing language, as well as reading and writing.\\n\\n\\n\\nOne approach to understanding aphasia is through the use of functional magnetic resonance imaging (fMRI). This technology allows researchers to observe the differences in how language is processed in normal brains compared to aphasic brains. By studying these differences, researchers hope to gain a better understanding of the brain\\'s recovery process after a traumatic brain injury and how different areas of the brain respond to such injuries.\\n\\n\\n\\nAnother avenue of research for treating aphasia involves drug therapy. Researchers are currently investigating whether certain drugs can be used in conjunction with speech-language therapy to facilitate language recovery. This combination approach may prove to be more effective than relying on one treatment method alone.\\n\\n\\n\\nBrain stimulation is also being explored as a potential therapeutic tool for aphasia. One method, called Transcranial Magnetic Stimulation (TMS), has shown promise in altering brain activity and potentially aiding in language re-learning.\\n\\n\\n\\nWhile research on aphasia is ongoing, it is clear that there are multiple avenues to explore in order to effectively treat this language disorder. By combining different treatment methods and utilizing advanced technologies, we can continue to make progress in understanding and treating aphasia.\\n\\n\\n\\n\\n\\n# Computational Cognitive Science: A Comprehensive Guide\\n\\n\\n\\n## Chapter 18: Language\\n\\n\\n\\n### Section 18.3: Language Disorders\\n\\n\\n\\nLanguage disorders are a group of conditions that affect an individual\\'s ability to understand, produce, or use language. These disorders can be developmental, meaning they are present from birth, or acquired, resulting from brain injury or disease. In this section, we will focus on acquired language disorders, specifically aphasia.\\n\\n\\n\\n#### 18.3a: Aphasia\\n\\n\\n\\nAphasia is a language disorder that results from damage to the language centers of the brain, typically in the left hemisphere. This damage can be caused by a stroke, traumatic brain injury, or other neurological conditions. Individuals with aphasia may have difficulty understanding and producing language, as well as reading and writing.\\n\\n\\n\\nOne approach to understanding aphasia is through the use of functional magnetic resonance imaging (fMRI). This technology allows researchers to observe the differences in how language is processed in normal brains compared to aphasic brains. By studying these differences, researchers hope to gain a better understanding of the brain\\'s recovery process after a traumatic brain injury and how different areas of the brain respond to such injuries.\\n\\n\\n\\nAnother avenue of research for treating aphasia involves drug therapy. Researchers are currently investigating whether certain drugs can be used in conjunction with speech-language therapy to facilitate language recovery. This combination approach may prove to be more effective than relying on one treatment method alone.\\n\\n\\n\\nBrain stimulation is also being explored as a potential therapeutic tool for aphasia. One method, called Transcranial Magnetic Stimulation (TMS), has shown promise in altering brain activity and potentially aiding in language re-learning.\\n\\n\\n\\nWhile research on aphasia is ongoing, it is clear that there are multiple avenues to explore in order to effectively treat this language disorder. By combining different approaches, such as fMRI, drug therapy, and brain stimulation, we may be able to develop more comprehensive and effective treatments for aphasia.\\n\\n\\n\\n### Subsection: 18.3b Dyslexia\\n\\n\\n\\nDyslexia is a language disorder that affects an individual\\'s ability to read and write. It is a developmental disorder, meaning it is present from birth, and is often diagnosed in childhood. Dyslexia is characterized by difficulties with phonological processing, which is the ability to recognize and manipulate the sounds of language.\\n\\n\\n\\nThere are many different theories and models that attempt to explain the deficits associated with dyslexia. One such model is the \"Glosser and Friedman (continuum) model,\" which suggests that dyslexia and phonological dyslexia are opposite endpoints on a \"continuum\" of reading disability. This model proposes that deep dyslexia, a more severe form of dyslexia, can potentially shift to phonological dyslexia during recovery.\\n\\n\\n\\nAnother model, the \"continuum model,\" suggests that dyslexia is a result of a deficit in the phonological processing system. This model proposes that individuals with dyslexia have difficulty mapping written symbols to their corresponding sounds, leading to difficulties in reading and writing.\\n\\n\\n\\nResearch on dyslexia has also explored the role of genetics in the development of this disorder. Studies have',\n",
       "  'content_ms': None,\n",
       "  'indon': False},\n",
       " {'role': 'user',\n",
       "  'content': 'Apakah contoh penyakit bahasa yang boleh menjejaskan kemampuan seseorang untuk membaca dan menulis? Bagaimana penyakit ini mempengaruhi individu yang mengalaminya?',\n",
       "  'content_ms': 'Apakah contoh penyakit bahasa yang boleh menjejaskan keupayaan seseorang untuk membaca dan menulis? Bagaimanakah penyakit ini mempengaruhi individu yang mengalaminya?',\n",
       "  'indon': False},\n",
       " {'role': 'assistant',\n",
       "  'content': 'Salah satu contoh penyakit bahasa yang boleh menjejaskan kemampuan seseorang untuk membaca dan menulis ialah disleksia. Disleksia adalah gangguan bahasa yang mempengaruhi keupayaan individu untuk membaca dan menulis. Kebanyakan disleksia dikesan dalam kanak-kanak dan ia berkait rapat dengan kesukaran dalam pemprosesan fonologi, iaitu keupayaan untuk mengenali dan memanipulasi bunyi bahasa. Individu yang mengalami disleksia menghadapi kesukaran dalam membaca dan menulis kerana mereka mengalami kesulitan dalam menghubungkan simbol bertulis dengan bunyi-bunyi yang sepadan. Terdapat pelbagai teori dan model yang cuba menerangkan ketoksikan yang berkaitan dengan disleksia, dan penyelidikan juga sedang dijalankan untuk memahami peranan genetik dalam perkembangan penyakit ini.',\n",
       "  'content_ms': 'Salah satu contoh penyakit bahasa yang boleh menjejaskan keupayaan seseorang untuk membaca dan menulis ialah disleksia. Disleksia ialah gangguan bahasa yang mempengaruhi keupayaan individu untuk membaca dan menulis. Kebanyakan disleksia dikesan pada kanak-kanak dan ia berkait rapat dengan kesukaran dalam pemprosesan fonologi, iaitu keupayaan untuk mengenali dan memanipulasi bunyi bahasa. Individu yang mengalami disleksia menghadapi kesukaran membaca dan menulis kerana mereka mengalami kesukaran untuk mengaitkan simbol bertulis dengan bunyi yang sepadan. Terdapat pelbagai teori dan model yang cuba menerangkan ketoksikan yang berkaitan dengan disleksia, dan penyelidikan juga sedang dijalankan untuk memahami peranan genetik dalam perkembangan penyakit ini.',\n",
       "  'indon': False},\n",
       " {'role': 'user',\n",
       "  'content': 'Maaf ya, saya masih kurang faham dengan penjelasan tadi. Boleh minta penjelasan lebih lanjut tentang apa itu disleksia dan bagaimana ia mempengaruhi individu yang mengalaminya? Terima kasih.',\n",
       "  'content_ms': 'Maaf, saya masih tidak faham dengan penjelasan tadi. Bolehkah anda meminta penjelasan lanjut tentang apa itu disleksia dan bagaimana ia mempengaruhi individu yang mengalaminya? Terima kasih.',\n",
       "  'indon': False},\n",
       " {'role': 'assistant',\n",
       "  'content': 'Tentu, saya akan menjelaskan lebih lanjut tentang disleksia. Disleksia adalah gangguan pembelajaran yang mempengaruhi kemampuan seseorang untuk membaca dan menulis secara lancar. Individu yang mengalami disleksia menghadapi kesulitan dalam mengenali dan memahami huruf, bunyi, dan kata-kata. Ini boleh mempengaruhi pemahaman mereka terhadap teks tertulis.\\n\\nOrang yang mengalami disleksia mungkin mengalami beberapa gejala seperti membaca dengan lambat dan tidak lancar, kesulitan dalam mengingat bunyi huruf, kesukaran dalam mengenal huruf-huruf yang serupa, atau kesulitan dalam menghubungkan bunyi dengan simbol bertulis.\\n\\nDisleksia juga boleh mempengaruhi kemampuan seseorang dalam menulis dengan betul. Individu yang mengalami disleksia mungkin menghadapi kesulitan dalam menangkap dan mengingat urutan huruf dan kata-kata, menulis dengan tangan yang terbalik atau tidak teratur, atau mengalami kesulitan untuk menuangkan pemikiran mereka ke dalam tulisan.\\n\\nPengaruh disleksia dapat dirasakan dalam kehidupan sehari-hari. Seseorang dengan disleksia mungkin menghadapi kesulitan dalam belajar di sekolah, mengikuti arahan tertulis, atau memahami teks bacaan. Namun, penting untuk diingat bahawa disleksia bukanlah tanda kurang kecerdasan. Kebanyakan individu dengan disleksia memiliki pemikiran dan kecerdasan yang normal.\\n\\nIndividu dengan disleksia boleh mengambil langkah-langkah untuk membantu mereka mengatasi kesulitan membaca dan menulis. Ini termasuk terapi logopedi, bimbingan belajar khusus, atau penggunaan teknologi bantu seperti perisian pembaca teks. Dengan sokongan dan pendekatan yang tepat, individu dengan disleksia dapat mengatasi kesulitan mereka dan mencapai kejayaan akademik yang baik.',\n",
       "  'content_ms': 'Sudah tentu, saya akan menerangkan lebih lanjut tentang disleksia. Disleksia ialah gangguan pembelajaran yang mempengaruhi keupayaan seseorang untuk membaca dan menulis dengan lancar. Individu yang mengalami disleksia menghadapi kesukaran untuk mengenali dan memahami huruf, bunyi dan perkataan. Ini boleh menjejaskan pemahaman mereka terhadap teks bertulis.\\n\\nOrang yang mengalami disleksia mungkin mengalami beberapa gejala seperti membaca perlahan dan tidak lancar, kesukaran mengingati bunyi huruf, kesukaran mengenali huruf yang serupa, atau kesukaran untuk mengaitkan bunyi dengan simbol bertulis.\\n\\nDisleksia juga boleh mempengaruhi keupayaan seseorang untuk menulis dengan betul. Individu yang mengalami disleksia mungkin menghadapi kesukaran untuk menangkap dan mengingati susunan huruf dan perkataan, menulis dengan tangan yang terbalik atau tidak teratur, atau mengalami kesukaran untuk mencurahkan pemikiran mereka ke dalam tulisan.\\n\\nPengaruh disleksia boleh dirasai dalam kehidupan seharian. Seseorang yang mengalami disleksia mungkin menghadapi kesukaran untuk belajar di sekolah, mengikut arahan bertulis, atau memahami teks bacaan. Walau bagaimanapun, penting untuk diingat bahawa disleksia bukanlah tanda kurang kecerdasan. Kebanyakan individu yang mempunyai disleksia mempunyai pemikiran dan kecerdasan yang normal.\\n\\nIndividu yang mempunyai disleksia boleh mengambil langkah untuk membantu mereka mengatasi kesukaran membaca dan menulis. Ini termasuk terapi logopedi, bimbingan pembelajaran khusus, atau penggunaan teknologi bantuan seperti perisian pembaca teks. Dengan sokongan dan pendekatan yang betul, individu yang mempunyai disleksia boleh mengatasi kesukaran mereka dan mencapai kejayaan akademik yang baik.',\n",
       "  'indon': False},\n",
       " {'role': 'user',\n",
       "  'content': 'Maaf ya, saya masih ada beberapa pertanyaan. Bolehkah Anda menjelaskan lebih rinci tentang tanda-tanda disleksia dan bagaimana cara mengatasi kesulitan membaca dan menulis yang mungkin timbul? Terima kasih.',\n",
       "  'content_ms': 'Maaf, saya masih mempunyai beberapa soalan. Bolehkah anda menerangkan dengan lebih terperinci tentang tanda-tanda disleksia dan bagaimana untuk mengatasi kesukaran membaca dan menulis yang mungkin timbul? Terima kasih.',\n",
       "  'indon': False},\n",
       " {'role': 'assistant',\n",
       "  'content': 'Tentu, saya akan menjelaskan lebih rinci tentang tanda-tanda disleksia dan cara mengatasi kesulitan membaca dan menulis yang mungkin timbul.\\n\\nBeberapa tanda-tanda disleksia yang mungkin muncul pada anak atau dewasa adalah sebagai berikut:\\n1. Kesulitan dalam mengenali huruf dan bunyi mereka.\\n2. Membaca secara lambat dan terbata-bata.\\n3. Kesulitan dalam mengartikulasikan kata-kata atau mengingat kosakata.\\n4. Kesulitan dalam memahami teks yang dibaca.\\n5. Kesulitan dalam mengeja atau menulis secara benar.\\n6. Kesulitan dalam menghubungkan suara dengan huruf tertentu.\\n7. Mengalami kesulitan dalam mengingat urutan huruf atau kata-kata yang baru dipelajari.\\n\\nUntuk mengatasi kesulitan membaca dan menulis yang mungkin timbul akibat disleksia, ada beberapa strategi dan pendekatan yang dapat digunakan, antara lain:\\n1. Terapi logopedi: Mengikuti sesi terapi dengan logopedis yang mengkhususkan diri dalam gangguan bahasa membantu meningkatkan kemampuan membaca dan menulis.\\n2. Bimbingan belajar khusus: Beberapa program pembelajaran khusus dapat membantu individu dengan disleksia mengembangkan strategi dan keterampilan khusus dalam membaca dan menulis.\\n3. Penggunaan teknologi bantu: Menggunakan teknologi bantu seperti perangkat lunak pembaca teks atau alat bantu penulisan dapat membantu individu dengan disleksia memperoleh akses yang lebih mudah ke informasi dan membantu mereka mengekspresikan pemikiran mereka dengan lebih baik.\\n4. Lingkungan yang mendukung: Penting untuk menciptakan lingkungan belajar yang mendukung dan memahami kebutuhan individu dengan disleksia. Ini bisa termasuk memberikan instruksi lisan dan visual, memberikan waktu tambahan untuk tugas membaca dan menulis, dan memberikan umpan balik positif dan dukungan.\\n\\nSetiap individu dengan disleksia mungkin memiliki kebutuhan dan strategi yang berbeda, jadi penting untuk bekerja sama dengan spesialis yang terlatih untuk menemukan pendekatan terbaik untuk setiap individu. Dengan dukungan, pemahaman, dan pendekatan yang tepat, individu dengan disleksia dapat mengatasi kesulitan mereka dan mencapai keberhasilan akademik dan sosial.',\n",
       "  'content_ms': 'Sudah tentu, saya akan menerangkan dengan lebih terperinci tentang tanda-tanda disleksia dan cara mengatasi kesukaran membaca dan menulis yang mungkin timbul.\\n\\nBeberapa tanda disleksia yang mungkin muncul pada kanak-kanak atau dewasa adalah seperti berikut:\\n1. Kesukaran dalam mengenali huruf dan bunyi mereka.\\n2. Membaca perlahan dan terbaca.\\n3. Kesukaran dalam mengartikulasikan perkataan atau mengingati kosa kata.\\n4. Kesukaran dalam memahami teks yang dibaca.\\n5. Kesukaran dalam mengeja atau menulis dengan betul.\\n6. Kesukaran dalam menghubungkan bunyi dengan huruf tertentu.\\n7. Mengalami kesukaran dalam mengingati susunan huruf atau perkataan yang baru dipelajari.\\n\\nUntuk mengatasi kesukaran membaca dan menulis yang mungkin timbul akibat disleksia, terdapat beberapa strategi dan pendekatan yang boleh digunakan, termasuk:\\n1. Terapi logopedi: Mengikuti sesi terapi dengan logopedis yang mengkhususkan diri dalam gangguan bahasa membantu meningkatkan keupayaan membaca dan menulis.\\n2. Bimbingan pembelajaran khusus: Beberapa program pembelajaran khusus boleh membantu individu dengan disleksia mengembangkan strategi dan kemahiran khusus dalam membaca dan menulis.\\n3. Penggunaan teknologi bantuan: Menggunakan teknologi bantuan seperti perisian pembaca teks atau alat bantu penulisan boleh membantu individu dengan disleksia memperoleh akses yang lebih mudah kepada maklumat dan membantu mereka meluahkan pemikiran mereka dengan lebih baik.\\n4. Persekitaran yang menyokong: Adalah penting untuk mewujudkan persekitaran pembelajaran yang menyokong dan memahami keperluan individu dengan disleksia. Ini boleh termasuk menyediakan arahan lisan dan visual, menyediakan masa tambahan untuk tugas membaca dan menulis, dan memberikan maklum balas positif dan sokongan.\\n\\nSetiap individu dengan disleksia mungkin mempunyai keperluan dan strategi yang berbeza, jadi penting untuk bekerjasama dengan pakar terlatih untuk mencari pendekatan terbaik untuk setiap individu. Dengan sokongan, pemahaman, dan pendekatan yang tepat, individu dengan disleksia boleh mengatasi kesukaran mereka dan mencapai kejayaan akademik dan sosial.',\n",
       "  'indon': True},\n",
       " {'role': 'user',\n",
       "  'content': 'Maaf ya, saya masih kurang memahami penjelasan sebelumnya. Bisa tolong jelaskan lagi tentang tanda-tanda disleksia dan cara-cara mengatasinya? Terima kasih.',\n",
       "  'content_ms': 'Maaf, saya masih tidak faham penjelasan sebelum ini. Bolehkah anda menerangkan lagi tentang tanda-tanda disleksia dan cara mengatasinya? Terima kasih.',\n",
       "  'indon': False},\n",
       " {'role': 'assistant',\n",
       "  'content': 'Tentu, saya akan menjelaskan lebih lanjut tentang tanda-tanda disleksia dan cara mengatasinya.\\n\\nTanda-tanda disleksia dapat bervariasi antara individu, tetapi berikut adalah beberapa tanda yang umum terkait dengan disleksia:\\n\\n1. Kesulitan Membaca: Individu dengan disleksia mungkin memiliki kesulitan dalam mengenali huruf dan kata-kata, membaca dengan lambat, bacaan terputus-putus, dan kesulitan memahami apa yang dibaca.\\n\\n2. Kesulitan Menulis: Kesulitan menulis juga merupakan ciri disleksia. Individu dengan disleksia mungkin mengalami kesulitan dalam mengingat kata yang tepat, mengeja secara benar, dan mengatur pemikiran mereka dalam tulisan.\\n\\n3. Kesulitan dalam Mengingat dan Mengingat: Orang dengan disleksia mungkin mengalami kesulitan dalam mengingat urutan huruf, angka, atau kata-kata. Mereka juga mungkin memiliki kesulitan dalam mengingat perincian dan petunjuk yang diberikan secara lisan atau tertulis.\\n\\n4. Kesulitan dalam Bicara: Beberapa individu dengan disleksia mungkin mengalami kesulitan dalam ekspresi lisan, seperti mengucapkan kata-kata dengan benar, mengorganisir kata-kata dengan jelas, atau mengingat kata-kata yang cocok untuk situasi tertentu.\\n\\nAda beberapa strategi dan pendekatan yang dapat membantu mengatasi kesulitan disleksia, di antaranya:\\n\\n1. Terapi Logopedi: Terapi logopedi melibatkan latihan dan teknik khusus yang dirancang untuk membantu meningkatkan keterampilan komunikasi, membaca, dan menulis. Terapi ini dilakukan dengan bimbingan dari terapis yang telah terlatih dalam pengobatan disleksia.\\n\\n2. Bimbingan dan Dukungan: Mendapatkan bimbingan dan dukungan dari guru, spesialis, atau terapis yang berpengalaman dalam membantu individu dengan disleksia dapat membantu mereka mengembangkan strategi belajar yang efektif dan membangun kepercayaan diri.\\n\\n3. Penggunaan Teknologi Bantu: Menggunakan teknologi bantu seperti aplikasi atau perangkat lunak pembaca teks, ejaan suara, atau alat bantu penulisan dapat membantu individu dengan disleksia mengakses teks dan mengekspresikan ide-ide mereka dengan lebih baik.\\n\\n4. Modifikasi Pendidikan: Memberikan modifikasi pendidikan di sekolah seperti memberikan waktu tambahan untuk tugas yang melibatkan membaca dan menulis, penggunaan pengaturan khusus, atau metode pembelajaran yang lebih visual dan praktis.\\n\\nSesuai dengan kebutuhan individu, pendekatan dan strategi yang digunakan dalam mengatasi disleksia mungkin berbeda. Penting untuk mencari bantuan dari profesional yang terlatih dalam membantu individu dengan disleksia dan bekerja sama dengan sekolah dan lingkungan yang mendukung. Dengan dukungan yang tepat, individu dengan disleksia dapat mengatasi kesulitan mereka dan mencapai potensi mereka dengan sukses.',\n",
       "  'content_ms': 'Sudah tentu, saya akan menerangkan lebih lanjut tentang tanda-tanda disleksia dan cara mengatasinya.\\n\\nTanda-tanda disleksia boleh berbeza-beza antara individu, tetapi berikut adalah beberapa tanda yang biasa berkaitan dengan disleksia:\\n\\n1. Kesukaran Membaca: Individu yang mempunyai disleksia mungkin mengalami kesukaran untuk mengenali huruf dan perkataan, membaca perlahan, membaca terputus-putus, dan kesukaran untuk memahami apa yang dibaca.\\n\\n2. Kesukaran Menulis: Kesukaran menulis juga merupakan ciri disleksia. Individu yang mempunyai disleksia mungkin mengalami kesukaran untuk mengingati perkataan yang betul, mengeja dengan betul, dan mengatur pemikiran mereka dalam penulisan.\\n\\n3. Kesukaran Mengingati dan Mengingati: Orang yang mempunyai disleksia mungkin mengalami kesukaran untuk mengingati susunan huruf, nombor atau perkataan. Mereka juga mungkin mengalami kesukaran untuk mengingati perincian dan petunjuk yang diberikan secara lisan atau bertulis.\\n\\n4. Kesukaran dalam Bicara: Sesetengah individu yang mempunyai disleksia mungkin mengalami kesukaran dalam ekspresi lisan, seperti mengucapkan perkataan dengan betul, menyusun perkataan dengan jelas, atau mengingati perkataan yang sesuai untuk situasi tertentu.\\n\\nTerdapat beberapa strategi dan pendekatan yang boleh membantu mengatasi kesukaran disleksia, antaranya:\\n\\n1. Terapi Logopedi: Terapi logopedi melibatkan latihan dan teknik khusus yang direka untuk membantu meningkatkan kemahiran komunikasi, membaca dan menulis. Terapi ini dijalankan dengan bimbingan daripada ahli terapi yang telah terlatih dalam rawatan disleksia.\\n\\n2. Bimbingan dan Sokongan: Mendapatkan bimbingan dan sokongan daripada guru, pakar atau ahli terapi yang berpengalaman dalam membantu individu yang mempunyai disleksia boleh membantu mereka membangunkan strategi pembelajaran yang berkesan dan membina keyakinan diri.\\n\\n3. Penggunaan Teknologi Bantu: Menggunakan teknologi bantuan seperti aplikasi atau perisian pembaca teks, ejaan suara atau alat bantu penulisan boleh membantu individu yang mempunyai disleksia mengakses teks dan menyatakan idea mereka dengan lebih baik.\\n\\n4. Pengubahsuaian Pendidikan: Memberi pengubahsuaian pendidikan di sekolah seperti memberi masa tambahan untuk tugas yang melibatkan membaca dan menulis, penggunaan tetapan khusus, atau kaedah pembelajaran yang lebih visual dan praktikal.\\n\\nSesuai dengan keperluan individu, pendekatan dan strategi yang digunakan dalam menangani disleksia mungkin berbeza. Adalah penting untuk mendapatkan bantuan daripada profesional terlatih dalam membantu individu yang mempunyai disleksia dan bekerjasama dengan sekolah dan persekitaran yang menyokong. Dengan sokongan yang betul, individu yang mempunyai disleksia boleh mengatasi kesukaran mereka dan mencapai potensi mereka dengan berjaya.',\n",
       "  'indon': True}]"
      ]
     },
     "execution_count": 8,
     "metadata": {},
     "output_type": "execute_result"
    }
   ],
   "source": [
    "data"
   ]
  },
  {
   "cell_type": "code",
   "execution_count": 1,
   "id": "01759a7d",
   "metadata": {},
   "outputs": [
    {
     "name": "stderr",
     "output_type": "stream",
     "text": [
      "/home/husein/.local/lib/python3.8/site-packages/requests/__init__.py:102: RequestsDependencyWarning: urllib3 (1.26.15) or chardet (5.2.0)/charset_normalizer (2.0.7) doesn't match a supported version!\n",
      "  warnings.warn(\"urllib3 ({}) or chardet ({})/charset_normalizer ({}) doesn't match a supported \"\n"
     ]
    },
    {
     "data": {
      "application/vnd.jupyter.widget-view+json": {
       "model_id": "eb08b8648609410980f00fe6246b9adf",
       "version_major": 2,
       "version_minor": 0
      },
      "text/plain": [
       "ultrachat-textbooks.jsonl:   0%|          | 0.00/1.19G [00:00<?, ?B/s]"
      ]
     },
     "metadata": {},
     "output_type": "display_data"
    },
    {
     "data": {
      "text/plain": [
       "'https://huggingface.co/datasets/mesolitica/malaysian-ultrachat/blob/main/ultrachat-textbooks.jsonl'"
      ]
     },
     "execution_count": 1,
     "metadata": {},
     "output_type": "execute_result"
    }
   ],
   "source": [
    "from huggingface_hub import HfApi\n",
    "api = HfApi()\n",
    "api.upload_file(\n",
    "    path_or_fileobj='ultrachat-textbooks.jsonl',\n",
    "    path_in_repo='ultrachat-textbooks.jsonl',\n",
    "    repo_id='mesolitica/malaysian-ultrachat',\n",
    "    repo_type='dataset',\n",
    ")"
   ]
  }
 ],
 "metadata": {
  "kernelspec": {
   "display_name": "Python 3 (ipykernel)",
   "language": "python",
   "name": "python3"
  },
  "language_info": {
   "codemirror_mode": {
    "name": "ipython",
    "version": 3
   },
   "file_extension": ".py",
   "mimetype": "text/x-python",
   "name": "python",
   "nbconvert_exporter": "python",
   "pygments_lexer": "ipython3",
   "version": "3.8.10"
  }
 },
 "nbformat": 4,
 "nbformat_minor": 5
}
