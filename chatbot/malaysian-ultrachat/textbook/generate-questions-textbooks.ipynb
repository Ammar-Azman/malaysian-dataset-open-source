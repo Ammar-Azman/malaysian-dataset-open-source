{
 "cells": [
  {
   "cell_type": "code",
   "execution_count": 1,
   "id": "37427739",
   "metadata": {},
   "outputs": [
    {
     "name": "stderr",
     "output_type": "stream",
     "text": [
      "/home/husein/.local/lib/python3.8/site-packages/requests/__init__.py:102: RequestsDependencyWarning: urllib3 (1.26.15) or chardet (5.2.0)/charset_normalizer (2.0.7) doesn't match a supported version!\n",
      "  warnings.warn(\"urllib3 ({}) or chardet ({})/charset_normalizer ({}) doesn't match a supported \"\n",
      "/home/husein/dev/malaya/malaya/tokenizer.py:214: FutureWarning: Possible nested set at position 3397\n",
      "  self.tok = re.compile(r'({})'.format('|'.join(pipeline)))\n",
      "/home/husein/dev/malaya/malaya/tokenizer.py:214: FutureWarning: Possible nested set at position 3927\n",
      "  self.tok = re.compile(r'({})'.format('|'.join(pipeline)))\n"
     ]
    }
   ],
   "source": [
    "import openai\n",
    "import instructor\n",
    "import json\n",
    "import os\n",
    "import malaya\n",
    "from pydantic import BaseModel, Field\n",
    "from bs4 import BeautifulSoup\n",
    "from concurrent.futures import ThreadPoolExecutor, as_completed\n",
    "from unidecode import unidecode\n",
    "import re\n",
    "\n",
    "minimum_len = 15\n",
    "\n",
    "def simple_cleaning(string):\n",
    "    return re.sub(r'[ ]+', ' ', unidecode(string).replace('\\n', ' ').replace('--', ' ').replace('/', ' ')).strip()"
   ]
  },
  {
   "cell_type": "code",
   "execution_count": 2,
   "id": "dec8bc8a",
   "metadata": {},
   "outputs": [],
   "source": [
    "openai.api_type = 'azure'\n",
    "openai.api_base = \"https://husein-ai2-aiservices.openai.azure.com/\"\n",
    "openai.api_version = \"2023-07-01-preview\"\n",
    "openai.api_key = ''"
   ]
  },
  {
   "cell_type": "code",
   "execution_count": 3,
   "id": "b53354d9",
   "metadata": {},
   "outputs": [],
   "source": [
    "def predict(text):\n",
    "    try:\n",
    "        messages = [\n",
    "            {\"role\": \"user\", \"content\": text},\n",
    "        ]\n",
    "        response = openai.ChatCompletion.create(\n",
    "            engine=\"gpt-35-turbo\",\n",
    "            messages=messages,\n",
    "            temperature=1.0,\n",
    "            max_tokens=1024,\n",
    "            top_p=0.95,\n",
    "        )\n",
    "        return response.choices[0]['message']['content']\n",
    "    except Exception as e:\n",
    "        print(e)\n",
    "        return None"
   ]
  },
  {
   "cell_type": "code",
   "execution_count": 4,
   "id": "b5020de2",
   "metadata": {},
   "outputs": [
    {
     "data": {
      "text/plain": [
       "49855"
      ]
     },
     "execution_count": 4,
     "metadata": {},
     "output_type": "execute_result"
    }
   ],
   "source": [
    "data = []\n",
    "with open('paragraph-textbooks.jsonl') as fopen:\n",
    "    for l in fopen:\n",
    "        data.append({\n",
    "            'paragraph': json.loads(l)\n",
    "        })\n",
    "        \n",
    "len(data)"
   ]
  },
  {
   "cell_type": "code",
   "execution_count": 5,
   "id": "a6a47abf",
   "metadata": {},
   "outputs": [
    {
     "data": {
      "text/plain": [
       "{'paragraph': '\\n\\n# Computational Cognitive Science: A Comprehensive Guide\":\\n\\n\\n\\n## Foreward\\n\\n\\n\\nIn the rapidly evolving field of cognitive science, the intersection of computation and cognition has emerged as a critical area of study. This book, \"Computational Cognitive Science: A Comprehensive Guide\", aims to provide a thorough exploration of this fascinating discipline, offering a deep dive into the theories, methodologies, and applications that define it.\\n\\n\\n\\nThe book is structured to provide a comprehensive understanding of the computational approach to cognitive science, starting with the fundamental concepts and gradually progressing to more complex theories and models. It is designed to cater to a wide audience, from students beginning their journey in cognitive science to seasoned researchers seeking a comprehensive reference.\\n\\n\\n\\nThe book begins with an exploration of artificial intuition, a concept that has gained significant attention in recent years. It delves into the intricacies of how machines can be designed to mimic human intuition, a capability that has profound implications for fields ranging from artificial intelligence to psychology.\\n\\n\\n\\nThe exploration of concept learning forms a significant part of this book. We delve into rule-based theories, which have their roots in cognitive psychology and early computer models of learning. These theories, as exemplified by the radiologist example, demonstrate how decisions can be made based on specific properties, offering a unique perspective on how learning can be structured.\\n\\n\\n\\nThe book also explores the prototype view of concept learning, which posits that people abstract out the central tendency of the examples they experience and use this as a basis for their categorization decisions. This theory provides a contrasting perspective to rule-based theories, offering a different lens through which to view the process of learning.\\n\\n\\n\\nThroughout the book, we strive to provide a balanced view, presenting each theory and model in its context, discussing its strengths and weaknesses, and highlighting its implications for the broader field of cognitive science. We also draw connections to other disciplines, demonstrating the interdisciplinary nature of computational cognitive science.\\n\\n\\n\\nIn writing this book, we have endeavored to make the complex field of computational cognitive science accessible and engaging. We hope that it serves as a valuable resource for anyone interested in understanding the computational underpinnings of cognition, and inspires further exploration and research in this exciting field.\\n\\n\\n\\n## Chapter 1: Introduction and Organizational Meeting\\n\\n\\n\\n### Introduction\\n\\n\\n\\nWelcome to the fascinating world of Computational Cognitive Science. This introductory chapter serves as a stepping stone into the vast and complex field that combines the principles of computer science, cognitive psychology, artificial intelligence, and neuroscience. \\n\\n\\n\\nComputational Cognitive Science is a multidisciplinary field that uses computational methods and theories to understand and explain cognitive phenomena. It is a field that is constantly evolving, with new theories and models being developed to better understand the human mind and its processes. \\n\\n\\n\\nIn this chapter, we will set the stage for the rest of the book by providing an overview of the field, its history, and its relevance in today\\'s world. We will also discuss the organization of the book, outlining the topics that will be covered in each chapter. This will help you navigate through the book and understand how each chapter builds upon the previous one.\\n\\n\\n\\nWe will also introduce some of the key concepts and terminologies used in Computational Cognitive Science. This will provide a foundation for the more advanced topics that will be covered in the later chapters. \\n\\n\\n\\nThis chapter is designed to be an organizational meeting, a place where we set the agenda for the rest of the journey. It is here that we will lay the groundwork for the exploration of the computational models of cognitive processes, the methodologies used in the field, and the applications of Computational Cognitive Science in various domains.\\n\\n\\n\\nSo, let\\'s embark on this exciting journey together, exploring the intricate workings of the human mind through the lens of computational models. Welcome to Chapter 1: Introduction and Organizational Meeting.\\n\\n\\n\\n### Section: 1.1 Course Overview\\n\\n\\n\\nComputational Cognitive Science is an interdisciplinary field that combines elements of computer science, cognitive psychology, artificial intelligence, and neuroscience. It seeks to understand and explain cognitive phenomena using computational methods and theories. This course will provide a comprehensive overview of the field, its history, and its relevance in today\\'s world.\\n\\n\\n\\n#### Subsection: 1.1.1 Course Structure\\n\\n\\n\\nThe course is structured into several chapters, each focusing on a different aspect of Computational Cognitive Science. The chapters are designed to build upon each other, starting with the basics and gradually moving towards more advanced topics. \\n\\n\\n\\nThe first chapter, which you are currently reading, serves as an introduction to the field and provides an overview of the course. Subsequent chapters will delve into specific topics such as computational models of cognitive processes, methodologies used in the field, and applications of Computational Cognitive Science in various domains.\\n\\n\\n\\n#### Subsection: 1.1.2 Key Concepts and Terminologies\\n\\n\\n\\nThroughout the course, we will introduce and use a variety of key concepts and terminologies related to Computational Cognitive Science. These include, but are not limited to, terms such as \\'computational model\\', \\'cognitive process\\', \\'artificial intelligence\\', and \\'neuroscience\\'. A solid understanding of these terms is crucial for grasping the more advanced topics covered in the later chapters.\\n\\n\\n\\n#### Subsection: 1.1.3 Course Goals\\n\\n\\n\\nThe primary goal of this course is to provide a comprehensive understanding of Computational Cognitive Science. By the end of the course, you should be able to:\\n\\n\\n\\n1. Understand the principles and theories of Computational Cognitive Science.\\n\\n2. Apply computational methods to understand and explain cognitive phenomena.\\n\\n3. Understand the relevance and applications of Computational Cognitive Science in various domains.\\n\\n\\n\\nWe hope that this course will not only provide you with a solid foundation in Computational Cognitive Science but also inspire you to explore this fascinating field further. Let\\'s embark on this exciting journey together!\\n\\n\\n\\n### Section: 1.2 Administrative details\\n\\n\\n\\n#### Subsection: 1.2.1 Course Administration\\n\\n\\n\\nThe administration of this course is handled by the Administrative Division (AD). The AD is responsible for personnel, property, and record administration. They ensure that all course materials are properly distributed and that all records are accurately maintained. \\n\\n\\n\\n#### Subsection: 1.2.2 Course Materials\\n\\n\\n\\nAll course materials, including lecture notes, assignments, and additional readings, will be made available on the course website. It is the responsibility of the students to regularly check the website for updates and to download and review the materials in a timely manner.\\n\\n\\n\\n#### Subsection: 1.2.3 Course Schedule\\n\\n\\n\\nThe course is structured into several chapters, each focusing on a different aspect of Computational Cognitive Science. The chapters are designed to build upon each other, starting with the basics and gradually moving towards more advanced topics. A detailed course schedule, including the dates for each chapter, will be provided at the beginning of the course.\\n\\n\\n\\n#### Subsection: 1.2.4 Grading\\n\\n\\n\\nThe grading for this course will be based on a combination of assignments, quizzes, a mid-term exam, and a final exam. The specific weightage of each component will be as follows:\\n\\n\\n\\n- Assignments: 30%\\n\\n- Quizzes: 20%\\n\\n- Mid-term Exam: 25%\\n\\n- Final Exam: 25%\\n\\n\\n\\n#### Subsection: 1.2.5 Office Hours\\n\\n\\n\\nOffice hours will be held weekly, providing students with the opportunity to discuss course material, ask questions, and seek clarification on any topics they are struggling with. The specific schedule for office hours will be announced at the start of the course.\\n\\n\\n\\n#### Subsection: 1.'}"
      ]
     },
     "execution_count": 5,
     "metadata": {},
     "output_type": "execute_result"
    }
   ],
   "source": [
    "data[0]"
   ]
  },
  {
   "cell_type": "code",
   "execution_count": 6,
   "id": "a12e45c9",
   "metadata": {},
   "outputs": [
    {
     "name": "stdout",
     "output_type": "stream",
     "text": [
      "mkdir: cannot create directory ‘question-textbooks’: File exists\r\n"
     ]
    }
   ],
   "source": [
    "!mkdir question-textbooks"
   ]
  },
  {
   "cell_type": "code",
   "execution_count": 7,
   "id": "12bd1d59",
   "metadata": {},
   "outputs": [],
   "source": [
    "def generate(filename, l):\n",
    "    if os.path.exists(filename):\n",
    "        return\n",
    "    \n",
    "    s = f\"\"\"\n",
    "{l['paragraph']}\n",
    "\n",
    "anda adalah seorang pelajar yang kurang faham tentang konteks diatas, jana satu soalan dalam bahasa melayu berdasarkan konteks diatas\n",
    "\"\"\"\n",
    "    s = s.strip()\n",
    "    r = predict(s)\n",
    "    l['question'] = r\n",
    "\n",
    "    with open(filename, 'w') as fopen:\n",
    "        json.dump(l, fopen)"
   ]
  },
  {
   "cell_type": "code",
   "execution_count": 8,
   "id": "92ea4aac",
   "metadata": {},
   "outputs": [],
   "source": [
    "generate('question-textbooks/0.json', data[0])"
   ]
  },
  {
   "cell_type": "code",
   "execution_count": 11,
   "id": "832ffcde",
   "metadata": {},
   "outputs": [
    {
     "name": "stderr",
     "output_type": "stream",
     "text": [
      " 20%|███████▌                             | 3373/16619 [00:10<01:06, 200.68it/s]"
     ]
    },
    {
     "name": "stdout",
     "output_type": "stream",
     "text": [
      "'content'\n"
     ]
    },
    {
     "name": "stderr",
     "output_type": "stream",
     "text": [
      " 27%|██████████                           | 4524/16619 [00:12<00:33, 363.90it/s]"
     ]
    },
    {
     "name": "stdout",
     "output_type": "stream",
     "text": [
      "The response was filtered due to the prompt triggering Azure OpenAI's content management policy. Please modify your prompt and retry. To learn more about our content filtering policies please read our documentation: https://go.microsoft.com/fwlink/?linkid=2198766\n",
      "The response was filtered due to the prompt triggering Azure OpenAI's content management policy. Please modify your prompt and retry. To learn more about our content filtering policies please read our documentation: https://go.microsoft.com/fwlink/?linkid=2198766\n"
     ]
    },
    {
     "name": "stderr",
     "output_type": "stream",
     "text": [
      " 35%|████████████▉                        | 5802/16619 [00:16<00:28, 385.91it/s]"
     ]
    },
    {
     "name": "stdout",
     "output_type": "stream",
     "text": [
      "The response was filtered due to the prompt triggering Azure OpenAI's content management policy. Please modify your prompt and retry. To learn more about our content filtering policies please read our documentation: https://go.microsoft.com/fwlink/?linkid=2198766\n"
     ]
    },
    {
     "name": "stderr",
     "output_type": "stream",
     "text": [
      " 39%|██████████████▌                      | 6559/16619 [00:18<00:25, 390.15it/s]"
     ]
    },
    {
     "name": "stdout",
     "output_type": "stream",
     "text": [
      "The response was filtered due to the prompt triggering Azure OpenAI's content management policy. Please modify your prompt and retry. To learn more about our content filtering policies please read our documentation: https://go.microsoft.com/fwlink/?linkid=2198766\n"
     ]
    },
    {
     "name": "stderr",
     "output_type": "stream",
     "text": [
      " 48%|██████████████████▎                   | 7984/16619 [07:43<02:40, 53.72it/s]"
     ]
    },
    {
     "name": "stdout",
     "output_type": "stream",
     "text": [
      "The response was filtered due to the prompt triggering Azure OpenAI's content management policy. Please modify your prompt and retry. To learn more about our content filtering policies please read our documentation: https://go.microsoft.com/fwlink/?linkid=2198766\n"
     ]
    },
    {
     "name": "stderr",
     "output_type": "stream",
     "text": [
      " 64%|█████████████████████▏           | 10673/16619 [1:11:11<5:49:16,  3.52s/it]"
     ]
    },
    {
     "name": "stdout",
     "output_type": "stream",
     "text": [
      "'content'\n"
     ]
    },
    {
     "name": "stderr",
     "output_type": "stream",
     "text": [
      " 74%|████████████████████████▌        | 12376/16619 [3:11:40<4:18:57,  3.66s/it]"
     ]
    },
    {
     "name": "stdout",
     "output_type": "stream",
     "text": [
      "'content'\n"
     ]
    },
    {
     "name": "stderr",
     "output_type": "stream",
     "text": [
      "100%|███████████████████████████████████| 16619/16619 [4:24:16<00:00,  1.05it/s]\n"
     ]
    }
   ],
   "source": [
    "from tqdm import tqdm\n",
    "\n",
    "max_worker = 3\n",
    "for i in tqdm(range(0, len(data), max_worker)):\n",
    "    b = data[i: i + max_worker]\n",
    "    filenames = [(os.path.join('question-textbooks', f'{i + k}.json'), l) for k, l in enumerate(b)]\n",
    "    with ThreadPoolExecutor(max_workers=max_worker) as executor:\n",
    "        futures = {executor.submit(generate, *f): f for f in filenames}\n",
    "\n",
    "        for future in as_completed(futures):\n",
    "            future.result()"
   ]
  },
  {
   "cell_type": "code",
   "execution_count": null,
   "id": "efd010fb",
   "metadata": {},
   "outputs": [],
   "source": []
  }
 ],
 "metadata": {
  "kernelspec": {
   "display_name": "Python 3 (ipykernel)",
   "language": "python",
   "name": "python3"
  },
  "language_info": {
   "codemirror_mode": {
    "name": "ipython",
    "version": 3
   },
   "file_extension": ".py",
   "mimetype": "text/x-python",
   "name": "python",
   "nbconvert_exporter": "python",
   "pygments_lexer": "ipython3",
   "version": "3.8.10"
  }
 },
 "nbformat": 4,
 "nbformat_minor": 5
}
