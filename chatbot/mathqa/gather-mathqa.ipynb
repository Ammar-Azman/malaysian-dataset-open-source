{
 "cells": [
  {
   "cell_type": "code",
   "execution_count": 1,
   "metadata": {},
   "outputs": [
    {
     "data": {
      "text/plain": [
       "['math-qa.jsonl01.splitted.requested',\n",
       " 'math-qa.jsonl02.splitted.requested',\n",
       " 'math-qa.jsonl00.splitted.requested']"
      ]
     },
     "execution_count": 1,
     "metadata": {},
     "output_type": "execute_result"
    }
   ],
   "source": [
    "import json\n",
    "from glob import glob\n",
    "\n",
    "files = glob('math-qa.jsonl*.splitted.requested')\n",
    "files"
   ]
  },
  {
   "cell_type": "code",
   "execution_count": 5,
   "metadata": {},
   "outputs": [
    {
     "data": {
      "text/plain": [
       "105536"
      ]
     },
     "execution_count": 5,
     "metadata": {},
     "output_type": "execute_result"
    }
   ],
   "source": [
    "mapping = {}\n",
    "for f in files:\n",
    "    with open(f) as fopen:\n",
    "        for l in fopen:\n",
    "            l = json.loads(l)\n",
    "            if 'Source text\\nclear\\nLook up details' in l['r']['result']:\n",
    "                continue\n",
    "            if 'clear\\nLook up details' in l['r']['result']:\n",
    "                continue\n",
    "            if l['r']['result'].startswith('Source text\\n'):\n",
    "                continue\n",
    "                \n",
    "            mapping[l['src']] = l['r']['result']\n",
    "            \n",
    "len(mapping)"
   ]
  },
  {
   "cell_type": "code",
   "execution_count": 11,
   "metadata": {},
   "outputs": [
    {
     "data": {
      "text/plain": [
       "['test.parquet', 'train.parquet', '0000.parquet']"
      ]
     },
     "execution_count": 11,
     "metadata": {},
     "output_type": "execute_result"
    }
   ],
   "source": [
    "files = glob('*.parquet')\n",
    "files = [f for f in files if 'mini' not in f]\n",
    "files"
   ]
  },
  {
   "cell_type": "code",
   "execution_count": 13,
   "metadata": {},
   "outputs": [],
   "source": [
    "import pandas as pd\n",
    "\n",
    "df = pd.read_parquet(files[0])"
   ]
  },
  {
   "cell_type": "code",
   "execution_count": 18,
   "metadata": {},
   "outputs": [
    {
     "name": "stderr",
     "output_type": "stream",
     "text": [
      "/tmp/ipykernel_3525741/3733466141.py:4: FutureWarning: Using short name for 'orient' is deprecated. Only the options: ('dict', list, 'series', 'split', 'records', 'index') will be used in a future version. Use one of the above to silence this warning.\n",
      "  rows = df.to_dict(orient = 'record')\n"
     ]
    }
   ],
   "source": [
    "with open('math-qa.jsonl.translated', 'w') as fopen:\n",
    "    for f in files:\n",
    "        df = pd.read_parquet(f)\n",
    "        rows = df.to_dict(orient = 'record')\n",
    "        for row in rows:\n",
    "            row['Problem_ms'] = mapping.get(row['Problem'])\n",
    "            row['Rationale_ms'] = mapping.get(row['Rationale'])\n",
    "            row['options_ms'] = mapping.get(row['options'])\n",
    "            fopen.write(f'{json.dumps(row)}\\n')"
   ]
  },
  {
   "cell_type": "code",
   "execution_count": 19,
   "metadata": {},
   "outputs": [
    {
     "name": "stdout",
     "output_type": "stream",
     "text": [
      "{\"Problem\": \"a shopkeeper sold an article offering a discount of 5 % and earned a profit of 31.1 % . what would have been the percentage of profit earned if no discount had been offered ?\", \"Rationale\": \"\\\"giving no discount to customer implies selling the product on printed price . suppose the cost price of the article is 100 . then printed price = 100 \\u00e3 \\u2014 ( 100 + 31.1 ) / ( 100 \\u00e2 \\u02c6 \\u2019 5 ) = 138 hence , required % profit = 138 \\u00e2 \\u20ac \\u201c 100 = 38 % answer a\\\"\", \"options\": \"a ) 38 , b ) 27.675 , c ) 30 , d ) data inadequate , e ) none of these\", \"correct\": \"a\", \"annotated_formula\": \"subtract(divide(multiply(add(const_100, 31.1), const_100), subtract(const_100, 5)), const_100)\", \"linear_formula\": \"add(n1,const_100)|subtract(const_100,n0)|multiply(#0,const_100)|divide(#2,#1)|subtract(#3,const_100)|\", \"category\": \"gain\", \"Problem_ms\": \"seorang pekedai menjual artikel yang menawarkan diskaun sebanyak 5 % dan memperoleh keuntungan sebanyak 31.1 % . berapakah peratusan keuntungan yang diperolehi sekiranya tiada diskaun ditawarkan?\", \"Rationale_ms\": \"\\\"tidak memberi diskaun kepada pelanggan bermakna menjual produk pada harga bercetak . andaikan harga kos artikel ialah 100 . maka harga cetakan = 100 \\u00e3 \\u2014 ( 100 + 31.1 ) / ( 100 \\u00e2 \\u02c6 ' 5 ) = 138 maka, diperlukan % untung = 138 \\u00e2 \\u20ac \\u201c 100 = 38 % jawab a\\\"\", \"options_ms\": \"a) 38, b) 27.675, c) 30, d) Data tidak mencukupi, e) tiada satu pun\"}\r\n"
     ]
    }
   ],
   "source": [
    "!head -n 1 math-qa.jsonl.translated"
   ]
  },
  {
   "cell_type": "code",
   "execution_count": null,
   "metadata": {},
   "outputs": [],
   "source": []
  }
 ],
 "metadata": {
  "kernelspec": {
   "display_name": "Python 3 (ipykernel)",
   "language": "python",
   "name": "python3"
  },
  "language_info": {
   "codemirror_mode": {
    "name": "ipython",
    "version": 3
   },
   "file_extension": ".py",
   "mimetype": "text/x-python",
   "name": "python",
   "nbconvert_exporter": "python",
   "pygments_lexer": "ipython3",
   "version": "3.8.10"
  }
 },
 "nbformat": 4,
 "nbformat_minor": 4
}
