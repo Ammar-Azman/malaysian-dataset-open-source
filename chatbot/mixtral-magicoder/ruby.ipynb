{
 "cells": [
  {
   "cell_type": "code",
   "execution_count": 2,
   "id": "72f779b8",
   "metadata": {},
   "outputs": [],
   "source": [
    "# !wget https://huggingface.co/datasets/malaysia-ai/starcoderdata-sample/resolve/main/ruby.jsonl"
   ]
  },
  {
   "cell_type": "code",
   "execution_count": 3,
   "id": "3cb5572a",
   "metadata": {},
   "outputs": [
    {
     "name": "stderr",
     "output_type": "stream",
     "text": [
      "/home/husein/.local/lib/python3.8/site-packages/requests/__init__.py:102: RequestsDependencyWarning: urllib3 (1.26.15) or chardet (5.2.0)/charset_normalizer (2.0.7) doesn't match a supported version!\n",
      "  warnings.warn(\"urllib3 ({}) or chardet ({})/charset_normalizer ({}) doesn't match a supported \"\n"
     ]
    }
   ],
   "source": [
    "from huggingface_hub import InferenceClient\n",
    "from tqdm import tqdm\n",
    "import os\n",
    "import json\n",
    "from glob import glob"
   ]
  },
  {
   "cell_type": "code",
   "execution_count": 4,
   "id": "8b6f5a37",
   "metadata": {},
   "outputs": [
    {
     "name": "stderr",
     "output_type": "stream",
     "text": [
      "100000it [00:04, 20361.58it/s]\n"
     ]
    },
    {
     "data": {
      "text/plain": [
       "99354"
      ]
     },
     "execution_count": 4,
     "metadata": {},
     "output_type": "execute_result"
    }
   ],
   "source": [
    "ls = []\n",
    "\n",
    "with open('ruby.jsonl') as fopen:\n",
    "    for l in tqdm(fopen):\n",
    "        try:\n",
    "            l = json.loads(l)\n",
    "            if len(l['content'].split()) > 5e3:\n",
    "                continue\n",
    "            ls.append(l['content'])\n",
    "        except:\n",
    "            pass\n",
    "len(ls)"
   ]
  },
  {
   "cell_type": "code",
   "execution_count": 5,
   "id": "e61e8115",
   "metadata": {},
   "outputs": [],
   "source": [
    "client = InferenceClient(\n",
    "    \"\", timeout = 120\n",
    ")\n",
    "\n",
    "\n",
    "def format_prompt(message, history):\n",
    "  prompt = \"<s>\"\n",
    "  for user_prompt, bot_response in history:\n",
    "    prompt += f\"[INST] {user_prompt} [/INST]\"\n",
    "    prompt += f\" {bot_response}</s> \"\n",
    "  prompt += f\"[INST] {message} [/INST]\"\n",
    "  return prompt\n",
    "\n",
    "def format_user(history):\n",
    "    prompt = \"<s>\"\n",
    "    for user_prompt, bot_response in history:\n",
    "        prompt += f\"[INST] {user_prompt} [/INST]\"\n",
    "        prompt += f\" {bot_response}</s> \"\n",
    "    prompt += f\"[INST]\"\n",
    "    return prompt"
   ]
  },
  {
   "cell_type": "code",
   "execution_count": 6,
   "id": "eda36b0b",
   "metadata": {},
   "outputs": [],
   "source": [
    "generate_kwargs = dict(\n",
    "    temperature=1.0,\n",
    "    max_new_tokens=5120,\n",
    "    top_p=0.95,\n",
    "    repetition_penalty=1.0,\n",
    "    do_sample=True,\n",
    ")"
   ]
  },
  {
   "cell_type": "code",
   "execution_count": 8,
   "id": "cdc207c6",
   "metadata": {},
   "outputs": [
    {
     "name": "stdout",
     "output_type": "stream",
     "text": [
      "mkdir: cannot create directory ‘mixtral-ruby’: File exists\r\n"
     ]
    }
   ],
   "source": [
    "!mkdir mixtral-ruby\n",
    "# !rm -rf mixtral-ruby/*.json"
   ]
  },
  {
   "cell_type": "code",
   "execution_count": 9,
   "id": "9ef3a56b",
   "metadata": {},
   "outputs": [],
   "source": [
    "def answer(q, i):\n",
    "    filename = f'mixtral-ruby/{i}.json'\n",
    "    if os.path.exists(filename):\n",
    "        return\n",
    "    \n",
    "    while True:\n",
    "    # for _ in range(5):\n",
    "        try:\n",
    "            \n",
    "            prompt = f\"\"\"\n",
    "Please gain inspiration from the following random code snippet to create a high-quality Ruby problem. Present your output in two distinct sections: [Problem Description] and [Solution].\n",
    "\n",
    "Ruby snippet for inspiration:\n",
    "```\n",
    "{q}\n",
    "```\n",
    "\n",
    "Guidelines for each section:\n",
    "\n",
    "1. [Problem Description]: This should be **completely self-contained**, providing all the contextual information one needs to understand and solve the problem. Assume common programming knowledge, but ensure that any specific context, variables, or code snippets pertinent to this problem are explicitly included but do not mention code snippet above.\n",
    "\n",
    "2. [Solution]: Offer a comprehensive, **correct** solution that accurately addresses the [Problem Description] you provided.\n",
    "\"\"\".strip()\n",
    "            formatted_prompt = format_prompt(prompt, [])\n",
    "            stream = client.text_generation(formatted_prompt, **generate_kwargs, stream=False, details=True, return_full_text=False)\n",
    "            output = stream.generated_text\n",
    "            with open(filename, 'w') as fopen:\n",
    "                json.dump(output, fopen)\n",
    "            break\n",
    "        except Exception as e:\n",
    "            if 'tokens + `max_new_tokens`' in str(e):\n",
    "                with open(filename, 'w') as fopen:\n",
    "                    json.dump(False, fopen)\n",
    "                break\n",
    "            pass"
   ]
  },
  {
   "cell_type": "code",
   "execution_count": 10,
   "id": "3f0ac5fe",
   "metadata": {},
   "outputs": [],
   "source": [
    "def consumer(queue, name):\n",
    "    while True:\n",
    "        if queue.qsize() == 0:\n",
    "            break\n",
    "        item = queue.get()\n",
    "        answer(*item)\n",
    "    print(f'consumer {name} done')"
   ]
  },
  {
   "cell_type": "code",
   "execution_count": 11,
   "id": "236113b2",
   "metadata": {},
   "outputs": [],
   "source": [
    "from threading import Thread\n",
    "from queue import Queue\n",
    "\n",
    "queue = Queue()\n",
    "questions = ls\n",
    "urls = [(q, no) for no, q in enumerate(questions)]\n",
    "for u in urls:\n",
    "    queue.put(u)\n",
    "    \n",
    "ori_size = queue.qsize()"
   ]
  },
  {
   "cell_type": "code",
   "execution_count": 12,
   "id": "efbd604c",
   "metadata": {},
   "outputs": [],
   "source": [
    "answer(*urls[1])"
   ]
  },
  {
   "cell_type": "code",
   "execution_count": 13,
   "id": "aacdb9b8",
   "metadata": {},
   "outputs": [
    {
     "name": "stdout",
     "output_type": "stream",
     "text": [
      " **Problem Description**\n",
      "\n",
      "---\n",
      "\n",
      "Bosh is an open-source tool for release engineering, deployment, lifecycle management, and troubleshooting of large scale distributed services. Bosh uses stemcells as the underlying operating system and environment upon which deployed software runs. As a part of the Bosh ecosystem, you are required to build and test a new stemcell with updated software packages. You will write a Ruby class `StemcellBuilder` to automate the process of downloading an existing stemcell, extracting its contents, updating specific packages, and creating a new stemcell.\n",
      "\n",
      "The `StemcellBuilder` class should provide the following functionalities:\n",
      "\n",
      "1. Accept an input file path to a valid Bosh stemcell archive.\n",
      "2. Extract the stemcell archive into a temporary directory.\n",
      "3. Accept an array of package names that should be updated. These package names are already available in a file named `packages.txt` located in the root directory of the extracted stemcell.\n",
      "4. Update the specified packages using the appropriate package manager for the stemcell's operating system. For example, you might use `apt-get` for Debian-based operating systems or `yum` for RHEL-based operating systems.\n",
      "5. Remove the extracted stemcell directory after updating the packages.\n",
      "6. Create a new stemcell archive with an incremented version from the updated stemcell directory and return the path of the new stemcell.\n",
      "\n",
      "To make the problem a bit more challenging, add the following constraints:\n",
      "\n",
      "- The package names to be updated will be passed as a parameter to the `StemcellBuilder` constructor.\n",
      "- The `StemcellBuilder` class should be able to determine the package manager to use based on the operating system.\n",
      "\n",
      "**Solution**\n",
      "\n",
      "---\n",
      "\n",
      "```ruby\n",
      "require 'tmpdir'\n",
      "require 'zip'\n",
      "\n",
      "class StemcellBuilder\n",
      "  def initialize(package_names, stemcell_path)\n",
      "    @package_names = package_names\n",
      "    @stemcell_path = stemcell_path\n",
      "  end\n",
      "\n",
      "  def call\n",
      "    temp_dir = Dir.mktmpdir\n",
      "    extract_stemcell(temp_dir)\n",
      "    update_packages(temp_dir)\n",
      "    create_new_stemcell(temp_dir)\n",
      "  ensure\n",
      "    FileUtils.remove_entry_secure(temp_dir)\n",
      "  end\n",
      "\n",
      "  private\n",
      "\n",
      "  def extract_stemcell(directory)\n",
      "    File.open(@stemcell_path) do |io|\n",
      "      Zip::File.extract_to_dir(io, directory)\n",
      "    end\n",
      "  end\n",
      "\n",
      "  def update_packages(directory)\n",
      "    package_manager = determine_package_manager(directory)\n",
      "    return if package_manager.nil?\n",
      "\n",
      "    package_names.each do |package_name|\n",
      "      system(\"#{package_manager} upgrade -y #{package_name}\")\n",
      "    end\n",
      "  end\n",
      "\n",
      "  def determine_package_manager(directory)\n",
      "    os_release_path = File.join(directory, 'etc/os-release')\n",
      "\n",
      "    return nil unless File.exist?(os_release_path)\n",
      "\n",
      "    File.readlines(os_release_path).find do |line|\n",
      "      line.start_with?('ID=')\n",
      "    end&.split('=')&.last&.downcase\n",
      "  end\n",
      "\n",
      "  def create_new_stemcell(directory)\n",
      "    stemcell_name = File.basename(@stemcell_path, '.tgz')\n",
      "    new_stemcell_name = \"#{stemcell_name}-updated.tgz\"\n",
      "\n",
      "    Dir.chdir(directory) do\n",
      "      system('tar czf', new_stemcell_name, '*')\n",
      "    end\n",
      "\n",
      "    File.join(directory, new_stemcell_name)\n",
      "  end\n",
      "end\n",
      "```\n",
      "\n",
      "Now you can use the `StemcellBuilder` class to create a new stemcell with updated packages:\n",
      "\n",
      "```ruby\n",
      "package_names = ['openssh-server', 'curl']\n",
      "stemcell_path = './bosh-stemcell-123-aws-xen-ubuntu-trusty-go_agent.tgz'\n",
      "\n",
      "new_stemcell_path = StemcellBuilder.new(package_names, stemcell_path).call\n",
      "puts \"New stemcell created: #{new_stemcell_path}\"\n",
      "```\n"
     ]
    }
   ],
   "source": [
    "with open('mixtral-ruby/1.json') as fopen:\n",
    "    print(json.loads(fopen.read()))"
   ]
  },
  {
   "cell_type": "code",
   "execution_count": null,
   "id": "c8c77c16",
   "metadata": {},
   "outputs": [
    {
     "name": "stderr",
     "output_type": "stream",
     "text": [
      " 12%|███████████▉                                                                                      | 12133/99354 [13:38:28<19:57:46,  1.21it/s]"
     ]
    }
   ],
   "source": [
    "max_worker = 50\n",
    "consumers = [Thread(target=consumer, args=(queue,i)) for i in range(max_worker)]\n",
    "for i in range(len(consumers)):\n",
    "    consumers[i].start()\n",
    "    \n",
    "pbar = tqdm(total=ori_size)\n",
    "last_size = 0\n",
    "while True:\n",
    "    size = queue.qsize()\n",
    "    if size == 0:\n",
    "        break\n",
    "    left = ori_size - size\n",
    "    minus = left - last_size\n",
    "    if minus > 0:\n",
    "        pbar.update(minus)\n",
    "        last_size += minus\n",
    "\n",
    "pbar.close()"
   ]
  },
  {
   "cell_type": "code",
   "execution_count": null,
   "id": "4f1e0e1b",
   "metadata": {},
   "outputs": [],
   "source": []
  }
 ],
 "metadata": {
  "kernelspec": {
   "display_name": "Python 3 (ipykernel)",
   "language": "python",
   "name": "python3"
  },
  "language_info": {
   "codemirror_mode": {
    "name": "ipython",
    "version": 3
   },
   "file_extension": ".py",
   "mimetype": "text/x-python",
   "name": "python",
   "nbconvert_exporter": "python",
   "pygments_lexer": "ipython3",
   "version": "3.8.10"
  }
 },
 "nbformat": 4,
 "nbformat_minor": 5
}
