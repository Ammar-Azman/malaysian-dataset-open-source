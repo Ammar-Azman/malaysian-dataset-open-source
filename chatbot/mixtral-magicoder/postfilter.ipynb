{
 "cells": [
  {
   "cell_type": "code",
   "execution_count": 19,
   "id": "daed91ff",
   "metadata": {},
   "outputs": [],
   "source": [
    "from glob import glob\n",
    "from tqdm import tqdm\n",
    "import json"
   ]
  },
  {
   "cell_type": "code",
   "execution_count": 29,
   "id": "d274da6c",
   "metadata": {},
   "outputs": [
    {
     "data": {
      "text/plain": [
       "['cpp-00000-of-00001.jsonl',\n",
       " 'scala-00000-of-00001.jsonl',\n",
       " 'c-sharp-00000-of-00001.jsonl',\n",
       " 'shell-00000-of-00001.jsonl',\n",
       " 'go-00000-of-00001.jsonl',\n",
       " 'python-00000-of-00001.jsonl',\n",
       " 'pythonanalytics-00000-of-00001.jsonl',\n",
       " 'sql-00000-of-00001.jsonl',\n",
       " 'java-00000-of-00001.jsonl',\n",
       " 'dockerfile-00000-of-00001.jsonl',\n",
       " 'rust-00000-of-00001.jsonl',\n",
       " 'javascript-00000-of-00001.jsonl',\n",
       " 'typescript-00000-of-00001.jsonl',\n",
       " 'python-analytics-00000-of-00001.jsonl',\n",
       " 'csharp-00000-of-00001.jsonl',\n",
       " 'ruby-00000-of-00001.jsonl',\n",
       " 'php-00000-of-00001.jsonl',\n",
       " 'swift-00000-of-00001.jsonl',\n",
       " 'cuda-00000-of-00001.jsonl',\n",
       " 'kotlin-00000-of-00001.jsonl']"
      ]
     },
     "execution_count": 29,
     "metadata": {},
     "output_type": "execute_result"
    }
   ],
   "source": [
    "files = glob('*-00000-of-00001.jsonl')\n",
    "files"
   ]
  },
  {
   "cell_type": "code",
   "execution_count": 30,
   "id": "db9cf1da",
   "metadata": {},
   "outputs": [
    {
     "name": "stderr",
     "output_type": "stream",
     "text": [
      "10747it [00:00, 64703.93it/s]\n"
     ]
    },
    {
     "name": "stdout",
     "output_type": "stream",
     "text": [
      "cpp-00000-of-00001.jsonl 8119\n"
     ]
    },
    {
     "name": "stderr",
     "output_type": "stream",
     "text": [
      "10017it [00:00, 54691.22it/s]\n"
     ]
    },
    {
     "name": "stdout",
     "output_type": "stream",
     "text": [
      "scala-00000-of-00001.jsonl 16832\n"
     ]
    },
    {
     "name": "stderr",
     "output_type": "stream",
     "text": [
      "5693it [00:00, 67367.21it/s]\n"
     ]
    },
    {
     "name": "stdout",
     "output_type": "stream",
     "text": [
      "c-sharp-00000-of-00001.jsonl 20225\n"
     ]
    },
    {
     "name": "stderr",
     "output_type": "stream",
     "text": [
      "10848it [00:00, 57169.61it/s]\n"
     ]
    },
    {
     "name": "stdout",
     "output_type": "stream",
     "text": [
      "shell-00000-of-00001.jsonl 30148\n"
     ]
    },
    {
     "name": "stderr",
     "output_type": "stream",
     "text": [
      "10143it [00:00, 52138.75it/s]\n"
     ]
    },
    {
     "name": "stdout",
     "output_type": "stream",
     "text": [
      "go-00000-of-00001.jsonl 38575\n"
     ]
    },
    {
     "name": "stderr",
     "output_type": "stream",
     "text": [
      "10934it [00:00, 69088.69it/s]\n"
     ]
    },
    {
     "name": "stdout",
     "output_type": "stream",
     "text": [
      "python-00000-of-00001.jsonl 44882\n"
     ]
    },
    {
     "name": "stderr",
     "output_type": "stream",
     "text": [
      "53959it [00:00, 57141.38it/s]\n"
     ]
    },
    {
     "name": "stdout",
     "output_type": "stream",
     "text": [
      "pythonanalytics-00000-of-00001.jsonl 73966\n"
     ]
    },
    {
     "name": "stderr",
     "output_type": "stream",
     "text": [
      "27668it [00:00, 80391.71it/s]\n"
     ]
    },
    {
     "name": "stdout",
     "output_type": "stream",
     "text": [
      "sql-00000-of-00001.jsonl 96211\n"
     ]
    },
    {
     "name": "stderr",
     "output_type": "stream",
     "text": [
      "11221it [00:00, 55141.91it/s]\n"
     ]
    },
    {
     "name": "stdout",
     "output_type": "stream",
     "text": [
      "java-00000-of-00001.jsonl 103992\n"
     ]
    },
    {
     "name": "stderr",
     "output_type": "stream",
     "text": [
      "13286it [00:00, 58841.78it/s]\n"
     ]
    },
    {
     "name": "stdout",
     "output_type": "stream",
     "text": [
      "dockerfile-00000-of-00001.jsonl 117041\n"
     ]
    },
    {
     "name": "stderr",
     "output_type": "stream",
     "text": [
      "10271it [00:00, 68984.91it/s]\n"
     ]
    },
    {
     "name": "stdout",
     "output_type": "stream",
     "text": [
      "rust-00000-of-00001.jsonl 123098\n"
     ]
    },
    {
     "name": "stderr",
     "output_type": "stream",
     "text": [
      "11758it [00:00, 61925.22it/s]\n"
     ]
    },
    {
     "name": "stdout",
     "output_type": "stream",
     "text": [
      "javascript-00000-of-00001.jsonl 132457\n"
     ]
    },
    {
     "name": "stderr",
     "output_type": "stream",
     "text": [
      "14248it [00:00, 62410.84it/s]\n"
     ]
    },
    {
     "name": "stdout",
     "output_type": "stream",
     "text": [
      "typescript-00000-of-00001.jsonl 144196\n"
     ]
    },
    {
     "name": "stderr",
     "output_type": "stream",
     "text": [
      "53959it [00:01, 53031.41it/s]\n"
     ]
    },
    {
     "name": "stdout",
     "output_type": "stream",
     "text": [
      "python-analytics-00000-of-00001.jsonl 173280\n"
     ]
    },
    {
     "name": "stderr",
     "output_type": "stream",
     "text": [
      "10201it [00:00, 61911.48it/s]\n"
     ]
    },
    {
     "name": "stdout",
     "output_type": "stream",
     "text": [
      "csharp-00000-of-00001.jsonl 179419\n"
     ]
    },
    {
     "name": "stderr",
     "output_type": "stream",
     "text": [
      "10201it [00:00, 52362.20it/s]\n"
     ]
    },
    {
     "name": "stdout",
     "output_type": "stream",
     "text": [
      "ruby-00000-of-00001.jsonl 188160\n"
     ]
    },
    {
     "name": "stderr",
     "output_type": "stream",
     "text": [
      "10176it [00:00, 66799.03it/s]\n"
     ]
    },
    {
     "name": "stdout",
     "output_type": "stream",
     "text": [
      "php-00000-of-00001.jsonl 195982\n"
     ]
    },
    {
     "name": "stderr",
     "output_type": "stream",
     "text": [
      "10187it [00:00, 58915.94it/s]\n"
     ]
    },
    {
     "name": "stdout",
     "output_type": "stream",
     "text": [
      "swift-00000-of-00001.jsonl 203076\n"
     ]
    },
    {
     "name": "stderr",
     "output_type": "stream",
     "text": [
      "13843it [00:00, 66295.75it/s]\n"
     ]
    },
    {
     "name": "stdout",
     "output_type": "stream",
     "text": [
      "cuda-00000-of-00001.jsonl 211002\n"
     ]
    },
    {
     "name": "stderr",
     "output_type": "stream",
     "text": [
      "12790it [00:00, 63449.72it/s]"
     ]
    },
    {
     "name": "stdout",
     "output_type": "stream",
     "text": [
      "kotlin-00000-of-00001.jsonl 219018\n"
     ]
    },
    {
     "name": "stderr",
     "output_type": "stream",
     "text": [
      "\n"
     ]
    },
    {
     "data": {
      "text/plain": [
       "219018"
      ]
     },
     "execution_count": 30,
     "metadata": {},
     "output_type": "execute_result"
    }
   ],
   "source": [
    "filtered = []\n",
    "rejected = []\n",
    "\n",
    "for f in files:\n",
    "    with open(f) as fopen:\n",
    "        for l in tqdm(fopen):\n",
    "            l = json.loads(l)\n",
    "            if 'code snippet' in l['instruction']:\n",
    "                rejected.append(l)\n",
    "                continue\n",
    "            answer = l['answer'].split('\\n\\n')\n",
    "            if len(answer[0]) < 20:\n",
    "                answer = answer[1:]\n",
    "            answer = '\\n\\n'.join(answer)\n",
    "            if len(answer.split()) < 100:\n",
    "                continue\n",
    "            filtered.append((l['instruction'], answer))\n",
    "        print(f, len(filtered))\n",
    "len(filtered)"
   ]
  },
  {
   "cell_type": "code",
   "execution_count": 31,
   "id": "08c57c5e",
   "metadata": {},
   "outputs": [
    {
     "data": {
      "text/plain": [
       "{'instruction': 'In the realm of culinary arts, an essential aspect is the ability to manage and share recipes. In this problem, you will be working with a simplified Recipe Data Access Object (DAO) that manages a list of recipes. The `Recipe` class encapsulates recipe details, while the `RecipeDao` class provides methods for inserting, updating, deleting, and fetching recipes by ID, name, or index.\\n\\nThe provided code snippet contains tests that showcase how the `RecipeDao` class functions. However, the implementation of these methods is missing. Your task is to implement the missing methods based on the provided tests and requirements.\\n\\nThe `Recipe` class:\\n\\n```kotlin\\nclass Recipe(\\n    val id: Int,\\n    val recipe_name: String,\\n    val author: String,\\n    val description: String,\\n    val ingredients: MutableList<String>,\\n    val last_modified_date: Date,\\n    val rating: Int\\n)\\n```\\n\\nThe `RecipeDao` class with missing methods:\\n\\n```kotlin\\nclass RecipeDao {\\n\\n    private val recipes: MutableList<Recipe> = mutableListOf()\\n\\n    fun insertRecipe(recipe: Recipe) {\\n        // Implement this method\\n    }\\n\\n    fun updateRecipe(recipe: Recipe, index: Int) {\\n        // Implement this method\\n    }\\n\\n    fun deleteRecipe(index: Int) {\\n        // Implement this method\\n    }\\n\\n    fun getRecipe(index: Int): Recipe {\\n        // Implement this method\\n        return Recipe(0, \"\", \"\", \"\", mutableListOf(), Date(), 0)\\n    }\\n\\n    fun getRecipes(): List<Recipe> {\\n        // Implement this method\\n        return recipes\\n    }\\n\\n    fun getRecipeByName(name: String): Recipe? {\\n        // Implement this method\\n        return null\\n    }\\n}\\n```',\n",
       " 'answer': 'Here is a complete implementation of the `RecipeDao` class:\\n\\n```kotlin\\nclass RecipeDao {\\n\\n    private val recipes: MutableList<Recipe> = mutableListOf()\\n\\n    fun insertRecipe(recipe: Recipe) {\\n        recipes.add(recipe)\\n    }\\n\\n    fun updateRecipe(recipe: Recipe, index: Int) {\\n        if (index in recipes.indices) {\\n            recipes[index] = recipe\\n        }\\n    }\\n\\n    fun deleteRecipe(index: Int) {\\n        if (index in recipes.indices) {\\n            recipes.removeAt(index)\\n        }\\n    }\\n\\n    fun getRecipe(index: Int): Recipe {\\n        if (index in recipes.indices) {\\n            return recipes[index]\\n        }\\n        return Recipe(0, \"\", \"\", \"\", mutableListOf(), Date(), 0)\\n    }\\n\\n    fun getRecipes(): List<Recipe> {\\n        return recipes\\n    }\\n\\n    fun getRecipeByName(name: String): Recipe? {\\n        return recipes.find { it.recipe_name == name }\\n    }\\n}\\n```\\n\\nThe solution implementation provides methods to insert, update, delete, and fetch recipes. You should ensure this solution meets the requirements and passes the tests provided in the problem description.'}"
      ]
     },
     "execution_count": 31,
     "metadata": {},
     "output_type": "execute_result"
    }
   ],
   "source": [
    "rejected[-1]"
   ]
  },
  {
   "cell_type": "code",
   "execution_count": 34,
   "id": "1547b9f3",
   "metadata": {},
   "outputs": [
    {
     "data": {
      "text/plain": [
       "('In this problem, you are given a custom `PackedDate` class representing a date as bitfields of an integer. This class is designed to avoid unnecessary allocations and allow for fast access to day, month, and year fields as well as sorting. However, it is not suitable for complex date arithmetic operations.\\n\\nYour task is to implement a function `daysUntilYearEnd(packedDate: PackedDate): Int` that calculates the remaining days until the end of the year for the given `PackedDate` object.\\n\\nHere is the `PackedDate` class:\\n\\n```\\nclass PackedDate(val value: Int) {\\n  def day: Int = value & 0x1f\\n  def month: Int = (value >> 5) & 0xf\\n  def year: Int = (value >> 9) & 0x3fff\\n\\n  def asDays: Int = {\\n    // Converts the packed date to the total days since a reference date\\n    // You may use this method to make calculations easier\\n  }\\n}\\n\\nobject PackedDate {\\n  def apply(value: Int): PackedDate = new PackedDate(value)\\n\\n  def apply(year: Int, month: Int, day: Int) =\\n    new PackedDate((year << 9) | (month << 5) | day)\\n}\\n```',\n",
       " \"To calculate the remaining days until the end of the year, we'll first calculate the total days for the given `PackedDate` using the `asDays` method. Next, we determine the total days in the current year (until December 31) and finally, subtract the `PackedDate`'s total days from the total days in the year.\\n\\n```javascript\\nfunction daysUntilYearEnd(packedDate: PackedDate): number {\\n  const yearEndDays = (packedDate.year % 4 === 0 && packedDate.month === 2 && packedDate.day > 29) ? 366 : 365;\\n  const daysInYear = new Array(13).fill(0).map((_, i) => {\\n    const daysInMonth = [0, 31, 28, 31, 30, 31, 30, 31, 31, 30, 31, 30, 31][i];\\n    return i === 2 && packedDate.year % 4 === 0 ? daysInMonth + 1 : daysInMonth;\\n  }).reduce((sum, current) => sum + current, 0);\\n\\n  return daysInYear - packedDate.asDays;\\n}\\n\\n// Helper method to create a PackedDate instance\\nfunction PackedDate(value: number): PackedDate {\\n  return { value };\\n}\\n\\n// Example usage\\nconst givenDate = PackedDate((2022 << 9) | (4 << 5) | 16);\\nconsole.log(daysUntilYearEnd(givenDate)); // Output: 200\\n```\\n\\nThis function checks if the given year is a leap year (February 29) and calculates the total days in the current year accordingly. Then, the days in a non-leap year are calculated and returned by subtracting the `PackedDate`'s total days from the total days in the year.\")"
      ]
     },
     "execution_count": 34,
     "metadata": {},
     "output_type": "execute_result"
    }
   ],
   "source": [
    "filtered[10000]"
   ]
  },
  {
   "cell_type": "code",
   "execution_count": 35,
   "id": "859b113a",
   "metadata": {},
   "outputs": [],
   "source": [
    "with open('postfilter.jsonl', 'w') as fopen:\n",
    "    for l in filtered:\n",
    "        d = {\n",
    "            'instruction': l[0],\n",
    "            'answer': l[1]\n",
    "        }\n",
    "        fopen.write(f'{json.dumps(d)}\\n')"
   ]
  },
  {
   "cell_type": "code",
   "execution_count": 38,
   "id": "25ba950d",
   "metadata": {},
   "outputs": [],
   "source": [
    "from huggingface_hub import HfApi\n",
    "api = HfApi()"
   ]
  },
  {
   "cell_type": "code",
   "execution_count": 39,
   "id": "bd9db96b",
   "metadata": {},
   "outputs": [
    {
     "data": {
      "application/vnd.jupyter.widget-view+json": {
       "model_id": "ff019d4724d04aaa88a18e8d184cfd6c",
       "version_major": 2,
       "version_minor": 0
      },
      "text/plain": [
       "postfilter.jsonl:   0%|          | 0.00/709M [00:00<?, ?B/s]"
      ]
     },
     "metadata": {},
     "output_type": "display_data"
    },
    {
     "data": {
      "text/plain": [
       "'https://huggingface.co/datasets/mesolitica/mixtral-wizardcoder/blob/main/postfilter.jsonl'"
      ]
     },
     "execution_count": 39,
     "metadata": {},
     "output_type": "execute_result"
    }
   ],
   "source": [
    "api.upload_file(\n",
    "    path_or_fileobj='postfilter.jsonl',\n",
    "    path_in_repo='postfilter.jsonl',\n",
    "    repo_id='mesolitica/mixtral-wizardcoder',\n",
    "    repo_type='dataset',\n",
    ")"
   ]
  },
  {
   "cell_type": "code",
   "execution_count": null,
   "id": "7544cc56",
   "metadata": {},
   "outputs": [],
   "source": []
  }
 ],
 "metadata": {
  "kernelspec": {
   "display_name": "Python 3 (ipykernel)",
   "language": "python",
   "name": "python3"
  },
  "language_info": {
   "codemirror_mode": {
    "name": "ipython",
    "version": 3
   },
   "file_extension": ".py",
   "mimetype": "text/x-python",
   "name": "python",
   "nbconvert_exporter": "python",
   "pygments_lexer": "ipython3",
   "version": "3.8.10"
  }
 },
 "nbformat": 4,
 "nbformat_minor": 5
}
