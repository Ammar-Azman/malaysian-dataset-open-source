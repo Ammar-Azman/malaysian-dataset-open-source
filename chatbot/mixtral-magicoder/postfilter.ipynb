{
 "cells": [
  {
   "cell_type": "code",
   "execution_count": 1,
   "id": "daed91ff",
   "metadata": {},
   "outputs": [],
   "source": [
    "from glob import glob\n",
    "from tqdm import tqdm\n",
    "import json"
   ]
  },
  {
   "cell_type": "code",
   "execution_count": 2,
   "id": "d274da6c",
   "metadata": {},
   "outputs": [
    {
     "data": {
      "text/plain": [
       "['cpp-00000-of-00001.jsonl',\n",
       " 'scala-00000-of-00001.jsonl',\n",
       " 'c-sharp-00000-of-00001.jsonl',\n",
       " 'shell-00000-of-00001.jsonl',\n",
       " 'go-00000-of-00001.jsonl',\n",
       " 'python-00000-of-00001.jsonl',\n",
       " 'pythonanalytics-00000-of-00001.jsonl',\n",
       " 'sql-00000-of-00001.jsonl',\n",
       " 'java-00000-of-00001.jsonl',\n",
       " 'dockerfile-00000-of-00001.jsonl',\n",
       " 'rust-00000-of-00001.jsonl',\n",
       " 'javascript-00000-of-00001.jsonl',\n",
       " 'typescript-00000-of-00001.jsonl',\n",
       " 'python-analytics-00000-of-00001.jsonl',\n",
       " 'csharp-00000-of-00001.jsonl',\n",
       " 'ruby-00000-of-00001.jsonl',\n",
       " 'php-00000-of-00001.jsonl',\n",
       " 'swift-00000-of-00001.jsonl',\n",
       " 'cuda-00000-of-00001.jsonl',\n",
       " 'kotlin-00000-of-00001.jsonl']"
      ]
     },
     "execution_count": 2,
     "metadata": {},
     "output_type": "execute_result"
    }
   ],
   "source": [
    "files = glob('*-00000-of-00001.jsonl')\n",
    "files"
   ]
  },
  {
   "cell_type": "code",
   "execution_count": 3,
   "id": "db9cf1da",
   "metadata": {},
   "outputs": [
    {
     "name": "stderr",
     "output_type": "stream",
     "text": [
      "10747it [00:00, 55703.11it/s]\n"
     ]
    },
    {
     "name": "stdout",
     "output_type": "stream",
     "text": [
      "cpp-00000-of-00001.jsonl 8119\n"
     ]
    },
    {
     "name": "stderr",
     "output_type": "stream",
     "text": [
      "10017it [00:00, 50925.98it/s]\n"
     ]
    },
    {
     "name": "stdout",
     "output_type": "stream",
     "text": [
      "scala-00000-of-00001.jsonl 16832\n"
     ]
    },
    {
     "name": "stderr",
     "output_type": "stream",
     "text": [
      "5693it [00:00, 62357.64it/s]\n"
     ]
    },
    {
     "name": "stdout",
     "output_type": "stream",
     "text": [
      "c-sharp-00000-of-00001.jsonl 20225\n"
     ]
    },
    {
     "name": "stderr",
     "output_type": "stream",
     "text": [
      "10848it [00:00, 53372.27it/s]\n"
     ]
    },
    {
     "name": "stdout",
     "output_type": "stream",
     "text": [
      "shell-00000-of-00001.jsonl 30148\n"
     ]
    },
    {
     "name": "stderr",
     "output_type": "stream",
     "text": [
      "10143it [00:00, 46912.59it/s]\n"
     ]
    },
    {
     "name": "stdout",
     "output_type": "stream",
     "text": [
      "go-00000-of-00001.jsonl 38575\n"
     ]
    },
    {
     "name": "stderr",
     "output_type": "stream",
     "text": [
      "10934it [00:00, 61321.35it/s]\n"
     ]
    },
    {
     "name": "stdout",
     "output_type": "stream",
     "text": [
      "python-00000-of-00001.jsonl 44882\n"
     ]
    },
    {
     "name": "stderr",
     "output_type": "stream",
     "text": [
      "53959it [00:01, 52169.63it/s]\n"
     ]
    },
    {
     "name": "stdout",
     "output_type": "stream",
     "text": [
      "pythonanalytics-00000-of-00001.jsonl 73966\n"
     ]
    },
    {
     "name": "stderr",
     "output_type": "stream",
     "text": [
      "27668it [00:00, 75804.03it/s]\n"
     ]
    },
    {
     "name": "stdout",
     "output_type": "stream",
     "text": [
      "sql-00000-of-00001.jsonl 96211\n"
     ]
    },
    {
     "name": "stderr",
     "output_type": "stream",
     "text": [
      "11221it [00:00, 51784.15it/s]\n"
     ]
    },
    {
     "name": "stdout",
     "output_type": "stream",
     "text": [
      "java-00000-of-00001.jsonl 103992\n"
     ]
    },
    {
     "name": "stderr",
     "output_type": "stream",
     "text": [
      "13286it [00:00, 53478.72it/s]\n"
     ]
    },
    {
     "name": "stdout",
     "output_type": "stream",
     "text": [
      "dockerfile-00000-of-00001.jsonl 117041\n"
     ]
    },
    {
     "name": "stderr",
     "output_type": "stream",
     "text": [
      "10271it [00:00, 63393.98it/s]\n"
     ]
    },
    {
     "name": "stdout",
     "output_type": "stream",
     "text": [
      "rust-00000-of-00001.jsonl 123098\n"
     ]
    },
    {
     "name": "stderr",
     "output_type": "stream",
     "text": [
      "11758it [00:00, 57999.02it/s]\n"
     ]
    },
    {
     "name": "stdout",
     "output_type": "stream",
     "text": [
      "javascript-00000-of-00001.jsonl 132457\n"
     ]
    },
    {
     "name": "stderr",
     "output_type": "stream",
     "text": [
      "14248it [00:00, 58841.05it/s]\n"
     ]
    },
    {
     "name": "stdout",
     "output_type": "stream",
     "text": [
      "typescript-00000-of-00001.jsonl 144196\n"
     ]
    },
    {
     "name": "stderr",
     "output_type": "stream",
     "text": [
      "53959it [00:01, 52451.19it/s]\n"
     ]
    },
    {
     "name": "stdout",
     "output_type": "stream",
     "text": [
      "python-analytics-00000-of-00001.jsonl 173280\n"
     ]
    },
    {
     "name": "stderr",
     "output_type": "stream",
     "text": [
      "10201it [00:00, 54476.96it/s]\n"
     ]
    },
    {
     "name": "stdout",
     "output_type": "stream",
     "text": [
      "csharp-00000-of-00001.jsonl 179419\n"
     ]
    },
    {
     "name": "stderr",
     "output_type": "stream",
     "text": [
      "10201it [00:00, 49742.89it/s]\n"
     ]
    },
    {
     "name": "stdout",
     "output_type": "stream",
     "text": [
      "ruby-00000-of-00001.jsonl 188160\n"
     ]
    },
    {
     "name": "stderr",
     "output_type": "stream",
     "text": [
      "10176it [00:00, 65921.04it/s]\n"
     ]
    },
    {
     "name": "stdout",
     "output_type": "stream",
     "text": [
      "php-00000-of-00001.jsonl 195982\n"
     ]
    },
    {
     "name": "stderr",
     "output_type": "stream",
     "text": [
      "10187it [00:00, 57545.36it/s]\n"
     ]
    },
    {
     "name": "stdout",
     "output_type": "stream",
     "text": [
      "swift-00000-of-00001.jsonl 203076\n"
     ]
    },
    {
     "name": "stderr",
     "output_type": "stream",
     "text": [
      "13843it [00:00, 64574.69it/s]\n"
     ]
    },
    {
     "name": "stdout",
     "output_type": "stream",
     "text": [
      "cuda-00000-of-00001.jsonl 211002\n"
     ]
    },
    {
     "name": "stderr",
     "output_type": "stream",
     "text": [
      "12790it [00:00, 62362.56it/s]"
     ]
    },
    {
     "name": "stdout",
     "output_type": "stream",
     "text": [
      "kotlin-00000-of-00001.jsonl 219018\n"
     ]
    },
    {
     "name": "stderr",
     "output_type": "stream",
     "text": [
      "\n"
     ]
    },
    {
     "data": {
      "text/plain": [
       "219018"
      ]
     },
     "execution_count": 3,
     "metadata": {},
     "output_type": "execute_result"
    }
   ],
   "source": [
    "filtered = []\n",
    "rejected = []\n",
    "\n",
    "for f in files:\n",
    "    with open(f) as fopen:\n",
    "        for l in tqdm(fopen):\n",
    "            l = json.loads(l)\n",
    "            if 'code snippet' in l['instruction']:\n",
    "                rejected.append(l)\n",
    "                continue\n",
    "            answer = l['answer'].split('\\n\\n')\n",
    "            if len(answer[0]) < 20:\n",
    "                answer = answer[1:]\n",
    "            answer = '\\n\\n'.join(answer)\n",
    "            if len(answer.split()) < 100:\n",
    "                continue\n",
    "            filtered.append((l['instruction'], answer))\n",
    "        print(f, len(filtered))\n",
    "len(filtered)"
   ]
  },
  {
   "cell_type": "code",
   "execution_count": 4,
   "id": "a70a6f00",
   "metadata": {},
   "outputs": [
    {
     "data": {
      "text/plain": [
       "373081"
      ]
     },
     "execution_count": 4,
     "metadata": {},
     "output_type": "execute_result"
    }
   ],
   "source": [
    "import json\n",
    "mapping = {}\n",
    "\n",
    "for f in glob('/home/husein/ssd3/ctranslate2/postfilter-wizardcoder.texts*.splitted.requested'):\n",
    "    with open(f) as fopen:\n",
    "        for l in fopen:\n",
    "            l = json.loads(l)\n",
    "            mapping[l['src']] = l['r']\n",
    "len(mapping)"
   ]
  },
  {
   "cell_type": "code",
   "execution_count": 5,
   "id": "d50daa4c",
   "metadata": {},
   "outputs": [],
   "source": [
    "with open('postfilter.jsonl', 'w') as fopen:\n",
    "    for l in filtered:\n",
    "        d = {\n",
    "            'instruction': l[0],\n",
    "            'instruction_ms': mapping.get(l[0]),\n",
    "            'answer': l[1],\n",
    "            'answer_ms': mapping.get(l[1]),\n",
    "        }\n",
    "        fopen.write(f'{json.dumps(d)}\\n')"
   ]
  },
  {
   "cell_type": "code",
   "execution_count": 6,
   "id": "c320afbc",
   "metadata": {},
   "outputs": [
    {
     "name": "stdout",
     "output_type": "stream",
     "text": [
      "{\"instruction\": \"We have a `DialogFragment` named `AlimentAddDialogFragment` that allows users to add an `Aliment` item to a list. The `Aliment` class contains a list of `AlimentState` objects, and each `AlimentState` has several `AlimentStateMeasure` objects associated with it. These `AlimentStateMeasure` objects contain a `measure` and a `quantity`.\\n\\nWhen a user selects an `AlimentState`, the dialog shows a spinner with the names of all measures associated with the selected `AlimentState`, and a quantity `EditText`. The user can choose a measure and input a quantity to be associated with the selected `AlimentState`. The dialog then calls the `onClick` function of its `Listener` interface, which takes the `AlimentState` and the computed quantity as parameters.\\n\\nThe problem arises when the user inputs a decimal quantity instead of an integer. The current implementation truncates the decimal part and the user loses the information. Your task is to modify the `AlimentAddDialogFragment` to handle decimal quantities accurately.\", \"instruction_ms\": \"Kami mempunyai `DialogFragment` bernama `AlimentAddDialogFragment` yang membolehkan pengguna menambah item `Aliment` ke dalam senarai. Kelas `Aliment` mengandungi senarai objek `AlimentState`, dan setiap `AlimentState` mempunyai beberapa objek `AlimentStateMeasure` yang berkaitan dengannya. Objek `AlimentStateMeasure` ini mengandungi `measure` dan `quantity`.\\n\\nApabila pengguna memilih `AlimentState`, dialog menunjukkan spinner dengan nama semua ukuran yang berkaitan dengan `AlimentState` yang dipilih, dan kuantiti `EditText`. Pengguna boleh memilih ukuran dan memasukkan kuantiti yang akan dikaitkan dengan `AlimentState` yang dipilih. Dialog kemudian memanggil fungsi `onClick` antara muka `Listener`nya, yang mengambil `AlimentState` dan kuantiti yang dikira sebagai parameter.\\n\\nMasalah timbul apabila pengguna memasukkan kuantiti perpuluhan sebagai gantinya integer. Pelaksanaan semasa mengurangkan bahagian perpuluhan dan pengguna kehilangan maklumat. Tugas anda adalah untuk mengubah `AlimentAddDialogFragment` untuk mengendalikan kuantiti perpuluhan dengan tepat.\", \"answer\": \"First, modify the `SingleLineItemViewHolder` constructor to accept and store the `AlimentStateMeasure` list associated with each `AlimentState`.\\n\\nNext, modify the `AlimentAddDialogFragment` `onCreateDialog` method to store the selected `AlimentStateMeasure` object alongside the `AlimentState` in the `ClickListener`:\\n\\n```kotlin\\nrecyclerView.addOnItemTouchListener(RecyclerItemClickListener(requireContext(), recyclerView, object: RecyclerItemClickListener.OnItemClickListener {\\n    override fun onItemClick(view: View, position: Int) {\\n        val alimentState = adapter.getAtPosition(position)\\n        val spinnerChoices = alimentState.measures.map { it.measure.getName() }.toMutableList()\\n        spinnerChoices.add(\\\"g\\\")\\n        val spinnerChoicesQuantity = alimentState.measures.map { it.quantity }.toMutableList()\\n\\n        linearLayout.visibility = View.VISIBLE\\n\\n        val spinnerAdapter = ArrayAdapter(requireContext(), android.R.layout.simple_spinner_item, spinnerChoices)\\n        spinner.adapter = spinnerAdapter\\n\\n        button.setOnClickListener {\\n            val selectedMeasure = alimentState.measures[spinner.selectedItemPosition]\\n            val computedQuantity = quantity.text.toString().toFloat() * selectedMeasure.quantity\\n            listener.onClick(alimentState, computedQuantity)\\n            d.dismiss()\\n        }\\n    }\\n}))\\n```\\n\\nModify the `Listener` interface and the `onClick` function to accept a `Float` quantity instead of an `Int`. No changes are needed in the activity-side implementation of the listener.\\n\\nThis solution allows for accurate handling of decimal quantities and retains the information during the conversion process.\", \"answer_ms\": \"Pertama, ubah konstruktor `SingleLineItemViewHolder` untuk menerima dan menyimpan senarai `AlimentStateMeasure` yang berkaitan dengan setiap `AlimentState`.\\n\\nSeterusnya, ubah kaedah `onCreateDialog` `AlimentAddDialogFragment` untuk menyimpan objek `AlimentStateMeasure` yang dipilih bersama `AlimentState` dalam `ClickListener`:\\n\\n```kotlin\\nrecyclerView.addOnItemTouchListener(RecyclerItemClickListener(requireContext(), recyclerView, object: RecyclerItemClickListener.OnItemClickListener {\\n    override fun onItemClick(view: View, position: Int) {\\n        val alimentState = adapter.getAtPosition(position)\\n        val spinnerChoices = alimentState.measures.map { it.measure.getName() }.toMutableList()\\n        spinnerChoices.add(\\\"g\\\")\\n        val spinnerChoicesQuantity = alimentState.measures.map { it.quantity }.toMutableList()\\n\\n        linearLayout.visibility = View.VISIBLE\\n\\n        val spinnerAdapter = ArrayAdapter(requireContext(), android.R.layout.simple_spinner_item, spinnerChoices)\\n        spinner.adapter = spinnerAdapter\\n\\n        button.setOnClickListener {\\n            val selectedMeasure = alimentState.measures[spinner.selectedItemPosition]\\n            val computedQuantity = quantity.text.toString().toFloat() * selectedMeasure.quantity\\n            listener.onClick(alimentState, computedQuantity)\\n            d.dismiss()\\n        }\\n    }\\n}))\\n```\\n\\nUbah antara muka `Listener` dan fungsi `onClick` untuk menerima kuantiti `Float` sebagai gantinya daripada `Int`. Tiada perubahan diperlukan dalam pelaksanaan aktiviti pendengar.\\n\\nPenyelesaian ini membolehkan pengendalian kuantiti perpuluhan yang tepat dan mengekalkan maklumat semasa proses penukaran.\"}\r\n",
      "{\"instruction\": \"In a Git repository, there are multiple libraries, each with its version file (`version.gradle.kts`). The task is to create a mechanism that can stage these version files for commit. The desired behavior is to only stage the version file of a particular library, not affecting other libraries' files. The solution should follow these requirements:\\n\\n1. It should be possible to specify a library for which the version file should be staged.\\n2. The solution should provide a way to obtain the paths of the files to stage.\\n3. The paths returned should consist of the relative path to the Git repository root.\\n4. The solution should not commit the changes; it should only stage the files for commit.\\n5. All files should be staged as-is, i.e., the `--patch` option, allowing partial staging of changes, is not required.\", \"instruction_ms\": \"Dalam repositori Git, terdapat beberapa perpustakaan, setiap satu mempunyai fail versi (`version.gradle.kts`). Tugasnya adalah untuk mencipta mekanisme yang boleh meningkatkan fail versi ini untuk komit. Tingkah laku yang diinginkan adalah untuk hanya meningkatkan fail versi perpustakaan tertentu, tidak menjejaskan fail perpustakaan lain. Penyelesaian harus mematuhi keperluan ini:\\n\\n1. Adalah mungkin untuk menentukan perpustakaan yang mana fail versi harus dipentaskan.\\n2. Penyelesaian harus menyediakan cara untuk mendapatkan laluan fail ke peringkat.\\n3. Laluan yang dikembalikan harus terdiri daripada laluan relatif ke akar repositori Git.\\n4. Penyelesaian tidak sepatutnya melakukan perubahan; ia hanya perlu meningkatkan fail untuk komit.\\n5. Semua fail harus dipentaskan sebagai-is, iaitu, pilihan `--patch`, membenarkan peningkatan separa perubahan, tidak diperlukan.\", \"answer\": \"First, let's define the `Library` class for the libraries within the Git repository:\\n\\n```kotlin\\ndata class Library(\\n    val name: String,\\n    val repository: GitRepository,\\n    val versionFile: VersionFileInfo,\\n)\\n```\\n\\nHere, `GitRepository` represents a Git repository, and `VersionFileInfo` contains information about the version file of a library:\\n\\n```kotlin\\ninterface GitRepository {\\n    fun localGitRepository(): Repository\\n    fun localRootPath(): Path\\n}\\n\\ndata class VersionFileInfo(\\n    val file: File,\\n)\\n```\\n\\nNow, we can create the `FilesToStage` interface, which allows staging the version file of a specific library for commit:\\n\\n```kotlin\\ninterface FilesToStage {\\n    fun paths(): Set<Path>\\n    fun repository(): Repository\\n}\\n\\nclass VersionFileStager(\\n    private val library: Library,\\n) : FilesToStage {\\n\\n    override fun paths(): Set<Path> {\\n        return setOf(relativeVersionPath())\\n    }\\n\\n    override fun repository(): Repository {\\n        return library.repository.localGitRepository()\\n    }\\n\\n    private fun relativeVersionPath(): Path {\\n        val versionFilePath = library.versionFile.file.toPath()\\n        return library.repository.localRootPath().relativize(versionFilePath)\\n    }\\n}\\n```\\n\\nThe `VersionFileStager` class takes a library as its constructor argument, implements the `FilesToStage` interface, and returns the relative path to the version file within the Git repository. This can be used to stage the version file for commit.\\n\\nLastly, to stage and commit the version file for a specific library, one can use the following code:\\n\\n```kotlin\\nfun stageAndCommitVersionFile(library: Library, commitMessage: String) {\\n    val stager = VersionFileStager(library)\\n    Git.stage(stager)\\n    Git.commit(commitMessage, stager.repository())\\n}\\n```\\n\\nThis `stageAndCommitVersionFile` function accepts a library and a commit message as its parameters, creates a `VersionFileStager` instance for the library, and stages and commits the version file accordingly.\", \"answer_ms\": \"Pertama, mari kita tentukan kelas `Library` untuk perpustakaan dalam repositori Git:\\n\\n```kotlin\\ndata class Library(\\n    val name: String,\\n    val repository: GitRepository,\\n    val versionFile: VersionFileInfo,\\n)\\n```\\n\\nDi sini, `GitRepository` mewakili repositori Git, dan `VersionFileInfo` mengandungi maklumat tentang fail versi perpustakaan:\\n\\n```kotlin\\ninterface GitRepository {\\n    fun localGitRepository(): Repository\\n    fun localRootPath(): Path\\n}\\n\\ndata class VersionFileInfo(\\n    val file: File,\\n)\\n```\\n\\nSekarang, kita boleh membuat antara muka `FilesToStage`, yang membolehkan pementasan fail versi perpustakaan tertentu untuk commit:\\n\\n```kotlin\\ninterface FilesToStage {\\n    fun paths(): Set<Path>\\n    fun repository(): Repository\\n}\\n\\nclass VersionFileStager(\\n    private val library: Library,\\n) : FilesToStage {\\n\\n    override fun paths(): Set<Path> {\\n        return setOf(relativeVersionPath())\\n    }\\n\\n    override fun repository(): Repository {\\n        return library.repository.localGitRepository()\\n    }\\n\\n    private fun relativeVersionPath(): Path {\\n        val versionFilePath = library.versionFile.file.toPath()\\n        return library.repository.localRootPath().relativize(versionFilePath)\\n    }\\n}\\n```\\n\\nKelas `VersionFileStager` mengambil perpustakaan sebagai argumen konstruktornya, melaksanakan antara muka `FilesToStage`, dan mengembalikan laluan relatif ke fail versi dalam repositori Git. Ini boleh digunakan untuk mengatur fail versi untuk commit.\\n\\nAkhir sekali, untuk mengatur dan mengkomit fail versi untuk perpustakaan tertentu, seseorang boleh menggunakan kod berikut:\\n\\n```kotlin\\nfun stageAndCommitVersionFile(library: Library, commitMessage: String) {\\n    val stager = VersionFileStager(library)\\n    Git.stage(stager)\\n    Git.commit(commitMessage, stager.repository())\\n}\\n```\\n\\nFungsi `stageAndCommitVersionFile` ini menerima perpustakaan dan mesej commit sebagai parameternya, mencipta contoh `VersionFileStager` untuk perpustakaan, dan mengatur dan mengkomit fail versi mengikutnya.\"}\r\n",
      "{\"instruction\": \"The task is to implement a simple Gradle plugin that applies some configuration to the `HelmExecSpec` object based on the provided `HelmServerOptions` object.\\n\\nHere are the requirements for this problem:\\n\\n1. Define a new interface `CustomHelmServerOptions` extending the `HelmServerOptions` interface. This new interface should contain two additional properties:\\n   * `boolVal`: A `Property` of type `Boolean`.\\n   * `intVal`: A `Property` of type `Int`.\\n2. Implement the `CustomHelmServerOptions` interface in a new class called `CustomHelmServerOptionsImpl`. In this class, initialize the `boolVal` and `intVal` properties with default values of `false` and `10`, respectively.\\n3. Modify the existing `HelmServerOptionsApplier` object by adding conditions inside the `apply` method to check for the presence of the `boolVal` and `intVal` properties in the provided `CustomHelmServerOptions` object. If both properties are present, apply them to the `HelmExecSpec` object:\\n   * If `boolVal` is `true`, set an environment variable called `CUSTOM_VAR` to `true`.\\n   * Set an environment variable called `CUSTOM_INT_VAR` to the value of `intVal`.\", \"instruction_ms\": \"Tugas ini adalah untuk melaksanakan plugin Gradle yang mudah yang mengaplikasikan beberapa konfigurasi ke objek `HelmExecSpec` berdasarkan objek `HelmServerOptions` yang diberikan.\\n\\nBerikut adalah keperluan untuk masalah ini:\\n\\n1. Tentukan antara muka baru `CustomHelmServerOptions` yang meluaskan antara muka `HelmServerOptions`. Antara muka baru ini harus mengandungi dua sifat tambahan:\\n   * `boolVal`: `Property` dengan jenis `Boolean`.\\n   * `intVal`: `Property` dengan jenis `Int`.\\n2. Laksanakan antara muka `CustomHelmServerOptions` dalam kelas baru yang dipanggil `CustomHelmServerOptionsImpl`. Dalam kelas ini, inisialisasi sifat `boolVal` dan `intVal` dengan nilai lalai `false` dan `10`, masing-masing.\\n3. Ubah objek `HelmServerOptionsApplier` yang sedia ada dengan menambahkan syarat di dalam kaedah `apply` untuk memeriksa kehadiran sifat `boolVal` dan `intVal` dalam objek `CustomHelmServerOptions` yang diberikan. Jika kedua-dua sifat hadir, mengaplikasikannya ke objek `HelmExecSpec`:\\n   * Jika `boolVal` adalah `true`, tetapkan pembolehubah persekitaran yang dipanggil `CUSTOM_VAR` kepada `true`.\\n   * Tetapkan pembolehubah persekitaran yang dipanggil `CUSTOM_INT_VAR` kepada nilai `intVal`.\", \"answer\": \"First, we'll create the `CustomHelmServerOptions` interface:\\n\\n```kotlin\\ninterface CustomHelmServerOptions : HelmServerOptions {\\n    val boolVal: Property<Boolean>\\n    val intVal: Property<Int>\\n}\\n```\\n\\nNext, we'll implement this interface:\\n\\n```kotlin\\ninternal class CustomHelmServerOptionsImpl(\\n    objects: ObjectFactory,\\n    kubeConfig: RegularFileProperty,\\n    kubeContext: Property<String>,\\n    namespace: Property<String>\\n) : ConfigurableHelmServerOptions, CustomHelmServerOptions {\\n    override val boolVal: Property<Boolean> = objects.property(false)\\n    override val intVal: Property<Int> = objects.property(10)\\n\\n    constructor(objects: ObjectFactory)\\n    : this(\\n        objects,\\n        objects.fileProperty(),\\n        objects.property(),\\n        objects.property()\\n    )\\n}\\n```\\n\\nLastly, we'll modify the `HelmServerOptionsApplier` object:\\n\\n```kotlin\\ninternal object HelmServerOptionsApplier : HelmOptionsApplier {\\n\\n    private val logger = LoggerFactory.getLogger(javaClass)\\n\\n    override fun apply(spec: HelmExecSpec, options: HelmOptions) {\\n        if (options is CustomHelmServerOptions) {\\n            logger.debug(\\\"Applying options: {}\\\", options)\\n\\n            with(spec) {\\n                if (options.boolVal.get()) {\\n                    environment(\\\"CUSTOM_VAR\\\", \\\"true\\\")\\n                }\\n\\n                options.intVal.get().let { customIntValue ->\\n                    environment(\\\"CUSTOM_INT_VAR\\\", customIntValue)\\n                }\\n\\n                option(\\\"--kube-context\\\", options.kubeContext)\\n                option(\\\"--namespace\\\", options.namespace)\\n                environment(\\\"KUBECONFIG\\\", options.kubeConfig)\\n            }\\n        }\\n    }\\n}\\n```\", \"answer_ms\": \"Pertama, kami akan membuat antara muka `CustomHelmServerOptions`:\\n\\n```kotlin\\ninterface CustomHelmServerOptions : HelmServerOptions {\\n    val boolVal: Property<Boolean>\\n    val intVal: Property<Int>\\n}\\n```\\n\\nSeterusnya, kami akan melaksanakan antara muka ini:\\n\\n```kotlin\\ninternal class CustomHelmServerOptionsImpl(\\n    objects: ObjectFactory,\\n    kubeConfig: RegularFileProperty,\\n    kubeContext: Property<String>,\\n    namespace: Property<String>\\n) : ConfigurableHelmServerOptions, CustomHelmServerOptions {\\n    override val boolVal: Property<Boolean> = objects.property(false)\\n    override val intVal: Property<Int> = objects.property(10)\\n\\n    constructor(objects: ObjectFactory)\\n    : this(\\n        objects,\\n        objects.fileProperty(),\\n        objects.property(),\\n        objects.property()\\n    )\\n}\\n```\\n\\nAkhirnya, kami akan mengubah objek `HelmServerOptionsApplier`:\\n\\n```kotlin\\ninternal object HelmServerOptionsApplier : HelmOptionsApplier {\\n\\n    private val logger = LoggerFactory.getLogger(javaClass)\\n\\n    override fun apply(spec: HelmExecSpec, options: HelmOptions) {\\n        if (options is CustomHelmServerOptions) {\\n            logger.debug(\\\"Applying options: {}\\\", options)\\n\\n            with(spec) {\\n                if (options.boolVal.get()) {\\n                    environment(\\\"CUSTOM_VAR\\\", \\\"true\\\")\\n                }\\n\\n                options.intVal.get().let { customIntValue ->\\n                    environment(\\\"CUSTOM_INT_VAR\\\", customIntValue)\\n                }\\n\\n                option(\\\"--kube-context\\\", options.kubeContext)\\n                option(\\\"--namespace\\\", options.namespace)\\n                environment(\\\"KUBECONFIG\\\", options.kubeConfig)\\n            }\\n        }\\n    }\\n}\\n```\"}\r\n"
     ]
    }
   ],
   "source": [
    "!tail -n 3 postfilter.jsonl"
   ]
  },
  {
   "cell_type": "code",
   "execution_count": 7,
   "id": "25ba950d",
   "metadata": {},
   "outputs": [
    {
     "name": "stderr",
     "output_type": "stream",
     "text": [
      "/home/husein/.local/lib/python3.8/site-packages/requests/__init__.py:102: RequestsDependencyWarning: urllib3 (1.26.15) or chardet (5.2.0)/charset_normalizer (2.0.7) doesn't match a supported version!\n",
      "  warnings.warn(\"urllib3 ({}) or chardet ({})/charset_normalizer ({}) doesn't match a supported \"\n"
     ]
    }
   ],
   "source": [
    "from huggingface_hub import HfApi\n",
    "api = HfApi()"
   ]
  },
  {
   "cell_type": "code",
   "execution_count": 8,
   "id": "bd9db96b",
   "metadata": {},
   "outputs": [
    {
     "data": {
      "application/vnd.jupyter.widget-view+json": {
       "model_id": "c2d79b735b5c48e28324f9fde1464d92",
       "version_major": 2,
       "version_minor": 0
      },
      "text/plain": [
       "postfilter.jsonl:   0%|          | 0.00/1.46G [00:00<?, ?B/s]"
      ]
     },
     "metadata": {},
     "output_type": "display_data"
    },
    {
     "data": {
      "text/plain": [
       "CommitInfo(commit_url='https://huggingface.co/datasets/mesolitica/mixtral-magicoder/commit/9b8b5b071273e3285f097021f8b91cb74f0aa8a1', commit_message='Upload postfilter.jsonl with huggingface_hub', commit_description='', oid='9b8b5b071273e3285f097021f8b91cb74f0aa8a1', pr_url=None, pr_revision=None, pr_num=None)"
      ]
     },
     "execution_count": 8,
     "metadata": {},
     "output_type": "execute_result"
    }
   ],
   "source": [
    "api.upload_file(\n",
    "    path_or_fileobj='postfilter.jsonl',\n",
    "    path_in_repo='postfilter.jsonl',\n",
    "    repo_id='mesolitica/mixtral-wizardcoder',\n",
    "    repo_type='dataset',\n",
    ")"
   ]
  },
  {
   "cell_type": "code",
   "execution_count": null,
   "id": "85aaa7d2",
   "metadata": {},
   "outputs": [],
   "source": []
  }
 ],
 "metadata": {
  "kernelspec": {
   "display_name": "Python 3 (ipykernel)",
   "language": "python",
   "name": "python3"
  },
  "language_info": {
   "codemirror_mode": {
    "name": "ipython",
    "version": 3
   },
   "file_extension": ".py",
   "mimetype": "text/x-python",
   "name": "python",
   "nbconvert_exporter": "python",
   "pygments_lexer": "ipython3",
   "version": "3.8.10"
  }
 },
 "nbformat": 4,
 "nbformat_minor": 5
}
