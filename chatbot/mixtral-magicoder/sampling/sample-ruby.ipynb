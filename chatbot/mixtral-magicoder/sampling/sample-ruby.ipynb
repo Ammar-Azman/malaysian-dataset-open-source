{
 "cells": [
  {
   "cell_type": "code",
   "execution_count": 2,
   "id": "bbe7bd77",
   "metadata": {},
   "outputs": [
    {
     "data": {
      "application/vnd.jupyter.widget-view+json": {
       "model_id": "6018df295b1d49a3a3ad59904aba6a19",
       "version_major": 2,
       "version_minor": 0
      },
      "text/plain": [
       "Resolving data files:   0%|          | 0/19 [00:00<?, ?it/s]"
      ]
     },
     "metadata": {},
     "output_type": "display_data"
    }
   ],
   "source": [
    "from datasets import load_dataset\n",
    "\n",
    "dataset = load_dataset(\n",
    "    \"bigcode/the-stack-dedup\",\n",
    "    split = 'train', \n",
    "    data_dir=\"data/ruby\", \n",
    "    streaming = True,\n",
    "    use_auth_token = ''\n",
    ")"
   ]
  },
  {
   "cell_type": "code",
   "execution_count": 3,
   "id": "ded9704b",
   "metadata": {},
   "outputs": [
    {
     "name": "stderr",
     "output_type": "stream",
     "text": [
      "346571it [08:34, 673.46it/s] \n"
     ]
    }
   ],
   "source": [
    "from tqdm import tqdm\n",
    "import json\n",
    "\n",
    "index = 0\n",
    "with open('ruby.jsonl', 'w') as fopen:\n",
    "    for sample in tqdm(iter(dataset)):\n",
    "        if len(sample['content'].split()) >= 150:\n",
    "            fopen.write(f'{json.dumps(sample)}\\n')\n",
    "            index += 1\n",
    "            if index >= 100000:\n",
    "                break"
   ]
  },
  {
   "cell_type": "code",
   "execution_count": 6,
   "id": "020670e8",
   "metadata": {},
   "outputs": [
    {
     "name": "stdout",
     "output_type": "stream",
     "text": [
      "{\"hexsha\": \"fadc028517fb6ad8cd255790dea3c7016ef5e433\", \"size\": 2522, \"ext\": \"rb\", \"lang\": \"Ruby\", \"max_stars_repo_path\": \"Formula/heartbeat.rb\", \"max_stars_repo_name\": \"ktakayama/homebrew-core\", \"max_stars_repo_head_hexsha\": \"4fcd38ceae0b6043289018fd32a9c324511fe6c1\", \"max_stars_repo_licenses\": [\"BSD-2-Clause\"], \"max_stars_count\": null, \"max_stars_repo_stars_event_min_datetime\": null, \"max_stars_repo_stars_event_max_datetime\": null, \"max_issues_repo_path\": \"Formula/heartbeat.rb\", \"max_issues_repo_name\": \"ktakayama/homebrew-core\", \"max_issues_repo_head_hexsha\": \"4fcd38ceae0b6043289018fd32a9c324511fe6c1\", \"max_issues_repo_licenses\": [\"BSD-2-Clause\"], \"max_issues_count\": null, \"max_issues_repo_issues_event_min_datetime\": null, \"max_issues_repo_issues_event_max_datetime\": null, \"max_forks_repo_path\": \"Formula/heartbeat.rb\", \"max_forks_repo_name\": \"ktakayama/homebrew-core\", \"max_forks_repo_head_hexsha\": \"4fcd38ceae0b6043289018fd32a9c324511fe6c1\", \"max_forks_repo_licenses\": [\"BSD-2-Clause\"], \"max_forks_count\": null, \"max_forks_repo_forks_event_min_datetime\": null, \"max_forks_repo_forks_event_max_datetime\": null, \"content\": \"class Heartbeat < Formula\\n  desc \\\"Lightweight Shipper for Uptime Monitoring\\\"\\n  homepage \\\"https://www.elastic.co/beats/heartbeat\\\"\\n  url \\\"https://github.com/elastic/beats.git\\\",\\n      tag:      \\\"v7.14.2\\\",\\n      revision: \\\"574c21d25ddb65a63665ac26b54799f81a7e9706\\\"\\n  license \\\"Apache-2.0\\\"\\n  head \\\"https://github.com/elastic/beats.git\\\"\\n\\n  bottle do\\n    sha256 cellar: :any_skip_relocation, arm64_big_sur: \\\"7c714ce99c9a9ff1422c01230fc53510317a660c01cb266e330eeeb1847fd385\\\"\\n    sha256 cellar: :any_skip_relocation, big_sur:       \\\"aa26dcdd586875f7cebd5fb8d5f59fb44d3f9dfa6aa44700fd22ce2d893ec874\\\"\\n    sha256 cellar: :any_skip_relocation, catalina:      \\\"7558c0ac4f301a877b536cdb3045ec7f4a6ed48b23f5dd7d82c0fed3b4e37be8\\\"\\n    sha256 cellar: :any_skip_relocation, mojave:        \\\"854ac7aca016e88045d4517a900a30d115866c8a04a4cfdecad1f3bbb09b9ef2\\\"\\n  end\\n\\n  depends_on \\\"go\\\" => :build\\n  depends_on \\\"mage\\\" => :build\\n  depends_on \\\"python@3.9\\\" => :build\\n\\n  def install\\n    # remove non open source files\\n    rm_rf \\\"x-pack\\\"\\n\\n    cd \\\"heartbeat\\\" do\\n      # prevent downloading binary wheels during python setup\\n      system \\\"make\\\", \\\"PIP_INSTALL_PARAMS=--no-binary :all\\\", \\\"python-env\\\"\\n      system \\\"mage\\\", \\\"-v\\\", \\\"build\\\"\\n      ENV.deparallelize\\n      system \\\"mage\\\", \\\"-v\\\", \\\"update\\\"\\n\\n      (etc/\\\"heartbeat\\\").install Dir[\\\"heartbeat.*\\\", \\\"fields.yml\\\"]\\n      (libexec/\\\"bin\\\").install \\\"heartbeat\\\"\\n    end\\n\\n    (bin/\\\"heartbeat\\\").write <<~EOS\\n      #!/bin/sh\\n      exec #{libexec}/bin/heartbeat \\\\\\n        --path.config #{etc}/heartbeat \\\\\\n        --path.data #{var}/lib/heartbeat \\\\\\n        --path.home #{prefix} \\\\\\n        --path.logs #{var}/log/heartbeat \\\\\\n        \\\"$@\\\"\\n    EOS\\n  end\\n\\n  def post_install\\n    (var/\\\"lib/heartbeat\\\").mkpath\\n    (var/\\\"log/heartbeat\\\").mkpath\\n  end\\n\\n  service do\\n    run opt_bin/\\\"heartbeat\\\"\\n  end\\n\\n  test do\\n    port = free_port\\n\\n    (testpath/\\\"config/heartbeat.yml\\\").write <<~EOS\\n      heartbeat.monitors:\\n      - type: tcp\\n        schedule: '@every 5s'\\n        hosts: [\\\"localhost:#{port}\\\"]\\n        check.send: \\\"hello\\\\\\\\n\\\"\\n        check.receive: \\\"goodbye\\\\\\\\n\\\"\\n      output.file:\\n        path: \\\"#{testpath}/heartbeat\\\"\\n        filename: heartbeat\\n        codec.format:\\n          string: '%{[monitor]}'\\n    EOS\\n    fork do\\n      exec bin/\\\"heartbeat\\\", \\\"-path.config\\\", testpath/\\\"config\\\", \\\"-path.data\\\",\\n                            testpath/\\\"data\\\"\\n    end\\n    sleep 5\\n    assert_match \\\"hello\\\", pipe_output(\\\"nc -l #{port}\\\", \\\"goodbye\\\\n\\\", 0)\\n    sleep 5\\n    assert_match \\\"\\\\\\\"status\\\\\\\":\\\\\\\"up\\\\\\\"\\\", (testpath/\\\"heartbeat/heartbeat\\\").read\\n  end\\nend\\n\", \"avg_line_length\": 30.756097561, \"max_line_length\": 122, \"alphanum_fraction\": 0.6419508327}\r\n"
     ]
    }
   ],
   "source": [
    "!head -n 1 ruby.jsonl"
   ]
  },
  {
   "cell_type": "code",
   "execution_count": 1,
   "id": "6b0d0fb3",
   "metadata": {},
   "outputs": [],
   "source": [
    "from huggingface_hub import HfApi\n",
    "api = HfApi()"
   ]
  },
  {
   "cell_type": "code",
   "execution_count": 2,
   "id": "ae40d85b",
   "metadata": {},
   "outputs": [
    {
     "data": {
      "text/plain": [
       "CommitInfo(commit_url='https://huggingface.co/datasets/malaysia-ai/starcoderdata-sample/commit/4c84a17906727196c70a223b272eb627671c9ce6', commit_message='Upload ruby.jsonl with huggingface_hub', commit_description='', oid='4c84a17906727196c70a223b272eb627671c9ce6', pr_url=None, pr_revision=None, pr_num=None)"
      ]
     },
     "execution_count": 2,
     "metadata": {},
     "output_type": "execute_result"
    }
   ],
   "source": [
    "api.upload_file(\n",
    "    path_or_fileobj='ruby.jsonl',\n",
    "    path_in_repo='ruby.jsonl',\n",
    "    repo_id='malaysia-ai/starcoderdata-sample',\n",
    "    repo_type='dataset',\n",
    ")"
   ]
  },
  {
   "cell_type": "code",
   "execution_count": null,
   "id": "fc179c07",
   "metadata": {},
   "outputs": [],
   "source": []
  }
 ],
 "metadata": {
  "kernelspec": {
   "display_name": "Python 3 (ipykernel)",
   "language": "python",
   "name": "python3"
  },
  "language_info": {
   "codemirror_mode": {
    "name": "ipython",
    "version": 3
   },
   "file_extension": ".py",
   "mimetype": "text/x-python",
   "name": "python",
   "nbconvert_exporter": "python",
   "pygments_lexer": "ipython3",
   "version": "3.10.12"
  }
 },
 "nbformat": 4,
 "nbformat_minor": 5
}
