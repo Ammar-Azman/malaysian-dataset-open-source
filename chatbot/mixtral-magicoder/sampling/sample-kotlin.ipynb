{
 "cells": [
  {
   "cell_type": "code",
   "execution_count": 1,
   "id": "83af63dd",
   "metadata": {},
   "outputs": [
    {
     "name": "stderr",
     "output_type": "stream",
     "text": [
      "/home/ubuntu/.local/lib/python3.10/site-packages/datasets/load.py:2479: FutureWarning: 'use_auth_token' was deprecated in favor of 'token' in version 2.14.0 and will be removed in 3.0.0.\n",
      "You can remove this warning by passing 'token=<use_auth_token>' instead.\n",
      "  warnings.warn(\n"
     ]
    }
   ],
   "source": [
    "from datasets import load_dataset\n",
    "\n",
    "dataset = load_dataset(\n",
    "    \"bigcode/the-stack-dedup\",\n",
    "    split = 'train', \n",
    "    data_dir=\"data/kotlin\", \n",
    "    streaming = True,\n",
    "    use_auth_token = ''\n",
    ")"
   ]
  },
  {
   "cell_type": "code",
   "execution_count": 2,
   "id": "7d822268",
   "metadata": {},
   "outputs": [
    {
     "name": "stderr",
     "output_type": "stream",
     "text": [
      "453857it [09:42, 779.66it/s] \n"
     ]
    }
   ],
   "source": [
    "from tqdm import tqdm\n",
    "import json\n",
    "\n",
    "index = 0\n",
    "with open('kotlin.jsonl', 'w') as fopen:\n",
    "    for sample in tqdm(iter(dataset)):\n",
    "        if len(sample['content'].split()) >= 120:\n",
    "            fopen.write(f'{json.dumps(sample)}\\n')\n",
    "            index += 1\n",
    "            if index >= 200000:\n",
    "                break"
   ]
  },
  {
   "cell_type": "code",
   "execution_count": 3,
   "id": "5ec5305a",
   "metadata": {},
   "outputs": [],
   "source": [
    "from huggingface_hub import HfApi\n",
    "api = HfApi()"
   ]
  },
  {
   "cell_type": "code",
   "execution_count": 4,
   "id": "d0f33fcb",
   "metadata": {},
   "outputs": [
    {
     "data": {
      "application/vnd.jupyter.widget-view+json": {
       "model_id": "587affca84e74b978ceca808d94a5209",
       "version_major": 2,
       "version_minor": 0
      },
      "text/plain": [
       "kotlin.jsonl:   0%|          | 0.00/1.34G [00:00<?, ?B/s]"
      ]
     },
     "metadata": {},
     "output_type": "display_data"
    },
    {
     "data": {
      "text/plain": [
       "CommitInfo(commit_url='https://huggingface.co/datasets/malaysia-ai/starcoderdata-sample/commit/7a025b6af1cfe75e20ade05708304d5dd3b5b426', commit_message='Upload kotlin.jsonl with huggingface_hub', commit_description='', oid='7a025b6af1cfe75e20ade05708304d5dd3b5b426', pr_url=None, pr_revision=None, pr_num=None)"
      ]
     },
     "execution_count": 4,
     "metadata": {},
     "output_type": "execute_result"
    }
   ],
   "source": [
    "api.upload_file(\n",
    "    path_or_fileobj='kotlin.jsonl',\n",
    "    path_in_repo='kotlin.jsonl',\n",
    "    repo_id='malaysia-ai/starcoderdata-sample',\n",
    "    repo_type='dataset',\n",
    ")"
   ]
  }
 ],
 "metadata": {
  "kernelspec": {
   "display_name": "Python 3 (ipykernel)",
   "language": "python",
   "name": "python3"
  },
  "language_info": {
   "codemirror_mode": {
    "name": "ipython",
    "version": 3
   },
   "file_extension": ".py",
   "mimetype": "text/x-python",
   "name": "python",
   "nbconvert_exporter": "python",
   "pygments_lexer": "ipython3",
   "version": "3.10.12"
  }
 },
 "nbformat": 4,
 "nbformat_minor": 5
}
