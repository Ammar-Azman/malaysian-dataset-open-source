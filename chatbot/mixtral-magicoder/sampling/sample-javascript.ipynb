{
 "cells": [
  {
   "cell_type": "code",
   "execution_count": 1,
   "id": "bbe7bd77",
   "metadata": {},
   "outputs": [
    {
     "name": "stderr",
     "output_type": "stream",
     "text": [
      "/home/ubuntu/.local/lib/python3.10/site-packages/datasets/load.py:2479: FutureWarning: 'use_auth_token' was deprecated in favor of 'token' in version 2.14.0 and will be removed in 3.0.0.\n",
      "You can remove this warning by passing 'token=<use_auth_token>' instead.\n",
      "  warnings.warn(\n"
     ]
    },
    {
     "data": {
      "application/vnd.jupyter.widget-view+json": {
       "model_id": "f1dfb89058034ce584b9a7ff3e99fd6f",
       "version_major": 2,
       "version_minor": 0
      },
      "text/plain": [
       "Resolving data files:   0%|          | 0/310 [00:00<?, ?it/s]"
      ]
     },
     "metadata": {},
     "output_type": "display_data"
    }
   ],
   "source": [
    "from datasets import load_dataset\n",
    "\n",
    "dataset = load_dataset(\n",
    "    \"bigcode/the-stack-dedup\",\n",
    "    split = 'train', \n",
    "    data_dir=\"data/javascript\", \n",
    "    streaming = True,\n",
    "    use_auth_token = ''\n",
    ")"
   ]
  },
  {
   "cell_type": "code",
   "execution_count": null,
   "id": "ded9704b",
   "metadata": {},
   "outputs": [
    {
     "name": "stderr",
     "output_type": "stream",
     "text": [
      "594630it [21:15, 1416.78it/s]"
     ]
    }
   ],
   "source": [
    "from tqdm import tqdm\n",
    "import json\n",
    "\n",
    "index = 0\n",
    "with open('javascript.jsonl', 'w') as fopen:\n",
    "    for sample in tqdm(iter(dataset)):\n",
    "        if len(sample['content'].split()) >= 150:\n",
    "            fopen.write(f'{json.dumps(sample)}\\n')\n",
    "            index += 1\n",
    "            if index >= 300000:\n",
    "                break"
   ]
  },
  {
   "cell_type": "code",
   "execution_count": 1,
   "id": "020670e8",
   "metadata": {},
   "outputs": [],
   "source": [
    "from huggingface_hub import HfApi\n",
    "api = HfApi()"
   ]
  },
  {
   "cell_type": "code",
   "execution_count": 2,
   "id": "5d6bddce",
   "metadata": {},
   "outputs": [
    {
     "data": {
      "application/vnd.jupyter.widget-view+json": {
       "model_id": "c6122e2ed0be4caaa3082dd93015d683",
       "version_major": 2,
       "version_minor": 0
      },
      "text/plain": [
       "javascript.jsonl:   0%|          | 0.00/4.15G [00:00<?, ?B/s]"
      ]
     },
     "metadata": {},
     "output_type": "display_data"
    },
    {
     "data": {
      "text/plain": [
       "CommitInfo(commit_url='https://huggingface.co/datasets/malaysia-ai/starcoderdata-sample/commit/c57e410dfa4b94fd70fd41c9c386ad4ce5dc6909', commit_message='Upload javascript.jsonl with huggingface_hub', commit_description='', oid='c57e410dfa4b94fd70fd41c9c386ad4ce5dc6909', pr_url=None, pr_revision=None, pr_num=None)"
      ]
     },
     "execution_count": 2,
     "metadata": {},
     "output_type": "execute_result"
    }
   ],
   "source": [
    "api.upload_file(\n",
    "    path_or_fileobj='javascript.jsonl',\n",
    "    path_in_repo='javascript.jsonl',\n",
    "    repo_id='malaysia-ai/starcoderdata-sample',\n",
    "    repo_type='dataset',\n",
    ")"
   ]
  },
  {
   "cell_type": "code",
   "execution_count": null,
   "id": "34bd471d",
   "metadata": {},
   "outputs": [],
   "source": []
  }
 ],
 "metadata": {
  "kernelspec": {
   "display_name": "Python 3 (ipykernel)",
   "language": "python",
   "name": "python3"
  },
  "language_info": {
   "codemirror_mode": {
    "name": "ipython",
    "version": 3
   },
   "file_extension": ".py",
   "mimetype": "text/x-python",
   "name": "python",
   "nbconvert_exporter": "python",
   "pygments_lexer": "ipython3",
   "version": "3.10.12"
  }
 },
 "nbformat": 4,
 "nbformat_minor": 5
}
