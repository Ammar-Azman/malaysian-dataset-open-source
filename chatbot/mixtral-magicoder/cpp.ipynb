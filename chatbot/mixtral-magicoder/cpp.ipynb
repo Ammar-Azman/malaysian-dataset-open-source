{
 "cells": [
  {
   "cell_type": "code",
   "execution_count": 1,
   "id": "72f779b8",
   "metadata": {},
   "outputs": [],
   "source": [
    "# !wget https://huggingface.co/datasets/malaysia-ai/starcoderdata-sample/resolve/main/cpp.jsonl"
   ]
  },
  {
   "cell_type": "code",
   "execution_count": 2,
   "id": "3cb5572a",
   "metadata": {},
   "outputs": [
    {
     "name": "stderr",
     "output_type": "stream",
     "text": [
      "/home/husein/.local/lib/python3.8/site-packages/requests/__init__.py:102: RequestsDependencyWarning: urllib3 (1.26.15) or chardet (5.2.0)/charset_normalizer (2.0.7) doesn't match a supported version!\n",
      "  warnings.warn(\"urllib3 ({}) or chardet ({})/charset_normalizer ({}) doesn't match a supported \"\n"
     ]
    }
   ],
   "source": [
    "from huggingface_hub import InferenceClient\n",
    "from tqdm import tqdm\n",
    "import os\n",
    "import json\n",
    "from glob import glob"
   ]
  },
  {
   "cell_type": "code",
   "execution_count": 3,
   "id": "8b6f5a37",
   "metadata": {},
   "outputs": [
    {
     "name": "stderr",
     "output_type": "stream",
     "text": [
      "79401it [00:06, 12438.78it/s]\n"
     ]
    },
    {
     "data": {
      "text/plain": [
       "77413"
      ]
     },
     "execution_count": 3,
     "metadata": {},
     "output_type": "execute_result"
    }
   ],
   "source": [
    "ls = []\n",
    "\n",
    "with open('cpp.jsonl') as fopen:\n",
    "    for l in tqdm(fopen):\n",
    "        try:\n",
    "            l = json.loads(l)\n",
    "            if len(l['content'].split()) > 5e3:\n",
    "                continue\n",
    "            ls.append(l['content'])\n",
    "        except:\n",
    "            pass\n",
    "len(ls)"
   ]
  },
  {
   "cell_type": "code",
   "execution_count": 4,
   "id": "e61e8115",
   "metadata": {},
   "outputs": [],
   "source": [
    "client = InferenceClient(\n",
    "    '', timeout = 120\n",
    ")\n",
    "\n",
    "\n",
    "def format_prompt(message, history):\n",
    "  prompt = \"<s>\"\n",
    "  for user_prompt, bot_response in history:\n",
    "    prompt += f\"[INST] {user_prompt} [/INST]\"\n",
    "    prompt += f\" {bot_response}</s> \"\n",
    "  prompt += f\"[INST] {message} [/INST]\"\n",
    "  return prompt\n",
    "\n",
    "def format_user(history):\n",
    "    prompt = \"<s>\"\n",
    "    for user_prompt, bot_response in history:\n",
    "        prompt += f\"[INST] {user_prompt} [/INST]\"\n",
    "        prompt += f\" {bot_response}</s> \"\n",
    "    prompt += f\"[INST]\"\n",
    "    return prompt"
   ]
  },
  {
   "cell_type": "code",
   "execution_count": 5,
   "id": "eda36b0b",
   "metadata": {},
   "outputs": [],
   "source": [
    "generate_kwargs = dict(\n",
    "    temperature=1.0,\n",
    "    max_new_tokens=5120,\n",
    "    top_p=0.95,\n",
    "    repetition_penalty=1.0,\n",
    "    do_sample=True,\n",
    ")"
   ]
  },
  {
   "cell_type": "code",
   "execution_count": 6,
   "id": "cdc207c6",
   "metadata": {},
   "outputs": [
    {
     "name": "stdout",
     "output_type": "stream",
     "text": [
      "mkdir: cannot create directory ‘mixtral-cpp’: File exists\r\n"
     ]
    }
   ],
   "source": [
    "!mkdir mixtral-cpp\n",
    "# !rm -rf mixtral-cpp/*.json"
   ]
  },
  {
   "cell_type": "code",
   "execution_count": 7,
   "id": "9ef3a56b",
   "metadata": {},
   "outputs": [],
   "source": [
    "def answer(q, i):\n",
    "    filename = f'mixtral-cpp/{i}.json'\n",
    "    if os.path.exists(filename):\n",
    "        return\n",
    "    \n",
    "    while True:\n",
    "    # for _ in range(5):\n",
    "        try:\n",
    "            \n",
    "            prompt = f\"\"\"\n",
    "Please gain inspiration from the following random code snippet to create a high-quality C++ problem. Present your output in two distinct sections: [Problem Description] and [Solution].\n",
    "\n",
    "C++ snippet for inspiration:\n",
    "```\n",
    "{q}\n",
    "```\n",
    "\n",
    "Guidelines for each section:\n",
    "\n",
    "1. [Problem Description]: This should be **completely self-contained**, providing all the contextual information one needs to understand and solve the problem. Assume common programming knowledge, but ensure that any specific context, variables, or code snippets pertinent to this problem are explicitly included but do not mention code snippet above.\n",
    "\n",
    "2. [Solution]: Offer a comprehensive, **correct** solution that accurately addresses the [Problem Description] you provided.\n",
    "\"\"\".strip()\n",
    "            formatted_prompt = format_prompt(prompt, [])\n",
    "            stream = client.text_generation(formatted_prompt, **generate_kwargs, stream=False, details=True, return_full_text=False)\n",
    "            output = stream.generated_text\n",
    "            with open(filename, 'w') as fopen:\n",
    "                json.dump(output, fopen)\n",
    "            break\n",
    "        except Exception as e:\n",
    "            if 'tokens + `max_new_tokens`' in str(e):\n",
    "                with open(filename, 'w') as fopen:\n",
    "                    json.dump(False, fopen)\n",
    "                break\n",
    "            pass"
   ]
  },
  {
   "cell_type": "code",
   "execution_count": 8,
   "id": "3f0ac5fe",
   "metadata": {},
   "outputs": [],
   "source": [
    "def consumer(queue, name):\n",
    "    while True:\n",
    "        if queue.qsize() == 0:\n",
    "            break\n",
    "        item = queue.get()\n",
    "        answer(*item)\n",
    "    print(f'consumer {name} done')"
   ]
  },
  {
   "cell_type": "code",
   "execution_count": 9,
   "id": "236113b2",
   "metadata": {},
   "outputs": [],
   "source": [
    "from threading import Thread\n",
    "from queue import Queue\n",
    "\n",
    "queue = Queue()\n",
    "questions = ls\n",
    "urls = [(q, no) for no, q in enumerate(questions)]\n",
    "for u in urls:\n",
    "    queue.put(u)\n",
    "    \n",
    "ori_size = queue.qsize()"
   ]
  },
  {
   "cell_type": "code",
   "execution_count": 10,
   "id": "efbd604c",
   "metadata": {},
   "outputs": [],
   "source": [
    "answer(*urls[1])"
   ]
  },
  {
   "cell_type": "code",
   "execution_count": 11,
   "id": "aacdb9b8",
   "metadata": {},
   "outputs": [
    {
     "name": "stdout",
     "output_type": "stream",
     "text": [
      " **[Problem Description]**\n",
      "\n",
      "In a given C++ program, we have a custom `Variant` class that can represent a variety of data types, including integers, floating-point numbers, strings, vectors, colors, and even complex data structures like arrays and dictionaries. The implementation of this `Variant` class is provided but not shown here.\n",
      "\n",
      "Your task is to write a function called `apply_operation` that takes a `Variant` object, an operation (either \"+\" or \"-\"), and a `Variant` operand. This function should apply the given operation to the original `Variant` object and the operand if the original `Variant` object is a number (integer or floating-point number). If the `Variant` object is not a number, the function should throw an exception.\n",
      "\n",
      "The `apply_operation` function should return the `Variant` result of the application of the operation.\n",
      "\n",
      "Constraints:\n",
      "\n",
      "- The `Variant` class is given and cannot be changed.\n",
      "- The `apply_operation` function must handle any possible type stored inside the `Variant` class, as stated above.\n",
      "- The operations can be defined as:\n",
      "  + For addition:\n",
      "    - Integer + Integer -> Integer\n",
      "    - Integer + Real -> Real\n",
      "    - Real + Integer -> Real\n",
      "    - Real + Real -> Real\n",
      "  - For subtraction:\n",
      "    - Integer - Integer -> Integer\n",
      "    - Integer - Real -> Real\n",
      "    - Real - Integer -> Real\n",
      "    - Real - Real -> Real\n",
      "\n",
      "**[Solution]**\n",
      "\n",
      "First, let's start with implementing the `is_number` function, which checks whether the given Variant is number type or not. It checks the type of the Variant and returns whether it is an integer or a real number.\n",
      "\n",
      "```cpp\n",
      "#include <cmath>\n",
      "#include <string>\n",
      "\n",
      "namespace godot {\n",
      "\n",
      "// ... (other Variant function declarations here)\n",
      "\n",
      "class Variant {\n",
      "\n",
      "// ... (other Variant function definitions here)\n",
      "\n",
      "public:\n",
      "  bool is_number() const {\n",
      "    switch (get_type()) {\n",
      "      case INT:\n",
      "      case REAL:\n",
      "        return true;\n",
      "      default:\n",
      "        return false;\n",
      "    }\n",
      "  }\n",
      "\n",
      "// ... (other Variant function definitions here)\n",
      "\n",
      "};\n",
      "\n",
      "} // namespace godot\n",
      "\n",
      "```\n",
      "\n",
      "Next, we can create the `apply_operation` function, which takes a `Variant` object, an operation (either \"+\" or \"-\"), and a `Variant` operand as the input, applying the given operation to the original `Variant` object and the operand if the original `Variant` object is a number. If the `Variant` object is not a number, the function should throw an exception.\n",
      "\n",
      "```cpp\n",
      "#include <stdexcept>\n",
      "#include <string>\n",
      "\n",
      "// ... (other Variant and function declarations here)\n",
      "\n",
      "Variant apply_operation(Variant a, const std::string& operation, Variant b) {\n",
      "  if (!a.is_number()) {\n",
      "    throw std::invalid_argument(\"The first Variant is not a number.\");\n",
      "  }\n",
      "\n",
      "  if (operation != \"+\" && operation != \"-\") {\n",
      "    throw std::invalid_argument(\"Invalid operation. Supported operations are '+' and '-'.\");\n",
      "  }\n",
      "\n",
      "  if (a.get_type() == INT) {\n",
      "    if (b.is_number()) {\n",
      "      if (b.get_type() == INT) {\n",
      "        a = a.operator int() + b.operator int();\n",
      "      } else { // REAL\n",
      "        a = a.operator int() + b.operator double();\n",
      "      }\n",
      "    } else {\n",
      "      throw std::invalid_argument(\"The second Variant is not a number.\");\n",
      "    }\n",
      "  } else { // REAL\n",
      "    if (b.is_number()) {\n",
      "      if (b.get_type() == INT) {\n",
      "        a = a.operator double() + b.operator int();\n",
      "      } else { // REAL\n",
      "        a = a.operator double() + b.operator double();\n",
      "      }\n",
      "    } else {\n",
      "      throw std::invalid_argument(\"The second Variant is not a number.\");\n",
      "    }\n",
      "  }\n",
      "\n",
      "  if (operation == \"-\") {\n",
      "    a = -a;\n",
      "  }\n",
      "\n",
      "  return a;\n",
      "}\n",
      "\n",
      "```\n"
     ]
    }
   ],
   "source": [
    "with open('mixtral-cpp/1.json') as fopen:\n",
    "    print(json.loads(fopen.read()))"
   ]
  },
  {
   "cell_type": "code",
   "execution_count": null,
   "id": "c8c77c16",
   "metadata": {},
   "outputs": [
    {
     "name": "stderr",
     "output_type": "stream",
     "text": [
      " 12%|████████████▎                                                                                      | 9613/77413 [12:43:08<66:53:55,  3.55s/it]IOPub message rate exceeded.\n",
      "The notebook server will temporarily stop sending output\n",
      "to the client in order to avoid crashing it.\n",
      "To change this limit, set the config variable\n",
      "`--NotebookApp.iopub_msg_rate_limit`.\n",
      "\n",
      "Current values:\n",
      "NotebookApp.iopub_msg_rate_limit=1000.0 (msgs/sec)\n",
      "NotebookApp.rate_limit_window=3.0 (secs)\n",
      "\n",
      " 25%|████████████████████████▎                                                                         | 19170/77413 [23:27:13<52:11:30,  3.23s/it]"
     ]
    }
   ],
   "source": [
    "max_worker = 50\n",
    "consumers = [Thread(target=consumer, args=(queue,i)) for i in range(max_worker)]\n",
    "for i in range(len(consumers)):\n",
    "    consumers[i].start()\n",
    "    \n",
    "pbar = tqdm(total=ori_size)\n",
    "last_size = 0\n",
    "while True:\n",
    "    size = queue.qsize()\n",
    "    if size == 0:\n",
    "        break\n",
    "    left = ori_size - size\n",
    "    minus = left - last_size\n",
    "    if minus > 0:\n",
    "        pbar.update(minus)\n",
    "        last_size += minus\n",
    "\n",
    "pbar.close()"
   ]
  },
  {
   "cell_type": "code",
   "execution_count": null,
   "id": "4f1e0e1b",
   "metadata": {},
   "outputs": [],
   "source": []
  }
 ],
 "metadata": {
  "kernelspec": {
   "display_name": "Python 3 (ipykernel)",
   "language": "python",
   "name": "python3"
  },
  "language_info": {
   "codemirror_mode": {
    "name": "ipython",
    "version": 3
   },
   "file_extension": ".py",
   "mimetype": "text/x-python",
   "name": "python",
   "nbconvert_exporter": "python",
   "pygments_lexer": "ipython3",
   "version": "3.8.10"
  }
 },
 "nbformat": 4,
 "nbformat_minor": 5
}
