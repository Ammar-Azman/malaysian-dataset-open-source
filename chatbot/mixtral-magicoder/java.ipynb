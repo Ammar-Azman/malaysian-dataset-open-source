{
 "cells": [
  {
   "cell_type": "code",
   "execution_count": 1,
   "id": "1b5925f1",
   "metadata": {},
   "outputs": [],
   "source": [
    "# !wget https://huggingface.co/datasets/malaysia-ai/starcoderdata-sample/resolve/main/java.jsonl"
   ]
  },
  {
   "cell_type": "code",
   "execution_count": 2,
   "id": "8dbdc708",
   "metadata": {},
   "outputs": [
    {
     "name": "stderr",
     "output_type": "stream",
     "text": [
      "/home/husein/.local/lib/python3.8/site-packages/requests/__init__.py:102: RequestsDependencyWarning: urllib3 (1.26.15) or chardet (5.2.0)/charset_normalizer (2.0.7) doesn't match a supported version!\n",
      "  warnings.warn(\"urllib3 ({}) or chardet ({})/charset_normalizer ({}) doesn't match a supported \"\n"
     ]
    }
   ],
   "source": [
    "from huggingface_hub import InferenceClient\n",
    "from tqdm import tqdm\n",
    "import os\n",
    "import json\n",
    "from glob import glob"
   ]
  },
  {
   "cell_type": "code",
   "execution_count": 3,
   "id": "dffb61fb",
   "metadata": {},
   "outputs": [
    {
     "name": "stderr",
     "output_type": "stream",
     "text": [
      "200000it [00:11, 17627.14it/s]\n"
     ]
    },
    {
     "data": {
      "text/plain": [
       "198427"
      ]
     },
     "execution_count": 3,
     "metadata": {},
     "output_type": "execute_result"
    }
   ],
   "source": [
    "ls = []\n",
    "\n",
    "with open('java.jsonl') as fopen:\n",
    "    for l in tqdm(fopen):\n",
    "        try:\n",
    "            l = json.loads(l)\n",
    "            if len(l['content'].split()) > 5e3:\n",
    "                continue\n",
    "            ls.append(l['content'])\n",
    "            if len(ls) > 200000:\n",
    "                break\n",
    "        except:\n",
    "            pass\n",
    "len(ls)"
   ]
  },
  {
   "cell_type": "code",
   "execution_count": 4,
   "id": "b256678d",
   "metadata": {},
   "outputs": [],
   "source": [
    "client = InferenceClient(\n",
    "    \"\", timeout = 120\n",
    ")\n",
    "\n",
    "\n",
    "def format_prompt(message, history):\n",
    "  prompt = \"<s>\"\n",
    "  for user_prompt, bot_response in history:\n",
    "    prompt += f\"[INST] {user_prompt} [/INST]\"\n",
    "    prompt += f\" {bot_response}</s> \"\n",
    "  prompt += f\"[INST] {message} [/INST]\"\n",
    "  return prompt\n",
    "\n",
    "def format_user(history):\n",
    "    prompt = \"<s>\"\n",
    "    for user_prompt, bot_response in history:\n",
    "        prompt += f\"[INST] {user_prompt} [/INST]\"\n",
    "        prompt += f\" {bot_response}</s> \"\n",
    "    prompt += f\"[INST]\"\n",
    "    return prompt"
   ]
  },
  {
   "cell_type": "code",
   "execution_count": 5,
   "id": "a041c62a",
   "metadata": {},
   "outputs": [],
   "source": [
    "generate_kwargs = dict(\n",
    "    temperature=1.0,\n",
    "    max_new_tokens=5120,\n",
    "    top_p=0.95,\n",
    "    repetition_penalty=1.0,\n",
    "    do_sample=True,\n",
    ")"
   ]
  },
  {
   "cell_type": "code",
   "execution_count": 6,
   "id": "bf50ad32",
   "metadata": {},
   "outputs": [
    {
     "name": "stdout",
     "output_type": "stream",
     "text": [
      "mkdir: cannot create directory ‘mixtral-java’: File exists\r\n"
     ]
    }
   ],
   "source": [
    "!mkdir mixtral-java\n",
    "# !rm -rf mixtral-java/*.json"
   ]
  },
  {
   "cell_type": "code",
   "execution_count": 7,
   "id": "9225ba6b",
   "metadata": {},
   "outputs": [],
   "source": [
    "def answer(q, i):\n",
    "    filename = f'mixtral-java/{i}.json'\n",
    "    if os.path.exists(filename):\n",
    "        return\n",
    "    \n",
    "    while True:\n",
    "    # for _ in range(5):\n",
    "        try:\n",
    "            \n",
    "            prompt = f\"\"\"\n",
    "Please gain inspiration from the following random code snippet to create a high-quality Java problem. Present your output in two distinct sections: [Problem Description] and [Solution].\n",
    "\n",
    "Java snippet for inspiration:\n",
    "```\n",
    "{q}\n",
    "```\n",
    "\n",
    "Guidelines for each section:\n",
    "\n",
    "1. [Problem Description]: This should be **completely self-contained**, providing all the contextual information one needs to understand and solve the problem. Assume common programming knowledge, but ensure that any specific context, variables, or code snippets pertinent to this problem are explicitly included.\n",
    "\n",
    "2. [Solution]: Offer a comprehensive, **correct** solution that accurately addresses the [Problem Description] you provided.\n",
    "\"\"\".strip()\n",
    "            formatted_prompt = format_prompt(prompt, [])\n",
    "            stream = client.text_generation(formatted_prompt, **generate_kwargs, stream=False, details=True, return_full_text=False)\n",
    "            output = stream.generated_text\n",
    "            with open(filename, 'w') as fopen:\n",
    "                json.dump(output, fopen)\n",
    "            break\n",
    "        except Exception as e:\n",
    "            if 'tokens + `max_new_tokens`' in str(e):\n",
    "                with open(filename, 'w') as fopen:\n",
    "                    json.dump(False, fopen)\n",
    "                break\n",
    "            pass"
   ]
  },
  {
   "cell_type": "code",
   "execution_count": 8,
   "id": "b6c282de",
   "metadata": {},
   "outputs": [],
   "source": [
    "def consumer(queue, name):\n",
    "    while True:\n",
    "        if queue.qsize() == 0:\n",
    "            break\n",
    "        item = queue.get()\n",
    "        answer(*item)\n",
    "    print(f'consumer {name} done')"
   ]
  },
  {
   "cell_type": "code",
   "execution_count": 9,
   "id": "9b5eba3e",
   "metadata": {},
   "outputs": [],
   "source": [
    "from threading import Thread\n",
    "from queue import Queue\n",
    "\n",
    "queue = Queue()\n",
    "questions = ls\n",
    "urls = [(q, no) for no, q in enumerate(questions)]\n",
    "for u in urls:\n",
    "    queue.put(u)\n",
    "    \n",
    "ori_size = queue.qsize()"
   ]
  },
  {
   "cell_type": "code",
   "execution_count": 10,
   "id": "0cbef3fd",
   "metadata": {},
   "outputs": [],
   "source": [
    "answer(*urls[1])"
   ]
  },
  {
   "cell_type": "code",
   "execution_count": 11,
   "id": "37d73de3",
   "metadata": {},
   "outputs": [
    {
     "name": "stdout",
     "output_type": "stream",
     "text": [
      " **[Problem Description]**\n",
      "\n",
      "In the given Java code, the `DatagramMessage` class is used for sending and receiving datagram messages over the network using the User Datagram Protocol (UDP). UDP is a connectionless protocol that is used when the speed of data transfer is more important than its reliability. However, due to its connectionless nature, UDP does not guarantee delivery of packets, and packets may be lost, duplicated, or delivered out of order.\n",
      "\n",
      "In this problem, you are given a modified version of the `DatagramMessage` class that has a bug in its `send` method. The bug causes the method to always send an empty packet instead of the intended data. Your task is to identify and fix the bug in the `send` method.\n",
      "\n",
      "Here is the modified `DatagramMessage` class:\n",
      "\n",
      "```java\n",
      "import java.io.IOException;\n",
      "import java.net.DatagramPacket;\n",
      "import java.net.DatagramSocket;\n",
      "import java.net.InetAddress;\n",
      "\n",
      "public class DatagramMessage {\n",
      "    private DatagramSocket socket;\n",
      "    private InetAddress host;\n",
      "    private int port;\n",
      "\n",
      "    public DatagramMessage(String host, int port) throws IOException {\n",
      "        this.socket = new DatagramSocket();\n",
      "        this.host = InetAddress.getByName(host);\n",
      "        this.port = port;\n",
      "    }\n",
      "\n",
      "    public void send(String message) throws IOException {\n",
      "        byte[] bytes = new byte[0]; // empty byte array\n",
      "        DatagramPacket packet = new DatagramPacket(bytes, bytes.length, host, port);\n",
      "        socket.send(packet);\n",
      "    }\n",
      "}\n",
      "```\n",
      "\n",
      "**[Solution]**\n",
      "\n",
      "The bug in the `send` method is that it creates an empty byte array and uses it to construct the datagram packet. To fix the bug, you need to replace the empty byte array with the actual data that you want to send.\n",
      "\n",
      "Here's the corrected version of the `DatagramMessage` class:\n",
      "\n",
      "```java\n",
      "import java.io.IOException;\n",
      "import java.net.DatagramPacket;\n",
      "import java.net.DatagramSocket;\n",
      "import java.net.InetAddress;\n",
      "\n",
      "public class DatagramMessage {\n",
      "    private DatagramSocket socket;\n",
      "    private InetAddress host;\n",
      "    private int port;\n",
      "\n",
      "    public DatagramMessage(String host, int port) throws IOException {\n",
      "        this.socket = new DatagramSocket();\n",
      "        this.host = InetAddress.getByName(host);\n",
      "        this.port = port;\n",
      "    }\n",
      "\n",
      "    public void send(String message) throws IOException {\n",
      "        byte[] bytes = message.getBytes();\n",
      "        DatagramPacket packet = new DatagramPacket(bytes, bytes.length, host, port);\n",
      "        socket.send(packet);\n",
      "    }\n",
      "}\n",
      "```\n",
      "\n",
      "In the corrected version of the `send` method, the `message` string is converted to a byte array using the `getBytes` method. The resulting byte array is used to construct the datagram packet. This ensures that the intended data is sent over the network using UDP.\n"
     ]
    }
   ],
   "source": [
    "with open('mixtral-java/1.json') as fopen:\n",
    "    print(json.loads(fopen.read()))"
   ]
  },
  {
   "cell_type": "code",
   "execution_count": null,
   "id": "6475dd0d",
   "metadata": {},
   "outputs": [
    {
     "name": "stderr",
     "output_type": "stream",
     "text": [
      "  7%|██████▉                                                                                         | 14447/198427 [13:57:16<118:37:40,  2.32s/it]"
     ]
    }
   ],
   "source": [
    "max_worker = 50\n",
    "consumers = [Thread(target=consumer, args=(queue,i)) for i in range(max_worker)]\n",
    "for i in range(len(consumers)):\n",
    "    consumers[i].start()\n",
    "    \n",
    "pbar = tqdm(total=ori_size)\n",
    "last_size = 0\n",
    "while True:\n",
    "    size = queue.qsize()\n",
    "    if size == 0:\n",
    "        break\n",
    "    left = ori_size - size\n",
    "    minus = left - last_size\n",
    "    if minus > 0:\n",
    "        pbar.update(minus)\n",
    "        last_size += minus\n",
    "\n",
    "pbar.close()"
   ]
  },
  {
   "cell_type": "code",
   "execution_count": null,
   "id": "960ae3d7",
   "metadata": {},
   "outputs": [],
   "source": []
  }
 ],
 "metadata": {
  "kernelspec": {
   "display_name": "Python 3 (ipykernel)",
   "language": "python",
   "name": "python3"
  },
  "language_info": {
   "codemirror_mode": {
    "name": "ipython",
    "version": 3
   },
   "file_extension": ".py",
   "mimetype": "text/x-python",
   "name": "python",
   "nbconvert_exporter": "python",
   "pygments_lexer": "ipython3",
   "version": "3.8.10"
  }
 },
 "nbformat": 4,
 "nbformat_minor": 5
}
