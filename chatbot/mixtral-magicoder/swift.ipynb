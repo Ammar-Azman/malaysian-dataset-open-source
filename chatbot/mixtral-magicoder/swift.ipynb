{
 "cells": [
  {
   "cell_type": "code",
   "execution_count": 2,
   "id": "520917b1",
   "metadata": {},
   "outputs": [],
   "source": [
    "# !wget https://huggingface.co/datasets/malaysia-ai/starcoderdata-sample/resolve/main/swift.jsonl"
   ]
  },
  {
   "cell_type": "code",
   "execution_count": 3,
   "id": "55b7dca3",
   "metadata": {},
   "outputs": [
    {
     "name": "stderr",
     "output_type": "stream",
     "text": [
      "/home/husein/.local/lib/python3.8/site-packages/requests/__init__.py:102: RequestsDependencyWarning: urllib3 (1.26.15) or chardet (5.2.0)/charset_normalizer (2.0.7) doesn't match a supported version!\n",
      "  warnings.warn(\"urllib3 ({}) or chardet ({})/charset_normalizer ({}) doesn't match a supported \"\n"
     ]
    }
   ],
   "source": [
    "from huggingface_hub import InferenceClient\n",
    "from tqdm import tqdm\n",
    "import os\n",
    "import json\n",
    "from glob import glob"
   ]
  },
  {
   "cell_type": "code",
   "execution_count": 4,
   "id": "b9a4c20d",
   "metadata": {},
   "outputs": [
    {
     "name": "stderr",
     "output_type": "stream",
     "text": [
      "100000it [00:04, 21194.89it/s]\n"
     ]
    },
    {
     "data": {
      "text/plain": [
       "99582"
      ]
     },
     "execution_count": 4,
     "metadata": {},
     "output_type": "execute_result"
    }
   ],
   "source": [
    "ls = []\n",
    "\n",
    "with open('swift.jsonl') as fopen:\n",
    "    for l in tqdm(fopen):\n",
    "        try:\n",
    "            l = json.loads(l)\n",
    "            if len(l['content'].split()) > 5e3:\n",
    "                continue\n",
    "            ls.append(l['content'])\n",
    "        except:\n",
    "            pass\n",
    "len(ls)"
   ]
  },
  {
   "cell_type": "code",
   "execution_count": 5,
   "id": "54096dcb",
   "metadata": {},
   "outputs": [],
   "source": [
    "client = InferenceClient(\n",
    "    '', timeout = 120\n",
    ")\n",
    "\n",
    "\n",
    "def format_prompt(message, history):\n",
    "  prompt = \"<s>\"\n",
    "  for user_prompt, bot_response in history:\n",
    "    prompt += f\"[INST] {user_prompt} [/INST]\"\n",
    "    prompt += f\" {bot_response}</s> \"\n",
    "  prompt += f\"[INST] {message} [/INST]\"\n",
    "  return prompt\n",
    "\n",
    "def format_user(history):\n",
    "    prompt = \"<s>\"\n",
    "    for user_prompt, bot_response in history:\n",
    "        prompt += f\"[INST] {user_prompt} [/INST]\"\n",
    "        prompt += f\" {bot_response}</s> \"\n",
    "    prompt += f\"[INST]\"\n",
    "    return prompt"
   ]
  },
  {
   "cell_type": "code",
   "execution_count": 6,
   "id": "6af3c4bd",
   "metadata": {},
   "outputs": [],
   "source": [
    "generate_kwargs = dict(\n",
    "    temperature=1.0,\n",
    "    max_new_tokens=5120,\n",
    "    top_p=0.95,\n",
    "    repetition_penalty=1.0,\n",
    "    do_sample=True,\n",
    ")"
   ]
  },
  {
   "cell_type": "code",
   "execution_count": 7,
   "id": "f5cde81e",
   "metadata": {},
   "outputs": [],
   "source": [
    "!mkdir mixtral-swift\n",
    "# !rm -rf mixtral-swift/*.json"
   ]
  },
  {
   "cell_type": "code",
   "execution_count": 8,
   "id": "4e033be1",
   "metadata": {},
   "outputs": [],
   "source": [
    "def answer(q, i):\n",
    "    filename = f'mixtral-swift/{i}.json'\n",
    "    if os.path.exists(filename):\n",
    "        return\n",
    "    \n",
    "    while True:\n",
    "    # for _ in range(5):\n",
    "        try:\n",
    "            \n",
    "            prompt = f\"\"\"\n",
    "Please gain inspiration from the following random code snippet to create a high-quality Swift problem. Present your output in two distinct sections: [Problem Description] and [Solution].\n",
    "\n",
    "Swift snippet for inspiration:\n",
    "```\n",
    "{q}\n",
    "```\n",
    "\n",
    "Guidelines for each section:\n",
    "\n",
    "1. [Problem Description]: This should be **completely self-contained**, providing all the contextual information one needs to understand and solve the problem. Assume common programming knowledge, but ensure that any specific context, variables, or code snippets pertinent to this problem are explicitly included.\n",
    "\n",
    "2. [Solution]: Offer a comprehensive, **correct** solution that accurately addresses the [Problem Description] you provided.\n",
    "\"\"\".strip()\n",
    "            formatted_prompt = format_prompt(prompt, [])\n",
    "            stream = client.text_generation(formatted_prompt, **generate_kwargs, stream=False, details=True, return_full_text=False)\n",
    "            output = stream.generated_text\n",
    "            with open(filename, 'w') as fopen:\n",
    "                json.dump(output, fopen)\n",
    "            break\n",
    "        except Exception as e:\n",
    "            if 'tokens + `max_new_tokens`' in str(e):\n",
    "                with open(filename, 'w') as fopen:\n",
    "                    json.dump(False, fopen)\n",
    "                break\n",
    "            pass"
   ]
  },
  {
   "cell_type": "code",
   "execution_count": 9,
   "id": "c5f8bf51",
   "metadata": {},
   "outputs": [],
   "source": [
    "def consumer(queue, name):\n",
    "    while True:\n",
    "        if queue.qsize() == 0:\n",
    "            break\n",
    "        item = queue.get()\n",
    "        answer(*item)\n",
    "    print(f'consumer {name} done')"
   ]
  },
  {
   "cell_type": "code",
   "execution_count": 10,
   "id": "75e6676a",
   "metadata": {},
   "outputs": [],
   "source": [
    "from threading import Thread\n",
    "from queue import Queue\n",
    "\n",
    "queue = Queue()\n",
    "questions = ls\n",
    "urls = [(q, no) for no, q in enumerate(questions)]\n",
    "for u in urls:\n",
    "    queue.put(u)\n",
    "    \n",
    "ori_size = queue.qsize()"
   ]
  },
  {
   "cell_type": "code",
   "execution_count": 16,
   "id": "8eda87f6",
   "metadata": {},
   "outputs": [],
   "source": [
    "answer(*urls[2])"
   ]
  },
  {
   "cell_type": "code",
   "execution_count": 17,
   "id": "4ef35935",
   "metadata": {},
   "outputs": [
    {
     "name": "stdout",
     "output_type": "stream",
     "text": [
      " **[Problem Description]**\n",
      "\n",
      "The `SCCameraViewController` class provided above is a part of a simple camera application that allows users to take photos. The application displays a camera preview using `SCPreviewView`, and users can take pictures by tapping the capture button. The `captureStillImage` method of `SCCameraController` is called when the capture button is tapped, which captures a still image and calls the `imageAvailableHandler` closure with the captured image and any potential error.\n",
      "\n",
      "However, the current implementation does not handle any errors that might occur during image capturing. In order to improve the robustness and user experience, implement error handling by:\n",
      "\n",
      "1. Displaying a UIAlertController with an error message if `imageAvailableHandler` receives an error.\n",
      "2. Dismissing the SCCameraViewController after the user has seen the error message.\n",
      "\n",
      "**[Solution]**\n",
      "\n",
      "To implement error handling in the `capture` IBAction method, first, add a function for displaying alerts:\n",
      "\n",
      "```swift\n",
      "private func showAlertWithTitle(title: String, message: String) {\n",
      "    let alertController = UIAlertController(title: title, message: message, preferredStyle: .Alert)\n",
      "    alertController.addAction(UIAlertAction(title: \"OK\", style: .Default))\n",
      "    presentViewController(alertController, animated: true, completion: nil)\n",
      "}\n",
      "```\n",
      "\n",
      "Next, update the `capture` IBAction method as follows:\n",
      "\n",
      "```swift\n",
      "@IBAction func capture(sender: AnyObject) {\n",
      "    cameraController?.captureStillImage { (image, error) in\n",
      "        if let error = error {\n",
      "            self.showAlertWithTitle(\"Error\", message: error.localizedDescription)\n",
      "            self.dismissViewControllerAnimated(true, completion: nil)\n",
      "        } else if let image = image {\n",
      "            self.imageAvailableHandler?(image, nil)\n",
      "            self.dismissViewControllerAnimated(true, completion: nil)\n",
      "        }\n",
      "    }\n",
      "}\n",
      "```\n",
      "\n",
      "This solution handles errors by calling `showAlertWithTitle` to display an alert to the user and then dismissing the `SCCameraViewController`. If there's no error and an image is available, it calls the `imageAvailableHandler` and dismisses the `SCCameraViewController`.\n"
     ]
    }
   ],
   "source": [
    "with open('mixtral-swift/2.json') as fopen:\n",
    "    print(json.loads(fopen.read()))"
   ]
  },
  {
   "cell_type": "code",
   "execution_count": null,
   "id": "a8c90f96",
   "metadata": {},
   "outputs": [
    {
     "name": "stderr",
     "output_type": "stream",
     "text": [
      " 13%|█████████████▎                                                                                     | 13357/99582 [8:47:58<48:16:49,  2.02s/it]"
     ]
    }
   ],
   "source": [
    "max_worker = 50\n",
    "consumers = [Thread(target=consumer, args=(queue,i)) for i in range(max_worker)]\n",
    "for i in range(len(consumers)):\n",
    "    consumers[i].start()\n",
    "    \n",
    "pbar = tqdm(total=ori_size)\n",
    "last_size = 0\n",
    "while True:\n",
    "    size = queue.qsize()\n",
    "    if size == 0:\n",
    "        break\n",
    "    left = ori_size - size\n",
    "    minus = left - last_size\n",
    "    if minus > 0:\n",
    "        pbar.update(minus)\n",
    "        last_size += minus\n",
    "\n",
    "pbar.close()"
   ]
  },
  {
   "cell_type": "code",
   "execution_count": null,
   "id": "f42f6838",
   "metadata": {},
   "outputs": [],
   "source": []
  }
 ],
 "metadata": {
  "kernelspec": {
   "display_name": "Python 3 (ipykernel)",
   "language": "python",
   "name": "python3"
  },
  "language_info": {
   "codemirror_mode": {
    "name": "ipython",
    "version": 3
   },
   "file_extension": ".py",
   "mimetype": "text/x-python",
   "name": "python",
   "nbconvert_exporter": "python",
   "pygments_lexer": "ipython3",
   "version": "3.8.10"
  }
 },
 "nbformat": 4,
 "nbformat_minor": 5
}
