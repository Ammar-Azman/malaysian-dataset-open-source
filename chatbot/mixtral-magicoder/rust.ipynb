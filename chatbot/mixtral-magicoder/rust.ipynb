{
 "cells": [
  {
   "cell_type": "code",
   "execution_count": 1,
   "id": "520917b1",
   "metadata": {},
   "outputs": [],
   "source": [
    "# !wget https://huggingface.co/datasets/malaysia-ai/starcoderdata-sample/resolve/main/rust.jsonl"
   ]
  },
  {
   "cell_type": "code",
   "execution_count": 2,
   "id": "55b7dca3",
   "metadata": {},
   "outputs": [
    {
     "name": "stderr",
     "output_type": "stream",
     "text": [
      "/home/husein/.local/lib/python3.8/site-packages/requests/__init__.py:102: RequestsDependencyWarning: urllib3 (1.26.15) or chardet (5.2.0)/charset_normalizer (2.0.7) doesn't match a supported version!\n",
      "  warnings.warn(\"urllib3 ({}) or chardet ({})/charset_normalizer ({}) doesn't match a supported \"\n"
     ]
    }
   ],
   "source": [
    "from huggingface_hub import InferenceClient\n",
    "from tqdm import tqdm\n",
    "import os\n",
    "import json\n",
    "from glob import glob"
   ]
  },
  {
   "cell_type": "code",
   "execution_count": 3,
   "id": "b9a4c20d",
   "metadata": {},
   "outputs": [
    {
     "name": "stderr",
     "output_type": "stream",
     "text": [
      "200000it [00:15, 12960.19it/s]\n"
     ]
    },
    {
     "data": {
      "text/plain": [
       "196310"
      ]
     },
     "execution_count": 3,
     "metadata": {},
     "output_type": "execute_result"
    }
   ],
   "source": [
    "ls = []\n",
    "\n",
    "with open('rust.jsonl') as fopen:\n",
    "    for l in tqdm(fopen):\n",
    "        try:\n",
    "            l = json.loads(l)\n",
    "            if len(l['content'].split()) > 5e3:\n",
    "                continue\n",
    "            ls.append(l['content'])\n",
    "        except:\n",
    "            pass\n",
    "len(ls)"
   ]
  },
  {
   "cell_type": "code",
   "execution_count": 4,
   "id": "54096dcb",
   "metadata": {},
   "outputs": [],
   "source": [
    "client = InferenceClient(\n",
    "    '', timeout = 120\n",
    ")\n",
    "\n",
    "\n",
    "def format_prompt(message, history):\n",
    "  prompt = \"<s>\"\n",
    "  for user_prompt, bot_response in history:\n",
    "    prompt += f\"[INST] {user_prompt} [/INST]\"\n",
    "    prompt += f\" {bot_response}</s> \"\n",
    "  prompt += f\"[INST] {message} [/INST]\"\n",
    "  return prompt\n",
    "\n",
    "def format_user(history):\n",
    "    prompt = \"<s>\"\n",
    "    for user_prompt, bot_response in history:\n",
    "        prompt += f\"[INST] {user_prompt} [/INST]\"\n",
    "        prompt += f\" {bot_response}</s> \"\n",
    "    prompt += f\"[INST]\"\n",
    "    return prompt"
   ]
  },
  {
   "cell_type": "code",
   "execution_count": 5,
   "id": "6af3c4bd",
   "metadata": {},
   "outputs": [],
   "source": [
    "generate_kwargs = dict(\n",
    "    temperature=1.0,\n",
    "    max_new_tokens=5120,\n",
    "    top_p=0.95,\n",
    "    repetition_penalty=1.0,\n",
    "    do_sample=True,\n",
    ")"
   ]
  },
  {
   "cell_type": "code",
   "execution_count": 6,
   "id": "f5cde81e",
   "metadata": {},
   "outputs": [
    {
     "name": "stdout",
     "output_type": "stream",
     "text": [
      "mkdir: cannot create directory ‘mixtral-rust’: File exists\r\n"
     ]
    }
   ],
   "source": [
    "!mkdir mixtral-rust\n",
    "# !rm -rf mixtral-rust/*.json"
   ]
  },
  {
   "cell_type": "code",
   "execution_count": 7,
   "id": "4e033be1",
   "metadata": {},
   "outputs": [],
   "source": [
    "def answer(q, i):\n",
    "    filename = f'mixtral-rust/{i}.json'\n",
    "    if os.path.exists(filename):\n",
    "        return\n",
    "    \n",
    "    while True:\n",
    "    # for _ in range(5):\n",
    "        try:\n",
    "            \n",
    "            prompt = f\"\"\"\n",
    "Please gain inspiration from the following random code snippet to create a high-quality Rust problem. Present your output in two distinct sections: [Problem Description] and [Solution].\n",
    "\n",
    "Rust snippet for inspiration:\n",
    "```\n",
    "{q}\n",
    "```\n",
    "\n",
    "Guidelines for each section:\n",
    "\n",
    "1. [Problem Description]: This should be **completely self-contained**, providing all the contextual information one needs to understand and solve the problem. Assume common programming knowledge, but ensure that any specific context, variables, or code snippets pertinent to this problem are explicitly included.\n",
    "\n",
    "2. [Solution]: Offer a comprehensive, **correct** solution that accurately addresses the [Problem Description] you provided.\n",
    "\"\"\".strip()\n",
    "            formatted_prompt = format_prompt(prompt, [])\n",
    "            stream = client.text_generation(formatted_prompt, **generate_kwargs, stream=False, details=True, return_full_text=False)\n",
    "            output = stream.generated_text\n",
    "            with open(filename, 'w') as fopen:\n",
    "                json.dump(output, fopen)\n",
    "            break\n",
    "        except Exception as e:\n",
    "            if 'tokens + `max_new_tokens`' in str(e):\n",
    "                with open(filename, 'w') as fopen:\n",
    "                    json.dump(False, fopen)\n",
    "                break\n",
    "            pass"
   ]
  },
  {
   "cell_type": "code",
   "execution_count": 8,
   "id": "c5f8bf51",
   "metadata": {},
   "outputs": [],
   "source": [
    "def consumer(queue, name):\n",
    "    while True:\n",
    "        if queue.qsize() == 0:\n",
    "            break\n",
    "        item = queue.get()\n",
    "        answer(*item)\n",
    "    print(f'consumer {name} done')"
   ]
  },
  {
   "cell_type": "code",
   "execution_count": 9,
   "id": "75e6676a",
   "metadata": {},
   "outputs": [],
   "source": [
    "from threading import Thread\n",
    "from queue import Queue\n",
    "\n",
    "queue = Queue()\n",
    "questions = ls\n",
    "urls = [(q, no) for no, q in enumerate(questions)]\n",
    "for u in urls:\n",
    "    queue.put(u)\n",
    "    \n",
    "ori_size = queue.qsize()"
   ]
  },
  {
   "cell_type": "code",
   "execution_count": 10,
   "id": "8eda87f6",
   "metadata": {},
   "outputs": [],
   "source": [
    "answer(*urls[1])"
   ]
  },
  {
   "cell_type": "code",
   "execution_count": 11,
   "id": "4ef35935",
   "metadata": {},
   "outputs": [
    {
     "name": "stdout",
     "output_type": "stream",
     "text": [
      " **[Problem Description]**\n",
      "\n",
      "Rust's random number library `rand` provides a uniform sampling distribution for various numeric types through the `SampleRange` trait. Implementing this trait for custom types enables generating random numbers within a given range (low, high) uniformly. However, implementing it for signed integer types can be surprisingly complex due to edge cases.\n",
      "\n",
      "You are given a skeleton of a custom `SampleRange` implementation for a hypothetical `MyInt` type, a signed integer that supports common arithmetic and bitwise operations. Your task is to complete the implementation in a way that allows `MyInt` to be used with the `Range` struct, similar to the built-in integer types.\n",
      "\n",
      "```rust\n",
      "/// A hypothetical signed integer type with common arithmetic and bitwise operations.\n",
      "pub struct MyInt(i32);\n",
      "\n",
      "impl MyInt {\n",
      "    // Implement `wrapping_add`, `wrapping_sub`, `is_negative`, and `wrapping_neg`\n",
      "}\n",
      "\n",
      "impl SampleRange for MyInt {\n",
      "    fn construct_range(low: Self, high: Self) -> Range<Self> {\n",
      "        // Implement this method\n",
      "    }\n",
      "\n",
      "    fn sample_range<R: Rng>(r: &Range<Self>, rng: &mut R) -> Self {\n",
      "        // Implement this method\n",
      "    }\n",
      "}\n",
      "```\n",
      "\n",
      "Implement the `construct_range` and `sample_range` methods for `MyInt` to satisfy the `SampleRange` trait requirements, ensuring that random numbers generated using the `Range` struct are uniformly distributed in the [low, high) range.\n",
      "\n",
      "**[Solution]**\n",
      "\n",
      "Implement the `construct_range` and `sample_range` methods for `MyInt` by handling the edge cases and performing a rejection sampling algorithm similar to the built-in integer types.\n",
      "\n",
      "```rust\n",
      "/// A hypothetical signed integer type with common arithmetic and bitwise operations.\n",
      "pub struct MyInt(i32);\n",
      "\n",
      "impl MyInt {\n",
      "    fn wrapping_add(self, other: Self) -> Self {\n",
      "        MyInt(self.0.wrapping_add(other.0))\n",
      "    }\n",
      "\n",
      "    fn wrapping_sub(self, other: Self) -> Self {\n",
      "        MyInt(self.0.wrapping_sub(other.0))\n",
      "    }\n",
      "\n",
      "    fn is_negative(self) -> bool {\n",
      "        self.0 < 0\n",
      "    }\n",
      "\n",
      "    fn wrapping_neg(self) -> Self {\n",
      "        MyInt(self.0.wrapping_neg())\n",
      "    }\n",
      "}\n",
      "\n",
      "impl SampleRange for MyInt {\n",
      "    fn construct_range(low: Self, high: Self) -> Range<Self> {\n",
      "        let range = high.0.wrapping_sub(low.0);\n",
      "        let unsigned_max = (u32::MAX as i32).wrapping_neg();\n",
      "        let zone = unsigned_max.wrapping_sub(unsigned_max % range as i32) as u32 as i32;\n",
      "\n",
      "        Range {\n",
      "            low,\n",
      "            range: range as i32,\n",
      "            accept_zone: zone,\n",
      "        }\n",
      "    }\n",
      "\n",
      "    fn sample_range<R: Rng>(r: &Range<Self>, rng: &mut R) -> Self {\n",
      "        loop {\n",
      "            let v = rng.gen::<u32>() as i32;\n",
      "            if v < r.accept_zone {\n",
      "                return r.low.wrapping_add(MyInt(v % (r.range as u32) as i32));\n",
      "            }\n",
      "        }\n",
      "    }\n",
      "}\n",
      "```\n",
      "\n",
      "This solution ensures that the generated random numbers using the `Range` struct are uniformly distributed in the [low, high) range for the `MyInt` type by handling edge cases and performing rejection sampling.\n"
     ]
    }
   ],
   "source": [
    "with open('mixtral-rust/1.json') as fopen:\n",
    "    print(json.loads(fopen.read()))"
   ]
  },
  {
   "cell_type": "code",
   "execution_count": null,
   "id": "a8c90f96",
   "metadata": {},
   "outputs": [
    {
     "name": "stderr",
     "output_type": "stream",
     "text": [
      "  8%|███████▌                                                                                        | 15389/196310 [12:44:24<203:56:21,  4.06s/it]IOPub message rate exceeded.\n",
      "The notebook server will temporarily stop sending output\n",
      "to the client in order to avoid crashing it.\n",
      "To change this limit, set the config variable\n",
      "`--NotebookApp.iopub_msg_rate_limit`.\n",
      "\n",
      "Current values:\n",
      "NotebookApp.iopub_msg_rate_limit=1000.0 (msgs/sec)\n",
      "NotebookApp.rate_limit_window=3.0 (secs)\n",
      "\n",
      " 10%|██████████                                                                                      | 20502/196310 [18:47:46<370:19:58,  7.58s/it]"
     ]
    }
   ],
   "source": [
    "max_worker = 50\n",
    "consumers = [Thread(target=consumer, args=(queue,i)) for i in range(max_worker)]\n",
    "for i in range(len(consumers)):\n",
    "    consumers[i].start()\n",
    "    \n",
    "pbar = tqdm(total=ori_size)\n",
    "last_size = 0\n",
    "while True:\n",
    "    size = queue.qsize()\n",
    "    if size == 0:\n",
    "        break\n",
    "    left = ori_size - size\n",
    "    minus = left - last_size\n",
    "    if minus > 0:\n",
    "        pbar.update(minus)\n",
    "        last_size += minus\n",
    "\n",
    "pbar.close()"
   ]
  },
  {
   "cell_type": "code",
   "execution_count": null,
   "id": "f42f6838",
   "metadata": {},
   "outputs": [],
   "source": []
  }
 ],
 "metadata": {
  "kernelspec": {
   "display_name": "Python 3 (ipykernel)",
   "language": "python",
   "name": "python3"
  },
  "language_info": {
   "codemirror_mode": {
    "name": "ipython",
    "version": 3
   },
   "file_extension": ".py",
   "mimetype": "text/x-python",
   "name": "python",
   "nbconvert_exporter": "python",
   "pygments_lexer": "ipython3",
   "version": "3.8.10"
  }
 },
 "nbformat": 4,
 "nbformat_minor": 5
}
