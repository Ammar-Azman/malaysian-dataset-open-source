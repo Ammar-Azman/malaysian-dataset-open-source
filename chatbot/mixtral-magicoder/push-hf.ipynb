{
 "cells": [
  {
   "cell_type": "code",
   "execution_count": 44,
   "id": "23a0fc5a",
   "metadata": {},
   "outputs": [],
   "source": [
    "from glob import glob\n",
    "from tqdm import tqdm\n",
    "import json\n",
    "import os\n",
    "from huggingface_hub import HfApi\n",
    "\n",
    "api = HfApi()\n",
    "folders = {\n",
    "    'dockerfile': 'mixtral-dockerfile',\n",
    "    'swift': 'mixtral-swift',\n",
    "    'kotlin': 'mixtral-kotlin',\n",
    "    'csharp': 'mixtral-c-sharp',\n",
    "    'cpp': 'mixtral-cpp',\n",
    "    'rust': 'mixtral-rust',\n",
    "    'python': 'mixtral-python',\n",
    "    'cuda': 'mixtral-cuda',\n",
    "    'ruby': 'mixtral-ruby',\n",
    "    'scala': 'mixtral-scala',\n",
    "    'go': 'mixtral-go',\n",
    "    'typescript': 'mixtral-typescript',\n",
    "    'pythonanalytics': 'mixtral-data-analytics',\n",
    "    'php': 'mixtral-php',\n",
    "    'sql': 'mixtral-sql',\n",
    "    'javascript': 'mixtral-javascript',\n",
    "    'shell': 'mixtral-shell',\n",
    "    'java': 'mixtral-java',\n",
    "}"
   ]
  },
  {
   "cell_type": "code",
   "execution_count": 45,
   "id": "fdc35200",
   "metadata": {},
   "outputs": [],
   "source": [
    "solutions = [\n",
    "    '**Solution**',\n",
    "    '**[Solution]**',\n",
    "    '[Solution]',\n",
    "    '**[Solution]:**',\n",
    "    '**Solution:**',\n",
    "    '**[Usage]**',\n",
    "    'Solution:',\n",
    "    '**[Problem Solution]**'\n",
    "]\n",
    "\n",
    "problems = [\n",
    "    '**Problem Description**',\n",
    "    '**[Problem Description]**',\n",
    "    '[Problem Description]',\n",
    "    '**[Problem Description]:**',\n",
    "    '**Problem Description:**',\n",
    "    'Problem Description:',\n",
    "    '--------',\n",
    "    '==========',\n",
    "]"
   ]
  },
  {
   "cell_type": "code",
   "execution_count": 48,
   "id": "df276692",
   "metadata": {
    "scrolled": true
   },
   "outputs": [
    {
     "name": "stderr",
     "output_type": "stream",
     "text": [
      "100%|█████████████████████████████████████████████████████████████████████████████████████████████████████| 16773/16773 [00:00<00:00, 47165.75it/s]\n"
     ]
    },
    {
     "name": "stdout",
     "output_type": "stream",
     "text": [
      "dockerfile 13316 0.7938949502176116\n",
      "dockerfile-00000-of-00001.jsonl 13286\n"
     ]
    },
    {
     "data": {
      "application/vnd.jupyter.widget-view+json": {
       "model_id": "4f831e43cd054ba89b9d944ae7387fa9",
       "version_major": 2,
       "version_minor": 0
      },
      "text/plain": [
       "dockerfile-00000-of-00001.jsonl:   0%|          | 0.00/36.0M [00:00<?, ?B/s]"
      ]
     },
     "metadata": {},
     "output_type": "display_data"
    },
    {
     "name": "stderr",
     "output_type": "stream",
     "text": [
      "100%|█████████████████████████████████████████████████████████████████████████████████████████████████████| 13314/13314 [00:00<00:00, 43389.12it/s]\n"
     ]
    },
    {
     "name": "stdout",
     "output_type": "stream",
     "text": [
      "swift 10330 0.775875018777227\n",
      "swift-00000-of-00001.jsonl 10187\n"
     ]
    },
    {
     "data": {
      "application/vnd.jupyter.widget-view+json": {
       "model_id": "a55e760242234421bba1f06c87627cfe",
       "version_major": 2,
       "version_minor": 0
      },
      "text/plain": [
       "swift-00000-of-00001.jsonl:   0%|          | 0.00/32.5M [00:00<?, ?B/s]"
      ]
     },
     "metadata": {},
     "output_type": "display_data"
    },
    {
     "name": "stderr",
     "output_type": "stream",
     "text": [
      "100%|█████████████████████████████████████████████████████████████████████████████████████████████████████| 16010/16010 [00:00<00:00, 42500.43it/s]\n"
     ]
    },
    {
     "name": "stdout",
     "output_type": "stream",
     "text": [
      "kotlin 12898 0.8056214865708932\n",
      "kotlin-00000-of-00001.jsonl 12790\n"
     ]
    },
    {
     "data": {
      "application/vnd.jupyter.widget-view+json": {
       "model_id": "6c270637e2cd485297cca7ae4cb20432",
       "version_major": 2,
       "version_minor": 0
      },
      "text/plain": [
       "kotlin-00000-of-00001.jsonl:   0%|          | 0.00/40.7M [00:00<?, ?B/s]"
      ]
     },
     "metadata": {},
     "output_type": "display_data"
    },
    {
     "name": "stderr",
     "output_type": "stream",
     "text": [
      "100%|█████████████████████████████████████████████████████████████████████████████████████████████████████| 13942/13942 [00:00<00:00, 44617.57it/s]\n"
     ]
    },
    {
     "name": "stdout",
     "output_type": "stream",
     "text": [
      "csharp 10314 0.739779084779802\n",
      "csharp-00000-of-00001.jsonl 10201\n"
     ]
    },
    {
     "name": "stderr",
     "output_type": "stream",
     "text": [
      "100%|█████████████████████████████████████████████████████████████████████████████████████████████████████| 19144/19144 [00:00<00:00, 52123.31it/s]\n"
     ]
    },
    {
     "name": "stdout",
     "output_type": "stream",
     "text": [
      "cpp 10860 0.5672795653990806\n",
      "cpp-00000-of-00001.jsonl 10747\n"
     ]
    }
   ],
   "source": [
    "for k, v in folders.items():\n",
    "    files = sorted(glob(f'{v}/*.json'), key = lambda x: os.stat(x).st_mtime)\n",
    "    filtered = []\n",
    "    rejected = []\n",
    "    for f in tqdm(files):\n",
    "        with open(f) as fopen:\n",
    "            data = json.load(fopen)\n",
    "\n",
    "        if not data:\n",
    "            continue\n",
    "\n",
    "        if '```' not in data:\n",
    "            rejected.append(f)\n",
    "            continue\n",
    "\n",
    "        if data.count('```') % 2 != 0:\n",
    "            rejected.append(f)\n",
    "            continue\n",
    "        \n",
    "        if all([s not in data for s in solutions]):\n",
    "            rejected.append(f)\n",
    "            continue\n",
    "\n",
    "        filtered.append(data)\n",
    "    \n",
    "    print(k, len(filtered), len(filtered) / len(files))\n",
    "\n",
    "    out = f'{k}-00000-of-00001.jsonl'\n",
    "    with open(out, 'w') as fopen:\n",
    "        for f in filtered:\n",
    "            f = f.strip()\n",
    "            \n",
    "            inside = []\n",
    "            for s in solutions:\n",
    "                if s in f:\n",
    "                    inside.append(s)\n",
    "            \n",
    "            inside = sorted(inside, key = lambda x: len(x))\n",
    "            split = inside[-1]\n",
    "            \n",
    "            splitted = f.strip().split(split)\n",
    "            if len(splitted) > 2:\n",
    "                continue\n",
    "            ins = splitted[0]\n",
    "            for p in problems:\n",
    "                ins = ins.replace(p, '')\n",
    "            ins = '\\n\\n'.join(ins.split('\\n\\n')[1:]).strip()\n",
    "            answer = '\\n\\n'.join(splitted[1].split('\\n\\n')[1:]).strip()\n",
    "            \n",
    "            if '```' not in answer:\n",
    "                continue\n",
    "\n",
    "            if answer.count('```') % 2 != 0:\n",
    "                continue\n",
    "            \n",
    "            d = {\n",
    "                'instruction': ins,\n",
    "                'answer': answer\n",
    "            }\n",
    "            fopen.write(f'{json.dumps(d)}\\n')\n",
    "    \n",
    "    count = 0\n",
    "    with open(out) as fopen:\n",
    "        for l in fopen:\n",
    "            count += 1\n",
    "    \n",
    "    print(out, count)\n",
    "    \n",
    "    api.upload_file(\n",
    "        path_or_fileobj=out,\n",
    "        path_in_repo=os.path.join('data', out),\n",
    "        repo_id='mesolitica/mixtral-wizardcoder',\n",
    "        repo_type='dataset',\n",
    "    )\n"
   ]
  }
 ],
 "metadata": {
  "kernelspec": {
   "display_name": "Python 3 (ipykernel)",
   "language": "python",
   "name": "python3"
  },
  "language_info": {
   "codemirror_mode": {
    "name": "ipython",
    "version": 3
   },
   "file_extension": ".py",
   "mimetype": "text/x-python",
   "name": "python",
   "nbconvert_exporter": "python",
   "pygments_lexer": "ipython3",
   "version": "3.8.10"
  }
 },
 "nbformat": 4,
 "nbformat_minor": 5
}
