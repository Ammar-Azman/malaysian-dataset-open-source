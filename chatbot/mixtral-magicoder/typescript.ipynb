{
 "cells": [
  {
   "cell_type": "code",
   "execution_count": 1,
   "id": "72f779b8",
   "metadata": {},
   "outputs": [],
   "source": [
    "# !wget https://huggingface.co/datasets/malaysia-ai/starcoderdata-sample/resolve/main/typescript.jsonl"
   ]
  },
  {
   "cell_type": "code",
   "execution_count": 2,
   "id": "3cb5572a",
   "metadata": {},
   "outputs": [
    {
     "name": "stderr",
     "output_type": "stream",
     "text": [
      "/home/husein/.local/lib/python3.8/site-packages/requests/__init__.py:102: RequestsDependencyWarning: urllib3 (1.26.15) or chardet (5.2.0)/charset_normalizer (2.0.7) doesn't match a supported version!\n",
      "  warnings.warn(\"urllib3 ({}) or chardet ({})/charset_normalizer ({}) doesn't match a supported \"\n"
     ]
    }
   ],
   "source": [
    "from huggingface_hub import InferenceClient\n",
    "from tqdm import tqdm\n",
    "import os\n",
    "import json\n",
    "from glob import glob"
   ]
  },
  {
   "cell_type": "code",
   "execution_count": 3,
   "id": "8b6f5a37",
   "metadata": {},
   "outputs": [
    {
     "name": "stderr",
     "output_type": "stream",
     "text": [
      "300000it [00:16, 18082.46it/s]\n"
     ]
    },
    {
     "data": {
      "text/plain": [
       "297688"
      ]
     },
     "execution_count": 3,
     "metadata": {},
     "output_type": "execute_result"
    }
   ],
   "source": [
    "ls = []\n",
    "\n",
    "with open('typescript.jsonl') as fopen:\n",
    "    for l in tqdm(fopen):\n",
    "        try:\n",
    "            l = json.loads(l)\n",
    "            if len(l['content'].split()) > 5e3:\n",
    "                continue\n",
    "            ls.append(l['content'])\n",
    "        except:\n",
    "            pass\n",
    "len(ls)"
   ]
  },
  {
   "cell_type": "code",
   "execution_count": 4,
   "id": "e61e8115",
   "metadata": {},
   "outputs": [],
   "source": [
    "client = InferenceClient(\n",
    "    \"\", timeout = 120\n",
    ")\n",
    "\n",
    "\n",
    "def format_prompt(message, history):\n",
    "  prompt = \"<s>\"\n",
    "  for user_prompt, bot_response in history:\n",
    "    prompt += f\"[INST] {user_prompt} [/INST]\"\n",
    "    prompt += f\" {bot_response}</s> \"\n",
    "  prompt += f\"[INST] {message} [/INST]\"\n",
    "  return prompt\n",
    "\n",
    "def format_user(history):\n",
    "    prompt = \"<s>\"\n",
    "    for user_prompt, bot_response in history:\n",
    "        prompt += f\"[INST] {user_prompt} [/INST]\"\n",
    "        prompt += f\" {bot_response}</s> \"\n",
    "    prompt += f\"[INST]\"\n",
    "    return prompt"
   ]
  },
  {
   "cell_type": "code",
   "execution_count": 5,
   "id": "eda36b0b",
   "metadata": {},
   "outputs": [],
   "source": [
    "generate_kwargs = dict(\n",
    "    temperature=1.0,\n",
    "    max_new_tokens=5120,\n",
    "    top_p=0.95,\n",
    "    repetition_penalty=1.0,\n",
    "    do_sample=True,\n",
    ")"
   ]
  },
  {
   "cell_type": "code",
   "execution_count": 6,
   "id": "cdc207c6",
   "metadata": {},
   "outputs": [
    {
     "name": "stdout",
     "output_type": "stream",
     "text": [
      "mkdir: cannot create directory ‘mixtral-typescript’: File exists\r\n"
     ]
    }
   ],
   "source": [
    "!mkdir mixtral-typescript\n",
    "# !rm -rf mixtral-typescript/*.json"
   ]
  },
  {
   "cell_type": "code",
   "execution_count": 7,
   "id": "9ef3a56b",
   "metadata": {},
   "outputs": [],
   "source": [
    "def answer(q, i):\n",
    "    filename = f'mixtral-typescript/{i}.json'\n",
    "    if os.path.exists(filename):\n",
    "        return\n",
    "    \n",
    "    while True:\n",
    "    # for _ in range(5):\n",
    "        try:\n",
    "            \n",
    "            prompt = f\"\"\"\n",
    "Please gain inspiration from the following random code snippet to create a high-quality TypeScript problem. Present your output in two distinct sections: [Problem Description] and [Solution].\n",
    "\n",
    "TypeScript snippet for inspiration:\n",
    "```\n",
    "{q}\n",
    "```\n",
    "\n",
    "Guidelines for each section:\n",
    "\n",
    "1. [Problem Description]: This should be **completely self-contained**, providing all the contextual information one needs to understand and solve the problem. Assume common programming knowledge, but ensure that any specific context, variables, or code snippets pertinent to this problem are explicitly included but do not mention code snippet above.\n",
    "\n",
    "2. [Solution]: Offer a comprehensive, **correct** solution that accurately addresses the [Problem Description] you provided.\n",
    "\"\"\".strip()\n",
    "            formatted_prompt = format_prompt(prompt, [])\n",
    "            stream = client.text_generation(formatted_prompt, **generate_kwargs, stream=False, details=True, return_full_text=False)\n",
    "            output = stream.generated_text\n",
    "            with open(filename, 'w') as fopen:\n",
    "                json.dump(output, fopen)\n",
    "            break\n",
    "        except Exception as e:\n",
    "            if 'tokens + `max_new_tokens`' in str(e):\n",
    "                with open(filename, 'w') as fopen:\n",
    "                    json.dump(False, fopen)\n",
    "                break\n",
    "            pass"
   ]
  },
  {
   "cell_type": "code",
   "execution_count": 8,
   "id": "3f0ac5fe",
   "metadata": {},
   "outputs": [],
   "source": [
    "def consumer(queue, name):\n",
    "    while True:\n",
    "        if queue.qsize() == 0:\n",
    "            break\n",
    "        item = queue.get()\n",
    "        answer(*item)\n",
    "    print(f'consumer {name} done')"
   ]
  },
  {
   "cell_type": "code",
   "execution_count": 9,
   "id": "236113b2",
   "metadata": {},
   "outputs": [],
   "source": [
    "from threading import Thread\n",
    "from queue import Queue\n",
    "\n",
    "queue = Queue()\n",
    "questions = ls\n",
    "urls = [(q, no) for no, q in enumerate(questions)]\n",
    "for u in urls:\n",
    "    queue.put(u)\n",
    "    \n",
    "ori_size = queue.qsize()"
   ]
  },
  {
   "cell_type": "code",
   "execution_count": 10,
   "id": "efbd604c",
   "metadata": {},
   "outputs": [],
   "source": [
    "answer(*urls[1])"
   ]
  },
  {
   "cell_type": "code",
   "execution_count": 11,
   "id": "aacdb9b8",
   "metadata": {},
   "outputs": [
    {
     "name": "stdout",
     "output_type": "stream",
     "text": [
      " **[Problem Description]**\n",
      "\n",
      "Consider a TypeScript application that uses IndexedDB to store and manage data. The application has various versions, and each version update comes with specific database schema changes and data migrations. The migration process is managed by the `migrate` and `migrate_async` functions, which take care of upgrading the database schema and updating data accordingly based on the current version. The migration functions use helper functions, such as `_to1_creates`, `_to4_creates`, and `_to9_creates`, to perform specific schema changes and data migrations.\n",
      "\n",
      "Due to recent changes in the application, a new migration is required to update the database schema and data to the latest version. The following requirements must be met in the new migration:\n",
      "\n",
      "1. Create a new object store named `'email_settings'` with a `'profile'` key path in the database.\n",
      "2. Iterate through all profiles in the `'profiles'` object store and perform the following tasks:\n",
      "   a. If the `'setup_step'` property exists and is not equal to `null`, delete the profile.\n",
      "   b. If the `'options'` property exists, add a new property named `'enable_email_notifications'` with a value of `true`.\n",
      "   c. If the `'setup_step'` property exists, set it to `0`.\n",
      "   d. Save the updated profile in the `'profiles'` object store.\n",
      "3. The migration must be implemented in an asynchronous function called `to_14`.\n",
      "\n",
      "**[Solution]**\n",
      "\n",
      "Given the requirements, here's an asynchronous migration function, `to_14`, that accomplishes the necessary schema and data updates:\n",
      "\n",
      "```typescript\n",
      "import { AppDatabaseConnection, VersionChangeTransaction } from './types';\n",
      "\n",
      "export const DATABASE_VERSION = 14;\n",
      "\n",
      "export async function migrate(transaction: VersionChangeTransaction, old_version: number): Promise<void> {\n",
      "    // ... (no changes needed in this function)\n",
      "}\n",
      "\n",
      "export async function migrate_async(db: AppDatabaseConnection, old_version: number): Promise<void> {\n",
      "    // ... (no changes needed in this function)\n",
      "}\n",
      "\n",
      "export async function to_14(transaction: VersionChangeTransaction): Promise<void> {\n",
      "    // Step 1: Create a new object store named 'email_settings' with a 'profile' key path\n",
      "    transaction.db.createObjectStore('email_settings', { keyPath: 'profile' });\n",
      "\n",
      "    // Step 2: Iterate through all profiles in the 'profiles' object store and perform necessary tasks\n",
      "    for await (const cursor of transaction.objectStore('profiles')) {\n",
      "        const profile = cursor.value;\n",
      "\n",
      "        // Check if the profile has 'setup_step' and is not null\n",
      "        if (profile.setup_step !== null) {\n",
      "            await cursor.delete();\n",
      "            continue;\n",
      "        }\n",
      "\n",
      "        // Add 'enable_email_notifications' property to the 'options' object or create a new 'options' object with the property\n",
      "        if (profile.options) {\n",
      "            profile.options.enable_email_notifications = true;\n",
      "        } else {\n",
      "            profile.options = { enable_email_notifications: true };\n",
      "        }\n",
      "\n",
      "        // Set 'setup_step' to 0 if it exists\n",
      "        if (profile.setup_step) {\n",
      "            profile.setup_step = 0;\n",
      "        }\n",
      "\n",
      "        // Save the updated profile\n",
      "        await cursor.update(profile);\n",
      "    }\n",
      "}\n",
      "```\n",
      "\n",
      "With this implementation, calling the `to_14` function in a `VersionChangeTransaction` will create the `'email_settings'` object store and update the profiles as specified in the requirements.\n"
     ]
    }
   ],
   "source": [
    "with open('mixtral-typescript/1.json') as fopen:\n",
    "    print(json.loads(fopen.read()))"
   ]
  },
  {
   "cell_type": "code",
   "execution_count": null,
   "id": "c8c77c16",
   "metadata": {},
   "outputs": [
    {
     "name": "stderr",
     "output_type": "stream",
     "text": [
      "  7%|██████▍                                                                                           | 19714/297688 [2:22:14<73:22:34,  1.05it/s]"
     ]
    }
   ],
   "source": [
    "max_worker = 50\n",
    "consumers = [Thread(target=consumer, args=(queue,i)) for i in range(max_worker)]\n",
    "for i in range(len(consumers)):\n",
    "    consumers[i].start()\n",
    "    \n",
    "pbar = tqdm(total=ori_size)\n",
    "last_size = 0\n",
    "while True:\n",
    "    size = queue.qsize()\n",
    "    if size == 0:\n",
    "        break\n",
    "    left = ori_size - size\n",
    "    minus = left - last_size\n",
    "    if minus > 0:\n",
    "        pbar.update(minus)\n",
    "        last_size += minus\n",
    "\n",
    "pbar.close()"
   ]
  },
  {
   "cell_type": "code",
   "execution_count": null,
   "id": "4f1e0e1b",
   "metadata": {},
   "outputs": [],
   "source": []
  }
 ],
 "metadata": {
  "kernelspec": {
   "display_name": "Python 3 (ipykernel)",
   "language": "python",
   "name": "python3"
  },
  "language_info": {
   "codemirror_mode": {
    "name": "ipython",
    "version": 3
   },
   "file_extension": ".py",
   "mimetype": "text/x-python",
   "name": "python",
   "nbconvert_exporter": "python",
   "pygments_lexer": "ipython3",
   "version": "3.8.10"
  }
 },
 "nbformat": 4,
 "nbformat_minor": 5
}
