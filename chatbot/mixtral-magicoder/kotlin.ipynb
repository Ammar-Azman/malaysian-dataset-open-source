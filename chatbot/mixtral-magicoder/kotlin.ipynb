{
 "cells": [
  {
   "cell_type": "code",
   "execution_count": 2,
   "id": "520917b1",
   "metadata": {},
   "outputs": [],
   "source": [
    "# !wget https://huggingface.co/datasets/malaysia-ai/starcoderdata-sample/resolve/main/kotlin.jsonl"
   ]
  },
  {
   "cell_type": "code",
   "execution_count": 3,
   "id": "55b7dca3",
   "metadata": {},
   "outputs": [
    {
     "name": "stderr",
     "output_type": "stream",
     "text": [
      "/home/husein/.local/lib/python3.8/site-packages/requests/__init__.py:102: RequestsDependencyWarning: urllib3 (1.26.15) or chardet (5.2.0)/charset_normalizer (2.0.7) doesn't match a supported version!\n",
      "  warnings.warn(\"urllib3 ({}) or chardet ({})/charset_normalizer ({}) doesn't match a supported \"\n"
     ]
    }
   ],
   "source": [
    "from huggingface_hub import InferenceClient\n",
    "from tqdm import tqdm\n",
    "import os\n",
    "import json\n",
    "from glob import glob"
   ]
  },
  {
   "cell_type": "code",
   "execution_count": 4,
   "id": "b9a4c20d",
   "metadata": {},
   "outputs": [
    {
     "name": "stderr",
     "output_type": "stream",
     "text": [
      "200000it [00:08, 24736.16it/s]\n"
     ]
    },
    {
     "data": {
      "text/plain": [
       "199571"
      ]
     },
     "execution_count": 4,
     "metadata": {},
     "output_type": "execute_result"
    }
   ],
   "source": [
    "ls = []\n",
    "\n",
    "with open('kotlin.jsonl') as fopen:\n",
    "    for l in tqdm(fopen):\n",
    "        try:\n",
    "            l = json.loads(l)\n",
    "            if len(l['content'].split()) > 5e3:\n",
    "                continue\n",
    "            ls.append(l['content'])\n",
    "        except:\n",
    "            pass\n",
    "len(ls)"
   ]
  },
  {
   "cell_type": "code",
   "execution_count": 5,
   "id": "54096dcb",
   "metadata": {},
   "outputs": [],
   "source": [
    "client = InferenceClient(\n",
    "    '', timeout = 120\n",
    ")\n",
    "\n",
    "\n",
    "def format_prompt(message, history):\n",
    "  prompt = \"<s>\"\n",
    "  for user_prompt, bot_response in history:\n",
    "    prompt += f\"[INST] {user_prompt} [/INST]\"\n",
    "    prompt += f\" {bot_response}</s> \"\n",
    "  prompt += f\"[INST] {message} [/INST]\"\n",
    "  return prompt\n",
    "\n",
    "def format_user(history):\n",
    "    prompt = \"<s>\"\n",
    "    for user_prompt, bot_response in history:\n",
    "        prompt += f\"[INST] {user_prompt} [/INST]\"\n",
    "        prompt += f\" {bot_response}</s> \"\n",
    "    prompt += f\"[INST]\"\n",
    "    return prompt"
   ]
  },
  {
   "cell_type": "code",
   "execution_count": 6,
   "id": "6af3c4bd",
   "metadata": {},
   "outputs": [],
   "source": [
    "generate_kwargs = dict(\n",
    "    temperature=1.0,\n",
    "    max_new_tokens=5120,\n",
    "    top_p=0.95,\n",
    "    repetition_penalty=1.0,\n",
    "    do_sample=True,\n",
    ")"
   ]
  },
  {
   "cell_type": "code",
   "execution_count": 7,
   "id": "f5cde81e",
   "metadata": {},
   "outputs": [],
   "source": [
    "!mkdir mixtral-kotlin\n",
    "# !rm -rf mixtral-kotlin/*.json"
   ]
  },
  {
   "cell_type": "code",
   "execution_count": 12,
   "id": "4e033be1",
   "metadata": {},
   "outputs": [],
   "source": [
    "def answer(q, i):\n",
    "    filename = f'mixtral-kotlin/{i}.json'\n",
    "    if os.path.exists(filename):\n",
    "        return\n",
    "    \n",
    "    while True:\n",
    "    # for _ in range(5):\n",
    "        try:\n",
    "            \n",
    "            prompt = f\"\"\"\n",
    "Please gain inspiration from the following random code snippet to create a high-quality Kotlin problem. Present your output in two distinct sections: [Problem Description] and [Solution].\n",
    "\n",
    "Kotlin snippet for inspiration:\n",
    "```\n",
    "{q}\n",
    "```\n",
    "\n",
    "Guidelines for each section:\n",
    "\n",
    "1. [Problem Description]: This should be **completely self-contained**, providing all the contextual information one needs to understand and solve the problem. Assume common programming knowledge, but ensure that any specific context, variables, or code snippets pertinent to this problem are explicitly included.\n",
    "\n",
    "2. [Solution]: Offer a comprehensive, **correct** solution that accurately addresses the [Problem Description] you provided.\n",
    "\"\"\".strip()\n",
    "            formatted_prompt = format_prompt(prompt, [])\n",
    "            stream = client.text_generation(formatted_prompt, **generate_kwargs, stream=False, details=True, return_full_text=False)\n",
    "            output = stream.generated_text\n",
    "            with open(filename, 'w') as fopen:\n",
    "                json.dump(output, fopen)\n",
    "            break\n",
    "        except Exception as e:\n",
    "            if 'tokens + `max_new_tokens`' in str(e):\n",
    "                with open(filename, 'w') as fopen:\n",
    "                    json.dump(False, fopen)\n",
    "                break\n",
    "            pass"
   ]
  },
  {
   "cell_type": "code",
   "execution_count": 9,
   "id": "c5f8bf51",
   "metadata": {},
   "outputs": [],
   "source": [
    "def consumer(queue, name):\n",
    "    while True:\n",
    "        if queue.qsize() == 0:\n",
    "            break\n",
    "        item = queue.get()\n",
    "        answer(*item)\n",
    "    print(f'consumer {name} done')"
   ]
  },
  {
   "cell_type": "code",
   "execution_count": 10,
   "id": "75e6676a",
   "metadata": {},
   "outputs": [],
   "source": [
    "from threading import Thread\n",
    "from queue import Queue\n",
    "\n",
    "queue = Queue()\n",
    "questions = ls\n",
    "urls = [(q, no) for no, q in enumerate(questions)]\n",
    "for u in urls:\n",
    "    queue.put(u)\n",
    "    \n",
    "ori_size = queue.qsize()"
   ]
  },
  {
   "cell_type": "code",
   "execution_count": 15,
   "id": "8eda87f6",
   "metadata": {},
   "outputs": [],
   "source": [
    "answer(*urls[0])"
   ]
  },
  {
   "cell_type": "code",
   "execution_count": 16,
   "id": "4ef35935",
   "metadata": {},
   "outputs": [
    {
     "name": "stdout",
     "output_type": "stream",
     "text": [
      " **[Problem Description]**\n",
      "\n",
      "In a Discord server, a bot can interact with users through commands, which can have various options, permissions, and other settings. The provided Kotlin code snippet contains data classes representing these objects. Your task is to create a command called `ChangeCommandOptions` that modifies the options of an existing application command in a given guild. The command should meet the following requirements:\n",
      "\n",
      "1. Accept a command name as its first argument.\n",
      "2. Accept a new list of options (type: `List<ApplicationCommandOption>`) as its second argument.\n",
      "3. Check if the bot has the necessary permissions to modify the command's options in the target guild.\n",
      "4. Modify the command's options using the `ApplicationCommandPermissionsEditRequest` data class.\n",
      "\n",
      "Assume that you have access to the following dependencies:\n",
      "\n",
      "- `dev.kord.core.Kord`: A library instance that handles bot connections and other features.\n",
      "- `dev.kord.core.entity.Guild`: Represents a Discord guild.\n",
      "- `dev.kord.core.entity.application.ApplicationCommand`: Represents a Discord application command.\n",
      "- `dev.kord.core.entity.application.DiscordGuildApplicationCommandPermission`: Represents a permission for a Discord application command in a guild.\n",
      "\n",
      "**[Solution]**\n",
      "\n",
      "To implement the `ChangeCommandOptions` command, you can follow these steps:\n",
      "\n",
      "1. Get the target guild and the `ApplicationCommand` object by fetching it from the cache or making an API request.\n",
      "2. Check if the bot has the necessary permissions to modify the command.\n",
      "3. Create a new list of `DiscordGuildApplicationCommandPermission` objects with the appropriate settings.\n",
      "4. Use the `ApplicationCommandPermissionsEditRequest` data class to modify the command's options.\n",
      "\n",
      "Here's an example implementation:\n",
      "\n",
      "```kotlin\n",
      "import dev.kord.core.Kord\n",
      "import dev.kord.core.entity.Guild\n",
      "import dev.kord.core.entity.application.ApplicationCommand\n",
      "import dev.kord.core.entity.application.DiscordGuildApplicationCommandPermission\n",
      "import dev.kord.rest.json.request.ApplicationCommandPermissionsEditRequest\n",
      "\n",
      "suspend fun ChangeCommandOptions(kord: Kord, guildId: Snowflake, commandName: String, newOptions: List<ApplicationCommandOption>) {\n",
      "    val guild = kord.getGuild(guildId)\n",
      "    if (guild == null) {\n",
      "        println(\"Unable to find the specified guild.\")\n",
      "        return\n",
      "    }\n",
      "\n",
      "    val command = guild.commands.firstOrNull { it.name == commandName }\n",
      "    if (command == null) {\n",
      "        println(\"Unable to find the specified command in the guild.\")\n",
      "        return\n",
      "    }\n",
      "\n",
      "    if (guild.getMyMember()?.permissions?.canModifyApplicationCommands != true) {\n",
      "        println(\"The bot does not have permissions to modify application commands in the guild.\")\n",
      "        return\n",
      "    }\n",
      "\n",
      "    // Create a new list of DiscordGuildApplicationCommandPermission with the desired settings.\n",
      "    val newPermissions = listOf(\n",
      "        DiscordGuildApplicationCommandPermission(\n",
      "            id = command.id,\n",
      "            type = ApplicationCommandPermissionType.Role,\n",
      "            permission = true\n",
      "        )\n",
      "    )\n",
      "\n",
      "    command.editPermissions(kord, ApplicationCommandPermissionsEditRequest(newPermissions))\n",
      "    println(\"The command's options have been successfully modified.\")\n",
      "}\n",
      "```\n",
      "\n",
      "Keep in mind that the example implementation provided assumes you have the required libraries, methods, and extensions in place. This code might not compile as-is, but it should provide you with a starting point and a general idea of how to approach the problem.\n"
     ]
    }
   ],
   "source": [
    "with open('mixtral-kotlin/0.json') as fopen:\n",
    "    print(json.loads(fopen.read()))"
   ]
  },
  {
   "cell_type": "code",
   "execution_count": null,
   "id": "a8c90f96",
   "metadata": {},
   "outputs": [
    {
     "name": "stderr",
     "output_type": "stream",
     "text": [
      "  8%|███████▊                                                                                         | 16056/199571 [11:47:28<50:29:27,  1.01it/s]"
     ]
    }
   ],
   "source": [
    "max_worker = 50\n",
    "consumers = [Thread(target=consumer, args=(queue,i)) for i in range(max_worker)]\n",
    "for i in range(len(consumers)):\n",
    "    consumers[i].start()\n",
    "    \n",
    "pbar = tqdm(total=ori_size)\n",
    "last_size = 0\n",
    "while True:\n",
    "    size = queue.qsize()\n",
    "    if size == 0:\n",
    "        break\n",
    "    left = ori_size - size\n",
    "    minus = left - last_size\n",
    "    if minus > 0:\n",
    "        pbar.update(minus)\n",
    "        last_size += minus\n",
    "\n",
    "pbar.close()"
   ]
  },
  {
   "cell_type": "code",
   "execution_count": null,
   "id": "f42f6838",
   "metadata": {},
   "outputs": [],
   "source": []
  }
 ],
 "metadata": {
  "kernelspec": {
   "display_name": "Python 3 (ipykernel)",
   "language": "python",
   "name": "python3"
  },
  "language_info": {
   "codemirror_mode": {
    "name": "ipython",
    "version": 3
   },
   "file_extension": ".py",
   "mimetype": "text/x-python",
   "name": "python",
   "nbconvert_exporter": "python",
   "pygments_lexer": "ipython3",
   "version": "3.8.10"
  }
 },
 "nbformat": 4,
 "nbformat_minor": 5
}
