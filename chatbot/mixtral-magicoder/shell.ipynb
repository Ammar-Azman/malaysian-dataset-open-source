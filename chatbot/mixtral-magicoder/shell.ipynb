{
 "cells": [
  {
   "cell_type": "code",
   "execution_count": 1,
   "id": "520917b1",
   "metadata": {},
   "outputs": [],
   "source": [
    "# !wget https://huggingface.co/datasets/malaysia-ai/starcoderdata-sample/resolve/main/shell.jsonl"
   ]
  },
  {
   "cell_type": "code",
   "execution_count": 2,
   "id": "55b7dca3",
   "metadata": {},
   "outputs": [
    {
     "name": "stderr",
     "output_type": "stream",
     "text": [
      "/home/husein/.local/lib/python3.8/site-packages/requests/__init__.py:102: RequestsDependencyWarning: urllib3 (1.26.15) or chardet (5.2.0)/charset_normalizer (2.0.7) doesn't match a supported version!\n",
      "  warnings.warn(\"urllib3 ({}) or chardet ({})/charset_normalizer ({}) doesn't match a supported \"\n"
     ]
    }
   ],
   "source": [
    "from huggingface_hub import InferenceClient\n",
    "from tqdm import tqdm\n",
    "import os\n",
    "import json\n",
    "from glob import glob"
   ]
  },
  {
   "cell_type": "code",
   "execution_count": 3,
   "id": "b9a4c20d",
   "metadata": {},
   "outputs": [
    {
     "name": "stderr",
     "output_type": "stream",
     "text": [
      "200000it [00:04, 48318.95it/s]\n"
     ]
    },
    {
     "data": {
      "text/plain": [
       "199764"
      ]
     },
     "execution_count": 3,
     "metadata": {},
     "output_type": "execute_result"
    }
   ],
   "source": [
    "ls = []\n",
    "\n",
    "with open('shell.jsonl') as fopen:\n",
    "    for l in tqdm(fopen):\n",
    "        try:\n",
    "            l = json.loads(l)\n",
    "            if len(l['content'].split()) > 5e3:\n",
    "                continue\n",
    "            ls.append(l['content'])\n",
    "        except:\n",
    "            pass\n",
    "len(ls)"
   ]
  },
  {
   "cell_type": "code",
   "execution_count": 4,
   "id": "54096dcb",
   "metadata": {},
   "outputs": [],
   "source": [
    "client = InferenceClient(\n",
    "    \"\", timeout = 120\n",
    ")\n",
    "\n",
    "\n",
    "def format_prompt(message, history):\n",
    "  prompt = \"<s>\"\n",
    "  for user_prompt, bot_response in history:\n",
    "    prompt += f\"[INST] {user_prompt} [/INST]\"\n",
    "    prompt += f\" {bot_response}</s> \"\n",
    "  prompt += f\"[INST] {message} [/INST]\"\n",
    "  return prompt\n",
    "\n",
    "def format_user(history):\n",
    "    prompt = \"<s>\"\n",
    "    for user_prompt, bot_response in history:\n",
    "        prompt += f\"[INST] {user_prompt} [/INST]\"\n",
    "        prompt += f\" {bot_response}</s> \"\n",
    "    prompt += f\"[INST]\"\n",
    "    return prompt"
   ]
  },
  {
   "cell_type": "code",
   "execution_count": 5,
   "id": "6af3c4bd",
   "metadata": {},
   "outputs": [],
   "source": [
    "generate_kwargs = dict(\n",
    "    temperature=1.0,\n",
    "    max_new_tokens=5120,\n",
    "    top_p=0.95,\n",
    "    repetition_penalty=1.0,\n",
    "    do_sample=True,\n",
    ")"
   ]
  },
  {
   "cell_type": "code",
   "execution_count": 6,
   "id": "f5cde81e",
   "metadata": {},
   "outputs": [
    {
     "name": "stdout",
     "output_type": "stream",
     "text": [
      "mkdir: cannot create directory ‘mixtral-shell’: File exists\r\n"
     ]
    }
   ],
   "source": [
    "!mkdir mixtral-shell\n",
    "# !rm -rf mixtral-shell/*.json"
   ]
  },
  {
   "cell_type": "code",
   "execution_count": 7,
   "id": "4e033be1",
   "metadata": {},
   "outputs": [],
   "source": [
    "def answer(q, i):\n",
    "    filename = f'mixtral-shell/{i}.json'\n",
    "    if os.path.exists(filename):\n",
    "        return\n",
    "    \n",
    "    while True:\n",
    "    # for _ in range(5):\n",
    "        try:\n",
    "            \n",
    "            prompt = f\"\"\"\n",
    "Please gain inspiration from the following random code snippet to create a high-quality Shell problem. Present your output in two distinct sections: [Problem Description] and [Solution].\n",
    "\n",
    "Shell snippet for inspiration:\n",
    "```\n",
    "{q}\n",
    "```\n",
    "\n",
    "Guidelines for each section:\n",
    "\n",
    "1. [Problem Description]: This should be **completely self-contained**, providing all the contextual information one needs to understand and solve the problem. Assume common programming knowledge, but ensure that any specific context, variables, or code snippets pertinent to this problem are explicitly included.\n",
    "\n",
    "2. [Solution]: Offer a comprehensive, **correct** solution that accurately addresses the [Problem Description] you provided.\n",
    "\"\"\".strip()\n",
    "            formatted_prompt = format_prompt(prompt, [])\n",
    "            stream = client.text_generation(formatted_prompt, **generate_kwargs, stream=False, details=True, return_full_text=False)\n",
    "            output = stream.generated_text\n",
    "            with open(filename, 'w') as fopen:\n",
    "                json.dump(output, fopen)\n",
    "            break\n",
    "        except Exception as e:\n",
    "            if 'tokens + `max_new_tokens`' in str(e):\n",
    "                with open(filename, 'w') as fopen:\n",
    "                    json.dump(False, fopen)\n",
    "                break\n",
    "            pass"
   ]
  },
  {
   "cell_type": "code",
   "execution_count": 8,
   "id": "c5f8bf51",
   "metadata": {},
   "outputs": [],
   "source": [
    "def consumer(queue, name):\n",
    "    while True:\n",
    "        if queue.qsize() == 0:\n",
    "            break\n",
    "        item = queue.get()\n",
    "        answer(*item)\n",
    "    print(f'consumer {name} done')"
   ]
  },
  {
   "cell_type": "code",
   "execution_count": 9,
   "id": "75e6676a",
   "metadata": {},
   "outputs": [],
   "source": [
    "from threading import Thread\n",
    "from queue import Queue\n",
    "\n",
    "queue = Queue()\n",
    "questions = ls\n",
    "urls = [(q, no) for no, q in enumerate(questions)]\n",
    "for u in urls:\n",
    "    queue.put(u)\n",
    "    \n",
    "ori_size = queue.qsize()"
   ]
  },
  {
   "cell_type": "code",
   "execution_count": 10,
   "id": "8eda87f6",
   "metadata": {},
   "outputs": [],
   "source": [
    "answer(*urls[0])"
   ]
  },
  {
   "cell_type": "code",
   "execution_count": 11,
   "id": "4ef35935",
   "metadata": {},
   "outputs": [
    {
     "name": "stdout",
     "output_type": "stream",
     "text": [
      " **[Problem Description]**\n",
      "\n",
      "In this problem, you are tasked with writing a Bash script to interact with the Spotify Web API and retrieve information about the currently authenticated user's followed artists. The script should utilize the provided Bash functions and code snippets to log in to the Spotify API, paginate through results, and output a list of all followed artists' names without any extra whitespace.\n",
      "\n",
      "The Spotify API's `/v1/me/following` endpoint can be used to retrieve information about the currently authenticated user's followed artists. By setting the `type` query parameter to `artist`, you can get the list of artists the user is following. By default, it returns 20 items, but you can use the `offset` and `limit` query parameters to paginate through the results.\n",
      "\n",
      "The provided Bash script includes various functions and snippets to interact with the Spotify API. Some of these functions include:\n",
      "\n",
      "- `spotify_token`: This function retrieves an access token for the Spotify API using the `SPOTIFY_CLIENT_ID`, `SPOTIFY_CLIENT_SECRET`, and `SPOTIFY_REFRESH_TOKEN` environment variables.\n",
      "- `spotify_api.sh`: A helper script to make API calls to Spotify with the provided URL path and any additional curl options.\n",
      "\n",
      "Your task is to create a new Bash function, `followed_artists`, which will utilize these functions to interact with the Spotify Web API and return the list of followed artists.\n",
      "\n",
      "**[Solution]**\n",
      "\n",
      "To achieve this, add the following `followed_artists` function to your Bash script:\n",
      "\n",
      "```bash\n",
      "followed_artists() {\n",
      "    local output\n",
      "    output=\"$(spotify_api.sh \"/v1/me/following?type=artist\" \"$@\")\"\n",
      "    jq -r '.artists.items[] | select(.name != \"\") | .name' <<< \"$output\" |\n",
      "    sed '\n",
      "        s/^[[:space:]]*//;\n",
      "        s/[[:space:]]*$//\n",
      "    '\n",
      "}\n",
      "```\n",
      "\n",
      "This function makes use of the `spotify_api.sh` script to fetch the list of followed artists from the Spotify Web API. It then processes the output using `jq` and `sed` to extract the artist names and remove any extra whitespace.\n",
      "\n",
      "To call the new function, use the following command:\n",
      "\n",
      "```bash\n",
      "export SPOTIFY_CLIENT_ID=\"your_spotify_client_id\"\n",
      "export SPOTIFY_CLIENT_SECRET=\"your_spotify_client_secret\"\n",
      "export SPOTIFY_REFRESH_TOKEN=\"your_spotify_refresh_token\"\n",
      "followed_artists\n",
      "```\n",
      "\n",
      "Replace `your_spotify_client_id`, `your_spotify_client_secret`, and `your_spotify_refresh_token` with your actual Spotify API credentials.\n",
      "\n",
      "This solution assumes the provided Bash script and functions are already incorporated into your project. If not, you may need to import or rewrite the functions as necessary.\n"
     ]
    }
   ],
   "source": [
    "with open('mixtral-shell/0.json') as fopen:\n",
    "    print(json.loads(fopen.read()))"
   ]
  },
  {
   "cell_type": "code",
   "execution_count": null,
   "id": "a8c90f96",
   "metadata": {},
   "outputs": [
    {
     "name": "stderr",
     "output_type": "stream",
     "text": [
      "  7%|██████▉                                                                                             | 13888/199764 [23:16<91:42:03,  1.78s/it]"
     ]
    }
   ],
   "source": [
    "max_worker = 50\n",
    "consumers = [Thread(target=consumer, args=(queue,i)) for i in range(max_worker)]\n",
    "for i in range(len(consumers)):\n",
    "    consumers[i].start()\n",
    "    \n",
    "pbar = tqdm(total=ori_size)\n",
    "last_size = 0\n",
    "while True:\n",
    "    size = queue.qsize()\n",
    "    if size == 0:\n",
    "        break\n",
    "    left = ori_size - size\n",
    "    minus = left - last_size\n",
    "    if minus > 0:\n",
    "        pbar.update(minus)\n",
    "        last_size += minus\n",
    "\n",
    "pbar.close()"
   ]
  },
  {
   "cell_type": "code",
   "execution_count": null,
   "id": "f42f6838",
   "metadata": {},
   "outputs": [],
   "source": []
  }
 ],
 "metadata": {
  "kernelspec": {
   "display_name": "Python 3 (ipykernel)",
   "language": "python",
   "name": "python3"
  },
  "language_info": {
   "codemirror_mode": {
    "name": "ipython",
    "version": 3
   },
   "file_extension": ".py",
   "mimetype": "text/x-python",
   "name": "python",
   "nbconvert_exporter": "python",
   "pygments_lexer": "ipython3",
   "version": "3.8.10"
  }
 },
 "nbformat": 4,
 "nbformat_minor": 5
}
