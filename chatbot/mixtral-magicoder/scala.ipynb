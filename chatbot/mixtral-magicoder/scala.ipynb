{
 "cells": [
  {
   "cell_type": "code",
   "execution_count": null,
   "id": "72f779b8",
   "metadata": {},
   "outputs": [],
   "source": [
    "# !wget https://huggingface.co/datasets/malaysia-ai/starcoderdata-sample/resolve/main/scala.jsonl"
   ]
  },
  {
   "cell_type": "code",
   "execution_count": 4,
   "id": "3cb5572a",
   "metadata": {},
   "outputs": [],
   "source": [
    "from huggingface_hub import InferenceClient\n",
    "from tqdm import tqdm\n",
    "import os\n",
    "import json\n",
    "from glob import glob"
   ]
  },
  {
   "cell_type": "code",
   "execution_count": 5,
   "id": "8b6f5a37",
   "metadata": {},
   "outputs": [
    {
     "name": "stderr",
     "output_type": "stream",
     "text": [
      "100000it [00:04, 21508.06it/s]\n"
     ]
    },
    {
     "data": {
      "text/plain": [
       "99472"
      ]
     },
     "execution_count": 5,
     "metadata": {},
     "output_type": "execute_result"
    }
   ],
   "source": [
    "ls = []\n",
    "\n",
    "with open('scala.jsonl') as fopen:\n",
    "    for l in tqdm(fopen):\n",
    "        try:\n",
    "            l = json.loads(l)\n",
    "            if len(l['content'].split()) > 5e3:\n",
    "                continue\n",
    "            ls.append(l['content'])\n",
    "        except:\n",
    "            pass\n",
    "len(ls)"
   ]
  },
  {
   "cell_type": "code",
   "execution_count": 6,
   "id": "e61e8115",
   "metadata": {},
   "outputs": [],
   "source": [
    "client = InferenceClient(\n",
    "    \"\", timeout = 120\n",
    ")\n",
    "\n",
    "\n",
    "def format_prompt(message, history):\n",
    "  prompt = \"<s>\"\n",
    "  for user_prompt, bot_response in history:\n",
    "    prompt += f\"[INST] {user_prompt} [/INST]\"\n",
    "    prompt += f\" {bot_response}</s> \"\n",
    "  prompt += f\"[INST] {message} [/INST]\"\n",
    "  return prompt\n",
    "\n",
    "def format_user(history):\n",
    "    prompt = \"<s>\"\n",
    "    for user_prompt, bot_response in history:\n",
    "        prompt += f\"[INST] {user_prompt} [/INST]\"\n",
    "        prompt += f\" {bot_response}</s> \"\n",
    "    prompt += f\"[INST]\"\n",
    "    return prompt"
   ]
  },
  {
   "cell_type": "code",
   "execution_count": 7,
   "id": "eda36b0b",
   "metadata": {},
   "outputs": [],
   "source": [
    "generate_kwargs = dict(\n",
    "    temperature=1.0,\n",
    "    max_new_tokens=5120,\n",
    "    top_p=0.95,\n",
    "    repetition_penalty=1.0,\n",
    "    do_sample=True,\n",
    ")"
   ]
  },
  {
   "cell_type": "code",
   "execution_count": 8,
   "id": "cdc207c6",
   "metadata": {},
   "outputs": [],
   "source": [
    "!mkdir mixtral-scala\n",
    "# !rm -rf mixtral-scala/*.json"
   ]
  },
  {
   "cell_type": "code",
   "execution_count": 9,
   "id": "9ef3a56b",
   "metadata": {},
   "outputs": [],
   "source": [
    "def answer(q, i):\n",
    "    filename = f'mixtral-scala/{i}.json'\n",
    "    if os.path.exists(filename):\n",
    "        return\n",
    "    \n",
    "    while True:\n",
    "    # for _ in range(5):\n",
    "        try:\n",
    "            \n",
    "            prompt = f\"\"\"\n",
    "Please gain inspiration from the following random code snippet to create a high-quality JavaScript problem. Present your output in two distinct sections: [Problem Description] and [Solution].\n",
    "\n",
    "JavaScript snippet for inspiration:\n",
    "```\n",
    "{q}\n",
    "```\n",
    "\n",
    "Guidelines for each section:\n",
    "\n",
    "1. [Problem Description]: This should be **completely self-contained**, providing all the contextual information one needs to understand and solve the problem. Assume common programming knowledge, but ensure that any specific context, variables, or code snippets pertinent to this problem are explicitly included but do not mention code snippet above.\n",
    "\n",
    "2. [Solution]: Offer a comprehensive, **correct** solution that accurately addresses the [Problem Description] you provided.\n",
    "\"\"\".strip()\n",
    "            formatted_prompt = format_prompt(prompt, [])\n",
    "            stream = client.text_generation(formatted_prompt, **generate_kwargs, stream=False, details=True, return_full_text=False)\n",
    "            output = stream.generated_text\n",
    "            with open(filename, 'w') as fopen:\n",
    "                json.dump(output, fopen)\n",
    "            break\n",
    "        except Exception as e:\n",
    "            if 'tokens + `max_new_tokens`' in str(e):\n",
    "                with open(filename, 'w') as fopen:\n",
    "                    json.dump(False, fopen)\n",
    "                break\n",
    "            pass"
   ]
  },
  {
   "cell_type": "code",
   "execution_count": 10,
   "id": "3f0ac5fe",
   "metadata": {},
   "outputs": [],
   "source": [
    "def consumer(queue, name):\n",
    "    while True:\n",
    "        if queue.qsize() == 0:\n",
    "            break\n",
    "        item = queue.get()\n",
    "        answer(*item)\n",
    "    print(f'consumer {name} done')"
   ]
  },
  {
   "cell_type": "code",
   "execution_count": 11,
   "id": "236113b2",
   "metadata": {},
   "outputs": [],
   "source": [
    "from threading import Thread\n",
    "from queue import Queue\n",
    "\n",
    "queue = Queue()\n",
    "questions = ls\n",
    "urls = [(q, no) for no, q in enumerate(questions)]\n",
    "for u in urls:\n",
    "    queue.put(u)\n",
    "    \n",
    "ori_size = queue.qsize()"
   ]
  },
  {
   "cell_type": "code",
   "execution_count": 12,
   "id": "efbd604c",
   "metadata": {},
   "outputs": [],
   "source": [
    "answer(*urls[0])"
   ]
  },
  {
   "cell_type": "code",
   "execution_count": 13,
   "id": "aacdb9b8",
   "metadata": {},
   "outputs": [
    {
     "name": "stdout",
     "output_type": "stream",
     "text": [
      " **[Problem Description]**\n",
      "\n",
      "Waves Explorer is a tool for exploring and querying data in the Waves blockchain. This problem involves implementing a simplified version of the Waves Explorer for a subset of its functionalities. You are required to implement an in-memory blockchain data store, handle user queries, and output the appropriate information.\n",
      "\n",
      "You are given a list of keys (key prefixes) in the form of an array called `keys`. This array consists of various blockchain data categories, e.g., `version`, `height`, `score`, `block-at-height`, `height-of`, etc. Each key prefix represents a specific piece of information in the Waves blockchain.\n",
      "\n",
      "The input to your solution would be a CLI (Command Line Interface) with the following arguments:\n",
      "\n",
      "- Config filename: The path to the configuration file containing data directory and other settings (not used in this problem).\n",
      "- Flag: A single character flag representing a query type (B, O, A, AC, AD, AA, S).\n",
      "- Arguments for the flag: One or more arguments, depending on the query type, to filter and extract the desired information from the in-memory blockchain data store.\n",
      "\n",
      "Your solution should implement the following query types (flags):\n",
      "\n",
      "1. B - Get block information at a specific height or by its ID.\n",
      "   - Arguments: [Block ID or Height]\n",
      "\n",
      "2. O - Get the order details and its history by order ID.\n",
      "   - Arguments: [Order ID]\n",
      "\n",
      "3. A - Get the Waves balance history for a given address.\n",
      "   - Arguments: [Address]\n",
      "\n",
      "4. AC - Get the number of addresses in the blockchain.\n",
      "\n",
      "5. AD - Get the number of addresses sharing the same secondary identifier.\n",
      "   - Arguments: [Secondary identifier (e.g., public key, asset ID, etc.)]\n",
      "\n",
      "6. AA - Get the asset balance history for a given address and asset ID.\n",
      "   - Arguments: [Address] [Asset ID]\n",
      "\n",
      "7. S - Print the data store statistics.\n",
      "   - Arguments: None\n",
      "\n",
      "**[Solution]**\n",
      "\n",
      "Here's a possible solution for the given problem. You can implement an in-memory blockchain data store using a Map, in which keys and values represent blockchain data category and corresponding values, respectively.\n",
      "\n",
      "```javascript\n",
      "const keys = [\n",
      "  \"version\",\n",
      "  \"height\",\n",
      "  \"score\",\n",
      "  \"block-at-height\",\n",
      "  \"height-of\",\n",
      "  \"waves-balance-history\",\n",
      "  \"waves-balance\",\n",
      "  \"assets-for-address\",\n",
      "  \"asset-balance-history\",\n",
      "  \"asset-balance\",\n",
      "  \"asset-info-history\",\n",
      "  \"asset-info\",\n",
      "  \"lease-balance-history\",\n",
      "  \"lease-balance\",\n",
      "  \"lease-status-history\",\n",
      "  \"lease-status\",\n",
      "  \"filled-volume-and-fee-history\",\n",
      "  \"filled-volume-and-fee\",\n",
      "  \"transaction-info\",\n",
      "  \"address-transaction-history\",\n",
      "  \"address-transaction-ids-at-height\",\n",
      "  \"changed-addresses\",\n",
      "  \"transaction-ids-at-height\",\n",
      "  \"address-id-of-alias\",\n",
      "  \"last-address-id\",\n",
      "  \"address-to-id\",\n",
      "  \"id-of-address\",\n",
      "  \"address-script-history\",\n",
      "  \"address-script\",\n",
      "  \"approved-features\",\n",
      "  \"activated-features\",\n",
      "  \"data-key-chunk-count\",\n",
      "  \"data-key-chunk\",\n",
      "  \"data-history\",\n",
      "  \"data\",\n",
      "  \"sponsorship-history\",\n",
      "  \"sponsorship\",\n",
      "  \"addresses-for-waves-seq-nr\",\n",
      "  \"addresses-for-waves\",\n",
      "  \"addresses-for-asset-seq-nr\",\n",
      "  \"addresses-for-asset\",\n",
      "  \"address-transaction-ids-seq-nr\",\n",
      "  \"address-transaction-ids\"\n",
      "];\n",
      "\n",
      "// Sample data store for illustration purposes\n",
      "const dataStore = {\n",
      "  // ... Populate sample data for various keys\n",
      "};\n",
      "\n",
      "function getBlockByIdOrHeight(blockIdOrHeight) {\n",
      "  // Implement query to find block by ID or height in dataStore\n",
      "}\n",
      "\n",
      "function getOrderDetailsAndHistory(orderId) {\n",
      "  // Implement query to find order and history in dataStore\n",
      "}\n",
      "\n",
      "function getWavesBalanceHistory(address) {\n",
      "  // Implement query to find Waves balance history in dataStore\n",
      "}\n",
      "\n",
      "function getAddressCount() {\n",
      "  // Implement query to find the number of addresses in dataStore\n",
      "}\n",
      "\n",
      "function getAddressCountBySecondaryId(secondaryId) {\n",
      "  // Implement query to find the number of addresses with the same secondary identifier\n",
      "}\n",
      "\n",
      "function getAssetBalanceHistory(address, assetId) {\n",
      "  // Implement query to find asset balance history for a given address and asset ID in dataStore\n",
      "}\n",
      "\n",
      "function printDataStoreStatistics() {\n",
      "  // Implement query to print the data store statistics\n",
      "}\n",
      "\n",
      "// Implement CLI to parse input arguments and call corresponding functions\n",
      "```\n",
      "\n",
      "You can populate sample data for various keys in the data store for testing and local development. Implement the provided function signatures and update the CLI to call these functions based on the input arguments. This should provide a starting point for implementing the given problem.\n"
     ]
    }
   ],
   "source": [
    "with open('mixtral-scala/0.json') as fopen:\n",
    "    print(json.loads(fopen.read()))"
   ]
  },
  {
   "cell_type": "code",
   "execution_count": null,
   "id": "c8c77c16",
   "metadata": {},
   "outputs": [
    {
     "name": "stderr",
     "output_type": "stream",
     "text": [
      " 12%|███████████▉                                                                                      | 12098/99472 [13:32:03<67:12:03,  2.77s/it]"
     ]
    }
   ],
   "source": [
    "max_worker = 50\n",
    "consumers = [Thread(target=consumer, args=(queue,i)) for i in range(max_worker)]\n",
    "for i in range(len(consumers)):\n",
    "    consumers[i].start()\n",
    "    \n",
    "pbar = tqdm(total=ori_size)\n",
    "last_size = 0\n",
    "while True:\n",
    "    size = queue.qsize()\n",
    "    if size == 0:\n",
    "        break\n",
    "    left = ori_size - size\n",
    "    minus = left - last_size\n",
    "    if minus > 0:\n",
    "        pbar.update(minus)\n",
    "        last_size += minus\n",
    "\n",
    "pbar.close()"
   ]
  },
  {
   "cell_type": "code",
   "execution_count": null,
   "id": "4f1e0e1b",
   "metadata": {},
   "outputs": [],
   "source": []
  }
 ],
 "metadata": {
  "kernelspec": {
   "display_name": "Python 3 (ipykernel)",
   "language": "python",
   "name": "python3"
  },
  "language_info": {
   "codemirror_mode": {
    "name": "ipython",
    "version": 3
   },
   "file_extension": ".py",
   "mimetype": "text/x-python",
   "name": "python",
   "nbconvert_exporter": "python",
   "pygments_lexer": "ipython3",
   "version": "3.8.10"
  }
 },
 "nbformat": 4,
 "nbformat_minor": 5
}
