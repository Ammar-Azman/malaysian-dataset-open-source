{
 "cells": [
  {
   "cell_type": "code",
   "execution_count": 3,
   "id": "088a2ec8",
   "metadata": {},
   "outputs": [],
   "source": [
    "# !wget https://huggingface.co/datasets/liuhaotian/LLaVA-Instruct-150K/resolve/main/conversation_58k.json\n",
    "# !wget https://huggingface.co/datasets/liuhaotian/LLaVA-Instruct-150K/resolve/main/complex_reasoning_77k.json\n",
    "# !wget https://huggingface.co/datasets/liuhaotian/LLaVA-Instruct-150K/resolve/main/detail_23k.json\n",
    "# !wget https://huggingface.co/datasets/liuhaotian/LLaVA-Instruct-150K/resolve/main/llava_v1_5_mix665k.json"
   ]
  },
  {
   "cell_type": "code",
   "execution_count": 4,
   "id": "39181f9a",
   "metadata": {},
   "outputs": [],
   "source": [
    "import json"
   ]
  },
  {
   "cell_type": "code",
   "execution_count": 21,
   "id": "f715a381",
   "metadata": {},
   "outputs": [],
   "source": [
    "files = [\n",
    "    'conversation_58k.json',\n",
    "    'complex_reasoning_77k.json',\n",
    "    'detail_23k.json'\n",
    "]\n",
    "\n",
    "conversations = []\n",
    "for f in files:\n",
    "    with open(f) as fopen:\n",
    "        data = json.load(fopen)\n",
    "    \n",
    "    for d in data:\n",
    "        conversations.extend(d['conversations'])"
   ]
  },
  {
   "cell_type": "code",
   "execution_count": 22,
   "id": "8240605b",
   "metadata": {},
   "outputs": [
    {
     "data": {
      "text/plain": [
       "713506"
      ]
     },
     "execution_count": 22,
     "metadata": {},
     "output_type": "execute_result"
    }
   ],
   "source": [
    "len(conversations)"
   ]
  },
  {
   "cell_type": "code",
   "execution_count": 26,
   "id": "edf3c77f",
   "metadata": {},
   "outputs": [
    {
     "data": {
      "text/plain": [
       "713506"
      ]
     },
     "execution_count": 26,
     "metadata": {},
     "output_type": "execute_result"
    }
   ],
   "source": [
    "texts = []\n",
    "for c in conversations:\n",
    "    texts.append(c['value'])\n",
    "    \n",
    "len(texts)"
   ]
  },
  {
   "cell_type": "code",
   "execution_count": 27,
   "id": "8103b2d2",
   "metadata": {},
   "outputs": [],
   "source": [
    "with open('llava-instruct.text', 'w') as fopen:\n",
    "    for t in texts:\n",
    "        fopen.write(f'{json.dumps(t)}\\n')"
   ]
  },
  {
   "cell_type": "code",
   "execution_count": 28,
   "id": "bd1a2151",
   "metadata": {},
   "outputs": [],
   "source": [
    "!split -l 400000 -d --additional-suffix=.splitted llava-instruct.text llava-instruct.text"
   ]
  },
  {
   "cell_type": "code",
   "execution_count": 29,
   "id": "4cf83bc0",
   "metadata": {},
   "outputs": [
    {
     "name": "stdout",
     "output_type": "stream",
     "text": [
      "llava-instruct.text\t\tllava-instruct.text01.splitted\r\n",
      "llava-instruct.text00.splitted\r\n"
     ]
    }
   ],
   "source": [
    "!ls llava-instruct.text*"
   ]
  },
  {
   "cell_type": "code",
   "execution_count": 38,
   "id": "087f75bd",
   "metadata": {
    "scrolled": true
   },
   "outputs": [
    {
     "data": {
      "text/plain": [
       "606506"
      ]
     },
     "execution_count": 38,
     "metadata": {},
     "output_type": "execute_result"
    }
   ],
   "source": [
    "from glob import glob\n",
    "\n",
    "mapping = {}\n",
    "for f in glob('llava-instruct.text*.splitted.requested'):\n",
    "    with open(f) as fopen:\n",
    "        for l in fopen:\n",
    "            l = json.loads(l)\n",
    "            mapping[l['src']] = l['r']\n",
    "            \n",
    "len(mapping)"
   ]
  },
  {
   "cell_type": "code",
   "execution_count": 46,
   "id": "f22d93a1",
   "metadata": {},
   "outputs": [],
   "source": [
    "with open('conversation_58k.json') as fopen:\n",
    "    data = json.load(fopen)\n",
    "    \n",
    "with open('conversation_58k.json.translated', 'w') as fopen:\n",
    "    for d in data:\n",
    "        for i in range(len(d['conversations'])):\n",
    "            d['conversations'][i]['value_ms'] = mapping.get(d['conversations'][i]['value'])\n",
    "        fopen.write(f'{json.dumps(d)}\\n')"
   ]
  },
  {
   "cell_type": "code",
   "execution_count": 47,
   "id": "b6a0c762",
   "metadata": {},
   "outputs": [],
   "source": [
    "with open('complex_reasoning_77k.json') as fopen:\n",
    "    data = json.load(fopen)\n",
    "    \n",
    "with open('complex_reasoning_77k.json.translated', 'w') as fopen:\n",
    "    for d in data:\n",
    "        for i in range(len(d['conversations'])):\n",
    "            d['conversations'][i]['value_ms'] = mapping.get(d['conversations'][i]['value'])\n",
    "        fopen.write(f'{json.dumps(d)}\\n')"
   ]
  },
  {
   "cell_type": "code",
   "execution_count": 48,
   "id": "6db0ce39",
   "metadata": {},
   "outputs": [],
   "source": [
    "with open('detail_23k.json') as fopen:\n",
    "    data = json.load(fopen)\n",
    "    \n",
    "with open('detail_23k.json.translated', 'w') as fopen:\n",
    "    for d in data:\n",
    "        for i in range(len(d['conversations'])):\n",
    "            d['conversations'][i]['value_ms'] = mapping.get(d['conversations'][i]['value'])\n",
    "        fopen.write(f'{json.dumps(d)}\\n')"
   ]
  }
 ],
 "metadata": {
  "kernelspec": {
   "display_name": "Python 3 (ipykernel)",
   "language": "python",
   "name": "python3"
  },
  "language_info": {
   "codemirror_mode": {
    "name": "ipython",
    "version": 3
   },
   "file_extension": ".py",
   "mimetype": "text/x-python",
   "name": "python",
   "nbconvert_exporter": "python",
   "pygments_lexer": "ipython3",
   "version": "3.8.10"
  }
 },
 "nbformat": 4,
 "nbformat_minor": 5
}
