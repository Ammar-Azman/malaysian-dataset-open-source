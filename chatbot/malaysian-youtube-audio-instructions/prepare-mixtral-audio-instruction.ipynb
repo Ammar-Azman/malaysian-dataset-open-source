{
 "cells": [
  {
   "cell_type": "code",
   "execution_count": 1,
   "id": "03975148",
   "metadata": {},
   "outputs": [
    {
     "name": "stderr",
     "output_type": "stream",
     "text": [
      "/home/husein/.local/lib/python3.8/site-packages/requests/__init__.py:102: RequestsDependencyWarning: urllib3 (1.26.15) or chardet (5.2.0)/charset_normalizer (2.0.7) doesn't match a supported version!\n",
      "  warnings.warn(\"urllib3 ({}) or chardet ({})/charset_normalizer ({}) doesn't match a supported \"\n"
     ]
    }
   ],
   "source": [
    "from huggingface_hub import InferenceClient\n",
    "from tqdm import tqdm\n",
    "import os\n",
    "import json"
   ]
  },
  {
   "cell_type": "code",
   "execution_count": 2,
   "id": "6965e92b",
   "metadata": {},
   "outputs": [],
   "source": [
    "# !wget https://huggingface.co/datasets/mesolitica/pseudolabel-malaysian-youtube-whisper-large-v3/resolve/main/pseudolabel.jsonl"
   ]
  },
  {
   "cell_type": "code",
   "execution_count": 3,
   "id": "fda9e2f5",
   "metadata": {},
   "outputs": [
    {
     "name": "stderr",
     "output_type": "stream",
     "text": [
      "2221856it [00:08, 249134.77it/s]\n"
     ]
    }
   ],
   "source": [
    "texts = []\n",
    "with open('pseudolabel.jsonl') as fopen:\n",
    "    for l in tqdm(fopen):\n",
    "        l = json.loads(l)\n",
    "        if l['score_ms'] < 8:\n",
    "            continue\n",
    "        t = l['predict_ms'][42:-13].strip()\n",
    "        if len(t.split()) < 70:\n",
    "            continue\n",
    "        texts.append((l['audio_filename'], t))\n",
    "        \n",
    "        if l['score_en'] < 8:\n",
    "            continue\n",
    "        t = l['predict_en'][42:-13].strip()\n",
    "        if len(t.split()) < 70:\n",
    "            continue\n",
    "        \n",
    "        texts.append((l['audio_filename'], t))"
   ]
  },
  {
   "cell_type": "code",
   "execution_count": 4,
   "id": "94a81bd4",
   "metadata": {},
   "outputs": [
    {
     "data": {
      "text/plain": [
       "514126"
      ]
     },
     "execution_count": 4,
     "metadata": {},
     "output_type": "execute_result"
    }
   ],
   "source": [
    "len(texts)"
   ]
  },
  {
   "cell_type": "code",
   "execution_count": 5,
   "id": "108343c0",
   "metadata": {},
   "outputs": [],
   "source": [
    "with open('filter-pseudolabel.jsonl', 'w') as fopen:\n",
    "    for l in texts:\n",
    "        fopen.write(f'{json.dumps(l)}\\n')"
   ]
  },
  {
   "cell_type": "code",
   "execution_count": 6,
   "id": "58c156bc",
   "metadata": {},
   "outputs": [],
   "source": [
    "from huggingface_hub import HfApi\n",
    "api = HfApi()"
   ]
  },
  {
   "cell_type": "code",
   "execution_count": 7,
   "id": "a4b9ff40",
   "metadata": {},
   "outputs": [
    {
     "data": {
      "application/vnd.jupyter.widget-view+json": {
       "model_id": "e6ddd747be824d33b87a704ccd25ce14",
       "version_major": 2,
       "version_minor": 0
      },
      "text/plain": [
       "filter-pseudolabel.jsonl:   0%|          | 0.00/289M [00:00<?, ?B/s]"
      ]
     },
     "metadata": {},
     "output_type": "display_data"
    },
    {
     "data": {
      "text/plain": [
       "CommitInfo(commit_url='https://huggingface.co/datasets/mesolitica/malaysian-youtube-audio-instructions/commit/916a25f705b4c8227b477ff6d4f2007260ec35b3', commit_message='Upload filter-pseudolabel.jsonl with huggingface_hub', commit_description='', oid='916a25f705b4c8227b477ff6d4f2007260ec35b3', pr_url=None, pr_revision=None, pr_num=None)"
      ]
     },
     "execution_count": 7,
     "metadata": {},
     "output_type": "execute_result"
    }
   ],
   "source": [
    "api.upload_file(\n",
    "    path_or_fileobj='filter-pseudolabel.jsonl',\n",
    "    path_in_repo='filter-pseudolabel.jsonl',\n",
    "    repo_id='mesolitica/malaysian-youtube-audio-instructions',\n",
    "    repo_type='dataset',\n",
    ")"
   ]
  }
 ],
 "metadata": {
  "kernelspec": {
   "display_name": "Python 3 (ipykernel)",
   "language": "python",
   "name": "python3"
  },
  "language_info": {
   "codemirror_mode": {
    "name": "ipython",
    "version": 3
   },
   "file_extension": ".py",
   "mimetype": "text/x-python",
   "name": "python",
   "nbconvert_exporter": "python",
   "pygments_lexer": "ipython3",
   "version": "3.8.10"
  }
 },
 "nbformat": 4,
 "nbformat_minor": 5
}
