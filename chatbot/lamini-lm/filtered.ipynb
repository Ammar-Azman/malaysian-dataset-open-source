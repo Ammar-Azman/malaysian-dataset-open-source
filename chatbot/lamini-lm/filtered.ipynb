{
 "cells": [
  {
   "cell_type": "code",
   "execution_count": 1,
   "metadata": {},
   "outputs": [
    {
     "data": {
      "text/plain": [
       "['lamini-lm-filtered-noncode.jsonl05.splitted.requested',\n",
       " 'lamini-lm-filtered-noncode.jsonl07.splitted.requested',\n",
       " 'lamini-lm-filtered-noncode.jsonl08.splitted.requested',\n",
       " 'lamini-lm-filtered-noncode.jsonl25.splitted.requested',\n",
       " 'lamini-lm-filtered-noncode.jsonl26.splitted.requested',\n",
       " 'lamini-lm-filtered-noncode.jsonl24.splitted.requested',\n",
       " 'lamini-lm-filtered-noncode.jsonl03.splitted.requested',\n",
       " 'lamini-lm-filtered-noncode.jsonl30.splitted.requested',\n",
       " 'lamini-lm-filtered-noncode.jsonl23.splitted.requested',\n",
       " 'lamini-lm-filtered-noncode.jsonl21.splitted.requested',\n",
       " 'lamini-lm-filtered-noncode.jsonl44.splitted.requested',\n",
       " 'lamini-lm-filtered-noncode.jsonl18.splitted.requested',\n",
       " 'lamini-lm-filtered-noncode.jsonl29.splitted.requested',\n",
       " 'lamini-lm-filtered-noncode.jsonl11.splitted.requested',\n",
       " 'lamini-lm-filtered-noncode.jsonl40.splitted.requested',\n",
       " 'lamini-lm-filtered-noncode.jsonl41.splitted.requested',\n",
       " 'lamini-lm-filtered-noncode.jsonl37.splitted.requested',\n",
       " 'lamini-lm-filtered-noncode.jsonl47.splitted.requested',\n",
       " 'lamini-lm-filtered-noncode.jsonl39.splitted.requested',\n",
       " 'lamini-lm-filtered-noncode.jsonl15.splitted.requested',\n",
       " 'lamini-lm-filtered-noncode.jsonl17.splitted.requested',\n",
       " 'lamini-lm-filtered-noncode.jsonl36.splitted.requested',\n",
       " 'lamini-lm-filtered-noncode.jsonl48.splitted.requested',\n",
       " 'lamini-lm-filtered-noncode.jsonl49.splitted.requested',\n",
       " 'lamini-lm-filtered-noncode.jsonl50.splitted.requested',\n",
       " 'lamini-lm-filtered-noncode.jsonl19.splitted.requested',\n",
       " 'lamini-lm-filtered-noncode.jsonl01.splitted.requested',\n",
       " 'lamini-lm-filtered-noncode.jsonl20.splitted.requested',\n",
       " 'lamini-lm-filtered-noncode.jsonl28.splitted.requested',\n",
       " 'lamini-lm-filtered-noncode.jsonl43.splitted.requested',\n",
       " 'lamini-lm-filtered-noncode.jsonl33.splitted.requested',\n",
       " 'lamini-lm-filtered-noncode.jsonl16.splitted.requested',\n",
       " 'lamini-lm-filtered-noncode.jsonl45.splitted.requested',\n",
       " 'lamini-lm-filtered-noncode.jsonl09.splitted.requested',\n",
       " 'lamini-lm-filtered-noncode.jsonl35.splitted.requested',\n",
       " 'lamini-lm-filtered-noncode.jsonl38.splitted.requested',\n",
       " 'lamini-lm-filtered-noncode.jsonl42.splitted.requested',\n",
       " 'lamini-lm-filtered-noncode.jsonl10.splitted.requested',\n",
       " 'lamini-lm-filtered-noncode.jsonl27.splitted.requested',\n",
       " 'lamini-lm-filtered-noncode.jsonl13.splitted.requested',\n",
       " 'lamini-lm-filtered-noncode.jsonl14.splitted.requested',\n",
       " 'lamini-lm-filtered-noncode.jsonl04.splitted.requested',\n",
       " 'lamini-lm-filtered-noncode.jsonl22.splitted.requested',\n",
       " 'lamini-lm-filtered-noncode.jsonl46.splitted.requested',\n",
       " 'lamini-lm-filtered-noncode.jsonl31.splitted.requested',\n",
       " 'lamini-lm-filtered-noncode.jsonl12.splitted.requested',\n",
       " 'lamini-lm-filtered-noncode.jsonl32.splitted.requested',\n",
       " 'lamini-lm-filtered-noncode.jsonl51.splitted.requested',\n",
       " 'lamini-lm-filtered-noncode.jsonl06.splitted.requested',\n",
       " 'lamini-lm-filtered-noncode.jsonl02.splitted.requested',\n",
       " 'lamini-lm-filtered-noncode.jsonl34.splitted.requested',\n",
       " 'lamini-lm-filtered-noncode.jsonl00.splitted.requested']"
      ]
     },
     "execution_count": 1,
     "metadata": {},
     "output_type": "execute_result"
    }
   ],
   "source": [
    "import json\n",
    "from glob import glob\n",
    "\n",
    "files = glob('*.splitted.requested')\n",
    "files"
   ]
  },
  {
   "cell_type": "code",
   "execution_count": 2,
   "metadata": {},
   "outputs": [],
   "source": [
    "with open('translated-lamini-lm-filtered-noncode.jsonl', 'w') as fopen_l:\n",
    "    for f in files:\n",
    "        with open(f) as fopen:\n",
    "            for l in fopen:\n",
    "                l = json.loads(l)\n",
    "                if l['r'][1] is None:\n",
    "                    continue\n",
    "                fopen_l.write(f'{json.dumps(l)}\\n')"
   ]
  },
  {
   "cell_type": "code",
   "execution_count": 3,
   "metadata": {},
   "outputs": [
    {
     "name": "stdout",
     "output_type": "stream",
     "text": [
      "2563011 translated-lamini-lm-filtered-noncode.jsonl\r\n"
     ]
    }
   ],
   "source": [
    "!wc -l translated-lamini-lm-filtered-noncode.jsonl"
   ]
  },
  {
   "cell_type": "code",
   "execution_count": 4,
   "metadata": {},
   "outputs": [
    {
     "name": "stdout",
     "output_type": "stream",
     "text": [
      "{\"src\": {\"instruction\": \"What is the towing capacity of the Ford F-150?\", \"response\": \"The towing capacity of the Ford F-150 varies depending on the model and configuration. However, the towing capacity ranges from 5,000 to 14,000 pounds.\"}, \"r\": [{\"result\": \"Berapakah kapasiti menunda Ford F-150?\", \"pronunciation\": \"undefined\", \"from\": {}}, {\"result\": \"Kapasiti menunda Ford F-150 berbeza-beza bergantung pada model dan konfigurasi. Walau bagaimanapun, kapasiti tunda berkisar antara 5,000 hingga 14,000 paun.\", \"pronunciation\": \"undefined\", \"from\": {}}]}\r\n",
      "{\"src\": {\"instruction\": \"Concepts: building, corner, perspective\\n\\nWrite a sentence that includes all these words.\", \"response\": \"When drawing a building from a certain angle, adding details to the corner can enhance the perspective.\"}, \"r\": [{\"result\": \"Konsep: bangunan, sudut, perspektif\\n\\nTulis ayat yang merangkumi semua perkataan ini.\", \"pronunciation\": \"undefined\", \"from\": {}}, {\"result\": \"Apabila melukis bangunan dari sudut tertentu, menambah butiran pada sudut boleh meningkatkan perspektif.\", \"pronunciation\": \"undefined\", \"from\": {}}]}\r\n"
     ]
    }
   ],
   "source": [
    "!head -2 translated-lamini-lm-filtered-noncode.jsonl"
   ]
  }
 ],
 "metadata": {
  "kernelspec": {
   "display_name": "Python 3 (ipykernel)",
   "language": "python",
   "name": "python3"
  },
  "language_info": {
   "codemirror_mode": {
    "name": "ipython",
    "version": 3
   },
   "file_extension": ".py",
   "mimetype": "text/x-python",
   "name": "python",
   "nbconvert_exporter": "python",
   "pygments_lexer": "ipython3",
   "version": "3.8.10"
  }
 },
 "nbformat": 4,
 "nbformat_minor": 4
}
