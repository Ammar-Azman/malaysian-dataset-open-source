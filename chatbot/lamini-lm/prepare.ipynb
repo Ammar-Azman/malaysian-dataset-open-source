{
 "cells": [
  {
   "cell_type": "code",
   "execution_count": 2,
   "metadata": {},
   "outputs": [],
   "source": [
    "# !wget https://huggingface.co/datasets/MBZUAI/LaMini-instruction/resolve/main/data/train-00000-of-00003-7899429aebb4446d.parquet\n",
    "# !wget https://huggingface.co/datasets/MBZUAI/LaMini-instruction/resolve/main/data/train-00001-of-00003-37c47143d7fffd27.parquet\n",
    "# !wget https://huggingface.co/datasets/MBZUAI/LaMini-instruction/resolve/main/data/train-00002-of-00003-18e21a8292b48a21.parquet"
   ]
  },
  {
   "cell_type": "code",
   "execution_count": 3,
   "metadata": {},
   "outputs": [
    {
     "data": {
      "text/plain": [
       "['train-00000-of-00003-7899429aebb4446d.parquet',\n",
       " 'train-00001-of-00003-37c47143d7fffd27.parquet',\n",
       " 'train-00002-of-00003-18e21a8292b48a21.parquet']"
      ]
     },
     "execution_count": 3,
     "metadata": {},
     "output_type": "execute_result"
    }
   ],
   "source": [
    "from glob import glob\n",
    "\n",
    "files = glob('*.parquet')\n",
    "files"
   ]
  },
  {
   "cell_type": "code",
   "execution_count": 4,
   "metadata": {},
   "outputs": [],
   "source": [
    "import pandas as pd\n",
    "\n",
    "dfs = []\n",
    "for f in files:\n",
    "    df = pd.read_parquet(f)\n",
    "    dfs.append(df)"
   ]
  },
  {
   "cell_type": "code",
   "execution_count": 5,
   "metadata": {
    "scrolled": true
   },
   "outputs": [
    {
     "data": {
      "text/html": [
       "<div>\n",
       "<style scoped>\n",
       "    .dataframe tbody tr th:only-of-type {\n",
       "        vertical-align: middle;\n",
       "    }\n",
       "\n",
       "    .dataframe tbody tr th {\n",
       "        vertical-align: top;\n",
       "    }\n",
       "\n",
       "    .dataframe thead th {\n",
       "        text-align: right;\n",
       "    }\n",
       "</style>\n",
       "<table border=\"1\" class=\"dataframe\">\n",
       "  <thead>\n",
       "    <tr style=\"text-align: right;\">\n",
       "      <th></th>\n",
       "      <th>instruction</th>\n",
       "      <th>response</th>\n",
       "    </tr>\n",
       "  </thead>\n",
       "  <tbody>\n",
       "    <tr>\n",
       "      <th>0</th>\n",
       "      <td>Given Miss Robin Crusoe is a 1954 Eastmancolor...</td>\n",
       "      <td>Maybe. While the movie was shot on location in...</td>\n",
       "    </tr>\n",
       "    <tr>\n",
       "      <th>1</th>\n",
       "      <td>Combine facts and answer this: Who was the fir...</td>\n",
       "      <td>The first female prime minister of the United ...</td>\n",
       "    </tr>\n",
       "    <tr>\n",
       "      <th>2</th>\n",
       "      <td>@maniar Thanks!  I hope this works, that we ca...</td>\n",
       "      <td>positive</td>\n",
       "    </tr>\n",
       "    <tr>\n",
       "      <th>3</th>\n",
       "      <td>Write a title:\\nROME (CBS) The Arab television...</td>\n",
       "      <td>\"Al-Jazeera Announces Release of Italian Hosta...</td>\n",
       "    </tr>\n",
       "    <tr>\n",
       "      <th>4</th>\n",
       "      <td>Generate a story from key plot points:\\n\\nJami...</td>\n",
       "      <td>Jamie Nokes, an 18-year-old, started a craze w...</td>\n",
       "    </tr>\n",
       "  </tbody>\n",
       "</table>\n",
       "</div>"
      ],
      "text/plain": [
       "                                         instruction  \\\n",
       "0  Given Miss Robin Crusoe is a 1954 Eastmancolor...   \n",
       "1  Combine facts and answer this: Who was the fir...   \n",
       "2  @maniar Thanks!  I hope this works, that we ca...   \n",
       "3  Write a title:\\nROME (CBS) The Arab television...   \n",
       "4  Generate a story from key plot points:\\n\\nJami...   \n",
       "\n",
       "                                            response  \n",
       "0  Maybe. While the movie was shot on location in...  \n",
       "1  The first female prime minister of the United ...  \n",
       "2                                           positive  \n",
       "3  \"Al-Jazeera Announces Release of Italian Hosta...  \n",
       "4  Jamie Nokes, an 18-year-old, started a craze w...  "
      ]
     },
     "execution_count": 5,
     "metadata": {},
     "output_type": "execute_result"
    }
   ],
   "source": [
    "dfs = pd.concat(dfs)\n",
    "dfs.head()"
   ]
  },
  {
   "cell_type": "code",
   "execution_count": 6,
   "metadata": {},
   "outputs": [],
   "source": [
    "html_tags = [\n",
    "    '<html>',\n",
    "    '<p>',\n",
    "    '</a>',\n",
    "    '<pre>',\n",
    "    '<code>',\n",
    "    '<body>',\n",
    "    '<div>',\n",
    "]"
   ]
  },
  {
   "cell_type": "code",
   "execution_count": 7,
   "metadata": {},
   "outputs": [
    {
     "name": "stderr",
     "output_type": "stream",
     "text": [
      "100%|██████████████████████████████| 2582019/2582019 [01:11<00:00, 36211.88it/s]\n"
     ]
    }
   ],
   "source": [
    "from tqdm import tqdm\n",
    "\n",
    "filtered = []\n",
    "for i in tqdm(range(len(dfs))):\n",
    "    data = dfs.iloc[i].to_dict()\n",
    "    if (\n",
    "        '`' not in data['instruction'] and\n",
    "        '`' not in data['response'] and\n",
    "        len(data['instruction']) < 4000 and\n",
    "        len(data['response']) < 4000 and\n",
    "        all([t not in data['instruction'] for t in html_tags]) and\n",
    "        all([t not in data['response'] for t in html_tags])\n",
    "    ):\n",
    "        filtered.append(data)"
   ]
  },
  {
   "cell_type": "code",
   "execution_count": 13,
   "metadata": {},
   "outputs": [
    {
     "data": {
      "text/plain": [
       "51"
      ]
     },
     "execution_count": 13,
     "metadata": {},
     "output_type": "execute_result"
    }
   ],
   "source": [
    "len(filtered) // 50000"
   ]
  },
  {
   "cell_type": "code",
   "execution_count": 12,
   "metadata": {},
   "outputs": [],
   "source": [
    "import json\n",
    "\n",
    "with open('lamini-lm-filtered-noncode.jsonl', 'w') as fopen:\n",
    "    for d in filtered:\n",
    "        fopen.write(f'{json.dumps(d)}\\n')"
   ]
  },
  {
   "cell_type": "code",
   "execution_count": 1,
   "metadata": {},
   "outputs": [],
   "source": [
    "!split -l 50000 -d --additional-suffix=.splitted lamini-lm-filtered-noncode.jsonl lamini-lm-filtered-noncode.jsonl"
   ]
  },
  {
   "cell_type": "code",
   "execution_count": 25,
   "metadata": {},
   "outputs": [
    {
     "name": "stderr",
     "output_type": "stream",
     "text": [
      "100%|██████████████████████████████| 2582019/2582019 [01:04<00:00, 40143.24it/s]\n"
     ]
    }
   ],
   "source": [
    "filtered = []\n",
    "for i in tqdm(range(len(dfs))):\n",
    "    data = dfs.iloc[i].to_dict()\n",
    "    if (\n",
    "        ('`' in data['instruction'] or\n",
    "        '`' in data['response']) and\n",
    "        len(data['instruction']) < 4000 and\n",
    "        len(data['response']) < 4000\n",
    "#         and (any([t in data['instruction'] for t in html_tags]) or\n",
    "#         any([t in data['response'] for t in html_tags]))\n",
    "    ):\n",
    "        filtered.append(data)"
   ]
  },
  {
   "cell_type": "code",
   "execution_count": 26,
   "metadata": {},
   "outputs": [
    {
     "data": {
      "text/plain": [
       "28895"
      ]
     },
     "execution_count": 26,
     "metadata": {},
     "output_type": "execute_result"
    }
   ],
   "source": [
    "len(filtered)"
   ]
  },
  {
   "cell_type": "code",
   "execution_count": 28,
   "metadata": {},
   "outputs": [],
   "source": [
    "import json\n",
    "\n",
    "with open('lamini-lm-filtered-code.jsonl', 'w') as fopen:\n",
    "    for d in filtered:\n",
    "        fopen.write(f'{json.dumps(d)}\\n')"
   ]
  }
 ],
 "metadata": {
  "kernelspec": {
   "display_name": "Python 3 (ipykernel)",
   "language": "python",
   "name": "python3"
  },
  "language_info": {
   "codemirror_mode": {
    "name": "ipython",
    "version": 3
   },
   "file_extension": ".py",
   "mimetype": "text/x-python",
   "name": "python",
   "nbconvert_exporter": "python",
   "pygments_lexer": "ipython3",
   "version": "3.8.10"
  }
 },
 "nbformat": 4,
 "nbformat_minor": 4
}
