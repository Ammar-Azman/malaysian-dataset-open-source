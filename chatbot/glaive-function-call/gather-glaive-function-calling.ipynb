{
 "cells": [
  {
   "cell_type": "code",
   "execution_count": 2,
   "id": "8f1e6da7",
   "metadata": {},
   "outputs": [],
   "source": [
    "import json\n",
    "from glob import glob"
   ]
  },
  {
   "cell_type": "code",
   "execution_count": 6,
   "id": "199c847d",
   "metadata": {},
   "outputs": [
    {
     "data": {
      "text/plain": [
       "111056"
      ]
     },
     "execution_count": 6,
     "metadata": {},
     "output_type": "execute_result"
    }
   ],
   "source": [
    "mapping = {}\n",
    "for f in glob('function.text*.splitted.requested'):\n",
    "    with open(f) as fopen:\n",
    "        for l in fopen:\n",
    "            l = json.loads(l)\n",
    "            mapping[l['src']] = l['r']\n",
    "len(mapping)"
   ]
  },
  {
   "cell_type": "code",
   "execution_count": 13,
   "id": "d9581580",
   "metadata": {},
   "outputs": [],
   "source": [
    "with open('function-call.translated.jsonl', 'w') as fopen_l:\n",
    "    with open('function-call.jsonl') as fopen:\n",
    "        for l in fopen:\n",
    "            l = json.loads(l)\n",
    "            for i in range(len(l['conversations'])):\n",
    "                if 'functioncall' in l['conversations'][i]['content'].lower():\n",
    "                    continue\n",
    "                l['conversations'][i]['content_ms'] = mapping.get(l['conversations'][i]['content'])\n",
    "\n",
    "            fopen_l.write(f'{json.dumps(l)}\\n')\n",
    "            fopen_l.flush()"
   ]
  },
  {
   "cell_type": "code",
   "execution_count": null,
   "id": "1664ce2b",
   "metadata": {},
   "outputs": [],
   "source": []
  }
 ],
 "metadata": {
  "kernelspec": {
   "display_name": "Python 3 (ipykernel)",
   "language": "python",
   "name": "python3"
  },
  "language_info": {
   "codemirror_mode": {
    "name": "ipython",
    "version": 3
   },
   "file_extension": ".py",
   "mimetype": "text/x-python",
   "name": "python",
   "nbconvert_exporter": "python",
   "pygments_lexer": "ipython3",
   "version": "3.8.10"
  }
 },
 "nbformat": 4,
 "nbformat_minor": 5
}
