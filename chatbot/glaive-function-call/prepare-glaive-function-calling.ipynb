{
 "cells": [
  {
   "cell_type": "code",
   "execution_count": 1,
   "id": "5a6eb57d",
   "metadata": {},
   "outputs": [],
   "source": [
    "# !wget https://huggingface.co/datasets/rizerphe/glaive-function-calling-v2-llama/resolve/main/data/train-00000-of-00001-5eaf45abe9bced63.parquet?download=true -O function-call.parquet"
   ]
  },
  {
   "cell_type": "code",
   "execution_count": 2,
   "id": "3b5793d2",
   "metadata": {},
   "outputs": [],
   "source": [
    "# !wget https://huggingface.co/datasets/glaiveai/glaive-function-calling-v2/resolve/main/glaive-function-calling-v2.json?download=true -O call.json"
   ]
  },
  {
   "cell_type": "code",
   "execution_count": 17,
   "id": "3cfcfbc9",
   "metadata": {},
   "outputs": [],
   "source": [
    "# !wget https://huggingface.co/datasets/glaiveai/glaive-function-calling/resolve/main/glaive_function_calling.json?download=true -O call-v1.json"
   ]
  },
  {
   "cell_type": "code",
   "execution_count": 46,
   "id": "065b21e2",
   "metadata": {},
   "outputs": [],
   "source": [
    "import json\n",
    "from tqdm import tqdm\n",
    "\n",
    "with open('call.json') as fopen:\n",
    "    data = json.load(fopen)"
   ]
  },
  {
   "cell_type": "code",
   "execution_count": 47,
   "id": "d4db7227",
   "metadata": {},
   "outputs": [
    {
     "data": {
      "text/plain": [
       "{'system': 'SYSTEM: You are a helpful assistant with access to the following functions. Use them if required -\\n{\\n    \"name\": \"get_exchange_rate\",\\n    \"description\": \"Get the exchange rate between two currencies\",\\n    \"parameters\": {\\n        \"type\": \"object\",\\n        \"properties\": {\\n            \"base_currency\": {\\n                \"type\": \"string\",\\n                \"description\": \"The currency to convert from\"\\n            },\\n            \"target_currency\": {\\n                \"type\": \"string\",\\n                \"description\": \"The currency to convert to\"\\n            }\\n        },\\n        \"required\": [\\n            \"base_currency\",\\n            \"target_currency\"\\n        ]\\n    }\\n}\\n',\n",
       " 'chat': \"USER: Can you book a flight for me from New York to London?\\n\\n\\nASSISTANT: I'm sorry, but I don't have the capability to book flights. My current function allows me to get the exchange rate between two currencies. If you need help with that, feel free to ask! <|endoftext|>\\n\\n\\n\"}"
      ]
     },
     "execution_count": 47,
     "metadata": {},
     "output_type": "execute_result"
    }
   ],
   "source": [
    "data[0]['chat']"
   ]
  },
  {
   "cell_type": "code",
   "execution_count": 54,
   "id": "f0881213",
   "metadata": {},
   "outputs": [
    {
     "name": "stderr",
     "output_type": "stream",
     "text": [
      "100%|███████████████████████████████| 112960/112960 [00:00<00:00, 307104.33it/s]\n"
     ]
    }
   ],
   "source": [
    "all_data = []\n",
    "for d in tqdm(data):\n",
    "    function_call = None\n",
    "    try:\n",
    "        function_call = d['system'].split('required -')[1]\n",
    "    except Exception as e:\n",
    "        continue\n",
    "    \n",
    "    conversations = []\n",
    "    splitted = d['chat'].split('ASSISTANT:')\n",
    "    conversations.append({\n",
    "        'role': 'user',\n",
    "        'content': splitted[0].split('USER:')[1].strip(),\n",
    "    })\n",
    "    for s in splitted[1:]:\n",
    "        s = s.replace('<|endoftext|>', '')\n",
    "        if 'USER:' in s:\n",
    "            s = s.split('USER:')\n",
    "            conversations.append({\n",
    "                'role': 'assistant',\n",
    "                'content': s[0].strip(),\n",
    "            })\n",
    "            conversations.append({\n",
    "                'role': 'user',\n",
    "                'content': s[1].strip(),\n",
    "            })\n",
    "        else:\n",
    "            conversations.append({\n",
    "                'role': 'assistant',\n",
    "                'content': s.strip(),\n",
    "            })\n",
    "        \n",
    "    all_data.append({\n",
    "        'function_call': function_call.strip(),\n",
    "        'conversations': conversations\n",
    "    })"
   ]
  },
  {
   "cell_type": "code",
   "execution_count": 55,
   "id": "d3c7f46c",
   "metadata": {},
   "outputs": [],
   "source": [
    "with open('call-v1.json') as fopen:\n",
    "    data_v1 = json.load(fopen)"
   ]
  },
  {
   "cell_type": "code",
   "execution_count": 56,
   "id": "29ec26b4",
   "metadata": {},
   "outputs": [
    {
     "name": "stderr",
     "output_type": "stream",
     "text": [
      "100%|█████████████████████████████████| 52893/52893 [00:00<00:00, 136932.45it/s]\n"
     ]
    }
   ],
   "source": [
    "for d in tqdm(data_v1):\n",
    "    system = d['sample'].split('USER:')[0]\n",
    "    function_call = None\n",
    "    try:\n",
    "        function_call = system.split('needed-')[1].strip()\n",
    "    except Exception as e:\n",
    "        continue\n",
    "    \n",
    "    conversations = []\n",
    "    splitted = ('USER: ' + 'USER:'.join(d['sample'].split('USER:')[1:]).strip()).split('ASSISTANT:')\n",
    "    conversations.append({\n",
    "        'role': 'user',\n",
    "        'content': splitted[0].split('USER:')[1].strip(),\n",
    "    })\n",
    "    for s in splitted[1:]:\n",
    "        s = s.replace('<|endoftext|>', '')\n",
    "        if 'USER:' in s:\n",
    "            s = s.split('USER:')\n",
    "            conversations.append({\n",
    "                'role': 'assistant',\n",
    "                'content': s[0].strip(),\n",
    "            })\n",
    "            conversations.append({\n",
    "                'role': 'user',\n",
    "                'content': s[1].strip(),\n",
    "            })\n",
    "        else:\n",
    "            conversations.append({\n",
    "                'role': 'assistant',\n",
    "                'content': s.strip(),\n",
    "            })\n",
    "        \n",
    "    all_data.append({\n",
    "        'function_call': function_call.strip(),\n",
    "        'conversations': conversations\n",
    "    })"
   ]
  },
  {
   "cell_type": "code",
   "execution_count": 58,
   "id": "7f553d25",
   "metadata": {},
   "outputs": [
    {
     "data": {
      "text/plain": [
       "{'function_call': '{\\n    \"name\": \"calculate_discount\",\\n    \"description\": \"Calculate the final price after applying a discount\",\\n    \"parameters\": {\\n        \"type\": \"object\",\\n        \"properties\": {\\n            \"original_price\": {\\n                \"type\": \"number\",\\n                \"description\": \"The original price of the item\"\\n            },\\n            \"discount_percentage\": {\\n                \"type\": \"number\",\\n                \"description\": \"The percentage of discount to be applied\"\\n            }\\n        },\\n        \"required\": [\\n            \"original_price\",\\n            \"discount_percentage\"\\n        ]\\n    }\\n}',\n",
       " 'conversations': [{'role': 'user',\n",
       "   'content': 'Can you help me calculate the final price after applying a discount?'},\n",
       "  {'role': 'assistant',\n",
       "   'content': 'Sure! I can help you with that. Please provide me with the original price and the discount percentage.'},\n",
       "  {'role': 'user',\n",
       "   'content': 'The original price is $100 and the discount percentage is 20%.'},\n",
       "  {'role': 'assistant',\n",
       "   'content': '<functioncall> {\"name\": \"calculate_discount\", \"arguments\": \\'{\\n  \"original_price\": 100,\\n  \"discount_percentage\": 20\\n}\\'}\\nFUNCTION RESPONSE: {\"final_price\": 80}'},\n",
       "  {'role': 'assistant',\n",
       "   'content': 'The final price after applying a 20% discount to an original price of $100 is $80.'},\n",
       "  {'role': 'user', 'content': \"That's great! Thank you for your help.\"},\n",
       "  {'role': 'assistant',\n",
       "   'content': \"You're welcome! If you have any more questions, feel free to ask.\"}]}"
      ]
     },
     "execution_count": 58,
     "metadata": {},
     "output_type": "execute_result"
    }
   ],
   "source": [
    "all_data[-1]"
   ]
  },
  {
   "cell_type": "code",
   "execution_count": 57,
   "id": "ce032a40",
   "metadata": {},
   "outputs": [
    {
     "data": {
      "text/plain": [
       "121254"
      ]
     },
     "execution_count": 57,
     "metadata": {},
     "output_type": "execute_result"
    }
   ],
   "source": [
    "len(all_data)"
   ]
  },
  {
   "cell_type": "code",
   "execution_count": 59,
   "id": "46935619",
   "metadata": {},
   "outputs": [],
   "source": [
    "with open('function-call.jsonl', 'w') as fopen:\n",
    "    for d in all_data:\n",
    "        fopen.write(f'{json.dumps(d)}\\n')"
   ]
  },
  {
   "cell_type": "code",
   "execution_count": 60,
   "id": "3b0005e6",
   "metadata": {
    "scrolled": true
   },
   "outputs": [
    {
     "data": {
      "text/plain": [
       "551914"
      ]
     },
     "execution_count": 60,
     "metadata": {},
     "output_type": "execute_result"
    }
   ],
   "source": [
    "texts = []\n",
    "for d in all_data:\n",
    "    for c in d['conversations']:\n",
    "        if 'functioncall' not in c['content']:\n",
    "            texts.append(c['content'])\n",
    "            \n",
    "len(texts)"
   ]
  },
  {
   "cell_type": "code",
   "execution_count": 61,
   "id": "90c34106",
   "metadata": {},
   "outputs": [
    {
     "data": {
      "text/plain": [
       "111056"
      ]
     },
     "execution_count": 61,
     "metadata": {},
     "output_type": "execute_result"
    }
   ],
   "source": [
    "texts = [str(t) if isinstance(t, dict) else t for t in texts]\n",
    "texts = [t for t in texts if len(t)]\n",
    "texts = list(set(texts))\n",
    "len(texts)"
   ]
  },
  {
   "cell_type": "code",
   "execution_count": 62,
   "id": "547ff52e",
   "metadata": {},
   "outputs": [
    {
     "data": {
      "text/plain": [
       "[\"I'm sorry, but I'm unable to assist with booking flights. My current capabilities are limited to calculating loan payments based on the principal amount, interest rate, and term. If you need help with that, feel free to ask!\",\n",
       " \"I need to create an invoice for my client, John Doe. The amount is $5000 and it's due on 2022-12-31.\",\n",
       " \"I'm sorry, but I'm unable to perform external tasks like ordering a pizza. My current capabilities are limited to the functions provided to me. In this case, I can help you calculate the tip amount for a bill.\",\n",
       " 'The current traffic on the Brooklyn Bridge is heavy. It is estimated that it will take around 30 minutes to cross.',\n",
       " 'Based on the details provided, your estimated insurance premium would be $200 per month.',\n",
       " 'Here are more details about Hotel ABC:\\n- Price: $200 per night\\n- Rating: 4.5\\n- Amenities: Free Wi-Fi, Swimming Pool, Gym\\n- Contact: Phone - +1 123-456-7890, Email - info@hotelabc.com',\n",
       " \"That's a lot of yen! Thanks for the help.\",\n",
       " 'The event \"Annual Meeting\" has been successfully created in your calendar for the date 2022-05-15.',\n",
       " \"Let's calculate the first 10 terms.\",\n",
       " 'I just finished a 30-minute run and I think I burned around 200 calories. Can you track this for me?']"
      ]
     },
     "execution_count": 62,
     "metadata": {},
     "output_type": "execute_result"
    }
   ],
   "source": [
    "texts[:10]"
   ]
  },
  {
   "cell_type": "code",
   "execution_count": 67,
   "id": "3743f1fe",
   "metadata": {},
   "outputs": [],
   "source": [
    "with open('function.text', 'w') as fopen:\n",
    "    for t in texts:\n",
    "        fopen.write(f'{json.dumps(t)}\\n')"
   ]
  },
  {
   "cell_type": "code",
   "execution_count": 73,
   "id": "301774d2",
   "metadata": {},
   "outputs": [],
   "source": [
    "!split -l 50000 -d --additional-suffix=.splitted function.text function.text"
   ]
  },
  {
   "cell_type": "code",
   "execution_count": 74,
   "id": "2530ffbe",
   "metadata": {},
   "outputs": [
    {
     "name": "stdout",
     "output_type": "stream",
     "text": [
      "function.text\t\t  function.text01.splitted\r\n",
      "function.text00.splitted  function.text02.splitted\r\n"
     ]
    }
   ],
   "source": [
    "!ls function.text*"
   ]
  },
  {
   "cell_type": "code",
   "execution_count": 72,
   "id": "890fe543",
   "metadata": {},
   "outputs": [],
   "source": [
    "!rm function.text0*.splitted*"
   ]
  },
  {
   "cell_type": "code",
   "execution_count": null,
   "id": "480866da",
   "metadata": {},
   "outputs": [],
   "source": []
  }
 ],
 "metadata": {
  "kernelspec": {
   "display_name": "Python 3 (ipykernel)",
   "language": "python",
   "name": "python3"
  },
  "language_info": {
   "codemirror_mode": {
    "name": "ipython",
    "version": 3
   },
   "file_extension": ".py",
   "mimetype": "text/x-python",
   "name": "python",
   "nbconvert_exporter": "python",
   "pygments_lexer": "ipython3",
   "version": "3.8.10"
  }
 },
 "nbformat": 4,
 "nbformat_minor": 5
}
