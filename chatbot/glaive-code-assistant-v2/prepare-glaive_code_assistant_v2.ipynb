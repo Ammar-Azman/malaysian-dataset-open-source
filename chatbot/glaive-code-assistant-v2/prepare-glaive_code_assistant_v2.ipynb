{
 "cells": [
  {
   "cell_type": "code",
   "execution_count": 3,
   "id": "406bef07",
   "metadata": {},
   "outputs": [],
   "source": [
    "import json\n",
    "\n",
    "with open('glaive_code_assistant_v2.json') as fopen:\n",
    "    data = json.load(fopen)"
   ]
  },
  {
   "cell_type": "code",
   "execution_count": 5,
   "id": "ce85a147",
   "metadata": {},
   "outputs": [
    {
     "data": {
      "text/plain": [
       "429390"
      ]
     },
     "execution_count": 5,
     "metadata": {},
     "output_type": "execute_result"
    }
   ],
   "source": [
    "texts = []\n",
    "for d in data:\n",
    "    texts.extend(list(d.values()))\n",
    "    \n",
    "texts = [t for t in texts if len(t)]\n",
    "texts = sorted(list(set(texts)))\n",
    "len(texts)"
   ]
  },
  {
   "cell_type": "code",
   "execution_count": 2,
   "id": "f6a87633",
   "metadata": {},
   "outputs": [],
   "source": [
    "with open('glaive_code_assistant_v2.jsonl') as fopen:\n",
    "    for t in texts:\n",
    "        fopen.write(f'{json.dumps(t)}\\n')"
   ]
  },
  {
   "cell_type": "code",
   "execution_count": 1,
   "id": "881955bd",
   "metadata": {},
   "outputs": [
    {
     "name": "stdout",
     "output_type": "stream",
     "text": [
      "{\"src\": \"\\\"\\\"\\\"\\n    @param a: The first integer\\n    @param b: The second integer\\n    @return:  The sum of a and b\\n    \\\"\\\"\\\"\\n    def aplusb(self, a, b):\\n        while b != 0:\\n            carry = (a & b) << 1\\n            a = a ^ b\\n            b = carry\\n        \\n        return a\\n```\\n\\nIn this modified version, the carry is calculated using the bitwise AND operator (`&`) and then shifted to the left by 1 position. This allows for more efficient computation of the carries and avoids the infinite loop.\\n\\nBy making this modification, the algorithm should now work correctly in Python for the given test case [100, -100].\", \"r\": \"\\\"\\\"\\\"\\n    @param a: Integer pertama\\n    @param b: Integer kedua\\n    @return: Jumlah a dan b\\n    \\\"\\\"\\\"\\n    def aplusb(self, a, b):\\n        while b!= 0:\\n            carry = (a & b) << 1\\n            a = a  b\\n            b = carry\\n        \\n        return a\\n```\\n\\nDalam versi yang diubah suai ini, carry dikira menggunakan operator AND bitwise (`&`) dan kemudian dialih ke kiri dengan 1 posisi. Ini membolehkan pengiraan carry yang lebih cekap dan mengelakkan gelung yang tidak terhingga.\\n\\nDengan membuat pengubahsuaian ini, algoritma sepatutnya berfungsi dengan betul dalam Python untuk kes ujian yang diberikan [100, -100].\"}\r\n"
     ]
    }
   ],
   "source": [
    "!head -n 1 glaive_code_assistant_v2.jsonl00.splitted.requested"
   ]
  },
  {
   "cell_type": "code",
   "execution_count": 3,
   "id": "d20ae139",
   "metadata": {},
   "outputs": [],
   "source": [
    "import json\n",
    "\n",
    "with open('glaive_code_assistant_v2.jsonl00.splitted.requested') as fopen:\n",
    "    for l in fopen:\n",
    "        l = json.loads(l)\n",
    "        break"
   ]
  },
  {
   "cell_type": "code",
   "execution_count": 6,
   "id": "cec2f8d7",
   "metadata": {},
   "outputs": [
    {
     "name": "stdout",
     "output_type": "stream",
     "text": [
      "\"\"\"\n",
      "    @param a: The first integer\n",
      "    @param b: The second integer\n",
      "    @return:  The sum of a and b\n",
      "    \"\"\"\n",
      "    def aplusb(self, a, b):\n",
      "        while b != 0:\n",
      "            carry = (a & b) << 1\n",
      "            a = a ^ b\n",
      "            b = carry\n",
      "        \n",
      "        return a\n",
      "```\n",
      "\n",
      "In this modified version, the carry is calculated using the bitwise AND operator (`&`) and then shifted to the left by 1 position. This allows for more efficient computation of the carries and avoids the infinite loop.\n",
      "\n",
      "By making this modification, the algorithm should now work correctly in Python for the given test case [100, -100].\n"
     ]
    }
   ],
   "source": [
    "print(l['src'])"
   ]
  },
  {
   "cell_type": "code",
   "execution_count": 7,
   "id": "f18594a8",
   "metadata": {},
   "outputs": [
    {
     "name": "stdout",
     "output_type": "stream",
     "text": [
      "\"\"\"\n",
      "    @param a: Integer pertama\n",
      "    @param b: Integer kedua\n",
      "    @return: Jumlah a dan b\n",
      "    \"\"\"\n",
      "    def aplusb(self, a, b):\n",
      "        while b!= 0:\n",
      "            carry = (a & b) << 1\n",
      "            a = a  b\n",
      "            b = carry\n",
      "        \n",
      "        return a\n",
      "```\n",
      "\n",
      "Dalam versi yang diubah suai ini, carry dikira menggunakan operator AND bitwise (`&`) dan kemudian dialih ke kiri dengan 1 posisi. Ini membolehkan pengiraan carry yang lebih cekap dan mengelakkan gelung yang tidak terhingga.\n",
      "\n",
      "Dengan membuat pengubahsuaian ini, algoritma sepatutnya berfungsi dengan betul dalam Python untuk kes ujian yang diberikan [100, -100].\n"
     ]
    }
   ],
   "source": [
    "print(l['r'])"
   ]
  },
  {
   "cell_type": "code",
   "execution_count": null,
   "id": "fd479020",
   "metadata": {},
   "outputs": [],
   "source": []
  }
 ],
 "metadata": {
  "kernelspec": {
   "display_name": "Python 3 (ipykernel)",
   "language": "python",
   "name": "python3"
  },
  "language_info": {
   "codemirror_mode": {
    "name": "ipython",
    "version": 3
   },
   "file_extension": ".py",
   "mimetype": "text/x-python",
   "name": "python",
   "nbconvert_exporter": "python",
   "pygments_lexer": "ipython3",
   "version": "3.8.10"
  }
 },
 "nbformat": 4,
 "nbformat_minor": 5
}
