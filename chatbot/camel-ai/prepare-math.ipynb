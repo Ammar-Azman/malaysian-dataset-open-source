{
 "cells": [
  {
   "cell_type": "code",
   "execution_count": 2,
   "id": "3891fa15",
   "metadata": {},
   "outputs": [],
   "source": [
    "# !wget https://huggingface.co/datasets/camel-ai/math/resolve/main/math.zip\n",
    "# !unzip math.zip -d math"
   ]
  },
  {
   "cell_type": "code",
   "execution_count": 4,
   "id": "c7427c93",
   "metadata": {},
   "outputs": [
    {
     "data": {
      "text/plain": [
       "50000"
      ]
     },
     "execution_count": 4,
     "metadata": {},
     "output_type": "execute_result"
    }
   ],
   "source": [
    "from glob import glob\n",
    "\n",
    "files = glob('math/*.json')\n",
    "len(files)"
   ]
  },
  {
   "cell_type": "code",
   "execution_count": 5,
   "id": "76239197",
   "metadata": {},
   "outputs": [
    {
     "name": "stderr",
     "output_type": "stream",
     "text": [
      "100%|██████████████████████████████████| 50000/50000 [00:00<00:00, 73003.61it/s]\n"
     ]
    }
   ],
   "source": [
    "import json\n",
    "from tqdm import tqdm\n",
    "\n",
    "texts = []\n",
    "for f in tqdm(files):\n",
    "    with open(f) as fopen:\n",
    "        data = json.load(fopen)\n",
    "    texts.extend([data['message_1'], data['message_2']])"
   ]
  },
  {
   "cell_type": "code",
   "execution_count": 6,
   "id": "45236fac",
   "metadata": {},
   "outputs": [
    {
     "data": {
      "text/plain": [
       "['Find the vertex of the absolute value function f(x) = |2x - 5|.',\n",
       " 'To find the vertex of the absolute value function f(x) = |2x - 5|, we first need to find the x-coordinate of the vertex. The vertex occurs at the point where the expression inside the absolute value is equal to zero.\\n\\n2x - 5 = 0\\n\\nNow, solve for x:\\n\\n2x = 5\\nx = 5/2\\n\\nThe x-coordinate of the vertex is 5/2. Now, we need to find the corresponding y-coordinate by plugging the x-coordinate back into the function:\\n\\nf(5/2) = |2(5/2) - 5|\\n\\nf(5/2) = |5 - 5|\\n\\nf(5/2) = 0\\n\\nSo, the y-coordinate of the vertex is 0. Therefore, the vertex of the absolute value function f(x) = |2x - 5| is (5/2, 0).']"
      ]
     },
     "execution_count": 6,
     "metadata": {},
     "output_type": "execute_result"
    }
   ],
   "source": [
    "texts[:2]"
   ]
  },
  {
   "cell_type": "code",
   "execution_count": 7,
   "id": "b970dc6e",
   "metadata": {},
   "outputs": [
    {
     "data": {
      "text/plain": [
       "98499"
      ]
     },
     "execution_count": 7,
     "metadata": {},
     "output_type": "execute_result"
    }
   ],
   "source": [
    "texts = [t for t in texts if len(t)]\n",
    "texts = list(set(texts))\n",
    "len(texts)"
   ]
  },
  {
   "cell_type": "code",
   "execution_count": 8,
   "id": "18bc1ae6",
   "metadata": {},
   "outputs": [],
   "source": [
    "with open('math.jsonl', 'w') as fopen:\n",
    "    for t in texts:\n",
    "        fopen.write(f'{json.dumps(t)}\\n')"
   ]
  },
  {
   "cell_type": "code",
   "execution_count": 9,
   "id": "5c0e0124",
   "metadata": {},
   "outputs": [],
   "source": [
    "!split -l 20000 -d --additional-suffix=.splitted math.jsonl math.jsonl"
   ]
  }
 ],
 "metadata": {
  "kernelspec": {
   "display_name": "Python 3 (ipykernel)",
   "language": "python",
   "name": "python3"
  },
  "language_info": {
   "codemirror_mode": {
    "name": "ipython",
    "version": 3
   },
   "file_extension": ".py",
   "mimetype": "text/x-python",
   "name": "python",
   "nbconvert_exporter": "python",
   "pygments_lexer": "ipython3",
   "version": "3.8.10"
  }
 },
 "nbformat": 4,
 "nbformat_minor": 5
}
