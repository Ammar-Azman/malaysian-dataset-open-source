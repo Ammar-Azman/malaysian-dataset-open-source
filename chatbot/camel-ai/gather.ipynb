{
 "cells": [
  {
   "cell_type": "code",
   "execution_count": 2,
   "id": "2df18a22",
   "metadata": {},
   "outputs": [],
   "source": [
    "import json\n",
    "from glob import glob"
   ]
  },
  {
   "cell_type": "code",
   "execution_count": 3,
   "id": "cfbeb5e7",
   "metadata": {},
   "outputs": [
    {
     "data": {
      "text/plain": [
       "(20000, 20000, 20000, 50000)"
      ]
     },
     "execution_count": 3,
     "metadata": {},
     "output_type": "execute_result"
    }
   ],
   "source": [
    "biology = glob('biology/*.json')\n",
    "chemistry = glob('chemistry/*.json')\n",
    "physics = glob('physics/*.json')\n",
    "math = glob('math/*.json')\n",
    "len(biology), len(chemistry), len(physics), len(math)"
   ]
  },
  {
   "cell_type": "code",
   "execution_count": 4,
   "id": "4bb90089",
   "metadata": {},
   "outputs": [],
   "source": [
    "mapping = {}\n",
    "files = glob('texts.jsonl*.splitted.requested') + glob('math.jsonl*.splitted.requested')\n",
    "for f in files:\n",
    "    with open(f) as fopen:\n",
    "        for l in fopen:\n",
    "            l = json.loads(l)\n",
    "            if 'Source text\\nclear\\nLook up details' in l['r']['result']:\n",
    "                continue\n",
    "            if 'clear\\nLook up details' in l['r']['result']:\n",
    "                continue\n",
    "            if l['r']['result'].startswith('Source text\\n'):\n",
    "                continue\n",
    "            mapping[l['src']] = l['r']['result'] "
   ]
  },
  {
   "cell_type": "code",
   "execution_count": 5,
   "id": "fd8a8acb",
   "metadata": {},
   "outputs": [],
   "source": [
    "with open('biology.translated.jsonl', 'w') as fopen_l:\n",
    "    for f in biology:\n",
    "        with open(f) as fopen:\n",
    "            data = json.load(fopen)\n",
    "            data['message_1_ms'] = mapping.get(data['message_1'])\n",
    "            data['message_2_ms'] = mapping.get(data['message_2'])\n",
    "            fopen_l.write(f'{json.dumps(data)}\\n')"
   ]
  },
  {
   "cell_type": "code",
   "execution_count": 6,
   "id": "64efafb9",
   "metadata": {},
   "outputs": [],
   "source": [
    "with open('chemistry.translated.jsonl', 'w') as fopen_l:\n",
    "    for f in chemistry:\n",
    "        with open(f) as fopen:\n",
    "            data = json.load(fopen)\n",
    "            data['message_1_ms'] = mapping.get(data['message_1'])\n",
    "            data['message_2_ms'] = mapping.get(data['message_2'])\n",
    "            fopen_l.write(f'{json.dumps(data)}\\n')"
   ]
  },
  {
   "cell_type": "code",
   "execution_count": 7,
   "id": "b687c78b",
   "metadata": {},
   "outputs": [],
   "source": [
    "with open('physics.translated.jsonl', 'w') as fopen_l:\n",
    "    for f in physics:\n",
    "        with open(f) as fopen:\n",
    "            data = json.load(fopen)\n",
    "            data['message_1_ms'] = mapping.get(data['message_1'])\n",
    "            data['message_2_ms'] = mapping.get(data['message_2'])\n",
    "            fopen_l.write(f'{json.dumps(data)}\\n')"
   ]
  },
  {
   "cell_type": "code",
   "execution_count": 8,
   "id": "3b8d4506",
   "metadata": {},
   "outputs": [],
   "source": [
    "with open('math.translated.jsonl', 'w') as fopen_l:\n",
    "    for f in math:\n",
    "        with open(f) as fopen:\n",
    "            data = json.load(fopen)\n",
    "            data['message_1_ms'] = mapping.get(data['message_1'])\n",
    "            data['message_2_ms'] = mapping.get(data['message_2'])\n",
    "            fopen_l.write(f'{json.dumps(data)}\\n')"
   ]
  },
  {
   "cell_type": "code",
   "execution_count": 9,
   "id": "6e909436",
   "metadata": {},
   "outputs": [
    {
     "name": "stdout",
     "output_type": "stream",
     "text": [
      "{\"role_1\": \"Mathematician_RoleType.ASSISTANT\", \"topic;\": \"Algebra\", \"sub_topic\": \"Graphing absolute value equations\", \"message_1\": \"Find the vertex of the absolute value function f(x) = |2x - 5|.\", \"message_2\": \"To find the vertex of the absolute value function f(x) = |2x - 5|, we first need to find the x-coordinate of the vertex. The vertex occurs at the point where the expression inside the absolute value is equal to zero.\\n\\n2x - 5 = 0\\n\\nNow, solve for x:\\n\\n2x = 5\\nx = 5/2\\n\\nThe x-coordinate of the vertex is 5/2. Now, we need to find the corresponding y-coordinate by plugging the x-coordinate back into the function:\\n\\nf(5/2) = |2(5/2) - 5|\\n\\nf(5/2) = |5 - 5|\\n\\nf(5/2) = 0\\n\\nSo, the y-coordinate of the vertex is 0. Therefore, the vertex of the absolute value function f(x) = |2x - 5| is (5/2, 0).\", \"message_1_ms\": \"Cari bucu bagi fungsi nilai mutlak f(x) = |2x - 5|.\", \"message_2_ms\": \"Untuk mencari bucu bagi fungsi nilai mutlak f(x) = |2x - 5|, kita perlu mencari koordinat-x bagi puncak tersebut. Puncak berlaku pada titik di mana ungkapan di dalam nilai mutlak adalah sama dengan sifar.\\n\\n2x - 5 = 0\\n\\nSekarang, selesaikan untuk x:\\n\\n2x = 5\\nx = 5/2\\n\\nKoordinat-x bagi bucu ialah 5/2. Sekarang, kita perlu mencari koordinat-y yang sepadan dengan memasukkan semula koordinat-x ke dalam fungsi:\\n\\nf(5/2) = |2(5/2) - 5|\\n\\nf(5/2) = |5 - 5|\\n\\nf(5/2) = 0\\n\\nJadi, koordinat y bagi bucu ialah 0. Oleh itu, bucu bagi fungsi nilai mutlak f(x) = |2x - 5| ialah (5/2, 0).\"}\r\n",
      "{\"role_1\": \"Mathematician_RoleType.ASSISTANT\", \"topic;\": \"Fractal geometry\", \"sub_topic\": \"The self-similarity of the Sierpinski carpet.\", \"message_1\": \"What is the total number of black squares in the 5th level of the self-similar Sierpinski carpet if the total number of squares in the 4th level is 65,025?\", \"message_2\": \"The Sierpinski carpet is a fractal pattern that can be generated by recursively subdividing a square into 9 smaller squares and removing the central square at each step. The total number of squares at each level can be calculated using the formula:\\n\\nTotal squares = (8^n - 1) / 7\\n\\nwhere n is the level number.\\n\\nGiven that the total number of squares in the 4th level is 65,025, we can use the formula to find the number of black squares at the 4th level:\\n\\n65,025 = (8^4 - 1) / 7\\n65,025 = (4096 - 1) / 7\\n65,025 = 4095 / 7\\n65,025 = 585\\n\\nNow, to find the total number of black squares in the 5th level, we can use the same formula with n = 5:\\n\\nTotal squares = (8^5 - 1) / 7\\nTotal squares = (32768 - 1) / 7\\nTotal squares = 32767 / 7\\nTotal squares = 4681\\n\\nSo, there are 4,681 black squares in the 5th level of the self-similar Sierpinski carpet.\", \"message_1_ms\": null, \"message_2_ms\": null}\r\n",
      "{\"role_1\": \"Mathematician_RoleType.ASSISTANT\", \"topic;\": \"Combinatorics\", \"sub_topic\": \"Ramsey theory\", \"message_1\": \"In a group of 6 people, each person is friends with at least 3 others. What is the minimum number of groups of 3 people that need to be formed to ensure that there is at least one group where all members are friends with each other?\", \"message_2\": \"Let's denote the people as A, B, C, D, E, and F. We can represent the friendships between them using a graph, where each person is a vertex and an edge between two vertices represents a friendship.\\n\\nSince each person is friends with at least 3 others, we can start by connecting A to B, C, and D. Now, we need to make sure B, C, and D have at least 3 friends as well. If B is friends with both C and D, then we already have a group of 3 people who are all friends with each other (A, B, and C or A, B, and D). So, to minimize the number of such groups, we can assume that B is not friends with C or D. Instead, B can be friends with E and F.\\n\\nNow, we have the following friendships: A-B, A-C, A-D, B-E, and B-F. We still need to make sure C, D, E, and F have at least 3 friends each. If C is friends with D, then we have a group of 3 people who are all friends with each other (A, C, and D). So, to minimize the number of such groups, we can assume that C is not friends with D. Instead, C can be friends with E and F.\\n\\nNow, we have the following friendships: A-B, A-C, A-D, B-E, B-F, C-E, and C-F. We still need to make sure D, E, and F have at least 3 friends each. If D is friends with E or F, then we have a group of 3 people who are all friends with each other (A, D, and E or A, D, and F). So, to minimize the number of such groups, we can assume that D is not friends with E or F. Instead, D can be friends with G.\\n\\nHowever, we only have 6 people in the group, so we cannot add a new person G. Therefore, D must be friends with either E or F. Without loss of generality, let's assume D is friends with E. Now, we have a group of 3 people who are all friends with each other (A, D, and E).\\n\\nThus, the minimum number of groups of 3 people that need to be formed to ensure that there is at least one group where all members are friends with each other is 1.\", \"message_1_ms\": \"Dalam kumpulan 6 orang, setiap orang berkawan dengan sekurang-kurangnya 3 orang lain. Berapakah bilangan minimum kumpulan 3 orang yang perlu dibentuk untuk memastikan sekurang-kurangnya terdapat satu kumpulan yang kesemua ahli berkawan antara satu sama lain?\", \"message_2_ms\": \"Mari kita nyatakan orang sebagai A, B, C, D, E, dan F. Kita boleh mewakili persahabatan antara mereka menggunakan graf, di mana setiap orang adalah bucu dan tepi antara dua bucu mewakili persahabatan.\\n\\nMemandangkan setiap orang berkawan dengan sekurang-kurangnya 3 orang lain, kita boleh mulakan dengan menyambungkan A ke B, C dan D. Sekarang, kita perlu memastikan B, C dan D mempunyai sekurang-kurangnya 3 rakan juga. Jika B berkawan dengan kedua-dua C dan D, maka kami sudah mempunyai kumpulan 3 orang yang semuanya berkawan antara satu sama lain (A, B, dan C atau A, B, dan D). Jadi, untuk meminimumkan bilangan kumpulan sedemikian, kita boleh menganggap bahawa B tidak berkawan dengan C atau D. Sebaliknya, B boleh berkawan dengan E dan F.\\n\\nKini, kami mempunyai persahabatan berikut: A-B, A-C, A-D, B-E dan B-F. Kita masih perlu memastikan C, D, E dan F mempunyai sekurang-kurangnya 3 rakan setiap satu. Jika C berkawan dengan D, maka kami mempunyai sekumpulan 3 orang yang semuanya berkawan antara satu sama lain (A,C, dan D). Jadi, untuk meminimumkan bilangan kumpulan sedemikian, kita boleh menganggap bahawa C tidak berkawan dengan D. Sebaliknya, C boleh berkawan dengan E dan F.\\n\\nKini, kami mempunyai persahabatan berikut: A-B, A-C, A-D, B-E, B-F, C-E dan C-F. Kita masih perlu memastikan D, E, dan F mempunyai sekurang-kurangnya 3 rakan setiap satu. Jika D berkawan dengan E atau F, maka kami mempunyai sekumpulan 3 orang yang semuanya berkawan antara satu sama lain (A, D, dan E atau A, D, dan F). Jadi, untuk meminimumkan bilangan kumpulan sedemikian, kita boleh menganggap bahawa D tidak berkawan dengan E atau F. Sebaliknya, D boleh berkawan dengan G.\\n\\nWalau bagaimanapun, kami hanya mempunyai 6 orang dalam kumpulan, jadi kami tidak boleh menambah orang baru G. Oleh itu, D mesti berkawan dengan sama ada E atau F. Tanpa kehilangan sifat umum, mari kita anggap D berkawan dengan E. Sekarang, kita mempunyai kumpulan 3 orang yang semuanya berkawan antara satu sama lain (A, D, dan E).\\n\\nJusteru, bilangan minimum kumpulan 3 orang yang perlu dibentuk bagi memastikan sekurang-kurangnya terdapat satu kumpulan yang kesemua ahli berkawan antara satu sama lain ialah 1.\"}\r\n"
     ]
    }
   ],
   "source": [
    "!head -n 3 math.translated.jsonl"
   ]
  },
  {
   "cell_type": "code",
   "execution_count": null,
   "id": "cf3124fd",
   "metadata": {},
   "outputs": [],
   "source": []
  }
 ],
 "metadata": {
  "kernelspec": {
   "display_name": "Python 3 (ipykernel)",
   "language": "python",
   "name": "python3"
  },
  "language_info": {
   "codemirror_mode": {
    "name": "ipython",
    "version": 3
   },
   "file_extension": ".py",
   "mimetype": "text/x-python",
   "name": "python",
   "nbconvert_exporter": "python",
   "pygments_lexer": "ipython3",
   "version": "3.8.10"
  }
 },
 "nbformat": 4,
 "nbformat_minor": 5
}
