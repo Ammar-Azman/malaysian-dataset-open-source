{
 "cells": [
  {
   "cell_type": "code",
   "execution_count": 7,
   "id": "7199678e",
   "metadata": {},
   "outputs": [],
   "source": [
    "# !wget https://huggingface.co/datasets/camel-ai/biology/resolve/main/biology.zip\n",
    "# !unzip biology.zip -d biology"
   ]
  },
  {
   "cell_type": "code",
   "execution_count": 8,
   "id": "b808265b",
   "metadata": {},
   "outputs": [],
   "source": [
    "# !wget https://huggingface.co/datasets/camel-ai/physics/resolve/main/physics.zip\n",
    "# !unzip physics.zip -d physics"
   ]
  },
  {
   "cell_type": "code",
   "execution_count": 9,
   "id": "25447cac",
   "metadata": {},
   "outputs": [],
   "source": [
    "# !wget https://huggingface.co/datasets/camel-ai/chemistry/resolve/main/chemistry.zip\n",
    "# !unzip chemistry.zip -d chemistry"
   ]
  },
  {
   "cell_type": "code",
   "execution_count": 10,
   "id": "b304678f",
   "metadata": {},
   "outputs": [
    {
     "data": {
      "text/plain": [
       "60000"
      ]
     },
     "execution_count": 10,
     "metadata": {},
     "output_type": "execute_result"
    }
   ],
   "source": [
    "from glob import glob\n",
    "\n",
    "files = glob('*/*.json')\n",
    "len(files)"
   ]
  },
  {
   "cell_type": "code",
   "execution_count": 13,
   "id": "83a8cb01",
   "metadata": {},
   "outputs": [
    {
     "name": "stderr",
     "output_type": "stream",
     "text": [
      "100%|██████████████████████████████████| 60000/60000 [00:00<00:00, 80168.45it/s]\n"
     ]
    }
   ],
   "source": [
    "import json\n",
    "from tqdm import tqdm\n",
    "\n",
    "texts = []\n",
    "for f in tqdm(files):\n",
    "    with open(f) as fopen:\n",
    "        data = json.load(fopen)\n",
    "    texts.extend([data['message_1'], data['message_2']])"
   ]
  },
  {
   "cell_type": "code",
   "execution_count": 14,
   "id": "9a97813d",
   "metadata": {},
   "outputs": [
    {
     "data": {
      "text/plain": [
       "119687"
      ]
     },
     "execution_count": 14,
     "metadata": {},
     "output_type": "execute_result"
    }
   ],
   "source": [
    "texts = [t for t in texts if len(t)]\n",
    "texts = list(set(texts))\n",
    "len(texts)"
   ]
  },
  {
   "cell_type": "code",
   "execution_count": 15,
   "id": "74c6dc2c",
   "metadata": {},
   "outputs": [],
   "source": [
    "with open('texts.jsonl', 'w') as fopen:\n",
    "    for t in texts:\n",
    "        fopen.write(f'{json.dumps(t)}\\n')"
   ]
  },
  {
   "cell_type": "code",
   "execution_count": 1,
   "id": "bfe542f7",
   "metadata": {},
   "outputs": [
    {
     "name": "stdout",
     "output_type": "stream",
     "text": [
      "{\"src\": \"a) To write down Bob's best response function, we need to find the expected payoffs for each of his actions (A and B) given the probability p of Alice's signal being H.\\n\\nExpected payoff for action A:\\nE(A) = p * payoff(H, A) + (1-p) * payoff(L, A)\\nE(A) = p * 3 + (1-p) * 2\\n\\nExpected payoff for action B:\\nE(B) = p * payoff(H, B) + (1-p) * payoff(L, B)\\nE(B) = p * 1 + (1-p) * 5\\n\\nBob's best response function will be to choose action A if E(A) > E(B) and action B if E(B) > E(A).\\n\\nb) To find the value of p which maximizes Bob's expected payoff, we need to find when E(A) = E(B).\\n\\np * 3 + (1-p) * 2 = p * 1 + (1-p) * 5\\n3p + 2 - 2p = p + 5 - 5p\\np = 3/4\\n\\nSo, the value of p which maximizes Bob's expected payoff is p = 3/4.\", \"r\": {\"result\": \"a) Untuk menuliskan fungsi tindak balas terbaik Bob, kita perlu mencari ganjaran yang dijangkakan untuk setiap tindakannya (A dan B) memandangkan kebarangkalian p isyarat Alice ialah H.\\n\\nHasil jangkaan untuk tindakan A:\\nE(A) = p * bayaran(H, A) + (1-p) * bayaran(L, A)\\nE(A) = p * 3 + (1-p) * 2\\n\\nHasil yang dijangkakan untuk tindakan B:\\nE(B) = p * bayaran(H, B) + (1-p) * bayaran(L, B)\\nE(B) = p * 1 + (1-p) * 5\\n\\nFungsi tindak balas terbaik Bob ialah memilih tindakan A jika E(A) > E(B) dan tindakan B jika E(B) > E(A).\\n\\nb) Untuk mencari nilai p yang memaksimumkan pulangan jangkaan Bob, kita perlu mencari apabila E(A) = E(B).\\n\\np * 3 + (1-p) * 2 = p * 1 + (1-p) * 5\\n3p + 2 - 2p = p + 5 - 5p\\np = 3/4\\n\\nJadi, nilai p yang memaksimumkan pulangan jangkaan Bob ialah p = 3/4.\", \"pronunciation\": \"undefined\", \"from\": {}}}\r\n"
     ]
    }
   ],
   "source": [
    "!head -n 1 math.jsonl00.splitted.requested"
   ]
  },
  {
   "cell_type": "code",
   "execution_count": 16,
   "id": "0c4aa2dd",
   "metadata": {},
   "outputs": [],
   "source": [
    "!split -l 20000 -d --additional-suffix=.splitted texts.jsonl texts.jsonl"
   ]
  }
 ],
 "metadata": {
  "kernelspec": {
   "display_name": "Python 3 (ipykernel)",
   "language": "python",
   "name": "python3"
  },
  "language_info": {
   "codemirror_mode": {
    "name": "ipython",
    "version": 3
   },
   "file_extension": ".py",
   "mimetype": "text/x-python",
   "name": "python",
   "nbconvert_exporter": "python",
   "pygments_lexer": "ipython3",
   "version": "3.8.10"
  }
 },
 "nbformat": 4,
 "nbformat_minor": 5
}
