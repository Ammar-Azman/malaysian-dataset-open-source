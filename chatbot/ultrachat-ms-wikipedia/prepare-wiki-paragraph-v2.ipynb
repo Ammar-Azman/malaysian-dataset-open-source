{
 "cells": [
  {
   "cell_type": "code",
   "execution_count": 1,
   "id": "1a2ada57",
   "metadata": {
    "scrolled": true
   },
   "outputs": [
    {
     "name": "stderr",
     "output_type": "stream",
     "text": [
      "/home/husein/dev/malaya/malaya/tokenizer.py:214: FutureWarning: Possible nested set at position 3397\n",
      "  self.tok = re.compile(r'({})'.format('|'.join(pipeline)))\n",
      "/home/husein/dev/malaya/malaya/tokenizer.py:214: FutureWarning: Possible nested set at position 3927\n",
      "  self.tok = re.compile(r'({})'.format('|'.join(pipeline)))\n"
     ]
    }
   ],
   "source": [
    "import json\n",
    "import malaya\n",
    "from bs4 import BeautifulSoup\n",
    "from glob import glob\n",
    "from tqdm import tqdm\n",
    "import random"
   ]
  },
  {
   "cell_type": "code",
   "execution_count": 2,
   "id": "88e2c675",
   "metadata": {},
   "outputs": [],
   "source": [
    "def partition(s, n = 500):\n",
    "    splitted = s.split()\n",
    "    return [' '.join(splitted[i: i + n]) for i in range(0, len(splitted), n)]"
   ]
  },
  {
   "cell_type": "code",
   "execution_count": 3,
   "id": "3669c8ff",
   "metadata": {},
   "outputs": [],
   "source": [
    "with open('paragraph-wiki-v2.jsonl', 'w') as fopen_l:\n",
    "    with open('wikipedia-2023-10-01.jsonl') as fopen:\n",
    "        for l in fopen:\n",
    "            l = json.loads(l)\n",
    "            url = l['url']\n",
    "            l = l['text'].split('\\n')\n",
    "            l = [l_ for l_ in l if len(l_) >= 50]\n",
    "            if not len(l):\n",
    "                continue\n",
    "                \n",
    "            for p in partition('\\n'.join(l)):\n",
    "                if not len(p):\n",
    "                    continue\n",
    "                    \n",
    "                if len(p.split()) < 50:\n",
    "                    continue\n",
    "                \n",
    "                d_ = {\n",
    "                    'paragraph': p,\n",
    "                    'url': url,\n",
    "                }\n",
    "                fopen_l.write(f'{json.dumps(d_)}\\n')\n",
    "                fopen_l.flush()"
   ]
  },
  {
   "cell_type": "code",
   "execution_count": 4,
   "id": "565d7bbf",
   "metadata": {},
   "outputs": [
    {
     "name": "stdout",
     "output_type": "stream",
     "text": [
      "143828 paragraph-wiki-v2.jsonl\r\n"
     ]
    }
   ],
   "source": [
    "!wc -l paragraph-wiki-v2.jsonl"
   ]
  },
  {
   "cell_type": "code",
   "execution_count": null,
   "id": "626b4394",
   "metadata": {},
   "outputs": [],
   "source": []
  }
 ],
 "metadata": {
  "kernelspec": {
   "display_name": "Python 3 (ipykernel)",
   "language": "python",
   "name": "python3"
  },
  "language_info": {
   "codemirror_mode": {
    "name": "ipython",
    "version": 3
   },
   "file_extension": ".py",
   "mimetype": "text/x-python",
   "name": "python",
   "nbconvert_exporter": "python",
   "pygments_lexer": "ipython3",
   "version": "3.8.10"
  }
 },
 "nbformat": 4,
 "nbformat_minor": 5
}
