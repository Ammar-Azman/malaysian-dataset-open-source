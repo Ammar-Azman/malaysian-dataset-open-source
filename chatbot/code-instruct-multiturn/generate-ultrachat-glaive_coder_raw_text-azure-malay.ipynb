{
 "cells": [
  {
   "cell_type": "code",
   "execution_count": 1,
   "id": "a656026b",
   "metadata": {},
   "outputs": [
    {
     "name": "stderr",
     "output_type": "stream",
     "text": [
      "/home/husein/3.9/lib/python3.9/site-packages/tqdm/auto.py:21: TqdmWarning: IProgress not found. Please update jupyter and ipywidgets. See https://ipywidgets.readthedocs.io/en/stable/user_install.html\n",
      "  from .autonotebook import tqdm as notebook_tqdm\n",
      "/home/husein/3.9/lib/python3.9/site-packages/malaya/tokenizer.py:214: FutureWarning: Possible nested set at position 3397\n",
      "  self.tok = re.compile(r'({})'.format('|'.join(pipeline)))\n",
      "/home/husein/3.9/lib/python3.9/site-packages/malaya/tokenizer.py:214: FutureWarning: Possible nested set at position 3927\n",
      "  self.tok = re.compile(r'({})'.format('|'.join(pipeline)))\n"
     ]
    }
   ],
   "source": [
    "import openai\n",
    "import instructor\n",
    "import json\n",
    "import os\n",
    "import malaya\n",
    "from pydantic import BaseModel, Field\n",
    "from bs4 import BeautifulSoup\n",
    "from concurrent.futures import ThreadPoolExecutor, as_completed\n",
    "from unidecode import unidecode\n",
    "import re\n",
    "import random\n",
    "\n",
    "minimum_len = 15\n",
    "\n",
    "def simple_cleaning(string):\n",
    "    return re.sub(r'[ ]+', ' ', unidecode(string).replace('\\n', ' ').replace('--', ' ').replace('/', ' ')).strip()"
   ]
  },
  {
   "cell_type": "code",
   "execution_count": 2,
   "id": "19099d71",
   "metadata": {},
   "outputs": [],
   "source": [
    "openai.api_type = \"azure\"\n",
    "openai.api_base = \"https://husein-ai9-aiservices1611641965.openai.azure.com/\"\n",
    "openai.api_version = \"2023-07-01-preview\"\n",
    "openai.api_key = ''\n",
    "engine = 'gpt-35-turbo-16k'"
   ]
  },
  {
   "cell_type": "code",
   "execution_count": 3,
   "id": "ccf95259",
   "metadata": {},
   "outputs": [],
   "source": [
    "def predict(messages):\n",
    "    try:\n",
    "        response = openai.ChatCompletion.create(\n",
    "            engine=engine,\n",
    "            messages=messages,\n",
    "            temperature=1.0,\n",
    "            max_tokens=2048,\n",
    "            top_p=1.0\n",
    "        )\n",
    "        return response.choices[0]['message']['content']\n",
    "    except Exception as e:\n",
    "        print(e)\n",
    "        return None"
   ]
  },
  {
   "cell_type": "code",
   "execution_count": 4,
   "id": "643b1ddf",
   "metadata": {},
   "outputs": [],
   "source": [
    "system = 'Above is a conversation between a user and an intelligent assistant. You suppose to simulate conversation between the user and the assistant. Bear in mind your major request is to ask the assistant to generate some material. So you can ask the assistant either to make it more detailed, add more related information, or any other request to improve the generated material. Be creative and diverse in your request. Make the response short and the language casual.'\n",
    "system_malay = 'Above is a conversation between a user and an intelligent assistant. You suppose to simulate conversation between the user and the assistant in malay language. Bear in mind your major request is to ask the assistant to generate some material. So you can ask the assistant either to make it more detailed, add more related information, or any other request to improve the generated material. Be creative and diverse in your request. Make the response short and the language casual.'\n",
    "next_step = 'Above is a conversation between a user and an intelligent assistant. Now suppose you are the user, generate response according to the generated material to continue the conversation.'"
   ]
  },
  {
   "cell_type": "code",
   "execution_count": 5,
   "id": "a15dfd6f",
   "metadata": {},
   "outputs": [
    {
     "name": "stdout",
     "output_type": "stream",
     "text": [
      "mkdir: cannot create directory ‘ultrachat-glaive_coder_raw_text’: File exists\r\n"
     ]
    }
   ],
   "source": [
    "!mkdir ultrachat-glaive_coder_raw_text\n",
    "# !rm ultrachat-textbook/*.json"
   ]
  },
  {
   "cell_type": "code",
   "execution_count": 6,
   "id": "d314931f",
   "metadata": {},
   "outputs": [],
   "source": [
    "def ultrachat(row, n = 1):\n",
    "    \n",
    "    results = [\n",
    "        {'role': 'user', 'content': row['instruction']},\n",
    "        {'role': 'assistant', 'content': row['output']},\n",
    "    ]\n",
    "    \n",
    "    initial = row['instruction'].strip()\n",
    "    messages = [\n",
    "        {'role': 'system', 'content': system_malay},\n",
    "        {'role': 'user', 'content': initial + ', jawab dalam bahasa melayu'},\n",
    "        {'role': 'assistant', 'content': row['output']},\n",
    "    ]\n",
    "    \n",
    "    for _ in range(n):\n",
    "    \n",
    "        messages_temp = messages + [\n",
    "            {'role': 'user', 'content': 'Now suppose you are the user and you always doubt with the answer and eager to know better, so say something in malay to continue the conversation based on given context.'}\n",
    "        ]\n",
    "        r2 = predict(messages_temp)\n",
    "        if r2 is None:\n",
    "            break\n",
    "\n",
    "        results.append({\n",
    "            'role': 'user', 'content': r2,\n",
    "        })\n",
    "        messages.append({\n",
    "            'role': 'user', 'content': r2 + ', jawab dalam bahasa melayu',\n",
    "        })\n",
    "\n",
    "        r = predict(messages)\n",
    "        if r is None:\n",
    "            break\n",
    "        results.append({\n",
    "            'role': 'assistant', 'content': r,\n",
    "        })\n",
    "        messages.append({\n",
    "            'role': 'assistant', 'content': r,\n",
    "        })\n",
    "    \n",
    "    return results"
   ]
  },
  {
   "cell_type": "code",
   "execution_count": 7,
   "id": "5027bbd5",
   "metadata": {},
   "outputs": [
    {
     "data": {
      "text/plain": [
       "119122"
      ]
     },
     "execution_count": 7,
     "metadata": {},
     "output_type": "execute_result"
    }
   ],
   "source": [
    "from glob import glob\n",
    "\n",
    "files = sorted(glob('/home/husein/ssd3/instructions/glaive_coder_raw_text/*.json'), key = lambda x: int(x.split('/')[-1].replace('.json', '')))\n",
    "len(files)"
   ]
  },
  {
   "cell_type": "code",
   "execution_count": 8,
   "id": "cd3c61ae",
   "metadata": {},
   "outputs": [],
   "source": [
    "rejected_instructions = [\n",
    "    'tidak dapat melakukan penulisan semula', \n",
    "    'maaf', \n",
    "    'not able to fulfill your request',\n",
    "    'saya tidak dapat membantu',\n",
    "    'dengan permintaan itu',\n",
    "    'feel free to ask',\n",
    "    'saya tidak bisa',\n",
    "]"
   ]
  },
  {
   "cell_type": "code",
   "execution_count": 14,
   "id": "f627087d",
   "metadata": {},
   "outputs": [],
   "source": [
    "def generate(f):\n",
    "    index = int(os.path.split(f)[1].replace('.json', ''))\n",
    "    filename = f'ultrachat-glaive_coder_raw_text/{index}.json'\n",
    "    if os.path.exists(filename):\n",
    "        return\n",
    "    \n",
    "    try:\n",
    "        with open(f) as fopen:\n",
    "            data = json.load(fopen)\n",
    "    except:\n",
    "        return\n",
    "        \n",
    "    if any([r in data['instruction'].lower() for r in rejected_instructions]):\n",
    "        return\n",
    "    \n",
    "    r = ultrachat(data, n = random.randint(1, 4))\n",
    "    with open(filename, 'w') as fopen:\n",
    "        json.dump(r, fopen)"
   ]
  },
  {
   "cell_type": "code",
   "execution_count": 10,
   "id": "b93714ea",
   "metadata": {},
   "outputs": [],
   "source": [
    "generate(files[4])"
   ]
  },
  {
   "cell_type": "code",
   "execution_count": 11,
   "id": "446ae2e8",
   "metadata": {},
   "outputs": [],
   "source": [
    "# !ls ultrachat-glaive_coder_raw_text"
   ]
  },
  {
   "cell_type": "code",
   "execution_count": 12,
   "id": "59644a20",
   "metadata": {},
   "outputs": [
    {
     "data": {
      "text/plain": [
       "[{'role': 'user',\n",
       "  'content': \"Saya sedang belajar Python dan perasan penggunaan yang meluas pada kewataan 'self' dalam definisi kelas. Datang dari latar belakang Java, saya sering lupa untuk memasukkan 'self' ketika merujuk kepada pembolehubah ahli. Sebagai contoh, daripada menulis 'self.rect.centerx', saya cenderung menulis 'rect.centerx' kerana saya melihat 'rect' sudah menjadi pembolehubah ahli kelas. Adakah ada cara untuk mengelakkan keperluan untuk mengekori semua pembolehubah ahli dengan 'self' dalam Python?\"},\n",
       " {'role': 'assistant',\n",
       "  'content': \"Di dalam Python, keperluan untuk menggunakan 'self' untuk merujuk kepada pembolehubah ahli dalam definisi kelas adalah satu ciri yang asas. Walau bagaimanapun, terdapat satu cara untuk mengelakkan keperluan tersebut dalam beberapa keadaan dengan menggunakan pembolehubah yang didefinisikan dalam fungsi kelas, iaitu dengan disertakan dengan tanda garis bawah dua kali (dunder) ('__') di hadapan nama pembolehubah.\\n\\nContohnya, anda boleh menggunakan pembolehubah seperti ini dalam fungsi kelas:\\n\\n```python\\nclass MyClass:\\n    def __init__(self):\\n        self.__rect = Rect()\\n        \\n    def my_method(self):\\n        print(self.__rect.centerx)\\n```\\n\\nDengan menggunakan tanda garis bawah dua kali (dunder) ('__') di hadapan nama pembolehubah (__rect), anda boleh merujuk terus kepada pembolehubah tersebut dalam fungsi kelas tanpa perlu mengekori dengan 'self'.\\n\\nWalau bagaimanapun, adalah penting untuk diingat bahawa penggunaan tanda garis bawah dua kali (dunder) ('__') adalah untuk menunjukkan pembolehubah tersebut sebagai “private” (tertutup) dan sebenarnya masih boleh diakses dari luar kelas dalam Python. Ia adalah lebih kepada garis panduan untuk pembaca kod berkenaan dengan penggunaan pembolehubah tersebut.\\n\\nWalau bagaimanapun, adalah lebih digalakkan bagi anda untuk mengikuti konvensyen Python yang baik dengan menggunakan 'self' untuk merujuk kepada pembolehubah ahli dalam definisi kelas, kerana ia membuat kod lebih mudah dibaca dan difahami oleh orang lain.\"},\n",
       " {'role': 'user',\n",
       "  'content': \"Alahai, tapi saya masih kurang yakin dengan cara ini. Saya faham konvensyen untuk menggunakan 'self' dalam Python, tetapi rasa sangat tidak biasa dan agak membingungkan bagi saya datang dari latar belakang Java. Adakah terdapat cara lain yang lebih senang dan senang difahami untuk merujuk kepada pembolehubah ahli dalam Python?\"},\n",
       " {'role': 'assistant',\n",
       "  'content': \"Saya memahami bahawa peralihan dari latar belakang Java ke Python boleh menjadi mencabar. Walau bagaimanapun, saya boleh mencadangkan cara lain yang mungkin lebih senang dan senang difahami bagi anda.\\n\\nAnda boleh menggunakan pembolehubah lokal dalam fungsi kelas untuk merujuk kepada pembolehubah ahli dengan memadamkan penggunaan 'self'. Ini boleh dilakukan dengan memasukkan nilai pembolehubah ahli dalam pembolehubah lokal semasa inisialisasi objek kelas.\\n\\nContohnya, anda boleh mengubah contoh sebelum ini menjadi seperti berikut:\\n\\n```python\\nclass MyClass:\\n    def __init__(self):\\n        rect = Rect()\\n        self.centerx = rect.centerx\\n        \\n    def my_method(self):\\n        print(self.centerx)\\n```\\n\\nDalam contoh ini, pembolehubah 'rect' adalah pembolehubah lokal dalam fungsi __init__() dan nilai centerx yang diberikan kepada pembolehubah ahli 'self.centerx'. Dengan cara ini, anda boleh merujuk terus kepada pembolehubah ahli dalam fungsi lain tanpa perlu mengekori dengan 'self'.\\n\\nWalau bagaimanapun, penting untuk diingat bahawa dengan menggunakan cara ini, pembolehubah tidak lagi menjadi ahli sebenar kelas dan ia mungkin tidak berfungsi dengan betul dalam beberapa situasi. Oleh itu, ia adalah disarankan untuk tetap menggunakan 'self' sebagai cara utama untuk merujuk kepada pembolehubah ahli dalam definisi kelas Python.\"},\n",
       " {'role': 'user',\n",
       "  'content': 'Macam mana pula kesan penggunaan pembolehubah lokal dalam fungsi kelas dalam jangka panjang? Adakah ia boleh mempengaruhi prestasi atau pengekodan yang disyorkan dalam projek Python yang lebih besar?'},\n",
       " {'role': 'assistant',\n",
       "  'content': \"Penggunaan pembolehubah lokal dalam fungsi kelas untuk merujuk kepada pembolehubah ahli mungkin mempunyai kesan dalam jangka panjang terhadap prestasi dan pengekodan yang disyorkan dalam projek Python yang lebih besar.\\n\\nDalam projek Python yang lebih besar, amalan yang disyorkan adalah untuk mengekalkan penggunaan konvensyen 'self' untuk merujuk kepada pembolehubah ahli. Menggunakan 'self' dengan jelas menunjukkan bahawa pembolehubah tersebut adalah pembolehubah ahli dalam kelas dan menjadikan kod lebih mudah dibaca dan difahami oleh orang lain.\\n\\nPenggunaan pembolehubah lokal untuk merujuk kepada pembolehubah ahli boleh menyebabkan kekeliruan dan membuat kod sukar dibaca dan difahami. Selain itu, ada risiko jika pembolehubah lokal tersebut disalahguna dan nilainya diubah dengan tidak sengaja.\\n\\nDari segi prestasi, penggunaan 'self' mempunyai kelebihan kerana disimpan sebagai akses kepada pembolehubah ahli adalah lebih laju daripada akses kepada pembolehubah lokal. Menunggu pembolehubah ahli diinisialisasi dan then digunakan dalam banyak fungsi juga mungkin mengakibatkan peningkatan overhead pada projek yang lebih besar.\\n\\nOleh itu, dalam projek Python yang lebih besar, adalah disyorkan untuk mengikuti konvensyen 'self' dan mempertimbangkan kod yang mudah dibaca dan prestasi yang baik.\"},\n",
       " {'role': 'user',\n",
       "  'content': \"Saya faham bahawa menggunakan 'self' dalam Python adalah amalan yang disyorkan, tetapi adakah terdapat sebarang situasi di mana penggunaan pembolehubah lokal untuk merujuk kepada pembolehubah ahli adalah lebih sesuai atau berguna?\"},\n",
       " {'role': 'assistant',\n",
       "  'content': \"Ya, terdapat beberapa situasi di mana penggunaan pembolehubah lokal untuk merujuk kepada pembolehubah ahli boleh menjadi lebih sesuai atau berguna dalam Python.\\n\\nSalah satu situasi di mana ini boleh berlaku adalah apabila anda hanya memerlukan akses sementara kepada pembolehubah ahli dalam fungsi kelas tertentu. Dalam kes ini, penggunaan pembolehubah lokal dapat memberikan lebih kejelasan kepada kod dan memudahkan pengurusan pembolehubah.\\n\\nContohnya, jika anda perlu melakukan beberapa pengiraan atau manipulasi terhadap pembolehubah ahli sebelum ia digunakan dalam satu fungsi, mengeset pembolehubah lokal dengan nilai pembolehubah ahli ini boleh membantu mengurangkan kerumitan dalam kod.\\n\\nSelain itu, penggunaan pembolehubah lokal juga berguna jika anda ingin membezakan pembolehubah yang dilengkapkan untuk pembolehubah ahli yang sama. Dalam beberapa keadaan, mungkin terdapat beberapa pembolehubah ahli dengan nama yang sama di beberapa objek kelas. Dalam hal ini, menggunakan pembolehubah lokal dapat membantu menjaga kelancaran dan kejelasan kod.\\n\\nNamun, adalah penting untuk diingat bahawa penggunaan pembolehubah lokal harus berjaga-jaga dan dikelola dengan bijak. Pastikan ia tidak menimbulkan kekeliruan dalam kod dan tidak menjejaskan kebolehkegunaan dan kefahaman kod terhadap pembaca yang lain.\\n\\nSecara umumnya, penggunaan 'self' untuk merujuk kepada pembolehubah ahli adalah lebih disyorkan dalam projek Python, tetapi dalam situasi-situasi tertentu, penggunaan pembolehubah lokal boleh memberikan fleksibiliti dan kejelasan tambahan dalam kod anda.\"}]"
      ]
     },
     "execution_count": 12,
     "metadata": {},
     "output_type": "execute_result"
    }
   ],
   "source": [
    "with open('ultrachat-glaive_coder_raw_text/4.json') as fopen:\n",
    "    data = json.load(fopen)\n",
    "    \n",
    "data"
   ]
  },
  {
   "cell_type": "code",
   "execution_count": 15,
   "id": "bb010ed3",
   "metadata": {},
   "outputs": [
    {
     "name": "stderr",
     "output_type": "stream",
     "text": [
      "  6%|██▎                                | 428/6618 [2:32:41<57:57:29, 33.71s/it]"
     ]
    },
    {
     "name": "stdout",
     "output_type": "stream",
     "text": [
      "'content'\n"
     ]
    },
    {
     "name": "stderr",
     "output_type": "stream",
     "text": [
      " 12%|████                               | 779/6618 [5:55:45<53:38:04, 33.07s/it]"
     ]
    },
    {
     "name": "stdout",
     "output_type": "stream",
     "text": [
      "'content'\n"
     ]
    },
    {
     "name": "stderr",
     "output_type": "stream",
     "text": [
      " 12%|████▎                              | 812/6618 [6:12:42<57:10:22, 35.45s/it]"
     ]
    },
    {
     "name": "stdout",
     "output_type": "stream",
     "text": [
      "'content'\n"
     ]
    },
    {
     "name": "stderr",
     "output_type": "stream",
     "text": [
      " 14%|████▊                              | 907/6618 [7:05:39<53:39:43, 33.83s/it]"
     ]
    },
    {
     "name": "stdout",
     "output_type": "stream",
     "text": [
      "Error communicating with OpenAI: ('Connection aborted.', ConnectionResetError(104, 'Connection reset by peer'))\n",
      "Error communicating with OpenAI: ('Connection aborted.', ConnectionResetError(104, 'Connection reset by peer'))\n"
     ]
    },
    {
     "name": "stderr",
     "output_type": "stream",
     "text": [
      " 14%|████▊                              | 908/6618 [7:05:49<42:02:48, 26.51s/it]"
     ]
    },
    {
     "name": "stdout",
     "output_type": "stream",
     "text": [
      "Error communicating with OpenAI: ('Connection aborted.', ConnectionResetError(104, 'Connection reset by peer'))\n"
     ]
    },
    {
     "name": "stderr",
     "output_type": "stream",
     "text": [
      " 16%|█████▍                            | 1051/6618 [8:17:35<43:25:14, 28.08s/it]"
     ]
    },
    {
     "name": "stdout",
     "output_type": "stream",
     "text": [
      "'content'\n"
     ]
    },
    {
     "name": "stderr",
     "output_type": "stream",
     "text": [
      " 20%|██████▎                        | 1343/6618 [10:37:32<301:02:12, 205.45s/it]"
     ]
    },
    {
     "name": "stdout",
     "output_type": "stream",
     "text": [
      "Request timed out: HTTPSConnectionPool(host='husein-ai9-aiservices1611641965.openai.azure.com', port=443): Read timed out. (read timeout=600)\n"
     ]
    },
    {
     "name": "stderr",
     "output_type": "stream",
     "text": [
      " 24%|███████▉                         | 1585/6618 [12:13:16<26:39:56, 19.07s/it]"
     ]
    },
    {
     "name": "stdout",
     "output_type": "stream",
     "text": [
      "Invalid value for 'content': expected a string, got null.\n"
     ]
    },
    {
     "name": "stderr",
     "output_type": "stream",
     "text": [
      " 24%|████████                         | 1608/6618 [12:22:34<34:14:22, 24.60s/it]"
     ]
    },
    {
     "name": "stdout",
     "output_type": "stream",
     "text": [
      "'content'\n"
     ]
    },
    {
     "name": "stderr",
     "output_type": "stream",
     "text": [
      " 33%|███████████                      | 2210/6618 [16:21:41<30:38:58, 25.03s/it]"
     ]
    },
    {
     "name": "stdout",
     "output_type": "stream",
     "text": [
      "'content'\n"
     ]
    },
    {
     "name": "stderr",
     "output_type": "stream",
     "text": [
      " 37%|████████████▎                    | 2479/6618 [18:42:39<38:46:45, 33.73s/it]"
     ]
    },
    {
     "name": "stdout",
     "output_type": "stream",
     "text": [
      "'content'\n"
     ]
    },
    {
     "name": "stderr",
     "output_type": "stream",
     "text": [
      " 38%|████████████▍                    | 2506/6618 [18:57:16<39:51:04, 34.89s/it]"
     ]
    },
    {
     "name": "stdout",
     "output_type": "stream",
     "text": [
      "'content'\n"
     ]
    },
    {
     "name": "stderr",
     "output_type": "stream",
     "text": [
      " 39%|████████████                   | 2587/6618 [19:54:57<235:25:11, 210.25s/it]"
     ]
    },
    {
     "name": "stdout",
     "output_type": "stream",
     "text": [
      "Request timed out: HTTPSConnectionPool(host='husein-ai9-aiservices1611641965.openai.azure.com', port=443): Read timed out. (read timeout=600)\n"
     ]
    },
    {
     "name": "stderr",
     "output_type": "stream",
     "text": [
      " 42%|█████████████▋                   | 2754/6618 [21:11:04<24:03:44, 22.42s/it]"
     ]
    },
    {
     "name": "stdout",
     "output_type": "stream",
     "text": [
      "'content'\n"
     ]
    },
    {
     "name": "stderr",
     "output_type": "stream",
     "text": [
      " 49%|████████████████▎                | 3269/6618 [24:55:22<19:05:04, 20.51s/it]"
     ]
    },
    {
     "name": "stdout",
     "output_type": "stream",
     "text": [
      "'content'\n"
     ]
    },
    {
     "name": "stderr",
     "output_type": "stream",
     "text": [
      " 50%|████████████████▌                | 3328/6618 [25:20:42<21:51:03, 23.91s/it]"
     ]
    },
    {
     "name": "stdout",
     "output_type": "stream",
     "text": [
      "'content'\n"
     ]
    },
    {
     "name": "stderr",
     "output_type": "stream",
     "text": [
      " 52%|█████████████████▎               | 3470/6618 [26:24:27<21:23:33, 24.46s/it]"
     ]
    },
    {
     "name": "stdout",
     "output_type": "stream",
     "text": [
      "'content'\n"
     ]
    },
    {
     "name": "stderr",
     "output_type": "stream",
     "text": [
      " 53%|█████████████████▌               | 3532/6618 [26:54:56<26:35:50, 31.03s/it]"
     ]
    },
    {
     "name": "stdout",
     "output_type": "stream",
     "text": [
      "'content'\n"
     ]
    },
    {
     "name": "stderr",
     "output_type": "stream",
     "text": [
      " 57%|██████████████████▋              | 3755/6618 [28:34:13<22:57:33, 28.87s/it]"
     ]
    },
    {
     "name": "stdout",
     "output_type": "stream",
     "text": [
      "Invalid value for 'content': expected a string, got null.\n"
     ]
    },
    {
     "name": "stderr",
     "output_type": "stream",
     "text": [
      " 67%|██████████████████████           | 4430/6618 [33:12:26<15:35:11, 25.64s/it]"
     ]
    },
    {
     "name": "stdout",
     "output_type": "stream",
     "text": [
      "'content'\n"
     ]
    },
    {
     "name": "stderr",
     "output_type": "stream",
     "text": [
      " 73%|████████████████████████▏        | 4861/6618 [35:47:42<12:17:23, 25.18s/it]"
     ]
    },
    {
     "name": "stdout",
     "output_type": "stream",
     "text": [
      "Error communicating with OpenAI: ('Connection aborted.', ConnectionResetError(104, 'Connection reset by peer'))\n"
     ]
    },
    {
     "name": "stderr",
     "output_type": "stream",
     "text": [
      " 82%|███████████████████████████▉      | 5433/6618 [39:07:49<5:46:07, 17.53s/it]"
     ]
    },
    {
     "name": "stdout",
     "output_type": "stream",
     "text": [
      "'content'\n"
     ]
    },
    {
     "name": "stderr",
     "output_type": "stream",
     "text": [
      " 83%|████████████████████████████      | 5460/6618 [39:17:07<5:46:02, 17.93s/it]"
     ]
    },
    {
     "name": "stdout",
     "output_type": "stream",
     "text": [
      "'content'\n"
     ]
    },
    {
     "name": "stderr",
     "output_type": "stream",
     "text": [
      " 85%|████████████████████████████▉     | 5623/6618 [40:12:10<4:49:46, 17.47s/it]"
     ]
    },
    {
     "name": "stdout",
     "output_type": "stream",
     "text": [
      "'content'\n"
     ]
    },
    {
     "name": "stderr",
     "output_type": "stream",
     "text": [
      " 87%|█████████████████████████████▌    | 5745/6618 [40:59:54<8:26:42, 34.83s/it]"
     ]
    },
    {
     "name": "stdout",
     "output_type": "stream",
     "text": [
      "'content'\n"
     ]
    },
    {
     "name": "stderr",
     "output_type": "stream",
     "text": [
      " 94%|███████████████████████████████▊  | 6193/6618 [44:33:09<2:50:26, 24.06s/it]"
     ]
    },
    {
     "name": "stdout",
     "output_type": "stream",
     "text": [
      "'content'\n"
     ]
    },
    {
     "name": "stderr",
     "output_type": "stream",
     "text": [
      " 94%|████████████████████████████████  | 6243/6618 [44:52:28<2:27:01, 23.52s/it]"
     ]
    },
    {
     "name": "stdout",
     "output_type": "stream",
     "text": [
      "'content'\n"
     ]
    },
    {
     "name": "stderr",
     "output_type": "stream",
     "text": [
      " 95%|████████████████████████████████▍ | 6314/6618 [45:18:48<2:16:14, 26.89s/it]"
     ]
    },
    {
     "name": "stdout",
     "output_type": "stream",
     "text": [
      "'content'\n"
     ]
    },
    {
     "name": "stderr",
     "output_type": "stream",
     "text": [
      "100%|████████████████████████████████████| 6618/6618 [47:15:29<00:00, 25.71s/it]\n"
     ]
    }
   ],
   "source": [
    "from tqdm import tqdm\n",
    "\n",
    "max_worker = 3\n",
    "for i in tqdm(range((len(files) // 6) * 0, (len(files) // 6) * 1, max_worker)):\n",
    "    b = files[i: i + max_worker]\n",
    "    \n",
    "    with ThreadPoolExecutor(max_workers=max_worker) as executor:\n",
    "        futures = {executor.submit(generate, f): f for f in b}\n",
    "\n",
    "        for future in as_completed(futures):\n",
    "            future.result()"
   ]
  },
  {
   "cell_type": "code",
   "execution_count": null,
   "id": "47fb17a8",
   "metadata": {},
   "outputs": [],
   "source": []
  }
 ],
 "metadata": {
  "kernelspec": {
   "display_name": "3.9",
   "language": "python",
   "name": "3.9"
  },
  "language_info": {
   "codemirror_mode": {
    "name": "ipython",
    "version": 3
   },
   "file_extension": ".py",
   "mimetype": "text/x-python",
   "name": "python",
   "nbconvert_exporter": "python",
   "pygments_lexer": "ipython3",
   "version": "3.9.16"
  }
 },
 "nbformat": 4,
 "nbformat_minor": 5
}
