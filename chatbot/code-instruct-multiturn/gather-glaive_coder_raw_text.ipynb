{
 "cells": [
  {
   "cell_type": "code",
   "execution_count": 13,
   "id": "cc8c3163",
   "metadata": {},
   "outputs": [],
   "source": [
    "from glob import glob\n",
    "from tqdm import tqdm\n",
    "import json\n",
    "import re\n",
    "import pandas as pd\n",
    "import os"
   ]
  },
  {
   "cell_type": "code",
   "execution_count": 2,
   "id": "c184585d",
   "metadata": {},
   "outputs": [
    {
     "name": "stderr",
     "output_type": "stream",
     "text": [
      "/home/husein/.local/lib/python3.8/site-packages/requests/__init__.py:102: RequestsDependencyWarning: urllib3 (1.26.15) or chardet (5.2.0)/charset_normalizer (2.0.7) doesn't match a supported version!\n",
      "  warnings.warn(\"urllib3 ({}) or chardet ({})/charset_normalizer ({}) doesn't match a supported \"\n"
     ]
    }
   ],
   "source": [
    "import tiktoken\n",
    "enc = tiktoken.get_encoding(\"cl100k_base\")"
   ]
  },
  {
   "cell_type": "code",
   "execution_count": 9,
   "id": "23040e0f",
   "metadata": {},
   "outputs": [],
   "source": [
    "rejected_words = [\n",
    "    'kebutuhan',\n",
    "    'berbeda',\n",
    "    'bahwa',\n",
    "    'Kode',\n",
    "    'kode',\n",
    "    'nomor',\n",
    "    'RMXX,XXX',\n",
    "    'kompleksitas',\n",
    "    'listrik',\n",
    "    'jawaban',\n",
    "    'teknis',\n",
    "    'berkualitas',\n",
    "    'mencoba',\n",
    "    'kampanye',\n",
    "    'komunitas',\n",
    "    'stabilitas',\n",
    "    'Stabilitas',\n",
    "    'metode',\n",
    "    'pria',\n",
    "    'butuh',\n",
    "    'jadwal',\n",
    "    'kasus',\n",
    "    'otomatis',\n",
    "    'populer',\n",
    "    'bisnis',\n",
    "    'probabilitas',\n",
    "    'rusak',\n",
    "    'kapasitas',\n",
    "    'rutinitas',\n",
    "    'pertama-tama'\n",
    "]\n",
    "rejected_words = set(rejected_words)\n",
    "\n",
    "def check_indon(string):\n",
    "    string = re.sub('[^A-Za-z ]+', ' ', string)\n",
    "    return len(set(string.split()) & rejected_words) > 0"
   ]
  },
  {
   "cell_type": "code",
   "execution_count": 11,
   "id": "e3cc7102",
   "metadata": {},
   "outputs": [
    {
     "data": {
      "text/plain": [
       "136109"
      ]
     },
     "execution_count": 11,
     "metadata": {},
     "output_type": "execute_result"
    }
   ],
   "source": [
    "df = pd.read_parquet('glaive_dataset_recreated.parquet')\n",
    "instructions = df['instruction'].tolist()\n",
    "len(instructions)"
   ]
  },
  {
   "cell_type": "code",
   "execution_count": 19,
   "id": "c109a317",
   "metadata": {},
   "outputs": [],
   "source": [
    "data = []\n",
    "for i in range(len(instructions)):\n",
    "    filename = f'glaive_coder_raw_text/{i}.json'\n",
    "    if not os.path.exists(filename):\n",
    "        continue\n",
    "    \n",
    "    try:\n",
    "        with open(filename) as fopen:\n",
    "            d = json.load(fopen)\n",
    "    except:\n",
    "        continue\n",
    "    \n",
    "    d['instruction_en'] = instructions[i]\n",
    "    data.append(d)"
   ]
  },
  {
   "cell_type": "code",
   "execution_count": 20,
   "id": "77197549",
   "metadata": {},
   "outputs": [
    {
     "data": {
      "text/plain": [
       "131900"
      ]
     },
     "execution_count": 20,
     "metadata": {},
     "output_type": "execute_result"
    }
   ],
   "source": [
    "len(data)"
   ]
  },
  {
   "cell_type": "code",
   "execution_count": 21,
   "id": "6d3f6d02",
   "metadata": {},
   "outputs": [],
   "source": [
    "rejected_instructions = [\n",
    "    'tidak dapat melakukan penulisan semula', \n",
    "    'maaf', \n",
    "    'not able to fulfill your request',\n",
    "    'saya tidak dapat membantu',\n",
    "    'dengan permintaan itu',\n",
    "    'feel free to ask',\n",
    "    'saya tidak bisa',\n",
    "]"
   ]
  },
  {
   "cell_type": "code",
   "execution_count": 24,
   "id": "78f743a6",
   "metadata": {},
   "outputs": [],
   "source": [
    "count, indon_count = 0, 0\n",
    "\n",
    "indon_texts = []\n",
    "for d in data:\n",
    "\n",
    "    if d['output'] is None:\n",
    "        continue\n",
    "        \n",
    "    if any([r in d['instruction'].lower() for r in rejected_instructions]):\n",
    "        continue\n",
    "\n",
    "    indon_texts.append(d['instruction'])\n",
    "    indon_texts.append(d['output'])\n",
    "\n",
    "    count += 1"
   ]
  },
  {
   "cell_type": "code",
   "execution_count": 23,
   "id": "f92201b8",
   "metadata": {},
   "outputs": [
    {
     "data": {
      "text/plain": [
       "260002"
      ]
     },
     "execution_count": 23,
     "metadata": {},
     "output_type": "execute_result"
    }
   ],
   "source": [
    "indon_texts = set(indon_texts)\n",
    "indon_texts = [t for t in indon_texts if len(t)]\n",
    "len(indon_texts)"
   ]
  },
  {
   "cell_type": "code",
   "execution_count": 25,
   "id": "3d5234ee",
   "metadata": {},
   "outputs": [],
   "source": [
    "with open('glaive_coder_raw_text.texts', 'w') as fopen:\n",
    "    for t in indon_texts:\n",
    "        fopen.write(f'{json.dumps(t)}\\n')"
   ]
  },
  {
   "cell_type": "code",
   "execution_count": 26,
   "id": "21cd8ab1",
   "metadata": {},
   "outputs": [],
   "source": [
    "!cp glaive_coder_raw_text.texts ~/ssd3/ctranslate2"
   ]
  },
  {
   "cell_type": "code",
   "execution_count": 29,
   "id": "bc720ede",
   "metadata": {
    "scrolled": true
   },
   "outputs": [
    {
     "data": {
      "text/plain": [
       "259998"
      ]
     },
     "execution_count": 29,
     "metadata": {},
     "output_type": "execute_result"
    }
   ],
   "source": [
    "mapping = {}\n",
    "with open('/home/husein/ssd3/ctranslate2/glaive_coder_raw_text.texts.requested') as fopen:\n",
    "    for l in fopen:\n",
    "        try:\n",
    "            l = json.loads(l)\n",
    "            mapping[l['src']] = l['r']\n",
    "        except:\n",
    "            pass\n",
    "        \n",
    "len(mapping)"
   ]
  },
  {
   "cell_type": "code",
   "execution_count": 31,
   "id": "3cd59f28",
   "metadata": {},
   "outputs": [
    {
     "data": {
      "text/plain": [
       "{'instruction': 'Bagaimana cara saya menghasilkan teks tebal dalam Bash? Saya mempunyai skrip Bash yang mencetak beberapa teks ke skrin menggunakan perintah `echo \"Beberapa Teks\"`. Adakah cara untuk memformat teks tersebut supaya ia menjadi tebal?',\n",
       " 'output': 'Anda boleh menggunakan perintah `echo -e` untuk memformat teks tersebut supaya menjadi tebal. Contohnya, `echo -e \"\\\\033[1mTeks Tebal\\\\033[0m\"`. Dalam contoh ini, `\\\\033[1m` akan membuat teks menjadi tebal, manakala `\\\\033[0m` digunakan untuk menetapkan semula pemformatan teks. Semoga membantu!',\n",
       " 'instruction_en': 'How can I output bold text in Bash? I have a Bash script that prints some text to the screen using the `echo \"Some Text\"` command. Is there a way I can format the text to make it bold?'}"
      ]
     },
     "execution_count": 31,
     "metadata": {},
     "output_type": "execute_result"
    }
   ],
   "source": [
    "data[0]"
   ]
  },
  {
   "cell_type": "code",
   "execution_count": 34,
   "id": "2edaea07",
   "metadata": {},
   "outputs": [],
   "source": [
    "with open('synthetic-glaive_coder_raw_text.jsonl', 'w') as fopen_l:\n",
    "    for d in data:\n",
    "            \n",
    "        if d['output'] is None:\n",
    "            continue\n",
    "        \n",
    "        output_ms = mapping.get(d['output'])\n",
    "        instruction_ms = mapping.get(d['instruction'])\n",
    "        \n",
    "        indon_ins = False\n",
    "        if check_indon(d['instruction']):\n",
    "            indon_ins = True\n",
    "        \n",
    "        indon_output = False\n",
    "        if check_indon(d['output']):\n",
    "            indon_output = True\n",
    "        \n",
    "        rejected_ins = False\n",
    "        if 1024 <= len(enc.encode(d['instruction'])) <= 1025:\n",
    "            rejected_ins = True\n",
    "            \n",
    "        rejected_output = False\n",
    "            \n",
    "        d['indon_ins'] = indon_ins\n",
    "        d['indon_output'] = indon_output\n",
    "        d['instruction_ms'] = instruction_ms\n",
    "        d['output_ms'] = output_ms\n",
    "        d['rejected_ins'] = rejected_ins\n",
    "        d['rejected_output'] = rejected_output\n",
    "        \n",
    "        fopen_l.write(f'{json.dumps(d)}\\n')\n",
    "        count += 1"
   ]
  },
  {
   "cell_type": "code",
   "execution_count": null,
   "id": "fa621234",
   "metadata": {},
   "outputs": [
    {
     "data": {
      "application/vnd.jupyter.widget-view+json": {
       "model_id": "22be903146074523afadfdda5028db41",
       "version_major": 2,
       "version_minor": 0
      },
      "text/plain": [
       "synthetic-glaive_coder_raw_text.jsonl:   0%|          | 0.00/460M [00:00<?, ?B/s]"
      ]
     },
     "metadata": {},
     "output_type": "display_data"
    }
   ],
   "source": [
    "from huggingface_hub import HfApi\n",
    "api = HfApi()\n",
    "api.upload_file(\n",
    "    path_or_fileobj='synthetic-glaive_coder_raw_text.jsonl',\n",
    "    path_in_repo='synthetic-glaive_coder_raw_text.jsonl',\n",
    "    repo_id='mesolitica/chatgpt-malay-instructions',\n",
    "    repo_type='dataset',\n",
    ")"
   ]
  },
  {
   "cell_type": "code",
   "execution_count": null,
   "id": "4484de22",
   "metadata": {},
   "outputs": [],
   "source": []
  }
 ],
 "metadata": {
  "kernelspec": {
   "display_name": "Python 3 (ipykernel)",
   "language": "python",
   "name": "python3"
  },
  "language_info": {
   "codemirror_mode": {
    "name": "ipython",
    "version": 3
   },
   "file_extension": ".py",
   "mimetype": "text/x-python",
   "name": "python",
   "nbconvert_exporter": "python",
   "pygments_lexer": "ipython3",
   "version": "3.8.10"
  }
 },
 "nbformat": 4,
 "nbformat_minor": 5
}
