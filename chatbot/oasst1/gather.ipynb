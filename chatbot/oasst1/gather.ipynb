{
 "cells": [
  {
   "cell_type": "code",
   "execution_count": 1,
   "metadata": {},
   "outputs": [],
   "source": [
    "import json\n",
    "import pandas as pd\n",
    "from treelib import Tree"
   ]
  },
  {
   "cell_type": "code",
   "execution_count": 2,
   "metadata": {},
   "outputs": [],
   "source": [
    "def add_tree_level(df):\n",
    "    \"\"\"helper function to add tree level to a df\"\"\"\n",
    "\n",
    "    # if tree level already exists, return df\n",
    "    if \"tree_level\" in df.columns:\n",
    "        return df\n",
    "\n",
    "    else:\n",
    "        tree_level_map = {}\n",
    "\n",
    "        # iterate over rows in df\n",
    "        for i, row in df.iterrows():\n",
    "            message_id = row[\"message_id\"]\n",
    "            parent_id = row[\"parent_id\"]\n",
    "\n",
    "            # if parent_id is None, then it is a root message\n",
    "            if parent_id is None:\n",
    "                tree_level_map[message_id] = 0\n",
    "            # if parent_id is the same as message_tree_id, then it is a direct reply to the root message\n",
    "            elif parent_id == row[\"message_tree_id\"]:\n",
    "                tree_level_map[message_id] = 1\n",
    "            # else just look up the tree level of the parent_id and add 1\n",
    "            else:\n",
    "                tree_level_map[message_id] = tree_level_map[parent_id] + 1\n",
    "\n",
    "        # create a df from the tree_level_map and merge it with the original df\n",
    "        df_tree_level_map = (\n",
    "            pd.DataFrame.from_dict(tree_level_map, orient=\"index\", columns=[\"tree_level\"])\n",
    "            .reset_index()\n",
    "            .rename(columns={\"index\": \"message_id\"})\n",
    "        )\n",
    "\n",
    "        return df.merge(df_tree_level_map, on=\"message_id\")"
   ]
  },
  {
   "cell_type": "code",
   "execution_count": 3,
   "metadata": {},
   "outputs": [],
   "source": [
    "mapping = {}\n",
    "with open('texts.jsonl.requested') as fopen:\n",
    "    for l in fopen:\n",
    "        data = json.loads(l)\n",
    "        mapping[data['src']] = data['r']['result']"
   ]
  },
  {
   "cell_type": "code",
   "execution_count": 4,
   "metadata": {},
   "outputs": [
    {
     "data": {
      "text/html": [
       "<div>\n",
       "<style scoped>\n",
       "    .dataframe tbody tr th:only-of-type {\n",
       "        vertical-align: middle;\n",
       "    }\n",
       "\n",
       "    .dataframe tbody tr th {\n",
       "        vertical-align: top;\n",
       "    }\n",
       "\n",
       "    .dataframe thead th {\n",
       "        text-align: right;\n",
       "    }\n",
       "</style>\n",
       "<table border=\"1\" class=\"dataframe\">\n",
       "  <thead>\n",
       "    <tr style=\"text-align: right;\">\n",
       "      <th></th>\n",
       "      <th>message_id</th>\n",
       "      <th>parent_id</th>\n",
       "      <th>user_id</th>\n",
       "      <th>created_date</th>\n",
       "      <th>text</th>\n",
       "      <th>role</th>\n",
       "      <th>lang</th>\n",
       "      <th>review_count</th>\n",
       "      <th>review_result</th>\n",
       "      <th>deleted</th>\n",
       "      <th>rank</th>\n",
       "      <th>synthetic</th>\n",
       "      <th>model_name</th>\n",
       "      <th>detoxify</th>\n",
       "      <th>message_tree_id</th>\n",
       "      <th>tree_state</th>\n",
       "      <th>emojis</th>\n",
       "      <th>labels</th>\n",
       "      <th>text_ms</th>\n",
       "    </tr>\n",
       "  </thead>\n",
       "  <tbody>\n",
       "    <tr>\n",
       "      <th>0</th>\n",
       "      <td>6ab24d72-0181-4594-a9cd-deaf170242fb</td>\n",
       "      <td>None</td>\n",
       "      <td>c3fe8c76-fc30-4fa7-b7f8-c492f5967d18</td>\n",
       "      <td>2023-02-05T14:23:50.983374+00:00</td>\n",
       "      <td>Can you write a short introduction about the r...</td>\n",
       "      <td>prompter</td>\n",
       "      <td>en</td>\n",
       "      <td>3</td>\n",
       "      <td>True</td>\n",
       "      <td>False</td>\n",
       "      <td>NaN</td>\n",
       "      <td>False</td>\n",
       "      <td>None</td>\n",
       "      <td>{'toxicity': 0.00044308538781479, 'severe_toxi...</td>\n",
       "      <td>6ab24d72-0181-4594-a9cd-deaf170242fb</td>\n",
       "      <td>ready_for_export</td>\n",
       "      <td>{'name': ['+1', '_skip_reply', '_skip_ranking'...</td>\n",
       "      <td>{'name': ['spam', 'lang_mismatch', 'pii', 'not...</td>\n",
       "      <td>Bolehkah anda menulis pengenalan ringkas tenta...</td>\n",
       "    </tr>\n",
       "    <tr>\n",
       "      <th>1</th>\n",
       "      <td>c8e83833-ecbc-44fe-b6db-735228c25a1c</td>\n",
       "      <td>6ab24d72-0181-4594-a9cd-deaf170242fb</td>\n",
       "      <td>2c96e467-66f0-4be7-9693-bda51356a424</td>\n",
       "      <td>2023-02-06T13:50:44.657083+00:00</td>\n",
       "      <td>\"Monopsony\" refers to a market structure where...</td>\n",
       "      <td>assistant</td>\n",
       "      <td>en</td>\n",
       "      <td>3</td>\n",
       "      <td>True</td>\n",
       "      <td>False</td>\n",
       "      <td>0.0</td>\n",
       "      <td>False</td>\n",
       "      <td>None</td>\n",
       "      <td>{'toxicity': 0.00026396565954200923, 'severe_t...</td>\n",
       "      <td>6ab24d72-0181-4594-a9cd-deaf170242fb</td>\n",
       "      <td>ready_for_export</td>\n",
       "      <td>{'name': ['+1', '_skip_labeling'], 'count': [3...</td>\n",
       "      <td>{'name': ['spam', 'fails_task', 'lang_mismatch...</td>\n",
       "      <td>\"Monopsoni\" merujuk kepada struktur pasaran di...</td>\n",
       "    </tr>\n",
       "    <tr>\n",
       "      <th>2</th>\n",
       "      <td>6708c47f-05c9-4346-b3d2-40b2bd24fde4</td>\n",
       "      <td>c8e83833-ecbc-44fe-b6db-735228c25a1c</td>\n",
       "      <td>2c96e467-66f0-4be7-9693-bda51356a424</td>\n",
       "      <td>2023-02-06T18:48:49.391686+00:00</td>\n",
       "      <td>Now explain it to a dog</td>\n",
       "      <td>prompter</td>\n",
       "      <td>en</td>\n",
       "      <td>3</td>\n",
       "      <td>True</td>\n",
       "      <td>False</td>\n",
       "      <td>NaN</td>\n",
       "      <td>False</td>\n",
       "      <td>None</td>\n",
       "      <td>{'toxicity': 0.03648477792739868, 'severe_toxi...</td>\n",
       "      <td>6ab24d72-0181-4594-a9cd-deaf170242fb</td>\n",
       "      <td>ready_for_export</td>\n",
       "      <td>None</td>\n",
       "      <td>{'name': ['spam', 'lang_mismatch', 'pii', 'not...</td>\n",
       "      <td>Sekarang terangkan kepada seekor anjing</td>\n",
       "    </tr>\n",
       "    <tr>\n",
       "      <th>3</th>\n",
       "      <td>343ee2d4-87ae-41fd-a768-bdd65959dc4a</td>\n",
       "      <td>6ab24d72-0181-4594-a9cd-deaf170242fb</td>\n",
       "      <td>49ddcb0d-6588-43bd-858d-19c577f12e7b</td>\n",
       "      <td>2023-02-06T13:37:56.044680+00:00</td>\n",
       "      <td>Monopsony is a market structure in which there...</td>\n",
       "      <td>assistant</td>\n",
       "      <td>en</td>\n",
       "      <td>3</td>\n",
       "      <td>True</td>\n",
       "      <td>False</td>\n",
       "      <td>1.0</td>\n",
       "      <td>False</td>\n",
       "      <td>None</td>\n",
       "      <td>{'toxicity': 0.0008866374846547842, 'severe_to...</td>\n",
       "      <td>6ab24d72-0181-4594-a9cd-deaf170242fb</td>\n",
       "      <td>ready_for_export</td>\n",
       "      <td>{'name': ['+1', '_skip_reply', '_skip_labeling...</td>\n",
       "      <td>{'name': ['spam', 'fails_task', 'lang_mismatch...</td>\n",
       "      <td>Monopsoni ialah struktur pasaran di mana terda...</td>\n",
       "    </tr>\n",
       "    <tr>\n",
       "      <th>4</th>\n",
       "      <td>18145bf4-37fd-4ac0-80f5-6108b5f2b365</td>\n",
       "      <td>343ee2d4-87ae-41fd-a768-bdd65959dc4a</td>\n",
       "      <td>e10e99a0-38ac-4b07-bf5d-4427696e4e0d</td>\n",
       "      <td>2023-02-06T18:52:51.428543+00:00</td>\n",
       "      <td>How can one fight back when a monospony had be...</td>\n",
       "      <td>prompter</td>\n",
       "      <td>en</td>\n",
       "      <td>3</td>\n",
       "      <td>True</td>\n",
       "      <td>False</td>\n",
       "      <td>NaN</td>\n",
       "      <td>False</td>\n",
       "      <td>None</td>\n",
       "      <td>{'toxicity': 0.0009362137061543763, 'severe_to...</td>\n",
       "      <td>6ab24d72-0181-4594-a9cd-deaf170242fb</td>\n",
       "      <td>ready_for_export</td>\n",
       "      <td>{'name': ['+1'], 'count': [1]}</td>\n",
       "      <td>{'name': ['spam', 'lang_mismatch', 'pii', 'not...</td>\n",
       "      <td>Bagaimanakah seseorang boleh melawan apabila m...</td>\n",
       "    </tr>\n",
       "  </tbody>\n",
       "</table>\n",
       "</div>"
      ],
      "text/plain": [
       "                             message_id                             parent_id  \\\n",
       "0  6ab24d72-0181-4594-a9cd-deaf170242fb                                  None   \n",
       "1  c8e83833-ecbc-44fe-b6db-735228c25a1c  6ab24d72-0181-4594-a9cd-deaf170242fb   \n",
       "2  6708c47f-05c9-4346-b3d2-40b2bd24fde4  c8e83833-ecbc-44fe-b6db-735228c25a1c   \n",
       "3  343ee2d4-87ae-41fd-a768-bdd65959dc4a  6ab24d72-0181-4594-a9cd-deaf170242fb   \n",
       "4  18145bf4-37fd-4ac0-80f5-6108b5f2b365  343ee2d4-87ae-41fd-a768-bdd65959dc4a   \n",
       "\n",
       "                                user_id                      created_date  \\\n",
       "0  c3fe8c76-fc30-4fa7-b7f8-c492f5967d18  2023-02-05T14:23:50.983374+00:00   \n",
       "1  2c96e467-66f0-4be7-9693-bda51356a424  2023-02-06T13:50:44.657083+00:00   \n",
       "2  2c96e467-66f0-4be7-9693-bda51356a424  2023-02-06T18:48:49.391686+00:00   \n",
       "3  49ddcb0d-6588-43bd-858d-19c577f12e7b  2023-02-06T13:37:56.044680+00:00   \n",
       "4  e10e99a0-38ac-4b07-bf5d-4427696e4e0d  2023-02-06T18:52:51.428543+00:00   \n",
       "\n",
       "                                                text       role lang  \\\n",
       "0  Can you write a short introduction about the r...   prompter   en   \n",
       "1  \"Monopsony\" refers to a market structure where...  assistant   en   \n",
       "2                            Now explain it to a dog   prompter   en   \n",
       "3  Monopsony is a market structure in which there...  assistant   en   \n",
       "4  How can one fight back when a monospony had be...   prompter   en   \n",
       "\n",
       "   review_count review_result  deleted  rank  synthetic model_name  \\\n",
       "0             3          True    False   NaN      False       None   \n",
       "1             3          True    False   0.0      False       None   \n",
       "2             3          True    False   NaN      False       None   \n",
       "3             3          True    False   1.0      False       None   \n",
       "4             3          True    False   NaN      False       None   \n",
       "\n",
       "                                            detoxify  \\\n",
       "0  {'toxicity': 0.00044308538781479, 'severe_toxi...   \n",
       "1  {'toxicity': 0.00026396565954200923, 'severe_t...   \n",
       "2  {'toxicity': 0.03648477792739868, 'severe_toxi...   \n",
       "3  {'toxicity': 0.0008866374846547842, 'severe_to...   \n",
       "4  {'toxicity': 0.0009362137061543763, 'severe_to...   \n",
       "\n",
       "                        message_tree_id        tree_state  \\\n",
       "0  6ab24d72-0181-4594-a9cd-deaf170242fb  ready_for_export   \n",
       "1  6ab24d72-0181-4594-a9cd-deaf170242fb  ready_for_export   \n",
       "2  6ab24d72-0181-4594-a9cd-deaf170242fb  ready_for_export   \n",
       "3  6ab24d72-0181-4594-a9cd-deaf170242fb  ready_for_export   \n",
       "4  6ab24d72-0181-4594-a9cd-deaf170242fb  ready_for_export   \n",
       "\n",
       "                                              emojis  \\\n",
       "0  {'name': ['+1', '_skip_reply', '_skip_ranking'...   \n",
       "1  {'name': ['+1', '_skip_labeling'], 'count': [3...   \n",
       "2                                               None   \n",
       "3  {'name': ['+1', '_skip_reply', '_skip_labeling...   \n",
       "4                     {'name': ['+1'], 'count': [1]}   \n",
       "\n",
       "                                              labels  \\\n",
       "0  {'name': ['spam', 'lang_mismatch', 'pii', 'not...   \n",
       "1  {'name': ['spam', 'fails_task', 'lang_mismatch...   \n",
       "2  {'name': ['spam', 'lang_mismatch', 'pii', 'not...   \n",
       "3  {'name': ['spam', 'fails_task', 'lang_mismatch...   \n",
       "4  {'name': ['spam', 'lang_mismatch', 'pii', 'not...   \n",
       "\n",
       "                                             text_ms  \n",
       "0  Bolehkah anda menulis pengenalan ringkas tenta...  \n",
       "1  \"Monopsoni\" merujuk kepada struktur pasaran di...  \n",
       "2            Sekarang terangkan kepada seekor anjing  \n",
       "3  Monopsoni ialah struktur pasaran di mana terda...  \n",
       "4  Bagaimanakah seseorang boleh melawan apabila m...  "
      ]
     },
     "execution_count": 4,
     "metadata": {},
     "output_type": "execute_result"
    }
   ],
   "source": [
    "df = pd.read_parquet('train-00000-of-00001-b42a775f407cee45.parquet')\n",
    "df = df[df['lang'] == 'en']\n",
    "df['text_ms'] = df.text.map(mapping)\n",
    "df.head()"
   ]
  },
  {
   "cell_type": "code",
   "execution_count": 5,
   "metadata": {},
   "outputs": [
    {
     "data": {
      "text/plain": [
       "3574"
      ]
     },
     "execution_count": 5,
     "metadata": {},
     "output_type": "execute_result"
    }
   ],
   "source": [
    "message_tree_id = df['message_tree_id'].unique().tolist()\n",
    "len(message_tree_id)"
   ]
  },
  {
   "cell_type": "code",
   "execution_count": 6,
   "metadata": {},
   "outputs": [
    {
     "name": "stderr",
     "output_type": "stream",
     "text": [
      "100%|████████████████████████████████████████████████████████████████████████████████████████████████████████| 3574/3574 [00:29<00:00, 120.48it/s]\n"
     ]
    }
   ],
   "source": [
    "from tqdm import tqdm\n",
    "\n",
    "all_texts = []\n",
    "for id in tqdm(message_tree_id):\n",
    "    try:\n",
    "        df_message_tree = df[df['message_tree_id'] == id].sort_values(\"created_date\")\n",
    "        df_message_tree = add_tree_level(df_message_tree)\n",
    "    except:\n",
    "        continue\n",
    "        \n",
    "    id_tree = Tree()\n",
    "\n",
    "    for i, row in df_message_tree.iterrows():\n",
    "        message_id = row[\"message_id\"]\n",
    "        parent_id = row[\"parent_id\"]\n",
    "        try:\n",
    "            id_tree.create_node(message_id, message_id, parent=parent_id, data=row.to_dict())\n",
    "        except:\n",
    "            pass\n",
    "    \n",
    "    combination = id_tree.paths_to_leaves()\n",
    "    for c in combination:\n",
    "        df_ = df_message_tree[df_message_tree['message_id'].isin(c)].sort_values(\"created_date\")\n",
    "        texts = []\n",
    "        for i in range(len(df_)):\n",
    "            try:\n",
    "                if i % 2 == 0:\n",
    "                    left = '<manusia>: '\n",
    "                else:\n",
    "                    left = '<bot>: '\n",
    "                texts.append(left + df_.iloc[i]['text_ms'])\n",
    "            except:\n",
    "                break\n",
    "        all_texts.append('\\n'.join(texts))"
   ]
  },
  {
   "cell_type": "code",
   "execution_count": 7,
   "metadata": {},
   "outputs": [
    {
     "data": {
      "text/plain": [
       "20149"
      ]
     },
     "execution_count": 7,
     "metadata": {},
     "output_type": "execute_result"
    }
   ],
   "source": [
    "len(all_texts)"
   ]
  },
  {
   "cell_type": "code",
   "execution_count": 8,
   "metadata": {},
   "outputs": [
    {
     "data": {
      "text/plain": [
       "'<manusia>: Apakah risiko apabila anda tidak menjalankan indeks lengan buku lali sebelum terapi mampatan?\\n<bot>: Tidak melaksanakan eksperimen indeks pergelangan kaki-brachial (ABI) sebelum psikoterapi mampatan menyampaikan angka risiko. Ujian ABI dieksploitasi untuk menilai nisbah tekanan darah sistolik di pergelangan kaki kepada tekanan sistolik di lengan—perkadaran yang besar mungkin menandakan kehadiran penyakit arteri periferal (PAD). Ini boleh menjadi faktor penting dalam menentukan keberkesanan psikoterapi mampatan, kerana kehadiran PAD mungkin bermakna terapi itu tidak berkesan dalam meningkatkan aliran darah ke kawasan yang terjejas.\\nTanpa ujian ABI, terdapat ancaman bahawa psikoterapi mampatan mungkin tidak produktif atau berbahaya jika kes itu mempunyai PAD. Psikoterapi mampatan boleh memudaratkan mereka yang mempunyai PAD, kerana ia boleh memburukkan lagi keadaan dengan mengurangkan aliran darah ke kawasan yang terjejas. Begitu juga, terdapat ancaman bahawa kes itu mungkin mengalami masalah atau kesedihan yang tidak perlu daripada psikoterapi mampatan jika keadaan mereka tidak membenarkannya.\\nSecara keseluruhannya, adalah penting untuk melaksanakan ujian ABI sebelum psikoterapi mampatan untuk memastikan terapi itu berkesan dan selamat untuk kes tersebut. Keputusan ABI yang rendah mungkin menunjukkan kehadiran PAD, di mana kes itu harus dirujuk untuk penilaian dan rawatan lanjut sebelum psikoterapi mampatan dicuba.'"
      ]
     },
     "execution_count": 8,
     "metadata": {},
     "output_type": "execute_result"
    }
   ],
   "source": [
    "all_texts[-1]"
   ]
  },
  {
   "cell_type": "code",
   "execution_count": 9,
   "metadata": {},
   "outputs": [
    {
     "data": {
      "text/plain": [
       "[('Apakah faktor utama yang menyumbang kepada nilai harta tanah?',\n",
       "  'Nilai hartanah ditentukan oleh pelbagai faktor, termasuk:\\n\\n1. Lokasi: Hartanah yang terletak di kawasan kejiranan yang diingini, berdekatan dengan kemudahan seperti sekolah, membeli-belah dan pengangkutan, cenderung mempunyai nilai yang lebih tinggi.\\n\\n2. Saiz dan reka letak: Hartanah dengan rakaman persegi yang lebih besar dan reka letak yang direka dengan baik cenderung mempunyai nilai yang lebih tinggi.\\n\\n3. Umur dan keadaan: Hartanah yang diselenggara dengan baik dan dikemas kini biasanya bernilai lebih tinggi daripada harta yang lebih tua dan memerlukan pembaikan.\\n\\n4. Faktor ekonomi: Ekonomi tempatan, pasaran pekerjaan, dan permintaan perumahan semuanya boleh memberi kesan ke atas nilai hartanah.\\n\\n5. Kemudahan dan ciri: Hartanah dengan kemudahan yang diingini, seperti kolam renang, garaj atau dapur yang dikemas kini, biasanya bernilai lebih tinggi daripada yang tiada ciri ini.\\n\\n6. Peraturan zon: Peraturan zon dan kod bangunan boleh menjejaskan potensi penggunaan dan pembangunan harta, dan oleh itu, nilainya.\\n\\n7. Keadaan pasaran: Keseluruhan pasaran hartanah, termasuk penawaran dan permintaan, boleh memberi kesan yang ketara ke atas nilai hartanah.\\n\\n8. Faktor persekitaran: Hartanah yang terletak berhampiran sumber pencemaran, seperti tapak pelupusan sampah atau kilang, cenderung mempunyai nilai yang lebih rendah.\\n\\nIni adalah beberapa faktor utama yang menyumbang kepada nilai harta tanah, tetapi penting untuk diingat bahawa kepentingan relatif setiap faktor boleh berbeza-beza bergantung pada harta dan pasaran tertentu.'),\n",
       " ('Adakah terdapat sesuatu yang saya, sebagai pemilik rumah, boleh lakukan untuk meningkatkan nilai harta saya? Saya secara khusus meminta perkara yang boleh saya lakukan yang akan menjadikan penjualan hartanah itu lebih menguntungkan selepas itu.',\n",
       "  'Ya, terdapat beberapa perkara yang boleh anda lakukan sebagai pemilik rumah untuk meningkatkan nilai hartanah anda dan menjadikannya lebih menguntungkan untuk dijual pada masa hadapan. Berikut adalah beberapa cadangan:\\n\\n1. Pastikan harta benda diselenggara dengan baik dan dalam keadaan baik. Ini boleh termasuk pembersihan, pembaikan dan penyelenggaraan yang kerap untuk memastikan harta itu kelihatan dan berfungsi dengan baik.\\n\\n2. Buat naik taraf dan pengubahsuaian yang memberi nilai tambah kepada harta itu. Ini mungkin termasuk menambah ciri cekap tenaga, mengemas kini dapur atau bilik mandi, atau menambah baik landskap.\\n\\n3. Pertimbangkan untuk menambah ruang tamu tambahan, seperti menyiapkan ruang bawah tanah atau menambah bilik tidur atau bilik mandi tambahan.\\n\\n4. Meningkatkan daya tarikan mengekang dengan meningkatkan penampilan luaran hartanah. Ini mungkin melibatkan perkara seperti landskap, mengecat semula bahagian luar atau menambah bahagian tepi atau bumbung baharu.\\n\\n5. Kekal dimaklumkan tentang arah aliran pasaran dan buat penambahbaikan strategik yang akan menarik minat pembeli di kawasan anda.\\n\\nIngat, sebarang penambahbaikan yang anda lakukan pada harta tanah anda hendaklah dirancang dan dilaksanakan dengan baik, serta bersesuaian dengan belanjawan anda dan pasaran tempatan.')]"
      ]
     },
     "execution_count": 9,
     "metadata": {},
     "output_type": "execute_result"
    }
   ],
   "source": [
    "splitted = all_texts[-4].split('<bot>:')\n",
    "pairs = []\n",
    "for i in range(len(splitted) - 1):\n",
    "    if i == 0:\n",
    "        human = splitted[i].replace('<manusia>:', '')\n",
    "    else:\n",
    "        human = splitted[i].split('<manusia>:')[1]\n",
    "    bot = splitted[i + 1].split('<manusia>:')[0]\n",
    "    pairs.append((human.strip(), bot.strip()))\n",
    "    \n",
    "pairs"
   ]
  },
  {
   "cell_type": "code",
   "execution_count": 10,
   "metadata": {},
   "outputs": [],
   "source": [
    "with open('oasst1-ms.jsonl', 'w') as fopen:\n",
    "    for t in all_texts:\n",
    "        fopen.write(f'{json.dumps(t)}\\n')"
   ]
  },
  {
   "cell_type": "code",
   "execution_count": 13,
   "metadata": {},
   "outputs": [
    {
     "data": {
      "text/plain": [
       "['texts-others.jsonl00.splitted.requested',\n",
       " 'texts-others.jsonl02.splitted.requested',\n",
       " 'texts-others.jsonl01.splitted.requested']"
      ]
     },
     "execution_count": 13,
     "metadata": {},
     "output_type": "execute_result"
    }
   ],
   "source": [
    "from glob import glob\n",
    "\n",
    "files = glob('texts-others.jsonl*.splitted.requested')\n",
    "files"
   ]
  },
  {
   "cell_type": "code",
   "execution_count": 14,
   "metadata": {},
   "outputs": [],
   "source": [
    "mapping = {}\n",
    "for f in files:\n",
    "    with open(f) as fopen:\n",
    "        for l in fopen:\n",
    "            data = json.loads(l)\n",
    "            mapping[data['src']] = data['r']['result']"
   ]
  },
  {
   "cell_type": "code",
   "execution_count": 15,
   "metadata": {},
   "outputs": [
    {
     "data": {
      "text/plain": [
       "44545"
      ]
     },
     "execution_count": 15,
     "metadata": {},
     "output_type": "execute_result"
    }
   ],
   "source": [
    "len(mapping)"
   ]
  },
  {
   "cell_type": "code",
   "execution_count": 16,
   "metadata": {},
   "outputs": [
    {
     "data": {
      "text/html": [
       "<div>\n",
       "<style scoped>\n",
       "    .dataframe tbody tr th:only-of-type {\n",
       "        vertical-align: middle;\n",
       "    }\n",
       "\n",
       "    .dataframe tbody tr th {\n",
       "        vertical-align: top;\n",
       "    }\n",
       "\n",
       "    .dataframe thead th {\n",
       "        text-align: right;\n",
       "    }\n",
       "</style>\n",
       "<table border=\"1\" class=\"dataframe\">\n",
       "  <thead>\n",
       "    <tr style=\"text-align: right;\">\n",
       "      <th></th>\n",
       "      <th>message_id</th>\n",
       "      <th>parent_id</th>\n",
       "      <th>user_id</th>\n",
       "      <th>created_date</th>\n",
       "      <th>text</th>\n",
       "      <th>role</th>\n",
       "      <th>lang</th>\n",
       "      <th>review_count</th>\n",
       "      <th>review_result</th>\n",
       "      <th>deleted</th>\n",
       "      <th>rank</th>\n",
       "      <th>synthetic</th>\n",
       "      <th>model_name</th>\n",
       "      <th>detoxify</th>\n",
       "      <th>message_tree_id</th>\n",
       "      <th>tree_state</th>\n",
       "      <th>emojis</th>\n",
       "      <th>labels</th>\n",
       "      <th>text_ms</th>\n",
       "    </tr>\n",
       "  </thead>\n",
       "  <tbody>\n",
       "    <tr>\n",
       "      <th>12</th>\n",
       "      <td>5249c721-e6d7-45f3-9680-f211d7be308e</td>\n",
       "      <td>None</td>\n",
       "      <td>63d9c326-9eef-46ae-92bf-1cfee1fa6128</td>\n",
       "      <td>2023-02-06T02:16:52.167075+00:00</td>\n",
       "      <td>¿CUales son las etapas del desarrollo y en qué...</td>\n",
       "      <td>prompter</td>\n",
       "      <td>es</td>\n",
       "      <td>3</td>\n",
       "      <td>True</td>\n",
       "      <td>False</td>\n",
       "      <td>NaN</td>\n",
       "      <td>False</td>\n",
       "      <td>None</td>\n",
       "      <td>{'toxicity': 0.0003284301492385566, 'severe_to...</td>\n",
       "      <td>5249c721-e6d7-45f3-9680-f211d7be308e</td>\n",
       "      <td>ready_for_export</td>\n",
       "      <td>{'name': ['+1', '-1', '_skip_reply', '_skip_ra...</td>\n",
       "      <td>{'name': ['spam', 'lang_mismatch', 'pii', 'not...</td>\n",
       "      <td>Apakah peringkat pembangunan dan apakah yang t...</td>\n",
       "    </tr>\n",
       "    <tr>\n",
       "      <th>13</th>\n",
       "      <td>851a0267-90b0-46f3-97e8-ba143a1c0cd5</td>\n",
       "      <td>5249c721-e6d7-45f3-9680-f211d7be308e</td>\n",
       "      <td>fc8bf403-c061-4501-855f-10cd0fccc1b9</td>\n",
       "      <td>2023-02-09T18:15:17.729005+00:00</td>\n",
       "      <td>Jean Piaget fue un psicólogo suizo que propuso...</td>\n",
       "      <td>assistant</td>\n",
       "      <td>es</td>\n",
       "      <td>3</td>\n",
       "      <td>True</td>\n",
       "      <td>False</td>\n",
       "      <td>0.0</td>\n",
       "      <td>False</td>\n",
       "      <td>None</td>\n",
       "      <td>{'toxicity': 0.00026873970637097955, 'severe_t...</td>\n",
       "      <td>5249c721-e6d7-45f3-9680-f211d7be308e</td>\n",
       "      <td>ready_for_export</td>\n",
       "      <td>{'name': ['+1', '_skip_labeling'], 'count': [5...</td>\n",
       "      <td>{'name': ['spam', 'fails_task', 'lang_mismatch...</td>\n",
       "      <td>Jean Piaget adalah ahli psikologi Switzerland ...</td>\n",
       "    </tr>\n",
       "    <tr>\n",
       "      <th>14</th>\n",
       "      <td>ef4a54ad-693f-4253-9478-5174b1dc4553</td>\n",
       "      <td>851a0267-90b0-46f3-97e8-ba143a1c0cd5</td>\n",
       "      <td>5e831e07-1357-4d7a-af07-e37b54eca4b6</td>\n",
       "      <td>2023-02-09T18:44:20.487394+00:00</td>\n",
       "      <td>¿Hay otras teorías sobre las etapas del desarr...</td>\n",
       "      <td>prompter</td>\n",
       "      <td>es</td>\n",
       "      <td>7</td>\n",
       "      <td>True</td>\n",
       "      <td>False</td>\n",
       "      <td>NaN</td>\n",
       "      <td>False</td>\n",
       "      <td>None</td>\n",
       "      <td>{'toxicity': 0.0002816664637066424, 'severe_to...</td>\n",
       "      <td>5249c721-e6d7-45f3-9680-f211d7be308e</td>\n",
       "      <td>ready_for_export</td>\n",
       "      <td>{'name': ['+1'], 'count': [3]}</td>\n",
       "      <td>{'name': ['spam', 'lang_mismatch', 'pii', 'not...</td>\n",
       "      <td>Adakah terdapat teori peringkat perkembangan l...</td>\n",
       "    </tr>\n",
       "    <tr>\n",
       "      <th>15</th>\n",
       "      <td>d8f904d8-f751-4038-a2c9-d47cc15c7373</td>\n",
       "      <td>5249c721-e6d7-45f3-9680-f211d7be308e</td>\n",
       "      <td>1051b6f3-8139-45a8-9112-94e897f8c522</td>\n",
       "      <td>2023-02-09T17:27:01.298011+00:00</td>\n",
       "      <td>Según Jean Piaget, estas son las 4 etapas del ...</td>\n",
       "      <td>assistant</td>\n",
       "      <td>es</td>\n",
       "      <td>4</td>\n",
       "      <td>True</td>\n",
       "      <td>False</td>\n",
       "      <td>1.0</td>\n",
       "      <td>False</td>\n",
       "      <td>None</td>\n",
       "      <td>{'toxicity': 0.000252147059654817, 'severe_tox...</td>\n",
       "      <td>5249c721-e6d7-45f3-9680-f211d7be308e</td>\n",
       "      <td>ready_for_export</td>\n",
       "      <td>{'name': ['+1', '_skip_reply', '_skip_labeling...</td>\n",
       "      <td>{'name': ['spam', 'fails_task', 'lang_mismatch...</td>\n",
       "      <td>Menurut Jean Piaget, ini adalah 4 peringkat pe...</td>\n",
       "    </tr>\n",
       "    <tr>\n",
       "      <th>16</th>\n",
       "      <td>074e0c5b-90a5-42a7-b2b7-e820609c8a38</td>\n",
       "      <td>d8f904d8-f751-4038-a2c9-d47cc15c7373</td>\n",
       "      <td>9360a3b4-b48a-41d9-bac7-f2b2ff83dd31</td>\n",
       "      <td>2023-02-09T18:23:27.368410+00:00</td>\n",
       "      <td>Desarrolla un breve poema en el que resumas la...</td>\n",
       "      <td>prompter</td>\n",
       "      <td>es</td>\n",
       "      <td>3</td>\n",
       "      <td>True</td>\n",
       "      <td>False</td>\n",
       "      <td>NaN</td>\n",
       "      <td>False</td>\n",
       "      <td>None</td>\n",
       "      <td>{'toxicity': 0.0013581713428720832, 'severe_to...</td>\n",
       "      <td>5249c721-e6d7-45f3-9680-f211d7be308e</td>\n",
       "      <td>ready_for_export</td>\n",
       "      <td>{'name': ['+1', '_skip_reply', '_skip_labeling...</td>\n",
       "      <td>{'name': ['spam', 'lang_mismatch', 'pii', 'not...</td>\n",
       "      <td>Bina puisi pendek di mana anda meringkaskan ja...</td>\n",
       "    </tr>\n",
       "  </tbody>\n",
       "</table>\n",
       "</div>"
      ],
      "text/plain": [
       "                              message_id  \\\n",
       "12  5249c721-e6d7-45f3-9680-f211d7be308e   \n",
       "13  851a0267-90b0-46f3-97e8-ba143a1c0cd5   \n",
       "14  ef4a54ad-693f-4253-9478-5174b1dc4553   \n",
       "15  d8f904d8-f751-4038-a2c9-d47cc15c7373   \n",
       "16  074e0c5b-90a5-42a7-b2b7-e820609c8a38   \n",
       "\n",
       "                               parent_id  \\\n",
       "12                                  None   \n",
       "13  5249c721-e6d7-45f3-9680-f211d7be308e   \n",
       "14  851a0267-90b0-46f3-97e8-ba143a1c0cd5   \n",
       "15  5249c721-e6d7-45f3-9680-f211d7be308e   \n",
       "16  d8f904d8-f751-4038-a2c9-d47cc15c7373   \n",
       "\n",
       "                                 user_id                      created_date  \\\n",
       "12  63d9c326-9eef-46ae-92bf-1cfee1fa6128  2023-02-06T02:16:52.167075+00:00   \n",
       "13  fc8bf403-c061-4501-855f-10cd0fccc1b9  2023-02-09T18:15:17.729005+00:00   \n",
       "14  5e831e07-1357-4d7a-af07-e37b54eca4b6  2023-02-09T18:44:20.487394+00:00   \n",
       "15  1051b6f3-8139-45a8-9112-94e897f8c522  2023-02-09T17:27:01.298011+00:00   \n",
       "16  9360a3b4-b48a-41d9-bac7-f2b2ff83dd31  2023-02-09T18:23:27.368410+00:00   \n",
       "\n",
       "                                                 text       role lang  \\\n",
       "12  ¿CUales son las etapas del desarrollo y en qué...   prompter   es   \n",
       "13  Jean Piaget fue un psicólogo suizo que propuso...  assistant   es   \n",
       "14  ¿Hay otras teorías sobre las etapas del desarr...   prompter   es   \n",
       "15  Según Jean Piaget, estas son las 4 etapas del ...  assistant   es   \n",
       "16  Desarrolla un breve poema en el que resumas la...   prompter   es   \n",
       "\n",
       "    review_count review_result  deleted  rank  synthetic model_name  \\\n",
       "12             3          True    False   NaN      False       None   \n",
       "13             3          True    False   0.0      False       None   \n",
       "14             7          True    False   NaN      False       None   \n",
       "15             4          True    False   1.0      False       None   \n",
       "16             3          True    False   NaN      False       None   \n",
       "\n",
       "                                             detoxify  \\\n",
       "12  {'toxicity': 0.0003284301492385566, 'severe_to...   \n",
       "13  {'toxicity': 0.00026873970637097955, 'severe_t...   \n",
       "14  {'toxicity': 0.0002816664637066424, 'severe_to...   \n",
       "15  {'toxicity': 0.000252147059654817, 'severe_tox...   \n",
       "16  {'toxicity': 0.0013581713428720832, 'severe_to...   \n",
       "\n",
       "                         message_tree_id        tree_state  \\\n",
       "12  5249c721-e6d7-45f3-9680-f211d7be308e  ready_for_export   \n",
       "13  5249c721-e6d7-45f3-9680-f211d7be308e  ready_for_export   \n",
       "14  5249c721-e6d7-45f3-9680-f211d7be308e  ready_for_export   \n",
       "15  5249c721-e6d7-45f3-9680-f211d7be308e  ready_for_export   \n",
       "16  5249c721-e6d7-45f3-9680-f211d7be308e  ready_for_export   \n",
       "\n",
       "                                               emojis  \\\n",
       "12  {'name': ['+1', '-1', '_skip_reply', '_skip_ra...   \n",
       "13  {'name': ['+1', '_skip_labeling'], 'count': [5...   \n",
       "14                     {'name': ['+1'], 'count': [3]}   \n",
       "15  {'name': ['+1', '_skip_reply', '_skip_labeling...   \n",
       "16  {'name': ['+1', '_skip_reply', '_skip_labeling...   \n",
       "\n",
       "                                               labels  \\\n",
       "12  {'name': ['spam', 'lang_mismatch', 'pii', 'not...   \n",
       "13  {'name': ['spam', 'fails_task', 'lang_mismatch...   \n",
       "14  {'name': ['spam', 'lang_mismatch', 'pii', 'not...   \n",
       "15  {'name': ['spam', 'fails_task', 'lang_mismatch...   \n",
       "16  {'name': ['spam', 'lang_mismatch', 'pii', 'not...   \n",
       "\n",
       "                                              text_ms  \n",
       "12  Apakah peringkat pembangunan dan apakah yang t...  \n",
       "13  Jean Piaget adalah ahli psikologi Switzerland ...  \n",
       "14  Adakah terdapat teori peringkat perkembangan l...  \n",
       "15  Menurut Jean Piaget, ini adalah 4 peringkat pe...  \n",
       "16  Bina puisi pendek di mana anda meringkaskan ja...  "
      ]
     },
     "execution_count": 16,
     "metadata": {},
     "output_type": "execute_result"
    }
   ],
   "source": [
    "df = pd.read_parquet('train-00000-of-00001-b42a775f407cee45.parquet')\n",
    "df = df[df['lang'] != 'en']\n",
    "df['text_ms'] = df.text.map(mapping)\n",
    "df.head()"
   ]
  },
  {
   "cell_type": "code",
   "execution_count": 17,
   "metadata": {},
   "outputs": [
    {
     "data": {
      "text/plain": [
       "6379"
      ]
     },
     "execution_count": 17,
     "metadata": {},
     "output_type": "execute_result"
    }
   ],
   "source": [
    "message_tree_id = df['message_tree_id'].unique().tolist()\n",
    "len(message_tree_id)"
   ]
  },
  {
   "cell_type": "code",
   "execution_count": 20,
   "metadata": {},
   "outputs": [
    {
     "data": {
      "text/plain": [
       "0.9041447667178656"
      ]
     },
     "execution_count": 20,
     "metadata": {},
     "output_type": "execute_result"
    }
   ],
   "source": [
    "import random\n",
    "\n",
    "random.random()"
   ]
  },
  {
   "cell_type": "code",
   "execution_count": 27,
   "metadata": {},
   "outputs": [
    {
     "name": "stderr",
     "output_type": "stream",
     "text": [
      "100%|████████████████████████████████████████████████████████████████████████████████████████████████████████| 6379/6379 [00:34<00:00, 184.43it/s]\n"
     ]
    }
   ],
   "source": [
    "all_texts = []\n",
    "for id in tqdm(message_tree_id):\n",
    "    try:\n",
    "        df_message_tree = df[df['message_tree_id'] == id].sort_values(\"created_date\")\n",
    "        df_message_tree = add_tree_level(df_message_tree)\n",
    "    except:\n",
    "        continue\n",
    "        \n",
    "    id_tree = Tree()\n",
    "\n",
    "    for i, row in df_message_tree.iterrows():\n",
    "        message_id = row[\"message_id\"]\n",
    "        parent_id = row[\"parent_id\"]\n",
    "        try:\n",
    "            id_tree.create_node(message_id, message_id, parent=parent_id, data=row.to_dict())\n",
    "        except:\n",
    "            pass\n",
    "    \n",
    "    combination = id_tree.paths_to_leaves()\n",
    "    for c in combination:\n",
    "        df_ = df_message_tree[df_message_tree['message_id'].isin(c)].sort_values(\"created_date\")\n",
    "        texts = []\n",
    "        for i in range(len(df_)):\n",
    "            try:\n",
    "                if i % 2 == 0:\n",
    "                    if random.random() < 0.6:\n",
    "                        t = df_.iloc[i]['text']\n",
    "                    else:\n",
    "                        t = df_.iloc[i]['text_ms']\n",
    "                    left = '<manusia>: ' + t\n",
    "                else:\n",
    "                    left = '<bot>: ' + df_.iloc[i]['text_ms']\n",
    "                texts.append(left)\n",
    "            except:\n",
    "                break\n",
    "        all_texts.append('\\n'.join(texts))"
   ]
  },
  {
   "cell_type": "code",
   "execution_count": 28,
   "metadata": {},
   "outputs": [
    {
     "data": {
      "text/plain": [
       "23793"
      ]
     },
     "execution_count": 28,
     "metadata": {},
     "output_type": "execute_result"
    }
   ],
   "source": [
    "len(all_texts)"
   ]
  },
  {
   "cell_type": "code",
   "execution_count": 29,
   "metadata": {},
   "outputs": [],
   "source": [
    "with open('oasst1-others.jsonl', 'w') as fopen:\n",
    "    for t in all_texts:\n",
    "        fopen.write(f'{json.dumps(t)}\\n')"
   ]
  },
  {
   "cell_type": "code",
   "execution_count": 26,
   "metadata": {},
   "outputs": [
    {
     "data": {
      "text/plain": [
       "[('Schreibe einen kurze und präzise Konstruktionsbeschreibung zu einem Dreieck ABC mit c=6\\xa0cm, h_c=5\\xa0cm und γ=40°. γ ist hierbei der von Seite c gegenüberliegende Winkel.',\n",
       "  'Segitiga ABC ialah segi tiga tegak dengan panjang sisi c=6 cm sebagai hipotenus. Tinggi h_c c ialah 5 cm dan sudut γ c bertentangan ialah 40°.')]"
      ]
     },
     "execution_count": 26,
     "metadata": {},
     "output_type": "execute_result"
    }
   ],
   "source": [
    "# splitted = '<manusia>: Schreibe einen kurze und präzise Konstruktionsbeschreibung zu einem Dreieck ABC mit c=6\\xa0cm, h_c=5\\xa0cm und γ=40°. γ ist hierbei der von Seite c gegenüberliegende Winkel.\\n<bot>: Segitiga ABC ialah segi tiga tegak dengan panjang sisi c=6 cm sebagai hipotenus. Tinggi h_c c ialah 5 cm dan sudut γ c bertentangan ialah 40°.\\n<manusia>: Terima kasih, itu banyak membantu saya.'.split('<bot>:')\n",
    "# pairs = []\n",
    "# for i in range(len(splitted) - 1):\n",
    "#     if i == 0:\n",
    "#         human = splitted[i].replace('<manusia>:', '')\n",
    "#     else:\n",
    "#         human = splitted[i].split('<manusia>:')[1]\n",
    "#     bot = splitted[i + 1].split('<manusia>:')[0]\n",
    "#     pairs.append((human.strip(), bot.strip()))\n",
    "    \n",
    "# pairs"
   ]
  }
 ],
 "metadata": {
  "kernelspec": {
   "display_name": "Python 3 (ipykernel)",
   "language": "python",
   "name": "python3"
  },
  "language_info": {
   "codemirror_mode": {
    "name": "ipython",
    "version": 3
   },
   "file_extension": ".py",
   "mimetype": "text/x-python",
   "name": "python",
   "nbconvert_exporter": "python",
   "pygments_lexer": "ipython3",
   "version": "3.8.10"
  }
 },
 "nbformat": 4,
 "nbformat_minor": 4
}
