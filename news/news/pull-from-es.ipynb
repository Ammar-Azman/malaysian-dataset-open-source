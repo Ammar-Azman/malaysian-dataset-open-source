{
 "cells": [
  {
   "cell_type": "code",
   "execution_count": 4,
   "metadata": {},
   "outputs": [],
   "source": [
    "from elasticsearch import Elasticsearch, RequestsHttpConnection\n",
    "from elasticsearch_dsl import Search\n",
    "from datetime import datetime\n",
    "from tqdm import tqdm\n",
    "import json"
   ]
  },
  {
   "cell_type": "code",
   "execution_count": 2,
   "metadata": {},
   "outputs": [
    {
     "name": "stdout",
     "output_type": "stream",
     "text": [
      "{\r\n",
      "  \"name\" : \"husein-MS-7D31\",\r\n",
      "  \"cluster_name\" : \"elasticsearch\",\r\n",
      "  \"cluster_uuid\" : \"DBMBtjLQSFumfGwLXRIKGg\",\r\n",
      "  \"version\" : {\r\n",
      "    \"number\" : \"7.17.4\",\r\n",
      "    \"build_flavor\" : \"default\",\r\n",
      "    \"build_type\" : \"deb\",\r\n",
      "    \"build_hash\" : \"79878662c54c886ae89206c685d9f1051a9d6411\",\r\n",
      "    \"build_date\" : \"2022-05-18T18:04:20.964345128Z\",\r\n",
      "    \"build_snapshot\" : false,\r\n",
      "    \"lucene_version\" : \"8.11.1\",\r\n",
      "    \"minimum_wire_compatibility_version\" : \"6.8.0\",\r\n",
      "    \"minimum_index_compatibility_version\" : \"6.0.0-beta1\"\r\n",
      "  },\r\n",
      "  \"tagline\" : \"You Know, for Search\"\r\n",
      "}\r\n"
     ]
    }
   ],
   "source": [
    "!curl localhost:9200"
   ]
  },
  {
   "cell_type": "code",
   "execution_count": 3,
   "metadata": {},
   "outputs": [
    {
     "name": "stdout",
     "output_type": "stream",
     "text": [
      "yellow open news_v2                         Xy-kOPpYQUWOzRuK5qmOEw 1 1   16000      0   194mb   194mb\r\n",
      "yellow open .kibana_7.15.0_001              C2Tb9_5zRXiZoRTZw4AnCQ 1 1      31      0  91.5kb  91.5kb\r\n",
      "yellow open test                            FGUf2PibRtmUUsbfI0obcg 1 1      13      0   4.9kb   4.9kb\r\n",
      "green  open .apm-agent-configuration        JvxsESs-RHuwpolAqdmC6g 1 0       0      0    226b    226b\r\n",
      "yellow open .kibana_task_manager_7.15.0_001 8k4C2kV3ROujSIGfXenM-Q 1 1      15      0    21kb    21kb\r\n",
      "yellow open test1                           9d5XlWtBRCG2yPLtKYvS_A 1 1       1      0   4.5kb   4.5kb\r\n",
      "green  open .kibana_7.17.4_001              UH56PMRPR4e4psRBDwzHkw 1 0      25     12   2.4mb   2.4mb\r\n",
      "yellow open instagram_v1                    i4BW_sZIROuD7q0SlYL4og 1 1    4767      0   5.3mb   5.3mb\r\n",
      "green  open .tasks                          29Y36Y13TI6lWJYy0erc6Q 1 0     139      0  61.8kb  61.8kb\r\n",
      "yellow open .kibana_task_manager_7.15.2_001 rd_OQU5yR121-ZfbwG9l-Q 1 1      15      0  19.5kb  19.5kb\r\n",
      "green  open .geoip_databases                R6BrNq3HTeC-ryOenz8ggg 1 0      41     41  39.3mb  39.3mb\r\n",
      "yellow open twitter                         6kxRu_LKQOmewbPWOKWgFA 1 1    6714      0  51.2mb  51.2mb\r\n",
      "yellow open .kibana_7.17.0_001              B_0oeESnSuumI_XPQqqT7w 1 1     630      0 185.6kb 185.6kb\r\n",
      "green  open .apm-custom-link                2piEB6QlQ-2fifMtnQvJyQ 1 0       0      0    226b    226b\r\n",
      "yellow open twitter_streaming               nsu5GU30Q_CzswH3PqB-Tw 1 1 7075025      0  33.4gb  33.4gb\r\n",
      "green  open .kibana_task_manager_7.17.4_001 BSgacKOoQWGQZVgBds202w 1 0      17 778305  83.5mb  83.5mb\r\n",
      "yellow open .kibana_7.15.2_001              CUzQ8MZsSeS2C__r1nmJWw 1 1      60      0   105kb   105kb\r\n",
      "yellow open .kibana_task_manager_7.17.0_001 UaXWE8ktQ6aZQKH241J6dw 1 1      17      0  21.1kb  21.1kb\r\n"
     ]
    }
   ],
   "source": [
    "!curl localhost:9200/_cat/indices"
   ]
  },
  {
   "cell_type": "code",
   "execution_count": 5,
   "metadata": {},
   "outputs": [],
   "source": [
    "es = Elasticsearch(\n",
    "    hosts = [{'host': 'localhost', 'port': 9200}],\n",
    "    connection_class = RequestsHttpConnection,\n",
    ")"
   ]
  },
  {
   "cell_type": "code",
   "execution_count": 6,
   "metadata": {},
   "outputs": [],
   "source": [
    "s = Search(using=es, index='news_v2')"
   ]
  },
  {
   "cell_type": "code",
   "execution_count": 9,
   "metadata": {},
   "outputs": [
    {
     "name": "stderr",
     "output_type": "stream",
     "text": [
      "16000it [00:00, 20550.44it/s]\n"
     ]
    }
   ],
   "source": [
    "results = []\n",
    "for hit in tqdm(s.scan()):\n",
    "    results.append(hit.to_dict())"
   ]
  },
  {
   "cell_type": "code",
   "execution_count": 10,
   "metadata": {},
   "outputs": [
    {
     "data": {
      "text/plain": [
       "16000"
      ]
     },
     "execution_count": 10,
     "metadata": {},
     "output_type": "execute_result"
    }
   ],
   "source": [
    "len(results)"
   ]
  },
  {
   "cell_type": "code",
   "execution_count": 16,
   "metadata": {},
   "outputs": [
    {
     "data": {
      "text/plain": [
       "'PAGOH: Majlis Pemulihan Negara (MPN) akan terus berperanan sebagai badan penasihat kepada kerajaan terutama ketika negara berdepan isu membabitkan kesejahteraan dan keselesaan rakyat.\\n\\nPengerusinya Muhyiddin Yassin berkata pihaknya akan sentiasa memberi pandangan dan buah fikiran, namun ia terserah kepada kerajaan sama ada untuk menerima cadangan tersebut atau sebaliknya.\\n\\nBekas Perdana Menteri itu berkata baru-baru ini, pihak MPN ada berbincang bersama tokoh dan pakar ekonomi berkenaan isu inflasi dan kenaikan harga makanan global serta jaminan keselamatan makanan untuk jangka masa pendek dan panjang.\\n\\n“Susulan itu, MPN mencadangkan kepada kerajaan agar mempunyai strategi jangka pendek untuk mengeluarkan hasil bahan asas seperti makanan, ternakan dan lain-lain dengan menggunakan cara yang tersusun.\\n\\n“Begitu juga dengan jangka panjang, semua perlu bersedia, kita sudah memberi idea,” katanya kepada pemberita selepas menghadiri majlis meraikan bakal haji dan penyerahan lembu korban Parlimen Pagoh di sini hari ini.\\n\\nBeliau berkata demikian ketika diminta mengulas mengenai keluhan rakyat berhubung isu kenaikan harga barangan sejak kebelakangan ini.\\n\\nDalam pada itu, Muhyiddin menyambut baik bantuan tunai tambahan di bawah Bantuan Keluarga Malaysia (BKM) iaitu RM100 untuk isi rumah dan RM50 bagi golongan bujang yang diumumkan kerajaan pada Rabu lepas.\\n\\nSementara itu, mengulas mengenai jawatan Menteri Perusahaan Perladangan dan Komoditi Zuraida Kamaruddin, Muhyiddin berkata perkara itu diserahkan kepada Perdana Menteri Ismail Sabri Yaakob untuk membuat keputusan.\\n\\nPada 26 Mei lepas, Zuraida mengumumkan keluar Bersatu untuk menyertai Parti Bangsa Malaysia (PBM) dan menyatakan kesediaan melepaskan jawatan sebagai menteri jika diarah berbuat demikian oleh perdana menteri.\\n\\n\\n\\n'"
      ]
     },
     "execution_count": 16,
     "metadata": {},
     "output_type": "execute_result"
    }
   ],
   "source": [
    "results[-1]['newspapers_3k']['text']"
   ]
  },
  {
   "cell_type": "code",
   "execution_count": null,
   "metadata": {},
   "outputs": [],
   "source": [
    "import json\n",
    "\n",
    "with open('news-')"
   ]
  }
 ],
 "metadata": {
  "kernelspec": {
   "display_name": "Python 3 (ipykernel)",
   "language": "python",
   "name": "python3"
  },
  "language_info": {
   "codemirror_mode": {
    "name": "ipython",
    "version": 3
   },
   "file_extension": ".py",
   "mimetype": "text/x-python",
   "name": "python",
   "nbconvert_exporter": "python",
   "pygments_lexer": "ipython3",
   "version": "3.8.10"
  }
 },
 "nbformat": 4,
 "nbformat_minor": 4
}
