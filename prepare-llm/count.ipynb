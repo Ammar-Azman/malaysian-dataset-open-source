{
 "cells": [
  {
   "cell_type": "code",
   "execution_count": 1,
   "metadata": {},
   "outputs": [],
   "source": [
    "# !wget https://huggingface.co/datasets/mesolitica/crawl-amanz-my/resolve/main/parsed.jsonl -O amanz-my.jsonl"
   ]
  },
  {
   "cell_type": "code",
   "execution_count": 2,
   "metadata": {},
   "outputs": [],
   "source": [
    "# !wget https://huggingface.co/datasets/mesolitica/twitter-dedup/resolve/main/dedup-twitter.jsonl"
   ]
  },
  {
   "cell_type": "code",
   "execution_count": 3,
   "metadata": {},
   "outputs": [],
   "source": [
    "# !wget https://huggingface.co/datasets/mesolitica/fb-malaysian-pages/resolve/main/dedup.jsonl -O fb-dedup.jsonl"
   ]
  },
  {
   "cell_type": "code",
   "execution_count": 4,
   "metadata": {},
   "outputs": [],
   "source": [
    "# !wget https://huggingface.co/datasets/mesolitica/crawl-iium-confession/resolve/main/crawled-iium.json"
   ]
  },
  {
   "cell_type": "code",
   "execution_count": 5,
   "metadata": {},
   "outputs": [],
   "source": [
    "# !wget https://huggingface.co/datasets/mesolitica/crawl-astroawani/resolve/main/combined.jsonl -O astroawani.jsonl"
   ]
  },
  {
   "cell_type": "code",
   "execution_count": 6,
   "metadata": {},
   "outputs": [],
   "source": [
    "# !wget https://huggingface.co/datasets/mesolitica/pdf-text-dedup/resolve/main/academia-dedup.jsonl"
   ]
  },
  {
   "cell_type": "code",
   "execution_count": 7,
   "metadata": {},
   "outputs": [],
   "source": [
    "# !wget https://huggingface.co/datasets/mesolitica/crawl-bernama/resolve/main/parse-bernama.json"
   ]
  },
  {
   "cell_type": "code",
   "execution_count": 8,
   "metadata": {},
   "outputs": [],
   "source": [
    "# !wget https://huggingface.co/datasets/mesolitica/crawl-b-cari-com-my/resolve/main/everything.jsonl -O b-cari-com-my.jsonl"
   ]
  },
  {
   "cell_type": "code",
   "execution_count": 9,
   "metadata": {},
   "outputs": [],
   "source": [
    "# !wget https://huggingface.co/datasets/mesolitica/crawl-c-cari-com-my/resolve/main/everything.jsonl -O c-cari-com-my.jsonl"
   ]
  },
  {
   "cell_type": "code",
   "execution_count": 10,
   "metadata": {},
   "outputs": [],
   "source": [
    "# !wget https://huggingface.co/datasets/mesolitica/crawl-carigold/resolve/main/politics.json -O carigold-politics.json\n",
    "# !wget https://huggingface.co/datasets/mesolitica/crawl-carigold/resolve/main/current-issues.json -O carigold-current-issues.json\n",
    "# !wget https://huggingface.co/datasets/mesolitica/crawl-carigold/resolve/main/santai-others.json -O carigold-santai-others.json\n",
    "# !wget https://huggingface.co/datasets/mesolitica/crawl-carigold/resolve/main/everything.jsonl -O carigold.jsonl"
   ]
  },
  {
   "cell_type": "code",
   "execution_count": 11,
   "metadata": {},
   "outputs": [],
   "source": [
    "# !wget https://huggingface.co/datasets/mesolitica/crawl-cn-cari-com-my/resolve/main/dedup.jsonl -O cn-cari-com-my.jsonl"
   ]
  },
  {
   "cell_type": "code",
   "execution_count": 12,
   "metadata": {},
   "outputs": [],
   "source": [
    "# !wget https://huggingface.co/datasets/mesolitica/pdf-text-dedup/resolve/main/eprints-dedup.jsonl -O eprints.jsonl"
   ]
  },
  {
   "cell_type": "code",
   "execution_count": 13,
   "metadata": {},
   "outputs": [],
   "source": [
    "# !wget https://huggingface.co/datasets/mesolitica/crawl-fmt/resolve/main/parsed-fmt.jsonl"
   ]
  },
  {
   "cell_type": "code",
   "execution_count": 14,
   "metadata": {},
   "outputs": [],
   "source": [
    "# !wget https://huggingface.co/datasets/mesolitica/crawl-malaysian-hansard/resolve/main/hansard.jsonl"
   ]
  },
  {
   "cell_type": "code",
   "execution_count": 15,
   "metadata": {},
   "outputs": [],
   "source": [
    "# !wget https://huggingface.co/datasets/mesolitica/crawl-hardwarezone-sg/resolve/main/everything.jsonl -O hardwarezone-sg.jsonl"
   ]
  },
  {
   "cell_type": "code",
   "execution_count": 16,
   "metadata": {},
   "outputs": [],
   "source": [
    "# !wget https://huggingface.co/datasets/mesolitica/crawl-jbtalks/resolve/main/everything.jsonl -O jbtalks.jsonl"
   ]
  },
  {
   "cell_type": "code",
   "execution_count": 17,
   "metadata": {},
   "outputs": [],
   "source": [
    "# !wget https://huggingface.co/datasets/tnwei/ms-newspapers/resolve/main/kosmo-20230524.jsonl\n",
    "# !wget https://huggingface.co/datasets/tnwei/ms-newspapers/resolve/main/utusan-20230512.jsonl"
   ]
  },
  {
   "cell_type": "code",
   "execution_count": 18,
   "metadata": {},
   "outputs": [],
   "source": [
    "# !wget https://huggingface.co/datasets/mesolitica/crawl-lom-agc-gov-my/resolve/main/dedup.jsonl -O agc-gov-my.jsonl"
   ]
  },
  {
   "cell_type": "code",
   "execution_count": 19,
   "metadata": {},
   "outputs": [],
   "source": [
    "# !wget https://huggingface.co/datasets/mesolitica/crawl-lowyat/resolve/main/kopitiam.json\n",
    "# !wget https://huggingface.co/datasets/mesolitica/crawl-lowyat/resolve/main/SeriousKopitiam.json\n",
    "# !wget https://huggingface.co/datasets/mesolitica/crawl-lowyat/resolve/main/PolitiKs.json\n",
    "# !wget https://huggingface.co/datasets/mesolitica/crawl-lowyat/resolve/main/PropertyTalk.json"
   ]
  },
  {
   "cell_type": "code",
   "execution_count": 20,
   "metadata": {},
   "outputs": [],
   "source": [
    "# !wget https://huggingface.co/datasets/mesolitica/crawl-mycarforum-com/resolve/main/everything.jsonl -O mycarforum.jsonl"
   ]
  },
  {
   "cell_type": "code",
   "execution_count": 21,
   "metadata": {},
   "outputs": [],
   "source": [
    "# !wget https://huggingface.co/datasets/mesolitica/pdf-text-dedup/resolve/main/parlimen-gov-dedup.jsonl -O parlimen-gov.jso"
   ]
  },
  {
   "cell_type": "code",
   "execution_count": 22,
   "metadata": {},
   "outputs": [],
   "source": [
    "# !wget https://huggingface.co/datasets/mesolitica/crawl-salary-sg/resolve/main/everything.jsonl -O salary-sg.jsonl"
   ]
  },
  {
   "cell_type": "code",
   "execution_count": 23,
   "metadata": {},
   "outputs": [],
   "source": [
    "# !wget https://huggingface.co/datasets/mesolitica/wikipedia/resolve/main/wikipedia-2023-06-10.jsonl -O wikipedia.jsonl"
   ]
  },
  {
   "cell_type": "code",
   "execution_count": 24,
   "metadata": {},
   "outputs": [],
   "source": [
    "# !wget https://huggingface.co/datasets/mesolitica/common-crawl-dedup/resolve/main/dedup.jsonl -O common-crawl.jsonl"
   ]
  },
  {
   "cell_type": "code",
   "execution_count": 25,
   "metadata": {},
   "outputs": [],
   "source": [
    "# !wget https://huggingface.co/datasets/mesolitica/pdf-text-dedup/resolve/main/pdfdrive-dedup.jsonl -O pdfdrive.jsonl"
   ]
  },
  {
   "cell_type": "code",
   "execution_count": 26,
   "metadata": {},
   "outputs": [],
   "source": [
    "# !wget https://huggingface.co/datasets/mesolitica/NLLB-zsm_Latn-dedup/resolve/main/dedup-eng_Latn-zsm_Latn.jsonl"
   ]
  },
  {
   "cell_type": "code",
   "execution_count": 27,
   "metadata": {},
   "outputs": [],
   "source": [
    "# !wget https://huggingface.co/datasets/mesolitica/reddit/resolve/main/dedup.jsonl -O reddit.jsonl"
   ]
  },
  {
   "cell_type": "code",
   "execution_count": 28,
   "metadata": {},
   "outputs": [],
   "source": [
    "# !wget https://huggingface.co/datasets/mesolitica/cc-100-ms-dedup/resolve/main/dedup.jsonl -O cc-100.jsonl"
   ]
  },
  {
   "cell_type": "code",
   "execution_count": 29,
   "metadata": {},
   "outputs": [],
   "source": [
    "# !wget https://huggingface.co/mesolitica/fasttext-language-detection-v2/resolve/main/fasttext.bin"
   ]
  },
  {
   "cell_type": "code",
   "execution_count": 30,
   "metadata": {},
   "outputs": [
    {
     "name": "stderr",
     "output_type": "stream",
     "text": [
      "Warning : `load_model` does not return WordVectorModel or SupervisedModel any more, but a `FastText` object which is very similar.\n"
     ]
    }
   ],
   "source": [
    "import fasttext\n",
    "\n",
    "model = fasttext.load_model('/home/husein/dev/malaya/pretrained-model/language-detection-v2/model-16.bin')"
   ]
  },
  {
   "cell_type": "code",
   "execution_count": 31,
   "metadata": {},
   "outputs": [],
   "source": [
    "import malaya\n",
    "from malaya.text.function import language_detection_textcleaning\n",
    "import json\n",
    "import sys\n",
    "from tqdm import tqdm\n",
    "from glob import glob"
   ]
  },
  {
   "cell_type": "code",
   "execution_count": 32,
   "metadata": {},
   "outputs": [
    {
     "data": {
      "text/plain": [
       "(('__label__local-mandarin',), array([0.95308328]))"
      ]
     },
     "execution_count": 32,
     "metadata": {},
     "output_type": "execute_result"
    }
   ],
   "source": [
    "t = '几时的啊？ 这个礼拜的话很难搞下。 到处都有喜宴跟月光晚会。'\n",
    "c = language_detection_textcleaning(t)\n",
    "model.predict(c)"
   ]
  },
  {
   "cell_type": "code",
   "execution_count": 33,
   "metadata": {},
   "outputs": [
    {
     "data": {
      "text/plain": [
       "(('__label__socialmedia-indonesian',), array([1.00003004]))"
      ]
     },
     "execution_count": 33,
     "metadata": {},
     "output_type": "execute_result"
    }
   ],
   "source": [
    "t = 'goblok'\n",
    "c = language_detection_textcleaning(t)\n",
    "model.predict(c)"
   ]
  },
  {
   "cell_type": "code",
   "execution_count": 34,
   "metadata": {},
   "outputs": [],
   "source": [
    "from collections import defaultdict\n",
    "\n",
    "count = defaultdict(int)\n",
    "size = defaultdict(int)"
   ]
  },
  {
   "cell_type": "code",
   "execution_count": 35,
   "metadata": {},
   "outputs": [],
   "source": [
    "langs = {}\n",
    "def write(lang, text):\n",
    "    if lang not in langs:\n",
    "        langs[lang] = open(f'{lang}.jsonl', 'w')\n",
    "    langs[lang].write(f'{json.dumps(text)}\\n')\n",
    "    langs[lang].flush()"
   ]
  },
  {
   "cell_type": "code",
   "execution_count": 36,
   "metadata": {},
   "outputs": [
    {
     "name": "stderr",
     "output_type": "stream",
     "text": [
      "33733it [00:06, 5561.01it/s]\n"
     ]
    }
   ],
   "source": [
    "with open('amanz-my.jsonl') as fopen:\n",
    "    for l in tqdm(fopen):\n",
    "        data = json.loads(l)\n",
    "        for p_ in data['p'] + [data['title']]:\n",
    "            c = language_detection_textcleaning(p_)\n",
    "            if not len(c.strip()):\n",
    "                continue\n",
    "            l = model.predict(c)[0][0]\n",
    "            count[l] += 1\n",
    "            s = sys.getsizeof(p_)\n",
    "            size[l] += s\n",
    "            write(l, p_)"
   ]
  },
  {
   "cell_type": "code",
   "execution_count": 37,
   "metadata": {},
   "outputs": [
    {
     "name": "stderr",
     "output_type": "stream",
     "text": [
      "12711645it [04:16, 49524.66it/s]\n"
     ]
    }
   ],
   "source": [
    "with open('dedup-twitter.jsonl') as fopen:\n",
    "    for l in tqdm(fopen):\n",
    "        data = json.loads(l)\n",
    "        c = language_detection_textcleaning(data)\n",
    "        if not len(c.strip()):\n",
    "            continue\n",
    "        l = model.predict(c)[0][0]\n",
    "        count[l] += 1\n",
    "        s = sys.getsizeof(data)\n",
    "        size[l] += s\n",
    "        write(l, data)"
   ]
  },
  {
   "cell_type": "code",
   "execution_count": 38,
   "metadata": {},
   "outputs": [
    {
     "name": "stderr",
     "output_type": "stream",
     "text": [
      "193375it [00:03, 49631.52it/s]\n"
     ]
    }
   ],
   "source": [
    "with open('fb-dedup.jsonl') as fopen:\n",
    "    for l in tqdm(fopen):\n",
    "        data = json.loads(l)\n",
    "        c = language_detection_textcleaning(data)\n",
    "        if not len(c.strip()):\n",
    "            continue\n",
    "        l = model.predict(c)[0][0]\n",
    "        count[l] += 1\n",
    "        s = sys.getsizeof(data)\n",
    "        size[l] += s\n",
    "        write(l, data)"
   ]
  },
  {
   "cell_type": "code",
   "execution_count": 39,
   "metadata": {},
   "outputs": [
    {
     "name": "stderr",
     "output_type": "stream",
     "text": [
      "100%|█████████████████████████████████████████████████████████████████████████████████████| 28335/28335 [00:18<00:00, 1556.25it/s]\n"
     ]
    }
   ],
   "source": [
    "with open('crawled-iium.json') as fopen:\n",
    "    data = json.load(fopen)\n",
    "for d in tqdm(data):\n",
    "    for p_ in d['p']:\n",
    "        c = language_detection_textcleaning(p_)\n",
    "        if not len(c.strip()):\n",
    "            continue\n",
    "        l = model.predict(c)[0][0]\n",
    "        count[l] += 1\n",
    "        s = sys.getsizeof(p_)\n",
    "        size[l] += s\n",
    "        write(l, p_)"
   ]
  },
  {
   "cell_type": "code",
   "execution_count": 40,
   "metadata": {},
   "outputs": [
    {
     "name": "stderr",
     "output_type": "stream",
     "text": [
      "80000it [00:28, 2852.42it/s]\n"
     ]
    }
   ],
   "source": [
    "with open('astroawani.jsonl') as fopen:\n",
    "    for l in tqdm(fopen):\n",
    "        data = json.loads(l)\n",
    "        if 'r' not in data:\n",
    "            continue\n",
    "        if 'errors' in data['r']['response']:\n",
    "            continue\n",
    "        for p_ in [\n",
    "            data['r']['response']['title'],\n",
    "            data['r']['response']['imageCaption'],\n",
    "            data['r']['response']['articleBody']\n",
    "        ]:\n",
    "            c = language_detection_textcleaning(p_)\n",
    "            if not len(c.strip()):\n",
    "                continue\n",
    "            l = model.predict(c)[0][0]\n",
    "            count[l] += 1\n",
    "            s = sys.getsizeof(p_)\n",
    "            size[l] += s\n",
    "            write(l, p_)"
   ]
  },
  {
   "cell_type": "code",
   "execution_count": 41,
   "metadata": {},
   "outputs": [
    {
     "name": "stderr",
     "output_type": "stream",
     "text": [
      "1409it [00:59, 23.49it/s]\n"
     ]
    }
   ],
   "source": [
    "with open('academia-dedup.jsonl') as fopen:\n",
    "    for l in tqdm(fopen):\n",
    "        data = json.loads(l)\n",
    "        c = language_detection_textcleaning(data)\n",
    "        if not len(c.strip()):\n",
    "            continue\n",
    "        l = model.predict(c)[0][0]\n",
    "        count[l] += 1\n",
    "        s = sys.getsizeof(data)\n",
    "        size[l] += s\n",
    "        write(l, data)"
   ]
  },
  {
   "cell_type": "code",
   "execution_count": 42,
   "metadata": {},
   "outputs": [
    {
     "name": "stderr",
     "output_type": "stream",
     "text": [
      "100%|█████████████████████████████████████████████████████████████████████████████████████| 30952/30952 [00:08<00:00, 3853.50it/s]\n"
     ]
    }
   ],
   "source": [
    "with open('parse-bernama.json') as fopen:\n",
    "    data = json.load(fopen)\n",
    "    \n",
    "for d_ in tqdm(data):\n",
    "    for p_ in [d_['text']] + d_['p']:\n",
    "        c = language_detection_textcleaning(p_)\n",
    "        if not len(c.strip()):\n",
    "            continue\n",
    "        l = model.predict(c)[0][0]\n",
    "        count[l] += 1\n",
    "        s = sys.getsizeof(p_)\n",
    "        size[l] += s\n",
    "        write(l, p_)"
   ]
  },
  {
   "cell_type": "code",
   "execution_count": 43,
   "metadata": {},
   "outputs": [
    {
     "name": "stderr",
     "output_type": "stream",
     "text": [
      "4444726it [03:58, 18662.86it/s]\n"
     ]
    }
   ],
   "source": [
    "with open('b-cari-com-my.jsonl') as fopen:\n",
    "    for l in tqdm(fopen):\n",
    "        data = json.loads(l)\n",
    "        c = language_detection_textcleaning(data)\n",
    "        if not len(c.strip()):\n",
    "            continue\n",
    "        l = model.predict(c)[0][0]\n",
    "        count[l] += 1\n",
    "        s = sys.getsizeof(data)\n",
    "        size[l] += s\n",
    "        write(l, data)"
   ]
  },
  {
   "cell_type": "code",
   "execution_count": 44,
   "metadata": {
    "scrolled": false
   },
   "outputs": [
    {
     "name": "stderr",
     "output_type": "stream",
     "text": [
      "12234733it [07:31, 26404.44it/s]IOPub message rate exceeded.\n",
      "The notebook server will temporarily stop sending output\n",
      "to the client in order to avoid crashing it.\n",
      "To change this limit, set the config variable\n",
      "`--NotebookApp.iopub_msg_rate_limit`.\n",
      "\n",
      "Current values:\n",
      "NotebookApp.iopub_msg_rate_limit=1000.0 (msgs/sec)\n",
      "NotebookApp.rate_limit_window=3.0 (secs)\n",
      "\n"
     ]
    }
   ],
   "source": [
    "with open('c-cari-com-my.jsonl') as fopen:\n",
    "    for l in tqdm(fopen):\n",
    "        data = json.loads(l)\n",
    "        c = language_detection_textcleaning(data)\n",
    "        if not len(c.strip()):\n",
    "            continue\n",
    "        l = model.predict(c)[0][0]\n",
    "        count[l] += 1\n",
    "        s = sys.getsizeof(data)\n",
    "        size[l] += s\n",
    "        write(l, data)"
   ]
  },
  {
   "cell_type": "code",
   "execution_count": 45,
   "metadata": {
    "scrolled": true
   },
   "outputs": [
    {
     "name": "stderr",
     "output_type": "stream",
     "text": [
      "100%|████████████████████████████████████████████████████████████████████████████████| 1353425/1353425 [01:07<00:00, 20151.07it/s]\n",
      "100%|████████████████████████████████████████████████████████████████████████████████| 3585225/3585225 [02:49<00:00, 21102.10it/s]\n",
      "100%|████████████████████████████████████████████████████████████████████████████████| 1265509/1265509 [00:45<00:00, 27804.88it/s]\n"
     ]
    }
   ],
   "source": [
    "for f in glob('carigold-*'):\n",
    "    with open(f) as fopen:\n",
    "        data = json.load(fopen)\n",
    "        for d in tqdm(data):\n",
    "            c = language_detection_textcleaning(d)\n",
    "            if not len(c.strip()):\n",
    "                continue\n",
    "            l = model.predict(c)[0][0]\n",
    "            count[l] += 1\n",
    "            s = sys.getsizeof(d)\n",
    "            size[l] += s\n",
    "            write(l, d)"
   ]
  },
  {
   "cell_type": "code",
   "execution_count": 46,
   "metadata": {},
   "outputs": [
    {
     "name": "stderr",
     "output_type": "stream",
     "text": [
      "62865it [02:28, 423.79it/s]\n"
     ]
    }
   ],
   "source": [
    "with open('cn-cari-com-my.jsonl') as fopen:\n",
    "    for l in tqdm(fopen):\n",
    "        data = json.loads(l)\n",
    "        c = language_detection_textcleaning(data)\n",
    "        if not len(c.strip()):\n",
    "            continue\n",
    "        l = model.predict(c)[0][0]\n",
    "        count[l] += 1\n",
    "        s = sys.getsizeof(data)\n",
    "        size[l] += s\n",
    "        write(l, data)"
   ]
  },
  {
   "cell_type": "code",
   "execution_count": 47,
   "metadata": {
    "scrolled": true
   },
   "outputs": [
    {
     "name": "stderr",
     "output_type": "stream",
     "text": [
      "207860it [06:10, 511.18it/s]IOPub message rate exceeded.\n",
      "The notebook server will temporarily stop sending output\n",
      "to the client in order to avoid crashing it.\n",
      "To change this limit, set the config variable\n",
      "`--NotebookApp.iopub_msg_rate_limit`.\n",
      "\n",
      "Current values:\n",
      "NotebookApp.iopub_msg_rate_limit=1000.0 (msgs/sec)\n",
      "NotebookApp.rate_limit_window=3.0 (secs)\n",
      "\n"
     ]
    }
   ],
   "source": [
    "with open('eprints.jsonl') as fopen:\n",
    "    for l in tqdm(fopen):\n",
    "        data = json.loads(l)\n",
    "        c = language_detection_textcleaning(data)\n",
    "        if not len(c.strip()):\n",
    "            continue\n",
    "        l = model.predict(c)[0][0]\n",
    "        count[l] += 1\n",
    "        s = sys.getsizeof(data)\n",
    "        size[l] += s\n",
    "        write(l, data)"
   ]
  },
  {
   "cell_type": "code",
   "execution_count": 48,
   "metadata": {
    "scrolled": true
   },
   "outputs": [
    {
     "name": "stderr",
     "output_type": "stream",
     "text": [
      "254434it [02:17, 1850.73it/s]\n"
     ]
    }
   ],
   "source": [
    "with open('parsed-fmt.jsonl') as fopen:\n",
    "    for l in tqdm(fopen):\n",
    "        data = json.loads(l)\n",
    "        for p_ in [data['title']] + data['p']:\n",
    "            c = language_detection_textcleaning(p_)\n",
    "            if not len(c.strip()):\n",
    "                continue\n",
    "            l = model.predict(c)[0][0]\n",
    "            count[l] += 1\n",
    "            s = sys.getsizeof(p_)\n",
    "            size[l] += s\n",
    "            write(l, p_)"
   ]
  },
  {
   "cell_type": "code",
   "execution_count": 49,
   "metadata": {},
   "outputs": [
    {
     "name": "stderr",
     "output_type": "stream",
     "text": [
      "142766it [00:53, 2652.69it/s]\n"
     ]
    }
   ],
   "source": [
    "with open('hansard.jsonl') as fopen:\n",
    "    for l in tqdm(fopen):\n",
    "        data = json.loads(l)['original']\n",
    "        c = language_detection_textcleaning(data)\n",
    "        if not len(c.strip()):\n",
    "            continue\n",
    "        l = model.predict(c)[0][0]\n",
    "        count[l] += 1\n",
    "        s = sys.getsizeof(data)\n",
    "        size[l] += s\n",
    "        write(l, data)"
   ]
  },
  {
   "cell_type": "code",
   "execution_count": 50,
   "metadata": {},
   "outputs": [
    {
     "name": "stderr",
     "output_type": "stream",
     "text": [
      "7014988it [05:33, 18375.23it/s]IOPub message rate exceeded.\n",
      "The notebook server will temporarily stop sending output\n",
      "to the client in order to avoid crashing it.\n",
      "To change this limit, set the config variable\n",
      "`--NotebookApp.iopub_msg_rate_limit`.\n",
      "\n",
      "Current values:\n",
      "NotebookApp.iopub_msg_rate_limit=1000.0 (msgs/sec)\n",
      "NotebookApp.rate_limit_window=3.0 (secs)\n",
      "\n"
     ]
    }
   ],
   "source": [
    "with open('hardwarezone-sg.jsonl') as fopen:\n",
    "    for l in tqdm(fopen):\n",
    "        data = json.loads(l)\n",
    "        c = language_detection_textcleaning(data)\n",
    "        if not len(c.strip()):\n",
    "            continue\n",
    "        l = model.predict(c)[0][0]\n",
    "        count[l] += 1\n",
    "        s = sys.getsizeof(data)\n",
    "        size[l] += s\n",
    "        write(l, data)"
   ]
  },
  {
   "cell_type": "code",
   "execution_count": 51,
   "metadata": {},
   "outputs": [
    {
     "name": "stderr",
     "output_type": "stream",
     "text": [
      "802953it [00:33, 23947.15it/s]\n"
     ]
    }
   ],
   "source": [
    "with open('jbtalks.jsonl') as fopen:\n",
    "    for l in tqdm(fopen):\n",
    "        data = json.loads(l)\n",
    "        c = language_detection_textcleaning(data)\n",
    "        if not len(c.strip()):\n",
    "            continue\n",
    "        l = model.predict(c)[0][0]\n",
    "        count[l] += 1\n",
    "        s = sys.getsizeof(data)\n",
    "        size[l] += s\n",
    "        write(l, data)"
   ]
  },
  {
   "cell_type": "code",
   "execution_count": 52,
   "metadata": {},
   "outputs": [
    {
     "name": "stderr",
     "output_type": "stream",
     "text": [
      "51700it [00:09, 5692.04it/s]\n"
     ]
    }
   ],
   "source": [
    "with open('kosmo-20230524.jsonl') as fopen:\n",
    "    for l in tqdm(fopen):\n",
    "        data = json.loads(l)['text']\n",
    "        c = language_detection_textcleaning(data)\n",
    "        if not len(c.strip()):\n",
    "            continue\n",
    "        l = model.predict(c)[0][0]\n",
    "        count[l] += 1\n",
    "        s = sys.getsizeof(data)\n",
    "        size[l] += s\n",
    "        write(l, data)"
   ]
  },
  {
   "cell_type": "code",
   "execution_count": 53,
   "metadata": {},
   "outputs": [
    {
     "name": "stderr",
     "output_type": "stream",
     "text": [
      "164570it [00:30, 5346.29it/s]\n"
     ]
    }
   ],
   "source": [
    "with open('utusan-20230512.jsonl') as fopen:\n",
    "    for l in tqdm(fopen):\n",
    "        data = json.loads(l)['text']\n",
    "        c = language_detection_textcleaning(data)\n",
    "        if not len(c.strip()):\n",
    "            continue\n",
    "        l = model.predict(c)[0][0]\n",
    "        count[l] += 1\n",
    "        s = sys.getsizeof(data)\n",
    "        size[l] += s\n",
    "        write(l, data)"
   ]
  },
  {
   "cell_type": "code",
   "execution_count": 54,
   "metadata": {},
   "outputs": [
    {
     "name": "stderr",
     "output_type": "stream",
     "text": [
      "1739it [00:02, 740.94it/s] \n"
     ]
    }
   ],
   "source": [
    "with open('agc-gov-my.jsonl') as fopen:\n",
    "    for l in tqdm(fopen):\n",
    "        data = json.loads(l)\n",
    "        c = language_detection_textcleaning(data)\n",
    "        if not len(c.strip()):\n",
    "            continue\n",
    "        l = model.predict(c)[0][0]\n",
    "        count[l] += 1\n",
    "        s = sys.getsizeof(data)\n",
    "        size[l] += s\n",
    "        write(l, data)"
   ]
  },
  {
   "cell_type": "code",
   "execution_count": 55,
   "metadata": {},
   "outputs": [
    {
     "name": "stderr",
     "output_type": "stream",
     "text": [
      "2190it [00:43, 50.55it/s]\n"
     ]
    }
   ],
   "source": [
    "with open('parlimen-gov.jsonl') as fopen:\n",
    "    for l in tqdm(fopen):\n",
    "        data = json.loads(l)\n",
    "        c = language_detection_textcleaning(data)\n",
    "        if not len(c.strip()):\n",
    "            continue\n",
    "        l = model.predict(c)[0][0]\n",
    "        count[l] += 1\n",
    "        s = sys.getsizeof(data)\n",
    "        size[l] += s\n",
    "        write(l, data)"
   ]
  },
  {
   "cell_type": "code",
   "execution_count": 56,
   "metadata": {},
   "outputs": [
    {
     "name": "stderr",
     "output_type": "stream",
     "text": [
      "231202it [00:14, 15549.36it/s]\n"
     ]
    }
   ],
   "source": [
    "with open('salary-sg.jsonl') as fopen:\n",
    "    for l in tqdm(fopen):\n",
    "        data = json.loads(l)\n",
    "        c = language_detection_textcleaning(data)\n",
    "        if not len(c.strip()):\n",
    "            continue\n",
    "        l = model.predict(c)[0][0]\n",
    "        count[l] += 1\n",
    "        s = sys.getsizeof(data)\n",
    "        size[l] += s\n",
    "        write(l, data)"
   ]
  },
  {
   "cell_type": "code",
   "execution_count": 57,
   "metadata": {},
   "outputs": [
    {
     "name": "stderr",
     "output_type": "stream",
     "text": [
      "434321it [00:30, 14130.06it/s]\n"
     ]
    }
   ],
   "source": [
    "with open('wikipedia.jsonl') as fopen:\n",
    "    for l in tqdm(fopen):\n",
    "        data = json.loads(l)['text']\n",
    "        c = language_detection_textcleaning(data)\n",
    "        if not len(c.strip()):\n",
    "            continue\n",
    "        l = model.predict(c)[0][0]\n",
    "        count[l] += 1\n",
    "        s = sys.getsizeof(data)\n",
    "        size[l] += s\n",
    "        write(l, data)"
   ]
  },
  {
   "cell_type": "code",
   "execution_count": 58,
   "metadata": {},
   "outputs": [
    {
     "name": "stderr",
     "output_type": "stream",
     "text": [
      "395635it [04:44, 1391.57it/s]\n"
     ]
    }
   ],
   "source": [
    "with open('common-crawl.jsonl') as fopen:\n",
    "    for l in tqdm(fopen):\n",
    "        data = json.loads(l)\n",
    "        c = language_detection_textcleaning(data)\n",
    "        if not len(c.strip()):\n",
    "            continue\n",
    "        l = model.predict(c)[0][0]\n",
    "        count[l] += 1\n",
    "        s = sys.getsizeof(data)\n",
    "        size[l] += s\n",
    "        write(l, data)"
   ]
  },
  {
   "cell_type": "code",
   "execution_count": 59,
   "metadata": {},
   "outputs": [
    {
     "name": "stderr",
     "output_type": "stream",
     "text": [
      "5919it [03:58, 24.84it/s]\n"
     ]
    }
   ],
   "source": [
    "with open('pdfdrive.jsonl') as fopen:\n",
    "    for l in tqdm(fopen):\n",
    "        data = json.loads(l)\n",
    "        c = language_detection_textcleaning(data)\n",
    "        if not len(c.strip()):\n",
    "            continue\n",
    "        l = model.predict(c)[0][0]\n",
    "        count[l] += 1\n",
    "        s = sys.getsizeof(data)\n",
    "        size[l] += s\n",
    "        write(l, data)"
   ]
  },
  {
   "cell_type": "code",
   "execution_count": 60,
   "metadata": {},
   "outputs": [
    {
     "name": "stderr",
     "output_type": "stream",
     "text": [
      "15816934it [05:34, 46915.61it/s]IOPub message rate exceeded.\n",
      "The notebook server will temporarily stop sending output\n",
      "to the client in order to avoid crashing it.\n",
      "To change this limit, set the config variable\n",
      "`--NotebookApp.iopub_msg_rate_limit`.\n",
      "\n",
      "Current values:\n",
      "NotebookApp.iopub_msg_rate_limit=1000.0 (msgs/sec)\n",
      "NotebookApp.rate_limit_window=3.0 (secs)\n",
      "\n"
     ]
    }
   ],
   "source": [
    "with open('dedup-eng_Latn-zsm_Latn.jsonl') as fopen:\n",
    "    for l in tqdm(fopen):\n",
    "        data = json.loads(l)\n",
    "        c = language_detection_textcleaning(data)\n",
    "        if not len(c.strip()):\n",
    "            continue\n",
    "        l = model.predict(c)[0][0]\n",
    "        count[l] += 1\n",
    "        s = sys.getsizeof(data)\n",
    "        size[l] += s\n",
    "        write(l, data)"
   ]
  },
  {
   "cell_type": "code",
   "execution_count": 61,
   "metadata": {},
   "outputs": [
    {
     "name": "stderr",
     "output_type": "stream",
     "text": [
      "1191600it [00:31, 37707.64it/s]\n"
     ]
    }
   ],
   "source": [
    "with open('reddit.jsonl') as fopen:\n",
    "    for l in tqdm(fopen):\n",
    "        data = json.loads(l)\n",
    "        c = language_detection_textcleaning(data)\n",
    "        if not len(c.strip()):\n",
    "            continue\n",
    "        l = model.predict(c)[0][0]\n",
    "        count[l] += 1\n",
    "        s = sys.getsizeof(data)\n",
    "        size[l] += s\n",
    "        write(l, data)"
   ]
  },
  {
   "cell_type": "code",
   "execution_count": 62,
   "metadata": {},
   "outputs": [
    {
     "name": "stderr",
     "output_type": "stream",
     "text": [
      "11238341it [05:32, 37520.13it/s]IOPub message rate exceeded.\n",
      "The notebook server will temporarily stop sending output\n",
      "to the client in order to avoid crashing it.\n",
      "To change this limit, set the config variable\n",
      "`--NotebookApp.iopub_msg_rate_limit`.\n",
      "\n",
      "Current values:\n",
      "NotebookApp.iopub_msg_rate_limit=1000.0 (msgs/sec)\n",
      "NotebookApp.rate_limit_window=3.0 (secs)\n",
      "\n"
     ]
    }
   ],
   "source": [
    "with open('cc-100.jsonl') as fopen:\n",
    "    for l in tqdm(fopen):\n",
    "        data = json.loads(l)\n",
    "        c = language_detection_textcleaning(data)\n",
    "        if not len(c.strip()):\n",
    "            continue\n",
    "        l = model.predict(c)[0][0]\n",
    "        count[l] += 1\n",
    "        s = sys.getsizeof(data)\n",
    "        size[l] += s\n",
    "        write(l, data)"
   ]
  },
  {
   "cell_type": "code",
   "execution_count": 63,
   "metadata": {
    "scrolled": true
   },
   "outputs": [
    {
     "data": {
      "text/plain": [
       "defaultdict(int,\n",
       "            {'__label__local-english': 13201047,\n",
       "             '__label__standard-english': 4944358,\n",
       "             '__label__standard-malay': 48123120,\n",
       "             '__label__local-malay': 49190512,\n",
       "             '__label__standard-mandarin': 1026621,\n",
       "             '__label__socialmedia-indonesian': 1896037,\n",
       "             '__label__standard-indonesian': 92439,\n",
       "             '__label__other': 416821,\n",
       "             '__label__local-mandarin': 13151852,\n",
       "             '__label__manglish': 6034839})"
      ]
     },
     "execution_count": 63,
     "metadata": {},
     "output_type": "execute_result"
    }
   ],
   "source": [
    "count"
   ]
  },
  {
   "cell_type": "code",
   "execution_count": 66,
   "metadata": {},
   "outputs": [
    {
     "data": {
      "text/plain": [
       "defaultdict(int,\n",
       "            {'__label__local-english': 4324253464,\n",
       "             '__label__standard-english': 12633203034,\n",
       "             '__label__standard-malay': 20825188332,\n",
       "             '__label__local-malay': 10608884263,\n",
       "             '__label__standard-mandarin': 2084161958,\n",
       "             '__label__socialmedia-indonesian': 955524546,\n",
       "             '__label__standard-indonesian': 4167570747,\n",
       "             '__label__other': 205631313,\n",
       "             '__label__local-mandarin': 4424441384,\n",
       "             '__label__manglish': 3305410702})"
      ]
     },
     "execution_count": 66,
     "metadata": {},
     "output_type": "execute_result"
    }
   ],
   "source": [
    "size"
   ]
  },
  {
   "cell_type": "code",
   "execution_count": 65,
   "metadata": {},
   "outputs": [],
   "source": [
    "with open('count-llm.json', 'w') as fopen:\n",
    "    json.dump(dict(count), fopen)"
   ]
  },
  {
   "cell_type": "code",
   "execution_count": 71,
   "metadata": {},
   "outputs": [],
   "source": [
    "with open('size-llm.json', 'w') as fopen:\n",
    "    json.dump(dict(count), fopen)"
   ]
  },
  {
   "cell_type": "code",
   "execution_count": 1,
   "metadata": {},
   "outputs": [],
   "source": [
    "import json\n",
    "import matplotlib.pyplot as plt\n",
    "import matplotlib as mpl"
   ]
  },
  {
   "cell_type": "code",
   "execution_count": 2,
   "metadata": {},
   "outputs": [],
   "source": [
    "with open('count-llm.json') as fopen:\n",
    "    count = json.load(fopen)"
   ]
  },
  {
   "cell_type": "code",
   "execution_count": 3,
   "metadata": {},
   "outputs": [],
   "source": [
    "categories, values = [], []\n",
    "for k, v in count.items():\n",
    "    categories.append(k.split('__label__')[1])\n",
    "    values.append(v)"
   ]
  },
  {
   "cell_type": "code",
   "execution_count": 8,
   "metadata": {},
   "outputs": [
    {
     "data": {
      "text/plain": [
       "749797"
      ]
     },
     "execution_count": 8,
     "metadata": {},
     "output_type": "execute_result"
    }
   ],
   "source": [
    "# git clone https://huggingface.co/datasets/mesolitica/rumi-jawi\n",
    "\n",
    "from glob import glob\n",
    "\n",
    "files = glob('/home/husein/ssd3/rumi-jawi/wiki-rumi-jawi-*.jsonl')\n",
    "jawi = 0\n",
    "for f in files:\n",
    "    with open(f) as fopen:\n",
    "        for l in fopen:\n",
    "            if len(l.strip()):\n",
    "                jawi += 1\n",
    "jawi"
   ]
  },
  {
   "cell_type": "code",
   "execution_count": 11,
   "metadata": {},
   "outputs": [],
   "source": [
    "categories.append('jawi')\n",
    "values.append(jawi)"
   ]
  },
  {
   "cell_type": "code",
   "execution_count": 12,
   "metadata": {},
   "outputs": [
    {
     "data": {
      "image/png": "[encoded data removed]",
      "text/plain": [
       "<Figure size 576x432 with 1 Axes>"
      ]
     },
     "metadata": {
      "needs_background": "light"
     },
     "output_type": "display_data"
    }
   ],
   "source": [
    "plt.figure(figsize=(8, 6))\n",
    "\n",
    "plt.bar(categories, values)\n",
    "\n",
    "# Add numbers on top of the bars\n",
    "for i, value in enumerate(values):\n",
    "    plt.text(i, value, str(value), ha='center', va='bottom')\n",
    "\n",
    "# Label the axes and set the title\n",
    "plt.xlabel('language')\n",
    "plt.ylabel('count')\n",
    "\n",
    "plt.xticks(rotation=-45, ha='left')\n",
    "\n",
    "# mpl.rcParams['font.family'] = 'Arial'\n",
    "# mpl.rcParams['font.size'] = 12\n",
    "\n",
    "plt.show()"
   ]
  },
  {
   "cell_type": "code",
   "execution_count": null,
   "metadata": {},
   "outputs": [],
   "source": []
  }
 ],
 "metadata": {
  "kernelspec": {
   "display_name": "Python 3 (ipykernel)",
   "language": "python",
   "name": "python3"
  },
  "language_info": {
   "codemirror_mode": {
    "name": "ipython",
    "version": 3
   },
   "file_extension": ".py",
   "mimetype": "text/x-python",
   "name": "python",
   "nbconvert_exporter": "python",
   "pygments_lexer": "ipython3",
   "version": "3.8.10"
  }
 },
 "nbformat": 4,
 "nbformat_minor": 4
}
