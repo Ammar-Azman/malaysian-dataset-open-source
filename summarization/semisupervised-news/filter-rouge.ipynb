{
 "cells": [
  {
   "cell_type": "code",
   "execution_count": 1,
   "metadata": {},
   "outputs": [],
   "source": [
    "# !wget https://f000.backblazeb2.com/file/malay-dataset/summary/results-semi-0.json\n",
    "# !wget https://f000.backblazeb2.com/file/malay-dataset/summary/results-semi-1.json\n",
    "# !wget https://f000.backblazeb2.com/file/malay-dataset/summary/results-semi-2.json"
   ]
  },
  {
   "cell_type": "code",
   "execution_count": 2,
   "metadata": {},
   "outputs": [],
   "source": [
    "# !pip3 install malaya\n",
    "# !wget https://raw.githubusercontent.com/huseinzol05/Malaya/master/malaya/text/bahasa/lapor.py\n",
    "from lapor import lapor as _lapor_words\n",
    "_lapor_words.append('lapor Afp')"
   ]
  },
  {
   "cell_type": "code",
   "execution_count": 3,
   "metadata": {},
   "outputs": [],
   "source": [
    "import re\n",
    "\n",
    "def _get_ngrams(n, text):\n",
    "    ngram_set = set()\n",
    "    text_length = len(text)\n",
    "    max_index_ngram_start = text_length - n\n",
    "    for i in range(max_index_ngram_start + 1):\n",
    "        ngram_set.add(tuple(text[i : i + n]))\n",
    "    return ngram_set\n",
    "\n",
    "\n",
    "def _get_word_ngrams(n, sentences):\n",
    "    assert len(sentences) > 0\n",
    "    assert n > 0\n",
    "\n",
    "    words = sum(sentences, [])\n",
    "    return _get_ngrams(n, words)\n",
    "\n",
    "\n",
    "def cal_rouge(evaluated_ngrams, reference_ngrams):\n",
    "    reference_count = len(reference_ngrams)\n",
    "    evaluated_count = len(evaluated_ngrams)\n",
    "\n",
    "    overlapping_ngrams = evaluated_ngrams.intersection(reference_ngrams)\n",
    "    overlapping_count = len(overlapping_ngrams)\n",
    "\n",
    "    if evaluated_count == 0:\n",
    "        precision = 0.0\n",
    "    else:\n",
    "        precision = overlapping_count / evaluated_count\n",
    "\n",
    "    if reference_count == 0:\n",
    "        recall = 0.0\n",
    "    else:\n",
    "        recall = overlapping_count / reference_count\n",
    "\n",
    "    f1_score = 2.0 * ((precision * recall) / (precision + recall + 1e-8))\n",
    "    return {'f': f1_score, 'p': precision, 'r': recall}\n",
    "\n",
    "def _rouge_clean(s):\n",
    "    s = re.sub(r'[^a-zA-Z0-9 ]', '', s)\n",
    "    return re.sub(r'[ ]+', ' ', s).strip().lower()"
   ]
  },
  {
   "cell_type": "code",
   "execution_count": 4,
   "metadata": {},
   "outputs": [],
   "source": [
    "import malaya\n",
    "# model = malaya.true_case.transformer()"
   ]
  },
  {
   "cell_type": "code",
   "execution_count": 5,
   "metadata": {},
   "outputs": [],
   "source": [
    "import json\n",
    "\n",
    "with open('results-semi-0.json') as fopen:\n",
    "    data = json.load(fopen)\n",
    "    \n",
    "with open('results-semi-1.json') as fopen:\n",
    "    data += json.load(fopen)\n",
    "    \n",
    "with open('results-semi-2.json') as fopen:\n",
    "    data += json.load(fopen)"
   ]
  },
  {
   "cell_type": "code",
   "execution_count": 6,
   "metadata": {},
   "outputs": [],
   "source": [
    "import itertools\n",
    "merged = list(itertools.chain(*data))"
   ]
  },
  {
   "cell_type": "code",
   "execution_count": 56,
   "metadata": {},
   "outputs": [
    {
     "data": {
      "text/plain": [
       "['pukul 09.', '00am.']"
      ]
     },
     "execution_count": 56,
     "metadata": {},
     "output_type": "execute_result"
    }
   ],
   "source": []
  },
  {
   "cell_type": "code",
   "execution_count": 77,
   "metadata": {},
   "outputs": [],
   "source": [
    "from malaya.text.function import split_into_sentences\n",
    "\n",
    "def filter_rouge(article, summary, n = 2, threshold = 0.1, **kwargs):\n",
    "    sents = split_into_sentences(summary)\n",
    "    reference = _get_word_ngrams(n, [_rouge_clean(article).split()])\n",
    "    results = []\n",
    "    for s in sents:\n",
    "        if len(s) < 15:\n",
    "            results.append(s)\n",
    "        else:\n",
    "            evaluated = _get_word_ngrams(n, [_rouge_clean(s).split()])\n",
    "            score = cal_rouge(evaluated, reference)['p']\n",
    "            if score >= threshold:\n",
    "                results.append(s)\n",
    "    return ' '.join(results)"
   ]
  },
  {
   "cell_type": "code",
   "execution_count": 103,
   "metadata": {},
   "outputs": [],
   "source": [
    "from unidecode import unidecode\n",
    "\n",
    "def postprocessing_summarization(string, lapors = _lapor_words):\n",
    "    for l in lapors:\n",
    "        if l in string:\n",
    "            string = re.sub(f'\\s*[,.]?\\s*{l}', ' ', string)\n",
    "\n",
    "    string = re.sub(r'[ ]+', ' ', string).strip()\n",
    "    return unidecode(string)"
   ]
  },
  {
   "cell_type": "code",
   "execution_count": 79,
   "metadata": {},
   "outputs": [],
   "source": [
    "import itertools\n",
    "\n",
    "def _pad_sequence(\n",
    "    sequence,\n",
    "    n,\n",
    "    pad_left = False,\n",
    "    pad_right = False,\n",
    "    left_pad_symbol = None,\n",
    "    right_pad_symbol = None,\n",
    "):\n",
    "    sequence = iter(sequence)\n",
    "    if pad_left:\n",
    "        sequence = itertools.chain((left_pad_symbol,) * (n - 1), sequence)\n",
    "    if pad_right:\n",
    "        sequence = itertools.chain(sequence, (right_pad_symbol,) * (n - 1))\n",
    "    return sequence\n",
    "\n",
    "def ngrams(\n",
    "    sequence,\n",
    "    n: int,\n",
    "    pad_left = False,\n",
    "    pad_right = False,\n",
    "    left_pad_symbol = None,\n",
    "    right_pad_symbol = None,\n",
    "):\n",
    "    sequence = _pad_sequence(\n",
    "        sequence, n, pad_left, pad_right, left_pad_symbol, right_pad_symbol\n",
    "    )\n",
    "\n",
    "    history = []\n",
    "    while n > 1:\n",
    "        try:\n",
    "            next_item = next(sequence)\n",
    "        except StopIteration:\n",
    "            return\n",
    "        history.append(next_item)\n",
    "        n -= 1\n",
    "    for item in sequence:\n",
    "        history.append(item)\n",
    "        yield tuple(history)\n",
    "        del history[0]"
   ]
  },
  {
   "cell_type": "code",
   "execution_count": 104,
   "metadata": {},
   "outputs": [],
   "source": [
    "def find_lapor_and_remove(article, summary):\n",
    "    lapor = []\n",
    "    lowered = article.lower()\n",
    "    finds = re.findall('\\w*lapor \\w*', summary)\n",
    "    for f in finds:\n",
    "        start = summary.find(f)\n",
    "        end = summary.find('.', start)\n",
    "        s = summary[start: end].split(',')\n",
    "        s = s[0].split(';')\n",
    "        s = s[0].split(':')\n",
    "        s = s[0].split('-')\n",
    "        if len(s[0].split()) < 8:\n",
    "            a = s[0].replace('lapor ', '').lower().split()\n",
    "            ngram = list(ngrams(lowered.split(), len(a)))\n",
    "            if a not in ngram:\n",
    "                lapor.append(s[0])\n",
    "                \n",
    "    summary = postprocessing_summarization(summary, lapor)\n",
    "    return summary"
   ]
  },
  {
   "cell_type": "code",
   "execution_count": 106,
   "metadata": {},
   "outputs": [
    {
     "name": "stderr",
     "output_type": "stream",
     "text": [
      "100%|██████████| 107472/107472 [03:50<00:00, 465.49it/s]\n"
     ]
    }
   ],
   "source": [
    "from tqdm import tqdm\n",
    "\n",
    "results = []\n",
    "for i in tqdm(range(len(merged))):\n",
    "    f = filter_rouge(merged[i][0], merged[i][1])\n",
    "    f = postprocessing_summarization(f)\n",
    "    f = find_lapor_and_remove(merged[i][0], f)\n",
    "    results.append([merged[i][0], f])"
   ]
  },
  {
   "cell_type": "code",
   "execution_count": 108,
   "metadata": {},
   "outputs": [],
   "source": [
    "with open('filtered-100k-semisupervised-summary.json', 'w') as fopen:\n",
    "    json.dump(results, fopen)"
   ]
  }
 ],
 "metadata": {
  "kernelspec": {
   "display_name": "Python 3",
   "language": "python",
   "name": "python3"
  },
  "language_info": {
   "codemirror_mode": {
    "name": "ipython",
    "version": 3
   },
   "file_extension": ".py",
   "mimetype": "text/x-python",
   "name": "python",
   "nbconvert_exporter": "python",
   "pygments_lexer": "ipython3",
   "version": "3.6.9"
  }
 },
 "nbformat": 4,
 "nbformat_minor": 4
}
