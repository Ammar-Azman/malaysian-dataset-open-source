{
 "cells": [
  {
   "cell_type": "code",
   "execution_count": 1,
   "metadata": {},
   "outputs": [],
   "source": [
    "from glob import glob\n",
    "from tqdm import tqdm\n",
    "import json"
   ]
  },
  {
   "cell_type": "code",
   "execution_count": 2,
   "metadata": {},
   "outputs": [],
   "source": [
    "import json\n",
    "\n",
    "with open('news-30k.json') as fopen:\n",
    "    news = json.load(fopen)"
   ]
  },
  {
   "cell_type": "code",
   "execution_count": 3,
   "metadata": {},
   "outputs": [
    {
     "data": {
      "text/plain": [
       "974"
      ]
     },
     "execution_count": 3,
     "metadata": {},
     "output_type": "execute_result"
    }
   ],
   "source": [
    "from glob import glob\n",
    "\n",
    "files = sorted(glob('news/*.json'))\n",
    "files = [f for f in files if 'populate-news' not in f]\n",
    "len(files)"
   ]
  },
  {
   "cell_type": "code",
   "execution_count": 5,
   "metadata": {},
   "outputs": [
    {
     "name": "stderr",
     "output_type": "stream",
     "text": [
      "100%|███████████████████████████████████████████████████████████████████████████████████████| 29855/29855 [00:00<00:00, 79056.17it/s]\n",
      "100%|█████████████████████████████████████████████████████████████████████████████████████████████| 974/974 [00:04<00:00, 206.72it/s]\n"
     ]
    },
    {
     "data": {
      "text/plain": [
       "81717"
      ]
     },
     "execution_count": 5,
     "metadata": {},
     "output_type": "execute_result"
    }
   ],
   "source": [
    "selected = []\n",
    "already = set()\n",
    "\n",
    "malaysian_news = {\n",
    "    'kosmo',\n",
    "    'hmetro',\n",
    "    'malaymail',\n",
    "    'projekmm',\n",
    "    'bharian',\n",
    "    'utusan',\n",
    "    'astroawani',\n",
    "    'themalaysianinsight',\n",
    "    'malaysiakini',\n",
    "    'bernama'\n",
    "}\n",
    "\n",
    "def reject(data):\n",
    "    if data['news'] in malaysian_news:\n",
    "        return False\n",
    "    if any([n in data['top-image'] for n in malaysian_news]):\n",
    "        return False\n",
    "    if any([n in data['url'] for n in malaysian_news]):\n",
    "        return False\n",
    "    if 'com.my' in data['top-image']:\n",
    "        return False\n",
    "    if data['language'] == 'malay':\n",
    "        return False\n",
    "    if 'Siaran Pers' in data['news']:\n",
    "        return True\n",
    "    if '.id' in data['news']:\n",
    "        return True\n",
    "    \n",
    "    return True\n",
    "\n",
    "for n in tqdm(news):\n",
    "    if 'disabled in your browser' in n['text'].lower():\n",
    "        continue\n",
    "        \n",
    "    if len(n['text'].split()) > 1024:\n",
    "        continue\n",
    "        \n",
    "    if n['language'] == 'ENGLISH':\n",
    "        continue\n",
    "\n",
    "    if reject(n):\n",
    "        continue\n",
    "    \n",
    "    if n['url'] not in already:\n",
    "        selected.append(n)\n",
    "        already.add(n['url'])\n",
    "        \n",
    "for f in tqdm(files):\n",
    "    with open(f) as fopen:\n",
    "        data = json.load(fopen)\n",
    "    \n",
    "    for n in data:\n",
    "        if 'disabled in your browser' in n['text'].lower():\n",
    "            continue\n",
    "        \n",
    "        if len(n['text'].split()) > 1024:\n",
    "            continue\n",
    "            \n",
    "        if n['language'] == 'ENGLISH':\n",
    "            continue\n",
    "            \n",
    "        if reject(n):\n",
    "            continue\n",
    "        \n",
    "        if n['url'] not in already:\n",
    "            selected.append(n)\n",
    "            already.add(n['url'])\n",
    "        \n",
    "    \n",
    "len(selected)"
   ]
  },
  {
   "cell_type": "code",
   "execution_count": 6,
   "metadata": {},
   "outputs": [
    {
     "data": {
      "text/plain": [
       "1024"
      ]
     },
     "execution_count": 6,
     "metadata": {},
     "output_type": "execute_result"
    }
   ],
   "source": [
    "lens = [len(n['text'].split()) for n in selected]\n",
    "max(lens)"
   ]
  },
  {
   "cell_type": "code",
   "execution_count": 7,
   "metadata": {},
   "outputs": [
    {
     "data": {
      "text/plain": [
       "57188"
      ]
     },
     "execution_count": 7,
     "metadata": {},
     "output_type": "execute_result"
    }
   ],
   "source": [
    "import numpy as np\n",
    "\n",
    "np.argmax(lens)"
   ]
  },
  {
   "cell_type": "code",
   "execution_count": 8,
   "metadata": {},
   "outputs": [
    {
     "data": {
      "text/plain": [
       "{'title': 'Seni latte 3D',\n",
       " 'url': 'https://www.hmetro.com.my/node/155492',\n",
       " 'authors': [],\n",
       " 'top-image': 'https://assets.hmetro.com.my/images/articles/senlatte_field_image_listing_featured.var_1469912795.jpg',\n",
       " 'text': 'Seorang barista di Jepun mencipta hasil seni menarik dan comel hanya menggunakan buih susu dalam latte dihidangkannya.\\n\\nKazuki Yamamoto, 29, dari wilayah Okayama mencipta pelbagai haiwan kecil yang nampak realistik ketika bekerja di sebuah restoran, sebelum hasil seninya itu mula mendapat perhatian di seluruh dunia.\\n\\nKerja tangannya yang paling popular seekor kucing yang cuba masuk dari satu cawan ke cawan lain untuk menangkap ikan.\\n\\nDia yang kini pengurus sebuah kafe di Harajyuku juga membuat buih berbentuk arnab dan kucing yang lain, dianggap pelanggannya sebagai ‘terlalu comel sehingga tidak tergamak untuk meminumnya.’\\n\\n“Gambar kucing menangkap ikan menjadi popular selepas tersebar di Internet sehingga saya mendapat tawaran untuk menghadiri pelbagai acara dan bekerja di luar negara.\\n\\n“Selepas itulah saya menerima tawaran kerja di kafe ini sekarang. Paling penting untuk rekaan saya adalah menggunakan krim yang lembut dan susu berkualiti tinggi.\\n\\n“Saya tidak menafikan teknik ini boleh ditiru, namun tiada sesiapa mampu meniru idea saya yang tersendiri ini. Bagi saya seni latte 3D ini mungkin mudah dimusnahkan, tetapi melihatnya menggembirakan pelanggan saya,” katanya.',\n",
       " 'keyword': ['seni',\n",
       "  'mencipta',\n",
       "  'susu',\n",
       "  'kafe',\n",
       "  '3d',\n",
       "  'comel',\n",
       "  'popular',\n",
       "  'latte',\n",
       "  'cawan',\n",
       "  'menangkap',\n",
       "  'kucing'],\n",
       " 'summary': 'Seorang barista di Jepun mencipta hasil seni menarik dan comel hanya menggunakan buih susu dalam latte dihidangkannya.\\nKerja tangannya yang paling popular seekor kucing yang cuba masuk dari satu cawan ke cawan lain untuk menangkap ikan.\\nPaling penting untuk rekaan saya adalah menggunakan krim yang lembut dan susu berkualiti tinggi.\\n“Saya tidak menafikan teknik ini boleh ditiru, namun tiada sesiapa mampu meniru idea saya yang tersendiri ini.\\nBagi saya seni latte 3D ini mungkin mudah dimusnahkan, tetapi melihatnya menggembirakan pelanggan saya,” katanya.',\n",
       " 'news': 'Harian Metro',\n",
       " 'date': '07-30-2016',\n",
       " 'language': 'INDONESIA'}"
      ]
     },
     "execution_count": 8,
     "metadata": {},
     "output_type": "execute_result"
    }
   ],
   "source": [
    "selected[-1]"
   ]
  },
  {
   "cell_type": "code",
   "execution_count": 9,
   "metadata": {},
   "outputs": [],
   "source": [
    "with open('populate-news.json', 'w') as fopen:\n",
    "    for s in selected:\n",
    "        fopen.write(f'{json.dumps(s)}\\n')"
   ]
  }
 ],
 "metadata": {
  "kernelspec": {
   "display_name": "Python 3 (ipykernel)",
   "language": "python",
   "name": "python3"
  },
  "language_info": {
   "codemirror_mode": {
    "name": "ipython",
    "version": 3
   },
   "file_extension": ".py",
   "mimetype": "text/x-python",
   "name": "python",
   "nbconvert_exporter": "python",
   "pygments_lexer": "ipython3",
   "version": "3.8.10"
  }
 },
 "nbformat": 4,
 "nbformat_minor": 4
}
