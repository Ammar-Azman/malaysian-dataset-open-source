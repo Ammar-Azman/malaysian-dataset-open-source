{
 "cells": [
  {
   "cell_type": "code",
   "execution_count": 5,
   "metadata": {},
   "outputs": [],
   "source": [
    "# !wget https://huggingface.co/datasets/cnn_dailymail/resolve/11343c3752184397d56efc19a8a7cceb68089318/data/cnn_stories.tgz\n",
    "# !wget https://huggingface.co/datasets/cnn_dailymail/resolve/11343c3752184397d56efc19a8a7cceb68089318/data/dailymail_stories.tgz"
   ]
  },
  {
   "cell_type": "code",
   "execution_count": 8,
   "metadata": {},
   "outputs": [],
   "source": [
    "# !wget https://raw.githubusercontent.com/abisee/cnn-dailymail/master/url_lists/all_train.txt\n",
    "# !wget https://raw.githubusercontent.com/abisee/cnn-dailymail/master/url_lists/all_val.txt\n",
    "# !wget https://raw.githubusercontent.com/abisee/cnn-dailymail/master/url_lists/all_test.txt"
   ]
  },
  {
   "cell_type": "code",
   "execution_count": 9,
   "metadata": {},
   "outputs": [
    {
     "name": "stdout",
     "output_type": "stream",
     "text": [
      "all_test.txt  all_train.txt  all_val.txt\r\n"
     ]
    }
   ],
   "source": [
    "!ls all_*.txt"
   ]
  },
  {
   "cell_type": "code",
   "execution_count": 14,
   "metadata": {},
   "outputs": [],
   "source": [
    "import hashlib\n",
    "import os\n",
    "import json\n",
    "\n",
    "os.environ['CUDA_VISIBLE_DEVICES'] = ''"
   ]
  },
  {
   "cell_type": "code",
   "execution_count": 2,
   "metadata": {},
   "outputs": [],
   "source": [
    "def _get_url_hashes(path):\n",
    "    \"\"\"Get hashes of urls in file.\"\"\"\n",
    "    urls = _read_text_file_path(path)\n",
    "\n",
    "    def url_hash(u):\n",
    "        h = hashlib.sha1()\n",
    "        try:\n",
    "            u = u.encode(\"utf-8\")\n",
    "        except UnicodeDecodeError:\n",
    "            logger.error(\"Cannot hash url: %s\", u)\n",
    "        h.update(u)\n",
    "        return h.hexdigest()\n",
    "\n",
    "    return {url_hash(u) for u in urls}\n",
    "\n",
    "\n",
    "def _get_hash_from_path(p):\n",
    "    \"\"\"Extract hash from path.\"\"\"\n",
    "    return os.path.splitext(os.path.basename(p))[0]\n",
    "\n",
    "\n",
    "DM_SINGLE_CLOSE_QUOTE = \"\\u2019\"  # unicode\n",
    "DM_DOUBLE_CLOSE_QUOTE = \"\\u201d\"\n",
    "# acceptable ways to end a sentence\n",
    "END_TOKENS = [\".\", \"!\", \"?\", \"...\", \"'\", \"`\", '\"', DM_SINGLE_CLOSE_QUOTE, DM_DOUBLE_CLOSE_QUOTE, \")\"]"
   ]
  },
  {
   "cell_type": "code",
   "execution_count": 3,
   "metadata": {},
   "outputs": [],
   "source": [
    "def _read_text_file_path(path):\n",
    "    with open(path, \"r\", encoding=\"utf-8\") as f:\n",
    "        lines = [line.strip() for line in f]\n",
    "    return lines\n",
    "\n",
    "\n",
    "def _read_text_file(file):\n",
    "    return [line.strip() for line in file]\n",
    "\n",
    "\n",
    "def _get_art_abs(story_file, tfds_version = \"1.0\"):\n",
    "    \"\"\"Get abstract (highlights) and article from a story file path.\"\"\"\n",
    "    # Based on https://github.com/abisee/cnn-dailymail/blob/master/\n",
    "    #     make_datafiles.py\n",
    "\n",
    "    lines = _read_text_file(story_file)\n",
    "\n",
    "    # The github code lowercase the text and we removed it in 3.0.0.\n",
    "\n",
    "    # Put periods on the ends of lines that are missing them\n",
    "    # (this is a problem in the dataset because many image captions don't end in\n",
    "    # periods; consequently they end up in the body of the article as run-on\n",
    "    # sentences)\n",
    "    def fix_missing_period(line):\n",
    "        \"\"\"Adds a period to a line that is missing a period.\"\"\"\n",
    "        if \"@highlight\" in line:\n",
    "            return line\n",
    "        if not line:\n",
    "            return line\n",
    "        if line[-1] in END_TOKENS:\n",
    "            return line\n",
    "        return line + \" .\"\n",
    "\n",
    "    lines = [fix_missing_period(line) for line in lines]\n",
    "\n",
    "    # Separate out article and abstract sentences\n",
    "    article_lines = []\n",
    "    highlights = []\n",
    "    next_is_highlight = False\n",
    "    for line in lines:\n",
    "        if not line:\n",
    "            continue  # empty line\n",
    "        elif line.startswith(\"@highlight\"):\n",
    "            next_is_highlight = True\n",
    "        elif next_is_highlight:\n",
    "            highlights.append(line)\n",
    "        else:\n",
    "            article_lines.append(line)\n",
    "\n",
    "    # Make article into a single string\n",
    "    article = \" \".join(article_lines)\n",
    "\n",
    "    if tfds_version >= \"2.0.0\":\n",
    "        abstract = \"\\n\".join(highlights)\n",
    "    else:\n",
    "        abstract = \" \".join(highlights)\n",
    "\n",
    "    return article, abstract"
   ]
  },
  {
   "cell_type": "code",
   "execution_count": 4,
   "metadata": {},
   "outputs": [],
   "source": [
    "urls = _get_url_hashes('all_train.txt')"
   ]
  },
  {
   "cell_type": "code",
   "execution_count": 10,
   "metadata": {},
   "outputs": [],
   "source": [
    "from glob import glob"
   ]
  },
  {
   "cell_type": "code",
   "execution_count": 11,
   "metadata": {},
   "outputs": [
    {
     "data": {
      "text/plain": [
       "(92579, 219506)"
      ]
     },
     "execution_count": 11,
     "metadata": {},
     "output_type": "execute_result"
    }
   ],
   "source": [
    "cnns = glob('cnn/*/*')\n",
    "dailymails = glob('dailymail/*/*')\n",
    "len(cnns), len(dailymails)"
   ]
  },
  {
   "cell_type": "code",
   "execution_count": 12,
   "metadata": {},
   "outputs": [],
   "source": [
    "files = cnns + dailymails"
   ]
  },
  {
   "cell_type": "code",
   "execution_count": 13,
   "metadata": {},
   "outputs": [
    {
     "name": "stderr",
     "output_type": "stream",
     "text": [
      "100%|██████████████████████████████| 312085/312085 [00:00<00:00, 1053696.18it/s]\n"
     ]
    },
    {
     "data": {
      "text/plain": [
       "287227"
      ]
     },
     "execution_count": 13,
     "metadata": {},
     "output_type": "execute_result"
    }
   ],
   "source": [
    "from tqdm import tqdm\n",
    "\n",
    "selected_hash = []\n",
    "for f in tqdm(files):\n",
    "    path = f\n",
    "    hash_from_path = _get_hash_from_path(path)\n",
    "    if hash_from_path in urls:\n",
    "        selected_hash.append(f)\n",
    "        \n",
    "selected_hash = sorted(selected_hash)\n",
    "len(selected_hash)"
   ]
  },
  {
   "cell_type": "code",
   "execution_count": 30,
   "metadata": {},
   "outputs": [
    {
     "name": "stderr",
     "output_type": "stream",
     "text": [
      " 50%|████████████████                | 144248/287227 [00:09<00:10, 13196.60it/s]"
     ]
    },
    {
     "name": "stdout",
     "output_type": "stream",
     "text": [
      "Expecting value: line 1 column 1 (char 0)\n",
      "Expecting value: line 1 column 1 (char 0)\n",
      "Expecting value: line 1 column 1 (char 0)\n",
      "Expecting value: line 1 column 1 (char 0)\n",
      "Expecting value: line 1 column 1 (char 0)\n",
      "Expecting value: line 1 column 1 (char 0)\n",
      "Expecting value: line 1 column 1 (char 0)\n",
      "Expecting value: line 1 column 1 (char 0)\n"
     ]
    },
    {
     "name": "stderr",
     "output_type": "stream",
     "text": [
      "100%|█████████████████████████████████| 287227/287227 [00:52<00:00, 5497.36it/s]\n"
     ]
    }
   ],
   "source": [
    "directory = 'translated-train'\n",
    "\n",
    "with open('train-translated-cnn-daily.jsonl', 'w') as fopenl:\n",
    "    for f in tqdm(selected_hash):\n",
    "        try:\n",
    "            path = f\n",
    "            hash_from_path = _get_hash_from_path(path)\n",
    "            new_path = os.path.join(directory, hash_from_path)\n",
    "            file = _read_text_file_path(path)\n",
    "            article, highlights = _get_art_abs(file)\n",
    "            with open(new_path) as fopen:\n",
    "                t = json.load(fopen)\n",
    "\n",
    "            t_article = ' '.join(t['article'])\n",
    "            t_highlight = t['highlight']\n",
    "            d = {\n",
    "                'article': article,\n",
    "                'highlights': highlights,\n",
    "                'translated_article': t_article,\n",
    "                'translated_highlight': t_highlight,\n",
    "            }\n",
    "            fopenl.write(f'{json.dumps(d)}\\n')\n",
    "        except Exception as e:\n",
    "            print(e)"
   ]
  },
  {
   "cell_type": "code",
   "execution_count": 31,
   "metadata": {},
   "outputs": [
    {
     "name": "stderr",
     "output_type": "stream",
     "text": [
      "100%|██████████████████████████████| 312085/312085 [00:00<00:00, 1286155.25it/s]\n"
     ]
    }
   ],
   "source": [
    "urls = _get_url_hashes('all_val.txt')\n",
    "\n",
    "selected_hash = []\n",
    "for f in tqdm(files):\n",
    "    path = f\n",
    "    hash_from_path = _get_hash_from_path(path)\n",
    "    if hash_from_path in urls:\n",
    "        selected_hash.append(f)\n",
    "        \n",
    "selected_hash = sorted(selected_hash)"
   ]
  },
  {
   "cell_type": "code",
   "execution_count": 32,
   "metadata": {},
   "outputs": [
    {
     "name": "stderr",
     "output_type": "stream",
     "text": [
      "100%|███████████████████████████████████| 13368/13368 [00:02<00:00, 4887.75it/s]\n"
     ]
    }
   ],
   "source": [
    "directory = 'translated-val'\n",
    "\n",
    "with open('val-translated-cnn-daily.jsonl', 'w') as fopenl:\n",
    "    for f in tqdm(selected_hash):\n",
    "        try:\n",
    "            path = f\n",
    "            hash_from_path = _get_hash_from_path(path)\n",
    "            new_path = os.path.join(directory, hash_from_path)\n",
    "            file = _read_text_file_path(path)\n",
    "            article, highlights = _get_art_abs(file)\n",
    "            with open(new_path) as fopen:\n",
    "                t = json.load(fopen)\n",
    "\n",
    "            t_article = ' '.join(t['article'])\n",
    "            t_highlight = t['highlight']\n",
    "            d = {\n",
    "                'article': article,\n",
    "                'highlights': highlights,\n",
    "                'translated_article': t_article,\n",
    "                'translated_highlight': t_highlight,\n",
    "            }\n",
    "            fopenl.write(f'{json.dumps(d)}\\n')\n",
    "        except Exception as e:\n",
    "            print(e)"
   ]
  },
  {
   "cell_type": "code",
   "execution_count": 33,
   "metadata": {},
   "outputs": [
    {
     "name": "stderr",
     "output_type": "stream",
     "text": [
      "100%|██████████████████████████████| 312085/312085 [00:00<00:00, 1299690.48it/s]\n"
     ]
    }
   ],
   "source": [
    "urls = _get_url_hashes('all_test.txt')\n",
    "\n",
    "selected_hash = []\n",
    "for f in tqdm(files):\n",
    "    path = f\n",
    "    hash_from_path = _get_hash_from_path(path)\n",
    "    if hash_from_path in urls:\n",
    "        selected_hash.append(f)\n",
    "        \n",
    "selected_hash = sorted(selected_hash)"
   ]
  },
  {
   "cell_type": "code",
   "execution_count": 34,
   "metadata": {},
   "outputs": [
    {
     "name": "stderr",
     "output_type": "stream",
     "text": [
      "100%|███████████████████████████████████| 11490/11490 [00:02<00:00, 4097.59it/s]\n"
     ]
    }
   ],
   "source": [
    "directory = 'translated-test'\n",
    "\n",
    "with open('test-translated-cnn-daily.jsonl', 'w') as fopenl:\n",
    "    for f in tqdm(selected_hash):\n",
    "        try:\n",
    "            path = f\n",
    "            hash_from_path = _get_hash_from_path(path)\n",
    "            new_path = os.path.join(directory, hash_from_path)\n",
    "            file = _read_text_file_path(path)\n",
    "            article, highlights = _get_art_abs(file)\n",
    "            with open(new_path) as fopen:\n",
    "                t = json.load(fopen)\n",
    "\n",
    "            t_article = ' '.join(t['article'])\n",
    "            t_highlight = t['highlight']\n",
    "            d = {\n",
    "                'article': article,\n",
    "                'highlights': highlights,\n",
    "                'translated_article': t_article,\n",
    "                'translated_highlight': t_highlight,\n",
    "            }\n",
    "            fopenl.write(f'{json.dumps(d)}\\n')\n",
    "        except Exception as e:\n",
    "            print(e)"
   ]
  },
  {
   "cell_type": "code",
   "execution_count": 1,
   "metadata": {},
   "outputs": [
    {
     "name": "stdout",
     "output_type": "stream",
     "text": [
      "{\"article\": \"(CNN)James Best, best known for his portrayal of bumbling sheriff Rosco P. Coltrane on TV's \\\"The Dukes of Hazzard,\\\" died Monday after a brief illness. He was 88. Best died in hospice in Hickory, North Carolina, of complications from pneumonia, said Steve Latshaw, a longtime friend and Hollywood colleague. Although he'd been a busy actor for decades in theater and in Hollywood, Best didn't become famous until 1979, when \\\"The Dukes of Hazzard's\\\" cornpone charms began beaming into millions of American homes almost every Friday night. For seven seasons, Best's Rosco P. Coltrane chased the moonshine-running Duke boys back and forth across the back roads of fictitious Hazzard County, Georgia, although his \\\"hot pursuit\\\" usually ended with him crashing his patrol car. Although Rosco was slow-witted and corrupt, Best gave him a childlike enthusiasm that got laughs and made him endearing. His character became known for his distinctive \\\"kew-kew-kew\\\" chuckle and for goofy catchphrases such as \\\"cuff 'em and stuff 'em!\\\" upon making an arrest. Among the most popular shows on TV in the early '80s, \\\"The Dukes of Hazzard\\\" ran until 1985 and spawned TV movies, an animated series and video games. Several of Best's \\\"Hazzard\\\" co-stars paid tribute to the late actor on social media. \\\"I laughed and learned more from Jimmie in one hour than from anyone else in a whole year,\\\" co-star John Schneider, who played Bo Duke, said on Twitter. \\\"Give Uncle Jesse my love when you see him dear friend.\\\" \\\"Jimmy Best was the most constantly creative person I have ever known,\\\" said Ben Jones, who played mechanic Cooter on the show, in a Facebook post. \\\"Every minute of his long life was spent acting, writing, producing, painting, teaching, fishing, or involved in another of his life's many passions.\\\" Born Jewel Guy on July 26, 1926, in Powderly, Kentucky, Best was orphaned at 3 and adopted by Armen and Essa Best, who renamed him James and raised him in rural Indiana. Best served in the Army during World War II before launching his acting career. In the 1950s and 1960s, he accumulated scores of credits, playing a range of colorful supporting characters in such TV shows as \\\"The Twilight Zone,\\\" \\\"Bonanza,\\\" \\\"The Andy Griffith Show\\\" and \\\"Gunsmoke.\\\" He later appeared in a handful of Burt Reynolds' movies, including \\\"Hooper\\\" and \\\"The End.\\\" But Best will always be best known for his \\\"Hazzard\\\" role, which lives on in reruns. \\\"Jimmie was my teacher, mentor, close friend and collaborator for 26 years,\\\" Latshaw said. \\\"I directed two of his feature films, including the recent 'Return of the Killer Shrews,' a sequel he co-wrote and was quite proud of as he had made the first one more than 50 years earlier.\\\" People we've lost in 2015 . CNN's Stella Chan contributed to this story.\", \"highlights\": \"James Best, who played the sheriff on \\\"The Dukes of Hazzard,\\\" died Monday at 88 . \\\"Hazzard\\\" ran from 1979 to 1985 and was among the most popular shows on TV .\", \"translated_article\": \"(CNN) James Best, yang terkenal dengan penggambaran sheriff Rosco P. Coltrane yang memalukan di TV \\\"The Dukes of Hazzard,\\\" meninggal dunia Isnin setelah sakit sebentar. Dia berusia 88 tahun. Terbaik meninggal dunia di rumah sakit di Hickory, North Carolina, akibat komplikasi radang paru-paru, kata Steve Latshaw, rakan lama dan rakan Hollywood. Walaupun dia telah menjadi pelakon yang sibuk selama beberapa dekad di teater dan di Hollywood, Best tidak menjadi terkenal hingga tahun 1979, ketika pesona jagung \\\"The Dukes of Hazzard's\\\" mula berseri-seri di jutaan rumah Amerika hampir setiap malam Jumaat. Selama tujuh musim, Rosco P. Coltrane Best mengejar budak lelaki Duke yang berjalan-jalan di jalan belakang Hazzard County, Georgia, walaupun \\\"pengejarannya yang panas\\\" biasanya berakhir dengan dia merempuh kereta perondanya. Walaupun Roscowitt dan korup, Best memberinya semangat seperti kanak-kanak yang tertawa dan membuatnya menawan. Wataknya terkenal dengan \\\"kew-kew-kew\\\" yang tersendiri dan untuk frasa tangkapan konyol seperti \\\"cuff 'em dan barang-barang' em\\\"! setelah membuat tangkapan. Antara rancangan paling popular di TV pada awal tahun 80-an, \\\"The Dukes of Hazzard\\\" berlari hingga 1985 dan menghasilkan filem TV, siri animasi dan permainan video. Beberapa bintang \\\"Hazzard\\\" Terbaik memberi penghormatan kepada pelakon Allahyarham di media sosial. \\\"Saya ketawa dan belajar lebih banyak daripada Jimmie dalam satu jam daripada orang lain sepanjang tahun,\\\" kata bintang bersama John Schneider, yang bermain Bo Duke, di Twitter. \\\"Beri cinta saya kepada Paman Jesse ketika anda melihatnya kawan tersayang\\\". \\\"Jimmy Best adalah orang yang paling kreatif yang pernah saya kenal,\\\" kata Ben Jones, yang bermain mekanik Cooter dalam rancangan itu, dalam catatan Facebook. \\\"Setiap minit sepanjang hayatnya dihabiskan untuk berlakon, menulis, menghasilkan, melukis, mengajar, memancing, atau terlibat dalam banyak minat hidupnya\\\". Dilahirkan Jewel Guy pada 26 Julai 1926, di Powderly, Kentucky, Best adalah anak yatim pada usia 3 tahun dan diadopsi oleh Armen dan Essa Best, yang menamakannya sebagai James dan membesarkannya di Indiana luar bandar. Berkhidmat terbaik dalam Tentera Darat semasa Perang Dunia II sebelum melancarkan kerjaya lakonannya. Pada tahun 1950-an dan 1960-an, dia mengumpulkan banyak penghargaan, memainkan pelbagai watak pendukung berwarna-warni dalam rancangan TV seperti \\\"The Twilight Zone,\\\" \\\"Bonanza,\\\" \\\"The Andy Griffith Show\\\" dan \\\"Gunsmoke\\\". Dia kemudian muncul dalam beberapa filem Burt Reynolds, termasuk \\\"Hooper\\\" dan \\\"The End\\\". Tetapi Best akan selalu terkenal dengan peranan \\\"Hazzard\\\", yang terus berjalan. \\\"Jimmie adalah guru, mentor, rakan karib dan kolaborator saya selama 26 tahun,\\\" kata Latshaw. \\\"Saya mengarahkan dua filem pilihannya, termasuk 'Return of the Killer Shrews' baru-baru ini, sekuel yang ditulisnya bersama dan cukup membanggakan kerana dia telah membuat yang pertama lebih dari 50 tahun sebelumnya\\\". Orang yang telah kita hilang pada tahun 2015. Stella Chan CNN menyumbang kepada kisah ini.\", \"translated_highlight\": \"James Best, yang bermain sheriff di \\\"The Dukes of Hazzard,\\\" meninggal dunia pada hari Isnin pada usia 88 tahun. \\\"Hazzard\\\" berlari dari tahun 1979 hingga 1985 dan merupakan antara rancangan paling popular di TV.\"}\r\n"
     ]
    }
   ],
   "source": [
    "!head -n 1 test-translated-cnn-daily.jsonl"
   ]
  },
  {
   "cell_type": "code",
   "execution_count": null,
   "metadata": {},
   "outputs": [],
   "source": []
  }
 ],
 "metadata": {
  "kernelspec": {
   "display_name": "Python 3 (ipykernel)",
   "language": "python",
   "name": "python3"
  },
  "language_info": {
   "codemirror_mode": {
    "name": "ipython",
    "version": 3
   },
   "file_extension": ".py",
   "mimetype": "text/x-python",
   "name": "python",
   "nbconvert_exporter": "python",
   "pygments_lexer": "ipython3",
   "version": "3.8.10"
  }
 },
 "nbformat": 4,
 "nbformat_minor": 4
}
