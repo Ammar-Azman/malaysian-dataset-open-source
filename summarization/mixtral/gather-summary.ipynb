{
 "cells": [
  {
   "cell_type": "code",
   "execution_count": 1,
   "id": "42b1acd5",
   "metadata": {},
   "outputs": [],
   "source": [
    "from glob import glob\n",
    "import json\n",
    "import random\n",
    "from tqdm import tqdm"
   ]
  },
  {
   "cell_type": "code",
   "execution_count": 2,
   "id": "57f44d37",
   "metadata": {},
   "outputs": [
    {
     "data": {
      "text/plain": [
       "213954"
      ]
     },
     "execution_count": 2,
     "metadata": {},
     "output_type": "execute_result"
    }
   ],
   "source": [
    "ls = []\n",
    "with open('ls.jsonl') as fopen:\n",
    "    for l in fopen:\n",
    "        ls.append(json.loads(l))\n",
    "        \n",
    "len(ls)"
   ]
  },
  {
   "cell_type": "code",
   "execution_count": 3,
   "id": "384a8cef",
   "metadata": {},
   "outputs": [
    {
     "data": {
      "text/plain": [
       "['/home/husein/ssd3/translation/mixtral-summary.texts09.splitted.requested',\n",
       " '/home/husein/ssd3/translation/mixtral-summary.texts00.splitted.requested',\n",
       " '/home/husein/ssd3/translation/mixtral-summary.texts04.splitted.requested',\n",
       " '/home/husein/ssd3/translation/mixtral-summary.texts02.splitted.requested',\n",
       " '/home/husein/ssd3/translation/mixtral-summary.texts08.splitted.requested',\n",
       " '/home/husein/ssd3/translation/mixtral-summary.texts06.splitted.requested',\n",
       " '/home/husein/ssd3/translation/mixtral-summary.texts01.splitted.requested',\n",
       " '/home/husein/ssd3/translation/mixtral-summary.texts05.splitted.requested',\n",
       " '/home/husein/ssd3/translation/mixtral-summary.texts03.splitted.requested',\n",
       " '/home/husein/ssd3/translation/mixtral-summary.texts07.splitted.requested']"
      ]
     },
     "execution_count": 3,
     "metadata": {},
     "output_type": "execute_result"
    }
   ],
   "source": [
    "glob('/home/husein/ssd3/translation/mixtral-summary.texts*.splitted.requested')"
   ]
  },
  {
   "cell_type": "code",
   "execution_count": 5,
   "id": "d2036a75",
   "metadata": {},
   "outputs": [
    {
     "data": {
      "text/plain": [
       "191676"
      ]
     },
     "execution_count": 5,
     "metadata": {},
     "output_type": "execute_result"
    }
   ],
   "source": [
    "import re\n",
    "\n",
    "mapping = {}\n",
    "for f in glob('/home/husein/ssd3/translation/mixtral-summary.texts*.splitted.requested'):\n",
    "    with open(f) as fopen:\n",
    "        for l in fopen:\n",
    "            l = json.loads(l)\n",
    "            if 'Source text\\nclear\\nLook up details' in l['r']['result']:\n",
    "                continue\n",
    "            if 'clear\\nLook up details' in l['r']['result']:\n",
    "                continue\n",
    "            if l['r']['result'].startswith('Source text\\n'):\n",
    "                continue\n",
    "\n",
    "            n = l['r']['result']\n",
    "            hypens = re.findall('\\w+ -\\w+', n)\n",
    "            for h in hypens:\n",
    "                splitted = h.split('-')\n",
    "                if len(splitted) != 2:\n",
    "                    continue\n",
    "                splitted = [s.strip() for s in splitted]\n",
    "                splitted = '-'.join(splitted)\n",
    "                n = n.replace(h, splitted)\n",
    "            mapping[l['src']] = n\n",
    "\n",
    "len(mapping)"
   ]
  },
  {
   "cell_type": "code",
   "execution_count": 11,
   "id": "d5a864ae",
   "metadata": {},
   "outputs": [],
   "source": [
    "import os\n",
    "\n",
    "with open('mixtral-malaysian-abstractive-summarization.jsonl', 'w') as fopen_l:\n",
    "    for no, l in enumerate(ls):\n",
    "        filename = f'summary/{no}.json'\n",
    "        if not os.path.exists(filename):\n",
    "            continue\n",
    "        \n",
    "        with open(filename) as fopen:\n",
    "            t = json.load(fopen).strip()\n",
    "            \n",
    "        d = {\n",
    "            'source': l[-1],\n",
    "            'text': l[0],\n",
    "            'summary': t,\n",
    "            'summary_ms': mapping.get(t)\n",
    "        }\n",
    "        \n",
    "        fopen_l.write(f'{json.dumps(d)}\\n')"
   ]
  },
  {
   "cell_type": "code",
   "execution_count": 12,
   "id": "b29bdd04",
   "metadata": {},
   "outputs": [
    {
     "name": "stdout",
     "output_type": "stream",
     "text": [
      "195594 mixtral-malaysian-abstractive-summarization.jsonl\r\n"
     ]
    }
   ],
   "source": [
    "!wc -l mixtral-malaysian-abstractive-summarization.jsonl"
   ]
  },
  {
   "cell_type": "code",
   "execution_count": 13,
   "id": "f39830ff",
   "metadata": {},
   "outputs": [
    {
     "name": "stdout",
     "output_type": "stream",
     "text": [
      "{\"source\": \"gamerbraves.com.jsonl\", \"text\": \"Attack on Titan Brave Order has opened for Pre Registration\\n\\n\\nThe new mobile game Attack on Titan Brave Order from developer Enish has opened for pre-registration\\n\\n\\n\\nHere\\u2019s the trailer:\\n\\n\\n\\nRelated Posts   Pokemon Sleep Now Available In Malaysia   GamerBraves Newsletter Vol. 103 \\u2013 The Glory of The Barbie/Oppenheimer Double Feature   According to 4Gamer, the first promotional movie has been released, and the pre-registration campaign has started, in which the number of \\u2018red brilliant\\u2019, the currency used for gacha will increase according to the number of registered users.\\nHere are the rates:\\nFollow us on Twitter\\nFollow @GamerBraves\\nand Tweet us\\nTweet to @GamerBraves\\n\\n\\nOver 30,000 registrations: 2 gacha worth of red brilliant\\nOver 50,000 users: 4 gacha worth of red brilliant\\nMore than 100,000 players will receive 6 gacha worth of red stones.\\nMore than 200,000 users: 8 times the number of gachas\\nOver 300,000 users: 10 times the number of gachas\\nThe number of red glittering stones is a cumulative total. When the number of pre-registrants reaches 300,000, all users will receive 10 red brilliants for a total of 10 gachas.\\n\\nIf all goals are met, up to 10 red brilliants will be given as a present. You can pre-register by following the official Twitter account, adding a friend to the official LINE account, or registering your email address on the game\\u2019s official website.\\nIn this game, players become a member of the Survey Corps along with Eren, Mikasa, and others, and cooperate with many other players to fight against the mighty Titans, just like in the original manga. With full voice acting, including the anime\\u2019s original voice cast, players can enjoy the realistic world of Attack on Titan.\\nAttack on Titan will be undergoing the second half of its final season at the beginning of next year.\\nWe still do not have a confirmed release date of Attack on Titan Brave Order\\n\\nCheck This Out Next\\n\\n\\nTags: Attack on TitanAttack on Titan: Brave Orderenish\", \"summary\": \"The mobile game \\\"Attack on Titan Brave Order\\\" by developer Enish is now open for pre-registration. The number of red brilliants, the game's gacha currency, will increase based on the number of pre-registered users. Players can become a member of the Survey Corps and cooperate with others to fight against Titans with full voice acting from the anime's original voice cast. The final season of Attack on Titan will continue in early 2022, but a release date for the game has not been confirmed. Pre-registration can be done through the official Twitter, LINE account, or email registration on the game's website.\", \"summary_ms\": \"Permainan mudah alih \\\"Attack on Titan Brave Order\\\" oleh pembangun Enish kini dibuka untuk prapendaftaran. Bilangan red brilliant, mata wang gacha permainan, akan meningkat berdasarkan bilangan pengguna pradaftar. Pemain boleh menjadi ahli Survey Corps dan bekerjasama dengan orang lain untuk melawan Titans dengan lakonan suara penuh daripada pelakon suara asal anime. Musim terakhir Attack on Titan akan diteruskan pada awal 2022, tetapi tarikh keluaran untuk permainan itu belum disahkan. Prapendaftaran boleh dilakukan melalui Twitter rasmi, akaun LINE, atau pendaftaran e-mel di laman web permainan.\"}\r\n"
     ]
    }
   ],
   "source": [
    "!head -n 1 mixtral-malaysian-abstractive-summarization.jsonl"
   ]
  },
  {
   "cell_type": "code",
   "execution_count": 14,
   "id": "85a27c75",
   "metadata": {},
   "outputs": [
    {
     "data": {
      "text/plain": [
       "CommitInfo(commit_url='https://huggingface.co/datasets/mesolitica/mixtral-malaysian-abstractive-summarization/commit/f2aacb31fb0e1d231e05b37a529812ff8932ca7e', commit_message='Upload mixtral-malaysian-abstractive-summarization.jsonl with huggingface_hub', commit_description='', oid='f2aacb31fb0e1d231e05b37a529812ff8932ca7e', pr_url=None, pr_revision=None, pr_num=None)"
      ]
     },
     "execution_count": 14,
     "metadata": {},
     "output_type": "execute_result"
    }
   ],
   "source": [
    "from huggingface_hub import HfApi\n",
    "api = HfApi()\n",
    "api.upload_file(\n",
    "    path_or_fileobj='mixtral-malaysian-abstractive-summarization.jsonl',\n",
    "    path_in_repo='mixtral-malaysian-abstractive-summarization.jsonl',\n",
    "    repo_id='mesolitica/mixtral-malaysian-abstractive-summarization',\n",
    "    repo_type='dataset',\n",
    ")"
   ]
  },
  {
   "cell_type": "code",
   "execution_count": null,
   "id": "1f2e3f2c",
   "metadata": {},
   "outputs": [],
   "source": []
  }
 ],
 "metadata": {
  "kernelspec": {
   "display_name": "Python 3 (ipykernel)",
   "language": "python",
   "name": "python3"
  },
  "language_info": {
   "codemirror_mode": {
    "name": "ipython",
    "version": 3
   },
   "file_extension": ".py",
   "mimetype": "text/x-python",
   "name": "python",
   "nbconvert_exporter": "python",
   "pygments_lexer": "ipython3",
   "version": "3.8.10"
  }
 },
 "nbformat": 4,
 "nbformat_minor": 5
}
