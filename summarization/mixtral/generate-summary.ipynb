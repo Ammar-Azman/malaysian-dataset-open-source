{
 "cells": [
  {
   "cell_type": "code",
   "execution_count": 1,
   "id": "f8a206bc",
   "metadata": {},
   "outputs": [],
   "source": [
    "# !wget https://huggingface.co/datasets/malaysia-ai/dedup-text-dataset/resolve/main/9shares.jsonl\n",
    "# !wget https://huggingface.co/datasets/malaysia-ai/dedup-text-dataset/resolve/main/PG_0.jsonl\n",
    "# !wget https://huggingface.co/datasets/malaysia-ai/dedup-text-dataset/resolve/main/agendadaily.jsonl\n",
    "# !wget https://huggingface.co/datasets/malaysia-ai/dedup-text-dataset/resolve/main/ajar.jsonl\n",
    "# !wget https://huggingface.co/datasets/malaysia-ai/dedup-text-dataset/resolve/main/alhijrahnews-articles.jsonl\n",
    "# !wget https://huggingface.co/datasets/malaysia-ai/dedup-text-dataset/resolve/main/aliffchannel.jsonl\n",
    "# !wget https://huggingface.co/datasets/malaysia-ai/dedup-text-dataset/resolve/main/amanz.jsonl\n",
    "# !wget https://huggingface.co/datasets/malaysia-ai/dedup-text-dataset/resolve/main/asklegal.jsonl\n",
    "# !wget https://huggingface.co/datasets/malaysia-ai/dedup-text-dataset/resolve/main/autobuzz.jsonl\n",
    "# !wget https://huggingface.co/datasets/malaysia-ai/dedup-text-dataset/resolve/main/azhafizah.com.jsonl\n",
    "# !wget https://huggingface.co/datasets/malaysia-ai/dedup-text-dataset/resolve/main/beautifulnara.jsonl\n",
    "# !wget https://huggingface.co/datasets/malaysia-ai/dedup-text-dataset/resolve/main/blog.limkitsiang.com.jsonl\n",
    "# !wget https://huggingface.co/datasets/malaysia-ai/dedup-text-dataset/resolve/main/dewanbahasa-jdbp.jsonl\n",
    "# !wget https://huggingface.co/datasets/malaysia-ai/dedup-text-dataset/resolve/main/discoverkl.jsonl\n",
    "# !wget https://huggingface.co/datasets/malaysia-ai/dedup-text-dataset/resolve/main/doctoroncall.jsonl\n",
    "# !wget https://huggingface.co/datasets/malaysia-ai/dedup-text-dataset/resolve/main/e-penerbitan.jsonl\n",
    "# !wget https://huggingface.co/datasets/malaysia-ai/dedup-text-dataset/resolve/main/fintechnews.my.jsonl\n",
    "# !wget https://huggingface.co/datasets/malaysia-ai/dedup-text-dataset/resolve/main/gamerbraves.com.jsonl\n",
    "# !wget https://huggingface.co/datasets/malaysia-ai/dedup-text-dataset/resolve/main/harakahdaily.jsonl\n",
    "# !wget https://huggingface.co/datasets/malaysia-ai/dedup-text-dataset/resolve/main/iium-confession.jsonl"
   ]
  },
  {
   "cell_type": "code",
   "execution_count": 2,
   "id": "17e48e0b",
   "metadata": {},
   "outputs": [],
   "source": [
    "from glob import glob\n",
    "import json\n",
    "import random\n",
    "from tqdm import tqdm"
   ]
  },
  {
   "cell_type": "code",
   "execution_count": 3,
   "id": "174b9d4f",
   "metadata": {},
   "outputs": [],
   "source": [
    "# files = glob('*.jsonl')\n",
    "# ls = []\n",
    "# for f in files:\n",
    "#     selected = []\n",
    "#     with open(f) as fopen:\n",
    "#         for l in fopen:\n",
    "#             l = json.loads(l)\n",
    "#             if len(l.split()) > 50:\n",
    "#                 selected.append((l, f))\n",
    "#     if len(selected) > 30000:\n",
    "#         selected = random.sample(selected, 30000)\n",
    "    \n",
    "#     ls.extend(selected)"
   ]
  },
  {
   "cell_type": "code",
   "execution_count": 4,
   "id": "fa35516e",
   "metadata": {},
   "outputs": [],
   "source": [
    "# with open('ls.jsonl', 'w') as fopen:\n",
    "#     for ls_ in ls:\n",
    "#         fopen.write(f'{json.dumps(ls_)}\\n')"
   ]
  },
  {
   "cell_type": "code",
   "execution_count": 5,
   "id": "2c69a1f6",
   "metadata": {},
   "outputs": [
    {
     "data": {
      "text/plain": [
       "213954"
      ]
     },
     "execution_count": 5,
     "metadata": {},
     "output_type": "execute_result"
    }
   ],
   "source": [
    "ls = []\n",
    "with open('ls.jsonl') as fopen:\n",
    "    for l in fopen:\n",
    "        ls.append(json.loads(l))\n",
    "        \n",
    "len(ls)"
   ]
  },
  {
   "cell_type": "code",
   "execution_count": 6,
   "id": "c07da487",
   "metadata": {
    "scrolled": true
   },
   "outputs": [
    {
     "data": {
      "text/plain": [
       "['Attack on Titan Brave Order has opened for Pre Registration\\n\\n\\nThe new mobile game Attack on Titan Brave Order from developer Enish has opened for pre-registration\\n\\n\\n\\nHere’s the trailer:\\n\\n\\n\\nRelated Posts   Pokemon Sleep Now Available In Malaysia   GamerBraves Newsletter Vol. 103 – The Glory of The Barbie/Oppenheimer Double Feature   According to 4Gamer, the first promotional movie has been released, and the pre-registration campaign has started, in which the number of ‘red brilliant’, the currency used for gacha will increase according to the number of registered users.\\nHere are the rates:\\nFollow us on Twitter\\nFollow @GamerBraves\\nand Tweet us\\nTweet to @GamerBraves\\n\\n\\nOver 30,000 registrations: 2 gacha worth of red brilliant\\nOver 50,000 users: 4 gacha worth of red brilliant\\nMore than 100,000 players will receive 6 gacha worth of red stones.\\nMore than 200,000 users: 8 times the number of gachas\\nOver 300,000 users: 10 times the number of gachas\\nThe number of red glittering stones is a cumulative total. When the number of pre-registrants reaches 300,000, all users will receive 10 red brilliants for a total of 10 gachas.\\n\\nIf all goals are met, up to 10 red brilliants will be given as a present. You can pre-register by following the official Twitter account, adding a friend to the official LINE account, or registering your email address on the game’s official website.\\nIn this game, players become a member of the Survey Corps along with Eren, Mikasa, and others, and cooperate with many other players to fight against the mighty Titans, just like in the original manga. With full voice acting, including the anime’s original voice cast, players can enjoy the realistic world of Attack on Titan.\\nAttack on Titan will be undergoing the second half of its final season at the beginning of next year.\\nWe still do not have a confirmed release date of Attack on Titan Brave Order\\n\\nCheck This Out Next\\n\\n\\nTags: Attack on TitanAttack on Titan: Brave Orderenish',\n",
       " 'gamerbraves.com.jsonl']"
      ]
     },
     "execution_count": 6,
     "metadata": {},
     "output_type": "execute_result"
    }
   ],
   "source": [
    "ls[0]"
   ]
  },
  {
   "cell_type": "code",
   "execution_count": 7,
   "id": "8e152797",
   "metadata": {},
   "outputs": [
    {
     "name": "stderr",
     "output_type": "stream",
     "text": [
      "/home/husein/.local/lib/python3.8/site-packages/requests/__init__.py:102: RequestsDependencyWarning: urllib3 (1.26.15) or chardet (5.2.0)/charset_normalizer (2.0.7) doesn't match a supported version!\n",
      "  warnings.warn(\"urllib3 ({}) or chardet ({})/charset_normalizer ({}) doesn't match a supported \"\n"
     ]
    }
   ],
   "source": [
    "from huggingface_hub import InferenceClient\n",
    "from concurrent.futures import ThreadPoolExecutor, as_completed\n",
    "import os\n",
    "\n",
    "generate_kwargs = dict(\n",
    "    temperature=1.0,\n",
    "    max_new_tokens=1024,\n",
    "    top_p=0.95,\n",
    "    repetition_penalty=1.0,\n",
    "    do_sample=True,\n",
    "    truncate=30000,\n",
    ")\n",
    "\n",
    "client = InferenceClient(\n",
    "    \"\", timeout = 120\n",
    ")\n",
    "\n",
    "\n",
    "def format_prompt(message, history):\n",
    "  prompt = \"<s>\"\n",
    "  for user_prompt, bot_response in history:\n",
    "    prompt += f\"[INST] {user_prompt} [/INST]\"\n",
    "    prompt += f\" {bot_response}</s> \"\n",
    "  prompt += f\"[INST] {message} [/INST]\"\n",
    "  return prompt"
   ]
  },
  {
   "cell_type": "code",
   "execution_count": 8,
   "id": "130c5264",
   "metadata": {},
   "outputs": [
    {
     "name": "stdout",
     "output_type": "stream",
     "text": [
      "mkdir: cannot create directory ‘summary’: File exists\r\n"
     ]
    }
   ],
   "source": [
    "!mkdir summary"
   ]
  },
  {
   "cell_type": "code",
   "execution_count": null,
   "id": "e4756a94",
   "metadata": {},
   "outputs": [],
   "source": [
    "prompt = f'summarize less than 100 words: {ls[0][0].strip()}'\n",
    "formatted_prompt = format_prompt(prompt, [])\n",
    "stream = client.text_generation(formatted_prompt, **generate_kwargs, stream=False, details=True, return_full_text=False)\n",
    "output = stream.generated_text\n",
    "output"
   ]
  },
  {
   "cell_type": "code",
   "execution_count": 17,
   "id": "a242f9eb",
   "metadata": {},
   "outputs": [],
   "source": [
    "def answer(q, i):\n",
    "    filename = f'summary/{i}.json'\n",
    "    if os.path.exists(filename):\n",
    "        return\n",
    "    \n",
    "    while True:\n",
    "        try:\n",
    "            prompt = f'summarize less than 100 words: {q[0].strip()}'\n",
    "            formatted_prompt = format_prompt(prompt, [])\n",
    "            stream = client.text_generation(formatted_prompt, **generate_kwargs, stream=False, details=True, return_full_text=False)\n",
    "            output = stream.generated_text\n",
    "            with open(filename, 'w') as fopen:\n",
    "                json.dump(output, fopen)\n",
    "            break\n",
    "        except:\n",
    "            pass"
   ]
  },
  {
   "cell_type": "code",
   "execution_count": null,
   "id": "04b34ec0",
   "metadata": {},
   "outputs": [
    {
     "name": "stderr",
     "output_type": "stream",
     "text": [
      " 91%|██████████████████████████████████████████████████████████████████████████████████████████████▊         | 813/892 [6:48:41<1:08:53, 52.32s/it]"
     ]
    }
   ],
   "source": [
    "max_worker = 240\n",
    "\n",
    "questions = ls\n",
    "for i in tqdm(range(0, len(questions), max_worker)):\n",
    "    urls_ = [(q, no + i) for no, q in enumerate(questions[i: i + max_worker])]\n",
    "    \n",
    "    with ThreadPoolExecutor(max_workers=max_worker) as executor:\n",
    "        futures = {executor.submit(answer, url[0], url[1]): url for url in urls_}\n",
    "\n",
    "        for future in as_completed(futures):\n",
    "            future.result()"
   ]
  },
  {
   "cell_type": "code",
   "execution_count": 9,
   "id": "2c0d5dd6",
   "metadata": {},
   "outputs": [
    {
     "name": "stderr",
     "output_type": "stream",
     "text": [
      "100%|████████████████████████████████████████████████████████████████████████████████████████████████████| 195594/195594 [00:42<00:00, 4551.86it/s]\n"
     ]
    }
   ],
   "source": [
    "summaries = glob('summary/*.json')\n",
    "texts = []\n",
    "for f in tqdm(summaries):\n",
    "    with open(f) as fopen:\n",
    "        t = json.load(fopen).strip()\n",
    "        if len(t.split()) > 10:\n",
    "            texts.append(t)"
   ]
  },
  {
   "cell_type": "code",
   "execution_count": 10,
   "id": "915a88a7",
   "metadata": {},
   "outputs": [
    {
     "data": {
      "text/plain": [
       "191787"
      ]
     },
     "execution_count": 10,
     "metadata": {},
     "output_type": "execute_result"
    }
   ],
   "source": [
    "len(texts)"
   ]
  },
  {
   "cell_type": "code",
   "execution_count": 11,
   "id": "4e0c4397",
   "metadata": {},
   "outputs": [
    {
     "data": {
      "text/plain": [
       "['The speaker had recurring nightmares before falling ill, including one of having intimate dreams with unknown men and a nightmare about murder. She also had strange dreams about children, animals, and a cheating husband. She ignored these dreams and considered them just part of her sleep. Her former teacher, who used to bother her, still acted inappropriately after her marriage. Once, he told her that he wanted her, making her uncomfortable. Soon after that, she started experiencing severe stomach pains and abnormal menstrual cycles. She went back to her hometown for treatment and recovered after seven days. When she returned to work, her teacher touched her hand again, which triggered her pain. Despite being unwell, she continued working for three days. On the third day, she suffered a severe abdominal pain and fell in the bathroom. Her husband came from KL that same day to take her back to the mainland for further treatment. Doctors diagnosed her with a magical separation spell, cast by someone close to her workplace, who had a crush on her. The person wanted to separate her from her husband. The speaker is still undergoing treatment as the perpetrator still bothers her at work. She hopes for guidance and prayers from those who are more experienced and knowledgeable.',\n",
       " 'Thank you for contacting us. An ultrasound scan is accurate for estimating the due date of a pregnancy. However, it should also be correlated with the first day of your last menstrual period (LMP) when determining the gestational age. Therefore, please consult your doctor for further clarification.\\n\\nFactors to consider when calculating gestational age include:\\n- Menstrual cycle length\\n- Use of contraceptives (pills, injections, implants)\\n- Accuracy of LMP and scan dates\\n- Pregnancy confirmation\\n\\nA healthy pregnancy requires proper care. A specialist obstetrician can provide advice and guidance based on your medical and menstrual history, using either the scan or LMP dates.\\n\\nFor further assistance, please contact our doctor directly through DoctorOnCall. Thank you.\\n\\nLast updated: Mon Apr 26 2021 14:47:59 GMT+0800 (Malaysia Time)\\n4.88',\n",
       " \"The writer feels that their marriage is dull and they have difficulty expressing themselves to their large family or keeping in touch with friends. They are introverted and prefer meeting new people but not sharing personal information. The couple had a small wedding with only neighbors and coworkers, and they have not shared any wedding pictures on social media.\\n\\nThe writer's partner works in an industry that involves a lot of traveling and dealing with foreigners, making it difficult for them to spend time together. They initially had reservations about getting married due to their partner's long working hours and the fear of leaving their mother-in-law alone at home.\\n\\nDespite their initial disagreement, the writer moved to their partner's hometown for the marriage. However, they have been feeling uncomfortable and have decided to move out. They are unsure of what they want from this marriage, and they feel trapped. The writer has been taking care of all the expenses and arrangements for the new house, and their partner has not contributed much.\\n\\nThe writer's partner has only visited their new house twice since they moved in, and they have been sleeping on the sofa because their partner has not bought a bed yet. The writer feels that their partner is too busy with work and has not given much thought to their new house.\\n\\nThe writer is considering ending the marriage, but they work for the government, and finding another job would be difficult. They have also thought about committing suicide, but they always stop themselves when they remember their family and the sins they would be committing.\\n\\nThe writer still loves their life, but they hate the marriage because they feel trapped. They feel guilty towards their family, their partner, but they also blame themselves for their situation.\",\n",
       " 'The Samsung Galaxy Buds+ is an updated model of the Galaxy Buds with improved audio and battery capabilities. It is currently available in white, black, and blue colors, with a red version to be released soon. The red version was unveiled by @evleaks, featuring a red charging case and earbuds with a black interior. Samsung has not yet announced when the red Galaxy Buds+ will be available to the public. In Malaysia, the Galaxy Buds+ are priced at RM599.',\n",
       " \"You're experiencing frequent ophthalmic migraines and need a substitute for Relpax (Eletriptan), which is unavailable in Malaysia. While I understand your concerns, I cannot recommend specific medications here. It's crucial to consult a local doctor or access online healthcare platforms like DoctorOnCall or DoctorOnCallEPharma to maintain medical confidentiality and discuss your situation. This ensures a more accurate recommendation tailored to your needs.\",\n",
       " \"Your 13-month-old child drinks formula milk and eats solid food, with an attempt to provide 200ml of water daily. Bowel movements change in texture but not color (unless they consume dried fruits like dates), occurring 1-2 times a day. If the morning stool is hard (but not constipated), it becomes watery in the afternoon or evening. The stool's texture alternates between lumpy and watery, but the child shows no signs of discomfort or stomach pain and remains active. This may indicate lactose intolerance or a tummy bug. Monitor symptoms and continue providing the current milk. If symptoms persist, consult a doctor for a thorough examination. Boost your child's immunity and allow them to explore. Consult a pediatrician for expert advice.\",\n",
       " \"The article highlights Instagrammable places in Sekinchan, Malaysia, and offers tips for taking better photos. It features Padi Box, a colorful homestay surrounded by paddy fields, where guests can rent bicycles and capture shots with vibrant walls and sunlight. N16 Bus Restaurant, an old school bus turned eatery, offers opportunities for playing with puddles and reflections in rainy weather. Paddy fields, the town's main attraction, can be photographed from a designated area to avoid damaging crops. Ah Ma House, a traditional snack store, provides unique shots against the sun, and the Boat Cafe, a meeting point for day trips, offers light snacks and a rustic interior for photography.\\n\\nThe Sky Mirror, a sandbank that reflects the sky, requires a professional photographer to capture the 'mirror' effect. The Wishing Tree, where visitors can hang red cloth wishes, offers opportunities for creative shots with shiny props and diffused lighting. Redang Beach, near the Wishing Tree, features seashell-covered shores and scenic sunset views. Firefly-Watching and Blue Tears, both nighttime activities, showcase the beauty of nature with light-emitting fireflies and bio-luminescent algae, respectively. Eagle Feeding displays sea eagles swooping down for meat. Overall, the article provides valuable tips for capturing memorable moments in Sekinchan while encouraging respect for the environment and local customs.\",\n",
       " \"The new Inspector-General of Police, Ismail Omar, has been criticized for prioritizing the arrest of cartoonist Zunar, questioning Pakatan Rakyat Lembah Pantai MP Nurrul Izzah for sedition, and planning to question Pakatan Rakyat Serdang MP Teoh Nie Ching for her surau visit. Critics argue that these actions show a lack of understanding of democratic policing and a continuation of the police's role as protectors of those in power rather than the rights of citizens. The Commonwealth Human Rights Initiative has emphasized the importance of democratic policing, which rejects colonial-style policing and focuses on protecting the human rights of all. The Malaysian police have been criticized for a lack of institutional independence, efficiency, professionalism, and integrity, with a collapse of public confidence in recent years. It is recommended that the police adopt a new police ethos and mission that embraces democratic policing and restores the fundamental human rights of Malaysians to be free from crime and the fear of crime.\",\n",
       " \"You mentioned experiencing symptoms that led to a diagnosis of herpes simplex virus (HSV) without a blood test. If you haven't changed sexual partners, you might wonder if the infection could have another cause. Herpes is a sexually transmitted infection caused by HSV-1 or HSV-2, which enter the body through skin lesions. After the initial infection, the virus remains dormant in the body, and can be transmitted to sexual partners when active. HSV-1 typically affects the mouth and lips, while HSV-2 affects the genital area. Herpes can also be transmitted from mother to child during pregnancy. Taking antiviral medication can reduce the risk of transmission to sexual partners. However, to determine the exact cause of your symptoms, you are strongly encouraged to consult a doctor for more information. Please click here to speak with us confidentially.\",\n",
       " \"A 4-year-old girl died after falling from the 18th floor balcony of a condominium in Setapak, Kuala Lumpur. The incident occurred at Block B, Kondominium PV10, around 2am today. Preliminary investigations suggest that the child was sleeping alone in the room and her mother was not at home. Other residents in the condominium were asleep in their respective rooms and were unaware that the child was left unattended. The girl's body was taken to Hospital Kuala Lumpur for a post-mortem examination. The police are appealing for witnesses to come forward with any information related to the incident by contacting the Wangsa Maju Police District Headquarters hotline at 03-92899222 or the nearest police station to assist in the investigation. The police advise parents to avoid leaving young children unattended as it could be considered a negligent act under the Child Act 2001.\"]"
      ]
     },
     "execution_count": 11,
     "metadata": {},
     "output_type": "execute_result"
    }
   ],
   "source": [
    "texts[:10]"
   ]
  },
  {
   "cell_type": "code",
   "execution_count": 12,
   "id": "a7e09321",
   "metadata": {},
   "outputs": [],
   "source": [
    "with open('mixtral-summary.texts', 'w') as fopen:\n",
    "    for t in set(texts):\n",
    "        fopen.write(f'{json.dumps(t)}\\n')"
   ]
  },
  {
   "cell_type": "code",
   "execution_count": 14,
   "id": "279aaeb4",
   "metadata": {},
   "outputs": [],
   "source": [
    "!cp mixtral-summary.texts ../translation"
   ]
  },
  {
   "cell_type": "code",
   "execution_count": null,
   "id": "fe948042",
   "metadata": {},
   "outputs": [],
   "source": []
  }
 ],
 "metadata": {
  "kernelspec": {
   "display_name": "Python 3 (ipykernel)",
   "language": "python",
   "name": "python3"
  },
  "language_info": {
   "codemirror_mode": {
    "name": "ipython",
    "version": 3
   },
   "file_extension": ".py",
   "mimetype": "text/x-python",
   "name": "python",
   "nbconvert_exporter": "python",
   "pygments_lexer": "ipython3",
   "version": "3.8.10"
  }
 },
 "nbformat": 4,
 "nbformat_minor": 5
}
