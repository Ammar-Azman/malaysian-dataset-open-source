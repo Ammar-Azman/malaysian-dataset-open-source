{
 "cells": [
  {
   "cell_type": "code",
   "execution_count": 4,
   "metadata": {},
   "outputs": [],
   "source": [
    "# !wget https://huggingface.co/datasets/mesolitica/semisupervised-abstractive-summarization-ms-news/resolve/main/populate-news.json.semisupervised"
   ]
  },
  {
   "cell_type": "code",
   "execution_count": 7,
   "metadata": {},
   "outputs": [],
   "source": [
    "import json\n",
    "\n",
    "data = []\n",
    "with open('populate-news.json.semisupervised') as fopen:\n",
    "    for l in fopen:\n",
    "        l = json.loads(l)\n",
    "        if len(l['text'].split()) > 50:\n",
    "            data.append(l['text'])"
   ]
  },
  {
   "cell_type": "code",
   "execution_count": 17,
   "metadata": {},
   "outputs": [],
   "source": [
    "filename = 'populate-news.json.semisupervised'"
   ]
  },
  {
   "cell_type": "code",
   "execution_count": 9,
   "metadata": {},
   "outputs": [
    {
     "data": {
      "text/plain": [
       "78034"
      ]
     },
     "execution_count": 9,
     "metadata": {},
     "output_type": "execute_result"
    }
   ],
   "source": [
    "len(data)"
   ]
  },
  {
   "cell_type": "code",
   "execution_count": 11,
   "metadata": {},
   "outputs": [],
   "source": [
    "import openai\n",
    "import json\n",
    "from concurrent.futures import ThreadPoolExecutor, as_completed\n",
    "from tqdm import tqdm\n",
    "import os\n",
    "from tenacity import (\n",
    "    retry,\n",
    "    stop_after_attempt,\n",
    "    wait_random_exponential,\n",
    ")"
   ]
  },
  {
   "cell_type": "code",
   "execution_count": 14,
   "metadata": {},
   "outputs": [],
   "source": [
    "@retry(wait=wait_random_exponential(min=1, max=60), stop=stop_after_attempt(3))\n",
    "def translate_text(value):\n",
    "    t = f\"\"\"\n",
    "paragraph `{value}`, summarize less than 128 words to bahasa melayu\n",
    "    \"\"\"\n",
    "    response = openai.ChatCompletion.create(\n",
    "        model=\"gpt-3.5-turbo\",\n",
    "        messages=[\n",
    "                {\"role\": \"user\", \"content\": t},\n",
    "            ],\n",
    "        max_tokens=1500,\n",
    "        temperature=0.1,\n",
    "        )\n",
    "    return response.choices[0][\"message\"][\"content\"].strip()"
   ]
  },
  {
   "cell_type": "code",
   "execution_count": 15,
   "metadata": {},
   "outputs": [],
   "source": [
    "def translate(data):\n",
    "    return (data, translate_text(data))"
   ]
  },
  {
   "cell_type": "code",
   "execution_count": null,
   "metadata": {},
   "outputs": [
    {
     "name": "stderr",
     "output_type": "stream",
     "text": [
      "Translating: 100%|████████████████████████████| 100/100 [00:18<00:00,  5.36it/s]\n",
      "Translating: 100%|████████████████████████████| 100/100 [00:14<00:00,  7.04it/s]\n",
      "Translating: 100%|████████████████████████████| 100/100 [00:17<00:00,  5.62it/s]\n",
      "Translating: 100%|████████████████████████████| 100/100 [00:17<00:00,  5.77it/s]\n",
      "Translating: 100%|████████████████████████████| 100/100 [00:16<00:00,  6.17it/s]\n",
      "Translating: 100%|████████████████████████████| 100/100 [00:16<00:00,  5.91it/s]\n",
      "Translating: 100%|████████████████████████████| 100/100 [00:21<00:00,  4.66it/s]\n",
      "Translating: 100%|████████████████████████████| 100/100 [00:14<00:00,  6.70it/s]\n",
      "Translating: 100%|████████████████████████████| 100/100 [00:14<00:00,  6.76it/s]\n",
      "Translating: 100%|████████████████████████████| 100/100 [00:15<00:00,  6.58it/s]\n",
      "Translating: 100%|████████████████████████████| 100/100 [00:15<00:00,  6.64it/s]\n",
      "Translating: 100%|████████████████████████████| 100/100 [00:15<00:00,  6.52it/s]\n",
      "Translating: 100%|████████████████████████████| 100/100 [00:35<00:00,  2.78it/s]\n",
      "Translating: 100%|████████████████████████████| 100/100 [00:19<00:00,  5.20it/s]\n",
      "Translating: 100%|████████████████████████████| 100/100 [00:16<00:00,  5.92it/s]\n",
      "Translating: 100%|████████████████████████████| 100/100 [00:16<00:00,  5.99it/s]\n",
      "Translating: 100%|████████████████████████████| 100/100 [00:18<00:00,  5.47it/s]\n",
      "Translating: 100%|████████████████████████████| 100/100 [00:16<00:00,  6.05it/s]\n",
      "Translating: 100%|████████████████████████████| 100/100 [00:15<00:00,  6.30it/s]\n",
      "Translating: 100%|████████████████████████████| 100/100 [00:17<00:00,  5.86it/s]\n",
      "Translating: 100%|████████████████████████████| 100/100 [00:15<00:00,  6.47it/s]\n",
      "Translating: 100%|████████████████████████████| 100/100 [00:15<00:00,  6.45it/s]\n",
      "Translating: 100%|████████████████████████████| 100/100 [00:16<00:00,  5.97it/s]\n",
      "Translating: 100%|████████████████████████████| 100/100 [00:14<00:00,  6.85it/s]\n",
      "Translating: 100%|████████████████████████████| 100/100 [00:18<00:00,  5.46it/s]\n",
      "Translating: 100%|████████████████████████████| 100/100 [00:15<00:00,  6.55it/s]\n",
      "Translating: 100%|████████████████████████████| 100/100 [00:15<00:00,  6.43it/s]\n",
      "Translating: 100%|████████████████████████████| 100/100 [00:18<00:00,  5.36it/s]\n",
      "Translating: 100%|████████████████████████████| 100/100 [00:16<00:00,  6.09it/s]\n",
      "Translating: 100%|████████████████████████████| 100/100 [00:16<00:00,  5.99it/s]\n",
      "Translating: 100%|████████████████████████████| 100/100 [00:16<00:00,  5.99it/s]\n",
      "Translating: 100%|████████████████████████████| 100/100 [00:16<00:00,  6.03it/s]\n",
      "Translating: 100%|████████████████████████████| 100/100 [00:16<00:00,  6.21it/s]\n",
      "Translating: 100%|████████████████████████████| 100/100 [00:14<00:00,  6.91it/s]\n",
      "Translating: 100%|████████████████████████████| 100/100 [00:15<00:00,  6.61it/s]\n",
      "Translating: 100%|████████████████████████████| 100/100 [00:15<00:00,  6.29it/s]\n",
      "Translating: 100%|████████████████████████████| 100/100 [00:15<00:00,  6.46it/s]\n",
      "Translating: 100%|████████████████████████████| 100/100 [00:14<00:00,  6.72it/s]\n",
      "Translating: 100%|████████████████████████████| 100/100 [00:16<00:00,  5.99it/s]\n",
      "Translating: 100%|████████████████████████████| 100/100 [00:18<00:00,  5.45it/s]\n",
      "Translating: 100%|████████████████████████████| 100/100 [00:17<00:00,  5.67it/s]\n",
      "Translating: 100%|████████████████████████████| 100/100 [00:16<00:00,  6.20it/s]\n",
      "Translating: 100%|████████████████████████████| 100/100 [00:19<00:00,  5.09it/s]\n",
      "Translating: 100%|████████████████████████████| 100/100 [00:15<00:00,  6.65it/s]\n",
      "Translating: 100%|████████████████████████████| 100/100 [00:17<00:00,  5.66it/s]\n",
      "Translating: 100%|████████████████████████████| 100/100 [00:18<00:00,  5.55it/s]\n",
      "Translating: 100%|████████████████████████████| 100/100 [00:18<00:00,  5.50it/s]\n",
      "Translating: 100%|████████████████████████████| 100/100 [00:18<00:00,  5.37it/s]\n",
      "Translating: 100%|████████████████████████████| 100/100 [00:17<00:00,  5.72it/s]\n",
      "Translating: 100%|████████████████████████████| 100/100 [00:16<00:00,  6.04it/s]\n",
      "Translating: 100%|████████████████████████████| 100/100 [00:16<00:00,  6.17it/s]\n",
      "Translating: 100%|████████████████████████████| 100/100 [00:17<00:00,  5.75it/s]\n",
      "Translating: 100%|████████████████████████████| 100/100 [00:15<00:00,  6.62it/s]\n",
      "Translating: 100%|████████████████████████████| 100/100 [00:15<00:00,  6.64it/s]\n",
      "Translating: 100%|████████████████████████████| 100/100 [00:15<00:00,  6.27it/s]\n",
      "Translating: 100%|████████████████████████████| 100/100 [00:15<00:00,  6.38it/s]\n",
      "Translating: 100%|████████████████████████████| 100/100 [00:14<00:00,  7.00it/s]\n",
      "Translating: 100%|████████████████████████████| 100/100 [00:15<00:00,  6.30it/s]\n",
      "Translating: 100%|████████████████████████████| 100/100 [00:15<00:00,  6.38it/s]\n",
      "Translating: 100%|████████████████████████████| 100/100 [00:15<00:00,  6.37it/s]\n",
      "Translating: 100%|████████████████████████████| 100/100 [00:16<00:00,  5.89it/s]\n",
      "Translating: 100%|████████████████████████████| 100/100 [00:15<00:00,  6.54it/s]\n",
      "Translating: 100%|████████████████████████████| 100/100 [00:15<00:00,  6.48it/s]\n",
      "Translating: 100%|████████████████████████████| 100/100 [00:16<00:00,  6.07it/s]\n",
      "Translating: 100%|████████████████████████████| 100/100 [00:15<00:00,  6.45it/s]\n",
      "Translating: 100%|████████████████████████████| 100/100 [00:43<00:00,  2.28it/s]\n",
      "Translating: 100%|████████████████████████████| 100/100 [00:17<00:00,  5.84it/s]\n",
      "Translating: 100%|████████████████████████████| 100/100 [00:14<00:00,  6.82it/s]\n",
      "Translating: 100%|████████████████████████████| 100/100 [00:14<00:00,  6.74it/s]\n",
      "Translating: 100%|████████████████████████████| 100/100 [00:17<00:00,  5.73it/s]\n",
      "Translating: 100%|████████████████████████████| 100/100 [00:16<00:00,  6.16it/s]\n",
      "Translating: 100%|████████████████████████████| 100/100 [00:15<00:00,  6.42it/s]\n",
      "Translating: 100%|████████████████████████████| 100/100 [00:15<00:00,  6.49it/s]\n",
      "Translating: 100%|████████████████████████████| 100/100 [00:19<00:00,  5.02it/s]\n",
      "Translating: 100%|████████████████████████████| 100/100 [00:16<00:00,  6.05it/s]\n",
      "Translating:  10%|██▉                          | 10/100 [00:07<00:25,  3.58it/s]"
     ]
    }
   ],
   "source": [
    "MAX_PARALLEL_REQUESTS = 100\n",
    "CHUNK_SIZE = 100\n",
    "start = 2\n",
    "end = len(data)\n",
    "# Translate the data in chunks of 1000 items\n",
    "for i in range(start, end, CHUNK_SIZE):\n",
    "    start = i\n",
    "    end = i + CHUNK_SIZE\n",
    "    \n",
    "    new_filename = f'{filename}_{start}_to_{end}.json'\n",
    "    if os.path.exists(new_filename):\n",
    "        continue\n",
    "\n",
    "    translated_data = []\n",
    "    data_new = data[start:end]\n",
    "\n",
    "    with ThreadPoolExecutor(max_workers=MAX_PARALLEL_REQUESTS) as executor:\n",
    "        futures = {executor.submit(translate, item): item for item in data_new}\n",
    "\n",
    "        for future in tqdm(as_completed(futures), total=len(futures), desc=\"Translating\"):\n",
    "            translated_data.append(future.result())\n",
    "\n",
    "    \n",
    "    with open(new_filename, 'w') as f:\n",
    "        json.dump(translated_data, f, ensure_ascii=False, indent=4)"
   ]
  },
  {
   "cell_type": "code",
   "execution_count": null,
   "metadata": {},
   "outputs": [],
   "source": []
  }
 ],
 "metadata": {
  "kernelspec": {
   "display_name": "Python 3 (ipykernel)",
   "language": "python",
   "name": "python3"
  },
  "language_info": {
   "codemirror_mode": {
    "name": "ipython",
    "version": 3
   },
   "file_extension": ".py",
   "mimetype": "text/x-python",
   "name": "python",
   "nbconvert_exporter": "python",
   "pygments_lexer": "ipython3",
   "version": "3.8.10"
  }
 },
 "nbformat": 4,
 "nbformat_minor": 4
}
