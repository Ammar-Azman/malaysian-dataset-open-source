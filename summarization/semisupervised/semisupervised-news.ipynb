{
 "cells": [
  {
   "cell_type": "code",
   "execution_count": 1,
   "metadata": {},
   "outputs": [],
   "source": [
    "# !wget https://github.com/huseinzol05/malay-dataset/blob/master/news/news-30k/news-30k.json.zip?raw=true\n",
    "# !unzip news-30k.json.zip?raw=true\n",
    "# !rm news-30k.json.zip?raw=true"
   ]
  },
  {
   "cell_type": "code",
   "execution_count": 2,
   "metadata": {},
   "outputs": [],
   "source": [
    "# !wget https://f000.backblazeb2.com/file/malay-dataset/news/news-2020-09-11.zip\n",
    "# !unzip news-2020-09-11.zip\n",
    "# !rm news-2020-09-11.zip"
   ]
  },
  {
   "cell_type": "code",
   "execution_count": 3,
   "metadata": {},
   "outputs": [],
   "source": [
    "import os\n",
    "\n",
    "os.environ['CUDA_VISIBLE_DEVICES'] = '0'"
   ]
  },
  {
   "cell_type": "code",
   "execution_count": 4,
   "metadata": {},
   "outputs": [],
   "source": [
    "from transformers import T5Tokenizer, T5ForConditionalGeneration\n",
    "\n",
    "tokenizer = T5Tokenizer.from_pretrained('mesolitica/finetune-summarization-t5-base-standard-bahasa-cased')\n",
    "model = T5ForConditionalGeneration.from_pretrained('mesolitica/finetune-summarization-t5-base-standard-bahasa-cased')"
   ]
  },
  {
   "cell_type": "code",
   "execution_count": 53,
   "metadata": {},
   "outputs": [
    {
     "data": {
      "application/vnd.jupyter.widget-view+json": {
       "model_id": "0a7ae23e87f84b0fa2e5c27fa6f2e98e",
       "version_major": 2,
       "version_minor": 0
      },
      "text/plain": [
       "Downloading config.json:   0%|          | 0.00/822 [00:00<?, ?B/s]"
      ]
     },
     "metadata": {},
     "output_type": "display_data"
    },
    {
     "data": {
      "application/vnd.jupyter.widget-view+json": {
       "model_id": "d0337823d64444b3945c650ddd033b68",
       "version_major": 2,
       "version_minor": 0
      },
      "text/plain": [
       "Downloading pytorch_model.bin:   0%|          | 0.00/231M [00:00<?, ?B/s]"
      ]
     },
     "metadata": {},
     "output_type": "display_data"
    }
   ],
   "source": [
    "small_model = T5ForConditionalGeneration.from_pretrained('mesolitica/finetune-summarization-t5-small-standard-bahasa-cased')"
   ]
  },
  {
   "cell_type": "code",
   "execution_count": 54,
   "metadata": {},
   "outputs": [],
   "source": [
    "_ = model.cuda()\n",
    "_ = small_model.cuda()"
   ]
  },
  {
   "cell_type": "code",
   "execution_count": 6,
   "metadata": {},
   "outputs": [],
   "source": [
    "import json\n",
    "\n",
    "with open('news-30k.json') as fopen:\n",
    "    news = json.load(fopen)"
   ]
  },
  {
   "cell_type": "code",
   "execution_count": 74,
   "metadata": {},
   "outputs": [
    {
     "data": {
      "text/plain": [
       "976"
      ]
     },
     "execution_count": 74,
     "metadata": {},
     "output_type": "execute_result"
    }
   ],
   "source": [
    "from glob import glob\n",
    "\n",
    "files = glob('news/*.json')\n",
    "len(files)"
   ]
  },
  {
   "cell_type": "code",
   "execution_count": 7,
   "metadata": {},
   "outputs": [
    {
     "data": {
      "text/plain": [
       "29855"
      ]
     },
     "execution_count": 7,
     "metadata": {},
     "output_type": "execute_result"
    }
   ],
   "source": [
    "len(news)"
   ]
  },
  {
   "cell_type": "code",
   "execution_count": 8,
   "metadata": {},
   "outputs": [
    {
     "data": {
      "text/plain": [
       "{'title': 'Ibu saudara Haziq terharu sokongan rakyat Malaysia',\n",
       " 'url': 'https://www.themalaysianinsight.com/bahasa/s/142491',\n",
       " 'news': 'themalaysianinsight',\n",
       " 'language': 'malay',\n",
       " 'top-image': 'https://www.themalaysianinsight.com/resources/stories_images/142491/perhimpunanan_solidarity_kedamaian_03__full.jpg',\n",
       " 'text': 'WARIS keluarga Allahyarham Muhammad Haziq Mohd Tarmizi, 17, yang terkorban dalam tragedi tembakan di Christchurch, New Zealand, pada 15 Mac lepas, melahirkan rasa terharu akan sokongan diberi rakyat Malaysia semasa perhimpunan Solidariti Kedamaian.\\n\\nZarina Shuib , ibu saudara Muhammad Haziq, memanjatkan kesyukuran kepada Allah SWT kerana berkesempatan menyertai rakyat Malaysia dalam perhimpunan itu di Kuala Lumpur hari ini.',\n",
       " 'date': '2019-03-23T03:52:02',\n",
       " 'date_utc': '2019-03-22T19:52:02'}"
      ]
     },
     "execution_count": 8,
     "metadata": {},
     "output_type": "execute_result"
    }
   ],
   "source": [
    "news[0]"
   ]
  },
  {
   "cell_type": "code",
   "execution_count": 9,
   "metadata": {},
   "outputs": [],
   "source": [
    "from unidecode import unidecode\n",
    "import re\n",
    "\n",
    "# minimum cleaning, just simply to remove newlines.\n",
    "def cleaning(string):\n",
    "    string = string.replace('\\n', ' ')\n",
    "    string = re.sub(r'[ ]+', ' ', string).strip()\n",
    "    return string"
   ]
  },
  {
   "cell_type": "code",
   "execution_count": 60,
   "metadata": {},
   "outputs": [
    {
     "data": {
      "text/plain": [
       "(24793, 29855)"
      ]
     },
     "execution_count": 60,
     "metadata": {},
     "output_type": "execute_result"
    }
   ],
   "source": [
    "selected = []\n",
    "already = set()\n",
    "\n",
    "for n in news:\n",
    "    if n['url'] not in already:\n",
    "        selected.append(n)\n",
    "        already.add(n['url'])\n",
    "        \n",
    "len(selected), len(news)"
   ]
  },
  {
   "cell_type": "code",
   "execution_count": 72,
   "metadata": {},
   "outputs": [
    {
     "data": {
      "text/plain": [
       "'PULAU PINANG 23 Mac - Seorang pekerja di sebuah kilang di Bayan Lepas di sini kerugian RM24,000 setelah terpedaya dengan sindiket scam yang menyamar sebagai anggota polis kelmarin. Ketua Polis Daerah Barat Daya, Superintendan A. A. Anbalagan, berkata, mangsa seorang wanita berusia 43 tahun itu telah menerima panggilan kononnya dari kakitangan Hospital Besar Pulau Pinang yang memperkenalkan diri dengan nama Christopher Anak Anor kira-kira pukul 2 petang kelmarin. “Christopher menyatakan bahawa seorang individu nama Lee Song telah menggunakan kad pengenalan mangsa untuk mengambil ubat terkawal di Hospital Seberang Prai dan Hospital Pulau Pinang namun mangsa menafikan mengenali individu tersebut. “Christopher meminta mangsa membuat laporan polis dan mangsa telah disambungkan menerusi telefon untuk bercakap dengan Sarjan Tony yang kemudiannya menyatakan bahawa nama mangsa telah disenarai hitam kerana terlibat dengan jenayah senjata api,” katanya di sini hari ini. Menurut Anbalagan mangsa diberitahu bahawa dia akan ditangkap dan diminta untuk membuat pembayaran jika tidak mahu ditangkap. “Pada hari yang sama mangsa telah melakukan empat transaksi atas talian berjumlah RM24,000 menerusi nombor akaun CIMB. “Selepas itu mangsa diminta untuk membuat bayaran lagi dan mangsa menyedari telah ditipu lalu melaporkan kejadian ini kepada pihak polis,” katanya. - UTUSAN ONLINE'"
      ]
     },
     "execution_count": 72,
     "metadata": {},
     "output_type": "execute_result"
    }
   ],
   "source": [
    "s = cleaning(selected[2]['text'])\n",
    "s"
   ]
  },
  {
   "cell_type": "code",
   "execution_count": 69,
   "metadata": {},
   "outputs": [],
   "source": [
    "from malaya.text.rouge import postprocess_summary\n",
    "\n",
    "def postprocess(s, t):\n",
    "    t = t.replace('£', 'RM')\n",
    "    return postprocess_summary(s, t)\n",
    "\n",
    "minimum_len = 15"
   ]
  },
  {
   "cell_type": "code",
   "execution_count": 76,
   "metadata": {},
   "outputs": [],
   "source": [
    "with open(files[0]) as fopen:\n",
    "    data = json.load(fopen)"
   ]
  },
  {
   "cell_type": "code",
   "execution_count": 77,
   "metadata": {},
   "outputs": [
    {
     "data": {
      "text/plain": [
       "256"
      ]
     },
     "execution_count": 77,
     "metadata": {},
     "output_type": "execute_result"
    }
   ],
   "source": [
    "len(data)"
   ]
  },
  {
   "cell_type": "code",
   "execution_count": 79,
   "metadata": {},
   "outputs": [],
   "source": [
    "s = cleaning(data[0]['text'])"
   ]
  },
  {
   "cell_type": "code",
   "execution_count": 82,
   "metadata": {},
   "outputs": [
    {
     "name": "stdout",
     "output_type": "stream",
     "text": [
      "CPU times: user 780 ms, sys: 10.1 ms, total: 790 ms\n",
      "Wall time: 788 ms\n"
     ]
    },
    {
     "data": {
      "text/plain": [
       "['Pengundi di Sungai Kandis menyaksikan penurunan mendadak peratusan keluar mengundi. Ini adalah yang kedua paling rendah selepas Pilihan Raya Umum ke-12 pada tahun 2009. Sebilangan besar pengundi atas pagar juga mungkin tidak memilih. Kegagalan untuk membentuk kerjasama padu dan sentimen yang dibawa oleh Barisan Nasional (BN) juga boleh menyebabkan kegagalan.',\n",
       " 'Kurang dari faktor PRU mempengaruhi sentimen keluar mengundi, kata Dr Sivamurugan Pandian. Kegagalan BN-PAS membentuk kerjasama padu dan sentimen yang dibawa BN. Sentimen undi protes boleh diteliti dengan lebih mendalam, katanya.']"
      ]
     },
     "execution_count": 82,
     "metadata": {},
     "output_type": "execute_result"
    }
   ],
   "source": [
    "%%time\n",
    "\n",
    "input_ids = tokenizer.encode(f'ringkasan: {s}', return_tensors = 'pt').cuda()\n",
    "outputs = model.generate(input_ids,\n",
    "    max_length=256)\n",
    "\n",
    "small_outputs = small_model.generate(input_ids,\n",
    "    max_length=256)\n",
    "\n",
    "t = tokenizer.batch_decode(outputs, skip_special_tokens=True)\n",
    "t.extend(tokenizer.batch_decode(small_outputs, skip_special_tokens=True))\n",
    "t = [t_ for t_ in t if len(t_.split()) >= minimum_len]\n",
    "t = [postprocess(s, t_) for t_ in t]\n",
    "t = list(set(t))\n",
    "t"
   ]
  },
  {
   "cell_type": "code",
   "execution_count": 81,
   "metadata": {},
   "outputs": [],
   "source": [
    "# input_ids = tokenizer.encode(f'ringkasan: {s}', return_tensors = 'pt').cuda()\n",
    "# outputs = model.generate(input_ids,\n",
    "#     max_length=256,\n",
    "#     num_beams=5, \n",
    "#     no_repeat_ngram_size=2, \n",
    "#     num_return_sequences=5, \n",
    "#     early_stopping=True)\n",
    "\n",
    "# small_outputs = small_model.generate(input_ids,\n",
    "#     max_length=256,\n",
    "#     num_beams=5, \n",
    "#     no_repeat_ngram_size=2, \n",
    "#     num_return_sequences=5, \n",
    "#     early_stopping=True)\n",
    "\n",
    "# t = tokenizer.batch_decode(outputs, skip_special_tokens=True)\n",
    "# t.extend(tokenizer.batch_decode(small_outputs, skip_special_tokens=True))\n",
    "# t = [t_ for t_ in t if len(t_.split()) >= minimum_len]\n",
    "# t = [postprocess(s, t_) for t_ in t]\n",
    "# t = list(set(t))\n",
    "# t"
   ]
  },
  {
   "cell_type": "code",
   "execution_count": null,
   "metadata": {},
   "outputs": [],
   "source": []
  }
 ],
 "metadata": {
  "kernelspec": {
   "display_name": "Python 3 (ipykernel)",
   "language": "python",
   "name": "python3"
  },
  "language_info": {
   "codemirror_mode": {
    "name": "ipython",
    "version": 3
   },
   "file_extension": ".py",
   "mimetype": "text/x-python",
   "name": "python",
   "nbconvert_exporter": "python",
   "pygments_lexer": "ipython3",
   "version": "3.8.10"
  }
 },
 "nbformat": 4,
 "nbformat_minor": 4
}
