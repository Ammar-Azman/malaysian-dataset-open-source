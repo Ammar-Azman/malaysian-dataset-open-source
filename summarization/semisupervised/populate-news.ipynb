{
 "cells": [
  {
   "cell_type": "code",
   "execution_count": 1,
   "metadata": {},
   "outputs": [],
   "source": [
    "from glob import glob\n",
    "from tqdm import tqdm\n",
    "import json"
   ]
  },
  {
   "cell_type": "code",
   "execution_count": 2,
   "metadata": {},
   "outputs": [],
   "source": [
    "import json\n",
    "\n",
    "with open('news-30k.json') as fopen:\n",
    "    news = json.load(fopen)"
   ]
  },
  {
   "cell_type": "code",
   "execution_count": 3,
   "metadata": {},
   "outputs": [
    {
     "data": {
      "text/plain": [
       "974"
      ]
     },
     "execution_count": 3,
     "metadata": {},
     "output_type": "execute_result"
    }
   ],
   "source": [
    "from glob import glob\n",
    "\n",
    "files = sorted(glob('news/*.json'))\n",
    "files = [f for f in files if 'populate-news' not in f]\n",
    "len(files)"
   ]
  },
  {
   "cell_type": "code",
   "execution_count": 20,
   "metadata": {},
   "outputs": [
    {
     "name": "stderr",
     "output_type": "stream",
     "text": [
      "100%|███████████████████████████████████████████████████████████████████████████████████████| 29855/29855 [00:00<00:00, 78823.18it/s]\n",
      "100%|█████████████████████████████████████████████████████████████████████████████████████████████| 974/974 [00:04<00:00, 209.76it/s]\n"
     ]
    },
    {
     "data": {
      "text/plain": [
       "146441"
      ]
     },
     "execution_count": 20,
     "metadata": {},
     "output_type": "execute_result"
    }
   ],
   "source": [
    "selected = []\n",
    "already = set()\n",
    "\n",
    "for n in tqdm(news):\n",
    "    if 'disabled in your browser' in n['text'].lower():\n",
    "        continue\n",
    "        \n",
    "    if len(n['text'].split()) > 1024:\n",
    "        continue\n",
    "    \n",
    "    if n['url'] not in already:\n",
    "        selected.append(n)\n",
    "        already.add(n['url'])\n",
    "        \n",
    "for f in tqdm(files):\n",
    "    with open(f) as fopen:\n",
    "        data = json.load(fopen)\n",
    "    \n",
    "    for n in data:\n",
    "        if 'disabled in your browser' in n['text'].lower():\n",
    "            continue\n",
    "        \n",
    "        if len(n['text'].split()) > 1024:\n",
    "            continue\n",
    "        \n",
    "        if n['url'] not in already:\n",
    "            selected.append(n)\n",
    "            already.add(n['url'])\n",
    "        \n",
    "    \n",
    "len(selected)"
   ]
  },
  {
   "cell_type": "code",
   "execution_count": 21,
   "metadata": {},
   "outputs": [
    {
     "data": {
      "text/plain": [
       "1024"
      ]
     },
     "execution_count": 21,
     "metadata": {},
     "output_type": "execute_result"
    }
   ],
   "source": [
    "lens = [len(n['text'].split()) for n in selected]\n",
    "max(lens)"
   ]
  },
  {
   "cell_type": "code",
   "execution_count": 22,
   "metadata": {},
   "outputs": [
    {
     "data": {
      "text/plain": [
       "89419"
      ]
     },
     "execution_count": 22,
     "metadata": {},
     "output_type": "execute_result"
    }
   ],
   "source": [
    "import numpy as np\n",
    "\n",
    "np.argmax(lens)"
   ]
  },
  {
   "cell_type": "code",
   "execution_count": 23,
   "metadata": {},
   "outputs": [
    {
     "data": {
      "text/plain": [
       "{'title': 'Dishub Didenda Rp 186 Juta karena Derek Parkir Liar, Ini Kata Anies',\n",
       " 'url': 'https://news.detik.com/berita/d-4260268/dishub-didenda-rp-186-juta-karena-derek-parkir-liar-ini-kata-anies',\n",
       " 'authors': ['Muhammad Fida Ul Haq',\n",
       "  'Https',\n",
       "  'Www.Facebook.Com Detikcom',\n",
       "  'Muhammad Fida Ul Haq - Detiknews'],\n",
       " 'top-image': 'https://awsimages.detik.net.id/api/wm/2018/09/28/f7fe4a82-3b0a-4d8b-9137-69f837947d3a_169.jpeg?wid=54&w=650&v=1&t=jpeg',\n",
       " 'text': '- Mahkamah Agung (MA) menghukum Dishub DKI Jakarta membayar denda Rp 186 juta karena menderek mobil parkir liar tanpa pemberitahuan ke pemilik pada tahun 2015. Pemprov DKI siap mematuhi putusan tersebut.\"Kalau kita harus mentaati pengadilan ya. Begitu ada keputusan pengadilan maka tanggung jawab kita adalah menjalankan keputusan MA, jadi kita akan laksanakan,\" kata Gubernur DKI Anies Baswedan kepada wartawan di kampus UIN, Tangerang Selatan, Rabu (17/10/2018).Anies mengatakan putusan tersebut menjadi pelajaran bagi jajarannya agar menjalankan tugas sesuai prosedur. Petugas diminta menjalankan tugasnya dengan benar agar tidak muncul persoalan.\"Kalau ada prosedur yang terlewat, maka di situ lah muncul potensi masalah. Jadi ini pelajaran bagi aparatur. Kalau melaksanakan tugas, taati semua prosedur dan ketentuan. Karena perlindungannya ada di situ,\" jelas Anies.MA menghukum Gubernur DKI Jakarta cq Dishub DKI Jakarta karena menderek kendaraan yang parkir liar. Pemprov DKI dihukum Rp 186 juta.Kasus bermula saat seorang pengacara, Mulyadi, memarkir Nissan X-Trail nopol B-29-Zul di depan PN Jakpus pada 10 November 2015. Kala itu, parkiran di dalam area gedung PN Jakpus sudah penuh, sehingga ia memarkirkan mobilnya di Jalan Gajah Mada. Padahal di jalan itu ada tanda larangan parkir.Saat selesai beracara di pengadilan, ia kaget saat kembali ke Jalan Gajah Mada. Sebab, kendaraan operasional kantornya itu sudah tidak ada di tempat semula.Mulyadi lantas membuat laporan kehilangan kendaraan. Setelah itu, ia menunggu surat pemberitahuan penderekan kendaraan tetapi tidak kunjung datang. Atas hal itu, Mulyadi menilai Dishub lalai memberi tahu adanya penderekan tilang itu. Belakangan diketahui, mobil itu dibawa ke parkiran IRTI Monas.Atas kejadian itu, Mulyadi menggugat Pemprov DKI Jakarta. Mulyadi menilai Pemprov DKI telah melanggar Pasal 97 ayat 4 PP 43/1993 yang berbunyi:Dalam melakukan pemindahan kendaraan sebagaimana dimaksud, petugas yang berwenang harus memberitahukan kepada pemilik atau pemegang kendaraan.Mulyadi mengajukan gugatan materiil Rp 186 juta dan kerugian imateriil Rp 2,5 miliar.\\n\\n[Gambas:Video 20detik]',\n",
       " 'keyword': ['liar',\n",
       "  'didenda',\n",
       "  'rp',\n",
       "  'derek',\n",
       "  'pengadilan',\n",
       "  'mulyadi',\n",
       "  'dki',\n",
       "  'kendaraan',\n",
       "  '186',\n",
       "  'menjalankan',\n",
       "  'dishub',\n",
       "  'pemprov',\n",
       "  'anies',\n",
       "  'prosedur',\n",
       "  'parkir'],\n",
       " 'summary': '- Mahkamah Agung (MA) menghukum Dishub DKI Jakarta membayar denda Rp 186 juta karena menderek mobil parkir liar tanpa pemberitahuan ke pemilik pada tahun 2015.\\nPemprov DKI siap mematuhi putusan tersebut.\\nKarena perlindungannya ada di situ,\" jelas Anies.MA menghukum Gubernur DKI Jakarta cq Dishub DKI Jakarta karena menderek kendaraan yang parkir liar.\\nPemprov DKI dihukum Rp 186 juta.Kasus bermula saat seorang pengacara, Mulyadi, memarkir Nissan X-Trail nopol B-29-Zul di depan PN Jakpus pada 10 November 2015.\\nBelakangan diketahui, mobil itu dibawa ke parkiran IRTI Monas.Atas kejadian itu, Mulyadi menggugat Pemprov DKI Jakarta.',\n",
       " 'news': 'Detiknews',\n",
       " 'date': '10-16-2018',\n",
       " 'language': 'ENGLISH'}"
      ]
     },
     "execution_count": 23,
     "metadata": {},
     "output_type": "execute_result"
    }
   ],
   "source": [
    "selected[95994]"
   ]
  },
  {
   "cell_type": "code",
   "execution_count": 24,
   "metadata": {},
   "outputs": [],
   "source": [
    "with open('populate-news.json', 'w') as fopen:\n",
    "    for s in selected:\n",
    "        fopen.write(f'{json.dumps(s)}\\n')"
   ]
  }
 ],
 "metadata": {
  "kernelspec": {
   "display_name": "Python 3 (ipykernel)",
   "language": "python",
   "name": "python3"
  },
  "language_info": {
   "codemirror_mode": {
    "name": "ipython",
    "version": 3
   },
   "file_extension": ".py",
   "mimetype": "text/x-python",
   "name": "python",
   "nbconvert_exporter": "python",
   "pygments_lexer": "ipython3",
   "version": "3.8.10"
  }
 },
 "nbformat": 4,
 "nbformat_minor": 4
}
