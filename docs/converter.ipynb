{
 "cells": [
  {
   "cell_type": "code",
   "execution_count": 32,
   "id": "fad81a05",
   "metadata": {
    "scrolled": true
   },
   "outputs": [],
   "source": [
    "import os\n",
    "import mistune\n",
    "from glob import glob\n",
    "from mistune.renderers.rst import RSTRenderer"
   ]
  },
  {
   "cell_type": "code",
   "execution_count": 29,
   "id": "69c659ab",
   "metadata": {},
   "outputs": [],
   "source": [
    "folders = glob('../*')\n",
    "rejected = ['docs']\n",
    "folders = [f for f in folders if '.' not in os.path.split(f)[1] and os.path.split(f)[1] not in rejected]"
   ]
  },
  {
   "cell_type": "code",
   "execution_count": 52,
   "id": "d03526e2",
   "metadata": {},
   "outputs": [],
   "source": [
    "tasks = []\n",
    "for f in sorted(folders):\n",
    "    task = os.path.split(f)[1]\n",
    "    nested = sorted(glob(os.path.join(f, '**/*.md'), recursive = True))\n",
    "    combine = [f'# {task}']\n",
    "    for n in nested:\n",
    "        with open(n) as fopen:\n",
    "            t = fopen.read().split('\\n')\n",
    "        splitted = []\n",
    "        for t_ in t:\n",
    "            t_ = t_.strip()\n",
    "            if len(t_) and t_[0] == '#':\n",
    "                t_ = '#' + t_\n",
    "            splitted.append(t_)\n",
    "        combine.append('\\n'.join(splitted).strip())\n",
    "\n",
    "    combine = '\\n\\n'.join(combine)\n",
    "    convert_rst = mistune.create_markdown(renderer=RSTRenderer())\n",
    "    rst = convert_rst(combine)\n",
    "    \n",
    "    with open(f'{task}.rst', 'w') as fopen:\n",
    "        fopen.write(rst)\n",
    "        \n",
    "    tasks.append(f'   {task}')"
   ]
  },
  {
   "cell_type": "code",
   "execution_count": 53,
   "id": "5aead144",
   "metadata": {},
   "outputs": [],
   "source": [
    "tasks = '\\n'.join(tasks)\n",
    "index = f\"\"\"\n",
    ".. malaya documentation master file, created by\n",
    "   sphinx-quickstart on Sat Dec  8 23:44:35 2018.\n",
    "   You can adapt this file completely to your liking, but it should at least\n",
    "   contain the root `toctree` directive.\n",
    "\n",
    "Welcome to Malaysian-Dataset's documentation!\n",
    "=============================================\n",
    "\n",
    ".. include::\n",
    "   README.rst\n",
    "\n",
    "Contents:\n",
    "=========\n",
    "\n",
    ".. toctree::\n",
    "   :maxdepth: 2\n",
    "   :caption: Dataset\n",
    "   \n",
    "{tasks}\n",
    "\"\"\"\n",
    "\n",
    "with open('index.rst', 'w') as fopen:\n",
    "    fopen.write(index)"
   ]
  },
  {
   "cell_type": "code",
   "execution_count": null,
   "id": "949a0b76",
   "metadata": {},
   "outputs": [],
   "source": []
  }
 ],
 "metadata": {
  "kernelspec": {
   "display_name": "Python 3 (ipykernel)",
   "language": "python",
   "name": "python3"
  },
  "language_info": {
   "codemirror_mode": {
    "name": "ipython",
    "version": 3
   },
   "file_extension": ".py",
   "mimetype": "text/x-python",
   "name": "python",
   "nbconvert_exporter": "python",
   "pygments_lexer": "ipython3",
   "version": "3.8.10"
  }
 },
 "nbformat": 4,
 "nbformat_minor": 5
}
