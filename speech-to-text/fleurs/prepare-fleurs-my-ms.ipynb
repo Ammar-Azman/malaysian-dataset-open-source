{
 "cells": [
  {
   "cell_type": "code",
   "execution_count": 1,
   "id": "079b5fb0",
   "metadata": {},
   "outputs": [],
   "source": [
    "from datasets import load_dataset\n",
    "\n",
    "train = load_dataset('google/fleurs', 'ms_my', split='train')"
   ]
  },
  {
   "cell_type": "code",
   "execution_count": 2,
   "id": "ec73e8e7",
   "metadata": {},
   "outputs": [],
   "source": [
    "test = load_dataset('google/fleurs', 'ms_my', split='test')"
   ]
  },
  {
   "cell_type": "code",
   "execution_count": 6,
   "id": "ab856d60",
   "metadata": {},
   "outputs": [],
   "source": [
    "!mkdir fleurs-train fleurs-test"
   ]
  },
  {
   "cell_type": "code",
   "execution_count": 7,
   "id": "0c08b0b7",
   "metadata": {},
   "outputs": [],
   "source": [
    "import soundfile as sf\n",
    "from tqdm import tqdm"
   ]
  },
  {
   "cell_type": "code",
   "execution_count": 12,
   "id": "c290d92d",
   "metadata": {},
   "outputs": [
    {
     "name": "stderr",
     "output_type": "stream",
     "text": [
      "100%|██████████| 2667/2667 [04:16<00:00, 10.40it/s]\n"
     ]
    }
   ],
   "source": [
    "train_text = []\n",
    "\n",
    "for i in tqdm(range(len(train))):\n",
    "    audio_filename = f'fleurs-train/{i}.mp3'\n",
    "    t = train[i]['raw_transcription']\n",
    "    t = f'<|startoftranscript|><|ms|><|transcribe|> {t}<|endoftext|>'\n",
    "    a = train[i]['audio']['array']\n",
    "    sf.write(audio_filename, a, 16000)\n",
    "    \n",
    "    train_text.append({\n",
    "        'new_text': t,\n",
    "        'audio_filename': audio_filename\n",
    "    })"
   ]
  },
  {
   "cell_type": "code",
   "execution_count": 8,
   "id": "009bd5fc",
   "metadata": {},
   "outputs": [
    {
     "name": "stderr",
     "output_type": "stream",
     "text": [
      "100%|██████████| 749/749 [01:58<00:00,  6.31it/s]\n"
     ]
    }
   ],
   "source": [
    "test_text = []\n",
    "\n",
    "for i in tqdm(range(len(test))):\n",
    "    audio_filename = f'fleurs-test/{i}.mp3'\n",
    "    t = test[i]['raw_transcription']\n",
    "    t = f'<|startoftranscript|><|ms|><|transcribe|> {t}<|endoftext|>'\n",
    "    a = test[i]['audio']['array']\n",
    "    sf.write(audio_filename, a, 16000)\n",
    "    \n",
    "    test_text.append({\n",
    "        'new_text': t,\n",
    "        'audio_filename': audio_filename\n",
    "    })"
   ]
  },
  {
   "cell_type": "code",
   "execution_count": 10,
   "id": "5f976aaa",
   "metadata": {},
   "outputs": [],
   "source": [
    "import json\n",
    "\n",
    "with open('train-fleurs.json', 'w') as fopen:\n",
    "    json.dump(train_text, fopen)\n",
    "    \n",
    "with open('test-fleurs.json', 'w') as fopen:\n",
    "    json.dump(test_text, fopen)"
   ]
  },
  {
   "cell_type": "code",
   "execution_count": 11,
   "id": "5e7f7fff",
   "metadata": {},
   "outputs": [
    {
     "name": "stdout",
     "output_type": "stream",
     "text": [
      "Reading package lists... Done\n",
      "Building dependency tree... Done\n",
      "Reading state information... Done\n",
      "zip is already the newest version (3.0-12build2).\n",
      "0 upgraded, 0 newly installed, 0 to remove and 34 not upgraded.\n",
      "\u001b[1;33mW: \u001b[0mTarget Packages (main/binary-amd64/Packages) is configured multiple times in /etc/apt/sources.list.d/google-chrome.list:3 and /etc/apt/sources.list.d/google.list:1\u001b[0m\n",
      "\u001b[1;33mW: \u001b[0mTarget Packages (main/binary-all/Packages) is configured multiple times in /etc/apt/sources.list.d/google-chrome.list:3 and /etc/apt/sources.list.d/google.list:1\u001b[0m\n"
     ]
    }
   ],
   "source": [
    "!sudo apt install zip -y"
   ]
  },
  {
   "cell_type": "code",
   "execution_count": 13,
   "id": "6c390662",
   "metadata": {},
   "outputs": [],
   "source": [
    "# !zip -r fleurs-test.zip fleurs-test\n",
    "# !zip -r fleurs-train.zip fleurs-train"
   ]
  },
  {
   "cell_type": "code",
   "execution_count": 14,
   "id": "94b2128e",
   "metadata": {},
   "outputs": [],
   "source": [
    "from huggingface_hub import HfApi\n",
    "api = HfApi()"
   ]
  },
  {
   "cell_type": "code",
   "execution_count": 15,
   "id": "f28ec9c3",
   "metadata": {},
   "outputs": [
    {
     "data": {
      "application/vnd.jupyter.widget-view+json": {
       "model_id": "2543ca01159c4a29b1af08e0ef76d47c",
       "version_major": 2,
       "version_minor": 0
      },
      "text/plain": [
       "fleurs-test.zip:   0%|          | 0.00/41.1M [00:00<?, ?B/s]"
      ]
     },
     "metadata": {},
     "output_type": "display_data"
    },
    {
     "data": {
      "text/plain": [
       "'https://huggingface.co/datasets/malaysia-ai/fleurs-my-ms/blob/main/fleurs-test.zip'"
      ]
     },
     "execution_count": 15,
     "metadata": {},
     "output_type": "execute_result"
    }
   ],
   "source": [
    "api.upload_file(\n",
    "    path_or_fileobj='fleurs-test.zip',\n",
    "    path_in_repo='fleurs-test.zip',\n",
    "    repo_id='malaysia-ai/fleurs-my-ms',\n",
    "    repo_type='dataset',\n",
    ")"
   ]
  },
  {
   "cell_type": "code",
   "execution_count": 9,
   "id": "9ed91c00",
   "metadata": {},
   "outputs": [
    {
     "data": {
      "application/vnd.jupyter.widget-view+json": {
       "model_id": "3231c93041044a2b843c5b6268e700f0",
       "version_major": 2,
       "version_minor": 0
      },
      "text/plain": [
       "fleurs-train.zip:   0%|          | 0.00/173M [00:00<?, ?B/s]"
      ]
     },
     "metadata": {},
     "output_type": "display_data"
    },
    {
     "data": {
      "text/plain": [
       "'https://huggingface.co/datasets/malaysia-ai/fleurs-my-ms/blob/main/fleurs-train.zip'"
      ]
     },
     "execution_count": 9,
     "metadata": {},
     "output_type": "execute_result"
    }
   ],
   "source": [
    "api.upload_file(\n",
    "    path_or_fileobj='fleurs-train.zip',\n",
    "    path_in_repo='fleurs-train.zip',\n",
    "    repo_id='malaysia-ai/fleurs-my-ms',\n",
    "    repo_type='dataset',\n",
    ")"
   ]
  },
  {
   "cell_type": "code",
   "execution_count": 11,
   "id": "fb96b87c",
   "metadata": {},
   "outputs": [
    {
     "data": {
      "text/plain": [
       "'https://huggingface.co/datasets/malaysia-ai/fleurs-my-ms/blob/main/train-fleurs.json'"
      ]
     },
     "execution_count": 11,
     "metadata": {},
     "output_type": "execute_result"
    }
   ],
   "source": [
    "api.upload_file(\n",
    "    path_or_fileobj='train-fleurs.json',\n",
    "    path_in_repo='train-fleurs.json',\n",
    "    repo_id='malaysia-ai/fleurs-my-ms',\n",
    "    repo_type='dataset',\n",
    ")"
   ]
  },
  {
   "cell_type": "code",
   "execution_count": 16,
   "id": "6332b7fb",
   "metadata": {},
   "outputs": [
    {
     "data": {
      "text/plain": [
       "'https://huggingface.co/datasets/malaysia-ai/fleurs-my-ms/blob/main/test-fleurs.json'"
      ]
     },
     "execution_count": 16,
     "metadata": {},
     "output_type": "execute_result"
    }
   ],
   "source": [
    "api.upload_file(\n",
    "    path_or_fileobj='test-fleurs.json',\n",
    "    path_in_repo='test-fleurs.json',\n",
    "    repo_id='malaysia-ai/fleurs-my-ms',\n",
    "    repo_type='dataset',\n",
    ")"
   ]
  },
  {
   "cell_type": "code",
   "execution_count": null,
   "id": "a38f00c7",
   "metadata": {},
   "outputs": [],
   "source": []
  }
 ],
 "metadata": {
  "kernelspec": {
   "display_name": "Python 3 (ipykernel)",
   "language": "python",
   "name": "python3"
  },
  "language_info": {
   "codemirror_mode": {
    "name": "ipython",
    "version": 3
   },
   "file_extension": ".py",
   "mimetype": "text/x-python",
   "name": "python",
   "nbconvert_exporter": "python",
   "pygments_lexer": "ipython3",
   "version": "3.10.12"
  }
 },
 "nbformat": 4,
 "nbformat_minor": 5
}
