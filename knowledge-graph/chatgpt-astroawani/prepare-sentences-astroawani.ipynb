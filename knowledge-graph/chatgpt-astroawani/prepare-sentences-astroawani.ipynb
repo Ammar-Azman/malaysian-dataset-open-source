{
 "cells": [
  {
   "cell_type": "code",
   "execution_count": 2,
   "metadata": {},
   "outputs": [],
   "source": [
    "# !wget https://huggingface.co/datasets/mesolitica/crawl-astroawani/resolve/main/berita-dunia-v2.json.nested\n",
    "# !wget https://huggingface.co/datasets/mesolitica/crawl-astroawani/resolve/main/berita-hiburan-v2.json.nested\n",
    "# !wget https://huggingface.co/datasets/mesolitica/crawl-astroawani/resolve/main/berita-malaysia-v2.json.nested\n",
    "# !wget https://huggingface.co/datasets/mesolitica/crawl-astroawani/resolve/main/berita-politik-v2.json.nested\n",
    "# !wget https://huggingface.co/datasets/mesolitica/crawl-astroawani/resolve/main/berita-sukan-v2.json.nested\n",
    "# !wget https://huggingface.co/datasets/mesolitica/crawl-astroawani/resolve/main/berita-teknologi-v2.json.nested\n",
    "# !wget https://huggingface.co/datasets/mesolitica/crawl-astroawani/resolve/main/gaya-hidup-v2.json.nested"
   ]
  },
  {
   "cell_type": "code",
   "execution_count": 8,
   "metadata": {},
   "outputs": [],
   "source": [
    "import json\n",
    "import malaya\n",
    "from bs4 import BeautifulSoup\n",
    "from glob import glob\n",
    "from tqdm import tqdm\n",
    "import random"
   ]
  },
  {
   "cell_type": "code",
   "execution_count": 5,
   "metadata": {
    "scrolled": true
   },
   "outputs": [
    {
     "data": {
      "text/plain": [
       "['berita-bisnes-v2.json.nested',\n",
       " 'berita-dunia-v2.json.nested',\n",
       " 'berita-hiburan-v2.json.nested',\n",
       " 'berita-malaysia-v2.json.nested',\n",
       " 'berita-politik-v2.json.nested',\n",
       " 'berita-sukan-v2.json.nested',\n",
       " 'berita-teknologi-v2.json.nested',\n",
       " 'gaya-hidup-v2.json.nested']"
      ]
     },
     "execution_count": 5,
     "metadata": {},
     "output_type": "execute_result"
    }
   ],
   "source": [
    "files = sorted(glob('*.json.nested'))\n",
    "files"
   ]
  },
  {
   "cell_type": "code",
   "execution_count": 15,
   "metadata": {},
   "outputs": [
    {
     "name": "stdout",
     "output_type": "stream",
     "text": [
      "berita-bisnes-v2.json.nested\n"
     ]
    },
    {
     "name": "stderr",
     "output_type": "stream",
     "text": [
      "100%|█████████████████████████████████████████████████████████████████████████████████████████████████████| 10000/10000 [00:02<00:00, 4194.23it/s]\n"
     ]
    },
    {
     "name": "stdout",
     "output_type": "stream",
     "text": [
      "berita-dunia-v2.json.nested\n"
     ]
    },
    {
     "name": "stderr",
     "output_type": "stream",
     "text": [
      "100%|█████████████████████████████████████████████████████████████████████████████████████████████████████| 10000/10000 [00:01<00:00, 5765.13it/s]\n"
     ]
    },
    {
     "name": "stdout",
     "output_type": "stream",
     "text": [
      "berita-hiburan-v2.json.nested\n"
     ]
    },
    {
     "name": "stderr",
     "output_type": "stream",
     "text": [
      "100%|█████████████████████████████████████████████████████████████████████████████████████████████████████| 10000/10000 [00:02<00:00, 3854.56it/s]\n"
     ]
    },
    {
     "name": "stdout",
     "output_type": "stream",
     "text": [
      "berita-malaysia-v2.json.nested\n"
     ]
    },
    {
     "name": "stderr",
     "output_type": "stream",
     "text": [
      "100%|█████████████████████████████████████████████████████████████████████████████████████████████████████| 10000/10000 [00:01<00:00, 5270.16it/s]\n"
     ]
    },
    {
     "name": "stdout",
     "output_type": "stream",
     "text": [
      "berita-politik-v2.json.nested\n"
     ]
    },
    {
     "name": "stderr",
     "output_type": "stream",
     "text": [
      "100%|█████████████████████████████████████████████████████████████████████████████████████████████████████| 10000/10000 [00:02<00:00, 3798.98it/s]\n"
     ]
    },
    {
     "name": "stdout",
     "output_type": "stream",
     "text": [
      "berita-sukan-v2.json.nested\n"
     ]
    },
    {
     "name": "stderr",
     "output_type": "stream",
     "text": [
      "100%|█████████████████████████████████████████████████████████████████████████████████████████████████████| 10000/10000 [00:02<00:00, 4639.86it/s]\n"
     ]
    },
    {
     "name": "stdout",
     "output_type": "stream",
     "text": [
      "berita-teknologi-v2.json.nested\n"
     ]
    },
    {
     "name": "stderr",
     "output_type": "stream",
     "text": [
      "100%|█████████████████████████████████████████████████████████████████████████████████████████████████████████| 998/998 [00:00<00:00, 4144.47it/s]\n"
     ]
    },
    {
     "name": "stdout",
     "output_type": "stream",
     "text": [
      "gaya-hidup-v2.json.nested\n"
     ]
    },
    {
     "name": "stderr",
     "output_type": "stream",
     "text": [
      "100%|███████████████████████████████████████████████████████████████████████████████████████████████████████| 5366/5366 [00:01<00:00, 3493.21it/s]\n"
     ]
    }
   ],
   "source": [
    "with open('astroawani.jsonl', 'w') as fopen_l:\n",
    "    for f in files:\n",
    "        print(f)\n",
    "        with open(f) as fopen:\n",
    "            data = json.load(fopen)\n",
    "        for d in tqdm(data):\n",
    "            if 'articleBody' not in d['r']['response']:\n",
    "                continue\n",
    "            if random.random() > 0.2:\n",
    "                continue\n",
    "            try:\n",
    "                soup = BeautifulSoup(d['r']['response']['articleBody'], \"lxml\")\n",
    "                text = BeautifulSoup(soup.get_text(separator=\"\\n\").strip(), \"lxml\").get_text(separator=\"\\n\").strip()\n",
    "                splitted = malaya.text.function.split_into_sentences(text, minimum_length = 15)\n",
    "                d_ = {\n",
    "                    'id': d['original']['id'],\n",
    "                    'title': d['r']['response']['title'],\n",
    "                    'description': d['r']['response']['description'],\n",
    "                    'body': splitted,\n",
    "                }\n",
    "                fopen_l.write(f'{json.dumps(d_)}\\n')\n",
    "                fopen_l.flush()\n",
    "            except Exception as e:\n",
    "                print(e)\n",
    "                pass"
   ]
  },
  {
   "cell_type": "code",
   "execution_count": 16,
   "metadata": {},
   "outputs": [
    {
     "name": "stdout",
     "output_type": "stream",
     "text": [
      "{\"id\": 400327, \"title\": \"Nilai ringgit rendah berbanding dolar AS, kenaikan kadar AS terus diberi tumpuan\", \"description\": \"Nilai ringgit dibuka rendah berbanding dolar AS pada pagi urus niaga Khamis.\", \"body\": [\"Nilai ringgit dibuka rendah berbanding dolar AS pada pagi urus niaga Khamis, apabila dolar AS mengukuh selepas Rizab Persekutuan Amerika Syarikat (AS) mengesahkan ia akan terus memberi tumpuan kepada kenaikan kadar tahun ini, kata peniaga.\", \"Pada 9 pagi, mata wang tempatan menyusut nilai kepada 4.4015/4055 berbanding dolar AS daripada penutupan hari Rabu 4.3960/4010.\", \"Rakan pengurusan SPI Asset Management Stephen Innes berkata ringgit dibuka agak rendah hari ini apabila pasaran mencerna minit mesyuarat Jawatankuasa Pasaran Terbuka Persekutuan AS yang cenderung untuk menaikkan kadar faedah.\", \"\\\"Ini selaras dengan apa yang kami telah bayangkan untuk pasaran pertukaran asing tempatan akan bergerak minggu ini, dengan 4.40 menjadi penghalang yang sengit kerana harga gas asli dan minyak yang lebih rendah tidak membantu ringgit.\", \"\\\"Walau bagaimanapun, dengan mengecualikan kebangkitan semula harga tenaga, inflasi di AS berkemungkinan memuncak dan ini sepatutnya menawarkan lebih banyak skop untuk Rizab Persekutuan mengurangkan saiz kenaikan kadar.\", \"\\\"Kami menjangkakan kenaikan 25 mata asas pada Februari, yang seharusnya menjadi berita baik untuk ringgit,\\\" katanya kepada Bernama.\", \"\\\"Pada masa ini, data masih terlalu tepu dengan kebimbangan kemelesetan.\", \"Bagaimanapun, saya menjangkakan rakyat tempatan akan menggunakan sebarang kelemahan dalam ringgit sebagai peluang membeli, memandangkan pembukaan semula China yang pantas,\\\" katanya.\", \"Sementara itu, ringgit diniagakan kebanyakannya rendah berbanding sekumpulan mata wang utama.\", \"Mata wang tempatan menyusut nilai berbanding pound Britain kepada 5.3139/3188 daripada 5.3011/3072 pada penutup Rabu, turun berbanding euro menjadi 4.6784/6826 daripada 4.6650/6703 semalam, dan lemah berbanding dolar Singapura kepada 3.2845/2879 daripada 3.2823/2863 sebelumnya.\", \"Namun begitu, ringgit menambah nilai berbanding yen Jepun kepada 3.3373/3408 daripada 3.3694/3734 semalam.\"]}\r\n"
     ]
    }
   ],
   "source": [
    "!head -n 1 astroawani.jsonl"
   ]
  },
  {
   "cell_type": "code",
   "execution_count": 17,
   "metadata": {},
   "outputs": [
    {
     "name": "stdout",
     "output_type": "stream",
     "text": [
      "12357 astroawani.jsonl\r\n"
     ]
    }
   ],
   "source": [
    "!wc -l astroawani.jsonl"
   ]
  }
 ],
 "metadata": {
  "kernelspec": {
   "display_name": "Python 3 (ipykernel)",
   "language": "python",
   "name": "python3"
  },
  "language_info": {
   "codemirror_mode": {
    "name": "ipython",
    "version": 3
   },
   "file_extension": ".py",
   "mimetype": "text/x-python",
   "name": "python",
   "nbconvert_exporter": "python",
   "pygments_lexer": "ipython3",
   "version": "3.8.10"
  }
 },
 "nbformat": 4,
 "nbformat_minor": 4
}
