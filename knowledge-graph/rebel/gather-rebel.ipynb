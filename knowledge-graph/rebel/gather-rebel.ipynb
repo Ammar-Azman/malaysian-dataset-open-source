{
 "cells": [
  {
   "cell_type": "code",
   "execution_count": 1,
   "id": "3d8dba2e",
   "metadata": {},
   "outputs": [
    {
     "name": "stdout",
     "output_type": "stream",
     "text": [
      "en_test.jsonl  en_train.jsonl  en_val.jsonl\r\n"
     ]
    }
   ],
   "source": [
    "# !wget https://huggingface.co/datasets/Babelscape/rebel-dataset/resolve/main/rebel_dataset.zip\n",
    "# !unzip rebel_dataset.zip\n",
    "!ls en_*.jsonl"
   ]
  },
  {
   "cell_type": "code",
   "execution_count": 7,
   "id": "4f827bbd",
   "metadata": {},
   "outputs": [],
   "source": [
    "import re\n",
    "import json\n",
    "\n",
    "def rebel_format(triplets):\n",
    "    \"\"\"\n",
    "    Convert\n",
    "    [['Bruno Santana', 'participant of', '2004 Summer Olympics'],\n",
    "    ['Bruno Santana', 'participant of', '2008 Summer Olympics'],\n",
    "    ['Bruno Santana', 'country of citizenship', 'Brazil']]\n",
    "    to rebel format,\n",
    "    <triplet> Bruno Santana <subj> 2004 Summer Olympics <obj> participant of <subj> 2008 Summer Olympics <obj> participant of <subj> Brazil <obj> country of citizenship\n",
    "    \"\"\"\n",
    "    q = []\n",
    "    for no, triple in enumerate(triplets):\n",
    "        obj = ['<obj>'] + triple[1].split()\n",
    "        subj = ['<subj>'] + triple[2].split()\n",
    "        if no > 0 and triple[0] == triplets[no - 1][0]:\n",
    "            q.extend(subj + obj)\n",
    "        else:\n",
    "            triplet = ['<triplet>'] + triple[0].split()\n",
    "            q.extend(triplet + subj + obj)\n",
    "    \n",
    "    return re.sub(r'[ ]+', ' ', ' '.join(q)).strip()\n",
    "\n",
    "def parse_rebel(text):\n",
    "    triplets = []\n",
    "    relation, subject, relation, object_ = '', '', '', ''\n",
    "    text = text.strip()\n",
    "    current = 'x'\n",
    "    for token in text.replace('<s>', '').replace(\"<pad>\", '').replace('</s>', '').split():\n",
    "        if token == '<triplet>':\n",
    "            current = 't'\n",
    "            if relation != '':\n",
    "                triplets.append(\n",
    "                    {'head': subject.strip(), 'type': relation.strip(), 'tail': object_.strip()})\n",
    "                relation = ''\n",
    "            subject = ''\n",
    "        elif token == '<subj>':\n",
    "            current = 's'\n",
    "            if relation != '':\n",
    "                triplets.append(\n",
    "                    {'head': subject.strip(), 'type': relation.strip(), 'tail': object_.strip()})\n",
    "            object_ = ''\n",
    "        elif token == '<obj>':\n",
    "            current = 'o'\n",
    "            relation = ''\n",
    "        else:\n",
    "            if current == 't':\n",
    "                subject += ' ' + token\n",
    "            elif current == 's':\n",
    "                object_ += ' ' + token\n",
    "            elif current == 'o':\n",
    "                relation += ' ' + token\n",
    "    if subject != '' and relation != '' and object_ != '':\n",
    "        triplets.append({'head': subject.strip(),\n",
    "                         'type': relation.strip(),\n",
    "                         'tail': object_.strip()})\n",
    "    return triplets"
   ]
  },
  {
   "cell_type": "code",
   "execution_count": 8,
   "id": "ed2511be",
   "metadata": {},
   "outputs": [
    {
     "data": {
      "text/plain": [
       "['en_test.jsonl', 'en_val.jsonl', 'en_train.jsonl']"
      ]
     },
     "execution_count": 8,
     "metadata": {},
     "output_type": "execute_result"
    }
   ],
   "source": [
    "from glob import glob\n",
    "\n",
    "files = glob('en_*.jsonl')\n",
    "files"
   ]
  },
  {
   "cell_type": "code",
   "execution_count": 15,
   "id": "43eef9f3",
   "metadata": {
    "scrolled": true
   },
   "outputs": [
    {
     "data": {
      "text/plain": [
       "5399956"
      ]
     },
     "execution_count": 15,
     "metadata": {},
     "output_type": "execute_result"
    }
   ],
   "source": [
    "mapping = {}\n",
    "for f in glob('rebel.jsonl*.splitted.requested'):\n",
    "    with open(f) as fopen:\n",
    "        for l in fopen:\n",
    "            l = json.loads(l)\n",
    "            mapping[l['src']] = l['r']\n",
    "len(mapping)"
   ]
  },
  {
   "cell_type": "code",
   "execution_count": 67,
   "id": "c8cc3384",
   "metadata": {},
   "outputs": [],
   "source": [
    "!rm en_train.translated.jsonl"
   ]
  },
  {
   "cell_type": "code",
   "execution_count": 69,
   "id": "8b5ed4e0",
   "metadata": {},
   "outputs": [
    {
     "name": "stderr",
     "output_type": "stream",
     "text": [
      "152836it [00:09, 15816.80it/s]\n",
      "152673it [00:09, 15954.21it/s]\n",
      "2754388it [02:49, 16275.65it/s]\n"
     ]
    }
   ],
   "source": [
    "from tqdm import tqdm\n",
    "\n",
    "for f in files:\n",
    "    with open(f'{f}.translated', 'w') as fopen_l:\n",
    "        with open(f) as fopen:\n",
    "            for l in tqdm(fopen):\n",
    "                data = json.loads(l)\n",
    "                triples = []\n",
    "                for t in data['triples']:\n",
    "                    triples.append([t['subject']['surfaceform'], t['predicate']['surfaceform'], t['object']['surfaceform']])\n",
    "                kg = rebel_format(triples).strip()\n",
    "                text = data['text'].strip()\n",
    "                kg_ms = mapping.get(kg)\n",
    "                if isinstance(kg_ms, str):\n",
    "                    kg_ms = kg_ms.replace('Tempat terbang', 'triplet')\n",
    "                    if kg_ms[:1] == '\"':\n",
    "                        kg_ms = kg_ms[1:]\n",
    "                    if kg_ms[-1] == '\"':\n",
    "                        kg_ms = kg_ms[:-1]\n",
    "                    if kg_ms[:1] == \"'\":\n",
    "                        kg_ms = kg_ms[1:]\n",
    "                    if kg_ms[-1] == \"'\":\n",
    "                        kg_ms = kg_ms[:-1]\n",
    "                    try:\n",
    "                        kg_ms = parse_rebel(kg_ms)\n",
    "                    except Exception as e:\n",
    "                        print(e)\n",
    "                        kg_ms = None\n",
    "                data['triples_ms'] = kg_ms\n",
    "                data['text_ms'] = mapping.get(text)\n",
    "                fopen_l.write(f'{json.dumps(data)}\\n')"
   ]
  },
  {
   "cell_type": "code",
   "execution_count": 71,
   "id": "ac0ab3a7",
   "metadata": {},
   "outputs": [
    {
     "name": "stdout",
     "output_type": "stream",
     "text": [
      "{\"docid\": \"33187252\", \"title\": \"Betadevario ramachandrani\", \"uri\": \"Q167998\", \"text\": \"Betadevario ramachandrani is a species of cyprinid fish that is found only in the upper Seetha River drainage in Karnataka, India. It is the only member of its genus, Betadevario. It was found in cascade and riffle-pools of a high-altitude stream.\", \"entities\": [{\"uri\": \"Q35047\", \"boundaries\": [42, 50], \"surfaceform\": \"cyprinid\", \"annotator\": \"Me\"}, {\"uri\": \"Q24930508\", \"boundaries\": [88, 100], \"surfaceform\": \"Seetha River\", \"annotator\": \"Me\"}, {\"uri\": \"Q1185\", \"boundaries\": [113, 122], \"surfaceform\": \"Karnataka\", \"annotator\": \"Me\"}, {\"uri\": \"Q668\", \"boundaries\": [124, 129], \"surfaceform\": \"India\", \"annotator\": \"Me\"}, {\"uri\": \"Q167998\", \"boundaries\": [0, 25], \"surfaceform\": \"Betadevario ramachandrani\", \"annotator\": \"Me\"}], \"triples\": [{\"subject\": {\"uri\": \"Q24930508\", \"boundaries\": [88, 100], \"surfaceform\": \"Seetha River\", \"annotator\": \"Me\"}, \"predicate\": {\"uri\": \"P131\", \"boundaries\": null, \"surfaceform\": \"located in the administrative territorial entity\", \"annotator\": \"Simple-Aligner\"}, \"object\": {\"uri\": \"Q1185\", \"boundaries\": [113, 122], \"surfaceform\": \"Karnataka\", \"annotator\": \"Me\"}, \"sentence_id\": 0, \"dependency_path\": null, \"confidence\": null, \"annotator\": \"Simple-Aligner\"}, {\"subject\": {\"uri\": \"Q24930508\", \"boundaries\": [88, 100], \"surfaceform\": \"Seetha River\", \"annotator\": \"Me\"}, \"predicate\": {\"uri\": \"P17\", \"boundaries\": null, \"surfaceform\": \"country\", \"annotator\": \"Simple-Aligner\"}, \"object\": {\"uri\": \"Q668\", \"boundaries\": [124, 129], \"surfaceform\": \"India\", \"annotator\": \"Me\"}, \"sentence_id\": 0, \"dependency_path\": null, \"confidence\": null, \"annotator\": \"Simple-Aligner\"}, {\"subject\": {\"uri\": \"Q1185\", \"boundaries\": [113, 122], \"surfaceform\": \"Karnataka\", \"annotator\": \"Me\"}, \"predicate\": {\"uri\": \"P17\", \"boundaries\": null, \"surfaceform\": \"country\", \"annotator\": \"Simple-Aligner\"}, \"object\": {\"uri\": \"Q668\", \"boundaries\": [124, 129], \"surfaceform\": \"India\", \"annotator\": \"Me\"}, \"sentence_id\": 0, \"dependency_path\": null, \"confidence\": null, \"annotator\": \"Simple-Aligner\"}, {\"subject\": {\"uri\": \"Q668\", \"boundaries\": [124, 129], \"surfaceform\": \"India\", \"annotator\": \"Me\"}, \"predicate\": {\"uri\": \"P150\", \"boundaries\": null, \"surfaceform\": \"contains administrative territorial entity\", \"annotator\": \"Simple-Aligner\"}, \"object\": {\"uri\": \"Q1185\", \"boundaries\": [113, 122], \"surfaceform\": \"Karnataka\", \"annotator\": \"Me\"}, \"sentence_id\": 0, \"dependency_path\": null, \"confidence\": null, \"annotator\": \"Simple-Aligner\"}], \"triples_ms\": [{\"head\": \"Sungai Seetha\", \"type\": \"terletak dalam entiti wilayah pentadbiran\", \"tail\": \"Karnataka\"}, {\"head\": \"Sungai Seetha\", \"type\": \"negara\", \"tail\": \"India\"}, {\"head\": \"Karnataka\", \"type\": \"negara\", \"tail\": \"India\"}, {\"head\": \"India\", \"type\": \"mengandungi entiti wilayah pentadbiran\", \"tail\": \"Karnataka\"}], \"text_ms\": \"Betadevario ramachandrani ialah spesies ikan cyprinid yang hanya terdapat di saliran Sungai Seetha di Karnataka, India. Ia adalah satu-satunya ahli genusnya, Betadevario. Ia ditemui dalam laras dan riffle-pool aliran altitud tinggi.\"}\r\n"
     ]
    }
   ],
   "source": [
    "!tail -n 1 en_train.jsonl.translated"
   ]
  },
  {
   "cell_type": "code",
   "execution_count": null,
   "id": "d6597fa1",
   "metadata": {},
   "outputs": [],
   "source": []
  }
 ],
 "metadata": {
  "kernelspec": {
   "display_name": "Python 3 (ipykernel)",
   "language": "python",
   "name": "python3"
  },
  "language_info": {
   "codemirror_mode": {
    "name": "ipython",
    "version": 3
   },
   "file_extension": ".py",
   "mimetype": "text/x-python",
   "name": "python",
   "nbconvert_exporter": "python",
   "pygments_lexer": "ipython3",
   "version": "3.8.10"
  }
 },
 "nbformat": 4,
 "nbformat_minor": 5
}
