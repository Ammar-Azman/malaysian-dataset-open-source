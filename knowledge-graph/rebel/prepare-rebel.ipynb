{
 "cells": [
  {
   "cell_type": "code",
   "execution_count": 3,
   "id": "3d8dba2e",
   "metadata": {},
   "outputs": [
    {
     "name": "stdout",
     "output_type": "stream",
     "text": [
      "en_test.jsonl  en_train.jsonl  en_val.jsonl\r\n"
     ]
    }
   ],
   "source": [
    "# !wget https://huggingface.co/datasets/Babelscape/rebel-dataset/resolve/main/rebel_dataset.zip\n",
    "# !unzip rebel_dataset.zip\n",
    "!ls en_*.jsonl"
   ]
  },
  {
   "cell_type": "code",
   "execution_count": 4,
   "id": "4f827bbd",
   "metadata": {},
   "outputs": [],
   "source": [
    "import re\n",
    "\n",
    "def rebel_format(triplets):\n",
    "    \"\"\"\n",
    "    Convert\n",
    "    [['Bruno Santana', 'participant of', '2004 Summer Olympics'],\n",
    "    ['Bruno Santana', 'participant of', '2008 Summer Olympics'],\n",
    "    ['Bruno Santana', 'country of citizenship', 'Brazil']]\n",
    "    to rebel format,\n",
    "    <triplet> Bruno Santana <subj> 2004 Summer Olympics <obj> participant of <subj> 2008 Summer Olympics <obj> participant of <subj> Brazil <obj> country of citizenship\n",
    "    \"\"\"\n",
    "    q = []\n",
    "    for no, triple in enumerate(triplets):\n",
    "        obj = ['<obj>'] + triple[1].split()\n",
    "        subj = ['<subj>'] + triple[2].split()\n",
    "        if no > 0 and triple[0] == triplets[no - 1][0]:\n",
    "            q.extend(subj + obj)\n",
    "        else:\n",
    "            triplet = ['<triplet>'] + triple[0].split()\n",
    "            q.extend(triplet + subj + obj)\n",
    "    \n",
    "    return re.sub(r'[ ]+', ' ', ' '.join(q)).strip()"
   ]
  },
  {
   "cell_type": "code",
   "execution_count": 5,
   "id": "ed2511be",
   "metadata": {},
   "outputs": [],
   "source": [
    "from glob import glob\n",
    "\n",
    "files = glob('en_*.jsonl')"
   ]
  },
  {
   "cell_type": "code",
   "execution_count": 12,
   "id": "00eda5e3",
   "metadata": {},
   "outputs": [
    {
     "name": "stderr",
     "output_type": "stream",
     "text": [
      "152836it [00:04, 37775.30it/s]\n",
      "152673it [00:04, 37845.76it/s]\n",
      "2754388it [01:12, 37902.12it/s]\n"
     ]
    }
   ],
   "source": [
    "import json\n",
    "from tqdm import tqdm\n",
    "\n",
    "texts = []\n",
    "\n",
    "for f in files:\n",
    "    with open(f) as fopen:\n",
    "        for l in tqdm(fopen):\n",
    "            data = json.loads(l)\n",
    "            triples = []\n",
    "            for t in data['triples']:\n",
    "                triples.append([t['subject']['surfaceform'], t['predicate']['surfaceform'], t['object']['surfaceform']])\n",
    "            kg = rebel_format(triples).strip()\n",
    "            text = data['text'].strip()\n",
    "            texts.extend([text, kg])"
   ]
  },
  {
   "cell_type": "code",
   "execution_count": 13,
   "id": "ccf17e87",
   "metadata": {},
   "outputs": [
    {
     "data": {
      "text/plain": [
       "5691048"
      ]
     },
     "execution_count": 13,
     "metadata": {},
     "output_type": "execute_result"
    }
   ],
   "source": [
    "texts = [t for t in texts if len(t)]\n",
    "texts = list(set(texts))\n",
    "len(texts)"
   ]
  },
  {
   "cell_type": "code",
   "execution_count": 17,
   "id": "08be45c8",
   "metadata": {},
   "outputs": [
    {
     "data": {
      "text/plain": [
       "18.0"
      ]
     },
     "execution_count": 17,
     "metadata": {},
     "output_type": "execute_result"
    }
   ],
   "source": [
    "len(texts) // 3e5"
   ]
  },
  {
   "cell_type": "code",
   "execution_count": 14,
   "id": "b9d40a83",
   "metadata": {},
   "outputs": [
    {
     "data": {
      "text/plain": [
       "['Ham salad is a traditional Anglo-American salad. Ham salad resembles chicken salad, egg salad, and tuna salad (as well as starch-based salads like potato salad, macaroni salad, and pea salad): the primary ingredient, ham, is mixed with smaller amounts of chopped vegetables or relishes, and the whole is bound with liberal amounts of a mayonnaise, salad cream, or other similar style of salad dressing, such as Miracle Whip.',\n",
       " '<triplet> Juliette Nesville <subj> 30 July 1869 <obj> date of birth <subj> 26 July 1900 <obj> date of death <triplet> Robert Planquette <subj> Paris Conservatoire <obj> educated at',\n",
       " '<triplet> Museo de Arte Moderno y Contemporáneo de Santander y Cantabria <subj> art museum <obj> instance of <subj> Santander, Spain <obj> located in the administrative territorial entity',\n",
       " 'Steve Mantis (born 1950) is a Canadian advocate for injured workers and people with disabilities. Best known for years of volunteer efforts to build a \"fair and comprehensive\" system for workers injured on the job, Mantis organized injured worker self-help groups locally in Thunder Bay, then regionally in Northwestern Ontario by co-founding the Ontario Network of Injured Workers Groups and nationally by co-founding the Canadian Injured Workers Alliance. Mantis was appointed to the Board of Directors of the Ontario Workers Compensation Board from 1991 to 1994.\\n\\nMantis was nominated as a candidate in the provincial electoral district of Thunder Bay-Superior North in the 2011 Ontario general election. He is a member of the Ontario New Democratic Party.',\n",
       " '<triplet> Utsunomiya Brex <subj> basketball <obj> sport <subj> Tochigi Prefecture <obj> headquarters location',\n",
       " \"Winton, Washington is a small unincorporated community close to Lake Wenatchee and Wenatchee National Forest. It is in Chelan County in the state of Washington. The town's only school district, Cascade School District, is located in Leavenworth and includes five schools. It is assigned ZIP code 98826, the same as Leavenworth, Washington, approximately 10 miles (16\\xa0km) to the south.\",\n",
       " '<triplet> Funda Nakkaşoğlu <subj> basketball <obj> sport <subj> 22 September 1995 <obj> date of birth',\n",
       " '<triplet> Tasneem Aslam <subj> The Fletcher School of Law and Diplomacy <obj> educated at',\n",
       " '<triplet> Adam Werritty <subj> 18 July 1978 <obj> date of birth <triplet> Liam Fox <subj> UK Secretary of State for Defence <obj> position held <subj> Secretary of State for International Trade <obj> position held',\n",
       " 'Echeveria elegans, the Mexican snow ball, Mexican gem or white Mexican rose is a species of flowering plant in the family Crassulaceae, native to semi-desert habitats in Mexico.']"
      ]
     },
     "execution_count": 14,
     "metadata": {},
     "output_type": "execute_result"
    }
   ],
   "source": [
    "texts[:10]"
   ]
  },
  {
   "cell_type": "code",
   "execution_count": 15,
   "id": "730eb1c4",
   "metadata": {},
   "outputs": [],
   "source": [
    "with open('rebel.jsonl', 'w') as fopen:\n",
    "    for t in texts:\n",
    "        fopen.write(f'{json.dumps(t)}\\n')"
   ]
  },
  {
   "cell_type": "code",
   "execution_count": 18,
   "id": "d115ae0d",
   "metadata": {},
   "outputs": [],
   "source": [
    "!split -l 300000 -d --additional-suffix=.splitted rebel.jsonl rebel.jsonl"
   ]
  },
  {
   "cell_type": "code",
   "execution_count": 20,
   "id": "ad13560d",
   "metadata": {},
   "outputs": [
    {
     "name": "stdout",
     "output_type": "stream",
     "text": [
      "{\"src\": \"Paul Hogarth, OBE, RA (born Arthur Paul Hoggarth) (4 October 1917\\u00a0\\u2013 27 December 2001) was an English artist and illustrator. He is best known for the cover drawings that he prepared in the 1980s for the Penguin edition of Graham Greene's books. He had distant connection with William Hogarth, whose father was also born Hoggarth.\", \"r\": \"Paul Hogarth, OBE, RA (lahir Arthur Paul Hoggarth) (4 Oktober 1917 - 27 Disember 2001) ialah seorang artis dan ilustrator Inggeris. Dia terkenal dengan lukisan muka depan yang disediakannya pada tahun 1980-an untuk edisi Penguin buku Graham Greene. Dia mempunyai hubungan yang jauh dengan William Hogarth, yang bapanya juga dilahirkan Hoggarth.\"}\r\n",
      "{\"src\": \"<triplet> I Only Get This Way with You <subj> country music <obj> genre <subj> Rick Trevino <obj> performer <subj> Learning as You Go <obj> part of <triplet> Rick Trevino <subj> country music <obj> genre <triplet> Hot Country Singles & Tracks <subj> Billboard <obj> publisher\", \"r\": \"<triplet> Saya Hanya Dapatkan Cara Ini dengan Anda <subj> muzik desa <obj> genre <subj> Rick Trevino <obj> penghibur <subj> Belajar sebagai Anda Pergi <obj> sebahagian daripada <triplet> Rick Trevino <subj> muzik desa <obj> genre <triplet> Single & Trek Negara Panas <subj> Billboard <obj> penerbit\"}\r\n",
      "{\"src\": \"<triplet> Anthony Elujoba <subj> 1948 <obj> date of birth <triplet> Obafemi Awolowo University <subj> Nigeria <obj> country\", \"r\": \"<triplet> Anthony Elujoba <subj> 1948 <obj> tarikh lahir <triplet> Universiti Obafemi Awolowo <subj> Nigeria <obj> negara\"}\r\n",
      "{\"src\": \"Casimir Schmidt (born ) is a Dutch male artistic gymnast and part of the national team. He won the silver medal in the men's vault event at the 2015 European Games in Baku. He participated at the 2013 World Artistic Gymnastics Championships and 2015 World Artistic Gymnastics Championships in Glasgow.\", \"r\": \"Casimir Schmidt (lahir ) ialah seorang gimnas artistik lelaki Belanda dan sebahagian daripada pasukan kebangsaan. Dia memenangi pingat perak dalam acara lompat lelaki di Sukan Eropah 2015 di Baku. Beliau menyertai Kejohanan Gimnastik Artistik Dunia 2013 dan Kejohanan Gimnastik Artistik Dunia 2015 di Glasgow.\"}\r\n",
      "{\"src\": \"David Lorrimer (16 January 1865 \\u2013 12 November 1925) was an English cricketer. Lorrimer was a right-handed batsman. He was born at Leicester.\\n\\nLorrimer made his first-class debut for Leicestershire against Warwickshire in 1894 at Grace Road (a match in which his brother, Alexander, also made his first-class debut). He made eight further first-class appearances for the county, the last of which came against Dublin University in 1895. In his nine matches he scored 194 runs at an average of 12.12, with a high score of 46.\\n\\nHe died at Boscombe, Hampshire, on 12 November 1925.\", \"r\": \"David Lorrimer (16 Januari 1865 - 12 November 1925) ialah seorang pemain kriket Inggeris. Lorrimer adalah seorang pemukul tangan kanan. Dia dilahirkan di Leicester.\\n\\nLorrimer membuat penampilan sulung kelas pertamanya untuk Leicestershire menentang Warwickshire pada tahun 1894 di Grace Road (perlawanan di mana abangnya, Alexander, juga membuat penampilan sulung kelas pertamanya). Dia membuat lapan lagi penampilan kelas pertama untuk daerah itu, yang terakhir menentang Universiti Dublin pada tahun 1895. Dalam sembilan perlawanannya, dia menjaringkan 194 larian pada purata 12.12, dengan markah tinggi 46.\\n\\nDia meninggal dunia di Boscombe, Hampshire, pada 12 November 1925.\"}\r\n",
      "{\"src\": \"Norbert Elgert (born 13 January 1957) is a German football manager and former player. He is the manager of the U19 team of Schalke 04 since 1996 (with a short interruption).\\n\\nElgert won the German U19 championship with the team in 2006, 2012 and 2015. \\n\\nHe coached the later German world champions Mesut \\u00d6zil, Manuel Neuer, Benedikt H\\u00f6wedes and Julian Draxler as well as Leroy San\\u00e9, Jo\\u00ebl Matip and Sead Kola\\u0161inac.\\n\\nIn 2013, he was named the German coach of the year by the German Football Association.\\n\\nHe is a member of the Schalke Hall of Fame (\\\"Ehrenkabine\\\").\", \"r\": \"Norbert Elgert (lahir 13 Januari 1957) ialah pengurus bola sepak Jerman dan bekas pemain. Beliau ialah pengurus pasukan U19 Schalke 04 sejak 1996 (dengan gangguan singkat).\\n\\nElgert memenangi kejuaraan U19 Jerman bersama pasukan itu pada 2006, 2012 dan 2015.\\n\\nDia melatih juara dunia Jerman Mesut zil, Manuel Neuer, Benedikt Hwedes dan Julian Draxler serta Leroy San, Jol Matip dan Sead Kolainac.\\n\\nPada 2013, beliau dinamakan sebagai jurulatih Jerman tahun ini oleh Persatuan Bola Sepak Jerman.\\n\\nBeliau adalah ahli Dewan Kemasyhuran Schalke (\\\"Ehrenkabine\\\").\"}\r\n",
      "{\"src\": \"Danuta Joppek is a Polish artist and painter. She was curator and co-organiser of some exhibitions in Poland and abroad, and the author of analytical texts about art.\", \"r\": \"Danuta Joppek ialah seorang artis dan pelukis Poland. Beliau adalah kurator dan penganjur bersama beberapa pameran di Poland dan luar negara, dan pengarang teks analisis tentang seni.\"}\r\n",
      "{\"src\": \"Total quarterback rating (abbreviated as total QBR or simply QBR) is a proprietary statistic created by ESPN in 2011 to measure the performance of quarterbacks in American football. It incorporates all of a quarterback's contributions to winning, including how he impacts the game on passes, rushes, turnovers, and penalties. Since QBR is built from the play level, it accounts for a team's level of success or failure on every play to provide the proper context, then allocates credit to the quarterback and his teammates to produce a clearer measure of quarterback efficiency. It was created to be a more meaningful alternative to the passer rating but has been met with criticism among fans and commentators alike.\", \"r\": \"Jumlah penarafan quarterback (dibezakan dengan jumlah QBR atau ringkasnya QBR) ialah statistik proprietari yang dicipta oleh ESPN pada tahun 2011 untuk mengukur prestasi quarterback dalam bola sepak Amerika. Ia menggabungkan semua sumbangan quarterback untuk menang, termasuk cara dia memberi kesan kepada permainan pada hantaran, tergesa-gesa, pusing ganti dan penalti. Memandangkan QBR dibina dari peringkat permainan, ia menyumbang tahap kejayaan atau kegagalan pasukan pada setiap permainan untuk menyediakan konteks yang betul, kemudian memperuntukkan kredit kepada quarterback dan rakan sepasukannya untuk menghasilkan ukuran kecekapan quarterback yang lebih jelas. Ia dicipta untuk menjadi alternatif yang lebih bermakna kepada penarafan hantaran tetapi telah mendapat kritikan di kalangan peminat dan pengulas.\"}\r\n",
      "{\"src\": \"<triplet> Asl\\u0131 Bekiro\\u011flu <subj> 16 November 1995 <obj> date of birth\", \"r\": \"<triplet> Asl Bekirolu <subj> 16 November 1995 <obj> tarikh lahir\"}\r\n",
      "{\"src\": \"<triplet> Qalehgah-e Gudarz <subj> Sara Rural District <obj> located in the administrative territorial entity <triplet> Sara Rural District <subj> Central District <obj> located in the administrative territorial entity <subj> Iran <obj> country <triplet> Central District <subj> Saqqez County <obj> located in the administrative territorial entity <subj> Iran <obj> country <triplet> Saqqez County <subj> Central District <obj> contains administrative territorial entity <subj> Kurdistan Province <obj> located in the administrative territorial entity <subj> Iran <obj> country <triplet> Kurdistan Province <subj> Saqqez County <obj> contains administrative territorial entity <subj> Iran <obj> located in the administrative territorial entity <triplet> Iran <subj> Kurdistan Province <obj> contains administrative territorial entity\", \"r\": \"<triplet> Qalehgah-e Gudarz <subj> Daerah Luar Bandar Sara <obj> terletak dalam entiti wilayah pentadbiran <triplet> Daerah Luar Bandar Sara <subj> Daerah Tengah <obj> terletak dalam entiti wilayah pentadbiran <subj> Iran <obj> negara <triplet> Daerah Tengah <subj> Daerah Saqqez <obj> terletak dalam entiti wilayah pentadbiran <subj> Iran <obj> negara <triplet> Daerah Saqqez <subj> Daerah Tengah <obj> mengandungi entiti wilayah pentadbiran <subj> Wilayah Kurdistan <obj> terletak dalam entiti wilayah pentadbiran <subj> Iran <obj> negara <triplet> Wilayah Kurdistan <subj> Daerah Saqqez <obj> mengandungi entiti wilayah pentadbiran <subj> Iran <obj> terletak dalam entiti wilayah pentadbiran <triplet> Iran <subj> Wilayah Kurdistan <obj> mengandungi entiti wilayah pentadbiran\"}\r\n"
     ]
    }
   ],
   "source": [
    "!tail -n 10 rebel.jsonl00.splitted.requested"
   ]
  },
  {
   "cell_type": "code",
   "execution_count": null,
   "id": "9599f5d4",
   "metadata": {},
   "outputs": [],
   "source": []
  }
 ],
 "metadata": {
  "kernelspec": {
   "display_name": "Python 3 (ipykernel)",
   "language": "python",
   "name": "python3"
  },
  "language_info": {
   "codemirror_mode": {
    "name": "ipython",
    "version": 3
   },
   "file_extension": ".py",
   "mimetype": "text/x-python",
   "name": "python",
   "nbconvert_exporter": "python",
   "pygments_lexer": "ipython3",
   "version": "3.8.10"
  }
 },
 "nbformat": 4,
 "nbformat_minor": 5
}
