{
 "cells": [
  {
   "cell_type": "code",
   "execution_count": 1,
   "id": "7249f4da",
   "metadata": {},
   "outputs": [],
   "source": [
    "from glob import glob\n",
    "import json\n",
    "import os\n",
    "import re\n",
    "\n",
    "def rebel_format(triplets):\n",
    "    \"\"\"\n",
    "    Convert\n",
    "    [['Bruno Santana', 'participant of', '2004 Summer Olympics'],\n",
    "    ['Bruno Santana', 'participant of', '2008 Summer Olympics'],\n",
    "    ['Bruno Santana', 'country of citizenship', 'Brazil']]\n",
    "    to rebel format,\n",
    "    <triplet> Bruno Santana <subj> 2004 Summer Olympics <obj> participant of <subj> 2008 Summer Olympics <obj> participant of <subj> Brazil <obj> country of citizenship\n",
    "    \"\"\"\n",
    "    q = []\n",
    "    for no, triple in enumerate(triplets):\n",
    "        obj = ['<obj>'] + triple[1].split()\n",
    "        subj = ['<subj>'] + triple[2].split()\n",
    "        if no > 0 and triple[0] == triplets[no - 1][0]:\n",
    "            q.extend(subj + obj)\n",
    "        else:\n",
    "            triplet = ['<triplet>'] + triple[0].split()\n",
    "            q.extend(triplet + subj + obj)\n",
    "    \n",
    "    return re.sub(r'[ ]+', ' ', ' '.join(q)).strip()"
   ]
  },
  {
   "cell_type": "code",
   "execution_count": 2,
   "id": "fc036b1a",
   "metadata": {},
   "outputs": [],
   "source": [
    "files = ['kg-astroawani.jsonl', 'kg-paragraph-wikipedia.jsonl']"
   ]
  },
  {
   "cell_type": "code",
   "execution_count": 3,
   "id": "b651d339",
   "metadata": {},
   "outputs": [
    {
     "data": {
      "text/plain": [
       "'/home/ssd3/kg/kg-astroawani.jsonl'"
      ]
     },
     "execution_count": 3,
     "metadata": {},
     "output_type": "execute_result"
    }
   ],
   "source": [
    "os.path.join('/home/ssd3/kg', files[0])"
   ]
  },
  {
   "cell_type": "code",
   "execution_count": 4,
   "id": "aba6bf6b",
   "metadata": {},
   "outputs": [
    {
     "data": {
      "text/plain": [
       "140163"
      ]
     },
     "execution_count": 4,
     "metadata": {},
     "output_type": "execute_result"
    }
   ],
   "source": [
    "texts = []\n",
    "\n",
    "with open(os.path.join('/home/husein/ssd3/kg', 'kg-astroawani.jsonl')) as fopen:\n",
    "    for l in fopen:\n",
    "        l = json.loads(l)\n",
    "        \n",
    "        if l['title_kg']:\n",
    "            triples = []\n",
    "            for t in l['title_kg']['triplets']:\n",
    "                triples.append([t['subject'], t['predicate'], t['object']])\n",
    "            kg = rebel_format(triples).strip()\n",
    "            texts.append(kg)\n",
    "                \n",
    "        if l['description_kg']:\n",
    "            triples = []\n",
    "            for t in l['description_kg']['triplets']:\n",
    "                triples.append([t['subject'], t['predicate'], t['object']])\n",
    "            kg = rebel_format(triples).strip()\n",
    "            texts.append(kg)\n",
    "        \n",
    "        for row in l['body_kg']:\n",
    "            if row[1]:\n",
    "                triples = []\n",
    "                for t in row[1]['triplets']:\n",
    "                    triples.append([t['subject'], t['predicate'], t['object']])\n",
    "                kg = rebel_format(triples).strip()\n",
    "                texts.append(kg)\n",
    "len(texts)         "
   ]
  },
  {
   "cell_type": "code",
   "execution_count": 5,
   "id": "9f442e3e",
   "metadata": {},
   "outputs": [
    {
     "data": {
      "text/plain": [
       "216895"
      ]
     },
     "execution_count": 5,
     "metadata": {},
     "output_type": "execute_result"
    }
   ],
   "source": [
    "with open(os.path.join('/home/husein/ssd3/kg', 'kg-paragraph-wikipedia.jsonl')) as fopen:\n",
    "    for l in fopen:\n",
    "        l = json.loads(l)\n",
    "        for row in l['paragraph_kg']:\n",
    "            if row[1]:\n",
    "                triples = []\n",
    "                for t in row[1]['triplets']:\n",
    "                    triples.append([t['subject'], t['predicate'], t['object']])\n",
    "                kg = rebel_format(triples).strip()\n",
    "                texts.append(kg)\n",
    "                \n",
    "len(texts)"
   ]
  },
  {
   "cell_type": "code",
   "execution_count": 6,
   "id": "4d1f68ee",
   "metadata": {},
   "outputs": [
    {
     "data": {
      "text/plain": [
       "213313"
      ]
     },
     "execution_count": 6,
     "metadata": {},
     "output_type": "execute_result"
    }
   ],
   "source": [
    "texts = [t for t in texts if len(t)]\n",
    "texts = list(set(texts))\n",
    "len(texts)"
   ]
  },
  {
   "cell_type": "code",
   "execution_count": 7,
   "id": "bb82dbed",
   "metadata": {},
   "outputs": [
    {
     "data": {
      "text/plain": [
       "'<triplet> Perdagangan utama SPLASH <subj> air rawat <obj> penghasilan <subj> pukal <obj> dijual dalam bentuk <subj> Syarikat Bekalan Air Selangor (SYABAS) <obj> kepada <triplet> Syarikat Bekalan Air Selangor (SYABAS) <subj> Selangor dan Wilayah Persekutuan di Kuala Lumpur & Putrajaya <obj> menyelia pelanggan di'"
      ]
     },
     "execution_count": 7,
     "metadata": {},
     "output_type": "execute_result"
    }
   ],
   "source": [
    "texts[0]"
   ]
  },
  {
   "cell_type": "code",
   "execution_count": 8,
   "id": "862acf2e",
   "metadata": {},
   "outputs": [],
   "source": [
    "with open('chatgpt-kg-triplets.jsonl', 'w') as fopen:\n",
    "    for t in texts:\n",
    "        fopen.write(f'{json.dumps(t)}\\n')"
   ]
  },
  {
   "cell_type": "code",
   "execution_count": null,
   "id": "31903b59",
   "metadata": {},
   "outputs": [],
   "source": []
  }
 ],
 "metadata": {
  "kernelspec": {
   "display_name": "Python 3 (ipykernel)",
   "language": "python",
   "name": "python3"
  },
  "language_info": {
   "codemirror_mode": {
    "name": "ipython",
    "version": 3
   },
   "file_extension": ".py",
   "mimetype": "text/x-python",
   "name": "python",
   "nbconvert_exporter": "python",
   "pygments_lexer": "ipython3",
   "version": "3.8.10"
  }
 },
 "nbformat": 4,
 "nbformat_minor": 5
}
