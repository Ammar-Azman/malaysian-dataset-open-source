{
 "cells": [
  {
   "cell_type": "code",
   "execution_count": 20,
   "id": "7249f4da",
   "metadata": {},
   "outputs": [],
   "source": [
    "from glob import glob\n",
    "import json\n",
    "import os\n",
    "import re\n",
    "from tqdm import tqdm\n",
    "\n",
    "def rebel_format(triplets):\n",
    "    \"\"\"\n",
    "    Convert\n",
    "    [['Bruno Santana', 'participant of', '2004 Summer Olympics'],\n",
    "    ['Bruno Santana', 'participant of', '2008 Summer Olympics'],\n",
    "    ['Bruno Santana', 'country of citizenship', 'Brazil']]\n",
    "    to rebel format,\n",
    "    <triplet> Bruno Santana <subj> 2004 Summer Olympics <obj> participant of <subj> 2008 Summer Olympics <obj> participant of <subj> Brazil <obj> country of citizenship\n",
    "    \"\"\"\n",
    "    q = []\n",
    "    for no, triple in enumerate(triplets):\n",
    "        obj = ['<obj>'] + triple[1].split()\n",
    "        subj = ['<subj>'] + triple[2].split()\n",
    "        if no > 0 and triple[0] == triplets[no - 1][0]:\n",
    "            q.extend(subj + obj)\n",
    "        else:\n",
    "            triplet = ['<triplet>'] + triple[0].split()\n",
    "            q.extend(triplet + subj + obj)\n",
    "    \n",
    "    return re.sub(r'[ ]+', ' ', ' '.join(q)).strip()\n",
    "\n",
    "def parse_rebel(text):\n",
    "    triplets = []\n",
    "    relation, subject, relation, object_ = '', '', '', ''\n",
    "    text = text.strip()\n",
    "    current = 'x'\n",
    "    for token in text.replace('<s>', '').replace(\"<pad>\", '').replace('</s>', '').split():\n",
    "        if token == '<triplet>':\n",
    "            current = 't'\n",
    "            if relation != '':\n",
    "                triplets.append(\n",
    "                    {'head': subject.strip(), 'type': relation.strip(), 'tail': object_.strip()})\n",
    "                relation = ''\n",
    "            subject = ''\n",
    "        elif token == '<subj>':\n",
    "            current = 's'\n",
    "            if relation != '':\n",
    "                triplets.append(\n",
    "                    {'head': subject.strip(), 'type': relation.strip(), 'tail': object_.strip()})\n",
    "            object_ = ''\n",
    "        elif token == '<obj>':\n",
    "            current = 'o'\n",
    "            relation = ''\n",
    "        else:\n",
    "            if current == 't':\n",
    "                subject += ' ' + token\n",
    "            elif current == 's':\n",
    "                object_ += ' ' + token\n",
    "            elif current == 'o':\n",
    "                relation += ' ' + token\n",
    "    if subject != '' and relation != '' and object_ != '':\n",
    "        triplets.append({'head': subject.strip(),\n",
    "                         'type': relation.strip(),\n",
    "                         'tail': object_.strip()})\n",
    "    return triplets"
   ]
  },
  {
   "cell_type": "code",
   "execution_count": 2,
   "id": "fc036b1a",
   "metadata": {},
   "outputs": [],
   "source": [
    "files = ['kg-astroawani.jsonl', 'kg-paragraph-wikipedia.jsonl']"
   ]
  },
  {
   "cell_type": "code",
   "execution_count": 4,
   "id": "9c3a43bd",
   "metadata": {},
   "outputs": [
    {
     "data": {
      "text/plain": [
       "213313"
      ]
     },
     "execution_count": 4,
     "metadata": {},
     "output_type": "execute_result"
    }
   ],
   "source": [
    "mapping = {}\n",
    "for f in glob('chatgpt-kg-triplets.jsonl*.splitted.requested'):\n",
    "    with open(f) as fopen:\n",
    "        for l in fopen:\n",
    "            l = json.loads(l)\n",
    "            mapping[l['src']] = l['r']\n",
    "            \n",
    "len(mapping)"
   ]
  },
  {
   "cell_type": "code",
   "execution_count": 21,
   "id": "8b1fd391",
   "metadata": {},
   "outputs": [],
   "source": [
    "def parse_kg_ms(kg_ms):\n",
    "    if isinstance(kg_ms, str):\n",
    "        kg_ms = kg_ms.replace('Tempat terbang', 'triplet')\n",
    "        if kg_ms[:1] == '\"':\n",
    "            kg_ms = kg_ms[1:]\n",
    "        if kg_ms[-1] == '\"':\n",
    "            kg_ms = kg_ms[:-1]\n",
    "        if kg_ms[:1] == \"'\":\n",
    "            kg_ms = kg_ms[1:]\n",
    "        if kg_ms[-1] == \"'\":\n",
    "            kg_ms = kg_ms[:-1]\n",
    "        try:\n",
    "            kg_ms = parse_rebel(kg_ms)\n",
    "        except Exception as e:\n",
    "            print(e)\n",
    "            kg_ms = None\n",
    "    return kg_ms"
   ]
  },
  {
   "cell_type": "code",
   "execution_count": 22,
   "id": "3602dbc6",
   "metadata": {},
   "outputs": [
    {
     "name": "stderr",
     "output_type": "stream",
     "text": [
      "9162it [00:02, 3564.52it/s]\n"
     ]
    }
   ],
   "source": [
    "with open('kg-astroawani.translated.jsonl', 'w') as fopen_l:\n",
    "\n",
    "    with open(os.path.join('/home/husein/ssd3/kg', 'kg-astroawani.jsonl')) as fopen:\n",
    "        for l in tqdm(fopen):\n",
    "            l = json.loads(l)\n",
    "\n",
    "            if l['title_kg']:\n",
    "                triples = []\n",
    "                for t in l['title_kg']['triplets']:\n",
    "                    triples.append([t['subject'], t['predicate'], t['object']])\n",
    "                kg = rebel_format(triples).strip()\n",
    "                kg_ms = mapping.get(kg)\n",
    "                kg_ms = parse_kg_ms(kg_ms)\n",
    "\n",
    "                l['title_kg_ms'] = kg_ms\n",
    "\n",
    "            if l['description_kg']:\n",
    "                triples = []\n",
    "                for t in l['description_kg']['triplets']:\n",
    "                    triples.append([t['subject'], t['predicate'], t['object']])\n",
    "                kg = rebel_format(triples).strip()\n",
    "                kg_ms = mapping.get(kg)\n",
    "                kg_ms = parse_kg_ms(kg_ms)\n",
    "\n",
    "                l['description_kg_ms'] = kg_ms\n",
    "\n",
    "            body_kg_ms = []\n",
    "            for row in l['body_kg']:\n",
    "                if row[1]:\n",
    "                    triples = []\n",
    "                    for t in row[1]['triplets']:\n",
    "                        triples.append([t['subject'], t['predicate'], t['object']])\n",
    "                    kg = rebel_format(triples).strip()\n",
    "                    kg_ms = mapping.get(kg)\n",
    "                    kg_ms = parse_kg_ms(kg_ms)\n",
    "                    body_kg_ms.append((row[0], kg_ms))\n",
    "            l['body_kg_ms'] = body_kg_ms\n",
    "            \n",
    "            fopen_l.write(f'{json.dumps(l)}\\n')"
   ]
  },
  {
   "cell_type": "code",
   "execution_count": 26,
   "id": "3aaaa1a3",
   "metadata": {},
   "outputs": [
    {
     "name": "stderr",
     "output_type": "stream",
     "text": [
      "25032it [00:02, 8514.97it/s]\n"
     ]
    }
   ],
   "source": [
    "with open('kg-paragraph-wikipedia.translated.jsonl', 'w') as fopen_l:\n",
    "\n",
    "    with open(os.path.join('/home/husein/ssd3/kg', 'kg-paragraph-wikipedia.jsonl')) as fopen:\n",
    "        for l in tqdm(fopen):\n",
    "            l = json.loads(l)\n",
    "            paragraph_kg_ms = []\n",
    "            for row in l['paragraph_kg']:\n",
    "                if row[1]:\n",
    "                    triples = []\n",
    "                    for t in row[1]['triplets']:\n",
    "                        triples.append([t['subject'], t['predicate'], t['object']])\n",
    "                    kg = rebel_format(triples).strip()\n",
    "                    kg_ms = mapping.get(kg)\n",
    "                    kg_ms = parse_kg_ms(kg_ms)\n",
    "                    paragraph_kg_ms.append((row[0], kg_ms))\n",
    "            l['paragraph_kg_ms'] = paragraph_kg_ms\n",
    "\n",
    "            fopen_l.write(f'{json.dumps(l)}\\n')"
   ]
  },
  {
   "cell_type": "code",
   "execution_count": 27,
   "id": "31903b59",
   "metadata": {},
   "outputs": [
    {
     "name": "stdout",
     "output_type": "stream",
     "text": [
      "{\"paragraph\": [\"Sir Francis Owen Garbatt Williams CBE (lahir 16 April 1942) ialah pengasas dan ketua pasukan bagi pasukan Formula Satu WilliamsF1.\"], \"paragraph_kg\": [[\"Sir Francis Owen Garbatt Williams CBE (lahir 16 April 1942) ialah pengasas dan ketua pasukan bagi pasukan Formula Satu WilliamsF1.\", null]], \"paragraph_kg_ms\": []}\r\n",
      "{\"paragraph\": [\"Menurut bancian India pada tahun 2001, Remuna memiliki bilangan penduduk seramai 28,958. Dari jumlah tersebut, kaum lelaki membentuk 52% dari jumlah keseluruhan populasi dan wanita seramai 48%. \", \"Menurut bancian India pada tahun 2001 Remuna memiliki kadar pendidikan (kebolehan membaca) 61%, melebihi kadar purata kebangsaan 59.5%; dengan 59% lelaki dan 41% wanita mampu membaca. 14% dari populasi berusia di bawah 6 tahun. (2001)\"], \"paragraph_kg\": [[\"Menurut bancian India pada tahun 2001, Remuna memiliki bilangan penduduk seramai 28,958. Dari jumlah tersebut, kaum lelaki membentuk 52% dari jumlah keseluruhan populasi dan wanita seramai 48%. \", {\"triplets\": [{\"subject\": \"Remuna\", \"predicate\": \"population\", \"object\": \"28958\"}, {\"subject\": \"Remuna\", \"predicate\": \"male_population_percentage\", \"object\": \"52\"}, {\"subject\": \"Remuna\", \"predicate\": \"female_population_percentage\", \"object\": \"48\"}]}], [\"Menurut bancian India pada tahun 2001 Remuna memiliki kadar pendidikan (kebolehan membaca) 61%, melebihi kadar purata kebangsaan 59.5%; dengan 59% lelaki dan 41% wanita mampu membaca. 14% dari populasi berusia di bawah 6 tahun. (2001)\", {\"triplets\": [{\"subject\": \"Remuna\", \"predicate\": \"pendidikan\", \"object\": \"61%\"}, {\"subject\": \"Remuna\", \"predicate\": \"kadar purata kebangsaan\", \"object\": \"59.5%\"}, {\"subject\": \"Remuna\", \"predicate\": \"lelaki mampu membaca\", \"object\": \"59%\"}, {\"subject\": \"Remuna\", \"predicate\": \"wanita mampu membaca\", \"object\": \"41%\"}, {\"subject\": \"Remuna\", \"predicate\": \"populasi berusia di bawah 6 tahun\", \"object\": \"14%\"}]}]], \"paragraph_kg_ms\": [[\"Menurut bancian India pada tahun 2001, Remuna memiliki bilangan penduduk seramai 28,958. Dari jumlah tersebut, kaum lelaki membentuk 52% dari jumlah keseluruhan populasi dan wanita seramai 48%. \", [{\"head\": \"Remuna\", \"type\": \"populasi\", \"tail\": \"28958\"}, {\"head\": \"Remuna\", \"type\": \"peratusan_populasi lelaki\", \"tail\": \"52\"}, {\"head\": \"Remuna\", \"type\": \"peratusan_populasi wanita\", \"tail\": \"48\"}]], [\"Menurut bancian India pada tahun 2001 Remuna memiliki kadar pendidikan (kebolehan membaca) 61%, melebihi kadar purata kebangsaan 59.5%; dengan 59% lelaki dan 41% wanita mampu membaca. 14% dari populasi berusia di bawah 6 tahun. (2001)\", [{\"head\": \"Remuna\", \"type\": \"pendidikan\", \"tail\": \"61%\"}, {\"head\": \"Remuna\", \"type\": \"kadar purata kebangsaan\", \"tail\": \"59.5%\"}, {\"head\": \"Remuna\", \"type\": \"lelaki mampu membaca\", \"tail\": \"59%\"}, {\"head\": \"Remuna\", \"type\": \"wanita mampu membaca\", \"tail\": \"41%\"}, {\"head\": \"Remuna\", \"type\": \"populasi berumur di bawah 6 tahun\", \"tail\": \"14%\"}]]]}\r\n",
      "{\"paragraph\": [\"Pencetak baris tanpa hentaman merupakan sejenis pencetak komputer yang menggunakan kaedah laser, elektrostatik atau kaedah pancutan dakwat adalah pencetak yang terlaju dan paling senyap. Pencetak laser Xerox 9700 misalnya, berkeupayaan mencetak lebih daripada 18,000 baris per minit.\", \"Sebelum pembangunan pencetak jet dakwat dan pencetak laser, pencetak tanpa hentaman tidak banyak digunakan kerana beberapa sebab: \"], \"paragraph_kg\": [[\"Pencetak baris tanpa hentaman merupakan sejenis pencetak komputer yang menggunakan kaedah laser, elektrostatik atau kaedah pancutan dakwat adalah pencetak yang terlaju dan paling senyap. Pencetak laser Xerox 9700 misalnya, berkeupayaan mencetak lebih daripada 18,000 baris per minit.\", {\"triplets\": [{\"subject\": \"Pencetak baris tanpa hentaman\", \"predicate\": \"jenis\", \"object\": \"pencetak komputer\"}, {\"subject\": \"Pencetak baris tanpa hentaman\", \"predicate\": \"kaedah\", \"object\": \"laser, elektrostatik, kaedah pancutan dakwat\"}, {\"subject\": \"Pencetak baris tanpa hentaman\", \"predicate\": \"kelajuan\", \"object\": \"terlaju\"}, {\"subject\": \"Pencetak baris tanpa hentaman\", \"predicate\": \"kesenyapan\", \"object\": \"paling senyap\"}, {\"subject\": \"Pencetak laser Xerox 9700\", \"predicate\": \"keupayaan mencetak\", \"object\": \"lebih daripada 18,000 baris per minit\"}]}], [\"Sebelum pembangunan pencetak jet dakwat dan pencetak laser, pencetak tanpa hentaman tidak banyak digunakan kerana beberapa sebab: \", {\"triplets\": [{\"subject\": \"pencetak\", \"predicate\": \"digunakan\", \"object\": \"tidak banyak\"}, {\"subject\": \"pencetak\", \"predicate\": \"tidak banyak digunakan\", \"object\": \"kerana beberapa sebab\"}]}]], \"paragraph_kg_ms\": [[\"Pencetak baris tanpa hentaman merupakan sejenis pencetak komputer yang menggunakan kaedah laser, elektrostatik atau kaedah pancutan dakwat adalah pencetak yang terlaju dan paling senyap. Pencetak laser Xerox 9700 misalnya, berkeupayaan mencetak lebih daripada 18,000 baris per minit.\", [{\"head\": \"Pencetak baris tanpa hentaman\", \"type\": \"jenis\", \"tail\": \"pencetak komputer\"}, {\"head\": \"Pencetak baris tanpa hentaman\", \"type\": \"kaedah\", \"tail\": \"laser, elektrostatik, kaedah pancutan dakwat\"}, {\"head\": \"Pencetak baris tanpa hentaman\", \"type\": \"kelajuan\", \"tail\": \"terlaju\"}, {\"head\": \"Pencetak baris tanpa hentaman\", \"type\": \"kesenyapan\", \"tail\": \"paling senyap\"}, {\"head\": \"Pencetak laser Xerox 9700\", \"type\": \"keupayaan untuk mencetak\", \"tail\": \"lebih daripada 18,000 baris setiap minit\"}]], [\"Sebelum pembangunan pencetak jet dakwat dan pencetak laser, pencetak tanpa hentaman tidak banyak digunakan kerana beberapa sebab: \", [{\"head\": \"pencetak\", \"type\": \"digunakan\", \"tail\": \"tidak banyak\"}, {\"head\": \"pencetak\", \"type\": \"tidak digunakan banyak\", \"tail\": \"kerana beberapa sebab\"}]]]}\r\n"
     ]
    }
   ],
   "source": [
    "!head -n 3 kg-paragraph-wikipedia.translated.jsonl"
   ]
  },
  {
   "cell_type": "code",
   "execution_count": null,
   "id": "1f3b4dc2",
   "metadata": {},
   "outputs": [],
   "source": []
  }
 ],
 "metadata": {
  "kernelspec": {
   "display_name": "Python 3 (ipykernel)",
   "language": "python",
   "name": "python3"
  },
  "language_info": {
   "codemirror_mode": {
    "name": "ipython",
    "version": 3
   },
   "file_extension": ".py",
   "mimetype": "text/x-python",
   "name": "python",
   "nbconvert_exporter": "python",
   "pygments_lexer": "ipython3",
   "version": "3.8.10"
  }
 },
 "nbformat": 4,
 "nbformat_minor": 5
}
